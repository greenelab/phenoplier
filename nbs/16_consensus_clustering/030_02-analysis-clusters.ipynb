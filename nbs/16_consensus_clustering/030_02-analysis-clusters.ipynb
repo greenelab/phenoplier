{
 "cells": [
  {
   "cell_type": "markdown",
   "metadata": {
    "papermill": {
     "duration": 0.011727,
     "end_time": "2021-05-08T22:58:41.611574",
     "exception": false,
     "start_time": "2021-05-08T22:58:41.599847",
     "status": "completed"
    },
    "tags": []
   },
   "source": [
    "# Description"
   ]
  },
  {
   "cell_type": "markdown",
   "metadata": {
    "papermill": {
     "duration": 0.007787,
     "end_time": "2021-05-08T22:58:41.627318",
     "exception": false,
     "start_time": "2021-05-08T22:58:41.619531",
     "status": "completed"
    },
    "tags": []
   },
   "source": [
    "The goal of this notebook is very simple: it just lists the content (traits/diseases) that belong to each cluster across all selected \"best partitions\". Although one would take a look at them here to check whether clusters of traits make sense, that analysis is carried out first by looking at the clustering trees (which are generated later). Then, this notebooks serves as a simple list with the content of the clusters."
   ]
  },
  {
   "cell_type": "markdown",
   "metadata": {
    "papermill": {
     "duration": 0.007872,
     "end_time": "2021-05-08T22:58:41.643166",
     "exception": false,
     "start_time": "2021-05-08T22:58:41.635294",
     "status": "completed"
    },
    "tags": []
   },
   "source": [
    "# Modules loading"
   ]
  },
  {
   "cell_type": "code",
   "execution_count": 1,
   "metadata": {
    "execution": {
     "iopub.execute_input": "2021-05-08T22:58:41.665075Z",
     "iopub.status.busy": "2021-05-08T22:58:41.664668Z",
     "iopub.status.idle": "2021-05-08T22:58:41.672203Z",
     "shell.execute_reply": "2021-05-08T22:58:41.671760Z"
    },
    "papermill": {
     "duration": 0.021093,
     "end_time": "2021-05-08T22:58:41.672297",
     "exception": false,
     "start_time": "2021-05-08T22:58:41.651204",
     "status": "completed"
    },
    "tags": []
   },
   "outputs": [],
   "source": [
    "%load_ext autoreload\n",
    "%autoreload 2"
   ]
  },
  {
   "cell_type": "code",
   "execution_count": 2,
   "metadata": {
    "execution": {
     "iopub.execute_input": "2021-05-08T22:58:41.691865Z",
     "iopub.status.busy": "2021-05-08T22:58:41.691494Z",
     "iopub.status.idle": "2021-05-08T22:58:41.880399Z",
     "shell.execute_reply": "2021-05-08T22:58:41.880014Z"
    },
    "papermill": {
     "duration": 0.19944,
     "end_time": "2021-05-08T22:58:41.880483",
     "exception": false,
     "start_time": "2021-05-08T22:58:41.681043",
     "status": "completed"
    },
    "tags": []
   },
   "outputs": [],
   "source": [
    "from IPython.display import display\n",
    "from pathlib import Path\n",
    "\n",
    "import pandas as pd\n",
    "\n",
    "from utils import generate_result_set_name\n",
    "import conf"
   ]
  },
  {
   "cell_type": "markdown",
   "metadata": {
    "papermill": {
     "duration": 0.007902,
     "end_time": "2021-05-08T22:58:41.896801",
     "exception": false,
     "start_time": "2021-05-08T22:58:41.888899",
     "status": "completed"
    },
    "tags": []
   },
   "source": [
    "# Settings"
   ]
  },
  {
   "cell_type": "code",
   "execution_count": 3,
   "metadata": {
    "execution": {
     "iopub.execute_input": "2021-05-08T22:58:41.915215Z",
     "iopub.status.busy": "2021-05-08T22:58:41.914857Z",
     "iopub.status.idle": "2021-05-08T22:58:41.929316Z",
     "shell.execute_reply": "2021-05-08T22:58:41.929613Z"
    },
    "papermill": {
     "duration": 0.025052,
     "end_time": "2021-05-08T22:58:41.929729",
     "exception": false,
     "start_time": "2021-05-08T22:58:41.904677",
     "status": "completed"
    },
    "tags": []
   },
   "outputs": [
    {
     "data": {
      "text/plain": [
       "PosixPath('/home/miltondp/projects/labs/greenelab/phenoplier/base/results/clustering/consensus_clustering')"
      ]
     },
     "metadata": {},
     "output_type": "display_data"
    }
   ],
   "source": [
    "CONSENSUS_CLUSTERING_DIR = Path(\n",
    "    conf.RESULTS[\"CLUSTERING_DIR\"], \"consensus_clustering\"\n",
    ").resolve()\n",
    "\n",
    "display(CONSENSUS_CLUSTERING_DIR)"
   ]
  },
  {
   "cell_type": "markdown",
   "metadata": {
    "papermill": {
     "duration": 0.01107,
     "end_time": "2021-05-08T22:58:41.951614",
     "exception": false,
     "start_time": "2021-05-08T22:58:41.940544",
     "status": "completed"
    },
    "tags": []
   },
   "source": [
    "## Load data"
   ]
  },
  {
   "cell_type": "code",
   "execution_count": 4,
   "metadata": {
    "execution": {
     "iopub.execute_input": "2021-05-08T22:58:41.974039Z",
     "iopub.status.busy": "2021-05-08T22:58:41.973630Z",
     "iopub.status.idle": "2021-05-08T22:58:41.981144Z",
     "shell.execute_reply": "2021-05-08T22:58:41.980768Z"
    },
    "papermill": {
     "duration": 0.01926,
     "end_time": "2021-05-08T22:58:41.981234",
     "exception": false,
     "start_time": "2021-05-08T22:58:41.961974",
     "status": "completed"
    },
    "tags": []
   },
   "outputs": [],
   "source": [
    "INPUT_SUBSET = \"umap\""
   ]
  },
  {
   "cell_type": "code",
   "execution_count": 5,
   "metadata": {
    "execution": {
     "iopub.execute_input": "2021-05-08T22:58:42.001685Z",
     "iopub.status.busy": "2021-05-08T22:58:42.001306Z",
     "iopub.status.idle": "2021-05-08T22:58:42.008411Z",
     "shell.execute_reply": "2021-05-08T22:58:42.008030Z"
    },
    "papermill": {
     "duration": 0.017862,
     "end_time": "2021-05-08T22:58:42.008497",
     "exception": false,
     "start_time": "2021-05-08T22:58:41.990635",
     "status": "completed"
    },
    "tags": []
   },
   "outputs": [],
   "source": [
    "INPUT_STEM = \"z_score_std-projection-smultixcan-efo_partial-mashr-zscores\""
   ]
  },
  {
   "cell_type": "code",
   "execution_count": 6,
   "metadata": {
    "execution": {
     "iopub.execute_input": "2021-05-08T22:58:42.028286Z",
     "iopub.status.busy": "2021-05-08T22:58:42.027922Z",
     "iopub.status.idle": "2021-05-08T22:58:42.035317Z",
     "shell.execute_reply": "2021-05-08T22:58:42.034847Z"
    },
    "papermill": {
     "duration": 0.017972,
     "end_time": "2021-05-08T22:58:42.035402",
     "exception": false,
     "start_time": "2021-05-08T22:58:42.017430",
     "status": "completed"
    },
    "tags": []
   },
   "outputs": [],
   "source": [
    "DR_OPTIONS = {\n",
    "    \"n_components\": 5,\n",
    "    \"metric\": \"euclidean\",\n",
    "    \"n_neighbors\": 15,\n",
    "    \"random_state\": 0,\n",
    "}"
   ]
  },
  {
   "cell_type": "code",
   "execution_count": 7,
   "metadata": {
    "execution": {
     "iopub.execute_input": "2021-05-08T22:58:42.056171Z",
     "iopub.status.busy": "2021-05-08T22:58:42.055761Z",
     "iopub.status.idle": "2021-05-08T22:58:42.064969Z",
     "shell.execute_reply": "2021-05-08T22:58:42.064634Z"
    },
    "papermill": {
     "duration": 0.020681,
     "end_time": "2021-05-08T22:58:42.065056",
     "exception": false,
     "start_time": "2021-05-08T22:58:42.044375",
     "status": "completed"
    },
    "tags": []
   },
   "outputs": [
    {
     "data": {
      "text/plain": [
       "PosixPath('/home/miltondp/projects/labs/greenelab/phenoplier/base/results/data_transformations/umap/umap-z_score_std-projection-smultixcan-efo_partial-mashr-zscores-metric_euclidean-n_components_5-n_neighbors_15-random_state_0.pkl')"
      ]
     },
     "metadata": {},
     "output_type": "display_data"
    },
    {
     "data": {
      "text/plain": [
       "'umap-z_score_std-projection-smultixcan-efo_partial-mashr-zscores-metric_euclidean-n_components_5-n_neighbors_15-random_state_0'"
      ]
     },
     "metadata": {},
     "output_type": "display_data"
    }
   ],
   "source": [
    "input_filepath = Path(\n",
    "    conf.RESULTS[\"DATA_TRANSFORMATIONS_DIR\"],\n",
    "    INPUT_SUBSET,\n",
    "    generate_result_set_name(\n",
    "        DR_OPTIONS, prefix=f\"{INPUT_SUBSET}-{INPUT_STEM}-\", suffix=\".pkl\"\n",
    "    ),\n",
    ").resolve()\n",
    "display(input_filepath)\n",
    "\n",
    "assert input_filepath.exists(), \"Input file does not exist\"\n",
    "\n",
    "input_filepath_stem = input_filepath.stem\n",
    "display(input_filepath_stem)"
   ]
  },
  {
   "cell_type": "code",
   "execution_count": 8,
   "metadata": {
    "execution": {
     "iopub.execute_input": "2021-05-08T22:58:42.085986Z",
     "iopub.status.busy": "2021-05-08T22:58:42.085628Z",
     "iopub.status.idle": "2021-05-08T22:58:42.093817Z",
     "shell.execute_reply": "2021-05-08T22:58:42.094148Z"
    },
    "papermill": {
     "duration": 0.019889,
     "end_time": "2021-05-08T22:58:42.094258",
     "exception": false,
     "start_time": "2021-05-08T22:58:42.074369",
     "status": "completed"
    },
    "tags": []
   },
   "outputs": [],
   "source": [
    "data_umap = pd.read_pickle(input_filepath)"
   ]
  },
  {
   "cell_type": "code",
   "execution_count": 9,
   "metadata": {
    "execution": {
     "iopub.execute_input": "2021-05-08T22:58:42.115240Z",
     "iopub.status.busy": "2021-05-08T22:58:42.114861Z",
     "iopub.status.idle": "2021-05-08T22:58:42.122869Z",
     "shell.execute_reply": "2021-05-08T22:58:42.122491Z"
    },
    "papermill": {
     "duration": 0.019255,
     "end_time": "2021-05-08T22:58:42.122953",
     "exception": false,
     "start_time": "2021-05-08T22:58:42.103698",
     "status": "completed"
    },
    "tags": []
   },
   "outputs": [
    {
     "data": {
      "text/plain": [
       "(3752, 5)"
      ]
     },
     "execution_count": 9,
     "metadata": {},
     "output_type": "execute_result"
    }
   ],
   "source": [
    "data_umap.shape"
   ]
  },
  {
   "cell_type": "code",
   "execution_count": 10,
   "metadata": {
    "execution": {
     "iopub.execute_input": "2021-05-08T22:58:42.144138Z",
     "iopub.status.busy": "2021-05-08T22:58:42.143764Z",
     "iopub.status.idle": "2021-05-08T22:58:42.156597Z",
     "shell.execute_reply": "2021-05-08T22:58:42.156287Z"
    },
    "papermill": {
     "duration": 0.02423,
     "end_time": "2021-05-08T22:58:42.156685",
     "exception": false,
     "start_time": "2021-05-08T22:58:42.132455",
     "status": "completed"
    },
    "tags": []
   },
   "outputs": [
    {
     "data": {
      "text/html": [
       "<div>\n",
       "<style scoped>\n",
       "    .dataframe tbody tr th:only-of-type {\n",
       "        vertical-align: middle;\n",
       "    }\n",
       "\n",
       "    .dataframe tbody tr th {\n",
       "        vertical-align: top;\n",
       "    }\n",
       "\n",
       "    .dataframe thead th {\n",
       "        text-align: right;\n",
       "    }\n",
       "</style>\n",
       "<table border=\"1\" class=\"dataframe\">\n",
       "  <thead>\n",
       "    <tr style=\"text-align: right;\">\n",
       "      <th></th>\n",
       "      <th>UMAP1</th>\n",
       "      <th>UMAP2</th>\n",
       "      <th>UMAP3</th>\n",
       "      <th>UMAP4</th>\n",
       "      <th>UMAP5</th>\n",
       "    </tr>\n",
       "  </thead>\n",
       "  <tbody>\n",
       "    <tr>\n",
       "      <th>100001_raw-Food_weight</th>\n",
       "      <td>0.426554</td>\n",
       "      <td>0.670532</td>\n",
       "      <td>7.363805</td>\n",
       "      <td>1.171837</td>\n",
       "      <td>6.297295</td>\n",
       "    </tr>\n",
       "    <tr>\n",
       "      <th>100002_raw-Energy</th>\n",
       "      <td>-1.605179</td>\n",
       "      <td>0.815699</td>\n",
       "      <td>8.288521</td>\n",
       "      <td>0.990394</td>\n",
       "      <td>6.817351</td>\n",
       "    </tr>\n",
       "    <tr>\n",
       "      <th>100003_raw-Protein</th>\n",
       "      <td>-1.656178</td>\n",
       "      <td>0.788297</td>\n",
       "      <td>8.355906</td>\n",
       "      <td>1.017072</td>\n",
       "      <td>6.845651</td>\n",
       "    </tr>\n",
       "    <tr>\n",
       "      <th>100004_raw-Fat</th>\n",
       "      <td>-1.508325</td>\n",
       "      <td>0.802536</td>\n",
       "      <td>8.328274</td>\n",
       "      <td>1.033939</td>\n",
       "      <td>6.709319</td>\n",
       "    </tr>\n",
       "    <tr>\n",
       "      <th>100005_raw-Carbohydrate</th>\n",
       "      <td>-1.617872</td>\n",
       "      <td>0.812711</td>\n",
       "      <td>8.307973</td>\n",
       "      <td>1.020575</td>\n",
       "      <td>6.825944</td>\n",
       "    </tr>\n",
       "  </tbody>\n",
       "</table>\n",
       "</div>"
      ],
      "text/plain": [
       "                            UMAP1     UMAP2     UMAP3     UMAP4     UMAP5\n",
       "100001_raw-Food_weight   0.426554  0.670532  7.363805  1.171837  6.297295\n",
       "100002_raw-Energy       -1.605179  0.815699  8.288521  0.990394  6.817351\n",
       "100003_raw-Protein      -1.656178  0.788297  8.355906  1.017072  6.845651\n",
       "100004_raw-Fat          -1.508325  0.802536  8.328274  1.033939  6.709319\n",
       "100005_raw-Carbohydrate -1.617872  0.812711  8.307973  1.020575  6.825944"
      ]
     },
     "execution_count": 10,
     "metadata": {},
     "output_type": "execute_result"
    }
   ],
   "source": [
    "data_umap.head()"
   ]
  },
  {
   "cell_type": "markdown",
   "metadata": {
    "papermill": {
     "duration": 0.009602,
     "end_time": "2021-05-08T22:58:42.176074",
     "exception": false,
     "start_time": "2021-05-08T22:58:42.166472",
     "status": "completed"
    },
    "tags": []
   },
   "source": [
    "# Load best partitions"
   ]
  },
  {
   "cell_type": "code",
   "execution_count": 11,
   "metadata": {
    "execution": {
     "iopub.execute_input": "2021-05-08T22:58:42.197379Z",
     "iopub.status.busy": "2021-05-08T22:58:42.197014Z",
     "iopub.status.idle": "2021-05-08T22:58:42.204949Z",
     "shell.execute_reply": "2021-05-08T22:58:42.205246Z"
    },
    "papermill": {
     "duration": 0.01967,
     "end_time": "2021-05-08T22:58:42.205349",
     "exception": false,
     "start_time": "2021-05-08T22:58:42.185679",
     "status": "completed"
    },
    "tags": []
   },
   "outputs": [
    {
     "data": {
      "text/plain": [
       "PosixPath('/home/miltondp/projects/labs/greenelab/phenoplier/base/results/clustering/consensus_clustering/best_partitions_by_k.pkl')"
      ]
     },
     "metadata": {},
     "output_type": "display_data"
    }
   ],
   "source": [
    "input_file = Path(CONSENSUS_CLUSTERING_DIR, \"best_partitions_by_k.pkl\").resolve()\n",
    "display(input_file)"
   ]
  },
  {
   "cell_type": "code",
   "execution_count": 12,
   "metadata": {
    "execution": {
     "iopub.execute_input": "2021-05-08T22:58:42.227638Z",
     "iopub.status.busy": "2021-05-08T22:58:42.227235Z",
     "iopub.status.idle": "2021-05-08T22:58:42.237223Z",
     "shell.execute_reply": "2021-05-08T22:58:42.236797Z"
    },
    "papermill": {
     "duration": 0.022161,
     "end_time": "2021-05-08T22:58:42.237319",
     "exception": false,
     "start_time": "2021-05-08T22:58:42.215158",
     "status": "completed"
    },
    "tags": []
   },
   "outputs": [],
   "source": [
    "best_partitions = pd.read_pickle(input_file)"
   ]
  },
  {
   "cell_type": "code",
   "execution_count": 13,
   "metadata": {
    "execution": {
     "iopub.execute_input": "2021-05-08T22:58:42.261948Z",
     "iopub.status.busy": "2021-05-08T22:58:42.261530Z",
     "iopub.status.idle": "2021-05-08T22:58:42.269436Z",
     "shell.execute_reply": "2021-05-08T22:58:42.269777Z"
    },
    "papermill": {
     "duration": 0.021416,
     "end_time": "2021-05-08T22:58:42.269892",
     "exception": false,
     "start_time": "2021-05-08T22:58:42.248476",
     "status": "completed"
    },
    "tags": []
   },
   "outputs": [
    {
     "data": {
      "text/plain": [
       "(59, 4)"
      ]
     },
     "execution_count": 13,
     "metadata": {},
     "output_type": "execute_result"
    }
   ],
   "source": [
    "best_partitions.shape"
   ]
  },
  {
   "cell_type": "code",
   "execution_count": 14,
   "metadata": {
    "execution": {
     "iopub.execute_input": "2021-05-08T22:58:42.293881Z",
     "iopub.status.busy": "2021-05-08T22:58:42.293490Z",
     "iopub.status.idle": "2021-05-08T22:58:42.310148Z",
     "shell.execute_reply": "2021-05-08T22:58:42.309757Z"
    },
    "papermill": {
     "duration": 0.028967,
     "end_time": "2021-05-08T22:58:42.310236",
     "exception": false,
     "start_time": "2021-05-08T22:58:42.281269",
     "status": "completed"
    },
    "tags": []
   },
   "outputs": [
    {
     "data": {
      "text/html": [
       "<div>\n",
       "<style scoped>\n",
       "    .dataframe tbody tr th:only-of-type {\n",
       "        vertical-align: middle;\n",
       "    }\n",
       "\n",
       "    .dataframe tbody tr th {\n",
       "        vertical-align: top;\n",
       "    }\n",
       "\n",
       "    .dataframe thead th {\n",
       "        text-align: right;\n",
       "    }\n",
       "</style>\n",
       "<table border=\"1\" class=\"dataframe\">\n",
       "  <thead>\n",
       "    <tr style=\"text-align: right;\">\n",
       "      <th></th>\n",
       "      <th>method</th>\n",
       "      <th>partition</th>\n",
       "      <th>ari_median</th>\n",
       "      <th>selected</th>\n",
       "    </tr>\n",
       "    <tr>\n",
       "      <th>k</th>\n",
       "      <th></th>\n",
       "      <th></th>\n",
       "      <th></th>\n",
       "      <th></th>\n",
       "    </tr>\n",
       "  </thead>\n",
       "  <tbody>\n",
       "    <tr>\n",
       "      <th>14</th>\n",
       "      <td>scc_025</td>\n",
       "      <td>[0, 0, 0, 0, 0, 0, 0, 0, 0, 0, 0, 0, 0, 0, 0, ...</td>\n",
       "      <td>0.090117</td>\n",
       "      <td>True</td>\n",
       "    </tr>\n",
       "    <tr>\n",
       "      <th>22</th>\n",
       "      <td>scc_020</td>\n",
       "      <td>[13, 18, 18, 18, 18, 18, 18, 18, 18, 13, 18, 1...</td>\n",
       "      <td>0.090100</td>\n",
       "      <td>True</td>\n",
       "    </tr>\n",
       "    <tr>\n",
       "      <th>13</th>\n",
       "      <td>scc_025</td>\n",
       "      <td>[0, 0, 0, 0, 0, 0, 0, 0, 0, 0, 0, 0, 0, 0, 0, ...</td>\n",
       "      <td>0.089920</td>\n",
       "      <td>True</td>\n",
       "    </tr>\n",
       "    <tr>\n",
       "      <th>12</th>\n",
       "      <td>scc_025</td>\n",
       "      <td>[9, 9, 9, 9, 9, 9, 9, 9, 9, 9, 9, 9, 9, 9, 9, ...</td>\n",
       "      <td>0.089870</td>\n",
       "      <td>True</td>\n",
       "    </tr>\n",
       "    <tr>\n",
       "      <th>11</th>\n",
       "      <td>scc_025</td>\n",
       "      <td>[0, 0, 0, 0, 0, 0, 0, 0, 0, 0, 0, 0, 0, 0, 0, ...</td>\n",
       "      <td>0.089616</td>\n",
       "      <td>True</td>\n",
       "    </tr>\n",
       "  </tbody>\n",
       "</table>\n",
       "</div>"
      ],
      "text/plain": [
       "     method                                          partition  ari_median  \\\n",
       "k                                                                            \n",
       "14  scc_025  [0, 0, 0, 0, 0, 0, 0, 0, 0, 0, 0, 0, 0, 0, 0, ...    0.090117   \n",
       "22  scc_020  [13, 18, 18, 18, 18, 18, 18, 18, 18, 13, 18, 1...    0.090100   \n",
       "13  scc_025  [0, 0, 0, 0, 0, 0, 0, 0, 0, 0, 0, 0, 0, 0, 0, ...    0.089920   \n",
       "12  scc_025  [9, 9, 9, 9, 9, 9, 9, 9, 9, 9, 9, 9, 9, 9, 9, ...    0.089870   \n",
       "11  scc_025  [0, 0, 0, 0, 0, 0, 0, 0, 0, 0, 0, 0, 0, 0, 0, ...    0.089616   \n",
       "\n",
       "    selected  \n",
       "k             \n",
       "14      True  \n",
       "22      True  \n",
       "13      True  \n",
       "12      True  \n",
       "11      True  "
      ]
     },
     "execution_count": 14,
     "metadata": {},
     "output_type": "execute_result"
    }
   ],
   "source": [
    "best_partitions.head()"
   ]
  },
  {
   "cell_type": "markdown",
   "metadata": {
    "papermill": {
     "duration": 0.009874,
     "end_time": "2021-05-08T22:58:42.330701",
     "exception": false,
     "start_time": "2021-05-08T22:58:42.320827",
     "status": "completed"
    },
    "tags": []
   },
   "source": [
    "# Analysis of clusterings"
   ]
  },
  {
   "cell_type": "code",
   "execution_count": 15,
   "metadata": {
    "execution": {
     "iopub.execute_input": "2021-05-08T22:58:42.353689Z",
     "iopub.status.busy": "2021-05-08T22:58:42.353307Z",
     "iopub.status.idle": "2021-05-08T22:58:42.360158Z",
     "shell.execute_reply": "2021-05-08T22:58:42.360470Z"
    },
    "papermill": {
     "duration": 0.01983,
     "end_time": "2021-05-08T22:58:42.360589",
     "exception": false,
     "start_time": "2021-05-08T22:58:42.340759",
     "status": "completed"
    },
    "tags": []
   },
   "outputs": [],
   "source": [
    "from IPython.display import HTML"
   ]
  },
  {
   "cell_type": "code",
   "execution_count": 16,
   "metadata": {
    "execution": {
     "iopub.execute_input": "2021-05-08T22:58:42.384012Z",
     "iopub.status.busy": "2021-05-08T22:58:42.383637Z",
     "iopub.status.idle": "2021-05-08T22:58:42.390468Z",
     "shell.execute_reply": "2021-05-08T22:58:42.390748Z"
    },
    "papermill": {
     "duration": 0.019796,
     "end_time": "2021-05-08T22:58:42.390855",
     "exception": false,
     "start_time": "2021-05-08T22:58:42.371059",
     "status": "completed"
    },
    "tags": []
   },
   "outputs": [],
   "source": [
    "def show_cluster_stats(clustering_data, selected_partition, selected_cluster):\n",
    "    traits = [t for t in clustering_data[selected_partition == selected_cluster].index]\n",
    "    display(len(traits))\n",
    "    display(traits)"
   ]
  },
  {
   "cell_type": "code",
   "execution_count": 17,
   "metadata": {
    "execution": {
     "iopub.execute_input": "2021-05-08T22:58:42.414673Z",
     "iopub.status.busy": "2021-05-08T22:58:42.414304Z",
     "iopub.status.idle": "2021-05-08T22:58:42.422524Z",
     "shell.execute_reply": "2021-05-08T22:58:42.422873Z"
    },
    "papermill": {
     "duration": 0.021545,
     "end_time": "2021-05-08T22:58:42.422994",
     "exception": false,
     "start_time": "2021-05-08T22:58:42.401449",
     "status": "completed"
    },
    "tags": []
   },
   "outputs": [
    {
     "data": {
      "text/plain": [
       "[5, 6, 7, 8, 9, 10, 11, 12, 13, 14, 15, 16, 22, 25, 26]"
      ]
     },
     "metadata": {},
     "output_type": "display_data"
    }
   ],
   "source": [
    "selected_k_values = best_partitions[best_partitions[\"selected\"]].index.tolist()\n",
    "selected_k_values.sort()\n",
    "display(selected_k_values)"
   ]
  },
  {
   "cell_type": "code",
   "execution_count": 18,
   "metadata": {
    "execution": {
     "iopub.execute_input": "2021-05-08T22:58:42.448013Z",
     "iopub.status.busy": "2021-05-08T22:58:42.447617Z",
     "iopub.status.idle": "2021-05-08T22:58:42.985321Z",
     "shell.execute_reply": "2021-05-08T22:58:42.985644Z"
    },
    "papermill": {
     "duration": 0.551927,
     "end_time": "2021-05-08T22:58:42.985757",
     "exception": false,
     "start_time": "2021-05-08T22:58:42.433830",
     "status": "completed"
    },
    "tags": []
   },
   "outputs": [
    {
     "data": {
      "text/html": [
       "<h2>Partition with k=5</h2>"
      ],
      "text/plain": [
       "<IPython.core.display.HTML object>"
      ]
     },
     "metadata": {},
     "output_type": "display_data"
    },
    {
     "data": {
      "text/plain": [
       "method                                                  scc_030\n",
       "partition     [0, 0, 0, 0, 0, 0, 0, 0, 4, 0, 4, 4, 0, 0, 0, ...\n",
       "ari_median                                             0.087086\n",
       "selected                                                   True\n",
       "Name: 5, dtype: object"
      ]
     },
     "metadata": {},
     "output_type": "display_data"
    },
    {
     "data": {
      "text/plain": [
       "(3752,)"
      ]
     },
     "metadata": {},
     "output_type": "display_data"
    },
    {
     "data": {
      "text/plain": [
       "0    3233\n",
       "4     445\n",
       "3      47\n",
       "2      15\n",
       "1      12\n",
       "dtype: int64"
      ]
     },
     "metadata": {},
     "output_type": "display_data"
    },
    {
     "data": {
      "text/html": [
       "<h3>Cluster 5.0</h3>"
      ],
      "text/plain": [
       "<IPython.core.display.HTML object>"
      ]
     },
     "metadata": {},
     "output_type": "display_data"
    },
    {
     "data": {
      "text/plain": [
       "3233"
      ]
     },
     "metadata": {},
     "output_type": "display_data"
    },
    {
     "data": {
      "text/plain": [
       "Index(['100001_raw-Food_weight', '100002_raw-Energy', '100003_raw-Protein',\n",
       "       '100004_raw-Fat', '100005_raw-Carbohydrate', '100006_raw-Saturated_fat',\n",
       "       '100007_raw-Polyunsaturated_fat', '100008_raw-Total_sugars',\n",
       "       '100010-Portion_size', '100013_raw-Vitamin_B12',\n",
       "       ...\n",
       "       'viral disease', 'viral human hepatitis infection', 'viral meningitis',\n",
       "       'visual impairment', 'vitiligo', 'vitreous body disease',\n",
       "       'vocal cord polyp', 'voice disorders', 'whooping cough',\n",
       "       'wrist fracture'],\n",
       "      dtype='object', length=3233)"
      ]
     },
     "metadata": {},
     "output_type": "display_data"
    },
    {
     "data": {
      "text/html": [
       "<h3>Cluster 5.1</h3>"
      ],
      "text/plain": [
       "<IPython.core.display.HTML object>"
      ]
     },
     "metadata": {},
     "output_type": "display_data"
    },
    {
     "data": {
      "text/plain": [
       "12"
      ]
     },
     "metadata": {},
     "output_type": "display_data"
    },
    {
     "data": {
      "text/plain": [
       "Index(['3144_raw-Heel_Broadband_ultrasound_attenuation_direct_entry',\n",
       "       '3147_raw-Heel_quantitative_ultrasound_index_QUI_direct_entry',\n",
       "       '3148_raw-Heel_bone_mineral_density_BMD',\n",
       "       '4101_raw-Heel_broadband_ultrasound_attenuation_left',\n",
       "       '4104_raw-Heel_quantitative_ultrasound_index_QUI_direct_entry_left',\n",
       "       '4105_raw-Heel_bone_mineral_density_BMD_left',\n",
       "       '4106_raw-Heel_bone_mineral_density_BMD_Tscore_automated_left',\n",
       "       '4120_raw-Heel_broadband_ultrasound_attenuation_right',\n",
       "       '4123_raw-Heel_quantitative_ultrasound_index_QUI_direct_entry_right',\n",
       "       '4124_raw-Heel_bone_mineral_density_BMD_right',\n",
       "       '4125_raw-Heel_bone_mineral_density_BMD_Tscore_automated_right',\n",
       "       '78_raw-Heel_bone_mineral_density_BMD_Tscore_automated'],\n",
       "      dtype='object')"
      ]
     },
     "metadata": {},
     "output_type": "display_data"
    },
    {
     "data": {
      "text/html": [
       "<h3>Cluster 5.2</h3>"
      ],
      "text/plain": [
       "<IPython.core.display.HTML object>"
      ]
     },
     "metadata": {},
     "output_type": "display_data"
    },
    {
     "data": {
      "text/plain": [
       "15"
      ]
     },
     "metadata": {},
     "output_type": "display_data"
    },
    {
     "data": {
      "text/plain": [
       "Index(['30010_raw-Red_blood_cell_erythrocyte_count',\n",
       "       '30020_raw-Haemoglobin_concentration',\n",
       "       '30030_raw-Haematocrit_percentage', '30040_raw-Mean_corpuscular_volume',\n",
       "       '30050_raw-Mean_corpuscular_haemoglobin',\n",
       "       '30070_raw-Red_blood_cell_erythrocyte_distribution_width',\n",
       "       '30240_raw-Reticulocyte_percentage', '30250_raw-Reticulocyte_count',\n",
       "       '30260_raw-Mean_reticulocyte_volume',\n",
       "       '30270_raw-Mean_sphered_cell_volume',\n",
       "       '30280_raw-Immature_reticulocyte_fraction',\n",
       "       '30290_raw-High_light_scatter_reticulocyte_percentage',\n",
       "       '30300_raw-High_light_scatter_reticulocyte_count', 'erythrocyte count',\n",
       "       'reticulocyte count'],\n",
       "      dtype='object')"
      ]
     },
     "metadata": {},
     "output_type": "display_data"
    },
    {
     "data": {
      "text/html": [
       "<h3>Cluster 5.3</h3>"
      ],
      "text/plain": [
       "<IPython.core.display.HTML object>"
      ]
     },
     "metadata": {},
     "output_type": "display_data"
    },
    {
     "data": {
      "text/plain": [
       "47"
      ]
     },
     "metadata": {},
     "output_type": "display_data"
    },
    {
     "data": {
      "text/plain": [
       "Index(['20015_raw-Sitting_height',\n",
       "       '20150_raw-Forced_expiratory_volume_in_1second_FEV1_Best_measure',\n",
       "       '20151_raw-Forced_vital_capacity_FVC_Best_measure',\n",
       "       '20153_raw-Forced_expiratory_volume_in_1second_FEV1_predicted',\n",
       "       '21001_raw-Body_mass_index_BMI', '21002_raw-Weight', '23098_raw-Weight',\n",
       "       '23099_raw-Body_fat_percentage', '23100_raw-Whole_body_fat_mass',\n",
       "       '23101_raw-Whole_body_fatfree_mass', '23102_raw-Whole_body_water_mass',\n",
       "       '23104_raw-Body_mass_index_BMI', '23105_raw-Basal_metabolic_rate',\n",
       "       '23106_raw-Impedance_of_whole_body', '23107_raw-Impedance_of_leg_right',\n",
       "       '23108_raw-Impedance_of_leg_left', '23109_raw-Impedance_of_arm_right',\n",
       "       '23110_raw-Impedance_of_arm_left', '23111_raw-Leg_fat_percentage_right',\n",
       "       '23112_raw-Leg_fat_mass_right', '23113_raw-Leg_fatfree_mass_right',\n",
       "       '23114_raw-Leg_predicted_mass_right',\n",
       "       '23115_raw-Leg_fat_percentage_left', '23116_raw-Leg_fat_mass_left',\n",
       "       '23117_raw-Leg_fatfree_mass_left', '23118_raw-Leg_predicted_mass_left',\n",
       "       '23119_raw-Arm_fat_percentage_right', '23120_raw-Arm_fat_mass_right',\n",
       "       '23121_raw-Arm_fatfree_mass_right',\n",
       "       '23122_raw-Arm_predicted_mass_right',\n",
       "       '23123_raw-Arm_fat_percentage_left', '23124_raw-Arm_fat_mass_left',\n",
       "       '23125_raw-Arm_fatfree_mass_left', '23126_raw-Arm_predicted_mass_left',\n",
       "       '23127_raw-Trunk_fat_percentage', '23128_raw-Trunk_fat_mass',\n",
       "       '23129_raw-Trunk_fatfree_mass', '23130_raw-Trunk_predicted_mass',\n",
       "       '3062_raw-Forced_vital_capacity_FVC',\n",
       "       '3063_raw-Forced_expiratory_volume_in_1second_FEV1',\n",
       "       '3143_raw-Ankle_spacing_width', '4100_raw-Ankle_spacing_width_left',\n",
       "       '4119_raw-Ankle_spacing_width_right', '48_raw-Waist_circumference',\n",
       "       '49_raw-Hip_circumference', '50_raw-Standing_height', 'body height'],\n",
       "      dtype='object')"
      ]
     },
     "metadata": {},
     "output_type": "display_data"
    },
    {
     "data": {
      "text/html": [
       "<h3>Cluster 5.4</h3>"
      ],
      "text/plain": [
       "<IPython.core.display.HTML object>"
      ]
     },
     "metadata": {},
     "output_type": "display_data"
    },
    {
     "data": {
      "text/plain": [
       "445"
      ]
     },
     "metadata": {},
     "output_type": "display_data"
    },
    {
     "data": {
      "text/plain": [
       "Index(['100009_raw-Englyst_dietary_fibre', '100011_raw-Iron',\n",
       "       '100012_raw-Vitamin_B6', '100016_raw-Potassium', '100017_raw-Magnesium',\n",
       "       '1021-Duration_of_light_DIY', '102_raw-Pulse_rate_automated_reading',\n",
       "       '1031-Frequency_of_friendfamily_visits',\n",
       "       '1050-Time_spend_outdoors_in_summer',\n",
       "       '1060-Time_spent_outdoors_in_winter',\n",
       "       ...\n",
       "       'sum of basophil and neutrophil counts',\n",
       "       'sum of eosinophil and basophil counts',\n",
       "       'sum of neutrophil and eosinophil counts',\n",
       "       'systemic lupus erythematosus', 'tiredness measurement',\n",
       "       'type i diabetes mellitus', 'varicose veins',\n",
       "       'wellbeing measurement AND family relationship', 'wheezing',\n",
       "       'worry measurement'],\n",
       "      dtype='object', length=445)"
      ]
     },
     "metadata": {},
     "output_type": "display_data"
    },
    {
     "data": {
      "text/html": [
       "<h2>Partition with k=6</h2>"
      ],
      "text/plain": [
       "<IPython.core.display.HTML object>"
      ]
     },
     "metadata": {},
     "output_type": "display_data"
    },
    {
     "data": {
      "text/plain": [
       "method                              eac_complete_coassoc_matrix\n",
       "partition     [2, 2, 2, 2, 2, 2, 2, 2, 2, 2, 2, 2, 2, 2, 2, ...\n",
       "ari_median                                            0.0889203\n",
       "selected                                                   True\n",
       "Name: 6, dtype: object"
      ]
     },
     "metadata": {},
     "output_type": "display_data"
    },
    {
     "data": {
      "text/plain": [
       "(3752,)"
      ]
     },
     "metadata": {},
     "output_type": "display_data"
    },
    {
     "data": {
      "text/plain": [
       "2    3313\n",
       "1     311\n",
       "0      57\n",
       "4      36\n",
       "3      23\n",
       "5      12\n",
       "dtype: int64"
      ]
     },
     "metadata": {},
     "output_type": "display_data"
    },
    {
     "data": {
      "text/html": [
       "<h3>Cluster 6.0</h3>"
      ],
      "text/plain": [
       "<IPython.core.display.HTML object>"
      ]
     },
     "metadata": {},
     "output_type": "display_data"
    },
    {
     "data": {
      "text/plain": [
       "57"
      ]
     },
     "metadata": {},
     "output_type": "display_data"
    },
    {
     "data": {
      "text/plain": [
       "Index(['20015_raw-Sitting_height',\n",
       "       '20150_raw-Forced_expiratory_volume_in_1second_FEV1_Best_measure',\n",
       "       '20151_raw-Forced_vital_capacity_FVC_Best_measure',\n",
       "       '20153_raw-Forced_expiratory_volume_in_1second_FEV1_predicted',\n",
       "       '20154_raw-Forced_expiratory_volume_in_1second_FEV1_predicted_percentage',\n",
       "       '21001_raw-Body_mass_index_BMI', '21002_raw-Weight', '23098_raw-Weight',\n",
       "       '23099_raw-Body_fat_percentage', '23100_raw-Whole_body_fat_mass',\n",
       "       '23101_raw-Whole_body_fatfree_mass', '23102_raw-Whole_body_water_mass',\n",
       "       '23104_raw-Body_mass_index_BMI', '23105_raw-Basal_metabolic_rate',\n",
       "       '23106_raw-Impedance_of_whole_body', '23107_raw-Impedance_of_leg_right',\n",
       "       '23108_raw-Impedance_of_leg_left', '23109_raw-Impedance_of_arm_right',\n",
       "       '23110_raw-Impedance_of_arm_left', '23111_raw-Leg_fat_percentage_right',\n",
       "       '23112_raw-Leg_fat_mass_right', '23113_raw-Leg_fatfree_mass_right',\n",
       "       '23114_raw-Leg_predicted_mass_right',\n",
       "       '23115_raw-Leg_fat_percentage_left', '23116_raw-Leg_fat_mass_left',\n",
       "       '23117_raw-Leg_fatfree_mass_left', '23118_raw-Leg_predicted_mass_left',\n",
       "       '23119_raw-Arm_fat_percentage_right', '23120_raw-Arm_fat_mass_right',\n",
       "       '23121_raw-Arm_fatfree_mass_right',\n",
       "       '23122_raw-Arm_predicted_mass_right',\n",
       "       '23123_raw-Arm_fat_percentage_left', '23124_raw-Arm_fat_mass_left',\n",
       "       '23125_raw-Arm_fatfree_mass_left', '23126_raw-Arm_predicted_mass_left',\n",
       "       '23127_raw-Trunk_fat_percentage', '23128_raw-Trunk_fat_mass',\n",
       "       '23129_raw-Trunk_fatfree_mass', '23130_raw-Trunk_predicted_mass',\n",
       "       '3062_raw-Forced_vital_capacity_FVC',\n",
       "       '3063_raw-Forced_expiratory_volume_in_1second_FEV1',\n",
       "       '3064_raw-Peak_expiratory_flow_PEF', '3143_raw-Ankle_spacing_width',\n",
       "       '4100_raw-Ankle_spacing_width_left',\n",
       "       '4119_raw-Ankle_spacing_width_right', '48_raw-Waist_circumference',\n",
       "       '49_raw-Hip_circumference', '5096_raw-3mm_weak_meridian_left',\n",
       "       '5097_raw-6mm_weak_meridian_left', '5098_raw-6mm_weak_meridian_right',\n",
       "       '5099_raw-3mm_weak_meridian_right', '50_raw-Standing_height',\n",
       "       '5132_raw-3mm_strong_meridian_right',\n",
       "       '5133_raw-6mm_strong_meridian_right',\n",
       "       '5134_raw-6mm_strong_meridian_left',\n",
       "       '5135_raw-3mm_strong_meridian_left', 'body height'],\n",
       "      dtype='object')"
      ]
     },
     "metadata": {},
     "output_type": "display_data"
    },
    {
     "data": {
      "text/html": [
       "<h3>Cluster 6.1</h3>"
      ],
      "text/plain": [
       "<IPython.core.display.HTML object>"
      ]
     },
     "metadata": {},
     "output_type": "display_data"
    },
    {
     "data": {
      "text/plain": [
       "311"
      ]
     },
     "metadata": {},
     "output_type": "display_data"
    },
    {
     "data": {
      "text/plain": [
       "Index(['1021-Duration_of_light_DIY', '102_raw-Pulse_rate_automated_reading',\n",
       "       '1050-Time_spend_outdoors_in_summer',\n",
       "       '1060-Time_spent_outdoors_in_winter',\n",
       "       '1070-Time_spent_watching_television_TV',\n",
       "       '1080-Time_spent_using_computer', '1090-Time_spent_driving',\n",
       "       '1100-Drive_faster_than_motorway_speed_limit',\n",
       "       '110001-Invitation_to_complete_online_24hour_recall_dietary_questionnaire_acceptance',\n",
       "       '1110-Length_of_mobile_phone_use',\n",
       "       ...\n",
       "       'skin neoplasm', 'sleep duration', 'smoking behavior',\n",
       "       'smoking cessation', 'snoring measurement', 'tiredness measurement',\n",
       "       'type i diabetes mellitus', 'varicose veins', 'wheezing',\n",
       "       'worry measurement'],\n",
       "      dtype='object', length=311)"
      ]
     },
     "metadata": {},
     "output_type": "display_data"
    },
    {
     "data": {
      "text/html": [
       "<h3>Cluster 6.2</h3>"
      ],
      "text/plain": [
       "<IPython.core.display.HTML object>"
      ]
     },
     "metadata": {},
     "output_type": "display_data"
    },
    {
     "data": {
      "text/plain": [
       "3313"
      ]
     },
     "metadata": {},
     "output_type": "display_data"
    },
    {
     "data": {
      "text/plain": [
       "Index(['100001_raw-Food_weight', '100002_raw-Energy', '100003_raw-Protein',\n",
       "       '100004_raw-Fat', '100005_raw-Carbohydrate', '100006_raw-Saturated_fat',\n",
       "       '100007_raw-Polyunsaturated_fat', '100008_raw-Total_sugars',\n",
       "       '100009_raw-Englyst_dietary_fibre', '100010-Portion_size',\n",
       "       ...\n",
       "       'viral human hepatitis infection', 'viral meningitis',\n",
       "       'visual impairment', 'vitiligo', 'vitreous body disease',\n",
       "       'vocal cord polyp', 'voice disorders',\n",
       "       'wellbeing measurement AND family relationship', 'whooping cough',\n",
       "       'wrist fracture'],\n",
       "      dtype='object', length=3313)"
      ]
     },
     "metadata": {},
     "output_type": "display_data"
    },
    {
     "data": {
      "text/html": [
       "<h3>Cluster 6.3</h3>"
      ],
      "text/plain": [
       "<IPython.core.display.HTML object>"
      ]
     },
     "metadata": {},
     "output_type": "display_data"
    },
    {
     "data": {
      "text/plain": [
       "23"
      ]
     },
     "metadata": {},
     "output_type": "display_data"
    },
    {
     "data": {
      "text/plain": [
       "Index(['30010_raw-Red_blood_cell_erythrocyte_count',\n",
       "       '30020_raw-Haemoglobin_concentration',\n",
       "       '30030_raw-Haematocrit_percentage', '30040_raw-Mean_corpuscular_volume',\n",
       "       '30050_raw-Mean_corpuscular_haemoglobin',\n",
       "       '30060_raw-Mean_corpuscular_haemoglobin_concentration',\n",
       "       '30070_raw-Red_blood_cell_erythrocyte_distribution_width',\n",
       "       '30080_raw-Platelet_count', '30090_raw-Platelet_crit',\n",
       "       '30100_raw-Mean_platelet_thrombocyte_volume',\n",
       "       '30110_raw-Platelet_distribution_width',\n",
       "       '30240_raw-Reticulocyte_percentage', '30250_raw-Reticulocyte_count',\n",
       "       '30260_raw-Mean_reticulocyte_volume',\n",
       "       '30270_raw-Mean_sphered_cell_volume',\n",
       "       '30280_raw-Immature_reticulocyte_fraction',\n",
       "       '30290_raw-High_light_scatter_reticulocyte_percentage',\n",
       "       '30300_raw-High_light_scatter_reticulocyte_count',\n",
       "       '46_raw-Hand_grip_strength_left', '47_raw-Hand_grip_strength_right',\n",
       "       'erythrocyte count', 'platelet count', 'reticulocyte count'],\n",
       "      dtype='object')"
      ]
     },
     "metadata": {},
     "output_type": "display_data"
    },
    {
     "data": {
      "text/html": [
       "<h3>Cluster 6.4</h3>"
      ],
      "text/plain": [
       "<IPython.core.display.HTML object>"
      ]
     },
     "metadata": {},
     "output_type": "display_data"
    },
    {
     "data": {
      "text/plain": [
       "36"
      ]
     },
     "metadata": {},
     "output_type": "display_data"
    },
    {
     "data": {
      "text/plain": [
       "Index(['20003_1140861998-Treatmentmedication_code_ventolin_100micrograms_inhaler',\n",
       "       '20003_1140883066-Treatmentmedication_code_insulin_product',\n",
       "       '20003_1141191044-Treatmentmedication_code_levothyroxine_sodium',\n",
       "       '2986-Started_insulin_within_one_year_diagnosis_of_diabetes',\n",
       "       '30000_raw-White_blood_cell_leukocyte_count',\n",
       "       '30120_raw-Lymphocyte_count', '30130_raw-Monocyte_count',\n",
       "       '30140_raw-Neutrophill_count', '30150-Eosinophill_count',\n",
       "       '30180_raw-Lymphocyte_percentage', '30190_raw-Monocyte_percentage',\n",
       "       '30200_raw-Neutrophill_percentage', '30210_raw-Eosinophill_percentage',\n",
       "       '6144_3-Never_eat_eggs_dairy_wheat_sugar_Wheat_products',\n",
       "       '6152_100-Blood_clot_DVT_bronchitis_emphysema_asthma_rhinitis_eczema_allergy_diagnosed_by_doctor_None_of_the_above',\n",
       "       '6152_8-Blood_clot_DVT_bronchitis_emphysema_asthma_rhinitis_eczema_allergy_diagnosed_by_doctor_Asthma',\n",
       "       '6152_9-Blood_clot_DVT_bronchitis_emphysema_asthma_rhinitis_eczema_allergy_diagnosed_by_doctor_Hayfever_allergic_rhinitis_or_eczema',\n",
       "       'K11_COELIAC-Coeliac_disease', 'asthma', 'celiac disease',\n",
       "       'eosinophil count', 'granulocyte count',\n",
       "       'hyperthyroidism AND thyrotoxicosis', 'hypothyroidism AND myxedema',\n",
       "       'leukocyte count', 'lymphocyte count', 'malabsorption syndrome',\n",
       "       'monocyte count', 'myeloid white cell count', 'neutrophil count',\n",
       "       'psoriasis', 'rheumatoid arthritis',\n",
       "       'sum of basophil and neutrophil counts',\n",
       "       'sum of eosinophil and basophil counts',\n",
       "       'sum of neutrophil and eosinophil counts',\n",
       "       'systemic lupus erythematosus'],\n",
       "      dtype='object')"
      ]
     },
     "metadata": {},
     "output_type": "display_data"
    },
    {
     "data": {
      "text/html": [
       "<h3>Cluster 6.5</h3>"
      ],
      "text/plain": [
       "<IPython.core.display.HTML object>"
      ]
     },
     "metadata": {},
     "output_type": "display_data"
    },
    {
     "data": {
      "text/plain": [
       "12"
      ]
     },
     "metadata": {},
     "output_type": "display_data"
    },
    {
     "data": {
      "text/plain": [
       "Index(['3144_raw-Heel_Broadband_ultrasound_attenuation_direct_entry',\n",
       "       '3147_raw-Heel_quantitative_ultrasound_index_QUI_direct_entry',\n",
       "       '3148_raw-Heel_bone_mineral_density_BMD',\n",
       "       '4101_raw-Heel_broadband_ultrasound_attenuation_left',\n",
       "       '4104_raw-Heel_quantitative_ultrasound_index_QUI_direct_entry_left',\n",
       "       '4105_raw-Heel_bone_mineral_density_BMD_left',\n",
       "       '4106_raw-Heel_bone_mineral_density_BMD_Tscore_automated_left',\n",
       "       '4120_raw-Heel_broadband_ultrasound_attenuation_right',\n",
       "       '4123_raw-Heel_quantitative_ultrasound_index_QUI_direct_entry_right',\n",
       "       '4124_raw-Heel_bone_mineral_density_BMD_right',\n",
       "       '4125_raw-Heel_bone_mineral_density_BMD_Tscore_automated_right',\n",
       "       '78_raw-Heel_bone_mineral_density_BMD_Tscore_automated'],\n",
       "      dtype='object')"
      ]
     },
     "metadata": {},
     "output_type": "display_data"
    },
    {
     "data": {
      "text/html": [
       "<h2>Partition with k=7</h2>"
      ],
      "text/plain": [
       "<IPython.core.display.HTML object>"
      ]
     },
     "metadata": {},
     "output_type": "display_data"
    },
    {
     "data": {
      "text/plain": [
       "method                              eac_complete_coassoc_matrix\n",
       "partition     [2, 2, 2, 2, 2, 2, 2, 2, 2, 2, 2, 2, 2, 2, 2, ...\n",
       "ari_median                                            0.0889368\n",
       "selected                                                   True\n",
       "Name: 7, dtype: object"
      ]
     },
     "metadata": {},
     "output_type": "display_data"
    },
    {
     "data": {
      "text/plain": [
       "(3752,)"
      ]
     },
     "metadata": {},
     "output_type": "display_data"
    },
    {
     "data": {
      "text/plain": [
       "2    3313\n",
       "0     311\n",
       "3      49\n",
       "4      36\n",
       "1      23\n",
       "5      12\n",
       "6       8\n",
       "dtype: int64"
      ]
     },
     "metadata": {},
     "output_type": "display_data"
    },
    {
     "data": {
      "text/html": [
       "<h3>Cluster 7.0</h3>"
      ],
      "text/plain": [
       "<IPython.core.display.HTML object>"
      ]
     },
     "metadata": {},
     "output_type": "display_data"
    },
    {
     "data": {
      "text/plain": [
       "311"
      ]
     },
     "metadata": {},
     "output_type": "display_data"
    },
    {
     "data": {
      "text/plain": [
       "Index(['1021-Duration_of_light_DIY', '102_raw-Pulse_rate_automated_reading',\n",
       "       '1050-Time_spend_outdoors_in_summer',\n",
       "       '1060-Time_spent_outdoors_in_winter',\n",
       "       '1070-Time_spent_watching_television_TV',\n",
       "       '1080-Time_spent_using_computer', '1090-Time_spent_driving',\n",
       "       '1100-Drive_faster_than_motorway_speed_limit',\n",
       "       '110001-Invitation_to_complete_online_24hour_recall_dietary_questionnaire_acceptance',\n",
       "       '1110-Length_of_mobile_phone_use',\n",
       "       ...\n",
       "       'skin neoplasm', 'sleep duration', 'smoking behavior',\n",
       "       'smoking cessation', 'snoring measurement', 'tiredness measurement',\n",
       "       'type i diabetes mellitus', 'varicose veins', 'wheezing',\n",
       "       'worry measurement'],\n",
       "      dtype='object', length=311)"
      ]
     },
     "metadata": {},
     "output_type": "display_data"
    },
    {
     "data": {
      "text/html": [
       "<h3>Cluster 7.1</h3>"
      ],
      "text/plain": [
       "<IPython.core.display.HTML object>"
      ]
     },
     "metadata": {},
     "output_type": "display_data"
    },
    {
     "data": {
      "text/plain": [
       "23"
      ]
     },
     "metadata": {},
     "output_type": "display_data"
    },
    {
     "data": {
      "text/plain": [
       "Index(['30010_raw-Red_blood_cell_erythrocyte_count',\n",
       "       '30020_raw-Haemoglobin_concentration',\n",
       "       '30030_raw-Haematocrit_percentage', '30040_raw-Mean_corpuscular_volume',\n",
       "       '30050_raw-Mean_corpuscular_haemoglobin',\n",
       "       '30060_raw-Mean_corpuscular_haemoglobin_concentration',\n",
       "       '30070_raw-Red_blood_cell_erythrocyte_distribution_width',\n",
       "       '30080_raw-Platelet_count', '30090_raw-Platelet_crit',\n",
       "       '30100_raw-Mean_platelet_thrombocyte_volume',\n",
       "       '30110_raw-Platelet_distribution_width',\n",
       "       '30240_raw-Reticulocyte_percentage', '30250_raw-Reticulocyte_count',\n",
       "       '30260_raw-Mean_reticulocyte_volume',\n",
       "       '30270_raw-Mean_sphered_cell_volume',\n",
       "       '30280_raw-Immature_reticulocyte_fraction',\n",
       "       '30290_raw-High_light_scatter_reticulocyte_percentage',\n",
       "       '30300_raw-High_light_scatter_reticulocyte_count',\n",
       "       '46_raw-Hand_grip_strength_left', '47_raw-Hand_grip_strength_right',\n",
       "       'erythrocyte count', 'platelet count', 'reticulocyte count'],\n",
       "      dtype='object')"
      ]
     },
     "metadata": {},
     "output_type": "display_data"
    },
    {
     "data": {
      "text/html": [
       "<h3>Cluster 7.2</h3>"
      ],
      "text/plain": [
       "<IPython.core.display.HTML object>"
      ]
     },
     "metadata": {},
     "output_type": "display_data"
    },
    {
     "data": {
      "text/plain": [
       "3313"
      ]
     },
     "metadata": {},
     "output_type": "display_data"
    },
    {
     "data": {
      "text/plain": [
       "Index(['100001_raw-Food_weight', '100002_raw-Energy', '100003_raw-Protein',\n",
       "       '100004_raw-Fat', '100005_raw-Carbohydrate', '100006_raw-Saturated_fat',\n",
       "       '100007_raw-Polyunsaturated_fat', '100008_raw-Total_sugars',\n",
       "       '100009_raw-Englyst_dietary_fibre', '100010-Portion_size',\n",
       "       ...\n",
       "       'viral human hepatitis infection', 'viral meningitis',\n",
       "       'visual impairment', 'vitiligo', 'vitreous body disease',\n",
       "       'vocal cord polyp', 'voice disorders',\n",
       "       'wellbeing measurement AND family relationship', 'whooping cough',\n",
       "       'wrist fracture'],\n",
       "      dtype='object', length=3313)"
      ]
     },
     "metadata": {},
     "output_type": "display_data"
    },
    {
     "data": {
      "text/html": [
       "<h3>Cluster 7.3</h3>"
      ],
      "text/plain": [
       "<IPython.core.display.HTML object>"
      ]
     },
     "metadata": {},
     "output_type": "display_data"
    },
    {
     "data": {
      "text/plain": [
       "49"
      ]
     },
     "metadata": {},
     "output_type": "display_data"
    },
    {
     "data": {
      "text/plain": [
       "Index(['20015_raw-Sitting_height',\n",
       "       '20150_raw-Forced_expiratory_volume_in_1second_FEV1_Best_measure',\n",
       "       '20151_raw-Forced_vital_capacity_FVC_Best_measure',\n",
       "       '20153_raw-Forced_expiratory_volume_in_1second_FEV1_predicted',\n",
       "       '20154_raw-Forced_expiratory_volume_in_1second_FEV1_predicted_percentage',\n",
       "       '21001_raw-Body_mass_index_BMI', '21002_raw-Weight', '23098_raw-Weight',\n",
       "       '23099_raw-Body_fat_percentage', '23100_raw-Whole_body_fat_mass',\n",
       "       '23101_raw-Whole_body_fatfree_mass', '23102_raw-Whole_body_water_mass',\n",
       "       '23104_raw-Body_mass_index_BMI', '23105_raw-Basal_metabolic_rate',\n",
       "       '23106_raw-Impedance_of_whole_body', '23107_raw-Impedance_of_leg_right',\n",
       "       '23108_raw-Impedance_of_leg_left', '23109_raw-Impedance_of_arm_right',\n",
       "       '23110_raw-Impedance_of_arm_left', '23111_raw-Leg_fat_percentage_right',\n",
       "       '23112_raw-Leg_fat_mass_right', '23113_raw-Leg_fatfree_mass_right',\n",
       "       '23114_raw-Leg_predicted_mass_right',\n",
       "       '23115_raw-Leg_fat_percentage_left', '23116_raw-Leg_fat_mass_left',\n",
       "       '23117_raw-Leg_fatfree_mass_left', '23118_raw-Leg_predicted_mass_left',\n",
       "       '23119_raw-Arm_fat_percentage_right', '23120_raw-Arm_fat_mass_right',\n",
       "       '23121_raw-Arm_fatfree_mass_right',\n",
       "       '23122_raw-Arm_predicted_mass_right',\n",
       "       '23123_raw-Arm_fat_percentage_left', '23124_raw-Arm_fat_mass_left',\n",
       "       '23125_raw-Arm_fatfree_mass_left', '23126_raw-Arm_predicted_mass_left',\n",
       "       '23127_raw-Trunk_fat_percentage', '23128_raw-Trunk_fat_mass',\n",
       "       '23129_raw-Trunk_fatfree_mass', '23130_raw-Trunk_predicted_mass',\n",
       "       '3062_raw-Forced_vital_capacity_FVC',\n",
       "       '3063_raw-Forced_expiratory_volume_in_1second_FEV1',\n",
       "       '3064_raw-Peak_expiratory_flow_PEF', '3143_raw-Ankle_spacing_width',\n",
       "       '4100_raw-Ankle_spacing_width_left',\n",
       "       '4119_raw-Ankle_spacing_width_right', '48_raw-Waist_circumference',\n",
       "       '49_raw-Hip_circumference', '50_raw-Standing_height', 'body height'],\n",
       "      dtype='object')"
      ]
     },
     "metadata": {},
     "output_type": "display_data"
    },
    {
     "data": {
      "text/html": [
       "<h3>Cluster 7.4</h3>"
      ],
      "text/plain": [
       "<IPython.core.display.HTML object>"
      ]
     },
     "metadata": {},
     "output_type": "display_data"
    },
    {
     "data": {
      "text/plain": [
       "36"
      ]
     },
     "metadata": {},
     "output_type": "display_data"
    },
    {
     "data": {
      "text/plain": [
       "Index(['20003_1140861998-Treatmentmedication_code_ventolin_100micrograms_inhaler',\n",
       "       '20003_1140883066-Treatmentmedication_code_insulin_product',\n",
       "       '20003_1141191044-Treatmentmedication_code_levothyroxine_sodium',\n",
       "       '2986-Started_insulin_within_one_year_diagnosis_of_diabetes',\n",
       "       '30000_raw-White_blood_cell_leukocyte_count',\n",
       "       '30120_raw-Lymphocyte_count', '30130_raw-Monocyte_count',\n",
       "       '30140_raw-Neutrophill_count', '30150-Eosinophill_count',\n",
       "       '30180_raw-Lymphocyte_percentage', '30190_raw-Monocyte_percentage',\n",
       "       '30200_raw-Neutrophill_percentage', '30210_raw-Eosinophill_percentage',\n",
       "       '6144_3-Never_eat_eggs_dairy_wheat_sugar_Wheat_products',\n",
       "       '6152_100-Blood_clot_DVT_bronchitis_emphysema_asthma_rhinitis_eczema_allergy_diagnosed_by_doctor_None_of_the_above',\n",
       "       '6152_8-Blood_clot_DVT_bronchitis_emphysema_asthma_rhinitis_eczema_allergy_diagnosed_by_doctor_Asthma',\n",
       "       '6152_9-Blood_clot_DVT_bronchitis_emphysema_asthma_rhinitis_eczema_allergy_diagnosed_by_doctor_Hayfever_allergic_rhinitis_or_eczema',\n",
       "       'K11_COELIAC-Coeliac_disease', 'asthma', 'celiac disease',\n",
       "       'eosinophil count', 'granulocyte count',\n",
       "       'hyperthyroidism AND thyrotoxicosis', 'hypothyroidism AND myxedema',\n",
       "       'leukocyte count', 'lymphocyte count', 'malabsorption syndrome',\n",
       "       'monocyte count', 'myeloid white cell count', 'neutrophil count',\n",
       "       'psoriasis', 'rheumatoid arthritis',\n",
       "       'sum of basophil and neutrophil counts',\n",
       "       'sum of eosinophil and basophil counts',\n",
       "       'sum of neutrophil and eosinophil counts',\n",
       "       'systemic lupus erythematosus'],\n",
       "      dtype='object')"
      ]
     },
     "metadata": {},
     "output_type": "display_data"
    },
    {
     "data": {
      "text/html": [
       "<h3>Cluster 7.5</h3>"
      ],
      "text/plain": [
       "<IPython.core.display.HTML object>"
      ]
     },
     "metadata": {},
     "output_type": "display_data"
    },
    {
     "data": {
      "text/plain": [
       "12"
      ]
     },
     "metadata": {},
     "output_type": "display_data"
    },
    {
     "data": {
      "text/plain": [
       "Index(['3144_raw-Heel_Broadband_ultrasound_attenuation_direct_entry',\n",
       "       '3147_raw-Heel_quantitative_ultrasound_index_QUI_direct_entry',\n",
       "       '3148_raw-Heel_bone_mineral_density_BMD',\n",
       "       '4101_raw-Heel_broadband_ultrasound_attenuation_left',\n",
       "       '4104_raw-Heel_quantitative_ultrasound_index_QUI_direct_entry_left',\n",
       "       '4105_raw-Heel_bone_mineral_density_BMD_left',\n",
       "       '4106_raw-Heel_bone_mineral_density_BMD_Tscore_automated_left',\n",
       "       '4120_raw-Heel_broadband_ultrasound_attenuation_right',\n",
       "       '4123_raw-Heel_quantitative_ultrasound_index_QUI_direct_entry_right',\n",
       "       '4124_raw-Heel_bone_mineral_density_BMD_right',\n",
       "       '4125_raw-Heel_bone_mineral_density_BMD_Tscore_automated_right',\n",
       "       '78_raw-Heel_bone_mineral_density_BMD_Tscore_automated'],\n",
       "      dtype='object')"
      ]
     },
     "metadata": {},
     "output_type": "display_data"
    },
    {
     "data": {
      "text/html": [
       "<h3>Cluster 7.6</h3>"
      ],
      "text/plain": [
       "<IPython.core.display.HTML object>"
      ]
     },
     "metadata": {},
     "output_type": "display_data"
    },
    {
     "data": {
      "text/plain": [
       "8"
      ]
     },
     "metadata": {},
     "output_type": "display_data"
    },
    {
     "data": {
      "text/plain": [
       "Index(['5096_raw-3mm_weak_meridian_left', '5097_raw-6mm_weak_meridian_left',\n",
       "       '5098_raw-6mm_weak_meridian_right', '5099_raw-3mm_weak_meridian_right',\n",
       "       '5132_raw-3mm_strong_meridian_right',\n",
       "       '5133_raw-6mm_strong_meridian_right',\n",
       "       '5134_raw-6mm_strong_meridian_left',\n",
       "       '5135_raw-3mm_strong_meridian_left'],\n",
       "      dtype='object')"
      ]
     },
     "metadata": {},
     "output_type": "display_data"
    },
    {
     "data": {
      "text/html": [
       "<h2>Partition with k=8</h2>"
      ],
      "text/plain": [
       "<IPython.core.display.HTML object>"
      ]
     },
     "metadata": {},
     "output_type": "display_data"
    },
    {
     "data": {
      "text/plain": [
       "method                              eac_complete_coassoc_matrix\n",
       "partition     [2, 2, 2, 2, 2, 2, 2, 2, 2, 2, 2, 2, 2, 2, 2, ...\n",
       "ari_median                                            0.0888309\n",
       "selected                                                   True\n",
       "Name: 8, dtype: object"
      ]
     },
     "metadata": {},
     "output_type": "display_data"
    },
    {
     "data": {
      "text/plain": [
       "(3752,)"
      ]
     },
     "metadata": {},
     "output_type": "display_data"
    },
    {
     "data": {
      "text/plain": [
       "2    3313\n",
       "0     303\n",
       "7      49\n",
       "4      36\n",
       "1      23\n",
       "5      12\n",
       "3       8\n",
       "6       8\n",
       "dtype: int64"
      ]
     },
     "metadata": {},
     "output_type": "display_data"
    },
    {
     "data": {
      "text/html": [
       "<h3>Cluster 8.0</h3>"
      ],
      "text/plain": [
       "<IPython.core.display.HTML object>"
      ]
     },
     "metadata": {},
     "output_type": "display_data"
    },
    {
     "data": {
      "text/plain": [
       "303"
      ]
     },
     "metadata": {},
     "output_type": "display_data"
    },
    {
     "data": {
      "text/plain": [
       "Index(['1021-Duration_of_light_DIY', '102_raw-Pulse_rate_automated_reading',\n",
       "       '1050-Time_spend_outdoors_in_summer',\n",
       "       '1060-Time_spent_outdoors_in_winter',\n",
       "       '1070-Time_spent_watching_television_TV',\n",
       "       '1080-Time_spent_using_computer', '1090-Time_spent_driving',\n",
       "       '1100-Drive_faster_than_motorway_speed_limit',\n",
       "       '110001-Invitation_to_complete_online_24hour_recall_dietary_questionnaire_acceptance',\n",
       "       '1110-Length_of_mobile_phone_use',\n",
       "       ...\n",
       "       'skin neoplasm', 'sleep duration', 'smoking behavior',\n",
       "       'smoking cessation', 'snoring measurement', 'tiredness measurement',\n",
       "       'type i diabetes mellitus', 'varicose veins', 'wheezing',\n",
       "       'worry measurement'],\n",
       "      dtype='object', length=303)"
      ]
     },
     "metadata": {},
     "output_type": "display_data"
    },
    {
     "data": {
      "text/html": [
       "<h3>Cluster 8.1</h3>"
      ],
      "text/plain": [
       "<IPython.core.display.HTML object>"
      ]
     },
     "metadata": {},
     "output_type": "display_data"
    },
    {
     "data": {
      "text/plain": [
       "23"
      ]
     },
     "metadata": {},
     "output_type": "display_data"
    },
    {
     "data": {
      "text/plain": [
       "Index(['30010_raw-Red_blood_cell_erythrocyte_count',\n",
       "       '30020_raw-Haemoglobin_concentration',\n",
       "       '30030_raw-Haematocrit_percentage', '30040_raw-Mean_corpuscular_volume',\n",
       "       '30050_raw-Mean_corpuscular_haemoglobin',\n",
       "       '30060_raw-Mean_corpuscular_haemoglobin_concentration',\n",
       "       '30070_raw-Red_blood_cell_erythrocyte_distribution_width',\n",
       "       '30080_raw-Platelet_count', '30090_raw-Platelet_crit',\n",
       "       '30100_raw-Mean_platelet_thrombocyte_volume',\n",
       "       '30110_raw-Platelet_distribution_width',\n",
       "       '30240_raw-Reticulocyte_percentage', '30250_raw-Reticulocyte_count',\n",
       "       '30260_raw-Mean_reticulocyte_volume',\n",
       "       '30270_raw-Mean_sphered_cell_volume',\n",
       "       '30280_raw-Immature_reticulocyte_fraction',\n",
       "       '30290_raw-High_light_scatter_reticulocyte_percentage',\n",
       "       '30300_raw-High_light_scatter_reticulocyte_count',\n",
       "       '46_raw-Hand_grip_strength_left', '47_raw-Hand_grip_strength_right',\n",
       "       'erythrocyte count', 'platelet count', 'reticulocyte count'],\n",
       "      dtype='object')"
      ]
     },
     "metadata": {},
     "output_type": "display_data"
    },
    {
     "data": {
      "text/html": [
       "<h3>Cluster 8.2</h3>"
      ],
      "text/plain": [
       "<IPython.core.display.HTML object>"
      ]
     },
     "metadata": {},
     "output_type": "display_data"
    },
    {
     "data": {
      "text/plain": [
       "3313"
      ]
     },
     "metadata": {},
     "output_type": "display_data"
    },
    {
     "data": {
      "text/plain": [
       "Index(['100001_raw-Food_weight', '100002_raw-Energy', '100003_raw-Protein',\n",
       "       '100004_raw-Fat', '100005_raw-Carbohydrate', '100006_raw-Saturated_fat',\n",
       "       '100007_raw-Polyunsaturated_fat', '100008_raw-Total_sugars',\n",
       "       '100009_raw-Englyst_dietary_fibre', '100010-Portion_size',\n",
       "       ...\n",
       "       'viral human hepatitis infection', 'viral meningitis',\n",
       "       'visual impairment', 'vitiligo', 'vitreous body disease',\n",
       "       'vocal cord polyp', 'voice disorders',\n",
       "       'wellbeing measurement AND family relationship', 'whooping cough',\n",
       "       'wrist fracture'],\n",
       "      dtype='object', length=3313)"
      ]
     },
     "metadata": {},
     "output_type": "display_data"
    },
    {
     "data": {
      "text/html": [
       "<h3>Cluster 8.3</h3>"
      ],
      "text/plain": [
       "<IPython.core.display.HTML object>"
      ]
     },
     "metadata": {},
     "output_type": "display_data"
    },
    {
     "data": {
      "text/plain": [
       "8"
      ]
     },
     "metadata": {},
     "output_type": "display_data"
    },
    {
     "data": {
      "text/plain": [
       "Index(['1717-Skin_colour', '1727-Ease_of_skin_tanning',\n",
       "       '1737-Childhood_sunburn_occasions',\n",
       "       '1747_1-Hair_colour_natural_before_greying_Blonde',\n",
       "       '1747_2-Hair_colour_natural_before_greying_Red',\n",
       "       '1747_3-Hair_colour_natural_before_greying_Light_brown',\n",
       "       '1747_4-Hair_colour_natural_before_greying_Dark_brown',\n",
       "       '1747_5-Hair_colour_natural_before_greying_Black'],\n",
       "      dtype='object')"
      ]
     },
     "metadata": {},
     "output_type": "display_data"
    },
    {
     "data": {
      "text/html": [
       "<h3>Cluster 8.4</h3>"
      ],
      "text/plain": [
       "<IPython.core.display.HTML object>"
      ]
     },
     "metadata": {},
     "output_type": "display_data"
    },
    {
     "data": {
      "text/plain": [
       "36"
      ]
     },
     "metadata": {},
     "output_type": "display_data"
    },
    {
     "data": {
      "text/plain": [
       "Index(['20003_1140861998-Treatmentmedication_code_ventolin_100micrograms_inhaler',\n",
       "       '20003_1140883066-Treatmentmedication_code_insulin_product',\n",
       "       '20003_1141191044-Treatmentmedication_code_levothyroxine_sodium',\n",
       "       '2986-Started_insulin_within_one_year_diagnosis_of_diabetes',\n",
       "       '30000_raw-White_blood_cell_leukocyte_count',\n",
       "       '30120_raw-Lymphocyte_count', '30130_raw-Monocyte_count',\n",
       "       '30140_raw-Neutrophill_count', '30150-Eosinophill_count',\n",
       "       '30180_raw-Lymphocyte_percentage', '30190_raw-Monocyte_percentage',\n",
       "       '30200_raw-Neutrophill_percentage', '30210_raw-Eosinophill_percentage',\n",
       "       '6144_3-Never_eat_eggs_dairy_wheat_sugar_Wheat_products',\n",
       "       '6152_100-Blood_clot_DVT_bronchitis_emphysema_asthma_rhinitis_eczema_allergy_diagnosed_by_doctor_None_of_the_above',\n",
       "       '6152_8-Blood_clot_DVT_bronchitis_emphysema_asthma_rhinitis_eczema_allergy_diagnosed_by_doctor_Asthma',\n",
       "       '6152_9-Blood_clot_DVT_bronchitis_emphysema_asthma_rhinitis_eczema_allergy_diagnosed_by_doctor_Hayfever_allergic_rhinitis_or_eczema',\n",
       "       'K11_COELIAC-Coeliac_disease', 'asthma', 'celiac disease',\n",
       "       'eosinophil count', 'granulocyte count',\n",
       "       'hyperthyroidism AND thyrotoxicosis', 'hypothyroidism AND myxedema',\n",
       "       'leukocyte count', 'lymphocyte count', 'malabsorption syndrome',\n",
       "       'monocyte count', 'myeloid white cell count', 'neutrophil count',\n",
       "       'psoriasis', 'rheumatoid arthritis',\n",
       "       'sum of basophil and neutrophil counts',\n",
       "       'sum of eosinophil and basophil counts',\n",
       "       'sum of neutrophil and eosinophil counts',\n",
       "       'systemic lupus erythematosus'],\n",
       "      dtype='object')"
      ]
     },
     "metadata": {},
     "output_type": "display_data"
    },
    {
     "data": {
      "text/html": [
       "<h3>Cluster 8.5</h3>"
      ],
      "text/plain": [
       "<IPython.core.display.HTML object>"
      ]
     },
     "metadata": {},
     "output_type": "display_data"
    },
    {
     "data": {
      "text/plain": [
       "12"
      ]
     },
     "metadata": {},
     "output_type": "display_data"
    },
    {
     "data": {
      "text/plain": [
       "Index(['3144_raw-Heel_Broadband_ultrasound_attenuation_direct_entry',\n",
       "       '3147_raw-Heel_quantitative_ultrasound_index_QUI_direct_entry',\n",
       "       '3148_raw-Heel_bone_mineral_density_BMD',\n",
       "       '4101_raw-Heel_broadband_ultrasound_attenuation_left',\n",
       "       '4104_raw-Heel_quantitative_ultrasound_index_QUI_direct_entry_left',\n",
       "       '4105_raw-Heel_bone_mineral_density_BMD_left',\n",
       "       '4106_raw-Heel_bone_mineral_density_BMD_Tscore_automated_left',\n",
       "       '4120_raw-Heel_broadband_ultrasound_attenuation_right',\n",
       "       '4123_raw-Heel_quantitative_ultrasound_index_QUI_direct_entry_right',\n",
       "       '4124_raw-Heel_bone_mineral_density_BMD_right',\n",
       "       '4125_raw-Heel_bone_mineral_density_BMD_Tscore_automated_right',\n",
       "       '78_raw-Heel_bone_mineral_density_BMD_Tscore_automated'],\n",
       "      dtype='object')"
      ]
     },
     "metadata": {},
     "output_type": "display_data"
    },
    {
     "data": {
      "text/html": [
       "<h3>Cluster 8.6</h3>"
      ],
      "text/plain": [
       "<IPython.core.display.HTML object>"
      ]
     },
     "metadata": {},
     "output_type": "display_data"
    },
    {
     "data": {
      "text/plain": [
       "8"
      ]
     },
     "metadata": {},
     "output_type": "display_data"
    },
    {
     "data": {
      "text/plain": [
       "Index(['5096_raw-3mm_weak_meridian_left', '5097_raw-6mm_weak_meridian_left',\n",
       "       '5098_raw-6mm_weak_meridian_right', '5099_raw-3mm_weak_meridian_right',\n",
       "       '5132_raw-3mm_strong_meridian_right',\n",
       "       '5133_raw-6mm_strong_meridian_right',\n",
       "       '5134_raw-6mm_strong_meridian_left',\n",
       "       '5135_raw-3mm_strong_meridian_left'],\n",
       "      dtype='object')"
      ]
     },
     "metadata": {},
     "output_type": "display_data"
    },
    {
     "data": {
      "text/html": [
       "<h3>Cluster 8.7</h3>"
      ],
      "text/plain": [
       "<IPython.core.display.HTML object>"
      ]
     },
     "metadata": {},
     "output_type": "display_data"
    },
    {
     "data": {
      "text/plain": [
       "49"
      ]
     },
     "metadata": {},
     "output_type": "display_data"
    },
    {
     "data": {
      "text/plain": [
       "Index(['20015_raw-Sitting_height',\n",
       "       '20150_raw-Forced_expiratory_volume_in_1second_FEV1_Best_measure',\n",
       "       '20151_raw-Forced_vital_capacity_FVC_Best_measure',\n",
       "       '20153_raw-Forced_expiratory_volume_in_1second_FEV1_predicted',\n",
       "       '20154_raw-Forced_expiratory_volume_in_1second_FEV1_predicted_percentage',\n",
       "       '21001_raw-Body_mass_index_BMI', '21002_raw-Weight', '23098_raw-Weight',\n",
       "       '23099_raw-Body_fat_percentage', '23100_raw-Whole_body_fat_mass',\n",
       "       '23101_raw-Whole_body_fatfree_mass', '23102_raw-Whole_body_water_mass',\n",
       "       '23104_raw-Body_mass_index_BMI', '23105_raw-Basal_metabolic_rate',\n",
       "       '23106_raw-Impedance_of_whole_body', '23107_raw-Impedance_of_leg_right',\n",
       "       '23108_raw-Impedance_of_leg_left', '23109_raw-Impedance_of_arm_right',\n",
       "       '23110_raw-Impedance_of_arm_left', '23111_raw-Leg_fat_percentage_right',\n",
       "       '23112_raw-Leg_fat_mass_right', '23113_raw-Leg_fatfree_mass_right',\n",
       "       '23114_raw-Leg_predicted_mass_right',\n",
       "       '23115_raw-Leg_fat_percentage_left', '23116_raw-Leg_fat_mass_left',\n",
       "       '23117_raw-Leg_fatfree_mass_left', '23118_raw-Leg_predicted_mass_left',\n",
       "       '23119_raw-Arm_fat_percentage_right', '23120_raw-Arm_fat_mass_right',\n",
       "       '23121_raw-Arm_fatfree_mass_right',\n",
       "       '23122_raw-Arm_predicted_mass_right',\n",
       "       '23123_raw-Arm_fat_percentage_left', '23124_raw-Arm_fat_mass_left',\n",
       "       '23125_raw-Arm_fatfree_mass_left', '23126_raw-Arm_predicted_mass_left',\n",
       "       '23127_raw-Trunk_fat_percentage', '23128_raw-Trunk_fat_mass',\n",
       "       '23129_raw-Trunk_fatfree_mass', '23130_raw-Trunk_predicted_mass',\n",
       "       '3062_raw-Forced_vital_capacity_FVC',\n",
       "       '3063_raw-Forced_expiratory_volume_in_1second_FEV1',\n",
       "       '3064_raw-Peak_expiratory_flow_PEF', '3143_raw-Ankle_spacing_width',\n",
       "       '4100_raw-Ankle_spacing_width_left',\n",
       "       '4119_raw-Ankle_spacing_width_right', '48_raw-Waist_circumference',\n",
       "       '49_raw-Hip_circumference', '50_raw-Standing_height', 'body height'],\n",
       "      dtype='object')"
      ]
     },
     "metadata": {},
     "output_type": "display_data"
    },
    {
     "data": {
      "text/html": [
       "<h2>Partition with k=9</h2>"
      ],
      "text/plain": [
       "<IPython.core.display.HTML object>"
      ]
     },
     "metadata": {},
     "output_type": "display_data"
    },
    {
     "data": {
      "text/plain": [
       "method                              eac_complete_coassoc_matrix\n",
       "partition     [2, 2, 2, 2, 2, 2, 2, 2, 2, 2, 2, 2, 2, 2, 2, ...\n",
       "ari_median                                            0.0887772\n",
       "selected                                                   True\n",
       "Name: 9, dtype: object"
      ]
     },
     "metadata": {},
     "output_type": "display_data"
    },
    {
     "data": {
      "text/plain": [
       "(3752,)"
      ]
     },
     "metadata": {},
     "output_type": "display_data"
    },
    {
     "data": {
      "text/plain": [
       "2    3313\n",
       "1     284\n",
       "7      49\n",
       "4      36\n",
       "0      23\n",
       "8      19\n",
       "5      12\n",
       "3       8\n",
       "6       8\n",
       "dtype: int64"
      ]
     },
     "metadata": {},
     "output_type": "display_data"
    },
    {
     "data": {
      "text/html": [
       "<h3>Cluster 9.0</h3>"
      ],
      "text/plain": [
       "<IPython.core.display.HTML object>"
      ]
     },
     "metadata": {},
     "output_type": "display_data"
    },
    {
     "data": {
      "text/plain": [
       "23"
      ]
     },
     "metadata": {},
     "output_type": "display_data"
    },
    {
     "data": {
      "text/plain": [
       "Index(['30010_raw-Red_blood_cell_erythrocyte_count',\n",
       "       '30020_raw-Haemoglobin_concentration',\n",
       "       '30030_raw-Haematocrit_percentage', '30040_raw-Mean_corpuscular_volume',\n",
       "       '30050_raw-Mean_corpuscular_haemoglobin',\n",
       "       '30060_raw-Mean_corpuscular_haemoglobin_concentration',\n",
       "       '30070_raw-Red_blood_cell_erythrocyte_distribution_width',\n",
       "       '30080_raw-Platelet_count', '30090_raw-Platelet_crit',\n",
       "       '30100_raw-Mean_platelet_thrombocyte_volume',\n",
       "       '30110_raw-Platelet_distribution_width',\n",
       "       '30240_raw-Reticulocyte_percentage', '30250_raw-Reticulocyte_count',\n",
       "       '30260_raw-Mean_reticulocyte_volume',\n",
       "       '30270_raw-Mean_sphered_cell_volume',\n",
       "       '30280_raw-Immature_reticulocyte_fraction',\n",
       "       '30290_raw-High_light_scatter_reticulocyte_percentage',\n",
       "       '30300_raw-High_light_scatter_reticulocyte_count',\n",
       "       '46_raw-Hand_grip_strength_left', '47_raw-Hand_grip_strength_right',\n",
       "       'erythrocyte count', 'platelet count', 'reticulocyte count'],\n",
       "      dtype='object')"
      ]
     },
     "metadata": {},
     "output_type": "display_data"
    },
    {
     "data": {
      "text/html": [
       "<h3>Cluster 9.1</h3>"
      ],
      "text/plain": [
       "<IPython.core.display.HTML object>"
      ]
     },
     "metadata": {},
     "output_type": "display_data"
    },
    {
     "data": {
      "text/plain": [
       "284"
      ]
     },
     "metadata": {},
     "output_type": "display_data"
    },
    {
     "data": {
      "text/plain": [
       "Index(['1021-Duration_of_light_DIY', '102_raw-Pulse_rate_automated_reading',\n",
       "       '1050-Time_spend_outdoors_in_summer',\n",
       "       '1060-Time_spent_outdoors_in_winter',\n",
       "       '1070-Time_spent_watching_television_TV',\n",
       "       '1080-Time_spent_using_computer', '1090-Time_spent_driving',\n",
       "       '1100-Drive_faster_than_motorway_speed_limit',\n",
       "       '110001-Invitation_to_complete_online_24hour_recall_dietary_questionnaire_acceptance',\n",
       "       '1110-Length_of_mobile_phone_use',\n",
       "       ...\n",
       "       'skin neoplasm', 'sleep duration', 'smoking behavior',\n",
       "       'smoking cessation', 'snoring measurement', 'tiredness measurement',\n",
       "       'type i diabetes mellitus', 'varicose veins', 'wheezing',\n",
       "       'worry measurement'],\n",
       "      dtype='object', length=284)"
      ]
     },
     "metadata": {},
     "output_type": "display_data"
    },
    {
     "data": {
      "text/html": [
       "<h3>Cluster 9.2</h3>"
      ],
      "text/plain": [
       "<IPython.core.display.HTML object>"
      ]
     },
     "metadata": {},
     "output_type": "display_data"
    },
    {
     "data": {
      "text/plain": [
       "3313"
      ]
     },
     "metadata": {},
     "output_type": "display_data"
    },
    {
     "data": {
      "text/plain": [
       "Index(['100001_raw-Food_weight', '100002_raw-Energy', '100003_raw-Protein',\n",
       "       '100004_raw-Fat', '100005_raw-Carbohydrate', '100006_raw-Saturated_fat',\n",
       "       '100007_raw-Polyunsaturated_fat', '100008_raw-Total_sugars',\n",
       "       '100009_raw-Englyst_dietary_fibre', '100010-Portion_size',\n",
       "       ...\n",
       "       'viral human hepatitis infection', 'viral meningitis',\n",
       "       'visual impairment', 'vitiligo', 'vitreous body disease',\n",
       "       'vocal cord polyp', 'voice disorders',\n",
       "       'wellbeing measurement AND family relationship', 'whooping cough',\n",
       "       'wrist fracture'],\n",
       "      dtype='object', length=3313)"
      ]
     },
     "metadata": {},
     "output_type": "display_data"
    },
    {
     "data": {
      "text/html": [
       "<h3>Cluster 9.3</h3>"
      ],
      "text/plain": [
       "<IPython.core.display.HTML object>"
      ]
     },
     "metadata": {},
     "output_type": "display_data"
    },
    {
     "data": {
      "text/plain": [
       "8"
      ]
     },
     "metadata": {},
     "output_type": "display_data"
    },
    {
     "data": {
      "text/plain": [
       "Index(['1717-Skin_colour', '1727-Ease_of_skin_tanning',\n",
       "       '1737-Childhood_sunburn_occasions',\n",
       "       '1747_1-Hair_colour_natural_before_greying_Blonde',\n",
       "       '1747_2-Hair_colour_natural_before_greying_Red',\n",
       "       '1747_3-Hair_colour_natural_before_greying_Light_brown',\n",
       "       '1747_4-Hair_colour_natural_before_greying_Dark_brown',\n",
       "       '1747_5-Hair_colour_natural_before_greying_Black'],\n",
       "      dtype='object')"
      ]
     },
     "metadata": {},
     "output_type": "display_data"
    },
    {
     "data": {
      "text/html": [
       "<h3>Cluster 9.4</h3>"
      ],
      "text/plain": [
       "<IPython.core.display.HTML object>"
      ]
     },
     "metadata": {},
     "output_type": "display_data"
    },
    {
     "data": {
      "text/plain": [
       "36"
      ]
     },
     "metadata": {},
     "output_type": "display_data"
    },
    {
     "data": {
      "text/plain": [
       "Index(['20003_1140861998-Treatmentmedication_code_ventolin_100micrograms_inhaler',\n",
       "       '20003_1140883066-Treatmentmedication_code_insulin_product',\n",
       "       '20003_1141191044-Treatmentmedication_code_levothyroxine_sodium',\n",
       "       '2986-Started_insulin_within_one_year_diagnosis_of_diabetes',\n",
       "       '30000_raw-White_blood_cell_leukocyte_count',\n",
       "       '30120_raw-Lymphocyte_count', '30130_raw-Monocyte_count',\n",
       "       '30140_raw-Neutrophill_count', '30150-Eosinophill_count',\n",
       "       '30180_raw-Lymphocyte_percentage', '30190_raw-Monocyte_percentage',\n",
       "       '30200_raw-Neutrophill_percentage', '30210_raw-Eosinophill_percentage',\n",
       "       '6144_3-Never_eat_eggs_dairy_wheat_sugar_Wheat_products',\n",
       "       '6152_100-Blood_clot_DVT_bronchitis_emphysema_asthma_rhinitis_eczema_allergy_diagnosed_by_doctor_None_of_the_above',\n",
       "       '6152_8-Blood_clot_DVT_bronchitis_emphysema_asthma_rhinitis_eczema_allergy_diagnosed_by_doctor_Asthma',\n",
       "       '6152_9-Blood_clot_DVT_bronchitis_emphysema_asthma_rhinitis_eczema_allergy_diagnosed_by_doctor_Hayfever_allergic_rhinitis_or_eczema',\n",
       "       'K11_COELIAC-Coeliac_disease', 'asthma', 'celiac disease',\n",
       "       'eosinophil count', 'granulocyte count',\n",
       "       'hyperthyroidism AND thyrotoxicosis', 'hypothyroidism AND myxedema',\n",
       "       'leukocyte count', 'lymphocyte count', 'malabsorption syndrome',\n",
       "       'monocyte count', 'myeloid white cell count', 'neutrophil count',\n",
       "       'psoriasis', 'rheumatoid arthritis',\n",
       "       'sum of basophil and neutrophil counts',\n",
       "       'sum of eosinophil and basophil counts',\n",
       "       'sum of neutrophil and eosinophil counts',\n",
       "       'systemic lupus erythematosus'],\n",
       "      dtype='object')"
      ]
     },
     "metadata": {},
     "output_type": "display_data"
    },
    {
     "data": {
      "text/html": [
       "<h3>Cluster 9.5</h3>"
      ],
      "text/plain": [
       "<IPython.core.display.HTML object>"
      ]
     },
     "metadata": {},
     "output_type": "display_data"
    },
    {
     "data": {
      "text/plain": [
       "12"
      ]
     },
     "metadata": {},
     "output_type": "display_data"
    },
    {
     "data": {
      "text/plain": [
       "Index(['3144_raw-Heel_Broadband_ultrasound_attenuation_direct_entry',\n",
       "       '3147_raw-Heel_quantitative_ultrasound_index_QUI_direct_entry',\n",
       "       '3148_raw-Heel_bone_mineral_density_BMD',\n",
       "       '4101_raw-Heel_broadband_ultrasound_attenuation_left',\n",
       "       '4104_raw-Heel_quantitative_ultrasound_index_QUI_direct_entry_left',\n",
       "       '4105_raw-Heel_bone_mineral_density_BMD_left',\n",
       "       '4106_raw-Heel_bone_mineral_density_BMD_Tscore_automated_left',\n",
       "       '4120_raw-Heel_broadband_ultrasound_attenuation_right',\n",
       "       '4123_raw-Heel_quantitative_ultrasound_index_QUI_direct_entry_right',\n",
       "       '4124_raw-Heel_bone_mineral_density_BMD_right',\n",
       "       '4125_raw-Heel_bone_mineral_density_BMD_Tscore_automated_right',\n",
       "       '78_raw-Heel_bone_mineral_density_BMD_Tscore_automated'],\n",
       "      dtype='object')"
      ]
     },
     "metadata": {},
     "output_type": "display_data"
    },
    {
     "data": {
      "text/html": [
       "<h3>Cluster 9.6</h3>"
      ],
      "text/plain": [
       "<IPython.core.display.HTML object>"
      ]
     },
     "metadata": {},
     "output_type": "display_data"
    },
    {
     "data": {
      "text/plain": [
       "8"
      ]
     },
     "metadata": {},
     "output_type": "display_data"
    },
    {
     "data": {
      "text/plain": [
       "Index(['5096_raw-3mm_weak_meridian_left', '5097_raw-6mm_weak_meridian_left',\n",
       "       '5098_raw-6mm_weak_meridian_right', '5099_raw-3mm_weak_meridian_right',\n",
       "       '5132_raw-3mm_strong_meridian_right',\n",
       "       '5133_raw-6mm_strong_meridian_right',\n",
       "       '5134_raw-6mm_strong_meridian_left',\n",
       "       '5135_raw-3mm_strong_meridian_left'],\n",
       "      dtype='object')"
      ]
     },
     "metadata": {},
     "output_type": "display_data"
    },
    {
     "data": {
      "text/html": [
       "<h3>Cluster 9.7</h3>"
      ],
      "text/plain": [
       "<IPython.core.display.HTML object>"
      ]
     },
     "metadata": {},
     "output_type": "display_data"
    },
    {
     "data": {
      "text/plain": [
       "49"
      ]
     },
     "metadata": {},
     "output_type": "display_data"
    },
    {
     "data": {
      "text/plain": [
       "Index(['20015_raw-Sitting_height',\n",
       "       '20150_raw-Forced_expiratory_volume_in_1second_FEV1_Best_measure',\n",
       "       '20151_raw-Forced_vital_capacity_FVC_Best_measure',\n",
       "       '20153_raw-Forced_expiratory_volume_in_1second_FEV1_predicted',\n",
       "       '20154_raw-Forced_expiratory_volume_in_1second_FEV1_predicted_percentage',\n",
       "       '21001_raw-Body_mass_index_BMI', '21002_raw-Weight', '23098_raw-Weight',\n",
       "       '23099_raw-Body_fat_percentage', '23100_raw-Whole_body_fat_mass',\n",
       "       '23101_raw-Whole_body_fatfree_mass', '23102_raw-Whole_body_water_mass',\n",
       "       '23104_raw-Body_mass_index_BMI', '23105_raw-Basal_metabolic_rate',\n",
       "       '23106_raw-Impedance_of_whole_body', '23107_raw-Impedance_of_leg_right',\n",
       "       '23108_raw-Impedance_of_leg_left', '23109_raw-Impedance_of_arm_right',\n",
       "       '23110_raw-Impedance_of_arm_left', '23111_raw-Leg_fat_percentage_right',\n",
       "       '23112_raw-Leg_fat_mass_right', '23113_raw-Leg_fatfree_mass_right',\n",
       "       '23114_raw-Leg_predicted_mass_right',\n",
       "       '23115_raw-Leg_fat_percentage_left', '23116_raw-Leg_fat_mass_left',\n",
       "       '23117_raw-Leg_fatfree_mass_left', '23118_raw-Leg_predicted_mass_left',\n",
       "       '23119_raw-Arm_fat_percentage_right', '23120_raw-Arm_fat_mass_right',\n",
       "       '23121_raw-Arm_fatfree_mass_right',\n",
       "       '23122_raw-Arm_predicted_mass_right',\n",
       "       '23123_raw-Arm_fat_percentage_left', '23124_raw-Arm_fat_mass_left',\n",
       "       '23125_raw-Arm_fatfree_mass_left', '23126_raw-Arm_predicted_mass_left',\n",
       "       '23127_raw-Trunk_fat_percentage', '23128_raw-Trunk_fat_mass',\n",
       "       '23129_raw-Trunk_fatfree_mass', '23130_raw-Trunk_predicted_mass',\n",
       "       '3062_raw-Forced_vital_capacity_FVC',\n",
       "       '3063_raw-Forced_expiratory_volume_in_1second_FEV1',\n",
       "       '3064_raw-Peak_expiratory_flow_PEF', '3143_raw-Ankle_spacing_width',\n",
       "       '4100_raw-Ankle_spacing_width_left',\n",
       "       '4119_raw-Ankle_spacing_width_right', '48_raw-Waist_circumference',\n",
       "       '49_raw-Hip_circumference', '50_raw-Standing_height', 'body height'],\n",
       "      dtype='object')"
      ]
     },
     "metadata": {},
     "output_type": "display_data"
    },
    {
     "data": {
      "text/html": [
       "<h3>Cluster 9.8</h3>"
      ],
      "text/plain": [
       "<IPython.core.display.HTML object>"
      ]
     },
     "metadata": {},
     "output_type": "display_data"
    },
    {
     "data": {
      "text/plain": [
       "19"
      ]
     },
     "metadata": {},
     "output_type": "display_data"
    },
    {
     "data": {
      "text/plain": [
       "Index(['EAGLE_Eczema', 'Jones_et_al_2016_Chronotype', 'MAGNETIC_CH2.DB.ratio',\n",
       "       'MAGNETIC_HDL.C', 'MAGNETIC_IDL.TG', 'MAGNETIC_LDL.C',\n",
       "       'SSGAC_Education_Years_Pooled', 'alzheimer's disease',\n",
       "       'attention deficit hyperactivity disorder', 'bone density',\n",
       "       'coronary artery disease', 'estrogen-receptor negative breast cancer',\n",
       "       'estrogen-receptor positive breast cancer',\n",
       "       'family history of breast cancer', 'fasting blood glucose measurement',\n",
       "       'fasting blood insulin measurement', 'inflammatory bowel disease',\n",
       "       'intracranial volume measurement', 'schizophrenia'],\n",
       "      dtype='object')"
      ]
     },
     "metadata": {},
     "output_type": "display_data"
    },
    {
     "data": {
      "text/html": [
       "<h2>Partition with k=10</h2>"
      ],
      "text/plain": [
       "<IPython.core.display.HTML object>"
      ]
     },
     "metadata": {},
     "output_type": "display_data"
    },
    {
     "data": {
      "text/plain": [
       "method                              eac_complete_coassoc_matrix\n",
       "partition     [2, 2, 2, 2, 2, 2, 2, 2, 2, 2, 2, 2, 2, 2, 2, ...\n",
       "ari_median                                            0.0887631\n",
       "selected                                                   True\n",
       "Name: 10, dtype: object"
      ]
     },
     "metadata": {},
     "output_type": "display_data"
    },
    {
     "data": {
      "text/plain": [
       "(3752,)"
      ]
     },
     "metadata": {},
     "output_type": "display_data"
    },
    {
     "data": {
      "text/plain": [
       "2    3313\n",
       "0     284\n",
       "7      49\n",
       "4      36\n",
       "8      19\n",
       "9      16\n",
       "5      12\n",
       "3       8\n",
       "6       8\n",
       "1       7\n",
       "dtype: int64"
      ]
     },
     "metadata": {},
     "output_type": "display_data"
    },
    {
     "data": {
      "text/html": [
       "<h3>Cluster 10.0</h3>"
      ],
      "text/plain": [
       "<IPython.core.display.HTML object>"
      ]
     },
     "metadata": {},
     "output_type": "display_data"
    },
    {
     "data": {
      "text/plain": [
       "284"
      ]
     },
     "metadata": {},
     "output_type": "display_data"
    },
    {
     "data": {
      "text/plain": [
       "Index(['1021-Duration_of_light_DIY', '102_raw-Pulse_rate_automated_reading',\n",
       "       '1050-Time_spend_outdoors_in_summer',\n",
       "       '1060-Time_spent_outdoors_in_winter',\n",
       "       '1070-Time_spent_watching_television_TV',\n",
       "       '1080-Time_spent_using_computer', '1090-Time_spent_driving',\n",
       "       '1100-Drive_faster_than_motorway_speed_limit',\n",
       "       '110001-Invitation_to_complete_online_24hour_recall_dietary_questionnaire_acceptance',\n",
       "       '1110-Length_of_mobile_phone_use',\n",
       "       ...\n",
       "       'skin neoplasm', 'sleep duration', 'smoking behavior',\n",
       "       'smoking cessation', 'snoring measurement', 'tiredness measurement',\n",
       "       'type i diabetes mellitus', 'varicose veins', 'wheezing',\n",
       "       'worry measurement'],\n",
       "      dtype='object', length=284)"
      ]
     },
     "metadata": {},
     "output_type": "display_data"
    },
    {
     "data": {
      "text/html": [
       "<h3>Cluster 10.1</h3>"
      ],
      "text/plain": [
       "<IPython.core.display.HTML object>"
      ]
     },
     "metadata": {},
     "output_type": "display_data"
    },
    {
     "data": {
      "text/plain": [
       "7"
      ]
     },
     "metadata": {},
     "output_type": "display_data"
    },
    {
     "data": {
      "text/plain": [
       "Index(['30080_raw-Platelet_count', '30090_raw-Platelet_crit',\n",
       "       '30100_raw-Mean_platelet_thrombocyte_volume',\n",
       "       '30110_raw-Platelet_distribution_width',\n",
       "       '46_raw-Hand_grip_strength_left', '47_raw-Hand_grip_strength_right',\n",
       "       'platelet count'],\n",
       "      dtype='object')"
      ]
     },
     "metadata": {},
     "output_type": "display_data"
    },
    {
     "data": {
      "text/html": [
       "<h3>Cluster 10.2</h3>"
      ],
      "text/plain": [
       "<IPython.core.display.HTML object>"
      ]
     },
     "metadata": {},
     "output_type": "display_data"
    },
    {
     "data": {
      "text/plain": [
       "3313"
      ]
     },
     "metadata": {},
     "output_type": "display_data"
    },
    {
     "data": {
      "text/plain": [
       "Index(['100001_raw-Food_weight', '100002_raw-Energy', '100003_raw-Protein',\n",
       "       '100004_raw-Fat', '100005_raw-Carbohydrate', '100006_raw-Saturated_fat',\n",
       "       '100007_raw-Polyunsaturated_fat', '100008_raw-Total_sugars',\n",
       "       '100009_raw-Englyst_dietary_fibre', '100010-Portion_size',\n",
       "       ...\n",
       "       'viral human hepatitis infection', 'viral meningitis',\n",
       "       'visual impairment', 'vitiligo', 'vitreous body disease',\n",
       "       'vocal cord polyp', 'voice disorders',\n",
       "       'wellbeing measurement AND family relationship', 'whooping cough',\n",
       "       'wrist fracture'],\n",
       "      dtype='object', length=3313)"
      ]
     },
     "metadata": {},
     "output_type": "display_data"
    },
    {
     "data": {
      "text/html": [
       "<h3>Cluster 10.3</h3>"
      ],
      "text/plain": [
       "<IPython.core.display.HTML object>"
      ]
     },
     "metadata": {},
     "output_type": "display_data"
    },
    {
     "data": {
      "text/plain": [
       "8"
      ]
     },
     "metadata": {},
     "output_type": "display_data"
    },
    {
     "data": {
      "text/plain": [
       "Index(['1717-Skin_colour', '1727-Ease_of_skin_tanning',\n",
       "       '1737-Childhood_sunburn_occasions',\n",
       "       '1747_1-Hair_colour_natural_before_greying_Blonde',\n",
       "       '1747_2-Hair_colour_natural_before_greying_Red',\n",
       "       '1747_3-Hair_colour_natural_before_greying_Light_brown',\n",
       "       '1747_4-Hair_colour_natural_before_greying_Dark_brown',\n",
       "       '1747_5-Hair_colour_natural_before_greying_Black'],\n",
       "      dtype='object')"
      ]
     },
     "metadata": {},
     "output_type": "display_data"
    },
    {
     "data": {
      "text/html": [
       "<h3>Cluster 10.4</h3>"
      ],
      "text/plain": [
       "<IPython.core.display.HTML object>"
      ]
     },
     "metadata": {},
     "output_type": "display_data"
    },
    {
     "data": {
      "text/plain": [
       "36"
      ]
     },
     "metadata": {},
     "output_type": "display_data"
    },
    {
     "data": {
      "text/plain": [
       "Index(['20003_1140861998-Treatmentmedication_code_ventolin_100micrograms_inhaler',\n",
       "       '20003_1140883066-Treatmentmedication_code_insulin_product',\n",
       "       '20003_1141191044-Treatmentmedication_code_levothyroxine_sodium',\n",
       "       '2986-Started_insulin_within_one_year_diagnosis_of_diabetes',\n",
       "       '30000_raw-White_blood_cell_leukocyte_count',\n",
       "       '30120_raw-Lymphocyte_count', '30130_raw-Monocyte_count',\n",
       "       '30140_raw-Neutrophill_count', '30150-Eosinophill_count',\n",
       "       '30180_raw-Lymphocyte_percentage', '30190_raw-Monocyte_percentage',\n",
       "       '30200_raw-Neutrophill_percentage', '30210_raw-Eosinophill_percentage',\n",
       "       '6144_3-Never_eat_eggs_dairy_wheat_sugar_Wheat_products',\n",
       "       '6152_100-Blood_clot_DVT_bronchitis_emphysema_asthma_rhinitis_eczema_allergy_diagnosed_by_doctor_None_of_the_above',\n",
       "       '6152_8-Blood_clot_DVT_bronchitis_emphysema_asthma_rhinitis_eczema_allergy_diagnosed_by_doctor_Asthma',\n",
       "       '6152_9-Blood_clot_DVT_bronchitis_emphysema_asthma_rhinitis_eczema_allergy_diagnosed_by_doctor_Hayfever_allergic_rhinitis_or_eczema',\n",
       "       'K11_COELIAC-Coeliac_disease', 'asthma', 'celiac disease',\n",
       "       'eosinophil count', 'granulocyte count',\n",
       "       'hyperthyroidism AND thyrotoxicosis', 'hypothyroidism AND myxedema',\n",
       "       'leukocyte count', 'lymphocyte count', 'malabsorption syndrome',\n",
       "       'monocyte count', 'myeloid white cell count', 'neutrophil count',\n",
       "       'psoriasis', 'rheumatoid arthritis',\n",
       "       'sum of basophil and neutrophil counts',\n",
       "       'sum of eosinophil and basophil counts',\n",
       "       'sum of neutrophil and eosinophil counts',\n",
       "       'systemic lupus erythematosus'],\n",
       "      dtype='object')"
      ]
     },
     "metadata": {},
     "output_type": "display_data"
    },
    {
     "data": {
      "text/html": [
       "<h3>Cluster 10.5</h3>"
      ],
      "text/plain": [
       "<IPython.core.display.HTML object>"
      ]
     },
     "metadata": {},
     "output_type": "display_data"
    },
    {
     "data": {
      "text/plain": [
       "12"
      ]
     },
     "metadata": {},
     "output_type": "display_data"
    },
    {
     "data": {
      "text/plain": [
       "Index(['3144_raw-Heel_Broadband_ultrasound_attenuation_direct_entry',\n",
       "       '3147_raw-Heel_quantitative_ultrasound_index_QUI_direct_entry',\n",
       "       '3148_raw-Heel_bone_mineral_density_BMD',\n",
       "       '4101_raw-Heel_broadband_ultrasound_attenuation_left',\n",
       "       '4104_raw-Heel_quantitative_ultrasound_index_QUI_direct_entry_left',\n",
       "       '4105_raw-Heel_bone_mineral_density_BMD_left',\n",
       "       '4106_raw-Heel_bone_mineral_density_BMD_Tscore_automated_left',\n",
       "       '4120_raw-Heel_broadband_ultrasound_attenuation_right',\n",
       "       '4123_raw-Heel_quantitative_ultrasound_index_QUI_direct_entry_right',\n",
       "       '4124_raw-Heel_bone_mineral_density_BMD_right',\n",
       "       '4125_raw-Heel_bone_mineral_density_BMD_Tscore_automated_right',\n",
       "       '78_raw-Heel_bone_mineral_density_BMD_Tscore_automated'],\n",
       "      dtype='object')"
      ]
     },
     "metadata": {},
     "output_type": "display_data"
    },
    {
     "data": {
      "text/html": [
       "<h3>Cluster 10.6</h3>"
      ],
      "text/plain": [
       "<IPython.core.display.HTML object>"
      ]
     },
     "metadata": {},
     "output_type": "display_data"
    },
    {
     "data": {
      "text/plain": [
       "8"
      ]
     },
     "metadata": {},
     "output_type": "display_data"
    },
    {
     "data": {
      "text/plain": [
       "Index(['5096_raw-3mm_weak_meridian_left', '5097_raw-6mm_weak_meridian_left',\n",
       "       '5098_raw-6mm_weak_meridian_right', '5099_raw-3mm_weak_meridian_right',\n",
       "       '5132_raw-3mm_strong_meridian_right',\n",
       "       '5133_raw-6mm_strong_meridian_right',\n",
       "       '5134_raw-6mm_strong_meridian_left',\n",
       "       '5135_raw-3mm_strong_meridian_left'],\n",
       "      dtype='object')"
      ]
     },
     "metadata": {},
     "output_type": "display_data"
    },
    {
     "data": {
      "text/html": [
       "<h3>Cluster 10.7</h3>"
      ],
      "text/plain": [
       "<IPython.core.display.HTML object>"
      ]
     },
     "metadata": {},
     "output_type": "display_data"
    },
    {
     "data": {
      "text/plain": [
       "49"
      ]
     },
     "metadata": {},
     "output_type": "display_data"
    },
    {
     "data": {
      "text/plain": [
       "Index(['20015_raw-Sitting_height',\n",
       "       '20150_raw-Forced_expiratory_volume_in_1second_FEV1_Best_measure',\n",
       "       '20151_raw-Forced_vital_capacity_FVC_Best_measure',\n",
       "       '20153_raw-Forced_expiratory_volume_in_1second_FEV1_predicted',\n",
       "       '20154_raw-Forced_expiratory_volume_in_1second_FEV1_predicted_percentage',\n",
       "       '21001_raw-Body_mass_index_BMI', '21002_raw-Weight', '23098_raw-Weight',\n",
       "       '23099_raw-Body_fat_percentage', '23100_raw-Whole_body_fat_mass',\n",
       "       '23101_raw-Whole_body_fatfree_mass', '23102_raw-Whole_body_water_mass',\n",
       "       '23104_raw-Body_mass_index_BMI', '23105_raw-Basal_metabolic_rate',\n",
       "       '23106_raw-Impedance_of_whole_body', '23107_raw-Impedance_of_leg_right',\n",
       "       '23108_raw-Impedance_of_leg_left', '23109_raw-Impedance_of_arm_right',\n",
       "       '23110_raw-Impedance_of_arm_left', '23111_raw-Leg_fat_percentage_right',\n",
       "       '23112_raw-Leg_fat_mass_right', '23113_raw-Leg_fatfree_mass_right',\n",
       "       '23114_raw-Leg_predicted_mass_right',\n",
       "       '23115_raw-Leg_fat_percentage_left', '23116_raw-Leg_fat_mass_left',\n",
       "       '23117_raw-Leg_fatfree_mass_left', '23118_raw-Leg_predicted_mass_left',\n",
       "       '23119_raw-Arm_fat_percentage_right', '23120_raw-Arm_fat_mass_right',\n",
       "       '23121_raw-Arm_fatfree_mass_right',\n",
       "       '23122_raw-Arm_predicted_mass_right',\n",
       "       '23123_raw-Arm_fat_percentage_left', '23124_raw-Arm_fat_mass_left',\n",
       "       '23125_raw-Arm_fatfree_mass_left', '23126_raw-Arm_predicted_mass_left',\n",
       "       '23127_raw-Trunk_fat_percentage', '23128_raw-Trunk_fat_mass',\n",
       "       '23129_raw-Trunk_fatfree_mass', '23130_raw-Trunk_predicted_mass',\n",
       "       '3062_raw-Forced_vital_capacity_FVC',\n",
       "       '3063_raw-Forced_expiratory_volume_in_1second_FEV1',\n",
       "       '3064_raw-Peak_expiratory_flow_PEF', '3143_raw-Ankle_spacing_width',\n",
       "       '4100_raw-Ankle_spacing_width_left',\n",
       "       '4119_raw-Ankle_spacing_width_right', '48_raw-Waist_circumference',\n",
       "       '49_raw-Hip_circumference', '50_raw-Standing_height', 'body height'],\n",
       "      dtype='object')"
      ]
     },
     "metadata": {},
     "output_type": "display_data"
    },
    {
     "data": {
      "text/html": [
       "<h3>Cluster 10.8</h3>"
      ],
      "text/plain": [
       "<IPython.core.display.HTML object>"
      ]
     },
     "metadata": {},
     "output_type": "display_data"
    },
    {
     "data": {
      "text/plain": [
       "19"
      ]
     },
     "metadata": {},
     "output_type": "display_data"
    },
    {
     "data": {
      "text/plain": [
       "Index(['EAGLE_Eczema', 'Jones_et_al_2016_Chronotype', 'MAGNETIC_CH2.DB.ratio',\n",
       "       'MAGNETIC_HDL.C', 'MAGNETIC_IDL.TG', 'MAGNETIC_LDL.C',\n",
       "       'SSGAC_Education_Years_Pooled', 'alzheimer's disease',\n",
       "       'attention deficit hyperactivity disorder', 'bone density',\n",
       "       'coronary artery disease', 'estrogen-receptor negative breast cancer',\n",
       "       'estrogen-receptor positive breast cancer',\n",
       "       'family history of breast cancer', 'fasting blood glucose measurement',\n",
       "       'fasting blood insulin measurement', 'inflammatory bowel disease',\n",
       "       'intracranial volume measurement', 'schizophrenia'],\n",
       "      dtype='object')"
      ]
     },
     "metadata": {},
     "output_type": "display_data"
    },
    {
     "data": {
      "text/html": [
       "<h3>Cluster 10.9</h3>"
      ],
      "text/plain": [
       "<IPython.core.display.HTML object>"
      ]
     },
     "metadata": {},
     "output_type": "display_data"
    },
    {
     "data": {
      "text/plain": [
       "16"
      ]
     },
     "metadata": {},
     "output_type": "display_data"
    },
    {
     "data": {
      "text/plain": [
       "Index(['30010_raw-Red_blood_cell_erythrocyte_count',\n",
       "       '30020_raw-Haemoglobin_concentration',\n",
       "       '30030_raw-Haematocrit_percentage', '30040_raw-Mean_corpuscular_volume',\n",
       "       '30050_raw-Mean_corpuscular_haemoglobin',\n",
       "       '30060_raw-Mean_corpuscular_haemoglobin_concentration',\n",
       "       '30070_raw-Red_blood_cell_erythrocyte_distribution_width',\n",
       "       '30240_raw-Reticulocyte_percentage', '30250_raw-Reticulocyte_count',\n",
       "       '30260_raw-Mean_reticulocyte_volume',\n",
       "       '30270_raw-Mean_sphered_cell_volume',\n",
       "       '30280_raw-Immature_reticulocyte_fraction',\n",
       "       '30290_raw-High_light_scatter_reticulocyte_percentage',\n",
       "       '30300_raw-High_light_scatter_reticulocyte_count', 'erythrocyte count',\n",
       "       'reticulocyte count'],\n",
       "      dtype='object')"
      ]
     },
     "metadata": {},
     "output_type": "display_data"
    },
    {
     "data": {
      "text/html": [
       "<h2>Partition with k=11</h2>"
      ],
      "text/plain": [
       "<IPython.core.display.HTML object>"
      ]
     },
     "metadata": {},
     "output_type": "display_data"
    },
    {
     "data": {
      "text/plain": [
       "method                                                  scc_025\n",
       "partition     [0, 0, 0, 0, 0, 0, 0, 0, 0, 0, 0, 0, 0, 0, 0, ...\n",
       "ari_median                                            0.0896161\n",
       "selected                                                   True\n",
       "Name: 11, dtype: object"
      ]
     },
     "metadata": {},
     "output_type": "display_data"
    },
    {
     "data": {
      "text/plain": [
       "(3752,)"
      ]
     },
     "metadata": {},
     "output_type": "display_data"
    },
    {
     "data": {
      "text/plain": [
       "0     3300\n",
       "10     340\n",
       "9       29\n",
       "8       18\n",
       "6       18\n",
       "5       12\n",
       "1        9\n",
       "4        8\n",
       "7        7\n",
       "3        6\n",
       "2        5\n",
       "dtype: int64"
      ]
     },
     "metadata": {},
     "output_type": "display_data"
    },
    {
     "data": {
      "text/html": [
       "<h3>Cluster 11.0</h3>"
      ],
      "text/plain": [
       "<IPython.core.display.HTML object>"
      ]
     },
     "metadata": {},
     "output_type": "display_data"
    },
    {
     "data": {
      "text/plain": [
       "3300"
      ]
     },
     "metadata": {},
     "output_type": "display_data"
    },
    {
     "data": {
      "text/plain": [
       "Index(['100001_raw-Food_weight', '100002_raw-Energy', '100003_raw-Protein',\n",
       "       '100004_raw-Fat', '100005_raw-Carbohydrate', '100006_raw-Saturated_fat',\n",
       "       '100007_raw-Polyunsaturated_fat', '100008_raw-Total_sugars',\n",
       "       '100009_raw-Englyst_dietary_fibre', '100010-Portion_size',\n",
       "       ...\n",
       "       'viral human hepatitis infection', 'viral meningitis',\n",
       "       'visual impairment', 'vitiligo', 'vitreous body disease',\n",
       "       'vocal cord polyp', 'voice disorders',\n",
       "       'wellbeing measurement AND family relationship', 'whooping cough',\n",
       "       'wrist fracture'],\n",
       "      dtype='object', length=3300)"
      ]
     },
     "metadata": {},
     "output_type": "display_data"
    },
    {
     "data": {
      "text/html": [
       "<h3>Cluster 11.1</h3>"
      ],
      "text/plain": [
       "<IPython.core.display.HTML object>"
      ]
     },
     "metadata": {},
     "output_type": "display_data"
    },
    {
     "data": {
      "text/plain": [
       "9"
      ]
     },
     "metadata": {},
     "output_type": "display_data"
    },
    {
     "data": {
      "text/plain": [
       "Index(['30010_raw-Red_blood_cell_erythrocyte_count',\n",
       "       '30020_raw-Haemoglobin_concentration',\n",
       "       '30030_raw-Haematocrit_percentage', '30040_raw-Mean_corpuscular_volume',\n",
       "       '30050_raw-Mean_corpuscular_haemoglobin',\n",
       "       '30070_raw-Red_blood_cell_erythrocyte_distribution_width',\n",
       "       '30260_raw-Mean_reticulocyte_volume',\n",
       "       '30270_raw-Mean_sphered_cell_volume', 'erythrocyte count'],\n",
       "      dtype='object')"
      ]
     },
     "metadata": {},
     "output_type": "display_data"
    },
    {
     "data": {
      "text/html": [
       "<h3>Cluster 11.2</h3>"
      ],
      "text/plain": [
       "<IPython.core.display.HTML object>"
      ]
     },
     "metadata": {},
     "output_type": "display_data"
    },
    {
     "data": {
      "text/plain": [
       "5"
      ]
     },
     "metadata": {},
     "output_type": "display_data"
    },
    {
     "data": {
      "text/plain": [
       "Index(['30080_raw-Platelet_count', '30090_raw-Platelet_crit',\n",
       "       '30100_raw-Mean_platelet_thrombocyte_volume',\n",
       "       '30110_raw-Platelet_distribution_width', 'platelet count'],\n",
       "      dtype='object')"
      ]
     },
     "metadata": {},
     "output_type": "display_data"
    },
    {
     "data": {
      "text/html": [
       "<h3>Cluster 11.3</h3>"
      ],
      "text/plain": [
       "<IPython.core.display.HTML object>"
      ]
     },
     "metadata": {},
     "output_type": "display_data"
    },
    {
     "data": {
      "text/plain": [
       "6"
      ]
     },
     "metadata": {},
     "output_type": "display_data"
    },
    {
     "data": {
      "text/plain": [
       "Index(['30240_raw-Reticulocyte_percentage', '30250_raw-Reticulocyte_count',\n",
       "       '30280_raw-Immature_reticulocyte_fraction',\n",
       "       '30290_raw-High_light_scatter_reticulocyte_percentage',\n",
       "       '30300_raw-High_light_scatter_reticulocyte_count',\n",
       "       'reticulocyte count'],\n",
       "      dtype='object')"
      ]
     },
     "metadata": {},
     "output_type": "display_data"
    },
    {
     "data": {
      "text/html": [
       "<h3>Cluster 11.4</h3>"
      ],
      "text/plain": [
       "<IPython.core.display.HTML object>"
      ]
     },
     "metadata": {},
     "output_type": "display_data"
    },
    {
     "data": {
      "text/plain": [
       "8"
      ]
     },
     "metadata": {},
     "output_type": "display_data"
    },
    {
     "data": {
      "text/plain": [
       "Index(['5096_raw-3mm_weak_meridian_left', '5097_raw-6mm_weak_meridian_left',\n",
       "       '5098_raw-6mm_weak_meridian_right', '5099_raw-3mm_weak_meridian_right',\n",
       "       '5132_raw-3mm_strong_meridian_right',\n",
       "       '5133_raw-6mm_strong_meridian_right',\n",
       "       '5134_raw-6mm_strong_meridian_left',\n",
       "       '5135_raw-3mm_strong_meridian_left'],\n",
       "      dtype='object')"
      ]
     },
     "metadata": {},
     "output_type": "display_data"
    },
    {
     "data": {
      "text/html": [
       "<h3>Cluster 11.5</h3>"
      ],
      "text/plain": [
       "<IPython.core.display.HTML object>"
      ]
     },
     "metadata": {},
     "output_type": "display_data"
    },
    {
     "data": {
      "text/plain": [
       "12"
      ]
     },
     "metadata": {},
     "output_type": "display_data"
    },
    {
     "data": {
      "text/plain": [
       "Index(['3144_raw-Heel_Broadband_ultrasound_attenuation_direct_entry',\n",
       "       '3147_raw-Heel_quantitative_ultrasound_index_QUI_direct_entry',\n",
       "       '3148_raw-Heel_bone_mineral_density_BMD',\n",
       "       '4101_raw-Heel_broadband_ultrasound_attenuation_left',\n",
       "       '4104_raw-Heel_quantitative_ultrasound_index_QUI_direct_entry_left',\n",
       "       '4105_raw-Heel_bone_mineral_density_BMD_left',\n",
       "       '4106_raw-Heel_bone_mineral_density_BMD_Tscore_automated_left',\n",
       "       '4120_raw-Heel_broadband_ultrasound_attenuation_right',\n",
       "       '4123_raw-Heel_quantitative_ultrasound_index_QUI_direct_entry_right',\n",
       "       '4124_raw-Heel_bone_mineral_density_BMD_right',\n",
       "       '4125_raw-Heel_bone_mineral_density_BMD_Tscore_automated_right',\n",
       "       '78_raw-Heel_bone_mineral_density_BMD_Tscore_automated'],\n",
       "      dtype='object')"
      ]
     },
     "metadata": {},
     "output_type": "display_data"
    },
    {
     "data": {
      "text/html": [
       "<h3>Cluster 11.6</h3>"
      ],
      "text/plain": [
       "<IPython.core.display.HTML object>"
      ]
     },
     "metadata": {},
     "output_type": "display_data"
    },
    {
     "data": {
      "text/plain": [
       "18"
      ]
     },
     "metadata": {},
     "output_type": "display_data"
    },
    {
     "data": {
      "text/plain": [
       "Index(['30000_raw-White_blood_cell_leukocyte_count',\n",
       "       '30130_raw-Monocyte_count', '30140_raw-Neutrophill_count',\n",
       "       '30150-Eosinophill_count', '30180_raw-Lymphocyte_percentage',\n",
       "       '30190_raw-Monocyte_percentage', '30200_raw-Neutrophill_percentage',\n",
       "       '30210_raw-Eosinophill_percentage', 'eosinophil count',\n",
       "       'granulocyte count', 'leukocyte count', 'lymphocyte count',\n",
       "       'monocyte count', 'myeloid white cell count', 'neutrophil count',\n",
       "       'sum of basophil and neutrophil counts',\n",
       "       'sum of eosinophil and basophil counts',\n",
       "       'sum of neutrophil and eosinophil counts'],\n",
       "      dtype='object')"
      ]
     },
     "metadata": {},
     "output_type": "display_data"
    },
    {
     "data": {
      "text/html": [
       "<h3>Cluster 11.7</h3>"
      ],
      "text/plain": [
       "<IPython.core.display.HTML object>"
      ]
     },
     "metadata": {},
     "output_type": "display_data"
    },
    {
     "data": {
      "text/plain": [
       "7"
      ]
     },
     "metadata": {},
     "output_type": "display_data"
    },
    {
     "data": {
      "text/plain": [
       "Index(['1717-Skin_colour', '1727-Ease_of_skin_tanning',\n",
       "       '1747_1-Hair_colour_natural_before_greying_Blonde',\n",
       "       '1747_2-Hair_colour_natural_before_greying_Red',\n",
       "       '1747_3-Hair_colour_natural_before_greying_Light_brown',\n",
       "       '1747_4-Hair_colour_natural_before_greying_Dark_brown',\n",
       "       '1747_5-Hair_colour_natural_before_greying_Black'],\n",
       "      dtype='object')"
      ]
     },
     "metadata": {},
     "output_type": "display_data"
    },
    {
     "data": {
      "text/html": [
       "<h3>Cluster 11.8</h3>"
      ],
      "text/plain": [
       "<IPython.core.display.HTML object>"
      ]
     },
     "metadata": {},
     "output_type": "display_data"
    },
    {
     "data": {
      "text/plain": [
       "18"
      ]
     },
     "metadata": {},
     "output_type": "display_data"
    },
    {
     "data": {
      "text/plain": [
       "Index(['21001_raw-Body_mass_index_BMI', '21002_raw-Weight', '23098_raw-Weight',\n",
       "       '23099_raw-Body_fat_percentage', '23100_raw-Whole_body_fat_mass',\n",
       "       '23104_raw-Body_mass_index_BMI', '23111_raw-Leg_fat_percentage_right',\n",
       "       '23112_raw-Leg_fat_mass_right', '23115_raw-Leg_fat_percentage_left',\n",
       "       '23116_raw-Leg_fat_mass_left', '23119_raw-Arm_fat_percentage_right',\n",
       "       '23120_raw-Arm_fat_mass_right', '23123_raw-Arm_fat_percentage_left',\n",
       "       '23124_raw-Arm_fat_mass_left', '23127_raw-Trunk_fat_percentage',\n",
       "       '23128_raw-Trunk_fat_mass', '48_raw-Waist_circumference',\n",
       "       '49_raw-Hip_circumference'],\n",
       "      dtype='object')"
      ]
     },
     "metadata": {},
     "output_type": "display_data"
    },
    {
     "data": {
      "text/html": [
       "<h3>Cluster 11.9</h3>"
      ],
      "text/plain": [
       "<IPython.core.display.HTML object>"
      ]
     },
     "metadata": {},
     "output_type": "display_data"
    },
    {
     "data": {
      "text/plain": [
       "29"
      ]
     },
     "metadata": {},
     "output_type": "display_data"
    },
    {
     "data": {
      "text/plain": [
       "Index(['20015_raw-Sitting_height',\n",
       "       '20150_raw-Forced_expiratory_volume_in_1second_FEV1_Best_measure',\n",
       "       '20151_raw-Forced_vital_capacity_FVC_Best_measure',\n",
       "       '20153_raw-Forced_expiratory_volume_in_1second_FEV1_predicted',\n",
       "       '23101_raw-Whole_body_fatfree_mass', '23102_raw-Whole_body_water_mass',\n",
       "       '23105_raw-Basal_metabolic_rate', '23106_raw-Impedance_of_whole_body',\n",
       "       '23107_raw-Impedance_of_leg_right', '23108_raw-Impedance_of_leg_left',\n",
       "       '23109_raw-Impedance_of_arm_right', '23110_raw-Impedance_of_arm_left',\n",
       "       '23113_raw-Leg_fatfree_mass_right',\n",
       "       '23114_raw-Leg_predicted_mass_right', '23117_raw-Leg_fatfree_mass_left',\n",
       "       '23118_raw-Leg_predicted_mass_left', '23121_raw-Arm_fatfree_mass_right',\n",
       "       '23122_raw-Arm_predicted_mass_right', '23125_raw-Arm_fatfree_mass_left',\n",
       "       '23126_raw-Arm_predicted_mass_left', '23129_raw-Trunk_fatfree_mass',\n",
       "       '23130_raw-Trunk_predicted_mass', '3062_raw-Forced_vital_capacity_FVC',\n",
       "       '3063_raw-Forced_expiratory_volume_in_1second_FEV1',\n",
       "       '3143_raw-Ankle_spacing_width', '4100_raw-Ankle_spacing_width_left',\n",
       "       '4119_raw-Ankle_spacing_width_right', '50_raw-Standing_height',\n",
       "       'body height'],\n",
       "      dtype='object')"
      ]
     },
     "metadata": {},
     "output_type": "display_data"
    },
    {
     "data": {
      "text/html": [
       "<h3>Cluster 11.10</h3>"
      ],
      "text/plain": [
       "<IPython.core.display.HTML object>"
      ]
     },
     "metadata": {},
     "output_type": "display_data"
    },
    {
     "data": {
      "text/plain": [
       "340"
      ]
     },
     "metadata": {},
     "output_type": "display_data"
    },
    {
     "data": {
      "text/plain": [
       "Index(['1021-Duration_of_light_DIY', '102_raw-Pulse_rate_automated_reading',\n",
       "       '1031-Frequency_of_friendfamily_visits',\n",
       "       '1050-Time_spend_outdoors_in_summer',\n",
       "       '1060-Time_spent_outdoors_in_winter',\n",
       "       '1070-Time_spent_watching_television_TV',\n",
       "       '1080-Time_spent_using_computer', '1090-Time_spent_driving',\n",
       "       '1100-Drive_faster_than_motorway_speed_limit',\n",
       "       '110001-Invitation_to_complete_online_24hour_recall_dietary_questionnaire_acceptance',\n",
       "       ...\n",
       "       'sleep duration', 'smoking behavior', 'smoking cessation',\n",
       "       'snoring measurement', 'systemic lupus erythematosus',\n",
       "       'tiredness measurement', 'type i diabetes mellitus', 'varicose veins',\n",
       "       'wheezing', 'worry measurement'],\n",
       "      dtype='object', length=340)"
      ]
     },
     "metadata": {},
     "output_type": "display_data"
    },
    {
     "data": {
      "text/html": [
       "<h2>Partition with k=12</h2>"
      ],
      "text/plain": [
       "<IPython.core.display.HTML object>"
      ]
     },
     "metadata": {},
     "output_type": "display_data"
    },
    {
     "data": {
      "text/plain": [
       "method                                                  scc_025\n",
       "partition     [9, 9, 9, 9, 9, 9, 9, 9, 9, 9, 9, 9, 9, 9, 9, ...\n",
       "ari_median                                            0.0898699\n",
       "selected                                                   True\n",
       "Name: 12, dtype: object"
      ]
     },
     "metadata": {},
     "output_type": "display_data"
    },
    {
     "data": {
      "text/plain": [
       "(3752,)"
      ]
     },
     "metadata": {},
     "output_type": "display_data"
    },
    {
     "data": {
      "text/plain": [
       "9     3291\n",
       "0      349\n",
       "10      29\n",
       "7       18\n",
       "4       12\n",
       "11      10\n",
       "3        9\n",
       "5        8\n",
       "6        8\n",
       "8        7\n",
       "2        6\n",
       "1        5\n",
       "dtype: int64"
      ]
     },
     "metadata": {},
     "output_type": "display_data"
    },
    {
     "data": {
      "text/html": [
       "<h3>Cluster 12.0</h3>"
      ],
      "text/plain": [
       "<IPython.core.display.HTML object>"
      ]
     },
     "metadata": {},
     "output_type": "display_data"
    },
    {
     "data": {
      "text/plain": [
       "349"
      ]
     },
     "metadata": {},
     "output_type": "display_data"
    },
    {
     "data": {
      "text/plain": [
       "Index(['1021-Duration_of_light_DIY', '102_raw-Pulse_rate_automated_reading',\n",
       "       '1031-Frequency_of_friendfamily_visits',\n",
       "       '1050-Time_spend_outdoors_in_summer',\n",
       "       '1060-Time_spent_outdoors_in_winter',\n",
       "       '1070-Time_spent_watching_television_TV',\n",
       "       '1080-Time_spent_using_computer', '1090-Time_spent_driving',\n",
       "       '1100-Drive_faster_than_motorway_speed_limit',\n",
       "       '110001-Invitation_to_complete_online_24hour_recall_dietary_questionnaire_acceptance',\n",
       "       ...\n",
       "       'smoking behavior', 'smoking cessation', 'snoring measurement',\n",
       "       'systemic lupus erythematosus', 'tiredness measurement',\n",
       "       'type i diabetes mellitus', 'varicose veins',\n",
       "       'wellbeing measurement AND family relationship', 'wheezing',\n",
       "       'worry measurement'],\n",
       "      dtype='object', length=349)"
      ]
     },
     "metadata": {},
     "output_type": "display_data"
    },
    {
     "data": {
      "text/html": [
       "<h3>Cluster 12.1</h3>"
      ],
      "text/plain": [
       "<IPython.core.display.HTML object>"
      ]
     },
     "metadata": {},
     "output_type": "display_data"
    },
    {
     "data": {
      "text/plain": [
       "5"
      ]
     },
     "metadata": {},
     "output_type": "display_data"
    },
    {
     "data": {
      "text/plain": [
       "Index(['30080_raw-Platelet_count', '30090_raw-Platelet_crit',\n",
       "       '30100_raw-Mean_platelet_thrombocyte_volume',\n",
       "       '30110_raw-Platelet_distribution_width', 'platelet count'],\n",
       "      dtype='object')"
      ]
     },
     "metadata": {},
     "output_type": "display_data"
    },
    {
     "data": {
      "text/html": [
       "<h3>Cluster 12.2</h3>"
      ],
      "text/plain": [
       "<IPython.core.display.HTML object>"
      ]
     },
     "metadata": {},
     "output_type": "display_data"
    },
    {
     "data": {
      "text/plain": [
       "6"
      ]
     },
     "metadata": {},
     "output_type": "display_data"
    },
    {
     "data": {
      "text/plain": [
       "Index(['30240_raw-Reticulocyte_percentage', '30250_raw-Reticulocyte_count',\n",
       "       '30280_raw-Immature_reticulocyte_fraction',\n",
       "       '30290_raw-High_light_scatter_reticulocyte_percentage',\n",
       "       '30300_raw-High_light_scatter_reticulocyte_count',\n",
       "       'reticulocyte count'],\n",
       "      dtype='object')"
      ]
     },
     "metadata": {},
     "output_type": "display_data"
    },
    {
     "data": {
      "text/html": [
       "<h3>Cluster 12.3</h3>"
      ],
      "text/plain": [
       "<IPython.core.display.HTML object>"
      ]
     },
     "metadata": {},
     "output_type": "display_data"
    },
    {
     "data": {
      "text/plain": [
       "9"
      ]
     },
     "metadata": {},
     "output_type": "display_data"
    },
    {
     "data": {
      "text/plain": [
       "Index(['30010_raw-Red_blood_cell_erythrocyte_count',\n",
       "       '30020_raw-Haemoglobin_concentration',\n",
       "       '30030_raw-Haematocrit_percentage', '30040_raw-Mean_corpuscular_volume',\n",
       "       '30050_raw-Mean_corpuscular_haemoglobin',\n",
       "       '30070_raw-Red_blood_cell_erythrocyte_distribution_width',\n",
       "       '30260_raw-Mean_reticulocyte_volume',\n",
       "       '30270_raw-Mean_sphered_cell_volume', 'erythrocyte count'],\n",
       "      dtype='object')"
      ]
     },
     "metadata": {},
     "output_type": "display_data"
    },
    {
     "data": {
      "text/html": [
       "<h3>Cluster 12.4</h3>"
      ],
      "text/plain": [
       "<IPython.core.display.HTML object>"
      ]
     },
     "metadata": {},
     "output_type": "display_data"
    },
    {
     "data": {
      "text/plain": [
       "12"
      ]
     },
     "metadata": {},
     "output_type": "display_data"
    },
    {
     "data": {
      "text/plain": [
       "Index(['3144_raw-Heel_Broadband_ultrasound_attenuation_direct_entry',\n",
       "       '3147_raw-Heel_quantitative_ultrasound_index_QUI_direct_entry',\n",
       "       '3148_raw-Heel_bone_mineral_density_BMD',\n",
       "       '4101_raw-Heel_broadband_ultrasound_attenuation_left',\n",
       "       '4104_raw-Heel_quantitative_ultrasound_index_QUI_direct_entry_left',\n",
       "       '4105_raw-Heel_bone_mineral_density_BMD_left',\n",
       "       '4106_raw-Heel_bone_mineral_density_BMD_Tscore_automated_left',\n",
       "       '4120_raw-Heel_broadband_ultrasound_attenuation_right',\n",
       "       '4123_raw-Heel_quantitative_ultrasound_index_QUI_direct_entry_right',\n",
       "       '4124_raw-Heel_bone_mineral_density_BMD_right',\n",
       "       '4125_raw-Heel_bone_mineral_density_BMD_Tscore_automated_right',\n",
       "       '78_raw-Heel_bone_mineral_density_BMD_Tscore_automated'],\n",
       "      dtype='object')"
      ]
     },
     "metadata": {},
     "output_type": "display_data"
    },
    {
     "data": {
      "text/html": [
       "<h3>Cluster 12.5</h3>"
      ],
      "text/plain": [
       "<IPython.core.display.HTML object>"
      ]
     },
     "metadata": {},
     "output_type": "display_data"
    },
    {
     "data": {
      "text/plain": [
       "8"
      ]
     },
     "metadata": {},
     "output_type": "display_data"
    },
    {
     "data": {
      "text/plain": [
       "Index(['5096_raw-3mm_weak_meridian_left', '5097_raw-6mm_weak_meridian_left',\n",
       "       '5098_raw-6mm_weak_meridian_right', '5099_raw-3mm_weak_meridian_right',\n",
       "       '5132_raw-3mm_strong_meridian_right',\n",
       "       '5133_raw-6mm_strong_meridian_right',\n",
       "       '5134_raw-6mm_strong_meridian_left',\n",
       "       '5135_raw-3mm_strong_meridian_left'],\n",
       "      dtype='object')"
      ]
     },
     "metadata": {},
     "output_type": "display_data"
    },
    {
     "data": {
      "text/html": [
       "<h3>Cluster 12.6</h3>"
      ],
      "text/plain": [
       "<IPython.core.display.HTML object>"
      ]
     },
     "metadata": {},
     "output_type": "display_data"
    },
    {
     "data": {
      "text/plain": [
       "8"
      ]
     },
     "metadata": {},
     "output_type": "display_data"
    },
    {
     "data": {
      "text/plain": [
       "Index(['30000_raw-White_blood_cell_leukocyte_count',\n",
       "       '30140_raw-Neutrophill_count', 'granulocyte count', 'leukocyte count',\n",
       "       'myeloid white cell count', 'neutrophil count',\n",
       "       'sum of basophil and neutrophil counts',\n",
       "       'sum of neutrophil and eosinophil counts'],\n",
       "      dtype='object')"
      ]
     },
     "metadata": {},
     "output_type": "display_data"
    },
    {
     "data": {
      "text/html": [
       "<h3>Cluster 12.7</h3>"
      ],
      "text/plain": [
       "<IPython.core.display.HTML object>"
      ]
     },
     "metadata": {},
     "output_type": "display_data"
    },
    {
     "data": {
      "text/plain": [
       "18"
      ]
     },
     "metadata": {},
     "output_type": "display_data"
    },
    {
     "data": {
      "text/plain": [
       "Index(['21001_raw-Body_mass_index_BMI', '21002_raw-Weight', '23098_raw-Weight',\n",
       "       '23099_raw-Body_fat_percentage', '23100_raw-Whole_body_fat_mass',\n",
       "       '23104_raw-Body_mass_index_BMI', '23111_raw-Leg_fat_percentage_right',\n",
       "       '23112_raw-Leg_fat_mass_right', '23115_raw-Leg_fat_percentage_left',\n",
       "       '23116_raw-Leg_fat_mass_left', '23119_raw-Arm_fat_percentage_right',\n",
       "       '23120_raw-Arm_fat_mass_right', '23123_raw-Arm_fat_percentage_left',\n",
       "       '23124_raw-Arm_fat_mass_left', '23127_raw-Trunk_fat_percentage',\n",
       "       '23128_raw-Trunk_fat_mass', '48_raw-Waist_circumference',\n",
       "       '49_raw-Hip_circumference'],\n",
       "      dtype='object')"
      ]
     },
     "metadata": {},
     "output_type": "display_data"
    },
    {
     "data": {
      "text/html": [
       "<h3>Cluster 12.8</h3>"
      ],
      "text/plain": [
       "<IPython.core.display.HTML object>"
      ]
     },
     "metadata": {},
     "output_type": "display_data"
    },
    {
     "data": {
      "text/plain": [
       "7"
      ]
     },
     "metadata": {},
     "output_type": "display_data"
    },
    {
     "data": {
      "text/plain": [
       "Index(['1717-Skin_colour', '1727-Ease_of_skin_tanning',\n",
       "       '1747_1-Hair_colour_natural_before_greying_Blonde',\n",
       "       '1747_2-Hair_colour_natural_before_greying_Red',\n",
       "       '1747_3-Hair_colour_natural_before_greying_Light_brown',\n",
       "       '1747_4-Hair_colour_natural_before_greying_Dark_brown',\n",
       "       '1747_5-Hair_colour_natural_before_greying_Black'],\n",
       "      dtype='object')"
      ]
     },
     "metadata": {},
     "output_type": "display_data"
    },
    {
     "data": {
      "text/html": [
       "<h3>Cluster 12.9</h3>"
      ],
      "text/plain": [
       "<IPython.core.display.HTML object>"
      ]
     },
     "metadata": {},
     "output_type": "display_data"
    },
    {
     "data": {
      "text/plain": [
       "3291"
      ]
     },
     "metadata": {},
     "output_type": "display_data"
    },
    {
     "data": {
      "text/plain": [
       "Index(['100001_raw-Food_weight', '100002_raw-Energy', '100003_raw-Protein',\n",
       "       '100004_raw-Fat', '100005_raw-Carbohydrate', '100006_raw-Saturated_fat',\n",
       "       '100007_raw-Polyunsaturated_fat', '100008_raw-Total_sugars',\n",
       "       '100009_raw-Englyst_dietary_fibre', '100010-Portion_size',\n",
       "       ...\n",
       "       'viral disease', 'viral human hepatitis infection', 'viral meningitis',\n",
       "       'visual impairment', 'vitiligo', 'vitreous body disease',\n",
       "       'vocal cord polyp', 'voice disorders', 'whooping cough',\n",
       "       'wrist fracture'],\n",
       "      dtype='object', length=3291)"
      ]
     },
     "metadata": {},
     "output_type": "display_data"
    },
    {
     "data": {
      "text/html": [
       "<h3>Cluster 12.10</h3>"
      ],
      "text/plain": [
       "<IPython.core.display.HTML object>"
      ]
     },
     "metadata": {},
     "output_type": "display_data"
    },
    {
     "data": {
      "text/plain": [
       "29"
      ]
     },
     "metadata": {},
     "output_type": "display_data"
    },
    {
     "data": {
      "text/plain": [
       "Index(['20015_raw-Sitting_height',\n",
       "       '20150_raw-Forced_expiratory_volume_in_1second_FEV1_Best_measure',\n",
       "       '20151_raw-Forced_vital_capacity_FVC_Best_measure',\n",
       "       '20153_raw-Forced_expiratory_volume_in_1second_FEV1_predicted',\n",
       "       '23101_raw-Whole_body_fatfree_mass', '23102_raw-Whole_body_water_mass',\n",
       "       '23105_raw-Basal_metabolic_rate', '23106_raw-Impedance_of_whole_body',\n",
       "       '23107_raw-Impedance_of_leg_right', '23108_raw-Impedance_of_leg_left',\n",
       "       '23109_raw-Impedance_of_arm_right', '23110_raw-Impedance_of_arm_left',\n",
       "       '23113_raw-Leg_fatfree_mass_right',\n",
       "       '23114_raw-Leg_predicted_mass_right', '23117_raw-Leg_fatfree_mass_left',\n",
       "       '23118_raw-Leg_predicted_mass_left', '23121_raw-Arm_fatfree_mass_right',\n",
       "       '23122_raw-Arm_predicted_mass_right', '23125_raw-Arm_fatfree_mass_left',\n",
       "       '23126_raw-Arm_predicted_mass_left', '23129_raw-Trunk_fatfree_mass',\n",
       "       '23130_raw-Trunk_predicted_mass', '3062_raw-Forced_vital_capacity_FVC',\n",
       "       '3063_raw-Forced_expiratory_volume_in_1second_FEV1',\n",
       "       '3143_raw-Ankle_spacing_width', '4100_raw-Ankle_spacing_width_left',\n",
       "       '4119_raw-Ankle_spacing_width_right', '50_raw-Standing_height',\n",
       "       'body height'],\n",
       "      dtype='object')"
      ]
     },
     "metadata": {},
     "output_type": "display_data"
    },
    {
     "data": {
      "text/html": [
       "<h3>Cluster 12.11</h3>"
      ],
      "text/plain": [
       "<IPython.core.display.HTML object>"
      ]
     },
     "metadata": {},
     "output_type": "display_data"
    },
    {
     "data": {
      "text/plain": [
       "10"
      ]
     },
     "metadata": {},
     "output_type": "display_data"
    },
    {
     "data": {
      "text/plain": [
       "Index(['30130_raw-Monocyte_count', '30150-Eosinophill_count',\n",
       "       '30180_raw-Lymphocyte_percentage', '30190_raw-Monocyte_percentage',\n",
       "       '30200_raw-Neutrophill_percentage', '30210_raw-Eosinophill_percentage',\n",
       "       'eosinophil count', 'lymphocyte count', 'monocyte count',\n",
       "       'sum of eosinophil and basophil counts'],\n",
       "      dtype='object')"
      ]
     },
     "metadata": {},
     "output_type": "display_data"
    },
    {
     "data": {
      "text/html": [
       "<h2>Partition with k=13</h2>"
      ],
      "text/plain": [
       "<IPython.core.display.HTML object>"
      ]
     },
     "metadata": {},
     "output_type": "display_data"
    },
    {
     "data": {
      "text/plain": [
       "method                                                  scc_025\n",
       "partition     [0, 0, 0, 0, 0, 0, 0, 0, 0, 0, 0, 0, 0, 0, 0, ...\n",
       "ari_median                                            0.0899203\n",
       "selected                                                   True\n",
       "Name: 13, dtype: object"
      ]
     },
     "metadata": {},
     "output_type": "display_data"
    },
    {
     "data": {
      "text/plain": [
       "(3752,)"
      ]
     },
     "metadata": {},
     "output_type": "display_data"
    },
    {
     "data": {
      "text/plain": [
       "0     3292\n",
       "12     338\n",
       "10      29\n",
       "9       18\n",
       "8       14\n",
       "1       12\n",
       "11      10\n",
       "3        9\n",
       "6        8\n",
       "5        7\n",
       "4        6\n",
       "2        5\n",
       "7        4\n",
       "dtype: int64"
      ]
     },
     "metadata": {},
     "output_type": "display_data"
    },
    {
     "data": {
      "text/html": [
       "<h3>Cluster 13.0</h3>"
      ],
      "text/plain": [
       "<IPython.core.display.HTML object>"
      ]
     },
     "metadata": {},
     "output_type": "display_data"
    },
    {
     "data": {
      "text/plain": [
       "3292"
      ]
     },
     "metadata": {},
     "output_type": "display_data"
    },
    {
     "data": {
      "text/plain": [
       "Index(['100001_raw-Food_weight', '100002_raw-Energy', '100003_raw-Protein',\n",
       "       '100004_raw-Fat', '100005_raw-Carbohydrate', '100006_raw-Saturated_fat',\n",
       "       '100007_raw-Polyunsaturated_fat', '100008_raw-Total_sugars',\n",
       "       '100009_raw-Englyst_dietary_fibre', '100010-Portion_size',\n",
       "       ...\n",
       "       'viral human hepatitis infection', 'viral meningitis',\n",
       "       'visual impairment', 'vitiligo', 'vitreous body disease',\n",
       "       'vocal cord polyp', 'voice disorders',\n",
       "       'wellbeing measurement AND family relationship', 'whooping cough',\n",
       "       'wrist fracture'],\n",
       "      dtype='object', length=3292)"
      ]
     },
     "metadata": {},
     "output_type": "display_data"
    },
    {
     "data": {
      "text/html": [
       "<h3>Cluster 13.1</h3>"
      ],
      "text/plain": [
       "<IPython.core.display.HTML object>"
      ]
     },
     "metadata": {},
     "output_type": "display_data"
    },
    {
     "data": {
      "text/plain": [
       "12"
      ]
     },
     "metadata": {},
     "output_type": "display_data"
    },
    {
     "data": {
      "text/plain": [
       "Index(['3144_raw-Heel_Broadband_ultrasound_attenuation_direct_entry',\n",
       "       '3147_raw-Heel_quantitative_ultrasound_index_QUI_direct_entry',\n",
       "       '3148_raw-Heel_bone_mineral_density_BMD',\n",
       "       '4101_raw-Heel_broadband_ultrasound_attenuation_left',\n",
       "       '4104_raw-Heel_quantitative_ultrasound_index_QUI_direct_entry_left',\n",
       "       '4105_raw-Heel_bone_mineral_density_BMD_left',\n",
       "       '4106_raw-Heel_bone_mineral_density_BMD_Tscore_automated_left',\n",
       "       '4120_raw-Heel_broadband_ultrasound_attenuation_right',\n",
       "       '4123_raw-Heel_quantitative_ultrasound_index_QUI_direct_entry_right',\n",
       "       '4124_raw-Heel_bone_mineral_density_BMD_right',\n",
       "       '4125_raw-Heel_bone_mineral_density_BMD_Tscore_automated_right',\n",
       "       '78_raw-Heel_bone_mineral_density_BMD_Tscore_automated'],\n",
       "      dtype='object')"
      ]
     },
     "metadata": {},
     "output_type": "display_data"
    },
    {
     "data": {
      "text/html": [
       "<h3>Cluster 13.2</h3>"
      ],
      "text/plain": [
       "<IPython.core.display.HTML object>"
      ]
     },
     "metadata": {},
     "output_type": "display_data"
    },
    {
     "data": {
      "text/plain": [
       "5"
      ]
     },
     "metadata": {},
     "output_type": "display_data"
    },
    {
     "data": {
      "text/plain": [
       "Index(['30080_raw-Platelet_count', '30090_raw-Platelet_crit',\n",
       "       '30100_raw-Mean_platelet_thrombocyte_volume',\n",
       "       '30110_raw-Platelet_distribution_width', 'platelet count'],\n",
       "      dtype='object')"
      ]
     },
     "metadata": {},
     "output_type": "display_data"
    },
    {
     "data": {
      "text/html": [
       "<h3>Cluster 13.3</h3>"
      ],
      "text/plain": [
       "<IPython.core.display.HTML object>"
      ]
     },
     "metadata": {},
     "output_type": "display_data"
    },
    {
     "data": {
      "text/plain": [
       "9"
      ]
     },
     "metadata": {},
     "output_type": "display_data"
    },
    {
     "data": {
      "text/plain": [
       "Index(['30010_raw-Red_blood_cell_erythrocyte_count',\n",
       "       '30020_raw-Haemoglobin_concentration',\n",
       "       '30030_raw-Haematocrit_percentage', '30040_raw-Mean_corpuscular_volume',\n",
       "       '30050_raw-Mean_corpuscular_haemoglobin',\n",
       "       '30070_raw-Red_blood_cell_erythrocyte_distribution_width',\n",
       "       '30260_raw-Mean_reticulocyte_volume',\n",
       "       '30270_raw-Mean_sphered_cell_volume', 'erythrocyte count'],\n",
       "      dtype='object')"
      ]
     },
     "metadata": {},
     "output_type": "display_data"
    },
    {
     "data": {
      "text/html": [
       "<h3>Cluster 13.4</h3>"
      ],
      "text/plain": [
       "<IPython.core.display.HTML object>"
      ]
     },
     "metadata": {},
     "output_type": "display_data"
    },
    {
     "data": {
      "text/plain": [
       "6"
      ]
     },
     "metadata": {},
     "output_type": "display_data"
    },
    {
     "data": {
      "text/plain": [
       "Index(['30240_raw-Reticulocyte_percentage', '30250_raw-Reticulocyte_count',\n",
       "       '30280_raw-Immature_reticulocyte_fraction',\n",
       "       '30290_raw-High_light_scatter_reticulocyte_percentage',\n",
       "       '30300_raw-High_light_scatter_reticulocyte_count',\n",
       "       'reticulocyte count'],\n",
       "      dtype='object')"
      ]
     },
     "metadata": {},
     "output_type": "display_data"
    },
    {
     "data": {
      "text/html": [
       "<h3>Cluster 13.5</h3>"
      ],
      "text/plain": [
       "<IPython.core.display.HTML object>"
      ]
     },
     "metadata": {},
     "output_type": "display_data"
    },
    {
     "data": {
      "text/plain": [
       "7"
      ]
     },
     "metadata": {},
     "output_type": "display_data"
    },
    {
     "data": {
      "text/plain": [
       "Index(['1717-Skin_colour', '1727-Ease_of_skin_tanning',\n",
       "       '1747_1-Hair_colour_natural_before_greying_Blonde',\n",
       "       '1747_2-Hair_colour_natural_before_greying_Red',\n",
       "       '1747_3-Hair_colour_natural_before_greying_Light_brown',\n",
       "       '1747_4-Hair_colour_natural_before_greying_Dark_brown',\n",
       "       '1747_5-Hair_colour_natural_before_greying_Black'],\n",
       "      dtype='object')"
      ]
     },
     "metadata": {},
     "output_type": "display_data"
    },
    {
     "data": {
      "text/html": [
       "<h3>Cluster 13.6</h3>"
      ],
      "text/plain": [
       "<IPython.core.display.HTML object>"
      ]
     },
     "metadata": {},
     "output_type": "display_data"
    },
    {
     "data": {
      "text/plain": [
       "8"
      ]
     },
     "metadata": {},
     "output_type": "display_data"
    },
    {
     "data": {
      "text/plain": [
       "Index(['5096_raw-3mm_weak_meridian_left', '5097_raw-6mm_weak_meridian_left',\n",
       "       '5098_raw-6mm_weak_meridian_right', '5099_raw-3mm_weak_meridian_right',\n",
       "       '5132_raw-3mm_strong_meridian_right',\n",
       "       '5133_raw-6mm_strong_meridian_right',\n",
       "       '5134_raw-6mm_strong_meridian_left',\n",
       "       '5135_raw-3mm_strong_meridian_left'],\n",
       "      dtype='object')"
      ]
     },
     "metadata": {},
     "output_type": "display_data"
    },
    {
     "data": {
      "text/html": [
       "<h3>Cluster 13.7</h3>"
      ],
      "text/plain": [
       "<IPython.core.display.HTML object>"
      ]
     },
     "metadata": {},
     "output_type": "display_data"
    },
    {
     "data": {
      "text/plain": [
       "4"
      ]
     },
     "metadata": {},
     "output_type": "display_data"
    },
    {
     "data": {
      "text/plain": [
       "Index(['30150-Eosinophill_count', '30210_raw-Eosinophill_percentage',\n",
       "       'eosinophil count', 'sum of eosinophil and basophil counts'],\n",
       "      dtype='object')"
      ]
     },
     "metadata": {},
     "output_type": "display_data"
    },
    {
     "data": {
      "text/html": [
       "<h3>Cluster 13.8</h3>"
      ],
      "text/plain": [
       "<IPython.core.display.HTML object>"
      ]
     },
     "metadata": {},
     "output_type": "display_data"
    },
    {
     "data": {
      "text/plain": [
       "14"
      ]
     },
     "metadata": {},
     "output_type": "display_data"
    },
    {
     "data": {
      "text/plain": [
       "Index(['30000_raw-White_blood_cell_leukocyte_count',\n",
       "       '30130_raw-Monocyte_count', '30140_raw-Neutrophill_count',\n",
       "       '30180_raw-Lymphocyte_percentage', '30190_raw-Monocyte_percentage',\n",
       "       '30200_raw-Neutrophill_percentage', 'granulocyte count',\n",
       "       'leukocyte count', 'lymphocyte count', 'monocyte count',\n",
       "       'myeloid white cell count', 'neutrophil count',\n",
       "       'sum of basophil and neutrophil counts',\n",
       "       'sum of neutrophil and eosinophil counts'],\n",
       "      dtype='object')"
      ]
     },
     "metadata": {},
     "output_type": "display_data"
    },
    {
     "data": {
      "text/html": [
       "<h3>Cluster 13.9</h3>"
      ],
      "text/plain": [
       "<IPython.core.display.HTML object>"
      ]
     },
     "metadata": {},
     "output_type": "display_data"
    },
    {
     "data": {
      "text/plain": [
       "18"
      ]
     },
     "metadata": {},
     "output_type": "display_data"
    },
    {
     "data": {
      "text/plain": [
       "Index(['21001_raw-Body_mass_index_BMI', '21002_raw-Weight', '23098_raw-Weight',\n",
       "       '23099_raw-Body_fat_percentage', '23100_raw-Whole_body_fat_mass',\n",
       "       '23104_raw-Body_mass_index_BMI', '23111_raw-Leg_fat_percentage_right',\n",
       "       '23112_raw-Leg_fat_mass_right', '23115_raw-Leg_fat_percentage_left',\n",
       "       '23116_raw-Leg_fat_mass_left', '23119_raw-Arm_fat_percentage_right',\n",
       "       '23120_raw-Arm_fat_mass_right', '23123_raw-Arm_fat_percentage_left',\n",
       "       '23124_raw-Arm_fat_mass_left', '23127_raw-Trunk_fat_percentage',\n",
       "       '23128_raw-Trunk_fat_mass', '48_raw-Waist_circumference',\n",
       "       '49_raw-Hip_circumference'],\n",
       "      dtype='object')"
      ]
     },
     "metadata": {},
     "output_type": "display_data"
    },
    {
     "data": {
      "text/html": [
       "<h3>Cluster 13.10</h3>"
      ],
      "text/plain": [
       "<IPython.core.display.HTML object>"
      ]
     },
     "metadata": {},
     "output_type": "display_data"
    },
    {
     "data": {
      "text/plain": [
       "29"
      ]
     },
     "metadata": {},
     "output_type": "display_data"
    },
    {
     "data": {
      "text/plain": [
       "Index(['20015_raw-Sitting_height',\n",
       "       '20150_raw-Forced_expiratory_volume_in_1second_FEV1_Best_measure',\n",
       "       '20151_raw-Forced_vital_capacity_FVC_Best_measure',\n",
       "       '20153_raw-Forced_expiratory_volume_in_1second_FEV1_predicted',\n",
       "       '23101_raw-Whole_body_fatfree_mass', '23102_raw-Whole_body_water_mass',\n",
       "       '23105_raw-Basal_metabolic_rate', '23106_raw-Impedance_of_whole_body',\n",
       "       '23107_raw-Impedance_of_leg_right', '23108_raw-Impedance_of_leg_left',\n",
       "       '23109_raw-Impedance_of_arm_right', '23110_raw-Impedance_of_arm_left',\n",
       "       '23113_raw-Leg_fatfree_mass_right',\n",
       "       '23114_raw-Leg_predicted_mass_right', '23117_raw-Leg_fatfree_mass_left',\n",
       "       '23118_raw-Leg_predicted_mass_left', '23121_raw-Arm_fatfree_mass_right',\n",
       "       '23122_raw-Arm_predicted_mass_right', '23125_raw-Arm_fatfree_mass_left',\n",
       "       '23126_raw-Arm_predicted_mass_left', '23129_raw-Trunk_fatfree_mass',\n",
       "       '23130_raw-Trunk_predicted_mass', '3062_raw-Forced_vital_capacity_FVC',\n",
       "       '3063_raw-Forced_expiratory_volume_in_1second_FEV1',\n",
       "       '3143_raw-Ankle_spacing_width', '4100_raw-Ankle_spacing_width_left',\n",
       "       '4119_raw-Ankle_spacing_width_right', '50_raw-Standing_height',\n",
       "       'body height'],\n",
       "      dtype='object')"
      ]
     },
     "metadata": {},
     "output_type": "display_data"
    },
    {
     "data": {
      "text/html": [
       "<h3>Cluster 13.11</h3>"
      ],
      "text/plain": [
       "<IPython.core.display.HTML object>"
      ]
     },
     "metadata": {},
     "output_type": "display_data"
    },
    {
     "data": {
      "text/plain": [
       "10"
      ]
     },
     "metadata": {},
     "output_type": "display_data"
    },
    {
     "data": {
      "text/plain": [
       "Index(['20003_1141191044-Treatmentmedication_code_levothyroxine_sodium',\n",
       "       '6144_3-Never_eat_eggs_dairy_wheat_sugar_Wheat_products',\n",
       "       'K11_COELIAC-Coeliac_disease', 'celiac disease',\n",
       "       'hyperthyroidism AND thyrotoxicosis', 'hypothyroidism AND myxedema',\n",
       "       'malabsorption syndrome', 'psoriasis', 'rheumatoid arthritis',\n",
       "       'systemic lupus erythematosus'],\n",
       "      dtype='object')"
      ]
     },
     "metadata": {},
     "output_type": "display_data"
    },
    {
     "data": {
      "text/html": [
       "<h3>Cluster 13.12</h3>"
      ],
      "text/plain": [
       "<IPython.core.display.HTML object>"
      ]
     },
     "metadata": {},
     "output_type": "display_data"
    },
    {
     "data": {
      "text/plain": [
       "338"
      ]
     },
     "metadata": {},
     "output_type": "display_data"
    },
    {
     "data": {
      "text/plain": [
       "Index(['1021-Duration_of_light_DIY', '102_raw-Pulse_rate_automated_reading',\n",
       "       '1031-Frequency_of_friendfamily_visits',\n",
       "       '1050-Time_spend_outdoors_in_summer',\n",
       "       '1060-Time_spent_outdoors_in_winter',\n",
       "       '1070-Time_spent_watching_television_TV',\n",
       "       '1080-Time_spent_using_computer', '1090-Time_spent_driving',\n",
       "       '1100-Drive_faster_than_motorway_speed_limit',\n",
       "       '110001-Invitation_to_complete_online_24hour_recall_dietary_questionnaire_acceptance',\n",
       "       ...\n",
       "       'self reported educational attainment', 'sleep duration',\n",
       "       'smoking behavior', 'smoking cessation', 'snoring measurement',\n",
       "       'tiredness measurement', 'type i diabetes mellitus', 'varicose veins',\n",
       "       'wheezing', 'worry measurement'],\n",
       "      dtype='object', length=338)"
      ]
     },
     "metadata": {},
     "output_type": "display_data"
    },
    {
     "data": {
      "text/html": [
       "<h2>Partition with k=14</h2>"
      ],
      "text/plain": [
       "<IPython.core.display.HTML object>"
      ]
     },
     "metadata": {},
     "output_type": "display_data"
    },
    {
     "data": {
      "text/plain": [
       "method                                                  scc_025\n",
       "partition     [0, 0, 0, 0, 0, 0, 0, 0, 0, 0, 0, 0, 0, 0, 0, ...\n",
       "ari_median                                            0.0901171\n",
       "selected                                                   True\n",
       "Name: 14, dtype: object"
      ]
     },
     "metadata": {},
     "output_type": "display_data"
    },
    {
     "data": {
      "text/plain": [
       "(3752,)"
      ]
     },
     "metadata": {},
     "output_type": "display_data"
    },
    {
     "data": {
      "text/plain": [
       "0     3294\n",
       "13     336\n",
       "11      29\n",
       "9       18\n",
       "3       12\n",
       "10      10\n",
       "5        9\n",
       "12       8\n",
       "8        8\n",
       "6        7\n",
       "7        6\n",
       "2        6\n",
       "1        5\n",
       "4        4\n",
       "dtype: int64"
      ]
     },
     "metadata": {},
     "output_type": "display_data"
    },
    {
     "data": {
      "text/html": [
       "<h3>Cluster 14.0</h3>"
      ],
      "text/plain": [
       "<IPython.core.display.HTML object>"
      ]
     },
     "metadata": {},
     "output_type": "display_data"
    },
    {
     "data": {
      "text/plain": [
       "3294"
      ]
     },
     "metadata": {},
     "output_type": "display_data"
    },
    {
     "data": {
      "text/plain": [
       "Index(['100001_raw-Food_weight', '100002_raw-Energy', '100003_raw-Protein',\n",
       "       '100004_raw-Fat', '100005_raw-Carbohydrate', '100006_raw-Saturated_fat',\n",
       "       '100007_raw-Polyunsaturated_fat', '100008_raw-Total_sugars',\n",
       "       '100009_raw-Englyst_dietary_fibre', '100010-Portion_size',\n",
       "       ...\n",
       "       'viral human hepatitis infection', 'viral meningitis',\n",
       "       'visual impairment', 'vitiligo', 'vitreous body disease',\n",
       "       'vocal cord polyp', 'voice disorders',\n",
       "       'wellbeing measurement AND family relationship', 'whooping cough',\n",
       "       'wrist fracture'],\n",
       "      dtype='object', length=3294)"
      ]
     },
     "metadata": {},
     "output_type": "display_data"
    },
    {
     "data": {
      "text/html": [
       "<h3>Cluster 14.1</h3>"
      ],
      "text/plain": [
       "<IPython.core.display.HTML object>"
      ]
     },
     "metadata": {},
     "output_type": "display_data"
    },
    {
     "data": {
      "text/plain": [
       "5"
      ]
     },
     "metadata": {},
     "output_type": "display_data"
    },
    {
     "data": {
      "text/plain": [
       "Index(['30080_raw-Platelet_count', '30090_raw-Platelet_crit',\n",
       "       '30100_raw-Mean_platelet_thrombocyte_volume',\n",
       "       '30110_raw-Platelet_distribution_width', 'platelet count'],\n",
       "      dtype='object')"
      ]
     },
     "metadata": {},
     "output_type": "display_data"
    },
    {
     "data": {
      "text/html": [
       "<h3>Cluster 14.2</h3>"
      ],
      "text/plain": [
       "<IPython.core.display.HTML object>"
      ]
     },
     "metadata": {},
     "output_type": "display_data"
    },
    {
     "data": {
      "text/plain": [
       "6"
      ]
     },
     "metadata": {},
     "output_type": "display_data"
    },
    {
     "data": {
      "text/plain": [
       "Index(['30240_raw-Reticulocyte_percentage', '30250_raw-Reticulocyte_count',\n",
       "       '30280_raw-Immature_reticulocyte_fraction',\n",
       "       '30290_raw-High_light_scatter_reticulocyte_percentage',\n",
       "       '30300_raw-High_light_scatter_reticulocyte_count',\n",
       "       'reticulocyte count'],\n",
       "      dtype='object')"
      ]
     },
     "metadata": {},
     "output_type": "display_data"
    },
    {
     "data": {
      "text/html": [
       "<h3>Cluster 14.3</h3>"
      ],
      "text/plain": [
       "<IPython.core.display.HTML object>"
      ]
     },
     "metadata": {},
     "output_type": "display_data"
    },
    {
     "data": {
      "text/plain": [
       "12"
      ]
     },
     "metadata": {},
     "output_type": "display_data"
    },
    {
     "data": {
      "text/plain": [
       "Index(['3144_raw-Heel_Broadband_ultrasound_attenuation_direct_entry',\n",
       "       '3147_raw-Heel_quantitative_ultrasound_index_QUI_direct_entry',\n",
       "       '3148_raw-Heel_bone_mineral_density_BMD',\n",
       "       '4101_raw-Heel_broadband_ultrasound_attenuation_left',\n",
       "       '4104_raw-Heel_quantitative_ultrasound_index_QUI_direct_entry_left',\n",
       "       '4105_raw-Heel_bone_mineral_density_BMD_left',\n",
       "       '4106_raw-Heel_bone_mineral_density_BMD_Tscore_automated_left',\n",
       "       '4120_raw-Heel_broadband_ultrasound_attenuation_right',\n",
       "       '4123_raw-Heel_quantitative_ultrasound_index_QUI_direct_entry_right',\n",
       "       '4124_raw-Heel_bone_mineral_density_BMD_right',\n",
       "       '4125_raw-Heel_bone_mineral_density_BMD_Tscore_automated_right',\n",
       "       '78_raw-Heel_bone_mineral_density_BMD_Tscore_automated'],\n",
       "      dtype='object')"
      ]
     },
     "metadata": {},
     "output_type": "display_data"
    },
    {
     "data": {
      "text/html": [
       "<h3>Cluster 14.4</h3>"
      ],
      "text/plain": [
       "<IPython.core.display.HTML object>"
      ]
     },
     "metadata": {},
     "output_type": "display_data"
    },
    {
     "data": {
      "text/plain": [
       "4"
      ]
     },
     "metadata": {},
     "output_type": "display_data"
    },
    {
     "data": {
      "text/plain": [
       "Index(['30150-Eosinophill_count', '30210_raw-Eosinophill_percentage',\n",
       "       'eosinophil count', 'sum of eosinophil and basophil counts'],\n",
       "      dtype='object')"
      ]
     },
     "metadata": {},
     "output_type": "display_data"
    },
    {
     "data": {
      "text/html": [
       "<h3>Cluster 14.5</h3>"
      ],
      "text/plain": [
       "<IPython.core.display.HTML object>"
      ]
     },
     "metadata": {},
     "output_type": "display_data"
    },
    {
     "data": {
      "text/plain": [
       "9"
      ]
     },
     "metadata": {},
     "output_type": "display_data"
    },
    {
     "data": {
      "text/plain": [
       "Index(['30010_raw-Red_blood_cell_erythrocyte_count',\n",
       "       '30020_raw-Haemoglobin_concentration',\n",
       "       '30030_raw-Haematocrit_percentage', '30040_raw-Mean_corpuscular_volume',\n",
       "       '30050_raw-Mean_corpuscular_haemoglobin',\n",
       "       '30070_raw-Red_blood_cell_erythrocyte_distribution_width',\n",
       "       '30260_raw-Mean_reticulocyte_volume',\n",
       "       '30270_raw-Mean_sphered_cell_volume', 'erythrocyte count'],\n",
       "      dtype='object')"
      ]
     },
     "metadata": {},
     "output_type": "display_data"
    },
    {
     "data": {
      "text/html": [
       "<h3>Cluster 14.6</h3>"
      ],
      "text/plain": [
       "<IPython.core.display.HTML object>"
      ]
     },
     "metadata": {},
     "output_type": "display_data"
    },
    {
     "data": {
      "text/plain": [
       "7"
      ]
     },
     "metadata": {},
     "output_type": "display_data"
    },
    {
     "data": {
      "text/plain": [
       "Index(['1717-Skin_colour', '1727-Ease_of_skin_tanning',\n",
       "       '1747_1-Hair_colour_natural_before_greying_Blonde',\n",
       "       '1747_2-Hair_colour_natural_before_greying_Red',\n",
       "       '1747_3-Hair_colour_natural_before_greying_Light_brown',\n",
       "       '1747_4-Hair_colour_natural_before_greying_Dark_brown',\n",
       "       '1747_5-Hair_colour_natural_before_greying_Black'],\n",
       "      dtype='object')"
      ]
     },
     "metadata": {},
     "output_type": "display_data"
    },
    {
     "data": {
      "text/html": [
       "<h3>Cluster 14.7</h3>"
      ],
      "text/plain": [
       "<IPython.core.display.HTML object>"
      ]
     },
     "metadata": {},
     "output_type": "display_data"
    },
    {
     "data": {
      "text/plain": [
       "6"
      ]
     },
     "metadata": {},
     "output_type": "display_data"
    },
    {
     "data": {
      "text/plain": [
       "Index(['30130_raw-Monocyte_count', '30180_raw-Lymphocyte_percentage',\n",
       "       '30190_raw-Monocyte_percentage', '30200_raw-Neutrophill_percentage',\n",
       "       'lymphocyte count', 'monocyte count'],\n",
       "      dtype='object')"
      ]
     },
     "metadata": {},
     "output_type": "display_data"
    },
    {
     "data": {
      "text/html": [
       "<h3>Cluster 14.8</h3>"
      ],
      "text/plain": [
       "<IPython.core.display.HTML object>"
      ]
     },
     "metadata": {},
     "output_type": "display_data"
    },
    {
     "data": {
      "text/plain": [
       "8"
      ]
     },
     "metadata": {},
     "output_type": "display_data"
    },
    {
     "data": {
      "text/plain": [
       "Index(['5096_raw-3mm_weak_meridian_left', '5097_raw-6mm_weak_meridian_left',\n",
       "       '5098_raw-6mm_weak_meridian_right', '5099_raw-3mm_weak_meridian_right',\n",
       "       '5132_raw-3mm_strong_meridian_right',\n",
       "       '5133_raw-6mm_strong_meridian_right',\n",
       "       '5134_raw-6mm_strong_meridian_left',\n",
       "       '5135_raw-3mm_strong_meridian_left'],\n",
       "      dtype='object')"
      ]
     },
     "metadata": {},
     "output_type": "display_data"
    },
    {
     "data": {
      "text/html": [
       "<h3>Cluster 14.9</h3>"
      ],
      "text/plain": [
       "<IPython.core.display.HTML object>"
      ]
     },
     "metadata": {},
     "output_type": "display_data"
    },
    {
     "data": {
      "text/plain": [
       "18"
      ]
     },
     "metadata": {},
     "output_type": "display_data"
    },
    {
     "data": {
      "text/plain": [
       "Index(['21001_raw-Body_mass_index_BMI', '21002_raw-Weight', '23098_raw-Weight',\n",
       "       '23099_raw-Body_fat_percentage', '23100_raw-Whole_body_fat_mass',\n",
       "       '23104_raw-Body_mass_index_BMI', '23111_raw-Leg_fat_percentage_right',\n",
       "       '23112_raw-Leg_fat_mass_right', '23115_raw-Leg_fat_percentage_left',\n",
       "       '23116_raw-Leg_fat_mass_left', '23119_raw-Arm_fat_percentage_right',\n",
       "       '23120_raw-Arm_fat_mass_right', '23123_raw-Arm_fat_percentage_left',\n",
       "       '23124_raw-Arm_fat_mass_left', '23127_raw-Trunk_fat_percentage',\n",
       "       '23128_raw-Trunk_fat_mass', '48_raw-Waist_circumference',\n",
       "       '49_raw-Hip_circumference'],\n",
       "      dtype='object')"
      ]
     },
     "metadata": {},
     "output_type": "display_data"
    },
    {
     "data": {
      "text/html": [
       "<h3>Cluster 14.10</h3>"
      ],
      "text/plain": [
       "<IPython.core.display.HTML object>"
      ]
     },
     "metadata": {},
     "output_type": "display_data"
    },
    {
     "data": {
      "text/plain": [
       "10"
      ]
     },
     "metadata": {},
     "output_type": "display_data"
    },
    {
     "data": {
      "text/plain": [
       "Index(['20003_1141191044-Treatmentmedication_code_levothyroxine_sodium',\n",
       "       '6144_3-Never_eat_eggs_dairy_wheat_sugar_Wheat_products',\n",
       "       'K11_COELIAC-Coeliac_disease', 'celiac disease',\n",
       "       'hyperthyroidism AND thyrotoxicosis', 'hypothyroidism AND myxedema',\n",
       "       'malabsorption syndrome', 'psoriasis', 'rheumatoid arthritis',\n",
       "       'systemic lupus erythematosus'],\n",
       "      dtype='object')"
      ]
     },
     "metadata": {},
     "output_type": "display_data"
    },
    {
     "data": {
      "text/html": [
       "<h3>Cluster 14.11</h3>"
      ],
      "text/plain": [
       "<IPython.core.display.HTML object>"
      ]
     },
     "metadata": {},
     "output_type": "display_data"
    },
    {
     "data": {
      "text/plain": [
       "29"
      ]
     },
     "metadata": {},
     "output_type": "display_data"
    },
    {
     "data": {
      "text/plain": [
       "Index(['20015_raw-Sitting_height',\n",
       "       '20150_raw-Forced_expiratory_volume_in_1second_FEV1_Best_measure',\n",
       "       '20151_raw-Forced_vital_capacity_FVC_Best_measure',\n",
       "       '20153_raw-Forced_expiratory_volume_in_1second_FEV1_predicted',\n",
       "       '23101_raw-Whole_body_fatfree_mass', '23102_raw-Whole_body_water_mass',\n",
       "       '23105_raw-Basal_metabolic_rate', '23106_raw-Impedance_of_whole_body',\n",
       "       '23107_raw-Impedance_of_leg_right', '23108_raw-Impedance_of_leg_left',\n",
       "       '23109_raw-Impedance_of_arm_right', '23110_raw-Impedance_of_arm_left',\n",
       "       '23113_raw-Leg_fatfree_mass_right',\n",
       "       '23114_raw-Leg_predicted_mass_right', '23117_raw-Leg_fatfree_mass_left',\n",
       "       '23118_raw-Leg_predicted_mass_left', '23121_raw-Arm_fatfree_mass_right',\n",
       "       '23122_raw-Arm_predicted_mass_right', '23125_raw-Arm_fatfree_mass_left',\n",
       "       '23126_raw-Arm_predicted_mass_left', '23129_raw-Trunk_fatfree_mass',\n",
       "       '23130_raw-Trunk_predicted_mass', '3062_raw-Forced_vital_capacity_FVC',\n",
       "       '3063_raw-Forced_expiratory_volume_in_1second_FEV1',\n",
       "       '3143_raw-Ankle_spacing_width', '4100_raw-Ankle_spacing_width_left',\n",
       "       '4119_raw-Ankle_spacing_width_right', '50_raw-Standing_height',\n",
       "       'body height'],\n",
       "      dtype='object')"
      ]
     },
     "metadata": {},
     "output_type": "display_data"
    },
    {
     "data": {
      "text/html": [
       "<h3>Cluster 14.12</h3>"
      ],
      "text/plain": [
       "<IPython.core.display.HTML object>"
      ]
     },
     "metadata": {},
     "output_type": "display_data"
    },
    {
     "data": {
      "text/plain": [
       "8"
      ]
     },
     "metadata": {},
     "output_type": "display_data"
    },
    {
     "data": {
      "text/plain": [
       "Index(['30000_raw-White_blood_cell_leukocyte_count',\n",
       "       '30140_raw-Neutrophill_count', 'granulocyte count', 'leukocyte count',\n",
       "       'myeloid white cell count', 'neutrophil count',\n",
       "       'sum of basophil and neutrophil counts',\n",
       "       'sum of neutrophil and eosinophil counts'],\n",
       "      dtype='object')"
      ]
     },
     "metadata": {},
     "output_type": "display_data"
    },
    {
     "data": {
      "text/html": [
       "<h3>Cluster 14.13</h3>"
      ],
      "text/plain": [
       "<IPython.core.display.HTML object>"
      ]
     },
     "metadata": {},
     "output_type": "display_data"
    },
    {
     "data": {
      "text/plain": [
       "336"
      ]
     },
     "metadata": {},
     "output_type": "display_data"
    },
    {
     "data": {
      "text/plain": [
       "Index(['1021-Duration_of_light_DIY', '102_raw-Pulse_rate_automated_reading',\n",
       "       '1031-Frequency_of_friendfamily_visits',\n",
       "       '1050-Time_spend_outdoors_in_summer',\n",
       "       '1060-Time_spent_outdoors_in_winter',\n",
       "       '1070-Time_spent_watching_television_TV',\n",
       "       '1080-Time_spent_using_computer', '1090-Time_spent_driving',\n",
       "       '1100-Drive_faster_than_motorway_speed_limit',\n",
       "       '110001-Invitation_to_complete_online_24hour_recall_dietary_questionnaire_acceptance',\n",
       "       ...\n",
       "       'self reported educational attainment', 'sleep duration',\n",
       "       'smoking behavior', 'smoking cessation', 'snoring measurement',\n",
       "       'tiredness measurement', 'type i diabetes mellitus', 'varicose veins',\n",
       "       'wheezing', 'worry measurement'],\n",
       "      dtype='object', length=336)"
      ]
     },
     "metadata": {},
     "output_type": "display_data"
    },
    {
     "data": {
      "text/html": [
       "<h2>Partition with k=15</h2>"
      ],
      "text/plain": [
       "<IPython.core.display.HTML object>"
      ]
     },
     "metadata": {},
     "output_type": "display_data"
    },
    {
     "data": {
      "text/plain": [
       "method                                                  scc_025\n",
       "partition     [0, 0, 0, 0, 0, 0, 0, 0, 0, 0, 0, 0, 0, 0, 0, ...\n",
       "ari_median                                            0.0893461\n",
       "selected                                                   True\n",
       "Name: 15, dtype: object"
      ]
     },
     "metadata": {},
     "output_type": "display_data"
    },
    {
     "data": {
      "text/plain": [
       "(3752,)"
      ]
     },
     "metadata": {},
     "output_type": "display_data"
    },
    {
     "data": {
      "text/plain": [
       "0     3290\n",
       "14     326\n",
       "11      29\n",
       "10      18\n",
       "13      14\n",
       "7       12\n",
       "9       10\n",
       "6        9\n",
       "5        8\n",
       "3        8\n",
       "8        7\n",
       "12       6\n",
       "2        6\n",
       "1        5\n",
       "4        4\n",
       "dtype: int64"
      ]
     },
     "metadata": {},
     "output_type": "display_data"
    },
    {
     "data": {
      "text/html": [
       "<h3>Cluster 15.0</h3>"
      ],
      "text/plain": [
       "<IPython.core.display.HTML object>"
      ]
     },
     "metadata": {},
     "output_type": "display_data"
    },
    {
     "data": {
      "text/plain": [
       "3290"
      ]
     },
     "metadata": {},
     "output_type": "display_data"
    },
    {
     "data": {
      "text/plain": [
       "Index(['100001_raw-Food_weight', '100002_raw-Energy', '100003_raw-Protein',\n",
       "       '100004_raw-Fat', '100005_raw-Carbohydrate', '100006_raw-Saturated_fat',\n",
       "       '100007_raw-Polyunsaturated_fat', '100008_raw-Total_sugars',\n",
       "       '100009_raw-Englyst_dietary_fibre', '100010-Portion_size',\n",
       "       ...\n",
       "       'viral human hepatitis infection', 'viral meningitis',\n",
       "       'visual impairment', 'vitiligo', 'vitreous body disease',\n",
       "       'vocal cord polyp', 'voice disorders',\n",
       "       'wellbeing measurement AND family relationship', 'whooping cough',\n",
       "       'wrist fracture'],\n",
       "      dtype='object', length=3290)"
      ]
     },
     "metadata": {},
     "output_type": "display_data"
    },
    {
     "data": {
      "text/html": [
       "<h3>Cluster 15.1</h3>"
      ],
      "text/plain": [
       "<IPython.core.display.HTML object>"
      ]
     },
     "metadata": {},
     "output_type": "display_data"
    },
    {
     "data": {
      "text/plain": [
       "5"
      ]
     },
     "metadata": {},
     "output_type": "display_data"
    },
    {
     "data": {
      "text/plain": [
       "Index(['30080_raw-Platelet_count', '30090_raw-Platelet_crit',\n",
       "       '30100_raw-Mean_platelet_thrombocyte_volume',\n",
       "       '30110_raw-Platelet_distribution_width', 'platelet count'],\n",
       "      dtype='object')"
      ]
     },
     "metadata": {},
     "output_type": "display_data"
    },
    {
     "data": {
      "text/html": [
       "<h3>Cluster 15.2</h3>"
      ],
      "text/plain": [
       "<IPython.core.display.HTML object>"
      ]
     },
     "metadata": {},
     "output_type": "display_data"
    },
    {
     "data": {
      "text/plain": [
       "6"
      ]
     },
     "metadata": {},
     "output_type": "display_data"
    },
    {
     "data": {
      "text/plain": [
       "Index(['30240_raw-Reticulocyte_percentage', '30250_raw-Reticulocyte_count',\n",
       "       '30280_raw-Immature_reticulocyte_fraction',\n",
       "       '30290_raw-High_light_scatter_reticulocyte_percentage',\n",
       "       '30300_raw-High_light_scatter_reticulocyte_count',\n",
       "       'reticulocyte count'],\n",
       "      dtype='object')"
      ]
     },
     "metadata": {},
     "output_type": "display_data"
    },
    {
     "data": {
      "text/html": [
       "<h3>Cluster 15.3</h3>"
      ],
      "text/plain": [
       "<IPython.core.display.HTML object>"
      ]
     },
     "metadata": {},
     "output_type": "display_data"
    },
    {
     "data": {
      "text/plain": [
       "8"
      ]
     },
     "metadata": {},
     "output_type": "display_data"
    },
    {
     "data": {
      "text/plain": [
       "Index(['5096_raw-3mm_weak_meridian_left', '5097_raw-6mm_weak_meridian_left',\n",
       "       '5098_raw-6mm_weak_meridian_right', '5099_raw-3mm_weak_meridian_right',\n",
       "       '5132_raw-3mm_strong_meridian_right',\n",
       "       '5133_raw-6mm_strong_meridian_right',\n",
       "       '5134_raw-6mm_strong_meridian_left',\n",
       "       '5135_raw-3mm_strong_meridian_left'],\n",
       "      dtype='object')"
      ]
     },
     "metadata": {},
     "output_type": "display_data"
    },
    {
     "data": {
      "text/html": [
       "<h3>Cluster 15.4</h3>"
      ],
      "text/plain": [
       "<IPython.core.display.HTML object>"
      ]
     },
     "metadata": {},
     "output_type": "display_data"
    },
    {
     "data": {
      "text/plain": [
       "4"
      ]
     },
     "metadata": {},
     "output_type": "display_data"
    },
    {
     "data": {
      "text/plain": [
       "Index(['30150-Eosinophill_count', '30210_raw-Eosinophill_percentage',\n",
       "       'eosinophil count', 'sum of eosinophil and basophil counts'],\n",
       "      dtype='object')"
      ]
     },
     "metadata": {},
     "output_type": "display_data"
    },
    {
     "data": {
      "text/html": [
       "<h3>Cluster 15.5</h3>"
      ],
      "text/plain": [
       "<IPython.core.display.HTML object>"
      ]
     },
     "metadata": {},
     "output_type": "display_data"
    },
    {
     "data": {
      "text/plain": [
       "8"
      ]
     },
     "metadata": {},
     "output_type": "display_data"
    },
    {
     "data": {
      "text/plain": [
       "Index(['30000_raw-White_blood_cell_leukocyte_count',\n",
       "       '30140_raw-Neutrophill_count', 'granulocyte count', 'leukocyte count',\n",
       "       'myeloid white cell count', 'neutrophil count',\n",
       "       'sum of basophil and neutrophil counts',\n",
       "       'sum of neutrophil and eosinophil counts'],\n",
       "      dtype='object')"
      ]
     },
     "metadata": {},
     "output_type": "display_data"
    },
    {
     "data": {
      "text/html": [
       "<h3>Cluster 15.6</h3>"
      ],
      "text/plain": [
       "<IPython.core.display.HTML object>"
      ]
     },
     "metadata": {},
     "output_type": "display_data"
    },
    {
     "data": {
      "text/plain": [
       "9"
      ]
     },
     "metadata": {},
     "output_type": "display_data"
    },
    {
     "data": {
      "text/plain": [
       "Index(['30010_raw-Red_blood_cell_erythrocyte_count',\n",
       "       '30020_raw-Haemoglobin_concentration',\n",
       "       '30030_raw-Haematocrit_percentage', '30040_raw-Mean_corpuscular_volume',\n",
       "       '30050_raw-Mean_corpuscular_haemoglobin',\n",
       "       '30070_raw-Red_blood_cell_erythrocyte_distribution_width',\n",
       "       '30260_raw-Mean_reticulocyte_volume',\n",
       "       '30270_raw-Mean_sphered_cell_volume', 'erythrocyte count'],\n",
       "      dtype='object')"
      ]
     },
     "metadata": {},
     "output_type": "display_data"
    },
    {
     "data": {
      "text/html": [
       "<h3>Cluster 15.7</h3>"
      ],
      "text/plain": [
       "<IPython.core.display.HTML object>"
      ]
     },
     "metadata": {},
     "output_type": "display_data"
    },
    {
     "data": {
      "text/plain": [
       "12"
      ]
     },
     "metadata": {},
     "output_type": "display_data"
    },
    {
     "data": {
      "text/plain": [
       "Index(['3144_raw-Heel_Broadband_ultrasound_attenuation_direct_entry',\n",
       "       '3147_raw-Heel_quantitative_ultrasound_index_QUI_direct_entry',\n",
       "       '3148_raw-Heel_bone_mineral_density_BMD',\n",
       "       '4101_raw-Heel_broadband_ultrasound_attenuation_left',\n",
       "       '4104_raw-Heel_quantitative_ultrasound_index_QUI_direct_entry_left',\n",
       "       '4105_raw-Heel_bone_mineral_density_BMD_left',\n",
       "       '4106_raw-Heel_bone_mineral_density_BMD_Tscore_automated_left',\n",
       "       '4120_raw-Heel_broadband_ultrasound_attenuation_right',\n",
       "       '4123_raw-Heel_quantitative_ultrasound_index_QUI_direct_entry_right',\n",
       "       '4124_raw-Heel_bone_mineral_density_BMD_right',\n",
       "       '4125_raw-Heel_bone_mineral_density_BMD_Tscore_automated_right',\n",
       "       '78_raw-Heel_bone_mineral_density_BMD_Tscore_automated'],\n",
       "      dtype='object')"
      ]
     },
     "metadata": {},
     "output_type": "display_data"
    },
    {
     "data": {
      "text/html": [
       "<h3>Cluster 15.8</h3>"
      ],
      "text/plain": [
       "<IPython.core.display.HTML object>"
      ]
     },
     "metadata": {},
     "output_type": "display_data"
    },
    {
     "data": {
      "text/plain": [
       "7"
      ]
     },
     "metadata": {},
     "output_type": "display_data"
    },
    {
     "data": {
      "text/plain": [
       "Index(['1717-Skin_colour', '1727-Ease_of_skin_tanning',\n",
       "       '1747_1-Hair_colour_natural_before_greying_Blonde',\n",
       "       '1747_2-Hair_colour_natural_before_greying_Red',\n",
       "       '1747_3-Hair_colour_natural_before_greying_Light_brown',\n",
       "       '1747_4-Hair_colour_natural_before_greying_Dark_brown',\n",
       "       '1747_5-Hair_colour_natural_before_greying_Black'],\n",
       "      dtype='object')"
      ]
     },
     "metadata": {},
     "output_type": "display_data"
    },
    {
     "data": {
      "text/html": [
       "<h3>Cluster 15.9</h3>"
      ],
      "text/plain": [
       "<IPython.core.display.HTML object>"
      ]
     },
     "metadata": {},
     "output_type": "display_data"
    },
    {
     "data": {
      "text/plain": [
       "10"
      ]
     },
     "metadata": {},
     "output_type": "display_data"
    },
    {
     "data": {
      "text/plain": [
       "Index(['20003_1141191044-Treatmentmedication_code_levothyroxine_sodium',\n",
       "       '6144_3-Never_eat_eggs_dairy_wheat_sugar_Wheat_products',\n",
       "       'K11_COELIAC-Coeliac_disease', 'celiac disease',\n",
       "       'hyperthyroidism AND thyrotoxicosis', 'hypothyroidism AND myxedema',\n",
       "       'malabsorption syndrome', 'psoriasis', 'rheumatoid arthritis',\n",
       "       'systemic lupus erythematosus'],\n",
       "      dtype='object')"
      ]
     },
     "metadata": {},
     "output_type": "display_data"
    },
    {
     "data": {
      "text/html": [
       "<h3>Cluster 15.10</h3>"
      ],
      "text/plain": [
       "<IPython.core.display.HTML object>"
      ]
     },
     "metadata": {},
     "output_type": "display_data"
    },
    {
     "data": {
      "text/plain": [
       "18"
      ]
     },
     "metadata": {},
     "output_type": "display_data"
    },
    {
     "data": {
      "text/plain": [
       "Index(['21001_raw-Body_mass_index_BMI', '21002_raw-Weight', '23098_raw-Weight',\n",
       "       '23099_raw-Body_fat_percentage', '23100_raw-Whole_body_fat_mass',\n",
       "       '23104_raw-Body_mass_index_BMI', '23111_raw-Leg_fat_percentage_right',\n",
       "       '23112_raw-Leg_fat_mass_right', '23115_raw-Leg_fat_percentage_left',\n",
       "       '23116_raw-Leg_fat_mass_left', '23119_raw-Arm_fat_percentage_right',\n",
       "       '23120_raw-Arm_fat_mass_right', '23123_raw-Arm_fat_percentage_left',\n",
       "       '23124_raw-Arm_fat_mass_left', '23127_raw-Trunk_fat_percentage',\n",
       "       '23128_raw-Trunk_fat_mass', '48_raw-Waist_circumference',\n",
       "       '49_raw-Hip_circumference'],\n",
       "      dtype='object')"
      ]
     },
     "metadata": {},
     "output_type": "display_data"
    },
    {
     "data": {
      "text/html": [
       "<h3>Cluster 15.11</h3>"
      ],
      "text/plain": [
       "<IPython.core.display.HTML object>"
      ]
     },
     "metadata": {},
     "output_type": "display_data"
    },
    {
     "data": {
      "text/plain": [
       "29"
      ]
     },
     "metadata": {},
     "output_type": "display_data"
    },
    {
     "data": {
      "text/plain": [
       "Index(['20015_raw-Sitting_height',\n",
       "       '20150_raw-Forced_expiratory_volume_in_1second_FEV1_Best_measure',\n",
       "       '20151_raw-Forced_vital_capacity_FVC_Best_measure',\n",
       "       '20153_raw-Forced_expiratory_volume_in_1second_FEV1_predicted',\n",
       "       '23101_raw-Whole_body_fatfree_mass', '23102_raw-Whole_body_water_mass',\n",
       "       '23105_raw-Basal_metabolic_rate', '23106_raw-Impedance_of_whole_body',\n",
       "       '23107_raw-Impedance_of_leg_right', '23108_raw-Impedance_of_leg_left',\n",
       "       '23109_raw-Impedance_of_arm_right', '23110_raw-Impedance_of_arm_left',\n",
       "       '23113_raw-Leg_fatfree_mass_right',\n",
       "       '23114_raw-Leg_predicted_mass_right', '23117_raw-Leg_fatfree_mass_left',\n",
       "       '23118_raw-Leg_predicted_mass_left', '23121_raw-Arm_fatfree_mass_right',\n",
       "       '23122_raw-Arm_predicted_mass_right', '23125_raw-Arm_fatfree_mass_left',\n",
       "       '23126_raw-Arm_predicted_mass_left', '23129_raw-Trunk_fatfree_mass',\n",
       "       '23130_raw-Trunk_predicted_mass', '3062_raw-Forced_vital_capacity_FVC',\n",
       "       '3063_raw-Forced_expiratory_volume_in_1second_FEV1',\n",
       "       '3143_raw-Ankle_spacing_width', '4100_raw-Ankle_spacing_width_left',\n",
       "       '4119_raw-Ankle_spacing_width_right', '50_raw-Standing_height',\n",
       "       'body height'],\n",
       "      dtype='object')"
      ]
     },
     "metadata": {},
     "output_type": "display_data"
    },
    {
     "data": {
      "text/html": [
       "<h3>Cluster 15.12</h3>"
      ],
      "text/plain": [
       "<IPython.core.display.HTML object>"
      ]
     },
     "metadata": {},
     "output_type": "display_data"
    },
    {
     "data": {
      "text/plain": [
       "6"
      ]
     },
     "metadata": {},
     "output_type": "display_data"
    },
    {
     "data": {
      "text/plain": [
       "Index(['30130_raw-Monocyte_count', '30180_raw-Lymphocyte_percentage',\n",
       "       '30190_raw-Monocyte_percentage', '30200_raw-Neutrophill_percentage',\n",
       "       'lymphocyte count', 'monocyte count'],\n",
       "      dtype='object')"
      ]
     },
     "metadata": {},
     "output_type": "display_data"
    },
    {
     "data": {
      "text/html": [
       "<h3>Cluster 15.13</h3>"
      ],
      "text/plain": [
       "<IPython.core.display.HTML object>"
      ]
     },
     "metadata": {},
     "output_type": "display_data"
    },
    {
     "data": {
      "text/plain": [
       "14"
      ]
     },
     "metadata": {},
     "output_type": "display_data"
    },
    {
     "data": {
      "text/plain": [
       "Index(['20003_1140861958-Treatmentmedication_code_simvastatin',\n",
       "       '20003_1141194794-Treatmentmedication_code_bendroflumethiazide',\n",
       "       '4079_raw-Diastolic_blood_pressure_automated_reading',\n",
       "       '4080_raw-Systolic_blood_pressure_automated_reading',\n",
       "       '6150_100-Vascularheart_problems_diagnosed_by_doctor_None_of_the_above',\n",
       "       '6150_4-Vascularheart_problems_diagnosed_by_doctor_High_blood_pressure',\n",
       "       '6153_1-Medication_for_cholesterol_blood_pressure_diabetes_or_take_exogenous_hormones_Cholesterol_lowering_medication',\n",
       "       '6153_100-Medication_for_cholesterol_blood_pressure_diabetes_or_take_exogenous_hormones_None_of_the_above',\n",
       "       '6153_2-Medication_for_cholesterol_blood_pressure_diabetes_or_take_exogenous_hormones_Blood_pressure_medication',\n",
       "       '6177_1-Medication_for_cholesterol_blood_pressure_or_diabetes_Cholesterol_lowering_medication',\n",
       "       '6177_100-Medication_for_cholesterol_blood_pressure_or_diabetes_None_of_the_above',\n",
       "       '6177_2-Medication_for_cholesterol_blood_pressure_or_diabetes_Blood_pressure_medication',\n",
       "       'hypercholesterolemia', 'hypertension'],\n",
       "      dtype='object')"
      ]
     },
     "metadata": {},
     "output_type": "display_data"
    },
    {
     "data": {
      "text/html": [
       "<h3>Cluster 15.14</h3>"
      ],
      "text/plain": [
       "<IPython.core.display.HTML object>"
      ]
     },
     "metadata": {},
     "output_type": "display_data"
    },
    {
     "data": {
      "text/plain": [
       "326"
      ]
     },
     "metadata": {},
     "output_type": "display_data"
    },
    {
     "data": {
      "text/plain": [
       "Index(['1021-Duration_of_light_DIY', '102_raw-Pulse_rate_automated_reading',\n",
       "       '1031-Frequency_of_friendfamily_visits',\n",
       "       '1050-Time_spend_outdoors_in_summer',\n",
       "       '1060-Time_spent_outdoors_in_winter',\n",
       "       '1070-Time_spent_watching_television_TV',\n",
       "       '1080-Time_spent_using_computer', '1090-Time_spent_driving',\n",
       "       '1100-Drive_faster_than_motorway_speed_limit',\n",
       "       '110001-Invitation_to_complete_online_24hour_recall_dietary_questionnaire_acceptance',\n",
       "       ...\n",
       "       'self reported educational attainment', 'sleep duration',\n",
       "       'smoking behavior', 'smoking cessation', 'snoring measurement',\n",
       "       'tiredness measurement', 'type i diabetes mellitus', 'varicose veins',\n",
       "       'wheezing', 'worry measurement'],\n",
       "      dtype='object', length=326)"
      ]
     },
     "metadata": {},
     "output_type": "display_data"
    },
    {
     "data": {
      "text/html": [
       "<h2>Partition with k=16</h2>"
      ],
      "text/plain": [
       "<IPython.core.display.HTML object>"
      ]
     },
     "metadata": {},
     "output_type": "display_data"
    },
    {
     "data": {
      "text/plain": [
       "method                                                  scc_025\n",
       "partition     [0, 0, 0, 0, 0, 0, 0, 0, 0, 0, 0, 0, 0, 0, 0, ...\n",
       "ari_median                                            0.0886621\n",
       "selected                                                   True\n",
       "Name: 16, dtype: object"
      ]
     },
     "metadata": {},
     "output_type": "display_data"
    },
    {
     "data": {
      "text/plain": [
       "(3752,)"
      ]
     },
     "metadata": {},
     "output_type": "display_data"
    },
    {
     "data": {
      "text/plain": [
       "0     3301\n",
       "15     313\n",
       "12      29\n",
       "10      18\n",
       "13      14\n",
       "2       12\n",
       "3        9\n",
       "11       8\n",
       "5        8\n",
       "7        7\n",
       "14       7\n",
       "8        6\n",
       "4        6\n",
       "9        5\n",
       "1        5\n",
       "6        4\n",
       "dtype: int64"
      ]
     },
     "metadata": {},
     "output_type": "display_data"
    },
    {
     "data": {
      "text/html": [
       "<h3>Cluster 16.0</h3>"
      ],
      "text/plain": [
       "<IPython.core.display.HTML object>"
      ]
     },
     "metadata": {},
     "output_type": "display_data"
    },
    {
     "data": {
      "text/plain": [
       "3301"
      ]
     },
     "metadata": {},
     "output_type": "display_data"
    },
    {
     "data": {
      "text/plain": [
       "Index(['100001_raw-Food_weight', '100002_raw-Energy', '100003_raw-Protein',\n",
       "       '100004_raw-Fat', '100005_raw-Carbohydrate', '100006_raw-Saturated_fat',\n",
       "       '100007_raw-Polyunsaturated_fat', '100008_raw-Total_sugars',\n",
       "       '100009_raw-Englyst_dietary_fibre', '100010-Portion_size',\n",
       "       ...\n",
       "       'viral human hepatitis infection', 'viral meningitis',\n",
       "       'visual impairment', 'vitiligo', 'vitreous body disease',\n",
       "       'vocal cord polyp', 'voice disorders',\n",
       "       'wellbeing measurement AND family relationship', 'whooping cough',\n",
       "       'wrist fracture'],\n",
       "      dtype='object', length=3301)"
      ]
     },
     "metadata": {},
     "output_type": "display_data"
    },
    {
     "data": {
      "text/html": [
       "<h3>Cluster 16.1</h3>"
      ],
      "text/plain": [
       "<IPython.core.display.HTML object>"
      ]
     },
     "metadata": {},
     "output_type": "display_data"
    },
    {
     "data": {
      "text/plain": [
       "5"
      ]
     },
     "metadata": {},
     "output_type": "display_data"
    },
    {
     "data": {
      "text/plain": [
       "Index(['30080_raw-Platelet_count', '30090_raw-Platelet_crit',\n",
       "       '30100_raw-Mean_platelet_thrombocyte_volume',\n",
       "       '30110_raw-Platelet_distribution_width', 'platelet count'],\n",
       "      dtype='object')"
      ]
     },
     "metadata": {},
     "output_type": "display_data"
    },
    {
     "data": {
      "text/html": [
       "<h3>Cluster 16.2</h3>"
      ],
      "text/plain": [
       "<IPython.core.display.HTML object>"
      ]
     },
     "metadata": {},
     "output_type": "display_data"
    },
    {
     "data": {
      "text/plain": [
       "12"
      ]
     },
     "metadata": {},
     "output_type": "display_data"
    },
    {
     "data": {
      "text/plain": [
       "Index(['3144_raw-Heel_Broadband_ultrasound_attenuation_direct_entry',\n",
       "       '3147_raw-Heel_quantitative_ultrasound_index_QUI_direct_entry',\n",
       "       '3148_raw-Heel_bone_mineral_density_BMD',\n",
       "       '4101_raw-Heel_broadband_ultrasound_attenuation_left',\n",
       "       '4104_raw-Heel_quantitative_ultrasound_index_QUI_direct_entry_left',\n",
       "       '4105_raw-Heel_bone_mineral_density_BMD_left',\n",
       "       '4106_raw-Heel_bone_mineral_density_BMD_Tscore_automated_left',\n",
       "       '4120_raw-Heel_broadband_ultrasound_attenuation_right',\n",
       "       '4123_raw-Heel_quantitative_ultrasound_index_QUI_direct_entry_right',\n",
       "       '4124_raw-Heel_bone_mineral_density_BMD_right',\n",
       "       '4125_raw-Heel_bone_mineral_density_BMD_Tscore_automated_right',\n",
       "       '78_raw-Heel_bone_mineral_density_BMD_Tscore_automated'],\n",
       "      dtype='object')"
      ]
     },
     "metadata": {},
     "output_type": "display_data"
    },
    {
     "data": {
      "text/html": [
       "<h3>Cluster 16.3</h3>"
      ],
      "text/plain": [
       "<IPython.core.display.HTML object>"
      ]
     },
     "metadata": {},
     "output_type": "display_data"
    },
    {
     "data": {
      "text/plain": [
       "9"
      ]
     },
     "metadata": {},
     "output_type": "display_data"
    },
    {
     "data": {
      "text/plain": [
       "Index(['30010_raw-Red_blood_cell_erythrocyte_count',\n",
       "       '30020_raw-Haemoglobin_concentration',\n",
       "       '30030_raw-Haematocrit_percentage', '30040_raw-Mean_corpuscular_volume',\n",
       "       '30050_raw-Mean_corpuscular_haemoglobin',\n",
       "       '30070_raw-Red_blood_cell_erythrocyte_distribution_width',\n",
       "       '30260_raw-Mean_reticulocyte_volume',\n",
       "       '30270_raw-Mean_sphered_cell_volume', 'erythrocyte count'],\n",
       "      dtype='object')"
      ]
     },
     "metadata": {},
     "output_type": "display_data"
    },
    {
     "data": {
      "text/html": [
       "<h3>Cluster 16.4</h3>"
      ],
      "text/plain": [
       "<IPython.core.display.HTML object>"
      ]
     },
     "metadata": {},
     "output_type": "display_data"
    },
    {
     "data": {
      "text/plain": [
       "6"
      ]
     },
     "metadata": {},
     "output_type": "display_data"
    },
    {
     "data": {
      "text/plain": [
       "Index(['30240_raw-Reticulocyte_percentage', '30250_raw-Reticulocyte_count',\n",
       "       '30280_raw-Immature_reticulocyte_fraction',\n",
       "       '30290_raw-High_light_scatter_reticulocyte_percentage',\n",
       "       '30300_raw-High_light_scatter_reticulocyte_count',\n",
       "       'reticulocyte count'],\n",
       "      dtype='object')"
      ]
     },
     "metadata": {},
     "output_type": "display_data"
    },
    {
     "data": {
      "text/html": [
       "<h3>Cluster 16.5</h3>"
      ],
      "text/plain": [
       "<IPython.core.display.HTML object>"
      ]
     },
     "metadata": {},
     "output_type": "display_data"
    },
    {
     "data": {
      "text/plain": [
       "8"
      ]
     },
     "metadata": {},
     "output_type": "display_data"
    },
    {
     "data": {
      "text/plain": [
       "Index(['5096_raw-3mm_weak_meridian_left', '5097_raw-6mm_weak_meridian_left',\n",
       "       '5098_raw-6mm_weak_meridian_right', '5099_raw-3mm_weak_meridian_right',\n",
       "       '5132_raw-3mm_strong_meridian_right',\n",
       "       '5133_raw-6mm_strong_meridian_right',\n",
       "       '5134_raw-6mm_strong_meridian_left',\n",
       "       '5135_raw-3mm_strong_meridian_left'],\n",
       "      dtype='object')"
      ]
     },
     "metadata": {},
     "output_type": "display_data"
    },
    {
     "data": {
      "text/html": [
       "<h3>Cluster 16.6</h3>"
      ],
      "text/plain": [
       "<IPython.core.display.HTML object>"
      ]
     },
     "metadata": {},
     "output_type": "display_data"
    },
    {
     "data": {
      "text/plain": [
       "4"
      ]
     },
     "metadata": {},
     "output_type": "display_data"
    },
    {
     "data": {
      "text/plain": [
       "Index(['30150-Eosinophill_count', '30210_raw-Eosinophill_percentage',\n",
       "       'eosinophil count', 'sum of eosinophil and basophil counts'],\n",
       "      dtype='object')"
      ]
     },
     "metadata": {},
     "output_type": "display_data"
    },
    {
     "data": {
      "text/html": [
       "<h3>Cluster 16.7</h3>"
      ],
      "text/plain": [
       "<IPython.core.display.HTML object>"
      ]
     },
     "metadata": {},
     "output_type": "display_data"
    },
    {
     "data": {
      "text/plain": [
       "7"
      ]
     },
     "metadata": {},
     "output_type": "display_data"
    },
    {
     "data": {
      "text/plain": [
       "Index(['1717-Skin_colour', '1727-Ease_of_skin_tanning',\n",
       "       '1747_1-Hair_colour_natural_before_greying_Blonde',\n",
       "       '1747_2-Hair_colour_natural_before_greying_Red',\n",
       "       '1747_3-Hair_colour_natural_before_greying_Light_brown',\n",
       "       '1747_4-Hair_colour_natural_before_greying_Dark_brown',\n",
       "       '1747_5-Hair_colour_natural_before_greying_Black'],\n",
       "      dtype='object')"
      ]
     },
     "metadata": {},
     "output_type": "display_data"
    },
    {
     "data": {
      "text/html": [
       "<h3>Cluster 16.8</h3>"
      ],
      "text/plain": [
       "<IPython.core.display.HTML object>"
      ]
     },
     "metadata": {},
     "output_type": "display_data"
    },
    {
     "data": {
      "text/plain": [
       "6"
      ]
     },
     "metadata": {},
     "output_type": "display_data"
    },
    {
     "data": {
      "text/plain": [
       "Index(['30130_raw-Monocyte_count', '30180_raw-Lymphocyte_percentage',\n",
       "       '30190_raw-Monocyte_percentage', '30200_raw-Neutrophill_percentage',\n",
       "       'lymphocyte count', 'monocyte count'],\n",
       "      dtype='object')"
      ]
     },
     "metadata": {},
     "output_type": "display_data"
    },
    {
     "data": {
      "text/html": [
       "<h3>Cluster 16.9</h3>"
      ],
      "text/plain": [
       "<IPython.core.display.HTML object>"
      ]
     },
     "metadata": {},
     "output_type": "display_data"
    },
    {
     "data": {
      "text/plain": [
       "5"
      ]
     },
     "metadata": {},
     "output_type": "display_data"
    },
    {
     "data": {
      "text/plain": [
       "Index(['K11_COELIAC-Coeliac_disease', 'celiac disease',\n",
       "       'malabsorption syndrome', 'rheumatoid arthritis',\n",
       "       'systemic lupus erythematosus'],\n",
       "      dtype='object')"
      ]
     },
     "metadata": {},
     "output_type": "display_data"
    },
    {
     "data": {
      "text/html": [
       "<h3>Cluster 16.10</h3>"
      ],
      "text/plain": [
       "<IPython.core.display.HTML object>"
      ]
     },
     "metadata": {},
     "output_type": "display_data"
    },
    {
     "data": {
      "text/plain": [
       "18"
      ]
     },
     "metadata": {},
     "output_type": "display_data"
    },
    {
     "data": {
      "text/plain": [
       "Index(['21001_raw-Body_mass_index_BMI', '21002_raw-Weight', '23098_raw-Weight',\n",
       "       '23099_raw-Body_fat_percentage', '23100_raw-Whole_body_fat_mass',\n",
       "       '23104_raw-Body_mass_index_BMI', '23111_raw-Leg_fat_percentage_right',\n",
       "       '23112_raw-Leg_fat_mass_right', '23115_raw-Leg_fat_percentage_left',\n",
       "       '23116_raw-Leg_fat_mass_left', '23119_raw-Arm_fat_percentage_right',\n",
       "       '23120_raw-Arm_fat_mass_right', '23123_raw-Arm_fat_percentage_left',\n",
       "       '23124_raw-Arm_fat_mass_left', '23127_raw-Trunk_fat_percentage',\n",
       "       '23128_raw-Trunk_fat_mass', '48_raw-Waist_circumference',\n",
       "       '49_raw-Hip_circumference'],\n",
       "      dtype='object')"
      ]
     },
     "metadata": {},
     "output_type": "display_data"
    },
    {
     "data": {
      "text/html": [
       "<h3>Cluster 16.11</h3>"
      ],
      "text/plain": [
       "<IPython.core.display.HTML object>"
      ]
     },
     "metadata": {},
     "output_type": "display_data"
    },
    {
     "data": {
      "text/plain": [
       "8"
      ]
     },
     "metadata": {},
     "output_type": "display_data"
    },
    {
     "data": {
      "text/plain": [
       "Index(['30000_raw-White_blood_cell_leukocyte_count',\n",
       "       '30140_raw-Neutrophill_count', 'granulocyte count', 'leukocyte count',\n",
       "       'myeloid white cell count', 'neutrophil count',\n",
       "       'sum of basophil and neutrophil counts',\n",
       "       'sum of neutrophil and eosinophil counts'],\n",
       "      dtype='object')"
      ]
     },
     "metadata": {},
     "output_type": "display_data"
    },
    {
     "data": {
      "text/html": [
       "<h3>Cluster 16.12</h3>"
      ],
      "text/plain": [
       "<IPython.core.display.HTML object>"
      ]
     },
     "metadata": {},
     "output_type": "display_data"
    },
    {
     "data": {
      "text/plain": [
       "29"
      ]
     },
     "metadata": {},
     "output_type": "display_data"
    },
    {
     "data": {
      "text/plain": [
       "Index(['20015_raw-Sitting_height',\n",
       "       '20150_raw-Forced_expiratory_volume_in_1second_FEV1_Best_measure',\n",
       "       '20151_raw-Forced_vital_capacity_FVC_Best_measure',\n",
       "       '20153_raw-Forced_expiratory_volume_in_1second_FEV1_predicted',\n",
       "       '23101_raw-Whole_body_fatfree_mass', '23102_raw-Whole_body_water_mass',\n",
       "       '23105_raw-Basal_metabolic_rate', '23106_raw-Impedance_of_whole_body',\n",
       "       '23107_raw-Impedance_of_leg_right', '23108_raw-Impedance_of_leg_left',\n",
       "       '23109_raw-Impedance_of_arm_right', '23110_raw-Impedance_of_arm_left',\n",
       "       '23113_raw-Leg_fatfree_mass_right',\n",
       "       '23114_raw-Leg_predicted_mass_right', '23117_raw-Leg_fatfree_mass_left',\n",
       "       '23118_raw-Leg_predicted_mass_left', '23121_raw-Arm_fatfree_mass_right',\n",
       "       '23122_raw-Arm_predicted_mass_right', '23125_raw-Arm_fatfree_mass_left',\n",
       "       '23126_raw-Arm_predicted_mass_left', '23129_raw-Trunk_fatfree_mass',\n",
       "       '23130_raw-Trunk_predicted_mass', '3062_raw-Forced_vital_capacity_FVC',\n",
       "       '3063_raw-Forced_expiratory_volume_in_1second_FEV1',\n",
       "       '3143_raw-Ankle_spacing_width', '4100_raw-Ankle_spacing_width_left',\n",
       "       '4119_raw-Ankle_spacing_width_right', '50_raw-Standing_height',\n",
       "       'body height'],\n",
       "      dtype='object')"
      ]
     },
     "metadata": {},
     "output_type": "display_data"
    },
    {
     "data": {
      "text/html": [
       "<h3>Cluster 16.13</h3>"
      ],
      "text/plain": [
       "<IPython.core.display.HTML object>"
      ]
     },
     "metadata": {},
     "output_type": "display_data"
    },
    {
     "data": {
      "text/plain": [
       "14"
      ]
     },
     "metadata": {},
     "output_type": "display_data"
    },
    {
     "data": {
      "text/plain": [
       "Index(['20003_1140861958-Treatmentmedication_code_simvastatin',\n",
       "       '20003_1141194794-Treatmentmedication_code_bendroflumethiazide',\n",
       "       '4079_raw-Diastolic_blood_pressure_automated_reading',\n",
       "       '4080_raw-Systolic_blood_pressure_automated_reading',\n",
       "       '6150_100-Vascularheart_problems_diagnosed_by_doctor_None_of_the_above',\n",
       "       '6150_4-Vascularheart_problems_diagnosed_by_doctor_High_blood_pressure',\n",
       "       '6153_1-Medication_for_cholesterol_blood_pressure_diabetes_or_take_exogenous_hormones_Cholesterol_lowering_medication',\n",
       "       '6153_100-Medication_for_cholesterol_blood_pressure_diabetes_or_take_exogenous_hormones_None_of_the_above',\n",
       "       '6153_2-Medication_for_cholesterol_blood_pressure_diabetes_or_take_exogenous_hormones_Blood_pressure_medication',\n",
       "       '6177_1-Medication_for_cholesterol_blood_pressure_or_diabetes_Cholesterol_lowering_medication',\n",
       "       '6177_100-Medication_for_cholesterol_blood_pressure_or_diabetes_None_of_the_above',\n",
       "       '6177_2-Medication_for_cholesterol_blood_pressure_or_diabetes_Blood_pressure_medication',\n",
       "       'hypercholesterolemia', 'hypertension'],\n",
       "      dtype='object')"
      ]
     },
     "metadata": {},
     "output_type": "display_data"
    },
    {
     "data": {
      "text/html": [
       "<h3>Cluster 16.14</h3>"
      ],
      "text/plain": [
       "<IPython.core.display.HTML object>"
      ]
     },
     "metadata": {},
     "output_type": "display_data"
    },
    {
     "data": {
      "text/plain": [
       "7"
      ]
     },
     "metadata": {},
     "output_type": "display_data"
    },
    {
     "data": {
      "text/plain": [
       "Index(['20003_1140883066-Treatmentmedication_code_insulin_product',\n",
       "       '20003_1141191044-Treatmentmedication_code_levothyroxine_sodium',\n",
       "       '2986-Started_insulin_within_one_year_diagnosis_of_diabetes',\n",
       "       '6144_3-Never_eat_eggs_dairy_wheat_sugar_Wheat_products',\n",
       "       'hyperthyroidism AND thyrotoxicosis', 'hypothyroidism AND myxedema',\n",
       "       'psoriasis'],\n",
       "      dtype='object')"
      ]
     },
     "metadata": {},
     "output_type": "display_data"
    },
    {
     "data": {
      "text/html": [
       "<h3>Cluster 16.15</h3>"
      ],
      "text/plain": [
       "<IPython.core.display.HTML object>"
      ]
     },
     "metadata": {},
     "output_type": "display_data"
    },
    {
     "data": {
      "text/plain": [
       "313"
      ]
     },
     "metadata": {},
     "output_type": "display_data"
    },
    {
     "data": {
      "text/plain": [
       "Index(['1021-Duration_of_light_DIY', '102_raw-Pulse_rate_automated_reading',\n",
       "       '1031-Frequency_of_friendfamily_visits',\n",
       "       '1050-Time_spend_outdoors_in_summer',\n",
       "       '1060-Time_spent_outdoors_in_winter',\n",
       "       '1070-Time_spent_watching_television_TV',\n",
       "       '1080-Time_spent_using_computer', '1090-Time_spent_driving',\n",
       "       '1100-Drive_faster_than_motorway_speed_limit',\n",
       "       '110001-Invitation_to_complete_online_24hour_recall_dietary_questionnaire_acceptance',\n",
       "       ...\n",
       "       'self rated health', 'self reported educational attainment',\n",
       "       'sleep duration', 'smoking behavior', 'smoking cessation',\n",
       "       'snoring measurement', 'tiredness measurement', 'varicose veins',\n",
       "       'wheezing', 'worry measurement'],\n",
       "      dtype='object', length=313)"
      ]
     },
     "metadata": {},
     "output_type": "display_data"
    },
    {
     "data": {
      "text/html": [
       "<h2>Partition with k=22</h2>"
      ],
      "text/plain": [
       "<IPython.core.display.HTML object>"
      ]
     },
     "metadata": {},
     "output_type": "display_data"
    },
    {
     "data": {
      "text/plain": [
       "method                                                  scc_020\n",
       "partition     [13, 18, 18, 18, 18, 18, 18, 18, 18, 13, 18, 1...\n",
       "ari_median                                            0.0901003\n",
       "selected                                                   True\n",
       "Name: 22, dtype: object"
      ]
     },
     "metadata": {},
     "output_type": "display_data"
    },
    {
     "data": {
      "text/plain": [
       "(3752,)"
      ]
     },
     "metadata": {},
     "output_type": "display_data"
    },
    {
     "data": {
      "text/plain": [
       "13    3319\n",
       "0      250\n",
       "19      18\n",
       "20      17\n",
       "18      15\n",
       "9       15\n",
       "15      14\n",
       "16      13\n",
       "14      12\n",
       "8       12\n",
       "17       9\n",
       "12       8\n",
       "10       8\n",
       "5        7\n",
       "7        6\n",
       "6        6\n",
       "1        5\n",
       "11       5\n",
       "3        4\n",
       "4        4\n",
       "2        4\n",
       "21       1\n",
       "dtype: int64"
      ]
     },
     "metadata": {},
     "output_type": "display_data"
    },
    {
     "data": {
      "text/html": [
       "<h3>Cluster 22.0</h3>"
      ],
      "text/plain": [
       "<IPython.core.display.HTML object>"
      ]
     },
     "metadata": {},
     "output_type": "display_data"
    },
    {
     "data": {
      "text/plain": [
       "250"
      ]
     },
     "metadata": {},
     "output_type": "display_data"
    },
    {
     "data": {
      "text/plain": [
       "Index(['1021-Duration_of_light_DIY', '102_raw-Pulse_rate_automated_reading',\n",
       "       '1031-Frequency_of_friendfamily_visits',\n",
       "       '1050-Time_spend_outdoors_in_summer',\n",
       "       '1060-Time_spent_outdoors_in_winter',\n",
       "       '1070-Time_spent_watching_television_TV',\n",
       "       '1080-Time_spent_using_computer', '1090-Time_spent_driving',\n",
       "       '1100-Drive_faster_than_motorway_speed_limit',\n",
       "       '110001-Invitation_to_complete_online_24hour_recall_dietary_questionnaire_acceptance',\n",
       "       ...\n",
       "       'self rated health', 'self reported educational attainment',\n",
       "       'sleep duration', 'smoking behavior', 'smoking cessation',\n",
       "       'snoring measurement', 'tiredness measurement', 'varicose veins',\n",
       "       'wheezing', 'worry measurement'],\n",
       "      dtype='object', length=250)"
      ]
     },
     "metadata": {},
     "output_type": "display_data"
    },
    {
     "data": {
      "text/html": [
       "<h3>Cluster 22.1</h3>"
      ],
      "text/plain": [
       "<IPython.core.display.HTML object>"
      ]
     },
     "metadata": {},
     "output_type": "display_data"
    },
    {
     "data": {
      "text/plain": [
       "5"
      ]
     },
     "metadata": {},
     "output_type": "display_data"
    },
    {
     "data": {
      "text/plain": [
       "Index(['30080_raw-Platelet_count', '30090_raw-Platelet_crit',\n",
       "       '30100_raw-Mean_platelet_thrombocyte_volume',\n",
       "       '30110_raw-Platelet_distribution_width', 'platelet count'],\n",
       "      dtype='object')"
      ]
     },
     "metadata": {},
     "output_type": "display_data"
    },
    {
     "data": {
      "text/html": [
       "<h3>Cluster 22.2</h3>"
      ],
      "text/plain": [
       "<IPython.core.display.HTML object>"
      ]
     },
     "metadata": {},
     "output_type": "display_data"
    },
    {
     "data": {
      "text/plain": [
       "4"
      ]
     },
     "metadata": {},
     "output_type": "display_data"
    },
    {
     "data": {
      "text/plain": [
       "Index(['30150-Eosinophill_count', '30210_raw-Eosinophill_percentage',\n",
       "       'eosinophil count', 'sum of eosinophil and basophil counts'],\n",
       "      dtype='object')"
      ]
     },
     "metadata": {},
     "output_type": "display_data"
    },
    {
     "data": {
      "text/html": [
       "<h3>Cluster 22.3</h3>"
      ],
      "text/plain": [
       "<IPython.core.display.HTML object>"
      ]
     },
     "metadata": {},
     "output_type": "display_data"
    },
    {
     "data": {
      "text/plain": [
       "4"
      ]
     },
     "metadata": {},
     "output_type": "display_data"
    },
    {
     "data": {
      "text/plain": [
       "Index(['30040_raw-Mean_corpuscular_volume',\n",
       "       '30050_raw-Mean_corpuscular_haemoglobin',\n",
       "       '30260_raw-Mean_reticulocyte_volume',\n",
       "       '30270_raw-Mean_sphered_cell_volume'],\n",
       "      dtype='object')"
      ]
     },
     "metadata": {},
     "output_type": "display_data"
    },
    {
     "data": {
      "text/html": [
       "<h3>Cluster 22.4</h3>"
      ],
      "text/plain": [
       "<IPython.core.display.HTML object>"
      ]
     },
     "metadata": {},
     "output_type": "display_data"
    },
    {
     "data": {
      "text/plain": [
       "4"
      ]
     },
     "metadata": {},
     "output_type": "display_data"
    },
    {
     "data": {
      "text/plain": [
       "Index(['30010_raw-Red_blood_cell_erythrocyte_count',\n",
       "       '30020_raw-Haemoglobin_concentration',\n",
       "       '30030_raw-Haematocrit_percentage', 'erythrocyte count'],\n",
       "      dtype='object')"
      ]
     },
     "metadata": {},
     "output_type": "display_data"
    },
    {
     "data": {
      "text/html": [
       "<h3>Cluster 22.5</h3>"
      ],
      "text/plain": [
       "<IPython.core.display.HTML object>"
      ]
     },
     "metadata": {},
     "output_type": "display_data"
    },
    {
     "data": {
      "text/plain": [
       "7"
      ]
     },
     "metadata": {},
     "output_type": "display_data"
    },
    {
     "data": {
      "text/plain": [
       "Index(['1717-Skin_colour', '1727-Ease_of_skin_tanning',\n",
       "       '1747_1-Hair_colour_natural_before_greying_Blonde',\n",
       "       '1747_2-Hair_colour_natural_before_greying_Red',\n",
       "       '1747_3-Hair_colour_natural_before_greying_Light_brown',\n",
       "       '1747_4-Hair_colour_natural_before_greying_Dark_brown',\n",
       "       '1747_5-Hair_colour_natural_before_greying_Black'],\n",
       "      dtype='object')"
      ]
     },
     "metadata": {},
     "output_type": "display_data"
    },
    {
     "data": {
      "text/html": [
       "<h3>Cluster 22.6</h3>"
      ],
      "text/plain": [
       "<IPython.core.display.HTML object>"
      ]
     },
     "metadata": {},
     "output_type": "display_data"
    },
    {
     "data": {
      "text/plain": [
       "6"
      ]
     },
     "metadata": {},
     "output_type": "display_data"
    },
    {
     "data": {
      "text/plain": [
       "Index(['30240_raw-Reticulocyte_percentage', '30250_raw-Reticulocyte_count',\n",
       "       '30280_raw-Immature_reticulocyte_fraction',\n",
       "       '30290_raw-High_light_scatter_reticulocyte_percentage',\n",
       "       '30300_raw-High_light_scatter_reticulocyte_count',\n",
       "       'reticulocyte count'],\n",
       "      dtype='object')"
      ]
     },
     "metadata": {},
     "output_type": "display_data"
    },
    {
     "data": {
      "text/html": [
       "<h3>Cluster 22.7</h3>"
      ],
      "text/plain": [
       "<IPython.core.display.HTML object>"
      ]
     },
     "metadata": {},
     "output_type": "display_data"
    },
    {
     "data": {
      "text/plain": [
       "6"
      ]
     },
     "metadata": {},
     "output_type": "display_data"
    },
    {
     "data": {
      "text/plain": [
       "Index(['30130_raw-Monocyte_count', '30180_raw-Lymphocyte_percentage',\n",
       "       '30190_raw-Monocyte_percentage', '30200_raw-Neutrophill_percentage',\n",
       "       'lymphocyte count', 'monocyte count'],\n",
       "      dtype='object')"
      ]
     },
     "metadata": {},
     "output_type": "display_data"
    },
    {
     "data": {
      "text/html": [
       "<h3>Cluster 22.8</h3>"
      ],
      "text/plain": [
       "<IPython.core.display.HTML object>"
      ]
     },
     "metadata": {},
     "output_type": "display_data"
    },
    {
     "data": {
      "text/plain": [
       "12"
      ]
     },
     "metadata": {},
     "output_type": "display_data"
    },
    {
     "data": {
      "text/plain": [
       "Index(['20003_1140883066-Treatmentmedication_code_insulin_product',\n",
       "       '20003_1141191044-Treatmentmedication_code_levothyroxine_sodium',\n",
       "       '2986-Started_insulin_within_one_year_diagnosis_of_diabetes',\n",
       "       '6144_3-Never_eat_eggs_dairy_wheat_sugar_Wheat_products',\n",
       "       'K11_COELIAC-Coeliac_disease', 'celiac disease',\n",
       "       'hyperthyroidism AND thyrotoxicosis', 'hypothyroidism AND myxedema',\n",
       "       'malabsorption syndrome', 'psoriasis', 'rheumatoid arthritis',\n",
       "       'systemic lupus erythematosus'],\n",
       "      dtype='object')"
      ]
     },
     "metadata": {},
     "output_type": "display_data"
    },
    {
     "data": {
      "text/html": [
       "<h3>Cluster 22.9</h3>"
      ],
      "text/plain": [
       "<IPython.core.display.HTML object>"
      ]
     },
     "metadata": {},
     "output_type": "display_data"
    },
    {
     "data": {
      "text/plain": [
       "15"
      ]
     },
     "metadata": {},
     "output_type": "display_data"
    },
    {
     "data": {
      "text/plain": [
       "Index(['EAGLE_Eczema', 'Jones_et_al_2016_Chronotype', 'MAGNETIC_CH2.DB.ratio',\n",
       "       'MAGNETIC_HDL.C', 'MAGNETIC_IDL.TG', 'MAGNETIC_LDL.C',\n",
       "       'alzheimer's disease', 'attention deficit hyperactivity disorder',\n",
       "       'coronary artery disease', 'estrogen-receptor negative breast cancer',\n",
       "       'estrogen-receptor positive breast cancer',\n",
       "       'family history of breast cancer', 'fasting blood glucose measurement',\n",
       "       'fasting blood insulin measurement', 'inflammatory bowel disease'],\n",
       "      dtype='object')"
      ]
     },
     "metadata": {},
     "output_type": "display_data"
    },
    {
     "data": {
      "text/html": [
       "<h3>Cluster 22.10</h3>"
      ],
      "text/plain": [
       "<IPython.core.display.HTML object>"
      ]
     },
     "metadata": {},
     "output_type": "display_data"
    },
    {
     "data": {
      "text/plain": [
       "8"
      ]
     },
     "metadata": {},
     "output_type": "display_data"
    },
    {
     "data": {
      "text/plain": [
       "Index(['30000_raw-White_blood_cell_leukocyte_count',\n",
       "       '30140_raw-Neutrophill_count', 'granulocyte count', 'leukocyte count',\n",
       "       'myeloid white cell count', 'neutrophil count',\n",
       "       'sum of basophil and neutrophil counts',\n",
       "       'sum of neutrophil and eosinophil counts'],\n",
       "      dtype='object')"
      ]
     },
     "metadata": {},
     "output_type": "display_data"
    },
    {
     "data": {
      "text/html": [
       "<h3>Cluster 22.11</h3>"
      ],
      "text/plain": [
       "<IPython.core.display.HTML object>"
      ]
     },
     "metadata": {},
     "output_type": "display_data"
    },
    {
     "data": {
      "text/plain": [
       "5"
      ]
     },
     "metadata": {},
     "output_type": "display_data"
    },
    {
     "data": {
      "text/plain": [
       "Index(['30120_raw-Lymphocyte_count',\n",
       "       '6152_100-Blood_clot_DVT_bronchitis_emphysema_asthma_rhinitis_eczema_allergy_diagnosed_by_doctor_None_of_the_above',\n",
       "       '6152_8-Blood_clot_DVT_bronchitis_emphysema_asthma_rhinitis_eczema_allergy_diagnosed_by_doctor_Asthma',\n",
       "       '6152_9-Blood_clot_DVT_bronchitis_emphysema_asthma_rhinitis_eczema_allergy_diagnosed_by_doctor_Hayfever_allergic_rhinitis_or_eczema',\n",
       "       'asthma'],\n",
       "      dtype='object')"
      ]
     },
     "metadata": {},
     "output_type": "display_data"
    },
    {
     "data": {
      "text/html": [
       "<h3>Cluster 22.12</h3>"
      ],
      "text/plain": [
       "<IPython.core.display.HTML object>"
      ]
     },
     "metadata": {},
     "output_type": "display_data"
    },
    {
     "data": {
      "text/plain": [
       "8"
      ]
     },
     "metadata": {},
     "output_type": "display_data"
    },
    {
     "data": {
      "text/plain": [
       "Index(['5096_raw-3mm_weak_meridian_left', '5097_raw-6mm_weak_meridian_left',\n",
       "       '5098_raw-6mm_weak_meridian_right', '5099_raw-3mm_weak_meridian_right',\n",
       "       '5132_raw-3mm_strong_meridian_right',\n",
       "       '5133_raw-6mm_strong_meridian_right',\n",
       "       '5134_raw-6mm_strong_meridian_left',\n",
       "       '5135_raw-3mm_strong_meridian_left'],\n",
       "      dtype='object')"
      ]
     },
     "metadata": {},
     "output_type": "display_data"
    },
    {
     "data": {
      "text/html": [
       "<h3>Cluster 22.13</h3>"
      ],
      "text/plain": [
       "<IPython.core.display.HTML object>"
      ]
     },
     "metadata": {},
     "output_type": "display_data"
    },
    {
     "data": {
      "text/plain": [
       "3319"
      ]
     },
     "metadata": {},
     "output_type": "display_data"
    },
    {
     "data": {
      "text/plain": [
       "Index(['100001_raw-Food_weight', '100010-Portion_size',\n",
       "       '100013_raw-Vitamin_B12', '100015_raw-Vitamin_C', '100018_raw-Retinol',\n",
       "       '100019_raw-Carotene', '100021_raw-Vitamin_D', '100022-Alcohol',\n",
       "       '100023_raw-Starch', '1001-Duration_of_strenuous_sports',\n",
       "       ...\n",
       "       'viral human hepatitis infection', 'viral meningitis',\n",
       "       'visual impairment', 'vitiligo', 'vitreous body disease',\n",
       "       'vocal cord polyp', 'voice disorders',\n",
       "       'wellbeing measurement AND family relationship', 'whooping cough',\n",
       "       'wrist fracture'],\n",
       "      dtype='object', length=3319)"
      ]
     },
     "metadata": {},
     "output_type": "display_data"
    },
    {
     "data": {
      "text/html": [
       "<h3>Cluster 22.14</h3>"
      ],
      "text/plain": [
       "<IPython.core.display.HTML object>"
      ]
     },
     "metadata": {},
     "output_type": "display_data"
    },
    {
     "data": {
      "text/plain": [
       "12"
      ]
     },
     "metadata": {},
     "output_type": "display_data"
    },
    {
     "data": {
      "text/plain": [
       "Index(['3144_raw-Heel_Broadband_ultrasound_attenuation_direct_entry',\n",
       "       '3147_raw-Heel_quantitative_ultrasound_index_QUI_direct_entry',\n",
       "       '3148_raw-Heel_bone_mineral_density_BMD',\n",
       "       '4101_raw-Heel_broadband_ultrasound_attenuation_left',\n",
       "       '4104_raw-Heel_quantitative_ultrasound_index_QUI_direct_entry_left',\n",
       "       '4105_raw-Heel_bone_mineral_density_BMD_left',\n",
       "       '4106_raw-Heel_bone_mineral_density_BMD_Tscore_automated_left',\n",
       "       '4120_raw-Heel_broadband_ultrasound_attenuation_right',\n",
       "       '4123_raw-Heel_quantitative_ultrasound_index_QUI_direct_entry_right',\n",
       "       '4124_raw-Heel_bone_mineral_density_BMD_right',\n",
       "       '4125_raw-Heel_bone_mineral_density_BMD_Tscore_automated_right',\n",
       "       '78_raw-Heel_bone_mineral_density_BMD_Tscore_automated'],\n",
       "      dtype='object')"
      ]
     },
     "metadata": {},
     "output_type": "display_data"
    },
    {
     "data": {
      "text/html": [
       "<h3>Cluster 22.15</h3>"
      ],
      "text/plain": [
       "<IPython.core.display.HTML object>"
      ]
     },
     "metadata": {},
     "output_type": "display_data"
    },
    {
     "data": {
      "text/plain": [
       "14"
      ]
     },
     "metadata": {},
     "output_type": "display_data"
    },
    {
     "data": {
      "text/plain": [
       "Index(['20003_1140861958-Treatmentmedication_code_simvastatin',\n",
       "       '20003_1141194794-Treatmentmedication_code_bendroflumethiazide',\n",
       "       '4079_raw-Diastolic_blood_pressure_automated_reading',\n",
       "       '4080_raw-Systolic_blood_pressure_automated_reading',\n",
       "       '6150_100-Vascularheart_problems_diagnosed_by_doctor_None_of_the_above',\n",
       "       '6150_4-Vascularheart_problems_diagnosed_by_doctor_High_blood_pressure',\n",
       "       '6153_1-Medication_for_cholesterol_blood_pressure_diabetes_or_take_exogenous_hormones_Cholesterol_lowering_medication',\n",
       "       '6153_100-Medication_for_cholesterol_blood_pressure_diabetes_or_take_exogenous_hormones_None_of_the_above',\n",
       "       '6153_2-Medication_for_cholesterol_blood_pressure_diabetes_or_take_exogenous_hormones_Blood_pressure_medication',\n",
       "       '6177_1-Medication_for_cholesterol_blood_pressure_or_diabetes_Cholesterol_lowering_medication',\n",
       "       '6177_100-Medication_for_cholesterol_blood_pressure_or_diabetes_None_of_the_above',\n",
       "       '6177_2-Medication_for_cholesterol_blood_pressure_or_diabetes_Blood_pressure_medication',\n",
       "       'hypercholesterolemia', 'hypertension'],\n",
       "      dtype='object')"
      ]
     },
     "metadata": {},
     "output_type": "display_data"
    },
    {
     "data": {
      "text/html": [
       "<h3>Cluster 22.16</h3>"
      ],
      "text/plain": [
       "<IPython.core.display.HTML object>"
      ]
     },
     "metadata": {},
     "output_type": "display_data"
    },
    {
     "data": {
      "text/plain": [
       "13"
      ]
     },
     "metadata": {},
     "output_type": "display_data"
    },
    {
     "data": {
      "text/plain": [
       "Index(['20150_raw-Forced_expiratory_volume_in_1second_FEV1_Best_measure',\n",
       "       '20151_raw-Forced_vital_capacity_FVC_Best_measure',\n",
       "       '23106_raw-Impedance_of_whole_body', '23107_raw-Impedance_of_leg_right',\n",
       "       '23108_raw-Impedance_of_leg_left', '23109_raw-Impedance_of_arm_right',\n",
       "       '23110_raw-Impedance_of_arm_left', '3062_raw-Forced_vital_capacity_FVC',\n",
       "       '3063_raw-Forced_expiratory_volume_in_1second_FEV1',\n",
       "       '3064_raw-Peak_expiratory_flow_PEF', '3143_raw-Ankle_spacing_width',\n",
       "       '4100_raw-Ankle_spacing_width_left',\n",
       "       '4119_raw-Ankle_spacing_width_right'],\n",
       "      dtype='object')"
      ]
     },
     "metadata": {},
     "output_type": "display_data"
    },
    {
     "data": {
      "text/html": [
       "<h3>Cluster 22.17</h3>"
      ],
      "text/plain": [
       "<IPython.core.display.HTML object>"
      ]
     },
     "metadata": {},
     "output_type": "display_data"
    },
    {
     "data": {
      "text/plain": [
       "9"
      ]
     },
     "metadata": {},
     "output_type": "display_data"
    },
    {
     "data": {
      "text/plain": [
       "Index(['6150_1-Vascularheart_problems_diagnosed_by_doctor_Heart_attack',\n",
       "       'I9_CHD-Major_coronary_heart_disease_event',\n",
       "       'I9_CHD_NOREV-Major_coronary_heart_disease_event_excluding_revascularizations',\n",
       "       'I9_CORATHER-Coronary_atherosclerosis',\n",
       "       'I9_IHD-Ischaemic_heart_disease_wide_definition',\n",
       "       'I9_MI-Myocardial_infarction',\n",
       "       'I9_MI_STRICT-Myocardial_infarction_strict',\n",
       "       'acute myocardial infarction', 'myocardial infarction'],\n",
       "      dtype='object')"
      ]
     },
     "metadata": {},
     "output_type": "display_data"
    },
    {
     "data": {
      "text/html": [
       "<h3>Cluster 22.18</h3>"
      ],
      "text/plain": [
       "<IPython.core.display.HTML object>"
      ]
     },
     "metadata": {},
     "output_type": "display_data"
    },
    {
     "data": {
      "text/plain": [
       "15"
      ]
     },
     "metadata": {},
     "output_type": "display_data"
    },
    {
     "data": {
      "text/plain": [
       "Index(['100002_raw-Energy', '100003_raw-Protein', '100004_raw-Fat',\n",
       "       '100005_raw-Carbohydrate', '100006_raw-Saturated_fat',\n",
       "       '100007_raw-Polyunsaturated_fat', '100008_raw-Total_sugars',\n",
       "       '100009_raw-Englyst_dietary_fibre', '100011_raw-Iron',\n",
       "       '100012_raw-Vitamin_B6', '100014_raw-Folate', '100016_raw-Potassium',\n",
       "       '100017_raw-Magnesium', '100024_raw-Calcium', '100025_raw-Vitamin_E'],\n",
       "      dtype='object')"
      ]
     },
     "metadata": {},
     "output_type": "display_data"
    },
    {
     "data": {
      "text/html": [
       "<h3>Cluster 22.19</h3>"
      ],
      "text/plain": [
       "<IPython.core.display.HTML object>"
      ]
     },
     "metadata": {},
     "output_type": "display_data"
    },
    {
     "data": {
      "text/plain": [
       "18"
      ]
     },
     "metadata": {},
     "output_type": "display_data"
    },
    {
     "data": {
      "text/plain": [
       "Index(['21001_raw-Body_mass_index_BMI', '21002_raw-Weight', '23098_raw-Weight',\n",
       "       '23099_raw-Body_fat_percentage', '23100_raw-Whole_body_fat_mass',\n",
       "       '23104_raw-Body_mass_index_BMI', '23111_raw-Leg_fat_percentage_right',\n",
       "       '23112_raw-Leg_fat_mass_right', '23115_raw-Leg_fat_percentage_left',\n",
       "       '23116_raw-Leg_fat_mass_left', '23119_raw-Arm_fat_percentage_right',\n",
       "       '23120_raw-Arm_fat_mass_right', '23123_raw-Arm_fat_percentage_left',\n",
       "       '23124_raw-Arm_fat_mass_left', '23127_raw-Trunk_fat_percentage',\n",
       "       '23128_raw-Trunk_fat_mass', '48_raw-Waist_circumference',\n",
       "       '49_raw-Hip_circumference'],\n",
       "      dtype='object')"
      ]
     },
     "metadata": {},
     "output_type": "display_data"
    },
    {
     "data": {
      "text/html": [
       "<h3>Cluster 22.20</h3>"
      ],
      "text/plain": [
       "<IPython.core.display.HTML object>"
      ]
     },
     "metadata": {},
     "output_type": "display_data"
    },
    {
     "data": {
      "text/plain": [
       "17"
      ]
     },
     "metadata": {},
     "output_type": "display_data"
    },
    {
     "data": {
      "text/plain": [
       "Index(['20015_raw-Sitting_height',\n",
       "       '20153_raw-Forced_expiratory_volume_in_1second_FEV1_predicted',\n",
       "       '23101_raw-Whole_body_fatfree_mass', '23102_raw-Whole_body_water_mass',\n",
       "       '23105_raw-Basal_metabolic_rate', '23113_raw-Leg_fatfree_mass_right',\n",
       "       '23114_raw-Leg_predicted_mass_right', '23117_raw-Leg_fatfree_mass_left',\n",
       "       '23118_raw-Leg_predicted_mass_left', '23121_raw-Arm_fatfree_mass_right',\n",
       "       '23122_raw-Arm_predicted_mass_right', '23125_raw-Arm_fatfree_mass_left',\n",
       "       '23126_raw-Arm_predicted_mass_left', '23129_raw-Trunk_fatfree_mass',\n",
       "       '23130_raw-Trunk_predicted_mass', '50_raw-Standing_height',\n",
       "       'body height'],\n",
       "      dtype='object')"
      ]
     },
     "metadata": {},
     "output_type": "display_data"
    },
    {
     "data": {
      "text/html": [
       "<h3>Cluster 22.21</h3>"
      ],
      "text/plain": [
       "<IPython.core.display.HTML object>"
      ]
     },
     "metadata": {},
     "output_type": "display_data"
    },
    {
     "data": {
      "text/plain": [
       "1"
      ]
     },
     "metadata": {},
     "output_type": "display_data"
    },
    {
     "data": {
      "text/plain": [
       "Index(['30070_raw-Red_blood_cell_erythrocyte_distribution_width'], dtype='object')"
      ]
     },
     "metadata": {},
     "output_type": "display_data"
    },
    {
     "data": {
      "text/html": [
       "<h2>Partition with k=25</h2>"
      ],
      "text/plain": [
       "<IPython.core.display.HTML object>"
      ]
     },
     "metadata": {},
     "output_type": "display_data"
    },
    {
     "data": {
      "text/plain": [
       "method                                                  scc_020\n",
       "partition     [0, 21, 21, 21, 21, 21, 21, 21, 21, 0, 21, 21,...\n",
       "ari_median                                            0.0870294\n",
       "selected                                                   True\n",
       "Name: 25, dtype: object"
      ]
     },
     "metadata": {},
     "output_type": "display_data"
    },
    {
     "data": {
      "text/plain": [
       "(3752,)"
      ]
     },
     "metadata": {},
     "output_type": "display_data"
    },
    {
     "data": {
      "text/plain": [
       "0     3314\n",
       "24     154\n",
       "23     101\n",
       "17      18\n",
       "19      17\n",
       "13      15\n",
       "21      15\n",
       "14      14\n",
       "15      13\n",
       "11      12\n",
       "16       9\n",
       "10       8\n",
       "8        8\n",
       "12       8\n",
       "5        7\n",
       "6        6\n",
       "9        5\n",
       "2        5\n",
       "4        4\n",
       "18       4\n",
       "1        4\n",
       "3        4\n",
       "20       3\n",
       "7        3\n",
       "22       1\n",
       "dtype: int64"
      ]
     },
     "metadata": {},
     "output_type": "display_data"
    },
    {
     "data": {
      "text/html": [
       "<h3>Cluster 25.0</h3>"
      ],
      "text/plain": [
       "<IPython.core.display.HTML object>"
      ]
     },
     "metadata": {},
     "output_type": "display_data"
    },
    {
     "data": {
      "text/plain": [
       "3314"
      ]
     },
     "metadata": {},
     "output_type": "display_data"
    },
    {
     "data": {
      "text/plain": [
       "Index(['100001_raw-Food_weight', '100010-Portion_size',\n",
       "       '100013_raw-Vitamin_B12', '100015_raw-Vitamin_C', '100018_raw-Retinol',\n",
       "       '100019_raw-Carotene', '100021_raw-Vitamin_D', '100022-Alcohol',\n",
       "       '100023_raw-Starch', '1001-Duration_of_strenuous_sports',\n",
       "       ...\n",
       "       'viral human hepatitis infection', 'viral meningitis',\n",
       "       'visual impairment', 'vitiligo', 'vitreous body disease',\n",
       "       'vocal cord polyp', 'voice disorders',\n",
       "       'wellbeing measurement AND family relationship', 'whooping cough',\n",
       "       'wrist fracture'],\n",
       "      dtype='object', length=3314)"
      ]
     },
     "metadata": {},
     "output_type": "display_data"
    },
    {
     "data": {
      "text/html": [
       "<h3>Cluster 25.1</h3>"
      ],
      "text/plain": [
       "<IPython.core.display.HTML object>"
      ]
     },
     "metadata": {},
     "output_type": "display_data"
    },
    {
     "data": {
      "text/plain": [
       "4"
      ]
     },
     "metadata": {},
     "output_type": "display_data"
    },
    {
     "data": {
      "text/plain": [
       "Index(['30150-Eosinophill_count', '30210_raw-Eosinophill_percentage',\n",
       "       'eosinophil count', 'sum of eosinophil and basophil counts'],\n",
       "      dtype='object')"
      ]
     },
     "metadata": {},
     "output_type": "display_data"
    },
    {
     "data": {
      "text/html": [
       "<h3>Cluster 25.2</h3>"
      ],
      "text/plain": [
       "<IPython.core.display.HTML object>"
      ]
     },
     "metadata": {},
     "output_type": "display_data"
    },
    {
     "data": {
      "text/plain": [
       "5"
      ]
     },
     "metadata": {},
     "output_type": "display_data"
    },
    {
     "data": {
      "text/plain": [
       "Index(['30080_raw-Platelet_count', '30090_raw-Platelet_crit',\n",
       "       '30100_raw-Mean_platelet_thrombocyte_volume',\n",
       "       '30110_raw-Platelet_distribution_width', 'platelet count'],\n",
       "      dtype='object')"
      ]
     },
     "metadata": {},
     "output_type": "display_data"
    },
    {
     "data": {
      "text/html": [
       "<h3>Cluster 25.3</h3>"
      ],
      "text/plain": [
       "<IPython.core.display.HTML object>"
      ]
     },
     "metadata": {},
     "output_type": "display_data"
    },
    {
     "data": {
      "text/plain": [
       "4"
      ]
     },
     "metadata": {},
     "output_type": "display_data"
    },
    {
     "data": {
      "text/plain": [
       "Index(['30040_raw-Mean_corpuscular_volume',\n",
       "       '30050_raw-Mean_corpuscular_haemoglobin',\n",
       "       '30260_raw-Mean_reticulocyte_volume',\n",
       "       '30270_raw-Mean_sphered_cell_volume'],\n",
       "      dtype='object')"
      ]
     },
     "metadata": {},
     "output_type": "display_data"
    },
    {
     "data": {
      "text/html": [
       "<h3>Cluster 25.4</h3>"
      ],
      "text/plain": [
       "<IPython.core.display.HTML object>"
      ]
     },
     "metadata": {},
     "output_type": "display_data"
    },
    {
     "data": {
      "text/plain": [
       "4"
      ]
     },
     "metadata": {},
     "output_type": "display_data"
    },
    {
     "data": {
      "text/plain": [
       "Index(['30010_raw-Red_blood_cell_erythrocyte_count',\n",
       "       '30020_raw-Haemoglobin_concentration',\n",
       "       '30030_raw-Haematocrit_percentage', 'erythrocyte count'],\n",
       "      dtype='object')"
      ]
     },
     "metadata": {},
     "output_type": "display_data"
    },
    {
     "data": {
      "text/html": [
       "<h3>Cluster 25.5</h3>"
      ],
      "text/plain": [
       "<IPython.core.display.HTML object>"
      ]
     },
     "metadata": {},
     "output_type": "display_data"
    },
    {
     "data": {
      "text/plain": [
       "7"
      ]
     },
     "metadata": {},
     "output_type": "display_data"
    },
    {
     "data": {
      "text/plain": [
       "Index(['1717-Skin_colour', '1727-Ease_of_skin_tanning',\n",
       "       '1747_1-Hair_colour_natural_before_greying_Blonde',\n",
       "       '1747_2-Hair_colour_natural_before_greying_Red',\n",
       "       '1747_3-Hair_colour_natural_before_greying_Light_brown',\n",
       "       '1747_4-Hair_colour_natural_before_greying_Dark_brown',\n",
       "       '1747_5-Hair_colour_natural_before_greying_Black'],\n",
       "      dtype='object')"
      ]
     },
     "metadata": {},
     "output_type": "display_data"
    },
    {
     "data": {
      "text/html": [
       "<h3>Cluster 25.6</h3>"
      ],
      "text/plain": [
       "<IPython.core.display.HTML object>"
      ]
     },
     "metadata": {},
     "output_type": "display_data"
    },
    {
     "data": {
      "text/plain": [
       "6"
      ]
     },
     "metadata": {},
     "output_type": "display_data"
    },
    {
     "data": {
      "text/plain": [
       "Index(['30240_raw-Reticulocyte_percentage', '30250_raw-Reticulocyte_count',\n",
       "       '30280_raw-Immature_reticulocyte_fraction',\n",
       "       '30290_raw-High_light_scatter_reticulocyte_percentage',\n",
       "       '30300_raw-High_light_scatter_reticulocyte_count',\n",
       "       'reticulocyte count'],\n",
       "      dtype='object')"
      ]
     },
     "metadata": {},
     "output_type": "display_data"
    },
    {
     "data": {
      "text/html": [
       "<h3>Cluster 25.7</h3>"
      ],
      "text/plain": [
       "<IPython.core.display.HTML object>"
      ]
     },
     "metadata": {},
     "output_type": "display_data"
    },
    {
     "data": {
      "text/plain": [
       "3"
      ]
     },
     "metadata": {},
     "output_type": "display_data"
    },
    {
     "data": {
      "text/plain": [
       "Index(['30130_raw-Monocyte_count', '30190_raw-Monocyte_percentage',\n",
       "       'monocyte count'],\n",
       "      dtype='object')"
      ]
     },
     "metadata": {},
     "output_type": "display_data"
    },
    {
     "data": {
      "text/html": [
       "<h3>Cluster 25.8</h3>"
      ],
      "text/plain": [
       "<IPython.core.display.HTML object>"
      ]
     },
     "metadata": {},
     "output_type": "display_data"
    },
    {
     "data": {
      "text/plain": [
       "8"
      ]
     },
     "metadata": {},
     "output_type": "display_data"
    },
    {
     "data": {
      "text/plain": [
       "Index(['5096_raw-3mm_weak_meridian_left', '5097_raw-6mm_weak_meridian_left',\n",
       "       '5098_raw-6mm_weak_meridian_right', '5099_raw-3mm_weak_meridian_right',\n",
       "       '5132_raw-3mm_strong_meridian_right',\n",
       "       '5133_raw-6mm_strong_meridian_right',\n",
       "       '5134_raw-6mm_strong_meridian_left',\n",
       "       '5135_raw-3mm_strong_meridian_left'],\n",
       "      dtype='object')"
      ]
     },
     "metadata": {},
     "output_type": "display_data"
    },
    {
     "data": {
      "text/html": [
       "<h3>Cluster 25.9</h3>"
      ],
      "text/plain": [
       "<IPython.core.display.HTML object>"
      ]
     },
     "metadata": {},
     "output_type": "display_data"
    },
    {
     "data": {
      "text/plain": [
       "5"
      ]
     },
     "metadata": {},
     "output_type": "display_data"
    },
    {
     "data": {
      "text/plain": [
       "Index(['30120_raw-Lymphocyte_count',\n",
       "       '6152_100-Blood_clot_DVT_bronchitis_emphysema_asthma_rhinitis_eczema_allergy_diagnosed_by_doctor_None_of_the_above',\n",
       "       '6152_8-Blood_clot_DVT_bronchitis_emphysema_asthma_rhinitis_eczema_allergy_diagnosed_by_doctor_Asthma',\n",
       "       '6152_9-Blood_clot_DVT_bronchitis_emphysema_asthma_rhinitis_eczema_allergy_diagnosed_by_doctor_Hayfever_allergic_rhinitis_or_eczema',\n",
       "       'asthma'],\n",
       "      dtype='object')"
      ]
     },
     "metadata": {},
     "output_type": "display_data"
    },
    {
     "data": {
      "text/html": [
       "<h3>Cluster 25.10</h3>"
      ],
      "text/plain": [
       "<IPython.core.display.HTML object>"
      ]
     },
     "metadata": {},
     "output_type": "display_data"
    },
    {
     "data": {
      "text/plain": [
       "8"
      ]
     },
     "metadata": {},
     "output_type": "display_data"
    },
    {
     "data": {
      "text/plain": [
       "Index(['30000_raw-White_blood_cell_leukocyte_count',\n",
       "       '30140_raw-Neutrophill_count', 'granulocyte count', 'leukocyte count',\n",
       "       'myeloid white cell count', 'neutrophil count',\n",
       "       'sum of basophil and neutrophil counts',\n",
       "       'sum of neutrophil and eosinophil counts'],\n",
       "      dtype='object')"
      ]
     },
     "metadata": {},
     "output_type": "display_data"
    },
    {
     "data": {
      "text/html": [
       "<h3>Cluster 25.11</h3>"
      ],
      "text/plain": [
       "<IPython.core.display.HTML object>"
      ]
     },
     "metadata": {},
     "output_type": "display_data"
    },
    {
     "data": {
      "text/plain": [
       "12"
      ]
     },
     "metadata": {},
     "output_type": "display_data"
    },
    {
     "data": {
      "text/plain": [
       "Index(['3144_raw-Heel_Broadband_ultrasound_attenuation_direct_entry',\n",
       "       '3147_raw-Heel_quantitative_ultrasound_index_QUI_direct_entry',\n",
       "       '3148_raw-Heel_bone_mineral_density_BMD',\n",
       "       '4101_raw-Heel_broadband_ultrasound_attenuation_left',\n",
       "       '4104_raw-Heel_quantitative_ultrasound_index_QUI_direct_entry_left',\n",
       "       '4105_raw-Heel_bone_mineral_density_BMD_left',\n",
       "       '4106_raw-Heel_bone_mineral_density_BMD_Tscore_automated_left',\n",
       "       '4120_raw-Heel_broadband_ultrasound_attenuation_right',\n",
       "       '4123_raw-Heel_quantitative_ultrasound_index_QUI_direct_entry_right',\n",
       "       '4124_raw-Heel_bone_mineral_density_BMD_right',\n",
       "       '4125_raw-Heel_bone_mineral_density_BMD_Tscore_automated_right',\n",
       "       '78_raw-Heel_bone_mineral_density_BMD_Tscore_automated'],\n",
       "      dtype='object')"
      ]
     },
     "metadata": {},
     "output_type": "display_data"
    },
    {
     "data": {
      "text/html": [
       "<h3>Cluster 25.12</h3>"
      ],
      "text/plain": [
       "<IPython.core.display.HTML object>"
      ]
     },
     "metadata": {},
     "output_type": "display_data"
    },
    {
     "data": {
      "text/plain": [
       "8"
      ]
     },
     "metadata": {},
     "output_type": "display_data"
    },
    {
     "data": {
      "text/plain": [
       "Index(['20003_1140883066-Treatmentmedication_code_insulin_product',\n",
       "       '20003_1141191044-Treatmentmedication_code_levothyroxine_sodium',\n",
       "       '2986-Started_insulin_within_one_year_diagnosis_of_diabetes',\n",
       "       '6144_3-Never_eat_eggs_dairy_wheat_sugar_Wheat_products',\n",
       "       'hyperthyroidism AND thyrotoxicosis', 'hypothyroidism AND myxedema',\n",
       "       'psoriasis', 'systemic lupus erythematosus'],\n",
       "      dtype='object')"
      ]
     },
     "metadata": {},
     "output_type": "display_data"
    },
    {
     "data": {
      "text/html": [
       "<h3>Cluster 25.13</h3>"
      ],
      "text/plain": [
       "<IPython.core.display.HTML object>"
      ]
     },
     "metadata": {},
     "output_type": "display_data"
    },
    {
     "data": {
      "text/plain": [
       "15"
      ]
     },
     "metadata": {},
     "output_type": "display_data"
    },
    {
     "data": {
      "text/plain": [
       "Index(['EAGLE_Eczema', 'Jones_et_al_2016_Chronotype', 'MAGNETIC_CH2.DB.ratio',\n",
       "       'MAGNETIC_HDL.C', 'MAGNETIC_IDL.TG', 'MAGNETIC_LDL.C',\n",
       "       'alzheimer's disease', 'attention deficit hyperactivity disorder',\n",
       "       'coronary artery disease', 'estrogen-receptor negative breast cancer',\n",
       "       'estrogen-receptor positive breast cancer',\n",
       "       'family history of breast cancer', 'fasting blood glucose measurement',\n",
       "       'fasting blood insulin measurement', 'inflammatory bowel disease'],\n",
       "      dtype='object')"
      ]
     },
     "metadata": {},
     "output_type": "display_data"
    },
    {
     "data": {
      "text/html": [
       "<h3>Cluster 25.14</h3>"
      ],
      "text/plain": [
       "<IPython.core.display.HTML object>"
      ]
     },
     "metadata": {},
     "output_type": "display_data"
    },
    {
     "data": {
      "text/plain": [
       "14"
      ]
     },
     "metadata": {},
     "output_type": "display_data"
    },
    {
     "data": {
      "text/plain": [
       "Index(['20003_1140861958-Treatmentmedication_code_simvastatin',\n",
       "       '20003_1141194794-Treatmentmedication_code_bendroflumethiazide',\n",
       "       '4079_raw-Diastolic_blood_pressure_automated_reading',\n",
       "       '4080_raw-Systolic_blood_pressure_automated_reading',\n",
       "       '6150_100-Vascularheart_problems_diagnosed_by_doctor_None_of_the_above',\n",
       "       '6150_4-Vascularheart_problems_diagnosed_by_doctor_High_blood_pressure',\n",
       "       '6153_1-Medication_for_cholesterol_blood_pressure_diabetes_or_take_exogenous_hormones_Cholesterol_lowering_medication',\n",
       "       '6153_100-Medication_for_cholesterol_blood_pressure_diabetes_or_take_exogenous_hormones_None_of_the_above',\n",
       "       '6153_2-Medication_for_cholesterol_blood_pressure_diabetes_or_take_exogenous_hormones_Blood_pressure_medication',\n",
       "       '6177_1-Medication_for_cholesterol_blood_pressure_or_diabetes_Cholesterol_lowering_medication',\n",
       "       '6177_100-Medication_for_cholesterol_blood_pressure_or_diabetes_None_of_the_above',\n",
       "       '6177_2-Medication_for_cholesterol_blood_pressure_or_diabetes_Blood_pressure_medication',\n",
       "       'hypercholesterolemia', 'hypertension'],\n",
       "      dtype='object')"
      ]
     },
     "metadata": {},
     "output_type": "display_data"
    },
    {
     "data": {
      "text/html": [
       "<h3>Cluster 25.15</h3>"
      ],
      "text/plain": [
       "<IPython.core.display.HTML object>"
      ]
     },
     "metadata": {},
     "output_type": "display_data"
    },
    {
     "data": {
      "text/plain": [
       "13"
      ]
     },
     "metadata": {},
     "output_type": "display_data"
    },
    {
     "data": {
      "text/plain": [
       "Index(['20150_raw-Forced_expiratory_volume_in_1second_FEV1_Best_measure',\n",
       "       '20151_raw-Forced_vital_capacity_FVC_Best_measure',\n",
       "       '23106_raw-Impedance_of_whole_body', '23107_raw-Impedance_of_leg_right',\n",
       "       '23108_raw-Impedance_of_leg_left', '23109_raw-Impedance_of_arm_right',\n",
       "       '23110_raw-Impedance_of_arm_left', '3062_raw-Forced_vital_capacity_FVC',\n",
       "       '3063_raw-Forced_expiratory_volume_in_1second_FEV1',\n",
       "       '3064_raw-Peak_expiratory_flow_PEF', '3143_raw-Ankle_spacing_width',\n",
       "       '4100_raw-Ankle_spacing_width_left',\n",
       "       '4119_raw-Ankle_spacing_width_right'],\n",
       "      dtype='object')"
      ]
     },
     "metadata": {},
     "output_type": "display_data"
    },
    {
     "data": {
      "text/html": [
       "<h3>Cluster 25.16</h3>"
      ],
      "text/plain": [
       "<IPython.core.display.HTML object>"
      ]
     },
     "metadata": {},
     "output_type": "display_data"
    },
    {
     "data": {
      "text/plain": [
       "9"
      ]
     },
     "metadata": {},
     "output_type": "display_data"
    },
    {
     "data": {
      "text/plain": [
       "Index(['6150_1-Vascularheart_problems_diagnosed_by_doctor_Heart_attack',\n",
       "       'I9_CHD-Major_coronary_heart_disease_event',\n",
       "       'I9_CHD_NOREV-Major_coronary_heart_disease_event_excluding_revascularizations',\n",
       "       'I9_CORATHER-Coronary_atherosclerosis',\n",
       "       'I9_IHD-Ischaemic_heart_disease_wide_definition',\n",
       "       'I9_MI-Myocardial_infarction',\n",
       "       'I9_MI_STRICT-Myocardial_infarction_strict',\n",
       "       'acute myocardial infarction', 'myocardial infarction'],\n",
       "      dtype='object')"
      ]
     },
     "metadata": {},
     "output_type": "display_data"
    },
    {
     "data": {
      "text/html": [
       "<h3>Cluster 25.17</h3>"
      ],
      "text/plain": [
       "<IPython.core.display.HTML object>"
      ]
     },
     "metadata": {},
     "output_type": "display_data"
    },
    {
     "data": {
      "text/plain": [
       "18"
      ]
     },
     "metadata": {},
     "output_type": "display_data"
    },
    {
     "data": {
      "text/plain": [
       "Index(['21001_raw-Body_mass_index_BMI', '21002_raw-Weight', '23098_raw-Weight',\n",
       "       '23099_raw-Body_fat_percentage', '23100_raw-Whole_body_fat_mass',\n",
       "       '23104_raw-Body_mass_index_BMI', '23111_raw-Leg_fat_percentage_right',\n",
       "       '23112_raw-Leg_fat_mass_right', '23115_raw-Leg_fat_percentage_left',\n",
       "       '23116_raw-Leg_fat_mass_left', '23119_raw-Arm_fat_percentage_right',\n",
       "       '23120_raw-Arm_fat_mass_right', '23123_raw-Arm_fat_percentage_left',\n",
       "       '23124_raw-Arm_fat_mass_left', '23127_raw-Trunk_fat_percentage',\n",
       "       '23128_raw-Trunk_fat_mass', '48_raw-Waist_circumference',\n",
       "       '49_raw-Hip_circumference'],\n",
       "      dtype='object')"
      ]
     },
     "metadata": {},
     "output_type": "display_data"
    },
    {
     "data": {
      "text/html": [
       "<h3>Cluster 25.18</h3>"
      ],
      "text/plain": [
       "<IPython.core.display.HTML object>"
      ]
     },
     "metadata": {},
     "output_type": "display_data"
    },
    {
     "data": {
      "text/plain": [
       "4"
      ]
     },
     "metadata": {},
     "output_type": "display_data"
    },
    {
     "data": {
      "text/plain": [
       "Index(['K11_COELIAC-Coeliac_disease', 'celiac disease',\n",
       "       'malabsorption syndrome', 'rheumatoid arthritis'],\n",
       "      dtype='object')"
      ]
     },
     "metadata": {},
     "output_type": "display_data"
    },
    {
     "data": {
      "text/html": [
       "<h3>Cluster 25.19</h3>"
      ],
      "text/plain": [
       "<IPython.core.display.HTML object>"
      ]
     },
     "metadata": {},
     "output_type": "display_data"
    },
    {
     "data": {
      "text/plain": [
       "17"
      ]
     },
     "metadata": {},
     "output_type": "display_data"
    },
    {
     "data": {
      "text/plain": [
       "Index(['20015_raw-Sitting_height',\n",
       "       '20153_raw-Forced_expiratory_volume_in_1second_FEV1_predicted',\n",
       "       '23101_raw-Whole_body_fatfree_mass', '23102_raw-Whole_body_water_mass',\n",
       "       '23105_raw-Basal_metabolic_rate', '23113_raw-Leg_fatfree_mass_right',\n",
       "       '23114_raw-Leg_predicted_mass_right', '23117_raw-Leg_fatfree_mass_left',\n",
       "       '23118_raw-Leg_predicted_mass_left', '23121_raw-Arm_fatfree_mass_right',\n",
       "       '23122_raw-Arm_predicted_mass_right', '23125_raw-Arm_fatfree_mass_left',\n",
       "       '23126_raw-Arm_predicted_mass_left', '23129_raw-Trunk_fatfree_mass',\n",
       "       '23130_raw-Trunk_predicted_mass', '50_raw-Standing_height',\n",
       "       'body height'],\n",
       "      dtype='object')"
      ]
     },
     "metadata": {},
     "output_type": "display_data"
    },
    {
     "data": {
      "text/html": [
       "<h3>Cluster 25.20</h3>"
      ],
      "text/plain": [
       "<IPython.core.display.HTML object>"
      ]
     },
     "metadata": {},
     "output_type": "display_data"
    },
    {
     "data": {
      "text/plain": [
       "3"
      ]
     },
     "metadata": {},
     "output_type": "display_data"
    },
    {
     "data": {
      "text/plain": [
       "Index(['30180_raw-Lymphocyte_percentage', '30200_raw-Neutrophill_percentage',\n",
       "       'lymphocyte count'],\n",
       "      dtype='object')"
      ]
     },
     "metadata": {},
     "output_type": "display_data"
    },
    {
     "data": {
      "text/html": [
       "<h3>Cluster 25.21</h3>"
      ],
      "text/plain": [
       "<IPython.core.display.HTML object>"
      ]
     },
     "metadata": {},
     "output_type": "display_data"
    },
    {
     "data": {
      "text/plain": [
       "15"
      ]
     },
     "metadata": {},
     "output_type": "display_data"
    },
    {
     "data": {
      "text/plain": [
       "Index(['100002_raw-Energy', '100003_raw-Protein', '100004_raw-Fat',\n",
       "       '100005_raw-Carbohydrate', '100006_raw-Saturated_fat',\n",
       "       '100007_raw-Polyunsaturated_fat', '100008_raw-Total_sugars',\n",
       "       '100009_raw-Englyst_dietary_fibre', '100011_raw-Iron',\n",
       "       '100012_raw-Vitamin_B6', '100014_raw-Folate', '100016_raw-Potassium',\n",
       "       '100017_raw-Magnesium', '100024_raw-Calcium', '100025_raw-Vitamin_E'],\n",
       "      dtype='object')"
      ]
     },
     "metadata": {},
     "output_type": "display_data"
    },
    {
     "data": {
      "text/html": [
       "<h3>Cluster 25.22</h3>"
      ],
      "text/plain": [
       "<IPython.core.display.HTML object>"
      ]
     },
     "metadata": {},
     "output_type": "display_data"
    },
    {
     "data": {
      "text/plain": [
       "1"
      ]
     },
     "metadata": {},
     "output_type": "display_data"
    },
    {
     "data": {
      "text/plain": [
       "Index(['30070_raw-Red_blood_cell_erythrocyte_distribution_width'], dtype='object')"
      ]
     },
     "metadata": {},
     "output_type": "display_data"
    },
    {
     "data": {
      "text/html": [
       "<h3>Cluster 25.23</h3>"
      ],
      "text/plain": [
       "<IPython.core.display.HTML object>"
      ]
     },
     "metadata": {},
     "output_type": "display_data"
    },
    {
     "data": {
      "text/plain": [
       "101"
      ]
     },
     "metadata": {},
     "output_type": "display_data"
    },
    {
     "data": {
      "text/plain": [
       "Index(['41248_1000-Destinations_on_discharge_from_hospital_recoded_Usual_Place_of_residence',\n",
       "       '4194_raw-Pulse_rate', '4260-Round_of_numeric_memory_test',\n",
       "       '4282-Maximum_digits_remembered_correctly',\n",
       "       '4283-Number_of_rounds_of_numeric_memory_test_performed',\n",
       "       '4290_raw-Duration_screen_displayed', '4291-Number_of_attempts',\n",
       "       '46_raw-Hand_grip_strength_left', '47_raw-Hand_grip_strength_right',\n",
       "       '4825-Noisy_workplace',\n",
       "       ...\n",
       "       '864-Number_of_daysweek_walked_10_minutes', '874_raw-Duration_of_walks',\n",
       "       '884-Number_of_daysweek_of_moderate_physical_activity_10_minutes',\n",
       "       '894-Duration_of_moderate_activity',\n",
       "       '904-Number_of_daysweek_of_vigorous_physical_activity_10_minutes',\n",
       "       '924-Usual_walking_pace',\n",
       "       '943-Frequency_of_stair_climbing_in_last_4_weeks',\n",
       "       '971-Frequency_of_walking_for_pleasure_in_last_4_weeks',\n",
       "       'ICDMAIN_ANY_ENTRY-Any_ICDMAIN_event_in_hilmo_or_causes_of_death',\n",
       "       'episodic memory'],\n",
       "      dtype='object', length=101)"
      ]
     },
     "metadata": {},
     "output_type": "display_data"
    },
    {
     "data": {
      "text/html": [
       "<h3>Cluster 25.24</h3>"
      ],
      "text/plain": [
       "<IPython.core.display.HTML object>"
      ]
     },
     "metadata": {},
     "output_type": "display_data"
    },
    {
     "data": {
      "text/plain": [
       "154"
      ]
     },
     "metadata": {},
     "output_type": "display_data"
    },
    {
     "data": {
      "text/plain": [
       "Index(['1021-Duration_of_light_DIY', '102_raw-Pulse_rate_automated_reading',\n",
       "       '1031-Frequency_of_friendfamily_visits',\n",
       "       '1050-Time_spend_outdoors_in_summer',\n",
       "       '1060-Time_spent_outdoors_in_winter',\n",
       "       '1070-Time_spent_watching_television_TV',\n",
       "       '1080-Time_spent_using_computer', '1090-Time_spent_driving',\n",
       "       '1100-Drive_faster_than_motorway_speed_limit',\n",
       "       '110001-Invitation_to_complete_online_24hour_recall_dietary_questionnaire_acceptance',\n",
       "       ...\n",
       "       'self reported educational attainment', 'sleep duration',\n",
       "       'smoking behavior', 'smoking cessation', 'snoring measurement',\n",
       "       'tiredness measurement', 'type i diabetes mellitus', 'varicose veins',\n",
       "       'wheezing', 'worry measurement'],\n",
       "      dtype='object', length=154)"
      ]
     },
     "metadata": {},
     "output_type": "display_data"
    },
    {
     "data": {
      "text/html": [
       "<h2>Partition with k=26</h2>"
      ],
      "text/plain": [
       "<IPython.core.display.HTML object>"
      ]
     },
     "metadata": {},
     "output_type": "display_data"
    },
    {
     "data": {
      "text/plain": [
       "method                                                  scc_020\n",
       "partition     [0, 21, 21, 21, 21, 21, 21, 21, 21, 0, 21, 21,...\n",
       "ari_median                                            0.0869427\n",
       "selected                                                   True\n",
       "Name: 26, dtype: object"
      ]
     },
     "metadata": {},
     "output_type": "display_data"
    },
    {
     "data": {
      "text/plain": [
       "(3752,)"
      ]
     },
     "metadata": {},
     "output_type": "display_data"
    },
    {
     "data": {
      "text/plain": [
       "0     3318\n",
       "25     147\n",
       "24     101\n",
       "18      18\n",
       "17      17\n",
       "13      15\n",
       "21      15\n",
       "14      14\n",
       "16      13\n",
       "12      12\n",
       "15      10\n",
       "19       9\n",
       "6        8\n",
       "11       8\n",
       "5        7\n",
       "7        6\n",
       "10       5\n",
       "4        5\n",
       "1        4\n",
       "3        4\n",
       "2        4\n",
       "20       3\n",
       "9        3\n",
       "8        3\n",
       "23       2\n",
       "22       1\n",
       "dtype: int64"
      ]
     },
     "metadata": {},
     "output_type": "display_data"
    },
    {
     "data": {
      "text/html": [
       "<h3>Cluster 26.0</h3>"
      ],
      "text/plain": [
       "<IPython.core.display.HTML object>"
      ]
     },
     "metadata": {},
     "output_type": "display_data"
    },
    {
     "data": {
      "text/plain": [
       "3318"
      ]
     },
     "metadata": {},
     "output_type": "display_data"
    },
    {
     "data": {
      "text/plain": [
       "Index(['100001_raw-Food_weight', '100010-Portion_size',\n",
       "       '100013_raw-Vitamin_B12', '100015_raw-Vitamin_C', '100018_raw-Retinol',\n",
       "       '100019_raw-Carotene', '100021_raw-Vitamin_D', '100022-Alcohol',\n",
       "       '100023_raw-Starch', '1001-Duration_of_strenuous_sports',\n",
       "       ...\n",
       "       'viral human hepatitis infection', 'viral meningitis',\n",
       "       'visual impairment', 'vitiligo', 'vitreous body disease',\n",
       "       'vocal cord polyp', 'voice disorders',\n",
       "       'wellbeing measurement AND family relationship', 'whooping cough',\n",
       "       'wrist fracture'],\n",
       "      dtype='object', length=3318)"
      ]
     },
     "metadata": {},
     "output_type": "display_data"
    },
    {
     "data": {
      "text/html": [
       "<h3>Cluster 26.1</h3>"
      ],
      "text/plain": [
       "<IPython.core.display.HTML object>"
      ]
     },
     "metadata": {},
     "output_type": "display_data"
    },
    {
     "data": {
      "text/plain": [
       "4"
      ]
     },
     "metadata": {},
     "output_type": "display_data"
    },
    {
     "data": {
      "text/plain": [
       "Index(['30150-Eosinophill_count', '30210_raw-Eosinophill_percentage',\n",
       "       'eosinophil count', 'sum of eosinophil and basophil counts'],\n",
       "      dtype='object')"
      ]
     },
     "metadata": {},
     "output_type": "display_data"
    },
    {
     "data": {
      "text/html": [
       "<h3>Cluster 26.2</h3>"
      ],
      "text/plain": [
       "<IPython.core.display.HTML object>"
      ]
     },
     "metadata": {},
     "output_type": "display_data"
    },
    {
     "data": {
      "text/plain": [
       "4"
      ]
     },
     "metadata": {},
     "output_type": "display_data"
    },
    {
     "data": {
      "text/plain": [
       "Index(['30040_raw-Mean_corpuscular_volume',\n",
       "       '30050_raw-Mean_corpuscular_haemoglobin',\n",
       "       '30260_raw-Mean_reticulocyte_volume',\n",
       "       '30270_raw-Mean_sphered_cell_volume'],\n",
       "      dtype='object')"
      ]
     },
     "metadata": {},
     "output_type": "display_data"
    },
    {
     "data": {
      "text/html": [
       "<h3>Cluster 26.3</h3>"
      ],
      "text/plain": [
       "<IPython.core.display.HTML object>"
      ]
     },
     "metadata": {},
     "output_type": "display_data"
    },
    {
     "data": {
      "text/plain": [
       "4"
      ]
     },
     "metadata": {},
     "output_type": "display_data"
    },
    {
     "data": {
      "text/plain": [
       "Index(['30010_raw-Red_blood_cell_erythrocyte_count',\n",
       "       '30020_raw-Haemoglobin_concentration',\n",
       "       '30030_raw-Haematocrit_percentage', 'erythrocyte count'],\n",
       "      dtype='object')"
      ]
     },
     "metadata": {},
     "output_type": "display_data"
    },
    {
     "data": {
      "text/html": [
       "<h3>Cluster 26.4</h3>"
      ],
      "text/plain": [
       "<IPython.core.display.HTML object>"
      ]
     },
     "metadata": {},
     "output_type": "display_data"
    },
    {
     "data": {
      "text/plain": [
       "5"
      ]
     },
     "metadata": {},
     "output_type": "display_data"
    },
    {
     "data": {
      "text/plain": [
       "Index(['30080_raw-Platelet_count', '30090_raw-Platelet_crit',\n",
       "       '30100_raw-Mean_platelet_thrombocyte_volume',\n",
       "       '30110_raw-Platelet_distribution_width', 'platelet count'],\n",
       "      dtype='object')"
      ]
     },
     "metadata": {},
     "output_type": "display_data"
    },
    {
     "data": {
      "text/html": [
       "<h3>Cluster 26.5</h3>"
      ],
      "text/plain": [
       "<IPython.core.display.HTML object>"
      ]
     },
     "metadata": {},
     "output_type": "display_data"
    },
    {
     "data": {
      "text/plain": [
       "7"
      ]
     },
     "metadata": {},
     "output_type": "display_data"
    },
    {
     "data": {
      "text/plain": [
       "Index(['1717-Skin_colour', '1727-Ease_of_skin_tanning',\n",
       "       '1747_1-Hair_colour_natural_before_greying_Blonde',\n",
       "       '1747_2-Hair_colour_natural_before_greying_Red',\n",
       "       '1747_3-Hair_colour_natural_before_greying_Light_brown',\n",
       "       '1747_4-Hair_colour_natural_before_greying_Dark_brown',\n",
       "       '1747_5-Hair_colour_natural_before_greying_Black'],\n",
       "      dtype='object')"
      ]
     },
     "metadata": {},
     "output_type": "display_data"
    },
    {
     "data": {
      "text/html": [
       "<h3>Cluster 26.6</h3>"
      ],
      "text/plain": [
       "<IPython.core.display.HTML object>"
      ]
     },
     "metadata": {},
     "output_type": "display_data"
    },
    {
     "data": {
      "text/plain": [
       "8"
      ]
     },
     "metadata": {},
     "output_type": "display_data"
    },
    {
     "data": {
      "text/plain": [
       "Index(['5096_raw-3mm_weak_meridian_left', '5097_raw-6mm_weak_meridian_left',\n",
       "       '5098_raw-6mm_weak_meridian_right', '5099_raw-3mm_weak_meridian_right',\n",
       "       '5132_raw-3mm_strong_meridian_right',\n",
       "       '5133_raw-6mm_strong_meridian_right',\n",
       "       '5134_raw-6mm_strong_meridian_left',\n",
       "       '5135_raw-3mm_strong_meridian_left'],\n",
       "      dtype='object')"
      ]
     },
     "metadata": {},
     "output_type": "display_data"
    },
    {
     "data": {
      "text/html": [
       "<h3>Cluster 26.7</h3>"
      ],
      "text/plain": [
       "<IPython.core.display.HTML object>"
      ]
     },
     "metadata": {},
     "output_type": "display_data"
    },
    {
     "data": {
      "text/plain": [
       "6"
      ]
     },
     "metadata": {},
     "output_type": "display_data"
    },
    {
     "data": {
      "text/plain": [
       "Index(['30240_raw-Reticulocyte_percentage', '30250_raw-Reticulocyte_count',\n",
       "       '30280_raw-Immature_reticulocyte_fraction',\n",
       "       '30290_raw-High_light_scatter_reticulocyte_percentage',\n",
       "       '30300_raw-High_light_scatter_reticulocyte_count',\n",
       "       'reticulocyte count'],\n",
       "      dtype='object')"
      ]
     },
     "metadata": {},
     "output_type": "display_data"
    },
    {
     "data": {
      "text/html": [
       "<h3>Cluster 26.8</h3>"
      ],
      "text/plain": [
       "<IPython.core.display.HTML object>"
      ]
     },
     "metadata": {},
     "output_type": "display_data"
    },
    {
     "data": {
      "text/plain": [
       "3"
      ]
     },
     "metadata": {},
     "output_type": "display_data"
    },
    {
     "data": {
      "text/plain": [
       "Index(['K11_COELIAC-Coeliac_disease', 'celiac disease',\n",
       "       'malabsorption syndrome'],\n",
       "      dtype='object')"
      ]
     },
     "metadata": {},
     "output_type": "display_data"
    },
    {
     "data": {
      "text/html": [
       "<h3>Cluster 26.9</h3>"
      ],
      "text/plain": [
       "<IPython.core.display.HTML object>"
      ]
     },
     "metadata": {},
     "output_type": "display_data"
    },
    {
     "data": {
      "text/plain": [
       "3"
      ]
     },
     "metadata": {},
     "output_type": "display_data"
    },
    {
     "data": {
      "text/plain": [
       "Index(['30180_raw-Lymphocyte_percentage', '30200_raw-Neutrophill_percentage',\n",
       "       'lymphocyte count'],\n",
       "      dtype='object')"
      ]
     },
     "metadata": {},
     "output_type": "display_data"
    },
    {
     "data": {
      "text/html": [
       "<h3>Cluster 26.10</h3>"
      ],
      "text/plain": [
       "<IPython.core.display.HTML object>"
      ]
     },
     "metadata": {},
     "output_type": "display_data"
    },
    {
     "data": {
      "text/plain": [
       "5"
      ]
     },
     "metadata": {},
     "output_type": "display_data"
    },
    {
     "data": {
      "text/plain": [
       "Index(['30120_raw-Lymphocyte_count',\n",
       "       '6152_100-Blood_clot_DVT_bronchitis_emphysema_asthma_rhinitis_eczema_allergy_diagnosed_by_doctor_None_of_the_above',\n",
       "       '6152_8-Blood_clot_DVT_bronchitis_emphysema_asthma_rhinitis_eczema_allergy_diagnosed_by_doctor_Asthma',\n",
       "       '6152_9-Blood_clot_DVT_bronchitis_emphysema_asthma_rhinitis_eczema_allergy_diagnosed_by_doctor_Hayfever_allergic_rhinitis_or_eczema',\n",
       "       'asthma'],\n",
       "      dtype='object')"
      ]
     },
     "metadata": {},
     "output_type": "display_data"
    },
    {
     "data": {
      "text/html": [
       "<h3>Cluster 26.11</h3>"
      ],
      "text/plain": [
       "<IPython.core.display.HTML object>"
      ]
     },
     "metadata": {},
     "output_type": "display_data"
    },
    {
     "data": {
      "text/plain": [
       "8"
      ]
     },
     "metadata": {},
     "output_type": "display_data"
    },
    {
     "data": {
      "text/plain": [
       "Index(['30000_raw-White_blood_cell_leukocyte_count',\n",
       "       '30140_raw-Neutrophill_count', 'granulocyte count', 'leukocyte count',\n",
       "       'myeloid white cell count', 'neutrophil count',\n",
       "       'sum of basophil and neutrophil counts',\n",
       "       'sum of neutrophil and eosinophil counts'],\n",
       "      dtype='object')"
      ]
     },
     "metadata": {},
     "output_type": "display_data"
    },
    {
     "data": {
      "text/html": [
       "<h3>Cluster 26.12</h3>"
      ],
      "text/plain": [
       "<IPython.core.display.HTML object>"
      ]
     },
     "metadata": {},
     "output_type": "display_data"
    },
    {
     "data": {
      "text/plain": [
       "12"
      ]
     },
     "metadata": {},
     "output_type": "display_data"
    },
    {
     "data": {
      "text/plain": [
       "Index(['3144_raw-Heel_Broadband_ultrasound_attenuation_direct_entry',\n",
       "       '3147_raw-Heel_quantitative_ultrasound_index_QUI_direct_entry',\n",
       "       '3148_raw-Heel_bone_mineral_density_BMD',\n",
       "       '4101_raw-Heel_broadband_ultrasound_attenuation_left',\n",
       "       '4104_raw-Heel_quantitative_ultrasound_index_QUI_direct_entry_left',\n",
       "       '4105_raw-Heel_bone_mineral_density_BMD_left',\n",
       "       '4106_raw-Heel_bone_mineral_density_BMD_Tscore_automated_left',\n",
       "       '4120_raw-Heel_broadband_ultrasound_attenuation_right',\n",
       "       '4123_raw-Heel_quantitative_ultrasound_index_QUI_direct_entry_right',\n",
       "       '4124_raw-Heel_bone_mineral_density_BMD_right',\n",
       "       '4125_raw-Heel_bone_mineral_density_BMD_Tscore_automated_right',\n",
       "       '78_raw-Heel_bone_mineral_density_BMD_Tscore_automated'],\n",
       "      dtype='object')"
      ]
     },
     "metadata": {},
     "output_type": "display_data"
    },
    {
     "data": {
      "text/html": [
       "<h3>Cluster 26.13</h3>"
      ],
      "text/plain": [
       "<IPython.core.display.HTML object>"
      ]
     },
     "metadata": {},
     "output_type": "display_data"
    },
    {
     "data": {
      "text/plain": [
       "15"
      ]
     },
     "metadata": {},
     "output_type": "display_data"
    },
    {
     "data": {
      "text/plain": [
       "Index(['EAGLE_Eczema', 'Jones_et_al_2016_Chronotype', 'MAGNETIC_CH2.DB.ratio',\n",
       "       'MAGNETIC_HDL.C', 'MAGNETIC_IDL.TG', 'MAGNETIC_LDL.C',\n",
       "       'alzheimer's disease', 'attention deficit hyperactivity disorder',\n",
       "       'coronary artery disease', 'estrogen-receptor negative breast cancer',\n",
       "       'estrogen-receptor positive breast cancer',\n",
       "       'family history of breast cancer', 'fasting blood glucose measurement',\n",
       "       'fasting blood insulin measurement', 'inflammatory bowel disease'],\n",
       "      dtype='object')"
      ]
     },
     "metadata": {},
     "output_type": "display_data"
    },
    {
     "data": {
      "text/html": [
       "<h3>Cluster 26.14</h3>"
      ],
      "text/plain": [
       "<IPython.core.display.HTML object>"
      ]
     },
     "metadata": {},
     "output_type": "display_data"
    },
    {
     "data": {
      "text/plain": [
       "14"
      ]
     },
     "metadata": {},
     "output_type": "display_data"
    },
    {
     "data": {
      "text/plain": [
       "Index(['20003_1140861958-Treatmentmedication_code_simvastatin',\n",
       "       '20003_1141194794-Treatmentmedication_code_bendroflumethiazide',\n",
       "       '4079_raw-Diastolic_blood_pressure_automated_reading',\n",
       "       '4080_raw-Systolic_blood_pressure_automated_reading',\n",
       "       '6150_100-Vascularheart_problems_diagnosed_by_doctor_None_of_the_above',\n",
       "       '6150_4-Vascularheart_problems_diagnosed_by_doctor_High_blood_pressure',\n",
       "       '6153_1-Medication_for_cholesterol_blood_pressure_diabetes_or_take_exogenous_hormones_Cholesterol_lowering_medication',\n",
       "       '6153_100-Medication_for_cholesterol_blood_pressure_diabetes_or_take_exogenous_hormones_None_of_the_above',\n",
       "       '6153_2-Medication_for_cholesterol_blood_pressure_diabetes_or_take_exogenous_hormones_Blood_pressure_medication',\n",
       "       '6177_1-Medication_for_cholesterol_blood_pressure_or_diabetes_Cholesterol_lowering_medication',\n",
       "       '6177_100-Medication_for_cholesterol_blood_pressure_or_diabetes_None_of_the_above',\n",
       "       '6177_2-Medication_for_cholesterol_blood_pressure_or_diabetes_Blood_pressure_medication',\n",
       "       'hypercholesterolemia', 'hypertension'],\n",
       "      dtype='object')"
      ]
     },
     "metadata": {},
     "output_type": "display_data"
    },
    {
     "data": {
      "text/html": [
       "<h3>Cluster 26.15</h3>"
      ],
      "text/plain": [
       "<IPython.core.display.HTML object>"
      ]
     },
     "metadata": {},
     "output_type": "display_data"
    },
    {
     "data": {
      "text/plain": [
       "10"
      ]
     },
     "metadata": {},
     "output_type": "display_data"
    },
    {
     "data": {
      "text/plain": [
       "Index(['20003_1140883066-Treatmentmedication_code_insulin_product',\n",
       "       '20003_1141191044-Treatmentmedication_code_levothyroxine_sodium',\n",
       "       '2976_raw-Age_diabetes_diagnosed',\n",
       "       '2986-Started_insulin_within_one_year_diagnosis_of_diabetes',\n",
       "       '6144_3-Never_eat_eggs_dairy_wheat_sugar_Wheat_products',\n",
       "       '6153_3-Medication_for_cholesterol_blood_pressure_diabetes_or_take_exogenous_hormones_Insulin',\n",
       "       '6177_3-Medication_for_cholesterol_blood_pressure_or_diabetes_Insulin',\n",
       "       'hyperthyroidism AND thyrotoxicosis', 'hypothyroidism AND myxedema',\n",
       "       'psoriasis'],\n",
       "      dtype='object')"
      ]
     },
     "metadata": {},
     "output_type": "display_data"
    },
    {
     "data": {
      "text/html": [
       "<h3>Cluster 26.16</h3>"
      ],
      "text/plain": [
       "<IPython.core.display.HTML object>"
      ]
     },
     "metadata": {},
     "output_type": "display_data"
    },
    {
     "data": {
      "text/plain": [
       "13"
      ]
     },
     "metadata": {},
     "output_type": "display_data"
    },
    {
     "data": {
      "text/plain": [
       "Index(['20150_raw-Forced_expiratory_volume_in_1second_FEV1_Best_measure',\n",
       "       '20151_raw-Forced_vital_capacity_FVC_Best_measure',\n",
       "       '23106_raw-Impedance_of_whole_body', '23107_raw-Impedance_of_leg_right',\n",
       "       '23108_raw-Impedance_of_leg_left', '23109_raw-Impedance_of_arm_right',\n",
       "       '23110_raw-Impedance_of_arm_left', '3062_raw-Forced_vital_capacity_FVC',\n",
       "       '3063_raw-Forced_expiratory_volume_in_1second_FEV1',\n",
       "       '3064_raw-Peak_expiratory_flow_PEF', '3143_raw-Ankle_spacing_width',\n",
       "       '4100_raw-Ankle_spacing_width_left',\n",
       "       '4119_raw-Ankle_spacing_width_right'],\n",
       "      dtype='object')"
      ]
     },
     "metadata": {},
     "output_type": "display_data"
    },
    {
     "data": {
      "text/html": [
       "<h3>Cluster 26.17</h3>"
      ],
      "text/plain": [
       "<IPython.core.display.HTML object>"
      ]
     },
     "metadata": {},
     "output_type": "display_data"
    },
    {
     "data": {
      "text/plain": [
       "17"
      ]
     },
     "metadata": {},
     "output_type": "display_data"
    },
    {
     "data": {
      "text/plain": [
       "Index(['20015_raw-Sitting_height',\n",
       "       '20153_raw-Forced_expiratory_volume_in_1second_FEV1_predicted',\n",
       "       '23101_raw-Whole_body_fatfree_mass', '23102_raw-Whole_body_water_mass',\n",
       "       '23105_raw-Basal_metabolic_rate', '23113_raw-Leg_fatfree_mass_right',\n",
       "       '23114_raw-Leg_predicted_mass_right', '23117_raw-Leg_fatfree_mass_left',\n",
       "       '23118_raw-Leg_predicted_mass_left', '23121_raw-Arm_fatfree_mass_right',\n",
       "       '23122_raw-Arm_predicted_mass_right', '23125_raw-Arm_fatfree_mass_left',\n",
       "       '23126_raw-Arm_predicted_mass_left', '23129_raw-Trunk_fatfree_mass',\n",
       "       '23130_raw-Trunk_predicted_mass', '50_raw-Standing_height',\n",
       "       'body height'],\n",
       "      dtype='object')"
      ]
     },
     "metadata": {},
     "output_type": "display_data"
    },
    {
     "data": {
      "text/html": [
       "<h3>Cluster 26.18</h3>"
      ],
      "text/plain": [
       "<IPython.core.display.HTML object>"
      ]
     },
     "metadata": {},
     "output_type": "display_data"
    },
    {
     "data": {
      "text/plain": [
       "18"
      ]
     },
     "metadata": {},
     "output_type": "display_data"
    },
    {
     "data": {
      "text/plain": [
       "Index(['21001_raw-Body_mass_index_BMI', '21002_raw-Weight', '23098_raw-Weight',\n",
       "       '23099_raw-Body_fat_percentage', '23100_raw-Whole_body_fat_mass',\n",
       "       '23104_raw-Body_mass_index_BMI', '23111_raw-Leg_fat_percentage_right',\n",
       "       '23112_raw-Leg_fat_mass_right', '23115_raw-Leg_fat_percentage_left',\n",
       "       '23116_raw-Leg_fat_mass_left', '23119_raw-Arm_fat_percentage_right',\n",
       "       '23120_raw-Arm_fat_mass_right', '23123_raw-Arm_fat_percentage_left',\n",
       "       '23124_raw-Arm_fat_mass_left', '23127_raw-Trunk_fat_percentage',\n",
       "       '23128_raw-Trunk_fat_mass', '48_raw-Waist_circumference',\n",
       "       '49_raw-Hip_circumference'],\n",
       "      dtype='object')"
      ]
     },
     "metadata": {},
     "output_type": "display_data"
    },
    {
     "data": {
      "text/html": [
       "<h3>Cluster 26.19</h3>"
      ],
      "text/plain": [
       "<IPython.core.display.HTML object>"
      ]
     },
     "metadata": {},
     "output_type": "display_data"
    },
    {
     "data": {
      "text/plain": [
       "9"
      ]
     },
     "metadata": {},
     "output_type": "display_data"
    },
    {
     "data": {
      "text/plain": [
       "Index(['6150_1-Vascularheart_problems_diagnosed_by_doctor_Heart_attack',\n",
       "       'I9_CHD-Major_coronary_heart_disease_event',\n",
       "       'I9_CHD_NOREV-Major_coronary_heart_disease_event_excluding_revascularizations',\n",
       "       'I9_CORATHER-Coronary_atherosclerosis',\n",
       "       'I9_IHD-Ischaemic_heart_disease_wide_definition',\n",
       "       'I9_MI-Myocardial_infarction',\n",
       "       'I9_MI_STRICT-Myocardial_infarction_strict',\n",
       "       'acute myocardial infarction', 'myocardial infarction'],\n",
       "      dtype='object')"
      ]
     },
     "metadata": {},
     "output_type": "display_data"
    },
    {
     "data": {
      "text/html": [
       "<h3>Cluster 26.20</h3>"
      ],
      "text/plain": [
       "<IPython.core.display.HTML object>"
      ]
     },
     "metadata": {},
     "output_type": "display_data"
    },
    {
     "data": {
      "text/plain": [
       "3"
      ]
     },
     "metadata": {},
     "output_type": "display_data"
    },
    {
     "data": {
      "text/plain": [
       "Index(['30130_raw-Monocyte_count', '30190_raw-Monocyte_percentage',\n",
       "       'monocyte count'],\n",
       "      dtype='object')"
      ]
     },
     "metadata": {},
     "output_type": "display_data"
    },
    {
     "data": {
      "text/html": [
       "<h3>Cluster 26.21</h3>"
      ],
      "text/plain": [
       "<IPython.core.display.HTML object>"
      ]
     },
     "metadata": {},
     "output_type": "display_data"
    },
    {
     "data": {
      "text/plain": [
       "15"
      ]
     },
     "metadata": {},
     "output_type": "display_data"
    },
    {
     "data": {
      "text/plain": [
       "Index(['100002_raw-Energy', '100003_raw-Protein', '100004_raw-Fat',\n",
       "       '100005_raw-Carbohydrate', '100006_raw-Saturated_fat',\n",
       "       '100007_raw-Polyunsaturated_fat', '100008_raw-Total_sugars',\n",
       "       '100009_raw-Englyst_dietary_fibre', '100011_raw-Iron',\n",
       "       '100012_raw-Vitamin_B6', '100014_raw-Folate', '100016_raw-Potassium',\n",
       "       '100017_raw-Magnesium', '100024_raw-Calcium', '100025_raw-Vitamin_E'],\n",
       "      dtype='object')"
      ]
     },
     "metadata": {},
     "output_type": "display_data"
    },
    {
     "data": {
      "text/html": [
       "<h3>Cluster 26.22</h3>"
      ],
      "text/plain": [
       "<IPython.core.display.HTML object>"
      ]
     },
     "metadata": {},
     "output_type": "display_data"
    },
    {
     "data": {
      "text/plain": [
       "1"
      ]
     },
     "metadata": {},
     "output_type": "display_data"
    },
    {
     "data": {
      "text/plain": [
       "Index(['30070_raw-Red_blood_cell_erythrocyte_distribution_width'], dtype='object')"
      ]
     },
     "metadata": {},
     "output_type": "display_data"
    },
    {
     "data": {
      "text/html": [
       "<h3>Cluster 26.23</h3>"
      ],
      "text/plain": [
       "<IPython.core.display.HTML object>"
      ]
     },
     "metadata": {},
     "output_type": "display_data"
    },
    {
     "data": {
      "text/plain": [
       "2"
      ]
     },
     "metadata": {},
     "output_type": "display_data"
    },
    {
     "data": {
      "text/plain": [
       "Index(['rheumatoid arthritis', 'systemic lupus erythematosus'], dtype='object')"
      ]
     },
     "metadata": {},
     "output_type": "display_data"
    },
    {
     "data": {
      "text/html": [
       "<h3>Cluster 26.24</h3>"
      ],
      "text/plain": [
       "<IPython.core.display.HTML object>"
      ]
     },
     "metadata": {},
     "output_type": "display_data"
    },
    {
     "data": {
      "text/plain": [
       "101"
      ]
     },
     "metadata": {},
     "output_type": "display_data"
    },
    {
     "data": {
      "text/plain": [
       "Index(['41248_1000-Destinations_on_discharge_from_hospital_recoded_Usual_Place_of_residence',\n",
       "       '4194_raw-Pulse_rate', '4260-Round_of_numeric_memory_test',\n",
       "       '4282-Maximum_digits_remembered_correctly',\n",
       "       '4283-Number_of_rounds_of_numeric_memory_test_performed',\n",
       "       '4290_raw-Duration_screen_displayed', '4291-Number_of_attempts',\n",
       "       '46_raw-Hand_grip_strength_left', '47_raw-Hand_grip_strength_right',\n",
       "       '4825-Noisy_workplace',\n",
       "       ...\n",
       "       '864-Number_of_daysweek_walked_10_minutes', '874_raw-Duration_of_walks',\n",
       "       '884-Number_of_daysweek_of_moderate_physical_activity_10_minutes',\n",
       "       '894-Duration_of_moderate_activity',\n",
       "       '904-Number_of_daysweek_of_vigorous_physical_activity_10_minutes',\n",
       "       '924-Usual_walking_pace',\n",
       "       '943-Frequency_of_stair_climbing_in_last_4_weeks',\n",
       "       '971-Frequency_of_walking_for_pleasure_in_last_4_weeks',\n",
       "       'ICDMAIN_ANY_ENTRY-Any_ICDMAIN_event_in_hilmo_or_causes_of_death',\n",
       "       'episodic memory'],\n",
       "      dtype='object', length=101)"
      ]
     },
     "metadata": {},
     "output_type": "display_data"
    },
    {
     "data": {
      "text/html": [
       "<h3>Cluster 26.25</h3>"
      ],
      "text/plain": [
       "<IPython.core.display.HTML object>"
      ]
     },
     "metadata": {},
     "output_type": "display_data"
    },
    {
     "data": {
      "text/plain": [
       "147"
      ]
     },
     "metadata": {},
     "output_type": "display_data"
    },
    {
     "data": {
      "text/plain": [
       "Index(['1021-Duration_of_light_DIY', '102_raw-Pulse_rate_automated_reading',\n",
       "       '1031-Frequency_of_friendfamily_visits',\n",
       "       '1050-Time_spend_outdoors_in_summer',\n",
       "       '1060-Time_spent_outdoors_in_winter',\n",
       "       '1070-Time_spent_watching_television_TV',\n",
       "       '1080-Time_spent_using_computer', '1090-Time_spent_driving',\n",
       "       '1100-Drive_faster_than_motorway_speed_limit',\n",
       "       '110001-Invitation_to_complete_online_24hour_recall_dietary_questionnaire_acceptance',\n",
       "       ...\n",
       "       'self rated health', 'self reported educational attainment',\n",
       "       'sleep duration', 'smoking behavior', 'smoking cessation',\n",
       "       'snoring measurement', 'tiredness measurement', 'varicose veins',\n",
       "       'wheezing', 'worry measurement'],\n",
       "      dtype='object', length=147)"
      ]
     },
     "metadata": {},
     "output_type": "display_data"
    }
   ],
   "source": [
    "for k in selected_k_values:\n",
    "    display(HTML(f\"<h2>Partition with k={k}</h2>\"))\n",
    "    display(best_partitions.loc[k])\n",
    "\n",
    "    part = best_partitions.loc[k, \"partition\"]\n",
    "    display(part.shape)\n",
    "\n",
    "    part_stats = pd.Series(part).value_counts()\n",
    "    display(part_stats)\n",
    "\n",
    "    for cluster_number in part_stats.index.sort_values():\n",
    "        display(HTML(f\"<h3>Cluster {k}.{cluster_number}</h3>\"))\n",
    "\n",
    "        cluster_traits = data_umap[part == cluster_number].index\n",
    "        display(len(cluster_traits))\n",
    "        display(cluster_traits)"
   ]
  },
  {
   "cell_type": "code",
   "execution_count": null,
   "metadata": {
    "papermill": {
     "duration": 0.151203,
     "end_time": "2021-05-08T22:58:43.290994",
     "exception": false,
     "start_time": "2021-05-08T22:58:43.139791",
     "status": "completed"
    },
    "tags": []
   },
   "outputs": [],
   "source": []
  }
 ],
 "metadata": {
  "jupytext": {
   "cell_metadata_filter": "all,-execution,-papermill,-trusted",
   "formats": "ipynb,py//py:percent"
  },
  "kernelspec": {
   "display_name": "Python 3",
   "language": "python",
   "name": "python3"
  },
  "language_info": {
   "codemirror_mode": {
    "name": "ipython",
    "version": 3
   },
   "file_extension": ".py",
   "mimetype": "text/x-python",
   "name": "python",
   "nbconvert_exporter": "python",
   "pygments_lexer": "ipython3",
   "version": "3.8.8"
  },
  "papermill": {
   "default_parameters": {},
   "duration": 3.097233,
   "end_time": "2021-05-08T22:58:43.749599",
   "environment_variables": {},
   "exception": null,
   "input_path": "16_consensus_clustering/030_02-analysis-clusters.ipynb",
   "output_path": "16_consensus_clustering/030_02-analysis-clusters.run.ipynb",
   "parameters": {},
   "start_time": "2021-05-08T22:58:40.652366",
   "version": "2.2.2"
  },
  "toc-autonumbering": true,
  "toc-showcode": false,
  "toc-showmarkdowntxt": false,
  "toc-showtags": false
 },
 "nbformat": 4,
 "nbformat_minor": 4
}
