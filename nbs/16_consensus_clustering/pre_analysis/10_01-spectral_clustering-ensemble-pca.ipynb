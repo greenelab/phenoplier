{
 "cells": [
  {
   "cell_type": "markdown",
   "metadata": {
    "papermill": {
     "duration": 0.047221,
     "end_time": "2021-01-13T20:20:02.851422",
     "exception": false,
     "start_time": "2021-01-13T20:20:02.804201",
     "status": "completed"
    },
    "tags": []
   },
   "source": [
    "# Description"
   ]
  },
  {
   "cell_type": "markdown",
   "metadata": {
    "papermill": {
     "duration": 0.013364,
     "end_time": "2021-01-13T20:20:02.880845",
     "exception": false,
     "start_time": "2021-01-13T20:20:02.867481",
     "status": "completed"
    },
    "tags": []
   },
   "source": [
    "See description in notebook `10_00-spectral_clustering...`."
   ]
  },
  {
   "cell_type": "markdown",
   "metadata": {
    "papermill": {
     "duration": 0.013492,
     "end_time": "2021-01-13T20:20:02.907694",
     "exception": false,
     "start_time": "2021-01-13T20:20:02.894202",
     "status": "completed"
    },
    "tags": []
   },
   "source": [
    "# Environment variables"
   ]
  },
  {
   "cell_type": "code",
   "execution_count": 1,
   "metadata": {
    "execution": {
     "iopub.execute_input": "2021-01-13T20:20:02.938342Z",
     "iopub.status.busy": "2021-01-13T20:20:02.937955Z",
     "iopub.status.idle": "2021-01-13T20:20:02.948865Z",
     "shell.execute_reply": "2021-01-13T20:20:02.948433Z"
    },
    "papermill": {
     "duration": 0.027771,
     "end_time": "2021-01-13T20:20:02.948989",
     "exception": false,
     "start_time": "2021-01-13T20:20:02.921218",
     "status": "completed"
    },
    "tags": []
   },
   "outputs": [
    {
     "data": {
      "text/plain": [
       "3"
      ]
     },
     "metadata": {},
     "output_type": "display_data"
    }
   ],
   "source": [
    "from IPython.display import display\n",
    "\n",
    "import conf\n",
    "\n",
    "N_JOBS = conf.GENERAL[\"N_JOBS\"]\n",
    "display(N_JOBS)"
   ]
  },
  {
   "cell_type": "code",
   "execution_count": 2,
   "metadata": {
    "execution": {
     "iopub.execute_input": "2021-01-13T20:20:02.981754Z",
     "iopub.status.busy": "2021-01-13T20:20:02.981360Z",
     "iopub.status.idle": "2021-01-13T20:20:02.983978Z",
     "shell.execute_reply": "2021-01-13T20:20:02.983600Z"
    },
    "papermill": {
     "duration": 0.020797,
     "end_time": "2021-01-13T20:20:02.984066",
     "exception": false,
     "start_time": "2021-01-13T20:20:02.963269",
     "status": "completed"
    },
    "tags": []
   },
   "outputs": [
    {
     "name": "stdout",
     "output_type": "stream",
     "text": [
      "env: MKL_NUM_THREADS=3\n",
      "env: OPEN_BLAS_NUM_THREADS=3\n",
      "env: NUMEXPR_NUM_THREADS=3\n",
      "env: OMP_NUM_THREADS=3\n"
     ]
    }
   ],
   "source": [
    "%env MKL_NUM_THREADS=$N_JOBS\n",
    "%env OPEN_BLAS_NUM_THREADS=$N_JOBS\n",
    "%env NUMEXPR_NUM_THREADS=$N_JOBS\n",
    "%env OMP_NUM_THREADS=$N_JOBS"
   ]
  },
  {
   "cell_type": "markdown",
   "metadata": {
    "papermill": {
     "duration": 0.013883,
     "end_time": "2021-01-13T20:20:03.012245",
     "exception": false,
     "start_time": "2021-01-13T20:20:02.998362",
     "status": "completed"
    },
    "tags": []
   },
   "source": [
    "# Modules loading"
   ]
  },
  {
   "cell_type": "code",
   "execution_count": 3,
   "metadata": {
    "execution": {
     "iopub.execute_input": "2021-01-13T20:20:03.042928Z",
     "iopub.status.busy": "2021-01-13T20:20:03.042555Z",
     "iopub.status.idle": "2021-01-13T20:20:03.049947Z",
     "shell.execute_reply": "2021-01-13T20:20:03.050240Z"
    },
    "papermill": {
     "duration": 0.024268,
     "end_time": "2021-01-13T20:20:03.050354",
     "exception": false,
     "start_time": "2021-01-13T20:20:03.026086",
     "status": "completed"
    },
    "tags": []
   },
   "outputs": [],
   "source": [
    "%load_ext autoreload\n",
    "%autoreload 2"
   ]
  },
  {
   "cell_type": "code",
   "execution_count": 4,
   "metadata": {
    "execution": {
     "iopub.execute_input": "2021-01-13T20:20:03.083404Z",
     "iopub.status.busy": "2021-01-13T20:20:03.083030Z",
     "iopub.status.idle": "2021-01-13T20:20:03.641335Z",
     "shell.execute_reply": "2021-01-13T20:20:03.640825Z"
    },
    "papermill": {
     "duration": 0.575737,
     "end_time": "2021-01-13T20:20:03.641451",
     "exception": false,
     "start_time": "2021-01-13T20:20:03.065714",
     "status": "completed"
    },
    "tags": []
   },
   "outputs": [],
   "source": [
    "from pathlib import Path\n",
    "\n",
    "import numpy as np\n",
    "import pandas as pd\n",
    "import matplotlib.pyplot as plt\n",
    "import seaborn as sns\n",
    "\n",
    "from utils import generate_result_set_name"
   ]
  },
  {
   "cell_type": "markdown",
   "metadata": {
    "papermill": {
     "duration": 0.017732,
     "end_time": "2021-01-13T20:20:03.677953",
     "exception": false,
     "start_time": "2021-01-13T20:20:03.660221",
     "status": "completed"
    },
    "tags": []
   },
   "source": [
    "# Settings"
   ]
  },
  {
   "cell_type": "code",
   "execution_count": 5,
   "metadata": {
    "execution": {
     "iopub.execute_input": "2021-01-13T20:20:03.710432Z",
     "iopub.status.busy": "2021-01-13T20:20:03.710060Z",
     "iopub.status.idle": "2021-01-13T20:20:03.719951Z",
     "shell.execute_reply": "2021-01-13T20:20:03.719558Z"
    },
    "papermill": {
     "duration": 0.026468,
     "end_time": "2021-01-13T20:20:03.720043",
     "exception": false,
     "start_time": "2021-01-13T20:20:03.693575",
     "status": "completed"
    },
    "tags": []
   },
   "outputs": [],
   "source": [
    "INITIAL_RANDOM_STATE = 100000"
   ]
  },
  {
   "cell_type": "code",
   "execution_count": 6,
   "metadata": {
    "execution": {
     "iopub.execute_input": "2021-01-13T20:20:03.751414Z",
     "iopub.status.busy": "2021-01-13T20:20:03.751043Z",
     "iopub.status.idle": "2021-01-13T20:20:03.760907Z",
     "shell.execute_reply": "2021-01-13T20:20:03.760466Z"
    },
    "papermill": {
     "duration": 0.02621,
     "end_time": "2021-01-13T20:20:03.760994",
     "exception": false,
     "start_time": "2021-01-13T20:20:03.734784",
     "status": "completed"
    },
    "tags": []
   },
   "outputs": [],
   "source": [
    "CLUSTERING_METHOD_NAME = \"DeltaSpectralClustering\""
   ]
  },
  {
   "cell_type": "code",
   "execution_count": 7,
   "metadata": {
    "execution": {
     "iopub.execute_input": "2021-01-13T20:20:03.792667Z",
     "iopub.status.busy": "2021-01-13T20:20:03.792301Z",
     "iopub.status.idle": "2021-01-13T20:20:03.803009Z",
     "shell.execute_reply": "2021-01-13T20:20:03.802625Z"
    },
    "papermill": {
     "duration": 0.027433,
     "end_time": "2021-01-13T20:20:03.803097",
     "exception": false,
     "start_time": "2021-01-13T20:20:03.775664",
     "status": "completed"
    },
    "tags": []
   },
   "outputs": [
    {
     "data": {
      "text/plain": [
       "PosixPath('/home/miltondp/projects/labs/greenelab/phenoplier/base3/results/clustering/consensus_clustering')"
      ]
     },
     "metadata": {},
     "output_type": "display_data"
    }
   ],
   "source": [
    "# output dir for this notebook\n",
    "CONSENSUS_CLUSTERING_DIR = Path(\n",
    "    conf.RESULTS[\"CLUSTERING_DIR\"], \"consensus_clustering\"\n",
    ").resolve()\n",
    "\n",
    "display(CONSENSUS_CLUSTERING_DIR)"
   ]
  },
  {
   "cell_type": "markdown",
   "metadata": {
    "papermill": {
     "duration": 0.014695,
     "end_time": "2021-01-13T20:20:03.832813",
     "exception": false,
     "start_time": "2021-01-13T20:20:03.818118",
     "status": "completed"
    },
    "tags": []
   },
   "source": [
    "# Load data"
   ]
  },
  {
   "cell_type": "code",
   "execution_count": 8,
   "metadata": {
    "execution": {
     "iopub.execute_input": "2021-01-13T20:20:03.865186Z",
     "iopub.status.busy": "2021-01-13T20:20:03.864821Z",
     "iopub.status.idle": "2021-01-13T20:20:03.874594Z",
     "shell.execute_reply": "2021-01-13T20:20:03.874212Z"
    },
    "papermill": {
     "duration": 0.027167,
     "end_time": "2021-01-13T20:20:03.874685",
     "exception": false,
     "start_time": "2021-01-13T20:20:03.847518",
     "status": "completed"
    },
    "tags": []
   },
   "outputs": [],
   "source": [
    "INPUT_SUBSET = \"pca\""
   ]
  },
  {
   "cell_type": "code",
   "execution_count": 9,
   "metadata": {
    "execution": {
     "iopub.execute_input": "2021-01-13T20:20:03.907672Z",
     "iopub.status.busy": "2021-01-13T20:20:03.907303Z",
     "iopub.status.idle": "2021-01-13T20:20:03.916708Z",
     "shell.execute_reply": "2021-01-13T20:20:03.916362Z"
    },
    "papermill": {
     "duration": 0.026749,
     "end_time": "2021-01-13T20:20:03.916821",
     "exception": false,
     "start_time": "2021-01-13T20:20:03.890072",
     "status": "completed"
    },
    "tags": []
   },
   "outputs": [],
   "source": [
    "INPUT_STEM = \"z_score_std-projection-smultixcan-efo_partial-mashr-zscores\""
   ]
  },
  {
   "cell_type": "code",
   "execution_count": 10,
   "metadata": {
    "execution": {
     "iopub.execute_input": "2021-01-13T20:20:03.950564Z",
     "iopub.status.busy": "2021-01-13T20:20:03.950178Z",
     "iopub.status.idle": "2021-01-13T20:20:03.959945Z",
     "shell.execute_reply": "2021-01-13T20:20:03.959576Z"
    },
    "papermill": {
     "duration": 0.027352,
     "end_time": "2021-01-13T20:20:03.960032",
     "exception": false,
     "start_time": "2021-01-13T20:20:03.932680",
     "status": "completed"
    },
    "tags": []
   },
   "outputs": [],
   "source": [
    "DR_OPTIONS = {\n",
    "    \"n_components\": 50,\n",
    "    \"svd_solver\": \"full\",\n",
    "    \"random_state\": 0,\n",
    "}"
   ]
  },
  {
   "cell_type": "code",
   "execution_count": 11,
   "metadata": {
    "execution": {
     "iopub.execute_input": "2021-01-13T20:20:03.993110Z",
     "iopub.status.busy": "2021-01-13T20:20:03.992700Z",
     "iopub.status.idle": "2021-01-13T20:20:04.003968Z",
     "shell.execute_reply": "2021-01-13T20:20:04.004259Z"
    },
    "papermill": {
     "duration": 0.029044,
     "end_time": "2021-01-13T20:20:04.004366",
     "exception": false,
     "start_time": "2021-01-13T20:20:03.975322",
     "status": "completed"
    },
    "tags": []
   },
   "outputs": [
    {
     "data": {
      "text/plain": [
       "PosixPath('/home/miltondp/projects/labs/greenelab/phenoplier/base3/results/data_transformations/pca/pca-z_score_std-projection-smultixcan-efo_partial-mashr-zscores-n_components_50-random_state_0-svd_solver_full.pkl')"
      ]
     },
     "metadata": {},
     "output_type": "display_data"
    },
    {
     "data": {
      "text/plain": [
       "'pca-z_score_std-projection-smultixcan-efo_partial-mashr-zscores-n_components_50-random_state_0-svd_solver_full'"
      ]
     },
     "metadata": {},
     "output_type": "display_data"
    }
   ],
   "source": [
    "input_filepath = Path(\n",
    "    conf.RESULTS[\"DATA_TRANSFORMATIONS_DIR\"],\n",
    "    INPUT_SUBSET,\n",
    "    generate_result_set_name(\n",
    "        DR_OPTIONS, prefix=f\"{INPUT_SUBSET}-{INPUT_STEM}-\", suffix=\".pkl\"\n",
    "    ),\n",
    ").resolve()\n",
    "display(input_filepath)\n",
    "\n",
    "assert input_filepath.exists(), \"Input file does not exist\"\n",
    "\n",
    "input_filepath_stem = input_filepath.stem\n",
    "display(input_filepath_stem)"
   ]
  },
  {
   "cell_type": "code",
   "execution_count": 12,
   "metadata": {
    "execution": {
     "iopub.execute_input": "2021-01-13T20:20:04.038095Z",
     "iopub.status.busy": "2021-01-13T20:20:04.037723Z",
     "iopub.status.idle": "2021-01-13T20:20:04.048923Z",
     "shell.execute_reply": "2021-01-13T20:20:04.049214Z"
    },
    "papermill": {
     "duration": 0.02931,
     "end_time": "2021-01-13T20:20:04.049330",
     "exception": false,
     "start_time": "2021-01-13T20:20:04.020020",
     "status": "completed"
    },
    "tags": []
   },
   "outputs": [],
   "source": [
    "data = pd.read_pickle(input_filepath)"
   ]
  },
  {
   "cell_type": "code",
   "execution_count": 13,
   "metadata": {
    "execution": {
     "iopub.execute_input": "2021-01-13T20:20:04.083938Z",
     "iopub.status.busy": "2021-01-13T20:20:04.083580Z",
     "iopub.status.idle": "2021-01-13T20:20:04.093877Z",
     "shell.execute_reply": "2021-01-13T20:20:04.093500Z"
    },
    "papermill": {
     "duration": 0.028415,
     "end_time": "2021-01-13T20:20:04.093966",
     "exception": false,
     "start_time": "2021-01-13T20:20:04.065551",
     "status": "completed"
    },
    "tags": []
   },
   "outputs": [
    {
     "data": {
      "text/plain": [
       "(3749, 50)"
      ]
     },
     "execution_count": 13,
     "metadata": {},
     "output_type": "execute_result"
    }
   ],
   "source": [
    "data.shape"
   ]
  },
  {
   "cell_type": "code",
   "execution_count": 14,
   "metadata": {
    "execution": {
     "iopub.execute_input": "2021-01-13T20:20:04.127761Z",
     "iopub.status.busy": "2021-01-13T20:20:04.127401Z",
     "iopub.status.idle": "2021-01-13T20:20:04.150462Z",
     "shell.execute_reply": "2021-01-13T20:20:04.150097Z"
    },
    "papermill": {
     "duration": 0.040511,
     "end_time": "2021-01-13T20:20:04.150549",
     "exception": false,
     "start_time": "2021-01-13T20:20:04.110038",
     "status": "completed"
    },
    "tags": []
   },
   "outputs": [
    {
     "data": {
      "text/html": [
       "<div>\n",
       "<style scoped>\n",
       "    .dataframe tbody tr th:only-of-type {\n",
       "        vertical-align: middle;\n",
       "    }\n",
       "\n",
       "    .dataframe tbody tr th {\n",
       "        vertical-align: top;\n",
       "    }\n",
       "\n",
       "    .dataframe thead th {\n",
       "        text-align: right;\n",
       "    }\n",
       "</style>\n",
       "<table border=\"1\" class=\"dataframe\">\n",
       "  <thead>\n",
       "    <tr style=\"text-align: right;\">\n",
       "      <th></th>\n",
       "      <th>PCA1</th>\n",
       "      <th>PCA2</th>\n",
       "      <th>PCA3</th>\n",
       "      <th>PCA4</th>\n",
       "      <th>PCA5</th>\n",
       "      <th>PCA6</th>\n",
       "      <th>PCA7</th>\n",
       "      <th>PCA8</th>\n",
       "      <th>PCA9</th>\n",
       "      <th>PCA10</th>\n",
       "      <th>...</th>\n",
       "      <th>PCA41</th>\n",
       "      <th>PCA42</th>\n",
       "      <th>PCA43</th>\n",
       "      <th>PCA44</th>\n",
       "      <th>PCA45</th>\n",
       "      <th>PCA46</th>\n",
       "      <th>PCA47</th>\n",
       "      <th>PCA48</th>\n",
       "      <th>PCA49</th>\n",
       "      <th>PCA50</th>\n",
       "    </tr>\n",
       "  </thead>\n",
       "  <tbody>\n",
       "    <tr>\n",
       "      <th>100001_raw-Food_weight</th>\n",
       "      <td>-0.547515</td>\n",
       "      <td>-0.007250</td>\n",
       "      <td>0.245361</td>\n",
       "      <td>0.132424</td>\n",
       "      <td>1.201447</td>\n",
       "      <td>-0.113158</td>\n",
       "      <td>0.048859</td>\n",
       "      <td>1.031679</td>\n",
       "      <td>0.711208</td>\n",
       "      <td>0.126100</td>\n",
       "      <td>...</td>\n",
       "      <td>0.113685</td>\n",
       "      <td>-0.109753</td>\n",
       "      <td>0.178202</td>\n",
       "      <td>-0.487868</td>\n",
       "      <td>1.805920</td>\n",
       "      <td>-0.342611</td>\n",
       "      <td>-0.663712</td>\n",
       "      <td>-1.313987</td>\n",
       "      <td>-1.481707</td>\n",
       "      <td>0.396410</td>\n",
       "    </tr>\n",
       "    <tr>\n",
       "      <th>100002_raw-Energy</th>\n",
       "      <td>-1.570593</td>\n",
       "      <td>-0.618992</td>\n",
       "      <td>-1.223395</td>\n",
       "      <td>1.627321</td>\n",
       "      <td>-0.563860</td>\n",
       "      <td>0.224922</td>\n",
       "      <td>-1.500327</td>\n",
       "      <td>2.045633</td>\n",
       "      <td>-1.665998</td>\n",
       "      <td>-0.180432</td>\n",
       "      <td>...</td>\n",
       "      <td>0.697880</td>\n",
       "      <td>1.412676</td>\n",
       "      <td>2.103988</td>\n",
       "      <td>0.385625</td>\n",
       "      <td>2.386495</td>\n",
       "      <td>-2.939998</td>\n",
       "      <td>-0.978275</td>\n",
       "      <td>-1.893307</td>\n",
       "      <td>-0.259497</td>\n",
       "      <td>0.423264</td>\n",
       "    </tr>\n",
       "    <tr>\n",
       "      <th>100003_raw-Protein</th>\n",
       "      <td>-0.601212</td>\n",
       "      <td>-0.948824</td>\n",
       "      <td>-1.022209</td>\n",
       "      <td>2.438433</td>\n",
       "      <td>-2.062235</td>\n",
       "      <td>0.356202</td>\n",
       "      <td>-1.538038</td>\n",
       "      <td>2.314675</td>\n",
       "      <td>-1.108991</td>\n",
       "      <td>0.318034</td>\n",
       "      <td>...</td>\n",
       "      <td>0.171992</td>\n",
       "      <td>1.351979</td>\n",
       "      <td>0.054404</td>\n",
       "      <td>-0.725132</td>\n",
       "      <td>2.226520</td>\n",
       "      <td>-3.481674</td>\n",
       "      <td>-0.445294</td>\n",
       "      <td>-0.477452</td>\n",
       "      <td>0.237157</td>\n",
       "      <td>1.440867</td>\n",
       "    </tr>\n",
       "    <tr>\n",
       "      <th>100004_raw-Fat</th>\n",
       "      <td>-1.648214</td>\n",
       "      <td>-0.342042</td>\n",
       "      <td>-0.270189</td>\n",
       "      <td>1.683268</td>\n",
       "      <td>-1.222401</td>\n",
       "      <td>0.018349</td>\n",
       "      <td>-0.032824</td>\n",
       "      <td>1.671161</td>\n",
       "      <td>-0.908965</td>\n",
       "      <td>0.224100</td>\n",
       "      <td>...</td>\n",
       "      <td>-0.358812</td>\n",
       "      <td>0.696836</td>\n",
       "      <td>1.072624</td>\n",
       "      <td>0.627951</td>\n",
       "      <td>1.802000</td>\n",
       "      <td>0.174704</td>\n",
       "      <td>0.826319</td>\n",
       "      <td>-0.826992</td>\n",
       "      <td>0.596113</td>\n",
       "      <td>0.620050</td>\n",
       "    </tr>\n",
       "    <tr>\n",
       "      <th>100005_raw-Carbohydrate</th>\n",
       "      <td>-1.867586</td>\n",
       "      <td>-0.006412</td>\n",
       "      <td>-0.303220</td>\n",
       "      <td>0.770958</td>\n",
       "      <td>-0.116822</td>\n",
       "      <td>0.460946</td>\n",
       "      <td>-2.407732</td>\n",
       "      <td>1.534273</td>\n",
       "      <td>-1.930577</td>\n",
       "      <td>0.064621</td>\n",
       "      <td>...</td>\n",
       "      <td>1.332852</td>\n",
       "      <td>1.978032</td>\n",
       "      <td>2.158456</td>\n",
       "      <td>0.831123</td>\n",
       "      <td>1.093202</td>\n",
       "      <td>-3.539033</td>\n",
       "      <td>-0.831862</td>\n",
       "      <td>-0.842298</td>\n",
       "      <td>-0.723072</td>\n",
       "      <td>0.359438</td>\n",
       "    </tr>\n",
       "  </tbody>\n",
       "</table>\n",
       "<p>5 rows × 50 columns</p>\n",
       "</div>"
      ],
      "text/plain": [
       "                             PCA1      PCA2      PCA3      PCA4      PCA5  \\\n",
       "100001_raw-Food_weight  -0.547515 -0.007250  0.245361  0.132424  1.201447   \n",
       "100002_raw-Energy       -1.570593 -0.618992 -1.223395  1.627321 -0.563860   \n",
       "100003_raw-Protein      -0.601212 -0.948824 -1.022209  2.438433 -2.062235   \n",
       "100004_raw-Fat          -1.648214 -0.342042 -0.270189  1.683268 -1.222401   \n",
       "100005_raw-Carbohydrate -1.867586 -0.006412 -0.303220  0.770958 -0.116822   \n",
       "\n",
       "                             PCA6      PCA7      PCA8      PCA9     PCA10  \\\n",
       "100001_raw-Food_weight  -0.113158  0.048859  1.031679  0.711208  0.126100   \n",
       "100002_raw-Energy        0.224922 -1.500327  2.045633 -1.665998 -0.180432   \n",
       "100003_raw-Protein       0.356202 -1.538038  2.314675 -1.108991  0.318034   \n",
       "100004_raw-Fat           0.018349 -0.032824  1.671161 -0.908965  0.224100   \n",
       "100005_raw-Carbohydrate  0.460946 -2.407732  1.534273 -1.930577  0.064621   \n",
       "\n",
       "                         ...     PCA41     PCA42     PCA43     PCA44  \\\n",
       "100001_raw-Food_weight   ...  0.113685 -0.109753  0.178202 -0.487868   \n",
       "100002_raw-Energy        ...  0.697880  1.412676  2.103988  0.385625   \n",
       "100003_raw-Protein       ...  0.171992  1.351979  0.054404 -0.725132   \n",
       "100004_raw-Fat           ... -0.358812  0.696836  1.072624  0.627951   \n",
       "100005_raw-Carbohydrate  ...  1.332852  1.978032  2.158456  0.831123   \n",
       "\n",
       "                            PCA45     PCA46     PCA47     PCA48     PCA49  \\\n",
       "100001_raw-Food_weight   1.805920 -0.342611 -0.663712 -1.313987 -1.481707   \n",
       "100002_raw-Energy        2.386495 -2.939998 -0.978275 -1.893307 -0.259497   \n",
       "100003_raw-Protein       2.226520 -3.481674 -0.445294 -0.477452  0.237157   \n",
       "100004_raw-Fat           1.802000  0.174704  0.826319 -0.826992  0.596113   \n",
       "100005_raw-Carbohydrate  1.093202 -3.539033 -0.831862 -0.842298 -0.723072   \n",
       "\n",
       "                            PCA50  \n",
       "100001_raw-Food_weight   0.396410  \n",
       "100002_raw-Energy        0.423264  \n",
       "100003_raw-Protein       1.440867  \n",
       "100004_raw-Fat           0.620050  \n",
       "100005_raw-Carbohydrate  0.359438  \n",
       "\n",
       "[5 rows x 50 columns]"
      ]
     },
     "execution_count": 14,
     "metadata": {},
     "output_type": "execute_result"
    }
   ],
   "source": [
    "data.head()"
   ]
  },
  {
   "cell_type": "code",
   "execution_count": 15,
   "metadata": {
    "execution": {
     "iopub.execute_input": "2021-01-13T20:20:04.185425Z",
     "iopub.status.busy": "2021-01-13T20:20:04.185052Z",
     "iopub.status.idle": "2021-01-13T20:20:04.194407Z",
     "shell.execute_reply": "2021-01-13T20:20:04.194034Z"
    },
    "papermill": {
     "duration": 0.027438,
     "end_time": "2021-01-13T20:20:04.194494",
     "exception": false,
     "start_time": "2021-01-13T20:20:04.167056",
     "status": "completed"
    },
    "tags": []
   },
   "outputs": [],
   "source": [
    "traits = data.index.tolist()"
   ]
  },
  {
   "cell_type": "code",
   "execution_count": 16,
   "metadata": {
    "execution": {
     "iopub.execute_input": "2021-01-13T20:20:04.230919Z",
     "iopub.status.busy": "2021-01-13T20:20:04.230545Z",
     "iopub.status.idle": "2021-01-13T20:20:04.240893Z",
     "shell.execute_reply": "2021-01-13T20:20:04.240510Z"
    },
    "papermill": {
     "duration": 0.029901,
     "end_time": "2021-01-13T20:20:04.240985",
     "exception": false,
     "start_time": "2021-01-13T20:20:04.211084",
     "status": "completed"
    },
    "tags": []
   },
   "outputs": [
    {
     "data": {
      "text/plain": [
       "3749"
      ]
     },
     "execution_count": 16,
     "metadata": {},
     "output_type": "execute_result"
    }
   ],
   "source": [
    "len(traits)"
   ]
  },
  {
   "cell_type": "markdown",
   "metadata": {
    "papermill": {
     "duration": 0.016966,
     "end_time": "2021-01-13T20:20:04.275246",
     "exception": false,
     "start_time": "2021-01-13T20:20:04.258280",
     "status": "completed"
    },
    "tags": []
   },
   "source": [
    "# Load coassociation matrix (ensemble)"
   ]
  },
  {
   "cell_type": "code",
   "execution_count": 17,
   "metadata": {
    "execution": {
     "iopub.execute_input": "2021-01-13T20:20:04.310479Z",
     "iopub.status.busy": "2021-01-13T20:20:04.310114Z",
     "iopub.status.idle": "2021-01-13T20:20:04.320662Z",
     "shell.execute_reply": "2021-01-13T20:20:04.320285Z"
    },
    "papermill": {
     "duration": 0.029257,
     "end_time": "2021-01-13T20:20:04.320800",
     "exception": false,
     "start_time": "2021-01-13T20:20:04.291543",
     "status": "completed"
    },
    "tags": []
   },
   "outputs": [
    {
     "data": {
      "text/plain": [
       "PosixPath('/home/miltondp/projects/labs/greenelab/phenoplier/base3/results/clustering/consensus_clustering/ensemble_coassoc_matrix.npy')"
      ]
     },
     "metadata": {},
     "output_type": "display_data"
    }
   ],
   "source": [
    "input_file = Path(CONSENSUS_CLUSTERING_DIR, \"ensemble_coassoc_matrix.npy\").resolve()\n",
    "display(input_file)"
   ]
  },
  {
   "cell_type": "code",
   "execution_count": 18,
   "metadata": {
    "execution": {
     "iopub.execute_input": "2021-01-13T20:20:04.357004Z",
     "iopub.status.busy": "2021-01-13T20:20:04.356595Z",
     "iopub.status.idle": "2021-01-13T20:20:04.389412Z",
     "shell.execute_reply": "2021-01-13T20:20:04.388948Z"
    },
    "papermill": {
     "duration": 0.051669,
     "end_time": "2021-01-13T20:20:04.389519",
     "exception": false,
     "start_time": "2021-01-13T20:20:04.337850",
     "status": "completed"
    },
    "tags": []
   },
   "outputs": [],
   "source": [
    "coassoc_matrix = np.load(input_file)"
   ]
  },
  {
   "cell_type": "code",
   "execution_count": 19,
   "metadata": {
    "execution": {
     "iopub.execute_input": "2021-01-13T20:20:04.431058Z",
     "iopub.status.busy": "2021-01-13T20:20:04.430694Z",
     "iopub.status.idle": "2021-01-13T20:20:04.443748Z",
     "shell.execute_reply": "2021-01-13T20:20:04.442692Z"
    },
    "papermill": {
     "duration": 0.034043,
     "end_time": "2021-01-13T20:20:04.443985",
     "exception": false,
     "start_time": "2021-01-13T20:20:04.409942",
     "status": "completed"
    },
    "tags": []
   },
   "outputs": [],
   "source": [
    "coassoc_matrix = pd.DataFrame(\n",
    "    data=coassoc_matrix,\n",
    "    index=traits,\n",
    "    columns=traits,\n",
    ")"
   ]
  },
  {
   "cell_type": "code",
   "execution_count": 20,
   "metadata": {
    "execution": {
     "iopub.execute_input": "2021-01-13T20:20:04.496849Z",
     "iopub.status.busy": "2021-01-13T20:20:04.496395Z",
     "iopub.status.idle": "2021-01-13T20:20:04.506630Z",
     "shell.execute_reply": "2021-01-13T20:20:04.506252Z"
    },
    "papermill": {
     "duration": 0.030463,
     "end_time": "2021-01-13T20:20:04.506718",
     "exception": false,
     "start_time": "2021-01-13T20:20:04.476255",
     "status": "completed"
    },
    "tags": []
   },
   "outputs": [
    {
     "data": {
      "text/plain": [
       "(3749, 3749)"
      ]
     },
     "execution_count": 20,
     "metadata": {},
     "output_type": "execute_result"
    }
   ],
   "source": [
    "coassoc_matrix.shape"
   ]
  },
  {
   "cell_type": "code",
   "execution_count": 21,
   "metadata": {
    "execution": {
     "iopub.execute_input": "2021-01-13T20:20:04.546172Z",
     "iopub.status.busy": "2021-01-13T20:20:04.545801Z",
     "iopub.status.idle": "2021-01-13T20:20:04.568904Z",
     "shell.execute_reply": "2021-01-13T20:20:04.569207Z"
    },
    "papermill": {
     "duration": 0.043973,
     "end_time": "2021-01-13T20:20:04.569318",
     "exception": false,
     "start_time": "2021-01-13T20:20:04.525345",
     "status": "completed"
    },
    "tags": []
   },
   "outputs": [
    {
     "data": {
      "text/html": [
       "<div>\n",
       "<style scoped>\n",
       "    .dataframe tbody tr th:only-of-type {\n",
       "        vertical-align: middle;\n",
       "    }\n",
       "\n",
       "    .dataframe tbody tr th {\n",
       "        vertical-align: top;\n",
       "    }\n",
       "\n",
       "    .dataframe thead th {\n",
       "        text-align: right;\n",
       "    }\n",
       "</style>\n",
       "<table border=\"1\" class=\"dataframe\">\n",
       "  <thead>\n",
       "    <tr style=\"text-align: right;\">\n",
       "      <th></th>\n",
       "      <th>100001_raw-Food_weight</th>\n",
       "      <th>100002_raw-Energy</th>\n",
       "      <th>100003_raw-Protein</th>\n",
       "      <th>100004_raw-Fat</th>\n",
       "      <th>100005_raw-Carbohydrate</th>\n",
       "      <th>100006_raw-Saturated_fat</th>\n",
       "      <th>100007_raw-Polyunsaturated_fat</th>\n",
       "      <th>100008_raw-Total_sugars</th>\n",
       "      <th>100009_raw-Englyst_dietary_fibre</th>\n",
       "      <th>100010-Portion_size</th>\n",
       "      <th>...</th>\n",
       "      <th>visual impairment</th>\n",
       "      <th>vitiligo</th>\n",
       "      <th>vitreous body disease</th>\n",
       "      <th>vocal cord polyp</th>\n",
       "      <th>voice disorders</th>\n",
       "      <th>wellbeing measurement AND family relationship</th>\n",
       "      <th>wheezing</th>\n",
       "      <th>whooping cough</th>\n",
       "      <th>worry measurement</th>\n",
       "      <th>wrist fracture</th>\n",
       "    </tr>\n",
       "  </thead>\n",
       "  <tbody>\n",
       "    <tr>\n",
       "      <th>100001_raw-Food_weight</th>\n",
       "      <td>0.000000</td>\n",
       "      <td>0.056159</td>\n",
       "      <td>0.053895</td>\n",
       "      <td>0.076313</td>\n",
       "      <td>0.057518</td>\n",
       "      <td>0.075634</td>\n",
       "      <td>0.074728</td>\n",
       "      <td>0.057971</td>\n",
       "      <td>0.055480</td>\n",
       "      <td>0.567482</td>\n",
       "      <td>...</td>\n",
       "      <td>0.604223</td>\n",
       "      <td>0.602355</td>\n",
       "      <td>0.594564</td>\n",
       "      <td>0.603261</td>\n",
       "      <td>0.582428</td>\n",
       "      <td>0.548731</td>\n",
       "      <td>0.690641</td>\n",
       "      <td>0.599864</td>\n",
       "      <td>0.661714</td>\n",
       "      <td>0.667572</td>\n",
       "    </tr>\n",
       "    <tr>\n",
       "      <th>100002_raw-Energy</th>\n",
       "      <td>0.056159</td>\n",
       "      <td>0.000000</td>\n",
       "      <td>0.027400</td>\n",
       "      <td>0.044837</td>\n",
       "      <td>0.021966</td>\n",
       "      <td>0.045743</td>\n",
       "      <td>0.067482</td>\n",
       "      <td>0.031250</td>\n",
       "      <td>0.048007</td>\n",
       "      <td>0.561368</td>\n",
       "      <td>...</td>\n",
       "      <td>0.606040</td>\n",
       "      <td>0.604393</td>\n",
       "      <td>0.594337</td>\n",
       "      <td>0.606431</td>\n",
       "      <td>0.585824</td>\n",
       "      <td>0.571170</td>\n",
       "      <td>0.687644</td>\n",
       "      <td>0.601223</td>\n",
       "      <td>0.659886</td>\n",
       "      <td>0.665308</td>\n",
       "    </tr>\n",
       "    <tr>\n",
       "      <th>100003_raw-Protein</th>\n",
       "      <td>0.053895</td>\n",
       "      <td>0.027400</td>\n",
       "      <td>0.000000</td>\n",
       "      <td>0.046875</td>\n",
       "      <td>0.018116</td>\n",
       "      <td>0.047781</td>\n",
       "      <td>0.064764</td>\n",
       "      <td>0.032382</td>\n",
       "      <td>0.050951</td>\n",
       "      <td>0.558424</td>\n",
       "      <td>...</td>\n",
       "      <td>0.602634</td>\n",
       "      <td>0.601676</td>\n",
       "      <td>0.592525</td>\n",
       "      <td>0.603487</td>\n",
       "      <td>0.581975</td>\n",
       "      <td>0.571850</td>\n",
       "      <td>0.691102</td>\n",
       "      <td>0.597826</td>\n",
       "      <td>0.661029</td>\n",
       "      <td>0.662817</td>\n",
       "    </tr>\n",
       "    <tr>\n",
       "      <th>100004_raw-Fat</th>\n",
       "      <td>0.076313</td>\n",
       "      <td>0.044837</td>\n",
       "      <td>0.046875</td>\n",
       "      <td>0.000000</td>\n",
       "      <td>0.045516</td>\n",
       "      <td>0.004755</td>\n",
       "      <td>0.046196</td>\n",
       "      <td>0.028306</td>\n",
       "      <td>0.057971</td>\n",
       "      <td>0.551857</td>\n",
       "      <td>...</td>\n",
       "      <td>0.590372</td>\n",
       "      <td>0.589674</td>\n",
       "      <td>0.578256</td>\n",
       "      <td>0.595788</td>\n",
       "      <td>0.571332</td>\n",
       "      <td>0.585902</td>\n",
       "      <td>0.692254</td>\n",
       "      <td>0.588315</td>\n",
       "      <td>0.667429</td>\n",
       "      <td>0.666667</td>\n",
       "    </tr>\n",
       "    <tr>\n",
       "      <th>100005_raw-Carbohydrate</th>\n",
       "      <td>0.057518</td>\n",
       "      <td>0.021966</td>\n",
       "      <td>0.018116</td>\n",
       "      <td>0.045516</td>\n",
       "      <td>0.000000</td>\n",
       "      <td>0.046196</td>\n",
       "      <td>0.067935</td>\n",
       "      <td>0.025589</td>\n",
       "      <td>0.050045</td>\n",
       "      <td>0.559783</td>\n",
       "      <td>...</td>\n",
       "      <td>0.605813</td>\n",
       "      <td>0.604393</td>\n",
       "      <td>0.593205</td>\n",
       "      <td>0.604846</td>\n",
       "      <td>0.584692</td>\n",
       "      <td>0.574569</td>\n",
       "      <td>0.687414</td>\n",
       "      <td>0.600543</td>\n",
       "      <td>0.657143</td>\n",
       "      <td>0.662817</td>\n",
       "    </tr>\n",
       "  </tbody>\n",
       "</table>\n",
       "<p>5 rows × 3749 columns</p>\n",
       "</div>"
      ],
      "text/plain": [
       "                         100001_raw-Food_weight  100002_raw-Energy  \\\n",
       "100001_raw-Food_weight                 0.000000           0.056159   \n",
       "100002_raw-Energy                      0.056159           0.000000   \n",
       "100003_raw-Protein                     0.053895           0.027400   \n",
       "100004_raw-Fat                         0.076313           0.044837   \n",
       "100005_raw-Carbohydrate                0.057518           0.021966   \n",
       "\n",
       "                         100003_raw-Protein  100004_raw-Fat  \\\n",
       "100001_raw-Food_weight             0.053895        0.076313   \n",
       "100002_raw-Energy                  0.027400        0.044837   \n",
       "100003_raw-Protein                 0.000000        0.046875   \n",
       "100004_raw-Fat                     0.046875        0.000000   \n",
       "100005_raw-Carbohydrate            0.018116        0.045516   \n",
       "\n",
       "                         100005_raw-Carbohydrate  100006_raw-Saturated_fat  \\\n",
       "100001_raw-Food_weight                  0.057518                  0.075634   \n",
       "100002_raw-Energy                       0.021966                  0.045743   \n",
       "100003_raw-Protein                      0.018116                  0.047781   \n",
       "100004_raw-Fat                          0.045516                  0.004755   \n",
       "100005_raw-Carbohydrate                 0.000000                  0.046196   \n",
       "\n",
       "                         100007_raw-Polyunsaturated_fat  \\\n",
       "100001_raw-Food_weight                         0.074728   \n",
       "100002_raw-Energy                              0.067482   \n",
       "100003_raw-Protein                             0.064764   \n",
       "100004_raw-Fat                                 0.046196   \n",
       "100005_raw-Carbohydrate                        0.067935   \n",
       "\n",
       "                         100008_raw-Total_sugars  \\\n",
       "100001_raw-Food_weight                  0.057971   \n",
       "100002_raw-Energy                       0.031250   \n",
       "100003_raw-Protein                      0.032382   \n",
       "100004_raw-Fat                          0.028306   \n",
       "100005_raw-Carbohydrate                 0.025589   \n",
       "\n",
       "                         100009_raw-Englyst_dietary_fibre  \\\n",
       "100001_raw-Food_weight                           0.055480   \n",
       "100002_raw-Energy                                0.048007   \n",
       "100003_raw-Protein                               0.050951   \n",
       "100004_raw-Fat                                   0.057971   \n",
       "100005_raw-Carbohydrate                          0.050045   \n",
       "\n",
       "                         100010-Portion_size  ...  visual impairment  \\\n",
       "100001_raw-Food_weight              0.567482  ...           0.604223   \n",
       "100002_raw-Energy                   0.561368  ...           0.606040   \n",
       "100003_raw-Protein                  0.558424  ...           0.602634   \n",
       "100004_raw-Fat                      0.551857  ...           0.590372   \n",
       "100005_raw-Carbohydrate             0.559783  ...           0.605813   \n",
       "\n",
       "                         vitiligo  vitreous body disease  vocal cord polyp  \\\n",
       "100001_raw-Food_weight   0.602355               0.594564          0.603261   \n",
       "100002_raw-Energy        0.604393               0.594337          0.606431   \n",
       "100003_raw-Protein       0.601676               0.592525          0.603487   \n",
       "100004_raw-Fat           0.589674               0.578256          0.595788   \n",
       "100005_raw-Carbohydrate  0.604393               0.593205          0.604846   \n",
       "\n",
       "                         voice disorders  \\\n",
       "100001_raw-Food_weight          0.582428   \n",
       "100002_raw-Energy               0.585824   \n",
       "100003_raw-Protein              0.581975   \n",
       "100004_raw-Fat                  0.571332   \n",
       "100005_raw-Carbohydrate         0.584692   \n",
       "\n",
       "                         wellbeing measurement AND family relationship  \\\n",
       "100001_raw-Food_weight                                        0.548731   \n",
       "100002_raw-Energy                                             0.571170   \n",
       "100003_raw-Protein                                            0.571850   \n",
       "100004_raw-Fat                                                0.585902   \n",
       "100005_raw-Carbohydrate                                       0.574569   \n",
       "\n",
       "                         wheezing  whooping cough  worry measurement  \\\n",
       "100001_raw-Food_weight   0.690641        0.599864           0.661714   \n",
       "100002_raw-Energy        0.687644        0.601223           0.659886   \n",
       "100003_raw-Protein       0.691102        0.597826           0.661029   \n",
       "100004_raw-Fat           0.692254        0.588315           0.667429   \n",
       "100005_raw-Carbohydrate  0.687414        0.600543           0.657143   \n",
       "\n",
       "                         wrist fracture  \n",
       "100001_raw-Food_weight         0.667572  \n",
       "100002_raw-Energy              0.665308  \n",
       "100003_raw-Protein             0.662817  \n",
       "100004_raw-Fat                 0.666667  \n",
       "100005_raw-Carbohydrate        0.662817  \n",
       "\n",
       "[5 rows x 3749 columns]"
      ]
     },
     "execution_count": 21,
     "metadata": {},
     "output_type": "execute_result"
    }
   ],
   "source": [
    "coassoc_matrix.head()"
   ]
  },
  {
   "cell_type": "code",
   "execution_count": 22,
   "metadata": {
    "execution": {
     "iopub.execute_input": "2021-01-13T20:20:04.607384Z",
     "iopub.status.busy": "2021-01-13T20:20:04.607025Z",
     "iopub.status.idle": "2021-01-13T20:20:04.616589Z",
     "shell.execute_reply": "2021-01-13T20:20:04.616212Z"
    },
    "papermill": {
     "duration": 0.029021,
     "end_time": "2021-01-13T20:20:04.616678",
     "exception": false,
     "start_time": "2021-01-13T20:20:04.587657",
     "status": "completed"
    },
    "tags": []
   },
   "outputs": [],
   "source": [
    "dist_matrix = coassoc_matrix"
   ]
  },
  {
   "cell_type": "markdown",
   "metadata": {
    "papermill": {
     "duration": 0.017164,
     "end_time": "2021-01-13T20:20:04.651603",
     "exception": false,
     "start_time": "2021-01-13T20:20:04.634439",
     "status": "completed"
    },
    "tags": []
   },
   "source": [
    "# Clustering"
   ]
  },
  {
   "cell_type": "code",
   "execution_count": 23,
   "metadata": {
    "execution": {
     "iopub.execute_input": "2021-01-13T20:20:04.688991Z",
     "iopub.status.busy": "2021-01-13T20:20:04.688581Z",
     "iopub.status.idle": "2021-01-13T20:20:04.783034Z",
     "shell.execute_reply": "2021-01-13T20:20:04.782652Z"
    },
    "papermill": {
     "duration": 0.114199,
     "end_time": "2021-01-13T20:20:04.783125",
     "exception": false,
     "start_time": "2021-01-13T20:20:04.668926",
     "status": "completed"
    },
    "tags": []
   },
   "outputs": [],
   "source": [
    "from sklearn.metrics import (\n",
    "    silhouette_score,\n",
    "    calinski_harabasz_score,\n",
    "    davies_bouldin_score,\n",
    ")"
   ]
  },
  {
   "cell_type": "markdown",
   "metadata": {
    "papermill": {
     "duration": 0.017019,
     "end_time": "2021-01-13T20:20:04.817744",
     "exception": false,
     "start_time": "2021-01-13T20:20:04.800725",
     "status": "completed"
    },
    "tags": []
   },
   "source": [
    "## More exhaustive test"
   ]
  },
  {
   "cell_type": "markdown",
   "metadata": {},
   "source": [
    "Here I run some test across several `k` and `delta` values; then I check how results perform with different clustering quality measures."
   ]
  },
  {
   "cell_type": "code",
   "execution_count": 24,
   "metadata": {
    "execution": {
     "iopub.execute_input": "2021-01-13T20:20:04.855396Z",
     "iopub.status.busy": "2021-01-13T20:20:04.855026Z",
     "iopub.status.idle": "2021-01-13T20:20:04.866991Z",
     "shell.execute_reply": "2021-01-13T20:20:04.866616Z"
    },
    "papermill": {
     "duration": 0.032158,
     "end_time": "2021-01-13T20:20:04.867081",
     "exception": false,
     "start_time": "2021-01-13T20:20:04.834923",
     "status": "completed"
    },
    "tags": []
   },
   "outputs": [
    {
     "data": {
      "text/plain": [
       "{'K_RANGE': [2, 4, 6, 8, 10, 12, 14, 16, 18, 20, 25, 30, 35, 40],\n",
       " 'N_REPS_PER_K': 5,\n",
       " 'KMEANS_N_INIT': 10,\n",
       " 'DELTAS': [5.0, 2.0, 1.0, 0.9, 0.75, 0.5, 0.3, 0.25, 0.2]}"
      ]
     },
     "metadata": {},
     "output_type": "display_data"
    }
   ],
   "source": [
    "CLUSTERING_OPTIONS = {}\n",
    "\n",
    "CLUSTERING_OPTIONS[\"K_RANGE\"] = [2, 4, 6, 8, 10, 12, 14, 16, 18, 20, 25, 30, 35, 40]\n",
    "CLUSTERING_OPTIONS[\"N_REPS_PER_K\"] = 5\n",
    "CLUSTERING_OPTIONS[\"KMEANS_N_INIT\"] = 10\n",
    "CLUSTERING_OPTIONS[\"DELTAS\"] = [\n",
    "    5.00,\n",
    "    2.00,\n",
    "    1.00,\n",
    "    0.90,\n",
    "    0.75,\n",
    "    0.50,\n",
    "    0.30,\n",
    "    0.25,\n",
    "    0.20,\n",
    "]\n",
    "\n",
    "display(CLUSTERING_OPTIONS)"
   ]
  },
  {
   "cell_type": "markdown",
   "metadata": {
    "papermill": {
     "duration": 0.017608,
     "end_time": "2021-01-13T20:20:04.902560",
     "exception": false,
     "start_time": "2021-01-13T20:20:04.884952",
     "status": "completed"
    },
    "tags": []
   },
   "source": [
    "### Generate ensemble"
   ]
  },
  {
   "cell_type": "code",
   "execution_count": 25,
   "metadata": {
    "execution": {
     "iopub.execute_input": "2021-01-13T20:20:04.940493Z",
     "iopub.status.busy": "2021-01-13T20:20:04.940135Z",
     "iopub.status.idle": "2021-01-13T20:20:04.950240Z",
     "shell.execute_reply": "2021-01-13T20:20:04.949871Z"
    },
    "papermill": {
     "duration": 0.030091,
     "end_time": "2021-01-13T20:20:04.950328",
     "exception": false,
     "start_time": "2021-01-13T20:20:04.920237",
     "status": "completed"
    },
    "tags": []
   },
   "outputs": [],
   "source": [
    "import tempfile"
   ]
  },
  {
   "cell_type": "code",
   "execution_count": 26,
   "metadata": {
    "execution": {
     "iopub.execute_input": "2021-01-13T20:20:04.988663Z",
     "iopub.status.busy": "2021-01-13T20:20:04.988302Z",
     "iopub.status.idle": "2021-01-13T20:20:04.998646Z",
     "shell.execute_reply": "2021-01-13T20:20:04.998268Z"
    },
    "papermill": {
     "duration": 0.030337,
     "end_time": "2021-01-13T20:20:04.998737",
     "exception": false,
     "start_time": "2021-01-13T20:20:04.968400",
     "status": "completed"
    },
    "tags": []
   },
   "outputs": [],
   "source": [
    "ensemble_folder = Path(\n",
    "    tempfile.gettempdir(),\n",
    "    f\"pre_cluster_analysis\",\n",
    "    CLUSTERING_METHOD_NAME,\n",
    ").resolve()\n",
    "ensemble_folder.mkdir(parents=True, exist_ok=True)"
   ]
  },
  {
   "cell_type": "code",
   "execution_count": 27,
   "metadata": {
    "execution": {
     "iopub.execute_input": "2021-01-13T20:20:05.038935Z",
     "iopub.status.busy": "2021-01-13T20:20:05.038569Z",
     "iopub.status.idle": "2021-01-13T20:20:05.049501Z",
     "shell.execute_reply": "2021-01-13T20:20:05.049804Z"
    },
    "papermill": {
     "duration": 0.032345,
     "end_time": "2021-01-13T20:20:05.049914",
     "exception": false,
     "start_time": "2021-01-13T20:20:05.017569",
     "status": "completed"
    },
    "tags": []
   },
   "outputs": [
    {
     "data": {
      "text/plain": [
       "PosixPath('/tmp/pre_cluster_analysis/DeltaSpectralClustering/ensemble-DELTAS_50_20_10_09_075_05_03_025_02-KMEANS_N_INIT_10-K_RANGE_2_4_6_8_10_12_14_16_18_20_25_30_35_40-N_REPS_PER_K_5.pkl')"
      ]
     },
     "metadata": {},
     "output_type": "display_data"
    }
   ],
   "source": [
    "ensemble_file = Path(\n",
    "    ensemble_folder,\n",
    "    generate_result_set_name(CLUSTERING_OPTIONS, prefix=f\"ensemble-\", suffix=\".pkl\"),\n",
    ")\n",
    "display(ensemble_file)"
   ]
  },
  {
   "cell_type": "code",
   "execution_count": 28,
   "metadata": {
    "execution": {
     "iopub.execute_input": "2021-01-13T20:20:05.089650Z",
     "iopub.status.busy": "2021-01-13T20:20:05.089291Z",
     "iopub.status.idle": "2021-01-13T20:20:05.099622Z",
     "shell.execute_reply": "2021-01-13T20:20:05.099232Z"
    },
    "papermill": {
     "duration": 0.030517,
     "end_time": "2021-01-13T20:20:05.099711",
     "exception": false,
     "start_time": "2021-01-13T20:20:05.069194",
     "status": "completed"
    },
    "tags": []
   },
   "outputs": [],
   "source": [
    "assert ensemble_file.exists(), \"Ensemble file does not exists\""
   ]
  },
  {
   "cell_type": "code",
   "execution_count": 29,
   "metadata": {
    "execution": {
     "iopub.execute_input": "2021-01-13T20:20:05.139628Z",
     "iopub.status.busy": "2021-01-13T20:20:05.139268Z",
     "iopub.status.idle": "2021-01-13T20:20:05.164914Z",
     "shell.execute_reply": "2021-01-13T20:20:05.166122Z"
    },
    "papermill": {
     "duration": 0.047823,
     "end_time": "2021-01-13T20:20:05.166547",
     "exception": false,
     "start_time": "2021-01-13T20:20:05.118724",
     "status": "completed"
    },
    "tags": []
   },
   "outputs": [],
   "source": [
    "ensemble = pd.read_pickle(ensemble_file)"
   ]
  },
  {
   "cell_type": "code",
   "execution_count": 30,
   "metadata": {
    "execution": {
     "iopub.execute_input": "2021-01-13T20:20:05.238830Z",
     "iopub.status.busy": "2021-01-13T20:20:05.238466Z",
     "iopub.status.idle": "2021-01-13T20:20:05.249538Z",
     "shell.execute_reply": "2021-01-13T20:20:05.249145Z"
    },
    "papermill": {
     "duration": 0.032717,
     "end_time": "2021-01-13T20:20:05.249627",
     "exception": false,
     "start_time": "2021-01-13T20:20:05.216910",
     "status": "completed"
    },
    "tags": []
   },
   "outputs": [
    {
     "data": {
      "text/plain": [
       "(630, 7)"
      ]
     },
     "execution_count": 30,
     "metadata": {},
     "output_type": "execute_result"
    }
   ],
   "source": [
    "ensemble.shape"
   ]
  },
  {
   "cell_type": "code",
   "execution_count": 31,
   "metadata": {
    "execution": {
     "iopub.execute_input": "2021-01-13T20:20:05.289241Z",
     "iopub.status.busy": "2021-01-13T20:20:05.288880Z",
     "iopub.status.idle": "2021-01-13T20:20:05.309270Z",
     "shell.execute_reply": "2021-01-13T20:20:05.308900Z"
    },
    "papermill": {
     "duration": 0.040967,
     "end_time": "2021-01-13T20:20:05.309358",
     "exception": false,
     "start_time": "2021-01-13T20:20:05.268391",
     "status": "completed"
    },
    "tags": []
   },
   "outputs": [
    {
     "data": {
      "text/html": [
       "<div>\n",
       "<style scoped>\n",
       "    .dataframe tbody tr th:only-of-type {\n",
       "        vertical-align: middle;\n",
       "    }\n",
       "\n",
       "    .dataframe tbody tr th {\n",
       "        vertical-align: top;\n",
       "    }\n",
       "\n",
       "    .dataframe thead th {\n",
       "        text-align: right;\n",
       "    }\n",
       "</style>\n",
       "<table border=\"1\" class=\"dataframe\">\n",
       "  <thead>\n",
       "    <tr style=\"text-align: right;\">\n",
       "      <th></th>\n",
       "      <th>clusterer_params</th>\n",
       "      <th>partition</th>\n",
       "      <th>n_clusters</th>\n",
       "      <th>delta</th>\n",
       "      <th>si_score</th>\n",
       "      <th>ch_score</th>\n",
       "      <th>db_score</th>\n",
       "    </tr>\n",
       "    <tr>\n",
       "      <th>clusterer_id</th>\n",
       "      <th></th>\n",
       "      <th></th>\n",
       "      <th></th>\n",
       "      <th></th>\n",
       "      <th></th>\n",
       "      <th></th>\n",
       "      <th></th>\n",
       "    </tr>\n",
       "  </thead>\n",
       "  <tbody>\n",
       "    <tr>\n",
       "      <th>DeltaSpectralClustering #0</th>\n",
       "      <td>{'delta': 5.0}</td>\n",
       "      <td>[0.0, 0.0, 0.0, 0.0, 0.0, 0.0, 0.0, 0.0, 0.0, ...</td>\n",
       "      <td>2</td>\n",
       "      <td>5.00</td>\n",
       "      <td>0.242625</td>\n",
       "      <td>128.603203</td>\n",
       "      <td>4.388969</td>\n",
       "    </tr>\n",
       "    <tr>\n",
       "      <th>DeltaSpectralClustering #1</th>\n",
       "      <td>{'delta': 5.0}</td>\n",
       "      <td>[0.0, 0.0, 0.0, 0.0, 0.0, 0.0, 0.0, 0.0, 0.0, ...</td>\n",
       "      <td>2</td>\n",
       "      <td>5.00</td>\n",
       "      <td>0.242625</td>\n",
       "      <td>128.603203</td>\n",
       "      <td>4.388969</td>\n",
       "    </tr>\n",
       "    <tr>\n",
       "      <th>DeltaSpectralClustering #2</th>\n",
       "      <td>{'delta': 5.0}</td>\n",
       "      <td>[1.0, 1.0, 1.0, 1.0, 1.0, 1.0, 1.0, 1.0, 1.0, ...</td>\n",
       "      <td>2</td>\n",
       "      <td>5.00</td>\n",
       "      <td>0.242625</td>\n",
       "      <td>128.603203</td>\n",
       "      <td>4.388969</td>\n",
       "    </tr>\n",
       "    <tr>\n",
       "      <th>DeltaSpectralClustering #3</th>\n",
       "      <td>{'delta': 5.0}</td>\n",
       "      <td>[1.0, 1.0, 1.0, 1.0, 1.0, 1.0, 1.0, 1.0, 1.0, ...</td>\n",
       "      <td>2</td>\n",
       "      <td>5.00</td>\n",
       "      <td>0.242625</td>\n",
       "      <td>128.603203</td>\n",
       "      <td>4.388969</td>\n",
       "    </tr>\n",
       "    <tr>\n",
       "      <th>DeltaSpectralClustering #4</th>\n",
       "      <td>{'delta': 5.0}</td>\n",
       "      <td>[0.0, 0.0, 0.0, 0.0, 0.0, 0.0, 0.0, 0.0, 0.0, ...</td>\n",
       "      <td>2</td>\n",
       "      <td>5.00</td>\n",
       "      <td>0.242625</td>\n",
       "      <td>128.603203</td>\n",
       "      <td>4.388969</td>\n",
       "    </tr>\n",
       "  </tbody>\n",
       "</table>\n",
       "</div>"
      ],
      "text/plain": [
       "                           clusterer_params  \\\n",
       "clusterer_id                                  \n",
       "DeltaSpectralClustering #0   {'delta': 5.0}   \n",
       "DeltaSpectralClustering #1   {'delta': 5.0}   \n",
       "DeltaSpectralClustering #2   {'delta': 5.0}   \n",
       "DeltaSpectralClustering #3   {'delta': 5.0}   \n",
       "DeltaSpectralClustering #4   {'delta': 5.0}   \n",
       "\n",
       "                                                                    partition  \\\n",
       "clusterer_id                                                                    \n",
       "DeltaSpectralClustering #0  [0.0, 0.0, 0.0, 0.0, 0.0, 0.0, 0.0, 0.0, 0.0, ...   \n",
       "DeltaSpectralClustering #1  [0.0, 0.0, 0.0, 0.0, 0.0, 0.0, 0.0, 0.0, 0.0, ...   \n",
       "DeltaSpectralClustering #2  [1.0, 1.0, 1.0, 1.0, 1.0, 1.0, 1.0, 1.0, 1.0, ...   \n",
       "DeltaSpectralClustering #3  [1.0, 1.0, 1.0, 1.0, 1.0, 1.0, 1.0, 1.0, 1.0, ...   \n",
       "DeltaSpectralClustering #4  [0.0, 0.0, 0.0, 0.0, 0.0, 0.0, 0.0, 0.0, 0.0, ...   \n",
       "\n",
       "                            n_clusters delta  si_score    ch_score  db_score  \n",
       "clusterer_id                                                                  \n",
       "DeltaSpectralClustering #0           2  5.00  0.242625  128.603203  4.388969  \n",
       "DeltaSpectralClustering #1           2  5.00  0.242625  128.603203  4.388969  \n",
       "DeltaSpectralClustering #2           2  5.00  0.242625  128.603203  4.388969  \n",
       "DeltaSpectralClustering #3           2  5.00  0.242625  128.603203  4.388969  \n",
       "DeltaSpectralClustering #4           2  5.00  0.242625  128.603203  4.388969  "
      ]
     },
     "execution_count": 31,
     "metadata": {},
     "output_type": "execute_result"
    }
   ],
   "source": [
    "ensemble.head()"
   ]
  },
  {
   "cell_type": "markdown",
   "metadata": {
    "papermill": {
     "duration": 0.018771,
     "end_time": "2021-01-13T20:20:05.347312",
     "exception": false,
     "start_time": "2021-01-13T20:20:05.328541",
     "status": "completed"
    },
    "tags": []
   },
   "source": [
    "### Add clustering quality measures"
   ]
  },
  {
   "cell_type": "code",
   "execution_count": 32,
   "metadata": {
    "execution": {
     "iopub.execute_input": "2021-01-13T20:20:05.387874Z",
     "iopub.status.busy": "2021-01-13T20:20:05.387485Z",
     "iopub.status.idle": "2021-01-13T20:20:11.028448Z",
     "shell.execute_reply": "2021-01-13T20:20:11.028118Z"
    },
    "papermill": {
     "duration": 5.662456,
     "end_time": "2021-01-13T20:20:11.028543",
     "exception": false,
     "start_time": "2021-01-13T20:20:05.366087",
     "status": "completed"
    },
    "tags": []
   },
   "outputs": [],
   "source": [
    "ensemble = ensemble.assign(\n",
    "    #     si_score=ensemble[\"partition\"].apply(lambda x: silhouette_score(dist_matrix, x, metric=\"precomputed\")),\n",
    "    ch_score=ensemble[\"partition\"].apply(lambda x: calinski_harabasz_score(data, x)),\n",
    "    db_score=ensemble[\"partition\"].apply(lambda x: davies_bouldin_score(data, x)),\n",
    ")"
   ]
  },
  {
   "cell_type": "code",
   "execution_count": 33,
   "metadata": {
    "execution": {
     "iopub.execute_input": "2021-01-13T20:20:11.071275Z",
     "iopub.status.busy": "2021-01-13T20:20:11.070892Z",
     "iopub.status.idle": "2021-01-13T20:20:11.081594Z",
     "shell.execute_reply": "2021-01-13T20:20:11.081891Z"
    },
    "papermill": {
     "duration": 0.033187,
     "end_time": "2021-01-13T20:20:11.082006",
     "exception": false,
     "start_time": "2021-01-13T20:20:11.048819",
     "status": "completed"
    },
    "tags": []
   },
   "outputs": [
    {
     "data": {
      "text/plain": [
       "(630, 7)"
      ]
     },
     "execution_count": 33,
     "metadata": {},
     "output_type": "execute_result"
    }
   ],
   "source": [
    "ensemble.shape"
   ]
  },
  {
   "cell_type": "code",
   "execution_count": 34,
   "metadata": {
    "execution": {
     "iopub.execute_input": "2021-01-13T20:20:11.124376Z",
     "iopub.status.busy": "2021-01-13T20:20:11.124005Z",
     "iopub.status.idle": "2021-01-13T20:20:11.143532Z",
     "shell.execute_reply": "2021-01-13T20:20:11.143210Z"
    },
    "papermill": {
     "duration": 0.041165,
     "end_time": "2021-01-13T20:20:11.143630",
     "exception": false,
     "start_time": "2021-01-13T20:20:11.102465",
     "status": "completed"
    },
    "tags": []
   },
   "outputs": [
    {
     "data": {
      "text/html": [
       "<div>\n",
       "<style scoped>\n",
       "    .dataframe tbody tr th:only-of-type {\n",
       "        vertical-align: middle;\n",
       "    }\n",
       "\n",
       "    .dataframe tbody tr th {\n",
       "        vertical-align: top;\n",
       "    }\n",
       "\n",
       "    .dataframe thead th {\n",
       "        text-align: right;\n",
       "    }\n",
       "</style>\n",
       "<table border=\"1\" class=\"dataframe\">\n",
       "  <thead>\n",
       "    <tr style=\"text-align: right;\">\n",
       "      <th></th>\n",
       "      <th>clusterer_params</th>\n",
       "      <th>partition</th>\n",
       "      <th>n_clusters</th>\n",
       "      <th>delta</th>\n",
       "      <th>si_score</th>\n",
       "      <th>ch_score</th>\n",
       "      <th>db_score</th>\n",
       "    </tr>\n",
       "    <tr>\n",
       "      <th>clusterer_id</th>\n",
       "      <th></th>\n",
       "      <th></th>\n",
       "      <th></th>\n",
       "      <th></th>\n",
       "      <th></th>\n",
       "      <th></th>\n",
       "      <th></th>\n",
       "    </tr>\n",
       "  </thead>\n",
       "  <tbody>\n",
       "    <tr>\n",
       "      <th>DeltaSpectralClustering #0</th>\n",
       "      <td>{'delta': 5.0}</td>\n",
       "      <td>[0.0, 0.0, 0.0, 0.0, 0.0, 0.0, 0.0, 0.0, 0.0, ...</td>\n",
       "      <td>2</td>\n",
       "      <td>5.00</td>\n",
       "      <td>0.242625</td>\n",
       "      <td>526.437885</td>\n",
       "      <td>2.208172</td>\n",
       "    </tr>\n",
       "    <tr>\n",
       "      <th>DeltaSpectralClustering #1</th>\n",
       "      <td>{'delta': 5.0}</td>\n",
       "      <td>[0.0, 0.0, 0.0, 0.0, 0.0, 0.0, 0.0, 0.0, 0.0, ...</td>\n",
       "      <td>2</td>\n",
       "      <td>5.00</td>\n",
       "      <td>0.242625</td>\n",
       "      <td>526.437885</td>\n",
       "      <td>2.208172</td>\n",
       "    </tr>\n",
       "    <tr>\n",
       "      <th>DeltaSpectralClustering #2</th>\n",
       "      <td>{'delta': 5.0}</td>\n",
       "      <td>[1.0, 1.0, 1.0, 1.0, 1.0, 1.0, 1.0, 1.0, 1.0, ...</td>\n",
       "      <td>2</td>\n",
       "      <td>5.00</td>\n",
       "      <td>0.242625</td>\n",
       "      <td>526.437885</td>\n",
       "      <td>2.208172</td>\n",
       "    </tr>\n",
       "    <tr>\n",
       "      <th>DeltaSpectralClustering #3</th>\n",
       "      <td>{'delta': 5.0}</td>\n",
       "      <td>[1.0, 1.0, 1.0, 1.0, 1.0, 1.0, 1.0, 1.0, 1.0, ...</td>\n",
       "      <td>2</td>\n",
       "      <td>5.00</td>\n",
       "      <td>0.242625</td>\n",
       "      <td>526.437885</td>\n",
       "      <td>2.208172</td>\n",
       "    </tr>\n",
       "    <tr>\n",
       "      <th>DeltaSpectralClustering #4</th>\n",
       "      <td>{'delta': 5.0}</td>\n",
       "      <td>[0.0, 0.0, 0.0, 0.0, 0.0, 0.0, 0.0, 0.0, 0.0, ...</td>\n",
       "      <td>2</td>\n",
       "      <td>5.00</td>\n",
       "      <td>0.242625</td>\n",
       "      <td>526.437885</td>\n",
       "      <td>2.208172</td>\n",
       "    </tr>\n",
       "  </tbody>\n",
       "</table>\n",
       "</div>"
      ],
      "text/plain": [
       "                           clusterer_params  \\\n",
       "clusterer_id                                  \n",
       "DeltaSpectralClustering #0   {'delta': 5.0}   \n",
       "DeltaSpectralClustering #1   {'delta': 5.0}   \n",
       "DeltaSpectralClustering #2   {'delta': 5.0}   \n",
       "DeltaSpectralClustering #3   {'delta': 5.0}   \n",
       "DeltaSpectralClustering #4   {'delta': 5.0}   \n",
       "\n",
       "                                                                    partition  \\\n",
       "clusterer_id                                                                    \n",
       "DeltaSpectralClustering #0  [0.0, 0.0, 0.0, 0.0, 0.0, 0.0, 0.0, 0.0, 0.0, ...   \n",
       "DeltaSpectralClustering #1  [0.0, 0.0, 0.0, 0.0, 0.0, 0.0, 0.0, 0.0, 0.0, ...   \n",
       "DeltaSpectralClustering #2  [1.0, 1.0, 1.0, 1.0, 1.0, 1.0, 1.0, 1.0, 1.0, ...   \n",
       "DeltaSpectralClustering #3  [1.0, 1.0, 1.0, 1.0, 1.0, 1.0, 1.0, 1.0, 1.0, ...   \n",
       "DeltaSpectralClustering #4  [0.0, 0.0, 0.0, 0.0, 0.0, 0.0, 0.0, 0.0, 0.0, ...   \n",
       "\n",
       "                            n_clusters delta  si_score    ch_score  db_score  \n",
       "clusterer_id                                                                  \n",
       "DeltaSpectralClustering #0           2  5.00  0.242625  526.437885  2.208172  \n",
       "DeltaSpectralClustering #1           2  5.00  0.242625  526.437885  2.208172  \n",
       "DeltaSpectralClustering #2           2  5.00  0.242625  526.437885  2.208172  \n",
       "DeltaSpectralClustering #3           2  5.00  0.242625  526.437885  2.208172  \n",
       "DeltaSpectralClustering #4           2  5.00  0.242625  526.437885  2.208172  "
      ]
     },
     "execution_count": 34,
     "metadata": {},
     "output_type": "execute_result"
    }
   ],
   "source": [
    "ensemble.head()"
   ]
  },
  {
   "cell_type": "markdown",
   "metadata": {
    "papermill": {
     "duration": 0.020151,
     "end_time": "2021-01-13T20:20:11.184310",
     "exception": false,
     "start_time": "2021-01-13T20:20:11.164159",
     "status": "completed"
    },
    "tags": []
   },
   "source": [
    "# Cluster quality"
   ]
  },
  {
   "cell_type": "code",
   "execution_count": 35,
   "metadata": {
    "execution": {
     "iopub.execute_input": "2021-01-13T20:20:11.226539Z",
     "iopub.status.busy": "2021-01-13T20:20:11.226164Z",
     "iopub.status.idle": "2021-01-13T20:20:11.251064Z",
     "shell.execute_reply": "2021-01-13T20:20:11.250765Z"
    },
    "papermill": {
     "duration": 0.047278,
     "end_time": "2021-01-13T20:20:11.251154",
     "exception": false,
     "start_time": "2021-01-13T20:20:11.203876",
     "status": "completed"
    },
    "tags": []
   },
   "outputs": [
    {
     "data": {
      "text/html": [
       "<div>\n",
       "<style scoped>\n",
       "    .dataframe tbody tr th:only-of-type {\n",
       "        vertical-align: middle;\n",
       "    }\n",
       "\n",
       "    .dataframe tbody tr th {\n",
       "        vertical-align: top;\n",
       "    }\n",
       "\n",
       "    .dataframe thead th {\n",
       "        text-align: right;\n",
       "    }\n",
       "</style>\n",
       "<table border=\"1\" class=\"dataframe\">\n",
       "  <thead>\n",
       "    <tr style=\"text-align: right;\">\n",
       "      <th></th>\n",
       "      <th></th>\n",
       "      <th>si_score</th>\n",
       "      <th>ch_score</th>\n",
       "      <th>db_score</th>\n",
       "    </tr>\n",
       "    <tr>\n",
       "      <th>n_clusters</th>\n",
       "      <th>delta</th>\n",
       "      <th></th>\n",
       "      <th></th>\n",
       "      <th></th>\n",
       "    </tr>\n",
       "  </thead>\n",
       "  <tbody>\n",
       "    <tr>\n",
       "      <th rowspan=\"9\" valign=\"top\">2</th>\n",
       "      <th>0.20</th>\n",
       "      <td>0.427525</td>\n",
       "      <td>645.860499</td>\n",
       "      <td>0.873594</td>\n",
       "    </tr>\n",
       "    <tr>\n",
       "      <th>0.25</th>\n",
       "      <td>0.428439</td>\n",
       "      <td>637.662028</td>\n",
       "      <td>0.867997</td>\n",
       "    </tr>\n",
       "    <tr>\n",
       "      <th>0.30</th>\n",
       "      <td>0.428439</td>\n",
       "      <td>637.662028</td>\n",
       "      <td>0.867997</td>\n",
       "    </tr>\n",
       "    <tr>\n",
       "      <th>0.50</th>\n",
       "      <td>0.263322</td>\n",
       "      <td>591.262690</td>\n",
       "      <td>2.076430</td>\n",
       "    </tr>\n",
       "    <tr>\n",
       "      <th>0.75</th>\n",
       "      <td>0.252516</td>\n",
       "      <td>559.834671</td>\n",
       "      <td>2.140055</td>\n",
       "    </tr>\n",
       "    <tr>\n",
       "      <th>0.90</th>\n",
       "      <td>0.249902</td>\n",
       "      <td>550.657008</td>\n",
       "      <td>2.158907</td>\n",
       "    </tr>\n",
       "    <tr>\n",
       "      <th>1.00</th>\n",
       "      <td>0.248749</td>\n",
       "      <td>547.459780</td>\n",
       "      <td>2.164529</td>\n",
       "    </tr>\n",
       "    <tr>\n",
       "      <th>2.00</th>\n",
       "      <td>0.244404</td>\n",
       "      <td>533.703986</td>\n",
       "      <td>2.192466</td>\n",
       "    </tr>\n",
       "    <tr>\n",
       "      <th>5.00</th>\n",
       "      <td>0.242625</td>\n",
       "      <td>526.437885</td>\n",
       "      <td>2.208172</td>\n",
       "    </tr>\n",
       "    <tr>\n",
       "      <th rowspan=\"9\" valign=\"top\">4</th>\n",
       "      <th>0.20</th>\n",
       "      <td>0.382459</td>\n",
       "      <td>294.924040</td>\n",
       "      <td>0.894516</td>\n",
       "    </tr>\n",
       "    <tr>\n",
       "      <th>0.25</th>\n",
       "      <td>0.383548</td>\n",
       "      <td>325.234850</td>\n",
       "      <td>0.819276</td>\n",
       "    </tr>\n",
       "    <tr>\n",
       "      <th>0.30</th>\n",
       "      <td>0.424656</td>\n",
       "      <td>289.843264</td>\n",
       "      <td>1.239586</td>\n",
       "    </tr>\n",
       "    <tr>\n",
       "      <th>0.50</th>\n",
       "      <td>0.199576</td>\n",
       "      <td>417.493839</td>\n",
       "      <td>2.609776</td>\n",
       "    </tr>\n",
       "    <tr>\n",
       "      <th>0.75</th>\n",
       "      <td>0.184060</td>\n",
       "      <td>403.794279</td>\n",
       "      <td>2.631816</td>\n",
       "    </tr>\n",
       "    <tr>\n",
       "      <th>0.90</th>\n",
       "      <td>0.183101</td>\n",
       "      <td>395.750713</td>\n",
       "      <td>2.666604</td>\n",
       "    </tr>\n",
       "    <tr>\n",
       "      <th>1.00</th>\n",
       "      <td>0.180977</td>\n",
       "      <td>390.571094</td>\n",
       "      <td>2.697543</td>\n",
       "    </tr>\n",
       "    <tr>\n",
       "      <th>2.00</th>\n",
       "      <td>0.180781</td>\n",
       "      <td>371.887233</td>\n",
       "      <td>2.785935</td>\n",
       "    </tr>\n",
       "    <tr>\n",
       "      <th>5.00</th>\n",
       "      <td>0.180488</td>\n",
       "      <td>369.340210</td>\n",
       "      <td>2.796649</td>\n",
       "    </tr>\n",
       "    <tr>\n",
       "      <th rowspan=\"9\" valign=\"top\">6</th>\n",
       "      <th>0.20</th>\n",
       "      <td>0.278484</td>\n",
       "      <td>313.449205</td>\n",
       "      <td>1.264341</td>\n",
       "    </tr>\n",
       "    <tr>\n",
       "      <th>0.25</th>\n",
       "      <td>0.277664</td>\n",
       "      <td>315.117057</td>\n",
       "      <td>1.259170</td>\n",
       "    </tr>\n",
       "    <tr>\n",
       "      <th>0.30</th>\n",
       "      <td>0.276948</td>\n",
       "      <td>301.674625</td>\n",
       "      <td>1.498768</td>\n",
       "    </tr>\n",
       "    <tr>\n",
       "      <th>0.50</th>\n",
       "      <td>0.064235</td>\n",
       "      <td>270.374595</td>\n",
       "      <td>9.285963</td>\n",
       "    </tr>\n",
       "    <tr>\n",
       "      <th>0.75</th>\n",
       "      <td>0.068344</td>\n",
       "      <td>244.953969</td>\n",
       "      <td>10.286319</td>\n",
       "    </tr>\n",
       "    <tr>\n",
       "      <th>0.90</th>\n",
       "      <td>0.068433</td>\n",
       "      <td>242.928641</td>\n",
       "      <td>10.292349</td>\n",
       "    </tr>\n",
       "    <tr>\n",
       "      <th>1.00</th>\n",
       "      <td>0.068581</td>\n",
       "      <td>240.970203</td>\n",
       "      <td>10.294066</td>\n",
       "    </tr>\n",
       "    <tr>\n",
       "      <th>2.00</th>\n",
       "      <td>0.069271</td>\n",
       "      <td>225.789461</td>\n",
       "      <td>10.125554</td>\n",
       "    </tr>\n",
       "    <tr>\n",
       "      <th>5.00</th>\n",
       "      <td>0.069425</td>\n",
       "      <td>221.557780</td>\n",
       "      <td>10.226540</td>\n",
       "    </tr>\n",
       "    <tr>\n",
       "      <th rowspan=\"9\" valign=\"top\">8</th>\n",
       "      <th>0.20</th>\n",
       "      <td>0.374526</td>\n",
       "      <td>290.584668</td>\n",
       "      <td>1.438576</td>\n",
       "    </tr>\n",
       "    <tr>\n",
       "      <th>0.25</th>\n",
       "      <td>0.378640</td>\n",
       "      <td>280.253049</td>\n",
       "      <td>1.258597</td>\n",
       "    </tr>\n",
       "    <tr>\n",
       "      <th>0.30</th>\n",
       "      <td>0.235342</td>\n",
       "      <td>293.989782</td>\n",
       "      <td>1.573068</td>\n",
       "    </tr>\n",
       "    <tr>\n",
       "      <th>0.50</th>\n",
       "      <td>0.076589</td>\n",
       "      <td>252.941792</td>\n",
       "      <td>8.649772</td>\n",
       "    </tr>\n",
       "    <tr>\n",
       "      <th>0.75</th>\n",
       "      <td>0.075782</td>\n",
       "      <td>245.679864</td>\n",
       "      <td>8.534957</td>\n",
       "    </tr>\n",
       "    <tr>\n",
       "      <th>0.90</th>\n",
       "      <td>0.071693</td>\n",
       "      <td>184.539611</td>\n",
       "      <td>9.444235</td>\n",
       "    </tr>\n",
       "    <tr>\n",
       "      <th>1.00</th>\n",
       "      <td>0.070781</td>\n",
       "      <td>182.021458</td>\n",
       "      <td>9.149562</td>\n",
       "    </tr>\n",
       "    <tr>\n",
       "      <th>2.00</th>\n",
       "      <td>0.072265</td>\n",
       "      <td>172.099810</td>\n",
       "      <td>9.639419</td>\n",
       "    </tr>\n",
       "    <tr>\n",
       "      <th>5.00</th>\n",
       "      <td>0.072009</td>\n",
       "      <td>169.262422</td>\n",
       "      <td>9.643127</td>\n",
       "    </tr>\n",
       "    <tr>\n",
       "      <th rowspan=\"9\" valign=\"top\">10</th>\n",
       "      <th>0.20</th>\n",
       "      <td>0.357620</td>\n",
       "      <td>267.391885</td>\n",
       "      <td>1.266445</td>\n",
       "    </tr>\n",
       "    <tr>\n",
       "      <th>0.25</th>\n",
       "      <td>0.222965</td>\n",
       "      <td>265.635295</td>\n",
       "      <td>1.432459</td>\n",
       "    </tr>\n",
       "    <tr>\n",
       "      <th>0.30</th>\n",
       "      <td>0.246032</td>\n",
       "      <td>279.667059</td>\n",
       "      <td>1.561152</td>\n",
       "    </tr>\n",
       "    <tr>\n",
       "      <th>0.50</th>\n",
       "      <td>0.079614</td>\n",
       "      <td>188.470596</td>\n",
       "      <td>9.102322</td>\n",
       "    </tr>\n",
       "    <tr>\n",
       "      <th>0.75</th>\n",
       "      <td>0.076941</td>\n",
       "      <td>187.549271</td>\n",
       "      <td>8.164710</td>\n",
       "    </tr>\n",
       "    <tr>\n",
       "      <th>0.90</th>\n",
       "      <td>0.077102</td>\n",
       "      <td>187.035109</td>\n",
       "      <td>8.101708</td>\n",
       "    </tr>\n",
       "    <tr>\n",
       "      <th>1.00</th>\n",
       "      <td>0.076801</td>\n",
       "      <td>186.756548</td>\n",
       "      <td>8.061244</td>\n",
       "    </tr>\n",
       "    <tr>\n",
       "      <th>2.00</th>\n",
       "      <td>0.072286</td>\n",
       "      <td>141.480858</td>\n",
       "      <td>8.819755</td>\n",
       "    </tr>\n",
       "    <tr>\n",
       "      <th>5.00</th>\n",
       "      <td>0.072967</td>\n",
       "      <td>131.532779</td>\n",
       "      <td>8.914460</td>\n",
       "    </tr>\n",
       "    <tr>\n",
       "      <th rowspan=\"9\" valign=\"top\">12</th>\n",
       "      <th>0.20</th>\n",
       "      <td>0.227325</td>\n",
       "      <td>258.455069</td>\n",
       "      <td>1.365606</td>\n",
       "    </tr>\n",
       "    <tr>\n",
       "      <th>0.25</th>\n",
       "      <td>0.237612</td>\n",
       "      <td>245.081114</td>\n",
       "      <td>1.326672</td>\n",
       "    </tr>\n",
       "    <tr>\n",
       "      <th>0.30</th>\n",
       "      <td>0.163992</td>\n",
       "      <td>243.545157</td>\n",
       "      <td>2.443365</td>\n",
       "    </tr>\n",
       "    <tr>\n",
       "      <th>0.50</th>\n",
       "      <td>0.083869</td>\n",
       "      <td>172.476186</td>\n",
       "      <td>7.779352</td>\n",
       "    </tr>\n",
       "    <tr>\n",
       "      <th>0.75</th>\n",
       "      <td>0.079932</td>\n",
       "      <td>154.228521</td>\n",
       "      <td>8.235522</td>\n",
       "    </tr>\n",
       "    <tr>\n",
       "      <th>0.90</th>\n",
       "      <td>0.079344</td>\n",
       "      <td>154.048316</td>\n",
       "      <td>8.155957</td>\n",
       "    </tr>\n",
       "    <tr>\n",
       "      <th>1.00</th>\n",
       "      <td>0.079175</td>\n",
       "      <td>153.601501</td>\n",
       "      <td>8.123698</td>\n",
       "    </tr>\n",
       "    <tr>\n",
       "      <th>2.00</th>\n",
       "      <td>0.078788</td>\n",
       "      <td>152.113658</td>\n",
       "      <td>8.065117</td>\n",
       "    </tr>\n",
       "    <tr>\n",
       "      <th>5.00</th>\n",
       "      <td>0.080214</td>\n",
       "      <td>145.915602</td>\n",
       "      <td>8.044380</td>\n",
       "    </tr>\n",
       "    <tr>\n",
       "      <th rowspan=\"9\" valign=\"top\">14</th>\n",
       "      <th>0.20</th>\n",
       "      <td>0.274823</td>\n",
       "      <td>233.132406</td>\n",
       "      <td>0.957009</td>\n",
       "    </tr>\n",
       "    <tr>\n",
       "      <th>0.25</th>\n",
       "      <td>0.238917</td>\n",
       "      <td>235.682784</td>\n",
       "      <td>1.281378</td>\n",
       "    </tr>\n",
       "    <tr>\n",
       "      <th>0.30</th>\n",
       "      <td>0.141021</td>\n",
       "      <td>229.766178</td>\n",
       "      <td>2.823797</td>\n",
       "    </tr>\n",
       "    <tr>\n",
       "      <th>0.50</th>\n",
       "      <td>0.085860</td>\n",
       "      <td>149.283808</td>\n",
       "      <td>7.701927</td>\n",
       "    </tr>\n",
       "    <tr>\n",
       "      <th>0.75</th>\n",
       "      <td>0.085094</td>\n",
       "      <td>138.653264</td>\n",
       "      <td>7.857280</td>\n",
       "    </tr>\n",
       "    <tr>\n",
       "      <th>0.90</th>\n",
       "      <td>0.084411</td>\n",
       "      <td>138.053848</td>\n",
       "      <td>7.812645</td>\n",
       "    </tr>\n",
       "    <tr>\n",
       "      <th>1.00</th>\n",
       "      <td>0.084417</td>\n",
       "      <td>137.500543</td>\n",
       "      <td>7.853784</td>\n",
       "    </tr>\n",
       "    <tr>\n",
       "      <th>2.00</th>\n",
       "      <td>0.082363</td>\n",
       "      <td>131.158681</td>\n",
       "      <td>8.312657</td>\n",
       "    </tr>\n",
       "    <tr>\n",
       "      <th>5.00</th>\n",
       "      <td>0.084238</td>\n",
       "      <td>127.575095</td>\n",
       "      <td>8.495396</td>\n",
       "    </tr>\n",
       "    <tr>\n",
       "      <th rowspan=\"9\" valign=\"top\">16</th>\n",
       "      <th>0.20</th>\n",
       "      <td>0.211533</td>\n",
       "      <td>231.180466</td>\n",
       "      <td>1.020137</td>\n",
       "    </tr>\n",
       "    <tr>\n",
       "      <th>0.25</th>\n",
       "      <td>0.232423</td>\n",
       "      <td>228.355155</td>\n",
       "      <td>1.048814</td>\n",
       "    </tr>\n",
       "    <tr>\n",
       "      <th>0.30</th>\n",
       "      <td>0.162359</td>\n",
       "      <td>216.492840</td>\n",
       "      <td>2.357349</td>\n",
       "    </tr>\n",
       "    <tr>\n",
       "      <th>0.50</th>\n",
       "      <td>0.100239</td>\n",
       "      <td>131.342002</td>\n",
       "      <td>8.289740</td>\n",
       "    </tr>\n",
       "    <tr>\n",
       "      <th>0.75</th>\n",
       "      <td>0.097533</td>\n",
       "      <td>120.694636</td>\n",
       "      <td>8.673906</td>\n",
       "    </tr>\n",
       "    <tr>\n",
       "      <th>0.90</th>\n",
       "      <td>0.097785</td>\n",
       "      <td>119.849773</td>\n",
       "      <td>8.867141</td>\n",
       "    </tr>\n",
       "    <tr>\n",
       "      <th>1.00</th>\n",
       "      <td>0.096574</td>\n",
       "      <td>119.417636</td>\n",
       "      <td>8.691161</td>\n",
       "    </tr>\n",
       "    <tr>\n",
       "      <th>2.00</th>\n",
       "      <td>0.093288</td>\n",
       "      <td>117.212286</td>\n",
       "      <td>8.760031</td>\n",
       "    </tr>\n",
       "    <tr>\n",
       "      <th>5.00</th>\n",
       "      <td>0.096695</td>\n",
       "      <td>115.896475</td>\n",
       "      <td>8.700558</td>\n",
       "    </tr>\n",
       "    <tr>\n",
       "      <th rowspan=\"9\" valign=\"top\">18</th>\n",
       "      <th>0.20</th>\n",
       "      <td>0.212348</td>\n",
       "      <td>224.189546</td>\n",
       "      <td>1.082029</td>\n",
       "    </tr>\n",
       "    <tr>\n",
       "      <th>0.25</th>\n",
       "      <td>0.232169</td>\n",
       "      <td>222.872274</td>\n",
       "      <td>1.102521</td>\n",
       "    </tr>\n",
       "    <tr>\n",
       "      <th>0.30</th>\n",
       "      <td>0.105787</td>\n",
       "      <td>198.354395</td>\n",
       "      <td>3.732345</td>\n",
       "    </tr>\n",
       "    <tr>\n",
       "      <th>0.50</th>\n",
       "      <td>0.107428</td>\n",
       "      <td>125.079902</td>\n",
       "      <td>7.779835</td>\n",
       "    </tr>\n",
       "    <tr>\n",
       "      <th>0.75</th>\n",
       "      <td>0.106236</td>\n",
       "      <td>111.870768</td>\n",
       "      <td>8.794329</td>\n",
       "    </tr>\n",
       "    <tr>\n",
       "      <th>0.90</th>\n",
       "      <td>0.106723</td>\n",
       "      <td>106.117314</td>\n",
       "      <td>8.944574</td>\n",
       "    </tr>\n",
       "    <tr>\n",
       "      <th>1.00</th>\n",
       "      <td>0.106435</td>\n",
       "      <td>105.846457</td>\n",
       "      <td>9.024218</td>\n",
       "    </tr>\n",
       "    <tr>\n",
       "      <th>2.00</th>\n",
       "      <td>0.104013</td>\n",
       "      <td>105.337397</td>\n",
       "      <td>8.800745</td>\n",
       "    </tr>\n",
       "    <tr>\n",
       "      <th>5.00</th>\n",
       "      <td>0.105179</td>\n",
       "      <td>105.335180</td>\n",
       "      <td>8.876627</td>\n",
       "    </tr>\n",
       "    <tr>\n",
       "      <th rowspan=\"9\" valign=\"top\">20</th>\n",
       "      <th>0.20</th>\n",
       "      <td>0.193447</td>\n",
       "      <td>205.977052</td>\n",
       "      <td>0.991503</td>\n",
       "    </tr>\n",
       "    <tr>\n",
       "      <th>0.25</th>\n",
       "      <td>0.220433</td>\n",
       "      <td>209.975234</td>\n",
       "      <td>1.186930</td>\n",
       "    </tr>\n",
       "    <tr>\n",
       "      <th>0.30</th>\n",
       "      <td>0.086999</td>\n",
       "      <td>185.495730</td>\n",
       "      <td>4.479248</td>\n",
       "    </tr>\n",
       "    <tr>\n",
       "      <th>0.50</th>\n",
       "      <td>0.118305</td>\n",
       "      <td>116.205260</td>\n",
       "      <td>7.994875</td>\n",
       "    </tr>\n",
       "    <tr>\n",
       "      <th>0.75</th>\n",
       "      <td>0.113387</td>\n",
       "      <td>105.251535</td>\n",
       "      <td>7.909187</td>\n",
       "    </tr>\n",
       "    <tr>\n",
       "      <th>0.90</th>\n",
       "      <td>0.114656</td>\n",
       "      <td>104.935145</td>\n",
       "      <td>8.275198</td>\n",
       "    </tr>\n",
       "    <tr>\n",
       "      <th>1.00</th>\n",
       "      <td>0.113790</td>\n",
       "      <td>103.813858</td>\n",
       "      <td>8.197324</td>\n",
       "    </tr>\n",
       "    <tr>\n",
       "      <th>2.00</th>\n",
       "      <td>0.111252</td>\n",
       "      <td>98.587676</td>\n",
       "      <td>8.339391</td>\n",
       "    </tr>\n",
       "    <tr>\n",
       "      <th>5.00</th>\n",
       "      <td>0.112082</td>\n",
       "      <td>99.462477</td>\n",
       "      <td>8.452064</td>\n",
       "    </tr>\n",
       "    <tr>\n",
       "      <th rowspan=\"9\" valign=\"top\">25</th>\n",
       "      <th>0.20</th>\n",
       "      <td>0.131826</td>\n",
       "      <td>183.155479</td>\n",
       "      <td>1.041087</td>\n",
       "    </tr>\n",
       "    <tr>\n",
       "      <th>0.25</th>\n",
       "      <td>0.193965</td>\n",
       "      <td>207.762077</td>\n",
       "      <td>1.351876</td>\n",
       "    </tr>\n",
       "    <tr>\n",
       "      <th>0.30</th>\n",
       "      <td>0.092608</td>\n",
       "      <td>169.223168</td>\n",
       "      <td>4.358255</td>\n",
       "    </tr>\n",
       "    <tr>\n",
       "      <th>0.50</th>\n",
       "      <td>0.126170</td>\n",
       "      <td>94.485446</td>\n",
       "      <td>7.288646</td>\n",
       "    </tr>\n",
       "    <tr>\n",
       "      <th>0.75</th>\n",
       "      <td>0.127486</td>\n",
       "      <td>86.986704</td>\n",
       "      <td>7.738950</td>\n",
       "    </tr>\n",
       "    <tr>\n",
       "      <th>0.90</th>\n",
       "      <td>0.125237</td>\n",
       "      <td>86.589437</td>\n",
       "      <td>7.698216</td>\n",
       "    </tr>\n",
       "    <tr>\n",
       "      <th>1.00</th>\n",
       "      <td>0.124675</td>\n",
       "      <td>86.240318</td>\n",
       "      <td>7.860241</td>\n",
       "    </tr>\n",
       "    <tr>\n",
       "      <th>2.00</th>\n",
       "      <td>0.125298</td>\n",
       "      <td>85.980689</td>\n",
       "      <td>7.921369</td>\n",
       "    </tr>\n",
       "    <tr>\n",
       "      <th>5.00</th>\n",
       "      <td>0.123608</td>\n",
       "      <td>85.107025</td>\n",
       "      <td>8.006366</td>\n",
       "    </tr>\n",
       "    <tr>\n",
       "      <th rowspan=\"9\" valign=\"top\">30</th>\n",
       "      <th>0.20</th>\n",
       "      <td>0.126815</td>\n",
       "      <td>169.724161</td>\n",
       "      <td>1.147449</td>\n",
       "    </tr>\n",
       "    <tr>\n",
       "      <th>0.25</th>\n",
       "      <td>0.089549</td>\n",
       "      <td>184.220304</td>\n",
       "      <td>2.291601</td>\n",
       "    </tr>\n",
       "    <tr>\n",
       "      <th>0.30</th>\n",
       "      <td>0.104985</td>\n",
       "      <td>151.958409</td>\n",
       "      <td>4.762959</td>\n",
       "    </tr>\n",
       "    <tr>\n",
       "      <th>0.50</th>\n",
       "      <td>0.132850</td>\n",
       "      <td>92.746409</td>\n",
       "      <td>7.105346</td>\n",
       "    </tr>\n",
       "    <tr>\n",
       "      <th>0.75</th>\n",
       "      <td>0.127478</td>\n",
       "      <td>73.009554</td>\n",
       "      <td>7.721851</td>\n",
       "    </tr>\n",
       "    <tr>\n",
       "      <th>0.90</th>\n",
       "      <td>0.127424</td>\n",
       "      <td>72.387143</td>\n",
       "      <td>7.701851</td>\n",
       "    </tr>\n",
       "    <tr>\n",
       "      <th>1.00</th>\n",
       "      <td>0.125563</td>\n",
       "      <td>72.470697</td>\n",
       "      <td>7.722281</td>\n",
       "    </tr>\n",
       "    <tr>\n",
       "      <th>2.00</th>\n",
       "      <td>0.127814</td>\n",
       "      <td>72.322372</td>\n",
       "      <td>7.657306</td>\n",
       "    </tr>\n",
       "    <tr>\n",
       "      <th>5.00</th>\n",
       "      <td>0.126687</td>\n",
       "      <td>71.689692</td>\n",
       "      <td>7.801950</td>\n",
       "    </tr>\n",
       "    <tr>\n",
       "      <th rowspan=\"9\" valign=\"top\">35</th>\n",
       "      <th>0.20</th>\n",
       "      <td>0.128837</td>\n",
       "      <td>157.523751</td>\n",
       "      <td>1.271413</td>\n",
       "    </tr>\n",
       "    <tr>\n",
       "      <th>0.25</th>\n",
       "      <td>0.085387</td>\n",
       "      <td>169.677606</td>\n",
       "      <td>2.807638</td>\n",
       "    </tr>\n",
       "    <tr>\n",
       "      <th>0.30</th>\n",
       "      <td>0.119132</td>\n",
       "      <td>144.078128</td>\n",
       "      <td>4.899689</td>\n",
       "    </tr>\n",
       "    <tr>\n",
       "      <th>0.50</th>\n",
       "      <td>0.133727</td>\n",
       "      <td>82.275674</td>\n",
       "      <td>6.986852</td>\n",
       "    </tr>\n",
       "    <tr>\n",
       "      <th>0.75</th>\n",
       "      <td>0.140252</td>\n",
       "      <td>65.452692</td>\n",
       "      <td>7.601269</td>\n",
       "    </tr>\n",
       "    <tr>\n",
       "      <th>0.90</th>\n",
       "      <td>0.138798</td>\n",
       "      <td>62.787235</td>\n",
       "      <td>7.625310</td>\n",
       "    </tr>\n",
       "    <tr>\n",
       "      <th>1.00</th>\n",
       "      <td>0.137019</td>\n",
       "      <td>62.267165</td>\n",
       "      <td>7.692823</td>\n",
       "    </tr>\n",
       "    <tr>\n",
       "      <th>2.00</th>\n",
       "      <td>0.134664</td>\n",
       "      <td>62.289597</td>\n",
       "      <td>7.632524</td>\n",
       "    </tr>\n",
       "    <tr>\n",
       "      <th>5.00</th>\n",
       "      <td>0.136409</td>\n",
       "      <td>62.002677</td>\n",
       "      <td>7.638855</td>\n",
       "    </tr>\n",
       "    <tr>\n",
       "      <th rowspan=\"9\" valign=\"top\">40</th>\n",
       "      <th>0.20</th>\n",
       "      <td>0.137961</td>\n",
       "      <td>153.288466</td>\n",
       "      <td>1.423668</td>\n",
       "    </tr>\n",
       "    <tr>\n",
       "      <th>0.25</th>\n",
       "      <td>0.095631</td>\n",
       "      <td>153.469791</td>\n",
       "      <td>3.122424</td>\n",
       "    </tr>\n",
       "    <tr>\n",
       "      <th>0.30</th>\n",
       "      <td>0.125319</td>\n",
       "      <td>132.626249</td>\n",
       "      <td>4.826601</td>\n",
       "    </tr>\n",
       "    <tr>\n",
       "      <th>0.50</th>\n",
       "      <td>0.144838</td>\n",
       "      <td>72.081299</td>\n",
       "      <td>7.059787</td>\n",
       "    </tr>\n",
       "    <tr>\n",
       "      <th>0.75</th>\n",
       "      <td>0.144076</td>\n",
       "      <td>59.968228</td>\n",
       "      <td>7.322023</td>\n",
       "    </tr>\n",
       "    <tr>\n",
       "      <th>0.90</th>\n",
       "      <td>0.142236</td>\n",
       "      <td>55.619423</td>\n",
       "      <td>7.411204</td>\n",
       "    </tr>\n",
       "    <tr>\n",
       "      <th>1.00</th>\n",
       "      <td>0.139658</td>\n",
       "      <td>56.161915</td>\n",
       "      <td>7.349140</td>\n",
       "    </tr>\n",
       "    <tr>\n",
       "      <th>2.00</th>\n",
       "      <td>0.140153</td>\n",
       "      <td>55.085269</td>\n",
       "      <td>7.459332</td>\n",
       "    </tr>\n",
       "    <tr>\n",
       "      <th>5.00</th>\n",
       "      <td>0.139846</td>\n",
       "      <td>54.906873</td>\n",
       "      <td>7.451787</td>\n",
       "    </tr>\n",
       "  </tbody>\n",
       "</table>\n",
       "</div>"
      ],
      "text/plain": [
       "                  si_score    ch_score   db_score\n",
       "n_clusters delta                                 \n",
       "2          0.20   0.427525  645.860499   0.873594\n",
       "           0.25   0.428439  637.662028   0.867997\n",
       "           0.30   0.428439  637.662028   0.867997\n",
       "           0.50   0.263322  591.262690   2.076430\n",
       "           0.75   0.252516  559.834671   2.140055\n",
       "           0.90   0.249902  550.657008   2.158907\n",
       "           1.00   0.248749  547.459780   2.164529\n",
       "           2.00   0.244404  533.703986   2.192466\n",
       "           5.00   0.242625  526.437885   2.208172\n",
       "4          0.20   0.382459  294.924040   0.894516\n",
       "           0.25   0.383548  325.234850   0.819276\n",
       "           0.30   0.424656  289.843264   1.239586\n",
       "           0.50   0.199576  417.493839   2.609776\n",
       "           0.75   0.184060  403.794279   2.631816\n",
       "           0.90   0.183101  395.750713   2.666604\n",
       "           1.00   0.180977  390.571094   2.697543\n",
       "           2.00   0.180781  371.887233   2.785935\n",
       "           5.00   0.180488  369.340210   2.796649\n",
       "6          0.20   0.278484  313.449205   1.264341\n",
       "           0.25   0.277664  315.117057   1.259170\n",
       "           0.30   0.276948  301.674625   1.498768\n",
       "           0.50   0.064235  270.374595   9.285963\n",
       "           0.75   0.068344  244.953969  10.286319\n",
       "           0.90   0.068433  242.928641  10.292349\n",
       "           1.00   0.068581  240.970203  10.294066\n",
       "           2.00   0.069271  225.789461  10.125554\n",
       "           5.00   0.069425  221.557780  10.226540\n",
       "8          0.20   0.374526  290.584668   1.438576\n",
       "           0.25   0.378640  280.253049   1.258597\n",
       "           0.30   0.235342  293.989782   1.573068\n",
       "           0.50   0.076589  252.941792   8.649772\n",
       "           0.75   0.075782  245.679864   8.534957\n",
       "           0.90   0.071693  184.539611   9.444235\n",
       "           1.00   0.070781  182.021458   9.149562\n",
       "           2.00   0.072265  172.099810   9.639419\n",
       "           5.00   0.072009  169.262422   9.643127\n",
       "10         0.20   0.357620  267.391885   1.266445\n",
       "           0.25   0.222965  265.635295   1.432459\n",
       "           0.30   0.246032  279.667059   1.561152\n",
       "           0.50   0.079614  188.470596   9.102322\n",
       "           0.75   0.076941  187.549271   8.164710\n",
       "           0.90   0.077102  187.035109   8.101708\n",
       "           1.00   0.076801  186.756548   8.061244\n",
       "           2.00   0.072286  141.480858   8.819755\n",
       "           5.00   0.072967  131.532779   8.914460\n",
       "12         0.20   0.227325  258.455069   1.365606\n",
       "           0.25   0.237612  245.081114   1.326672\n",
       "           0.30   0.163992  243.545157   2.443365\n",
       "           0.50   0.083869  172.476186   7.779352\n",
       "           0.75   0.079932  154.228521   8.235522\n",
       "           0.90   0.079344  154.048316   8.155957\n",
       "           1.00   0.079175  153.601501   8.123698\n",
       "           2.00   0.078788  152.113658   8.065117\n",
       "           5.00   0.080214  145.915602   8.044380\n",
       "14         0.20   0.274823  233.132406   0.957009\n",
       "           0.25   0.238917  235.682784   1.281378\n",
       "           0.30   0.141021  229.766178   2.823797\n",
       "           0.50   0.085860  149.283808   7.701927\n",
       "           0.75   0.085094  138.653264   7.857280\n",
       "           0.90   0.084411  138.053848   7.812645\n",
       "           1.00   0.084417  137.500543   7.853784\n",
       "           2.00   0.082363  131.158681   8.312657\n",
       "           5.00   0.084238  127.575095   8.495396\n",
       "16         0.20   0.211533  231.180466   1.020137\n",
       "           0.25   0.232423  228.355155   1.048814\n",
       "           0.30   0.162359  216.492840   2.357349\n",
       "           0.50   0.100239  131.342002   8.289740\n",
       "           0.75   0.097533  120.694636   8.673906\n",
       "           0.90   0.097785  119.849773   8.867141\n",
       "           1.00   0.096574  119.417636   8.691161\n",
       "           2.00   0.093288  117.212286   8.760031\n",
       "           5.00   0.096695  115.896475   8.700558\n",
       "18         0.20   0.212348  224.189546   1.082029\n",
       "           0.25   0.232169  222.872274   1.102521\n",
       "           0.30   0.105787  198.354395   3.732345\n",
       "           0.50   0.107428  125.079902   7.779835\n",
       "           0.75   0.106236  111.870768   8.794329\n",
       "           0.90   0.106723  106.117314   8.944574\n",
       "           1.00   0.106435  105.846457   9.024218\n",
       "           2.00   0.104013  105.337397   8.800745\n",
       "           5.00   0.105179  105.335180   8.876627\n",
       "20         0.20   0.193447  205.977052   0.991503\n",
       "           0.25   0.220433  209.975234   1.186930\n",
       "           0.30   0.086999  185.495730   4.479248\n",
       "           0.50   0.118305  116.205260   7.994875\n",
       "           0.75   0.113387  105.251535   7.909187\n",
       "           0.90   0.114656  104.935145   8.275198\n",
       "           1.00   0.113790  103.813858   8.197324\n",
       "           2.00   0.111252   98.587676   8.339391\n",
       "           5.00   0.112082   99.462477   8.452064\n",
       "25         0.20   0.131826  183.155479   1.041087\n",
       "           0.25   0.193965  207.762077   1.351876\n",
       "           0.30   0.092608  169.223168   4.358255\n",
       "           0.50   0.126170   94.485446   7.288646\n",
       "           0.75   0.127486   86.986704   7.738950\n",
       "           0.90   0.125237   86.589437   7.698216\n",
       "           1.00   0.124675   86.240318   7.860241\n",
       "           2.00   0.125298   85.980689   7.921369\n",
       "           5.00   0.123608   85.107025   8.006366\n",
       "30         0.20   0.126815  169.724161   1.147449\n",
       "           0.25   0.089549  184.220304   2.291601\n",
       "           0.30   0.104985  151.958409   4.762959\n",
       "           0.50   0.132850   92.746409   7.105346\n",
       "           0.75   0.127478   73.009554   7.721851\n",
       "           0.90   0.127424   72.387143   7.701851\n",
       "           1.00   0.125563   72.470697   7.722281\n",
       "           2.00   0.127814   72.322372   7.657306\n",
       "           5.00   0.126687   71.689692   7.801950\n",
       "35         0.20   0.128837  157.523751   1.271413\n",
       "           0.25   0.085387  169.677606   2.807638\n",
       "           0.30   0.119132  144.078128   4.899689\n",
       "           0.50   0.133727   82.275674   6.986852\n",
       "           0.75   0.140252   65.452692   7.601269\n",
       "           0.90   0.138798   62.787235   7.625310\n",
       "           1.00   0.137019   62.267165   7.692823\n",
       "           2.00   0.134664   62.289597   7.632524\n",
       "           5.00   0.136409   62.002677   7.638855\n",
       "40         0.20   0.137961  153.288466   1.423668\n",
       "           0.25   0.095631  153.469791   3.122424\n",
       "           0.30   0.125319  132.626249   4.826601\n",
       "           0.50   0.144838   72.081299   7.059787\n",
       "           0.75   0.144076   59.968228   7.322023\n",
       "           0.90   0.142236   55.619423   7.411204\n",
       "           1.00   0.139658   56.161915   7.349140\n",
       "           2.00   0.140153   55.085269   7.459332\n",
       "           5.00   0.139846   54.906873   7.451787"
      ]
     },
     "metadata": {},
     "output_type": "display_data"
    }
   ],
   "source": [
    "with pd.option_context(\"display.max_rows\", None, \"display.max_columns\", None):\n",
    "    _df = ensemble.groupby([\"n_clusters\", \"delta\"]).mean()\n",
    "    display(_df)"
   ]
  },
  {
   "cell_type": "code",
   "execution_count": 36,
   "metadata": {
    "execution": {
     "iopub.execute_input": "2021-01-13T20:20:11.296439Z",
     "iopub.status.busy": "2021-01-13T20:20:11.296070Z",
     "iopub.status.idle": "2021-01-13T20:20:14.379777Z",
     "shell.execute_reply": "2021-01-13T20:20:14.380077Z"
    },
    "papermill": {
     "duration": 3.107987,
     "end_time": "2021-01-13T20:20:14.380189",
     "exception": false,
     "start_time": "2021-01-13T20:20:11.272202",
     "status": "completed"
    },
    "tags": []
   },
   "outputs": [
    {
     "data": {
      "image/png": "[encoded data removed]",
      "text/plain": [
       "<Figure size 1008x432 with 1 Axes>"
      ]
     },
     "metadata": {},
     "output_type": "display_data"
    }
   ],
   "source": [
    "with sns.plotting_context(\"talk\", font_scale=0.75), sns.axes_style(\n",
    "    \"whitegrid\", {\"grid.linestyle\": \"--\"}\n",
    "):\n",
    "    fig = plt.figure(figsize=(14, 6))\n",
    "    ax = sns.pointplot(data=ensemble, x=\"n_clusters\", y=\"si_score\", hue=\"delta\")\n",
    "    ax.set_ylabel(\"Silhouette index\\n(higher is better)\")\n",
    "    ax.set_xlabel(\"Number of clusters ($k$)\")\n",
    "    ax.set_xticklabels(ax.get_xticklabels(), rotation=45)\n",
    "    plt.grid(True)\n",
    "    plt.tight_layout()"
   ]
  },
  {
   "cell_type": "code",
   "execution_count": 37,
   "metadata": {
    "execution": {
     "iopub.execute_input": "2021-01-13T20:20:14.429775Z",
     "iopub.status.busy": "2021-01-13T20:20:14.429396Z",
     "iopub.status.idle": "2021-01-13T20:20:17.194019Z",
     "shell.execute_reply": "2021-01-13T20:20:17.194310Z"
    },
    "papermill": {
     "duration": 2.79074,
     "end_time": "2021-01-13T20:20:17.194421",
     "exception": false,
     "start_time": "2021-01-13T20:20:14.403681",
     "status": "completed"
    },
    "tags": []
   },
   "outputs": [
    {
     "data": {
      "image/png": "[encoded data removed]",
      "text/plain": [
       "<Figure size 1008x432 with 1 Axes>"
      ]
     },
     "metadata": {},
     "output_type": "display_data"
    }
   ],
   "source": [
    "with sns.plotting_context(\"talk\", font_scale=0.75), sns.axes_style(\n",
    "    \"whitegrid\", {\"grid.linestyle\": \"--\"}\n",
    "):\n",
    "    fig = plt.figure(figsize=(14, 6))\n",
    "    ax = sns.pointplot(data=ensemble, x=\"n_clusters\", y=\"ch_score\", hue=\"delta\")\n",
    "    ax.set_ylabel(\"Calinski-Harabasz index\\n(higher is better)\")\n",
    "    ax.set_xlabel(\"Number of clusters ($k$)\")\n",
    "    ax.set_xticklabels(ax.get_xticklabels(), rotation=45)\n",
    "    plt.grid(True)\n",
    "    plt.tight_layout()"
   ]
  },
  {
   "cell_type": "code",
   "execution_count": 38,
   "metadata": {
    "execution": {
     "iopub.execute_input": "2021-01-13T20:20:17.248448Z",
     "iopub.status.busy": "2021-01-13T20:20:17.248082Z",
     "iopub.status.idle": "2021-01-13T20:20:20.068876Z",
     "shell.execute_reply": "2021-01-13T20:20:20.069167Z"
    },
    "papermill": {
     "duration": 2.849565,
     "end_time": "2021-01-13T20:20:20.069275",
     "exception": false,
     "start_time": "2021-01-13T20:20:17.219710",
     "status": "completed"
    },
    "tags": []
   },
   "outputs": [
    {
     "data": {
      "image/png": "[encoded data removed]",
      "text/plain": [
       "<Figure size 1008x432 with 1 Axes>"
      ]
     },
     "metadata": {},
     "output_type": "display_data"
    }
   ],
   "source": [
    "with sns.plotting_context(\"talk\", font_scale=0.75), sns.axes_style(\n",
    "    \"whitegrid\", {\"grid.linestyle\": \"--\"}\n",
    "):\n",
    "    fig = plt.figure(figsize=(14, 6))\n",
    "    ax = sns.pointplot(data=ensemble, x=\"n_clusters\", y=\"db_score\", hue=\"delta\")\n",
    "    ax.set_ylabel(\"Davies-Bouldin index\\n(lower is better)\")\n",
    "    ax.set_xlabel(\"Number of clusters ($k$)\")\n",
    "    ax.set_xticklabels(ax.get_xticklabels(), rotation=45)\n",
    "    plt.grid(True)\n",
    "    plt.tight_layout()"
   ]
  },
  {
   "cell_type": "code",
   "execution_count": null,
   "metadata": {
    "papermill": {
     "duration": 0.026746,
     "end_time": "2021-01-13T20:20:20.122817",
     "exception": false,
     "start_time": "2021-01-13T20:20:20.096071",
     "status": "completed"
    },
    "tags": []
   },
   "outputs": [],
   "source": []
  }
 ],
 "metadata": {
  "jupytext": {
   "cell_metadata_filter": "all,-execution,-papermill",
   "formats": "ipynb,py//py:percent"
  },
  "kernelspec": {
   "display_name": "Python 3",
   "language": "python",
   "name": "python3"
  },
  "language_info": {
   "codemirror_mode": {
    "name": "ipython",
    "version": 3
   },
   "file_extension": ".py",
   "mimetype": "text/x-python",
   "name": "python",
   "nbconvert_exporter": "python",
   "pygments_lexer": "ipython3",
   "version": "3.8.6"
  },
  "papermill": {
   "default_parameters": {},
   "duration": 18.534318,
   "end_time": "2021-01-13T20:20:20.557043",
   "environment_variables": {},
   "exception": null,
   "input_path": "16_consensus_clustering/pre_analysis/10_01-spectral_clustering-ensemble-pca.ipynb",
   "output_path": "16_consensus_clustering/pre_analysis/10_01-spectral_clustering-ensemble-pca.run.ipynb",
   "parameters": {},
   "start_time": "2021-01-13T20:20:02.022725",
   "version": "2.2.2"
  },
  "toc-autonumbering": true,
  "toc-showcode": false,
  "toc-showmarkdowntxt": false,
  "toc-showtags": false
 },
 "nbformat": 4,
 "nbformat_minor": 4
}
