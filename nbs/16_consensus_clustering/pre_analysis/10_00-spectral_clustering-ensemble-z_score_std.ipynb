{
 "cells": [
  {
   "cell_type": "markdown",
   "metadata": {
    "papermill": {
     "duration": 0.067848,
     "end_time": "2021-01-13T19:56:17.659285",
     "exception": false,
     "start_time": "2021-01-13T19:56:17.591437",
     "status": "completed"
    },
    "tags": []
   },
   "source": [
    "# Description"
   ]
  },
  {
   "cell_type": "markdown",
   "metadata": {
    "papermill": {
     "duration": 0.028627,
     "end_time": "2021-01-13T19:56:17.716214",
     "exception": false,
     "start_time": "2021-01-13T19:56:17.687587",
     "status": "completed"
    },
    "tags": []
   },
   "source": [
    "This notebook evaluates how a spectral clustering method performs as a consensus function. It takes the coassociation matrix, applies several `delta` values to transform it, and computes different clustering quality measures to assess performance. An optimal `delta` value is chosen, and will be used to perform the full analysis later.\n",
    "\n",
    "This notebook loads the `z_score_std` data version to compute two of the clustering quality measures (Calinski-Harabasz and Davies-Bouldin). The Silhouette score is computed on the ensemble distance matrix, so it is not affected by the data loaded. There are other two notebooks that perform exactly the same steps here but loading the `pca` and `umap` data versions."
   ]
  },
  {
   "cell_type": "markdown",
   "metadata": {
    "papermill": {
     "duration": 0.028697,
     "end_time": "2021-01-13T19:56:17.773756",
     "exception": false,
     "start_time": "2021-01-13T19:56:17.745059",
     "status": "completed"
    },
    "tags": []
   },
   "source": [
    "# Environment variables"
   ]
  },
  {
   "cell_type": "code",
   "execution_count": 1,
   "metadata": {
    "execution": {
     "iopub.execute_input": "2021-01-13T19:56:17.837331Z",
     "iopub.status.busy": "2021-01-13T19:56:17.836950Z",
     "iopub.status.idle": "2021-01-13T19:56:17.847373Z",
     "shell.execute_reply": "2021-01-13T19:56:17.847719Z"
    },
    "papermill": {
     "duration": 0.045387,
     "end_time": "2021-01-13T19:56:17.847914",
     "exception": false,
     "start_time": "2021-01-13T19:56:17.802527",
     "status": "completed"
    },
    "tags": []
   },
   "outputs": [
    {
     "data": {
      "text/plain": [
       "3"
      ]
     },
     "metadata": {},
     "output_type": "display_data"
    }
   ],
   "source": [
    "from IPython.display import display\n",
    "\n",
    "import conf\n",
    "\n",
    "N_JOBS = conf.GENERAL[\"N_JOBS\"]\n",
    "display(N_JOBS)"
   ]
  },
  {
   "cell_type": "code",
   "execution_count": 2,
   "metadata": {
    "execution": {
     "iopub.execute_input": "2021-01-13T19:56:17.912799Z",
     "iopub.status.busy": "2021-01-13T19:56:17.912390Z",
     "iopub.status.idle": "2021-01-13T19:56:17.914995Z",
     "shell.execute_reply": "2021-01-13T19:56:17.914616Z"
    },
    "papermill": {
     "duration": 0.036646,
     "end_time": "2021-01-13T19:56:17.915084",
     "exception": false,
     "start_time": "2021-01-13T19:56:17.878438",
     "status": "completed"
    },
    "tags": []
   },
   "outputs": [
    {
     "name": "stdout",
     "output_type": "stream",
     "text": [
      "env: MKL_NUM_THREADS=3\n",
      "env: OPEN_BLAS_NUM_THREADS=3\n",
      "env: NUMEXPR_NUM_THREADS=3\n",
      "env: OMP_NUM_THREADS=3\n"
     ]
    }
   ],
   "source": [
    "%env MKL_NUM_THREADS=$N_JOBS\n",
    "%env OPEN_BLAS_NUM_THREADS=$N_JOBS\n",
    "%env NUMEXPR_NUM_THREADS=$N_JOBS\n",
    "%env OMP_NUM_THREADS=$N_JOBS"
   ]
  },
  {
   "cell_type": "markdown",
   "metadata": {
    "papermill": {
     "duration": 0.029099,
     "end_time": "2021-01-13T19:56:17.974294",
     "exception": false,
     "start_time": "2021-01-13T19:56:17.945195",
     "status": "completed"
    },
    "tags": []
   },
   "source": [
    "# Modules loading"
   ]
  },
  {
   "cell_type": "code",
   "execution_count": 3,
   "metadata": {
    "execution": {
     "iopub.execute_input": "2021-01-13T19:56:18.036850Z",
     "iopub.status.busy": "2021-01-13T19:56:18.036435Z",
     "iopub.status.idle": "2021-01-13T19:56:18.044392Z",
     "shell.execute_reply": "2021-01-13T19:56:18.044021Z"
    },
    "papermill": {
     "duration": 0.039931,
     "end_time": "2021-01-13T19:56:18.044483",
     "exception": false,
     "start_time": "2021-01-13T19:56:18.004552",
     "status": "completed"
    },
    "tags": []
   },
   "outputs": [],
   "source": [
    "%load_ext autoreload\n",
    "%autoreload 2"
   ]
  },
  {
   "cell_type": "code",
   "execution_count": 4,
   "metadata": {
    "execution": {
     "iopub.execute_input": "2021-01-13T19:56:18.106777Z",
     "iopub.status.busy": "2021-01-13T19:56:18.106415Z",
     "iopub.status.idle": "2021-01-13T19:56:18.662362Z",
     "shell.execute_reply": "2021-01-13T19:56:18.661953Z"
    },
    "papermill": {
     "duration": 0.587862,
     "end_time": "2021-01-13T19:56:18.662479",
     "exception": false,
     "start_time": "2021-01-13T19:56:18.074617",
     "status": "completed"
    },
    "tags": []
   },
   "outputs": [],
   "source": [
    "from pathlib import Path\n",
    "import warnings\n",
    "\n",
    "import numpy as np\n",
    "import pandas as pd\n",
    "import matplotlib.pyplot as plt\n",
    "import seaborn as sns\n",
    "\n",
    "from utils import generate_result_set_name"
   ]
  },
  {
   "cell_type": "markdown",
   "metadata": {
    "papermill": {
     "duration": 0.029977,
     "end_time": "2021-01-13T19:56:18.729548",
     "exception": false,
     "start_time": "2021-01-13T19:56:18.699571",
     "status": "completed"
    },
    "tags": []
   },
   "source": [
    "# Settings"
   ]
  },
  {
   "cell_type": "code",
   "execution_count": 5,
   "metadata": {
    "execution": {
     "iopub.execute_input": "2021-01-13T19:56:18.791088Z",
     "iopub.status.busy": "2021-01-13T19:56:18.790725Z",
     "iopub.status.idle": "2021-01-13T19:56:18.800354Z",
     "shell.execute_reply": "2021-01-13T19:56:18.799987Z"
    },
    "papermill": {
     "duration": 0.041588,
     "end_time": "2021-01-13T19:56:18.800442",
     "exception": false,
     "start_time": "2021-01-13T19:56:18.758854",
     "status": "completed"
    },
    "tags": []
   },
   "outputs": [],
   "source": [
    "INITIAL_RANDOM_STATE = 100000"
   ]
  },
  {
   "cell_type": "code",
   "execution_count": 6,
   "metadata": {
    "execution": {
     "iopub.execute_input": "2021-01-13T19:56:18.864962Z",
     "iopub.status.busy": "2021-01-13T19:56:18.864548Z",
     "iopub.status.idle": "2021-01-13T19:56:18.875094Z",
     "shell.execute_reply": "2021-01-13T19:56:18.874720Z"
    },
    "papermill": {
     "duration": 0.043162,
     "end_time": "2021-01-13T19:56:18.875182",
     "exception": false,
     "start_time": "2021-01-13T19:56:18.832020",
     "status": "completed"
    },
    "tags": []
   },
   "outputs": [
    {
     "data": {
      "text/plain": [
       "PosixPath('/home/miltondp/projects/labs/greenelab/phenoplier/base3/results/clustering/consensus_clustering')"
      ]
     },
     "metadata": {},
     "output_type": "display_data"
    }
   ],
   "source": [
    "# output dir for this notebook\n",
    "CONSENSUS_CLUSTERING_DIR = Path(\n",
    "    conf.RESULTS[\"CLUSTERING_DIR\"], \"consensus_clustering\"\n",
    ").resolve()\n",
    "\n",
    "display(CONSENSUS_CLUSTERING_DIR)"
   ]
  },
  {
   "cell_type": "markdown",
   "metadata": {
    "papermill": {
     "duration": 0.029506,
     "end_time": "2021-01-13T19:56:18.935199",
     "exception": false,
     "start_time": "2021-01-13T19:56:18.905693",
     "status": "completed"
    },
    "tags": []
   },
   "source": [
    "# Load data"
   ]
  },
  {
   "cell_type": "code",
   "execution_count": 7,
   "metadata": {
    "execution": {
     "iopub.execute_input": "2021-01-13T19:56:18.997172Z",
     "iopub.status.busy": "2021-01-13T19:56:18.996797Z",
     "iopub.status.idle": "2021-01-13T19:56:19.006602Z",
     "shell.execute_reply": "2021-01-13T19:56:19.006235Z"
    },
    "papermill": {
     "duration": 0.041825,
     "end_time": "2021-01-13T19:56:19.006687",
     "exception": false,
     "start_time": "2021-01-13T19:56:18.964862",
     "status": "completed"
    },
    "tags": []
   },
   "outputs": [],
   "source": [
    "INPUT_SUBSET = \"z_score_std\""
   ]
  },
  {
   "cell_type": "code",
   "execution_count": 8,
   "metadata": {
    "execution": {
     "iopub.execute_input": "2021-01-13T19:56:19.069047Z",
     "iopub.status.busy": "2021-01-13T19:56:19.068639Z",
     "iopub.status.idle": "2021-01-13T19:56:19.078264Z",
     "shell.execute_reply": "2021-01-13T19:56:19.077952Z"
    },
    "papermill": {
     "duration": 0.041835,
     "end_time": "2021-01-13T19:56:19.078355",
     "exception": false,
     "start_time": "2021-01-13T19:56:19.036520",
     "status": "completed"
    },
    "tags": []
   },
   "outputs": [],
   "source": [
    "INPUT_STEM = \"projection-smultixcan-efo_partial-mashr-zscores\""
   ]
  },
  {
   "cell_type": "code",
   "execution_count": 9,
   "metadata": {
    "execution": {
     "iopub.execute_input": "2021-01-13T19:56:19.140988Z",
     "iopub.status.busy": "2021-01-13T19:56:19.140582Z",
     "iopub.status.idle": "2021-01-13T19:56:19.152227Z",
     "shell.execute_reply": "2021-01-13T19:56:19.151847Z"
    },
    "papermill": {
     "duration": 0.043681,
     "end_time": "2021-01-13T19:56:19.152316",
     "exception": false,
     "start_time": "2021-01-13T19:56:19.108635",
     "status": "completed"
    },
    "tags": []
   },
   "outputs": [
    {
     "data": {
      "text/plain": [
       "PosixPath('/home/miltondp/projects/labs/greenelab/phenoplier/base3/results/data_transformations/z_score_std/z_score_std-projection-smultixcan-efo_partial-mashr-zscores.pkl')"
      ]
     },
     "metadata": {},
     "output_type": "display_data"
    },
    {
     "data": {
      "text/plain": [
       "'z_score_std-projection-smultixcan-efo_partial-mashr-zscores'"
      ]
     },
     "metadata": {},
     "output_type": "display_data"
    }
   ],
   "source": [
    "input_filepath = Path(\n",
    "    conf.RESULTS[\"DATA_TRANSFORMATIONS_DIR\"],\n",
    "    INPUT_SUBSET,\n",
    "    f\"{INPUT_SUBSET}-{INPUT_STEM}.pkl\",\n",
    ").resolve()\n",
    "display(input_filepath)\n",
    "\n",
    "assert input_filepath.exists(), \"Input file does not exist\"\n",
    "\n",
    "input_filepath_stem = input_filepath.stem\n",
    "display(input_filepath_stem)"
   ]
  },
  {
   "cell_type": "code",
   "execution_count": 10,
   "metadata": {
    "execution": {
     "iopub.execute_input": "2021-01-13T19:56:19.217364Z",
     "iopub.status.busy": "2021-01-13T19:56:19.216994Z",
     "iopub.status.idle": "2021-01-13T19:56:19.239991Z",
     "shell.execute_reply": "2021-01-13T19:56:19.239589Z"
    },
    "papermill": {
     "duration": 0.055926,
     "end_time": "2021-01-13T19:56:19.240092",
     "exception": false,
     "start_time": "2021-01-13T19:56:19.184166",
     "status": "completed"
    },
    "tags": []
   },
   "outputs": [],
   "source": [
    "data = pd.read_pickle(input_filepath)"
   ]
  },
  {
   "cell_type": "code",
   "execution_count": 11,
   "metadata": {
    "execution": {
     "iopub.execute_input": "2021-01-13T19:56:19.304967Z",
     "iopub.status.busy": "2021-01-13T19:56:19.304522Z",
     "iopub.status.idle": "2021-01-13T19:56:19.314578Z",
     "shell.execute_reply": "2021-01-13T19:56:19.314862Z"
    },
    "papermill": {
     "duration": 0.042977,
     "end_time": "2021-01-13T19:56:19.314970",
     "exception": false,
     "start_time": "2021-01-13T19:56:19.271993",
     "status": "completed"
    },
    "tags": []
   },
   "outputs": [
    {
     "data": {
      "text/plain": [
       "(3749, 987)"
      ]
     },
     "execution_count": 11,
     "metadata": {},
     "output_type": "execute_result"
    }
   ],
   "source": [
    "data.shape"
   ]
  },
  {
   "cell_type": "code",
   "execution_count": 12,
   "metadata": {
    "execution": {
     "iopub.execute_input": "2021-01-13T19:56:19.379527Z",
     "iopub.status.busy": "2021-01-13T19:56:19.379165Z",
     "iopub.status.idle": "2021-01-13T19:56:19.401719Z",
     "shell.execute_reply": "2021-01-13T19:56:19.401410Z"
    },
    "papermill": {
     "duration": 0.055382,
     "end_time": "2021-01-13T19:56:19.401810",
     "exception": false,
     "start_time": "2021-01-13T19:56:19.346428",
     "status": "completed"
    },
    "tags": []
   },
   "outputs": [
    {
     "data": {
      "text/html": [
       "<div>\n",
       "<style scoped>\n",
       "    .dataframe tbody tr th:only-of-type {\n",
       "        vertical-align: middle;\n",
       "    }\n",
       "\n",
       "    .dataframe tbody tr th {\n",
       "        vertical-align: top;\n",
       "    }\n",
       "\n",
       "    .dataframe thead th {\n",
       "        text-align: right;\n",
       "    }\n",
       "</style>\n",
       "<table border=\"1\" class=\"dataframe\">\n",
       "  <thead>\n",
       "    <tr style=\"text-align: right;\">\n",
       "      <th></th>\n",
       "      <th>LV1</th>\n",
       "      <th>LV2</th>\n",
       "      <th>LV3</th>\n",
       "      <th>LV4</th>\n",
       "      <th>LV5</th>\n",
       "      <th>LV6</th>\n",
       "      <th>LV7</th>\n",
       "      <th>LV8</th>\n",
       "      <th>LV9</th>\n",
       "      <th>LV10</th>\n",
       "      <th>...</th>\n",
       "      <th>LV978</th>\n",
       "      <th>LV979</th>\n",
       "      <th>LV980</th>\n",
       "      <th>LV981</th>\n",
       "      <th>LV982</th>\n",
       "      <th>LV983</th>\n",
       "      <th>LV984</th>\n",
       "      <th>LV985</th>\n",
       "      <th>LV986</th>\n",
       "      <th>LV987</th>\n",
       "    </tr>\n",
       "  </thead>\n",
       "  <tbody>\n",
       "    <tr>\n",
       "      <th>100001_raw-Food_weight</th>\n",
       "      <td>-0.553743</td>\n",
       "      <td>1.851060</td>\n",
       "      <td>-0.095721</td>\n",
       "      <td>0.931603</td>\n",
       "      <td>-0.515196</td>\n",
       "      <td>1.371264</td>\n",
       "      <td>-0.413165</td>\n",
       "      <td>0.729668</td>\n",
       "      <td>0.546338</td>\n",
       "      <td>0.901153</td>\n",
       "      <td>...</td>\n",
       "      <td>1.148776</td>\n",
       "      <td>1.649018</td>\n",
       "      <td>-1.375952</td>\n",
       "      <td>2.203063</td>\n",
       "      <td>0.810199</td>\n",
       "      <td>-0.987048</td>\n",
       "      <td>0.277710</td>\n",
       "      <td>-0.607613</td>\n",
       "      <td>0.572376</td>\n",
       "      <td>-0.660846</td>\n",
       "    </tr>\n",
       "    <tr>\n",
       "      <th>100002_raw-Energy</th>\n",
       "      <td>-1.313905</td>\n",
       "      <td>-0.421015</td>\n",
       "      <td>-0.310524</td>\n",
       "      <td>-0.201978</td>\n",
       "      <td>0.233028</td>\n",
       "      <td>0.693838</td>\n",
       "      <td>0.084129</td>\n",
       "      <td>0.572439</td>\n",
       "      <td>0.217866</td>\n",
       "      <td>1.296973</td>\n",
       "      <td>...</td>\n",
       "      <td>0.165430</td>\n",
       "      <td>0.799276</td>\n",
       "      <td>-0.361989</td>\n",
       "      <td>-0.008253</td>\n",
       "      <td>2.063780</td>\n",
       "      <td>-0.930765</td>\n",
       "      <td>-0.147007</td>\n",
       "      <td>1.601938</td>\n",
       "      <td>-0.273553</td>\n",
       "      <td>-0.560822</td>\n",
       "    </tr>\n",
       "    <tr>\n",
       "      <th>100003_raw-Protein</th>\n",
       "      <td>-0.645622</td>\n",
       "      <td>-0.997845</td>\n",
       "      <td>0.249039</td>\n",
       "      <td>0.256499</td>\n",
       "      <td>0.422357</td>\n",
       "      <td>0.829189</td>\n",
       "      <td>-0.169004</td>\n",
       "      <td>0.511550</td>\n",
       "      <td>0.002389</td>\n",
       "      <td>-0.057200</td>\n",
       "      <td>...</td>\n",
       "      <td>1.016791</td>\n",
       "      <td>1.019488</td>\n",
       "      <td>-2.148844</td>\n",
       "      <td>-0.065130</td>\n",
       "      <td>0.041052</td>\n",
       "      <td>-0.836118</td>\n",
       "      <td>-0.320571</td>\n",
       "      <td>1.325519</td>\n",
       "      <td>-0.341494</td>\n",
       "      <td>-0.495786</td>\n",
       "    </tr>\n",
       "    <tr>\n",
       "      <th>100004_raw-Fat</th>\n",
       "      <td>-0.913924</td>\n",
       "      <td>-1.837183</td>\n",
       "      <td>0.012095</td>\n",
       "      <td>-1.301315</td>\n",
       "      <td>0.205794</td>\n",
       "      <td>1.129114</td>\n",
       "      <td>0.019985</td>\n",
       "      <td>0.376660</td>\n",
       "      <td>-0.810272</td>\n",
       "      <td>0.843611</td>\n",
       "      <td>...</td>\n",
       "      <td>0.544266</td>\n",
       "      <td>0.576714</td>\n",
       "      <td>0.281731</td>\n",
       "      <td>-0.218963</td>\n",
       "      <td>1.258957</td>\n",
       "      <td>-1.131924</td>\n",
       "      <td>0.378545</td>\n",
       "      <td>0.842047</td>\n",
       "      <td>-0.622194</td>\n",
       "      <td>-0.160058</td>\n",
       "    </tr>\n",
       "    <tr>\n",
       "      <th>100005_raw-Carbohydrate</th>\n",
       "      <td>-0.523004</td>\n",
       "      <td>0.131379</td>\n",
       "      <td>-0.097802</td>\n",
       "      <td>-0.030526</td>\n",
       "      <td>-0.021500</td>\n",
       "      <td>-0.219116</td>\n",
       "      <td>0.668229</td>\n",
       "      <td>0.365700</td>\n",
       "      <td>1.102347</td>\n",
       "      <td>0.845625</td>\n",
       "      <td>...</td>\n",
       "      <td>-0.344740</td>\n",
       "      <td>0.079274</td>\n",
       "      <td>0.253427</td>\n",
       "      <td>0.236474</td>\n",
       "      <td>1.033895</td>\n",
       "      <td>-0.229105</td>\n",
       "      <td>0.364793</td>\n",
       "      <td>1.776714</td>\n",
       "      <td>0.190531</td>\n",
       "      <td>-1.459641</td>\n",
       "    </tr>\n",
       "  </tbody>\n",
       "</table>\n",
       "<p>5 rows × 987 columns</p>\n",
       "</div>"
      ],
      "text/plain": [
       "                              LV1       LV2       LV3       LV4       LV5  \\\n",
       "100001_raw-Food_weight  -0.553743  1.851060 -0.095721  0.931603 -0.515196   \n",
       "100002_raw-Energy       -1.313905 -0.421015 -0.310524 -0.201978  0.233028   \n",
       "100003_raw-Protein      -0.645622 -0.997845  0.249039  0.256499  0.422357   \n",
       "100004_raw-Fat          -0.913924 -1.837183  0.012095 -1.301315  0.205794   \n",
       "100005_raw-Carbohydrate -0.523004  0.131379 -0.097802 -0.030526 -0.021500   \n",
       "\n",
       "                              LV6       LV7       LV8       LV9      LV10  \\\n",
       "100001_raw-Food_weight   1.371264 -0.413165  0.729668  0.546338  0.901153   \n",
       "100002_raw-Energy        0.693838  0.084129  0.572439  0.217866  1.296973   \n",
       "100003_raw-Protein       0.829189 -0.169004  0.511550  0.002389 -0.057200   \n",
       "100004_raw-Fat           1.129114  0.019985  0.376660 -0.810272  0.843611   \n",
       "100005_raw-Carbohydrate -0.219116  0.668229  0.365700  1.102347  0.845625   \n",
       "\n",
       "                         ...     LV978     LV979     LV980     LV981  \\\n",
       "100001_raw-Food_weight   ...  1.148776  1.649018 -1.375952  2.203063   \n",
       "100002_raw-Energy        ...  0.165430  0.799276 -0.361989 -0.008253   \n",
       "100003_raw-Protein       ...  1.016791  1.019488 -2.148844 -0.065130   \n",
       "100004_raw-Fat           ...  0.544266  0.576714  0.281731 -0.218963   \n",
       "100005_raw-Carbohydrate  ... -0.344740  0.079274  0.253427  0.236474   \n",
       "\n",
       "                            LV982     LV983     LV984     LV985     LV986  \\\n",
       "100001_raw-Food_weight   0.810199 -0.987048  0.277710 -0.607613  0.572376   \n",
       "100002_raw-Energy        2.063780 -0.930765 -0.147007  1.601938 -0.273553   \n",
       "100003_raw-Protein       0.041052 -0.836118 -0.320571  1.325519 -0.341494   \n",
       "100004_raw-Fat           1.258957 -1.131924  0.378545  0.842047 -0.622194   \n",
       "100005_raw-Carbohydrate  1.033895 -0.229105  0.364793  1.776714  0.190531   \n",
       "\n",
       "                            LV987  \n",
       "100001_raw-Food_weight  -0.660846  \n",
       "100002_raw-Energy       -0.560822  \n",
       "100003_raw-Protein      -0.495786  \n",
       "100004_raw-Fat          -0.160058  \n",
       "100005_raw-Carbohydrate -1.459641  \n",
       "\n",
       "[5 rows x 987 columns]"
      ]
     },
     "execution_count": 12,
     "metadata": {},
     "output_type": "execute_result"
    }
   ],
   "source": [
    "data.head()"
   ]
  },
  {
   "cell_type": "code",
   "execution_count": 13,
   "metadata": {
    "execution": {
     "iopub.execute_input": "2021-01-13T19:56:19.467764Z",
     "iopub.status.busy": "2021-01-13T19:56:19.467404Z",
     "iopub.status.idle": "2021-01-13T19:56:19.477214Z",
     "shell.execute_reply": "2021-01-13T19:56:19.476866Z"
    },
    "papermill": {
     "duration": 0.043511,
     "end_time": "2021-01-13T19:56:19.477305",
     "exception": false,
     "start_time": "2021-01-13T19:56:19.433794",
     "status": "completed"
    },
    "tags": []
   },
   "outputs": [],
   "source": [
    "traits = data.index.tolist()"
   ]
  },
  {
   "cell_type": "code",
   "execution_count": 14,
   "metadata": {
    "execution": {
     "iopub.execute_input": "2021-01-13T19:56:19.543196Z",
     "iopub.status.busy": "2021-01-13T19:56:19.542838Z",
     "iopub.status.idle": "2021-01-13T19:56:19.553375Z",
     "shell.execute_reply": "2021-01-13T19:56:19.553002Z"
    },
    "papermill": {
     "duration": 0.044436,
     "end_time": "2021-01-13T19:56:19.553462",
     "exception": false,
     "start_time": "2021-01-13T19:56:19.509026",
     "status": "completed"
    },
    "tags": []
   },
   "outputs": [
    {
     "data": {
      "text/plain": [
       "3749"
      ]
     },
     "execution_count": 14,
     "metadata": {},
     "output_type": "execute_result"
    }
   ],
   "source": [
    "len(traits)"
   ]
  },
  {
   "cell_type": "markdown",
   "metadata": {
    "papermill": {
     "duration": 0.031238,
     "end_time": "2021-01-13T19:56:19.617587",
     "exception": false,
     "start_time": "2021-01-13T19:56:19.586349",
     "status": "completed"
    },
    "tags": []
   },
   "source": [
    "# Ensemble (coassociation matrix)"
   ]
  },
  {
   "cell_type": "code",
   "execution_count": 15,
   "metadata": {
    "execution": {
     "iopub.execute_input": "2021-01-13T19:56:19.683115Z",
     "iopub.status.busy": "2021-01-13T19:56:19.682743Z",
     "iopub.status.idle": "2021-01-13T19:56:19.693541Z",
     "shell.execute_reply": "2021-01-13T19:56:19.693170Z"
    },
    "papermill": {
     "duration": 0.044394,
     "end_time": "2021-01-13T19:56:19.693628",
     "exception": false,
     "start_time": "2021-01-13T19:56:19.649234",
     "status": "completed"
    },
    "tags": []
   },
   "outputs": [
    {
     "data": {
      "text/plain": [
       "PosixPath('/home/miltondp/projects/labs/greenelab/phenoplier/base3/results/clustering/consensus_clustering/ensemble_coassoc_matrix.npy')"
      ]
     },
     "metadata": {},
     "output_type": "display_data"
    }
   ],
   "source": [
    "input_file = Path(CONSENSUS_CLUSTERING_DIR, \"ensemble_coassoc_matrix.npy\").resolve()\n",
    "display(input_file)"
   ]
  },
  {
   "cell_type": "code",
   "execution_count": 16,
   "metadata": {
    "execution": {
     "iopub.execute_input": "2021-01-13T19:56:19.760054Z",
     "iopub.status.busy": "2021-01-13T19:56:19.759681Z",
     "iopub.status.idle": "2021-01-13T19:56:19.791650Z",
     "shell.execute_reply": "2021-01-13T19:56:19.791201Z"
    },
    "papermill": {
     "duration": 0.06558,
     "end_time": "2021-01-13T19:56:19.791756",
     "exception": false,
     "start_time": "2021-01-13T19:56:19.726176",
     "status": "completed"
    },
    "tags": []
   },
   "outputs": [],
   "source": [
    "coassoc_matrix = np.load(input_file)"
   ]
  },
  {
   "cell_type": "code",
   "execution_count": 17,
   "metadata": {
    "execution": {
     "iopub.execute_input": "2021-01-13T19:56:19.866029Z",
     "iopub.status.busy": "2021-01-13T19:56:19.865666Z",
     "iopub.status.idle": "2021-01-13T19:56:19.876160Z",
     "shell.execute_reply": "2021-01-13T19:56:19.875813Z"
    },
    "papermill": {
     "duration": 0.046273,
     "end_time": "2021-01-13T19:56:19.876262",
     "exception": false,
     "start_time": "2021-01-13T19:56:19.829989",
     "status": "completed"
    },
    "tags": []
   },
   "outputs": [],
   "source": [
    "coassoc_matrix = pd.DataFrame(\n",
    "    data=coassoc_matrix,\n",
    "    index=traits,\n",
    "    columns=traits,\n",
    ")"
   ]
  },
  {
   "cell_type": "code",
   "execution_count": 18,
   "metadata": {
    "execution": {
     "iopub.execute_input": "2021-01-13T19:56:19.944964Z",
     "iopub.status.busy": "2021-01-13T19:56:19.944519Z",
     "iopub.status.idle": "2021-01-13T19:56:19.954900Z",
     "shell.execute_reply": "2021-01-13T19:56:19.954557Z"
    },
    "papermill": {
     "duration": 0.044928,
     "end_time": "2021-01-13T19:56:19.954990",
     "exception": false,
     "start_time": "2021-01-13T19:56:19.910062",
     "status": "completed"
    },
    "tags": []
   },
   "outputs": [
    {
     "data": {
      "text/plain": [
       "(3749, 3749)"
      ]
     },
     "execution_count": 18,
     "metadata": {},
     "output_type": "execute_result"
    }
   ],
   "source": [
    "coassoc_matrix.shape"
   ]
  },
  {
   "cell_type": "code",
   "execution_count": 19,
   "metadata": {
    "execution": {
     "iopub.execute_input": "2021-01-13T19:56:20.023688Z",
     "iopub.status.busy": "2021-01-13T19:56:20.023316Z",
     "iopub.status.idle": "2021-01-13T19:56:20.045727Z",
     "shell.execute_reply": "2021-01-13T19:56:20.045349Z"
    },
    "papermill": {
     "duration": 0.057377,
     "end_time": "2021-01-13T19:56:20.045817",
     "exception": false,
     "start_time": "2021-01-13T19:56:19.988440",
     "status": "completed"
    },
    "tags": []
   },
   "outputs": [
    {
     "data": {
      "text/html": [
       "<div>\n",
       "<style scoped>\n",
       "    .dataframe tbody tr th:only-of-type {\n",
       "        vertical-align: middle;\n",
       "    }\n",
       "\n",
       "    .dataframe tbody tr th {\n",
       "        vertical-align: top;\n",
       "    }\n",
       "\n",
       "    .dataframe thead th {\n",
       "        text-align: right;\n",
       "    }\n",
       "</style>\n",
       "<table border=\"1\" class=\"dataframe\">\n",
       "  <thead>\n",
       "    <tr style=\"text-align: right;\">\n",
       "      <th></th>\n",
       "      <th>100001_raw-Food_weight</th>\n",
       "      <th>100002_raw-Energy</th>\n",
       "      <th>100003_raw-Protein</th>\n",
       "      <th>100004_raw-Fat</th>\n",
       "      <th>100005_raw-Carbohydrate</th>\n",
       "      <th>100006_raw-Saturated_fat</th>\n",
       "      <th>100007_raw-Polyunsaturated_fat</th>\n",
       "      <th>100008_raw-Total_sugars</th>\n",
       "      <th>100009_raw-Englyst_dietary_fibre</th>\n",
       "      <th>100010-Portion_size</th>\n",
       "      <th>...</th>\n",
       "      <th>visual impairment</th>\n",
       "      <th>vitiligo</th>\n",
       "      <th>vitreous body disease</th>\n",
       "      <th>vocal cord polyp</th>\n",
       "      <th>voice disorders</th>\n",
       "      <th>wellbeing measurement AND family relationship</th>\n",
       "      <th>wheezing</th>\n",
       "      <th>whooping cough</th>\n",
       "      <th>worry measurement</th>\n",
       "      <th>wrist fracture</th>\n",
       "    </tr>\n",
       "  </thead>\n",
       "  <tbody>\n",
       "    <tr>\n",
       "      <th>100001_raw-Food_weight</th>\n",
       "      <td>0.000000</td>\n",
       "      <td>0.056159</td>\n",
       "      <td>0.053895</td>\n",
       "      <td>0.076313</td>\n",
       "      <td>0.057518</td>\n",
       "      <td>0.075634</td>\n",
       "      <td>0.074728</td>\n",
       "      <td>0.057971</td>\n",
       "      <td>0.055480</td>\n",
       "      <td>0.567482</td>\n",
       "      <td>...</td>\n",
       "      <td>0.604223</td>\n",
       "      <td>0.602355</td>\n",
       "      <td>0.594564</td>\n",
       "      <td>0.603261</td>\n",
       "      <td>0.582428</td>\n",
       "      <td>0.548731</td>\n",
       "      <td>0.690641</td>\n",
       "      <td>0.599864</td>\n",
       "      <td>0.661714</td>\n",
       "      <td>0.667572</td>\n",
       "    </tr>\n",
       "    <tr>\n",
       "      <th>100002_raw-Energy</th>\n",
       "      <td>0.056159</td>\n",
       "      <td>0.000000</td>\n",
       "      <td>0.027400</td>\n",
       "      <td>0.044837</td>\n",
       "      <td>0.021966</td>\n",
       "      <td>0.045743</td>\n",
       "      <td>0.067482</td>\n",
       "      <td>0.031250</td>\n",
       "      <td>0.048007</td>\n",
       "      <td>0.561368</td>\n",
       "      <td>...</td>\n",
       "      <td>0.606040</td>\n",
       "      <td>0.604393</td>\n",
       "      <td>0.594337</td>\n",
       "      <td>0.606431</td>\n",
       "      <td>0.585824</td>\n",
       "      <td>0.571170</td>\n",
       "      <td>0.687644</td>\n",
       "      <td>0.601223</td>\n",
       "      <td>0.659886</td>\n",
       "      <td>0.665308</td>\n",
       "    </tr>\n",
       "    <tr>\n",
       "      <th>100003_raw-Protein</th>\n",
       "      <td>0.053895</td>\n",
       "      <td>0.027400</td>\n",
       "      <td>0.000000</td>\n",
       "      <td>0.046875</td>\n",
       "      <td>0.018116</td>\n",
       "      <td>0.047781</td>\n",
       "      <td>0.064764</td>\n",
       "      <td>0.032382</td>\n",
       "      <td>0.050951</td>\n",
       "      <td>0.558424</td>\n",
       "      <td>...</td>\n",
       "      <td>0.602634</td>\n",
       "      <td>0.601676</td>\n",
       "      <td>0.592525</td>\n",
       "      <td>0.603487</td>\n",
       "      <td>0.581975</td>\n",
       "      <td>0.571850</td>\n",
       "      <td>0.691102</td>\n",
       "      <td>0.597826</td>\n",
       "      <td>0.661029</td>\n",
       "      <td>0.662817</td>\n",
       "    </tr>\n",
       "    <tr>\n",
       "      <th>100004_raw-Fat</th>\n",
       "      <td>0.076313</td>\n",
       "      <td>0.044837</td>\n",
       "      <td>0.046875</td>\n",
       "      <td>0.000000</td>\n",
       "      <td>0.045516</td>\n",
       "      <td>0.004755</td>\n",
       "      <td>0.046196</td>\n",
       "      <td>0.028306</td>\n",
       "      <td>0.057971</td>\n",
       "      <td>0.551857</td>\n",
       "      <td>...</td>\n",
       "      <td>0.590372</td>\n",
       "      <td>0.589674</td>\n",
       "      <td>0.578256</td>\n",
       "      <td>0.595788</td>\n",
       "      <td>0.571332</td>\n",
       "      <td>0.585902</td>\n",
       "      <td>0.692254</td>\n",
       "      <td>0.588315</td>\n",
       "      <td>0.667429</td>\n",
       "      <td>0.666667</td>\n",
       "    </tr>\n",
       "    <tr>\n",
       "      <th>100005_raw-Carbohydrate</th>\n",
       "      <td>0.057518</td>\n",
       "      <td>0.021966</td>\n",
       "      <td>0.018116</td>\n",
       "      <td>0.045516</td>\n",
       "      <td>0.000000</td>\n",
       "      <td>0.046196</td>\n",
       "      <td>0.067935</td>\n",
       "      <td>0.025589</td>\n",
       "      <td>0.050045</td>\n",
       "      <td>0.559783</td>\n",
       "      <td>...</td>\n",
       "      <td>0.605813</td>\n",
       "      <td>0.604393</td>\n",
       "      <td>0.593205</td>\n",
       "      <td>0.604846</td>\n",
       "      <td>0.584692</td>\n",
       "      <td>0.574569</td>\n",
       "      <td>0.687414</td>\n",
       "      <td>0.600543</td>\n",
       "      <td>0.657143</td>\n",
       "      <td>0.662817</td>\n",
       "    </tr>\n",
       "  </tbody>\n",
       "</table>\n",
       "<p>5 rows × 3749 columns</p>\n",
       "</div>"
      ],
      "text/plain": [
       "                         100001_raw-Food_weight  100002_raw-Energy  \\\n",
       "100001_raw-Food_weight                 0.000000           0.056159   \n",
       "100002_raw-Energy                      0.056159           0.000000   \n",
       "100003_raw-Protein                     0.053895           0.027400   \n",
       "100004_raw-Fat                         0.076313           0.044837   \n",
       "100005_raw-Carbohydrate                0.057518           0.021966   \n",
       "\n",
       "                         100003_raw-Protein  100004_raw-Fat  \\\n",
       "100001_raw-Food_weight             0.053895        0.076313   \n",
       "100002_raw-Energy                  0.027400        0.044837   \n",
       "100003_raw-Protein                 0.000000        0.046875   \n",
       "100004_raw-Fat                     0.046875        0.000000   \n",
       "100005_raw-Carbohydrate            0.018116        0.045516   \n",
       "\n",
       "                         100005_raw-Carbohydrate  100006_raw-Saturated_fat  \\\n",
       "100001_raw-Food_weight                  0.057518                  0.075634   \n",
       "100002_raw-Energy                       0.021966                  0.045743   \n",
       "100003_raw-Protein                      0.018116                  0.047781   \n",
       "100004_raw-Fat                          0.045516                  0.004755   \n",
       "100005_raw-Carbohydrate                 0.000000                  0.046196   \n",
       "\n",
       "                         100007_raw-Polyunsaturated_fat  \\\n",
       "100001_raw-Food_weight                         0.074728   \n",
       "100002_raw-Energy                              0.067482   \n",
       "100003_raw-Protein                             0.064764   \n",
       "100004_raw-Fat                                 0.046196   \n",
       "100005_raw-Carbohydrate                        0.067935   \n",
       "\n",
       "                         100008_raw-Total_sugars  \\\n",
       "100001_raw-Food_weight                  0.057971   \n",
       "100002_raw-Energy                       0.031250   \n",
       "100003_raw-Protein                      0.032382   \n",
       "100004_raw-Fat                          0.028306   \n",
       "100005_raw-Carbohydrate                 0.025589   \n",
       "\n",
       "                         100009_raw-Englyst_dietary_fibre  \\\n",
       "100001_raw-Food_weight                           0.055480   \n",
       "100002_raw-Energy                                0.048007   \n",
       "100003_raw-Protein                               0.050951   \n",
       "100004_raw-Fat                                   0.057971   \n",
       "100005_raw-Carbohydrate                          0.050045   \n",
       "\n",
       "                         100010-Portion_size  ...  visual impairment  \\\n",
       "100001_raw-Food_weight              0.567482  ...           0.604223   \n",
       "100002_raw-Energy                   0.561368  ...           0.606040   \n",
       "100003_raw-Protein                  0.558424  ...           0.602634   \n",
       "100004_raw-Fat                      0.551857  ...           0.590372   \n",
       "100005_raw-Carbohydrate             0.559783  ...           0.605813   \n",
       "\n",
       "                         vitiligo  vitreous body disease  vocal cord polyp  \\\n",
       "100001_raw-Food_weight   0.602355               0.594564          0.603261   \n",
       "100002_raw-Energy        0.604393               0.594337          0.606431   \n",
       "100003_raw-Protein       0.601676               0.592525          0.603487   \n",
       "100004_raw-Fat           0.589674               0.578256          0.595788   \n",
       "100005_raw-Carbohydrate  0.604393               0.593205          0.604846   \n",
       "\n",
       "                         voice disorders  \\\n",
       "100001_raw-Food_weight          0.582428   \n",
       "100002_raw-Energy               0.585824   \n",
       "100003_raw-Protein              0.581975   \n",
       "100004_raw-Fat                  0.571332   \n",
       "100005_raw-Carbohydrate         0.584692   \n",
       "\n",
       "                         wellbeing measurement AND family relationship  \\\n",
       "100001_raw-Food_weight                                        0.548731   \n",
       "100002_raw-Energy                                             0.571170   \n",
       "100003_raw-Protein                                            0.571850   \n",
       "100004_raw-Fat                                                0.585902   \n",
       "100005_raw-Carbohydrate                                       0.574569   \n",
       "\n",
       "                         wheezing  whooping cough  worry measurement  \\\n",
       "100001_raw-Food_weight   0.690641        0.599864           0.661714   \n",
       "100002_raw-Energy        0.687644        0.601223           0.659886   \n",
       "100003_raw-Protein       0.691102        0.597826           0.661029   \n",
       "100004_raw-Fat           0.692254        0.588315           0.667429   \n",
       "100005_raw-Carbohydrate  0.687414        0.600543           0.657143   \n",
       "\n",
       "                         wrist fracture  \n",
       "100001_raw-Food_weight         0.667572  \n",
       "100002_raw-Energy              0.665308  \n",
       "100003_raw-Protein             0.662817  \n",
       "100004_raw-Fat                 0.666667  \n",
       "100005_raw-Carbohydrate        0.662817  \n",
       "\n",
       "[5 rows x 3749 columns]"
      ]
     },
     "execution_count": 19,
     "metadata": {},
     "output_type": "execute_result"
    }
   ],
   "source": [
    "coassoc_matrix.head()"
   ]
  },
  {
   "cell_type": "code",
   "execution_count": 20,
   "metadata": {
    "execution": {
     "iopub.execute_input": "2021-01-13T19:56:20.115364Z",
     "iopub.status.busy": "2021-01-13T19:56:20.114991Z",
     "iopub.status.idle": "2021-01-13T19:56:20.124775Z",
     "shell.execute_reply": "2021-01-13T19:56:20.124363Z"
    },
    "papermill": {
     "duration": 0.044845,
     "end_time": "2021-01-13T19:56:20.124865",
     "exception": false,
     "start_time": "2021-01-13T19:56:20.080020",
     "status": "completed"
    },
    "tags": []
   },
   "outputs": [],
   "source": [
    "dist_matrix = coassoc_matrix"
   ]
  },
  {
   "cell_type": "markdown",
   "metadata": {
    "papermill": {
     "duration": 0.033092,
     "end_time": "2021-01-13T19:56:20.191321",
     "exception": false,
     "start_time": "2021-01-13T19:56:20.158229",
     "status": "completed"
    },
    "tags": []
   },
   "source": [
    "# Clustering"
   ]
  },
  {
   "cell_type": "code",
   "execution_count": 21,
   "metadata": {
    "execution": {
     "iopub.execute_input": "2021-01-13T19:56:20.260359Z",
     "iopub.status.busy": "2021-01-13T19:56:20.259985Z",
     "iopub.status.idle": "2021-01-13T19:56:20.389914Z",
     "shell.execute_reply": "2021-01-13T19:56:20.389523Z"
    },
    "papermill": {
     "duration": 0.165589,
     "end_time": "2021-01-13T19:56:20.390006",
     "exception": false,
     "start_time": "2021-01-13T19:56:20.224417",
     "status": "completed"
    },
    "tags": []
   },
   "outputs": [],
   "source": [
    "from sklearn.cluster import SpectralClustering\n",
    "from sklearn.metrics import (\n",
    "    silhouette_score,\n",
    "    calinski_harabasz_score,\n",
    "    davies_bouldin_score,\n",
    ")\n",
    "\n",
    "from clustering.utils import compute_performance"
   ]
  },
  {
   "cell_type": "markdown",
   "metadata": {
    "papermill": {
     "duration": 0.032343,
     "end_time": "2021-01-13T19:56:20.455101",
     "exception": false,
     "start_time": "2021-01-13T19:56:20.422758",
     "status": "completed"
    },
    "tags": []
   },
   "source": [
    "## `delta` parameter (gaussian kernel)"
   ]
  },
  {
   "cell_type": "markdown",
   "metadata": {
    "papermill": {
     "duration": 0.032465,
     "end_time": "2021-01-13T19:56:20.520347",
     "exception": false,
     "start_time": "2021-01-13T19:56:20.487882",
     "status": "completed"
    },
    "tags": []
   },
   "source": [
    "### `delta=1.0`"
   ]
  },
  {
   "cell_type": "code",
   "execution_count": 22,
   "metadata": {
    "execution": {
     "iopub.execute_input": "2021-01-13T19:56:20.588631Z",
     "iopub.status.busy": "2021-01-13T19:56:20.588270Z",
     "iopub.status.idle": "2021-01-13T19:56:20.598918Z",
     "shell.execute_reply": "2021-01-13T19:56:20.598537Z"
    },
    "papermill": {
     "duration": 0.045674,
     "end_time": "2021-01-13T19:56:20.599009",
     "exception": false,
     "start_time": "2021-01-13T19:56:20.553335",
     "status": "completed"
    },
    "tags": []
   },
   "outputs": [],
   "source": [
    "delta = 1.0"
   ]
  },
  {
   "cell_type": "code",
   "execution_count": 23,
   "metadata": {
    "execution": {
     "iopub.execute_input": "2021-01-13T19:56:20.667840Z",
     "iopub.status.busy": "2021-01-13T19:56:20.667471Z",
     "iopub.status.idle": "2021-01-13T19:56:21.857189Z",
     "shell.execute_reply": "2021-01-13T19:56:21.857495Z"
    },
    "papermill": {
     "duration": 1.225663,
     "end_time": "2021-01-13T19:56:21.857612",
     "exception": false,
     "start_time": "2021-01-13T19:56:20.631949",
     "status": "completed"
    },
    "tags": []
   },
   "outputs": [],
   "source": [
    "with warnings.catch_warnings():\n",
    "    warnings.filterwarnings(\"always\")\n",
    "\n",
    "    sim_matrix = np.exp(-(dist_matrix ** 2) / (2.0 * delta ** 2))\n",
    "\n",
    "    clus = SpectralClustering(\n",
    "        eigen_solver=\"arpack\",\n",
    "        #         eigen_tol=1e-3,\n",
    "        n_clusters=2,\n",
    "        n_init=10,\n",
    "        affinity=\"precomputed\",\n",
    "        random_state=INITIAL_RANDOM_STATE,\n",
    "    )\n",
    "\n",
    "    part = clus.fit_predict(sim_matrix)"
   ]
  },
  {
   "cell_type": "code",
   "execution_count": 24,
   "metadata": {
    "execution": {
     "iopub.execute_input": "2021-01-13T19:56:21.928126Z",
     "iopub.status.busy": "2021-01-13T19:56:21.927752Z",
     "iopub.status.idle": "2021-01-13T19:56:21.940404Z",
     "shell.execute_reply": "2021-01-13T19:56:21.940026Z"
    },
    "papermill": {
     "duration": 0.048154,
     "end_time": "2021-01-13T19:56:21.940494",
     "exception": false,
     "start_time": "2021-01-13T19:56:21.892340",
     "status": "completed"
    },
    "tags": []
   },
   "outputs": [
    {
     "data": {
      "text/plain": [
       "0    3179\n",
       "1     570\n",
       "dtype: int64"
      ]
     },
     "execution_count": 24,
     "metadata": {},
     "output_type": "execute_result"
    }
   ],
   "source": [
    "# show number of clusters and their size\n",
    "pd.Series(part).value_counts()"
   ]
  },
  {
   "cell_type": "code",
   "execution_count": 25,
   "metadata": {
    "execution": {
     "iopub.execute_input": "2021-01-13T19:56:22.009536Z",
     "iopub.status.busy": "2021-01-13T19:56:22.008840Z",
     "iopub.status.idle": "2021-01-13T19:56:22.217091Z",
     "shell.execute_reply": "2021-01-13T19:56:22.217448Z"
    },
    "papermill": {
     "duration": 0.244208,
     "end_time": "2021-01-13T19:56:22.217583",
     "exception": false,
     "start_time": "2021-01-13T19:56:21.973375",
     "status": "completed"
    },
    "tags": []
   },
   "outputs": [
    {
     "data": {
      "text/plain": [
       "'Silhouette (higher is better): 0.249'"
      ]
     },
     "metadata": {},
     "output_type": "display_data"
    },
    {
     "data": {
      "text/plain": [
       "'Calinski-Harabasz (higher is better): 133.181'"
      ]
     },
     "metadata": {},
     "output_type": "display_data"
    },
    {
     "data": {
      "text/plain": [
       "'Davies-Bouldin (lower is better): 4.253'"
      ]
     },
     "metadata": {},
     "output_type": "display_data"
    }
   ],
   "source": [
    "compute_performance(data, part, data_distance_matrix=dist_matrix)"
   ]
  },
  {
   "cell_type": "markdown",
   "metadata": {
    "papermill": {
     "duration": 0.035359,
     "end_time": "2021-01-13T19:56:22.293776",
     "exception": false,
     "start_time": "2021-01-13T19:56:22.258417",
     "status": "completed"
    },
    "tags": []
   },
   "source": [
    "For `delta=1.0`, the algorithm works/converges fine with this data version."
   ]
  },
  {
   "cell_type": "markdown",
   "metadata": {
    "papermill": {
     "duration": 0.03489,
     "end_time": "2021-01-13T19:56:22.362435",
     "exception": false,
     "start_time": "2021-01-13T19:56:22.327545",
     "status": "completed"
    },
    "tags": []
   },
   "source": [
    "### `delta>1.0`"
   ]
  },
  {
   "cell_type": "code",
   "execution_count": 26,
   "metadata": {
    "execution": {
     "iopub.execute_input": "2021-01-13T19:56:22.456730Z",
     "iopub.status.busy": "2021-01-13T19:56:22.456341Z",
     "iopub.status.idle": "2021-01-13T19:56:22.466899Z",
     "shell.execute_reply": "2021-01-13T19:56:22.466568Z"
    },
    "papermill": {
     "duration": 0.051148,
     "end_time": "2021-01-13T19:56:22.466992",
     "exception": false,
     "start_time": "2021-01-13T19:56:22.415844",
     "status": "completed"
    },
    "tags": []
   },
   "outputs": [],
   "source": [
    "delta = 10.0"
   ]
  },
  {
   "cell_type": "code",
   "execution_count": 27,
   "metadata": {
    "execution": {
     "iopub.execute_input": "2021-01-13T19:56:22.540140Z",
     "iopub.status.busy": "2021-01-13T19:56:22.539773Z",
     "iopub.status.idle": "2021-01-13T19:56:23.705651Z",
     "shell.execute_reply": "2021-01-13T19:56:23.705951Z"
    },
    "papermill": {
     "duration": 1.202891,
     "end_time": "2021-01-13T19:56:23.706068",
     "exception": false,
     "start_time": "2021-01-13T19:56:22.503177",
     "status": "completed"
    },
    "tags": []
   },
   "outputs": [],
   "source": [
    "with warnings.catch_warnings():\n",
    "    warnings.filterwarnings(\"always\")\n",
    "\n",
    "    sim_matrix = np.exp(-(dist_matrix ** 2) / (2.0 * delta ** 2))\n",
    "\n",
    "    clus = SpectralClustering(\n",
    "        eigen_solver=\"arpack\",\n",
    "        #         eigen_tol=1e-3,\n",
    "        n_clusters=2,\n",
    "        n_init=10,\n",
    "        affinity=\"precomputed\",\n",
    "        random_state=INITIAL_RANDOM_STATE,\n",
    "    )\n",
    "\n",
    "    part = clus.fit_predict(sim_matrix)"
   ]
  },
  {
   "cell_type": "code",
   "execution_count": 28,
   "metadata": {
    "execution": {
     "iopub.execute_input": "2021-01-13T19:56:23.778483Z",
     "iopub.status.busy": "2021-01-13T19:56:23.778120Z",
     "iopub.status.idle": "2021-01-13T19:56:23.790414Z",
     "shell.execute_reply": "2021-01-13T19:56:23.790034Z"
    },
    "papermill": {
     "duration": 0.049245,
     "end_time": "2021-01-13T19:56:23.790503",
     "exception": false,
     "start_time": "2021-01-13T19:56:23.741258",
     "status": "completed"
    },
    "tags": []
   },
   "outputs": [
    {
     "data": {
      "text/plain": [
       "0    3147\n",
       "1     602\n",
       "dtype: int64"
      ]
     },
     "execution_count": 28,
     "metadata": {},
     "output_type": "execute_result"
    }
   ],
   "source": [
    "# show number of clusters and their size\n",
    "pd.Series(part).value_counts()"
   ]
  },
  {
   "cell_type": "code",
   "execution_count": 29,
   "metadata": {
    "execution": {
     "iopub.execute_input": "2021-01-13T19:56:23.865621Z",
     "iopub.status.busy": "2021-01-13T19:56:23.865253Z",
     "iopub.status.idle": "2021-01-13T19:56:24.069621Z",
     "shell.execute_reply": "2021-01-13T19:56:24.069213Z"
    },
    "papermill": {
     "duration": 0.243344,
     "end_time": "2021-01-13T19:56:24.069732",
     "exception": false,
     "start_time": "2021-01-13T19:56:23.826388",
     "status": "completed"
    },
    "tags": []
   },
   "outputs": [
    {
     "data": {
      "text/plain": [
       "'Silhouette (higher is better): 0.243'"
      ]
     },
     "metadata": {},
     "output_type": "display_data"
    },
    {
     "data": {
      "text/plain": [
       "'Calinski-Harabasz (higher is better): 128.603'"
      ]
     },
     "metadata": {},
     "output_type": "display_data"
    },
    {
     "data": {
      "text/plain": [
       "'Davies-Bouldin (lower is better): 4.389'"
      ]
     },
     "metadata": {},
     "output_type": "display_data"
    }
   ],
   "source": [
    "compute_performance(data, part, data_distance_matrix=dist_matrix)"
   ]
  },
  {
   "cell_type": "markdown",
   "metadata": {
    "papermill": {
     "duration": 0.036564,
     "end_time": "2021-01-13T19:56:24.149582",
     "exception": false,
     "start_time": "2021-01-13T19:56:24.113018",
     "status": "completed"
    },
    "tags": []
   },
   "source": [
    "For `delta` values larger than `1.0`, quality measures go slightly down."
   ]
  },
  {
   "cell_type": "markdown",
   "metadata": {
    "papermill": {
     "duration": 0.035459,
     "end_time": "2021-01-13T19:56:24.219281",
     "exception": false,
     "start_time": "2021-01-13T19:56:24.183822",
     "status": "completed"
    },
    "tags": []
   },
   "source": [
    "### `delta<1.0`"
   ]
  },
  {
   "cell_type": "code",
   "execution_count": 30,
   "metadata": {
    "execution": {
     "iopub.execute_input": "2021-01-13T19:56:24.291725Z",
     "iopub.status.busy": "2021-01-13T19:56:24.291353Z",
     "iopub.status.idle": "2021-01-13T19:56:24.302257Z",
     "shell.execute_reply": "2021-01-13T19:56:24.301885Z"
    },
    "papermill": {
     "duration": 0.048344,
     "end_time": "2021-01-13T19:56:24.302346",
     "exception": false,
     "start_time": "2021-01-13T19:56:24.254002",
     "status": "completed"
    },
    "tags": []
   },
   "outputs": [],
   "source": [
    "delta = 0.20"
   ]
  },
  {
   "cell_type": "code",
   "execution_count": 31,
   "metadata": {
    "execution": {
     "iopub.execute_input": "2021-01-13T19:56:24.374763Z",
     "iopub.status.busy": "2021-01-13T19:56:24.374391Z",
     "iopub.status.idle": "2021-01-13T19:56:25.739696Z",
     "shell.execute_reply": "2021-01-13T19:56:25.739346Z"
    },
    "papermill": {
     "duration": 1.40284,
     "end_time": "2021-01-13T19:56:25.739790",
     "exception": false,
     "start_time": "2021-01-13T19:56:24.336950",
     "status": "completed"
    },
    "tags": []
   },
   "outputs": [],
   "source": [
    "with warnings.catch_warnings():\n",
    "    warnings.filterwarnings(\"always\")\n",
    "\n",
    "    sim_matrix = np.exp(-(dist_matrix ** 2) / (2.0 * delta ** 2))\n",
    "\n",
    "    clus = SpectralClustering(\n",
    "        eigen_solver=\"arpack\",\n",
    "        #         eigen_tol=1e-3,\n",
    "        n_clusters=2,\n",
    "        n_init=10,\n",
    "        affinity=\"precomputed\",\n",
    "        random_state=INITIAL_RANDOM_STATE,\n",
    "    )\n",
    "\n",
    "    part = clus.fit_predict(sim_matrix)"
   ]
  },
  {
   "cell_type": "code",
   "execution_count": 32,
   "metadata": {
    "execution": {
     "iopub.execute_input": "2021-01-13T19:56:25.813125Z",
     "iopub.status.busy": "2021-01-13T19:56:25.812752Z",
     "iopub.status.idle": "2021-01-13T19:56:25.825229Z",
     "shell.execute_reply": "2021-01-13T19:56:25.825531Z"
    },
    "papermill": {
     "duration": 0.050143,
     "end_time": "2021-01-13T19:56:25.825643",
     "exception": false,
     "start_time": "2021-01-13T19:56:25.775500",
     "status": "completed"
    },
    "tags": []
   },
   "outputs": [
    {
     "data": {
      "text/plain": [
       "0    3708\n",
       "1      41\n",
       "dtype: int64"
      ]
     },
     "execution_count": 32,
     "metadata": {},
     "output_type": "execute_result"
    }
   ],
   "source": [
    "# show number of clusters and their size\n",
    "pd.Series(part).value_counts()"
   ]
  },
  {
   "cell_type": "code",
   "execution_count": 33,
   "metadata": {
    "execution": {
     "iopub.execute_input": "2021-01-13T19:56:25.903014Z",
     "iopub.status.busy": "2021-01-13T19:56:25.902654Z",
     "iopub.status.idle": "2021-01-13T19:56:26.111072Z",
     "shell.execute_reply": "2021-01-13T19:56:26.111433Z"
    },
    "papermill": {
     "duration": 0.248032,
     "end_time": "2021-01-13T19:56:26.111570",
     "exception": false,
     "start_time": "2021-01-13T19:56:25.863538",
     "status": "completed"
    },
    "tags": []
   },
   "outputs": [
    {
     "data": {
      "text/plain": [
       "'Silhouette (higher is better): 0.428'"
      ]
     },
     "metadata": {},
     "output_type": "display_data"
    },
    {
     "data": {
      "text/plain": [
       "'Calinski-Harabasz (higher is better): 154.143'"
      ]
     },
     "metadata": {},
     "output_type": "display_data"
    },
    {
     "data": {
      "text/plain": [
       "'Davies-Bouldin (lower is better): 1.263'"
      ]
     },
     "metadata": {},
     "output_type": "display_data"
    }
   ],
   "source": [
    "compute_performance(data, part, data_distance_matrix=dist_matrix)"
   ]
  },
  {
   "cell_type": "markdown",
   "metadata": {
    "papermill": {
     "duration": 0.038036,
     "end_time": "2021-01-13T19:56:26.192666",
     "exception": false,
     "start_time": "2021-01-13T19:56:26.154630",
     "status": "completed"
    },
    "tags": []
   },
   "source": [
    "For `delta` values smaller than `1.0`, quality measures improve."
   ]
  },
  {
   "cell_type": "markdown",
   "metadata": {
    "papermill": {
     "duration": 0.037099,
     "end_time": "2021-01-13T19:56:26.267103",
     "exception": false,
     "start_time": "2021-01-13T19:56:26.230004",
     "status": "completed"
    },
    "tags": []
   },
   "source": [
    "### `delta<<<1.0`"
   ]
  },
  {
   "cell_type": "code",
   "execution_count": 34,
   "metadata": {
    "execution": {
     "iopub.execute_input": "2021-01-13T19:56:26.342304Z",
     "iopub.status.busy": "2021-01-13T19:56:26.341933Z",
     "iopub.status.idle": "2021-01-13T19:56:26.352416Z",
     "shell.execute_reply": "2021-01-13T19:56:26.352037Z"
    },
    "papermill": {
     "duration": 0.048778,
     "end_time": "2021-01-13T19:56:26.352504",
     "exception": false,
     "start_time": "2021-01-13T19:56:26.303726",
     "status": "completed"
    },
    "tags": []
   },
   "outputs": [],
   "source": [
    "delta = 0.10"
   ]
  },
  {
   "cell_type": "code",
   "execution_count": 35,
   "metadata": {
    "execution": {
     "iopub.execute_input": "2021-01-13T19:56:26.429261Z",
     "iopub.status.busy": "2021-01-13T19:56:26.428894Z",
     "iopub.status.idle": "2021-01-13T19:56:29.794719Z",
     "shell.execute_reply": "2021-01-13T19:56:29.795023Z"
    },
    "papermill": {
     "duration": 3.405036,
     "end_time": "2021-01-13T19:56:29.795135",
     "exception": false,
     "start_time": "2021-01-13T19:56:26.390099",
     "status": "completed"
    },
    "tags": []
   },
   "outputs": [],
   "source": [
    "with warnings.catch_warnings():\n",
    "    warnings.filterwarnings(\"always\")\n",
    "\n",
    "    sim_matrix = np.exp(-(dist_matrix ** 2) / (2.0 * delta ** 2))\n",
    "\n",
    "    clus = SpectralClustering(\n",
    "        eigen_solver=\"arpack\",\n",
    "        eigen_tol=1e-4,\n",
    "        n_clusters=2,\n",
    "        n_init=10,\n",
    "        affinity=\"precomputed\",\n",
    "        random_state=INITIAL_RANDOM_STATE,\n",
    "    )\n",
    "\n",
    "    part = clus.fit_predict(sim_matrix)"
   ]
  },
  {
   "cell_type": "code",
   "execution_count": 36,
   "metadata": {
    "execution": {
     "iopub.execute_input": "2021-01-13T19:56:29.871458Z",
     "iopub.status.busy": "2021-01-13T19:56:29.871080Z",
     "iopub.status.idle": "2021-01-13T19:56:29.883978Z",
     "shell.execute_reply": "2021-01-13T19:56:29.883625Z"
    },
    "papermill": {
     "duration": 0.052742,
     "end_time": "2021-01-13T19:56:29.884072",
     "exception": false,
     "start_time": "2021-01-13T19:56:29.831330",
     "status": "completed"
    },
    "tags": []
   },
   "outputs": [
    {
     "data": {
      "text/plain": [
       "0    3744\n",
       "1       5\n",
       "dtype: int64"
      ]
     },
     "execution_count": 36,
     "metadata": {},
     "output_type": "execute_result"
    }
   ],
   "source": [
    "# show number of clusters and their size\n",
    "pd.Series(part).value_counts()"
   ]
  },
  {
   "cell_type": "code",
   "execution_count": 37,
   "metadata": {
    "execution": {
     "iopub.execute_input": "2021-01-13T19:56:29.962132Z",
     "iopub.status.busy": "2021-01-13T19:56:29.961772Z",
     "iopub.status.idle": "2021-01-13T19:56:30.163747Z",
     "shell.execute_reply": "2021-01-13T19:56:30.164108Z"
    },
    "papermill": {
     "duration": 0.241365,
     "end_time": "2021-01-13T19:56:30.164242",
     "exception": false,
     "start_time": "2021-01-13T19:56:29.922877",
     "status": "completed"
    },
    "tags": []
   },
   "outputs": [
    {
     "data": {
      "text/plain": [
       "'Silhouette (higher is better): 0.364'"
      ]
     },
     "metadata": {},
     "output_type": "display_data"
    },
    {
     "data": {
      "text/plain": [
       "'Calinski-Harabasz (higher is better): 40.633'"
      ]
     },
     "metadata": {},
     "output_type": "display_data"
    },
    {
     "data": {
      "text/plain": [
       "'Davies-Bouldin (lower is better): 1.045'"
      ]
     },
     "metadata": {},
     "output_type": "display_data"
    }
   ],
   "source": [
    "compute_performance(data, part, data_distance_matrix=dist_matrix)"
   ]
  },
  {
   "cell_type": "markdown",
   "metadata": {
    "papermill": {
     "duration": 0.038874,
     "end_time": "2021-01-13T19:56:30.248481",
     "exception": false,
     "start_time": "2021-01-13T19:56:30.209607",
     "status": "completed"
    },
    "tags": []
   },
   "source": [
    "For `delta` values around `0.10` the algorithm does not converge, and I need to force convergence with `eigen_tol=1e-4`.\n",
    "\n",
    "Quality measures in general go down."
   ]
  },
  {
   "cell_type": "markdown",
   "metadata": {
    "papermill": {
     "duration": 0.03682,
     "end_time": "2021-01-13T19:56:30.321739",
     "exception": false,
     "start_time": "2021-01-13T19:56:30.284919",
     "status": "completed"
    },
    "tags": []
   },
   "source": [
    "## Extended test"
   ]
  },
  {
   "cell_type": "code",
   "execution_count": 38,
   "metadata": {
    "execution": {
     "iopub.execute_input": "2021-01-13T19:56:30.398504Z",
     "iopub.status.busy": "2021-01-13T19:56:30.398139Z",
     "iopub.status.idle": "2021-01-13T19:56:30.409272Z",
     "shell.execute_reply": "2021-01-13T19:56:30.408897Z"
    },
    "papermill": {
     "duration": 0.051068,
     "end_time": "2021-01-13T19:56:30.409361",
     "exception": false,
     "start_time": "2021-01-13T19:56:30.358293",
     "status": "completed"
    },
    "tags": []
   },
   "outputs": [],
   "source": [
    "from clustering.methods import DeltaSpectralClustering"
   ]
  },
  {
   "cell_type": "code",
   "execution_count": 39,
   "metadata": {
    "execution": {
     "iopub.execute_input": "2021-01-13T19:56:30.487025Z",
     "iopub.status.busy": "2021-01-13T19:56:30.486649Z",
     "iopub.status.idle": "2021-01-13T19:56:30.499035Z",
     "shell.execute_reply": "2021-01-13T19:56:30.498666Z"
    },
    "papermill": {
     "duration": 0.052162,
     "end_time": "2021-01-13T19:56:30.499123",
     "exception": false,
     "start_time": "2021-01-13T19:56:30.446961",
     "status": "completed"
    },
    "tags": []
   },
   "outputs": [
    {
     "data": {
      "text/plain": [
       "{'K_RANGE': [2, 4, 6, 8, 10, 12, 14, 16, 18, 20, 25, 30, 35, 40],\n",
       " 'N_REPS_PER_K': 5,\n",
       " 'KMEANS_N_INIT': 10,\n",
       " 'DELTAS': [5.0, 2.0, 1.0, 0.9, 0.75, 0.5, 0.3, 0.25, 0.2]}"
      ]
     },
     "metadata": {},
     "output_type": "display_data"
    }
   ],
   "source": [
    "CLUSTERING_OPTIONS = {}\n",
    "\n",
    "CLUSTERING_OPTIONS[\"K_RANGE\"] = [2, 4, 6, 8, 10, 12, 14, 16, 18, 20, 25, 30, 35, 40]\n",
    "CLUSTERING_OPTIONS[\"N_REPS_PER_K\"] = 5\n",
    "CLUSTERING_OPTIONS[\"KMEANS_N_INIT\"] = 10\n",
    "CLUSTERING_OPTIONS[\"DELTAS\"] = [\n",
    "    5.00,\n",
    "    2.00,\n",
    "    1.00,\n",
    "    0.90,\n",
    "    0.75,\n",
    "    0.50,\n",
    "    0.30,\n",
    "    0.25,\n",
    "    0.20,\n",
    "]\n",
    "\n",
    "display(CLUSTERING_OPTIONS)"
   ]
  },
  {
   "cell_type": "code",
   "execution_count": 40,
   "metadata": {
    "execution": {
     "iopub.execute_input": "2021-01-13T19:56:30.577192Z",
     "iopub.status.busy": "2021-01-13T19:56:30.576809Z",
     "iopub.status.idle": "2021-01-13T19:56:30.590876Z",
     "shell.execute_reply": "2021-01-13T19:56:30.590484Z"
    },
    "papermill": {
     "duration": 0.054053,
     "end_time": "2021-01-13T19:56:30.590969",
     "exception": false,
     "start_time": "2021-01-13T19:56:30.536916",
     "status": "completed"
    },
    "tags": []
   },
   "outputs": [],
   "source": [
    "CLUSTERERS = {}\n",
    "\n",
    "idx = 0\n",
    "random_state = INITIAL_RANDOM_STATE\n",
    "\n",
    "for k in CLUSTERING_OPTIONS[\"K_RANGE\"]:\n",
    "    for delta_value in CLUSTERING_OPTIONS[\"DELTAS\"]:\n",
    "        for i in range(CLUSTERING_OPTIONS[\"N_REPS_PER_K\"]):\n",
    "            clus = DeltaSpectralClustering(\n",
    "                eigen_solver=\"arpack\",\n",
    "                n_clusters=k,\n",
    "                n_init=CLUSTERING_OPTIONS[\"KMEANS_N_INIT\"],\n",
    "                affinity=\"precomputed\",\n",
    "                delta=delta_value,\n",
    "                random_state=random_state,\n",
    "            )\n",
    "\n",
    "            method_name = type(clus).__name__\n",
    "            CLUSTERERS[f\"{method_name} #{idx}\"] = clus\n",
    "\n",
    "            random_state = random_state + 1\n",
    "            idx = idx + 1"
   ]
  },
  {
   "cell_type": "code",
   "execution_count": 41,
   "metadata": {
    "execution": {
     "iopub.execute_input": "2021-01-13T19:56:30.668084Z",
     "iopub.status.busy": "2021-01-13T19:56:30.667722Z",
     "iopub.status.idle": "2021-01-13T19:56:30.679248Z",
     "shell.execute_reply": "2021-01-13T19:56:30.678870Z"
    },
    "papermill": {
     "duration": 0.050805,
     "end_time": "2021-01-13T19:56:30.679337",
     "exception": false,
     "start_time": "2021-01-13T19:56:30.628532",
     "status": "completed"
    },
    "tags": []
   },
   "outputs": [
    {
     "data": {
      "text/plain": [
       "630"
      ]
     },
     "metadata": {},
     "output_type": "display_data"
    }
   ],
   "source": [
    "display(len(CLUSTERERS))"
   ]
  },
  {
   "cell_type": "code",
   "execution_count": 42,
   "metadata": {
    "execution": {
     "iopub.execute_input": "2021-01-13T19:56:30.759022Z",
     "iopub.status.busy": "2021-01-13T19:56:30.758663Z",
     "iopub.status.idle": "2021-01-13T19:56:30.771059Z",
     "shell.execute_reply": "2021-01-13T19:56:30.771362Z"
    },
    "papermill": {
     "duration": 0.052908,
     "end_time": "2021-01-13T19:56:30.771471",
     "exception": false,
     "start_time": "2021-01-13T19:56:30.718563",
     "status": "completed"
    },
    "tags": []
   },
   "outputs": [
    {
     "data": {
      "text/plain": [
       "('DeltaSpectralClustering #0', DeltaSpectralClustering(delta=5.0))"
      ]
     },
     "metadata": {},
     "output_type": "display_data"
    },
    {
     "data": {
      "text/plain": [
       "('DeltaSpectralClustering #1', DeltaSpectralClustering(delta=5.0))"
      ]
     },
     "metadata": {},
     "output_type": "display_data"
    }
   ],
   "source": [
    "_iter = iter(CLUSTERERS.items())\n",
    "display(next(_iter))\n",
    "display(next(_iter))"
   ]
  },
  {
   "cell_type": "code",
   "execution_count": 43,
   "metadata": {
    "execution": {
     "iopub.execute_input": "2021-01-13T19:56:30.850830Z",
     "iopub.status.busy": "2021-01-13T19:56:30.850470Z",
     "iopub.status.idle": "2021-01-13T19:56:30.861833Z",
     "shell.execute_reply": "2021-01-13T19:56:30.861495Z"
    },
    "papermill": {
     "duration": 0.051328,
     "end_time": "2021-01-13T19:56:30.861930",
     "exception": false,
     "start_time": "2021-01-13T19:56:30.810602",
     "status": "completed"
    },
    "tags": []
   },
   "outputs": [
    {
     "data": {
      "text/plain": [
       "'DeltaSpectralClustering'"
      ]
     },
     "metadata": {},
     "output_type": "display_data"
    }
   ],
   "source": [
    "clustering_method_name = method_name\n",
    "display(clustering_method_name)"
   ]
  },
  {
   "cell_type": "markdown",
   "metadata": {
    "papermill": {
     "duration": 0.038114,
     "end_time": "2021-01-13T19:56:30.941158",
     "exception": false,
     "start_time": "2021-01-13T19:56:30.903044",
     "status": "completed"
    },
    "tags": []
   },
   "source": [
    "## Generate ensemble"
   ]
  },
  {
   "cell_type": "code",
   "execution_count": 44,
   "metadata": {
    "execution": {
     "iopub.execute_input": "2021-01-13T19:56:31.020056Z",
     "iopub.status.busy": "2021-01-13T19:56:31.019694Z",
     "iopub.status.idle": "2021-01-13T19:56:31.033609Z",
     "shell.execute_reply": "2021-01-13T19:56:31.033902Z"
    },
    "papermill": {
     "duration": 0.055104,
     "end_time": "2021-01-13T19:56:31.034016",
     "exception": false,
     "start_time": "2021-01-13T19:56:30.978912",
     "status": "completed"
    },
    "tags": []
   },
   "outputs": [],
   "source": [
    "import tempfile\n",
    "from clustering.ensembles.utils import generate_ensemble"
   ]
  },
  {
   "cell_type": "code",
   "execution_count": 45,
   "metadata": {
    "execution": {
     "iopub.execute_input": "2021-01-13T19:56:31.114287Z",
     "iopub.status.busy": "2021-01-13T19:56:31.113843Z",
     "iopub.status.idle": "2021-01-13T19:56:31.125217Z",
     "shell.execute_reply": "2021-01-13T19:56:31.124845Z"
    },
    "papermill": {
     "duration": 0.052284,
     "end_time": "2021-01-13T19:56:31.125306",
     "exception": false,
     "start_time": "2021-01-13T19:56:31.073022",
     "status": "completed"
    },
    "tags": []
   },
   "outputs": [],
   "source": [
    "# generate a temporary folder where to store the ensemble and avoid computing it again\n",
    "ensemble_folder = Path(\n",
    "    tempfile.gettempdir(),\n",
    "    f\"pre_cluster_analysis\",\n",
    "    clustering_method_name,\n",
    ").resolve()\n",
    "ensemble_folder.mkdir(parents=True, exist_ok=True)"
   ]
  },
  {
   "cell_type": "code",
   "execution_count": 46,
   "metadata": {
    "execution": {
     "iopub.execute_input": "2021-01-13T19:56:31.205033Z",
     "iopub.status.busy": "2021-01-13T19:56:31.204620Z",
     "iopub.status.idle": "2021-01-13T19:56:31.216580Z",
     "shell.execute_reply": "2021-01-13T19:56:31.216213Z"
    },
    "papermill": {
     "duration": 0.052626,
     "end_time": "2021-01-13T19:56:31.216668",
     "exception": false,
     "start_time": "2021-01-13T19:56:31.164042",
     "status": "completed"
    },
    "tags": []
   },
   "outputs": [
    {
     "data": {
      "text/plain": [
       "PosixPath('/tmp/pre_cluster_analysis/DeltaSpectralClustering/ensemble-DELTAS_50_20_10_09_075_05_03_025_02-KMEANS_N_INIT_10-K_RANGE_2_4_6_8_10_12_14_16_18_20_25_30_35_40-N_REPS_PER_K_5.pkl')"
      ]
     },
     "metadata": {},
     "output_type": "display_data"
    }
   ],
   "source": [
    "ensemble_file = Path(\n",
    "    ensemble_folder,\n",
    "    generate_result_set_name(CLUSTERING_OPTIONS, prefix=f\"ensemble-\", suffix=\".pkl\"),\n",
    ")\n",
    "display(ensemble_file)"
   ]
  },
  {
   "cell_type": "code",
   "execution_count": 47,
   "metadata": {
    "execution": {
     "iopub.execute_input": "2021-01-13T19:56:31.297520Z",
     "iopub.status.busy": "2021-01-13T19:56:31.297155Z",
     "iopub.status.idle": "2021-01-13T20:17:27.234569Z",
     "shell.execute_reply": "2021-01-13T20:17:27.233792Z"
    },
    "papermill": {
     "duration": 1255.978769,
     "end_time": "2021-01-13T20:17:27.234653",
     "exception": false,
     "start_time": "2021-01-13T19:56:31.255884",
     "status": "completed"
    },
    "tags": []
   },
   "outputs": [
    {
     "name": "stderr",
     "output_type": "stream",
     "text": [
      "\r",
      "  0%|          | 0/630 [00:00<?, ?it/s]"
     ]
    },
    {
     "name": "stderr",
     "output_type": "stream",
     "text": [
      "\r",
      "  0%|          | 1/630 [00:01<12:10,  1.16s/it]"
     ]
    },
    {
     "name": "stderr",
     "output_type": "stream",
     "text": [
      "\r",
      "  0%|          | 2/630 [00:02<12:10,  1.16s/it]"
     ]
    },
    {
     "name": "stderr",
     "output_type": "stream",
     "text": [
      "\r",
      "  0%|          | 3/630 [00:03<12:09,  1.16s/it]"
     ]
    },
    {
     "name": "stderr",
     "output_type": "stream",
     "text": [
      "\r",
      "  1%|          | 4/630 [00:04<12:08,  1.16s/it]"
     ]
    },
    {
     "name": "stderr",
     "output_type": "stream",
     "text": [
      "\r",
      "  1%|          | 5/630 [00:05<12:08,  1.17s/it]"
     ]
    },
    {
     "name": "stderr",
     "output_type": "stream",
     "text": [
      "\r",
      "  1%|          | 6/630 [00:06<12:06,  1.16s/it]"
     ]
    },
    {
     "name": "stderr",
     "output_type": "stream",
     "text": [
      "\r",
      "  1%|          | 7/630 [00:08<12:04,  1.16s/it]"
     ]
    },
    {
     "name": "stderr",
     "output_type": "stream",
     "text": [
      "\r",
      "  1%|▏         | 8/630 [00:09<12:03,  1.16s/it]"
     ]
    },
    {
     "name": "stderr",
     "output_type": "stream",
     "text": [
      "\r",
      "  1%|▏         | 9/630 [00:10<12:02,  1.16s/it]"
     ]
    },
    {
     "name": "stderr",
     "output_type": "stream",
     "text": [
      "\r",
      "  2%|▏         | 10/630 [00:11<12:01,  1.16s/it]"
     ]
    },
    {
     "name": "stderr",
     "output_type": "stream",
     "text": [
      "\r",
      "  2%|▏         | 11/630 [00:12<11:59,  1.16s/it]"
     ]
    },
    {
     "name": "stderr",
     "output_type": "stream",
     "text": [
      "\r",
      "  2%|▏         | 12/630 [00:13<11:57,  1.16s/it]"
     ]
    },
    {
     "name": "stderr",
     "output_type": "stream",
     "text": [
      "\r",
      "  2%|▏         | 13/630 [00:15<11:56,  1.16s/it]"
     ]
    },
    {
     "name": "stderr",
     "output_type": "stream",
     "text": [
      "\r",
      "  2%|▏         | 14/630 [00:16<11:55,  1.16s/it]"
     ]
    },
    {
     "name": "stderr",
     "output_type": "stream",
     "text": [
      "\r",
      "  2%|▏         | 15/630 [00:17<11:54,  1.16s/it]"
     ]
    },
    {
     "name": "stderr",
     "output_type": "stream",
     "text": [
      "\r",
      "  3%|▎         | 16/630 [00:18<11:52,  1.16s/it]"
     ]
    },
    {
     "name": "stderr",
     "output_type": "stream",
     "text": [
      "\r",
      "  3%|▎         | 17/630 [00:19<11:53,  1.16s/it]"
     ]
    },
    {
     "name": "stderr",
     "output_type": "stream",
     "text": [
      "\r",
      "  3%|▎         | 18/630 [00:20<11:51,  1.16s/it]"
     ]
    },
    {
     "name": "stderr",
     "output_type": "stream",
     "text": [
      "\r",
      "  3%|▎         | 19/630 [00:22<11:50,  1.16s/it]"
     ]
    },
    {
     "name": "stderr",
     "output_type": "stream",
     "text": [
      "\r",
      "  3%|▎         | 20/630 [00:23<11:48,  1.16s/it]"
     ]
    },
    {
     "name": "stderr",
     "output_type": "stream",
     "text": [
      "\r",
      "  3%|▎         | 21/630 [00:24<11:47,  1.16s/it]"
     ]
    },
    {
     "name": "stderr",
     "output_type": "stream",
     "text": [
      "\r",
      "  3%|▎         | 22/630 [00:25<11:46,  1.16s/it]"
     ]
    },
    {
     "name": "stderr",
     "output_type": "stream",
     "text": [
      "\r",
      "  4%|▎         | 23/630 [00:26<11:45,  1.16s/it]"
     ]
    },
    {
     "name": "stderr",
     "output_type": "stream",
     "text": [
      "\r",
      "  4%|▍         | 24/630 [00:27<11:45,  1.16s/it]"
     ]
    },
    {
     "name": "stderr",
     "output_type": "stream",
     "text": [
      "\r",
      "  4%|▍         | 25/630 [00:29<11:43,  1.16s/it]"
     ]
    },
    {
     "name": "stderr",
     "output_type": "stream",
     "text": [
      "\r",
      "  4%|▍         | 26/630 [00:30<11:44,  1.17s/it]"
     ]
    },
    {
     "name": "stderr",
     "output_type": "stream",
     "text": [
      "\r",
      "  4%|▍         | 27/630 [00:31<11:42,  1.16s/it]"
     ]
    },
    {
     "name": "stderr",
     "output_type": "stream",
     "text": [
      "\r",
      "  4%|▍         | 28/630 [00:32<11:39,  1.16s/it]"
     ]
    },
    {
     "name": "stderr",
     "output_type": "stream",
     "text": [
      "\r",
      "  5%|▍         | 29/630 [00:33<11:40,  1.16s/it]"
     ]
    },
    {
     "name": "stderr",
     "output_type": "stream",
     "text": [
      "\r",
      "  5%|▍         | 30/630 [00:34<11:38,  1.16s/it]"
     ]
    },
    {
     "name": "stderr",
     "output_type": "stream",
     "text": [
      "\r",
      "  5%|▍         | 31/630 [00:36<11:35,  1.16s/it]"
     ]
    },
    {
     "name": "stderr",
     "output_type": "stream",
     "text": [
      "\r",
      "  5%|▌         | 32/630 [00:37<11:35,  1.16s/it]"
     ]
    },
    {
     "name": "stderr",
     "output_type": "stream",
     "text": [
      "\r",
      "  5%|▌         | 33/630 [00:38<11:32,  1.16s/it]"
     ]
    },
    {
     "name": "stderr",
     "output_type": "stream",
     "text": [
      "\r",
      "  5%|▌         | 34/630 [00:39<11:47,  1.19s/it]"
     ]
    },
    {
     "name": "stderr",
     "output_type": "stream",
     "text": [
      "\r",
      "  6%|▌         | 35/630 [00:40<11:40,  1.18s/it]"
     ]
    },
    {
     "name": "stderr",
     "output_type": "stream",
     "text": [
      "\r",
      "  6%|▌         | 36/630 [00:42<11:54,  1.20s/it]"
     ]
    },
    {
     "name": "stderr",
     "output_type": "stream",
     "text": [
      "\r",
      "  6%|▌         | 37/630 [00:43<12:01,  1.22s/it]"
     ]
    },
    {
     "name": "stderr",
     "output_type": "stream",
     "text": [
      "\r",
      "  6%|▌         | 38/630 [00:44<12:06,  1.23s/it]"
     ]
    },
    {
     "name": "stderr",
     "output_type": "stream",
     "text": [
      "\r",
      "  6%|▌         | 39/630 [00:45<12:10,  1.24s/it]"
     ]
    },
    {
     "name": "stderr",
     "output_type": "stream",
     "text": [
      "\r",
      "  6%|▋         | 40/630 [00:47<12:13,  1.24s/it]"
     ]
    },
    {
     "name": "stderr",
     "output_type": "stream",
     "text": [
      "\r",
      "  7%|▋         | 41/630 [00:48<12:33,  1.28s/it]"
     ]
    },
    {
     "name": "stderr",
     "output_type": "stream",
     "text": [
      "\r",
      "  7%|▋         | 42/630 [00:49<12:47,  1.31s/it]"
     ]
    },
    {
     "name": "stderr",
     "output_type": "stream",
     "text": [
      "\r",
      "  7%|▋         | 43/630 [00:51<12:57,  1.33s/it]"
     ]
    },
    {
     "name": "stderr",
     "output_type": "stream",
     "text": [
      "\r",
      "  7%|▋         | 44/630 [00:52<13:07,  1.34s/it]"
     ]
    },
    {
     "name": "stderr",
     "output_type": "stream",
     "text": [
      "\r",
      "  7%|▋         | 45/630 [00:53<13:12,  1.35s/it]"
     ]
    },
    {
     "name": "stderr",
     "output_type": "stream",
     "text": [
      "\r",
      "  7%|▋         | 46/630 [00:55<12:52,  1.32s/it]"
     ]
    },
    {
     "name": "stderr",
     "output_type": "stream",
     "text": [
      "\r",
      "  7%|▋         | 47/630 [00:56<13:25,  1.38s/it]"
     ]
    },
    {
     "name": "stderr",
     "output_type": "stream",
     "text": [
      "\r",
      "  8%|▊         | 48/630 [00:58<13:47,  1.42s/it]"
     ]
    },
    {
     "name": "stderr",
     "output_type": "stream",
     "text": [
      "\r",
      "  8%|▊         | 49/630 [00:59<13:18,  1.37s/it]"
     ]
    },
    {
     "name": "stderr",
     "output_type": "stream",
     "text": [
      "\r",
      "  8%|▊         | 50/630 [01:01<13:50,  1.43s/it]"
     ]
    },
    {
     "name": "stderr",
     "output_type": "stream",
     "text": [
      "\r",
      "  8%|▊         | 51/630 [01:02<13:43,  1.42s/it]"
     ]
    },
    {
     "name": "stderr",
     "output_type": "stream",
     "text": [
      "\r",
      "  8%|▊         | 52/630 [01:03<13:55,  1.45s/it]"
     ]
    },
    {
     "name": "stderr",
     "output_type": "stream",
     "text": [
      "\r",
      "  8%|▊         | 53/630 [01:05<13:22,  1.39s/it]"
     ]
    },
    {
     "name": "stderr",
     "output_type": "stream",
     "text": [
      "\r",
      "  9%|▊         | 54/630 [01:06<13:12,  1.38s/it]"
     ]
    },
    {
     "name": "stderr",
     "output_type": "stream",
     "text": [
      "\r",
      "  9%|▊         | 55/630 [01:07<13:15,  1.38s/it]"
     ]
    },
    {
     "name": "stderr",
     "output_type": "stream",
     "text": [
      "\r",
      "  9%|▉         | 56/630 [01:09<13:33,  1.42s/it]"
     ]
    },
    {
     "name": "stderr",
     "output_type": "stream",
     "text": [
      "\r",
      "  9%|▉         | 57/630 [01:10<13:05,  1.37s/it]"
     ]
    },
    {
     "name": "stderr",
     "output_type": "stream",
     "text": [
      "\r",
      "  9%|▉         | 58/630 [01:11<12:49,  1.34s/it]"
     ]
    },
    {
     "name": "stderr",
     "output_type": "stream",
     "text": [
      "\r",
      "  9%|▉         | 59/630 [01:13<13:39,  1.43s/it]"
     ]
    },
    {
     "name": "stderr",
     "output_type": "stream",
     "text": [
      "\r",
      " 10%|▉         | 60/630 [01:15<14:09,  1.49s/it]"
     ]
    },
    {
     "name": "stderr",
     "output_type": "stream",
     "text": [
      "\r",
      " 10%|▉         | 61/630 [01:16<13:30,  1.42s/it]"
     ]
    },
    {
     "name": "stderr",
     "output_type": "stream",
     "text": [
      "\r",
      " 10%|▉         | 62/630 [01:18<13:50,  1.46s/it]"
     ]
    },
    {
     "name": "stderr",
     "output_type": "stream",
     "text": [
      "\r",
      " 10%|█         | 63/630 [01:19<14:04,  1.49s/it]"
     ]
    },
    {
     "name": "stderr",
     "output_type": "stream",
     "text": [
      "\r",
      " 10%|█         | 64/630 [01:21<13:47,  1.46s/it]"
     ]
    },
    {
     "name": "stderr",
     "output_type": "stream",
     "text": [
      "\r",
      " 10%|█         | 65/630 [01:22<14:19,  1.52s/it]"
     ]
    },
    {
     "name": "stderr",
     "output_type": "stream",
     "text": [
      "\r",
      " 10%|█         | 66/630 [01:24<13:49,  1.47s/it]"
     ]
    },
    {
     "name": "stderr",
     "output_type": "stream",
     "text": [
      "\r",
      " 11%|█         | 67/630 [01:25<13:41,  1.46s/it]"
     ]
    },
    {
     "name": "stderr",
     "output_type": "stream",
     "text": [
      "\r",
      " 11%|█         | 68/630 [01:26<13:34,  1.45s/it]"
     ]
    },
    {
     "name": "stderr",
     "output_type": "stream",
     "text": [
      "\r",
      " 11%|█         | 69/630 [01:28<13:04,  1.40s/it]"
     ]
    },
    {
     "name": "stderr",
     "output_type": "stream",
     "text": [
      "\r",
      " 11%|█         | 70/630 [01:29<12:40,  1.36s/it]"
     ]
    },
    {
     "name": "stderr",
     "output_type": "stream",
     "text": [
      "\r",
      " 11%|█▏        | 71/630 [01:30<12:21,  1.33s/it]"
     ]
    },
    {
     "name": "stderr",
     "output_type": "stream",
     "text": [
      "\r",
      " 11%|█▏        | 72/630 [01:32<12:47,  1.37s/it]"
     ]
    },
    {
     "name": "stderr",
     "output_type": "stream",
     "text": [
      "\r",
      " 12%|█▏        | 73/630 [01:33<12:56,  1.39s/it]"
     ]
    },
    {
     "name": "stderr",
     "output_type": "stream",
     "text": [
      "\r",
      " 12%|█▏        | 74/630 [01:35<13:01,  1.41s/it]"
     ]
    },
    {
     "name": "stderr",
     "output_type": "stream",
     "text": [
      "\r",
      " 12%|█▏        | 75/630 [01:36<13:26,  1.45s/it]"
     ]
    },
    {
     "name": "stderr",
     "output_type": "stream",
     "text": [
      "\r",
      " 12%|█▏        | 76/630 [01:37<12:52,  1.39s/it]"
     ]
    },
    {
     "name": "stderr",
     "output_type": "stream",
     "text": [
      "\r",
      " 12%|█▏        | 77/630 [01:39<12:41,  1.38s/it]"
     ]
    },
    {
     "name": "stderr",
     "output_type": "stream",
     "text": [
      "\r",
      " 12%|█▏        | 78/630 [01:40<12:45,  1.39s/it]"
     ]
    },
    {
     "name": "stderr",
     "output_type": "stream",
     "text": [
      "\r",
      " 13%|█▎        | 79/630 [01:42<13:18,  1.45s/it]"
     ]
    },
    {
     "name": "stderr",
     "output_type": "stream",
     "text": [
      "\r",
      " 13%|█▎        | 80/630 [01:43<12:46,  1.39s/it]"
     ]
    },
    {
     "name": "stderr",
     "output_type": "stream",
     "text": [
      "\r",
      " 13%|█▎        | 81/630 [01:45<13:12,  1.44s/it]"
     ]
    },
    {
     "name": "stderr",
     "output_type": "stream",
     "text": [
      "\r",
      " 13%|█▎        | 82/630 [01:46<13:19,  1.46s/it]"
     ]
    },
    {
     "name": "stderr",
     "output_type": "stream",
     "text": [
      "\r",
      " 13%|█▎        | 83/630 [01:48<13:31,  1.48s/it]"
     ]
    },
    {
     "name": "stderr",
     "output_type": "stream",
     "text": [
      "\r",
      " 13%|█▎        | 84/630 [01:49<12:52,  1.42s/it]"
     ]
    },
    {
     "name": "stderr",
     "output_type": "stream",
     "text": [
      "\r",
      " 13%|█▎        | 85/630 [01:51<13:36,  1.50s/it]"
     ]
    },
    {
     "name": "stderr",
     "output_type": "stream",
     "text": [
      "\r",
      " 14%|█▎        | 86/630 [01:52<13:21,  1.47s/it]"
     ]
    },
    {
     "name": "stderr",
     "output_type": "stream",
     "text": [
      "\r",
      " 14%|█▍        | 87/630 [01:54<13:38,  1.51s/it]"
     ]
    },
    {
     "name": "stderr",
     "output_type": "stream",
     "text": [
      "\r",
      " 14%|█▍        | 88/630 [01:55<14:25,  1.60s/it]"
     ]
    },
    {
     "name": "stderr",
     "output_type": "stream",
     "text": [
      "\r",
      " 14%|█▍        | 89/630 [01:57<13:58,  1.55s/it]"
     ]
    },
    {
     "name": "stderr",
     "output_type": "stream",
     "text": [
      "\r",
      " 14%|█▍        | 90/630 [01:58<13:42,  1.52s/it]"
     ]
    },
    {
     "name": "stderr",
     "output_type": "stream",
     "text": [
      "\r",
      " 14%|█▍        | 91/630 [02:00<13:17,  1.48s/it]"
     ]
    },
    {
     "name": "stderr",
     "output_type": "stream",
     "text": [
      "\r",
      " 15%|█▍        | 92/630 [02:01<13:07,  1.46s/it]"
     ]
    },
    {
     "name": "stderr",
     "output_type": "stream",
     "text": [
      "\r",
      " 15%|█▍        | 93/630 [02:02<12:58,  1.45s/it]"
     ]
    },
    {
     "name": "stderr",
     "output_type": "stream",
     "text": [
      "\r",
      " 15%|█▍        | 94/630 [02:05<14:38,  1.64s/it]"
     ]
    },
    {
     "name": "stderr",
     "output_type": "stream",
     "text": [
      "\r",
      " 15%|█▌        | 95/630 [02:06<14:52,  1.67s/it]"
     ]
    },
    {
     "name": "stderr",
     "output_type": "stream",
     "text": [
      "\r",
      " 15%|█▌        | 96/630 [02:08<14:10,  1.59s/it]"
     ]
    },
    {
     "name": "stderr",
     "output_type": "stream",
     "text": [
      "\r",
      " 15%|█▌        | 97/630 [02:10<15:12,  1.71s/it]"
     ]
    },
    {
     "name": "stderr",
     "output_type": "stream",
     "text": [
      "\r",
      " 16%|█▌        | 98/630 [02:11<14:09,  1.60s/it]"
     ]
    },
    {
     "name": "stderr",
     "output_type": "stream",
     "text": [
      "\r",
      " 16%|█▌        | 99/630 [02:12<13:28,  1.52s/it]"
     ]
    },
    {
     "name": "stderr",
     "output_type": "stream",
     "text": [
      "\r",
      " 16%|█▌        | 100/630 [02:14<13:12,  1.50s/it]"
     ]
    },
    {
     "name": "stderr",
     "output_type": "stream",
     "text": [
      "\r",
      " 16%|█▌        | 101/630 [02:15<12:45,  1.45s/it]"
     ]
    },
    {
     "name": "stderr",
     "output_type": "stream",
     "text": [
      "\r",
      " 16%|█▌        | 102/630 [02:17<13:50,  1.57s/it]"
     ]
    },
    {
     "name": "stderr",
     "output_type": "stream",
     "text": [
      "\r",
      " 16%|█▋        | 103/630 [02:18<13:25,  1.53s/it]"
     ]
    },
    {
     "name": "stderr",
     "output_type": "stream",
     "text": [
      "\r",
      " 17%|█▋        | 104/630 [02:20<13:51,  1.58s/it]"
     ]
    },
    {
     "name": "stderr",
     "output_type": "stream",
     "text": [
      "\r",
      " 17%|█▋        | 105/630 [02:22<13:26,  1.54s/it]"
     ]
    },
    {
     "name": "stderr",
     "output_type": "stream",
     "text": [
      "\r",
      " 17%|█▋        | 106/630 [02:23<13:42,  1.57s/it]"
     ]
    },
    {
     "name": "stderr",
     "output_type": "stream",
     "text": [
      "\r",
      " 17%|█▋        | 107/630 [02:25<14:52,  1.71s/it]"
     ]
    },
    {
     "name": "stderr",
     "output_type": "stream",
     "text": [
      "\r",
      " 17%|█▋        | 108/630 [02:27<13:50,  1.59s/it]"
     ]
    },
    {
     "name": "stderr",
     "output_type": "stream",
     "text": [
      "\r",
      " 17%|█▋        | 109/630 [02:28<13:44,  1.58s/it]"
     ]
    },
    {
     "name": "stderr",
     "output_type": "stream",
     "text": [
      "\r",
      " 17%|█▋        | 110/630 [02:30<14:35,  1.68s/it]"
     ]
    },
    {
     "name": "stderr",
     "output_type": "stream",
     "text": [
      "\r",
      " 18%|█▊        | 111/630 [02:31<13:40,  1.58s/it]"
     ]
    },
    {
     "name": "stderr",
     "output_type": "stream",
     "text": [
      "\r",
      " 18%|█▊        | 112/630 [02:33<13:37,  1.58s/it]"
     ]
    },
    {
     "name": "stderr",
     "output_type": "stream",
     "text": [
      "\r",
      " 18%|█▊        | 113/630 [02:34<13:11,  1.53s/it]"
     ]
    },
    {
     "name": "stderr",
     "output_type": "stream",
     "text": [
      "\r",
      " 18%|█▊        | 114/630 [02:36<13:58,  1.62s/it]"
     ]
    },
    {
     "name": "stderr",
     "output_type": "stream",
     "text": [
      "\r",
      " 18%|█▊        | 115/630 [02:38<14:05,  1.64s/it]"
     ]
    },
    {
     "name": "stderr",
     "output_type": "stream",
     "text": [
      "\r",
      " 18%|█▊        | 116/630 [02:39<13:27,  1.57s/it]"
     ]
    },
    {
     "name": "stderr",
     "output_type": "stream",
     "text": [
      "\r",
      " 19%|█▊        | 117/630 [02:41<12:55,  1.51s/it]"
     ]
    },
    {
     "name": "stderr",
     "output_type": "stream",
     "text": [
      "\r",
      " 19%|█▊        | 118/630 [02:42<13:18,  1.56s/it]"
     ]
    },
    {
     "name": "stderr",
     "output_type": "stream",
     "text": [
      "\r",
      " 19%|█▉        | 119/630 [02:44<12:55,  1.52s/it]"
     ]
    },
    {
     "name": "stderr",
     "output_type": "stream",
     "text": [
      "\r",
      " 19%|█▉        | 120/630 [02:45<13:12,  1.55s/it]"
     ]
    },
    {
     "name": "stderr",
     "output_type": "stream",
     "text": [
      "\r",
      " 19%|█▉        | 121/630 [02:47<13:04,  1.54s/it]"
     ]
    },
    {
     "name": "stderr",
     "output_type": "stream",
     "text": [
      "\r",
      " 19%|█▉        | 122/630 [02:48<13:06,  1.55s/it]"
     ]
    },
    {
     "name": "stderr",
     "output_type": "stream",
     "text": [
      "\r",
      " 20%|█▉        | 123/630 [02:50<12:54,  1.53s/it]"
     ]
    },
    {
     "name": "stderr",
     "output_type": "stream",
     "text": [
      "\r",
      " 20%|█▉        | 124/630 [02:51<12:22,  1.47s/it]"
     ]
    },
    {
     "name": "stderr",
     "output_type": "stream",
     "text": [
      "\r",
      " 20%|█▉        | 125/630 [02:53<12:36,  1.50s/it]"
     ]
    },
    {
     "name": "stderr",
     "output_type": "stream",
     "text": [
      "\r",
      " 20%|██        | 126/630 [02:54<12:09,  1.45s/it]"
     ]
    },
    {
     "name": "stderr",
     "output_type": "stream",
     "text": [
      "\r",
      " 20%|██        | 127/630 [02:56<12:39,  1.51s/it]"
     ]
    },
    {
     "name": "stderr",
     "output_type": "stream",
     "text": [
      "\r",
      " 20%|██        | 128/630 [02:57<13:00,  1.56s/it]"
     ]
    },
    {
     "name": "stderr",
     "output_type": "stream",
     "text": [
      "\r",
      " 20%|██        | 129/630 [02:59<12:41,  1.52s/it]"
     ]
    },
    {
     "name": "stderr",
     "output_type": "stream",
     "text": [
      "\r",
      " 21%|██        | 130/630 [03:00<12:09,  1.46s/it]"
     ]
    },
    {
     "name": "stderr",
     "output_type": "stream",
     "text": [
      "\r",
      " 21%|██        | 131/630 [03:02<13:21,  1.61s/it]"
     ]
    },
    {
     "name": "stderr",
     "output_type": "stream",
     "text": [
      "\r",
      " 21%|██        | 132/630 [03:04<14:05,  1.70s/it]"
     ]
    },
    {
     "name": "stderr",
     "output_type": "stream",
     "text": [
      "\r",
      " 21%|██        | 133/630 [03:06<13:45,  1.66s/it]"
     ]
    },
    {
     "name": "stderr",
     "output_type": "stream",
     "text": [
      "\r",
      " 21%|██▏       | 134/630 [03:07<13:36,  1.65s/it]"
     ]
    },
    {
     "name": "stderr",
     "output_type": "stream",
     "text": [
      "\r",
      " 21%|██▏       | 135/630 [03:09<13:30,  1.64s/it]"
     ]
    },
    {
     "name": "stderr",
     "output_type": "stream",
     "text": [
      "\r",
      " 22%|██▏       | 136/630 [03:10<12:55,  1.57s/it]"
     ]
    },
    {
     "name": "stderr",
     "output_type": "stream",
     "text": [
      "\r",
      " 22%|██▏       | 137/630 [03:12<13:52,  1.69s/it]"
     ]
    },
    {
     "name": "stderr",
     "output_type": "stream",
     "text": [
      "\r",
      " 22%|██▏       | 138/630 [03:14<14:58,  1.83s/it]"
     ]
    },
    {
     "name": "stderr",
     "output_type": "stream",
     "text": [
      "\r",
      " 22%|██▏       | 139/630 [03:16<13:53,  1.70s/it]"
     ]
    },
    {
     "name": "stderr",
     "output_type": "stream",
     "text": [
      "\r",
      " 22%|██▏       | 140/630 [03:17<13:35,  1.66s/it]"
     ]
    },
    {
     "name": "stderr",
     "output_type": "stream",
     "text": [
      "\r",
      " 22%|██▏       | 141/630 [03:19<13:24,  1.65s/it]"
     ]
    },
    {
     "name": "stderr",
     "output_type": "stream",
     "text": [
      "\r",
      " 23%|██▎       | 142/630 [03:20<12:47,  1.57s/it]"
     ]
    },
    {
     "name": "stderr",
     "output_type": "stream",
     "text": [
      "\r",
      " 23%|██▎       | 143/630 [03:22<12:39,  1.56s/it]"
     ]
    },
    {
     "name": "stderr",
     "output_type": "stream",
     "text": [
      "\r",
      " 23%|██▎       | 144/630 [03:23<12:14,  1.51s/it]"
     ]
    },
    {
     "name": "stderr",
     "output_type": "stream",
     "text": [
      "\r",
      " 23%|██▎       | 145/630 [03:25<12:29,  1.55s/it]"
     ]
    },
    {
     "name": "stderr",
     "output_type": "stream",
     "text": [
      "\r",
      " 23%|██▎       | 146/630 [03:26<12:09,  1.51s/it]"
     ]
    },
    {
     "name": "stderr",
     "output_type": "stream",
     "text": [
      "\r",
      " 23%|██▎       | 147/630 [03:28<11:58,  1.49s/it]"
     ]
    },
    {
     "name": "stderr",
     "output_type": "stream",
     "text": [
      "\r",
      " 23%|██▎       | 148/630 [03:29<11:53,  1.48s/it]"
     ]
    },
    {
     "name": "stderr",
     "output_type": "stream",
     "text": [
      "\r",
      " 24%|██▎       | 149/630 [03:31<13:11,  1.65s/it]"
     ]
    },
    {
     "name": "stderr",
     "output_type": "stream",
     "text": [
      "\r",
      " 24%|██▍       | 150/630 [03:33<13:57,  1.75s/it]"
     ]
    },
    {
     "name": "stderr",
     "output_type": "stream",
     "text": [
      "\r",
      " 24%|██▍       | 151/630 [03:35<13:13,  1.66s/it]"
     ]
    },
    {
     "name": "stderr",
     "output_type": "stream",
     "text": [
      "\r",
      " 24%|██▍       | 152/630 [03:36<12:44,  1.60s/it]"
     ]
    },
    {
     "name": "stderr",
     "output_type": "stream",
     "text": [
      "\r",
      " 24%|██▍       | 153/630 [03:38<12:20,  1.55s/it]"
     ]
    },
    {
     "name": "stderr",
     "output_type": "stream",
     "text": [
      "\r",
      " 24%|██▍       | 154/630 [03:40<13:49,  1.74s/it]"
     ]
    },
    {
     "name": "stderr",
     "output_type": "stream",
     "text": [
      "\r",
      " 25%|██▍       | 155/630 [03:41<13:07,  1.66s/it]"
     ]
    },
    {
     "name": "stderr",
     "output_type": "stream",
     "text": [
      "\r",
      " 25%|██▍       | 156/630 [03:43<13:49,  1.75s/it]"
     ]
    },
    {
     "name": "stderr",
     "output_type": "stream",
     "text": [
      "\r",
      " 25%|██▍       | 157/630 [03:45<13:04,  1.66s/it]"
     ]
    },
    {
     "name": "stderr",
     "output_type": "stream",
     "text": [
      "\r",
      " 25%|██▌       | 158/630 [03:46<12:33,  1.60s/it]"
     ]
    },
    {
     "name": "stderr",
     "output_type": "stream",
     "text": [
      "\r",
      " 25%|██▌       | 159/630 [03:48<12:11,  1.55s/it]"
     ]
    },
    {
     "name": "stderr",
     "output_type": "stream",
     "text": [
      "\r",
      " 25%|██▌       | 160/630 [03:49<12:07,  1.55s/it]"
     ]
    },
    {
     "name": "stderr",
     "output_type": "stream",
     "text": [
      "\r",
      " 26%|██▌       | 161/630 [03:51<11:42,  1.50s/it]"
     ]
    },
    {
     "name": "stderr",
     "output_type": "stream",
     "text": [
      "\r",
      " 26%|██▌       | 162/630 [03:52<11:39,  1.50s/it]"
     ]
    },
    {
     "name": "stderr",
     "output_type": "stream",
     "text": [
      "\r",
      " 26%|██▌       | 163/630 [03:53<11:21,  1.46s/it]"
     ]
    },
    {
     "name": "stderr",
     "output_type": "stream",
     "text": [
      "\r",
      " 26%|██▌       | 164/630 [03:55<11:10,  1.44s/it]"
     ]
    },
    {
     "name": "stderr",
     "output_type": "stream",
     "text": [
      "\r",
      " 26%|██▌       | 165/630 [03:56<11:24,  1.47s/it]"
     ]
    },
    {
     "name": "stderr",
     "output_type": "stream",
     "text": [
      "\r",
      " 26%|██▋       | 166/630 [03:58<11:34,  1.50s/it]"
     ]
    },
    {
     "name": "stderr",
     "output_type": "stream",
     "text": [
      "\r",
      " 27%|██▋       | 167/630 [03:59<11:28,  1.49s/it]"
     ]
    },
    {
     "name": "stderr",
     "output_type": "stream",
     "text": [
      "\r",
      " 27%|██▋       | 168/630 [04:01<11:51,  1.54s/it]"
     ]
    },
    {
     "name": "stderr",
     "output_type": "stream",
     "text": [
      "\r",
      " 27%|██▋       | 169/630 [04:03<12:03,  1.57s/it]"
     ]
    },
    {
     "name": "stderr",
     "output_type": "stream",
     "text": [
      "\r",
      " 27%|██▋       | 170/630 [04:04<12:01,  1.57s/it]"
     ]
    },
    {
     "name": "stderr",
     "output_type": "stream",
     "text": [
      "\r",
      " 27%|██▋       | 171/630 [04:06<11:59,  1.57s/it]"
     ]
    },
    {
     "name": "stderr",
     "output_type": "stream",
     "text": [
      "\r",
      " 27%|██▋       | 172/630 [04:08<12:26,  1.63s/it]"
     ]
    },
    {
     "name": "stderr",
     "output_type": "stream",
     "text": [
      "\r",
      " 27%|██▋       | 173/630 [04:09<12:19,  1.62s/it]"
     ]
    },
    {
     "name": "stderr",
     "output_type": "stream",
     "text": [
      "\r",
      " 28%|██▊       | 174/630 [04:10<11:37,  1.53s/it]"
     ]
    },
    {
     "name": "stderr",
     "output_type": "stream",
     "text": [
      "\r",
      " 28%|██▊       | 175/630 [04:12<11:54,  1.57s/it]"
     ]
    },
    {
     "name": "stderr",
     "output_type": "stream",
     "text": [
      "\r",
      " 28%|██▊       | 176/630 [04:14<11:25,  1.51s/it]"
     ]
    },
    {
     "name": "stderr",
     "output_type": "stream",
     "text": [
      "\r",
      " 28%|██▊       | 177/630 [04:15<11:17,  1.50s/it]"
     ]
    },
    {
     "name": "stderr",
     "output_type": "stream",
     "text": [
      "\r",
      " 28%|██▊       | 178/630 [04:17<11:25,  1.52s/it]"
     ]
    },
    {
     "name": "stderr",
     "output_type": "stream",
     "text": [
      "\r",
      " 28%|██▊       | 179/630 [04:18<11:08,  1.48s/it]"
     ]
    },
    {
     "name": "stderr",
     "output_type": "stream",
     "text": [
      "\r",
      " 29%|██▊       | 180/630 [04:19<10:58,  1.46s/it]"
     ]
    },
    {
     "name": "stderr",
     "output_type": "stream",
     "text": [
      "\r",
      " 29%|██▊       | 181/630 [04:22<12:36,  1.69s/it]"
     ]
    },
    {
     "name": "stderr",
     "output_type": "stream",
     "text": [
      "\r",
      " 29%|██▉       | 182/630 [04:24<13:45,  1.84s/it]"
     ]
    },
    {
     "name": "stderr",
     "output_type": "stream",
     "text": [
      "\r",
      " 29%|██▉       | 183/630 [04:25<13:16,  1.78s/it]"
     ]
    },
    {
     "name": "stderr",
     "output_type": "stream",
     "text": [
      "\r",
      " 29%|██▉       | 184/630 [04:27<12:44,  1.71s/it]"
     ]
    },
    {
     "name": "stderr",
     "output_type": "stream",
     "text": [
      "\r",
      " 29%|██▉       | 185/630 [04:28<12:15,  1.65s/it]"
     ]
    },
    {
     "name": "stderr",
     "output_type": "stream",
     "text": [
      "\r",
      " 30%|██▉       | 186/630 [04:31<13:13,  1.79s/it]"
     ]
    },
    {
     "name": "stderr",
     "output_type": "stream",
     "text": [
      "\r",
      " 30%|██▉       | 187/630 [04:32<12:32,  1.70s/it]"
     ]
    },
    {
     "name": "stderr",
     "output_type": "stream",
     "text": [
      "\r",
      " 30%|██▉       | 188/630 [04:34<13:44,  1.87s/it]"
     ]
    },
    {
     "name": "stderr",
     "output_type": "stream",
     "text": [
      "\r",
      " 30%|███       | 189/630 [04:36<13:04,  1.78s/it]"
     ]
    },
    {
     "name": "stderr",
     "output_type": "stream",
     "text": [
      "\r",
      " 30%|███       | 190/630 [04:37<12:28,  1.70s/it]"
     ]
    },
    {
     "name": "stderr",
     "output_type": "stream",
     "text": [
      "\r",
      " 30%|███       | 191/630 [04:39<12:01,  1.64s/it]"
     ]
    },
    {
     "name": "stderr",
     "output_type": "stream",
     "text": [
      "\r",
      " 30%|███       | 192/630 [04:40<11:42,  1.60s/it]"
     ]
    },
    {
     "name": "stderr",
     "output_type": "stream",
     "text": [
      "\r",
      " 31%|███       | 193/630 [04:42<11:37,  1.60s/it]"
     ]
    },
    {
     "name": "stderr",
     "output_type": "stream",
     "text": [
      "\r",
      " 31%|███       | 194/630 [04:44<12:57,  1.78s/it]"
     ]
    },
    {
     "name": "stderr",
     "output_type": "stream",
     "text": [
      "\r",
      " 31%|███       | 195/630 [04:46<12:19,  1.70s/it]"
     ]
    },
    {
     "name": "stderr",
     "output_type": "stream",
     "text": [
      "\r",
      " 31%|███       | 196/630 [04:47<11:53,  1.64s/it]"
     ]
    },
    {
     "name": "stderr",
     "output_type": "stream",
     "text": [
      "\r",
      " 31%|███▏      | 197/630 [04:49<12:45,  1.77s/it]"
     ]
    },
    {
     "name": "stderr",
     "output_type": "stream",
     "text": [
      "\r",
      " 31%|███▏      | 198/630 [04:51<12:17,  1.71s/it]"
     ]
    },
    {
     "name": "stderr",
     "output_type": "stream",
     "text": [
      "\r",
      " 32%|███▏      | 199/630 [04:52<12:01,  1.67s/it]"
     ]
    },
    {
     "name": "stderr",
     "output_type": "stream",
     "text": [
      "\r",
      " 32%|███▏      | 200/630 [04:54<11:50,  1.65s/it]"
     ]
    },
    {
     "name": "stderr",
     "output_type": "stream",
     "text": [
      "\r",
      " 32%|███▏      | 201/630 [04:56<11:38,  1.63s/it]"
     ]
    },
    {
     "name": "stderr",
     "output_type": "stream",
     "text": [
      "\r",
      " 32%|███▏      | 202/630 [04:57<11:29,  1.61s/it]"
     ]
    },
    {
     "name": "stderr",
     "output_type": "stream",
     "text": [
      "\r",
      " 32%|███▏      | 203/630 [04:59<11:17,  1.59s/it]"
     ]
    },
    {
     "name": "stderr",
     "output_type": "stream",
     "text": [
      "\r",
      " 32%|███▏      | 204/630 [05:00<11:03,  1.56s/it]"
     ]
    },
    {
     "name": "stderr",
     "output_type": "stream",
     "text": [
      "\r",
      " 33%|███▎      | 205/630 [05:02<11:06,  1.57s/it]"
     ]
    },
    {
     "name": "stderr",
     "output_type": "stream",
     "text": [
      "\r",
      " 33%|███▎      | 206/630 [05:04<11:25,  1.62s/it]"
     ]
    },
    {
     "name": "stderr",
     "output_type": "stream",
     "text": [
      "\r",
      " 33%|███▎      | 207/630 [05:06<12:40,  1.80s/it]"
     ]
    },
    {
     "name": "stderr",
     "output_type": "stream",
     "text": [
      "\r",
      " 33%|███▎      | 208/630 [05:07<11:57,  1.70s/it]"
     ]
    },
    {
     "name": "stderr",
     "output_type": "stream",
     "text": [
      "\r",
      " 33%|███▎      | 209/630 [05:09<11:46,  1.68s/it]"
     ]
    },
    {
     "name": "stderr",
     "output_type": "stream",
     "text": [
      "\r",
      " 33%|███▎      | 210/630 [05:11<12:22,  1.77s/it]"
     ]
    },
    {
     "name": "stderr",
     "output_type": "stream",
     "text": [
      "\r",
      " 33%|███▎      | 211/630 [05:13<12:32,  1.79s/it]"
     ]
    },
    {
     "name": "stderr",
     "output_type": "stream",
     "text": [
      "\r",
      " 34%|███▎      | 212/630 [05:14<11:44,  1.69s/it]"
     ]
    },
    {
     "name": "stderr",
     "output_type": "stream",
     "text": [
      "\r",
      " 34%|███▍      | 213/630 [05:16<12:06,  1.74s/it]"
     ]
    },
    {
     "name": "stderr",
     "output_type": "stream",
     "text": [
      "\r",
      " 34%|███▍      | 214/630 [05:18<11:41,  1.69s/it]"
     ]
    },
    {
     "name": "stderr",
     "output_type": "stream",
     "text": [
      "\r",
      " 34%|███▍      | 215/630 [05:19<12:05,  1.75s/it]"
     ]
    },
    {
     "name": "stderr",
     "output_type": "stream",
     "text": [
      "\r",
      " 34%|███▍      | 216/630 [05:21<11:20,  1.64s/it]"
     ]
    },
    {
     "name": "stderr",
     "output_type": "stream",
     "text": [
      "\r",
      " 34%|███▍      | 217/630 [05:22<10:45,  1.56s/it]"
     ]
    },
    {
     "name": "stderr",
     "output_type": "stream",
     "text": [
      "\r",
      " 35%|███▍      | 218/630 [05:24<10:54,  1.59s/it]"
     ]
    },
    {
     "name": "stderr",
     "output_type": "stream",
     "text": [
      "\r",
      " 35%|███▍      | 219/630 [05:25<10:35,  1.55s/it]"
     ]
    },
    {
     "name": "stderr",
     "output_type": "stream",
     "text": [
      "\r",
      " 35%|███▍      | 220/630 [05:27<10:38,  1.56s/it]"
     ]
    },
    {
     "name": "stderr",
     "output_type": "stream",
     "text": [
      "\r",
      " 35%|███▌      | 221/630 [05:29<10:52,  1.60s/it]"
     ]
    },
    {
     "name": "stderr",
     "output_type": "stream",
     "text": [
      "\r",
      " 35%|███▌      | 222/630 [05:30<10:41,  1.57s/it]"
     ]
    },
    {
     "name": "stderr",
     "output_type": "stream",
     "text": [
      "\r",
      " 35%|███▌      | 223/630 [05:32<11:27,  1.69s/it]"
     ]
    },
    {
     "name": "stderr",
     "output_type": "stream",
     "text": [
      "\r",
      " 36%|███▌      | 224/630 [05:34<11:24,  1.69s/it]"
     ]
    },
    {
     "name": "stderr",
     "output_type": "stream",
     "text": [
      "\r",
      " 36%|███▌      | 225/630 [05:36<11:37,  1.72s/it]"
     ]
    },
    {
     "name": "stderr",
     "output_type": "stream",
     "text": [
      "\r",
      " 36%|███▌      | 226/630 [05:37<11:11,  1.66s/it]"
     ]
    },
    {
     "name": "stderr",
     "output_type": "stream",
     "text": [
      "\r",
      " 36%|███▌      | 227/630 [05:39<11:00,  1.64s/it]"
     ]
    },
    {
     "name": "stderr",
     "output_type": "stream",
     "text": [
      "\r",
      " 36%|███▌      | 228/630 [05:41<11:27,  1.71s/it]"
     ]
    },
    {
     "name": "stderr",
     "output_type": "stream",
     "text": [
      "\r",
      " 36%|███▋      | 229/630 [05:43<12:29,  1.87s/it]"
     ]
    },
    {
     "name": "stderr",
     "output_type": "stream",
     "text": [
      "\r",
      " 37%|███▋      | 230/630 [05:45<12:15,  1.84s/it]"
     ]
    },
    {
     "name": "stderr",
     "output_type": "stream",
     "text": [
      "\r",
      " 37%|███▋      | 231/630 [05:46<11:49,  1.78s/it]"
     ]
    },
    {
     "name": "stderr",
     "output_type": "stream",
     "text": [
      "\r",
      " 37%|███▋      | 232/630 [05:48<12:37,  1.90s/it]"
     ]
    },
    {
     "name": "stderr",
     "output_type": "stream",
     "text": [
      "\r",
      " 37%|███▋      | 233/630 [05:50<11:53,  1.80s/it]"
     ]
    },
    {
     "name": "stderr",
     "output_type": "stream",
     "text": [
      "\r",
      " 37%|███▋      | 234/630 [05:52<11:53,  1.80s/it]"
     ]
    },
    {
     "name": "stderr",
     "output_type": "stream",
     "text": [
      "\r",
      " 37%|███▋      | 235/630 [05:54<12:27,  1.89s/it]"
     ]
    },
    {
     "name": "stderr",
     "output_type": "stream",
     "text": [
      "\r",
      " 37%|███▋      | 236/630 [05:55<11:50,  1.80s/it]"
     ]
    },
    {
     "name": "stderr",
     "output_type": "stream",
     "text": [
      "\r",
      " 38%|███▊      | 237/630 [05:57<11:30,  1.76s/it]"
     ]
    },
    {
     "name": "stderr",
     "output_type": "stream",
     "text": [
      "\r",
      " 38%|███▊      | 238/630 [05:59<11:12,  1.72s/it]"
     ]
    },
    {
     "name": "stderr",
     "output_type": "stream",
     "text": [
      "\r",
      " 38%|███▊      | 239/630 [06:00<11:00,  1.69s/it]"
     ]
    },
    {
     "name": "stderr",
     "output_type": "stream",
     "text": [
      "\r",
      " 38%|███▊      | 240/630 [06:03<12:05,  1.86s/it]"
     ]
    },
    {
     "name": "stderr",
     "output_type": "stream",
     "text": [
      "\r",
      " 38%|███▊      | 241/630 [06:04<11:25,  1.76s/it]"
     ]
    },
    {
     "name": "stderr",
     "output_type": "stream",
     "text": [
      "\r",
      " 38%|███▊      | 242/630 [06:06<10:57,  1.69s/it]"
     ]
    },
    {
     "name": "stderr",
     "output_type": "stream",
     "text": [
      "\r",
      " 39%|███▊      | 243/630 [06:08<12:01,  1.86s/it]"
     ]
    },
    {
     "name": "stderr",
     "output_type": "stream",
     "text": [
      "\r",
      " 39%|███▊      | 244/630 [06:10<12:05,  1.88s/it]"
     ]
    },
    {
     "name": "stderr",
     "output_type": "stream",
     "text": [
      "\r",
      " 39%|███▉      | 245/630 [06:11<11:27,  1.79s/it]"
     ]
    },
    {
     "name": "stderr",
     "output_type": "stream",
     "text": [
      "\r",
      " 39%|███▉      | 246/630 [06:13<11:34,  1.81s/it]"
     ]
    },
    {
     "name": "stderr",
     "output_type": "stream",
     "text": [
      "\r",
      " 39%|███▉      | 247/630 [06:16<12:24,  1.94s/it]"
     ]
    },
    {
     "name": "stderr",
     "output_type": "stream",
     "text": [
      "\r",
      " 39%|███▉      | 248/630 [06:17<11:46,  1.85s/it]"
     ]
    },
    {
     "name": "stderr",
     "output_type": "stream",
     "text": [
      "\r",
      " 40%|███▉      | 249/630 [06:19<11:22,  1.79s/it]"
     ]
    },
    {
     "name": "stderr",
     "output_type": "stream",
     "text": [
      "\r",
      " 40%|███▉      | 250/630 [06:21<11:40,  1.84s/it]"
     ]
    },
    {
     "name": "stderr",
     "output_type": "stream",
     "text": [
      "\r",
      " 40%|███▉      | 251/630 [06:22<11:07,  1.76s/it]"
     ]
    },
    {
     "name": "stderr",
     "output_type": "stream",
     "text": [
      "\r",
      " 40%|████      | 252/630 [06:25<11:49,  1.88s/it]"
     ]
    },
    {
     "name": "stderr",
     "output_type": "stream",
     "text": [
      "\r",
      " 40%|████      | 253/630 [06:26<11:29,  1.83s/it]"
     ]
    },
    {
     "name": "stderr",
     "output_type": "stream",
     "text": [
      "\r",
      " 40%|████      | 254/630 [06:28<11:32,  1.84s/it]"
     ]
    },
    {
     "name": "stderr",
     "output_type": "stream",
     "text": [
      "\r",
      " 40%|████      | 255/630 [06:30<11:16,  1.80s/it]"
     ]
    },
    {
     "name": "stderr",
     "output_type": "stream",
     "text": [
      "\r",
      " 41%|████      | 256/630 [06:31<10:46,  1.73s/it]"
     ]
    },
    {
     "name": "stderr",
     "output_type": "stream",
     "text": [
      "\r",
      " 41%|████      | 257/630 [06:33<10:33,  1.70s/it]"
     ]
    },
    {
     "name": "stderr",
     "output_type": "stream",
     "text": [
      "\r",
      " 41%|████      | 258/630 [06:35<10:12,  1.65s/it]"
     ]
    },
    {
     "name": "stderr",
     "output_type": "stream",
     "text": [
      "\r",
      " 41%|████      | 259/630 [06:36<10:11,  1.65s/it]"
     ]
    },
    {
     "name": "stderr",
     "output_type": "stream",
     "text": [
      "\r",
      " 41%|████▏     | 260/630 [06:38<11:15,  1.82s/it]"
     ]
    },
    {
     "name": "stderr",
     "output_type": "stream",
     "text": [
      "\r",
      " 41%|████▏     | 261/630 [06:40<11:34,  1.88s/it]"
     ]
    },
    {
     "name": "stderr",
     "output_type": "stream",
     "text": [
      "\r",
      " 42%|████▏     | 262/630 [06:42<10:58,  1.79s/it]"
     ]
    },
    {
     "name": "stderr",
     "output_type": "stream",
     "text": [
      "\r",
      " 42%|████▏     | 263/630 [06:44<11:27,  1.87s/it]"
     ]
    },
    {
     "name": "stderr",
     "output_type": "stream",
     "text": [
      "\r",
      " 42%|████▏     | 264/630 [06:46<10:47,  1.77s/it]"
     ]
    },
    {
     "name": "stderr",
     "output_type": "stream",
     "text": [
      "\r",
      " 42%|████▏     | 265/630 [06:47<10:27,  1.72s/it]"
     ]
    },
    {
     "name": "stderr",
     "output_type": "stream",
     "text": [
      "\r",
      " 42%|████▏     | 266/630 [06:49<10:10,  1.68s/it]"
     ]
    },
    {
     "name": "stderr",
     "output_type": "stream",
     "text": [
      "\r",
      " 42%|████▏     | 267/630 [06:50<09:54,  1.64s/it]"
     ]
    },
    {
     "name": "stderr",
     "output_type": "stream",
     "text": [
      "\r",
      " 43%|████▎     | 268/630 [06:52<10:28,  1.74s/it]"
     ]
    },
    {
     "name": "stderr",
     "output_type": "stream",
     "text": [
      "\r",
      " 43%|████▎     | 269/630 [06:54<10:16,  1.71s/it]"
     ]
    },
    {
     "name": "stderr",
     "output_type": "stream",
     "text": [
      "\r",
      " 43%|████▎     | 270/630 [06:56<10:46,  1.79s/it]"
     ]
    },
    {
     "name": "stderr",
     "output_type": "stream",
     "text": [
      "\r",
      " 43%|████▎     | 271/630 [06:58<10:33,  1.76s/it]"
     ]
    },
    {
     "name": "stderr",
     "output_type": "stream",
     "text": [
      "\r",
      " 43%|████▎     | 272/630 [06:59<10:25,  1.75s/it]"
     ]
    },
    {
     "name": "stderr",
     "output_type": "stream",
     "text": [
      "\r",
      " 43%|████▎     | 273/630 [07:01<10:41,  1.80s/it]"
     ]
    },
    {
     "name": "stderr",
     "output_type": "stream",
     "text": [
      "\r",
      " 43%|████▎     | 274/630 [07:03<10:25,  1.76s/it]"
     ]
    },
    {
     "name": "stderr",
     "output_type": "stream",
     "text": [
      "\r",
      " 44%|████▎     | 275/630 [07:05<10:51,  1.83s/it]"
     ]
    },
    {
     "name": "stderr",
     "output_type": "stream",
     "text": [
      "\r",
      " 44%|████▍     | 276/630 [07:07<10:37,  1.80s/it]"
     ]
    },
    {
     "name": "stderr",
     "output_type": "stream",
     "text": [
      "\r",
      " 44%|████▍     | 277/630 [07:08<10:26,  1.77s/it]"
     ]
    },
    {
     "name": "stderr",
     "output_type": "stream",
     "text": [
      "\r",
      " 44%|████▍     | 278/630 [07:10<10:16,  1.75s/it]"
     ]
    },
    {
     "name": "stderr",
     "output_type": "stream",
     "text": [
      "\r",
      " 44%|████▍     | 279/630 [07:12<09:58,  1.71s/it]"
     ]
    },
    {
     "name": "stderr",
     "output_type": "stream",
     "text": [
      "\r",
      " 44%|████▍     | 280/630 [07:13<09:49,  1.68s/it]"
     ]
    },
    {
     "name": "stderr",
     "output_type": "stream",
     "text": [
      "\r",
      " 45%|████▍     | 281/630 [07:15<10:01,  1.72s/it]"
     ]
    },
    {
     "name": "stderr",
     "output_type": "stream",
     "text": [
      "\r",
      " 45%|████▍     | 282/630 [07:17<10:01,  1.73s/it]"
     ]
    },
    {
     "name": "stderr",
     "output_type": "stream",
     "text": [
      "\r",
      " 45%|████▍     | 283/630 [07:19<09:57,  1.72s/it]"
     ]
    },
    {
     "name": "stderr",
     "output_type": "stream",
     "text": [
      "\r",
      " 45%|████▌     | 284/630 [07:21<10:50,  1.88s/it]"
     ]
    },
    {
     "name": "stderr",
     "output_type": "stream",
     "text": [
      "\r",
      " 45%|████▌     | 285/630 [07:23<10:31,  1.83s/it]"
     ]
    },
    {
     "name": "stderr",
     "output_type": "stream",
     "text": [
      "\r",
      " 45%|████▌     | 286/630 [07:24<10:11,  1.78s/it]"
     ]
    },
    {
     "name": "stderr",
     "output_type": "stream",
     "text": [
      "\r",
      " 46%|████▌     | 287/630 [07:26<09:55,  1.74s/it]"
     ]
    },
    {
     "name": "stderr",
     "output_type": "stream",
     "text": [
      "\r",
      " 46%|████▌     | 288/630 [07:28<09:54,  1.74s/it]"
     ]
    },
    {
     "name": "stderr",
     "output_type": "stream",
     "text": [
      "\r",
      " 46%|████▌     | 289/630 [07:29<09:41,  1.70s/it]"
     ]
    },
    {
     "name": "stderr",
     "output_type": "stream",
     "text": [
      "\r",
      " 46%|████▌     | 290/630 [07:31<09:46,  1.72s/it]"
     ]
    },
    {
     "name": "stderr",
     "output_type": "stream",
     "text": [
      "\r",
      " 46%|████▌     | 291/630 [07:33<10:20,  1.83s/it]"
     ]
    },
    {
     "name": "stderr",
     "output_type": "stream",
     "text": [
      "\r",
      " 46%|████▋     | 292/630 [07:35<10:48,  1.92s/it]"
     ]
    },
    {
     "name": "stderr",
     "output_type": "stream",
     "text": [
      "\r",
      " 47%|████▋     | 293/630 [07:37<11:04,  1.97s/it]"
     ]
    },
    {
     "name": "stderr",
     "output_type": "stream",
     "text": [
      "\r",
      " 47%|████▋     | 294/630 [07:40<11:38,  2.08s/it]"
     ]
    },
    {
     "name": "stderr",
     "output_type": "stream",
     "text": [
      "\r",
      " 47%|████▋     | 295/630 [07:41<10:51,  1.94s/it]"
     ]
    },
    {
     "name": "stderr",
     "output_type": "stream",
     "text": [
      "\r",
      " 47%|████▋     | 296/630 [07:43<10:15,  1.84s/it]"
     ]
    },
    {
     "name": "stderr",
     "output_type": "stream",
     "text": [
      "\r",
      " 47%|████▋     | 297/630 [07:44<09:53,  1.78s/it]"
     ]
    },
    {
     "name": "stderr",
     "output_type": "stream",
     "text": [
      "\r",
      " 47%|████▋     | 298/630 [07:47<10:46,  1.95s/it]"
     ]
    },
    {
     "name": "stderr",
     "output_type": "stream",
     "text": [
      "\r",
      " 47%|████▋     | 299/630 [07:49<11:19,  2.05s/it]"
     ]
    },
    {
     "name": "stderr",
     "output_type": "stream",
     "text": [
      "\r",
      " 48%|████▊     | 300/630 [07:51<11:17,  2.05s/it]"
     ]
    },
    {
     "name": "stderr",
     "output_type": "stream",
     "text": [
      "\r",
      " 48%|████▊     | 301/630 [07:53<10:33,  1.93s/it]"
     ]
    },
    {
     "name": "stderr",
     "output_type": "stream",
     "text": [
      "\r",
      " 48%|████▊     | 302/630 [07:55<10:36,  1.94s/it]"
     ]
    },
    {
     "name": "stderr",
     "output_type": "stream",
     "text": [
      "\r",
      " 48%|████▊     | 303/630 [07:56<10:07,  1.86s/it]"
     ]
    },
    {
     "name": "stderr",
     "output_type": "stream",
     "text": [
      "\r",
      " 48%|████▊     | 304/630 [07:58<09:45,  1.80s/it]"
     ]
    },
    {
     "name": "stderr",
     "output_type": "stream",
     "text": [
      "\r",
      " 48%|████▊     | 305/630 [08:00<10:07,  1.87s/it]"
     ]
    },
    {
     "name": "stderr",
     "output_type": "stream",
     "text": [
      "\r",
      " 49%|████▊     | 306/630 [08:02<09:38,  1.78s/it]"
     ]
    },
    {
     "name": "stderr",
     "output_type": "stream",
     "text": [
      "\r",
      " 49%|████▊     | 307/630 [08:03<09:27,  1.76s/it]"
     ]
    },
    {
     "name": "stderr",
     "output_type": "stream",
     "text": [
      "\r",
      " 49%|████▉     | 308/630 [08:05<09:09,  1.71s/it]"
     ]
    },
    {
     "name": "stderr",
     "output_type": "stream",
     "text": [
      "\r",
      " 49%|████▉     | 309/630 [08:07<08:56,  1.67s/it]"
     ]
    },
    {
     "name": "stderr",
     "output_type": "stream",
     "text": [
      "\r",
      " 49%|████▉     | 310/630 [08:08<09:17,  1.74s/it]"
     ]
    },
    {
     "name": "stderr",
     "output_type": "stream",
     "text": [
      "\r",
      " 49%|████▉     | 311/630 [08:10<09:43,  1.83s/it]"
     ]
    },
    {
     "name": "stderr",
     "output_type": "stream",
     "text": [
      "\r",
      " 50%|████▉     | 312/630 [08:12<09:16,  1.75s/it]"
     ]
    },
    {
     "name": "stderr",
     "output_type": "stream",
     "text": [
      "\r",
      " 50%|████▉     | 313/630 [08:14<09:36,  1.82s/it]"
     ]
    },
    {
     "name": "stderr",
     "output_type": "stream",
     "text": [
      "\r",
      " 50%|████▉     | 314/630 [08:16<09:37,  1.83s/it]"
     ]
    },
    {
     "name": "stderr",
     "output_type": "stream",
     "text": [
      "\r",
      " 50%|█████     | 315/630 [08:18<09:24,  1.79s/it]"
     ]
    },
    {
     "name": "stderr",
     "output_type": "stream",
     "text": [
      "\r",
      " 50%|█████     | 316/630 [08:20<10:10,  1.94s/it]"
     ]
    },
    {
     "name": "stderr",
     "output_type": "stream",
     "text": [
      "\r",
      " 50%|█████     | 317/630 [08:22<10:11,  1.95s/it]"
     ]
    },
    {
     "name": "stderr",
     "output_type": "stream",
     "text": [
      "\r",
      " 50%|█████     | 318/630 [08:24<09:49,  1.89s/it]"
     ]
    },
    {
     "name": "stderr",
     "output_type": "stream",
     "text": [
      "\r",
      " 51%|█████     | 319/630 [08:25<09:34,  1.85s/it]"
     ]
    },
    {
     "name": "stderr",
     "output_type": "stream",
     "text": [
      "\r",
      " 51%|█████     | 320/630 [08:27<09:25,  1.82s/it]"
     ]
    },
    {
     "name": "stderr",
     "output_type": "stream",
     "text": [
      "\r",
      " 51%|█████     | 321/630 [08:29<09:09,  1.78s/it]"
     ]
    },
    {
     "name": "stderr",
     "output_type": "stream",
     "text": [
      "\r",
      " 51%|█████     | 322/630 [08:31<09:11,  1.79s/it]"
     ]
    },
    {
     "name": "stderr",
     "output_type": "stream",
     "text": [
      "\r",
      " 51%|█████▏    | 323/630 [08:32<09:06,  1.78s/it]"
     ]
    },
    {
     "name": "stderr",
     "output_type": "stream",
     "text": [
      "\r",
      " 51%|█████▏    | 324/630 [08:34<09:05,  1.78s/it]"
     ]
    },
    {
     "name": "stderr",
     "output_type": "stream",
     "text": [
      "\r",
      " 52%|█████▏    | 325/630 [08:36<09:35,  1.89s/it]"
     ]
    },
    {
     "name": "stderr",
     "output_type": "stream",
     "text": [
      "\r",
      " 52%|█████▏    | 326/630 [08:38<09:26,  1.87s/it]"
     ]
    },
    {
     "name": "stderr",
     "output_type": "stream",
     "text": [
      "\r",
      " 52%|█████▏    | 327/630 [08:40<09:07,  1.81s/it]"
     ]
    },
    {
     "name": "stderr",
     "output_type": "stream",
     "text": [
      "\r",
      " 52%|█████▏    | 328/630 [08:42<09:00,  1.79s/it]"
     ]
    },
    {
     "name": "stderr",
     "output_type": "stream",
     "text": [
      "\r",
      " 52%|█████▏    | 329/630 [08:43<08:57,  1.79s/it]"
     ]
    },
    {
     "name": "stderr",
     "output_type": "stream",
     "text": [
      "\r",
      " 52%|█████▏    | 330/630 [08:45<09:26,  1.89s/it]"
     ]
    },
    {
     "name": "stderr",
     "output_type": "stream",
     "text": [
      "\r",
      " 53%|█████▎    | 331/630 [08:48<10:09,  2.04s/it]"
     ]
    },
    {
     "name": "stderr",
     "output_type": "stream",
     "text": [
      "\r",
      " 53%|█████▎    | 332/630 [08:50<10:00,  2.01s/it]"
     ]
    },
    {
     "name": "stderr",
     "output_type": "stream",
     "text": [
      "\r",
      " 53%|█████▎    | 333/630 [08:52<09:32,  1.93s/it]"
     ]
    },
    {
     "name": "stderr",
     "output_type": "stream",
     "text": [
      "\r",
      " 53%|█████▎    | 334/630 [08:53<09:07,  1.85s/it]"
     ]
    },
    {
     "name": "stderr",
     "output_type": "stream",
     "text": [
      "\r",
      " 53%|█████▎    | 335/630 [08:55<08:56,  1.82s/it]"
     ]
    },
    {
     "name": "stderr",
     "output_type": "stream",
     "text": [
      "\r",
      " 53%|█████▎    | 336/630 [08:57<08:53,  1.81s/it]"
     ]
    },
    {
     "name": "stderr",
     "output_type": "stream",
     "text": [
      "\r",
      " 53%|█████▎    | 337/630 [08:58<08:41,  1.78s/it]"
     ]
    },
    {
     "name": "stderr",
     "output_type": "stream",
     "text": [
      "\r",
      " 54%|█████▎    | 338/630 [09:00<08:28,  1.74s/it]"
     ]
    },
    {
     "name": "stderr",
     "output_type": "stream",
     "text": [
      "\r",
      " 54%|█████▍    | 339/630 [09:02<08:27,  1.74s/it]"
     ]
    },
    {
     "name": "stderr",
     "output_type": "stream",
     "text": [
      "\r",
      " 54%|█████▍    | 340/630 [09:04<08:31,  1.76s/it]"
     ]
    },
    {
     "name": "stderr",
     "output_type": "stream",
     "text": [
      "\r",
      " 54%|█████▍    | 341/630 [09:06<09:24,  1.95s/it]"
     ]
    },
    {
     "name": "stderr",
     "output_type": "stream",
     "text": [
      "\r",
      " 54%|█████▍    | 342/630 [09:08<09:54,  2.07s/it]"
     ]
    },
    {
     "name": "stderr",
     "output_type": "stream",
     "text": [
      "\r",
      " 54%|█████▍    | 343/630 [09:10<09:24,  1.97s/it]"
     ]
    },
    {
     "name": "stderr",
     "output_type": "stream",
     "text": [
      "\r",
      " 55%|█████▍    | 344/630 [09:12<09:27,  1.98s/it]"
     ]
    },
    {
     "name": "stderr",
     "output_type": "stream",
     "text": [
      "\r",
      " 55%|█████▍    | 345/630 [09:14<09:23,  1.98s/it]"
     ]
    },
    {
     "name": "stderr",
     "output_type": "stream",
     "text": [
      "\r",
      " 55%|█████▍    | 346/630 [09:16<08:50,  1.87s/it]"
     ]
    },
    {
     "name": "stderr",
     "output_type": "stream",
     "text": [
      "\r",
      " 55%|█████▌    | 347/630 [09:17<08:31,  1.81s/it]"
     ]
    },
    {
     "name": "stderr",
     "output_type": "stream",
     "text": [
      "\r",
      " 55%|█████▌    | 348/630 [09:19<08:14,  1.75s/it]"
     ]
    },
    {
     "name": "stderr",
     "output_type": "stream",
     "text": [
      "\r",
      " 55%|█████▌    | 349/630 [09:21<08:08,  1.74s/it]"
     ]
    },
    {
     "name": "stderr",
     "output_type": "stream",
     "text": [
      "\r",
      " 56%|█████▌    | 350/630 [09:23<08:40,  1.86s/it]"
     ]
    },
    {
     "name": "stderr",
     "output_type": "stream",
     "text": [
      "\r",
      " 56%|█████▌    | 351/630 [09:25<08:44,  1.88s/it]"
     ]
    },
    {
     "name": "stderr",
     "output_type": "stream",
     "text": [
      "\r",
      " 56%|█████▌    | 352/630 [09:27<08:43,  1.88s/it]"
     ]
    },
    {
     "name": "stderr",
     "output_type": "stream",
     "text": [
      "\r",
      " 56%|█████▌    | 353/630 [09:29<08:52,  1.92s/it]"
     ]
    },
    {
     "name": "stderr",
     "output_type": "stream",
     "text": [
      "\r",
      " 56%|█████▌    | 354/630 [09:31<08:47,  1.91s/it]"
     ]
    },
    {
     "name": "stderr",
     "output_type": "stream",
     "text": [
      "\r",
      " 56%|█████▋    | 355/630 [09:33<08:59,  1.96s/it]"
     ]
    },
    {
     "name": "stderr",
     "output_type": "stream",
     "text": [
      "\r",
      " 57%|█████▋    | 356/630 [09:34<08:29,  1.86s/it]"
     ]
    },
    {
     "name": "stderr",
     "output_type": "stream",
     "text": [
      "\r",
      " 57%|█████▋    | 357/630 [09:36<08:05,  1.78s/it]"
     ]
    },
    {
     "name": "stderr",
     "output_type": "stream",
     "text": [
      "\r",
      " 57%|█████▋    | 358/630 [09:38<08:04,  1.78s/it]"
     ]
    },
    {
     "name": "stderr",
     "output_type": "stream",
     "text": [
      "\r",
      " 57%|█████▋    | 359/630 [09:39<07:47,  1.72s/it]"
     ]
    },
    {
     "name": "stderr",
     "output_type": "stream",
     "text": [
      "\r",
      " 57%|█████▋    | 360/630 [09:41<07:59,  1.77s/it]"
     ]
    },
    {
     "name": "stderr",
     "output_type": "stream",
     "text": [
      "\r",
      " 57%|█████▋    | 361/630 [09:43<07:55,  1.77s/it]"
     ]
    },
    {
     "name": "stderr",
     "output_type": "stream",
     "text": [
      "\r",
      " 57%|█████▋    | 362/630 [09:45<08:17,  1.86s/it]"
     ]
    },
    {
     "name": "stderr",
     "output_type": "stream",
     "text": [
      "\r",
      " 58%|█████▊    | 363/630 [09:47<08:36,  1.93s/it]"
     ]
    },
    {
     "name": "stderr",
     "output_type": "stream",
     "text": [
      "\r",
      " 58%|█████▊    | 364/630 [09:49<08:21,  1.88s/it]"
     ]
    },
    {
     "name": "stderr",
     "output_type": "stream",
     "text": [
      "\r",
      " 58%|█████▊    | 365/630 [09:51<08:13,  1.86s/it]"
     ]
    },
    {
     "name": "stderr",
     "output_type": "stream",
     "text": [
      "\r",
      " 58%|█████▊    | 366/630 [09:53<08:35,  1.95s/it]"
     ]
    },
    {
     "name": "stderr",
     "output_type": "stream",
     "text": [
      "\r",
      " 58%|█████▊    | 367/630 [09:55<08:40,  1.98s/it]"
     ]
    },
    {
     "name": "stderr",
     "output_type": "stream",
     "text": [
      "\r",
      " 58%|█████▊    | 368/630 [09:57<08:24,  1.92s/it]"
     ]
    },
    {
     "name": "stderr",
     "output_type": "stream",
     "text": [
      "\r",
      " 59%|█████▊    | 369/630 [09:59<08:25,  1.94s/it]"
     ]
    },
    {
     "name": "stderr",
     "output_type": "stream",
     "text": [
      "\r",
      " 59%|█████▊    | 370/630 [10:00<08:13,  1.90s/it]"
     ]
    },
    {
     "name": "stderr",
     "output_type": "stream",
     "text": [
      "\r",
      " 59%|█████▉    | 371/630 [10:02<08:13,  1.91s/it]"
     ]
    },
    {
     "name": "stderr",
     "output_type": "stream",
     "text": [
      "\r",
      " 59%|█████▉    | 372/630 [10:04<07:59,  1.86s/it]"
     ]
    },
    {
     "name": "stderr",
     "output_type": "stream",
     "text": [
      "\r",
      " 59%|█████▉    | 373/630 [10:06<07:55,  1.85s/it]"
     ]
    },
    {
     "name": "stderr",
     "output_type": "stream",
     "text": [
      "\r",
      " 59%|█████▉    | 374/630 [10:08<08:13,  1.93s/it]"
     ]
    },
    {
     "name": "stderr",
     "output_type": "stream",
     "text": [
      "\r",
      " 60%|█████▉    | 375/630 [10:10<08:17,  1.95s/it]"
     ]
    },
    {
     "name": "stderr",
     "output_type": "stream",
     "text": [
      "\r",
      " 60%|█████▉    | 376/630 [10:12<08:15,  1.95s/it]"
     ]
    },
    {
     "name": "stderr",
     "output_type": "stream",
     "text": [
      "\r",
      " 60%|█████▉    | 377/630 [10:14<08:14,  1.95s/it]"
     ]
    },
    {
     "name": "stderr",
     "output_type": "stream",
     "text": [
      "\r",
      " 60%|██████    | 378/630 [10:16<08:16,  1.97s/it]"
     ]
    },
    {
     "name": "stderr",
     "output_type": "stream",
     "text": [
      "\r",
      " 60%|██████    | 379/630 [10:18<08:07,  1.94s/it]"
     ]
    },
    {
     "name": "stderr",
     "output_type": "stream",
     "text": [
      "\r",
      " 60%|██████    | 380/630 [10:20<08:40,  2.08s/it]"
     ]
    },
    {
     "name": "stderr",
     "output_type": "stream",
     "text": [
      "\r",
      " 60%|██████    | 381/630 [10:22<08:27,  2.04s/it]"
     ]
    },
    {
     "name": "stderr",
     "output_type": "stream",
     "text": [
      "\r",
      " 61%|██████    | 382/630 [10:24<08:13,  1.99s/it]"
     ]
    },
    {
     "name": "stderr",
     "output_type": "stream",
     "text": [
      "\r",
      " 61%|██████    | 383/630 [10:26<08:06,  1.97s/it]"
     ]
    },
    {
     "name": "stderr",
     "output_type": "stream",
     "text": [
      "\r",
      " 61%|██████    | 384/630 [10:29<08:50,  2.16s/it]"
     ]
    },
    {
     "name": "stderr",
     "output_type": "stream",
     "text": [
      "\r",
      " 61%|██████    | 385/630 [10:30<08:25,  2.06s/it]"
     ]
    },
    {
     "name": "stderr",
     "output_type": "stream",
     "text": [
      "\r",
      " 61%|██████▏   | 386/630 [10:32<08:02,  1.98s/it]"
     ]
    },
    {
     "name": "stderr",
     "output_type": "stream",
     "text": [
      "\r",
      " 61%|██████▏   | 387/630 [10:34<07:47,  1.92s/it]"
     ]
    },
    {
     "name": "stderr",
     "output_type": "stream",
     "text": [
      "\r",
      " 62%|██████▏   | 388/630 [10:36<07:37,  1.89s/it]"
     ]
    },
    {
     "name": "stderr",
     "output_type": "stream",
     "text": [
      "\r",
      " 62%|██████▏   | 389/630 [10:38<07:33,  1.88s/it]"
     ]
    },
    {
     "name": "stderr",
     "output_type": "stream",
     "text": [
      "\r",
      " 62%|██████▏   | 390/630 [10:39<07:27,  1.86s/it]"
     ]
    },
    {
     "name": "stderr",
     "output_type": "stream",
     "text": [
      "\r",
      " 62%|██████▏   | 391/630 [10:41<07:24,  1.86s/it]"
     ]
    },
    {
     "name": "stderr",
     "output_type": "stream",
     "text": [
      "\r",
      " 62%|██████▏   | 392/630 [10:43<07:17,  1.84s/it]"
     ]
    },
    {
     "name": "stderr",
     "output_type": "stream",
     "text": [
      "\r",
      " 62%|██████▏   | 393/630 [10:45<07:21,  1.86s/it]"
     ]
    },
    {
     "name": "stderr",
     "output_type": "stream",
     "text": [
      "\r",
      " 63%|██████▎   | 394/630 [10:47<07:41,  1.96s/it]"
     ]
    },
    {
     "name": "stderr",
     "output_type": "stream",
     "text": [
      "\r",
      " 63%|██████▎   | 395/630 [10:49<07:53,  2.02s/it]"
     ]
    },
    {
     "name": "stderr",
     "output_type": "stream",
     "text": [
      "\r",
      " 63%|██████▎   | 396/630 [10:51<07:34,  1.94s/it]"
     ]
    },
    {
     "name": "stderr",
     "output_type": "stream",
     "text": [
      "\r",
      " 63%|██████▎   | 397/630 [10:53<07:17,  1.88s/it]"
     ]
    },
    {
     "name": "stderr",
     "output_type": "stream",
     "text": [
      "\r",
      " 63%|██████▎   | 398/630 [10:55<07:16,  1.88s/it]"
     ]
    },
    {
     "name": "stderr",
     "output_type": "stream",
     "text": [
      "\r",
      " 63%|██████▎   | 399/630 [10:56<07:03,  1.84s/it]"
     ]
    },
    {
     "name": "stderr",
     "output_type": "stream",
     "text": [
      "\r",
      " 63%|██████▎   | 400/630 [10:59<07:35,  1.98s/it]"
     ]
    },
    {
     "name": "stderr",
     "output_type": "stream",
     "text": [
      "\r",
      " 64%|██████▎   | 401/630 [11:00<07:04,  1.86s/it]"
     ]
    },
    {
     "name": "stderr",
     "output_type": "stream",
     "text": [
      "\r",
      " 64%|██████▍   | 402/630 [11:02<07:13,  1.90s/it]"
     ]
    },
    {
     "name": "stderr",
     "output_type": "stream",
     "text": [
      "\r",
      " 64%|██████▍   | 403/630 [11:04<06:48,  1.80s/it]"
     ]
    },
    {
     "name": "stderr",
     "output_type": "stream",
     "text": [
      "\r",
      " 64%|██████▍   | 404/630 [11:06<07:11,  1.91s/it]"
     ]
    },
    {
     "name": "stderr",
     "output_type": "stream",
     "text": [
      "\r",
      " 64%|██████▍   | 405/630 [11:08<06:45,  1.80s/it]"
     ]
    },
    {
     "name": "stderr",
     "output_type": "stream",
     "text": [
      "\r",
      " 64%|██████▍   | 406/630 [11:10<07:15,  1.94s/it]"
     ]
    },
    {
     "name": "stderr",
     "output_type": "stream",
     "text": [
      "\r",
      " 65%|██████▍   | 407/630 [11:12<07:17,  1.96s/it]"
     ]
    },
    {
     "name": "stderr",
     "output_type": "stream",
     "text": [
      "\r",
      " 65%|██████▍   | 408/630 [11:14<07:20,  1.98s/it]"
     ]
    },
    {
     "name": "stderr",
     "output_type": "stream",
     "text": [
      "\r",
      " 65%|██████▍   | 409/630 [11:16<07:07,  1.94s/it]"
     ]
    },
    {
     "name": "stderr",
     "output_type": "stream",
     "text": [
      "\r",
      " 65%|██████▌   | 410/630 [11:18<07:19,  2.00s/it]"
     ]
    },
    {
     "name": "stderr",
     "output_type": "stream",
     "text": [
      "\r",
      " 65%|██████▌   | 411/630 [11:20<07:06,  1.95s/it]"
     ]
    },
    {
     "name": "stderr",
     "output_type": "stream",
     "text": [
      "\r",
      " 65%|██████▌   | 412/630 [11:22<07:00,  1.93s/it]"
     ]
    },
    {
     "name": "stderr",
     "output_type": "stream",
     "text": [
      "\r",
      " 66%|██████▌   | 413/630 [11:24<07:07,  1.97s/it]"
     ]
    },
    {
     "name": "stderr",
     "output_type": "stream",
     "text": [
      "\r",
      " 66%|██████▌   | 414/630 [11:26<06:59,  1.94s/it]"
     ]
    },
    {
     "name": "stderr",
     "output_type": "stream",
     "text": [
      "\r",
      " 66%|██████▌   | 415/630 [11:28<07:04,  1.98s/it]"
     ]
    },
    {
     "name": "stderr",
     "output_type": "stream",
     "text": [
      "\r",
      " 66%|██████▌   | 416/630 [11:30<07:21,  2.06s/it]"
     ]
    },
    {
     "name": "stderr",
     "output_type": "stream",
     "text": [
      "\r",
      " 66%|██████▌   | 417/630 [11:32<07:06,  2.00s/it]"
     ]
    },
    {
     "name": "stderr",
     "output_type": "stream",
     "text": [
      "\r",
      " 66%|██████▋   | 418/630 [11:34<07:31,  2.13s/it]"
     ]
    },
    {
     "name": "stderr",
     "output_type": "stream",
     "text": [
      "\r",
      " 67%|██████▋   | 419/630 [11:36<07:25,  2.11s/it]"
     ]
    },
    {
     "name": "stderr",
     "output_type": "stream",
     "text": [
      "\r",
      " 67%|██████▋   | 420/630 [11:38<07:16,  2.08s/it]"
     ]
    },
    {
     "name": "stderr",
     "output_type": "stream",
     "text": [
      "\r",
      " 67%|██████▋   | 421/630 [11:40<07:09,  2.06s/it]"
     ]
    },
    {
     "name": "stderr",
     "output_type": "stream",
     "text": [
      "\r",
      " 67%|██████▋   | 422/630 [11:42<07:00,  2.02s/it]"
     ]
    },
    {
     "name": "stderr",
     "output_type": "stream",
     "text": [
      "\r",
      " 67%|██████▋   | 423/630 [11:44<07:01,  2.04s/it]"
     ]
    },
    {
     "name": "stderr",
     "output_type": "stream",
     "text": [
      "\r",
      " 67%|██████▋   | 424/630 [11:46<06:57,  2.03s/it]"
     ]
    },
    {
     "name": "stderr",
     "output_type": "stream",
     "text": [
      "\r",
      " 67%|██████▋   | 425/630 [11:48<06:46,  1.98s/it]"
     ]
    },
    {
     "name": "stderr",
     "output_type": "stream",
     "text": [
      "\r",
      " 68%|██████▊   | 426/630 [11:51<07:14,  2.13s/it]"
     ]
    },
    {
     "name": "stderr",
     "output_type": "stream",
     "text": [
      "\r",
      " 68%|██████▊   | 427/630 [11:53<07:03,  2.09s/it]"
     ]
    },
    {
     "name": "stderr",
     "output_type": "stream",
     "text": [
      "\r",
      " 68%|██████▊   | 428/630 [11:54<06:49,  2.03s/it]"
     ]
    },
    {
     "name": "stderr",
     "output_type": "stream",
     "text": [
      "\r",
      " 68%|██████▊   | 429/630 [11:57<06:46,  2.02s/it]"
     ]
    },
    {
     "name": "stderr",
     "output_type": "stream",
     "text": [
      "\r",
      " 68%|██████▊   | 430/630 [11:59<06:46,  2.03s/it]"
     ]
    },
    {
     "name": "stderr",
     "output_type": "stream",
     "text": [
      "\r",
      " 68%|██████▊   | 431/630 [12:01<06:42,  2.02s/it]"
     ]
    },
    {
     "name": "stderr",
     "output_type": "stream",
     "text": [
      "\r",
      " 69%|██████▊   | 432/630 [12:02<06:26,  1.95s/it]"
     ]
    },
    {
     "name": "stderr",
     "output_type": "stream",
     "text": [
      "\r",
      " 69%|██████▊   | 433/630 [12:05<06:46,  2.06s/it]"
     ]
    },
    {
     "name": "stderr",
     "output_type": "stream",
     "text": [
      "\r",
      " 69%|██████▉   | 434/630 [12:07<06:50,  2.09s/it]"
     ]
    },
    {
     "name": "stderr",
     "output_type": "stream",
     "text": [
      "\r",
      " 69%|██████▉   | 435/630 [12:09<06:52,  2.12s/it]"
     ]
    },
    {
     "name": "stderr",
     "output_type": "stream",
     "text": [
      "\r",
      " 69%|██████▉   | 436/630 [12:11<06:38,  2.06s/it]"
     ]
    },
    {
     "name": "stderr",
     "output_type": "stream",
     "text": [
      "\r",
      " 69%|██████▉   | 437/630 [12:13<06:39,  2.07s/it]"
     ]
    },
    {
     "name": "stderr",
     "output_type": "stream",
     "text": [
      "\r",
      " 70%|██████▉   | 438/630 [12:15<06:20,  1.98s/it]"
     ]
    },
    {
     "name": "stderr",
     "output_type": "stream",
     "text": [
      "\r",
      " 70%|██████▉   | 439/630 [12:17<06:20,  1.99s/it]"
     ]
    },
    {
     "name": "stderr",
     "output_type": "stream",
     "text": [
      "\r",
      " 70%|██████▉   | 440/630 [12:19<06:21,  2.01s/it]"
     ]
    },
    {
     "name": "stderr",
     "output_type": "stream",
     "text": [
      "\r",
      " 70%|███████   | 441/630 [12:21<06:18,  2.00s/it]"
     ]
    },
    {
     "name": "stderr",
     "output_type": "stream",
     "text": [
      "\r",
      " 70%|███████   | 442/630 [12:23<06:07,  1.95s/it]"
     ]
    },
    {
     "name": "stderr",
     "output_type": "stream",
     "text": [
      "\r",
      " 70%|███████   | 443/630 [12:25<06:10,  1.98s/it]"
     ]
    },
    {
     "name": "stderr",
     "output_type": "stream",
     "text": [
      "\r",
      " 70%|███████   | 444/630 [12:27<06:00,  1.94s/it]"
     ]
    },
    {
     "name": "stderr",
     "output_type": "stream",
     "text": [
      "\r",
      " 71%|███████   | 445/630 [12:29<06:21,  2.06s/it]"
     ]
    },
    {
     "name": "stderr",
     "output_type": "stream",
     "text": [
      "\r",
      " 71%|███████   | 446/630 [12:31<06:02,  1.97s/it]"
     ]
    },
    {
     "name": "stderr",
     "output_type": "stream",
     "text": [
      "\r",
      " 71%|███████   | 447/630 [12:33<05:53,  1.93s/it]"
     ]
    },
    {
     "name": "stderr",
     "output_type": "stream",
     "text": [
      "\r",
      " 71%|███████   | 448/630 [12:34<05:47,  1.91s/it]"
     ]
    },
    {
     "name": "stderr",
     "output_type": "stream",
     "text": [
      "\r",
      " 71%|███████▏  | 449/630 [12:36<05:53,  1.95s/it]"
     ]
    },
    {
     "name": "stderr",
     "output_type": "stream",
     "text": [
      "\r",
      " 71%|███████▏  | 450/630 [12:38<05:33,  1.85s/it]"
     ]
    },
    {
     "name": "stderr",
     "output_type": "stream",
     "text": [
      "\r",
      " 72%|███████▏  | 451/630 [12:40<05:55,  1.99s/it]"
     ]
    },
    {
     "name": "stderr",
     "output_type": "stream",
     "text": [
      "\r",
      " 72%|███████▏  | 452/630 [12:43<06:05,  2.05s/it]"
     ]
    },
    {
     "name": "stderr",
     "output_type": "stream",
     "text": [
      "\r",
      " 72%|███████▏  | 453/630 [12:45<06:37,  2.24s/it]"
     ]
    },
    {
     "name": "stderr",
     "output_type": "stream",
     "text": [
      "\r",
      " 72%|███████▏  | 454/630 [12:48<06:57,  2.37s/it]"
     ]
    },
    {
     "name": "stderr",
     "output_type": "stream",
     "text": [
      "\r",
      " 72%|███████▏  | 455/630 [12:50<06:56,  2.38s/it]"
     ]
    },
    {
     "name": "stderr",
     "output_type": "stream",
     "text": [
      "\r",
      " 72%|███████▏  | 456/630 [12:53<07:08,  2.46s/it]"
     ]
    },
    {
     "name": "stderr",
     "output_type": "stream",
     "text": [
      "\r",
      " 73%|███████▎  | 457/630 [12:56<07:13,  2.51s/it]"
     ]
    },
    {
     "name": "stderr",
     "output_type": "stream",
     "text": [
      "\r",
      " 73%|███████▎  | 458/630 [12:58<07:11,  2.51s/it]"
     ]
    },
    {
     "name": "stderr",
     "output_type": "stream",
     "text": [
      "\r",
      " 73%|███████▎  | 459/630 [13:00<07:02,  2.47s/it]"
     ]
    },
    {
     "name": "stderr",
     "output_type": "stream",
     "text": [
      "\r",
      " 73%|███████▎  | 460/630 [13:03<07:05,  2.50s/it]"
     ]
    },
    {
     "name": "stderr",
     "output_type": "stream",
     "text": [
      "\r",
      " 73%|███████▎  | 461/630 [13:06<07:10,  2.54s/it]"
     ]
    },
    {
     "name": "stderr",
     "output_type": "stream",
     "text": [
      "\r",
      " 73%|███████▎  | 462/630 [13:08<07:13,  2.58s/it]"
     ]
    },
    {
     "name": "stderr",
     "output_type": "stream",
     "text": [
      "\r",
      " 73%|███████▎  | 463/630 [13:10<06:44,  2.42s/it]"
     ]
    },
    {
     "name": "stderr",
     "output_type": "stream",
     "text": [
      "\r",
      " 74%|███████▎  | 464/630 [13:13<06:45,  2.44s/it]"
     ]
    },
    {
     "name": "stderr",
     "output_type": "stream",
     "text": [
      "\r",
      " 74%|███████▍  | 465/630 [13:15<06:20,  2.31s/it]"
     ]
    },
    {
     "name": "stderr",
     "output_type": "stream",
     "text": [
      "\r",
      " 74%|███████▍  | 466/630 [13:17<06:06,  2.24s/it]"
     ]
    },
    {
     "name": "stderr",
     "output_type": "stream",
     "text": [
      "\r",
      " 74%|███████▍  | 467/630 [13:19<06:10,  2.27s/it]"
     ]
    },
    {
     "name": "stderr",
     "output_type": "stream",
     "text": [
      "\r",
      " 74%|███████▍  | 468/630 [13:22<06:24,  2.37s/it]"
     ]
    },
    {
     "name": "stderr",
     "output_type": "stream",
     "text": [
      "\r",
      " 74%|███████▍  | 469/630 [13:24<06:30,  2.42s/it]"
     ]
    },
    {
     "name": "stderr",
     "output_type": "stream",
     "text": [
      "\r",
      " 75%|███████▍  | 470/630 [13:27<06:34,  2.46s/it]"
     ]
    },
    {
     "name": "stderr",
     "output_type": "stream",
     "text": [
      "\r",
      " 75%|███████▍  | 471/630 [13:29<06:29,  2.45s/it]"
     ]
    },
    {
     "name": "stderr",
     "output_type": "stream",
     "text": [
      "\r",
      " 75%|███████▍  | 472/630 [13:32<06:25,  2.44s/it]"
     ]
    },
    {
     "name": "stderr",
     "output_type": "stream",
     "text": [
      "\r",
      " 75%|███████▌  | 473/630 [13:35<06:33,  2.51s/it]"
     ]
    },
    {
     "name": "stderr",
     "output_type": "stream",
     "text": [
      "\r",
      " 75%|███████▌  | 474/630 [13:37<06:38,  2.55s/it]"
     ]
    },
    {
     "name": "stderr",
     "output_type": "stream",
     "text": [
      "\r",
      " 75%|███████▌  | 475/630 [13:39<06:12,  2.40s/it]"
     ]
    },
    {
     "name": "stderr",
     "output_type": "stream",
     "text": [
      "\r",
      " 76%|███████▌  | 476/630 [13:42<06:23,  2.49s/it]"
     ]
    },
    {
     "name": "stderr",
     "output_type": "stream",
     "text": [
      "\r",
      " 76%|███████▌  | 477/630 [13:45<06:29,  2.55s/it]"
     ]
    },
    {
     "name": "stderr",
     "output_type": "stream",
     "text": [
      "\r",
      " 76%|███████▌  | 478/630 [13:47<06:01,  2.38s/it]"
     ]
    },
    {
     "name": "stderr",
     "output_type": "stream",
     "text": [
      "\r",
      " 76%|███████▌  | 479/630 [13:49<06:12,  2.47s/it]"
     ]
    },
    {
     "name": "stderr",
     "output_type": "stream",
     "text": [
      "\r",
      " 76%|███████▌  | 480/630 [13:52<06:06,  2.44s/it]"
     ]
    },
    {
     "name": "stderr",
     "output_type": "stream",
     "text": [
      "\r",
      " 76%|███████▋  | 481/630 [13:54<05:50,  2.35s/it]"
     ]
    },
    {
     "name": "stderr",
     "output_type": "stream",
     "text": [
      "\r",
      " 77%|███████▋  | 482/630 [13:56<05:35,  2.27s/it]"
     ]
    },
    {
     "name": "stderr",
     "output_type": "stream",
     "text": [
      "\r",
      " 77%|███████▋  | 483/630 [13:58<05:21,  2.19s/it]"
     ]
    },
    {
     "name": "stderr",
     "output_type": "stream",
     "text": [
      "\r",
      " 77%|███████▋  | 484/630 [14:01<05:40,  2.33s/it]"
     ]
    },
    {
     "name": "stderr",
     "output_type": "stream",
     "text": [
      "\r",
      " 77%|███████▋  | 485/630 [14:03<05:57,  2.47s/it]"
     ]
    },
    {
     "name": "stderr",
     "output_type": "stream",
     "text": [
      "\r",
      " 77%|███████▋  | 486/630 [14:06<06:00,  2.50s/it]"
     ]
    },
    {
     "name": "stderr",
     "output_type": "stream",
     "text": [
      "\r",
      " 77%|███████▋  | 487/630 [14:08<05:39,  2.38s/it]"
     ]
    },
    {
     "name": "stderr",
     "output_type": "stream",
     "text": [
      "\r",
      " 77%|███████▋  | 488/630 [14:10<05:21,  2.27s/it]"
     ]
    },
    {
     "name": "stderr",
     "output_type": "stream",
     "text": [
      "\r",
      " 78%|███████▊  | 489/630 [14:12<05:23,  2.30s/it]"
     ]
    },
    {
     "name": "stderr",
     "output_type": "stream",
     "text": [
      "\r",
      " 78%|███████▊  | 490/630 [14:14<05:09,  2.21s/it]"
     ]
    },
    {
     "name": "stderr",
     "output_type": "stream",
     "text": [
      "\r",
      " 78%|███████▊  | 491/630 [14:16<04:48,  2.08s/it]"
     ]
    },
    {
     "name": "stderr",
     "output_type": "stream",
     "text": [
      "\r",
      " 78%|███████▊  | 492/630 [14:19<04:58,  2.17s/it]"
     ]
    },
    {
     "name": "stderr",
     "output_type": "stream",
     "text": [
      "\r",
      " 78%|███████▊  | 493/630 [14:21<04:56,  2.16s/it]"
     ]
    },
    {
     "name": "stderr",
     "output_type": "stream",
     "text": [
      "\r",
      " 78%|███████▊  | 494/630 [14:22<04:38,  2.05s/it]"
     ]
    },
    {
     "name": "stderr",
     "output_type": "stream",
     "text": [
      "\r",
      " 79%|███████▊  | 495/630 [14:24<04:24,  1.96s/it]"
     ]
    },
    {
     "name": "stderr",
     "output_type": "stream",
     "text": [
      "\r",
      " 79%|███████▊  | 496/630 [14:27<04:50,  2.17s/it]"
     ]
    },
    {
     "name": "stderr",
     "output_type": "stream",
     "text": [
      "\r",
      " 79%|███████▉  | 497/630 [14:30<05:10,  2.33s/it]"
     ]
    },
    {
     "name": "stderr",
     "output_type": "stream",
     "text": [
      "\r",
      " 79%|███████▉  | 498/630 [14:32<05:23,  2.45s/it]"
     ]
    },
    {
     "name": "stderr",
     "output_type": "stream",
     "text": [
      "\r",
      " 79%|███████▉  | 499/630 [14:35<05:33,  2.54s/it]"
     ]
    },
    {
     "name": "stderr",
     "output_type": "stream",
     "text": [
      "\r",
      " 79%|███████▉  | 500/630 [14:38<05:33,  2.57s/it]"
     ]
    },
    {
     "name": "stderr",
     "output_type": "stream",
     "text": [
      "\r",
      " 80%|███████▉  | 501/630 [14:40<05:34,  2.59s/it]"
     ]
    },
    {
     "name": "stderr",
     "output_type": "stream",
     "text": [
      "\r",
      " 80%|███████▉  | 502/630 [14:43<05:36,  2.63s/it]"
     ]
    },
    {
     "name": "stderr",
     "output_type": "stream",
     "text": [
      "\r",
      " 80%|███████▉  | 503/630 [14:46<05:36,  2.65s/it]"
     ]
    },
    {
     "name": "stderr",
     "output_type": "stream",
     "text": [
      "\r",
      " 80%|████████  | 504/630 [14:49<05:37,  2.67s/it]"
     ]
    },
    {
     "name": "stderr",
     "output_type": "stream",
     "text": [
      "\r",
      " 80%|████████  | 505/630 [14:51<05:31,  2.65s/it]"
     ]
    },
    {
     "name": "stderr",
     "output_type": "stream",
     "text": [
      "\r",
      " 80%|████████  | 506/630 [14:54<05:31,  2.67s/it]"
     ]
    },
    {
     "name": "stderr",
     "output_type": "stream",
     "text": [
      "\r",
      " 80%|████████  | 507/630 [14:57<05:32,  2.71s/it]"
     ]
    },
    {
     "name": "stderr",
     "output_type": "stream",
     "text": [
      "\r",
      " 81%|████████  | 508/630 [14:59<05:29,  2.70s/it]"
     ]
    },
    {
     "name": "stderr",
     "output_type": "stream",
     "text": [
      "\r",
      " 81%|████████  | 509/630 [15:02<05:27,  2.70s/it]"
     ]
    },
    {
     "name": "stderr",
     "output_type": "stream",
     "text": [
      "\r",
      " 81%|████████  | 510/630 [15:04<05:16,  2.64s/it]"
     ]
    },
    {
     "name": "stderr",
     "output_type": "stream",
     "text": [
      "\r",
      " 81%|████████  | 511/630 [15:07<05:15,  2.65s/it]"
     ]
    },
    {
     "name": "stderr",
     "output_type": "stream",
     "text": [
      "\r",
      " 81%|████████▏ | 512/630 [15:10<05:13,  2.66s/it]"
     ]
    },
    {
     "name": "stderr",
     "output_type": "stream",
     "text": [
      "\r",
      " 81%|████████▏ | 513/630 [15:12<05:09,  2.64s/it]"
     ]
    },
    {
     "name": "stderr",
     "output_type": "stream",
     "text": [
      "\r",
      " 82%|████████▏ | 514/630 [15:15<05:12,  2.70s/it]"
     ]
    },
    {
     "name": "stderr",
     "output_type": "stream",
     "text": [
      "\r",
      " 82%|████████▏ | 515/630 [15:18<05:14,  2.74s/it]"
     ]
    },
    {
     "name": "stderr",
     "output_type": "stream",
     "text": [
      "\r",
      " 82%|████████▏ | 516/630 [15:21<05:14,  2.76s/it]"
     ]
    },
    {
     "name": "stderr",
     "output_type": "stream",
     "text": [
      "\r",
      " 82%|████████▏ | 517/630 [15:24<05:13,  2.77s/it]"
     ]
    },
    {
     "name": "stderr",
     "output_type": "stream",
     "text": [
      "\r",
      " 82%|████████▏ | 518/630 [15:26<05:10,  2.77s/it]"
     ]
    },
    {
     "name": "stderr",
     "output_type": "stream",
     "text": [
      "\r",
      " 82%|████████▏ | 519/630 [15:29<05:09,  2.79s/it]"
     ]
    },
    {
     "name": "stderr",
     "output_type": "stream",
     "text": [
      "\r",
      " 83%|████████▎ | 520/630 [15:32<05:05,  2.78s/it]"
     ]
    },
    {
     "name": "stderr",
     "output_type": "stream",
     "text": [
      "\r",
      " 83%|████████▎ | 521/630 [15:35<05:02,  2.77s/it]"
     ]
    },
    {
     "name": "stderr",
     "output_type": "stream",
     "text": [
      "\r",
      " 83%|████████▎ | 522/630 [15:38<04:58,  2.76s/it]"
     ]
    },
    {
     "name": "stderr",
     "output_type": "stream",
     "text": [
      "\r",
      " 83%|████████▎ | 523/630 [15:40<04:56,  2.77s/it]"
     ]
    },
    {
     "name": "stderr",
     "output_type": "stream",
     "text": [
      "\r",
      " 83%|████████▎ | 524/630 [15:43<04:55,  2.79s/it]"
     ]
    },
    {
     "name": "stderr",
     "output_type": "stream",
     "text": [
      "\r",
      " 83%|████████▎ | 525/630 [15:46<04:53,  2.79s/it]"
     ]
    },
    {
     "name": "stderr",
     "output_type": "stream",
     "text": [
      "\r",
      " 83%|████████▎ | 526/630 [15:49<04:49,  2.78s/it]"
     ]
    },
    {
     "name": "stderr",
     "output_type": "stream",
     "text": [
      "\r",
      " 84%|████████▎ | 527/630 [15:51<04:35,  2.67s/it]"
     ]
    },
    {
     "name": "stderr",
     "output_type": "stream",
     "text": [
      "\r",
      " 84%|████████▍ | 528/630 [15:54<04:38,  2.73s/it]"
     ]
    },
    {
     "name": "stderr",
     "output_type": "stream",
     "text": [
      "\r",
      " 84%|████████▍ | 529/630 [15:57<04:33,  2.70s/it]"
     ]
    },
    {
     "name": "stderr",
     "output_type": "stream",
     "text": [
      "\r",
      " 84%|████████▍ | 530/630 [15:59<04:29,  2.69s/it]"
     ]
    },
    {
     "name": "stderr",
     "output_type": "stream",
     "text": [
      "\r",
      " 84%|████████▍ | 531/630 [16:02<04:26,  2.69s/it]"
     ]
    },
    {
     "name": "stderr",
     "output_type": "stream",
     "text": [
      "\r",
      " 84%|████████▍ | 532/630 [16:05<04:22,  2.68s/it]"
     ]
    },
    {
     "name": "stderr",
     "output_type": "stream",
     "text": [
      "\r",
      " 85%|████████▍ | 533/630 [16:07<04:21,  2.70s/it]"
     ]
    },
    {
     "name": "stderr",
     "output_type": "stream",
     "text": [
      "\r",
      " 85%|████████▍ | 534/630 [16:10<04:16,  2.67s/it]"
     ]
    },
    {
     "name": "stderr",
     "output_type": "stream",
     "text": [
      "\r",
      " 85%|████████▍ | 535/630 [16:13<04:15,  2.69s/it]"
     ]
    },
    {
     "name": "stderr",
     "output_type": "stream",
     "text": [
      "\r",
      " 85%|████████▌ | 536/630 [16:15<04:06,  2.63s/it]"
     ]
    },
    {
     "name": "stderr",
     "output_type": "stream",
     "text": [
      "\r",
      " 85%|████████▌ | 537/630 [16:18<04:01,  2.60s/it]"
     ]
    },
    {
     "name": "stderr",
     "output_type": "stream",
     "text": [
      "\r",
      " 85%|████████▌ | 538/630 [16:20<03:57,  2.59s/it]"
     ]
    },
    {
     "name": "stderr",
     "output_type": "stream",
     "text": [
      "\r",
      " 86%|████████▌ | 539/630 [16:23<03:44,  2.46s/it]"
     ]
    },
    {
     "name": "stderr",
     "output_type": "stream",
     "text": [
      "\r",
      " 86%|████████▌ | 540/630 [16:25<03:46,  2.52s/it]"
     ]
    },
    {
     "name": "stderr",
     "output_type": "stream",
     "text": [
      "\r",
      " 86%|████████▌ | 541/630 [16:28<03:51,  2.60s/it]"
     ]
    },
    {
     "name": "stderr",
     "output_type": "stream",
     "text": [
      "\r",
      " 86%|████████▌ | 542/630 [16:31<03:55,  2.67s/it]"
     ]
    },
    {
     "name": "stderr",
     "output_type": "stream",
     "text": [
      "\r",
      " 86%|████████▌ | 543/630 [16:34<03:56,  2.71s/it]"
     ]
    },
    {
     "name": "stderr",
     "output_type": "stream",
     "text": [
      "\r",
      " 86%|████████▋ | 544/630 [16:37<03:58,  2.77s/it]"
     ]
    },
    {
     "name": "stderr",
     "output_type": "stream",
     "text": [
      "\r",
      " 87%|████████▋ | 545/630 [16:39<04:01,  2.84s/it]"
     ]
    },
    {
     "name": "stderr",
     "output_type": "stream",
     "text": [
      "\r",
      " 87%|████████▋ | 546/630 [16:42<04:02,  2.89s/it]"
     ]
    },
    {
     "name": "stderr",
     "output_type": "stream",
     "text": [
      "\r",
      " 87%|████████▋ | 547/630 [16:45<03:59,  2.89s/it]"
     ]
    },
    {
     "name": "stderr",
     "output_type": "stream",
     "text": [
      "\r",
      " 87%|████████▋ | 548/630 [16:48<03:59,  2.92s/it]"
     ]
    },
    {
     "name": "stderr",
     "output_type": "stream",
     "text": [
      "\r",
      " 87%|████████▋ | 549/630 [16:51<03:55,  2.91s/it]"
     ]
    },
    {
     "name": "stderr",
     "output_type": "stream",
     "text": [
      "\r",
      " 87%|████████▋ | 550/630 [16:54<03:50,  2.89s/it]"
     ]
    },
    {
     "name": "stderr",
     "output_type": "stream",
     "text": [
      "\r",
      " 87%|████████▋ | 551/630 [16:57<03:50,  2.92s/it]"
     ]
    },
    {
     "name": "stderr",
     "output_type": "stream",
     "text": [
      "\r",
      " 88%|████████▊ | 552/630 [17:00<03:49,  2.94s/it]"
     ]
    },
    {
     "name": "stderr",
     "output_type": "stream",
     "text": [
      "\r",
      " 88%|████████▊ | 553/630 [17:03<03:45,  2.93s/it]"
     ]
    },
    {
     "name": "stderr",
     "output_type": "stream",
     "text": [
      "\r",
      " 88%|████████▊ | 554/630 [17:06<03:43,  2.94s/it]"
     ]
    },
    {
     "name": "stderr",
     "output_type": "stream",
     "text": [
      "\r",
      " 88%|████████▊ | 555/630 [17:09<03:41,  2.95s/it]"
     ]
    },
    {
     "name": "stderr",
     "output_type": "stream",
     "text": [
      "\r",
      " 88%|████████▊ | 556/630 [17:12<03:36,  2.92s/it]"
     ]
    },
    {
     "name": "stderr",
     "output_type": "stream",
     "text": [
      "\r",
      " 88%|████████▊ | 557/630 [17:15<03:34,  2.94s/it]"
     ]
    },
    {
     "name": "stderr",
     "output_type": "stream",
     "text": [
      "\r",
      " 89%|████████▊ | 558/630 [17:18<03:29,  2.91s/it]"
     ]
    },
    {
     "name": "stderr",
     "output_type": "stream",
     "text": [
      "\r",
      " 89%|████████▊ | 559/630 [17:21<03:28,  2.94s/it]"
     ]
    },
    {
     "name": "stderr",
     "output_type": "stream",
     "text": [
      "\r",
      " 89%|████████▉ | 560/630 [17:24<03:26,  2.95s/it]"
     ]
    },
    {
     "name": "stderr",
     "output_type": "stream",
     "text": [
      "\r",
      " 89%|████████▉ | 561/630 [17:27<03:23,  2.96s/it]"
     ]
    },
    {
     "name": "stderr",
     "output_type": "stream",
     "text": [
      "\r",
      " 89%|████████▉ | 562/630 [17:29<03:19,  2.93s/it]"
     ]
    },
    {
     "name": "stderr",
     "output_type": "stream",
     "text": [
      "\r",
      " 89%|████████▉ | 563/630 [17:32<03:17,  2.94s/it]"
     ]
    },
    {
     "name": "stderr",
     "output_type": "stream",
     "text": [
      "\r",
      " 90%|████████▉ | 564/630 [17:35<03:12,  2.91s/it]"
     ]
    },
    {
     "name": "stderr",
     "output_type": "stream",
     "text": [
      "\r",
      " 90%|████████▉ | 565/630 [17:38<03:10,  2.93s/it]"
     ]
    },
    {
     "name": "stderr",
     "output_type": "stream",
     "text": [
      "\r",
      " 90%|████████▉ | 566/630 [17:41<03:06,  2.91s/it]"
     ]
    },
    {
     "name": "stderr",
     "output_type": "stream",
     "text": [
      "\r",
      " 90%|█████████ | 567/630 [17:44<03:04,  2.93s/it]"
     ]
    },
    {
     "name": "stderr",
     "output_type": "stream",
     "text": [
      "\r",
      " 90%|█████████ | 568/630 [17:47<03:00,  2.91s/it]"
     ]
    },
    {
     "name": "stderr",
     "output_type": "stream",
     "text": [
      "\r",
      " 90%|█████████ | 569/630 [17:50<02:57,  2.91s/it]"
     ]
    },
    {
     "name": "stderr",
     "output_type": "stream",
     "text": [
      "\r",
      " 90%|█████████ | 570/630 [17:53<02:53,  2.90s/it]"
     ]
    },
    {
     "name": "stderr",
     "output_type": "stream",
     "text": [
      "\r",
      " 91%|█████████ | 571/630 [17:56<02:53,  2.94s/it]"
     ]
    },
    {
     "name": "stderr",
     "output_type": "stream",
     "text": [
      "\r",
      " 91%|█████████ | 572/630 [17:59<02:52,  2.97s/it]"
     ]
    },
    {
     "name": "stderr",
     "output_type": "stream",
     "text": [
      "\r",
      " 91%|█████████ | 573/630 [18:02<02:49,  2.98s/it]"
     ]
    },
    {
     "name": "stderr",
     "output_type": "stream",
     "text": [
      "\r",
      " 91%|█████████ | 574/630 [18:05<02:48,  3.01s/it]"
     ]
    },
    {
     "name": "stderr",
     "output_type": "stream",
     "text": [
      "\r",
      " 91%|█████████▏| 575/630 [18:08<02:45,  3.01s/it]"
     ]
    },
    {
     "name": "stderr",
     "output_type": "stream",
     "text": [
      "\r",
      " 91%|█████████▏| 576/630 [18:11<02:41,  2.99s/it]"
     ]
    },
    {
     "name": "stderr",
     "output_type": "stream",
     "text": [
      "\r",
      " 92%|█████████▏| 577/630 [18:14<02:39,  3.01s/it]"
     ]
    },
    {
     "name": "stderr",
     "output_type": "stream",
     "text": [
      "\r",
      " 92%|█████████▏| 578/630 [18:17<02:36,  3.00s/it]"
     ]
    },
    {
     "name": "stderr",
     "output_type": "stream",
     "text": [
      "\r",
      " 92%|█████████▏| 579/630 [18:20<02:33,  3.02s/it]"
     ]
    },
    {
     "name": "stderr",
     "output_type": "stream",
     "text": [
      "\r",
      " 92%|█████████▏| 580/630 [18:23<02:31,  3.03s/it]"
     ]
    },
    {
     "name": "stderr",
     "output_type": "stream",
     "text": [
      "\r",
      " 92%|█████████▏| 581/630 [18:26<02:26,  2.99s/it]"
     ]
    },
    {
     "name": "stderr",
     "output_type": "stream",
     "text": [
      "\r",
      " 92%|█████████▏| 582/630 [18:29<02:20,  2.94s/it]"
     ]
    },
    {
     "name": "stderr",
     "output_type": "stream",
     "text": [
      "\r",
      " 93%|█████████▎| 583/630 [18:32<02:17,  2.93s/it]"
     ]
    },
    {
     "name": "stderr",
     "output_type": "stream",
     "text": [
      "\r",
      " 93%|█████████▎| 584/630 [18:34<02:14,  2.92s/it]"
     ]
    },
    {
     "name": "stderr",
     "output_type": "stream",
     "text": [
      "\r",
      " 93%|█████████▎| 585/630 [18:37<02:10,  2.91s/it]"
     ]
    },
    {
     "name": "stderr",
     "output_type": "stream",
     "text": [
      "\r",
      " 93%|█████████▎| 586/630 [18:40<02:09,  2.95s/it]"
     ]
    },
    {
     "name": "stderr",
     "output_type": "stream",
     "text": [
      "\r",
      " 93%|█████████▎| 587/630 [18:43<02:06,  2.95s/it]"
     ]
    },
    {
     "name": "stderr",
     "output_type": "stream",
     "text": [
      "\r",
      " 93%|█████████▎| 588/630 [18:46<02:04,  2.97s/it]"
     ]
    },
    {
     "name": "stderr",
     "output_type": "stream",
     "text": [
      "\r",
      " 93%|█████████▎| 589/630 [18:49<02:02,  2.99s/it]"
     ]
    },
    {
     "name": "stderr",
     "output_type": "stream",
     "text": [
      "\r",
      " 94%|█████████▎| 590/630 [18:52<01:59,  3.00s/it]"
     ]
    },
    {
     "name": "stderr",
     "output_type": "stream",
     "text": [
      "\r",
      " 94%|█████████▍| 591/630 [18:55<01:57,  3.01s/it]"
     ]
    },
    {
     "name": "stderr",
     "output_type": "stream",
     "text": [
      "\r",
      " 94%|█████████▍| 592/630 [18:58<01:53,  3.00s/it]"
     ]
    },
    {
     "name": "stderr",
     "output_type": "stream",
     "text": [
      "\r",
      " 94%|█████████▍| 593/630 [19:01<01:50,  3.00s/it]"
     ]
    },
    {
     "name": "stderr",
     "output_type": "stream",
     "text": [
      "\r",
      " 94%|█████████▍| 594/630 [19:04<01:47,  2.99s/it]"
     ]
    },
    {
     "name": "stderr",
     "output_type": "stream",
     "text": [
      "\r",
      " 94%|█████████▍| 595/630 [19:07<01:44,  2.99s/it]"
     ]
    },
    {
     "name": "stderr",
     "output_type": "stream",
     "text": [
      "\r",
      " 95%|█████████▍| 596/630 [19:10<01:41,  2.99s/it]"
     ]
    },
    {
     "name": "stderr",
     "output_type": "stream",
     "text": [
      "\r",
      " 95%|█████████▍| 597/630 [19:13<01:38,  2.99s/it]"
     ]
    },
    {
     "name": "stderr",
     "output_type": "stream",
     "text": [
      "\r",
      " 95%|█████████▍| 598/630 [19:16<01:36,  3.00s/it]"
     ]
    },
    {
     "name": "stderr",
     "output_type": "stream",
     "text": [
      "\r",
      " 95%|█████████▌| 599/630 [19:19<01:33,  3.00s/it]"
     ]
    },
    {
     "name": "stderr",
     "output_type": "stream",
     "text": [
      "\r",
      " 95%|█████████▌| 600/630 [19:22<01:30,  3.01s/it]"
     ]
    },
    {
     "name": "stderr",
     "output_type": "stream",
     "text": [
      "\r",
      " 95%|█████████▌| 601/630 [19:25<01:26,  2.97s/it]"
     ]
    },
    {
     "name": "stderr",
     "output_type": "stream",
     "text": [
      "\r",
      " 96%|█████████▌| 602/630 [19:28<01:23,  2.98s/it]"
     ]
    },
    {
     "name": "stderr",
     "output_type": "stream",
     "text": [
      "\r",
      " 96%|█████████▌| 603/630 [19:31<01:20,  2.97s/it]"
     ]
    },
    {
     "name": "stderr",
     "output_type": "stream",
     "text": [
      "\r",
      " 96%|█████████▌| 604/630 [19:34<01:17,  2.96s/it]"
     ]
    },
    {
     "name": "stderr",
     "output_type": "stream",
     "text": [
      "\r",
      " 96%|█████████▌| 605/630 [19:37<01:14,  2.98s/it]"
     ]
    },
    {
     "name": "stderr",
     "output_type": "stream",
     "text": [
      "\r",
      " 96%|█████████▌| 606/630 [19:40<01:11,  2.99s/it]"
     ]
    },
    {
     "name": "stderr",
     "output_type": "stream",
     "text": [
      "\r",
      " 96%|█████████▋| 607/630 [19:43<01:08,  2.99s/it]"
     ]
    },
    {
     "name": "stderr",
     "output_type": "stream",
     "text": [
      "\r",
      " 97%|█████████▋| 608/630 [19:46<01:05,  3.00s/it]"
     ]
    },
    {
     "name": "stderr",
     "output_type": "stream",
     "text": [
      "\r",
      " 97%|█████████▋| 609/630 [19:49<01:02,  2.99s/it]"
     ]
    },
    {
     "name": "stderr",
     "output_type": "stream",
     "text": [
      "\r",
      " 97%|█████████▋| 610/630 [19:52<01:00,  3.01s/it]"
     ]
    },
    {
     "name": "stderr",
     "output_type": "stream",
     "text": [
      "\r",
      " 97%|█████████▋| 611/630 [19:55<00:57,  3.05s/it]"
     ]
    },
    {
     "name": "stderr",
     "output_type": "stream",
     "text": [
      "\r",
      " 97%|█████████▋| 612/630 [19:59<00:55,  3.10s/it]"
     ]
    },
    {
     "name": "stderr",
     "output_type": "stream",
     "text": [
      "\r",
      " 97%|█████████▋| 613/630 [20:02<00:52,  3.10s/it]"
     ]
    },
    {
     "name": "stderr",
     "output_type": "stream",
     "text": [
      "\r",
      " 97%|█████████▋| 614/630 [20:05<00:49,  3.08s/it]"
     ]
    },
    {
     "name": "stderr",
     "output_type": "stream",
     "text": [
      "\r",
      " 98%|█████████▊| 615/630 [20:08<00:45,  3.06s/it]"
     ]
    },
    {
     "name": "stderr",
     "output_type": "stream",
     "text": [
      "\r",
      " 98%|█████████▊| 616/630 [20:11<00:43,  3.11s/it]"
     ]
    },
    {
     "name": "stderr",
     "output_type": "stream",
     "text": [
      "\r",
      " 98%|█████████▊| 617/630 [20:14<00:40,  3.15s/it]"
     ]
    },
    {
     "name": "stderr",
     "output_type": "stream",
     "text": [
      "\r",
      " 98%|█████████▊| 618/630 [20:18<00:38,  3.18s/it]"
     ]
    },
    {
     "name": "stderr",
     "output_type": "stream",
     "text": [
      "\r",
      " 98%|█████████▊| 619/630 [20:21<00:35,  3.18s/it]"
     ]
    },
    {
     "name": "stderr",
     "output_type": "stream",
     "text": [
      "\r",
      " 98%|█████████▊| 620/630 [20:24<00:31,  3.19s/it]"
     ]
    },
    {
     "name": "stderr",
     "output_type": "stream",
     "text": [
      "\r",
      " 99%|█████████▊| 621/630 [20:27<00:28,  3.20s/it]"
     ]
    },
    {
     "name": "stderr",
     "output_type": "stream",
     "text": [
      "\r",
      " 99%|█████████▊| 622/630 [20:30<00:25,  3.19s/it]"
     ]
    },
    {
     "name": "stderr",
     "output_type": "stream",
     "text": [
      "\r",
      " 99%|█████████▉| 623/630 [20:33<00:22,  3.17s/it]"
     ]
    },
    {
     "name": "stderr",
     "output_type": "stream",
     "text": [
      "\r",
      " 99%|█████████▉| 624/630 [20:37<00:19,  3.18s/it]"
     ]
    },
    {
     "name": "stderr",
     "output_type": "stream",
     "text": [
      "\r",
      " 99%|█████████▉| 625/630 [20:40<00:15,  3.18s/it]"
     ]
    },
    {
     "name": "stderr",
     "output_type": "stream",
     "text": [
      "\r",
      " 99%|█████████▉| 626/630 [20:43<00:12,  3.18s/it]"
     ]
    },
    {
     "name": "stderr",
     "output_type": "stream",
     "text": [
      "\r",
      "100%|█████████▉| 627/630 [20:46<00:09,  3.14s/it]"
     ]
    },
    {
     "name": "stderr",
     "output_type": "stream",
     "text": [
      "\r",
      "100%|█████████▉| 628/630 [20:49<00:06,  3.14s/it]"
     ]
    },
    {
     "name": "stderr",
     "output_type": "stream",
     "text": [
      "\r",
      "100%|█████████▉| 629/630 [20:52<00:03,  3.12s/it]"
     ]
    },
    {
     "name": "stderr",
     "output_type": "stream",
     "text": [
      "\r",
      "100%|██████████| 630/630 [20:55<00:00,  3.10s/it]"
     ]
    },
    {
     "name": "stderr",
     "output_type": "stream",
     "text": [
      "\r",
      "100%|██████████| 630/630 [20:55<00:00,  1.99s/it]"
     ]
    },
    {
     "name": "stderr",
     "output_type": "stream",
     "text": [
      "\n"
     ]
    }
   ],
   "source": [
    "if ensemble_file.exists():\n",
    "    display(f\"Ensemble file exists\")\n",
    "    ensemble = pd.read_pickle(ensemble_file)\n",
    "else:\n",
    "    ensemble = generate_ensemble(\n",
    "        dist_matrix,\n",
    "        CLUSTERERS,\n",
    "        attributes=[\"n_clusters\", \"delta\"],\n",
    "    )"
   ]
  },
  {
   "cell_type": "code",
   "execution_count": 48,
   "metadata": {
    "execution": {
     "iopub.execute_input": "2021-01-13T20:17:27.514419Z",
     "iopub.status.busy": "2021-01-13T20:17:27.514054Z",
     "iopub.status.idle": "2021-01-13T20:17:27.525684Z",
     "shell.execute_reply": "2021-01-13T20:17:27.525311Z"
    },
    "papermill": {
     "duration": 0.151754,
     "end_time": "2021-01-13T20:17:27.525773",
     "exception": false,
     "start_time": "2021-01-13T20:17:27.374019",
     "status": "completed"
    },
    "tags": []
   },
   "outputs": [
    {
     "data": {
      "text/plain": [
       "(630, 4)"
      ]
     },
     "execution_count": 48,
     "metadata": {},
     "output_type": "execute_result"
    }
   ],
   "source": [
    "ensemble.shape"
   ]
  },
  {
   "cell_type": "code",
   "execution_count": 49,
   "metadata": {
    "execution": {
     "iopub.execute_input": "2021-01-13T20:17:27.808448Z",
     "iopub.status.busy": "2021-01-13T20:17:27.808089Z",
     "iopub.status.idle": "2021-01-13T20:17:27.827677Z",
     "shell.execute_reply": "2021-01-13T20:17:27.827302Z"
    },
    "papermill": {
     "duration": 0.160818,
     "end_time": "2021-01-13T20:17:27.827764",
     "exception": false,
     "start_time": "2021-01-13T20:17:27.666946",
     "status": "completed"
    },
    "tags": []
   },
   "outputs": [
    {
     "data": {
      "text/html": [
       "<div>\n",
       "<style scoped>\n",
       "    .dataframe tbody tr th:only-of-type {\n",
       "        vertical-align: middle;\n",
       "    }\n",
       "\n",
       "    .dataframe tbody tr th {\n",
       "        vertical-align: top;\n",
       "    }\n",
       "\n",
       "    .dataframe thead th {\n",
       "        text-align: right;\n",
       "    }\n",
       "</style>\n",
       "<table border=\"1\" class=\"dataframe\">\n",
       "  <thead>\n",
       "    <tr style=\"text-align: right;\">\n",
       "      <th></th>\n",
       "      <th>clusterer_params</th>\n",
       "      <th>partition</th>\n",
       "      <th>n_clusters</th>\n",
       "      <th>delta</th>\n",
       "    </tr>\n",
       "    <tr>\n",
       "      <th>clusterer_id</th>\n",
       "      <th></th>\n",
       "      <th></th>\n",
       "      <th></th>\n",
       "      <th></th>\n",
       "    </tr>\n",
       "  </thead>\n",
       "  <tbody>\n",
       "    <tr>\n",
       "      <th>DeltaSpectralClustering #0</th>\n",
       "      <td>{'delta': 5.0}</td>\n",
       "      <td>[0.0, 0.0, 0.0, 0.0, 0.0, 0.0, 0.0, 0.0, 0.0, ...</td>\n",
       "      <td>2</td>\n",
       "      <td>5.0</td>\n",
       "    </tr>\n",
       "    <tr>\n",
       "      <th>DeltaSpectralClustering #1</th>\n",
       "      <td>{'delta': 5.0}</td>\n",
       "      <td>[0.0, 0.0, 0.0, 0.0, 0.0, 0.0, 0.0, 0.0, 0.0, ...</td>\n",
       "      <td>2</td>\n",
       "      <td>5.0</td>\n",
       "    </tr>\n",
       "    <tr>\n",
       "      <th>DeltaSpectralClustering #2</th>\n",
       "      <td>{'delta': 5.0}</td>\n",
       "      <td>[1.0, 1.0, 1.0, 1.0, 1.0, 1.0, 1.0, 1.0, 1.0, ...</td>\n",
       "      <td>2</td>\n",
       "      <td>5.0</td>\n",
       "    </tr>\n",
       "    <tr>\n",
       "      <th>DeltaSpectralClustering #3</th>\n",
       "      <td>{'delta': 5.0}</td>\n",
       "      <td>[1.0, 1.0, 1.0, 1.0, 1.0, 1.0, 1.0, 1.0, 1.0, ...</td>\n",
       "      <td>2</td>\n",
       "      <td>5.0</td>\n",
       "    </tr>\n",
       "    <tr>\n",
       "      <th>DeltaSpectralClustering #4</th>\n",
       "      <td>{'delta': 5.0}</td>\n",
       "      <td>[0.0, 0.0, 0.0, 0.0, 0.0, 0.0, 0.0, 0.0, 0.0, ...</td>\n",
       "      <td>2</td>\n",
       "      <td>5.0</td>\n",
       "    </tr>\n",
       "  </tbody>\n",
       "</table>\n",
       "</div>"
      ],
      "text/plain": [
       "                           clusterer_params  \\\n",
       "clusterer_id                                  \n",
       "DeltaSpectralClustering #0   {'delta': 5.0}   \n",
       "DeltaSpectralClustering #1   {'delta': 5.0}   \n",
       "DeltaSpectralClustering #2   {'delta': 5.0}   \n",
       "DeltaSpectralClustering #3   {'delta': 5.0}   \n",
       "DeltaSpectralClustering #4   {'delta': 5.0}   \n",
       "\n",
       "                                                                    partition  \\\n",
       "clusterer_id                                                                    \n",
       "DeltaSpectralClustering #0  [0.0, 0.0, 0.0, 0.0, 0.0, 0.0, 0.0, 0.0, 0.0, ...   \n",
       "DeltaSpectralClustering #1  [0.0, 0.0, 0.0, 0.0, 0.0, 0.0, 0.0, 0.0, 0.0, ...   \n",
       "DeltaSpectralClustering #2  [1.0, 1.0, 1.0, 1.0, 1.0, 1.0, 1.0, 1.0, 1.0, ...   \n",
       "DeltaSpectralClustering #3  [1.0, 1.0, 1.0, 1.0, 1.0, 1.0, 1.0, 1.0, 1.0, ...   \n",
       "DeltaSpectralClustering #4  [0.0, 0.0, 0.0, 0.0, 0.0, 0.0, 0.0, 0.0, 0.0, ...   \n",
       "\n",
       "                            n_clusters  delta  \n",
       "clusterer_id                                   \n",
       "DeltaSpectralClustering #0           2    5.0  \n",
       "DeltaSpectralClustering #1           2    5.0  \n",
       "DeltaSpectralClustering #2           2    5.0  \n",
       "DeltaSpectralClustering #3           2    5.0  \n",
       "DeltaSpectralClustering #4           2    5.0  "
      ]
     },
     "execution_count": 49,
     "metadata": {},
     "output_type": "execute_result"
    }
   ],
   "source": [
    "ensemble.head()"
   ]
  },
  {
   "cell_type": "code",
   "execution_count": 50,
   "metadata": {
    "execution": {
     "iopub.execute_input": "2021-01-13T20:17:28.110457Z",
     "iopub.status.busy": "2021-01-13T20:17:28.110091Z",
     "iopub.status.idle": "2021-01-13T20:17:28.121535Z",
     "shell.execute_reply": "2021-01-13T20:17:28.121210Z"
    },
    "papermill": {
     "duration": 0.152448,
     "end_time": "2021-01-13T20:17:28.121626",
     "exception": false,
     "start_time": "2021-01-13T20:17:27.969178",
     "status": "completed"
    },
    "tags": []
   },
   "outputs": [],
   "source": [
    "ensemble[\"delta\"] = ensemble[\"delta\"].apply(lambda x: f\"{x:.2f}\")"
   ]
  },
  {
   "cell_type": "code",
   "execution_count": 51,
   "metadata": {
    "execution": {
     "iopub.execute_input": "2021-01-13T20:17:28.402101Z",
     "iopub.status.busy": "2021-01-13T20:17:28.401729Z",
     "iopub.status.idle": "2021-01-13T20:17:28.414620Z",
     "shell.execute_reply": "2021-01-13T20:17:28.414244Z"
    },
    "papermill": {
     "duration": 0.155113,
     "end_time": "2021-01-13T20:17:28.414709",
     "exception": false,
     "start_time": "2021-01-13T20:17:28.259596",
     "status": "completed"
    },
    "tags": []
   },
   "outputs": [
    {
     "data": {
      "text/plain": [
       "40    45\n",
       "35    45\n",
       "30    45\n",
       "25    45\n",
       "20    45\n",
       "18    45\n",
       "16    45\n",
       "14    45\n",
       "12    45\n",
       "10    45\n",
       "8     45\n",
       "6     45\n",
       "4     45\n",
       "2     45\n",
       "Name: n_clusters, dtype: int64"
      ]
     },
     "execution_count": 51,
     "metadata": {},
     "output_type": "execute_result"
    }
   ],
   "source": [
    "ensemble[\"n_clusters\"].value_counts()"
   ]
  },
  {
   "cell_type": "code",
   "execution_count": 52,
   "metadata": {
    "execution": {
     "iopub.execute_input": "2021-01-13T20:17:28.696638Z",
     "iopub.status.busy": "2021-01-13T20:17:28.696276Z",
     "iopub.status.idle": "2021-01-13T20:17:28.708004Z",
     "shell.execute_reply": "2021-01-13T20:17:28.707624Z"
    },
    "papermill": {
     "duration": 0.153897,
     "end_time": "2021-01-13T20:17:28.708094",
     "exception": false,
     "start_time": "2021-01-13T20:17:28.554197",
     "status": "completed"
    },
    "tags": []
   },
   "outputs": [],
   "source": [
    "_tmp = ensemble[\"n_clusters\"].value_counts().unique()\n",
    "assert _tmp.shape[0] == 1\n",
    "assert _tmp[0] == int(\n",
    "    CLUSTERING_OPTIONS[\"N_REPS_PER_K\"] * len(CLUSTERING_OPTIONS[\"DELTAS\"])\n",
    ")"
   ]
  },
  {
   "cell_type": "code",
   "execution_count": 53,
   "metadata": {
    "execution": {
     "iopub.execute_input": "2021-01-13T20:17:28.988681Z",
     "iopub.status.busy": "2021-01-13T20:17:28.988319Z",
     "iopub.status.idle": "2021-01-13T20:17:29.001668Z",
     "shell.execute_reply": "2021-01-13T20:17:29.001350Z"
    },
    "papermill": {
     "duration": 0.15604,
     "end_time": "2021-01-13T20:17:29.001759",
     "exception": false,
     "start_time": "2021-01-13T20:17:28.845719",
     "status": "completed"
    },
    "tags": []
   },
   "outputs": [
    {
     "data": {
      "text/plain": [
       "count    630.000000\n",
       "mean      17.142857\n",
       "std       11.271131\n",
       "min        2.000000\n",
       "25%        8.000000\n",
       "50%       15.000000\n",
       "75%       25.000000\n",
       "max       40.000000\n",
       "Name: n_clusters, dtype: float64"
      ]
     },
     "metadata": {},
     "output_type": "display_data"
    }
   ],
   "source": [
    "ensemble_stats = ensemble[\"n_clusters\"].describe()\n",
    "display(ensemble_stats)"
   ]
  },
  {
   "cell_type": "markdown",
   "metadata": {
    "papermill": {
     "duration": 0.138664,
     "end_time": "2021-01-13T20:17:29.278950",
     "exception": false,
     "start_time": "2021-01-13T20:17:29.140286",
     "status": "completed"
    },
    "tags": []
   },
   "source": [
    "### Testing"
   ]
  },
  {
   "cell_type": "code",
   "execution_count": 54,
   "metadata": {
    "execution": {
     "iopub.execute_input": "2021-01-13T20:17:29.559201Z",
     "iopub.status.busy": "2021-01-13T20:17:29.558842Z",
     "iopub.status.idle": "2021-01-13T20:17:29.569486Z",
     "shell.execute_reply": "2021-01-13T20:17:29.569108Z"
    },
    "papermill": {
     "duration": 0.151926,
     "end_time": "2021-01-13T20:17:29.569576",
     "exception": false,
     "start_time": "2021-01-13T20:17:29.417650",
     "status": "completed"
    },
    "tags": []
   },
   "outputs": [],
   "source": [
    "assert ensemble_stats[\"min\"] > 1"
   ]
  },
  {
   "cell_type": "code",
   "execution_count": 55,
   "metadata": {
    "execution": {
     "iopub.execute_input": "2021-01-13T20:17:29.850716Z",
     "iopub.status.busy": "2021-01-13T20:17:29.850349Z",
     "iopub.status.idle": "2021-01-13T20:17:29.861434Z",
     "shell.execute_reply": "2021-01-13T20:17:29.861055Z"
    },
    "papermill": {
     "duration": 0.152935,
     "end_time": "2021-01-13T20:17:29.861524",
     "exception": false,
     "start_time": "2021-01-13T20:17:29.708589",
     "status": "completed"
    },
    "tags": []
   },
   "outputs": [],
   "source": [
    "assert not ensemble[\"n_clusters\"].isna().any()"
   ]
  },
  {
   "cell_type": "code",
   "execution_count": 56,
   "metadata": {
    "execution": {
     "iopub.execute_input": "2021-01-13T20:17:30.165768Z",
     "iopub.status.busy": "2021-01-13T20:17:30.165311Z",
     "iopub.status.idle": "2021-01-13T20:17:30.177748Z",
     "shell.execute_reply": "2021-01-13T20:17:30.178098Z"
    },
    "papermill": {
     "duration": 0.173081,
     "end_time": "2021-01-13T20:17:30.178236",
     "exception": false,
     "start_time": "2021-01-13T20:17:30.005155",
     "status": "completed"
    },
    "tags": []
   },
   "outputs": [],
   "source": [
    "assert ensemble.shape[0] == len(CLUSTERERS)"
   ]
  },
  {
   "cell_type": "code",
   "execution_count": 57,
   "metadata": {
    "execution": {
     "iopub.execute_input": "2021-01-13T20:17:30.464568Z",
     "iopub.status.busy": "2021-01-13T20:17:30.464208Z",
     "iopub.status.idle": "2021-01-13T20:17:30.511834Z",
     "shell.execute_reply": "2021-01-13T20:17:30.512115Z"
    },
    "papermill": {
     "duration": 0.191112,
     "end_time": "2021-01-13T20:17:30.512225",
     "exception": false,
     "start_time": "2021-01-13T20:17:30.321113",
     "status": "completed"
    },
    "tags": []
   },
   "outputs": [],
   "source": [
    "# all partitions have the right size\n",
    "assert np.all(\n",
    "    [part[\"partition\"].shape[0] == data.shape[0] for idx, part in ensemble.iterrows()]\n",
    ")"
   ]
  },
  {
   "cell_type": "code",
   "execution_count": 58,
   "metadata": {
    "execution": {
     "iopub.execute_input": "2021-01-13T20:17:30.797961Z",
     "iopub.status.busy": "2021-01-13T20:17:30.797598Z",
     "iopub.status.idle": "2021-01-13T20:17:30.853420Z",
     "shell.execute_reply": "2021-01-13T20:17:30.853035Z"
    },
    "papermill": {
     "duration": 0.20051,
     "end_time": "2021-01-13T20:17:30.853510",
     "exception": false,
     "start_time": "2021-01-13T20:17:30.653000",
     "status": "completed"
    },
    "tags": []
   },
   "outputs": [],
   "source": [
    "# no partition has negative clusters (noisy points)\n",
    "assert not np.any([(part[\"partition\"] < 0).any() for idx, part in ensemble.iterrows()])"
   ]
  },
  {
   "cell_type": "code",
   "execution_count": 59,
   "metadata": {
    "execution": {
     "iopub.execute_input": "2021-01-13T20:17:31.140454Z",
     "iopub.status.busy": "2021-01-13T20:17:31.140098Z",
     "iopub.status.idle": "2021-01-13T20:17:31.203598Z",
     "shell.execute_reply": "2021-01-13T20:17:31.203222Z"
    },
    "papermill": {
     "duration": 0.206039,
     "end_time": "2021-01-13T20:17:31.203688",
     "exception": false,
     "start_time": "2021-01-13T20:17:30.997649",
     "status": "completed"
    },
    "tags": []
   },
   "outputs": [
    {
     "data": {
      "text/plain": [
       "clusterer_id\n",
       "DeltaSpectralClustering #0       2\n",
       "DeltaSpectralClustering #1       2\n",
       "DeltaSpectralClustering #2       2\n",
       "DeltaSpectralClustering #3       2\n",
       "DeltaSpectralClustering #4       2\n",
       "                                ..\n",
       "DeltaSpectralClustering #625    40\n",
       "DeltaSpectralClustering #626    40\n",
       "DeltaSpectralClustering #627    40\n",
       "DeltaSpectralClustering #628    40\n",
       "DeltaSpectralClustering #629    40\n",
       "Name: partition, Length: 630, dtype: int64"
      ]
     },
     "metadata": {},
     "output_type": "display_data"
    }
   ],
   "source": [
    "# check that the number of clusters in the partitions are the expected ones\n",
    "_real_k_values = ensemble[\"partition\"].apply(lambda x: np.unique(x).shape[0])\n",
    "display(_real_k_values)\n",
    "assert np.all(ensemble[\"n_clusters\"].values == _real_k_values.values)"
   ]
  },
  {
   "cell_type": "markdown",
   "metadata": {
    "papermill": {
     "duration": 0.139884,
     "end_time": "2021-01-13T20:17:31.483620",
     "exception": false,
     "start_time": "2021-01-13T20:17:31.343736",
     "status": "completed"
    },
    "tags": []
   },
   "source": [
    "### Add clustering quality measures"
   ]
  },
  {
   "cell_type": "code",
   "execution_count": 60,
   "metadata": {
    "execution": {
     "iopub.execute_input": "2021-01-13T20:17:31.766459Z",
     "iopub.status.busy": "2021-01-13T20:17:31.766087Z",
     "iopub.status.idle": "2021-01-13T20:19:37.175472Z",
     "shell.execute_reply": "2021-01-13T20:19:37.175125Z"
    },
    "papermill": {
     "duration": 125.552447,
     "end_time": "2021-01-13T20:19:37.175574",
     "exception": false,
     "start_time": "2021-01-13T20:17:31.623127",
     "status": "completed"
    },
    "tags": []
   },
   "outputs": [],
   "source": [
    "ensemble = ensemble.assign(\n",
    "    si_score=ensemble[\"partition\"].apply(\n",
    "        lambda x: silhouette_score(dist_matrix, x, metric=\"precomputed\")\n",
    "    ),\n",
    "    ch_score=ensemble[\"partition\"].apply(lambda x: calinski_harabasz_score(data, x)),\n",
    "    db_score=ensemble[\"partition\"].apply(lambda x: davies_bouldin_score(data, x)),\n",
    ")"
   ]
  },
  {
   "cell_type": "code",
   "execution_count": 61,
   "metadata": {
    "execution": {
     "iopub.execute_input": "2021-01-13T20:19:37.466322Z",
     "iopub.status.busy": "2021-01-13T20:19:37.465965Z",
     "iopub.status.idle": "2021-01-13T20:19:37.477374Z",
     "shell.execute_reply": "2021-01-13T20:19:37.477009Z"
    },
    "papermill": {
     "duration": 0.156813,
     "end_time": "2021-01-13T20:19:37.477462",
     "exception": false,
     "start_time": "2021-01-13T20:19:37.320649",
     "status": "completed"
    },
    "tags": []
   },
   "outputs": [
    {
     "data": {
      "text/plain": [
       "(630, 7)"
      ]
     },
     "execution_count": 61,
     "metadata": {},
     "output_type": "execute_result"
    }
   ],
   "source": [
    "ensemble.shape"
   ]
  },
  {
   "cell_type": "code",
   "execution_count": 62,
   "metadata": {
    "execution": {
     "iopub.execute_input": "2021-01-13T20:19:37.758861Z",
     "iopub.status.busy": "2021-01-13T20:19:37.758504Z",
     "iopub.status.idle": "2021-01-13T20:19:37.778805Z",
     "shell.execute_reply": "2021-01-13T20:19:37.778440Z"
    },
    "papermill": {
     "duration": 0.161533,
     "end_time": "2021-01-13T20:19:37.778892",
     "exception": false,
     "start_time": "2021-01-13T20:19:37.617359",
     "status": "completed"
    },
    "tags": []
   },
   "outputs": [
    {
     "data": {
      "text/html": [
       "<div>\n",
       "<style scoped>\n",
       "    .dataframe tbody tr th:only-of-type {\n",
       "        vertical-align: middle;\n",
       "    }\n",
       "\n",
       "    .dataframe tbody tr th {\n",
       "        vertical-align: top;\n",
       "    }\n",
       "\n",
       "    .dataframe thead th {\n",
       "        text-align: right;\n",
       "    }\n",
       "</style>\n",
       "<table border=\"1\" class=\"dataframe\">\n",
       "  <thead>\n",
       "    <tr style=\"text-align: right;\">\n",
       "      <th></th>\n",
       "      <th>clusterer_params</th>\n",
       "      <th>partition</th>\n",
       "      <th>n_clusters</th>\n",
       "      <th>delta</th>\n",
       "      <th>si_score</th>\n",
       "      <th>ch_score</th>\n",
       "      <th>db_score</th>\n",
       "    </tr>\n",
       "    <tr>\n",
       "      <th>clusterer_id</th>\n",
       "      <th></th>\n",
       "      <th></th>\n",
       "      <th></th>\n",
       "      <th></th>\n",
       "      <th></th>\n",
       "      <th></th>\n",
       "      <th></th>\n",
       "    </tr>\n",
       "  </thead>\n",
       "  <tbody>\n",
       "    <tr>\n",
       "      <th>DeltaSpectralClustering #0</th>\n",
       "      <td>{'delta': 5.0}</td>\n",
       "      <td>[0.0, 0.0, 0.0, 0.0, 0.0, 0.0, 0.0, 0.0, 0.0, ...</td>\n",
       "      <td>2</td>\n",
       "      <td>5.00</td>\n",
       "      <td>0.242625</td>\n",
       "      <td>128.603203</td>\n",
       "      <td>4.388969</td>\n",
       "    </tr>\n",
       "    <tr>\n",
       "      <th>DeltaSpectralClustering #1</th>\n",
       "      <td>{'delta': 5.0}</td>\n",
       "      <td>[0.0, 0.0, 0.0, 0.0, 0.0, 0.0, 0.0, 0.0, 0.0, ...</td>\n",
       "      <td>2</td>\n",
       "      <td>5.00</td>\n",
       "      <td>0.242625</td>\n",
       "      <td>128.603203</td>\n",
       "      <td>4.388969</td>\n",
       "    </tr>\n",
       "    <tr>\n",
       "      <th>DeltaSpectralClustering #2</th>\n",
       "      <td>{'delta': 5.0}</td>\n",
       "      <td>[1.0, 1.0, 1.0, 1.0, 1.0, 1.0, 1.0, 1.0, 1.0, ...</td>\n",
       "      <td>2</td>\n",
       "      <td>5.00</td>\n",
       "      <td>0.242625</td>\n",
       "      <td>128.603203</td>\n",
       "      <td>4.388969</td>\n",
       "    </tr>\n",
       "    <tr>\n",
       "      <th>DeltaSpectralClustering #3</th>\n",
       "      <td>{'delta': 5.0}</td>\n",
       "      <td>[1.0, 1.0, 1.0, 1.0, 1.0, 1.0, 1.0, 1.0, 1.0, ...</td>\n",
       "      <td>2</td>\n",
       "      <td>5.00</td>\n",
       "      <td>0.242625</td>\n",
       "      <td>128.603203</td>\n",
       "      <td>4.388969</td>\n",
       "    </tr>\n",
       "    <tr>\n",
       "      <th>DeltaSpectralClustering #4</th>\n",
       "      <td>{'delta': 5.0}</td>\n",
       "      <td>[0.0, 0.0, 0.0, 0.0, 0.0, 0.0, 0.0, 0.0, 0.0, ...</td>\n",
       "      <td>2</td>\n",
       "      <td>5.00</td>\n",
       "      <td>0.242625</td>\n",
       "      <td>128.603203</td>\n",
       "      <td>4.388969</td>\n",
       "    </tr>\n",
       "  </tbody>\n",
       "</table>\n",
       "</div>"
      ],
      "text/plain": [
       "                           clusterer_params  \\\n",
       "clusterer_id                                  \n",
       "DeltaSpectralClustering #0   {'delta': 5.0}   \n",
       "DeltaSpectralClustering #1   {'delta': 5.0}   \n",
       "DeltaSpectralClustering #2   {'delta': 5.0}   \n",
       "DeltaSpectralClustering #3   {'delta': 5.0}   \n",
       "DeltaSpectralClustering #4   {'delta': 5.0}   \n",
       "\n",
       "                                                                    partition  \\\n",
       "clusterer_id                                                                    \n",
       "DeltaSpectralClustering #0  [0.0, 0.0, 0.0, 0.0, 0.0, 0.0, 0.0, 0.0, 0.0, ...   \n",
       "DeltaSpectralClustering #1  [0.0, 0.0, 0.0, 0.0, 0.0, 0.0, 0.0, 0.0, 0.0, ...   \n",
       "DeltaSpectralClustering #2  [1.0, 1.0, 1.0, 1.0, 1.0, 1.0, 1.0, 1.0, 1.0, ...   \n",
       "DeltaSpectralClustering #3  [1.0, 1.0, 1.0, 1.0, 1.0, 1.0, 1.0, 1.0, 1.0, ...   \n",
       "DeltaSpectralClustering #4  [0.0, 0.0, 0.0, 0.0, 0.0, 0.0, 0.0, 0.0, 0.0, ...   \n",
       "\n",
       "                            n_clusters delta  si_score    ch_score  db_score  \n",
       "clusterer_id                                                                  \n",
       "DeltaSpectralClustering #0           2  5.00  0.242625  128.603203  4.388969  \n",
       "DeltaSpectralClustering #1           2  5.00  0.242625  128.603203  4.388969  \n",
       "DeltaSpectralClustering #2           2  5.00  0.242625  128.603203  4.388969  \n",
       "DeltaSpectralClustering #3           2  5.00  0.242625  128.603203  4.388969  \n",
       "DeltaSpectralClustering #4           2  5.00  0.242625  128.603203  4.388969  "
      ]
     },
     "execution_count": 62,
     "metadata": {},
     "output_type": "execute_result"
    }
   ],
   "source": [
    "ensemble.head()"
   ]
  },
  {
   "cell_type": "markdown",
   "metadata": {
    "papermill": {
     "duration": 0.140614,
     "end_time": "2021-01-13T20:19:38.060435",
     "exception": false,
     "start_time": "2021-01-13T20:19:37.919821",
     "status": "completed"
    },
    "tags": []
   },
   "source": [
    "### Save"
   ]
  },
  {
   "cell_type": "code",
   "execution_count": 63,
   "metadata": {
    "execution": {
     "iopub.execute_input": "2021-01-13T20:19:38.344455Z",
     "iopub.status.busy": "2021-01-13T20:19:38.344097Z",
     "iopub.status.idle": "2021-01-13T20:19:38.370172Z",
     "shell.execute_reply": "2021-01-13T20:19:38.370480Z"
    },
    "papermill": {
     "duration": 0.169241,
     "end_time": "2021-01-13T20:19:38.370601",
     "exception": false,
     "start_time": "2021-01-13T20:19:38.201360",
     "status": "completed"
    },
    "tags": []
   },
   "outputs": [],
   "source": [
    "ensemble.to_pickle(ensemble_file)"
   ]
  },
  {
   "cell_type": "markdown",
   "metadata": {
    "papermill": {
     "duration": 0.141716,
     "end_time": "2021-01-13T20:19:38.657116",
     "exception": false,
     "start_time": "2021-01-13T20:19:38.515400",
     "status": "completed"
    },
    "tags": []
   },
   "source": [
    "# Cluster quality"
   ]
  },
  {
   "cell_type": "code",
   "execution_count": 64,
   "metadata": {
    "execution": {
     "iopub.execute_input": "2021-01-13T20:19:38.941663Z",
     "iopub.status.busy": "2021-01-13T20:19:38.941303Z",
     "iopub.status.idle": "2021-01-13T20:19:38.966421Z",
     "shell.execute_reply": "2021-01-13T20:19:38.966045Z"
    },
    "papermill": {
     "duration": 0.167666,
     "end_time": "2021-01-13T20:19:38.966509",
     "exception": false,
     "start_time": "2021-01-13T20:19:38.798843",
     "status": "completed"
    },
    "tags": []
   },
   "outputs": [
    {
     "data": {
      "text/html": [
       "<div>\n",
       "<style scoped>\n",
       "    .dataframe tbody tr th:only-of-type {\n",
       "        vertical-align: middle;\n",
       "    }\n",
       "\n",
       "    .dataframe tbody tr th {\n",
       "        vertical-align: top;\n",
       "    }\n",
       "\n",
       "    .dataframe thead th {\n",
       "        text-align: right;\n",
       "    }\n",
       "</style>\n",
       "<table border=\"1\" class=\"dataframe\">\n",
       "  <thead>\n",
       "    <tr style=\"text-align: right;\">\n",
       "      <th></th>\n",
       "      <th></th>\n",
       "      <th>si_score</th>\n",
       "      <th>ch_score</th>\n",
       "      <th>db_score</th>\n",
       "    </tr>\n",
       "    <tr>\n",
       "      <th>n_clusters</th>\n",
       "      <th>delta</th>\n",
       "      <th></th>\n",
       "      <th></th>\n",
       "      <th></th>\n",
       "    </tr>\n",
       "  </thead>\n",
       "  <tbody>\n",
       "    <tr>\n",
       "      <th rowspan=\"9\" valign=\"top\">2</th>\n",
       "      <th>0.20</th>\n",
       "      <td>0.427525</td>\n",
       "      <td>154.143308</td>\n",
       "      <td>1.263226</td>\n",
       "    </tr>\n",
       "    <tr>\n",
       "      <th>0.25</th>\n",
       "      <td>0.428439</td>\n",
       "      <td>152.424146</td>\n",
       "      <td>1.250389</td>\n",
       "    </tr>\n",
       "    <tr>\n",
       "      <th>0.30</th>\n",
       "      <td>0.428439</td>\n",
       "      <td>152.424146</td>\n",
       "      <td>1.250389</td>\n",
       "    </tr>\n",
       "    <tr>\n",
       "      <th>0.50</th>\n",
       "      <td>0.263322</td>\n",
       "      <td>142.674384</td>\n",
       "      <td>3.950004</td>\n",
       "    </tr>\n",
       "    <tr>\n",
       "      <th>0.75</th>\n",
       "      <td>0.252516</td>\n",
       "      <td>135.887281</td>\n",
       "      <td>4.174068</td>\n",
       "    </tr>\n",
       "    <tr>\n",
       "      <th>0.90</th>\n",
       "      <td>0.249902</td>\n",
       "      <td>133.875775</td>\n",
       "      <td>4.232265</td>\n",
       "    </tr>\n",
       "    <tr>\n",
       "      <th>1.00</th>\n",
       "      <td>0.248749</td>\n",
       "      <td>133.180946</td>\n",
       "      <td>4.253231</td>\n",
       "    </tr>\n",
       "    <tr>\n",
       "      <th>2.00</th>\n",
       "      <td>0.244404</td>\n",
       "      <td>130.185128</td>\n",
       "      <td>4.343579</td>\n",
       "    </tr>\n",
       "    <tr>\n",
       "      <th>5.00</th>\n",
       "      <td>0.242625</td>\n",
       "      <td>128.603203</td>\n",
       "      <td>4.388969</td>\n",
       "    </tr>\n",
       "    <tr>\n",
       "      <th rowspan=\"9\" valign=\"top\">4</th>\n",
       "      <th>0.20</th>\n",
       "      <td>0.382459</td>\n",
       "      <td>67.820186</td>\n",
       "      <td>1.166453</td>\n",
       "    </tr>\n",
       "    <tr>\n",
       "      <th>0.25</th>\n",
       "      <td>0.383548</td>\n",
       "      <td>73.579195</td>\n",
       "      <td>1.148600</td>\n",
       "    </tr>\n",
       "    <tr>\n",
       "      <th>0.30</th>\n",
       "      <td>0.424656</td>\n",
       "      <td>66.931803</td>\n",
       "      <td>1.513232</td>\n",
       "    </tr>\n",
       "    <tr>\n",
       "      <th>0.50</th>\n",
       "      <td>0.199576</td>\n",
       "      <td>90.532883</td>\n",
       "      <td>5.373453</td>\n",
       "    </tr>\n",
       "    <tr>\n",
       "      <th>0.75</th>\n",
       "      <td>0.184060</td>\n",
       "      <td>88.174078</td>\n",
       "      <td>5.726250</td>\n",
       "    </tr>\n",
       "    <tr>\n",
       "      <th>0.90</th>\n",
       "      <td>0.183101</td>\n",
       "      <td>86.786571</td>\n",
       "      <td>5.808677</td>\n",
       "    </tr>\n",
       "    <tr>\n",
       "      <th>1.00</th>\n",
       "      <td>0.180977</td>\n",
       "      <td>85.882271</td>\n",
       "      <td>5.945111</td>\n",
       "    </tr>\n",
       "    <tr>\n",
       "      <th>2.00</th>\n",
       "      <td>0.180781</td>\n",
       "      <td>82.563508</td>\n",
       "      <td>6.089100</td>\n",
       "    </tr>\n",
       "    <tr>\n",
       "      <th>5.00</th>\n",
       "      <td>0.180488</td>\n",
       "      <td>82.101894</td>\n",
       "      <td>6.106092</td>\n",
       "    </tr>\n",
       "    <tr>\n",
       "      <th rowspan=\"9\" valign=\"top\">6</th>\n",
       "      <th>0.20</th>\n",
       "      <td>0.278484</td>\n",
       "      <td>64.768133</td>\n",
       "      <td>2.131058</td>\n",
       "    </tr>\n",
       "    <tr>\n",
       "      <th>0.25</th>\n",
       "      <td>0.277664</td>\n",
       "      <td>65.041097</td>\n",
       "      <td>2.157278</td>\n",
       "    </tr>\n",
       "    <tr>\n",
       "      <th>0.30</th>\n",
       "      <td>0.276948</td>\n",
       "      <td>62.959933</td>\n",
       "      <td>2.258413</td>\n",
       "    </tr>\n",
       "    <tr>\n",
       "      <th>0.50</th>\n",
       "      <td>0.064235</td>\n",
       "      <td>58.252583</td>\n",
       "      <td>15.053707</td>\n",
       "    </tr>\n",
       "    <tr>\n",
       "      <th>0.75</th>\n",
       "      <td>0.068344</td>\n",
       "      <td>54.058648</td>\n",
       "      <td>16.562424</td>\n",
       "    </tr>\n",
       "    <tr>\n",
       "      <th>0.90</th>\n",
       "      <td>0.068433</td>\n",
       "      <td>53.718184</td>\n",
       "      <td>16.563627</td>\n",
       "    </tr>\n",
       "    <tr>\n",
       "      <th>1.00</th>\n",
       "      <td>0.068581</td>\n",
       "      <td>53.373439</td>\n",
       "      <td>16.584230</td>\n",
       "    </tr>\n",
       "    <tr>\n",
       "      <th>2.00</th>\n",
       "      <td>0.069271</td>\n",
       "      <td>50.674020</td>\n",
       "      <td>16.551476</td>\n",
       "    </tr>\n",
       "    <tr>\n",
       "      <th>5.00</th>\n",
       "      <td>0.069425</td>\n",
       "      <td>49.907354</td>\n",
       "      <td>16.652268</td>\n",
       "    </tr>\n",
       "    <tr>\n",
       "      <th rowspan=\"9\" valign=\"top\">8</th>\n",
       "      <th>0.20</th>\n",
       "      <td>0.374526</td>\n",
       "      <td>56.197349</td>\n",
       "      <td>1.711392</td>\n",
       "    </tr>\n",
       "    <tr>\n",
       "      <th>0.25</th>\n",
       "      <td>0.378640</td>\n",
       "      <td>54.811376</td>\n",
       "      <td>1.561313</td>\n",
       "    </tr>\n",
       "    <tr>\n",
       "      <th>0.30</th>\n",
       "      <td>0.235342</td>\n",
       "      <td>56.702628</td>\n",
       "      <td>2.401609</td>\n",
       "    </tr>\n",
       "    <tr>\n",
       "      <th>0.50</th>\n",
       "      <td>0.076589</td>\n",
       "      <td>51.384274</td>\n",
       "      <td>14.019482</td>\n",
       "    </tr>\n",
       "    <tr>\n",
       "      <th>0.75</th>\n",
       "      <td>0.075782</td>\n",
       "      <td>50.315566</td>\n",
       "      <td>14.109908</td>\n",
       "    </tr>\n",
       "    <tr>\n",
       "      <th>0.90</th>\n",
       "      <td>0.071693</td>\n",
       "      <td>40.669771</td>\n",
       "      <td>15.791255</td>\n",
       "    </tr>\n",
       "    <tr>\n",
       "      <th>1.00</th>\n",
       "      <td>0.070781</td>\n",
       "      <td>40.237362</td>\n",
       "      <td>15.693195</td>\n",
       "    </tr>\n",
       "    <tr>\n",
       "      <th>2.00</th>\n",
       "      <td>0.072265</td>\n",
       "      <td>38.514346</td>\n",
       "      <td>15.897169</td>\n",
       "    </tr>\n",
       "    <tr>\n",
       "      <th>5.00</th>\n",
       "      <td>0.072009</td>\n",
       "      <td>38.011595</td>\n",
       "      <td>15.929076</td>\n",
       "    </tr>\n",
       "    <tr>\n",
       "      <th rowspan=\"9\" valign=\"top\">10</th>\n",
       "      <th>0.20</th>\n",
       "      <td>0.357620</td>\n",
       "      <td>49.232282</td>\n",
       "      <td>1.499271</td>\n",
       "    </tr>\n",
       "    <tr>\n",
       "      <th>0.25</th>\n",
       "      <td>0.222965</td>\n",
       "      <td>49.140634</td>\n",
       "      <td>2.203900</td>\n",
       "    </tr>\n",
       "    <tr>\n",
       "      <th>0.30</th>\n",
       "      <td>0.246032</td>\n",
       "      <td>50.821559</td>\n",
       "      <td>2.592345</td>\n",
       "    </tr>\n",
       "    <tr>\n",
       "      <th>0.50</th>\n",
       "      <td>0.079614</td>\n",
       "      <td>39.077950</td>\n",
       "      <td>14.138487</td>\n",
       "    </tr>\n",
       "    <tr>\n",
       "      <th>0.75</th>\n",
       "      <td>0.076941</td>\n",
       "      <td>38.930533</td>\n",
       "      <td>13.670217</td>\n",
       "    </tr>\n",
       "    <tr>\n",
       "      <th>0.90</th>\n",
       "      <td>0.077102</td>\n",
       "      <td>38.848807</td>\n",
       "      <td>13.686147</td>\n",
       "    </tr>\n",
       "    <tr>\n",
       "      <th>1.00</th>\n",
       "      <td>0.076801</td>\n",
       "      <td>38.820031</td>\n",
       "      <td>13.711908</td>\n",
       "    </tr>\n",
       "    <tr>\n",
       "      <th>2.00</th>\n",
       "      <td>0.072286</td>\n",
       "      <td>31.560557</td>\n",
       "      <td>14.741388</td>\n",
       "    </tr>\n",
       "    <tr>\n",
       "      <th>5.00</th>\n",
       "      <td>0.072967</td>\n",
       "      <td>29.827952</td>\n",
       "      <td>14.854868</td>\n",
       "    </tr>\n",
       "    <tr>\n",
       "      <th rowspan=\"9\" valign=\"top\">12</th>\n",
       "      <th>0.20</th>\n",
       "      <td>0.227325</td>\n",
       "      <td>45.107724</td>\n",
       "      <td>1.937543</td>\n",
       "    </tr>\n",
       "    <tr>\n",
       "      <th>0.25</th>\n",
       "      <td>0.237612</td>\n",
       "      <td>43.663642</td>\n",
       "      <td>1.877258</td>\n",
       "    </tr>\n",
       "    <tr>\n",
       "      <th>0.30</th>\n",
       "      <td>0.163992</td>\n",
       "      <td>43.508880</td>\n",
       "      <td>4.376077</td>\n",
       "    </tr>\n",
       "    <tr>\n",
       "      <th>0.50</th>\n",
       "      <td>0.083869</td>\n",
       "      <td>34.845082</td>\n",
       "      <td>12.636575</td>\n",
       "    </tr>\n",
       "    <tr>\n",
       "      <th>0.75</th>\n",
       "      <td>0.079932</td>\n",
       "      <td>32.210755</td>\n",
       "      <td>13.712973</td>\n",
       "    </tr>\n",
       "    <tr>\n",
       "      <th>0.90</th>\n",
       "      <td>0.079344</td>\n",
       "      <td>32.175842</td>\n",
       "      <td>13.693940</td>\n",
       "    </tr>\n",
       "    <tr>\n",
       "      <th>1.00</th>\n",
       "      <td>0.079175</td>\n",
       "      <td>32.105141</td>\n",
       "      <td>13.673481</td>\n",
       "    </tr>\n",
       "    <tr>\n",
       "      <th>2.00</th>\n",
       "      <td>0.078788</td>\n",
       "      <td>31.875609</td>\n",
       "      <td>13.633692</td>\n",
       "    </tr>\n",
       "    <tr>\n",
       "      <th>5.00</th>\n",
       "      <td>0.080214</td>\n",
       "      <td>30.922872</td>\n",
       "      <td>13.685953</td>\n",
       "    </tr>\n",
       "    <tr>\n",
       "      <th rowspan=\"9\" valign=\"top\">14</th>\n",
       "      <th>0.20</th>\n",
       "      <td>0.274823</td>\n",
       "      <td>39.828880</td>\n",
       "      <td>1.269014</td>\n",
       "    </tr>\n",
       "    <tr>\n",
       "      <th>0.25</th>\n",
       "      <td>0.238917</td>\n",
       "      <td>40.153075</td>\n",
       "      <td>1.791218</td>\n",
       "    </tr>\n",
       "    <tr>\n",
       "      <th>0.30</th>\n",
       "      <td>0.141021</td>\n",
       "      <td>39.601029</td>\n",
       "      <td>4.626385</td>\n",
       "    </tr>\n",
       "    <tr>\n",
       "      <th>0.50</th>\n",
       "      <td>0.085860</td>\n",
       "      <td>30.136598</td>\n",
       "      <td>12.723231</td>\n",
       "    </tr>\n",
       "    <tr>\n",
       "      <th>0.75</th>\n",
       "      <td>0.085094</td>\n",
       "      <td>28.642324</td>\n",
       "      <td>13.085111</td>\n",
       "    </tr>\n",
       "    <tr>\n",
       "      <th>0.90</th>\n",
       "      <td>0.084411</td>\n",
       "      <td>28.555769</td>\n",
       "      <td>13.084284</td>\n",
       "    </tr>\n",
       "    <tr>\n",
       "      <th>1.00</th>\n",
       "      <td>0.084417</td>\n",
       "      <td>28.478891</td>\n",
       "      <td>13.092148</td>\n",
       "    </tr>\n",
       "    <tr>\n",
       "      <th>2.00</th>\n",
       "      <td>0.082363</td>\n",
       "      <td>27.578013</td>\n",
       "      <td>13.389443</td>\n",
       "    </tr>\n",
       "    <tr>\n",
       "      <th>5.00</th>\n",
       "      <td>0.084238</td>\n",
       "      <td>27.015565</td>\n",
       "      <td>13.539134</td>\n",
       "    </tr>\n",
       "    <tr>\n",
       "      <th rowspan=\"9\" valign=\"top\">16</th>\n",
       "      <th>0.20</th>\n",
       "      <td>0.211533</td>\n",
       "      <td>37.579692</td>\n",
       "      <td>1.662810</td>\n",
       "    </tr>\n",
       "    <tr>\n",
       "      <th>0.25</th>\n",
       "      <td>0.232423</td>\n",
       "      <td>37.331435</td>\n",
       "      <td>1.669274</td>\n",
       "    </tr>\n",
       "    <tr>\n",
       "      <th>0.30</th>\n",
       "      <td>0.162359</td>\n",
       "      <td>36.227366</td>\n",
       "      <td>3.981769</td>\n",
       "    </tr>\n",
       "    <tr>\n",
       "      <th>0.50</th>\n",
       "      <td>0.100239</td>\n",
       "      <td>26.629773</td>\n",
       "      <td>12.627424</td>\n",
       "    </tr>\n",
       "    <tr>\n",
       "      <th>0.75</th>\n",
       "      <td>0.097533</td>\n",
       "      <td>25.156529</td>\n",
       "      <td>13.126085</td>\n",
       "    </tr>\n",
       "    <tr>\n",
       "      <th>0.90</th>\n",
       "      <td>0.097785</td>\n",
       "      <td>25.038066</td>\n",
       "      <td>13.189569</td>\n",
       "    </tr>\n",
       "    <tr>\n",
       "      <th>1.00</th>\n",
       "      <td>0.096574</td>\n",
       "      <td>24.957617</td>\n",
       "      <td>13.167103</td>\n",
       "    </tr>\n",
       "    <tr>\n",
       "      <th>2.00</th>\n",
       "      <td>0.093288</td>\n",
       "      <td>24.623896</td>\n",
       "      <td>13.182650</td>\n",
       "    </tr>\n",
       "    <tr>\n",
       "      <th>5.00</th>\n",
       "      <td>0.096695</td>\n",
       "      <td>24.460794</td>\n",
       "      <td>13.227146</td>\n",
       "    </tr>\n",
       "    <tr>\n",
       "      <th rowspan=\"9\" valign=\"top\">18</th>\n",
       "      <th>0.20</th>\n",
       "      <td>0.212348</td>\n",
       "      <td>35.123145</td>\n",
       "      <td>1.691347</td>\n",
       "    </tr>\n",
       "    <tr>\n",
       "      <th>0.25</th>\n",
       "      <td>0.232169</td>\n",
       "      <td>35.015320</td>\n",
       "      <td>1.699460</td>\n",
       "    </tr>\n",
       "    <tr>\n",
       "      <th>0.30</th>\n",
       "      <td>0.105787</td>\n",
       "      <td>32.882166</td>\n",
       "      <td>5.744594</td>\n",
       "    </tr>\n",
       "    <tr>\n",
       "      <th>0.50</th>\n",
       "      <td>0.107428</td>\n",
       "      <td>24.882300</td>\n",
       "      <td>11.780772</td>\n",
       "    </tr>\n",
       "    <tr>\n",
       "      <th>0.75</th>\n",
       "      <td>0.106236</td>\n",
       "      <td>23.139609</td>\n",
       "      <td>12.680467</td>\n",
       "    </tr>\n",
       "    <tr>\n",
       "      <th>0.90</th>\n",
       "      <td>0.106723</td>\n",
       "      <td>22.331883</td>\n",
       "      <td>12.825450</td>\n",
       "    </tr>\n",
       "    <tr>\n",
       "      <th>1.00</th>\n",
       "      <td>0.106435</td>\n",
       "      <td>22.294952</td>\n",
       "      <td>12.821833</td>\n",
       "    </tr>\n",
       "    <tr>\n",
       "      <th>2.00</th>\n",
       "      <td>0.104013</td>\n",
       "      <td>22.200486</td>\n",
       "      <td>12.787670</td>\n",
       "    </tr>\n",
       "    <tr>\n",
       "      <th>5.00</th>\n",
       "      <td>0.105179</td>\n",
       "      <td>22.212064</td>\n",
       "      <td>12.789088</td>\n",
       "    </tr>\n",
       "    <tr>\n",
       "      <th rowspan=\"9\" valign=\"top\">20</th>\n",
       "      <th>0.20</th>\n",
       "      <td>0.193447</td>\n",
       "      <td>32.014520</td>\n",
       "      <td>1.569379</td>\n",
       "    </tr>\n",
       "    <tr>\n",
       "      <th>0.25</th>\n",
       "      <td>0.220433</td>\n",
       "      <td>32.414591</td>\n",
       "      <td>1.811836</td>\n",
       "    </tr>\n",
       "    <tr>\n",
       "      <th>0.30</th>\n",
       "      <td>0.086999</td>\n",
       "      <td>30.404780</td>\n",
       "      <td>6.637712</td>\n",
       "    </tr>\n",
       "    <tr>\n",
       "      <th>0.50</th>\n",
       "      <td>0.118305</td>\n",
       "      <td>22.996874</td>\n",
       "      <td>11.470786</td>\n",
       "    </tr>\n",
       "    <tr>\n",
       "      <th>0.75</th>\n",
       "      <td>0.113387</td>\n",
       "      <td>21.559983</td>\n",
       "      <td>11.756804</td>\n",
       "    </tr>\n",
       "    <tr>\n",
       "      <th>0.90</th>\n",
       "      <td>0.114656</td>\n",
       "      <td>21.542215</td>\n",
       "      <td>11.871333</td>\n",
       "    </tr>\n",
       "    <tr>\n",
       "      <th>1.00</th>\n",
       "      <td>0.113790</td>\n",
       "      <td>21.392566</td>\n",
       "      <td>11.893345</td>\n",
       "    </tr>\n",
       "    <tr>\n",
       "      <th>2.00</th>\n",
       "      <td>0.111252</td>\n",
       "      <td>20.661366</td>\n",
       "      <td>12.093282</td>\n",
       "    </tr>\n",
       "    <tr>\n",
       "      <th>5.00</th>\n",
       "      <td>0.112082</td>\n",
       "      <td>20.795502</td>\n",
       "      <td>12.124691</td>\n",
       "    </tr>\n",
       "    <tr>\n",
       "      <th rowspan=\"9\" valign=\"top\">25</th>\n",
       "      <th>0.20</th>\n",
       "      <td>0.131826</td>\n",
       "      <td>27.333238</td>\n",
       "      <td>1.690826</td>\n",
       "    </tr>\n",
       "    <tr>\n",
       "      <th>0.25</th>\n",
       "      <td>0.193965</td>\n",
       "      <td>29.084629</td>\n",
       "      <td>2.415360</td>\n",
       "    </tr>\n",
       "    <tr>\n",
       "      <th>0.30</th>\n",
       "      <td>0.092608</td>\n",
       "      <td>26.314170</td>\n",
       "      <td>6.693896</td>\n",
       "    </tr>\n",
       "    <tr>\n",
       "      <th>0.50</th>\n",
       "      <td>0.126170</td>\n",
       "      <td>18.844607</td>\n",
       "      <td>10.553239</td>\n",
       "    </tr>\n",
       "    <tr>\n",
       "      <th>0.75</th>\n",
       "      <td>0.127486</td>\n",
       "      <td>17.898452</td>\n",
       "      <td>10.870049</td>\n",
       "    </tr>\n",
       "    <tr>\n",
       "      <th>0.90</th>\n",
       "      <td>0.125237</td>\n",
       "      <td>17.838832</td>\n",
       "      <td>10.836320</td>\n",
       "    </tr>\n",
       "    <tr>\n",
       "      <th>1.00</th>\n",
       "      <td>0.124675</td>\n",
       "      <td>17.795044</td>\n",
       "      <td>10.853614</td>\n",
       "    </tr>\n",
       "    <tr>\n",
       "      <th>2.00</th>\n",
       "      <td>0.125298</td>\n",
       "      <td>17.761958</td>\n",
       "      <td>10.965358</td>\n",
       "    </tr>\n",
       "    <tr>\n",
       "      <th>5.00</th>\n",
       "      <td>0.123608</td>\n",
       "      <td>17.645053</td>\n",
       "      <td>11.021810</td>\n",
       "    </tr>\n",
       "    <tr>\n",
       "      <th rowspan=\"9\" valign=\"top\">30</th>\n",
       "      <th>0.20</th>\n",
       "      <td>0.126815</td>\n",
       "      <td>24.250211</td>\n",
       "      <td>1.950876</td>\n",
       "    </tr>\n",
       "    <tr>\n",
       "      <th>0.25</th>\n",
       "      <td>0.089549</td>\n",
       "      <td>25.185755</td>\n",
       "      <td>4.222587</td>\n",
       "    </tr>\n",
       "    <tr>\n",
       "      <th>0.30</th>\n",
       "      <td>0.104985</td>\n",
       "      <td>23.007069</td>\n",
       "      <td>7.175590</td>\n",
       "    </tr>\n",
       "    <tr>\n",
       "      <th>0.50</th>\n",
       "      <td>0.132850</td>\n",
       "      <td>17.639172</td>\n",
       "      <td>9.697025</td>\n",
       "    </tr>\n",
       "    <tr>\n",
       "      <th>0.75</th>\n",
       "      <td>0.127478</td>\n",
       "      <td>15.202859</td>\n",
       "      <td>10.446898</td>\n",
       "    </tr>\n",
       "    <tr>\n",
       "      <th>0.90</th>\n",
       "      <td>0.127424</td>\n",
       "      <td>15.118211</td>\n",
       "      <td>10.513999</td>\n",
       "    </tr>\n",
       "    <tr>\n",
       "      <th>1.00</th>\n",
       "      <td>0.125563</td>\n",
       "      <td>15.128434</td>\n",
       "      <td>10.511111</td>\n",
       "    </tr>\n",
       "    <tr>\n",
       "      <th>2.00</th>\n",
       "      <td>0.127814</td>\n",
       "      <td>15.104921</td>\n",
       "      <td>10.476672</td>\n",
       "    </tr>\n",
       "    <tr>\n",
       "      <th>5.00</th>\n",
       "      <td>0.126687</td>\n",
       "      <td>15.007313</td>\n",
       "      <td>10.522113</td>\n",
       "    </tr>\n",
       "    <tr>\n",
       "      <th rowspan=\"9\" valign=\"top\">35</th>\n",
       "      <th>0.20</th>\n",
       "      <td>0.128837</td>\n",
       "      <td>21.860168</td>\n",
       "      <td>2.162066</td>\n",
       "    </tr>\n",
       "    <tr>\n",
       "      <th>0.25</th>\n",
       "      <td>0.085387</td>\n",
       "      <td>22.493330</td>\n",
       "      <td>4.581090</td>\n",
       "    </tr>\n",
       "    <tr>\n",
       "      <th>0.30</th>\n",
       "      <td>0.119132</td>\n",
       "      <td>20.937420</td>\n",
       "      <td>7.128253</td>\n",
       "    </tr>\n",
       "    <tr>\n",
       "      <th>0.50</th>\n",
       "      <td>0.133727</td>\n",
       "      <td>15.603028</td>\n",
       "      <td>9.379740</td>\n",
       "    </tr>\n",
       "    <tr>\n",
       "      <th>0.75</th>\n",
       "      <td>0.140252</td>\n",
       "      <td>13.630373</td>\n",
       "      <td>9.869676</td>\n",
       "    </tr>\n",
       "    <tr>\n",
       "      <th>0.90</th>\n",
       "      <td>0.138798</td>\n",
       "      <td>13.291657</td>\n",
       "      <td>9.993690</td>\n",
       "    </tr>\n",
       "    <tr>\n",
       "      <th>1.00</th>\n",
       "      <td>0.137019</td>\n",
       "      <td>13.219924</td>\n",
       "      <td>10.093321</td>\n",
       "    </tr>\n",
       "    <tr>\n",
       "      <th>2.00</th>\n",
       "      <td>0.134664</td>\n",
       "      <td>13.211372</td>\n",
       "      <td>10.071729</td>\n",
       "    </tr>\n",
       "    <tr>\n",
       "      <th>5.00</th>\n",
       "      <td>0.136409</td>\n",
       "      <td>13.178058</td>\n",
       "      <td>10.035234</td>\n",
       "    </tr>\n",
       "    <tr>\n",
       "      <th rowspan=\"9\" valign=\"top\">40</th>\n",
       "      <th>0.20</th>\n",
       "      <td>0.137961</td>\n",
       "      <td>20.265481</td>\n",
       "      <td>2.523574</td>\n",
       "    </tr>\n",
       "    <tr>\n",
       "      <th>0.25</th>\n",
       "      <td>0.095631</td>\n",
       "      <td>20.162326</td>\n",
       "      <td>5.103307</td>\n",
       "    </tr>\n",
       "    <tr>\n",
       "      <th>0.30</th>\n",
       "      <td>0.125319</td>\n",
       "      <td>18.927951</td>\n",
       "      <td>6.979218</td>\n",
       "    </tr>\n",
       "    <tr>\n",
       "      <th>0.50</th>\n",
       "      <td>0.144838</td>\n",
       "      <td>13.863786</td>\n",
       "      <td>9.170883</td>\n",
       "    </tr>\n",
       "    <tr>\n",
       "      <th>0.75</th>\n",
       "      <td>0.144076</td>\n",
       "      <td>12.449544</td>\n",
       "      <td>9.441395</td>\n",
       "    </tr>\n",
       "    <tr>\n",
       "      <th>0.90</th>\n",
       "      <td>0.142236</td>\n",
       "      <td>11.904866</td>\n",
       "      <td>9.488710</td>\n",
       "    </tr>\n",
       "    <tr>\n",
       "      <th>1.00</th>\n",
       "      <td>0.139658</td>\n",
       "      <td>11.963291</td>\n",
       "      <td>9.453945</td>\n",
       "    </tr>\n",
       "    <tr>\n",
       "      <th>2.00</th>\n",
       "      <td>0.140153</td>\n",
       "      <td>11.822750</td>\n",
       "      <td>9.431818</td>\n",
       "    </tr>\n",
       "    <tr>\n",
       "      <th>5.00</th>\n",
       "      <td>0.139846</td>\n",
       "      <td>11.805755</td>\n",
       "      <td>9.533184</td>\n",
       "    </tr>\n",
       "  </tbody>\n",
       "</table>\n",
       "</div>"
      ],
      "text/plain": [
       "                  si_score    ch_score   db_score\n",
       "n_clusters delta                                 \n",
       "2          0.20   0.427525  154.143308   1.263226\n",
       "           0.25   0.428439  152.424146   1.250389\n",
       "           0.30   0.428439  152.424146   1.250389\n",
       "           0.50   0.263322  142.674384   3.950004\n",
       "           0.75   0.252516  135.887281   4.174068\n",
       "           0.90   0.249902  133.875775   4.232265\n",
       "           1.00   0.248749  133.180946   4.253231\n",
       "           2.00   0.244404  130.185128   4.343579\n",
       "           5.00   0.242625  128.603203   4.388969\n",
       "4          0.20   0.382459   67.820186   1.166453\n",
       "           0.25   0.383548   73.579195   1.148600\n",
       "           0.30   0.424656   66.931803   1.513232\n",
       "           0.50   0.199576   90.532883   5.373453\n",
       "           0.75   0.184060   88.174078   5.726250\n",
       "           0.90   0.183101   86.786571   5.808677\n",
       "           1.00   0.180977   85.882271   5.945111\n",
       "           2.00   0.180781   82.563508   6.089100\n",
       "           5.00   0.180488   82.101894   6.106092\n",
       "6          0.20   0.278484   64.768133   2.131058\n",
       "           0.25   0.277664   65.041097   2.157278\n",
       "           0.30   0.276948   62.959933   2.258413\n",
       "           0.50   0.064235   58.252583  15.053707\n",
       "           0.75   0.068344   54.058648  16.562424\n",
       "           0.90   0.068433   53.718184  16.563627\n",
       "           1.00   0.068581   53.373439  16.584230\n",
       "           2.00   0.069271   50.674020  16.551476\n",
       "           5.00   0.069425   49.907354  16.652268\n",
       "8          0.20   0.374526   56.197349   1.711392\n",
       "           0.25   0.378640   54.811376   1.561313\n",
       "           0.30   0.235342   56.702628   2.401609\n",
       "           0.50   0.076589   51.384274  14.019482\n",
       "           0.75   0.075782   50.315566  14.109908\n",
       "           0.90   0.071693   40.669771  15.791255\n",
       "           1.00   0.070781   40.237362  15.693195\n",
       "           2.00   0.072265   38.514346  15.897169\n",
       "           5.00   0.072009   38.011595  15.929076\n",
       "10         0.20   0.357620   49.232282   1.499271\n",
       "           0.25   0.222965   49.140634   2.203900\n",
       "           0.30   0.246032   50.821559   2.592345\n",
       "           0.50   0.079614   39.077950  14.138487\n",
       "           0.75   0.076941   38.930533  13.670217\n",
       "           0.90   0.077102   38.848807  13.686147\n",
       "           1.00   0.076801   38.820031  13.711908\n",
       "           2.00   0.072286   31.560557  14.741388\n",
       "           5.00   0.072967   29.827952  14.854868\n",
       "12         0.20   0.227325   45.107724   1.937543\n",
       "           0.25   0.237612   43.663642   1.877258\n",
       "           0.30   0.163992   43.508880   4.376077\n",
       "           0.50   0.083869   34.845082  12.636575\n",
       "           0.75   0.079932   32.210755  13.712973\n",
       "           0.90   0.079344   32.175842  13.693940\n",
       "           1.00   0.079175   32.105141  13.673481\n",
       "           2.00   0.078788   31.875609  13.633692\n",
       "           5.00   0.080214   30.922872  13.685953\n",
       "14         0.20   0.274823   39.828880   1.269014\n",
       "           0.25   0.238917   40.153075   1.791218\n",
       "           0.30   0.141021   39.601029   4.626385\n",
       "           0.50   0.085860   30.136598  12.723231\n",
       "           0.75   0.085094   28.642324  13.085111\n",
       "           0.90   0.084411   28.555769  13.084284\n",
       "           1.00   0.084417   28.478891  13.092148\n",
       "           2.00   0.082363   27.578013  13.389443\n",
       "           5.00   0.084238   27.015565  13.539134\n",
       "16         0.20   0.211533   37.579692   1.662810\n",
       "           0.25   0.232423   37.331435   1.669274\n",
       "           0.30   0.162359   36.227366   3.981769\n",
       "           0.50   0.100239   26.629773  12.627424\n",
       "           0.75   0.097533   25.156529  13.126085\n",
       "           0.90   0.097785   25.038066  13.189569\n",
       "           1.00   0.096574   24.957617  13.167103\n",
       "           2.00   0.093288   24.623896  13.182650\n",
       "           5.00   0.096695   24.460794  13.227146\n",
       "18         0.20   0.212348   35.123145   1.691347\n",
       "           0.25   0.232169   35.015320   1.699460\n",
       "           0.30   0.105787   32.882166   5.744594\n",
       "           0.50   0.107428   24.882300  11.780772\n",
       "           0.75   0.106236   23.139609  12.680467\n",
       "           0.90   0.106723   22.331883  12.825450\n",
       "           1.00   0.106435   22.294952  12.821833\n",
       "           2.00   0.104013   22.200486  12.787670\n",
       "           5.00   0.105179   22.212064  12.789088\n",
       "20         0.20   0.193447   32.014520   1.569379\n",
       "           0.25   0.220433   32.414591   1.811836\n",
       "           0.30   0.086999   30.404780   6.637712\n",
       "           0.50   0.118305   22.996874  11.470786\n",
       "           0.75   0.113387   21.559983  11.756804\n",
       "           0.90   0.114656   21.542215  11.871333\n",
       "           1.00   0.113790   21.392566  11.893345\n",
       "           2.00   0.111252   20.661366  12.093282\n",
       "           5.00   0.112082   20.795502  12.124691\n",
       "25         0.20   0.131826   27.333238   1.690826\n",
       "           0.25   0.193965   29.084629   2.415360\n",
       "           0.30   0.092608   26.314170   6.693896\n",
       "           0.50   0.126170   18.844607  10.553239\n",
       "           0.75   0.127486   17.898452  10.870049\n",
       "           0.90   0.125237   17.838832  10.836320\n",
       "           1.00   0.124675   17.795044  10.853614\n",
       "           2.00   0.125298   17.761958  10.965358\n",
       "           5.00   0.123608   17.645053  11.021810\n",
       "30         0.20   0.126815   24.250211   1.950876\n",
       "           0.25   0.089549   25.185755   4.222587\n",
       "           0.30   0.104985   23.007069   7.175590\n",
       "           0.50   0.132850   17.639172   9.697025\n",
       "           0.75   0.127478   15.202859  10.446898\n",
       "           0.90   0.127424   15.118211  10.513999\n",
       "           1.00   0.125563   15.128434  10.511111\n",
       "           2.00   0.127814   15.104921  10.476672\n",
       "           5.00   0.126687   15.007313  10.522113\n",
       "35         0.20   0.128837   21.860168   2.162066\n",
       "           0.25   0.085387   22.493330   4.581090\n",
       "           0.30   0.119132   20.937420   7.128253\n",
       "           0.50   0.133727   15.603028   9.379740\n",
       "           0.75   0.140252   13.630373   9.869676\n",
       "           0.90   0.138798   13.291657   9.993690\n",
       "           1.00   0.137019   13.219924  10.093321\n",
       "           2.00   0.134664   13.211372  10.071729\n",
       "           5.00   0.136409   13.178058  10.035234\n",
       "40         0.20   0.137961   20.265481   2.523574\n",
       "           0.25   0.095631   20.162326   5.103307\n",
       "           0.30   0.125319   18.927951   6.979218\n",
       "           0.50   0.144838   13.863786   9.170883\n",
       "           0.75   0.144076   12.449544   9.441395\n",
       "           0.90   0.142236   11.904866   9.488710\n",
       "           1.00   0.139658   11.963291   9.453945\n",
       "           2.00   0.140153   11.822750   9.431818\n",
       "           5.00   0.139846   11.805755   9.533184"
      ]
     },
     "metadata": {},
     "output_type": "display_data"
    }
   ],
   "source": [
    "with pd.option_context(\"display.max_rows\", None, \"display.max_columns\", None):\n",
    "    _df = ensemble.groupby([\"n_clusters\", \"delta\"]).mean()\n",
    "    display(_df)"
   ]
  },
  {
   "cell_type": "code",
   "execution_count": 65,
   "metadata": {
    "execution": {
     "iopub.execute_input": "2021-01-13T20:19:39.255269Z",
     "iopub.status.busy": "2021-01-13T20:19:39.254905Z",
     "iopub.status.idle": "2021-01-13T20:19:42.398396Z",
     "shell.execute_reply": "2021-01-13T20:19:42.398695Z"
    },
    "papermill": {
     "duration": 3.289568,
     "end_time": "2021-01-13T20:19:42.398808",
     "exception": false,
     "start_time": "2021-01-13T20:19:39.109240",
     "status": "completed"
    },
    "tags": []
   },
   "outputs": [
    {
     "data": {
      "image/png": "[encoded data removed]",
      "text/plain": [
       "<Figure size 1008x432 with 1 Axes>"
      ]
     },
     "metadata": {},
     "output_type": "display_data"
    }
   ],
   "source": [
    "with sns.plotting_context(\"talk\", font_scale=0.75), sns.axes_style(\n",
    "    \"whitegrid\", {\"grid.linestyle\": \"--\"}\n",
    "):\n",
    "    fig = plt.figure(figsize=(14, 6))\n",
    "    ax = sns.pointplot(data=ensemble, x=\"n_clusters\", y=\"si_score\", hue=\"delta\")\n",
    "    ax.set_ylabel(\"Silhouette index\\n(higher is better)\")\n",
    "    ax.set_xlabel(\"Number of clusters ($k$)\")\n",
    "    ax.set_xticklabels(ax.get_xticklabels(), rotation=45)\n",
    "    plt.grid(True)\n",
    "    plt.tight_layout()"
   ]
  },
  {
   "cell_type": "code",
   "execution_count": 66,
   "metadata": {
    "execution": {
     "iopub.execute_input": "2021-01-13T20:19:42.693471Z",
     "iopub.status.busy": "2021-01-13T20:19:42.693104Z",
     "iopub.status.idle": "2021-01-13T20:19:45.462308Z",
     "shell.execute_reply": "2021-01-13T20:19:45.462607Z"
    },
    "papermill": {
     "duration": 2.916221,
     "end_time": "2021-01-13T20:19:45.462716",
     "exception": false,
     "start_time": "2021-01-13T20:19:42.546495",
     "status": "completed"
    },
    "tags": []
   },
   "outputs": [
    {
     "data": {
      "image/png": "[encoded data removed]",
      "text/plain": [
       "<Figure size 1008x432 with 1 Axes>"
      ]
     },
     "metadata": {},
     "output_type": "display_data"
    }
   ],
   "source": [
    "with sns.plotting_context(\"talk\", font_scale=0.75), sns.axes_style(\n",
    "    \"whitegrid\", {\"grid.linestyle\": \"--\"}\n",
    "):\n",
    "    fig = plt.figure(figsize=(14, 6))\n",
    "    ax = sns.pointplot(data=ensemble, x=\"n_clusters\", y=\"ch_score\", hue=\"delta\")\n",
    "    ax.set_ylabel(\"Calinski-Harabasz index\\n(higher is better)\")\n",
    "    ax.set_xlabel(\"Number of clusters ($k$)\")\n",
    "    ax.set_xticklabels(ax.get_xticklabels(), rotation=45)\n",
    "    plt.grid(True)\n",
    "    plt.tight_layout()"
   ]
  },
  {
   "cell_type": "code",
   "execution_count": 67,
   "metadata": {
    "execution": {
     "iopub.execute_input": "2021-01-13T20:19:45.759034Z",
     "iopub.status.busy": "2021-01-13T20:19:45.758666Z",
     "iopub.status.idle": "2021-01-13T20:19:48.567273Z",
     "shell.execute_reply": "2021-01-13T20:19:48.567571Z"
    },
    "papermill": {
     "duration": 2.958361,
     "end_time": "2021-01-13T20:19:48.567680",
     "exception": false,
     "start_time": "2021-01-13T20:19:45.609319",
     "status": "completed"
    },
    "tags": []
   },
   "outputs": [
    {
     "data": {
      "image/png": "[encoded data removed]",
      "text/plain": [
       "<Figure size 1008x432 with 1 Axes>"
      ]
     },
     "metadata": {},
     "output_type": "display_data"
    }
   ],
   "source": [
    "with sns.plotting_context(\"talk\", font_scale=0.75), sns.axes_style(\n",
    "    \"whitegrid\", {\"grid.linestyle\": \"--\"}\n",
    "):\n",
    "    fig = plt.figure(figsize=(14, 6))\n",
    "    ax = sns.pointplot(data=ensemble, x=\"n_clusters\", y=\"db_score\", hue=\"delta\")\n",
    "    ax.set_ylabel(\"Davies-Bouldin index\\n(lower is better)\")\n",
    "    ax.set_xlabel(\"Number of clusters ($k$)\")\n",
    "    ax.set_xticklabels(ax.get_xticklabels(), rotation=45)\n",
    "    plt.grid(True)\n",
    "    plt.tight_layout()"
   ]
  },
  {
   "cell_type": "markdown",
   "metadata": {
    "papermill": {
     "duration": 0.147899,
     "end_time": "2021-01-13T20:19:48.862479",
     "exception": false,
     "start_time": "2021-01-13T20:19:48.714580",
     "status": "completed"
    },
    "tags": []
   },
   "source": [
    "# Stability"
   ]
  },
  {
   "cell_type": "markdown",
   "metadata": {
    "papermill": {
     "duration": 0.147511,
     "end_time": "2021-01-13T20:19:49.157464",
     "exception": false,
     "start_time": "2021-01-13T20:19:49.009953",
     "status": "completed"
    },
    "tags": []
   },
   "source": [
    "## Group ensemble by n_clusters"
   ]
  },
  {
   "cell_type": "code",
   "execution_count": 68,
   "metadata": {
    "execution": {
     "iopub.execute_input": "2021-01-13T20:19:49.454156Z",
     "iopub.status.busy": "2021-01-13T20:19:49.453778Z",
     "iopub.status.idle": "2021-01-13T20:19:49.496412Z",
     "shell.execute_reply": "2021-01-13T20:19:49.496077Z"
    },
    "papermill": {
     "duration": 0.192869,
     "end_time": "2021-01-13T20:19:49.496505",
     "exception": false,
     "start_time": "2021-01-13T20:19:49.303636",
     "status": "completed"
    },
    "tags": []
   },
   "outputs": [],
   "source": [
    "parts = ensemble.groupby([\"delta\", \"n_clusters\"]).apply(\n",
    "    lambda x: np.concatenate(x[\"partition\"].apply(lambda x: x.reshape(1, -1)), axis=0)\n",
    ")"
   ]
  },
  {
   "cell_type": "code",
   "execution_count": 69,
   "metadata": {
    "execution": {
     "iopub.execute_input": "2021-01-13T20:19:49.794150Z",
     "iopub.status.busy": "2021-01-13T20:19:49.793786Z",
     "iopub.status.idle": "2021-01-13T20:19:49.805607Z",
     "shell.execute_reply": "2021-01-13T20:19:49.805295Z"
    },
    "papermill": {
     "duration": 0.161285,
     "end_time": "2021-01-13T20:19:49.805694",
     "exception": false,
     "start_time": "2021-01-13T20:19:49.644409",
     "status": "completed"
    },
    "tags": []
   },
   "outputs": [
    {
     "data": {
      "text/plain": [
       "(126,)"
      ]
     },
     "execution_count": 69,
     "metadata": {},
     "output_type": "execute_result"
    }
   ],
   "source": [
    "parts.shape"
   ]
  },
  {
   "cell_type": "code",
   "execution_count": 70,
   "metadata": {
    "execution": {
     "iopub.execute_input": "2021-01-13T20:19:50.125659Z",
     "iopub.status.busy": "2021-01-13T20:19:50.125220Z",
     "iopub.status.idle": "2021-01-13T20:19:50.151531Z",
     "shell.execute_reply": "2021-01-13T20:19:50.151844Z"
    },
    "papermill": {
     "duration": 0.198781,
     "end_time": "2021-01-13T20:19:50.151963",
     "exception": false,
     "start_time": "2021-01-13T20:19:49.953182",
     "status": "completed"
    },
    "tags": []
   },
   "outputs": [
    {
     "data": {
      "text/plain": [
       "delta  n_clusters\n",
       "0.20   2             [[0.0, 0.0, 0.0, 0.0, 0.0, 0.0, 0.0, 0.0, 0.0,...\n",
       "       4             [[0.0, 0.0, 0.0, 0.0, 0.0, 0.0, 0.0, 0.0, 0.0,...\n",
       "       6             [[0.0, 0.0, 0.0, 0.0, 0.0, 0.0, 0.0, 0.0, 0.0,...\n",
       "       8             [[0.0, 0.0, 0.0, 0.0, 0.0, 0.0, 0.0, 0.0, 0.0,...\n",
       "       10            [[0.0, 0.0, 0.0, 0.0, 0.0, 0.0, 0.0, 0.0, 0.0,...\n",
       "dtype: object"
      ]
     },
     "execution_count": 70,
     "metadata": {},
     "output_type": "execute_result"
    }
   ],
   "source": [
    "parts.head()"
   ]
  },
  {
   "cell_type": "code",
   "execution_count": 71,
   "metadata": {
    "execution": {
     "iopub.execute_input": "2021-01-13T20:19:50.452134Z",
     "iopub.status.busy": "2021-01-13T20:19:50.451770Z",
     "iopub.status.idle": "2021-01-13T20:19:50.464261Z",
     "shell.execute_reply": "2021-01-13T20:19:50.463887Z"
    },
    "papermill": {
     "duration": 0.164377,
     "end_time": "2021-01-13T20:19:50.464362",
     "exception": false,
     "start_time": "2021-01-13T20:19:50.299985",
     "status": "completed"
    },
    "tags": []
   },
   "outputs": [
    {
     "data": {
      "text/plain": [
       "(5, 3749)"
      ]
     },
     "execution_count": 71,
     "metadata": {},
     "output_type": "execute_result"
    }
   ],
   "source": [
    "parts.iloc[0].shape"
   ]
  },
  {
   "cell_type": "code",
   "execution_count": 72,
   "metadata": {
    "execution": {
     "iopub.execute_input": "2021-01-13T20:19:50.766840Z",
     "iopub.status.busy": "2021-01-13T20:19:50.766466Z",
     "iopub.status.idle": "2021-01-13T20:19:50.782062Z",
     "shell.execute_reply": "2021-01-13T20:19:50.781733Z"
    },
    "papermill": {
     "duration": 0.167102,
     "end_time": "2021-01-13T20:19:50.782151",
     "exception": false,
     "start_time": "2021-01-13T20:19:50.615049",
     "status": "completed"
    },
    "tags": []
   },
   "outputs": [],
   "source": [
    "assert np.all(\n",
    "    [\n",
    "        parts.loc[k].shape == (int(CLUSTERING_OPTIONS[\"N_REPS_PER_K\"]), data.shape[0])\n",
    "        for k in parts.index\n",
    "    ]\n",
    ")"
   ]
  },
  {
   "cell_type": "markdown",
   "metadata": {
    "papermill": {
     "duration": 0.148962,
     "end_time": "2021-01-13T20:19:51.081919",
     "exception": false,
     "start_time": "2021-01-13T20:19:50.932957",
     "status": "completed"
    },
    "tags": []
   },
   "source": [
    "## Compute stability"
   ]
  },
  {
   "cell_type": "code",
   "execution_count": 73,
   "metadata": {
    "execution": {
     "iopub.execute_input": "2021-01-13T20:19:51.381379Z",
     "iopub.status.busy": "2021-01-13T20:19:51.381005Z",
     "iopub.status.idle": "2021-01-13T20:19:51.391785Z",
     "shell.execute_reply": "2021-01-13T20:19:51.391418Z"
    },
    "papermill": {
     "duration": 0.162048,
     "end_time": "2021-01-13T20:19:51.391872",
     "exception": false,
     "start_time": "2021-01-13T20:19:51.229824",
     "status": "completed"
    },
    "tags": []
   },
   "outputs": [],
   "source": [
    "from sklearn.metrics import adjusted_rand_score as ari\n",
    "from scipy.spatial.distance import pdist"
   ]
  },
  {
   "cell_type": "code",
   "execution_count": 74,
   "metadata": {
    "execution": {
     "iopub.execute_input": "2021-01-13T20:19:51.697345Z",
     "iopub.status.busy": "2021-01-13T20:19:51.696974Z",
     "iopub.status.idle": "2021-01-13T20:19:52.920196Z",
     "shell.execute_reply": "2021-01-13T20:19:52.919809Z"
    },
    "papermill": {
     "duration": 1.374931,
     "end_time": "2021-01-13T20:19:52.920287",
     "exception": false,
     "start_time": "2021-01-13T20:19:51.545356",
     "status": "completed"
    },
    "tags": []
   },
   "outputs": [],
   "source": [
    "parts_ari = pd.Series(\n",
    "    {k: pdist(parts.loc[k], metric=ari) for k in parts.index}, name=\"n_clusters\"\n",
    ")"
   ]
  },
  {
   "cell_type": "code",
   "execution_count": 75,
   "metadata": {
    "execution": {
     "iopub.execute_input": "2021-01-13T20:19:53.220244Z",
     "iopub.status.busy": "2021-01-13T20:19:53.219890Z",
     "iopub.status.idle": "2021-01-13T20:19:53.233779Z",
     "shell.execute_reply": "2021-01-13T20:19:53.233483Z"
    },
    "papermill": {
     "duration": 0.165368,
     "end_time": "2021-01-13T20:19:53.233868",
     "exception": false,
     "start_time": "2021-01-13T20:19:53.068500",
     "status": "completed"
    },
    "tags": []
   },
   "outputs": [
    {
     "data": {
      "text/plain": [
       "0.20  2    1.0\n",
       "0.30  2    1.0\n",
       "1.00  2    1.0\n",
       "      4    1.0\n",
       "0.90  4    1.0\n",
       "      2    1.0\n",
       "0.75  6    1.0\n",
       "      4    1.0\n",
       "      2    1.0\n",
       "0.50  4    1.0\n",
       "2.00  2    1.0\n",
       "0.50  2    1.0\n",
       "0.30  8    1.0\n",
       "      4    1.0\n",
       "      6    1.0\n",
       "Name: n_clusters, dtype: float64"
      ]
     },
     "metadata": {},
     "output_type": "display_data"
    }
   ],
   "source": [
    "parts_ari_stability = parts_ari.apply(lambda x: x.mean())\n",
    "display(parts_ari_stability.sort_values(ascending=False).head(15))"
   ]
  },
  {
   "cell_type": "code",
   "execution_count": 76,
   "metadata": {
    "execution": {
     "iopub.execute_input": "2021-01-13T20:19:53.540938Z",
     "iopub.status.busy": "2021-01-13T20:19:53.540535Z",
     "iopub.status.idle": "2021-01-13T20:19:53.553395Z",
     "shell.execute_reply": "2021-01-13T20:19:53.553025Z"
    },
    "papermill": {
     "duration": 0.169509,
     "end_time": "2021-01-13T20:19:53.553484",
     "exception": false,
     "start_time": "2021-01-13T20:19:53.383975",
     "status": "completed"
    },
    "tags": []
   },
   "outputs": [],
   "source": [
    "parts_ari_df = pd.DataFrame.from_records(parts_ari.tolist()).set_index(\n",
    "    parts_ari.index.copy()\n",
    ")\n",
    "parts_ari_df.index.rename([\"gamma\", \"n_clusters\"], inplace=True)"
   ]
  },
  {
   "cell_type": "code",
   "execution_count": 77,
   "metadata": {
    "execution": {
     "iopub.execute_input": "2021-01-13T20:19:53.857266Z",
     "iopub.status.busy": "2021-01-13T20:19:53.856909Z",
     "iopub.status.idle": "2021-01-13T20:19:53.868107Z",
     "shell.execute_reply": "2021-01-13T20:19:53.868387Z"
    },
    "papermill": {
     "duration": 0.163238,
     "end_time": "2021-01-13T20:19:53.868497",
     "exception": false,
     "start_time": "2021-01-13T20:19:53.705259",
     "status": "completed"
    },
    "tags": []
   },
   "outputs": [
    {
     "data": {
      "text/plain": [
       "(126, 10)"
      ]
     },
     "execution_count": 77,
     "metadata": {},
     "output_type": "execute_result"
    }
   ],
   "source": [
    "parts_ari_df.shape"
   ]
  },
  {
   "cell_type": "code",
   "execution_count": 78,
   "metadata": {
    "execution": {
     "iopub.execute_input": "2021-01-13T20:19:54.168924Z",
     "iopub.status.busy": "2021-01-13T20:19:54.168456Z",
     "iopub.status.idle": "2021-01-13T20:19:54.179569Z",
     "shell.execute_reply": "2021-01-13T20:19:54.179192Z"
    },
    "papermill": {
     "duration": 0.162439,
     "end_time": "2021-01-13T20:19:54.179659",
     "exception": false,
     "start_time": "2021-01-13T20:19:54.017220",
     "status": "completed"
    },
    "tags": []
   },
   "outputs": [],
   "source": [
    "_n_total_parts = int(\n",
    "    CLUSTERING_OPTIONS[\"N_REPS_PER_K\"]\n",
    ")  # * len(CLUSTERING_OPTIONS[\"GAMMAS\"]))\n",
    "\n",
    "assert int(_n_total_parts * (_n_total_parts - 1) / 2) == parts_ari_df.shape[1]"
   ]
  },
  {
   "cell_type": "code",
   "execution_count": 79,
   "metadata": {
    "execution": {
     "iopub.execute_input": "2021-01-13T20:19:54.481559Z",
     "iopub.status.busy": "2021-01-13T20:19:54.481134Z",
     "iopub.status.idle": "2021-01-13T20:19:54.501721Z",
     "shell.execute_reply": "2021-01-13T20:19:54.501408Z"
    },
    "papermill": {
     "duration": 0.172024,
     "end_time": "2021-01-13T20:19:54.501814",
     "exception": false,
     "start_time": "2021-01-13T20:19:54.329790",
     "status": "completed"
    },
    "tags": []
   },
   "outputs": [
    {
     "data": {
      "text/html": [
       "<div>\n",
       "<style scoped>\n",
       "    .dataframe tbody tr th:only-of-type {\n",
       "        vertical-align: middle;\n",
       "    }\n",
       "\n",
       "    .dataframe tbody tr th {\n",
       "        vertical-align: top;\n",
       "    }\n",
       "\n",
       "    .dataframe thead th {\n",
       "        text-align: right;\n",
       "    }\n",
       "</style>\n",
       "<table border=\"1\" class=\"dataframe\">\n",
       "  <thead>\n",
       "    <tr style=\"text-align: right;\">\n",
       "      <th></th>\n",
       "      <th></th>\n",
       "      <th>0</th>\n",
       "      <th>1</th>\n",
       "      <th>2</th>\n",
       "      <th>3</th>\n",
       "      <th>4</th>\n",
       "      <th>5</th>\n",
       "      <th>6</th>\n",
       "      <th>7</th>\n",
       "      <th>8</th>\n",
       "      <th>9</th>\n",
       "    </tr>\n",
       "    <tr>\n",
       "      <th>gamma</th>\n",
       "      <th>n_clusters</th>\n",
       "      <th></th>\n",
       "      <th></th>\n",
       "      <th></th>\n",
       "      <th></th>\n",
       "      <th></th>\n",
       "      <th></th>\n",
       "      <th></th>\n",
       "      <th></th>\n",
       "      <th></th>\n",
       "      <th></th>\n",
       "    </tr>\n",
       "  </thead>\n",
       "  <tbody>\n",
       "    <tr>\n",
       "      <th rowspan=\"5\" valign=\"top\">0.20</th>\n",
       "      <th>2</th>\n",
       "      <td>1.0</td>\n",
       "      <td>1.0</td>\n",
       "      <td>1.0</td>\n",
       "      <td>1.0</td>\n",
       "      <td>1.0</td>\n",
       "      <td>1.0</td>\n",
       "      <td>1.0</td>\n",
       "      <td>1.0</td>\n",
       "      <td>1.0</td>\n",
       "      <td>1.0</td>\n",
       "    </tr>\n",
       "    <tr>\n",
       "      <th>4</th>\n",
       "      <td>1.0</td>\n",
       "      <td>1.0</td>\n",
       "      <td>1.0</td>\n",
       "      <td>1.0</td>\n",
       "      <td>1.0</td>\n",
       "      <td>1.0</td>\n",
       "      <td>1.0</td>\n",
       "      <td>1.0</td>\n",
       "      <td>1.0</td>\n",
       "      <td>1.0</td>\n",
       "    </tr>\n",
       "    <tr>\n",
       "      <th>6</th>\n",
       "      <td>1.0</td>\n",
       "      <td>1.0</td>\n",
       "      <td>1.0</td>\n",
       "      <td>1.0</td>\n",
       "      <td>1.0</td>\n",
       "      <td>1.0</td>\n",
       "      <td>1.0</td>\n",
       "      <td>1.0</td>\n",
       "      <td>1.0</td>\n",
       "      <td>1.0</td>\n",
       "    </tr>\n",
       "    <tr>\n",
       "      <th>8</th>\n",
       "      <td>1.0</td>\n",
       "      <td>1.0</td>\n",
       "      <td>1.0</td>\n",
       "      <td>1.0</td>\n",
       "      <td>1.0</td>\n",
       "      <td>1.0</td>\n",
       "      <td>1.0</td>\n",
       "      <td>1.0</td>\n",
       "      <td>1.0</td>\n",
       "      <td>1.0</td>\n",
       "    </tr>\n",
       "    <tr>\n",
       "      <th>10</th>\n",
       "      <td>1.0</td>\n",
       "      <td>1.0</td>\n",
       "      <td>1.0</td>\n",
       "      <td>1.0</td>\n",
       "      <td>1.0</td>\n",
       "      <td>1.0</td>\n",
       "      <td>1.0</td>\n",
       "      <td>1.0</td>\n",
       "      <td>1.0</td>\n",
       "      <td>1.0</td>\n",
       "    </tr>\n",
       "  </tbody>\n",
       "</table>\n",
       "</div>"
      ],
      "text/plain": [
       "                    0    1    2    3    4    5    6    7    8    9\n",
       "gamma n_clusters                                                  \n",
       "0.20  2           1.0  1.0  1.0  1.0  1.0  1.0  1.0  1.0  1.0  1.0\n",
       "      4           1.0  1.0  1.0  1.0  1.0  1.0  1.0  1.0  1.0  1.0\n",
       "      6           1.0  1.0  1.0  1.0  1.0  1.0  1.0  1.0  1.0  1.0\n",
       "      8           1.0  1.0  1.0  1.0  1.0  1.0  1.0  1.0  1.0  1.0\n",
       "      10          1.0  1.0  1.0  1.0  1.0  1.0  1.0  1.0  1.0  1.0"
      ]
     },
     "execution_count": 79,
     "metadata": {},
     "output_type": "execute_result"
    }
   ],
   "source": [
    "parts_ari_df.head()"
   ]
  },
  {
   "cell_type": "markdown",
   "metadata": {
    "papermill": {
     "duration": 0.152131,
     "end_time": "2021-01-13T20:19:54.805977",
     "exception": false,
     "start_time": "2021-01-13T20:19:54.653846",
     "status": "completed"
    },
    "tags": []
   },
   "source": [
    "## Stability plot"
   ]
  },
  {
   "cell_type": "code",
   "execution_count": 80,
   "metadata": {
    "execution": {
     "iopub.execute_input": "2021-01-13T20:19:55.108487Z",
     "iopub.status.busy": "2021-01-13T20:19:55.108113Z",
     "iopub.status.idle": "2021-01-13T20:19:55.121283Z",
     "shell.execute_reply": "2021-01-13T20:19:55.120917Z"
    },
    "papermill": {
     "duration": 0.166066,
     "end_time": "2021-01-13T20:19:55.121372",
     "exception": false,
     "start_time": "2021-01-13T20:19:54.955306",
     "status": "completed"
    },
    "tags": []
   },
   "outputs": [],
   "source": [
    "parts_ari_df_plot = (\n",
    "    parts_ari_df.stack().reset_index().rename(columns={\"level_2\": \"idx\", 0: \"ari\"})\n",
    ")"
   ]
  },
  {
   "cell_type": "code",
   "execution_count": 81,
   "metadata": {
    "execution": {
     "iopub.execute_input": "2021-01-13T20:19:55.429062Z",
     "iopub.status.busy": "2021-01-13T20:19:55.428655Z",
     "iopub.status.idle": "2021-01-13T20:19:55.441699Z",
     "shell.execute_reply": "2021-01-13T20:19:55.442014Z"
    },
    "papermill": {
     "duration": 0.171348,
     "end_time": "2021-01-13T20:19:55.442127",
     "exception": false,
     "start_time": "2021-01-13T20:19:55.270779",
     "status": "completed"
    },
    "tags": []
   },
   "outputs": [
    {
     "data": {
      "text/plain": [
       "gamma          object\n",
       "n_clusters      int64\n",
       "idx             int64\n",
       "ari           float64\n",
       "dtype: object"
      ]
     },
     "execution_count": 81,
     "metadata": {},
     "output_type": "execute_result"
    }
   ],
   "source": [
    "parts_ari_df_plot.dtypes"
   ]
  },
  {
   "cell_type": "code",
   "execution_count": 82,
   "metadata": {
    "execution": {
     "iopub.execute_input": "2021-01-13T20:19:55.757718Z",
     "iopub.status.busy": "2021-01-13T20:19:55.757327Z",
     "iopub.status.idle": "2021-01-13T20:19:55.772042Z",
     "shell.execute_reply": "2021-01-13T20:19:55.771729Z"
    },
    "papermill": {
     "duration": 0.170424,
     "end_time": "2021-01-13T20:19:55.772128",
     "exception": false,
     "start_time": "2021-01-13T20:19:55.601704",
     "status": "completed"
    },
    "tags": []
   },
   "outputs": [
    {
     "data": {
      "text/html": [
       "<div>\n",
       "<style scoped>\n",
       "    .dataframe tbody tr th:only-of-type {\n",
       "        vertical-align: middle;\n",
       "    }\n",
       "\n",
       "    .dataframe tbody tr th {\n",
       "        vertical-align: top;\n",
       "    }\n",
       "\n",
       "    .dataframe thead th {\n",
       "        text-align: right;\n",
       "    }\n",
       "</style>\n",
       "<table border=\"1\" class=\"dataframe\">\n",
       "  <thead>\n",
       "    <tr style=\"text-align: right;\">\n",
       "      <th></th>\n",
       "      <th>gamma</th>\n",
       "      <th>n_clusters</th>\n",
       "      <th>idx</th>\n",
       "      <th>ari</th>\n",
       "    </tr>\n",
       "  </thead>\n",
       "  <tbody>\n",
       "    <tr>\n",
       "      <th>0</th>\n",
       "      <td>0.20</td>\n",
       "      <td>2</td>\n",
       "      <td>0</td>\n",
       "      <td>1.0</td>\n",
       "    </tr>\n",
       "    <tr>\n",
       "      <th>1</th>\n",
       "      <td>0.20</td>\n",
       "      <td>2</td>\n",
       "      <td>1</td>\n",
       "      <td>1.0</td>\n",
       "    </tr>\n",
       "    <tr>\n",
       "      <th>2</th>\n",
       "      <td>0.20</td>\n",
       "      <td>2</td>\n",
       "      <td>2</td>\n",
       "      <td>1.0</td>\n",
       "    </tr>\n",
       "    <tr>\n",
       "      <th>3</th>\n",
       "      <td>0.20</td>\n",
       "      <td>2</td>\n",
       "      <td>3</td>\n",
       "      <td>1.0</td>\n",
       "    </tr>\n",
       "    <tr>\n",
       "      <th>4</th>\n",
       "      <td>0.20</td>\n",
       "      <td>2</td>\n",
       "      <td>4</td>\n",
       "      <td>1.0</td>\n",
       "    </tr>\n",
       "  </tbody>\n",
       "</table>\n",
       "</div>"
      ],
      "text/plain": [
       "  gamma  n_clusters  idx  ari\n",
       "0  0.20           2    0  1.0\n",
       "1  0.20           2    1  1.0\n",
       "2  0.20           2    2  1.0\n",
       "3  0.20           2    3  1.0\n",
       "4  0.20           2    4  1.0"
      ]
     },
     "execution_count": 82,
     "metadata": {},
     "output_type": "execute_result"
    }
   ],
   "source": [
    "parts_ari_df_plot.head()"
   ]
  },
  {
   "cell_type": "code",
   "execution_count": 83,
   "metadata": {
    "execution": {
     "iopub.execute_input": "2021-01-13T20:19:56.084318Z",
     "iopub.status.busy": "2021-01-13T20:19:56.083957Z",
     "iopub.status.idle": "2021-01-13T20:19:56.108881Z",
     "shell.execute_reply": "2021-01-13T20:19:56.108470Z"
    },
    "papermill": {
     "duration": 0.182013,
     "end_time": "2021-01-13T20:19:56.108969",
     "exception": false,
     "start_time": "2021-01-13T20:19:55.926956",
     "status": "completed"
    },
    "tags": []
   },
   "outputs": [
    {
     "data": {
      "text/html": [
       "<div>\n",
       "<style scoped>\n",
       "    .dataframe tbody tr th:only-of-type {\n",
       "        vertical-align: middle;\n",
       "    }\n",
       "\n",
       "    .dataframe tbody tr th {\n",
       "        vertical-align: top;\n",
       "    }\n",
       "\n",
       "    .dataframe thead th {\n",
       "        text-align: right;\n",
       "    }\n",
       "</style>\n",
       "<table border=\"1\" class=\"dataframe\">\n",
       "  <thead>\n",
       "    <tr style=\"text-align: right;\">\n",
       "      <th></th>\n",
       "      <th></th>\n",
       "      <th>idx</th>\n",
       "      <th>ari</th>\n",
       "    </tr>\n",
       "    <tr>\n",
       "      <th>n_clusters</th>\n",
       "      <th>gamma</th>\n",
       "      <th></th>\n",
       "      <th></th>\n",
       "    </tr>\n",
       "  </thead>\n",
       "  <tbody>\n",
       "    <tr>\n",
       "      <th rowspan=\"9\" valign=\"top\">2</th>\n",
       "      <th>0.20</th>\n",
       "      <td>4.5</td>\n",
       "      <td>1.000000</td>\n",
       "    </tr>\n",
       "    <tr>\n",
       "      <th>0.25</th>\n",
       "      <td>4.5</td>\n",
       "      <td>1.000000</td>\n",
       "    </tr>\n",
       "    <tr>\n",
       "      <th>0.30</th>\n",
       "      <td>4.5</td>\n",
       "      <td>1.000000</td>\n",
       "    </tr>\n",
       "    <tr>\n",
       "      <th>0.50</th>\n",
       "      <td>4.5</td>\n",
       "      <td>1.000000</td>\n",
       "    </tr>\n",
       "    <tr>\n",
       "      <th>0.75</th>\n",
       "      <td>4.5</td>\n",
       "      <td>1.000000</td>\n",
       "    </tr>\n",
       "    <tr>\n",
       "      <th>0.90</th>\n",
       "      <td>4.5</td>\n",
       "      <td>1.000000</td>\n",
       "    </tr>\n",
       "    <tr>\n",
       "      <th>1.00</th>\n",
       "      <td>4.5</td>\n",
       "      <td>1.000000</td>\n",
       "    </tr>\n",
       "    <tr>\n",
       "      <th>2.00</th>\n",
       "      <td>4.5</td>\n",
       "      <td>1.000000</td>\n",
       "    </tr>\n",
       "    <tr>\n",
       "      <th>5.00</th>\n",
       "      <td>4.5</td>\n",
       "      <td>1.000000</td>\n",
       "    </tr>\n",
       "    <tr>\n",
       "      <th rowspan=\"9\" valign=\"top\">4</th>\n",
       "      <th>0.20</th>\n",
       "      <td>4.5</td>\n",
       "      <td>1.000000</td>\n",
       "    </tr>\n",
       "    <tr>\n",
       "      <th>0.25</th>\n",
       "      <td>4.5</td>\n",
       "      <td>1.000000</td>\n",
       "    </tr>\n",
       "    <tr>\n",
       "      <th>0.30</th>\n",
       "      <td>4.5</td>\n",
       "      <td>1.000000</td>\n",
       "    </tr>\n",
       "    <tr>\n",
       "      <th>0.50</th>\n",
       "      <td>4.5</td>\n",
       "      <td>1.000000</td>\n",
       "    </tr>\n",
       "    <tr>\n",
       "      <th>0.75</th>\n",
       "      <td>4.5</td>\n",
       "      <td>1.000000</td>\n",
       "    </tr>\n",
       "    <tr>\n",
       "      <th>0.90</th>\n",
       "      <td>4.5</td>\n",
       "      <td>1.000000</td>\n",
       "    </tr>\n",
       "    <tr>\n",
       "      <th>1.00</th>\n",
       "      <td>4.5</td>\n",
       "      <td>1.000000</td>\n",
       "    </tr>\n",
       "    <tr>\n",
       "      <th>2.00</th>\n",
       "      <td>4.5</td>\n",
       "      <td>0.993919</td>\n",
       "    </tr>\n",
       "    <tr>\n",
       "      <th>5.00</th>\n",
       "      <td>4.5</td>\n",
       "      <td>1.000000</td>\n",
       "    </tr>\n",
       "    <tr>\n",
       "      <th rowspan=\"9\" valign=\"top\">6</th>\n",
       "      <th>0.20</th>\n",
       "      <td>4.5</td>\n",
       "      <td>1.000000</td>\n",
       "    </tr>\n",
       "    <tr>\n",
       "      <th>0.25</th>\n",
       "      <td>4.5</td>\n",
       "      <td>1.000000</td>\n",
       "    </tr>\n",
       "    <tr>\n",
       "      <th>0.30</th>\n",
       "      <td>4.5</td>\n",
       "      <td>1.000000</td>\n",
       "    </tr>\n",
       "    <tr>\n",
       "      <th>0.50</th>\n",
       "      <td>4.5</td>\n",
       "      <td>0.996792</td>\n",
       "    </tr>\n",
       "    <tr>\n",
       "      <th>0.75</th>\n",
       "      <td>4.5</td>\n",
       "      <td>1.000000</td>\n",
       "    </tr>\n",
       "    <tr>\n",
       "      <th>0.90</th>\n",
       "      <td>4.5</td>\n",
       "      <td>0.999411</td>\n",
       "    </tr>\n",
       "    <tr>\n",
       "      <th>1.00</th>\n",
       "      <td>4.5</td>\n",
       "      <td>0.995154</td>\n",
       "    </tr>\n",
       "    <tr>\n",
       "      <th>2.00</th>\n",
       "      <td>4.5</td>\n",
       "      <td>0.984092</td>\n",
       "    </tr>\n",
       "    <tr>\n",
       "      <th>5.00</th>\n",
       "      <td>4.5</td>\n",
       "      <td>0.991213</td>\n",
       "    </tr>\n",
       "    <tr>\n",
       "      <th rowspan=\"9\" valign=\"top\">8</th>\n",
       "      <th>0.20</th>\n",
       "      <td>4.5</td>\n",
       "      <td>1.000000</td>\n",
       "    </tr>\n",
       "    <tr>\n",
       "      <th>0.25</th>\n",
       "      <td>4.5</td>\n",
       "      <td>0.999976</td>\n",
       "    </tr>\n",
       "    <tr>\n",
       "      <th>0.30</th>\n",
       "      <td>4.5</td>\n",
       "      <td>1.000000</td>\n",
       "    </tr>\n",
       "    <tr>\n",
       "      <th>0.50</th>\n",
       "      <td>4.5</td>\n",
       "      <td>0.984497</td>\n",
       "    </tr>\n",
       "    <tr>\n",
       "      <th>0.75</th>\n",
       "      <td>4.5</td>\n",
       "      <td>0.982437</td>\n",
       "    </tr>\n",
       "    <tr>\n",
       "      <th>0.90</th>\n",
       "      <td>4.5</td>\n",
       "      <td>0.980833</td>\n",
       "    </tr>\n",
       "    <tr>\n",
       "      <th>1.00</th>\n",
       "      <td>4.5</td>\n",
       "      <td>0.966565</td>\n",
       "    </tr>\n",
       "    <tr>\n",
       "      <th>2.00</th>\n",
       "      <td>4.5</td>\n",
       "      <td>0.993389</td>\n",
       "    </tr>\n",
       "    <tr>\n",
       "      <th>5.00</th>\n",
       "      <td>4.5</td>\n",
       "      <td>0.986965</td>\n",
       "    </tr>\n",
       "    <tr>\n",
       "      <th rowspan=\"9\" valign=\"top\">10</th>\n",
       "      <th>0.20</th>\n",
       "      <td>4.5</td>\n",
       "      <td>1.000000</td>\n",
       "    </tr>\n",
       "    <tr>\n",
       "      <th>0.25</th>\n",
       "      <td>4.5</td>\n",
       "      <td>0.899873</td>\n",
       "    </tr>\n",
       "    <tr>\n",
       "      <th>0.30</th>\n",
       "      <td>4.5</td>\n",
       "      <td>0.998005</td>\n",
       "    </tr>\n",
       "    <tr>\n",
       "      <th>0.50</th>\n",
       "      <td>4.5</td>\n",
       "      <td>0.986723</td>\n",
       "    </tr>\n",
       "    <tr>\n",
       "      <th>0.75</th>\n",
       "      <td>4.5</td>\n",
       "      <td>0.976297</td>\n",
       "    </tr>\n",
       "    <tr>\n",
       "      <th>0.90</th>\n",
       "      <td>4.5</td>\n",
       "      <td>0.979890</td>\n",
       "    </tr>\n",
       "    <tr>\n",
       "      <th>1.00</th>\n",
       "      <td>4.5</td>\n",
       "      <td>0.987266</td>\n",
       "    </tr>\n",
       "    <tr>\n",
       "      <th>2.00</th>\n",
       "      <td>4.5</td>\n",
       "      <td>0.976459</td>\n",
       "    </tr>\n",
       "    <tr>\n",
       "      <th>5.00</th>\n",
       "      <td>4.5</td>\n",
       "      <td>0.977611</td>\n",
       "    </tr>\n",
       "    <tr>\n",
       "      <th rowspan=\"9\" valign=\"top\">12</th>\n",
       "      <th>0.20</th>\n",
       "      <td>4.5</td>\n",
       "      <td>0.985296</td>\n",
       "    </tr>\n",
       "    <tr>\n",
       "      <th>0.25</th>\n",
       "      <td>4.5</td>\n",
       "      <td>0.998916</td>\n",
       "    </tr>\n",
       "    <tr>\n",
       "      <th>0.30</th>\n",
       "      <td>4.5</td>\n",
       "      <td>0.807272</td>\n",
       "    </tr>\n",
       "    <tr>\n",
       "      <th>0.50</th>\n",
       "      <td>4.5</td>\n",
       "      <td>0.995121</td>\n",
       "    </tr>\n",
       "    <tr>\n",
       "      <th>0.75</th>\n",
       "      <td>4.5</td>\n",
       "      <td>0.992760</td>\n",
       "    </tr>\n",
       "    <tr>\n",
       "      <th>0.90</th>\n",
       "      <td>4.5</td>\n",
       "      <td>0.992068</td>\n",
       "    </tr>\n",
       "    <tr>\n",
       "      <th>1.00</th>\n",
       "      <td>4.5</td>\n",
       "      <td>0.993909</td>\n",
       "    </tr>\n",
       "    <tr>\n",
       "      <th>2.00</th>\n",
       "      <td>4.5</td>\n",
       "      <td>0.969995</td>\n",
       "    </tr>\n",
       "    <tr>\n",
       "      <th>5.00</th>\n",
       "      <td>4.5</td>\n",
       "      <td>0.986701</td>\n",
       "    </tr>\n",
       "    <tr>\n",
       "      <th rowspan=\"9\" valign=\"top\">14</th>\n",
       "      <th>0.20</th>\n",
       "      <td>4.5</td>\n",
       "      <td>0.996079</td>\n",
       "    </tr>\n",
       "    <tr>\n",
       "      <th>0.25</th>\n",
       "      <td>4.5</td>\n",
       "      <td>0.998980</td>\n",
       "    </tr>\n",
       "    <tr>\n",
       "      <th>0.30</th>\n",
       "      <td>4.5</td>\n",
       "      <td>0.675522</td>\n",
       "    </tr>\n",
       "    <tr>\n",
       "      <th>0.50</th>\n",
       "      <td>4.5</td>\n",
       "      <td>0.870772</td>\n",
       "    </tr>\n",
       "    <tr>\n",
       "      <th>0.75</th>\n",
       "      <td>4.5</td>\n",
       "      <td>0.988704</td>\n",
       "    </tr>\n",
       "    <tr>\n",
       "      <th>0.90</th>\n",
       "      <td>4.5</td>\n",
       "      <td>0.989760</td>\n",
       "    </tr>\n",
       "    <tr>\n",
       "      <th>1.00</th>\n",
       "      <td>4.5</td>\n",
       "      <td>0.972102</td>\n",
       "    </tr>\n",
       "    <tr>\n",
       "      <th>2.00</th>\n",
       "      <td>4.5</td>\n",
       "      <td>0.884660</td>\n",
       "    </tr>\n",
       "    <tr>\n",
       "      <th>5.00</th>\n",
       "      <td>4.5</td>\n",
       "      <td>0.820064</td>\n",
       "    </tr>\n",
       "    <tr>\n",
       "      <th rowspan=\"9\" valign=\"top\">16</th>\n",
       "      <th>0.20</th>\n",
       "      <td>4.5</td>\n",
       "      <td>0.990620</td>\n",
       "    </tr>\n",
       "    <tr>\n",
       "      <th>0.25</th>\n",
       "      <td>4.5</td>\n",
       "      <td>0.995089</td>\n",
       "    </tr>\n",
       "    <tr>\n",
       "      <th>0.30</th>\n",
       "      <td>4.5</td>\n",
       "      <td>0.747181</td>\n",
       "    </tr>\n",
       "    <tr>\n",
       "      <th>0.50</th>\n",
       "      <td>4.5</td>\n",
       "      <td>0.986218</td>\n",
       "    </tr>\n",
       "    <tr>\n",
       "      <th>0.75</th>\n",
       "      <td>4.5</td>\n",
       "      <td>0.847363</td>\n",
       "    </tr>\n",
       "    <tr>\n",
       "      <th>0.90</th>\n",
       "      <td>4.5</td>\n",
       "      <td>0.863503</td>\n",
       "    </tr>\n",
       "    <tr>\n",
       "      <th>1.00</th>\n",
       "      <td>4.5</td>\n",
       "      <td>0.830640</td>\n",
       "    </tr>\n",
       "    <tr>\n",
       "      <th>2.00</th>\n",
       "      <td>4.5</td>\n",
       "      <td>0.866661</td>\n",
       "    </tr>\n",
       "    <tr>\n",
       "      <th>5.00</th>\n",
       "      <td>4.5</td>\n",
       "      <td>0.861173</td>\n",
       "    </tr>\n",
       "    <tr>\n",
       "      <th rowspan=\"9\" valign=\"top\">18</th>\n",
       "      <th>0.20</th>\n",
       "      <td>4.5</td>\n",
       "      <td>0.967120</td>\n",
       "    </tr>\n",
       "    <tr>\n",
       "      <th>0.25</th>\n",
       "      <td>4.5</td>\n",
       "      <td>0.996188</td>\n",
       "    </tr>\n",
       "    <tr>\n",
       "      <th>0.30</th>\n",
       "      <td>4.5</td>\n",
       "      <td>0.502074</td>\n",
       "    </tr>\n",
       "    <tr>\n",
       "      <th>0.50</th>\n",
       "      <td>4.5</td>\n",
       "      <td>0.847194</td>\n",
       "    </tr>\n",
       "    <tr>\n",
       "      <th>0.75</th>\n",
       "      <td>4.5</td>\n",
       "      <td>0.797804</td>\n",
       "    </tr>\n",
       "    <tr>\n",
       "      <th>0.90</th>\n",
       "      <td>4.5</td>\n",
       "      <td>0.861331</td>\n",
       "    </tr>\n",
       "    <tr>\n",
       "      <th>1.00</th>\n",
       "      <td>4.5</td>\n",
       "      <td>0.861117</td>\n",
       "    </tr>\n",
       "    <tr>\n",
       "      <th>2.00</th>\n",
       "      <td>4.5</td>\n",
       "      <td>0.955990</td>\n",
       "    </tr>\n",
       "    <tr>\n",
       "      <th>5.00</th>\n",
       "      <td>4.5</td>\n",
       "      <td>0.922931</td>\n",
       "    </tr>\n",
       "    <tr>\n",
       "      <th rowspan=\"9\" valign=\"top\">20</th>\n",
       "      <th>0.20</th>\n",
       "      <td>4.5</td>\n",
       "      <td>0.855124</td>\n",
       "    </tr>\n",
       "    <tr>\n",
       "      <th>0.25</th>\n",
       "      <td>4.5</td>\n",
       "      <td>0.974847</td>\n",
       "    </tr>\n",
       "    <tr>\n",
       "      <th>0.30</th>\n",
       "      <td>4.5</td>\n",
       "      <td>0.567486</td>\n",
       "    </tr>\n",
       "    <tr>\n",
       "      <th>0.50</th>\n",
       "      <td>4.5</td>\n",
       "      <td>0.947888</td>\n",
       "    </tr>\n",
       "    <tr>\n",
       "      <th>0.75</th>\n",
       "      <td>4.5</td>\n",
       "      <td>0.888675</td>\n",
       "    </tr>\n",
       "    <tr>\n",
       "      <th>0.90</th>\n",
       "      <td>4.5</td>\n",
       "      <td>0.811565</td>\n",
       "    </tr>\n",
       "    <tr>\n",
       "      <th>1.00</th>\n",
       "      <td>4.5</td>\n",
       "      <td>0.870871</td>\n",
       "    </tr>\n",
       "    <tr>\n",
       "      <th>2.00</th>\n",
       "      <td>4.5</td>\n",
       "      <td>0.821736</td>\n",
       "    </tr>\n",
       "    <tr>\n",
       "      <th>5.00</th>\n",
       "      <td>4.5</td>\n",
       "      <td>0.798859</td>\n",
       "    </tr>\n",
       "    <tr>\n",
       "      <th rowspan=\"9\" valign=\"top\">25</th>\n",
       "      <th>0.20</th>\n",
       "      <td>4.5</td>\n",
       "      <td>0.980165</td>\n",
       "    </tr>\n",
       "    <tr>\n",
       "      <th>0.25</th>\n",
       "      <td>4.5</td>\n",
       "      <td>0.924024</td>\n",
       "    </tr>\n",
       "    <tr>\n",
       "      <th>0.30</th>\n",
       "      <td>4.5</td>\n",
       "      <td>0.499094</td>\n",
       "    </tr>\n",
       "    <tr>\n",
       "      <th>0.50</th>\n",
       "      <td>4.5</td>\n",
       "      <td>0.815098</td>\n",
       "    </tr>\n",
       "    <tr>\n",
       "      <th>0.75</th>\n",
       "      <td>4.5</td>\n",
       "      <td>0.834067</td>\n",
       "    </tr>\n",
       "    <tr>\n",
       "      <th>0.90</th>\n",
       "      <td>4.5</td>\n",
       "      <td>0.775615</td>\n",
       "    </tr>\n",
       "    <tr>\n",
       "      <th>1.00</th>\n",
       "      <td>4.5</td>\n",
       "      <td>0.783037</td>\n",
       "    </tr>\n",
       "    <tr>\n",
       "      <th>2.00</th>\n",
       "      <td>4.5</td>\n",
       "      <td>0.787075</td>\n",
       "    </tr>\n",
       "    <tr>\n",
       "      <th>5.00</th>\n",
       "      <td>4.5</td>\n",
       "      <td>0.794628</td>\n",
       "    </tr>\n",
       "    <tr>\n",
       "      <th rowspan=\"9\" valign=\"top\">30</th>\n",
       "      <th>0.20</th>\n",
       "      <td>4.5</td>\n",
       "      <td>0.859143</td>\n",
       "    </tr>\n",
       "    <tr>\n",
       "      <th>0.25</th>\n",
       "      <td>4.5</td>\n",
       "      <td>0.304671</td>\n",
       "    </tr>\n",
       "    <tr>\n",
       "      <th>0.30</th>\n",
       "      <td>4.5</td>\n",
       "      <td>0.512587</td>\n",
       "    </tr>\n",
       "    <tr>\n",
       "      <th>0.50</th>\n",
       "      <td>4.5</td>\n",
       "      <td>0.811116</td>\n",
       "    </tr>\n",
       "    <tr>\n",
       "      <th>0.75</th>\n",
       "      <td>4.5</td>\n",
       "      <td>0.810547</td>\n",
       "    </tr>\n",
       "    <tr>\n",
       "      <th>0.90</th>\n",
       "      <td>4.5</td>\n",
       "      <td>0.755169</td>\n",
       "    </tr>\n",
       "    <tr>\n",
       "      <th>1.00</th>\n",
       "      <td>4.5</td>\n",
       "      <td>0.782872</td>\n",
       "    </tr>\n",
       "    <tr>\n",
       "      <th>2.00</th>\n",
       "      <td>4.5</td>\n",
       "      <td>0.748817</td>\n",
       "    </tr>\n",
       "    <tr>\n",
       "      <th>5.00</th>\n",
       "      <td>4.5</td>\n",
       "      <td>0.780548</td>\n",
       "    </tr>\n",
       "    <tr>\n",
       "      <th rowspan=\"9\" valign=\"top\">35</th>\n",
       "      <th>0.20</th>\n",
       "      <td>4.5</td>\n",
       "      <td>0.927005</td>\n",
       "    </tr>\n",
       "    <tr>\n",
       "      <th>0.25</th>\n",
       "      <td>4.5</td>\n",
       "      <td>0.360036</td>\n",
       "    </tr>\n",
       "    <tr>\n",
       "      <th>0.30</th>\n",
       "      <td>4.5</td>\n",
       "      <td>0.594149</td>\n",
       "    </tr>\n",
       "    <tr>\n",
       "      <th>0.50</th>\n",
       "      <td>4.5</td>\n",
       "      <td>0.823520</td>\n",
       "    </tr>\n",
       "    <tr>\n",
       "      <th>0.75</th>\n",
       "      <td>4.5</td>\n",
       "      <td>0.820176</td>\n",
       "    </tr>\n",
       "    <tr>\n",
       "      <th>0.90</th>\n",
       "      <td>4.5</td>\n",
       "      <td>0.829968</td>\n",
       "    </tr>\n",
       "    <tr>\n",
       "      <th>1.00</th>\n",
       "      <td>4.5</td>\n",
       "      <td>0.767713</td>\n",
       "    </tr>\n",
       "    <tr>\n",
       "      <th>2.00</th>\n",
       "      <td>4.5</td>\n",
       "      <td>0.799027</td>\n",
       "    </tr>\n",
       "    <tr>\n",
       "      <th>5.00</th>\n",
       "      <td>4.5</td>\n",
       "      <td>0.819577</td>\n",
       "    </tr>\n",
       "    <tr>\n",
       "      <th rowspan=\"9\" valign=\"top\">40</th>\n",
       "      <th>0.20</th>\n",
       "      <td>4.5</td>\n",
       "      <td>0.774045</td>\n",
       "    </tr>\n",
       "    <tr>\n",
       "      <th>0.25</th>\n",
       "      <td>4.5</td>\n",
       "      <td>0.347876</td>\n",
       "    </tr>\n",
       "    <tr>\n",
       "      <th>0.30</th>\n",
       "      <td>4.5</td>\n",
       "      <td>0.756114</td>\n",
       "    </tr>\n",
       "    <tr>\n",
       "      <th>0.50</th>\n",
       "      <td>4.5</td>\n",
       "      <td>0.792539</td>\n",
       "    </tr>\n",
       "    <tr>\n",
       "      <th>0.75</th>\n",
       "      <td>4.5</td>\n",
       "      <td>0.793490</td>\n",
       "    </tr>\n",
       "    <tr>\n",
       "      <th>0.90</th>\n",
       "      <td>4.5</td>\n",
       "      <td>0.774088</td>\n",
       "    </tr>\n",
       "    <tr>\n",
       "      <th>1.00</th>\n",
       "      <td>4.5</td>\n",
       "      <td>0.770442</td>\n",
       "    </tr>\n",
       "    <tr>\n",
       "      <th>2.00</th>\n",
       "      <td>4.5</td>\n",
       "      <td>0.809773</td>\n",
       "    </tr>\n",
       "    <tr>\n",
       "      <th>5.00</th>\n",
       "      <td>4.5</td>\n",
       "      <td>0.768732</td>\n",
       "    </tr>\n",
       "  </tbody>\n",
       "</table>\n",
       "</div>"
      ],
      "text/plain": [
       "                  idx       ari\n",
       "n_clusters gamma               \n",
       "2          0.20   4.5  1.000000\n",
       "           0.25   4.5  1.000000\n",
       "           0.30   4.5  1.000000\n",
       "           0.50   4.5  1.000000\n",
       "           0.75   4.5  1.000000\n",
       "           0.90   4.5  1.000000\n",
       "           1.00   4.5  1.000000\n",
       "           2.00   4.5  1.000000\n",
       "           5.00   4.5  1.000000\n",
       "4          0.20   4.5  1.000000\n",
       "           0.25   4.5  1.000000\n",
       "           0.30   4.5  1.000000\n",
       "           0.50   4.5  1.000000\n",
       "           0.75   4.5  1.000000\n",
       "           0.90   4.5  1.000000\n",
       "           1.00   4.5  1.000000\n",
       "           2.00   4.5  0.993919\n",
       "           5.00   4.5  1.000000\n",
       "6          0.20   4.5  1.000000\n",
       "           0.25   4.5  1.000000\n",
       "           0.30   4.5  1.000000\n",
       "           0.50   4.5  0.996792\n",
       "           0.75   4.5  1.000000\n",
       "           0.90   4.5  0.999411\n",
       "           1.00   4.5  0.995154\n",
       "           2.00   4.5  0.984092\n",
       "           5.00   4.5  0.991213\n",
       "8          0.20   4.5  1.000000\n",
       "           0.25   4.5  0.999976\n",
       "           0.30   4.5  1.000000\n",
       "           0.50   4.5  0.984497\n",
       "           0.75   4.5  0.982437\n",
       "           0.90   4.5  0.980833\n",
       "           1.00   4.5  0.966565\n",
       "           2.00   4.5  0.993389\n",
       "           5.00   4.5  0.986965\n",
       "10         0.20   4.5  1.000000\n",
       "           0.25   4.5  0.899873\n",
       "           0.30   4.5  0.998005\n",
       "           0.50   4.5  0.986723\n",
       "           0.75   4.5  0.976297\n",
       "           0.90   4.5  0.979890\n",
       "           1.00   4.5  0.987266\n",
       "           2.00   4.5  0.976459\n",
       "           5.00   4.5  0.977611\n",
       "12         0.20   4.5  0.985296\n",
       "           0.25   4.5  0.998916\n",
       "           0.30   4.5  0.807272\n",
       "           0.50   4.5  0.995121\n",
       "           0.75   4.5  0.992760\n",
       "           0.90   4.5  0.992068\n",
       "           1.00   4.5  0.993909\n",
       "           2.00   4.5  0.969995\n",
       "           5.00   4.5  0.986701\n",
       "14         0.20   4.5  0.996079\n",
       "           0.25   4.5  0.998980\n",
       "           0.30   4.5  0.675522\n",
       "           0.50   4.5  0.870772\n",
       "           0.75   4.5  0.988704\n",
       "           0.90   4.5  0.989760\n",
       "           1.00   4.5  0.972102\n",
       "           2.00   4.5  0.884660\n",
       "           5.00   4.5  0.820064\n",
       "16         0.20   4.5  0.990620\n",
       "           0.25   4.5  0.995089\n",
       "           0.30   4.5  0.747181\n",
       "           0.50   4.5  0.986218\n",
       "           0.75   4.5  0.847363\n",
       "           0.90   4.5  0.863503\n",
       "           1.00   4.5  0.830640\n",
       "           2.00   4.5  0.866661\n",
       "           5.00   4.5  0.861173\n",
       "18         0.20   4.5  0.967120\n",
       "           0.25   4.5  0.996188\n",
       "           0.30   4.5  0.502074\n",
       "           0.50   4.5  0.847194\n",
       "           0.75   4.5  0.797804\n",
       "           0.90   4.5  0.861331\n",
       "           1.00   4.5  0.861117\n",
       "           2.00   4.5  0.955990\n",
       "           5.00   4.5  0.922931\n",
       "20         0.20   4.5  0.855124\n",
       "           0.25   4.5  0.974847\n",
       "           0.30   4.5  0.567486\n",
       "           0.50   4.5  0.947888\n",
       "           0.75   4.5  0.888675\n",
       "           0.90   4.5  0.811565\n",
       "           1.00   4.5  0.870871\n",
       "           2.00   4.5  0.821736\n",
       "           5.00   4.5  0.798859\n",
       "25         0.20   4.5  0.980165\n",
       "           0.25   4.5  0.924024\n",
       "           0.30   4.5  0.499094\n",
       "           0.50   4.5  0.815098\n",
       "           0.75   4.5  0.834067\n",
       "           0.90   4.5  0.775615\n",
       "           1.00   4.5  0.783037\n",
       "           2.00   4.5  0.787075\n",
       "           5.00   4.5  0.794628\n",
       "30         0.20   4.5  0.859143\n",
       "           0.25   4.5  0.304671\n",
       "           0.30   4.5  0.512587\n",
       "           0.50   4.5  0.811116\n",
       "           0.75   4.5  0.810547\n",
       "           0.90   4.5  0.755169\n",
       "           1.00   4.5  0.782872\n",
       "           2.00   4.5  0.748817\n",
       "           5.00   4.5  0.780548\n",
       "35         0.20   4.5  0.927005\n",
       "           0.25   4.5  0.360036\n",
       "           0.30   4.5  0.594149\n",
       "           0.50   4.5  0.823520\n",
       "           0.75   4.5  0.820176\n",
       "           0.90   4.5  0.829968\n",
       "           1.00   4.5  0.767713\n",
       "           2.00   4.5  0.799027\n",
       "           5.00   4.5  0.819577\n",
       "40         0.20   4.5  0.774045\n",
       "           0.25   4.5  0.347876\n",
       "           0.30   4.5  0.756114\n",
       "           0.50   4.5  0.792539\n",
       "           0.75   4.5  0.793490\n",
       "           0.90   4.5  0.774088\n",
       "           1.00   4.5  0.770442\n",
       "           2.00   4.5  0.809773\n",
       "           5.00   4.5  0.768732"
      ]
     },
     "metadata": {},
     "output_type": "display_data"
    }
   ],
   "source": [
    "with pd.option_context(\"display.max_rows\", None, \"display.max_columns\", None):\n",
    "    _df = parts_ari_df_plot.groupby([\"n_clusters\", \"gamma\"]).mean()\n",
    "    display(_df)"
   ]
  },
  {
   "cell_type": "code",
   "execution_count": 84,
   "metadata": {
    "execution": {
     "iopub.execute_input": "2021-01-13T20:19:56.417680Z",
     "iopub.status.busy": "2021-01-13T20:19:56.417314Z",
     "iopub.status.idle": "2021-01-13T20:19:59.254368Z",
     "shell.execute_reply": "2021-01-13T20:19:59.254665Z"
    },
    "papermill": {
     "duration": 2.992834,
     "end_time": "2021-01-13T20:19:59.254773",
     "exception": false,
     "start_time": "2021-01-13T20:19:56.261939",
     "status": "completed"
    },
    "tags": []
   },
   "outputs": [
    {
     "data": {
      "image/png": "[encoded data removed]",
      "text/plain": [
       "<Figure size 1008x432 with 1 Axes>"
      ]
     },
     "metadata": {},
     "output_type": "display_data"
    }
   ],
   "source": [
    "with sns.plotting_context(\"talk\", font_scale=0.75), sns.axes_style(\n",
    "    \"whitegrid\", {\"grid.linestyle\": \"--\"}\n",
    "):\n",
    "    fig = plt.figure(figsize=(14, 6))\n",
    "    ax = sns.pointplot(data=parts_ari_df_plot, x=\"n_clusters\", y=\"ari\", hue=\"gamma\")\n",
    "    ax.set_ylabel(\"Averange ARI\")\n",
    "    ax.set_xlabel(\"Number of clusters ($k$)\")\n",
    "    ax.set_xticklabels(ax.get_xticklabels(), rotation=45)\n",
    "    plt.grid(True)\n",
    "    plt.tight_layout()"
   ]
  },
  {
   "cell_type": "markdown",
   "metadata": {
    "papermill": {
     "duration": 0.158846,
     "end_time": "2021-01-13T20:19:59.568684",
     "exception": false,
     "start_time": "2021-01-13T20:19:59.409838",
     "status": "completed"
    },
    "tags": []
   },
   "source": [
    "**CONCLUSION:** the best values for the `delta` parameter seem to be `0.20`, `0.25` and `0.30`. I will also consider `0.50`, since seem to yield potentially good results when `n_clusters` is high (see `umap` results)."
   ]
  },
  {
   "cell_type": "code",
   "execution_count": null,
   "metadata": {
    "papermill": {
     "duration": 0.152593,
     "end_time": "2021-01-13T20:19:59.875859",
     "exception": false,
     "start_time": "2021-01-13T20:19:59.723266",
     "status": "completed"
    },
    "tags": []
   },
   "outputs": [],
   "source": []
  }
 ],
 "metadata": {
  "jupytext": {
   "cell_metadata_filter": "all,-execution,-papermill",
   "formats": "ipynb,py//py:percent"
  },
  "kernelspec": {
   "display_name": "Python 3",
   "language": "python",
   "name": "python3"
  },
  "language_info": {
   "codemirror_mode": {
    "name": "ipython",
    "version": 3
   },
   "file_extension": ".py",
   "mimetype": "text/x-python",
   "name": "python",
   "nbconvert_exporter": "python",
   "pygments_lexer": "ipython3",
   "version": "3.8.6"
  },
  "papermill": {
   "default_parameters": {},
   "duration": 1423.648401,
   "end_time": "2021-01-13T20:20:00.434852",
   "environment_variables": {},
   "exception": null,
   "input_path": "16_consensus_clustering/pre_analysis/10_00-spectral_clustering-ensemble-z_score_std.ipynb",
   "output_path": "16_consensus_clustering/pre_analysis/10_00-spectral_clustering-ensemble-z_score_std.run.ipynb",
   "parameters": {},
   "start_time": "2021-01-13T19:56:16.786451",
   "version": "2.2.2"
  },
  "toc-autonumbering": true,
  "toc-showcode": false,
  "toc-showmarkdowntxt": false,
  "toc-showtags": false
 },
 "nbformat": 4,
 "nbformat_minor": 4
}
