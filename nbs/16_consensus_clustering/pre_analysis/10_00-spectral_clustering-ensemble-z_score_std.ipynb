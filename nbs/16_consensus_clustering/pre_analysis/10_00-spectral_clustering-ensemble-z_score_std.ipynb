{
 "cells": [
  {
   "cell_type": "markdown",
   "metadata": {
    "papermill": {
     "duration": 0.028063,
     "end_time": "2021-01-12T06:27:21.129621",
     "exception": false,
     "start_time": "2021-01-12T06:27:21.101558",
     "status": "completed"
    },
    "tags": []
   },
   "source": [
    "# Description"
   ]
  },
  {
   "cell_type": "markdown",
   "metadata": {
    "papermill": {
     "duration": 0.023498,
     "end_time": "2021-01-12T06:27:21.176353",
     "exception": false,
     "start_time": "2021-01-12T06:27:21.152855",
     "status": "completed"
    },
    "tags": []
   },
   "source": [
    "This notebook evaluates how a spectral clustering method performs as a consensus function. It takes the coassociation matrix, applies several `delta` values to transform it, and computes different clustering quality measures to assess performance. An optimal `delta` value is chosen, and will be used to perform the full analysis later.\n",
    "\n",
    "This notebook loads the `z_score_std` data version to compute two of the clustering quality measures (Calinski-Harabasz and Davies-Bouldin). The Silhouette score is computed on the ensemble distance matrix, so it is not affected by the data loaded. There are other two notebooks that perform exactly the same steps here but loading the `pca` and `umap` data versions."
   ]
  },
  {
   "cell_type": "markdown",
   "metadata": {
    "papermill": {
     "duration": 0.02368,
     "end_time": "2021-01-12T06:27:21.223291",
     "exception": false,
     "start_time": "2021-01-12T06:27:21.199611",
     "status": "completed"
    },
    "tags": []
   },
   "source": [
    "# Environment variables"
   ]
  },
  {
   "cell_type": "code",
   "execution_count": 1,
   "metadata": {
    "papermill": {
     "duration": 0.037982,
     "end_time": "2021-01-12T06:27:21.284935",
     "exception": false,
     "start_time": "2021-01-12T06:27:21.246953",
     "status": "completed"
    },
    "tags": []
   },
   "outputs": [
    {
     "data": {
      "text/plain": [
       "2"
      ]
     },
     "metadata": {},
     "output_type": "display_data"
    }
   ],
   "source": [
    "from IPython.display import display\n",
    "\n",
    "import conf\n",
    "\n",
    "N_JOBS = conf.GENERAL[\"N_JOBS\"]\n",
    "display(N_JOBS)"
   ]
  },
  {
   "cell_type": "code",
   "execution_count": 2,
   "metadata": {
    "papermill": {
     "duration": 0.031192,
     "end_time": "2021-01-12T06:27:21.341352",
     "exception": false,
     "start_time": "2021-01-12T06:27:21.310160",
     "status": "completed"
    },
    "tags": []
   },
   "outputs": [
    {
     "name": "stdout",
     "output_type": "stream",
     "text": [
      "env: MKL_NUM_THREADS=2\n",
      "env: OPEN_BLAS_NUM_THREADS=2\n",
      "env: NUMEXPR_NUM_THREADS=2\n",
      "env: OMP_NUM_THREADS=2\n"
     ]
    }
   ],
   "source": [
    "%env MKL_NUM_THREADS=$N_JOBS\n",
    "%env OPEN_BLAS_NUM_THREADS=$N_JOBS\n",
    "%env NUMEXPR_NUM_THREADS=$N_JOBS\n",
    "%env OMP_NUM_THREADS=$N_JOBS"
   ]
  },
  {
   "cell_type": "markdown",
   "metadata": {
    "papermill": {
     "duration": 0.023802,
     "end_time": "2021-01-12T06:27:21.389671",
     "exception": false,
     "start_time": "2021-01-12T06:27:21.365869",
     "status": "completed"
    },
    "tags": []
   },
   "source": [
    "# Modules loading"
   ]
  },
  {
   "cell_type": "code",
   "execution_count": 3,
   "metadata": {
    "papermill": {
     "duration": 0.034863,
     "end_time": "2021-01-12T06:27:21.448515",
     "exception": false,
     "start_time": "2021-01-12T06:27:21.413652",
     "status": "completed"
    },
    "tags": []
   },
   "outputs": [],
   "source": [
    "%load_ext autoreload\n",
    "%autoreload 2"
   ]
  },
  {
   "cell_type": "code",
   "execution_count": 4,
   "metadata": {
    "papermill": {
     "duration": 1.613277,
     "end_time": "2021-01-12T06:27:23.086417",
     "exception": false,
     "start_time": "2021-01-12T06:27:21.473140",
     "status": "completed"
    },
    "tags": []
   },
   "outputs": [],
   "source": [
    "from pathlib import Path\n",
    "import warnings\n",
    "\n",
    "import numpy as np\n",
    "import pandas as pd\n",
    "import umap\n",
    "import matplotlib.pyplot as plt\n",
    "import seaborn as sns\n",
    "\n",
    "from utils import generate_result_set_name"
   ]
  },
  {
   "cell_type": "markdown",
   "metadata": {
    "papermill": {
     "duration": 0.024338,
     "end_time": "2021-01-12T06:27:23.137816",
     "exception": false,
     "start_time": "2021-01-12T06:27:23.113478",
     "status": "completed"
    },
    "tags": []
   },
   "source": [
    "# Settings"
   ]
  },
  {
   "cell_type": "code",
   "execution_count": 5,
   "metadata": {
    "papermill": {
     "duration": 0.038687,
     "end_time": "2021-01-12T06:27:23.201041",
     "exception": false,
     "start_time": "2021-01-12T06:27:23.162354",
     "status": "completed"
    },
    "tags": []
   },
   "outputs": [],
   "source": [
    "INITIAL_RANDOM_STATE = 100000"
   ]
  },
  {
   "cell_type": "code",
   "execution_count": 6,
   "metadata": {},
   "outputs": [
    {
     "data": {
      "text/plain": [
       "PosixPath('/media/miltondp/Elements1/projects/phenoplier/results/clustering/consensus_clustering')"
      ]
     },
     "metadata": {},
     "output_type": "display_data"
    }
   ],
   "source": [
    "# output dir for this notebook\n",
    "CONSENSUS_CLUSTERING_DIR = Path(\n",
    "    conf.RESULTS[\"CLUSTERING_DIR\"], \"consensus_clustering\"\n",
    ").resolve()\n",
    "\n",
    "display(CONSENSUS_CLUSTERING_DIR)"
   ]
  },
  {
   "cell_type": "markdown",
   "metadata": {},
   "source": [
    "# Load data"
   ]
  },
  {
   "cell_type": "code",
   "execution_count": 7,
   "metadata": {
    "papermill": {
     "duration": 0.034535,
     "end_time": "2021-01-12T06:42:48.798363",
     "exception": false,
     "start_time": "2021-01-12T06:42:48.763828",
     "status": "completed"
    },
    "tags": []
   },
   "outputs": [],
   "source": [
    "INPUT_SUBSET = \"z_score_std\""
   ]
  },
  {
   "cell_type": "code",
   "execution_count": 8,
   "metadata": {
    "papermill": {
     "duration": 0.034841,
     "end_time": "2021-01-12T06:42:48.856339",
     "exception": false,
     "start_time": "2021-01-12T06:42:48.821498",
     "status": "completed"
    },
    "tags": []
   },
   "outputs": [],
   "source": [
    "INPUT_STEM = \"projection-smultixcan-efo_partial-mashr-zscores\""
   ]
  },
  {
   "cell_type": "code",
   "execution_count": 9,
   "metadata": {
    "papermill": {
     "duration": 0.037653,
     "end_time": "2021-01-12T06:42:48.917647",
     "exception": false,
     "start_time": "2021-01-12T06:42:48.879994",
     "status": "completed"
    },
    "tags": []
   },
   "outputs": [
    {
     "data": {
      "text/plain": [
       "PosixPath('/media/miltondp/Elements1/projects/phenoplier/results/data_transformations/z_score_std/z_score_std-projection-smultixcan-efo_partial-mashr-zscores.pkl')"
      ]
     },
     "metadata": {},
     "output_type": "display_data"
    },
    {
     "data": {
      "text/plain": [
       "'z_score_std-projection-smultixcan-efo_partial-mashr-zscores'"
      ]
     },
     "metadata": {},
     "output_type": "display_data"
    }
   ],
   "source": [
    "input_filepath = Path(\n",
    "    conf.RESULTS[\"DATA_TRANSFORMATIONS_DIR\"],\n",
    "    INPUT_SUBSET,\n",
    "    f\"{INPUT_SUBSET}-{INPUT_STEM}.pkl\",\n",
    ").resolve()\n",
    "display(input_filepath)\n",
    "\n",
    "assert input_filepath.exists(), \"Input file does not exist\"\n",
    "\n",
    "input_filepath_stem = input_filepath.stem\n",
    "display(input_filepath_stem)"
   ]
  },
  {
   "cell_type": "code",
   "execution_count": 10,
   "metadata": {},
   "outputs": [],
   "source": [
    "data = pd.read_pickle(input_filepath)"
   ]
  },
  {
   "cell_type": "code",
   "execution_count": 11,
   "metadata": {},
   "outputs": [
    {
     "data": {
      "text/plain": [
       "(3749, 987)"
      ]
     },
     "execution_count": 11,
     "metadata": {},
     "output_type": "execute_result"
    }
   ],
   "source": [
    "data.shape"
   ]
  },
  {
   "cell_type": "code",
   "execution_count": 12,
   "metadata": {},
   "outputs": [
    {
     "data": {
      "text/html": [
       "<div>\n",
       "<style scoped>\n",
       "    .dataframe tbody tr th:only-of-type {\n",
       "        vertical-align: middle;\n",
       "    }\n",
       "\n",
       "    .dataframe tbody tr th {\n",
       "        vertical-align: top;\n",
       "    }\n",
       "\n",
       "    .dataframe thead th {\n",
       "        text-align: right;\n",
       "    }\n",
       "</style>\n",
       "<table border=\"1\" class=\"dataframe\">\n",
       "  <thead>\n",
       "    <tr style=\"text-align: right;\">\n",
       "      <th></th>\n",
       "      <th>LV1</th>\n",
       "      <th>LV2</th>\n",
       "      <th>LV3</th>\n",
       "      <th>LV4</th>\n",
       "      <th>LV5</th>\n",
       "      <th>LV6</th>\n",
       "      <th>LV7</th>\n",
       "      <th>LV8</th>\n",
       "      <th>LV9</th>\n",
       "      <th>LV10</th>\n",
       "      <th>...</th>\n",
       "      <th>LV978</th>\n",
       "      <th>LV979</th>\n",
       "      <th>LV980</th>\n",
       "      <th>LV981</th>\n",
       "      <th>LV982</th>\n",
       "      <th>LV983</th>\n",
       "      <th>LV984</th>\n",
       "      <th>LV985</th>\n",
       "      <th>LV986</th>\n",
       "      <th>LV987</th>\n",
       "    </tr>\n",
       "  </thead>\n",
       "  <tbody>\n",
       "    <tr>\n",
       "      <th>100001_raw-Food_weight</th>\n",
       "      <td>-0.553743</td>\n",
       "      <td>1.851060</td>\n",
       "      <td>-0.095721</td>\n",
       "      <td>0.931603</td>\n",
       "      <td>-0.515196</td>\n",
       "      <td>1.371264</td>\n",
       "      <td>-0.413165</td>\n",
       "      <td>0.729668</td>\n",
       "      <td>0.546338</td>\n",
       "      <td>0.901153</td>\n",
       "      <td>...</td>\n",
       "      <td>1.148776</td>\n",
       "      <td>1.649018</td>\n",
       "      <td>-1.375952</td>\n",
       "      <td>2.203063</td>\n",
       "      <td>0.810199</td>\n",
       "      <td>-0.987048</td>\n",
       "      <td>0.277710</td>\n",
       "      <td>-0.607613</td>\n",
       "      <td>0.572376</td>\n",
       "      <td>-0.660846</td>\n",
       "    </tr>\n",
       "    <tr>\n",
       "      <th>100002_raw-Energy</th>\n",
       "      <td>-1.313905</td>\n",
       "      <td>-0.421015</td>\n",
       "      <td>-0.310524</td>\n",
       "      <td>-0.201978</td>\n",
       "      <td>0.233028</td>\n",
       "      <td>0.693838</td>\n",
       "      <td>0.084129</td>\n",
       "      <td>0.572439</td>\n",
       "      <td>0.217866</td>\n",
       "      <td>1.296973</td>\n",
       "      <td>...</td>\n",
       "      <td>0.165430</td>\n",
       "      <td>0.799276</td>\n",
       "      <td>-0.361989</td>\n",
       "      <td>-0.008253</td>\n",
       "      <td>2.063780</td>\n",
       "      <td>-0.930765</td>\n",
       "      <td>-0.147007</td>\n",
       "      <td>1.601938</td>\n",
       "      <td>-0.273553</td>\n",
       "      <td>-0.560822</td>\n",
       "    </tr>\n",
       "    <tr>\n",
       "      <th>100003_raw-Protein</th>\n",
       "      <td>-0.645622</td>\n",
       "      <td>-0.997845</td>\n",
       "      <td>0.249039</td>\n",
       "      <td>0.256499</td>\n",
       "      <td>0.422357</td>\n",
       "      <td>0.829189</td>\n",
       "      <td>-0.169004</td>\n",
       "      <td>0.511550</td>\n",
       "      <td>0.002389</td>\n",
       "      <td>-0.057200</td>\n",
       "      <td>...</td>\n",
       "      <td>1.016791</td>\n",
       "      <td>1.019488</td>\n",
       "      <td>-2.148844</td>\n",
       "      <td>-0.065130</td>\n",
       "      <td>0.041052</td>\n",
       "      <td>-0.836118</td>\n",
       "      <td>-0.320571</td>\n",
       "      <td>1.325519</td>\n",
       "      <td>-0.341494</td>\n",
       "      <td>-0.495786</td>\n",
       "    </tr>\n",
       "    <tr>\n",
       "      <th>100004_raw-Fat</th>\n",
       "      <td>-0.913924</td>\n",
       "      <td>-1.837183</td>\n",
       "      <td>0.012095</td>\n",
       "      <td>-1.301315</td>\n",
       "      <td>0.205794</td>\n",
       "      <td>1.129114</td>\n",
       "      <td>0.019985</td>\n",
       "      <td>0.376660</td>\n",
       "      <td>-0.810272</td>\n",
       "      <td>0.843611</td>\n",
       "      <td>...</td>\n",
       "      <td>0.544266</td>\n",
       "      <td>0.576714</td>\n",
       "      <td>0.281731</td>\n",
       "      <td>-0.218963</td>\n",
       "      <td>1.258957</td>\n",
       "      <td>-1.131924</td>\n",
       "      <td>0.378545</td>\n",
       "      <td>0.842047</td>\n",
       "      <td>-0.622194</td>\n",
       "      <td>-0.160058</td>\n",
       "    </tr>\n",
       "    <tr>\n",
       "      <th>100005_raw-Carbohydrate</th>\n",
       "      <td>-0.523004</td>\n",
       "      <td>0.131379</td>\n",
       "      <td>-0.097802</td>\n",
       "      <td>-0.030526</td>\n",
       "      <td>-0.021500</td>\n",
       "      <td>-0.219116</td>\n",
       "      <td>0.668229</td>\n",
       "      <td>0.365700</td>\n",
       "      <td>1.102347</td>\n",
       "      <td>0.845625</td>\n",
       "      <td>...</td>\n",
       "      <td>-0.344740</td>\n",
       "      <td>0.079274</td>\n",
       "      <td>0.253427</td>\n",
       "      <td>0.236474</td>\n",
       "      <td>1.033895</td>\n",
       "      <td>-0.229105</td>\n",
       "      <td>0.364793</td>\n",
       "      <td>1.776714</td>\n",
       "      <td>0.190531</td>\n",
       "      <td>-1.459641</td>\n",
       "    </tr>\n",
       "  </tbody>\n",
       "</table>\n",
       "<p>5 rows × 987 columns</p>\n",
       "</div>"
      ],
      "text/plain": [
       "                              LV1       LV2       LV3       LV4       LV5  \\\n",
       "100001_raw-Food_weight  -0.553743  1.851060 -0.095721  0.931603 -0.515196   \n",
       "100002_raw-Energy       -1.313905 -0.421015 -0.310524 -0.201978  0.233028   \n",
       "100003_raw-Protein      -0.645622 -0.997845  0.249039  0.256499  0.422357   \n",
       "100004_raw-Fat          -0.913924 -1.837183  0.012095 -1.301315  0.205794   \n",
       "100005_raw-Carbohydrate -0.523004  0.131379 -0.097802 -0.030526 -0.021500   \n",
       "\n",
       "                              LV6       LV7       LV8       LV9      LV10  \\\n",
       "100001_raw-Food_weight   1.371264 -0.413165  0.729668  0.546338  0.901153   \n",
       "100002_raw-Energy        0.693838  0.084129  0.572439  0.217866  1.296973   \n",
       "100003_raw-Protein       0.829189 -0.169004  0.511550  0.002389 -0.057200   \n",
       "100004_raw-Fat           1.129114  0.019985  0.376660 -0.810272  0.843611   \n",
       "100005_raw-Carbohydrate -0.219116  0.668229  0.365700  1.102347  0.845625   \n",
       "\n",
       "                         ...     LV978     LV979     LV980     LV981  \\\n",
       "100001_raw-Food_weight   ...  1.148776  1.649018 -1.375952  2.203063   \n",
       "100002_raw-Energy        ...  0.165430  0.799276 -0.361989 -0.008253   \n",
       "100003_raw-Protein       ...  1.016791  1.019488 -2.148844 -0.065130   \n",
       "100004_raw-Fat           ...  0.544266  0.576714  0.281731 -0.218963   \n",
       "100005_raw-Carbohydrate  ... -0.344740  0.079274  0.253427  0.236474   \n",
       "\n",
       "                            LV982     LV983     LV984     LV985     LV986  \\\n",
       "100001_raw-Food_weight   0.810199 -0.987048  0.277710 -0.607613  0.572376   \n",
       "100002_raw-Energy        2.063780 -0.930765 -0.147007  1.601938 -0.273553   \n",
       "100003_raw-Protein       0.041052 -0.836118 -0.320571  1.325519 -0.341494   \n",
       "100004_raw-Fat           1.258957 -1.131924  0.378545  0.842047 -0.622194   \n",
       "100005_raw-Carbohydrate  1.033895 -0.229105  0.364793  1.776714  0.190531   \n",
       "\n",
       "                            LV987  \n",
       "100001_raw-Food_weight  -0.660846  \n",
       "100002_raw-Energy       -0.560822  \n",
       "100003_raw-Protein      -0.495786  \n",
       "100004_raw-Fat          -0.160058  \n",
       "100005_raw-Carbohydrate -1.459641  \n",
       "\n",
       "[5 rows x 987 columns]"
      ]
     },
     "execution_count": 12,
     "metadata": {},
     "output_type": "execute_result"
    }
   ],
   "source": [
    "data.head()"
   ]
  },
  {
   "cell_type": "code",
   "execution_count": 13,
   "metadata": {},
   "outputs": [],
   "source": [
    "traits = data.index.tolist()"
   ]
  },
  {
   "cell_type": "code",
   "execution_count": 14,
   "metadata": {},
   "outputs": [
    {
     "data": {
      "text/plain": [
       "3749"
      ]
     },
     "execution_count": 14,
     "metadata": {},
     "output_type": "execute_result"
    }
   ],
   "source": [
    "len(traits)"
   ]
  },
  {
   "cell_type": "markdown",
   "metadata": {
    "papermill": {
     "duration": 0.024511,
     "end_time": "2021-01-12T06:27:23.250714",
     "exception": false,
     "start_time": "2021-01-12T06:27:23.226203",
     "status": "completed"
    },
    "tags": []
   },
   "source": [
    "# Ensemble (coassociation matrix)"
   ]
  },
  {
   "cell_type": "code",
   "execution_count": 15,
   "metadata": {},
   "outputs": [
    {
     "data": {
      "text/plain": [
       "PosixPath('/media/miltondp/Elements1/projects/phenoplier/results/clustering/consensus_clustering/ensemble_coassoc_matrix.npy')"
      ]
     },
     "metadata": {},
     "output_type": "display_data"
    }
   ],
   "source": [
    "input_file = Path(CONSENSUS_CLUSTERING_DIR, \"ensemble_coassoc_matrix.npy\").resolve()\n",
    "display(input_file)"
   ]
  },
  {
   "cell_type": "code",
   "execution_count": 16,
   "metadata": {},
   "outputs": [],
   "source": [
    "coassoc_matrix = np.load(input_file)"
   ]
  },
  {
   "cell_type": "code",
   "execution_count": 17,
   "metadata": {},
   "outputs": [],
   "source": [
    "coassoc_matrix = pd.DataFrame(\n",
    "    data=coassoc_matrix,\n",
    "    index=traits,\n",
    "    columns=traits,\n",
    ")"
   ]
  },
  {
   "cell_type": "code",
   "execution_count": 18,
   "metadata": {},
   "outputs": [
    {
     "data": {
      "text/plain": [
       "(3749, 3749)"
      ]
     },
     "execution_count": 18,
     "metadata": {},
     "output_type": "execute_result"
    }
   ],
   "source": [
    "coassoc_matrix.shape"
   ]
  },
  {
   "cell_type": "code",
   "execution_count": 19,
   "metadata": {},
   "outputs": [
    {
     "data": {
      "text/html": [
       "<div>\n",
       "<style scoped>\n",
       "    .dataframe tbody tr th:only-of-type {\n",
       "        vertical-align: middle;\n",
       "    }\n",
       "\n",
       "    .dataframe tbody tr th {\n",
       "        vertical-align: top;\n",
       "    }\n",
       "\n",
       "    .dataframe thead th {\n",
       "        text-align: right;\n",
       "    }\n",
       "</style>\n",
       "<table border=\"1\" class=\"dataframe\">\n",
       "  <thead>\n",
       "    <tr style=\"text-align: right;\">\n",
       "      <th></th>\n",
       "      <th>100001_raw-Food_weight</th>\n",
       "      <th>100002_raw-Energy</th>\n",
       "      <th>100003_raw-Protein</th>\n",
       "      <th>100004_raw-Fat</th>\n",
       "      <th>100005_raw-Carbohydrate</th>\n",
       "      <th>100006_raw-Saturated_fat</th>\n",
       "      <th>100007_raw-Polyunsaturated_fat</th>\n",
       "      <th>100008_raw-Total_sugars</th>\n",
       "      <th>100009_raw-Englyst_dietary_fibre</th>\n",
       "      <th>100010-Portion_size</th>\n",
       "      <th>...</th>\n",
       "      <th>visual impairment</th>\n",
       "      <th>vitiligo</th>\n",
       "      <th>vitreous body disease</th>\n",
       "      <th>vocal cord polyp</th>\n",
       "      <th>voice disorders</th>\n",
       "      <th>wellbeing measurement AND family relationship</th>\n",
       "      <th>wheezing</th>\n",
       "      <th>whooping cough</th>\n",
       "      <th>worry measurement</th>\n",
       "      <th>wrist fracture</th>\n",
       "    </tr>\n",
       "  </thead>\n",
       "  <tbody>\n",
       "    <tr>\n",
       "      <th>100001_raw-Food_weight</th>\n",
       "      <td>0.000000</td>\n",
       "      <td>0.056159</td>\n",
       "      <td>0.053895</td>\n",
       "      <td>0.076313</td>\n",
       "      <td>0.057518</td>\n",
       "      <td>0.075634</td>\n",
       "      <td>0.074728</td>\n",
       "      <td>0.057971</td>\n",
       "      <td>0.055480</td>\n",
       "      <td>0.567482</td>\n",
       "      <td>...</td>\n",
       "      <td>0.604223</td>\n",
       "      <td>0.602355</td>\n",
       "      <td>0.594564</td>\n",
       "      <td>0.603261</td>\n",
       "      <td>0.582428</td>\n",
       "      <td>0.548731</td>\n",
       "      <td>0.690641</td>\n",
       "      <td>0.599864</td>\n",
       "      <td>0.661714</td>\n",
       "      <td>0.667572</td>\n",
       "    </tr>\n",
       "    <tr>\n",
       "      <th>100002_raw-Energy</th>\n",
       "      <td>0.056159</td>\n",
       "      <td>0.000000</td>\n",
       "      <td>0.027400</td>\n",
       "      <td>0.044837</td>\n",
       "      <td>0.021966</td>\n",
       "      <td>0.045743</td>\n",
       "      <td>0.067482</td>\n",
       "      <td>0.031250</td>\n",
       "      <td>0.048007</td>\n",
       "      <td>0.561368</td>\n",
       "      <td>...</td>\n",
       "      <td>0.606040</td>\n",
       "      <td>0.604393</td>\n",
       "      <td>0.594337</td>\n",
       "      <td>0.606431</td>\n",
       "      <td>0.585824</td>\n",
       "      <td>0.571170</td>\n",
       "      <td>0.687644</td>\n",
       "      <td>0.601223</td>\n",
       "      <td>0.659886</td>\n",
       "      <td>0.665308</td>\n",
       "    </tr>\n",
       "    <tr>\n",
       "      <th>100003_raw-Protein</th>\n",
       "      <td>0.053895</td>\n",
       "      <td>0.027400</td>\n",
       "      <td>0.000000</td>\n",
       "      <td>0.046875</td>\n",
       "      <td>0.018116</td>\n",
       "      <td>0.047781</td>\n",
       "      <td>0.064764</td>\n",
       "      <td>0.032382</td>\n",
       "      <td>0.050951</td>\n",
       "      <td>0.558424</td>\n",
       "      <td>...</td>\n",
       "      <td>0.602634</td>\n",
       "      <td>0.601676</td>\n",
       "      <td>0.592525</td>\n",
       "      <td>0.603487</td>\n",
       "      <td>0.581975</td>\n",
       "      <td>0.571850</td>\n",
       "      <td>0.691102</td>\n",
       "      <td>0.597826</td>\n",
       "      <td>0.661029</td>\n",
       "      <td>0.662817</td>\n",
       "    </tr>\n",
       "    <tr>\n",
       "      <th>100004_raw-Fat</th>\n",
       "      <td>0.076313</td>\n",
       "      <td>0.044837</td>\n",
       "      <td>0.046875</td>\n",
       "      <td>0.000000</td>\n",
       "      <td>0.045516</td>\n",
       "      <td>0.004755</td>\n",
       "      <td>0.046196</td>\n",
       "      <td>0.028306</td>\n",
       "      <td>0.057971</td>\n",
       "      <td>0.551857</td>\n",
       "      <td>...</td>\n",
       "      <td>0.590372</td>\n",
       "      <td>0.589674</td>\n",
       "      <td>0.578256</td>\n",
       "      <td>0.595788</td>\n",
       "      <td>0.571332</td>\n",
       "      <td>0.585902</td>\n",
       "      <td>0.692254</td>\n",
       "      <td>0.588315</td>\n",
       "      <td>0.667429</td>\n",
       "      <td>0.666667</td>\n",
       "    </tr>\n",
       "    <tr>\n",
       "      <th>100005_raw-Carbohydrate</th>\n",
       "      <td>0.057518</td>\n",
       "      <td>0.021966</td>\n",
       "      <td>0.018116</td>\n",
       "      <td>0.045516</td>\n",
       "      <td>0.000000</td>\n",
       "      <td>0.046196</td>\n",
       "      <td>0.067935</td>\n",
       "      <td>0.025589</td>\n",
       "      <td>0.050045</td>\n",
       "      <td>0.559783</td>\n",
       "      <td>...</td>\n",
       "      <td>0.605813</td>\n",
       "      <td>0.604393</td>\n",
       "      <td>0.593205</td>\n",
       "      <td>0.604846</td>\n",
       "      <td>0.584692</td>\n",
       "      <td>0.574569</td>\n",
       "      <td>0.687414</td>\n",
       "      <td>0.600543</td>\n",
       "      <td>0.657143</td>\n",
       "      <td>0.662817</td>\n",
       "    </tr>\n",
       "  </tbody>\n",
       "</table>\n",
       "<p>5 rows × 3749 columns</p>\n",
       "</div>"
      ],
      "text/plain": [
       "                         100001_raw-Food_weight  100002_raw-Energy  \\\n",
       "100001_raw-Food_weight                 0.000000           0.056159   \n",
       "100002_raw-Energy                      0.056159           0.000000   \n",
       "100003_raw-Protein                     0.053895           0.027400   \n",
       "100004_raw-Fat                         0.076313           0.044837   \n",
       "100005_raw-Carbohydrate                0.057518           0.021966   \n",
       "\n",
       "                         100003_raw-Protein  100004_raw-Fat  \\\n",
       "100001_raw-Food_weight             0.053895        0.076313   \n",
       "100002_raw-Energy                  0.027400        0.044837   \n",
       "100003_raw-Protein                 0.000000        0.046875   \n",
       "100004_raw-Fat                     0.046875        0.000000   \n",
       "100005_raw-Carbohydrate            0.018116        0.045516   \n",
       "\n",
       "                         100005_raw-Carbohydrate  100006_raw-Saturated_fat  \\\n",
       "100001_raw-Food_weight                  0.057518                  0.075634   \n",
       "100002_raw-Energy                       0.021966                  0.045743   \n",
       "100003_raw-Protein                      0.018116                  0.047781   \n",
       "100004_raw-Fat                          0.045516                  0.004755   \n",
       "100005_raw-Carbohydrate                 0.000000                  0.046196   \n",
       "\n",
       "                         100007_raw-Polyunsaturated_fat  \\\n",
       "100001_raw-Food_weight                         0.074728   \n",
       "100002_raw-Energy                              0.067482   \n",
       "100003_raw-Protein                             0.064764   \n",
       "100004_raw-Fat                                 0.046196   \n",
       "100005_raw-Carbohydrate                        0.067935   \n",
       "\n",
       "                         100008_raw-Total_sugars  \\\n",
       "100001_raw-Food_weight                  0.057971   \n",
       "100002_raw-Energy                       0.031250   \n",
       "100003_raw-Protein                      0.032382   \n",
       "100004_raw-Fat                          0.028306   \n",
       "100005_raw-Carbohydrate                 0.025589   \n",
       "\n",
       "                         100009_raw-Englyst_dietary_fibre  \\\n",
       "100001_raw-Food_weight                           0.055480   \n",
       "100002_raw-Energy                                0.048007   \n",
       "100003_raw-Protein                               0.050951   \n",
       "100004_raw-Fat                                   0.057971   \n",
       "100005_raw-Carbohydrate                          0.050045   \n",
       "\n",
       "                         100010-Portion_size  ...  visual impairment  \\\n",
       "100001_raw-Food_weight              0.567482  ...           0.604223   \n",
       "100002_raw-Energy                   0.561368  ...           0.606040   \n",
       "100003_raw-Protein                  0.558424  ...           0.602634   \n",
       "100004_raw-Fat                      0.551857  ...           0.590372   \n",
       "100005_raw-Carbohydrate             0.559783  ...           0.605813   \n",
       "\n",
       "                         vitiligo  vitreous body disease  vocal cord polyp  \\\n",
       "100001_raw-Food_weight   0.602355               0.594564          0.603261   \n",
       "100002_raw-Energy        0.604393               0.594337          0.606431   \n",
       "100003_raw-Protein       0.601676               0.592525          0.603487   \n",
       "100004_raw-Fat           0.589674               0.578256          0.595788   \n",
       "100005_raw-Carbohydrate  0.604393               0.593205          0.604846   \n",
       "\n",
       "                         voice disorders  \\\n",
       "100001_raw-Food_weight          0.582428   \n",
       "100002_raw-Energy               0.585824   \n",
       "100003_raw-Protein              0.581975   \n",
       "100004_raw-Fat                  0.571332   \n",
       "100005_raw-Carbohydrate         0.584692   \n",
       "\n",
       "                         wellbeing measurement AND family relationship  \\\n",
       "100001_raw-Food_weight                                        0.548731   \n",
       "100002_raw-Energy                                             0.571170   \n",
       "100003_raw-Protein                                            0.571850   \n",
       "100004_raw-Fat                                                0.585902   \n",
       "100005_raw-Carbohydrate                                       0.574569   \n",
       "\n",
       "                         wheezing  whooping cough  worry measurement  \\\n",
       "100001_raw-Food_weight   0.690641        0.599864           0.661714   \n",
       "100002_raw-Energy        0.687644        0.601223           0.659886   \n",
       "100003_raw-Protein       0.691102        0.597826           0.661029   \n",
       "100004_raw-Fat           0.692254        0.588315           0.667429   \n",
       "100005_raw-Carbohydrate  0.687414        0.600543           0.657143   \n",
       "\n",
       "                         wrist fracture  \n",
       "100001_raw-Food_weight         0.667572  \n",
       "100002_raw-Energy              0.665308  \n",
       "100003_raw-Protein             0.662817  \n",
       "100004_raw-Fat                 0.666667  \n",
       "100005_raw-Carbohydrate        0.662817  \n",
       "\n",
       "[5 rows x 3749 columns]"
      ]
     },
     "execution_count": 19,
     "metadata": {},
     "output_type": "execute_result"
    }
   ],
   "source": [
    "coassoc_matrix.head()"
   ]
  },
  {
   "cell_type": "code",
   "execution_count": 20,
   "metadata": {},
   "outputs": [],
   "source": [
    "dist_matrix = coassoc_matrix"
   ]
  },
  {
   "cell_type": "markdown",
   "metadata": {
    "papermill": {
     "duration": 0.02576,
     "end_time": "2021-01-12T06:27:23.775539",
     "exception": false,
     "start_time": "2021-01-12T06:27:23.749779",
     "status": "completed"
    },
    "tags": []
   },
   "source": [
    "# Clustering"
   ]
  },
  {
   "cell_type": "code",
   "execution_count": 21,
   "metadata": {
    "papermill": {
     "duration": 0.045998,
     "end_time": "2021-01-12T06:27:23.847363",
     "exception": false,
     "start_time": "2021-01-12T06:27:23.801365",
     "status": "completed"
    },
    "tags": []
   },
   "outputs": [],
   "source": [
    "from sklearn.cluster import SpectralClustering\n",
    "from sklearn.metrics import silhouette_score, calinski_harabasz_score, davies_bouldin_score\n",
    "\n",
    "from clustering.utils import compute_performance"
   ]
  },
  {
   "cell_type": "markdown",
   "metadata": {
    "papermill": {
     "duration": 0.025485,
     "end_time": "2021-01-12T06:27:23.899142",
     "exception": false,
     "start_time": "2021-01-12T06:27:23.873657",
     "status": "completed"
    },
    "tags": []
   },
   "source": [
    "## `delta` parameter (gaussian kernel)"
   ]
  },
  {
   "cell_type": "markdown",
   "metadata": {
    "papermill": {
     "duration": 0.025675,
     "end_time": "2021-01-12T06:27:23.950992",
     "exception": false,
     "start_time": "2021-01-12T06:27:23.925317",
     "status": "completed"
    },
    "tags": []
   },
   "source": [
    "### `delta=1.0`"
   ]
  },
  {
   "cell_type": "code",
   "execution_count": 22,
   "metadata": {},
   "outputs": [],
   "source": [
    "delta = 1.0"
   ]
  },
  {
   "cell_type": "code",
   "execution_count": 23,
   "metadata": {
    "papermill": {
     "duration": 1.6795,
     "end_time": "2021-01-12T06:27:25.656486",
     "exception": false,
     "start_time": "2021-01-12T06:27:23.976986",
     "status": "completed"
    },
    "tags": []
   },
   "outputs": [],
   "source": [
    "with warnings.catch_warnings():\n",
    "    warnings.filterwarnings(\"always\")\n",
    "    \n",
    "    sim_matrix = np.exp(- dist_matrix ** 2 / (2. * delta ** 2))\n",
    "\n",
    "    clus = SpectralClustering(\n",
    "        eigen_solver=\"arpack\",\n",
    "        #         eigen_tol=1e-3,\n",
    "        n_clusters=2,\n",
    "        n_init=10,\n",
    "        affinity=\"precomputed\",\n",
    "        random_state=INITIAL_RANDOM_STATE,\n",
    "    )\n",
    "\n",
    "    part = clus.fit_predict(sim_matrix)"
   ]
  },
  {
   "cell_type": "code",
   "execution_count": 24,
   "metadata": {
    "papermill": {
     "duration": 0.041278,
     "end_time": "2021-01-12T06:27:25.724267",
     "exception": false,
     "start_time": "2021-01-12T06:27:25.682989",
     "status": "completed"
    },
    "tags": []
   },
   "outputs": [
    {
     "data": {
      "text/plain": [
       "0    3179\n",
       "1     570\n",
       "dtype: int64"
      ]
     },
     "execution_count": 24,
     "metadata": {},
     "output_type": "execute_result"
    }
   ],
   "source": [
    "# show number of clusters and their size\n",
    "pd.Series(part).value_counts()"
   ]
  },
  {
   "cell_type": "code",
   "execution_count": 25,
   "metadata": {
    "papermill": {
     "duration": 0.228846,
     "end_time": "2021-01-12T06:27:25.979645",
     "exception": false,
     "start_time": "2021-01-12T06:27:25.750799",
     "status": "completed"
    },
    "tags": []
   },
   "outputs": [
    {
     "data": {
      "text/plain": [
       "'Silhouette (higher is better): 0.249'"
      ]
     },
     "metadata": {},
     "output_type": "display_data"
    },
    {
     "data": {
      "text/plain": [
       "'Calinski-Harabasz (higher is better): 133.181'"
      ]
     },
     "metadata": {},
     "output_type": "display_data"
    },
    {
     "data": {
      "text/plain": [
       "'Davies-Bouldin (lower is better): 4.253'"
      ]
     },
     "metadata": {},
     "output_type": "display_data"
    }
   ],
   "source": [
    "compute_performance(data, part, data_distance_matrix=dist_matrix)"
   ]
  },
  {
   "cell_type": "markdown",
   "metadata": {
    "papermill": {
     "duration": 0.02627,
     "end_time": "2021-01-12T06:27:26.102849",
     "exception": false,
     "start_time": "2021-01-12T06:27:26.076579",
     "status": "completed"
    },
    "tags": []
   },
   "source": [
    "For `delta=1.0`, the algorithm works/converges fine with this data version."
   ]
  },
  {
   "cell_type": "markdown",
   "metadata": {
    "papermill": {
     "duration": 0.026418,
     "end_time": "2021-01-12T06:27:26.155564",
     "exception": false,
     "start_time": "2021-01-12T06:27:26.129146",
     "status": "completed"
    },
    "tags": []
   },
   "source": [
    "### `delta>1.0`"
   ]
  },
  {
   "cell_type": "code",
   "execution_count": 26,
   "metadata": {},
   "outputs": [],
   "source": [
    "delta = 10.0"
   ]
  },
  {
   "cell_type": "code",
   "execution_count": 27,
   "metadata": {
    "papermill": {
     "duration": 1.6795,
     "end_time": "2021-01-12T06:27:25.656486",
     "exception": false,
     "start_time": "2021-01-12T06:27:23.976986",
     "status": "completed"
    },
    "tags": []
   },
   "outputs": [],
   "source": [
    "with warnings.catch_warnings():\n",
    "    warnings.filterwarnings(\"always\")\n",
    "    \n",
    "    sim_matrix = np.exp(- dist_matrix ** 2 / (2. * delta ** 2))\n",
    "\n",
    "    clus = SpectralClustering(\n",
    "        eigen_solver=\"arpack\",\n",
    "        #         eigen_tol=1e-3,\n",
    "        n_clusters=2,\n",
    "        n_init=10,\n",
    "        affinity=\"precomputed\",\n",
    "        random_state=INITIAL_RANDOM_STATE,\n",
    "    )\n",
    "\n",
    "    part = clus.fit_predict(sim_matrix)"
   ]
  },
  {
   "cell_type": "code",
   "execution_count": 28,
   "metadata": {
    "papermill": {
     "duration": 0.041278,
     "end_time": "2021-01-12T06:27:25.724267",
     "exception": false,
     "start_time": "2021-01-12T06:27:25.682989",
     "status": "completed"
    },
    "tags": []
   },
   "outputs": [
    {
     "data": {
      "text/plain": [
       "0    3147\n",
       "1     602\n",
       "dtype: int64"
      ]
     },
     "execution_count": 28,
     "metadata": {},
     "output_type": "execute_result"
    }
   ],
   "source": [
    "# show number of clusters and their size\n",
    "pd.Series(part).value_counts()"
   ]
  },
  {
   "cell_type": "code",
   "execution_count": 29,
   "metadata": {
    "papermill": {
     "duration": 0.228846,
     "end_time": "2021-01-12T06:27:25.979645",
     "exception": false,
     "start_time": "2021-01-12T06:27:25.750799",
     "status": "completed"
    },
    "tags": []
   },
   "outputs": [
    {
     "data": {
      "text/plain": [
       "'Silhouette (higher is better): 0.243'"
      ]
     },
     "metadata": {},
     "output_type": "display_data"
    },
    {
     "data": {
      "text/plain": [
       "'Calinski-Harabasz (higher is better): 128.603'"
      ]
     },
     "metadata": {},
     "output_type": "display_data"
    },
    {
     "data": {
      "text/plain": [
       "'Davies-Bouldin (lower is better): 4.389'"
      ]
     },
     "metadata": {},
     "output_type": "display_data"
    }
   ],
   "source": [
    "compute_performance(data, part, data_distance_matrix=dist_matrix)"
   ]
  },
  {
   "cell_type": "markdown",
   "metadata": {
    "papermill": {
     "duration": 0.027234,
     "end_time": "2021-01-12T06:27:29.476065",
     "exception": false,
     "start_time": "2021-01-12T06:27:29.448831",
     "status": "completed"
    },
    "tags": []
   },
   "source": [
    "For `delta` values larger than `1.0`, quality measures go slightly down."
   ]
  },
  {
   "cell_type": "markdown",
   "metadata": {
    "papermill": {
     "duration": 0.026418,
     "end_time": "2021-01-12T06:27:26.155564",
     "exception": false,
     "start_time": "2021-01-12T06:27:26.129146",
     "status": "completed"
    },
    "tags": []
   },
   "source": [
    "### `delta<1.0`"
   ]
  },
  {
   "cell_type": "code",
   "execution_count": 30,
   "metadata": {},
   "outputs": [],
   "source": [
    "delta = 0.20"
   ]
  },
  {
   "cell_type": "code",
   "execution_count": 31,
   "metadata": {
    "papermill": {
     "duration": 1.6795,
     "end_time": "2021-01-12T06:27:25.656486",
     "exception": false,
     "start_time": "2021-01-12T06:27:23.976986",
     "status": "completed"
    },
    "tags": []
   },
   "outputs": [],
   "source": [
    "with warnings.catch_warnings():\n",
    "    warnings.filterwarnings(\"always\")\n",
    "    \n",
    "    sim_matrix = np.exp(- dist_matrix ** 2 / (2. * delta ** 2))\n",
    "\n",
    "    clus = SpectralClustering(\n",
    "        eigen_solver=\"arpack\",\n",
    "#         eigen_tol=1e-3,\n",
    "        n_clusters=2,\n",
    "        n_init=10,\n",
    "        affinity=\"precomputed\",\n",
    "        random_state=INITIAL_RANDOM_STATE,\n",
    "    )\n",
    "\n",
    "    part = clus.fit_predict(sim_matrix)"
   ]
  },
  {
   "cell_type": "code",
   "execution_count": 32,
   "metadata": {
    "papermill": {
     "duration": 0.041278,
     "end_time": "2021-01-12T06:27:25.724267",
     "exception": false,
     "start_time": "2021-01-12T06:27:25.682989",
     "status": "completed"
    },
    "tags": []
   },
   "outputs": [
    {
     "data": {
      "text/plain": [
       "0    3708\n",
       "1      41\n",
       "dtype: int64"
      ]
     },
     "execution_count": 32,
     "metadata": {},
     "output_type": "execute_result"
    }
   ],
   "source": [
    "# show number of clusters and their size\n",
    "pd.Series(part).value_counts()"
   ]
  },
  {
   "cell_type": "code",
   "execution_count": 33,
   "metadata": {
    "papermill": {
     "duration": 0.228846,
     "end_time": "2021-01-12T06:27:25.979645",
     "exception": false,
     "start_time": "2021-01-12T06:27:25.750799",
     "status": "completed"
    },
    "tags": []
   },
   "outputs": [
    {
     "data": {
      "text/plain": [
       "'Silhouette (higher is better): 0.428'"
      ]
     },
     "metadata": {},
     "output_type": "display_data"
    },
    {
     "data": {
      "text/plain": [
       "'Calinski-Harabasz (higher is better): 154.143'"
      ]
     },
     "metadata": {},
     "output_type": "display_data"
    },
    {
     "data": {
      "text/plain": [
       "'Davies-Bouldin (lower is better): 1.263'"
      ]
     },
     "metadata": {},
     "output_type": "display_data"
    }
   ],
   "source": [
    "compute_performance(data, part, data_distance_matrix=dist_matrix)"
   ]
  },
  {
   "cell_type": "markdown",
   "metadata": {
    "papermill": {
     "duration": 0.027234,
     "end_time": "2021-01-12T06:27:29.476065",
     "exception": false,
     "start_time": "2021-01-12T06:27:29.448831",
     "status": "completed"
    },
    "tags": []
   },
   "source": [
    "For `delta` values smaller than `1.0`, quality measures improve."
   ]
  },
  {
   "cell_type": "markdown",
   "metadata": {
    "papermill": {
     "duration": 0.026418,
     "end_time": "2021-01-12T06:27:26.155564",
     "exception": false,
     "start_time": "2021-01-12T06:27:26.129146",
     "status": "completed"
    },
    "tags": []
   },
   "source": [
    "### `delta<<<1.0`"
   ]
  },
  {
   "cell_type": "code",
   "execution_count": 34,
   "metadata": {},
   "outputs": [],
   "source": [
    "delta = 0.10"
   ]
  },
  {
   "cell_type": "code",
   "execution_count": 35,
   "metadata": {
    "papermill": {
     "duration": 1.6795,
     "end_time": "2021-01-12T06:27:25.656486",
     "exception": false,
     "start_time": "2021-01-12T06:27:23.976986",
     "status": "completed"
    },
    "tags": []
   },
   "outputs": [],
   "source": [
    "with warnings.catch_warnings():\n",
    "    warnings.filterwarnings(\"always\")\n",
    "    \n",
    "    sim_matrix = np.exp(- dist_matrix ** 2 / (2. * delta ** 2))\n",
    "\n",
    "    clus = SpectralClustering(\n",
    "        eigen_solver=\"arpack\",\n",
    "        eigen_tol=1e-4,\n",
    "        n_clusters=2,\n",
    "        n_init=10,\n",
    "        affinity=\"precomputed\",\n",
    "        random_state=INITIAL_RANDOM_STATE,\n",
    "    )\n",
    "\n",
    "    part = clus.fit_predict(sim_matrix)"
   ]
  },
  {
   "cell_type": "code",
   "execution_count": 36,
   "metadata": {
    "papermill": {
     "duration": 0.041278,
     "end_time": "2021-01-12T06:27:25.724267",
     "exception": false,
     "start_time": "2021-01-12T06:27:25.682989",
     "status": "completed"
    },
    "tags": []
   },
   "outputs": [
    {
     "data": {
      "text/plain": [
       "0    3744\n",
       "1       5\n",
       "dtype: int64"
      ]
     },
     "execution_count": 36,
     "metadata": {},
     "output_type": "execute_result"
    }
   ],
   "source": [
    "# show number of clusters and their size\n",
    "pd.Series(part).value_counts()"
   ]
  },
  {
   "cell_type": "code",
   "execution_count": 37,
   "metadata": {
    "papermill": {
     "duration": 0.228846,
     "end_time": "2021-01-12T06:27:25.979645",
     "exception": false,
     "start_time": "2021-01-12T06:27:25.750799",
     "status": "completed"
    },
    "tags": []
   },
   "outputs": [
    {
     "data": {
      "text/plain": [
       "'Silhouette (higher is better): 0.364'"
      ]
     },
     "metadata": {},
     "output_type": "display_data"
    },
    {
     "data": {
      "text/plain": [
       "'Calinski-Harabasz (higher is better): 40.633'"
      ]
     },
     "metadata": {},
     "output_type": "display_data"
    },
    {
     "data": {
      "text/plain": [
       "'Davies-Bouldin (lower is better): 1.045'"
      ]
     },
     "metadata": {},
     "output_type": "display_data"
    }
   ],
   "source": [
    "compute_performance(data, part, data_distance_matrix=dist_matrix)"
   ]
  },
  {
   "cell_type": "markdown",
   "metadata": {
    "papermill": {
     "duration": 0.027234,
     "end_time": "2021-01-12T06:27:29.476065",
     "exception": false,
     "start_time": "2021-01-12T06:27:29.448831",
     "status": "completed"
    },
    "tags": []
   },
   "source": [
    "For `delta` values around `0.10` the algorithm does not converge, and I need to force convergence with `eigen_tol=1e-4`.\n",
    "\n",
    "Quality measures in general go down."
   ]
  },
  {
   "cell_type": "markdown",
   "metadata": {
    "papermill": {
     "duration": 0.027782,
     "end_time": "2021-01-12T06:27:31.237724",
     "exception": false,
     "start_time": "2021-01-12T06:27:31.209942",
     "status": "completed"
    },
    "tags": []
   },
   "source": [
    "## Extended test"
   ]
  },
  {
   "cell_type": "code",
   "execution_count": 38,
   "metadata": {},
   "outputs": [],
   "source": [
    "from clustering.methods import DeltaSpectralClustering"
   ]
  },
  {
   "cell_type": "code",
   "execution_count": 39,
   "metadata": {
    "papermill": {
     "duration": 0.044486,
     "end_time": "2021-01-12T06:27:31.310120",
     "exception": false,
     "start_time": "2021-01-12T06:27:31.265634",
     "status": "completed"
    },
    "tags": []
   },
   "outputs": [
    {
     "data": {
      "text/plain": [
       "{'K_RANGE': [2, 4, 6, 8, 10, 12, 14, 16, 18, 20, 25, 30, 35, 40],\n",
       " 'N_REPS_PER_K': 5,\n",
       " 'KMEANS_N_INIT': 10,\n",
       " 'DELTAS': [5.0, 2.0, 1.0, 0.9, 0.75, 0.5, 0.3, 0.25, 0.2]}"
      ]
     },
     "metadata": {},
     "output_type": "display_data"
    }
   ],
   "source": [
    "CLUSTERING_OPTIONS = {}\n",
    "\n",
    "CLUSTERING_OPTIONS[\"K_RANGE\"] = [2, 4, 6, 8, 10, 12, 14, 16, 18, 20, 25, 30, 35, 40]\n",
    "CLUSTERING_OPTIONS[\"N_REPS_PER_K\"] = 5\n",
    "CLUSTERING_OPTIONS[\"KMEANS_N_INIT\"] = 10\n",
    "CLUSTERING_OPTIONS[\"DELTAS\"] = [\n",
    "    5.00,\n",
    "    2.00,\n",
    "    1.00,\n",
    "    0.90,\n",
    "    0.75,\n",
    "    0.50,\n",
    "    0.30,\n",
    "    0.25,\n",
    "    0.20,\n",
    "]\n",
    "\n",
    "display(CLUSTERING_OPTIONS)"
   ]
  },
  {
   "cell_type": "code",
   "execution_count": 40,
   "metadata": {
    "papermill": {
     "duration": 0.050888,
     "end_time": "2021-01-12T06:27:31.409551",
     "exception": false,
     "start_time": "2021-01-12T06:27:31.358663",
     "status": "completed"
    },
    "tags": []
   },
   "outputs": [],
   "source": [
    "CLUSTERERS = {}\n",
    "\n",
    "idx = 0\n",
    "random_state = INITIAL_RANDOM_STATE\n",
    "\n",
    "for k in CLUSTERING_OPTIONS[\"K_RANGE\"]:\n",
    "    for delta_value in CLUSTERING_OPTIONS[\"DELTAS\"]:\n",
    "        for i in range(CLUSTERING_OPTIONS[\"N_REPS_PER_K\"]):\n",
    "            clus = DeltaSpectralClustering(\n",
    "                eigen_solver=\"arpack\",\n",
    "                n_clusters=k,\n",
    "                n_init=CLUSTERING_OPTIONS[\"KMEANS_N_INIT\"],\n",
    "                affinity=\"precomputed\",\n",
    "                delta=delta_value,\n",
    "                random_state=random_state,\n",
    "            )\n",
    "\n",
    "            method_name = type(clus).__name__\n",
    "            CLUSTERERS[f\"{method_name} #{idx}\"] = clus\n",
    "\n",
    "            random_state = random_state + 1\n",
    "            idx = idx + 1"
   ]
  },
  {
   "cell_type": "code",
   "execution_count": 41,
   "metadata": {
    "papermill": {
     "duration": 0.043213,
     "end_time": "2021-01-12T06:27:31.482441",
     "exception": false,
     "start_time": "2021-01-12T06:27:31.439228",
     "status": "completed"
    },
    "tags": []
   },
   "outputs": [
    {
     "data": {
      "text/plain": [
       "630"
      ]
     },
     "metadata": {},
     "output_type": "display_data"
    }
   ],
   "source": [
    "display(len(CLUSTERERS))"
   ]
  },
  {
   "cell_type": "code",
   "execution_count": 42,
   "metadata": {
    "papermill": {
     "duration": 0.046533,
     "end_time": "2021-01-12T06:27:31.558981",
     "exception": false,
     "start_time": "2021-01-12T06:27:31.512448",
     "status": "completed"
    },
    "tags": []
   },
   "outputs": [
    {
     "data": {
      "text/plain": [
       "('DeltaSpectralClustering #0', DeltaSpectralClustering(delta=5.0))"
      ]
     },
     "metadata": {},
     "output_type": "display_data"
    },
    {
     "data": {
      "text/plain": [
       "('DeltaSpectralClustering #1', DeltaSpectralClustering(delta=5.0))"
      ]
     },
     "metadata": {},
     "output_type": "display_data"
    }
   ],
   "source": [
    "_iter = iter(CLUSTERERS.items())\n",
    "display(next(_iter))\n",
    "display(next(_iter))"
   ]
  },
  {
   "cell_type": "code",
   "execution_count": 43,
   "metadata": {
    "papermill": {
     "duration": 0.047007,
     "end_time": "2021-01-12T06:27:31.637269",
     "exception": false,
     "start_time": "2021-01-12T06:27:31.590262",
     "status": "completed"
    },
    "tags": []
   },
   "outputs": [
    {
     "data": {
      "text/plain": [
       "'DeltaSpectralClustering'"
      ]
     },
     "metadata": {},
     "output_type": "display_data"
    }
   ],
   "source": [
    "clustering_method_name = method_name\n",
    "display(clustering_method_name)"
   ]
  },
  {
   "cell_type": "markdown",
   "metadata": {
    "papermill": {
     "duration": 0.029743,
     "end_time": "2021-01-12T06:27:31.698410",
     "exception": false,
     "start_time": "2021-01-12T06:27:31.668667",
     "status": "completed"
    },
    "tags": []
   },
   "source": [
    "## Generate ensemble"
   ]
  },
  {
   "cell_type": "code",
   "execution_count": 44,
   "metadata": {
    "papermill": {
     "duration": 0.047927,
     "end_time": "2021-01-12T06:27:31.776008",
     "exception": false,
     "start_time": "2021-01-12T06:27:31.728081",
     "status": "completed"
    },
    "tags": []
   },
   "outputs": [],
   "source": [
    "import tempfile\n",
    "from clustering.ensemble import generate_ensemble"
   ]
  },
  {
   "cell_type": "code",
   "execution_count": 45,
   "metadata": {
    "papermill": {
     "duration": 0.044566,
     "end_time": "2021-01-12T06:27:31.850291",
     "exception": false,
     "start_time": "2021-01-12T06:27:31.805725",
     "status": "completed"
    },
    "tags": []
   },
   "outputs": [],
   "source": [
    "# generate a temporary folder where to store the ensemble and avoid computing it again\n",
    "ensemble_folder = Path(\n",
    "    tempfile.gettempdir(),\n",
    "    f\"pre_cluster_analysis\",\n",
    "    clustering_method_name,\n",
    ").resolve()\n",
    "ensemble_folder.mkdir(parents=True, exist_ok=True)"
   ]
  },
  {
   "cell_type": "code",
   "execution_count": 46,
   "metadata": {
    "papermill": {
     "duration": 0.045455,
     "end_time": "2021-01-12T06:27:31.926002",
     "exception": false,
     "start_time": "2021-01-12T06:27:31.880547",
     "status": "completed"
    },
    "tags": []
   },
   "outputs": [
    {
     "data": {
      "text/plain": [
       "PosixPath('/tmp/pre_cluster_analysis/DeltaSpectralClustering/ensemble-DELTAS_50_20_10_09_075_05_03_025_02-KMEANS_N_INIT_10-K_RANGE_2_4_6_8_10_12_14_16_18_20_25_30_35_40-N_REPS_PER_K_5.pkl')"
      ]
     },
     "metadata": {},
     "output_type": "display_data"
    }
   ],
   "source": [
    "ensemble_file = Path(\n",
    "    ensemble_folder,\n",
    "    generate_result_set_name(\n",
    "        CLUSTERING_OPTIONS, prefix=f\"ensemble-\", suffix=\".pkl\"\n",
    "    ),\n",
    ")\n",
    "display(ensemble_file)"
   ]
  },
  {
   "cell_type": "code",
   "execution_count": 47,
   "metadata": {
    "papermill": {
     "duration": 899.374044,
     "end_time": "2021-01-12T06:42:31.330293",
     "exception": false,
     "start_time": "2021-01-12T06:27:31.956249",
     "status": "completed"
    },
    "tags": []
   },
   "outputs": [
    {
     "name": "stderr",
     "output_type": "stream",
     "text": [
      "100%|██████████| 630/630 [19:34<00:00,  1.86s/it]\n"
     ]
    }
   ],
   "source": [
    "if ensemble_file.exists():\n",
    "    display(f\"Ensemble file exists\")\n",
    "    ensemble = pd.read_pickle(ensemble_file)\n",
    "else:\n",
    "    ensemble = generate_ensemble(\n",
    "        dist_matrix,\n",
    "        CLUSTERERS,\n",
    "        attributes=[\"n_clusters\", \"delta\"],\n",
    "    )"
   ]
  },
  {
   "cell_type": "code",
   "execution_count": 48,
   "metadata": {
    "papermill": {
     "duration": 0.099862,
     "end_time": "2021-01-12T06:42:31.517704",
     "exception": false,
     "start_time": "2021-01-12T06:42:31.417842",
     "status": "completed"
    },
    "tags": []
   },
   "outputs": [
    {
     "data": {
      "text/plain": [
       "(630, 4)"
      ]
     },
     "execution_count": 48,
     "metadata": {},
     "output_type": "execute_result"
    }
   ],
   "source": [
    "ensemble.shape"
   ]
  },
  {
   "cell_type": "code",
   "execution_count": 49,
   "metadata": {
    "papermill": {
     "duration": 0.106741,
     "end_time": "2021-01-12T06:42:31.709619",
     "exception": false,
     "start_time": "2021-01-12T06:42:31.602878",
     "status": "completed"
    },
    "tags": []
   },
   "outputs": [
    {
     "data": {
      "text/html": [
       "<div>\n",
       "<style scoped>\n",
       "    .dataframe tbody tr th:only-of-type {\n",
       "        vertical-align: middle;\n",
       "    }\n",
       "\n",
       "    .dataframe tbody tr th {\n",
       "        vertical-align: top;\n",
       "    }\n",
       "\n",
       "    .dataframe thead th {\n",
       "        text-align: right;\n",
       "    }\n",
       "</style>\n",
       "<table border=\"1\" class=\"dataframe\">\n",
       "  <thead>\n",
       "    <tr style=\"text-align: right;\">\n",
       "      <th></th>\n",
       "      <th>clusterer_params</th>\n",
       "      <th>partition</th>\n",
       "      <th>n_clusters</th>\n",
       "      <th>delta</th>\n",
       "    </tr>\n",
       "    <tr>\n",
       "      <th>clusterer_id</th>\n",
       "      <th></th>\n",
       "      <th></th>\n",
       "      <th></th>\n",
       "      <th></th>\n",
       "    </tr>\n",
       "  </thead>\n",
       "  <tbody>\n",
       "    <tr>\n",
       "      <th>DeltaSpectralClustering #0</th>\n",
       "      <td>{'delta': 5.0}</td>\n",
       "      <td>[0.0, 0.0, 0.0, 0.0, 0.0, 0.0, 0.0, 0.0, 0.0, ...</td>\n",
       "      <td>2</td>\n",
       "      <td>5.0</td>\n",
       "    </tr>\n",
       "    <tr>\n",
       "      <th>DeltaSpectralClustering #1</th>\n",
       "      <td>{'delta': 5.0}</td>\n",
       "      <td>[0.0, 0.0, 0.0, 0.0, 0.0, 0.0, 0.0, 0.0, 0.0, ...</td>\n",
       "      <td>2</td>\n",
       "      <td>5.0</td>\n",
       "    </tr>\n",
       "    <tr>\n",
       "      <th>DeltaSpectralClustering #2</th>\n",
       "      <td>{'delta': 5.0}</td>\n",
       "      <td>[1.0, 1.0, 1.0, 1.0, 1.0, 1.0, 1.0, 1.0, 1.0, ...</td>\n",
       "      <td>2</td>\n",
       "      <td>5.0</td>\n",
       "    </tr>\n",
       "    <tr>\n",
       "      <th>DeltaSpectralClustering #3</th>\n",
       "      <td>{'delta': 5.0}</td>\n",
       "      <td>[1.0, 1.0, 1.0, 1.0, 1.0, 1.0, 1.0, 1.0, 1.0, ...</td>\n",
       "      <td>2</td>\n",
       "      <td>5.0</td>\n",
       "    </tr>\n",
       "    <tr>\n",
       "      <th>DeltaSpectralClustering #4</th>\n",
       "      <td>{'delta': 5.0}</td>\n",
       "      <td>[0.0, 0.0, 0.0, 0.0, 0.0, 0.0, 0.0, 0.0, 0.0, ...</td>\n",
       "      <td>2</td>\n",
       "      <td>5.0</td>\n",
       "    </tr>\n",
       "  </tbody>\n",
       "</table>\n",
       "</div>"
      ],
      "text/plain": [
       "                           clusterer_params  \\\n",
       "clusterer_id                                  \n",
       "DeltaSpectralClustering #0   {'delta': 5.0}   \n",
       "DeltaSpectralClustering #1   {'delta': 5.0}   \n",
       "DeltaSpectralClustering #2   {'delta': 5.0}   \n",
       "DeltaSpectralClustering #3   {'delta': 5.0}   \n",
       "DeltaSpectralClustering #4   {'delta': 5.0}   \n",
       "\n",
       "                                                                    partition  \\\n",
       "clusterer_id                                                                    \n",
       "DeltaSpectralClustering #0  [0.0, 0.0, 0.0, 0.0, 0.0, 0.0, 0.0, 0.0, 0.0, ...   \n",
       "DeltaSpectralClustering #1  [0.0, 0.0, 0.0, 0.0, 0.0, 0.0, 0.0, 0.0, 0.0, ...   \n",
       "DeltaSpectralClustering #2  [1.0, 1.0, 1.0, 1.0, 1.0, 1.0, 1.0, 1.0, 1.0, ...   \n",
       "DeltaSpectralClustering #3  [1.0, 1.0, 1.0, 1.0, 1.0, 1.0, 1.0, 1.0, 1.0, ...   \n",
       "DeltaSpectralClustering #4  [0.0, 0.0, 0.0, 0.0, 0.0, 0.0, 0.0, 0.0, 0.0, ...   \n",
       "\n",
       "                            n_clusters  delta  \n",
       "clusterer_id                                   \n",
       "DeltaSpectralClustering #0           2    5.0  \n",
       "DeltaSpectralClustering #1           2    5.0  \n",
       "DeltaSpectralClustering #2           2    5.0  \n",
       "DeltaSpectralClustering #3           2    5.0  \n",
       "DeltaSpectralClustering #4           2    5.0  "
      ]
     },
     "execution_count": 49,
     "metadata": {},
     "output_type": "execute_result"
    }
   ],
   "source": [
    "ensemble.head()"
   ]
  },
  {
   "cell_type": "code",
   "execution_count": 50,
   "metadata": {
    "papermill": {
     "duration": 0.100818,
     "end_time": "2021-01-12T06:42:31.896597",
     "exception": false,
     "start_time": "2021-01-12T06:42:31.795779",
     "status": "completed"
    },
    "tags": []
   },
   "outputs": [],
   "source": [
    "ensemble[\"delta\"] = ensemble[\"delta\"].apply(lambda x: f\"{x:.2f}\")"
   ]
  },
  {
   "cell_type": "code",
   "execution_count": 51,
   "metadata": {
    "papermill": {
     "duration": 0.101702,
     "end_time": "2021-01-12T06:42:32.085037",
     "exception": false,
     "start_time": "2021-01-12T06:42:31.983335",
     "status": "completed"
    },
    "tags": []
   },
   "outputs": [
    {
     "data": {
      "text/plain": [
       "40    45\n",
       "35    45\n",
       "30    45\n",
       "25    45\n",
       "20    45\n",
       "18    45\n",
       "16    45\n",
       "14    45\n",
       "12    45\n",
       "10    45\n",
       "8     45\n",
       "6     45\n",
       "4     45\n",
       "2     45\n",
       "Name: n_clusters, dtype: int64"
      ]
     },
     "execution_count": 51,
     "metadata": {},
     "output_type": "execute_result"
    }
   ],
   "source": [
    "ensemble[\"n_clusters\"].value_counts()"
   ]
  },
  {
   "cell_type": "code",
   "execution_count": 52,
   "metadata": {
    "papermill": {
     "duration": 0.100494,
     "end_time": "2021-01-12T06:42:32.271749",
     "exception": false,
     "start_time": "2021-01-12T06:42:32.171255",
     "status": "completed"
    },
    "tags": []
   },
   "outputs": [],
   "source": [
    "_tmp = ensemble[\"n_clusters\"].value_counts().unique()\n",
    "assert _tmp.shape[0] == 1\n",
    "assert _tmp[0] == int(\n",
    "    CLUSTERING_OPTIONS[\"N_REPS_PER_K\"] * len(CLUSTERING_OPTIONS[\"DELTAS\"])\n",
    ")"
   ]
  },
  {
   "cell_type": "code",
   "execution_count": 53,
   "metadata": {
    "papermill": {
     "duration": 0.10443,
     "end_time": "2021-01-12T06:42:32.462077",
     "exception": false,
     "start_time": "2021-01-12T06:42:32.357647",
     "status": "completed"
    },
    "tags": []
   },
   "outputs": [
    {
     "data": {
      "text/plain": [
       "count    630.000000\n",
       "mean      17.142857\n",
       "std       11.271131\n",
       "min        2.000000\n",
       "25%        8.000000\n",
       "50%       15.000000\n",
       "75%       25.000000\n",
       "max       40.000000\n",
       "Name: n_clusters, dtype: float64"
      ]
     },
     "metadata": {},
     "output_type": "display_data"
    }
   ],
   "source": [
    "ensemble_stats = ensemble[\"n_clusters\"].describe()\n",
    "display(ensemble_stats)"
   ]
  },
  {
   "cell_type": "markdown",
   "metadata": {
    "papermill": {
     "duration": 0.085843,
     "end_time": "2021-01-12T06:42:32.635181",
     "exception": false,
     "start_time": "2021-01-12T06:42:32.549338",
     "status": "completed"
    },
    "tags": []
   },
   "source": [
    "### Testing"
   ]
  },
  {
   "cell_type": "code",
   "execution_count": 54,
   "metadata": {
    "papermill": {
     "duration": 0.100931,
     "end_time": "2021-01-12T06:42:32.821787",
     "exception": false,
     "start_time": "2021-01-12T06:42:32.720856",
     "status": "completed"
    },
    "tags": []
   },
   "outputs": [],
   "source": [
    "assert ensemble_stats[\"min\"] > 1"
   ]
  },
  {
   "cell_type": "code",
   "execution_count": 55,
   "metadata": {
    "papermill": {
     "duration": 0.104272,
     "end_time": "2021-01-12T06:42:33.030741",
     "exception": false,
     "start_time": "2021-01-12T06:42:32.926469",
     "status": "completed"
    },
    "tags": []
   },
   "outputs": [],
   "source": [
    "assert not ensemble[\"n_clusters\"].isna().any()"
   ]
  },
  {
   "cell_type": "code",
   "execution_count": 56,
   "metadata": {
    "papermill": {
     "duration": 0.100651,
     "end_time": "2021-01-12T06:42:33.218430",
     "exception": false,
     "start_time": "2021-01-12T06:42:33.117779",
     "status": "completed"
    },
    "tags": []
   },
   "outputs": [],
   "source": [
    "assert ensemble.shape[0] == len(CLUSTERERS)"
   ]
  },
  {
   "cell_type": "code",
   "execution_count": 57,
   "metadata": {
    "papermill": {
     "duration": 0.121891,
     "end_time": "2021-01-12T06:42:33.428074",
     "exception": false,
     "start_time": "2021-01-12T06:42:33.306183",
     "status": "completed"
    },
    "tags": []
   },
   "outputs": [],
   "source": [
    "# all partitions have the right size\n",
    "assert np.all(\n",
    "    [part[\"partition\"].shape[0] == data.shape[0] for idx, part in ensemble.iterrows()]\n",
    ")"
   ]
  },
  {
   "cell_type": "code",
   "execution_count": 58,
   "metadata": {
    "papermill": {
     "duration": 0.124603,
     "end_time": "2021-01-12T06:42:33.639307",
     "exception": false,
     "start_time": "2021-01-12T06:42:33.514704",
     "status": "completed"
    },
    "tags": []
   },
   "outputs": [],
   "source": [
    "# no partition has negative clusters (noisy points)\n",
    "assert not np.any([(part[\"partition\"] < 0).any() for idx, part in ensemble.iterrows()])"
   ]
  },
  {
   "cell_type": "code",
   "execution_count": 59,
   "metadata": {
    "papermill": {
     "duration": 0.129812,
     "end_time": "2021-01-12T06:42:33.855189",
     "exception": false,
     "start_time": "2021-01-12T06:42:33.725377",
     "status": "completed"
    },
    "tags": []
   },
   "outputs": [
    {
     "data": {
      "text/plain": [
       "clusterer_id\n",
       "DeltaSpectralClustering #0       2\n",
       "DeltaSpectralClustering #1       2\n",
       "DeltaSpectralClustering #2       2\n",
       "DeltaSpectralClustering #3       2\n",
       "DeltaSpectralClustering #4       2\n",
       "                                ..\n",
       "DeltaSpectralClustering #625    40\n",
       "DeltaSpectralClustering #626    40\n",
       "DeltaSpectralClustering #627    40\n",
       "DeltaSpectralClustering #628    40\n",
       "DeltaSpectralClustering #629    40\n",
       "Name: partition, Length: 630, dtype: int64"
      ]
     },
     "metadata": {},
     "output_type": "display_data"
    }
   ],
   "source": [
    "# check that the number of clusters in the partitions are the expected ones\n",
    "_real_k_values = ensemble[\"partition\"].apply(lambda x: np.unique(x).shape[0])\n",
    "display(_real_k_values)\n",
    "assert np.all(ensemble[\"n_clusters\"].values == _real_k_values.values)"
   ]
  },
  {
   "cell_type": "markdown",
   "metadata": {
    "papermill": {
     "duration": 0.08606,
     "end_time": "2021-01-12T06:42:34.028392",
     "exception": false,
     "start_time": "2021-01-12T06:42:33.942332",
     "status": "completed"
    },
    "tags": []
   },
   "source": [
    "### Add clustering quality measures"
   ]
  },
  {
   "cell_type": "code",
   "execution_count": 60,
   "metadata": {
    "papermill": {
     "duration": 1.094883,
     "end_time": "2021-01-12T06:42:35.210173",
     "exception": false,
     "start_time": "2021-01-12T06:42:34.115290",
     "status": "completed"
    },
    "tags": []
   },
   "outputs": [],
   "source": [
    "ensemble = ensemble.assign(\n",
    "    si_score=ensemble[\"partition\"].apply(lambda x: silhouette_score(dist_matrix, x, metric=\"precomputed\")),\n",
    "    ch_score=ensemble[\"partition\"].apply(lambda x: calinski_harabasz_score(data, x)),\n",
    "    db_score=ensemble[\"partition\"].apply(lambda x: davies_bouldin_score(data, x)),\n",
    ")"
   ]
  },
  {
   "cell_type": "code",
   "execution_count": 61,
   "metadata": {
    "papermill": {
     "duration": 0.101513,
     "end_time": "2021-01-12T06:42:35.397442",
     "exception": false,
     "start_time": "2021-01-12T06:42:35.295929",
     "status": "completed"
    },
    "tags": []
   },
   "outputs": [
    {
     "data": {
      "text/plain": [
       "(630, 7)"
      ]
     },
     "execution_count": 61,
     "metadata": {},
     "output_type": "execute_result"
    }
   ],
   "source": [
    "ensemble.shape"
   ]
  },
  {
   "cell_type": "code",
   "execution_count": 62,
   "metadata": {
    "papermill": {
     "duration": 0.110232,
     "end_time": "2021-01-12T06:42:35.594788",
     "exception": false,
     "start_time": "2021-01-12T06:42:35.484556",
     "status": "completed"
    },
    "tags": []
   },
   "outputs": [
    {
     "data": {
      "text/html": [
       "<div>\n",
       "<style scoped>\n",
       "    .dataframe tbody tr th:only-of-type {\n",
       "        vertical-align: middle;\n",
       "    }\n",
       "\n",
       "    .dataframe tbody tr th {\n",
       "        vertical-align: top;\n",
       "    }\n",
       "\n",
       "    .dataframe thead th {\n",
       "        text-align: right;\n",
       "    }\n",
       "</style>\n",
       "<table border=\"1\" class=\"dataframe\">\n",
       "  <thead>\n",
       "    <tr style=\"text-align: right;\">\n",
       "      <th></th>\n",
       "      <th>clusterer_params</th>\n",
       "      <th>partition</th>\n",
       "      <th>n_clusters</th>\n",
       "      <th>delta</th>\n",
       "      <th>si_score</th>\n",
       "      <th>ch_score</th>\n",
       "      <th>db_score</th>\n",
       "    </tr>\n",
       "    <tr>\n",
       "      <th>clusterer_id</th>\n",
       "      <th></th>\n",
       "      <th></th>\n",
       "      <th></th>\n",
       "      <th></th>\n",
       "      <th></th>\n",
       "      <th></th>\n",
       "      <th></th>\n",
       "    </tr>\n",
       "  </thead>\n",
       "  <tbody>\n",
       "    <tr>\n",
       "      <th>DeltaSpectralClustering #0</th>\n",
       "      <td>{'delta': 5.0}</td>\n",
       "      <td>[0.0, 0.0, 0.0, 0.0, 0.0, 0.0, 0.0, 0.0, 0.0, ...</td>\n",
       "      <td>2</td>\n",
       "      <td>5.00</td>\n",
       "      <td>0.242625</td>\n",
       "      <td>128.603203</td>\n",
       "      <td>4.388969</td>\n",
       "    </tr>\n",
       "    <tr>\n",
       "      <th>DeltaSpectralClustering #1</th>\n",
       "      <td>{'delta': 5.0}</td>\n",
       "      <td>[0.0, 0.0, 0.0, 0.0, 0.0, 0.0, 0.0, 0.0, 0.0, ...</td>\n",
       "      <td>2</td>\n",
       "      <td>5.00</td>\n",
       "      <td>0.242625</td>\n",
       "      <td>128.603203</td>\n",
       "      <td>4.388969</td>\n",
       "    </tr>\n",
       "    <tr>\n",
       "      <th>DeltaSpectralClustering #2</th>\n",
       "      <td>{'delta': 5.0}</td>\n",
       "      <td>[1.0, 1.0, 1.0, 1.0, 1.0, 1.0, 1.0, 1.0, 1.0, ...</td>\n",
       "      <td>2</td>\n",
       "      <td>5.00</td>\n",
       "      <td>0.242625</td>\n",
       "      <td>128.603203</td>\n",
       "      <td>4.388969</td>\n",
       "    </tr>\n",
       "    <tr>\n",
       "      <th>DeltaSpectralClustering #3</th>\n",
       "      <td>{'delta': 5.0}</td>\n",
       "      <td>[1.0, 1.0, 1.0, 1.0, 1.0, 1.0, 1.0, 1.0, 1.0, ...</td>\n",
       "      <td>2</td>\n",
       "      <td>5.00</td>\n",
       "      <td>0.242625</td>\n",
       "      <td>128.603203</td>\n",
       "      <td>4.388969</td>\n",
       "    </tr>\n",
       "    <tr>\n",
       "      <th>DeltaSpectralClustering #4</th>\n",
       "      <td>{'delta': 5.0}</td>\n",
       "      <td>[0.0, 0.0, 0.0, 0.0, 0.0, 0.0, 0.0, 0.0, 0.0, ...</td>\n",
       "      <td>2</td>\n",
       "      <td>5.00</td>\n",
       "      <td>0.242625</td>\n",
       "      <td>128.603203</td>\n",
       "      <td>4.388969</td>\n",
       "    </tr>\n",
       "  </tbody>\n",
       "</table>\n",
       "</div>"
      ],
      "text/plain": [
       "                           clusterer_params  \\\n",
       "clusterer_id                                  \n",
       "DeltaSpectralClustering #0   {'delta': 5.0}   \n",
       "DeltaSpectralClustering #1   {'delta': 5.0}   \n",
       "DeltaSpectralClustering #2   {'delta': 5.0}   \n",
       "DeltaSpectralClustering #3   {'delta': 5.0}   \n",
       "DeltaSpectralClustering #4   {'delta': 5.0}   \n",
       "\n",
       "                                                                    partition  \\\n",
       "clusterer_id                                                                    \n",
       "DeltaSpectralClustering #0  [0.0, 0.0, 0.0, 0.0, 0.0, 0.0, 0.0, 0.0, 0.0, ...   \n",
       "DeltaSpectralClustering #1  [0.0, 0.0, 0.0, 0.0, 0.0, 0.0, 0.0, 0.0, 0.0, ...   \n",
       "DeltaSpectralClustering #2  [1.0, 1.0, 1.0, 1.0, 1.0, 1.0, 1.0, 1.0, 1.0, ...   \n",
       "DeltaSpectralClustering #3  [1.0, 1.0, 1.0, 1.0, 1.0, 1.0, 1.0, 1.0, 1.0, ...   \n",
       "DeltaSpectralClustering #4  [0.0, 0.0, 0.0, 0.0, 0.0, 0.0, 0.0, 0.0, 0.0, ...   \n",
       "\n",
       "                            n_clusters delta  si_score    ch_score  db_score  \n",
       "clusterer_id                                                                  \n",
       "DeltaSpectralClustering #0           2  5.00  0.242625  128.603203  4.388969  \n",
       "DeltaSpectralClustering #1           2  5.00  0.242625  128.603203  4.388969  \n",
       "DeltaSpectralClustering #2           2  5.00  0.242625  128.603203  4.388969  \n",
       "DeltaSpectralClustering #3           2  5.00  0.242625  128.603203  4.388969  \n",
       "DeltaSpectralClustering #4           2  5.00  0.242625  128.603203  4.388969  "
      ]
     },
     "execution_count": 62,
     "metadata": {},
     "output_type": "execute_result"
    }
   ],
   "source": [
    "ensemble.head()"
   ]
  },
  {
   "cell_type": "markdown",
   "metadata": {},
   "source": [
    "### Save"
   ]
  },
  {
   "cell_type": "code",
   "execution_count": 63,
   "metadata": {},
   "outputs": [],
   "source": [
    "ensemble.to_pickle(ensemble_file)"
   ]
  },
  {
   "cell_type": "markdown",
   "metadata": {
    "papermill": {
     "duration": 0.088878,
     "end_time": "2021-01-12T06:42:35.771606",
     "exception": false,
     "start_time": "2021-01-12T06:42:35.682728",
     "status": "completed"
    },
    "tags": []
   },
   "source": [
    "# Cluster quality"
   ]
  },
  {
   "cell_type": "code",
   "execution_count": 64,
   "metadata": {
    "papermill": {
     "duration": 0.109476,
     "end_time": "2021-01-12T06:42:35.968308",
     "exception": false,
     "start_time": "2021-01-12T06:42:35.858832",
     "status": "completed"
    },
    "tags": []
   },
   "outputs": [
    {
     "data": {
      "text/html": [
       "<div>\n",
       "<style scoped>\n",
       "    .dataframe tbody tr th:only-of-type {\n",
       "        vertical-align: middle;\n",
       "    }\n",
       "\n",
       "    .dataframe tbody tr th {\n",
       "        vertical-align: top;\n",
       "    }\n",
       "\n",
       "    .dataframe thead th {\n",
       "        text-align: right;\n",
       "    }\n",
       "</style>\n",
       "<table border=\"1\" class=\"dataframe\">\n",
       "  <thead>\n",
       "    <tr style=\"text-align: right;\">\n",
       "      <th></th>\n",
       "      <th></th>\n",
       "      <th>si_score</th>\n",
       "      <th>ch_score</th>\n",
       "      <th>db_score</th>\n",
       "    </tr>\n",
       "    <tr>\n",
       "      <th>n_clusters</th>\n",
       "      <th>delta</th>\n",
       "      <th></th>\n",
       "      <th></th>\n",
       "      <th></th>\n",
       "    </tr>\n",
       "  </thead>\n",
       "  <tbody>\n",
       "    <tr>\n",
       "      <th rowspan=\"9\" valign=\"top\">2</th>\n",
       "      <th>0.20</th>\n",
       "      <td>0.427525</td>\n",
       "      <td>154.143308</td>\n",
       "      <td>1.263226</td>\n",
       "    </tr>\n",
       "    <tr>\n",
       "      <th>0.25</th>\n",
       "      <td>0.428439</td>\n",
       "      <td>152.424146</td>\n",
       "      <td>1.250389</td>\n",
       "    </tr>\n",
       "    <tr>\n",
       "      <th>0.30</th>\n",
       "      <td>0.428439</td>\n",
       "      <td>152.424146</td>\n",
       "      <td>1.250389</td>\n",
       "    </tr>\n",
       "    <tr>\n",
       "      <th>0.50</th>\n",
       "      <td>0.263322</td>\n",
       "      <td>142.674384</td>\n",
       "      <td>3.950004</td>\n",
       "    </tr>\n",
       "    <tr>\n",
       "      <th>0.75</th>\n",
       "      <td>0.252516</td>\n",
       "      <td>135.887281</td>\n",
       "      <td>4.174068</td>\n",
       "    </tr>\n",
       "    <tr>\n",
       "      <th>0.90</th>\n",
       "      <td>0.249902</td>\n",
       "      <td>133.875775</td>\n",
       "      <td>4.232265</td>\n",
       "    </tr>\n",
       "    <tr>\n",
       "      <th>1.00</th>\n",
       "      <td>0.248749</td>\n",
       "      <td>133.180946</td>\n",
       "      <td>4.253231</td>\n",
       "    </tr>\n",
       "    <tr>\n",
       "      <th>2.00</th>\n",
       "      <td>0.244404</td>\n",
       "      <td>130.185128</td>\n",
       "      <td>4.343579</td>\n",
       "    </tr>\n",
       "    <tr>\n",
       "      <th>5.00</th>\n",
       "      <td>0.242625</td>\n",
       "      <td>128.603203</td>\n",
       "      <td>4.388969</td>\n",
       "    </tr>\n",
       "    <tr>\n",
       "      <th rowspan=\"9\" valign=\"top\">4</th>\n",
       "      <th>0.20</th>\n",
       "      <td>0.382459</td>\n",
       "      <td>67.820186</td>\n",
       "      <td>1.166453</td>\n",
       "    </tr>\n",
       "    <tr>\n",
       "      <th>0.25</th>\n",
       "      <td>0.383548</td>\n",
       "      <td>73.579195</td>\n",
       "      <td>1.148600</td>\n",
       "    </tr>\n",
       "    <tr>\n",
       "      <th>0.30</th>\n",
       "      <td>0.424656</td>\n",
       "      <td>66.931803</td>\n",
       "      <td>1.513232</td>\n",
       "    </tr>\n",
       "    <tr>\n",
       "      <th>0.50</th>\n",
       "      <td>0.199576</td>\n",
       "      <td>90.532883</td>\n",
       "      <td>5.373453</td>\n",
       "    </tr>\n",
       "    <tr>\n",
       "      <th>0.75</th>\n",
       "      <td>0.184060</td>\n",
       "      <td>88.174078</td>\n",
       "      <td>5.726250</td>\n",
       "    </tr>\n",
       "    <tr>\n",
       "      <th>0.90</th>\n",
       "      <td>0.183101</td>\n",
       "      <td>86.786571</td>\n",
       "      <td>5.808677</td>\n",
       "    </tr>\n",
       "    <tr>\n",
       "      <th>1.00</th>\n",
       "      <td>0.180977</td>\n",
       "      <td>85.882271</td>\n",
       "      <td>5.945111</td>\n",
       "    </tr>\n",
       "    <tr>\n",
       "      <th>2.00</th>\n",
       "      <td>0.180781</td>\n",
       "      <td>82.563508</td>\n",
       "      <td>6.089100</td>\n",
       "    </tr>\n",
       "    <tr>\n",
       "      <th>5.00</th>\n",
       "      <td>0.180488</td>\n",
       "      <td>82.101894</td>\n",
       "      <td>6.106092</td>\n",
       "    </tr>\n",
       "    <tr>\n",
       "      <th rowspan=\"9\" valign=\"top\">6</th>\n",
       "      <th>0.20</th>\n",
       "      <td>0.278484</td>\n",
       "      <td>64.768133</td>\n",
       "      <td>2.131058</td>\n",
       "    </tr>\n",
       "    <tr>\n",
       "      <th>0.25</th>\n",
       "      <td>0.277664</td>\n",
       "      <td>65.041097</td>\n",
       "      <td>2.157278</td>\n",
       "    </tr>\n",
       "    <tr>\n",
       "      <th>0.30</th>\n",
       "      <td>0.276948</td>\n",
       "      <td>62.959933</td>\n",
       "      <td>2.258413</td>\n",
       "    </tr>\n",
       "    <tr>\n",
       "      <th>0.50</th>\n",
       "      <td>0.064235</td>\n",
       "      <td>58.252583</td>\n",
       "      <td>15.053707</td>\n",
       "    </tr>\n",
       "    <tr>\n",
       "      <th>0.75</th>\n",
       "      <td>0.068344</td>\n",
       "      <td>54.058648</td>\n",
       "      <td>16.562424</td>\n",
       "    </tr>\n",
       "    <tr>\n",
       "      <th>0.90</th>\n",
       "      <td>0.068433</td>\n",
       "      <td>53.718184</td>\n",
       "      <td>16.563627</td>\n",
       "    </tr>\n",
       "    <tr>\n",
       "      <th>1.00</th>\n",
       "      <td>0.068581</td>\n",
       "      <td>53.373439</td>\n",
       "      <td>16.584230</td>\n",
       "    </tr>\n",
       "    <tr>\n",
       "      <th>2.00</th>\n",
       "      <td>0.069271</td>\n",
       "      <td>50.674020</td>\n",
       "      <td>16.551476</td>\n",
       "    </tr>\n",
       "    <tr>\n",
       "      <th>5.00</th>\n",
       "      <td>0.069425</td>\n",
       "      <td>49.907354</td>\n",
       "      <td>16.652268</td>\n",
       "    </tr>\n",
       "    <tr>\n",
       "      <th rowspan=\"9\" valign=\"top\">8</th>\n",
       "      <th>0.20</th>\n",
       "      <td>0.374526</td>\n",
       "      <td>56.197349</td>\n",
       "      <td>1.711392</td>\n",
       "    </tr>\n",
       "    <tr>\n",
       "      <th>0.25</th>\n",
       "      <td>0.378640</td>\n",
       "      <td>54.811376</td>\n",
       "      <td>1.561313</td>\n",
       "    </tr>\n",
       "    <tr>\n",
       "      <th>0.30</th>\n",
       "      <td>0.235342</td>\n",
       "      <td>56.702628</td>\n",
       "      <td>2.401609</td>\n",
       "    </tr>\n",
       "    <tr>\n",
       "      <th>0.50</th>\n",
       "      <td>0.076589</td>\n",
       "      <td>51.384274</td>\n",
       "      <td>14.019482</td>\n",
       "    </tr>\n",
       "    <tr>\n",
       "      <th>0.75</th>\n",
       "      <td>0.075782</td>\n",
       "      <td>50.315566</td>\n",
       "      <td>14.109908</td>\n",
       "    </tr>\n",
       "    <tr>\n",
       "      <th>0.90</th>\n",
       "      <td>0.071693</td>\n",
       "      <td>40.669771</td>\n",
       "      <td>15.791255</td>\n",
       "    </tr>\n",
       "    <tr>\n",
       "      <th>1.00</th>\n",
       "      <td>0.070781</td>\n",
       "      <td>40.237362</td>\n",
       "      <td>15.693195</td>\n",
       "    </tr>\n",
       "    <tr>\n",
       "      <th>2.00</th>\n",
       "      <td>0.072265</td>\n",
       "      <td>38.514346</td>\n",
       "      <td>15.897169</td>\n",
       "    </tr>\n",
       "    <tr>\n",
       "      <th>5.00</th>\n",
       "      <td>0.072009</td>\n",
       "      <td>38.011595</td>\n",
       "      <td>15.929076</td>\n",
       "    </tr>\n",
       "    <tr>\n",
       "      <th rowspan=\"9\" valign=\"top\">10</th>\n",
       "      <th>0.20</th>\n",
       "      <td>0.357620</td>\n",
       "      <td>49.232282</td>\n",
       "      <td>1.499271</td>\n",
       "    </tr>\n",
       "    <tr>\n",
       "      <th>0.25</th>\n",
       "      <td>0.222965</td>\n",
       "      <td>49.140634</td>\n",
       "      <td>2.203900</td>\n",
       "    </tr>\n",
       "    <tr>\n",
       "      <th>0.30</th>\n",
       "      <td>0.246032</td>\n",
       "      <td>50.821559</td>\n",
       "      <td>2.592345</td>\n",
       "    </tr>\n",
       "    <tr>\n",
       "      <th>0.50</th>\n",
       "      <td>0.079614</td>\n",
       "      <td>39.077950</td>\n",
       "      <td>14.138487</td>\n",
       "    </tr>\n",
       "    <tr>\n",
       "      <th>0.75</th>\n",
       "      <td>0.076941</td>\n",
       "      <td>38.930533</td>\n",
       "      <td>13.670217</td>\n",
       "    </tr>\n",
       "    <tr>\n",
       "      <th>0.90</th>\n",
       "      <td>0.077102</td>\n",
       "      <td>38.848807</td>\n",
       "      <td>13.686147</td>\n",
       "    </tr>\n",
       "    <tr>\n",
       "      <th>1.00</th>\n",
       "      <td>0.076801</td>\n",
       "      <td>38.820031</td>\n",
       "      <td>13.711908</td>\n",
       "    </tr>\n",
       "    <tr>\n",
       "      <th>2.00</th>\n",
       "      <td>0.072286</td>\n",
       "      <td>31.560557</td>\n",
       "      <td>14.741388</td>\n",
       "    </tr>\n",
       "    <tr>\n",
       "      <th>5.00</th>\n",
       "      <td>0.072967</td>\n",
       "      <td>29.827952</td>\n",
       "      <td>14.854868</td>\n",
       "    </tr>\n",
       "    <tr>\n",
       "      <th rowspan=\"9\" valign=\"top\">12</th>\n",
       "      <th>0.20</th>\n",
       "      <td>0.227325</td>\n",
       "      <td>45.107724</td>\n",
       "      <td>1.937543</td>\n",
       "    </tr>\n",
       "    <tr>\n",
       "      <th>0.25</th>\n",
       "      <td>0.237612</td>\n",
       "      <td>43.663642</td>\n",
       "      <td>1.877258</td>\n",
       "    </tr>\n",
       "    <tr>\n",
       "      <th>0.30</th>\n",
       "      <td>0.163992</td>\n",
       "      <td>43.508880</td>\n",
       "      <td>4.376077</td>\n",
       "    </tr>\n",
       "    <tr>\n",
       "      <th>0.50</th>\n",
       "      <td>0.083869</td>\n",
       "      <td>34.845082</td>\n",
       "      <td>12.636575</td>\n",
       "    </tr>\n",
       "    <tr>\n",
       "      <th>0.75</th>\n",
       "      <td>0.079932</td>\n",
       "      <td>32.210755</td>\n",
       "      <td>13.712973</td>\n",
       "    </tr>\n",
       "    <tr>\n",
       "      <th>0.90</th>\n",
       "      <td>0.079344</td>\n",
       "      <td>32.175842</td>\n",
       "      <td>13.693940</td>\n",
       "    </tr>\n",
       "    <tr>\n",
       "      <th>1.00</th>\n",
       "      <td>0.079175</td>\n",
       "      <td>32.105141</td>\n",
       "      <td>13.673481</td>\n",
       "    </tr>\n",
       "    <tr>\n",
       "      <th>2.00</th>\n",
       "      <td>0.078788</td>\n",
       "      <td>31.875609</td>\n",
       "      <td>13.633692</td>\n",
       "    </tr>\n",
       "    <tr>\n",
       "      <th>5.00</th>\n",
       "      <td>0.080214</td>\n",
       "      <td>30.922872</td>\n",
       "      <td>13.685953</td>\n",
       "    </tr>\n",
       "    <tr>\n",
       "      <th rowspan=\"9\" valign=\"top\">14</th>\n",
       "      <th>0.20</th>\n",
       "      <td>0.274823</td>\n",
       "      <td>39.828880</td>\n",
       "      <td>1.269014</td>\n",
       "    </tr>\n",
       "    <tr>\n",
       "      <th>0.25</th>\n",
       "      <td>0.238917</td>\n",
       "      <td>40.153075</td>\n",
       "      <td>1.791218</td>\n",
       "    </tr>\n",
       "    <tr>\n",
       "      <th>0.30</th>\n",
       "      <td>0.141021</td>\n",
       "      <td>39.601029</td>\n",
       "      <td>4.626385</td>\n",
       "    </tr>\n",
       "    <tr>\n",
       "      <th>0.50</th>\n",
       "      <td>0.085860</td>\n",
       "      <td>30.136598</td>\n",
       "      <td>12.723231</td>\n",
       "    </tr>\n",
       "    <tr>\n",
       "      <th>0.75</th>\n",
       "      <td>0.085094</td>\n",
       "      <td>28.642324</td>\n",
       "      <td>13.085111</td>\n",
       "    </tr>\n",
       "    <tr>\n",
       "      <th>0.90</th>\n",
       "      <td>0.084411</td>\n",
       "      <td>28.555769</td>\n",
       "      <td>13.084284</td>\n",
       "    </tr>\n",
       "    <tr>\n",
       "      <th>1.00</th>\n",
       "      <td>0.084417</td>\n",
       "      <td>28.478891</td>\n",
       "      <td>13.092148</td>\n",
       "    </tr>\n",
       "    <tr>\n",
       "      <th>2.00</th>\n",
       "      <td>0.082363</td>\n",
       "      <td>27.578013</td>\n",
       "      <td>13.389443</td>\n",
       "    </tr>\n",
       "    <tr>\n",
       "      <th>5.00</th>\n",
       "      <td>0.084238</td>\n",
       "      <td>27.015565</td>\n",
       "      <td>13.539134</td>\n",
       "    </tr>\n",
       "    <tr>\n",
       "      <th rowspan=\"9\" valign=\"top\">16</th>\n",
       "      <th>0.20</th>\n",
       "      <td>0.211533</td>\n",
       "      <td>37.579692</td>\n",
       "      <td>1.662810</td>\n",
       "    </tr>\n",
       "    <tr>\n",
       "      <th>0.25</th>\n",
       "      <td>0.232423</td>\n",
       "      <td>37.331435</td>\n",
       "      <td>1.669274</td>\n",
       "    </tr>\n",
       "    <tr>\n",
       "      <th>0.30</th>\n",
       "      <td>0.162359</td>\n",
       "      <td>36.227366</td>\n",
       "      <td>3.981769</td>\n",
       "    </tr>\n",
       "    <tr>\n",
       "      <th>0.50</th>\n",
       "      <td>0.100239</td>\n",
       "      <td>26.629773</td>\n",
       "      <td>12.627424</td>\n",
       "    </tr>\n",
       "    <tr>\n",
       "      <th>0.75</th>\n",
       "      <td>0.097533</td>\n",
       "      <td>25.156529</td>\n",
       "      <td>13.126085</td>\n",
       "    </tr>\n",
       "    <tr>\n",
       "      <th>0.90</th>\n",
       "      <td>0.097785</td>\n",
       "      <td>25.038066</td>\n",
       "      <td>13.189569</td>\n",
       "    </tr>\n",
       "    <tr>\n",
       "      <th>1.00</th>\n",
       "      <td>0.096574</td>\n",
       "      <td>24.957617</td>\n",
       "      <td>13.167103</td>\n",
       "    </tr>\n",
       "    <tr>\n",
       "      <th>2.00</th>\n",
       "      <td>0.093288</td>\n",
       "      <td>24.623896</td>\n",
       "      <td>13.182650</td>\n",
       "    </tr>\n",
       "    <tr>\n",
       "      <th>5.00</th>\n",
       "      <td>0.096695</td>\n",
       "      <td>24.460794</td>\n",
       "      <td>13.227146</td>\n",
       "    </tr>\n",
       "    <tr>\n",
       "      <th rowspan=\"9\" valign=\"top\">18</th>\n",
       "      <th>0.20</th>\n",
       "      <td>0.212348</td>\n",
       "      <td>35.123145</td>\n",
       "      <td>1.691347</td>\n",
       "    </tr>\n",
       "    <tr>\n",
       "      <th>0.25</th>\n",
       "      <td>0.232169</td>\n",
       "      <td>35.015320</td>\n",
       "      <td>1.699460</td>\n",
       "    </tr>\n",
       "    <tr>\n",
       "      <th>0.30</th>\n",
       "      <td>0.105787</td>\n",
       "      <td>32.882166</td>\n",
       "      <td>5.744594</td>\n",
       "    </tr>\n",
       "    <tr>\n",
       "      <th>0.50</th>\n",
       "      <td>0.107428</td>\n",
       "      <td>24.882300</td>\n",
       "      <td>11.780772</td>\n",
       "    </tr>\n",
       "    <tr>\n",
       "      <th>0.75</th>\n",
       "      <td>0.106236</td>\n",
       "      <td>23.139609</td>\n",
       "      <td>12.680467</td>\n",
       "    </tr>\n",
       "    <tr>\n",
       "      <th>0.90</th>\n",
       "      <td>0.106723</td>\n",
       "      <td>22.331883</td>\n",
       "      <td>12.825450</td>\n",
       "    </tr>\n",
       "    <tr>\n",
       "      <th>1.00</th>\n",
       "      <td>0.106435</td>\n",
       "      <td>22.294952</td>\n",
       "      <td>12.821833</td>\n",
       "    </tr>\n",
       "    <tr>\n",
       "      <th>2.00</th>\n",
       "      <td>0.104013</td>\n",
       "      <td>22.200486</td>\n",
       "      <td>12.787670</td>\n",
       "    </tr>\n",
       "    <tr>\n",
       "      <th>5.00</th>\n",
       "      <td>0.105179</td>\n",
       "      <td>22.212064</td>\n",
       "      <td>12.789088</td>\n",
       "    </tr>\n",
       "    <tr>\n",
       "      <th rowspan=\"9\" valign=\"top\">20</th>\n",
       "      <th>0.20</th>\n",
       "      <td>0.193447</td>\n",
       "      <td>32.014520</td>\n",
       "      <td>1.569379</td>\n",
       "    </tr>\n",
       "    <tr>\n",
       "      <th>0.25</th>\n",
       "      <td>0.220433</td>\n",
       "      <td>32.414591</td>\n",
       "      <td>1.811836</td>\n",
       "    </tr>\n",
       "    <tr>\n",
       "      <th>0.30</th>\n",
       "      <td>0.086999</td>\n",
       "      <td>30.404780</td>\n",
       "      <td>6.637712</td>\n",
       "    </tr>\n",
       "    <tr>\n",
       "      <th>0.50</th>\n",
       "      <td>0.118305</td>\n",
       "      <td>22.996874</td>\n",
       "      <td>11.470786</td>\n",
       "    </tr>\n",
       "    <tr>\n",
       "      <th>0.75</th>\n",
       "      <td>0.113387</td>\n",
       "      <td>21.559983</td>\n",
       "      <td>11.756804</td>\n",
       "    </tr>\n",
       "    <tr>\n",
       "      <th>0.90</th>\n",
       "      <td>0.114656</td>\n",
       "      <td>21.542215</td>\n",
       "      <td>11.871333</td>\n",
       "    </tr>\n",
       "    <tr>\n",
       "      <th>1.00</th>\n",
       "      <td>0.113790</td>\n",
       "      <td>21.392566</td>\n",
       "      <td>11.893345</td>\n",
       "    </tr>\n",
       "    <tr>\n",
       "      <th>2.00</th>\n",
       "      <td>0.111252</td>\n",
       "      <td>20.661366</td>\n",
       "      <td>12.093282</td>\n",
       "    </tr>\n",
       "    <tr>\n",
       "      <th>5.00</th>\n",
       "      <td>0.112082</td>\n",
       "      <td>20.795502</td>\n",
       "      <td>12.124691</td>\n",
       "    </tr>\n",
       "    <tr>\n",
       "      <th rowspan=\"9\" valign=\"top\">25</th>\n",
       "      <th>0.20</th>\n",
       "      <td>0.131826</td>\n",
       "      <td>27.333238</td>\n",
       "      <td>1.690826</td>\n",
       "    </tr>\n",
       "    <tr>\n",
       "      <th>0.25</th>\n",
       "      <td>0.193965</td>\n",
       "      <td>29.084629</td>\n",
       "      <td>2.415360</td>\n",
       "    </tr>\n",
       "    <tr>\n",
       "      <th>0.30</th>\n",
       "      <td>0.092608</td>\n",
       "      <td>26.314170</td>\n",
       "      <td>6.693896</td>\n",
       "    </tr>\n",
       "    <tr>\n",
       "      <th>0.50</th>\n",
       "      <td>0.126170</td>\n",
       "      <td>18.844607</td>\n",
       "      <td>10.553239</td>\n",
       "    </tr>\n",
       "    <tr>\n",
       "      <th>0.75</th>\n",
       "      <td>0.127486</td>\n",
       "      <td>17.898452</td>\n",
       "      <td>10.870049</td>\n",
       "    </tr>\n",
       "    <tr>\n",
       "      <th>0.90</th>\n",
       "      <td>0.125237</td>\n",
       "      <td>17.838832</td>\n",
       "      <td>10.836320</td>\n",
       "    </tr>\n",
       "    <tr>\n",
       "      <th>1.00</th>\n",
       "      <td>0.124675</td>\n",
       "      <td>17.795044</td>\n",
       "      <td>10.853614</td>\n",
       "    </tr>\n",
       "    <tr>\n",
       "      <th>2.00</th>\n",
       "      <td>0.125298</td>\n",
       "      <td>17.761958</td>\n",
       "      <td>10.965358</td>\n",
       "    </tr>\n",
       "    <tr>\n",
       "      <th>5.00</th>\n",
       "      <td>0.123608</td>\n",
       "      <td>17.645053</td>\n",
       "      <td>11.021810</td>\n",
       "    </tr>\n",
       "    <tr>\n",
       "      <th rowspan=\"9\" valign=\"top\">30</th>\n",
       "      <th>0.20</th>\n",
       "      <td>0.126815</td>\n",
       "      <td>24.250211</td>\n",
       "      <td>1.950876</td>\n",
       "    </tr>\n",
       "    <tr>\n",
       "      <th>0.25</th>\n",
       "      <td>0.089549</td>\n",
       "      <td>25.185755</td>\n",
       "      <td>4.222587</td>\n",
       "    </tr>\n",
       "    <tr>\n",
       "      <th>0.30</th>\n",
       "      <td>0.104985</td>\n",
       "      <td>23.007069</td>\n",
       "      <td>7.175590</td>\n",
       "    </tr>\n",
       "    <tr>\n",
       "      <th>0.50</th>\n",
       "      <td>0.132850</td>\n",
       "      <td>17.639172</td>\n",
       "      <td>9.697025</td>\n",
       "    </tr>\n",
       "    <tr>\n",
       "      <th>0.75</th>\n",
       "      <td>0.127478</td>\n",
       "      <td>15.202859</td>\n",
       "      <td>10.446898</td>\n",
       "    </tr>\n",
       "    <tr>\n",
       "      <th>0.90</th>\n",
       "      <td>0.127424</td>\n",
       "      <td>15.118211</td>\n",
       "      <td>10.513999</td>\n",
       "    </tr>\n",
       "    <tr>\n",
       "      <th>1.00</th>\n",
       "      <td>0.125563</td>\n",
       "      <td>15.128434</td>\n",
       "      <td>10.511111</td>\n",
       "    </tr>\n",
       "    <tr>\n",
       "      <th>2.00</th>\n",
       "      <td>0.127814</td>\n",
       "      <td>15.104921</td>\n",
       "      <td>10.476672</td>\n",
       "    </tr>\n",
       "    <tr>\n",
       "      <th>5.00</th>\n",
       "      <td>0.126687</td>\n",
       "      <td>15.007313</td>\n",
       "      <td>10.522113</td>\n",
       "    </tr>\n",
       "    <tr>\n",
       "      <th rowspan=\"9\" valign=\"top\">35</th>\n",
       "      <th>0.20</th>\n",
       "      <td>0.128837</td>\n",
       "      <td>21.860168</td>\n",
       "      <td>2.162066</td>\n",
       "    </tr>\n",
       "    <tr>\n",
       "      <th>0.25</th>\n",
       "      <td>0.085387</td>\n",
       "      <td>22.493330</td>\n",
       "      <td>4.581090</td>\n",
       "    </tr>\n",
       "    <tr>\n",
       "      <th>0.30</th>\n",
       "      <td>0.119132</td>\n",
       "      <td>20.937420</td>\n",
       "      <td>7.128253</td>\n",
       "    </tr>\n",
       "    <tr>\n",
       "      <th>0.50</th>\n",
       "      <td>0.133727</td>\n",
       "      <td>15.603028</td>\n",
       "      <td>9.379740</td>\n",
       "    </tr>\n",
       "    <tr>\n",
       "      <th>0.75</th>\n",
       "      <td>0.140252</td>\n",
       "      <td>13.630373</td>\n",
       "      <td>9.869676</td>\n",
       "    </tr>\n",
       "    <tr>\n",
       "      <th>0.90</th>\n",
       "      <td>0.138798</td>\n",
       "      <td>13.291657</td>\n",
       "      <td>9.993690</td>\n",
       "    </tr>\n",
       "    <tr>\n",
       "      <th>1.00</th>\n",
       "      <td>0.137019</td>\n",
       "      <td>13.219924</td>\n",
       "      <td>10.093321</td>\n",
       "    </tr>\n",
       "    <tr>\n",
       "      <th>2.00</th>\n",
       "      <td>0.134664</td>\n",
       "      <td>13.211372</td>\n",
       "      <td>10.071729</td>\n",
       "    </tr>\n",
       "    <tr>\n",
       "      <th>5.00</th>\n",
       "      <td>0.136409</td>\n",
       "      <td>13.178058</td>\n",
       "      <td>10.035234</td>\n",
       "    </tr>\n",
       "    <tr>\n",
       "      <th rowspan=\"9\" valign=\"top\">40</th>\n",
       "      <th>0.20</th>\n",
       "      <td>0.137961</td>\n",
       "      <td>20.265481</td>\n",
       "      <td>2.523574</td>\n",
       "    </tr>\n",
       "    <tr>\n",
       "      <th>0.25</th>\n",
       "      <td>0.095631</td>\n",
       "      <td>20.162326</td>\n",
       "      <td>5.103307</td>\n",
       "    </tr>\n",
       "    <tr>\n",
       "      <th>0.30</th>\n",
       "      <td>0.125319</td>\n",
       "      <td>18.927951</td>\n",
       "      <td>6.979218</td>\n",
       "    </tr>\n",
       "    <tr>\n",
       "      <th>0.50</th>\n",
       "      <td>0.144838</td>\n",
       "      <td>13.863786</td>\n",
       "      <td>9.170883</td>\n",
       "    </tr>\n",
       "    <tr>\n",
       "      <th>0.75</th>\n",
       "      <td>0.144076</td>\n",
       "      <td>12.449544</td>\n",
       "      <td>9.441395</td>\n",
       "    </tr>\n",
       "    <tr>\n",
       "      <th>0.90</th>\n",
       "      <td>0.142236</td>\n",
       "      <td>11.904866</td>\n",
       "      <td>9.488710</td>\n",
       "    </tr>\n",
       "    <tr>\n",
       "      <th>1.00</th>\n",
       "      <td>0.139658</td>\n",
       "      <td>11.963291</td>\n",
       "      <td>9.453945</td>\n",
       "    </tr>\n",
       "    <tr>\n",
       "      <th>2.00</th>\n",
       "      <td>0.140153</td>\n",
       "      <td>11.822750</td>\n",
       "      <td>9.431818</td>\n",
       "    </tr>\n",
       "    <tr>\n",
       "      <th>5.00</th>\n",
       "      <td>0.139846</td>\n",
       "      <td>11.805755</td>\n",
       "      <td>9.533184</td>\n",
       "    </tr>\n",
       "  </tbody>\n",
       "</table>\n",
       "</div>"
      ],
      "text/plain": [
       "                  si_score    ch_score   db_score\n",
       "n_clusters delta                                 \n",
       "2          0.20   0.427525  154.143308   1.263226\n",
       "           0.25   0.428439  152.424146   1.250389\n",
       "           0.30   0.428439  152.424146   1.250389\n",
       "           0.50   0.263322  142.674384   3.950004\n",
       "           0.75   0.252516  135.887281   4.174068\n",
       "           0.90   0.249902  133.875775   4.232265\n",
       "           1.00   0.248749  133.180946   4.253231\n",
       "           2.00   0.244404  130.185128   4.343579\n",
       "           5.00   0.242625  128.603203   4.388969\n",
       "4          0.20   0.382459   67.820186   1.166453\n",
       "           0.25   0.383548   73.579195   1.148600\n",
       "           0.30   0.424656   66.931803   1.513232\n",
       "           0.50   0.199576   90.532883   5.373453\n",
       "           0.75   0.184060   88.174078   5.726250\n",
       "           0.90   0.183101   86.786571   5.808677\n",
       "           1.00   0.180977   85.882271   5.945111\n",
       "           2.00   0.180781   82.563508   6.089100\n",
       "           5.00   0.180488   82.101894   6.106092\n",
       "6          0.20   0.278484   64.768133   2.131058\n",
       "           0.25   0.277664   65.041097   2.157278\n",
       "           0.30   0.276948   62.959933   2.258413\n",
       "           0.50   0.064235   58.252583  15.053707\n",
       "           0.75   0.068344   54.058648  16.562424\n",
       "           0.90   0.068433   53.718184  16.563627\n",
       "           1.00   0.068581   53.373439  16.584230\n",
       "           2.00   0.069271   50.674020  16.551476\n",
       "           5.00   0.069425   49.907354  16.652268\n",
       "8          0.20   0.374526   56.197349   1.711392\n",
       "           0.25   0.378640   54.811376   1.561313\n",
       "           0.30   0.235342   56.702628   2.401609\n",
       "           0.50   0.076589   51.384274  14.019482\n",
       "           0.75   0.075782   50.315566  14.109908\n",
       "           0.90   0.071693   40.669771  15.791255\n",
       "           1.00   0.070781   40.237362  15.693195\n",
       "           2.00   0.072265   38.514346  15.897169\n",
       "           5.00   0.072009   38.011595  15.929076\n",
       "10         0.20   0.357620   49.232282   1.499271\n",
       "           0.25   0.222965   49.140634   2.203900\n",
       "           0.30   0.246032   50.821559   2.592345\n",
       "           0.50   0.079614   39.077950  14.138487\n",
       "           0.75   0.076941   38.930533  13.670217\n",
       "           0.90   0.077102   38.848807  13.686147\n",
       "           1.00   0.076801   38.820031  13.711908\n",
       "           2.00   0.072286   31.560557  14.741388\n",
       "           5.00   0.072967   29.827952  14.854868\n",
       "12         0.20   0.227325   45.107724   1.937543\n",
       "           0.25   0.237612   43.663642   1.877258\n",
       "           0.30   0.163992   43.508880   4.376077\n",
       "           0.50   0.083869   34.845082  12.636575\n",
       "           0.75   0.079932   32.210755  13.712973\n",
       "           0.90   0.079344   32.175842  13.693940\n",
       "           1.00   0.079175   32.105141  13.673481\n",
       "           2.00   0.078788   31.875609  13.633692\n",
       "           5.00   0.080214   30.922872  13.685953\n",
       "14         0.20   0.274823   39.828880   1.269014\n",
       "           0.25   0.238917   40.153075   1.791218\n",
       "           0.30   0.141021   39.601029   4.626385\n",
       "           0.50   0.085860   30.136598  12.723231\n",
       "           0.75   0.085094   28.642324  13.085111\n",
       "           0.90   0.084411   28.555769  13.084284\n",
       "           1.00   0.084417   28.478891  13.092148\n",
       "           2.00   0.082363   27.578013  13.389443\n",
       "           5.00   0.084238   27.015565  13.539134\n",
       "16         0.20   0.211533   37.579692   1.662810\n",
       "           0.25   0.232423   37.331435   1.669274\n",
       "           0.30   0.162359   36.227366   3.981769\n",
       "           0.50   0.100239   26.629773  12.627424\n",
       "           0.75   0.097533   25.156529  13.126085\n",
       "           0.90   0.097785   25.038066  13.189569\n",
       "           1.00   0.096574   24.957617  13.167103\n",
       "           2.00   0.093288   24.623896  13.182650\n",
       "           5.00   0.096695   24.460794  13.227146\n",
       "18         0.20   0.212348   35.123145   1.691347\n",
       "           0.25   0.232169   35.015320   1.699460\n",
       "           0.30   0.105787   32.882166   5.744594\n",
       "           0.50   0.107428   24.882300  11.780772\n",
       "           0.75   0.106236   23.139609  12.680467\n",
       "           0.90   0.106723   22.331883  12.825450\n",
       "           1.00   0.106435   22.294952  12.821833\n",
       "           2.00   0.104013   22.200486  12.787670\n",
       "           5.00   0.105179   22.212064  12.789088\n",
       "20         0.20   0.193447   32.014520   1.569379\n",
       "           0.25   0.220433   32.414591   1.811836\n",
       "           0.30   0.086999   30.404780   6.637712\n",
       "           0.50   0.118305   22.996874  11.470786\n",
       "           0.75   0.113387   21.559983  11.756804\n",
       "           0.90   0.114656   21.542215  11.871333\n",
       "           1.00   0.113790   21.392566  11.893345\n",
       "           2.00   0.111252   20.661366  12.093282\n",
       "           5.00   0.112082   20.795502  12.124691\n",
       "25         0.20   0.131826   27.333238   1.690826\n",
       "           0.25   0.193965   29.084629   2.415360\n",
       "           0.30   0.092608   26.314170   6.693896\n",
       "           0.50   0.126170   18.844607  10.553239\n",
       "           0.75   0.127486   17.898452  10.870049\n",
       "           0.90   0.125237   17.838832  10.836320\n",
       "           1.00   0.124675   17.795044  10.853614\n",
       "           2.00   0.125298   17.761958  10.965358\n",
       "           5.00   0.123608   17.645053  11.021810\n",
       "30         0.20   0.126815   24.250211   1.950876\n",
       "           0.25   0.089549   25.185755   4.222587\n",
       "           0.30   0.104985   23.007069   7.175590\n",
       "           0.50   0.132850   17.639172   9.697025\n",
       "           0.75   0.127478   15.202859  10.446898\n",
       "           0.90   0.127424   15.118211  10.513999\n",
       "           1.00   0.125563   15.128434  10.511111\n",
       "           2.00   0.127814   15.104921  10.476672\n",
       "           5.00   0.126687   15.007313  10.522113\n",
       "35         0.20   0.128837   21.860168   2.162066\n",
       "           0.25   0.085387   22.493330   4.581090\n",
       "           0.30   0.119132   20.937420   7.128253\n",
       "           0.50   0.133727   15.603028   9.379740\n",
       "           0.75   0.140252   13.630373   9.869676\n",
       "           0.90   0.138798   13.291657   9.993690\n",
       "           1.00   0.137019   13.219924  10.093321\n",
       "           2.00   0.134664   13.211372  10.071729\n",
       "           5.00   0.136409   13.178058  10.035234\n",
       "40         0.20   0.137961   20.265481   2.523574\n",
       "           0.25   0.095631   20.162326   5.103307\n",
       "           0.30   0.125319   18.927951   6.979218\n",
       "           0.50   0.144838   13.863786   9.170883\n",
       "           0.75   0.144076   12.449544   9.441395\n",
       "           0.90   0.142236   11.904866   9.488710\n",
       "           1.00   0.139658   11.963291   9.453945\n",
       "           2.00   0.140153   11.822750   9.431818\n",
       "           5.00   0.139846   11.805755   9.533184"
      ]
     },
     "metadata": {},
     "output_type": "display_data"
    }
   ],
   "source": [
    "with pd.option_context(\"display.max_rows\", None, \"display.max_columns\", None):\n",
    "    _df = ensemble.groupby([\"n_clusters\", \"delta\"]).mean()\n",
    "    display(_df)"
   ]
  },
  {
   "cell_type": "code",
   "execution_count": 65,
   "metadata": {
    "papermill": {
     "duration": 2.006837,
     "end_time": "2021-01-12T06:42:38.064223",
     "exception": false,
     "start_time": "2021-01-12T06:42:36.057386",
     "status": "completed"
    },
    "tags": []
   },
   "outputs": [
    {
     "data": {
      "image/png": "[encoded data removed]",
      "text/plain": [
       "<Figure size 1008x432 with 1 Axes>"
      ]
     },
     "metadata": {},
     "output_type": "display_data"
    }
   ],
   "source": [
    "with sns.plotting_context(\"talk\", font_scale=0.75), sns.axes_style(\n",
    "    \"whitegrid\", {\"grid.linestyle\": \"--\"}\n",
    "):\n",
    "    fig = plt.figure(figsize=(14, 6))\n",
    "    ax = sns.pointplot(data=ensemble, x=\"n_clusters\", y=\"si_score\", hue=\"delta\")\n",
    "    ax.set_ylabel(\"Silhouette index\\n(higher is better)\")\n",
    "    ax.set_xlabel(\"Number of clusters ($k$)\")\n",
    "    ax.set_xticklabels(ax.get_xticklabels(), rotation=45)\n",
    "    plt.grid(True)\n",
    "    plt.tight_layout()"
   ]
  },
  {
   "cell_type": "code",
   "execution_count": 66,
   "metadata": {
    "papermill": {
     "duration": 2.006837,
     "end_time": "2021-01-12T06:42:38.064223",
     "exception": false,
     "start_time": "2021-01-12T06:42:36.057386",
     "status": "completed"
    },
    "tags": []
   },
   "outputs": [
    {
     "data": {
      "image/png": "[encoded data removed]",
      "text/plain": [
       "<Figure size 1008x432 with 1 Axes>"
      ]
     },
     "metadata": {},
     "output_type": "display_data"
    }
   ],
   "source": [
    "with sns.plotting_context(\"talk\", font_scale=0.75), sns.axes_style(\n",
    "    \"whitegrid\", {\"grid.linestyle\": \"--\"}\n",
    "):\n",
    "    fig = plt.figure(figsize=(14, 6))\n",
    "    ax = sns.pointplot(data=ensemble, x=\"n_clusters\", y=\"ch_score\", hue=\"delta\")\n",
    "    ax.set_ylabel(\"Calinski-Harabasz index\\n(higher is better)\")\n",
    "    ax.set_xlabel(\"Number of clusters ($k$)\")\n",
    "    ax.set_xticklabels(ax.get_xticklabels(), rotation=45)\n",
    "    plt.grid(True)\n",
    "    plt.tight_layout()"
   ]
  },
  {
   "cell_type": "code",
   "execution_count": 67,
   "metadata": {
    "papermill": {
     "duration": 2.006837,
     "end_time": "2021-01-12T06:42:38.064223",
     "exception": false,
     "start_time": "2021-01-12T06:42:36.057386",
     "status": "completed"
    },
    "tags": []
   },
   "outputs": [
    {
     "data": {
      "image/png": "[encoded data removed]",
      "text/plain": [
       "<Figure size 1008x432 with 1 Axes>"
      ]
     },
     "metadata": {},
     "output_type": "display_data"
    }
   ],
   "source": [
    "with sns.plotting_context(\"talk\", font_scale=0.75), sns.axes_style(\n",
    "    \"whitegrid\", {\"grid.linestyle\": \"--\"}\n",
    "):\n",
    "    fig = plt.figure(figsize=(14, 6))\n",
    "    ax = sns.pointplot(data=ensemble, x=\"n_clusters\", y=\"db_score\", hue=\"delta\")\n",
    "    ax.set_ylabel(\"Davies-Bouldin index\\n(lower is better)\")\n",
    "    ax.set_xlabel(\"Number of clusters ($k$)\")\n",
    "    ax.set_xticklabels(ax.get_xticklabels(), rotation=45)\n",
    "    plt.grid(True)\n",
    "    plt.tight_layout()"
   ]
  },
  {
   "cell_type": "markdown",
   "metadata": {
    "papermill": {
     "duration": 0.090042,
     "end_time": "2021-01-12T06:42:38.245007",
     "exception": false,
     "start_time": "2021-01-12T06:42:38.154965",
     "status": "completed"
    },
    "tags": []
   },
   "source": [
    "# Stability"
   ]
  },
  {
   "cell_type": "markdown",
   "metadata": {
    "papermill": {
     "duration": 0.09019,
     "end_time": "2021-01-12T06:42:38.424343",
     "exception": false,
     "start_time": "2021-01-12T06:42:38.334153",
     "status": "completed"
    },
    "tags": []
   },
   "source": [
    "## Group ensemble by n_clusters"
   ]
  },
  {
   "cell_type": "code",
   "execution_count": 68,
   "metadata": {
    "papermill": {
     "duration": 0.120996,
     "end_time": "2021-01-12T06:42:38.635147",
     "exception": false,
     "start_time": "2021-01-12T06:42:38.514151",
     "status": "completed"
    },
    "tags": []
   },
   "outputs": [],
   "source": [
    "parts = ensemble.groupby([\"delta\", \"n_clusters\"]).apply(\n",
    "    lambda x: np.concatenate(x[\"partition\"].apply(lambda x: x.reshape(1, -1)), axis=0)\n",
    ")"
   ]
  },
  {
   "cell_type": "code",
   "execution_count": 69,
   "metadata": {
    "papermill": {
     "duration": 0.10524,
     "end_time": "2021-01-12T06:42:38.829476",
     "exception": false,
     "start_time": "2021-01-12T06:42:38.724236",
     "status": "completed"
    },
    "tags": []
   },
   "outputs": [
    {
     "data": {
      "text/plain": [
       "(126,)"
      ]
     },
     "execution_count": 69,
     "metadata": {},
     "output_type": "execute_result"
    }
   ],
   "source": [
    "parts.shape"
   ]
  },
  {
   "cell_type": "code",
   "execution_count": 70,
   "metadata": {
    "papermill": {
     "duration": 0.1162,
     "end_time": "2021-01-12T06:42:39.037306",
     "exception": false,
     "start_time": "2021-01-12T06:42:38.921106",
     "status": "completed"
    },
    "tags": []
   },
   "outputs": [
    {
     "data": {
      "text/plain": [
       "delta  n_clusters\n",
       "0.20   2             [[0.0, 0.0, 0.0, 0.0, 0.0, 0.0, 0.0, 0.0, 0.0,...\n",
       "       4             [[0.0, 0.0, 0.0, 0.0, 0.0, 0.0, 0.0, 0.0, 0.0,...\n",
       "       6             [[0.0, 0.0, 0.0, 0.0, 0.0, 0.0, 0.0, 0.0, 0.0,...\n",
       "       8             [[0.0, 0.0, 0.0, 0.0, 0.0, 0.0, 0.0, 0.0, 0.0,...\n",
       "       10            [[0.0, 0.0, 0.0, 0.0, 0.0, 0.0, 0.0, 0.0, 0.0,...\n",
       "dtype: object"
      ]
     },
     "execution_count": 70,
     "metadata": {},
     "output_type": "execute_result"
    }
   ],
   "source": [
    "parts.head()"
   ]
  },
  {
   "cell_type": "code",
   "execution_count": 71,
   "metadata": {
    "papermill": {
     "duration": 0.105062,
     "end_time": "2021-01-12T06:42:39.233290",
     "exception": false,
     "start_time": "2021-01-12T06:42:39.128228",
     "status": "completed"
    },
    "tags": []
   },
   "outputs": [
    {
     "data": {
      "text/plain": [
       "(5, 3749)"
      ]
     },
     "execution_count": 71,
     "metadata": {},
     "output_type": "execute_result"
    }
   ],
   "source": [
    "parts.iloc[0].shape"
   ]
  },
  {
   "cell_type": "code",
   "execution_count": 72,
   "metadata": {
    "papermill": {
     "duration": 0.108569,
     "end_time": "2021-01-12T06:42:39.432982",
     "exception": false,
     "start_time": "2021-01-12T06:42:39.324413",
     "status": "completed"
    },
    "tags": []
   },
   "outputs": [],
   "source": [
    "assert np.all(\n",
    "    [\n",
    "        parts.loc[k].shape == (int(CLUSTERING_OPTIONS[\"N_REPS_PER_K\"]), data.shape[0])\n",
    "        for k in parts.index\n",
    "    ]\n",
    ")"
   ]
  },
  {
   "cell_type": "markdown",
   "metadata": {
    "papermill": {
     "duration": 0.090933,
     "end_time": "2021-01-12T06:42:39.614674",
     "exception": false,
     "start_time": "2021-01-12T06:42:39.523741",
     "status": "completed"
    },
    "tags": []
   },
   "source": [
    "## Compute stability"
   ]
  },
  {
   "cell_type": "code",
   "execution_count": 73,
   "metadata": {
    "papermill": {
     "duration": 0.106248,
     "end_time": "2021-01-12T06:42:39.812090",
     "exception": false,
     "start_time": "2021-01-12T06:42:39.705842",
     "status": "completed"
    },
    "tags": []
   },
   "outputs": [],
   "source": [
    "from sklearn.metrics import adjusted_rand_score as ari\n",
    "from scipy.spatial.distance import squareform, pdist"
   ]
  },
  {
   "cell_type": "code",
   "execution_count": 74,
   "metadata": {
    "papermill": {
     "duration": 0.806393,
     "end_time": "2021-01-12T06:42:40.708954",
     "exception": false,
     "start_time": "2021-01-12T06:42:39.902561",
     "status": "completed"
    },
    "tags": []
   },
   "outputs": [],
   "source": [
    "parts_ari = pd.Series(\n",
    "    {k: pdist(parts.loc[k], metric=ari) for k in parts.index}, name=\"n_clusters\"\n",
    ")"
   ]
  },
  {
   "cell_type": "code",
   "execution_count": 75,
   "metadata": {
    "papermill": {
     "duration": 0.108019,
     "end_time": "2021-01-12T06:42:40.908568",
     "exception": false,
     "start_time": "2021-01-12T06:42:40.800549",
     "status": "completed"
    },
    "tags": []
   },
   "outputs": [
    {
     "data": {
      "text/plain": [
       "0.20  2    1.0\n",
       "0.30  2    1.0\n",
       "1.00  2    1.0\n",
       "      4    1.0\n",
       "0.90  4    1.0\n",
       "      2    1.0\n",
       "0.75  6    1.0\n",
       "      4    1.0\n",
       "      2    1.0\n",
       "0.50  4    1.0\n",
       "2.00  2    1.0\n",
       "0.50  2    1.0\n",
       "0.30  8    1.0\n",
       "      4    1.0\n",
       "      6    1.0\n",
       "Name: n_clusters, dtype: float64"
      ]
     },
     "metadata": {},
     "output_type": "display_data"
    }
   ],
   "source": [
    "parts_ari_stability = parts_ari.apply(lambda x: x.mean())\n",
    "display(parts_ari_stability.sort_values(ascending=False).head(15))"
   ]
  },
  {
   "cell_type": "code",
   "execution_count": 76,
   "metadata": {
    "papermill": {
     "duration": 0.107498,
     "end_time": "2021-01-12T06:42:41.106776",
     "exception": false,
     "start_time": "2021-01-12T06:42:40.999278",
     "status": "completed"
    },
    "tags": []
   },
   "outputs": [],
   "source": [
    "parts_ari_df = pd.DataFrame.from_records(parts_ari.tolist()).set_index(\n",
    "    parts_ari.index.copy()\n",
    ")\n",
    "parts_ari_df.index.rename([\"gamma\", \"n_clusters\"], inplace=True)"
   ]
  },
  {
   "cell_type": "code",
   "execution_count": 77,
   "metadata": {
    "papermill": {
     "duration": 0.106004,
     "end_time": "2021-01-12T06:42:41.303782",
     "exception": false,
     "start_time": "2021-01-12T06:42:41.197778",
     "status": "completed"
    },
    "tags": []
   },
   "outputs": [
    {
     "data": {
      "text/plain": [
       "(126, 10)"
      ]
     },
     "execution_count": 77,
     "metadata": {},
     "output_type": "execute_result"
    }
   ],
   "source": [
    "parts_ari_df.shape"
   ]
  },
  {
   "cell_type": "code",
   "execution_count": 78,
   "metadata": {
    "papermill": {
     "duration": 0.106656,
     "end_time": "2021-01-12T06:42:41.502702",
     "exception": false,
     "start_time": "2021-01-12T06:42:41.396046",
     "status": "completed"
    },
    "tags": []
   },
   "outputs": [],
   "source": [
    "_n_total_parts = int(\n",
    "    CLUSTERING_OPTIONS[\"N_REPS_PER_K\"]\n",
    ")  # * len(CLUSTERING_OPTIONS[\"GAMMAS\"]))\n",
    "\n",
    "assert int(_n_total_parts * (_n_total_parts - 1) / 2) == parts_ari_df.shape[1]"
   ]
  },
  {
   "cell_type": "code",
   "execution_count": 79,
   "metadata": {
    "papermill": {
     "duration": 0.113122,
     "end_time": "2021-01-12T06:42:41.707863",
     "exception": false,
     "start_time": "2021-01-12T06:42:41.594741",
     "status": "completed"
    },
    "tags": []
   },
   "outputs": [
    {
     "data": {
      "text/html": [
       "<div>\n",
       "<style scoped>\n",
       "    .dataframe tbody tr th:only-of-type {\n",
       "        vertical-align: middle;\n",
       "    }\n",
       "\n",
       "    .dataframe tbody tr th {\n",
       "        vertical-align: top;\n",
       "    }\n",
       "\n",
       "    .dataframe thead th {\n",
       "        text-align: right;\n",
       "    }\n",
       "</style>\n",
       "<table border=\"1\" class=\"dataframe\">\n",
       "  <thead>\n",
       "    <tr style=\"text-align: right;\">\n",
       "      <th></th>\n",
       "      <th></th>\n",
       "      <th>0</th>\n",
       "      <th>1</th>\n",
       "      <th>2</th>\n",
       "      <th>3</th>\n",
       "      <th>4</th>\n",
       "      <th>5</th>\n",
       "      <th>6</th>\n",
       "      <th>7</th>\n",
       "      <th>8</th>\n",
       "      <th>9</th>\n",
       "    </tr>\n",
       "    <tr>\n",
       "      <th>gamma</th>\n",
       "      <th>n_clusters</th>\n",
       "      <th></th>\n",
       "      <th></th>\n",
       "      <th></th>\n",
       "      <th></th>\n",
       "      <th></th>\n",
       "      <th></th>\n",
       "      <th></th>\n",
       "      <th></th>\n",
       "      <th></th>\n",
       "      <th></th>\n",
       "    </tr>\n",
       "  </thead>\n",
       "  <tbody>\n",
       "    <tr>\n",
       "      <th rowspan=\"5\" valign=\"top\">0.20</th>\n",
       "      <th>2</th>\n",
       "      <td>1.0</td>\n",
       "      <td>1.0</td>\n",
       "      <td>1.0</td>\n",
       "      <td>1.0</td>\n",
       "      <td>1.0</td>\n",
       "      <td>1.0</td>\n",
       "      <td>1.0</td>\n",
       "      <td>1.0</td>\n",
       "      <td>1.0</td>\n",
       "      <td>1.0</td>\n",
       "    </tr>\n",
       "    <tr>\n",
       "      <th>4</th>\n",
       "      <td>1.0</td>\n",
       "      <td>1.0</td>\n",
       "      <td>1.0</td>\n",
       "      <td>1.0</td>\n",
       "      <td>1.0</td>\n",
       "      <td>1.0</td>\n",
       "      <td>1.0</td>\n",
       "      <td>1.0</td>\n",
       "      <td>1.0</td>\n",
       "      <td>1.0</td>\n",
       "    </tr>\n",
       "    <tr>\n",
       "      <th>6</th>\n",
       "      <td>1.0</td>\n",
       "      <td>1.0</td>\n",
       "      <td>1.0</td>\n",
       "      <td>1.0</td>\n",
       "      <td>1.0</td>\n",
       "      <td>1.0</td>\n",
       "      <td>1.0</td>\n",
       "      <td>1.0</td>\n",
       "      <td>1.0</td>\n",
       "      <td>1.0</td>\n",
       "    </tr>\n",
       "    <tr>\n",
       "      <th>8</th>\n",
       "      <td>1.0</td>\n",
       "      <td>1.0</td>\n",
       "      <td>1.0</td>\n",
       "      <td>1.0</td>\n",
       "      <td>1.0</td>\n",
       "      <td>1.0</td>\n",
       "      <td>1.0</td>\n",
       "      <td>1.0</td>\n",
       "      <td>1.0</td>\n",
       "      <td>1.0</td>\n",
       "    </tr>\n",
       "    <tr>\n",
       "      <th>10</th>\n",
       "      <td>1.0</td>\n",
       "      <td>1.0</td>\n",
       "      <td>1.0</td>\n",
       "      <td>1.0</td>\n",
       "      <td>1.0</td>\n",
       "      <td>1.0</td>\n",
       "      <td>1.0</td>\n",
       "      <td>1.0</td>\n",
       "      <td>1.0</td>\n",
       "      <td>1.0</td>\n",
       "    </tr>\n",
       "  </tbody>\n",
       "</table>\n",
       "</div>"
      ],
      "text/plain": [
       "                    0    1    2    3    4    5    6    7    8    9\n",
       "gamma n_clusters                                                  \n",
       "0.20  2           1.0  1.0  1.0  1.0  1.0  1.0  1.0  1.0  1.0  1.0\n",
       "      4           1.0  1.0  1.0  1.0  1.0  1.0  1.0  1.0  1.0  1.0\n",
       "      6           1.0  1.0  1.0  1.0  1.0  1.0  1.0  1.0  1.0  1.0\n",
       "      8           1.0  1.0  1.0  1.0  1.0  1.0  1.0  1.0  1.0  1.0\n",
       "      10          1.0  1.0  1.0  1.0  1.0  1.0  1.0  1.0  1.0  1.0"
      ]
     },
     "execution_count": 79,
     "metadata": {},
     "output_type": "execute_result"
    }
   ],
   "source": [
    "parts_ari_df.head()"
   ]
  },
  {
   "cell_type": "markdown",
   "metadata": {
    "papermill": {
     "duration": 0.091697,
     "end_time": "2021-01-12T06:42:41.932796",
     "exception": false,
     "start_time": "2021-01-12T06:42:41.841099",
     "status": "completed"
    },
    "tags": []
   },
   "source": [
    "## Stability plot"
   ]
  },
  {
   "cell_type": "code",
   "execution_count": 80,
   "metadata": {
    "papermill": {
     "duration": 0.109198,
     "end_time": "2021-01-12T06:42:42.134813",
     "exception": false,
     "start_time": "2021-01-12T06:42:42.025615",
     "status": "completed"
    },
    "tags": []
   },
   "outputs": [],
   "source": [
    "parts_ari_df_plot = (\n",
    "    parts_ari_df.stack().reset_index().rename(columns={\"level_2\": \"idx\", 0: \"ari\"})\n",
    ")"
   ]
  },
  {
   "cell_type": "code",
   "execution_count": 81,
   "metadata": {
    "papermill": {
     "duration": 0.108312,
     "end_time": "2021-01-12T06:42:42.336065",
     "exception": false,
     "start_time": "2021-01-12T06:42:42.227753",
     "status": "completed"
    },
    "tags": []
   },
   "outputs": [
    {
     "data": {
      "text/plain": [
       "gamma          object\n",
       "n_clusters      int64\n",
       "idx             int64\n",
       "ari           float64\n",
       "dtype: object"
      ]
     },
     "execution_count": 81,
     "metadata": {},
     "output_type": "execute_result"
    }
   ],
   "source": [
    "parts_ari_df_plot.dtypes"
   ]
  },
  {
   "cell_type": "code",
   "execution_count": 82,
   "metadata": {
    "papermill": {
     "duration": 0.111641,
     "end_time": "2021-01-12T06:42:42.540127",
     "exception": false,
     "start_time": "2021-01-12T06:42:42.428486",
     "status": "completed"
    },
    "tags": []
   },
   "outputs": [
    {
     "data": {
      "text/html": [
       "<div>\n",
       "<style scoped>\n",
       "    .dataframe tbody tr th:only-of-type {\n",
       "        vertical-align: middle;\n",
       "    }\n",
       "\n",
       "    .dataframe tbody tr th {\n",
       "        vertical-align: top;\n",
       "    }\n",
       "\n",
       "    .dataframe thead th {\n",
       "        text-align: right;\n",
       "    }\n",
       "</style>\n",
       "<table border=\"1\" class=\"dataframe\">\n",
       "  <thead>\n",
       "    <tr style=\"text-align: right;\">\n",
       "      <th></th>\n",
       "      <th>gamma</th>\n",
       "      <th>n_clusters</th>\n",
       "      <th>idx</th>\n",
       "      <th>ari</th>\n",
       "    </tr>\n",
       "  </thead>\n",
       "  <tbody>\n",
       "    <tr>\n",
       "      <th>0</th>\n",
       "      <td>0.20</td>\n",
       "      <td>2</td>\n",
       "      <td>0</td>\n",
       "      <td>1.0</td>\n",
       "    </tr>\n",
       "    <tr>\n",
       "      <th>1</th>\n",
       "      <td>0.20</td>\n",
       "      <td>2</td>\n",
       "      <td>1</td>\n",
       "      <td>1.0</td>\n",
       "    </tr>\n",
       "    <tr>\n",
       "      <th>2</th>\n",
       "      <td>0.20</td>\n",
       "      <td>2</td>\n",
       "      <td>2</td>\n",
       "      <td>1.0</td>\n",
       "    </tr>\n",
       "    <tr>\n",
       "      <th>3</th>\n",
       "      <td>0.20</td>\n",
       "      <td>2</td>\n",
       "      <td>3</td>\n",
       "      <td>1.0</td>\n",
       "    </tr>\n",
       "    <tr>\n",
       "      <th>4</th>\n",
       "      <td>0.20</td>\n",
       "      <td>2</td>\n",
       "      <td>4</td>\n",
       "      <td>1.0</td>\n",
       "    </tr>\n",
       "  </tbody>\n",
       "</table>\n",
       "</div>"
      ],
      "text/plain": [
       "  gamma  n_clusters  idx  ari\n",
       "0  0.20           2    0  1.0\n",
       "1  0.20           2    1  1.0\n",
       "2  0.20           2    2  1.0\n",
       "3  0.20           2    3  1.0\n",
       "4  0.20           2    4  1.0"
      ]
     },
     "execution_count": 82,
     "metadata": {},
     "output_type": "execute_result"
    }
   ],
   "source": [
    "parts_ari_df_plot.head()"
   ]
  },
  {
   "cell_type": "code",
   "execution_count": 83,
   "metadata": {
    "papermill": {
     "duration": 0.116875,
     "end_time": "2021-01-12T06:42:42.751144",
     "exception": false,
     "start_time": "2021-01-12T06:42:42.634269",
     "status": "completed"
    },
    "tags": []
   },
   "outputs": [
    {
     "data": {
      "text/html": [
       "<div>\n",
       "<style scoped>\n",
       "    .dataframe tbody tr th:only-of-type {\n",
       "        vertical-align: middle;\n",
       "    }\n",
       "\n",
       "    .dataframe tbody tr th {\n",
       "        vertical-align: top;\n",
       "    }\n",
       "\n",
       "    .dataframe thead th {\n",
       "        text-align: right;\n",
       "    }\n",
       "</style>\n",
       "<table border=\"1\" class=\"dataframe\">\n",
       "  <thead>\n",
       "    <tr style=\"text-align: right;\">\n",
       "      <th></th>\n",
       "      <th></th>\n",
       "      <th>idx</th>\n",
       "      <th>ari</th>\n",
       "    </tr>\n",
       "    <tr>\n",
       "      <th>n_clusters</th>\n",
       "      <th>gamma</th>\n",
       "      <th></th>\n",
       "      <th></th>\n",
       "    </tr>\n",
       "  </thead>\n",
       "  <tbody>\n",
       "    <tr>\n",
       "      <th rowspan=\"9\" valign=\"top\">2</th>\n",
       "      <th>0.20</th>\n",
       "      <td>4.5</td>\n",
       "      <td>1.000000</td>\n",
       "    </tr>\n",
       "    <tr>\n",
       "      <th>0.25</th>\n",
       "      <td>4.5</td>\n",
       "      <td>1.000000</td>\n",
       "    </tr>\n",
       "    <tr>\n",
       "      <th>0.30</th>\n",
       "      <td>4.5</td>\n",
       "      <td>1.000000</td>\n",
       "    </tr>\n",
       "    <tr>\n",
       "      <th>0.50</th>\n",
       "      <td>4.5</td>\n",
       "      <td>1.000000</td>\n",
       "    </tr>\n",
       "    <tr>\n",
       "      <th>0.75</th>\n",
       "      <td>4.5</td>\n",
       "      <td>1.000000</td>\n",
       "    </tr>\n",
       "    <tr>\n",
       "      <th>0.90</th>\n",
       "      <td>4.5</td>\n",
       "      <td>1.000000</td>\n",
       "    </tr>\n",
       "    <tr>\n",
       "      <th>1.00</th>\n",
       "      <td>4.5</td>\n",
       "      <td>1.000000</td>\n",
       "    </tr>\n",
       "    <tr>\n",
       "      <th>2.00</th>\n",
       "      <td>4.5</td>\n",
       "      <td>1.000000</td>\n",
       "    </tr>\n",
       "    <tr>\n",
       "      <th>5.00</th>\n",
       "      <td>4.5</td>\n",
       "      <td>1.000000</td>\n",
       "    </tr>\n",
       "    <tr>\n",
       "      <th rowspan=\"9\" valign=\"top\">4</th>\n",
       "      <th>0.20</th>\n",
       "      <td>4.5</td>\n",
       "      <td>1.000000</td>\n",
       "    </tr>\n",
       "    <tr>\n",
       "      <th>0.25</th>\n",
       "      <td>4.5</td>\n",
       "      <td>1.000000</td>\n",
       "    </tr>\n",
       "    <tr>\n",
       "      <th>0.30</th>\n",
       "      <td>4.5</td>\n",
       "      <td>1.000000</td>\n",
       "    </tr>\n",
       "    <tr>\n",
       "      <th>0.50</th>\n",
       "      <td>4.5</td>\n",
       "      <td>1.000000</td>\n",
       "    </tr>\n",
       "    <tr>\n",
       "      <th>0.75</th>\n",
       "      <td>4.5</td>\n",
       "      <td>1.000000</td>\n",
       "    </tr>\n",
       "    <tr>\n",
       "      <th>0.90</th>\n",
       "      <td>4.5</td>\n",
       "      <td>1.000000</td>\n",
       "    </tr>\n",
       "    <tr>\n",
       "      <th>1.00</th>\n",
       "      <td>4.5</td>\n",
       "      <td>1.000000</td>\n",
       "    </tr>\n",
       "    <tr>\n",
       "      <th>2.00</th>\n",
       "      <td>4.5</td>\n",
       "      <td>0.993919</td>\n",
       "    </tr>\n",
       "    <tr>\n",
       "      <th>5.00</th>\n",
       "      <td>4.5</td>\n",
       "      <td>1.000000</td>\n",
       "    </tr>\n",
       "    <tr>\n",
       "      <th rowspan=\"9\" valign=\"top\">6</th>\n",
       "      <th>0.20</th>\n",
       "      <td>4.5</td>\n",
       "      <td>1.000000</td>\n",
       "    </tr>\n",
       "    <tr>\n",
       "      <th>0.25</th>\n",
       "      <td>4.5</td>\n",
       "      <td>1.000000</td>\n",
       "    </tr>\n",
       "    <tr>\n",
       "      <th>0.30</th>\n",
       "      <td>4.5</td>\n",
       "      <td>1.000000</td>\n",
       "    </tr>\n",
       "    <tr>\n",
       "      <th>0.50</th>\n",
       "      <td>4.5</td>\n",
       "      <td>0.996792</td>\n",
       "    </tr>\n",
       "    <tr>\n",
       "      <th>0.75</th>\n",
       "      <td>4.5</td>\n",
       "      <td>1.000000</td>\n",
       "    </tr>\n",
       "    <tr>\n",
       "      <th>0.90</th>\n",
       "      <td>4.5</td>\n",
       "      <td>0.999411</td>\n",
       "    </tr>\n",
       "    <tr>\n",
       "      <th>1.00</th>\n",
       "      <td>4.5</td>\n",
       "      <td>0.995154</td>\n",
       "    </tr>\n",
       "    <tr>\n",
       "      <th>2.00</th>\n",
       "      <td>4.5</td>\n",
       "      <td>0.984092</td>\n",
       "    </tr>\n",
       "    <tr>\n",
       "      <th>5.00</th>\n",
       "      <td>4.5</td>\n",
       "      <td>0.991213</td>\n",
       "    </tr>\n",
       "    <tr>\n",
       "      <th rowspan=\"9\" valign=\"top\">8</th>\n",
       "      <th>0.20</th>\n",
       "      <td>4.5</td>\n",
       "      <td>1.000000</td>\n",
       "    </tr>\n",
       "    <tr>\n",
       "      <th>0.25</th>\n",
       "      <td>4.5</td>\n",
       "      <td>0.999976</td>\n",
       "    </tr>\n",
       "    <tr>\n",
       "      <th>0.30</th>\n",
       "      <td>4.5</td>\n",
       "      <td>1.000000</td>\n",
       "    </tr>\n",
       "    <tr>\n",
       "      <th>0.50</th>\n",
       "      <td>4.5</td>\n",
       "      <td>0.984497</td>\n",
       "    </tr>\n",
       "    <tr>\n",
       "      <th>0.75</th>\n",
       "      <td>4.5</td>\n",
       "      <td>0.982437</td>\n",
       "    </tr>\n",
       "    <tr>\n",
       "      <th>0.90</th>\n",
       "      <td>4.5</td>\n",
       "      <td>0.980833</td>\n",
       "    </tr>\n",
       "    <tr>\n",
       "      <th>1.00</th>\n",
       "      <td>4.5</td>\n",
       "      <td>0.966565</td>\n",
       "    </tr>\n",
       "    <tr>\n",
       "      <th>2.00</th>\n",
       "      <td>4.5</td>\n",
       "      <td>0.993389</td>\n",
       "    </tr>\n",
       "    <tr>\n",
       "      <th>5.00</th>\n",
       "      <td>4.5</td>\n",
       "      <td>0.986965</td>\n",
       "    </tr>\n",
       "    <tr>\n",
       "      <th rowspan=\"9\" valign=\"top\">10</th>\n",
       "      <th>0.20</th>\n",
       "      <td>4.5</td>\n",
       "      <td>1.000000</td>\n",
       "    </tr>\n",
       "    <tr>\n",
       "      <th>0.25</th>\n",
       "      <td>4.5</td>\n",
       "      <td>0.899873</td>\n",
       "    </tr>\n",
       "    <tr>\n",
       "      <th>0.30</th>\n",
       "      <td>4.5</td>\n",
       "      <td>0.998005</td>\n",
       "    </tr>\n",
       "    <tr>\n",
       "      <th>0.50</th>\n",
       "      <td>4.5</td>\n",
       "      <td>0.986723</td>\n",
       "    </tr>\n",
       "    <tr>\n",
       "      <th>0.75</th>\n",
       "      <td>4.5</td>\n",
       "      <td>0.976297</td>\n",
       "    </tr>\n",
       "    <tr>\n",
       "      <th>0.90</th>\n",
       "      <td>4.5</td>\n",
       "      <td>0.979890</td>\n",
       "    </tr>\n",
       "    <tr>\n",
       "      <th>1.00</th>\n",
       "      <td>4.5</td>\n",
       "      <td>0.987266</td>\n",
       "    </tr>\n",
       "    <tr>\n",
       "      <th>2.00</th>\n",
       "      <td>4.5</td>\n",
       "      <td>0.976459</td>\n",
       "    </tr>\n",
       "    <tr>\n",
       "      <th>5.00</th>\n",
       "      <td>4.5</td>\n",
       "      <td>0.977611</td>\n",
       "    </tr>\n",
       "    <tr>\n",
       "      <th rowspan=\"9\" valign=\"top\">12</th>\n",
       "      <th>0.20</th>\n",
       "      <td>4.5</td>\n",
       "      <td>0.985296</td>\n",
       "    </tr>\n",
       "    <tr>\n",
       "      <th>0.25</th>\n",
       "      <td>4.5</td>\n",
       "      <td>0.998916</td>\n",
       "    </tr>\n",
       "    <tr>\n",
       "      <th>0.30</th>\n",
       "      <td>4.5</td>\n",
       "      <td>0.807272</td>\n",
       "    </tr>\n",
       "    <tr>\n",
       "      <th>0.50</th>\n",
       "      <td>4.5</td>\n",
       "      <td>0.995121</td>\n",
       "    </tr>\n",
       "    <tr>\n",
       "      <th>0.75</th>\n",
       "      <td>4.5</td>\n",
       "      <td>0.992760</td>\n",
       "    </tr>\n",
       "    <tr>\n",
       "      <th>0.90</th>\n",
       "      <td>4.5</td>\n",
       "      <td>0.992068</td>\n",
       "    </tr>\n",
       "    <tr>\n",
       "      <th>1.00</th>\n",
       "      <td>4.5</td>\n",
       "      <td>0.993909</td>\n",
       "    </tr>\n",
       "    <tr>\n",
       "      <th>2.00</th>\n",
       "      <td>4.5</td>\n",
       "      <td>0.969995</td>\n",
       "    </tr>\n",
       "    <tr>\n",
       "      <th>5.00</th>\n",
       "      <td>4.5</td>\n",
       "      <td>0.986701</td>\n",
       "    </tr>\n",
       "    <tr>\n",
       "      <th rowspan=\"9\" valign=\"top\">14</th>\n",
       "      <th>0.20</th>\n",
       "      <td>4.5</td>\n",
       "      <td>0.996079</td>\n",
       "    </tr>\n",
       "    <tr>\n",
       "      <th>0.25</th>\n",
       "      <td>4.5</td>\n",
       "      <td>0.998980</td>\n",
       "    </tr>\n",
       "    <tr>\n",
       "      <th>0.30</th>\n",
       "      <td>4.5</td>\n",
       "      <td>0.675522</td>\n",
       "    </tr>\n",
       "    <tr>\n",
       "      <th>0.50</th>\n",
       "      <td>4.5</td>\n",
       "      <td>0.870772</td>\n",
       "    </tr>\n",
       "    <tr>\n",
       "      <th>0.75</th>\n",
       "      <td>4.5</td>\n",
       "      <td>0.988704</td>\n",
       "    </tr>\n",
       "    <tr>\n",
       "      <th>0.90</th>\n",
       "      <td>4.5</td>\n",
       "      <td>0.989760</td>\n",
       "    </tr>\n",
       "    <tr>\n",
       "      <th>1.00</th>\n",
       "      <td>4.5</td>\n",
       "      <td>0.972102</td>\n",
       "    </tr>\n",
       "    <tr>\n",
       "      <th>2.00</th>\n",
       "      <td>4.5</td>\n",
       "      <td>0.884660</td>\n",
       "    </tr>\n",
       "    <tr>\n",
       "      <th>5.00</th>\n",
       "      <td>4.5</td>\n",
       "      <td>0.820064</td>\n",
       "    </tr>\n",
       "    <tr>\n",
       "      <th rowspan=\"9\" valign=\"top\">16</th>\n",
       "      <th>0.20</th>\n",
       "      <td>4.5</td>\n",
       "      <td>0.990620</td>\n",
       "    </tr>\n",
       "    <tr>\n",
       "      <th>0.25</th>\n",
       "      <td>4.5</td>\n",
       "      <td>0.995089</td>\n",
       "    </tr>\n",
       "    <tr>\n",
       "      <th>0.30</th>\n",
       "      <td>4.5</td>\n",
       "      <td>0.747181</td>\n",
       "    </tr>\n",
       "    <tr>\n",
       "      <th>0.50</th>\n",
       "      <td>4.5</td>\n",
       "      <td>0.986218</td>\n",
       "    </tr>\n",
       "    <tr>\n",
       "      <th>0.75</th>\n",
       "      <td>4.5</td>\n",
       "      <td>0.847363</td>\n",
       "    </tr>\n",
       "    <tr>\n",
       "      <th>0.90</th>\n",
       "      <td>4.5</td>\n",
       "      <td>0.863503</td>\n",
       "    </tr>\n",
       "    <tr>\n",
       "      <th>1.00</th>\n",
       "      <td>4.5</td>\n",
       "      <td>0.830640</td>\n",
       "    </tr>\n",
       "    <tr>\n",
       "      <th>2.00</th>\n",
       "      <td>4.5</td>\n",
       "      <td>0.866661</td>\n",
       "    </tr>\n",
       "    <tr>\n",
       "      <th>5.00</th>\n",
       "      <td>4.5</td>\n",
       "      <td>0.861173</td>\n",
       "    </tr>\n",
       "    <tr>\n",
       "      <th rowspan=\"9\" valign=\"top\">18</th>\n",
       "      <th>0.20</th>\n",
       "      <td>4.5</td>\n",
       "      <td>0.967120</td>\n",
       "    </tr>\n",
       "    <tr>\n",
       "      <th>0.25</th>\n",
       "      <td>4.5</td>\n",
       "      <td>0.996188</td>\n",
       "    </tr>\n",
       "    <tr>\n",
       "      <th>0.30</th>\n",
       "      <td>4.5</td>\n",
       "      <td>0.502074</td>\n",
       "    </tr>\n",
       "    <tr>\n",
       "      <th>0.50</th>\n",
       "      <td>4.5</td>\n",
       "      <td>0.847194</td>\n",
       "    </tr>\n",
       "    <tr>\n",
       "      <th>0.75</th>\n",
       "      <td>4.5</td>\n",
       "      <td>0.797804</td>\n",
       "    </tr>\n",
       "    <tr>\n",
       "      <th>0.90</th>\n",
       "      <td>4.5</td>\n",
       "      <td>0.861331</td>\n",
       "    </tr>\n",
       "    <tr>\n",
       "      <th>1.00</th>\n",
       "      <td>4.5</td>\n",
       "      <td>0.861117</td>\n",
       "    </tr>\n",
       "    <tr>\n",
       "      <th>2.00</th>\n",
       "      <td>4.5</td>\n",
       "      <td>0.955990</td>\n",
       "    </tr>\n",
       "    <tr>\n",
       "      <th>5.00</th>\n",
       "      <td>4.5</td>\n",
       "      <td>0.922931</td>\n",
       "    </tr>\n",
       "    <tr>\n",
       "      <th rowspan=\"9\" valign=\"top\">20</th>\n",
       "      <th>0.20</th>\n",
       "      <td>4.5</td>\n",
       "      <td>0.855124</td>\n",
       "    </tr>\n",
       "    <tr>\n",
       "      <th>0.25</th>\n",
       "      <td>4.5</td>\n",
       "      <td>0.974847</td>\n",
       "    </tr>\n",
       "    <tr>\n",
       "      <th>0.30</th>\n",
       "      <td>4.5</td>\n",
       "      <td>0.567486</td>\n",
       "    </tr>\n",
       "    <tr>\n",
       "      <th>0.50</th>\n",
       "      <td>4.5</td>\n",
       "      <td>0.947888</td>\n",
       "    </tr>\n",
       "    <tr>\n",
       "      <th>0.75</th>\n",
       "      <td>4.5</td>\n",
       "      <td>0.888675</td>\n",
       "    </tr>\n",
       "    <tr>\n",
       "      <th>0.90</th>\n",
       "      <td>4.5</td>\n",
       "      <td>0.811565</td>\n",
       "    </tr>\n",
       "    <tr>\n",
       "      <th>1.00</th>\n",
       "      <td>4.5</td>\n",
       "      <td>0.870871</td>\n",
       "    </tr>\n",
       "    <tr>\n",
       "      <th>2.00</th>\n",
       "      <td>4.5</td>\n",
       "      <td>0.821736</td>\n",
       "    </tr>\n",
       "    <tr>\n",
       "      <th>5.00</th>\n",
       "      <td>4.5</td>\n",
       "      <td>0.798859</td>\n",
       "    </tr>\n",
       "    <tr>\n",
       "      <th rowspan=\"9\" valign=\"top\">25</th>\n",
       "      <th>0.20</th>\n",
       "      <td>4.5</td>\n",
       "      <td>0.980165</td>\n",
       "    </tr>\n",
       "    <tr>\n",
       "      <th>0.25</th>\n",
       "      <td>4.5</td>\n",
       "      <td>0.924024</td>\n",
       "    </tr>\n",
       "    <tr>\n",
       "      <th>0.30</th>\n",
       "      <td>4.5</td>\n",
       "      <td>0.499094</td>\n",
       "    </tr>\n",
       "    <tr>\n",
       "      <th>0.50</th>\n",
       "      <td>4.5</td>\n",
       "      <td>0.815098</td>\n",
       "    </tr>\n",
       "    <tr>\n",
       "      <th>0.75</th>\n",
       "      <td>4.5</td>\n",
       "      <td>0.834067</td>\n",
       "    </tr>\n",
       "    <tr>\n",
       "      <th>0.90</th>\n",
       "      <td>4.5</td>\n",
       "      <td>0.775615</td>\n",
       "    </tr>\n",
       "    <tr>\n",
       "      <th>1.00</th>\n",
       "      <td>4.5</td>\n",
       "      <td>0.783037</td>\n",
       "    </tr>\n",
       "    <tr>\n",
       "      <th>2.00</th>\n",
       "      <td>4.5</td>\n",
       "      <td>0.787075</td>\n",
       "    </tr>\n",
       "    <tr>\n",
       "      <th>5.00</th>\n",
       "      <td>4.5</td>\n",
       "      <td>0.794628</td>\n",
       "    </tr>\n",
       "    <tr>\n",
       "      <th rowspan=\"9\" valign=\"top\">30</th>\n",
       "      <th>0.20</th>\n",
       "      <td>4.5</td>\n",
       "      <td>0.859143</td>\n",
       "    </tr>\n",
       "    <tr>\n",
       "      <th>0.25</th>\n",
       "      <td>4.5</td>\n",
       "      <td>0.304671</td>\n",
       "    </tr>\n",
       "    <tr>\n",
       "      <th>0.30</th>\n",
       "      <td>4.5</td>\n",
       "      <td>0.512587</td>\n",
       "    </tr>\n",
       "    <tr>\n",
       "      <th>0.50</th>\n",
       "      <td>4.5</td>\n",
       "      <td>0.811116</td>\n",
       "    </tr>\n",
       "    <tr>\n",
       "      <th>0.75</th>\n",
       "      <td>4.5</td>\n",
       "      <td>0.810547</td>\n",
       "    </tr>\n",
       "    <tr>\n",
       "      <th>0.90</th>\n",
       "      <td>4.5</td>\n",
       "      <td>0.755169</td>\n",
       "    </tr>\n",
       "    <tr>\n",
       "      <th>1.00</th>\n",
       "      <td>4.5</td>\n",
       "      <td>0.782872</td>\n",
       "    </tr>\n",
       "    <tr>\n",
       "      <th>2.00</th>\n",
       "      <td>4.5</td>\n",
       "      <td>0.748817</td>\n",
       "    </tr>\n",
       "    <tr>\n",
       "      <th>5.00</th>\n",
       "      <td>4.5</td>\n",
       "      <td>0.780548</td>\n",
       "    </tr>\n",
       "    <tr>\n",
       "      <th rowspan=\"9\" valign=\"top\">35</th>\n",
       "      <th>0.20</th>\n",
       "      <td>4.5</td>\n",
       "      <td>0.927005</td>\n",
       "    </tr>\n",
       "    <tr>\n",
       "      <th>0.25</th>\n",
       "      <td>4.5</td>\n",
       "      <td>0.360036</td>\n",
       "    </tr>\n",
       "    <tr>\n",
       "      <th>0.30</th>\n",
       "      <td>4.5</td>\n",
       "      <td>0.594149</td>\n",
       "    </tr>\n",
       "    <tr>\n",
       "      <th>0.50</th>\n",
       "      <td>4.5</td>\n",
       "      <td>0.823520</td>\n",
       "    </tr>\n",
       "    <tr>\n",
       "      <th>0.75</th>\n",
       "      <td>4.5</td>\n",
       "      <td>0.820176</td>\n",
       "    </tr>\n",
       "    <tr>\n",
       "      <th>0.90</th>\n",
       "      <td>4.5</td>\n",
       "      <td>0.829968</td>\n",
       "    </tr>\n",
       "    <tr>\n",
       "      <th>1.00</th>\n",
       "      <td>4.5</td>\n",
       "      <td>0.767713</td>\n",
       "    </tr>\n",
       "    <tr>\n",
       "      <th>2.00</th>\n",
       "      <td>4.5</td>\n",
       "      <td>0.799027</td>\n",
       "    </tr>\n",
       "    <tr>\n",
       "      <th>5.00</th>\n",
       "      <td>4.5</td>\n",
       "      <td>0.819577</td>\n",
       "    </tr>\n",
       "    <tr>\n",
       "      <th rowspan=\"9\" valign=\"top\">40</th>\n",
       "      <th>0.20</th>\n",
       "      <td>4.5</td>\n",
       "      <td>0.774045</td>\n",
       "    </tr>\n",
       "    <tr>\n",
       "      <th>0.25</th>\n",
       "      <td>4.5</td>\n",
       "      <td>0.347876</td>\n",
       "    </tr>\n",
       "    <tr>\n",
       "      <th>0.30</th>\n",
       "      <td>4.5</td>\n",
       "      <td>0.756114</td>\n",
       "    </tr>\n",
       "    <tr>\n",
       "      <th>0.50</th>\n",
       "      <td>4.5</td>\n",
       "      <td>0.792539</td>\n",
       "    </tr>\n",
       "    <tr>\n",
       "      <th>0.75</th>\n",
       "      <td>4.5</td>\n",
       "      <td>0.793490</td>\n",
       "    </tr>\n",
       "    <tr>\n",
       "      <th>0.90</th>\n",
       "      <td>4.5</td>\n",
       "      <td>0.774088</td>\n",
       "    </tr>\n",
       "    <tr>\n",
       "      <th>1.00</th>\n",
       "      <td>4.5</td>\n",
       "      <td>0.770442</td>\n",
       "    </tr>\n",
       "    <tr>\n",
       "      <th>2.00</th>\n",
       "      <td>4.5</td>\n",
       "      <td>0.809773</td>\n",
       "    </tr>\n",
       "    <tr>\n",
       "      <th>5.00</th>\n",
       "      <td>4.5</td>\n",
       "      <td>0.768732</td>\n",
       "    </tr>\n",
       "  </tbody>\n",
       "</table>\n",
       "</div>"
      ],
      "text/plain": [
       "                  idx       ari\n",
       "n_clusters gamma               \n",
       "2          0.20   4.5  1.000000\n",
       "           0.25   4.5  1.000000\n",
       "           0.30   4.5  1.000000\n",
       "           0.50   4.5  1.000000\n",
       "           0.75   4.5  1.000000\n",
       "           0.90   4.5  1.000000\n",
       "           1.00   4.5  1.000000\n",
       "           2.00   4.5  1.000000\n",
       "           5.00   4.5  1.000000\n",
       "4          0.20   4.5  1.000000\n",
       "           0.25   4.5  1.000000\n",
       "           0.30   4.5  1.000000\n",
       "           0.50   4.5  1.000000\n",
       "           0.75   4.5  1.000000\n",
       "           0.90   4.5  1.000000\n",
       "           1.00   4.5  1.000000\n",
       "           2.00   4.5  0.993919\n",
       "           5.00   4.5  1.000000\n",
       "6          0.20   4.5  1.000000\n",
       "           0.25   4.5  1.000000\n",
       "           0.30   4.5  1.000000\n",
       "           0.50   4.5  0.996792\n",
       "           0.75   4.5  1.000000\n",
       "           0.90   4.5  0.999411\n",
       "           1.00   4.5  0.995154\n",
       "           2.00   4.5  0.984092\n",
       "           5.00   4.5  0.991213\n",
       "8          0.20   4.5  1.000000\n",
       "           0.25   4.5  0.999976\n",
       "           0.30   4.5  1.000000\n",
       "           0.50   4.5  0.984497\n",
       "           0.75   4.5  0.982437\n",
       "           0.90   4.5  0.980833\n",
       "           1.00   4.5  0.966565\n",
       "           2.00   4.5  0.993389\n",
       "           5.00   4.5  0.986965\n",
       "10         0.20   4.5  1.000000\n",
       "           0.25   4.5  0.899873\n",
       "           0.30   4.5  0.998005\n",
       "           0.50   4.5  0.986723\n",
       "           0.75   4.5  0.976297\n",
       "           0.90   4.5  0.979890\n",
       "           1.00   4.5  0.987266\n",
       "           2.00   4.5  0.976459\n",
       "           5.00   4.5  0.977611\n",
       "12         0.20   4.5  0.985296\n",
       "           0.25   4.5  0.998916\n",
       "           0.30   4.5  0.807272\n",
       "           0.50   4.5  0.995121\n",
       "           0.75   4.5  0.992760\n",
       "           0.90   4.5  0.992068\n",
       "           1.00   4.5  0.993909\n",
       "           2.00   4.5  0.969995\n",
       "           5.00   4.5  0.986701\n",
       "14         0.20   4.5  0.996079\n",
       "           0.25   4.5  0.998980\n",
       "           0.30   4.5  0.675522\n",
       "           0.50   4.5  0.870772\n",
       "           0.75   4.5  0.988704\n",
       "           0.90   4.5  0.989760\n",
       "           1.00   4.5  0.972102\n",
       "           2.00   4.5  0.884660\n",
       "           5.00   4.5  0.820064\n",
       "16         0.20   4.5  0.990620\n",
       "           0.25   4.5  0.995089\n",
       "           0.30   4.5  0.747181\n",
       "           0.50   4.5  0.986218\n",
       "           0.75   4.5  0.847363\n",
       "           0.90   4.5  0.863503\n",
       "           1.00   4.5  0.830640\n",
       "           2.00   4.5  0.866661\n",
       "           5.00   4.5  0.861173\n",
       "18         0.20   4.5  0.967120\n",
       "           0.25   4.5  0.996188\n",
       "           0.30   4.5  0.502074\n",
       "           0.50   4.5  0.847194\n",
       "           0.75   4.5  0.797804\n",
       "           0.90   4.5  0.861331\n",
       "           1.00   4.5  0.861117\n",
       "           2.00   4.5  0.955990\n",
       "           5.00   4.5  0.922931\n",
       "20         0.20   4.5  0.855124\n",
       "           0.25   4.5  0.974847\n",
       "           0.30   4.5  0.567486\n",
       "           0.50   4.5  0.947888\n",
       "           0.75   4.5  0.888675\n",
       "           0.90   4.5  0.811565\n",
       "           1.00   4.5  0.870871\n",
       "           2.00   4.5  0.821736\n",
       "           5.00   4.5  0.798859\n",
       "25         0.20   4.5  0.980165\n",
       "           0.25   4.5  0.924024\n",
       "           0.30   4.5  0.499094\n",
       "           0.50   4.5  0.815098\n",
       "           0.75   4.5  0.834067\n",
       "           0.90   4.5  0.775615\n",
       "           1.00   4.5  0.783037\n",
       "           2.00   4.5  0.787075\n",
       "           5.00   4.5  0.794628\n",
       "30         0.20   4.5  0.859143\n",
       "           0.25   4.5  0.304671\n",
       "           0.30   4.5  0.512587\n",
       "           0.50   4.5  0.811116\n",
       "           0.75   4.5  0.810547\n",
       "           0.90   4.5  0.755169\n",
       "           1.00   4.5  0.782872\n",
       "           2.00   4.5  0.748817\n",
       "           5.00   4.5  0.780548\n",
       "35         0.20   4.5  0.927005\n",
       "           0.25   4.5  0.360036\n",
       "           0.30   4.5  0.594149\n",
       "           0.50   4.5  0.823520\n",
       "           0.75   4.5  0.820176\n",
       "           0.90   4.5  0.829968\n",
       "           1.00   4.5  0.767713\n",
       "           2.00   4.5  0.799027\n",
       "           5.00   4.5  0.819577\n",
       "40         0.20   4.5  0.774045\n",
       "           0.25   4.5  0.347876\n",
       "           0.30   4.5  0.756114\n",
       "           0.50   4.5  0.792539\n",
       "           0.75   4.5  0.793490\n",
       "           0.90   4.5  0.774088\n",
       "           1.00   4.5  0.770442\n",
       "           2.00   4.5  0.809773\n",
       "           5.00   4.5  0.768732"
      ]
     },
     "metadata": {},
     "output_type": "display_data"
    }
   ],
   "source": [
    "with pd.option_context(\"display.max_rows\", None, \"display.max_columns\", None):\n",
    "    _df = parts_ari_df_plot.groupby([\"n_clusters\", \"gamma\"]).mean()\n",
    "    display(_df)"
   ]
  },
  {
   "cell_type": "code",
   "execution_count": 84,
   "metadata": {
    "papermill": {
     "duration": 1.742256,
     "end_time": "2021-01-12T06:42:44.589122",
     "exception": false,
     "start_time": "2021-01-12T06:42:42.846866",
     "status": "completed"
    },
    "tags": []
   },
   "outputs": [
    {
     "data": {
      "image/png": "[encoded data removed]",
      "text/plain": [
       "<Figure size 1008x432 with 1 Axes>"
      ]
     },
     "metadata": {},
     "output_type": "display_data"
    }
   ],
   "source": [
    "with sns.plotting_context(\"talk\", font_scale=0.75), sns.axes_style(\n",
    "    \"whitegrid\", {\"grid.linestyle\": \"--\"}\n",
    "):\n",
    "    fig = plt.figure(figsize=(14, 6))\n",
    "    ax = sns.pointplot(data=parts_ari_df_plot, x=\"n_clusters\", y=\"ari\", hue=\"gamma\")\n",
    "    ax.set_ylabel(\"Averange ARI\")\n",
    "    ax.set_xlabel(\"Number of clusters ($k$)\")\n",
    "    ax.set_xticklabels(ax.get_xticklabels(), rotation=45)\n",
    "    plt.grid(True)\n",
    "    plt.tight_layout()"
   ]
  },
  {
   "cell_type": "markdown",
   "metadata": {
    "papermill": {
     "duration": 0.094783,
     "end_time": "2021-01-12T06:42:44.780069",
     "exception": false,
     "start_time": "2021-01-12T06:42:44.685286",
     "status": "completed"
    },
    "tags": []
   },
   "source": [
    "**CONCLUSION:** the best values for the `delta` parameter seem to be `0.20`, `0.25` and `0.30`. I will also consider `0.50`, since seem to yield potentially good results when `n_clusters` is high (see `umap` results)."
   ]
  },
  {
   "cell_type": "code",
   "execution_count": null,
   "metadata": {
    "papermill": {
     "duration": 0.094139,
     "end_time": "2021-01-12T06:42:44.969401",
     "exception": false,
     "start_time": "2021-01-12T06:42:44.875262",
     "status": "completed"
    },
    "tags": []
   },
   "outputs": [],
   "source": []
  }
 ],
 "metadata": {
  "jupytext": {
   "cell_metadata_filter": "all,-execution,-papermill",
   "formats": "ipynb,py//py:percent"
  },
  "kernelspec": {
   "display_name": "Python 3",
   "language": "python",
   "name": "python3"
  },
  "language_info": {
   "codemirror_mode": {
    "name": "ipython",
    "version": 3
   },
   "file_extension": ".py",
   "mimetype": "text/x-python",
   "name": "python",
   "nbconvert_exporter": "python",
   "pygments_lexer": "ipython3",
   "version": "3.8.6"
  },
  "papermill": {
   "default_parameters": {},
   "duration": 925.26021,
   "end_time": "2021-01-12T06:42:45.570306",
   "environment_variables": {},
   "exception": null,
   "input_path": "15_cluster_analysis/pre_analysis/05_03-spectral_clustering-umap.ipynb",
   "output_path": "15_cluster_analysis/pre_analysis/05_03-spectral_clustering-umap.run.ipynb",
   "parameters": {},
   "start_time": "2021-01-12T06:27:20.310096",
   "version": "2.2.2"
  },
  "toc-autonumbering": true,
  "toc-showcode": false,
  "toc-showmarkdowntxt": false,
  "toc-showtags": false
 },
 "nbformat": 4,
 "nbformat_minor": 4
}
