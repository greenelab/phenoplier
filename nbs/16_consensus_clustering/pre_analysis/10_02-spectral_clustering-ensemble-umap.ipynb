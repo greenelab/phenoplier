{
 "cells": [
  {
   "cell_type": "markdown",
   "metadata": {
    "papermill": {
     "duration": 0.01941,
     "end_time": "2021-01-13T20:20:22.343707",
     "exception": false,
     "start_time": "2021-01-13T20:20:22.324297",
     "status": "completed"
    },
    "tags": []
   },
   "source": [
    "# Description"
   ]
  },
  {
   "cell_type": "markdown",
   "metadata": {
    "papermill": {
     "duration": 0.013242,
     "end_time": "2021-01-13T20:20:22.370629",
     "exception": false,
     "start_time": "2021-01-13T20:20:22.357387",
     "status": "completed"
    },
    "tags": []
   },
   "source": [
    "See description in notebook `10_00-spectral_clustering...`."
   ]
  },
  {
   "cell_type": "markdown",
   "metadata": {
    "papermill": {
     "duration": 0.013502,
     "end_time": "2021-01-13T20:20:22.397458",
     "exception": false,
     "start_time": "2021-01-13T20:20:22.383956",
     "status": "completed"
    },
    "tags": []
   },
   "source": [
    "# Environment variables"
   ]
  },
  {
   "cell_type": "code",
   "execution_count": 1,
   "metadata": {
    "execution": {
     "iopub.execute_input": "2021-01-13T20:20:22.427863Z",
     "iopub.status.busy": "2021-01-13T20:20:22.427478Z",
     "iopub.status.idle": "2021-01-13T20:20:22.438527Z",
     "shell.execute_reply": "2021-01-13T20:20:22.438141Z"
    },
    "papermill": {
     "duration": 0.027718,
     "end_time": "2021-01-13T20:20:22.438653",
     "exception": false,
     "start_time": "2021-01-13T20:20:22.410935",
     "status": "completed"
    },
    "tags": []
   },
   "outputs": [
    {
     "data": {
      "text/plain": [
       "3"
      ]
     },
     "metadata": {},
     "output_type": "display_data"
    }
   ],
   "source": [
    "from IPython.display import display\n",
    "\n",
    "import conf\n",
    "\n",
    "N_JOBS = conf.GENERAL[\"N_JOBS\"]\n",
    "display(N_JOBS)"
   ]
  },
  {
   "cell_type": "code",
   "execution_count": 2,
   "metadata": {
    "execution": {
     "iopub.execute_input": "2021-01-13T20:20:22.472405Z",
     "iopub.status.busy": "2021-01-13T20:20:22.471958Z",
     "iopub.status.idle": "2021-01-13T20:20:22.474109Z",
     "shell.execute_reply": "2021-01-13T20:20:22.474434Z"
    },
    "papermill": {
     "duration": 0.021036,
     "end_time": "2021-01-13T20:20:22.474540",
     "exception": false,
     "start_time": "2021-01-13T20:20:22.453504",
     "status": "completed"
    },
    "tags": []
   },
   "outputs": [
    {
     "name": "stdout",
     "output_type": "stream",
     "text": [
      "env: MKL_NUM_THREADS=3\n",
      "env: OPEN_BLAS_NUM_THREADS=3\n",
      "env: NUMEXPR_NUM_THREADS=3\n",
      "env: OMP_NUM_THREADS=3\n"
     ]
    }
   ],
   "source": [
    "%env MKL_NUM_THREADS=$N_JOBS\n",
    "%env OPEN_BLAS_NUM_THREADS=$N_JOBS\n",
    "%env NUMEXPR_NUM_THREADS=$N_JOBS\n",
    "%env OMP_NUM_THREADS=$N_JOBS"
   ]
  },
  {
   "cell_type": "markdown",
   "metadata": {
    "papermill": {
     "duration": 0.013798,
     "end_time": "2021-01-13T20:20:22.502490",
     "exception": false,
     "start_time": "2021-01-13T20:20:22.488692",
     "status": "completed"
    },
    "tags": []
   },
   "source": [
    "# Modules loading"
   ]
  },
  {
   "cell_type": "code",
   "execution_count": 3,
   "metadata": {
    "execution": {
     "iopub.execute_input": "2021-01-13T20:20:22.533598Z",
     "iopub.status.busy": "2021-01-13T20:20:22.533218Z",
     "iopub.status.idle": "2021-01-13T20:20:22.540992Z",
     "shell.execute_reply": "2021-01-13T20:20:22.540614Z"
    },
    "papermill": {
     "duration": 0.024583,
     "end_time": "2021-01-13T20:20:22.541083",
     "exception": false,
     "start_time": "2021-01-13T20:20:22.516500",
     "status": "completed"
    },
    "tags": []
   },
   "outputs": [],
   "source": [
    "%load_ext autoreload\n",
    "%autoreload 2"
   ]
  },
  {
   "cell_type": "code",
   "execution_count": 4,
   "metadata": {
    "execution": {
     "iopub.execute_input": "2021-01-13T20:20:22.572582Z",
     "iopub.status.busy": "2021-01-13T20:20:22.572216Z",
     "iopub.status.idle": "2021-01-13T20:20:23.134945Z",
     "shell.execute_reply": "2021-01-13T20:20:23.134438Z"
    },
    "papermill": {
     "duration": 0.579208,
     "end_time": "2021-01-13T20:20:23.135061",
     "exception": false,
     "start_time": "2021-01-13T20:20:22.555853",
     "status": "completed"
    },
    "tags": []
   },
   "outputs": [],
   "source": [
    "from pathlib import Path\n",
    "\n",
    "import numpy as np\n",
    "import pandas as pd\n",
    "import matplotlib.pyplot as plt\n",
    "import seaborn as sns\n",
    "\n",
    "from utils import generate_result_set_name"
   ]
  },
  {
   "cell_type": "markdown",
   "metadata": {
    "papermill": {
     "duration": 0.017384,
     "end_time": "2021-01-13T20:20:23.171193",
     "exception": false,
     "start_time": "2021-01-13T20:20:23.153809",
     "status": "completed"
    },
    "tags": []
   },
   "source": [
    "# Settings"
   ]
  },
  {
   "cell_type": "code",
   "execution_count": 5,
   "metadata": {
    "execution": {
     "iopub.execute_input": "2021-01-13T20:20:23.203616Z",
     "iopub.status.busy": "2021-01-13T20:20:23.203247Z",
     "iopub.status.idle": "2021-01-13T20:20:23.213043Z",
     "shell.execute_reply": "2021-01-13T20:20:23.212721Z"
    },
    "papermill": {
     "duration": 0.026443,
     "end_time": "2021-01-13T20:20:23.213137",
     "exception": false,
     "start_time": "2021-01-13T20:20:23.186694",
     "status": "completed"
    },
    "tags": []
   },
   "outputs": [],
   "source": [
    "INITIAL_RANDOM_STATE = 100000"
   ]
  },
  {
   "cell_type": "code",
   "execution_count": 6,
   "metadata": {
    "execution": {
     "iopub.execute_input": "2021-01-13T20:20:23.244308Z",
     "iopub.status.busy": "2021-01-13T20:20:23.243944Z",
     "iopub.status.idle": "2021-01-13T20:20:23.253360Z",
     "shell.execute_reply": "2021-01-13T20:20:23.253032Z"
    },
    "papermill": {
     "duration": 0.025658,
     "end_time": "2021-01-13T20:20:23.253450",
     "exception": false,
     "start_time": "2021-01-13T20:20:23.227792",
     "status": "completed"
    },
    "tags": []
   },
   "outputs": [],
   "source": [
    "CLUSTERING_METHOD_NAME = \"DeltaSpectralClustering\""
   ]
  },
  {
   "cell_type": "code",
   "execution_count": 7,
   "metadata": {
    "execution": {
     "iopub.execute_input": "2021-01-13T20:20:23.286332Z",
     "iopub.status.busy": "2021-01-13T20:20:23.285966Z",
     "iopub.status.idle": "2021-01-13T20:20:23.296496Z",
     "shell.execute_reply": "2021-01-13T20:20:23.296061Z"
    },
    "papermill": {
     "duration": 0.027914,
     "end_time": "2021-01-13T20:20:23.296586",
     "exception": false,
     "start_time": "2021-01-13T20:20:23.268672",
     "status": "completed"
    },
    "tags": []
   },
   "outputs": [
    {
     "data": {
      "text/plain": [
       "PosixPath('/home/miltondp/projects/labs/greenelab/phenoplier/base3/results/clustering/consensus_clustering')"
      ]
     },
     "metadata": {},
     "output_type": "display_data"
    }
   ],
   "source": [
    "# output dir for this notebook\n",
    "CONSENSUS_CLUSTERING_DIR = Path(\n",
    "    conf.RESULTS[\"CLUSTERING_DIR\"], \"consensus_clustering\"\n",
    ").resolve()\n",
    "\n",
    "display(CONSENSUS_CLUSTERING_DIR)"
   ]
  },
  {
   "cell_type": "markdown",
   "metadata": {
    "papermill": {
     "duration": 0.015021,
     "end_time": "2021-01-13T20:20:23.326868",
     "exception": false,
     "start_time": "2021-01-13T20:20:23.311847",
     "status": "completed"
    },
    "tags": []
   },
   "source": [
    "# Load data"
   ]
  },
  {
   "cell_type": "code",
   "execution_count": 8,
   "metadata": {
    "execution": {
     "iopub.execute_input": "2021-01-13T20:20:23.358377Z",
     "iopub.status.busy": "2021-01-13T20:20:23.358015Z",
     "iopub.status.idle": "2021-01-13T20:20:23.367654Z",
     "shell.execute_reply": "2021-01-13T20:20:23.367304Z"
    },
    "papermill": {
     "duration": 0.026373,
     "end_time": "2021-01-13T20:20:23.367743",
     "exception": false,
     "start_time": "2021-01-13T20:20:23.341370",
     "status": "completed"
    },
    "tags": []
   },
   "outputs": [],
   "source": [
    "INPUT_SUBSET = \"umap\""
   ]
  },
  {
   "cell_type": "code",
   "execution_count": 9,
   "metadata": {
    "execution": {
     "iopub.execute_input": "2021-01-13T20:20:23.400120Z",
     "iopub.status.busy": "2021-01-13T20:20:23.399746Z",
     "iopub.status.idle": "2021-01-13T20:20:23.409389Z",
     "shell.execute_reply": "2021-01-13T20:20:23.409062Z"
    },
    "papermill": {
     "duration": 0.026575,
     "end_time": "2021-01-13T20:20:23.409479",
     "exception": false,
     "start_time": "2021-01-13T20:20:23.382904",
     "status": "completed"
    },
    "tags": []
   },
   "outputs": [],
   "source": [
    "INPUT_STEM = \"z_score_std-projection-smultixcan-efo_partial-mashr-zscores\""
   ]
  },
  {
   "cell_type": "code",
   "execution_count": 10,
   "metadata": {
    "execution": {
     "iopub.execute_input": "2021-01-13T20:20:23.442786Z",
     "iopub.status.busy": "2021-01-13T20:20:23.442406Z",
     "iopub.status.idle": "2021-01-13T20:20:23.451858Z",
     "shell.execute_reply": "2021-01-13T20:20:23.451540Z"
    },
    "papermill": {
     "duration": 0.027136,
     "end_time": "2021-01-13T20:20:23.451951",
     "exception": false,
     "start_time": "2021-01-13T20:20:23.424815",
     "status": "completed"
    },
    "tags": []
   },
   "outputs": [],
   "source": [
    "DR_OPTIONS = {\n",
    "    \"n_components\": 50,\n",
    "    \"metric\": \"euclidean\",\n",
    "    \"n_neighbors\": 15,\n",
    "    \"random_state\": 0,\n",
    "}"
   ]
  },
  {
   "cell_type": "code",
   "execution_count": 11,
   "metadata": {
    "execution": {
     "iopub.execute_input": "2021-01-13T20:20:23.486252Z",
     "iopub.status.busy": "2021-01-13T20:20:23.485883Z",
     "iopub.status.idle": "2021-01-13T20:20:23.497617Z",
     "shell.execute_reply": "2021-01-13T20:20:23.497314Z"
    },
    "papermill": {
     "duration": 0.029911,
     "end_time": "2021-01-13T20:20:23.497706",
     "exception": false,
     "start_time": "2021-01-13T20:20:23.467795",
     "status": "completed"
    },
    "tags": []
   },
   "outputs": [
    {
     "data": {
      "text/plain": [
       "PosixPath('/home/miltondp/projects/labs/greenelab/phenoplier/base3/results/data_transformations/umap/umap-z_score_std-projection-smultixcan-efo_partial-mashr-zscores-metric_euclidean-n_components_50-n_neighbors_15-random_state_0.pkl')"
      ]
     },
     "metadata": {},
     "output_type": "display_data"
    },
    {
     "data": {
      "text/plain": [
       "'umap-z_score_std-projection-smultixcan-efo_partial-mashr-zscores-metric_euclidean-n_components_50-n_neighbors_15-random_state_0'"
      ]
     },
     "metadata": {},
     "output_type": "display_data"
    }
   ],
   "source": [
    "input_filepath = Path(\n",
    "    conf.RESULTS[\"DATA_TRANSFORMATIONS_DIR\"],\n",
    "    INPUT_SUBSET,\n",
    "    generate_result_set_name(\n",
    "        DR_OPTIONS, prefix=f\"{INPUT_SUBSET}-{INPUT_STEM}-\", suffix=\".pkl\"\n",
    "    ),\n",
    ").resolve()\n",
    "display(input_filepath)\n",
    "\n",
    "assert input_filepath.exists(), \"Input file does not exist\"\n",
    "\n",
    "input_filepath_stem = input_filepath.stem\n",
    "display(input_filepath_stem)"
   ]
  },
  {
   "cell_type": "code",
   "execution_count": 12,
   "metadata": {
    "execution": {
     "iopub.execute_input": "2021-01-13T20:20:23.531527Z",
     "iopub.status.busy": "2021-01-13T20:20:23.531165Z",
     "iopub.status.idle": "2021-01-13T20:20:23.541744Z",
     "shell.execute_reply": "2021-01-13T20:20:23.542035Z"
    },
    "papermill": {
     "duration": 0.028696,
     "end_time": "2021-01-13T20:20:23.542147",
     "exception": false,
     "start_time": "2021-01-13T20:20:23.513451",
     "status": "completed"
    },
    "tags": []
   },
   "outputs": [],
   "source": [
    "data = pd.read_pickle(input_filepath)"
   ]
  },
  {
   "cell_type": "code",
   "execution_count": 13,
   "metadata": {
    "execution": {
     "iopub.execute_input": "2021-01-13T20:20:23.576953Z",
     "iopub.status.busy": "2021-01-13T20:20:23.576544Z",
     "iopub.status.idle": "2021-01-13T20:20:23.586929Z",
     "shell.execute_reply": "2021-01-13T20:20:23.586550Z"
    },
    "papermill": {
     "duration": 0.028797,
     "end_time": "2021-01-13T20:20:23.587019",
     "exception": false,
     "start_time": "2021-01-13T20:20:23.558222",
     "status": "completed"
    },
    "tags": []
   },
   "outputs": [
    {
     "data": {
      "text/plain": [
       "(3749, 50)"
      ]
     },
     "execution_count": 13,
     "metadata": {},
     "output_type": "execute_result"
    }
   ],
   "source": [
    "data.shape"
   ]
  },
  {
   "cell_type": "code",
   "execution_count": 14,
   "metadata": {
    "execution": {
     "iopub.execute_input": "2021-01-13T20:20:23.623450Z",
     "iopub.status.busy": "2021-01-13T20:20:23.623067Z",
     "iopub.status.idle": "2021-01-13T20:20:23.647699Z",
     "shell.execute_reply": "2021-01-13T20:20:23.647306Z"
    },
    "papermill": {
     "duration": 0.043329,
     "end_time": "2021-01-13T20:20:23.647794",
     "exception": false,
     "start_time": "2021-01-13T20:20:23.604465",
     "status": "completed"
    },
    "tags": []
   },
   "outputs": [
    {
     "data": {
      "text/html": [
       "<div>\n",
       "<style scoped>\n",
       "    .dataframe tbody tr th:only-of-type {\n",
       "        vertical-align: middle;\n",
       "    }\n",
       "\n",
       "    .dataframe tbody tr th {\n",
       "        vertical-align: top;\n",
       "    }\n",
       "\n",
       "    .dataframe thead th {\n",
       "        text-align: right;\n",
       "    }\n",
       "</style>\n",
       "<table border=\"1\" class=\"dataframe\">\n",
       "  <thead>\n",
       "    <tr style=\"text-align: right;\">\n",
       "      <th></th>\n",
       "      <th>UMAP1</th>\n",
       "      <th>UMAP2</th>\n",
       "      <th>UMAP3</th>\n",
       "      <th>UMAP4</th>\n",
       "      <th>UMAP5</th>\n",
       "      <th>UMAP6</th>\n",
       "      <th>UMAP7</th>\n",
       "      <th>UMAP8</th>\n",
       "      <th>UMAP9</th>\n",
       "      <th>UMAP10</th>\n",
       "      <th>...</th>\n",
       "      <th>UMAP41</th>\n",
       "      <th>UMAP42</th>\n",
       "      <th>UMAP43</th>\n",
       "      <th>UMAP44</th>\n",
       "      <th>UMAP45</th>\n",
       "      <th>UMAP46</th>\n",
       "      <th>UMAP47</th>\n",
       "      <th>UMAP48</th>\n",
       "      <th>UMAP49</th>\n",
       "      <th>UMAP50</th>\n",
       "    </tr>\n",
       "  </thead>\n",
       "  <tbody>\n",
       "    <tr>\n",
       "      <th>100001_raw-Food_weight</th>\n",
       "      <td>11.531590</td>\n",
       "      <td>10.773390</td>\n",
       "      <td>10.551500</td>\n",
       "      <td>5.689103</td>\n",
       "      <td>12.646474</td>\n",
       "      <td>8.795625</td>\n",
       "      <td>2.365859</td>\n",
       "      <td>-3.382425</td>\n",
       "      <td>1.458605</td>\n",
       "      <td>14.236823</td>\n",
       "      <td>...</td>\n",
       "      <td>2.214731</td>\n",
       "      <td>9.304909</td>\n",
       "      <td>3.359118</td>\n",
       "      <td>5.211676</td>\n",
       "      <td>1.265622</td>\n",
       "      <td>2.058685</td>\n",
       "      <td>1.291174</td>\n",
       "      <td>1.565621</td>\n",
       "      <td>7.317275</td>\n",
       "      <td>9.037535</td>\n",
       "    </tr>\n",
       "    <tr>\n",
       "      <th>100002_raw-Energy</th>\n",
       "      <td>11.554761</td>\n",
       "      <td>10.753816</td>\n",
       "      <td>10.548004</td>\n",
       "      <td>5.710800</td>\n",
       "      <td>12.674987</td>\n",
       "      <td>8.787647</td>\n",
       "      <td>2.379787</td>\n",
       "      <td>-3.339913</td>\n",
       "      <td>1.442655</td>\n",
       "      <td>14.196218</td>\n",
       "      <td>...</td>\n",
       "      <td>2.237087</td>\n",
       "      <td>9.270699</td>\n",
       "      <td>3.383440</td>\n",
       "      <td>5.185328</td>\n",
       "      <td>1.257113</td>\n",
       "      <td>2.057439</td>\n",
       "      <td>1.290686</td>\n",
       "      <td>1.557209</td>\n",
       "      <td>7.297037</td>\n",
       "      <td>9.009866</td>\n",
       "    </tr>\n",
       "    <tr>\n",
       "      <th>100003_raw-Protein</th>\n",
       "      <td>11.519615</td>\n",
       "      <td>10.786408</td>\n",
       "      <td>10.540249</td>\n",
       "      <td>5.687959</td>\n",
       "      <td>12.628188</td>\n",
       "      <td>8.789925</td>\n",
       "      <td>2.368370</td>\n",
       "      <td>-3.390937</td>\n",
       "      <td>1.464806</td>\n",
       "      <td>14.233623</td>\n",
       "      <td>...</td>\n",
       "      <td>2.216162</td>\n",
       "      <td>9.314158</td>\n",
       "      <td>3.350708</td>\n",
       "      <td>5.226166</td>\n",
       "      <td>1.267382</td>\n",
       "      <td>2.051692</td>\n",
       "      <td>1.305047</td>\n",
       "      <td>1.558942</td>\n",
       "      <td>7.307035</td>\n",
       "      <td>9.042575</td>\n",
       "    </tr>\n",
       "    <tr>\n",
       "      <th>100004_raw-Fat</th>\n",
       "      <td>11.515584</td>\n",
       "      <td>10.756584</td>\n",
       "      <td>10.570711</td>\n",
       "      <td>5.697041</td>\n",
       "      <td>12.661936</td>\n",
       "      <td>8.787330</td>\n",
       "      <td>2.396913</td>\n",
       "      <td>-3.351611</td>\n",
       "      <td>1.435632</td>\n",
       "      <td>14.221588</td>\n",
       "      <td>...</td>\n",
       "      <td>2.214707</td>\n",
       "      <td>9.273252</td>\n",
       "      <td>3.383349</td>\n",
       "      <td>5.220068</td>\n",
       "      <td>1.270067</td>\n",
       "      <td>2.065669</td>\n",
       "      <td>1.281447</td>\n",
       "      <td>1.578588</td>\n",
       "      <td>7.332527</td>\n",
       "      <td>9.005523</td>\n",
       "    </tr>\n",
       "    <tr>\n",
       "      <th>100005_raw-Carbohydrate</th>\n",
       "      <td>11.528723</td>\n",
       "      <td>10.762026</td>\n",
       "      <td>10.566773</td>\n",
       "      <td>5.698555</td>\n",
       "      <td>12.671127</td>\n",
       "      <td>8.791903</td>\n",
       "      <td>2.394764</td>\n",
       "      <td>-3.354370</td>\n",
       "      <td>1.442259</td>\n",
       "      <td>14.226301</td>\n",
       "      <td>...</td>\n",
       "      <td>2.216362</td>\n",
       "      <td>9.275563</td>\n",
       "      <td>3.383139</td>\n",
       "      <td>5.216354</td>\n",
       "      <td>1.269187</td>\n",
       "      <td>2.063429</td>\n",
       "      <td>1.280020</td>\n",
       "      <td>1.577227</td>\n",
       "      <td>7.335059</td>\n",
       "      <td>9.009464</td>\n",
       "    </tr>\n",
       "  </tbody>\n",
       "</table>\n",
       "<p>5 rows × 50 columns</p>\n",
       "</div>"
      ],
      "text/plain": [
       "                             UMAP1      UMAP2      UMAP3     UMAP4      UMAP5  \\\n",
       "100001_raw-Food_weight   11.531590  10.773390  10.551500  5.689103  12.646474   \n",
       "100002_raw-Energy        11.554761  10.753816  10.548004  5.710800  12.674987   \n",
       "100003_raw-Protein       11.519615  10.786408  10.540249  5.687959  12.628188   \n",
       "100004_raw-Fat           11.515584  10.756584  10.570711  5.697041  12.661936   \n",
       "100005_raw-Carbohydrate  11.528723  10.762026  10.566773  5.698555  12.671127   \n",
       "\n",
       "                            UMAP6     UMAP7     UMAP8     UMAP9     UMAP10  \\\n",
       "100001_raw-Food_weight   8.795625  2.365859 -3.382425  1.458605  14.236823   \n",
       "100002_raw-Energy        8.787647  2.379787 -3.339913  1.442655  14.196218   \n",
       "100003_raw-Protein       8.789925  2.368370 -3.390937  1.464806  14.233623   \n",
       "100004_raw-Fat           8.787330  2.396913 -3.351611  1.435632  14.221588   \n",
       "100005_raw-Carbohydrate  8.791903  2.394764 -3.354370  1.442259  14.226301   \n",
       "\n",
       "                         ...    UMAP41    UMAP42    UMAP43    UMAP44  \\\n",
       "100001_raw-Food_weight   ...  2.214731  9.304909  3.359118  5.211676   \n",
       "100002_raw-Energy        ...  2.237087  9.270699  3.383440  5.185328   \n",
       "100003_raw-Protein       ...  2.216162  9.314158  3.350708  5.226166   \n",
       "100004_raw-Fat           ...  2.214707  9.273252  3.383349  5.220068   \n",
       "100005_raw-Carbohydrate  ...  2.216362  9.275563  3.383139  5.216354   \n",
       "\n",
       "                           UMAP45    UMAP46    UMAP47    UMAP48    UMAP49  \\\n",
       "100001_raw-Food_weight   1.265622  2.058685  1.291174  1.565621  7.317275   \n",
       "100002_raw-Energy        1.257113  2.057439  1.290686  1.557209  7.297037   \n",
       "100003_raw-Protein       1.267382  2.051692  1.305047  1.558942  7.307035   \n",
       "100004_raw-Fat           1.270067  2.065669  1.281447  1.578588  7.332527   \n",
       "100005_raw-Carbohydrate  1.269187  2.063429  1.280020  1.577227  7.335059   \n",
       "\n",
       "                           UMAP50  \n",
       "100001_raw-Food_weight   9.037535  \n",
       "100002_raw-Energy        9.009866  \n",
       "100003_raw-Protein       9.042575  \n",
       "100004_raw-Fat           9.005523  \n",
       "100005_raw-Carbohydrate  9.009464  \n",
       "\n",
       "[5 rows x 50 columns]"
      ]
     },
     "execution_count": 14,
     "metadata": {},
     "output_type": "execute_result"
    }
   ],
   "source": [
    "data.head()"
   ]
  },
  {
   "cell_type": "code",
   "execution_count": 15,
   "metadata": {
    "execution": {
     "iopub.execute_input": "2021-01-13T20:20:23.683676Z",
     "iopub.status.busy": "2021-01-13T20:20:23.683314Z",
     "iopub.status.idle": "2021-01-13T20:20:23.693023Z",
     "shell.execute_reply": "2021-01-13T20:20:23.692601Z"
    },
    "papermill": {
     "duration": 0.027853,
     "end_time": "2021-01-13T20:20:23.693113",
     "exception": false,
     "start_time": "2021-01-13T20:20:23.665260",
     "status": "completed"
    },
    "tags": []
   },
   "outputs": [],
   "source": [
    "traits = data.index.tolist()"
   ]
  },
  {
   "cell_type": "code",
   "execution_count": 16,
   "metadata": {
    "execution": {
     "iopub.execute_input": "2021-01-13T20:20:23.729394Z",
     "iopub.status.busy": "2021-01-13T20:20:23.729029Z",
     "iopub.status.idle": "2021-01-13T20:20:23.739282Z",
     "shell.execute_reply": "2021-01-13T20:20:23.738904Z"
    },
    "papermill": {
     "duration": 0.029176,
     "end_time": "2021-01-13T20:20:23.739370",
     "exception": false,
     "start_time": "2021-01-13T20:20:23.710194",
     "status": "completed"
    },
    "tags": []
   },
   "outputs": [
    {
     "data": {
      "text/plain": [
       "3749"
      ]
     },
     "execution_count": 16,
     "metadata": {},
     "output_type": "execute_result"
    }
   ],
   "source": [
    "len(traits)"
   ]
  },
  {
   "cell_type": "markdown",
   "metadata": {
    "papermill": {
     "duration": 0.016087,
     "end_time": "2021-01-13T20:20:23.772093",
     "exception": false,
     "start_time": "2021-01-13T20:20:23.756006",
     "status": "completed"
    },
    "tags": []
   },
   "source": [
    "# Ensemble (coassociation matrix)"
   ]
  },
  {
   "cell_type": "code",
   "execution_count": 17,
   "metadata": {
    "execution": {
     "iopub.execute_input": "2021-01-13T20:20:23.806761Z",
     "iopub.status.busy": "2021-01-13T20:20:23.806394Z",
     "iopub.status.idle": "2021-01-13T20:20:23.816816Z",
     "shell.execute_reply": "2021-01-13T20:20:23.817110Z"
    },
    "papermill": {
     "duration": 0.029066,
     "end_time": "2021-01-13T20:20:23.817216",
     "exception": false,
     "start_time": "2021-01-13T20:20:23.788150",
     "status": "completed"
    },
    "tags": []
   },
   "outputs": [
    {
     "data": {
      "text/plain": [
       "PosixPath('/home/miltondp/projects/labs/greenelab/phenoplier/base3/results/clustering/consensus_clustering/ensemble_coassoc_matrix.npy')"
      ]
     },
     "metadata": {},
     "output_type": "display_data"
    }
   ],
   "source": [
    "input_file = Path(CONSENSUS_CLUSTERING_DIR, \"ensemble_coassoc_matrix.npy\").resolve()\n",
    "display(input_file)"
   ]
  },
  {
   "cell_type": "code",
   "execution_count": 18,
   "metadata": {
    "execution": {
     "iopub.execute_input": "2021-01-13T20:20:23.852976Z",
     "iopub.status.busy": "2021-01-13T20:20:23.852274Z",
     "iopub.status.idle": "2021-01-13T20:20:23.885885Z",
     "shell.execute_reply": "2021-01-13T20:20:23.885490Z"
    },
    "papermill": {
     "duration": 0.051766,
     "end_time": "2021-01-13T20:20:23.885999",
     "exception": false,
     "start_time": "2021-01-13T20:20:23.834233",
     "status": "completed"
    },
    "tags": []
   },
   "outputs": [],
   "source": [
    "coassoc_matrix = np.load(input_file)"
   ]
  },
  {
   "cell_type": "code",
   "execution_count": 19,
   "metadata": {
    "execution": {
     "iopub.execute_input": "2021-01-13T20:20:23.929430Z",
     "iopub.status.busy": "2021-01-13T20:20:23.929068Z",
     "iopub.status.idle": "2021-01-13T20:20:23.939945Z",
     "shell.execute_reply": "2021-01-13T20:20:23.939548Z"
    },
    "papermill": {
     "duration": 0.032544,
     "end_time": "2021-01-13T20:20:23.940038",
     "exception": false,
     "start_time": "2021-01-13T20:20:23.907494",
     "status": "completed"
    },
    "tags": []
   },
   "outputs": [],
   "source": [
    "coassoc_matrix = pd.DataFrame(\n",
    "    data=coassoc_matrix,\n",
    "    index=traits,\n",
    "    columns=traits,\n",
    ")"
   ]
  },
  {
   "cell_type": "code",
   "execution_count": 20,
   "metadata": {
    "execution": {
     "iopub.execute_input": "2021-01-13T20:20:23.977047Z",
     "iopub.status.busy": "2021-01-13T20:20:23.976612Z",
     "iopub.status.idle": "2021-01-13T20:20:23.987313Z",
     "shell.execute_reply": "2021-01-13T20:20:23.986924Z"
    },
    "papermill": {
     "duration": 0.029603,
     "end_time": "2021-01-13T20:20:23.987404",
     "exception": false,
     "start_time": "2021-01-13T20:20:23.957801",
     "status": "completed"
    },
    "tags": []
   },
   "outputs": [
    {
     "data": {
      "text/plain": [
       "(3749, 3749)"
      ]
     },
     "execution_count": 20,
     "metadata": {},
     "output_type": "execute_result"
    }
   ],
   "source": [
    "coassoc_matrix.shape"
   ]
  },
  {
   "cell_type": "code",
   "execution_count": 21,
   "metadata": {
    "execution": {
     "iopub.execute_input": "2021-01-13T20:20:24.024054Z",
     "iopub.status.busy": "2021-01-13T20:20:24.023684Z",
     "iopub.status.idle": "2021-01-13T20:20:24.045545Z",
     "shell.execute_reply": "2021-01-13T20:20:24.045826Z"
    },
    "papermill": {
     "duration": 0.041268,
     "end_time": "2021-01-13T20:20:24.045937",
     "exception": false,
     "start_time": "2021-01-13T20:20:24.004669",
     "status": "completed"
    },
    "tags": []
   },
   "outputs": [
    {
     "data": {
      "text/html": [
       "<div>\n",
       "<style scoped>\n",
       "    .dataframe tbody tr th:only-of-type {\n",
       "        vertical-align: middle;\n",
       "    }\n",
       "\n",
       "    .dataframe tbody tr th {\n",
       "        vertical-align: top;\n",
       "    }\n",
       "\n",
       "    .dataframe thead th {\n",
       "        text-align: right;\n",
       "    }\n",
       "</style>\n",
       "<table border=\"1\" class=\"dataframe\">\n",
       "  <thead>\n",
       "    <tr style=\"text-align: right;\">\n",
       "      <th></th>\n",
       "      <th>100001_raw-Food_weight</th>\n",
       "      <th>100002_raw-Energy</th>\n",
       "      <th>100003_raw-Protein</th>\n",
       "      <th>100004_raw-Fat</th>\n",
       "      <th>100005_raw-Carbohydrate</th>\n",
       "      <th>100006_raw-Saturated_fat</th>\n",
       "      <th>100007_raw-Polyunsaturated_fat</th>\n",
       "      <th>100008_raw-Total_sugars</th>\n",
       "      <th>100009_raw-Englyst_dietary_fibre</th>\n",
       "      <th>100010-Portion_size</th>\n",
       "      <th>...</th>\n",
       "      <th>visual impairment</th>\n",
       "      <th>vitiligo</th>\n",
       "      <th>vitreous body disease</th>\n",
       "      <th>vocal cord polyp</th>\n",
       "      <th>voice disorders</th>\n",
       "      <th>wellbeing measurement AND family relationship</th>\n",
       "      <th>wheezing</th>\n",
       "      <th>whooping cough</th>\n",
       "      <th>worry measurement</th>\n",
       "      <th>wrist fracture</th>\n",
       "    </tr>\n",
       "  </thead>\n",
       "  <tbody>\n",
       "    <tr>\n",
       "      <th>100001_raw-Food_weight</th>\n",
       "      <td>0.000000</td>\n",
       "      <td>0.056159</td>\n",
       "      <td>0.053895</td>\n",
       "      <td>0.076313</td>\n",
       "      <td>0.057518</td>\n",
       "      <td>0.075634</td>\n",
       "      <td>0.074728</td>\n",
       "      <td>0.057971</td>\n",
       "      <td>0.055480</td>\n",
       "      <td>0.567482</td>\n",
       "      <td>...</td>\n",
       "      <td>0.604223</td>\n",
       "      <td>0.602355</td>\n",
       "      <td>0.594564</td>\n",
       "      <td>0.603261</td>\n",
       "      <td>0.582428</td>\n",
       "      <td>0.548731</td>\n",
       "      <td>0.690641</td>\n",
       "      <td>0.599864</td>\n",
       "      <td>0.661714</td>\n",
       "      <td>0.667572</td>\n",
       "    </tr>\n",
       "    <tr>\n",
       "      <th>100002_raw-Energy</th>\n",
       "      <td>0.056159</td>\n",
       "      <td>0.000000</td>\n",
       "      <td>0.027400</td>\n",
       "      <td>0.044837</td>\n",
       "      <td>0.021966</td>\n",
       "      <td>0.045743</td>\n",
       "      <td>0.067482</td>\n",
       "      <td>0.031250</td>\n",
       "      <td>0.048007</td>\n",
       "      <td>0.561368</td>\n",
       "      <td>...</td>\n",
       "      <td>0.606040</td>\n",
       "      <td>0.604393</td>\n",
       "      <td>0.594337</td>\n",
       "      <td>0.606431</td>\n",
       "      <td>0.585824</td>\n",
       "      <td>0.571170</td>\n",
       "      <td>0.687644</td>\n",
       "      <td>0.601223</td>\n",
       "      <td>0.659886</td>\n",
       "      <td>0.665308</td>\n",
       "    </tr>\n",
       "    <tr>\n",
       "      <th>100003_raw-Protein</th>\n",
       "      <td>0.053895</td>\n",
       "      <td>0.027400</td>\n",
       "      <td>0.000000</td>\n",
       "      <td>0.046875</td>\n",
       "      <td>0.018116</td>\n",
       "      <td>0.047781</td>\n",
       "      <td>0.064764</td>\n",
       "      <td>0.032382</td>\n",
       "      <td>0.050951</td>\n",
       "      <td>0.558424</td>\n",
       "      <td>...</td>\n",
       "      <td>0.602634</td>\n",
       "      <td>0.601676</td>\n",
       "      <td>0.592525</td>\n",
       "      <td>0.603487</td>\n",
       "      <td>0.581975</td>\n",
       "      <td>0.571850</td>\n",
       "      <td>0.691102</td>\n",
       "      <td>0.597826</td>\n",
       "      <td>0.661029</td>\n",
       "      <td>0.662817</td>\n",
       "    </tr>\n",
       "    <tr>\n",
       "      <th>100004_raw-Fat</th>\n",
       "      <td>0.076313</td>\n",
       "      <td>0.044837</td>\n",
       "      <td>0.046875</td>\n",
       "      <td>0.000000</td>\n",
       "      <td>0.045516</td>\n",
       "      <td>0.004755</td>\n",
       "      <td>0.046196</td>\n",
       "      <td>0.028306</td>\n",
       "      <td>0.057971</td>\n",
       "      <td>0.551857</td>\n",
       "      <td>...</td>\n",
       "      <td>0.590372</td>\n",
       "      <td>0.589674</td>\n",
       "      <td>0.578256</td>\n",
       "      <td>0.595788</td>\n",
       "      <td>0.571332</td>\n",
       "      <td>0.585902</td>\n",
       "      <td>0.692254</td>\n",
       "      <td>0.588315</td>\n",
       "      <td>0.667429</td>\n",
       "      <td>0.666667</td>\n",
       "    </tr>\n",
       "    <tr>\n",
       "      <th>100005_raw-Carbohydrate</th>\n",
       "      <td>0.057518</td>\n",
       "      <td>0.021966</td>\n",
       "      <td>0.018116</td>\n",
       "      <td>0.045516</td>\n",
       "      <td>0.000000</td>\n",
       "      <td>0.046196</td>\n",
       "      <td>0.067935</td>\n",
       "      <td>0.025589</td>\n",
       "      <td>0.050045</td>\n",
       "      <td>0.559783</td>\n",
       "      <td>...</td>\n",
       "      <td>0.605813</td>\n",
       "      <td>0.604393</td>\n",
       "      <td>0.593205</td>\n",
       "      <td>0.604846</td>\n",
       "      <td>0.584692</td>\n",
       "      <td>0.574569</td>\n",
       "      <td>0.687414</td>\n",
       "      <td>0.600543</td>\n",
       "      <td>0.657143</td>\n",
       "      <td>0.662817</td>\n",
       "    </tr>\n",
       "  </tbody>\n",
       "</table>\n",
       "<p>5 rows × 3749 columns</p>\n",
       "</div>"
      ],
      "text/plain": [
       "                         100001_raw-Food_weight  100002_raw-Energy  \\\n",
       "100001_raw-Food_weight                 0.000000           0.056159   \n",
       "100002_raw-Energy                      0.056159           0.000000   \n",
       "100003_raw-Protein                     0.053895           0.027400   \n",
       "100004_raw-Fat                         0.076313           0.044837   \n",
       "100005_raw-Carbohydrate                0.057518           0.021966   \n",
       "\n",
       "                         100003_raw-Protein  100004_raw-Fat  \\\n",
       "100001_raw-Food_weight             0.053895        0.076313   \n",
       "100002_raw-Energy                  0.027400        0.044837   \n",
       "100003_raw-Protein                 0.000000        0.046875   \n",
       "100004_raw-Fat                     0.046875        0.000000   \n",
       "100005_raw-Carbohydrate            0.018116        0.045516   \n",
       "\n",
       "                         100005_raw-Carbohydrate  100006_raw-Saturated_fat  \\\n",
       "100001_raw-Food_weight                  0.057518                  0.075634   \n",
       "100002_raw-Energy                       0.021966                  0.045743   \n",
       "100003_raw-Protein                      0.018116                  0.047781   \n",
       "100004_raw-Fat                          0.045516                  0.004755   \n",
       "100005_raw-Carbohydrate                 0.000000                  0.046196   \n",
       "\n",
       "                         100007_raw-Polyunsaturated_fat  \\\n",
       "100001_raw-Food_weight                         0.074728   \n",
       "100002_raw-Energy                              0.067482   \n",
       "100003_raw-Protein                             0.064764   \n",
       "100004_raw-Fat                                 0.046196   \n",
       "100005_raw-Carbohydrate                        0.067935   \n",
       "\n",
       "                         100008_raw-Total_sugars  \\\n",
       "100001_raw-Food_weight                  0.057971   \n",
       "100002_raw-Energy                       0.031250   \n",
       "100003_raw-Protein                      0.032382   \n",
       "100004_raw-Fat                          0.028306   \n",
       "100005_raw-Carbohydrate                 0.025589   \n",
       "\n",
       "                         100009_raw-Englyst_dietary_fibre  \\\n",
       "100001_raw-Food_weight                           0.055480   \n",
       "100002_raw-Energy                                0.048007   \n",
       "100003_raw-Protein                               0.050951   \n",
       "100004_raw-Fat                                   0.057971   \n",
       "100005_raw-Carbohydrate                          0.050045   \n",
       "\n",
       "                         100010-Portion_size  ...  visual impairment  \\\n",
       "100001_raw-Food_weight              0.567482  ...           0.604223   \n",
       "100002_raw-Energy                   0.561368  ...           0.606040   \n",
       "100003_raw-Protein                  0.558424  ...           0.602634   \n",
       "100004_raw-Fat                      0.551857  ...           0.590372   \n",
       "100005_raw-Carbohydrate             0.559783  ...           0.605813   \n",
       "\n",
       "                         vitiligo  vitreous body disease  vocal cord polyp  \\\n",
       "100001_raw-Food_weight   0.602355               0.594564          0.603261   \n",
       "100002_raw-Energy        0.604393               0.594337          0.606431   \n",
       "100003_raw-Protein       0.601676               0.592525          0.603487   \n",
       "100004_raw-Fat           0.589674               0.578256          0.595788   \n",
       "100005_raw-Carbohydrate  0.604393               0.593205          0.604846   \n",
       "\n",
       "                         voice disorders  \\\n",
       "100001_raw-Food_weight          0.582428   \n",
       "100002_raw-Energy               0.585824   \n",
       "100003_raw-Protein              0.581975   \n",
       "100004_raw-Fat                  0.571332   \n",
       "100005_raw-Carbohydrate         0.584692   \n",
       "\n",
       "                         wellbeing measurement AND family relationship  \\\n",
       "100001_raw-Food_weight                                        0.548731   \n",
       "100002_raw-Energy                                             0.571170   \n",
       "100003_raw-Protein                                            0.571850   \n",
       "100004_raw-Fat                                                0.585902   \n",
       "100005_raw-Carbohydrate                                       0.574569   \n",
       "\n",
       "                         wheezing  whooping cough  worry measurement  \\\n",
       "100001_raw-Food_weight   0.690641        0.599864           0.661714   \n",
       "100002_raw-Energy        0.687644        0.601223           0.659886   \n",
       "100003_raw-Protein       0.691102        0.597826           0.661029   \n",
       "100004_raw-Fat           0.692254        0.588315           0.667429   \n",
       "100005_raw-Carbohydrate  0.687414        0.600543           0.657143   \n",
       "\n",
       "                         wrist fracture  \n",
       "100001_raw-Food_weight         0.667572  \n",
       "100002_raw-Energy              0.665308  \n",
       "100003_raw-Protein             0.662817  \n",
       "100004_raw-Fat                 0.666667  \n",
       "100005_raw-Carbohydrate        0.662817  \n",
       "\n",
       "[5 rows x 3749 columns]"
      ]
     },
     "execution_count": 21,
     "metadata": {},
     "output_type": "execute_result"
    }
   ],
   "source": [
    "coassoc_matrix.head()"
   ]
  },
  {
   "cell_type": "code",
   "execution_count": 22,
   "metadata": {
    "execution": {
     "iopub.execute_input": "2021-01-13T20:20:24.084278Z",
     "iopub.status.busy": "2021-01-13T20:20:24.083920Z",
     "iopub.status.idle": "2021-01-13T20:20:24.093584Z",
     "shell.execute_reply": "2021-01-13T20:20:24.093204Z"
    },
    "papermill": {
     "duration": 0.029687,
     "end_time": "2021-01-13T20:20:24.093674",
     "exception": false,
     "start_time": "2021-01-13T20:20:24.063987",
     "status": "completed"
    },
    "tags": []
   },
   "outputs": [],
   "source": [
    "dist_matrix = coassoc_matrix"
   ]
  },
  {
   "cell_type": "markdown",
   "metadata": {
    "papermill": {
     "duration": 0.017108,
     "end_time": "2021-01-13T20:20:24.128683",
     "exception": false,
     "start_time": "2021-01-13T20:20:24.111575",
     "status": "completed"
    },
    "tags": []
   },
   "source": [
    "# Clustering"
   ]
  },
  {
   "cell_type": "code",
   "execution_count": 23,
   "metadata": {
    "execution": {
     "iopub.execute_input": "2021-01-13T20:20:24.165672Z",
     "iopub.status.busy": "2021-01-13T20:20:24.165299Z",
     "iopub.status.idle": "2021-01-13T20:20:24.259740Z",
     "shell.execute_reply": "2021-01-13T20:20:24.259345Z"
    },
    "papermill": {
     "duration": 0.113804,
     "end_time": "2021-01-13T20:20:24.259831",
     "exception": false,
     "start_time": "2021-01-13T20:20:24.146027",
     "status": "completed"
    },
    "tags": []
   },
   "outputs": [],
   "source": [
    "from sklearn.metrics import (\n",
    "    silhouette_score,\n",
    "    calinski_harabasz_score,\n",
    "    davies_bouldin_score,\n",
    ")"
   ]
  },
  {
   "cell_type": "markdown",
   "metadata": {
    "papermill": {
     "duration": 0.017093,
     "end_time": "2021-01-13T20:20:24.294394",
     "exception": false,
     "start_time": "2021-01-13T20:20:24.277301",
     "status": "completed"
    },
    "tags": []
   },
   "source": [
    "## Extended test"
   ]
  },
  {
   "cell_type": "code",
   "execution_count": 24,
   "metadata": {
    "execution": {
     "iopub.execute_input": "2021-01-13T20:20:24.331959Z",
     "iopub.status.busy": "2021-01-13T20:20:24.331588Z",
     "iopub.status.idle": "2021-01-13T20:20:24.343235Z",
     "shell.execute_reply": "2021-01-13T20:20:24.342864Z"
    },
    "papermill": {
     "duration": 0.031717,
     "end_time": "2021-01-13T20:20:24.343322",
     "exception": false,
     "start_time": "2021-01-13T20:20:24.311605",
     "status": "completed"
    },
    "tags": []
   },
   "outputs": [
    {
     "data": {
      "text/plain": [
       "{'K_RANGE': [2, 4, 6, 8, 10, 12, 14, 16, 18, 20, 25, 30, 35, 40],\n",
       " 'N_REPS_PER_K': 5,\n",
       " 'KMEANS_N_INIT': 10,\n",
       " 'DELTAS': [5.0, 2.0, 1.0, 0.9, 0.75, 0.5, 0.3, 0.25, 0.2]}"
      ]
     },
     "metadata": {},
     "output_type": "display_data"
    }
   ],
   "source": [
    "CLUSTERING_OPTIONS = {}\n",
    "\n",
    "CLUSTERING_OPTIONS[\"K_RANGE\"] = [2, 4, 6, 8, 10, 12, 14, 16, 18, 20, 25, 30, 35, 40]\n",
    "CLUSTERING_OPTIONS[\"N_REPS_PER_K\"] = 5\n",
    "CLUSTERING_OPTIONS[\"KMEANS_N_INIT\"] = 10\n",
    "CLUSTERING_OPTIONS[\"DELTAS\"] = [\n",
    "    5.00,\n",
    "    2.00,\n",
    "    1.00,\n",
    "    0.90,\n",
    "    0.75,\n",
    "    0.50,\n",
    "    0.30,\n",
    "    0.25,\n",
    "    0.20,\n",
    "]\n",
    "\n",
    "display(CLUSTERING_OPTIONS)"
   ]
  },
  {
   "cell_type": "markdown",
   "metadata": {
    "papermill": {
     "duration": 0.017852,
     "end_time": "2021-01-13T20:20:24.379333",
     "exception": false,
     "start_time": "2021-01-13T20:20:24.361481",
     "status": "completed"
    },
    "tags": []
   },
   "source": [
    "## Generate ensemble"
   ]
  },
  {
   "cell_type": "code",
   "execution_count": 25,
   "metadata": {
    "execution": {
     "iopub.execute_input": "2021-01-13T20:20:24.417508Z",
     "iopub.status.busy": "2021-01-13T20:20:24.417135Z",
     "iopub.status.idle": "2021-01-13T20:20:24.427652Z",
     "shell.execute_reply": "2021-01-13T20:20:24.427240Z"
    },
    "papermill": {
     "duration": 0.030451,
     "end_time": "2021-01-13T20:20:24.427743",
     "exception": false,
     "start_time": "2021-01-13T20:20:24.397292",
     "status": "completed"
    },
    "tags": []
   },
   "outputs": [],
   "source": [
    "import tempfile"
   ]
  },
  {
   "cell_type": "code",
   "execution_count": 26,
   "metadata": {
    "execution": {
     "iopub.execute_input": "2021-01-13T20:20:24.466792Z",
     "iopub.status.busy": "2021-01-13T20:20:24.466418Z",
     "iopub.status.idle": "2021-01-13T20:20:24.477295Z",
     "shell.execute_reply": "2021-01-13T20:20:24.476911Z"
    },
    "papermill": {
     "duration": 0.031384,
     "end_time": "2021-01-13T20:20:24.477386",
     "exception": false,
     "start_time": "2021-01-13T20:20:24.446002",
     "status": "completed"
    },
    "tags": []
   },
   "outputs": [],
   "source": [
    "ensemble_folder = Path(\n",
    "    tempfile.gettempdir(),\n",
    "    f\"pre_cluster_analysis\",\n",
    "    CLUSTERING_METHOD_NAME,\n",
    ").resolve()\n",
    "ensemble_folder.mkdir(parents=True, exist_ok=True)"
   ]
  },
  {
   "cell_type": "code",
   "execution_count": 27,
   "metadata": {
    "execution": {
     "iopub.execute_input": "2021-01-13T20:20:24.515809Z",
     "iopub.status.busy": "2021-01-13T20:20:24.515449Z",
     "iopub.status.idle": "2021-01-13T20:20:24.526631Z",
     "shell.execute_reply": "2021-01-13T20:20:24.526265Z"
    },
    "papermill": {
     "duration": 0.03123,
     "end_time": "2021-01-13T20:20:24.526716",
     "exception": false,
     "start_time": "2021-01-13T20:20:24.495486",
     "status": "completed"
    },
    "tags": []
   },
   "outputs": [
    {
     "data": {
      "text/plain": [
       "PosixPath('/tmp/pre_cluster_analysis/DeltaSpectralClustering/ensemble-DELTAS_50_20_10_09_075_05_03_025_02-KMEANS_N_INIT_10-K_RANGE_2_4_6_8_10_12_14_16_18_20_25_30_35_40-N_REPS_PER_K_5.pkl')"
      ]
     },
     "metadata": {},
     "output_type": "display_data"
    }
   ],
   "source": [
    "ensemble_file = Path(\n",
    "    ensemble_folder,\n",
    "    generate_result_set_name(CLUSTERING_OPTIONS, prefix=f\"ensemble-\", suffix=\".pkl\"),\n",
    ")\n",
    "display(ensemble_file)"
   ]
  },
  {
   "cell_type": "code",
   "execution_count": 28,
   "metadata": {
    "execution": {
     "iopub.execute_input": "2021-01-13T20:20:24.566237Z",
     "iopub.status.busy": "2021-01-13T20:20:24.565873Z",
     "iopub.status.idle": "2021-01-13T20:20:24.576012Z",
     "shell.execute_reply": "2021-01-13T20:20:24.575641Z"
    },
    "papermill": {
     "duration": 0.030853,
     "end_time": "2021-01-13T20:20:24.576100",
     "exception": false,
     "start_time": "2021-01-13T20:20:24.545247",
     "status": "completed"
    },
    "tags": []
   },
   "outputs": [],
   "source": [
    "assert ensemble_file.exists(), \"Ensemble file does not exists\""
   ]
  },
  {
   "cell_type": "code",
   "execution_count": 29,
   "metadata": {
    "execution": {
     "iopub.execute_input": "2021-01-13T20:20:24.617797Z",
     "iopub.status.busy": "2021-01-13T20:20:24.617412Z",
     "iopub.status.idle": "2021-01-13T20:20:24.641452Z",
     "shell.execute_reply": "2021-01-13T20:20:24.641066Z"
    },
    "papermill": {
     "duration": 0.046503,
     "end_time": "2021-01-13T20:20:24.641552",
     "exception": false,
     "start_time": "2021-01-13T20:20:24.595049",
     "status": "completed"
    },
    "tags": []
   },
   "outputs": [],
   "source": [
    "ensemble = pd.read_pickle(ensemble_file)"
   ]
  },
  {
   "cell_type": "code",
   "execution_count": 30,
   "metadata": {
    "execution": {
     "iopub.execute_input": "2021-01-13T20:20:24.684467Z",
     "iopub.status.busy": "2021-01-13T20:20:24.684106Z",
     "iopub.status.idle": "2021-01-13T20:20:24.695184Z",
     "shell.execute_reply": "2021-01-13T20:20:24.694807Z"
    },
    "papermill": {
     "duration": 0.032762,
     "end_time": "2021-01-13T20:20:24.695286",
     "exception": false,
     "start_time": "2021-01-13T20:20:24.662524",
     "status": "completed"
    },
    "tags": []
   },
   "outputs": [
    {
     "data": {
      "text/plain": [
       "(630, 7)"
      ]
     },
     "execution_count": 30,
     "metadata": {},
     "output_type": "execute_result"
    }
   ],
   "source": [
    "ensemble.shape"
   ]
  },
  {
   "cell_type": "code",
   "execution_count": 31,
   "metadata": {
    "execution": {
     "iopub.execute_input": "2021-01-13T20:20:24.736720Z",
     "iopub.status.busy": "2021-01-13T20:20:24.736332Z",
     "iopub.status.idle": "2021-01-13T20:20:24.756011Z",
     "shell.execute_reply": "2021-01-13T20:20:24.756298Z"
    },
    "papermill": {
     "duration": 0.041752,
     "end_time": "2021-01-13T20:20:24.756409",
     "exception": false,
     "start_time": "2021-01-13T20:20:24.714657",
     "status": "completed"
    },
    "tags": []
   },
   "outputs": [
    {
     "data": {
      "text/html": [
       "<div>\n",
       "<style scoped>\n",
       "    .dataframe tbody tr th:only-of-type {\n",
       "        vertical-align: middle;\n",
       "    }\n",
       "\n",
       "    .dataframe tbody tr th {\n",
       "        vertical-align: top;\n",
       "    }\n",
       "\n",
       "    .dataframe thead th {\n",
       "        text-align: right;\n",
       "    }\n",
       "</style>\n",
       "<table border=\"1\" class=\"dataframe\">\n",
       "  <thead>\n",
       "    <tr style=\"text-align: right;\">\n",
       "      <th></th>\n",
       "      <th>clusterer_params</th>\n",
       "      <th>partition</th>\n",
       "      <th>n_clusters</th>\n",
       "      <th>delta</th>\n",
       "      <th>si_score</th>\n",
       "      <th>ch_score</th>\n",
       "      <th>db_score</th>\n",
       "    </tr>\n",
       "    <tr>\n",
       "      <th>clusterer_id</th>\n",
       "      <th></th>\n",
       "      <th></th>\n",
       "      <th></th>\n",
       "      <th></th>\n",
       "      <th></th>\n",
       "      <th></th>\n",
       "      <th></th>\n",
       "    </tr>\n",
       "  </thead>\n",
       "  <tbody>\n",
       "    <tr>\n",
       "      <th>DeltaSpectralClustering #0</th>\n",
       "      <td>{'delta': 5.0}</td>\n",
       "      <td>[0.0, 0.0, 0.0, 0.0, 0.0, 0.0, 0.0, 0.0, 0.0, ...</td>\n",
       "      <td>2</td>\n",
       "      <td>5.00</td>\n",
       "      <td>0.242625</td>\n",
       "      <td>128.603203</td>\n",
       "      <td>4.388969</td>\n",
       "    </tr>\n",
       "    <tr>\n",
       "      <th>DeltaSpectralClustering #1</th>\n",
       "      <td>{'delta': 5.0}</td>\n",
       "      <td>[0.0, 0.0, 0.0, 0.0, 0.0, 0.0, 0.0, 0.0, 0.0, ...</td>\n",
       "      <td>2</td>\n",
       "      <td>5.00</td>\n",
       "      <td>0.242625</td>\n",
       "      <td>128.603203</td>\n",
       "      <td>4.388969</td>\n",
       "    </tr>\n",
       "    <tr>\n",
       "      <th>DeltaSpectralClustering #2</th>\n",
       "      <td>{'delta': 5.0}</td>\n",
       "      <td>[1.0, 1.0, 1.0, 1.0, 1.0, 1.0, 1.0, 1.0, 1.0, ...</td>\n",
       "      <td>2</td>\n",
       "      <td>5.00</td>\n",
       "      <td>0.242625</td>\n",
       "      <td>128.603203</td>\n",
       "      <td>4.388969</td>\n",
       "    </tr>\n",
       "    <tr>\n",
       "      <th>DeltaSpectralClustering #3</th>\n",
       "      <td>{'delta': 5.0}</td>\n",
       "      <td>[1.0, 1.0, 1.0, 1.0, 1.0, 1.0, 1.0, 1.0, 1.0, ...</td>\n",
       "      <td>2</td>\n",
       "      <td>5.00</td>\n",
       "      <td>0.242625</td>\n",
       "      <td>128.603203</td>\n",
       "      <td>4.388969</td>\n",
       "    </tr>\n",
       "    <tr>\n",
       "      <th>DeltaSpectralClustering #4</th>\n",
       "      <td>{'delta': 5.0}</td>\n",
       "      <td>[0.0, 0.0, 0.0, 0.0, 0.0, 0.0, 0.0, 0.0, 0.0, ...</td>\n",
       "      <td>2</td>\n",
       "      <td>5.00</td>\n",
       "      <td>0.242625</td>\n",
       "      <td>128.603203</td>\n",
       "      <td>4.388969</td>\n",
       "    </tr>\n",
       "  </tbody>\n",
       "</table>\n",
       "</div>"
      ],
      "text/plain": [
       "                           clusterer_params  \\\n",
       "clusterer_id                                  \n",
       "DeltaSpectralClustering #0   {'delta': 5.0}   \n",
       "DeltaSpectralClustering #1   {'delta': 5.0}   \n",
       "DeltaSpectralClustering #2   {'delta': 5.0}   \n",
       "DeltaSpectralClustering #3   {'delta': 5.0}   \n",
       "DeltaSpectralClustering #4   {'delta': 5.0}   \n",
       "\n",
       "                                                                    partition  \\\n",
       "clusterer_id                                                                    \n",
       "DeltaSpectralClustering #0  [0.0, 0.0, 0.0, 0.0, 0.0, 0.0, 0.0, 0.0, 0.0, ...   \n",
       "DeltaSpectralClustering #1  [0.0, 0.0, 0.0, 0.0, 0.0, 0.0, 0.0, 0.0, 0.0, ...   \n",
       "DeltaSpectralClustering #2  [1.0, 1.0, 1.0, 1.0, 1.0, 1.0, 1.0, 1.0, 1.0, ...   \n",
       "DeltaSpectralClustering #3  [1.0, 1.0, 1.0, 1.0, 1.0, 1.0, 1.0, 1.0, 1.0, ...   \n",
       "DeltaSpectralClustering #4  [0.0, 0.0, 0.0, 0.0, 0.0, 0.0, 0.0, 0.0, 0.0, ...   \n",
       "\n",
       "                            n_clusters delta  si_score    ch_score  db_score  \n",
       "clusterer_id                                                                  \n",
       "DeltaSpectralClustering #0           2  5.00  0.242625  128.603203  4.388969  \n",
       "DeltaSpectralClustering #1           2  5.00  0.242625  128.603203  4.388969  \n",
       "DeltaSpectralClustering #2           2  5.00  0.242625  128.603203  4.388969  \n",
       "DeltaSpectralClustering #3           2  5.00  0.242625  128.603203  4.388969  \n",
       "DeltaSpectralClustering #4           2  5.00  0.242625  128.603203  4.388969  "
      ]
     },
     "execution_count": 31,
     "metadata": {},
     "output_type": "execute_result"
    }
   ],
   "source": [
    "ensemble.head()"
   ]
  },
  {
   "cell_type": "markdown",
   "metadata": {
    "papermill": {
     "duration": 0.019325,
     "end_time": "2021-01-13T20:20:24.795829",
     "exception": false,
     "start_time": "2021-01-13T20:20:24.776504",
     "status": "completed"
    },
    "tags": []
   },
   "source": [
    "### Add clustering quality measures"
   ]
  },
  {
   "cell_type": "code",
   "execution_count": 32,
   "metadata": {
    "execution": {
     "iopub.execute_input": "2021-01-13T20:20:24.836175Z",
     "iopub.status.busy": "2021-01-13T20:20:24.835809Z",
     "iopub.status.idle": "2021-01-13T20:20:30.823517Z",
     "shell.execute_reply": "2021-01-13T20:20:30.823168Z"
    },
    "papermill": {
     "duration": 6.009108,
     "end_time": "2021-01-13T20:20:30.823611",
     "exception": false,
     "start_time": "2021-01-13T20:20:24.814503",
     "status": "completed"
    },
    "tags": []
   },
   "outputs": [],
   "source": [
    "ensemble = ensemble.assign(\n",
    "    #     si_score=ensemble[\"partition\"].apply(lambda x: silhouette_score(dist_matrix, x, metric=\"precomputed\")),\n",
    "    ch_score=ensemble[\"partition\"].apply(lambda x: calinski_harabasz_score(data, x)),\n",
    "    db_score=ensemble[\"partition\"].apply(lambda x: davies_bouldin_score(data, x)),\n",
    ")"
   ]
  },
  {
   "cell_type": "code",
   "execution_count": 33,
   "metadata": {
    "execution": {
     "iopub.execute_input": "2021-01-13T20:20:30.866204Z",
     "iopub.status.busy": "2021-01-13T20:20:30.865819Z",
     "iopub.status.idle": "2021-01-13T20:20:30.877074Z",
     "shell.execute_reply": "2021-01-13T20:20:30.876753Z"
    },
    "papermill": {
     "duration": 0.033374,
     "end_time": "2021-01-13T20:20:30.877168",
     "exception": false,
     "start_time": "2021-01-13T20:20:30.843794",
     "status": "completed"
    },
    "tags": []
   },
   "outputs": [
    {
     "data": {
      "text/plain": [
       "(630, 7)"
      ]
     },
     "execution_count": 33,
     "metadata": {},
     "output_type": "execute_result"
    }
   ],
   "source": [
    "ensemble.shape"
   ]
  },
  {
   "cell_type": "code",
   "execution_count": 34,
   "metadata": {
    "execution": {
     "iopub.execute_input": "2021-01-13T20:20:30.919394Z",
     "iopub.status.busy": "2021-01-13T20:20:30.919021Z",
     "iopub.status.idle": "2021-01-13T20:20:30.939273Z",
     "shell.execute_reply": "2021-01-13T20:20:30.938889Z"
    },
    "papermill": {
     "duration": 0.041774,
     "end_time": "2021-01-13T20:20:30.939362",
     "exception": false,
     "start_time": "2021-01-13T20:20:30.897588",
     "status": "completed"
    },
    "tags": []
   },
   "outputs": [
    {
     "data": {
      "text/html": [
       "<div>\n",
       "<style scoped>\n",
       "    .dataframe tbody tr th:only-of-type {\n",
       "        vertical-align: middle;\n",
       "    }\n",
       "\n",
       "    .dataframe tbody tr th {\n",
       "        vertical-align: top;\n",
       "    }\n",
       "\n",
       "    .dataframe thead th {\n",
       "        text-align: right;\n",
       "    }\n",
       "</style>\n",
       "<table border=\"1\" class=\"dataframe\">\n",
       "  <thead>\n",
       "    <tr style=\"text-align: right;\">\n",
       "      <th></th>\n",
       "      <th>clusterer_params</th>\n",
       "      <th>partition</th>\n",
       "      <th>n_clusters</th>\n",
       "      <th>delta</th>\n",
       "      <th>si_score</th>\n",
       "      <th>ch_score</th>\n",
       "      <th>db_score</th>\n",
       "    </tr>\n",
       "    <tr>\n",
       "      <th>clusterer_id</th>\n",
       "      <th></th>\n",
       "      <th></th>\n",
       "      <th></th>\n",
       "      <th></th>\n",
       "      <th></th>\n",
       "      <th></th>\n",
       "      <th></th>\n",
       "    </tr>\n",
       "  </thead>\n",
       "  <tbody>\n",
       "    <tr>\n",
       "      <th>DeltaSpectralClustering #0</th>\n",
       "      <td>{'delta': 5.0}</td>\n",
       "      <td>[0.0, 0.0, 0.0, 0.0, 0.0, 0.0, 0.0, 0.0, 0.0, ...</td>\n",
       "      <td>2</td>\n",
       "      <td>5.00</td>\n",
       "      <td>0.242625</td>\n",
       "      <td>998.500292</td>\n",
       "      <td>1.411797</td>\n",
       "    </tr>\n",
       "    <tr>\n",
       "      <th>DeltaSpectralClustering #1</th>\n",
       "      <td>{'delta': 5.0}</td>\n",
       "      <td>[0.0, 0.0, 0.0, 0.0, 0.0, 0.0, 0.0, 0.0, 0.0, ...</td>\n",
       "      <td>2</td>\n",
       "      <td>5.00</td>\n",
       "      <td>0.242625</td>\n",
       "      <td>998.500292</td>\n",
       "      <td>1.411797</td>\n",
       "    </tr>\n",
       "    <tr>\n",
       "      <th>DeltaSpectralClustering #2</th>\n",
       "      <td>{'delta': 5.0}</td>\n",
       "      <td>[1.0, 1.0, 1.0, 1.0, 1.0, 1.0, 1.0, 1.0, 1.0, ...</td>\n",
       "      <td>2</td>\n",
       "      <td>5.00</td>\n",
       "      <td>0.242625</td>\n",
       "      <td>998.500292</td>\n",
       "      <td>1.411797</td>\n",
       "    </tr>\n",
       "    <tr>\n",
       "      <th>DeltaSpectralClustering #3</th>\n",
       "      <td>{'delta': 5.0}</td>\n",
       "      <td>[1.0, 1.0, 1.0, 1.0, 1.0, 1.0, 1.0, 1.0, 1.0, ...</td>\n",
       "      <td>2</td>\n",
       "      <td>5.00</td>\n",
       "      <td>0.242625</td>\n",
       "      <td>998.500292</td>\n",
       "      <td>1.411797</td>\n",
       "    </tr>\n",
       "    <tr>\n",
       "      <th>DeltaSpectralClustering #4</th>\n",
       "      <td>{'delta': 5.0}</td>\n",
       "      <td>[0.0, 0.0, 0.0, 0.0, 0.0, 0.0, 0.0, 0.0, 0.0, ...</td>\n",
       "      <td>2</td>\n",
       "      <td>5.00</td>\n",
       "      <td>0.242625</td>\n",
       "      <td>998.500292</td>\n",
       "      <td>1.411797</td>\n",
       "    </tr>\n",
       "  </tbody>\n",
       "</table>\n",
       "</div>"
      ],
      "text/plain": [
       "                           clusterer_params  \\\n",
       "clusterer_id                                  \n",
       "DeltaSpectralClustering #0   {'delta': 5.0}   \n",
       "DeltaSpectralClustering #1   {'delta': 5.0}   \n",
       "DeltaSpectralClustering #2   {'delta': 5.0}   \n",
       "DeltaSpectralClustering #3   {'delta': 5.0}   \n",
       "DeltaSpectralClustering #4   {'delta': 5.0}   \n",
       "\n",
       "                                                                    partition  \\\n",
       "clusterer_id                                                                    \n",
       "DeltaSpectralClustering #0  [0.0, 0.0, 0.0, 0.0, 0.0, 0.0, 0.0, 0.0, 0.0, ...   \n",
       "DeltaSpectralClustering #1  [0.0, 0.0, 0.0, 0.0, 0.0, 0.0, 0.0, 0.0, 0.0, ...   \n",
       "DeltaSpectralClustering #2  [1.0, 1.0, 1.0, 1.0, 1.0, 1.0, 1.0, 1.0, 1.0, ...   \n",
       "DeltaSpectralClustering #3  [1.0, 1.0, 1.0, 1.0, 1.0, 1.0, 1.0, 1.0, 1.0, ...   \n",
       "DeltaSpectralClustering #4  [0.0, 0.0, 0.0, 0.0, 0.0, 0.0, 0.0, 0.0, 0.0, ...   \n",
       "\n",
       "                            n_clusters delta  si_score    ch_score  db_score  \n",
       "clusterer_id                                                                  \n",
       "DeltaSpectralClustering #0           2  5.00  0.242625  998.500292  1.411797  \n",
       "DeltaSpectralClustering #1           2  5.00  0.242625  998.500292  1.411797  \n",
       "DeltaSpectralClustering #2           2  5.00  0.242625  998.500292  1.411797  \n",
       "DeltaSpectralClustering #3           2  5.00  0.242625  998.500292  1.411797  \n",
       "DeltaSpectralClustering #4           2  5.00  0.242625  998.500292  1.411797  "
      ]
     },
     "execution_count": 34,
     "metadata": {},
     "output_type": "execute_result"
    }
   ],
   "source": [
    "ensemble.head()"
   ]
  },
  {
   "cell_type": "markdown",
   "metadata": {
    "papermill": {
     "duration": 0.019893,
     "end_time": "2021-01-13T20:20:30.979992",
     "exception": false,
     "start_time": "2021-01-13T20:20:30.960099",
     "status": "completed"
    },
    "tags": []
   },
   "source": [
    "# Cluster quality"
   ]
  },
  {
   "cell_type": "code",
   "execution_count": 35,
   "metadata": {
    "execution": {
     "iopub.execute_input": "2021-01-13T20:20:31.022129Z",
     "iopub.status.busy": "2021-01-13T20:20:31.021746Z",
     "iopub.status.idle": "2021-01-13T20:20:31.046774Z",
     "shell.execute_reply": "2021-01-13T20:20:31.046399Z"
    },
    "papermill": {
     "duration": 0.04716,
     "end_time": "2021-01-13T20:20:31.046860",
     "exception": false,
     "start_time": "2021-01-13T20:20:30.999700",
     "status": "completed"
    },
    "tags": []
   },
   "outputs": [
    {
     "data": {
      "text/html": [
       "<div>\n",
       "<style scoped>\n",
       "    .dataframe tbody tr th:only-of-type {\n",
       "        vertical-align: middle;\n",
       "    }\n",
       "\n",
       "    .dataframe tbody tr th {\n",
       "        vertical-align: top;\n",
       "    }\n",
       "\n",
       "    .dataframe thead th {\n",
       "        text-align: right;\n",
       "    }\n",
       "</style>\n",
       "<table border=\"1\" class=\"dataframe\">\n",
       "  <thead>\n",
       "    <tr style=\"text-align: right;\">\n",
       "      <th></th>\n",
       "      <th></th>\n",
       "      <th>si_score</th>\n",
       "      <th>ch_score</th>\n",
       "      <th>db_score</th>\n",
       "    </tr>\n",
       "    <tr>\n",
       "      <th>n_clusters</th>\n",
       "      <th>delta</th>\n",
       "      <th></th>\n",
       "      <th></th>\n",
       "      <th></th>\n",
       "    </tr>\n",
       "  </thead>\n",
       "  <tbody>\n",
       "    <tr>\n",
       "      <th rowspan=\"9\" valign=\"top\">2</th>\n",
       "      <th>0.20</th>\n",
       "      <td>0.427525</td>\n",
       "      <td>2723.248571</td>\n",
       "      <td>0.118866</td>\n",
       "    </tr>\n",
       "    <tr>\n",
       "      <th>0.25</th>\n",
       "      <td>0.428439</td>\n",
       "      <td>2610.357289</td>\n",
       "      <td>0.119332</td>\n",
       "    </tr>\n",
       "    <tr>\n",
       "      <th>0.30</th>\n",
       "      <td>0.428439</td>\n",
       "      <td>2610.357289</td>\n",
       "      <td>0.119332</td>\n",
       "    </tr>\n",
       "    <tr>\n",
       "      <th>0.50</th>\n",
       "      <td>0.263322</td>\n",
       "      <td>1140.269202</td>\n",
       "      <td>1.317186</td>\n",
       "    </tr>\n",
       "    <tr>\n",
       "      <th>0.75</th>\n",
       "      <td>0.252516</td>\n",
       "      <td>1047.864364</td>\n",
       "      <td>1.374280</td>\n",
       "    </tr>\n",
       "    <tr>\n",
       "      <th>0.90</th>\n",
       "      <td>0.249902</td>\n",
       "      <td>1033.424832</td>\n",
       "      <td>1.383773</td>\n",
       "    </tr>\n",
       "    <tr>\n",
       "      <th>1.00</th>\n",
       "      <td>0.248749</td>\n",
       "      <td>1027.914271</td>\n",
       "      <td>1.387437</td>\n",
       "    </tr>\n",
       "    <tr>\n",
       "      <th>2.00</th>\n",
       "      <td>0.244404</td>\n",
       "      <td>1003.662332</td>\n",
       "      <td>1.406255</td>\n",
       "    </tr>\n",
       "    <tr>\n",
       "      <th>5.00</th>\n",
       "      <td>0.242625</td>\n",
       "      <td>998.500292</td>\n",
       "      <td>1.411797</td>\n",
       "    </tr>\n",
       "    <tr>\n",
       "      <th rowspan=\"9\" valign=\"top\">4</th>\n",
       "      <th>0.20</th>\n",
       "      <td>0.382459</td>\n",
       "      <td>1995.227822</td>\n",
       "      <td>0.105354</td>\n",
       "    </tr>\n",
       "    <tr>\n",
       "      <th>0.25</th>\n",
       "      <td>0.383548</td>\n",
       "      <td>1311.135387</td>\n",
       "      <td>0.246777</td>\n",
       "    </tr>\n",
       "    <tr>\n",
       "      <th>0.30</th>\n",
       "      <td>0.424656</td>\n",
       "      <td>870.219751</td>\n",
       "      <td>1.054019</td>\n",
       "    </tr>\n",
       "    <tr>\n",
       "      <th>0.50</th>\n",
       "      <td>0.199576</td>\n",
       "      <td>1393.124076</td>\n",
       "      <td>1.705055</td>\n",
       "    </tr>\n",
       "    <tr>\n",
       "      <th>0.75</th>\n",
       "      <td>0.184060</td>\n",
       "      <td>1290.280940</td>\n",
       "      <td>2.098243</td>\n",
       "    </tr>\n",
       "    <tr>\n",
       "      <th>0.90</th>\n",
       "      <td>0.183101</td>\n",
       "      <td>1304.767246</td>\n",
       "      <td>2.106755</td>\n",
       "    </tr>\n",
       "    <tr>\n",
       "      <th>1.00</th>\n",
       "      <td>0.180977</td>\n",
       "      <td>1302.215313</td>\n",
       "      <td>2.160579</td>\n",
       "    </tr>\n",
       "    <tr>\n",
       "      <th>2.00</th>\n",
       "      <td>0.180781</td>\n",
       "      <td>1780.280388</td>\n",
       "      <td>2.127145</td>\n",
       "    </tr>\n",
       "    <tr>\n",
       "      <th>5.00</th>\n",
       "      <td>0.180488</td>\n",
       "      <td>1856.743861</td>\n",
       "      <td>2.125580</td>\n",
       "    </tr>\n",
       "    <tr>\n",
       "      <th rowspan=\"9\" valign=\"top\">6</th>\n",
       "      <th>0.20</th>\n",
       "      <td>0.278484</td>\n",
       "      <td>1578.559110</td>\n",
       "      <td>0.383715</td>\n",
       "    </tr>\n",
       "    <tr>\n",
       "      <th>0.25</th>\n",
       "      <td>0.277664</td>\n",
       "      <td>1608.262346</td>\n",
       "      <td>0.385213</td>\n",
       "    </tr>\n",
       "    <tr>\n",
       "      <th>0.30</th>\n",
       "      <td>0.276948</td>\n",
       "      <td>1044.914204</td>\n",
       "      <td>0.928878</td>\n",
       "    </tr>\n",
       "    <tr>\n",
       "      <th>0.50</th>\n",
       "      <td>0.064235</td>\n",
       "      <td>943.281712</td>\n",
       "      <td>3.044384</td>\n",
       "    </tr>\n",
       "    <tr>\n",
       "      <th>0.75</th>\n",
       "      <td>0.068344</td>\n",
       "      <td>917.130404</td>\n",
       "      <td>2.596838</td>\n",
       "    </tr>\n",
       "    <tr>\n",
       "      <th>0.90</th>\n",
       "      <td>0.068433</td>\n",
       "      <td>921.402268</td>\n",
       "      <td>2.590604</td>\n",
       "    </tr>\n",
       "    <tr>\n",
       "      <th>1.00</th>\n",
       "      <td>0.068581</td>\n",
       "      <td>926.449547</td>\n",
       "      <td>2.587025</td>\n",
       "    </tr>\n",
       "    <tr>\n",
       "      <th>2.00</th>\n",
       "      <td>0.069271</td>\n",
       "      <td>1217.175148</td>\n",
       "      <td>2.727085</td>\n",
       "    </tr>\n",
       "    <tr>\n",
       "      <th>5.00</th>\n",
       "      <td>0.069425</td>\n",
       "      <td>1411.534848</td>\n",
       "      <td>2.647507</td>\n",
       "    </tr>\n",
       "    <tr>\n",
       "      <th rowspan=\"9\" valign=\"top\">8</th>\n",
       "      <th>0.20</th>\n",
       "      <td>0.374526</td>\n",
       "      <td>884.830988</td>\n",
       "      <td>0.557947</td>\n",
       "    </tr>\n",
       "    <tr>\n",
       "      <th>0.25</th>\n",
       "      <td>0.378640</td>\n",
       "      <td>884.404473</td>\n",
       "      <td>0.777336</td>\n",
       "    </tr>\n",
       "    <tr>\n",
       "      <th>0.30</th>\n",
       "      <td>0.235342</td>\n",
       "      <td>1093.655994</td>\n",
       "      <td>0.917945</td>\n",
       "    </tr>\n",
       "    <tr>\n",
       "      <th>0.50</th>\n",
       "      <td>0.076589</td>\n",
       "      <td>692.119089</td>\n",
       "      <td>2.927989</td>\n",
       "    </tr>\n",
       "    <tr>\n",
       "      <th>0.75</th>\n",
       "      <td>0.075782</td>\n",
       "      <td>667.469516</td>\n",
       "      <td>2.939712</td>\n",
       "    </tr>\n",
       "    <tr>\n",
       "      <th>0.90</th>\n",
       "      <td>0.071693</td>\n",
       "      <td>691.858817</td>\n",
       "      <td>3.039960</td>\n",
       "    </tr>\n",
       "    <tr>\n",
       "      <th>1.00</th>\n",
       "      <td>0.070781</td>\n",
       "      <td>674.264534</td>\n",
       "      <td>3.108126</td>\n",
       "    </tr>\n",
       "    <tr>\n",
       "      <th>2.00</th>\n",
       "      <td>0.072265</td>\n",
       "      <td>871.031729</td>\n",
       "      <td>3.342265</td>\n",
       "    </tr>\n",
       "    <tr>\n",
       "      <th>5.00</th>\n",
       "      <td>0.072009</td>\n",
       "      <td>1009.834762</td>\n",
       "      <td>3.323499</td>\n",
       "    </tr>\n",
       "    <tr>\n",
       "      <th rowspan=\"9\" valign=\"top\">10</th>\n",
       "      <th>0.20</th>\n",
       "      <td>0.357620</td>\n",
       "      <td>687.222819</td>\n",
       "      <td>0.519428</td>\n",
       "    </tr>\n",
       "    <tr>\n",
       "      <th>0.25</th>\n",
       "      <td>0.222965</td>\n",
       "      <td>778.646447</td>\n",
       "      <td>1.022792</td>\n",
       "    </tr>\n",
       "    <tr>\n",
       "      <th>0.30</th>\n",
       "      <td>0.246032</td>\n",
       "      <td>893.451091</td>\n",
       "      <td>1.027049</td>\n",
       "    </tr>\n",
       "    <tr>\n",
       "      <th>0.50</th>\n",
       "      <td>0.079614</td>\n",
       "      <td>531.309351</td>\n",
       "      <td>3.134994</td>\n",
       "    </tr>\n",
       "    <tr>\n",
       "      <th>0.75</th>\n",
       "      <td>0.076941</td>\n",
       "      <td>489.946986</td>\n",
       "      <td>3.504413</td>\n",
       "    </tr>\n",
       "    <tr>\n",
       "      <th>0.90</th>\n",
       "      <td>0.077102</td>\n",
       "      <td>489.788528</td>\n",
       "      <td>3.513530</td>\n",
       "    </tr>\n",
       "    <tr>\n",
       "      <th>1.00</th>\n",
       "      <td>0.076801</td>\n",
       "      <td>491.048713</td>\n",
       "      <td>3.512288</td>\n",
       "    </tr>\n",
       "    <tr>\n",
       "      <th>2.00</th>\n",
       "      <td>0.072286</td>\n",
       "      <td>534.008231</td>\n",
       "      <td>4.106945</td>\n",
       "    </tr>\n",
       "    <tr>\n",
       "      <th>5.00</th>\n",
       "      <td>0.072967</td>\n",
       "      <td>860.842120</td>\n",
       "      <td>3.809815</td>\n",
       "    </tr>\n",
       "    <tr>\n",
       "      <th rowspan=\"9\" valign=\"top\">12</th>\n",
       "      <th>0.20</th>\n",
       "      <td>0.227325</td>\n",
       "      <td>600.209083</td>\n",
       "      <td>0.856286</td>\n",
       "    </tr>\n",
       "    <tr>\n",
       "      <th>0.25</th>\n",
       "      <td>0.237612</td>\n",
       "      <td>600.083113</td>\n",
       "      <td>0.940156</td>\n",
       "    </tr>\n",
       "    <tr>\n",
       "      <th>0.30</th>\n",
       "      <td>0.163992</td>\n",
       "      <td>781.335292</td>\n",
       "      <td>1.519560</td>\n",
       "    </tr>\n",
       "    <tr>\n",
       "      <th>0.50</th>\n",
       "      <td>0.083869</td>\n",
       "      <td>828.201246</td>\n",
       "      <td>3.297417</td>\n",
       "    </tr>\n",
       "    <tr>\n",
       "      <th>0.75</th>\n",
       "      <td>0.079932</td>\n",
       "      <td>448.582670</td>\n",
       "      <td>3.640872</td>\n",
       "    </tr>\n",
       "    <tr>\n",
       "      <th>0.90</th>\n",
       "      <td>0.079344</td>\n",
       "      <td>446.508872</td>\n",
       "      <td>3.693503</td>\n",
       "    </tr>\n",
       "    <tr>\n",
       "      <th>1.00</th>\n",
       "      <td>0.079175</td>\n",
       "      <td>446.548257</td>\n",
       "      <td>3.697356</td>\n",
       "    </tr>\n",
       "    <tr>\n",
       "      <th>2.00</th>\n",
       "      <td>0.078788</td>\n",
       "      <td>501.886519</td>\n",
       "      <td>3.706099</td>\n",
       "    </tr>\n",
       "    <tr>\n",
       "      <th>5.00</th>\n",
       "      <td>0.080214</td>\n",
       "      <td>728.617604</td>\n",
       "      <td>3.691758</td>\n",
       "    </tr>\n",
       "    <tr>\n",
       "      <th rowspan=\"9\" valign=\"top\">14</th>\n",
       "      <th>0.20</th>\n",
       "      <td>0.274823</td>\n",
       "      <td>482.561355</td>\n",
       "      <td>0.674831</td>\n",
       "    </tr>\n",
       "    <tr>\n",
       "      <th>0.25</th>\n",
       "      <td>0.238917</td>\n",
       "      <td>513.905320</td>\n",
       "      <td>0.846461</td>\n",
       "    </tr>\n",
       "    <tr>\n",
       "      <th>0.30</th>\n",
       "      <td>0.141021</td>\n",
       "      <td>666.837360</td>\n",
       "      <td>1.472154</td>\n",
       "    </tr>\n",
       "    <tr>\n",
       "      <th>0.50</th>\n",
       "      <td>0.085860</td>\n",
       "      <td>728.236199</td>\n",
       "      <td>3.462205</td>\n",
       "    </tr>\n",
       "    <tr>\n",
       "      <th>0.75</th>\n",
       "      <td>0.085094</td>\n",
       "      <td>451.198961</td>\n",
       "      <td>4.002142</td>\n",
       "    </tr>\n",
       "    <tr>\n",
       "      <th>0.90</th>\n",
       "      <td>0.084411</td>\n",
       "      <td>444.204063</td>\n",
       "      <td>3.996936</td>\n",
       "    </tr>\n",
       "    <tr>\n",
       "      <th>1.00</th>\n",
       "      <td>0.084417</td>\n",
       "      <td>440.720645</td>\n",
       "      <td>3.980576</td>\n",
       "    </tr>\n",
       "    <tr>\n",
       "      <th>2.00</th>\n",
       "      <td>0.082363</td>\n",
       "      <td>399.768191</td>\n",
       "      <td>3.750880</td>\n",
       "    </tr>\n",
       "    <tr>\n",
       "      <th>5.00</th>\n",
       "      <td>0.084238</td>\n",
       "      <td>500.246486</td>\n",
       "      <td>3.694477</td>\n",
       "    </tr>\n",
       "    <tr>\n",
       "      <th rowspan=\"9\" valign=\"top\">16</th>\n",
       "      <th>0.20</th>\n",
       "      <td>0.211533</td>\n",
       "      <td>437.349837</td>\n",
       "      <td>0.828370</td>\n",
       "    </tr>\n",
       "    <tr>\n",
       "      <th>0.25</th>\n",
       "      <td>0.232423</td>\n",
       "      <td>450.815126</td>\n",
       "      <td>0.827487</td>\n",
       "    </tr>\n",
       "    <tr>\n",
       "      <th>0.30</th>\n",
       "      <td>0.162359</td>\n",
       "      <td>604.936170</td>\n",
       "      <td>1.518580</td>\n",
       "    </tr>\n",
       "    <tr>\n",
       "      <th>0.50</th>\n",
       "      <td>0.100239</td>\n",
       "      <td>687.014634</td>\n",
       "      <td>2.886026</td>\n",
       "    </tr>\n",
       "    <tr>\n",
       "      <th>0.75</th>\n",
       "      <td>0.097533</td>\n",
       "      <td>427.986822</td>\n",
       "      <td>3.554180</td>\n",
       "    </tr>\n",
       "    <tr>\n",
       "      <th>0.90</th>\n",
       "      <td>0.097785</td>\n",
       "      <td>419.076928</td>\n",
       "      <td>3.279546</td>\n",
       "    </tr>\n",
       "    <tr>\n",
       "      <th>1.00</th>\n",
       "      <td>0.096574</td>\n",
       "      <td>416.655493</td>\n",
       "      <td>3.586737</td>\n",
       "    </tr>\n",
       "    <tr>\n",
       "      <th>2.00</th>\n",
       "      <td>0.093288</td>\n",
       "      <td>395.521308</td>\n",
       "      <td>3.934503</td>\n",
       "    </tr>\n",
       "    <tr>\n",
       "      <th>5.00</th>\n",
       "      <td>0.096695</td>\n",
       "      <td>392.318785</td>\n",
       "      <td>3.431806</td>\n",
       "    </tr>\n",
       "    <tr>\n",
       "      <th rowspan=\"9\" valign=\"top\">18</th>\n",
       "      <th>0.20</th>\n",
       "      <td>0.212348</td>\n",
       "      <td>391.342165</td>\n",
       "      <td>0.881602</td>\n",
       "    </tr>\n",
       "    <tr>\n",
       "      <th>0.25</th>\n",
       "      <td>0.232169</td>\n",
       "      <td>400.490187</td>\n",
       "      <td>0.908988</td>\n",
       "    </tr>\n",
       "    <tr>\n",
       "      <th>0.30</th>\n",
       "      <td>0.105787</td>\n",
       "      <td>567.819877</td>\n",
       "      <td>1.743468</td>\n",
       "    </tr>\n",
       "    <tr>\n",
       "      <th>0.50</th>\n",
       "      <td>0.107428</td>\n",
       "      <td>688.957515</td>\n",
       "      <td>2.804763</td>\n",
       "    </tr>\n",
       "    <tr>\n",
       "      <th>0.75</th>\n",
       "      <td>0.106236</td>\n",
       "      <td>518.583882</td>\n",
       "      <td>3.044675</td>\n",
       "    </tr>\n",
       "    <tr>\n",
       "      <th>0.90</th>\n",
       "      <td>0.106723</td>\n",
       "      <td>389.714413</td>\n",
       "      <td>3.120162</td>\n",
       "    </tr>\n",
       "    <tr>\n",
       "      <th>1.00</th>\n",
       "      <td>0.106435</td>\n",
       "      <td>388.089099</td>\n",
       "      <td>3.104373</td>\n",
       "    </tr>\n",
       "    <tr>\n",
       "      <th>2.00</th>\n",
       "      <td>0.104013</td>\n",
       "      <td>384.333690</td>\n",
       "      <td>3.382573</td>\n",
       "    </tr>\n",
       "    <tr>\n",
       "      <th>5.00</th>\n",
       "      <td>0.105179</td>\n",
       "      <td>384.802954</td>\n",
       "      <td>3.231277</td>\n",
       "    </tr>\n",
       "    <tr>\n",
       "      <th rowspan=\"9\" valign=\"top\">20</th>\n",
       "      <th>0.20</th>\n",
       "      <td>0.193447</td>\n",
       "      <td>358.332701</td>\n",
       "      <td>0.789035</td>\n",
       "    </tr>\n",
       "    <tr>\n",
       "      <th>0.25</th>\n",
       "      <td>0.220433</td>\n",
       "      <td>363.608219</td>\n",
       "      <td>0.850563</td>\n",
       "    </tr>\n",
       "    <tr>\n",
       "      <th>0.30</th>\n",
       "      <td>0.086999</td>\n",
       "      <td>553.463787</td>\n",
       "      <td>2.464174</td>\n",
       "    </tr>\n",
       "    <tr>\n",
       "      <th>0.50</th>\n",
       "      <td>0.118305</td>\n",
       "      <td>672.696833</td>\n",
       "      <td>2.355492</td>\n",
       "    </tr>\n",
       "    <tr>\n",
       "      <th>0.75</th>\n",
       "      <td>0.113387</td>\n",
       "      <td>578.764510</td>\n",
       "      <td>3.199555</td>\n",
       "    </tr>\n",
       "    <tr>\n",
       "      <th>0.90</th>\n",
       "      <td>0.114656</td>\n",
       "      <td>485.403284</td>\n",
       "      <td>3.034178</td>\n",
       "    </tr>\n",
       "    <tr>\n",
       "      <th>1.00</th>\n",
       "      <td>0.113790</td>\n",
       "      <td>448.903612</td>\n",
       "      <td>3.091344</td>\n",
       "    </tr>\n",
       "    <tr>\n",
       "      <th>2.00</th>\n",
       "      <td>0.111252</td>\n",
       "      <td>393.833649</td>\n",
       "      <td>3.283429</td>\n",
       "    </tr>\n",
       "    <tr>\n",
       "      <th>5.00</th>\n",
       "      <td>0.112082</td>\n",
       "      <td>409.216519</td>\n",
       "      <td>3.122274</td>\n",
       "    </tr>\n",
       "    <tr>\n",
       "      <th rowspan=\"9\" valign=\"top\">25</th>\n",
       "      <th>0.20</th>\n",
       "      <td>0.131826</td>\n",
       "      <td>303.498420</td>\n",
       "      <td>0.873756</td>\n",
       "    </tr>\n",
       "    <tr>\n",
       "      <th>0.25</th>\n",
       "      <td>0.193965</td>\n",
       "      <td>384.583667</td>\n",
       "      <td>1.363059</td>\n",
       "    </tr>\n",
       "    <tr>\n",
       "      <th>0.30</th>\n",
       "      <td>0.092608</td>\n",
       "      <td>459.659859</td>\n",
       "      <td>2.143029</td>\n",
       "    </tr>\n",
       "    <tr>\n",
       "      <th>0.50</th>\n",
       "      <td>0.126170</td>\n",
       "      <td>617.175050</td>\n",
       "      <td>2.700748</td>\n",
       "    </tr>\n",
       "    <tr>\n",
       "      <th>0.75</th>\n",
       "      <td>0.127486</td>\n",
       "      <td>537.531429</td>\n",
       "      <td>2.726730</td>\n",
       "    </tr>\n",
       "    <tr>\n",
       "      <th>0.90</th>\n",
       "      <td>0.125237</td>\n",
       "      <td>533.675008</td>\n",
       "      <td>2.762983</td>\n",
       "    </tr>\n",
       "    <tr>\n",
       "      <th>1.00</th>\n",
       "      <td>0.124675</td>\n",
       "      <td>537.610842</td>\n",
       "      <td>2.728602</td>\n",
       "    </tr>\n",
       "    <tr>\n",
       "      <th>2.00</th>\n",
       "      <td>0.125298</td>\n",
       "      <td>543.044568</td>\n",
       "      <td>2.686785</td>\n",
       "    </tr>\n",
       "    <tr>\n",
       "      <th>5.00</th>\n",
       "      <td>0.123608</td>\n",
       "      <td>532.102942</td>\n",
       "      <td>2.822056</td>\n",
       "    </tr>\n",
       "    <tr>\n",
       "      <th rowspan=\"9\" valign=\"top\">30</th>\n",
       "      <th>0.20</th>\n",
       "      <td>0.126815</td>\n",
       "      <td>255.223890</td>\n",
       "      <td>1.062791</td>\n",
       "    </tr>\n",
       "    <tr>\n",
       "      <th>0.25</th>\n",
       "      <td>0.089549</td>\n",
       "      <td>352.268684</td>\n",
       "      <td>1.598288</td>\n",
       "    </tr>\n",
       "    <tr>\n",
       "      <th>0.30</th>\n",
       "      <td>0.104985</td>\n",
       "      <td>424.429642</td>\n",
       "      <td>1.945359</td>\n",
       "    </tr>\n",
       "    <tr>\n",
       "      <th>0.50</th>\n",
       "      <td>0.132850</td>\n",
       "      <td>569.933829</td>\n",
       "      <td>2.419883</td>\n",
       "    </tr>\n",
       "    <tr>\n",
       "      <th>0.75</th>\n",
       "      <td>0.127478</td>\n",
       "      <td>476.604520</td>\n",
       "      <td>2.808345</td>\n",
       "    </tr>\n",
       "    <tr>\n",
       "      <th>0.90</th>\n",
       "      <td>0.127424</td>\n",
       "      <td>471.047920</td>\n",
       "      <td>2.811408</td>\n",
       "    </tr>\n",
       "    <tr>\n",
       "      <th>1.00</th>\n",
       "      <td>0.125563</td>\n",
       "      <td>470.336424</td>\n",
       "      <td>2.758649</td>\n",
       "    </tr>\n",
       "    <tr>\n",
       "      <th>2.00</th>\n",
       "      <td>0.127814</td>\n",
       "      <td>474.520308</td>\n",
       "      <td>2.878019</td>\n",
       "    </tr>\n",
       "    <tr>\n",
       "      <th>5.00</th>\n",
       "      <td>0.126687</td>\n",
       "      <td>466.640336</td>\n",
       "      <td>2.796505</td>\n",
       "    </tr>\n",
       "    <tr>\n",
       "      <th rowspan=\"9\" valign=\"top\">35</th>\n",
       "      <th>0.20</th>\n",
       "      <td>0.128837</td>\n",
       "      <td>228.637695</td>\n",
       "      <td>1.224803</td>\n",
       "    </tr>\n",
       "    <tr>\n",
       "      <th>0.25</th>\n",
       "      <td>0.085387</td>\n",
       "      <td>318.318292</td>\n",
       "      <td>1.989013</td>\n",
       "    </tr>\n",
       "    <tr>\n",
       "      <th>0.30</th>\n",
       "      <td>0.119132</td>\n",
       "      <td>408.411550</td>\n",
       "      <td>1.972480</td>\n",
       "    </tr>\n",
       "    <tr>\n",
       "      <th>0.50</th>\n",
       "      <td>0.133727</td>\n",
       "      <td>522.061270</td>\n",
       "      <td>2.646090</td>\n",
       "    </tr>\n",
       "    <tr>\n",
       "      <th>0.75</th>\n",
       "      <td>0.140252</td>\n",
       "      <td>505.524382</td>\n",
       "      <td>2.413640</td>\n",
       "    </tr>\n",
       "    <tr>\n",
       "      <th>0.90</th>\n",
       "      <td>0.138798</td>\n",
       "      <td>448.587373</td>\n",
       "      <td>2.431586</td>\n",
       "    </tr>\n",
       "    <tr>\n",
       "      <th>1.00</th>\n",
       "      <td>0.137019</td>\n",
       "      <td>451.545756</td>\n",
       "      <td>2.537447</td>\n",
       "    </tr>\n",
       "    <tr>\n",
       "      <th>2.00</th>\n",
       "      <td>0.134664</td>\n",
       "      <td>447.773367</td>\n",
       "      <td>2.751019</td>\n",
       "    </tr>\n",
       "    <tr>\n",
       "      <th>5.00</th>\n",
       "      <td>0.136409</td>\n",
       "      <td>451.224911</td>\n",
       "      <td>2.602554</td>\n",
       "    </tr>\n",
       "    <tr>\n",
       "      <th rowspan=\"9\" valign=\"top\">40</th>\n",
       "      <th>0.20</th>\n",
       "      <td>0.137961</td>\n",
       "      <td>240.281617</td>\n",
       "      <td>1.598987</td>\n",
       "    </tr>\n",
       "    <tr>\n",
       "      <th>0.25</th>\n",
       "      <td>0.095631</td>\n",
       "      <td>303.992369</td>\n",
       "      <td>2.041142</td>\n",
       "    </tr>\n",
       "    <tr>\n",
       "      <th>0.30</th>\n",
       "      <td>0.125319</td>\n",
       "      <td>372.689524</td>\n",
       "      <td>2.013432</td>\n",
       "    </tr>\n",
       "    <tr>\n",
       "      <th>0.50</th>\n",
       "      <td>0.144838</td>\n",
       "      <td>474.500363</td>\n",
       "      <td>2.396345</td>\n",
       "    </tr>\n",
       "    <tr>\n",
       "      <th>0.75</th>\n",
       "      <td>0.144076</td>\n",
       "      <td>504.052372</td>\n",
       "      <td>2.451248</td>\n",
       "    </tr>\n",
       "    <tr>\n",
       "      <th>0.90</th>\n",
       "      <td>0.142236</td>\n",
       "      <td>411.790573</td>\n",
       "      <td>2.416968</td>\n",
       "    </tr>\n",
       "    <tr>\n",
       "      <th>1.00</th>\n",
       "      <td>0.139658</td>\n",
       "      <td>430.327329</td>\n",
       "      <td>2.503305</td>\n",
       "    </tr>\n",
       "    <tr>\n",
       "      <th>2.00</th>\n",
       "      <td>0.140153</td>\n",
       "      <td>414.806885</td>\n",
       "      <td>2.514750</td>\n",
       "    </tr>\n",
       "    <tr>\n",
       "      <th>5.00</th>\n",
       "      <td>0.139846</td>\n",
       "      <td>412.093692</td>\n",
       "      <td>2.495617</td>\n",
       "    </tr>\n",
       "  </tbody>\n",
       "</table>\n",
       "</div>"
      ],
      "text/plain": [
       "                  si_score     ch_score  db_score\n",
       "n_clusters delta                                 \n",
       "2          0.20   0.427525  2723.248571  0.118866\n",
       "           0.25   0.428439  2610.357289  0.119332\n",
       "           0.30   0.428439  2610.357289  0.119332\n",
       "           0.50   0.263322  1140.269202  1.317186\n",
       "           0.75   0.252516  1047.864364  1.374280\n",
       "           0.90   0.249902  1033.424832  1.383773\n",
       "           1.00   0.248749  1027.914271  1.387437\n",
       "           2.00   0.244404  1003.662332  1.406255\n",
       "           5.00   0.242625   998.500292  1.411797\n",
       "4          0.20   0.382459  1995.227822  0.105354\n",
       "           0.25   0.383548  1311.135387  0.246777\n",
       "           0.30   0.424656   870.219751  1.054019\n",
       "           0.50   0.199576  1393.124076  1.705055\n",
       "           0.75   0.184060  1290.280940  2.098243\n",
       "           0.90   0.183101  1304.767246  2.106755\n",
       "           1.00   0.180977  1302.215313  2.160579\n",
       "           2.00   0.180781  1780.280388  2.127145\n",
       "           5.00   0.180488  1856.743861  2.125580\n",
       "6          0.20   0.278484  1578.559110  0.383715\n",
       "           0.25   0.277664  1608.262346  0.385213\n",
       "           0.30   0.276948  1044.914204  0.928878\n",
       "           0.50   0.064235   943.281712  3.044384\n",
       "           0.75   0.068344   917.130404  2.596838\n",
       "           0.90   0.068433   921.402268  2.590604\n",
       "           1.00   0.068581   926.449547  2.587025\n",
       "           2.00   0.069271  1217.175148  2.727085\n",
       "           5.00   0.069425  1411.534848  2.647507\n",
       "8          0.20   0.374526   884.830988  0.557947\n",
       "           0.25   0.378640   884.404473  0.777336\n",
       "           0.30   0.235342  1093.655994  0.917945\n",
       "           0.50   0.076589   692.119089  2.927989\n",
       "           0.75   0.075782   667.469516  2.939712\n",
       "           0.90   0.071693   691.858817  3.039960\n",
       "           1.00   0.070781   674.264534  3.108126\n",
       "           2.00   0.072265   871.031729  3.342265\n",
       "           5.00   0.072009  1009.834762  3.323499\n",
       "10         0.20   0.357620   687.222819  0.519428\n",
       "           0.25   0.222965   778.646447  1.022792\n",
       "           0.30   0.246032   893.451091  1.027049\n",
       "           0.50   0.079614   531.309351  3.134994\n",
       "           0.75   0.076941   489.946986  3.504413\n",
       "           0.90   0.077102   489.788528  3.513530\n",
       "           1.00   0.076801   491.048713  3.512288\n",
       "           2.00   0.072286   534.008231  4.106945\n",
       "           5.00   0.072967   860.842120  3.809815\n",
       "12         0.20   0.227325   600.209083  0.856286\n",
       "           0.25   0.237612   600.083113  0.940156\n",
       "           0.30   0.163992   781.335292  1.519560\n",
       "           0.50   0.083869   828.201246  3.297417\n",
       "           0.75   0.079932   448.582670  3.640872\n",
       "           0.90   0.079344   446.508872  3.693503\n",
       "           1.00   0.079175   446.548257  3.697356\n",
       "           2.00   0.078788   501.886519  3.706099\n",
       "           5.00   0.080214   728.617604  3.691758\n",
       "14         0.20   0.274823   482.561355  0.674831\n",
       "           0.25   0.238917   513.905320  0.846461\n",
       "           0.30   0.141021   666.837360  1.472154\n",
       "           0.50   0.085860   728.236199  3.462205\n",
       "           0.75   0.085094   451.198961  4.002142\n",
       "           0.90   0.084411   444.204063  3.996936\n",
       "           1.00   0.084417   440.720645  3.980576\n",
       "           2.00   0.082363   399.768191  3.750880\n",
       "           5.00   0.084238   500.246486  3.694477\n",
       "16         0.20   0.211533   437.349837  0.828370\n",
       "           0.25   0.232423   450.815126  0.827487\n",
       "           0.30   0.162359   604.936170  1.518580\n",
       "           0.50   0.100239   687.014634  2.886026\n",
       "           0.75   0.097533   427.986822  3.554180\n",
       "           0.90   0.097785   419.076928  3.279546\n",
       "           1.00   0.096574   416.655493  3.586737\n",
       "           2.00   0.093288   395.521308  3.934503\n",
       "           5.00   0.096695   392.318785  3.431806\n",
       "18         0.20   0.212348   391.342165  0.881602\n",
       "           0.25   0.232169   400.490187  0.908988\n",
       "           0.30   0.105787   567.819877  1.743468\n",
       "           0.50   0.107428   688.957515  2.804763\n",
       "           0.75   0.106236   518.583882  3.044675\n",
       "           0.90   0.106723   389.714413  3.120162\n",
       "           1.00   0.106435   388.089099  3.104373\n",
       "           2.00   0.104013   384.333690  3.382573\n",
       "           5.00   0.105179   384.802954  3.231277\n",
       "20         0.20   0.193447   358.332701  0.789035\n",
       "           0.25   0.220433   363.608219  0.850563\n",
       "           0.30   0.086999   553.463787  2.464174\n",
       "           0.50   0.118305   672.696833  2.355492\n",
       "           0.75   0.113387   578.764510  3.199555\n",
       "           0.90   0.114656   485.403284  3.034178\n",
       "           1.00   0.113790   448.903612  3.091344\n",
       "           2.00   0.111252   393.833649  3.283429\n",
       "           5.00   0.112082   409.216519  3.122274\n",
       "25         0.20   0.131826   303.498420  0.873756\n",
       "           0.25   0.193965   384.583667  1.363059\n",
       "           0.30   0.092608   459.659859  2.143029\n",
       "           0.50   0.126170   617.175050  2.700748\n",
       "           0.75   0.127486   537.531429  2.726730\n",
       "           0.90   0.125237   533.675008  2.762983\n",
       "           1.00   0.124675   537.610842  2.728602\n",
       "           2.00   0.125298   543.044568  2.686785\n",
       "           5.00   0.123608   532.102942  2.822056\n",
       "30         0.20   0.126815   255.223890  1.062791\n",
       "           0.25   0.089549   352.268684  1.598288\n",
       "           0.30   0.104985   424.429642  1.945359\n",
       "           0.50   0.132850   569.933829  2.419883\n",
       "           0.75   0.127478   476.604520  2.808345\n",
       "           0.90   0.127424   471.047920  2.811408\n",
       "           1.00   0.125563   470.336424  2.758649\n",
       "           2.00   0.127814   474.520308  2.878019\n",
       "           5.00   0.126687   466.640336  2.796505\n",
       "35         0.20   0.128837   228.637695  1.224803\n",
       "           0.25   0.085387   318.318292  1.989013\n",
       "           0.30   0.119132   408.411550  1.972480\n",
       "           0.50   0.133727   522.061270  2.646090\n",
       "           0.75   0.140252   505.524382  2.413640\n",
       "           0.90   0.138798   448.587373  2.431586\n",
       "           1.00   0.137019   451.545756  2.537447\n",
       "           2.00   0.134664   447.773367  2.751019\n",
       "           5.00   0.136409   451.224911  2.602554\n",
       "40         0.20   0.137961   240.281617  1.598987\n",
       "           0.25   0.095631   303.992369  2.041142\n",
       "           0.30   0.125319   372.689524  2.013432\n",
       "           0.50   0.144838   474.500363  2.396345\n",
       "           0.75   0.144076   504.052372  2.451248\n",
       "           0.90   0.142236   411.790573  2.416968\n",
       "           1.00   0.139658   430.327329  2.503305\n",
       "           2.00   0.140153   414.806885  2.514750\n",
       "           5.00   0.139846   412.093692  2.495617"
      ]
     },
     "metadata": {},
     "output_type": "display_data"
    }
   ],
   "source": [
    "with pd.option_context(\"display.max_rows\", None, \"display.max_columns\", None):\n",
    "    _df = ensemble.groupby([\"n_clusters\", \"delta\"]).mean()\n",
    "    display(_df)"
   ]
  },
  {
   "cell_type": "code",
   "execution_count": 36,
   "metadata": {
    "execution": {
     "iopub.execute_input": "2021-01-13T20:20:31.091908Z",
     "iopub.status.busy": "2021-01-13T20:20:31.091539Z",
     "iopub.status.idle": "2021-01-13T20:20:34.201430Z",
     "shell.execute_reply": "2021-01-13T20:20:34.201728Z"
    },
    "papermill": {
     "duration": 3.134055,
     "end_time": "2021-01-13T20:20:34.201836",
     "exception": false,
     "start_time": "2021-01-13T20:20:31.067781",
     "status": "completed"
    },
    "tags": []
   },
   "outputs": [
    {
     "data": {
      "image/png": "[encoded data removed]",
      "text/plain": [
       "<Figure size 1008x432 with 1 Axes>"
      ]
     },
     "metadata": {},
     "output_type": "display_data"
    }
   ],
   "source": [
    "with sns.plotting_context(\"talk\", font_scale=0.75), sns.axes_style(\n",
    "    \"whitegrid\", {\"grid.linestyle\": \"--\"}\n",
    "):\n",
    "    fig = plt.figure(figsize=(14, 6))\n",
    "    ax = sns.pointplot(data=ensemble, x=\"n_clusters\", y=\"si_score\", hue=\"delta\")\n",
    "    ax.set_ylabel(\"Silhouette index\\n(higher is better)\")\n",
    "    ax.set_xlabel(\"Number of clusters ($k$)\")\n",
    "    ax.set_xticklabels(ax.get_xticklabels(), rotation=45)\n",
    "    plt.grid(True)\n",
    "    plt.tight_layout()"
   ]
  },
  {
   "cell_type": "code",
   "execution_count": 37,
   "metadata": {
    "execution": {
     "iopub.execute_input": "2021-01-13T20:20:34.250993Z",
     "iopub.status.busy": "2021-01-13T20:20:34.250611Z",
     "iopub.status.idle": "2021-01-13T20:20:37.116601Z",
     "shell.execute_reply": "2021-01-13T20:20:37.116968Z"
    },
    "papermill": {
     "duration": 2.892078,
     "end_time": "2021-01-13T20:20:37.117075",
     "exception": false,
     "start_time": "2021-01-13T20:20:34.224997",
     "status": "completed"
    },
    "tags": []
   },
   "outputs": [
    {
     "data": {
      "image/png": "[encoded data removed]",
      "text/plain": [
       "<Figure size 1008x432 with 1 Axes>"
      ]
     },
     "metadata": {},
     "output_type": "display_data"
    }
   ],
   "source": [
    "with sns.plotting_context(\"talk\", font_scale=0.75), sns.axes_style(\n",
    "    \"whitegrid\", {\"grid.linestyle\": \"--\"}\n",
    "):\n",
    "    fig = plt.figure(figsize=(14, 6))\n",
    "    ax = sns.pointplot(data=ensemble, x=\"n_clusters\", y=\"ch_score\", hue=\"delta\")\n",
    "    ax.set_ylabel(\"Calinski-Harabasz index\\n(higher is better)\")\n",
    "    ax.set_xlabel(\"Number of clusters ($k$)\")\n",
    "    ax.set_xticklabels(ax.get_xticklabels(), rotation=45)\n",
    "    plt.grid(True)\n",
    "    plt.tight_layout()"
   ]
  },
  {
   "cell_type": "code",
   "execution_count": 38,
   "metadata": {
    "execution": {
     "iopub.execute_input": "2021-01-13T20:20:37.170023Z",
     "iopub.status.busy": "2021-01-13T20:20:37.169655Z",
     "iopub.status.idle": "2021-01-13T20:20:40.078664Z",
     "shell.execute_reply": "2021-01-13T20:20:40.078965Z"
    },
    "papermill": {
     "duration": 2.937127,
     "end_time": "2021-01-13T20:20:40.079074",
     "exception": false,
     "start_time": "2021-01-13T20:20:37.141947",
     "status": "completed"
    },
    "tags": []
   },
   "outputs": [
    {
     "data": {
      "image/png": "[encoded data removed]",
      "text/plain": [
       "<Figure size 1008x432 with 1 Axes>"
      ]
     },
     "metadata": {},
     "output_type": "display_data"
    }
   ],
   "source": [
    "with sns.plotting_context(\"talk\", font_scale=0.75), sns.axes_style(\n",
    "    \"whitegrid\", {\"grid.linestyle\": \"--\"}\n",
    "):\n",
    "    fig = plt.figure(figsize=(14, 6))\n",
    "    ax = sns.pointplot(data=ensemble, x=\"n_clusters\", y=\"db_score\", hue=\"delta\")\n",
    "    ax.set_ylabel(\"Davies-Bouldin index\\n(lower is better)\")\n",
    "    ax.set_xlabel(\"Number of clusters ($k$)\")\n",
    "    ax.set_xticklabels(ax.get_xticklabels(), rotation=45)\n",
    "    plt.grid(True)\n",
    "    plt.tight_layout()"
   ]
  },
  {
   "cell_type": "code",
   "execution_count": null,
   "metadata": {
    "papermill": {
     "duration": 0.026883,
     "end_time": "2021-01-13T20:20:40.133446",
     "exception": false,
     "start_time": "2021-01-13T20:20:40.106563",
     "status": "completed"
    },
    "tags": []
   },
   "outputs": [],
   "source": []
  }
 ],
 "metadata": {
  "jupytext": {
   "cell_metadata_filter": "all,-execution,-papermill",
   "formats": "ipynb,py//py:percent"
  },
  "kernelspec": {
   "display_name": "Python 3",
   "language": "python",
   "name": "python3"
  },
  "language_info": {
   "codemirror_mode": {
    "name": "ipython",
    "version": 3
   },
   "file_extension": ".py",
   "mimetype": "text/x-python",
   "name": "python",
   "nbconvert_exporter": "python",
   "pygments_lexer": "ipython3",
   "version": "3.8.6"
  },
  "papermill": {
   "default_parameters": {},
   "duration": 19.034579,
   "end_time": "2021-01-13T20:20:40.566519",
   "environment_variables": {},
   "exception": null,
   "input_path": "16_consensus_clustering/pre_analysis/10_02-spectral_clustering-ensemble-umap.ipynb",
   "output_path": "16_consensus_clustering/pre_analysis/10_02-spectral_clustering-ensemble-umap.run.ipynb",
   "parameters": {},
   "start_time": "2021-01-13T20:20:21.531940",
   "version": "2.2.2"
  },
  "toc-autonumbering": true,
  "toc-showcode": false,
  "toc-showmarkdowntxt": false,
  "toc-showtags": false
 },
 "nbformat": 4,
 "nbformat_minor": 4
}
