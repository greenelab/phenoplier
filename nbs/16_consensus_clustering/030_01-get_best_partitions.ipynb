{
 "cells": [
  {
   "cell_type": "markdown",
   "metadata": {
    "papermill": {
     "duration": 0.026391,
     "end_time": "2021-02-16T01:04:51.190219",
     "exception": false,
     "start_time": "2021-02-16T01:04:51.163828",
     "status": "completed"
    },
    "tags": []
   },
   "source": [
    "# Description"
   ]
  },
  {
   "cell_type": "markdown",
   "metadata": {
    "papermill": {
     "duration": 0.010017,
     "end_time": "2021-02-16T01:04:51.211288",
     "exception": false,
     "start_time": "2021-02-16T01:04:51.201271",
     "status": "completed"
    },
    "tags": []
   },
   "source": [
    "It analyzes how consensus partitions generated before agree with the ensemble, and selects the best ones for downstream analyses."
   ]
  },
  {
   "cell_type": "markdown",
   "metadata": {
    "papermill": {
     "duration": 0.010536,
     "end_time": "2021-02-16T01:04:51.231913",
     "exception": false,
     "start_time": "2021-02-16T01:04:51.221377",
     "status": "completed"
    },
    "tags": []
   },
   "source": [
    "# Modules loading"
   ]
  },
  {
   "cell_type": "code",
   "execution_count": 1,
   "metadata": {
    "execution": {
     "iopub.execute_input": "2021-02-16T01:04:51.254639Z",
     "iopub.status.busy": "2021-02-16T01:04:51.254259Z",
     "iopub.status.idle": "2021-02-16T01:04:51.262088Z",
     "shell.execute_reply": "2021-02-16T01:04:51.261649Z"
    },
    "papermill": {
     "duration": 0.020684,
     "end_time": "2021-02-16T01:04:51.262209",
     "exception": false,
     "start_time": "2021-02-16T01:04:51.241525",
     "status": "completed"
    },
    "tags": []
   },
   "outputs": [],
   "source": [
    "%load_ext autoreload\n",
    "%autoreload 2"
   ]
  },
  {
   "cell_type": "code",
   "execution_count": 2,
   "metadata": {
    "execution": {
     "iopub.execute_input": "2021-02-16T01:04:51.284942Z",
     "iopub.status.busy": "2021-02-16T01:04:51.284505Z",
     "iopub.status.idle": "2021-02-16T01:04:51.796570Z",
     "shell.execute_reply": "2021-02-16T01:04:51.796189Z"
    },
    "papermill": {
     "duration": 0.524106,
     "end_time": "2021-02-16T01:04:51.796662",
     "exception": false,
     "start_time": "2021-02-16T01:04:51.272556",
     "status": "completed"
    },
    "tags": []
   },
   "outputs": [],
   "source": [
    "from pathlib import Path\n",
    "from IPython.display import display\n",
    "\n",
    "import pandas as pd\n",
    "import matplotlib.pyplot as plt\n",
    "import seaborn as sns\n",
    "\n",
    "import conf"
   ]
  },
  {
   "cell_type": "markdown",
   "metadata": {
    "papermill": {
     "duration": 0.009471,
     "end_time": "2021-02-16T01:04:51.816108",
     "exception": false,
     "start_time": "2021-02-16T01:04:51.806637",
     "status": "completed"
    },
    "tags": []
   },
   "source": [
    "# Load consensus clustering results"
   ]
  },
  {
   "cell_type": "code",
   "execution_count": 3,
   "metadata": {
    "execution": {
     "iopub.execute_input": "2021-02-16T01:04:51.838060Z",
     "iopub.status.busy": "2021-02-16T01:04:51.837685Z",
     "iopub.status.idle": "2021-02-16T01:04:51.849324Z",
     "shell.execute_reply": "2021-02-16T01:04:51.849620Z"
    },
    "papermill": {
     "duration": 0.024155,
     "end_time": "2021-02-16T01:04:51.849726",
     "exception": false,
     "start_time": "2021-02-16T01:04:51.825571",
     "status": "completed"
    },
    "tags": []
   },
   "outputs": [
    {
     "data": {
      "text/plain": [
       "PosixPath('/home/miltondp/projects/labs/greenelab/phenoplier/base3/results/clustering/consensus_clustering')"
      ]
     },
     "metadata": {},
     "output_type": "display_data"
    }
   ],
   "source": [
    "CONSENSUS_CLUSTERING_DIR = Path(\n",
    "    conf.RESULTS[\"CLUSTERING_DIR\"], \"consensus_clustering\"\n",
    ").resolve()\n",
    "\n",
    "display(CONSENSUS_CLUSTERING_DIR)"
   ]
  },
  {
   "cell_type": "code",
   "execution_count": 4,
   "metadata": {
    "execution": {
     "iopub.execute_input": "2021-02-16T01:04:51.872590Z",
     "iopub.status.busy": "2021-02-16T01:04:51.872222Z",
     "iopub.status.idle": "2021-02-16T01:04:51.882684Z",
     "shell.execute_reply": "2021-02-16T01:04:51.882316Z"
    },
    "papermill": {
     "duration": 0.02276,
     "end_time": "2021-02-16T01:04:51.882771",
     "exception": false,
     "start_time": "2021-02-16T01:04:51.860011",
     "status": "completed"
    },
    "tags": []
   },
   "outputs": [
    {
     "data": {
      "text/plain": [
       "PosixPath('/home/miltondp/projects/labs/greenelab/phenoplier/base3/results/clustering/consensus_clustering/consensus_clustering_runs.pkl')"
      ]
     },
     "metadata": {},
     "output_type": "display_data"
    }
   ],
   "source": [
    "input_file = Path(CONSENSUS_CLUSTERING_DIR, \"consensus_clustering_runs.pkl\").resolve()\n",
    "display(input_file)"
   ]
  },
  {
   "cell_type": "code",
   "execution_count": 5,
   "metadata": {
    "execution": {
     "iopub.execute_input": "2021-02-16T01:04:51.906215Z",
     "iopub.status.busy": "2021-02-16T01:04:51.905853Z",
     "iopub.status.idle": "2021-02-16T01:04:51.955412Z",
     "shell.execute_reply": "2021-02-16T01:04:51.954904Z"
    },
    "papermill": {
     "duration": 0.062118,
     "end_time": "2021-02-16T01:04:51.955528",
     "exception": false,
     "start_time": "2021-02-16T01:04:51.893410",
     "status": "completed"
    },
    "tags": []
   },
   "outputs": [],
   "source": [
    "consensus_clustering_results = pd.read_pickle(input_file)"
   ]
  },
  {
   "cell_type": "code",
   "execution_count": 6,
   "metadata": {
    "execution": {
     "iopub.execute_input": "2021-02-16T01:04:51.985490Z",
     "iopub.status.busy": "2021-02-16T01:04:51.985009Z",
     "iopub.status.idle": "2021-02-16T01:04:51.997528Z",
     "shell.execute_reply": "2021-02-16T01:04:51.997056Z"
    },
    "papermill": {
     "duration": 0.028351,
     "end_time": "2021-02-16T01:04:51.997638",
     "exception": false,
     "start_time": "2021-02-16T01:04:51.969287",
     "status": "completed"
    },
    "tags": []
   },
   "outputs": [
    {
     "data": {
      "text/plain": [
       "(413, 12)"
      ]
     },
     "execution_count": 6,
     "metadata": {},
     "output_type": "execute_result"
    }
   ],
   "source": [
    "consensus_clustering_results.shape"
   ]
  },
  {
   "cell_type": "code",
   "execution_count": 7,
   "metadata": {
    "execution": {
     "iopub.execute_input": "2021-02-16T01:04:52.026024Z",
     "iopub.status.busy": "2021-02-16T01:04:52.025629Z",
     "iopub.status.idle": "2021-02-16T01:04:52.049690Z",
     "shell.execute_reply": "2021-02-16T01:04:52.049994Z"
    },
    "papermill": {
     "duration": 0.038557,
     "end_time": "2021-02-16T01:04:52.050108",
     "exception": false,
     "start_time": "2021-02-16T01:04:52.011551",
     "status": "completed"
    },
    "tags": []
   },
   "outputs": [
    {
     "data": {
      "text/html": [
       "<div>\n",
       "<style scoped>\n",
       "    .dataframe tbody tr th:only-of-type {\n",
       "        vertical-align: middle;\n",
       "    }\n",
       "\n",
       "    .dataframe tbody tr th {\n",
       "        vertical-align: top;\n",
       "    }\n",
       "\n",
       "    .dataframe thead th {\n",
       "        text-align: right;\n",
       "    }\n",
       "</style>\n",
       "<table border=\"1\" class=\"dataframe\">\n",
       "  <thead>\n",
       "    <tr style=\"text-align: right;\">\n",
       "      <th></th>\n",
       "      <th>method</th>\n",
       "      <th>partition</th>\n",
       "      <th>k</th>\n",
       "      <th>ari_mean</th>\n",
       "      <th>ari_median</th>\n",
       "      <th>ari_std</th>\n",
       "      <th>ami_mean</th>\n",
       "      <th>ami_median</th>\n",
       "      <th>ami_std</th>\n",
       "      <th>nmi_mean</th>\n",
       "      <th>nmi_median</th>\n",
       "      <th>nmi_std</th>\n",
       "    </tr>\n",
       "  </thead>\n",
       "  <tbody>\n",
       "    <tr>\n",
       "      <th>0</th>\n",
       "      <td>scc_030</td>\n",
       "      <td>[0, 0, 0, 0, 0, 0, 0, 0, 0, 0, 0, 0, 0, 0, 0, ...</td>\n",
       "      <td>2</td>\n",
       "      <td>0.225462</td>\n",
       "      <td>0.010357</td>\n",
       "      <td>0.350445</td>\n",
       "      <td>0.236081</td>\n",
       "      <td>0.054698</td>\n",
       "      <td>0.322846</td>\n",
       "      <td>0.238314</td>\n",
       "      <td>0.056364</td>\n",
       "      <td>0.322127</td>\n",
       "    </tr>\n",
       "    <tr>\n",
       "      <th>1</th>\n",
       "      <td>scc_030</td>\n",
       "      <td>[0, 0, 0, 0, 0, 0, 0, 0, 0, 0, 0, 0, 0, 0, 0, ...</td>\n",
       "      <td>3</td>\n",
       "      <td>0.161708</td>\n",
       "      <td>0.063624</td>\n",
       "      <td>0.183089</td>\n",
       "      <td>0.230107</td>\n",
       "      <td>0.183277</td>\n",
       "      <td>0.117991</td>\n",
       "      <td>0.234523</td>\n",
       "      <td>0.187130</td>\n",
       "      <td>0.117597</td>\n",
       "    </tr>\n",
       "    <tr>\n",
       "      <th>2</th>\n",
       "      <td>scc_030</td>\n",
       "      <td>[0, 0, 0, 0, 0, 0, 0, 0, 0, 0, 0, 0, 0, 0, 0, ...</td>\n",
       "      <td>4</td>\n",
       "      <td>0.225381</td>\n",
       "      <td>0.010368</td>\n",
       "      <td>0.350167</td>\n",
       "      <td>0.232825</td>\n",
       "      <td>0.059509</td>\n",
       "      <td>0.304760</td>\n",
       "      <td>0.237129</td>\n",
       "      <td>0.063543</td>\n",
       "      <td>0.303123</td>\n",
       "    </tr>\n",
       "    <tr>\n",
       "      <th>3</th>\n",
       "      <td>scc_030</td>\n",
       "      <td>[0, 0, 0, 0, 0, 0, 0, 0, 0, 0, 0, 0, 0, 0, 0, ...</td>\n",
       "      <td>5</td>\n",
       "      <td>0.234826</td>\n",
       "      <td>0.013491</td>\n",
       "      <td>0.352296</td>\n",
       "      <td>0.250994</td>\n",
       "      <td>0.074993</td>\n",
       "      <td>0.303274</td>\n",
       "      <td>0.256369</td>\n",
       "      <td>0.079998</td>\n",
       "      <td>0.301111</td>\n",
       "    </tr>\n",
       "    <tr>\n",
       "      <th>4</th>\n",
       "      <td>scc_030</td>\n",
       "      <td>[0, 0, 0, 0, 0, 0, 0, 0, 0, 0, 0, 0, 0, 0, 0, ...</td>\n",
       "      <td>6</td>\n",
       "      <td>0.172859</td>\n",
       "      <td>0.061933</td>\n",
       "      <td>0.193501</td>\n",
       "      <td>0.248806</td>\n",
       "      <td>0.193558</td>\n",
       "      <td>0.134298</td>\n",
       "      <td>0.255571</td>\n",
       "      <td>0.200307</td>\n",
       "      <td>0.132916</td>\n",
       "    </tr>\n",
       "  </tbody>\n",
       "</table>\n",
       "</div>"
      ],
      "text/plain": [
       "    method                                          partition  k  ari_mean  \\\n",
       "0  scc_030  [0, 0, 0, 0, 0, 0, 0, 0, 0, 0, 0, 0, 0, 0, 0, ...  2  0.225462   \n",
       "1  scc_030  [0, 0, 0, 0, 0, 0, 0, 0, 0, 0, 0, 0, 0, 0, 0, ...  3  0.161708   \n",
       "2  scc_030  [0, 0, 0, 0, 0, 0, 0, 0, 0, 0, 0, 0, 0, 0, 0, ...  4  0.225381   \n",
       "3  scc_030  [0, 0, 0, 0, 0, 0, 0, 0, 0, 0, 0, 0, 0, 0, 0, ...  5  0.234826   \n",
       "4  scc_030  [0, 0, 0, 0, 0, 0, 0, 0, 0, 0, 0, 0, 0, 0, 0, ...  6  0.172859   \n",
       "\n",
       "   ari_median   ari_std  ami_mean  ami_median   ami_std  nmi_mean  nmi_median  \\\n",
       "0    0.010357  0.350445  0.236081    0.054698  0.322846  0.238314    0.056364   \n",
       "1    0.063624  0.183089  0.230107    0.183277  0.117991  0.234523    0.187130   \n",
       "2    0.010368  0.350167  0.232825    0.059509  0.304760  0.237129    0.063543   \n",
       "3    0.013491  0.352296  0.250994    0.074993  0.303274  0.256369    0.079998   \n",
       "4    0.061933  0.193501  0.248806    0.193558  0.134298  0.255571    0.200307   \n",
       "\n",
       "    nmi_std  \n",
       "0  0.322127  \n",
       "1  0.117597  \n",
       "2  0.303123  \n",
       "3  0.301111  \n",
       "4  0.132916  "
      ]
     },
     "execution_count": 7,
     "metadata": {},
     "output_type": "execute_result"
    }
   ],
   "source": [
    "consensus_clustering_results.head()"
   ]
  },
  {
   "cell_type": "markdown",
   "metadata": {
    "papermill": {
     "duration": 0.011716,
     "end_time": "2021-02-16T01:04:52.073817",
     "exception": false,
     "start_time": "2021-02-16T01:04:52.062101",
     "status": "completed"
    },
    "tags": []
   },
   "source": [
    "# Explore best partition per k"
   ]
  },
  {
   "cell_type": "code",
   "execution_count": 8,
   "metadata": {
    "execution": {
     "iopub.execute_input": "2021-02-16T01:04:52.099002Z",
     "iopub.status.busy": "2021-02-16T01:04:52.098635Z",
     "iopub.status.idle": "2021-02-16T01:04:52.154960Z",
     "shell.execute_reply": "2021-02-16T01:04:52.154585Z"
    },
    "papermill": {
     "duration": 0.07001,
     "end_time": "2021-02-16T01:04:52.155047",
     "exception": false,
     "start_time": "2021-02-16T01:04:52.085037",
     "status": "completed"
    },
    "tags": []
   },
   "outputs": [
    {
     "data": {
      "text/html": [
       "<div>\n",
       "<style scoped>\n",
       "    .dataframe tbody tr th:only-of-type {\n",
       "        vertical-align: middle;\n",
       "    }\n",
       "\n",
       "    .dataframe tbody tr th {\n",
       "        vertical-align: top;\n",
       "    }\n",
       "\n",
       "    .dataframe thead th {\n",
       "        text-align: right;\n",
       "    }\n",
       "</style>\n",
       "<table border=\"1\" class=\"dataframe\">\n",
       "  <thead>\n",
       "    <tr style=\"text-align: right;\">\n",
       "      <th></th>\n",
       "      <th></th>\n",
       "      <th>method</th>\n",
       "      <th>k</th>\n",
       "      <th>ami_mean</th>\n",
       "      <th>ami_median</th>\n",
       "    </tr>\n",
       "    <tr>\n",
       "      <th>k</th>\n",
       "      <th></th>\n",
       "      <th></th>\n",
       "      <th></th>\n",
       "      <th></th>\n",
       "      <th></th>\n",
       "    </tr>\n",
       "  </thead>\n",
       "  <tbody>\n",
       "    <tr>\n",
       "      <th>11</th>\n",
       "      <th>68</th>\n",
       "      <td>scc_020</td>\n",
       "      <td>11</td>\n",
       "      <td>0.301837</td>\n",
       "      <td>0.135451</td>\n",
       "    </tr>\n",
       "    <tr>\n",
       "      <th>10</th>\n",
       "      <th>67</th>\n",
       "      <td>scc_020</td>\n",
       "      <td>10</td>\n",
       "      <td>0.301736</td>\n",
       "      <td>0.134304</td>\n",
       "    </tr>\n",
       "    <tr>\n",
       "      <th>9</th>\n",
       "      <th>66</th>\n",
       "      <td>scc_020</td>\n",
       "      <td>9</td>\n",
       "      <td>0.301299</td>\n",
       "      <td>0.133668</td>\n",
       "    </tr>\n",
       "    <tr>\n",
       "      <th>8</th>\n",
       "      <th>65</th>\n",
       "      <td>scc_020</td>\n",
       "      <td>8</td>\n",
       "      <td>0.300169</td>\n",
       "      <td>0.133086</td>\n",
       "    </tr>\n",
       "    <tr>\n",
       "      <th>7</th>\n",
       "      <th>64</th>\n",
       "      <td>scc_020</td>\n",
       "      <td>7</td>\n",
       "      <td>0.299448</td>\n",
       "      <td>0.131352</td>\n",
       "    </tr>\n",
       "    <tr>\n",
       "      <th>13</th>\n",
       "      <th>70</th>\n",
       "      <td>scc_020</td>\n",
       "      <td>13</td>\n",
       "      <td>0.298894</td>\n",
       "      <td>0.142181</td>\n",
       "    </tr>\n",
       "    <tr>\n",
       "      <th>16</th>\n",
       "      <th>73</th>\n",
       "      <td>scc_020</td>\n",
       "      <td>16</td>\n",
       "      <td>0.298313</td>\n",
       "      <td>0.154292</td>\n",
       "    </tr>\n",
       "    <tr>\n",
       "      <th>5</th>\n",
       "      <th>121</th>\n",
       "      <td>eac_average_coassoc_matrix</td>\n",
       "      <td>5</td>\n",
       "      <td>0.298287</td>\n",
       "      <td>0.132804</td>\n",
       "    </tr>\n",
       "    <tr>\n",
       "      <th>4</th>\n",
       "      <th>120</th>\n",
       "      <td>eac_average_coassoc_matrix</td>\n",
       "      <td>4</td>\n",
       "      <td>0.296430</td>\n",
       "      <td>0.131213</td>\n",
       "    </tr>\n",
       "    <tr>\n",
       "      <th>14</th>\n",
       "      <th>71</th>\n",
       "      <td>scc_020</td>\n",
       "      <td>14</td>\n",
       "      <td>0.296078</td>\n",
       "      <td>0.150176</td>\n",
       "    </tr>\n",
       "  </tbody>\n",
       "</table>\n",
       "</div>"
      ],
      "text/plain": [
       "                            method   k  ami_mean  ami_median\n",
       "k                                                           \n",
       "11 68                      scc_020  11  0.301837    0.135451\n",
       "10 67                      scc_020  10  0.301736    0.134304\n",
       "9  66                      scc_020   9  0.301299    0.133668\n",
       "8  65                      scc_020   8  0.300169    0.133086\n",
       "7  64                      scc_020   7  0.299448    0.131352\n",
       "13 70                      scc_020  13  0.298894    0.142181\n",
       "16 73                      scc_020  16  0.298313    0.154292\n",
       "5  121  eac_average_coassoc_matrix   5  0.298287    0.132804\n",
       "4  120  eac_average_coassoc_matrix   4  0.296430    0.131213\n",
       "14 71                      scc_020  14  0.296078    0.150176"
      ]
     },
     "metadata": {},
     "output_type": "display_data"
    }
   ],
   "source": [
    "_col0, _col1 = \"ami_mean\", \"ami_median\"\n",
    "_tmp = (\n",
    "    consensus_clustering_results.groupby(\"k\")\n",
    "    .apply(lambda x: x.sort_values(_col0, ascending=False).head(1))\n",
    "    .sort_values(_col0, ascending=False)[[\"method\", \"k\", _col0, _col1]]\n",
    ")\n",
    "display(_tmp.head(10))"
   ]
  },
  {
   "cell_type": "code",
   "execution_count": 9,
   "metadata": {
    "execution": {
     "iopub.execute_input": "2021-02-16T01:04:52.182937Z",
     "iopub.status.busy": "2021-02-16T01:04:52.182513Z",
     "iopub.status.idle": "2021-02-16T01:04:54.061167Z",
     "shell.execute_reply": "2021-02-16T01:04:54.061469Z"
    },
    "papermill": {
     "duration": 1.894574,
     "end_time": "2021-02-16T01:04:54.061576",
     "exception": false,
     "start_time": "2021-02-16T01:04:52.167002",
     "status": "completed"
    },
    "tags": []
   },
   "outputs": [
    {
     "data": {
      "image/png": "[encoded data removed]",
      "text/plain": [
       "<Figure size 864x432 with 1 Axes>"
      ]
     },
     "metadata": {},
     "output_type": "display_data"
    }
   ],
   "source": [
    "with sns.plotting_context(\"talk\", font_scale=0.75), sns.axes_style(\n",
    "    \"whitegrid\", {\"grid.linestyle\": \"--\"}\n",
    "):\n",
    "    fig, ax = plt.subplots(figsize=(12, 6))\n",
    "    ax = sns.pointplot(data=_tmp, x=\"k\", y=_col0, ci=None, label=\"One\")\n",
    "    ax = sns.pointplot(\n",
    "        data=_tmp, x=\"k\", y=_col1, ci=None, color=\"red\", label=\"Two\", ax=ax\n",
    "    )\n",
    "    ax.set_ylabel(\"Agreement with ensemble (AMI)\")\n",
    "    ax.set_xlabel(\"Number of clusters ($k$)\")\n",
    "    ax.set_xticklabels(ax.get_xticklabels(), rotation=45)\n",
    "    plt.legend(labels=[\"Mean\", \"Median\"])\n",
    "    plt.grid(True)\n",
    "    plt.tight_layout()"
   ]
  },
  {
   "cell_type": "markdown",
   "metadata": {
    "papermill": {
     "duration": 0.012692,
     "end_time": "2021-02-16T01:04:54.087457",
     "exception": false,
     "start_time": "2021-02-16T01:04:54.074765",
     "status": "completed"
    },
    "tags": []
   },
   "source": [
    "# Select best partition per k"
   ]
  },
  {
   "cell_type": "code",
   "execution_count": 10,
   "metadata": {
    "execution": {
     "iopub.execute_input": "2021-02-16T01:04:54.115972Z",
     "iopub.status.busy": "2021-02-16T01:04:54.115603Z",
     "iopub.status.idle": "2021-02-16T01:04:54.164010Z",
     "shell.execute_reply": "2021-02-16T01:04:54.163681Z"
    },
    "papermill": {
     "duration": 0.063923,
     "end_time": "2021-02-16T01:04:54.164100",
     "exception": false,
     "start_time": "2021-02-16T01:04:54.100177",
     "status": "completed"
    },
    "tags": []
   },
   "outputs": [],
   "source": [
    "_measure_col = \"ami_mean\"\n",
    "best_parts = (\n",
    "    consensus_clustering_results.groupby(\"k\")\n",
    "    .apply(lambda x: x.sort_values(_measure_col, ascending=False).head(1))\n",
    "    .sort_values(_measure_col, ascending=False)[\n",
    "        [\"method\", \"k\", \"partition\", _measure_col]\n",
    "    ]\n",
    ")"
   ]
  },
  {
   "cell_type": "code",
   "execution_count": 11,
   "metadata": {
    "execution": {
     "iopub.execute_input": "2021-02-16T01:04:54.194110Z",
     "iopub.status.busy": "2021-02-16T01:04:54.193669Z",
     "iopub.status.idle": "2021-02-16T01:04:54.204920Z",
     "shell.execute_reply": "2021-02-16T01:04:54.205241Z"
    },
    "papermill": {
     "duration": 0.028154,
     "end_time": "2021-02-16T01:04:54.205372",
     "exception": false,
     "start_time": "2021-02-16T01:04:54.177218",
     "status": "completed"
    },
    "tags": []
   },
   "outputs": [],
   "source": [
    "best_parts = best_parts.set_index(\"k\")"
   ]
  },
  {
   "cell_type": "code",
   "execution_count": 12,
   "metadata": {
    "execution": {
     "iopub.execute_input": "2021-02-16T01:04:54.235071Z",
     "iopub.status.busy": "2021-02-16T01:04:54.234706Z",
     "iopub.status.idle": "2021-02-16T01:04:54.244563Z",
     "shell.execute_reply": "2021-02-16T01:04:54.244904Z"
    },
    "papermill": {
     "duration": 0.025554,
     "end_time": "2021-02-16T01:04:54.245012",
     "exception": false,
     "start_time": "2021-02-16T01:04:54.219458",
     "status": "completed"
    },
    "tags": []
   },
   "outputs": [
    {
     "data": {
      "text/plain": [
       "(59, 3)"
      ]
     },
     "execution_count": 12,
     "metadata": {},
     "output_type": "execute_result"
    }
   ],
   "source": [
    "best_parts.shape"
   ]
  },
  {
   "cell_type": "code",
   "execution_count": 13,
   "metadata": {
    "execution": {
     "iopub.execute_input": "2021-02-16T01:04:54.275073Z",
     "iopub.status.busy": "2021-02-16T01:04:54.274709Z",
     "iopub.status.idle": "2021-02-16T01:04:54.297317Z",
     "shell.execute_reply": "2021-02-16T01:04:54.297639Z"
    },
    "papermill": {
     "duration": 0.038993,
     "end_time": "2021-02-16T01:04:54.297747",
     "exception": false,
     "start_time": "2021-02-16T01:04:54.258754",
     "status": "completed"
    },
    "tags": []
   },
   "outputs": [
    {
     "data": {
      "text/html": [
       "<div>\n",
       "<style scoped>\n",
       "    .dataframe tbody tr th:only-of-type {\n",
       "        vertical-align: middle;\n",
       "    }\n",
       "\n",
       "    .dataframe tbody tr th {\n",
       "        vertical-align: top;\n",
       "    }\n",
       "\n",
       "    .dataframe thead th {\n",
       "        text-align: right;\n",
       "    }\n",
       "</style>\n",
       "<table border=\"1\" class=\"dataframe\">\n",
       "  <thead>\n",
       "    <tr style=\"text-align: right;\">\n",
       "      <th></th>\n",
       "      <th>method</th>\n",
       "      <th>partition</th>\n",
       "      <th>ami_mean</th>\n",
       "    </tr>\n",
       "    <tr>\n",
       "      <th>k</th>\n",
       "      <th></th>\n",
       "      <th></th>\n",
       "      <th></th>\n",
       "    </tr>\n",
       "  </thead>\n",
       "  <tbody>\n",
       "    <tr>\n",
       "      <th>11</th>\n",
       "      <td>scc_020</td>\n",
       "      <td>[0, 0, 0, 0, 0, 0, 0, 0, 0, 0, 0, 0, 0, 0, 0, ...</td>\n",
       "      <td>0.301837</td>\n",
       "    </tr>\n",
       "    <tr>\n",
       "      <th>10</th>\n",
       "      <td>scc_020</td>\n",
       "      <td>[0, 0, 0, 0, 0, 0, 0, 0, 0, 0, 0, 0, 0, 0, 0, ...</td>\n",
       "      <td>0.301736</td>\n",
       "    </tr>\n",
       "    <tr>\n",
       "      <th>9</th>\n",
       "      <td>scc_020</td>\n",
       "      <td>[0, 0, 0, 0, 0, 0, 0, 0, 0, 0, 0, 0, 0, 0, 0, ...</td>\n",
       "      <td>0.301299</td>\n",
       "    </tr>\n",
       "    <tr>\n",
       "      <th>8</th>\n",
       "      <td>scc_020</td>\n",
       "      <td>[0, 0, 0, 0, 0, 0, 0, 0, 0, 0, 0, 0, 0, 0, 0, ...</td>\n",
       "      <td>0.300169</td>\n",
       "    </tr>\n",
       "    <tr>\n",
       "      <th>7</th>\n",
       "      <td>scc_020</td>\n",
       "      <td>[0, 0, 0, 0, 0, 0, 0, 0, 0, 0, 0, 0, 0, 0, 0, ...</td>\n",
       "      <td>0.299448</td>\n",
       "    </tr>\n",
       "    <tr>\n",
       "      <th>13</th>\n",
       "      <td>scc_020</td>\n",
       "      <td>[0, 0, 0, 0, 0, 0, 0, 0, 0, 0, 0, 0, 0, 0, 0, ...</td>\n",
       "      <td>0.298894</td>\n",
       "    </tr>\n",
       "    <tr>\n",
       "      <th>16</th>\n",
       "      <td>scc_020</td>\n",
       "      <td>[0, 0, 0, 0, 0, 0, 0, 0, 0, 0, 0, 0, 0, 0, 0, ...</td>\n",
       "      <td>0.298313</td>\n",
       "    </tr>\n",
       "    <tr>\n",
       "      <th>5</th>\n",
       "      <td>eac_average_coassoc_matrix</td>\n",
       "      <td>[0, 0, 0, 0, 0, 0, 0, 0, 0, 0, 0, 0, 0, 0, 0, ...</td>\n",
       "      <td>0.298287</td>\n",
       "    </tr>\n",
       "    <tr>\n",
       "      <th>4</th>\n",
       "      <td>eac_average_coassoc_matrix</td>\n",
       "      <td>[2, 2, 2, 2, 2, 2, 2, 2, 2, 2, 2, 2, 2, 2, 2, ...</td>\n",
       "      <td>0.296430</td>\n",
       "    </tr>\n",
       "    <tr>\n",
       "      <th>14</th>\n",
       "      <td>scc_020</td>\n",
       "      <td>[0, 0, 0, 0, 0, 0, 0, 0, 0, 0, 0, 0, 0, 0, 0, ...</td>\n",
       "      <td>0.296078</td>\n",
       "    </tr>\n",
       "  </tbody>\n",
       "</table>\n",
       "</div>"
      ],
      "text/plain": [
       "                        method  \\\n",
       "k                                \n",
       "11                     scc_020   \n",
       "10                     scc_020   \n",
       "9                      scc_020   \n",
       "8                      scc_020   \n",
       "7                      scc_020   \n",
       "13                     scc_020   \n",
       "16                     scc_020   \n",
       "5   eac_average_coassoc_matrix   \n",
       "4   eac_average_coassoc_matrix   \n",
       "14                     scc_020   \n",
       "\n",
       "                                            partition  ami_mean  \n",
       "k                                                                \n",
       "11  [0, 0, 0, 0, 0, 0, 0, 0, 0, 0, 0, 0, 0, 0, 0, ...  0.301837  \n",
       "10  [0, 0, 0, 0, 0, 0, 0, 0, 0, 0, 0, 0, 0, 0, 0, ...  0.301736  \n",
       "9   [0, 0, 0, 0, 0, 0, 0, 0, 0, 0, 0, 0, 0, 0, 0, ...  0.301299  \n",
       "8   [0, 0, 0, 0, 0, 0, 0, 0, 0, 0, 0, 0, 0, 0, 0, ...  0.300169  \n",
       "7   [0, 0, 0, 0, 0, 0, 0, 0, 0, 0, 0, 0, 0, 0, 0, ...  0.299448  \n",
       "13  [0, 0, 0, 0, 0, 0, 0, 0, 0, 0, 0, 0, 0, 0, 0, ...  0.298894  \n",
       "16  [0, 0, 0, 0, 0, 0, 0, 0, 0, 0, 0, 0, 0, 0, 0, ...  0.298313  \n",
       "5   [0, 0, 0, 0, 0, 0, 0, 0, 0, 0, 0, 0, 0, 0, 0, ...  0.298287  \n",
       "4   [2, 2, 2, 2, 2, 2, 2, 2, 2, 2, 2, 2, 2, 2, 2, ...  0.296430  \n",
       "14  [0, 0, 0, 0, 0, 0, 0, 0, 0, 0, 0, 0, 0, 0, 0, ...  0.296078  "
      ]
     },
     "execution_count": 13,
     "metadata": {},
     "output_type": "execute_result"
    }
   ],
   "source": [
    "# show partitions with top ARI\n",
    "best_parts.head(10)"
   ]
  },
  {
   "cell_type": "code",
   "execution_count": 14,
   "metadata": {
    "execution": {
     "iopub.execute_input": "2021-02-16T01:04:54.327899Z",
     "iopub.status.busy": "2021-02-16T01:04:54.327531Z",
     "iopub.status.idle": "2021-02-16T01:04:54.396909Z",
     "shell.execute_reply": "2021-02-16T01:04:54.396515Z"
    },
    "papermill": {
     "duration": 0.085263,
     "end_time": "2021-02-16T01:04:54.396996",
     "exception": false,
     "start_time": "2021-02-16T01:04:54.311733",
     "status": "completed"
    },
    "tags": []
   },
   "outputs": [
    {
     "data": {
      "text/html": [
       "<div>\n",
       "<style scoped>\n",
       "    .dataframe tbody tr th:only-of-type {\n",
       "        vertical-align: middle;\n",
       "    }\n",
       "\n",
       "    .dataframe tbody tr th {\n",
       "        vertical-align: top;\n",
       "    }\n",
       "\n",
       "    .dataframe thead th {\n",
       "        text-align: right;\n",
       "    }\n",
       "</style>\n",
       "<table border=\"1\" class=\"dataframe\">\n",
       "  <thead>\n",
       "    <tr style=\"text-align: right;\">\n",
       "      <th></th>\n",
       "      <th>method</th>\n",
       "      <th>partition</th>\n",
       "      <th>ami_mean</th>\n",
       "    </tr>\n",
       "    <tr>\n",
       "      <th>k</th>\n",
       "      <th></th>\n",
       "      <th></th>\n",
       "      <th></th>\n",
       "    </tr>\n",
       "  </thead>\n",
       "  <tbody>\n",
       "    <tr>\n",
       "      <th>2</th>\n",
       "      <td>scc_020</td>\n",
       "      <td>[0, 0, 0, 0, 0, 0, 0, 0, 0, 0, 0, 0, 0, 0, 0, ...</td>\n",
       "      <td>0.238194</td>\n",
       "    </tr>\n",
       "    <tr>\n",
       "      <th>3</th>\n",
       "      <td>eac_complete_coassoc_matrix</td>\n",
       "      <td>[0, 0, 0, 0, 0, 0, 0, 0, 0, 0, 0, 0, 0, 0, 0, ...</td>\n",
       "      <td>0.268836</td>\n",
       "    </tr>\n",
       "    <tr>\n",
       "      <th>4</th>\n",
       "      <td>eac_average_coassoc_matrix</td>\n",
       "      <td>[2, 2, 2, 2, 2, 2, 2, 2, 2, 2, 2, 2, 2, 2, 2, ...</td>\n",
       "      <td>0.296430</td>\n",
       "    </tr>\n",
       "    <tr>\n",
       "      <th>5</th>\n",
       "      <td>eac_average_coassoc_matrix</td>\n",
       "      <td>[0, 0, 0, 0, 0, 0, 0, 0, 0, 0, 0, 0, 0, 0, 0, ...</td>\n",
       "      <td>0.298287</td>\n",
       "    </tr>\n",
       "    <tr>\n",
       "      <th>6</th>\n",
       "      <td>eac_single_coassoc_matrix</td>\n",
       "      <td>[1, 1, 1, 1, 1, 1, 1, 1, 1, 1, 1, 1, 1, 1, 1, ...</td>\n",
       "      <td>0.288249</td>\n",
       "    </tr>\n",
       "    <tr>\n",
       "      <th>7</th>\n",
       "      <td>scc_020</td>\n",
       "      <td>[0, 0, 0, 0, 0, 0, 0, 0, 0, 0, 0, 0, 0, 0, 0, ...</td>\n",
       "      <td>0.299448</td>\n",
       "    </tr>\n",
       "    <tr>\n",
       "      <th>8</th>\n",
       "      <td>scc_020</td>\n",
       "      <td>[0, 0, 0, 0, 0, 0, 0, 0, 0, 0, 0, 0, 0, 0, 0, ...</td>\n",
       "      <td>0.300169</td>\n",
       "    </tr>\n",
       "    <tr>\n",
       "      <th>9</th>\n",
       "      <td>scc_020</td>\n",
       "      <td>[0, 0, 0, 0, 0, 0, 0, 0, 0, 0, 0, 0, 0, 0, 0, ...</td>\n",
       "      <td>0.301299</td>\n",
       "    </tr>\n",
       "    <tr>\n",
       "      <th>10</th>\n",
       "      <td>scc_020</td>\n",
       "      <td>[0, 0, 0, 0, 0, 0, 0, 0, 0, 0, 0, 0, 0, 0, 0, ...</td>\n",
       "      <td>0.301736</td>\n",
       "    </tr>\n",
       "    <tr>\n",
       "      <th>11</th>\n",
       "      <td>scc_020</td>\n",
       "      <td>[0, 0, 0, 0, 0, 0, 0, 0, 0, 0, 0, 0, 0, 0, 0, ...</td>\n",
       "      <td>0.301837</td>\n",
       "    </tr>\n",
       "    <tr>\n",
       "      <th>12</th>\n",
       "      <td>eac_average_coassoc_matrix</td>\n",
       "      <td>[1, 1, 1, 1, 1, 1, 1, 1, 1, 1, 1, 1, 1, 1, 1, ...</td>\n",
       "      <td>0.277288</td>\n",
       "    </tr>\n",
       "    <tr>\n",
       "      <th>13</th>\n",
       "      <td>scc_020</td>\n",
       "      <td>[0, 0, 0, 0, 0, 0, 0, 0, 0, 0, 0, 0, 0, 0, 0, ...</td>\n",
       "      <td>0.298894</td>\n",
       "    </tr>\n",
       "    <tr>\n",
       "      <th>14</th>\n",
       "      <td>scc_020</td>\n",
       "      <td>[0, 0, 0, 0, 0, 0, 0, 0, 0, 0, 0, 0, 0, 0, 0, ...</td>\n",
       "      <td>0.296078</td>\n",
       "    </tr>\n",
       "    <tr>\n",
       "      <th>15</th>\n",
       "      <td>scc_020</td>\n",
       "      <td>[0, 0, 0, 0, 0, 0, 0, 0, 0, 0, 0, 0, 0, 0, 0, ...</td>\n",
       "      <td>0.296006</td>\n",
       "    </tr>\n",
       "    <tr>\n",
       "      <th>16</th>\n",
       "      <td>scc_020</td>\n",
       "      <td>[0, 0, 0, 0, 0, 0, 0, 0, 0, 0, 0, 0, 0, 0, 0, ...</td>\n",
       "      <td>0.298313</td>\n",
       "    </tr>\n",
       "    <tr>\n",
       "      <th>17</th>\n",
       "      <td>eac_average_coassoc_matrix</td>\n",
       "      <td>[2, 2, 2, 2, 2, 2, 2, 2, 2, 3, 2, 2, 2, 2, 2, ...</td>\n",
       "      <td>0.280788</td>\n",
       "    </tr>\n",
       "    <tr>\n",
       "      <th>18</th>\n",
       "      <td>eac_average_coassoc_matrix</td>\n",
       "      <td>[2, 2, 2, 2, 2, 2, 2, 2, 2, 8, 2, 2, 2, 2, 2, ...</td>\n",
       "      <td>0.281751</td>\n",
       "    </tr>\n",
       "    <tr>\n",
       "      <th>19</th>\n",
       "      <td>eac_average_coassoc_matrix</td>\n",
       "      <td>[2, 2, 2, 2, 2, 2, 2, 2, 2, 3, 2, 2, 2, 2, 2, ...</td>\n",
       "      <td>0.282250</td>\n",
       "    </tr>\n",
       "    <tr>\n",
       "      <th>20</th>\n",
       "      <td>eac_average_coassoc_matrix</td>\n",
       "      <td>[0, 0, 0, 0, 0, 0, 0, 0, 0, 3, 0, 0, 0, 0, 0, ...</td>\n",
       "      <td>0.282288</td>\n",
       "    </tr>\n",
       "    <tr>\n",
       "      <th>21</th>\n",
       "      <td>scc_025</td>\n",
       "      <td>[0, 0, 0, 0, 0, 0, 0, 0, 0, 0, 0, 0, 0, 0, 0, ...</td>\n",
       "      <td>0.288816</td>\n",
       "    </tr>\n",
       "    <tr>\n",
       "      <th>22</th>\n",
       "      <td>scc_025</td>\n",
       "      <td>[0, 0, 0, 0, 0, 0, 0, 0, 0, 0, 0, 0, 0, 0, 0, ...</td>\n",
       "      <td>0.290139</td>\n",
       "    </tr>\n",
       "    <tr>\n",
       "      <th>23</th>\n",
       "      <td>scc_025</td>\n",
       "      <td>[0, 0, 0, 0, 0, 0, 0, 0, 22, 0, 0, 0, 0, 0, 0,...</td>\n",
       "      <td>0.287525</td>\n",
       "    </tr>\n",
       "    <tr>\n",
       "      <th>24</th>\n",
       "      <td>scc_025</td>\n",
       "      <td>[0, 0, 0, 0, 0, 0, 0, 0, 0, 0, 0, 0, 0, 0, 0, ...</td>\n",
       "      <td>0.287146</td>\n",
       "    </tr>\n",
       "    <tr>\n",
       "      <th>25</th>\n",
       "      <td>scc_025</td>\n",
       "      <td>[1, 1, 1, 1, 1, 1, 1, 1, 1, 1, 1, 1, 1, 1, 1, ...</td>\n",
       "      <td>0.287499</td>\n",
       "    </tr>\n",
       "    <tr>\n",
       "      <th>26</th>\n",
       "      <td>eac_average_coassoc_matrix</td>\n",
       "      <td>[7, 7, 7, 7, 7, 7, 7, 7, 7, 0, 7, 7, 7, 7, 7, ...</td>\n",
       "      <td>0.280252</td>\n",
       "    </tr>\n",
       "    <tr>\n",
       "      <th>27</th>\n",
       "      <td>scc_025</td>\n",
       "      <td>[0, 0, 0, 0, 0, 0, 0, 0, 0, 0, 0, 0, 0, 0, 0, ...</td>\n",
       "      <td>0.288561</td>\n",
       "    </tr>\n",
       "    <tr>\n",
       "      <th>28</th>\n",
       "      <td>eac_average_coassoc_matrix</td>\n",
       "      <td>[7, 7, 7, 7, 7, 7, 7, 7, 7, 0, 7, 7, 7, 7, 7, ...</td>\n",
       "      <td>0.280513</td>\n",
       "    </tr>\n",
       "    <tr>\n",
       "      <th>29</th>\n",
       "      <td>eac_average_coassoc_matrix</td>\n",
       "      <td>[7, 7, 7, 7, 7, 7, 7, 7, 7, 0, 7, 7, 7, 7, 7, ...</td>\n",
       "      <td>0.274873</td>\n",
       "    </tr>\n",
       "    <tr>\n",
       "      <th>30</th>\n",
       "      <td>eac_average_coassoc_matrix</td>\n",
       "      <td>[7, 7, 7, 7, 7, 7, 7, 7, 7, 1, 7, 7, 7, 7, 7, ...</td>\n",
       "      <td>0.272974</td>\n",
       "    </tr>\n",
       "    <tr>\n",
       "      <th>31</th>\n",
       "      <td>scc_025</td>\n",
       "      <td>[24, 24, 24, 24, 24, 24, 24, 24, 24, 1, 24, 24...</td>\n",
       "      <td>0.287516</td>\n",
       "    </tr>\n",
       "    <tr>\n",
       "      <th>32</th>\n",
       "      <td>eac_average_coassoc_matrix</td>\n",
       "      <td>[7, 7, 7, 7, 7, 7, 7, 7, 7, 2, 7, 7, 7, 7, 7, ...</td>\n",
       "      <td>0.271632</td>\n",
       "    </tr>\n",
       "    <tr>\n",
       "      <th>33</th>\n",
       "      <td>eac_average_coassoc_matrix</td>\n",
       "      <td>[7, 7, 7, 7, 7, 7, 7, 7, 7, 0, 7, 7, 7, 7, 7, ...</td>\n",
       "      <td>0.271629</td>\n",
       "    </tr>\n",
       "    <tr>\n",
       "      <th>34</th>\n",
       "      <td>eac_average_coassoc_matrix</td>\n",
       "      <td>[3, 3, 3, 3, 3, 3, 3, 3, 3, 7, 3, 3, 3, 3, 3, ...</td>\n",
       "      <td>0.270537</td>\n",
       "    </tr>\n",
       "    <tr>\n",
       "      <th>35</th>\n",
       "      <td>scc_020</td>\n",
       "      <td>[32, 32, 32, 32, 32, 32, 32, 32, 32, 0, 32, 32...</td>\n",
       "      <td>0.287709</td>\n",
       "    </tr>\n",
       "    <tr>\n",
       "      <th>36</th>\n",
       "      <td>eac_average_coassoc_matrix</td>\n",
       "      <td>[1, 1, 1, 1, 1, 1, 1, 1, 1, 3, 1, 1, 1, 1, 1, ...</td>\n",
       "      <td>0.270565</td>\n",
       "    </tr>\n",
       "    <tr>\n",
       "      <th>37</th>\n",
       "      <td>eac_average_coassoc_matrix</td>\n",
       "      <td>[1, 1, 1, 1, 1, 1, 1, 1, 1, 3, 1, 1, 1, 1, 1, ...</td>\n",
       "      <td>0.270546</td>\n",
       "    </tr>\n",
       "    <tr>\n",
       "      <th>38</th>\n",
       "      <td>scc_020</td>\n",
       "      <td>[36, 36, 36, 36, 36, 36, 36, 36, 36, 1, 36, 36...</td>\n",
       "      <td>0.291529</td>\n",
       "    </tr>\n",
       "    <tr>\n",
       "      <th>39</th>\n",
       "      <td>eac_average_coassoc_matrix</td>\n",
       "      <td>[1, 1, 1, 1, 1, 1, 1, 1, 1, 3, 1, 1, 1, 1, 1, ...</td>\n",
       "      <td>0.272441</td>\n",
       "    </tr>\n",
       "    <tr>\n",
       "      <th>40</th>\n",
       "      <td>eac_average_coassoc_matrix</td>\n",
       "      <td>[1, 1, 1, 1, 1, 1, 1, 1, 1, 3, 1, 1, 1, 1, 1, ...</td>\n",
       "      <td>0.271920</td>\n",
       "    </tr>\n",
       "    <tr>\n",
       "      <th>41</th>\n",
       "      <td>eac_average_coassoc_matrix</td>\n",
       "      <td>[0, 0, 0, 0, 0, 0, 0, 0, 0, 1, 0, 0, 0, 0, 0, ...</td>\n",
       "      <td>0.272192</td>\n",
       "    </tr>\n",
       "    <tr>\n",
       "      <th>42</th>\n",
       "      <td>eac_average_coassoc_matrix</td>\n",
       "      <td>[20, 20, 20, 20, 20, 20, 20, 20, 20, 0, 20, 20...</td>\n",
       "      <td>0.272392</td>\n",
       "    </tr>\n",
       "    <tr>\n",
       "      <th>43</th>\n",
       "      <td>eac_average_coassoc_matrix</td>\n",
       "      <td>[42, 42, 42, 42, 42, 42, 42, 42, 42, 1, 42, 42...</td>\n",
       "      <td>0.257166</td>\n",
       "    </tr>\n",
       "    <tr>\n",
       "      <th>44</th>\n",
       "      <td>scc_020</td>\n",
       "      <td>[33, 33, 33, 33, 33, 33, 33, 33, 33, 0, 33, 33...</td>\n",
       "      <td>0.292202</td>\n",
       "    </tr>\n",
       "    <tr>\n",
       "      <th>45</th>\n",
       "      <td>scc_020</td>\n",
       "      <td>[41, 41, 41, 41, 41, 41, 41, 41, 41, 44, 41, 4...</td>\n",
       "      <td>0.269281</td>\n",
       "    </tr>\n",
       "    <tr>\n",
       "      <th>46</th>\n",
       "      <td>scc_020</td>\n",
       "      <td>[30, 30, 30, 30, 30, 30, 30, 30, 30, 1, 30, 30...</td>\n",
       "      <td>0.284125</td>\n",
       "    </tr>\n",
       "    <tr>\n",
       "      <th>47</th>\n",
       "      <td>scc_020</td>\n",
       "      <td>[39, 39, 39, 39, 39, 39, 39, 39, 39, 0, 39, 39...</td>\n",
       "      <td>0.279860</td>\n",
       "    </tr>\n",
       "    <tr>\n",
       "      <th>48</th>\n",
       "      <td>scc_020</td>\n",
       "      <td>[45, 45, 45, 45, 45, 45, 45, 45, 45, 29, 45, 4...</td>\n",
       "      <td>0.282553</td>\n",
       "    </tr>\n",
       "    <tr>\n",
       "      <th>49</th>\n",
       "      <td>eac_average_coassoc_matrix</td>\n",
       "      <td>[42, 42, 42, 42, 42, 42, 42, 42, 42, 2, 42, 42...</td>\n",
       "      <td>0.249296</td>\n",
       "    </tr>\n",
       "    <tr>\n",
       "      <th>50</th>\n",
       "      <td>eac_average_coassoc_matrix</td>\n",
       "      <td>[42, 42, 42, 42, 42, 42, 42, 42, 42, 0, 42, 42...</td>\n",
       "      <td>0.249827</td>\n",
       "    </tr>\n",
       "    <tr>\n",
       "      <th>51</th>\n",
       "      <td>eac_average_coassoc_matrix</td>\n",
       "      <td>[42, 42, 42, 42, 42, 42, 42, 42, 42, 6, 42, 42...</td>\n",
       "      <td>0.245999</td>\n",
       "    </tr>\n",
       "    <tr>\n",
       "      <th>52</th>\n",
       "      <td>eac_average_coassoc_matrix</td>\n",
       "      <td>[42, 42, 42, 42, 42, 42, 42, 42, 42, 6, 42, 42...</td>\n",
       "      <td>0.245977</td>\n",
       "    </tr>\n",
       "    <tr>\n",
       "      <th>53</th>\n",
       "      <td>eac_average_coassoc_matrix</td>\n",
       "      <td>[42, 42, 42, 42, 42, 42, 42, 42, 42, 6, 42, 42...</td>\n",
       "      <td>0.245921</td>\n",
       "    </tr>\n",
       "    <tr>\n",
       "      <th>54</th>\n",
       "      <td>eac_average_coassoc_matrix</td>\n",
       "      <td>[42, 42, 42, 42, 42, 42, 42, 42, 42, 6, 42, 42...</td>\n",
       "      <td>0.245991</td>\n",
       "    </tr>\n",
       "    <tr>\n",
       "      <th>55</th>\n",
       "      <td>eac_average_coassoc_matrix</td>\n",
       "      <td>[42, 42, 42, 42, 42, 42, 42, 42, 42, 2, 42, 42...</td>\n",
       "      <td>0.245900</td>\n",
       "    </tr>\n",
       "    <tr>\n",
       "      <th>56</th>\n",
       "      <td>eac_average_coassoc_matrix</td>\n",
       "      <td>[42, 42, 42, 42, 42, 42, 42, 42, 42, 0, 42, 42...</td>\n",
       "      <td>0.245975</td>\n",
       "    </tr>\n",
       "    <tr>\n",
       "      <th>57</th>\n",
       "      <td>eac_average_coassoc_matrix</td>\n",
       "      <td>[42, 42, 42, 42, 42, 42, 42, 42, 42, 1, 42, 42...</td>\n",
       "      <td>0.243421</td>\n",
       "    </tr>\n",
       "    <tr>\n",
       "      <th>58</th>\n",
       "      <td>eac_average_coassoc_matrix</td>\n",
       "      <td>[42, 42, 42, 42, 42, 42, 42, 42, 42, 0, 42, 42...</td>\n",
       "      <td>0.243429</td>\n",
       "    </tr>\n",
       "    <tr>\n",
       "      <th>59</th>\n",
       "      <td>scc_020</td>\n",
       "      <td>[38, 38, 38, 38, 38, 38, 38, 38, 38, 0, 38, 38...</td>\n",
       "      <td>0.243707</td>\n",
       "    </tr>\n",
       "    <tr>\n",
       "      <th>60</th>\n",
       "      <td>scc_020</td>\n",
       "      <td>[38, 38, 38, 38, 38, 38, 38, 38, 38, 0, 38, 38...</td>\n",
       "      <td>0.245026</td>\n",
       "    </tr>\n",
       "  </tbody>\n",
       "</table>\n",
       "</div>"
      ],
      "text/plain": [
       "                         method  \\\n",
       "k                                 \n",
       "2                       scc_020   \n",
       "3   eac_complete_coassoc_matrix   \n",
       "4    eac_average_coassoc_matrix   \n",
       "5    eac_average_coassoc_matrix   \n",
       "6     eac_single_coassoc_matrix   \n",
       "7                       scc_020   \n",
       "8                       scc_020   \n",
       "9                       scc_020   \n",
       "10                      scc_020   \n",
       "11                      scc_020   \n",
       "12   eac_average_coassoc_matrix   \n",
       "13                      scc_020   \n",
       "14                      scc_020   \n",
       "15                      scc_020   \n",
       "16                      scc_020   \n",
       "17   eac_average_coassoc_matrix   \n",
       "18   eac_average_coassoc_matrix   \n",
       "19   eac_average_coassoc_matrix   \n",
       "20   eac_average_coassoc_matrix   \n",
       "21                      scc_025   \n",
       "22                      scc_025   \n",
       "23                      scc_025   \n",
       "24                      scc_025   \n",
       "25                      scc_025   \n",
       "26   eac_average_coassoc_matrix   \n",
       "27                      scc_025   \n",
       "28   eac_average_coassoc_matrix   \n",
       "29   eac_average_coassoc_matrix   \n",
       "30   eac_average_coassoc_matrix   \n",
       "31                      scc_025   \n",
       "32   eac_average_coassoc_matrix   \n",
       "33   eac_average_coassoc_matrix   \n",
       "34   eac_average_coassoc_matrix   \n",
       "35                      scc_020   \n",
       "36   eac_average_coassoc_matrix   \n",
       "37   eac_average_coassoc_matrix   \n",
       "38                      scc_020   \n",
       "39   eac_average_coassoc_matrix   \n",
       "40   eac_average_coassoc_matrix   \n",
       "41   eac_average_coassoc_matrix   \n",
       "42   eac_average_coassoc_matrix   \n",
       "43   eac_average_coassoc_matrix   \n",
       "44                      scc_020   \n",
       "45                      scc_020   \n",
       "46                      scc_020   \n",
       "47                      scc_020   \n",
       "48                      scc_020   \n",
       "49   eac_average_coassoc_matrix   \n",
       "50   eac_average_coassoc_matrix   \n",
       "51   eac_average_coassoc_matrix   \n",
       "52   eac_average_coassoc_matrix   \n",
       "53   eac_average_coassoc_matrix   \n",
       "54   eac_average_coassoc_matrix   \n",
       "55   eac_average_coassoc_matrix   \n",
       "56   eac_average_coassoc_matrix   \n",
       "57   eac_average_coassoc_matrix   \n",
       "58   eac_average_coassoc_matrix   \n",
       "59                      scc_020   \n",
       "60                      scc_020   \n",
       "\n",
       "                                            partition  ami_mean  \n",
       "k                                                                \n",
       "2   [0, 0, 0, 0, 0, 0, 0, 0, 0, 0, 0, 0, 0, 0, 0, ...  0.238194  \n",
       "3   [0, 0, 0, 0, 0, 0, 0, 0, 0, 0, 0, 0, 0, 0, 0, ...  0.268836  \n",
       "4   [2, 2, 2, 2, 2, 2, 2, 2, 2, 2, 2, 2, 2, 2, 2, ...  0.296430  \n",
       "5   [0, 0, 0, 0, 0, 0, 0, 0, 0, 0, 0, 0, 0, 0, 0, ...  0.298287  \n",
       "6   [1, 1, 1, 1, 1, 1, 1, 1, 1, 1, 1, 1, 1, 1, 1, ...  0.288249  \n",
       "7   [0, 0, 0, 0, 0, 0, 0, 0, 0, 0, 0, 0, 0, 0, 0, ...  0.299448  \n",
       "8   [0, 0, 0, 0, 0, 0, 0, 0, 0, 0, 0, 0, 0, 0, 0, ...  0.300169  \n",
       "9   [0, 0, 0, 0, 0, 0, 0, 0, 0, 0, 0, 0, 0, 0, 0, ...  0.301299  \n",
       "10  [0, 0, 0, 0, 0, 0, 0, 0, 0, 0, 0, 0, 0, 0, 0, ...  0.301736  \n",
       "11  [0, 0, 0, 0, 0, 0, 0, 0, 0, 0, 0, 0, 0, 0, 0, ...  0.301837  \n",
       "12  [1, 1, 1, 1, 1, 1, 1, 1, 1, 1, 1, 1, 1, 1, 1, ...  0.277288  \n",
       "13  [0, 0, 0, 0, 0, 0, 0, 0, 0, 0, 0, 0, 0, 0, 0, ...  0.298894  \n",
       "14  [0, 0, 0, 0, 0, 0, 0, 0, 0, 0, 0, 0, 0, 0, 0, ...  0.296078  \n",
       "15  [0, 0, 0, 0, 0, 0, 0, 0, 0, 0, 0, 0, 0, 0, 0, ...  0.296006  \n",
       "16  [0, 0, 0, 0, 0, 0, 0, 0, 0, 0, 0, 0, 0, 0, 0, ...  0.298313  \n",
       "17  [2, 2, 2, 2, 2, 2, 2, 2, 2, 3, 2, 2, 2, 2, 2, ...  0.280788  \n",
       "18  [2, 2, 2, 2, 2, 2, 2, 2, 2, 8, 2, 2, 2, 2, 2, ...  0.281751  \n",
       "19  [2, 2, 2, 2, 2, 2, 2, 2, 2, 3, 2, 2, 2, 2, 2, ...  0.282250  \n",
       "20  [0, 0, 0, 0, 0, 0, 0, 0, 0, 3, 0, 0, 0, 0, 0, ...  0.282288  \n",
       "21  [0, 0, 0, 0, 0, 0, 0, 0, 0, 0, 0, 0, 0, 0, 0, ...  0.288816  \n",
       "22  [0, 0, 0, 0, 0, 0, 0, 0, 0, 0, 0, 0, 0, 0, 0, ...  0.290139  \n",
       "23  [0, 0, 0, 0, 0, 0, 0, 0, 22, 0, 0, 0, 0, 0, 0,...  0.287525  \n",
       "24  [0, 0, 0, 0, 0, 0, 0, 0, 0, 0, 0, 0, 0, 0, 0, ...  0.287146  \n",
       "25  [1, 1, 1, 1, 1, 1, 1, 1, 1, 1, 1, 1, 1, 1, 1, ...  0.287499  \n",
       "26  [7, 7, 7, 7, 7, 7, 7, 7, 7, 0, 7, 7, 7, 7, 7, ...  0.280252  \n",
       "27  [0, 0, 0, 0, 0, 0, 0, 0, 0, 0, 0, 0, 0, 0, 0, ...  0.288561  \n",
       "28  [7, 7, 7, 7, 7, 7, 7, 7, 7, 0, 7, 7, 7, 7, 7, ...  0.280513  \n",
       "29  [7, 7, 7, 7, 7, 7, 7, 7, 7, 0, 7, 7, 7, 7, 7, ...  0.274873  \n",
       "30  [7, 7, 7, 7, 7, 7, 7, 7, 7, 1, 7, 7, 7, 7, 7, ...  0.272974  \n",
       "31  [24, 24, 24, 24, 24, 24, 24, 24, 24, 1, 24, 24...  0.287516  \n",
       "32  [7, 7, 7, 7, 7, 7, 7, 7, 7, 2, 7, 7, 7, 7, 7, ...  0.271632  \n",
       "33  [7, 7, 7, 7, 7, 7, 7, 7, 7, 0, 7, 7, 7, 7, 7, ...  0.271629  \n",
       "34  [3, 3, 3, 3, 3, 3, 3, 3, 3, 7, 3, 3, 3, 3, 3, ...  0.270537  \n",
       "35  [32, 32, 32, 32, 32, 32, 32, 32, 32, 0, 32, 32...  0.287709  \n",
       "36  [1, 1, 1, 1, 1, 1, 1, 1, 1, 3, 1, 1, 1, 1, 1, ...  0.270565  \n",
       "37  [1, 1, 1, 1, 1, 1, 1, 1, 1, 3, 1, 1, 1, 1, 1, ...  0.270546  \n",
       "38  [36, 36, 36, 36, 36, 36, 36, 36, 36, 1, 36, 36...  0.291529  \n",
       "39  [1, 1, 1, 1, 1, 1, 1, 1, 1, 3, 1, 1, 1, 1, 1, ...  0.272441  \n",
       "40  [1, 1, 1, 1, 1, 1, 1, 1, 1, 3, 1, 1, 1, 1, 1, ...  0.271920  \n",
       "41  [0, 0, 0, 0, 0, 0, 0, 0, 0, 1, 0, 0, 0, 0, 0, ...  0.272192  \n",
       "42  [20, 20, 20, 20, 20, 20, 20, 20, 20, 0, 20, 20...  0.272392  \n",
       "43  [42, 42, 42, 42, 42, 42, 42, 42, 42, 1, 42, 42...  0.257166  \n",
       "44  [33, 33, 33, 33, 33, 33, 33, 33, 33, 0, 33, 33...  0.292202  \n",
       "45  [41, 41, 41, 41, 41, 41, 41, 41, 41, 44, 41, 4...  0.269281  \n",
       "46  [30, 30, 30, 30, 30, 30, 30, 30, 30, 1, 30, 30...  0.284125  \n",
       "47  [39, 39, 39, 39, 39, 39, 39, 39, 39, 0, 39, 39...  0.279860  \n",
       "48  [45, 45, 45, 45, 45, 45, 45, 45, 45, 29, 45, 4...  0.282553  \n",
       "49  [42, 42, 42, 42, 42, 42, 42, 42, 42, 2, 42, 42...  0.249296  \n",
       "50  [42, 42, 42, 42, 42, 42, 42, 42, 42, 0, 42, 42...  0.249827  \n",
       "51  [42, 42, 42, 42, 42, 42, 42, 42, 42, 6, 42, 42...  0.245999  \n",
       "52  [42, 42, 42, 42, 42, 42, 42, 42, 42, 6, 42, 42...  0.245977  \n",
       "53  [42, 42, 42, 42, 42, 42, 42, 42, 42, 6, 42, 42...  0.245921  \n",
       "54  [42, 42, 42, 42, 42, 42, 42, 42, 42, 6, 42, 42...  0.245991  \n",
       "55  [42, 42, 42, 42, 42, 42, 42, 42, 42, 2, 42, 42...  0.245900  \n",
       "56  [42, 42, 42, 42, 42, 42, 42, 42, 42, 0, 42, 42...  0.245975  \n",
       "57  [42, 42, 42, 42, 42, 42, 42, 42, 42, 1, 42, 42...  0.243421  \n",
       "58  [42, 42, 42, 42, 42, 42, 42, 42, 42, 0, 42, 42...  0.243429  \n",
       "59  [38, 38, 38, 38, 38, 38, 38, 38, 38, 0, 38, 38...  0.243707  \n",
       "60  [38, 38, 38, 38, 38, 38, 38, 38, 38, 0, 38, 38...  0.245026  "
      ]
     },
     "execution_count": 14,
     "metadata": {},
     "output_type": "execute_result"
    }
   ],
   "source": [
    "best_parts.sort_values(\"k\")"
   ]
  },
  {
   "cell_type": "markdown",
   "metadata": {
    "papermill": {
     "duration": 0.014142,
     "end_time": "2021-02-16T01:04:54.425364",
     "exception": false,
     "start_time": "2021-02-16T01:04:54.411222",
     "status": "completed"
    },
    "tags": []
   },
   "source": [
    "## Select partitions with highest agreement"
   ]
  },
  {
   "cell_type": "markdown",
   "metadata": {
    "papermill": {
     "duration": 0.014145,
     "end_time": "2021-02-16T01:04:54.453807",
     "exception": false,
     "start_time": "2021-02-16T01:04:54.439662",
     "status": "completed"
    },
    "tags": []
   },
   "source": [
    "We do not expect all partitions with different `k` to be good ones. Thus, here I select the partitions with an ensemble agreement that pass a specified threshold (median)."
   ]
  },
  {
   "cell_type": "code",
   "execution_count": 15,
   "metadata": {
    "execution": {
     "iopub.execute_input": "2021-02-16T01:04:54.484738Z",
     "iopub.status.busy": "2021-02-16T01:04:54.484350Z",
     "iopub.status.idle": "2021-02-16T01:04:54.497420Z",
     "shell.execute_reply": "2021-02-16T01:04:54.497110Z"
    },
    "papermill": {
     "duration": 0.029596,
     "end_time": "2021-02-16T01:04:54.497514",
     "exception": false,
     "start_time": "2021-02-16T01:04:54.467918",
     "status": "completed"
    },
    "tags": []
   },
   "outputs": [
    {
     "data": {
      "text/plain": [
       "count    59.000000\n",
       "mean      0.275470\n",
       "std       0.019015\n",
       "min       0.238194\n",
       "25%       0.269058\n",
       "50%       0.280252\n",
       "75%       0.288689\n",
       "max       0.301837\n",
       "Name: ami_mean, dtype: float64"
      ]
     },
     "metadata": {},
     "output_type": "display_data"
    }
   ],
   "source": [
    "best_parts_stats = best_parts[_measure_col].describe()\n",
    "display(best_parts_stats)"
   ]
  },
  {
   "cell_type": "code",
   "execution_count": 16,
   "metadata": {
    "execution": {
     "iopub.execute_input": "2021-02-16T01:04:54.530562Z",
     "iopub.status.busy": "2021-02-16T01:04:54.530195Z",
     "iopub.status.idle": "2021-02-16T01:04:54.541780Z",
     "shell.execute_reply": "2021-02-16T01:04:54.541453Z"
    },
    "papermill": {
     "duration": 0.029033,
     "end_time": "2021-02-16T01:04:54.541869",
     "exception": false,
     "start_time": "2021-02-16T01:04:54.512836",
     "status": "completed"
    },
    "tags": []
   },
   "outputs": [
    {
     "data": {
      "text/plain": [
       "0.280252114619655"
      ]
     },
     "metadata": {},
     "output_type": "display_data"
    }
   ],
   "source": [
    "best_threshold = best_parts_stats[\"50%\"]\n",
    "best_threshold_description = \"Median\"\n",
    "display(best_threshold)\n",
    "\n",
    "best_parts = best_parts.assign(\n",
    "    selected=best_parts[_measure_col].apply(lambda x: x > best_threshold)\n",
    ")"
   ]
  },
  {
   "cell_type": "code",
   "execution_count": 17,
   "metadata": {
    "execution": {
     "iopub.execute_input": "2021-02-16T01:04:54.574950Z",
     "iopub.status.busy": "2021-02-16T01:04:54.574583Z",
     "iopub.status.idle": "2021-02-16T01:04:54.585340Z",
     "shell.execute_reply": "2021-02-16T01:04:54.584973Z"
    },
    "papermill": {
     "duration": 0.028103,
     "end_time": "2021-02-16T01:04:54.585427",
     "exception": false,
     "start_time": "2021-02-16T01:04:54.557324",
     "status": "completed"
    },
    "tags": []
   },
   "outputs": [
    {
     "data": {
      "text/plain": [
       "(59, 4)"
      ]
     },
     "execution_count": 17,
     "metadata": {},
     "output_type": "execute_result"
    }
   ],
   "source": [
    "best_parts.shape"
   ]
  },
  {
   "cell_type": "code",
   "execution_count": 18,
   "metadata": {
    "execution": {
     "iopub.execute_input": "2021-02-16T01:04:54.618463Z",
     "iopub.status.busy": "2021-02-16T01:04:54.618096Z",
     "iopub.status.idle": "2021-02-16T01:04:54.636637Z",
     "shell.execute_reply": "2021-02-16T01:04:54.636269Z"
    },
    "papermill": {
     "duration": 0.035895,
     "end_time": "2021-02-16T01:04:54.636793",
     "exception": false,
     "start_time": "2021-02-16T01:04:54.600898",
     "status": "completed"
    },
    "tags": []
   },
   "outputs": [
    {
     "data": {
      "text/html": [
       "<div>\n",
       "<style scoped>\n",
       "    .dataframe tbody tr th:only-of-type {\n",
       "        vertical-align: middle;\n",
       "    }\n",
       "\n",
       "    .dataframe tbody tr th {\n",
       "        vertical-align: top;\n",
       "    }\n",
       "\n",
       "    .dataframe thead th {\n",
       "        text-align: right;\n",
       "    }\n",
       "</style>\n",
       "<table border=\"1\" class=\"dataframe\">\n",
       "  <thead>\n",
       "    <tr style=\"text-align: right;\">\n",
       "      <th></th>\n",
       "      <th>method</th>\n",
       "      <th>partition</th>\n",
       "      <th>ami_mean</th>\n",
       "      <th>selected</th>\n",
       "    </tr>\n",
       "    <tr>\n",
       "      <th>k</th>\n",
       "      <th></th>\n",
       "      <th></th>\n",
       "      <th></th>\n",
       "      <th></th>\n",
       "    </tr>\n",
       "  </thead>\n",
       "  <tbody>\n",
       "    <tr>\n",
       "      <th>11</th>\n",
       "      <td>scc_020</td>\n",
       "      <td>[0, 0, 0, 0, 0, 0, 0, 0, 0, 0, 0, 0, 0, 0, 0, ...</td>\n",
       "      <td>0.301837</td>\n",
       "      <td>True</td>\n",
       "    </tr>\n",
       "    <tr>\n",
       "      <th>10</th>\n",
       "      <td>scc_020</td>\n",
       "      <td>[0, 0, 0, 0, 0, 0, 0, 0, 0, 0, 0, 0, 0, 0, 0, ...</td>\n",
       "      <td>0.301736</td>\n",
       "      <td>True</td>\n",
       "    </tr>\n",
       "    <tr>\n",
       "      <th>9</th>\n",
       "      <td>scc_020</td>\n",
       "      <td>[0, 0, 0, 0, 0, 0, 0, 0, 0, 0, 0, 0, 0, 0, 0, ...</td>\n",
       "      <td>0.301299</td>\n",
       "      <td>True</td>\n",
       "    </tr>\n",
       "    <tr>\n",
       "      <th>8</th>\n",
       "      <td>scc_020</td>\n",
       "      <td>[0, 0, 0, 0, 0, 0, 0, 0, 0, 0, 0, 0, 0, 0, 0, ...</td>\n",
       "      <td>0.300169</td>\n",
       "      <td>True</td>\n",
       "    </tr>\n",
       "    <tr>\n",
       "      <th>7</th>\n",
       "      <td>scc_020</td>\n",
       "      <td>[0, 0, 0, 0, 0, 0, 0, 0, 0, 0, 0, 0, 0, 0, 0, ...</td>\n",
       "      <td>0.299448</td>\n",
       "      <td>True</td>\n",
       "    </tr>\n",
       "  </tbody>\n",
       "</table>\n",
       "</div>"
      ],
      "text/plain": [
       "     method                                          partition  ami_mean  \\\n",
       "k                                                                          \n",
       "11  scc_020  [0, 0, 0, 0, 0, 0, 0, 0, 0, 0, 0, 0, 0, 0, 0, ...  0.301837   \n",
       "10  scc_020  [0, 0, 0, 0, 0, 0, 0, 0, 0, 0, 0, 0, 0, 0, 0, ...  0.301736   \n",
       "9   scc_020  [0, 0, 0, 0, 0, 0, 0, 0, 0, 0, 0, 0, 0, 0, 0, ...  0.301299   \n",
       "8   scc_020  [0, 0, 0, 0, 0, 0, 0, 0, 0, 0, 0, 0, 0, 0, 0, ...  0.300169   \n",
       "7   scc_020  [0, 0, 0, 0, 0, 0, 0, 0, 0, 0, 0, 0, 0, 0, 0, ...  0.299448   \n",
       "\n",
       "    selected  \n",
       "k             \n",
       "11      True  \n",
       "10      True  \n",
       "9       True  \n",
       "8       True  \n",
       "7       True  "
      ]
     },
     "execution_count": 18,
     "metadata": {},
     "output_type": "execute_result"
    }
   ],
   "source": [
    "best_parts.head()"
   ]
  },
  {
   "cell_type": "markdown",
   "metadata": {
    "papermill": {
     "duration": 0.015311,
     "end_time": "2021-02-16T01:04:54.667793",
     "exception": false,
     "start_time": "2021-02-16T01:04:54.652482",
     "status": "completed"
    },
    "tags": []
   },
   "source": [
    "## Save best partitions per k"
   ]
  },
  {
   "cell_type": "code",
   "execution_count": 19,
   "metadata": {
    "execution": {
     "iopub.execute_input": "2021-02-16T01:04:54.700806Z",
     "iopub.status.busy": "2021-02-16T01:04:54.700392Z",
     "iopub.status.idle": "2021-02-16T01:04:54.711017Z",
     "shell.execute_reply": "2021-02-16T01:04:54.710626Z"
    },
    "papermill": {
     "duration": 0.028088,
     "end_time": "2021-02-16T01:04:54.711106",
     "exception": false,
     "start_time": "2021-02-16T01:04:54.683018",
     "status": "completed"
    },
    "tags": []
   },
   "outputs": [
    {
     "data": {
      "text/plain": [
       "PosixPath('/home/miltondp/projects/labs/greenelab/phenoplier/base3/results/clustering/consensus_clustering/best_partitions_by_k.pkl')"
      ]
     },
     "metadata": {},
     "output_type": "display_data"
    }
   ],
   "source": [
    "output_file = Path(CONSENSUS_CLUSTERING_DIR, \"best_partitions_by_k.pkl\").resolve()\n",
    "display(output_file)"
   ]
  },
  {
   "cell_type": "code",
   "execution_count": 20,
   "metadata": {
    "execution": {
     "iopub.execute_input": "2021-02-16T01:04:54.745410Z",
     "iopub.status.busy": "2021-02-16T01:04:54.745048Z",
     "iopub.status.idle": "2021-02-16T01:04:54.756929Z",
     "shell.execute_reply": "2021-02-16T01:04:54.757217Z"
    },
    "papermill": {
     "duration": 0.029979,
     "end_time": "2021-02-16T01:04:54.757330",
     "exception": false,
     "start_time": "2021-02-16T01:04:54.727351",
     "status": "completed"
    },
    "tags": []
   },
   "outputs": [],
   "source": [
    "best_parts.to_pickle(output_file)"
   ]
  },
  {
   "cell_type": "markdown",
   "metadata": {
    "papermill": {
     "duration": 0.015295,
     "end_time": "2021-02-16T01:04:54.788883",
     "exception": false,
     "start_time": "2021-02-16T01:04:54.773588",
     "status": "completed"
    },
    "tags": []
   },
   "source": [
    "# Plot of selected best partitions"
   ]
  },
  {
   "cell_type": "code",
   "execution_count": 21,
   "metadata": {
    "execution": {
     "iopub.execute_input": "2021-02-16T01:04:54.822427Z",
     "iopub.status.busy": "2021-02-16T01:04:54.822065Z",
     "iopub.status.idle": "2021-02-16T01:04:54.841333Z",
     "shell.execute_reply": "2021-02-16T01:04:54.840953Z"
    },
    "papermill": {
     "duration": 0.037021,
     "end_time": "2021-02-16T01:04:54.841423",
     "exception": false,
     "start_time": "2021-02-16T01:04:54.804402",
     "status": "completed"
    },
    "tags": []
   },
   "outputs": [
    {
     "data": {
      "text/html": [
       "<div>\n",
       "<style scoped>\n",
       "    .dataframe tbody tr th:only-of-type {\n",
       "        vertical-align: middle;\n",
       "    }\n",
       "\n",
       "    .dataframe tbody tr th {\n",
       "        vertical-align: top;\n",
       "    }\n",
       "\n",
       "    .dataframe thead th {\n",
       "        text-align: right;\n",
       "    }\n",
       "</style>\n",
       "<table border=\"1\" class=\"dataframe\">\n",
       "  <thead>\n",
       "    <tr style=\"text-align: right;\">\n",
       "      <th></th>\n",
       "      <th>k</th>\n",
       "      <th>method</th>\n",
       "      <th>partition</th>\n",
       "      <th>ami_mean</th>\n",
       "      <th>selected</th>\n",
       "    </tr>\n",
       "  </thead>\n",
       "  <tbody>\n",
       "    <tr>\n",
       "      <th>0</th>\n",
       "      <td>11</td>\n",
       "      <td>scc_020</td>\n",
       "      <td>[0, 0, 0, 0, 0, 0, 0, 0, 0, 0, 0, 0, 0, 0, 0, ...</td>\n",
       "      <td>0.301837</td>\n",
       "      <td>True</td>\n",
       "    </tr>\n",
       "    <tr>\n",
       "      <th>1</th>\n",
       "      <td>10</td>\n",
       "      <td>scc_020</td>\n",
       "      <td>[0, 0, 0, 0, 0, 0, 0, 0, 0, 0, 0, 0, 0, 0, 0, ...</td>\n",
       "      <td>0.301736</td>\n",
       "      <td>True</td>\n",
       "    </tr>\n",
       "    <tr>\n",
       "      <th>2</th>\n",
       "      <td>9</td>\n",
       "      <td>scc_020</td>\n",
       "      <td>[0, 0, 0, 0, 0, 0, 0, 0, 0, 0, 0, 0, 0, 0, 0, ...</td>\n",
       "      <td>0.301299</td>\n",
       "      <td>True</td>\n",
       "    </tr>\n",
       "    <tr>\n",
       "      <th>3</th>\n",
       "      <td>8</td>\n",
       "      <td>scc_020</td>\n",
       "      <td>[0, 0, 0, 0, 0, 0, 0, 0, 0, 0, 0, 0, 0, 0, 0, ...</td>\n",
       "      <td>0.300169</td>\n",
       "      <td>True</td>\n",
       "    </tr>\n",
       "    <tr>\n",
       "      <th>4</th>\n",
       "      <td>7</td>\n",
       "      <td>scc_020</td>\n",
       "      <td>[0, 0, 0, 0, 0, 0, 0, 0, 0, 0, 0, 0, 0, 0, 0, ...</td>\n",
       "      <td>0.299448</td>\n",
       "      <td>True</td>\n",
       "    </tr>\n",
       "  </tbody>\n",
       "</table>\n",
       "</div>"
      ],
      "text/plain": [
       "    k   method                                          partition  ami_mean  \\\n",
       "0  11  scc_020  [0, 0, 0, 0, 0, 0, 0, 0, 0, 0, 0, 0, 0, 0, 0, ...  0.301837   \n",
       "1  10  scc_020  [0, 0, 0, 0, 0, 0, 0, 0, 0, 0, 0, 0, 0, 0, 0, ...  0.301736   \n",
       "2   9  scc_020  [0, 0, 0, 0, 0, 0, 0, 0, 0, 0, 0, 0, 0, 0, 0, ...  0.301299   \n",
       "3   8  scc_020  [0, 0, 0, 0, 0, 0, 0, 0, 0, 0, 0, 0, 0, 0, 0, ...  0.300169   \n",
       "4   7  scc_020  [0, 0, 0, 0, 0, 0, 0, 0, 0, 0, 0, 0, 0, 0, 0, ...  0.299448   \n",
       "\n",
       "   selected  \n",
       "0      True  \n",
       "1      True  \n",
       "2      True  \n",
       "3      True  \n",
       "4      True  "
      ]
     },
     "metadata": {},
     "output_type": "display_data"
    }
   ],
   "source": [
    "plot_data = best_parts.reset_index()\n",
    "display(plot_data.head(5))"
   ]
  },
  {
   "cell_type": "code",
   "execution_count": 22,
   "metadata": {
    "execution": {
     "iopub.execute_input": "2021-02-16T01:04:54.877912Z",
     "iopub.status.busy": "2021-02-16T01:04:54.877536Z",
     "iopub.status.idle": "2021-02-16T01:04:56.517529Z",
     "shell.execute_reply": "2021-02-16T01:04:56.517831Z"
    },
    "papermill": {
     "duration": 1.660026,
     "end_time": "2021-02-16T01:04:56.517938",
     "exception": false,
     "start_time": "2021-02-16T01:04:54.857912",
     "status": "completed"
    },
    "tags": []
   },
   "outputs": [
    {
     "data": {
      "image/png": "[encoded data removed]",
      "text/plain": [
       "<Figure size 864x432 with 1 Axes>"
      ]
     },
     "metadata": {},
     "output_type": "display_data"
    }
   ],
   "source": [
    "with sns.plotting_context(\"talk\", font_scale=0.75), sns.axes_style(\n",
    "    \"whitegrid\", {\"grid.linestyle\": \"--\"}\n",
    "), sns.color_palette(\"muted\"):\n",
    "    current_palette = iter(sns.color_palette())\n",
    "\n",
    "    fig, ax = plt.subplots(figsize=(12, 6))\n",
    "    ax = sns.pointplot(\n",
    "        data=plot_data, x=\"k\", y=_measure_col, color=next(current_palette)\n",
    "    )\n",
    "    ax.axhline(\n",
    "        best_threshold,\n",
    "        ls=\"--\",\n",
    "        color=next(current_palette),\n",
    "        label=best_threshold_description,\n",
    "    )\n",
    "    ax.set_ylabel(\"Agreement with ensemble\\n(Average AMI)\")\n",
    "    ax.set_xlabel(\"Number of clusters ($k$)\")\n",
    "    ax.set_xticklabels(ax.get_xticklabels(), rotation=45)\n",
    "    plt.legend()\n",
    "    plt.grid(True)\n",
    "    plt.tight_layout()"
   ]
  },
  {
   "cell_type": "markdown",
   "metadata": {
    "papermill": {
     "duration": 0.017662,
     "end_time": "2021-02-16T01:04:56.554044",
     "exception": false,
     "start_time": "2021-02-16T01:04:56.536382",
     "status": "completed"
    },
    "tags": []
   },
   "source": [
    "The horizontal line in the plot is the median of the average AMI; partitions above that line are marked as selected for downstream analysis"
   ]
  },
  {
   "cell_type": "code",
   "execution_count": 23,
   "metadata": {
    "execution": {
     "iopub.execute_input": "2021-02-16T01:04:56.592821Z",
     "iopub.status.busy": "2021-02-16T01:04:56.592371Z",
     "iopub.status.idle": "2021-02-16T01:04:56.635655Z",
     "shell.execute_reply": "2021-02-16T01:04:56.635275Z"
    },
    "papermill": {
     "duration": 0.064049,
     "end_time": "2021-02-16T01:04:56.635743",
     "exception": false,
     "start_time": "2021-02-16T01:04:56.571694",
     "status": "completed"
    },
    "tags": []
   },
   "outputs": [
    {
     "data": {
      "text/html": [
       "<div>\n",
       "<style scoped>\n",
       "    .dataframe tbody tr th:only-of-type {\n",
       "        vertical-align: middle;\n",
       "    }\n",
       "\n",
       "    .dataframe tbody tr th {\n",
       "        vertical-align: top;\n",
       "    }\n",
       "\n",
       "    .dataframe thead th {\n",
       "        text-align: right;\n",
       "    }\n",
       "</style>\n",
       "<table border=\"1\" class=\"dataframe\">\n",
       "  <thead>\n",
       "    <tr style=\"text-align: right;\">\n",
       "      <th></th>\n",
       "      <th>k</th>\n",
       "      <th>method</th>\n",
       "      <th>partition</th>\n",
       "      <th>ami_mean</th>\n",
       "      <th>selected</th>\n",
       "    </tr>\n",
       "  </thead>\n",
       "  <tbody>\n",
       "    <tr>\n",
       "      <th>8</th>\n",
       "      <td>4</td>\n",
       "      <td>eac_average_coassoc_matrix</td>\n",
       "      <td>[2, 2, 2, 2, 2, 2, 2, 2, 2, 2, 2, 2, 2, 2, 2, ...</td>\n",
       "      <td>0.296430</td>\n",
       "      <td>True</td>\n",
       "    </tr>\n",
       "    <tr>\n",
       "      <th>7</th>\n",
       "      <td>5</td>\n",
       "      <td>eac_average_coassoc_matrix</td>\n",
       "      <td>[0, 0, 0, 0, 0, 0, 0, 0, 0, 0, 0, 0, 0, 0, 0, ...</td>\n",
       "      <td>0.298287</td>\n",
       "      <td>True</td>\n",
       "    </tr>\n",
       "    <tr>\n",
       "      <th>16</th>\n",
       "      <td>6</td>\n",
       "      <td>eac_single_coassoc_matrix</td>\n",
       "      <td>[1, 1, 1, 1, 1, 1, 1, 1, 1, 1, 1, 1, 1, 1, 1, ...</td>\n",
       "      <td>0.288249</td>\n",
       "      <td>True</td>\n",
       "    </tr>\n",
       "    <tr>\n",
       "      <th>4</th>\n",
       "      <td>7</td>\n",
       "      <td>scc_020</td>\n",
       "      <td>[0, 0, 0, 0, 0, 0, 0, 0, 0, 0, 0, 0, 0, 0, 0, ...</td>\n",
       "      <td>0.299448</td>\n",
       "      <td>True</td>\n",
       "    </tr>\n",
       "    <tr>\n",
       "      <th>3</th>\n",
       "      <td>8</td>\n",
       "      <td>scc_020</td>\n",
       "      <td>[0, 0, 0, 0, 0, 0, 0, 0, 0, 0, 0, 0, 0, 0, 0, ...</td>\n",
       "      <td>0.300169</td>\n",
       "      <td>True</td>\n",
       "    </tr>\n",
       "    <tr>\n",
       "      <th>2</th>\n",
       "      <td>9</td>\n",
       "      <td>scc_020</td>\n",
       "      <td>[0, 0, 0, 0, 0, 0, 0, 0, 0, 0, 0, 0, 0, 0, 0, ...</td>\n",
       "      <td>0.301299</td>\n",
       "      <td>True</td>\n",
       "    </tr>\n",
       "    <tr>\n",
       "      <th>1</th>\n",
       "      <td>10</td>\n",
       "      <td>scc_020</td>\n",
       "      <td>[0, 0, 0, 0, 0, 0, 0, 0, 0, 0, 0, 0, 0, 0, 0, ...</td>\n",
       "      <td>0.301736</td>\n",
       "      <td>True</td>\n",
       "    </tr>\n",
       "    <tr>\n",
       "      <th>0</th>\n",
       "      <td>11</td>\n",
       "      <td>scc_020</td>\n",
       "      <td>[0, 0, 0, 0, 0, 0, 0, 0, 0, 0, 0, 0, 0, 0, 0, ...</td>\n",
       "      <td>0.301837</td>\n",
       "      <td>True</td>\n",
       "    </tr>\n",
       "    <tr>\n",
       "      <th>5</th>\n",
       "      <td>13</td>\n",
       "      <td>scc_020</td>\n",
       "      <td>[0, 0, 0, 0, 0, 0, 0, 0, 0, 0, 0, 0, 0, 0, 0, ...</td>\n",
       "      <td>0.298894</td>\n",
       "      <td>True</td>\n",
       "    </tr>\n",
       "    <tr>\n",
       "      <th>9</th>\n",
       "      <td>14</td>\n",
       "      <td>scc_020</td>\n",
       "      <td>[0, 0, 0, 0, 0, 0, 0, 0, 0, 0, 0, 0, 0, 0, 0, ...</td>\n",
       "      <td>0.296078</td>\n",
       "      <td>True</td>\n",
       "    </tr>\n",
       "    <tr>\n",
       "      <th>10</th>\n",
       "      <td>15</td>\n",
       "      <td>scc_020</td>\n",
       "      <td>[0, 0, 0, 0, 0, 0, 0, 0, 0, 0, 0, 0, 0, 0, 0, ...</td>\n",
       "      <td>0.296006</td>\n",
       "      <td>True</td>\n",
       "    </tr>\n",
       "    <tr>\n",
       "      <th>6</th>\n",
       "      <td>16</td>\n",
       "      <td>scc_020</td>\n",
       "      <td>[0, 0, 0, 0, 0, 0, 0, 0, 0, 0, 0, 0, 0, 0, 0, ...</td>\n",
       "      <td>0.298313</td>\n",
       "      <td>True</td>\n",
       "    </tr>\n",
       "    <tr>\n",
       "      <th>27</th>\n",
       "      <td>17</td>\n",
       "      <td>eac_average_coassoc_matrix</td>\n",
       "      <td>[2, 2, 2, 2, 2, 2, 2, 2, 2, 3, 2, 2, 2, 2, 2, ...</td>\n",
       "      <td>0.280788</td>\n",
       "      <td>True</td>\n",
       "    </tr>\n",
       "    <tr>\n",
       "      <th>26</th>\n",
       "      <td>18</td>\n",
       "      <td>eac_average_coassoc_matrix</td>\n",
       "      <td>[2, 2, 2, 2, 2, 2, 2, 2, 2, 8, 2, 2, 2, 2, 2, ...</td>\n",
       "      <td>0.281751</td>\n",
       "      <td>True</td>\n",
       "    </tr>\n",
       "    <tr>\n",
       "      <th>25</th>\n",
       "      <td>19</td>\n",
       "      <td>eac_average_coassoc_matrix</td>\n",
       "      <td>[2, 2, 2, 2, 2, 2, 2, 2, 2, 3, 2, 2, 2, 2, 2, ...</td>\n",
       "      <td>0.282250</td>\n",
       "      <td>True</td>\n",
       "    </tr>\n",
       "    <tr>\n",
       "      <th>24</th>\n",
       "      <td>20</td>\n",
       "      <td>eac_average_coassoc_matrix</td>\n",
       "      <td>[0, 0, 0, 0, 0, 0, 0, 0, 0, 3, 0, 0, 0, 0, 0, ...</td>\n",
       "      <td>0.282288</td>\n",
       "      <td>True</td>\n",
       "    </tr>\n",
       "    <tr>\n",
       "      <th>14</th>\n",
       "      <td>21</td>\n",
       "      <td>scc_025</td>\n",
       "      <td>[0, 0, 0, 0, 0, 0, 0, 0, 0, 0, 0, 0, 0, 0, 0, ...</td>\n",
       "      <td>0.288816</td>\n",
       "      <td>True</td>\n",
       "    </tr>\n",
       "    <tr>\n",
       "      <th>13</th>\n",
       "      <td>22</td>\n",
       "      <td>scc_025</td>\n",
       "      <td>[0, 0, 0, 0, 0, 0, 0, 0, 0, 0, 0, 0, 0, 0, 0, ...</td>\n",
       "      <td>0.290139</td>\n",
       "      <td>True</td>\n",
       "    </tr>\n",
       "    <tr>\n",
       "      <th>18</th>\n",
       "      <td>23</td>\n",
       "      <td>scc_025</td>\n",
       "      <td>[0, 0, 0, 0, 0, 0, 0, 0, 22, 0, 0, 0, 0, 0, 0,...</td>\n",
       "      <td>0.287525</td>\n",
       "      <td>True</td>\n",
       "    </tr>\n",
       "    <tr>\n",
       "      <th>21</th>\n",
       "      <td>24</td>\n",
       "      <td>scc_025</td>\n",
       "      <td>[0, 0, 0, 0, 0, 0, 0, 0, 0, 0, 0, 0, 0, 0, 0, ...</td>\n",
       "      <td>0.287146</td>\n",
       "      <td>True</td>\n",
       "    </tr>\n",
       "    <tr>\n",
       "      <th>20</th>\n",
       "      <td>25</td>\n",
       "      <td>scc_025</td>\n",
       "      <td>[1, 1, 1, 1, 1, 1, 1, 1, 1, 1, 1, 1, 1, 1, 1, ...</td>\n",
       "      <td>0.287499</td>\n",
       "      <td>True</td>\n",
       "    </tr>\n",
       "    <tr>\n",
       "      <th>15</th>\n",
       "      <td>27</td>\n",
       "      <td>scc_025</td>\n",
       "      <td>[0, 0, 0, 0, 0, 0, 0, 0, 0, 0, 0, 0, 0, 0, 0, ...</td>\n",
       "      <td>0.288561</td>\n",
       "      <td>True</td>\n",
       "    </tr>\n",
       "    <tr>\n",
       "      <th>28</th>\n",
       "      <td>28</td>\n",
       "      <td>eac_average_coassoc_matrix</td>\n",
       "      <td>[7, 7, 7, 7, 7, 7, 7, 7, 7, 0, 7, 7, 7, 7, 7, ...</td>\n",
       "      <td>0.280513</td>\n",
       "      <td>True</td>\n",
       "    </tr>\n",
       "    <tr>\n",
       "      <th>19</th>\n",
       "      <td>31</td>\n",
       "      <td>scc_025</td>\n",
       "      <td>[24, 24, 24, 24, 24, 24, 24, 24, 24, 1, 24, 24...</td>\n",
       "      <td>0.287516</td>\n",
       "      <td>True</td>\n",
       "    </tr>\n",
       "    <tr>\n",
       "      <th>17</th>\n",
       "      <td>35</td>\n",
       "      <td>scc_020</td>\n",
       "      <td>[32, 32, 32, 32, 32, 32, 32, 32, 32, 0, 32, 32...</td>\n",
       "      <td>0.287709</td>\n",
       "      <td>True</td>\n",
       "    </tr>\n",
       "    <tr>\n",
       "      <th>12</th>\n",
       "      <td>38</td>\n",
       "      <td>scc_020</td>\n",
       "      <td>[36, 36, 36, 36, 36, 36, 36, 36, 36, 1, 36, 36...</td>\n",
       "      <td>0.291529</td>\n",
       "      <td>True</td>\n",
       "    </tr>\n",
       "    <tr>\n",
       "      <th>11</th>\n",
       "      <td>44</td>\n",
       "      <td>scc_020</td>\n",
       "      <td>[33, 33, 33, 33, 33, 33, 33, 33, 33, 0, 33, 33...</td>\n",
       "      <td>0.292202</td>\n",
       "      <td>True</td>\n",
       "    </tr>\n",
       "    <tr>\n",
       "      <th>22</th>\n",
       "      <td>46</td>\n",
       "      <td>scc_020</td>\n",
       "      <td>[30, 30, 30, 30, 30, 30, 30, 30, 30, 1, 30, 30...</td>\n",
       "      <td>0.284125</td>\n",
       "      <td>True</td>\n",
       "    </tr>\n",
       "    <tr>\n",
       "      <th>23</th>\n",
       "      <td>48</td>\n",
       "      <td>scc_020</td>\n",
       "      <td>[45, 45, 45, 45, 45, 45, 45, 45, 45, 29, 45, 4...</td>\n",
       "      <td>0.282553</td>\n",
       "      <td>True</td>\n",
       "    </tr>\n",
       "  </tbody>\n",
       "</table>\n",
       "</div>"
      ],
      "text/plain": [
       "     k                      method  \\\n",
       "8    4  eac_average_coassoc_matrix   \n",
       "7    5  eac_average_coassoc_matrix   \n",
       "16   6   eac_single_coassoc_matrix   \n",
       "4    7                     scc_020   \n",
       "3    8                     scc_020   \n",
       "2    9                     scc_020   \n",
       "1   10                     scc_020   \n",
       "0   11                     scc_020   \n",
       "5   13                     scc_020   \n",
       "9   14                     scc_020   \n",
       "10  15                     scc_020   \n",
       "6   16                     scc_020   \n",
       "27  17  eac_average_coassoc_matrix   \n",
       "26  18  eac_average_coassoc_matrix   \n",
       "25  19  eac_average_coassoc_matrix   \n",
       "24  20  eac_average_coassoc_matrix   \n",
       "14  21                     scc_025   \n",
       "13  22                     scc_025   \n",
       "18  23                     scc_025   \n",
       "21  24                     scc_025   \n",
       "20  25                     scc_025   \n",
       "15  27                     scc_025   \n",
       "28  28  eac_average_coassoc_matrix   \n",
       "19  31                     scc_025   \n",
       "17  35                     scc_020   \n",
       "12  38                     scc_020   \n",
       "11  44                     scc_020   \n",
       "22  46                     scc_020   \n",
       "23  48                     scc_020   \n",
       "\n",
       "                                            partition  ami_mean  selected  \n",
       "8   [2, 2, 2, 2, 2, 2, 2, 2, 2, 2, 2, 2, 2, 2, 2, ...  0.296430      True  \n",
       "7   [0, 0, 0, 0, 0, 0, 0, 0, 0, 0, 0, 0, 0, 0, 0, ...  0.298287      True  \n",
       "16  [1, 1, 1, 1, 1, 1, 1, 1, 1, 1, 1, 1, 1, 1, 1, ...  0.288249      True  \n",
       "4   [0, 0, 0, 0, 0, 0, 0, 0, 0, 0, 0, 0, 0, 0, 0, ...  0.299448      True  \n",
       "3   [0, 0, 0, 0, 0, 0, 0, 0, 0, 0, 0, 0, 0, 0, 0, ...  0.300169      True  \n",
       "2   [0, 0, 0, 0, 0, 0, 0, 0, 0, 0, 0, 0, 0, 0, 0, ...  0.301299      True  \n",
       "1   [0, 0, 0, 0, 0, 0, 0, 0, 0, 0, 0, 0, 0, 0, 0, ...  0.301736      True  \n",
       "0   [0, 0, 0, 0, 0, 0, 0, 0, 0, 0, 0, 0, 0, 0, 0, ...  0.301837      True  \n",
       "5   [0, 0, 0, 0, 0, 0, 0, 0, 0, 0, 0, 0, 0, 0, 0, ...  0.298894      True  \n",
       "9   [0, 0, 0, 0, 0, 0, 0, 0, 0, 0, 0, 0, 0, 0, 0, ...  0.296078      True  \n",
       "10  [0, 0, 0, 0, 0, 0, 0, 0, 0, 0, 0, 0, 0, 0, 0, ...  0.296006      True  \n",
       "6   [0, 0, 0, 0, 0, 0, 0, 0, 0, 0, 0, 0, 0, 0, 0, ...  0.298313      True  \n",
       "27  [2, 2, 2, 2, 2, 2, 2, 2, 2, 3, 2, 2, 2, 2, 2, ...  0.280788      True  \n",
       "26  [2, 2, 2, 2, 2, 2, 2, 2, 2, 8, 2, 2, 2, 2, 2, ...  0.281751      True  \n",
       "25  [2, 2, 2, 2, 2, 2, 2, 2, 2, 3, 2, 2, 2, 2, 2, ...  0.282250      True  \n",
       "24  [0, 0, 0, 0, 0, 0, 0, 0, 0, 3, 0, 0, 0, 0, 0, ...  0.282288      True  \n",
       "14  [0, 0, 0, 0, 0, 0, 0, 0, 0, 0, 0, 0, 0, 0, 0, ...  0.288816      True  \n",
       "13  [0, 0, 0, 0, 0, 0, 0, 0, 0, 0, 0, 0, 0, 0, 0, ...  0.290139      True  \n",
       "18  [0, 0, 0, 0, 0, 0, 0, 0, 22, 0, 0, 0, 0, 0, 0,...  0.287525      True  \n",
       "21  [0, 0, 0, 0, 0, 0, 0, 0, 0, 0, 0, 0, 0, 0, 0, ...  0.287146      True  \n",
       "20  [1, 1, 1, 1, 1, 1, 1, 1, 1, 1, 1, 1, 1, 1, 1, ...  0.287499      True  \n",
       "15  [0, 0, 0, 0, 0, 0, 0, 0, 0, 0, 0, 0, 0, 0, 0, ...  0.288561      True  \n",
       "28  [7, 7, 7, 7, 7, 7, 7, 7, 7, 0, 7, 7, 7, 7, 7, ...  0.280513      True  \n",
       "19  [24, 24, 24, 24, 24, 24, 24, 24, 24, 1, 24, 24...  0.287516      True  \n",
       "17  [32, 32, 32, 32, 32, 32, 32, 32, 32, 0, 32, 32...  0.287709      True  \n",
       "12  [36, 36, 36, 36, 36, 36, 36, 36, 36, 1, 36, 36...  0.291529      True  \n",
       "11  [33, 33, 33, 33, 33, 33, 33, 33, 33, 0, 33, 33...  0.292202      True  \n",
       "22  [30, 30, 30, 30, 30, 30, 30, 30, 30, 1, 30, 30...  0.284125      True  \n",
       "23  [45, 45, 45, 45, 45, 45, 45, 45, 45, 29, 45, 4...  0.282553      True  "
      ]
     },
     "execution_count": 23,
     "metadata": {},
     "output_type": "execute_result"
    }
   ],
   "source": [
    "# this list shows the selected final partitions, and which methods achieved the highest agreement\n",
    "plot_data[plot_data[\"selected\"]].sort_values(\"k\")"
   ]
  },
  {
   "cell_type": "markdown",
   "metadata": {
    "papermill": {
     "duration": 0.018232,
     "end_time": "2021-02-16T01:04:56.672766",
     "exception": false,
     "start_time": "2021-02-16T01:04:56.654534",
     "status": "completed"
    },
    "tags": []
   },
   "source": [
    "Evidence accumulation approaches (EAC) based on hierarchical clustering (such as `eac_average_coassoc_matrix` and `eac_single_coassoc_matrix`) pick the best partitions for lower `k` values, whereas spectral clustering does it better for all the rest."
   ]
  },
  {
   "cell_type": "code",
   "execution_count": null,
   "metadata": {
    "papermill": {
     "duration": 0.01848,
     "end_time": "2021-02-16T01:04:56.709245",
     "exception": false,
     "start_time": "2021-02-16T01:04:56.690765",
     "status": "completed"
    },
    "tags": []
   },
   "outputs": [],
   "source": []
  }
 ],
 "metadata": {
  "jupytext": {
   "cell_metadata_filter": "all,-execution,-papermill,-trusted",
   "formats": "ipynb,py//py:percent"
  },
  "kernelspec": {
   "display_name": "Python 3",
   "language": "python",
   "name": "python3"
  },
  "language_info": {
   "codemirror_mode": {
    "name": "ipython",
    "version": 3
   },
   "file_extension": ".py",
   "mimetype": "text/x-python",
   "name": "python",
   "nbconvert_exporter": "python",
   "pygments_lexer": "ipython3",
   "version": "3.8.6"
  },
  "papermill": {
   "default_parameters": {},
   "duration": 6.749916,
   "end_time": "2021-02-16T01:04:57.134637",
   "environment_variables": {},
   "exception": null,
   "input_path": "16_consensus_clustering/030_01-get_best_partitions.ipynb",
   "output_path": "16_consensus_clustering/030_01-get_best_partitions.run.ipynb",
   "parameters": {},
   "start_time": "2021-02-16T01:04:50.384721",
   "version": "2.2.2"
  },
  "toc-autonumbering": true,
  "toc-showcode": false,
  "toc-showmarkdowntxt": false,
  "toc-showtags": false
 },
 "nbformat": 4,
 "nbformat_minor": 4
}
