{
 "cells": [
  {
   "cell_type": "markdown",
   "metadata": {
    "papermill": {
     "duration": 0.021263,
     "end_time": "2021-05-09T02:10:51.219150",
     "exception": false,
     "start_time": "2021-05-09T02:10:51.197887",
     "status": "completed"
    },
    "tags": []
   },
   "source": [
    "# Description"
   ]
  },
  {
   "cell_type": "markdown",
   "metadata": {
    "papermill": {
     "duration": 0.016294,
     "end_time": "2021-05-09T02:10:51.254474",
     "exception": false,
     "start_time": "2021-05-09T02:10:51.238180",
     "status": "completed"
    },
    "tags": []
   },
   "source": [
    "It analyzes how consensus partitions generated before agree with the ensemble, and selects the best ones for downstream analyses."
   ]
  },
  {
   "cell_type": "markdown",
   "metadata": {
    "papermill": {
     "duration": 0.014135,
     "end_time": "2021-05-09T02:10:51.282704",
     "exception": false,
     "start_time": "2021-05-09T02:10:51.268569",
     "status": "completed"
    },
    "tags": []
   },
   "source": [
    "# Modules loading"
   ]
  },
  {
   "cell_type": "code",
   "execution_count": 1,
   "metadata": {
    "execution": {
     "iopub.execute_input": "2021-05-09T02:10:51.317247Z",
     "iopub.status.busy": "2021-05-09T02:10:51.316877Z",
     "iopub.status.idle": "2021-05-09T02:10:51.323559Z",
     "shell.execute_reply": "2021-05-09T02:10:51.323853Z"
    },
    "papermill": {
     "duration": 0.027135,
     "end_time": "2021-05-09T02:10:51.324005",
     "exception": false,
     "start_time": "2021-05-09T02:10:51.296870",
     "status": "completed"
    },
    "tags": []
   },
   "outputs": [],
   "source": [
    "%load_ext autoreload\n",
    "%autoreload 2"
   ]
  },
  {
   "cell_type": "code",
   "execution_count": 2,
   "metadata": {
    "execution": {
     "iopub.execute_input": "2021-05-09T02:10:51.355977Z",
     "iopub.status.busy": "2021-05-09T02:10:51.355610Z",
     "iopub.status.idle": "2021-05-09T02:10:51.920335Z",
     "shell.execute_reply": "2021-05-09T02:10:51.919895Z"
    },
    "papermill": {
     "duration": 0.581472,
     "end_time": "2021-05-09T02:10:51.920437",
     "exception": false,
     "start_time": "2021-05-09T02:10:51.338965",
     "status": "completed"
    },
    "tags": []
   },
   "outputs": [],
   "source": [
    "from pathlib import Path\n",
    "from IPython.display import display\n",
    "\n",
    "import pandas as pd\n",
    "import matplotlib.pyplot as plt\n",
    "import seaborn as sns\n",
    "\n",
    "import conf"
   ]
  },
  {
   "cell_type": "markdown",
   "metadata": {
    "papermill": {
     "duration": 0.016653,
     "end_time": "2021-05-09T02:10:51.955899",
     "exception": false,
     "start_time": "2021-05-09T02:10:51.939246",
     "status": "completed"
    },
    "tags": []
   },
   "source": [
    "# Load consensus clustering results"
   ]
  },
  {
   "cell_type": "code",
   "execution_count": 3,
   "metadata": {
    "execution": {
     "iopub.execute_input": "2021-05-09T02:10:51.987901Z",
     "iopub.status.busy": "2021-05-09T02:10:51.987549Z",
     "iopub.status.idle": "2021-05-09T02:10:51.998161Z",
     "shell.execute_reply": "2021-05-09T02:10:51.998436Z"
    },
    "papermill": {
     "duration": 0.027793,
     "end_time": "2021-05-09T02:10:51.998541",
     "exception": false,
     "start_time": "2021-05-09T02:10:51.970748",
     "status": "completed"
    },
    "tags": []
   },
   "outputs": [
    {
     "data": {
      "text/plain": [
       "PosixPath('/home/miltondp/projects/labs/greenelab/phenoplier/base/results/clustering/consensus_clustering')"
      ]
     },
     "metadata": {},
     "output_type": "display_data"
    }
   ],
   "source": [
    "CONSENSUS_CLUSTERING_DIR = Path(\n",
    "    conf.RESULTS[\"CLUSTERING_DIR\"], \"consensus_clustering\"\n",
    ").resolve()\n",
    "\n",
    "display(CONSENSUS_CLUSTERING_DIR)"
   ]
  },
  {
   "cell_type": "code",
   "execution_count": 4,
   "metadata": {
    "execution": {
     "iopub.execute_input": "2021-05-09T02:10:52.031986Z",
     "iopub.status.busy": "2021-05-09T02:10:52.031632Z",
     "iopub.status.idle": "2021-05-09T02:10:52.041299Z",
     "shell.execute_reply": "2021-05-09T02:10:52.041572Z"
    },
    "papermill": {
     "duration": 0.027496,
     "end_time": "2021-05-09T02:10:52.041675",
     "exception": false,
     "start_time": "2021-05-09T02:10:52.014179",
     "status": "completed"
    },
    "tags": []
   },
   "outputs": [
    {
     "data": {
      "text/plain": [
       "PosixPath('/home/miltondp/projects/labs/greenelab/phenoplier/base/results/clustering/consensus_clustering/consensus_clustering_runs.pkl')"
      ]
     },
     "metadata": {},
     "output_type": "display_data"
    }
   ],
   "source": [
    "input_file = Path(CONSENSUS_CLUSTERING_DIR, \"consensus_clustering_runs.pkl\").resolve()\n",
    "display(input_file)"
   ]
  },
  {
   "cell_type": "code",
   "execution_count": 5,
   "metadata": {
    "execution": {
     "iopub.execute_input": "2021-05-09T02:10:52.075884Z",
     "iopub.status.busy": "2021-05-09T02:10:52.075529Z",
     "iopub.status.idle": "2021-05-09T02:10:52.091624Z",
     "shell.execute_reply": "2021-05-09T02:10:52.091292Z"
    },
    "papermill": {
     "duration": 0.034055,
     "end_time": "2021-05-09T02:10:52.091710",
     "exception": false,
     "start_time": "2021-05-09T02:10:52.057655",
     "status": "completed"
    },
    "tags": []
   },
   "outputs": [],
   "source": [
    "consensus_clustering_results = pd.read_pickle(input_file)"
   ]
  },
  {
   "cell_type": "code",
   "execution_count": 6,
   "metadata": {
    "execution": {
     "iopub.execute_input": "2021-05-09T02:10:52.127024Z",
     "iopub.status.busy": "2021-05-09T02:10:52.126664Z",
     "iopub.status.idle": "2021-05-09T02:10:52.136562Z",
     "shell.execute_reply": "2021-05-09T02:10:52.136195Z"
    },
    "papermill": {
     "duration": 0.028525,
     "end_time": "2021-05-09T02:10:52.136642",
     "exception": false,
     "start_time": "2021-05-09T02:10:52.108117",
     "status": "completed"
    },
    "tags": []
   },
   "outputs": [
    {
     "data": {
      "text/plain": [
       "(413, 12)"
      ]
     },
     "execution_count": 6,
     "metadata": {},
     "output_type": "execute_result"
    }
   ],
   "source": [
    "consensus_clustering_results.shape"
   ]
  },
  {
   "cell_type": "code",
   "execution_count": 7,
   "metadata": {
    "execution": {
     "iopub.execute_input": "2021-05-09T02:10:52.174870Z",
     "iopub.status.busy": "2021-05-09T02:10:52.174230Z",
     "iopub.status.idle": "2021-05-09T02:10:52.201542Z",
     "shell.execute_reply": "2021-05-09T02:10:52.201183Z"
    },
    "papermill": {
     "duration": 0.049039,
     "end_time": "2021-05-09T02:10:52.201636",
     "exception": false,
     "start_time": "2021-05-09T02:10:52.152597",
     "status": "completed"
    },
    "tags": []
   },
   "outputs": [
    {
     "data": {
      "text/html": [
       "<div>\n",
       "<style scoped>\n",
       "    .dataframe tbody tr th:only-of-type {\n",
       "        vertical-align: middle;\n",
       "    }\n",
       "\n",
       "    .dataframe tbody tr th {\n",
       "        vertical-align: top;\n",
       "    }\n",
       "\n",
       "    .dataframe thead th {\n",
       "        text-align: right;\n",
       "    }\n",
       "</style>\n",
       "<table border=\"1\" class=\"dataframe\">\n",
       "  <thead>\n",
       "    <tr style=\"text-align: right;\">\n",
       "      <th></th>\n",
       "      <th>method</th>\n",
       "      <th>partition</th>\n",
       "      <th>k</th>\n",
       "      <th>ari_mean</th>\n",
       "      <th>ari_median</th>\n",
       "      <th>ari_std</th>\n",
       "      <th>ami_mean</th>\n",
       "      <th>ami_median</th>\n",
       "      <th>ami_std</th>\n",
       "      <th>nmi_mean</th>\n",
       "      <th>nmi_median</th>\n",
       "      <th>nmi_std</th>\n",
       "    </tr>\n",
       "  </thead>\n",
       "  <tbody>\n",
       "    <tr>\n",
       "      <th>0</th>\n",
       "      <td>eac_single_coassoc_matrix</td>\n",
       "      <td>[0, 0, 0, 0, 0, 0, 0, 0, 0, 0, 0, 0, 0, 0, 0, ...</td>\n",
       "      <td>2</td>\n",
       "      <td>0.078126</td>\n",
       "      <td>0.001817</td>\n",
       "      <td>0.190403</td>\n",
       "      <td>0.061404</td>\n",
       "      <td>0.007878</td>\n",
       "      <td>0.165377</td>\n",
       "      <td>0.088226</td>\n",
       "      <td>0.017174</td>\n",
       "      <td>0.185821</td>\n",
       "    </tr>\n",
       "    <tr>\n",
       "      <th>1</th>\n",
       "      <td>eac_single_coassoc_matrix</td>\n",
       "      <td>[0, 0, 0, 0, 0, 0, 0, 0, 0, 0, 0, 0, 0, 0, 0, ...</td>\n",
       "      <td>3</td>\n",
       "      <td>0.093678</td>\n",
       "      <td>0.003105</td>\n",
       "      <td>0.205183</td>\n",
       "      <td>0.076908</td>\n",
       "      <td>0.013087</td>\n",
       "      <td>0.173019</td>\n",
       "      <td>0.111019</td>\n",
       "      <td>0.028677</td>\n",
       "      <td>0.198395</td>\n",
       "    </tr>\n",
       "    <tr>\n",
       "      <th>2</th>\n",
       "      <td>eac_single_coassoc_matrix</td>\n",
       "      <td>[0, 0, 0, 0, 0, 0, 0, 0, 0, 0, 0, 0, 0, 0, 0, ...</td>\n",
       "      <td>4</td>\n",
       "      <td>0.104668</td>\n",
       "      <td>0.004693</td>\n",
       "      <td>0.208994</td>\n",
       "      <td>0.086760</td>\n",
       "      <td>0.016959</td>\n",
       "      <td>0.174144</td>\n",
       "      <td>0.126067</td>\n",
       "      <td>0.037047</td>\n",
       "      <td>0.199974</td>\n",
       "    </tr>\n",
       "    <tr>\n",
       "      <th>3</th>\n",
       "      <td>eac_single_coassoc_matrix</td>\n",
       "      <td>[0, 0, 0, 0, 0, 0, 0, 0, 0, 0, 0, 0, 0, 0, 0, ...</td>\n",
       "      <td>5</td>\n",
       "      <td>0.137429</td>\n",
       "      <td>0.008188</td>\n",
       "      <td>0.237980</td>\n",
       "      <td>0.116973</td>\n",
       "      <td>0.027774</td>\n",
       "      <td>0.192602</td>\n",
       "      <td>0.167370</td>\n",
       "      <td>0.059078</td>\n",
       "      <td>0.219705</td>\n",
       "    </tr>\n",
       "    <tr>\n",
       "      <th>4</th>\n",
       "      <td>eac_single_coassoc_matrix</td>\n",
       "      <td>[0, 0, 0, 0, 0, 0, 0, 0, 0, 0, 0, 0, 0, 0, 0, ...</td>\n",
       "      <td>6</td>\n",
       "      <td>0.135846</td>\n",
       "      <td>0.008512</td>\n",
       "      <td>0.232139</td>\n",
       "      <td>0.115235</td>\n",
       "      <td>0.028441</td>\n",
       "      <td>0.184376</td>\n",
       "      <td>0.166026</td>\n",
       "      <td>0.060851</td>\n",
       "      <td>0.212002</td>\n",
       "    </tr>\n",
       "  </tbody>\n",
       "</table>\n",
       "</div>"
      ],
      "text/plain": [
       "                      method  \\\n",
       "0  eac_single_coassoc_matrix   \n",
       "1  eac_single_coassoc_matrix   \n",
       "2  eac_single_coassoc_matrix   \n",
       "3  eac_single_coassoc_matrix   \n",
       "4  eac_single_coassoc_matrix   \n",
       "\n",
       "                                           partition  k  ari_mean  ari_median  \\\n",
       "0  [0, 0, 0, 0, 0, 0, 0, 0, 0, 0, 0, 0, 0, 0, 0, ...  2  0.078126    0.001817   \n",
       "1  [0, 0, 0, 0, 0, 0, 0, 0, 0, 0, 0, 0, 0, 0, 0, ...  3  0.093678    0.003105   \n",
       "2  [0, 0, 0, 0, 0, 0, 0, 0, 0, 0, 0, 0, 0, 0, 0, ...  4  0.104668    0.004693   \n",
       "3  [0, 0, 0, 0, 0, 0, 0, 0, 0, 0, 0, 0, 0, 0, 0, ...  5  0.137429    0.008188   \n",
       "4  [0, 0, 0, 0, 0, 0, 0, 0, 0, 0, 0, 0, 0, 0, 0, ...  6  0.135846    0.008512   \n",
       "\n",
       "    ari_std  ami_mean  ami_median   ami_std  nmi_mean  nmi_median   nmi_std  \n",
       "0  0.190403  0.061404    0.007878  0.165377  0.088226    0.017174  0.185821  \n",
       "1  0.205183  0.076908    0.013087  0.173019  0.111019    0.028677  0.198395  \n",
       "2  0.208994  0.086760    0.016959  0.174144  0.126067    0.037047  0.199974  \n",
       "3  0.237980  0.116973    0.027774  0.192602  0.167370    0.059078  0.219705  \n",
       "4  0.232139  0.115235    0.028441  0.184376  0.166026    0.060851  0.212002  "
      ]
     },
     "execution_count": 7,
     "metadata": {},
     "output_type": "execute_result"
    }
   ],
   "source": [
    "consensus_clustering_results.head()"
   ]
  },
  {
   "cell_type": "markdown",
   "metadata": {
    "papermill": {
     "duration": 0.016413,
     "end_time": "2021-05-09T02:10:52.236422",
     "exception": false,
     "start_time": "2021-05-09T02:10:52.220009",
     "status": "completed"
    },
    "tags": []
   },
   "source": [
    "# Explore clustering indexes"
   ]
  },
  {
   "cell_type": "code",
   "execution_count": 8,
   "metadata": {
    "execution": {
     "iopub.execute_input": "2021-05-09T02:10:52.271424Z",
     "iopub.status.busy": "2021-05-09T02:10:52.271070Z",
     "iopub.status.idle": "2021-05-09T02:10:52.323014Z",
     "shell.execute_reply": "2021-05-09T02:10:52.322646Z"
    },
    "papermill": {
     "duration": 0.070513,
     "end_time": "2021-05-09T02:10:52.323096",
     "exception": false,
     "start_time": "2021-05-09T02:10:52.252583",
     "status": "completed"
    },
    "tags": []
   },
   "outputs": [],
   "source": [
    "_col = \"ari_mean\"\n",
    "\n",
    "_best_parts_by_ari = (\n",
    "    consensus_clustering_results.groupby(\"k\")\n",
    "    .apply(lambda x: x.sort_values(_col, ascending=False).head(1))\n",
    "    .sort_values(_col, ascending=False)[[\"method\", \"k\", _col]]\n",
    "    .rename(columns={_col: \"index_value\"})\n",
    ")"
   ]
  },
  {
   "cell_type": "code",
   "execution_count": 9,
   "metadata": {
    "execution": {
     "iopub.execute_input": "2021-05-09T02:10:52.357482Z",
     "iopub.status.busy": "2021-05-09T02:10:52.357127Z",
     "iopub.status.idle": "2021-05-09T02:10:52.403722Z",
     "shell.execute_reply": "2021-05-09T02:10:52.403377Z"
    },
    "papermill": {
     "duration": 0.064739,
     "end_time": "2021-05-09T02:10:52.403807",
     "exception": false,
     "start_time": "2021-05-09T02:10:52.339068",
     "status": "completed"
    },
    "tags": []
   },
   "outputs": [],
   "source": [
    "_col = \"ami_mean\"\n",
    "\n",
    "_best_parts_by_ami = (\n",
    "    consensus_clustering_results.groupby(\"k\")\n",
    "    .apply(lambda x: x.sort_values(_col, ascending=False).head(1))\n",
    "    .sort_values(_col, ascending=False)[[\"method\", \"k\", _col]]\n",
    "    .rename(columns={_col: \"index_value\"})\n",
    ")"
   ]
  },
  {
   "cell_type": "code",
   "execution_count": 10,
   "metadata": {
    "execution": {
     "iopub.execute_input": "2021-05-09T02:10:52.438208Z",
     "iopub.status.busy": "2021-05-09T02:10:52.437851Z",
     "iopub.status.idle": "2021-05-09T02:10:52.484950Z",
     "shell.execute_reply": "2021-05-09T02:10:52.484562Z"
    },
    "papermill": {
     "duration": 0.065522,
     "end_time": "2021-05-09T02:10:52.485036",
     "exception": false,
     "start_time": "2021-05-09T02:10:52.419514",
     "status": "completed"
    },
    "tags": []
   },
   "outputs": [],
   "source": [
    "_col = \"nmi_mean\"\n",
    "\n",
    "_best_parts_by_nmi = (\n",
    "    consensus_clustering_results.groupby(\"k\")\n",
    "    .apply(lambda x: x.sort_values(_col, ascending=False).head(1))\n",
    "    .sort_values(_col, ascending=False)[[\"method\", \"k\", _col]]\n",
    "    .rename(columns={_col: \"index_value\"})\n",
    ")"
   ]
  },
  {
   "cell_type": "code",
   "execution_count": 11,
   "metadata": {
    "execution": {
     "iopub.execute_input": "2021-05-09T02:10:52.520631Z",
     "iopub.status.busy": "2021-05-09T02:10:52.520280Z",
     "iopub.status.idle": "2021-05-09T02:10:52.530396Z",
     "shell.execute_reply": "2021-05-09T02:10:52.530661Z"
    },
    "papermill": {
     "duration": 0.029055,
     "end_time": "2021-05-09T02:10:52.530763",
     "exception": false,
     "start_time": "2021-05-09T02:10:52.501708",
     "status": "completed"
    },
    "tags": []
   },
   "outputs": [
    {
     "data": {
      "text/html": [
       "<svg  width=\"165\" height=\"55\"><rect x=\"0\" y=\"0\" width=\"55\" height=\"55\" style=\"fill:#0173b2;stroke-width:2;stroke:rgb(255,255,255)\"/><rect x=\"55\" y=\"0\" width=\"55\" height=\"55\" style=\"fill:#de8f05;stroke-width:2;stroke:rgb(255,255,255)\"/><rect x=\"110\" y=\"0\" width=\"55\" height=\"55\" style=\"fill:#029e73;stroke-width:2;stroke:rgb(255,255,255)\"/></svg>"
      ],
      "text/plain": [
       "[(0.00392156862745098, 0.45098039215686275, 0.6980392156862745),\n",
       " (0.8705882352941177, 0.5607843137254902, 0.0196078431372549),\n",
       " (0.00784313725490196, 0.6196078431372549, 0.45098039215686275)]"
      ]
     },
     "metadata": {},
     "output_type": "display_data"
    }
   ],
   "source": [
    "_indexes_colors = sns.color_palette(\"colorblind\", 3)\n",
    "display(_indexes_colors)"
   ]
  },
  {
   "cell_type": "code",
   "execution_count": 12,
   "metadata": {
    "execution": {
     "iopub.execute_input": "2021-05-09T02:10:52.568066Z",
     "iopub.status.busy": "2021-05-09T02:10:52.567691Z",
     "iopub.status.idle": "2021-05-09T02:10:54.437307Z",
     "shell.execute_reply": "2021-05-09T02:10:54.437605Z"
    },
    "papermill": {
     "duration": 1.89027,
     "end_time": "2021-05-09T02:10:54.437705",
     "exception": false,
     "start_time": "2021-05-09T02:10:52.547435",
     "status": "completed"
    },
    "tags": []
   },
   "outputs": [
    {
     "data": {
      "image/png": "[encoded data removed]",
      "text/plain": [
       "<Figure size 864x432 with 1 Axes>"
      ]
     },
     "metadata": {},
     "output_type": "display_data"
    }
   ],
   "source": [
    "with sns.plotting_context(\"talk\", font_scale=0.75), sns.axes_style(\n",
    "    \"whitegrid\", {\"grid.linestyle\": \"--\"}\n",
    "):\n",
    "    fig, ax = plt.subplots(figsize=(12, 6))\n",
    "\n",
    "    ax = sns.pointplot(\n",
    "        data=_best_parts_by_ari,\n",
    "        x=\"k\",\n",
    "        y=\"index_value\",\n",
    "        color=_indexes_colors[0],\n",
    "        ci=None,\n",
    "    )\n",
    "    ax = sns.pointplot(\n",
    "        data=_best_parts_by_ami,\n",
    "        x=\"k\",\n",
    "        y=\"index_value\",\n",
    "        color=_indexes_colors[1],\n",
    "        ci=None,\n",
    "    )\n",
    "    ax = sns.pointplot(\n",
    "        data=_best_parts_by_nmi,\n",
    "        x=\"k\",\n",
    "        y=\"index_value\",\n",
    "        color=_indexes_colors[2],\n",
    "        ci=None,\n",
    "    )\n",
    "\n",
    "    ax.set_ylabel(f\"Agreement with ensemble\")\n",
    "    ax.set_xlabel(\"Number of clusters ($k$)\")\n",
    "    ax.set_xticklabels(ax.get_xticklabels(), rotation=45)\n",
    "    plt.legend(labels=[\"ARI\", \"AMI\", \"NMI\"])\n",
    "    plt.grid(True)\n",
    "    plt.tight_layout()"
   ]
  },
  {
   "cell_type": "markdown",
   "metadata": {
    "papermill": {
     "duration": 0.018201,
     "end_time": "2021-05-09T02:10:54.474405",
     "exception": false,
     "start_time": "2021-05-09T02:10:54.456204",
     "status": "completed"
    },
    "tags": []
   },
   "source": [
    "AMI and NMI show the same trend for higher `k`. That's surprising. I would have expected that AMI has the same pattern as ARI, since both are adjusted-for-chance, and should not show higher values for higher `k` as it is expected for a not adjusted-for-chance index as NMI.\n",
    "\n",
    "I will pick ARI for the follow up analysis."
   ]
  },
  {
   "cell_type": "markdown",
   "metadata": {
    "papermill": {
     "duration": 0.01838,
     "end_time": "2021-05-09T02:10:54.511475",
     "exception": false,
     "start_time": "2021-05-09T02:10:54.493095",
     "status": "completed"
    },
    "tags": []
   },
   "source": [
    "# Explore best partition per k"
   ]
  },
  {
   "cell_type": "code",
   "execution_count": 13,
   "metadata": {
    "execution": {
     "iopub.execute_input": "2021-05-09T02:10:54.551049Z",
     "iopub.status.busy": "2021-05-09T02:10:54.550697Z",
     "iopub.status.idle": "2021-05-09T02:10:54.560119Z",
     "shell.execute_reply": "2021-05-09T02:10:54.559762Z"
    },
    "papermill": {
     "duration": 0.030223,
     "end_time": "2021-05-09T02:10:54.560200",
     "exception": false,
     "start_time": "2021-05-09T02:10:54.529977",
     "status": "completed"
    },
    "tags": []
   },
   "outputs": [],
   "source": [
    "_selected_measure = \"ARI\"\n",
    "_mean_column, _median_column = \"ari_mean\", \"ari_median\""
   ]
  },
  {
   "cell_type": "code",
   "execution_count": 14,
   "metadata": {
    "execution": {
     "iopub.execute_input": "2021-05-09T02:10:54.599892Z",
     "iopub.status.busy": "2021-05-09T02:10:54.599535Z",
     "iopub.status.idle": "2021-05-09T02:10:54.649525Z",
     "shell.execute_reply": "2021-05-09T02:10:54.649156Z"
    },
    "papermill": {
     "duration": 0.071051,
     "end_time": "2021-05-09T02:10:54.649608",
     "exception": false,
     "start_time": "2021-05-09T02:10:54.578557",
     "status": "completed"
    },
    "tags": []
   },
   "outputs": [
    {
     "data": {
      "text/html": [
       "<div>\n",
       "<style scoped>\n",
       "    .dataframe tbody tr th:only-of-type {\n",
       "        vertical-align: middle;\n",
       "    }\n",
       "\n",
       "    .dataframe tbody tr th {\n",
       "        vertical-align: top;\n",
       "    }\n",
       "\n",
       "    .dataframe thead th {\n",
       "        text-align: right;\n",
       "    }\n",
       "</style>\n",
       "<table border=\"1\" class=\"dataframe\">\n",
       "  <thead>\n",
       "    <tr style=\"text-align: right;\">\n",
       "      <th></th>\n",
       "      <th></th>\n",
       "      <th>method</th>\n",
       "      <th>k</th>\n",
       "      <th>ari_mean</th>\n",
       "    </tr>\n",
       "    <tr>\n",
       "      <th>k</th>\n",
       "      <th></th>\n",
       "      <th></th>\n",
       "      <th></th>\n",
       "      <th></th>\n",
       "    </tr>\n",
       "  </thead>\n",
       "  <tbody>\n",
       "    <tr>\n",
       "      <th>8</th>\n",
       "      <th>301</th>\n",
       "      <td>scc_020</td>\n",
       "      <td>8</td>\n",
       "      <td>0.221259</td>\n",
       "    </tr>\n",
       "    <tr>\n",
       "      <th>10</th>\n",
       "      <th>362</th>\n",
       "      <td>scc_025</td>\n",
       "      <td>10</td>\n",
       "      <td>0.221141</td>\n",
       "    </tr>\n",
       "    <tr>\n",
       "      <th>7</th>\n",
       "      <th>300</th>\n",
       "      <td>scc_020</td>\n",
       "      <td>7</td>\n",
       "      <td>0.218083</td>\n",
       "    </tr>\n",
       "    <tr>\n",
       "      <th>6</th>\n",
       "      <th>299</th>\n",
       "      <td>scc_020</td>\n",
       "      <td>6</td>\n",
       "      <td>0.218068</td>\n",
       "    </tr>\n",
       "    <tr>\n",
       "      <th>12</th>\n",
       "      <th>305</th>\n",
       "      <td>scc_020</td>\n",
       "      <td>12</td>\n",
       "      <td>0.217015</td>\n",
       "    </tr>\n",
       "    <tr>\n",
       "      <th>11</th>\n",
       "      <th>304</th>\n",
       "      <td>scc_020</td>\n",
       "      <td>11</td>\n",
       "      <td>0.217009</td>\n",
       "    </tr>\n",
       "    <tr>\n",
       "      <th>9</th>\n",
       "      <th>302</th>\n",
       "      <td>scc_020</td>\n",
       "      <td>9</td>\n",
       "      <td>0.216682</td>\n",
       "    </tr>\n",
       "    <tr>\n",
       "      <th>18</th>\n",
       "      <th>311</th>\n",
       "      <td>scc_020</td>\n",
       "      <td>18</td>\n",
       "      <td>0.213489</td>\n",
       "    </tr>\n",
       "    <tr>\n",
       "      <th>17</th>\n",
       "      <th>310</th>\n",
       "      <td>scc_020</td>\n",
       "      <td>17</td>\n",
       "      <td>0.213258</td>\n",
       "    </tr>\n",
       "    <tr>\n",
       "      <th>16</th>\n",
       "      <th>309</th>\n",
       "      <td>scc_020</td>\n",
       "      <td>16</td>\n",
       "      <td>0.212867</td>\n",
       "    </tr>\n",
       "  </tbody>\n",
       "</table>\n",
       "</div>"
      ],
      "text/plain": [
       "         method   k  ari_mean\n",
       "k                            \n",
       "8  301  scc_020   8  0.221259\n",
       "10 362  scc_025  10  0.221141\n",
       "7  300  scc_020   7  0.218083\n",
       "6  299  scc_020   6  0.218068\n",
       "12 305  scc_020  12  0.217015\n",
       "11 304  scc_020  11  0.217009\n",
       "9  302  scc_020   9  0.216682\n",
       "18 311  scc_020  18  0.213489\n",
       "17 310  scc_020  17  0.213258\n",
       "16 309  scc_020  16  0.212867"
      ]
     },
     "metadata": {},
     "output_type": "display_data"
    }
   ],
   "source": [
    "best_parts_by_mean = (\n",
    "    consensus_clustering_results.groupby(\"k\")\n",
    "    .apply(lambda x: x.sort_values(_mean_column, ascending=False).head(1))\n",
    "    .sort_values(_mean_column, ascending=False)[[\"method\", \"k\", _mean_column]]\n",
    ")\n",
    "display(best_parts_by_mean.head(10))"
   ]
  },
  {
   "cell_type": "code",
   "execution_count": 15,
   "metadata": {
    "execution": {
     "iopub.execute_input": "2021-05-09T02:10:54.690523Z",
     "iopub.status.busy": "2021-05-09T02:10:54.690167Z",
     "iopub.status.idle": "2021-05-09T02:10:54.740703Z",
     "shell.execute_reply": "2021-05-09T02:10:54.740329Z"
    },
    "papermill": {
     "duration": 0.071939,
     "end_time": "2021-05-09T02:10:54.740797",
     "exception": false,
     "start_time": "2021-05-09T02:10:54.668858",
     "status": "completed"
    },
    "tags": []
   },
   "outputs": [
    {
     "data": {
      "text/html": [
       "<div>\n",
       "<style scoped>\n",
       "    .dataframe tbody tr th:only-of-type {\n",
       "        vertical-align: middle;\n",
       "    }\n",
       "\n",
       "    .dataframe tbody tr th {\n",
       "        vertical-align: top;\n",
       "    }\n",
       "\n",
       "    .dataframe thead th {\n",
       "        text-align: right;\n",
       "    }\n",
       "</style>\n",
       "<table border=\"1\" class=\"dataframe\">\n",
       "  <thead>\n",
       "    <tr style=\"text-align: right;\">\n",
       "      <th></th>\n",
       "      <th></th>\n",
       "      <th>method</th>\n",
       "      <th>k</th>\n",
       "      <th>ari_median</th>\n",
       "    </tr>\n",
       "    <tr>\n",
       "      <th>k</th>\n",
       "      <th></th>\n",
       "      <th></th>\n",
       "      <th></th>\n",
       "      <th></th>\n",
       "    </tr>\n",
       "  </thead>\n",
       "  <tbody>\n",
       "    <tr>\n",
       "      <th>14</th>\n",
       "      <th>366</th>\n",
       "      <td>scc_025</td>\n",
       "      <td>14</td>\n",
       "      <td>0.090117</td>\n",
       "    </tr>\n",
       "    <tr>\n",
       "      <th>22</th>\n",
       "      <th>315</th>\n",
       "      <td>scc_020</td>\n",
       "      <td>22</td>\n",
       "      <td>0.090100</td>\n",
       "    </tr>\n",
       "    <tr>\n",
       "      <th>13</th>\n",
       "      <th>365</th>\n",
       "      <td>scc_025</td>\n",
       "      <td>13</td>\n",
       "      <td>0.089920</td>\n",
       "    </tr>\n",
       "    <tr>\n",
       "      <th>12</th>\n",
       "      <th>364</th>\n",
       "      <td>scc_025</td>\n",
       "      <td>12</td>\n",
       "      <td>0.089870</td>\n",
       "    </tr>\n",
       "    <tr>\n",
       "      <th>11</th>\n",
       "      <th>363</th>\n",
       "      <td>scc_025</td>\n",
       "      <td>11</td>\n",
       "      <td>0.089616</td>\n",
       "    </tr>\n",
       "    <tr>\n",
       "      <th>15</th>\n",
       "      <th>367</th>\n",
       "      <td>scc_025</td>\n",
       "      <td>15</td>\n",
       "      <td>0.089346</td>\n",
       "    </tr>\n",
       "    <tr>\n",
       "      <th>7</th>\n",
       "      <th>182</th>\n",
       "      <td>eac_complete_coassoc_matrix</td>\n",
       "      <td>7</td>\n",
       "      <td>0.088937</td>\n",
       "    </tr>\n",
       "    <tr>\n",
       "      <th>6</th>\n",
       "      <th>181</th>\n",
       "      <td>eac_complete_coassoc_matrix</td>\n",
       "      <td>6</td>\n",
       "      <td>0.088920</td>\n",
       "    </tr>\n",
       "    <tr>\n",
       "      <th>8</th>\n",
       "      <th>183</th>\n",
       "      <td>eac_complete_coassoc_matrix</td>\n",
       "      <td>8</td>\n",
       "      <td>0.088831</td>\n",
       "    </tr>\n",
       "    <tr>\n",
       "      <th>9</th>\n",
       "      <th>184</th>\n",
       "      <td>eac_complete_coassoc_matrix</td>\n",
       "      <td>9</td>\n",
       "      <td>0.088777</td>\n",
       "    </tr>\n",
       "  </tbody>\n",
       "</table>\n",
       "</div>"
      ],
      "text/plain": [
       "                             method   k  ari_median\n",
       "k                                                  \n",
       "14 366                      scc_025  14    0.090117\n",
       "22 315                      scc_020  22    0.090100\n",
       "13 365                      scc_025  13    0.089920\n",
       "12 364                      scc_025  12    0.089870\n",
       "11 363                      scc_025  11    0.089616\n",
       "15 367                      scc_025  15    0.089346\n",
       "7  182  eac_complete_coassoc_matrix   7    0.088937\n",
       "6  181  eac_complete_coassoc_matrix   6    0.088920\n",
       "8  183  eac_complete_coassoc_matrix   8    0.088831\n",
       "9  184  eac_complete_coassoc_matrix   9    0.088777"
      ]
     },
     "metadata": {},
     "output_type": "display_data"
    }
   ],
   "source": [
    "best_parts_by_median = (\n",
    "    consensus_clustering_results.groupby(\"k\")\n",
    "    .apply(lambda x: x.sort_values(_median_column, ascending=False).head(1))\n",
    "    .sort_values(_median_column, ascending=False)[[\"method\", \"k\", _median_column]]\n",
    ")\n",
    "display(best_parts_by_median.head(10))"
   ]
  },
  {
   "cell_type": "code",
   "execution_count": 16,
   "metadata": {
    "execution": {
     "iopub.execute_input": "2021-05-09T02:10:54.783253Z",
     "iopub.status.busy": "2021-05-09T02:10:54.782886Z",
     "iopub.status.idle": "2021-05-09T02:10:56.327192Z",
     "shell.execute_reply": "2021-05-09T02:10:56.326818Z"
    },
    "papermill": {
     "duration": 1.567038,
     "end_time": "2021-05-09T02:10:56.327276",
     "exception": false,
     "start_time": "2021-05-09T02:10:54.760238",
     "status": "completed"
    },
    "tags": []
   },
   "outputs": [
    {
     "data": {
      "image/png": "[encoded data removed]",
      "text/plain": [
       "<Figure size 864x432 with 1 Axes>"
      ]
     },
     "metadata": {},
     "output_type": "display_data"
    }
   ],
   "source": [
    "with sns.plotting_context(\"talk\", font_scale=0.75), sns.axes_style(\n",
    "    \"whitegrid\", {\"grid.linestyle\": \"--\"}\n",
    "):\n",
    "    fig, ax = plt.subplots(figsize=(12, 6))\n",
    "\n",
    "    ax = sns.pointplot(\n",
    "        data=best_parts_by_mean,\n",
    "        x=\"k\",\n",
    "        y=_mean_column,\n",
    "        ci=None,\n",
    "        color=_indexes_colors[0],\n",
    "        label=\"Mean\",\n",
    "    )\n",
    "    ax = sns.pointplot(\n",
    "        data=best_parts_by_median,\n",
    "        x=\"k\",\n",
    "        y=_median_column,\n",
    "        ci=None,\n",
    "        color=_indexes_colors[1],\n",
    "        label=\"Median\",\n",
    "        ax=ax,\n",
    "    )\n",
    "    ax.set_ylabel(f\"Agreement with ensemble ({_selected_measure})\")\n",
    "    ax.set_xlabel(\"Number of clusters ($k$)\")\n",
    "    ax.set_xticklabels(ax.get_xticklabels(), rotation=45)\n",
    "    plt.legend(labels=[\"Mean\", \"Median\"])\n",
    "    plt.grid(True)\n",
    "    plt.tight_layout()"
   ]
  },
  {
   "cell_type": "markdown",
   "metadata": {
    "papermill": {
     "duration": 0.021017,
     "end_time": "2021-05-09T02:10:56.370567",
     "exception": false,
     "start_time": "2021-05-09T02:10:56.349550",
     "status": "completed"
    },
    "tags": []
   },
   "source": [
    "Both central tendency measures (the mean and the median) have the same tendency: higher agreement on lower k values, and lower agreement on higher k values."
   ]
  },
  {
   "cell_type": "markdown",
   "metadata": {
    "papermill": {
     "duration": 0.020738,
     "end_time": "2021-05-09T02:10:56.412380",
     "exception": false,
     "start_time": "2021-05-09T02:10:56.391642",
     "status": "completed"
    },
    "tags": []
   },
   "source": [
    "# Which consensus method performs better?"
   ]
  },
  {
   "cell_type": "markdown",
   "metadata": {
    "papermill": {
     "duration": 0.020901,
     "end_time": "2021-05-09T02:10:56.454908",
     "exception": false,
     "start_time": "2021-05-09T02:10:56.434007",
     "status": "completed"
    },
    "tags": []
   },
   "source": [
    "For this comparison, I take the partitions with an agreement higher than the 75th percentile. From this set, I count how many times each method won."
   ]
  },
  {
   "cell_type": "markdown",
   "metadata": {
    "papermill": {
     "duration": 0.020977,
     "end_time": "2021-05-09T02:10:56.496945",
     "exception": false,
     "start_time": "2021-05-09T02:10:56.475968",
     "status": "completed"
    },
    "tags": []
   },
   "source": [
    "## Using best by mean"
   ]
  },
  {
   "cell_type": "code",
   "execution_count": 17,
   "metadata": {
    "execution": {
     "iopub.execute_input": "2021-05-09T02:10:56.541445Z",
     "iopub.status.busy": "2021-05-09T02:10:56.541033Z",
     "iopub.status.idle": "2021-05-09T02:10:56.553656Z",
     "shell.execute_reply": "2021-05-09T02:10:56.553293Z"
    },
    "papermill": {
     "duration": 0.035979,
     "end_time": "2021-05-09T02:10:56.553740",
     "exception": false,
     "start_time": "2021-05-09T02:10:56.517761",
     "status": "completed"
    },
    "tags": []
   },
   "outputs": [
    {
     "data": {
      "text/plain": [
       "count    59.000000\n",
       "mean      0.180896\n",
       "std       0.019937\n",
       "min       0.159729\n",
       "25%       0.167322\n",
       "50%       0.173438\n",
       "75%       0.196895\n",
       "max       0.221259\n",
       "Name: ari_mean, dtype: float64"
      ]
     },
     "metadata": {},
     "output_type": "display_data"
    }
   ],
   "source": [
    "_stats_data = best_parts_by_mean[_mean_column].describe()\n",
    "display(_stats_data)"
   ]
  },
  {
   "cell_type": "code",
   "execution_count": 18,
   "metadata": {
    "execution": {
     "iopub.execute_input": "2021-05-09T02:10:56.599209Z",
     "iopub.status.busy": "2021-05-09T02:10:56.598857Z",
     "iopub.status.idle": "2021-05-09T02:10:56.610886Z",
     "shell.execute_reply": "2021-05-09T02:10:56.610509Z"
    },
    "papermill": {
     "duration": 0.035646,
     "end_time": "2021-05-09T02:10:56.610971",
     "exception": false,
     "start_time": "2021-05-09T02:10:56.575325",
     "status": "completed"
    },
    "tags": []
   },
   "outputs": [
    {
     "data": {
      "text/plain": [
       "scc_020                       13\n",
       "scc_025                        1\n",
       "eac_average_coassoc_matrix     1\n",
       "Name: method, dtype: int64"
      ]
     },
     "execution_count": 18,
     "metadata": {},
     "output_type": "execute_result"
    }
   ],
   "source": [
    "best_parts_by_mean[best_parts_by_mean[_mean_column] > _stats_data[\"75%\"]][\n",
    "    \"method\"\n",
    "].value_counts()"
   ]
  },
  {
   "cell_type": "markdown",
   "metadata": {
    "papermill": {
     "duration": 0.021703,
     "end_time": "2021-05-09T02:10:56.655936",
     "exception": false,
     "start_time": "2021-05-09T02:10:56.634233",
     "status": "completed"
    },
    "tags": []
   },
   "source": [
    "SCC picked the \"best partition\" 14 times, whereas EAC (hierarhical clustering) did it only once."
   ]
  },
  {
   "cell_type": "markdown",
   "metadata": {
    "papermill": {
     "duration": 0.021314,
     "end_time": "2021-05-09T02:10:56.698615",
     "exception": false,
     "start_time": "2021-05-09T02:10:56.677301",
     "status": "completed"
    },
    "tags": []
   },
   "source": [
    "## Using best by median"
   ]
  },
  {
   "cell_type": "code",
   "execution_count": 19,
   "metadata": {
    "execution": {
     "iopub.execute_input": "2021-05-09T02:10:56.744080Z",
     "iopub.status.busy": "2021-05-09T02:10:56.743728Z",
     "iopub.status.idle": "2021-05-09T02:10:56.756011Z",
     "shell.execute_reply": "2021-05-09T02:10:56.755643Z"
    },
    "papermill": {
     "duration": 0.036067,
     "end_time": "2021-05-09T02:10:56.756093",
     "exception": false,
     "start_time": "2021-05-09T02:10:56.720026",
     "status": "completed"
    },
    "tags": []
   },
   "outputs": [
    {
     "data": {
      "text/plain": [
       "count    59.000000\n",
       "mean      0.073919\n",
       "std       0.013812\n",
       "min       0.051845\n",
       "25%       0.057652\n",
       "50%       0.076657\n",
       "75%       0.086586\n",
       "max       0.090117\n",
       "Name: ari_median, dtype: float64"
      ]
     },
     "metadata": {},
     "output_type": "display_data"
    }
   ],
   "source": [
    "_stats_data = best_parts_by_median[_median_column].describe()\n",
    "display(_stats_data)"
   ]
  },
  {
   "cell_type": "code",
   "execution_count": 20,
   "metadata": {
    "execution": {
     "iopub.execute_input": "2021-05-09T02:10:56.803019Z",
     "iopub.status.busy": "2021-05-09T02:10:56.802660Z",
     "iopub.status.idle": "2021-05-09T02:10:56.815004Z",
     "shell.execute_reply": "2021-05-09T02:10:56.814641Z"
    },
    "papermill": {
     "duration": 0.036579,
     "end_time": "2021-05-09T02:10:56.815085",
     "exception": false,
     "start_time": "2021-05-09T02:10:56.778506",
     "status": "completed"
    },
    "tags": []
   },
   "outputs": [
    {
     "data": {
      "text/plain": [
       "scc_025                        6\n",
       "eac_complete_coassoc_matrix    5\n",
       "scc_020                        3\n",
       "scc_030                        1\n",
       "Name: method, dtype: int64"
      ]
     },
     "execution_count": 20,
     "metadata": {},
     "output_type": "execute_result"
    }
   ],
   "source": [
    "best_parts_by_median[best_parts_by_median[_median_column] > _stats_data[\"75%\"]][\n",
    "    \"method\"\n",
    "].value_counts()"
   ]
  },
  {
   "cell_type": "markdown",
   "metadata": {
    "papermill": {
     "duration": 0.022187,
     "end_time": "2021-05-09T02:10:56.859907",
     "exception": false,
     "start_time": "2021-05-09T02:10:56.837720",
     "status": "completed"
    },
    "tags": []
   },
   "source": [
    "If we use the \"best partitions by median\", EAC (HC) picked the best one 5 times, whereas SCC did it 10 times."
   ]
  },
  {
   "cell_type": "markdown",
   "metadata": {
    "papermill": {
     "duration": 0.021997,
     "end_time": "2021-05-09T02:10:56.904099",
     "exception": false,
     "start_time": "2021-05-09T02:10:56.882102",
     "status": "completed"
    },
    "tags": []
   },
   "source": [
    "**CONCLUSION:** we select SCC as the method for follow up analysis."
   ]
  },
  {
   "cell_type": "markdown",
   "metadata": {
    "papermill": {
     "duration": 0.021855,
     "end_time": "2021-05-09T02:10:56.948175",
     "exception": false,
     "start_time": "2021-05-09T02:10:56.926320",
     "status": "completed"
    },
    "tags": []
   },
   "source": [
    "# Select best partition per k"
   ]
  },
  {
   "cell_type": "code",
   "execution_count": 21,
   "metadata": {
    "execution": {
     "iopub.execute_input": "2021-05-09T02:10:56.994774Z",
     "iopub.status.busy": "2021-05-09T02:10:56.994421Z",
     "iopub.status.idle": "2021-05-09T02:10:57.003693Z",
     "shell.execute_reply": "2021-05-09T02:10:57.003357Z"
    },
    "papermill": {
     "duration": 0.033461,
     "end_time": "2021-05-09T02:10:57.003778",
     "exception": false,
     "start_time": "2021-05-09T02:10:56.970317",
     "status": "completed"
    },
    "tags": []
   },
   "outputs": [],
   "source": [
    "_selected_stat = \"Median\"\n",
    "_measure_col = _median_column"
   ]
  },
  {
   "cell_type": "code",
   "execution_count": 22,
   "metadata": {
    "execution": {
     "iopub.execute_input": "2021-05-09T02:10:57.051836Z",
     "iopub.status.busy": "2021-05-09T02:10:57.051477Z",
     "iopub.status.idle": "2021-05-09T02:10:57.098099Z",
     "shell.execute_reply": "2021-05-09T02:10:57.097729Z"
    },
    "papermill": {
     "duration": 0.071548,
     "end_time": "2021-05-09T02:10:57.098182",
     "exception": false,
     "start_time": "2021-05-09T02:10:57.026634",
     "status": "completed"
    },
    "tags": []
   },
   "outputs": [],
   "source": [
    "best_parts = (\n",
    "    consensus_clustering_results[\n",
    "        consensus_clustering_results[\"method\"].str.startswith(\"scc_\")\n",
    "    ]\n",
    "    .groupby(\"k\")\n",
    "    .apply(lambda x: x.sort_values(_measure_col, ascending=False).head(1))\n",
    "    .sort_values(_measure_col, ascending=False)[\n",
    "        [\"method\", \"k\", \"partition\", _measure_col]\n",
    "    ]\n",
    ")"
   ]
  },
  {
   "cell_type": "code",
   "execution_count": 23,
   "metadata": {
    "execution": {
     "iopub.execute_input": "2021-05-09T02:10:57.145359Z",
     "iopub.status.busy": "2021-05-09T02:10:57.145006Z",
     "iopub.status.idle": "2021-05-09T02:10:57.154746Z",
     "shell.execute_reply": "2021-05-09T02:10:57.154428Z"
    },
    "papermill": {
     "duration": 0.03443,
     "end_time": "2021-05-09T02:10:57.154830",
     "exception": false,
     "start_time": "2021-05-09T02:10:57.120400",
     "status": "completed"
    },
    "tags": []
   },
   "outputs": [],
   "source": [
    "best_parts = best_parts.set_index(\"k\")"
   ]
  },
  {
   "cell_type": "code",
   "execution_count": 24,
   "metadata": {
    "execution": {
     "iopub.execute_input": "2021-05-09T02:10:57.204975Z",
     "iopub.status.busy": "2021-05-09T02:10:57.204550Z",
     "iopub.status.idle": "2021-05-09T02:10:57.214984Z",
     "shell.execute_reply": "2021-05-09T02:10:57.215315Z"
    },
    "papermill": {
     "duration": 0.037865,
     "end_time": "2021-05-09T02:10:57.215429",
     "exception": false,
     "start_time": "2021-05-09T02:10:57.177564",
     "status": "completed"
    },
    "tags": []
   },
   "outputs": [
    {
     "data": {
      "text/plain": [
       "(59, 3)"
      ]
     },
     "execution_count": 24,
     "metadata": {},
     "output_type": "execute_result"
    }
   ],
   "source": [
    "best_parts.shape"
   ]
  },
  {
   "cell_type": "code",
   "execution_count": 25,
   "metadata": {
    "execution": {
     "iopub.execute_input": "2021-05-09T02:10:57.265775Z",
     "iopub.status.busy": "2021-05-09T02:10:57.265380Z",
     "iopub.status.idle": "2021-05-09T02:10:57.288937Z",
     "shell.execute_reply": "2021-05-09T02:10:57.288547Z"
    },
    "papermill": {
     "duration": 0.049141,
     "end_time": "2021-05-09T02:10:57.289023",
     "exception": false,
     "start_time": "2021-05-09T02:10:57.239882",
     "status": "completed"
    },
    "tags": []
   },
   "outputs": [
    {
     "data": {
      "text/html": [
       "<div>\n",
       "<style scoped>\n",
       "    .dataframe tbody tr th:only-of-type {\n",
       "        vertical-align: middle;\n",
       "    }\n",
       "\n",
       "    .dataframe tbody tr th {\n",
       "        vertical-align: top;\n",
       "    }\n",
       "\n",
       "    .dataframe thead th {\n",
       "        text-align: right;\n",
       "    }\n",
       "</style>\n",
       "<table border=\"1\" class=\"dataframe\">\n",
       "  <thead>\n",
       "    <tr style=\"text-align: right;\">\n",
       "      <th></th>\n",
       "      <th>method</th>\n",
       "      <th>partition</th>\n",
       "      <th>ari_median</th>\n",
       "    </tr>\n",
       "    <tr>\n",
       "      <th>k</th>\n",
       "      <th></th>\n",
       "      <th></th>\n",
       "      <th></th>\n",
       "    </tr>\n",
       "  </thead>\n",
       "  <tbody>\n",
       "    <tr>\n",
       "      <th>14</th>\n",
       "      <td>scc_025</td>\n",
       "      <td>[0, 0, 0, 0, 0, 0, 0, 0, 0, 0, 0, 0, 0, 0, 0, ...</td>\n",
       "      <td>0.090117</td>\n",
       "    </tr>\n",
       "    <tr>\n",
       "      <th>22</th>\n",
       "      <td>scc_020</td>\n",
       "      <td>[13, 18, 18, 18, 18, 18, 18, 18, 18, 13, 18, 1...</td>\n",
       "      <td>0.090100</td>\n",
       "    </tr>\n",
       "    <tr>\n",
       "      <th>13</th>\n",
       "      <td>scc_025</td>\n",
       "      <td>[0, 0, 0, 0, 0, 0, 0, 0, 0, 0, 0, 0, 0, 0, 0, ...</td>\n",
       "      <td>0.089920</td>\n",
       "    </tr>\n",
       "    <tr>\n",
       "      <th>12</th>\n",
       "      <td>scc_025</td>\n",
       "      <td>[9, 9, 9, 9, 9, 9, 9, 9, 9, 9, 9, 9, 9, 9, 9, ...</td>\n",
       "      <td>0.089870</td>\n",
       "    </tr>\n",
       "    <tr>\n",
       "      <th>11</th>\n",
       "      <td>scc_025</td>\n",
       "      <td>[0, 0, 0, 0, 0, 0, 0, 0, 0, 0, 0, 0, 0, 0, 0, ...</td>\n",
       "      <td>0.089616</td>\n",
       "    </tr>\n",
       "    <tr>\n",
       "      <th>15</th>\n",
       "      <td>scc_025</td>\n",
       "      <td>[0, 0, 0, 0, 0, 0, 0, 0, 0, 0, 0, 0, 0, 0, 0, ...</td>\n",
       "      <td>0.089346</td>\n",
       "    </tr>\n",
       "    <tr>\n",
       "      <th>7</th>\n",
       "      <td>scc_025</td>\n",
       "      <td>[5, 5, 5, 5, 5, 5, 5, 5, 5, 5, 5, 5, 5, 5, 5, ...</td>\n",
       "      <td>0.088777</td>\n",
       "    </tr>\n",
       "    <tr>\n",
       "      <th>8</th>\n",
       "      <td>scc_025</td>\n",
       "      <td>[0, 0, 0, 0, 0, 0, 0, 0, 0, 0, 0, 0, 0, 0, 0, ...</td>\n",
       "      <td>0.088678</td>\n",
       "    </tr>\n",
       "    <tr>\n",
       "      <th>16</th>\n",
       "      <td>scc_025</td>\n",
       "      <td>[0, 0, 0, 0, 0, 0, 0, 0, 0, 0, 0, 0, 0, 0, 0, ...</td>\n",
       "      <td>0.088662</td>\n",
       "    </tr>\n",
       "    <tr>\n",
       "      <th>9</th>\n",
       "      <td>scc_025</td>\n",
       "      <td>[8, 8, 8, 8, 8, 8, 8, 8, 8, 8, 8, 8, 8, 8, 8, ...</td>\n",
       "      <td>0.088639</td>\n",
       "    </tr>\n",
       "  </tbody>\n",
       "</table>\n",
       "</div>"
      ],
      "text/plain": [
       "     method                                          partition  ari_median\n",
       "k                                                                         \n",
       "14  scc_025  [0, 0, 0, 0, 0, 0, 0, 0, 0, 0, 0, 0, 0, 0, 0, ...    0.090117\n",
       "22  scc_020  [13, 18, 18, 18, 18, 18, 18, 18, 18, 13, 18, 1...    0.090100\n",
       "13  scc_025  [0, 0, 0, 0, 0, 0, 0, 0, 0, 0, 0, 0, 0, 0, 0, ...    0.089920\n",
       "12  scc_025  [9, 9, 9, 9, 9, 9, 9, 9, 9, 9, 9, 9, 9, 9, 9, ...    0.089870\n",
       "11  scc_025  [0, 0, 0, 0, 0, 0, 0, 0, 0, 0, 0, 0, 0, 0, 0, ...    0.089616\n",
       "15  scc_025  [0, 0, 0, 0, 0, 0, 0, 0, 0, 0, 0, 0, 0, 0, 0, ...    0.089346\n",
       "7   scc_025  [5, 5, 5, 5, 5, 5, 5, 5, 5, 5, 5, 5, 5, 5, 5, ...    0.088777\n",
       "8   scc_025  [0, 0, 0, 0, 0, 0, 0, 0, 0, 0, 0, 0, 0, 0, 0, ...    0.088678\n",
       "16  scc_025  [0, 0, 0, 0, 0, 0, 0, 0, 0, 0, 0, 0, 0, 0, 0, ...    0.088662\n",
       "9   scc_025  [8, 8, 8, 8, 8, 8, 8, 8, 8, 8, 8, 8, 8, 8, 8, ...    0.088639"
      ]
     },
     "execution_count": 25,
     "metadata": {},
     "output_type": "execute_result"
    }
   ],
   "source": [
    "# show partitions with top values\n",
    "best_parts.head(10)"
   ]
  },
  {
   "cell_type": "code",
   "execution_count": 26,
   "metadata": {
    "execution": {
     "iopub.execute_input": "2021-05-09T02:10:57.339040Z",
     "iopub.status.busy": "2021-05-09T02:10:57.338688Z",
     "iopub.status.idle": "2021-05-09T02:10:57.406039Z",
     "shell.execute_reply": "2021-05-09T02:10:57.405670Z"
    },
    "papermill": {
     "duration": 0.092528,
     "end_time": "2021-05-09T02:10:57.406122",
     "exception": false,
     "start_time": "2021-05-09T02:10:57.313594",
     "status": "completed"
    },
    "tags": []
   },
   "outputs": [
    {
     "data": {
      "text/html": [
       "<div>\n",
       "<style scoped>\n",
       "    .dataframe tbody tr th:only-of-type {\n",
       "        vertical-align: middle;\n",
       "    }\n",
       "\n",
       "    .dataframe tbody tr th {\n",
       "        vertical-align: top;\n",
       "    }\n",
       "\n",
       "    .dataframe thead th {\n",
       "        text-align: right;\n",
       "    }\n",
       "</style>\n",
       "<table border=\"1\" class=\"dataframe\">\n",
       "  <thead>\n",
       "    <tr style=\"text-align: right;\">\n",
       "      <th></th>\n",
       "      <th>method</th>\n",
       "      <th>partition</th>\n",
       "      <th>ari_median</th>\n",
       "    </tr>\n",
       "    <tr>\n",
       "      <th>k</th>\n",
       "      <th></th>\n",
       "      <th></th>\n",
       "      <th></th>\n",
       "    </tr>\n",
       "  </thead>\n",
       "  <tbody>\n",
       "    <tr>\n",
       "      <th>2</th>\n",
       "      <td>scc_050</td>\n",
       "      <td>[1, 1, 1, 0, 0, 0, 0, 0, 1, 0, 1, 1, 0, 1, 0, ...</td>\n",
       "      <td>0.076657</td>\n",
       "    </tr>\n",
       "    <tr>\n",
       "      <th>3</th>\n",
       "      <td>scc_050</td>\n",
       "      <td>[1, 1, 1, 2, 2, 2, 2, 2, 1, 2, 1, 1, 2, 1, 2, ...</td>\n",
       "      <td>0.063797</td>\n",
       "    </tr>\n",
       "    <tr>\n",
       "      <th>4</th>\n",
       "      <td>scc_030</td>\n",
       "      <td>[0, 0, 0, 0, 0, 0, 0, 0, 3, 0, 3, 3, 0, 3, 0, ...</td>\n",
       "      <td>0.085510</td>\n",
       "    </tr>\n",
       "    <tr>\n",
       "      <th>5</th>\n",
       "      <td>scc_030</td>\n",
       "      <td>[0, 0, 0, 0, 0, 0, 0, 0, 4, 0, 4, 4, 0, 0, 0, ...</td>\n",
       "      <td>0.087086</td>\n",
       "    </tr>\n",
       "    <tr>\n",
       "      <th>6</th>\n",
       "      <td>scc_030</td>\n",
       "      <td>[0, 0, 0, 0, 0, 0, 0, 0, 5, 0, 5, 5, 0, 5, 0, ...</td>\n",
       "      <td>0.088032</td>\n",
       "    </tr>\n",
       "    <tr>\n",
       "      <th>7</th>\n",
       "      <td>scc_025</td>\n",
       "      <td>[5, 5, 5, 5, 5, 5, 5, 5, 5, 5, 5, 5, 5, 5, 5, ...</td>\n",
       "      <td>0.088777</td>\n",
       "    </tr>\n",
       "    <tr>\n",
       "      <th>8</th>\n",
       "      <td>scc_025</td>\n",
       "      <td>[0, 0, 0, 0, 0, 0, 0, 0, 0, 0, 0, 0, 0, 0, 0, ...</td>\n",
       "      <td>0.088678</td>\n",
       "    </tr>\n",
       "    <tr>\n",
       "      <th>9</th>\n",
       "      <td>scc_025</td>\n",
       "      <td>[8, 8, 8, 8, 8, 8, 8, 8, 8, 8, 8, 8, 8, 8, 8, ...</td>\n",
       "      <td>0.088639</td>\n",
       "    </tr>\n",
       "    <tr>\n",
       "      <th>10</th>\n",
       "      <td>scc_030</td>\n",
       "      <td>[8, 9, 9, 9, 9, 9, 9, 9, 9, 8, 9, 9, 8, 9, 8, ...</td>\n",
       "      <td>0.051740</td>\n",
       "    </tr>\n",
       "    <tr>\n",
       "      <th>11</th>\n",
       "      <td>scc_025</td>\n",
       "      <td>[0, 0, 0, 0, 0, 0, 0, 0, 0, 0, 0, 0, 0, 0, 0, ...</td>\n",
       "      <td>0.089616</td>\n",
       "    </tr>\n",
       "    <tr>\n",
       "      <th>12</th>\n",
       "      <td>scc_025</td>\n",
       "      <td>[9, 9, 9, 9, 9, 9, 9, 9, 9, 9, 9, 9, 9, 9, 9, ...</td>\n",
       "      <td>0.089870</td>\n",
       "    </tr>\n",
       "    <tr>\n",
       "      <th>13</th>\n",
       "      <td>scc_025</td>\n",
       "      <td>[0, 0, 0, 0, 0, 0, 0, 0, 0, 0, 0, 0, 0, 0, 0, ...</td>\n",
       "      <td>0.089920</td>\n",
       "    </tr>\n",
       "    <tr>\n",
       "      <th>14</th>\n",
       "      <td>scc_025</td>\n",
       "      <td>[0, 0, 0, 0, 0, 0, 0, 0, 0, 0, 0, 0, 0, 0, 0, ...</td>\n",
       "      <td>0.090117</td>\n",
       "    </tr>\n",
       "    <tr>\n",
       "      <th>15</th>\n",
       "      <td>scc_025</td>\n",
       "      <td>[0, 0, 0, 0, 0, 0, 0, 0, 0, 0, 0, 0, 0, 0, 0, ...</td>\n",
       "      <td>0.089346</td>\n",
       "    </tr>\n",
       "    <tr>\n",
       "      <th>16</th>\n",
       "      <td>scc_025</td>\n",
       "      <td>[0, 0, 0, 0, 0, 0, 0, 0, 0, 0, 0, 0, 0, 0, 0, ...</td>\n",
       "      <td>0.088662</td>\n",
       "    </tr>\n",
       "    <tr>\n",
       "      <th>17</th>\n",
       "      <td>scc_025</td>\n",
       "      <td>[0, 0, 0, 0, 0, 0, 0, 0, 0, 0, 0, 0, 0, 0, 0, ...</td>\n",
       "      <td>0.062517</td>\n",
       "    </tr>\n",
       "    <tr>\n",
       "      <th>18</th>\n",
       "      <td>scc_025</td>\n",
       "      <td>[17, 17, 17, 17, 17, 17, 17, 17, 17, 17, 17, 1...</td>\n",
       "      <td>0.069423</td>\n",
       "    </tr>\n",
       "    <tr>\n",
       "      <th>19</th>\n",
       "      <td>scc_025</td>\n",
       "      <td>[0, 0, 0, 0, 0, 0, 0, 0, 0, 0, 0, 0, 0, 0, 0, ...</td>\n",
       "      <td>0.062611</td>\n",
       "    </tr>\n",
       "    <tr>\n",
       "      <th>20</th>\n",
       "      <td>scc_025</td>\n",
       "      <td>[0, 0, 0, 0, 0, 0, 0, 0, 0, 0, 0, 0, 0, 0, 0, ...</td>\n",
       "      <td>0.062821</td>\n",
       "    </tr>\n",
       "    <tr>\n",
       "      <th>21</th>\n",
       "      <td>scc_025</td>\n",
       "      <td>[0, 16, 16, 16, 16, 16, 16, 16, 16, 0, 16, 16,...</td>\n",
       "      <td>0.068510</td>\n",
       "    </tr>\n",
       "    <tr>\n",
       "      <th>22</th>\n",
       "      <td>scc_020</td>\n",
       "      <td>[13, 18, 18, 18, 18, 18, 18, 18, 18, 13, 18, 1...</td>\n",
       "      <td>0.090100</td>\n",
       "    </tr>\n",
       "    <tr>\n",
       "      <th>23</th>\n",
       "      <td>scc_020</td>\n",
       "      <td>[0, 20, 20, 20, 20, 20, 20, 20, 20, 0, 20, 20,...</td>\n",
       "      <td>0.085928</td>\n",
       "    </tr>\n",
       "    <tr>\n",
       "      <th>24</th>\n",
       "      <td>scc_020</td>\n",
       "      <td>[0, 22, 22, 22, 22, 22, 22, 22, 22, 0, 22, 22,...</td>\n",
       "      <td>0.085412</td>\n",
       "    </tr>\n",
       "    <tr>\n",
       "      <th>25</th>\n",
       "      <td>scc_020</td>\n",
       "      <td>[0, 21, 21, 21, 21, 21, 21, 21, 21, 0, 21, 21,...</td>\n",
       "      <td>0.087029</td>\n",
       "    </tr>\n",
       "    <tr>\n",
       "      <th>26</th>\n",
       "      <td>scc_020</td>\n",
       "      <td>[0, 21, 21, 21, 21, 21, 21, 21, 21, 0, 21, 21,...</td>\n",
       "      <td>0.086943</td>\n",
       "    </tr>\n",
       "    <tr>\n",
       "      <th>27</th>\n",
       "      <td>scc_020</td>\n",
       "      <td>[0, 21, 21, 21, 21, 21, 21, 21, 21, 0, 21, 21,...</td>\n",
       "      <td>0.083724</td>\n",
       "    </tr>\n",
       "    <tr>\n",
       "      <th>28</th>\n",
       "      <td>scc_020</td>\n",
       "      <td>[0, 21, 21, 21, 21, 21, 21, 21, 21, 0, 21, 21,...</td>\n",
       "      <td>0.063682</td>\n",
       "    </tr>\n",
       "    <tr>\n",
       "      <th>29</th>\n",
       "      <td>scc_020</td>\n",
       "      <td>[0, 22, 22, 22, 22, 22, 22, 22, 22, 0, 22, 22,...</td>\n",
       "      <td>0.086230</td>\n",
       "    </tr>\n",
       "    <tr>\n",
       "      <th>30</th>\n",
       "      <td>scc_025</td>\n",
       "      <td>[12, 18, 18, 18, 18, 18, 18, 18, 18, 12, 18, 1...</td>\n",
       "      <td>0.069885</td>\n",
       "    </tr>\n",
       "    <tr>\n",
       "      <th>31</th>\n",
       "      <td>scc_020</td>\n",
       "      <td>[23, 25, 25, 25, 25, 25, 25, 25, 25, 23, 25, 2...</td>\n",
       "      <td>0.062043</td>\n",
       "    </tr>\n",
       "    <tr>\n",
       "      <th>32</th>\n",
       "      <td>scc_020</td>\n",
       "      <td>[27, 24, 24, 24, 24, 24, 24, 24, 24, 27, 24, 2...</td>\n",
       "      <td>0.067968</td>\n",
       "    </tr>\n",
       "    <tr>\n",
       "      <th>33</th>\n",
       "      <td>scc_020</td>\n",
       "      <td>[26, 24, 24, 24, 24, 24, 24, 24, 24, 26, 24, 2...</td>\n",
       "      <td>0.063683</td>\n",
       "    </tr>\n",
       "    <tr>\n",
       "      <th>34</th>\n",
       "      <td>scc_020</td>\n",
       "      <td>[0, 24, 24, 24, 24, 24, 24, 24, 24, 0, 24, 24,...</td>\n",
       "      <td>0.071889</td>\n",
       "    </tr>\n",
       "    <tr>\n",
       "      <th>35</th>\n",
       "      <td>scc_020</td>\n",
       "      <td>[0, 24, 24, 24, 24, 24, 24, 24, 24, 0, 24, 24,...</td>\n",
       "      <td>0.075844</td>\n",
       "    </tr>\n",
       "    <tr>\n",
       "      <th>36</th>\n",
       "      <td>scc_020</td>\n",
       "      <td>[33, 28, 28, 28, 28, 28, 28, 28, 28, 33, 28, 2...</td>\n",
       "      <td>0.071622</td>\n",
       "    </tr>\n",
       "    <tr>\n",
       "      <th>37</th>\n",
       "      <td>scc_020</td>\n",
       "      <td>[35, 25, 25, 25, 25, 25, 25, 25, 25, 35, 25, 2...</td>\n",
       "      <td>0.068721</td>\n",
       "    </tr>\n",
       "    <tr>\n",
       "      <th>38</th>\n",
       "      <td>scc_020</td>\n",
       "      <td>[35, 28, 28, 28, 28, 28, 28, 28, 28, 35, 28, 2...</td>\n",
       "      <td>0.070929</td>\n",
       "    </tr>\n",
       "    <tr>\n",
       "      <th>39</th>\n",
       "      <td>scc_020</td>\n",
       "      <td>[29, 26, 26, 26, 26, 26, 26, 26, 26, 29, 26, 2...</td>\n",
       "      <td>0.054226</td>\n",
       "    </tr>\n",
       "    <tr>\n",
       "      <th>40</th>\n",
       "      <td>scc_020</td>\n",
       "      <td>[0, 26, 26, 26, 26, 26, 26, 26, 26, 0, 26, 26,...</td>\n",
       "      <td>0.071269</td>\n",
       "    </tr>\n",
       "    <tr>\n",
       "      <th>41</th>\n",
       "      <td>scc_020</td>\n",
       "      <td>[26, 21, 21, 21, 21, 21, 21, 21, 21, 26, 21, 2...</td>\n",
       "      <td>0.049811</td>\n",
       "    </tr>\n",
       "    <tr>\n",
       "      <th>42</th>\n",
       "      <td>scc_020</td>\n",
       "      <td>[41, 28, 28, 28, 28, 28, 28, 28, 28, 41, 28, 2...</td>\n",
       "      <td>0.050772</td>\n",
       "    </tr>\n",
       "    <tr>\n",
       "      <th>43</th>\n",
       "      <td>scc_020</td>\n",
       "      <td>[0, 23, 23, 23, 23, 23, 23, 23, 23, 0, 23, 23,...</td>\n",
       "      <td>0.041436</td>\n",
       "    </tr>\n",
       "    <tr>\n",
       "      <th>44</th>\n",
       "      <td>scc_020</td>\n",
       "      <td>[31, 18, 18, 18, 18, 18, 18, 18, 18, 31, 18, 1...</td>\n",
       "      <td>0.049140</td>\n",
       "    </tr>\n",
       "    <tr>\n",
       "      <th>45</th>\n",
       "      <td>scc_020</td>\n",
       "      <td>[37, 25, 25, 25, 25, 25, 25, 25, 25, 37, 25, 2...</td>\n",
       "      <td>0.054200</td>\n",
       "    </tr>\n",
       "    <tr>\n",
       "      <th>46</th>\n",
       "      <td>scc_020</td>\n",
       "      <td>[33, 31, 31, 31, 31, 31, 31, 31, 31, 33, 31, 3...</td>\n",
       "      <td>0.064938</td>\n",
       "    </tr>\n",
       "    <tr>\n",
       "      <th>47</th>\n",
       "      <td>scc_020</td>\n",
       "      <td>[34, 28, 28, 28, 28, 28, 28, 28, 28, 34, 28, 2...</td>\n",
       "      <td>0.046735</td>\n",
       "    </tr>\n",
       "    <tr>\n",
       "      <th>48</th>\n",
       "      <td>scc_020</td>\n",
       "      <td>[34, 27, 27, 27, 27, 27, 27, 27, 27, 34, 27, 2...</td>\n",
       "      <td>0.046826</td>\n",
       "    </tr>\n",
       "    <tr>\n",
       "      <th>49</th>\n",
       "      <td>scc_020</td>\n",
       "      <td>[41, 29, 29, 29, 29, 29, 29, 29, 29, 41, 29, 2...</td>\n",
       "      <td>0.044596</td>\n",
       "    </tr>\n",
       "    <tr>\n",
       "      <th>50</th>\n",
       "      <td>scc_020</td>\n",
       "      <td>[46, 33, 33, 33, 33, 33, 33, 33, 33, 46, 33, 3...</td>\n",
       "      <td>0.037696</td>\n",
       "    </tr>\n",
       "    <tr>\n",
       "      <th>51</th>\n",
       "      <td>scc_020</td>\n",
       "      <td>[34, 28, 28, 28, 28, 28, 28, 28, 28, 34, 28, 2...</td>\n",
       "      <td>0.039922</td>\n",
       "    </tr>\n",
       "    <tr>\n",
       "      <th>52</th>\n",
       "      <td>scc_020</td>\n",
       "      <td>[43, 25, 25, 25, 25, 25, 25, 25, 25, 43, 25, 2...</td>\n",
       "      <td>0.039877</td>\n",
       "    </tr>\n",
       "    <tr>\n",
       "      <th>53</th>\n",
       "      <td>scc_020</td>\n",
       "      <td>[48, 23, 23, 23, 23, 23, 23, 23, 23, 48, 23, 2...</td>\n",
       "      <td>0.038601</td>\n",
       "    </tr>\n",
       "    <tr>\n",
       "      <th>54</th>\n",
       "      <td>scc_020</td>\n",
       "      <td>[38, 35, 35, 35, 35, 35, 35, 35, 35, 38, 35, 3...</td>\n",
       "      <td>0.045948</td>\n",
       "    </tr>\n",
       "    <tr>\n",
       "      <th>55</th>\n",
       "      <td>scc_020</td>\n",
       "      <td>[0, 29, 29, 29, 29, 29, 29, 29, 29, 0, 29, 29,...</td>\n",
       "      <td>0.045492</td>\n",
       "    </tr>\n",
       "    <tr>\n",
       "      <th>56</th>\n",
       "      <td>scc_020</td>\n",
       "      <td>[53, 30, 30, 30, 30, 30, 30, 30, 30, 53, 30, 3...</td>\n",
       "      <td>0.052920</td>\n",
       "    </tr>\n",
       "    <tr>\n",
       "      <th>57</th>\n",
       "      <td>scc_020</td>\n",
       "      <td>[49, 40, 40, 40, 40, 40, 40, 40, 40, 49, 40, 4...</td>\n",
       "      <td>0.037393</td>\n",
       "    </tr>\n",
       "    <tr>\n",
       "      <th>58</th>\n",
       "      <td>scc_020</td>\n",
       "      <td>[55, 29, 29, 29, 29, 29, 29, 29, 29, 55, 29, 2...</td>\n",
       "      <td>0.049760</td>\n",
       "    </tr>\n",
       "    <tr>\n",
       "      <th>59</th>\n",
       "      <td>scc_020</td>\n",
       "      <td>[52, 29, 29, 29, 29, 29, 29, 29, 29, 52, 29, 2...</td>\n",
       "      <td>0.033275</td>\n",
       "    </tr>\n",
       "    <tr>\n",
       "      <th>60</th>\n",
       "      <td>scc_020</td>\n",
       "      <td>[53, 24, 24, 24, 24, 24, 24, 24, 24, 53, 24, 2...</td>\n",
       "      <td>0.040134</td>\n",
       "    </tr>\n",
       "  </tbody>\n",
       "</table>\n",
       "</div>"
      ],
      "text/plain": [
       "     method                                          partition  ari_median\n",
       "k                                                                         \n",
       "2   scc_050  [1, 1, 1, 0, 0, 0, 0, 0, 1, 0, 1, 1, 0, 1, 0, ...    0.076657\n",
       "3   scc_050  [1, 1, 1, 2, 2, 2, 2, 2, 1, 2, 1, 1, 2, 1, 2, ...    0.063797\n",
       "4   scc_030  [0, 0, 0, 0, 0, 0, 0, 0, 3, 0, 3, 3, 0, 3, 0, ...    0.085510\n",
       "5   scc_030  [0, 0, 0, 0, 0, 0, 0, 0, 4, 0, 4, 4, 0, 0, 0, ...    0.087086\n",
       "6   scc_030  [0, 0, 0, 0, 0, 0, 0, 0, 5, 0, 5, 5, 0, 5, 0, ...    0.088032\n",
       "7   scc_025  [5, 5, 5, 5, 5, 5, 5, 5, 5, 5, 5, 5, 5, 5, 5, ...    0.088777\n",
       "8   scc_025  [0, 0, 0, 0, 0, 0, 0, 0, 0, 0, 0, 0, 0, 0, 0, ...    0.088678\n",
       "9   scc_025  [8, 8, 8, 8, 8, 8, 8, 8, 8, 8, 8, 8, 8, 8, 8, ...    0.088639\n",
       "10  scc_030  [8, 9, 9, 9, 9, 9, 9, 9, 9, 8, 9, 9, 8, 9, 8, ...    0.051740\n",
       "11  scc_025  [0, 0, 0, 0, 0, 0, 0, 0, 0, 0, 0, 0, 0, 0, 0, ...    0.089616\n",
       "12  scc_025  [9, 9, 9, 9, 9, 9, 9, 9, 9, 9, 9, 9, 9, 9, 9, ...    0.089870\n",
       "13  scc_025  [0, 0, 0, 0, 0, 0, 0, 0, 0, 0, 0, 0, 0, 0, 0, ...    0.089920\n",
       "14  scc_025  [0, 0, 0, 0, 0, 0, 0, 0, 0, 0, 0, 0, 0, 0, 0, ...    0.090117\n",
       "15  scc_025  [0, 0, 0, 0, 0, 0, 0, 0, 0, 0, 0, 0, 0, 0, 0, ...    0.089346\n",
       "16  scc_025  [0, 0, 0, 0, 0, 0, 0, 0, 0, 0, 0, 0, 0, 0, 0, ...    0.088662\n",
       "17  scc_025  [0, 0, 0, 0, 0, 0, 0, 0, 0, 0, 0, 0, 0, 0, 0, ...    0.062517\n",
       "18  scc_025  [17, 17, 17, 17, 17, 17, 17, 17, 17, 17, 17, 1...    0.069423\n",
       "19  scc_025  [0, 0, 0, 0, 0, 0, 0, 0, 0, 0, 0, 0, 0, 0, 0, ...    0.062611\n",
       "20  scc_025  [0, 0, 0, 0, 0, 0, 0, 0, 0, 0, 0, 0, 0, 0, 0, ...    0.062821\n",
       "21  scc_025  [0, 16, 16, 16, 16, 16, 16, 16, 16, 0, 16, 16,...    0.068510\n",
       "22  scc_020  [13, 18, 18, 18, 18, 18, 18, 18, 18, 13, 18, 1...    0.090100\n",
       "23  scc_020  [0, 20, 20, 20, 20, 20, 20, 20, 20, 0, 20, 20,...    0.085928\n",
       "24  scc_020  [0, 22, 22, 22, 22, 22, 22, 22, 22, 0, 22, 22,...    0.085412\n",
       "25  scc_020  [0, 21, 21, 21, 21, 21, 21, 21, 21, 0, 21, 21,...    0.087029\n",
       "26  scc_020  [0, 21, 21, 21, 21, 21, 21, 21, 21, 0, 21, 21,...    0.086943\n",
       "27  scc_020  [0, 21, 21, 21, 21, 21, 21, 21, 21, 0, 21, 21,...    0.083724\n",
       "28  scc_020  [0, 21, 21, 21, 21, 21, 21, 21, 21, 0, 21, 21,...    0.063682\n",
       "29  scc_020  [0, 22, 22, 22, 22, 22, 22, 22, 22, 0, 22, 22,...    0.086230\n",
       "30  scc_025  [12, 18, 18, 18, 18, 18, 18, 18, 18, 12, 18, 1...    0.069885\n",
       "31  scc_020  [23, 25, 25, 25, 25, 25, 25, 25, 25, 23, 25, 2...    0.062043\n",
       "32  scc_020  [27, 24, 24, 24, 24, 24, 24, 24, 24, 27, 24, 2...    0.067968\n",
       "33  scc_020  [26, 24, 24, 24, 24, 24, 24, 24, 24, 26, 24, 2...    0.063683\n",
       "34  scc_020  [0, 24, 24, 24, 24, 24, 24, 24, 24, 0, 24, 24,...    0.071889\n",
       "35  scc_020  [0, 24, 24, 24, 24, 24, 24, 24, 24, 0, 24, 24,...    0.075844\n",
       "36  scc_020  [33, 28, 28, 28, 28, 28, 28, 28, 28, 33, 28, 2...    0.071622\n",
       "37  scc_020  [35, 25, 25, 25, 25, 25, 25, 25, 25, 35, 25, 2...    0.068721\n",
       "38  scc_020  [35, 28, 28, 28, 28, 28, 28, 28, 28, 35, 28, 2...    0.070929\n",
       "39  scc_020  [29, 26, 26, 26, 26, 26, 26, 26, 26, 29, 26, 2...    0.054226\n",
       "40  scc_020  [0, 26, 26, 26, 26, 26, 26, 26, 26, 0, 26, 26,...    0.071269\n",
       "41  scc_020  [26, 21, 21, 21, 21, 21, 21, 21, 21, 26, 21, 2...    0.049811\n",
       "42  scc_020  [41, 28, 28, 28, 28, 28, 28, 28, 28, 41, 28, 2...    0.050772\n",
       "43  scc_020  [0, 23, 23, 23, 23, 23, 23, 23, 23, 0, 23, 23,...    0.041436\n",
       "44  scc_020  [31, 18, 18, 18, 18, 18, 18, 18, 18, 31, 18, 1...    0.049140\n",
       "45  scc_020  [37, 25, 25, 25, 25, 25, 25, 25, 25, 37, 25, 2...    0.054200\n",
       "46  scc_020  [33, 31, 31, 31, 31, 31, 31, 31, 31, 33, 31, 3...    0.064938\n",
       "47  scc_020  [34, 28, 28, 28, 28, 28, 28, 28, 28, 34, 28, 2...    0.046735\n",
       "48  scc_020  [34, 27, 27, 27, 27, 27, 27, 27, 27, 34, 27, 2...    0.046826\n",
       "49  scc_020  [41, 29, 29, 29, 29, 29, 29, 29, 29, 41, 29, 2...    0.044596\n",
       "50  scc_020  [46, 33, 33, 33, 33, 33, 33, 33, 33, 46, 33, 3...    0.037696\n",
       "51  scc_020  [34, 28, 28, 28, 28, 28, 28, 28, 28, 34, 28, 2...    0.039922\n",
       "52  scc_020  [43, 25, 25, 25, 25, 25, 25, 25, 25, 43, 25, 2...    0.039877\n",
       "53  scc_020  [48, 23, 23, 23, 23, 23, 23, 23, 23, 48, 23, 2...    0.038601\n",
       "54  scc_020  [38, 35, 35, 35, 35, 35, 35, 35, 35, 38, 35, 3...    0.045948\n",
       "55  scc_020  [0, 29, 29, 29, 29, 29, 29, 29, 29, 0, 29, 29,...    0.045492\n",
       "56  scc_020  [53, 30, 30, 30, 30, 30, 30, 30, 30, 53, 30, 3...    0.052920\n",
       "57  scc_020  [49, 40, 40, 40, 40, 40, 40, 40, 40, 49, 40, 4...    0.037393\n",
       "58  scc_020  [55, 29, 29, 29, 29, 29, 29, 29, 29, 55, 29, 2...    0.049760\n",
       "59  scc_020  [52, 29, 29, 29, 29, 29, 29, 29, 29, 52, 29, 2...    0.033275\n",
       "60  scc_020  [53, 24, 24, 24, 24, 24, 24, 24, 24, 53, 24, 2...    0.040134"
      ]
     },
     "execution_count": 26,
     "metadata": {},
     "output_type": "execute_result"
    }
   ],
   "source": [
    "best_parts.sort_values(\"k\")"
   ]
  },
  {
   "cell_type": "markdown",
   "metadata": {
    "papermill": {
     "duration": 0.0234,
     "end_time": "2021-05-09T02:10:57.453940",
     "exception": false,
     "start_time": "2021-05-09T02:10:57.430540",
     "status": "completed"
    },
    "tags": []
   },
   "source": [
    "## Select partitions with highest agreement"
   ]
  },
  {
   "cell_type": "markdown",
   "metadata": {
    "papermill": {
     "duration": 0.02337,
     "end_time": "2021-05-09T02:10:57.500814",
     "exception": false,
     "start_time": "2021-05-09T02:10:57.477444",
     "status": "completed"
    },
    "tags": []
   },
   "source": [
    "We do not expect all partitions with different `k` to be good ones. Thus, here I select the partitions with an ensemble agreement that pass a relative high threshold (75th percentile)."
   ]
  },
  {
   "cell_type": "code",
   "execution_count": 27,
   "metadata": {
    "execution": {
     "iopub.execute_input": "2021-05-09T02:10:57.550613Z",
     "iopub.status.busy": "2021-05-09T02:10:57.550228Z",
     "iopub.status.idle": "2021-05-09T02:10:57.562983Z",
     "shell.execute_reply": "2021-05-09T02:10:57.562615Z"
    },
    "papermill": {
     "duration": 0.038926,
     "end_time": "2021-05-09T02:10:57.563066",
     "exception": false,
     "start_time": "2021-05-09T02:10:57.524140",
     "status": "completed"
    },
    "tags": []
   },
   "outputs": [
    {
     "data": {
      "text/plain": [
       "count    59.000000\n",
       "mean      0.066253\n",
       "std       0.018280\n",
       "min       0.033275\n",
       "25%       0.049785\n",
       "50%       0.067968\n",
       "75%       0.086079\n",
       "max       0.090117\n",
       "Name: ari_median, dtype: float64"
      ]
     },
     "metadata": {},
     "output_type": "display_data"
    }
   ],
   "source": [
    "best_parts_stats = best_parts[_measure_col].describe()\n",
    "display(best_parts_stats)"
   ]
  },
  {
   "cell_type": "code",
   "execution_count": 28,
   "metadata": {
    "execution": {
     "iopub.execute_input": "2021-05-09T02:10:57.614660Z",
     "iopub.status.busy": "2021-05-09T02:10:57.614293Z",
     "iopub.status.idle": "2021-05-09T02:10:57.625305Z",
     "shell.execute_reply": "2021-05-09T02:10:57.624935Z"
    },
    "papermill": {
     "duration": 0.037498,
     "end_time": "2021-05-09T02:10:57.625388",
     "exception": false,
     "start_time": "2021-05-09T02:10:57.587890",
     "status": "completed"
    },
    "tags": []
   },
   "outputs": [
    {
     "data": {
      "text/plain": [
       "0.08607907160043715"
      ]
     },
     "metadata": {},
     "output_type": "display_data"
    }
   ],
   "source": [
    "best_threshold = best_parts_stats[\"75%\"]\n",
    "best_threshold_description = \"75th percentile\"\n",
    "display(best_threshold)\n",
    "\n",
    "best_parts = best_parts.assign(\n",
    "    selected=best_parts[_measure_col].apply(lambda x: x >= best_threshold)\n",
    ")"
   ]
  },
  {
   "cell_type": "code",
   "execution_count": 29,
   "metadata": {
    "execution": {
     "iopub.execute_input": "2021-05-09T02:10:57.676578Z",
     "iopub.status.busy": "2021-05-09T02:10:57.676217Z",
     "iopub.status.idle": "2021-05-09T02:10:57.686487Z",
     "shell.execute_reply": "2021-05-09T02:10:57.686189Z"
    },
    "papermill": {
     "duration": 0.036717,
     "end_time": "2021-05-09T02:10:57.686566",
     "exception": false,
     "start_time": "2021-05-09T02:10:57.649849",
     "status": "completed"
    },
    "tags": []
   },
   "outputs": [
    {
     "data": {
      "text/plain": [
       "(59, 4)"
      ]
     },
     "execution_count": 29,
     "metadata": {},
     "output_type": "execute_result"
    }
   ],
   "source": [
    "best_parts.shape"
   ]
  },
  {
   "cell_type": "code",
   "execution_count": 30,
   "metadata": {
    "execution": {
     "iopub.execute_input": "2021-05-09T02:10:57.737319Z",
     "iopub.status.busy": "2021-05-09T02:10:57.736964Z",
     "iopub.status.idle": "2021-05-09T02:10:57.754878Z",
     "shell.execute_reply": "2021-05-09T02:10:57.754520Z"
    },
    "papermill": {
     "duration": 0.044149,
     "end_time": "2021-05-09T02:10:57.754958",
     "exception": false,
     "start_time": "2021-05-09T02:10:57.710809",
     "status": "completed"
    },
    "tags": []
   },
   "outputs": [
    {
     "data": {
      "text/html": [
       "<div>\n",
       "<style scoped>\n",
       "    .dataframe tbody tr th:only-of-type {\n",
       "        vertical-align: middle;\n",
       "    }\n",
       "\n",
       "    .dataframe tbody tr th {\n",
       "        vertical-align: top;\n",
       "    }\n",
       "\n",
       "    .dataframe thead th {\n",
       "        text-align: right;\n",
       "    }\n",
       "</style>\n",
       "<table border=\"1\" class=\"dataframe\">\n",
       "  <thead>\n",
       "    <tr style=\"text-align: right;\">\n",
       "      <th></th>\n",
       "      <th>method</th>\n",
       "      <th>partition</th>\n",
       "      <th>ari_median</th>\n",
       "      <th>selected</th>\n",
       "    </tr>\n",
       "    <tr>\n",
       "      <th>k</th>\n",
       "      <th></th>\n",
       "      <th></th>\n",
       "      <th></th>\n",
       "      <th></th>\n",
       "    </tr>\n",
       "  </thead>\n",
       "  <tbody>\n",
       "    <tr>\n",
       "      <th>14</th>\n",
       "      <td>scc_025</td>\n",
       "      <td>[0, 0, 0, 0, 0, 0, 0, 0, 0, 0, 0, 0, 0, 0, 0, ...</td>\n",
       "      <td>0.090117</td>\n",
       "      <td>True</td>\n",
       "    </tr>\n",
       "    <tr>\n",
       "      <th>22</th>\n",
       "      <td>scc_020</td>\n",
       "      <td>[13, 18, 18, 18, 18, 18, 18, 18, 18, 13, 18, 1...</td>\n",
       "      <td>0.090100</td>\n",
       "      <td>True</td>\n",
       "    </tr>\n",
       "    <tr>\n",
       "      <th>13</th>\n",
       "      <td>scc_025</td>\n",
       "      <td>[0, 0, 0, 0, 0, 0, 0, 0, 0, 0, 0, 0, 0, 0, 0, ...</td>\n",
       "      <td>0.089920</td>\n",
       "      <td>True</td>\n",
       "    </tr>\n",
       "    <tr>\n",
       "      <th>12</th>\n",
       "      <td>scc_025</td>\n",
       "      <td>[9, 9, 9, 9, 9, 9, 9, 9, 9, 9, 9, 9, 9, 9, 9, ...</td>\n",
       "      <td>0.089870</td>\n",
       "      <td>True</td>\n",
       "    </tr>\n",
       "    <tr>\n",
       "      <th>11</th>\n",
       "      <td>scc_025</td>\n",
       "      <td>[0, 0, 0, 0, 0, 0, 0, 0, 0, 0, 0, 0, 0, 0, 0, ...</td>\n",
       "      <td>0.089616</td>\n",
       "      <td>True</td>\n",
       "    </tr>\n",
       "  </tbody>\n",
       "</table>\n",
       "</div>"
      ],
      "text/plain": [
       "     method                                          partition  ari_median  \\\n",
       "k                                                                            \n",
       "14  scc_025  [0, 0, 0, 0, 0, 0, 0, 0, 0, 0, 0, 0, 0, 0, 0, ...    0.090117   \n",
       "22  scc_020  [13, 18, 18, 18, 18, 18, 18, 18, 18, 13, 18, 1...    0.090100   \n",
       "13  scc_025  [0, 0, 0, 0, 0, 0, 0, 0, 0, 0, 0, 0, 0, 0, 0, ...    0.089920   \n",
       "12  scc_025  [9, 9, 9, 9, 9, 9, 9, 9, 9, 9, 9, 9, 9, 9, 9, ...    0.089870   \n",
       "11  scc_025  [0, 0, 0, 0, 0, 0, 0, 0, 0, 0, 0, 0, 0, 0, 0, ...    0.089616   \n",
       "\n",
       "    selected  \n",
       "k             \n",
       "14      True  \n",
       "22      True  \n",
       "13      True  \n",
       "12      True  \n",
       "11      True  "
      ]
     },
     "execution_count": 30,
     "metadata": {},
     "output_type": "execute_result"
    }
   ],
   "source": [
    "best_parts.head()"
   ]
  },
  {
   "cell_type": "markdown",
   "metadata": {
    "papermill": {
     "duration": 0.024452,
     "end_time": "2021-05-09T02:10:57.804437",
     "exception": false,
     "start_time": "2021-05-09T02:10:57.779985",
     "status": "completed"
    },
    "tags": []
   },
   "source": [
    "## Save best partitions per k"
   ]
  },
  {
   "cell_type": "code",
   "execution_count": 31,
   "metadata": {
    "execution": {
     "iopub.execute_input": "2021-05-09T02:10:57.855348Z",
     "iopub.status.busy": "2021-05-09T02:10:57.854994Z",
     "iopub.status.idle": "2021-05-09T02:10:57.864959Z",
     "shell.execute_reply": "2021-05-09T02:10:57.865249Z"
    },
    "papermill": {
     "duration": 0.036732,
     "end_time": "2021-05-09T02:10:57.865350",
     "exception": false,
     "start_time": "2021-05-09T02:10:57.828618",
     "status": "completed"
    },
    "tags": []
   },
   "outputs": [
    {
     "data": {
      "text/plain": [
       "PosixPath('/home/miltondp/projects/labs/greenelab/phenoplier/base/results/clustering/consensus_clustering/best_partitions_by_k.pkl')"
      ]
     },
     "metadata": {},
     "output_type": "display_data"
    }
   ],
   "source": [
    "output_file = Path(CONSENSUS_CLUSTERING_DIR, \"best_partitions_by_k.pkl\").resolve()\n",
    "display(output_file)"
   ]
  },
  {
   "cell_type": "code",
   "execution_count": 32,
   "metadata": {
    "execution": {
     "iopub.execute_input": "2021-05-09T02:10:57.918391Z",
     "iopub.status.busy": "2021-05-09T02:10:57.918039Z",
     "iopub.status.idle": "2021-05-09T02:10:57.928870Z",
     "shell.execute_reply": "2021-05-09T02:10:57.928444Z"
    },
    "papermill": {
     "duration": 0.038224,
     "end_time": "2021-05-09T02:10:57.928953",
     "exception": false,
     "start_time": "2021-05-09T02:10:57.890729",
     "status": "completed"
    },
    "tags": []
   },
   "outputs": [],
   "source": [
    "best_parts.to_pickle(output_file)"
   ]
  },
  {
   "cell_type": "markdown",
   "metadata": {
    "papermill": {
     "duration": 0.024773,
     "end_time": "2021-05-09T02:10:57.978951",
     "exception": false,
     "start_time": "2021-05-09T02:10:57.954178",
     "status": "completed"
    },
    "tags": []
   },
   "source": [
    "# Plot of selected best partitions"
   ]
  },
  {
   "cell_type": "code",
   "execution_count": 33,
   "metadata": {
    "execution": {
     "iopub.execute_input": "2021-05-09T02:10:58.031701Z",
     "iopub.status.busy": "2021-05-09T02:10:58.031339Z",
     "iopub.status.idle": "2021-05-09T02:10:58.049943Z",
     "shell.execute_reply": "2021-05-09T02:10:58.049579Z"
    },
    "papermill": {
     "duration": 0.045807,
     "end_time": "2021-05-09T02:10:58.050025",
     "exception": false,
     "start_time": "2021-05-09T02:10:58.004218",
     "status": "completed"
    },
    "tags": []
   },
   "outputs": [
    {
     "data": {
      "text/html": [
       "<div>\n",
       "<style scoped>\n",
       "    .dataframe tbody tr th:only-of-type {\n",
       "        vertical-align: middle;\n",
       "    }\n",
       "\n",
       "    .dataframe tbody tr th {\n",
       "        vertical-align: top;\n",
       "    }\n",
       "\n",
       "    .dataframe thead th {\n",
       "        text-align: right;\n",
       "    }\n",
       "</style>\n",
       "<table border=\"1\" class=\"dataframe\">\n",
       "  <thead>\n",
       "    <tr style=\"text-align: right;\">\n",
       "      <th></th>\n",
       "      <th>k</th>\n",
       "      <th>method</th>\n",
       "      <th>partition</th>\n",
       "      <th>ari_median</th>\n",
       "      <th>selected</th>\n",
       "    </tr>\n",
       "  </thead>\n",
       "  <tbody>\n",
       "    <tr>\n",
       "      <th>0</th>\n",
       "      <td>14</td>\n",
       "      <td>scc_025</td>\n",
       "      <td>[0, 0, 0, 0, 0, 0, 0, 0, 0, 0, 0, 0, 0, 0, 0, ...</td>\n",
       "      <td>0.090117</td>\n",
       "      <td>True</td>\n",
       "    </tr>\n",
       "    <tr>\n",
       "      <th>1</th>\n",
       "      <td>22</td>\n",
       "      <td>scc_020</td>\n",
       "      <td>[13, 18, 18, 18, 18, 18, 18, 18, 18, 13, 18, 1...</td>\n",
       "      <td>0.090100</td>\n",
       "      <td>True</td>\n",
       "    </tr>\n",
       "    <tr>\n",
       "      <th>2</th>\n",
       "      <td>13</td>\n",
       "      <td>scc_025</td>\n",
       "      <td>[0, 0, 0, 0, 0, 0, 0, 0, 0, 0, 0, 0, 0, 0, 0, ...</td>\n",
       "      <td>0.089920</td>\n",
       "      <td>True</td>\n",
       "    </tr>\n",
       "    <tr>\n",
       "      <th>3</th>\n",
       "      <td>12</td>\n",
       "      <td>scc_025</td>\n",
       "      <td>[9, 9, 9, 9, 9, 9, 9, 9, 9, 9, 9, 9, 9, 9, 9, ...</td>\n",
       "      <td>0.089870</td>\n",
       "      <td>True</td>\n",
       "    </tr>\n",
       "    <tr>\n",
       "      <th>4</th>\n",
       "      <td>11</td>\n",
       "      <td>scc_025</td>\n",
       "      <td>[0, 0, 0, 0, 0, 0, 0, 0, 0, 0, 0, 0, 0, 0, 0, ...</td>\n",
       "      <td>0.089616</td>\n",
       "      <td>True</td>\n",
       "    </tr>\n",
       "  </tbody>\n",
       "</table>\n",
       "</div>"
      ],
      "text/plain": [
       "    k   method                                          partition  ari_median  \\\n",
       "0  14  scc_025  [0, 0, 0, 0, 0, 0, 0, 0, 0, 0, 0, 0, 0, 0, 0, ...    0.090117   \n",
       "1  22  scc_020  [13, 18, 18, 18, 18, 18, 18, 18, 18, 13, 18, 1...    0.090100   \n",
       "2  13  scc_025  [0, 0, 0, 0, 0, 0, 0, 0, 0, 0, 0, 0, 0, 0, 0, ...    0.089920   \n",
       "3  12  scc_025  [9, 9, 9, 9, 9, 9, 9, 9, 9, 9, 9, 9, 9, 9, 9, ...    0.089870   \n",
       "4  11  scc_025  [0, 0, 0, 0, 0, 0, 0, 0, 0, 0, 0, 0, 0, 0, 0, ...    0.089616   \n",
       "\n",
       "   selected  \n",
       "0      True  \n",
       "1      True  \n",
       "2      True  \n",
       "3      True  \n",
       "4      True  "
      ]
     },
     "metadata": {},
     "output_type": "display_data"
    }
   ],
   "source": [
    "plot_data = best_parts.reset_index()\n",
    "display(plot_data.head(5))"
   ]
  },
  {
   "cell_type": "code",
   "execution_count": 34,
   "metadata": {
    "execution": {
     "iopub.execute_input": "2021-05-09T02:10:58.104495Z",
     "iopub.status.busy": "2021-05-09T02:10:58.104130Z",
     "iopub.status.idle": "2021-05-09T02:10:59.733357Z",
     "shell.execute_reply": "2021-05-09T02:10:59.733651Z"
    },
    "papermill": {
     "duration": 1.658355,
     "end_time": "2021-05-09T02:10:59.733754",
     "exception": false,
     "start_time": "2021-05-09T02:10:58.075399",
     "status": "completed"
    },
    "tags": []
   },
   "outputs": [
    {
     "data": {
      "image/png": "[encoded data removed]",
      "text/plain": [
       "<Figure size 864x432 with 1 Axes>"
      ]
     },
     "metadata": {},
     "output_type": "display_data"
    }
   ],
   "source": [
    "with sns.plotting_context(\"talk\", font_scale=0.75), sns.axes_style(\n",
    "    \"whitegrid\", {\"grid.linestyle\": \"--\"}\n",
    "), sns.color_palette(\"muted\"):\n",
    "    current_palette = iter(sns.color_palette())\n",
    "\n",
    "    fig, ax = plt.subplots(figsize=(12, 6))\n",
    "    ax = sns.pointplot(\n",
    "        data=plot_data, x=\"k\", y=_measure_col, color=next(current_palette)\n",
    "    )\n",
    "    ax.axhline(\n",
    "        best_threshold,\n",
    "        ls=\"--\",\n",
    "        color=next(current_palette),\n",
    "        label=best_threshold_description,\n",
    "    )\n",
    "    ax.set_ylabel(f\"Agreement with ensemble\\n({_selected_stat} {_selected_measure})\")\n",
    "    ax.set_xlabel(\"Number of clusters ($k$)\")\n",
    "    ax.set_xticklabels(ax.get_xticklabels(), rotation=45)\n",
    "    plt.legend()\n",
    "    plt.grid(True)\n",
    "    plt.tight_layout()"
   ]
  },
  {
   "cell_type": "markdown",
   "metadata": {
    "papermill": {
     "duration": 0.02713,
     "end_time": "2021-05-09T02:10:59.789520",
     "exception": false,
     "start_time": "2021-05-09T02:10:59.762390",
     "status": "completed"
    },
    "tags": []
   },
   "source": [
    "The horizontal line in the plot is the median of the average agreement value; partitions above that line are marked as selected for downstream analysis"
   ]
  },
  {
   "cell_type": "code",
   "execution_count": 35,
   "metadata": {
    "execution": {
     "iopub.execute_input": "2021-05-09T02:10:59.847564Z",
     "iopub.status.busy": "2021-05-09T02:10:59.847206Z",
     "iopub.status.idle": "2021-05-09T02:10:59.875834Z",
     "shell.execute_reply": "2021-05-09T02:10:59.875519Z"
    },
    "papermill": {
     "duration": 0.059126,
     "end_time": "2021-05-09T02:10:59.875917",
     "exception": false,
     "start_time": "2021-05-09T02:10:59.816791",
     "status": "completed"
    },
    "tags": []
   },
   "outputs": [
    {
     "data": {
      "text/html": [
       "<div>\n",
       "<style scoped>\n",
       "    .dataframe tbody tr th:only-of-type {\n",
       "        vertical-align: middle;\n",
       "    }\n",
       "\n",
       "    .dataframe tbody tr th {\n",
       "        vertical-align: top;\n",
       "    }\n",
       "\n",
       "    .dataframe thead th {\n",
       "        text-align: right;\n",
       "    }\n",
       "</style>\n",
       "<table border=\"1\" class=\"dataframe\">\n",
       "  <thead>\n",
       "    <tr style=\"text-align: right;\">\n",
       "      <th></th>\n",
       "      <th>k</th>\n",
       "      <th>method</th>\n",
       "      <th>partition</th>\n",
       "      <th>ari_median</th>\n",
       "      <th>selected</th>\n",
       "    </tr>\n",
       "  </thead>\n",
       "  <tbody>\n",
       "    <tr>\n",
       "      <th>11</th>\n",
       "      <td>5</td>\n",
       "      <td>scc_030</td>\n",
       "      <td>[0, 0, 0, 0, 0, 0, 0, 0, 4, 0, 4, 4, 0, 0, 0, ...</td>\n",
       "      <td>0.087086</td>\n",
       "      <td>True</td>\n",
       "    </tr>\n",
       "    <tr>\n",
       "      <th>10</th>\n",
       "      <td>6</td>\n",
       "      <td>scc_030</td>\n",
       "      <td>[0, 0, 0, 0, 0, 0, 0, 0, 5, 0, 5, 5, 0, 5, 0, ...</td>\n",
       "      <td>0.088032</td>\n",
       "      <td>True</td>\n",
       "    </tr>\n",
       "    <tr>\n",
       "      <th>6</th>\n",
       "      <td>7</td>\n",
       "      <td>scc_025</td>\n",
       "      <td>[5, 5, 5, 5, 5, 5, 5, 5, 5, 5, 5, 5, 5, 5, 5, ...</td>\n",
       "      <td>0.088777</td>\n",
       "      <td>True</td>\n",
       "    </tr>\n",
       "    <tr>\n",
       "      <th>7</th>\n",
       "      <td>8</td>\n",
       "      <td>scc_025</td>\n",
       "      <td>[0, 0, 0, 0, 0, 0, 0, 0, 0, 0, 0, 0, 0, 0, 0, ...</td>\n",
       "      <td>0.088678</td>\n",
       "      <td>True</td>\n",
       "    </tr>\n",
       "    <tr>\n",
       "      <th>9</th>\n",
       "      <td>9</td>\n",
       "      <td>scc_025</td>\n",
       "      <td>[8, 8, 8, 8, 8, 8, 8, 8, 8, 8, 8, 8, 8, 8, 8, ...</td>\n",
       "      <td>0.088639</td>\n",
       "      <td>True</td>\n",
       "    </tr>\n",
       "    <tr>\n",
       "      <th>4</th>\n",
       "      <td>11</td>\n",
       "      <td>scc_025</td>\n",
       "      <td>[0, 0, 0, 0, 0, 0, 0, 0, 0, 0, 0, 0, 0, 0, 0, ...</td>\n",
       "      <td>0.089616</td>\n",
       "      <td>True</td>\n",
       "    </tr>\n",
       "    <tr>\n",
       "      <th>3</th>\n",
       "      <td>12</td>\n",
       "      <td>scc_025</td>\n",
       "      <td>[9, 9, 9, 9, 9, 9, 9, 9, 9, 9, 9, 9, 9, 9, 9, ...</td>\n",
       "      <td>0.089870</td>\n",
       "      <td>True</td>\n",
       "    </tr>\n",
       "    <tr>\n",
       "      <th>2</th>\n",
       "      <td>13</td>\n",
       "      <td>scc_025</td>\n",
       "      <td>[0, 0, 0, 0, 0, 0, 0, 0, 0, 0, 0, 0, 0, 0, 0, ...</td>\n",
       "      <td>0.089920</td>\n",
       "      <td>True</td>\n",
       "    </tr>\n",
       "    <tr>\n",
       "      <th>0</th>\n",
       "      <td>14</td>\n",
       "      <td>scc_025</td>\n",
       "      <td>[0, 0, 0, 0, 0, 0, 0, 0, 0, 0, 0, 0, 0, 0, 0, ...</td>\n",
       "      <td>0.090117</td>\n",
       "      <td>True</td>\n",
       "    </tr>\n",
       "    <tr>\n",
       "      <th>5</th>\n",
       "      <td>15</td>\n",
       "      <td>scc_025</td>\n",
       "      <td>[0, 0, 0, 0, 0, 0, 0, 0, 0, 0, 0, 0, 0, 0, 0, ...</td>\n",
       "      <td>0.089346</td>\n",
       "      <td>True</td>\n",
       "    </tr>\n",
       "    <tr>\n",
       "      <th>8</th>\n",
       "      <td>16</td>\n",
       "      <td>scc_025</td>\n",
       "      <td>[0, 0, 0, 0, 0, 0, 0, 0, 0, 0, 0, 0, 0, 0, 0, ...</td>\n",
       "      <td>0.088662</td>\n",
       "      <td>True</td>\n",
       "    </tr>\n",
       "    <tr>\n",
       "      <th>1</th>\n",
       "      <td>22</td>\n",
       "      <td>scc_020</td>\n",
       "      <td>[13, 18, 18, 18, 18, 18, 18, 18, 18, 13, 18, 1...</td>\n",
       "      <td>0.090100</td>\n",
       "      <td>True</td>\n",
       "    </tr>\n",
       "    <tr>\n",
       "      <th>12</th>\n",
       "      <td>25</td>\n",
       "      <td>scc_020</td>\n",
       "      <td>[0, 21, 21, 21, 21, 21, 21, 21, 21, 0, 21, 21,...</td>\n",
       "      <td>0.087029</td>\n",
       "      <td>True</td>\n",
       "    </tr>\n",
       "    <tr>\n",
       "      <th>13</th>\n",
       "      <td>26</td>\n",
       "      <td>scc_020</td>\n",
       "      <td>[0, 21, 21, 21, 21, 21, 21, 21, 21, 0, 21, 21,...</td>\n",
       "      <td>0.086943</td>\n",
       "      <td>True</td>\n",
       "    </tr>\n",
       "    <tr>\n",
       "      <th>14</th>\n",
       "      <td>29</td>\n",
       "      <td>scc_020</td>\n",
       "      <td>[0, 22, 22, 22, 22, 22, 22, 22, 22, 0, 22, 22,...</td>\n",
       "      <td>0.086230</td>\n",
       "      <td>True</td>\n",
       "    </tr>\n",
       "  </tbody>\n",
       "</table>\n",
       "</div>"
      ],
      "text/plain": [
       "     k   method                                          partition  \\\n",
       "11   5  scc_030  [0, 0, 0, 0, 0, 0, 0, 0, 4, 0, 4, 4, 0, 0, 0, ...   \n",
       "10   6  scc_030  [0, 0, 0, 0, 0, 0, 0, 0, 5, 0, 5, 5, 0, 5, 0, ...   \n",
       "6    7  scc_025  [5, 5, 5, 5, 5, 5, 5, 5, 5, 5, 5, 5, 5, 5, 5, ...   \n",
       "7    8  scc_025  [0, 0, 0, 0, 0, 0, 0, 0, 0, 0, 0, 0, 0, 0, 0, ...   \n",
       "9    9  scc_025  [8, 8, 8, 8, 8, 8, 8, 8, 8, 8, 8, 8, 8, 8, 8, ...   \n",
       "4   11  scc_025  [0, 0, 0, 0, 0, 0, 0, 0, 0, 0, 0, 0, 0, 0, 0, ...   \n",
       "3   12  scc_025  [9, 9, 9, 9, 9, 9, 9, 9, 9, 9, 9, 9, 9, 9, 9, ...   \n",
       "2   13  scc_025  [0, 0, 0, 0, 0, 0, 0, 0, 0, 0, 0, 0, 0, 0, 0, ...   \n",
       "0   14  scc_025  [0, 0, 0, 0, 0, 0, 0, 0, 0, 0, 0, 0, 0, 0, 0, ...   \n",
       "5   15  scc_025  [0, 0, 0, 0, 0, 0, 0, 0, 0, 0, 0, 0, 0, 0, 0, ...   \n",
       "8   16  scc_025  [0, 0, 0, 0, 0, 0, 0, 0, 0, 0, 0, 0, 0, 0, 0, ...   \n",
       "1   22  scc_020  [13, 18, 18, 18, 18, 18, 18, 18, 18, 13, 18, 1...   \n",
       "12  25  scc_020  [0, 21, 21, 21, 21, 21, 21, 21, 21, 0, 21, 21,...   \n",
       "13  26  scc_020  [0, 21, 21, 21, 21, 21, 21, 21, 21, 0, 21, 21,...   \n",
       "14  29  scc_020  [0, 22, 22, 22, 22, 22, 22, 22, 22, 0, 22, 22,...   \n",
       "\n",
       "    ari_median  selected  \n",
       "11    0.087086      True  \n",
       "10    0.088032      True  \n",
       "6     0.088777      True  \n",
       "7     0.088678      True  \n",
       "9     0.088639      True  \n",
       "4     0.089616      True  \n",
       "3     0.089870      True  \n",
       "2     0.089920      True  \n",
       "0     0.090117      True  \n",
       "5     0.089346      True  \n",
       "8     0.088662      True  \n",
       "1     0.090100      True  \n",
       "12    0.087029      True  \n",
       "13    0.086943      True  \n",
       "14    0.086230      True  "
      ]
     },
     "execution_count": 35,
     "metadata": {},
     "output_type": "execute_result"
    }
   ],
   "source": [
    "# this list shows the selected final partitions, and which methods achieved the highest agreement\n",
    "plot_data[plot_data[\"selected\"]].sort_values(\"k\")"
   ]
  },
  {
   "cell_type": "markdown",
   "metadata": {
    "papermill": {
     "duration": 0.027515,
     "end_time": "2021-05-09T02:10:59.931464",
     "exception": false,
     "start_time": "2021-05-09T02:10:59.903949",
     "status": "completed"
    },
    "tags": []
   },
   "source": [
    "From the two evidence accumulation approaches (EAC) we are using, the spectral clustering based one does it better for almost all `k` values, whereas the hierarchical clustering based approach seems to do a little bit better for lower `k`."
   ]
  },
  {
   "cell_type": "code",
   "execution_count": null,
   "metadata": {
    "papermill": {
     "duration": 0.027588,
     "end_time": "2021-05-09T02:10:59.986838",
     "exception": false,
     "start_time": "2021-05-09T02:10:59.959250",
     "status": "completed"
    },
    "tags": []
   },
   "outputs": [],
   "source": []
  }
 ],
 "metadata": {
  "jupytext": {
   "cell_metadata_filter": "all,-execution,-papermill,-trusted",
   "formats": "ipynb,py//py:percent"
  },
  "kernelspec": {
   "display_name": "Python 3",
   "language": "python",
   "name": "python3"
  },
  "language_info": {
   "codemirror_mode": {
    "name": "ipython",
    "version": 3
   },
   "file_extension": ".py",
   "mimetype": "text/x-python",
   "name": "python",
   "nbconvert_exporter": "python",
   "pygments_lexer": "ipython3",
   "version": "3.8.8"
  },
  "papermill": {
   "default_parameters": {},
   "duration": 10.204817,
   "end_time": "2021-05-09T02:11:00.422661",
   "environment_variables": {},
   "exception": null,
   "input_path": "16_consensus_clustering/030_01-get_best_partitions.ipynb",
   "output_path": "16_consensus_clustering/030_01-get_best_partitions.run.ipynb",
   "parameters": {},
   "start_time": "2021-05-09T02:10:50.217844",
   "version": "2.2.2"
  },
  "toc-autonumbering": true,
  "toc-showcode": false,
  "toc-showmarkdowntxt": false,
  "toc-showtags": false
 },
 "nbformat": 4,
 "nbformat_minor": 4
}
