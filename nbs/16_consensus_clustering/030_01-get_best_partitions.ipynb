{
 "cells": [
  {
   "cell_type": "markdown",
   "metadata": {
    "papermill": {
     "duration": 0.040079,
     "end_time": "2021-03-11T13:54:20.079037",
     "exception": false,
     "start_time": "2021-03-11T13:54:20.038958",
     "status": "completed"
    },
    "tags": []
   },
   "source": [
    "# Description"
   ]
  },
  {
   "cell_type": "markdown",
   "metadata": {
    "papermill": {
     "duration": 0.009832,
     "end_time": "2021-03-11T13:54:20.102785",
     "exception": false,
     "start_time": "2021-03-11T13:54:20.092953",
     "status": "completed"
    },
    "tags": []
   },
   "source": [
    "It analyzes how consensus partitions generated before agree with the ensemble, and selects the best ones for downstream analyses."
   ]
  },
  {
   "cell_type": "markdown",
   "metadata": {
    "papermill": {
     "duration": 0.009488,
     "end_time": "2021-03-11T13:54:20.121561",
     "exception": false,
     "start_time": "2021-03-11T13:54:20.112073",
     "status": "completed"
    },
    "tags": []
   },
   "source": [
    "# Modules loading"
   ]
  },
  {
   "cell_type": "code",
   "execution_count": 1,
   "metadata": {
    "execution": {
     "iopub.execute_input": "2021-03-11T13:54:20.146231Z",
     "iopub.status.busy": "2021-03-11T13:54:20.145863Z",
     "iopub.status.idle": "2021-03-11T13:54:20.153273Z",
     "shell.execute_reply": "2021-03-11T13:54:20.152856Z"
    },
    "papermill": {
     "duration": 0.022362,
     "end_time": "2021-03-11T13:54:20.153363",
     "exception": false,
     "start_time": "2021-03-11T13:54:20.131001",
     "status": "completed"
    },
    "tags": []
   },
   "outputs": [],
   "source": [
    "%load_ext autoreload\n",
    "%autoreload 2"
   ]
  },
  {
   "cell_type": "code",
   "execution_count": 2,
   "metadata": {
    "execution": {
     "iopub.execute_input": "2021-03-11T13:54:20.175729Z",
     "iopub.status.busy": "2021-03-11T13:54:20.175369Z",
     "iopub.status.idle": "2021-03-11T13:54:20.740520Z",
     "shell.execute_reply": "2021-03-11T13:54:20.740887Z"
    },
    "papermill": {
     "duration": 0.577601,
     "end_time": "2021-03-11T13:54:20.741022",
     "exception": false,
     "start_time": "2021-03-11T13:54:20.163421",
     "status": "completed"
    },
    "tags": []
   },
   "outputs": [],
   "source": [
    "from pathlib import Path\n",
    "from IPython.display import display\n",
    "\n",
    "import pandas as pd\n",
    "import matplotlib.pyplot as plt\n",
    "import seaborn as sns\n",
    "\n",
    "import conf"
   ]
  },
  {
   "cell_type": "markdown",
   "metadata": {
    "papermill": {
     "duration": 0.011792,
     "end_time": "2021-03-11T13:54:20.765550",
     "exception": false,
     "start_time": "2021-03-11T13:54:20.753758",
     "status": "completed"
    },
    "tags": []
   },
   "source": [
    "# Load consensus clustering results"
   ]
  },
  {
   "cell_type": "code",
   "execution_count": 3,
   "metadata": {
    "execution": {
     "iopub.execute_input": "2021-03-11T13:54:20.789098Z",
     "iopub.status.busy": "2021-03-11T13:54:20.788683Z",
     "iopub.status.idle": "2021-03-11T13:54:20.800332Z",
     "shell.execute_reply": "2021-03-11T13:54:20.799932Z"
    },
    "papermill": {
     "duration": 0.023963,
     "end_time": "2021-03-11T13:54:20.800420",
     "exception": false,
     "start_time": "2021-03-11T13:54:20.776457",
     "status": "completed"
    },
    "tags": []
   },
   "outputs": [
    {
     "data": {
      "text/plain": [
       "PosixPath('/home/miltondp/projects/labs/greenelab/phenoplier/base/results/clustering/consensus_clustering')"
      ]
     },
     "metadata": {},
     "output_type": "display_data"
    }
   ],
   "source": [
    "CONSENSUS_CLUSTERING_DIR = Path(\n",
    "    conf.RESULTS[\"CLUSTERING_DIR\"], \"consensus_clustering\"\n",
    ").resolve()\n",
    "\n",
    "display(CONSENSUS_CLUSTERING_DIR)"
   ]
  },
  {
   "cell_type": "code",
   "execution_count": 4,
   "metadata": {
    "execution": {
     "iopub.execute_input": "2021-03-11T13:54:20.824195Z",
     "iopub.status.busy": "2021-03-11T13:54:20.823811Z",
     "iopub.status.idle": "2021-03-11T13:54:20.834421Z",
     "shell.execute_reply": "2021-03-11T13:54:20.834707Z"
    },
    "papermill": {
     "duration": 0.023397,
     "end_time": "2021-03-11T13:54:20.834813",
     "exception": false,
     "start_time": "2021-03-11T13:54:20.811416",
     "status": "completed"
    },
    "tags": []
   },
   "outputs": [
    {
     "data": {
      "text/plain": [
       "PosixPath('/home/miltondp/projects/labs/greenelab/phenoplier/base/results/clustering/consensus_clustering/consensus_clustering_runs.pkl')"
      ]
     },
     "metadata": {},
     "output_type": "display_data"
    }
   ],
   "source": [
    "input_file = Path(CONSENSUS_CLUSTERING_DIR, \"consensus_clustering_runs.pkl\").resolve()\n",
    "display(input_file)"
   ]
  },
  {
   "cell_type": "code",
   "execution_count": 5,
   "metadata": {
    "execution": {
     "iopub.execute_input": "2021-03-11T13:54:20.859033Z",
     "iopub.status.busy": "2021-03-11T13:54:20.858655Z",
     "iopub.status.idle": "2021-03-11T13:54:20.874935Z",
     "shell.execute_reply": "2021-03-11T13:54:20.874600Z"
    },
    "papermill": {
     "duration": 0.029238,
     "end_time": "2021-03-11T13:54:20.875028",
     "exception": false,
     "start_time": "2021-03-11T13:54:20.845790",
     "status": "completed"
    },
    "tags": []
   },
   "outputs": [],
   "source": [
    "consensus_clustering_results = pd.read_pickle(input_file)"
   ]
  },
  {
   "cell_type": "code",
   "execution_count": 6,
   "metadata": {
    "execution": {
     "iopub.execute_input": "2021-03-11T13:54:20.899904Z",
     "iopub.status.busy": "2021-03-11T13:54:20.899517Z",
     "iopub.status.idle": "2021-03-11T13:54:20.913333Z",
     "shell.execute_reply": "2021-03-11T13:54:20.912919Z"
    },
    "papermill": {
     "duration": 0.02704,
     "end_time": "2021-03-11T13:54:20.913431",
     "exception": false,
     "start_time": "2021-03-11T13:54:20.886391",
     "status": "completed"
    },
    "tags": []
   },
   "outputs": [
    {
     "data": {
      "text/plain": [
       "(413, 12)"
      ]
     },
     "execution_count": 6,
     "metadata": {},
     "output_type": "execute_result"
    }
   ],
   "source": [
    "consensus_clustering_results.shape"
   ]
  },
  {
   "cell_type": "code",
   "execution_count": 7,
   "metadata": {
    "execution": {
     "iopub.execute_input": "2021-03-11T13:54:20.942658Z",
     "iopub.status.busy": "2021-03-11T13:54:20.942229Z",
     "iopub.status.idle": "2021-03-11T13:54:20.968182Z",
     "shell.execute_reply": "2021-03-11T13:54:20.967748Z"
    },
    "papermill": {
     "duration": 0.041214,
     "end_time": "2021-03-11T13:54:20.968278",
     "exception": false,
     "start_time": "2021-03-11T13:54:20.927064",
     "status": "completed"
    },
    "tags": []
   },
   "outputs": [
    {
     "data": {
      "text/html": [
       "<div>\n",
       "<style scoped>\n",
       "    .dataframe tbody tr th:only-of-type {\n",
       "        vertical-align: middle;\n",
       "    }\n",
       "\n",
       "    .dataframe tbody tr th {\n",
       "        vertical-align: top;\n",
       "    }\n",
       "\n",
       "    .dataframe thead th {\n",
       "        text-align: right;\n",
       "    }\n",
       "</style>\n",
       "<table border=\"1\" class=\"dataframe\">\n",
       "  <thead>\n",
       "    <tr style=\"text-align: right;\">\n",
       "      <th></th>\n",
       "      <th>method</th>\n",
       "      <th>partition</th>\n",
       "      <th>k</th>\n",
       "      <th>ari_mean</th>\n",
       "      <th>ari_median</th>\n",
       "      <th>ari_std</th>\n",
       "      <th>ami_mean</th>\n",
       "      <th>ami_median</th>\n",
       "      <th>ami_std</th>\n",
       "      <th>nmi_mean</th>\n",
       "      <th>nmi_median</th>\n",
       "      <th>nmi_std</th>\n",
       "    </tr>\n",
       "  </thead>\n",
       "  <tbody>\n",
       "    <tr>\n",
       "      <th>0</th>\n",
       "      <td>scc_030</td>\n",
       "      <td>[0, 0, 0, 0, 0, 0, 0, 0, 0, 0, 0, 0, 0, 0, 0, ...</td>\n",
       "      <td>2</td>\n",
       "      <td>0.170172</td>\n",
       "      <td>0.016107</td>\n",
       "      <td>0.280429</td>\n",
       "      <td>0.182083</td>\n",
       "      <td>0.073948</td>\n",
       "      <td>0.241458</td>\n",
       "      <td>0.184787</td>\n",
       "      <td>0.076497</td>\n",
       "      <td>0.240941</td>\n",
       "    </tr>\n",
       "    <tr>\n",
       "      <th>1</th>\n",
       "      <td>scc_030</td>\n",
       "      <td>[0, 0, 0, 0, 0, 0, 0, 0, 0, 0, 0, 0, 0, 0, 0, ...</td>\n",
       "      <td>3</td>\n",
       "      <td>0.170593</td>\n",
       "      <td>0.016107</td>\n",
       "      <td>0.280689</td>\n",
       "      <td>0.198427</td>\n",
       "      <td>0.080792</td>\n",
       "      <td>0.247718</td>\n",
       "      <td>0.202181</td>\n",
       "      <td>0.083653</td>\n",
       "      <td>0.246786</td>\n",
       "    </tr>\n",
       "    <tr>\n",
       "      <th>2</th>\n",
       "      <td>scc_030</td>\n",
       "      <td>[0, 0, 0, 0, 0, 0, 0, 0, 3, 0, 3, 3, 0, 3, 0, ...</td>\n",
       "      <td>4</td>\n",
       "      <td>0.162009</td>\n",
       "      <td>0.086061</td>\n",
       "      <td>0.197582</td>\n",
       "      <td>0.227147</td>\n",
       "      <td>0.204954</td>\n",
       "      <td>0.145220</td>\n",
       "      <td>0.232457</td>\n",
       "      <td>0.211766</td>\n",
       "      <td>0.145033</td>\n",
       "    </tr>\n",
       "    <tr>\n",
       "      <th>3</th>\n",
       "      <td>scc_030</td>\n",
       "      <td>[1, 1, 1, 1, 1, 1, 1, 1, 4, 1, 4, 4, 1, 1, 1, ...</td>\n",
       "      <td>5</td>\n",
       "      <td>0.163732</td>\n",
       "      <td>0.087616</td>\n",
       "      <td>0.198028</td>\n",
       "      <td>0.238870</td>\n",
       "      <td>0.217941</td>\n",
       "      <td>0.145885</td>\n",
       "      <td>0.244974</td>\n",
       "      <td>0.225387</td>\n",
       "      <td>0.145597</td>\n",
       "    </tr>\n",
       "    <tr>\n",
       "      <th>4</th>\n",
       "      <td>scc_030</td>\n",
       "      <td>[0, 0, 0, 0, 0, 0, 0, 0, 5, 0, 5, 5, 0, 5, 0, ...</td>\n",
       "      <td>6</td>\n",
       "      <td>0.164568</td>\n",
       "      <td>0.088147</td>\n",
       "      <td>0.199509</td>\n",
       "      <td>0.250476</td>\n",
       "      <td>0.231739</td>\n",
       "      <td>0.150811</td>\n",
       "      <td>0.257361</td>\n",
       "      <td>0.238495</td>\n",
       "      <td>0.150334</td>\n",
       "    </tr>\n",
       "  </tbody>\n",
       "</table>\n",
       "</div>"
      ],
      "text/plain": [
       "    method                                          partition  k  ari_mean  \\\n",
       "0  scc_030  [0, 0, 0, 0, 0, 0, 0, 0, 0, 0, 0, 0, 0, 0, 0, ...  2  0.170172   \n",
       "1  scc_030  [0, 0, 0, 0, 0, 0, 0, 0, 0, 0, 0, 0, 0, 0, 0, ...  3  0.170593   \n",
       "2  scc_030  [0, 0, 0, 0, 0, 0, 0, 0, 3, 0, 3, 3, 0, 3, 0, ...  4  0.162009   \n",
       "3  scc_030  [1, 1, 1, 1, 1, 1, 1, 1, 4, 1, 4, 4, 1, 1, 1, ...  5  0.163732   \n",
       "4  scc_030  [0, 0, 0, 0, 0, 0, 0, 0, 5, 0, 5, 5, 0, 5, 0, ...  6  0.164568   \n",
       "\n",
       "   ari_median   ari_std  ami_mean  ami_median   ami_std  nmi_mean  nmi_median  \\\n",
       "0    0.016107  0.280429  0.182083    0.073948  0.241458  0.184787    0.076497   \n",
       "1    0.016107  0.280689  0.198427    0.080792  0.247718  0.202181    0.083653   \n",
       "2    0.086061  0.197582  0.227147    0.204954  0.145220  0.232457    0.211766   \n",
       "3    0.087616  0.198028  0.238870    0.217941  0.145885  0.244974    0.225387   \n",
       "4    0.088147  0.199509  0.250476    0.231739  0.150811  0.257361    0.238495   \n",
       "\n",
       "    nmi_std  \n",
       "0  0.240941  \n",
       "1  0.246786  \n",
       "2  0.145033  \n",
       "3  0.145597  \n",
       "4  0.150334  "
      ]
     },
     "execution_count": 7,
     "metadata": {},
     "output_type": "execute_result"
    }
   ],
   "source": [
    "consensus_clustering_results.head()"
   ]
  },
  {
   "cell_type": "markdown",
   "metadata": {
    "papermill": {
     "duration": 0.012876,
     "end_time": "2021-03-11T13:54:20.994330",
     "exception": false,
     "start_time": "2021-03-11T13:54:20.981454",
     "status": "completed"
    },
    "tags": []
   },
   "source": [
    "# Explore best partition per k"
   ]
  },
  {
   "cell_type": "code",
   "execution_count": 8,
   "metadata": {
    "execution": {
     "iopub.execute_input": "2021-03-11T13:54:21.019291Z",
     "iopub.status.busy": "2021-03-11T13:54:21.018931Z",
     "iopub.status.idle": "2021-03-11T13:54:21.070558Z",
     "shell.execute_reply": "2021-03-11T13:54:21.070187Z"
    },
    "papermill": {
     "duration": 0.065269,
     "end_time": "2021-03-11T13:54:21.070642",
     "exception": false,
     "start_time": "2021-03-11T13:54:21.005373",
     "status": "completed"
    },
    "tags": []
   },
   "outputs": [
    {
     "data": {
      "text/html": [
       "<div>\n",
       "<style scoped>\n",
       "    .dataframe tbody tr th:only-of-type {\n",
       "        vertical-align: middle;\n",
       "    }\n",
       "\n",
       "    .dataframe tbody tr th {\n",
       "        vertical-align: top;\n",
       "    }\n",
       "\n",
       "    .dataframe thead th {\n",
       "        text-align: right;\n",
       "    }\n",
       "</style>\n",
       "<table border=\"1\" class=\"dataframe\">\n",
       "  <thead>\n",
       "    <tr style=\"text-align: right;\">\n",
       "      <th></th>\n",
       "      <th></th>\n",
       "      <th>method</th>\n",
       "      <th>k</th>\n",
       "      <th>ari_mean</th>\n",
       "      <th>ari_median</th>\n",
       "    </tr>\n",
       "    <tr>\n",
       "      <th>k</th>\n",
       "      <th></th>\n",
       "      <th></th>\n",
       "      <th></th>\n",
       "      <th></th>\n",
       "      <th></th>\n",
       "    </tr>\n",
       "  </thead>\n",
       "  <tbody>\n",
       "    <tr>\n",
       "      <th>8</th>\n",
       "      <th>183</th>\n",
       "      <td>scc_020</td>\n",
       "      <td>8</td>\n",
       "      <td>0.224684</td>\n",
       "      <td>0.040295</td>\n",
       "    </tr>\n",
       "    <tr>\n",
       "      <th>10</th>\n",
       "      <th>244</th>\n",
       "      <td>scc_025</td>\n",
       "      <td>10</td>\n",
       "      <td>0.224565</td>\n",
       "      <td>0.040271</td>\n",
       "    </tr>\n",
       "    <tr>\n",
       "      <th>7</th>\n",
       "      <th>182</th>\n",
       "      <td>scc_020</td>\n",
       "      <td>7</td>\n",
       "      <td>0.221514</td>\n",
       "      <td>0.038231</td>\n",
       "    </tr>\n",
       "    <tr>\n",
       "      <th>6</th>\n",
       "      <th>181</th>\n",
       "      <td>scc_020</td>\n",
       "      <td>6</td>\n",
       "      <td>0.221500</td>\n",
       "      <td>0.038239</td>\n",
       "    </tr>\n",
       "    <tr>\n",
       "      <th>12</th>\n",
       "      <th>187</th>\n",
       "      <td>scc_020</td>\n",
       "      <td>12</td>\n",
       "      <td>0.220312</td>\n",
       "      <td>0.048236</td>\n",
       "    </tr>\n",
       "    <tr>\n",
       "      <th>11</th>\n",
       "      <th>186</th>\n",
       "      <td>scc_020</td>\n",
       "      <td>11</td>\n",
       "      <td>0.220305</td>\n",
       "      <td>0.048231</td>\n",
       "    </tr>\n",
       "    <tr>\n",
       "      <th>9</th>\n",
       "      <th>184</th>\n",
       "      <td>scc_020</td>\n",
       "      <td>9</td>\n",
       "      <td>0.220035</td>\n",
       "      <td>0.044590</td>\n",
       "    </tr>\n",
       "    <tr>\n",
       "      <th>18</th>\n",
       "      <th>193</th>\n",
       "      <td>scc_020</td>\n",
       "      <td>18</td>\n",
       "      <td>0.216592</td>\n",
       "      <td>0.054577</td>\n",
       "    </tr>\n",
       "    <tr>\n",
       "      <th>17</th>\n",
       "      <th>192</th>\n",
       "      <td>scc_020</td>\n",
       "      <td>17</td>\n",
       "      <td>0.216356</td>\n",
       "      <td>0.055814</td>\n",
       "    </tr>\n",
       "    <tr>\n",
       "      <th>16</th>\n",
       "      <th>191</th>\n",
       "      <td>scc_020</td>\n",
       "      <td>16</td>\n",
       "      <td>0.215959</td>\n",
       "      <td>0.056176</td>\n",
       "    </tr>\n",
       "  </tbody>\n",
       "</table>\n",
       "</div>"
      ],
      "text/plain": [
       "         method   k  ari_mean  ari_median\n",
       "k                                        \n",
       "8  183  scc_020   8  0.224684    0.040295\n",
       "10 244  scc_025  10  0.224565    0.040271\n",
       "7  182  scc_020   7  0.221514    0.038231\n",
       "6  181  scc_020   6  0.221500    0.038239\n",
       "12 187  scc_020  12  0.220312    0.048236\n",
       "11 186  scc_020  11  0.220305    0.048231\n",
       "9  184  scc_020   9  0.220035    0.044590\n",
       "18 193  scc_020  18  0.216592    0.054577\n",
       "17 192  scc_020  17  0.216356    0.055814\n",
       "16 191  scc_020  16  0.215959    0.056176"
      ]
     },
     "metadata": {},
     "output_type": "display_data"
    }
   ],
   "source": [
    "_col0, _col1 = \"ari_mean\", \"ari_median\"\n",
    "\n",
    "_tmp = (\n",
    "    consensus_clustering_results.groupby(\"k\")\n",
    "    .apply(lambda x: x.sort_values(_col0, ascending=False).head(1))\n",
    "    .sort_values(_col0, ascending=False)[[\"method\", \"k\", _col0, _col1]]\n",
    ")\n",
    "display(_tmp.head(10))"
   ]
  },
  {
   "cell_type": "code",
   "execution_count": 9,
   "metadata": {
    "execution": {
     "iopub.execute_input": "2021-03-11T13:54:21.096909Z",
     "iopub.status.busy": "2021-03-11T13:54:21.096509Z",
     "iopub.status.idle": "2021-03-11T13:54:22.892774Z",
     "shell.execute_reply": "2021-03-11T13:54:22.892386Z"
    },
    "papermill": {
     "duration": 1.810759,
     "end_time": "2021-03-11T13:54:22.892858",
     "exception": false,
     "start_time": "2021-03-11T13:54:21.082099",
     "status": "completed"
    },
    "tags": []
   },
   "outputs": [
    {
     "data": {
      "image/png": "[encoded data removed]",
      "text/plain": [
       "<Figure size 864x432 with 1 Axes>"
      ]
     },
     "metadata": {},
     "output_type": "display_data"
    }
   ],
   "source": [
    "with sns.plotting_context(\"talk\", font_scale=0.75), sns.axes_style(\n",
    "    \"whitegrid\", {\"grid.linestyle\": \"--\"}\n",
    "):\n",
    "    fig, ax = plt.subplots(figsize=(12, 6))\n",
    "    ax = sns.pointplot(data=_tmp, x=\"k\", y=_col0, ci=None, label=\"One\")\n",
    "    ax = sns.pointplot(\n",
    "        data=_tmp, x=\"k\", y=_col1, ci=None, color=\"red\", label=\"Two\", ax=ax\n",
    "    )\n",
    "    ax.set_ylabel(\"Agreement with ensemble (AMI)\")\n",
    "    ax.set_xlabel(\"Number of clusters ($k$)\")\n",
    "    ax.set_xticklabels(ax.get_xticklabels(), rotation=45)\n",
    "    plt.legend(labels=[\"Mean\", \"Median\"])\n",
    "    plt.grid(True)\n",
    "    plt.tight_layout()"
   ]
  },
  {
   "cell_type": "markdown",
   "metadata": {
    "papermill": {
     "duration": 0.013354,
     "end_time": "2021-03-11T13:54:22.919432",
     "exception": false,
     "start_time": "2021-03-11T13:54:22.906078",
     "status": "completed"
    },
    "tags": []
   },
   "source": [
    "# Select best partition per k"
   ]
  },
  {
   "cell_type": "code",
   "execution_count": 10,
   "metadata": {
    "execution": {
     "iopub.execute_input": "2021-03-11T13:54:22.950133Z",
     "iopub.status.busy": "2021-03-11T13:54:22.949750Z",
     "iopub.status.idle": "2021-03-11T13:54:22.996355Z",
     "shell.execute_reply": "2021-03-11T13:54:22.995990Z"
    },
    "papermill": {
     "duration": 0.062886,
     "end_time": "2021-03-11T13:54:22.996437",
     "exception": false,
     "start_time": "2021-03-11T13:54:22.933551",
     "status": "completed"
    },
    "tags": []
   },
   "outputs": [],
   "source": [
    "_measure_col = \"ari_mean\"\n",
    "\n",
    "best_parts = (\n",
    "    consensus_clustering_results.groupby(\"k\")\n",
    "    .apply(lambda x: x.sort_values(_measure_col, ascending=False).head(1))\n",
    "    .sort_values(_measure_col, ascending=False)[\n",
    "        [\"method\", \"k\", \"partition\", _measure_col]\n",
    "    ]\n",
    ")"
   ]
  },
  {
   "cell_type": "code",
   "execution_count": 11,
   "metadata": {
    "execution": {
     "iopub.execute_input": "2021-03-11T13:54:23.024954Z",
     "iopub.status.busy": "2021-03-11T13:54:23.024523Z",
     "iopub.status.idle": "2021-03-11T13:54:23.034327Z",
     "shell.execute_reply": "2021-03-11T13:54:23.033950Z"
    },
    "papermill": {
     "duration": 0.02511,
     "end_time": "2021-03-11T13:54:23.034412",
     "exception": false,
     "start_time": "2021-03-11T13:54:23.009302",
     "status": "completed"
    },
    "tags": []
   },
   "outputs": [],
   "source": [
    "best_parts = best_parts.set_index(\"k\")"
   ]
  },
  {
   "cell_type": "code",
   "execution_count": 12,
   "metadata": {
    "execution": {
     "iopub.execute_input": "2021-03-11T13:54:23.063952Z",
     "iopub.status.busy": "2021-03-11T13:54:23.063588Z",
     "iopub.status.idle": "2021-03-11T13:54:23.073543Z",
     "shell.execute_reply": "2021-03-11T13:54:23.073221Z"
    },
    "papermill": {
     "duration": 0.025527,
     "end_time": "2021-03-11T13:54:23.073628",
     "exception": false,
     "start_time": "2021-03-11T13:54:23.048101",
     "status": "completed"
    },
    "tags": []
   },
   "outputs": [
    {
     "data": {
      "text/plain": [
       "(59, 3)"
      ]
     },
     "execution_count": 12,
     "metadata": {},
     "output_type": "execute_result"
    }
   ],
   "source": [
    "best_parts.shape"
   ]
  },
  {
   "cell_type": "code",
   "execution_count": 13,
   "metadata": {
    "execution": {
     "iopub.execute_input": "2021-03-11T13:54:23.103412Z",
     "iopub.status.busy": "2021-03-11T13:54:23.103057Z",
     "iopub.status.idle": "2021-03-11T13:54:23.125375Z",
     "shell.execute_reply": "2021-03-11T13:54:23.125688Z"
    },
    "papermill": {
     "duration": 0.038366,
     "end_time": "2021-03-11T13:54:23.125846",
     "exception": false,
     "start_time": "2021-03-11T13:54:23.087480",
     "status": "completed"
    },
    "tags": []
   },
   "outputs": [
    {
     "data": {
      "text/html": [
       "<div>\n",
       "<style scoped>\n",
       "    .dataframe tbody tr th:only-of-type {\n",
       "        vertical-align: middle;\n",
       "    }\n",
       "\n",
       "    .dataframe tbody tr th {\n",
       "        vertical-align: top;\n",
       "    }\n",
       "\n",
       "    .dataframe thead th {\n",
       "        text-align: right;\n",
       "    }\n",
       "</style>\n",
       "<table border=\"1\" class=\"dataframe\">\n",
       "  <thead>\n",
       "    <tr style=\"text-align: right;\">\n",
       "      <th></th>\n",
       "      <th>method</th>\n",
       "      <th>partition</th>\n",
       "      <th>ari_mean</th>\n",
       "    </tr>\n",
       "    <tr>\n",
       "      <th>k</th>\n",
       "      <th></th>\n",
       "      <th></th>\n",
       "      <th></th>\n",
       "    </tr>\n",
       "  </thead>\n",
       "  <tbody>\n",
       "    <tr>\n",
       "      <th>8</th>\n",
       "      <td>scc_020</td>\n",
       "      <td>[0, 0, 0, 0, 0, 0, 0, 0, 0, 0, 0, 0, 0, 0, 0, ...</td>\n",
       "      <td>0.224684</td>\n",
       "    </tr>\n",
       "    <tr>\n",
       "      <th>10</th>\n",
       "      <td>scc_025</td>\n",
       "      <td>[0, 0, 0, 0, 0, 0, 0, 0, 0, 0, 0, 0, 0, 0, 0, ...</td>\n",
       "      <td>0.224565</td>\n",
       "    </tr>\n",
       "    <tr>\n",
       "      <th>7</th>\n",
       "      <td>scc_020</td>\n",
       "      <td>[0, 0, 0, 0, 0, 0, 0, 0, 0, 0, 0, 0, 0, 0, 0, ...</td>\n",
       "      <td>0.221514</td>\n",
       "    </tr>\n",
       "    <tr>\n",
       "      <th>6</th>\n",
       "      <td>scc_020</td>\n",
       "      <td>[0, 0, 0, 0, 0, 0, 0, 0, 0, 0, 0, 0, 0, 0, 0, ...</td>\n",
       "      <td>0.221500</td>\n",
       "    </tr>\n",
       "    <tr>\n",
       "      <th>12</th>\n",
       "      <td>scc_020</td>\n",
       "      <td>[0, 0, 0, 0, 0, 0, 0, 0, 0, 0, 0, 0, 0, 0, 0, ...</td>\n",
       "      <td>0.220312</td>\n",
       "    </tr>\n",
       "    <tr>\n",
       "      <th>11</th>\n",
       "      <td>scc_020</td>\n",
       "      <td>[0, 0, 0, 0, 0, 0, 0, 0, 0, 0, 0, 0, 0, 0, 0, ...</td>\n",
       "      <td>0.220305</td>\n",
       "    </tr>\n",
       "    <tr>\n",
       "      <th>9</th>\n",
       "      <td>scc_020</td>\n",
       "      <td>[0, 0, 0, 0, 0, 0, 0, 0, 0, 0, 0, 0, 0, 0, 0, ...</td>\n",
       "      <td>0.220035</td>\n",
       "    </tr>\n",
       "    <tr>\n",
       "      <th>18</th>\n",
       "      <td>scc_020</td>\n",
       "      <td>[0, 0, 0, 0, 0, 0, 0, 0, 0, 0, 0, 0, 0, 0, 0, ...</td>\n",
       "      <td>0.216592</td>\n",
       "    </tr>\n",
       "    <tr>\n",
       "      <th>17</th>\n",
       "      <td>scc_020</td>\n",
       "      <td>[1, 1, 1, 1, 1, 1, 1, 1, 1, 1, 1, 1, 1, 1, 1, ...</td>\n",
       "      <td>0.216356</td>\n",
       "    </tr>\n",
       "    <tr>\n",
       "      <th>16</th>\n",
       "      <td>scc_020</td>\n",
       "      <td>[1, 1, 1, 1, 1, 1, 1, 1, 1, 1, 1, 1, 1, 1, 1, ...</td>\n",
       "      <td>0.215959</td>\n",
       "    </tr>\n",
       "  </tbody>\n",
       "</table>\n",
       "</div>"
      ],
      "text/plain": [
       "     method                                          partition  ari_mean\n",
       "k                                                                       \n",
       "8   scc_020  [0, 0, 0, 0, 0, 0, 0, 0, 0, 0, 0, 0, 0, 0, 0, ...  0.224684\n",
       "10  scc_025  [0, 0, 0, 0, 0, 0, 0, 0, 0, 0, 0, 0, 0, 0, 0, ...  0.224565\n",
       "7   scc_020  [0, 0, 0, 0, 0, 0, 0, 0, 0, 0, 0, 0, 0, 0, 0, ...  0.221514\n",
       "6   scc_020  [0, 0, 0, 0, 0, 0, 0, 0, 0, 0, 0, 0, 0, 0, 0, ...  0.221500\n",
       "12  scc_020  [0, 0, 0, 0, 0, 0, 0, 0, 0, 0, 0, 0, 0, 0, 0, ...  0.220312\n",
       "11  scc_020  [0, 0, 0, 0, 0, 0, 0, 0, 0, 0, 0, 0, 0, 0, 0, ...  0.220305\n",
       "9   scc_020  [0, 0, 0, 0, 0, 0, 0, 0, 0, 0, 0, 0, 0, 0, 0, ...  0.220035\n",
       "18  scc_020  [0, 0, 0, 0, 0, 0, 0, 0, 0, 0, 0, 0, 0, 0, 0, ...  0.216592\n",
       "17  scc_020  [1, 1, 1, 1, 1, 1, 1, 1, 1, 1, 1, 1, 1, 1, 1, ...  0.216356\n",
       "16  scc_020  [1, 1, 1, 1, 1, 1, 1, 1, 1, 1, 1, 1, 1, 1, 1, ...  0.215959"
      ]
     },
     "execution_count": 13,
     "metadata": {},
     "output_type": "execute_result"
    }
   ],
   "source": [
    "# show partitions with top ARI\n",
    "best_parts.head(10)"
   ]
  },
  {
   "cell_type": "code",
   "execution_count": 14,
   "metadata": {
    "execution": {
     "iopub.execute_input": "2021-03-11T13:54:23.157123Z",
     "iopub.status.busy": "2021-03-11T13:54:23.156751Z",
     "iopub.status.idle": "2021-03-11T13:54:23.224447Z",
     "shell.execute_reply": "2021-03-11T13:54:23.224075Z"
    },
    "papermill": {
     "duration": 0.083825,
     "end_time": "2021-03-11T13:54:23.224531",
     "exception": false,
     "start_time": "2021-03-11T13:54:23.140706",
     "status": "completed"
    },
    "tags": []
   },
   "outputs": [
    {
     "data": {
      "text/html": [
       "<div>\n",
       "<style scoped>\n",
       "    .dataframe tbody tr th:only-of-type {\n",
       "        vertical-align: middle;\n",
       "    }\n",
       "\n",
       "    .dataframe tbody tr th {\n",
       "        vertical-align: top;\n",
       "    }\n",
       "\n",
       "    .dataframe thead th {\n",
       "        text-align: right;\n",
       "    }\n",
       "</style>\n",
       "<table border=\"1\" class=\"dataframe\">\n",
       "  <thead>\n",
       "    <tr style=\"text-align: right;\">\n",
       "      <th></th>\n",
       "      <th>method</th>\n",
       "      <th>partition</th>\n",
       "      <th>ari_mean</th>\n",
       "    </tr>\n",
       "    <tr>\n",
       "      <th>k</th>\n",
       "      <th></th>\n",
       "      <th></th>\n",
       "      <th></th>\n",
       "    </tr>\n",
       "  </thead>\n",
       "  <tbody>\n",
       "    <tr>\n",
       "      <th>2</th>\n",
       "      <td>scc_030</td>\n",
       "      <td>[0, 0, 0, 0, 0, 0, 0, 0, 0, 0, 0, 0, 0, 0, 0, ...</td>\n",
       "      <td>0.170172</td>\n",
       "    </tr>\n",
       "    <tr>\n",
       "      <th>3</th>\n",
       "      <td>scc_030</td>\n",
       "      <td>[0, 0, 0, 0, 0, 0, 0, 0, 0, 0, 0, 0, 0, 0, 0, ...</td>\n",
       "      <td>0.170593</td>\n",
       "    </tr>\n",
       "    <tr>\n",
       "      <th>4</th>\n",
       "      <td>scc_025</td>\n",
       "      <td>[0, 0, 0, 0, 0, 0, 0, 0, 0, 0, 0, 0, 0, 0, 0, ...</td>\n",
       "      <td>0.190407</td>\n",
       "    </tr>\n",
       "    <tr>\n",
       "      <th>5</th>\n",
       "      <td>scc_020</td>\n",
       "      <td>[0, 0, 0, 0, 0, 0, 0, 0, 0, 0, 0, 0, 0, 0, 0, ...</td>\n",
       "      <td>0.200622</td>\n",
       "    </tr>\n",
       "    <tr>\n",
       "      <th>6</th>\n",
       "      <td>scc_020</td>\n",
       "      <td>[0, 0, 0, 0, 0, 0, 0, 0, 0, 0, 0, 0, 0, 0, 0, ...</td>\n",
       "      <td>0.221500</td>\n",
       "    </tr>\n",
       "    <tr>\n",
       "      <th>7</th>\n",
       "      <td>scc_020</td>\n",
       "      <td>[0, 0, 0, 0, 0, 0, 0, 0, 0, 0, 0, 0, 0, 0, 0, ...</td>\n",
       "      <td>0.221514</td>\n",
       "    </tr>\n",
       "    <tr>\n",
       "      <th>8</th>\n",
       "      <td>scc_020</td>\n",
       "      <td>[0, 0, 0, 0, 0, 0, 0, 0, 0, 0, 0, 0, 0, 0, 0, ...</td>\n",
       "      <td>0.224684</td>\n",
       "    </tr>\n",
       "    <tr>\n",
       "      <th>9</th>\n",
       "      <td>scc_020</td>\n",
       "      <td>[0, 0, 0, 0, 0, 0, 0, 0, 0, 0, 0, 0, 0, 0, 0, ...</td>\n",
       "      <td>0.220035</td>\n",
       "    </tr>\n",
       "    <tr>\n",
       "      <th>10</th>\n",
       "      <td>scc_025</td>\n",
       "      <td>[0, 0, 0, 0, 0, 0, 0, 0, 0, 0, 0, 0, 0, 0, 0, ...</td>\n",
       "      <td>0.224565</td>\n",
       "    </tr>\n",
       "    <tr>\n",
       "      <th>11</th>\n",
       "      <td>scc_020</td>\n",
       "      <td>[0, 0, 0, 0, 0, 0, 0, 0, 0, 0, 0, 0, 0, 0, 0, ...</td>\n",
       "      <td>0.220305</td>\n",
       "    </tr>\n",
       "    <tr>\n",
       "      <th>12</th>\n",
       "      <td>scc_020</td>\n",
       "      <td>[0, 0, 0, 0, 0, 0, 0, 0, 0, 0, 0, 0, 0, 0, 0, ...</td>\n",
       "      <td>0.220312</td>\n",
       "    </tr>\n",
       "    <tr>\n",
       "      <th>13</th>\n",
       "      <td>eac_average_coassoc_matrix</td>\n",
       "      <td>[12, 12, 12, 12, 12, 12, 12, 12, 12, 0, 12, 12...</td>\n",
       "      <td>0.203873</td>\n",
       "    </tr>\n",
       "    <tr>\n",
       "      <th>14</th>\n",
       "      <td>eac_average_coassoc_matrix</td>\n",
       "      <td>[12, 12, 12, 12, 12, 12, 12, 12, 12, 0, 12, 12...</td>\n",
       "      <td>0.199216</td>\n",
       "    </tr>\n",
       "    <tr>\n",
       "      <th>15</th>\n",
       "      <td>eac_single_coassoc_matrix</td>\n",
       "      <td>[0, 0, 0, 0, 0, 0, 0, 0, 0, 0, 0, 0, 0, 0, 0, ...</td>\n",
       "      <td>0.185240</td>\n",
       "    </tr>\n",
       "    <tr>\n",
       "      <th>16</th>\n",
       "      <td>scc_020</td>\n",
       "      <td>[1, 1, 1, 1, 1, 1, 1, 1, 1, 1, 1, 1, 1, 1, 1, ...</td>\n",
       "      <td>0.215959</td>\n",
       "    </tr>\n",
       "    <tr>\n",
       "      <th>17</th>\n",
       "      <td>scc_020</td>\n",
       "      <td>[1, 1, 1, 1, 1, 1, 1, 1, 1, 1, 1, 1, 1, 1, 1, ...</td>\n",
       "      <td>0.216356</td>\n",
       "    </tr>\n",
       "    <tr>\n",
       "      <th>18</th>\n",
       "      <td>scc_020</td>\n",
       "      <td>[0, 0, 0, 0, 0, 0, 0, 0, 0, 0, 0, 0, 0, 0, 0, ...</td>\n",
       "      <td>0.216592</td>\n",
       "    </tr>\n",
       "    <tr>\n",
       "      <th>19</th>\n",
       "      <td>scc_020</td>\n",
       "      <td>[0, 17, 17, 17, 17, 17, 17, 17, 17, 0, 17, 17,...</td>\n",
       "      <td>0.209310</td>\n",
       "    </tr>\n",
       "    <tr>\n",
       "      <th>20</th>\n",
       "      <td>scc_020</td>\n",
       "      <td>[0, 17, 17, 17, 17, 17, 17, 17, 17, 0, 17, 17,...</td>\n",
       "      <td>0.209379</td>\n",
       "    </tr>\n",
       "    <tr>\n",
       "      <th>21</th>\n",
       "      <td>scc_020</td>\n",
       "      <td>[0, 18, 18, 18, 18, 18, 18, 18, 18, 0, 18, 18,...</td>\n",
       "      <td>0.209615</td>\n",
       "    </tr>\n",
       "    <tr>\n",
       "      <th>22</th>\n",
       "      <td>eac_single_coassoc_matrix</td>\n",
       "      <td>[1, 1, 1, 1, 1, 1, 1, 1, 1, 1, 1, 1, 1, 1, 1, ...</td>\n",
       "      <td>0.178527</td>\n",
       "    </tr>\n",
       "    <tr>\n",
       "      <th>23</th>\n",
       "      <td>eac_single_coassoc_matrix</td>\n",
       "      <td>[0, 0, 0, 0, 0, 0, 0, 0, 0, 0, 0, 0, 0, 0, 0, ...</td>\n",
       "      <td>0.178527</td>\n",
       "    </tr>\n",
       "    <tr>\n",
       "      <th>24</th>\n",
       "      <td>eac_single_coassoc_matrix</td>\n",
       "      <td>[0, 0, 0, 0, 0, 0, 0, 0, 0, 0, 0, 0, 0, 0, 0, ...</td>\n",
       "      <td>0.177011</td>\n",
       "    </tr>\n",
       "    <tr>\n",
       "      <th>25</th>\n",
       "      <td>eac_single_coassoc_matrix</td>\n",
       "      <td>[0, 0, 0, 0, 0, 0, 0, 0, 0, 0, 0, 0, 0, 0, 0, ...</td>\n",
       "      <td>0.178411</td>\n",
       "    </tr>\n",
       "    <tr>\n",
       "      <th>26</th>\n",
       "      <td>eac_single_coassoc_matrix</td>\n",
       "      <td>[0, 0, 0, 0, 0, 0, 0, 0, 0, 0, 0, 0, 0, 0, 0, ...</td>\n",
       "      <td>0.177574</td>\n",
       "    </tr>\n",
       "    <tr>\n",
       "      <th>27</th>\n",
       "      <td>eac_single_coassoc_matrix</td>\n",
       "      <td>[0, 0, 0, 0, 0, 0, 0, 0, 0, 0, 0, 0, 0, 0, 0, ...</td>\n",
       "      <td>0.179894</td>\n",
       "    </tr>\n",
       "    <tr>\n",
       "      <th>28</th>\n",
       "      <td>eac_single_coassoc_matrix</td>\n",
       "      <td>[2, 2, 2, 2, 2, 2, 2, 2, 2, 2, 2, 2, 2, 2, 2, ...</td>\n",
       "      <td>0.179651</td>\n",
       "    </tr>\n",
       "    <tr>\n",
       "      <th>29</th>\n",
       "      <td>eac_single_coassoc_matrix</td>\n",
       "      <td>[0, 0, 0, 0, 0, 0, 0, 0, 0, 0, 0, 0, 0, 0, 0, ...</td>\n",
       "      <td>0.179650</td>\n",
       "    </tr>\n",
       "    <tr>\n",
       "      <th>30</th>\n",
       "      <td>eac_single_coassoc_matrix</td>\n",
       "      <td>[2, 2, 2, 2, 2, 2, 2, 2, 2, 2, 2, 2, 2, 2, 2, ...</td>\n",
       "      <td>0.177213</td>\n",
       "    </tr>\n",
       "    <tr>\n",
       "      <th>31</th>\n",
       "      <td>eac_single_coassoc_matrix</td>\n",
       "      <td>[0, 0, 0, 0, 0, 0, 0, 0, 0, 0, 0, 0, 0, 0, 0, ...</td>\n",
       "      <td>0.177212</td>\n",
       "    </tr>\n",
       "    <tr>\n",
       "      <th>32</th>\n",
       "      <td>eac_single_coassoc_matrix</td>\n",
       "      <td>[2, 2, 2, 2, 2, 2, 2, 2, 2, 2, 2, 2, 2, 2, 2, ...</td>\n",
       "      <td>0.175988</td>\n",
       "    </tr>\n",
       "    <tr>\n",
       "      <th>33</th>\n",
       "      <td>eac_single_coassoc_matrix</td>\n",
       "      <td>[0, 0, 0, 0, 0, 0, 0, 0, 0, 0, 0, 0, 0, 0, 0, ...</td>\n",
       "      <td>0.175987</td>\n",
       "    </tr>\n",
       "    <tr>\n",
       "      <th>34</th>\n",
       "      <td>eac_single_coassoc_matrix</td>\n",
       "      <td>[0, 0, 0, 0, 0, 0, 0, 0, 0, 0, 0, 0, 0, 0, 0, ...</td>\n",
       "      <td>0.173831</td>\n",
       "    </tr>\n",
       "    <tr>\n",
       "      <th>35</th>\n",
       "      <td>eac_single_coassoc_matrix</td>\n",
       "      <td>[0, 0, 0, 0, 0, 0, 0, 0, 0, 0, 0, 0, 0, 0, 0, ...</td>\n",
       "      <td>0.171814</td>\n",
       "    </tr>\n",
       "    <tr>\n",
       "      <th>36</th>\n",
       "      <td>eac_single_coassoc_matrix</td>\n",
       "      <td>[0, 0, 0, 0, 0, 0, 0, 0, 0, 0, 0, 0, 0, 0, 0, ...</td>\n",
       "      <td>0.171537</td>\n",
       "    </tr>\n",
       "    <tr>\n",
       "      <th>37</th>\n",
       "      <td>eac_single_coassoc_matrix</td>\n",
       "      <td>[0, 0, 0, 0, 0, 0, 0, 0, 0, 0, 0, 0, 0, 0, 0, ...</td>\n",
       "      <td>0.170704</td>\n",
       "    </tr>\n",
       "    <tr>\n",
       "      <th>38</th>\n",
       "      <td>eac_single_coassoc_matrix</td>\n",
       "      <td>[2, 2, 2, 2, 2, 2, 2, 2, 2, 2, 2, 2, 2, 2, 2, ...</td>\n",
       "      <td>0.169357</td>\n",
       "    </tr>\n",
       "    <tr>\n",
       "      <th>39</th>\n",
       "      <td>eac_single_coassoc_matrix</td>\n",
       "      <td>[0, 0, 0, 0, 0, 0, 0, 0, 0, 0, 0, 0, 0, 0, 0, ...</td>\n",
       "      <td>0.169355</td>\n",
       "    </tr>\n",
       "    <tr>\n",
       "      <th>40</th>\n",
       "      <td>eac_single_coassoc_matrix</td>\n",
       "      <td>[0, 0, 0, 0, 0, 0, 0, 0, 0, 0, 0, 0, 0, 0, 0, ...</td>\n",
       "      <td>0.167646</td>\n",
       "    </tr>\n",
       "    <tr>\n",
       "      <th>41</th>\n",
       "      <td>eac_single_coassoc_matrix</td>\n",
       "      <td>[0, 0, 0, 0, 0, 0, 0, 0, 0, 0, 0, 0, 0, 0, 0, ...</td>\n",
       "      <td>0.167139</td>\n",
       "    </tr>\n",
       "    <tr>\n",
       "      <th>42</th>\n",
       "      <td>eac_single_coassoc_matrix</td>\n",
       "      <td>[0, 0, 0, 0, 0, 0, 0, 0, 0, 0, 0, 0, 0, 0, 0, ...</td>\n",
       "      <td>0.164896</td>\n",
       "    </tr>\n",
       "    <tr>\n",
       "      <th>43</th>\n",
       "      <td>eac_single_coassoc_matrix</td>\n",
       "      <td>[0, 0, 0, 0, 0, 0, 0, 0, 0, 0, 0, 0, 0, 0, 0, ...</td>\n",
       "      <td>0.163575</td>\n",
       "    </tr>\n",
       "    <tr>\n",
       "      <th>44</th>\n",
       "      <td>eac_single_coassoc_matrix</td>\n",
       "      <td>[2, 2, 2, 2, 2, 2, 2, 2, 2, 2, 2, 2, 2, 2, 2, ...</td>\n",
       "      <td>0.163194</td>\n",
       "    </tr>\n",
       "    <tr>\n",
       "      <th>45</th>\n",
       "      <td>eac_single_coassoc_matrix</td>\n",
       "      <td>[0, 0, 0, 0, 0, 0, 0, 0, 0, 0, 0, 0, 0, 0, 0, ...</td>\n",
       "      <td>0.163188</td>\n",
       "    </tr>\n",
       "    <tr>\n",
       "      <th>46</th>\n",
       "      <td>eac_single_coassoc_matrix</td>\n",
       "      <td>[0, 0, 0, 0, 0, 0, 0, 0, 0, 0, 0, 0, 0, 0, 0, ...</td>\n",
       "      <td>0.163260</td>\n",
       "    </tr>\n",
       "    <tr>\n",
       "      <th>47</th>\n",
       "      <td>eac_single_coassoc_matrix</td>\n",
       "      <td>[0, 0, 0, 0, 0, 0, 0, 0, 0, 0, 0, 0, 0, 0, 0, ...</td>\n",
       "      <td>0.163297</td>\n",
       "    </tr>\n",
       "    <tr>\n",
       "      <th>48</th>\n",
       "      <td>eac_single_coassoc_matrix</td>\n",
       "      <td>[0, 0, 0, 0, 0, 0, 0, 0, 0, 0, 0, 0, 0, 0, 0, ...</td>\n",
       "      <td>0.163156</td>\n",
       "    </tr>\n",
       "    <tr>\n",
       "      <th>49</th>\n",
       "      <td>eac_single_coassoc_matrix</td>\n",
       "      <td>[0, 0, 0, 0, 0, 0, 0, 0, 0, 0, 0, 0, 0, 0, 0, ...</td>\n",
       "      <td>0.161977</td>\n",
       "    </tr>\n",
       "    <tr>\n",
       "      <th>50</th>\n",
       "      <td>eac_single_coassoc_matrix</td>\n",
       "      <td>[0, 0, 0, 0, 0, 0, 0, 0, 0, 0, 0, 0, 0, 0, 0, ...</td>\n",
       "      <td>0.172906</td>\n",
       "    </tr>\n",
       "    <tr>\n",
       "      <th>51</th>\n",
       "      <td>eac_single_coassoc_matrix</td>\n",
       "      <td>[0, 0, 0, 0, 0, 0, 0, 0, 0, 0, 0, 0, 0, 0, 0, ...</td>\n",
       "      <td>0.172702</td>\n",
       "    </tr>\n",
       "    <tr>\n",
       "      <th>52</th>\n",
       "      <td>eac_single_coassoc_matrix</td>\n",
       "      <td>[0, 0, 0, 0, 0, 0, 0, 0, 0, 0, 0, 0, 0, 0, 0, ...</td>\n",
       "      <td>0.172561</td>\n",
       "    </tr>\n",
       "    <tr>\n",
       "      <th>53</th>\n",
       "      <td>eac_single_coassoc_matrix</td>\n",
       "      <td>[0, 0, 0, 0, 0, 0, 0, 0, 0, 0, 0, 0, 0, 0, 0, ...</td>\n",
       "      <td>0.171255</td>\n",
       "    </tr>\n",
       "    <tr>\n",
       "      <th>54</th>\n",
       "      <td>eac_single_coassoc_matrix</td>\n",
       "      <td>[0, 0, 0, 0, 0, 0, 0, 0, 0, 0, 0, 0, 0, 0, 0, ...</td>\n",
       "      <td>0.170903</td>\n",
       "    </tr>\n",
       "    <tr>\n",
       "      <th>55</th>\n",
       "      <td>eac_single_coassoc_matrix</td>\n",
       "      <td>[0, 0, 0, 0, 0, 0, 0, 0, 0, 0, 0, 0, 0, 0, 0, ...</td>\n",
       "      <td>0.170141</td>\n",
       "    </tr>\n",
       "    <tr>\n",
       "      <th>56</th>\n",
       "      <td>eac_single_coassoc_matrix</td>\n",
       "      <td>[0, 0, 0, 0, 0, 0, 0, 0, 0, 0, 0, 0, 0, 0, 0, ...</td>\n",
       "      <td>0.170083</td>\n",
       "    </tr>\n",
       "    <tr>\n",
       "      <th>57</th>\n",
       "      <td>eac_single_coassoc_matrix</td>\n",
       "      <td>[0, 0, 0, 0, 0, 0, 0, 0, 0, 0, 0, 0, 0, 0, 0, ...</td>\n",
       "      <td>0.169776</td>\n",
       "    </tr>\n",
       "    <tr>\n",
       "      <th>58</th>\n",
       "      <td>eac_single_coassoc_matrix</td>\n",
       "      <td>[0, 0, 0, 0, 0, 0, 0, 0, 0, 0, 0, 0, 0, 0, 0, ...</td>\n",
       "      <td>0.169965</td>\n",
       "    </tr>\n",
       "    <tr>\n",
       "      <th>59</th>\n",
       "      <td>eac_single_coassoc_matrix</td>\n",
       "      <td>[0, 0, 0, 0, 0, 0, 0, 0, 0, 0, 0, 0, 0, 0, 0, ...</td>\n",
       "      <td>0.168691</td>\n",
       "    </tr>\n",
       "    <tr>\n",
       "      <th>60</th>\n",
       "      <td>eac_single_coassoc_matrix</td>\n",
       "      <td>[0, 0, 0, 0, 0, 0, 0, 0, 0, 0, 0, 0, 0, 0, 0, ...</td>\n",
       "      <td>0.167861</td>\n",
       "    </tr>\n",
       "  </tbody>\n",
       "</table>\n",
       "</div>"
      ],
      "text/plain": [
       "                        method  \\\n",
       "k                                \n",
       "2                      scc_030   \n",
       "3                      scc_030   \n",
       "4                      scc_025   \n",
       "5                      scc_020   \n",
       "6                      scc_020   \n",
       "7                      scc_020   \n",
       "8                      scc_020   \n",
       "9                      scc_020   \n",
       "10                     scc_025   \n",
       "11                     scc_020   \n",
       "12                     scc_020   \n",
       "13  eac_average_coassoc_matrix   \n",
       "14  eac_average_coassoc_matrix   \n",
       "15   eac_single_coassoc_matrix   \n",
       "16                     scc_020   \n",
       "17                     scc_020   \n",
       "18                     scc_020   \n",
       "19                     scc_020   \n",
       "20                     scc_020   \n",
       "21                     scc_020   \n",
       "22   eac_single_coassoc_matrix   \n",
       "23   eac_single_coassoc_matrix   \n",
       "24   eac_single_coassoc_matrix   \n",
       "25   eac_single_coassoc_matrix   \n",
       "26   eac_single_coassoc_matrix   \n",
       "27   eac_single_coassoc_matrix   \n",
       "28   eac_single_coassoc_matrix   \n",
       "29   eac_single_coassoc_matrix   \n",
       "30   eac_single_coassoc_matrix   \n",
       "31   eac_single_coassoc_matrix   \n",
       "32   eac_single_coassoc_matrix   \n",
       "33   eac_single_coassoc_matrix   \n",
       "34   eac_single_coassoc_matrix   \n",
       "35   eac_single_coassoc_matrix   \n",
       "36   eac_single_coassoc_matrix   \n",
       "37   eac_single_coassoc_matrix   \n",
       "38   eac_single_coassoc_matrix   \n",
       "39   eac_single_coassoc_matrix   \n",
       "40   eac_single_coassoc_matrix   \n",
       "41   eac_single_coassoc_matrix   \n",
       "42   eac_single_coassoc_matrix   \n",
       "43   eac_single_coassoc_matrix   \n",
       "44   eac_single_coassoc_matrix   \n",
       "45   eac_single_coassoc_matrix   \n",
       "46   eac_single_coassoc_matrix   \n",
       "47   eac_single_coassoc_matrix   \n",
       "48   eac_single_coassoc_matrix   \n",
       "49   eac_single_coassoc_matrix   \n",
       "50   eac_single_coassoc_matrix   \n",
       "51   eac_single_coassoc_matrix   \n",
       "52   eac_single_coassoc_matrix   \n",
       "53   eac_single_coassoc_matrix   \n",
       "54   eac_single_coassoc_matrix   \n",
       "55   eac_single_coassoc_matrix   \n",
       "56   eac_single_coassoc_matrix   \n",
       "57   eac_single_coassoc_matrix   \n",
       "58   eac_single_coassoc_matrix   \n",
       "59   eac_single_coassoc_matrix   \n",
       "60   eac_single_coassoc_matrix   \n",
       "\n",
       "                                            partition  ari_mean  \n",
       "k                                                                \n",
       "2   [0, 0, 0, 0, 0, 0, 0, 0, 0, 0, 0, 0, 0, 0, 0, ...  0.170172  \n",
       "3   [0, 0, 0, 0, 0, 0, 0, 0, 0, 0, 0, 0, 0, 0, 0, ...  0.170593  \n",
       "4   [0, 0, 0, 0, 0, 0, 0, 0, 0, 0, 0, 0, 0, 0, 0, ...  0.190407  \n",
       "5   [0, 0, 0, 0, 0, 0, 0, 0, 0, 0, 0, 0, 0, 0, 0, ...  0.200622  \n",
       "6   [0, 0, 0, 0, 0, 0, 0, 0, 0, 0, 0, 0, 0, 0, 0, ...  0.221500  \n",
       "7   [0, 0, 0, 0, 0, 0, 0, 0, 0, 0, 0, 0, 0, 0, 0, ...  0.221514  \n",
       "8   [0, 0, 0, 0, 0, 0, 0, 0, 0, 0, 0, 0, 0, 0, 0, ...  0.224684  \n",
       "9   [0, 0, 0, 0, 0, 0, 0, 0, 0, 0, 0, 0, 0, 0, 0, ...  0.220035  \n",
       "10  [0, 0, 0, 0, 0, 0, 0, 0, 0, 0, 0, 0, 0, 0, 0, ...  0.224565  \n",
       "11  [0, 0, 0, 0, 0, 0, 0, 0, 0, 0, 0, 0, 0, 0, 0, ...  0.220305  \n",
       "12  [0, 0, 0, 0, 0, 0, 0, 0, 0, 0, 0, 0, 0, 0, 0, ...  0.220312  \n",
       "13  [12, 12, 12, 12, 12, 12, 12, 12, 12, 0, 12, 12...  0.203873  \n",
       "14  [12, 12, 12, 12, 12, 12, 12, 12, 12, 0, 12, 12...  0.199216  \n",
       "15  [0, 0, 0, 0, 0, 0, 0, 0, 0, 0, 0, 0, 0, 0, 0, ...  0.185240  \n",
       "16  [1, 1, 1, 1, 1, 1, 1, 1, 1, 1, 1, 1, 1, 1, 1, ...  0.215959  \n",
       "17  [1, 1, 1, 1, 1, 1, 1, 1, 1, 1, 1, 1, 1, 1, 1, ...  0.216356  \n",
       "18  [0, 0, 0, 0, 0, 0, 0, 0, 0, 0, 0, 0, 0, 0, 0, ...  0.216592  \n",
       "19  [0, 17, 17, 17, 17, 17, 17, 17, 17, 0, 17, 17,...  0.209310  \n",
       "20  [0, 17, 17, 17, 17, 17, 17, 17, 17, 0, 17, 17,...  0.209379  \n",
       "21  [0, 18, 18, 18, 18, 18, 18, 18, 18, 0, 18, 18,...  0.209615  \n",
       "22  [1, 1, 1, 1, 1, 1, 1, 1, 1, 1, 1, 1, 1, 1, 1, ...  0.178527  \n",
       "23  [0, 0, 0, 0, 0, 0, 0, 0, 0, 0, 0, 0, 0, 0, 0, ...  0.178527  \n",
       "24  [0, 0, 0, 0, 0, 0, 0, 0, 0, 0, 0, 0, 0, 0, 0, ...  0.177011  \n",
       "25  [0, 0, 0, 0, 0, 0, 0, 0, 0, 0, 0, 0, 0, 0, 0, ...  0.178411  \n",
       "26  [0, 0, 0, 0, 0, 0, 0, 0, 0, 0, 0, 0, 0, 0, 0, ...  0.177574  \n",
       "27  [0, 0, 0, 0, 0, 0, 0, 0, 0, 0, 0, 0, 0, 0, 0, ...  0.179894  \n",
       "28  [2, 2, 2, 2, 2, 2, 2, 2, 2, 2, 2, 2, 2, 2, 2, ...  0.179651  \n",
       "29  [0, 0, 0, 0, 0, 0, 0, 0, 0, 0, 0, 0, 0, 0, 0, ...  0.179650  \n",
       "30  [2, 2, 2, 2, 2, 2, 2, 2, 2, 2, 2, 2, 2, 2, 2, ...  0.177213  \n",
       "31  [0, 0, 0, 0, 0, 0, 0, 0, 0, 0, 0, 0, 0, 0, 0, ...  0.177212  \n",
       "32  [2, 2, 2, 2, 2, 2, 2, 2, 2, 2, 2, 2, 2, 2, 2, ...  0.175988  \n",
       "33  [0, 0, 0, 0, 0, 0, 0, 0, 0, 0, 0, 0, 0, 0, 0, ...  0.175987  \n",
       "34  [0, 0, 0, 0, 0, 0, 0, 0, 0, 0, 0, 0, 0, 0, 0, ...  0.173831  \n",
       "35  [0, 0, 0, 0, 0, 0, 0, 0, 0, 0, 0, 0, 0, 0, 0, ...  0.171814  \n",
       "36  [0, 0, 0, 0, 0, 0, 0, 0, 0, 0, 0, 0, 0, 0, 0, ...  0.171537  \n",
       "37  [0, 0, 0, 0, 0, 0, 0, 0, 0, 0, 0, 0, 0, 0, 0, ...  0.170704  \n",
       "38  [2, 2, 2, 2, 2, 2, 2, 2, 2, 2, 2, 2, 2, 2, 2, ...  0.169357  \n",
       "39  [0, 0, 0, 0, 0, 0, 0, 0, 0, 0, 0, 0, 0, 0, 0, ...  0.169355  \n",
       "40  [0, 0, 0, 0, 0, 0, 0, 0, 0, 0, 0, 0, 0, 0, 0, ...  0.167646  \n",
       "41  [0, 0, 0, 0, 0, 0, 0, 0, 0, 0, 0, 0, 0, 0, 0, ...  0.167139  \n",
       "42  [0, 0, 0, 0, 0, 0, 0, 0, 0, 0, 0, 0, 0, 0, 0, ...  0.164896  \n",
       "43  [0, 0, 0, 0, 0, 0, 0, 0, 0, 0, 0, 0, 0, 0, 0, ...  0.163575  \n",
       "44  [2, 2, 2, 2, 2, 2, 2, 2, 2, 2, 2, 2, 2, 2, 2, ...  0.163194  \n",
       "45  [0, 0, 0, 0, 0, 0, 0, 0, 0, 0, 0, 0, 0, 0, 0, ...  0.163188  \n",
       "46  [0, 0, 0, 0, 0, 0, 0, 0, 0, 0, 0, 0, 0, 0, 0, ...  0.163260  \n",
       "47  [0, 0, 0, 0, 0, 0, 0, 0, 0, 0, 0, 0, 0, 0, 0, ...  0.163297  \n",
       "48  [0, 0, 0, 0, 0, 0, 0, 0, 0, 0, 0, 0, 0, 0, 0, ...  0.163156  \n",
       "49  [0, 0, 0, 0, 0, 0, 0, 0, 0, 0, 0, 0, 0, 0, 0, ...  0.161977  \n",
       "50  [0, 0, 0, 0, 0, 0, 0, 0, 0, 0, 0, 0, 0, 0, 0, ...  0.172906  \n",
       "51  [0, 0, 0, 0, 0, 0, 0, 0, 0, 0, 0, 0, 0, 0, 0, ...  0.172702  \n",
       "52  [0, 0, 0, 0, 0, 0, 0, 0, 0, 0, 0, 0, 0, 0, 0, ...  0.172561  \n",
       "53  [0, 0, 0, 0, 0, 0, 0, 0, 0, 0, 0, 0, 0, 0, 0, ...  0.171255  \n",
       "54  [0, 0, 0, 0, 0, 0, 0, 0, 0, 0, 0, 0, 0, 0, 0, ...  0.170903  \n",
       "55  [0, 0, 0, 0, 0, 0, 0, 0, 0, 0, 0, 0, 0, 0, 0, ...  0.170141  \n",
       "56  [0, 0, 0, 0, 0, 0, 0, 0, 0, 0, 0, 0, 0, 0, 0, ...  0.170083  \n",
       "57  [0, 0, 0, 0, 0, 0, 0, 0, 0, 0, 0, 0, 0, 0, 0, ...  0.169776  \n",
       "58  [0, 0, 0, 0, 0, 0, 0, 0, 0, 0, 0, 0, 0, 0, 0, ...  0.169965  \n",
       "59  [0, 0, 0, 0, 0, 0, 0, 0, 0, 0, 0, 0, 0, 0, 0, ...  0.168691  \n",
       "60  [0, 0, 0, 0, 0, 0, 0, 0, 0, 0, 0, 0, 0, 0, 0, ...  0.167861  "
      ]
     },
     "execution_count": 14,
     "metadata": {},
     "output_type": "execute_result"
    }
   ],
   "source": [
    "best_parts.sort_values(\"k\")"
   ]
  },
  {
   "cell_type": "markdown",
   "metadata": {
    "papermill": {
     "duration": 0.014299,
     "end_time": "2021-03-11T13:54:23.253364",
     "exception": false,
     "start_time": "2021-03-11T13:54:23.239065",
     "status": "completed"
    },
    "tags": []
   },
   "source": [
    "## Select partitions with highest agreement"
   ]
  },
  {
   "cell_type": "markdown",
   "metadata": {
    "papermill": {
     "duration": 0.014276,
     "end_time": "2021-03-11T13:54:23.282392",
     "exception": false,
     "start_time": "2021-03-11T13:54:23.268116",
     "status": "completed"
    },
    "tags": []
   },
   "source": [
    "We do not expect all partitions with different `k` to be good ones. Thus, here I select the partitions with an ensemble agreement that pass a relative high threshold (75th percentile)."
   ]
  },
  {
   "cell_type": "code",
   "execution_count": 15,
   "metadata": {
    "execution": {
     "iopub.execute_input": "2021-03-11T13:54:23.313469Z",
     "iopub.status.busy": "2021-03-11T13:54:23.313084Z",
     "iopub.status.idle": "2021-03-11T13:54:23.326361Z",
     "shell.execute_reply": "2021-03-11T13:54:23.326000Z"
    },
    "papermill": {
     "duration": 0.029802,
     "end_time": "2021-03-11T13:54:23.326445",
     "exception": false,
     "start_time": "2021-03-11T13:54:23.296643",
     "status": "completed"
    },
    "tags": []
   },
   "outputs": [
    {
     "data": {
      "text/plain": [
       "count    59.000000\n",
       "mean      0.183571\n",
       "std       0.020286\n",
       "min       0.161977\n",
       "25%       0.169871\n",
       "50%       0.175987\n",
       "75%       0.199919\n",
       "max       0.224684\n",
       "Name: ari_mean, dtype: float64"
      ]
     },
     "metadata": {},
     "output_type": "display_data"
    }
   ],
   "source": [
    "best_parts_stats = best_parts[_measure_col].describe()\n",
    "display(best_parts_stats)"
   ]
  },
  {
   "cell_type": "code",
   "execution_count": 16,
   "metadata": {
    "execution": {
     "iopub.execute_input": "2021-03-11T13:54:23.358808Z",
     "iopub.status.busy": "2021-03-11T13:54:23.358437Z",
     "iopub.status.idle": "2021-03-11T13:54:23.369854Z",
     "shell.execute_reply": "2021-03-11T13:54:23.370139Z"
    },
    "papermill": {
     "duration": 0.028908,
     "end_time": "2021-03-11T13:54:23.370239",
     "exception": false,
     "start_time": "2021-03-11T13:54:23.341331",
     "status": "completed"
    },
    "tags": []
   },
   "outputs": [
    {
     "data": {
      "text/plain": [
       "0.19991904751605166"
      ]
     },
     "metadata": {},
     "output_type": "display_data"
    }
   ],
   "source": [
    "best_threshold = best_parts_stats[\"75%\"]\n",
    "best_threshold_description = \"75th percentile\"\n",
    "display(best_threshold)\n",
    "\n",
    "best_parts = best_parts.assign(\n",
    "    selected=best_parts[_measure_col].apply(lambda x: x > best_threshold)\n",
    ")"
   ]
  },
  {
   "cell_type": "code",
   "execution_count": 17,
   "metadata": {
    "execution": {
     "iopub.execute_input": "2021-03-11T13:54:23.402412Z",
     "iopub.status.busy": "2021-03-11T13:54:23.402053Z",
     "iopub.status.idle": "2021-03-11T13:54:23.412059Z",
     "shell.execute_reply": "2021-03-11T13:54:23.411693Z"
    },
    "papermill": {
     "duration": 0.026881,
     "end_time": "2021-03-11T13:54:23.412142",
     "exception": false,
     "start_time": "2021-03-11T13:54:23.385261",
     "status": "completed"
    },
    "tags": []
   },
   "outputs": [
    {
     "data": {
      "text/plain": [
       "(59, 4)"
      ]
     },
     "execution_count": 17,
     "metadata": {},
     "output_type": "execute_result"
    }
   ],
   "source": [
    "best_parts.shape"
   ]
  },
  {
   "cell_type": "code",
   "execution_count": 18,
   "metadata": {
    "execution": {
     "iopub.execute_input": "2021-03-11T13:54:23.445480Z",
     "iopub.status.busy": "2021-03-11T13:54:23.445094Z",
     "iopub.status.idle": "2021-03-11T13:54:23.462899Z",
     "shell.execute_reply": "2021-03-11T13:54:23.462527Z"
    },
    "papermill": {
     "duration": 0.035286,
     "end_time": "2021-03-11T13:54:23.462983",
     "exception": false,
     "start_time": "2021-03-11T13:54:23.427697",
     "status": "completed"
    },
    "tags": []
   },
   "outputs": [
    {
     "data": {
      "text/html": [
       "<div>\n",
       "<style scoped>\n",
       "    .dataframe tbody tr th:only-of-type {\n",
       "        vertical-align: middle;\n",
       "    }\n",
       "\n",
       "    .dataframe tbody tr th {\n",
       "        vertical-align: top;\n",
       "    }\n",
       "\n",
       "    .dataframe thead th {\n",
       "        text-align: right;\n",
       "    }\n",
       "</style>\n",
       "<table border=\"1\" class=\"dataframe\">\n",
       "  <thead>\n",
       "    <tr style=\"text-align: right;\">\n",
       "      <th></th>\n",
       "      <th>method</th>\n",
       "      <th>partition</th>\n",
       "      <th>ari_mean</th>\n",
       "      <th>selected</th>\n",
       "    </tr>\n",
       "    <tr>\n",
       "      <th>k</th>\n",
       "      <th></th>\n",
       "      <th></th>\n",
       "      <th></th>\n",
       "      <th></th>\n",
       "    </tr>\n",
       "  </thead>\n",
       "  <tbody>\n",
       "    <tr>\n",
       "      <th>8</th>\n",
       "      <td>scc_020</td>\n",
       "      <td>[0, 0, 0, 0, 0, 0, 0, 0, 0, 0, 0, 0, 0, 0, 0, ...</td>\n",
       "      <td>0.224684</td>\n",
       "      <td>True</td>\n",
       "    </tr>\n",
       "    <tr>\n",
       "      <th>10</th>\n",
       "      <td>scc_025</td>\n",
       "      <td>[0, 0, 0, 0, 0, 0, 0, 0, 0, 0, 0, 0, 0, 0, 0, ...</td>\n",
       "      <td>0.224565</td>\n",
       "      <td>True</td>\n",
       "    </tr>\n",
       "    <tr>\n",
       "      <th>7</th>\n",
       "      <td>scc_020</td>\n",
       "      <td>[0, 0, 0, 0, 0, 0, 0, 0, 0, 0, 0, 0, 0, 0, 0, ...</td>\n",
       "      <td>0.221514</td>\n",
       "      <td>True</td>\n",
       "    </tr>\n",
       "    <tr>\n",
       "      <th>6</th>\n",
       "      <td>scc_020</td>\n",
       "      <td>[0, 0, 0, 0, 0, 0, 0, 0, 0, 0, 0, 0, 0, 0, 0, ...</td>\n",
       "      <td>0.221500</td>\n",
       "      <td>True</td>\n",
       "    </tr>\n",
       "    <tr>\n",
       "      <th>12</th>\n",
       "      <td>scc_020</td>\n",
       "      <td>[0, 0, 0, 0, 0, 0, 0, 0, 0, 0, 0, 0, 0, 0, 0, ...</td>\n",
       "      <td>0.220312</td>\n",
       "      <td>True</td>\n",
       "    </tr>\n",
       "  </tbody>\n",
       "</table>\n",
       "</div>"
      ],
      "text/plain": [
       "     method                                          partition  ari_mean  \\\n",
       "k                                                                          \n",
       "8   scc_020  [0, 0, 0, 0, 0, 0, 0, 0, 0, 0, 0, 0, 0, 0, 0, ...  0.224684   \n",
       "10  scc_025  [0, 0, 0, 0, 0, 0, 0, 0, 0, 0, 0, 0, 0, 0, 0, ...  0.224565   \n",
       "7   scc_020  [0, 0, 0, 0, 0, 0, 0, 0, 0, 0, 0, 0, 0, 0, 0, ...  0.221514   \n",
       "6   scc_020  [0, 0, 0, 0, 0, 0, 0, 0, 0, 0, 0, 0, 0, 0, 0, ...  0.221500   \n",
       "12  scc_020  [0, 0, 0, 0, 0, 0, 0, 0, 0, 0, 0, 0, 0, 0, 0, ...  0.220312   \n",
       "\n",
       "    selected  \n",
       "k             \n",
       "8       True  \n",
       "10      True  \n",
       "7       True  \n",
       "6       True  \n",
       "12      True  "
      ]
     },
     "execution_count": 18,
     "metadata": {},
     "output_type": "execute_result"
    }
   ],
   "source": [
    "best_parts.head()"
   ]
  },
  {
   "cell_type": "markdown",
   "metadata": {
    "papermill": {
     "duration": 0.015212,
     "end_time": "2021-03-11T13:54:23.494416",
     "exception": false,
     "start_time": "2021-03-11T13:54:23.479204",
     "status": "completed"
    },
    "tags": []
   },
   "source": [
    "## Save best partitions per k"
   ]
  },
  {
   "cell_type": "code",
   "execution_count": 19,
   "metadata": {
    "execution": {
     "iopub.execute_input": "2021-03-11T13:54:23.527824Z",
     "iopub.status.busy": "2021-03-11T13:54:23.527468Z",
     "iopub.status.idle": "2021-03-11T13:54:23.537786Z",
     "shell.execute_reply": "2021-03-11T13:54:23.537416Z"
    },
    "papermill": {
     "duration": 0.028276,
     "end_time": "2021-03-11T13:54:23.537870",
     "exception": false,
     "start_time": "2021-03-11T13:54:23.509594",
     "status": "completed"
    },
    "tags": []
   },
   "outputs": [
    {
     "data": {
      "text/plain": [
       "PosixPath('/home/miltondp/projects/labs/greenelab/phenoplier/base/results/clustering/consensus_clustering/best_partitions_by_k.pkl')"
      ]
     },
     "metadata": {},
     "output_type": "display_data"
    }
   ],
   "source": [
    "output_file = Path(CONSENSUS_CLUSTERING_DIR, \"best_partitions_by_k.pkl\").resolve()\n",
    "display(output_file)"
   ]
  },
  {
   "cell_type": "code",
   "execution_count": 20,
   "metadata": {
    "execution": {
     "iopub.execute_input": "2021-03-11T13:54:23.572119Z",
     "iopub.status.busy": "2021-03-11T13:54:23.571763Z",
     "iopub.status.idle": "2021-03-11T13:54:23.583859Z",
     "shell.execute_reply": "2021-03-11T13:54:23.583474Z"
    },
    "papermill": {
     "duration": 0.029975,
     "end_time": "2021-03-11T13:54:23.583944",
     "exception": false,
     "start_time": "2021-03-11T13:54:23.553969",
     "status": "completed"
    },
    "tags": []
   },
   "outputs": [],
   "source": [
    "best_parts.to_pickle(output_file)"
   ]
  },
  {
   "cell_type": "markdown",
   "metadata": {
    "papermill": {
     "duration": 0.015758,
     "end_time": "2021-03-11T13:54:23.616093",
     "exception": false,
     "start_time": "2021-03-11T13:54:23.600335",
     "status": "completed"
    },
    "tags": []
   },
   "source": [
    "# Plot of selected best partitions"
   ]
  },
  {
   "cell_type": "code",
   "execution_count": 21,
   "metadata": {
    "execution": {
     "iopub.execute_input": "2021-03-11T13:54:23.650244Z",
     "iopub.status.busy": "2021-03-11T13:54:23.649874Z",
     "iopub.status.idle": "2021-03-11T13:54:23.668494Z",
     "shell.execute_reply": "2021-03-11T13:54:23.668145Z"
    },
    "papermill": {
     "duration": 0.036562,
     "end_time": "2021-03-11T13:54:23.668581",
     "exception": false,
     "start_time": "2021-03-11T13:54:23.632019",
     "status": "completed"
    },
    "tags": []
   },
   "outputs": [
    {
     "data": {
      "text/html": [
       "<div>\n",
       "<style scoped>\n",
       "    .dataframe tbody tr th:only-of-type {\n",
       "        vertical-align: middle;\n",
       "    }\n",
       "\n",
       "    .dataframe tbody tr th {\n",
       "        vertical-align: top;\n",
       "    }\n",
       "\n",
       "    .dataframe thead th {\n",
       "        text-align: right;\n",
       "    }\n",
       "</style>\n",
       "<table border=\"1\" class=\"dataframe\">\n",
       "  <thead>\n",
       "    <tr style=\"text-align: right;\">\n",
       "      <th></th>\n",
       "      <th>k</th>\n",
       "      <th>method</th>\n",
       "      <th>partition</th>\n",
       "      <th>ari_mean</th>\n",
       "      <th>selected</th>\n",
       "    </tr>\n",
       "  </thead>\n",
       "  <tbody>\n",
       "    <tr>\n",
       "      <th>0</th>\n",
       "      <td>8</td>\n",
       "      <td>scc_020</td>\n",
       "      <td>[0, 0, 0, 0, 0, 0, 0, 0, 0, 0, 0, 0, 0, 0, 0, ...</td>\n",
       "      <td>0.224684</td>\n",
       "      <td>True</td>\n",
       "    </tr>\n",
       "    <tr>\n",
       "      <th>1</th>\n",
       "      <td>10</td>\n",
       "      <td>scc_025</td>\n",
       "      <td>[0, 0, 0, 0, 0, 0, 0, 0, 0, 0, 0, 0, 0, 0, 0, ...</td>\n",
       "      <td>0.224565</td>\n",
       "      <td>True</td>\n",
       "    </tr>\n",
       "    <tr>\n",
       "      <th>2</th>\n",
       "      <td>7</td>\n",
       "      <td>scc_020</td>\n",
       "      <td>[0, 0, 0, 0, 0, 0, 0, 0, 0, 0, 0, 0, 0, 0, 0, ...</td>\n",
       "      <td>0.221514</td>\n",
       "      <td>True</td>\n",
       "    </tr>\n",
       "    <tr>\n",
       "      <th>3</th>\n",
       "      <td>6</td>\n",
       "      <td>scc_020</td>\n",
       "      <td>[0, 0, 0, 0, 0, 0, 0, 0, 0, 0, 0, 0, 0, 0, 0, ...</td>\n",
       "      <td>0.221500</td>\n",
       "      <td>True</td>\n",
       "    </tr>\n",
       "    <tr>\n",
       "      <th>4</th>\n",
       "      <td>12</td>\n",
       "      <td>scc_020</td>\n",
       "      <td>[0, 0, 0, 0, 0, 0, 0, 0, 0, 0, 0, 0, 0, 0, 0, ...</td>\n",
       "      <td>0.220312</td>\n",
       "      <td>True</td>\n",
       "    </tr>\n",
       "  </tbody>\n",
       "</table>\n",
       "</div>"
      ],
      "text/plain": [
       "    k   method                                          partition  ari_mean  \\\n",
       "0   8  scc_020  [0, 0, 0, 0, 0, 0, 0, 0, 0, 0, 0, 0, 0, 0, 0, ...  0.224684   \n",
       "1  10  scc_025  [0, 0, 0, 0, 0, 0, 0, 0, 0, 0, 0, 0, 0, 0, 0, ...  0.224565   \n",
       "2   7  scc_020  [0, 0, 0, 0, 0, 0, 0, 0, 0, 0, 0, 0, 0, 0, 0, ...  0.221514   \n",
       "3   6  scc_020  [0, 0, 0, 0, 0, 0, 0, 0, 0, 0, 0, 0, 0, 0, 0, ...  0.221500   \n",
       "4  12  scc_020  [0, 0, 0, 0, 0, 0, 0, 0, 0, 0, 0, 0, 0, 0, 0, ...  0.220312   \n",
       "\n",
       "   selected  \n",
       "0      True  \n",
       "1      True  \n",
       "2      True  \n",
       "3      True  \n",
       "4      True  "
      ]
     },
     "metadata": {},
     "output_type": "display_data"
    }
   ],
   "source": [
    "plot_data = best_parts.reset_index()\n",
    "display(plot_data.head(5))"
   ]
  },
  {
   "cell_type": "code",
   "execution_count": 22,
   "metadata": {
    "execution": {
     "iopub.execute_input": "2021-03-11T13:54:23.705211Z",
     "iopub.status.busy": "2021-03-11T13:54:23.704847Z",
     "iopub.status.idle": "2021-03-11T13:54:25.282205Z",
     "shell.execute_reply": "2021-03-11T13:54:25.281907Z"
    },
    "papermill": {
     "duration": 1.597157,
     "end_time": "2021-03-11T13:54:25.282291",
     "exception": false,
     "start_time": "2021-03-11T13:54:23.685134",
     "status": "completed"
    },
    "tags": []
   },
   "outputs": [
    {
     "data": {
      "image/png": "[encoded data removed]",
      "text/plain": [
       "<Figure size 864x432 with 1 Axes>"
      ]
     },
     "metadata": {},
     "output_type": "display_data"
    }
   ],
   "source": [
    "with sns.plotting_context(\"talk\", font_scale=0.75), sns.axes_style(\n",
    "    \"whitegrid\", {\"grid.linestyle\": \"--\"}\n",
    "), sns.color_palette(\"muted\"):\n",
    "    current_palette = iter(sns.color_palette())\n",
    "\n",
    "    fig, ax = plt.subplots(figsize=(12, 6))\n",
    "    ax = sns.pointplot(\n",
    "        data=plot_data, x=\"k\", y=_measure_col, color=next(current_palette)\n",
    "    )\n",
    "    ax.axhline(\n",
    "        best_threshold,\n",
    "        ls=\"--\",\n",
    "        color=next(current_palette),\n",
    "        label=best_threshold_description,\n",
    "    )\n",
    "    ax.set_ylabel(\"Agreement with ensemble\\n(Average AMI)\")\n",
    "    ax.set_xlabel(\"Number of clusters ($k$)\")\n",
    "    ax.set_xticklabels(ax.get_xticklabels(), rotation=45)\n",
    "    plt.legend()\n",
    "    plt.grid(True)\n",
    "    plt.tight_layout()"
   ]
  },
  {
   "cell_type": "markdown",
   "metadata": {
    "papermill": {
     "duration": 0.017829,
     "end_time": "2021-03-11T13:54:25.318554",
     "exception": false,
     "start_time": "2021-03-11T13:54:25.300725",
     "status": "completed"
    },
    "tags": []
   },
   "source": [
    "The horizontal line in the plot is the median of the average AMI; partitions above that line are marked as selected for downstream analysis"
   ]
  },
  {
   "cell_type": "code",
   "execution_count": 23,
   "metadata": {
    "execution": {
     "iopub.execute_input": "2021-03-11T13:54:25.356561Z",
     "iopub.status.busy": "2021-03-11T13:54:25.356189Z",
     "iopub.status.idle": "2021-03-11T13:54:25.384919Z",
     "shell.execute_reply": "2021-03-11T13:54:25.384504Z"
    },
    "papermill": {
     "duration": 0.04875,
     "end_time": "2021-03-11T13:54:25.385002",
     "exception": false,
     "start_time": "2021-03-11T13:54:25.336252",
     "status": "completed"
    },
    "tags": []
   },
   "outputs": [
    {
     "data": {
      "text/html": [
       "<div>\n",
       "<style scoped>\n",
       "    .dataframe tbody tr th:only-of-type {\n",
       "        vertical-align: middle;\n",
       "    }\n",
       "\n",
       "    .dataframe tbody tr th {\n",
       "        vertical-align: top;\n",
       "    }\n",
       "\n",
       "    .dataframe thead th {\n",
       "        text-align: right;\n",
       "    }\n",
       "</style>\n",
       "<table border=\"1\" class=\"dataframe\">\n",
       "  <thead>\n",
       "    <tr style=\"text-align: right;\">\n",
       "      <th></th>\n",
       "      <th>k</th>\n",
       "      <th>method</th>\n",
       "      <th>partition</th>\n",
       "      <th>ari_mean</th>\n",
       "      <th>selected</th>\n",
       "    </tr>\n",
       "  </thead>\n",
       "  <tbody>\n",
       "    <tr>\n",
       "      <th>14</th>\n",
       "      <td>5</td>\n",
       "      <td>scc_020</td>\n",
       "      <td>[0, 0, 0, 0, 0, 0, 0, 0, 0, 0, 0, 0, 0, 0, 0, ...</td>\n",
       "      <td>0.200622</td>\n",
       "      <td>True</td>\n",
       "    </tr>\n",
       "    <tr>\n",
       "      <th>3</th>\n",
       "      <td>6</td>\n",
       "      <td>scc_020</td>\n",
       "      <td>[0, 0, 0, 0, 0, 0, 0, 0, 0, 0, 0, 0, 0, 0, 0, ...</td>\n",
       "      <td>0.221500</td>\n",
       "      <td>True</td>\n",
       "    </tr>\n",
       "    <tr>\n",
       "      <th>2</th>\n",
       "      <td>7</td>\n",
       "      <td>scc_020</td>\n",
       "      <td>[0, 0, 0, 0, 0, 0, 0, 0, 0, 0, 0, 0, 0, 0, 0, ...</td>\n",
       "      <td>0.221514</td>\n",
       "      <td>True</td>\n",
       "    </tr>\n",
       "    <tr>\n",
       "      <th>0</th>\n",
       "      <td>8</td>\n",
       "      <td>scc_020</td>\n",
       "      <td>[0, 0, 0, 0, 0, 0, 0, 0, 0, 0, 0, 0, 0, 0, 0, ...</td>\n",
       "      <td>0.224684</td>\n",
       "      <td>True</td>\n",
       "    </tr>\n",
       "    <tr>\n",
       "      <th>6</th>\n",
       "      <td>9</td>\n",
       "      <td>scc_020</td>\n",
       "      <td>[0, 0, 0, 0, 0, 0, 0, 0, 0, 0, 0, 0, 0, 0, 0, ...</td>\n",
       "      <td>0.220035</td>\n",
       "      <td>True</td>\n",
       "    </tr>\n",
       "    <tr>\n",
       "      <th>1</th>\n",
       "      <td>10</td>\n",
       "      <td>scc_025</td>\n",
       "      <td>[0, 0, 0, 0, 0, 0, 0, 0, 0, 0, 0, 0, 0, 0, 0, ...</td>\n",
       "      <td>0.224565</td>\n",
       "      <td>True</td>\n",
       "    </tr>\n",
       "    <tr>\n",
       "      <th>5</th>\n",
       "      <td>11</td>\n",
       "      <td>scc_020</td>\n",
       "      <td>[0, 0, 0, 0, 0, 0, 0, 0, 0, 0, 0, 0, 0, 0, 0, ...</td>\n",
       "      <td>0.220305</td>\n",
       "      <td>True</td>\n",
       "    </tr>\n",
       "    <tr>\n",
       "      <th>4</th>\n",
       "      <td>12</td>\n",
       "      <td>scc_020</td>\n",
       "      <td>[0, 0, 0, 0, 0, 0, 0, 0, 0, 0, 0, 0, 0, 0, 0, ...</td>\n",
       "      <td>0.220312</td>\n",
       "      <td>True</td>\n",
       "    </tr>\n",
       "    <tr>\n",
       "      <th>13</th>\n",
       "      <td>13</td>\n",
       "      <td>eac_average_coassoc_matrix</td>\n",
       "      <td>[12, 12, 12, 12, 12, 12, 12, 12, 12, 0, 12, 12...</td>\n",
       "      <td>0.203873</td>\n",
       "      <td>True</td>\n",
       "    </tr>\n",
       "    <tr>\n",
       "      <th>9</th>\n",
       "      <td>16</td>\n",
       "      <td>scc_020</td>\n",
       "      <td>[1, 1, 1, 1, 1, 1, 1, 1, 1, 1, 1, 1, 1, 1, 1, ...</td>\n",
       "      <td>0.215959</td>\n",
       "      <td>True</td>\n",
       "    </tr>\n",
       "    <tr>\n",
       "      <th>8</th>\n",
       "      <td>17</td>\n",
       "      <td>scc_020</td>\n",
       "      <td>[1, 1, 1, 1, 1, 1, 1, 1, 1, 1, 1, 1, 1, 1, 1, ...</td>\n",
       "      <td>0.216356</td>\n",
       "      <td>True</td>\n",
       "    </tr>\n",
       "    <tr>\n",
       "      <th>7</th>\n",
       "      <td>18</td>\n",
       "      <td>scc_020</td>\n",
       "      <td>[0, 0, 0, 0, 0, 0, 0, 0, 0, 0, 0, 0, 0, 0, 0, ...</td>\n",
       "      <td>0.216592</td>\n",
       "      <td>True</td>\n",
       "    </tr>\n",
       "    <tr>\n",
       "      <th>12</th>\n",
       "      <td>19</td>\n",
       "      <td>scc_020</td>\n",
       "      <td>[0, 17, 17, 17, 17, 17, 17, 17, 17, 0, 17, 17,...</td>\n",
       "      <td>0.209310</td>\n",
       "      <td>True</td>\n",
       "    </tr>\n",
       "    <tr>\n",
       "      <th>11</th>\n",
       "      <td>20</td>\n",
       "      <td>scc_020</td>\n",
       "      <td>[0, 17, 17, 17, 17, 17, 17, 17, 17, 0, 17, 17,...</td>\n",
       "      <td>0.209379</td>\n",
       "      <td>True</td>\n",
       "    </tr>\n",
       "    <tr>\n",
       "      <th>10</th>\n",
       "      <td>21</td>\n",
       "      <td>scc_020</td>\n",
       "      <td>[0, 18, 18, 18, 18, 18, 18, 18, 18, 0, 18, 18,...</td>\n",
       "      <td>0.209615</td>\n",
       "      <td>True</td>\n",
       "    </tr>\n",
       "  </tbody>\n",
       "</table>\n",
       "</div>"
      ],
      "text/plain": [
       "     k                      method  \\\n",
       "14   5                     scc_020   \n",
       "3    6                     scc_020   \n",
       "2    7                     scc_020   \n",
       "0    8                     scc_020   \n",
       "6    9                     scc_020   \n",
       "1   10                     scc_025   \n",
       "5   11                     scc_020   \n",
       "4   12                     scc_020   \n",
       "13  13  eac_average_coassoc_matrix   \n",
       "9   16                     scc_020   \n",
       "8   17                     scc_020   \n",
       "7   18                     scc_020   \n",
       "12  19                     scc_020   \n",
       "11  20                     scc_020   \n",
       "10  21                     scc_020   \n",
       "\n",
       "                                            partition  ari_mean  selected  \n",
       "14  [0, 0, 0, 0, 0, 0, 0, 0, 0, 0, 0, 0, 0, 0, 0, ...  0.200622      True  \n",
       "3   [0, 0, 0, 0, 0, 0, 0, 0, 0, 0, 0, 0, 0, 0, 0, ...  0.221500      True  \n",
       "2   [0, 0, 0, 0, 0, 0, 0, 0, 0, 0, 0, 0, 0, 0, 0, ...  0.221514      True  \n",
       "0   [0, 0, 0, 0, 0, 0, 0, 0, 0, 0, 0, 0, 0, 0, 0, ...  0.224684      True  \n",
       "6   [0, 0, 0, 0, 0, 0, 0, 0, 0, 0, 0, 0, 0, 0, 0, ...  0.220035      True  \n",
       "1   [0, 0, 0, 0, 0, 0, 0, 0, 0, 0, 0, 0, 0, 0, 0, ...  0.224565      True  \n",
       "5   [0, 0, 0, 0, 0, 0, 0, 0, 0, 0, 0, 0, 0, 0, 0, ...  0.220305      True  \n",
       "4   [0, 0, 0, 0, 0, 0, 0, 0, 0, 0, 0, 0, 0, 0, 0, ...  0.220312      True  \n",
       "13  [12, 12, 12, 12, 12, 12, 12, 12, 12, 0, 12, 12...  0.203873      True  \n",
       "9   [1, 1, 1, 1, 1, 1, 1, 1, 1, 1, 1, 1, 1, 1, 1, ...  0.215959      True  \n",
       "8   [1, 1, 1, 1, 1, 1, 1, 1, 1, 1, 1, 1, 1, 1, 1, ...  0.216356      True  \n",
       "7   [0, 0, 0, 0, 0, 0, 0, 0, 0, 0, 0, 0, 0, 0, 0, ...  0.216592      True  \n",
       "12  [0, 17, 17, 17, 17, 17, 17, 17, 17, 0, 17, 17,...  0.209310      True  \n",
       "11  [0, 17, 17, 17, 17, 17, 17, 17, 17, 0, 17, 17,...  0.209379      True  \n",
       "10  [0, 18, 18, 18, 18, 18, 18, 18, 18, 0, 18, 18,...  0.209615      True  "
      ]
     },
     "execution_count": 23,
     "metadata": {},
     "output_type": "execute_result"
    }
   ],
   "source": [
    "# this list shows the selected final partitions, and which methods achieved the highest agreement\n",
    "plot_data[plot_data[\"selected\"]].sort_values(\"k\")"
   ]
  },
  {
   "cell_type": "markdown",
   "metadata": {
    "papermill": {
     "duration": 0.018024,
     "end_time": "2021-03-11T13:54:25.421387",
     "exception": false,
     "start_time": "2021-03-11T13:54:25.403363",
     "status": "completed"
    },
    "tags": []
   },
   "source": [
    "Evidence accumulation approaches (EAC) based on hierarchical clustering (such as `eac_average_coassoc_matrix` and `eac_single_coassoc_matrix`) pick the best partitions for lower `k` values, whereas spectral clustering does it better for all the rest."
   ]
  },
  {
   "cell_type": "code",
   "execution_count": null,
   "metadata": {
    "papermill": {
     "duration": 0.017793,
     "end_time": "2021-03-11T13:54:25.457226",
     "exception": false,
     "start_time": "2021-03-11T13:54:25.439433",
     "status": "completed"
    },
    "tags": []
   },
   "outputs": [],
   "source": []
  }
 ],
 "metadata": {
  "jupytext": {
   "cell_metadata_filter": "all,-execution,-papermill,-trusted",
   "formats": "ipynb,py//py:percent"
  },
  "kernelspec": {
   "display_name": "Python 3",
   "language": "python",
   "name": "python3"
  },
  "language_info": {
   "codemirror_mode": {
    "name": "ipython",
    "version": 3
   },
   "file_extension": ".py",
   "mimetype": "text/x-python",
   "name": "python",
   "nbconvert_exporter": "python",
   "pygments_lexer": "ipython3",
   "version": "3.8.8"
  },
  "papermill": {
   "default_parameters": {},
   "duration": 6.817324,
   "end_time": "2021-03-11T13:54:25.882466",
   "environment_variables": {},
   "exception": null,
   "input_path": "16_consensus_clustering/030_01-get_best_partitions.ipynb",
   "output_path": "16_consensus_clustering/030_01-get_best_partitions.run.ipynb",
   "parameters": {},
   "start_time": "2021-03-11T13:54:19.065142",
   "version": "2.2.2"
  },
  "toc-autonumbering": true,
  "toc-showcode": false,
  "toc-showmarkdowntxt": false,
  "toc-showtags": false
 },
 "nbformat": 4,
 "nbformat_minor": 4
}
