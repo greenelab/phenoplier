{
 "cells": [
  {
   "cell_type": "markdown",
   "metadata": {
    "papermill": {
     "duration": 0.015716,
     "end_time": "2021-05-08T22:58:33.533909",
     "exception": false,
     "start_time": "2021-05-08T22:58:33.518193",
     "status": "completed"
    },
    "tags": []
   },
   "source": [
    "# Description"
   ]
  },
  {
   "cell_type": "markdown",
   "metadata": {
    "papermill": {
     "duration": 0.011101,
     "end_time": "2021-05-08T22:58:33.556355",
     "exception": false,
     "start_time": "2021-05-08T22:58:33.545254",
     "status": "completed"
    },
    "tags": []
   },
   "source": [
    "It analyzes how consensus partitions generated before agree with the ensemble, and selects the best ones for downstream analyses."
   ]
  },
  {
   "cell_type": "markdown",
   "metadata": {
    "papermill": {
     "duration": 0.01137,
     "end_time": "2021-05-08T22:58:33.578966",
     "exception": false,
     "start_time": "2021-05-08T22:58:33.567596",
     "status": "completed"
    },
    "tags": []
   },
   "source": [
    "# Modules loading"
   ]
  },
  {
   "cell_type": "code",
   "execution_count": 1,
   "metadata": {
    "execution": {
     "iopub.execute_input": "2021-05-08T22:58:33.607427Z",
     "iopub.status.busy": "2021-05-08T22:58:33.607036Z",
     "iopub.status.idle": "2021-05-08T22:58:33.614545Z",
     "shell.execute_reply": "2021-05-08T22:58:33.614111Z"
    },
    "papermill": {
     "duration": 0.024337,
     "end_time": "2021-05-08T22:58:33.614638",
     "exception": false,
     "start_time": "2021-05-08T22:58:33.590301",
     "status": "completed"
    },
    "tags": []
   },
   "outputs": [],
   "source": [
    "%load_ext autoreload\n",
    "%autoreload 2"
   ]
  },
  {
   "cell_type": "code",
   "execution_count": 2,
   "metadata": {
    "execution": {
     "iopub.execute_input": "2021-05-08T22:58:33.640216Z",
     "iopub.status.busy": "2021-05-08T22:58:33.639854Z",
     "iopub.status.idle": "2021-05-08T22:58:34.216259Z",
     "shell.execute_reply": "2021-05-08T22:58:34.215868Z"
    },
    "papermill": {
     "duration": 0.589951,
     "end_time": "2021-05-08T22:58:34.216369",
     "exception": false,
     "start_time": "2021-05-08T22:58:33.626418",
     "status": "completed"
    },
    "tags": []
   },
   "outputs": [],
   "source": [
    "from pathlib import Path\n",
    "from IPython.display import display\n",
    "\n",
    "import pandas as pd\n",
    "import matplotlib.pyplot as plt\n",
    "import seaborn as sns\n",
    "\n",
    "import conf"
   ]
  },
  {
   "cell_type": "markdown",
   "metadata": {
    "papermill": {
     "duration": 0.014535,
     "end_time": "2021-05-08T22:58:34.245838",
     "exception": false,
     "start_time": "2021-05-08T22:58:34.231303",
     "status": "completed"
    },
    "tags": []
   },
   "source": [
    "# Load consensus clustering results"
   ]
  },
  {
   "cell_type": "code",
   "execution_count": 3,
   "metadata": {
    "execution": {
     "iopub.execute_input": "2021-05-08T22:58:34.272894Z",
     "iopub.status.busy": "2021-05-08T22:58:34.272443Z",
     "iopub.status.idle": "2021-05-08T22:58:34.283480Z",
     "shell.execute_reply": "2021-05-08T22:58:34.283146Z"
    },
    "papermill": {
     "duration": 0.024754,
     "end_time": "2021-05-08T22:58:34.283568",
     "exception": false,
     "start_time": "2021-05-08T22:58:34.258814",
     "status": "completed"
    },
    "tags": []
   },
   "outputs": [
    {
     "data": {
      "text/plain": [
       "PosixPath('/home/miltondp/projects/labs/greenelab/phenoplier/base/results/clustering/consensus_clustering')"
      ]
     },
     "metadata": {},
     "output_type": "display_data"
    }
   ],
   "source": [
    "CONSENSUS_CLUSTERING_DIR = Path(\n",
    "    conf.RESULTS[\"CLUSTERING_DIR\"], \"consensus_clustering\"\n",
    ").resolve()\n",
    "\n",
    "display(CONSENSUS_CLUSTERING_DIR)"
   ]
  },
  {
   "cell_type": "code",
   "execution_count": 4,
   "metadata": {
    "execution": {
     "iopub.execute_input": "2021-05-08T22:58:34.310156Z",
     "iopub.status.busy": "2021-05-08T22:58:34.309784Z",
     "iopub.status.idle": "2021-05-08T22:58:34.319701Z",
     "shell.execute_reply": "2021-05-08T22:58:34.319999Z"
    },
    "papermill": {
     "duration": 0.024251,
     "end_time": "2021-05-08T22:58:34.320102",
     "exception": false,
     "start_time": "2021-05-08T22:58:34.295851",
     "status": "completed"
    },
    "tags": []
   },
   "outputs": [
    {
     "data": {
      "text/plain": [
       "PosixPath('/home/miltondp/projects/labs/greenelab/phenoplier/base/results/clustering/consensus_clustering/consensus_clustering_runs.pkl')"
      ]
     },
     "metadata": {},
     "output_type": "display_data"
    }
   ],
   "source": [
    "input_file = Path(CONSENSUS_CLUSTERING_DIR, \"consensus_clustering_runs.pkl\").resolve()\n",
    "display(input_file)"
   ]
  },
  {
   "cell_type": "code",
   "execution_count": 5,
   "metadata": {
    "execution": {
     "iopub.execute_input": "2021-05-08T22:58:34.346982Z",
     "iopub.status.busy": "2021-05-08T22:58:34.346615Z",
     "iopub.status.idle": "2021-05-08T22:58:34.362539Z",
     "shell.execute_reply": "2021-05-08T22:58:34.362839Z"
    },
    "papermill": {
     "duration": 0.030428,
     "end_time": "2021-05-08T22:58:34.362950",
     "exception": false,
     "start_time": "2021-05-08T22:58:34.332522",
     "status": "completed"
    },
    "tags": []
   },
   "outputs": [],
   "source": [
    "consensus_clustering_results = pd.read_pickle(input_file)"
   ]
  },
  {
   "cell_type": "code",
   "execution_count": 6,
   "metadata": {
    "execution": {
     "iopub.execute_input": "2021-05-08T22:58:34.389470Z",
     "iopub.status.busy": "2021-05-08T22:58:34.389103Z",
     "iopub.status.idle": "2021-05-08T22:58:34.398990Z",
     "shell.execute_reply": "2021-05-08T22:58:34.398639Z"
    },
    "papermill": {
     "duration": 0.023718,
     "end_time": "2021-05-08T22:58:34.399078",
     "exception": false,
     "start_time": "2021-05-08T22:58:34.375360",
     "status": "completed"
    },
    "tags": []
   },
   "outputs": [
    {
     "data": {
      "text/plain": [
       "(413, 12)"
      ]
     },
     "execution_count": 6,
     "metadata": {},
     "output_type": "execute_result"
    }
   ],
   "source": [
    "consensus_clustering_results.shape"
   ]
  },
  {
   "cell_type": "code",
   "execution_count": 7,
   "metadata": {
    "execution": {
     "iopub.execute_input": "2021-05-08T22:58:34.426914Z",
     "iopub.status.busy": "2021-05-08T22:58:34.426539Z",
     "iopub.status.idle": "2021-05-08T22:58:34.449450Z",
     "shell.execute_reply": "2021-05-08T22:58:34.449119Z"
    },
    "papermill": {
     "duration": 0.037525,
     "end_time": "2021-05-08T22:58:34.449538",
     "exception": false,
     "start_time": "2021-05-08T22:58:34.412013",
     "status": "completed"
    },
    "tags": []
   },
   "outputs": [
    {
     "data": {
      "text/html": [
       "<div>\n",
       "<style scoped>\n",
       "    .dataframe tbody tr th:only-of-type {\n",
       "        vertical-align: middle;\n",
       "    }\n",
       "\n",
       "    .dataframe tbody tr th {\n",
       "        vertical-align: top;\n",
       "    }\n",
       "\n",
       "    .dataframe thead th {\n",
       "        text-align: right;\n",
       "    }\n",
       "</style>\n",
       "<table border=\"1\" class=\"dataframe\">\n",
       "  <thead>\n",
       "    <tr style=\"text-align: right;\">\n",
       "      <th></th>\n",
       "      <th>method</th>\n",
       "      <th>partition</th>\n",
       "      <th>k</th>\n",
       "      <th>ari_mean</th>\n",
       "      <th>ari_median</th>\n",
       "      <th>ari_std</th>\n",
       "      <th>ami_mean</th>\n",
       "      <th>ami_median</th>\n",
       "      <th>ami_std</th>\n",
       "      <th>nmi_mean</th>\n",
       "      <th>nmi_median</th>\n",
       "      <th>nmi_std</th>\n",
       "    </tr>\n",
       "  </thead>\n",
       "  <tbody>\n",
       "    <tr>\n",
       "      <th>0</th>\n",
       "      <td>eac_single_coassoc_matrix</td>\n",
       "      <td>[0, 0, 0, 0, 0, 0, 0, 0, 0, 0, 0, 0, 0, 0, 0, ...</td>\n",
       "      <td>2</td>\n",
       "      <td>0.078126</td>\n",
       "      <td>0.001817</td>\n",
       "      <td>0.190403</td>\n",
       "      <td>0.061404</td>\n",
       "      <td>0.007878</td>\n",
       "      <td>0.165377</td>\n",
       "      <td>0.088226</td>\n",
       "      <td>0.017174</td>\n",
       "      <td>0.185821</td>\n",
       "    </tr>\n",
       "    <tr>\n",
       "      <th>1</th>\n",
       "      <td>eac_single_coassoc_matrix</td>\n",
       "      <td>[0, 0, 0, 0, 0, 0, 0, 0, 0, 0, 0, 0, 0, 0, 0, ...</td>\n",
       "      <td>3</td>\n",
       "      <td>0.093678</td>\n",
       "      <td>0.003105</td>\n",
       "      <td>0.205183</td>\n",
       "      <td>0.076908</td>\n",
       "      <td>0.013087</td>\n",
       "      <td>0.173019</td>\n",
       "      <td>0.111019</td>\n",
       "      <td>0.028677</td>\n",
       "      <td>0.198395</td>\n",
       "    </tr>\n",
       "    <tr>\n",
       "      <th>2</th>\n",
       "      <td>eac_single_coassoc_matrix</td>\n",
       "      <td>[0, 0, 0, 0, 0, 0, 0, 0, 0, 0, 0, 0, 0, 0, 0, ...</td>\n",
       "      <td>4</td>\n",
       "      <td>0.104668</td>\n",
       "      <td>0.004693</td>\n",
       "      <td>0.208994</td>\n",
       "      <td>0.086760</td>\n",
       "      <td>0.016959</td>\n",
       "      <td>0.174144</td>\n",
       "      <td>0.126067</td>\n",
       "      <td>0.037047</td>\n",
       "      <td>0.199974</td>\n",
       "    </tr>\n",
       "    <tr>\n",
       "      <th>3</th>\n",
       "      <td>eac_single_coassoc_matrix</td>\n",
       "      <td>[0, 0, 0, 0, 0, 0, 0, 0, 0, 0, 0, 0, 0, 0, 0, ...</td>\n",
       "      <td>5</td>\n",
       "      <td>0.137429</td>\n",
       "      <td>0.008188</td>\n",
       "      <td>0.237980</td>\n",
       "      <td>0.116973</td>\n",
       "      <td>0.027774</td>\n",
       "      <td>0.192602</td>\n",
       "      <td>0.167370</td>\n",
       "      <td>0.059078</td>\n",
       "      <td>0.219705</td>\n",
       "    </tr>\n",
       "    <tr>\n",
       "      <th>4</th>\n",
       "      <td>eac_single_coassoc_matrix</td>\n",
       "      <td>[0, 0, 0, 0, 0, 0, 0, 0, 0, 0, 0, 0, 0, 0, 0, ...</td>\n",
       "      <td>6</td>\n",
       "      <td>0.135846</td>\n",
       "      <td>0.008512</td>\n",
       "      <td>0.232139</td>\n",
       "      <td>0.115235</td>\n",
       "      <td>0.028441</td>\n",
       "      <td>0.184376</td>\n",
       "      <td>0.166026</td>\n",
       "      <td>0.060851</td>\n",
       "      <td>0.212002</td>\n",
       "    </tr>\n",
       "  </tbody>\n",
       "</table>\n",
       "</div>"
      ],
      "text/plain": [
       "                      method  \\\n",
       "0  eac_single_coassoc_matrix   \n",
       "1  eac_single_coassoc_matrix   \n",
       "2  eac_single_coassoc_matrix   \n",
       "3  eac_single_coassoc_matrix   \n",
       "4  eac_single_coassoc_matrix   \n",
       "\n",
       "                                           partition  k  ari_mean  ari_median  \\\n",
       "0  [0, 0, 0, 0, 0, 0, 0, 0, 0, 0, 0, 0, 0, 0, 0, ...  2  0.078126    0.001817   \n",
       "1  [0, 0, 0, 0, 0, 0, 0, 0, 0, 0, 0, 0, 0, 0, 0, ...  3  0.093678    0.003105   \n",
       "2  [0, 0, 0, 0, 0, 0, 0, 0, 0, 0, 0, 0, 0, 0, 0, ...  4  0.104668    0.004693   \n",
       "3  [0, 0, 0, 0, 0, 0, 0, 0, 0, 0, 0, 0, 0, 0, 0, ...  5  0.137429    0.008188   \n",
       "4  [0, 0, 0, 0, 0, 0, 0, 0, 0, 0, 0, 0, 0, 0, 0, ...  6  0.135846    0.008512   \n",
       "\n",
       "    ari_std  ami_mean  ami_median   ami_std  nmi_mean  nmi_median   nmi_std  \n",
       "0  0.190403  0.061404    0.007878  0.165377  0.088226    0.017174  0.185821  \n",
       "1  0.205183  0.076908    0.013087  0.173019  0.111019    0.028677  0.198395  \n",
       "2  0.208994  0.086760    0.016959  0.174144  0.126067    0.037047  0.199974  \n",
       "3  0.237980  0.116973    0.027774  0.192602  0.167370    0.059078  0.219705  \n",
       "4  0.232139  0.115235    0.028441  0.184376  0.166026    0.060851  0.212002  "
      ]
     },
     "execution_count": 7,
     "metadata": {},
     "output_type": "execute_result"
    }
   ],
   "source": [
    "consensus_clustering_results.head()"
   ]
  },
  {
   "cell_type": "markdown",
   "metadata": {
    "papermill": {
     "duration": 0.012286,
     "end_time": "2021-05-08T22:58:34.474503",
     "exception": false,
     "start_time": "2021-05-08T22:58:34.462217",
     "status": "completed"
    },
    "tags": []
   },
   "source": [
    "# Explore best partition per k"
   ]
  },
  {
   "cell_type": "code",
   "execution_count": 8,
   "metadata": {
    "execution": {
     "iopub.execute_input": "2021-05-08T22:58:34.501412Z",
     "iopub.status.busy": "2021-05-08T22:58:34.501031Z",
     "iopub.status.idle": "2021-05-08T22:58:34.510487Z",
     "shell.execute_reply": "2021-05-08T22:58:34.510120Z"
    },
    "papermill": {
     "duration": 0.023771,
     "end_time": "2021-05-08T22:58:34.510570",
     "exception": false,
     "start_time": "2021-05-08T22:58:34.486799",
     "status": "completed"
    },
    "tags": []
   },
   "outputs": [],
   "source": [
    "_selected_measure = \"ARI\"\n",
    "_mean_column, _median_column = \"ari_mean\", \"ari_median\""
   ]
  },
  {
   "cell_type": "code",
   "execution_count": 9,
   "metadata": {
    "execution": {
     "iopub.execute_input": "2021-05-08T22:58:34.538969Z",
     "iopub.status.busy": "2021-05-08T22:58:34.538599Z",
     "iopub.status.idle": "2021-05-08T22:58:34.593246Z",
     "shell.execute_reply": "2021-05-08T22:58:34.593534Z"
    },
    "papermill": {
     "duration": 0.069897,
     "end_time": "2021-05-08T22:58:34.593642",
     "exception": false,
     "start_time": "2021-05-08T22:58:34.523745",
     "status": "completed"
    },
    "tags": []
   },
   "outputs": [
    {
     "data": {
      "text/html": [
       "<div>\n",
       "<style scoped>\n",
       "    .dataframe tbody tr th:only-of-type {\n",
       "        vertical-align: middle;\n",
       "    }\n",
       "\n",
       "    .dataframe tbody tr th {\n",
       "        vertical-align: top;\n",
       "    }\n",
       "\n",
       "    .dataframe thead th {\n",
       "        text-align: right;\n",
       "    }\n",
       "</style>\n",
       "<table border=\"1\" class=\"dataframe\">\n",
       "  <thead>\n",
       "    <tr style=\"text-align: right;\">\n",
       "      <th></th>\n",
       "      <th></th>\n",
       "      <th>method</th>\n",
       "      <th>k</th>\n",
       "      <th>ari_mean</th>\n",
       "      <th>ari_median</th>\n",
       "    </tr>\n",
       "    <tr>\n",
       "      <th>k</th>\n",
       "      <th></th>\n",
       "      <th></th>\n",
       "      <th></th>\n",
       "      <th></th>\n",
       "      <th></th>\n",
       "    </tr>\n",
       "  </thead>\n",
       "  <tbody>\n",
       "    <tr>\n",
       "      <th>8</th>\n",
       "      <th>301</th>\n",
       "      <td>scc_020</td>\n",
       "      <td>8</td>\n",
       "      <td>0.221259</td>\n",
       "      <td>0.040295</td>\n",
       "    </tr>\n",
       "    <tr>\n",
       "      <th>10</th>\n",
       "      <th>362</th>\n",
       "      <td>scc_025</td>\n",
       "      <td>10</td>\n",
       "      <td>0.221141</td>\n",
       "      <td>0.040271</td>\n",
       "    </tr>\n",
       "    <tr>\n",
       "      <th>7</th>\n",
       "      <th>300</th>\n",
       "      <td>scc_020</td>\n",
       "      <td>7</td>\n",
       "      <td>0.218083</td>\n",
       "      <td>0.038231</td>\n",
       "    </tr>\n",
       "    <tr>\n",
       "      <th>6</th>\n",
       "      <th>299</th>\n",
       "      <td>scc_020</td>\n",
       "      <td>6</td>\n",
       "      <td>0.218068</td>\n",
       "      <td>0.038239</td>\n",
       "    </tr>\n",
       "    <tr>\n",
       "      <th>12</th>\n",
       "      <th>305</th>\n",
       "      <td>scc_020</td>\n",
       "      <td>12</td>\n",
       "      <td>0.217015</td>\n",
       "      <td>0.048236</td>\n",
       "    </tr>\n",
       "    <tr>\n",
       "      <th>11</th>\n",
       "      <th>304</th>\n",
       "      <td>scc_020</td>\n",
       "      <td>11</td>\n",
       "      <td>0.217009</td>\n",
       "      <td>0.048231</td>\n",
       "    </tr>\n",
       "    <tr>\n",
       "      <th>9</th>\n",
       "      <th>302</th>\n",
       "      <td>scc_020</td>\n",
       "      <td>9</td>\n",
       "      <td>0.216682</td>\n",
       "      <td>0.044590</td>\n",
       "    </tr>\n",
       "    <tr>\n",
       "      <th>18</th>\n",
       "      <th>311</th>\n",
       "      <td>scc_020</td>\n",
       "      <td>18</td>\n",
       "      <td>0.213489</td>\n",
       "      <td>0.054577</td>\n",
       "    </tr>\n",
       "    <tr>\n",
       "      <th>17</th>\n",
       "      <th>310</th>\n",
       "      <td>scc_020</td>\n",
       "      <td>17</td>\n",
       "      <td>0.213258</td>\n",
       "      <td>0.055814</td>\n",
       "    </tr>\n",
       "    <tr>\n",
       "      <th>16</th>\n",
       "      <th>309</th>\n",
       "      <td>scc_020</td>\n",
       "      <td>16</td>\n",
       "      <td>0.212867</td>\n",
       "      <td>0.056176</td>\n",
       "    </tr>\n",
       "  </tbody>\n",
       "</table>\n",
       "</div>"
      ],
      "text/plain": [
       "         method   k  ari_mean  ari_median\n",
       "k                                        \n",
       "8  301  scc_020   8  0.221259    0.040295\n",
       "10 362  scc_025  10  0.221141    0.040271\n",
       "7  300  scc_020   7  0.218083    0.038231\n",
       "6  299  scc_020   6  0.218068    0.038239\n",
       "12 305  scc_020  12  0.217015    0.048236\n",
       "11 304  scc_020  11  0.217009    0.048231\n",
       "9  302  scc_020   9  0.216682    0.044590\n",
       "18 311  scc_020  18  0.213489    0.054577\n",
       "17 310  scc_020  17  0.213258    0.055814\n",
       "16 309  scc_020  16  0.212867    0.056176"
      ]
     },
     "metadata": {},
     "output_type": "display_data"
    }
   ],
   "source": [
    "_tmp = (\n",
    "    consensus_clustering_results.groupby(\"k\")\n",
    "    .apply(lambda x: x.sort_values(_mean_column, ascending=False).head(1))\n",
    "    .sort_values(_mean_column, ascending=False)[\n",
    "        [\"method\", \"k\", _mean_column, _median_column]\n",
    "    ]\n",
    ")\n",
    "display(_tmp.head(10))"
   ]
  },
  {
   "cell_type": "code",
   "execution_count": 10,
   "metadata": {
    "execution": {
     "iopub.execute_input": "2021-05-08T22:58:34.622863Z",
     "iopub.status.busy": "2021-05-08T22:58:34.622491Z",
     "iopub.status.idle": "2021-05-08T22:58:36.437531Z",
     "shell.execute_reply": "2021-05-08T22:58:36.437208Z"
    },
    "papermill": {
     "duration": 1.831011,
     "end_time": "2021-05-08T22:58:36.437616",
     "exception": false,
     "start_time": "2021-05-08T22:58:34.606605",
     "status": "completed"
    },
    "tags": []
   },
   "outputs": [
    {
     "data": {
      "image/png": "[encoded data removed]",
      "text/plain": [
       "<Figure size 864x432 with 1 Axes>"
      ]
     },
     "metadata": {},
     "output_type": "display_data"
    }
   ],
   "source": [
    "with sns.plotting_context(\"talk\", font_scale=0.75), sns.axes_style(\n",
    "    \"whitegrid\", {\"grid.linestyle\": \"--\"}\n",
    "):\n",
    "    fig, ax = plt.subplots(figsize=(12, 6))\n",
    "    ax = sns.pointplot(data=_tmp, x=\"k\", y=_mean_column, ci=None, label=\"One\")\n",
    "    ax = sns.pointplot(\n",
    "        data=_tmp, x=\"k\", y=_median_column, ci=None, color=\"red\", label=\"Two\", ax=ax\n",
    "    )\n",
    "    ax.set_ylabel(f\"Agreement with ensemble ({_selected_measure})\")\n",
    "    ax.set_xlabel(\"Number of clusters ($k$)\")\n",
    "    ax.set_xticklabels(ax.get_xticklabels(), rotation=45)\n",
    "    plt.legend(labels=[\"Mean\", \"Median\"])\n",
    "    plt.grid(True)\n",
    "    plt.tight_layout()"
   ]
  },
  {
   "cell_type": "markdown",
   "metadata": {
    "papermill": {
     "duration": 0.01397,
     "end_time": "2021-05-08T22:58:36.466065",
     "exception": false,
     "start_time": "2021-05-08T22:58:36.452095",
     "status": "completed"
    },
    "tags": []
   },
   "source": [
    "# Select best partition per k"
   ]
  },
  {
   "cell_type": "code",
   "execution_count": 11,
   "metadata": {
    "execution": {
     "iopub.execute_input": "2021-05-08T22:58:36.497212Z",
     "iopub.status.busy": "2021-05-08T22:58:36.496853Z",
     "iopub.status.idle": "2021-05-08T22:58:36.506020Z",
     "shell.execute_reply": "2021-05-08T22:58:36.505654Z"
    },
    "papermill": {
     "duration": 0.025897,
     "end_time": "2021-05-08T22:58:36.506105",
     "exception": false,
     "start_time": "2021-05-08T22:58:36.480208",
     "status": "completed"
    },
    "tags": []
   },
   "outputs": [],
   "source": [
    "_selected_stat = \"Median\"\n",
    "_measure_col = _median_column"
   ]
  },
  {
   "cell_type": "code",
   "execution_count": 12,
   "metadata": {
    "execution": {
     "iopub.execute_input": "2021-05-08T22:58:36.537667Z",
     "iopub.status.busy": "2021-05-08T22:58:36.537287Z",
     "iopub.status.idle": "2021-05-08T22:58:36.583654Z",
     "shell.execute_reply": "2021-05-08T22:58:36.583341Z"
    },
    "papermill": {
     "duration": 0.063114,
     "end_time": "2021-05-08T22:58:36.583742",
     "exception": false,
     "start_time": "2021-05-08T22:58:36.520628",
     "status": "completed"
    },
    "tags": []
   },
   "outputs": [],
   "source": [
    "best_parts = (\n",
    "    consensus_clustering_results.groupby(\"k\")\n",
    "    .apply(lambda x: x.sort_values(_measure_col, ascending=False).head(1))\n",
    "    .sort_values(_measure_col, ascending=False)[\n",
    "        [\"method\", \"k\", \"partition\", _measure_col]\n",
    "    ]\n",
    ")"
   ]
  },
  {
   "cell_type": "code",
   "execution_count": 13,
   "metadata": {
    "execution": {
     "iopub.execute_input": "2021-05-08T22:58:36.615183Z",
     "iopub.status.busy": "2021-05-08T22:58:36.614809Z",
     "iopub.status.idle": "2021-05-08T22:58:36.625242Z",
     "shell.execute_reply": "2021-05-08T22:58:36.624858Z"
    },
    "papermill": {
     "duration": 0.026905,
     "end_time": "2021-05-08T22:58:36.625325",
     "exception": false,
     "start_time": "2021-05-08T22:58:36.598420",
     "status": "completed"
    },
    "tags": []
   },
   "outputs": [],
   "source": [
    "best_parts = best_parts.set_index(\"k\")"
   ]
  },
  {
   "cell_type": "code",
   "execution_count": 14,
   "metadata": {
    "execution": {
     "iopub.execute_input": "2021-05-08T22:58:36.656846Z",
     "iopub.status.busy": "2021-05-08T22:58:36.656426Z",
     "iopub.status.idle": "2021-05-08T22:58:36.666762Z",
     "shell.execute_reply": "2021-05-08T22:58:36.666390Z"
    },
    "papermill": {
     "duration": 0.026974,
     "end_time": "2021-05-08T22:58:36.666846",
     "exception": false,
     "start_time": "2021-05-08T22:58:36.639872",
     "status": "completed"
    },
    "tags": []
   },
   "outputs": [
    {
     "data": {
      "text/plain": [
       "(59, 3)"
      ]
     },
     "execution_count": 14,
     "metadata": {},
     "output_type": "execute_result"
    }
   ],
   "source": [
    "best_parts.shape"
   ]
  },
  {
   "cell_type": "code",
   "execution_count": 15,
   "metadata": {
    "execution": {
     "iopub.execute_input": "2021-05-08T22:58:36.698710Z",
     "iopub.status.busy": "2021-05-08T22:58:36.698353Z",
     "iopub.status.idle": "2021-05-08T22:58:36.720006Z",
     "shell.execute_reply": "2021-05-08T22:58:36.720288Z"
    },
    "papermill": {
     "duration": 0.038514,
     "end_time": "2021-05-08T22:58:36.720396",
     "exception": false,
     "start_time": "2021-05-08T22:58:36.681882",
     "status": "completed"
    },
    "tags": []
   },
   "outputs": [
    {
     "data": {
      "text/html": [
       "<div>\n",
       "<style scoped>\n",
       "    .dataframe tbody tr th:only-of-type {\n",
       "        vertical-align: middle;\n",
       "    }\n",
       "\n",
       "    .dataframe tbody tr th {\n",
       "        vertical-align: top;\n",
       "    }\n",
       "\n",
       "    .dataframe thead th {\n",
       "        text-align: right;\n",
       "    }\n",
       "</style>\n",
       "<table border=\"1\" class=\"dataframe\">\n",
       "  <thead>\n",
       "    <tr style=\"text-align: right;\">\n",
       "      <th></th>\n",
       "      <th>method</th>\n",
       "      <th>partition</th>\n",
       "      <th>ari_median</th>\n",
       "    </tr>\n",
       "    <tr>\n",
       "      <th>k</th>\n",
       "      <th></th>\n",
       "      <th></th>\n",
       "      <th></th>\n",
       "    </tr>\n",
       "  </thead>\n",
       "  <tbody>\n",
       "    <tr>\n",
       "      <th>14</th>\n",
       "      <td>scc_025</td>\n",
       "      <td>[0, 0, 0, 0, 0, 0, 0, 0, 0, 0, 0, 0, 0, 0, 0, ...</td>\n",
       "      <td>0.090117</td>\n",
       "    </tr>\n",
       "    <tr>\n",
       "      <th>22</th>\n",
       "      <td>scc_020</td>\n",
       "      <td>[13, 18, 18, 18, 18, 18, 18, 18, 18, 13, 18, 1...</td>\n",
       "      <td>0.090100</td>\n",
       "    </tr>\n",
       "    <tr>\n",
       "      <th>13</th>\n",
       "      <td>scc_025</td>\n",
       "      <td>[0, 0, 0, 0, 0, 0, 0, 0, 0, 0, 0, 0, 0, 0, 0, ...</td>\n",
       "      <td>0.089920</td>\n",
       "    </tr>\n",
       "    <tr>\n",
       "      <th>12</th>\n",
       "      <td>scc_025</td>\n",
       "      <td>[9, 9, 9, 9, 9, 9, 9, 9, 9, 9, 9, 9, 9, 9, 9, ...</td>\n",
       "      <td>0.089870</td>\n",
       "    </tr>\n",
       "    <tr>\n",
       "      <th>11</th>\n",
       "      <td>scc_025</td>\n",
       "      <td>[0, 0, 0, 0, 0, 0, 0, 0, 0, 0, 0, 0, 0, 0, 0, ...</td>\n",
       "      <td>0.089616</td>\n",
       "    </tr>\n",
       "    <tr>\n",
       "      <th>15</th>\n",
       "      <td>scc_025</td>\n",
       "      <td>[0, 0, 0, 0, 0, 0, 0, 0, 0, 0, 0, 0, 0, 0, 0, ...</td>\n",
       "      <td>0.089346</td>\n",
       "    </tr>\n",
       "    <tr>\n",
       "      <th>7</th>\n",
       "      <td>eac_complete_coassoc_matrix</td>\n",
       "      <td>[2, 2, 2, 2, 2, 2, 2, 2, 2, 2, 2, 2, 2, 2, 2, ...</td>\n",
       "      <td>0.088937</td>\n",
       "    </tr>\n",
       "    <tr>\n",
       "      <th>6</th>\n",
       "      <td>eac_complete_coassoc_matrix</td>\n",
       "      <td>[2, 2, 2, 2, 2, 2, 2, 2, 2, 2, 2, 2, 2, 2, 2, ...</td>\n",
       "      <td>0.088920</td>\n",
       "    </tr>\n",
       "    <tr>\n",
       "      <th>8</th>\n",
       "      <td>eac_complete_coassoc_matrix</td>\n",
       "      <td>[2, 2, 2, 2, 2, 2, 2, 2, 2, 2, 2, 2, 2, 2, 2, ...</td>\n",
       "      <td>0.088831</td>\n",
       "    </tr>\n",
       "    <tr>\n",
       "      <th>9</th>\n",
       "      <td>eac_complete_coassoc_matrix</td>\n",
       "      <td>[2, 2, 2, 2, 2, 2, 2, 2, 2, 2, 2, 2, 2, 2, 2, ...</td>\n",
       "      <td>0.088777</td>\n",
       "    </tr>\n",
       "  </tbody>\n",
       "</table>\n",
       "</div>"
      ],
      "text/plain": [
       "                         method  \\\n",
       "k                                 \n",
       "14                      scc_025   \n",
       "22                      scc_020   \n",
       "13                      scc_025   \n",
       "12                      scc_025   \n",
       "11                      scc_025   \n",
       "15                      scc_025   \n",
       "7   eac_complete_coassoc_matrix   \n",
       "6   eac_complete_coassoc_matrix   \n",
       "8   eac_complete_coassoc_matrix   \n",
       "9   eac_complete_coassoc_matrix   \n",
       "\n",
       "                                            partition  ari_median  \n",
       "k                                                                  \n",
       "14  [0, 0, 0, 0, 0, 0, 0, 0, 0, 0, 0, 0, 0, 0, 0, ...    0.090117  \n",
       "22  [13, 18, 18, 18, 18, 18, 18, 18, 18, 13, 18, 1...    0.090100  \n",
       "13  [0, 0, 0, 0, 0, 0, 0, 0, 0, 0, 0, 0, 0, 0, 0, ...    0.089920  \n",
       "12  [9, 9, 9, 9, 9, 9, 9, 9, 9, 9, 9, 9, 9, 9, 9, ...    0.089870  \n",
       "11  [0, 0, 0, 0, 0, 0, 0, 0, 0, 0, 0, 0, 0, 0, 0, ...    0.089616  \n",
       "15  [0, 0, 0, 0, 0, 0, 0, 0, 0, 0, 0, 0, 0, 0, 0, ...    0.089346  \n",
       "7   [2, 2, 2, 2, 2, 2, 2, 2, 2, 2, 2, 2, 2, 2, 2, ...    0.088937  \n",
       "6   [2, 2, 2, 2, 2, 2, 2, 2, 2, 2, 2, 2, 2, 2, 2, ...    0.088920  \n",
       "8   [2, 2, 2, 2, 2, 2, 2, 2, 2, 2, 2, 2, 2, 2, 2, ...    0.088831  \n",
       "9   [2, 2, 2, 2, 2, 2, 2, 2, 2, 2, 2, 2, 2, 2, 2, ...    0.088777  "
      ]
     },
     "execution_count": 15,
     "metadata": {},
     "output_type": "execute_result"
    }
   ],
   "source": [
    "# show partitions with top values\n",
    "best_parts.head(10)"
   ]
  },
  {
   "cell_type": "code",
   "execution_count": 16,
   "metadata": {
    "execution": {
     "iopub.execute_input": "2021-05-08T22:58:36.753577Z",
     "iopub.status.busy": "2021-05-08T22:58:36.753207Z",
     "iopub.status.idle": "2021-05-08T22:58:36.822132Z",
     "shell.execute_reply": "2021-05-08T22:58:36.821762Z"
    },
    "papermill": {
     "duration": 0.08645,
     "end_time": "2021-05-08T22:58:36.822216",
     "exception": false,
     "start_time": "2021-05-08T22:58:36.735766",
     "status": "completed"
    },
    "tags": []
   },
   "outputs": [
    {
     "data": {
      "text/html": [
       "<div>\n",
       "<style scoped>\n",
       "    .dataframe tbody tr th:only-of-type {\n",
       "        vertical-align: middle;\n",
       "    }\n",
       "\n",
       "    .dataframe tbody tr th {\n",
       "        vertical-align: top;\n",
       "    }\n",
       "\n",
       "    .dataframe thead th {\n",
       "        text-align: right;\n",
       "    }\n",
       "</style>\n",
       "<table border=\"1\" class=\"dataframe\">\n",
       "  <thead>\n",
       "    <tr style=\"text-align: right;\">\n",
       "      <th></th>\n",
       "      <th>method</th>\n",
       "      <th>partition</th>\n",
       "      <th>ari_median</th>\n",
       "    </tr>\n",
       "    <tr>\n",
       "      <th>k</th>\n",
       "      <th></th>\n",
       "      <th></th>\n",
       "      <th></th>\n",
       "    </tr>\n",
       "  </thead>\n",
       "  <tbody>\n",
       "    <tr>\n",
       "      <th>2</th>\n",
       "      <td>scc_050</td>\n",
       "      <td>[1, 1, 1, 0, 0, 0, 0, 0, 1, 0, 1, 1, 0, 1, 0, ...</td>\n",
       "      <td>0.076657</td>\n",
       "    </tr>\n",
       "    <tr>\n",
       "      <th>3</th>\n",
       "      <td>scc_050</td>\n",
       "      <td>[1, 1, 1, 2, 2, 2, 2, 2, 1, 2, 1, 1, 2, 1, 2, ...</td>\n",
       "      <td>0.063797</td>\n",
       "    </tr>\n",
       "    <tr>\n",
       "      <th>4</th>\n",
       "      <td>scc_030</td>\n",
       "      <td>[0, 0, 0, 0, 0, 0, 0, 0, 3, 0, 3, 3, 0, 3, 0, ...</td>\n",
       "      <td>0.085510</td>\n",
       "    </tr>\n",
       "    <tr>\n",
       "      <th>5</th>\n",
       "      <td>scc_030</td>\n",
       "      <td>[0, 0, 0, 0, 0, 0, 0, 0, 4, 0, 4, 4, 0, 0, 0, ...</td>\n",
       "      <td>0.087086</td>\n",
       "    </tr>\n",
       "    <tr>\n",
       "      <th>6</th>\n",
       "      <td>eac_complete_coassoc_matrix</td>\n",
       "      <td>[2, 2, 2, 2, 2, 2, 2, 2, 2, 2, 2, 2, 2, 2, 2, ...</td>\n",
       "      <td>0.088920</td>\n",
       "    </tr>\n",
       "    <tr>\n",
       "      <th>7</th>\n",
       "      <td>eac_complete_coassoc_matrix</td>\n",
       "      <td>[2, 2, 2, 2, 2, 2, 2, 2, 2, 2, 2, 2, 2, 2, 2, ...</td>\n",
       "      <td>0.088937</td>\n",
       "    </tr>\n",
       "    <tr>\n",
       "      <th>8</th>\n",
       "      <td>eac_complete_coassoc_matrix</td>\n",
       "      <td>[2, 2, 2, 2, 2, 2, 2, 2, 2, 2, 2, 2, 2, 2, 2, ...</td>\n",
       "      <td>0.088831</td>\n",
       "    </tr>\n",
       "    <tr>\n",
       "      <th>9</th>\n",
       "      <td>eac_complete_coassoc_matrix</td>\n",
       "      <td>[2, 2, 2, 2, 2, 2, 2, 2, 2, 2, 2, 2, 2, 2, 2, ...</td>\n",
       "      <td>0.088777</td>\n",
       "    </tr>\n",
       "    <tr>\n",
       "      <th>10</th>\n",
       "      <td>eac_complete_coassoc_matrix</td>\n",
       "      <td>[2, 2, 2, 2, 2, 2, 2, 2, 2, 2, 2, 2, 2, 2, 2, ...</td>\n",
       "      <td>0.088763</td>\n",
       "    </tr>\n",
       "    <tr>\n",
       "      <th>11</th>\n",
       "      <td>scc_025</td>\n",
       "      <td>[0, 0, 0, 0, 0, 0, 0, 0, 0, 0, 0, 0, 0, 0, 0, ...</td>\n",
       "      <td>0.089616</td>\n",
       "    </tr>\n",
       "    <tr>\n",
       "      <th>12</th>\n",
       "      <td>scc_025</td>\n",
       "      <td>[9, 9, 9, 9, 9, 9, 9, 9, 9, 9, 9, 9, 9, 9, 9, ...</td>\n",
       "      <td>0.089870</td>\n",
       "    </tr>\n",
       "    <tr>\n",
       "      <th>13</th>\n",
       "      <td>scc_025</td>\n",
       "      <td>[0, 0, 0, 0, 0, 0, 0, 0, 0, 0, 0, 0, 0, 0, 0, ...</td>\n",
       "      <td>0.089920</td>\n",
       "    </tr>\n",
       "    <tr>\n",
       "      <th>14</th>\n",
       "      <td>scc_025</td>\n",
       "      <td>[0, 0, 0, 0, 0, 0, 0, 0, 0, 0, 0, 0, 0, 0, 0, ...</td>\n",
       "      <td>0.090117</td>\n",
       "    </tr>\n",
       "    <tr>\n",
       "      <th>15</th>\n",
       "      <td>scc_025</td>\n",
       "      <td>[0, 0, 0, 0, 0, 0, 0, 0, 0, 0, 0, 0, 0, 0, 0, ...</td>\n",
       "      <td>0.089346</td>\n",
       "    </tr>\n",
       "    <tr>\n",
       "      <th>16</th>\n",
       "      <td>scc_025</td>\n",
       "      <td>[0, 0, 0, 0, 0, 0, 0, 0, 0, 0, 0, 0, 0, 0, 0, ...</td>\n",
       "      <td>0.088662</td>\n",
       "    </tr>\n",
       "    <tr>\n",
       "      <th>17</th>\n",
       "      <td>eac_average_coassoc_matrix</td>\n",
       "      <td>[12, 12, 12, 12, 12, 12, 12, 12, 12, 0, 12, 12...</td>\n",
       "      <td>0.085905</td>\n",
       "    </tr>\n",
       "    <tr>\n",
       "      <th>18</th>\n",
       "      <td>eac_average_coassoc_matrix</td>\n",
       "      <td>[12, 12, 12, 12, 12, 12, 12, 12, 12, 0, 12, 12...</td>\n",
       "      <td>0.085456</td>\n",
       "    </tr>\n",
       "    <tr>\n",
       "      <th>19</th>\n",
       "      <td>eac_average_coassoc_matrix</td>\n",
       "      <td>[12, 12, 12, 12, 12, 12, 12, 12, 12, 2, 12, 12...</td>\n",
       "      <td>0.084572</td>\n",
       "    </tr>\n",
       "    <tr>\n",
       "      <th>20</th>\n",
       "      <td>eac_average_coassoc_matrix</td>\n",
       "      <td>[12, 12, 12, 12, 12, 12, 12, 12, 12, 0, 12, 12...</td>\n",
       "      <td>0.084003</td>\n",
       "    </tr>\n",
       "    <tr>\n",
       "      <th>21</th>\n",
       "      <td>eac_average_coassoc_matrix</td>\n",
       "      <td>[12, 12, 12, 12, 12, 12, 12, 12, 12, 2, 12, 12...</td>\n",
       "      <td>0.083086</td>\n",
       "    </tr>\n",
       "    <tr>\n",
       "      <th>22</th>\n",
       "      <td>scc_020</td>\n",
       "      <td>[13, 18, 18, 18, 18, 18, 18, 18, 18, 13, 18, 1...</td>\n",
       "      <td>0.090100</td>\n",
       "    </tr>\n",
       "    <tr>\n",
       "      <th>23</th>\n",
       "      <td>scc_020</td>\n",
       "      <td>[0, 20, 20, 20, 20, 20, 20, 20, 20, 0, 20, 20,...</td>\n",
       "      <td>0.085928</td>\n",
       "    </tr>\n",
       "    <tr>\n",
       "      <th>24</th>\n",
       "      <td>scc_020</td>\n",
       "      <td>[0, 22, 22, 22, 22, 22, 22, 22, 22, 0, 22, 22,...</td>\n",
       "      <td>0.085412</td>\n",
       "    </tr>\n",
       "    <tr>\n",
       "      <th>25</th>\n",
       "      <td>scc_020</td>\n",
       "      <td>[0, 21, 21, 21, 21, 21, 21, 21, 21, 0, 21, 21,...</td>\n",
       "      <td>0.087029</td>\n",
       "    </tr>\n",
       "    <tr>\n",
       "      <th>26</th>\n",
       "      <td>scc_020</td>\n",
       "      <td>[0, 21, 21, 21, 21, 21, 21, 21, 21, 0, 21, 21,...</td>\n",
       "      <td>0.086943</td>\n",
       "    </tr>\n",
       "    <tr>\n",
       "      <th>27</th>\n",
       "      <td>scc_020</td>\n",
       "      <td>[0, 21, 21, 21, 21, 21, 21, 21, 21, 0, 21, 21,...</td>\n",
       "      <td>0.083724</td>\n",
       "    </tr>\n",
       "    <tr>\n",
       "      <th>28</th>\n",
       "      <td>eac_average_coassoc_matrix</td>\n",
       "      <td>[25, 25, 25, 25, 25, 25, 25, 25, 25, 2, 25, 25...</td>\n",
       "      <td>0.079577</td>\n",
       "    </tr>\n",
       "    <tr>\n",
       "      <th>29</th>\n",
       "      <td>scc_020</td>\n",
       "      <td>[0, 22, 22, 22, 22, 22, 22, 22, 22, 0, 22, 22,...</td>\n",
       "      <td>0.086230</td>\n",
       "    </tr>\n",
       "    <tr>\n",
       "      <th>30</th>\n",
       "      <td>eac_average_coassoc_matrix</td>\n",
       "      <td>[25, 25, 25, 25, 25, 25, 25, 25, 25, 2, 25, 25...</td>\n",
       "      <td>0.079458</td>\n",
       "    </tr>\n",
       "    <tr>\n",
       "      <th>31</th>\n",
       "      <td>eac_average_coassoc_matrix</td>\n",
       "      <td>[25, 25, 25, 25, 25, 25, 25, 25, 25, 2, 25, 25...</td>\n",
       "      <td>0.082944</td>\n",
       "    </tr>\n",
       "    <tr>\n",
       "      <th>32</th>\n",
       "      <td>eac_average_coassoc_matrix</td>\n",
       "      <td>[25, 25, 25, 25, 25, 25, 25, 25, 25, 0, 25, 25...</td>\n",
       "      <td>0.082943</td>\n",
       "    </tr>\n",
       "    <tr>\n",
       "      <th>33</th>\n",
       "      <td>eac_average_coassoc_matrix</td>\n",
       "      <td>[25, 25, 25, 25, 25, 25, 25, 25, 25, 9, 25, 25...</td>\n",
       "      <td>0.075348</td>\n",
       "    </tr>\n",
       "    <tr>\n",
       "      <th>34</th>\n",
       "      <td>scc_020</td>\n",
       "      <td>[0, 24, 24, 24, 24, 24, 24, 24, 24, 0, 24, 24,...</td>\n",
       "      <td>0.071889</td>\n",
       "    </tr>\n",
       "    <tr>\n",
       "      <th>35</th>\n",
       "      <td>scc_020</td>\n",
       "      <td>[0, 24, 24, 24, 24, 24, 24, 24, 24, 0, 24, 24,...</td>\n",
       "      <td>0.075844</td>\n",
       "    </tr>\n",
       "    <tr>\n",
       "      <th>36</th>\n",
       "      <td>scc_020</td>\n",
       "      <td>[33, 28, 28, 28, 28, 28, 28, 28, 28, 33, 28, 2...</td>\n",
       "      <td>0.071622</td>\n",
       "    </tr>\n",
       "    <tr>\n",
       "      <th>37</th>\n",
       "      <td>eac_average_coassoc_matrix</td>\n",
       "      <td>[25, 25, 25, 25, 25, 25, 25, 25, 25, 1, 25, 25...</td>\n",
       "      <td>0.071015</td>\n",
       "    </tr>\n",
       "    <tr>\n",
       "      <th>38</th>\n",
       "      <td>eac_average_coassoc_matrix</td>\n",
       "      <td>[25, 25, 25, 25, 25, 25, 25, 25, 25, 1, 25, 25...</td>\n",
       "      <td>0.071027</td>\n",
       "    </tr>\n",
       "    <tr>\n",
       "      <th>39</th>\n",
       "      <td>eac_average_coassoc_matrix</td>\n",
       "      <td>[25, 25, 25, 25, 25, 25, 25, 25, 25, 0, 25, 25...</td>\n",
       "      <td>0.071029</td>\n",
       "    </tr>\n",
       "    <tr>\n",
       "      <th>40</th>\n",
       "      <td>scc_020</td>\n",
       "      <td>[0, 26, 26, 26, 26, 26, 26, 26, 26, 0, 26, 26,...</td>\n",
       "      <td>0.071269</td>\n",
       "    </tr>\n",
       "    <tr>\n",
       "      <th>41</th>\n",
       "      <td>eac_average_coassoc_matrix</td>\n",
       "      <td>[25, 25, 25, 25, 25, 25, 25, 25, 25, 11, 25, 2...</td>\n",
       "      <td>0.059952</td>\n",
       "    </tr>\n",
       "    <tr>\n",
       "      <th>42</th>\n",
       "      <td>eac_average_coassoc_matrix</td>\n",
       "      <td>[25, 25, 25, 25, 25, 25, 25, 25, 25, 11, 25, 2...</td>\n",
       "      <td>0.059965</td>\n",
       "    </tr>\n",
       "    <tr>\n",
       "      <th>43</th>\n",
       "      <td>eac_average_coassoc_matrix</td>\n",
       "      <td>[25, 25, 25, 25, 25, 25, 25, 25, 25, 5, 25, 25...</td>\n",
       "      <td>0.057659</td>\n",
       "    </tr>\n",
       "    <tr>\n",
       "      <th>44</th>\n",
       "      <td>eac_average_coassoc_matrix</td>\n",
       "      <td>[25, 25, 25, 25, 25, 25, 25, 25, 25, 5, 25, 25...</td>\n",
       "      <td>0.057650</td>\n",
       "    </tr>\n",
       "    <tr>\n",
       "      <th>45</th>\n",
       "      <td>eac_average_coassoc_matrix</td>\n",
       "      <td>[25, 25, 25, 25, 25, 25, 25, 25, 25, 2, 25, 25...</td>\n",
       "      <td>0.057654</td>\n",
       "    </tr>\n",
       "    <tr>\n",
       "      <th>46</th>\n",
       "      <td>scc_020</td>\n",
       "      <td>[33, 31, 31, 31, 31, 31, 31, 31, 31, 33, 31, 3...</td>\n",
       "      <td>0.064938</td>\n",
       "    </tr>\n",
       "    <tr>\n",
       "      <th>47</th>\n",
       "      <td>eac_average_coassoc_matrix</td>\n",
       "      <td>[25, 25, 25, 25, 25, 25, 25, 25, 25, 6, 25, 25...</td>\n",
       "      <td>0.053401</td>\n",
       "    </tr>\n",
       "    <tr>\n",
       "      <th>48</th>\n",
       "      <td>eac_average_coassoc_matrix</td>\n",
       "      <td>[25, 25, 25, 25, 25, 25, 25, 25, 25, 6, 25, 25...</td>\n",
       "      <td>0.051845</td>\n",
       "    </tr>\n",
       "    <tr>\n",
       "      <th>49</th>\n",
       "      <td>eac_average_coassoc_matrix</td>\n",
       "      <td>[25, 25, 25, 25, 25, 25, 25, 25, 25, 6, 25, 25...</td>\n",
       "      <td>0.051895</td>\n",
       "    </tr>\n",
       "    <tr>\n",
       "      <th>50</th>\n",
       "      <td>eac_single_coassoc_matrix</td>\n",
       "      <td>[0, 0, 0, 0, 0, 0, 0, 0, 0, 0, 0, 0, 0, 0, 0, ...</td>\n",
       "      <td>0.055433</td>\n",
       "    </tr>\n",
       "    <tr>\n",
       "      <th>51</th>\n",
       "      <td>eac_single_coassoc_matrix</td>\n",
       "      <td>[0, 0, 0, 0, 0, 0, 0, 0, 0, 0, 0, 0, 0, 0, 0, ...</td>\n",
       "      <td>0.055547</td>\n",
       "    </tr>\n",
       "    <tr>\n",
       "      <th>52</th>\n",
       "      <td>eac_single_coassoc_matrix</td>\n",
       "      <td>[0, 0, 0, 0, 0, 0, 0, 0, 0, 0, 0, 0, 0, 0, 0, ...</td>\n",
       "      <td>0.055809</td>\n",
       "    </tr>\n",
       "    <tr>\n",
       "      <th>53</th>\n",
       "      <td>eac_single_coassoc_matrix</td>\n",
       "      <td>[0, 0, 0, 0, 0, 0, 0, 0, 0, 0, 0, 0, 0, 0, 0, ...</td>\n",
       "      <td>0.055591</td>\n",
       "    </tr>\n",
       "    <tr>\n",
       "      <th>54</th>\n",
       "      <td>eac_single_coassoc_matrix</td>\n",
       "      <td>[0, 0, 0, 0, 0, 0, 0, 0, 0, 0, 0, 0, 0, 0, 0, ...</td>\n",
       "      <td>0.055779</td>\n",
       "    </tr>\n",
       "    <tr>\n",
       "      <th>55</th>\n",
       "      <td>eac_single_coassoc_matrix</td>\n",
       "      <td>[0, 0, 0, 0, 0, 0, 0, 0, 0, 0, 0, 0, 0, 0, 0, ...</td>\n",
       "      <td>0.056551</td>\n",
       "    </tr>\n",
       "    <tr>\n",
       "      <th>56</th>\n",
       "      <td>eac_single_coassoc_matrix</td>\n",
       "      <td>[0, 0, 0, 0, 0, 0, 0, 0, 0, 0, 0, 0, 0, 0, 0, ...</td>\n",
       "      <td>0.056860</td>\n",
       "    </tr>\n",
       "    <tr>\n",
       "      <th>57</th>\n",
       "      <td>eac_single_coassoc_matrix</td>\n",
       "      <td>[0, 0, 0, 0, 0, 0, 0, 0, 0, 0, 0, 0, 0, 0, 0, ...</td>\n",
       "      <td>0.056791</td>\n",
       "    </tr>\n",
       "    <tr>\n",
       "      <th>58</th>\n",
       "      <td>eac_single_coassoc_matrix</td>\n",
       "      <td>[0, 0, 0, 0, 0, 0, 0, 0, 0, 0, 0, 0, 0, 0, 0, ...</td>\n",
       "      <td>0.057045</td>\n",
       "    </tr>\n",
       "    <tr>\n",
       "      <th>59</th>\n",
       "      <td>eac_single_coassoc_matrix</td>\n",
       "      <td>[0, 0, 0, 0, 0, 0, 0, 0, 0, 0, 0, 0, 0, 0, 0, ...</td>\n",
       "      <td>0.056917</td>\n",
       "    </tr>\n",
       "    <tr>\n",
       "      <th>60</th>\n",
       "      <td>eac_single_coassoc_matrix</td>\n",
       "      <td>[0, 0, 0, 0, 0, 0, 0, 0, 0, 0, 0, 0, 0, 0, 0, ...</td>\n",
       "      <td>0.056800</td>\n",
       "    </tr>\n",
       "  </tbody>\n",
       "</table>\n",
       "</div>"
      ],
      "text/plain": [
       "                         method  \\\n",
       "k                                 \n",
       "2                       scc_050   \n",
       "3                       scc_050   \n",
       "4                       scc_030   \n",
       "5                       scc_030   \n",
       "6   eac_complete_coassoc_matrix   \n",
       "7   eac_complete_coassoc_matrix   \n",
       "8   eac_complete_coassoc_matrix   \n",
       "9   eac_complete_coassoc_matrix   \n",
       "10  eac_complete_coassoc_matrix   \n",
       "11                      scc_025   \n",
       "12                      scc_025   \n",
       "13                      scc_025   \n",
       "14                      scc_025   \n",
       "15                      scc_025   \n",
       "16                      scc_025   \n",
       "17   eac_average_coassoc_matrix   \n",
       "18   eac_average_coassoc_matrix   \n",
       "19   eac_average_coassoc_matrix   \n",
       "20   eac_average_coassoc_matrix   \n",
       "21   eac_average_coassoc_matrix   \n",
       "22                      scc_020   \n",
       "23                      scc_020   \n",
       "24                      scc_020   \n",
       "25                      scc_020   \n",
       "26                      scc_020   \n",
       "27                      scc_020   \n",
       "28   eac_average_coassoc_matrix   \n",
       "29                      scc_020   \n",
       "30   eac_average_coassoc_matrix   \n",
       "31   eac_average_coassoc_matrix   \n",
       "32   eac_average_coassoc_matrix   \n",
       "33   eac_average_coassoc_matrix   \n",
       "34                      scc_020   \n",
       "35                      scc_020   \n",
       "36                      scc_020   \n",
       "37   eac_average_coassoc_matrix   \n",
       "38   eac_average_coassoc_matrix   \n",
       "39   eac_average_coassoc_matrix   \n",
       "40                      scc_020   \n",
       "41   eac_average_coassoc_matrix   \n",
       "42   eac_average_coassoc_matrix   \n",
       "43   eac_average_coassoc_matrix   \n",
       "44   eac_average_coassoc_matrix   \n",
       "45   eac_average_coassoc_matrix   \n",
       "46                      scc_020   \n",
       "47   eac_average_coassoc_matrix   \n",
       "48   eac_average_coassoc_matrix   \n",
       "49   eac_average_coassoc_matrix   \n",
       "50    eac_single_coassoc_matrix   \n",
       "51    eac_single_coassoc_matrix   \n",
       "52    eac_single_coassoc_matrix   \n",
       "53    eac_single_coassoc_matrix   \n",
       "54    eac_single_coassoc_matrix   \n",
       "55    eac_single_coassoc_matrix   \n",
       "56    eac_single_coassoc_matrix   \n",
       "57    eac_single_coassoc_matrix   \n",
       "58    eac_single_coassoc_matrix   \n",
       "59    eac_single_coassoc_matrix   \n",
       "60    eac_single_coassoc_matrix   \n",
       "\n",
       "                                            partition  ari_median  \n",
       "k                                                                  \n",
       "2   [1, 1, 1, 0, 0, 0, 0, 0, 1, 0, 1, 1, 0, 1, 0, ...    0.076657  \n",
       "3   [1, 1, 1, 2, 2, 2, 2, 2, 1, 2, 1, 1, 2, 1, 2, ...    0.063797  \n",
       "4   [0, 0, 0, 0, 0, 0, 0, 0, 3, 0, 3, 3, 0, 3, 0, ...    0.085510  \n",
       "5   [0, 0, 0, 0, 0, 0, 0, 0, 4, 0, 4, 4, 0, 0, 0, ...    0.087086  \n",
       "6   [2, 2, 2, 2, 2, 2, 2, 2, 2, 2, 2, 2, 2, 2, 2, ...    0.088920  \n",
       "7   [2, 2, 2, 2, 2, 2, 2, 2, 2, 2, 2, 2, 2, 2, 2, ...    0.088937  \n",
       "8   [2, 2, 2, 2, 2, 2, 2, 2, 2, 2, 2, 2, 2, 2, 2, ...    0.088831  \n",
       "9   [2, 2, 2, 2, 2, 2, 2, 2, 2, 2, 2, 2, 2, 2, 2, ...    0.088777  \n",
       "10  [2, 2, 2, 2, 2, 2, 2, 2, 2, 2, 2, 2, 2, 2, 2, ...    0.088763  \n",
       "11  [0, 0, 0, 0, 0, 0, 0, 0, 0, 0, 0, 0, 0, 0, 0, ...    0.089616  \n",
       "12  [9, 9, 9, 9, 9, 9, 9, 9, 9, 9, 9, 9, 9, 9, 9, ...    0.089870  \n",
       "13  [0, 0, 0, 0, 0, 0, 0, 0, 0, 0, 0, 0, 0, 0, 0, ...    0.089920  \n",
       "14  [0, 0, 0, 0, 0, 0, 0, 0, 0, 0, 0, 0, 0, 0, 0, ...    0.090117  \n",
       "15  [0, 0, 0, 0, 0, 0, 0, 0, 0, 0, 0, 0, 0, 0, 0, ...    0.089346  \n",
       "16  [0, 0, 0, 0, 0, 0, 0, 0, 0, 0, 0, 0, 0, 0, 0, ...    0.088662  \n",
       "17  [12, 12, 12, 12, 12, 12, 12, 12, 12, 0, 12, 12...    0.085905  \n",
       "18  [12, 12, 12, 12, 12, 12, 12, 12, 12, 0, 12, 12...    0.085456  \n",
       "19  [12, 12, 12, 12, 12, 12, 12, 12, 12, 2, 12, 12...    0.084572  \n",
       "20  [12, 12, 12, 12, 12, 12, 12, 12, 12, 0, 12, 12...    0.084003  \n",
       "21  [12, 12, 12, 12, 12, 12, 12, 12, 12, 2, 12, 12...    0.083086  \n",
       "22  [13, 18, 18, 18, 18, 18, 18, 18, 18, 13, 18, 1...    0.090100  \n",
       "23  [0, 20, 20, 20, 20, 20, 20, 20, 20, 0, 20, 20,...    0.085928  \n",
       "24  [0, 22, 22, 22, 22, 22, 22, 22, 22, 0, 22, 22,...    0.085412  \n",
       "25  [0, 21, 21, 21, 21, 21, 21, 21, 21, 0, 21, 21,...    0.087029  \n",
       "26  [0, 21, 21, 21, 21, 21, 21, 21, 21, 0, 21, 21,...    0.086943  \n",
       "27  [0, 21, 21, 21, 21, 21, 21, 21, 21, 0, 21, 21,...    0.083724  \n",
       "28  [25, 25, 25, 25, 25, 25, 25, 25, 25, 2, 25, 25...    0.079577  \n",
       "29  [0, 22, 22, 22, 22, 22, 22, 22, 22, 0, 22, 22,...    0.086230  \n",
       "30  [25, 25, 25, 25, 25, 25, 25, 25, 25, 2, 25, 25...    0.079458  \n",
       "31  [25, 25, 25, 25, 25, 25, 25, 25, 25, 2, 25, 25...    0.082944  \n",
       "32  [25, 25, 25, 25, 25, 25, 25, 25, 25, 0, 25, 25...    0.082943  \n",
       "33  [25, 25, 25, 25, 25, 25, 25, 25, 25, 9, 25, 25...    0.075348  \n",
       "34  [0, 24, 24, 24, 24, 24, 24, 24, 24, 0, 24, 24,...    0.071889  \n",
       "35  [0, 24, 24, 24, 24, 24, 24, 24, 24, 0, 24, 24,...    0.075844  \n",
       "36  [33, 28, 28, 28, 28, 28, 28, 28, 28, 33, 28, 2...    0.071622  \n",
       "37  [25, 25, 25, 25, 25, 25, 25, 25, 25, 1, 25, 25...    0.071015  \n",
       "38  [25, 25, 25, 25, 25, 25, 25, 25, 25, 1, 25, 25...    0.071027  \n",
       "39  [25, 25, 25, 25, 25, 25, 25, 25, 25, 0, 25, 25...    0.071029  \n",
       "40  [0, 26, 26, 26, 26, 26, 26, 26, 26, 0, 26, 26,...    0.071269  \n",
       "41  [25, 25, 25, 25, 25, 25, 25, 25, 25, 11, 25, 2...    0.059952  \n",
       "42  [25, 25, 25, 25, 25, 25, 25, 25, 25, 11, 25, 2...    0.059965  \n",
       "43  [25, 25, 25, 25, 25, 25, 25, 25, 25, 5, 25, 25...    0.057659  \n",
       "44  [25, 25, 25, 25, 25, 25, 25, 25, 25, 5, 25, 25...    0.057650  \n",
       "45  [25, 25, 25, 25, 25, 25, 25, 25, 25, 2, 25, 25...    0.057654  \n",
       "46  [33, 31, 31, 31, 31, 31, 31, 31, 31, 33, 31, 3...    0.064938  \n",
       "47  [25, 25, 25, 25, 25, 25, 25, 25, 25, 6, 25, 25...    0.053401  \n",
       "48  [25, 25, 25, 25, 25, 25, 25, 25, 25, 6, 25, 25...    0.051845  \n",
       "49  [25, 25, 25, 25, 25, 25, 25, 25, 25, 6, 25, 25...    0.051895  \n",
       "50  [0, 0, 0, 0, 0, 0, 0, 0, 0, 0, 0, 0, 0, 0, 0, ...    0.055433  \n",
       "51  [0, 0, 0, 0, 0, 0, 0, 0, 0, 0, 0, 0, 0, 0, 0, ...    0.055547  \n",
       "52  [0, 0, 0, 0, 0, 0, 0, 0, 0, 0, 0, 0, 0, 0, 0, ...    0.055809  \n",
       "53  [0, 0, 0, 0, 0, 0, 0, 0, 0, 0, 0, 0, 0, 0, 0, ...    0.055591  \n",
       "54  [0, 0, 0, 0, 0, 0, 0, 0, 0, 0, 0, 0, 0, 0, 0, ...    0.055779  \n",
       "55  [0, 0, 0, 0, 0, 0, 0, 0, 0, 0, 0, 0, 0, 0, 0, ...    0.056551  \n",
       "56  [0, 0, 0, 0, 0, 0, 0, 0, 0, 0, 0, 0, 0, 0, 0, ...    0.056860  \n",
       "57  [0, 0, 0, 0, 0, 0, 0, 0, 0, 0, 0, 0, 0, 0, 0, ...    0.056791  \n",
       "58  [0, 0, 0, 0, 0, 0, 0, 0, 0, 0, 0, 0, 0, 0, 0, ...    0.057045  \n",
       "59  [0, 0, 0, 0, 0, 0, 0, 0, 0, 0, 0, 0, 0, 0, 0, ...    0.056917  \n",
       "60  [0, 0, 0, 0, 0, 0, 0, 0, 0, 0, 0, 0, 0, 0, 0, ...    0.056800  "
      ]
     },
     "execution_count": 16,
     "metadata": {},
     "output_type": "execute_result"
    }
   ],
   "source": [
    "best_parts.sort_values(\"k\")"
   ]
  },
  {
   "cell_type": "markdown",
   "metadata": {
    "papermill": {
     "duration": 0.014796,
     "end_time": "2021-05-08T22:58:36.852393",
     "exception": false,
     "start_time": "2021-05-08T22:58:36.837597",
     "status": "completed"
    },
    "tags": []
   },
   "source": [
    "## Select partitions with highest agreement"
   ]
  },
  {
   "cell_type": "markdown",
   "metadata": {
    "papermill": {
     "duration": 0.015036,
     "end_time": "2021-05-08T22:58:36.882450",
     "exception": false,
     "start_time": "2021-05-08T22:58:36.867414",
     "status": "completed"
    },
    "tags": []
   },
   "source": [
    "We do not expect all partitions with different `k` to be good ones. Thus, here I select the partitions with an ensemble agreement that pass a relative high threshold (75th percentile)."
   ]
  },
  {
   "cell_type": "code",
   "execution_count": 17,
   "metadata": {
    "execution": {
     "iopub.execute_input": "2021-05-08T22:58:36.916858Z",
     "iopub.status.busy": "2021-05-08T22:58:36.916393Z",
     "iopub.status.idle": "2021-05-08T22:58:36.932075Z",
     "shell.execute_reply": "2021-05-08T22:58:36.931640Z"
    },
    "papermill": {
     "duration": 0.034264,
     "end_time": "2021-05-08T22:58:36.932174",
     "exception": false,
     "start_time": "2021-05-08T22:58:36.897910",
     "status": "completed"
    },
    "tags": []
   },
   "outputs": [
    {
     "data": {
      "text/plain": [
       "count    59.000000\n",
       "mean      0.073919\n",
       "std       0.013812\n",
       "min       0.051845\n",
       "25%       0.057652\n",
       "50%       0.076657\n",
       "75%       0.086586\n",
       "max       0.090117\n",
       "Name: ari_median, dtype: float64"
      ]
     },
     "metadata": {},
     "output_type": "display_data"
    }
   ],
   "source": [
    "best_parts_stats = best_parts[_measure_col].describe()\n",
    "display(best_parts_stats)"
   ]
  },
  {
   "cell_type": "code",
   "execution_count": 18,
   "metadata": {
    "execution": {
     "iopub.execute_input": "2021-05-08T22:58:36.970244Z",
     "iopub.status.busy": "2021-05-08T22:58:36.969864Z",
     "iopub.status.idle": "2021-05-08T22:58:36.981413Z",
     "shell.execute_reply": "2021-05-08T22:58:36.981072Z"
    },
    "papermill": {
     "duration": 0.030734,
     "end_time": "2021-05-08T22:58:36.981502",
     "exception": false,
     "start_time": "2021-05-08T22:58:36.950768",
     "status": "completed"
    },
    "tags": []
   },
   "outputs": [
    {
     "data": {
      "text/plain": [
       "0.08658622143058942"
      ]
     },
     "metadata": {},
     "output_type": "display_data"
    }
   ],
   "source": [
    "best_threshold = best_parts_stats[\"75%\"]\n",
    "best_threshold_description = \"75th percentile\"\n",
    "display(best_threshold)\n",
    "\n",
    "best_parts = best_parts.assign(\n",
    "    selected=best_parts[_measure_col].apply(lambda x: x >= best_threshold)\n",
    ")"
   ]
  },
  {
   "cell_type": "code",
   "execution_count": 19,
   "metadata": {
    "execution": {
     "iopub.execute_input": "2021-05-08T22:58:37.016618Z",
     "iopub.status.busy": "2021-05-08T22:58:37.016259Z",
     "iopub.status.idle": "2021-05-08T22:58:37.026353Z",
     "shell.execute_reply": "2021-05-08T22:58:37.025981Z"
    },
    "papermill": {
     "duration": 0.027823,
     "end_time": "2021-05-08T22:58:37.026439",
     "exception": false,
     "start_time": "2021-05-08T22:58:36.998616",
     "status": "completed"
    },
    "tags": []
   },
   "outputs": [
    {
     "data": {
      "text/plain": [
       "(59, 4)"
      ]
     },
     "execution_count": 19,
     "metadata": {},
     "output_type": "execute_result"
    }
   ],
   "source": [
    "best_parts.shape"
   ]
  },
  {
   "cell_type": "code",
   "execution_count": 20,
   "metadata": {
    "execution": {
     "iopub.execute_input": "2021-05-08T22:58:37.061316Z",
     "iopub.status.busy": "2021-05-08T22:58:37.060954Z",
     "iopub.status.idle": "2021-05-08T22:58:37.078733Z",
     "shell.execute_reply": "2021-05-08T22:58:37.078360Z"
    },
    "papermill": {
     "duration": 0.035764,
     "end_time": "2021-05-08T22:58:37.078818",
     "exception": false,
     "start_time": "2021-05-08T22:58:37.043054",
     "status": "completed"
    },
    "tags": []
   },
   "outputs": [
    {
     "data": {
      "text/html": [
       "<div>\n",
       "<style scoped>\n",
       "    .dataframe tbody tr th:only-of-type {\n",
       "        vertical-align: middle;\n",
       "    }\n",
       "\n",
       "    .dataframe tbody tr th {\n",
       "        vertical-align: top;\n",
       "    }\n",
       "\n",
       "    .dataframe thead th {\n",
       "        text-align: right;\n",
       "    }\n",
       "</style>\n",
       "<table border=\"1\" class=\"dataframe\">\n",
       "  <thead>\n",
       "    <tr style=\"text-align: right;\">\n",
       "      <th></th>\n",
       "      <th>method</th>\n",
       "      <th>partition</th>\n",
       "      <th>ari_median</th>\n",
       "      <th>selected</th>\n",
       "    </tr>\n",
       "    <tr>\n",
       "      <th>k</th>\n",
       "      <th></th>\n",
       "      <th></th>\n",
       "      <th></th>\n",
       "      <th></th>\n",
       "    </tr>\n",
       "  </thead>\n",
       "  <tbody>\n",
       "    <tr>\n",
       "      <th>14</th>\n",
       "      <td>scc_025</td>\n",
       "      <td>[0, 0, 0, 0, 0, 0, 0, 0, 0, 0, 0, 0, 0, 0, 0, ...</td>\n",
       "      <td>0.090117</td>\n",
       "      <td>True</td>\n",
       "    </tr>\n",
       "    <tr>\n",
       "      <th>22</th>\n",
       "      <td>scc_020</td>\n",
       "      <td>[13, 18, 18, 18, 18, 18, 18, 18, 18, 13, 18, 1...</td>\n",
       "      <td>0.090100</td>\n",
       "      <td>True</td>\n",
       "    </tr>\n",
       "    <tr>\n",
       "      <th>13</th>\n",
       "      <td>scc_025</td>\n",
       "      <td>[0, 0, 0, 0, 0, 0, 0, 0, 0, 0, 0, 0, 0, 0, 0, ...</td>\n",
       "      <td>0.089920</td>\n",
       "      <td>True</td>\n",
       "    </tr>\n",
       "    <tr>\n",
       "      <th>12</th>\n",
       "      <td>scc_025</td>\n",
       "      <td>[9, 9, 9, 9, 9, 9, 9, 9, 9, 9, 9, 9, 9, 9, 9, ...</td>\n",
       "      <td>0.089870</td>\n",
       "      <td>True</td>\n",
       "    </tr>\n",
       "    <tr>\n",
       "      <th>11</th>\n",
       "      <td>scc_025</td>\n",
       "      <td>[0, 0, 0, 0, 0, 0, 0, 0, 0, 0, 0, 0, 0, 0, 0, ...</td>\n",
       "      <td>0.089616</td>\n",
       "      <td>True</td>\n",
       "    </tr>\n",
       "  </tbody>\n",
       "</table>\n",
       "</div>"
      ],
      "text/plain": [
       "     method                                          partition  ari_median  \\\n",
       "k                                                                            \n",
       "14  scc_025  [0, 0, 0, 0, 0, 0, 0, 0, 0, 0, 0, 0, 0, 0, 0, ...    0.090117   \n",
       "22  scc_020  [13, 18, 18, 18, 18, 18, 18, 18, 18, 13, 18, 1...    0.090100   \n",
       "13  scc_025  [0, 0, 0, 0, 0, 0, 0, 0, 0, 0, 0, 0, 0, 0, 0, ...    0.089920   \n",
       "12  scc_025  [9, 9, 9, 9, 9, 9, 9, 9, 9, 9, 9, 9, 9, 9, 9, ...    0.089870   \n",
       "11  scc_025  [0, 0, 0, 0, 0, 0, 0, 0, 0, 0, 0, 0, 0, 0, 0, ...    0.089616   \n",
       "\n",
       "    selected  \n",
       "k             \n",
       "14      True  \n",
       "22      True  \n",
       "13      True  \n",
       "12      True  \n",
       "11      True  "
      ]
     },
     "execution_count": 20,
     "metadata": {},
     "output_type": "execute_result"
    }
   ],
   "source": [
    "best_parts.head()"
   ]
  },
  {
   "cell_type": "markdown",
   "metadata": {
    "papermill": {
     "duration": 0.017389,
     "end_time": "2021-05-08T22:58:37.113462",
     "exception": false,
     "start_time": "2021-05-08T22:58:37.096073",
     "status": "completed"
    },
    "tags": []
   },
   "source": [
    "## Save best partitions per k"
   ]
  },
  {
   "cell_type": "code",
   "execution_count": 21,
   "metadata": {
    "execution": {
     "iopub.execute_input": "2021-05-08T22:58:37.147727Z",
     "iopub.status.busy": "2021-05-08T22:58:37.147354Z",
     "iopub.status.idle": "2021-05-08T22:58:37.157400Z",
     "shell.execute_reply": "2021-05-08T22:58:37.157679Z"
    },
    "papermill": {
     "duration": 0.028368,
     "end_time": "2021-05-08T22:58:37.157783",
     "exception": false,
     "start_time": "2021-05-08T22:58:37.129415",
     "status": "completed"
    },
    "tags": []
   },
   "outputs": [
    {
     "data": {
      "text/plain": [
       "PosixPath('/home/miltondp/projects/labs/greenelab/phenoplier/base/results/clustering/consensus_clustering/best_partitions_by_k.pkl')"
      ]
     },
     "metadata": {},
     "output_type": "display_data"
    }
   ],
   "source": [
    "output_file = Path(CONSENSUS_CLUSTERING_DIR, \"best_partitions_by_k.pkl\").resolve()\n",
    "display(output_file)"
   ]
  },
  {
   "cell_type": "code",
   "execution_count": 22,
   "metadata": {
    "execution": {
     "iopub.execute_input": "2021-05-08T22:58:37.194586Z",
     "iopub.status.busy": "2021-05-08T22:58:37.194198Z",
     "iopub.status.idle": "2021-05-08T22:58:37.207590Z",
     "shell.execute_reply": "2021-05-08T22:58:37.207248Z"
    },
    "papermill": {
     "duration": 0.032854,
     "end_time": "2021-05-08T22:58:37.207685",
     "exception": false,
     "start_time": "2021-05-08T22:58:37.174831",
     "status": "completed"
    },
    "tags": []
   },
   "outputs": [],
   "source": [
    "best_parts.to_pickle(output_file)"
   ]
  },
  {
   "cell_type": "markdown",
   "metadata": {
    "papermill": {
     "duration": 0.018217,
     "end_time": "2021-05-08T22:58:37.244801",
     "exception": false,
     "start_time": "2021-05-08T22:58:37.226584",
     "status": "completed"
    },
    "tags": []
   },
   "source": [
    "# Plot of selected best partitions"
   ]
  },
  {
   "cell_type": "code",
   "execution_count": 23,
   "metadata": {
    "execution": {
     "iopub.execute_input": "2021-05-08T22:58:37.280017Z",
     "iopub.status.busy": "2021-05-08T22:58:37.279661Z",
     "iopub.status.idle": "2021-05-08T22:58:37.298092Z",
     "shell.execute_reply": "2021-05-08T22:58:37.297716Z"
    },
    "papermill": {
     "duration": 0.037012,
     "end_time": "2021-05-08T22:58:37.298177",
     "exception": false,
     "start_time": "2021-05-08T22:58:37.261165",
     "status": "completed"
    },
    "tags": []
   },
   "outputs": [
    {
     "data": {
      "text/html": [
       "<div>\n",
       "<style scoped>\n",
       "    .dataframe tbody tr th:only-of-type {\n",
       "        vertical-align: middle;\n",
       "    }\n",
       "\n",
       "    .dataframe tbody tr th {\n",
       "        vertical-align: top;\n",
       "    }\n",
       "\n",
       "    .dataframe thead th {\n",
       "        text-align: right;\n",
       "    }\n",
       "</style>\n",
       "<table border=\"1\" class=\"dataframe\">\n",
       "  <thead>\n",
       "    <tr style=\"text-align: right;\">\n",
       "      <th></th>\n",
       "      <th>k</th>\n",
       "      <th>method</th>\n",
       "      <th>partition</th>\n",
       "      <th>ari_median</th>\n",
       "      <th>selected</th>\n",
       "    </tr>\n",
       "  </thead>\n",
       "  <tbody>\n",
       "    <tr>\n",
       "      <th>0</th>\n",
       "      <td>14</td>\n",
       "      <td>scc_025</td>\n",
       "      <td>[0, 0, 0, 0, 0, 0, 0, 0, 0, 0, 0, 0, 0, 0, 0, ...</td>\n",
       "      <td>0.090117</td>\n",
       "      <td>True</td>\n",
       "    </tr>\n",
       "    <tr>\n",
       "      <th>1</th>\n",
       "      <td>22</td>\n",
       "      <td>scc_020</td>\n",
       "      <td>[13, 18, 18, 18, 18, 18, 18, 18, 18, 13, 18, 1...</td>\n",
       "      <td>0.090100</td>\n",
       "      <td>True</td>\n",
       "    </tr>\n",
       "    <tr>\n",
       "      <th>2</th>\n",
       "      <td>13</td>\n",
       "      <td>scc_025</td>\n",
       "      <td>[0, 0, 0, 0, 0, 0, 0, 0, 0, 0, 0, 0, 0, 0, 0, ...</td>\n",
       "      <td>0.089920</td>\n",
       "      <td>True</td>\n",
       "    </tr>\n",
       "    <tr>\n",
       "      <th>3</th>\n",
       "      <td>12</td>\n",
       "      <td>scc_025</td>\n",
       "      <td>[9, 9, 9, 9, 9, 9, 9, 9, 9, 9, 9, 9, 9, 9, 9, ...</td>\n",
       "      <td>0.089870</td>\n",
       "      <td>True</td>\n",
       "    </tr>\n",
       "    <tr>\n",
       "      <th>4</th>\n",
       "      <td>11</td>\n",
       "      <td>scc_025</td>\n",
       "      <td>[0, 0, 0, 0, 0, 0, 0, 0, 0, 0, 0, 0, 0, 0, 0, ...</td>\n",
       "      <td>0.089616</td>\n",
       "      <td>True</td>\n",
       "    </tr>\n",
       "  </tbody>\n",
       "</table>\n",
       "</div>"
      ],
      "text/plain": [
       "    k   method                                          partition  ari_median  \\\n",
       "0  14  scc_025  [0, 0, 0, 0, 0, 0, 0, 0, 0, 0, 0, 0, 0, 0, 0, ...    0.090117   \n",
       "1  22  scc_020  [13, 18, 18, 18, 18, 18, 18, 18, 18, 13, 18, 1...    0.090100   \n",
       "2  13  scc_025  [0, 0, 0, 0, 0, 0, 0, 0, 0, 0, 0, 0, 0, 0, 0, ...    0.089920   \n",
       "3  12  scc_025  [9, 9, 9, 9, 9, 9, 9, 9, 9, 9, 9, 9, 9, 9, 9, ...    0.089870   \n",
       "4  11  scc_025  [0, 0, 0, 0, 0, 0, 0, 0, 0, 0, 0, 0, 0, 0, 0, ...    0.089616   \n",
       "\n",
       "   selected  \n",
       "0      True  \n",
       "1      True  \n",
       "2      True  \n",
       "3      True  \n",
       "4      True  "
      ]
     },
     "metadata": {},
     "output_type": "display_data"
    }
   ],
   "source": [
    "plot_data = best_parts.reset_index()\n",
    "display(plot_data.head(5))"
   ]
  },
  {
   "cell_type": "code",
   "execution_count": 24,
   "metadata": {
    "execution": {
     "iopub.execute_input": "2021-05-08T22:58:37.335889Z",
     "iopub.status.busy": "2021-05-08T22:58:37.335520Z",
     "iopub.status.idle": "2021-05-08T22:58:38.936618Z",
     "shell.execute_reply": "2021-05-08T22:58:38.936965Z"
    },
    "papermill": {
     "duration": 1.621645,
     "end_time": "2021-05-08T22:58:38.937080",
     "exception": false,
     "start_time": "2021-05-08T22:58:37.315435",
     "status": "completed"
    },
    "tags": []
   },
   "outputs": [
    {
     "data": {
      "image/png": "[encoded data removed]",
      "text/plain": [
       "<Figure size 864x432 with 1 Axes>"
      ]
     },
     "metadata": {},
     "output_type": "display_data"
    }
   ],
   "source": [
    "with sns.plotting_context(\"talk\", font_scale=0.75), sns.axes_style(\n",
    "    \"whitegrid\", {\"grid.linestyle\": \"--\"}\n",
    "), sns.color_palette(\"muted\"):\n",
    "    current_palette = iter(sns.color_palette())\n",
    "\n",
    "    fig, ax = plt.subplots(figsize=(12, 6))\n",
    "    ax = sns.pointplot(\n",
    "        data=plot_data, x=\"k\", y=_measure_col, color=next(current_palette)\n",
    "    )\n",
    "    ax.axhline(\n",
    "        best_threshold,\n",
    "        ls=\"--\",\n",
    "        color=next(current_palette),\n",
    "        label=best_threshold_description,\n",
    "    )\n",
    "    ax.set_ylabel(f\"Agreement with ensemble\\n({_selected_stat} {_selected_measure})\")\n",
    "    ax.set_xlabel(\"Number of clusters ($k$)\")\n",
    "    ax.set_xticklabels(ax.get_xticklabels(), rotation=45)\n",
    "    plt.legend()\n",
    "    plt.grid(True)\n",
    "    plt.tight_layout()"
   ]
  },
  {
   "cell_type": "markdown",
   "metadata": {
    "papermill": {
     "duration": 0.019071,
     "end_time": "2021-05-08T22:58:38.976456",
     "exception": false,
     "start_time": "2021-05-08T22:58:38.957385",
     "status": "completed"
    },
    "tags": []
   },
   "source": [
    "The horizontal line in the plot is the median of the average agreement value; partitions above that line are marked as selected for downstream analysis"
   ]
  },
  {
   "cell_type": "code",
   "execution_count": 25,
   "metadata": {
    "execution": {
     "iopub.execute_input": "2021-05-08T22:58:39.015974Z",
     "iopub.status.busy": "2021-05-08T22:58:39.015615Z",
     "iopub.status.idle": "2021-05-08T22:58:39.044376Z",
     "shell.execute_reply": "2021-05-08T22:58:39.044001Z"
    },
    "papermill": {
     "duration": 0.049534,
     "end_time": "2021-05-08T22:58:39.044464",
     "exception": false,
     "start_time": "2021-05-08T22:58:38.994930",
     "status": "completed"
    },
    "tags": []
   },
   "outputs": [
    {
     "data": {
      "text/html": [
       "<div>\n",
       "<style scoped>\n",
       "    .dataframe tbody tr th:only-of-type {\n",
       "        vertical-align: middle;\n",
       "    }\n",
       "\n",
       "    .dataframe tbody tr th {\n",
       "        vertical-align: top;\n",
       "    }\n",
       "\n",
       "    .dataframe thead th {\n",
       "        text-align: right;\n",
       "    }\n",
       "</style>\n",
       "<table border=\"1\" class=\"dataframe\">\n",
       "  <thead>\n",
       "    <tr style=\"text-align: right;\">\n",
       "      <th></th>\n",
       "      <th>k</th>\n",
       "      <th>method</th>\n",
       "      <th>partition</th>\n",
       "      <th>ari_median</th>\n",
       "      <th>selected</th>\n",
       "    </tr>\n",
       "  </thead>\n",
       "  <tbody>\n",
       "    <tr>\n",
       "      <th>12</th>\n",
       "      <td>5</td>\n",
       "      <td>scc_030</td>\n",
       "      <td>[0, 0, 0, 0, 0, 0, 0, 0, 4, 0, 4, 4, 0, 0, 0, ...</td>\n",
       "      <td>0.087086</td>\n",
       "      <td>True</td>\n",
       "    </tr>\n",
       "    <tr>\n",
       "      <th>7</th>\n",
       "      <td>6</td>\n",
       "      <td>eac_complete_coassoc_matrix</td>\n",
       "      <td>[2, 2, 2, 2, 2, 2, 2, 2, 2, 2, 2, 2, 2, 2, 2, ...</td>\n",
       "      <td>0.088920</td>\n",
       "      <td>True</td>\n",
       "    </tr>\n",
       "    <tr>\n",
       "      <th>6</th>\n",
       "      <td>7</td>\n",
       "      <td>eac_complete_coassoc_matrix</td>\n",
       "      <td>[2, 2, 2, 2, 2, 2, 2, 2, 2, 2, 2, 2, 2, 2, 2, ...</td>\n",
       "      <td>0.088937</td>\n",
       "      <td>True</td>\n",
       "    </tr>\n",
       "    <tr>\n",
       "      <th>8</th>\n",
       "      <td>8</td>\n",
       "      <td>eac_complete_coassoc_matrix</td>\n",
       "      <td>[2, 2, 2, 2, 2, 2, 2, 2, 2, 2, 2, 2, 2, 2, 2, ...</td>\n",
       "      <td>0.088831</td>\n",
       "      <td>True</td>\n",
       "    </tr>\n",
       "    <tr>\n",
       "      <th>9</th>\n",
       "      <td>9</td>\n",
       "      <td>eac_complete_coassoc_matrix</td>\n",
       "      <td>[2, 2, 2, 2, 2, 2, 2, 2, 2, 2, 2, 2, 2, 2, 2, ...</td>\n",
       "      <td>0.088777</td>\n",
       "      <td>True</td>\n",
       "    </tr>\n",
       "    <tr>\n",
       "      <th>10</th>\n",
       "      <td>10</td>\n",
       "      <td>eac_complete_coassoc_matrix</td>\n",
       "      <td>[2, 2, 2, 2, 2, 2, 2, 2, 2, 2, 2, 2, 2, 2, 2, ...</td>\n",
       "      <td>0.088763</td>\n",
       "      <td>True</td>\n",
       "    </tr>\n",
       "    <tr>\n",
       "      <th>4</th>\n",
       "      <td>11</td>\n",
       "      <td>scc_025</td>\n",
       "      <td>[0, 0, 0, 0, 0, 0, 0, 0, 0, 0, 0, 0, 0, 0, 0, ...</td>\n",
       "      <td>0.089616</td>\n",
       "      <td>True</td>\n",
       "    </tr>\n",
       "    <tr>\n",
       "      <th>3</th>\n",
       "      <td>12</td>\n",
       "      <td>scc_025</td>\n",
       "      <td>[9, 9, 9, 9, 9, 9, 9, 9, 9, 9, 9, 9, 9, 9, 9, ...</td>\n",
       "      <td>0.089870</td>\n",
       "      <td>True</td>\n",
       "    </tr>\n",
       "    <tr>\n",
       "      <th>2</th>\n",
       "      <td>13</td>\n",
       "      <td>scc_025</td>\n",
       "      <td>[0, 0, 0, 0, 0, 0, 0, 0, 0, 0, 0, 0, 0, 0, 0, ...</td>\n",
       "      <td>0.089920</td>\n",
       "      <td>True</td>\n",
       "    </tr>\n",
       "    <tr>\n",
       "      <th>0</th>\n",
       "      <td>14</td>\n",
       "      <td>scc_025</td>\n",
       "      <td>[0, 0, 0, 0, 0, 0, 0, 0, 0, 0, 0, 0, 0, 0, 0, ...</td>\n",
       "      <td>0.090117</td>\n",
       "      <td>True</td>\n",
       "    </tr>\n",
       "    <tr>\n",
       "      <th>5</th>\n",
       "      <td>15</td>\n",
       "      <td>scc_025</td>\n",
       "      <td>[0, 0, 0, 0, 0, 0, 0, 0, 0, 0, 0, 0, 0, 0, 0, ...</td>\n",
       "      <td>0.089346</td>\n",
       "      <td>True</td>\n",
       "    </tr>\n",
       "    <tr>\n",
       "      <th>11</th>\n",
       "      <td>16</td>\n",
       "      <td>scc_025</td>\n",
       "      <td>[0, 0, 0, 0, 0, 0, 0, 0, 0, 0, 0, 0, 0, 0, 0, ...</td>\n",
       "      <td>0.088662</td>\n",
       "      <td>True</td>\n",
       "    </tr>\n",
       "    <tr>\n",
       "      <th>1</th>\n",
       "      <td>22</td>\n",
       "      <td>scc_020</td>\n",
       "      <td>[13, 18, 18, 18, 18, 18, 18, 18, 18, 13, 18, 1...</td>\n",
       "      <td>0.090100</td>\n",
       "      <td>True</td>\n",
       "    </tr>\n",
       "    <tr>\n",
       "      <th>13</th>\n",
       "      <td>25</td>\n",
       "      <td>scc_020</td>\n",
       "      <td>[0, 21, 21, 21, 21, 21, 21, 21, 21, 0, 21, 21,...</td>\n",
       "      <td>0.087029</td>\n",
       "      <td>True</td>\n",
       "    </tr>\n",
       "    <tr>\n",
       "      <th>14</th>\n",
       "      <td>26</td>\n",
       "      <td>scc_020</td>\n",
       "      <td>[0, 21, 21, 21, 21, 21, 21, 21, 21, 0, 21, 21,...</td>\n",
       "      <td>0.086943</td>\n",
       "      <td>True</td>\n",
       "    </tr>\n",
       "  </tbody>\n",
       "</table>\n",
       "</div>"
      ],
      "text/plain": [
       "     k                       method  \\\n",
       "12   5                      scc_030   \n",
       "7    6  eac_complete_coassoc_matrix   \n",
       "6    7  eac_complete_coassoc_matrix   \n",
       "8    8  eac_complete_coassoc_matrix   \n",
       "9    9  eac_complete_coassoc_matrix   \n",
       "10  10  eac_complete_coassoc_matrix   \n",
       "4   11                      scc_025   \n",
       "3   12                      scc_025   \n",
       "2   13                      scc_025   \n",
       "0   14                      scc_025   \n",
       "5   15                      scc_025   \n",
       "11  16                      scc_025   \n",
       "1   22                      scc_020   \n",
       "13  25                      scc_020   \n",
       "14  26                      scc_020   \n",
       "\n",
       "                                            partition  ari_median  selected  \n",
       "12  [0, 0, 0, 0, 0, 0, 0, 0, 4, 0, 4, 4, 0, 0, 0, ...    0.087086      True  \n",
       "7   [2, 2, 2, 2, 2, 2, 2, 2, 2, 2, 2, 2, 2, 2, 2, ...    0.088920      True  \n",
       "6   [2, 2, 2, 2, 2, 2, 2, 2, 2, 2, 2, 2, 2, 2, 2, ...    0.088937      True  \n",
       "8   [2, 2, 2, 2, 2, 2, 2, 2, 2, 2, 2, 2, 2, 2, 2, ...    0.088831      True  \n",
       "9   [2, 2, 2, 2, 2, 2, 2, 2, 2, 2, 2, 2, 2, 2, 2, ...    0.088777      True  \n",
       "10  [2, 2, 2, 2, 2, 2, 2, 2, 2, 2, 2, 2, 2, 2, 2, ...    0.088763      True  \n",
       "4   [0, 0, 0, 0, 0, 0, 0, 0, 0, 0, 0, 0, 0, 0, 0, ...    0.089616      True  \n",
       "3   [9, 9, 9, 9, 9, 9, 9, 9, 9, 9, 9, 9, 9, 9, 9, ...    0.089870      True  \n",
       "2   [0, 0, 0, 0, 0, 0, 0, 0, 0, 0, 0, 0, 0, 0, 0, ...    0.089920      True  \n",
       "0   [0, 0, 0, 0, 0, 0, 0, 0, 0, 0, 0, 0, 0, 0, 0, ...    0.090117      True  \n",
       "5   [0, 0, 0, 0, 0, 0, 0, 0, 0, 0, 0, 0, 0, 0, 0, ...    0.089346      True  \n",
       "11  [0, 0, 0, 0, 0, 0, 0, 0, 0, 0, 0, 0, 0, 0, 0, ...    0.088662      True  \n",
       "1   [13, 18, 18, 18, 18, 18, 18, 18, 18, 13, 18, 1...    0.090100      True  \n",
       "13  [0, 21, 21, 21, 21, 21, 21, 21, 21, 0, 21, 21,...    0.087029      True  \n",
       "14  [0, 21, 21, 21, 21, 21, 21, 21, 21, 0, 21, 21,...    0.086943      True  "
      ]
     },
     "execution_count": 25,
     "metadata": {},
     "output_type": "execute_result"
    }
   ],
   "source": [
    "# this list shows the selected final partitions, and which methods achieved the highest agreement\n",
    "plot_data[plot_data[\"selected\"]].sort_values(\"k\")"
   ]
  },
  {
   "cell_type": "markdown",
   "metadata": {
    "papermill": {
     "duration": 0.019094,
     "end_time": "2021-05-08T22:58:39.083563",
     "exception": false,
     "start_time": "2021-05-08T22:58:39.064469",
     "status": "completed"
    },
    "tags": []
   },
   "source": [
    "From the two evidence accumulation approaches (EAC) we are using, the spectral clustering based one does it better for almost all `k` values, whereas the hierarchical clustering based approach seems to do a little bit better for lower `k`."
   ]
  },
  {
   "cell_type": "code",
   "execution_count": null,
   "metadata": {
    "papermill": {
     "duration": 0.018743,
     "end_time": "2021-05-08T22:58:39.121198",
     "exception": false,
     "start_time": "2021-05-08T22:58:39.102455",
     "status": "completed"
    },
    "tags": []
   },
   "outputs": [],
   "source": []
  }
 ],
 "metadata": {
  "jupytext": {
   "cell_metadata_filter": "all,-execution,-papermill,-trusted",
   "formats": "ipynb,py//py:percent"
  },
  "kernelspec": {
   "display_name": "Python 3",
   "language": "python",
   "name": "python3"
  },
  "language_info": {
   "codemirror_mode": {
    "name": "ipython",
    "version": 3
   },
   "file_extension": ".py",
   "mimetype": "text/x-python",
   "name": "python",
   "nbconvert_exporter": "python",
   "pygments_lexer": "ipython3",
   "version": "3.8.8"
  },
  "papermill": {
   "default_parameters": {},
   "duration": 6.997296,
   "end_time": "2021-05-08T22:58:39.547636",
   "environment_variables": {},
   "exception": null,
   "input_path": "16_consensus_clustering/030_01-get_best_partitions.ipynb",
   "output_path": "16_consensus_clustering/030_01-get_best_partitions.run.ipynb",
   "parameters": {},
   "start_time": "2021-05-08T22:58:32.550340",
   "version": "2.2.2"
  },
  "toc-autonumbering": true,
  "toc-showcode": false,
  "toc-showmarkdowntxt": false,
  "toc-showtags": false
 },
 "nbformat": 4,
 "nbformat_minor": 4
}
