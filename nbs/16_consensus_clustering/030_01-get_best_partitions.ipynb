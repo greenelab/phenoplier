{
 "cells": [
  {
   "cell_type": "markdown",
   "metadata": {
    "papermill": {
     "duration": 0.043947,
     "end_time": "2021-02-16T05:03:56.497043",
     "exception": false,
     "start_time": "2021-02-16T05:03:56.453096",
     "status": "completed"
    },
    "tags": []
   },
   "source": [
    "# Description"
   ]
  },
  {
   "cell_type": "markdown",
   "metadata": {
    "papermill": {
     "duration": 0.011036,
     "end_time": "2021-02-16T05:03:56.523251",
     "exception": false,
     "start_time": "2021-02-16T05:03:56.512215",
     "status": "completed"
    },
    "tags": []
   },
   "source": [
    "It analyzes how consensus partitions generated before agree with the ensemble, and selects the best ones for downstream analyses."
   ]
  },
  {
   "cell_type": "markdown",
   "metadata": {
    "papermill": {
     "duration": 0.010715,
     "end_time": "2021-02-16T05:03:56.544939",
     "exception": false,
     "start_time": "2021-02-16T05:03:56.534224",
     "status": "completed"
    },
    "tags": []
   },
   "source": [
    "# Modules loading"
   ]
  },
  {
   "cell_type": "code",
   "execution_count": 1,
   "metadata": {
    "execution": {
     "iopub.execute_input": "2021-02-16T05:03:56.570114Z",
     "iopub.status.busy": "2021-02-16T05:03:56.569737Z",
     "iopub.status.idle": "2021-02-16T05:03:56.577582Z",
     "shell.execute_reply": "2021-02-16T05:03:56.577141Z"
    },
    "papermill": {
     "duration": 0.021964,
     "end_time": "2021-02-16T05:03:56.577707",
     "exception": false,
     "start_time": "2021-02-16T05:03:56.555743",
     "status": "completed"
    },
    "tags": []
   },
   "outputs": [],
   "source": [
    "%load_ext autoreload\n",
    "%autoreload 2"
   ]
  },
  {
   "cell_type": "code",
   "execution_count": 2,
   "metadata": {
    "execution": {
     "iopub.execute_input": "2021-02-16T05:03:56.602978Z",
     "iopub.status.busy": "2021-02-16T05:03:56.602540Z",
     "iopub.status.idle": "2021-02-16T05:03:57.144215Z",
     "shell.execute_reply": "2021-02-16T05:03:57.143832Z"
    },
    "papermill": {
     "duration": 0.55522,
     "end_time": "2021-02-16T05:03:57.144304",
     "exception": false,
     "start_time": "2021-02-16T05:03:56.589084",
     "status": "completed"
    },
    "tags": []
   },
   "outputs": [],
   "source": [
    "from pathlib import Path\n",
    "from IPython.display import display\n",
    "\n",
    "import pandas as pd\n",
    "import matplotlib.pyplot as plt\n",
    "import seaborn as sns\n",
    "\n",
    "import conf"
   ]
  },
  {
   "cell_type": "markdown",
   "metadata": {
    "papermill": {
     "duration": 0.011158,
     "end_time": "2021-02-16T05:03:57.166718",
     "exception": false,
     "start_time": "2021-02-16T05:03:57.155560",
     "status": "completed"
    },
    "tags": []
   },
   "source": [
    "# Load consensus clustering results"
   ]
  },
  {
   "cell_type": "code",
   "execution_count": 3,
   "metadata": {
    "execution": {
     "iopub.execute_input": "2021-02-16T05:03:57.191085Z",
     "iopub.status.busy": "2021-02-16T05:03:57.190714Z",
     "iopub.status.idle": "2021-02-16T05:03:57.202380Z",
     "shell.execute_reply": "2021-02-16T05:03:57.202666Z"
    },
    "papermill": {
     "duration": 0.025273,
     "end_time": "2021-02-16T05:03:57.202774",
     "exception": false,
     "start_time": "2021-02-16T05:03:57.177501",
     "status": "completed"
    },
    "tags": []
   },
   "outputs": [
    {
     "data": {
      "text/plain": [
       "PosixPath('/home/miltondp/projects/labs/greenelab/phenoplier/base3/results/clustering/consensus_clustering')"
      ]
     },
     "metadata": {},
     "output_type": "display_data"
    }
   ],
   "source": [
    "CONSENSUS_CLUSTERING_DIR = Path(\n",
    "    conf.RESULTS[\"CLUSTERING_DIR\"], \"consensus_clustering\"\n",
    ").resolve()\n",
    "\n",
    "display(CONSENSUS_CLUSTERING_DIR)"
   ]
  },
  {
   "cell_type": "code",
   "execution_count": 4,
   "metadata": {
    "execution": {
     "iopub.execute_input": "2021-02-16T05:03:57.228548Z",
     "iopub.status.busy": "2021-02-16T05:03:57.228183Z",
     "iopub.status.idle": "2021-02-16T05:03:57.238488Z",
     "shell.execute_reply": "2021-02-16T05:03:57.238170Z"
    },
    "papermill": {
     "duration": 0.023737,
     "end_time": "2021-02-16T05:03:57.238591",
     "exception": false,
     "start_time": "2021-02-16T05:03:57.214854",
     "status": "completed"
    },
    "tags": []
   },
   "outputs": [
    {
     "data": {
      "text/plain": [
       "PosixPath('/home/miltondp/projects/labs/greenelab/phenoplier/base3/results/clustering/consensus_clustering/consensus_clustering_runs.pkl')"
      ]
     },
     "metadata": {},
     "output_type": "display_data"
    }
   ],
   "source": [
    "input_file = Path(CONSENSUS_CLUSTERING_DIR, \"consensus_clustering_runs.pkl\").resolve()\n",
    "display(input_file)"
   ]
  },
  {
   "cell_type": "code",
   "execution_count": 5,
   "metadata": {
    "execution": {
     "iopub.execute_input": "2021-02-16T05:03:57.264561Z",
     "iopub.status.busy": "2021-02-16T05:03:57.264189Z",
     "iopub.status.idle": "2021-02-16T05:03:57.313688Z",
     "shell.execute_reply": "2021-02-16T05:03:57.314064Z"
    },
    "papermill": {
     "duration": 0.063739,
     "end_time": "2021-02-16T05:03:57.314204",
     "exception": false,
     "start_time": "2021-02-16T05:03:57.250465",
     "status": "completed"
    },
    "tags": []
   },
   "outputs": [],
   "source": [
    "consensus_clustering_results = pd.read_pickle(input_file)"
   ]
  },
  {
   "cell_type": "code",
   "execution_count": 6,
   "metadata": {
    "execution": {
     "iopub.execute_input": "2021-02-16T05:03:57.346648Z",
     "iopub.status.busy": "2021-02-16T05:03:57.346175Z",
     "iopub.status.idle": "2021-02-16T05:03:57.358340Z",
     "shell.execute_reply": "2021-02-16T05:03:57.357886Z"
    },
    "papermill": {
     "duration": 0.029158,
     "end_time": "2021-02-16T05:03:57.358442",
     "exception": false,
     "start_time": "2021-02-16T05:03:57.329284",
     "status": "completed"
    },
    "tags": []
   },
   "outputs": [
    {
     "data": {
      "text/plain": [
       "(413, 12)"
      ]
     },
     "execution_count": 6,
     "metadata": {},
     "output_type": "execute_result"
    }
   ],
   "source": [
    "consensus_clustering_results.shape"
   ]
  },
  {
   "cell_type": "code",
   "execution_count": 7,
   "metadata": {
    "execution": {
     "iopub.execute_input": "2021-02-16T05:03:57.387243Z",
     "iopub.status.busy": "2021-02-16T05:03:57.386870Z",
     "iopub.status.idle": "2021-02-16T05:03:57.410755Z",
     "shell.execute_reply": "2021-02-16T05:03:57.410353Z"
    },
    "papermill": {
     "duration": 0.038271,
     "end_time": "2021-02-16T05:03:57.410846",
     "exception": false,
     "start_time": "2021-02-16T05:03:57.372575",
     "status": "completed"
    },
    "tags": []
   },
   "outputs": [
    {
     "data": {
      "text/html": [
       "<div>\n",
       "<style scoped>\n",
       "    .dataframe tbody tr th:only-of-type {\n",
       "        vertical-align: middle;\n",
       "    }\n",
       "\n",
       "    .dataframe tbody tr th {\n",
       "        vertical-align: top;\n",
       "    }\n",
       "\n",
       "    .dataframe thead th {\n",
       "        text-align: right;\n",
       "    }\n",
       "</style>\n",
       "<table border=\"1\" class=\"dataframe\">\n",
       "  <thead>\n",
       "    <tr style=\"text-align: right;\">\n",
       "      <th></th>\n",
       "      <th>method</th>\n",
       "      <th>partition</th>\n",
       "      <th>k</th>\n",
       "      <th>ari_mean</th>\n",
       "      <th>ari_median</th>\n",
       "      <th>ari_std</th>\n",
       "      <th>ami_mean</th>\n",
       "      <th>ami_median</th>\n",
       "      <th>ami_std</th>\n",
       "      <th>nmi_mean</th>\n",
       "      <th>nmi_median</th>\n",
       "      <th>nmi_std</th>\n",
       "    </tr>\n",
       "  </thead>\n",
       "  <tbody>\n",
       "    <tr>\n",
       "      <th>0</th>\n",
       "      <td>eac_average_coassoc_matrix</td>\n",
       "      <td>[0, 0, 0, 0, 0, 0, 0, 0, 0, 0, 0, 0, 0, 0, 0, ...</td>\n",
       "      <td>2</td>\n",
       "      <td>0.226733</td>\n",
       "      <td>0.010542</td>\n",
       "      <td>0.351673</td>\n",
       "      <td>0.238194</td>\n",
       "      <td>0.055225</td>\n",
       "      <td>0.325239</td>\n",
       "      <td>0.240435</td>\n",
       "      <td>0.057239</td>\n",
       "      <td>0.324510</td>\n",
       "    </tr>\n",
       "    <tr>\n",
       "      <th>1</th>\n",
       "      <td>eac_average_coassoc_matrix</td>\n",
       "      <td>[0, 0, 0, 0, 0, 0, 0, 0, 0, 0, 0, 0, 0, 0, 0, ...</td>\n",
       "      <td>3</td>\n",
       "      <td>0.242829</td>\n",
       "      <td>0.015836</td>\n",
       "      <td>0.359734</td>\n",
       "      <td>0.266882</td>\n",
       "      <td>0.080544</td>\n",
       "      <td>0.325173</td>\n",
       "      <td>0.270462</td>\n",
       "      <td>0.083603</td>\n",
       "      <td>0.323833</td>\n",
       "    </tr>\n",
       "    <tr>\n",
       "      <th>2</th>\n",
       "      <td>eac_average_coassoc_matrix</td>\n",
       "      <td>[2, 2, 2, 2, 2, 2, 2, 2, 2, 2, 2, 2, 2, 2, 2, ...</td>\n",
       "      <td>4</td>\n",
       "      <td>0.260508</td>\n",
       "      <td>0.032736</td>\n",
       "      <td>0.339536</td>\n",
       "      <td>0.296430</td>\n",
       "      <td>0.131213</td>\n",
       "      <td>0.279790</td>\n",
       "      <td>0.301305</td>\n",
       "      <td>0.135507</td>\n",
       "      <td>0.277920</td>\n",
       "    </tr>\n",
       "    <tr>\n",
       "      <th>3</th>\n",
       "      <td>eac_average_coassoc_matrix</td>\n",
       "      <td>[0, 0, 0, 0, 0, 0, 0, 0, 0, 0, 0, 0, 0, 0, 0, ...</td>\n",
       "      <td>5</td>\n",
       "      <td>0.260519</td>\n",
       "      <td>0.032744</td>\n",
       "      <td>0.339554</td>\n",
       "      <td>0.298287</td>\n",
       "      <td>0.132804</td>\n",
       "      <td>0.281202</td>\n",
       "      <td>0.303842</td>\n",
       "      <td>0.138038</td>\n",
       "      <td>0.278911</td>\n",
       "    </tr>\n",
       "    <tr>\n",
       "      <th>4</th>\n",
       "      <td>eac_average_coassoc_matrix</td>\n",
       "      <td>[0, 0, 0, 0, 0, 0, 0, 0, 0, 0, 0, 0, 0, 0, 0, ...</td>\n",
       "      <td>6</td>\n",
       "      <td>0.165668</td>\n",
       "      <td>0.091730</td>\n",
       "      <td>0.200208</td>\n",
       "      <td>0.268626</td>\n",
       "      <td>0.236109</td>\n",
       "      <td>0.128800</td>\n",
       "      <td>0.275338</td>\n",
       "      <td>0.237406</td>\n",
       "      <td>0.128180</td>\n",
       "    </tr>\n",
       "  </tbody>\n",
       "</table>\n",
       "</div>"
      ],
      "text/plain": [
       "                       method  \\\n",
       "0  eac_average_coassoc_matrix   \n",
       "1  eac_average_coassoc_matrix   \n",
       "2  eac_average_coassoc_matrix   \n",
       "3  eac_average_coassoc_matrix   \n",
       "4  eac_average_coassoc_matrix   \n",
       "\n",
       "                                           partition  k  ari_mean  ari_median  \\\n",
       "0  [0, 0, 0, 0, 0, 0, 0, 0, 0, 0, 0, 0, 0, 0, 0, ...  2  0.226733    0.010542   \n",
       "1  [0, 0, 0, 0, 0, 0, 0, 0, 0, 0, 0, 0, 0, 0, 0, ...  3  0.242829    0.015836   \n",
       "2  [2, 2, 2, 2, 2, 2, 2, 2, 2, 2, 2, 2, 2, 2, 2, ...  4  0.260508    0.032736   \n",
       "3  [0, 0, 0, 0, 0, 0, 0, 0, 0, 0, 0, 0, 0, 0, 0, ...  5  0.260519    0.032744   \n",
       "4  [0, 0, 0, 0, 0, 0, 0, 0, 0, 0, 0, 0, 0, 0, 0, ...  6  0.165668    0.091730   \n",
       "\n",
       "    ari_std  ami_mean  ami_median   ami_std  nmi_mean  nmi_median   nmi_std  \n",
       "0  0.351673  0.238194    0.055225  0.325239  0.240435    0.057239  0.324510  \n",
       "1  0.359734  0.266882    0.080544  0.325173  0.270462    0.083603  0.323833  \n",
       "2  0.339536  0.296430    0.131213  0.279790  0.301305    0.135507  0.277920  \n",
       "3  0.339554  0.298287    0.132804  0.281202  0.303842    0.138038  0.278911  \n",
       "4  0.200208  0.268626    0.236109  0.128800  0.275338    0.237406  0.128180  "
      ]
     },
     "execution_count": 7,
     "metadata": {},
     "output_type": "execute_result"
    }
   ],
   "source": [
    "consensus_clustering_results.head()"
   ]
  },
  {
   "cell_type": "markdown",
   "metadata": {
    "papermill": {
     "duration": 0.011714,
     "end_time": "2021-02-16T05:03:57.435391",
     "exception": false,
     "start_time": "2021-02-16T05:03:57.423677",
     "status": "completed"
    },
    "tags": []
   },
   "source": [
    "# Explore best partition per k"
   ]
  },
  {
   "cell_type": "code",
   "execution_count": 8,
   "metadata": {
    "execution": {
     "iopub.execute_input": "2021-02-16T05:03:57.462083Z",
     "iopub.status.busy": "2021-02-16T05:03:57.461711Z",
     "iopub.status.idle": "2021-02-16T05:03:57.517374Z",
     "shell.execute_reply": "2021-02-16T05:03:57.517671Z"
    },
    "papermill": {
     "duration": 0.070552,
     "end_time": "2021-02-16T05:03:57.517777",
     "exception": false,
     "start_time": "2021-02-16T05:03:57.447225",
     "status": "completed"
    },
    "tags": []
   },
   "outputs": [
    {
     "data": {
      "text/html": [
       "<div>\n",
       "<style scoped>\n",
       "    .dataframe tbody tr th:only-of-type {\n",
       "        vertical-align: middle;\n",
       "    }\n",
       "\n",
       "    .dataframe tbody tr th {\n",
       "        vertical-align: top;\n",
       "    }\n",
       "\n",
       "    .dataframe thead th {\n",
       "        text-align: right;\n",
       "    }\n",
       "</style>\n",
       "<table border=\"1\" class=\"dataframe\">\n",
       "  <thead>\n",
       "    <tr style=\"text-align: right;\">\n",
       "      <th></th>\n",
       "      <th></th>\n",
       "      <th>method</th>\n",
       "      <th>k</th>\n",
       "      <th>ami_mean</th>\n",
       "      <th>ami_median</th>\n",
       "    </tr>\n",
       "    <tr>\n",
       "      <th>k</th>\n",
       "      <th></th>\n",
       "      <th></th>\n",
       "      <th></th>\n",
       "      <th></th>\n",
       "      <th></th>\n",
       "    </tr>\n",
       "  </thead>\n",
       "  <tbody>\n",
       "    <tr>\n",
       "      <th>11</th>\n",
       "      <th>304</th>\n",
       "      <td>scc_020</td>\n",
       "      <td>11</td>\n",
       "      <td>0.301837</td>\n",
       "      <td>0.135451</td>\n",
       "    </tr>\n",
       "    <tr>\n",
       "      <th>10</th>\n",
       "      <th>303</th>\n",
       "      <td>scc_020</td>\n",
       "      <td>10</td>\n",
       "      <td>0.301736</td>\n",
       "      <td>0.134304</td>\n",
       "    </tr>\n",
       "    <tr>\n",
       "      <th>9</th>\n",
       "      <th>302</th>\n",
       "      <td>scc_020</td>\n",
       "      <td>9</td>\n",
       "      <td>0.301299</td>\n",
       "      <td>0.133668</td>\n",
       "    </tr>\n",
       "    <tr>\n",
       "      <th>8</th>\n",
       "      <th>301</th>\n",
       "      <td>scc_020</td>\n",
       "      <td>8</td>\n",
       "      <td>0.300169</td>\n",
       "      <td>0.133086</td>\n",
       "    </tr>\n",
       "    <tr>\n",
       "      <th>7</th>\n",
       "      <th>300</th>\n",
       "      <td>scc_020</td>\n",
       "      <td>7</td>\n",
       "      <td>0.299448</td>\n",
       "      <td>0.131352</td>\n",
       "    </tr>\n",
       "    <tr>\n",
       "      <th>13</th>\n",
       "      <th>306</th>\n",
       "      <td>scc_020</td>\n",
       "      <td>13</td>\n",
       "      <td>0.298894</td>\n",
       "      <td>0.142181</td>\n",
       "    </tr>\n",
       "    <tr>\n",
       "      <th>5</th>\n",
       "      <th>3</th>\n",
       "      <td>eac_average_coassoc_matrix</td>\n",
       "      <td>5</td>\n",
       "      <td>0.298287</td>\n",
       "      <td>0.132804</td>\n",
       "    </tr>\n",
       "    <tr>\n",
       "      <th>4</th>\n",
       "      <th>2</th>\n",
       "      <td>eac_average_coassoc_matrix</td>\n",
       "      <td>4</td>\n",
       "      <td>0.296430</td>\n",
       "      <td>0.131213</td>\n",
       "    </tr>\n",
       "    <tr>\n",
       "      <th>18</th>\n",
       "      <th>311</th>\n",
       "      <td>scc_020</td>\n",
       "      <td>18</td>\n",
       "      <td>0.294079</td>\n",
       "      <td>0.160420</td>\n",
       "    </tr>\n",
       "    <tr>\n",
       "      <th>14</th>\n",
       "      <th>307</th>\n",
       "      <td>scc_020</td>\n",
       "      <td>14</td>\n",
       "      <td>0.293653</td>\n",
       "      <td>0.146382</td>\n",
       "    </tr>\n",
       "  </tbody>\n",
       "</table>\n",
       "</div>"
      ],
      "text/plain": [
       "                            method   k  ami_mean  ami_median\n",
       "k                                                           \n",
       "11 304                     scc_020  11  0.301837    0.135451\n",
       "10 303                     scc_020  10  0.301736    0.134304\n",
       "9  302                     scc_020   9  0.301299    0.133668\n",
       "8  301                     scc_020   8  0.300169    0.133086\n",
       "7  300                     scc_020   7  0.299448    0.131352\n",
       "13 306                     scc_020  13  0.298894    0.142181\n",
       "5  3    eac_average_coassoc_matrix   5  0.298287    0.132804\n",
       "4  2    eac_average_coassoc_matrix   4  0.296430    0.131213\n",
       "18 311                     scc_020  18  0.294079    0.160420\n",
       "14 307                     scc_020  14  0.293653    0.146382"
      ]
     },
     "metadata": {},
     "output_type": "display_data"
    }
   ],
   "source": [
    "_col0, _col1 = \"ami_mean\", \"ami_median\"\n",
    "_tmp = (\n",
    "    consensus_clustering_results.groupby(\"k\")\n",
    "    .apply(lambda x: x.sort_values(_col0, ascending=False).head(1))\n",
    "    .sort_values(_col0, ascending=False)[[\"method\", \"k\", _col0, _col1]]\n",
    ")\n",
    "display(_tmp.head(10))"
   ]
  },
  {
   "cell_type": "code",
   "execution_count": 9,
   "metadata": {
    "execution": {
     "iopub.execute_input": "2021-02-16T05:03:57.546324Z",
     "iopub.status.busy": "2021-02-16T05:03:57.545929Z",
     "iopub.status.idle": "2021-02-16T05:03:59.441929Z",
     "shell.execute_reply": "2021-02-16T05:03:59.442211Z"
    },
    "papermill": {
     "duration": 1.912101,
     "end_time": "2021-02-16T05:03:59.442353",
     "exception": false,
     "start_time": "2021-02-16T05:03:57.530252",
     "status": "completed"
    },
    "tags": []
   },
   "outputs": [
    {
     "data": {
      "image/png": "[encoded data removed]",
      "text/plain": [
       "<Figure size 864x432 with 1 Axes>"
      ]
     },
     "metadata": {},
     "output_type": "display_data"
    }
   ],
   "source": [
    "with sns.plotting_context(\"talk\", font_scale=0.75), sns.axes_style(\n",
    "    \"whitegrid\", {\"grid.linestyle\": \"--\"}\n",
    "):\n",
    "    fig, ax = plt.subplots(figsize=(12, 6))\n",
    "    ax = sns.pointplot(data=_tmp, x=\"k\", y=_col0, ci=None, label=\"One\")\n",
    "    ax = sns.pointplot(\n",
    "        data=_tmp, x=\"k\", y=_col1, ci=None, color=\"red\", label=\"Two\", ax=ax\n",
    "    )\n",
    "    ax.set_ylabel(\"Agreement with ensemble (AMI)\")\n",
    "    ax.set_xlabel(\"Number of clusters ($k$)\")\n",
    "    ax.set_xticklabels(ax.get_xticklabels(), rotation=45)\n",
    "    plt.legend(labels=[\"Mean\", \"Median\"])\n",
    "    plt.grid(True)\n",
    "    plt.tight_layout()"
   ]
  },
  {
   "cell_type": "markdown",
   "metadata": {
    "papermill": {
     "duration": 0.013676,
     "end_time": "2021-02-16T05:03:59.469927",
     "exception": false,
     "start_time": "2021-02-16T05:03:59.456251",
     "status": "completed"
    },
    "tags": []
   },
   "source": [
    "# Select best partition per k"
   ]
  },
  {
   "cell_type": "code",
   "execution_count": 10,
   "metadata": {
    "execution": {
     "iopub.execute_input": "2021-02-16T05:03:59.500784Z",
     "iopub.status.busy": "2021-02-16T05:03:59.500379Z",
     "iopub.status.idle": "2021-02-16T05:03:59.549133Z",
     "shell.execute_reply": "2021-02-16T05:03:59.548682Z"
    },
    "papermill": {
     "duration": 0.065528,
     "end_time": "2021-02-16T05:03:59.549220",
     "exception": false,
     "start_time": "2021-02-16T05:03:59.483692",
     "status": "completed"
    },
    "tags": []
   },
   "outputs": [],
   "source": [
    "_measure_col = \"ami_mean\"\n",
    "best_parts = (\n",
    "    consensus_clustering_results.groupby(\"k\")\n",
    "    .apply(lambda x: x.sort_values(_measure_col, ascending=False).head(1))\n",
    "    .sort_values(_measure_col, ascending=False)[\n",
    "        [\"method\", \"k\", \"partition\", _measure_col]\n",
    "    ]\n",
    ")"
   ]
  },
  {
   "cell_type": "code",
   "execution_count": 11,
   "metadata": {
    "execution": {
     "iopub.execute_input": "2021-02-16T05:03:59.580094Z",
     "iopub.status.busy": "2021-02-16T05:03:59.579730Z",
     "iopub.status.idle": "2021-02-16T05:03:59.589764Z",
     "shell.execute_reply": "2021-02-16T05:03:59.590050Z"
    },
    "papermill": {
     "duration": 0.02653,
     "end_time": "2021-02-16T05:03:59.590158",
     "exception": false,
     "start_time": "2021-02-16T05:03:59.563628",
     "status": "completed"
    },
    "tags": []
   },
   "outputs": [],
   "source": [
    "best_parts = best_parts.set_index(\"k\")"
   ]
  },
  {
   "cell_type": "code",
   "execution_count": 12,
   "metadata": {
    "execution": {
     "iopub.execute_input": "2021-02-16T05:03:59.621588Z",
     "iopub.status.busy": "2021-02-16T05:03:59.621221Z",
     "iopub.status.idle": "2021-02-16T05:03:59.631656Z",
     "shell.execute_reply": "2021-02-16T05:03:59.631317Z"
    },
    "papermill": {
     "duration": 0.026961,
     "end_time": "2021-02-16T05:03:59.631750",
     "exception": false,
     "start_time": "2021-02-16T05:03:59.604789",
     "status": "completed"
    },
    "tags": []
   },
   "outputs": [
    {
     "data": {
      "text/plain": [
       "(59, 3)"
      ]
     },
     "execution_count": 12,
     "metadata": {},
     "output_type": "execute_result"
    }
   ],
   "source": [
    "best_parts.shape"
   ]
  },
  {
   "cell_type": "code",
   "execution_count": 13,
   "metadata": {
    "execution": {
     "iopub.execute_input": "2021-02-16T05:03:59.664619Z",
     "iopub.status.busy": "2021-02-16T05:03:59.664256Z",
     "iopub.status.idle": "2021-02-16T05:03:59.688678Z",
     "shell.execute_reply": "2021-02-16T05:03:59.688291Z"
    },
    "papermill": {
     "duration": 0.041281,
     "end_time": "2021-02-16T05:03:59.688774",
     "exception": false,
     "start_time": "2021-02-16T05:03:59.647493",
     "status": "completed"
    },
    "tags": []
   },
   "outputs": [
    {
     "data": {
      "text/html": [
       "<div>\n",
       "<style scoped>\n",
       "    .dataframe tbody tr th:only-of-type {\n",
       "        vertical-align: middle;\n",
       "    }\n",
       "\n",
       "    .dataframe tbody tr th {\n",
       "        vertical-align: top;\n",
       "    }\n",
       "\n",
       "    .dataframe thead th {\n",
       "        text-align: right;\n",
       "    }\n",
       "</style>\n",
       "<table border=\"1\" class=\"dataframe\">\n",
       "  <thead>\n",
       "    <tr style=\"text-align: right;\">\n",
       "      <th></th>\n",
       "      <th>method</th>\n",
       "      <th>partition</th>\n",
       "      <th>ami_mean</th>\n",
       "    </tr>\n",
       "    <tr>\n",
       "      <th>k</th>\n",
       "      <th></th>\n",
       "      <th></th>\n",
       "      <th></th>\n",
       "    </tr>\n",
       "  </thead>\n",
       "  <tbody>\n",
       "    <tr>\n",
       "      <th>11</th>\n",
       "      <td>scc_020</td>\n",
       "      <td>[0, 0, 0, 0, 0, 0, 0, 0, 0, 0, 0, 0, 0, 0, 0, ...</td>\n",
       "      <td>0.301837</td>\n",
       "    </tr>\n",
       "    <tr>\n",
       "      <th>10</th>\n",
       "      <td>scc_020</td>\n",
       "      <td>[0, 0, 0, 0, 0, 0, 0, 0, 0, 0, 0, 0, 0, 0, 0, ...</td>\n",
       "      <td>0.301736</td>\n",
       "    </tr>\n",
       "    <tr>\n",
       "      <th>9</th>\n",
       "      <td>scc_020</td>\n",
       "      <td>[0, 0, 0, 0, 0, 0, 0, 0, 0, 0, 0, 0, 0, 0, 0, ...</td>\n",
       "      <td>0.301299</td>\n",
       "    </tr>\n",
       "    <tr>\n",
       "      <th>8</th>\n",
       "      <td>scc_020</td>\n",
       "      <td>[0, 0, 0, 0, 0, 0, 0, 0, 0, 0, 0, 0, 0, 0, 0, ...</td>\n",
       "      <td>0.300169</td>\n",
       "    </tr>\n",
       "    <tr>\n",
       "      <th>7</th>\n",
       "      <td>scc_020</td>\n",
       "      <td>[0, 0, 0, 0, 0, 0, 0, 0, 0, 0, 0, 0, 0, 0, 0, ...</td>\n",
       "      <td>0.299448</td>\n",
       "    </tr>\n",
       "    <tr>\n",
       "      <th>13</th>\n",
       "      <td>scc_020</td>\n",
       "      <td>[0, 0, 0, 0, 0, 0, 0, 0, 0, 0, 0, 0, 0, 0, 0, ...</td>\n",
       "      <td>0.298894</td>\n",
       "    </tr>\n",
       "    <tr>\n",
       "      <th>5</th>\n",
       "      <td>eac_average_coassoc_matrix</td>\n",
       "      <td>[0, 0, 0, 0, 0, 0, 0, 0, 0, 0, 0, 0, 0, 0, 0, ...</td>\n",
       "      <td>0.298287</td>\n",
       "    </tr>\n",
       "    <tr>\n",
       "      <th>4</th>\n",
       "      <td>eac_average_coassoc_matrix</td>\n",
       "      <td>[2, 2, 2, 2, 2, 2, 2, 2, 2, 2, 2, 2, 2, 2, 2, ...</td>\n",
       "      <td>0.296430</td>\n",
       "    </tr>\n",
       "    <tr>\n",
       "      <th>18</th>\n",
       "      <td>scc_020</td>\n",
       "      <td>[0, 0, 0, 0, 0, 0, 0, 0, 0, 0, 0, 0, 0, 0, 0, ...</td>\n",
       "      <td>0.294079</td>\n",
       "    </tr>\n",
       "    <tr>\n",
       "      <th>14</th>\n",
       "      <td>scc_020</td>\n",
       "      <td>[0, 0, 0, 0, 0, 0, 0, 0, 0, 0, 0, 0, 0, 0, 0, ...</td>\n",
       "      <td>0.293653</td>\n",
       "    </tr>\n",
       "  </tbody>\n",
       "</table>\n",
       "</div>"
      ],
      "text/plain": [
       "                        method  \\\n",
       "k                                \n",
       "11                     scc_020   \n",
       "10                     scc_020   \n",
       "9                      scc_020   \n",
       "8                      scc_020   \n",
       "7                      scc_020   \n",
       "13                     scc_020   \n",
       "5   eac_average_coassoc_matrix   \n",
       "4   eac_average_coassoc_matrix   \n",
       "18                     scc_020   \n",
       "14                     scc_020   \n",
       "\n",
       "                                            partition  ami_mean  \n",
       "k                                                                \n",
       "11  [0, 0, 0, 0, 0, 0, 0, 0, 0, 0, 0, 0, 0, 0, 0, ...  0.301837  \n",
       "10  [0, 0, 0, 0, 0, 0, 0, 0, 0, 0, 0, 0, 0, 0, 0, ...  0.301736  \n",
       "9   [0, 0, 0, 0, 0, 0, 0, 0, 0, 0, 0, 0, 0, 0, 0, ...  0.301299  \n",
       "8   [0, 0, 0, 0, 0, 0, 0, 0, 0, 0, 0, 0, 0, 0, 0, ...  0.300169  \n",
       "7   [0, 0, 0, 0, 0, 0, 0, 0, 0, 0, 0, 0, 0, 0, 0, ...  0.299448  \n",
       "13  [0, 0, 0, 0, 0, 0, 0, 0, 0, 0, 0, 0, 0, 0, 0, ...  0.298894  \n",
       "5   [0, 0, 0, 0, 0, 0, 0, 0, 0, 0, 0, 0, 0, 0, 0, ...  0.298287  \n",
       "4   [2, 2, 2, 2, 2, 2, 2, 2, 2, 2, 2, 2, 2, 2, 2, ...  0.296430  \n",
       "18  [0, 0, 0, 0, 0, 0, 0, 0, 0, 0, 0, 0, 0, 0, 0, ...  0.294079  \n",
       "14  [0, 0, 0, 0, 0, 0, 0, 0, 0, 0, 0, 0, 0, 0, 0, ...  0.293653  "
      ]
     },
     "execution_count": 13,
     "metadata": {},
     "output_type": "execute_result"
    }
   ],
   "source": [
    "# show partitions with top ARI\n",
    "best_parts.head(10)"
   ]
  },
  {
   "cell_type": "code",
   "execution_count": 14,
   "metadata": {
    "execution": {
     "iopub.execute_input": "2021-02-16T05:03:59.722253Z",
     "iopub.status.busy": "2021-02-16T05:03:59.721875Z",
     "iopub.status.idle": "2021-02-16T05:03:59.793526Z",
     "shell.execute_reply": "2021-02-16T05:03:59.793154Z"
    },
    "papermill": {
     "duration": 0.08945,
     "end_time": "2021-02-16T05:03:59.793612",
     "exception": false,
     "start_time": "2021-02-16T05:03:59.704162",
     "status": "completed"
    },
    "tags": []
   },
   "outputs": [
    {
     "data": {
      "text/html": [
       "<div>\n",
       "<style scoped>\n",
       "    .dataframe tbody tr th:only-of-type {\n",
       "        vertical-align: middle;\n",
       "    }\n",
       "\n",
       "    .dataframe tbody tr th {\n",
       "        vertical-align: top;\n",
       "    }\n",
       "\n",
       "    .dataframe thead th {\n",
       "        text-align: right;\n",
       "    }\n",
       "</style>\n",
       "<table border=\"1\" class=\"dataframe\">\n",
       "  <thead>\n",
       "    <tr style=\"text-align: right;\">\n",
       "      <th></th>\n",
       "      <th>method</th>\n",
       "      <th>partition</th>\n",
       "      <th>ami_mean</th>\n",
       "    </tr>\n",
       "    <tr>\n",
       "      <th>k</th>\n",
       "      <th></th>\n",
       "      <th></th>\n",
       "      <th></th>\n",
       "    </tr>\n",
       "  </thead>\n",
       "  <tbody>\n",
       "    <tr>\n",
       "      <th>2</th>\n",
       "      <td>eac_average_coassoc_matrix</td>\n",
       "      <td>[0, 0, 0, 0, 0, 0, 0, 0, 0, 0, 0, 0, 0, 0, 0, ...</td>\n",
       "      <td>0.238194</td>\n",
       "    </tr>\n",
       "    <tr>\n",
       "      <th>3</th>\n",
       "      <td>eac_complete_coassoc_matrix</td>\n",
       "      <td>[0, 0, 0, 0, 0, 0, 0, 0, 0, 0, 0, 0, 0, 0, 0, ...</td>\n",
       "      <td>0.268836</td>\n",
       "    </tr>\n",
       "    <tr>\n",
       "      <th>4</th>\n",
       "      <td>eac_average_coassoc_matrix</td>\n",
       "      <td>[2, 2, 2, 2, 2, 2, 2, 2, 2, 2, 2, 2, 2, 2, 2, ...</td>\n",
       "      <td>0.296430</td>\n",
       "    </tr>\n",
       "    <tr>\n",
       "      <th>5</th>\n",
       "      <td>eac_average_coassoc_matrix</td>\n",
       "      <td>[0, 0, 0, 0, 0, 0, 0, 0, 0, 0, 0, 0, 0, 0, 0, ...</td>\n",
       "      <td>0.298287</td>\n",
       "    </tr>\n",
       "    <tr>\n",
       "      <th>6</th>\n",
       "      <td>eac_single_coassoc_matrix</td>\n",
       "      <td>[1, 1, 1, 1, 1, 1, 1, 1, 1, 1, 1, 1, 1, 1, 1, ...</td>\n",
       "      <td>0.288249</td>\n",
       "    </tr>\n",
       "    <tr>\n",
       "      <th>7</th>\n",
       "      <td>scc_020</td>\n",
       "      <td>[0, 0, 0, 0, 0, 0, 0, 0, 0, 0, 0, 0, 0, 0, 0, ...</td>\n",
       "      <td>0.299448</td>\n",
       "    </tr>\n",
       "    <tr>\n",
       "      <th>8</th>\n",
       "      <td>scc_020</td>\n",
       "      <td>[0, 0, 0, 0, 0, 0, 0, 0, 0, 0, 0, 0, 0, 0, 0, ...</td>\n",
       "      <td>0.300169</td>\n",
       "    </tr>\n",
       "    <tr>\n",
       "      <th>9</th>\n",
       "      <td>scc_020</td>\n",
       "      <td>[0, 0, 0, 0, 0, 0, 0, 0, 0, 0, 0, 0, 0, 0, 0, ...</td>\n",
       "      <td>0.301299</td>\n",
       "    </tr>\n",
       "    <tr>\n",
       "      <th>10</th>\n",
       "      <td>scc_020</td>\n",
       "      <td>[0, 0, 0, 0, 0, 0, 0, 0, 0, 0, 0, 0, 0, 0, 0, ...</td>\n",
       "      <td>0.301736</td>\n",
       "    </tr>\n",
       "    <tr>\n",
       "      <th>11</th>\n",
       "      <td>scc_020</td>\n",
       "      <td>[0, 0, 0, 0, 0, 0, 0, 0, 0, 0, 0, 0, 0, 0, 0, ...</td>\n",
       "      <td>0.301837</td>\n",
       "    </tr>\n",
       "    <tr>\n",
       "      <th>12</th>\n",
       "      <td>eac_average_coassoc_matrix</td>\n",
       "      <td>[1, 1, 1, 1, 1, 1, 1, 1, 1, 1, 1, 1, 1, 1, 1, ...</td>\n",
       "      <td>0.277288</td>\n",
       "    </tr>\n",
       "    <tr>\n",
       "      <th>13</th>\n",
       "      <td>scc_020</td>\n",
       "      <td>[0, 0, 0, 0, 0, 0, 0, 0, 0, 0, 0, 0, 0, 0, 0, ...</td>\n",
       "      <td>0.298894</td>\n",
       "    </tr>\n",
       "    <tr>\n",
       "      <th>14</th>\n",
       "      <td>scc_020</td>\n",
       "      <td>[0, 0, 0, 0, 0, 0, 0, 0, 0, 0, 0, 0, 0, 0, 0, ...</td>\n",
       "      <td>0.293653</td>\n",
       "    </tr>\n",
       "    <tr>\n",
       "      <th>15</th>\n",
       "      <td>eac_average_coassoc_matrix</td>\n",
       "      <td>[2, 2, 2, 2, 2, 2, 2, 2, 2, 2, 2, 2, 2, 2, 2, ...</td>\n",
       "      <td>0.279465</td>\n",
       "    </tr>\n",
       "    <tr>\n",
       "      <th>16</th>\n",
       "      <td>scc_025</td>\n",
       "      <td>[0, 0, 0, 0, 0, 0, 0, 0, 0, 0, 0, 0, 0, 0, 0, ...</td>\n",
       "      <td>0.289049</td>\n",
       "    </tr>\n",
       "    <tr>\n",
       "      <th>17</th>\n",
       "      <td>eac_average_coassoc_matrix</td>\n",
       "      <td>[2, 2, 2, 2, 2, 2, 2, 2, 2, 3, 2, 2, 2, 2, 2, ...</td>\n",
       "      <td>0.280788</td>\n",
       "    </tr>\n",
       "    <tr>\n",
       "      <th>18</th>\n",
       "      <td>scc_020</td>\n",
       "      <td>[0, 0, 0, 0, 0, 0, 0, 0, 0, 0, 0, 0, 0, 0, 0, ...</td>\n",
       "      <td>0.294079</td>\n",
       "    </tr>\n",
       "    <tr>\n",
       "      <th>19</th>\n",
       "      <td>eac_average_coassoc_matrix</td>\n",
       "      <td>[2, 2, 2, 2, 2, 2, 2, 2, 2, 3, 2, 2, 2, 2, 2, ...</td>\n",
       "      <td>0.282250</td>\n",
       "    </tr>\n",
       "    <tr>\n",
       "      <th>20</th>\n",
       "      <td>eac_average_coassoc_matrix</td>\n",
       "      <td>[0, 0, 0, 0, 0, 0, 0, 0, 0, 3, 0, 0, 0, 0, 0, ...</td>\n",
       "      <td>0.282288</td>\n",
       "    </tr>\n",
       "    <tr>\n",
       "      <th>21</th>\n",
       "      <td>scc_025</td>\n",
       "      <td>[2, 2, 2, 2, 2, 2, 2, 2, 2, 2, 2, 2, 2, 2, 2, ...</td>\n",
       "      <td>0.289008</td>\n",
       "    </tr>\n",
       "    <tr>\n",
       "      <th>22</th>\n",
       "      <td>scc_025</td>\n",
       "      <td>[0, 0, 0, 0, 0, 0, 0, 0, 0, 0, 0, 0, 0, 0, 0, ...</td>\n",
       "      <td>0.289751</td>\n",
       "    </tr>\n",
       "    <tr>\n",
       "      <th>23</th>\n",
       "      <td>scc_025</td>\n",
       "      <td>[0, 0, 0, 0, 0, 0, 0, 0, 21, 0, 0, 0, 0, 0, 0,...</td>\n",
       "      <td>0.287525</td>\n",
       "    </tr>\n",
       "    <tr>\n",
       "      <th>24</th>\n",
       "      <td>eac_average_coassoc_matrix</td>\n",
       "      <td>[7, 7, 7, 7, 7, 7, 7, 7, 7, 1, 7, 7, 7, 7, 7, ...</td>\n",
       "      <td>0.280325</td>\n",
       "    </tr>\n",
       "    <tr>\n",
       "      <th>25</th>\n",
       "      <td>scc_025</td>\n",
       "      <td>[1, 1, 1, 1, 1, 1, 1, 1, 1, 1, 1, 1, 1, 1, 1, ...</td>\n",
       "      <td>0.289148</td>\n",
       "    </tr>\n",
       "    <tr>\n",
       "      <th>26</th>\n",
       "      <td>eac_average_coassoc_matrix</td>\n",
       "      <td>[7, 7, 7, 7, 7, 7, 7, 7, 7, 0, 7, 7, 7, 7, 7, ...</td>\n",
       "      <td>0.280252</td>\n",
       "    </tr>\n",
       "    <tr>\n",
       "      <th>27</th>\n",
       "      <td>scc_025</td>\n",
       "      <td>[22, 22, 22, 22, 22, 22, 22, 22, 22, 0, 22, 22...</td>\n",
       "      <td>0.287374</td>\n",
       "    </tr>\n",
       "    <tr>\n",
       "      <th>28</th>\n",
       "      <td>scc_025</td>\n",
       "      <td>[27, 27, 27, 27, 27, 27, 27, 27, 27, 0, 27, 27...</td>\n",
       "      <td>0.290527</td>\n",
       "    </tr>\n",
       "    <tr>\n",
       "      <th>29</th>\n",
       "      <td>scc_025</td>\n",
       "      <td>[26, 26, 26, 26, 26, 26, 26, 26, 26, 1, 26, 26...</td>\n",
       "      <td>0.291886</td>\n",
       "    </tr>\n",
       "    <tr>\n",
       "      <th>30</th>\n",
       "      <td>eac_average_coassoc_matrix</td>\n",
       "      <td>[7, 7, 7, 7, 7, 7, 7, 7, 7, 1, 7, 7, 7, 7, 7, ...</td>\n",
       "      <td>0.272974</td>\n",
       "    </tr>\n",
       "    <tr>\n",
       "      <th>31</th>\n",
       "      <td>scc_025</td>\n",
       "      <td>[23, 23, 23, 23, 23, 23, 23, 23, 23, 0, 23, 23...</td>\n",
       "      <td>0.291954</td>\n",
       "    </tr>\n",
       "    <tr>\n",
       "      <th>32</th>\n",
       "      <td>eac_average_coassoc_matrix</td>\n",
       "      <td>[7, 7, 7, 7, 7, 7, 7, 7, 7, 2, 7, 7, 7, 7, 7, ...</td>\n",
       "      <td>0.271632</td>\n",
       "    </tr>\n",
       "    <tr>\n",
       "      <th>33</th>\n",
       "      <td>scc_020</td>\n",
       "      <td>[31, 31, 31, 31, 31, 31, 31, 31, 31, 1, 31, 31...</td>\n",
       "      <td>0.285982</td>\n",
       "    </tr>\n",
       "    <tr>\n",
       "      <th>34</th>\n",
       "      <td>eac_average_coassoc_matrix</td>\n",
       "      <td>[3, 3, 3, 3, 3, 3, 3, 3, 3, 7, 3, 3, 3, 3, 3, ...</td>\n",
       "      <td>0.270537</td>\n",
       "    </tr>\n",
       "    <tr>\n",
       "      <th>35</th>\n",
       "      <td>eac_average_coassoc_matrix</td>\n",
       "      <td>[1, 1, 1, 1, 1, 1, 1, 1, 1, 3, 1, 1, 1, 1, 1, ...</td>\n",
       "      <td>0.270589</td>\n",
       "    </tr>\n",
       "    <tr>\n",
       "      <th>36</th>\n",
       "      <td>scc_020</td>\n",
       "      <td>[31, 31, 31, 31, 31, 31, 31, 31, 31, 0, 31, 31...</td>\n",
       "      <td>0.282319</td>\n",
       "    </tr>\n",
       "    <tr>\n",
       "      <th>37</th>\n",
       "      <td>eac_average_coassoc_matrix</td>\n",
       "      <td>[1, 1, 1, 1, 1, 1, 1, 1, 1, 3, 1, 1, 1, 1, 1, ...</td>\n",
       "      <td>0.270546</td>\n",
       "    </tr>\n",
       "    <tr>\n",
       "      <th>38</th>\n",
       "      <td>eac_average_coassoc_matrix</td>\n",
       "      <td>[1, 1, 1, 1, 1, 1, 1, 1, 1, 3, 1, 1, 1, 1, 1, ...</td>\n",
       "      <td>0.269894</td>\n",
       "    </tr>\n",
       "    <tr>\n",
       "      <th>39</th>\n",
       "      <td>eac_average_coassoc_matrix</td>\n",
       "      <td>[1, 1, 1, 1, 1, 1, 1, 1, 1, 3, 1, 1, 1, 1, 1, ...</td>\n",
       "      <td>0.272441</td>\n",
       "    </tr>\n",
       "    <tr>\n",
       "      <th>40</th>\n",
       "      <td>eac_average_coassoc_matrix</td>\n",
       "      <td>[1, 1, 1, 1, 1, 1, 1, 1, 1, 3, 1, 1, 1, 1, 1, ...</td>\n",
       "      <td>0.271920</td>\n",
       "    </tr>\n",
       "    <tr>\n",
       "      <th>41</th>\n",
       "      <td>eac_average_coassoc_matrix</td>\n",
       "      <td>[0, 0, 0, 0, 0, 0, 0, 0, 0, 1, 0, 0, 0, 0, 0, ...</td>\n",
       "      <td>0.272192</td>\n",
       "    </tr>\n",
       "    <tr>\n",
       "      <th>42</th>\n",
       "      <td>scc_020</td>\n",
       "      <td>[33, 33, 33, 33, 33, 33, 33, 33, 33, 0, 33, 33...</td>\n",
       "      <td>0.289837</td>\n",
       "    </tr>\n",
       "    <tr>\n",
       "      <th>43</th>\n",
       "      <td>scc_020</td>\n",
       "      <td>[32, 32, 32, 32, 32, 32, 32, 32, 32, 0, 32, 32...</td>\n",
       "      <td>0.286901</td>\n",
       "    </tr>\n",
       "    <tr>\n",
       "      <th>44</th>\n",
       "      <td>scc_020</td>\n",
       "      <td>[25, 25, 25, 25, 25, 25, 25, 25, 25, 1, 25, 25...</td>\n",
       "      <td>0.282981</td>\n",
       "    </tr>\n",
       "    <tr>\n",
       "      <th>45</th>\n",
       "      <td>scc_020</td>\n",
       "      <td>[28, 28, 28, 28, 28, 28, 28, 28, 28, 30, 28, 2...</td>\n",
       "      <td>0.266096</td>\n",
       "    </tr>\n",
       "    <tr>\n",
       "      <th>46</th>\n",
       "      <td>scc_020</td>\n",
       "      <td>[29, 29, 29, 29, 29, 29, 29, 29, 29, 0, 29, 29...</td>\n",
       "      <td>0.270564</td>\n",
       "    </tr>\n",
       "    <tr>\n",
       "      <th>47</th>\n",
       "      <td>eac_average_coassoc_matrix</td>\n",
       "      <td>[42, 42, 42, 42, 42, 42, 42, 42, 42, 6, 42, 42...</td>\n",
       "      <td>0.249185</td>\n",
       "    </tr>\n",
       "    <tr>\n",
       "      <th>48</th>\n",
       "      <td>scc_020</td>\n",
       "      <td>[47, 47, 47, 47, 47, 47, 47, 47, 47, 44, 47, 4...</td>\n",
       "      <td>0.254944</td>\n",
       "    </tr>\n",
       "    <tr>\n",
       "      <th>49</th>\n",
       "      <td>scc_020</td>\n",
       "      <td>[38, 38, 38, 38, 38, 38, 38, 38, 38, 40, 38, 3...</td>\n",
       "      <td>0.269244</td>\n",
       "    </tr>\n",
       "    <tr>\n",
       "      <th>50</th>\n",
       "      <td>eac_average_coassoc_matrix</td>\n",
       "      <td>[42, 42, 42, 42, 42, 42, 42, 42, 42, 0, 42, 42...</td>\n",
       "      <td>0.249827</td>\n",
       "    </tr>\n",
       "    <tr>\n",
       "      <th>51</th>\n",
       "      <td>scc_020</td>\n",
       "      <td>[31, 31, 31, 31, 31, 31, 31, 31, 31, 0, 31, 31...</td>\n",
       "      <td>0.258915</td>\n",
       "    </tr>\n",
       "    <tr>\n",
       "      <th>52</th>\n",
       "      <td>eac_average_coassoc_matrix</td>\n",
       "      <td>[42, 42, 42, 42, 42, 42, 42, 42, 42, 6, 42, 42...</td>\n",
       "      <td>0.245977</td>\n",
       "    </tr>\n",
       "    <tr>\n",
       "      <th>53</th>\n",
       "      <td>scc_020</td>\n",
       "      <td>[43, 43, 43, 43, 43, 43, 43, 43, 43, 22, 43, 4...</td>\n",
       "      <td>0.255081</td>\n",
       "    </tr>\n",
       "    <tr>\n",
       "      <th>54</th>\n",
       "      <td>scc_020</td>\n",
       "      <td>[35, 35, 35, 35, 35, 35, 35, 35, 35, 33, 35, 3...</td>\n",
       "      <td>0.248411</td>\n",
       "    </tr>\n",
       "    <tr>\n",
       "      <th>55</th>\n",
       "      <td>eac_average_coassoc_matrix</td>\n",
       "      <td>[42, 42, 42, 42, 42, 42, 42, 42, 42, 2, 42, 42...</td>\n",
       "      <td>0.245900</td>\n",
       "    </tr>\n",
       "    <tr>\n",
       "      <th>56</th>\n",
       "      <td>scc_020</td>\n",
       "      <td>[34, 34, 34, 34, 34, 34, 34, 34, 34, 0, 34, 34...</td>\n",
       "      <td>0.248342</td>\n",
       "    </tr>\n",
       "    <tr>\n",
       "      <th>57</th>\n",
       "      <td>scc_020</td>\n",
       "      <td>[31, 31, 31, 31, 31, 31, 31, 31, 31, 49, 31, 3...</td>\n",
       "      <td>0.247429</td>\n",
       "    </tr>\n",
       "    <tr>\n",
       "      <th>58</th>\n",
       "      <td>eac_average_coassoc_matrix</td>\n",
       "      <td>[42, 42, 42, 42, 42, 42, 42, 42, 42, 0, 42, 42...</td>\n",
       "      <td>0.243429</td>\n",
       "    </tr>\n",
       "    <tr>\n",
       "      <th>59</th>\n",
       "      <td>eac_average_coassoc_matrix</td>\n",
       "      <td>[42, 42, 42, 42, 42, 42, 42, 42, 42, 28, 42, 4...</td>\n",
       "      <td>0.241760</td>\n",
       "    </tr>\n",
       "    <tr>\n",
       "      <th>60</th>\n",
       "      <td>scc_020</td>\n",
       "      <td>[42, 42, 42, 42, 42, 42, 42, 42, 42, 40, 42, 4...</td>\n",
       "      <td>0.243954</td>\n",
       "    </tr>\n",
       "  </tbody>\n",
       "</table>\n",
       "</div>"
      ],
      "text/plain": [
       "                         method  \\\n",
       "k                                 \n",
       "2    eac_average_coassoc_matrix   \n",
       "3   eac_complete_coassoc_matrix   \n",
       "4    eac_average_coassoc_matrix   \n",
       "5    eac_average_coassoc_matrix   \n",
       "6     eac_single_coassoc_matrix   \n",
       "7                       scc_020   \n",
       "8                       scc_020   \n",
       "9                       scc_020   \n",
       "10                      scc_020   \n",
       "11                      scc_020   \n",
       "12   eac_average_coassoc_matrix   \n",
       "13                      scc_020   \n",
       "14                      scc_020   \n",
       "15   eac_average_coassoc_matrix   \n",
       "16                      scc_025   \n",
       "17   eac_average_coassoc_matrix   \n",
       "18                      scc_020   \n",
       "19   eac_average_coassoc_matrix   \n",
       "20   eac_average_coassoc_matrix   \n",
       "21                      scc_025   \n",
       "22                      scc_025   \n",
       "23                      scc_025   \n",
       "24   eac_average_coassoc_matrix   \n",
       "25                      scc_025   \n",
       "26   eac_average_coassoc_matrix   \n",
       "27                      scc_025   \n",
       "28                      scc_025   \n",
       "29                      scc_025   \n",
       "30   eac_average_coassoc_matrix   \n",
       "31                      scc_025   \n",
       "32   eac_average_coassoc_matrix   \n",
       "33                      scc_020   \n",
       "34   eac_average_coassoc_matrix   \n",
       "35   eac_average_coassoc_matrix   \n",
       "36                      scc_020   \n",
       "37   eac_average_coassoc_matrix   \n",
       "38   eac_average_coassoc_matrix   \n",
       "39   eac_average_coassoc_matrix   \n",
       "40   eac_average_coassoc_matrix   \n",
       "41   eac_average_coassoc_matrix   \n",
       "42                      scc_020   \n",
       "43                      scc_020   \n",
       "44                      scc_020   \n",
       "45                      scc_020   \n",
       "46                      scc_020   \n",
       "47   eac_average_coassoc_matrix   \n",
       "48                      scc_020   \n",
       "49                      scc_020   \n",
       "50   eac_average_coassoc_matrix   \n",
       "51                      scc_020   \n",
       "52   eac_average_coassoc_matrix   \n",
       "53                      scc_020   \n",
       "54                      scc_020   \n",
       "55   eac_average_coassoc_matrix   \n",
       "56                      scc_020   \n",
       "57                      scc_020   \n",
       "58   eac_average_coassoc_matrix   \n",
       "59   eac_average_coassoc_matrix   \n",
       "60                      scc_020   \n",
       "\n",
       "                                            partition  ami_mean  \n",
       "k                                                                \n",
       "2   [0, 0, 0, 0, 0, 0, 0, 0, 0, 0, 0, 0, 0, 0, 0, ...  0.238194  \n",
       "3   [0, 0, 0, 0, 0, 0, 0, 0, 0, 0, 0, 0, 0, 0, 0, ...  0.268836  \n",
       "4   [2, 2, 2, 2, 2, 2, 2, 2, 2, 2, 2, 2, 2, 2, 2, ...  0.296430  \n",
       "5   [0, 0, 0, 0, 0, 0, 0, 0, 0, 0, 0, 0, 0, 0, 0, ...  0.298287  \n",
       "6   [1, 1, 1, 1, 1, 1, 1, 1, 1, 1, 1, 1, 1, 1, 1, ...  0.288249  \n",
       "7   [0, 0, 0, 0, 0, 0, 0, 0, 0, 0, 0, 0, 0, 0, 0, ...  0.299448  \n",
       "8   [0, 0, 0, 0, 0, 0, 0, 0, 0, 0, 0, 0, 0, 0, 0, ...  0.300169  \n",
       "9   [0, 0, 0, 0, 0, 0, 0, 0, 0, 0, 0, 0, 0, 0, 0, ...  0.301299  \n",
       "10  [0, 0, 0, 0, 0, 0, 0, 0, 0, 0, 0, 0, 0, 0, 0, ...  0.301736  \n",
       "11  [0, 0, 0, 0, 0, 0, 0, 0, 0, 0, 0, 0, 0, 0, 0, ...  0.301837  \n",
       "12  [1, 1, 1, 1, 1, 1, 1, 1, 1, 1, 1, 1, 1, 1, 1, ...  0.277288  \n",
       "13  [0, 0, 0, 0, 0, 0, 0, 0, 0, 0, 0, 0, 0, 0, 0, ...  0.298894  \n",
       "14  [0, 0, 0, 0, 0, 0, 0, 0, 0, 0, 0, 0, 0, 0, 0, ...  0.293653  \n",
       "15  [2, 2, 2, 2, 2, 2, 2, 2, 2, 2, 2, 2, 2, 2, 2, ...  0.279465  \n",
       "16  [0, 0, 0, 0, 0, 0, 0, 0, 0, 0, 0, 0, 0, 0, 0, ...  0.289049  \n",
       "17  [2, 2, 2, 2, 2, 2, 2, 2, 2, 3, 2, 2, 2, 2, 2, ...  0.280788  \n",
       "18  [0, 0, 0, 0, 0, 0, 0, 0, 0, 0, 0, 0, 0, 0, 0, ...  0.294079  \n",
       "19  [2, 2, 2, 2, 2, 2, 2, 2, 2, 3, 2, 2, 2, 2, 2, ...  0.282250  \n",
       "20  [0, 0, 0, 0, 0, 0, 0, 0, 0, 3, 0, 0, 0, 0, 0, ...  0.282288  \n",
       "21  [2, 2, 2, 2, 2, 2, 2, 2, 2, 2, 2, 2, 2, 2, 2, ...  0.289008  \n",
       "22  [0, 0, 0, 0, 0, 0, 0, 0, 0, 0, 0, 0, 0, 0, 0, ...  0.289751  \n",
       "23  [0, 0, 0, 0, 0, 0, 0, 0, 21, 0, 0, 0, 0, 0, 0,...  0.287525  \n",
       "24  [7, 7, 7, 7, 7, 7, 7, 7, 7, 1, 7, 7, 7, 7, 7, ...  0.280325  \n",
       "25  [1, 1, 1, 1, 1, 1, 1, 1, 1, 1, 1, 1, 1, 1, 1, ...  0.289148  \n",
       "26  [7, 7, 7, 7, 7, 7, 7, 7, 7, 0, 7, 7, 7, 7, 7, ...  0.280252  \n",
       "27  [22, 22, 22, 22, 22, 22, 22, 22, 22, 0, 22, 22...  0.287374  \n",
       "28  [27, 27, 27, 27, 27, 27, 27, 27, 27, 0, 27, 27...  0.290527  \n",
       "29  [26, 26, 26, 26, 26, 26, 26, 26, 26, 1, 26, 26...  0.291886  \n",
       "30  [7, 7, 7, 7, 7, 7, 7, 7, 7, 1, 7, 7, 7, 7, 7, ...  0.272974  \n",
       "31  [23, 23, 23, 23, 23, 23, 23, 23, 23, 0, 23, 23...  0.291954  \n",
       "32  [7, 7, 7, 7, 7, 7, 7, 7, 7, 2, 7, 7, 7, 7, 7, ...  0.271632  \n",
       "33  [31, 31, 31, 31, 31, 31, 31, 31, 31, 1, 31, 31...  0.285982  \n",
       "34  [3, 3, 3, 3, 3, 3, 3, 3, 3, 7, 3, 3, 3, 3, 3, ...  0.270537  \n",
       "35  [1, 1, 1, 1, 1, 1, 1, 1, 1, 3, 1, 1, 1, 1, 1, ...  0.270589  \n",
       "36  [31, 31, 31, 31, 31, 31, 31, 31, 31, 0, 31, 31...  0.282319  \n",
       "37  [1, 1, 1, 1, 1, 1, 1, 1, 1, 3, 1, 1, 1, 1, 1, ...  0.270546  \n",
       "38  [1, 1, 1, 1, 1, 1, 1, 1, 1, 3, 1, 1, 1, 1, 1, ...  0.269894  \n",
       "39  [1, 1, 1, 1, 1, 1, 1, 1, 1, 3, 1, 1, 1, 1, 1, ...  0.272441  \n",
       "40  [1, 1, 1, 1, 1, 1, 1, 1, 1, 3, 1, 1, 1, 1, 1, ...  0.271920  \n",
       "41  [0, 0, 0, 0, 0, 0, 0, 0, 0, 1, 0, 0, 0, 0, 0, ...  0.272192  \n",
       "42  [33, 33, 33, 33, 33, 33, 33, 33, 33, 0, 33, 33...  0.289837  \n",
       "43  [32, 32, 32, 32, 32, 32, 32, 32, 32, 0, 32, 32...  0.286901  \n",
       "44  [25, 25, 25, 25, 25, 25, 25, 25, 25, 1, 25, 25...  0.282981  \n",
       "45  [28, 28, 28, 28, 28, 28, 28, 28, 28, 30, 28, 2...  0.266096  \n",
       "46  [29, 29, 29, 29, 29, 29, 29, 29, 29, 0, 29, 29...  0.270564  \n",
       "47  [42, 42, 42, 42, 42, 42, 42, 42, 42, 6, 42, 42...  0.249185  \n",
       "48  [47, 47, 47, 47, 47, 47, 47, 47, 47, 44, 47, 4...  0.254944  \n",
       "49  [38, 38, 38, 38, 38, 38, 38, 38, 38, 40, 38, 3...  0.269244  \n",
       "50  [42, 42, 42, 42, 42, 42, 42, 42, 42, 0, 42, 42...  0.249827  \n",
       "51  [31, 31, 31, 31, 31, 31, 31, 31, 31, 0, 31, 31...  0.258915  \n",
       "52  [42, 42, 42, 42, 42, 42, 42, 42, 42, 6, 42, 42...  0.245977  \n",
       "53  [43, 43, 43, 43, 43, 43, 43, 43, 43, 22, 43, 4...  0.255081  \n",
       "54  [35, 35, 35, 35, 35, 35, 35, 35, 35, 33, 35, 3...  0.248411  \n",
       "55  [42, 42, 42, 42, 42, 42, 42, 42, 42, 2, 42, 42...  0.245900  \n",
       "56  [34, 34, 34, 34, 34, 34, 34, 34, 34, 0, 34, 34...  0.248342  \n",
       "57  [31, 31, 31, 31, 31, 31, 31, 31, 31, 49, 31, 3...  0.247429  \n",
       "58  [42, 42, 42, 42, 42, 42, 42, 42, 42, 0, 42, 42...  0.243429  \n",
       "59  [42, 42, 42, 42, 42, 42, 42, 42, 42, 28, 42, 4...  0.241760  \n",
       "60  [42, 42, 42, 42, 42, 42, 42, 42, 42, 40, 42, 4...  0.243954  "
      ]
     },
     "execution_count": 14,
     "metadata": {},
     "output_type": "execute_result"
    }
   ],
   "source": [
    "best_parts.sort_values(\"k\")"
   ]
  },
  {
   "cell_type": "markdown",
   "metadata": {
    "papermill": {
     "duration": 0.014626,
     "end_time": "2021-02-16T05:03:59.823194",
     "exception": false,
     "start_time": "2021-02-16T05:03:59.808568",
     "status": "completed"
    },
    "tags": []
   },
   "source": [
    "## Select partitions with highest agreement"
   ]
  },
  {
   "cell_type": "markdown",
   "metadata": {
    "papermill": {
     "duration": 0.014404,
     "end_time": "2021-02-16T05:03:59.852101",
     "exception": false,
     "start_time": "2021-02-16T05:03:59.837697",
     "status": "completed"
    },
    "tags": []
   },
   "source": [
    "We do not expect all partitions with different `k` to be good ones. Thus, here I select the partitions with an ensemble agreement that pass a specified threshold (median)."
   ]
  },
  {
   "cell_type": "code",
   "execution_count": 15,
   "metadata": {
    "execution": {
     "iopub.execute_input": "2021-02-16T05:03:59.884868Z",
     "iopub.status.busy": "2021-02-16T05:03:59.884451Z",
     "iopub.status.idle": "2021-02-16T05:03:59.897610Z",
     "shell.execute_reply": "2021-02-16T05:03:59.897281Z"
    },
    "papermill": {
     "duration": 0.030617,
     "end_time": "2021-02-16T05:03:59.897698",
     "exception": false,
     "start_time": "2021-02-16T05:03:59.867081",
     "status": "completed"
    },
    "tags": []
   },
   "outputs": [
    {
     "data": {
      "text/plain": [
       "count    59.000000\n",
       "mean      0.275590\n",
       "std       0.018332\n",
       "min       0.238194\n",
       "25%       0.267466\n",
       "50%       0.280252\n",
       "75%       0.289450\n",
       "max       0.301837\n",
       "Name: ami_mean, dtype: float64"
      ]
     },
     "metadata": {},
     "output_type": "display_data"
    }
   ],
   "source": [
    "best_parts_stats = best_parts[_measure_col].describe()\n",
    "display(best_parts_stats)"
   ]
  },
  {
   "cell_type": "code",
   "execution_count": 16,
   "metadata": {
    "execution": {
     "iopub.execute_input": "2021-02-16T05:03:59.931177Z",
     "iopub.status.busy": "2021-02-16T05:03:59.930812Z",
     "iopub.status.idle": "2021-02-16T05:03:59.942392Z",
     "shell.execute_reply": "2021-02-16T05:03:59.942017Z"
    },
    "papermill": {
     "duration": 0.029298,
     "end_time": "2021-02-16T05:03:59.942480",
     "exception": false,
     "start_time": "2021-02-16T05:03:59.913182",
     "status": "completed"
    },
    "tags": []
   },
   "outputs": [
    {
     "data": {
      "text/plain": [
       "0.280252114619655"
      ]
     },
     "metadata": {},
     "output_type": "display_data"
    }
   ],
   "source": [
    "best_threshold = best_parts_stats[\"50%\"]\n",
    "best_threshold_description = \"Median\"\n",
    "display(best_threshold)\n",
    "\n",
    "best_parts = best_parts.assign(\n",
    "    selected=best_parts[_measure_col].apply(lambda x: x > best_threshold)\n",
    ")"
   ]
  },
  {
   "cell_type": "code",
   "execution_count": 17,
   "metadata": {
    "execution": {
     "iopub.execute_input": "2021-02-16T05:03:59.976619Z",
     "iopub.status.busy": "2021-02-16T05:03:59.976247Z",
     "iopub.status.idle": "2021-02-16T05:03:59.986571Z",
     "shell.execute_reply": "2021-02-16T05:03:59.986855Z"
    },
    "papermill": {
     "duration": 0.028472,
     "end_time": "2021-02-16T05:03:59.986962",
     "exception": false,
     "start_time": "2021-02-16T05:03:59.958490",
     "status": "completed"
    },
    "tags": []
   },
   "outputs": [
    {
     "data": {
      "text/plain": [
       "(59, 4)"
      ]
     },
     "execution_count": 17,
     "metadata": {},
     "output_type": "execute_result"
    }
   ],
   "source": [
    "best_parts.shape"
   ]
  },
  {
   "cell_type": "code",
   "execution_count": 18,
   "metadata": {
    "execution": {
     "iopub.execute_input": "2021-02-16T05:04:00.021526Z",
     "iopub.status.busy": "2021-02-16T05:04:00.021159Z",
     "iopub.status.idle": "2021-02-16T05:04:00.039720Z",
     "shell.execute_reply": "2021-02-16T05:04:00.039411Z"
    },
    "papermill": {
     "duration": 0.036756,
     "end_time": "2021-02-16T05:04:00.039811",
     "exception": false,
     "start_time": "2021-02-16T05:04:00.003055",
     "status": "completed"
    },
    "tags": []
   },
   "outputs": [
    {
     "data": {
      "text/html": [
       "<div>\n",
       "<style scoped>\n",
       "    .dataframe tbody tr th:only-of-type {\n",
       "        vertical-align: middle;\n",
       "    }\n",
       "\n",
       "    .dataframe tbody tr th {\n",
       "        vertical-align: top;\n",
       "    }\n",
       "\n",
       "    .dataframe thead th {\n",
       "        text-align: right;\n",
       "    }\n",
       "</style>\n",
       "<table border=\"1\" class=\"dataframe\">\n",
       "  <thead>\n",
       "    <tr style=\"text-align: right;\">\n",
       "      <th></th>\n",
       "      <th>method</th>\n",
       "      <th>partition</th>\n",
       "      <th>ami_mean</th>\n",
       "      <th>selected</th>\n",
       "    </tr>\n",
       "    <tr>\n",
       "      <th>k</th>\n",
       "      <th></th>\n",
       "      <th></th>\n",
       "      <th></th>\n",
       "      <th></th>\n",
       "    </tr>\n",
       "  </thead>\n",
       "  <tbody>\n",
       "    <tr>\n",
       "      <th>11</th>\n",
       "      <td>scc_020</td>\n",
       "      <td>[0, 0, 0, 0, 0, 0, 0, 0, 0, 0, 0, 0, 0, 0, 0, ...</td>\n",
       "      <td>0.301837</td>\n",
       "      <td>True</td>\n",
       "    </tr>\n",
       "    <tr>\n",
       "      <th>10</th>\n",
       "      <td>scc_020</td>\n",
       "      <td>[0, 0, 0, 0, 0, 0, 0, 0, 0, 0, 0, 0, 0, 0, 0, ...</td>\n",
       "      <td>0.301736</td>\n",
       "      <td>True</td>\n",
       "    </tr>\n",
       "    <tr>\n",
       "      <th>9</th>\n",
       "      <td>scc_020</td>\n",
       "      <td>[0, 0, 0, 0, 0, 0, 0, 0, 0, 0, 0, 0, 0, 0, 0, ...</td>\n",
       "      <td>0.301299</td>\n",
       "      <td>True</td>\n",
       "    </tr>\n",
       "    <tr>\n",
       "      <th>8</th>\n",
       "      <td>scc_020</td>\n",
       "      <td>[0, 0, 0, 0, 0, 0, 0, 0, 0, 0, 0, 0, 0, 0, 0, ...</td>\n",
       "      <td>0.300169</td>\n",
       "      <td>True</td>\n",
       "    </tr>\n",
       "    <tr>\n",
       "      <th>7</th>\n",
       "      <td>scc_020</td>\n",
       "      <td>[0, 0, 0, 0, 0, 0, 0, 0, 0, 0, 0, 0, 0, 0, 0, ...</td>\n",
       "      <td>0.299448</td>\n",
       "      <td>True</td>\n",
       "    </tr>\n",
       "  </tbody>\n",
       "</table>\n",
       "</div>"
      ],
      "text/plain": [
       "     method                                          partition  ami_mean  \\\n",
       "k                                                                          \n",
       "11  scc_020  [0, 0, 0, 0, 0, 0, 0, 0, 0, 0, 0, 0, 0, 0, 0, ...  0.301837   \n",
       "10  scc_020  [0, 0, 0, 0, 0, 0, 0, 0, 0, 0, 0, 0, 0, 0, 0, ...  0.301736   \n",
       "9   scc_020  [0, 0, 0, 0, 0, 0, 0, 0, 0, 0, 0, 0, 0, 0, 0, ...  0.301299   \n",
       "8   scc_020  [0, 0, 0, 0, 0, 0, 0, 0, 0, 0, 0, 0, 0, 0, 0, ...  0.300169   \n",
       "7   scc_020  [0, 0, 0, 0, 0, 0, 0, 0, 0, 0, 0, 0, 0, 0, 0, ...  0.299448   \n",
       "\n",
       "    selected  \n",
       "k             \n",
       "11      True  \n",
       "10      True  \n",
       "9       True  \n",
       "8       True  \n",
       "7       True  "
      ]
     },
     "execution_count": 18,
     "metadata": {},
     "output_type": "execute_result"
    }
   ],
   "source": [
    "best_parts.head()"
   ]
  },
  {
   "cell_type": "markdown",
   "metadata": {
    "papermill": {
     "duration": 0.015831,
     "end_time": "2021-02-16T05:04:00.072279",
     "exception": false,
     "start_time": "2021-02-16T05:04:00.056448",
     "status": "completed"
    },
    "tags": []
   },
   "source": [
    "## Save best partitions per k"
   ]
  },
  {
   "cell_type": "code",
   "execution_count": 19,
   "metadata": {
    "execution": {
     "iopub.execute_input": "2021-02-16T05:04:00.106452Z",
     "iopub.status.busy": "2021-02-16T05:04:00.106089Z",
     "iopub.status.idle": "2021-02-16T05:04:00.116919Z",
     "shell.execute_reply": "2021-02-16T05:04:00.116508Z"
    },
    "papermill": {
     "duration": 0.029039,
     "end_time": "2021-02-16T05:04:00.117006",
     "exception": false,
     "start_time": "2021-02-16T05:04:00.087967",
     "status": "completed"
    },
    "tags": []
   },
   "outputs": [
    {
     "data": {
      "text/plain": [
       "PosixPath('/home/miltondp/projects/labs/greenelab/phenoplier/base3/results/clustering/consensus_clustering/best_partitions_by_k.pkl')"
      ]
     },
     "metadata": {},
     "output_type": "display_data"
    }
   ],
   "source": [
    "output_file = Path(CONSENSUS_CLUSTERING_DIR, \"best_partitions_by_k.pkl\").resolve()\n",
    "display(output_file)"
   ]
  },
  {
   "cell_type": "code",
   "execution_count": 20,
   "metadata": {
    "execution": {
     "iopub.execute_input": "2021-02-16T05:04:00.151734Z",
     "iopub.status.busy": "2021-02-16T05:04:00.151372Z",
     "iopub.status.idle": "2021-02-16T05:04:00.163408Z",
     "shell.execute_reply": "2021-02-16T05:04:00.163697Z"
    },
    "papermill": {
     "duration": 0.030595,
     "end_time": "2021-02-16T05:04:00.163808",
     "exception": false,
     "start_time": "2021-02-16T05:04:00.133213",
     "status": "completed"
    },
    "tags": []
   },
   "outputs": [],
   "source": [
    "best_parts.to_pickle(output_file)"
   ]
  },
  {
   "cell_type": "markdown",
   "metadata": {
    "papermill": {
     "duration": 0.016307,
     "end_time": "2021-02-16T05:04:00.196971",
     "exception": false,
     "start_time": "2021-02-16T05:04:00.180664",
     "status": "completed"
    },
    "tags": []
   },
   "source": [
    "# Plot of selected best partitions"
   ]
  },
  {
   "cell_type": "code",
   "execution_count": 21,
   "metadata": {
    "execution": {
     "iopub.execute_input": "2021-02-16T05:04:00.231464Z",
     "iopub.status.busy": "2021-02-16T05:04:00.231060Z",
     "iopub.status.idle": "2021-02-16T05:04:00.250939Z",
     "shell.execute_reply": "2021-02-16T05:04:00.250575Z"
    },
    "papermill": {
     "duration": 0.038144,
     "end_time": "2021-02-16T05:04:00.251026",
     "exception": false,
     "start_time": "2021-02-16T05:04:00.212882",
     "status": "completed"
    },
    "tags": []
   },
   "outputs": [
    {
     "data": {
      "text/html": [
       "<div>\n",
       "<style scoped>\n",
       "    .dataframe tbody tr th:only-of-type {\n",
       "        vertical-align: middle;\n",
       "    }\n",
       "\n",
       "    .dataframe tbody tr th {\n",
       "        vertical-align: top;\n",
       "    }\n",
       "\n",
       "    .dataframe thead th {\n",
       "        text-align: right;\n",
       "    }\n",
       "</style>\n",
       "<table border=\"1\" class=\"dataframe\">\n",
       "  <thead>\n",
       "    <tr style=\"text-align: right;\">\n",
       "      <th></th>\n",
       "      <th>k</th>\n",
       "      <th>method</th>\n",
       "      <th>partition</th>\n",
       "      <th>ami_mean</th>\n",
       "      <th>selected</th>\n",
       "    </tr>\n",
       "  </thead>\n",
       "  <tbody>\n",
       "    <tr>\n",
       "      <th>0</th>\n",
       "      <td>11</td>\n",
       "      <td>scc_020</td>\n",
       "      <td>[0, 0, 0, 0, 0, 0, 0, 0, 0, 0, 0, 0, 0, 0, 0, ...</td>\n",
       "      <td>0.301837</td>\n",
       "      <td>True</td>\n",
       "    </tr>\n",
       "    <tr>\n",
       "      <th>1</th>\n",
       "      <td>10</td>\n",
       "      <td>scc_020</td>\n",
       "      <td>[0, 0, 0, 0, 0, 0, 0, 0, 0, 0, 0, 0, 0, 0, 0, ...</td>\n",
       "      <td>0.301736</td>\n",
       "      <td>True</td>\n",
       "    </tr>\n",
       "    <tr>\n",
       "      <th>2</th>\n",
       "      <td>9</td>\n",
       "      <td>scc_020</td>\n",
       "      <td>[0, 0, 0, 0, 0, 0, 0, 0, 0, 0, 0, 0, 0, 0, 0, ...</td>\n",
       "      <td>0.301299</td>\n",
       "      <td>True</td>\n",
       "    </tr>\n",
       "    <tr>\n",
       "      <th>3</th>\n",
       "      <td>8</td>\n",
       "      <td>scc_020</td>\n",
       "      <td>[0, 0, 0, 0, 0, 0, 0, 0, 0, 0, 0, 0, 0, 0, 0, ...</td>\n",
       "      <td>0.300169</td>\n",
       "      <td>True</td>\n",
       "    </tr>\n",
       "    <tr>\n",
       "      <th>4</th>\n",
       "      <td>7</td>\n",
       "      <td>scc_020</td>\n",
       "      <td>[0, 0, 0, 0, 0, 0, 0, 0, 0, 0, 0, 0, 0, 0, 0, ...</td>\n",
       "      <td>0.299448</td>\n",
       "      <td>True</td>\n",
       "    </tr>\n",
       "  </tbody>\n",
       "</table>\n",
       "</div>"
      ],
      "text/plain": [
       "    k   method                                          partition  ami_mean  \\\n",
       "0  11  scc_020  [0, 0, 0, 0, 0, 0, 0, 0, 0, 0, 0, 0, 0, 0, 0, ...  0.301837   \n",
       "1  10  scc_020  [0, 0, 0, 0, 0, 0, 0, 0, 0, 0, 0, 0, 0, 0, 0, ...  0.301736   \n",
       "2   9  scc_020  [0, 0, 0, 0, 0, 0, 0, 0, 0, 0, 0, 0, 0, 0, 0, ...  0.301299   \n",
       "3   8  scc_020  [0, 0, 0, 0, 0, 0, 0, 0, 0, 0, 0, 0, 0, 0, 0, ...  0.300169   \n",
       "4   7  scc_020  [0, 0, 0, 0, 0, 0, 0, 0, 0, 0, 0, 0, 0, 0, 0, ...  0.299448   \n",
       "\n",
       "   selected  \n",
       "0      True  \n",
       "1      True  \n",
       "2      True  \n",
       "3      True  \n",
       "4      True  "
      ]
     },
     "metadata": {},
     "output_type": "display_data"
    }
   ],
   "source": [
    "plot_data = best_parts.reset_index()\n",
    "display(plot_data.head(5))"
   ]
  },
  {
   "cell_type": "code",
   "execution_count": 22,
   "metadata": {
    "execution": {
     "iopub.execute_input": "2021-02-16T05:04:00.288171Z",
     "iopub.status.busy": "2021-02-16T05:04:00.287793Z",
     "iopub.status.idle": "2021-02-16T05:04:01.929990Z",
     "shell.execute_reply": "2021-02-16T05:04:01.930300Z"
    },
    "papermill": {
     "duration": 1.662412,
     "end_time": "2021-02-16T05:04:01.930408",
     "exception": false,
     "start_time": "2021-02-16T05:04:00.267996",
     "status": "completed"
    },
    "tags": []
   },
   "outputs": [
    {
     "data": {
      "image/png": "[encoded data removed]",
      "text/plain": [
       "<Figure size 864x432 with 1 Axes>"
      ]
     },
     "metadata": {},
     "output_type": "display_data"
    }
   ],
   "source": [
    "with sns.plotting_context(\"talk\", font_scale=0.75), sns.axes_style(\n",
    "    \"whitegrid\", {\"grid.linestyle\": \"--\"}\n",
    "), sns.color_palette(\"muted\"):\n",
    "    current_palette = iter(sns.color_palette())\n",
    "\n",
    "    fig, ax = plt.subplots(figsize=(12, 6))\n",
    "    ax = sns.pointplot(\n",
    "        data=plot_data, x=\"k\", y=_measure_col, color=next(current_palette)\n",
    "    )\n",
    "    ax.axhline(\n",
    "        best_threshold,\n",
    "        ls=\"--\",\n",
    "        color=next(current_palette),\n",
    "        label=best_threshold_description,\n",
    "    )\n",
    "    ax.set_ylabel(\"Agreement with ensemble\\n(Average AMI)\")\n",
    "    ax.set_xlabel(\"Number of clusters ($k$)\")\n",
    "    ax.set_xticklabels(ax.get_xticklabels(), rotation=45)\n",
    "    plt.legend()\n",
    "    plt.grid(True)\n",
    "    plt.tight_layout()"
   ]
  },
  {
   "cell_type": "markdown",
   "metadata": {
    "papermill": {
     "duration": 0.018543,
     "end_time": "2021-02-16T05:04:01.968165",
     "exception": false,
     "start_time": "2021-02-16T05:04:01.949622",
     "status": "completed"
    },
    "tags": []
   },
   "source": [
    "The horizontal line in the plot is the median of the average AMI; partitions above that line are marked as selected for downstream analysis"
   ]
  },
  {
   "cell_type": "code",
   "execution_count": 23,
   "metadata": {
    "execution": {
     "iopub.execute_input": "2021-02-16T05:04:02.007271Z",
     "iopub.status.busy": "2021-02-16T05:04:02.006905Z",
     "iopub.status.idle": "2021-02-16T05:04:02.050557Z",
     "shell.execute_reply": "2021-02-16T05:04:02.050179Z"
    },
    "papermill": {
     "duration": 0.064156,
     "end_time": "2021-02-16T05:04:02.050646",
     "exception": false,
     "start_time": "2021-02-16T05:04:01.986490",
     "status": "completed"
    },
    "tags": []
   },
   "outputs": [
    {
     "data": {
      "text/html": [
       "<div>\n",
       "<style scoped>\n",
       "    .dataframe tbody tr th:only-of-type {\n",
       "        vertical-align: middle;\n",
       "    }\n",
       "\n",
       "    .dataframe tbody tr th {\n",
       "        vertical-align: top;\n",
       "    }\n",
       "\n",
       "    .dataframe thead th {\n",
       "        text-align: right;\n",
       "    }\n",
       "</style>\n",
       "<table border=\"1\" class=\"dataframe\">\n",
       "  <thead>\n",
       "    <tr style=\"text-align: right;\">\n",
       "      <th></th>\n",
       "      <th>k</th>\n",
       "      <th>method</th>\n",
       "      <th>partition</th>\n",
       "      <th>ami_mean</th>\n",
       "      <th>selected</th>\n",
       "    </tr>\n",
       "  </thead>\n",
       "  <tbody>\n",
       "    <tr>\n",
       "      <th>7</th>\n",
       "      <td>4</td>\n",
       "      <td>eac_average_coassoc_matrix</td>\n",
       "      <td>[2, 2, 2, 2, 2, 2, 2, 2, 2, 2, 2, 2, 2, 2, 2, ...</td>\n",
       "      <td>0.296430</td>\n",
       "      <td>True</td>\n",
       "    </tr>\n",
       "    <tr>\n",
       "      <th>6</th>\n",
       "      <td>5</td>\n",
       "      <td>eac_average_coassoc_matrix</td>\n",
       "      <td>[0, 0, 0, 0, 0, 0, 0, 0, 0, 0, 0, 0, 0, 0, 0, ...</td>\n",
       "      <td>0.298287</td>\n",
       "      <td>True</td>\n",
       "    </tr>\n",
       "    <tr>\n",
       "      <th>18</th>\n",
       "      <td>6</td>\n",
       "      <td>eac_single_coassoc_matrix</td>\n",
       "      <td>[1, 1, 1, 1, 1, 1, 1, 1, 1, 1, 1, 1, 1, 1, 1, ...</td>\n",
       "      <td>0.288249</td>\n",
       "      <td>True</td>\n",
       "    </tr>\n",
       "    <tr>\n",
       "      <th>4</th>\n",
       "      <td>7</td>\n",
       "      <td>scc_020</td>\n",
       "      <td>[0, 0, 0, 0, 0, 0, 0, 0, 0, 0, 0, 0, 0, 0, 0, ...</td>\n",
       "      <td>0.299448</td>\n",
       "      <td>True</td>\n",
       "    </tr>\n",
       "    <tr>\n",
       "      <th>3</th>\n",
       "      <td>8</td>\n",
       "      <td>scc_020</td>\n",
       "      <td>[0, 0, 0, 0, 0, 0, 0, 0, 0, 0, 0, 0, 0, 0, 0, ...</td>\n",
       "      <td>0.300169</td>\n",
       "      <td>True</td>\n",
       "    </tr>\n",
       "    <tr>\n",
       "      <th>2</th>\n",
       "      <td>9</td>\n",
       "      <td>scc_020</td>\n",
       "      <td>[0, 0, 0, 0, 0, 0, 0, 0, 0, 0, 0, 0, 0, 0, 0, ...</td>\n",
       "      <td>0.301299</td>\n",
       "      <td>True</td>\n",
       "    </tr>\n",
       "    <tr>\n",
       "      <th>1</th>\n",
       "      <td>10</td>\n",
       "      <td>scc_020</td>\n",
       "      <td>[0, 0, 0, 0, 0, 0, 0, 0, 0, 0, 0, 0, 0, 0, 0, ...</td>\n",
       "      <td>0.301736</td>\n",
       "      <td>True</td>\n",
       "    </tr>\n",
       "    <tr>\n",
       "      <th>0</th>\n",
       "      <td>11</td>\n",
       "      <td>scc_020</td>\n",
       "      <td>[0, 0, 0, 0, 0, 0, 0, 0, 0, 0, 0, 0, 0, 0, 0, ...</td>\n",
       "      <td>0.301837</td>\n",
       "      <td>True</td>\n",
       "    </tr>\n",
       "    <tr>\n",
       "      <th>5</th>\n",
       "      <td>13</td>\n",
       "      <td>scc_020</td>\n",
       "      <td>[0, 0, 0, 0, 0, 0, 0, 0, 0, 0, 0, 0, 0, 0, 0, ...</td>\n",
       "      <td>0.298894</td>\n",
       "      <td>True</td>\n",
       "    </tr>\n",
       "    <tr>\n",
       "      <th>9</th>\n",
       "      <td>14</td>\n",
       "      <td>scc_020</td>\n",
       "      <td>[0, 0, 0, 0, 0, 0, 0, 0, 0, 0, 0, 0, 0, 0, 0, ...</td>\n",
       "      <td>0.293653</td>\n",
       "      <td>True</td>\n",
       "    </tr>\n",
       "    <tr>\n",
       "      <th>16</th>\n",
       "      <td>16</td>\n",
       "      <td>scc_025</td>\n",
       "      <td>[0, 0, 0, 0, 0, 0, 0, 0, 0, 0, 0, 0, 0, 0, 0, ...</td>\n",
       "      <td>0.289049</td>\n",
       "      <td>True</td>\n",
       "    </tr>\n",
       "    <tr>\n",
       "      <th>27</th>\n",
       "      <td>17</td>\n",
       "      <td>eac_average_coassoc_matrix</td>\n",
       "      <td>[2, 2, 2, 2, 2, 2, 2, 2, 2, 3, 2, 2, 2, 2, 2, ...</td>\n",
       "      <td>0.280788</td>\n",
       "      <td>True</td>\n",
       "    </tr>\n",
       "    <tr>\n",
       "      <th>8</th>\n",
       "      <td>18</td>\n",
       "      <td>scc_020</td>\n",
       "      <td>[0, 0, 0, 0, 0, 0, 0, 0, 0, 0, 0, 0, 0, 0, 0, ...</td>\n",
       "      <td>0.294079</td>\n",
       "      <td>True</td>\n",
       "    </tr>\n",
       "    <tr>\n",
       "      <th>26</th>\n",
       "      <td>19</td>\n",
       "      <td>eac_average_coassoc_matrix</td>\n",
       "      <td>[2, 2, 2, 2, 2, 2, 2, 2, 2, 3, 2, 2, 2, 2, 2, ...</td>\n",
       "      <td>0.282250</td>\n",
       "      <td>True</td>\n",
       "    </tr>\n",
       "    <tr>\n",
       "      <th>25</th>\n",
       "      <td>20</td>\n",
       "      <td>eac_average_coassoc_matrix</td>\n",
       "      <td>[0, 0, 0, 0, 0, 0, 0, 0, 0, 3, 0, 0, 0, 0, 0, ...</td>\n",
       "      <td>0.282288</td>\n",
       "      <td>True</td>\n",
       "    </tr>\n",
       "    <tr>\n",
       "      <th>17</th>\n",
       "      <td>21</td>\n",
       "      <td>scc_025</td>\n",
       "      <td>[2, 2, 2, 2, 2, 2, 2, 2, 2, 2, 2, 2, 2, 2, 2, ...</td>\n",
       "      <td>0.289008</td>\n",
       "      <td>True</td>\n",
       "    </tr>\n",
       "    <tr>\n",
       "      <th>14</th>\n",
       "      <td>22</td>\n",
       "      <td>scc_025</td>\n",
       "      <td>[0, 0, 0, 0, 0, 0, 0, 0, 0, 0, 0, 0, 0, 0, 0, ...</td>\n",
       "      <td>0.289751</td>\n",
       "      <td>True</td>\n",
       "    </tr>\n",
       "    <tr>\n",
       "      <th>19</th>\n",
       "      <td>23</td>\n",
       "      <td>scc_025</td>\n",
       "      <td>[0, 0, 0, 0, 0, 0, 0, 0, 21, 0, 0, 0, 0, 0, 0,...</td>\n",
       "      <td>0.287525</td>\n",
       "      <td>True</td>\n",
       "    </tr>\n",
       "    <tr>\n",
       "      <th>28</th>\n",
       "      <td>24</td>\n",
       "      <td>eac_average_coassoc_matrix</td>\n",
       "      <td>[7, 7, 7, 7, 7, 7, 7, 7, 7, 1, 7, 7, 7, 7, 7, ...</td>\n",
       "      <td>0.280325</td>\n",
       "      <td>True</td>\n",
       "    </tr>\n",
       "    <tr>\n",
       "      <th>15</th>\n",
       "      <td>25</td>\n",
       "      <td>scc_025</td>\n",
       "      <td>[1, 1, 1, 1, 1, 1, 1, 1, 1, 1, 1, 1, 1, 1, 1, ...</td>\n",
       "      <td>0.289148</td>\n",
       "      <td>True</td>\n",
       "    </tr>\n",
       "    <tr>\n",
       "      <th>20</th>\n",
       "      <td>27</td>\n",
       "      <td>scc_025</td>\n",
       "      <td>[22, 22, 22, 22, 22, 22, 22, 22, 22, 0, 22, 22...</td>\n",
       "      <td>0.287374</td>\n",
       "      <td>True</td>\n",
       "    </tr>\n",
       "    <tr>\n",
       "      <th>12</th>\n",
       "      <td>28</td>\n",
       "      <td>scc_025</td>\n",
       "      <td>[27, 27, 27, 27, 27, 27, 27, 27, 27, 0, 27, 27...</td>\n",
       "      <td>0.290527</td>\n",
       "      <td>True</td>\n",
       "    </tr>\n",
       "    <tr>\n",
       "      <th>11</th>\n",
       "      <td>29</td>\n",
       "      <td>scc_025</td>\n",
       "      <td>[26, 26, 26, 26, 26, 26, 26, 26, 26, 1, 26, 26...</td>\n",
       "      <td>0.291886</td>\n",
       "      <td>True</td>\n",
       "    </tr>\n",
       "    <tr>\n",
       "      <th>10</th>\n",
       "      <td>31</td>\n",
       "      <td>scc_025</td>\n",
       "      <td>[23, 23, 23, 23, 23, 23, 23, 23, 23, 0, 23, 23...</td>\n",
       "      <td>0.291954</td>\n",
       "      <td>True</td>\n",
       "    </tr>\n",
       "    <tr>\n",
       "      <th>22</th>\n",
       "      <td>33</td>\n",
       "      <td>scc_020</td>\n",
       "      <td>[31, 31, 31, 31, 31, 31, 31, 31, 31, 1, 31, 31...</td>\n",
       "      <td>0.285982</td>\n",
       "      <td>True</td>\n",
       "    </tr>\n",
       "    <tr>\n",
       "      <th>24</th>\n",
       "      <td>36</td>\n",
       "      <td>scc_020</td>\n",
       "      <td>[31, 31, 31, 31, 31, 31, 31, 31, 31, 0, 31, 31...</td>\n",
       "      <td>0.282319</td>\n",
       "      <td>True</td>\n",
       "    </tr>\n",
       "    <tr>\n",
       "      <th>13</th>\n",
       "      <td>42</td>\n",
       "      <td>scc_020</td>\n",
       "      <td>[33, 33, 33, 33, 33, 33, 33, 33, 33, 0, 33, 33...</td>\n",
       "      <td>0.289837</td>\n",
       "      <td>True</td>\n",
       "    </tr>\n",
       "    <tr>\n",
       "      <th>21</th>\n",
       "      <td>43</td>\n",
       "      <td>scc_020</td>\n",
       "      <td>[32, 32, 32, 32, 32, 32, 32, 32, 32, 0, 32, 32...</td>\n",
       "      <td>0.286901</td>\n",
       "      <td>True</td>\n",
       "    </tr>\n",
       "    <tr>\n",
       "      <th>23</th>\n",
       "      <td>44</td>\n",
       "      <td>scc_020</td>\n",
       "      <td>[25, 25, 25, 25, 25, 25, 25, 25, 25, 1, 25, 25...</td>\n",
       "      <td>0.282981</td>\n",
       "      <td>True</td>\n",
       "    </tr>\n",
       "  </tbody>\n",
       "</table>\n",
       "</div>"
      ],
      "text/plain": [
       "     k                      method  \\\n",
       "7    4  eac_average_coassoc_matrix   \n",
       "6    5  eac_average_coassoc_matrix   \n",
       "18   6   eac_single_coassoc_matrix   \n",
       "4    7                     scc_020   \n",
       "3    8                     scc_020   \n",
       "2    9                     scc_020   \n",
       "1   10                     scc_020   \n",
       "0   11                     scc_020   \n",
       "5   13                     scc_020   \n",
       "9   14                     scc_020   \n",
       "16  16                     scc_025   \n",
       "27  17  eac_average_coassoc_matrix   \n",
       "8   18                     scc_020   \n",
       "26  19  eac_average_coassoc_matrix   \n",
       "25  20  eac_average_coassoc_matrix   \n",
       "17  21                     scc_025   \n",
       "14  22                     scc_025   \n",
       "19  23                     scc_025   \n",
       "28  24  eac_average_coassoc_matrix   \n",
       "15  25                     scc_025   \n",
       "20  27                     scc_025   \n",
       "12  28                     scc_025   \n",
       "11  29                     scc_025   \n",
       "10  31                     scc_025   \n",
       "22  33                     scc_020   \n",
       "24  36                     scc_020   \n",
       "13  42                     scc_020   \n",
       "21  43                     scc_020   \n",
       "23  44                     scc_020   \n",
       "\n",
       "                                            partition  ami_mean  selected  \n",
       "7   [2, 2, 2, 2, 2, 2, 2, 2, 2, 2, 2, 2, 2, 2, 2, ...  0.296430      True  \n",
       "6   [0, 0, 0, 0, 0, 0, 0, 0, 0, 0, 0, 0, 0, 0, 0, ...  0.298287      True  \n",
       "18  [1, 1, 1, 1, 1, 1, 1, 1, 1, 1, 1, 1, 1, 1, 1, ...  0.288249      True  \n",
       "4   [0, 0, 0, 0, 0, 0, 0, 0, 0, 0, 0, 0, 0, 0, 0, ...  0.299448      True  \n",
       "3   [0, 0, 0, 0, 0, 0, 0, 0, 0, 0, 0, 0, 0, 0, 0, ...  0.300169      True  \n",
       "2   [0, 0, 0, 0, 0, 0, 0, 0, 0, 0, 0, 0, 0, 0, 0, ...  0.301299      True  \n",
       "1   [0, 0, 0, 0, 0, 0, 0, 0, 0, 0, 0, 0, 0, 0, 0, ...  0.301736      True  \n",
       "0   [0, 0, 0, 0, 0, 0, 0, 0, 0, 0, 0, 0, 0, 0, 0, ...  0.301837      True  \n",
       "5   [0, 0, 0, 0, 0, 0, 0, 0, 0, 0, 0, 0, 0, 0, 0, ...  0.298894      True  \n",
       "9   [0, 0, 0, 0, 0, 0, 0, 0, 0, 0, 0, 0, 0, 0, 0, ...  0.293653      True  \n",
       "16  [0, 0, 0, 0, 0, 0, 0, 0, 0, 0, 0, 0, 0, 0, 0, ...  0.289049      True  \n",
       "27  [2, 2, 2, 2, 2, 2, 2, 2, 2, 3, 2, 2, 2, 2, 2, ...  0.280788      True  \n",
       "8   [0, 0, 0, 0, 0, 0, 0, 0, 0, 0, 0, 0, 0, 0, 0, ...  0.294079      True  \n",
       "26  [2, 2, 2, 2, 2, 2, 2, 2, 2, 3, 2, 2, 2, 2, 2, ...  0.282250      True  \n",
       "25  [0, 0, 0, 0, 0, 0, 0, 0, 0, 3, 0, 0, 0, 0, 0, ...  0.282288      True  \n",
       "17  [2, 2, 2, 2, 2, 2, 2, 2, 2, 2, 2, 2, 2, 2, 2, ...  0.289008      True  \n",
       "14  [0, 0, 0, 0, 0, 0, 0, 0, 0, 0, 0, 0, 0, 0, 0, ...  0.289751      True  \n",
       "19  [0, 0, 0, 0, 0, 0, 0, 0, 21, 0, 0, 0, 0, 0, 0,...  0.287525      True  \n",
       "28  [7, 7, 7, 7, 7, 7, 7, 7, 7, 1, 7, 7, 7, 7, 7, ...  0.280325      True  \n",
       "15  [1, 1, 1, 1, 1, 1, 1, 1, 1, 1, 1, 1, 1, 1, 1, ...  0.289148      True  \n",
       "20  [22, 22, 22, 22, 22, 22, 22, 22, 22, 0, 22, 22...  0.287374      True  \n",
       "12  [27, 27, 27, 27, 27, 27, 27, 27, 27, 0, 27, 27...  0.290527      True  \n",
       "11  [26, 26, 26, 26, 26, 26, 26, 26, 26, 1, 26, 26...  0.291886      True  \n",
       "10  [23, 23, 23, 23, 23, 23, 23, 23, 23, 0, 23, 23...  0.291954      True  \n",
       "22  [31, 31, 31, 31, 31, 31, 31, 31, 31, 1, 31, 31...  0.285982      True  \n",
       "24  [31, 31, 31, 31, 31, 31, 31, 31, 31, 0, 31, 31...  0.282319      True  \n",
       "13  [33, 33, 33, 33, 33, 33, 33, 33, 33, 0, 33, 33...  0.289837      True  \n",
       "21  [32, 32, 32, 32, 32, 32, 32, 32, 32, 0, 32, 32...  0.286901      True  \n",
       "23  [25, 25, 25, 25, 25, 25, 25, 25, 25, 1, 25, 25...  0.282981      True  "
      ]
     },
     "execution_count": 23,
     "metadata": {},
     "output_type": "execute_result"
    }
   ],
   "source": [
    "# this list shows the selected final partitions, and which methods achieved the highest agreement\n",
    "plot_data[plot_data[\"selected\"]].sort_values(\"k\")"
   ]
  },
  {
   "cell_type": "markdown",
   "metadata": {
    "papermill": {
     "duration": 0.018377,
     "end_time": "2021-02-16T05:04:02.088043",
     "exception": false,
     "start_time": "2021-02-16T05:04:02.069666",
     "status": "completed"
    },
    "tags": []
   },
   "source": [
    "Evidence accumulation approaches (EAC) based on hierarchical clustering (such as `eac_average_coassoc_matrix` and `eac_single_coassoc_matrix`) pick the best partitions for lower `k` values, whereas spectral clustering does it better for all the rest."
   ]
  },
  {
   "cell_type": "code",
   "execution_count": null,
   "metadata": {
    "papermill": {
     "duration": 0.018247,
     "end_time": "2021-02-16T05:04:02.124617",
     "exception": false,
     "start_time": "2021-02-16T05:04:02.106370",
     "status": "completed"
    },
    "tags": []
   },
   "outputs": [],
   "source": []
  }
 ],
 "metadata": {
  "jupytext": {
   "cell_metadata_filter": "all,-execution,-papermill,-trusted",
   "formats": "ipynb,py//py:percent"
  },
  "kernelspec": {
   "display_name": "Python 3",
   "language": "python",
   "name": "python3"
  },
  "language_info": {
   "codemirror_mode": {
    "name": "ipython",
    "version": 3
   },
   "file_extension": ".py",
   "mimetype": "text/x-python",
   "name": "python",
   "nbconvert_exporter": "python",
   "pygments_lexer": "ipython3",
   "version": "3.8.6"
  },
  "papermill": {
   "default_parameters": {},
   "duration": 6.871546,
   "end_time": "2021-02-16T05:04:02.550954",
   "environment_variables": {},
   "exception": null,
   "input_path": "16_consensus_clustering/030_01-get_best_partitions.ipynb",
   "output_path": "16_consensus_clustering/030_01-get_best_partitions.run.ipynb",
   "parameters": {},
   "start_time": "2021-02-16T05:03:55.679408",
   "version": "2.2.2"
  },
  "toc-autonumbering": true,
  "toc-showcode": false,
  "toc-showmarkdowntxt": false,
  "toc-showtags": false
 },
 "nbformat": 4,
 "nbformat_minor": 4
}
