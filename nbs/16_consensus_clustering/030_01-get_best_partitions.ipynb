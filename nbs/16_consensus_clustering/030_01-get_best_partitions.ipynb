{
 "cells": [
  {
   "cell_type": "markdown",
   "metadata": {
    "papermill": {
     "duration": 0.015298,
     "end_time": "2021-03-11T15:06:46.475923",
     "exception": false,
     "start_time": "2021-03-11T15:06:46.460625",
     "status": "completed"
    },
    "tags": []
   },
   "source": [
    "# Description"
   ]
  },
  {
   "cell_type": "markdown",
   "metadata": {
    "papermill": {
     "duration": 0.011575,
     "end_time": "2021-03-11T15:06:46.499734",
     "exception": false,
     "start_time": "2021-03-11T15:06:46.488159",
     "status": "completed"
    },
    "tags": []
   },
   "source": [
    "It analyzes how consensus partitions generated before agree with the ensemble, and selects the best ones for downstream analyses."
   ]
  },
  {
   "cell_type": "markdown",
   "metadata": {
    "papermill": {
     "duration": 0.01119,
     "end_time": "2021-03-11T15:06:46.522313",
     "exception": false,
     "start_time": "2021-03-11T15:06:46.511123",
     "status": "completed"
    },
    "tags": []
   },
   "source": [
    "# Modules loading"
   ]
  },
  {
   "cell_type": "code",
   "execution_count": 1,
   "metadata": {
    "execution": {
     "iopub.execute_input": "2021-03-11T15:06:46.550640Z",
     "iopub.status.busy": "2021-03-11T15:06:46.550263Z",
     "iopub.status.idle": "2021-03-11T15:06:46.557327Z",
     "shell.execute_reply": "2021-03-11T15:06:46.557618Z"
    },
    "papermill": {
     "duration": 0.024059,
     "end_time": "2021-03-11T15:06:46.557776",
     "exception": false,
     "start_time": "2021-03-11T15:06:46.533717",
     "status": "completed"
    },
    "tags": []
   },
   "outputs": [],
   "source": [
    "%load_ext autoreload\n",
    "%autoreload 2"
   ]
  },
  {
   "cell_type": "code",
   "execution_count": 2,
   "metadata": {
    "execution": {
     "iopub.execute_input": "2021-03-11T15:06:46.584062Z",
     "iopub.status.busy": "2021-03-11T15:06:46.583703Z",
     "iopub.status.idle": "2021-03-11T15:06:47.162754Z",
     "shell.execute_reply": "2021-03-11T15:06:47.162362Z"
    },
    "papermill": {
     "duration": 0.592977,
     "end_time": "2021-03-11T15:06:47.162861",
     "exception": false,
     "start_time": "2021-03-11T15:06:46.569884",
     "status": "completed"
    },
    "tags": []
   },
   "outputs": [],
   "source": [
    "from pathlib import Path\n",
    "from IPython.display import display\n",
    "\n",
    "import pandas as pd\n",
    "import matplotlib.pyplot as plt\n",
    "import seaborn as sns\n",
    "\n",
    "import conf"
   ]
  },
  {
   "cell_type": "markdown",
   "metadata": {
    "papermill": {
     "duration": 0.013202,
     "end_time": "2021-03-11T15:06:47.190876",
     "exception": false,
     "start_time": "2021-03-11T15:06:47.177674",
     "status": "completed"
    },
    "tags": []
   },
   "source": [
    "# Load consensus clustering results"
   ]
  },
  {
   "cell_type": "code",
   "execution_count": 3,
   "metadata": {
    "execution": {
     "iopub.execute_input": "2021-03-11T15:06:47.217248Z",
     "iopub.status.busy": "2021-03-11T15:06:47.216890Z",
     "iopub.status.idle": "2021-03-11T15:06:47.228365Z",
     "shell.execute_reply": "2021-03-11T15:06:47.227974Z"
    },
    "papermill": {
     "duration": 0.025238,
     "end_time": "2021-03-11T15:06:47.228445",
     "exception": false,
     "start_time": "2021-03-11T15:06:47.203207",
     "status": "completed"
    },
    "tags": []
   },
   "outputs": [
    {
     "data": {
      "text/plain": [
       "PosixPath('/home/miltondp/projects/labs/greenelab/phenoplier/base/results/clustering/consensus_clustering')"
      ]
     },
     "metadata": {},
     "output_type": "display_data"
    }
   ],
   "source": [
    "CONSENSUS_CLUSTERING_DIR = Path(\n",
    "    conf.RESULTS[\"CLUSTERING_DIR\"], \"consensus_clustering\"\n",
    ").resolve()\n",
    "\n",
    "display(CONSENSUS_CLUSTERING_DIR)"
   ]
  },
  {
   "cell_type": "code",
   "execution_count": 4,
   "metadata": {
    "execution": {
     "iopub.execute_input": "2021-03-11T15:06:47.254642Z",
     "iopub.status.busy": "2021-03-11T15:06:47.254289Z",
     "iopub.status.idle": "2021-03-11T15:06:47.264205Z",
     "shell.execute_reply": "2021-03-11T15:06:47.263842Z"
    },
    "papermill": {
     "duration": 0.023684,
     "end_time": "2021-03-11T15:06:47.264288",
     "exception": false,
     "start_time": "2021-03-11T15:06:47.240604",
     "status": "completed"
    },
    "tags": []
   },
   "outputs": [
    {
     "data": {
      "text/plain": [
       "PosixPath('/home/miltondp/projects/labs/greenelab/phenoplier/base/results/clustering/consensus_clustering/consensus_clustering_runs.pkl')"
      ]
     },
     "metadata": {},
     "output_type": "display_data"
    }
   ],
   "source": [
    "input_file = Path(CONSENSUS_CLUSTERING_DIR, \"consensus_clustering_runs.pkl\").resolve()\n",
    "display(input_file)"
   ]
  },
  {
   "cell_type": "code",
   "execution_count": 5,
   "metadata": {
    "execution": {
     "iopub.execute_input": "2021-03-11T15:06:47.291198Z",
     "iopub.status.busy": "2021-03-11T15:06:47.290844Z",
     "iopub.status.idle": "2021-03-11T15:06:47.306369Z",
     "shell.execute_reply": "2021-03-11T15:06:47.306664Z"
    },
    "papermill": {
     "duration": 0.029879,
     "end_time": "2021-03-11T15:06:47.306774",
     "exception": false,
     "start_time": "2021-03-11T15:06:47.276895",
     "status": "completed"
    },
    "tags": []
   },
   "outputs": [],
   "source": [
    "consensus_clustering_results = pd.read_pickle(input_file)"
   ]
  },
  {
   "cell_type": "code",
   "execution_count": 6,
   "metadata": {
    "execution": {
     "iopub.execute_input": "2021-03-11T15:06:47.334405Z",
     "iopub.status.busy": "2021-03-11T15:06:47.334032Z",
     "iopub.status.idle": "2021-03-11T15:06:47.344246Z",
     "shell.execute_reply": "2021-03-11T15:06:47.343877Z"
    },
    "papermill": {
     "duration": 0.02472,
     "end_time": "2021-03-11T15:06:47.344328",
     "exception": false,
     "start_time": "2021-03-11T15:06:47.319608",
     "status": "completed"
    },
    "tags": []
   },
   "outputs": [
    {
     "data": {
      "text/plain": [
       "(413, 12)"
      ]
     },
     "execution_count": 6,
     "metadata": {},
     "output_type": "execute_result"
    }
   ],
   "source": [
    "consensus_clustering_results.shape"
   ]
  },
  {
   "cell_type": "code",
   "execution_count": 7,
   "metadata": {
    "execution": {
     "iopub.execute_input": "2021-03-11T15:06:47.370997Z",
     "iopub.status.busy": "2021-03-11T15:06:47.370647Z",
     "iopub.status.idle": "2021-03-11T15:06:47.392794Z",
     "shell.execute_reply": "2021-03-11T15:06:47.392384Z"
    },
    "papermill": {
     "duration": 0.036148,
     "end_time": "2021-03-11T15:06:47.392876",
     "exception": false,
     "start_time": "2021-03-11T15:06:47.356728",
     "status": "completed"
    },
    "tags": []
   },
   "outputs": [
    {
     "data": {
      "text/html": [
       "<div>\n",
       "<style scoped>\n",
       "    .dataframe tbody tr th:only-of-type {\n",
       "        vertical-align: middle;\n",
       "    }\n",
       "\n",
       "    .dataframe tbody tr th {\n",
       "        vertical-align: top;\n",
       "    }\n",
       "\n",
       "    .dataframe thead th {\n",
       "        text-align: right;\n",
       "    }\n",
       "</style>\n",
       "<table border=\"1\" class=\"dataframe\">\n",
       "  <thead>\n",
       "    <tr style=\"text-align: right;\">\n",
       "      <th></th>\n",
       "      <th>method</th>\n",
       "      <th>partition</th>\n",
       "      <th>k</th>\n",
       "      <th>ari_mean</th>\n",
       "      <th>ari_median</th>\n",
       "      <th>ari_std</th>\n",
       "      <th>ami_mean</th>\n",
       "      <th>ami_median</th>\n",
       "      <th>ami_std</th>\n",
       "      <th>nmi_mean</th>\n",
       "      <th>nmi_median</th>\n",
       "      <th>nmi_std</th>\n",
       "    </tr>\n",
       "  </thead>\n",
       "  <tbody>\n",
       "    <tr>\n",
       "      <th>0</th>\n",
       "      <td>scc_030</td>\n",
       "      <td>[0, 0, 0, 0, 0, 0, 0, 0, 0, 0, 0, 0, 0, 0, 0, ...</td>\n",
       "      <td>2</td>\n",
       "      <td>0.170172</td>\n",
       "      <td>0.016107</td>\n",
       "      <td>0.280429</td>\n",
       "      <td>0.182083</td>\n",
       "      <td>0.073948</td>\n",
       "      <td>0.241458</td>\n",
       "      <td>0.184787</td>\n",
       "      <td>0.076497</td>\n",
       "      <td>0.240941</td>\n",
       "    </tr>\n",
       "    <tr>\n",
       "      <th>1</th>\n",
       "      <td>scc_030</td>\n",
       "      <td>[0, 0, 0, 0, 0, 0, 0, 0, 0, 0, 0, 0, 0, 0, 0, ...</td>\n",
       "      <td>3</td>\n",
       "      <td>0.170593</td>\n",
       "      <td>0.016107</td>\n",
       "      <td>0.280689</td>\n",
       "      <td>0.198427</td>\n",
       "      <td>0.080792</td>\n",
       "      <td>0.247718</td>\n",
       "      <td>0.202181</td>\n",
       "      <td>0.083653</td>\n",
       "      <td>0.246786</td>\n",
       "    </tr>\n",
       "    <tr>\n",
       "      <th>2</th>\n",
       "      <td>scc_030</td>\n",
       "      <td>[0, 0, 0, 0, 0, 0, 0, 0, 3, 0, 3, 3, 0, 3, 0, ...</td>\n",
       "      <td>4</td>\n",
       "      <td>0.162009</td>\n",
       "      <td>0.086061</td>\n",
       "      <td>0.197582</td>\n",
       "      <td>0.227147</td>\n",
       "      <td>0.204954</td>\n",
       "      <td>0.145220</td>\n",
       "      <td>0.232457</td>\n",
       "      <td>0.211766</td>\n",
       "      <td>0.145033</td>\n",
       "    </tr>\n",
       "    <tr>\n",
       "      <th>3</th>\n",
       "      <td>scc_030</td>\n",
       "      <td>[1, 1, 1, 1, 1, 1, 1, 1, 4, 1, 4, 4, 1, 1, 1, ...</td>\n",
       "      <td>5</td>\n",
       "      <td>0.163732</td>\n",
       "      <td>0.087616</td>\n",
       "      <td>0.198028</td>\n",
       "      <td>0.238870</td>\n",
       "      <td>0.217941</td>\n",
       "      <td>0.145885</td>\n",
       "      <td>0.244974</td>\n",
       "      <td>0.225387</td>\n",
       "      <td>0.145597</td>\n",
       "    </tr>\n",
       "    <tr>\n",
       "      <th>4</th>\n",
       "      <td>scc_030</td>\n",
       "      <td>[0, 0, 0, 0, 0, 0, 0, 0, 5, 0, 5, 5, 0, 5, 0, ...</td>\n",
       "      <td>6</td>\n",
       "      <td>0.164568</td>\n",
       "      <td>0.088147</td>\n",
       "      <td>0.199509</td>\n",
       "      <td>0.250476</td>\n",
       "      <td>0.231739</td>\n",
       "      <td>0.150811</td>\n",
       "      <td>0.257361</td>\n",
       "      <td>0.238495</td>\n",
       "      <td>0.150334</td>\n",
       "    </tr>\n",
       "  </tbody>\n",
       "</table>\n",
       "</div>"
      ],
      "text/plain": [
       "    method                                          partition  k  ari_mean  \\\n",
       "0  scc_030  [0, 0, 0, 0, 0, 0, 0, 0, 0, 0, 0, 0, 0, 0, 0, ...  2  0.170172   \n",
       "1  scc_030  [0, 0, 0, 0, 0, 0, 0, 0, 0, 0, 0, 0, 0, 0, 0, ...  3  0.170593   \n",
       "2  scc_030  [0, 0, 0, 0, 0, 0, 0, 0, 3, 0, 3, 3, 0, 3, 0, ...  4  0.162009   \n",
       "3  scc_030  [1, 1, 1, 1, 1, 1, 1, 1, 4, 1, 4, 4, 1, 1, 1, ...  5  0.163732   \n",
       "4  scc_030  [0, 0, 0, 0, 0, 0, 0, 0, 5, 0, 5, 5, 0, 5, 0, ...  6  0.164568   \n",
       "\n",
       "   ari_median   ari_std  ami_mean  ami_median   ami_std  nmi_mean  nmi_median  \\\n",
       "0    0.016107  0.280429  0.182083    0.073948  0.241458  0.184787    0.076497   \n",
       "1    0.016107  0.280689  0.198427    0.080792  0.247718  0.202181    0.083653   \n",
       "2    0.086061  0.197582  0.227147    0.204954  0.145220  0.232457    0.211766   \n",
       "3    0.087616  0.198028  0.238870    0.217941  0.145885  0.244974    0.225387   \n",
       "4    0.088147  0.199509  0.250476    0.231739  0.150811  0.257361    0.238495   \n",
       "\n",
       "    nmi_std  \n",
       "0  0.240941  \n",
       "1  0.246786  \n",
       "2  0.145033  \n",
       "3  0.145597  \n",
       "4  0.150334  "
      ]
     },
     "execution_count": 7,
     "metadata": {},
     "output_type": "execute_result"
    }
   ],
   "source": [
    "consensus_clustering_results.head()"
   ]
  },
  {
   "cell_type": "markdown",
   "metadata": {
    "papermill": {
     "duration": 0.01251,
     "end_time": "2021-03-11T15:06:47.418055",
     "exception": false,
     "start_time": "2021-03-11T15:06:47.405545",
     "status": "completed"
    },
    "tags": []
   },
   "source": [
    "# Explore best partition per k"
   ]
  },
  {
   "cell_type": "code",
   "execution_count": 8,
   "metadata": {
    "execution": {
     "iopub.execute_input": "2021-03-11T15:06:47.445192Z",
     "iopub.status.busy": "2021-03-11T15:06:47.444835Z",
     "iopub.status.idle": "2021-03-11T15:06:47.453814Z",
     "shell.execute_reply": "2021-03-11T15:06:47.453512Z"
    },
    "papermill": {
     "duration": 0.023557,
     "end_time": "2021-03-11T15:06:47.453900",
     "exception": false,
     "start_time": "2021-03-11T15:06:47.430343",
     "status": "completed"
    },
    "tags": []
   },
   "outputs": [],
   "source": [
    "_selected_measure = \"ARI\"\n",
    "_mean_column, _median_column = \"ari_mean\", \"ari_median\""
   ]
  },
  {
   "cell_type": "code",
   "execution_count": 9,
   "metadata": {
    "execution": {
     "iopub.execute_input": "2021-03-11T15:06:47.481404Z",
     "iopub.status.busy": "2021-03-11T15:06:47.481042Z",
     "iopub.status.idle": "2021-03-11T15:06:47.532032Z",
     "shell.execute_reply": "2021-03-11T15:06:47.531659Z"
    },
    "papermill": {
     "duration": 0.065742,
     "end_time": "2021-03-11T15:06:47.532117",
     "exception": false,
     "start_time": "2021-03-11T15:06:47.466375",
     "status": "completed"
    },
    "tags": []
   },
   "outputs": [
    {
     "data": {
      "text/html": [
       "<div>\n",
       "<style scoped>\n",
       "    .dataframe tbody tr th:only-of-type {\n",
       "        vertical-align: middle;\n",
       "    }\n",
       "\n",
       "    .dataframe tbody tr th {\n",
       "        vertical-align: top;\n",
       "    }\n",
       "\n",
       "    .dataframe thead th {\n",
       "        text-align: right;\n",
       "    }\n",
       "</style>\n",
       "<table border=\"1\" class=\"dataframe\">\n",
       "  <thead>\n",
       "    <tr style=\"text-align: right;\">\n",
       "      <th></th>\n",
       "      <th></th>\n",
       "      <th>method</th>\n",
       "      <th>k</th>\n",
       "      <th>ari_mean</th>\n",
       "      <th>ari_median</th>\n",
       "    </tr>\n",
       "    <tr>\n",
       "      <th>k</th>\n",
       "      <th></th>\n",
       "      <th></th>\n",
       "      <th></th>\n",
       "      <th></th>\n",
       "      <th></th>\n",
       "    </tr>\n",
       "  </thead>\n",
       "  <tbody>\n",
       "    <tr>\n",
       "      <th>8</th>\n",
       "      <th>183</th>\n",
       "      <td>scc_020</td>\n",
       "      <td>8</td>\n",
       "      <td>0.224684</td>\n",
       "      <td>0.040295</td>\n",
       "    </tr>\n",
       "    <tr>\n",
       "      <th>10</th>\n",
       "      <th>244</th>\n",
       "      <td>scc_025</td>\n",
       "      <td>10</td>\n",
       "      <td>0.224565</td>\n",
       "      <td>0.040271</td>\n",
       "    </tr>\n",
       "    <tr>\n",
       "      <th>7</th>\n",
       "      <th>182</th>\n",
       "      <td>scc_020</td>\n",
       "      <td>7</td>\n",
       "      <td>0.221514</td>\n",
       "      <td>0.038231</td>\n",
       "    </tr>\n",
       "    <tr>\n",
       "      <th>6</th>\n",
       "      <th>181</th>\n",
       "      <td>scc_020</td>\n",
       "      <td>6</td>\n",
       "      <td>0.221500</td>\n",
       "      <td>0.038239</td>\n",
       "    </tr>\n",
       "    <tr>\n",
       "      <th>12</th>\n",
       "      <th>187</th>\n",
       "      <td>scc_020</td>\n",
       "      <td>12</td>\n",
       "      <td>0.220312</td>\n",
       "      <td>0.048236</td>\n",
       "    </tr>\n",
       "    <tr>\n",
       "      <th>11</th>\n",
       "      <th>186</th>\n",
       "      <td>scc_020</td>\n",
       "      <td>11</td>\n",
       "      <td>0.220305</td>\n",
       "      <td>0.048231</td>\n",
       "    </tr>\n",
       "    <tr>\n",
       "      <th>9</th>\n",
       "      <th>184</th>\n",
       "      <td>scc_020</td>\n",
       "      <td>9</td>\n",
       "      <td>0.220035</td>\n",
       "      <td>0.044590</td>\n",
       "    </tr>\n",
       "    <tr>\n",
       "      <th>18</th>\n",
       "      <th>193</th>\n",
       "      <td>scc_020</td>\n",
       "      <td>18</td>\n",
       "      <td>0.216592</td>\n",
       "      <td>0.054577</td>\n",
       "    </tr>\n",
       "    <tr>\n",
       "      <th>17</th>\n",
       "      <th>192</th>\n",
       "      <td>scc_020</td>\n",
       "      <td>17</td>\n",
       "      <td>0.216356</td>\n",
       "      <td>0.055814</td>\n",
       "    </tr>\n",
       "    <tr>\n",
       "      <th>16</th>\n",
       "      <th>191</th>\n",
       "      <td>scc_020</td>\n",
       "      <td>16</td>\n",
       "      <td>0.215959</td>\n",
       "      <td>0.056176</td>\n",
       "    </tr>\n",
       "  </tbody>\n",
       "</table>\n",
       "</div>"
      ],
      "text/plain": [
       "         method   k  ari_mean  ari_median\n",
       "k                                        \n",
       "8  183  scc_020   8  0.224684    0.040295\n",
       "10 244  scc_025  10  0.224565    0.040271\n",
       "7  182  scc_020   7  0.221514    0.038231\n",
       "6  181  scc_020   6  0.221500    0.038239\n",
       "12 187  scc_020  12  0.220312    0.048236\n",
       "11 186  scc_020  11  0.220305    0.048231\n",
       "9  184  scc_020   9  0.220035    0.044590\n",
       "18 193  scc_020  18  0.216592    0.054577\n",
       "17 192  scc_020  17  0.216356    0.055814\n",
       "16 191  scc_020  16  0.215959    0.056176"
      ]
     },
     "metadata": {},
     "output_type": "display_data"
    }
   ],
   "source": [
    "_tmp = (\n",
    "    consensus_clustering_results.groupby(\"k\")\n",
    "    .apply(lambda x: x.sort_values(_mean_column, ascending=False).head(1))\n",
    "    .sort_values(_mean_column, ascending=False)[\n",
    "        [\"method\", \"k\", _mean_column, _median_column]\n",
    "    ]\n",
    ")\n",
    "display(_tmp.head(10))"
   ]
  },
  {
   "cell_type": "code",
   "execution_count": 10,
   "metadata": {
    "execution": {
     "iopub.execute_input": "2021-03-11T15:06:47.561371Z",
     "iopub.status.busy": "2021-03-11T15:06:47.561001Z",
     "iopub.status.idle": "2021-03-11T15:06:49.361325Z",
     "shell.execute_reply": "2021-03-11T15:06:49.361657Z"
    },
    "papermill": {
     "duration": 1.816746,
     "end_time": "2021-03-11T15:06:49.361762",
     "exception": false,
     "start_time": "2021-03-11T15:06:47.545016",
     "status": "completed"
    },
    "tags": []
   },
   "outputs": [
    {
     "data": {
      "image/png": "[encoded data removed]",
      "text/plain": [
       "<Figure size 864x432 with 1 Axes>"
      ]
     },
     "metadata": {},
     "output_type": "display_data"
    }
   ],
   "source": [
    "with sns.plotting_context(\"talk\", font_scale=0.75), sns.axes_style(\n",
    "    \"whitegrid\", {\"grid.linestyle\": \"--\"}\n",
    "):\n",
    "    fig, ax = plt.subplots(figsize=(12, 6))\n",
    "    ax = sns.pointplot(data=_tmp, x=\"k\", y=_mean_column, ci=None, label=\"One\")\n",
    "    ax = sns.pointplot(\n",
    "        data=_tmp, x=\"k\", y=_median_column, ci=None, color=\"red\", label=\"Two\", ax=ax\n",
    "    )\n",
    "    ax.set_ylabel(f\"Agreement with ensemble ({_selected_measure})\")\n",
    "    ax.set_xlabel(\"Number of clusters ($k$)\")\n",
    "    ax.set_xticklabels(ax.get_xticklabels(), rotation=45)\n",
    "    plt.legend(labels=[\"Mean\", \"Median\"])\n",
    "    plt.grid(True)\n",
    "    plt.tight_layout()"
   ]
  },
  {
   "cell_type": "markdown",
   "metadata": {
    "papermill": {
     "duration": 0.01408,
     "end_time": "2021-03-11T15:06:49.391061",
     "exception": false,
     "start_time": "2021-03-11T15:06:49.376981",
     "status": "completed"
    },
    "tags": []
   },
   "source": [
    "# Select best partition per k"
   ]
  },
  {
   "cell_type": "code",
   "execution_count": 11,
   "metadata": {
    "execution": {
     "iopub.execute_input": "2021-03-11T15:06:49.422121Z",
     "iopub.status.busy": "2021-03-11T15:06:49.421765Z",
     "iopub.status.idle": "2021-03-11T15:06:49.431302Z",
     "shell.execute_reply": "2021-03-11T15:06:49.430910Z"
    },
    "papermill": {
     "duration": 0.026077,
     "end_time": "2021-03-11T15:06:49.431383",
     "exception": false,
     "start_time": "2021-03-11T15:06:49.405306",
     "status": "completed"
    },
    "tags": []
   },
   "outputs": [],
   "source": [
    "_selected_stat = \"Median\"\n",
    "_measure_col = _median_column"
   ]
  },
  {
   "cell_type": "code",
   "execution_count": 12,
   "metadata": {
    "execution": {
     "iopub.execute_input": "2021-03-11T15:06:49.462992Z",
     "iopub.status.busy": "2021-03-11T15:06:49.462628Z",
     "iopub.status.idle": "2021-03-11T15:06:49.507524Z",
     "shell.execute_reply": "2021-03-11T15:06:49.507148Z"
    },
    "papermill": {
     "duration": 0.061712,
     "end_time": "2021-03-11T15:06:49.507607",
     "exception": false,
     "start_time": "2021-03-11T15:06:49.445895",
     "status": "completed"
    },
    "tags": []
   },
   "outputs": [],
   "source": [
    "best_parts = (\n",
    "    consensus_clustering_results.groupby(\"k\")\n",
    "    .apply(lambda x: x.sort_values(_measure_col, ascending=False).head(1))\n",
    "    .sort_values(_measure_col, ascending=False)[\n",
    "        [\"method\", \"k\", \"partition\", _measure_col]\n",
    "    ]\n",
    ")"
   ]
  },
  {
   "cell_type": "code",
   "execution_count": 13,
   "metadata": {
    "execution": {
     "iopub.execute_input": "2021-03-11T15:06:49.539115Z",
     "iopub.status.busy": "2021-03-11T15:06:49.538752Z",
     "iopub.status.idle": "2021-03-11T15:06:49.548173Z",
     "shell.execute_reply": "2021-03-11T15:06:49.548446Z"
    },
    "papermill": {
     "duration": 0.026367,
     "end_time": "2021-03-11T15:06:49.548549",
     "exception": false,
     "start_time": "2021-03-11T15:06:49.522182",
     "status": "completed"
    },
    "tags": []
   },
   "outputs": [],
   "source": [
    "best_parts = best_parts.set_index(\"k\")"
   ]
  },
  {
   "cell_type": "code",
   "execution_count": 14,
   "metadata": {
    "execution": {
     "iopub.execute_input": "2021-03-11T15:06:49.579781Z",
     "iopub.status.busy": "2021-03-11T15:06:49.579430Z",
     "iopub.status.idle": "2021-03-11T15:06:49.589469Z",
     "shell.execute_reply": "2021-03-11T15:06:49.589099Z"
    },
    "papermill": {
     "duration": 0.026365,
     "end_time": "2021-03-11T15:06:49.589552",
     "exception": false,
     "start_time": "2021-03-11T15:06:49.563187",
     "status": "completed"
    },
    "tags": []
   },
   "outputs": [
    {
     "data": {
      "text/plain": [
       "(59, 3)"
      ]
     },
     "execution_count": 14,
     "metadata": {},
     "output_type": "execute_result"
    }
   ],
   "source": [
    "best_parts.shape"
   ]
  },
  {
   "cell_type": "code",
   "execution_count": 15,
   "metadata": {
    "execution": {
     "iopub.execute_input": "2021-03-11T15:06:49.622226Z",
     "iopub.status.busy": "2021-03-11T15:06:49.621872Z",
     "iopub.status.idle": "2021-03-11T15:06:49.643999Z",
     "shell.execute_reply": "2021-03-11T15:06:49.643642Z"
    },
    "papermill": {
     "duration": 0.039398,
     "end_time": "2021-03-11T15:06:49.644079",
     "exception": false,
     "start_time": "2021-03-11T15:06:49.604681",
     "status": "completed"
    },
    "tags": []
   },
   "outputs": [
    {
     "data": {
      "text/html": [
       "<div>\n",
       "<style scoped>\n",
       "    .dataframe tbody tr th:only-of-type {\n",
       "        vertical-align: middle;\n",
       "    }\n",
       "\n",
       "    .dataframe tbody tr th {\n",
       "        vertical-align: top;\n",
       "    }\n",
       "\n",
       "    .dataframe thead th {\n",
       "        text-align: right;\n",
       "    }\n",
       "</style>\n",
       "<table border=\"1\" class=\"dataframe\">\n",
       "  <thead>\n",
       "    <tr style=\"text-align: right;\">\n",
       "      <th></th>\n",
       "      <th>method</th>\n",
       "      <th>partition</th>\n",
       "      <th>ari_median</th>\n",
       "    </tr>\n",
       "    <tr>\n",
       "      <th>k</th>\n",
       "      <th></th>\n",
       "      <th></th>\n",
       "      <th></th>\n",
       "    </tr>\n",
       "  </thead>\n",
       "  <tbody>\n",
       "    <tr>\n",
       "      <th>11</th>\n",
       "      <td>scc_025</td>\n",
       "      <td>[0, 0, 0, 0, 0, 0, 0, 0, 0, 0, 0, 0, 0, 0, 0, ...</td>\n",
       "      <td>0.090231</td>\n",
       "    </tr>\n",
       "    <tr>\n",
       "      <th>13</th>\n",
       "      <td>scc_025</td>\n",
       "      <td>[2, 2, 2, 2, 2, 2, 2, 2, 2, 2, 2, 2, 2, 2, 2, ...</td>\n",
       "      <td>0.090222</td>\n",
       "    </tr>\n",
       "    <tr>\n",
       "      <th>14</th>\n",
       "      <td>scc_025</td>\n",
       "      <td>[0, 0, 0, 0, 0, 0, 0, 0, 0, 0, 0, 0, 0, 0, 0, ...</td>\n",
       "      <td>0.090138</td>\n",
       "    </tr>\n",
       "    <tr>\n",
       "      <th>22</th>\n",
       "      <td>scc_020</td>\n",
       "      <td>[1, 19, 19, 19, 19, 19, 19, 19, 19, 1, 19, 19,...</td>\n",
       "      <td>0.090117</td>\n",
       "    </tr>\n",
       "    <tr>\n",
       "      <th>12</th>\n",
       "      <td>scc_025</td>\n",
       "      <td>[10, 10, 10, 10, 10, 10, 10, 10, 10, 10, 10, 1...</td>\n",
       "      <td>0.089742</td>\n",
       "    </tr>\n",
       "    <tr>\n",
       "      <th>15</th>\n",
       "      <td>scc_025</td>\n",
       "      <td>[0, 0, 0, 0, 0, 0, 0, 0, 0, 0, 0, 0, 0, 0, 0, ...</td>\n",
       "      <td>0.089679</td>\n",
       "    </tr>\n",
       "    <tr>\n",
       "      <th>8</th>\n",
       "      <td>scc_025</td>\n",
       "      <td>[6, 6, 6, 6, 6, 6, 6, 6, 6, 6, 6, 6, 6, 6, 6, ...</td>\n",
       "      <td>0.089451</td>\n",
       "    </tr>\n",
       "    <tr>\n",
       "      <th>9</th>\n",
       "      <td>scc_025</td>\n",
       "      <td>[0, 0, 0, 0, 0, 0, 0, 0, 0, 0, 0, 0, 0, 0, 0, ...</td>\n",
       "      <td>0.089429</td>\n",
       "    </tr>\n",
       "    <tr>\n",
       "      <th>6</th>\n",
       "      <td>eac_complete_coassoc_matrix</td>\n",
       "      <td>[2, 2, 2, 2, 2, 2, 2, 2, 2, 2, 2, 2, 2, 2, 2, ...</td>\n",
       "      <td>0.089399</td>\n",
       "    </tr>\n",
       "    <tr>\n",
       "      <th>7</th>\n",
       "      <td>eac_complete_coassoc_matrix</td>\n",
       "      <td>[2, 2, 2, 2, 2, 2, 2, 2, 2, 2, 2, 2, 2, 2, 2, ...</td>\n",
       "      <td>0.089399</td>\n",
       "    </tr>\n",
       "  </tbody>\n",
       "</table>\n",
       "</div>"
      ],
      "text/plain": [
       "                         method  \\\n",
       "k                                 \n",
       "11                      scc_025   \n",
       "13                      scc_025   \n",
       "14                      scc_025   \n",
       "22                      scc_020   \n",
       "12                      scc_025   \n",
       "15                      scc_025   \n",
       "8                       scc_025   \n",
       "9                       scc_025   \n",
       "6   eac_complete_coassoc_matrix   \n",
       "7   eac_complete_coassoc_matrix   \n",
       "\n",
       "                                            partition  ari_median  \n",
       "k                                                                  \n",
       "11  [0, 0, 0, 0, 0, 0, 0, 0, 0, 0, 0, 0, 0, 0, 0, ...    0.090231  \n",
       "13  [2, 2, 2, 2, 2, 2, 2, 2, 2, 2, 2, 2, 2, 2, 2, ...    0.090222  \n",
       "14  [0, 0, 0, 0, 0, 0, 0, 0, 0, 0, 0, 0, 0, 0, 0, ...    0.090138  \n",
       "22  [1, 19, 19, 19, 19, 19, 19, 19, 19, 1, 19, 19,...    0.090117  \n",
       "12  [10, 10, 10, 10, 10, 10, 10, 10, 10, 10, 10, 1...    0.089742  \n",
       "15  [0, 0, 0, 0, 0, 0, 0, 0, 0, 0, 0, 0, 0, 0, 0, ...    0.089679  \n",
       "8   [6, 6, 6, 6, 6, 6, 6, 6, 6, 6, 6, 6, 6, 6, 6, ...    0.089451  \n",
       "9   [0, 0, 0, 0, 0, 0, 0, 0, 0, 0, 0, 0, 0, 0, 0, ...    0.089429  \n",
       "6   [2, 2, 2, 2, 2, 2, 2, 2, 2, 2, 2, 2, 2, 2, 2, ...    0.089399  \n",
       "7   [2, 2, 2, 2, 2, 2, 2, 2, 2, 2, 2, 2, 2, 2, 2, ...    0.089399  "
      ]
     },
     "execution_count": 15,
     "metadata": {},
     "output_type": "execute_result"
    }
   ],
   "source": [
    "# show partitions with top values\n",
    "best_parts.head(10)"
   ]
  },
  {
   "cell_type": "code",
   "execution_count": 16,
   "metadata": {
    "execution": {
     "iopub.execute_input": "2021-03-11T15:06:49.676952Z",
     "iopub.status.busy": "2021-03-11T15:06:49.676553Z",
     "iopub.status.idle": "2021-03-11T15:06:49.747055Z",
     "shell.execute_reply": "2021-03-11T15:06:49.746667Z"
    },
    "papermill": {
     "duration": 0.088109,
     "end_time": "2021-03-11T15:06:49.747149",
     "exception": false,
     "start_time": "2021-03-11T15:06:49.659040",
     "status": "completed"
    },
    "tags": []
   },
   "outputs": [
    {
     "data": {
      "text/html": [
       "<div>\n",
       "<style scoped>\n",
       "    .dataframe tbody tr th:only-of-type {\n",
       "        vertical-align: middle;\n",
       "    }\n",
       "\n",
       "    .dataframe tbody tr th {\n",
       "        vertical-align: top;\n",
       "    }\n",
       "\n",
       "    .dataframe thead th {\n",
       "        text-align: right;\n",
       "    }\n",
       "</style>\n",
       "<table border=\"1\" class=\"dataframe\">\n",
       "  <thead>\n",
       "    <tr style=\"text-align: right;\">\n",
       "      <th></th>\n",
       "      <th>method</th>\n",
       "      <th>partition</th>\n",
       "      <th>ari_median</th>\n",
       "    </tr>\n",
       "    <tr>\n",
       "      <th>k</th>\n",
       "      <th></th>\n",
       "      <th></th>\n",
       "      <th></th>\n",
       "    </tr>\n",
       "  </thead>\n",
       "  <tbody>\n",
       "    <tr>\n",
       "      <th>2</th>\n",
       "      <td>scc_050</td>\n",
       "      <td>[0, 0, 0, 1, 1, 1, 1, 1, 0, 1, 0, 0, 1, 0, 1, ...</td>\n",
       "      <td>0.077181</td>\n",
       "    </tr>\n",
       "    <tr>\n",
       "      <th>3</th>\n",
       "      <td>scc_050</td>\n",
       "      <td>[2, 2, 2, 0, 0, 0, 0, 0, 2, 0, 2, 2, 0, 2, 0, ...</td>\n",
       "      <td>0.064184</td>\n",
       "    </tr>\n",
       "    <tr>\n",
       "      <th>4</th>\n",
       "      <td>scc_030</td>\n",
       "      <td>[0, 0, 0, 0, 0, 0, 0, 0, 3, 0, 3, 3, 0, 3, 0, ...</td>\n",
       "      <td>0.086061</td>\n",
       "    </tr>\n",
       "    <tr>\n",
       "      <th>5</th>\n",
       "      <td>scc_030</td>\n",
       "      <td>[1, 1, 1, 1, 1, 1, 1, 1, 4, 1, 4, 4, 1, 1, 1, ...</td>\n",
       "      <td>0.087616</td>\n",
       "    </tr>\n",
       "    <tr>\n",
       "      <th>6</th>\n",
       "      <td>eac_complete_coassoc_matrix</td>\n",
       "      <td>[2, 2, 2, 2, 2, 2, 2, 2, 2, 2, 2, 2, 2, 2, 2, ...</td>\n",
       "      <td>0.089399</td>\n",
       "    </tr>\n",
       "    <tr>\n",
       "      <th>7</th>\n",
       "      <td>eac_complete_coassoc_matrix</td>\n",
       "      <td>[2, 2, 2, 2, 2, 2, 2, 2, 2, 2, 2, 2, 2, 2, 2, ...</td>\n",
       "      <td>0.089399</td>\n",
       "    </tr>\n",
       "    <tr>\n",
       "      <th>8</th>\n",
       "      <td>scc_025</td>\n",
       "      <td>[6, 6, 6, 6, 6, 6, 6, 6, 6, 6, 6, 6, 6, 6, 6, ...</td>\n",
       "      <td>0.089451</td>\n",
       "    </tr>\n",
       "    <tr>\n",
       "      <th>9</th>\n",
       "      <td>scc_025</td>\n",
       "      <td>[0, 0, 0, 0, 0, 0, 0, 0, 0, 0, 0, 0, 0, 0, 0, ...</td>\n",
       "      <td>0.089429</td>\n",
       "    </tr>\n",
       "    <tr>\n",
       "      <th>10</th>\n",
       "      <td>eac_complete_coassoc_matrix</td>\n",
       "      <td>[2, 2, 2, 2, 2, 2, 2, 2, 2, 2, 2, 2, 2, 2, 2, ...</td>\n",
       "      <td>0.089349</td>\n",
       "    </tr>\n",
       "    <tr>\n",
       "      <th>11</th>\n",
       "      <td>scc_025</td>\n",
       "      <td>[0, 0, 0, 0, 0, 0, 0, 0, 0, 0, 0, 0, 0, 0, 0, ...</td>\n",
       "      <td>0.090231</td>\n",
       "    </tr>\n",
       "    <tr>\n",
       "      <th>12</th>\n",
       "      <td>scc_025</td>\n",
       "      <td>[10, 10, 10, 10, 10, 10, 10, 10, 10, 10, 10, 1...</td>\n",
       "      <td>0.089742</td>\n",
       "    </tr>\n",
       "    <tr>\n",
       "      <th>13</th>\n",
       "      <td>scc_025</td>\n",
       "      <td>[2, 2, 2, 2, 2, 2, 2, 2, 2, 2, 2, 2, 2, 2, 2, ...</td>\n",
       "      <td>0.090222</td>\n",
       "    </tr>\n",
       "    <tr>\n",
       "      <th>14</th>\n",
       "      <td>scc_025</td>\n",
       "      <td>[0, 0, 0, 0, 0, 0, 0, 0, 0, 0, 0, 0, 0, 0, 0, ...</td>\n",
       "      <td>0.090138</td>\n",
       "    </tr>\n",
       "    <tr>\n",
       "      <th>15</th>\n",
       "      <td>scc_025</td>\n",
       "      <td>[0, 0, 0, 0, 0, 0, 0, 0, 0, 0, 0, 0, 0, 0, 0, ...</td>\n",
       "      <td>0.089679</td>\n",
       "    </tr>\n",
       "    <tr>\n",
       "      <th>16</th>\n",
       "      <td>scc_025</td>\n",
       "      <td>[0, 0, 0, 0, 0, 0, 0, 0, 0, 0, 0, 0, 0, 0, 0, ...</td>\n",
       "      <td>0.089288</td>\n",
       "    </tr>\n",
       "    <tr>\n",
       "      <th>17</th>\n",
       "      <td>eac_average_coassoc_matrix</td>\n",
       "      <td>[12, 12, 12, 12, 12, 12, 12, 12, 12, 0, 12, 12...</td>\n",
       "      <td>0.086211</td>\n",
       "    </tr>\n",
       "    <tr>\n",
       "      <th>18</th>\n",
       "      <td>eac_average_coassoc_matrix</td>\n",
       "      <td>[12, 12, 12, 12, 12, 12, 12, 12, 12, 0, 12, 12...</td>\n",
       "      <td>0.086011</td>\n",
       "    </tr>\n",
       "    <tr>\n",
       "      <th>19</th>\n",
       "      <td>eac_average_coassoc_matrix</td>\n",
       "      <td>[12, 12, 12, 12, 12, 12, 12, 12, 12, 2, 12, 12...</td>\n",
       "      <td>0.085308</td>\n",
       "    </tr>\n",
       "    <tr>\n",
       "      <th>20</th>\n",
       "      <td>eac_average_coassoc_matrix</td>\n",
       "      <td>[12, 12, 12, 12, 12, 12, 12, 12, 12, 0, 12, 12...</td>\n",
       "      <td>0.084858</td>\n",
       "    </tr>\n",
       "    <tr>\n",
       "      <th>21</th>\n",
       "      <td>eac_average_coassoc_matrix</td>\n",
       "      <td>[12, 12, 12, 12, 12, 12, 12, 12, 12, 2, 12, 12...</td>\n",
       "      <td>0.083926</td>\n",
       "    </tr>\n",
       "    <tr>\n",
       "      <th>22</th>\n",
       "      <td>scc_020</td>\n",
       "      <td>[1, 19, 19, 19, 19, 19, 19, 19, 19, 1, 19, 19,...</td>\n",
       "      <td>0.090117</td>\n",
       "    </tr>\n",
       "    <tr>\n",
       "      <th>23</th>\n",
       "      <td>scc_020</td>\n",
       "      <td>[1, 0, 0, 0, 0, 0, 0, 0, 0, 1, 0, 0, 1, 0, 1, ...</td>\n",
       "      <td>0.085791</td>\n",
       "    </tr>\n",
       "    <tr>\n",
       "      <th>24</th>\n",
       "      <td>scc_020</td>\n",
       "      <td>[0, 19, 19, 19, 19, 19, 19, 19, 19, 0, 19, 19,...</td>\n",
       "      <td>0.085881</td>\n",
       "    </tr>\n",
       "    <tr>\n",
       "      <th>25</th>\n",
       "      <td>scc_020</td>\n",
       "      <td>[0, 19, 19, 19, 19, 19, 19, 19, 19, 0, 19, 19,...</td>\n",
       "      <td>0.088912</td>\n",
       "    </tr>\n",
       "    <tr>\n",
       "      <th>26</th>\n",
       "      <td>scc_020</td>\n",
       "      <td>[2, 19, 19, 19, 19, 19, 19, 19, 19, 2, 19, 19,...</td>\n",
       "      <td>0.087098</td>\n",
       "    </tr>\n",
       "    <tr>\n",
       "      <th>27</th>\n",
       "      <td>scc_020</td>\n",
       "      <td>[0, 18, 18, 18, 18, 18, 18, 18, 18, 0, 18, 18,...</td>\n",
       "      <td>0.084622</td>\n",
       "    </tr>\n",
       "    <tr>\n",
       "      <th>28</th>\n",
       "      <td>scc_020</td>\n",
       "      <td>[0, 20, 20, 20, 20, 20, 20, 20, 20, 0, 20, 20,...</td>\n",
       "      <td>0.086759</td>\n",
       "    </tr>\n",
       "    <tr>\n",
       "      <th>29</th>\n",
       "      <td>scc_020</td>\n",
       "      <td>[0, 22, 22, 22, 22, 22, 22, 22, 22, 0, 22, 22,...</td>\n",
       "      <td>0.086981</td>\n",
       "    </tr>\n",
       "    <tr>\n",
       "      <th>30</th>\n",
       "      <td>eac_average_coassoc_matrix</td>\n",
       "      <td>[25, 25, 25, 25, 25, 25, 25, 25, 25, 2, 25, 25...</td>\n",
       "      <td>0.079809</td>\n",
       "    </tr>\n",
       "    <tr>\n",
       "      <th>31</th>\n",
       "      <td>eac_average_coassoc_matrix</td>\n",
       "      <td>[25, 25, 25, 25, 25, 25, 25, 25, 25, 2, 25, 25...</td>\n",
       "      <td>0.083207</td>\n",
       "    </tr>\n",
       "    <tr>\n",
       "      <th>32</th>\n",
       "      <td>eac_average_coassoc_matrix</td>\n",
       "      <td>[25, 25, 25, 25, 25, 25, 25, 25, 25, 0, 25, 25...</td>\n",
       "      <td>0.083221</td>\n",
       "    </tr>\n",
       "    <tr>\n",
       "      <th>33</th>\n",
       "      <td>eac_average_coassoc_matrix</td>\n",
       "      <td>[25, 25, 25, 25, 25, 25, 25, 25, 25, 9, 25, 25...</td>\n",
       "      <td>0.075782</td>\n",
       "    </tr>\n",
       "    <tr>\n",
       "      <th>34</th>\n",
       "      <td>scc_020</td>\n",
       "      <td>[0, 24, 24, 24, 24, 24, 24, 24, 24, 0, 24, 24,...</td>\n",
       "      <td>0.073722</td>\n",
       "    </tr>\n",
       "    <tr>\n",
       "      <th>35</th>\n",
       "      <td>eac_average_coassoc_matrix</td>\n",
       "      <td>[25, 25, 25, 25, 25, 25, 25, 25, 25, 1, 25, 25...</td>\n",
       "      <td>0.071143</td>\n",
       "    </tr>\n",
       "    <tr>\n",
       "      <th>36</th>\n",
       "      <td>scc_020</td>\n",
       "      <td>[32, 25, 25, 25, 25, 25, 25, 25, 25, 32, 25, 2...</td>\n",
       "      <td>0.076452</td>\n",
       "    </tr>\n",
       "    <tr>\n",
       "      <th>37</th>\n",
       "      <td>eac_average_coassoc_matrix</td>\n",
       "      <td>[25, 25, 25, 25, 25, 25, 25, 25, 25, 1, 25, 25...</td>\n",
       "      <td>0.071145</td>\n",
       "    </tr>\n",
       "    <tr>\n",
       "      <th>38</th>\n",
       "      <td>eac_average_coassoc_matrix</td>\n",
       "      <td>[25, 25, 25, 25, 25, 25, 25, 25, 25, 1, 25, 25...</td>\n",
       "      <td>0.071151</td>\n",
       "    </tr>\n",
       "    <tr>\n",
       "      <th>39</th>\n",
       "      <td>eac_average_coassoc_matrix</td>\n",
       "      <td>[25, 25, 25, 25, 25, 25, 25, 25, 25, 0, 25, 25...</td>\n",
       "      <td>0.071145</td>\n",
       "    </tr>\n",
       "    <tr>\n",
       "      <th>40</th>\n",
       "      <td>scc_020</td>\n",
       "      <td>[19, 27, 27, 27, 27, 27, 27, 27, 27, 19, 27, 2...</td>\n",
       "      <td>0.071146</td>\n",
       "    </tr>\n",
       "    <tr>\n",
       "      <th>41</th>\n",
       "      <td>eac_average_coassoc_matrix</td>\n",
       "      <td>[25, 25, 25, 25, 25, 25, 25, 25, 25, 11, 25, 2...</td>\n",
       "      <td>0.060026</td>\n",
       "    </tr>\n",
       "    <tr>\n",
       "      <th>42</th>\n",
       "      <td>eac_average_coassoc_matrix</td>\n",
       "      <td>[25, 25, 25, 25, 25, 25, 25, 25, 25, 11, 25, 2...</td>\n",
       "      <td>0.059975</td>\n",
       "    </tr>\n",
       "    <tr>\n",
       "      <th>43</th>\n",
       "      <td>eac_average_coassoc_matrix</td>\n",
       "      <td>[25, 25, 25, 25, 25, 25, 25, 25, 25, 5, 25, 25...</td>\n",
       "      <td>0.057799</td>\n",
       "    </tr>\n",
       "    <tr>\n",
       "      <th>44</th>\n",
       "      <td>eac_average_coassoc_matrix</td>\n",
       "      <td>[25, 25, 25, 25, 25, 25, 25, 25, 25, 5, 25, 25...</td>\n",
       "      <td>0.057788</td>\n",
       "    </tr>\n",
       "    <tr>\n",
       "      <th>45</th>\n",
       "      <td>scc_020</td>\n",
       "      <td>[0, 27, 27, 27, 27, 27, 27, 27, 27, 0, 27, 27,...</td>\n",
       "      <td>0.058354</td>\n",
       "    </tr>\n",
       "    <tr>\n",
       "      <th>46</th>\n",
       "      <td>eac_average_coassoc_matrix</td>\n",
       "      <td>[25, 25, 25, 25, 25, 25, 25, 25, 25, 0, 25, 25...</td>\n",
       "      <td>0.057793</td>\n",
       "    </tr>\n",
       "    <tr>\n",
       "      <th>47</th>\n",
       "      <td>scc_020</td>\n",
       "      <td>[34, 31, 31, 31, 31, 31, 31, 31, 31, 34, 31, 3...</td>\n",
       "      <td>0.060092</td>\n",
       "    </tr>\n",
       "    <tr>\n",
       "      <th>48</th>\n",
       "      <td>scc_020</td>\n",
       "      <td>[44, 24, 24, 24, 24, 24, 24, 24, 24, 44, 24, 2...</td>\n",
       "      <td>0.057191</td>\n",
       "    </tr>\n",
       "    <tr>\n",
       "      <th>49</th>\n",
       "      <td>eac_average_coassoc_matrix</td>\n",
       "      <td>[25, 25, 25, 25, 25, 25, 25, 25, 25, 6, 25, 25...</td>\n",
       "      <td>0.051914</td>\n",
       "    </tr>\n",
       "    <tr>\n",
       "      <th>50</th>\n",
       "      <td>eac_single_coassoc_matrix</td>\n",
       "      <td>[0, 0, 0, 0, 0, 0, 0, 0, 0, 0, 0, 0, 0, 0, 0, ...</td>\n",
       "      <td>0.055433</td>\n",
       "    </tr>\n",
       "    <tr>\n",
       "      <th>51</th>\n",
       "      <td>eac_single_coassoc_matrix</td>\n",
       "      <td>[0, 0, 0, 0, 0, 0, 0, 0, 0, 0, 0, 0, 0, 0, 0, ...</td>\n",
       "      <td>0.055554</td>\n",
       "    </tr>\n",
       "    <tr>\n",
       "      <th>52</th>\n",
       "      <td>eac_single_coassoc_matrix</td>\n",
       "      <td>[0, 0, 0, 0, 0, 0, 0, 0, 0, 0, 0, 0, 0, 0, 0, ...</td>\n",
       "      <td>0.055830</td>\n",
       "    </tr>\n",
       "    <tr>\n",
       "      <th>53</th>\n",
       "      <td>eac_single_coassoc_matrix</td>\n",
       "      <td>[0, 0, 0, 0, 0, 0, 0, 0, 0, 0, 0, 0, 0, 0, 0, ...</td>\n",
       "      <td>0.055592</td>\n",
       "    </tr>\n",
       "    <tr>\n",
       "      <th>54</th>\n",
       "      <td>eac_single_coassoc_matrix</td>\n",
       "      <td>[0, 0, 0, 0, 0, 0, 0, 0, 0, 0, 0, 0, 0, 0, 0, ...</td>\n",
       "      <td>0.055779</td>\n",
       "    </tr>\n",
       "    <tr>\n",
       "      <th>55</th>\n",
       "      <td>eac_single_coassoc_matrix</td>\n",
       "      <td>[0, 0, 0, 0, 0, 0, 0, 0, 0, 0, 0, 0, 0, 0, 0, ...</td>\n",
       "      <td>0.056551</td>\n",
       "    </tr>\n",
       "    <tr>\n",
       "      <th>56</th>\n",
       "      <td>eac_single_coassoc_matrix</td>\n",
       "      <td>[0, 0, 0, 0, 0, 0, 0, 0, 0, 0, 0, 0, 0, 0, 0, ...</td>\n",
       "      <td>0.056860</td>\n",
       "    </tr>\n",
       "    <tr>\n",
       "      <th>57</th>\n",
       "      <td>eac_single_coassoc_matrix</td>\n",
       "      <td>[0, 0, 0, 0, 0, 0, 0, 0, 0, 0, 0, 0, 0, 0, 0, ...</td>\n",
       "      <td>0.056791</td>\n",
       "    </tr>\n",
       "    <tr>\n",
       "      <th>58</th>\n",
       "      <td>eac_single_coassoc_matrix</td>\n",
       "      <td>[0, 0, 0, 0, 0, 0, 0, 0, 0, 0, 0, 0, 0, 0, 0, ...</td>\n",
       "      <td>0.057045</td>\n",
       "    </tr>\n",
       "    <tr>\n",
       "      <th>59</th>\n",
       "      <td>eac_single_coassoc_matrix</td>\n",
       "      <td>[0, 0, 0, 0, 0, 0, 0, 0, 0, 0, 0, 0, 0, 0, 0, ...</td>\n",
       "      <td>0.057049</td>\n",
       "    </tr>\n",
       "    <tr>\n",
       "      <th>60</th>\n",
       "      <td>eac_single_coassoc_matrix</td>\n",
       "      <td>[0, 0, 0, 0, 0, 0, 0, 0, 0, 0, 0, 0, 0, 0, 0, ...</td>\n",
       "      <td>0.056800</td>\n",
       "    </tr>\n",
       "  </tbody>\n",
       "</table>\n",
       "</div>"
      ],
      "text/plain": [
       "                         method  \\\n",
       "k                                 \n",
       "2                       scc_050   \n",
       "3                       scc_050   \n",
       "4                       scc_030   \n",
       "5                       scc_030   \n",
       "6   eac_complete_coassoc_matrix   \n",
       "7   eac_complete_coassoc_matrix   \n",
       "8                       scc_025   \n",
       "9                       scc_025   \n",
       "10  eac_complete_coassoc_matrix   \n",
       "11                      scc_025   \n",
       "12                      scc_025   \n",
       "13                      scc_025   \n",
       "14                      scc_025   \n",
       "15                      scc_025   \n",
       "16                      scc_025   \n",
       "17   eac_average_coassoc_matrix   \n",
       "18   eac_average_coassoc_matrix   \n",
       "19   eac_average_coassoc_matrix   \n",
       "20   eac_average_coassoc_matrix   \n",
       "21   eac_average_coassoc_matrix   \n",
       "22                      scc_020   \n",
       "23                      scc_020   \n",
       "24                      scc_020   \n",
       "25                      scc_020   \n",
       "26                      scc_020   \n",
       "27                      scc_020   \n",
       "28                      scc_020   \n",
       "29                      scc_020   \n",
       "30   eac_average_coassoc_matrix   \n",
       "31   eac_average_coassoc_matrix   \n",
       "32   eac_average_coassoc_matrix   \n",
       "33   eac_average_coassoc_matrix   \n",
       "34                      scc_020   \n",
       "35   eac_average_coassoc_matrix   \n",
       "36                      scc_020   \n",
       "37   eac_average_coassoc_matrix   \n",
       "38   eac_average_coassoc_matrix   \n",
       "39   eac_average_coassoc_matrix   \n",
       "40                      scc_020   \n",
       "41   eac_average_coassoc_matrix   \n",
       "42   eac_average_coassoc_matrix   \n",
       "43   eac_average_coassoc_matrix   \n",
       "44   eac_average_coassoc_matrix   \n",
       "45                      scc_020   \n",
       "46   eac_average_coassoc_matrix   \n",
       "47                      scc_020   \n",
       "48                      scc_020   \n",
       "49   eac_average_coassoc_matrix   \n",
       "50    eac_single_coassoc_matrix   \n",
       "51    eac_single_coassoc_matrix   \n",
       "52    eac_single_coassoc_matrix   \n",
       "53    eac_single_coassoc_matrix   \n",
       "54    eac_single_coassoc_matrix   \n",
       "55    eac_single_coassoc_matrix   \n",
       "56    eac_single_coassoc_matrix   \n",
       "57    eac_single_coassoc_matrix   \n",
       "58    eac_single_coassoc_matrix   \n",
       "59    eac_single_coassoc_matrix   \n",
       "60    eac_single_coassoc_matrix   \n",
       "\n",
       "                                            partition  ari_median  \n",
       "k                                                                  \n",
       "2   [0, 0, 0, 1, 1, 1, 1, 1, 0, 1, 0, 0, 1, 0, 1, ...    0.077181  \n",
       "3   [2, 2, 2, 0, 0, 0, 0, 0, 2, 0, 2, 2, 0, 2, 0, ...    0.064184  \n",
       "4   [0, 0, 0, 0, 0, 0, 0, 0, 3, 0, 3, 3, 0, 3, 0, ...    0.086061  \n",
       "5   [1, 1, 1, 1, 1, 1, 1, 1, 4, 1, 4, 4, 1, 1, 1, ...    0.087616  \n",
       "6   [2, 2, 2, 2, 2, 2, 2, 2, 2, 2, 2, 2, 2, 2, 2, ...    0.089399  \n",
       "7   [2, 2, 2, 2, 2, 2, 2, 2, 2, 2, 2, 2, 2, 2, 2, ...    0.089399  \n",
       "8   [6, 6, 6, 6, 6, 6, 6, 6, 6, 6, 6, 6, 6, 6, 6, ...    0.089451  \n",
       "9   [0, 0, 0, 0, 0, 0, 0, 0, 0, 0, 0, 0, 0, 0, 0, ...    0.089429  \n",
       "10  [2, 2, 2, 2, 2, 2, 2, 2, 2, 2, 2, 2, 2, 2, 2, ...    0.089349  \n",
       "11  [0, 0, 0, 0, 0, 0, 0, 0, 0, 0, 0, 0, 0, 0, 0, ...    0.090231  \n",
       "12  [10, 10, 10, 10, 10, 10, 10, 10, 10, 10, 10, 1...    0.089742  \n",
       "13  [2, 2, 2, 2, 2, 2, 2, 2, 2, 2, 2, 2, 2, 2, 2, ...    0.090222  \n",
       "14  [0, 0, 0, 0, 0, 0, 0, 0, 0, 0, 0, 0, 0, 0, 0, ...    0.090138  \n",
       "15  [0, 0, 0, 0, 0, 0, 0, 0, 0, 0, 0, 0, 0, 0, 0, ...    0.089679  \n",
       "16  [0, 0, 0, 0, 0, 0, 0, 0, 0, 0, 0, 0, 0, 0, 0, ...    0.089288  \n",
       "17  [12, 12, 12, 12, 12, 12, 12, 12, 12, 0, 12, 12...    0.086211  \n",
       "18  [12, 12, 12, 12, 12, 12, 12, 12, 12, 0, 12, 12...    0.086011  \n",
       "19  [12, 12, 12, 12, 12, 12, 12, 12, 12, 2, 12, 12...    0.085308  \n",
       "20  [12, 12, 12, 12, 12, 12, 12, 12, 12, 0, 12, 12...    0.084858  \n",
       "21  [12, 12, 12, 12, 12, 12, 12, 12, 12, 2, 12, 12...    0.083926  \n",
       "22  [1, 19, 19, 19, 19, 19, 19, 19, 19, 1, 19, 19,...    0.090117  \n",
       "23  [1, 0, 0, 0, 0, 0, 0, 0, 0, 1, 0, 0, 1, 0, 1, ...    0.085791  \n",
       "24  [0, 19, 19, 19, 19, 19, 19, 19, 19, 0, 19, 19,...    0.085881  \n",
       "25  [0, 19, 19, 19, 19, 19, 19, 19, 19, 0, 19, 19,...    0.088912  \n",
       "26  [2, 19, 19, 19, 19, 19, 19, 19, 19, 2, 19, 19,...    0.087098  \n",
       "27  [0, 18, 18, 18, 18, 18, 18, 18, 18, 0, 18, 18,...    0.084622  \n",
       "28  [0, 20, 20, 20, 20, 20, 20, 20, 20, 0, 20, 20,...    0.086759  \n",
       "29  [0, 22, 22, 22, 22, 22, 22, 22, 22, 0, 22, 22,...    0.086981  \n",
       "30  [25, 25, 25, 25, 25, 25, 25, 25, 25, 2, 25, 25...    0.079809  \n",
       "31  [25, 25, 25, 25, 25, 25, 25, 25, 25, 2, 25, 25...    0.083207  \n",
       "32  [25, 25, 25, 25, 25, 25, 25, 25, 25, 0, 25, 25...    0.083221  \n",
       "33  [25, 25, 25, 25, 25, 25, 25, 25, 25, 9, 25, 25...    0.075782  \n",
       "34  [0, 24, 24, 24, 24, 24, 24, 24, 24, 0, 24, 24,...    0.073722  \n",
       "35  [25, 25, 25, 25, 25, 25, 25, 25, 25, 1, 25, 25...    0.071143  \n",
       "36  [32, 25, 25, 25, 25, 25, 25, 25, 25, 32, 25, 2...    0.076452  \n",
       "37  [25, 25, 25, 25, 25, 25, 25, 25, 25, 1, 25, 25...    0.071145  \n",
       "38  [25, 25, 25, 25, 25, 25, 25, 25, 25, 1, 25, 25...    0.071151  \n",
       "39  [25, 25, 25, 25, 25, 25, 25, 25, 25, 0, 25, 25...    0.071145  \n",
       "40  [19, 27, 27, 27, 27, 27, 27, 27, 27, 19, 27, 2...    0.071146  \n",
       "41  [25, 25, 25, 25, 25, 25, 25, 25, 25, 11, 25, 2...    0.060026  \n",
       "42  [25, 25, 25, 25, 25, 25, 25, 25, 25, 11, 25, 2...    0.059975  \n",
       "43  [25, 25, 25, 25, 25, 25, 25, 25, 25, 5, 25, 25...    0.057799  \n",
       "44  [25, 25, 25, 25, 25, 25, 25, 25, 25, 5, 25, 25...    0.057788  \n",
       "45  [0, 27, 27, 27, 27, 27, 27, 27, 27, 0, 27, 27,...    0.058354  \n",
       "46  [25, 25, 25, 25, 25, 25, 25, 25, 25, 0, 25, 25...    0.057793  \n",
       "47  [34, 31, 31, 31, 31, 31, 31, 31, 31, 34, 31, 3...    0.060092  \n",
       "48  [44, 24, 24, 24, 24, 24, 24, 24, 24, 44, 24, 2...    0.057191  \n",
       "49  [25, 25, 25, 25, 25, 25, 25, 25, 25, 6, 25, 25...    0.051914  \n",
       "50  [0, 0, 0, 0, 0, 0, 0, 0, 0, 0, 0, 0, 0, 0, 0, ...    0.055433  \n",
       "51  [0, 0, 0, 0, 0, 0, 0, 0, 0, 0, 0, 0, 0, 0, 0, ...    0.055554  \n",
       "52  [0, 0, 0, 0, 0, 0, 0, 0, 0, 0, 0, 0, 0, 0, 0, ...    0.055830  \n",
       "53  [0, 0, 0, 0, 0, 0, 0, 0, 0, 0, 0, 0, 0, 0, 0, ...    0.055592  \n",
       "54  [0, 0, 0, 0, 0, 0, 0, 0, 0, 0, 0, 0, 0, 0, 0, ...    0.055779  \n",
       "55  [0, 0, 0, 0, 0, 0, 0, 0, 0, 0, 0, 0, 0, 0, 0, ...    0.056551  \n",
       "56  [0, 0, 0, 0, 0, 0, 0, 0, 0, 0, 0, 0, 0, 0, 0, ...    0.056860  \n",
       "57  [0, 0, 0, 0, 0, 0, 0, 0, 0, 0, 0, 0, 0, 0, 0, ...    0.056791  \n",
       "58  [0, 0, 0, 0, 0, 0, 0, 0, 0, 0, 0, 0, 0, 0, 0, ...    0.057045  \n",
       "59  [0, 0, 0, 0, 0, 0, 0, 0, 0, 0, 0, 0, 0, 0, 0, ...    0.057049  \n",
       "60  [0, 0, 0, 0, 0, 0, 0, 0, 0, 0, 0, 0, 0, 0, 0, ...    0.056800  "
      ]
     },
     "execution_count": 16,
     "metadata": {},
     "output_type": "execute_result"
    }
   ],
   "source": [
    "best_parts.sort_values(\"k\")"
   ]
  },
  {
   "cell_type": "markdown",
   "metadata": {
    "papermill": {
     "duration": 0.01506,
     "end_time": "2021-03-11T15:06:49.778064",
     "exception": false,
     "start_time": "2021-03-11T15:06:49.763004",
     "status": "completed"
    },
    "tags": []
   },
   "source": [
    "## Select partitions with highest agreement"
   ]
  },
  {
   "cell_type": "markdown",
   "metadata": {
    "papermill": {
     "duration": 0.014724,
     "end_time": "2021-03-11T15:06:49.807771",
     "exception": false,
     "start_time": "2021-03-11T15:06:49.793047",
     "status": "completed"
    },
    "tags": []
   },
   "source": [
    "We do not expect all partitions with different `k` to be good ones. Thus, here I select the partitions with an ensemble agreement that pass a relative high threshold (75th percentile)."
   ]
  },
  {
   "cell_type": "code",
   "execution_count": 17,
   "metadata": {
    "execution": {
     "iopub.execute_input": "2021-03-11T15:06:49.841109Z",
     "iopub.status.busy": "2021-03-11T15:06:49.840714Z",
     "iopub.status.idle": "2021-03-11T15:06:49.853427Z",
     "shell.execute_reply": "2021-03-11T15:06:49.853059Z"
    },
    "papermill": {
     "duration": 0.03073,
     "end_time": "2021-03-11T15:06:49.853511",
     "exception": false,
     "start_time": "2021-03-11T15:06:49.822781",
     "status": "completed"
    },
    "tags": []
   },
   "outputs": [
    {
     "data": {
      "text/plain": [
       "count    59.000000\n",
       "mean      0.074440\n",
       "std       0.013918\n",
       "min       0.051914\n",
       "25%       0.057796\n",
       "50%       0.077181\n",
       "75%       0.087039\n",
       "max       0.090231\n",
       "Name: ari_median, dtype: float64"
      ]
     },
     "metadata": {},
     "output_type": "display_data"
    }
   ],
   "source": [
    "best_parts_stats = best_parts[_measure_col].describe()\n",
    "display(best_parts_stats)"
   ]
  },
  {
   "cell_type": "code",
   "execution_count": 18,
   "metadata": {
    "execution": {
     "iopub.execute_input": "2021-03-11T15:06:49.889858Z",
     "iopub.status.busy": "2021-03-11T15:06:49.889502Z",
     "iopub.status.idle": "2021-03-11T15:06:49.900392Z",
     "shell.execute_reply": "2021-03-11T15:06:49.900055Z"
    },
    "papermill": {
     "duration": 0.030222,
     "end_time": "2021-03-11T15:06:49.900474",
     "exception": false,
     "start_time": "2021-03-11T15:06:49.870252",
     "status": "completed"
    },
    "tags": []
   },
   "outputs": [
    {
     "data": {
      "text/plain": [
       "0.08703926545868423"
      ]
     },
     "metadata": {},
     "output_type": "display_data"
    }
   ],
   "source": [
    "best_threshold = best_parts_stats[\"75%\"]\n",
    "best_threshold_description = \"75th percentile\"\n",
    "display(best_threshold)\n",
    "\n",
    "best_parts = best_parts.assign(\n",
    "    selected=best_parts[_measure_col].apply(lambda x: x >= best_threshold)\n",
    ")"
   ]
  },
  {
   "cell_type": "code",
   "execution_count": 19,
   "metadata": {
    "execution": {
     "iopub.execute_input": "2021-03-11T15:06:49.935388Z",
     "iopub.status.busy": "2021-03-11T15:06:49.935008Z",
     "iopub.status.idle": "2021-03-11T15:06:49.945078Z",
     "shell.execute_reply": "2021-03-11T15:06:49.944659Z"
    },
    "papermill": {
     "duration": 0.028348,
     "end_time": "2021-03-11T15:06:49.945157",
     "exception": false,
     "start_time": "2021-03-11T15:06:49.916809",
     "status": "completed"
    },
    "tags": []
   },
   "outputs": [
    {
     "data": {
      "text/plain": [
       "(59, 4)"
      ]
     },
     "execution_count": 19,
     "metadata": {},
     "output_type": "execute_result"
    }
   ],
   "source": [
    "best_parts.shape"
   ]
  },
  {
   "cell_type": "code",
   "execution_count": 20,
   "metadata": {
    "execution": {
     "iopub.execute_input": "2021-03-11T15:06:49.980037Z",
     "iopub.status.busy": "2021-03-11T15:06:49.979675Z",
     "iopub.status.idle": "2021-03-11T15:06:49.997193Z",
     "shell.execute_reply": "2021-03-11T15:06:49.996826Z"
    },
    "papermill": {
     "duration": 0.03573,
     "end_time": "2021-03-11T15:06:49.997276",
     "exception": false,
     "start_time": "2021-03-11T15:06:49.961546",
     "status": "completed"
    },
    "tags": []
   },
   "outputs": [
    {
     "data": {
      "text/html": [
       "<div>\n",
       "<style scoped>\n",
       "    .dataframe tbody tr th:only-of-type {\n",
       "        vertical-align: middle;\n",
       "    }\n",
       "\n",
       "    .dataframe tbody tr th {\n",
       "        vertical-align: top;\n",
       "    }\n",
       "\n",
       "    .dataframe thead th {\n",
       "        text-align: right;\n",
       "    }\n",
       "</style>\n",
       "<table border=\"1\" class=\"dataframe\">\n",
       "  <thead>\n",
       "    <tr style=\"text-align: right;\">\n",
       "      <th></th>\n",
       "      <th>method</th>\n",
       "      <th>partition</th>\n",
       "      <th>ari_median</th>\n",
       "      <th>selected</th>\n",
       "    </tr>\n",
       "    <tr>\n",
       "      <th>k</th>\n",
       "      <th></th>\n",
       "      <th></th>\n",
       "      <th></th>\n",
       "      <th></th>\n",
       "    </tr>\n",
       "  </thead>\n",
       "  <tbody>\n",
       "    <tr>\n",
       "      <th>11</th>\n",
       "      <td>scc_025</td>\n",
       "      <td>[0, 0, 0, 0, 0, 0, 0, 0, 0, 0, 0, 0, 0, 0, 0, ...</td>\n",
       "      <td>0.090231</td>\n",
       "      <td>True</td>\n",
       "    </tr>\n",
       "    <tr>\n",
       "      <th>13</th>\n",
       "      <td>scc_025</td>\n",
       "      <td>[2, 2, 2, 2, 2, 2, 2, 2, 2, 2, 2, 2, 2, 2, 2, ...</td>\n",
       "      <td>0.090222</td>\n",
       "      <td>True</td>\n",
       "    </tr>\n",
       "    <tr>\n",
       "      <th>14</th>\n",
       "      <td>scc_025</td>\n",
       "      <td>[0, 0, 0, 0, 0, 0, 0, 0, 0, 0, 0, 0, 0, 0, 0, ...</td>\n",
       "      <td>0.090138</td>\n",
       "      <td>True</td>\n",
       "    </tr>\n",
       "    <tr>\n",
       "      <th>22</th>\n",
       "      <td>scc_020</td>\n",
       "      <td>[1, 19, 19, 19, 19, 19, 19, 19, 19, 1, 19, 19,...</td>\n",
       "      <td>0.090117</td>\n",
       "      <td>True</td>\n",
       "    </tr>\n",
       "    <tr>\n",
       "      <th>12</th>\n",
       "      <td>scc_025</td>\n",
       "      <td>[10, 10, 10, 10, 10, 10, 10, 10, 10, 10, 10, 1...</td>\n",
       "      <td>0.089742</td>\n",
       "      <td>True</td>\n",
       "    </tr>\n",
       "  </tbody>\n",
       "</table>\n",
       "</div>"
      ],
      "text/plain": [
       "     method                                          partition  ari_median  \\\n",
       "k                                                                            \n",
       "11  scc_025  [0, 0, 0, 0, 0, 0, 0, 0, 0, 0, 0, 0, 0, 0, 0, ...    0.090231   \n",
       "13  scc_025  [2, 2, 2, 2, 2, 2, 2, 2, 2, 2, 2, 2, 2, 2, 2, ...    0.090222   \n",
       "14  scc_025  [0, 0, 0, 0, 0, 0, 0, 0, 0, 0, 0, 0, 0, 0, 0, ...    0.090138   \n",
       "22  scc_020  [1, 19, 19, 19, 19, 19, 19, 19, 19, 1, 19, 19,...    0.090117   \n",
       "12  scc_025  [10, 10, 10, 10, 10, 10, 10, 10, 10, 10, 10, 1...    0.089742   \n",
       "\n",
       "    selected  \n",
       "k             \n",
       "11      True  \n",
       "13      True  \n",
       "14      True  \n",
       "22      True  \n",
       "12      True  "
      ]
     },
     "execution_count": 20,
     "metadata": {},
     "output_type": "execute_result"
    }
   ],
   "source": [
    "best_parts.head()"
   ]
  },
  {
   "cell_type": "markdown",
   "metadata": {
    "papermill": {
     "duration": 0.016351,
     "end_time": "2021-03-11T15:06:50.030292",
     "exception": false,
     "start_time": "2021-03-11T15:06:50.013941",
     "status": "completed"
    },
    "tags": []
   },
   "source": [
    "## Save best partitions per k"
   ]
  },
  {
   "cell_type": "code",
   "execution_count": 21,
   "metadata": {
    "execution": {
     "iopub.execute_input": "2021-03-11T15:06:50.064910Z",
     "iopub.status.busy": "2021-03-11T15:06:50.064480Z",
     "iopub.status.idle": "2021-03-11T15:06:50.075082Z",
     "shell.execute_reply": "2021-03-11T15:06:50.074717Z"
    },
    "papermill": {
     "duration": 0.028849,
     "end_time": "2021-03-11T15:06:50.075163",
     "exception": false,
     "start_time": "2021-03-11T15:06:50.046314",
     "status": "completed"
    },
    "tags": []
   },
   "outputs": [
    {
     "data": {
      "text/plain": [
       "PosixPath('/home/miltondp/projects/labs/greenelab/phenoplier/base/results/clustering/consensus_clustering/best_partitions_by_k.pkl')"
      ]
     },
     "metadata": {},
     "output_type": "display_data"
    }
   ],
   "source": [
    "output_file = Path(CONSENSUS_CLUSTERING_DIR, \"best_partitions_by_k.pkl\").resolve()\n",
    "display(output_file)"
   ]
  },
  {
   "cell_type": "code",
   "execution_count": 22,
   "metadata": {
    "execution": {
     "iopub.execute_input": "2021-03-11T15:06:50.112849Z",
     "iopub.status.busy": "2021-03-11T15:06:50.112445Z",
     "iopub.status.idle": "2021-03-11T15:06:50.124846Z",
     "shell.execute_reply": "2021-03-11T15:06:50.124405Z"
    },
    "papermill": {
     "duration": 0.032172,
     "end_time": "2021-03-11T15:06:50.124929",
     "exception": false,
     "start_time": "2021-03-11T15:06:50.092757",
     "status": "completed"
    },
    "tags": []
   },
   "outputs": [],
   "source": [
    "best_parts.to_pickle(output_file)"
   ]
  },
  {
   "cell_type": "markdown",
   "metadata": {
    "papermill": {
     "duration": 0.016436,
     "end_time": "2021-03-11T15:06:50.158265",
     "exception": false,
     "start_time": "2021-03-11T15:06:50.141829",
     "status": "completed"
    },
    "tags": []
   },
   "source": [
    "# Plot of selected best partitions"
   ]
  },
  {
   "cell_type": "code",
   "execution_count": 23,
   "metadata": {
    "execution": {
     "iopub.execute_input": "2021-03-11T15:06:50.193957Z",
     "iopub.status.busy": "2021-03-11T15:06:50.193606Z",
     "iopub.status.idle": "2021-03-11T15:06:50.211470Z",
     "shell.execute_reply": "2021-03-11T15:06:50.211747Z"
    },
    "papermill": {
     "duration": 0.037445,
     "end_time": "2021-03-11T15:06:50.211852",
     "exception": false,
     "start_time": "2021-03-11T15:06:50.174407",
     "status": "completed"
    },
    "tags": []
   },
   "outputs": [
    {
     "data": {
      "text/html": [
       "<div>\n",
       "<style scoped>\n",
       "    .dataframe tbody tr th:only-of-type {\n",
       "        vertical-align: middle;\n",
       "    }\n",
       "\n",
       "    .dataframe tbody tr th {\n",
       "        vertical-align: top;\n",
       "    }\n",
       "\n",
       "    .dataframe thead th {\n",
       "        text-align: right;\n",
       "    }\n",
       "</style>\n",
       "<table border=\"1\" class=\"dataframe\">\n",
       "  <thead>\n",
       "    <tr style=\"text-align: right;\">\n",
       "      <th></th>\n",
       "      <th>k</th>\n",
       "      <th>method</th>\n",
       "      <th>partition</th>\n",
       "      <th>ari_median</th>\n",
       "      <th>selected</th>\n",
       "    </tr>\n",
       "  </thead>\n",
       "  <tbody>\n",
       "    <tr>\n",
       "      <th>0</th>\n",
       "      <td>11</td>\n",
       "      <td>scc_025</td>\n",
       "      <td>[0, 0, 0, 0, 0, 0, 0, 0, 0, 0, 0, 0, 0, 0, 0, ...</td>\n",
       "      <td>0.090231</td>\n",
       "      <td>True</td>\n",
       "    </tr>\n",
       "    <tr>\n",
       "      <th>1</th>\n",
       "      <td>13</td>\n",
       "      <td>scc_025</td>\n",
       "      <td>[2, 2, 2, 2, 2, 2, 2, 2, 2, 2, 2, 2, 2, 2, 2, ...</td>\n",
       "      <td>0.090222</td>\n",
       "      <td>True</td>\n",
       "    </tr>\n",
       "    <tr>\n",
       "      <th>2</th>\n",
       "      <td>14</td>\n",
       "      <td>scc_025</td>\n",
       "      <td>[0, 0, 0, 0, 0, 0, 0, 0, 0, 0, 0, 0, 0, 0, 0, ...</td>\n",
       "      <td>0.090138</td>\n",
       "      <td>True</td>\n",
       "    </tr>\n",
       "    <tr>\n",
       "      <th>3</th>\n",
       "      <td>22</td>\n",
       "      <td>scc_020</td>\n",
       "      <td>[1, 19, 19, 19, 19, 19, 19, 19, 19, 1, 19, 19,...</td>\n",
       "      <td>0.090117</td>\n",
       "      <td>True</td>\n",
       "    </tr>\n",
       "    <tr>\n",
       "      <th>4</th>\n",
       "      <td>12</td>\n",
       "      <td>scc_025</td>\n",
       "      <td>[10, 10, 10, 10, 10, 10, 10, 10, 10, 10, 10, 1...</td>\n",
       "      <td>0.089742</td>\n",
       "      <td>True</td>\n",
       "    </tr>\n",
       "  </tbody>\n",
       "</table>\n",
       "</div>"
      ],
      "text/plain": [
       "    k   method                                          partition  ari_median  \\\n",
       "0  11  scc_025  [0, 0, 0, 0, 0, 0, 0, 0, 0, 0, 0, 0, 0, 0, 0, ...    0.090231   \n",
       "1  13  scc_025  [2, 2, 2, 2, 2, 2, 2, 2, 2, 2, 2, 2, 2, 2, 2, ...    0.090222   \n",
       "2  14  scc_025  [0, 0, 0, 0, 0, 0, 0, 0, 0, 0, 0, 0, 0, 0, 0, ...    0.090138   \n",
       "3  22  scc_020  [1, 19, 19, 19, 19, 19, 19, 19, 19, 1, 19, 19,...    0.090117   \n",
       "4  12  scc_025  [10, 10, 10, 10, 10, 10, 10, 10, 10, 10, 10, 1...    0.089742   \n",
       "\n",
       "   selected  \n",
       "0      True  \n",
       "1      True  \n",
       "2      True  \n",
       "3      True  \n",
       "4      True  "
      ]
     },
     "metadata": {},
     "output_type": "display_data"
    }
   ],
   "source": [
    "plot_data = best_parts.reset_index()\n",
    "display(plot_data.head(5))"
   ]
  },
  {
   "cell_type": "code",
   "execution_count": 24,
   "metadata": {
    "execution": {
     "iopub.execute_input": "2021-03-11T15:06:50.250056Z",
     "iopub.status.busy": "2021-03-11T15:06:50.249689Z",
     "iopub.status.idle": "2021-03-11T15:06:51.834374Z",
     "shell.execute_reply": "2021-03-11T15:06:51.834671Z"
    },
    "papermill": {
     "duration": 1.605486,
     "end_time": "2021-03-11T15:06:51.834775",
     "exception": false,
     "start_time": "2021-03-11T15:06:50.229289",
     "status": "completed"
    },
    "tags": []
   },
   "outputs": [
    {
     "data": {
      "image/png": "[encoded data removed]",
      "text/plain": [
       "<Figure size 864x432 with 1 Axes>"
      ]
     },
     "metadata": {},
     "output_type": "display_data"
    }
   ],
   "source": [
    "with sns.plotting_context(\"talk\", font_scale=0.75), sns.axes_style(\n",
    "    \"whitegrid\", {\"grid.linestyle\": \"--\"}\n",
    "), sns.color_palette(\"muted\"):\n",
    "    current_palette = iter(sns.color_palette())\n",
    "\n",
    "    fig, ax = plt.subplots(figsize=(12, 6))\n",
    "    ax = sns.pointplot(\n",
    "        data=plot_data, x=\"k\", y=_measure_col, color=next(current_palette)\n",
    "    )\n",
    "    ax.axhline(\n",
    "        best_threshold,\n",
    "        ls=\"--\",\n",
    "        color=next(current_palette),\n",
    "        label=best_threshold_description,\n",
    "    )\n",
    "    ax.set_ylabel(f\"Agreement with ensemble\\n({_selected_stat} {_selected_measure})\")\n",
    "    ax.set_xlabel(\"Number of clusters ($k$)\")\n",
    "    ax.set_xticklabels(ax.get_xticklabels(), rotation=45)\n",
    "    plt.legend()\n",
    "    plt.grid(True)\n",
    "    plt.tight_layout()"
   ]
  },
  {
   "cell_type": "markdown",
   "metadata": {
    "papermill": {
     "duration": 0.018283,
     "end_time": "2021-03-11T15:06:51.872172",
     "exception": false,
     "start_time": "2021-03-11T15:06:51.853889",
     "status": "completed"
    },
    "tags": []
   },
   "source": [
    "The horizontal line in the plot is the median of the average agreement value; partitions above that line are marked as selected for downstream analysis"
   ]
  },
  {
   "cell_type": "code",
   "execution_count": 25,
   "metadata": {
    "execution": {
     "iopub.execute_input": "2021-03-11T15:06:51.911470Z",
     "iopub.status.busy": "2021-03-11T15:06:51.911103Z",
     "iopub.status.idle": "2021-03-11T15:06:51.938929Z",
     "shell.execute_reply": "2021-03-11T15:06:51.938613Z"
    },
    "papermill": {
     "duration": 0.048362,
     "end_time": "2021-03-11T15:06:51.939013",
     "exception": false,
     "start_time": "2021-03-11T15:06:51.890651",
     "status": "completed"
    },
    "tags": []
   },
   "outputs": [
    {
     "data": {
      "text/html": [
       "<div>\n",
       "<style scoped>\n",
       "    .dataframe tbody tr th:only-of-type {\n",
       "        vertical-align: middle;\n",
       "    }\n",
       "\n",
       "    .dataframe tbody tr th {\n",
       "        vertical-align: top;\n",
       "    }\n",
       "\n",
       "    .dataframe thead th {\n",
       "        text-align: right;\n",
       "    }\n",
       "</style>\n",
       "<table border=\"1\" class=\"dataframe\">\n",
       "  <thead>\n",
       "    <tr style=\"text-align: right;\">\n",
       "      <th></th>\n",
       "      <th>k</th>\n",
       "      <th>method</th>\n",
       "      <th>partition</th>\n",
       "      <th>ari_median</th>\n",
       "      <th>selected</th>\n",
       "    </tr>\n",
       "  </thead>\n",
       "  <tbody>\n",
       "    <tr>\n",
       "      <th>13</th>\n",
       "      <td>5</td>\n",
       "      <td>scc_030</td>\n",
       "      <td>[1, 1, 1, 1, 1, 1, 1, 1, 4, 1, 4, 4, 1, 1, 1, ...</td>\n",
       "      <td>0.087616</td>\n",
       "      <td>True</td>\n",
       "    </tr>\n",
       "    <tr>\n",
       "      <th>8</th>\n",
       "      <td>6</td>\n",
       "      <td>eac_complete_coassoc_matrix</td>\n",
       "      <td>[2, 2, 2, 2, 2, 2, 2, 2, 2, 2, 2, 2, 2, 2, 2, ...</td>\n",
       "      <td>0.089399</td>\n",
       "      <td>True</td>\n",
       "    </tr>\n",
       "    <tr>\n",
       "      <th>9</th>\n",
       "      <td>7</td>\n",
       "      <td>eac_complete_coassoc_matrix</td>\n",
       "      <td>[2, 2, 2, 2, 2, 2, 2, 2, 2, 2, 2, 2, 2, 2, 2, ...</td>\n",
       "      <td>0.089399</td>\n",
       "      <td>True</td>\n",
       "    </tr>\n",
       "    <tr>\n",
       "      <th>6</th>\n",
       "      <td>8</td>\n",
       "      <td>scc_025</td>\n",
       "      <td>[6, 6, 6, 6, 6, 6, 6, 6, 6, 6, 6, 6, 6, 6, 6, ...</td>\n",
       "      <td>0.089451</td>\n",
       "      <td>True</td>\n",
       "    </tr>\n",
       "    <tr>\n",
       "      <th>7</th>\n",
       "      <td>9</td>\n",
       "      <td>scc_025</td>\n",
       "      <td>[0, 0, 0, 0, 0, 0, 0, 0, 0, 0, 0, 0, 0, 0, 0, ...</td>\n",
       "      <td>0.089429</td>\n",
       "      <td>True</td>\n",
       "    </tr>\n",
       "    <tr>\n",
       "      <th>10</th>\n",
       "      <td>10</td>\n",
       "      <td>eac_complete_coassoc_matrix</td>\n",
       "      <td>[2, 2, 2, 2, 2, 2, 2, 2, 2, 2, 2, 2, 2, 2, 2, ...</td>\n",
       "      <td>0.089349</td>\n",
       "      <td>True</td>\n",
       "    </tr>\n",
       "    <tr>\n",
       "      <th>0</th>\n",
       "      <td>11</td>\n",
       "      <td>scc_025</td>\n",
       "      <td>[0, 0, 0, 0, 0, 0, 0, 0, 0, 0, 0, 0, 0, 0, 0, ...</td>\n",
       "      <td>0.090231</td>\n",
       "      <td>True</td>\n",
       "    </tr>\n",
       "    <tr>\n",
       "      <th>4</th>\n",
       "      <td>12</td>\n",
       "      <td>scc_025</td>\n",
       "      <td>[10, 10, 10, 10, 10, 10, 10, 10, 10, 10, 10, 1...</td>\n",
       "      <td>0.089742</td>\n",
       "      <td>True</td>\n",
       "    </tr>\n",
       "    <tr>\n",
       "      <th>1</th>\n",
       "      <td>13</td>\n",
       "      <td>scc_025</td>\n",
       "      <td>[2, 2, 2, 2, 2, 2, 2, 2, 2, 2, 2, 2, 2, 2, 2, ...</td>\n",
       "      <td>0.090222</td>\n",
       "      <td>True</td>\n",
       "    </tr>\n",
       "    <tr>\n",
       "      <th>2</th>\n",
       "      <td>14</td>\n",
       "      <td>scc_025</td>\n",
       "      <td>[0, 0, 0, 0, 0, 0, 0, 0, 0, 0, 0, 0, 0, 0, 0, ...</td>\n",
       "      <td>0.090138</td>\n",
       "      <td>True</td>\n",
       "    </tr>\n",
       "    <tr>\n",
       "      <th>5</th>\n",
       "      <td>15</td>\n",
       "      <td>scc_025</td>\n",
       "      <td>[0, 0, 0, 0, 0, 0, 0, 0, 0, 0, 0, 0, 0, 0, 0, ...</td>\n",
       "      <td>0.089679</td>\n",
       "      <td>True</td>\n",
       "    </tr>\n",
       "    <tr>\n",
       "      <th>11</th>\n",
       "      <td>16</td>\n",
       "      <td>scc_025</td>\n",
       "      <td>[0, 0, 0, 0, 0, 0, 0, 0, 0, 0, 0, 0, 0, 0, 0, ...</td>\n",
       "      <td>0.089288</td>\n",
       "      <td>True</td>\n",
       "    </tr>\n",
       "    <tr>\n",
       "      <th>3</th>\n",
       "      <td>22</td>\n",
       "      <td>scc_020</td>\n",
       "      <td>[1, 19, 19, 19, 19, 19, 19, 19, 19, 1, 19, 19,...</td>\n",
       "      <td>0.090117</td>\n",
       "      <td>True</td>\n",
       "    </tr>\n",
       "    <tr>\n",
       "      <th>12</th>\n",
       "      <td>25</td>\n",
       "      <td>scc_020</td>\n",
       "      <td>[0, 19, 19, 19, 19, 19, 19, 19, 19, 0, 19, 19,...</td>\n",
       "      <td>0.088912</td>\n",
       "      <td>True</td>\n",
       "    </tr>\n",
       "    <tr>\n",
       "      <th>14</th>\n",
       "      <td>26</td>\n",
       "      <td>scc_020</td>\n",
       "      <td>[2, 19, 19, 19, 19, 19, 19, 19, 19, 2, 19, 19,...</td>\n",
       "      <td>0.087098</td>\n",
       "      <td>True</td>\n",
       "    </tr>\n",
       "  </tbody>\n",
       "</table>\n",
       "</div>"
      ],
      "text/plain": [
       "     k                       method  \\\n",
       "13   5                      scc_030   \n",
       "8    6  eac_complete_coassoc_matrix   \n",
       "9    7  eac_complete_coassoc_matrix   \n",
       "6    8                      scc_025   \n",
       "7    9                      scc_025   \n",
       "10  10  eac_complete_coassoc_matrix   \n",
       "0   11                      scc_025   \n",
       "4   12                      scc_025   \n",
       "1   13                      scc_025   \n",
       "2   14                      scc_025   \n",
       "5   15                      scc_025   \n",
       "11  16                      scc_025   \n",
       "3   22                      scc_020   \n",
       "12  25                      scc_020   \n",
       "14  26                      scc_020   \n",
       "\n",
       "                                            partition  ari_median  selected  \n",
       "13  [1, 1, 1, 1, 1, 1, 1, 1, 4, 1, 4, 4, 1, 1, 1, ...    0.087616      True  \n",
       "8   [2, 2, 2, 2, 2, 2, 2, 2, 2, 2, 2, 2, 2, 2, 2, ...    0.089399      True  \n",
       "9   [2, 2, 2, 2, 2, 2, 2, 2, 2, 2, 2, 2, 2, 2, 2, ...    0.089399      True  \n",
       "6   [6, 6, 6, 6, 6, 6, 6, 6, 6, 6, 6, 6, 6, 6, 6, ...    0.089451      True  \n",
       "7   [0, 0, 0, 0, 0, 0, 0, 0, 0, 0, 0, 0, 0, 0, 0, ...    0.089429      True  \n",
       "10  [2, 2, 2, 2, 2, 2, 2, 2, 2, 2, 2, 2, 2, 2, 2, ...    0.089349      True  \n",
       "0   [0, 0, 0, 0, 0, 0, 0, 0, 0, 0, 0, 0, 0, 0, 0, ...    0.090231      True  \n",
       "4   [10, 10, 10, 10, 10, 10, 10, 10, 10, 10, 10, 1...    0.089742      True  \n",
       "1   [2, 2, 2, 2, 2, 2, 2, 2, 2, 2, 2, 2, 2, 2, 2, ...    0.090222      True  \n",
       "2   [0, 0, 0, 0, 0, 0, 0, 0, 0, 0, 0, 0, 0, 0, 0, ...    0.090138      True  \n",
       "5   [0, 0, 0, 0, 0, 0, 0, 0, 0, 0, 0, 0, 0, 0, 0, ...    0.089679      True  \n",
       "11  [0, 0, 0, 0, 0, 0, 0, 0, 0, 0, 0, 0, 0, 0, 0, ...    0.089288      True  \n",
       "3   [1, 19, 19, 19, 19, 19, 19, 19, 19, 1, 19, 19,...    0.090117      True  \n",
       "12  [0, 19, 19, 19, 19, 19, 19, 19, 19, 0, 19, 19,...    0.088912      True  \n",
       "14  [2, 19, 19, 19, 19, 19, 19, 19, 19, 2, 19, 19,...    0.087098      True  "
      ]
     },
     "execution_count": 25,
     "metadata": {},
     "output_type": "execute_result"
    }
   ],
   "source": [
    "# this list shows the selected final partitions, and which methods achieved the highest agreement\n",
    "plot_data[plot_data[\"selected\"]].sort_values(\"k\")"
   ]
  },
  {
   "cell_type": "markdown",
   "metadata": {
    "papermill": {
     "duration": 0.018611,
     "end_time": "2021-03-11T15:06:51.976721",
     "exception": false,
     "start_time": "2021-03-11T15:06:51.958110",
     "status": "completed"
    },
    "tags": []
   },
   "source": [
    "From the two evidence accumulation approaches (EAC) we are using, the spectral clustering based one does it better for almost all `k` values, whereas the hierarchical clustering based approach seems to do a little bit better for lower `k`."
   ]
  },
  {
   "cell_type": "code",
   "execution_count": null,
   "metadata": {
    "papermill": {
     "duration": 0.018614,
     "end_time": "2021-03-11T15:06:52.014092",
     "exception": false,
     "start_time": "2021-03-11T15:06:51.995478",
     "status": "completed"
    },
    "tags": []
   },
   "outputs": [],
   "source": []
  }
 ],
 "metadata": {
  "jupytext": {
   "cell_metadata_filter": "all,-execution,-papermill,-trusted",
   "formats": "ipynb,py//py:percent"
  },
  "kernelspec": {
   "display_name": "Python 3",
   "language": "python",
   "name": "python3"
  },
  "language_info": {
   "codemirror_mode": {
    "name": "ipython",
    "version": 3
   },
   "file_extension": ".py",
   "mimetype": "text/x-python",
   "name": "python",
   "nbconvert_exporter": "python",
   "pygments_lexer": "ipython3",
   "version": "3.8.8"
  },
  "papermill": {
   "default_parameters": {},
   "duration": 6.942463,
   "end_time": "2021-03-11T15:06:52.439735",
   "environment_variables": {},
   "exception": null,
   "input_path": "16_consensus_clustering/030_01-get_best_partitions.ipynb",
   "output_path": "16_consensus_clustering/030_01-get_best_partitions.run.ipynb",
   "parameters": {},
   "start_time": "2021-03-11T15:06:45.497272",
   "version": "2.2.2"
  },
  "toc-autonumbering": true,
  "toc-showcode": false,
  "toc-showmarkdowntxt": false,
  "toc-showtags": false
 },
 "nbformat": 4,
 "nbformat_minor": 4
}
