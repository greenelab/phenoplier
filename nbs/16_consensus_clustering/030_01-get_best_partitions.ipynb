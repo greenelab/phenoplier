{
 "cells": [
  {
   "cell_type": "markdown",
   "metadata": {
    "papermill": {
     "duration": 0.045057,
     "end_time": "2021-02-23T21:34:06.927800",
     "exception": false,
     "start_time": "2021-02-23T21:34:06.882743",
     "status": "completed"
    },
    "tags": []
   },
   "source": [
    "# Description"
   ]
  },
  {
   "cell_type": "markdown",
   "metadata": {
    "papermill": {
     "duration": 0.011293,
     "end_time": "2021-02-23T21:34:06.954515",
     "exception": false,
     "start_time": "2021-02-23T21:34:06.943222",
     "status": "completed"
    },
    "tags": []
   },
   "source": [
    "It analyzes how consensus partitions generated before agree with the ensemble, and selects the best ones for downstream analyses."
   ]
  },
  {
   "cell_type": "markdown",
   "metadata": {
    "papermill": {
     "duration": 0.011442,
     "end_time": "2021-02-23T21:34:06.977015",
     "exception": false,
     "start_time": "2021-02-23T21:34:06.965573",
     "status": "completed"
    },
    "tags": []
   },
   "source": [
    "# Modules loading"
   ]
  },
  {
   "cell_type": "code",
   "execution_count": 1,
   "metadata": {
    "execution": {
     "iopub.execute_input": "2021-02-23T21:34:07.004050Z",
     "iopub.status.busy": "2021-02-23T21:34:07.003663Z",
     "iopub.status.idle": "2021-02-23T21:34:07.011794Z",
     "shell.execute_reply": "2021-02-23T21:34:07.011428Z"
    },
    "papermill": {
     "duration": 0.022279,
     "end_time": "2021-02-23T21:34:07.011919",
     "exception": false,
     "start_time": "2021-02-23T21:34:06.989640",
     "status": "completed"
    },
    "tags": []
   },
   "outputs": [],
   "source": [
    "%load_ext autoreload\n",
    "%autoreload 2"
   ]
  },
  {
   "cell_type": "code",
   "execution_count": 2,
   "metadata": {
    "execution": {
     "iopub.execute_input": "2021-02-23T21:34:07.037185Z",
     "iopub.status.busy": "2021-02-23T21:34:07.036798Z",
     "iopub.status.idle": "2021-02-23T21:34:07.566961Z",
     "shell.execute_reply": "2021-02-23T21:34:07.567267Z"
    },
    "papermill": {
     "duration": 0.543986,
     "end_time": "2021-02-23T21:34:07.567385",
     "exception": false,
     "start_time": "2021-02-23T21:34:07.023399",
     "status": "completed"
    },
    "tags": []
   },
   "outputs": [],
   "source": [
    "from pathlib import Path\n",
    "from IPython.display import display\n",
    "\n",
    "import pandas as pd\n",
    "import matplotlib.pyplot as plt\n",
    "import seaborn as sns\n",
    "\n",
    "import conf"
   ]
  },
  {
   "cell_type": "markdown",
   "metadata": {
    "papermill": {
     "duration": 0.011026,
     "end_time": "2021-02-23T21:34:07.590007",
     "exception": false,
     "start_time": "2021-02-23T21:34:07.578981",
     "status": "completed"
    },
    "tags": []
   },
   "source": [
    "# Load consensus clustering results"
   ]
  },
  {
   "cell_type": "code",
   "execution_count": 3,
   "metadata": {
    "execution": {
     "iopub.execute_input": "2021-02-23T21:34:07.614312Z",
     "iopub.status.busy": "2021-02-23T21:34:07.613934Z",
     "iopub.status.idle": "2021-02-23T21:34:07.625801Z",
     "shell.execute_reply": "2021-02-23T21:34:07.626158Z"
    },
    "papermill": {
     "duration": 0.025463,
     "end_time": "2021-02-23T21:34:07.626266",
     "exception": false,
     "start_time": "2021-02-23T21:34:07.600803",
     "status": "completed"
    },
    "tags": []
   },
   "outputs": [
    {
     "data": {
      "text/plain": [
       "PosixPath('/home/miltondp/projects/labs/greenelab/phenoplier/base3/results/clustering/consensus_clustering')"
      ]
     },
     "metadata": {},
     "output_type": "display_data"
    }
   ],
   "source": [
    "CONSENSUS_CLUSTERING_DIR = Path(\n",
    "    conf.RESULTS[\"CLUSTERING_DIR\"], \"consensus_clustering\"\n",
    ").resolve()\n",
    "\n",
    "display(CONSENSUS_CLUSTERING_DIR)"
   ]
  },
  {
   "cell_type": "code",
   "execution_count": 4,
   "metadata": {
    "execution": {
     "iopub.execute_input": "2021-02-23T21:34:07.651575Z",
     "iopub.status.busy": "2021-02-23T21:34:07.651215Z",
     "iopub.status.idle": "2021-02-23T21:34:07.661588Z",
     "shell.execute_reply": "2021-02-23T21:34:07.661221Z"
    },
    "papermill": {
     "duration": 0.023647,
     "end_time": "2021-02-23T21:34:07.661674",
     "exception": false,
     "start_time": "2021-02-23T21:34:07.638027",
     "status": "completed"
    },
    "tags": []
   },
   "outputs": [
    {
     "data": {
      "text/plain": [
       "PosixPath('/home/miltondp/projects/labs/greenelab/phenoplier/base3/results/clustering/consensus_clustering/consensus_clustering_runs.pkl')"
      ]
     },
     "metadata": {},
     "output_type": "display_data"
    }
   ],
   "source": [
    "input_file = Path(CONSENSUS_CLUSTERING_DIR, \"consensus_clustering_runs.pkl\").resolve()\n",
    "display(input_file)"
   ]
  },
  {
   "cell_type": "code",
   "execution_count": 5,
   "metadata": {
    "execution": {
     "iopub.execute_input": "2021-02-23T21:34:07.687557Z",
     "iopub.status.busy": "2021-02-23T21:34:07.687179Z",
     "iopub.status.idle": "2021-02-23T21:34:07.737322Z",
     "shell.execute_reply": "2021-02-23T21:34:07.736893Z"
    },
    "papermill": {
     "duration": 0.064001,
     "end_time": "2021-02-23T21:34:07.737436",
     "exception": false,
     "start_time": "2021-02-23T21:34:07.673435",
     "status": "completed"
    },
    "tags": []
   },
   "outputs": [],
   "source": [
    "consensus_clustering_results = pd.read_pickle(input_file)"
   ]
  },
  {
   "cell_type": "code",
   "execution_count": 6,
   "metadata": {
    "execution": {
     "iopub.execute_input": "2021-02-23T21:34:07.770008Z",
     "iopub.status.busy": "2021-02-23T21:34:07.769538Z",
     "iopub.status.idle": "2021-02-23T21:34:07.781931Z",
     "shell.execute_reply": "2021-02-23T21:34:07.781472Z"
    },
    "papermill": {
     "duration": 0.029595,
     "end_time": "2021-02-23T21:34:07.782035",
     "exception": false,
     "start_time": "2021-02-23T21:34:07.752440",
     "status": "completed"
    },
    "tags": []
   },
   "outputs": [
    {
     "data": {
      "text/plain": [
       "(413, 12)"
      ]
     },
     "execution_count": 6,
     "metadata": {},
     "output_type": "execute_result"
    }
   ],
   "source": [
    "consensus_clustering_results.shape"
   ]
  },
  {
   "cell_type": "code",
   "execution_count": 7,
   "metadata": {
    "execution": {
     "iopub.execute_input": "2021-02-23T21:34:07.814660Z",
     "iopub.status.busy": "2021-02-23T21:34:07.814250Z",
     "iopub.status.idle": "2021-02-23T21:34:07.839196Z",
     "shell.execute_reply": "2021-02-23T21:34:07.838856Z"
    },
    "papermill": {
     "duration": 0.041984,
     "end_time": "2021-02-23T21:34:07.839295",
     "exception": false,
     "start_time": "2021-02-23T21:34:07.797311",
     "status": "completed"
    },
    "tags": []
   },
   "outputs": [
    {
     "data": {
      "text/html": [
       "<div>\n",
       "<style scoped>\n",
       "    .dataframe tbody tr th:only-of-type {\n",
       "        vertical-align: middle;\n",
       "    }\n",
       "\n",
       "    .dataframe tbody tr th {\n",
       "        vertical-align: top;\n",
       "    }\n",
       "\n",
       "    .dataframe thead th {\n",
       "        text-align: right;\n",
       "    }\n",
       "</style>\n",
       "<table border=\"1\" class=\"dataframe\">\n",
       "  <thead>\n",
       "    <tr style=\"text-align: right;\">\n",
       "      <th></th>\n",
       "      <th>method</th>\n",
       "      <th>partition</th>\n",
       "      <th>k</th>\n",
       "      <th>ari_mean</th>\n",
       "      <th>ari_median</th>\n",
       "      <th>ari_std</th>\n",
       "      <th>ami_mean</th>\n",
       "      <th>ami_median</th>\n",
       "      <th>ami_std</th>\n",
       "      <th>nmi_mean</th>\n",
       "      <th>nmi_median</th>\n",
       "      <th>nmi_std</th>\n",
       "    </tr>\n",
       "  </thead>\n",
       "  <tbody>\n",
       "    <tr>\n",
       "      <th>0</th>\n",
       "      <td>eac_single_coassoc_matrix</td>\n",
       "      <td>[0, 0, 0, 0, 0, 0, 0, 0, 0, 0, 0, 0, 0, 0, 0, ...</td>\n",
       "      <td>2</td>\n",
       "      <td>0.028316</td>\n",
       "      <td>0.001172</td>\n",
       "      <td>0.071466</td>\n",
       "      <td>0.037372</td>\n",
       "      <td>0.013340</td>\n",
       "      <td>0.070718</td>\n",
       "      <td>0.039099</td>\n",
       "      <td>0.015125</td>\n",
       "      <td>0.070828</td>\n",
       "    </tr>\n",
       "    <tr>\n",
       "      <th>1</th>\n",
       "      <td>eac_single_coassoc_matrix</td>\n",
       "      <td>[0, 0, 0, 0, 0, 0, 0, 0, 0, 0, 0, 0, 0, 0, 0, ...</td>\n",
       "      <td>3</td>\n",
       "      <td>0.044564</td>\n",
       "      <td>0.001975</td>\n",
       "      <td>0.110040</td>\n",
       "      <td>0.059596</td>\n",
       "      <td>0.022292</td>\n",
       "      <td>0.108635</td>\n",
       "      <td>0.062536</td>\n",
       "      <td>0.025583</td>\n",
       "      <td>0.108613</td>\n",
       "    </tr>\n",
       "    <tr>\n",
       "      <th>2</th>\n",
       "      <td>eac_single_coassoc_matrix</td>\n",
       "      <td>[0, 0, 0, 0, 0, 0, 0, 0, 0, 0, 0, 0, 0, 0, 0, ...</td>\n",
       "      <td>4</td>\n",
       "      <td>0.242846</td>\n",
       "      <td>0.015785</td>\n",
       "      <td>0.359750</td>\n",
       "      <td>0.269175</td>\n",
       "      <td>0.082025</td>\n",
       "      <td>0.326123</td>\n",
       "      <td>0.273511</td>\n",
       "      <td>0.086402</td>\n",
       "      <td>0.324377</td>\n",
       "    </tr>\n",
       "    <tr>\n",
       "      <th>3</th>\n",
       "      <td>eac_single_coassoc_matrix</td>\n",
       "      <td>[0, 0, 0, 0, 0, 0, 0, 0, 0, 0, 0, 0, 0, 0, 0, ...</td>\n",
       "      <td>5</td>\n",
       "      <td>0.246215</td>\n",
       "      <td>0.017924</td>\n",
       "      <td>0.353398</td>\n",
       "      <td>0.274577</td>\n",
       "      <td>0.094328</td>\n",
       "      <td>0.314086</td>\n",
       "      <td>0.279641</td>\n",
       "      <td>0.099375</td>\n",
       "      <td>0.311975</td>\n",
       "    </tr>\n",
       "    <tr>\n",
       "      <th>4</th>\n",
       "      <td>eac_single_coassoc_matrix</td>\n",
       "      <td>[1, 1, 1, 1, 1, 1, 1, 1, 1, 1, 1, 1, 1, 1, 1, ...</td>\n",
       "      <td>6</td>\n",
       "      <td>0.254425</td>\n",
       "      <td>0.024476</td>\n",
       "      <td>0.344744</td>\n",
       "      <td>0.288252</td>\n",
       "      <td>0.110970</td>\n",
       "      <td>0.297056</td>\n",
       "      <td>0.294332</td>\n",
       "      <td>0.117303</td>\n",
       "      <td>0.294392</td>\n",
       "    </tr>\n",
       "  </tbody>\n",
       "</table>\n",
       "</div>"
      ],
      "text/plain": [
       "                      method  \\\n",
       "0  eac_single_coassoc_matrix   \n",
       "1  eac_single_coassoc_matrix   \n",
       "2  eac_single_coassoc_matrix   \n",
       "3  eac_single_coassoc_matrix   \n",
       "4  eac_single_coassoc_matrix   \n",
       "\n",
       "                                           partition  k  ari_mean  ari_median  \\\n",
       "0  [0, 0, 0, 0, 0, 0, 0, 0, 0, 0, 0, 0, 0, 0, 0, ...  2  0.028316    0.001172   \n",
       "1  [0, 0, 0, 0, 0, 0, 0, 0, 0, 0, 0, 0, 0, 0, 0, ...  3  0.044564    0.001975   \n",
       "2  [0, 0, 0, 0, 0, 0, 0, 0, 0, 0, 0, 0, 0, 0, 0, ...  4  0.242846    0.015785   \n",
       "3  [0, 0, 0, 0, 0, 0, 0, 0, 0, 0, 0, 0, 0, 0, 0, ...  5  0.246215    0.017924   \n",
       "4  [1, 1, 1, 1, 1, 1, 1, 1, 1, 1, 1, 1, 1, 1, 1, ...  6  0.254425    0.024476   \n",
       "\n",
       "    ari_std  ami_mean  ami_median   ami_std  nmi_mean  nmi_median   nmi_std  \n",
       "0  0.071466  0.037372    0.013340  0.070718  0.039099    0.015125  0.070828  \n",
       "1  0.110040  0.059596    0.022292  0.108635  0.062536    0.025583  0.108613  \n",
       "2  0.359750  0.269175    0.082025  0.326123  0.273511    0.086402  0.324377  \n",
       "3  0.353398  0.274577    0.094328  0.314086  0.279641    0.099375  0.311975  \n",
       "4  0.344744  0.288252    0.110970  0.297056  0.294332    0.117303  0.294392  "
      ]
     },
     "execution_count": 7,
     "metadata": {},
     "output_type": "execute_result"
    }
   ],
   "source": [
    "consensus_clustering_results.head()"
   ]
  },
  {
   "cell_type": "markdown",
   "metadata": {
    "papermill": {
     "duration": 0.013468,
     "end_time": "2021-02-23T21:34:07.866428",
     "exception": false,
     "start_time": "2021-02-23T21:34:07.852960",
     "status": "completed"
    },
    "tags": []
   },
   "source": [
    "# Explore best partition per k"
   ]
  },
  {
   "cell_type": "code",
   "execution_count": 8,
   "metadata": {
    "execution": {
     "iopub.execute_input": "2021-02-23T21:34:07.893832Z",
     "iopub.status.busy": "2021-02-23T21:34:07.893464Z",
     "iopub.status.idle": "2021-02-23T21:34:07.949431Z",
     "shell.execute_reply": "2021-02-23T21:34:07.949054Z"
    },
    "papermill": {
     "duration": 0.070598,
     "end_time": "2021-02-23T21:34:07.949519",
     "exception": false,
     "start_time": "2021-02-23T21:34:07.878921",
     "status": "completed"
    },
    "tags": []
   },
   "outputs": [
    {
     "data": {
      "text/html": [
       "<div>\n",
       "<style scoped>\n",
       "    .dataframe tbody tr th:only-of-type {\n",
       "        vertical-align: middle;\n",
       "    }\n",
       "\n",
       "    .dataframe tbody tr th {\n",
       "        vertical-align: top;\n",
       "    }\n",
       "\n",
       "    .dataframe thead th {\n",
       "        text-align: right;\n",
       "    }\n",
       "</style>\n",
       "<table border=\"1\" class=\"dataframe\">\n",
       "  <thead>\n",
       "    <tr style=\"text-align: right;\">\n",
       "      <th></th>\n",
       "      <th></th>\n",
       "      <th>method</th>\n",
       "      <th>k</th>\n",
       "      <th>ami_mean</th>\n",
       "      <th>ami_median</th>\n",
       "    </tr>\n",
       "    <tr>\n",
       "      <th>k</th>\n",
       "      <th></th>\n",
       "      <th></th>\n",
       "      <th></th>\n",
       "      <th></th>\n",
       "      <th></th>\n",
       "    </tr>\n",
       "  </thead>\n",
       "  <tbody>\n",
       "    <tr>\n",
       "      <th>11</th>\n",
       "      <th>68</th>\n",
       "      <td>scc_020</td>\n",
       "      <td>11</td>\n",
       "      <td>0.301839</td>\n",
       "      <td>0.135627</td>\n",
       "    </tr>\n",
       "    <tr>\n",
       "      <th>10</th>\n",
       "      <th>67</th>\n",
       "      <td>scc_020</td>\n",
       "      <td>10</td>\n",
       "      <td>0.301738</td>\n",
       "      <td>0.134414</td>\n",
       "    </tr>\n",
       "    <tr>\n",
       "      <th>9</th>\n",
       "      <th>66</th>\n",
       "      <td>scc_020</td>\n",
       "      <td>9</td>\n",
       "      <td>0.301301</td>\n",
       "      <td>0.133726</td>\n",
       "    </tr>\n",
       "    <tr>\n",
       "      <th>4</th>\n",
       "      <th>297</th>\n",
       "      <td>eac_complete_coassoc_matrix</td>\n",
       "      <td>4</td>\n",
       "      <td>0.300385</td>\n",
       "      <td>0.129403</td>\n",
       "    </tr>\n",
       "    <tr>\n",
       "      <th>8</th>\n",
       "      <th>65</th>\n",
       "      <td>scc_020</td>\n",
       "      <td>8</td>\n",
       "      <td>0.300171</td>\n",
       "      <td>0.133273</td>\n",
       "    </tr>\n",
       "    <tr>\n",
       "      <th>7</th>\n",
       "      <th>64</th>\n",
       "      <td>scc_020</td>\n",
       "      <td>7</td>\n",
       "      <td>0.299450</td>\n",
       "      <td>0.131443</td>\n",
       "    </tr>\n",
       "    <tr>\n",
       "      <th>5</th>\n",
       "      <th>121</th>\n",
       "      <td>eac_average_coassoc_matrix</td>\n",
       "      <td>5</td>\n",
       "      <td>0.298290</td>\n",
       "      <td>0.132804</td>\n",
       "    </tr>\n",
       "    <tr>\n",
       "      <th>14</th>\n",
       "      <th>71</th>\n",
       "      <td>scc_020</td>\n",
       "      <td>14</td>\n",
       "      <td>0.296094</td>\n",
       "      <td>0.150045</td>\n",
       "    </tr>\n",
       "    <tr>\n",
       "      <th>19</th>\n",
       "      <th>76</th>\n",
       "      <td>scc_020</td>\n",
       "      <td>19</td>\n",
       "      <td>0.294205</td>\n",
       "      <td>0.161648</td>\n",
       "    </tr>\n",
       "    <tr>\n",
       "      <th>41</th>\n",
       "      <th>98</th>\n",
       "      <td>scc_020</td>\n",
       "      <td>41</td>\n",
       "      <td>0.292109</td>\n",
       "      <td>0.284777</td>\n",
       "    </tr>\n",
       "  </tbody>\n",
       "</table>\n",
       "</div>"
      ],
      "text/plain": [
       "                             method   k  ami_mean  ami_median\n",
       "k                                                            \n",
       "11 68                       scc_020  11  0.301839    0.135627\n",
       "10 67                       scc_020  10  0.301738    0.134414\n",
       "9  66                       scc_020   9  0.301301    0.133726\n",
       "4  297  eac_complete_coassoc_matrix   4  0.300385    0.129403\n",
       "8  65                       scc_020   8  0.300171    0.133273\n",
       "7  64                       scc_020   7  0.299450    0.131443\n",
       "5  121   eac_average_coassoc_matrix   5  0.298290    0.132804\n",
       "14 71                       scc_020  14  0.296094    0.150045\n",
       "19 76                       scc_020  19  0.294205    0.161648\n",
       "41 98                       scc_020  41  0.292109    0.284777"
      ]
     },
     "metadata": {},
     "output_type": "display_data"
    }
   ],
   "source": [
    "_col0, _col1 = \"ami_mean\", \"ami_median\"\n",
    "_tmp = (\n",
    "    consensus_clustering_results.groupby(\"k\")\n",
    "    .apply(lambda x: x.sort_values(_col0, ascending=False).head(1))\n",
    "    .sort_values(_col0, ascending=False)[[\"method\", \"k\", _col0, _col1]]\n",
    ")\n",
    "display(_tmp.head(10))"
   ]
  },
  {
   "cell_type": "code",
   "execution_count": 9,
   "metadata": {
    "execution": {
     "iopub.execute_input": "2021-02-23T21:34:07.978859Z",
     "iopub.status.busy": "2021-02-23T21:34:07.978474Z",
     "iopub.status.idle": "2021-02-23T21:34:09.858335Z",
     "shell.execute_reply": "2021-02-23T21:34:09.858637Z"
    },
    "papermill": {
     "duration": 1.896304,
     "end_time": "2021-02-23T21:34:09.858745",
     "exception": false,
     "start_time": "2021-02-23T21:34:07.962441",
     "status": "completed"
    },
    "tags": []
   },
   "outputs": [
    {
     "data": {
      "image/png": "[encoded data removed]",
      "text/plain": [
       "<Figure size 864x432 with 1 Axes>"
      ]
     },
     "metadata": {},
     "output_type": "display_data"
    }
   ],
   "source": [
    "with sns.plotting_context(\"talk\", font_scale=0.75), sns.axes_style(\n",
    "    \"whitegrid\", {\"grid.linestyle\": \"--\"}\n",
    "):\n",
    "    fig, ax = plt.subplots(figsize=(12, 6))\n",
    "    ax = sns.pointplot(data=_tmp, x=\"k\", y=_col0, ci=None, label=\"One\")\n",
    "    ax = sns.pointplot(\n",
    "        data=_tmp, x=\"k\", y=_col1, ci=None, color=\"red\", label=\"Two\", ax=ax\n",
    "    )\n",
    "    ax.set_ylabel(\"Agreement with ensemble (AMI)\")\n",
    "    ax.set_xlabel(\"Number of clusters ($k$)\")\n",
    "    ax.set_xticklabels(ax.get_xticklabels(), rotation=45)\n",
    "    plt.legend(labels=[\"Mean\", \"Median\"])\n",
    "    plt.grid(True)\n",
    "    plt.tight_layout()"
   ]
  },
  {
   "cell_type": "markdown",
   "metadata": {
    "papermill": {
     "duration": 0.013919,
     "end_time": "2021-02-23T21:34:09.887657",
     "exception": false,
     "start_time": "2021-02-23T21:34:09.873738",
     "status": "completed"
    },
    "tags": []
   },
   "source": [
    "# Select best partition per k"
   ]
  },
  {
   "cell_type": "code",
   "execution_count": 10,
   "metadata": {
    "execution": {
     "iopub.execute_input": "2021-02-23T21:34:09.918599Z",
     "iopub.status.busy": "2021-02-23T21:34:09.918229Z",
     "iopub.status.idle": "2021-02-23T21:34:09.966542Z",
     "shell.execute_reply": "2021-02-23T21:34:09.966172Z"
    },
    "papermill": {
     "duration": 0.065148,
     "end_time": "2021-02-23T21:34:09.966629",
     "exception": false,
     "start_time": "2021-02-23T21:34:09.901481",
     "status": "completed"
    },
    "tags": []
   },
   "outputs": [],
   "source": [
    "_measure_col = \"ami_mean\"\n",
    "best_parts = (\n",
    "    consensus_clustering_results.groupby(\"k\")\n",
    "    .apply(lambda x: x.sort_values(_measure_col, ascending=False).head(1))\n",
    "    .sort_values(_measure_col, ascending=False)[\n",
    "        [\"method\", \"k\", \"partition\", _measure_col]\n",
    "    ]\n",
    ")"
   ]
  },
  {
   "cell_type": "code",
   "execution_count": 11,
   "metadata": {
    "execution": {
     "iopub.execute_input": "2021-02-23T21:34:09.997312Z",
     "iopub.status.busy": "2021-02-23T21:34:09.996950Z",
     "iopub.status.idle": "2021-02-23T21:34:10.007054Z",
     "shell.execute_reply": "2021-02-23T21:34:10.006695Z"
    },
    "papermill": {
     "duration": 0.026296,
     "end_time": "2021-02-23T21:34:10.007146",
     "exception": false,
     "start_time": "2021-02-23T21:34:09.980850",
     "status": "completed"
    },
    "tags": []
   },
   "outputs": [],
   "source": [
    "best_parts = best_parts.set_index(\"k\")"
   ]
  },
  {
   "cell_type": "code",
   "execution_count": 12,
   "metadata": {
    "execution": {
     "iopub.execute_input": "2021-02-23T21:34:10.038459Z",
     "iopub.status.busy": "2021-02-23T21:34:10.038087Z",
     "iopub.status.idle": "2021-02-23T21:34:10.048530Z",
     "shell.execute_reply": "2021-02-23T21:34:10.048140Z"
    },
    "papermill": {
     "duration": 0.026524,
     "end_time": "2021-02-23T21:34:10.048619",
     "exception": false,
     "start_time": "2021-02-23T21:34:10.022095",
     "status": "completed"
    },
    "tags": []
   },
   "outputs": [
    {
     "data": {
      "text/plain": [
       "(59, 3)"
      ]
     },
     "execution_count": 12,
     "metadata": {},
     "output_type": "execute_result"
    }
   ],
   "source": [
    "best_parts.shape"
   ]
  },
  {
   "cell_type": "code",
   "execution_count": 13,
   "metadata": {
    "execution": {
     "iopub.execute_input": "2021-02-23T21:34:10.079731Z",
     "iopub.status.busy": "2021-02-23T21:34:10.079372Z",
     "iopub.status.idle": "2021-02-23T21:34:10.102357Z",
     "shell.execute_reply": "2021-02-23T21:34:10.101975Z"
    },
    "papermill": {
     "duration": 0.039143,
     "end_time": "2021-02-23T21:34:10.102447",
     "exception": false,
     "start_time": "2021-02-23T21:34:10.063304",
     "status": "completed"
    },
    "tags": []
   },
   "outputs": [
    {
     "data": {
      "text/html": [
       "<div>\n",
       "<style scoped>\n",
       "    .dataframe tbody tr th:only-of-type {\n",
       "        vertical-align: middle;\n",
       "    }\n",
       "\n",
       "    .dataframe tbody tr th {\n",
       "        vertical-align: top;\n",
       "    }\n",
       "\n",
       "    .dataframe thead th {\n",
       "        text-align: right;\n",
       "    }\n",
       "</style>\n",
       "<table border=\"1\" class=\"dataframe\">\n",
       "  <thead>\n",
       "    <tr style=\"text-align: right;\">\n",
       "      <th></th>\n",
       "      <th>method</th>\n",
       "      <th>partition</th>\n",
       "      <th>ami_mean</th>\n",
       "    </tr>\n",
       "    <tr>\n",
       "      <th>k</th>\n",
       "      <th></th>\n",
       "      <th></th>\n",
       "      <th></th>\n",
       "    </tr>\n",
       "  </thead>\n",
       "  <tbody>\n",
       "    <tr>\n",
       "      <th>11</th>\n",
       "      <td>scc_020</td>\n",
       "      <td>[1, 1, 1, 1, 1, 1, 1, 1, 1, 1, 1, 1, 1, 1, 1, ...</td>\n",
       "      <td>0.301839</td>\n",
       "    </tr>\n",
       "    <tr>\n",
       "      <th>10</th>\n",
       "      <td>scc_020</td>\n",
       "      <td>[0, 0, 0, 0, 0, 0, 0, 0, 0, 0, 0, 0, 0, 0, 0, ...</td>\n",
       "      <td>0.301738</td>\n",
       "    </tr>\n",
       "    <tr>\n",
       "      <th>9</th>\n",
       "      <td>scc_020</td>\n",
       "      <td>[0, 0, 0, 0, 0, 0, 0, 0, 0, 0, 0, 0, 0, 0, 0, ...</td>\n",
       "      <td>0.301301</td>\n",
       "    </tr>\n",
       "    <tr>\n",
       "      <th>4</th>\n",
       "      <td>eac_complete_coassoc_matrix</td>\n",
       "      <td>[0, 0, 0, 0, 0, 0, 0, 0, 0, 0, 0, 0, 0, 0, 0, ...</td>\n",
       "      <td>0.300385</td>\n",
       "    </tr>\n",
       "    <tr>\n",
       "      <th>8</th>\n",
       "      <td>scc_020</td>\n",
       "      <td>[0, 0, 0, 0, 0, 0, 0, 0, 0, 0, 0, 0, 0, 0, 0, ...</td>\n",
       "      <td>0.300171</td>\n",
       "    </tr>\n",
       "    <tr>\n",
       "      <th>7</th>\n",
       "      <td>scc_020</td>\n",
       "      <td>[0, 0, 0, 0, 0, 0, 0, 0, 0, 0, 0, 0, 0, 0, 0, ...</td>\n",
       "      <td>0.299450</td>\n",
       "    </tr>\n",
       "    <tr>\n",
       "      <th>5</th>\n",
       "      <td>eac_average_coassoc_matrix</td>\n",
       "      <td>[0, 0, 0, 0, 0, 0, 0, 0, 0, 0, 0, 0, 0, 0, 0, ...</td>\n",
       "      <td>0.298290</td>\n",
       "    </tr>\n",
       "    <tr>\n",
       "      <th>14</th>\n",
       "      <td>scc_020</td>\n",
       "      <td>[0, 0, 0, 0, 0, 0, 0, 0, 0, 0, 0, 0, 0, 0, 0, ...</td>\n",
       "      <td>0.296094</td>\n",
       "    </tr>\n",
       "    <tr>\n",
       "      <th>19</th>\n",
       "      <td>scc_020</td>\n",
       "      <td>[0, 0, 0, 0, 0, 0, 0, 0, 0, 0, 0, 0, 0, 0, 0, ...</td>\n",
       "      <td>0.294205</td>\n",
       "    </tr>\n",
       "    <tr>\n",
       "      <th>41</th>\n",
       "      <td>scc_020</td>\n",
       "      <td>[39, 39, 39, 39, 39, 39, 39, 39, 39, 26, 39, 3...</td>\n",
       "      <td>0.292109</td>\n",
       "    </tr>\n",
       "  </tbody>\n",
       "</table>\n",
       "</div>"
      ],
      "text/plain": [
       "                         method  \\\n",
       "k                                 \n",
       "11                      scc_020   \n",
       "10                      scc_020   \n",
       "9                       scc_020   \n",
       "4   eac_complete_coassoc_matrix   \n",
       "8                       scc_020   \n",
       "7                       scc_020   \n",
       "5    eac_average_coassoc_matrix   \n",
       "14                      scc_020   \n",
       "19                      scc_020   \n",
       "41                      scc_020   \n",
       "\n",
       "                                            partition  ami_mean  \n",
       "k                                                                \n",
       "11  [1, 1, 1, 1, 1, 1, 1, 1, 1, 1, 1, 1, 1, 1, 1, ...  0.301839  \n",
       "10  [0, 0, 0, 0, 0, 0, 0, 0, 0, 0, 0, 0, 0, 0, 0, ...  0.301738  \n",
       "9   [0, 0, 0, 0, 0, 0, 0, 0, 0, 0, 0, 0, 0, 0, 0, ...  0.301301  \n",
       "4   [0, 0, 0, 0, 0, 0, 0, 0, 0, 0, 0, 0, 0, 0, 0, ...  0.300385  \n",
       "8   [0, 0, 0, 0, 0, 0, 0, 0, 0, 0, 0, 0, 0, 0, 0, ...  0.300171  \n",
       "7   [0, 0, 0, 0, 0, 0, 0, 0, 0, 0, 0, 0, 0, 0, 0, ...  0.299450  \n",
       "5   [0, 0, 0, 0, 0, 0, 0, 0, 0, 0, 0, 0, 0, 0, 0, ...  0.298290  \n",
       "14  [0, 0, 0, 0, 0, 0, 0, 0, 0, 0, 0, 0, 0, 0, 0, ...  0.296094  \n",
       "19  [0, 0, 0, 0, 0, 0, 0, 0, 0, 0, 0, 0, 0, 0, 0, ...  0.294205  \n",
       "41  [39, 39, 39, 39, 39, 39, 39, 39, 39, 26, 39, 3...  0.292109  "
      ]
     },
     "execution_count": 13,
     "metadata": {},
     "output_type": "execute_result"
    }
   ],
   "source": [
    "# show partitions with top ARI\n",
    "best_parts.head(10)"
   ]
  },
  {
   "cell_type": "code",
   "execution_count": 14,
   "metadata": {
    "execution": {
     "iopub.execute_input": "2021-02-23T21:34:10.136326Z",
     "iopub.status.busy": "2021-02-23T21:34:10.135939Z",
     "iopub.status.idle": "2021-02-23T21:34:10.207997Z",
     "shell.execute_reply": "2021-02-23T21:34:10.207616Z"
    },
    "papermill": {
     "duration": 0.089739,
     "end_time": "2021-02-23T21:34:10.208082",
     "exception": false,
     "start_time": "2021-02-23T21:34:10.118343",
     "status": "completed"
    },
    "tags": []
   },
   "outputs": [
    {
     "data": {
      "text/html": [
       "<div>\n",
       "<style scoped>\n",
       "    .dataframe tbody tr th:only-of-type {\n",
       "        vertical-align: middle;\n",
       "    }\n",
       "\n",
       "    .dataframe tbody tr th {\n",
       "        vertical-align: top;\n",
       "    }\n",
       "\n",
       "    .dataframe thead th {\n",
       "        text-align: right;\n",
       "    }\n",
       "</style>\n",
       "<table border=\"1\" class=\"dataframe\">\n",
       "  <thead>\n",
       "    <tr style=\"text-align: right;\">\n",
       "      <th></th>\n",
       "      <th>method</th>\n",
       "      <th>partition</th>\n",
       "      <th>ami_mean</th>\n",
       "    </tr>\n",
       "    <tr>\n",
       "      <th>k</th>\n",
       "      <th></th>\n",
       "      <th></th>\n",
       "      <th></th>\n",
       "    </tr>\n",
       "  </thead>\n",
       "  <tbody>\n",
       "    <tr>\n",
       "      <th>2</th>\n",
       "      <td>scc_020</td>\n",
       "      <td>[0, 0, 0, 0, 0, 0, 0, 0, 0, 0, 0, 0, 0, 0, 0, ...</td>\n",
       "      <td>0.238199</td>\n",
       "    </tr>\n",
       "    <tr>\n",
       "      <th>3</th>\n",
       "      <td>eac_complete_coassoc_matrix</td>\n",
       "      <td>[0, 0, 0, 0, 0, 0, 0, 0, 0, 0, 0, 0, 0, 0, 0, ...</td>\n",
       "      <td>0.277190</td>\n",
       "    </tr>\n",
       "    <tr>\n",
       "      <th>4</th>\n",
       "      <td>eac_complete_coassoc_matrix</td>\n",
       "      <td>[0, 0, 0, 0, 0, 0, 0, 0, 0, 0, 0, 0, 0, 0, 0, ...</td>\n",
       "      <td>0.300385</td>\n",
       "    </tr>\n",
       "    <tr>\n",
       "      <th>5</th>\n",
       "      <td>eac_average_coassoc_matrix</td>\n",
       "      <td>[0, 0, 0, 0, 0, 0, 0, 0, 0, 0, 0, 0, 0, 0, 0, ...</td>\n",
       "      <td>0.298290</td>\n",
       "    </tr>\n",
       "    <tr>\n",
       "      <th>6</th>\n",
       "      <td>eac_single_coassoc_matrix</td>\n",
       "      <td>[1, 1, 1, 1, 1, 1, 1, 1, 1, 1, 1, 1, 1, 1, 1, ...</td>\n",
       "      <td>0.288252</td>\n",
       "    </tr>\n",
       "    <tr>\n",
       "      <th>7</th>\n",
       "      <td>scc_020</td>\n",
       "      <td>[0, 0, 0, 0, 0, 0, 0, 0, 0, 0, 0, 0, 0, 0, 0, ...</td>\n",
       "      <td>0.299450</td>\n",
       "    </tr>\n",
       "    <tr>\n",
       "      <th>8</th>\n",
       "      <td>scc_020</td>\n",
       "      <td>[0, 0, 0, 0, 0, 0, 0, 0, 0, 0, 0, 0, 0, 0, 0, ...</td>\n",
       "      <td>0.300171</td>\n",
       "    </tr>\n",
       "    <tr>\n",
       "      <th>9</th>\n",
       "      <td>scc_020</td>\n",
       "      <td>[0, 0, 0, 0, 0, 0, 0, 0, 0, 0, 0, 0, 0, 0, 0, ...</td>\n",
       "      <td>0.301301</td>\n",
       "    </tr>\n",
       "    <tr>\n",
       "      <th>10</th>\n",
       "      <td>scc_020</td>\n",
       "      <td>[0, 0, 0, 0, 0, 0, 0, 0, 0, 0, 0, 0, 0, 0, 0, ...</td>\n",
       "      <td>0.301738</td>\n",
       "    </tr>\n",
       "    <tr>\n",
       "      <th>11</th>\n",
       "      <td>scc_020</td>\n",
       "      <td>[1, 1, 1, 1, 1, 1, 1, 1, 1, 1, 1, 1, 1, 1, 1, ...</td>\n",
       "      <td>0.301839</td>\n",
       "    </tr>\n",
       "    <tr>\n",
       "      <th>12</th>\n",
       "      <td>eac_average_coassoc_matrix</td>\n",
       "      <td>[1, 1, 1, 1, 1, 1, 1, 1, 1, 1, 1, 1, 1, 1, 1, ...</td>\n",
       "      <td>0.277357</td>\n",
       "    </tr>\n",
       "    <tr>\n",
       "      <th>13</th>\n",
       "      <td>eac_average_coassoc_matrix</td>\n",
       "      <td>[1, 1, 1, 1, 1, 1, 1, 1, 1, 1, 1, 1, 1, 1, 1, ...</td>\n",
       "      <td>0.281216</td>\n",
       "    </tr>\n",
       "    <tr>\n",
       "      <th>14</th>\n",
       "      <td>scc_020</td>\n",
       "      <td>[0, 0, 0, 0, 0, 0, 0, 0, 0, 0, 0, 0, 0, 0, 0, ...</td>\n",
       "      <td>0.296094</td>\n",
       "    </tr>\n",
       "    <tr>\n",
       "      <th>15</th>\n",
       "      <td>eac_average_coassoc_matrix</td>\n",
       "      <td>[6, 6, 6, 6, 6, 6, 6, 6, 6, 6, 6, 6, 6, 6, 6, ...</td>\n",
       "      <td>0.278804</td>\n",
       "    </tr>\n",
       "    <tr>\n",
       "      <th>16</th>\n",
       "      <td>scc_030</td>\n",
       "      <td>[14, 14, 14, 14, 14, 14, 14, 14, 14, 0, 14, 14...</td>\n",
       "      <td>0.284165</td>\n",
       "    </tr>\n",
       "    <tr>\n",
       "      <th>17</th>\n",
       "      <td>scc_030</td>\n",
       "      <td>[14, 1, 1, 1, 1, 1, 1, 1, 14, 1, 14, 14, 1, 14...</td>\n",
       "      <td>0.281193</td>\n",
       "    </tr>\n",
       "    <tr>\n",
       "      <th>18</th>\n",
       "      <td>scc_025</td>\n",
       "      <td>[0, 0, 0, 0, 0, 0, 0, 0, 0, 0, 0, 0, 0, 0, 0, ...</td>\n",
       "      <td>0.288659</td>\n",
       "    </tr>\n",
       "    <tr>\n",
       "      <th>19</th>\n",
       "      <td>scc_020</td>\n",
       "      <td>[0, 0, 0, 0, 0, 0, 0, 0, 0, 0, 0, 0, 0, 0, 0, ...</td>\n",
       "      <td>0.294205</td>\n",
       "    </tr>\n",
       "    <tr>\n",
       "      <th>20</th>\n",
       "      <td>eac_average_coassoc_matrix</td>\n",
       "      <td>[0, 0, 0, 0, 0, 0, 0, 0, 0, 3, 0, 0, 0, 0, 0, ...</td>\n",
       "      <td>0.281631</td>\n",
       "    </tr>\n",
       "    <tr>\n",
       "      <th>21</th>\n",
       "      <td>scc_025</td>\n",
       "      <td>[0, 0, 0, 0, 0, 0, 0, 0, 0, 0, 0, 0, 0, 0, 0, ...</td>\n",
       "      <td>0.288790</td>\n",
       "    </tr>\n",
       "    <tr>\n",
       "      <th>22</th>\n",
       "      <td>scc_025</td>\n",
       "      <td>[1, 1, 1, 1, 1, 1, 1, 1, 1, 1, 1, 1, 1, 1, 1, ...</td>\n",
       "      <td>0.290187</td>\n",
       "    </tr>\n",
       "    <tr>\n",
       "      <th>23</th>\n",
       "      <td>scc_025</td>\n",
       "      <td>[0, 0, 0, 0, 0, 0, 0, 0, 0, 0, 0, 0, 0, 0, 0, ...</td>\n",
       "      <td>0.288649</td>\n",
       "    </tr>\n",
       "    <tr>\n",
       "      <th>24</th>\n",
       "      <td>scc_025</td>\n",
       "      <td>[22, 22, 22, 22, 22, 22, 22, 22, 22, 22, 22, 2...</td>\n",
       "      <td>0.290363</td>\n",
       "    </tr>\n",
       "    <tr>\n",
       "      <th>25</th>\n",
       "      <td>scc_025</td>\n",
       "      <td>[0, 0, 0, 0, 0, 0, 0, 0, 0, 0, 0, 0, 0, 0, 0, ...</td>\n",
       "      <td>0.286868</td>\n",
       "    </tr>\n",
       "    <tr>\n",
       "      <th>26</th>\n",
       "      <td>eac_average_coassoc_matrix</td>\n",
       "      <td>[16, 16, 16, 16, 16, 16, 16, 16, 16, 0, 16, 16...</td>\n",
       "      <td>0.278808</td>\n",
       "    </tr>\n",
       "    <tr>\n",
       "      <th>27</th>\n",
       "      <td>eac_average_coassoc_matrix</td>\n",
       "      <td>[16, 16, 16, 16, 16, 16, 16, 16, 16, 3, 16, 16...</td>\n",
       "      <td>0.278319</td>\n",
       "    </tr>\n",
       "    <tr>\n",
       "      <th>28</th>\n",
       "      <td>scc_025</td>\n",
       "      <td>[27, 27, 27, 27, 27, 27, 27, 27, 27, 2, 27, 27...</td>\n",
       "      <td>0.291455</td>\n",
       "    </tr>\n",
       "    <tr>\n",
       "      <th>29</th>\n",
       "      <td>scc_025</td>\n",
       "      <td>[17, 17, 17, 17, 17, 17, 17, 17, 17, 17, 17, 1...</td>\n",
       "      <td>0.285723</td>\n",
       "    </tr>\n",
       "    <tr>\n",
       "      <th>30</th>\n",
       "      <td>eac_average_coassoc_matrix</td>\n",
       "      <td>[16, 16, 16, 16, 16, 16, 16, 16, 16, 2, 16, 16...</td>\n",
       "      <td>0.273918</td>\n",
       "    </tr>\n",
       "    <tr>\n",
       "      <th>31</th>\n",
       "      <td>eac_average_coassoc_matrix</td>\n",
       "      <td>[16, 16, 16, 16, 16, 16, 16, 16, 16, 0, 16, 16...</td>\n",
       "      <td>0.274203</td>\n",
       "    </tr>\n",
       "    <tr>\n",
       "      <th>32</th>\n",
       "      <td>eac_average_coassoc_matrix</td>\n",
       "      <td>[16, 16, 16, 16, 16, 16, 16, 16, 16, 2, 16, 16...</td>\n",
       "      <td>0.272564</td>\n",
       "    </tr>\n",
       "    <tr>\n",
       "      <th>33</th>\n",
       "      <td>eac_average_coassoc_matrix</td>\n",
       "      <td>[16, 16, 16, 16, 16, 16, 16, 16, 16, 0, 16, 16...</td>\n",
       "      <td>0.272561</td>\n",
       "    </tr>\n",
       "    <tr>\n",
       "      <th>34</th>\n",
       "      <td>scc_025</td>\n",
       "      <td>[33, 33, 33, 33, 33, 33, 33, 33, 33, 22, 33, 3...</td>\n",
       "      <td>0.278708</td>\n",
       "    </tr>\n",
       "    <tr>\n",
       "      <th>35</th>\n",
       "      <td>eac_average_coassoc_matrix</td>\n",
       "      <td>[16, 16, 16, 16, 16, 16, 16, 16, 16, 15, 16, 1...</td>\n",
       "      <td>0.271502</td>\n",
       "    </tr>\n",
       "    <tr>\n",
       "      <th>36</th>\n",
       "      <td>eac_average_coassoc_matrix</td>\n",
       "      <td>[16, 16, 16, 16, 16, 16, 16, 16, 16, 15, 16, 1...</td>\n",
       "      <td>0.271459</td>\n",
       "    </tr>\n",
       "    <tr>\n",
       "      <th>37</th>\n",
       "      <td>eac_average_coassoc_matrix</td>\n",
       "      <td>[16, 16, 16, 16, 16, 16, 16, 16, 16, 15, 16, 1...</td>\n",
       "      <td>0.270785</td>\n",
       "    </tr>\n",
       "    <tr>\n",
       "      <th>38</th>\n",
       "      <td>scc_020</td>\n",
       "      <td>[31, 31, 31, 31, 31, 31, 31, 31, 31, 26, 31, 3...</td>\n",
       "      <td>0.291320</td>\n",
       "    </tr>\n",
       "    <tr>\n",
       "      <th>39</th>\n",
       "      <td>scc_020</td>\n",
       "      <td>[34, 34, 34, 34, 34, 34, 34, 34, 34, 1, 34, 34...</td>\n",
       "      <td>0.284021</td>\n",
       "    </tr>\n",
       "    <tr>\n",
       "      <th>40</th>\n",
       "      <td>eac_average_coassoc_matrix</td>\n",
       "      <td>[7, 7, 7, 7, 7, 7, 7, 7, 7, 3, 7, 7, 7, 7, 7, ...</td>\n",
       "      <td>0.273307</td>\n",
       "    </tr>\n",
       "    <tr>\n",
       "      <th>41</th>\n",
       "      <td>scc_020</td>\n",
       "      <td>[39, 39, 39, 39, 39, 39, 39, 39, 39, 26, 39, 3...</td>\n",
       "      <td>0.292109</td>\n",
       "    </tr>\n",
       "    <tr>\n",
       "      <th>42</th>\n",
       "      <td>eac_average_coassoc_matrix</td>\n",
       "      <td>[7, 7, 7, 7, 7, 7, 7, 7, 7, 1, 7, 7, 7, 7, 7, ...</td>\n",
       "      <td>0.273417</td>\n",
       "    </tr>\n",
       "    <tr>\n",
       "      <th>43</th>\n",
       "      <td>eac_average_coassoc_matrix</td>\n",
       "      <td>[3, 3, 3, 3, 3, 3, 3, 3, 3, 0, 3, 3, 3, 3, 3, ...</td>\n",
       "      <td>0.273690</td>\n",
       "    </tr>\n",
       "    <tr>\n",
       "      <th>44</th>\n",
       "      <td>scc_020</td>\n",
       "      <td>[29, 29, 29, 29, 29, 29, 29, 29, 29, 0, 29, 29...</td>\n",
       "      <td>0.289083</td>\n",
       "    </tr>\n",
       "    <tr>\n",
       "      <th>45</th>\n",
       "      <td>eac_average_coassoc_matrix</td>\n",
       "      <td>[1, 1, 1, 1, 1, 1, 1, 1, 1, 3, 1, 1, 1, 1, 1, ...</td>\n",
       "      <td>0.257624</td>\n",
       "    </tr>\n",
       "    <tr>\n",
       "      <th>46</th>\n",
       "      <td>scc_020</td>\n",
       "      <td>[37, 37, 37, 37, 37, 37, 37, 37, 37, 41, 37, 3...</td>\n",
       "      <td>0.259101</td>\n",
       "    </tr>\n",
       "    <tr>\n",
       "      <th>47</th>\n",
       "      <td>eac_average_coassoc_matrix</td>\n",
       "      <td>[46, 46, 46, 46, 46, 46, 46, 46, 46, 1, 46, 46...</td>\n",
       "      <td>0.257991</td>\n",
       "    </tr>\n",
       "    <tr>\n",
       "      <th>48</th>\n",
       "      <td>eac_average_coassoc_matrix</td>\n",
       "      <td>[46, 46, 46, 46, 46, 46, 46, 46, 46, 0, 46, 46...</td>\n",
       "      <td>0.258800</td>\n",
       "    </tr>\n",
       "    <tr>\n",
       "      <th>49</th>\n",
       "      <td>eac_average_coassoc_matrix</td>\n",
       "      <td>[46, 46, 46, 46, 46, 46, 46, 46, 46, 11, 46, 4...</td>\n",
       "      <td>0.249941</td>\n",
       "    </tr>\n",
       "    <tr>\n",
       "      <th>50</th>\n",
       "      <td>eac_average_coassoc_matrix</td>\n",
       "      <td>[46, 46, 46, 46, 46, 46, 46, 46, 46, 11, 46, 4...</td>\n",
       "      <td>0.249866</td>\n",
       "    </tr>\n",
       "    <tr>\n",
       "      <th>51</th>\n",
       "      <td>scc_020</td>\n",
       "      <td>[39, 39, 39, 39, 39, 39, 39, 39, 39, 45, 39, 3...</td>\n",
       "      <td>0.253083</td>\n",
       "    </tr>\n",
       "    <tr>\n",
       "      <th>52</th>\n",
       "      <td>eac_average_coassoc_matrix</td>\n",
       "      <td>[46, 46, 46, 46, 46, 46, 46, 46, 46, 11, 46, 4...</td>\n",
       "      <td>0.249983</td>\n",
       "    </tr>\n",
       "    <tr>\n",
       "      <th>53</th>\n",
       "      <td>eac_average_coassoc_matrix</td>\n",
       "      <td>[46, 46, 46, 46, 46, 46, 46, 46, 46, 11, 46, 4...</td>\n",
       "      <td>0.250516</td>\n",
       "    </tr>\n",
       "    <tr>\n",
       "      <th>54</th>\n",
       "      <td>scc_020</td>\n",
       "      <td>[40, 40, 40, 40, 40, 40, 40, 40, 40, 48, 40, 4...</td>\n",
       "      <td>0.247031</td>\n",
       "    </tr>\n",
       "    <tr>\n",
       "      <th>55</th>\n",
       "      <td>eac_average_coassoc_matrix</td>\n",
       "      <td>[46, 46, 46, 46, 46, 46, 46, 46, 46, 11, 46, 4...</td>\n",
       "      <td>0.246162</td>\n",
       "    </tr>\n",
       "    <tr>\n",
       "      <th>56</th>\n",
       "      <td>eac_average_coassoc_matrix</td>\n",
       "      <td>[46, 46, 46, 46, 46, 46, 46, 46, 46, 5, 46, 46...</td>\n",
       "      <td>0.246232</td>\n",
       "    </tr>\n",
       "    <tr>\n",
       "      <th>57</th>\n",
       "      <td>scc_020</td>\n",
       "      <td>[36, 36, 36, 36, 36, 36, 36, 36, 36, 29, 36, 3...</td>\n",
       "      <td>0.247812</td>\n",
       "    </tr>\n",
       "    <tr>\n",
       "      <th>58</th>\n",
       "      <td>scc_020</td>\n",
       "      <td>[42, 42, 42, 42, 42, 42, 42, 42, 42, 43, 42, 4...</td>\n",
       "      <td>0.242820</td>\n",
       "    </tr>\n",
       "    <tr>\n",
       "      <th>59</th>\n",
       "      <td>eac_average_coassoc_matrix</td>\n",
       "      <td>[46, 46, 46, 46, 46, 46, 46, 46, 46, 28, 46, 4...</td>\n",
       "      <td>0.241324</td>\n",
       "    </tr>\n",
       "    <tr>\n",
       "      <th>60</th>\n",
       "      <td>scc_020</td>\n",
       "      <td>[38, 38, 38, 38, 38, 38, 38, 38, 38, 50, 38, 3...</td>\n",
       "      <td>0.247978</td>\n",
       "    </tr>\n",
       "  </tbody>\n",
       "</table>\n",
       "</div>"
      ],
      "text/plain": [
       "                         method  \\\n",
       "k                                 \n",
       "2                       scc_020   \n",
       "3   eac_complete_coassoc_matrix   \n",
       "4   eac_complete_coassoc_matrix   \n",
       "5    eac_average_coassoc_matrix   \n",
       "6     eac_single_coassoc_matrix   \n",
       "7                       scc_020   \n",
       "8                       scc_020   \n",
       "9                       scc_020   \n",
       "10                      scc_020   \n",
       "11                      scc_020   \n",
       "12   eac_average_coassoc_matrix   \n",
       "13   eac_average_coassoc_matrix   \n",
       "14                      scc_020   \n",
       "15   eac_average_coassoc_matrix   \n",
       "16                      scc_030   \n",
       "17                      scc_030   \n",
       "18                      scc_025   \n",
       "19                      scc_020   \n",
       "20   eac_average_coassoc_matrix   \n",
       "21                      scc_025   \n",
       "22                      scc_025   \n",
       "23                      scc_025   \n",
       "24                      scc_025   \n",
       "25                      scc_025   \n",
       "26   eac_average_coassoc_matrix   \n",
       "27   eac_average_coassoc_matrix   \n",
       "28                      scc_025   \n",
       "29                      scc_025   \n",
       "30   eac_average_coassoc_matrix   \n",
       "31   eac_average_coassoc_matrix   \n",
       "32   eac_average_coassoc_matrix   \n",
       "33   eac_average_coassoc_matrix   \n",
       "34                      scc_025   \n",
       "35   eac_average_coassoc_matrix   \n",
       "36   eac_average_coassoc_matrix   \n",
       "37   eac_average_coassoc_matrix   \n",
       "38                      scc_020   \n",
       "39                      scc_020   \n",
       "40   eac_average_coassoc_matrix   \n",
       "41                      scc_020   \n",
       "42   eac_average_coassoc_matrix   \n",
       "43   eac_average_coassoc_matrix   \n",
       "44                      scc_020   \n",
       "45   eac_average_coassoc_matrix   \n",
       "46                      scc_020   \n",
       "47   eac_average_coassoc_matrix   \n",
       "48   eac_average_coassoc_matrix   \n",
       "49   eac_average_coassoc_matrix   \n",
       "50   eac_average_coassoc_matrix   \n",
       "51                      scc_020   \n",
       "52   eac_average_coassoc_matrix   \n",
       "53   eac_average_coassoc_matrix   \n",
       "54                      scc_020   \n",
       "55   eac_average_coassoc_matrix   \n",
       "56   eac_average_coassoc_matrix   \n",
       "57                      scc_020   \n",
       "58                      scc_020   \n",
       "59   eac_average_coassoc_matrix   \n",
       "60                      scc_020   \n",
       "\n",
       "                                            partition  ami_mean  \n",
       "k                                                                \n",
       "2   [0, 0, 0, 0, 0, 0, 0, 0, 0, 0, 0, 0, 0, 0, 0, ...  0.238199  \n",
       "3   [0, 0, 0, 0, 0, 0, 0, 0, 0, 0, 0, 0, 0, 0, 0, ...  0.277190  \n",
       "4   [0, 0, 0, 0, 0, 0, 0, 0, 0, 0, 0, 0, 0, 0, 0, ...  0.300385  \n",
       "5   [0, 0, 0, 0, 0, 0, 0, 0, 0, 0, 0, 0, 0, 0, 0, ...  0.298290  \n",
       "6   [1, 1, 1, 1, 1, 1, 1, 1, 1, 1, 1, 1, 1, 1, 1, ...  0.288252  \n",
       "7   [0, 0, 0, 0, 0, 0, 0, 0, 0, 0, 0, 0, 0, 0, 0, ...  0.299450  \n",
       "8   [0, 0, 0, 0, 0, 0, 0, 0, 0, 0, 0, 0, 0, 0, 0, ...  0.300171  \n",
       "9   [0, 0, 0, 0, 0, 0, 0, 0, 0, 0, 0, 0, 0, 0, 0, ...  0.301301  \n",
       "10  [0, 0, 0, 0, 0, 0, 0, 0, 0, 0, 0, 0, 0, 0, 0, ...  0.301738  \n",
       "11  [1, 1, 1, 1, 1, 1, 1, 1, 1, 1, 1, 1, 1, 1, 1, ...  0.301839  \n",
       "12  [1, 1, 1, 1, 1, 1, 1, 1, 1, 1, 1, 1, 1, 1, 1, ...  0.277357  \n",
       "13  [1, 1, 1, 1, 1, 1, 1, 1, 1, 1, 1, 1, 1, 1, 1, ...  0.281216  \n",
       "14  [0, 0, 0, 0, 0, 0, 0, 0, 0, 0, 0, 0, 0, 0, 0, ...  0.296094  \n",
       "15  [6, 6, 6, 6, 6, 6, 6, 6, 6, 6, 6, 6, 6, 6, 6, ...  0.278804  \n",
       "16  [14, 14, 14, 14, 14, 14, 14, 14, 14, 0, 14, 14...  0.284165  \n",
       "17  [14, 1, 1, 1, 1, 1, 1, 1, 14, 1, 14, 14, 1, 14...  0.281193  \n",
       "18  [0, 0, 0, 0, 0, 0, 0, 0, 0, 0, 0, 0, 0, 0, 0, ...  0.288659  \n",
       "19  [0, 0, 0, 0, 0, 0, 0, 0, 0, 0, 0, 0, 0, 0, 0, ...  0.294205  \n",
       "20  [0, 0, 0, 0, 0, 0, 0, 0, 0, 3, 0, 0, 0, 0, 0, ...  0.281631  \n",
       "21  [0, 0, 0, 0, 0, 0, 0, 0, 0, 0, 0, 0, 0, 0, 0, ...  0.288790  \n",
       "22  [1, 1, 1, 1, 1, 1, 1, 1, 1, 1, 1, 1, 1, 1, 1, ...  0.290187  \n",
       "23  [0, 0, 0, 0, 0, 0, 0, 0, 0, 0, 0, 0, 0, 0, 0, ...  0.288649  \n",
       "24  [22, 22, 22, 22, 22, 22, 22, 22, 22, 22, 22, 2...  0.290363  \n",
       "25  [0, 0, 0, 0, 0, 0, 0, 0, 0, 0, 0, 0, 0, 0, 0, ...  0.286868  \n",
       "26  [16, 16, 16, 16, 16, 16, 16, 16, 16, 0, 16, 16...  0.278808  \n",
       "27  [16, 16, 16, 16, 16, 16, 16, 16, 16, 3, 16, 16...  0.278319  \n",
       "28  [27, 27, 27, 27, 27, 27, 27, 27, 27, 2, 27, 27...  0.291455  \n",
       "29  [17, 17, 17, 17, 17, 17, 17, 17, 17, 17, 17, 1...  0.285723  \n",
       "30  [16, 16, 16, 16, 16, 16, 16, 16, 16, 2, 16, 16...  0.273918  \n",
       "31  [16, 16, 16, 16, 16, 16, 16, 16, 16, 0, 16, 16...  0.274203  \n",
       "32  [16, 16, 16, 16, 16, 16, 16, 16, 16, 2, 16, 16...  0.272564  \n",
       "33  [16, 16, 16, 16, 16, 16, 16, 16, 16, 0, 16, 16...  0.272561  \n",
       "34  [33, 33, 33, 33, 33, 33, 33, 33, 33, 22, 33, 3...  0.278708  \n",
       "35  [16, 16, 16, 16, 16, 16, 16, 16, 16, 15, 16, 1...  0.271502  \n",
       "36  [16, 16, 16, 16, 16, 16, 16, 16, 16, 15, 16, 1...  0.271459  \n",
       "37  [16, 16, 16, 16, 16, 16, 16, 16, 16, 15, 16, 1...  0.270785  \n",
       "38  [31, 31, 31, 31, 31, 31, 31, 31, 31, 26, 31, 3...  0.291320  \n",
       "39  [34, 34, 34, 34, 34, 34, 34, 34, 34, 1, 34, 34...  0.284021  \n",
       "40  [7, 7, 7, 7, 7, 7, 7, 7, 7, 3, 7, 7, 7, 7, 7, ...  0.273307  \n",
       "41  [39, 39, 39, 39, 39, 39, 39, 39, 39, 26, 39, 3...  0.292109  \n",
       "42  [7, 7, 7, 7, 7, 7, 7, 7, 7, 1, 7, 7, 7, 7, 7, ...  0.273417  \n",
       "43  [3, 3, 3, 3, 3, 3, 3, 3, 3, 0, 3, 3, 3, 3, 3, ...  0.273690  \n",
       "44  [29, 29, 29, 29, 29, 29, 29, 29, 29, 0, 29, 29...  0.289083  \n",
       "45  [1, 1, 1, 1, 1, 1, 1, 1, 1, 3, 1, 1, 1, 1, 1, ...  0.257624  \n",
       "46  [37, 37, 37, 37, 37, 37, 37, 37, 37, 41, 37, 3...  0.259101  \n",
       "47  [46, 46, 46, 46, 46, 46, 46, 46, 46, 1, 46, 46...  0.257991  \n",
       "48  [46, 46, 46, 46, 46, 46, 46, 46, 46, 0, 46, 46...  0.258800  \n",
       "49  [46, 46, 46, 46, 46, 46, 46, 46, 46, 11, 46, 4...  0.249941  \n",
       "50  [46, 46, 46, 46, 46, 46, 46, 46, 46, 11, 46, 4...  0.249866  \n",
       "51  [39, 39, 39, 39, 39, 39, 39, 39, 39, 45, 39, 3...  0.253083  \n",
       "52  [46, 46, 46, 46, 46, 46, 46, 46, 46, 11, 46, 4...  0.249983  \n",
       "53  [46, 46, 46, 46, 46, 46, 46, 46, 46, 11, 46, 4...  0.250516  \n",
       "54  [40, 40, 40, 40, 40, 40, 40, 40, 40, 48, 40, 4...  0.247031  \n",
       "55  [46, 46, 46, 46, 46, 46, 46, 46, 46, 11, 46, 4...  0.246162  \n",
       "56  [46, 46, 46, 46, 46, 46, 46, 46, 46, 5, 46, 46...  0.246232  \n",
       "57  [36, 36, 36, 36, 36, 36, 36, 36, 36, 29, 36, 3...  0.247812  \n",
       "58  [42, 42, 42, 42, 42, 42, 42, 42, 42, 43, 42, 4...  0.242820  \n",
       "59  [46, 46, 46, 46, 46, 46, 46, 46, 46, 28, 46, 4...  0.241324  \n",
       "60  [38, 38, 38, 38, 38, 38, 38, 38, 38, 50, 38, 3...  0.247978  "
      ]
     },
     "execution_count": 14,
     "metadata": {},
     "output_type": "execute_result"
    }
   ],
   "source": [
    "best_parts.sort_values(\"k\")"
   ]
  },
  {
   "cell_type": "markdown",
   "metadata": {
    "papermill": {
     "duration": 0.014703,
     "end_time": "2021-02-23T21:34:10.238134",
     "exception": false,
     "start_time": "2021-02-23T21:34:10.223431",
     "status": "completed"
    },
    "tags": []
   },
   "source": [
    "## Select partitions with highest agreement"
   ]
  },
  {
   "cell_type": "markdown",
   "metadata": {
    "papermill": {
     "duration": 0.01459,
     "end_time": "2021-02-23T21:34:10.267451",
     "exception": false,
     "start_time": "2021-02-23T21:34:10.252861",
     "status": "completed"
    },
    "tags": []
   },
   "source": [
    "We do not expect all partitions with different `k` to be good ones. Thus, here I select the partitions with an ensemble agreement that pass a specified threshold (median)."
   ]
  },
  {
   "cell_type": "code",
   "execution_count": 15,
   "metadata": {
    "execution": {
     "iopub.execute_input": "2021-02-23T21:34:10.300136Z",
     "iopub.status.busy": "2021-02-23T21:34:10.299772Z",
     "iopub.status.idle": "2021-02-23T21:34:10.312788Z",
     "shell.execute_reply": "2021-02-23T21:34:10.312366Z"
    },
    "papermill": {
     "duration": 0.030551,
     "end_time": "2021-02-23T21:34:10.312876",
     "exception": false,
     "start_time": "2021-02-23T21:34:10.282325",
     "status": "completed"
    },
    "tags": []
   },
   "outputs": [
    {
     "data": {
      "text/plain": [
       "count    59.000000\n",
       "mean      0.274885\n",
       "std       0.018461\n",
       "min       0.238199\n",
       "25%       0.258395\n",
       "50%       0.278319\n",
       "75%       0.288936\n",
       "max       0.301839\n",
       "Name: ami_mean, dtype: float64"
      ]
     },
     "metadata": {},
     "output_type": "display_data"
    }
   ],
   "source": [
    "best_parts_stats = best_parts[_measure_col].describe()\n",
    "display(best_parts_stats)"
   ]
  },
  {
   "cell_type": "code",
   "execution_count": 16,
   "metadata": {
    "execution": {
     "iopub.execute_input": "2021-02-23T21:34:10.347181Z",
     "iopub.status.busy": "2021-02-23T21:34:10.346809Z",
     "iopub.status.idle": "2021-02-23T21:34:10.358624Z",
     "shell.execute_reply": "2021-02-23T21:34:10.358245Z"
    },
    "papermill": {
     "duration": 0.029969,
     "end_time": "2021-02-23T21:34:10.358712",
     "exception": false,
     "start_time": "2021-02-23T21:34:10.328743",
     "status": "completed"
    },
    "tags": []
   },
   "outputs": [
    {
     "data": {
      "text/plain": [
       "0.2783188683645788"
      ]
     },
     "metadata": {},
     "output_type": "display_data"
    }
   ],
   "source": [
    "best_threshold = best_parts_stats[\"50%\"]\n",
    "best_threshold_description = \"Median\"\n",
    "display(best_threshold)\n",
    "\n",
    "best_parts = best_parts.assign(\n",
    "    selected=best_parts[_measure_col].apply(lambda x: x > best_threshold)\n",
    ")"
   ]
  },
  {
   "cell_type": "code",
   "execution_count": 17,
   "metadata": {
    "execution": {
     "iopub.execute_input": "2021-02-23T21:34:10.392830Z",
     "iopub.status.busy": "2021-02-23T21:34:10.392427Z",
     "iopub.status.idle": "2021-02-23T21:34:10.402479Z",
     "shell.execute_reply": "2021-02-23T21:34:10.402750Z"
    },
    "papermill": {
     "duration": 0.028115,
     "end_time": "2021-02-23T21:34:10.402856",
     "exception": false,
     "start_time": "2021-02-23T21:34:10.374741",
     "status": "completed"
    },
    "tags": []
   },
   "outputs": [
    {
     "data": {
      "text/plain": [
       "(59, 4)"
      ]
     },
     "execution_count": 17,
     "metadata": {},
     "output_type": "execute_result"
    }
   ],
   "source": [
    "best_parts.shape"
   ]
  },
  {
   "cell_type": "code",
   "execution_count": 18,
   "metadata": {
    "execution": {
     "iopub.execute_input": "2021-02-23T21:34:10.437225Z",
     "iopub.status.busy": "2021-02-23T21:34:10.436864Z",
     "iopub.status.idle": "2021-02-23T21:34:10.455386Z",
     "shell.execute_reply": "2021-02-23T21:34:10.455052Z"
    },
    "papermill": {
     "duration": 0.036688,
     "end_time": "2021-02-23T21:34:10.455472",
     "exception": false,
     "start_time": "2021-02-23T21:34:10.418784",
     "status": "completed"
    },
    "tags": []
   },
   "outputs": [
    {
     "data": {
      "text/html": [
       "<div>\n",
       "<style scoped>\n",
       "    .dataframe tbody tr th:only-of-type {\n",
       "        vertical-align: middle;\n",
       "    }\n",
       "\n",
       "    .dataframe tbody tr th {\n",
       "        vertical-align: top;\n",
       "    }\n",
       "\n",
       "    .dataframe thead th {\n",
       "        text-align: right;\n",
       "    }\n",
       "</style>\n",
       "<table border=\"1\" class=\"dataframe\">\n",
       "  <thead>\n",
       "    <tr style=\"text-align: right;\">\n",
       "      <th></th>\n",
       "      <th>method</th>\n",
       "      <th>partition</th>\n",
       "      <th>ami_mean</th>\n",
       "      <th>selected</th>\n",
       "    </tr>\n",
       "    <tr>\n",
       "      <th>k</th>\n",
       "      <th></th>\n",
       "      <th></th>\n",
       "      <th></th>\n",
       "      <th></th>\n",
       "    </tr>\n",
       "  </thead>\n",
       "  <tbody>\n",
       "    <tr>\n",
       "      <th>11</th>\n",
       "      <td>scc_020</td>\n",
       "      <td>[1, 1, 1, 1, 1, 1, 1, 1, 1, 1, 1, 1, 1, 1, 1, ...</td>\n",
       "      <td>0.301839</td>\n",
       "      <td>True</td>\n",
       "    </tr>\n",
       "    <tr>\n",
       "      <th>10</th>\n",
       "      <td>scc_020</td>\n",
       "      <td>[0, 0, 0, 0, 0, 0, 0, 0, 0, 0, 0, 0, 0, 0, 0, ...</td>\n",
       "      <td>0.301738</td>\n",
       "      <td>True</td>\n",
       "    </tr>\n",
       "    <tr>\n",
       "      <th>9</th>\n",
       "      <td>scc_020</td>\n",
       "      <td>[0, 0, 0, 0, 0, 0, 0, 0, 0, 0, 0, 0, 0, 0, 0, ...</td>\n",
       "      <td>0.301301</td>\n",
       "      <td>True</td>\n",
       "    </tr>\n",
       "    <tr>\n",
       "      <th>4</th>\n",
       "      <td>eac_complete_coassoc_matrix</td>\n",
       "      <td>[0, 0, 0, 0, 0, 0, 0, 0, 0, 0, 0, 0, 0, 0, 0, ...</td>\n",
       "      <td>0.300385</td>\n",
       "      <td>True</td>\n",
       "    </tr>\n",
       "    <tr>\n",
       "      <th>8</th>\n",
       "      <td>scc_020</td>\n",
       "      <td>[0, 0, 0, 0, 0, 0, 0, 0, 0, 0, 0, 0, 0, 0, 0, ...</td>\n",
       "      <td>0.300171</td>\n",
       "      <td>True</td>\n",
       "    </tr>\n",
       "  </tbody>\n",
       "</table>\n",
       "</div>"
      ],
      "text/plain": [
       "                         method  \\\n",
       "k                                 \n",
       "11                      scc_020   \n",
       "10                      scc_020   \n",
       "9                       scc_020   \n",
       "4   eac_complete_coassoc_matrix   \n",
       "8                       scc_020   \n",
       "\n",
       "                                            partition  ami_mean  selected  \n",
       "k                                                                          \n",
       "11  [1, 1, 1, 1, 1, 1, 1, 1, 1, 1, 1, 1, 1, 1, 1, ...  0.301839      True  \n",
       "10  [0, 0, 0, 0, 0, 0, 0, 0, 0, 0, 0, 0, 0, 0, 0, ...  0.301738      True  \n",
       "9   [0, 0, 0, 0, 0, 0, 0, 0, 0, 0, 0, 0, 0, 0, 0, ...  0.301301      True  \n",
       "4   [0, 0, 0, 0, 0, 0, 0, 0, 0, 0, 0, 0, 0, 0, 0, ...  0.300385      True  \n",
       "8   [0, 0, 0, 0, 0, 0, 0, 0, 0, 0, 0, 0, 0, 0, 0, ...  0.300171      True  "
      ]
     },
     "execution_count": 18,
     "metadata": {},
     "output_type": "execute_result"
    }
   ],
   "source": [
    "best_parts.head()"
   ]
  },
  {
   "cell_type": "markdown",
   "metadata": {
    "papermill": {
     "duration": 0.015354,
     "end_time": "2021-02-23T21:34:10.486824",
     "exception": false,
     "start_time": "2021-02-23T21:34:10.471470",
     "status": "completed"
    },
    "tags": []
   },
   "source": [
    "## Save best partitions per k"
   ]
  },
  {
   "cell_type": "code",
   "execution_count": 19,
   "metadata": {
    "execution": {
     "iopub.execute_input": "2021-02-23T21:34:10.521260Z",
     "iopub.status.busy": "2021-02-23T21:34:10.520899Z",
     "iopub.status.idle": "2021-02-23T21:34:10.531908Z",
     "shell.execute_reply": "2021-02-23T21:34:10.531466Z"
    },
    "papermill": {
     "duration": 0.029421,
     "end_time": "2021-02-23T21:34:10.531996",
     "exception": false,
     "start_time": "2021-02-23T21:34:10.502575",
     "status": "completed"
    },
    "tags": []
   },
   "outputs": [
    {
     "data": {
      "text/plain": [
       "PosixPath('/home/miltondp/projects/labs/greenelab/phenoplier/base3/results/clustering/consensus_clustering/best_partitions_by_k.pkl')"
      ]
     },
     "metadata": {},
     "output_type": "display_data"
    }
   ],
   "source": [
    "output_file = Path(CONSENSUS_CLUSTERING_DIR, \"best_partitions_by_k.pkl\").resolve()\n",
    "display(output_file)"
   ]
  },
  {
   "cell_type": "code",
   "execution_count": 20,
   "metadata": {
    "execution": {
     "iopub.execute_input": "2021-02-23T21:34:10.568469Z",
     "iopub.status.busy": "2021-02-23T21:34:10.568100Z",
     "iopub.status.idle": "2021-02-23T21:34:10.580447Z",
     "shell.execute_reply": "2021-02-23T21:34:10.580832Z"
    },
    "papermill": {
     "duration": 0.031836,
     "end_time": "2021-02-23T21:34:10.580950",
     "exception": false,
     "start_time": "2021-02-23T21:34:10.549114",
     "status": "completed"
    },
    "tags": []
   },
   "outputs": [],
   "source": [
    "best_parts.to_pickle(output_file)"
   ]
  },
  {
   "cell_type": "markdown",
   "metadata": {
    "papermill": {
     "duration": 0.016427,
     "end_time": "2021-02-23T21:34:10.614107",
     "exception": false,
     "start_time": "2021-02-23T21:34:10.597680",
     "status": "completed"
    },
    "tags": []
   },
   "source": [
    "# Plot of selected best partitions"
   ]
  },
  {
   "cell_type": "code",
   "execution_count": 21,
   "metadata": {
    "execution": {
     "iopub.execute_input": "2021-02-23T21:34:10.648357Z",
     "iopub.status.busy": "2021-02-23T21:34:10.647994Z",
     "iopub.status.idle": "2021-02-23T21:34:10.667052Z",
     "shell.execute_reply": "2021-02-23T21:34:10.666677Z"
    },
    "papermill": {
     "duration": 0.037144,
     "end_time": "2021-02-23T21:34:10.667140",
     "exception": false,
     "start_time": "2021-02-23T21:34:10.629996",
     "status": "completed"
    },
    "tags": []
   },
   "outputs": [
    {
     "data": {
      "text/html": [
       "<div>\n",
       "<style scoped>\n",
       "    .dataframe tbody tr th:only-of-type {\n",
       "        vertical-align: middle;\n",
       "    }\n",
       "\n",
       "    .dataframe tbody tr th {\n",
       "        vertical-align: top;\n",
       "    }\n",
       "\n",
       "    .dataframe thead th {\n",
       "        text-align: right;\n",
       "    }\n",
       "</style>\n",
       "<table border=\"1\" class=\"dataframe\">\n",
       "  <thead>\n",
       "    <tr style=\"text-align: right;\">\n",
       "      <th></th>\n",
       "      <th>k</th>\n",
       "      <th>method</th>\n",
       "      <th>partition</th>\n",
       "      <th>ami_mean</th>\n",
       "      <th>selected</th>\n",
       "    </tr>\n",
       "  </thead>\n",
       "  <tbody>\n",
       "    <tr>\n",
       "      <th>0</th>\n",
       "      <td>11</td>\n",
       "      <td>scc_020</td>\n",
       "      <td>[1, 1, 1, 1, 1, 1, 1, 1, 1, 1, 1, 1, 1, 1, 1, ...</td>\n",
       "      <td>0.301839</td>\n",
       "      <td>True</td>\n",
       "    </tr>\n",
       "    <tr>\n",
       "      <th>1</th>\n",
       "      <td>10</td>\n",
       "      <td>scc_020</td>\n",
       "      <td>[0, 0, 0, 0, 0, 0, 0, 0, 0, 0, 0, 0, 0, 0, 0, ...</td>\n",
       "      <td>0.301738</td>\n",
       "      <td>True</td>\n",
       "    </tr>\n",
       "    <tr>\n",
       "      <th>2</th>\n",
       "      <td>9</td>\n",
       "      <td>scc_020</td>\n",
       "      <td>[0, 0, 0, 0, 0, 0, 0, 0, 0, 0, 0, 0, 0, 0, 0, ...</td>\n",
       "      <td>0.301301</td>\n",
       "      <td>True</td>\n",
       "    </tr>\n",
       "    <tr>\n",
       "      <th>3</th>\n",
       "      <td>4</td>\n",
       "      <td>eac_complete_coassoc_matrix</td>\n",
       "      <td>[0, 0, 0, 0, 0, 0, 0, 0, 0, 0, 0, 0, 0, 0, 0, ...</td>\n",
       "      <td>0.300385</td>\n",
       "      <td>True</td>\n",
       "    </tr>\n",
       "    <tr>\n",
       "      <th>4</th>\n",
       "      <td>8</td>\n",
       "      <td>scc_020</td>\n",
       "      <td>[0, 0, 0, 0, 0, 0, 0, 0, 0, 0, 0, 0, 0, 0, 0, ...</td>\n",
       "      <td>0.300171</td>\n",
       "      <td>True</td>\n",
       "    </tr>\n",
       "  </tbody>\n",
       "</table>\n",
       "</div>"
      ],
      "text/plain": [
       "    k                       method  \\\n",
       "0  11                      scc_020   \n",
       "1  10                      scc_020   \n",
       "2   9                      scc_020   \n",
       "3   4  eac_complete_coassoc_matrix   \n",
       "4   8                      scc_020   \n",
       "\n",
       "                                           partition  ami_mean  selected  \n",
       "0  [1, 1, 1, 1, 1, 1, 1, 1, 1, 1, 1, 1, 1, 1, 1, ...  0.301839      True  \n",
       "1  [0, 0, 0, 0, 0, 0, 0, 0, 0, 0, 0, 0, 0, 0, 0, ...  0.301738      True  \n",
       "2  [0, 0, 0, 0, 0, 0, 0, 0, 0, 0, 0, 0, 0, 0, 0, ...  0.301301      True  \n",
       "3  [0, 0, 0, 0, 0, 0, 0, 0, 0, 0, 0, 0, 0, 0, 0, ...  0.300385      True  \n",
       "4  [0, 0, 0, 0, 0, 0, 0, 0, 0, 0, 0, 0, 0, 0, 0, ...  0.300171      True  "
      ]
     },
     "metadata": {},
     "output_type": "display_data"
    }
   ],
   "source": [
    "plot_data = best_parts.reset_index()\n",
    "display(plot_data.head(5))"
   ]
  },
  {
   "cell_type": "code",
   "execution_count": 22,
   "metadata": {
    "execution": {
     "iopub.execute_input": "2021-02-23T21:34:10.704359Z",
     "iopub.status.busy": "2021-02-23T21:34:10.703984Z",
     "iopub.status.idle": "2021-02-23T21:34:12.383129Z",
     "shell.execute_reply": "2021-02-23T21:34:12.383430Z"
    },
    "papermill": {
     "duration": 1.699418,
     "end_time": "2021-02-23T21:34:12.383536",
     "exception": false,
     "start_time": "2021-02-23T21:34:10.684118",
     "status": "completed"
    },
    "tags": []
   },
   "outputs": [
    {
     "data": {
      "image/png": "[encoded data removed]",
      "text/plain": [
       "<Figure size 864x432 with 1 Axes>"
      ]
     },
     "metadata": {},
     "output_type": "display_data"
    }
   ],
   "source": [
    "with sns.plotting_context(\"talk\", font_scale=0.75), sns.axes_style(\n",
    "    \"whitegrid\", {\"grid.linestyle\": \"--\"}\n",
    "), sns.color_palette(\"muted\"):\n",
    "    current_palette = iter(sns.color_palette())\n",
    "\n",
    "    fig, ax = plt.subplots(figsize=(12, 6))\n",
    "    ax = sns.pointplot(\n",
    "        data=plot_data, x=\"k\", y=_measure_col, color=next(current_palette)\n",
    "    )\n",
    "    ax.axhline(\n",
    "        best_threshold,\n",
    "        ls=\"--\",\n",
    "        color=next(current_palette),\n",
    "        label=best_threshold_description,\n",
    "    )\n",
    "    ax.set_ylabel(\"Agreement with ensemble\\n(Average AMI)\")\n",
    "    ax.set_xlabel(\"Number of clusters ($k$)\")\n",
    "    ax.set_xticklabels(ax.get_xticklabels(), rotation=45)\n",
    "    plt.legend()\n",
    "    plt.grid(True)\n",
    "    plt.tight_layout()"
   ]
  },
  {
   "cell_type": "markdown",
   "metadata": {
    "papermill": {
     "duration": 0.017938,
     "end_time": "2021-02-23T21:34:12.420151",
     "exception": false,
     "start_time": "2021-02-23T21:34:12.402213",
     "status": "completed"
    },
    "tags": []
   },
   "source": [
    "The horizontal line in the plot is the median of the average AMI; partitions above that line are marked as selected for downstream analysis"
   ]
  },
  {
   "cell_type": "code",
   "execution_count": 23,
   "metadata": {
    "execution": {
     "iopub.execute_input": "2021-02-23T21:34:12.458770Z",
     "iopub.status.busy": "2021-02-23T21:34:12.458405Z",
     "iopub.status.idle": "2021-02-23T21:34:12.501520Z",
     "shell.execute_reply": "2021-02-23T21:34:12.501151Z"
    },
    "papermill": {
     "duration": 0.063333,
     "end_time": "2021-02-23T21:34:12.501607",
     "exception": false,
     "start_time": "2021-02-23T21:34:12.438274",
     "status": "completed"
    },
    "tags": []
   },
   "outputs": [
    {
     "data": {
      "text/html": [
       "<div>\n",
       "<style scoped>\n",
       "    .dataframe tbody tr th:only-of-type {\n",
       "        vertical-align: middle;\n",
       "    }\n",
       "\n",
       "    .dataframe tbody tr th {\n",
       "        vertical-align: top;\n",
       "    }\n",
       "\n",
       "    .dataframe thead th {\n",
       "        text-align: right;\n",
       "    }\n",
       "</style>\n",
       "<table border=\"1\" class=\"dataframe\">\n",
       "  <thead>\n",
       "    <tr style=\"text-align: right;\">\n",
       "      <th></th>\n",
       "      <th>k</th>\n",
       "      <th>method</th>\n",
       "      <th>partition</th>\n",
       "      <th>ami_mean</th>\n",
       "      <th>selected</th>\n",
       "    </tr>\n",
       "  </thead>\n",
       "  <tbody>\n",
       "    <tr>\n",
       "      <th>3</th>\n",
       "      <td>4</td>\n",
       "      <td>eac_complete_coassoc_matrix</td>\n",
       "      <td>[0, 0, 0, 0, 0, 0, 0, 0, 0, 0, 0, 0, 0, 0, 0, ...</td>\n",
       "      <td>0.300385</td>\n",
       "      <td>True</td>\n",
       "    </tr>\n",
       "    <tr>\n",
       "      <th>6</th>\n",
       "      <td>5</td>\n",
       "      <td>eac_average_coassoc_matrix</td>\n",
       "      <td>[0, 0, 0, 0, 0, 0, 0, 0, 0, 0, 0, 0, 0, 0, 0, ...</td>\n",
       "      <td>0.298290</td>\n",
       "      <td>True</td>\n",
       "    </tr>\n",
       "    <tr>\n",
       "      <th>18</th>\n",
       "      <td>6</td>\n",
       "      <td>eac_single_coassoc_matrix</td>\n",
       "      <td>[1, 1, 1, 1, 1, 1, 1, 1, 1, 1, 1, 1, 1, 1, 1, ...</td>\n",
       "      <td>0.288252</td>\n",
       "      <td>True</td>\n",
       "    </tr>\n",
       "    <tr>\n",
       "      <th>5</th>\n",
       "      <td>7</td>\n",
       "      <td>scc_020</td>\n",
       "      <td>[0, 0, 0, 0, 0, 0, 0, 0, 0, 0, 0, 0, 0, 0, 0, ...</td>\n",
       "      <td>0.299450</td>\n",
       "      <td>True</td>\n",
       "    </tr>\n",
       "    <tr>\n",
       "      <th>4</th>\n",
       "      <td>8</td>\n",
       "      <td>scc_020</td>\n",
       "      <td>[0, 0, 0, 0, 0, 0, 0, 0, 0, 0, 0, 0, 0, 0, 0, ...</td>\n",
       "      <td>0.300171</td>\n",
       "      <td>True</td>\n",
       "    </tr>\n",
       "    <tr>\n",
       "      <th>2</th>\n",
       "      <td>9</td>\n",
       "      <td>scc_020</td>\n",
       "      <td>[0, 0, 0, 0, 0, 0, 0, 0, 0, 0, 0, 0, 0, 0, 0, ...</td>\n",
       "      <td>0.301301</td>\n",
       "      <td>True</td>\n",
       "    </tr>\n",
       "    <tr>\n",
       "      <th>1</th>\n",
       "      <td>10</td>\n",
       "      <td>scc_020</td>\n",
       "      <td>[0, 0, 0, 0, 0, 0, 0, 0, 0, 0, 0, 0, 0, 0, 0, ...</td>\n",
       "      <td>0.301738</td>\n",
       "      <td>True</td>\n",
       "    </tr>\n",
       "    <tr>\n",
       "      <th>0</th>\n",
       "      <td>11</td>\n",
       "      <td>scc_020</td>\n",
       "      <td>[1, 1, 1, 1, 1, 1, 1, 1, 1, 1, 1, 1, 1, 1, 1, ...</td>\n",
       "      <td>0.301839</td>\n",
       "      <td>True</td>\n",
       "    </tr>\n",
       "    <tr>\n",
       "      <th>24</th>\n",
       "      <td>13</td>\n",
       "      <td>eac_average_coassoc_matrix</td>\n",
       "      <td>[1, 1, 1, 1, 1, 1, 1, 1, 1, 1, 1, 1, 1, 1, 1, ...</td>\n",
       "      <td>0.281216</td>\n",
       "      <td>True</td>\n",
       "    </tr>\n",
       "    <tr>\n",
       "      <th>7</th>\n",
       "      <td>14</td>\n",
       "      <td>scc_020</td>\n",
       "      <td>[0, 0, 0, 0, 0, 0, 0, 0, 0, 0, 0, 0, 0, 0, 0, ...</td>\n",
       "      <td>0.296094</td>\n",
       "      <td>True</td>\n",
       "    </tr>\n",
       "    <tr>\n",
       "      <th>27</th>\n",
       "      <td>15</td>\n",
       "      <td>eac_average_coassoc_matrix</td>\n",
       "      <td>[6, 6, 6, 6, 6, 6, 6, 6, 6, 6, 6, 6, 6, 6, 6, ...</td>\n",
       "      <td>0.278804</td>\n",
       "      <td>True</td>\n",
       "    </tr>\n",
       "    <tr>\n",
       "      <th>21</th>\n",
       "      <td>16</td>\n",
       "      <td>scc_030</td>\n",
       "      <td>[14, 14, 14, 14, 14, 14, 14, 14, 14, 0, 14, 14...</td>\n",
       "      <td>0.284165</td>\n",
       "      <td>True</td>\n",
       "    </tr>\n",
       "    <tr>\n",
       "      <th>25</th>\n",
       "      <td>17</td>\n",
       "      <td>scc_030</td>\n",
       "      <td>[14, 1, 1, 1, 1, 1, 1, 1, 14, 1, 14, 14, 1, 14...</td>\n",
       "      <td>0.281193</td>\n",
       "      <td>True</td>\n",
       "    </tr>\n",
       "    <tr>\n",
       "      <th>16</th>\n",
       "      <td>18</td>\n",
       "      <td>scc_025</td>\n",
       "      <td>[0, 0, 0, 0, 0, 0, 0, 0, 0, 0, 0, 0, 0, 0, 0, ...</td>\n",
       "      <td>0.288659</td>\n",
       "      <td>True</td>\n",
       "    </tr>\n",
       "    <tr>\n",
       "      <th>8</th>\n",
       "      <td>19</td>\n",
       "      <td>scc_020</td>\n",
       "      <td>[0, 0, 0, 0, 0, 0, 0, 0, 0, 0, 0, 0, 0, 0, 0, ...</td>\n",
       "      <td>0.294205</td>\n",
       "      <td>True</td>\n",
       "    </tr>\n",
       "    <tr>\n",
       "      <th>23</th>\n",
       "      <td>20</td>\n",
       "      <td>eac_average_coassoc_matrix</td>\n",
       "      <td>[0, 0, 0, 0, 0, 0, 0, 0, 0, 3, 0, 0, 0, 0, 0, ...</td>\n",
       "      <td>0.281631</td>\n",
       "      <td>True</td>\n",
       "    </tr>\n",
       "    <tr>\n",
       "      <th>15</th>\n",
       "      <td>21</td>\n",
       "      <td>scc_025</td>\n",
       "      <td>[0, 0, 0, 0, 0, 0, 0, 0, 0, 0, 0, 0, 0, 0, 0, ...</td>\n",
       "      <td>0.288790</td>\n",
       "      <td>True</td>\n",
       "    </tr>\n",
       "    <tr>\n",
       "      <th>13</th>\n",
       "      <td>22</td>\n",
       "      <td>scc_025</td>\n",
       "      <td>[1, 1, 1, 1, 1, 1, 1, 1, 1, 1, 1, 1, 1, 1, 1, ...</td>\n",
       "      <td>0.290187</td>\n",
       "      <td>True</td>\n",
       "    </tr>\n",
       "    <tr>\n",
       "      <th>17</th>\n",
       "      <td>23</td>\n",
       "      <td>scc_025</td>\n",
       "      <td>[0, 0, 0, 0, 0, 0, 0, 0, 0, 0, 0, 0, 0, 0, 0, ...</td>\n",
       "      <td>0.288649</td>\n",
       "      <td>True</td>\n",
       "    </tr>\n",
       "    <tr>\n",
       "      <th>12</th>\n",
       "      <td>24</td>\n",
       "      <td>scc_025</td>\n",
       "      <td>[22, 22, 22, 22, 22, 22, 22, 22, 22, 22, 22, 2...</td>\n",
       "      <td>0.290363</td>\n",
       "      <td>True</td>\n",
       "    </tr>\n",
       "    <tr>\n",
       "      <th>19</th>\n",
       "      <td>25</td>\n",
       "      <td>scc_025</td>\n",
       "      <td>[0, 0, 0, 0, 0, 0, 0, 0, 0, 0, 0, 0, 0, 0, 0, ...</td>\n",
       "      <td>0.286868</td>\n",
       "      <td>True</td>\n",
       "    </tr>\n",
       "    <tr>\n",
       "      <th>26</th>\n",
       "      <td>26</td>\n",
       "      <td>eac_average_coassoc_matrix</td>\n",
       "      <td>[16, 16, 16, 16, 16, 16, 16, 16, 16, 0, 16, 16...</td>\n",
       "      <td>0.278808</td>\n",
       "      <td>True</td>\n",
       "    </tr>\n",
       "    <tr>\n",
       "      <th>10</th>\n",
       "      <td>28</td>\n",
       "      <td>scc_025</td>\n",
       "      <td>[27, 27, 27, 27, 27, 27, 27, 27, 27, 2, 27, 27...</td>\n",
       "      <td>0.291455</td>\n",
       "      <td>True</td>\n",
       "    </tr>\n",
       "    <tr>\n",
       "      <th>20</th>\n",
       "      <td>29</td>\n",
       "      <td>scc_025</td>\n",
       "      <td>[17, 17, 17, 17, 17, 17, 17, 17, 17, 17, 17, 1...</td>\n",
       "      <td>0.285723</td>\n",
       "      <td>True</td>\n",
       "    </tr>\n",
       "    <tr>\n",
       "      <th>28</th>\n",
       "      <td>34</td>\n",
       "      <td>scc_025</td>\n",
       "      <td>[33, 33, 33, 33, 33, 33, 33, 33, 33, 22, 33, 3...</td>\n",
       "      <td>0.278708</td>\n",
       "      <td>True</td>\n",
       "    </tr>\n",
       "    <tr>\n",
       "      <th>11</th>\n",
       "      <td>38</td>\n",
       "      <td>scc_020</td>\n",
       "      <td>[31, 31, 31, 31, 31, 31, 31, 31, 31, 26, 31, 3...</td>\n",
       "      <td>0.291320</td>\n",
       "      <td>True</td>\n",
       "    </tr>\n",
       "    <tr>\n",
       "      <th>22</th>\n",
       "      <td>39</td>\n",
       "      <td>scc_020</td>\n",
       "      <td>[34, 34, 34, 34, 34, 34, 34, 34, 34, 1, 34, 34...</td>\n",
       "      <td>0.284021</td>\n",
       "      <td>True</td>\n",
       "    </tr>\n",
       "    <tr>\n",
       "      <th>9</th>\n",
       "      <td>41</td>\n",
       "      <td>scc_020</td>\n",
       "      <td>[39, 39, 39, 39, 39, 39, 39, 39, 39, 26, 39, 3...</td>\n",
       "      <td>0.292109</td>\n",
       "      <td>True</td>\n",
       "    </tr>\n",
       "    <tr>\n",
       "      <th>14</th>\n",
       "      <td>44</td>\n",
       "      <td>scc_020</td>\n",
       "      <td>[29, 29, 29, 29, 29, 29, 29, 29, 29, 0, 29, 29...</td>\n",
       "      <td>0.289083</td>\n",
       "      <td>True</td>\n",
       "    </tr>\n",
       "  </tbody>\n",
       "</table>\n",
       "</div>"
      ],
      "text/plain": [
       "     k                       method  \\\n",
       "3    4  eac_complete_coassoc_matrix   \n",
       "6    5   eac_average_coassoc_matrix   \n",
       "18   6    eac_single_coassoc_matrix   \n",
       "5    7                      scc_020   \n",
       "4    8                      scc_020   \n",
       "2    9                      scc_020   \n",
       "1   10                      scc_020   \n",
       "0   11                      scc_020   \n",
       "24  13   eac_average_coassoc_matrix   \n",
       "7   14                      scc_020   \n",
       "27  15   eac_average_coassoc_matrix   \n",
       "21  16                      scc_030   \n",
       "25  17                      scc_030   \n",
       "16  18                      scc_025   \n",
       "8   19                      scc_020   \n",
       "23  20   eac_average_coassoc_matrix   \n",
       "15  21                      scc_025   \n",
       "13  22                      scc_025   \n",
       "17  23                      scc_025   \n",
       "12  24                      scc_025   \n",
       "19  25                      scc_025   \n",
       "26  26   eac_average_coassoc_matrix   \n",
       "10  28                      scc_025   \n",
       "20  29                      scc_025   \n",
       "28  34                      scc_025   \n",
       "11  38                      scc_020   \n",
       "22  39                      scc_020   \n",
       "9   41                      scc_020   \n",
       "14  44                      scc_020   \n",
       "\n",
       "                                            partition  ami_mean  selected  \n",
       "3   [0, 0, 0, 0, 0, 0, 0, 0, 0, 0, 0, 0, 0, 0, 0, ...  0.300385      True  \n",
       "6   [0, 0, 0, 0, 0, 0, 0, 0, 0, 0, 0, 0, 0, 0, 0, ...  0.298290      True  \n",
       "18  [1, 1, 1, 1, 1, 1, 1, 1, 1, 1, 1, 1, 1, 1, 1, ...  0.288252      True  \n",
       "5   [0, 0, 0, 0, 0, 0, 0, 0, 0, 0, 0, 0, 0, 0, 0, ...  0.299450      True  \n",
       "4   [0, 0, 0, 0, 0, 0, 0, 0, 0, 0, 0, 0, 0, 0, 0, ...  0.300171      True  \n",
       "2   [0, 0, 0, 0, 0, 0, 0, 0, 0, 0, 0, 0, 0, 0, 0, ...  0.301301      True  \n",
       "1   [0, 0, 0, 0, 0, 0, 0, 0, 0, 0, 0, 0, 0, 0, 0, ...  0.301738      True  \n",
       "0   [1, 1, 1, 1, 1, 1, 1, 1, 1, 1, 1, 1, 1, 1, 1, ...  0.301839      True  \n",
       "24  [1, 1, 1, 1, 1, 1, 1, 1, 1, 1, 1, 1, 1, 1, 1, ...  0.281216      True  \n",
       "7   [0, 0, 0, 0, 0, 0, 0, 0, 0, 0, 0, 0, 0, 0, 0, ...  0.296094      True  \n",
       "27  [6, 6, 6, 6, 6, 6, 6, 6, 6, 6, 6, 6, 6, 6, 6, ...  0.278804      True  \n",
       "21  [14, 14, 14, 14, 14, 14, 14, 14, 14, 0, 14, 14...  0.284165      True  \n",
       "25  [14, 1, 1, 1, 1, 1, 1, 1, 14, 1, 14, 14, 1, 14...  0.281193      True  \n",
       "16  [0, 0, 0, 0, 0, 0, 0, 0, 0, 0, 0, 0, 0, 0, 0, ...  0.288659      True  \n",
       "8   [0, 0, 0, 0, 0, 0, 0, 0, 0, 0, 0, 0, 0, 0, 0, ...  0.294205      True  \n",
       "23  [0, 0, 0, 0, 0, 0, 0, 0, 0, 3, 0, 0, 0, 0, 0, ...  0.281631      True  \n",
       "15  [0, 0, 0, 0, 0, 0, 0, 0, 0, 0, 0, 0, 0, 0, 0, ...  0.288790      True  \n",
       "13  [1, 1, 1, 1, 1, 1, 1, 1, 1, 1, 1, 1, 1, 1, 1, ...  0.290187      True  \n",
       "17  [0, 0, 0, 0, 0, 0, 0, 0, 0, 0, 0, 0, 0, 0, 0, ...  0.288649      True  \n",
       "12  [22, 22, 22, 22, 22, 22, 22, 22, 22, 22, 22, 2...  0.290363      True  \n",
       "19  [0, 0, 0, 0, 0, 0, 0, 0, 0, 0, 0, 0, 0, 0, 0, ...  0.286868      True  \n",
       "26  [16, 16, 16, 16, 16, 16, 16, 16, 16, 0, 16, 16...  0.278808      True  \n",
       "10  [27, 27, 27, 27, 27, 27, 27, 27, 27, 2, 27, 27...  0.291455      True  \n",
       "20  [17, 17, 17, 17, 17, 17, 17, 17, 17, 17, 17, 1...  0.285723      True  \n",
       "28  [33, 33, 33, 33, 33, 33, 33, 33, 33, 22, 33, 3...  0.278708      True  \n",
       "11  [31, 31, 31, 31, 31, 31, 31, 31, 31, 26, 31, 3...  0.291320      True  \n",
       "22  [34, 34, 34, 34, 34, 34, 34, 34, 34, 1, 34, 34...  0.284021      True  \n",
       "9   [39, 39, 39, 39, 39, 39, 39, 39, 39, 26, 39, 3...  0.292109      True  \n",
       "14  [29, 29, 29, 29, 29, 29, 29, 29, 29, 0, 29, 29...  0.289083      True  "
      ]
     },
     "execution_count": 23,
     "metadata": {},
     "output_type": "execute_result"
    }
   ],
   "source": [
    "# this list shows the selected final partitions, and which methods achieved the highest agreement\n",
    "plot_data[plot_data[\"selected\"]].sort_values(\"k\")"
   ]
  },
  {
   "cell_type": "markdown",
   "metadata": {
    "papermill": {
     "duration": 0.028379,
     "end_time": "2021-02-23T21:34:12.549029",
     "exception": false,
     "start_time": "2021-02-23T21:34:12.520650",
     "status": "completed"
    },
    "tags": []
   },
   "source": [
    "Evidence accumulation approaches (EAC) based on hierarchical clustering (such as `eac_average_coassoc_matrix` and `eac_single_coassoc_matrix`) pick the best partitions for lower `k` values, whereas spectral clustering does it better for all the rest."
   ]
  },
  {
   "cell_type": "code",
   "execution_count": null,
   "metadata": {
    "papermill": {
     "duration": 0.01864,
     "end_time": "2021-02-23T21:34:12.586359",
     "exception": false,
     "start_time": "2021-02-23T21:34:12.567719",
     "status": "completed"
    },
    "tags": []
   },
   "outputs": [],
   "source": []
  }
 ],
 "metadata": {
  "jupytext": {
   "cell_metadata_filter": "all,-execution,-papermill,-trusted",
   "formats": "ipynb,py//py:percent"
  },
  "kernelspec": {
   "display_name": "Python 3",
   "language": "python",
   "name": "python3"
  },
  "language_info": {
   "codemirror_mode": {
    "name": "ipython",
    "version": 3
   },
   "file_extension": ".py",
   "mimetype": "text/x-python",
   "name": "python",
   "nbconvert_exporter": "python",
   "pygments_lexer": "ipython3",
   "version": "3.8.6"
  },
  "papermill": {
   "default_parameters": {},
   "duration": 6.916455,
   "end_time": "2021-02-23T21:34:13.012799",
   "environment_variables": {},
   "exception": null,
   "input_path": "16_consensus_clustering/030_01-get_best_partitions.ipynb",
   "output_path": "16_consensus_clustering/030_01-get_best_partitions.run.ipynb",
   "parameters": {},
   "start_time": "2021-02-23T21:34:06.096344",
   "version": "2.2.2"
  },
  "toc-autonumbering": true,
  "toc-showcode": false,
  "toc-showmarkdowntxt": false,
  "toc-showtags": false
 },
 "nbformat": 4,
 "nbformat_minor": 4
}
