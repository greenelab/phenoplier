{
 "cells": [
  {
   "cell_type": "markdown",
   "metadata": {
    "papermill": {
     "duration": 0.039291,
     "end_time": "2021-02-24T15:06:00.118172",
     "exception": false,
     "start_time": "2021-02-24T15:06:00.078881",
     "status": "completed"
    },
    "tags": []
   },
   "source": [
    "# Description"
   ]
  },
  {
   "cell_type": "markdown",
   "metadata": {
    "papermill": {
     "duration": 0.010186,
     "end_time": "2021-02-24T15:06:00.143315",
     "exception": false,
     "start_time": "2021-02-24T15:06:00.133129",
     "status": "completed"
    },
    "tags": []
   },
   "source": [
    "It analyzes how consensus partitions generated before agree with the ensemble, and selects the best ones for downstream analyses."
   ]
  },
  {
   "cell_type": "markdown",
   "metadata": {
    "papermill": {
     "duration": 0.010274,
     "end_time": "2021-02-24T15:06:00.163079",
     "exception": false,
     "start_time": "2021-02-24T15:06:00.152805",
     "status": "completed"
    },
    "tags": []
   },
   "source": [
    "# Modules loading"
   ]
  },
  {
   "cell_type": "code",
   "execution_count": 1,
   "metadata": {
    "execution": {
     "iopub.execute_input": "2021-02-24T15:06:00.185759Z",
     "iopub.status.busy": "2021-02-24T15:06:00.185373Z",
     "iopub.status.idle": "2021-02-24T15:06:00.192547Z",
     "shell.execute_reply": "2021-02-24T15:06:00.192907Z"
    },
    "papermill": {
     "duration": 0.020248,
     "end_time": "2021-02-24T15:06:00.193092",
     "exception": false,
     "start_time": "2021-02-24T15:06:00.172844",
     "status": "completed"
    },
    "tags": []
   },
   "outputs": [],
   "source": [
    "%load_ext autoreload\n",
    "%autoreload 2"
   ]
  },
  {
   "cell_type": "code",
   "execution_count": 2,
   "metadata": {
    "execution": {
     "iopub.execute_input": "2021-02-24T15:06:00.215381Z",
     "iopub.status.busy": "2021-02-24T15:06:00.215008Z",
     "iopub.status.idle": "2021-02-24T15:06:00.737755Z",
     "shell.execute_reply": "2021-02-24T15:06:00.738043Z"
    },
    "papermill": {
     "duration": 0.534933,
     "end_time": "2021-02-24T15:06:00.738153",
     "exception": false,
     "start_time": "2021-02-24T15:06:00.203220",
     "status": "completed"
    },
    "tags": []
   },
   "outputs": [],
   "source": [
    "from pathlib import Path\n",
    "from IPython.display import display\n",
    "\n",
    "import pandas as pd\n",
    "import matplotlib.pyplot as plt\n",
    "import seaborn as sns\n",
    "\n",
    "import conf"
   ]
  },
  {
   "cell_type": "markdown",
   "metadata": {
    "papermill": {
     "duration": 0.009553,
     "end_time": "2021-02-24T15:06:00.757662",
     "exception": false,
     "start_time": "2021-02-24T15:06:00.748109",
     "status": "completed"
    },
    "tags": []
   },
   "source": [
    "# Load consensus clustering results"
   ]
  },
  {
   "cell_type": "code",
   "execution_count": 3,
   "metadata": {
    "execution": {
     "iopub.execute_input": "2021-02-24T15:06:00.779349Z",
     "iopub.status.busy": "2021-02-24T15:06:00.778973Z",
     "iopub.status.idle": "2021-02-24T15:06:00.790496Z",
     "shell.execute_reply": "2021-02-24T15:06:00.790795Z"
    },
    "papermill": {
     "duration": 0.023776,
     "end_time": "2021-02-24T15:06:00.790900",
     "exception": false,
     "start_time": "2021-02-24T15:06:00.767124",
     "status": "completed"
    },
    "tags": []
   },
   "outputs": [
    {
     "data": {
      "text/plain": [
       "PosixPath('/home/miltondp/projects/labs/greenelab/phenoplier/base3/results/clustering/consensus_clustering')"
      ]
     },
     "metadata": {},
     "output_type": "display_data"
    }
   ],
   "source": [
    "CONSENSUS_CLUSTERING_DIR = Path(\n",
    "    conf.RESULTS[\"CLUSTERING_DIR\"], \"consensus_clustering\"\n",
    ").resolve()\n",
    "\n",
    "display(CONSENSUS_CLUSTERING_DIR)"
   ]
  },
  {
   "cell_type": "code",
   "execution_count": 4,
   "metadata": {
    "execution": {
     "iopub.execute_input": "2021-02-24T15:06:00.813674Z",
     "iopub.status.busy": "2021-02-24T15:06:00.813296Z",
     "iopub.status.idle": "2021-02-24T15:06:00.824001Z",
     "shell.execute_reply": "2021-02-24T15:06:00.823634Z"
    },
    "papermill": {
     "duration": 0.022914,
     "end_time": "2021-02-24T15:06:00.824087",
     "exception": false,
     "start_time": "2021-02-24T15:06:00.801173",
     "status": "completed"
    },
    "tags": []
   },
   "outputs": [
    {
     "data": {
      "text/plain": [
       "PosixPath('/home/miltondp/projects/labs/greenelab/phenoplier/base3/results/clustering/consensus_clustering/consensus_clustering_runs.pkl')"
      ]
     },
     "metadata": {},
     "output_type": "display_data"
    }
   ],
   "source": [
    "input_file = Path(CONSENSUS_CLUSTERING_DIR, \"consensus_clustering_runs.pkl\").resolve()\n",
    "display(input_file)"
   ]
  },
  {
   "cell_type": "code",
   "execution_count": 5,
   "metadata": {
    "execution": {
     "iopub.execute_input": "2021-02-24T15:06:00.847721Z",
     "iopub.status.busy": "2021-02-24T15:06:00.847363Z",
     "iopub.status.idle": "2021-02-24T15:06:00.897754Z",
     "shell.execute_reply": "2021-02-24T15:06:00.897295Z"
    },
    "papermill": {
     "duration": 0.063194,
     "end_time": "2021-02-24T15:06:00.897869",
     "exception": false,
     "start_time": "2021-02-24T15:06:00.834675",
     "status": "completed"
    },
    "tags": []
   },
   "outputs": [],
   "source": [
    "consensus_clustering_results = pd.read_pickle(input_file)"
   ]
  },
  {
   "cell_type": "code",
   "execution_count": 6,
   "metadata": {
    "execution": {
     "iopub.execute_input": "2021-02-24T15:06:00.927695Z",
     "iopub.status.busy": "2021-02-24T15:06:00.927228Z",
     "iopub.status.idle": "2021-02-24T15:06:00.939785Z",
     "shell.execute_reply": "2021-02-24T15:06:00.939314Z"
    },
    "papermill": {
     "duration": 0.028183,
     "end_time": "2021-02-24T15:06:00.939895",
     "exception": false,
     "start_time": "2021-02-24T15:06:00.911712",
     "status": "completed"
    },
    "tags": []
   },
   "outputs": [
    {
     "data": {
      "text/plain": [
       "(413, 12)"
      ]
     },
     "execution_count": 6,
     "metadata": {},
     "output_type": "execute_result"
    }
   ],
   "source": [
    "consensus_clustering_results.shape"
   ]
  },
  {
   "cell_type": "code",
   "execution_count": 7,
   "metadata": {
    "execution": {
     "iopub.execute_input": "2021-02-24T15:06:00.967646Z",
     "iopub.status.busy": "2021-02-24T15:06:00.967268Z",
     "iopub.status.idle": "2021-02-24T15:06:00.992060Z",
     "shell.execute_reply": "2021-02-24T15:06:00.991749Z"
    },
    "papermill": {
     "duration": 0.038545,
     "end_time": "2021-02-24T15:06:00.992150",
     "exception": false,
     "start_time": "2021-02-24T15:06:00.953605",
     "status": "completed"
    },
    "tags": []
   },
   "outputs": [
    {
     "data": {
      "text/html": [
       "<div>\n",
       "<style scoped>\n",
       "    .dataframe tbody tr th:only-of-type {\n",
       "        vertical-align: middle;\n",
       "    }\n",
       "\n",
       "    .dataframe tbody tr th {\n",
       "        vertical-align: top;\n",
       "    }\n",
       "\n",
       "    .dataframe thead th {\n",
       "        text-align: right;\n",
       "    }\n",
       "</style>\n",
       "<table border=\"1\" class=\"dataframe\">\n",
       "  <thead>\n",
       "    <tr style=\"text-align: right;\">\n",
       "      <th></th>\n",
       "      <th>method</th>\n",
       "      <th>partition</th>\n",
       "      <th>k</th>\n",
       "      <th>ari_mean</th>\n",
       "      <th>ari_median</th>\n",
       "      <th>ari_std</th>\n",
       "      <th>ami_mean</th>\n",
       "      <th>ami_median</th>\n",
       "      <th>ami_std</th>\n",
       "      <th>nmi_mean</th>\n",
       "      <th>nmi_median</th>\n",
       "      <th>nmi_std</th>\n",
       "    </tr>\n",
       "  </thead>\n",
       "  <tbody>\n",
       "    <tr>\n",
       "      <th>0</th>\n",
       "      <td>scc_050</td>\n",
       "      <td>[0, 0, 0, 0, 0, 0, 0, 0, 0, 0, 0, 0, 0, 0, 0, ...</td>\n",
       "      <td>2</td>\n",
       "      <td>0.163591</td>\n",
       "      <td>0.087346</td>\n",
       "      <td>0.207059</td>\n",
       "      <td>0.198572</td>\n",
       "      <td>0.168315</td>\n",
       "      <td>0.129355</td>\n",
       "      <td>0.201697</td>\n",
       "      <td>0.172070</td>\n",
       "      <td>0.129167</td>\n",
       "    </tr>\n",
       "    <tr>\n",
       "      <th>1</th>\n",
       "      <td>scc_050</td>\n",
       "      <td>[0, 0, 0, 0, 0, 0, 0, 0, 0, 0, 0, 0, 0, 0, 0, ...</td>\n",
       "      <td>3</td>\n",
       "      <td>0.169278</td>\n",
       "      <td>0.091581</td>\n",
       "      <td>0.209279</td>\n",
       "      <td>0.246141</td>\n",
       "      <td>0.224754</td>\n",
       "      <td>0.130349</td>\n",
       "      <td>0.250372</td>\n",
       "      <td>0.229236</td>\n",
       "      <td>0.129935</td>\n",
       "    </tr>\n",
       "    <tr>\n",
       "      <th>2</th>\n",
       "      <td>scc_050</td>\n",
       "      <td>[2, 2, 2, 0, 2, 0, 0, 2, 2, 0, 2, 2, 0, 2, 2, ...</td>\n",
       "      <td>4</td>\n",
       "      <td>0.155084</td>\n",
       "      <td>0.081946</td>\n",
       "      <td>0.187311</td>\n",
       "      <td>0.248798</td>\n",
       "      <td>0.211920</td>\n",
       "      <td>0.132093</td>\n",
       "      <td>0.254340</td>\n",
       "      <td>0.219736</td>\n",
       "      <td>0.131708</td>\n",
       "    </tr>\n",
       "    <tr>\n",
       "      <th>3</th>\n",
       "      <td>scc_050</td>\n",
       "      <td>[4, 4, 4, 3, 4, 3, 3, 3, 4, 3, 4, 4, 3, 4, 3, ...</td>\n",
       "      <td>5</td>\n",
       "      <td>0.095293</td>\n",
       "      <td>0.063234</td>\n",
       "      <td>0.087100</td>\n",
       "      <td>0.214761</td>\n",
       "      <td>0.221643</td>\n",
       "      <td>0.105779</td>\n",
       "      <td>0.221310</td>\n",
       "      <td>0.230079</td>\n",
       "      <td>0.105815</td>\n",
       "    </tr>\n",
       "    <tr>\n",
       "      <th>4</th>\n",
       "      <td>scc_050</td>\n",
       "      <td>[0, 0, 0, 0, 0, 0, 0, 0, 0, 1, 0, 0, 5, 0, 0, ...</td>\n",
       "      <td>6</td>\n",
       "      <td>0.098073</td>\n",
       "      <td>0.063326</td>\n",
       "      <td>0.092029</td>\n",
       "      <td>0.224145</td>\n",
       "      <td>0.232867</td>\n",
       "      <td>0.115376</td>\n",
       "      <td>0.231692</td>\n",
       "      <td>0.241950</td>\n",
       "      <td>0.115587</td>\n",
       "    </tr>\n",
       "  </tbody>\n",
       "</table>\n",
       "</div>"
      ],
      "text/plain": [
       "    method                                          partition  k  ari_mean  \\\n",
       "0  scc_050  [0, 0, 0, 0, 0, 0, 0, 0, 0, 0, 0, 0, 0, 0, 0, ...  2  0.163591   \n",
       "1  scc_050  [0, 0, 0, 0, 0, 0, 0, 0, 0, 0, 0, 0, 0, 0, 0, ...  3  0.169278   \n",
       "2  scc_050  [2, 2, 2, 0, 2, 0, 0, 2, 2, 0, 2, 2, 0, 2, 2, ...  4  0.155084   \n",
       "3  scc_050  [4, 4, 4, 3, 4, 3, 3, 3, 4, 3, 4, 4, 3, 4, 3, ...  5  0.095293   \n",
       "4  scc_050  [0, 0, 0, 0, 0, 0, 0, 0, 0, 1, 0, 0, 5, 0, 0, ...  6  0.098073   \n",
       "\n",
       "   ari_median   ari_std  ami_mean  ami_median   ami_std  nmi_mean  nmi_median  \\\n",
       "0    0.087346  0.207059  0.198572    0.168315  0.129355  0.201697    0.172070   \n",
       "1    0.091581  0.209279  0.246141    0.224754  0.130349  0.250372    0.229236   \n",
       "2    0.081946  0.187311  0.248798    0.211920  0.132093  0.254340    0.219736   \n",
       "3    0.063234  0.087100  0.214761    0.221643  0.105779  0.221310    0.230079   \n",
       "4    0.063326  0.092029  0.224145    0.232867  0.115376  0.231692    0.241950   \n",
       "\n",
       "    nmi_std  \n",
       "0  0.129167  \n",
       "1  0.129935  \n",
       "2  0.131708  \n",
       "3  0.105815  \n",
       "4  0.115587  "
      ]
     },
     "execution_count": 7,
     "metadata": {},
     "output_type": "execute_result"
    }
   ],
   "source": [
    "consensus_clustering_results.head()"
   ]
  },
  {
   "cell_type": "markdown",
   "metadata": {
    "papermill": {
     "duration": 0.010796,
     "end_time": "2021-02-24T15:06:01.014217",
     "exception": false,
     "start_time": "2021-02-24T15:06:01.003421",
     "status": "completed"
    },
    "tags": []
   },
   "source": [
    "# Explore best partition per k"
   ]
  },
  {
   "cell_type": "code",
   "execution_count": 8,
   "metadata": {
    "execution": {
     "iopub.execute_input": "2021-02-24T15:06:01.038858Z",
     "iopub.status.busy": "2021-02-24T15:06:01.038471Z",
     "iopub.status.idle": "2021-02-24T15:06:01.094749Z",
     "shell.execute_reply": "2021-02-24T15:06:01.094374Z"
    },
    "papermill": {
     "duration": 0.069831,
     "end_time": "2021-02-24T15:06:01.094838",
     "exception": false,
     "start_time": "2021-02-24T15:06:01.025007",
     "status": "completed"
    },
    "tags": []
   },
   "outputs": [
    {
     "data": {
      "text/html": [
       "<div>\n",
       "<style scoped>\n",
       "    .dataframe tbody tr th:only-of-type {\n",
       "        vertical-align: middle;\n",
       "    }\n",
       "\n",
       "    .dataframe tbody tr th {\n",
       "        vertical-align: top;\n",
       "    }\n",
       "\n",
       "    .dataframe thead th {\n",
       "        text-align: right;\n",
       "    }\n",
       "</style>\n",
       "<table border=\"1\" class=\"dataframe\">\n",
       "  <thead>\n",
       "    <tr style=\"text-align: right;\">\n",
       "      <th></th>\n",
       "      <th></th>\n",
       "      <th>method</th>\n",
       "      <th>k</th>\n",
       "      <th>ami_mean</th>\n",
       "      <th>ami_median</th>\n",
       "    </tr>\n",
       "    <tr>\n",
       "      <th>k</th>\n",
       "      <th></th>\n",
       "      <th></th>\n",
       "      <th></th>\n",
       "      <th></th>\n",
       "      <th></th>\n",
       "    </tr>\n",
       "  </thead>\n",
       "  <tbody>\n",
       "    <tr>\n",
       "      <th>11</th>\n",
       "      <th>127</th>\n",
       "      <td>scc_020</td>\n",
       "      <td>11</td>\n",
       "      <td>0.301839</td>\n",
       "      <td>0.135627</td>\n",
       "    </tr>\n",
       "    <tr>\n",
       "      <th>10</th>\n",
       "      <th>126</th>\n",
       "      <td>scc_020</td>\n",
       "      <td>10</td>\n",
       "      <td>0.301738</td>\n",
       "      <td>0.134414</td>\n",
       "    </tr>\n",
       "    <tr>\n",
       "      <th>9</th>\n",
       "      <th>125</th>\n",
       "      <td>scc_020</td>\n",
       "      <td>9</td>\n",
       "      <td>0.301301</td>\n",
       "      <td>0.133726</td>\n",
       "    </tr>\n",
       "    <tr>\n",
       "      <th>4</th>\n",
       "      <th>61</th>\n",
       "      <td>eac_complete_coassoc_matrix</td>\n",
       "      <td>4</td>\n",
       "      <td>0.300385</td>\n",
       "      <td>0.129403</td>\n",
       "    </tr>\n",
       "    <tr>\n",
       "      <th>8</th>\n",
       "      <th>124</th>\n",
       "      <td>scc_020</td>\n",
       "      <td>8</td>\n",
       "      <td>0.300171</td>\n",
       "      <td>0.133273</td>\n",
       "    </tr>\n",
       "    <tr>\n",
       "      <th>7</th>\n",
       "      <th>123</th>\n",
       "      <td>scc_020</td>\n",
       "      <td>7</td>\n",
       "      <td>0.299450</td>\n",
       "      <td>0.131443</td>\n",
       "    </tr>\n",
       "    <tr>\n",
       "      <th>5</th>\n",
       "      <th>239</th>\n",
       "      <td>eac_average_coassoc_matrix</td>\n",
       "      <td>5</td>\n",
       "      <td>0.298290</td>\n",
       "      <td>0.132804</td>\n",
       "    </tr>\n",
       "    <tr>\n",
       "      <th>14</th>\n",
       "      <th>130</th>\n",
       "      <td>scc_020</td>\n",
       "      <td>14</td>\n",
       "      <td>0.296094</td>\n",
       "      <td>0.150045</td>\n",
       "    </tr>\n",
       "    <tr>\n",
       "      <th>38</th>\n",
       "      <th>154</th>\n",
       "      <td>scc_020</td>\n",
       "      <td>38</td>\n",
       "      <td>0.292446</td>\n",
       "      <td>0.283983</td>\n",
       "    </tr>\n",
       "    <tr>\n",
       "      <th>41</th>\n",
       "      <th>157</th>\n",
       "      <td>scc_020</td>\n",
       "      <td>41</td>\n",
       "      <td>0.290730</td>\n",
       "      <td>0.287576</td>\n",
       "    </tr>\n",
       "  </tbody>\n",
       "</table>\n",
       "</div>"
      ],
      "text/plain": [
       "                             method   k  ami_mean  ami_median\n",
       "k                                                            \n",
       "11 127                      scc_020  11  0.301839    0.135627\n",
       "10 126                      scc_020  10  0.301738    0.134414\n",
       "9  125                      scc_020   9  0.301301    0.133726\n",
       "4  61   eac_complete_coassoc_matrix   4  0.300385    0.129403\n",
       "8  124                      scc_020   8  0.300171    0.133273\n",
       "7  123                      scc_020   7  0.299450    0.131443\n",
       "5  239   eac_average_coassoc_matrix   5  0.298290    0.132804\n",
       "14 130                      scc_020  14  0.296094    0.150045\n",
       "38 154                      scc_020  38  0.292446    0.283983\n",
       "41 157                      scc_020  41  0.290730    0.287576"
      ]
     },
     "metadata": {},
     "output_type": "display_data"
    }
   ],
   "source": [
    "_col0, _col1 = \"ami_mean\", \"ami_median\"\n",
    "\n",
    "_tmp = (\n",
    "    consensus_clustering_results.groupby(\"k\")\n",
    "    .apply(lambda x: x.sort_values(_col0, ascending=False).head(1))\n",
    "    .sort_values(_col0, ascending=False)[[\"method\", \"k\", _col0, _col1]]\n",
    ")\n",
    "display(_tmp.head(10))"
   ]
  },
  {
   "cell_type": "code",
   "execution_count": 9,
   "metadata": {
    "execution": {
     "iopub.execute_input": "2021-02-24T15:06:01.121435Z",
     "iopub.status.busy": "2021-02-24T15:06:01.121058Z",
     "iopub.status.idle": "2021-02-24T15:06:02.996127Z",
     "shell.execute_reply": "2021-02-24T15:06:02.996429Z"
    },
    "papermill": {
     "duration": 1.890244,
     "end_time": "2021-02-24T15:06:02.996534",
     "exception": false,
     "start_time": "2021-02-24T15:06:01.106290",
     "status": "completed"
    },
    "tags": []
   },
   "outputs": [
    {
     "data": {
      "image/png": "[encoded data removed]",
      "text/plain": [
       "<Figure size 864x432 with 1 Axes>"
      ]
     },
     "metadata": {},
     "output_type": "display_data"
    }
   ],
   "source": [
    "with sns.plotting_context(\"talk\", font_scale=0.75), sns.axes_style(\n",
    "    \"whitegrid\", {\"grid.linestyle\": \"--\"}\n",
    "):\n",
    "    fig, ax = plt.subplots(figsize=(12, 6))\n",
    "    ax = sns.pointplot(data=_tmp, x=\"k\", y=_col0, ci=None, label=\"One\")\n",
    "    ax = sns.pointplot(\n",
    "        data=_tmp, x=\"k\", y=_col1, ci=None, color=\"red\", label=\"Two\", ax=ax\n",
    "    )\n",
    "    ax.set_ylabel(\"Agreement with ensemble (AMI)\")\n",
    "    ax.set_xlabel(\"Number of clusters ($k$)\")\n",
    "    ax.set_xticklabels(ax.get_xticklabels(), rotation=45)\n",
    "    plt.legend(labels=[\"Mean\", \"Median\"])\n",
    "    plt.grid(True)\n",
    "    plt.tight_layout()"
   ]
  },
  {
   "cell_type": "markdown",
   "metadata": {
    "papermill": {
     "duration": 0.013034,
     "end_time": "2021-02-24T15:06:03.023217",
     "exception": false,
     "start_time": "2021-02-24T15:06:03.010183",
     "status": "completed"
    },
    "tags": []
   },
   "source": [
    "# Select best partition per k"
   ]
  },
  {
   "cell_type": "code",
   "execution_count": 10,
   "metadata": {
    "execution": {
     "iopub.execute_input": "2021-02-24T15:06:03.052203Z",
     "iopub.status.busy": "2021-02-24T15:06:03.051833Z",
     "iopub.status.idle": "2021-02-24T15:06:03.099926Z",
     "shell.execute_reply": "2021-02-24T15:06:03.099538Z"
    },
    "papermill": {
     "duration": 0.063785,
     "end_time": "2021-02-24T15:06:03.100016",
     "exception": false,
     "start_time": "2021-02-24T15:06:03.036231",
     "status": "completed"
    },
    "tags": []
   },
   "outputs": [],
   "source": [
    "_measure_col = \"ami_mean\"\n",
    "\n",
    "best_parts = (\n",
    "    consensus_clustering_results.groupby(\"k\")\n",
    "    .apply(lambda x: x.sort_values(_measure_col, ascending=False).head(1))\n",
    "    .sort_values(_measure_col, ascending=False)[\n",
    "        [\"method\", \"k\", \"partition\", _measure_col]\n",
    "    ]\n",
    ")"
   ]
  },
  {
   "cell_type": "code",
   "execution_count": 11,
   "metadata": {
    "execution": {
     "iopub.execute_input": "2021-02-24T15:06:03.128738Z",
     "iopub.status.busy": "2021-02-24T15:06:03.128353Z",
     "iopub.status.idle": "2021-02-24T15:06:03.138847Z",
     "shell.execute_reply": "2021-02-24T15:06:03.138476Z"
    },
    "papermill": {
     "duration": 0.02584,
     "end_time": "2021-02-24T15:06:03.138934",
     "exception": false,
     "start_time": "2021-02-24T15:06:03.113094",
     "status": "completed"
    },
    "tags": []
   },
   "outputs": [],
   "source": [
    "best_parts = best_parts.set_index(\"k\")"
   ]
  },
  {
   "cell_type": "code",
   "execution_count": 12,
   "metadata": {
    "execution": {
     "iopub.execute_input": "2021-02-24T15:06:03.168128Z",
     "iopub.status.busy": "2021-02-24T15:06:03.167750Z",
     "iopub.status.idle": "2021-02-24T15:06:03.178357Z",
     "shell.execute_reply": "2021-02-24T15:06:03.178029Z"
    },
    "papermill": {
     "duration": 0.026142,
     "end_time": "2021-02-24T15:06:03.178445",
     "exception": false,
     "start_time": "2021-02-24T15:06:03.152303",
     "status": "completed"
    },
    "tags": []
   },
   "outputs": [
    {
     "data": {
      "text/plain": [
       "(59, 3)"
      ]
     },
     "execution_count": 12,
     "metadata": {},
     "output_type": "execute_result"
    }
   ],
   "source": [
    "best_parts.shape"
   ]
  },
  {
   "cell_type": "code",
   "execution_count": 13,
   "metadata": {
    "execution": {
     "iopub.execute_input": "2021-02-24T15:06:03.208975Z",
     "iopub.status.busy": "2021-02-24T15:06:03.208526Z",
     "iopub.status.idle": "2021-02-24T15:06:03.231758Z",
     "shell.execute_reply": "2021-02-24T15:06:03.231408Z"
    },
    "papermill": {
     "duration": 0.039239,
     "end_time": "2021-02-24T15:06:03.231848",
     "exception": false,
     "start_time": "2021-02-24T15:06:03.192609",
     "status": "completed"
    },
    "tags": []
   },
   "outputs": [
    {
     "data": {
      "text/html": [
       "<div>\n",
       "<style scoped>\n",
       "    .dataframe tbody tr th:only-of-type {\n",
       "        vertical-align: middle;\n",
       "    }\n",
       "\n",
       "    .dataframe tbody tr th {\n",
       "        vertical-align: top;\n",
       "    }\n",
       "\n",
       "    .dataframe thead th {\n",
       "        text-align: right;\n",
       "    }\n",
       "</style>\n",
       "<table border=\"1\" class=\"dataframe\">\n",
       "  <thead>\n",
       "    <tr style=\"text-align: right;\">\n",
       "      <th></th>\n",
       "      <th>method</th>\n",
       "      <th>partition</th>\n",
       "      <th>ami_mean</th>\n",
       "    </tr>\n",
       "    <tr>\n",
       "      <th>k</th>\n",
       "      <th></th>\n",
       "      <th></th>\n",
       "      <th></th>\n",
       "    </tr>\n",
       "  </thead>\n",
       "  <tbody>\n",
       "    <tr>\n",
       "      <th>11</th>\n",
       "      <td>scc_020</td>\n",
       "      <td>[0, 0, 0, 0, 0, 0, 0, 0, 0, 0, 0, 0, 0, 0, 0, ...</td>\n",
       "      <td>0.301839</td>\n",
       "    </tr>\n",
       "    <tr>\n",
       "      <th>10</th>\n",
       "      <td>scc_020</td>\n",
       "      <td>[0, 0, 0, 0, 0, 0, 0, 0, 0, 0, 0, 0, 0, 0, 0, ...</td>\n",
       "      <td>0.301738</td>\n",
       "    </tr>\n",
       "    <tr>\n",
       "      <th>9</th>\n",
       "      <td>scc_020</td>\n",
       "      <td>[0, 0, 0, 0, 0, 0, 0, 0, 0, 0, 0, 0, 0, 0, 0, ...</td>\n",
       "      <td>0.301301</td>\n",
       "    </tr>\n",
       "    <tr>\n",
       "      <th>4</th>\n",
       "      <td>eac_complete_coassoc_matrix</td>\n",
       "      <td>[0, 0, 0, 0, 0, 0, 0, 0, 0, 0, 0, 0, 0, 0, 0, ...</td>\n",
       "      <td>0.300385</td>\n",
       "    </tr>\n",
       "    <tr>\n",
       "      <th>8</th>\n",
       "      <td>scc_020</td>\n",
       "      <td>[0, 0, 0, 0, 0, 0, 0, 0, 0, 0, 0, 0, 0, 0, 0, ...</td>\n",
       "      <td>0.300171</td>\n",
       "    </tr>\n",
       "    <tr>\n",
       "      <th>7</th>\n",
       "      <td>scc_020</td>\n",
       "      <td>[0, 0, 0, 0, 0, 0, 0, 0, 0, 0, 0, 0, 0, 0, 0, ...</td>\n",
       "      <td>0.299450</td>\n",
       "    </tr>\n",
       "    <tr>\n",
       "      <th>5</th>\n",
       "      <td>eac_average_coassoc_matrix</td>\n",
       "      <td>[0, 0, 0, 0, 0, 0, 0, 0, 0, 0, 0, 0, 0, 0, 0, ...</td>\n",
       "      <td>0.298290</td>\n",
       "    </tr>\n",
       "    <tr>\n",
       "      <th>14</th>\n",
       "      <td>scc_020</td>\n",
       "      <td>[0, 0, 0, 0, 0, 0, 0, 0, 0, 0, 0, 0, 0, 0, 0, ...</td>\n",
       "      <td>0.296094</td>\n",
       "    </tr>\n",
       "    <tr>\n",
       "      <th>38</th>\n",
       "      <td>scc_020</td>\n",
       "      <td>[30, 30, 30, 30, 30, 30, 30, 30, 30, 35, 30, 3...</td>\n",
       "      <td>0.292446</td>\n",
       "    </tr>\n",
       "    <tr>\n",
       "      <th>41</th>\n",
       "      <td>scc_020</td>\n",
       "      <td>[33, 33, 33, 33, 33, 33, 33, 33, 33, 0, 33, 33...</td>\n",
       "      <td>0.290730</td>\n",
       "    </tr>\n",
       "  </tbody>\n",
       "</table>\n",
       "</div>"
      ],
      "text/plain": [
       "                         method  \\\n",
       "k                                 \n",
       "11                      scc_020   \n",
       "10                      scc_020   \n",
       "9                       scc_020   \n",
       "4   eac_complete_coassoc_matrix   \n",
       "8                       scc_020   \n",
       "7                       scc_020   \n",
       "5    eac_average_coassoc_matrix   \n",
       "14                      scc_020   \n",
       "38                      scc_020   \n",
       "41                      scc_020   \n",
       "\n",
       "                                            partition  ami_mean  \n",
       "k                                                                \n",
       "11  [0, 0, 0, 0, 0, 0, 0, 0, 0, 0, 0, 0, 0, 0, 0, ...  0.301839  \n",
       "10  [0, 0, 0, 0, 0, 0, 0, 0, 0, 0, 0, 0, 0, 0, 0, ...  0.301738  \n",
       "9   [0, 0, 0, 0, 0, 0, 0, 0, 0, 0, 0, 0, 0, 0, 0, ...  0.301301  \n",
       "4   [0, 0, 0, 0, 0, 0, 0, 0, 0, 0, 0, 0, 0, 0, 0, ...  0.300385  \n",
       "8   [0, 0, 0, 0, 0, 0, 0, 0, 0, 0, 0, 0, 0, 0, 0, ...  0.300171  \n",
       "7   [0, 0, 0, 0, 0, 0, 0, 0, 0, 0, 0, 0, 0, 0, 0, ...  0.299450  \n",
       "5   [0, 0, 0, 0, 0, 0, 0, 0, 0, 0, 0, 0, 0, 0, 0, ...  0.298290  \n",
       "14  [0, 0, 0, 0, 0, 0, 0, 0, 0, 0, 0, 0, 0, 0, 0, ...  0.296094  \n",
       "38  [30, 30, 30, 30, 30, 30, 30, 30, 30, 35, 30, 3...  0.292446  \n",
       "41  [33, 33, 33, 33, 33, 33, 33, 33, 33, 0, 33, 33...  0.290730  "
      ]
     },
     "execution_count": 13,
     "metadata": {},
     "output_type": "execute_result"
    }
   ],
   "source": [
    "# show partitions with top ARI\n",
    "best_parts.head(10)"
   ]
  },
  {
   "cell_type": "code",
   "execution_count": 14,
   "metadata": {
    "execution": {
     "iopub.execute_input": "2021-02-24T15:06:03.262989Z",
     "iopub.status.busy": "2021-02-24T15:06:03.262610Z",
     "iopub.status.idle": "2021-02-24T15:06:03.335714Z",
     "shell.execute_reply": "2021-02-24T15:06:03.335308Z"
    },
    "papermill": {
     "duration": 0.08938,
     "end_time": "2021-02-24T15:06:03.335802",
     "exception": false,
     "start_time": "2021-02-24T15:06:03.246422",
     "status": "completed"
    },
    "tags": []
   },
   "outputs": [
    {
     "data": {
      "text/html": [
       "<div>\n",
       "<style scoped>\n",
       "    .dataframe tbody tr th:only-of-type {\n",
       "        vertical-align: middle;\n",
       "    }\n",
       "\n",
       "    .dataframe tbody tr th {\n",
       "        vertical-align: top;\n",
       "    }\n",
       "\n",
       "    .dataframe thead th {\n",
       "        text-align: right;\n",
       "    }\n",
       "</style>\n",
       "<table border=\"1\" class=\"dataframe\">\n",
       "  <thead>\n",
       "    <tr style=\"text-align: right;\">\n",
       "      <th></th>\n",
       "      <th>method</th>\n",
       "      <th>partition</th>\n",
       "      <th>ami_mean</th>\n",
       "    </tr>\n",
       "    <tr>\n",
       "      <th>k</th>\n",
       "      <th></th>\n",
       "      <th></th>\n",
       "      <th></th>\n",
       "    </tr>\n",
       "  </thead>\n",
       "  <tbody>\n",
       "    <tr>\n",
       "      <th>2</th>\n",
       "      <td>scc_020</td>\n",
       "      <td>[0, 0, 0, 0, 0, 0, 0, 0, 0, 0, 0, 0, 0, 0, 0, ...</td>\n",
       "      <td>0.238199</td>\n",
       "    </tr>\n",
       "    <tr>\n",
       "      <th>3</th>\n",
       "      <td>eac_complete_coassoc_matrix</td>\n",
       "      <td>[0, 0, 0, 0, 0, 0, 0, 0, 0, 0, 0, 0, 0, 0, 0, ...</td>\n",
       "      <td>0.277190</td>\n",
       "    </tr>\n",
       "    <tr>\n",
       "      <th>4</th>\n",
       "      <td>eac_complete_coassoc_matrix</td>\n",
       "      <td>[0, 0, 0, 0, 0, 0, 0, 0, 0, 0, 0, 0, 0, 0, 0, ...</td>\n",
       "      <td>0.300385</td>\n",
       "    </tr>\n",
       "    <tr>\n",
       "      <th>5</th>\n",
       "      <td>eac_average_coassoc_matrix</td>\n",
       "      <td>[0, 0, 0, 0, 0, 0, 0, 0, 0, 0, 0, 0, 0, 0, 0, ...</td>\n",
       "      <td>0.298290</td>\n",
       "    </tr>\n",
       "    <tr>\n",
       "      <th>6</th>\n",
       "      <td>eac_single_coassoc_matrix</td>\n",
       "      <td>[1, 1, 1, 1, 1, 1, 1, 1, 1, 1, 1, 1, 1, 1, 1, ...</td>\n",
       "      <td>0.288252</td>\n",
       "    </tr>\n",
       "    <tr>\n",
       "      <th>7</th>\n",
       "      <td>scc_020</td>\n",
       "      <td>[0, 0, 0, 0, 0, 0, 0, 0, 0, 0, 0, 0, 0, 0, 0, ...</td>\n",
       "      <td>0.299450</td>\n",
       "    </tr>\n",
       "    <tr>\n",
       "      <th>8</th>\n",
       "      <td>scc_020</td>\n",
       "      <td>[0, 0, 0, 0, 0, 0, 0, 0, 0, 0, 0, 0, 0, 0, 0, ...</td>\n",
       "      <td>0.300171</td>\n",
       "    </tr>\n",
       "    <tr>\n",
       "      <th>9</th>\n",
       "      <td>scc_020</td>\n",
       "      <td>[0, 0, 0, 0, 0, 0, 0, 0, 0, 0, 0, 0, 0, 0, 0, ...</td>\n",
       "      <td>0.301301</td>\n",
       "    </tr>\n",
       "    <tr>\n",
       "      <th>10</th>\n",
       "      <td>scc_020</td>\n",
       "      <td>[0, 0, 0, 0, 0, 0, 0, 0, 0, 0, 0, 0, 0, 0, 0, ...</td>\n",
       "      <td>0.301738</td>\n",
       "    </tr>\n",
       "    <tr>\n",
       "      <th>11</th>\n",
       "      <td>scc_020</td>\n",
       "      <td>[0, 0, 0, 0, 0, 0, 0, 0, 0, 0, 0, 0, 0, 0, 0, ...</td>\n",
       "      <td>0.301839</td>\n",
       "    </tr>\n",
       "    <tr>\n",
       "      <th>12</th>\n",
       "      <td>eac_average_coassoc_matrix</td>\n",
       "      <td>[1, 1, 1, 1, 1, 1, 1, 1, 1, 1, 1, 1, 1, 1, 1, ...</td>\n",
       "      <td>0.277357</td>\n",
       "    </tr>\n",
       "    <tr>\n",
       "      <th>13</th>\n",
       "      <td>eac_average_coassoc_matrix</td>\n",
       "      <td>[1, 1, 1, 1, 1, 1, 1, 1, 1, 1, 1, 1, 1, 1, 1, ...</td>\n",
       "      <td>0.281216</td>\n",
       "    </tr>\n",
       "    <tr>\n",
       "      <th>14</th>\n",
       "      <td>scc_020</td>\n",
       "      <td>[0, 0, 0, 0, 0, 0, 0, 0, 0, 0, 0, 0, 0, 0, 0, ...</td>\n",
       "      <td>0.296094</td>\n",
       "    </tr>\n",
       "    <tr>\n",
       "      <th>15</th>\n",
       "      <td>eac_average_coassoc_matrix</td>\n",
       "      <td>[6, 6, 6, 6, 6, 6, 6, 6, 6, 6, 6, 6, 6, 6, 6, ...</td>\n",
       "      <td>0.278804</td>\n",
       "    </tr>\n",
       "    <tr>\n",
       "      <th>16</th>\n",
       "      <td>eac_average_coassoc_matrix</td>\n",
       "      <td>[2, 2, 2, 2, 2, 2, 2, 2, 2, 2, 2, 2, 2, 2, 2, ...</td>\n",
       "      <td>0.279655</td>\n",
       "    </tr>\n",
       "    <tr>\n",
       "      <th>17</th>\n",
       "      <td>eac_average_coassoc_matrix</td>\n",
       "      <td>[0, 0, 0, 0, 0, 0, 0, 0, 0, 0, 0, 0, 0, 0, 0, ...</td>\n",
       "      <td>0.280277</td>\n",
       "    </tr>\n",
       "    <tr>\n",
       "      <th>18</th>\n",
       "      <td>scc_025</td>\n",
       "      <td>[0, 0, 0, 0, 0, 0, 0, 0, 0, 0, 0, 0, 0, 0, 0, ...</td>\n",
       "      <td>0.288659</td>\n",
       "    </tr>\n",
       "    <tr>\n",
       "      <th>19</th>\n",
       "      <td>eac_average_coassoc_matrix</td>\n",
       "      <td>[2, 2, 2, 2, 2, 2, 2, 2, 2, 3, 2, 2, 2, 2, 2, ...</td>\n",
       "      <td>0.281137</td>\n",
       "    </tr>\n",
       "    <tr>\n",
       "      <th>20</th>\n",
       "      <td>eac_average_coassoc_matrix</td>\n",
       "      <td>[0, 0, 0, 0, 0, 0, 0, 0, 0, 3, 0, 0, 0, 0, 0, ...</td>\n",
       "      <td>0.281631</td>\n",
       "    </tr>\n",
       "    <tr>\n",
       "      <th>21</th>\n",
       "      <td>scc_025</td>\n",
       "      <td>[0, 0, 0, 0, 0, 0, 0, 0, 0, 0, 0, 0, 0, 0, 0, ...</td>\n",
       "      <td>0.289048</td>\n",
       "    </tr>\n",
       "    <tr>\n",
       "      <th>22</th>\n",
       "      <td>scc_025</td>\n",
       "      <td>[1, 1, 1, 1, 1, 1, 1, 1, 1, 1, 1, 1, 1, 1, 1, ...</td>\n",
       "      <td>0.290187</td>\n",
       "    </tr>\n",
       "    <tr>\n",
       "      <th>23</th>\n",
       "      <td>scc_025</td>\n",
       "      <td>[1, 1, 1, 1, 1, 1, 1, 1, 1, 1, 1, 1, 1, 1, 1, ...</td>\n",
       "      <td>0.288649</td>\n",
       "    </tr>\n",
       "    <tr>\n",
       "      <th>24</th>\n",
       "      <td>scc_025</td>\n",
       "      <td>[22, 22, 22, 22, 22, 22, 22, 22, 22, 22, 22, 2...</td>\n",
       "      <td>0.290363</td>\n",
       "    </tr>\n",
       "    <tr>\n",
       "      <th>25</th>\n",
       "      <td>scc_025</td>\n",
       "      <td>[1, 1, 1, 1, 1, 1, 1, 1, 1, 1, 1, 1, 1, 1, 1, ...</td>\n",
       "      <td>0.289054</td>\n",
       "    </tr>\n",
       "    <tr>\n",
       "      <th>26</th>\n",
       "      <td>scc_025</td>\n",
       "      <td>[0, 0, 0, 0, 0, 0, 0, 0, 0, 0, 0, 0, 0, 0, 0, ...</td>\n",
       "      <td>0.289436</td>\n",
       "    </tr>\n",
       "    <tr>\n",
       "      <th>27</th>\n",
       "      <td>eac_average_coassoc_matrix</td>\n",
       "      <td>[16, 16, 16, 16, 16, 16, 16, 16, 16, 3, 16, 16...</td>\n",
       "      <td>0.278319</td>\n",
       "    </tr>\n",
       "    <tr>\n",
       "      <th>28</th>\n",
       "      <td>scc_025</td>\n",
       "      <td>[26, 26, 26, 26, 26, 26, 26, 26, 26, 0, 26, 26...</td>\n",
       "      <td>0.290392</td>\n",
       "    </tr>\n",
       "    <tr>\n",
       "      <th>29</th>\n",
       "      <td>scc_025</td>\n",
       "      <td>[25, 25, 25, 25, 25, 25, 25, 25, 25, 0, 25, 25...</td>\n",
       "      <td>0.287144</td>\n",
       "    </tr>\n",
       "    <tr>\n",
       "      <th>30</th>\n",
       "      <td>eac_average_coassoc_matrix</td>\n",
       "      <td>[16, 16, 16, 16, 16, 16, 16, 16, 16, 2, 16, 16...</td>\n",
       "      <td>0.273918</td>\n",
       "    </tr>\n",
       "    <tr>\n",
       "      <th>31</th>\n",
       "      <td>scc_025</td>\n",
       "      <td>[19, 19, 19, 19, 19, 19, 19, 19, 19, 0, 19, 19...</td>\n",
       "      <td>0.288893</td>\n",
       "    </tr>\n",
       "    <tr>\n",
       "      <th>32</th>\n",
       "      <td>scc_025</td>\n",
       "      <td>[25, 25, 25, 25, 25, 25, 25, 25, 25, 22, 25, 2...</td>\n",
       "      <td>0.287121</td>\n",
       "    </tr>\n",
       "    <tr>\n",
       "      <th>33</th>\n",
       "      <td>eac_average_coassoc_matrix</td>\n",
       "      <td>[16, 16, 16, 16, 16, 16, 16, 16, 16, 0, 16, 16...</td>\n",
       "      <td>0.272561</td>\n",
       "    </tr>\n",
       "    <tr>\n",
       "      <th>34</th>\n",
       "      <td>eac_average_coassoc_matrix</td>\n",
       "      <td>[16, 16, 16, 16, 16, 16, 16, 16, 16, 15, 16, 1...</td>\n",
       "      <td>0.271449</td>\n",
       "    </tr>\n",
       "    <tr>\n",
       "      <th>35</th>\n",
       "      <td>eac_average_coassoc_matrix</td>\n",
       "      <td>[16, 16, 16, 16, 16, 16, 16, 16, 16, 15, 16, 1...</td>\n",
       "      <td>0.271502</td>\n",
       "    </tr>\n",
       "    <tr>\n",
       "      <th>36</th>\n",
       "      <td>eac_average_coassoc_matrix</td>\n",
       "      <td>[16, 16, 16, 16, 16, 16, 16, 16, 16, 15, 16, 1...</td>\n",
       "      <td>0.271459</td>\n",
       "    </tr>\n",
       "    <tr>\n",
       "      <th>37</th>\n",
       "      <td>eac_average_coassoc_matrix</td>\n",
       "      <td>[16, 16, 16, 16, 16, 16, 16, 16, 16, 15, 16, 1...</td>\n",
       "      <td>0.270785</td>\n",
       "    </tr>\n",
       "    <tr>\n",
       "      <th>38</th>\n",
       "      <td>scc_020</td>\n",
       "      <td>[30, 30, 30, 30, 30, 30, 30, 30, 30, 35, 30, 3...</td>\n",
       "      <td>0.292446</td>\n",
       "    </tr>\n",
       "    <tr>\n",
       "      <th>39</th>\n",
       "      <td>eac_average_coassoc_matrix</td>\n",
       "      <td>[16, 16, 16, 16, 16, 16, 16, 16, 16, 7, 16, 16...</td>\n",
       "      <td>0.273324</td>\n",
       "    </tr>\n",
       "    <tr>\n",
       "      <th>40</th>\n",
       "      <td>eac_average_coassoc_matrix</td>\n",
       "      <td>[7, 7, 7, 7, 7, 7, 7, 7, 7, 3, 7, 7, 7, 7, 7, ...</td>\n",
       "      <td>0.273307</td>\n",
       "    </tr>\n",
       "    <tr>\n",
       "      <th>41</th>\n",
       "      <td>scc_020</td>\n",
       "      <td>[33, 33, 33, 33, 33, 33, 33, 33, 33, 0, 33, 33...</td>\n",
       "      <td>0.290730</td>\n",
       "    </tr>\n",
       "    <tr>\n",
       "      <th>42</th>\n",
       "      <td>eac_average_coassoc_matrix</td>\n",
       "      <td>[7, 7, 7, 7, 7, 7, 7, 7, 7, 1, 7, 7, 7, 7, 7, ...</td>\n",
       "      <td>0.273417</td>\n",
       "    </tr>\n",
       "    <tr>\n",
       "      <th>43</th>\n",
       "      <td>eac_average_coassoc_matrix</td>\n",
       "      <td>[3, 3, 3, 3, 3, 3, 3, 3, 3, 0, 3, 3, 3, 3, 3, ...</td>\n",
       "      <td>0.273690</td>\n",
       "    </tr>\n",
       "    <tr>\n",
       "      <th>44</th>\n",
       "      <td>scc_020</td>\n",
       "      <td>[33, 33, 33, 33, 33, 33, 33, 33, 33, 0, 33, 33...</td>\n",
       "      <td>0.287237</td>\n",
       "    </tr>\n",
       "    <tr>\n",
       "      <th>45</th>\n",
       "      <td>scc_020</td>\n",
       "      <td>[34, 34, 34, 34, 34, 34, 34, 34, 34, 18, 34, 3...</td>\n",
       "      <td>0.289303</td>\n",
       "    </tr>\n",
       "    <tr>\n",
       "      <th>46</th>\n",
       "      <td>scc_020</td>\n",
       "      <td>[32, 32, 32, 32, 32, 32, 32, 32, 32, 40, 32, 3...</td>\n",
       "      <td>0.264743</td>\n",
       "    </tr>\n",
       "    <tr>\n",
       "      <th>47</th>\n",
       "      <td>scc_020</td>\n",
       "      <td>[31, 31, 31, 31, 31, 31, 31, 31, 31, 23, 31, 3...</td>\n",
       "      <td>0.267934</td>\n",
       "    </tr>\n",
       "    <tr>\n",
       "      <th>48</th>\n",
       "      <td>eac_average_coassoc_matrix</td>\n",
       "      <td>[46, 46, 46, 46, 46, 46, 46, 46, 46, 0, 46, 46...</td>\n",
       "      <td>0.258800</td>\n",
       "    </tr>\n",
       "    <tr>\n",
       "      <th>49</th>\n",
       "      <td>eac_average_coassoc_matrix</td>\n",
       "      <td>[46, 46, 46, 46, 46, 46, 46, 46, 46, 11, 46, 4...</td>\n",
       "      <td>0.249941</td>\n",
       "    </tr>\n",
       "    <tr>\n",
       "      <th>50</th>\n",
       "      <td>scc_020</td>\n",
       "      <td>[23, 23, 23, 23, 23, 23, 23, 23, 23, 45, 23, 2...</td>\n",
       "      <td>0.255389</td>\n",
       "    </tr>\n",
       "    <tr>\n",
       "      <th>51</th>\n",
       "      <td>eac_average_coassoc_matrix</td>\n",
       "      <td>[46, 46, 46, 46, 46, 46, 46, 46, 46, 11, 46, 4...</td>\n",
       "      <td>0.249956</td>\n",
       "    </tr>\n",
       "    <tr>\n",
       "      <th>52</th>\n",
       "      <td>eac_average_coassoc_matrix</td>\n",
       "      <td>[46, 46, 46, 46, 46, 46, 46, 46, 46, 11, 46, 4...</td>\n",
       "      <td>0.249983</td>\n",
       "    </tr>\n",
       "    <tr>\n",
       "      <th>53</th>\n",
       "      <td>scc_020</td>\n",
       "      <td>[31, 31, 31, 31, 31, 31, 31, 31, 31, 5, 31, 31...</td>\n",
       "      <td>0.250876</td>\n",
       "    </tr>\n",
       "    <tr>\n",
       "      <th>54</th>\n",
       "      <td>scc_020</td>\n",
       "      <td>[42, 42, 42, 42, 42, 42, 42, 42, 42, 0, 42, 42...</td>\n",
       "      <td>0.261377</td>\n",
       "    </tr>\n",
       "    <tr>\n",
       "      <th>55</th>\n",
       "      <td>eac_average_coassoc_matrix</td>\n",
       "      <td>[46, 46, 46, 46, 46, 46, 46, 46, 46, 11, 46, 4...</td>\n",
       "      <td>0.246162</td>\n",
       "    </tr>\n",
       "    <tr>\n",
       "      <th>56</th>\n",
       "      <td>scc_020</td>\n",
       "      <td>[32, 32, 32, 32, 32, 32, 32, 32, 32, 45, 32, 3...</td>\n",
       "      <td>0.251089</td>\n",
       "    </tr>\n",
       "    <tr>\n",
       "      <th>57</th>\n",
       "      <td>eac_average_coassoc_matrix</td>\n",
       "      <td>[46, 46, 46, 46, 46, 46, 46, 46, 46, 2, 46, 46...</td>\n",
       "      <td>0.242682</td>\n",
       "    </tr>\n",
       "    <tr>\n",
       "      <th>58</th>\n",
       "      <td>scc_020</td>\n",
       "      <td>[42, 42, 42, 42, 42, 42, 42, 42, 42, 21, 42, 4...</td>\n",
       "      <td>0.271066</td>\n",
       "    </tr>\n",
       "    <tr>\n",
       "      <th>59</th>\n",
       "      <td>scc_020</td>\n",
       "      <td>[37, 37, 37, 37, 37, 37, 37, 37, 37, 43, 37, 3...</td>\n",
       "      <td>0.242446</td>\n",
       "    </tr>\n",
       "    <tr>\n",
       "      <th>60</th>\n",
       "      <td>scc_020</td>\n",
       "      <td>[44, 44, 44, 44, 44, 44, 44, 44, 44, 38, 44, 4...</td>\n",
       "      <td>0.246449</td>\n",
       "    </tr>\n",
       "  </tbody>\n",
       "</table>\n",
       "</div>"
      ],
      "text/plain": [
       "                         method  \\\n",
       "k                                 \n",
       "2                       scc_020   \n",
       "3   eac_complete_coassoc_matrix   \n",
       "4   eac_complete_coassoc_matrix   \n",
       "5    eac_average_coassoc_matrix   \n",
       "6     eac_single_coassoc_matrix   \n",
       "7                       scc_020   \n",
       "8                       scc_020   \n",
       "9                       scc_020   \n",
       "10                      scc_020   \n",
       "11                      scc_020   \n",
       "12   eac_average_coassoc_matrix   \n",
       "13   eac_average_coassoc_matrix   \n",
       "14                      scc_020   \n",
       "15   eac_average_coassoc_matrix   \n",
       "16   eac_average_coassoc_matrix   \n",
       "17   eac_average_coassoc_matrix   \n",
       "18                      scc_025   \n",
       "19   eac_average_coassoc_matrix   \n",
       "20   eac_average_coassoc_matrix   \n",
       "21                      scc_025   \n",
       "22                      scc_025   \n",
       "23                      scc_025   \n",
       "24                      scc_025   \n",
       "25                      scc_025   \n",
       "26                      scc_025   \n",
       "27   eac_average_coassoc_matrix   \n",
       "28                      scc_025   \n",
       "29                      scc_025   \n",
       "30   eac_average_coassoc_matrix   \n",
       "31                      scc_025   \n",
       "32                      scc_025   \n",
       "33   eac_average_coassoc_matrix   \n",
       "34   eac_average_coassoc_matrix   \n",
       "35   eac_average_coassoc_matrix   \n",
       "36   eac_average_coassoc_matrix   \n",
       "37   eac_average_coassoc_matrix   \n",
       "38                      scc_020   \n",
       "39   eac_average_coassoc_matrix   \n",
       "40   eac_average_coassoc_matrix   \n",
       "41                      scc_020   \n",
       "42   eac_average_coassoc_matrix   \n",
       "43   eac_average_coassoc_matrix   \n",
       "44                      scc_020   \n",
       "45                      scc_020   \n",
       "46                      scc_020   \n",
       "47                      scc_020   \n",
       "48   eac_average_coassoc_matrix   \n",
       "49   eac_average_coassoc_matrix   \n",
       "50                      scc_020   \n",
       "51   eac_average_coassoc_matrix   \n",
       "52   eac_average_coassoc_matrix   \n",
       "53                      scc_020   \n",
       "54                      scc_020   \n",
       "55   eac_average_coassoc_matrix   \n",
       "56                      scc_020   \n",
       "57   eac_average_coassoc_matrix   \n",
       "58                      scc_020   \n",
       "59                      scc_020   \n",
       "60                      scc_020   \n",
       "\n",
       "                                            partition  ami_mean  \n",
       "k                                                                \n",
       "2   [0, 0, 0, 0, 0, 0, 0, 0, 0, 0, 0, 0, 0, 0, 0, ...  0.238199  \n",
       "3   [0, 0, 0, 0, 0, 0, 0, 0, 0, 0, 0, 0, 0, 0, 0, ...  0.277190  \n",
       "4   [0, 0, 0, 0, 0, 0, 0, 0, 0, 0, 0, 0, 0, 0, 0, ...  0.300385  \n",
       "5   [0, 0, 0, 0, 0, 0, 0, 0, 0, 0, 0, 0, 0, 0, 0, ...  0.298290  \n",
       "6   [1, 1, 1, 1, 1, 1, 1, 1, 1, 1, 1, 1, 1, 1, 1, ...  0.288252  \n",
       "7   [0, 0, 0, 0, 0, 0, 0, 0, 0, 0, 0, 0, 0, 0, 0, ...  0.299450  \n",
       "8   [0, 0, 0, 0, 0, 0, 0, 0, 0, 0, 0, 0, 0, 0, 0, ...  0.300171  \n",
       "9   [0, 0, 0, 0, 0, 0, 0, 0, 0, 0, 0, 0, 0, 0, 0, ...  0.301301  \n",
       "10  [0, 0, 0, 0, 0, 0, 0, 0, 0, 0, 0, 0, 0, 0, 0, ...  0.301738  \n",
       "11  [0, 0, 0, 0, 0, 0, 0, 0, 0, 0, 0, 0, 0, 0, 0, ...  0.301839  \n",
       "12  [1, 1, 1, 1, 1, 1, 1, 1, 1, 1, 1, 1, 1, 1, 1, ...  0.277357  \n",
       "13  [1, 1, 1, 1, 1, 1, 1, 1, 1, 1, 1, 1, 1, 1, 1, ...  0.281216  \n",
       "14  [0, 0, 0, 0, 0, 0, 0, 0, 0, 0, 0, 0, 0, 0, 0, ...  0.296094  \n",
       "15  [6, 6, 6, 6, 6, 6, 6, 6, 6, 6, 6, 6, 6, 6, 6, ...  0.278804  \n",
       "16  [2, 2, 2, 2, 2, 2, 2, 2, 2, 2, 2, 2, 2, 2, 2, ...  0.279655  \n",
       "17  [0, 0, 0, 0, 0, 0, 0, 0, 0, 0, 0, 0, 0, 0, 0, ...  0.280277  \n",
       "18  [0, 0, 0, 0, 0, 0, 0, 0, 0, 0, 0, 0, 0, 0, 0, ...  0.288659  \n",
       "19  [2, 2, 2, 2, 2, 2, 2, 2, 2, 3, 2, 2, 2, 2, 2, ...  0.281137  \n",
       "20  [0, 0, 0, 0, 0, 0, 0, 0, 0, 3, 0, 0, 0, 0, 0, ...  0.281631  \n",
       "21  [0, 0, 0, 0, 0, 0, 0, 0, 0, 0, 0, 0, 0, 0, 0, ...  0.289048  \n",
       "22  [1, 1, 1, 1, 1, 1, 1, 1, 1, 1, 1, 1, 1, 1, 1, ...  0.290187  \n",
       "23  [1, 1, 1, 1, 1, 1, 1, 1, 1, 1, 1, 1, 1, 1, 1, ...  0.288649  \n",
       "24  [22, 22, 22, 22, 22, 22, 22, 22, 22, 22, 22, 2...  0.290363  \n",
       "25  [1, 1, 1, 1, 1, 1, 1, 1, 1, 1, 1, 1, 1, 1, 1, ...  0.289054  \n",
       "26  [0, 0, 0, 0, 0, 0, 0, 0, 0, 0, 0, 0, 0, 0, 0, ...  0.289436  \n",
       "27  [16, 16, 16, 16, 16, 16, 16, 16, 16, 3, 16, 16...  0.278319  \n",
       "28  [26, 26, 26, 26, 26, 26, 26, 26, 26, 0, 26, 26...  0.290392  \n",
       "29  [25, 25, 25, 25, 25, 25, 25, 25, 25, 0, 25, 25...  0.287144  \n",
       "30  [16, 16, 16, 16, 16, 16, 16, 16, 16, 2, 16, 16...  0.273918  \n",
       "31  [19, 19, 19, 19, 19, 19, 19, 19, 19, 0, 19, 19...  0.288893  \n",
       "32  [25, 25, 25, 25, 25, 25, 25, 25, 25, 22, 25, 2...  0.287121  \n",
       "33  [16, 16, 16, 16, 16, 16, 16, 16, 16, 0, 16, 16...  0.272561  \n",
       "34  [16, 16, 16, 16, 16, 16, 16, 16, 16, 15, 16, 1...  0.271449  \n",
       "35  [16, 16, 16, 16, 16, 16, 16, 16, 16, 15, 16, 1...  0.271502  \n",
       "36  [16, 16, 16, 16, 16, 16, 16, 16, 16, 15, 16, 1...  0.271459  \n",
       "37  [16, 16, 16, 16, 16, 16, 16, 16, 16, 15, 16, 1...  0.270785  \n",
       "38  [30, 30, 30, 30, 30, 30, 30, 30, 30, 35, 30, 3...  0.292446  \n",
       "39  [16, 16, 16, 16, 16, 16, 16, 16, 16, 7, 16, 16...  0.273324  \n",
       "40  [7, 7, 7, 7, 7, 7, 7, 7, 7, 3, 7, 7, 7, 7, 7, ...  0.273307  \n",
       "41  [33, 33, 33, 33, 33, 33, 33, 33, 33, 0, 33, 33...  0.290730  \n",
       "42  [7, 7, 7, 7, 7, 7, 7, 7, 7, 1, 7, 7, 7, 7, 7, ...  0.273417  \n",
       "43  [3, 3, 3, 3, 3, 3, 3, 3, 3, 0, 3, 3, 3, 3, 3, ...  0.273690  \n",
       "44  [33, 33, 33, 33, 33, 33, 33, 33, 33, 0, 33, 33...  0.287237  \n",
       "45  [34, 34, 34, 34, 34, 34, 34, 34, 34, 18, 34, 3...  0.289303  \n",
       "46  [32, 32, 32, 32, 32, 32, 32, 32, 32, 40, 32, 3...  0.264743  \n",
       "47  [31, 31, 31, 31, 31, 31, 31, 31, 31, 23, 31, 3...  0.267934  \n",
       "48  [46, 46, 46, 46, 46, 46, 46, 46, 46, 0, 46, 46...  0.258800  \n",
       "49  [46, 46, 46, 46, 46, 46, 46, 46, 46, 11, 46, 4...  0.249941  \n",
       "50  [23, 23, 23, 23, 23, 23, 23, 23, 23, 45, 23, 2...  0.255389  \n",
       "51  [46, 46, 46, 46, 46, 46, 46, 46, 46, 11, 46, 4...  0.249956  \n",
       "52  [46, 46, 46, 46, 46, 46, 46, 46, 46, 11, 46, 4...  0.249983  \n",
       "53  [31, 31, 31, 31, 31, 31, 31, 31, 31, 5, 31, 31...  0.250876  \n",
       "54  [42, 42, 42, 42, 42, 42, 42, 42, 42, 0, 42, 42...  0.261377  \n",
       "55  [46, 46, 46, 46, 46, 46, 46, 46, 46, 11, 46, 4...  0.246162  \n",
       "56  [32, 32, 32, 32, 32, 32, 32, 32, 32, 45, 32, 3...  0.251089  \n",
       "57  [46, 46, 46, 46, 46, 46, 46, 46, 46, 2, 46, 46...  0.242682  \n",
       "58  [42, 42, 42, 42, 42, 42, 42, 42, 42, 21, 42, 4...  0.271066  \n",
       "59  [37, 37, 37, 37, 37, 37, 37, 37, 37, 43, 37, 3...  0.242446  \n",
       "60  [44, 44, 44, 44, 44, 44, 44, 44, 44, 38, 44, 4...  0.246449  "
      ]
     },
     "execution_count": 14,
     "metadata": {},
     "output_type": "execute_result"
    }
   ],
   "source": [
    "best_parts.sort_values(\"k\")"
   ]
  },
  {
   "cell_type": "markdown",
   "metadata": {
    "papermill": {
     "duration": 0.014086,
     "end_time": "2021-02-24T15:06:03.364431",
     "exception": false,
     "start_time": "2021-02-24T15:06:03.350345",
     "status": "completed"
    },
    "tags": []
   },
   "source": [
    "## Select partitions with highest agreement"
   ]
  },
  {
   "cell_type": "markdown",
   "metadata": {
    "papermill": {
     "duration": 0.014378,
     "end_time": "2021-02-24T15:06:03.393160",
     "exception": false,
     "start_time": "2021-02-24T15:06:03.378782",
     "status": "completed"
    },
    "tags": []
   },
   "source": [
    "We do not expect all partitions with different `k` to be good ones. Thus, here I select the partitions with an ensemble agreement that pass a specified threshold (75th percentile)."
   ]
  },
  {
   "cell_type": "code",
   "execution_count": 15,
   "metadata": {
    "execution": {
     "iopub.execute_input": "2021-02-24T15:06:03.424583Z",
     "iopub.status.busy": "2021-02-24T15:06:03.424218Z",
     "iopub.status.idle": "2021-02-24T15:06:03.437099Z",
     "shell.execute_reply": "2021-02-24T15:06:03.436681Z"
    },
    "papermill": {
     "duration": 0.029641,
     "end_time": "2021-02-24T15:06:03.437187",
     "exception": false,
     "start_time": "2021-02-24T15:06:03.407546",
     "status": "completed"
    },
    "tags": []
   },
   "outputs": [
    {
     "data": {
      "text/plain": [
       "count    59.000000\n",
       "mean      0.276513\n",
       "std       0.017383\n",
       "min       0.238199\n",
       "25%       0.269360\n",
       "50%       0.278804\n",
       "75%       0.289179\n",
       "max       0.301839\n",
       "Name: ami_mean, dtype: float64"
      ]
     },
     "metadata": {},
     "output_type": "display_data"
    }
   ],
   "source": [
    "best_parts_stats = best_parts[_measure_col].describe()\n",
    "display(best_parts_stats)"
   ]
  },
  {
   "cell_type": "code",
   "execution_count": 16,
   "metadata": {
    "execution": {
     "iopub.execute_input": "2021-02-24T15:06:03.470721Z",
     "iopub.status.busy": "2021-02-24T15:06:03.470345Z",
     "iopub.status.idle": "2021-02-24T15:06:03.481729Z",
     "shell.execute_reply": "2021-02-24T15:06:03.481353Z"
    },
    "papermill": {
     "duration": 0.029188,
     "end_time": "2021-02-24T15:06:03.481818",
     "exception": false,
     "start_time": "2021-02-24T15:06:03.452630",
     "status": "completed"
    },
    "tags": []
   },
   "outputs": [
    {
     "data": {
      "text/plain": [
       "0.28917859523993206"
      ]
     },
     "metadata": {},
     "output_type": "display_data"
    }
   ],
   "source": [
    "best_threshold = best_parts_stats[\"75%\"]\n",
    "best_threshold_description = \"75th percentile\"\n",
    "display(best_threshold)\n",
    "\n",
    "best_parts = best_parts.assign(\n",
    "    selected=best_parts[_measure_col].apply(lambda x: x > best_threshold)\n",
    ")"
   ]
  },
  {
   "cell_type": "code",
   "execution_count": 17,
   "metadata": {
    "execution": {
     "iopub.execute_input": "2021-02-24T15:06:03.516218Z",
     "iopub.status.busy": "2021-02-24T15:06:03.515846Z",
     "iopub.status.idle": "2021-02-24T15:06:03.526480Z",
     "shell.execute_reply": "2021-02-24T15:06:03.526119Z"
    },
    "papermill": {
     "duration": 0.028345,
     "end_time": "2021-02-24T15:06:03.526567",
     "exception": false,
     "start_time": "2021-02-24T15:06:03.498222",
     "status": "completed"
    },
    "tags": []
   },
   "outputs": [
    {
     "data": {
      "text/plain": [
       "(59, 4)"
      ]
     },
     "execution_count": 17,
     "metadata": {},
     "output_type": "execute_result"
    }
   ],
   "source": [
    "best_parts.shape"
   ]
  },
  {
   "cell_type": "code",
   "execution_count": 18,
   "metadata": {
    "execution": {
     "iopub.execute_input": "2021-02-24T15:06:03.559763Z",
     "iopub.status.busy": "2021-02-24T15:06:03.559368Z",
     "iopub.status.idle": "2021-02-24T15:06:03.579095Z",
     "shell.execute_reply": "2021-02-24T15:06:03.578730Z"
    },
    "papermill": {
     "duration": 0.037205,
     "end_time": "2021-02-24T15:06:03.579180",
     "exception": false,
     "start_time": "2021-02-24T15:06:03.541975",
     "status": "completed"
    },
    "tags": []
   },
   "outputs": [
    {
     "data": {
      "text/html": [
       "<div>\n",
       "<style scoped>\n",
       "    .dataframe tbody tr th:only-of-type {\n",
       "        vertical-align: middle;\n",
       "    }\n",
       "\n",
       "    .dataframe tbody tr th {\n",
       "        vertical-align: top;\n",
       "    }\n",
       "\n",
       "    .dataframe thead th {\n",
       "        text-align: right;\n",
       "    }\n",
       "</style>\n",
       "<table border=\"1\" class=\"dataframe\">\n",
       "  <thead>\n",
       "    <tr style=\"text-align: right;\">\n",
       "      <th></th>\n",
       "      <th>method</th>\n",
       "      <th>partition</th>\n",
       "      <th>ami_mean</th>\n",
       "      <th>selected</th>\n",
       "    </tr>\n",
       "    <tr>\n",
       "      <th>k</th>\n",
       "      <th></th>\n",
       "      <th></th>\n",
       "      <th></th>\n",
       "      <th></th>\n",
       "    </tr>\n",
       "  </thead>\n",
       "  <tbody>\n",
       "    <tr>\n",
       "      <th>11</th>\n",
       "      <td>scc_020</td>\n",
       "      <td>[0, 0, 0, 0, 0, 0, 0, 0, 0, 0, 0, 0, 0, 0, 0, ...</td>\n",
       "      <td>0.301839</td>\n",
       "      <td>True</td>\n",
       "    </tr>\n",
       "    <tr>\n",
       "      <th>10</th>\n",
       "      <td>scc_020</td>\n",
       "      <td>[0, 0, 0, 0, 0, 0, 0, 0, 0, 0, 0, 0, 0, 0, 0, ...</td>\n",
       "      <td>0.301738</td>\n",
       "      <td>True</td>\n",
       "    </tr>\n",
       "    <tr>\n",
       "      <th>9</th>\n",
       "      <td>scc_020</td>\n",
       "      <td>[0, 0, 0, 0, 0, 0, 0, 0, 0, 0, 0, 0, 0, 0, 0, ...</td>\n",
       "      <td>0.301301</td>\n",
       "      <td>True</td>\n",
       "    </tr>\n",
       "    <tr>\n",
       "      <th>4</th>\n",
       "      <td>eac_complete_coassoc_matrix</td>\n",
       "      <td>[0, 0, 0, 0, 0, 0, 0, 0, 0, 0, 0, 0, 0, 0, 0, ...</td>\n",
       "      <td>0.300385</td>\n",
       "      <td>True</td>\n",
       "    </tr>\n",
       "    <tr>\n",
       "      <th>8</th>\n",
       "      <td>scc_020</td>\n",
       "      <td>[0, 0, 0, 0, 0, 0, 0, 0, 0, 0, 0, 0, 0, 0, 0, ...</td>\n",
       "      <td>0.300171</td>\n",
       "      <td>True</td>\n",
       "    </tr>\n",
       "  </tbody>\n",
       "</table>\n",
       "</div>"
      ],
      "text/plain": [
       "                         method  \\\n",
       "k                                 \n",
       "11                      scc_020   \n",
       "10                      scc_020   \n",
       "9                       scc_020   \n",
       "4   eac_complete_coassoc_matrix   \n",
       "8                       scc_020   \n",
       "\n",
       "                                            partition  ami_mean  selected  \n",
       "k                                                                          \n",
       "11  [0, 0, 0, 0, 0, 0, 0, 0, 0, 0, 0, 0, 0, 0, 0, ...  0.301839      True  \n",
       "10  [0, 0, 0, 0, 0, 0, 0, 0, 0, 0, 0, 0, 0, 0, 0, ...  0.301738      True  \n",
       "9   [0, 0, 0, 0, 0, 0, 0, 0, 0, 0, 0, 0, 0, 0, 0, ...  0.301301      True  \n",
       "4   [0, 0, 0, 0, 0, 0, 0, 0, 0, 0, 0, 0, 0, 0, 0, ...  0.300385      True  \n",
       "8   [0, 0, 0, 0, 0, 0, 0, 0, 0, 0, 0, 0, 0, 0, 0, ...  0.300171      True  "
      ]
     },
     "execution_count": 18,
     "metadata": {},
     "output_type": "execute_result"
    }
   ],
   "source": [
    "best_parts.head()"
   ]
  },
  {
   "cell_type": "markdown",
   "metadata": {
    "papermill": {
     "duration": 0.016992,
     "end_time": "2021-02-24T15:06:03.612120",
     "exception": false,
     "start_time": "2021-02-24T15:06:03.595128",
     "status": "completed"
    },
    "tags": []
   },
   "source": [
    "## Save best partitions per k"
   ]
  },
  {
   "cell_type": "code",
   "execution_count": 19,
   "metadata": {
    "execution": {
     "iopub.execute_input": "2021-02-24T15:06:03.646580Z",
     "iopub.status.busy": "2021-02-24T15:06:03.646207Z",
     "iopub.status.idle": "2021-02-24T15:06:03.657052Z",
     "shell.execute_reply": "2021-02-24T15:06:03.656668Z"
    },
    "papermill": {
     "duration": 0.029151,
     "end_time": "2021-02-24T15:06:03.657140",
     "exception": false,
     "start_time": "2021-02-24T15:06:03.627989",
     "status": "completed"
    },
    "tags": []
   },
   "outputs": [
    {
     "data": {
      "text/plain": [
       "PosixPath('/home/miltondp/projects/labs/greenelab/phenoplier/base3/results/clustering/consensus_clustering/best_partitions_by_k.pkl')"
      ]
     },
     "metadata": {},
     "output_type": "display_data"
    }
   ],
   "source": [
    "output_file = Path(CONSENSUS_CLUSTERING_DIR, \"best_partitions_by_k.pkl\").resolve()\n",
    "display(output_file)"
   ]
  },
  {
   "cell_type": "code",
   "execution_count": 20,
   "metadata": {
    "execution": {
     "iopub.execute_input": "2021-02-24T15:06:03.692099Z",
     "iopub.status.busy": "2021-02-24T15:06:03.691734Z",
     "iopub.status.idle": "2021-02-24T15:06:03.704726Z",
     "shell.execute_reply": "2021-02-24T15:06:03.704247Z"
    },
    "papermill": {
     "duration": 0.031404,
     "end_time": "2021-02-24T15:06:03.704830",
     "exception": false,
     "start_time": "2021-02-24T15:06:03.673426",
     "status": "completed"
    },
    "tags": []
   },
   "outputs": [],
   "source": [
    "best_parts.to_pickle(output_file)"
   ]
  },
  {
   "cell_type": "markdown",
   "metadata": {
    "papermill": {
     "duration": 0.016083,
     "end_time": "2021-02-24T15:06:03.737445",
     "exception": false,
     "start_time": "2021-02-24T15:06:03.721362",
     "status": "completed"
    },
    "tags": []
   },
   "source": [
    "# Plot of selected best partitions"
   ]
  },
  {
   "cell_type": "code",
   "execution_count": 21,
   "metadata": {
    "execution": {
     "iopub.execute_input": "2021-02-24T15:06:03.771312Z",
     "iopub.status.busy": "2021-02-24T15:06:03.770947Z",
     "iopub.status.idle": "2021-02-24T15:06:03.790604Z",
     "shell.execute_reply": "2021-02-24T15:06:03.790900Z"
    },
    "papermill": {
     "duration": 0.037943,
     "end_time": "2021-02-24T15:06:03.791006",
     "exception": false,
     "start_time": "2021-02-24T15:06:03.753063",
     "status": "completed"
    },
    "tags": []
   },
   "outputs": [
    {
     "data": {
      "text/html": [
       "<div>\n",
       "<style scoped>\n",
       "    .dataframe tbody tr th:only-of-type {\n",
       "        vertical-align: middle;\n",
       "    }\n",
       "\n",
       "    .dataframe tbody tr th {\n",
       "        vertical-align: top;\n",
       "    }\n",
       "\n",
       "    .dataframe thead th {\n",
       "        text-align: right;\n",
       "    }\n",
       "</style>\n",
       "<table border=\"1\" class=\"dataframe\">\n",
       "  <thead>\n",
       "    <tr style=\"text-align: right;\">\n",
       "      <th></th>\n",
       "      <th>k</th>\n",
       "      <th>method</th>\n",
       "      <th>partition</th>\n",
       "      <th>ami_mean</th>\n",
       "      <th>selected</th>\n",
       "    </tr>\n",
       "  </thead>\n",
       "  <tbody>\n",
       "    <tr>\n",
       "      <th>0</th>\n",
       "      <td>11</td>\n",
       "      <td>scc_020</td>\n",
       "      <td>[0, 0, 0, 0, 0, 0, 0, 0, 0, 0, 0, 0, 0, 0, 0, ...</td>\n",
       "      <td>0.301839</td>\n",
       "      <td>True</td>\n",
       "    </tr>\n",
       "    <tr>\n",
       "      <th>1</th>\n",
       "      <td>10</td>\n",
       "      <td>scc_020</td>\n",
       "      <td>[0, 0, 0, 0, 0, 0, 0, 0, 0, 0, 0, 0, 0, 0, 0, ...</td>\n",
       "      <td>0.301738</td>\n",
       "      <td>True</td>\n",
       "    </tr>\n",
       "    <tr>\n",
       "      <th>2</th>\n",
       "      <td>9</td>\n",
       "      <td>scc_020</td>\n",
       "      <td>[0, 0, 0, 0, 0, 0, 0, 0, 0, 0, 0, 0, 0, 0, 0, ...</td>\n",
       "      <td>0.301301</td>\n",
       "      <td>True</td>\n",
       "    </tr>\n",
       "    <tr>\n",
       "      <th>3</th>\n",
       "      <td>4</td>\n",
       "      <td>eac_complete_coassoc_matrix</td>\n",
       "      <td>[0, 0, 0, 0, 0, 0, 0, 0, 0, 0, 0, 0, 0, 0, 0, ...</td>\n",
       "      <td>0.300385</td>\n",
       "      <td>True</td>\n",
       "    </tr>\n",
       "    <tr>\n",
       "      <th>4</th>\n",
       "      <td>8</td>\n",
       "      <td>scc_020</td>\n",
       "      <td>[0, 0, 0, 0, 0, 0, 0, 0, 0, 0, 0, 0, 0, 0, 0, ...</td>\n",
       "      <td>0.300171</td>\n",
       "      <td>True</td>\n",
       "    </tr>\n",
       "  </tbody>\n",
       "</table>\n",
       "</div>"
      ],
      "text/plain": [
       "    k                       method  \\\n",
       "0  11                      scc_020   \n",
       "1  10                      scc_020   \n",
       "2   9                      scc_020   \n",
       "3   4  eac_complete_coassoc_matrix   \n",
       "4   8                      scc_020   \n",
       "\n",
       "                                           partition  ami_mean  selected  \n",
       "0  [0, 0, 0, 0, 0, 0, 0, 0, 0, 0, 0, 0, 0, 0, 0, ...  0.301839      True  \n",
       "1  [0, 0, 0, 0, 0, 0, 0, 0, 0, 0, 0, 0, 0, 0, 0, ...  0.301738      True  \n",
       "2  [0, 0, 0, 0, 0, 0, 0, 0, 0, 0, 0, 0, 0, 0, 0, ...  0.301301      True  \n",
       "3  [0, 0, 0, 0, 0, 0, 0, 0, 0, 0, 0, 0, 0, 0, 0, ...  0.300385      True  \n",
       "4  [0, 0, 0, 0, 0, 0, 0, 0, 0, 0, 0, 0, 0, 0, 0, ...  0.300171      True  "
      ]
     },
     "metadata": {},
     "output_type": "display_data"
    }
   ],
   "source": [
    "plot_data = best_parts.reset_index()\n",
    "display(plot_data.head(5))"
   ]
  },
  {
   "cell_type": "code",
   "execution_count": 22,
   "metadata": {
    "execution": {
     "iopub.execute_input": "2021-02-24T15:06:03.828064Z",
     "iopub.status.busy": "2021-02-24T15:06:03.827678Z",
     "iopub.status.idle": "2021-02-24T15:06:05.465358Z",
     "shell.execute_reply": "2021-02-24T15:06:05.465658Z"
    },
    "papermill": {
     "duration": 1.658204,
     "end_time": "2021-02-24T15:06:05.465765",
     "exception": false,
     "start_time": "2021-02-24T15:06:03.807561",
     "status": "completed"
    },
    "tags": []
   },
   "outputs": [
    {
     "data": {
      "image/png": "[encoded data removed]",
      "text/plain": [
       "<Figure size 864x432 with 1 Axes>"
      ]
     },
     "metadata": {},
     "output_type": "display_data"
    }
   ],
   "source": [
    "with sns.plotting_context(\"talk\", font_scale=0.75), sns.axes_style(\n",
    "    \"whitegrid\", {\"grid.linestyle\": \"--\"}\n",
    "), sns.color_palette(\"muted\"):\n",
    "    current_palette = iter(sns.color_palette())\n",
    "\n",
    "    fig, ax = plt.subplots(figsize=(12, 6))\n",
    "    ax = sns.pointplot(\n",
    "        data=plot_data, x=\"k\", y=_measure_col, color=next(current_palette)\n",
    "    )\n",
    "    ax.axhline(\n",
    "        best_threshold,\n",
    "        ls=\"--\",\n",
    "        color=next(current_palette),\n",
    "        label=best_threshold_description,\n",
    "    )\n",
    "    ax.set_ylabel(\"Agreement with ensemble\\n(Average AMI)\")\n",
    "    ax.set_xlabel(\"Number of clusters ($k$)\")\n",
    "    ax.set_xticklabels(ax.get_xticklabels(), rotation=45)\n",
    "    plt.legend()\n",
    "    plt.grid(True)\n",
    "    plt.tight_layout()"
   ]
  },
  {
   "cell_type": "markdown",
   "metadata": {
    "papermill": {
     "duration": 0.018634,
     "end_time": "2021-02-24T15:06:05.503033",
     "exception": false,
     "start_time": "2021-02-24T15:06:05.484399",
     "status": "completed"
    },
    "tags": []
   },
   "source": [
    "The horizontal line in the plot is the median of the average AMI; partitions above that line are marked as selected for downstream analysis"
   ]
  },
  {
   "cell_type": "code",
   "execution_count": 23,
   "metadata": {
    "execution": {
     "iopub.execute_input": "2021-02-24T15:06:05.541325Z",
     "iopub.status.busy": "2021-02-24T15:06:05.540957Z",
     "iopub.status.idle": "2021-02-24T15:06:05.570902Z",
     "shell.execute_reply": "2021-02-24T15:06:05.570523Z"
    },
    "papermill": {
     "duration": 0.050074,
     "end_time": "2021-02-24T15:06:05.570989",
     "exception": false,
     "start_time": "2021-02-24T15:06:05.520915",
     "status": "completed"
    },
    "tags": []
   },
   "outputs": [
    {
     "data": {
      "text/html": [
       "<div>\n",
       "<style scoped>\n",
       "    .dataframe tbody tr th:only-of-type {\n",
       "        vertical-align: middle;\n",
       "    }\n",
       "\n",
       "    .dataframe tbody tr th {\n",
       "        vertical-align: top;\n",
       "    }\n",
       "\n",
       "    .dataframe thead th {\n",
       "        text-align: right;\n",
       "    }\n",
       "</style>\n",
       "<table border=\"1\" class=\"dataframe\">\n",
       "  <thead>\n",
       "    <tr style=\"text-align: right;\">\n",
       "      <th></th>\n",
       "      <th>k</th>\n",
       "      <th>method</th>\n",
       "      <th>partition</th>\n",
       "      <th>ami_mean</th>\n",
       "      <th>selected</th>\n",
       "    </tr>\n",
       "  </thead>\n",
       "  <tbody>\n",
       "    <tr>\n",
       "      <th>3</th>\n",
       "      <td>4</td>\n",
       "      <td>eac_complete_coassoc_matrix</td>\n",
       "      <td>[0, 0, 0, 0, 0, 0, 0, 0, 0, 0, 0, 0, 0, 0, 0, ...</td>\n",
       "      <td>0.300385</td>\n",
       "      <td>True</td>\n",
       "    </tr>\n",
       "    <tr>\n",
       "      <th>6</th>\n",
       "      <td>5</td>\n",
       "      <td>eac_average_coassoc_matrix</td>\n",
       "      <td>[0, 0, 0, 0, 0, 0, 0, 0, 0, 0, 0, 0, 0, 0, 0, ...</td>\n",
       "      <td>0.298290</td>\n",
       "      <td>True</td>\n",
       "    </tr>\n",
       "    <tr>\n",
       "      <th>5</th>\n",
       "      <td>7</td>\n",
       "      <td>scc_020</td>\n",
       "      <td>[0, 0, 0, 0, 0, 0, 0, 0, 0, 0, 0, 0, 0, 0, 0, ...</td>\n",
       "      <td>0.299450</td>\n",
       "      <td>True</td>\n",
       "    </tr>\n",
       "    <tr>\n",
       "      <th>4</th>\n",
       "      <td>8</td>\n",
       "      <td>scc_020</td>\n",
       "      <td>[0, 0, 0, 0, 0, 0, 0, 0, 0, 0, 0, 0, 0, 0, 0, ...</td>\n",
       "      <td>0.300171</td>\n",
       "      <td>True</td>\n",
       "    </tr>\n",
       "    <tr>\n",
       "      <th>2</th>\n",
       "      <td>9</td>\n",
       "      <td>scc_020</td>\n",
       "      <td>[0, 0, 0, 0, 0, 0, 0, 0, 0, 0, 0, 0, 0, 0, 0, ...</td>\n",
       "      <td>0.301301</td>\n",
       "      <td>True</td>\n",
       "    </tr>\n",
       "    <tr>\n",
       "      <th>1</th>\n",
       "      <td>10</td>\n",
       "      <td>scc_020</td>\n",
       "      <td>[0, 0, 0, 0, 0, 0, 0, 0, 0, 0, 0, 0, 0, 0, 0, ...</td>\n",
       "      <td>0.301738</td>\n",
       "      <td>True</td>\n",
       "    </tr>\n",
       "    <tr>\n",
       "      <th>0</th>\n",
       "      <td>11</td>\n",
       "      <td>scc_020</td>\n",
       "      <td>[0, 0, 0, 0, 0, 0, 0, 0, 0, 0, 0, 0, 0, 0, 0, ...</td>\n",
       "      <td>0.301839</td>\n",
       "      <td>True</td>\n",
       "    </tr>\n",
       "    <tr>\n",
       "      <th>7</th>\n",
       "      <td>14</td>\n",
       "      <td>scc_020</td>\n",
       "      <td>[0, 0, 0, 0, 0, 0, 0, 0, 0, 0, 0, 0, 0, 0, 0, ...</td>\n",
       "      <td>0.296094</td>\n",
       "      <td>True</td>\n",
       "    </tr>\n",
       "    <tr>\n",
       "      <th>12</th>\n",
       "      <td>22</td>\n",
       "      <td>scc_025</td>\n",
       "      <td>[1, 1, 1, 1, 1, 1, 1, 1, 1, 1, 1, 1, 1, 1, 1, ...</td>\n",
       "      <td>0.290187</td>\n",
       "      <td>True</td>\n",
       "    </tr>\n",
       "    <tr>\n",
       "      <th>11</th>\n",
       "      <td>24</td>\n",
       "      <td>scc_025</td>\n",
       "      <td>[22, 22, 22, 22, 22, 22, 22, 22, 22, 22, 22, 2...</td>\n",
       "      <td>0.290363</td>\n",
       "      <td>True</td>\n",
       "    </tr>\n",
       "    <tr>\n",
       "      <th>13</th>\n",
       "      <td>26</td>\n",
       "      <td>scc_025</td>\n",
       "      <td>[0, 0, 0, 0, 0, 0, 0, 0, 0, 0, 0, 0, 0, 0, 0, ...</td>\n",
       "      <td>0.289436</td>\n",
       "      <td>True</td>\n",
       "    </tr>\n",
       "    <tr>\n",
       "      <th>10</th>\n",
       "      <td>28</td>\n",
       "      <td>scc_025</td>\n",
       "      <td>[26, 26, 26, 26, 26, 26, 26, 26, 26, 0, 26, 26...</td>\n",
       "      <td>0.290392</td>\n",
       "      <td>True</td>\n",
       "    </tr>\n",
       "    <tr>\n",
       "      <th>8</th>\n",
       "      <td>38</td>\n",
       "      <td>scc_020</td>\n",
       "      <td>[30, 30, 30, 30, 30, 30, 30, 30, 30, 35, 30, 3...</td>\n",
       "      <td>0.292446</td>\n",
       "      <td>True</td>\n",
       "    </tr>\n",
       "    <tr>\n",
       "      <th>9</th>\n",
       "      <td>41</td>\n",
       "      <td>scc_020</td>\n",
       "      <td>[33, 33, 33, 33, 33, 33, 33, 33, 33, 0, 33, 33...</td>\n",
       "      <td>0.290730</td>\n",
       "      <td>True</td>\n",
       "    </tr>\n",
       "    <tr>\n",
       "      <th>14</th>\n",
       "      <td>45</td>\n",
       "      <td>scc_020</td>\n",
       "      <td>[34, 34, 34, 34, 34, 34, 34, 34, 34, 18, 34, 3...</td>\n",
       "      <td>0.289303</td>\n",
       "      <td>True</td>\n",
       "    </tr>\n",
       "  </tbody>\n",
       "</table>\n",
       "</div>"
      ],
      "text/plain": [
       "     k                       method  \\\n",
       "3    4  eac_complete_coassoc_matrix   \n",
       "6    5   eac_average_coassoc_matrix   \n",
       "5    7                      scc_020   \n",
       "4    8                      scc_020   \n",
       "2    9                      scc_020   \n",
       "1   10                      scc_020   \n",
       "0   11                      scc_020   \n",
       "7   14                      scc_020   \n",
       "12  22                      scc_025   \n",
       "11  24                      scc_025   \n",
       "13  26                      scc_025   \n",
       "10  28                      scc_025   \n",
       "8   38                      scc_020   \n",
       "9   41                      scc_020   \n",
       "14  45                      scc_020   \n",
       "\n",
       "                                            partition  ami_mean  selected  \n",
       "3   [0, 0, 0, 0, 0, 0, 0, 0, 0, 0, 0, 0, 0, 0, 0, ...  0.300385      True  \n",
       "6   [0, 0, 0, 0, 0, 0, 0, 0, 0, 0, 0, 0, 0, 0, 0, ...  0.298290      True  \n",
       "5   [0, 0, 0, 0, 0, 0, 0, 0, 0, 0, 0, 0, 0, 0, 0, ...  0.299450      True  \n",
       "4   [0, 0, 0, 0, 0, 0, 0, 0, 0, 0, 0, 0, 0, 0, 0, ...  0.300171      True  \n",
       "2   [0, 0, 0, 0, 0, 0, 0, 0, 0, 0, 0, 0, 0, 0, 0, ...  0.301301      True  \n",
       "1   [0, 0, 0, 0, 0, 0, 0, 0, 0, 0, 0, 0, 0, 0, 0, ...  0.301738      True  \n",
       "0   [0, 0, 0, 0, 0, 0, 0, 0, 0, 0, 0, 0, 0, 0, 0, ...  0.301839      True  \n",
       "7   [0, 0, 0, 0, 0, 0, 0, 0, 0, 0, 0, 0, 0, 0, 0, ...  0.296094      True  \n",
       "12  [1, 1, 1, 1, 1, 1, 1, 1, 1, 1, 1, 1, 1, 1, 1, ...  0.290187      True  \n",
       "11  [22, 22, 22, 22, 22, 22, 22, 22, 22, 22, 22, 2...  0.290363      True  \n",
       "13  [0, 0, 0, 0, 0, 0, 0, 0, 0, 0, 0, 0, 0, 0, 0, ...  0.289436      True  \n",
       "10  [26, 26, 26, 26, 26, 26, 26, 26, 26, 0, 26, 26...  0.290392      True  \n",
       "8   [30, 30, 30, 30, 30, 30, 30, 30, 30, 35, 30, 3...  0.292446      True  \n",
       "9   [33, 33, 33, 33, 33, 33, 33, 33, 33, 0, 33, 33...  0.290730      True  \n",
       "14  [34, 34, 34, 34, 34, 34, 34, 34, 34, 18, 34, 3...  0.289303      True  "
      ]
     },
     "execution_count": 23,
     "metadata": {},
     "output_type": "execute_result"
    }
   ],
   "source": [
    "# this list shows the selected final partitions, and which methods achieved the highest agreement\n",
    "plot_data[plot_data[\"selected\"]].sort_values(\"k\")"
   ]
  },
  {
   "cell_type": "markdown",
   "metadata": {
    "papermill": {
     "duration": 0.019002,
     "end_time": "2021-02-24T15:06:05.609113",
     "exception": false,
     "start_time": "2021-02-24T15:06:05.590111",
     "status": "completed"
    },
    "tags": []
   },
   "source": [
    "Evidence accumulation approaches (EAC) based on hierarchical clustering (such as `eac_average_coassoc_matrix` and `eac_single_coassoc_matrix`) pick the best partitions for lower `k` values, whereas spectral clustering does it better for all the rest."
   ]
  },
  {
   "cell_type": "code",
   "execution_count": null,
   "metadata": {
    "papermill": {
     "duration": 0.018874,
     "end_time": "2021-02-24T15:06:05.648175",
     "exception": false,
     "start_time": "2021-02-24T15:06:05.629301",
     "status": "completed"
    },
    "tags": []
   },
   "outputs": [],
   "source": []
  }
 ],
 "metadata": {
  "jupytext": {
   "cell_metadata_filter": "all,-execution,-papermill,-trusted",
   "formats": "ipynb,py//py:percent"
  },
  "kernelspec": {
   "display_name": "Python 3",
   "language": "python",
   "name": "python3"
  },
  "language_info": {
   "codemirror_mode": {
    "name": "ipython",
    "version": 3
   },
   "file_extension": ".py",
   "mimetype": "text/x-python",
   "name": "python",
   "nbconvert_exporter": "python",
   "pygments_lexer": "ipython3",
   "version": "3.8.6"
  },
  "papermill": {
   "default_parameters": {},
   "duration": 6.777519,
   "end_time": "2021-02-24T15:06:06.074349",
   "environment_variables": {},
   "exception": null,
   "input_path": "16_consensus_clustering/030_01-get_best_partitions.ipynb",
   "output_path": "16_consensus_clustering/030_01-get_best_partitions.run.ipynb",
   "parameters": {},
   "start_time": "2021-02-24T15:05:59.296830",
   "version": "2.2.2"
  },
  "toc-autonumbering": true,
  "toc-showcode": false,
  "toc-showmarkdowntxt": false,
  "toc-showtags": false
 },
 "nbformat": 4,
 "nbformat_minor": 4
}
