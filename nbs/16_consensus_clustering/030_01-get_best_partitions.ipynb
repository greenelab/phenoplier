{
 "cells": [
  {
   "cell_type": "markdown",
   "metadata": {
    "papermill": {
     "duration": 0.044843,
     "end_time": "2021-03-11T05:12:51.376082",
     "exception": false,
     "start_time": "2021-03-11T05:12:51.331239",
     "status": "completed"
    },
    "tags": []
   },
   "source": [
    "# Description"
   ]
  },
  {
   "cell_type": "markdown",
   "metadata": {
    "papermill": {
     "duration": 0.010911,
     "end_time": "2021-03-11T05:12:51.402214",
     "exception": false,
     "start_time": "2021-03-11T05:12:51.391303",
     "status": "completed"
    },
    "tags": []
   },
   "source": [
    "It analyzes how consensus partitions generated before agree with the ensemble, and selects the best ones for downstream analyses."
   ]
  },
  {
   "cell_type": "markdown",
   "metadata": {
    "papermill": {
     "duration": 0.010634,
     "end_time": "2021-03-11T05:12:51.423598",
     "exception": false,
     "start_time": "2021-03-11T05:12:51.412964",
     "status": "completed"
    },
    "tags": []
   },
   "source": [
    "# Modules loading"
   ]
  },
  {
   "cell_type": "code",
   "execution_count": 1,
   "metadata": {
    "execution": {
     "iopub.execute_input": "2021-03-11T05:12:51.450629Z",
     "iopub.status.busy": "2021-03-11T05:12:51.450262Z",
     "iopub.status.idle": "2021-03-11T05:12:51.457936Z",
     "shell.execute_reply": "2021-03-11T05:12:51.457503Z"
    },
    "papermill": {
     "duration": 0.023848,
     "end_time": "2021-03-11T05:12:51.458035",
     "exception": false,
     "start_time": "2021-03-11T05:12:51.434187",
     "status": "completed"
    },
    "tags": []
   },
   "outputs": [],
   "source": [
    "%load_ext autoreload\n",
    "%autoreload 2"
   ]
  },
  {
   "cell_type": "code",
   "execution_count": 2,
   "metadata": {
    "execution": {
     "iopub.execute_input": "2021-03-11T05:12:51.482977Z",
     "iopub.status.busy": "2021-03-11T05:12:51.482606Z",
     "iopub.status.idle": "2021-03-11T05:12:52.050928Z",
     "shell.execute_reply": "2021-03-11T05:12:52.051312Z"
    },
    "papermill": {
     "duration": 0.58191,
     "end_time": "2021-03-11T05:12:52.051440",
     "exception": false,
     "start_time": "2021-03-11T05:12:51.469530",
     "status": "completed"
    },
    "tags": []
   },
   "outputs": [],
   "source": [
    "from pathlib import Path\n",
    "from IPython.display import display\n",
    "\n",
    "import pandas as pd\n",
    "import matplotlib.pyplot as plt\n",
    "import seaborn as sns\n",
    "\n",
    "import conf"
   ]
  },
  {
   "cell_type": "markdown",
   "metadata": {
    "papermill": {
     "duration": 0.013003,
     "end_time": "2021-03-11T05:12:52.078523",
     "exception": false,
     "start_time": "2021-03-11T05:12:52.065520",
     "status": "completed"
    },
    "tags": []
   },
   "source": [
    "# Load consensus clustering results"
   ]
  },
  {
   "cell_type": "code",
   "execution_count": 3,
   "metadata": {
    "execution": {
     "iopub.execute_input": "2021-03-11T05:12:52.103673Z",
     "iopub.status.busy": "2021-03-11T05:12:52.103315Z",
     "iopub.status.idle": "2021-03-11T05:12:52.114761Z",
     "shell.execute_reply": "2021-03-11T05:12:52.114380Z"
    },
    "papermill": {
     "duration": 0.024661,
     "end_time": "2021-03-11T05:12:52.114847",
     "exception": false,
     "start_time": "2021-03-11T05:12:52.090186",
     "status": "completed"
    },
    "tags": []
   },
   "outputs": [
    {
     "data": {
      "text/plain": [
       "PosixPath('/home/miltondp/projects/labs/greenelab/phenoplier/base/results/clustering/consensus_clustering')"
      ]
     },
     "metadata": {},
     "output_type": "display_data"
    }
   ],
   "source": [
    "CONSENSUS_CLUSTERING_DIR = Path(\n",
    "    conf.RESULTS[\"CLUSTERING_DIR\"], \"consensus_clustering\"\n",
    ").resolve()\n",
    "\n",
    "display(CONSENSUS_CLUSTERING_DIR)"
   ]
  },
  {
   "cell_type": "code",
   "execution_count": 4,
   "metadata": {
    "execution": {
     "iopub.execute_input": "2021-03-11T05:12:52.139757Z",
     "iopub.status.busy": "2021-03-11T05:12:52.139393Z",
     "iopub.status.idle": "2021-03-11T05:12:52.149249Z",
     "shell.execute_reply": "2021-03-11T05:12:52.148923Z"
    },
    "papermill": {
     "duration": 0.022851,
     "end_time": "2021-03-11T05:12:52.149335",
     "exception": false,
     "start_time": "2021-03-11T05:12:52.126484",
     "status": "completed"
    },
    "tags": []
   },
   "outputs": [
    {
     "data": {
      "text/plain": [
       "PosixPath('/home/miltondp/projects/labs/greenelab/phenoplier/base/results/clustering/consensus_clustering/consensus_clustering_runs.pkl')"
      ]
     },
     "metadata": {},
     "output_type": "display_data"
    }
   ],
   "source": [
    "input_file = Path(CONSENSUS_CLUSTERING_DIR, \"consensus_clustering_runs.pkl\").resolve()\n",
    "display(input_file)"
   ]
  },
  {
   "cell_type": "code",
   "execution_count": 5,
   "metadata": {
    "execution": {
     "iopub.execute_input": "2021-03-11T05:12:52.174591Z",
     "iopub.status.busy": "2021-03-11T05:12:52.174232Z",
     "iopub.status.idle": "2021-03-11T05:12:52.190575Z",
     "shell.execute_reply": "2021-03-11T05:12:52.190216Z"
    },
    "papermill": {
     "duration": 0.029569,
     "end_time": "2021-03-11T05:12:52.190664",
     "exception": false,
     "start_time": "2021-03-11T05:12:52.161095",
     "status": "completed"
    },
    "tags": []
   },
   "outputs": [],
   "source": [
    "consensus_clustering_results = pd.read_pickle(input_file)"
   ]
  },
  {
   "cell_type": "code",
   "execution_count": 6,
   "metadata": {
    "execution": {
     "iopub.execute_input": "2021-03-11T05:12:52.217677Z",
     "iopub.status.busy": "2021-03-11T05:12:52.217281Z",
     "iopub.status.idle": "2021-03-11T05:12:52.227498Z",
     "shell.execute_reply": "2021-03-11T05:12:52.227165Z"
    },
    "papermill": {
     "duration": 0.024456,
     "end_time": "2021-03-11T05:12:52.227586",
     "exception": false,
     "start_time": "2021-03-11T05:12:52.203130",
     "status": "completed"
    },
    "tags": []
   },
   "outputs": [
    {
     "data": {
      "text/plain": [
       "(413, 12)"
      ]
     },
     "execution_count": 6,
     "metadata": {},
     "output_type": "execute_result"
    }
   ],
   "source": [
    "consensus_clustering_results.shape"
   ]
  },
  {
   "cell_type": "code",
   "execution_count": 7,
   "metadata": {
    "execution": {
     "iopub.execute_input": "2021-03-11T05:12:52.253326Z",
     "iopub.status.busy": "2021-03-11T05:12:52.252959Z",
     "iopub.status.idle": "2021-03-11T05:12:52.275579Z",
     "shell.execute_reply": "2021-03-11T05:12:52.275251Z"
    },
    "papermill": {
     "duration": 0.036,
     "end_time": "2021-03-11T05:12:52.275667",
     "exception": false,
     "start_time": "2021-03-11T05:12:52.239667",
     "status": "completed"
    },
    "tags": []
   },
   "outputs": [
    {
     "data": {
      "text/html": [
       "<div>\n",
       "<style scoped>\n",
       "    .dataframe tbody tr th:only-of-type {\n",
       "        vertical-align: middle;\n",
       "    }\n",
       "\n",
       "    .dataframe tbody tr th {\n",
       "        vertical-align: top;\n",
       "    }\n",
       "\n",
       "    .dataframe thead th {\n",
       "        text-align: right;\n",
       "    }\n",
       "</style>\n",
       "<table border=\"1\" class=\"dataframe\">\n",
       "  <thead>\n",
       "    <tr style=\"text-align: right;\">\n",
       "      <th></th>\n",
       "      <th>method</th>\n",
       "      <th>partition</th>\n",
       "      <th>k</th>\n",
       "      <th>ari_mean</th>\n",
       "      <th>ari_median</th>\n",
       "      <th>ari_std</th>\n",
       "      <th>ami_mean</th>\n",
       "      <th>ami_median</th>\n",
       "      <th>ami_std</th>\n",
       "      <th>nmi_mean</th>\n",
       "      <th>nmi_median</th>\n",
       "      <th>nmi_std</th>\n",
       "    </tr>\n",
       "  </thead>\n",
       "  <tbody>\n",
       "    <tr>\n",
       "      <th>0</th>\n",
       "      <td>scc_030</td>\n",
       "      <td>[0, 0, 0, 0, 0, 0, 0, 0, 0, 0, 0, 0, 0, 0, 0, ...</td>\n",
       "      <td>2</td>\n",
       "      <td>0.170172</td>\n",
       "      <td>0.016107</td>\n",
       "      <td>0.280429</td>\n",
       "      <td>0.182083</td>\n",
       "      <td>0.073948</td>\n",
       "      <td>0.241458</td>\n",
       "      <td>0.184787</td>\n",
       "      <td>0.076497</td>\n",
       "      <td>0.240941</td>\n",
       "    </tr>\n",
       "    <tr>\n",
       "      <th>1</th>\n",
       "      <td>scc_030</td>\n",
       "      <td>[0, 0, 0, 0, 0, 0, 0, 0, 0, 0, 0, 0, 0, 0, 0, ...</td>\n",
       "      <td>3</td>\n",
       "      <td>0.170593</td>\n",
       "      <td>0.016107</td>\n",
       "      <td>0.280689</td>\n",
       "      <td>0.198427</td>\n",
       "      <td>0.080792</td>\n",
       "      <td>0.247718</td>\n",
       "      <td>0.202181</td>\n",
       "      <td>0.083653</td>\n",
       "      <td>0.246786</td>\n",
       "    </tr>\n",
       "    <tr>\n",
       "      <th>2</th>\n",
       "      <td>scc_030</td>\n",
       "      <td>[0, 0, 0, 0, 0, 0, 0, 0, 3, 0, 3, 3, 0, 3, 0, ...</td>\n",
       "      <td>4</td>\n",
       "      <td>0.162009</td>\n",
       "      <td>0.086061</td>\n",
       "      <td>0.197582</td>\n",
       "      <td>0.227147</td>\n",
       "      <td>0.204954</td>\n",
       "      <td>0.145220</td>\n",
       "      <td>0.232457</td>\n",
       "      <td>0.211766</td>\n",
       "      <td>0.145033</td>\n",
       "    </tr>\n",
       "    <tr>\n",
       "      <th>3</th>\n",
       "      <td>scc_030</td>\n",
       "      <td>[1, 1, 1, 1, 1, 1, 1, 1, 4, 1, 4, 4, 1, 1, 1, ...</td>\n",
       "      <td>5</td>\n",
       "      <td>0.163732</td>\n",
       "      <td>0.087616</td>\n",
       "      <td>0.198028</td>\n",
       "      <td>0.238870</td>\n",
       "      <td>0.217941</td>\n",
       "      <td>0.145885</td>\n",
       "      <td>0.244974</td>\n",
       "      <td>0.225387</td>\n",
       "      <td>0.145597</td>\n",
       "    </tr>\n",
       "    <tr>\n",
       "      <th>4</th>\n",
       "      <td>scc_030</td>\n",
       "      <td>[0, 0, 0, 0, 0, 0, 0, 0, 5, 0, 5, 5, 0, 5, 0, ...</td>\n",
       "      <td>6</td>\n",
       "      <td>0.164568</td>\n",
       "      <td>0.088147</td>\n",
       "      <td>0.199509</td>\n",
       "      <td>0.250476</td>\n",
       "      <td>0.231739</td>\n",
       "      <td>0.150811</td>\n",
       "      <td>0.257361</td>\n",
       "      <td>0.238495</td>\n",
       "      <td>0.150334</td>\n",
       "    </tr>\n",
       "  </tbody>\n",
       "</table>\n",
       "</div>"
      ],
      "text/plain": [
       "    method                                          partition  k  ari_mean  \\\n",
       "0  scc_030  [0, 0, 0, 0, 0, 0, 0, 0, 0, 0, 0, 0, 0, 0, 0, ...  2  0.170172   \n",
       "1  scc_030  [0, 0, 0, 0, 0, 0, 0, 0, 0, 0, 0, 0, 0, 0, 0, ...  3  0.170593   \n",
       "2  scc_030  [0, 0, 0, 0, 0, 0, 0, 0, 3, 0, 3, 3, 0, 3, 0, ...  4  0.162009   \n",
       "3  scc_030  [1, 1, 1, 1, 1, 1, 1, 1, 4, 1, 4, 4, 1, 1, 1, ...  5  0.163732   \n",
       "4  scc_030  [0, 0, 0, 0, 0, 0, 0, 0, 5, 0, 5, 5, 0, 5, 0, ...  6  0.164568   \n",
       "\n",
       "   ari_median   ari_std  ami_mean  ami_median   ami_std  nmi_mean  nmi_median  \\\n",
       "0    0.016107  0.280429  0.182083    0.073948  0.241458  0.184787    0.076497   \n",
       "1    0.016107  0.280689  0.198427    0.080792  0.247718  0.202181    0.083653   \n",
       "2    0.086061  0.197582  0.227147    0.204954  0.145220  0.232457    0.211766   \n",
       "3    0.087616  0.198028  0.238870    0.217941  0.145885  0.244974    0.225387   \n",
       "4    0.088147  0.199509  0.250476    0.231739  0.150811  0.257361    0.238495   \n",
       "\n",
       "    nmi_std  \n",
       "0  0.240941  \n",
       "1  0.246786  \n",
       "2  0.145033  \n",
       "3  0.145597  \n",
       "4  0.150334  "
      ]
     },
     "execution_count": 7,
     "metadata": {},
     "output_type": "execute_result"
    }
   ],
   "source": [
    "consensus_clustering_results.head()"
   ]
  },
  {
   "cell_type": "markdown",
   "metadata": {
    "papermill": {
     "duration": 0.011336,
     "end_time": "2021-03-11T05:12:52.299515",
     "exception": false,
     "start_time": "2021-03-11T05:12:52.288179",
     "status": "completed"
    },
    "tags": []
   },
   "source": [
    "# Explore best partition per k"
   ]
  },
  {
   "cell_type": "code",
   "execution_count": 8,
   "metadata": {
    "execution": {
     "iopub.execute_input": "2021-03-11T05:12:52.325430Z",
     "iopub.status.busy": "2021-03-11T05:12:52.325054Z",
     "iopub.status.idle": "2021-03-11T05:12:52.375590Z",
     "shell.execute_reply": "2021-03-11T05:12:52.375219Z"
    },
    "papermill": {
     "duration": 0.064796,
     "end_time": "2021-03-11T05:12:52.375675",
     "exception": false,
     "start_time": "2021-03-11T05:12:52.310879",
     "status": "completed"
    },
    "tags": []
   },
   "outputs": [
    {
     "data": {
      "text/html": [
       "<div>\n",
       "<style scoped>\n",
       "    .dataframe tbody tr th:only-of-type {\n",
       "        vertical-align: middle;\n",
       "    }\n",
       "\n",
       "    .dataframe tbody tr th {\n",
       "        vertical-align: top;\n",
       "    }\n",
       "\n",
       "    .dataframe thead th {\n",
       "        text-align: right;\n",
       "    }\n",
       "</style>\n",
       "<table border=\"1\" class=\"dataframe\">\n",
       "  <thead>\n",
       "    <tr style=\"text-align: right;\">\n",
       "      <th></th>\n",
       "      <th></th>\n",
       "      <th>method</th>\n",
       "      <th>k</th>\n",
       "      <th>ami_mean</th>\n",
       "      <th>ami_median</th>\n",
       "    </tr>\n",
       "    <tr>\n",
       "      <th>k</th>\n",
       "      <th></th>\n",
       "      <th></th>\n",
       "      <th></th>\n",
       "      <th></th>\n",
       "      <th></th>\n",
       "    </tr>\n",
       "  </thead>\n",
       "  <tbody>\n",
       "    <tr>\n",
       "      <th>42</th>\n",
       "      <th>394</th>\n",
       "      <td>eac_average_coassoc_matrix</td>\n",
       "      <td>42</td>\n",
       "      <td>0.286678</td>\n",
       "      <td>0.235437</td>\n",
       "    </tr>\n",
       "    <tr>\n",
       "      <th>41</th>\n",
       "      <th>393</th>\n",
       "      <td>eac_average_coassoc_matrix</td>\n",
       "      <td>41</td>\n",
       "      <td>0.286357</td>\n",
       "      <td>0.234567</td>\n",
       "    </tr>\n",
       "    <tr>\n",
       "      <th>40</th>\n",
       "      <th>392</th>\n",
       "      <td>eac_average_coassoc_matrix</td>\n",
       "      <td>40</td>\n",
       "      <td>0.286107</td>\n",
       "      <td>0.236326</td>\n",
       "    </tr>\n",
       "    <tr>\n",
       "      <th>48</th>\n",
       "      <th>400</th>\n",
       "      <td>eac_average_coassoc_matrix</td>\n",
       "      <td>48</td>\n",
       "      <td>0.286006</td>\n",
       "      <td>0.220101</td>\n",
       "    </tr>\n",
       "    <tr>\n",
       "      <th>17</th>\n",
       "      <th>192</th>\n",
       "      <td>scc_020</td>\n",
       "      <td>17</td>\n",
       "      <td>0.285774</td>\n",
       "      <td>0.207419</td>\n",
       "    </tr>\n",
       "    <tr>\n",
       "      <th>47</th>\n",
       "      <th>399</th>\n",
       "      <td>eac_average_coassoc_matrix</td>\n",
       "      <td>47</td>\n",
       "      <td>0.285558</td>\n",
       "      <td>0.220016</td>\n",
       "    </tr>\n",
       "    <tr>\n",
       "      <th>45</th>\n",
       "      <th>397</th>\n",
       "      <td>eac_average_coassoc_matrix</td>\n",
       "      <td>45</td>\n",
       "      <td>0.285463</td>\n",
       "      <td>0.227382</td>\n",
       "    </tr>\n",
       "    <tr>\n",
       "      <th>46</th>\n",
       "      <th>398</th>\n",
       "      <td>eac_average_coassoc_matrix</td>\n",
       "      <td>46</td>\n",
       "      <td>0.285450</td>\n",
       "      <td>0.227324</td>\n",
       "    </tr>\n",
       "    <tr>\n",
       "      <th>44</th>\n",
       "      <th>396</th>\n",
       "      <td>eac_average_coassoc_matrix</td>\n",
       "      <td>44</td>\n",
       "      <td>0.285375</td>\n",
       "      <td>0.227054</td>\n",
       "    </tr>\n",
       "    <tr>\n",
       "      <th>43</th>\n",
       "      <th>395</th>\n",
       "      <td>eac_average_coassoc_matrix</td>\n",
       "      <td>43</td>\n",
       "      <td>0.285371</td>\n",
       "      <td>0.227166</td>\n",
       "    </tr>\n",
       "  </tbody>\n",
       "</table>\n",
       "</div>"
      ],
      "text/plain": [
       "                            method   k  ami_mean  ami_median\n",
       "k                                                           \n",
       "42 394  eac_average_coassoc_matrix  42  0.286678    0.235437\n",
       "41 393  eac_average_coassoc_matrix  41  0.286357    0.234567\n",
       "40 392  eac_average_coassoc_matrix  40  0.286107    0.236326\n",
       "48 400  eac_average_coassoc_matrix  48  0.286006    0.220101\n",
       "17 192                     scc_020  17  0.285774    0.207419\n",
       "47 399  eac_average_coassoc_matrix  47  0.285558    0.220016\n",
       "45 397  eac_average_coassoc_matrix  45  0.285463    0.227382\n",
       "46 398  eac_average_coassoc_matrix  46  0.285450    0.227324\n",
       "44 396  eac_average_coassoc_matrix  44  0.285375    0.227054\n",
       "43 395  eac_average_coassoc_matrix  43  0.285371    0.227166"
      ]
     },
     "metadata": {},
     "output_type": "display_data"
    }
   ],
   "source": [
    "_col0, _col1 = \"ami_mean\", \"ami_median\"\n",
    "\n",
    "_tmp = (\n",
    "    consensus_clustering_results.groupby(\"k\")\n",
    "    .apply(lambda x: x.sort_values(_col0, ascending=False).head(1))\n",
    "    .sort_values(_col0, ascending=False)[[\"method\", \"k\", _col0, _col1]]\n",
    ")\n",
    "display(_tmp.head(10))"
   ]
  },
  {
   "cell_type": "code",
   "execution_count": 9,
   "metadata": {
    "execution": {
     "iopub.execute_input": "2021-03-11T05:12:52.403709Z",
     "iopub.status.busy": "2021-03-11T05:12:52.403339Z",
     "iopub.status.idle": "2021-03-11T05:12:54.199633Z",
     "shell.execute_reply": "2021-03-11T05:12:54.199260Z"
    },
    "papermill": {
     "duration": 1.811693,
     "end_time": "2021-03-11T05:12:54.199720",
     "exception": false,
     "start_time": "2021-03-11T05:12:52.388027",
     "status": "completed"
    },
    "tags": []
   },
   "outputs": [
    {
     "data": {
      "image/png": "[encoded data removed]",
      "text/plain": [
       "<Figure size 864x432 with 1 Axes>"
      ]
     },
     "metadata": {},
     "output_type": "display_data"
    }
   ],
   "source": [
    "with sns.plotting_context(\"talk\", font_scale=0.75), sns.axes_style(\n",
    "    \"whitegrid\", {\"grid.linestyle\": \"--\"}\n",
    "):\n",
    "    fig, ax = plt.subplots(figsize=(12, 6))\n",
    "    ax = sns.pointplot(data=_tmp, x=\"k\", y=_col0, ci=None, label=\"One\")\n",
    "    ax = sns.pointplot(\n",
    "        data=_tmp, x=\"k\", y=_col1, ci=None, color=\"red\", label=\"Two\", ax=ax\n",
    "    )\n",
    "    ax.set_ylabel(\"Agreement with ensemble (AMI)\")\n",
    "    ax.set_xlabel(\"Number of clusters ($k$)\")\n",
    "    ax.set_xticklabels(ax.get_xticklabels(), rotation=45)\n",
    "    plt.legend(labels=[\"Mean\", \"Median\"])\n",
    "    plt.grid(True)\n",
    "    plt.tight_layout()"
   ]
  },
  {
   "cell_type": "markdown",
   "metadata": {
    "papermill": {
     "duration": 0.013611,
     "end_time": "2021-03-11T05:12:54.227728",
     "exception": false,
     "start_time": "2021-03-11T05:12:54.214117",
     "status": "completed"
    },
    "tags": []
   },
   "source": [
    "# Select best partition per k"
   ]
  },
  {
   "cell_type": "code",
   "execution_count": 10,
   "metadata": {
    "execution": {
     "iopub.execute_input": "2021-03-11T05:12:54.257914Z",
     "iopub.status.busy": "2021-03-11T05:12:54.257553Z",
     "iopub.status.idle": "2021-03-11T05:12:54.302690Z",
     "shell.execute_reply": "2021-03-11T05:12:54.302317Z"
    },
    "papermill": {
     "duration": 0.061313,
     "end_time": "2021-03-11T05:12:54.302775",
     "exception": false,
     "start_time": "2021-03-11T05:12:54.241462",
     "status": "completed"
    },
    "tags": []
   },
   "outputs": [],
   "source": [
    "_measure_col = \"ami_mean\"\n",
    "\n",
    "best_parts = (\n",
    "    consensus_clustering_results.groupby(\"k\")\n",
    "    .apply(lambda x: x.sort_values(_measure_col, ascending=False).head(1))\n",
    "    .sort_values(_measure_col, ascending=False)[\n",
    "        [\"method\", \"k\", \"partition\", _measure_col]\n",
    "    ]\n",
    ")"
   ]
  },
  {
   "cell_type": "code",
   "execution_count": 11,
   "metadata": {
    "execution": {
     "iopub.execute_input": "2021-03-11T05:12:54.333267Z",
     "iopub.status.busy": "2021-03-11T05:12:54.332883Z",
     "iopub.status.idle": "2021-03-11T05:12:54.342918Z",
     "shell.execute_reply": "2021-03-11T05:12:54.342559Z"
    },
    "papermill": {
     "duration": 0.026182,
     "end_time": "2021-03-11T05:12:54.343001",
     "exception": false,
     "start_time": "2021-03-11T05:12:54.316819",
     "status": "completed"
    },
    "tags": []
   },
   "outputs": [],
   "source": [
    "best_parts = best_parts.set_index(\"k\")"
   ]
  },
  {
   "cell_type": "code",
   "execution_count": 12,
   "metadata": {
    "execution": {
     "iopub.execute_input": "2021-03-11T05:12:54.372661Z",
     "iopub.status.busy": "2021-03-11T05:12:54.372304Z",
     "iopub.status.idle": "2021-03-11T05:12:54.382349Z",
     "shell.execute_reply": "2021-03-11T05:12:54.381978Z"
    },
    "papermill": {
     "duration": 0.025749,
     "end_time": "2021-03-11T05:12:54.382435",
     "exception": false,
     "start_time": "2021-03-11T05:12:54.356686",
     "status": "completed"
    },
    "tags": []
   },
   "outputs": [
    {
     "data": {
      "text/plain": [
       "(59, 3)"
      ]
     },
     "execution_count": 12,
     "metadata": {},
     "output_type": "execute_result"
    }
   ],
   "source": [
    "best_parts.shape"
   ]
  },
  {
   "cell_type": "code",
   "execution_count": 13,
   "metadata": {
    "execution": {
     "iopub.execute_input": "2021-03-11T05:12:54.413586Z",
     "iopub.status.busy": "2021-03-11T05:12:54.413219Z",
     "iopub.status.idle": "2021-03-11T05:12:54.434844Z",
     "shell.execute_reply": "2021-03-11T05:12:54.434485Z"
    },
    "papermill": {
     "duration": 0.03796,
     "end_time": "2021-03-11T05:12:54.434928",
     "exception": false,
     "start_time": "2021-03-11T05:12:54.396968",
     "status": "completed"
    },
    "tags": []
   },
   "outputs": [
    {
     "data": {
      "text/html": [
       "<div>\n",
       "<style scoped>\n",
       "    .dataframe tbody tr th:only-of-type {\n",
       "        vertical-align: middle;\n",
       "    }\n",
       "\n",
       "    .dataframe tbody tr th {\n",
       "        vertical-align: top;\n",
       "    }\n",
       "\n",
       "    .dataframe thead th {\n",
       "        text-align: right;\n",
       "    }\n",
       "</style>\n",
       "<table border=\"1\" class=\"dataframe\">\n",
       "  <thead>\n",
       "    <tr style=\"text-align: right;\">\n",
       "      <th></th>\n",
       "      <th>method</th>\n",
       "      <th>partition</th>\n",
       "      <th>ami_mean</th>\n",
       "    </tr>\n",
       "    <tr>\n",
       "      <th>k</th>\n",
       "      <th></th>\n",
       "      <th></th>\n",
       "      <th></th>\n",
       "    </tr>\n",
       "  </thead>\n",
       "  <tbody>\n",
       "    <tr>\n",
       "      <th>42</th>\n",
       "      <td>eac_average_coassoc_matrix</td>\n",
       "      <td>[25, 25, 25, 25, 25, 25, 25, 25, 25, 11, 25, 2...</td>\n",
       "      <td>0.286678</td>\n",
       "    </tr>\n",
       "    <tr>\n",
       "      <th>41</th>\n",
       "      <td>eac_average_coassoc_matrix</td>\n",
       "      <td>[25, 25, 25, 25, 25, 25, 25, 25, 25, 11, 25, 2...</td>\n",
       "      <td>0.286357</td>\n",
       "    </tr>\n",
       "    <tr>\n",
       "      <th>40</th>\n",
       "      <td>eac_average_coassoc_matrix</td>\n",
       "      <td>[25, 25, 25, 25, 25, 25, 25, 25, 25, 0, 25, 25...</td>\n",
       "      <td>0.286107</td>\n",
       "    </tr>\n",
       "    <tr>\n",
       "      <th>48</th>\n",
       "      <td>eac_average_coassoc_matrix</td>\n",
       "      <td>[25, 25, 25, 25, 25, 25, 25, 25, 25, 6, 25, 25...</td>\n",
       "      <td>0.286006</td>\n",
       "    </tr>\n",
       "    <tr>\n",
       "      <th>17</th>\n",
       "      <td>scc_020</td>\n",
       "      <td>[1, 1, 1, 1, 1, 1, 1, 1, 1, 1, 1, 1, 1, 1, 1, ...</td>\n",
       "      <td>0.285774</td>\n",
       "    </tr>\n",
       "    <tr>\n",
       "      <th>47</th>\n",
       "      <td>eac_average_coassoc_matrix</td>\n",
       "      <td>[25, 25, 25, 25, 25, 25, 25, 25, 25, 6, 25, 25...</td>\n",
       "      <td>0.285558</td>\n",
       "    </tr>\n",
       "    <tr>\n",
       "      <th>45</th>\n",
       "      <td>eac_average_coassoc_matrix</td>\n",
       "      <td>[25, 25, 25, 25, 25, 25, 25, 25, 25, 2, 25, 25...</td>\n",
       "      <td>0.285463</td>\n",
       "    </tr>\n",
       "    <tr>\n",
       "      <th>46</th>\n",
       "      <td>eac_average_coassoc_matrix</td>\n",
       "      <td>[25, 25, 25, 25, 25, 25, 25, 25, 25, 0, 25, 25...</td>\n",
       "      <td>0.285450</td>\n",
       "    </tr>\n",
       "    <tr>\n",
       "      <th>44</th>\n",
       "      <td>eac_average_coassoc_matrix</td>\n",
       "      <td>[25, 25, 25, 25, 25, 25, 25, 25, 25, 5, 25, 25...</td>\n",
       "      <td>0.285375</td>\n",
       "    </tr>\n",
       "    <tr>\n",
       "      <th>43</th>\n",
       "      <td>eac_average_coassoc_matrix</td>\n",
       "      <td>[25, 25, 25, 25, 25, 25, 25, 25, 25, 5, 25, 25...</td>\n",
       "      <td>0.285371</td>\n",
       "    </tr>\n",
       "  </tbody>\n",
       "</table>\n",
       "</div>"
      ],
      "text/plain": [
       "                        method  \\\n",
       "k                                \n",
       "42  eac_average_coassoc_matrix   \n",
       "41  eac_average_coassoc_matrix   \n",
       "40  eac_average_coassoc_matrix   \n",
       "48  eac_average_coassoc_matrix   \n",
       "17                     scc_020   \n",
       "47  eac_average_coassoc_matrix   \n",
       "45  eac_average_coassoc_matrix   \n",
       "46  eac_average_coassoc_matrix   \n",
       "44  eac_average_coassoc_matrix   \n",
       "43  eac_average_coassoc_matrix   \n",
       "\n",
       "                                            partition  ami_mean  \n",
       "k                                                                \n",
       "42  [25, 25, 25, 25, 25, 25, 25, 25, 25, 11, 25, 2...  0.286678  \n",
       "41  [25, 25, 25, 25, 25, 25, 25, 25, 25, 11, 25, 2...  0.286357  \n",
       "40  [25, 25, 25, 25, 25, 25, 25, 25, 25, 0, 25, 25...  0.286107  \n",
       "48  [25, 25, 25, 25, 25, 25, 25, 25, 25, 6, 25, 25...  0.286006  \n",
       "17  [1, 1, 1, 1, 1, 1, 1, 1, 1, 1, 1, 1, 1, 1, 1, ...  0.285774  \n",
       "47  [25, 25, 25, 25, 25, 25, 25, 25, 25, 6, 25, 25...  0.285558  \n",
       "45  [25, 25, 25, 25, 25, 25, 25, 25, 25, 2, 25, 25...  0.285463  \n",
       "46  [25, 25, 25, 25, 25, 25, 25, 25, 25, 0, 25, 25...  0.285450  \n",
       "44  [25, 25, 25, 25, 25, 25, 25, 25, 25, 5, 25, 25...  0.285375  \n",
       "43  [25, 25, 25, 25, 25, 25, 25, 25, 25, 5, 25, 25...  0.285371  "
      ]
     },
     "execution_count": 13,
     "metadata": {},
     "output_type": "execute_result"
    }
   ],
   "source": [
    "# show partitions with top ARI\n",
    "best_parts.head(10)"
   ]
  },
  {
   "cell_type": "code",
   "execution_count": 14,
   "metadata": {
    "execution": {
     "iopub.execute_input": "2021-03-11T05:12:54.466156Z",
     "iopub.status.busy": "2021-03-11T05:12:54.465787Z",
     "iopub.status.idle": "2021-03-11T05:12:54.531233Z",
     "shell.execute_reply": "2021-03-11T05:12:54.530871Z"
    },
    "papermill": {
     "duration": 0.081956,
     "end_time": "2021-03-11T05:12:54.531317",
     "exception": false,
     "start_time": "2021-03-11T05:12:54.449361",
     "status": "completed"
    },
    "tags": []
   },
   "outputs": [
    {
     "data": {
      "text/html": [
       "<div>\n",
       "<style scoped>\n",
       "    .dataframe tbody tr th:only-of-type {\n",
       "        vertical-align: middle;\n",
       "    }\n",
       "\n",
       "    .dataframe tbody tr th {\n",
       "        vertical-align: top;\n",
       "    }\n",
       "\n",
       "    .dataframe thead th {\n",
       "        text-align: right;\n",
       "    }\n",
       "</style>\n",
       "<table border=\"1\" class=\"dataframe\">\n",
       "  <thead>\n",
       "    <tr style=\"text-align: right;\">\n",
       "      <th></th>\n",
       "      <th>method</th>\n",
       "      <th>partition</th>\n",
       "      <th>ami_mean</th>\n",
       "    </tr>\n",
       "    <tr>\n",
       "      <th>k</th>\n",
       "      <th></th>\n",
       "      <th></th>\n",
       "      <th></th>\n",
       "    </tr>\n",
       "  </thead>\n",
       "  <tbody>\n",
       "    <tr>\n",
       "      <th>2</th>\n",
       "      <td>scc_030</td>\n",
       "      <td>[0, 0, 0, 0, 0, 0, 0, 0, 0, 0, 0, 0, 0, 0, 0, ...</td>\n",
       "      <td>0.182083</td>\n",
       "    </tr>\n",
       "    <tr>\n",
       "      <th>3</th>\n",
       "      <td>scc_030</td>\n",
       "      <td>[0, 0, 0, 0, 0, 0, 0, 0, 0, 0, 0, 0, 0, 0, 0, ...</td>\n",
       "      <td>0.198427</td>\n",
       "    </tr>\n",
       "    <tr>\n",
       "      <th>4</th>\n",
       "      <td>scc_030</td>\n",
       "      <td>[0, 0, 0, 0, 0, 0, 0, 0, 3, 0, 3, 3, 0, 3, 0, ...</td>\n",
       "      <td>0.227147</td>\n",
       "    </tr>\n",
       "    <tr>\n",
       "      <th>5</th>\n",
       "      <td>eac_average_coassoc_matrix</td>\n",
       "      <td>[0, 0, 0, 0, 0, 0, 0, 0, 0, 0, 0, 0, 0, 0, 0, ...</td>\n",
       "      <td>0.242396</td>\n",
       "    </tr>\n",
       "    <tr>\n",
       "      <th>6</th>\n",
       "      <td>scc_020</td>\n",
       "      <td>[0, 0, 0, 0, 0, 0, 0, 0, 0, 0, 0, 0, 0, 0, 0, ...</td>\n",
       "      <td>0.271421</td>\n",
       "    </tr>\n",
       "    <tr>\n",
       "      <th>7</th>\n",
       "      <td>eac_average_coassoc_matrix</td>\n",
       "      <td>[2, 2, 2, 2, 2, 2, 2, 2, 2, 2, 2, 2, 2, 2, 2, ...</td>\n",
       "      <td>0.275095</td>\n",
       "    </tr>\n",
       "    <tr>\n",
       "      <th>8</th>\n",
       "      <td>scc_020</td>\n",
       "      <td>[0, 0, 0, 0, 0, 0, 0, 0, 0, 0, 0, 0, 0, 0, 0, ...</td>\n",
       "      <td>0.279020</td>\n",
       "    </tr>\n",
       "    <tr>\n",
       "      <th>9</th>\n",
       "      <td>eac_average_coassoc_matrix</td>\n",
       "      <td>[0, 0, 0, 0, 0, 0, 0, 0, 0, 0, 0, 0, 0, 0, 0, ...</td>\n",
       "      <td>0.281386</td>\n",
       "    </tr>\n",
       "    <tr>\n",
       "      <th>10</th>\n",
       "      <td>eac_average_coassoc_matrix</td>\n",
       "      <td>[1, 1, 1, 1, 1, 1, 1, 1, 1, 1, 1, 1, 1, 1, 1, ...</td>\n",
       "      <td>0.281896</td>\n",
       "    </tr>\n",
       "    <tr>\n",
       "      <th>11</th>\n",
       "      <td>scc_020</td>\n",
       "      <td>[0, 0, 0, 0, 0, 0, 0, 0, 0, 0, 0, 0, 0, 0, 0, ...</td>\n",
       "      <td>0.282544</td>\n",
       "    </tr>\n",
       "    <tr>\n",
       "      <th>12</th>\n",
       "      <td>eac_average_coassoc_matrix</td>\n",
       "      <td>[0, 0, 0, 0, 0, 0, 0, 0, 0, 0, 0, 0, 0, 0, 0, ...</td>\n",
       "      <td>0.284530</td>\n",
       "    </tr>\n",
       "    <tr>\n",
       "      <th>13</th>\n",
       "      <td>eac_average_coassoc_matrix</td>\n",
       "      <td>[12, 12, 12, 12, 12, 12, 12, 12, 12, 0, 12, 12...</td>\n",
       "      <td>0.282037</td>\n",
       "    </tr>\n",
       "    <tr>\n",
       "      <th>14</th>\n",
       "      <td>eac_average_coassoc_matrix</td>\n",
       "      <td>[12, 12, 12, 12, 12, 12, 12, 12, 12, 0, 12, 12...</td>\n",
       "      <td>0.281203</td>\n",
       "    </tr>\n",
       "    <tr>\n",
       "      <th>15</th>\n",
       "      <td>eac_average_coassoc_matrix</td>\n",
       "      <td>[12, 12, 12, 12, 12, 12, 12, 12, 12, 2, 12, 12...</td>\n",
       "      <td>0.279086</td>\n",
       "    </tr>\n",
       "    <tr>\n",
       "      <th>16</th>\n",
       "      <td>scc_020</td>\n",
       "      <td>[1, 1, 1, 1, 1, 1, 1, 1, 1, 1, 1, 1, 1, 1, 1, ...</td>\n",
       "      <td>0.285224</td>\n",
       "    </tr>\n",
       "    <tr>\n",
       "      <th>17</th>\n",
       "      <td>scc_020</td>\n",
       "      <td>[1, 1, 1, 1, 1, 1, 1, 1, 1, 1, 1, 1, 1, 1, 1, ...</td>\n",
       "      <td>0.285774</td>\n",
       "    </tr>\n",
       "    <tr>\n",
       "      <th>18</th>\n",
       "      <td>scc_020</td>\n",
       "      <td>[0, 0, 0, 0, 0, 0, 0, 0, 0, 0, 0, 0, 0, 0, 0, ...</td>\n",
       "      <td>0.284300</td>\n",
       "    </tr>\n",
       "    <tr>\n",
       "      <th>19</th>\n",
       "      <td>scc_020</td>\n",
       "      <td>[0, 17, 17, 17, 17, 17, 17, 17, 17, 0, 17, 17,...</td>\n",
       "      <td>0.281590</td>\n",
       "    </tr>\n",
       "    <tr>\n",
       "      <th>20</th>\n",
       "      <td>scc_020</td>\n",
       "      <td>[0, 17, 17, 17, 17, 17, 17, 17, 17, 0, 17, 17,...</td>\n",
       "      <td>0.283305</td>\n",
       "    </tr>\n",
       "    <tr>\n",
       "      <th>21</th>\n",
       "      <td>scc_020</td>\n",
       "      <td>[0, 18, 18, 18, 18, 18, 18, 18, 18, 0, 18, 18,...</td>\n",
       "      <td>0.283444</td>\n",
       "    </tr>\n",
       "    <tr>\n",
       "      <th>22</th>\n",
       "      <td>eac_average_coassoc_matrix</td>\n",
       "      <td>[12, 12, 12, 12, 12, 12, 12, 12, 12, 2, 12, 12...</td>\n",
       "      <td>0.280338</td>\n",
       "    </tr>\n",
       "    <tr>\n",
       "      <th>23</th>\n",
       "      <td>eac_average_coassoc_matrix</td>\n",
       "      <td>[12, 12, 12, 12, 12, 12, 12, 12, 12, 0, 12, 12...</td>\n",
       "      <td>0.280879</td>\n",
       "    </tr>\n",
       "    <tr>\n",
       "      <th>24</th>\n",
       "      <td>eac_average_coassoc_matrix</td>\n",
       "      <td>[12, 12, 12, 12, 12, 12, 12, 12, 12, 4, 12, 12...</td>\n",
       "      <td>0.280697</td>\n",
       "    </tr>\n",
       "    <tr>\n",
       "      <th>25</th>\n",
       "      <td>eac_average_coassoc_matrix</td>\n",
       "      <td>[12, 12, 12, 12, 12, 12, 12, 12, 12, 4, 12, 12...</td>\n",
       "      <td>0.281027</td>\n",
       "    </tr>\n",
       "    <tr>\n",
       "      <th>26</th>\n",
       "      <td>eac_average_coassoc_matrix</td>\n",
       "      <td>[25, 25, 25, 25, 25, 25, 25, 25, 25, 1, 25, 25...</td>\n",
       "      <td>0.280736</td>\n",
       "    </tr>\n",
       "    <tr>\n",
       "      <th>27</th>\n",
       "      <td>eac_average_coassoc_matrix</td>\n",
       "      <td>[25, 25, 25, 25, 25, 25, 25, 25, 25, 0, 25, 25...</td>\n",
       "      <td>0.280489</td>\n",
       "    </tr>\n",
       "    <tr>\n",
       "      <th>28</th>\n",
       "      <td>eac_average_coassoc_matrix</td>\n",
       "      <td>[25, 25, 25, 25, 25, 25, 25, 25, 25, 2, 25, 25...</td>\n",
       "      <td>0.275914</td>\n",
       "    </tr>\n",
       "    <tr>\n",
       "      <th>29</th>\n",
       "      <td>eac_average_coassoc_matrix</td>\n",
       "      <td>[25, 25, 25, 25, 25, 25, 25, 25, 25, 2, 25, 25...</td>\n",
       "      <td>0.275966</td>\n",
       "    </tr>\n",
       "    <tr>\n",
       "      <th>30</th>\n",
       "      <td>eac_average_coassoc_matrix</td>\n",
       "      <td>[25, 25, 25, 25, 25, 25, 25, 25, 25, 2, 25, 25...</td>\n",
       "      <td>0.275838</td>\n",
       "    </tr>\n",
       "    <tr>\n",
       "      <th>31</th>\n",
       "      <td>eac_average_coassoc_matrix</td>\n",
       "      <td>[25, 25, 25, 25, 25, 25, 25, 25, 25, 2, 25, 25...</td>\n",
       "      <td>0.277626</td>\n",
       "    </tr>\n",
       "    <tr>\n",
       "      <th>32</th>\n",
       "      <td>eac_average_coassoc_matrix</td>\n",
       "      <td>[25, 25, 25, 25, 25, 25, 25, 25, 25, 0, 25, 25...</td>\n",
       "      <td>0.278143</td>\n",
       "    </tr>\n",
       "    <tr>\n",
       "      <th>33</th>\n",
       "      <td>eac_average_coassoc_matrix</td>\n",
       "      <td>[25, 25, 25, 25, 25, 25, 25, 25, 25, 9, 25, 25...</td>\n",
       "      <td>0.282132</td>\n",
       "    </tr>\n",
       "    <tr>\n",
       "      <th>34</th>\n",
       "      <td>eac_average_coassoc_matrix</td>\n",
       "      <td>[25, 25, 25, 25, 25, 25, 25, 25, 25, 4, 25, 25...</td>\n",
       "      <td>0.283288</td>\n",
       "    </tr>\n",
       "    <tr>\n",
       "      <th>35</th>\n",
       "      <td>eac_average_coassoc_matrix</td>\n",
       "      <td>[25, 25, 25, 25, 25, 25, 25, 25, 25, 1, 25, 25...</td>\n",
       "      <td>0.283293</td>\n",
       "    </tr>\n",
       "    <tr>\n",
       "      <th>36</th>\n",
       "      <td>eac_average_coassoc_matrix</td>\n",
       "      <td>[25, 25, 25, 25, 25, 25, 25, 25, 25, 1, 25, 25...</td>\n",
       "      <td>0.283271</td>\n",
       "    </tr>\n",
       "    <tr>\n",
       "      <th>37</th>\n",
       "      <td>eac_average_coassoc_matrix</td>\n",
       "      <td>[25, 25, 25, 25, 25, 25, 25, 25, 25, 1, 25, 25...</td>\n",
       "      <td>0.283382</td>\n",
       "    </tr>\n",
       "    <tr>\n",
       "      <th>38</th>\n",
       "      <td>eac_average_coassoc_matrix</td>\n",
       "      <td>[25, 25, 25, 25, 25, 25, 25, 25, 25, 1, 25, 25...</td>\n",
       "      <td>0.283522</td>\n",
       "    </tr>\n",
       "    <tr>\n",
       "      <th>39</th>\n",
       "      <td>eac_average_coassoc_matrix</td>\n",
       "      <td>[25, 25, 25, 25, 25, 25, 25, 25, 25, 0, 25, 25...</td>\n",
       "      <td>0.283545</td>\n",
       "    </tr>\n",
       "    <tr>\n",
       "      <th>40</th>\n",
       "      <td>eac_average_coassoc_matrix</td>\n",
       "      <td>[25, 25, 25, 25, 25, 25, 25, 25, 25, 0, 25, 25...</td>\n",
       "      <td>0.286107</td>\n",
       "    </tr>\n",
       "    <tr>\n",
       "      <th>41</th>\n",
       "      <td>eac_average_coassoc_matrix</td>\n",
       "      <td>[25, 25, 25, 25, 25, 25, 25, 25, 25, 11, 25, 2...</td>\n",
       "      <td>0.286357</td>\n",
       "    </tr>\n",
       "    <tr>\n",
       "      <th>42</th>\n",
       "      <td>eac_average_coassoc_matrix</td>\n",
       "      <td>[25, 25, 25, 25, 25, 25, 25, 25, 25, 11, 25, 2...</td>\n",
       "      <td>0.286678</td>\n",
       "    </tr>\n",
       "    <tr>\n",
       "      <th>43</th>\n",
       "      <td>eac_average_coassoc_matrix</td>\n",
       "      <td>[25, 25, 25, 25, 25, 25, 25, 25, 25, 5, 25, 25...</td>\n",
       "      <td>0.285371</td>\n",
       "    </tr>\n",
       "    <tr>\n",
       "      <th>44</th>\n",
       "      <td>eac_average_coassoc_matrix</td>\n",
       "      <td>[25, 25, 25, 25, 25, 25, 25, 25, 25, 5, 25, 25...</td>\n",
       "      <td>0.285375</td>\n",
       "    </tr>\n",
       "    <tr>\n",
       "      <th>45</th>\n",
       "      <td>eac_average_coassoc_matrix</td>\n",
       "      <td>[25, 25, 25, 25, 25, 25, 25, 25, 25, 2, 25, 25...</td>\n",
       "      <td>0.285463</td>\n",
       "    </tr>\n",
       "    <tr>\n",
       "      <th>46</th>\n",
       "      <td>eac_average_coassoc_matrix</td>\n",
       "      <td>[25, 25, 25, 25, 25, 25, 25, 25, 25, 0, 25, 25...</td>\n",
       "      <td>0.285450</td>\n",
       "    </tr>\n",
       "    <tr>\n",
       "      <th>47</th>\n",
       "      <td>eac_average_coassoc_matrix</td>\n",
       "      <td>[25, 25, 25, 25, 25, 25, 25, 25, 25, 6, 25, 25...</td>\n",
       "      <td>0.285558</td>\n",
       "    </tr>\n",
       "    <tr>\n",
       "      <th>48</th>\n",
       "      <td>eac_average_coassoc_matrix</td>\n",
       "      <td>[25, 25, 25, 25, 25, 25, 25, 25, 25, 6, 25, 25...</td>\n",
       "      <td>0.286006</td>\n",
       "    </tr>\n",
       "    <tr>\n",
       "      <th>49</th>\n",
       "      <td>eac_average_coassoc_matrix</td>\n",
       "      <td>[25, 25, 25, 25, 25, 25, 25, 25, 25, 6, 25, 25...</td>\n",
       "      <td>0.285172</td>\n",
       "    </tr>\n",
       "    <tr>\n",
       "      <th>50</th>\n",
       "      <td>eac_average_coassoc_matrix</td>\n",
       "      <td>[25, 25, 25, 25, 25, 25, 25, 25, 25, 6, 25, 25...</td>\n",
       "      <td>0.284115</td>\n",
       "    </tr>\n",
       "    <tr>\n",
       "      <th>51</th>\n",
       "      <td>eac_average_coassoc_matrix</td>\n",
       "      <td>[12, 12, 12, 12, 12, 12, 12, 12, 12, 6, 12, 12...</td>\n",
       "      <td>0.284296</td>\n",
       "    </tr>\n",
       "    <tr>\n",
       "      <th>52</th>\n",
       "      <td>eac_average_coassoc_matrix</td>\n",
       "      <td>[12, 12, 12, 12, 12, 12, 12, 12, 12, 6, 12, 12...</td>\n",
       "      <td>0.284343</td>\n",
       "    </tr>\n",
       "    <tr>\n",
       "      <th>53</th>\n",
       "      <td>eac_average_coassoc_matrix</td>\n",
       "      <td>[25, 25, 25, 25, 25, 25, 25, 25, 25, 6, 25, 25...</td>\n",
       "      <td>0.284061</td>\n",
       "    </tr>\n",
       "    <tr>\n",
       "      <th>54</th>\n",
       "      <td>eac_average_coassoc_matrix</td>\n",
       "      <td>[25, 25, 25, 25, 25, 25, 25, 25, 25, 6, 25, 25...</td>\n",
       "      <td>0.284523</td>\n",
       "    </tr>\n",
       "    <tr>\n",
       "      <th>55</th>\n",
       "      <td>eac_average_coassoc_matrix</td>\n",
       "      <td>[25, 25, 25, 25, 25, 25, 25, 25, 25, 6, 25, 25...</td>\n",
       "      <td>0.283674</td>\n",
       "    </tr>\n",
       "    <tr>\n",
       "      <th>56</th>\n",
       "      <td>eac_average_coassoc_matrix</td>\n",
       "      <td>[25, 25, 25, 25, 25, 25, 25, 25, 25, 6, 25, 25...</td>\n",
       "      <td>0.282933</td>\n",
       "    </tr>\n",
       "    <tr>\n",
       "      <th>57</th>\n",
       "      <td>eac_average_coassoc_matrix</td>\n",
       "      <td>[25, 25, 25, 25, 25, 25, 25, 25, 25, 6, 25, 25...</td>\n",
       "      <td>0.282903</td>\n",
       "    </tr>\n",
       "    <tr>\n",
       "      <th>58</th>\n",
       "      <td>eac_average_coassoc_matrix</td>\n",
       "      <td>[25, 25, 25, 25, 25, 25, 25, 25, 25, 6, 25, 25...</td>\n",
       "      <td>0.282920</td>\n",
       "    </tr>\n",
       "    <tr>\n",
       "      <th>59</th>\n",
       "      <td>eac_average_coassoc_matrix</td>\n",
       "      <td>[25, 25, 25, 25, 25, 25, 25, 25, 25, 2, 25, 25...</td>\n",
       "      <td>0.282724</td>\n",
       "    </tr>\n",
       "    <tr>\n",
       "      <th>60</th>\n",
       "      <td>eac_average_coassoc_matrix</td>\n",
       "      <td>[25, 25, 25, 25, 25, 25, 25, 25, 25, 0, 25, 25...</td>\n",
       "      <td>0.283753</td>\n",
       "    </tr>\n",
       "  </tbody>\n",
       "</table>\n",
       "</div>"
      ],
      "text/plain": [
       "                        method  \\\n",
       "k                                \n",
       "2                      scc_030   \n",
       "3                      scc_030   \n",
       "4                      scc_030   \n",
       "5   eac_average_coassoc_matrix   \n",
       "6                      scc_020   \n",
       "7   eac_average_coassoc_matrix   \n",
       "8                      scc_020   \n",
       "9   eac_average_coassoc_matrix   \n",
       "10  eac_average_coassoc_matrix   \n",
       "11                     scc_020   \n",
       "12  eac_average_coassoc_matrix   \n",
       "13  eac_average_coassoc_matrix   \n",
       "14  eac_average_coassoc_matrix   \n",
       "15  eac_average_coassoc_matrix   \n",
       "16                     scc_020   \n",
       "17                     scc_020   \n",
       "18                     scc_020   \n",
       "19                     scc_020   \n",
       "20                     scc_020   \n",
       "21                     scc_020   \n",
       "22  eac_average_coassoc_matrix   \n",
       "23  eac_average_coassoc_matrix   \n",
       "24  eac_average_coassoc_matrix   \n",
       "25  eac_average_coassoc_matrix   \n",
       "26  eac_average_coassoc_matrix   \n",
       "27  eac_average_coassoc_matrix   \n",
       "28  eac_average_coassoc_matrix   \n",
       "29  eac_average_coassoc_matrix   \n",
       "30  eac_average_coassoc_matrix   \n",
       "31  eac_average_coassoc_matrix   \n",
       "32  eac_average_coassoc_matrix   \n",
       "33  eac_average_coassoc_matrix   \n",
       "34  eac_average_coassoc_matrix   \n",
       "35  eac_average_coassoc_matrix   \n",
       "36  eac_average_coassoc_matrix   \n",
       "37  eac_average_coassoc_matrix   \n",
       "38  eac_average_coassoc_matrix   \n",
       "39  eac_average_coassoc_matrix   \n",
       "40  eac_average_coassoc_matrix   \n",
       "41  eac_average_coassoc_matrix   \n",
       "42  eac_average_coassoc_matrix   \n",
       "43  eac_average_coassoc_matrix   \n",
       "44  eac_average_coassoc_matrix   \n",
       "45  eac_average_coassoc_matrix   \n",
       "46  eac_average_coassoc_matrix   \n",
       "47  eac_average_coassoc_matrix   \n",
       "48  eac_average_coassoc_matrix   \n",
       "49  eac_average_coassoc_matrix   \n",
       "50  eac_average_coassoc_matrix   \n",
       "51  eac_average_coassoc_matrix   \n",
       "52  eac_average_coassoc_matrix   \n",
       "53  eac_average_coassoc_matrix   \n",
       "54  eac_average_coassoc_matrix   \n",
       "55  eac_average_coassoc_matrix   \n",
       "56  eac_average_coassoc_matrix   \n",
       "57  eac_average_coassoc_matrix   \n",
       "58  eac_average_coassoc_matrix   \n",
       "59  eac_average_coassoc_matrix   \n",
       "60  eac_average_coassoc_matrix   \n",
       "\n",
       "                                            partition  ami_mean  \n",
       "k                                                                \n",
       "2   [0, 0, 0, 0, 0, 0, 0, 0, 0, 0, 0, 0, 0, 0, 0, ...  0.182083  \n",
       "3   [0, 0, 0, 0, 0, 0, 0, 0, 0, 0, 0, 0, 0, 0, 0, ...  0.198427  \n",
       "4   [0, 0, 0, 0, 0, 0, 0, 0, 3, 0, 3, 3, 0, 3, 0, ...  0.227147  \n",
       "5   [0, 0, 0, 0, 0, 0, 0, 0, 0, 0, 0, 0, 0, 0, 0, ...  0.242396  \n",
       "6   [0, 0, 0, 0, 0, 0, 0, 0, 0, 0, 0, 0, 0, 0, 0, ...  0.271421  \n",
       "7   [2, 2, 2, 2, 2, 2, 2, 2, 2, 2, 2, 2, 2, 2, 2, ...  0.275095  \n",
       "8   [0, 0, 0, 0, 0, 0, 0, 0, 0, 0, 0, 0, 0, 0, 0, ...  0.279020  \n",
       "9   [0, 0, 0, 0, 0, 0, 0, 0, 0, 0, 0, 0, 0, 0, 0, ...  0.281386  \n",
       "10  [1, 1, 1, 1, 1, 1, 1, 1, 1, 1, 1, 1, 1, 1, 1, ...  0.281896  \n",
       "11  [0, 0, 0, 0, 0, 0, 0, 0, 0, 0, 0, 0, 0, 0, 0, ...  0.282544  \n",
       "12  [0, 0, 0, 0, 0, 0, 0, 0, 0, 0, 0, 0, 0, 0, 0, ...  0.284530  \n",
       "13  [12, 12, 12, 12, 12, 12, 12, 12, 12, 0, 12, 12...  0.282037  \n",
       "14  [12, 12, 12, 12, 12, 12, 12, 12, 12, 0, 12, 12...  0.281203  \n",
       "15  [12, 12, 12, 12, 12, 12, 12, 12, 12, 2, 12, 12...  0.279086  \n",
       "16  [1, 1, 1, 1, 1, 1, 1, 1, 1, 1, 1, 1, 1, 1, 1, ...  0.285224  \n",
       "17  [1, 1, 1, 1, 1, 1, 1, 1, 1, 1, 1, 1, 1, 1, 1, ...  0.285774  \n",
       "18  [0, 0, 0, 0, 0, 0, 0, 0, 0, 0, 0, 0, 0, 0, 0, ...  0.284300  \n",
       "19  [0, 17, 17, 17, 17, 17, 17, 17, 17, 0, 17, 17,...  0.281590  \n",
       "20  [0, 17, 17, 17, 17, 17, 17, 17, 17, 0, 17, 17,...  0.283305  \n",
       "21  [0, 18, 18, 18, 18, 18, 18, 18, 18, 0, 18, 18,...  0.283444  \n",
       "22  [12, 12, 12, 12, 12, 12, 12, 12, 12, 2, 12, 12...  0.280338  \n",
       "23  [12, 12, 12, 12, 12, 12, 12, 12, 12, 0, 12, 12...  0.280879  \n",
       "24  [12, 12, 12, 12, 12, 12, 12, 12, 12, 4, 12, 12...  0.280697  \n",
       "25  [12, 12, 12, 12, 12, 12, 12, 12, 12, 4, 12, 12...  0.281027  \n",
       "26  [25, 25, 25, 25, 25, 25, 25, 25, 25, 1, 25, 25...  0.280736  \n",
       "27  [25, 25, 25, 25, 25, 25, 25, 25, 25, 0, 25, 25...  0.280489  \n",
       "28  [25, 25, 25, 25, 25, 25, 25, 25, 25, 2, 25, 25...  0.275914  \n",
       "29  [25, 25, 25, 25, 25, 25, 25, 25, 25, 2, 25, 25...  0.275966  \n",
       "30  [25, 25, 25, 25, 25, 25, 25, 25, 25, 2, 25, 25...  0.275838  \n",
       "31  [25, 25, 25, 25, 25, 25, 25, 25, 25, 2, 25, 25...  0.277626  \n",
       "32  [25, 25, 25, 25, 25, 25, 25, 25, 25, 0, 25, 25...  0.278143  \n",
       "33  [25, 25, 25, 25, 25, 25, 25, 25, 25, 9, 25, 25...  0.282132  \n",
       "34  [25, 25, 25, 25, 25, 25, 25, 25, 25, 4, 25, 25...  0.283288  \n",
       "35  [25, 25, 25, 25, 25, 25, 25, 25, 25, 1, 25, 25...  0.283293  \n",
       "36  [25, 25, 25, 25, 25, 25, 25, 25, 25, 1, 25, 25...  0.283271  \n",
       "37  [25, 25, 25, 25, 25, 25, 25, 25, 25, 1, 25, 25...  0.283382  \n",
       "38  [25, 25, 25, 25, 25, 25, 25, 25, 25, 1, 25, 25...  0.283522  \n",
       "39  [25, 25, 25, 25, 25, 25, 25, 25, 25, 0, 25, 25...  0.283545  \n",
       "40  [25, 25, 25, 25, 25, 25, 25, 25, 25, 0, 25, 25...  0.286107  \n",
       "41  [25, 25, 25, 25, 25, 25, 25, 25, 25, 11, 25, 2...  0.286357  \n",
       "42  [25, 25, 25, 25, 25, 25, 25, 25, 25, 11, 25, 2...  0.286678  \n",
       "43  [25, 25, 25, 25, 25, 25, 25, 25, 25, 5, 25, 25...  0.285371  \n",
       "44  [25, 25, 25, 25, 25, 25, 25, 25, 25, 5, 25, 25...  0.285375  \n",
       "45  [25, 25, 25, 25, 25, 25, 25, 25, 25, 2, 25, 25...  0.285463  \n",
       "46  [25, 25, 25, 25, 25, 25, 25, 25, 25, 0, 25, 25...  0.285450  \n",
       "47  [25, 25, 25, 25, 25, 25, 25, 25, 25, 6, 25, 25...  0.285558  \n",
       "48  [25, 25, 25, 25, 25, 25, 25, 25, 25, 6, 25, 25...  0.286006  \n",
       "49  [25, 25, 25, 25, 25, 25, 25, 25, 25, 6, 25, 25...  0.285172  \n",
       "50  [25, 25, 25, 25, 25, 25, 25, 25, 25, 6, 25, 25...  0.284115  \n",
       "51  [12, 12, 12, 12, 12, 12, 12, 12, 12, 6, 12, 12...  0.284296  \n",
       "52  [12, 12, 12, 12, 12, 12, 12, 12, 12, 6, 12, 12...  0.284343  \n",
       "53  [25, 25, 25, 25, 25, 25, 25, 25, 25, 6, 25, 25...  0.284061  \n",
       "54  [25, 25, 25, 25, 25, 25, 25, 25, 25, 6, 25, 25...  0.284523  \n",
       "55  [25, 25, 25, 25, 25, 25, 25, 25, 25, 6, 25, 25...  0.283674  \n",
       "56  [25, 25, 25, 25, 25, 25, 25, 25, 25, 6, 25, 25...  0.282933  \n",
       "57  [25, 25, 25, 25, 25, 25, 25, 25, 25, 6, 25, 25...  0.282903  \n",
       "58  [25, 25, 25, 25, 25, 25, 25, 25, 25, 6, 25, 25...  0.282920  \n",
       "59  [25, 25, 25, 25, 25, 25, 25, 25, 25, 2, 25, 25...  0.282724  \n",
       "60  [25, 25, 25, 25, 25, 25, 25, 25, 25, 0, 25, 25...  0.283753  "
      ]
     },
     "execution_count": 14,
     "metadata": {},
     "output_type": "execute_result"
    }
   ],
   "source": [
    "best_parts.sort_values(\"k\")"
   ]
  },
  {
   "cell_type": "markdown",
   "metadata": {
    "papermill": {
     "duration": 0.015363,
     "end_time": "2021-03-11T05:12:54.561914",
     "exception": false,
     "start_time": "2021-03-11T05:12:54.546551",
     "status": "completed"
    },
    "tags": []
   },
   "source": [
    "## Select partitions with highest agreement"
   ]
  },
  {
   "cell_type": "markdown",
   "metadata": {
    "papermill": {
     "duration": 0.014865,
     "end_time": "2021-03-11T05:12:54.591391",
     "exception": false,
     "start_time": "2021-03-11T05:12:54.576526",
     "status": "completed"
    },
    "tags": []
   },
   "source": [
    "We do not expect all partitions with different `k` to be good ones. Thus, here I select the partitions with an ensemble agreement that pass a relative high threshold (75th percentile)."
   ]
  },
  {
   "cell_type": "code",
   "execution_count": 15,
   "metadata": {
    "execution": {
     "iopub.execute_input": "2021-03-11T05:12:54.623418Z",
     "iopub.status.busy": "2021-03-11T05:12:54.623067Z",
     "iopub.status.idle": "2021-03-11T05:12:54.635398Z",
     "shell.execute_reply": "2021-03-11T05:12:54.635029Z"
    },
    "papermill": {
     "duration": 0.029233,
     "end_time": "2021-03-11T05:12:54.635483",
     "exception": false,
     "start_time": "2021-03-11T05:12:54.606250",
     "status": "completed"
    },
    "tags": []
   },
   "outputs": [
    {
     "data": {
      "text/plain": [
       "count    59.000000\n",
       "mean      0.277623\n",
       "std       0.019019\n",
       "min       0.182083\n",
       "25%       0.280593\n",
       "50%       0.282933\n",
       "75%       0.284321\n",
       "max       0.286678\n",
       "Name: ami_mean, dtype: float64"
      ]
     },
     "metadata": {},
     "output_type": "display_data"
    }
   ],
   "source": [
    "best_parts_stats = best_parts[_measure_col].describe()\n",
    "display(best_parts_stats)"
   ]
  },
  {
   "cell_type": "code",
   "execution_count": 16,
   "metadata": {
    "execution": {
     "iopub.execute_input": "2021-03-11T05:12:54.669343Z",
     "iopub.status.busy": "2021-03-11T05:12:54.668967Z",
     "iopub.status.idle": "2021-03-11T05:12:54.680163Z",
     "shell.execute_reply": "2021-03-11T05:12:54.679794Z"
    },
    "papermill": {
     "duration": 0.029022,
     "end_time": "2021-03-11T05:12:54.680248",
     "exception": false,
     "start_time": "2021-03-11T05:12:54.651226",
     "status": "completed"
    },
    "tags": []
   },
   "outputs": [
    {
     "data": {
      "text/plain": [
       "0.28432140734640315"
      ]
     },
     "metadata": {},
     "output_type": "display_data"
    }
   ],
   "source": [
    "best_threshold = best_parts_stats[\"75%\"]\n",
    "best_threshold_description = \"75th percentile\"\n",
    "display(best_threshold)\n",
    "\n",
    "best_parts = best_parts.assign(\n",
    "    selected=best_parts[_measure_col].apply(lambda x: x > best_threshold)\n",
    ")"
   ]
  },
  {
   "cell_type": "code",
   "execution_count": 17,
   "metadata": {
    "execution": {
     "iopub.execute_input": "2021-03-11T05:12:54.713938Z",
     "iopub.status.busy": "2021-03-11T05:12:54.713581Z",
     "iopub.status.idle": "2021-03-11T05:12:54.723463Z",
     "shell.execute_reply": "2021-03-11T05:12:54.723098Z"
    },
    "papermill": {
     "duration": 0.027367,
     "end_time": "2021-03-11T05:12:54.723547",
     "exception": false,
     "start_time": "2021-03-11T05:12:54.696180",
     "status": "completed"
    },
    "tags": []
   },
   "outputs": [
    {
     "data": {
      "text/plain": [
       "(59, 4)"
      ]
     },
     "execution_count": 17,
     "metadata": {},
     "output_type": "execute_result"
    }
   ],
   "source": [
    "best_parts.shape"
   ]
  },
  {
   "cell_type": "code",
   "execution_count": 18,
   "metadata": {
    "execution": {
     "iopub.execute_input": "2021-03-11T05:12:54.757416Z",
     "iopub.status.busy": "2021-03-11T05:12:54.757060Z",
     "iopub.status.idle": "2021-03-11T05:12:54.774565Z",
     "shell.execute_reply": "2021-03-11T05:12:54.774197Z"
    },
    "papermill": {
     "duration": 0.0351,
     "end_time": "2021-03-11T05:12:54.774650",
     "exception": false,
     "start_time": "2021-03-11T05:12:54.739550",
     "status": "completed"
    },
    "tags": []
   },
   "outputs": [
    {
     "data": {
      "text/html": [
       "<div>\n",
       "<style scoped>\n",
       "    .dataframe tbody tr th:only-of-type {\n",
       "        vertical-align: middle;\n",
       "    }\n",
       "\n",
       "    .dataframe tbody tr th {\n",
       "        vertical-align: top;\n",
       "    }\n",
       "\n",
       "    .dataframe thead th {\n",
       "        text-align: right;\n",
       "    }\n",
       "</style>\n",
       "<table border=\"1\" class=\"dataframe\">\n",
       "  <thead>\n",
       "    <tr style=\"text-align: right;\">\n",
       "      <th></th>\n",
       "      <th>method</th>\n",
       "      <th>partition</th>\n",
       "      <th>ami_mean</th>\n",
       "      <th>selected</th>\n",
       "    </tr>\n",
       "    <tr>\n",
       "      <th>k</th>\n",
       "      <th></th>\n",
       "      <th></th>\n",
       "      <th></th>\n",
       "      <th></th>\n",
       "    </tr>\n",
       "  </thead>\n",
       "  <tbody>\n",
       "    <tr>\n",
       "      <th>42</th>\n",
       "      <td>eac_average_coassoc_matrix</td>\n",
       "      <td>[25, 25, 25, 25, 25, 25, 25, 25, 25, 11, 25, 2...</td>\n",
       "      <td>0.286678</td>\n",
       "      <td>True</td>\n",
       "    </tr>\n",
       "    <tr>\n",
       "      <th>41</th>\n",
       "      <td>eac_average_coassoc_matrix</td>\n",
       "      <td>[25, 25, 25, 25, 25, 25, 25, 25, 25, 11, 25, 2...</td>\n",
       "      <td>0.286357</td>\n",
       "      <td>True</td>\n",
       "    </tr>\n",
       "    <tr>\n",
       "      <th>40</th>\n",
       "      <td>eac_average_coassoc_matrix</td>\n",
       "      <td>[25, 25, 25, 25, 25, 25, 25, 25, 25, 0, 25, 25...</td>\n",
       "      <td>0.286107</td>\n",
       "      <td>True</td>\n",
       "    </tr>\n",
       "    <tr>\n",
       "      <th>48</th>\n",
       "      <td>eac_average_coassoc_matrix</td>\n",
       "      <td>[25, 25, 25, 25, 25, 25, 25, 25, 25, 6, 25, 25...</td>\n",
       "      <td>0.286006</td>\n",
       "      <td>True</td>\n",
       "    </tr>\n",
       "    <tr>\n",
       "      <th>17</th>\n",
       "      <td>scc_020</td>\n",
       "      <td>[1, 1, 1, 1, 1, 1, 1, 1, 1, 1, 1, 1, 1, 1, 1, ...</td>\n",
       "      <td>0.285774</td>\n",
       "      <td>True</td>\n",
       "    </tr>\n",
       "  </tbody>\n",
       "</table>\n",
       "</div>"
      ],
      "text/plain": [
       "                        method  \\\n",
       "k                                \n",
       "42  eac_average_coassoc_matrix   \n",
       "41  eac_average_coassoc_matrix   \n",
       "40  eac_average_coassoc_matrix   \n",
       "48  eac_average_coassoc_matrix   \n",
       "17                     scc_020   \n",
       "\n",
       "                                            partition  ami_mean  selected  \n",
       "k                                                                          \n",
       "42  [25, 25, 25, 25, 25, 25, 25, 25, 25, 11, 25, 2...  0.286678      True  \n",
       "41  [25, 25, 25, 25, 25, 25, 25, 25, 25, 11, 25, 2...  0.286357      True  \n",
       "40  [25, 25, 25, 25, 25, 25, 25, 25, 25, 0, 25, 25...  0.286107      True  \n",
       "48  [25, 25, 25, 25, 25, 25, 25, 25, 25, 6, 25, 25...  0.286006      True  \n",
       "17  [1, 1, 1, 1, 1, 1, 1, 1, 1, 1, 1, 1, 1, 1, 1, ...  0.285774      True  "
      ]
     },
     "execution_count": 18,
     "metadata": {},
     "output_type": "execute_result"
    }
   ],
   "source": [
    "best_parts.head()"
   ]
  },
  {
   "cell_type": "markdown",
   "metadata": {
    "papermill": {
     "duration": 0.0158,
     "end_time": "2021-03-11T05:12:54.806726",
     "exception": false,
     "start_time": "2021-03-11T05:12:54.790926",
     "status": "completed"
    },
    "tags": []
   },
   "source": [
    "## Save best partitions per k"
   ]
  },
  {
   "cell_type": "code",
   "execution_count": 19,
   "metadata": {
    "execution": {
     "iopub.execute_input": "2021-03-11T05:12:54.840036Z",
     "iopub.status.busy": "2021-03-11T05:12:54.839668Z",
     "iopub.status.idle": "2021-03-11T05:12:54.850114Z",
     "shell.execute_reply": "2021-03-11T05:12:54.849697Z"
    },
    "papermill": {
     "duration": 0.0282,
     "end_time": "2021-03-11T05:12:54.850202",
     "exception": false,
     "start_time": "2021-03-11T05:12:54.822002",
     "status": "completed"
    },
    "tags": []
   },
   "outputs": [
    {
     "data": {
      "text/plain": [
       "PosixPath('/home/miltondp/projects/labs/greenelab/phenoplier/base/results/clustering/consensus_clustering/best_partitions_by_k.pkl')"
      ]
     },
     "metadata": {},
     "output_type": "display_data"
    }
   ],
   "source": [
    "output_file = Path(CONSENSUS_CLUSTERING_DIR, \"best_partitions_by_k.pkl\").resolve()\n",
    "display(output_file)"
   ]
  },
  {
   "cell_type": "code",
   "execution_count": 20,
   "metadata": {
    "execution": {
     "iopub.execute_input": "2021-03-11T05:12:54.886345Z",
     "iopub.status.busy": "2021-03-11T05:12:54.885989Z",
     "iopub.status.idle": "2021-03-11T05:12:54.897832Z",
     "shell.execute_reply": "2021-03-11T05:12:54.897449Z"
    },
    "papermill": {
     "duration": 0.030764,
     "end_time": "2021-03-11T05:12:54.897918",
     "exception": false,
     "start_time": "2021-03-11T05:12:54.867154",
     "status": "completed"
    },
    "tags": []
   },
   "outputs": [],
   "source": [
    "best_parts.to_pickle(output_file)"
   ]
  },
  {
   "cell_type": "markdown",
   "metadata": {
    "papermill": {
     "duration": 0.016194,
     "end_time": "2021-03-11T05:12:54.930750",
     "exception": false,
     "start_time": "2021-03-11T05:12:54.914556",
     "status": "completed"
    },
    "tags": []
   },
   "source": [
    "# Plot of selected best partitions"
   ]
  },
  {
   "cell_type": "code",
   "execution_count": 21,
   "metadata": {
    "execution": {
     "iopub.execute_input": "2021-03-11T05:12:54.964494Z",
     "iopub.status.busy": "2021-03-11T05:12:54.964136Z",
     "iopub.status.idle": "2021-03-11T05:12:54.982054Z",
     "shell.execute_reply": "2021-03-11T05:12:54.981715Z"
    },
    "papermill": {
     "duration": 0.035832,
     "end_time": "2021-03-11T05:12:54.982138",
     "exception": false,
     "start_time": "2021-03-11T05:12:54.946306",
     "status": "completed"
    },
    "tags": []
   },
   "outputs": [
    {
     "data": {
      "text/html": [
       "<div>\n",
       "<style scoped>\n",
       "    .dataframe tbody tr th:only-of-type {\n",
       "        vertical-align: middle;\n",
       "    }\n",
       "\n",
       "    .dataframe tbody tr th {\n",
       "        vertical-align: top;\n",
       "    }\n",
       "\n",
       "    .dataframe thead th {\n",
       "        text-align: right;\n",
       "    }\n",
       "</style>\n",
       "<table border=\"1\" class=\"dataframe\">\n",
       "  <thead>\n",
       "    <tr style=\"text-align: right;\">\n",
       "      <th></th>\n",
       "      <th>k</th>\n",
       "      <th>method</th>\n",
       "      <th>partition</th>\n",
       "      <th>ami_mean</th>\n",
       "      <th>selected</th>\n",
       "    </tr>\n",
       "  </thead>\n",
       "  <tbody>\n",
       "    <tr>\n",
       "      <th>0</th>\n",
       "      <td>42</td>\n",
       "      <td>eac_average_coassoc_matrix</td>\n",
       "      <td>[25, 25, 25, 25, 25, 25, 25, 25, 25, 11, 25, 2...</td>\n",
       "      <td>0.286678</td>\n",
       "      <td>True</td>\n",
       "    </tr>\n",
       "    <tr>\n",
       "      <th>1</th>\n",
       "      <td>41</td>\n",
       "      <td>eac_average_coassoc_matrix</td>\n",
       "      <td>[25, 25, 25, 25, 25, 25, 25, 25, 25, 11, 25, 2...</td>\n",
       "      <td>0.286357</td>\n",
       "      <td>True</td>\n",
       "    </tr>\n",
       "    <tr>\n",
       "      <th>2</th>\n",
       "      <td>40</td>\n",
       "      <td>eac_average_coassoc_matrix</td>\n",
       "      <td>[25, 25, 25, 25, 25, 25, 25, 25, 25, 0, 25, 25...</td>\n",
       "      <td>0.286107</td>\n",
       "      <td>True</td>\n",
       "    </tr>\n",
       "    <tr>\n",
       "      <th>3</th>\n",
       "      <td>48</td>\n",
       "      <td>eac_average_coassoc_matrix</td>\n",
       "      <td>[25, 25, 25, 25, 25, 25, 25, 25, 25, 6, 25, 25...</td>\n",
       "      <td>0.286006</td>\n",
       "      <td>True</td>\n",
       "    </tr>\n",
       "    <tr>\n",
       "      <th>4</th>\n",
       "      <td>17</td>\n",
       "      <td>scc_020</td>\n",
       "      <td>[1, 1, 1, 1, 1, 1, 1, 1, 1, 1, 1, 1, 1, 1, 1, ...</td>\n",
       "      <td>0.285774</td>\n",
       "      <td>True</td>\n",
       "    </tr>\n",
       "  </tbody>\n",
       "</table>\n",
       "</div>"
      ],
      "text/plain": [
       "    k                      method  \\\n",
       "0  42  eac_average_coassoc_matrix   \n",
       "1  41  eac_average_coassoc_matrix   \n",
       "2  40  eac_average_coassoc_matrix   \n",
       "3  48  eac_average_coassoc_matrix   \n",
       "4  17                     scc_020   \n",
       "\n",
       "                                           partition  ami_mean  selected  \n",
       "0  [25, 25, 25, 25, 25, 25, 25, 25, 25, 11, 25, 2...  0.286678      True  \n",
       "1  [25, 25, 25, 25, 25, 25, 25, 25, 25, 11, 25, 2...  0.286357      True  \n",
       "2  [25, 25, 25, 25, 25, 25, 25, 25, 25, 0, 25, 25...  0.286107      True  \n",
       "3  [25, 25, 25, 25, 25, 25, 25, 25, 25, 6, 25, 25...  0.286006      True  \n",
       "4  [1, 1, 1, 1, 1, 1, 1, 1, 1, 1, 1, 1, 1, 1, 1, ...  0.285774      True  "
      ]
     },
     "metadata": {},
     "output_type": "display_data"
    }
   ],
   "source": [
    "plot_data = best_parts.reset_index()\n",
    "display(plot_data.head(5))"
   ]
  },
  {
   "cell_type": "code",
   "execution_count": 22,
   "metadata": {
    "execution": {
     "iopub.execute_input": "2021-03-11T05:12:55.019929Z",
     "iopub.status.busy": "2021-03-11T05:12:55.019535Z",
     "iopub.status.idle": "2021-03-11T05:12:56.633254Z",
     "shell.execute_reply": "2021-03-11T05:12:56.632886Z"
    },
    "papermill": {
     "duration": 1.634077,
     "end_time": "2021-03-11T05:12:56.633338",
     "exception": false,
     "start_time": "2021-03-11T05:12:54.999261",
     "status": "completed"
    },
    "tags": []
   },
   "outputs": [
    {
     "data": {
      "image/png": "[encoded data removed]",
      "text/plain": [
       "<Figure size 864x432 with 1 Axes>"
      ]
     },
     "metadata": {},
     "output_type": "display_data"
    }
   ],
   "source": [
    "with sns.plotting_context(\"talk\", font_scale=0.75), sns.axes_style(\n",
    "    \"whitegrid\", {\"grid.linestyle\": \"--\"}\n",
    "), sns.color_palette(\"muted\"):\n",
    "    current_palette = iter(sns.color_palette())\n",
    "\n",
    "    fig, ax = plt.subplots(figsize=(12, 6))\n",
    "    ax = sns.pointplot(\n",
    "        data=plot_data, x=\"k\", y=_measure_col, color=next(current_palette)\n",
    "    )\n",
    "    ax.axhline(\n",
    "        best_threshold,\n",
    "        ls=\"--\",\n",
    "        color=next(current_palette),\n",
    "        label=best_threshold_description,\n",
    "    )\n",
    "    ax.set_ylabel(\"Agreement with ensemble\\n(Average AMI)\")\n",
    "    ax.set_xlabel(\"Number of clusters ($k$)\")\n",
    "    ax.set_xticklabels(ax.get_xticklabels(), rotation=45)\n",
    "    plt.legend()\n",
    "    plt.grid(True)\n",
    "    plt.tight_layout()"
   ]
  },
  {
   "cell_type": "markdown",
   "metadata": {
    "papermill": {
     "duration": 0.017406,
     "end_time": "2021-03-11T05:12:56.668663",
     "exception": false,
     "start_time": "2021-03-11T05:12:56.651257",
     "status": "completed"
    },
    "tags": []
   },
   "source": [
    "The horizontal line in the plot is the median of the average AMI; partitions above that line are marked as selected for downstream analysis"
   ]
  },
  {
   "cell_type": "code",
   "execution_count": 23,
   "metadata": {
    "execution": {
     "iopub.execute_input": "2021-03-11T05:12:56.706690Z",
     "iopub.status.busy": "2021-03-11T05:12:56.706318Z",
     "iopub.status.idle": "2021-03-11T05:12:56.734625Z",
     "shell.execute_reply": "2021-03-11T05:12:56.734273Z"
    },
    "papermill": {
     "duration": 0.048551,
     "end_time": "2021-03-11T05:12:56.734706",
     "exception": false,
     "start_time": "2021-03-11T05:12:56.686155",
     "status": "completed"
    },
    "tags": []
   },
   "outputs": [
    {
     "data": {
      "text/html": [
       "<div>\n",
       "<style scoped>\n",
       "    .dataframe tbody tr th:only-of-type {\n",
       "        vertical-align: middle;\n",
       "    }\n",
       "\n",
       "    .dataframe tbody tr th {\n",
       "        vertical-align: top;\n",
       "    }\n",
       "\n",
       "    .dataframe thead th {\n",
       "        text-align: right;\n",
       "    }\n",
       "</style>\n",
       "<table border=\"1\" class=\"dataframe\">\n",
       "  <thead>\n",
       "    <tr style=\"text-align: right;\">\n",
       "      <th></th>\n",
       "      <th>k</th>\n",
       "      <th>method</th>\n",
       "      <th>partition</th>\n",
       "      <th>ami_mean</th>\n",
       "      <th>selected</th>\n",
       "    </tr>\n",
       "  </thead>\n",
       "  <tbody>\n",
       "    <tr>\n",
       "      <th>12</th>\n",
       "      <td>12</td>\n",
       "      <td>eac_average_coassoc_matrix</td>\n",
       "      <td>[0, 0, 0, 0, 0, 0, 0, 0, 0, 0, 0, 0, 0, 0, 0, ...</td>\n",
       "      <td>0.284530</td>\n",
       "      <td>True</td>\n",
       "    </tr>\n",
       "    <tr>\n",
       "      <th>10</th>\n",
       "      <td>16</td>\n",
       "      <td>scc_020</td>\n",
       "      <td>[1, 1, 1, 1, 1, 1, 1, 1, 1, 1, 1, 1, 1, 1, 1, ...</td>\n",
       "      <td>0.285224</td>\n",
       "      <td>True</td>\n",
       "    </tr>\n",
       "    <tr>\n",
       "      <th>4</th>\n",
       "      <td>17</td>\n",
       "      <td>scc_020</td>\n",
       "      <td>[1, 1, 1, 1, 1, 1, 1, 1, 1, 1, 1, 1, 1, 1, 1, ...</td>\n",
       "      <td>0.285774</td>\n",
       "      <td>True</td>\n",
       "    </tr>\n",
       "    <tr>\n",
       "      <th>2</th>\n",
       "      <td>40</td>\n",
       "      <td>eac_average_coassoc_matrix</td>\n",
       "      <td>[25, 25, 25, 25, 25, 25, 25, 25, 25, 0, 25, 25...</td>\n",
       "      <td>0.286107</td>\n",
       "      <td>True</td>\n",
       "    </tr>\n",
       "    <tr>\n",
       "      <th>1</th>\n",
       "      <td>41</td>\n",
       "      <td>eac_average_coassoc_matrix</td>\n",
       "      <td>[25, 25, 25, 25, 25, 25, 25, 25, 25, 11, 25, 2...</td>\n",
       "      <td>0.286357</td>\n",
       "      <td>True</td>\n",
       "    </tr>\n",
       "    <tr>\n",
       "      <th>0</th>\n",
       "      <td>42</td>\n",
       "      <td>eac_average_coassoc_matrix</td>\n",
       "      <td>[25, 25, 25, 25, 25, 25, 25, 25, 25, 11, 25, 2...</td>\n",
       "      <td>0.286678</td>\n",
       "      <td>True</td>\n",
       "    </tr>\n",
       "    <tr>\n",
       "      <th>9</th>\n",
       "      <td>43</td>\n",
       "      <td>eac_average_coassoc_matrix</td>\n",
       "      <td>[25, 25, 25, 25, 25, 25, 25, 25, 25, 5, 25, 25...</td>\n",
       "      <td>0.285371</td>\n",
       "      <td>True</td>\n",
       "    </tr>\n",
       "    <tr>\n",
       "      <th>8</th>\n",
       "      <td>44</td>\n",
       "      <td>eac_average_coassoc_matrix</td>\n",
       "      <td>[25, 25, 25, 25, 25, 25, 25, 25, 25, 5, 25, 25...</td>\n",
       "      <td>0.285375</td>\n",
       "      <td>True</td>\n",
       "    </tr>\n",
       "    <tr>\n",
       "      <th>6</th>\n",
       "      <td>45</td>\n",
       "      <td>eac_average_coassoc_matrix</td>\n",
       "      <td>[25, 25, 25, 25, 25, 25, 25, 25, 25, 2, 25, 25...</td>\n",
       "      <td>0.285463</td>\n",
       "      <td>True</td>\n",
       "    </tr>\n",
       "    <tr>\n",
       "      <th>7</th>\n",
       "      <td>46</td>\n",
       "      <td>eac_average_coassoc_matrix</td>\n",
       "      <td>[25, 25, 25, 25, 25, 25, 25, 25, 25, 0, 25, 25...</td>\n",
       "      <td>0.285450</td>\n",
       "      <td>True</td>\n",
       "    </tr>\n",
       "    <tr>\n",
       "      <th>5</th>\n",
       "      <td>47</td>\n",
       "      <td>eac_average_coassoc_matrix</td>\n",
       "      <td>[25, 25, 25, 25, 25, 25, 25, 25, 25, 6, 25, 25...</td>\n",
       "      <td>0.285558</td>\n",
       "      <td>True</td>\n",
       "    </tr>\n",
       "    <tr>\n",
       "      <th>3</th>\n",
       "      <td>48</td>\n",
       "      <td>eac_average_coassoc_matrix</td>\n",
       "      <td>[25, 25, 25, 25, 25, 25, 25, 25, 25, 6, 25, 25...</td>\n",
       "      <td>0.286006</td>\n",
       "      <td>True</td>\n",
       "    </tr>\n",
       "    <tr>\n",
       "      <th>11</th>\n",
       "      <td>49</td>\n",
       "      <td>eac_average_coassoc_matrix</td>\n",
       "      <td>[25, 25, 25, 25, 25, 25, 25, 25, 25, 6, 25, 25...</td>\n",
       "      <td>0.285172</td>\n",
       "      <td>True</td>\n",
       "    </tr>\n",
       "    <tr>\n",
       "      <th>14</th>\n",
       "      <td>52</td>\n",
       "      <td>eac_average_coassoc_matrix</td>\n",
       "      <td>[12, 12, 12, 12, 12, 12, 12, 12, 12, 6, 12, 12...</td>\n",
       "      <td>0.284343</td>\n",
       "      <td>True</td>\n",
       "    </tr>\n",
       "    <tr>\n",
       "      <th>13</th>\n",
       "      <td>54</td>\n",
       "      <td>eac_average_coassoc_matrix</td>\n",
       "      <td>[25, 25, 25, 25, 25, 25, 25, 25, 25, 6, 25, 25...</td>\n",
       "      <td>0.284523</td>\n",
       "      <td>True</td>\n",
       "    </tr>\n",
       "  </tbody>\n",
       "</table>\n",
       "</div>"
      ],
      "text/plain": [
       "     k                      method  \\\n",
       "12  12  eac_average_coassoc_matrix   \n",
       "10  16                     scc_020   \n",
       "4   17                     scc_020   \n",
       "2   40  eac_average_coassoc_matrix   \n",
       "1   41  eac_average_coassoc_matrix   \n",
       "0   42  eac_average_coassoc_matrix   \n",
       "9   43  eac_average_coassoc_matrix   \n",
       "8   44  eac_average_coassoc_matrix   \n",
       "6   45  eac_average_coassoc_matrix   \n",
       "7   46  eac_average_coassoc_matrix   \n",
       "5   47  eac_average_coassoc_matrix   \n",
       "3   48  eac_average_coassoc_matrix   \n",
       "11  49  eac_average_coassoc_matrix   \n",
       "14  52  eac_average_coassoc_matrix   \n",
       "13  54  eac_average_coassoc_matrix   \n",
       "\n",
       "                                            partition  ami_mean  selected  \n",
       "12  [0, 0, 0, 0, 0, 0, 0, 0, 0, 0, 0, 0, 0, 0, 0, ...  0.284530      True  \n",
       "10  [1, 1, 1, 1, 1, 1, 1, 1, 1, 1, 1, 1, 1, 1, 1, ...  0.285224      True  \n",
       "4   [1, 1, 1, 1, 1, 1, 1, 1, 1, 1, 1, 1, 1, 1, 1, ...  0.285774      True  \n",
       "2   [25, 25, 25, 25, 25, 25, 25, 25, 25, 0, 25, 25...  0.286107      True  \n",
       "1   [25, 25, 25, 25, 25, 25, 25, 25, 25, 11, 25, 2...  0.286357      True  \n",
       "0   [25, 25, 25, 25, 25, 25, 25, 25, 25, 11, 25, 2...  0.286678      True  \n",
       "9   [25, 25, 25, 25, 25, 25, 25, 25, 25, 5, 25, 25...  0.285371      True  \n",
       "8   [25, 25, 25, 25, 25, 25, 25, 25, 25, 5, 25, 25...  0.285375      True  \n",
       "6   [25, 25, 25, 25, 25, 25, 25, 25, 25, 2, 25, 25...  0.285463      True  \n",
       "7   [25, 25, 25, 25, 25, 25, 25, 25, 25, 0, 25, 25...  0.285450      True  \n",
       "5   [25, 25, 25, 25, 25, 25, 25, 25, 25, 6, 25, 25...  0.285558      True  \n",
       "3   [25, 25, 25, 25, 25, 25, 25, 25, 25, 6, 25, 25...  0.286006      True  \n",
       "11  [25, 25, 25, 25, 25, 25, 25, 25, 25, 6, 25, 25...  0.285172      True  \n",
       "14  [12, 12, 12, 12, 12, 12, 12, 12, 12, 6, 12, 12...  0.284343      True  \n",
       "13  [25, 25, 25, 25, 25, 25, 25, 25, 25, 6, 25, 25...  0.284523      True  "
      ]
     },
     "execution_count": 23,
     "metadata": {},
     "output_type": "execute_result"
    }
   ],
   "source": [
    "# this list shows the selected final partitions, and which methods achieved the highest agreement\n",
    "plot_data[plot_data[\"selected\"]].sort_values(\"k\")"
   ]
  },
  {
   "cell_type": "markdown",
   "metadata": {
    "papermill": {
     "duration": 0.017811,
     "end_time": "2021-03-11T05:12:56.770360",
     "exception": false,
     "start_time": "2021-03-11T05:12:56.752549",
     "status": "completed"
    },
    "tags": []
   },
   "source": [
    "Evidence accumulation approaches (EAC) based on hierarchical clustering (such as `eac_average_coassoc_matrix` and `eac_single_coassoc_matrix`) pick the best partitions for lower `k` values, whereas spectral clustering does it better for all the rest."
   ]
  },
  {
   "cell_type": "code",
   "execution_count": null,
   "metadata": {
    "papermill": {
     "duration": 0.01813,
     "end_time": "2021-03-11T05:12:56.806099",
     "exception": false,
     "start_time": "2021-03-11T05:12:56.787969",
     "status": "completed"
    },
    "tags": []
   },
   "outputs": [],
   "source": []
  }
 ],
 "metadata": {
  "jupytext": {
   "cell_metadata_filter": "all,-execution,-papermill,-trusted",
   "formats": "ipynb,py//py:percent"
  },
  "kernelspec": {
   "display_name": "Python 3",
   "language": "python",
   "name": "python3"
  },
  "language_info": {
   "codemirror_mode": {
    "name": "ipython",
    "version": 3
   },
   "file_extension": ".py",
   "mimetype": "text/x-python",
   "name": "python",
   "nbconvert_exporter": "python",
   "pygments_lexer": "ipython3",
   "version": "3.8.8"
  },
  "papermill": {
   "default_parameters": {},
   "duration": 6.87171,
   "end_time": "2021-03-11T05:12:57.232885",
   "environment_variables": {},
   "exception": null,
   "input_path": "16_consensus_clustering/030_01-get_best_partitions.ipynb",
   "output_path": "16_consensus_clustering/030_01-get_best_partitions.run.ipynb",
   "parameters": {},
   "start_time": "2021-03-11T05:12:50.361175",
   "version": "2.2.2"
  },
  "toc-autonumbering": true,
  "toc-showcode": false,
  "toc-showmarkdowntxt": false,
  "toc-showtags": false
 },
 "nbformat": 4,
 "nbformat_minor": 4
}
