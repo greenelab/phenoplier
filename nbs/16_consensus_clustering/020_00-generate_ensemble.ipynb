{
 "cells": [
  {
   "cell_type": "markdown",
   "metadata": {
    "papermill": {
     "duration": 0.016572,
     "end_time": "2021-03-10T23:58:39.994421",
     "exception": false,
     "start_time": "2021-03-10T23:58:39.977849",
     "status": "completed"
    },
    "tags": []
   },
   "source": [
    "# Description"
   ]
  },
  {
   "cell_type": "markdown",
   "metadata": {
    "papermill": {
     "duration": 0.016538,
     "end_time": "2021-03-10T23:58:40.919377",
     "exception": false,
     "start_time": "2021-03-10T23:58:40.902839",
     "status": "completed"
    },
    "tags": []
   },
   "source": [
    "It reads all the clustering partitions obtained with different algorithms, and generates the ensemble by putting it into a numpy array. Then it obtains the coassociation matrix from the ensemble (see more details below)."
   ]
  },
  {
   "cell_type": "markdown",
   "metadata": {
    "papermill": {
     "duration": 0.012472,
     "end_time": "2021-03-10T23:58:40.944675",
     "exception": false,
     "start_time": "2021-03-10T23:58:40.932203",
     "status": "completed"
    },
    "tags": []
   },
   "source": [
    "# Environment variables"
   ]
  },
  {
   "cell_type": "code",
   "execution_count": 1,
   "metadata": {
    "execution": {
     "iopub.execute_input": "2021-03-10T23:58:40.975425Z",
     "iopub.status.busy": "2021-03-10T23:58:40.975055Z",
     "iopub.status.idle": "2021-03-10T23:58:40.985422Z",
     "shell.execute_reply": "2021-03-10T23:58:40.984993Z"
    },
    "papermill": {
     "duration": 0.028217,
     "end_time": "2021-03-10T23:58:40.985519",
     "exception": false,
     "start_time": "2021-03-10T23:58:40.957302",
     "status": "completed"
    },
    "tags": []
   },
   "outputs": [
    {
     "data": {
      "text/plain": [
       "2"
      ]
     },
     "metadata": {},
     "output_type": "display_data"
    }
   ],
   "source": [
    "from IPython.display import display\n",
    "\n",
    "import conf\n",
    "\n",
    "N_JOBS = conf.GENERAL[\"N_JOBS\"]\n",
    "display(N_JOBS)"
   ]
  },
  {
   "cell_type": "code",
   "execution_count": 2,
   "metadata": {
    "execution": {
     "iopub.execute_input": "2021-03-10T23:58:41.016726Z",
     "iopub.status.busy": "2021-03-10T23:58:41.016300Z",
     "iopub.status.idle": "2021-03-10T23:58:41.019024Z",
     "shell.execute_reply": "2021-03-10T23:58:41.018652Z"
    },
    "papermill": {
     "duration": 0.020042,
     "end_time": "2021-03-10T23:58:41.019107",
     "exception": false,
     "start_time": "2021-03-10T23:58:40.999065",
     "status": "completed"
    },
    "tags": []
   },
   "outputs": [
    {
     "name": "stdout",
     "output_type": "stream",
     "text": [
      "env: MKL_NUM_THREADS=2\n",
      "env: OPEN_BLAS_NUM_THREADS=2\n",
      "env: NUMEXPR_NUM_THREADS=2\n",
      "env: OMP_NUM_THREADS=2\n"
     ]
    }
   ],
   "source": [
    "%env MKL_NUM_THREADS=$N_JOBS\n",
    "%env OPEN_BLAS_NUM_THREADS=$N_JOBS\n",
    "%env NUMEXPR_NUM_THREADS=$N_JOBS\n",
    "%env OMP_NUM_THREADS=$N_JOBS"
   ]
  },
  {
   "cell_type": "markdown",
   "metadata": {
    "papermill": {
     "duration": 0.013165,
     "end_time": "2021-03-10T23:58:41.046060",
     "exception": false,
     "start_time": "2021-03-10T23:58:41.032895",
     "status": "completed"
    },
    "tags": []
   },
   "source": [
    "# Modules loading"
   ]
  },
  {
   "cell_type": "code",
   "execution_count": 3,
   "metadata": {
    "execution": {
     "iopub.execute_input": "2021-03-10T23:58:41.075377Z",
     "iopub.status.busy": "2021-03-10T23:58:41.075005Z",
     "iopub.status.idle": "2021-03-10T23:58:41.082545Z",
     "shell.execute_reply": "2021-03-10T23:58:41.082181Z"
    },
    "papermill": {
     "duration": 0.023424,
     "end_time": "2021-03-10T23:58:41.082628",
     "exception": false,
     "start_time": "2021-03-10T23:58:41.059204",
     "status": "completed"
    },
    "tags": []
   },
   "outputs": [],
   "source": [
    "%load_ext autoreload\n",
    "%autoreload 2"
   ]
  },
  {
   "cell_type": "code",
   "execution_count": 4,
   "metadata": {
    "execution": {
     "iopub.execute_input": "2021-03-10T23:58:41.111598Z",
     "iopub.status.busy": "2021-03-10T23:58:41.111225Z",
     "iopub.status.idle": "2021-03-10T23:58:41.278035Z",
     "shell.execute_reply": "2021-03-10T23:58:41.277709Z"
    },
    "papermill": {
     "duration": 0.181967,
     "end_time": "2021-03-10T23:58:41.278119",
     "exception": false,
     "start_time": "2021-03-10T23:58:41.096152",
     "status": "completed"
    },
    "tags": []
   },
   "outputs": [],
   "source": [
    "from pathlib import Path\n",
    "\n",
    "import numpy as np\n",
    "import pandas as pd"
   ]
  },
  {
   "cell_type": "markdown",
   "metadata": {
    "papermill": {
     "duration": 0.013871,
     "end_time": "2021-03-10T23:58:41.305375",
     "exception": false,
     "start_time": "2021-03-10T23:58:41.291504",
     "status": "completed"
    },
    "tags": []
   },
   "source": [
    "# Settings"
   ]
  },
  {
   "cell_type": "code",
   "execution_count": 5,
   "metadata": {
    "execution": {
     "iopub.execute_input": "2021-03-10T23:58:41.335093Z",
     "iopub.status.busy": "2021-03-10T23:58:41.334729Z",
     "iopub.status.idle": "2021-03-10T23:58:41.341609Z",
     "shell.execute_reply": "2021-03-10T23:58:41.341284Z"
    },
    "papermill": {
     "duration": 0.022534,
     "end_time": "2021-03-10T23:58:41.341693",
     "exception": false,
     "start_time": "2021-03-10T23:58:41.319159",
     "status": "completed"
    },
    "tags": []
   },
   "outputs": [],
   "source": [
    "RANDOM_GENERATOR = np.random.default_rng(12345)"
   ]
  },
  {
   "cell_type": "markdown",
   "metadata": {
    "papermill": {
     "duration": 0.013715,
     "end_time": "2021-03-10T23:58:41.369356",
     "exception": false,
     "start_time": "2021-03-10T23:58:41.355641",
     "status": "completed"
    },
    "tags": []
   },
   "source": [
    "## Ensemble size"
   ]
  },
  {
   "cell_type": "markdown",
   "metadata": {
    "papermill": {
     "duration": 0.01286,
     "end_time": "2021-03-10T23:58:41.395536",
     "exception": false,
     "start_time": "2021-03-10T23:58:41.382676",
     "status": "completed"
    },
    "tags": []
   },
   "source": [
    "For some clustering algorithms it is easy to control the number of final partitions to generate: for instance, for k-means, you can generate partitions from k=2 to k=20 (19 partitions with different number of clusters). However, with algorithms such as DBSCAN this is not very easy to achieve, since for some parameter combinations (`eps` and `min_samples`) it generates partitions with one cluster (which is not an actual partition of the data) that are not included here.\n",
    "\n",
    "The parameters below specify the expected number of partitions for each clustering algorithm, and a range of allowed sizes. Then, the code below checks that each algorithm has the same representation in the ensemble. For example, if `EXPECTED_ENSEMBLE_SIZE=50`, `MIN_ENSEMBLE_SIZE=45` and `MAX_ENSEMBLE_SIZE=55`, the code below will check that k-means, spectral clustering, DBSCAN, etc, generated between 45 and 55 partitions. If not, it resamples the generated partitions to get 50 (the value specified by `EXPECTED_ENSEMBLE_SIZE`), so each algorithm has approximately the same representation in the full ensemble."
   ]
  },
  {
   "cell_type": "code",
   "execution_count": 6,
   "metadata": {
    "execution": {
     "iopub.execute_input": "2021-03-10T23:58:41.424363Z",
     "iopub.status.busy": "2021-03-10T23:58:41.424003Z",
     "iopub.status.idle": "2021-03-10T23:58:41.430909Z",
     "shell.execute_reply": "2021-03-10T23:58:41.430596Z"
    },
    "papermill": {
     "duration": 0.022164,
     "end_time": "2021-03-10T23:58:41.430993",
     "exception": false,
     "start_time": "2021-03-10T23:58:41.408829",
     "status": "completed"
    },
    "tags": []
   },
   "outputs": [],
   "source": [
    "EXPECTED_ENSEMBLE_SIZE = 295\n",
    "\n",
    "MIN_ENSEMBLE_SIZE = 290\n",
    "MAX_ENSEMBLE_SIZE = 300"
   ]
  },
  {
   "cell_type": "markdown",
   "metadata": {
    "papermill": {
     "duration": 0.012928,
     "end_time": "2021-03-10T23:58:41.457376",
     "exception": false,
     "start_time": "2021-03-10T23:58:41.444448",
     "status": "completed"
    },
    "tags": []
   },
   "source": [
    "## Consensus clustering"
   ]
  },
  {
   "cell_type": "code",
   "execution_count": 7,
   "metadata": {
    "execution": {
     "iopub.execute_input": "2021-03-10T23:58:41.488856Z",
     "iopub.status.busy": "2021-03-10T23:58:41.488459Z",
     "iopub.status.idle": "2021-03-10T23:58:41.497080Z",
     "shell.execute_reply": "2021-03-10T23:58:41.496666Z"
    },
    "papermill": {
     "duration": 0.02556,
     "end_time": "2021-03-10T23:58:41.497173",
     "exception": false,
     "start_time": "2021-03-10T23:58:41.471613",
     "status": "completed"
    },
    "tags": []
   },
   "outputs": [
    {
     "data": {
      "text/plain": [
       "PosixPath('/home/miltondp/projects/labs/greenelab/phenoplier/base/results/clustering/consensus_clustering')"
      ]
     },
     "metadata": {},
     "output_type": "display_data"
    }
   ],
   "source": [
    "# output dir for this notebook\n",
    "RESULTS_DIR = Path(conf.RESULTS[\"CLUSTERING_DIR\"], \"consensus_clustering\").resolve()\n",
    "RESULTS_DIR.mkdir(parents=True, exist_ok=True)\n",
    "\n",
    "display(RESULTS_DIR)"
   ]
  },
  {
   "cell_type": "markdown",
   "metadata": {
    "papermill": {
     "duration": 0.013639,
     "end_time": "2021-03-10T23:58:41.525779",
     "exception": false,
     "start_time": "2021-03-10T23:58:41.512140",
     "status": "completed"
    },
    "tags": []
   },
   "source": [
    "# Get ensemble"
   ]
  },
  {
   "cell_type": "markdown",
   "metadata": {
    "papermill": {
     "duration": 0.013219,
     "end_time": "2021-03-10T23:58:41.552280",
     "exception": false,
     "start_time": "2021-03-10T23:58:41.539061",
     "status": "completed"
    },
    "tags": []
   },
   "source": [
    "## Load partition files"
   ]
  },
  {
   "cell_type": "code",
   "execution_count": 8,
   "metadata": {
    "execution": {
     "iopub.execute_input": "2021-03-10T23:58:41.581308Z",
     "iopub.status.busy": "2021-03-10T23:58:41.580947Z",
     "iopub.status.idle": "2021-03-10T23:58:41.588882Z",
     "shell.execute_reply": "2021-03-10T23:58:41.588472Z"
    },
    "papermill": {
     "duration": 0.023412,
     "end_time": "2021-03-10T23:58:41.588965",
     "exception": false,
     "start_time": "2021-03-10T23:58:41.565553",
     "status": "completed"
    },
    "tags": []
   },
   "outputs": [
    {
     "data": {
      "text/plain": [
       "PosixPath('/home/miltondp/projects/labs/greenelab/phenoplier/base/results/clustering/runs')"
      ]
     },
     "metadata": {},
     "output_type": "display_data"
    }
   ],
   "source": [
    "input_dir = Path(\n",
    "    conf.RESULTS[\"CLUSTERING_RUNS_DIR\"],\n",
    ").resolve()\n",
    "display(input_dir)"
   ]
  },
  {
   "cell_type": "code",
   "execution_count": 9,
   "metadata": {
    "execution": {
     "iopub.execute_input": "2021-03-10T23:58:41.619675Z",
     "iopub.status.busy": "2021-03-10T23:58:41.619312Z",
     "iopub.status.idle": "2021-03-10T23:58:41.626500Z",
     "shell.execute_reply": "2021-03-10T23:58:41.626793Z"
    },
    "papermill": {
     "duration": 0.023692,
     "end_time": "2021-03-10T23:58:41.626894",
     "exception": false,
     "start_time": "2021-03-10T23:58:41.603202",
     "status": "completed"
    },
    "tags": []
   },
   "outputs": [],
   "source": [
    "included_pkl_files = []\n",
    "\n",
    "for pkl_file in input_dir.rglob(\"*.pkl\"):\n",
    "    pkl_file_str = str(pkl_file)\n",
    "\n",
    "    # skip stability pkl files\n",
    "    if \"-stability-\" in pkl_file_str:\n",
    "        continue\n",
    "\n",
    "    included_pkl_files.append(pkl_file)"
   ]
  },
  {
   "cell_type": "code",
   "execution_count": 10,
   "metadata": {
    "execution": {
     "iopub.execute_input": "2021-03-10T23:58:41.657379Z",
     "iopub.status.busy": "2021-03-10T23:58:41.657021Z",
     "iopub.status.idle": "2021-03-10T23:58:41.665418Z",
     "shell.execute_reply": "2021-03-10T23:58:41.665095Z"
    },
    "papermill": {
     "duration": 0.024516,
     "end_time": "2021-03-10T23:58:41.665504",
     "exception": false,
     "start_time": "2021-03-10T23:58:41.640988",
     "status": "completed"
    },
    "tags": []
   },
   "outputs": [
    {
     "data": {
      "text/plain": [
       "15"
      ]
     },
     "metadata": {},
     "output_type": "display_data"
    }
   ],
   "source": [
    "display(len(included_pkl_files))\n",
    "\n",
    "# 5 algorithms, 3 dataset versions\n",
    "assert len(included_pkl_files) == 5 * 3"
   ]
  },
  {
   "cell_type": "markdown",
   "metadata": {
    "papermill": {
     "duration": 0.014228,
     "end_time": "2021-03-10T23:58:41.694139",
     "exception": false,
     "start_time": "2021-03-10T23:58:41.679911",
     "status": "completed"
    },
    "tags": []
   },
   "source": [
    "## Combine partition files to get final ensemble"
   ]
  },
  {
   "cell_type": "code",
   "execution_count": 11,
   "metadata": {
    "execution": {
     "iopub.execute_input": "2021-03-10T23:58:41.723916Z",
     "iopub.status.busy": "2021-03-10T23:58:41.723557Z",
     "iopub.status.idle": "2021-03-10T23:58:41.730601Z",
     "shell.execute_reply": "2021-03-10T23:58:41.730249Z"
    },
    "papermill": {
     "duration": 0.022838,
     "end_time": "2021-03-10T23:58:41.730682",
     "exception": false,
     "start_time": "2021-03-10T23:58:41.707844",
     "status": "completed"
    },
    "tags": []
   },
   "outputs": [],
   "source": [
    "n_partitions = 0"
   ]
  },
  {
   "cell_type": "code",
   "execution_count": 12,
   "metadata": {
    "execution": {
     "iopub.execute_input": "2021-03-10T23:58:41.760535Z",
     "iopub.status.busy": "2021-03-10T23:58:41.760180Z",
     "iopub.status.idle": "2021-03-10T23:58:41.766629Z",
     "shell.execute_reply": "2021-03-10T23:58:41.766909Z"
    },
    "papermill": {
     "duration": 0.022586,
     "end_time": "2021-03-10T23:58:41.767013",
     "exception": false,
     "start_time": "2021-03-10T23:58:41.744427",
     "status": "completed"
    },
    "tags": []
   },
   "outputs": [],
   "source": [
    "ensembles_list = []"
   ]
  },
  {
   "cell_type": "code",
   "execution_count": 13,
   "metadata": {
    "execution": {
     "iopub.execute_input": "2021-03-10T23:58:41.799952Z",
     "iopub.status.busy": "2021-03-10T23:58:41.799567Z",
     "iopub.status.idle": "2021-03-10T23:58:41.948605Z",
     "shell.execute_reply": "2021-03-10T23:58:41.948203Z"
    },
    "papermill": {
     "duration": 0.167219,
     "end_time": "2021-03-10T23:58:41.948718",
     "exception": false,
     "start_time": "2021-03-10T23:58:41.781499",
     "status": "completed"
    },
    "tags": []
   },
   "outputs": [
    {
     "name": "stdout",
     "output_type": "stream",
     "text": [
      "More partitions than expected in umap-z_score_std-projection-smultixcan-efo_partial-mashr-zscores/DBSCAN.pkl\n",
      "Less partitions than expected in z_score_std-projection-smultixcan-efo_partial-mashr-zscores/DBSCAN.pkl\n",
      "More partitions than expected in pca-z_score_std-projection-smultixcan-efo_partial-mashr-zscores/DBSCAN.pkl\n"
     ]
    }
   ],
   "source": [
    "for ens_file in included_pkl_files:\n",
    "    ens = pd.read_pickle(ens_file)\n",
    "\n",
    "    short_file_path = Path(*ens_file.parts[-2:])\n",
    "\n",
    "    if ens.shape[0] < MIN_ENSEMBLE_SIZE:\n",
    "        print(f\"Less partitions than expected in {short_file_path}\")\n",
    "\n",
    "        # if less partitions than expected, resample with replacement\n",
    "        ens = ens.sample(\n",
    "            n=EXPECTED_ENSEMBLE_SIZE,\n",
    "            replace=True,\n",
    "            random_state=RANDOM_GENERATOR.bit_generator,\n",
    "        )\n",
    "        assert ens.shape[0] == EXPECTED_ENSEMBLE_SIZE\n",
    "\n",
    "    elif ens.shape[0] > MAX_ENSEMBLE_SIZE:\n",
    "        print(f\"More partitions than expected in {short_file_path}\")\n",
    "\n",
    "        # if more partitions than expected, take a smaller sample\n",
    "        ens = ens.sample(\n",
    "            n=EXPECTED_ENSEMBLE_SIZE, random_state=RANDOM_GENERATOR.bit_generator\n",
    "        )\n",
    "        assert ens.shape[0] == EXPECTED_ENSEMBLE_SIZE\n",
    "\n",
    "    ens_full_format = np.concatenate(\n",
    "        ens[\"partition\"].apply(lambda x: x.reshape(1, -1)), axis=0\n",
    "    )\n",
    "\n",
    "    n_partitions += ens_full_format.shape[0]\n",
    "\n",
    "    ensembles_list.append(ens_full_format)"
   ]
  },
  {
   "cell_type": "code",
   "execution_count": 14,
   "metadata": {
    "execution": {
     "iopub.execute_input": "2021-03-10T23:58:41.985216Z",
     "iopub.status.busy": "2021-03-10T23:58:41.984832Z",
     "iopub.status.idle": "2021-03-10T23:58:41.992397Z",
     "shell.execute_reply": "2021-03-10T23:58:41.992083Z"
    },
    "papermill": {
     "duration": 0.026111,
     "end_time": "2021-03-10T23:58:41.992486",
     "exception": false,
     "start_time": "2021-03-10T23:58:41.966375",
     "status": "completed"
    },
    "tags": []
   },
   "outputs": [
    {
     "data": {
      "text/plain": [
       "15"
      ]
     },
     "metadata": {},
     "output_type": "display_data"
    }
   ],
   "source": [
    "display(len(ensembles_list))\n",
    "assert len(ensembles_list) == len(included_pkl_files)"
   ]
  },
  {
   "cell_type": "code",
   "execution_count": 15,
   "metadata": {
    "execution": {
     "iopub.execute_input": "2021-03-10T23:58:42.024941Z",
     "iopub.status.busy": "2021-03-10T23:58:42.024549Z",
     "iopub.status.idle": "2021-03-10T23:58:42.032269Z",
     "shell.execute_reply": "2021-03-10T23:58:42.031955Z"
    },
    "papermill": {
     "duration": 0.024647,
     "end_time": "2021-03-10T23:58:42.032356",
     "exception": false,
     "start_time": "2021-03-10T23:58:42.007709",
     "status": "completed"
    },
    "tags": []
   },
   "outputs": [
    {
     "data": {
      "text/plain": [
       "3752"
      ]
     },
     "metadata": {},
     "output_type": "display_data"
    }
   ],
   "source": [
    "n_data_objects = ensembles_list[0].shape[1]\n",
    "display(n_data_objects)"
   ]
  },
  {
   "cell_type": "code",
   "execution_count": 16,
   "metadata": {
    "execution": {
     "iopub.execute_input": "2021-03-10T23:58:42.065886Z",
     "iopub.status.busy": "2021-03-10T23:58:42.065522Z",
     "iopub.status.idle": "2021-03-10T23:58:42.073320Z",
     "shell.execute_reply": "2021-03-10T23:58:42.072944Z"
    },
    "papermill": {
     "duration": 0.025472,
     "end_time": "2021-03-10T23:58:42.073404",
     "exception": false,
     "start_time": "2021-03-10T23:58:42.047932",
     "status": "completed"
    },
    "tags": []
   },
   "outputs": [
    {
     "data": {
      "text/plain": [
       "4428"
      ]
     },
     "metadata": {},
     "output_type": "display_data"
    }
   ],
   "source": [
    "display(n_partitions)"
   ]
  },
  {
   "cell_type": "code",
   "execution_count": 17,
   "metadata": {
    "execution": {
     "iopub.execute_input": "2021-03-10T23:58:42.105841Z",
     "iopub.status.busy": "2021-03-10T23:58:42.105473Z",
     "iopub.status.idle": "2021-03-10T23:58:42.316107Z",
     "shell.execute_reply": "2021-03-10T23:58:42.316453Z"
    },
    "papermill": {
     "duration": 0.227709,
     "end_time": "2021-03-10T23:58:42.316581",
     "exception": false,
     "start_time": "2021-03-10T23:58:42.088872",
     "status": "completed"
    },
    "tags": []
   },
   "outputs": [],
   "source": [
    "full_ensemble = ensembles_list[0]\n",
    "for ens in ensembles_list[1:]:\n",
    "    full_ensemble = np.concatenate((full_ensemble, ens), axis=0)"
   ]
  },
  {
   "cell_type": "code",
   "execution_count": 18,
   "metadata": {
    "execution": {
     "iopub.execute_input": "2021-03-10T23:58:42.352565Z",
     "iopub.status.busy": "2021-03-10T23:58:42.352202Z",
     "iopub.status.idle": "2021-03-10T23:58:42.359384Z",
     "shell.execute_reply": "2021-03-10T23:58:42.359663Z"
    },
    "papermill": {
     "duration": 0.026057,
     "end_time": "2021-03-10T23:58:42.359767",
     "exception": false,
     "start_time": "2021-03-10T23:58:42.333710",
     "status": "completed"
    },
    "tags": []
   },
   "outputs": [
    {
     "data": {
      "text/plain": [
       "(4428, 3752)"
      ]
     },
     "metadata": {},
     "output_type": "display_data"
    }
   ],
   "source": [
    "display(full_ensemble.shape)\n",
    "assert full_ensemble.shape == (n_partitions, n_data_objects)"
   ]
  },
  {
   "cell_type": "markdown",
   "metadata": {
    "papermill": {
     "duration": 0.014595,
     "end_time": "2021-03-10T23:58:42.389593",
     "exception": false,
     "start_time": "2021-03-10T23:58:42.374998",
     "status": "completed"
    },
    "tags": []
   },
   "source": [
    "## Save"
   ]
  },
  {
   "cell_type": "code",
   "execution_count": 19,
   "metadata": {
    "execution": {
     "iopub.execute_input": "2021-03-10T23:58:42.421506Z",
     "iopub.status.busy": "2021-03-10T23:58:42.421147Z",
     "iopub.status.idle": "2021-03-10T23:58:42.429069Z",
     "shell.execute_reply": "2021-03-10T23:58:42.428679Z"
    },
    "papermill": {
     "duration": 0.02479,
     "end_time": "2021-03-10T23:58:42.429151",
     "exception": false,
     "start_time": "2021-03-10T23:58:42.404361",
     "status": "completed"
    },
    "tags": []
   },
   "outputs": [
    {
     "data": {
      "text/plain": [
       "PosixPath('/home/miltondp/projects/labs/greenelab/phenoplier/base/results/clustering/consensus_clustering/ensemble.npy')"
      ]
     },
     "metadata": {},
     "output_type": "display_data"
    }
   ],
   "source": [
    "output_file = Path(RESULTS_DIR, \"ensemble.npy\").resolve()\n",
    "display(output_file)"
   ]
  },
  {
   "cell_type": "code",
   "execution_count": 20,
   "metadata": {
    "execution": {
     "iopub.execute_input": "2021-03-10T23:58:42.462002Z",
     "iopub.status.busy": "2021-03-10T23:58:42.461639Z",
     "iopub.status.idle": "2021-03-10T23:58:42.469445Z",
     "shell.execute_reply": "2021-03-10T23:58:42.469796Z"
    },
    "papermill": {
     "duration": 0.025396,
     "end_time": "2021-03-10T23:58:42.469913",
     "exception": false,
     "start_time": "2021-03-10T23:58:42.444517",
     "status": "completed"
    },
    "tags": []
   },
   "outputs": [
    {
     "data": {
      "text/plain": [
       "array([[1., 0., 0., ..., 1., 1., 0.],\n",
       "       [1., 0., 0., ..., 1., 1., 0.],\n",
       "       [1., 0., 0., ..., 1., 1., 0.],\n",
       "       ...,\n",
       "       [0., 0., 0., ..., 0., 0., 0.],\n",
       "       [0., 0., 0., ..., 0., 0., 0.],\n",
       "       [0., 0., 0., ..., 0., 0., 0.]])"
      ]
     },
     "execution_count": 20,
     "metadata": {},
     "output_type": "execute_result"
    }
   ],
   "source": [
    "full_ensemble"
   ]
  },
  {
   "cell_type": "code",
   "execution_count": 21,
   "metadata": {
    "execution": {
     "iopub.execute_input": "2021-03-10T23:58:42.506325Z",
     "iopub.status.busy": "2021-03-10T23:58:42.505958Z",
     "iopub.status.idle": "2021-03-10T23:58:42.576442Z",
     "shell.execute_reply": "2021-03-10T23:58:42.576784Z"
    },
    "papermill": {
     "duration": 0.08933,
     "end_time": "2021-03-10T23:58:42.576904",
     "exception": false,
     "start_time": "2021-03-10T23:58:42.487574",
     "status": "completed"
    },
    "tags": []
   },
   "outputs": [],
   "source": [
    "np.save(output_file, full_ensemble)"
   ]
  },
  {
   "cell_type": "markdown",
   "metadata": {
    "papermill": {
     "duration": 0.016163,
     "end_time": "2021-03-10T23:58:42.609893",
     "exception": false,
     "start_time": "2021-03-10T23:58:42.593730",
     "status": "completed"
    },
    "tags": []
   },
   "source": [
    "# Get coassociation matrix from ensemble"
   ]
  },
  {
   "cell_type": "markdown",
   "metadata": {
    "papermill": {
     "duration": 0.014986,
     "end_time": "2021-03-10T23:58:42.639950",
     "exception": false,
     "start_time": "2021-03-10T23:58:42.624964",
     "status": "completed"
    },
    "tags": []
   },
   "source": [
    "The coassociation matrix is a distance matrix derived from the ensemble, where each cell represents the percentage of times a pair of objects (traits and diseases in this case) were not clustered together. It serves as an input for any consensus function (basically, another clustering algorithm) to derive a consensus partition."
   ]
  },
  {
   "cell_type": "code",
   "execution_count": 22,
   "metadata": {
    "execution": {
     "iopub.execute_input": "2021-03-10T23:58:42.672813Z",
     "iopub.status.busy": "2021-03-10T23:58:42.672381Z",
     "iopub.status.idle": "2021-03-10T23:58:42.943576Z",
     "shell.execute_reply": "2021-03-10T23:58:42.943203Z"
    },
    "papermill": {
     "duration": 0.288515,
     "end_time": "2021-03-10T23:58:42.943661",
     "exception": false,
     "start_time": "2021-03-10T23:58:42.655146",
     "status": "completed"
    },
    "tags": []
   },
   "outputs": [],
   "source": [
    "from clustering.ensembles.utils import get_ensemble_distance_matrix"
   ]
  },
  {
   "cell_type": "code",
   "execution_count": 23,
   "metadata": {
    "execution": {
     "iopub.execute_input": "2021-03-10T23:58:42.976739Z",
     "iopub.status.busy": "2021-03-10T23:58:42.976343Z",
     "iopub.status.idle": "2021-03-11T00:14:26.430451Z",
     "shell.execute_reply": "2021-03-11T00:14:26.429974Z"
    },
    "papermill": {
     "duration": 943.471552,
     "end_time": "2021-03-11T00:14:26.430557",
     "exception": false,
     "start_time": "2021-03-10T23:58:42.959005",
     "status": "completed"
    },
    "tags": []
   },
   "outputs": [],
   "source": [
    "ensemble_coassoc_matrix = get_ensemble_distance_matrix(\n",
    "    full_ensemble,\n",
    "    n_jobs=conf.GENERAL[\"N_JOBS\"],\n",
    ")"
   ]
  },
  {
   "cell_type": "code",
   "execution_count": 24,
   "metadata": {
    "execution": {
     "iopub.execute_input": "2021-03-11T00:14:27.367625Z",
     "iopub.status.busy": "2021-03-11T00:14:27.366096Z",
     "iopub.status.idle": "2021-03-11T00:14:27.399107Z",
     "shell.execute_reply": "2021-03-11T00:14:27.398262Z"
    },
    "papermill": {
     "duration": 0.950155,
     "end_time": "2021-03-11T00:14:27.399356",
     "exception": false,
     "start_time": "2021-03-11T00:14:26.449201",
     "status": "completed"
    },
    "tags": []
   },
   "outputs": [
    {
     "data": {
      "text/plain": [
       "(3752, 3752)"
      ]
     },
     "execution_count": 24,
     "metadata": {},
     "output_type": "execute_result"
    }
   ],
   "source": [
    "ensemble_coassoc_matrix.shape"
   ]
  },
  {
   "cell_type": "code",
   "execution_count": 25,
   "metadata": {
    "execution": {
     "iopub.execute_input": "2021-03-11T00:14:27.458270Z",
     "iopub.status.busy": "2021-03-11T00:14:27.457896Z",
     "iopub.status.idle": "2021-03-11T00:14:27.467552Z",
     "shell.execute_reply": "2021-03-11T00:14:27.467861Z"
    },
    "papermill": {
     "duration": 0.030227,
     "end_time": "2021-03-11T00:14:27.467966",
     "exception": false,
     "start_time": "2021-03-11T00:14:27.437739",
     "status": "completed"
    },
    "tags": []
   },
   "outputs": [
    {
     "data": {
      "text/plain": [
       "array([[0.        , 0.31497143, 0.328     , ..., 0.47951098, 0.41141688,\n",
       "        0.64433341],\n",
       "       [0.31497143, 0.        , 0.04153355, ..., 0.67868553, 0.6486054 ,\n",
       "        0.67496005],\n",
       "       [0.328     , 0.04153355, 0.        , ..., 0.66408033, 0.64220393,\n",
       "        0.67701438],\n",
       "       ...,\n",
       "       [0.47951098, 0.67868553, 0.66408033, ..., 0.        , 0.48558456,\n",
       "        0.51122195],\n",
       "       [0.41141688, 0.6486054 , 0.64220393, ..., 0.48558456, 0.        ,\n",
       "        0.66749943],\n",
       "       [0.64433341, 0.67496005, 0.67701438, ..., 0.51122195, 0.66749943,\n",
       "        0.        ]])"
      ]
     },
     "execution_count": 25,
     "metadata": {},
     "output_type": "execute_result"
    }
   ],
   "source": [
    "ensemble_coassoc_matrix"
   ]
  },
  {
   "cell_type": "markdown",
   "metadata": {
    "papermill": {
     "duration": 0.016384,
     "end_time": "2021-03-11T00:14:27.501302",
     "exception": false,
     "start_time": "2021-03-11T00:14:27.484918",
     "status": "completed"
    },
    "tags": []
   },
   "source": [
    "## Save"
   ]
  },
  {
   "cell_type": "code",
   "execution_count": 26,
   "metadata": {
    "execution": {
     "iopub.execute_input": "2021-03-11T00:14:27.536766Z",
     "iopub.status.busy": "2021-03-11T00:14:27.536365Z",
     "iopub.status.idle": "2021-03-11T00:14:27.546112Z",
     "shell.execute_reply": "2021-03-11T00:14:27.546404Z"
    },
    "papermill": {
     "duration": 0.029581,
     "end_time": "2021-03-11T00:14:27.546506",
     "exception": false,
     "start_time": "2021-03-11T00:14:27.516925",
     "status": "completed"
    },
    "tags": []
   },
   "outputs": [
    {
     "data": {
      "text/plain": [
       "PosixPath('/home/miltondp/projects/labs/greenelab/phenoplier/base/results/clustering/consensus_clustering/ensemble_coassoc_matrix.npy')"
      ]
     },
     "metadata": {},
     "output_type": "display_data"
    }
   ],
   "source": [
    "output_file = Path(RESULTS_DIR, \"ensemble_coassoc_matrix.npy\").resolve()\n",
    "display(output_file)"
   ]
  },
  {
   "cell_type": "code",
   "execution_count": 27,
   "metadata": {
    "execution": {
     "iopub.execute_input": "2021-03-11T00:14:27.582274Z",
     "iopub.status.busy": "2021-03-11T00:14:27.581906Z",
     "iopub.status.idle": "2021-03-11T00:14:27.643606Z",
     "shell.execute_reply": "2021-03-11T00:14:27.643178Z"
    },
    "papermill": {
     "duration": 0.080383,
     "end_time": "2021-03-11T00:14:27.643703",
     "exception": false,
     "start_time": "2021-03-11T00:14:27.563320",
     "status": "completed"
    },
    "tags": []
   },
   "outputs": [],
   "source": [
    "np.save(output_file, ensemble_coassoc_matrix)"
   ]
  },
  {
   "cell_type": "code",
   "execution_count": null,
   "metadata": {
    "papermill": {
     "duration": 0.016765,
     "end_time": "2021-03-11T00:14:27.679013",
     "exception": false,
     "start_time": "2021-03-11T00:14:27.662248",
     "status": "completed"
    },
    "tags": []
   },
   "outputs": [],
   "source": []
  }
 ],
 "metadata": {
  "jupytext": {
   "cell_metadata_filter": "all,-execution,-papermill",
   "formats": "ipynb,py//py:percent"
  },
  "kernelspec": {
   "display_name": "Python 3",
   "language": "python",
   "name": "python3"
  },
  "language_info": {
   "codemirror_mode": {
    "name": "ipython",
    "version": 3
   },
   "file_extension": ".py",
   "mimetype": "text/x-python",
   "name": "python",
   "nbconvert_exporter": "python",
   "pygments_lexer": "ipython3",
   "version": "3.8.8"
  },
  "papermill": {
   "default_parameters": {},
   "duration": 949.000684,
   "end_time": "2021-03-11T00:14:28.000245",
   "environment_variables": {},
   "exception": null,
   "input_path": "16_consensus_clustering/020_00-generate_ensemble.ipynb",
   "output_path": "16_consensus_clustering/020_00-generate_ensemble.run.ipynb",
   "parameters": {},
   "start_time": "2021-03-10T23:58:38.999561",
   "version": "2.2.2"
  },
  "toc-autonumbering": true,
  "toc-showcode": false,
  "toc-showmarkdowntxt": false,
  "toc-showtags": false
 },
 "nbformat": 4,
 "nbformat_minor": 4
}
