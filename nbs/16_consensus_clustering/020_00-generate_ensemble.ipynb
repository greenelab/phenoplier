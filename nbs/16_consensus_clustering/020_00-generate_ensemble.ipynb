{
 "cells": [
  {
   "cell_type": "markdown",
   "metadata": {
    "papermill": {
     "duration": 0.046349,
     "end_time": "2021-05-09T03:31:38.960563",
     "exception": false,
     "start_time": "2021-05-09T03:31:38.914214",
     "status": "completed"
    },
    "tags": []
   },
   "source": [
    "# Description"
   ]
  },
  {
   "cell_type": "markdown",
   "metadata": {
    "papermill": {
     "duration": 0.012466,
     "end_time": "2021-05-09T03:31:38.989489",
     "exception": false,
     "start_time": "2021-05-09T03:31:38.977023",
     "status": "completed"
    },
    "tags": []
   },
   "source": [
    "It reads all the clustering partitions obtained with different algorithms, and generates the ensemble by putting it into a numpy array. Then it obtains the coassociation matrix from the ensemble (see more details below)."
   ]
  },
  {
   "cell_type": "markdown",
   "metadata": {
    "papermill": {
     "duration": 0.012425,
     "end_time": "2021-05-09T03:31:39.014414",
     "exception": false,
     "start_time": "2021-05-09T03:31:39.001989",
     "status": "completed"
    },
    "tags": []
   },
   "source": [
    "# Environment variables"
   ]
  },
  {
   "cell_type": "code",
   "execution_count": 1,
   "metadata": {
    "execution": {
     "iopub.execute_input": "2021-05-09T03:31:39.045366Z",
     "iopub.status.busy": "2021-05-09T03:31:39.044988Z",
     "iopub.status.idle": "2021-05-09T03:31:39.055556Z",
     "shell.execute_reply": "2021-05-09T03:31:39.055135Z"
    },
    "papermill": {
     "duration": 0.028736,
     "end_time": "2021-05-09T03:31:39.055645",
     "exception": false,
     "start_time": "2021-05-09T03:31:39.026909",
     "status": "completed"
    },
    "tags": []
   },
   "outputs": [
    {
     "data": {
      "text/plain": [
       "3"
      ]
     },
     "metadata": {},
     "output_type": "display_data"
    }
   ],
   "source": [
    "from IPython.display import display\n",
    "\n",
    "import conf\n",
    "\n",
    "N_JOBS = conf.GENERAL[\"N_JOBS\"]\n",
    "display(N_JOBS)"
   ]
  },
  {
   "cell_type": "code",
   "execution_count": 2,
   "metadata": {
    "execution": {
     "iopub.execute_input": "2021-05-09T03:31:39.086800Z",
     "iopub.status.busy": "2021-05-09T03:31:39.086427Z",
     "iopub.status.idle": "2021-05-09T03:31:39.088695Z",
     "shell.execute_reply": "2021-05-09T03:31:39.088367Z"
    },
    "papermill": {
     "duration": 0.01958,
     "end_time": "2021-05-09T03:31:39.088806",
     "exception": false,
     "start_time": "2021-05-09T03:31:39.069226",
     "status": "completed"
    },
    "tags": []
   },
   "outputs": [
    {
     "name": "stdout",
     "output_type": "stream",
     "text": [
      "env: MKL_NUM_THREADS=3\n",
      "env: OPEN_BLAS_NUM_THREADS=3\n",
      "env: NUMEXPR_NUM_THREADS=3\n",
      "env: OMP_NUM_THREADS=3\n"
     ]
    }
   ],
   "source": [
    "%env MKL_NUM_THREADS=$N_JOBS\n",
    "%env OPEN_BLAS_NUM_THREADS=$N_JOBS\n",
    "%env NUMEXPR_NUM_THREADS=$N_JOBS\n",
    "%env OMP_NUM_THREADS=$N_JOBS"
   ]
  },
  {
   "cell_type": "markdown",
   "metadata": {
    "papermill": {
     "duration": 0.012997,
     "end_time": "2021-05-09T03:31:39.115338",
     "exception": false,
     "start_time": "2021-05-09T03:31:39.102341",
     "status": "completed"
    },
    "tags": []
   },
   "source": [
    "# Modules loading"
   ]
  },
  {
   "cell_type": "code",
   "execution_count": 3,
   "metadata": {
    "execution": {
     "iopub.execute_input": "2021-05-09T03:31:39.145239Z",
     "iopub.status.busy": "2021-05-09T03:31:39.144803Z",
     "iopub.status.idle": "2021-05-09T03:31:39.153227Z",
     "shell.execute_reply": "2021-05-09T03:31:39.153601Z"
    },
    "papermill": {
     "duration": 0.025301,
     "end_time": "2021-05-09T03:31:39.153741",
     "exception": false,
     "start_time": "2021-05-09T03:31:39.128440",
     "status": "completed"
    },
    "tags": []
   },
   "outputs": [],
   "source": [
    "%load_ext autoreload\n",
    "%autoreload 2"
   ]
  },
  {
   "cell_type": "code",
   "execution_count": 4,
   "metadata": {
    "execution": {
     "iopub.execute_input": "2021-05-09T03:31:39.187417Z",
     "iopub.status.busy": "2021-05-09T03:31:39.187038Z",
     "iopub.status.idle": "2021-05-09T03:31:39.357862Z",
     "shell.execute_reply": "2021-05-09T03:31:39.357548Z"
    },
    "papermill": {
     "duration": 0.187376,
     "end_time": "2021-05-09T03:31:39.357948",
     "exception": false,
     "start_time": "2021-05-09T03:31:39.170572",
     "status": "completed"
    },
    "tags": []
   },
   "outputs": [],
   "source": [
    "from pathlib import Path\n",
    "\n",
    "import numpy as np\n",
    "import pandas as pd"
   ]
  },
  {
   "cell_type": "markdown",
   "metadata": {
    "papermill": {
     "duration": 0.012732,
     "end_time": "2021-05-09T03:31:39.384254",
     "exception": false,
     "start_time": "2021-05-09T03:31:39.371522",
     "status": "completed"
    },
    "tags": []
   },
   "source": [
    "# Settings"
   ]
  },
  {
   "cell_type": "code",
   "execution_count": 5,
   "metadata": {
    "execution": {
     "iopub.execute_input": "2021-05-09T03:31:39.412522Z",
     "iopub.status.busy": "2021-05-09T03:31:39.412166Z",
     "iopub.status.idle": "2021-05-09T03:31:39.419589Z",
     "shell.execute_reply": "2021-05-09T03:31:39.419252Z"
    },
    "papermill": {
     "duration": 0.022576,
     "end_time": "2021-05-09T03:31:39.419672",
     "exception": false,
     "start_time": "2021-05-09T03:31:39.397096",
     "status": "completed"
    },
    "tags": []
   },
   "outputs": [],
   "source": [
    "RANDOM_GENERATOR = np.random.default_rng(12345)"
   ]
  },
  {
   "cell_type": "markdown",
   "metadata": {
    "papermill": {
     "duration": 0.013575,
     "end_time": "2021-05-09T03:31:39.447256",
     "exception": false,
     "start_time": "2021-05-09T03:31:39.433681",
     "status": "completed"
    },
    "tags": []
   },
   "source": [
    "## Ensemble size"
   ]
  },
  {
   "cell_type": "markdown",
   "metadata": {
    "papermill": {
     "duration": 0.013259,
     "end_time": "2021-05-09T03:31:39.473543",
     "exception": false,
     "start_time": "2021-05-09T03:31:39.460284",
     "status": "completed"
    },
    "tags": []
   },
   "source": [
    "For some clustering algorithms it is easy to control the number of final partitions to generate: for instance, for k-means, you can generate partitions from k=2 to k=20 (19 partitions with different number of clusters). However, with algorithms such as DBSCAN this is not very easy to achieve, since for some parameter combinations (`eps` and `min_samples`) it generates partitions with one cluster (which is not an actual partition of the data) that are not included here.\n",
    "\n",
    "The parameters below specify the expected number of partitions for each clustering algorithm, and a range of allowed sizes. Then, the code below checks that each algorithm has the same representation in the ensemble. For example, if `EXPECTED_ENSEMBLE_SIZE=50`, `MIN_ENSEMBLE_SIZE=45` and `MAX_ENSEMBLE_SIZE=55`, the code below will check that k-means, spectral clustering, DBSCAN, etc, generated between 45 and 55 partitions. If not, it resamples the generated partitions to get 50 (the value specified by `EXPECTED_ENSEMBLE_SIZE`), so each algorithm has approximately the same representation in the full ensemble."
   ]
  },
  {
   "cell_type": "code",
   "execution_count": 6,
   "metadata": {
    "execution": {
     "iopub.execute_input": "2021-05-09T03:31:39.502190Z",
     "iopub.status.busy": "2021-05-09T03:31:39.501837Z",
     "iopub.status.idle": "2021-05-09T03:31:39.508872Z",
     "shell.execute_reply": "2021-05-09T03:31:39.508466Z"
    },
    "papermill": {
     "duration": 0.022363,
     "end_time": "2021-05-09T03:31:39.508954",
     "exception": false,
     "start_time": "2021-05-09T03:31:39.486591",
     "status": "completed"
    },
    "tags": []
   },
   "outputs": [],
   "source": [
    "EXPECTED_ENSEMBLE_SIZE = 295\n",
    "\n",
    "MIN_ENSEMBLE_SIZE = 290\n",
    "MAX_ENSEMBLE_SIZE = 300"
   ]
  },
  {
   "cell_type": "markdown",
   "metadata": {
    "papermill": {
     "duration": 0.013168,
     "end_time": "2021-05-09T03:31:39.535600",
     "exception": false,
     "start_time": "2021-05-09T03:31:39.522432",
     "status": "completed"
    },
    "tags": []
   },
   "source": [
    "## Consensus clustering"
   ]
  },
  {
   "cell_type": "code",
   "execution_count": 7,
   "metadata": {
    "execution": {
     "iopub.execute_input": "2021-05-09T03:31:39.564412Z",
     "iopub.status.busy": "2021-05-09T03:31:39.564050Z",
     "iopub.status.idle": "2021-05-09T03:31:39.572205Z",
     "shell.execute_reply": "2021-05-09T03:31:39.571838Z"
    },
    "papermill": {
     "duration": 0.023718,
     "end_time": "2021-05-09T03:31:39.572286",
     "exception": false,
     "start_time": "2021-05-09T03:31:39.548568",
     "status": "completed"
    },
    "tags": []
   },
   "outputs": [
    {
     "data": {
      "text/plain": [
       "PosixPath('/home/miltondp/projects/labs/greenelab/phenoplier/base/results/clustering/consensus_clustering')"
      ]
     },
     "metadata": {},
     "output_type": "display_data"
    }
   ],
   "source": [
    "# output dir for this notebook\n",
    "RESULTS_DIR = Path(conf.RESULTS[\"CLUSTERING_DIR\"], \"consensus_clustering\").resolve()\n",
    "RESULTS_DIR.mkdir(parents=True, exist_ok=True)\n",
    "\n",
    "display(RESULTS_DIR)"
   ]
  },
  {
   "cell_type": "markdown",
   "metadata": {
    "papermill": {
     "duration": 0.013452,
     "end_time": "2021-05-09T03:31:39.599540",
     "exception": false,
     "start_time": "2021-05-09T03:31:39.586088",
     "status": "completed"
    },
    "tags": []
   },
   "source": [
    "# Get ensemble"
   ]
  },
  {
   "cell_type": "markdown",
   "metadata": {
    "papermill": {
     "duration": 0.012933,
     "end_time": "2021-05-09T03:31:39.625552",
     "exception": false,
     "start_time": "2021-05-09T03:31:39.612619",
     "status": "completed"
    },
    "tags": []
   },
   "source": [
    "## Load partition files"
   ]
  },
  {
   "cell_type": "code",
   "execution_count": 8,
   "metadata": {
    "execution": {
     "iopub.execute_input": "2021-05-09T03:31:39.654529Z",
     "iopub.status.busy": "2021-05-09T03:31:39.654179Z",
     "iopub.status.idle": "2021-05-09T03:31:39.662280Z",
     "shell.execute_reply": "2021-05-09T03:31:39.661914Z"
    },
    "papermill": {
     "duration": 0.023652,
     "end_time": "2021-05-09T03:31:39.662363",
     "exception": false,
     "start_time": "2021-05-09T03:31:39.638711",
     "status": "completed"
    },
    "tags": []
   },
   "outputs": [
    {
     "data": {
      "text/plain": [
       "PosixPath('/home/miltondp/projects/labs/greenelab/phenoplier/base/results/clustering/runs')"
      ]
     },
     "metadata": {},
     "output_type": "display_data"
    }
   ],
   "source": [
    "input_dir = Path(\n",
    "    conf.RESULTS[\"CLUSTERING_RUNS_DIR\"],\n",
    ").resolve()\n",
    "display(input_dir)"
   ]
  },
  {
   "cell_type": "code",
   "execution_count": 9,
   "metadata": {
    "execution": {
     "iopub.execute_input": "2021-05-09T03:31:39.692378Z",
     "iopub.status.busy": "2021-05-09T03:31:39.692006Z",
     "iopub.status.idle": "2021-05-09T03:31:39.699805Z",
     "shell.execute_reply": "2021-05-09T03:31:39.699433Z"
    },
    "papermill": {
     "duration": 0.02359,
     "end_time": "2021-05-09T03:31:39.699889",
     "exception": false,
     "start_time": "2021-05-09T03:31:39.676299",
     "status": "completed"
    },
    "tags": []
   },
   "outputs": [],
   "source": [
    "included_pkl_files = []\n",
    "\n",
    "for pkl_file in input_dir.rglob(\"*.pkl\"):\n",
    "    pkl_file_str = str(pkl_file)\n",
    "\n",
    "    # skip stability pkl files\n",
    "    if \"-stability-\" in pkl_file_str:\n",
    "        continue\n",
    "\n",
    "    included_pkl_files.append(pkl_file)"
   ]
  },
  {
   "cell_type": "code",
   "execution_count": 10,
   "metadata": {
    "execution": {
     "iopub.execute_input": "2021-05-09T03:31:39.730575Z",
     "iopub.status.busy": "2021-05-09T03:31:39.730220Z",
     "iopub.status.idle": "2021-05-09T03:31:39.738380Z",
     "shell.execute_reply": "2021-05-09T03:31:39.738012Z"
    },
    "papermill": {
     "duration": 0.024411,
     "end_time": "2021-05-09T03:31:39.738461",
     "exception": false,
     "start_time": "2021-05-09T03:31:39.714050",
     "status": "completed"
    },
    "tags": []
   },
   "outputs": [
    {
     "data": {
      "text/plain": [
       "15"
      ]
     },
     "metadata": {},
     "output_type": "display_data"
    }
   ],
   "source": [
    "display(len(included_pkl_files))\n",
    "\n",
    "# 5 algorithms, 3 dataset versions\n",
    "assert len(included_pkl_files) == 5 * 3"
   ]
  },
  {
   "cell_type": "markdown",
   "metadata": {
    "papermill": {
     "duration": 0.013266,
     "end_time": "2021-05-09T03:31:39.765475",
     "exception": false,
     "start_time": "2021-05-09T03:31:39.752209",
     "status": "completed"
    },
    "tags": []
   },
   "source": [
    "## Combine partition files to get final ensemble"
   ]
  },
  {
   "cell_type": "code",
   "execution_count": 11,
   "metadata": {
    "execution": {
     "iopub.execute_input": "2021-05-09T03:31:39.794768Z",
     "iopub.status.busy": "2021-05-09T03:31:39.794418Z",
     "iopub.status.idle": "2021-05-09T03:31:39.801465Z",
     "shell.execute_reply": "2021-05-09T03:31:39.801102Z"
    },
    "papermill": {
     "duration": 0.022688,
     "end_time": "2021-05-09T03:31:39.801545",
     "exception": false,
     "start_time": "2021-05-09T03:31:39.778857",
     "status": "completed"
    },
    "tags": []
   },
   "outputs": [],
   "source": [
    "n_partitions = 0"
   ]
  },
  {
   "cell_type": "code",
   "execution_count": 12,
   "metadata": {
    "execution": {
     "iopub.execute_input": "2021-05-09T03:31:39.831712Z",
     "iopub.status.busy": "2021-05-09T03:31:39.831359Z",
     "iopub.status.idle": "2021-05-09T03:31:39.841277Z",
     "shell.execute_reply": "2021-05-09T03:31:39.842455Z"
    },
    "papermill": {
     "duration": 0.027275,
     "end_time": "2021-05-09T03:31:39.842852",
     "exception": false,
     "start_time": "2021-05-09T03:31:39.815577",
     "status": "completed"
    },
    "tags": []
   },
   "outputs": [],
   "source": [
    "ensembles_list = []"
   ]
  },
  {
   "cell_type": "code",
   "execution_count": 13,
   "metadata": {
    "execution": {
     "iopub.execute_input": "2021-05-09T03:31:39.899522Z",
     "iopub.status.busy": "2021-05-09T03:31:39.899136Z",
     "iopub.status.idle": "2021-05-09T03:31:40.050191Z",
     "shell.execute_reply": "2021-05-09T03:31:40.049815Z"
    },
    "papermill": {
     "duration": 0.171263,
     "end_time": "2021-05-09T03:31:40.050294",
     "exception": false,
     "start_time": "2021-05-09T03:31:39.879031",
     "status": "completed"
    },
    "tags": []
   },
   "outputs": [
    {
     "name": "stdout",
     "output_type": "stream",
     "text": [
      "More partitions than expected in umap-z_score_std-projection-smultixcan-efo_partial-mashr-zscores/DBSCAN.pkl\n",
      "Less partitions than expected in z_score_std-projection-smultixcan-efo_partial-mashr-zscores/DBSCAN.pkl\n",
      "More partitions than expected in pca-z_score_std-projection-smultixcan-efo_partial-mashr-zscores/DBSCAN.pkl\n"
     ]
    }
   ],
   "source": [
    "for ens_file in included_pkl_files:\n",
    "    ens = pd.read_pickle(ens_file)\n",
    "\n",
    "    short_file_path = Path(*ens_file.parts[-2:])\n",
    "\n",
    "    if ens.shape[0] < MIN_ENSEMBLE_SIZE:\n",
    "        print(f\"Less partitions than expected in {short_file_path}\")\n",
    "\n",
    "        # if less partitions than expected, resample with replacement\n",
    "        ens = ens.sample(\n",
    "            n=EXPECTED_ENSEMBLE_SIZE,\n",
    "            replace=True,\n",
    "            random_state=RANDOM_GENERATOR.bit_generator,\n",
    "        )\n",
    "        assert ens.shape[0] == EXPECTED_ENSEMBLE_SIZE\n",
    "\n",
    "    elif ens.shape[0] > MAX_ENSEMBLE_SIZE:\n",
    "        print(f\"More partitions than expected in {short_file_path}\")\n",
    "\n",
    "        # if more partitions than expected, take a smaller sample\n",
    "        ens = ens.sample(\n",
    "            n=EXPECTED_ENSEMBLE_SIZE, random_state=RANDOM_GENERATOR.bit_generator\n",
    "        )\n",
    "        assert ens.shape[0] == EXPECTED_ENSEMBLE_SIZE\n",
    "\n",
    "    ens_full_format = np.concatenate(\n",
    "        ens[\"partition\"].apply(lambda x: x.reshape(1, -1)), axis=0\n",
    "    )\n",
    "\n",
    "    n_partitions += ens_full_format.shape[0]\n",
    "\n",
    "    ensembles_list.append(ens_full_format)"
   ]
  },
  {
   "cell_type": "code",
   "execution_count": 14,
   "metadata": {
    "execution": {
     "iopub.execute_input": "2021-05-09T03:31:40.084699Z",
     "iopub.status.busy": "2021-05-09T03:31:40.084322Z",
     "iopub.status.idle": "2021-05-09T03:31:40.092162Z",
     "shell.execute_reply": "2021-05-09T03:31:40.091783Z"
    },
    "papermill": {
     "duration": 0.024943,
     "end_time": "2021-05-09T03:31:40.092247",
     "exception": false,
     "start_time": "2021-05-09T03:31:40.067304",
     "status": "completed"
    },
    "tags": []
   },
   "outputs": [
    {
     "data": {
      "text/plain": [
       "15"
      ]
     },
     "metadata": {},
     "output_type": "display_data"
    }
   ],
   "source": [
    "display(len(ensembles_list))\n",
    "assert len(ensembles_list) == len(included_pkl_files)"
   ]
  },
  {
   "cell_type": "code",
   "execution_count": 15,
   "metadata": {
    "execution": {
     "iopub.execute_input": "2021-05-09T03:31:40.123178Z",
     "iopub.status.busy": "2021-05-09T03:31:40.122830Z",
     "iopub.status.idle": "2021-05-09T03:31:40.130733Z",
     "shell.execute_reply": "2021-05-09T03:31:40.130426Z"
    },
    "papermill": {
     "duration": 0.023986,
     "end_time": "2021-05-09T03:31:40.130814",
     "exception": false,
     "start_time": "2021-05-09T03:31:40.106828",
     "status": "completed"
    },
    "tags": []
   },
   "outputs": [
    {
     "data": {
      "text/plain": [
       "3752"
      ]
     },
     "metadata": {},
     "output_type": "display_data"
    }
   ],
   "source": [
    "n_data_objects = ensembles_list[0].shape[1]\n",
    "display(n_data_objects)"
   ]
  },
  {
   "cell_type": "code",
   "execution_count": 16,
   "metadata": {
    "execution": {
     "iopub.execute_input": "2021-05-09T03:31:40.166257Z",
     "iopub.status.busy": "2021-05-09T03:31:40.165831Z",
     "iopub.status.idle": "2021-05-09T03:31:40.174027Z",
     "shell.execute_reply": "2021-05-09T03:31:40.174366Z"
    },
    "papermill": {
     "duration": 0.02846,
     "end_time": "2021-05-09T03:31:40.174482",
     "exception": false,
     "start_time": "2021-05-09T03:31:40.146022",
     "status": "completed"
    },
    "tags": []
   },
   "outputs": [
    {
     "data": {
      "text/plain": [
       "4428"
      ]
     },
     "metadata": {},
     "output_type": "display_data"
    }
   ],
   "source": [
    "display(n_partitions)"
   ]
  },
  {
   "cell_type": "code",
   "execution_count": 17,
   "metadata": {
    "execution": {
     "iopub.execute_input": "2021-05-09T03:31:40.207985Z",
     "iopub.status.busy": "2021-05-09T03:31:40.207630Z",
     "iopub.status.idle": "2021-05-09T03:31:40.416306Z",
     "shell.execute_reply": "2021-05-09T03:31:40.415945Z"
    },
    "papermill": {
     "duration": 0.225318,
     "end_time": "2021-05-09T03:31:40.416397",
     "exception": false,
     "start_time": "2021-05-09T03:31:40.191079",
     "status": "completed"
    },
    "tags": []
   },
   "outputs": [],
   "source": [
    "full_ensemble = ensembles_list[0]\n",
    "for ens in ensembles_list[1:]:\n",
    "    full_ensemble = np.concatenate((full_ensemble, ens), axis=0)"
   ]
  },
  {
   "cell_type": "code",
   "execution_count": 18,
   "metadata": {
    "execution": {
     "iopub.execute_input": "2021-05-09T03:31:40.449276Z",
     "iopub.status.busy": "2021-05-09T03:31:40.448916Z",
     "iopub.status.idle": "2021-05-09T03:31:40.456547Z",
     "shell.execute_reply": "2021-05-09T03:31:40.456210Z"
    },
    "papermill": {
     "duration": 0.024208,
     "end_time": "2021-05-09T03:31:40.456629",
     "exception": false,
     "start_time": "2021-05-09T03:31:40.432421",
     "status": "completed"
    },
    "tags": []
   },
   "outputs": [
    {
     "data": {
      "text/plain": [
       "(4428, 3752)"
      ]
     },
     "metadata": {},
     "output_type": "display_data"
    }
   ],
   "source": [
    "display(full_ensemble.shape)\n",
    "assert full_ensemble.shape == (n_partitions, n_data_objects)"
   ]
  },
  {
   "cell_type": "markdown",
   "metadata": {
    "papermill": {
     "duration": 0.014844,
     "end_time": "2021-05-09T03:31:40.486835",
     "exception": false,
     "start_time": "2021-05-09T03:31:40.471991",
     "status": "completed"
    },
    "tags": []
   },
   "source": [
    "## Save"
   ]
  },
  {
   "cell_type": "code",
   "execution_count": 19,
   "metadata": {
    "execution": {
     "iopub.execute_input": "2021-05-09T03:31:40.518412Z",
     "iopub.status.busy": "2021-05-09T03:31:40.518061Z",
     "iopub.status.idle": "2021-05-09T03:31:40.526107Z",
     "shell.execute_reply": "2021-05-09T03:31:40.525720Z"
    },
    "papermill": {
     "duration": 0.024856,
     "end_time": "2021-05-09T03:31:40.526193",
     "exception": false,
     "start_time": "2021-05-09T03:31:40.501337",
     "status": "completed"
    },
    "tags": []
   },
   "outputs": [
    {
     "data": {
      "text/plain": [
       "PosixPath('/home/miltondp/projects/labs/greenelab/phenoplier/base/results/clustering/consensus_clustering/ensemble.npy')"
      ]
     },
     "metadata": {},
     "output_type": "display_data"
    }
   ],
   "source": [
    "output_file = Path(RESULTS_DIR, \"ensemble.npy\").resolve()\n",
    "display(output_file)"
   ]
  },
  {
   "cell_type": "code",
   "execution_count": 20,
   "metadata": {
    "execution": {
     "iopub.execute_input": "2021-05-09T03:31:40.560136Z",
     "iopub.status.busy": "2021-05-09T03:31:40.559775Z",
     "iopub.status.idle": "2021-05-09T03:31:40.567944Z",
     "shell.execute_reply": "2021-05-09T03:31:40.567578Z"
    },
    "papermill": {
     "duration": 0.02606,
     "end_time": "2021-05-09T03:31:40.568026",
     "exception": false,
     "start_time": "2021-05-09T03:31:40.541966",
     "status": "completed"
    },
    "tags": []
   },
   "outputs": [
    {
     "data": {
      "text/plain": [
       "array([[1., 0., 0., ..., 1., 1., 0.],\n",
       "       [1., 0., 0., ..., 1., 1., 0.],\n",
       "       [1., 0., 0., ..., 1., 1., 0.],\n",
       "       ...,\n",
       "       [0., 0., 0., ..., 0., 0., 0.],\n",
       "       [0., 0., 0., ..., 0., 0., 0.],\n",
       "       [0., 0., 0., ..., 0., 0., 0.]])"
      ]
     },
     "execution_count": 20,
     "metadata": {},
     "output_type": "execute_result"
    }
   ],
   "source": [
    "full_ensemble"
   ]
  },
  {
   "cell_type": "code",
   "execution_count": 21,
   "metadata": {
    "execution": {
     "iopub.execute_input": "2021-05-09T03:31:40.601259Z",
     "iopub.status.busy": "2021-05-09T03:31:40.600908Z",
     "iopub.status.idle": "2021-05-09T03:31:40.681556Z",
     "shell.execute_reply": "2021-05-09T03:31:40.681187Z"
    },
    "papermill": {
     "duration": 0.097898,
     "end_time": "2021-05-09T03:31:40.681650",
     "exception": false,
     "start_time": "2021-05-09T03:31:40.583752",
     "status": "completed"
    },
    "tags": []
   },
   "outputs": [],
   "source": [
    "np.save(output_file, full_ensemble)"
   ]
  },
  {
   "cell_type": "markdown",
   "metadata": {
    "papermill": {
     "duration": 0.01603,
     "end_time": "2021-05-09T03:31:40.714423",
     "exception": false,
     "start_time": "2021-05-09T03:31:40.698393",
     "status": "completed"
    },
    "tags": []
   },
   "source": [
    "# Get coassociation matrix from ensemble"
   ]
  },
  {
   "cell_type": "markdown",
   "metadata": {
    "papermill": {
     "duration": 0.01457,
     "end_time": "2021-05-09T03:31:40.743910",
     "exception": false,
     "start_time": "2021-05-09T03:31:40.729340",
     "status": "completed"
    },
    "tags": []
   },
   "source": [
    "The coassociation matrix is a distance matrix derived from the ensemble, where each cell represents the percentage of times a pair of objects (traits and diseases in this case) were not clustered together. It serves as an input for any consensus function (basically, another clustering algorithm) to derive a consensus partition."
   ]
  },
  {
   "cell_type": "code",
   "execution_count": 22,
   "metadata": {
    "execution": {
     "iopub.execute_input": "2021-05-09T03:31:40.775947Z",
     "iopub.status.busy": "2021-05-09T03:31:40.775594Z",
     "iopub.status.idle": "2021-05-09T03:31:41.053703Z",
     "shell.execute_reply": "2021-05-09T03:31:41.053377Z"
    },
    "papermill": {
     "duration": 0.295089,
     "end_time": "2021-05-09T03:31:41.053821",
     "exception": false,
     "start_time": "2021-05-09T03:31:40.758732",
     "status": "completed"
    },
    "tags": []
   },
   "outputs": [],
   "source": [
    "from clustering.ensembles.utils import get_ensemble_distance_matrix"
   ]
  },
  {
   "cell_type": "code",
   "execution_count": 23,
   "metadata": {
    "execution": {
     "iopub.execute_input": "2021-05-09T03:31:41.086352Z",
     "iopub.status.busy": "2021-05-09T03:31:41.085994Z",
     "iopub.status.idle": "2021-05-09T03:45:47.981108Z",
     "shell.execute_reply": "2021-05-09T03:45:47.981464Z"
    },
    "papermill": {
     "duration": 846.912559,
     "end_time": "2021-05-09T03:45:47.981592",
     "exception": false,
     "start_time": "2021-05-09T03:31:41.069033",
     "status": "completed"
    },
    "tags": []
   },
   "outputs": [],
   "source": [
    "ensemble_coassoc_matrix = get_ensemble_distance_matrix(\n",
    "    full_ensemble,\n",
    "    n_jobs=conf.GENERAL[\"N_JOBS\"],\n",
    ")"
   ]
  },
  {
   "cell_type": "code",
   "execution_count": 24,
   "metadata": {
    "execution": {
     "iopub.execute_input": "2021-05-09T03:45:48.019789Z",
     "iopub.status.busy": "2021-05-09T03:45:48.019413Z",
     "iopub.status.idle": "2021-05-09T03:45:48.029185Z",
     "shell.execute_reply": "2021-05-09T03:45:48.029478Z"
    },
    "papermill": {
     "duration": 0.028719,
     "end_time": "2021-05-09T03:45:48.029586",
     "exception": false,
     "start_time": "2021-05-09T03:45:48.000867",
     "status": "completed"
    },
    "tags": []
   },
   "outputs": [
    {
     "data": {
      "text/plain": [
       "(3752, 3752)"
      ]
     },
     "execution_count": 24,
     "metadata": {},
     "output_type": "execute_result"
    }
   ],
   "source": [
    "ensemble_coassoc_matrix.shape"
   ]
  },
  {
   "cell_type": "code",
   "execution_count": 25,
   "metadata": {
    "execution": {
     "iopub.execute_input": "2021-05-09T03:45:48.064679Z",
     "iopub.status.busy": "2021-05-09T03:45:48.064324Z",
     "iopub.status.idle": "2021-05-09T03:45:48.074223Z",
     "shell.execute_reply": "2021-05-09T03:45:48.073887Z"
    },
    "papermill": {
     "duration": 0.028321,
     "end_time": "2021-05-09T03:45:48.074305",
     "exception": false,
     "start_time": "2021-05-09T03:45:48.045984",
     "status": "completed"
    },
    "tags": []
   },
   "outputs": [
    {
     "data": {
      "text/plain": [
       "array([[0.        , 0.31497143, 0.328     , ..., 0.47951098, 0.41141688,\n",
       "        0.64433341],\n",
       "       [0.31497143, 0.        , 0.04153355, ..., 0.67868553, 0.6486054 ,\n",
       "        0.67496005],\n",
       "       [0.328     , 0.04153355, 0.        , ..., 0.66408033, 0.64220393,\n",
       "        0.67701438],\n",
       "       ...,\n",
       "       [0.47951098, 0.67868553, 0.66408033, ..., 0.        , 0.48558456,\n",
       "        0.51122195],\n",
       "       [0.41141688, 0.6486054 , 0.64220393, ..., 0.48558456, 0.        ,\n",
       "        0.66749943],\n",
       "       [0.64433341, 0.67496005, 0.67701438, ..., 0.51122195, 0.66749943,\n",
       "        0.        ]])"
      ]
     },
     "execution_count": 25,
     "metadata": {},
     "output_type": "execute_result"
    }
   ],
   "source": [
    "ensemble_coassoc_matrix"
   ]
  },
  {
   "cell_type": "markdown",
   "metadata": {
    "papermill": {
     "duration": 0.015977,
     "end_time": "2021-05-09T03:45:48.106503",
     "exception": false,
     "start_time": "2021-05-09T03:45:48.090526",
     "status": "completed"
    },
    "tags": []
   },
   "source": [
    "## Save"
   ]
  },
  {
   "cell_type": "code",
   "execution_count": 26,
   "metadata": {
    "execution": {
     "iopub.execute_input": "2021-05-09T03:45:48.139728Z",
     "iopub.status.busy": "2021-05-09T03:45:48.139369Z",
     "iopub.status.idle": "2021-05-09T03:45:48.149404Z",
     "shell.execute_reply": "2021-05-09T03:45:48.149035Z"
    },
    "papermill": {
     "duration": 0.027535,
     "end_time": "2021-05-09T03:45:48.149484",
     "exception": false,
     "start_time": "2021-05-09T03:45:48.121949",
     "status": "completed"
    },
    "tags": []
   },
   "outputs": [
    {
     "data": {
      "text/plain": [
       "PosixPath('/home/miltondp/projects/labs/greenelab/phenoplier/base/results/clustering/consensus_clustering/ensemble_coassoc_matrix.npy')"
      ]
     },
     "metadata": {},
     "output_type": "display_data"
    }
   ],
   "source": [
    "output_file = Path(RESULTS_DIR, \"ensemble_coassoc_matrix.npy\").resolve()\n",
    "display(output_file)"
   ]
  },
  {
   "cell_type": "code",
   "execution_count": 27,
   "metadata": {
    "execution": {
     "iopub.execute_input": "2021-05-09T03:45:48.183792Z",
     "iopub.status.busy": "2021-05-09T03:45:48.183442Z",
     "iopub.status.idle": "2021-05-09T03:45:48.255905Z",
     "shell.execute_reply": "2021-05-09T03:45:48.255545Z"
    },
    "papermill": {
     "duration": 0.090435,
     "end_time": "2021-05-09T03:45:48.255997",
     "exception": false,
     "start_time": "2021-05-09T03:45:48.165562",
     "status": "completed"
    },
    "tags": []
   },
   "outputs": [],
   "source": [
    "np.save(output_file, ensemble_coassoc_matrix)"
   ]
  },
  {
   "cell_type": "code",
   "execution_count": null,
   "metadata": {
    "papermill": {
     "duration": 0.016335,
     "end_time": "2021-05-09T03:45:48.289771",
     "exception": false,
     "start_time": "2021-05-09T03:45:48.273436",
     "status": "completed"
    },
    "tags": []
   },
   "outputs": [],
   "source": []
  }
 ],
 "metadata": {
  "jupytext": {
   "cell_metadata_filter": "all,-execution,-papermill",
   "formats": "ipynb,py//py:percent"
  },
  "kernelspec": {
   "display_name": "Python 3",
   "language": "python",
   "name": "python3"
  },
  "language_info": {
   "codemirror_mode": {
    "name": "ipython",
    "version": 3
   },
   "file_extension": ".py",
   "mimetype": "text/x-python",
   "name": "python",
   "nbconvert_exporter": "python",
   "pygments_lexer": "ipython3",
   "version": "3.8.8"
  },
  "papermill": {
   "default_parameters": {},
   "duration": 850.676534,
   "end_time": "2021-05-09T03:45:48.610599",
   "environment_variables": {},
   "exception": null,
   "input_path": "16_consensus_clustering/020_00-generate_ensemble.ipynb",
   "output_path": "16_consensus_clustering/020_00-generate_ensemble.run.ipynb",
   "parameters": {},
   "start_time": "2021-05-09T03:31:37.934065",
   "version": "2.2.2"
  },
  "toc-autonumbering": true,
  "toc-showcode": false,
  "toc-showmarkdowntxt": false,
  "toc-showtags": false
 },
 "nbformat": 4,
 "nbformat_minor": 4
}
