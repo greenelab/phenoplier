{
 "cells": [
  {
   "cell_type": "markdown",
   "metadata": {
    "papermill": {
     "duration": 0.047197,
     "end_time": "2021-02-16T02:22:39.545059",
     "exception": false,
     "start_time": "2021-02-16T02:22:39.497862",
     "status": "completed"
    },
    "tags": []
   },
   "source": [
    "# Description"
   ]
  },
  {
   "cell_type": "markdown",
   "metadata": {
    "papermill": {
     "duration": 0.012688,
     "end_time": "2021-02-16T02:22:39.573473",
     "exception": false,
     "start_time": "2021-02-16T02:22:39.560785",
     "status": "completed"
    },
    "tags": []
   },
   "source": [
    "It reads all the clustering partitions obtained with different algorithms, and generates the ensemble by putting it into a numpy array. Then it obtains the coassociation matrix from the ensemble (see more details below)."
   ]
  },
  {
   "cell_type": "markdown",
   "metadata": {
    "papermill": {
     "duration": 0.012399,
     "end_time": "2021-02-16T02:22:39.598458",
     "exception": false,
     "start_time": "2021-02-16T02:22:39.586059",
     "status": "completed"
    },
    "tags": []
   },
   "source": [
    "# Environment variables"
   ]
  },
  {
   "cell_type": "code",
   "execution_count": 1,
   "metadata": {
    "execution": {
     "iopub.execute_input": "2021-02-16T02:22:39.627246Z",
     "iopub.status.busy": "2021-02-16T02:22:39.626863Z",
     "iopub.status.idle": "2021-02-16T02:22:39.637766Z",
     "shell.execute_reply": "2021-02-16T02:22:39.637334Z"
    },
    "papermill": {
     "duration": 0.026841,
     "end_time": "2021-02-16T02:22:39.637892",
     "exception": false,
     "start_time": "2021-02-16T02:22:39.611051",
     "status": "completed"
    },
    "tags": []
   },
   "outputs": [
    {
     "data": {
      "text/plain": [
       "2"
      ]
     },
     "metadata": {},
     "output_type": "display_data"
    }
   ],
   "source": [
    "from IPython.display import display\n",
    "\n",
    "import conf\n",
    "\n",
    "N_JOBS = conf.GENERAL[\"N_JOBS\"]\n",
    "display(N_JOBS)"
   ]
  },
  {
   "cell_type": "code",
   "execution_count": 2,
   "metadata": {
    "execution": {
     "iopub.execute_input": "2021-02-16T02:22:39.668964Z",
     "iopub.status.busy": "2021-02-16T02:22:39.668505Z",
     "iopub.status.idle": "2021-02-16T02:22:39.670786Z",
     "shell.execute_reply": "2021-02-16T02:22:39.670457Z"
    },
    "papermill": {
     "duration": 0.019499,
     "end_time": "2021-02-16T02:22:39.670903",
     "exception": false,
     "start_time": "2021-02-16T02:22:39.651404",
     "status": "completed"
    },
    "tags": []
   },
   "outputs": [
    {
     "name": "stdout",
     "output_type": "stream",
     "text": [
      "env: MKL_NUM_THREADS=2\n",
      "env: OPEN_BLAS_NUM_THREADS=2\n",
      "env: NUMEXPR_NUM_THREADS=2\n",
      "env: OMP_NUM_THREADS=2\n"
     ]
    }
   ],
   "source": [
    "%env MKL_NUM_THREADS=$N_JOBS\n",
    "%env OPEN_BLAS_NUM_THREADS=$N_JOBS\n",
    "%env NUMEXPR_NUM_THREADS=$N_JOBS\n",
    "%env OMP_NUM_THREADS=$N_JOBS"
   ]
  },
  {
   "cell_type": "markdown",
   "metadata": {
    "papermill": {
     "duration": 0.01309,
     "end_time": "2021-02-16T02:22:39.697858",
     "exception": false,
     "start_time": "2021-02-16T02:22:39.684768",
     "status": "completed"
    },
    "tags": []
   },
   "source": [
    "# Modules loading"
   ]
  },
  {
   "cell_type": "code",
   "execution_count": 3,
   "metadata": {
    "execution": {
     "iopub.execute_input": "2021-02-16T02:22:39.726799Z",
     "iopub.status.busy": "2021-02-16T02:22:39.726428Z",
     "iopub.status.idle": "2021-02-16T02:22:39.734072Z",
     "shell.execute_reply": "2021-02-16T02:22:39.733688Z"
    },
    "papermill": {
     "duration": 0.023216,
     "end_time": "2021-02-16T02:22:39.734162",
     "exception": false,
     "start_time": "2021-02-16T02:22:39.710946",
     "status": "completed"
    },
    "tags": []
   },
   "outputs": [],
   "source": [
    "%load_ext autoreload\n",
    "%autoreload 2"
   ]
  },
  {
   "cell_type": "code",
   "execution_count": 4,
   "metadata": {
    "execution": {
     "iopub.execute_input": "2021-02-16T02:22:39.763598Z",
     "iopub.status.busy": "2021-02-16T02:22:39.763231Z",
     "iopub.status.idle": "2021-02-16T02:22:39.932930Z",
     "shell.execute_reply": "2021-02-16T02:22:39.932548Z"
    },
    "papermill": {
     "duration": 0.185161,
     "end_time": "2021-02-16T02:22:39.933027",
     "exception": false,
     "start_time": "2021-02-16T02:22:39.747866",
     "status": "completed"
    },
    "tags": []
   },
   "outputs": [],
   "source": [
    "from pathlib import Path\n",
    "\n",
    "import numpy as np\n",
    "import pandas as pd"
   ]
  },
  {
   "cell_type": "markdown",
   "metadata": {
    "papermill": {
     "duration": 0.013127,
     "end_time": "2021-02-16T02:22:39.960034",
     "exception": false,
     "start_time": "2021-02-16T02:22:39.946907",
     "status": "completed"
    },
    "tags": []
   },
   "source": [
    "# Settings"
   ]
  },
  {
   "cell_type": "code",
   "execution_count": 5,
   "metadata": {
    "execution": {
     "iopub.execute_input": "2021-02-16T02:22:39.988834Z",
     "iopub.status.busy": "2021-02-16T02:22:39.988413Z",
     "iopub.status.idle": "2021-02-16T02:22:39.995664Z",
     "shell.execute_reply": "2021-02-16T02:22:39.995969Z"
    },
    "papermill": {
     "duration": 0.022834,
     "end_time": "2021-02-16T02:22:39.996074",
     "exception": false,
     "start_time": "2021-02-16T02:22:39.973240",
     "status": "completed"
    },
    "tags": []
   },
   "outputs": [],
   "source": [
    "RANDOM_GENERATOR = np.random.default_rng(12345)"
   ]
  },
  {
   "cell_type": "markdown",
   "metadata": {
    "papermill": {
     "duration": 0.013354,
     "end_time": "2021-02-16T02:22:40.022862",
     "exception": false,
     "start_time": "2021-02-16T02:22:40.009508",
     "status": "completed"
    },
    "tags": []
   },
   "source": [
    "## Ensemble size"
   ]
  },
  {
   "cell_type": "markdown",
   "metadata": {
    "papermill": {
     "duration": 0.012811,
     "end_time": "2021-02-16T02:22:40.048724",
     "exception": false,
     "start_time": "2021-02-16T02:22:40.035913",
     "status": "completed"
    },
    "tags": []
   },
   "source": [
    "For some clustering algorithms it is easy to control the number of final partitions to generate: for instance, for k-means, you can generate partitions from k=2 to k=20 (19 partitions with different number of clusters). However, with algorithms such as DBSCAN this is not very easy to achieve, since for some parameter combinations (`eps` and `min_samples`) it generates partitions with one cluster (which is not an actual partition of the data) that are not included here.\n",
    "\n",
    "The parameters below specify the expected number of partitions for each clustering algorithm, and a range of allowed sizes. Then, the code below checks that each algorithm has the same representation in the ensemble. For example, if `EXPECTED_ENSEMBLE_SIZE=50`, `MIN_ENSEMBLE_SIZE=45` and `MAX_ENSEMBLE_SIZE=55`, the code below will check that k-means, spectral clustering, DBSCAN, etc, generated between 45 and 55 partitions. If not, it resamples the generated partitions to get 50 (the value specified by `EXPECTED_ENSEMBLE_SIZE`), so each algorithm has approximately the same representation in the full ensemble."
   ]
  },
  {
   "cell_type": "code",
   "execution_count": 6,
   "metadata": {
    "execution": {
     "iopub.execute_input": "2021-02-16T02:22:40.077259Z",
     "iopub.status.busy": "2021-02-16T02:22:40.076844Z",
     "iopub.status.idle": "2021-02-16T02:22:40.084298Z",
     "shell.execute_reply": "2021-02-16T02:22:40.083929Z"
    },
    "papermill": {
     "duration": 0.022826,
     "end_time": "2021-02-16T02:22:40.084384",
     "exception": false,
     "start_time": "2021-02-16T02:22:40.061558",
     "status": "completed"
    },
    "tags": []
   },
   "outputs": [],
   "source": [
    "EXPECTED_ENSEMBLE_SIZE = 295\n",
    "\n",
    "MIN_ENSEMBLE_SIZE = 290\n",
    "MAX_ENSEMBLE_SIZE = 300"
   ]
  },
  {
   "cell_type": "markdown",
   "metadata": {
    "papermill": {
     "duration": 0.014081,
     "end_time": "2021-02-16T02:22:40.111721",
     "exception": false,
     "start_time": "2021-02-16T02:22:40.097640",
     "status": "completed"
    },
    "tags": []
   },
   "source": [
    "## Consensus clustering"
   ]
  },
  {
   "cell_type": "code",
   "execution_count": 7,
   "metadata": {
    "execution": {
     "iopub.execute_input": "2021-02-16T02:22:40.141760Z",
     "iopub.status.busy": "2021-02-16T02:22:40.141382Z",
     "iopub.status.idle": "2021-02-16T02:22:40.149271Z",
     "shell.execute_reply": "2021-02-16T02:22:40.149595Z"
    },
    "papermill": {
     "duration": 0.023794,
     "end_time": "2021-02-16T02:22:40.149706",
     "exception": false,
     "start_time": "2021-02-16T02:22:40.125912",
     "status": "completed"
    },
    "tags": []
   },
   "outputs": [
    {
     "data": {
      "text/plain": [
       "PosixPath('/home/miltondp/projects/labs/greenelab/phenoplier/base3/results/clustering/consensus_clustering')"
      ]
     },
     "metadata": {},
     "output_type": "display_data"
    }
   ],
   "source": [
    "# output dir for this notebook\n",
    "RESULTS_DIR = Path(conf.RESULTS[\"CLUSTERING_DIR\"], \"consensus_clustering\").resolve()\n",
    "RESULTS_DIR.mkdir(parents=True, exist_ok=True)\n",
    "\n",
    "display(RESULTS_DIR)"
   ]
  },
  {
   "cell_type": "markdown",
   "metadata": {
    "papermill": {
     "duration": 0.013761,
     "end_time": "2021-02-16T02:22:40.177557",
     "exception": false,
     "start_time": "2021-02-16T02:22:40.163796",
     "status": "completed"
    },
    "tags": []
   },
   "source": [
    "# Get ensemble"
   ]
  },
  {
   "cell_type": "markdown",
   "metadata": {
    "papermill": {
     "duration": 0.013212,
     "end_time": "2021-02-16T02:22:40.204021",
     "exception": false,
     "start_time": "2021-02-16T02:22:40.190809",
     "status": "completed"
    },
    "tags": []
   },
   "source": [
    "## Load partition files"
   ]
  },
  {
   "cell_type": "code",
   "execution_count": 8,
   "metadata": {
    "execution": {
     "iopub.execute_input": "2021-02-16T02:22:40.232462Z",
     "iopub.status.busy": "2021-02-16T02:22:40.232091Z",
     "iopub.status.idle": "2021-02-16T02:22:40.240857Z",
     "shell.execute_reply": "2021-02-16T02:22:40.240432Z"
    },
    "papermill": {
     "duration": 0.023991,
     "end_time": "2021-02-16T02:22:40.240944",
     "exception": false,
     "start_time": "2021-02-16T02:22:40.216953",
     "status": "completed"
    },
    "tags": []
   },
   "outputs": [
    {
     "data": {
      "text/plain": [
       "PosixPath('/home/miltondp/projects/labs/greenelab/phenoplier/base3/results/clustering/runs')"
      ]
     },
     "metadata": {},
     "output_type": "display_data"
    }
   ],
   "source": [
    "input_dir = Path(\n",
    "    conf.RESULTS[\"CLUSTERING_RUNS_DIR\"],\n",
    ").resolve()\n",
    "display(input_dir)"
   ]
  },
  {
   "cell_type": "code",
   "execution_count": 9,
   "metadata": {
    "execution": {
     "iopub.execute_input": "2021-02-16T02:22:40.272589Z",
     "iopub.status.busy": "2021-02-16T02:22:40.272223Z",
     "iopub.status.idle": "2021-02-16T02:22:40.279996Z",
     "shell.execute_reply": "2021-02-16T02:22:40.279613Z"
    },
    "papermill": {
     "duration": 0.024622,
     "end_time": "2021-02-16T02:22:40.280083",
     "exception": false,
     "start_time": "2021-02-16T02:22:40.255461",
     "status": "completed"
    },
    "tags": []
   },
   "outputs": [],
   "source": [
    "included_pkl_files = []\n",
    "\n",
    "for pkl_file in input_dir.rglob(\"*.pkl\"):\n",
    "    pkl_file_str = str(pkl_file)\n",
    "\n",
    "    # skip stability pkl files\n",
    "    if \"-stability-\" in pkl_file_str:\n",
    "        continue\n",
    "\n",
    "    included_pkl_files.append(pkl_file)"
   ]
  },
  {
   "cell_type": "code",
   "execution_count": 10,
   "metadata": {
    "execution": {
     "iopub.execute_input": "2021-02-16T02:22:40.310228Z",
     "iopub.status.busy": "2021-02-16T02:22:40.309852Z",
     "iopub.status.idle": "2021-02-16T02:22:40.317931Z",
     "shell.execute_reply": "2021-02-16T02:22:40.317552Z"
    },
    "papermill": {
     "duration": 0.024074,
     "end_time": "2021-02-16T02:22:40.318019",
     "exception": false,
     "start_time": "2021-02-16T02:22:40.293945",
     "status": "completed"
    },
    "tags": []
   },
   "outputs": [
    {
     "data": {
      "text/plain": [
       "15"
      ]
     },
     "metadata": {},
     "output_type": "display_data"
    }
   ],
   "source": [
    "display(len(included_pkl_files))\n",
    "\n",
    "# 5 algorithms, 3 dataset versions\n",
    "assert len(included_pkl_files) == 5 * 3"
   ]
  },
  {
   "cell_type": "markdown",
   "metadata": {
    "papermill": {
     "duration": 0.014333,
     "end_time": "2021-02-16T02:22:40.346820",
     "exception": false,
     "start_time": "2021-02-16T02:22:40.332487",
     "status": "completed"
    },
    "tags": []
   },
   "source": [
    "## Combine partition files to get final ensemble"
   ]
  },
  {
   "cell_type": "code",
   "execution_count": 11,
   "metadata": {
    "execution": {
     "iopub.execute_input": "2021-02-16T02:22:40.376652Z",
     "iopub.status.busy": "2021-02-16T02:22:40.376288Z",
     "iopub.status.idle": "2021-02-16T02:22:40.383598Z",
     "shell.execute_reply": "2021-02-16T02:22:40.383220Z"
    },
    "papermill": {
     "duration": 0.023145,
     "end_time": "2021-02-16T02:22:40.383686",
     "exception": false,
     "start_time": "2021-02-16T02:22:40.360541",
     "status": "completed"
    },
    "tags": []
   },
   "outputs": [],
   "source": [
    "n_partitions = 0"
   ]
  },
  {
   "cell_type": "code",
   "execution_count": 12,
   "metadata": {
    "execution": {
     "iopub.execute_input": "2021-02-16T02:22:40.415569Z",
     "iopub.status.busy": "2021-02-16T02:22:40.415182Z",
     "iopub.status.idle": "2021-02-16T02:22:40.422145Z",
     "shell.execute_reply": "2021-02-16T02:22:40.422439Z"
    },
    "papermill": {
     "duration": 0.024,
     "end_time": "2021-02-16T02:22:40.422551",
     "exception": false,
     "start_time": "2021-02-16T02:22:40.398551",
     "status": "completed"
    },
    "tags": []
   },
   "outputs": [],
   "source": [
    "ensembles_list = []"
   ]
  },
  {
   "cell_type": "code",
   "execution_count": 13,
   "metadata": {
    "execution": {
     "iopub.execute_input": "2021-02-16T02:22:40.456093Z",
     "iopub.status.busy": "2021-02-16T02:22:40.455715Z",
     "iopub.status.idle": "2021-02-16T02:22:40.595611Z",
     "shell.execute_reply": "2021-02-16T02:22:40.595134Z"
    },
    "papermill": {
     "duration": 0.158252,
     "end_time": "2021-02-16T02:22:40.595719",
     "exception": false,
     "start_time": "2021-02-16T02:22:40.437467",
     "status": "completed"
    },
    "tags": []
   },
   "outputs": [
    {
     "name": "stdout",
     "output_type": "stream",
     "text": [
      "More partitions than expected in umap-z_score_std-projection-smultixcan-efo_partial-mashr-zscores/DBSCAN.pkl\n",
      "Less partitions than expected in z_score_std-projection-smultixcan-efo_partial-mashr-zscores/DBSCAN.pkl\n",
      "Less partitions than expected in pca-z_score_std-projection-smultixcan-efo_partial-mashr-zscores/DBSCAN.pkl\n"
     ]
    }
   ],
   "source": [
    "for ens_file in included_pkl_files:\n",
    "    ens = pd.read_pickle(ens_file)\n",
    "\n",
    "    short_file_path = Path(*ens_file.parts[-2:])\n",
    "\n",
    "    if ens.shape[0] < MIN_ENSEMBLE_SIZE:\n",
    "        print(f\"Less partitions than expected in {short_file_path}\")\n",
    "\n",
    "        # if less partitions than expected, resample with replacement\n",
    "        ens = ens.sample(\n",
    "            n=EXPECTED_ENSEMBLE_SIZE,\n",
    "            replace=True,\n",
    "            random_state=RANDOM_GENERATOR.bit_generator,\n",
    "        )\n",
    "        assert ens.shape[0] == EXPECTED_ENSEMBLE_SIZE\n",
    "\n",
    "    elif ens.shape[0] > MAX_ENSEMBLE_SIZE:\n",
    "        print(f\"More partitions than expected in {short_file_path}\")\n",
    "\n",
    "        # if more partitions than expected, take a smaller sample\n",
    "        ens = ens.sample(\n",
    "            n=EXPECTED_ENSEMBLE_SIZE, random_state=RANDOM_GENERATOR.bit_generator\n",
    "        )\n",
    "        assert ens.shape[0] == EXPECTED_ENSEMBLE_SIZE\n",
    "\n",
    "    ens_full_format = np.concatenate(\n",
    "        ens[\"partition\"].apply(lambda x: x.reshape(1, -1)), axis=0\n",
    "    )\n",
    "\n",
    "    n_partitions += ens_full_format.shape[0]\n",
    "\n",
    "    ensembles_list.append(ens_full_format)"
   ]
  },
  {
   "cell_type": "code",
   "execution_count": 14,
   "metadata": {
    "execution": {
     "iopub.execute_input": "2021-02-16T02:22:40.632145Z",
     "iopub.status.busy": "2021-02-16T02:22:40.631757Z",
     "iopub.status.idle": "2021-02-16T02:22:40.640186Z",
     "shell.execute_reply": "2021-02-16T02:22:40.639786Z"
    },
    "papermill": {
     "duration": 0.026848,
     "end_time": "2021-02-16T02:22:40.640278",
     "exception": false,
     "start_time": "2021-02-16T02:22:40.613430",
     "status": "completed"
    },
    "tags": []
   },
   "outputs": [
    {
     "data": {
      "text/plain": [
       "15"
      ]
     },
     "metadata": {},
     "output_type": "display_data"
    }
   ],
   "source": [
    "display(len(ensembles_list))\n",
    "assert len(ensembles_list) == len(included_pkl_files)"
   ]
  },
  {
   "cell_type": "code",
   "execution_count": 15,
   "metadata": {
    "execution": {
     "iopub.execute_input": "2021-02-16T02:22:40.671808Z",
     "iopub.status.busy": "2021-02-16T02:22:40.671445Z",
     "iopub.status.idle": "2021-02-16T02:22:40.678825Z",
     "shell.execute_reply": "2021-02-16T02:22:40.679115Z"
    },
    "papermill": {
     "duration": 0.023831,
     "end_time": "2021-02-16T02:22:40.679223",
     "exception": false,
     "start_time": "2021-02-16T02:22:40.655392",
     "status": "completed"
    },
    "tags": []
   },
   "outputs": [
    {
     "data": {
      "text/plain": [
       "3749"
      ]
     },
     "metadata": {},
     "output_type": "display_data"
    }
   ],
   "source": [
    "n_data_objects = ensembles_list[0].shape[1]\n",
    "display(n_data_objects)"
   ]
  },
  {
   "cell_type": "code",
   "execution_count": 16,
   "metadata": {
    "execution": {
     "iopub.execute_input": "2021-02-16T02:22:40.711405Z",
     "iopub.status.busy": "2021-02-16T02:22:40.711038Z",
     "iopub.status.idle": "2021-02-16T02:22:40.719452Z",
     "shell.execute_reply": "2021-02-16T02:22:40.719107Z"
    },
    "papermill": {
     "duration": 0.02507,
     "end_time": "2021-02-16T02:22:40.719538",
     "exception": false,
     "start_time": "2021-02-16T02:22:40.694468",
     "status": "completed"
    },
    "tags": []
   },
   "outputs": [
    {
     "data": {
      "text/plain": [
       "4428"
      ]
     },
     "metadata": {},
     "output_type": "display_data"
    }
   ],
   "source": [
    "display(n_partitions)"
   ]
  },
  {
   "cell_type": "code",
   "execution_count": 17,
   "metadata": {
    "execution": {
     "iopub.execute_input": "2021-02-16T02:22:40.751793Z",
     "iopub.status.busy": "2021-02-16T02:22:40.751431Z",
     "iopub.status.idle": "2021-02-16T02:22:40.962695Z",
     "shell.execute_reply": "2021-02-16T02:22:40.963044Z"
    },
    "papermill": {
     "duration": 0.228796,
     "end_time": "2021-02-16T02:22:40.963164",
     "exception": false,
     "start_time": "2021-02-16T02:22:40.734368",
     "status": "completed"
    },
    "tags": []
   },
   "outputs": [],
   "source": [
    "full_ensemble = ensembles_list[0]\n",
    "for ens in ensembles_list[1:]:\n",
    "    full_ensemble = np.concatenate((full_ensemble, ens), axis=0)"
   ]
  },
  {
   "cell_type": "code",
   "execution_count": 18,
   "metadata": {
    "execution": {
     "iopub.execute_input": "2021-02-16T02:22:40.996567Z",
     "iopub.status.busy": "2021-02-16T02:22:40.996201Z",
     "iopub.status.idle": "2021-02-16T02:22:41.004266Z",
     "shell.execute_reply": "2021-02-16T02:22:41.003878Z"
    },
    "papermill": {
     "duration": 0.024924,
     "end_time": "2021-02-16T02:22:41.004356",
     "exception": false,
     "start_time": "2021-02-16T02:22:40.979432",
     "status": "completed"
    },
    "tags": []
   },
   "outputs": [
    {
     "data": {
      "text/plain": [
       "(4428, 3749)"
      ]
     },
     "metadata": {},
     "output_type": "display_data"
    }
   ],
   "source": [
    "display(full_ensemble.shape)\n",
    "assert full_ensemble.shape == (n_partitions, n_data_objects)"
   ]
  },
  {
   "cell_type": "markdown",
   "metadata": {
    "papermill": {
     "duration": 0.014557,
     "end_time": "2021-02-16T02:22:41.034933",
     "exception": false,
     "start_time": "2021-02-16T02:22:41.020376",
     "status": "completed"
    },
    "tags": []
   },
   "source": [
    "## Save"
   ]
  },
  {
   "cell_type": "code",
   "execution_count": 19,
   "metadata": {
    "execution": {
     "iopub.execute_input": "2021-02-16T02:22:41.067121Z",
     "iopub.status.busy": "2021-02-16T02:22:41.066742Z",
     "iopub.status.idle": "2021-02-16T02:22:41.075071Z",
     "shell.execute_reply": "2021-02-16T02:22:41.074702Z"
    },
    "papermill": {
     "duration": 0.025211,
     "end_time": "2021-02-16T02:22:41.075156",
     "exception": false,
     "start_time": "2021-02-16T02:22:41.049945",
     "status": "completed"
    },
    "tags": []
   },
   "outputs": [
    {
     "data": {
      "text/plain": [
       "PosixPath('/home/miltondp/projects/labs/greenelab/phenoplier/base3/results/clustering/consensus_clustering/ensemble.npy')"
      ]
     },
     "metadata": {},
     "output_type": "display_data"
    }
   ],
   "source": [
    "output_file = Path(RESULTS_DIR, \"ensemble.npy\").resolve()\n",
    "display(output_file)"
   ]
  },
  {
   "cell_type": "code",
   "execution_count": 20,
   "metadata": {
    "execution": {
     "iopub.execute_input": "2021-02-16T02:22:41.108380Z",
     "iopub.status.busy": "2021-02-16T02:22:41.107961Z",
     "iopub.status.idle": "2021-02-16T02:22:41.116781Z",
     "shell.execute_reply": "2021-02-16T02:22:41.117099Z"
    },
    "papermill": {
     "duration": 0.026692,
     "end_time": "2021-02-16T02:22:41.117221",
     "exception": false,
     "start_time": "2021-02-16T02:22:41.090529",
     "status": "completed"
    },
    "tags": []
   },
   "outputs": [
    {
     "data": {
      "text/plain": [
       "array([[0., 0., 0., ..., 0., 0., 0.],\n",
       "       [0., 0., 0., ..., 0., 0., 0.],\n",
       "       [0., 0., 0., ..., 0., 0., 0.],\n",
       "       ...,\n",
       "       [0., 0., 0., ..., 0., 0., 0.],\n",
       "       [0., 0., 0., ..., 0., 0., 0.],\n",
       "       [0., 0., 0., ..., 0., 0., 0.]])"
      ]
     },
     "execution_count": 20,
     "metadata": {},
     "output_type": "execute_result"
    }
   ],
   "source": [
    "full_ensemble"
   ]
  },
  {
   "cell_type": "code",
   "execution_count": 21,
   "metadata": {
    "execution": {
     "iopub.execute_input": "2021-02-16T02:22:41.152275Z",
     "iopub.status.busy": "2021-02-16T02:22:41.151913Z",
     "iopub.status.idle": "2021-02-16T02:22:41.239368Z",
     "shell.execute_reply": "2021-02-16T02:22:41.239710Z"
    },
    "papermill": {
     "duration": 0.106091,
     "end_time": "2021-02-16T02:22:41.239840",
     "exception": false,
     "start_time": "2021-02-16T02:22:41.133749",
     "status": "completed"
    },
    "tags": []
   },
   "outputs": [],
   "source": [
    "np.save(output_file, full_ensemble)"
   ]
  },
  {
   "cell_type": "markdown",
   "metadata": {
    "papermill": {
     "duration": 0.016362,
     "end_time": "2021-02-16T02:22:41.273756",
     "exception": false,
     "start_time": "2021-02-16T02:22:41.257394",
     "status": "completed"
    },
    "tags": []
   },
   "source": [
    "# Get coassociation matrix from ensemble"
   ]
  },
  {
   "cell_type": "markdown",
   "metadata": {
    "papermill": {
     "duration": 0.014967,
     "end_time": "2021-02-16T02:22:41.303797",
     "exception": false,
     "start_time": "2021-02-16T02:22:41.288830",
     "status": "completed"
    },
    "tags": []
   },
   "source": [
    "The coassociation matrix is a distance matrix derived from the ensemble, where each cell represents the percentage of times a pair of objects (traits and diseases in this case) were not clustered together. It serves as an input for any consensus function (basically, another clustering algorithm) to derive a consensus partition."
   ]
  },
  {
   "cell_type": "code",
   "execution_count": 22,
   "metadata": {
    "execution": {
     "iopub.execute_input": "2021-02-16T02:22:41.336348Z",
     "iopub.status.busy": "2021-02-16T02:22:41.335980Z",
     "iopub.status.idle": "2021-02-16T02:22:41.616488Z",
     "shell.execute_reply": "2021-02-16T02:22:41.616097Z"
    },
    "papermill": {
     "duration": 0.297694,
     "end_time": "2021-02-16T02:22:41.616578",
     "exception": false,
     "start_time": "2021-02-16T02:22:41.318884",
     "status": "completed"
    },
    "tags": []
   },
   "outputs": [],
   "source": [
    "from clustering.ensembles.utils import get_ensemble_distance_matrix"
   ]
  },
  {
   "cell_type": "code",
   "execution_count": 23,
   "metadata": {
    "execution": {
     "iopub.execute_input": "2021-02-16T02:22:41.649630Z",
     "iopub.status.busy": "2021-02-16T02:22:41.649265Z",
     "iopub.status.idle": "2021-02-16T02:40:04.120029Z",
     "shell.execute_reply": "2021-02-16T02:40:04.119534Z"
    },
    "papermill": {
     "duration": 1042.488184,
     "end_time": "2021-02-16T02:40:04.120139",
     "exception": false,
     "start_time": "2021-02-16T02:22:41.631955",
     "status": "completed"
    },
    "tags": []
   },
   "outputs": [],
   "source": [
    "ensemble_coassoc_matrix = get_ensemble_distance_matrix(\n",
    "    full_ensemble,\n",
    "    n_jobs=conf.GENERAL[\"N_JOBS\"],\n",
    ")"
   ]
  },
  {
   "cell_type": "code",
   "execution_count": 24,
   "metadata": {
    "execution": {
     "iopub.execute_input": "2021-02-16T02:40:05.049112Z",
     "iopub.status.busy": "2021-02-16T02:40:05.048566Z",
     "iopub.status.idle": "2021-02-16T02:40:05.060466Z",
     "shell.execute_reply": "2021-02-16T02:40:05.060087Z"
    },
    "papermill": {
     "duration": 0.920579,
     "end_time": "2021-02-16T02:40:05.060553",
     "exception": false,
     "start_time": "2021-02-16T02:40:04.139974",
     "status": "completed"
    },
    "tags": []
   },
   "outputs": [
    {
     "data": {
      "text/plain": [
       "(3749, 3749)"
      ]
     },
     "execution_count": 24,
     "metadata": {},
     "output_type": "execute_result"
    }
   ],
   "source": [
    "ensemble_coassoc_matrix.shape"
   ]
  },
  {
   "cell_type": "code",
   "execution_count": 25,
   "metadata": {
    "execution": {
     "iopub.execute_input": "2021-02-16T02:40:05.097457Z",
     "iopub.status.busy": "2021-02-16T02:40:05.097069Z",
     "iopub.status.idle": "2021-02-16T02:40:05.107209Z",
     "shell.execute_reply": "2021-02-16T02:40:05.107490Z"
    },
    "papermill": {
     "duration": 0.029214,
     "end_time": "2021-02-16T02:40:05.107599",
     "exception": false,
     "start_time": "2021-02-16T02:40:05.078385",
     "status": "completed"
    },
    "tags": []
   },
   "outputs": [
    {
     "data": {
      "text/plain": [
       "array([[0.        , 0.05615942, 0.05389493, ..., 0.59986413, 0.66171429,\n",
       "        0.66757246],\n",
       "       [0.05615942, 0.        , 0.02740036, ..., 0.60122283, 0.65988571,\n",
       "        0.66530797],\n",
       "       [0.05389493, 0.02740036, 0.        , ..., 0.59782609, 0.66102857,\n",
       "        0.66281703],\n",
       "       ...,\n",
       "       [0.59986413, 0.60122283, 0.59782609, ..., 0.        , 0.6699339 ,\n",
       "        0.66531165],\n",
       "       [0.66171429, 0.65988571, 0.66102857, ..., 0.6699339 , 0.        ,\n",
       "        0.58650558],\n",
       "       [0.66757246, 0.66530797, 0.66281703, ..., 0.66531165, 0.58650558,\n",
       "        0.        ]])"
      ]
     },
     "execution_count": 25,
     "metadata": {},
     "output_type": "execute_result"
    }
   ],
   "source": [
    "ensemble_coassoc_matrix"
   ]
  },
  {
   "cell_type": "markdown",
   "metadata": {
    "papermill": {
     "duration": 0.015369,
     "end_time": "2021-02-16T02:40:05.139135",
     "exception": false,
     "start_time": "2021-02-16T02:40:05.123766",
     "status": "completed"
    },
    "tags": []
   },
   "source": [
    "## Save"
   ]
  },
  {
   "cell_type": "code",
   "execution_count": 26,
   "metadata": {
    "execution": {
     "iopub.execute_input": "2021-02-16T02:40:05.172530Z",
     "iopub.status.busy": "2021-02-16T02:40:05.172164Z",
     "iopub.status.idle": "2021-02-16T02:40:05.182196Z",
     "shell.execute_reply": "2021-02-16T02:40:05.181816Z"
    },
    "papermill": {
     "duration": 0.027682,
     "end_time": "2021-02-16T02:40:05.182284",
     "exception": false,
     "start_time": "2021-02-16T02:40:05.154602",
     "status": "completed"
    },
    "tags": []
   },
   "outputs": [
    {
     "data": {
      "text/plain": [
       "PosixPath('/home/miltondp/projects/labs/greenelab/phenoplier/base3/results/clustering/consensus_clustering/ensemble_coassoc_matrix.npy')"
      ]
     },
     "metadata": {},
     "output_type": "display_data"
    }
   ],
   "source": [
    "output_file = Path(RESULTS_DIR, \"ensemble_coassoc_matrix.npy\").resolve()\n",
    "display(output_file)"
   ]
  },
  {
   "cell_type": "code",
   "execution_count": 27,
   "metadata": {
    "execution": {
     "iopub.execute_input": "2021-02-16T02:40:05.217897Z",
     "iopub.status.busy": "2021-02-16T02:40:05.217532Z",
     "iopub.status.idle": "2021-02-16T02:40:05.295640Z",
     "shell.execute_reply": "2021-02-16T02:40:05.295268Z"
    },
    "papermill": {
     "duration": 0.096829,
     "end_time": "2021-02-16T02:40:05.295748",
     "exception": false,
     "start_time": "2021-02-16T02:40:05.198919",
     "status": "completed"
    },
    "tags": []
   },
   "outputs": [],
   "source": [
    "np.save(output_file, ensemble_coassoc_matrix)"
   ]
  },
  {
   "cell_type": "code",
   "execution_count": null,
   "metadata": {
    "papermill": {
     "duration": 0.016928,
     "end_time": "2021-02-16T02:40:05.331715",
     "exception": false,
     "start_time": "2021-02-16T02:40:05.314787",
     "status": "completed"
    },
    "tags": []
   },
   "outputs": [],
   "source": []
  }
 ],
 "metadata": {
  "jupytext": {
   "cell_metadata_filter": "all,-execution,-papermill",
   "formats": "ipynb,py//py:percent"
  },
  "kernelspec": {
   "display_name": "Python 3",
   "language": "python",
   "name": "python3"
  },
  "language_info": {
   "codemirror_mode": {
    "name": "ipython",
    "version": 3
   },
   "file_extension": ".py",
   "mimetype": "text/x-python",
   "name": "python",
   "nbconvert_exporter": "python",
   "pygments_lexer": "ipython3",
   "version": "3.8.6"
  },
  "papermill": {
   "default_parameters": {},
   "duration": 1046.944134,
   "end_time": "2021-02-16T02:40:05.652454",
   "environment_variables": {},
   "exception": null,
   "input_path": "16_consensus_clustering/020_00-generate_ensemble.ipynb",
   "output_path": "16_consensus_clustering/020_00-generate_ensemble.run.ipynb",
   "parameters": {},
   "start_time": "2021-02-16T02:22:38.708320",
   "version": "2.2.2"
  },
  "toc-autonumbering": true,
  "toc-showcode": false,
  "toc-showmarkdowntxt": false,
  "toc-showtags": false
 },
 "nbformat": 4,
 "nbformat_minor": 4
}
