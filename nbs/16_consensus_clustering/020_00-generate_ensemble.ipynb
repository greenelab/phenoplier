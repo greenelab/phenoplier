{
 "cells": [
  {
   "cell_type": "markdown",
   "metadata": {
    "papermill": {
     "duration": 0.017296,
     "end_time": "2021-01-13T20:32:53.502630",
     "exception": false,
     "start_time": "2021-01-13T20:32:53.485334",
     "status": "completed"
    },
    "tags": []
   },
   "source": [
    "# Description"
   ]
  },
  {
   "cell_type": "markdown",
   "metadata": {
    "papermill": {
     "duration": 0.012734,
     "end_time": "2021-01-13T20:32:53.528114",
     "exception": false,
     "start_time": "2021-01-13T20:32:53.515380",
     "status": "completed"
    },
    "tags": []
   },
   "source": [
    "It reads all the clustering partitions obtained with different algorithms, and generates the ensemble by putting it into a numpy array. Then it obtains the coassociation matrix from the ensemble (see more details below)."
   ]
  },
  {
   "cell_type": "markdown",
   "metadata": {
    "papermill": {
     "duration": 0.012583,
     "end_time": "2021-01-13T20:32:53.553320",
     "exception": false,
     "start_time": "2021-01-13T20:32:53.540737",
     "status": "completed"
    },
    "tags": []
   },
   "source": [
    "# Environment variables"
   ]
  },
  {
   "cell_type": "code",
   "execution_count": 1,
   "metadata": {
    "execution": {
     "iopub.execute_input": "2021-01-13T20:32:53.582218Z",
     "iopub.status.busy": "2021-01-13T20:32:53.581831Z",
     "iopub.status.idle": "2021-01-13T20:32:53.592679Z",
     "shell.execute_reply": "2021-01-13T20:32:53.592991Z"
    },
    "papermill": {
     "duration": 0.027045,
     "end_time": "2021-01-13T20:32:53.593171",
     "exception": false,
     "start_time": "2021-01-13T20:32:53.566126",
     "status": "completed"
    },
    "tags": []
   },
   "outputs": [
    {
     "data": {
      "text/plain": [
       "3"
      ]
     },
     "metadata": {},
     "output_type": "display_data"
    }
   ],
   "source": [
    "from IPython.display import display\n",
    "\n",
    "import conf\n",
    "\n",
    "N_JOBS = conf.GENERAL[\"N_JOBS\"]\n",
    "display(N_JOBS)"
   ]
  },
  {
   "cell_type": "code",
   "execution_count": 2,
   "metadata": {
    "execution": {
     "iopub.execute_input": "2021-01-13T20:32:53.625710Z",
     "iopub.status.busy": "2021-01-13T20:32:53.625304Z",
     "iopub.status.idle": "2021-01-13T20:32:53.627610Z",
     "shell.execute_reply": "2021-01-13T20:32:53.627216Z"
    },
    "papermill": {
     "duration": 0.021189,
     "end_time": "2021-01-13T20:32:53.627700",
     "exception": false,
     "start_time": "2021-01-13T20:32:53.606511",
     "status": "completed"
    },
    "tags": []
   },
   "outputs": [
    {
     "name": "stdout",
     "output_type": "stream",
     "text": [
      "env: MKL_NUM_THREADS=3\n",
      "env: OPEN_BLAS_NUM_THREADS=3\n",
      "env: NUMEXPR_NUM_THREADS=3\n",
      "env: OMP_NUM_THREADS=3\n"
     ]
    }
   ],
   "source": [
    "%env MKL_NUM_THREADS=$N_JOBS\n",
    "%env OPEN_BLAS_NUM_THREADS=$N_JOBS\n",
    "%env NUMEXPR_NUM_THREADS=$N_JOBS\n",
    "%env OMP_NUM_THREADS=$N_JOBS"
   ]
  },
  {
   "cell_type": "markdown",
   "metadata": {
    "papermill": {
     "duration": 0.013563,
     "end_time": "2021-01-13T20:32:53.655443",
     "exception": false,
     "start_time": "2021-01-13T20:32:53.641880",
     "status": "completed"
    },
    "tags": []
   },
   "source": [
    "# Modules loading"
   ]
  },
  {
   "cell_type": "code",
   "execution_count": 3,
   "metadata": {
    "execution": {
     "iopub.execute_input": "2021-01-13T20:32:53.685344Z",
     "iopub.status.busy": "2021-01-13T20:32:53.684968Z",
     "iopub.status.idle": "2021-01-13T20:32:53.693049Z",
     "shell.execute_reply": "2021-01-13T20:32:53.692606Z"
    },
    "papermill": {
     "duration": 0.024455,
     "end_time": "2021-01-13T20:32:53.693137",
     "exception": false,
     "start_time": "2021-01-13T20:32:53.668682",
     "status": "completed"
    },
    "tags": []
   },
   "outputs": [],
   "source": [
    "%load_ext autoreload\n",
    "%autoreload 2"
   ]
  },
  {
   "cell_type": "code",
   "execution_count": 4,
   "metadata": {
    "execution": {
     "iopub.execute_input": "2021-01-13T20:32:53.722366Z",
     "iopub.status.busy": "2021-01-13T20:32:53.721998Z",
     "iopub.status.idle": "2021-01-13T20:32:53.892255Z",
     "shell.execute_reply": "2021-01-13T20:32:53.891862Z"
    },
    "papermill": {
     "duration": 0.185593,
     "end_time": "2021-01-13T20:32:53.892345",
     "exception": false,
     "start_time": "2021-01-13T20:32:53.706752",
     "status": "completed"
    },
    "tags": []
   },
   "outputs": [],
   "source": [
    "from pathlib import Path\n",
    "\n",
    "import numpy as np\n",
    "import pandas as pd"
   ]
  },
  {
   "cell_type": "markdown",
   "metadata": {
    "papermill": {
     "duration": 0.013062,
     "end_time": "2021-01-13T20:32:53.919413",
     "exception": false,
     "start_time": "2021-01-13T20:32:53.906351",
     "status": "completed"
    },
    "tags": []
   },
   "source": [
    "# Settings"
   ]
  },
  {
   "cell_type": "code",
   "execution_count": 5,
   "metadata": {
    "execution": {
     "iopub.execute_input": "2021-01-13T20:32:53.948447Z",
     "iopub.status.busy": "2021-01-13T20:32:53.948050Z",
     "iopub.status.idle": "2021-01-13T20:32:53.955666Z",
     "shell.execute_reply": "2021-01-13T20:32:53.955269Z"
    },
    "papermill": {
     "duration": 0.023164,
     "end_time": "2021-01-13T20:32:53.955754",
     "exception": false,
     "start_time": "2021-01-13T20:32:53.932590",
     "status": "completed"
    },
    "tags": []
   },
   "outputs": [],
   "source": [
    "RANDOM_GENERATOR = np.random.default_rng(12345)"
   ]
  },
  {
   "cell_type": "markdown",
   "metadata": {
    "papermill": {
     "duration": 0.013569,
     "end_time": "2021-01-13T20:32:53.982471",
     "exception": false,
     "start_time": "2021-01-13T20:32:53.968902",
     "status": "completed"
    },
    "tags": []
   },
   "source": [
    "## Ensemble size"
   ]
  },
  {
   "cell_type": "markdown",
   "metadata": {
    "papermill": {
     "duration": 0.01287,
     "end_time": "2021-01-13T20:32:54.008525",
     "exception": false,
     "start_time": "2021-01-13T20:32:53.995655",
     "status": "completed"
    },
    "tags": []
   },
   "source": [
    "For some clustering algorithms it is easy to control the number of final partitions to generate: for instance, for k-means, you can generate partitions from k=2 to k=20 (19 partitions with different number of clusters). However, with algorithms such as DBSCAN this is not very easy to achieve, since for some parameter combinations (`eps` and `min_samples`) it generates partitions with one cluster (which is not an actual partition of the data) that are not included here.\n",
    "\n",
    "The parameters below specify the expected number of partitions for each clustering algorithm, and a range of allowed sizes. Then, the code below checks that each algorithm has the same representation in the ensemble. For example, if `EXPECTED_ENSEMBLE_SIZE=50`, `MIN_ENSEMBLE_SIZE=45` and `MAX_ENSEMBLE_SIZE=55`, the code below will check that k-means, spectral clustering, DBSCAN, etc, generated between 45 and 55 partitions. If not, it resamples the generated partitions to get 50 (the value specified by `EXPECTED_ENSEMBLE_SIZE`), so each algorithm has approximately the same representation in the full ensemble."
   ]
  },
  {
   "cell_type": "code",
   "execution_count": 6,
   "metadata": {
    "execution": {
     "iopub.execute_input": "2021-01-13T20:32:54.037310Z",
     "iopub.status.busy": "2021-01-13T20:32:54.036945Z",
     "iopub.status.idle": "2021-01-13T20:32:54.044207Z",
     "shell.execute_reply": "2021-01-13T20:32:54.043842Z"
    },
    "papermill": {
     "duration": 0.022622,
     "end_time": "2021-01-13T20:32:54.044294",
     "exception": false,
     "start_time": "2021-01-13T20:32:54.021672",
     "status": "completed"
    },
    "tags": []
   },
   "outputs": [],
   "source": [
    "EXPECTED_ENSEMBLE_SIZE = 295\n",
    "\n",
    "MIN_ENSEMBLE_SIZE = 290\n",
    "MAX_ENSEMBLE_SIZE = 300"
   ]
  },
  {
   "cell_type": "markdown",
   "metadata": {
    "papermill": {
     "duration": 0.012873,
     "end_time": "2021-01-13T20:32:54.070404",
     "exception": false,
     "start_time": "2021-01-13T20:32:54.057531",
     "status": "completed"
    },
    "tags": []
   },
   "source": [
    "## Consensus clustering"
   ]
  },
  {
   "cell_type": "code",
   "execution_count": 7,
   "metadata": {
    "execution": {
     "iopub.execute_input": "2021-01-13T20:32:54.099142Z",
     "iopub.status.busy": "2021-01-13T20:32:54.098773Z",
     "iopub.status.idle": "2021-01-13T20:32:54.106924Z",
     "shell.execute_reply": "2021-01-13T20:32:54.106560Z"
    },
    "papermill": {
     "duration": 0.023741,
     "end_time": "2021-01-13T20:32:54.107009",
     "exception": false,
     "start_time": "2021-01-13T20:32:54.083268",
     "status": "completed"
    },
    "tags": []
   },
   "outputs": [
    {
     "data": {
      "text/plain": [
       "PosixPath('/home/miltondp/projects/labs/greenelab/phenoplier/base3/results/clustering/consensus_clustering')"
      ]
     },
     "metadata": {},
     "output_type": "display_data"
    }
   ],
   "source": [
    "# output dir for this notebook\n",
    "RESULTS_DIR = Path(conf.RESULTS[\"CLUSTERING_DIR\"], \"consensus_clustering\").resolve()\n",
    "RESULTS_DIR.mkdir(parents=True, exist_ok=True)\n",
    "\n",
    "display(RESULTS_DIR)"
   ]
  },
  {
   "cell_type": "markdown",
   "metadata": {
    "papermill": {
     "duration": 0.013171,
     "end_time": "2021-01-13T20:32:54.133672",
     "exception": false,
     "start_time": "2021-01-13T20:32:54.120501",
     "status": "completed"
    },
    "tags": []
   },
   "source": [
    "# Get ensemble"
   ]
  },
  {
   "cell_type": "markdown",
   "metadata": {
    "papermill": {
     "duration": 0.013072,
     "end_time": "2021-01-13T20:32:54.159816",
     "exception": false,
     "start_time": "2021-01-13T20:32:54.146744",
     "status": "completed"
    },
    "tags": []
   },
   "source": [
    "## Load partition files"
   ]
  },
  {
   "cell_type": "code",
   "execution_count": 8,
   "metadata": {
    "execution": {
     "iopub.execute_input": "2021-01-13T20:32:54.188497Z",
     "iopub.status.busy": "2021-01-13T20:32:54.188122Z",
     "iopub.status.idle": "2021-01-13T20:32:54.197296Z",
     "shell.execute_reply": "2021-01-13T20:32:54.196935Z"
    },
    "papermill": {
     "duration": 0.024506,
     "end_time": "2021-01-13T20:32:54.197381",
     "exception": false,
     "start_time": "2021-01-13T20:32:54.172875",
     "status": "completed"
    },
    "tags": []
   },
   "outputs": [
    {
     "data": {
      "text/plain": [
       "PosixPath('/home/miltondp/projects/labs/greenelab/phenoplier/base3/results/clustering/runs')"
      ]
     },
     "metadata": {},
     "output_type": "display_data"
    }
   ],
   "source": [
    "input_dir = Path(\n",
    "    conf.RESULTS[\"CLUSTERING_RUNS_DIR\"],\n",
    ").resolve()\n",
    "display(input_dir)"
   ]
  },
  {
   "cell_type": "code",
   "execution_count": 9,
   "metadata": {
    "execution": {
     "iopub.execute_input": "2021-01-13T20:32:54.227314Z",
     "iopub.status.busy": "2021-01-13T20:32:54.226936Z",
     "iopub.status.idle": "2021-01-13T20:32:54.234897Z",
     "shell.execute_reply": "2021-01-13T20:32:54.234528Z"
    },
    "papermill": {
     "duration": 0.024,
     "end_time": "2021-01-13T20:32:54.234985",
     "exception": false,
     "start_time": "2021-01-13T20:32:54.210985",
     "status": "completed"
    },
    "tags": []
   },
   "outputs": [],
   "source": [
    "included_pkl_files = []\n",
    "\n",
    "for pkl_file in input_dir.rglob(\"*.pkl\"):\n",
    "    pkl_file_str = str(pkl_file)\n",
    "\n",
    "    # skip stability pkl files\n",
    "    if \"-stability-\" in pkl_file_str:\n",
    "        continue\n",
    "\n",
    "    included_pkl_files.append(pkl_file)"
   ]
  },
  {
   "cell_type": "code",
   "execution_count": 10,
   "metadata": {
    "execution": {
     "iopub.execute_input": "2021-01-13T20:32:54.265346Z",
     "iopub.status.busy": "2021-01-13T20:32:54.264970Z",
     "iopub.status.idle": "2021-01-13T20:32:54.273098Z",
     "shell.execute_reply": "2021-01-13T20:32:54.272708Z"
    },
    "papermill": {
     "duration": 0.024094,
     "end_time": "2021-01-13T20:32:54.273185",
     "exception": false,
     "start_time": "2021-01-13T20:32:54.249091",
     "status": "completed"
    },
    "tags": []
   },
   "outputs": [
    {
     "data": {
      "text/plain": [
       "15"
      ]
     },
     "metadata": {},
     "output_type": "display_data"
    }
   ],
   "source": [
    "display(len(included_pkl_files))\n",
    "\n",
    "# 5 algorithms, 3 dataset versions\n",
    "assert len(included_pkl_files) == 5 * 3"
   ]
  },
  {
   "cell_type": "markdown",
   "metadata": {
    "papermill": {
     "duration": 0.014141,
     "end_time": "2021-01-13T20:32:54.301784",
     "exception": false,
     "start_time": "2021-01-13T20:32:54.287643",
     "status": "completed"
    },
    "tags": []
   },
   "source": [
    "## Combine partition files to get final ensemble"
   ]
  },
  {
   "cell_type": "code",
   "execution_count": 11,
   "metadata": {
    "execution": {
     "iopub.execute_input": "2021-01-13T20:32:54.331335Z",
     "iopub.status.busy": "2021-01-13T20:32:54.330988Z",
     "iopub.status.idle": "2021-01-13T20:32:54.338798Z",
     "shell.execute_reply": "2021-01-13T20:32:54.338416Z"
    },
    "papermill": {
     "duration": 0.023505,
     "end_time": "2021-01-13T20:32:54.338886",
     "exception": false,
     "start_time": "2021-01-13T20:32:54.315381",
     "status": "completed"
    },
    "tags": []
   },
   "outputs": [],
   "source": [
    "n_partitions = 0"
   ]
  },
  {
   "cell_type": "code",
   "execution_count": 12,
   "metadata": {
    "execution": {
     "iopub.execute_input": "2021-01-13T20:32:54.369072Z",
     "iopub.status.busy": "2021-01-13T20:32:54.368644Z",
     "iopub.status.idle": "2021-01-13T20:32:54.376835Z",
     "shell.execute_reply": "2021-01-13T20:32:54.376401Z"
    },
    "papermill": {
     "duration": 0.023825,
     "end_time": "2021-01-13T20:32:54.376924",
     "exception": false,
     "start_time": "2021-01-13T20:32:54.353099",
     "status": "completed"
    },
    "tags": []
   },
   "outputs": [],
   "source": [
    "ensembles_list = []"
   ]
  },
  {
   "cell_type": "code",
   "execution_count": 13,
   "metadata": {
    "execution": {
     "iopub.execute_input": "2021-01-13T20:32:54.409490Z",
     "iopub.status.busy": "2021-01-13T20:32:54.409104Z",
     "iopub.status.idle": "2021-01-13T20:32:54.551065Z",
     "shell.execute_reply": "2021-01-13T20:32:54.550594Z"
    },
    "papermill": {
     "duration": 0.160111,
     "end_time": "2021-01-13T20:32:54.551173",
     "exception": false,
     "start_time": "2021-01-13T20:32:54.391062",
     "status": "completed"
    },
    "tags": []
   },
   "outputs": [
    {
     "name": "stdout",
     "output_type": "stream",
     "text": [
      "More partitions than expected in umap-z_score_std-projection-smultixcan-efo_partial-mashr-zscores/DBSCAN.pkl\n",
      "Less partitions than expected in z_score_std-projection-smultixcan-efo_partial-mashr-zscores/DBSCAN.pkl\n",
      "Less partitions than expected in pca-z_score_std-projection-smultixcan-efo_partial-mashr-zscores/DBSCAN.pkl\n"
     ]
    }
   ],
   "source": [
    "for ens_file in included_pkl_files:\n",
    "    ens = pd.read_pickle(ens_file)\n",
    "\n",
    "    short_file_path = Path(*ens_file.parts[-2:])\n",
    "\n",
    "    if ens.shape[0] < MIN_ENSEMBLE_SIZE:\n",
    "        print(f\"Less partitions than expected in {short_file_path}\")\n",
    "\n",
    "        # if less partitions than expected, resample with replacement\n",
    "        ens = ens.sample(\n",
    "            n=EXPECTED_ENSEMBLE_SIZE,\n",
    "            replace=True,\n",
    "            random_state=RANDOM_GENERATOR.bit_generator,\n",
    "        )\n",
    "        assert ens.shape[0] == EXPECTED_ENSEMBLE_SIZE\n",
    "\n",
    "    elif ens.shape[0] > MAX_ENSEMBLE_SIZE:\n",
    "        print(f\"More partitions than expected in {short_file_path}\")\n",
    "\n",
    "        # if more partitions than expected, take a smaller sample\n",
    "        ens = ens.sample(\n",
    "            n=EXPECTED_ENSEMBLE_SIZE, random_state=RANDOM_GENERATOR.bit_generator\n",
    "        )\n",
    "        assert ens.shape[0] == EXPECTED_ENSEMBLE_SIZE\n",
    "\n",
    "    ens_full_format = np.concatenate(\n",
    "        ens[\"partition\"].apply(lambda x: x.reshape(1, -1)), axis=0\n",
    "    )\n",
    "\n",
    "    n_partitions += ens_full_format.shape[0]\n",
    "\n",
    "    ensembles_list.append(ens_full_format)"
   ]
  },
  {
   "cell_type": "code",
   "execution_count": 14,
   "metadata": {
    "execution": {
     "iopub.execute_input": "2021-01-13T20:32:54.587260Z",
     "iopub.status.busy": "2021-01-13T20:32:54.586886Z",
     "iopub.status.idle": "2021-01-13T20:32:54.594776Z",
     "shell.execute_reply": "2021-01-13T20:32:54.594388Z"
    },
    "papermill": {
     "duration": 0.026302,
     "end_time": "2021-01-13T20:32:54.594867",
     "exception": false,
     "start_time": "2021-01-13T20:32:54.568565",
     "status": "completed"
    },
    "tags": []
   },
   "outputs": [
    {
     "data": {
      "text/plain": [
       "15"
      ]
     },
     "metadata": {},
     "output_type": "display_data"
    }
   ],
   "source": [
    "display(len(ensembles_list))\n",
    "assert len(ensembles_list) == len(included_pkl_files)"
   ]
  },
  {
   "cell_type": "code",
   "execution_count": 15,
   "metadata": {
    "execution": {
     "iopub.execute_input": "2021-01-13T20:32:54.627646Z",
     "iopub.status.busy": "2021-01-13T20:32:54.627227Z",
     "iopub.status.idle": "2021-01-13T20:32:54.635718Z",
     "shell.execute_reply": "2021-01-13T20:32:54.635300Z"
    },
    "papermill": {
     "duration": 0.026145,
     "end_time": "2021-01-13T20:32:54.635814",
     "exception": false,
     "start_time": "2021-01-13T20:32:54.609669",
     "status": "completed"
    },
    "tags": []
   },
   "outputs": [
    {
     "data": {
      "text/plain": [
       "3749"
      ]
     },
     "metadata": {},
     "output_type": "display_data"
    }
   ],
   "source": [
    "n_data_objects = ensembles_list[0].shape[1]\n",
    "display(n_data_objects)"
   ]
  },
  {
   "cell_type": "code",
   "execution_count": 16,
   "metadata": {
    "execution": {
     "iopub.execute_input": "2021-01-13T20:32:54.669112Z",
     "iopub.status.busy": "2021-01-13T20:32:54.668701Z",
     "iopub.status.idle": "2021-01-13T20:32:54.676615Z",
     "shell.execute_reply": "2021-01-13T20:32:54.676259Z"
    },
    "papermill": {
     "duration": 0.02491,
     "end_time": "2021-01-13T20:32:54.676713",
     "exception": false,
     "start_time": "2021-01-13T20:32:54.651803",
     "status": "completed"
    },
    "tags": []
   },
   "outputs": [
    {
     "data": {
      "text/plain": [
       "4428"
      ]
     },
     "metadata": {},
     "output_type": "display_data"
    }
   ],
   "source": [
    "display(n_partitions)"
   ]
  },
  {
   "cell_type": "code",
   "execution_count": 17,
   "metadata": {
    "execution": {
     "iopub.execute_input": "2021-01-13T20:32:54.709057Z",
     "iopub.status.busy": "2021-01-13T20:32:54.708640Z",
     "iopub.status.idle": "2021-01-13T20:32:54.915604Z",
     "shell.execute_reply": "2021-01-13T20:32:54.915235Z"
    },
    "papermill": {
     "duration": 0.224045,
     "end_time": "2021-01-13T20:32:54.915704",
     "exception": false,
     "start_time": "2021-01-13T20:32:54.691659",
     "status": "completed"
    },
    "tags": []
   },
   "outputs": [],
   "source": [
    "full_ensemble = ensembles_list[0]\n",
    "for ens in ensembles_list[1:]:\n",
    "    full_ensemble = np.concatenate((full_ensemble, ens), axis=0)"
   ]
  },
  {
   "cell_type": "code",
   "execution_count": 18,
   "metadata": {
    "execution": {
     "iopub.execute_input": "2021-01-13T20:32:54.948635Z",
     "iopub.status.busy": "2021-01-13T20:32:54.948259Z",
     "iopub.status.idle": "2021-01-13T20:32:54.956492Z",
     "shell.execute_reply": "2021-01-13T20:32:54.956119Z"
    },
    "papermill": {
     "duration": 0.024875,
     "end_time": "2021-01-13T20:32:54.956579",
     "exception": false,
     "start_time": "2021-01-13T20:32:54.931704",
     "status": "completed"
    },
    "tags": []
   },
   "outputs": [
    {
     "data": {
      "text/plain": [
       "(4428, 3749)"
      ]
     },
     "metadata": {},
     "output_type": "display_data"
    }
   ],
   "source": [
    "display(full_ensemble.shape)\n",
    "assert full_ensemble.shape == (n_partitions, n_data_objects)"
   ]
  },
  {
   "cell_type": "markdown",
   "metadata": {
    "papermill": {
     "duration": 0.015111,
     "end_time": "2021-01-13T20:32:54.987168",
     "exception": false,
     "start_time": "2021-01-13T20:32:54.972057",
     "status": "completed"
    },
    "tags": []
   },
   "source": [
    "## Save"
   ]
  },
  {
   "cell_type": "code",
   "execution_count": 19,
   "metadata": {
    "execution": {
     "iopub.execute_input": "2021-01-13T20:32:55.019551Z",
     "iopub.status.busy": "2021-01-13T20:32:55.019174Z",
     "iopub.status.idle": "2021-01-13T20:32:55.026978Z",
     "shell.execute_reply": "2021-01-13T20:32:55.027272Z"
    },
    "papermill": {
     "duration": 0.025381,
     "end_time": "2021-01-13T20:32:55.027376",
     "exception": false,
     "start_time": "2021-01-13T20:32:55.001995",
     "status": "completed"
    },
    "tags": []
   },
   "outputs": [
    {
     "data": {
      "text/plain": [
       "PosixPath('/home/miltondp/projects/labs/greenelab/phenoplier/base3/results/clustering/consensus_clustering/ensemble.npy')"
      ]
     },
     "metadata": {},
     "output_type": "display_data"
    }
   ],
   "source": [
    "output_file = Path(RESULTS_DIR, \"ensemble.npy\").resolve()\n",
    "display(output_file)"
   ]
  },
  {
   "cell_type": "code",
   "execution_count": 20,
   "metadata": {
    "execution": {
     "iopub.execute_input": "2021-01-13T20:32:55.060198Z",
     "iopub.status.busy": "2021-01-13T20:32:55.059825Z",
     "iopub.status.idle": "2021-01-13T20:32:55.068250Z",
     "shell.execute_reply": "2021-01-13T20:32:55.067874Z"
    },
    "papermill": {
     "duration": 0.025428,
     "end_time": "2021-01-13T20:32:55.068337",
     "exception": false,
     "start_time": "2021-01-13T20:32:55.042909",
     "status": "completed"
    },
    "tags": []
   },
   "outputs": [
    {
     "data": {
      "text/plain": [
       "array([[0., 0., 0., ..., 0., 0., 0.],\n",
       "       [0., 0., 0., ..., 0., 0., 0.],\n",
       "       [0., 0., 0., ..., 0., 0., 0.],\n",
       "       ...,\n",
       "       [0., 0., 0., ..., 0., 0., 0.],\n",
       "       [0., 0., 0., ..., 0., 0., 0.],\n",
       "       [0., 0., 0., ..., 0., 0., 0.]])"
      ]
     },
     "execution_count": 20,
     "metadata": {},
     "output_type": "execute_result"
    }
   ],
   "source": [
    "full_ensemble"
   ]
  },
  {
   "cell_type": "code",
   "execution_count": 21,
   "metadata": {
    "execution": {
     "iopub.execute_input": "2021-01-13T20:32:55.101407Z",
     "iopub.status.busy": "2021-01-13T20:32:55.101040Z",
     "iopub.status.idle": "2021-01-13T20:32:55.184233Z",
     "shell.execute_reply": "2021-01-13T20:32:55.183884Z"
    },
    "papermill": {
     "duration": 0.100652,
     "end_time": "2021-01-13T20:32:55.184334",
     "exception": false,
     "start_time": "2021-01-13T20:32:55.083682",
     "status": "completed"
    },
    "tags": []
   },
   "outputs": [],
   "source": [
    "np.save(output_file, full_ensemble)"
   ]
  },
  {
   "cell_type": "markdown",
   "metadata": {
    "papermill": {
     "duration": 0.016098,
     "end_time": "2021-01-13T20:32:55.217349",
     "exception": false,
     "start_time": "2021-01-13T20:32:55.201251",
     "status": "completed"
    },
    "tags": []
   },
   "source": [
    "# Get coassociation matrix from ensemble"
   ]
  },
  {
   "cell_type": "markdown",
   "metadata": {
    "papermill": {
     "duration": 0.014779,
     "end_time": "2021-01-13T20:32:55.247083",
     "exception": false,
     "start_time": "2021-01-13T20:32:55.232304",
     "status": "completed"
    },
    "tags": []
   },
   "source": [
    "The coassociation matrix is a distance matrix derived from the ensemble, where each cell represents the percentage of times a pair of objects (traits and diseases in this case) were not clustered together. It serves as an input for any consensus function (basically, another clustering algorithm) to derive a consensus partition."
   ]
  },
  {
   "cell_type": "code",
   "execution_count": 22,
   "metadata": {
    "execution": {
     "iopub.execute_input": "2021-01-13T20:32:55.280081Z",
     "iopub.status.busy": "2021-01-13T20:32:55.279723Z",
     "iopub.status.idle": "2021-01-13T20:32:55.559741Z",
     "shell.execute_reply": "2021-01-13T20:32:55.559352Z"
    },
    "papermill": {
     "duration": 0.297487,
     "end_time": "2021-01-13T20:32:55.559831",
     "exception": false,
     "start_time": "2021-01-13T20:32:55.262344",
     "status": "completed"
    },
    "tags": []
   },
   "outputs": [],
   "source": [
    "from clustering.ensembles.utils import get_ensemble_distance_matrix"
   ]
  },
  {
   "cell_type": "code",
   "execution_count": 23,
   "metadata": {
    "execution": {
     "iopub.execute_input": "2021-01-13T20:32:55.593066Z",
     "iopub.status.busy": "2021-01-13T20:32:55.592643Z",
     "iopub.status.idle": "2021-01-13T20:47:38.309397Z",
     "shell.execute_reply": "2021-01-13T20:47:38.309780Z"
    },
    "papermill": {
     "duration": 882.734516,
     "end_time": "2021-01-13T20:47:38.309915",
     "exception": false,
     "start_time": "2021-01-13T20:32:55.575399",
     "status": "completed"
    },
    "tags": []
   },
   "outputs": [],
   "source": [
    "ensemble_coassoc_matrix = get_ensemble_distance_matrix(\n",
    "    full_ensemble,\n",
    "    n_jobs=conf.GENERAL[\"N_JOBS\"],\n",
    ")"
   ]
  },
  {
   "cell_type": "code",
   "execution_count": 24,
   "metadata": {
    "execution": {
     "iopub.execute_input": "2021-01-13T20:47:38.350746Z",
     "iopub.status.busy": "2021-01-13T20:47:38.350357Z",
     "iopub.status.idle": "2021-01-13T20:47:38.360676Z",
     "shell.execute_reply": "2021-01-13T20:47:38.360301Z"
    },
    "papermill": {
     "duration": 0.030697,
     "end_time": "2021-01-13T20:47:38.360773",
     "exception": false,
     "start_time": "2021-01-13T20:47:38.330076",
     "status": "completed"
    },
    "tags": []
   },
   "outputs": [
    {
     "data": {
      "text/plain": [
       "(3749, 3749)"
      ]
     },
     "execution_count": 24,
     "metadata": {},
     "output_type": "execute_result"
    }
   ],
   "source": [
    "ensemble_coassoc_matrix.shape"
   ]
  },
  {
   "cell_type": "code",
   "execution_count": 25,
   "metadata": {
    "execution": {
     "iopub.execute_input": "2021-01-13T20:47:38.396640Z",
     "iopub.status.busy": "2021-01-13T20:47:38.396274Z",
     "iopub.status.idle": "2021-01-13T20:47:38.406333Z",
     "shell.execute_reply": "2021-01-13T20:47:38.405956Z"
    },
    "papermill": {
     "duration": 0.028886,
     "end_time": "2021-01-13T20:47:38.406423",
     "exception": false,
     "start_time": "2021-01-13T20:47:38.377537",
     "status": "completed"
    },
    "tags": []
   },
   "outputs": [
    {
     "data": {
      "text/plain": [
       "array([[0.        , 0.05615942, 0.05389493, ..., 0.59986413, 0.66171429,\n",
       "        0.66757246],\n",
       "       [0.05615942, 0.        , 0.02740036, ..., 0.60122283, 0.65988571,\n",
       "        0.66530797],\n",
       "       [0.05389493, 0.02740036, 0.        , ..., 0.59782609, 0.66102857,\n",
       "        0.66281703],\n",
       "       ...,\n",
       "       [0.59986413, 0.60122283, 0.59782609, ..., 0.        , 0.6699339 ,\n",
       "        0.66531165],\n",
       "       [0.66171429, 0.65988571, 0.66102857, ..., 0.6699339 , 0.        ,\n",
       "        0.58650558],\n",
       "       [0.66757246, 0.66530797, 0.66281703, ..., 0.66531165, 0.58650558,\n",
       "        0.        ]])"
      ]
     },
     "execution_count": 25,
     "metadata": {},
     "output_type": "execute_result"
    }
   ],
   "source": [
    "ensemble_coassoc_matrix"
   ]
  },
  {
   "cell_type": "markdown",
   "metadata": {
    "papermill": {
     "duration": 0.016054,
     "end_time": "2021-01-13T20:47:38.439429",
     "exception": false,
     "start_time": "2021-01-13T20:47:38.423375",
     "status": "completed"
    },
    "tags": []
   },
   "source": [
    "## Save"
   ]
  },
  {
   "cell_type": "code",
   "execution_count": 26,
   "metadata": {
    "execution": {
     "iopub.execute_input": "2021-01-13T20:47:38.473681Z",
     "iopub.status.busy": "2021-01-13T20:47:38.473307Z",
     "iopub.status.idle": "2021-01-13T20:47:38.483460Z",
     "shell.execute_reply": "2021-01-13T20:47:38.483094Z"
    },
    "papermill": {
     "duration": 0.028213,
     "end_time": "2021-01-13T20:47:38.483544",
     "exception": false,
     "start_time": "2021-01-13T20:47:38.455331",
     "status": "completed"
    },
    "tags": []
   },
   "outputs": [
    {
     "data": {
      "text/plain": [
       "PosixPath('/home/miltondp/projects/labs/greenelab/phenoplier/base3/results/clustering/consensus_clustering/ensemble_coassoc_matrix.npy')"
      ]
     },
     "metadata": {},
     "output_type": "display_data"
    }
   ],
   "source": [
    "output_file = Path(RESULTS_DIR, \"ensemble_coassoc_matrix.npy\").resolve()\n",
    "display(output_file)"
   ]
  },
  {
   "cell_type": "code",
   "execution_count": 27,
   "metadata": {
    "execution": {
     "iopub.execute_input": "2021-01-13T20:47:38.518044Z",
     "iopub.status.busy": "2021-01-13T20:47:38.517675Z",
     "iopub.status.idle": "2021-01-13T20:47:38.590743Z",
     "shell.execute_reply": "2021-01-13T20:47:38.590312Z"
    },
    "papermill": {
     "duration": 0.091162,
     "end_time": "2021-01-13T20:47:38.590843",
     "exception": false,
     "start_time": "2021-01-13T20:47:38.499681",
     "status": "completed"
    },
    "tags": []
   },
   "outputs": [],
   "source": [
    "np.save(output_file, ensemble_coassoc_matrix)"
   ]
  },
  {
   "cell_type": "code",
   "execution_count": null,
   "metadata": {
    "papermill": {
     "duration": 0.016656,
     "end_time": "2021-01-13T20:47:38.625415",
     "exception": false,
     "start_time": "2021-01-13T20:47:38.608759",
     "status": "completed"
    },
    "tags": []
   },
   "outputs": [],
   "source": []
  }
 ],
 "metadata": {
  "jupytext": {
   "cell_metadata_filter": "all,-execution,-papermill",
   "formats": "ipynb,py//py:percent"
  },
  "kernelspec": {
   "display_name": "Python 3",
   "language": "python",
   "name": "python3"
  },
  "language_info": {
   "codemirror_mode": {
    "name": "ipython",
    "version": 3
   },
   "file_extension": ".py",
   "mimetype": "text/x-python",
   "name": "python",
   "nbconvert_exporter": "python",
   "pygments_lexer": "ipython3",
   "version": "3.8.6"
  },
  "papermill": {
   "default_parameters": {},
   "duration": 886.244917,
   "end_time": "2021-01-13T20:47:38.946967",
   "environment_variables": {},
   "exception": null,
   "input_path": "16_consensus_clustering/020_00-generate_ensemble.ipynb",
   "output_path": "16_consensus_clustering/020_00-generate_ensemble.run.ipynb",
   "parameters": {},
   "start_time": "2021-01-13T20:32:52.702050",
   "version": "2.2.2"
  },
  "toc-autonumbering": true,
  "toc-showcode": false,
  "toc-showmarkdowntxt": false,
  "toc-showtags": false
 },
 "nbformat": 4,
 "nbformat_minor": 4
}
