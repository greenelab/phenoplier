{
 "cells": [
  {
   "cell_type": "markdown",
   "metadata": {
    "papermill": {
     "duration": 0.047697,
     "end_time": "2021-02-23T18:52:34.252478",
     "exception": false,
     "start_time": "2021-02-23T18:52:34.204781",
     "status": "completed"
    },
    "tags": []
   },
   "source": [
    "# Description"
   ]
  },
  {
   "cell_type": "markdown",
   "metadata": {
    "papermill": {
     "duration": 0.012648,
     "end_time": "2021-02-23T18:52:34.281006",
     "exception": false,
     "start_time": "2021-02-23T18:52:34.268358",
     "status": "completed"
    },
    "tags": []
   },
   "source": [
    "It reads all the clustering partitions obtained with different algorithms, and generates the ensemble by putting it into a numpy array. Then it obtains the coassociation matrix from the ensemble (see more details below)."
   ]
  },
  {
   "cell_type": "markdown",
   "metadata": {
    "papermill": {
     "duration": 0.012565,
     "end_time": "2021-02-23T18:52:34.306285",
     "exception": false,
     "start_time": "2021-02-23T18:52:34.293720",
     "status": "completed"
    },
    "tags": []
   },
   "source": [
    "# Environment variables"
   ]
  },
  {
   "cell_type": "code",
   "execution_count": 1,
   "metadata": {
    "execution": {
     "iopub.execute_input": "2021-02-23T18:52:34.335119Z",
     "iopub.status.busy": "2021-02-23T18:52:34.334738Z",
     "iopub.status.idle": "2021-02-23T18:52:34.345421Z",
     "shell.execute_reply": "2021-02-23T18:52:34.344985Z"
    },
    "papermill": {
     "duration": 0.026586,
     "end_time": "2021-02-23T18:52:34.345545",
     "exception": false,
     "start_time": "2021-02-23T18:52:34.318959",
     "status": "completed"
    },
    "tags": []
   },
   "outputs": [
    {
     "data": {
      "text/plain": [
       "2"
      ]
     },
     "metadata": {},
     "output_type": "display_data"
    }
   ],
   "source": [
    "from IPython.display import display\n",
    "\n",
    "import conf\n",
    "\n",
    "N_JOBS = conf.GENERAL[\"N_JOBS\"]\n",
    "display(N_JOBS)"
   ]
  },
  {
   "cell_type": "code",
   "execution_count": 2,
   "metadata": {
    "execution": {
     "iopub.execute_input": "2021-02-23T18:52:34.376668Z",
     "iopub.status.busy": "2021-02-23T18:52:34.376260Z",
     "iopub.status.idle": "2021-02-23T18:52:34.378444Z",
     "shell.execute_reply": "2021-02-23T18:52:34.378717Z"
    },
    "papermill": {
     "duration": 0.019705,
     "end_time": "2021-02-23T18:52:34.378823",
     "exception": false,
     "start_time": "2021-02-23T18:52:34.359118",
     "status": "completed"
    },
    "tags": []
   },
   "outputs": [
    {
     "name": "stdout",
     "output_type": "stream",
     "text": [
      "env: MKL_NUM_THREADS=2\n",
      "env: OPEN_BLAS_NUM_THREADS=2\n",
      "env: NUMEXPR_NUM_THREADS=2\n",
      "env: OMP_NUM_THREADS=2\n"
     ]
    }
   ],
   "source": [
    "%env MKL_NUM_THREADS=$N_JOBS\n",
    "%env OPEN_BLAS_NUM_THREADS=$N_JOBS\n",
    "%env NUMEXPR_NUM_THREADS=$N_JOBS\n",
    "%env OMP_NUM_THREADS=$N_JOBS"
   ]
  },
  {
   "cell_type": "markdown",
   "metadata": {
    "papermill": {
     "duration": 0.013525,
     "end_time": "2021-02-23T18:52:34.405924",
     "exception": false,
     "start_time": "2021-02-23T18:52:34.392399",
     "status": "completed"
    },
    "tags": []
   },
   "source": [
    "# Modules loading"
   ]
  },
  {
   "cell_type": "code",
   "execution_count": 3,
   "metadata": {
    "execution": {
     "iopub.execute_input": "2021-02-23T18:52:34.435602Z",
     "iopub.status.busy": "2021-02-23T18:52:34.435238Z",
     "iopub.status.idle": "2021-02-23T18:52:34.443233Z",
     "shell.execute_reply": "2021-02-23T18:52:34.442896Z"
    },
    "papermill": {
     "duration": 0.024076,
     "end_time": "2021-02-23T18:52:34.443318",
     "exception": false,
     "start_time": "2021-02-23T18:52:34.419242",
     "status": "completed"
    },
    "tags": []
   },
   "outputs": [],
   "source": [
    "%load_ext autoreload\n",
    "%autoreload 2"
   ]
  },
  {
   "cell_type": "code",
   "execution_count": 4,
   "metadata": {
    "execution": {
     "iopub.execute_input": "2021-02-23T18:52:34.472542Z",
     "iopub.status.busy": "2021-02-23T18:52:34.472166Z",
     "iopub.status.idle": "2021-02-23T18:52:34.644000Z",
     "shell.execute_reply": "2021-02-23T18:52:34.643549Z"
    },
    "papermill": {
     "duration": 0.187123,
     "end_time": "2021-02-23T18:52:34.644088",
     "exception": false,
     "start_time": "2021-02-23T18:52:34.456965",
     "status": "completed"
    },
    "tags": []
   },
   "outputs": [],
   "source": [
    "from pathlib import Path\n",
    "\n",
    "import numpy as np\n",
    "import pandas as pd"
   ]
  },
  {
   "cell_type": "markdown",
   "metadata": {
    "papermill": {
     "duration": 0.012992,
     "end_time": "2021-02-23T18:52:34.670575",
     "exception": false,
     "start_time": "2021-02-23T18:52:34.657583",
     "status": "completed"
    },
    "tags": []
   },
   "source": [
    "# Settings"
   ]
  },
  {
   "cell_type": "code",
   "execution_count": 5,
   "metadata": {
    "execution": {
     "iopub.execute_input": "2021-02-23T18:52:34.699307Z",
     "iopub.status.busy": "2021-02-23T18:52:34.698931Z",
     "iopub.status.idle": "2021-02-23T18:52:34.706440Z",
     "shell.execute_reply": "2021-02-23T18:52:34.706076Z"
    },
    "papermill": {
     "duration": 0.02301,
     "end_time": "2021-02-23T18:52:34.706525",
     "exception": false,
     "start_time": "2021-02-23T18:52:34.683515",
     "status": "completed"
    },
    "tags": []
   },
   "outputs": [],
   "source": [
    "RANDOM_GENERATOR = np.random.default_rng(12345)"
   ]
  },
  {
   "cell_type": "markdown",
   "metadata": {
    "papermill": {
     "duration": 0.013117,
     "end_time": "2021-02-23T18:52:34.733103",
     "exception": false,
     "start_time": "2021-02-23T18:52:34.719986",
     "status": "completed"
    },
    "tags": []
   },
   "source": [
    "## Ensemble size"
   ]
  },
  {
   "cell_type": "markdown",
   "metadata": {
    "papermill": {
     "duration": 0.013059,
     "end_time": "2021-02-23T18:52:34.759490",
     "exception": false,
     "start_time": "2021-02-23T18:52:34.746431",
     "status": "completed"
    },
    "tags": []
   },
   "source": [
    "For some clustering algorithms it is easy to control the number of final partitions to generate: for instance, for k-means, you can generate partitions from k=2 to k=20 (19 partitions with different number of clusters). However, with algorithms such as DBSCAN this is not very easy to achieve, since for some parameter combinations (`eps` and `min_samples`) it generates partitions with one cluster (which is not an actual partition of the data) that are not included here.\n",
    "\n",
    "The parameters below specify the expected number of partitions for each clustering algorithm, and a range of allowed sizes. Then, the code below checks that each algorithm has the same representation in the ensemble. For example, if `EXPECTED_ENSEMBLE_SIZE=50`, `MIN_ENSEMBLE_SIZE=45` and `MAX_ENSEMBLE_SIZE=55`, the code below will check that k-means, spectral clustering, DBSCAN, etc, generated between 45 and 55 partitions. If not, it resamples the generated partitions to get 50 (the value specified by `EXPECTED_ENSEMBLE_SIZE`), so each algorithm has approximately the same representation in the full ensemble."
   ]
  },
  {
   "cell_type": "code",
   "execution_count": 6,
   "metadata": {
    "execution": {
     "iopub.execute_input": "2021-02-23T18:52:34.788556Z",
     "iopub.status.busy": "2021-02-23T18:52:34.788195Z",
     "iopub.status.idle": "2021-02-23T18:52:34.795683Z",
     "shell.execute_reply": "2021-02-23T18:52:34.795308Z"
    },
    "papermill": {
     "duration": 0.022987,
     "end_time": "2021-02-23T18:52:34.795770",
     "exception": false,
     "start_time": "2021-02-23T18:52:34.772783",
     "status": "completed"
    },
    "tags": []
   },
   "outputs": [],
   "source": [
    "EXPECTED_ENSEMBLE_SIZE = 295\n",
    "\n",
    "MIN_ENSEMBLE_SIZE = 290\n",
    "MAX_ENSEMBLE_SIZE = 300"
   ]
  },
  {
   "cell_type": "markdown",
   "metadata": {
    "papermill": {
     "duration": 0.012964,
     "end_time": "2021-02-23T18:52:34.822050",
     "exception": false,
     "start_time": "2021-02-23T18:52:34.809086",
     "status": "completed"
    },
    "tags": []
   },
   "source": [
    "## Consensus clustering"
   ]
  },
  {
   "cell_type": "code",
   "execution_count": 7,
   "metadata": {
    "execution": {
     "iopub.execute_input": "2021-02-23T18:52:34.851055Z",
     "iopub.status.busy": "2021-02-23T18:52:34.850684Z",
     "iopub.status.idle": "2021-02-23T18:52:34.858420Z",
     "shell.execute_reply": "2021-02-23T18:52:34.858700Z"
    },
    "papermill": {
     "duration": 0.023814,
     "end_time": "2021-02-23T18:52:34.858806",
     "exception": false,
     "start_time": "2021-02-23T18:52:34.834992",
     "status": "completed"
    },
    "tags": []
   },
   "outputs": [
    {
     "data": {
      "text/plain": [
       "PosixPath('/home/miltondp/projects/labs/greenelab/phenoplier/base3/results/clustering/consensus_clustering')"
      ]
     },
     "metadata": {},
     "output_type": "display_data"
    }
   ],
   "source": [
    "# output dir for this notebook\n",
    "RESULTS_DIR = Path(conf.RESULTS[\"CLUSTERING_DIR\"], \"consensus_clustering\").resolve()\n",
    "RESULTS_DIR.mkdir(parents=True, exist_ok=True)\n",
    "\n",
    "display(RESULTS_DIR)"
   ]
  },
  {
   "cell_type": "markdown",
   "metadata": {
    "papermill": {
     "duration": 0.013811,
     "end_time": "2021-02-23T18:52:34.886757",
     "exception": false,
     "start_time": "2021-02-23T18:52:34.872946",
     "status": "completed"
    },
    "tags": []
   },
   "source": [
    "# Get ensemble"
   ]
  },
  {
   "cell_type": "markdown",
   "metadata": {
    "papermill": {
     "duration": 0.013136,
     "end_time": "2021-02-23T18:52:34.913308",
     "exception": false,
     "start_time": "2021-02-23T18:52:34.900172",
     "status": "completed"
    },
    "tags": []
   },
   "source": [
    "## Load partition files"
   ]
  },
  {
   "cell_type": "code",
   "execution_count": 8,
   "metadata": {
    "execution": {
     "iopub.execute_input": "2021-02-23T18:52:34.942818Z",
     "iopub.status.busy": "2021-02-23T18:52:34.942459Z",
     "iopub.status.idle": "2021-02-23T18:52:34.950738Z",
     "shell.execute_reply": "2021-02-23T18:52:34.950377Z"
    },
    "papermill": {
     "duration": 0.024358,
     "end_time": "2021-02-23T18:52:34.950822",
     "exception": false,
     "start_time": "2021-02-23T18:52:34.926464",
     "status": "completed"
    },
    "tags": []
   },
   "outputs": [
    {
     "data": {
      "text/plain": [
       "PosixPath('/home/miltondp/projects/labs/greenelab/phenoplier/base3/results/clustering/runs')"
      ]
     },
     "metadata": {},
     "output_type": "display_data"
    }
   ],
   "source": [
    "input_dir = Path(\n",
    "    conf.RESULTS[\"CLUSTERING_RUNS_DIR\"],\n",
    ").resolve()\n",
    "display(input_dir)"
   ]
  },
  {
   "cell_type": "code",
   "execution_count": 9,
   "metadata": {
    "execution": {
     "iopub.execute_input": "2021-02-23T18:52:34.981296Z",
     "iopub.status.busy": "2021-02-23T18:52:34.980930Z",
     "iopub.status.idle": "2021-02-23T18:52:34.989269Z",
     "shell.execute_reply": "2021-02-23T18:52:34.988905Z"
    },
    "papermill": {
     "duration": 0.024446,
     "end_time": "2021-02-23T18:52:34.989355",
     "exception": false,
     "start_time": "2021-02-23T18:52:34.964909",
     "status": "completed"
    },
    "tags": []
   },
   "outputs": [],
   "source": [
    "included_pkl_files = []\n",
    "\n",
    "for pkl_file in input_dir.rglob(\"*.pkl\"):\n",
    "    pkl_file_str = str(pkl_file)\n",
    "\n",
    "    # skip stability pkl files\n",
    "    if \"-stability-\" in pkl_file_str:\n",
    "        continue\n",
    "\n",
    "    included_pkl_files.append(pkl_file)"
   ]
  },
  {
   "cell_type": "code",
   "execution_count": 10,
   "metadata": {
    "execution": {
     "iopub.execute_input": "2021-02-23T18:52:35.019278Z",
     "iopub.status.busy": "2021-02-23T18:52:35.018916Z",
     "iopub.status.idle": "2021-02-23T18:52:35.026898Z",
     "shell.execute_reply": "2021-02-23T18:52:35.026522Z"
    },
    "papermill": {
     "duration": 0.023965,
     "end_time": "2021-02-23T18:52:35.026986",
     "exception": false,
     "start_time": "2021-02-23T18:52:35.003021",
     "status": "completed"
    },
    "tags": []
   },
   "outputs": [
    {
     "data": {
      "text/plain": [
       "15"
      ]
     },
     "metadata": {},
     "output_type": "display_data"
    }
   ],
   "source": [
    "display(len(included_pkl_files))\n",
    "\n",
    "# 5 algorithms, 3 dataset versions\n",
    "assert len(included_pkl_files) == 5 * 3"
   ]
  },
  {
   "cell_type": "markdown",
   "metadata": {
    "papermill": {
     "duration": 0.013833,
     "end_time": "2021-02-23T18:52:35.055449",
     "exception": false,
     "start_time": "2021-02-23T18:52:35.041616",
     "status": "completed"
    },
    "tags": []
   },
   "source": [
    "## Combine partition files to get final ensemble"
   ]
  },
  {
   "cell_type": "code",
   "execution_count": 11,
   "metadata": {
    "execution": {
     "iopub.execute_input": "2021-02-23T18:52:35.085764Z",
     "iopub.status.busy": "2021-02-23T18:52:35.085380Z",
     "iopub.status.idle": "2021-02-23T18:52:35.092168Z",
     "shell.execute_reply": "2021-02-23T18:52:35.092469Z"
    },
    "papermill": {
     "duration": 0.023142,
     "end_time": "2021-02-23T18:52:35.092574",
     "exception": false,
     "start_time": "2021-02-23T18:52:35.069432",
     "status": "completed"
    },
    "tags": []
   },
   "outputs": [],
   "source": [
    "n_partitions = 0"
   ]
  },
  {
   "cell_type": "code",
   "execution_count": 12,
   "metadata": {
    "execution": {
     "iopub.execute_input": "2021-02-23T18:52:35.122885Z",
     "iopub.status.busy": "2021-02-23T18:52:35.122518Z",
     "iopub.status.idle": "2021-02-23T18:52:35.130016Z",
     "shell.execute_reply": "2021-02-23T18:52:35.129637Z"
    },
    "papermill": {
     "duration": 0.023333,
     "end_time": "2021-02-23T18:52:35.130104",
     "exception": false,
     "start_time": "2021-02-23T18:52:35.106771",
     "status": "completed"
    },
    "tags": []
   },
   "outputs": [],
   "source": [
    "ensembles_list = []"
   ]
  },
  {
   "cell_type": "code",
   "execution_count": 13,
   "metadata": {
    "execution": {
     "iopub.execute_input": "2021-02-23T18:52:35.163326Z",
     "iopub.status.busy": "2021-02-23T18:52:35.162953Z",
     "iopub.status.idle": "2021-02-23T18:52:35.303939Z",
     "shell.execute_reply": "2021-02-23T18:52:35.303554Z"
    },
    "papermill": {
     "duration": 0.159409,
     "end_time": "2021-02-23T18:52:35.304051",
     "exception": false,
     "start_time": "2021-02-23T18:52:35.144642",
     "status": "completed"
    },
    "tags": []
   },
   "outputs": [
    {
     "name": "stdout",
     "output_type": "stream",
     "text": [
      "More partitions than expected in umap-z_score_std-projection-smultixcan-efo_partial-mashr-zscores/DBSCAN.pkl\n",
      "Less partitions than expected in z_score_std-projection-smultixcan-efo_partial-mashr-zscores/DBSCAN.pkl\n",
      "Less partitions than expected in pca-z_score_std-projection-smultixcan-efo_partial-mashr-zscores/DBSCAN.pkl\n"
     ]
    }
   ],
   "source": [
    "for ens_file in included_pkl_files:\n",
    "    ens = pd.read_pickle(ens_file)\n",
    "\n",
    "    short_file_path = Path(*ens_file.parts[-2:])\n",
    "\n",
    "    if ens.shape[0] < MIN_ENSEMBLE_SIZE:\n",
    "        print(f\"Less partitions than expected in {short_file_path}\")\n",
    "\n",
    "        # if less partitions than expected, resample with replacement\n",
    "        ens = ens.sample(\n",
    "            n=EXPECTED_ENSEMBLE_SIZE,\n",
    "            replace=True,\n",
    "            random_state=RANDOM_GENERATOR.bit_generator,\n",
    "        )\n",
    "        assert ens.shape[0] == EXPECTED_ENSEMBLE_SIZE\n",
    "\n",
    "    elif ens.shape[0] > MAX_ENSEMBLE_SIZE:\n",
    "        print(f\"More partitions than expected in {short_file_path}\")\n",
    "\n",
    "        # if more partitions than expected, take a smaller sample\n",
    "        ens = ens.sample(\n",
    "            n=EXPECTED_ENSEMBLE_SIZE, random_state=RANDOM_GENERATOR.bit_generator\n",
    "        )\n",
    "        assert ens.shape[0] == EXPECTED_ENSEMBLE_SIZE\n",
    "\n",
    "    ens_full_format = np.concatenate(\n",
    "        ens[\"partition\"].apply(lambda x: x.reshape(1, -1)), axis=0\n",
    "    )\n",
    "\n",
    "    n_partitions += ens_full_format.shape[0]\n",
    "\n",
    "    ensembles_list.append(ens_full_format)"
   ]
  },
  {
   "cell_type": "code",
   "execution_count": 14,
   "metadata": {
    "execution": {
     "iopub.execute_input": "2021-02-23T18:52:35.340368Z",
     "iopub.status.busy": "2021-02-23T18:52:35.339996Z",
     "iopub.status.idle": "2021-02-23T18:52:35.348099Z",
     "shell.execute_reply": "2021-02-23T18:52:35.347714Z"
    },
    "papermill": {
     "duration": 0.026689,
     "end_time": "2021-02-23T18:52:35.348189",
     "exception": false,
     "start_time": "2021-02-23T18:52:35.321500",
     "status": "completed"
    },
    "tags": []
   },
   "outputs": [
    {
     "data": {
      "text/plain": [
       "15"
      ]
     },
     "metadata": {},
     "output_type": "display_data"
    }
   ],
   "source": [
    "display(len(ensembles_list))\n",
    "assert len(ensembles_list) == len(included_pkl_files)"
   ]
  },
  {
   "cell_type": "code",
   "execution_count": 15,
   "metadata": {
    "execution": {
     "iopub.execute_input": "2021-02-23T18:52:35.380598Z",
     "iopub.status.busy": "2021-02-23T18:52:35.380229Z",
     "iopub.status.idle": "2021-02-23T18:52:35.388551Z",
     "shell.execute_reply": "2021-02-23T18:52:35.388176Z"
    },
    "papermill": {
     "duration": 0.025187,
     "end_time": "2021-02-23T18:52:35.388638",
     "exception": false,
     "start_time": "2021-02-23T18:52:35.363451",
     "status": "completed"
    },
    "tags": []
   },
   "outputs": [
    {
     "data": {
      "text/plain": [
       "3749"
      ]
     },
     "metadata": {},
     "output_type": "display_data"
    }
   ],
   "source": [
    "n_data_objects = ensembles_list[0].shape[1]\n",
    "display(n_data_objects)"
   ]
  },
  {
   "cell_type": "code",
   "execution_count": 16,
   "metadata": {
    "execution": {
     "iopub.execute_input": "2021-02-23T18:52:35.420741Z",
     "iopub.status.busy": "2021-02-23T18:52:35.420333Z",
     "iopub.status.idle": "2021-02-23T18:52:35.428360Z",
     "shell.execute_reply": "2021-02-23T18:52:35.427988Z"
    },
    "papermill": {
     "duration": 0.024913,
     "end_time": "2021-02-23T18:52:35.428449",
     "exception": false,
     "start_time": "2021-02-23T18:52:35.403536",
     "status": "completed"
    },
    "tags": []
   },
   "outputs": [
    {
     "data": {
      "text/plain": [
       "4428"
      ]
     },
     "metadata": {},
     "output_type": "display_data"
    }
   ],
   "source": [
    "display(n_partitions)"
   ]
  },
  {
   "cell_type": "code",
   "execution_count": 17,
   "metadata": {
    "execution": {
     "iopub.execute_input": "2021-02-23T18:52:35.461615Z",
     "iopub.status.busy": "2021-02-23T18:52:35.461246Z",
     "iopub.status.idle": "2021-02-23T18:52:35.672984Z",
     "shell.execute_reply": "2021-02-23T18:52:35.672552Z"
    },
    "papermill": {
     "duration": 0.228997,
     "end_time": "2021-02-23T18:52:35.673083",
     "exception": false,
     "start_time": "2021-02-23T18:52:35.444086",
     "status": "completed"
    },
    "tags": []
   },
   "outputs": [],
   "source": [
    "full_ensemble = ensembles_list[0]\n",
    "for ens in ensembles_list[1:]:\n",
    "    full_ensemble = np.concatenate((full_ensemble, ens), axis=0)"
   ]
  },
  {
   "cell_type": "code",
   "execution_count": 18,
   "metadata": {
    "execution": {
     "iopub.execute_input": "2021-02-23T18:52:35.707388Z",
     "iopub.status.busy": "2021-02-23T18:52:35.707010Z",
     "iopub.status.idle": "2021-02-23T18:52:35.715126Z",
     "shell.execute_reply": "2021-02-23T18:52:35.714763Z"
    },
    "papermill": {
     "duration": 0.025771,
     "end_time": "2021-02-23T18:52:35.715213",
     "exception": false,
     "start_time": "2021-02-23T18:52:35.689442",
     "status": "completed"
    },
    "tags": []
   },
   "outputs": [
    {
     "data": {
      "text/plain": [
       "(4428, 3749)"
      ]
     },
     "metadata": {},
     "output_type": "display_data"
    }
   ],
   "source": [
    "display(full_ensemble.shape)\n",
    "assert full_ensemble.shape == (n_partitions, n_data_objects)"
   ]
  },
  {
   "cell_type": "markdown",
   "metadata": {
    "papermill": {
     "duration": 0.015041,
     "end_time": "2021-02-23T18:52:35.745942",
     "exception": false,
     "start_time": "2021-02-23T18:52:35.730901",
     "status": "completed"
    },
    "tags": []
   },
   "source": [
    "## Save"
   ]
  },
  {
   "cell_type": "code",
   "execution_count": 19,
   "metadata": {
    "execution": {
     "iopub.execute_input": "2021-02-23T18:52:35.778863Z",
     "iopub.status.busy": "2021-02-23T18:52:35.778504Z",
     "iopub.status.idle": "2021-02-23T18:52:35.786830Z",
     "shell.execute_reply": "2021-02-23T18:52:35.786456Z"
    },
    "papermill": {
     "duration": 0.025596,
     "end_time": "2021-02-23T18:52:35.786917",
     "exception": false,
     "start_time": "2021-02-23T18:52:35.761321",
     "status": "completed"
    },
    "tags": []
   },
   "outputs": [
    {
     "data": {
      "text/plain": [
       "PosixPath('/home/miltondp/projects/labs/greenelab/phenoplier/base3/results/clustering/consensus_clustering/ensemble.npy')"
      ]
     },
     "metadata": {},
     "output_type": "display_data"
    }
   ],
   "source": [
    "output_file = Path(RESULTS_DIR, \"ensemble.npy\").resolve()\n",
    "display(output_file)"
   ]
  },
  {
   "cell_type": "code",
   "execution_count": 20,
   "metadata": {
    "execution": {
     "iopub.execute_input": "2021-02-23T18:52:35.821391Z",
     "iopub.status.busy": "2021-02-23T18:52:35.821033Z",
     "iopub.status.idle": "2021-02-23T18:52:35.829264Z",
     "shell.execute_reply": "2021-02-23T18:52:35.828887Z"
    },
    "papermill": {
     "duration": 0.026332,
     "end_time": "2021-02-23T18:52:35.829352",
     "exception": false,
     "start_time": "2021-02-23T18:52:35.803020",
     "status": "completed"
    },
    "tags": []
   },
   "outputs": [
    {
     "data": {
      "text/plain": [
       "array([[0., 0., 0., ..., 0., 0., 0.],\n",
       "       [0., 0., 0., ..., 0., 0., 0.],\n",
       "       [0., 0., 0., ..., 0., 0., 0.],\n",
       "       ...,\n",
       "       [0., 0., 0., ..., 0., 0., 0.],\n",
       "       [0., 0., 0., ..., 0., 0., 0.],\n",
       "       [0., 0., 0., ..., 0., 0., 0.]])"
      ]
     },
     "execution_count": 20,
     "metadata": {},
     "output_type": "execute_result"
    }
   ],
   "source": [
    "full_ensemble"
   ]
  },
  {
   "cell_type": "code",
   "execution_count": 21,
   "metadata": {
    "execution": {
     "iopub.execute_input": "2021-02-23T18:52:35.863158Z",
     "iopub.status.busy": "2021-02-23T18:52:35.862802Z",
     "iopub.status.idle": "2021-02-23T18:52:35.948382Z",
     "shell.execute_reply": "2021-02-23T18:52:35.948712Z"
    },
    "papermill": {
     "duration": 0.103462,
     "end_time": "2021-02-23T18:52:35.948837",
     "exception": false,
     "start_time": "2021-02-23T18:52:35.845375",
     "status": "completed"
    },
    "tags": []
   },
   "outputs": [],
   "source": [
    "np.save(output_file, full_ensemble)"
   ]
  },
  {
   "cell_type": "markdown",
   "metadata": {
    "papermill": {
     "duration": 0.01599,
     "end_time": "2021-02-23T18:52:35.981961",
     "exception": false,
     "start_time": "2021-02-23T18:52:35.965971",
     "status": "completed"
    },
    "tags": []
   },
   "source": [
    "# Get coassociation matrix from ensemble"
   ]
  },
  {
   "cell_type": "markdown",
   "metadata": {
    "papermill": {
     "duration": 0.015114,
     "end_time": "2021-02-23T18:52:36.012670",
     "exception": false,
     "start_time": "2021-02-23T18:52:35.997556",
     "status": "completed"
    },
    "tags": []
   },
   "source": [
    "The coassociation matrix is a distance matrix derived from the ensemble, where each cell represents the percentage of times a pair of objects (traits and diseases in this case) were not clustered together. It serves as an input for any consensus function (basically, another clustering algorithm) to derive a consensus partition."
   ]
  },
  {
   "cell_type": "code",
   "execution_count": 22,
   "metadata": {
    "execution": {
     "iopub.execute_input": "2021-02-23T18:52:36.045307Z",
     "iopub.status.busy": "2021-02-23T18:52:36.044947Z",
     "iopub.status.idle": "2021-02-23T18:52:36.326043Z",
     "shell.execute_reply": "2021-02-23T18:52:36.325655Z"
    },
    "papermill": {
     "duration": 0.298545,
     "end_time": "2021-02-23T18:52:36.326134",
     "exception": false,
     "start_time": "2021-02-23T18:52:36.027589",
     "status": "completed"
    },
    "tags": []
   },
   "outputs": [],
   "source": [
    "from clustering.ensembles.utils import get_ensemble_distance_matrix"
   ]
  },
  {
   "cell_type": "code",
   "execution_count": 23,
   "metadata": {
    "execution": {
     "iopub.execute_input": "2021-02-23T18:52:36.359662Z",
     "iopub.status.busy": "2021-02-23T18:52:36.359288Z",
     "iopub.status.idle": "2021-02-23T19:09:52.639807Z",
     "shell.execute_reply": "2021-02-23T19:09:52.639302Z"
    },
    "papermill": {
     "duration": 1036.298005,
     "end_time": "2021-02-23T19:09:52.639921",
     "exception": false,
     "start_time": "2021-02-23T18:52:36.341916",
     "status": "completed"
    },
    "tags": []
   },
   "outputs": [],
   "source": [
    "ensemble_coassoc_matrix = get_ensemble_distance_matrix(\n",
    "    full_ensemble,\n",
    "    n_jobs=conf.GENERAL[\"N_JOBS\"],\n",
    ")"
   ]
  },
  {
   "cell_type": "code",
   "execution_count": 24,
   "metadata": {
    "execution": {
     "iopub.execute_input": "2021-02-23T19:09:53.577049Z",
     "iopub.status.busy": "2021-02-23T19:09:53.575492Z",
     "iopub.status.idle": "2021-02-23T19:09:53.588944Z",
     "shell.execute_reply": "2021-02-23T19:09:53.588526Z"
    },
    "papermill": {
     "duration": 0.928551,
     "end_time": "2021-02-23T19:09:53.589039",
     "exception": false,
     "start_time": "2021-02-23T19:09:52.660488",
     "status": "completed"
    },
    "tags": []
   },
   "outputs": [
    {
     "data": {
      "text/plain": [
       "(3749, 3749)"
      ]
     },
     "execution_count": 24,
     "metadata": {},
     "output_type": "execute_result"
    }
   ],
   "source": [
    "ensemble_coassoc_matrix.shape"
   ]
  },
  {
   "cell_type": "code",
   "execution_count": 25,
   "metadata": {
    "execution": {
     "iopub.execute_input": "2021-02-23T19:09:53.625152Z",
     "iopub.status.busy": "2021-02-23T19:09:53.624781Z",
     "iopub.status.idle": "2021-02-23T19:09:53.640007Z",
     "shell.execute_reply": "2021-02-23T19:09:53.639637Z"
    },
    "papermill": {
     "duration": 0.033298,
     "end_time": "2021-02-23T19:09:53.640115",
     "exception": false,
     "start_time": "2021-02-23T19:09:53.606817",
     "status": "completed"
    },
    "tags": []
   },
   "outputs": [
    {
     "data": {
      "text/plain": [
       "array([[0.        , 0.05638587, 0.05412138, ..., 0.59986413, 0.66148571,\n",
       "        0.66757246],\n",
       "       [0.05638587, 0.        , 0.02740036, ..., 0.60144928, 0.66011429,\n",
       "        0.66530797],\n",
       "       [0.05412138, 0.02740036, 0.        , ..., 0.59805254, 0.66125714,\n",
       "        0.66281703],\n",
       "       ...,\n",
       "       [0.59986413, 0.60144928, 0.59805254, ..., 0.        , 0.6699339 ,\n",
       "        0.66531165],\n",
       "       [0.66148571, 0.66011429, 0.66125714, ..., 0.6699339 , 0.        ,\n",
       "        0.58627764],\n",
       "       [0.66757246, 0.66530797, 0.66281703, ..., 0.66531165, 0.58627764,\n",
       "        0.        ]])"
      ]
     },
     "execution_count": 25,
     "metadata": {},
     "output_type": "execute_result"
    }
   ],
   "source": [
    "ensemble_coassoc_matrix"
   ]
  },
  {
   "cell_type": "markdown",
   "metadata": {
    "papermill": {
     "duration": 0.016623,
     "end_time": "2021-02-23T19:09:53.675184",
     "exception": false,
     "start_time": "2021-02-23T19:09:53.658561",
     "status": "completed"
    },
    "tags": []
   },
   "source": [
    "## Save"
   ]
  },
  {
   "cell_type": "code",
   "execution_count": 26,
   "metadata": {
    "execution": {
     "iopub.execute_input": "2021-02-23T19:09:53.709705Z",
     "iopub.status.busy": "2021-02-23T19:09:53.709329Z",
     "iopub.status.idle": "2021-02-23T19:09:53.719575Z",
     "shell.execute_reply": "2021-02-23T19:09:53.719229Z"
    },
    "papermill": {
     "duration": 0.028212,
     "end_time": "2021-02-23T19:09:53.719663",
     "exception": false,
     "start_time": "2021-02-23T19:09:53.691451",
     "status": "completed"
    },
    "tags": []
   },
   "outputs": [
    {
     "data": {
      "text/plain": [
       "PosixPath('/home/miltondp/projects/labs/greenelab/phenoplier/base3/results/clustering/consensus_clustering/ensemble_coassoc_matrix.npy')"
      ]
     },
     "metadata": {},
     "output_type": "display_data"
    }
   ],
   "source": [
    "output_file = Path(RESULTS_DIR, \"ensemble_coassoc_matrix.npy\").resolve()\n",
    "display(output_file)"
   ]
  },
  {
   "cell_type": "code",
   "execution_count": 27,
   "metadata": {
    "execution": {
     "iopub.execute_input": "2021-02-23T19:09:53.754484Z",
     "iopub.status.busy": "2021-02-23T19:09:53.754126Z",
     "iopub.status.idle": "2021-02-23T19:09:53.830125Z",
     "shell.execute_reply": "2021-02-23T19:09:53.829740Z"
    },
    "papermill": {
     "duration": 0.094208,
     "end_time": "2021-02-23T19:09:53.830229",
     "exception": false,
     "start_time": "2021-02-23T19:09:53.736021",
     "status": "completed"
    },
    "tags": []
   },
   "outputs": [],
   "source": [
    "np.save(output_file, ensemble_coassoc_matrix)"
   ]
  },
  {
   "cell_type": "code",
   "execution_count": null,
   "metadata": {
    "papermill": {
     "duration": 0.016949,
     "end_time": "2021-02-23T19:09:53.865449",
     "exception": false,
     "start_time": "2021-02-23T19:09:53.848500",
     "status": "completed"
    },
    "tags": []
   },
   "outputs": [],
   "source": []
  }
 ],
 "metadata": {
  "jupytext": {
   "cell_metadata_filter": "all,-execution,-papermill",
   "formats": "ipynb,py//py:percent"
  },
  "kernelspec": {
   "display_name": "Python 3",
   "language": "python",
   "name": "python3"
  },
  "language_info": {
   "codemirror_mode": {
    "name": "ipython",
    "version": 3
   },
   "file_extension": ".py",
   "mimetype": "text/x-python",
   "name": "python",
   "nbconvert_exporter": "python",
   "pygments_lexer": "ipython3",
   "version": "3.8.6"
  },
  "papermill": {
   "default_parameters": {},
   "duration": 1040.767156,
   "end_time": "2021-02-23T19:09:54.188071",
   "environment_variables": {},
   "exception": null,
   "input_path": "16_consensus_clustering/020_00-generate_ensemble.ipynb",
   "output_path": "16_consensus_clustering/020_00-generate_ensemble.run.ipynb",
   "parameters": {},
   "start_time": "2021-02-23T18:52:33.420915",
   "version": "2.2.2"
  },
  "toc-autonumbering": true,
  "toc-showcode": false,
  "toc-showmarkdowntxt": false,
  "toc-showtags": false
 },
 "nbformat": 4,
 "nbformat_minor": 4
}
