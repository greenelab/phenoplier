{
 "cells": [
  {
   "cell_type": "markdown",
   "metadata": {
    "papermill": {
     "duration": 0.017737,
     "end_time": "2021-01-13T01:24:06.189972",
     "exception": false,
     "start_time": "2021-01-13T01:24:06.172235",
     "status": "completed"
    },
    "tags": []
   },
   "source": [
    "# Description"
   ]
  },
  {
   "cell_type": "markdown",
   "metadata": {
    "papermill": {
     "duration": 0.01266,
     "end_time": "2021-01-13T01:24:06.215382",
     "exception": false,
     "start_time": "2021-01-13T01:24:06.202722",
     "status": "completed"
    },
    "tags": []
   },
   "source": [
    "It reads all the clustering partitions obtained with different algorithms, and generates the ensemble by putting it into a numpy array. Then it obtains the coassociation matrix from the ensemble (see more details below)."
   ]
  },
  {
   "cell_type": "markdown",
   "metadata": {
    "papermill": {
     "duration": 0.012449,
     "end_time": "2021-01-13T01:24:06.240334",
     "exception": false,
     "start_time": "2021-01-13T01:24:06.227885",
     "status": "completed"
    },
    "tags": []
   },
   "source": [
    "# Environment variables"
   ]
  },
  {
   "cell_type": "code",
   "execution_count": 1,
   "metadata": {
    "execution": {
     "iopub.execute_input": "2021-01-13T01:24:06.269314Z",
     "iopub.status.busy": "2021-01-13T01:24:06.268887Z",
     "iopub.status.idle": "2021-01-13T01:24:06.279897Z",
     "shell.execute_reply": "2021-01-13T01:24:06.279469Z"
    },
    "papermill": {
     "duration": 0.027021,
     "end_time": "2021-01-13T01:24:06.280022",
     "exception": false,
     "start_time": "2021-01-13T01:24:06.253001",
     "status": "completed"
    },
    "tags": []
   },
   "outputs": [
    {
     "data": {
      "text/plain": [
       "3"
      ]
     },
     "metadata": {},
     "output_type": "display_data"
    }
   ],
   "source": [
    "from IPython.display import display\n",
    "\n",
    "import conf\n",
    "\n",
    "N_JOBS = conf.GENERAL[\"N_JOBS\"]\n",
    "display(N_JOBS)"
   ]
  },
  {
   "cell_type": "code",
   "execution_count": 2,
   "metadata": {
    "execution": {
     "iopub.execute_input": "2021-01-13T01:24:06.311689Z",
     "iopub.status.busy": "2021-01-13T01:24:06.311293Z",
     "iopub.status.idle": "2021-01-13T01:24:06.313758Z",
     "shell.execute_reply": "2021-01-13T01:24:06.313409Z"
    },
    "papermill": {
     "duration": 0.020092,
     "end_time": "2021-01-13T01:24:06.313845",
     "exception": false,
     "start_time": "2021-01-13T01:24:06.293753",
     "status": "completed"
    },
    "tags": []
   },
   "outputs": [
    {
     "name": "stdout",
     "output_type": "stream",
     "text": [
      "env: MKL_NUM_THREADS=3\n",
      "env: OPEN_BLAS_NUM_THREADS=3\n",
      "env: NUMEXPR_NUM_THREADS=3\n",
      "env: OMP_NUM_THREADS=3\n"
     ]
    }
   ],
   "source": [
    "%env MKL_NUM_THREADS=$N_JOBS\n",
    "%env OPEN_BLAS_NUM_THREADS=$N_JOBS\n",
    "%env NUMEXPR_NUM_THREADS=$N_JOBS\n",
    "%env OMP_NUM_THREADS=$N_JOBS"
   ]
  },
  {
   "cell_type": "markdown",
   "metadata": {
    "papermill": {
     "duration": 0.013258,
     "end_time": "2021-01-13T01:24:06.340613",
     "exception": false,
     "start_time": "2021-01-13T01:24:06.327355",
     "status": "completed"
    },
    "tags": []
   },
   "source": [
    "# Modules loading"
   ]
  },
  {
   "cell_type": "code",
   "execution_count": 3,
   "metadata": {
    "execution": {
     "iopub.execute_input": "2021-01-13T01:24:06.370166Z",
     "iopub.status.busy": "2021-01-13T01:24:06.369784Z",
     "iopub.status.idle": "2021-01-13T01:24:06.377631Z",
     "shell.execute_reply": "2021-01-13T01:24:06.377250Z"
    },
    "papermill": {
     "duration": 0.023791,
     "end_time": "2021-01-13T01:24:06.377718",
     "exception": false,
     "start_time": "2021-01-13T01:24:06.353927",
     "status": "completed"
    },
    "tags": []
   },
   "outputs": [],
   "source": [
    "%load_ext autoreload\n",
    "%autoreload 2"
   ]
  },
  {
   "cell_type": "code",
   "execution_count": 4,
   "metadata": {
    "execution": {
     "iopub.execute_input": "2021-01-13T01:24:06.407385Z",
     "iopub.status.busy": "2021-01-13T01:24:06.407009Z",
     "iopub.status.idle": "2021-01-13T01:24:06.580787Z",
     "shell.execute_reply": "2021-01-13T01:24:06.581100Z"
    },
    "papermill": {
     "duration": 0.189755,
     "end_time": "2021-01-13T01:24:06.581220",
     "exception": false,
     "start_time": "2021-01-13T01:24:06.391465",
     "status": "completed"
    },
    "tags": []
   },
   "outputs": [],
   "source": [
    "from pathlib import Path\n",
    "\n",
    "import numpy as np\n",
    "import pandas as pd"
   ]
  },
  {
   "cell_type": "markdown",
   "metadata": {
    "papermill": {
     "duration": 0.013715,
     "end_time": "2021-01-13T01:24:06.609624",
     "exception": false,
     "start_time": "2021-01-13T01:24:06.595909",
     "status": "completed"
    },
    "tags": []
   },
   "source": [
    "# Settings"
   ]
  },
  {
   "cell_type": "code",
   "execution_count": 5,
   "metadata": {
    "execution": {
     "iopub.execute_input": "2021-01-13T01:24:06.638357Z",
     "iopub.status.busy": "2021-01-13T01:24:06.637987Z",
     "iopub.status.idle": "2021-01-13T01:24:06.645463Z",
     "shell.execute_reply": "2021-01-13T01:24:06.645080Z"
    },
    "papermill": {
     "duration": 0.022817,
     "end_time": "2021-01-13T01:24:06.645553",
     "exception": false,
     "start_time": "2021-01-13T01:24:06.622736",
     "status": "completed"
    },
    "tags": []
   },
   "outputs": [],
   "source": [
    "RANDOM_GENERATOR = np.random.default_rng(12345)"
   ]
  },
  {
   "cell_type": "markdown",
   "metadata": {
    "papermill": {
     "duration": 0.013296,
     "end_time": "2021-01-13T01:24:06.672555",
     "exception": false,
     "start_time": "2021-01-13T01:24:06.659259",
     "status": "completed"
    },
    "tags": []
   },
   "source": [
    "## Ensemble size"
   ]
  },
  {
   "cell_type": "markdown",
   "metadata": {
    "papermill": {
     "duration": 0.012805,
     "end_time": "2021-01-13T01:24:06.698250",
     "exception": false,
     "start_time": "2021-01-13T01:24:06.685445",
     "status": "completed"
    },
    "tags": []
   },
   "source": [
    "For some clustering algorithms it is easy to control the number of final partitions to generate: for instance, for k-means, you can generate partitions from k=2 to k=20 (19 partitions with different number of clusters). However, with algorithms such as DBSCAN this is not very easy to achieve, since for some parameter combinations (`eps` and `min_samples`) it generates partitions with one cluster (which is not an actual partition of the data) that are not included here.\n",
    "\n",
    "The parameters below specify the expected number of partitions for each clustering algorithm, and a range of allowed sizes. Then, the code below checks that each algorithm has the same representation in the ensemble. For example, if `EXPECTED_ENSEMBLE_SIZE=50`, `MIN_ENSEMBLE_SIZE=45` and `MAX_ENSEMBLE_SIZE=55`, the code below will check that k-means, spectral clustering, DBSCAN, etc, generated between 45 and 55 partitions. If not, it resamples the generated partitions to get 50 (the value specified by `EXPECTED_ENSEMBLE_SIZE`), so each algorithm has approximately the same representation in the full ensemble."
   ]
  },
  {
   "cell_type": "code",
   "execution_count": 6,
   "metadata": {
    "execution": {
     "iopub.execute_input": "2021-01-13T01:24:06.726837Z",
     "iopub.status.busy": "2021-01-13T01:24:06.726469Z",
     "iopub.status.idle": "2021-01-13T01:24:06.733976Z",
     "shell.execute_reply": "2021-01-13T01:24:06.733605Z"
    },
    "papermill": {
     "duration": 0.022808,
     "end_time": "2021-01-13T01:24:06.734063",
     "exception": false,
     "start_time": "2021-01-13T01:24:06.711255",
     "status": "completed"
    },
    "tags": []
   },
   "outputs": [],
   "source": [
    "EXPECTED_ENSEMBLE_SIZE = 295\n",
    "\n",
    "MIN_ENSEMBLE_SIZE = 290\n",
    "MAX_ENSEMBLE_SIZE = 300"
   ]
  },
  {
   "cell_type": "markdown",
   "metadata": {
    "papermill": {
     "duration": 0.013055,
     "end_time": "2021-01-13T01:24:06.760422",
     "exception": false,
     "start_time": "2021-01-13T01:24:06.747367",
     "status": "completed"
    },
    "tags": []
   },
   "source": [
    "## Consensus clustering"
   ]
  },
  {
   "cell_type": "code",
   "execution_count": 7,
   "metadata": {
    "execution": {
     "iopub.execute_input": "2021-01-13T01:24:06.788909Z",
     "iopub.status.busy": "2021-01-13T01:24:06.788484Z",
     "iopub.status.idle": "2021-01-13T01:24:06.797156Z",
     "shell.execute_reply": "2021-01-13T01:24:06.796770Z"
    },
    "papermill": {
     "duration": 0.023809,
     "end_time": "2021-01-13T01:24:06.797244",
     "exception": false,
     "start_time": "2021-01-13T01:24:06.773435",
     "status": "completed"
    },
    "tags": []
   },
   "outputs": [
    {
     "data": {
      "text/plain": [
       "PosixPath('/home/miltondp/projects/labs/greenelab/phenoplier/base3/results/clustering/consensus_clustering')"
      ]
     },
     "metadata": {},
     "output_type": "display_data"
    }
   ],
   "source": [
    "# output dir for this notebook\n",
    "RESULTS_DIR = Path(conf.RESULTS[\"CLUSTERING_DIR\"], \"consensus_clustering\").resolve()\n",
    "RESULTS_DIR.mkdir(parents=True, exist_ok=True)\n",
    "\n",
    "display(RESULTS_DIR)"
   ]
  },
  {
   "cell_type": "markdown",
   "metadata": {
    "papermill": {
     "duration": 0.012983,
     "end_time": "2021-01-13T01:24:06.823546",
     "exception": false,
     "start_time": "2021-01-13T01:24:06.810563",
     "status": "completed"
    },
    "tags": []
   },
   "source": [
    "# Get ensemble"
   ]
  },
  {
   "cell_type": "markdown",
   "metadata": {
    "papermill": {
     "duration": 0.013159,
     "end_time": "2021-01-13T01:24:06.849585",
     "exception": false,
     "start_time": "2021-01-13T01:24:06.836426",
     "status": "completed"
    },
    "tags": []
   },
   "source": [
    "## Load partition files"
   ]
  },
  {
   "cell_type": "code",
   "execution_count": 8,
   "metadata": {
    "execution": {
     "iopub.execute_input": "2021-01-13T01:24:06.878280Z",
     "iopub.status.busy": "2021-01-13T01:24:06.877903Z",
     "iopub.status.idle": "2021-01-13T01:24:06.886502Z",
     "shell.execute_reply": "2021-01-13T01:24:06.886129Z"
    },
    "papermill": {
     "duration": 0.0238,
     "end_time": "2021-01-13T01:24:06.886590",
     "exception": false,
     "start_time": "2021-01-13T01:24:06.862790",
     "status": "completed"
    },
    "tags": []
   },
   "outputs": [
    {
     "data": {
      "text/plain": [
       "PosixPath('/home/miltondp/projects/labs/greenelab/phenoplier/base3/results/clustering/runs')"
      ]
     },
     "metadata": {},
     "output_type": "display_data"
    }
   ],
   "source": [
    "input_dir = Path(\n",
    "    conf.RESULTS[\"CLUSTERING_RUNS_DIR\"],\n",
    ").resolve()\n",
    "display(input_dir)"
   ]
  },
  {
   "cell_type": "code",
   "execution_count": 9,
   "metadata": {
    "execution": {
     "iopub.execute_input": "2021-01-13T01:24:06.917439Z",
     "iopub.status.busy": "2021-01-13T01:24:06.917051Z",
     "iopub.status.idle": "2021-01-13T01:24:06.924543Z",
     "shell.execute_reply": "2021-01-13T01:24:06.924883Z"
    },
    "papermill": {
     "duration": 0.02448,
     "end_time": "2021-01-13T01:24:06.924992",
     "exception": false,
     "start_time": "2021-01-13T01:24:06.900512",
     "status": "completed"
    },
    "tags": []
   },
   "outputs": [],
   "source": [
    "included_pkl_files = []\n",
    "\n",
    "for pkl_file in input_dir.rglob(\"*.pkl\"):\n",
    "    pkl_file_str = str(pkl_file)\n",
    "\n",
    "    # skip stability pkl files\n",
    "    if \"-stability-\" in pkl_file_str:\n",
    "        continue\n",
    "\n",
    "    included_pkl_files.append(pkl_file)"
   ]
  },
  {
   "cell_type": "code",
   "execution_count": 10,
   "metadata": {
    "execution": {
     "iopub.execute_input": "2021-01-13T01:24:06.955352Z",
     "iopub.status.busy": "2021-01-13T01:24:06.954978Z",
     "iopub.status.idle": "2021-01-13T01:24:06.962690Z",
     "shell.execute_reply": "2021-01-13T01:24:06.962365Z"
    },
    "papermill": {
     "duration": 0.023809,
     "end_time": "2021-01-13T01:24:06.962779",
     "exception": false,
     "start_time": "2021-01-13T01:24:06.938970",
     "status": "completed"
    },
    "tags": []
   },
   "outputs": [
    {
     "data": {
      "text/plain": [
       "15"
      ]
     },
     "metadata": {},
     "output_type": "display_data"
    }
   ],
   "source": [
    "display(len(included_pkl_files))\n",
    "\n",
    "# 5 algorithms, 3 dataset versions\n",
    "assert len(included_pkl_files) == 5 * 3"
   ]
  },
  {
   "cell_type": "markdown",
   "metadata": {
    "papermill": {
     "duration": 0.0141,
     "end_time": "2021-01-13T01:24:06.991155",
     "exception": false,
     "start_time": "2021-01-13T01:24:06.977055",
     "status": "completed"
    },
    "tags": []
   },
   "source": [
    "## Combine partition files to get final ensemble"
   ]
  },
  {
   "cell_type": "code",
   "execution_count": 11,
   "metadata": {
    "execution": {
     "iopub.execute_input": "2021-01-13T01:24:07.020958Z",
     "iopub.status.busy": "2021-01-13T01:24:07.020534Z",
     "iopub.status.idle": "2021-01-13T01:24:07.027957Z",
     "shell.execute_reply": "2021-01-13T01:24:07.027577Z"
    },
    "papermill": {
     "duration": 0.023206,
     "end_time": "2021-01-13T01:24:07.028043",
     "exception": false,
     "start_time": "2021-01-13T01:24:07.004837",
     "status": "completed"
    },
    "tags": []
   },
   "outputs": [],
   "source": [
    "n_partitions = 0"
   ]
  },
  {
   "cell_type": "code",
   "execution_count": 12,
   "metadata": {
    "execution": {
     "iopub.execute_input": "2021-01-13T01:24:07.058289Z",
     "iopub.status.busy": "2021-01-13T01:24:07.057918Z",
     "iopub.status.idle": "2021-01-13T01:24:07.064330Z",
     "shell.execute_reply": "2021-01-13T01:24:07.064611Z"
    },
    "papermill": {
     "duration": 0.022574,
     "end_time": "2021-01-13T01:24:07.064756",
     "exception": false,
     "start_time": "2021-01-13T01:24:07.042182",
     "status": "completed"
    },
    "tags": []
   },
   "outputs": [],
   "source": [
    "ensembles_list = []"
   ]
  },
  {
   "cell_type": "code",
   "execution_count": 13,
   "metadata": {
    "execution": {
     "iopub.execute_input": "2021-01-13T01:24:07.097394Z",
     "iopub.status.busy": "2021-01-13T01:24:07.096987Z",
     "iopub.status.idle": "2021-01-13T01:24:07.241518Z",
     "shell.execute_reply": "2021-01-13T01:24:07.241873Z"
    },
    "papermill": {
     "duration": 0.162976,
     "end_time": "2021-01-13T01:24:07.242008",
     "exception": false,
     "start_time": "2021-01-13T01:24:07.079032",
     "status": "completed"
    },
    "tags": []
   },
   "outputs": [
    {
     "name": "stdout",
     "output_type": "stream",
     "text": [
      "More partitions than expected in umap-z_score_std-projection-smultixcan-efo_partial-mashr-zscores/DBSCAN.pkl\n",
      "Less partitions than expected in z_score_std-projection-smultixcan-efo_partial-mashr-zscores/DBSCAN.pkl\n",
      "Less partitions than expected in pca-z_score_std-projection-smultixcan-efo_partial-mashr-zscores/DBSCAN.pkl\n"
     ]
    }
   ],
   "source": [
    "for ens_file in included_pkl_files:\n",
    "    ens = pd.read_pickle(ens_file)\n",
    "\n",
    "    short_file_path = Path(*ens_file.parts[-2:])\n",
    "\n",
    "    if ens.shape[0] < MIN_ENSEMBLE_SIZE:\n",
    "        print(f\"Less partitions than expected in {short_file_path}\")\n",
    "\n",
    "        # if less partitions than expected, resample with replacement\n",
    "        ens = ens.sample(\n",
    "            n=EXPECTED_ENSEMBLE_SIZE,\n",
    "            replace=True,\n",
    "            random_state=RANDOM_GENERATOR.bit_generator,\n",
    "        )\n",
    "        assert ens.shape[0] == EXPECTED_ENSEMBLE_SIZE\n",
    "\n",
    "    elif ens.shape[0] > MAX_ENSEMBLE_SIZE:\n",
    "        print(f\"More partitions than expected in {short_file_path}\")\n",
    "\n",
    "        # if more partitions than expected, take a smaller sample\n",
    "        ens = ens.sample(\n",
    "            n=EXPECTED_ENSEMBLE_SIZE, random_state=RANDOM_GENERATOR.bit_generator\n",
    "        )\n",
    "        assert ens.shape[0] == EXPECTED_ENSEMBLE_SIZE\n",
    "\n",
    "    ens_full_format = np.concatenate(\n",
    "        ens[\"partition\"].apply(lambda x: x.reshape(1, -1)), axis=0\n",
    "    )\n",
    "\n",
    "    n_partitions += ens_full_format.shape[0]\n",
    "\n",
    "    ensembles_list.append(ens_full_format)"
   ]
  },
  {
   "cell_type": "code",
   "execution_count": 14,
   "metadata": {
    "execution": {
     "iopub.execute_input": "2021-01-13T01:24:07.278158Z",
     "iopub.status.busy": "2021-01-13T01:24:07.277770Z",
     "iopub.status.idle": "2021-01-13T01:24:07.285675Z",
     "shell.execute_reply": "2021-01-13T01:24:07.285972Z"
    },
    "papermill": {
     "duration": 0.026297,
     "end_time": "2021-01-13T01:24:07.286085",
     "exception": false,
     "start_time": "2021-01-13T01:24:07.259788",
     "status": "completed"
    },
    "tags": []
   },
   "outputs": [
    {
     "data": {
      "text/plain": [
       "15"
      ]
     },
     "metadata": {},
     "output_type": "display_data"
    }
   ],
   "source": [
    "display(len(ensembles_list))\n",
    "assert len(ensembles_list) == len(included_pkl_files)"
   ]
  },
  {
   "cell_type": "code",
   "execution_count": 15,
   "metadata": {
    "execution": {
     "iopub.execute_input": "2021-01-13T01:24:07.319481Z",
     "iopub.status.busy": "2021-01-13T01:24:07.319117Z",
     "iopub.status.idle": "2021-01-13T01:24:07.326899Z",
     "shell.execute_reply": "2021-01-13T01:24:07.326522Z"
    },
    "papermill": {
     "duration": 0.025478,
     "end_time": "2021-01-13T01:24:07.326987",
     "exception": false,
     "start_time": "2021-01-13T01:24:07.301509",
     "status": "completed"
    },
    "tags": []
   },
   "outputs": [
    {
     "data": {
      "text/plain": [
       "3749"
      ]
     },
     "metadata": {},
     "output_type": "display_data"
    }
   ],
   "source": [
    "n_data_objects = ensembles_list[0].shape[1]\n",
    "display(n_data_objects)"
   ]
  },
  {
   "cell_type": "code",
   "execution_count": 16,
   "metadata": {
    "execution": {
     "iopub.execute_input": "2021-01-13T01:24:07.358728Z",
     "iopub.status.busy": "2021-01-13T01:24:07.358350Z",
     "iopub.status.idle": "2021-01-13T01:24:07.366278Z",
     "shell.execute_reply": "2021-01-13T01:24:07.365903Z"
    },
    "papermill": {
     "duration": 0.024468,
     "end_time": "2021-01-13T01:24:07.366365",
     "exception": false,
     "start_time": "2021-01-13T01:24:07.341897",
     "status": "completed"
    },
    "tags": []
   },
   "outputs": [
    {
     "data": {
      "text/plain": [
       "4428"
      ]
     },
     "metadata": {},
     "output_type": "display_data"
    }
   ],
   "source": [
    "display(n_partitions)"
   ]
  },
  {
   "cell_type": "code",
   "execution_count": 17,
   "metadata": {
    "execution": {
     "iopub.execute_input": "2021-01-13T01:24:07.398344Z",
     "iopub.status.busy": "2021-01-13T01:24:07.397983Z",
     "iopub.status.idle": "2021-01-13T01:24:07.611201Z",
     "shell.execute_reply": "2021-01-13T01:24:07.610761Z"
    },
    "papermill": {
     "duration": 0.230003,
     "end_time": "2021-01-13T01:24:07.611304",
     "exception": false,
     "start_time": "2021-01-13T01:24:07.381301",
     "status": "completed"
    },
    "tags": []
   },
   "outputs": [],
   "source": [
    "full_ensemble = ensembles_list[0]\n",
    "for ens in ensembles_list[1:]:\n",
    "    full_ensemble = np.concatenate((full_ensemble, ens), axis=0)"
   ]
  },
  {
   "cell_type": "code",
   "execution_count": 18,
   "metadata": {
    "execution": {
     "iopub.execute_input": "2021-01-13T01:24:07.646341Z",
     "iopub.status.busy": "2021-01-13T01:24:07.645963Z",
     "iopub.status.idle": "2021-01-13T01:24:07.653705Z",
     "shell.execute_reply": "2021-01-13T01:24:07.653997Z"
    },
    "papermill": {
     "duration": 0.026155,
     "end_time": "2021-01-13T01:24:07.654108",
     "exception": false,
     "start_time": "2021-01-13T01:24:07.627953",
     "status": "completed"
    },
    "tags": []
   },
   "outputs": [
    {
     "data": {
      "text/plain": [
       "(4428, 3749)"
      ]
     },
     "metadata": {},
     "output_type": "display_data"
    }
   ],
   "source": [
    "display(full_ensemble.shape)\n",
    "assert full_ensemble.shape == (n_partitions, n_data_objects)"
   ]
  },
  {
   "cell_type": "markdown",
   "metadata": {
    "papermill": {
     "duration": 0.015376,
     "end_time": "2021-01-13T01:24:07.685243",
     "exception": false,
     "start_time": "2021-01-13T01:24:07.669867",
     "status": "completed"
    },
    "tags": []
   },
   "source": [
    "## Save"
   ]
  },
  {
   "cell_type": "code",
   "execution_count": 19,
   "metadata": {
    "execution": {
     "iopub.execute_input": "2021-01-13T01:24:07.717318Z",
     "iopub.status.busy": "2021-01-13T01:24:07.716953Z",
     "iopub.status.idle": "2021-01-13T01:24:07.725074Z",
     "shell.execute_reply": "2021-01-13T01:24:07.724671Z"
    },
    "papermill": {
     "duration": 0.025211,
     "end_time": "2021-01-13T01:24:07.725159",
     "exception": false,
     "start_time": "2021-01-13T01:24:07.699948",
     "status": "completed"
    },
    "tags": []
   },
   "outputs": [
    {
     "data": {
      "text/plain": [
       "PosixPath('/home/miltondp/projects/labs/greenelab/phenoplier/base3/results/clustering/consensus_clustering/ensemble.npy')"
      ]
     },
     "metadata": {},
     "output_type": "display_data"
    }
   ],
   "source": [
    "output_file = Path(RESULTS_DIR, \"ensemble.npy\").resolve()\n",
    "display(output_file)"
   ]
  },
  {
   "cell_type": "code",
   "execution_count": 20,
   "metadata": {
    "execution": {
     "iopub.execute_input": "2021-01-13T01:24:07.758429Z",
     "iopub.status.busy": "2021-01-13T01:24:07.758067Z",
     "iopub.status.idle": "2021-01-13T01:24:07.766436Z",
     "shell.execute_reply": "2021-01-13T01:24:07.766071Z"
    },
    "papermill": {
     "duration": 0.025841,
     "end_time": "2021-01-13T01:24:07.766522",
     "exception": false,
     "start_time": "2021-01-13T01:24:07.740681",
     "status": "completed"
    },
    "tags": []
   },
   "outputs": [
    {
     "data": {
      "text/plain": [
       "array([[0., 0., 0., ..., 0., 0., 0.],\n",
       "       [0., 0., 0., ..., 0., 0., 0.],\n",
       "       [0., 0., 0., ..., 0., 0., 0.],\n",
       "       ...,\n",
       "       [0., 0., 0., ..., 0., 0., 0.],\n",
       "       [0., 0., 0., ..., 0., 0., 0.],\n",
       "       [0., 0., 0., ..., 0., 0., 0.]])"
      ]
     },
     "execution_count": 20,
     "metadata": {},
     "output_type": "execute_result"
    }
   ],
   "source": [
    "full_ensemble"
   ]
  },
  {
   "cell_type": "code",
   "execution_count": 21,
   "metadata": {
    "execution": {
     "iopub.execute_input": "2021-01-13T01:24:07.800528Z",
     "iopub.status.busy": "2021-01-13T01:24:07.800170Z",
     "iopub.status.idle": "2021-01-13T01:24:07.870753Z",
     "shell.execute_reply": "2021-01-13T01:24:07.871096Z"
    },
    "papermill": {
     "duration": 0.088778,
     "end_time": "2021-01-13T01:24:07.871220",
     "exception": false,
     "start_time": "2021-01-13T01:24:07.782442",
     "status": "completed"
    },
    "tags": []
   },
   "outputs": [],
   "source": [
    "np.save(output_file, full_ensemble)"
   ]
  },
  {
   "cell_type": "markdown",
   "metadata": {
    "papermill": {
     "duration": 0.016283,
     "end_time": "2021-01-13T01:24:07.904609",
     "exception": false,
     "start_time": "2021-01-13T01:24:07.888326",
     "status": "completed"
    },
    "tags": []
   },
   "source": [
    "# Get coassociation matrix from ensemble"
   ]
  },
  {
   "cell_type": "markdown",
   "metadata": {
    "papermill": {
     "duration": 0.014661,
     "end_time": "2021-01-13T01:24:07.934641",
     "exception": false,
     "start_time": "2021-01-13T01:24:07.919980",
     "status": "completed"
    },
    "tags": []
   },
   "source": [
    "The coassociation matrix is a distance matrix derived from the ensemble, where each cell represents the percentage of times a pair of objects (traits and diseases in this case) were not clustered together. It serves as an input for any consensus function (basically, another clustering algorithm) to derive a consensus partition."
   ]
  },
  {
   "cell_type": "code",
   "execution_count": 22,
   "metadata": {
    "execution": {
     "iopub.execute_input": "2021-01-13T01:24:07.967228Z",
     "iopub.status.busy": "2021-01-13T01:24:07.966853Z",
     "iopub.status.idle": "2021-01-13T01:24:08.280425Z",
     "shell.execute_reply": "2021-01-13T01:24:08.280078Z"
    },
    "papermill": {
     "duration": 0.330901,
     "end_time": "2021-01-13T01:24:08.280518",
     "exception": false,
     "start_time": "2021-01-13T01:24:07.949617",
     "status": "completed"
    },
    "tags": []
   },
   "outputs": [],
   "source": [
    "from clustering.ensembles.utils import get_ensemble_distance_matrix"
   ]
  },
  {
   "cell_type": "code",
   "execution_count": 23,
   "metadata": {
    "execution": {
     "iopub.execute_input": "2021-01-13T01:24:08.313600Z",
     "iopub.status.busy": "2021-01-13T01:24:08.313211Z",
     "iopub.status.idle": "2021-01-13T01:38:59.580644Z",
     "shell.execute_reply": "2021-01-13T01:38:59.581009Z"
    },
    "papermill": {
     "duration": 891.28486,
     "end_time": "2021-01-13T01:38:59.581143",
     "exception": false,
     "start_time": "2021-01-13T01:24:08.296283",
     "status": "completed"
    },
    "tags": []
   },
   "outputs": [],
   "source": [
    "ensemble_coassoc_matrix = get_ensemble_distance_matrix(\n",
    "    full_ensemble,\n",
    "    n_jobs=conf.GENERAL[\"N_JOBS\"],\n",
    ")"
   ]
  },
  {
   "cell_type": "code",
   "execution_count": 24,
   "metadata": {
    "execution": {
     "iopub.execute_input": "2021-01-13T01:39:00.507489Z",
     "iopub.status.busy": "2021-01-13T01:39:00.506453Z",
     "iopub.status.idle": "2021-01-13T01:39:00.543199Z",
     "shell.execute_reply": "2021-01-13T01:39:00.541923Z"
    },
    "papermill": {
     "duration": 0.944669,
     "end_time": "2021-01-13T01:39:00.543544",
     "exception": false,
     "start_time": "2021-01-13T01:38:59.598875",
     "status": "completed"
    },
    "tags": []
   },
   "outputs": [
    {
     "data": {
      "text/plain": [
       "(3749, 3749)"
      ]
     },
     "execution_count": 24,
     "metadata": {},
     "output_type": "execute_result"
    }
   ],
   "source": [
    "ensemble_coassoc_matrix.shape"
   ]
  },
  {
   "cell_type": "code",
   "execution_count": 25,
   "metadata": {
    "execution": {
     "iopub.execute_input": "2021-01-13T01:39:00.610533Z",
     "iopub.status.busy": "2021-01-13T01:39:00.610159Z",
     "iopub.status.idle": "2021-01-13T01:39:00.621255Z",
     "shell.execute_reply": "2021-01-13T01:39:00.620884Z"
    },
    "papermill": {
     "duration": 0.030886,
     "end_time": "2021-01-13T01:39:00.621338",
     "exception": false,
     "start_time": "2021-01-13T01:39:00.590452",
     "status": "completed"
    },
    "tags": []
   },
   "outputs": [
    {
     "data": {
      "text/plain": [
       "array([[0.        , 0.05615942, 0.05389493, ..., 0.59986413, 0.66171429,\n",
       "        0.66757246],\n",
       "       [0.05615942, 0.        , 0.02740036, ..., 0.60122283, 0.65988571,\n",
       "        0.66530797],\n",
       "       [0.05389493, 0.02740036, 0.        , ..., 0.59782609, 0.66102857,\n",
       "        0.66281703],\n",
       "       ...,\n",
       "       [0.59986413, 0.60122283, 0.59782609, ..., 0.        , 0.6699339 ,\n",
       "        0.66531165],\n",
       "       [0.66171429, 0.65988571, 0.66102857, ..., 0.6699339 , 0.        ,\n",
       "        0.58650558],\n",
       "       [0.66757246, 0.66530797, 0.66281703, ..., 0.66531165, 0.58650558,\n",
       "        0.        ]])"
      ]
     },
     "execution_count": 25,
     "metadata": {},
     "output_type": "execute_result"
    }
   ],
   "source": [
    "ensemble_coassoc_matrix"
   ]
  },
  {
   "cell_type": "markdown",
   "metadata": {
    "papermill": {
     "duration": 0.015784,
     "end_time": "2021-01-13T01:39:00.653509",
     "exception": false,
     "start_time": "2021-01-13T01:39:00.637725",
     "status": "completed"
    },
    "tags": []
   },
   "source": [
    "## Save"
   ]
  },
  {
   "cell_type": "code",
   "execution_count": 26,
   "metadata": {
    "execution": {
     "iopub.execute_input": "2021-01-13T01:39:00.687469Z",
     "iopub.status.busy": "2021-01-13T01:39:00.687102Z",
     "iopub.status.idle": "2021-01-13T01:39:00.697851Z",
     "shell.execute_reply": "2021-01-13T01:39:00.697461Z"
    },
    "papermill": {
     "duration": 0.028716,
     "end_time": "2021-01-13T01:39:00.697941",
     "exception": false,
     "start_time": "2021-01-13T01:39:00.669225",
     "status": "completed"
    },
    "tags": []
   },
   "outputs": [
    {
     "data": {
      "text/plain": [
       "PosixPath('/home/miltondp/projects/labs/greenelab/phenoplier/base3/results/clustering/consensus_clustering/ensemble_coassoc_matrix.npy')"
      ]
     },
     "metadata": {},
     "output_type": "display_data"
    }
   ],
   "source": [
    "output_file = Path(RESULTS_DIR, \"ensemble_coassoc_matrix.npy\").resolve()\n",
    "display(output_file)"
   ]
  },
  {
   "cell_type": "code",
   "execution_count": 27,
   "metadata": {
    "execution": {
     "iopub.execute_input": "2021-01-13T01:39:00.734332Z",
     "iopub.status.busy": "2021-01-13T01:39:00.733970Z",
     "iopub.status.idle": "2021-01-13T01:39:00.797992Z",
     "shell.execute_reply": "2021-01-13T01:39:00.797620Z"
    },
    "papermill": {
     "duration": 0.082872,
     "end_time": "2021-01-13T01:39:00.798098",
     "exception": false,
     "start_time": "2021-01-13T01:39:00.715226",
     "status": "completed"
    },
    "tags": []
   },
   "outputs": [],
   "source": [
    "np.save(output_file, ensemble_coassoc_matrix)"
   ]
  },
  {
   "cell_type": "code",
   "execution_count": null,
   "metadata": {
    "papermill": {
     "duration": 0.017497,
     "end_time": "2021-01-13T01:39:00.833902",
     "exception": false,
     "start_time": "2021-01-13T01:39:00.816405",
     "status": "completed"
    },
    "tags": []
   },
   "outputs": [],
   "source": []
  }
 ],
 "metadata": {
  "jupytext": {
   "cell_metadata_filter": "all,-execution,-papermill",
   "formats": "ipynb,py//py:percent"
  },
  "kernelspec": {
   "display_name": "Python 3",
   "language": "python",
   "name": "python3"
  },
  "language_info": {
   "codemirror_mode": {
    "name": "ipython",
    "version": 3
   },
   "file_extension": ".py",
   "mimetype": "text/x-python",
   "name": "python",
   "nbconvert_exporter": "python",
   "pygments_lexer": "ipython3",
   "version": "3.8.6"
  },
  "papermill": {
   "default_parameters": {},
   "duration": 895.865168,
   "end_time": "2021-01-13T01:39:01.256714",
   "environment_variables": {},
   "exception": null,
   "input_path": "15_cluster_analysis/020_00-generate_ensemble.ipynb",
   "output_path": "15_cluster_analysis/020_00-generate_ensemble.run.ipynb",
   "parameters": {},
   "start_time": "2021-01-13T01:24:05.391546",
   "version": "2.2.2"
  },
  "toc-autonumbering": true,
  "toc-showcode": false,
  "toc-showmarkdowntxt": false,
  "toc-showtags": false
 },
 "nbformat": 4,
 "nbformat_minor": 4
}
