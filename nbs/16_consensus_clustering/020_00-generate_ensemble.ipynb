{
 "cells": [
  {
   "cell_type": "markdown",
   "metadata": {
    "papermill": {
     "duration": 0.018985,
     "end_time": "2021-02-15T22:24:15.423517",
     "exception": false,
     "start_time": "2021-02-15T22:24:15.404532",
     "status": "completed"
    },
    "tags": []
   },
   "source": [
    "# Description"
   ]
  },
  {
   "cell_type": "markdown",
   "metadata": {
    "papermill": {
     "duration": 0.012696,
     "end_time": "2021-02-15T22:24:15.449857",
     "exception": false,
     "start_time": "2021-02-15T22:24:15.437161",
     "status": "completed"
    },
    "tags": []
   },
   "source": [
    "It reads all the clustering partitions obtained with different algorithms, and generates the ensemble by putting it into a numpy array. Then it obtains the coassociation matrix from the ensemble (see more details below)."
   ]
  },
  {
   "cell_type": "markdown",
   "metadata": {
    "papermill": {
     "duration": 0.012637,
     "end_time": "2021-02-15T22:24:15.475075",
     "exception": false,
     "start_time": "2021-02-15T22:24:15.462438",
     "status": "completed"
    },
    "tags": []
   },
   "source": [
    "# Environment variables"
   ]
  },
  {
   "cell_type": "code",
   "execution_count": 1,
   "metadata": {
    "execution": {
     "iopub.execute_input": "2021-02-15T22:24:15.503933Z",
     "iopub.status.busy": "2021-02-15T22:24:15.503551Z",
     "iopub.status.idle": "2021-02-15T22:24:15.515097Z",
     "shell.execute_reply": "2021-02-15T22:24:15.514662Z"
    },
    "papermill": {
     "duration": 0.027532,
     "end_time": "2021-02-15T22:24:15.515224",
     "exception": false,
     "start_time": "2021-02-15T22:24:15.487692",
     "status": "completed"
    },
    "tags": []
   },
   "outputs": [
    {
     "data": {
      "text/plain": [
       "2"
      ]
     },
     "metadata": {},
     "output_type": "display_data"
    }
   ],
   "source": [
    "from IPython.display import display\n",
    "\n",
    "import conf\n",
    "\n",
    "N_JOBS = conf.GENERAL[\"N_JOBS\"]\n",
    "display(N_JOBS)"
   ]
  },
  {
   "cell_type": "code",
   "execution_count": 2,
   "metadata": {
    "execution": {
     "iopub.execute_input": "2021-02-15T22:24:15.545904Z",
     "iopub.status.busy": "2021-02-15T22:24:15.545515Z",
     "iopub.status.idle": "2021-02-15T22:24:15.547700Z",
     "shell.execute_reply": "2021-02-15T22:24:15.547389Z"
    },
    "papermill": {
     "duration": 0.019299,
     "end_time": "2021-02-15T22:24:15.547788",
     "exception": false,
     "start_time": "2021-02-15T22:24:15.528489",
     "status": "completed"
    },
    "tags": []
   },
   "outputs": [
    {
     "name": "stdout",
     "output_type": "stream",
     "text": [
      "env: MKL_NUM_THREADS=2\n",
      "env: OPEN_BLAS_NUM_THREADS=2\n",
      "env: NUMEXPR_NUM_THREADS=2\n",
      "env: OMP_NUM_THREADS=2\n"
     ]
    }
   ],
   "source": [
    "%env MKL_NUM_THREADS=$N_JOBS\n",
    "%env OPEN_BLAS_NUM_THREADS=$N_JOBS\n",
    "%env NUMEXPR_NUM_THREADS=$N_JOBS\n",
    "%env OMP_NUM_THREADS=$N_JOBS"
   ]
  },
  {
   "cell_type": "markdown",
   "metadata": {
    "papermill": {
     "duration": 0.012938,
     "end_time": "2021-02-15T22:24:15.574470",
     "exception": false,
     "start_time": "2021-02-15T22:24:15.561532",
     "status": "completed"
    },
    "tags": []
   },
   "source": [
    "# Modules loading"
   ]
  },
  {
   "cell_type": "code",
   "execution_count": 3,
   "metadata": {
    "execution": {
     "iopub.execute_input": "2021-02-15T22:24:15.604375Z",
     "iopub.status.busy": "2021-02-15T22:24:15.603349Z",
     "iopub.status.idle": "2021-02-15T22:24:15.611076Z",
     "shell.execute_reply": "2021-02-15T22:24:15.610696Z"
    },
    "papermill": {
     "duration": 0.023689,
     "end_time": "2021-02-15T22:24:15.611162",
     "exception": false,
     "start_time": "2021-02-15T22:24:15.587473",
     "status": "completed"
    },
    "tags": []
   },
   "outputs": [],
   "source": [
    "%load_ext autoreload\n",
    "%autoreload 2"
   ]
  },
  {
   "cell_type": "code",
   "execution_count": 4,
   "metadata": {
    "execution": {
     "iopub.execute_input": "2021-02-15T22:24:15.640798Z",
     "iopub.status.busy": "2021-02-15T22:24:15.640392Z",
     "iopub.status.idle": "2021-02-15T22:24:15.809919Z",
     "shell.execute_reply": "2021-02-15T22:24:15.809585Z"
    },
    "papermill": {
     "duration": 0.184877,
     "end_time": "2021-02-15T22:24:15.810009",
     "exception": false,
     "start_time": "2021-02-15T22:24:15.625132",
     "status": "completed"
    },
    "tags": []
   },
   "outputs": [],
   "source": [
    "from pathlib import Path\n",
    "\n",
    "import numpy as np\n",
    "import pandas as pd"
   ]
  },
  {
   "cell_type": "markdown",
   "metadata": {
    "papermill": {
     "duration": 0.013129,
     "end_time": "2021-02-15T22:24:15.837363",
     "exception": false,
     "start_time": "2021-02-15T22:24:15.824234",
     "status": "completed"
    },
    "tags": []
   },
   "source": [
    "# Settings"
   ]
  },
  {
   "cell_type": "code",
   "execution_count": 5,
   "metadata": {
    "execution": {
     "iopub.execute_input": "2021-02-15T22:24:15.868674Z",
     "iopub.status.busy": "2021-02-15T22:24:15.868304Z",
     "iopub.status.idle": "2021-02-15T22:24:15.875746Z",
     "shell.execute_reply": "2021-02-15T22:24:15.875431Z"
    },
    "papermill": {
     "duration": 0.024492,
     "end_time": "2021-02-15T22:24:15.875837",
     "exception": false,
     "start_time": "2021-02-15T22:24:15.851345",
     "status": "completed"
    },
    "tags": []
   },
   "outputs": [],
   "source": [
    "RANDOM_GENERATOR = np.random.default_rng(12345)"
   ]
  },
  {
   "cell_type": "markdown",
   "metadata": {
    "papermill": {
     "duration": 0.01352,
     "end_time": "2021-02-15T22:24:15.903438",
     "exception": false,
     "start_time": "2021-02-15T22:24:15.889918",
     "status": "completed"
    },
    "tags": []
   },
   "source": [
    "## Ensemble size"
   ]
  },
  {
   "cell_type": "markdown",
   "metadata": {
    "papermill": {
     "duration": 0.012783,
     "end_time": "2021-02-15T22:24:15.929582",
     "exception": false,
     "start_time": "2021-02-15T22:24:15.916799",
     "status": "completed"
    },
    "tags": []
   },
   "source": [
    "For some clustering algorithms it is easy to control the number of final partitions to generate: for instance, for k-means, you can generate partitions from k=2 to k=20 (19 partitions with different number of clusters). However, with algorithms such as DBSCAN this is not very easy to achieve, since for some parameter combinations (`eps` and `min_samples`) it generates partitions with one cluster (which is not an actual partition of the data) that are not included here.\n",
    "\n",
    "The parameters below specify the expected number of partitions for each clustering algorithm, and a range of allowed sizes. Then, the code below checks that each algorithm has the same representation in the ensemble. For example, if `EXPECTED_ENSEMBLE_SIZE=50`, `MIN_ENSEMBLE_SIZE=45` and `MAX_ENSEMBLE_SIZE=55`, the code below will check that k-means, spectral clustering, DBSCAN, etc, generated between 45 and 55 partitions. If not, it resamples the generated partitions to get 50 (the value specified by `EXPECTED_ENSEMBLE_SIZE`), so each algorithm has approximately the same representation in the full ensemble."
   ]
  },
  {
   "cell_type": "code",
   "execution_count": 6,
   "metadata": {
    "execution": {
     "iopub.execute_input": "2021-02-15T22:24:15.958227Z",
     "iopub.status.busy": "2021-02-15T22:24:15.957856Z",
     "iopub.status.idle": "2021-02-15T22:24:15.965259Z",
     "shell.execute_reply": "2021-02-15T22:24:15.964888Z"
    },
    "papermill": {
     "duration": 0.022718,
     "end_time": "2021-02-15T22:24:15.965345",
     "exception": false,
     "start_time": "2021-02-15T22:24:15.942627",
     "status": "completed"
    },
    "tags": []
   },
   "outputs": [],
   "source": [
    "EXPECTED_ENSEMBLE_SIZE = 295\n",
    "\n",
    "MIN_ENSEMBLE_SIZE = 290\n",
    "MAX_ENSEMBLE_SIZE = 300"
   ]
  },
  {
   "cell_type": "markdown",
   "metadata": {
    "papermill": {
     "duration": 0.012963,
     "end_time": "2021-02-15T22:24:15.991758",
     "exception": false,
     "start_time": "2021-02-15T22:24:15.978795",
     "status": "completed"
    },
    "tags": []
   },
   "source": [
    "## Consensus clustering"
   ]
  },
  {
   "cell_type": "code",
   "execution_count": 7,
   "metadata": {
    "execution": {
     "iopub.execute_input": "2021-02-15T22:24:16.020955Z",
     "iopub.status.busy": "2021-02-15T22:24:16.020541Z",
     "iopub.status.idle": "2021-02-15T22:24:16.028723Z",
     "shell.execute_reply": "2021-02-15T22:24:16.028391Z"
    },
    "papermill": {
     "duration": 0.023763,
     "end_time": "2021-02-15T22:24:16.028825",
     "exception": false,
     "start_time": "2021-02-15T22:24:16.005062",
     "status": "completed"
    },
    "tags": []
   },
   "outputs": [
    {
     "data": {
      "text/plain": [
       "PosixPath('/home/miltondp/projects/labs/greenelab/phenoplier/base3/results/clustering/consensus_clustering')"
      ]
     },
     "metadata": {},
     "output_type": "display_data"
    }
   ],
   "source": [
    "# output dir for this notebook\n",
    "RESULTS_DIR = Path(conf.RESULTS[\"CLUSTERING_DIR\"], \"consensus_clustering\").resolve()\n",
    "RESULTS_DIR.mkdir(parents=True, exist_ok=True)\n",
    "\n",
    "display(RESULTS_DIR)"
   ]
  },
  {
   "cell_type": "markdown",
   "metadata": {
    "papermill": {
     "duration": 0.013132,
     "end_time": "2021-02-15T22:24:16.055373",
     "exception": false,
     "start_time": "2021-02-15T22:24:16.042241",
     "status": "completed"
    },
    "tags": []
   },
   "source": [
    "# Get ensemble"
   ]
  },
  {
   "cell_type": "markdown",
   "metadata": {
    "papermill": {
     "duration": 0.013093,
     "end_time": "2021-02-15T22:24:16.081580",
     "exception": false,
     "start_time": "2021-02-15T22:24:16.068487",
     "status": "completed"
    },
    "tags": []
   },
   "source": [
    "## Load partition files"
   ]
  },
  {
   "cell_type": "code",
   "execution_count": 8,
   "metadata": {
    "execution": {
     "iopub.execute_input": "2021-02-15T22:24:16.110419Z",
     "iopub.status.busy": "2021-02-15T22:24:16.110039Z",
     "iopub.status.idle": "2021-02-15T22:24:16.118623Z",
     "shell.execute_reply": "2021-02-15T22:24:16.118245Z"
    },
    "papermill": {
     "duration": 0.024056,
     "end_time": "2021-02-15T22:24:16.118710",
     "exception": false,
     "start_time": "2021-02-15T22:24:16.094654",
     "status": "completed"
    },
    "tags": []
   },
   "outputs": [
    {
     "data": {
      "text/plain": [
       "PosixPath('/home/miltondp/projects/labs/greenelab/phenoplier/base3/results/clustering/runs')"
      ]
     },
     "metadata": {},
     "output_type": "display_data"
    }
   ],
   "source": [
    "input_dir = Path(\n",
    "    conf.RESULTS[\"CLUSTERING_RUNS_DIR\"],\n",
    ").resolve()\n",
    "display(input_dir)"
   ]
  },
  {
   "cell_type": "code",
   "execution_count": 9,
   "metadata": {
    "execution": {
     "iopub.execute_input": "2021-02-15T22:24:16.149150Z",
     "iopub.status.busy": "2021-02-15T22:24:16.148774Z",
     "iopub.status.idle": "2021-02-15T22:24:16.156996Z",
     "shell.execute_reply": "2021-02-15T22:24:16.156557Z"
    },
    "papermill": {
     "duration": 0.024319,
     "end_time": "2021-02-15T22:24:16.157083",
     "exception": false,
     "start_time": "2021-02-15T22:24:16.132764",
     "status": "completed"
    },
    "tags": []
   },
   "outputs": [],
   "source": [
    "included_pkl_files = []\n",
    "\n",
    "for pkl_file in input_dir.rglob(\"*.pkl\"):\n",
    "    pkl_file_str = str(pkl_file)\n",
    "\n",
    "    # skip stability pkl files\n",
    "    if \"-stability-\" in pkl_file_str:\n",
    "        continue\n",
    "\n",
    "    included_pkl_files.append(pkl_file)"
   ]
  },
  {
   "cell_type": "code",
   "execution_count": 10,
   "metadata": {
    "execution": {
     "iopub.execute_input": "2021-02-15T22:24:16.187063Z",
     "iopub.status.busy": "2021-02-15T22:24:16.186702Z",
     "iopub.status.idle": "2021-02-15T22:24:16.194778Z",
     "shell.execute_reply": "2021-02-15T22:24:16.194392Z"
    },
    "papermill": {
     "duration": 0.023746,
     "end_time": "2021-02-15T22:24:16.194868",
     "exception": false,
     "start_time": "2021-02-15T22:24:16.171122",
     "status": "completed"
    },
    "tags": []
   },
   "outputs": [
    {
     "data": {
      "text/plain": [
       "15"
      ]
     },
     "metadata": {},
     "output_type": "display_data"
    }
   ],
   "source": [
    "display(len(included_pkl_files))\n",
    "\n",
    "# 5 algorithms, 3 dataset versions\n",
    "assert len(included_pkl_files) == 5 * 3"
   ]
  },
  {
   "cell_type": "markdown",
   "metadata": {
    "papermill": {
     "duration": 0.014496,
     "end_time": "2021-02-15T22:24:16.224161",
     "exception": false,
     "start_time": "2021-02-15T22:24:16.209665",
     "status": "completed"
    },
    "tags": []
   },
   "source": [
    "## Combine partition files to get final ensemble"
   ]
  },
  {
   "cell_type": "code",
   "execution_count": 11,
   "metadata": {
    "execution": {
     "iopub.execute_input": "2021-02-15T22:24:16.254185Z",
     "iopub.status.busy": "2021-02-15T22:24:16.253810Z",
     "iopub.status.idle": "2021-02-15T22:24:16.261180Z",
     "shell.execute_reply": "2021-02-15T22:24:16.260809Z"
    },
    "papermill": {
     "duration": 0.023447,
     "end_time": "2021-02-15T22:24:16.261266",
     "exception": false,
     "start_time": "2021-02-15T22:24:16.237819",
     "status": "completed"
    },
    "tags": []
   },
   "outputs": [],
   "source": [
    "n_partitions = 0"
   ]
  },
  {
   "cell_type": "code",
   "execution_count": 12,
   "metadata": {
    "execution": {
     "iopub.execute_input": "2021-02-15T22:24:16.291582Z",
     "iopub.status.busy": "2021-02-15T22:24:16.291216Z",
     "iopub.status.idle": "2021-02-15T22:24:16.298456Z",
     "shell.execute_reply": "2021-02-15T22:24:16.298085Z"
    },
    "papermill": {
     "duration": 0.023357,
     "end_time": "2021-02-15T22:24:16.298540",
     "exception": false,
     "start_time": "2021-02-15T22:24:16.275183",
     "status": "completed"
    },
    "tags": []
   },
   "outputs": [],
   "source": [
    "ensembles_list = []"
   ]
  },
  {
   "cell_type": "code",
   "execution_count": 13,
   "metadata": {
    "execution": {
     "iopub.execute_input": "2021-02-15T22:24:16.331198Z",
     "iopub.status.busy": "2021-02-15T22:24:16.330798Z",
     "iopub.status.idle": "2021-02-15T22:24:16.469971Z",
     "shell.execute_reply": "2021-02-15T22:24:16.469562Z"
    },
    "papermill": {
     "duration": 0.157405,
     "end_time": "2021-02-15T22:24:16.470080",
     "exception": false,
     "start_time": "2021-02-15T22:24:16.312675",
     "status": "completed"
    },
    "tags": []
   },
   "outputs": [
    {
     "name": "stdout",
     "output_type": "stream",
     "text": [
      "More partitions than expected in umap-z_score_std-projection-smultixcan-efo_partial-mashr-zscores/DBSCAN.pkl\n",
      "Less partitions than expected in z_score_std-projection-smultixcan-efo_partial-mashr-zscores/DBSCAN.pkl\n",
      "Less partitions than expected in pca-z_score_std-projection-smultixcan-efo_partial-mashr-zscores/DBSCAN.pkl\n"
     ]
    }
   ],
   "source": [
    "for ens_file in included_pkl_files:\n",
    "    ens = pd.read_pickle(ens_file)\n",
    "\n",
    "    short_file_path = Path(*ens_file.parts[-2:])\n",
    "\n",
    "    if ens.shape[0] < MIN_ENSEMBLE_SIZE:\n",
    "        print(f\"Less partitions than expected in {short_file_path}\")\n",
    "\n",
    "        # if less partitions than expected, resample with replacement\n",
    "        ens = ens.sample(\n",
    "            n=EXPECTED_ENSEMBLE_SIZE,\n",
    "            replace=True,\n",
    "            random_state=RANDOM_GENERATOR.bit_generator,\n",
    "        )\n",
    "        assert ens.shape[0] == EXPECTED_ENSEMBLE_SIZE\n",
    "\n",
    "    elif ens.shape[0] > MAX_ENSEMBLE_SIZE:\n",
    "        print(f\"More partitions than expected in {short_file_path}\")\n",
    "\n",
    "        # if more partitions than expected, take a smaller sample\n",
    "        ens = ens.sample(\n",
    "            n=EXPECTED_ENSEMBLE_SIZE, random_state=RANDOM_GENERATOR.bit_generator\n",
    "        )\n",
    "        assert ens.shape[0] == EXPECTED_ENSEMBLE_SIZE\n",
    "\n",
    "    ens_full_format = np.concatenate(\n",
    "        ens[\"partition\"].apply(lambda x: x.reshape(1, -1)), axis=0\n",
    "    )\n",
    "\n",
    "    n_partitions += ens_full_format.shape[0]\n",
    "\n",
    "    ensembles_list.append(ens_full_format)"
   ]
  },
  {
   "cell_type": "code",
   "execution_count": 14,
   "metadata": {
    "execution": {
     "iopub.execute_input": "2021-02-15T22:24:16.506755Z",
     "iopub.status.busy": "2021-02-15T22:24:16.506367Z",
     "iopub.status.idle": "2021-02-15T22:24:16.513851Z",
     "shell.execute_reply": "2021-02-15T22:24:16.514144Z"
    },
    "papermill": {
     "duration": 0.026779,
     "end_time": "2021-02-15T22:24:16.514253",
     "exception": false,
     "start_time": "2021-02-15T22:24:16.487474",
     "status": "completed"
    },
    "tags": []
   },
   "outputs": [
    {
     "data": {
      "text/plain": [
       "15"
      ]
     },
     "metadata": {},
     "output_type": "display_data"
    }
   ],
   "source": [
    "display(len(ensembles_list))\n",
    "assert len(ensembles_list) == len(included_pkl_files)"
   ]
  },
  {
   "cell_type": "code",
   "execution_count": 15,
   "metadata": {
    "execution": {
     "iopub.execute_input": "2021-02-15T22:24:16.546655Z",
     "iopub.status.busy": "2021-02-15T22:24:16.546291Z",
     "iopub.status.idle": "2021-02-15T22:24:16.554315Z",
     "shell.execute_reply": "2021-02-15T22:24:16.553937Z"
    },
    "papermill": {
     "duration": 0.024909,
     "end_time": "2021-02-15T22:24:16.554402",
     "exception": false,
     "start_time": "2021-02-15T22:24:16.529493",
     "status": "completed"
    },
    "tags": []
   },
   "outputs": [
    {
     "data": {
      "text/plain": [
       "3749"
      ]
     },
     "metadata": {},
     "output_type": "display_data"
    }
   ],
   "source": [
    "n_data_objects = ensembles_list[0].shape[1]\n",
    "display(n_data_objects)"
   ]
  },
  {
   "cell_type": "code",
   "execution_count": 16,
   "metadata": {
    "execution": {
     "iopub.execute_input": "2021-02-15T22:24:16.586436Z",
     "iopub.status.busy": "2021-02-15T22:24:16.586053Z",
     "iopub.status.idle": "2021-02-15T22:24:16.594113Z",
     "shell.execute_reply": "2021-02-15T22:24:16.593789Z"
    },
    "papermill": {
     "duration": 0.024875,
     "end_time": "2021-02-15T22:24:16.594201",
     "exception": false,
     "start_time": "2021-02-15T22:24:16.569326",
     "status": "completed"
    },
    "tags": []
   },
   "outputs": [
    {
     "data": {
      "text/plain": [
       "4428"
      ]
     },
     "metadata": {},
     "output_type": "display_data"
    }
   ],
   "source": [
    "display(n_partitions)"
   ]
  },
  {
   "cell_type": "code",
   "execution_count": 17,
   "metadata": {
    "execution": {
     "iopub.execute_input": "2021-02-15T22:24:16.627171Z",
     "iopub.status.busy": "2021-02-15T22:24:16.626806Z",
     "iopub.status.idle": "2021-02-15T22:24:16.833531Z",
     "shell.execute_reply": "2021-02-15T22:24:16.833100Z"
    },
    "papermill": {
     "duration": 0.224146,
     "end_time": "2021-02-15T22:24:16.833628",
     "exception": false,
     "start_time": "2021-02-15T22:24:16.609482",
     "status": "completed"
    },
    "tags": []
   },
   "outputs": [],
   "source": [
    "full_ensemble = ensembles_list[0]\n",
    "for ens in ensembles_list[1:]:\n",
    "    full_ensemble = np.concatenate((full_ensemble, ens), axis=0)"
   ]
  },
  {
   "cell_type": "code",
   "execution_count": 18,
   "metadata": {
    "execution": {
     "iopub.execute_input": "2021-02-15T22:24:16.868603Z",
     "iopub.status.busy": "2021-02-15T22:24:16.868200Z",
     "iopub.status.idle": "2021-02-15T22:24:16.876359Z",
     "shell.execute_reply": "2021-02-15T22:24:16.875958Z"
    },
    "papermill": {
     "duration": 0.026615,
     "end_time": "2021-02-15T22:24:16.876451",
     "exception": false,
     "start_time": "2021-02-15T22:24:16.849836",
     "status": "completed"
    },
    "tags": []
   },
   "outputs": [
    {
     "data": {
      "text/plain": [
       "(4428, 3749)"
      ]
     },
     "metadata": {},
     "output_type": "display_data"
    }
   ],
   "source": [
    "display(full_ensemble.shape)\n",
    "assert full_ensemble.shape == (n_partitions, n_data_objects)"
   ]
  },
  {
   "cell_type": "markdown",
   "metadata": {
    "papermill": {
     "duration": 0.015604,
     "end_time": "2021-02-15T22:24:16.908606",
     "exception": false,
     "start_time": "2021-02-15T22:24:16.893002",
     "status": "completed"
    },
    "tags": []
   },
   "source": [
    "## Save"
   ]
  },
  {
   "cell_type": "code",
   "execution_count": 19,
   "metadata": {
    "execution": {
     "iopub.execute_input": "2021-02-15T22:24:16.941151Z",
     "iopub.status.busy": "2021-02-15T22:24:16.940743Z",
     "iopub.status.idle": "2021-02-15T22:24:16.949719Z",
     "shell.execute_reply": "2021-02-15T22:24:16.949414Z"
    },
    "papermill": {
     "duration": 0.026062,
     "end_time": "2021-02-15T22:24:16.949807",
     "exception": false,
     "start_time": "2021-02-15T22:24:16.923745",
     "status": "completed"
    },
    "tags": []
   },
   "outputs": [
    {
     "data": {
      "text/plain": [
       "PosixPath('/home/miltondp/projects/labs/greenelab/phenoplier/base3/results/clustering/consensus_clustering/ensemble.npy')"
      ]
     },
     "metadata": {},
     "output_type": "display_data"
    }
   ],
   "source": [
    "output_file = Path(RESULTS_DIR, \"ensemble.npy\").resolve()\n",
    "display(output_file)"
   ]
  },
  {
   "cell_type": "code",
   "execution_count": 20,
   "metadata": {
    "execution": {
     "iopub.execute_input": "2021-02-15T22:24:16.984176Z",
     "iopub.status.busy": "2021-02-15T22:24:16.983812Z",
     "iopub.status.idle": "2021-02-15T22:24:16.992448Z",
     "shell.execute_reply": "2021-02-15T22:24:16.992123Z"
    },
    "papermill": {
     "duration": 0.0267,
     "end_time": "2021-02-15T22:24:16.992536",
     "exception": false,
     "start_time": "2021-02-15T22:24:16.965836",
     "status": "completed"
    },
    "tags": []
   },
   "outputs": [
    {
     "data": {
      "text/plain": [
       "array([[0., 0., 0., ..., 0., 0., 0.],\n",
       "       [0., 0., 0., ..., 0., 0., 0.],\n",
       "       [0., 0., 0., ..., 0., 0., 0.],\n",
       "       ...,\n",
       "       [0., 0., 0., ..., 0., 0., 0.],\n",
       "       [0., 0., 0., ..., 0., 0., 0.],\n",
       "       [0., 0., 0., ..., 0., 0., 0.]])"
      ]
     },
     "execution_count": 20,
     "metadata": {},
     "output_type": "execute_result"
    }
   ],
   "source": [
    "full_ensemble"
   ]
  },
  {
   "cell_type": "code",
   "execution_count": 21,
   "metadata": {
    "execution": {
     "iopub.execute_input": "2021-02-15T22:24:17.026592Z",
     "iopub.status.busy": "2021-02-15T22:24:17.026205Z",
     "iopub.status.idle": "2021-02-15T22:24:17.117985Z",
     "shell.execute_reply": "2021-02-15T22:24:17.118303Z"
    },
    "papermill": {
     "duration": 0.109748,
     "end_time": "2021-02-15T22:24:17.118423",
     "exception": false,
     "start_time": "2021-02-15T22:24:17.008675",
     "status": "completed"
    },
    "tags": []
   },
   "outputs": [],
   "source": [
    "np.save(output_file, full_ensemble)"
   ]
  },
  {
   "cell_type": "markdown",
   "metadata": {
    "papermill": {
     "duration": 0.015968,
     "end_time": "2021-02-15T22:24:17.151077",
     "exception": false,
     "start_time": "2021-02-15T22:24:17.135109",
     "status": "completed"
    },
    "tags": []
   },
   "source": [
    "# Get coassociation matrix from ensemble"
   ]
  },
  {
   "cell_type": "markdown",
   "metadata": {
    "papermill": {
     "duration": 0.015044,
     "end_time": "2021-02-15T22:24:17.181252",
     "exception": false,
     "start_time": "2021-02-15T22:24:17.166208",
     "status": "completed"
    },
    "tags": []
   },
   "source": [
    "The coassociation matrix is a distance matrix derived from the ensemble, where each cell represents the percentage of times a pair of objects (traits and diseases in this case) were not clustered together. It serves as an input for any consensus function (basically, another clustering algorithm) to derive a consensus partition."
   ]
  },
  {
   "cell_type": "code",
   "execution_count": 22,
   "metadata": {
    "execution": {
     "iopub.execute_input": "2021-02-15T22:24:17.214049Z",
     "iopub.status.busy": "2021-02-15T22:24:17.213674Z",
     "iopub.status.idle": "2021-02-15T22:24:17.493893Z",
     "shell.execute_reply": "2021-02-15T22:24:17.493557Z"
    },
    "papermill": {
     "duration": 0.297629,
     "end_time": "2021-02-15T22:24:17.493985",
     "exception": false,
     "start_time": "2021-02-15T22:24:17.196356",
     "status": "completed"
    },
    "tags": []
   },
   "outputs": [],
   "source": [
    "from clustering.ensembles.utils import get_ensemble_distance_matrix"
   ]
  },
  {
   "cell_type": "code",
   "execution_count": 23,
   "metadata": {
    "execution": {
     "iopub.execute_input": "2021-02-15T22:24:17.527324Z",
     "iopub.status.busy": "2021-02-15T22:24:17.526955Z",
     "iopub.status.idle": "2021-02-15T22:41:21.456227Z",
     "shell.execute_reply": "2021-02-15T22:41:21.457054Z"
    },
    "papermill": {
     "duration": 1023.947787,
     "end_time": "2021-02-15T22:41:21.457337",
     "exception": false,
     "start_time": "2021-02-15T22:24:17.509550",
     "status": "completed"
    },
    "tags": []
   },
   "outputs": [],
   "source": [
    "ensemble_coassoc_matrix = get_ensemble_distance_matrix(\n",
    "    full_ensemble,\n",
    "    n_jobs=conf.GENERAL[\"N_JOBS\"],\n",
    ")"
   ]
  },
  {
   "cell_type": "code",
   "execution_count": 24,
   "metadata": {
    "execution": {
     "iopub.execute_input": "2021-02-15T22:41:22.390545Z",
     "iopub.status.busy": "2021-02-15T22:41:22.388989Z",
     "iopub.status.idle": "2021-02-15T22:41:22.402281Z",
     "shell.execute_reply": "2021-02-15T22:41:22.401886Z"
    },
    "papermill": {
     "duration": 0.923979,
     "end_time": "2021-02-15T22:41:22.402371",
     "exception": false,
     "start_time": "2021-02-15T22:41:21.478392",
     "status": "completed"
    },
    "tags": []
   },
   "outputs": [
    {
     "data": {
      "text/plain": [
       "(3749, 3749)"
      ]
     },
     "execution_count": 24,
     "metadata": {},
     "output_type": "execute_result"
    }
   ],
   "source": [
    "ensemble_coassoc_matrix.shape"
   ]
  },
  {
   "cell_type": "code",
   "execution_count": 25,
   "metadata": {
    "execution": {
     "iopub.execute_input": "2021-02-15T22:41:22.437352Z",
     "iopub.status.busy": "2021-02-15T22:41:22.436988Z",
     "iopub.status.idle": "2021-02-15T22:41:22.447324Z",
     "shell.execute_reply": "2021-02-15T22:41:22.446985Z"
    },
    "papermill": {
     "duration": 0.02849,
     "end_time": "2021-02-15T22:41:22.447415",
     "exception": false,
     "start_time": "2021-02-15T22:41:22.418925",
     "status": "completed"
    },
    "tags": []
   },
   "outputs": [
    {
     "data": {
      "text/plain": [
       "array([[0.        , 0.05615942, 0.05389493, ..., 0.59986413, 0.66171429,\n",
       "        0.66757246],\n",
       "       [0.05615942, 0.        , 0.02740036, ..., 0.60122283, 0.65988571,\n",
       "        0.66530797],\n",
       "       [0.05389493, 0.02740036, 0.        , ..., 0.59782609, 0.66102857,\n",
       "        0.66281703],\n",
       "       ...,\n",
       "       [0.59986413, 0.60122283, 0.59782609, ..., 0.        , 0.6699339 ,\n",
       "        0.66531165],\n",
       "       [0.66171429, 0.65988571, 0.66102857, ..., 0.6699339 , 0.        ,\n",
       "        0.58650558],\n",
       "       [0.66757246, 0.66530797, 0.66281703, ..., 0.66531165, 0.58650558,\n",
       "        0.        ]])"
      ]
     },
     "execution_count": 25,
     "metadata": {},
     "output_type": "execute_result"
    }
   ],
   "source": [
    "ensemble_coassoc_matrix"
   ]
  },
  {
   "cell_type": "markdown",
   "metadata": {
    "papermill": {
     "duration": 0.016051,
     "end_time": "2021-02-15T22:41:22.480413",
     "exception": false,
     "start_time": "2021-02-15T22:41:22.464362",
     "status": "completed"
    },
    "tags": []
   },
   "source": [
    "## Save"
   ]
  },
  {
   "cell_type": "code",
   "execution_count": 26,
   "metadata": {
    "execution": {
     "iopub.execute_input": "2021-02-15T22:41:22.517572Z",
     "iopub.status.busy": "2021-02-15T22:41:22.517204Z",
     "iopub.status.idle": "2021-02-15T22:41:22.523975Z",
     "shell.execute_reply": "2021-02-15T22:41:22.523598Z"
    },
    "papermill": {
     "duration": 0.028136,
     "end_time": "2021-02-15T22:41:22.524061",
     "exception": false,
     "start_time": "2021-02-15T22:41:22.495925",
     "status": "completed"
    },
    "tags": []
   },
   "outputs": [
    {
     "data": {
      "text/plain": [
       "PosixPath('/home/miltondp/projects/labs/greenelab/phenoplier/base3/results/clustering/consensus_clustering/ensemble_coassoc_matrix.npy')"
      ]
     },
     "metadata": {},
     "output_type": "display_data"
    }
   ],
   "source": [
    "output_file = Path(RESULTS_DIR, \"ensemble_coassoc_matrix.npy\").resolve()\n",
    "display(output_file)"
   ]
  },
  {
   "cell_type": "code",
   "execution_count": 27,
   "metadata": {
    "execution": {
     "iopub.execute_input": "2021-02-15T22:41:22.559123Z",
     "iopub.status.busy": "2021-02-15T22:41:22.558761Z",
     "iopub.status.idle": "2021-02-15T22:41:22.634351Z",
     "shell.execute_reply": "2021-02-15T22:41:22.633888Z"
    },
    "papermill": {
     "duration": 0.094012,
     "end_time": "2021-02-15T22:41:22.634455",
     "exception": false,
     "start_time": "2021-02-15T22:41:22.540443",
     "status": "completed"
    },
    "tags": []
   },
   "outputs": [],
   "source": [
    "np.save(output_file, ensemble_coassoc_matrix)"
   ]
  },
  {
   "cell_type": "code",
   "execution_count": null,
   "metadata": {
    "papermill": {
     "duration": 0.017219,
     "end_time": "2021-02-15T22:41:22.669936",
     "exception": false,
     "start_time": "2021-02-15T22:41:22.652717",
     "status": "completed"
    },
    "tags": []
   },
   "outputs": [],
   "source": []
  }
 ],
 "metadata": {
  "jupytext": {
   "cell_metadata_filter": "all,-execution,-papermill",
   "formats": "ipynb,py//py:percent"
  },
  "kernelspec": {
   "display_name": "Python 3",
   "language": "python",
   "name": "python3"
  },
  "language_info": {
   "codemirror_mode": {
    "name": "ipython",
    "version": 3
   },
   "file_extension": ".py",
   "mimetype": "text/x-python",
   "name": "python",
   "nbconvert_exporter": "python",
   "pygments_lexer": "ipython3",
   "version": "3.8.6"
  },
  "papermill": {
   "default_parameters": {},
   "duration": 1028.367075,
   "end_time": "2021-02-15T22:41:22.991320",
   "environment_variables": {},
   "exception": null,
   "input_path": "16_consensus_clustering/020_00-generate_ensemble.ipynb",
   "output_path": "16_consensus_clustering/020_00-generate_ensemble.run.ipynb",
   "parameters": {},
   "start_time": "2021-02-15T22:24:14.624245",
   "version": "2.2.2"
  },
  "toc-autonumbering": true,
  "toc-showcode": false,
  "toc-showmarkdowntxt": false,
  "toc-showtags": false
 },
 "nbformat": 4,
 "nbformat_minor": 4
}
