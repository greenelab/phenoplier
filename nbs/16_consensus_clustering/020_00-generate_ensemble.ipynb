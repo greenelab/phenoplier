{
 "cells": [
  {
   "cell_type": "markdown",
   "metadata": {
    "papermill": {
     "duration": 0.042373,
     "end_time": "2021-05-08T21:05:17.153816",
     "exception": false,
     "start_time": "2021-05-08T21:05:17.111443",
     "status": "completed"
    },
    "tags": []
   },
   "source": [
    "# Description"
   ]
  },
  {
   "cell_type": "markdown",
   "metadata": {
    "papermill": {
     "duration": 0.012359,
     "end_time": "2021-05-08T21:05:17.184110",
     "exception": false,
     "start_time": "2021-05-08T21:05:17.171751",
     "status": "completed"
    },
    "tags": []
   },
   "source": [
    "It reads all the clustering partitions obtained with different algorithms, and generates the ensemble by putting it into a numpy array. Then it obtains the coassociation matrix from the ensemble (see more details below)."
   ]
  },
  {
   "cell_type": "markdown",
   "metadata": {
    "papermill": {
     "duration": 0.012429,
     "end_time": "2021-05-08T21:05:17.208997",
     "exception": false,
     "start_time": "2021-05-08T21:05:17.196568",
     "status": "completed"
    },
    "tags": []
   },
   "source": [
    "# Environment variables"
   ]
  },
  {
   "cell_type": "code",
   "execution_count": 1,
   "metadata": {
    "execution": {
     "iopub.execute_input": "2021-05-08T21:05:17.239518Z",
     "iopub.status.busy": "2021-05-08T21:05:17.239134Z",
     "iopub.status.idle": "2021-05-08T21:05:17.249965Z",
     "shell.execute_reply": "2021-05-08T21:05:17.249540Z"
    },
    "papermill": {
     "duration": 0.028746,
     "end_time": "2021-05-08T21:05:17.250055",
     "exception": false,
     "start_time": "2021-05-08T21:05:17.221309",
     "status": "completed"
    },
    "tags": []
   },
   "outputs": [
    {
     "data": {
      "text/plain": [
       "3"
      ]
     },
     "metadata": {},
     "output_type": "display_data"
    }
   ],
   "source": [
    "from IPython.display import display\n",
    "\n",
    "import conf\n",
    "\n",
    "N_JOBS = conf.GENERAL[\"N_JOBS\"]\n",
    "display(N_JOBS)"
   ]
  },
  {
   "cell_type": "code",
   "execution_count": 2,
   "metadata": {
    "execution": {
     "iopub.execute_input": "2021-05-08T21:05:17.280321Z",
     "iopub.status.busy": "2021-05-08T21:05:17.279933Z",
     "iopub.status.idle": "2021-05-08T21:05:17.282262Z",
     "shell.execute_reply": "2021-05-08T21:05:17.281889Z"
    },
    "papermill": {
     "duration": 0.019082,
     "end_time": "2021-05-08T21:05:17.282343",
     "exception": false,
     "start_time": "2021-05-08T21:05:17.263261",
     "status": "completed"
    },
    "tags": []
   },
   "outputs": [
    {
     "name": "stdout",
     "output_type": "stream",
     "text": [
      "env: MKL_NUM_THREADS=3\n",
      "env: OPEN_BLAS_NUM_THREADS=3\n",
      "env: NUMEXPR_NUM_THREADS=3\n",
      "env: OMP_NUM_THREADS=3\n"
     ]
    }
   ],
   "source": [
    "%env MKL_NUM_THREADS=$N_JOBS\n",
    "%env OPEN_BLAS_NUM_THREADS=$N_JOBS\n",
    "%env NUMEXPR_NUM_THREADS=$N_JOBS\n",
    "%env OMP_NUM_THREADS=$N_JOBS"
   ]
  },
  {
   "cell_type": "markdown",
   "metadata": {
    "papermill": {
     "duration": 0.012598,
     "end_time": "2021-05-08T21:05:17.308348",
     "exception": false,
     "start_time": "2021-05-08T21:05:17.295750",
     "status": "completed"
    },
    "tags": []
   },
   "source": [
    "# Modules loading"
   ]
  },
  {
   "cell_type": "code",
   "execution_count": 3,
   "metadata": {
    "execution": {
     "iopub.execute_input": "2021-05-08T21:05:17.337099Z",
     "iopub.status.busy": "2021-05-08T21:05:17.336696Z",
     "iopub.status.idle": "2021-05-08T21:05:17.344153Z",
     "shell.execute_reply": "2021-05-08T21:05:17.343773Z"
    },
    "papermill": {
     "duration": 0.023127,
     "end_time": "2021-05-08T21:05:17.344235",
     "exception": false,
     "start_time": "2021-05-08T21:05:17.321108",
     "status": "completed"
    },
    "tags": []
   },
   "outputs": [],
   "source": [
    "%load_ext autoreload\n",
    "%autoreload 2"
   ]
  },
  {
   "cell_type": "code",
   "execution_count": 4,
   "metadata": {
    "execution": {
     "iopub.execute_input": "2021-05-08T21:05:17.373148Z",
     "iopub.status.busy": "2021-05-08T21:05:17.372778Z",
     "iopub.status.idle": "2021-05-08T21:05:17.549018Z",
     "shell.execute_reply": "2021-05-08T21:05:17.548686Z"
    },
    "papermill": {
     "duration": 0.191508,
     "end_time": "2021-05-08T21:05:17.549107",
     "exception": false,
     "start_time": "2021-05-08T21:05:17.357599",
     "status": "completed"
    },
    "tags": []
   },
   "outputs": [],
   "source": [
    "from pathlib import Path\n",
    "\n",
    "import numpy as np\n",
    "import pandas as pd"
   ]
  },
  {
   "cell_type": "markdown",
   "metadata": {
    "papermill": {
     "duration": 0.013329,
     "end_time": "2021-05-08T21:05:17.576055",
     "exception": false,
     "start_time": "2021-05-08T21:05:17.562726",
     "status": "completed"
    },
    "tags": []
   },
   "source": [
    "# Settings"
   ]
  },
  {
   "cell_type": "code",
   "execution_count": 5,
   "metadata": {
    "execution": {
     "iopub.execute_input": "2021-05-08T21:05:17.604845Z",
     "iopub.status.busy": "2021-05-08T21:05:17.604448Z",
     "iopub.status.idle": "2021-05-08T21:05:17.611742Z",
     "shell.execute_reply": "2021-05-08T21:05:17.611377Z"
    },
    "papermill": {
     "duration": 0.022807,
     "end_time": "2021-05-08T21:05:17.611824",
     "exception": false,
     "start_time": "2021-05-08T21:05:17.589017",
     "status": "completed"
    },
    "tags": []
   },
   "outputs": [],
   "source": [
    "RANDOM_GENERATOR = np.random.default_rng(12345)"
   ]
  },
  {
   "cell_type": "markdown",
   "metadata": {
    "papermill": {
     "duration": 0.012783,
     "end_time": "2021-05-08T21:05:17.637633",
     "exception": false,
     "start_time": "2021-05-08T21:05:17.624850",
     "status": "completed"
    },
    "tags": []
   },
   "source": [
    "## Ensemble size"
   ]
  },
  {
   "cell_type": "markdown",
   "metadata": {
    "papermill": {
     "duration": 0.012564,
     "end_time": "2021-05-08T21:05:17.662943",
     "exception": false,
     "start_time": "2021-05-08T21:05:17.650379",
     "status": "completed"
    },
    "tags": []
   },
   "source": [
    "For some clustering algorithms it is easy to control the number of final partitions to generate: for instance, for k-means, you can generate partitions from k=2 to k=20 (19 partitions with different number of clusters). However, with algorithms such as DBSCAN this is not very easy to achieve, since for some parameter combinations (`eps` and `min_samples`) it generates partitions with one cluster (which is not an actual partition of the data) that are not included here.\n",
    "\n",
    "The parameters below specify the expected number of partitions for each clustering algorithm, and a range of allowed sizes. Then, the code below checks that each algorithm has the same representation in the ensemble. For example, if `EXPECTED_ENSEMBLE_SIZE=50`, `MIN_ENSEMBLE_SIZE=45` and `MAX_ENSEMBLE_SIZE=55`, the code below will check that k-means, spectral clustering, DBSCAN, etc, generated between 45 and 55 partitions. If not, it resamples the generated partitions to get 50 (the value specified by `EXPECTED_ENSEMBLE_SIZE`), so each algorithm has approximately the same representation in the full ensemble."
   ]
  },
  {
   "cell_type": "code",
   "execution_count": 6,
   "metadata": {
    "execution": {
     "iopub.execute_input": "2021-05-08T21:05:17.691605Z",
     "iopub.status.busy": "2021-05-08T21:05:17.691246Z",
     "iopub.status.idle": "2021-05-08T21:05:17.698470Z",
     "shell.execute_reply": "2021-05-08T21:05:17.698076Z"
    },
    "papermill": {
     "duration": 0.022635,
     "end_time": "2021-05-08T21:05:17.698550",
     "exception": false,
     "start_time": "2021-05-08T21:05:17.675915",
     "status": "completed"
    },
    "tags": []
   },
   "outputs": [],
   "source": [
    "EXPECTED_ENSEMBLE_SIZE = 295\n",
    "\n",
    "MIN_ENSEMBLE_SIZE = 290\n",
    "MAX_ENSEMBLE_SIZE = 300"
   ]
  },
  {
   "cell_type": "markdown",
   "metadata": {
    "papermill": {
     "duration": 0.012785,
     "end_time": "2021-05-08T21:05:17.724328",
     "exception": false,
     "start_time": "2021-05-08T21:05:17.711543",
     "status": "completed"
    },
    "tags": []
   },
   "source": [
    "## Consensus clustering"
   ]
  },
  {
   "cell_type": "code",
   "execution_count": 7,
   "metadata": {
    "execution": {
     "iopub.execute_input": "2021-05-08T21:05:17.752397Z",
     "iopub.status.busy": "2021-05-08T21:05:17.752036Z",
     "iopub.status.idle": "2021-05-08T21:05:17.760274Z",
     "shell.execute_reply": "2021-05-08T21:05:17.759912Z"
    },
    "papermill": {
     "duration": 0.023294,
     "end_time": "2021-05-08T21:05:17.760354",
     "exception": false,
     "start_time": "2021-05-08T21:05:17.737060",
     "status": "completed"
    },
    "tags": []
   },
   "outputs": [
    {
     "data": {
      "text/plain": [
       "PosixPath('/home/miltondp/projects/labs/greenelab/phenoplier/base/results/clustering/consensus_clustering')"
      ]
     },
     "metadata": {},
     "output_type": "display_data"
    }
   ],
   "source": [
    "# output dir for this notebook\n",
    "RESULTS_DIR = Path(conf.RESULTS[\"CLUSTERING_DIR\"], \"consensus_clustering\").resolve()\n",
    "RESULTS_DIR.mkdir(parents=True, exist_ok=True)\n",
    "\n",
    "display(RESULTS_DIR)"
   ]
  },
  {
   "cell_type": "markdown",
   "metadata": {
    "papermill": {
     "duration": 0.013104,
     "end_time": "2021-05-08T21:05:17.786996",
     "exception": false,
     "start_time": "2021-05-08T21:05:17.773892",
     "status": "completed"
    },
    "tags": []
   },
   "source": [
    "# Get ensemble"
   ]
  },
  {
   "cell_type": "markdown",
   "metadata": {
    "papermill": {
     "duration": 0.012855,
     "end_time": "2021-05-08T21:05:17.812783",
     "exception": false,
     "start_time": "2021-05-08T21:05:17.799928",
     "status": "completed"
    },
    "tags": []
   },
   "source": [
    "## Load partition files"
   ]
  },
  {
   "cell_type": "code",
   "execution_count": 8,
   "metadata": {
    "execution": {
     "iopub.execute_input": "2021-05-08T21:05:17.841341Z",
     "iopub.status.busy": "2021-05-08T21:05:17.840983Z",
     "iopub.status.idle": "2021-05-08T21:05:17.849428Z",
     "shell.execute_reply": "2021-05-08T21:05:17.849052Z"
    },
    "papermill": {
     "duration": 0.023748,
     "end_time": "2021-05-08T21:05:17.849512",
     "exception": false,
     "start_time": "2021-05-08T21:05:17.825764",
     "status": "completed"
    },
    "tags": []
   },
   "outputs": [
    {
     "data": {
      "text/plain": [
       "PosixPath('/home/miltondp/projects/labs/greenelab/phenoplier/base/results/clustering/runs')"
      ]
     },
     "metadata": {},
     "output_type": "display_data"
    }
   ],
   "source": [
    "input_dir = Path(\n",
    "    conf.RESULTS[\"CLUSTERING_RUNS_DIR\"],\n",
    ").resolve()\n",
    "display(input_dir)"
   ]
  },
  {
   "cell_type": "code",
   "execution_count": 9,
   "metadata": {
    "execution": {
     "iopub.execute_input": "2021-05-08T21:05:17.879669Z",
     "iopub.status.busy": "2021-05-08T21:05:17.879309Z",
     "iopub.status.idle": "2021-05-08T21:05:17.886608Z",
     "shell.execute_reply": "2021-05-08T21:05:17.886883Z"
    },
    "papermill": {
     "duration": 0.023611,
     "end_time": "2021-05-08T21:05:17.886982",
     "exception": false,
     "start_time": "2021-05-08T21:05:17.863371",
     "status": "completed"
    },
    "tags": []
   },
   "outputs": [],
   "source": [
    "included_pkl_files = []\n",
    "\n",
    "for pkl_file in input_dir.rglob(\"*.pkl\"):\n",
    "    pkl_file_str = str(pkl_file)\n",
    "\n",
    "    # skip stability pkl files\n",
    "    if \"-stability-\" in pkl_file_str:\n",
    "        continue\n",
    "\n",
    "    included_pkl_files.append(pkl_file)"
   ]
  },
  {
   "cell_type": "code",
   "execution_count": 10,
   "metadata": {
    "execution": {
     "iopub.execute_input": "2021-05-08T21:05:17.916791Z",
     "iopub.status.busy": "2021-05-08T21:05:17.916386Z",
     "iopub.status.idle": "2021-05-08T21:05:17.924365Z",
     "shell.execute_reply": "2021-05-08T21:05:17.923994Z"
    },
    "papermill": {
     "duration": 0.023587,
     "end_time": "2021-05-08T21:05:17.924448",
     "exception": false,
     "start_time": "2021-05-08T21:05:17.900861",
     "status": "completed"
    },
    "tags": []
   },
   "outputs": [
    {
     "data": {
      "text/plain": [
       "15"
      ]
     },
     "metadata": {},
     "output_type": "display_data"
    }
   ],
   "source": [
    "display(len(included_pkl_files))\n",
    "\n",
    "# 5 algorithms, 3 dataset versions\n",
    "assert len(included_pkl_files) == 5 * 3"
   ]
  },
  {
   "cell_type": "markdown",
   "metadata": {
    "papermill": {
     "duration": 0.013464,
     "end_time": "2021-05-08T21:05:17.951781",
     "exception": false,
     "start_time": "2021-05-08T21:05:17.938317",
     "status": "completed"
    },
    "tags": []
   },
   "source": [
    "## Combine partition files to get final ensemble"
   ]
  },
  {
   "cell_type": "code",
   "execution_count": 11,
   "metadata": {
    "execution": {
     "iopub.execute_input": "2021-05-08T21:05:17.981348Z",
     "iopub.status.busy": "2021-05-08T21:05:17.980989Z",
     "iopub.status.idle": "2021-05-08T21:05:17.987959Z",
     "shell.execute_reply": "2021-05-08T21:05:17.987552Z"
    },
    "papermill": {
     "duration": 0.02263,
     "end_time": "2021-05-08T21:05:17.988042",
     "exception": false,
     "start_time": "2021-05-08T21:05:17.965412",
     "status": "completed"
    },
    "tags": []
   },
   "outputs": [],
   "source": [
    "n_partitions = 0"
   ]
  },
  {
   "cell_type": "code",
   "execution_count": 12,
   "metadata": {
    "execution": {
     "iopub.execute_input": "2021-05-08T21:05:18.018001Z",
     "iopub.status.busy": "2021-05-08T21:05:18.017641Z",
     "iopub.status.idle": "2021-05-08T21:05:18.024646Z",
     "shell.execute_reply": "2021-05-08T21:05:18.024278Z"
    },
    "papermill": {
     "duration": 0.022749,
     "end_time": "2021-05-08T21:05:18.024760",
     "exception": false,
     "start_time": "2021-05-08T21:05:18.002011",
     "status": "completed"
    },
    "tags": []
   },
   "outputs": [],
   "source": [
    "ensembles_list = []"
   ]
  },
  {
   "cell_type": "code",
   "execution_count": 13,
   "metadata": {
    "execution": {
     "iopub.execute_input": "2021-05-08T21:05:18.056675Z",
     "iopub.status.busy": "2021-05-08T21:05:18.056288Z",
     "iopub.status.idle": "2021-05-08T21:05:18.204500Z",
     "shell.execute_reply": "2021-05-08T21:05:18.204071Z"
    },
    "papermill": {
     "duration": 0.165835,
     "end_time": "2021-05-08T21:05:18.204602",
     "exception": false,
     "start_time": "2021-05-08T21:05:18.038767",
     "status": "completed"
    },
    "tags": []
   },
   "outputs": [
    {
     "name": "stdout",
     "output_type": "stream",
     "text": [
      "More partitions than expected in umap-z_score_std-projection-smultixcan-efo_partial-mashr-zscores/DBSCAN.pkl\n",
      "Less partitions than expected in z_score_std-projection-smultixcan-efo_partial-mashr-zscores/DBSCAN.pkl\n",
      "More partitions than expected in pca-z_score_std-projection-smultixcan-efo_partial-mashr-zscores/DBSCAN.pkl\n"
     ]
    }
   ],
   "source": [
    "for ens_file in included_pkl_files:\n",
    "    ens = pd.read_pickle(ens_file)\n",
    "\n",
    "    short_file_path = Path(*ens_file.parts[-2:])\n",
    "\n",
    "    if ens.shape[0] < MIN_ENSEMBLE_SIZE:\n",
    "        print(f\"Less partitions than expected in {short_file_path}\")\n",
    "\n",
    "        # if less partitions than expected, resample with replacement\n",
    "        ens = ens.sample(\n",
    "            n=EXPECTED_ENSEMBLE_SIZE,\n",
    "            replace=True,\n",
    "            random_state=RANDOM_GENERATOR.bit_generator,\n",
    "        )\n",
    "        assert ens.shape[0] == EXPECTED_ENSEMBLE_SIZE\n",
    "\n",
    "    elif ens.shape[0] > MAX_ENSEMBLE_SIZE:\n",
    "        print(f\"More partitions than expected in {short_file_path}\")\n",
    "\n",
    "        # if more partitions than expected, take a smaller sample\n",
    "        ens = ens.sample(\n",
    "            n=EXPECTED_ENSEMBLE_SIZE, random_state=RANDOM_GENERATOR.bit_generator\n",
    "        )\n",
    "        assert ens.shape[0] == EXPECTED_ENSEMBLE_SIZE\n",
    "\n",
    "    ens_full_format = np.concatenate(\n",
    "        ens[\"partition\"].apply(lambda x: x.reshape(1, -1)), axis=0\n",
    "    )\n",
    "\n",
    "    n_partitions += ens_full_format.shape[0]\n",
    "\n",
    "    ensembles_list.append(ens_full_format)"
   ]
  },
  {
   "cell_type": "code",
   "execution_count": 14,
   "metadata": {
    "execution": {
     "iopub.execute_input": "2021-05-08T21:05:18.238915Z",
     "iopub.status.busy": "2021-05-08T21:05:18.238536Z",
     "iopub.status.idle": "2021-05-08T21:05:18.246617Z",
     "shell.execute_reply": "2021-05-08T21:05:18.246235Z"
    },
    "papermill": {
     "duration": 0.024989,
     "end_time": "2021-05-08T21:05:18.246704",
     "exception": false,
     "start_time": "2021-05-08T21:05:18.221715",
     "status": "completed"
    },
    "tags": []
   },
   "outputs": [
    {
     "data": {
      "text/plain": [
       "15"
      ]
     },
     "metadata": {},
     "output_type": "display_data"
    }
   ],
   "source": [
    "display(len(ensembles_list))\n",
    "assert len(ensembles_list) == len(included_pkl_files)"
   ]
  },
  {
   "cell_type": "code",
   "execution_count": 15,
   "metadata": {
    "execution": {
     "iopub.execute_input": "2021-05-08T21:05:18.277759Z",
     "iopub.status.busy": "2021-05-08T21:05:18.277390Z",
     "iopub.status.idle": "2021-05-08T21:05:18.285587Z",
     "shell.execute_reply": "2021-05-08T21:05:18.285221Z"
    },
    "papermill": {
     "duration": 0.024197,
     "end_time": "2021-05-08T21:05:18.285667",
     "exception": false,
     "start_time": "2021-05-08T21:05:18.261470",
     "status": "completed"
    },
    "tags": []
   },
   "outputs": [
    {
     "data": {
      "text/plain": [
       "3752"
      ]
     },
     "metadata": {},
     "output_type": "display_data"
    }
   ],
   "source": [
    "n_data_objects = ensembles_list[0].shape[1]\n",
    "display(n_data_objects)"
   ]
  },
  {
   "cell_type": "code",
   "execution_count": 16,
   "metadata": {
    "execution": {
     "iopub.execute_input": "2021-05-08T21:05:18.316723Z",
     "iopub.status.busy": "2021-05-08T21:05:18.316328Z",
     "iopub.status.idle": "2021-05-08T21:05:18.324450Z",
     "shell.execute_reply": "2021-05-08T21:05:18.324088Z"
    },
    "papermill": {
     "duration": 0.024482,
     "end_time": "2021-05-08T21:05:18.324530",
     "exception": false,
     "start_time": "2021-05-08T21:05:18.300048",
     "status": "completed"
    },
    "tags": []
   },
   "outputs": [
    {
     "data": {
      "text/plain": [
       "4428"
      ]
     },
     "metadata": {},
     "output_type": "display_data"
    }
   ],
   "source": [
    "display(n_partitions)"
   ]
  },
  {
   "cell_type": "code",
   "execution_count": 17,
   "metadata": {
    "execution": {
     "iopub.execute_input": "2021-05-08T21:05:18.356511Z",
     "iopub.status.busy": "2021-05-08T21:05:18.356157Z",
     "iopub.status.idle": "2021-05-08T21:05:18.571527Z",
     "shell.execute_reply": "2021-05-08T21:05:18.571853Z"
    },
    "papermill": {
     "duration": 0.232269,
     "end_time": "2021-05-08T21:05:18.571973",
     "exception": false,
     "start_time": "2021-05-08T21:05:18.339704",
     "status": "completed"
    },
    "tags": []
   },
   "outputs": [],
   "source": [
    "full_ensemble = ensembles_list[0]\n",
    "for ens in ensembles_list[1:]:\n",
    "    full_ensemble = np.concatenate((full_ensemble, ens), axis=0)"
   ]
  },
  {
   "cell_type": "code",
   "execution_count": 18,
   "metadata": {
    "execution": {
     "iopub.execute_input": "2021-05-08T21:05:18.605720Z",
     "iopub.status.busy": "2021-05-08T21:05:18.605344Z",
     "iopub.status.idle": "2021-05-08T21:05:18.613257Z",
     "shell.execute_reply": "2021-05-08T21:05:18.612921Z"
    },
    "papermill": {
     "duration": 0.025171,
     "end_time": "2021-05-08T21:05:18.613344",
     "exception": false,
     "start_time": "2021-05-08T21:05:18.588173",
     "status": "completed"
    },
    "tags": []
   },
   "outputs": [
    {
     "data": {
      "text/plain": [
       "(4428, 3752)"
      ]
     },
     "metadata": {},
     "output_type": "display_data"
    }
   ],
   "source": [
    "display(full_ensemble.shape)\n",
    "assert full_ensemble.shape == (n_partitions, n_data_objects)"
   ]
  },
  {
   "cell_type": "markdown",
   "metadata": {
    "papermill": {
     "duration": 0.014714,
     "end_time": "2021-05-08T21:05:18.643661",
     "exception": false,
     "start_time": "2021-05-08T21:05:18.628947",
     "status": "completed"
    },
    "tags": []
   },
   "source": [
    "## Save"
   ]
  },
  {
   "cell_type": "code",
   "execution_count": 19,
   "metadata": {
    "execution": {
     "iopub.execute_input": "2021-05-08T21:05:18.675543Z",
     "iopub.status.busy": "2021-05-08T21:05:18.675169Z",
     "iopub.status.idle": "2021-05-08T21:05:18.683316Z",
     "shell.execute_reply": "2021-05-08T21:05:18.682941Z"
    },
    "papermill": {
     "duration": 0.025059,
     "end_time": "2021-05-08T21:05:18.683400",
     "exception": false,
     "start_time": "2021-05-08T21:05:18.658341",
     "status": "completed"
    },
    "tags": []
   },
   "outputs": [
    {
     "data": {
      "text/plain": [
       "PosixPath('/home/miltondp/projects/labs/greenelab/phenoplier/base/results/clustering/consensus_clustering/ensemble.npy')"
      ]
     },
     "metadata": {},
     "output_type": "display_data"
    }
   ],
   "source": [
    "output_file = Path(RESULTS_DIR, \"ensemble.npy\").resolve()\n",
    "display(output_file)"
   ]
  },
  {
   "cell_type": "code",
   "execution_count": 20,
   "metadata": {
    "execution": {
     "iopub.execute_input": "2021-05-08T21:05:18.716184Z",
     "iopub.status.busy": "2021-05-08T21:05:18.715811Z",
     "iopub.status.idle": "2021-05-08T21:05:18.724106Z",
     "shell.execute_reply": "2021-05-08T21:05:18.723746Z"
    },
    "papermill": {
     "duration": 0.025352,
     "end_time": "2021-05-08T21:05:18.724188",
     "exception": false,
     "start_time": "2021-05-08T21:05:18.698836",
     "status": "completed"
    },
    "tags": []
   },
   "outputs": [
    {
     "data": {
      "text/plain": [
       "array([[1., 0., 0., ..., 1., 1., 0.],\n",
       "       [1., 0., 0., ..., 1., 1., 0.],\n",
       "       [1., 0., 0., ..., 1., 1., 0.],\n",
       "       ...,\n",
       "       [0., 0., 0., ..., 0., 0., 0.],\n",
       "       [0., 0., 0., ..., 0., 0., 0.],\n",
       "       [0., 0., 0., ..., 0., 0., 0.]])"
      ]
     },
     "execution_count": 20,
     "metadata": {},
     "output_type": "execute_result"
    }
   ],
   "source": [
    "full_ensemble"
   ]
  },
  {
   "cell_type": "code",
   "execution_count": 21,
   "metadata": {
    "execution": {
     "iopub.execute_input": "2021-05-08T21:05:18.756746Z",
     "iopub.status.busy": "2021-05-08T21:05:18.756288Z",
     "iopub.status.idle": "2021-05-08T21:05:18.836364Z",
     "shell.execute_reply": "2021-05-08T21:05:18.835992Z"
    },
    "papermill": {
     "duration": 0.097019,
     "end_time": "2021-05-08T21:05:18.836459",
     "exception": false,
     "start_time": "2021-05-08T21:05:18.739440",
     "status": "completed"
    },
    "tags": []
   },
   "outputs": [],
   "source": [
    "np.save(output_file, full_ensemble)"
   ]
  },
  {
   "cell_type": "markdown",
   "metadata": {
    "papermill": {
     "duration": 0.016342,
     "end_time": "2021-05-08T21:05:18.869478",
     "exception": false,
     "start_time": "2021-05-08T21:05:18.853136",
     "status": "completed"
    },
    "tags": []
   },
   "source": [
    "# Get coassociation matrix from ensemble"
   ]
  },
  {
   "cell_type": "markdown",
   "metadata": {
    "papermill": {
     "duration": 0.014748,
     "end_time": "2021-05-08T21:05:18.899678",
     "exception": false,
     "start_time": "2021-05-08T21:05:18.884930",
     "status": "completed"
    },
    "tags": []
   },
   "source": [
    "The coassociation matrix is a distance matrix derived from the ensemble, where each cell represents the percentage of times a pair of objects (traits and diseases in this case) were not clustered together. It serves as an input for any consensus function (basically, another clustering algorithm) to derive a consensus partition."
   ]
  },
  {
   "cell_type": "code",
   "execution_count": 22,
   "metadata": {
    "execution": {
     "iopub.execute_input": "2021-05-08T21:05:18.932146Z",
     "iopub.status.busy": "2021-05-08T21:05:18.931791Z",
     "iopub.status.idle": "2021-05-08T21:05:19.205428Z",
     "shell.execute_reply": "2021-05-08T21:05:19.205120Z"
    },
    "papermill": {
     "duration": 0.290867,
     "end_time": "2021-05-08T21:05:19.205513",
     "exception": false,
     "start_time": "2021-05-08T21:05:18.914646",
     "status": "completed"
    },
    "tags": []
   },
   "outputs": [],
   "source": [
    "from clustering.ensembles.utils import get_ensemble_distance_matrix"
   ]
  },
  {
   "cell_type": "code",
   "execution_count": 23,
   "metadata": {
    "execution": {
     "iopub.execute_input": "2021-05-08T21:05:19.238603Z",
     "iopub.status.busy": "2021-05-08T21:05:19.238245Z",
     "iopub.status.idle": "2021-05-08T21:19:43.784050Z",
     "shell.execute_reply": "2021-05-08T21:19:43.783559Z"
    },
    "papermill": {
     "duration": 864.563223,
     "end_time": "2021-05-08T21:19:43.784153",
     "exception": false,
     "start_time": "2021-05-08T21:05:19.220930",
     "status": "completed"
    },
    "tags": []
   },
   "outputs": [],
   "source": [
    "ensemble_coassoc_matrix = get_ensemble_distance_matrix(\n",
    "    full_ensemble,\n",
    "    n_jobs=conf.GENERAL[\"N_JOBS\"],\n",
    ")"
   ]
  },
  {
   "cell_type": "code",
   "execution_count": 24,
   "metadata": {
    "execution": {
     "iopub.execute_input": "2021-05-08T21:19:43.821990Z",
     "iopub.status.busy": "2021-05-08T21:19:43.821602Z",
     "iopub.status.idle": "2021-05-08T21:19:43.831520Z",
     "shell.execute_reply": "2021-05-08T21:19:43.831190Z"
    },
    "papermill": {
     "duration": 0.028682,
     "end_time": "2021-05-08T21:19:43.831612",
     "exception": false,
     "start_time": "2021-05-08T21:19:43.802930",
     "status": "completed"
    },
    "tags": []
   },
   "outputs": [
    {
     "data": {
      "text/plain": [
       "(3752, 3752)"
      ]
     },
     "execution_count": 24,
     "metadata": {},
     "output_type": "execute_result"
    }
   ],
   "source": [
    "ensemble_coassoc_matrix.shape"
   ]
  },
  {
   "cell_type": "code",
   "execution_count": 25,
   "metadata": {
    "execution": {
     "iopub.execute_input": "2021-05-08T21:19:43.866331Z",
     "iopub.status.busy": "2021-05-08T21:19:43.865925Z",
     "iopub.status.idle": "2021-05-08T21:19:43.877494Z",
     "shell.execute_reply": "2021-05-08T21:19:43.877870Z"
    },
    "papermill": {
     "duration": 0.029906,
     "end_time": "2021-05-08T21:19:43.878015",
     "exception": false,
     "start_time": "2021-05-08T21:19:43.848109",
     "status": "completed"
    },
    "tags": []
   },
   "outputs": [
    {
     "data": {
      "text/plain": [
       "array([[0.        , 0.31497143, 0.328     , ..., 0.47951098, 0.41141688,\n",
       "        0.64433341],\n",
       "       [0.31497143, 0.        , 0.04153355, ..., 0.67868553, 0.6486054 ,\n",
       "        0.67496005],\n",
       "       [0.328     , 0.04153355, 0.        , ..., 0.66408033, 0.64220393,\n",
       "        0.67701438],\n",
       "       ...,\n",
       "       [0.47951098, 0.67868553, 0.66408033, ..., 0.        , 0.48558456,\n",
       "        0.51122195],\n",
       "       [0.41141688, 0.6486054 , 0.64220393, ..., 0.48558456, 0.        ,\n",
       "        0.66749943],\n",
       "       [0.64433341, 0.67496005, 0.67701438, ..., 0.51122195, 0.66749943,\n",
       "        0.        ]])"
      ]
     },
     "execution_count": 25,
     "metadata": {},
     "output_type": "execute_result"
    }
   ],
   "source": [
    "ensemble_coassoc_matrix"
   ]
  },
  {
   "cell_type": "markdown",
   "metadata": {
    "papermill": {
     "duration": 0.016845,
     "end_time": "2021-05-08T21:19:43.914543",
     "exception": false,
     "start_time": "2021-05-08T21:19:43.897698",
     "status": "completed"
    },
    "tags": []
   },
   "source": [
    "## Save"
   ]
  },
  {
   "cell_type": "code",
   "execution_count": 26,
   "metadata": {
    "execution": {
     "iopub.execute_input": "2021-05-08T21:19:43.948193Z",
     "iopub.status.busy": "2021-05-08T21:19:43.947832Z",
     "iopub.status.idle": "2021-05-08T21:19:43.957065Z",
     "shell.execute_reply": "2021-05-08T21:19:43.957366Z"
    },
    "papermill": {
     "duration": 0.027181,
     "end_time": "2021-05-08T21:19:43.957468",
     "exception": false,
     "start_time": "2021-05-08T21:19:43.930287",
     "status": "completed"
    },
    "tags": []
   },
   "outputs": [
    {
     "data": {
      "text/plain": [
       "PosixPath('/home/miltondp/projects/labs/greenelab/phenoplier/base/results/clustering/consensus_clustering/ensemble_coassoc_matrix.npy')"
      ]
     },
     "metadata": {},
     "output_type": "display_data"
    }
   ],
   "source": [
    "output_file = Path(RESULTS_DIR, \"ensemble_coassoc_matrix.npy\").resolve()\n",
    "display(output_file)"
   ]
  },
  {
   "cell_type": "code",
   "execution_count": 27,
   "metadata": {
    "execution": {
     "iopub.execute_input": "2021-05-08T21:19:43.991867Z",
     "iopub.status.busy": "2021-05-08T21:19:43.991512Z",
     "iopub.status.idle": "2021-05-08T21:19:44.063165Z",
     "shell.execute_reply": "2021-05-08T21:19:44.062812Z"
    },
    "papermill": {
     "duration": 0.08996,
     "end_time": "2021-05-08T21:19:44.063262",
     "exception": false,
     "start_time": "2021-05-08T21:19:43.973302",
     "status": "completed"
    },
    "tags": []
   },
   "outputs": [],
   "source": [
    "np.save(output_file, ensemble_coassoc_matrix)"
   ]
  },
  {
   "cell_type": "code",
   "execution_count": null,
   "metadata": {
    "papermill": {
     "duration": 0.016965,
     "end_time": "2021-05-08T21:19:44.097781",
     "exception": false,
     "start_time": "2021-05-08T21:19:44.080816",
     "status": "completed"
    },
    "tags": []
   },
   "outputs": [],
   "source": []
  }
 ],
 "metadata": {
  "jupytext": {
   "cell_metadata_filter": "all,-execution,-papermill",
   "formats": "ipynb,py//py:percent"
  },
  "kernelspec": {
   "display_name": "Python 3",
   "language": "python",
   "name": "python3"
  },
  "language_info": {
   "codemirror_mode": {
    "name": "ipython",
    "version": 3
   },
   "file_extension": ".py",
   "mimetype": "text/x-python",
   "name": "python",
   "nbconvert_exporter": "python",
   "pygments_lexer": "ipython3",
   "version": "3.8.8"
  },
  "papermill": {
   "default_parameters": {},
   "duration": 868.27961,
   "end_time": "2021-05-08T21:19:44.419022",
   "environment_variables": {},
   "exception": null,
   "input_path": "16_consensus_clustering/020_00-generate_ensemble.ipynb",
   "output_path": "16_consensus_clustering/020_00-generate_ensemble.run.ipynb",
   "parameters": {},
   "start_time": "2021-05-08T21:05:16.139412",
   "version": "2.2.2"
  },
  "toc-autonumbering": true,
  "toc-showcode": false,
  "toc-showmarkdowntxt": false,
  "toc-showtags": false
 },
 "nbformat": 4,
 "nbformat_minor": 4
}
