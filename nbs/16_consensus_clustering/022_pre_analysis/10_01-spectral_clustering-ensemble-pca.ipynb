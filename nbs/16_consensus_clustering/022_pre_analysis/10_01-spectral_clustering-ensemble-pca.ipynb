{
 "cells": [
  {
   "cell_type": "markdown",
   "metadata": {
    "papermill": {
     "duration": 0.019742,
     "end_time": "2021-03-11T03:01:24.646823",
     "exception": false,
     "start_time": "2021-03-11T03:01:24.627081",
     "status": "completed"
    },
    "tags": []
   },
   "source": [
    "# Description"
   ]
  },
  {
   "cell_type": "markdown",
   "metadata": {
    "papermill": {
     "duration": 0.015545,
     "end_time": "2021-03-11T03:01:24.677778",
     "exception": false,
     "start_time": "2021-03-11T03:01:24.662233",
     "status": "completed"
    },
    "tags": []
   },
   "source": [
    "See description in notebook `10_00-spectral_clustering...`."
   ]
  },
  {
   "cell_type": "markdown",
   "metadata": {
    "papermill": {
     "duration": 0.015554,
     "end_time": "2021-03-11T03:01:24.708967",
     "exception": false,
     "start_time": "2021-03-11T03:01:24.693413",
     "status": "completed"
    },
    "tags": []
   },
   "source": [
    "# Environment variables"
   ]
  },
  {
   "cell_type": "code",
   "execution_count": 1,
   "metadata": {
    "execution": {
     "iopub.execute_input": "2021-03-11T03:01:24.745518Z",
     "iopub.status.busy": "2021-03-11T03:01:24.745131Z",
     "iopub.status.idle": "2021-03-11T03:01:24.756064Z",
     "shell.execute_reply": "2021-03-11T03:01:24.755645Z"
    },
    "papermill": {
     "duration": 0.031859,
     "end_time": "2021-03-11T03:01:24.756156",
     "exception": false,
     "start_time": "2021-03-11T03:01:24.724297",
     "status": "completed"
    },
    "tags": []
   },
   "outputs": [
    {
     "data": {
      "text/plain": [
       "3"
      ]
     },
     "metadata": {},
     "output_type": "display_data"
    }
   ],
   "source": [
    "from IPython.display import display\n",
    "\n",
    "import conf\n",
    "\n",
    "N_JOBS = conf.GENERAL[\"N_JOBS\"]\n",
    "display(N_JOBS)"
   ]
  },
  {
   "cell_type": "code",
   "execution_count": 2,
   "metadata": {
    "execution": {
     "iopub.execute_input": "2021-03-11T03:01:24.793073Z",
     "iopub.status.busy": "2021-03-11T03:01:24.792637Z",
     "iopub.status.idle": "2021-03-11T03:01:24.795147Z",
     "shell.execute_reply": "2021-03-11T03:01:24.794837Z"
    },
    "papermill": {
     "duration": 0.022746,
     "end_time": "2021-03-11T03:01:24.795230",
     "exception": false,
     "start_time": "2021-03-11T03:01:24.772484",
     "status": "completed"
    },
    "tags": []
   },
   "outputs": [
    {
     "name": "stdout",
     "output_type": "stream",
     "text": [
      "env: MKL_NUM_THREADS=3\n",
      "env: OPEN_BLAS_NUM_THREADS=3\n",
      "env: NUMEXPR_NUM_THREADS=3\n",
      "env: OMP_NUM_THREADS=3\n"
     ]
    }
   ],
   "source": [
    "%env MKL_NUM_THREADS=$N_JOBS\n",
    "%env OPEN_BLAS_NUM_THREADS=$N_JOBS\n",
    "%env NUMEXPR_NUM_THREADS=$N_JOBS\n",
    "%env OMP_NUM_THREADS=$N_JOBS"
   ]
  },
  {
   "cell_type": "markdown",
   "metadata": {
    "papermill": {
     "duration": 0.0162,
     "end_time": "2021-03-11T03:01:24.827706",
     "exception": false,
     "start_time": "2021-03-11T03:01:24.811506",
     "status": "completed"
    },
    "tags": []
   },
   "source": [
    "# Modules loading"
   ]
  },
  {
   "cell_type": "code",
   "execution_count": 3,
   "metadata": {
    "execution": {
     "iopub.execute_input": "2021-03-11T03:01:24.862941Z",
     "iopub.status.busy": "2021-03-11T03:01:24.862581Z",
     "iopub.status.idle": "2021-03-11T03:01:24.870077Z",
     "shell.execute_reply": "2021-03-11T03:01:24.869705Z"
    },
    "papermill": {
     "duration": 0.026396,
     "end_time": "2021-03-11T03:01:24.870163",
     "exception": false,
     "start_time": "2021-03-11T03:01:24.843767",
     "status": "completed"
    },
    "tags": []
   },
   "outputs": [],
   "source": [
    "%load_ext autoreload\n",
    "%autoreload 2"
   ]
  },
  {
   "cell_type": "code",
   "execution_count": 4,
   "metadata": {
    "execution": {
     "iopub.execute_input": "2021-03-11T03:01:24.906621Z",
     "iopub.status.busy": "2021-03-11T03:01:24.906264Z",
     "iopub.status.idle": "2021-03-11T03:01:25.491657Z",
     "shell.execute_reply": "2021-03-11T03:01:25.491270Z"
    },
    "papermill": {
     "duration": 0.604766,
     "end_time": "2021-03-11T03:01:25.491770",
     "exception": false,
     "start_time": "2021-03-11T03:01:24.887004",
     "status": "completed"
    },
    "tags": []
   },
   "outputs": [],
   "source": [
    "from pathlib import Path\n",
    "\n",
    "import numpy as np\n",
    "import pandas as pd\n",
    "import matplotlib.pyplot as plt\n",
    "import seaborn as sns\n",
    "\n",
    "from utils import generate_result_set_name"
   ]
  },
  {
   "cell_type": "markdown",
   "metadata": {
    "papermill": {
     "duration": 0.017282,
     "end_time": "2021-03-11T03:01:25.529056",
     "exception": false,
     "start_time": "2021-03-11T03:01:25.511774",
     "status": "completed"
    },
    "tags": []
   },
   "source": [
    "# Settings"
   ]
  },
  {
   "cell_type": "code",
   "execution_count": 5,
   "metadata": {
    "execution": {
     "iopub.execute_input": "2021-03-11T03:01:25.563558Z",
     "iopub.status.busy": "2021-03-11T03:01:25.563184Z",
     "iopub.status.idle": "2021-03-11T03:01:25.572814Z",
     "shell.execute_reply": "2021-03-11T03:01:25.572398Z"
    },
    "papermill": {
     "duration": 0.027909,
     "end_time": "2021-03-11T03:01:25.572901",
     "exception": false,
     "start_time": "2021-03-11T03:01:25.544992",
     "status": "completed"
    },
    "tags": []
   },
   "outputs": [],
   "source": [
    "INITIAL_RANDOM_STATE = 100000"
   ]
  },
  {
   "cell_type": "code",
   "execution_count": 6,
   "metadata": {
    "execution": {
     "iopub.execute_input": "2021-03-11T03:01:25.607391Z",
     "iopub.status.busy": "2021-03-11T03:01:25.607036Z",
     "iopub.status.idle": "2021-03-11T03:01:25.616210Z",
     "shell.execute_reply": "2021-03-11T03:01:25.615914Z"
    },
    "papermill": {
     "duration": 0.027125,
     "end_time": "2021-03-11T03:01:25.616297",
     "exception": false,
     "start_time": "2021-03-11T03:01:25.589172",
     "status": "completed"
    },
    "tags": []
   },
   "outputs": [],
   "source": [
    "CLUSTERING_METHOD_NAME = \"DeltaSpectralClustering\""
   ]
  },
  {
   "cell_type": "code",
   "execution_count": 7,
   "metadata": {
    "execution": {
     "iopub.execute_input": "2021-03-11T03:01:25.651287Z",
     "iopub.status.busy": "2021-03-11T03:01:25.650918Z",
     "iopub.status.idle": "2021-03-11T03:01:25.661042Z",
     "shell.execute_reply": "2021-03-11T03:01:25.660664Z"
    },
    "papermill": {
     "duration": 0.028451,
     "end_time": "2021-03-11T03:01:25.661127",
     "exception": false,
     "start_time": "2021-03-11T03:01:25.632676",
     "status": "completed"
    },
    "tags": []
   },
   "outputs": [
    {
     "data": {
      "text/plain": [
       "PosixPath('/home/miltondp/projects/labs/greenelab/phenoplier/base/results/clustering/consensus_clustering')"
      ]
     },
     "metadata": {},
     "output_type": "display_data"
    }
   ],
   "source": [
    "# output dir for this notebook\n",
    "CONSENSUS_CLUSTERING_DIR = Path(\n",
    "    conf.RESULTS[\"CLUSTERING_DIR\"], \"consensus_clustering\"\n",
    ").resolve()\n",
    "\n",
    "display(CONSENSUS_CLUSTERING_DIR)"
   ]
  },
  {
   "cell_type": "markdown",
   "metadata": {
    "papermill": {
     "duration": 0.01616,
     "end_time": "2021-03-11T03:01:25.693925",
     "exception": false,
     "start_time": "2021-03-11T03:01:25.677765",
     "status": "completed"
    },
    "tags": []
   },
   "source": [
    "# Load data"
   ]
  },
  {
   "cell_type": "code",
   "execution_count": 8,
   "metadata": {
    "execution": {
     "iopub.execute_input": "2021-03-11T03:01:25.728208Z",
     "iopub.status.busy": "2021-03-11T03:01:25.727852Z",
     "iopub.status.idle": "2021-03-11T03:01:25.737204Z",
     "shell.execute_reply": "2021-03-11T03:01:25.736700Z"
    },
    "papermill": {
     "duration": 0.027357,
     "end_time": "2021-03-11T03:01:25.737288",
     "exception": false,
     "start_time": "2021-03-11T03:01:25.709931",
     "status": "completed"
    },
    "tags": []
   },
   "outputs": [],
   "source": [
    "INPUT_SUBSET = \"pca\""
   ]
  },
  {
   "cell_type": "code",
   "execution_count": 9,
   "metadata": {
    "execution": {
     "iopub.execute_input": "2021-03-11T03:01:25.773093Z",
     "iopub.status.busy": "2021-03-11T03:01:25.772655Z",
     "iopub.status.idle": "2021-03-11T03:01:25.781913Z",
     "shell.execute_reply": "2021-03-11T03:01:25.781527Z"
    },
    "papermill": {
     "duration": 0.028143,
     "end_time": "2021-03-11T03:01:25.781999",
     "exception": false,
     "start_time": "2021-03-11T03:01:25.753856",
     "status": "completed"
    },
    "tags": []
   },
   "outputs": [],
   "source": [
    "INPUT_STEM = \"z_score_std-projection-smultixcan-efo_partial-mashr-zscores\""
   ]
  },
  {
   "cell_type": "code",
   "execution_count": 10,
   "metadata": {
    "execution": {
     "iopub.execute_input": "2021-03-11T03:01:25.818315Z",
     "iopub.status.busy": "2021-03-11T03:01:25.817960Z",
     "iopub.status.idle": "2021-03-11T03:01:25.827474Z",
     "shell.execute_reply": "2021-03-11T03:01:25.827154Z"
    },
    "papermill": {
     "duration": 0.028514,
     "end_time": "2021-03-11T03:01:25.827566",
     "exception": false,
     "start_time": "2021-03-11T03:01:25.799052",
     "status": "completed"
    },
    "tags": []
   },
   "outputs": [],
   "source": [
    "DR_OPTIONS = {\n",
    "    \"n_components\": 50,\n",
    "    \"svd_solver\": \"full\",\n",
    "    \"random_state\": 0,\n",
    "}"
   ]
  },
  {
   "cell_type": "code",
   "execution_count": 11,
   "metadata": {
    "execution": {
     "iopub.execute_input": "2021-03-11T03:01:25.865941Z",
     "iopub.status.busy": "2021-03-11T03:01:25.865580Z",
     "iopub.status.idle": "2021-03-11T03:01:25.876196Z",
     "shell.execute_reply": "2021-03-11T03:01:25.876496Z"
    },
    "papermill": {
     "duration": 0.031217,
     "end_time": "2021-03-11T03:01:25.876599",
     "exception": false,
     "start_time": "2021-03-11T03:01:25.845382",
     "status": "completed"
    },
    "tags": []
   },
   "outputs": [
    {
     "data": {
      "text/plain": [
       "PosixPath('/home/miltondp/projects/labs/greenelab/phenoplier/base/results/data_transformations/pca/pca-z_score_std-projection-smultixcan-efo_partial-mashr-zscores-n_components_50-random_state_0-svd_solver_full.pkl')"
      ]
     },
     "metadata": {},
     "output_type": "display_data"
    },
    {
     "data": {
      "text/plain": [
       "'pca-z_score_std-projection-smultixcan-efo_partial-mashr-zscores-n_components_50-random_state_0-svd_solver_full'"
      ]
     },
     "metadata": {},
     "output_type": "display_data"
    }
   ],
   "source": [
    "input_filepath = Path(\n",
    "    conf.RESULTS[\"DATA_TRANSFORMATIONS_DIR\"],\n",
    "    INPUT_SUBSET,\n",
    "    generate_result_set_name(\n",
    "        DR_OPTIONS, prefix=f\"{INPUT_SUBSET}-{INPUT_STEM}-\", suffix=\".pkl\"\n",
    "    ),\n",
    ").resolve()\n",
    "display(input_filepath)\n",
    "\n",
    "assert input_filepath.exists(), \"Input file does not exist\"\n",
    "\n",
    "input_filepath_stem = input_filepath.stem\n",
    "display(input_filepath_stem)"
   ]
  },
  {
   "cell_type": "code",
   "execution_count": 12,
   "metadata": {
    "execution": {
     "iopub.execute_input": "2021-03-11T03:01:25.914305Z",
     "iopub.status.busy": "2021-03-11T03:01:25.913918Z",
     "iopub.status.idle": "2021-03-11T03:01:25.925051Z",
     "shell.execute_reply": "2021-03-11T03:01:25.924632Z"
    },
    "papermill": {
     "duration": 0.030981,
     "end_time": "2021-03-11T03:01:25.925141",
     "exception": false,
     "start_time": "2021-03-11T03:01:25.894160",
     "status": "completed"
    },
    "tags": []
   },
   "outputs": [],
   "source": [
    "data = pd.read_pickle(input_filepath)"
   ]
  },
  {
   "cell_type": "code",
   "execution_count": 13,
   "metadata": {
    "execution": {
     "iopub.execute_input": "2021-03-11T03:01:25.962623Z",
     "iopub.status.busy": "2021-03-11T03:01:25.962260Z",
     "iopub.status.idle": "2021-03-11T03:01:25.971997Z",
     "shell.execute_reply": "2021-03-11T03:01:25.972289Z"
    },
    "papermill": {
     "duration": 0.029518,
     "end_time": "2021-03-11T03:01:25.972394",
     "exception": false,
     "start_time": "2021-03-11T03:01:25.942876",
     "status": "completed"
    },
    "tags": []
   },
   "outputs": [
    {
     "data": {
      "text/plain": [
       "(3752, 50)"
      ]
     },
     "execution_count": 13,
     "metadata": {},
     "output_type": "execute_result"
    }
   ],
   "source": [
    "data.shape"
   ]
  },
  {
   "cell_type": "code",
   "execution_count": 14,
   "metadata": {
    "execution": {
     "iopub.execute_input": "2021-03-11T03:01:26.009312Z",
     "iopub.status.busy": "2021-03-11T03:01:26.008946Z",
     "iopub.status.idle": "2021-03-11T03:01:26.031133Z",
     "shell.execute_reply": "2021-03-11T03:01:26.030764Z"
    },
    "papermill": {
     "duration": 0.041249,
     "end_time": "2021-03-11T03:01:26.031221",
     "exception": false,
     "start_time": "2021-03-11T03:01:25.989972",
     "status": "completed"
    },
    "tags": []
   },
   "outputs": [
    {
     "data": {
      "text/html": [
       "<div>\n",
       "<style scoped>\n",
       "    .dataframe tbody tr th:only-of-type {\n",
       "        vertical-align: middle;\n",
       "    }\n",
       "\n",
       "    .dataframe tbody tr th {\n",
       "        vertical-align: top;\n",
       "    }\n",
       "\n",
       "    .dataframe thead th {\n",
       "        text-align: right;\n",
       "    }\n",
       "</style>\n",
       "<table border=\"1\" class=\"dataframe\">\n",
       "  <thead>\n",
       "    <tr style=\"text-align: right;\">\n",
       "      <th></th>\n",
       "      <th>PCA1</th>\n",
       "      <th>PCA2</th>\n",
       "      <th>PCA3</th>\n",
       "      <th>PCA4</th>\n",
       "      <th>PCA5</th>\n",
       "      <th>PCA6</th>\n",
       "      <th>PCA7</th>\n",
       "      <th>PCA8</th>\n",
       "      <th>PCA9</th>\n",
       "      <th>PCA10</th>\n",
       "      <th>...</th>\n",
       "      <th>PCA41</th>\n",
       "      <th>PCA42</th>\n",
       "      <th>PCA43</th>\n",
       "      <th>PCA44</th>\n",
       "      <th>PCA45</th>\n",
       "      <th>PCA46</th>\n",
       "      <th>PCA47</th>\n",
       "      <th>PCA48</th>\n",
       "      <th>PCA49</th>\n",
       "      <th>PCA50</th>\n",
       "    </tr>\n",
       "  </thead>\n",
       "  <tbody>\n",
       "    <tr>\n",
       "      <th>100001_raw-Food_weight</th>\n",
       "      <td>0.805216</td>\n",
       "      <td>-0.865390</td>\n",
       "      <td>0.699480</td>\n",
       "      <td>-0.065976</td>\n",
       "      <td>0.999617</td>\n",
       "      <td>-0.418645</td>\n",
       "      <td>1.993288</td>\n",
       "      <td>-0.346875</td>\n",
       "      <td>-1.522978</td>\n",
       "      <td>-2.382791</td>\n",
       "      <td>...</td>\n",
       "      <td>0.777932</td>\n",
       "      <td>0.507896</td>\n",
       "      <td>0.693668</td>\n",
       "      <td>1.024260</td>\n",
       "      <td>0.189606</td>\n",
       "      <td>-1.661826</td>\n",
       "      <td>0.281234</td>\n",
       "      <td>-0.096792</td>\n",
       "      <td>-0.339508</td>\n",
       "      <td>0.041431</td>\n",
       "    </tr>\n",
       "    <tr>\n",
       "      <th>100002_raw-Energy</th>\n",
       "      <td>0.588507</td>\n",
       "      <td>-1.491772</td>\n",
       "      <td>1.756340</td>\n",
       "      <td>-3.593295</td>\n",
       "      <td>2.100607</td>\n",
       "      <td>0.364910</td>\n",
       "      <td>1.254815</td>\n",
       "      <td>2.028484</td>\n",
       "      <td>-0.357607</td>\n",
       "      <td>-4.832726</td>\n",
       "      <td>...</td>\n",
       "      <td>-0.780215</td>\n",
       "      <td>-2.285033</td>\n",
       "      <td>-0.607663</td>\n",
       "      <td>-2.727018</td>\n",
       "      <td>1.711667</td>\n",
       "      <td>-0.535025</td>\n",
       "      <td>2.342068</td>\n",
       "      <td>0.197519</td>\n",
       "      <td>1.636996</td>\n",
       "      <td>-1.114410</td>\n",
       "    </tr>\n",
       "    <tr>\n",
       "      <th>100003_raw-Protein</th>\n",
       "      <td>1.910160</td>\n",
       "      <td>-1.873687</td>\n",
       "      <td>1.876677</td>\n",
       "      <td>-3.832557</td>\n",
       "      <td>1.240704</td>\n",
       "      <td>2.941375</td>\n",
       "      <td>2.293978</td>\n",
       "      <td>0.802473</td>\n",
       "      <td>0.665380</td>\n",
       "      <td>-4.375319</td>\n",
       "      <td>...</td>\n",
       "      <td>-0.547161</td>\n",
       "      <td>0.514721</td>\n",
       "      <td>0.034145</td>\n",
       "      <td>-0.423218</td>\n",
       "      <td>-0.324825</td>\n",
       "      <td>-0.000958</td>\n",
       "      <td>0.294579</td>\n",
       "      <td>1.186937</td>\n",
       "      <td>0.226722</td>\n",
       "      <td>0.169931</td>\n",
       "    </tr>\n",
       "    <tr>\n",
       "      <th>100004_raw-Fat</th>\n",
       "      <td>0.750799</td>\n",
       "      <td>-0.294733</td>\n",
       "      <td>1.317710</td>\n",
       "      <td>-1.346081</td>\n",
       "      <td>2.006403</td>\n",
       "      <td>0.533509</td>\n",
       "      <td>-0.752916</td>\n",
       "      <td>0.937515</td>\n",
       "      <td>-0.572191</td>\n",
       "      <td>-2.451612</td>\n",
       "      <td>...</td>\n",
       "      <td>0.060359</td>\n",
       "      <td>-0.878309</td>\n",
       "      <td>-0.774943</td>\n",
       "      <td>-1.914890</td>\n",
       "      <td>2.559763</td>\n",
       "      <td>1.547267</td>\n",
       "      <td>1.851110</td>\n",
       "      <td>-0.310431</td>\n",
       "      <td>3.495624</td>\n",
       "      <td>-1.595785</td>\n",
       "    </tr>\n",
       "    <tr>\n",
       "      <th>100005_raw-Carbohydrate</th>\n",
       "      <td>-0.530044</td>\n",
       "      <td>-0.007398</td>\n",
       "      <td>0.611418</td>\n",
       "      <td>-3.604094</td>\n",
       "      <td>2.227872</td>\n",
       "      <td>0.051271</td>\n",
       "      <td>0.001135</td>\n",
       "      <td>2.303819</td>\n",
       "      <td>-0.387759</td>\n",
       "      <td>-5.686184</td>\n",
       "      <td>...</td>\n",
       "      <td>-1.110273</td>\n",
       "      <td>-3.032541</td>\n",
       "      <td>-1.223873</td>\n",
       "      <td>-0.945626</td>\n",
       "      <td>2.150276</td>\n",
       "      <td>-1.798716</td>\n",
       "      <td>2.526678</td>\n",
       "      <td>0.716987</td>\n",
       "      <td>0.300972</td>\n",
       "      <td>-0.893854</td>\n",
       "    </tr>\n",
       "  </tbody>\n",
       "</table>\n",
       "<p>5 rows × 50 columns</p>\n",
       "</div>"
      ],
      "text/plain": [
       "                             PCA1      PCA2      PCA3      PCA4      PCA5  \\\n",
       "100001_raw-Food_weight   0.805216 -0.865390  0.699480 -0.065976  0.999617   \n",
       "100002_raw-Energy        0.588507 -1.491772  1.756340 -3.593295  2.100607   \n",
       "100003_raw-Protein       1.910160 -1.873687  1.876677 -3.832557  1.240704   \n",
       "100004_raw-Fat           0.750799 -0.294733  1.317710 -1.346081  2.006403   \n",
       "100005_raw-Carbohydrate -0.530044 -0.007398  0.611418 -3.604094  2.227872   \n",
       "\n",
       "                             PCA6      PCA7      PCA8      PCA9     PCA10  \\\n",
       "100001_raw-Food_weight  -0.418645  1.993288 -0.346875 -1.522978 -2.382791   \n",
       "100002_raw-Energy        0.364910  1.254815  2.028484 -0.357607 -4.832726   \n",
       "100003_raw-Protein       2.941375  2.293978  0.802473  0.665380 -4.375319   \n",
       "100004_raw-Fat           0.533509 -0.752916  0.937515 -0.572191 -2.451612   \n",
       "100005_raw-Carbohydrate  0.051271  0.001135  2.303819 -0.387759 -5.686184   \n",
       "\n",
       "                         ...     PCA41     PCA42     PCA43     PCA44  \\\n",
       "100001_raw-Food_weight   ...  0.777932  0.507896  0.693668  1.024260   \n",
       "100002_raw-Energy        ... -0.780215 -2.285033 -0.607663 -2.727018   \n",
       "100003_raw-Protein       ... -0.547161  0.514721  0.034145 -0.423218   \n",
       "100004_raw-Fat           ...  0.060359 -0.878309 -0.774943 -1.914890   \n",
       "100005_raw-Carbohydrate  ... -1.110273 -3.032541 -1.223873 -0.945626   \n",
       "\n",
       "                            PCA45     PCA46     PCA47     PCA48     PCA49  \\\n",
       "100001_raw-Food_weight   0.189606 -1.661826  0.281234 -0.096792 -0.339508   \n",
       "100002_raw-Energy        1.711667 -0.535025  2.342068  0.197519  1.636996   \n",
       "100003_raw-Protein      -0.324825 -0.000958  0.294579  1.186937  0.226722   \n",
       "100004_raw-Fat           2.559763  1.547267  1.851110 -0.310431  3.495624   \n",
       "100005_raw-Carbohydrate  2.150276 -1.798716  2.526678  0.716987  0.300972   \n",
       "\n",
       "                            PCA50  \n",
       "100001_raw-Food_weight   0.041431  \n",
       "100002_raw-Energy       -1.114410  \n",
       "100003_raw-Protein       0.169931  \n",
       "100004_raw-Fat          -1.595785  \n",
       "100005_raw-Carbohydrate -0.893854  \n",
       "\n",
       "[5 rows x 50 columns]"
      ]
     },
     "execution_count": 14,
     "metadata": {},
     "output_type": "execute_result"
    }
   ],
   "source": [
    "data.head()"
   ]
  },
  {
   "cell_type": "code",
   "execution_count": 15,
   "metadata": {
    "execution": {
     "iopub.execute_input": "2021-03-11T03:01:26.070016Z",
     "iopub.status.busy": "2021-03-11T03:01:26.069610Z",
     "iopub.status.idle": "2021-03-11T03:01:26.079358Z",
     "shell.execute_reply": "2021-03-11T03:01:26.079002Z"
    },
    "papermill": {
     "duration": 0.030596,
     "end_time": "2021-03-11T03:01:26.079453",
     "exception": false,
     "start_time": "2021-03-11T03:01:26.048857",
     "status": "completed"
    },
    "tags": []
   },
   "outputs": [],
   "source": [
    "traits = data.index.tolist()"
   ]
  },
  {
   "cell_type": "code",
   "execution_count": 16,
   "metadata": {
    "execution": {
     "iopub.execute_input": "2021-03-11T03:01:26.118720Z",
     "iopub.status.busy": "2021-03-11T03:01:26.118352Z",
     "iopub.status.idle": "2021-03-11T03:01:26.128340Z",
     "shell.execute_reply": "2021-03-11T03:01:26.127972Z"
    },
    "papermill": {
     "duration": 0.029884,
     "end_time": "2021-03-11T03:01:26.128429",
     "exception": false,
     "start_time": "2021-03-11T03:01:26.098545",
     "status": "completed"
    },
    "tags": []
   },
   "outputs": [
    {
     "data": {
      "text/plain": [
       "3752"
      ]
     },
     "execution_count": 16,
     "metadata": {},
     "output_type": "execute_result"
    }
   ],
   "source": [
    "len(traits)"
   ]
  },
  {
   "cell_type": "markdown",
   "metadata": {
    "papermill": {
     "duration": 0.017416,
     "end_time": "2021-03-11T03:01:26.164254",
     "exception": false,
     "start_time": "2021-03-11T03:01:26.146838",
     "status": "completed"
    },
    "tags": []
   },
   "source": [
    "# Load coassociation matrix (ensemble)"
   ]
  },
  {
   "cell_type": "code",
   "execution_count": 17,
   "metadata": {
    "execution": {
     "iopub.execute_input": "2021-03-11T03:01:26.201651Z",
     "iopub.status.busy": "2021-03-11T03:01:26.201291Z",
     "iopub.status.idle": "2021-03-11T03:01:26.211474Z",
     "shell.execute_reply": "2021-03-11T03:01:26.211106Z"
    },
    "papermill": {
     "duration": 0.029811,
     "end_time": "2021-03-11T03:01:26.211559",
     "exception": false,
     "start_time": "2021-03-11T03:01:26.181748",
     "status": "completed"
    },
    "tags": []
   },
   "outputs": [
    {
     "data": {
      "text/plain": [
       "PosixPath('/home/miltondp/projects/labs/greenelab/phenoplier/base/results/clustering/consensus_clustering/ensemble_coassoc_matrix.npy')"
      ]
     },
     "metadata": {},
     "output_type": "display_data"
    }
   ],
   "source": [
    "input_file = Path(CONSENSUS_CLUSTERING_DIR, \"ensemble_coassoc_matrix.npy\").resolve()\n",
    "display(input_file)"
   ]
  },
  {
   "cell_type": "code",
   "execution_count": 18,
   "metadata": {
    "execution": {
     "iopub.execute_input": "2021-03-11T03:01:26.250524Z",
     "iopub.status.busy": "2021-03-11T03:01:26.250134Z",
     "iopub.status.idle": "2021-03-11T03:01:26.280873Z",
     "shell.execute_reply": "2021-03-11T03:01:26.281206Z"
    },
    "papermill": {
     "duration": 0.051587,
     "end_time": "2021-03-11T03:01:26.281332",
     "exception": false,
     "start_time": "2021-03-11T03:01:26.229745",
     "status": "completed"
    },
    "tags": []
   },
   "outputs": [],
   "source": [
    "coassoc_matrix = np.load(input_file)"
   ]
  },
  {
   "cell_type": "code",
   "execution_count": 19,
   "metadata": {
    "execution": {
     "iopub.execute_input": "2021-03-11T03:01:26.325087Z",
     "iopub.status.busy": "2021-03-11T03:01:26.324676Z",
     "iopub.status.idle": "2021-03-11T03:01:26.334391Z",
     "shell.execute_reply": "2021-03-11T03:01:26.334670Z"
    },
    "papermill": {
     "duration": 0.032076,
     "end_time": "2021-03-11T03:01:26.334777",
     "exception": false,
     "start_time": "2021-03-11T03:01:26.302701",
     "status": "completed"
    },
    "tags": []
   },
   "outputs": [],
   "source": [
    "coassoc_matrix = pd.DataFrame(\n",
    "    data=coassoc_matrix,\n",
    "    index=traits,\n",
    "    columns=traits,\n",
    ")"
   ]
  },
  {
   "cell_type": "code",
   "execution_count": 20,
   "metadata": {
    "execution": {
     "iopub.execute_input": "2021-03-11T03:01:26.374525Z",
     "iopub.status.busy": "2021-03-11T03:01:26.374170Z",
     "iopub.status.idle": "2021-03-11T03:01:26.384091Z",
     "shell.execute_reply": "2021-03-11T03:01:26.383751Z"
    },
    "papermill": {
     "duration": 0.03073,
     "end_time": "2021-03-11T03:01:26.384178",
     "exception": false,
     "start_time": "2021-03-11T03:01:26.353448",
     "status": "completed"
    },
    "tags": []
   },
   "outputs": [
    {
     "data": {
      "text/plain": [
       "(3752, 3752)"
      ]
     },
     "execution_count": 20,
     "metadata": {},
     "output_type": "execute_result"
    }
   ],
   "source": [
    "coassoc_matrix.shape"
   ]
  },
  {
   "cell_type": "code",
   "execution_count": 21,
   "metadata": {
    "execution": {
     "iopub.execute_input": "2021-03-11T03:01:26.423087Z",
     "iopub.status.busy": "2021-03-11T03:01:26.422729Z",
     "iopub.status.idle": "2021-03-11T03:01:26.445356Z",
     "shell.execute_reply": "2021-03-11T03:01:26.445636Z"
    },
    "papermill": {
     "duration": 0.043095,
     "end_time": "2021-03-11T03:01:26.445746",
     "exception": false,
     "start_time": "2021-03-11T03:01:26.402651",
     "status": "completed"
    },
    "tags": []
   },
   "outputs": [
    {
     "data": {
      "text/html": [
       "<div>\n",
       "<style scoped>\n",
       "    .dataframe tbody tr th:only-of-type {\n",
       "        vertical-align: middle;\n",
       "    }\n",
       "\n",
       "    .dataframe tbody tr th {\n",
       "        vertical-align: top;\n",
       "    }\n",
       "\n",
       "    .dataframe thead th {\n",
       "        text-align: right;\n",
       "    }\n",
       "</style>\n",
       "<table border=\"1\" class=\"dataframe\">\n",
       "  <thead>\n",
       "    <tr style=\"text-align: right;\">\n",
       "      <th></th>\n",
       "      <th>100001_raw-Food_weight</th>\n",
       "      <th>100002_raw-Energy</th>\n",
       "      <th>100003_raw-Protein</th>\n",
       "      <th>100004_raw-Fat</th>\n",
       "      <th>100005_raw-Carbohydrate</th>\n",
       "      <th>100006_raw-Saturated_fat</th>\n",
       "      <th>100007_raw-Polyunsaturated_fat</th>\n",
       "      <th>100008_raw-Total_sugars</th>\n",
       "      <th>100009_raw-Englyst_dietary_fibre</th>\n",
       "      <th>100010-Portion_size</th>\n",
       "      <th>...</th>\n",
       "      <th>visual impairment</th>\n",
       "      <th>vitiligo</th>\n",
       "      <th>vitreous body disease</th>\n",
       "      <th>vocal cord polyp</th>\n",
       "      <th>voice disorders</th>\n",
       "      <th>wellbeing measurement AND family relationship</th>\n",
       "      <th>wheezing</th>\n",
       "      <th>whooping cough</th>\n",
       "      <th>worry measurement</th>\n",
       "      <th>wrist fracture</th>\n",
       "    </tr>\n",
       "  </thead>\n",
       "  <tbody>\n",
       "    <tr>\n",
       "      <th>100001_raw-Food_weight</th>\n",
       "      <td>0.000000</td>\n",
       "      <td>0.314971</td>\n",
       "      <td>0.328000</td>\n",
       "      <td>0.367543</td>\n",
       "      <td>0.341257</td>\n",
       "      <td>0.369347</td>\n",
       "      <td>0.361951</td>\n",
       "      <td>0.354124</td>\n",
       "      <td>0.330439</td>\n",
       "      <td>0.364853</td>\n",
       "      <td>...</td>\n",
       "      <td>0.461101</td>\n",
       "      <td>0.443161</td>\n",
       "      <td>0.440617</td>\n",
       "      <td>0.442608</td>\n",
       "      <td>0.486303</td>\n",
       "      <td>0.359294</td>\n",
       "      <td>0.430441</td>\n",
       "      <td>0.479511</td>\n",
       "      <td>0.411417</td>\n",
       "      <td>0.644333</td>\n",
       "    </tr>\n",
       "    <tr>\n",
       "      <th>100002_raw-Energy</th>\n",
       "      <td>0.314971</td>\n",
       "      <td>0.000000</td>\n",
       "      <td>0.041534</td>\n",
       "      <td>0.076677</td>\n",
       "      <td>0.049064</td>\n",
       "      <td>0.078977</td>\n",
       "      <td>0.092762</td>\n",
       "      <td>0.068478</td>\n",
       "      <td>0.066438</td>\n",
       "      <td>0.629198</td>\n",
       "      <td>...</td>\n",
       "      <td>0.678784</td>\n",
       "      <td>0.683862</td>\n",
       "      <td>0.661792</td>\n",
       "      <td>0.686445</td>\n",
       "      <td>0.685388</td>\n",
       "      <td>0.616157</td>\n",
       "      <td>0.670675</td>\n",
       "      <td>0.678686</td>\n",
       "      <td>0.648605</td>\n",
       "      <td>0.674960</td>\n",
       "    </tr>\n",
       "    <tr>\n",
       "      <th>100003_raw-Protein</th>\n",
       "      <td>0.328000</td>\n",
       "      <td>0.041534</td>\n",
       "      <td>0.000000</td>\n",
       "      <td>0.102465</td>\n",
       "      <td>0.058421</td>\n",
       "      <td>0.104771</td>\n",
       "      <td>0.117041</td>\n",
       "      <td>0.090390</td>\n",
       "      <td>0.074201</td>\n",
       "      <td>0.639022</td>\n",
       "      <td>...</td>\n",
       "      <td>0.678326</td>\n",
       "      <td>0.688199</td>\n",
       "      <td>0.673446</td>\n",
       "      <td>0.686216</td>\n",
       "      <td>0.670548</td>\n",
       "      <td>0.614560</td>\n",
       "      <td>0.664662</td>\n",
       "      <td>0.664080</td>\n",
       "      <td>0.642204</td>\n",
       "      <td>0.677014</td>\n",
       "    </tr>\n",
       "    <tr>\n",
       "      <th>100004_raw-Fat</th>\n",
       "      <td>0.367543</td>\n",
       "      <td>0.076677</td>\n",
       "      <td>0.102465</td>\n",
       "      <td>0.000000</td>\n",
       "      <td>0.052031</td>\n",
       "      <td>0.005250</td>\n",
       "      <td>0.049015</td>\n",
       "      <td>0.029674</td>\n",
       "      <td>0.107763</td>\n",
       "      <td>0.603838</td>\n",
       "      <td>...</td>\n",
       "      <td>0.652949</td>\n",
       "      <td>0.645971</td>\n",
       "      <td>0.627514</td>\n",
       "      <td>0.654724</td>\n",
       "      <td>0.648858</td>\n",
       "      <td>0.667503</td>\n",
       "      <td>0.711378</td>\n",
       "      <td>0.652214</td>\n",
       "      <td>0.692273</td>\n",
       "      <td>0.646656</td>\n",
       "    </tr>\n",
       "    <tr>\n",
       "      <th>100005_raw-Carbohydrate</th>\n",
       "      <td>0.341257</td>\n",
       "      <td>0.049064</td>\n",
       "      <td>0.058421</td>\n",
       "      <td>0.052031</td>\n",
       "      <td>0.000000</td>\n",
       "      <td>0.055010</td>\n",
       "      <td>0.070316</td>\n",
       "      <td>0.036293</td>\n",
       "      <td>0.097489</td>\n",
       "      <td>0.612063</td>\n",
       "      <td>...</td>\n",
       "      <td>0.661866</td>\n",
       "      <td>0.668112</td>\n",
       "      <td>0.642139</td>\n",
       "      <td>0.667047</td>\n",
       "      <td>0.665525</td>\n",
       "      <td>0.646965</td>\n",
       "      <td>0.701203</td>\n",
       "      <td>0.659288</td>\n",
       "      <td>0.679241</td>\n",
       "      <td>0.653047</td>\n",
       "    </tr>\n",
       "  </tbody>\n",
       "</table>\n",
       "<p>5 rows × 3752 columns</p>\n",
       "</div>"
      ],
      "text/plain": [
       "                         100001_raw-Food_weight  100002_raw-Energy  \\\n",
       "100001_raw-Food_weight                 0.000000           0.314971   \n",
       "100002_raw-Energy                      0.314971           0.000000   \n",
       "100003_raw-Protein                     0.328000           0.041534   \n",
       "100004_raw-Fat                         0.367543           0.076677   \n",
       "100005_raw-Carbohydrate                0.341257           0.049064   \n",
       "\n",
       "                         100003_raw-Protein  100004_raw-Fat  \\\n",
       "100001_raw-Food_weight             0.328000        0.367543   \n",
       "100002_raw-Energy                  0.041534        0.076677   \n",
       "100003_raw-Protein                 0.000000        0.102465   \n",
       "100004_raw-Fat                     0.102465        0.000000   \n",
       "100005_raw-Carbohydrate            0.058421        0.052031   \n",
       "\n",
       "                         100005_raw-Carbohydrate  100006_raw-Saturated_fat  \\\n",
       "100001_raw-Food_weight                  0.341257                  0.369347   \n",
       "100002_raw-Energy                       0.049064                  0.078977   \n",
       "100003_raw-Protein                      0.058421                  0.104771   \n",
       "100004_raw-Fat                          0.052031                  0.005250   \n",
       "100005_raw-Carbohydrate                 0.000000                  0.055010   \n",
       "\n",
       "                         100007_raw-Polyunsaturated_fat  \\\n",
       "100001_raw-Food_weight                         0.361951   \n",
       "100002_raw-Energy                              0.092762   \n",
       "100003_raw-Protein                             0.117041   \n",
       "100004_raw-Fat                                 0.049015   \n",
       "100005_raw-Carbohydrate                        0.070316   \n",
       "\n",
       "                         100008_raw-Total_sugars  \\\n",
       "100001_raw-Food_weight                  0.354124   \n",
       "100002_raw-Energy                       0.068478   \n",
       "100003_raw-Protein                      0.090390   \n",
       "100004_raw-Fat                          0.029674   \n",
       "100005_raw-Carbohydrate                 0.036293   \n",
       "\n",
       "                         100009_raw-Englyst_dietary_fibre  \\\n",
       "100001_raw-Food_weight                           0.330439   \n",
       "100002_raw-Energy                                0.066438   \n",
       "100003_raw-Protein                               0.074201   \n",
       "100004_raw-Fat                                   0.107763   \n",
       "100005_raw-Carbohydrate                          0.097489   \n",
       "\n",
       "                         100010-Portion_size  ...  visual impairment  \\\n",
       "100001_raw-Food_weight              0.364853  ...           0.461101   \n",
       "100002_raw-Energy                   0.629198  ...           0.678784   \n",
       "100003_raw-Protein                  0.639022  ...           0.678326   \n",
       "100004_raw-Fat                      0.603838  ...           0.652949   \n",
       "100005_raw-Carbohydrate             0.612063  ...           0.661866   \n",
       "\n",
       "                         vitiligo  vitreous body disease  vocal cord polyp  \\\n",
       "100001_raw-Food_weight   0.443161               0.440617          0.442608   \n",
       "100002_raw-Energy        0.683862               0.661792          0.686445   \n",
       "100003_raw-Protein       0.688199               0.673446          0.686216   \n",
       "100004_raw-Fat           0.645971               0.627514          0.654724   \n",
       "100005_raw-Carbohydrate  0.668112               0.642139          0.667047   \n",
       "\n",
       "                         voice disorders  \\\n",
       "100001_raw-Food_weight          0.486303   \n",
       "100002_raw-Energy               0.685388   \n",
       "100003_raw-Protein              0.670548   \n",
       "100004_raw-Fat                  0.648858   \n",
       "100005_raw-Carbohydrate         0.665525   \n",
       "\n",
       "                         wellbeing measurement AND family relationship  \\\n",
       "100001_raw-Food_weight                                        0.359294   \n",
       "100002_raw-Energy                                             0.616157   \n",
       "100003_raw-Protein                                            0.614560   \n",
       "100004_raw-Fat                                                0.667503   \n",
       "100005_raw-Carbohydrate                                       0.646965   \n",
       "\n",
       "                         wheezing  whooping cough  worry measurement  \\\n",
       "100001_raw-Food_weight   0.430441        0.479511           0.411417   \n",
       "100002_raw-Energy        0.670675        0.678686           0.648605   \n",
       "100003_raw-Protein       0.664662        0.664080           0.642204   \n",
       "100004_raw-Fat           0.711378        0.652214           0.692273   \n",
       "100005_raw-Carbohydrate  0.701203        0.659288           0.679241   \n",
       "\n",
       "                         wrist fracture  \n",
       "100001_raw-Food_weight         0.644333  \n",
       "100002_raw-Energy              0.674960  \n",
       "100003_raw-Protein             0.677014  \n",
       "100004_raw-Fat                 0.646656  \n",
       "100005_raw-Carbohydrate        0.653047  \n",
       "\n",
       "[5 rows x 3752 columns]"
      ]
     },
     "execution_count": 21,
     "metadata": {},
     "output_type": "execute_result"
    }
   ],
   "source": [
    "coassoc_matrix.head()"
   ]
  },
  {
   "cell_type": "code",
   "execution_count": 22,
   "metadata": {
    "execution": {
     "iopub.execute_input": "2021-03-11T03:01:26.489146Z",
     "iopub.status.busy": "2021-03-11T03:01:26.488795Z",
     "iopub.status.idle": "2021-03-11T03:01:26.497652Z",
     "shell.execute_reply": "2021-03-11T03:01:26.497930Z"
    },
    "papermill": {
     "duration": 0.029522,
     "end_time": "2021-03-11T03:01:26.498037",
     "exception": false,
     "start_time": "2021-03-11T03:01:26.468515",
     "status": "completed"
    },
    "tags": []
   },
   "outputs": [],
   "source": [
    "dist_matrix = coassoc_matrix"
   ]
  },
  {
   "cell_type": "markdown",
   "metadata": {
    "papermill": {
     "duration": 0.018545,
     "end_time": "2021-03-11T03:01:26.535683",
     "exception": false,
     "start_time": "2021-03-11T03:01:26.517138",
     "status": "completed"
    },
    "tags": []
   },
   "source": [
    "# Clustering"
   ]
  },
  {
   "cell_type": "code",
   "execution_count": 23,
   "metadata": {
    "execution": {
     "iopub.execute_input": "2021-03-11T03:01:26.574553Z",
     "iopub.status.busy": "2021-03-11T03:01:26.574195Z",
     "iopub.status.idle": "2021-03-11T03:01:26.664279Z",
     "shell.execute_reply": "2021-03-11T03:01:26.663874Z"
    },
    "papermill": {
     "duration": 0.110687,
     "end_time": "2021-03-11T03:01:26.664364",
     "exception": false,
     "start_time": "2021-03-11T03:01:26.553677",
     "status": "completed"
    },
    "tags": []
   },
   "outputs": [],
   "source": [
    "from sklearn.metrics import (\n",
    "    calinski_harabasz_score,\n",
    "    davies_bouldin_score,\n",
    ")"
   ]
  },
  {
   "cell_type": "markdown",
   "metadata": {
    "papermill": {
     "duration": 0.018939,
     "end_time": "2021-03-11T03:01:26.702335",
     "exception": false,
     "start_time": "2021-03-11T03:01:26.683396",
     "status": "completed"
    },
    "tags": []
   },
   "source": [
    "## More exhaustive test"
   ]
  },
  {
   "cell_type": "markdown",
   "metadata": {
    "papermill": {
     "duration": 0.017743,
     "end_time": "2021-03-11T03:01:26.738035",
     "exception": false,
     "start_time": "2021-03-11T03:01:26.720292",
     "status": "completed"
    },
    "tags": []
   },
   "source": [
    "Here I run some test across several `k` and `delta` values; then I check how results perform with different clustering quality measures."
   ]
  },
  {
   "cell_type": "code",
   "execution_count": 24,
   "metadata": {
    "execution": {
     "iopub.execute_input": "2021-03-11T03:01:26.777547Z",
     "iopub.status.busy": "2021-03-11T03:01:26.777167Z",
     "iopub.status.idle": "2021-03-11T03:01:26.788683Z",
     "shell.execute_reply": "2021-03-11T03:01:26.788310Z"
    },
    "papermill": {
     "duration": 0.032836,
     "end_time": "2021-03-11T03:01:26.788828",
     "exception": false,
     "start_time": "2021-03-11T03:01:26.755992",
     "status": "completed"
    },
    "tags": []
   },
   "outputs": [
    {
     "data": {
      "text/plain": [
       "{'K_RANGE': [2, 4, 6, 8, 10, 12, 14, 16, 18, 20, 25, 30, 35, 40, 50, 60],\n",
       " 'N_REPS_PER_K': 5,\n",
       " 'KMEANS_N_INIT': 10,\n",
       " 'DELTAS': [5.0, 2.0, 1.0, 0.9, 0.75, 0.5, 0.3, 0.25, 0.2]}"
      ]
     },
     "metadata": {},
     "output_type": "display_data"
    }
   ],
   "source": [
    "CLUSTERING_OPTIONS = {}\n",
    "\n",
    "CLUSTERING_OPTIONS[\"K_RANGE\"] = [\n",
    "    2,\n",
    "    4,\n",
    "    6,\n",
    "    8,\n",
    "    10,\n",
    "    12,\n",
    "    14,\n",
    "    16,\n",
    "    18,\n",
    "    20,\n",
    "    25,\n",
    "    30,\n",
    "    35,\n",
    "    40,\n",
    "    50,\n",
    "    60,\n",
    "]\n",
    "CLUSTERING_OPTIONS[\"N_REPS_PER_K\"] = 5\n",
    "CLUSTERING_OPTIONS[\"KMEANS_N_INIT\"] = 10\n",
    "CLUSTERING_OPTIONS[\"DELTAS\"] = [\n",
    "    5.00,\n",
    "    2.00,\n",
    "    1.00,\n",
    "    0.90,\n",
    "    0.75,\n",
    "    0.50,\n",
    "    0.30,\n",
    "    0.25,\n",
    "    0.20,\n",
    "]\n",
    "\n",
    "display(CLUSTERING_OPTIONS)"
   ]
  },
  {
   "cell_type": "markdown",
   "metadata": {
    "papermill": {
     "duration": 0.018949,
     "end_time": "2021-03-11T03:01:26.827113",
     "exception": false,
     "start_time": "2021-03-11T03:01:26.808164",
     "status": "completed"
    },
    "tags": []
   },
   "source": [
    "### Generate ensemble"
   ]
  },
  {
   "cell_type": "code",
   "execution_count": 25,
   "metadata": {
    "execution": {
     "iopub.execute_input": "2021-03-11T03:01:26.867198Z",
     "iopub.status.busy": "2021-03-11T03:01:26.866824Z",
     "iopub.status.idle": "2021-03-11T03:01:26.877071Z",
     "shell.execute_reply": "2021-03-11T03:01:26.876635Z"
    },
    "papermill": {
     "duration": 0.031223,
     "end_time": "2021-03-11T03:01:26.877159",
     "exception": false,
     "start_time": "2021-03-11T03:01:26.845936",
     "status": "completed"
    },
    "tags": []
   },
   "outputs": [],
   "source": [
    "import tempfile"
   ]
  },
  {
   "cell_type": "code",
   "execution_count": 26,
   "metadata": {
    "execution": {
     "iopub.execute_input": "2021-03-11T03:01:26.917149Z",
     "iopub.status.busy": "2021-03-11T03:01:26.916790Z",
     "iopub.status.idle": "2021-03-11T03:01:26.926866Z",
     "shell.execute_reply": "2021-03-11T03:01:26.926450Z"
    },
    "papermill": {
     "duration": 0.03118,
     "end_time": "2021-03-11T03:01:26.926954",
     "exception": false,
     "start_time": "2021-03-11T03:01:26.895774",
     "status": "completed"
    },
    "tags": []
   },
   "outputs": [],
   "source": [
    "ensemble_folder = Path(\n",
    "    tempfile.gettempdir(),\n",
    "    \"pre_cluster_analysis\",\n",
    "    CLUSTERING_METHOD_NAME,\n",
    ").resolve()\n",
    "ensemble_folder.mkdir(parents=True, exist_ok=True)"
   ]
  },
  {
   "cell_type": "code",
   "execution_count": 27,
   "metadata": {
    "execution": {
     "iopub.execute_input": "2021-03-11T03:01:26.967718Z",
     "iopub.status.busy": "2021-03-11T03:01:26.967350Z",
     "iopub.status.idle": "2021-03-11T03:01:26.978344Z",
     "shell.execute_reply": "2021-03-11T03:01:26.977971Z"
    },
    "papermill": {
     "duration": 0.032488,
     "end_time": "2021-03-11T03:01:26.978430",
     "exception": false,
     "start_time": "2021-03-11T03:01:26.945942",
     "status": "completed"
    },
    "tags": []
   },
   "outputs": [
    {
     "data": {
      "text/plain": [
       "PosixPath('/tmp/pre_cluster_analysis/DeltaSpectralClustering/ensemble-DELTAS_50_20_10_09_075_05_03_025_02-KMEANS_N_INIT_10-K_RANGE_2_4_6_8_10_12_14_16_18_20_25_30_35_40_50_60-N_REPS_PER_K_5.pkl')"
      ]
     },
     "metadata": {},
     "output_type": "display_data"
    }
   ],
   "source": [
    "ensemble_file = Path(\n",
    "    ensemble_folder,\n",
    "    generate_result_set_name(CLUSTERING_OPTIONS, prefix=\"ensemble-\", suffix=\".pkl\"),\n",
    ")\n",
    "display(ensemble_file)"
   ]
  },
  {
   "cell_type": "code",
   "execution_count": 28,
   "metadata": {
    "execution": {
     "iopub.execute_input": "2021-03-11T03:01:27.018589Z",
     "iopub.status.busy": "2021-03-11T03:01:27.018232Z",
     "iopub.status.idle": "2021-03-11T03:01:27.027806Z",
     "shell.execute_reply": "2021-03-11T03:01:27.027491Z"
    },
    "papermill": {
     "duration": 0.030338,
     "end_time": "2021-03-11T03:01:27.027892",
     "exception": false,
     "start_time": "2021-03-11T03:01:26.997554",
     "status": "completed"
    },
    "tags": []
   },
   "outputs": [],
   "source": [
    "assert ensemble_file.exists(), \"Ensemble file does not exists\""
   ]
  },
  {
   "cell_type": "code",
   "execution_count": 29,
   "metadata": {
    "execution": {
     "iopub.execute_input": "2021-03-11T03:01:27.070882Z",
     "iopub.status.busy": "2021-03-11T03:01:27.068449Z",
     "iopub.status.idle": "2021-03-11T03:01:27.094662Z",
     "shell.execute_reply": "2021-03-11T03:01:27.094313Z"
    },
    "papermill": {
     "duration": 0.047851,
     "end_time": "2021-03-11T03:01:27.094764",
     "exception": false,
     "start_time": "2021-03-11T03:01:27.046913",
     "status": "completed"
    },
    "tags": []
   },
   "outputs": [],
   "source": [
    "ensemble = pd.read_pickle(ensemble_file)"
   ]
  },
  {
   "cell_type": "code",
   "execution_count": 30,
   "metadata": {
    "execution": {
     "iopub.execute_input": "2021-03-11T03:01:27.138472Z",
     "iopub.status.busy": "2021-03-11T03:01:27.138113Z",
     "iopub.status.idle": "2021-03-11T03:01:27.148515Z",
     "shell.execute_reply": "2021-03-11T03:01:27.148143Z"
    },
    "papermill": {
     "duration": 0.031778,
     "end_time": "2021-03-11T03:01:27.148603",
     "exception": false,
     "start_time": "2021-03-11T03:01:27.116825",
     "status": "completed"
    },
    "tags": []
   },
   "outputs": [
    {
     "data": {
      "text/plain": [
       "(720, 7)"
      ]
     },
     "execution_count": 30,
     "metadata": {},
     "output_type": "execute_result"
    }
   ],
   "source": [
    "ensemble.shape"
   ]
  },
  {
   "cell_type": "code",
   "execution_count": 31,
   "metadata": {
    "execution": {
     "iopub.execute_input": "2021-03-11T03:01:27.189382Z",
     "iopub.status.busy": "2021-03-11T03:01:27.189019Z",
     "iopub.status.idle": "2021-03-11T03:01:27.209293Z",
     "shell.execute_reply": "2021-03-11T03:01:27.208920Z"
    },
    "papermill": {
     "duration": 0.041279,
     "end_time": "2021-03-11T03:01:27.209381",
     "exception": false,
     "start_time": "2021-03-11T03:01:27.168102",
     "status": "completed"
    },
    "tags": []
   },
   "outputs": [
    {
     "data": {
      "text/html": [
       "<div>\n",
       "<style scoped>\n",
       "    .dataframe tbody tr th:only-of-type {\n",
       "        vertical-align: middle;\n",
       "    }\n",
       "\n",
       "    .dataframe tbody tr th {\n",
       "        vertical-align: top;\n",
       "    }\n",
       "\n",
       "    .dataframe thead th {\n",
       "        text-align: right;\n",
       "    }\n",
       "</style>\n",
       "<table border=\"1\" class=\"dataframe\">\n",
       "  <thead>\n",
       "    <tr style=\"text-align: right;\">\n",
       "      <th></th>\n",
       "      <th>clusterer_params</th>\n",
       "      <th>partition</th>\n",
       "      <th>n_clusters</th>\n",
       "      <th>delta</th>\n",
       "      <th>si_score</th>\n",
       "      <th>ch_score</th>\n",
       "      <th>db_score</th>\n",
       "    </tr>\n",
       "    <tr>\n",
       "      <th>clusterer_id</th>\n",
       "      <th></th>\n",
       "      <th></th>\n",
       "      <th></th>\n",
       "      <th></th>\n",
       "      <th></th>\n",
       "      <th></th>\n",
       "      <th></th>\n",
       "    </tr>\n",
       "  </thead>\n",
       "  <tbody>\n",
       "    <tr>\n",
       "      <th>DeltaSpectralClustering #0</th>\n",
       "      <td>{'delta': 5.0}</td>\n",
       "      <td>[0.0, 0.0, 0.0, 1.0, 0.0, 1.0, 1.0, 1.0, 0.0, ...</td>\n",
       "      <td>2</td>\n",
       "      <td>5.00</td>\n",
       "      <td>0.230244</td>\n",
       "      <td>41.607744</td>\n",
       "      <td>7.229253</td>\n",
       "    </tr>\n",
       "    <tr>\n",
       "      <th>DeltaSpectralClustering #1</th>\n",
       "      <td>{'delta': 5.0}</td>\n",
       "      <td>[0.0, 0.0, 0.0, 1.0, 0.0, 1.0, 1.0, 1.0, 0.0, ...</td>\n",
       "      <td>2</td>\n",
       "      <td>5.00</td>\n",
       "      <td>0.230244</td>\n",
       "      <td>41.607744</td>\n",
       "      <td>7.229253</td>\n",
       "    </tr>\n",
       "    <tr>\n",
       "      <th>DeltaSpectralClustering #2</th>\n",
       "      <td>{'delta': 5.0}</td>\n",
       "      <td>[1.0, 1.0, 1.0, 0.0, 1.0, 0.0, 0.0, 0.0, 1.0, ...</td>\n",
       "      <td>2</td>\n",
       "      <td>5.00</td>\n",
       "      <td>0.230244</td>\n",
       "      <td>41.607744</td>\n",
       "      <td>7.229253</td>\n",
       "    </tr>\n",
       "    <tr>\n",
       "      <th>DeltaSpectralClustering #3</th>\n",
       "      <td>{'delta': 5.0}</td>\n",
       "      <td>[0.0, 0.0, 0.0, 1.0, 0.0, 1.0, 1.0, 1.0, 0.0, ...</td>\n",
       "      <td>2</td>\n",
       "      <td>5.00</td>\n",
       "      <td>0.230244</td>\n",
       "      <td>41.607744</td>\n",
       "      <td>7.229253</td>\n",
       "    </tr>\n",
       "    <tr>\n",
       "      <th>DeltaSpectralClustering #4</th>\n",
       "      <td>{'delta': 5.0}</td>\n",
       "      <td>[1.0, 1.0, 1.0, 0.0, 1.0, 0.0, 0.0, 0.0, 1.0, ...</td>\n",
       "      <td>2</td>\n",
       "      <td>5.00</td>\n",
       "      <td>0.230244</td>\n",
       "      <td>41.607744</td>\n",
       "      <td>7.229253</td>\n",
       "    </tr>\n",
       "  </tbody>\n",
       "</table>\n",
       "</div>"
      ],
      "text/plain": [
       "                           clusterer_params  \\\n",
       "clusterer_id                                  \n",
       "DeltaSpectralClustering #0   {'delta': 5.0}   \n",
       "DeltaSpectralClustering #1   {'delta': 5.0}   \n",
       "DeltaSpectralClustering #2   {'delta': 5.0}   \n",
       "DeltaSpectralClustering #3   {'delta': 5.0}   \n",
       "DeltaSpectralClustering #4   {'delta': 5.0}   \n",
       "\n",
       "                                                                    partition  \\\n",
       "clusterer_id                                                                    \n",
       "DeltaSpectralClustering #0  [0.0, 0.0, 0.0, 1.0, 0.0, 1.0, 1.0, 1.0, 0.0, ...   \n",
       "DeltaSpectralClustering #1  [0.0, 0.0, 0.0, 1.0, 0.0, 1.0, 1.0, 1.0, 0.0, ...   \n",
       "DeltaSpectralClustering #2  [1.0, 1.0, 1.0, 0.0, 1.0, 0.0, 0.0, 0.0, 1.0, ...   \n",
       "DeltaSpectralClustering #3  [0.0, 0.0, 0.0, 1.0, 0.0, 1.0, 1.0, 1.0, 0.0, ...   \n",
       "DeltaSpectralClustering #4  [1.0, 1.0, 1.0, 0.0, 1.0, 0.0, 0.0, 0.0, 1.0, ...   \n",
       "\n",
       "                            n_clusters delta  si_score   ch_score  db_score  \n",
       "clusterer_id                                                                 \n",
       "DeltaSpectralClustering #0           2  5.00  0.230244  41.607744  7.229253  \n",
       "DeltaSpectralClustering #1           2  5.00  0.230244  41.607744  7.229253  \n",
       "DeltaSpectralClustering #2           2  5.00  0.230244  41.607744  7.229253  \n",
       "DeltaSpectralClustering #3           2  5.00  0.230244  41.607744  7.229253  \n",
       "DeltaSpectralClustering #4           2  5.00  0.230244  41.607744  7.229253  "
      ]
     },
     "execution_count": 31,
     "metadata": {},
     "output_type": "execute_result"
    }
   ],
   "source": [
    "ensemble.head()"
   ]
  },
  {
   "cell_type": "markdown",
   "metadata": {
    "papermill": {
     "duration": 0.01925,
     "end_time": "2021-03-11T03:01:27.248356",
     "exception": false,
     "start_time": "2021-03-11T03:01:27.229106",
     "status": "completed"
    },
    "tags": []
   },
   "source": [
    "### Add clustering quality measures"
   ]
  },
  {
   "cell_type": "code",
   "execution_count": 32,
   "metadata": {
    "execution": {
     "iopub.execute_input": "2021-03-11T03:01:27.289632Z",
     "iopub.status.busy": "2021-03-11T03:01:27.289261Z",
     "iopub.status.idle": "2021-03-11T03:01:34.035125Z",
     "shell.execute_reply": "2021-03-11T03:01:34.034599Z"
    },
    "papermill": {
     "duration": 6.767574,
     "end_time": "2021-03-11T03:01:34.035215",
     "exception": false,
     "start_time": "2021-03-11T03:01:27.267641",
     "status": "completed"
    },
    "tags": []
   },
   "outputs": [],
   "source": [
    "ensemble = ensemble.assign(\n",
    "    #     si_score=ensemble[\"partition\"].apply(lambda x: silhouette_score(dist_matrix, x, metric=\"precomputed\")),\n",
    "    ch_score=ensemble[\"partition\"].apply(lambda x: calinski_harabasz_score(data, x)),\n",
    "    db_score=ensemble[\"partition\"].apply(lambda x: davies_bouldin_score(data, x)),\n",
    ")"
   ]
  },
  {
   "cell_type": "code",
   "execution_count": 33,
   "metadata": {
    "execution": {
     "iopub.execute_input": "2021-03-11T03:01:34.077823Z",
     "iopub.status.busy": "2021-03-11T03:01:34.077435Z",
     "iopub.status.idle": "2021-03-11T03:01:34.095219Z",
     "shell.execute_reply": "2021-03-11T03:01:34.095517Z"
    },
    "papermill": {
     "duration": 0.040167,
     "end_time": "2021-03-11T03:01:34.095636",
     "exception": false,
     "start_time": "2021-03-11T03:01:34.055469",
     "status": "completed"
    },
    "tags": []
   },
   "outputs": [
    {
     "data": {
      "text/plain": [
       "(720, 7)"
      ]
     },
     "execution_count": 33,
     "metadata": {},
     "output_type": "execute_result"
    }
   ],
   "source": [
    "ensemble.shape"
   ]
  },
  {
   "cell_type": "code",
   "execution_count": 34,
   "metadata": {
    "execution": {
     "iopub.execute_input": "2021-03-11T03:01:34.140077Z",
     "iopub.status.busy": "2021-03-11T03:01:34.139718Z",
     "iopub.status.idle": "2021-03-11T03:01:34.159010Z",
     "shell.execute_reply": "2021-03-11T03:01:34.158627Z"
    },
    "papermill": {
     "duration": 0.041989,
     "end_time": "2021-03-11T03:01:34.159098",
     "exception": false,
     "start_time": "2021-03-11T03:01:34.117109",
     "status": "completed"
    },
    "tags": []
   },
   "outputs": [
    {
     "data": {
      "text/html": [
       "<div>\n",
       "<style scoped>\n",
       "    .dataframe tbody tr th:only-of-type {\n",
       "        vertical-align: middle;\n",
       "    }\n",
       "\n",
       "    .dataframe tbody tr th {\n",
       "        vertical-align: top;\n",
       "    }\n",
       "\n",
       "    .dataframe thead th {\n",
       "        text-align: right;\n",
       "    }\n",
       "</style>\n",
       "<table border=\"1\" class=\"dataframe\">\n",
       "  <thead>\n",
       "    <tr style=\"text-align: right;\">\n",
       "      <th></th>\n",
       "      <th>clusterer_params</th>\n",
       "      <th>partition</th>\n",
       "      <th>n_clusters</th>\n",
       "      <th>delta</th>\n",
       "      <th>si_score</th>\n",
       "      <th>ch_score</th>\n",
       "      <th>db_score</th>\n",
       "    </tr>\n",
       "    <tr>\n",
       "      <th>clusterer_id</th>\n",
       "      <th></th>\n",
       "      <th></th>\n",
       "      <th></th>\n",
       "      <th></th>\n",
       "      <th></th>\n",
       "      <th></th>\n",
       "      <th></th>\n",
       "    </tr>\n",
       "  </thead>\n",
       "  <tbody>\n",
       "    <tr>\n",
       "      <th>DeltaSpectralClustering #0</th>\n",
       "      <td>{'delta': 5.0}</td>\n",
       "      <td>[0.0, 0.0, 0.0, 1.0, 0.0, 1.0, 1.0, 1.0, 0.0, ...</td>\n",
       "      <td>2</td>\n",
       "      <td>5.00</td>\n",
       "      <td>0.230244</td>\n",
       "      <td>256.226718</td>\n",
       "      <td>3.205992</td>\n",
       "    </tr>\n",
       "    <tr>\n",
       "      <th>DeltaSpectralClustering #1</th>\n",
       "      <td>{'delta': 5.0}</td>\n",
       "      <td>[0.0, 0.0, 0.0, 1.0, 0.0, 1.0, 1.0, 1.0, 0.0, ...</td>\n",
       "      <td>2</td>\n",
       "      <td>5.00</td>\n",
       "      <td>0.230244</td>\n",
       "      <td>256.226718</td>\n",
       "      <td>3.205992</td>\n",
       "    </tr>\n",
       "    <tr>\n",
       "      <th>DeltaSpectralClustering #2</th>\n",
       "      <td>{'delta': 5.0}</td>\n",
       "      <td>[1.0, 1.0, 1.0, 0.0, 1.0, 0.0, 0.0, 0.0, 1.0, ...</td>\n",
       "      <td>2</td>\n",
       "      <td>5.00</td>\n",
       "      <td>0.230244</td>\n",
       "      <td>256.226718</td>\n",
       "      <td>3.205992</td>\n",
       "    </tr>\n",
       "    <tr>\n",
       "      <th>DeltaSpectralClustering #3</th>\n",
       "      <td>{'delta': 5.0}</td>\n",
       "      <td>[0.0, 0.0, 0.0, 1.0, 0.0, 1.0, 1.0, 1.0, 0.0, ...</td>\n",
       "      <td>2</td>\n",
       "      <td>5.00</td>\n",
       "      <td>0.230244</td>\n",
       "      <td>256.226718</td>\n",
       "      <td>3.205992</td>\n",
       "    </tr>\n",
       "    <tr>\n",
       "      <th>DeltaSpectralClustering #4</th>\n",
       "      <td>{'delta': 5.0}</td>\n",
       "      <td>[1.0, 1.0, 1.0, 0.0, 1.0, 0.0, 0.0, 0.0, 1.0, ...</td>\n",
       "      <td>2</td>\n",
       "      <td>5.00</td>\n",
       "      <td>0.230244</td>\n",
       "      <td>256.226718</td>\n",
       "      <td>3.205992</td>\n",
       "    </tr>\n",
       "  </tbody>\n",
       "</table>\n",
       "</div>"
      ],
      "text/plain": [
       "                           clusterer_params  \\\n",
       "clusterer_id                                  \n",
       "DeltaSpectralClustering #0   {'delta': 5.0}   \n",
       "DeltaSpectralClustering #1   {'delta': 5.0}   \n",
       "DeltaSpectralClustering #2   {'delta': 5.0}   \n",
       "DeltaSpectralClustering #3   {'delta': 5.0}   \n",
       "DeltaSpectralClustering #4   {'delta': 5.0}   \n",
       "\n",
       "                                                                    partition  \\\n",
       "clusterer_id                                                                    \n",
       "DeltaSpectralClustering #0  [0.0, 0.0, 0.0, 1.0, 0.0, 1.0, 1.0, 1.0, 0.0, ...   \n",
       "DeltaSpectralClustering #1  [0.0, 0.0, 0.0, 1.0, 0.0, 1.0, 1.0, 1.0, 0.0, ...   \n",
       "DeltaSpectralClustering #2  [1.0, 1.0, 1.0, 0.0, 1.0, 0.0, 0.0, 0.0, 1.0, ...   \n",
       "DeltaSpectralClustering #3  [0.0, 0.0, 0.0, 1.0, 0.0, 1.0, 1.0, 1.0, 0.0, ...   \n",
       "DeltaSpectralClustering #4  [1.0, 1.0, 1.0, 0.0, 1.0, 0.0, 0.0, 0.0, 1.0, ...   \n",
       "\n",
       "                            n_clusters delta  si_score    ch_score  db_score  \n",
       "clusterer_id                                                                  \n",
       "DeltaSpectralClustering #0           2  5.00  0.230244  256.226718  3.205992  \n",
       "DeltaSpectralClustering #1           2  5.00  0.230244  256.226718  3.205992  \n",
       "DeltaSpectralClustering #2           2  5.00  0.230244  256.226718  3.205992  \n",
       "DeltaSpectralClustering #3           2  5.00  0.230244  256.226718  3.205992  \n",
       "DeltaSpectralClustering #4           2  5.00  0.230244  256.226718  3.205992  "
      ]
     },
     "execution_count": 34,
     "metadata": {},
     "output_type": "execute_result"
    }
   ],
   "source": [
    "ensemble.head()"
   ]
  },
  {
   "cell_type": "markdown",
   "metadata": {
    "papermill": {
     "duration": 0.01949,
     "end_time": "2021-03-11T03:01:34.199608",
     "exception": false,
     "start_time": "2021-03-11T03:01:34.180118",
     "status": "completed"
    },
    "tags": []
   },
   "source": [
    "# Cluster quality"
   ]
  },
  {
   "cell_type": "code",
   "execution_count": 35,
   "metadata": {
    "execution": {
     "iopub.execute_input": "2021-03-11T03:01:34.240992Z",
     "iopub.status.busy": "2021-03-11T03:01:34.240585Z",
     "iopub.status.idle": "2021-03-11T03:01:34.265938Z",
     "shell.execute_reply": "2021-03-11T03:01:34.265564Z"
    },
    "papermill": {
     "duration": 0.047108,
     "end_time": "2021-03-11T03:01:34.266026",
     "exception": false,
     "start_time": "2021-03-11T03:01:34.218918",
     "status": "completed"
    },
    "tags": []
   },
   "outputs": [
    {
     "data": {
      "text/html": [
       "<div>\n",
       "<style scoped>\n",
       "    .dataframe tbody tr th:only-of-type {\n",
       "        vertical-align: middle;\n",
       "    }\n",
       "\n",
       "    .dataframe tbody tr th {\n",
       "        vertical-align: top;\n",
       "    }\n",
       "\n",
       "    .dataframe thead th {\n",
       "        text-align: right;\n",
       "    }\n",
       "</style>\n",
       "<table border=\"1\" class=\"dataframe\">\n",
       "  <thead>\n",
       "    <tr style=\"text-align: right;\">\n",
       "      <th></th>\n",
       "      <th></th>\n",
       "      <th>si_score</th>\n",
       "      <th>ch_score</th>\n",
       "      <th>db_score</th>\n",
       "    </tr>\n",
       "    <tr>\n",
       "      <th>n_clusters</th>\n",
       "      <th>delta</th>\n",
       "      <th></th>\n",
       "      <th></th>\n",
       "      <th></th>\n",
       "    </tr>\n",
       "  </thead>\n",
       "  <tbody>\n",
       "    <tr>\n",
       "      <th rowspan=\"9\" valign=\"top\">2</th>\n",
       "      <th>0.20</th>\n",
       "      <td>0.413614</td>\n",
       "      <td>96.586303</td>\n",
       "      <td>0.530212</td>\n",
       "    </tr>\n",
       "    <tr>\n",
       "      <th>0.25</th>\n",
       "      <td>0.413614</td>\n",
       "      <td>96.586303</td>\n",
       "      <td>0.530212</td>\n",
       "    </tr>\n",
       "    <tr>\n",
       "      <th>0.30</th>\n",
       "      <td>0.368615</td>\n",
       "      <td>210.952185</td>\n",
       "      <td>1.384719</td>\n",
       "    </tr>\n",
       "    <tr>\n",
       "      <th>0.50</th>\n",
       "      <td>0.234743</td>\n",
       "      <td>259.238484</td>\n",
       "      <td>3.158186</td>\n",
       "    </tr>\n",
       "    <tr>\n",
       "      <th>0.75</th>\n",
       "      <td>0.231760</td>\n",
       "      <td>257.204895</td>\n",
       "      <td>3.189686</td>\n",
       "    </tr>\n",
       "    <tr>\n",
       "      <th>0.90</th>\n",
       "      <td>0.231284</td>\n",
       "      <td>256.973997</td>\n",
       "      <td>3.194576</td>\n",
       "    </tr>\n",
       "    <tr>\n",
       "      <th>1.00</th>\n",
       "      <td>0.231165</td>\n",
       "      <td>256.873267</td>\n",
       "      <td>3.197132</td>\n",
       "    </tr>\n",
       "    <tr>\n",
       "      <th>2.00</th>\n",
       "      <td>0.230672</td>\n",
       "      <td>256.451837</td>\n",
       "      <td>3.203429</td>\n",
       "    </tr>\n",
       "    <tr>\n",
       "      <th>5.00</th>\n",
       "      <td>0.230244</td>\n",
       "      <td>256.226718</td>\n",
       "      <td>3.205992</td>\n",
       "    </tr>\n",
       "    <tr>\n",
       "      <th rowspan=\"9\" valign=\"top\">4</th>\n",
       "      <th>0.20</th>\n",
       "      <td>0.360273</td>\n",
       "      <td>121.468290</td>\n",
       "      <td>0.872888</td>\n",
       "    </tr>\n",
       "    <tr>\n",
       "      <th>0.25</th>\n",
       "      <td>0.360535</td>\n",
       "      <td>144.824457</td>\n",
       "      <td>1.039546</td>\n",
       "    </tr>\n",
       "    <tr>\n",
       "      <th>0.30</th>\n",
       "      <td>0.242972</td>\n",
       "      <td>173.880571</td>\n",
       "      <td>2.212726</td>\n",
       "    </tr>\n",
       "    <tr>\n",
       "      <th>0.50</th>\n",
       "      <td>0.082288</td>\n",
       "      <td>138.480781</td>\n",
       "      <td>18.532039</td>\n",
       "    </tr>\n",
       "    <tr>\n",
       "      <th>0.75</th>\n",
       "      <td>0.084110</td>\n",
       "      <td>143.687393</td>\n",
       "      <td>18.734263</td>\n",
       "    </tr>\n",
       "    <tr>\n",
       "      <th>0.90</th>\n",
       "      <td>0.083880</td>\n",
       "      <td>140.683344</td>\n",
       "      <td>18.363283</td>\n",
       "    </tr>\n",
       "    <tr>\n",
       "      <th>1.00</th>\n",
       "      <td>0.083580</td>\n",
       "      <td>139.642002</td>\n",
       "      <td>17.402275</td>\n",
       "    </tr>\n",
       "    <tr>\n",
       "      <th>2.00</th>\n",
       "      <td>0.083282</td>\n",
       "      <td>138.812137</td>\n",
       "      <td>17.353631</td>\n",
       "    </tr>\n",
       "    <tr>\n",
       "      <th>5.00</th>\n",
       "      <td>0.083348</td>\n",
       "      <td>138.950663</td>\n",
       "      <td>17.481427</td>\n",
       "    </tr>\n",
       "    <tr>\n",
       "      <th rowspan=\"9\" valign=\"top\">6</th>\n",
       "      <th>0.20</th>\n",
       "      <td>0.366359</td>\n",
       "      <td>133.841218</td>\n",
       "      <td>1.180860</td>\n",
       "    </tr>\n",
       "    <tr>\n",
       "      <th>0.25</th>\n",
       "      <td>0.365797</td>\n",
       "      <td>130.877901</td>\n",
       "      <td>1.003779</td>\n",
       "    </tr>\n",
       "    <tr>\n",
       "      <th>0.30</th>\n",
       "      <td>0.236124</td>\n",
       "      <td>155.910245</td>\n",
       "      <td>1.893986</td>\n",
       "    </tr>\n",
       "    <tr>\n",
       "      <th>0.50</th>\n",
       "      <td>0.109237</td>\n",
       "      <td>71.106334</td>\n",
       "      <td>14.194168</td>\n",
       "    </tr>\n",
       "    <tr>\n",
       "      <th>0.75</th>\n",
       "      <td>0.111349</td>\n",
       "      <td>84.516242</td>\n",
       "      <td>17.040192</td>\n",
       "    </tr>\n",
       "    <tr>\n",
       "      <th>0.90</th>\n",
       "      <td>0.111232</td>\n",
       "      <td>84.329296</td>\n",
       "      <td>17.099353</td>\n",
       "    </tr>\n",
       "    <tr>\n",
       "      <th>1.00</th>\n",
       "      <td>0.111185</td>\n",
       "      <td>84.567552</td>\n",
       "      <td>17.212310</td>\n",
       "    </tr>\n",
       "    <tr>\n",
       "      <th>2.00</th>\n",
       "      <td>0.111246</td>\n",
       "      <td>84.528599</td>\n",
       "      <td>17.302009</td>\n",
       "    </tr>\n",
       "    <tr>\n",
       "      <th>5.00</th>\n",
       "      <td>0.111201</td>\n",
       "      <td>84.510549</td>\n",
       "      <td>17.343356</td>\n",
       "    </tr>\n",
       "    <tr>\n",
       "      <th rowspan=\"9\" valign=\"top\">8</th>\n",
       "      <th>0.20</th>\n",
       "      <td>0.357209</td>\n",
       "      <td>115.624119</td>\n",
       "      <td>0.971698</td>\n",
       "    </tr>\n",
       "    <tr>\n",
       "      <th>0.25</th>\n",
       "      <td>0.236339</td>\n",
       "      <td>131.373357</td>\n",
       "      <td>1.568670</td>\n",
       "    </tr>\n",
       "    <tr>\n",
       "      <th>0.30</th>\n",
       "      <td>0.097090</td>\n",
       "      <td>121.528379</td>\n",
       "      <td>9.335668</td>\n",
       "    </tr>\n",
       "    <tr>\n",
       "      <th>0.50</th>\n",
       "      <td>0.128245</td>\n",
       "      <td>76.284122</td>\n",
       "      <td>14.415346</td>\n",
       "    </tr>\n",
       "    <tr>\n",
       "      <th>0.75</th>\n",
       "      <td>0.130530</td>\n",
       "      <td>77.373791</td>\n",
       "      <td>14.326822</td>\n",
       "    </tr>\n",
       "    <tr>\n",
       "      <th>0.90</th>\n",
       "      <td>0.126823</td>\n",
       "      <td>61.474920</td>\n",
       "      <td>14.654713</td>\n",
       "    </tr>\n",
       "    <tr>\n",
       "      <th>1.00</th>\n",
       "      <td>0.126990</td>\n",
       "      <td>61.335383</td>\n",
       "      <td>14.861291</td>\n",
       "    </tr>\n",
       "    <tr>\n",
       "      <th>2.00</th>\n",
       "      <td>0.126434</td>\n",
       "      <td>60.791240</td>\n",
       "      <td>14.776966</td>\n",
       "    </tr>\n",
       "    <tr>\n",
       "      <th>5.00</th>\n",
       "      <td>0.126459</td>\n",
       "      <td>60.567860</td>\n",
       "      <td>14.754722</td>\n",
       "    </tr>\n",
       "    <tr>\n",
       "      <th rowspan=\"9\" valign=\"top\">10</th>\n",
       "      <th>0.20</th>\n",
       "      <td>0.284170</td>\n",
       "      <td>100.376306</td>\n",
       "      <td>0.958179</td>\n",
       "    </tr>\n",
       "    <tr>\n",
       "      <th>0.25</th>\n",
       "      <td>0.355434</td>\n",
       "      <td>101.747684</td>\n",
       "      <td>0.879942</td>\n",
       "    </tr>\n",
       "    <tr>\n",
       "      <th>0.30</th>\n",
       "      <td>0.124279</td>\n",
       "      <td>90.936885</td>\n",
       "      <td>8.668890</td>\n",
       "    </tr>\n",
       "    <tr>\n",
       "      <th>0.50</th>\n",
       "      <td>0.144429</td>\n",
       "      <td>61.517233</td>\n",
       "      <td>12.789464</td>\n",
       "    </tr>\n",
       "    <tr>\n",
       "      <th>0.75</th>\n",
       "      <td>0.143755</td>\n",
       "      <td>60.663640</td>\n",
       "      <td>12.659948</td>\n",
       "    </tr>\n",
       "    <tr>\n",
       "      <th>0.90</th>\n",
       "      <td>0.143632</td>\n",
       "      <td>60.514739</td>\n",
       "      <td>12.667498</td>\n",
       "    </tr>\n",
       "    <tr>\n",
       "      <th>1.00</th>\n",
       "      <td>0.143715</td>\n",
       "      <td>60.439476</td>\n",
       "      <td>12.660220</td>\n",
       "    </tr>\n",
       "    <tr>\n",
       "      <th>2.00</th>\n",
       "      <td>0.142988</td>\n",
       "      <td>60.361533</td>\n",
       "      <td>12.591555</td>\n",
       "    </tr>\n",
       "    <tr>\n",
       "      <th>5.00</th>\n",
       "      <td>0.143260</td>\n",
       "      <td>60.124319</td>\n",
       "      <td>12.510766</td>\n",
       "    </tr>\n",
       "    <tr>\n",
       "      <th rowspan=\"9\" valign=\"top\">12</th>\n",
       "      <th>0.20</th>\n",
       "      <td>0.285607</td>\n",
       "      <td>95.884970</td>\n",
       "      <td>0.918257</td>\n",
       "    </tr>\n",
       "    <tr>\n",
       "      <th>0.25</th>\n",
       "      <td>0.233302</td>\n",
       "      <td>104.860882</td>\n",
       "      <td>1.267764</td>\n",
       "    </tr>\n",
       "    <tr>\n",
       "      <th>0.30</th>\n",
       "      <td>0.135423</td>\n",
       "      <td>82.455804</td>\n",
       "      <td>9.291141</td>\n",
       "    </tr>\n",
       "    <tr>\n",
       "      <th>0.50</th>\n",
       "      <td>0.150808</td>\n",
       "      <td>50.949607</td>\n",
       "      <td>12.694901</td>\n",
       "    </tr>\n",
       "    <tr>\n",
       "      <th>0.75</th>\n",
       "      <td>0.151032</td>\n",
       "      <td>50.171835</td>\n",
       "      <td>13.171769</td>\n",
       "    </tr>\n",
       "    <tr>\n",
       "      <th>0.90</th>\n",
       "      <td>0.151315</td>\n",
       "      <td>49.765205</td>\n",
       "      <td>13.027939</td>\n",
       "    </tr>\n",
       "    <tr>\n",
       "      <th>1.00</th>\n",
       "      <td>0.151144</td>\n",
       "      <td>49.883495</td>\n",
       "      <td>13.217586</td>\n",
       "    </tr>\n",
       "    <tr>\n",
       "      <th>2.00</th>\n",
       "      <td>0.150650</td>\n",
       "      <td>49.645825</td>\n",
       "      <td>13.208446</td>\n",
       "    </tr>\n",
       "    <tr>\n",
       "      <th>5.00</th>\n",
       "      <td>0.150593</td>\n",
       "      <td>49.602667</td>\n",
       "      <td>13.204862</td>\n",
       "    </tr>\n",
       "    <tr>\n",
       "      <th rowspan=\"9\" valign=\"top\">14</th>\n",
       "      <th>0.20</th>\n",
       "      <td>0.227774</td>\n",
       "      <td>100.145670</td>\n",
       "      <td>1.184358</td>\n",
       "    </tr>\n",
       "    <tr>\n",
       "      <th>0.25</th>\n",
       "      <td>0.231886</td>\n",
       "      <td>98.783418</td>\n",
       "      <td>1.181149</td>\n",
       "    </tr>\n",
       "    <tr>\n",
       "      <th>0.30</th>\n",
       "      <td>0.140035</td>\n",
       "      <td>79.290642</td>\n",
       "      <td>8.115135</td>\n",
       "    </tr>\n",
       "    <tr>\n",
       "      <th>0.50</th>\n",
       "      <td>0.158400</td>\n",
       "      <td>60.730203</td>\n",
       "      <td>11.428590</td>\n",
       "    </tr>\n",
       "    <tr>\n",
       "      <th>0.75</th>\n",
       "      <td>0.152182</td>\n",
       "      <td>41.416576</td>\n",
       "      <td>12.152588</td>\n",
       "    </tr>\n",
       "    <tr>\n",
       "      <th>0.90</th>\n",
       "      <td>0.153292</td>\n",
       "      <td>40.784464</td>\n",
       "      <td>12.109502</td>\n",
       "    </tr>\n",
       "    <tr>\n",
       "      <th>1.00</th>\n",
       "      <td>0.153992</td>\n",
       "      <td>40.702217</td>\n",
       "      <td>12.493347</td>\n",
       "    </tr>\n",
       "    <tr>\n",
       "      <th>2.00</th>\n",
       "      <td>0.153823</td>\n",
       "      <td>38.159815</td>\n",
       "      <td>12.446377</td>\n",
       "    </tr>\n",
       "    <tr>\n",
       "      <th>5.00</th>\n",
       "      <td>0.153659</td>\n",
       "      <td>39.343862</td>\n",
       "      <td>12.349067</td>\n",
       "    </tr>\n",
       "    <tr>\n",
       "      <th rowspan=\"9\" valign=\"top\">16</th>\n",
       "      <th>0.20</th>\n",
       "      <td>0.283238</td>\n",
       "      <td>85.150861</td>\n",
       "      <td>0.887538</td>\n",
       "    </tr>\n",
       "    <tr>\n",
       "      <th>0.25</th>\n",
       "      <td>0.223490</td>\n",
       "      <td>89.810329</td>\n",
       "      <td>1.210451</td>\n",
       "    </tr>\n",
       "    <tr>\n",
       "      <th>0.30</th>\n",
       "      <td>0.144274</td>\n",
       "      <td>75.479446</td>\n",
       "      <td>7.594242</td>\n",
       "    </tr>\n",
       "    <tr>\n",
       "      <th>0.50</th>\n",
       "      <td>0.161586</td>\n",
       "      <td>50.588092</td>\n",
       "      <td>11.399760</td>\n",
       "    </tr>\n",
       "    <tr>\n",
       "      <th>0.75</th>\n",
       "      <td>0.161521</td>\n",
       "      <td>34.873529</td>\n",
       "      <td>12.782681</td>\n",
       "    </tr>\n",
       "    <tr>\n",
       "      <th>0.90</th>\n",
       "      <td>0.160940</td>\n",
       "      <td>32.458255</td>\n",
       "      <td>12.790164</td>\n",
       "    </tr>\n",
       "    <tr>\n",
       "      <th>1.00</th>\n",
       "      <td>0.157733</td>\n",
       "      <td>35.033906</td>\n",
       "      <td>12.645088</td>\n",
       "    </tr>\n",
       "    <tr>\n",
       "      <th>2.00</th>\n",
       "      <td>0.155862</td>\n",
       "      <td>35.185831</td>\n",
       "      <td>12.362417</td>\n",
       "    </tr>\n",
       "    <tr>\n",
       "      <th>5.00</th>\n",
       "      <td>0.161450</td>\n",
       "      <td>32.292917</td>\n",
       "      <td>12.846322</td>\n",
       "    </tr>\n",
       "    <tr>\n",
       "      <th rowspan=\"9\" valign=\"top\">18</th>\n",
       "      <th>0.20</th>\n",
       "      <td>0.249320</td>\n",
       "      <td>76.933727</td>\n",
       "      <td>0.827542</td>\n",
       "    </tr>\n",
       "    <tr>\n",
       "      <th>0.25</th>\n",
       "      <td>0.125457</td>\n",
       "      <td>84.274014</td>\n",
       "      <td>3.652362</td>\n",
       "    </tr>\n",
       "    <tr>\n",
       "      <th>0.30</th>\n",
       "      <td>0.144546</td>\n",
       "      <td>72.618484</td>\n",
       "      <td>7.462836</td>\n",
       "    </tr>\n",
       "    <tr>\n",
       "      <th>0.50</th>\n",
       "      <td>0.166115</td>\n",
       "      <td>43.628733</td>\n",
       "      <td>11.280261</td>\n",
       "    </tr>\n",
       "    <tr>\n",
       "      <th>0.75</th>\n",
       "      <td>0.162603</td>\n",
       "      <td>29.863577</td>\n",
       "      <td>12.584209</td>\n",
       "    </tr>\n",
       "    <tr>\n",
       "      <th>0.90</th>\n",
       "      <td>0.160297</td>\n",
       "      <td>29.232128</td>\n",
       "      <td>12.523454</td>\n",
       "    </tr>\n",
       "    <tr>\n",
       "      <th>1.00</th>\n",
       "      <td>0.161840</td>\n",
       "      <td>28.796755</td>\n",
       "      <td>12.714166</td>\n",
       "    </tr>\n",
       "    <tr>\n",
       "      <th>2.00</th>\n",
       "      <td>0.165377</td>\n",
       "      <td>28.389891</td>\n",
       "      <td>12.868206</td>\n",
       "    </tr>\n",
       "    <tr>\n",
       "      <th>5.00</th>\n",
       "      <td>0.160016</td>\n",
       "      <td>28.076917</td>\n",
       "      <td>12.734623</td>\n",
       "    </tr>\n",
       "    <tr>\n",
       "      <th rowspan=\"9\" valign=\"top\">20</th>\n",
       "      <th>0.20</th>\n",
       "      <td>0.205376</td>\n",
       "      <td>74.577271</td>\n",
       "      <td>0.895968</td>\n",
       "    </tr>\n",
       "    <tr>\n",
       "      <th>0.25</th>\n",
       "      <td>0.103113</td>\n",
       "      <td>77.464880</td>\n",
       "      <td>3.771607</td>\n",
       "    </tr>\n",
       "    <tr>\n",
       "      <th>0.30</th>\n",
       "      <td>0.159514</td>\n",
       "      <td>66.796376</td>\n",
       "      <td>7.229505</td>\n",
       "    </tr>\n",
       "    <tr>\n",
       "      <th>0.50</th>\n",
       "      <td>0.166908</td>\n",
       "      <td>39.471246</td>\n",
       "      <td>10.913080</td>\n",
       "    </tr>\n",
       "    <tr>\n",
       "      <th>0.75</th>\n",
       "      <td>0.168927</td>\n",
       "      <td>31.326065</td>\n",
       "      <td>11.936193</td>\n",
       "    </tr>\n",
       "    <tr>\n",
       "      <th>0.90</th>\n",
       "      <td>0.173561</td>\n",
       "      <td>30.796985</td>\n",
       "      <td>12.006930</td>\n",
       "    </tr>\n",
       "    <tr>\n",
       "      <th>1.00</th>\n",
       "      <td>0.173545</td>\n",
       "      <td>30.941106</td>\n",
       "      <td>11.951596</td>\n",
       "    </tr>\n",
       "    <tr>\n",
       "      <th>2.00</th>\n",
       "      <td>0.166195</td>\n",
       "      <td>27.545236</td>\n",
       "      <td>12.446432</td>\n",
       "    </tr>\n",
       "    <tr>\n",
       "      <th>5.00</th>\n",
       "      <td>0.167234</td>\n",
       "      <td>26.509042</td>\n",
       "      <td>12.566517</td>\n",
       "    </tr>\n",
       "    <tr>\n",
       "      <th rowspan=\"9\" valign=\"top\">25</th>\n",
       "      <th>0.20</th>\n",
       "      <td>0.154849</td>\n",
       "      <td>68.701893</td>\n",
       "      <td>1.664209</td>\n",
       "    </tr>\n",
       "    <tr>\n",
       "      <th>0.25</th>\n",
       "      <td>0.121652</td>\n",
       "      <td>63.528261</td>\n",
       "      <td>4.018190</td>\n",
       "    </tr>\n",
       "    <tr>\n",
       "      <th>0.30</th>\n",
       "      <td>0.166854</td>\n",
       "      <td>58.089022</td>\n",
       "      <td>7.867466</td>\n",
       "    </tr>\n",
       "    <tr>\n",
       "      <th>0.50</th>\n",
       "      <td>0.175948</td>\n",
       "      <td>34.953651</td>\n",
       "      <td>11.404568</td>\n",
       "    </tr>\n",
       "    <tr>\n",
       "      <th>0.75</th>\n",
       "      <td>0.172689</td>\n",
       "      <td>32.232962</td>\n",
       "      <td>11.381862</td>\n",
       "    </tr>\n",
       "    <tr>\n",
       "      <th>0.90</th>\n",
       "      <td>0.167577</td>\n",
       "      <td>29.329449</td>\n",
       "      <td>11.478780</td>\n",
       "    </tr>\n",
       "    <tr>\n",
       "      <th>1.00</th>\n",
       "      <td>0.171615</td>\n",
       "      <td>26.772505</td>\n",
       "      <td>11.874024</td>\n",
       "    </tr>\n",
       "    <tr>\n",
       "      <th>2.00</th>\n",
       "      <td>0.166753</td>\n",
       "      <td>25.735943</td>\n",
       "      <td>11.634438</td>\n",
       "    </tr>\n",
       "    <tr>\n",
       "      <th>5.00</th>\n",
       "      <td>0.167437</td>\n",
       "      <td>25.462268</td>\n",
       "      <td>11.764265</td>\n",
       "    </tr>\n",
       "    <tr>\n",
       "      <th rowspan=\"9\" valign=\"top\">30</th>\n",
       "      <th>0.20</th>\n",
       "      <td>0.114545</td>\n",
       "      <td>58.362616</td>\n",
       "      <td>2.907999</td>\n",
       "    </tr>\n",
       "    <tr>\n",
       "      <th>0.25</th>\n",
       "      <td>0.124820</td>\n",
       "      <td>56.056199</td>\n",
       "      <td>4.829287</td>\n",
       "    </tr>\n",
       "    <tr>\n",
       "      <th>0.30</th>\n",
       "      <td>0.175867</td>\n",
       "      <td>50.987325</td>\n",
       "      <td>7.551982</td>\n",
       "    </tr>\n",
       "    <tr>\n",
       "      <th>0.50</th>\n",
       "      <td>0.175988</td>\n",
       "      <td>34.160325</td>\n",
       "      <td>10.313942</td>\n",
       "    </tr>\n",
       "    <tr>\n",
       "      <th>0.75</th>\n",
       "      <td>0.173396</td>\n",
       "      <td>28.865706</td>\n",
       "      <td>10.883253</td>\n",
       "    </tr>\n",
       "    <tr>\n",
       "      <th>0.90</th>\n",
       "      <td>0.169778</td>\n",
       "      <td>28.016532</td>\n",
       "      <td>11.230138</td>\n",
       "    </tr>\n",
       "    <tr>\n",
       "      <th>1.00</th>\n",
       "      <td>0.167495</td>\n",
       "      <td>27.618648</td>\n",
       "      <td>10.939971</td>\n",
       "    </tr>\n",
       "    <tr>\n",
       "      <th>2.00</th>\n",
       "      <td>0.168811</td>\n",
       "      <td>24.056446</td>\n",
       "      <td>11.346392</td>\n",
       "    </tr>\n",
       "    <tr>\n",
       "      <th>5.00</th>\n",
       "      <td>0.169222</td>\n",
       "      <td>23.515050</td>\n",
       "      <td>11.369548</td>\n",
       "    </tr>\n",
       "    <tr>\n",
       "      <th rowspan=\"9\" valign=\"top\">35</th>\n",
       "      <th>0.20</th>\n",
       "      <td>0.112725</td>\n",
       "      <td>52.262999</td>\n",
       "      <td>3.917149</td>\n",
       "    </tr>\n",
       "    <tr>\n",
       "      <th>0.25</th>\n",
       "      <td>0.148548</td>\n",
       "      <td>48.951628</td>\n",
       "      <td>5.772731</td>\n",
       "    </tr>\n",
       "    <tr>\n",
       "      <th>0.30</th>\n",
       "      <td>0.178691</td>\n",
       "      <td>44.601918</td>\n",
       "      <td>7.585994</td>\n",
       "    </tr>\n",
       "    <tr>\n",
       "      <th>0.50</th>\n",
       "      <td>0.179426</td>\n",
       "      <td>34.174435</td>\n",
       "      <td>9.732167</td>\n",
       "    </tr>\n",
       "    <tr>\n",
       "      <th>0.75</th>\n",
       "      <td>0.173565</td>\n",
       "      <td>27.553770</td>\n",
       "      <td>10.436730</td>\n",
       "    </tr>\n",
       "    <tr>\n",
       "      <th>0.90</th>\n",
       "      <td>0.171960</td>\n",
       "      <td>27.636300</td>\n",
       "      <td>10.316521</td>\n",
       "    </tr>\n",
       "    <tr>\n",
       "      <th>1.00</th>\n",
       "      <td>0.167935</td>\n",
       "      <td>26.509589</td>\n",
       "      <td>10.224216</td>\n",
       "    </tr>\n",
       "    <tr>\n",
       "      <th>2.00</th>\n",
       "      <td>0.165342</td>\n",
       "      <td>25.708568</td>\n",
       "      <td>10.541296</td>\n",
       "    </tr>\n",
       "    <tr>\n",
       "      <th>5.00</th>\n",
       "      <td>0.161624</td>\n",
       "      <td>24.920909</td>\n",
       "      <td>10.449905</td>\n",
       "    </tr>\n",
       "    <tr>\n",
       "      <th rowspan=\"9\" valign=\"top\">40</th>\n",
       "      <th>0.20</th>\n",
       "      <td>0.137873</td>\n",
       "      <td>46.921930</td>\n",
       "      <td>4.525684</td>\n",
       "    </tr>\n",
       "    <tr>\n",
       "      <th>0.25</th>\n",
       "      <td>0.158410</td>\n",
       "      <td>43.731767</td>\n",
       "      <td>6.230011</td>\n",
       "    </tr>\n",
       "    <tr>\n",
       "      <th>0.30</th>\n",
       "      <td>0.190481</td>\n",
       "      <td>39.895914</td>\n",
       "      <td>7.893347</td>\n",
       "    </tr>\n",
       "    <tr>\n",
       "      <th>0.50</th>\n",
       "      <td>0.180397</td>\n",
       "      <td>31.516796</td>\n",
       "      <td>9.450027</td>\n",
       "    </tr>\n",
       "    <tr>\n",
       "      <th>0.75</th>\n",
       "      <td>0.167003</td>\n",
       "      <td>28.758394</td>\n",
       "      <td>9.628575</td>\n",
       "    </tr>\n",
       "    <tr>\n",
       "      <th>0.90</th>\n",
       "      <td>0.169636</td>\n",
       "      <td>27.941983</td>\n",
       "      <td>9.650832</td>\n",
       "    </tr>\n",
       "    <tr>\n",
       "      <th>1.00</th>\n",
       "      <td>0.166127</td>\n",
       "      <td>27.316528</td>\n",
       "      <td>9.617261</td>\n",
       "    </tr>\n",
       "    <tr>\n",
       "      <th>2.00</th>\n",
       "      <td>0.158949</td>\n",
       "      <td>25.372599</td>\n",
       "      <td>9.660915</td>\n",
       "    </tr>\n",
       "    <tr>\n",
       "      <th>5.00</th>\n",
       "      <td>0.155528</td>\n",
       "      <td>24.020641</td>\n",
       "      <td>9.603074</td>\n",
       "    </tr>\n",
       "    <tr>\n",
       "      <th rowspan=\"9\" valign=\"top\">50</th>\n",
       "      <th>0.20</th>\n",
       "      <td>0.135694</td>\n",
       "      <td>40.431342</td>\n",
       "      <td>4.723516</td>\n",
       "    </tr>\n",
       "    <tr>\n",
       "      <th>0.25</th>\n",
       "      <td>0.167368</td>\n",
       "      <td>37.307605</td>\n",
       "      <td>6.303953</td>\n",
       "    </tr>\n",
       "    <tr>\n",
       "      <th>0.30</th>\n",
       "      <td>0.200260</td>\n",
       "      <td>35.952965</td>\n",
       "      <td>7.489051</td>\n",
       "    </tr>\n",
       "    <tr>\n",
       "      <th>0.50</th>\n",
       "      <td>0.169228</td>\n",
       "      <td>27.356415</td>\n",
       "      <td>8.938297</td>\n",
       "    </tr>\n",
       "    <tr>\n",
       "      <th>0.75</th>\n",
       "      <td>0.157111</td>\n",
       "      <td>24.478325</td>\n",
       "      <td>8.904489</td>\n",
       "    </tr>\n",
       "    <tr>\n",
       "      <th>0.90</th>\n",
       "      <td>0.153546</td>\n",
       "      <td>24.213689</td>\n",
       "      <td>9.213862</td>\n",
       "    </tr>\n",
       "    <tr>\n",
       "      <th>1.00</th>\n",
       "      <td>0.158402</td>\n",
       "      <td>24.562114</td>\n",
       "      <td>9.108714</td>\n",
       "    </tr>\n",
       "    <tr>\n",
       "      <th>2.00</th>\n",
       "      <td>0.148342</td>\n",
       "      <td>23.509111</td>\n",
       "      <td>9.139811</td>\n",
       "    </tr>\n",
       "    <tr>\n",
       "      <th>5.00</th>\n",
       "      <td>0.151441</td>\n",
       "      <td>22.738253</td>\n",
       "      <td>9.167542</td>\n",
       "    </tr>\n",
       "    <tr>\n",
       "      <th rowspan=\"9\" valign=\"top\">60</th>\n",
       "      <th>0.20</th>\n",
       "      <td>0.159246</td>\n",
       "      <td>35.941931</td>\n",
       "      <td>5.126186</td>\n",
       "    </tr>\n",
       "    <tr>\n",
       "      <th>0.25</th>\n",
       "      <td>0.199550</td>\n",
       "      <td>34.306918</td>\n",
       "      <td>6.236348</td>\n",
       "    </tr>\n",
       "    <tr>\n",
       "      <th>0.30</th>\n",
       "      <td>0.197261</td>\n",
       "      <td>31.444730</td>\n",
       "      <td>7.174536</td>\n",
       "    </tr>\n",
       "    <tr>\n",
       "      <th>0.50</th>\n",
       "      <td>0.157012</td>\n",
       "      <td>26.828004</td>\n",
       "      <td>8.467465</td>\n",
       "    </tr>\n",
       "    <tr>\n",
       "      <th>0.75</th>\n",
       "      <td>0.147941</td>\n",
       "      <td>22.269965</td>\n",
       "      <td>8.441232</td>\n",
       "    </tr>\n",
       "    <tr>\n",
       "      <th>0.90</th>\n",
       "      <td>0.146499</td>\n",
       "      <td>21.877961</td>\n",
       "      <td>8.661283</td>\n",
       "    </tr>\n",
       "    <tr>\n",
       "      <th>1.00</th>\n",
       "      <td>0.145322</td>\n",
       "      <td>22.111260</td>\n",
       "      <td>8.569516</td>\n",
       "    </tr>\n",
       "    <tr>\n",
       "      <th>2.00</th>\n",
       "      <td>0.132927</td>\n",
       "      <td>21.081153</td>\n",
       "      <td>8.621618</td>\n",
       "    </tr>\n",
       "    <tr>\n",
       "      <th>5.00</th>\n",
       "      <td>0.140429</td>\n",
       "      <td>20.999638</td>\n",
       "      <td>8.595344</td>\n",
       "    </tr>\n",
       "  </tbody>\n",
       "</table>\n",
       "</div>"
      ],
      "text/plain": [
       "                  si_score    ch_score   db_score\n",
       "n_clusters delta                                 \n",
       "2          0.20   0.413614   96.586303   0.530212\n",
       "           0.25   0.413614   96.586303   0.530212\n",
       "           0.30   0.368615  210.952185   1.384719\n",
       "           0.50   0.234743  259.238484   3.158186\n",
       "           0.75   0.231760  257.204895   3.189686\n",
       "           0.90   0.231284  256.973997   3.194576\n",
       "           1.00   0.231165  256.873267   3.197132\n",
       "           2.00   0.230672  256.451837   3.203429\n",
       "           5.00   0.230244  256.226718   3.205992\n",
       "4          0.20   0.360273  121.468290   0.872888\n",
       "           0.25   0.360535  144.824457   1.039546\n",
       "           0.30   0.242972  173.880571   2.212726\n",
       "           0.50   0.082288  138.480781  18.532039\n",
       "           0.75   0.084110  143.687393  18.734263\n",
       "           0.90   0.083880  140.683344  18.363283\n",
       "           1.00   0.083580  139.642002  17.402275\n",
       "           2.00   0.083282  138.812137  17.353631\n",
       "           5.00   0.083348  138.950663  17.481427\n",
       "6          0.20   0.366359  133.841218   1.180860\n",
       "           0.25   0.365797  130.877901   1.003779\n",
       "           0.30   0.236124  155.910245   1.893986\n",
       "           0.50   0.109237   71.106334  14.194168\n",
       "           0.75   0.111349   84.516242  17.040192\n",
       "           0.90   0.111232   84.329296  17.099353\n",
       "           1.00   0.111185   84.567552  17.212310\n",
       "           2.00   0.111246   84.528599  17.302009\n",
       "           5.00   0.111201   84.510549  17.343356\n",
       "8          0.20   0.357209  115.624119   0.971698\n",
       "           0.25   0.236339  131.373357   1.568670\n",
       "           0.30   0.097090  121.528379   9.335668\n",
       "           0.50   0.128245   76.284122  14.415346\n",
       "           0.75   0.130530   77.373791  14.326822\n",
       "           0.90   0.126823   61.474920  14.654713\n",
       "           1.00   0.126990   61.335383  14.861291\n",
       "           2.00   0.126434   60.791240  14.776966\n",
       "           5.00   0.126459   60.567860  14.754722\n",
       "10         0.20   0.284170  100.376306   0.958179\n",
       "           0.25   0.355434  101.747684   0.879942\n",
       "           0.30   0.124279   90.936885   8.668890\n",
       "           0.50   0.144429   61.517233  12.789464\n",
       "           0.75   0.143755   60.663640  12.659948\n",
       "           0.90   0.143632   60.514739  12.667498\n",
       "           1.00   0.143715   60.439476  12.660220\n",
       "           2.00   0.142988   60.361533  12.591555\n",
       "           5.00   0.143260   60.124319  12.510766\n",
       "12         0.20   0.285607   95.884970   0.918257\n",
       "           0.25   0.233302  104.860882   1.267764\n",
       "           0.30   0.135423   82.455804   9.291141\n",
       "           0.50   0.150808   50.949607  12.694901\n",
       "           0.75   0.151032   50.171835  13.171769\n",
       "           0.90   0.151315   49.765205  13.027939\n",
       "           1.00   0.151144   49.883495  13.217586\n",
       "           2.00   0.150650   49.645825  13.208446\n",
       "           5.00   0.150593   49.602667  13.204862\n",
       "14         0.20   0.227774  100.145670   1.184358\n",
       "           0.25   0.231886   98.783418   1.181149\n",
       "           0.30   0.140035   79.290642   8.115135\n",
       "           0.50   0.158400   60.730203  11.428590\n",
       "           0.75   0.152182   41.416576  12.152588\n",
       "           0.90   0.153292   40.784464  12.109502\n",
       "           1.00   0.153992   40.702217  12.493347\n",
       "           2.00   0.153823   38.159815  12.446377\n",
       "           5.00   0.153659   39.343862  12.349067\n",
       "16         0.20   0.283238   85.150861   0.887538\n",
       "           0.25   0.223490   89.810329   1.210451\n",
       "           0.30   0.144274   75.479446   7.594242\n",
       "           0.50   0.161586   50.588092  11.399760\n",
       "           0.75   0.161521   34.873529  12.782681\n",
       "           0.90   0.160940   32.458255  12.790164\n",
       "           1.00   0.157733   35.033906  12.645088\n",
       "           2.00   0.155862   35.185831  12.362417\n",
       "           5.00   0.161450   32.292917  12.846322\n",
       "18         0.20   0.249320   76.933727   0.827542\n",
       "           0.25   0.125457   84.274014   3.652362\n",
       "           0.30   0.144546   72.618484   7.462836\n",
       "           0.50   0.166115   43.628733  11.280261\n",
       "           0.75   0.162603   29.863577  12.584209\n",
       "           0.90   0.160297   29.232128  12.523454\n",
       "           1.00   0.161840   28.796755  12.714166\n",
       "           2.00   0.165377   28.389891  12.868206\n",
       "           5.00   0.160016   28.076917  12.734623\n",
       "20         0.20   0.205376   74.577271   0.895968\n",
       "           0.25   0.103113   77.464880   3.771607\n",
       "           0.30   0.159514   66.796376   7.229505\n",
       "           0.50   0.166908   39.471246  10.913080\n",
       "           0.75   0.168927   31.326065  11.936193\n",
       "           0.90   0.173561   30.796985  12.006930\n",
       "           1.00   0.173545   30.941106  11.951596\n",
       "           2.00   0.166195   27.545236  12.446432\n",
       "           5.00   0.167234   26.509042  12.566517\n",
       "25         0.20   0.154849   68.701893   1.664209\n",
       "           0.25   0.121652   63.528261   4.018190\n",
       "           0.30   0.166854   58.089022   7.867466\n",
       "           0.50   0.175948   34.953651  11.404568\n",
       "           0.75   0.172689   32.232962  11.381862\n",
       "           0.90   0.167577   29.329449  11.478780\n",
       "           1.00   0.171615   26.772505  11.874024\n",
       "           2.00   0.166753   25.735943  11.634438\n",
       "           5.00   0.167437   25.462268  11.764265\n",
       "30         0.20   0.114545   58.362616   2.907999\n",
       "           0.25   0.124820   56.056199   4.829287\n",
       "           0.30   0.175867   50.987325   7.551982\n",
       "           0.50   0.175988   34.160325  10.313942\n",
       "           0.75   0.173396   28.865706  10.883253\n",
       "           0.90   0.169778   28.016532  11.230138\n",
       "           1.00   0.167495   27.618648  10.939971\n",
       "           2.00   0.168811   24.056446  11.346392\n",
       "           5.00   0.169222   23.515050  11.369548\n",
       "35         0.20   0.112725   52.262999   3.917149\n",
       "           0.25   0.148548   48.951628   5.772731\n",
       "           0.30   0.178691   44.601918   7.585994\n",
       "           0.50   0.179426   34.174435   9.732167\n",
       "           0.75   0.173565   27.553770  10.436730\n",
       "           0.90   0.171960   27.636300  10.316521\n",
       "           1.00   0.167935   26.509589  10.224216\n",
       "           2.00   0.165342   25.708568  10.541296\n",
       "           5.00   0.161624   24.920909  10.449905\n",
       "40         0.20   0.137873   46.921930   4.525684\n",
       "           0.25   0.158410   43.731767   6.230011\n",
       "           0.30   0.190481   39.895914   7.893347\n",
       "           0.50   0.180397   31.516796   9.450027\n",
       "           0.75   0.167003   28.758394   9.628575\n",
       "           0.90   0.169636   27.941983   9.650832\n",
       "           1.00   0.166127   27.316528   9.617261\n",
       "           2.00   0.158949   25.372599   9.660915\n",
       "           5.00   0.155528   24.020641   9.603074\n",
       "50         0.20   0.135694   40.431342   4.723516\n",
       "           0.25   0.167368   37.307605   6.303953\n",
       "           0.30   0.200260   35.952965   7.489051\n",
       "           0.50   0.169228   27.356415   8.938297\n",
       "           0.75   0.157111   24.478325   8.904489\n",
       "           0.90   0.153546   24.213689   9.213862\n",
       "           1.00   0.158402   24.562114   9.108714\n",
       "           2.00   0.148342   23.509111   9.139811\n",
       "           5.00   0.151441   22.738253   9.167542\n",
       "60         0.20   0.159246   35.941931   5.126186\n",
       "           0.25   0.199550   34.306918   6.236348\n",
       "           0.30   0.197261   31.444730   7.174536\n",
       "           0.50   0.157012   26.828004   8.467465\n",
       "           0.75   0.147941   22.269965   8.441232\n",
       "           0.90   0.146499   21.877961   8.661283\n",
       "           1.00   0.145322   22.111260   8.569516\n",
       "           2.00   0.132927   21.081153   8.621618\n",
       "           5.00   0.140429   20.999638   8.595344"
      ]
     },
     "metadata": {},
     "output_type": "display_data"
    }
   ],
   "source": [
    "with pd.option_context(\"display.max_rows\", None, \"display.max_columns\", None):\n",
    "    _df = ensemble.groupby([\"n_clusters\", \"delta\"]).mean()\n",
    "    display(_df)"
   ]
  },
  {
   "cell_type": "code",
   "execution_count": 36,
   "metadata": {
    "execution": {
     "iopub.execute_input": "2021-03-11T03:01:34.311084Z",
     "iopub.status.busy": "2021-03-11T03:01:34.310715Z",
     "iopub.status.idle": "2021-03-11T03:01:37.521297Z",
     "shell.execute_reply": "2021-03-11T03:01:37.521589Z"
    },
    "papermill": {
     "duration": 3.234324,
     "end_time": "2021-03-11T03:01:37.521693",
     "exception": false,
     "start_time": "2021-03-11T03:01:34.287369",
     "status": "completed"
    },
    "tags": []
   },
   "outputs": [
    {
     "data": {
      "image/png": "[encoded data removed]",
      "text/plain": [
       "<Figure size 1008x432 with 1 Axes>"
      ]
     },
     "metadata": {},
     "output_type": "display_data"
    }
   ],
   "source": [
    "with sns.plotting_context(\"talk\", font_scale=0.75), sns.axes_style(\n",
    "    \"whitegrid\", {\"grid.linestyle\": \"--\"}\n",
    "):\n",
    "    fig = plt.figure(figsize=(14, 6))\n",
    "    ax = sns.pointplot(data=ensemble, x=\"n_clusters\", y=\"si_score\", hue=\"delta\")\n",
    "    ax.set_ylabel(\"Silhouette index\\n(higher is better)\")\n",
    "    ax.set_xlabel(\"Number of clusters ($k$)\")\n",
    "    ax.set_xticklabels(ax.get_xticklabels(), rotation=45)\n",
    "    plt.grid(True)\n",
    "    plt.tight_layout()"
   ]
  },
  {
   "cell_type": "code",
   "execution_count": 37,
   "metadata": {
    "execution": {
     "iopub.execute_input": "2021-03-11T03:01:37.570703Z",
     "iopub.status.busy": "2021-03-11T03:01:37.570340Z",
     "iopub.status.idle": "2021-03-11T03:01:40.481309Z",
     "shell.execute_reply": "2021-03-11T03:01:40.480953Z"
    },
    "papermill": {
     "duration": 2.936878,
     "end_time": "2021-03-11T03:01:40.481393",
     "exception": false,
     "start_time": "2021-03-11T03:01:37.544515",
     "status": "completed"
    },
    "tags": []
   },
   "outputs": [
    {
     "data": {
      "image/png": "[encoded data removed]",
      "text/plain": [
       "<Figure size 1008x432 with 1 Axes>"
      ]
     },
     "metadata": {},
     "output_type": "display_data"
    }
   ],
   "source": [
    "with sns.plotting_context(\"talk\", font_scale=0.75), sns.axes_style(\n",
    "    \"whitegrid\", {\"grid.linestyle\": \"--\"}\n",
    "):\n",
    "    fig = plt.figure(figsize=(14, 6))\n",
    "    ax = sns.pointplot(data=ensemble, x=\"n_clusters\", y=\"ch_score\", hue=\"delta\")\n",
    "    ax.set_ylabel(\"Calinski-Harabasz index\\n(higher is better)\")\n",
    "    ax.set_xlabel(\"Number of clusters ($k$)\")\n",
    "    ax.set_xticklabels(ax.get_xticklabels(), rotation=45)\n",
    "    plt.grid(True)\n",
    "    plt.tight_layout()"
   ]
  },
  {
   "cell_type": "code",
   "execution_count": 38,
   "metadata": {
    "execution": {
     "iopub.execute_input": "2021-03-11T03:01:40.536468Z",
     "iopub.status.busy": "2021-03-11T03:01:40.536100Z",
     "iopub.status.idle": "2021-03-11T03:01:43.829964Z",
     "shell.execute_reply": "2021-03-11T03:01:43.830263Z"
    },
    "papermill": {
     "duration": 3.322549,
     "end_time": "2021-03-11T03:01:43.830368",
     "exception": false,
     "start_time": "2021-03-11T03:01:40.507819",
     "status": "completed"
    },
    "tags": []
   },
   "outputs": [
    {
     "data": {
      "image/png": "[encoded data removed]",
      "text/plain": [
       "<Figure size 1008x432 with 1 Axes>"
      ]
     },
     "metadata": {},
     "output_type": "display_data"
    }
   ],
   "source": [
    "with sns.plotting_context(\"talk\", font_scale=0.75), sns.axes_style(\n",
    "    \"whitegrid\", {\"grid.linestyle\": \"--\"}\n",
    "):\n",
    "    fig = plt.figure(figsize=(14, 6))\n",
    "    ax = sns.pointplot(data=ensemble, x=\"n_clusters\", y=\"db_score\", hue=\"delta\")\n",
    "    ax.set_ylabel(\"Davies-Bouldin index\\n(lower is better)\")\n",
    "    ax.set_xlabel(\"Number of clusters ($k$)\")\n",
    "    ax.set_xticklabels(ax.get_xticklabels(), rotation=45)\n",
    "    plt.grid(True)\n",
    "    plt.tight_layout()"
   ]
  },
  {
   "cell_type": "code",
   "execution_count": null,
   "metadata": {
    "papermill": {
     "duration": 0.02826,
     "end_time": "2021-03-11T03:01:43.887160",
     "exception": false,
     "start_time": "2021-03-11T03:01:43.858900",
     "status": "completed"
    },
    "tags": []
   },
   "outputs": [],
   "source": []
  }
 ],
 "metadata": {
  "jupytext": {
   "cell_metadata_filter": "all,-execution,-papermill,-trusted",
   "formats": "ipynb,py//py:percent"
  },
  "kernelspec": {
   "display_name": "Python 3",
   "language": "python",
   "name": "python3"
  },
  "language_info": {
   "codemirror_mode": {
    "name": "ipython",
    "version": 3
   },
   "file_extension": ".py",
   "mimetype": "text/x-python",
   "name": "python",
   "nbconvert_exporter": "python",
   "pygments_lexer": "ipython3",
   "version": "3.8.8"
  },
  "papermill": {
   "default_parameters": {},
   "duration": 20.671423,
   "end_time": "2021-03-11T03:01:44.322679",
   "environment_variables": {},
   "exception": null,
   "input_path": "16_consensus_clustering/022_pre_analysis/10_01-spectral_clustering-ensemble-pca.ipynb",
   "output_path": "16_consensus_clustering/022_pre_analysis/10_01-spectral_clustering-ensemble-pca.run.ipynb",
   "parameters": {},
   "start_time": "2021-03-11T03:01:23.651256",
   "version": "2.2.2"
  },
  "toc-autonumbering": true,
  "toc-showcode": false,
  "toc-showmarkdowntxt": false,
  "toc-showtags": false
 },
 "nbformat": 4,
 "nbformat_minor": 4
}
