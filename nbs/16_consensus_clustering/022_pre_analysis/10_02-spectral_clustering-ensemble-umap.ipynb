{
 "cells": [
  {
   "cell_type": "markdown",
   "metadata": {
    "papermill": {
     "duration": 0.052396,
     "end_time": "2021-03-11T03:01:46.348412",
     "exception": false,
     "start_time": "2021-03-11T03:01:46.296016",
     "status": "completed"
    },
    "tags": []
   },
   "source": [
    "# Description"
   ]
  },
  {
   "cell_type": "markdown",
   "metadata": {
    "papermill": {
     "duration": 0.015428,
     "end_time": "2021-03-11T03:01:46.381609",
     "exception": false,
     "start_time": "2021-03-11T03:01:46.366181",
     "status": "completed"
    },
    "tags": []
   },
   "source": [
    "See description in notebook `10_00-spectral_clustering...`."
   ]
  },
  {
   "cell_type": "markdown",
   "metadata": {
    "papermill": {
     "duration": 0.015604,
     "end_time": "2021-03-11T03:01:46.412995",
     "exception": false,
     "start_time": "2021-03-11T03:01:46.397391",
     "status": "completed"
    },
    "tags": []
   },
   "source": [
    "# Environment variables"
   ]
  },
  {
   "cell_type": "code",
   "execution_count": 1,
   "metadata": {
    "execution": {
     "iopub.execute_input": "2021-03-11T03:01:46.449497Z",
     "iopub.status.busy": "2021-03-11T03:01:46.449117Z",
     "iopub.status.idle": "2021-03-11T03:01:46.459614Z",
     "shell.execute_reply": "2021-03-11T03:01:46.459224Z"
    },
    "papermill": {
     "duration": 0.03124,
     "end_time": "2021-03-11T03:01:46.459705",
     "exception": false,
     "start_time": "2021-03-11T03:01:46.428465",
     "status": "completed"
    },
    "tags": []
   },
   "outputs": [
    {
     "data": {
      "text/plain": [
       "3"
      ]
     },
     "metadata": {},
     "output_type": "display_data"
    }
   ],
   "source": [
    "from IPython.display import display\n",
    "\n",
    "import conf\n",
    "\n",
    "N_JOBS = conf.GENERAL[\"N_JOBS\"]\n",
    "display(N_JOBS)"
   ]
  },
  {
   "cell_type": "code",
   "execution_count": 2,
   "metadata": {
    "execution": {
     "iopub.execute_input": "2021-03-11T03:01:46.496975Z",
     "iopub.status.busy": "2021-03-11T03:01:46.496549Z",
     "iopub.status.idle": "2021-03-11T03:01:46.498839Z",
     "shell.execute_reply": "2021-03-11T03:01:46.498517Z"
    },
    "papermill": {
     "duration": 0.022805,
     "end_time": "2021-03-11T03:01:46.498921",
     "exception": false,
     "start_time": "2021-03-11T03:01:46.476116",
     "status": "completed"
    },
    "tags": []
   },
   "outputs": [
    {
     "name": "stdout",
     "output_type": "stream",
     "text": [
      "env: MKL_NUM_THREADS=3\n",
      "env: OPEN_BLAS_NUM_THREADS=3\n",
      "env: NUMEXPR_NUM_THREADS=3\n",
      "env: OMP_NUM_THREADS=3\n"
     ]
    }
   ],
   "source": [
    "%env MKL_NUM_THREADS=$N_JOBS\n",
    "%env OPEN_BLAS_NUM_THREADS=$N_JOBS\n",
    "%env NUMEXPR_NUM_THREADS=$N_JOBS\n",
    "%env OMP_NUM_THREADS=$N_JOBS"
   ]
  },
  {
   "cell_type": "markdown",
   "metadata": {
    "papermill": {
     "duration": 0.016389,
     "end_time": "2021-03-11T03:01:46.532565",
     "exception": false,
     "start_time": "2021-03-11T03:01:46.516176",
     "status": "completed"
    },
    "tags": []
   },
   "source": [
    "# Modules loading"
   ]
  },
  {
   "cell_type": "code",
   "execution_count": 3,
   "metadata": {
    "execution": {
     "iopub.execute_input": "2021-03-11T03:01:46.567754Z",
     "iopub.status.busy": "2021-03-11T03:01:46.567394Z",
     "iopub.status.idle": "2021-03-11T03:01:46.574927Z",
     "shell.execute_reply": "2021-03-11T03:01:46.574566Z"
    },
    "papermill": {
     "duration": 0.026314,
     "end_time": "2021-03-11T03:01:46.575007",
     "exception": false,
     "start_time": "2021-03-11T03:01:46.548693",
     "status": "completed"
    },
    "tags": []
   },
   "outputs": [],
   "source": [
    "%load_ext autoreload\n",
    "%autoreload 2"
   ]
  },
  {
   "cell_type": "code",
   "execution_count": 4,
   "metadata": {
    "execution": {
     "iopub.execute_input": "2021-03-11T03:01:46.610476Z",
     "iopub.status.busy": "2021-03-11T03:01:46.610117Z",
     "iopub.status.idle": "2021-03-11T03:01:47.188462Z",
     "shell.execute_reply": "2021-03-11T03:01:47.188862Z"
    },
    "papermill": {
     "duration": 0.597204,
     "end_time": "2021-03-11T03:01:47.188990",
     "exception": false,
     "start_time": "2021-03-11T03:01:46.591786",
     "status": "completed"
    },
    "tags": []
   },
   "outputs": [],
   "source": [
    "from pathlib import Path\n",
    "\n",
    "import numpy as np\n",
    "import pandas as pd\n",
    "import matplotlib.pyplot as plt\n",
    "import seaborn as sns\n",
    "\n",
    "from utils import generate_result_set_name"
   ]
  },
  {
   "cell_type": "markdown",
   "metadata": {
    "papermill": {
     "duration": 0.017428,
     "end_time": "2021-03-11T03:01:47.226115",
     "exception": false,
     "start_time": "2021-03-11T03:01:47.208687",
     "status": "completed"
    },
    "tags": []
   },
   "source": [
    "# Settings"
   ]
  },
  {
   "cell_type": "code",
   "execution_count": 5,
   "metadata": {
    "execution": {
     "iopub.execute_input": "2021-03-11T03:01:47.260497Z",
     "iopub.status.busy": "2021-03-11T03:01:47.260127Z",
     "iopub.status.idle": "2021-03-11T03:01:47.269570Z",
     "shell.execute_reply": "2021-03-11T03:01:47.269196Z"
    },
    "papermill": {
     "duration": 0.027727,
     "end_time": "2021-03-11T03:01:47.269655",
     "exception": false,
     "start_time": "2021-03-11T03:01:47.241928",
     "status": "completed"
    },
    "tags": []
   },
   "outputs": [],
   "source": [
    "INITIAL_RANDOM_STATE = 100000"
   ]
  },
  {
   "cell_type": "code",
   "execution_count": 6,
   "metadata": {
    "execution": {
     "iopub.execute_input": "2021-03-11T03:01:47.305033Z",
     "iopub.status.busy": "2021-03-11T03:01:47.304628Z",
     "iopub.status.idle": "2021-03-11T03:01:47.314020Z",
     "shell.execute_reply": "2021-03-11T03:01:47.313662Z"
    },
    "papermill": {
     "duration": 0.027538,
     "end_time": "2021-03-11T03:01:47.314102",
     "exception": false,
     "start_time": "2021-03-11T03:01:47.286564",
     "status": "completed"
    },
    "tags": []
   },
   "outputs": [],
   "source": [
    "CLUSTERING_METHOD_NAME = \"DeltaSpectralClustering\""
   ]
  },
  {
   "cell_type": "code",
   "execution_count": 7,
   "metadata": {
    "execution": {
     "iopub.execute_input": "2021-03-11T03:01:47.348601Z",
     "iopub.status.busy": "2021-03-11T03:01:47.348228Z",
     "iopub.status.idle": "2021-03-11T03:01:47.358668Z",
     "shell.execute_reply": "2021-03-11T03:01:47.358309Z"
    },
    "papermill": {
     "duration": 0.028456,
     "end_time": "2021-03-11T03:01:47.358748",
     "exception": false,
     "start_time": "2021-03-11T03:01:47.330292",
     "status": "completed"
    },
    "tags": []
   },
   "outputs": [
    {
     "data": {
      "text/plain": [
       "PosixPath('/home/miltondp/projects/labs/greenelab/phenoplier/base/results/clustering/consensus_clustering')"
      ]
     },
     "metadata": {},
     "output_type": "display_data"
    }
   ],
   "source": [
    "# output dir for this notebook\n",
    "CONSENSUS_CLUSTERING_DIR = Path(\n",
    "    conf.RESULTS[\"CLUSTERING_DIR\"], \"consensus_clustering\"\n",
    ").resolve()\n",
    "\n",
    "display(CONSENSUS_CLUSTERING_DIR)"
   ]
  },
  {
   "cell_type": "markdown",
   "metadata": {
    "papermill": {
     "duration": 0.016694,
     "end_time": "2021-03-11T03:01:47.392236",
     "exception": false,
     "start_time": "2021-03-11T03:01:47.375542",
     "status": "completed"
    },
    "tags": []
   },
   "source": [
    "# Load data"
   ]
  },
  {
   "cell_type": "code",
   "execution_count": 8,
   "metadata": {
    "execution": {
     "iopub.execute_input": "2021-03-11T03:01:47.427734Z",
     "iopub.status.busy": "2021-03-11T03:01:47.427374Z",
     "iopub.status.idle": "2021-03-11T03:01:47.436698Z",
     "shell.execute_reply": "2021-03-11T03:01:47.436315Z"
    },
    "papermill": {
     "duration": 0.028219,
     "end_time": "2021-03-11T03:01:47.436812",
     "exception": false,
     "start_time": "2021-03-11T03:01:47.408593",
     "status": "completed"
    },
    "tags": []
   },
   "outputs": [],
   "source": [
    "INPUT_SUBSET = \"umap\""
   ]
  },
  {
   "cell_type": "code",
   "execution_count": 9,
   "metadata": {
    "execution": {
     "iopub.execute_input": "2021-03-11T03:01:47.472008Z",
     "iopub.status.busy": "2021-03-11T03:01:47.471649Z",
     "iopub.status.idle": "2021-03-11T03:01:47.480927Z",
     "shell.execute_reply": "2021-03-11T03:01:47.480580Z"
    },
    "papermill": {
     "duration": 0.027567,
     "end_time": "2021-03-11T03:01:47.481013",
     "exception": false,
     "start_time": "2021-03-11T03:01:47.453446",
     "status": "completed"
    },
    "tags": []
   },
   "outputs": [],
   "source": [
    "INPUT_STEM = \"z_score_std-projection-smultixcan-efo_partial-mashr-zscores\""
   ]
  },
  {
   "cell_type": "code",
   "execution_count": 10,
   "metadata": {
    "execution": {
     "iopub.execute_input": "2021-03-11T03:01:47.517411Z",
     "iopub.status.busy": "2021-03-11T03:01:47.516824Z",
     "iopub.status.idle": "2021-03-11T03:01:47.525599Z",
     "shell.execute_reply": "2021-03-11T03:01:47.525888Z"
    },
    "papermill": {
     "duration": 0.028153,
     "end_time": "2021-03-11T03:01:47.525988",
     "exception": false,
     "start_time": "2021-03-11T03:01:47.497835",
     "status": "completed"
    },
    "tags": []
   },
   "outputs": [],
   "source": [
    "DR_OPTIONS = {\n",
    "    \"n_components\": 50,\n",
    "    \"metric\": \"euclidean\",\n",
    "    \"n_neighbors\": 15,\n",
    "    \"random_state\": 0,\n",
    "}"
   ]
  },
  {
   "cell_type": "code",
   "execution_count": 11,
   "metadata": {
    "execution": {
     "iopub.execute_input": "2021-03-11T03:01:47.562281Z",
     "iopub.status.busy": "2021-03-11T03:01:47.561917Z",
     "iopub.status.idle": "2021-03-11T03:01:47.572742Z",
     "shell.execute_reply": "2021-03-11T03:01:47.572338Z"
    },
    "papermill": {
     "duration": 0.030191,
     "end_time": "2021-03-11T03:01:47.572840",
     "exception": false,
     "start_time": "2021-03-11T03:01:47.542649",
     "status": "completed"
    },
    "tags": []
   },
   "outputs": [
    {
     "data": {
      "text/plain": [
       "PosixPath('/home/miltondp/projects/labs/greenelab/phenoplier/base/results/data_transformations/umap/umap-z_score_std-projection-smultixcan-efo_partial-mashr-zscores-metric_euclidean-n_components_50-n_neighbors_15-random_state_0.pkl')"
      ]
     },
     "metadata": {},
     "output_type": "display_data"
    },
    {
     "data": {
      "text/plain": [
       "'umap-z_score_std-projection-smultixcan-efo_partial-mashr-zscores-metric_euclidean-n_components_50-n_neighbors_15-random_state_0'"
      ]
     },
     "metadata": {},
     "output_type": "display_data"
    }
   ],
   "source": [
    "input_filepath = Path(\n",
    "    conf.RESULTS[\"DATA_TRANSFORMATIONS_DIR\"],\n",
    "    INPUT_SUBSET,\n",
    "    generate_result_set_name(\n",
    "        DR_OPTIONS, prefix=f\"{INPUT_SUBSET}-{INPUT_STEM}-\", suffix=\".pkl\"\n",
    "    ),\n",
    ").resolve()\n",
    "display(input_filepath)\n",
    "\n",
    "assert input_filepath.exists(), \"Input file does not exist\"\n",
    "\n",
    "input_filepath_stem = input_filepath.stem\n",
    "display(input_filepath_stem)"
   ]
  },
  {
   "cell_type": "code",
   "execution_count": 12,
   "metadata": {
    "execution": {
     "iopub.execute_input": "2021-03-11T03:01:47.608869Z",
     "iopub.status.busy": "2021-03-11T03:01:47.608429Z",
     "iopub.status.idle": "2021-03-11T03:01:47.619487Z",
     "shell.execute_reply": "2021-03-11T03:01:47.619093Z"
    },
    "papermill": {
     "duration": 0.029626,
     "end_time": "2021-03-11T03:01:47.619573",
     "exception": false,
     "start_time": "2021-03-11T03:01:47.589947",
     "status": "completed"
    },
    "tags": []
   },
   "outputs": [],
   "source": [
    "data = pd.read_pickle(input_filepath)"
   ]
  },
  {
   "cell_type": "code",
   "execution_count": 13,
   "metadata": {
    "execution": {
     "iopub.execute_input": "2021-03-11T03:01:47.656103Z",
     "iopub.status.busy": "2021-03-11T03:01:47.655738Z",
     "iopub.status.idle": "2021-03-11T03:01:47.665559Z",
     "shell.execute_reply": "2021-03-11T03:01:47.665841Z"
    },
    "papermill": {
     "duration": 0.029122,
     "end_time": "2021-03-11T03:01:47.665943",
     "exception": false,
     "start_time": "2021-03-11T03:01:47.636821",
     "status": "completed"
    },
    "tags": []
   },
   "outputs": [
    {
     "data": {
      "text/plain": [
       "(3752, 50)"
      ]
     },
     "execution_count": 13,
     "metadata": {},
     "output_type": "execute_result"
    }
   ],
   "source": [
    "data.shape"
   ]
  },
  {
   "cell_type": "code",
   "execution_count": 14,
   "metadata": {
    "execution": {
     "iopub.execute_input": "2021-03-11T03:01:47.702789Z",
     "iopub.status.busy": "2021-03-11T03:01:47.702425Z",
     "iopub.status.idle": "2021-03-11T03:01:47.725236Z",
     "shell.execute_reply": "2021-03-11T03:01:47.724868Z"
    },
    "papermill": {
     "duration": 0.041815,
     "end_time": "2021-03-11T03:01:47.725319",
     "exception": false,
     "start_time": "2021-03-11T03:01:47.683504",
     "status": "completed"
    },
    "tags": []
   },
   "outputs": [
    {
     "data": {
      "text/html": [
       "<div>\n",
       "<style scoped>\n",
       "    .dataframe tbody tr th:only-of-type {\n",
       "        vertical-align: middle;\n",
       "    }\n",
       "\n",
       "    .dataframe tbody tr th {\n",
       "        vertical-align: top;\n",
       "    }\n",
       "\n",
       "    .dataframe thead th {\n",
       "        text-align: right;\n",
       "    }\n",
       "</style>\n",
       "<table border=\"1\" class=\"dataframe\">\n",
       "  <thead>\n",
       "    <tr style=\"text-align: right;\">\n",
       "      <th></th>\n",
       "      <th>UMAP1</th>\n",
       "      <th>UMAP2</th>\n",
       "      <th>UMAP3</th>\n",
       "      <th>UMAP4</th>\n",
       "      <th>UMAP5</th>\n",
       "      <th>UMAP6</th>\n",
       "      <th>UMAP7</th>\n",
       "      <th>UMAP8</th>\n",
       "      <th>UMAP9</th>\n",
       "      <th>UMAP10</th>\n",
       "      <th>...</th>\n",
       "      <th>UMAP41</th>\n",
       "      <th>UMAP42</th>\n",
       "      <th>UMAP43</th>\n",
       "      <th>UMAP44</th>\n",
       "      <th>UMAP45</th>\n",
       "      <th>UMAP46</th>\n",
       "      <th>UMAP47</th>\n",
       "      <th>UMAP48</th>\n",
       "      <th>UMAP49</th>\n",
       "      <th>UMAP50</th>\n",
       "    </tr>\n",
       "  </thead>\n",
       "  <tbody>\n",
       "    <tr>\n",
       "      <th>100001_raw-Food_weight</th>\n",
       "      <td>9.587280</td>\n",
       "      <td>8.050184</td>\n",
       "      <td>9.340894</td>\n",
       "      <td>8.884522</td>\n",
       "      <td>4.562011</td>\n",
       "      <td>9.261327</td>\n",
       "      <td>9.078164</td>\n",
       "      <td>8.009141</td>\n",
       "      <td>9.288872</td>\n",
       "      <td>9.827831</td>\n",
       "      <td>...</td>\n",
       "      <td>9.753575</td>\n",
       "      <td>0.440851</td>\n",
       "      <td>-0.077164</td>\n",
       "      <td>-0.184829</td>\n",
       "      <td>9.345852</td>\n",
       "      <td>0.622542</td>\n",
       "      <td>-0.051136</td>\n",
       "      <td>4.266558</td>\n",
       "      <td>8.047482</td>\n",
       "      <td>-0.317385</td>\n",
       "    </tr>\n",
       "    <tr>\n",
       "      <th>100002_raw-Energy</th>\n",
       "      <td>9.910512</td>\n",
       "      <td>8.372274</td>\n",
       "      <td>9.605316</td>\n",
       "      <td>9.808598</td>\n",
       "      <td>4.641970</td>\n",
       "      <td>9.360196</td>\n",
       "      <td>8.848985</td>\n",
       "      <td>7.768594</td>\n",
       "      <td>9.231921</td>\n",
       "      <td>9.328465</td>\n",
       "      <td>...</td>\n",
       "      <td>9.647689</td>\n",
       "      <td>0.581584</td>\n",
       "      <td>0.547930</td>\n",
       "      <td>0.600128</td>\n",
       "      <td>8.976416</td>\n",
       "      <td>1.249645</td>\n",
       "      <td>0.234843</td>\n",
       "      <td>4.636343</td>\n",
       "      <td>7.173085</td>\n",
       "      <td>0.137119</td>\n",
       "    </tr>\n",
       "    <tr>\n",
       "      <th>100003_raw-Protein</th>\n",
       "      <td>9.923088</td>\n",
       "      <td>8.380640</td>\n",
       "      <td>9.609899</td>\n",
       "      <td>9.836457</td>\n",
       "      <td>4.647365</td>\n",
       "      <td>9.366775</td>\n",
       "      <td>8.835996</td>\n",
       "      <td>7.767549</td>\n",
       "      <td>9.230281</td>\n",
       "      <td>9.314386</td>\n",
       "      <td>...</td>\n",
       "      <td>9.642637</td>\n",
       "      <td>0.580362</td>\n",
       "      <td>0.565898</td>\n",
       "      <td>0.621073</td>\n",
       "      <td>8.967297</td>\n",
       "      <td>1.271435</td>\n",
       "      <td>0.243960</td>\n",
       "      <td>4.648671</td>\n",
       "      <td>7.149967</td>\n",
       "      <td>0.148192</td>\n",
       "    </tr>\n",
       "    <tr>\n",
       "      <th>100004_raw-Fat</th>\n",
       "      <td>9.898531</td>\n",
       "      <td>8.375697</td>\n",
       "      <td>9.600443</td>\n",
       "      <td>9.785713</td>\n",
       "      <td>4.639249</td>\n",
       "      <td>9.360721</td>\n",
       "      <td>8.886237</td>\n",
       "      <td>7.783376</td>\n",
       "      <td>9.237095</td>\n",
       "      <td>9.345434</td>\n",
       "      <td>...</td>\n",
       "      <td>9.648270</td>\n",
       "      <td>0.573073</td>\n",
       "      <td>0.521042</td>\n",
       "      <td>0.576926</td>\n",
       "      <td>8.979161</td>\n",
       "      <td>1.227988</td>\n",
       "      <td>0.231848</td>\n",
       "      <td>4.622777</td>\n",
       "      <td>7.205517</td>\n",
       "      <td>0.147385</td>\n",
       "    </tr>\n",
       "    <tr>\n",
       "      <th>100005_raw-Carbohydrate</th>\n",
       "      <td>9.895807</td>\n",
       "      <td>8.376662</td>\n",
       "      <td>9.605841</td>\n",
       "      <td>9.791338</td>\n",
       "      <td>4.636903</td>\n",
       "      <td>9.352356</td>\n",
       "      <td>8.867312</td>\n",
       "      <td>7.774787</td>\n",
       "      <td>9.233479</td>\n",
       "      <td>9.344456</td>\n",
       "      <td>...</td>\n",
       "      <td>9.652949</td>\n",
       "      <td>0.575161</td>\n",
       "      <td>0.529565</td>\n",
       "      <td>0.579919</td>\n",
       "      <td>8.988125</td>\n",
       "      <td>1.231771</td>\n",
       "      <td>0.226778</td>\n",
       "      <td>4.624360</td>\n",
       "      <td>7.194818</td>\n",
       "      <td>0.123104</td>\n",
       "    </tr>\n",
       "  </tbody>\n",
       "</table>\n",
       "<p>5 rows × 50 columns</p>\n",
       "</div>"
      ],
      "text/plain": [
       "                            UMAP1     UMAP2     UMAP3     UMAP4     UMAP5  \\\n",
       "100001_raw-Food_weight   9.587280  8.050184  9.340894  8.884522  4.562011   \n",
       "100002_raw-Energy        9.910512  8.372274  9.605316  9.808598  4.641970   \n",
       "100003_raw-Protein       9.923088  8.380640  9.609899  9.836457  4.647365   \n",
       "100004_raw-Fat           9.898531  8.375697  9.600443  9.785713  4.639249   \n",
       "100005_raw-Carbohydrate  9.895807  8.376662  9.605841  9.791338  4.636903   \n",
       "\n",
       "                            UMAP6     UMAP7     UMAP8     UMAP9    UMAP10  \\\n",
       "100001_raw-Food_weight   9.261327  9.078164  8.009141  9.288872  9.827831   \n",
       "100002_raw-Energy        9.360196  8.848985  7.768594  9.231921  9.328465   \n",
       "100003_raw-Protein       9.366775  8.835996  7.767549  9.230281  9.314386   \n",
       "100004_raw-Fat           9.360721  8.886237  7.783376  9.237095  9.345434   \n",
       "100005_raw-Carbohydrate  9.352356  8.867312  7.774787  9.233479  9.344456   \n",
       "\n",
       "                         ...    UMAP41    UMAP42    UMAP43    UMAP44  \\\n",
       "100001_raw-Food_weight   ...  9.753575  0.440851 -0.077164 -0.184829   \n",
       "100002_raw-Energy        ...  9.647689  0.581584  0.547930  0.600128   \n",
       "100003_raw-Protein       ...  9.642637  0.580362  0.565898  0.621073   \n",
       "100004_raw-Fat           ...  9.648270  0.573073  0.521042  0.576926   \n",
       "100005_raw-Carbohydrate  ...  9.652949  0.575161  0.529565  0.579919   \n",
       "\n",
       "                           UMAP45    UMAP46    UMAP47    UMAP48    UMAP49  \\\n",
       "100001_raw-Food_weight   9.345852  0.622542 -0.051136  4.266558  8.047482   \n",
       "100002_raw-Energy        8.976416  1.249645  0.234843  4.636343  7.173085   \n",
       "100003_raw-Protein       8.967297  1.271435  0.243960  4.648671  7.149967   \n",
       "100004_raw-Fat           8.979161  1.227988  0.231848  4.622777  7.205517   \n",
       "100005_raw-Carbohydrate  8.988125  1.231771  0.226778  4.624360  7.194818   \n",
       "\n",
       "                           UMAP50  \n",
       "100001_raw-Food_weight  -0.317385  \n",
       "100002_raw-Energy        0.137119  \n",
       "100003_raw-Protein       0.148192  \n",
       "100004_raw-Fat           0.147385  \n",
       "100005_raw-Carbohydrate  0.123104  \n",
       "\n",
       "[5 rows x 50 columns]"
      ]
     },
     "execution_count": 14,
     "metadata": {},
     "output_type": "execute_result"
    }
   ],
   "source": [
    "data.head()"
   ]
  },
  {
   "cell_type": "code",
   "execution_count": 15,
   "metadata": {
    "execution": {
     "iopub.execute_input": "2021-03-11T03:01:47.763836Z",
     "iopub.status.busy": "2021-03-11T03:01:47.763482Z",
     "iopub.status.idle": "2021-03-11T03:01:47.772856Z",
     "shell.execute_reply": "2021-03-11T03:01:47.772471Z"
    },
    "papermill": {
     "duration": 0.029367,
     "end_time": "2021-03-11T03:01:47.772940",
     "exception": false,
     "start_time": "2021-03-11T03:01:47.743573",
     "status": "completed"
    },
    "tags": []
   },
   "outputs": [],
   "source": [
    "traits = data.index.tolist()"
   ]
  },
  {
   "cell_type": "code",
   "execution_count": 16,
   "metadata": {
    "execution": {
     "iopub.execute_input": "2021-03-11T03:01:47.810052Z",
     "iopub.status.busy": "2021-03-11T03:01:47.809700Z",
     "iopub.status.idle": "2021-03-11T03:01:47.819861Z",
     "shell.execute_reply": "2021-03-11T03:01:47.819495Z"
    },
    "papermill": {
     "duration": 0.029313,
     "end_time": "2021-03-11T03:01:47.819944",
     "exception": false,
     "start_time": "2021-03-11T03:01:47.790631",
     "status": "completed"
    },
    "tags": []
   },
   "outputs": [
    {
     "data": {
      "text/plain": [
       "3752"
      ]
     },
     "execution_count": 16,
     "metadata": {},
     "output_type": "execute_result"
    }
   ],
   "source": [
    "len(traits)"
   ]
  },
  {
   "cell_type": "markdown",
   "metadata": {
    "papermill": {
     "duration": 0.017919,
     "end_time": "2021-03-11T03:01:47.856329",
     "exception": false,
     "start_time": "2021-03-11T03:01:47.838410",
     "status": "completed"
    },
    "tags": []
   },
   "source": [
    "# Load coassociation matrix (ensemble)"
   ]
  },
  {
   "cell_type": "code",
   "execution_count": 17,
   "metadata": {
    "execution": {
     "iopub.execute_input": "2021-03-11T03:01:47.894098Z",
     "iopub.status.busy": "2021-03-11T03:01:47.893742Z",
     "iopub.status.idle": "2021-03-11T03:01:47.904247Z",
     "shell.execute_reply": "2021-03-11T03:01:47.903919Z"
    },
    "papermill": {
     "duration": 0.03074,
     "end_time": "2021-03-11T03:01:47.904331",
     "exception": false,
     "start_time": "2021-03-11T03:01:47.873591",
     "status": "completed"
    },
    "tags": []
   },
   "outputs": [
    {
     "data": {
      "text/plain": [
       "PosixPath('/home/miltondp/projects/labs/greenelab/phenoplier/base/results/clustering/consensus_clustering/ensemble_coassoc_matrix.npy')"
      ]
     },
     "metadata": {},
     "output_type": "display_data"
    }
   ],
   "source": [
    "input_file = Path(CONSENSUS_CLUSTERING_DIR, \"ensemble_coassoc_matrix.npy\").resolve()\n",
    "display(input_file)"
   ]
  },
  {
   "cell_type": "code",
   "execution_count": 18,
   "metadata": {
    "execution": {
     "iopub.execute_input": "2021-03-11T03:01:47.942987Z",
     "iopub.status.busy": "2021-03-11T03:01:47.942630Z",
     "iopub.status.idle": "2021-03-11T03:01:47.974394Z",
     "shell.execute_reply": "2021-03-11T03:01:47.974746Z"
    },
    "papermill": {
     "duration": 0.052314,
     "end_time": "2021-03-11T03:01:47.974865",
     "exception": false,
     "start_time": "2021-03-11T03:01:47.922551",
     "status": "completed"
    },
    "tags": []
   },
   "outputs": [],
   "source": [
    "coassoc_matrix = np.load(input_file)"
   ]
  },
  {
   "cell_type": "code",
   "execution_count": 19,
   "metadata": {
    "execution": {
     "iopub.execute_input": "2021-03-11T03:01:48.018311Z",
     "iopub.status.busy": "2021-03-11T03:01:48.017960Z",
     "iopub.status.idle": "2021-03-11T03:01:48.028223Z",
     "shell.execute_reply": "2021-03-11T03:01:48.027919Z"
    },
    "papermill": {
     "duration": 0.032078,
     "end_time": "2021-03-11T03:01:48.028309",
     "exception": false,
     "start_time": "2021-03-11T03:01:47.996231",
     "status": "completed"
    },
    "tags": []
   },
   "outputs": [],
   "source": [
    "coassoc_matrix = pd.DataFrame(\n",
    "    data=coassoc_matrix,\n",
    "    index=traits,\n",
    "    columns=traits,\n",
    ")"
   ]
  },
  {
   "cell_type": "code",
   "execution_count": 20,
   "metadata": {
    "execution": {
     "iopub.execute_input": "2021-03-11T03:01:48.067166Z",
     "iopub.status.busy": "2021-03-11T03:01:48.066813Z",
     "iopub.status.idle": "2021-03-11T03:01:48.077435Z",
     "shell.execute_reply": "2021-03-11T03:01:48.077065Z"
    },
    "papermill": {
     "duration": 0.030919,
     "end_time": "2021-03-11T03:01:48.077519",
     "exception": false,
     "start_time": "2021-03-11T03:01:48.046600",
     "status": "completed"
    },
    "tags": []
   },
   "outputs": [
    {
     "data": {
      "text/plain": [
       "(3752, 3752)"
      ]
     },
     "execution_count": 20,
     "metadata": {},
     "output_type": "execute_result"
    }
   ],
   "source": [
    "coassoc_matrix.shape"
   ]
  },
  {
   "cell_type": "code",
   "execution_count": 21,
   "metadata": {
    "execution": {
     "iopub.execute_input": "2021-03-11T03:01:48.116432Z",
     "iopub.status.busy": "2021-03-11T03:01:48.116079Z",
     "iopub.status.idle": "2021-03-11T03:01:48.138401Z",
     "shell.execute_reply": "2021-03-11T03:01:48.138020Z"
    },
    "papermill": {
     "duration": 0.042479,
     "end_time": "2021-03-11T03:01:48.138488",
     "exception": false,
     "start_time": "2021-03-11T03:01:48.096009",
     "status": "completed"
    },
    "tags": []
   },
   "outputs": [
    {
     "data": {
      "text/html": [
       "<div>\n",
       "<style scoped>\n",
       "    .dataframe tbody tr th:only-of-type {\n",
       "        vertical-align: middle;\n",
       "    }\n",
       "\n",
       "    .dataframe tbody tr th {\n",
       "        vertical-align: top;\n",
       "    }\n",
       "\n",
       "    .dataframe thead th {\n",
       "        text-align: right;\n",
       "    }\n",
       "</style>\n",
       "<table border=\"1\" class=\"dataframe\">\n",
       "  <thead>\n",
       "    <tr style=\"text-align: right;\">\n",
       "      <th></th>\n",
       "      <th>100001_raw-Food_weight</th>\n",
       "      <th>100002_raw-Energy</th>\n",
       "      <th>100003_raw-Protein</th>\n",
       "      <th>100004_raw-Fat</th>\n",
       "      <th>100005_raw-Carbohydrate</th>\n",
       "      <th>100006_raw-Saturated_fat</th>\n",
       "      <th>100007_raw-Polyunsaturated_fat</th>\n",
       "      <th>100008_raw-Total_sugars</th>\n",
       "      <th>100009_raw-Englyst_dietary_fibre</th>\n",
       "      <th>100010-Portion_size</th>\n",
       "      <th>...</th>\n",
       "      <th>visual impairment</th>\n",
       "      <th>vitiligo</th>\n",
       "      <th>vitreous body disease</th>\n",
       "      <th>vocal cord polyp</th>\n",
       "      <th>voice disorders</th>\n",
       "      <th>wellbeing measurement AND family relationship</th>\n",
       "      <th>wheezing</th>\n",
       "      <th>whooping cough</th>\n",
       "      <th>worry measurement</th>\n",
       "      <th>wrist fracture</th>\n",
       "    </tr>\n",
       "  </thead>\n",
       "  <tbody>\n",
       "    <tr>\n",
       "      <th>100001_raw-Food_weight</th>\n",
       "      <td>0.000000</td>\n",
       "      <td>0.314971</td>\n",
       "      <td>0.328000</td>\n",
       "      <td>0.367543</td>\n",
       "      <td>0.341257</td>\n",
       "      <td>0.369347</td>\n",
       "      <td>0.361951</td>\n",
       "      <td>0.354124</td>\n",
       "      <td>0.330439</td>\n",
       "      <td>0.364853</td>\n",
       "      <td>...</td>\n",
       "      <td>0.461101</td>\n",
       "      <td>0.443161</td>\n",
       "      <td>0.440617</td>\n",
       "      <td>0.442608</td>\n",
       "      <td>0.486303</td>\n",
       "      <td>0.359294</td>\n",
       "      <td>0.430441</td>\n",
       "      <td>0.479511</td>\n",
       "      <td>0.411417</td>\n",
       "      <td>0.644333</td>\n",
       "    </tr>\n",
       "    <tr>\n",
       "      <th>100002_raw-Energy</th>\n",
       "      <td>0.314971</td>\n",
       "      <td>0.000000</td>\n",
       "      <td>0.041534</td>\n",
       "      <td>0.076677</td>\n",
       "      <td>0.049064</td>\n",
       "      <td>0.078977</td>\n",
       "      <td>0.092762</td>\n",
       "      <td>0.068478</td>\n",
       "      <td>0.066438</td>\n",
       "      <td>0.629198</td>\n",
       "      <td>...</td>\n",
       "      <td>0.678784</td>\n",
       "      <td>0.683862</td>\n",
       "      <td>0.661792</td>\n",
       "      <td>0.686445</td>\n",
       "      <td>0.685388</td>\n",
       "      <td>0.616157</td>\n",
       "      <td>0.670675</td>\n",
       "      <td>0.678686</td>\n",
       "      <td>0.648605</td>\n",
       "      <td>0.674960</td>\n",
       "    </tr>\n",
       "    <tr>\n",
       "      <th>100003_raw-Protein</th>\n",
       "      <td>0.328000</td>\n",
       "      <td>0.041534</td>\n",
       "      <td>0.000000</td>\n",
       "      <td>0.102465</td>\n",
       "      <td>0.058421</td>\n",
       "      <td>0.104771</td>\n",
       "      <td>0.117041</td>\n",
       "      <td>0.090390</td>\n",
       "      <td>0.074201</td>\n",
       "      <td>0.639022</td>\n",
       "      <td>...</td>\n",
       "      <td>0.678326</td>\n",
       "      <td>0.688199</td>\n",
       "      <td>0.673446</td>\n",
       "      <td>0.686216</td>\n",
       "      <td>0.670548</td>\n",
       "      <td>0.614560</td>\n",
       "      <td>0.664662</td>\n",
       "      <td>0.664080</td>\n",
       "      <td>0.642204</td>\n",
       "      <td>0.677014</td>\n",
       "    </tr>\n",
       "    <tr>\n",
       "      <th>100004_raw-Fat</th>\n",
       "      <td>0.367543</td>\n",
       "      <td>0.076677</td>\n",
       "      <td>0.102465</td>\n",
       "      <td>0.000000</td>\n",
       "      <td>0.052031</td>\n",
       "      <td>0.005250</td>\n",
       "      <td>0.049015</td>\n",
       "      <td>0.029674</td>\n",
       "      <td>0.107763</td>\n",
       "      <td>0.603838</td>\n",
       "      <td>...</td>\n",
       "      <td>0.652949</td>\n",
       "      <td>0.645971</td>\n",
       "      <td>0.627514</td>\n",
       "      <td>0.654724</td>\n",
       "      <td>0.648858</td>\n",
       "      <td>0.667503</td>\n",
       "      <td>0.711378</td>\n",
       "      <td>0.652214</td>\n",
       "      <td>0.692273</td>\n",
       "      <td>0.646656</td>\n",
       "    </tr>\n",
       "    <tr>\n",
       "      <th>100005_raw-Carbohydrate</th>\n",
       "      <td>0.341257</td>\n",
       "      <td>0.049064</td>\n",
       "      <td>0.058421</td>\n",
       "      <td>0.052031</td>\n",
       "      <td>0.000000</td>\n",
       "      <td>0.055010</td>\n",
       "      <td>0.070316</td>\n",
       "      <td>0.036293</td>\n",
       "      <td>0.097489</td>\n",
       "      <td>0.612063</td>\n",
       "      <td>...</td>\n",
       "      <td>0.661866</td>\n",
       "      <td>0.668112</td>\n",
       "      <td>0.642139</td>\n",
       "      <td>0.667047</td>\n",
       "      <td>0.665525</td>\n",
       "      <td>0.646965</td>\n",
       "      <td>0.701203</td>\n",
       "      <td>0.659288</td>\n",
       "      <td>0.679241</td>\n",
       "      <td>0.653047</td>\n",
       "    </tr>\n",
       "  </tbody>\n",
       "</table>\n",
       "<p>5 rows × 3752 columns</p>\n",
       "</div>"
      ],
      "text/plain": [
       "                         100001_raw-Food_weight  100002_raw-Energy  \\\n",
       "100001_raw-Food_weight                 0.000000           0.314971   \n",
       "100002_raw-Energy                      0.314971           0.000000   \n",
       "100003_raw-Protein                     0.328000           0.041534   \n",
       "100004_raw-Fat                         0.367543           0.076677   \n",
       "100005_raw-Carbohydrate                0.341257           0.049064   \n",
       "\n",
       "                         100003_raw-Protein  100004_raw-Fat  \\\n",
       "100001_raw-Food_weight             0.328000        0.367543   \n",
       "100002_raw-Energy                  0.041534        0.076677   \n",
       "100003_raw-Protein                 0.000000        0.102465   \n",
       "100004_raw-Fat                     0.102465        0.000000   \n",
       "100005_raw-Carbohydrate            0.058421        0.052031   \n",
       "\n",
       "                         100005_raw-Carbohydrate  100006_raw-Saturated_fat  \\\n",
       "100001_raw-Food_weight                  0.341257                  0.369347   \n",
       "100002_raw-Energy                       0.049064                  0.078977   \n",
       "100003_raw-Protein                      0.058421                  0.104771   \n",
       "100004_raw-Fat                          0.052031                  0.005250   \n",
       "100005_raw-Carbohydrate                 0.000000                  0.055010   \n",
       "\n",
       "                         100007_raw-Polyunsaturated_fat  \\\n",
       "100001_raw-Food_weight                         0.361951   \n",
       "100002_raw-Energy                              0.092762   \n",
       "100003_raw-Protein                             0.117041   \n",
       "100004_raw-Fat                                 0.049015   \n",
       "100005_raw-Carbohydrate                        0.070316   \n",
       "\n",
       "                         100008_raw-Total_sugars  \\\n",
       "100001_raw-Food_weight                  0.354124   \n",
       "100002_raw-Energy                       0.068478   \n",
       "100003_raw-Protein                      0.090390   \n",
       "100004_raw-Fat                          0.029674   \n",
       "100005_raw-Carbohydrate                 0.036293   \n",
       "\n",
       "                         100009_raw-Englyst_dietary_fibre  \\\n",
       "100001_raw-Food_weight                           0.330439   \n",
       "100002_raw-Energy                                0.066438   \n",
       "100003_raw-Protein                               0.074201   \n",
       "100004_raw-Fat                                   0.107763   \n",
       "100005_raw-Carbohydrate                          0.097489   \n",
       "\n",
       "                         100010-Portion_size  ...  visual impairment  \\\n",
       "100001_raw-Food_weight              0.364853  ...           0.461101   \n",
       "100002_raw-Energy                   0.629198  ...           0.678784   \n",
       "100003_raw-Protein                  0.639022  ...           0.678326   \n",
       "100004_raw-Fat                      0.603838  ...           0.652949   \n",
       "100005_raw-Carbohydrate             0.612063  ...           0.661866   \n",
       "\n",
       "                         vitiligo  vitreous body disease  vocal cord polyp  \\\n",
       "100001_raw-Food_weight   0.443161               0.440617          0.442608   \n",
       "100002_raw-Energy        0.683862               0.661792          0.686445   \n",
       "100003_raw-Protein       0.688199               0.673446          0.686216   \n",
       "100004_raw-Fat           0.645971               0.627514          0.654724   \n",
       "100005_raw-Carbohydrate  0.668112               0.642139          0.667047   \n",
       "\n",
       "                         voice disorders  \\\n",
       "100001_raw-Food_weight          0.486303   \n",
       "100002_raw-Energy               0.685388   \n",
       "100003_raw-Protein              0.670548   \n",
       "100004_raw-Fat                  0.648858   \n",
       "100005_raw-Carbohydrate         0.665525   \n",
       "\n",
       "                         wellbeing measurement AND family relationship  \\\n",
       "100001_raw-Food_weight                                        0.359294   \n",
       "100002_raw-Energy                                             0.616157   \n",
       "100003_raw-Protein                                            0.614560   \n",
       "100004_raw-Fat                                                0.667503   \n",
       "100005_raw-Carbohydrate                                       0.646965   \n",
       "\n",
       "                         wheezing  whooping cough  worry measurement  \\\n",
       "100001_raw-Food_weight   0.430441        0.479511           0.411417   \n",
       "100002_raw-Energy        0.670675        0.678686           0.648605   \n",
       "100003_raw-Protein       0.664662        0.664080           0.642204   \n",
       "100004_raw-Fat           0.711378        0.652214           0.692273   \n",
       "100005_raw-Carbohydrate  0.701203        0.659288           0.679241   \n",
       "\n",
       "                         wrist fracture  \n",
       "100001_raw-Food_weight         0.644333  \n",
       "100002_raw-Energy              0.674960  \n",
       "100003_raw-Protein             0.677014  \n",
       "100004_raw-Fat                 0.646656  \n",
       "100005_raw-Carbohydrate        0.653047  \n",
       "\n",
       "[5 rows x 3752 columns]"
      ]
     },
     "execution_count": 21,
     "metadata": {},
     "output_type": "execute_result"
    }
   ],
   "source": [
    "coassoc_matrix.head()"
   ]
  },
  {
   "cell_type": "code",
   "execution_count": 22,
   "metadata": {
    "execution": {
     "iopub.execute_input": "2021-03-11T03:01:48.180882Z",
     "iopub.status.busy": "2021-03-11T03:01:48.180481Z",
     "iopub.status.idle": "2021-03-11T03:01:48.190691Z",
     "shell.execute_reply": "2021-03-11T03:01:48.190291Z"
    },
    "papermill": {
     "duration": 0.031788,
     "end_time": "2021-03-11T03:01:48.190781",
     "exception": false,
     "start_time": "2021-03-11T03:01:48.158993",
     "status": "completed"
    },
    "tags": []
   },
   "outputs": [],
   "source": [
    "dist_matrix = coassoc_matrix"
   ]
  },
  {
   "cell_type": "markdown",
   "metadata": {
    "papermill": {
     "duration": 0.019002,
     "end_time": "2021-03-11T03:01:48.229973",
     "exception": false,
     "start_time": "2021-03-11T03:01:48.210971",
     "status": "completed"
    },
    "tags": []
   },
   "source": [
    "# Clustering"
   ]
  },
  {
   "cell_type": "code",
   "execution_count": 23,
   "metadata": {
    "execution": {
     "iopub.execute_input": "2021-03-11T03:01:48.269416Z",
     "iopub.status.busy": "2021-03-11T03:01:48.269057Z",
     "iopub.status.idle": "2021-03-11T03:01:48.359714Z",
     "shell.execute_reply": "2021-03-11T03:01:48.359348Z"
    },
    "papermill": {
     "duration": 0.111423,
     "end_time": "2021-03-11T03:01:48.359795",
     "exception": false,
     "start_time": "2021-03-11T03:01:48.248372",
     "status": "completed"
    },
    "tags": []
   },
   "outputs": [],
   "source": [
    "from sklearn.metrics import (\n",
    "    calinski_harabasz_score,\n",
    "    davies_bouldin_score,\n",
    ")"
   ]
  },
  {
   "cell_type": "markdown",
   "metadata": {
    "papermill": {
     "duration": 0.018563,
     "end_time": "2021-03-11T03:01:48.396749",
     "exception": false,
     "start_time": "2021-03-11T03:01:48.378186",
     "status": "completed"
    },
    "tags": []
   },
   "source": [
    "## More exhaustive test"
   ]
  },
  {
   "cell_type": "markdown",
   "metadata": {
    "papermill": {
     "duration": 0.018212,
     "end_time": "2021-03-11T03:01:48.433041",
     "exception": false,
     "start_time": "2021-03-11T03:01:48.414829",
     "status": "completed"
    },
    "tags": []
   },
   "source": [
    "Here I run some test across several `k` and `delta` values; then I check how results perform with different clustering quality measures."
   ]
  },
  {
   "cell_type": "code",
   "execution_count": 24,
   "metadata": {
    "execution": {
     "iopub.execute_input": "2021-03-11T03:01:48.472505Z",
     "iopub.status.busy": "2021-03-11T03:01:48.472099Z",
     "iopub.status.idle": "2021-03-11T03:01:48.483715Z",
     "shell.execute_reply": "2021-03-11T03:01:48.484021Z"
    },
    "papermill": {
     "duration": 0.033009,
     "end_time": "2021-03-11T03:01:48.484127",
     "exception": false,
     "start_time": "2021-03-11T03:01:48.451118",
     "status": "completed"
    },
    "tags": []
   },
   "outputs": [
    {
     "data": {
      "text/plain": [
       "{'K_RANGE': [2, 4, 6, 8, 10, 12, 14, 16, 18, 20, 25, 30, 35, 40, 50, 60],\n",
       " 'N_REPS_PER_K': 5,\n",
       " 'KMEANS_N_INIT': 10,\n",
       " 'DELTAS': [5.0, 2.0, 1.0, 0.9, 0.75, 0.5, 0.3, 0.25, 0.2]}"
      ]
     },
     "metadata": {},
     "output_type": "display_data"
    }
   ],
   "source": [
    "CLUSTERING_OPTIONS = {}\n",
    "\n",
    "CLUSTERING_OPTIONS[\"K_RANGE\"] = [\n",
    "    2,\n",
    "    4,\n",
    "    6,\n",
    "    8,\n",
    "    10,\n",
    "    12,\n",
    "    14,\n",
    "    16,\n",
    "    18,\n",
    "    20,\n",
    "    25,\n",
    "    30,\n",
    "    35,\n",
    "    40,\n",
    "    50,\n",
    "    60,\n",
    "]\n",
    "CLUSTERING_OPTIONS[\"N_REPS_PER_K\"] = 5\n",
    "CLUSTERING_OPTIONS[\"KMEANS_N_INIT\"] = 10\n",
    "CLUSTERING_OPTIONS[\"DELTAS\"] = [\n",
    "    5.00,\n",
    "    2.00,\n",
    "    1.00,\n",
    "    0.90,\n",
    "    0.75,\n",
    "    0.50,\n",
    "    0.30,\n",
    "    0.25,\n",
    "    0.20,\n",
    "]\n",
    "\n",
    "display(CLUSTERING_OPTIONS)"
   ]
  },
  {
   "cell_type": "markdown",
   "metadata": {
    "papermill": {
     "duration": 0.019084,
     "end_time": "2021-03-11T03:01:48.522213",
     "exception": false,
     "start_time": "2021-03-11T03:01:48.503129",
     "status": "completed"
    },
    "tags": []
   },
   "source": [
    "### Generate ensemble"
   ]
  },
  {
   "cell_type": "code",
   "execution_count": 25,
   "metadata": {
    "execution": {
     "iopub.execute_input": "2021-03-11T03:01:48.561571Z",
     "iopub.status.busy": "2021-03-11T03:01:48.561202Z",
     "iopub.status.idle": "2021-03-11T03:01:48.570799Z",
     "shell.execute_reply": "2021-03-11T03:01:48.570478Z"
    },
    "papermill": {
     "duration": 0.030218,
     "end_time": "2021-03-11T03:01:48.570884",
     "exception": false,
     "start_time": "2021-03-11T03:01:48.540666",
     "status": "completed"
    },
    "tags": []
   },
   "outputs": [],
   "source": [
    "import tempfile"
   ]
  },
  {
   "cell_type": "code",
   "execution_count": 26,
   "metadata": {
    "execution": {
     "iopub.execute_input": "2021-03-11T03:01:48.612221Z",
     "iopub.status.busy": "2021-03-11T03:01:48.611862Z",
     "iopub.status.idle": "2021-03-11T03:01:48.621962Z",
     "shell.execute_reply": "2021-03-11T03:01:48.621590Z"
    },
    "papermill": {
     "duration": 0.03164,
     "end_time": "2021-03-11T03:01:48.622048",
     "exception": false,
     "start_time": "2021-03-11T03:01:48.590408",
     "status": "completed"
    },
    "tags": []
   },
   "outputs": [],
   "source": [
    "ensemble_folder = Path(\n",
    "    tempfile.gettempdir(),\n",
    "    \"pre_cluster_analysis\",\n",
    "    CLUSTERING_METHOD_NAME,\n",
    ").resolve()\n",
    "ensemble_folder.mkdir(parents=True, exist_ok=True)"
   ]
  },
  {
   "cell_type": "code",
   "execution_count": 27,
   "metadata": {
    "execution": {
     "iopub.execute_input": "2021-03-11T03:01:48.662218Z",
     "iopub.status.busy": "2021-03-11T03:01:48.661850Z",
     "iopub.status.idle": "2021-03-11T03:01:48.672822Z",
     "shell.execute_reply": "2021-03-11T03:01:48.672479Z"
    },
    "papermill": {
     "duration": 0.031796,
     "end_time": "2021-03-11T03:01:48.672903",
     "exception": false,
     "start_time": "2021-03-11T03:01:48.641107",
     "status": "completed"
    },
    "tags": []
   },
   "outputs": [
    {
     "data": {
      "text/plain": [
       "PosixPath('/tmp/pre_cluster_analysis/DeltaSpectralClustering/ensemble-DELTAS_50_20_10_09_075_05_03_025_02-KMEANS_N_INIT_10-K_RANGE_2_4_6_8_10_12_14_16_18_20_25_30_35_40_50_60-N_REPS_PER_K_5.pkl')"
      ]
     },
     "metadata": {},
     "output_type": "display_data"
    }
   ],
   "source": [
    "ensemble_file = Path(\n",
    "    ensemble_folder,\n",
    "    generate_result_set_name(CLUSTERING_OPTIONS, prefix=\"ensemble-\", suffix=\".pkl\"),\n",
    ")\n",
    "display(ensemble_file)"
   ]
  },
  {
   "cell_type": "code",
   "execution_count": 28,
   "metadata": {
    "execution": {
     "iopub.execute_input": "2021-03-11T03:01:48.713417Z",
     "iopub.status.busy": "2021-03-11T03:01:48.713059Z",
     "iopub.status.idle": "2021-03-11T03:01:48.722277Z",
     "shell.execute_reply": "2021-03-11T03:01:48.722586Z"
    },
    "papermill": {
     "duration": 0.030313,
     "end_time": "2021-03-11T03:01:48.722686",
     "exception": false,
     "start_time": "2021-03-11T03:01:48.692373",
     "status": "completed"
    },
    "tags": []
   },
   "outputs": [],
   "source": [
    "assert ensemble_file.exists(), \"Ensemble file does not exists\""
   ]
  },
  {
   "cell_type": "code",
   "execution_count": 29,
   "metadata": {
    "execution": {
     "iopub.execute_input": "2021-03-11T03:01:48.763126Z",
     "iopub.status.busy": "2021-03-11T03:01:48.762764Z",
     "iopub.status.idle": "2021-03-11T03:01:48.786635Z",
     "shell.execute_reply": "2021-03-11T03:01:48.786315Z"
    },
    "papermill": {
     "duration": 0.044897,
     "end_time": "2021-03-11T03:01:48.786724",
     "exception": false,
     "start_time": "2021-03-11T03:01:48.741827",
     "status": "completed"
    },
    "tags": []
   },
   "outputs": [],
   "source": [
    "ensemble = pd.read_pickle(ensemble_file)"
   ]
  },
  {
   "cell_type": "code",
   "execution_count": 30,
   "metadata": {
    "execution": {
     "iopub.execute_input": "2021-03-11T03:01:48.828634Z",
     "iopub.status.busy": "2021-03-11T03:01:48.828281Z",
     "iopub.status.idle": "2021-03-11T03:01:48.838983Z",
     "shell.execute_reply": "2021-03-11T03:01:48.838627Z"
    },
    "papermill": {
     "duration": 0.032358,
     "end_time": "2021-03-11T03:01:48.839064",
     "exception": false,
     "start_time": "2021-03-11T03:01:48.806706",
     "status": "completed"
    },
    "tags": []
   },
   "outputs": [
    {
     "data": {
      "text/plain": [
       "(720, 7)"
      ]
     },
     "execution_count": 30,
     "metadata": {},
     "output_type": "execute_result"
    }
   ],
   "source": [
    "ensemble.shape"
   ]
  },
  {
   "cell_type": "code",
   "execution_count": 31,
   "metadata": {
    "execution": {
     "iopub.execute_input": "2021-03-11T03:01:48.879644Z",
     "iopub.status.busy": "2021-03-11T03:01:48.879290Z",
     "iopub.status.idle": "2021-03-11T03:01:48.898947Z",
     "shell.execute_reply": "2021-03-11T03:01:48.898578Z"
    },
    "papermill": {
     "duration": 0.040653,
     "end_time": "2021-03-11T03:01:48.899031",
     "exception": false,
     "start_time": "2021-03-11T03:01:48.858378",
     "status": "completed"
    },
    "tags": []
   },
   "outputs": [
    {
     "data": {
      "text/html": [
       "<div>\n",
       "<style scoped>\n",
       "    .dataframe tbody tr th:only-of-type {\n",
       "        vertical-align: middle;\n",
       "    }\n",
       "\n",
       "    .dataframe tbody tr th {\n",
       "        vertical-align: top;\n",
       "    }\n",
       "\n",
       "    .dataframe thead th {\n",
       "        text-align: right;\n",
       "    }\n",
       "</style>\n",
       "<table border=\"1\" class=\"dataframe\">\n",
       "  <thead>\n",
       "    <tr style=\"text-align: right;\">\n",
       "      <th></th>\n",
       "      <th>clusterer_params</th>\n",
       "      <th>partition</th>\n",
       "      <th>n_clusters</th>\n",
       "      <th>delta</th>\n",
       "      <th>si_score</th>\n",
       "      <th>ch_score</th>\n",
       "      <th>db_score</th>\n",
       "    </tr>\n",
       "    <tr>\n",
       "      <th>clusterer_id</th>\n",
       "      <th></th>\n",
       "      <th></th>\n",
       "      <th></th>\n",
       "      <th></th>\n",
       "      <th></th>\n",
       "      <th></th>\n",
       "      <th></th>\n",
       "    </tr>\n",
       "  </thead>\n",
       "  <tbody>\n",
       "    <tr>\n",
       "      <th>DeltaSpectralClustering #0</th>\n",
       "      <td>{'delta': 5.0}</td>\n",
       "      <td>[0.0, 0.0, 0.0, 1.0, 0.0, 1.0, 1.0, 1.0, 0.0, ...</td>\n",
       "      <td>2</td>\n",
       "      <td>5.00</td>\n",
       "      <td>0.230244</td>\n",
       "      <td>41.607744</td>\n",
       "      <td>7.229253</td>\n",
       "    </tr>\n",
       "    <tr>\n",
       "      <th>DeltaSpectralClustering #1</th>\n",
       "      <td>{'delta': 5.0}</td>\n",
       "      <td>[0.0, 0.0, 0.0, 1.0, 0.0, 1.0, 1.0, 1.0, 0.0, ...</td>\n",
       "      <td>2</td>\n",
       "      <td>5.00</td>\n",
       "      <td>0.230244</td>\n",
       "      <td>41.607744</td>\n",
       "      <td>7.229253</td>\n",
       "    </tr>\n",
       "    <tr>\n",
       "      <th>DeltaSpectralClustering #2</th>\n",
       "      <td>{'delta': 5.0}</td>\n",
       "      <td>[1.0, 1.0, 1.0, 0.0, 1.0, 0.0, 0.0, 0.0, 1.0, ...</td>\n",
       "      <td>2</td>\n",
       "      <td>5.00</td>\n",
       "      <td>0.230244</td>\n",
       "      <td>41.607744</td>\n",
       "      <td>7.229253</td>\n",
       "    </tr>\n",
       "    <tr>\n",
       "      <th>DeltaSpectralClustering #3</th>\n",
       "      <td>{'delta': 5.0}</td>\n",
       "      <td>[0.0, 0.0, 0.0, 1.0, 0.0, 1.0, 1.0, 1.0, 0.0, ...</td>\n",
       "      <td>2</td>\n",
       "      <td>5.00</td>\n",
       "      <td>0.230244</td>\n",
       "      <td>41.607744</td>\n",
       "      <td>7.229253</td>\n",
       "    </tr>\n",
       "    <tr>\n",
       "      <th>DeltaSpectralClustering #4</th>\n",
       "      <td>{'delta': 5.0}</td>\n",
       "      <td>[1.0, 1.0, 1.0, 0.0, 1.0, 0.0, 0.0, 0.0, 1.0, ...</td>\n",
       "      <td>2</td>\n",
       "      <td>5.00</td>\n",
       "      <td>0.230244</td>\n",
       "      <td>41.607744</td>\n",
       "      <td>7.229253</td>\n",
       "    </tr>\n",
       "  </tbody>\n",
       "</table>\n",
       "</div>"
      ],
      "text/plain": [
       "                           clusterer_params  \\\n",
       "clusterer_id                                  \n",
       "DeltaSpectralClustering #0   {'delta': 5.0}   \n",
       "DeltaSpectralClustering #1   {'delta': 5.0}   \n",
       "DeltaSpectralClustering #2   {'delta': 5.0}   \n",
       "DeltaSpectralClustering #3   {'delta': 5.0}   \n",
       "DeltaSpectralClustering #4   {'delta': 5.0}   \n",
       "\n",
       "                                                                    partition  \\\n",
       "clusterer_id                                                                    \n",
       "DeltaSpectralClustering #0  [0.0, 0.0, 0.0, 1.0, 0.0, 1.0, 1.0, 1.0, 0.0, ...   \n",
       "DeltaSpectralClustering #1  [0.0, 0.0, 0.0, 1.0, 0.0, 1.0, 1.0, 1.0, 0.0, ...   \n",
       "DeltaSpectralClustering #2  [1.0, 1.0, 1.0, 0.0, 1.0, 0.0, 0.0, 0.0, 1.0, ...   \n",
       "DeltaSpectralClustering #3  [0.0, 0.0, 0.0, 1.0, 0.0, 1.0, 1.0, 1.0, 0.0, ...   \n",
       "DeltaSpectralClustering #4  [1.0, 1.0, 1.0, 0.0, 1.0, 0.0, 0.0, 0.0, 1.0, ...   \n",
       "\n",
       "                            n_clusters delta  si_score   ch_score  db_score  \n",
       "clusterer_id                                                                 \n",
       "DeltaSpectralClustering #0           2  5.00  0.230244  41.607744  7.229253  \n",
       "DeltaSpectralClustering #1           2  5.00  0.230244  41.607744  7.229253  \n",
       "DeltaSpectralClustering #2           2  5.00  0.230244  41.607744  7.229253  \n",
       "DeltaSpectralClustering #3           2  5.00  0.230244  41.607744  7.229253  \n",
       "DeltaSpectralClustering #4           2  5.00  0.230244  41.607744  7.229253  "
      ]
     },
     "execution_count": 31,
     "metadata": {},
     "output_type": "execute_result"
    }
   ],
   "source": [
    "ensemble.head()"
   ]
  },
  {
   "cell_type": "markdown",
   "metadata": {
    "papermill": {
     "duration": 0.019398,
     "end_time": "2021-03-11T03:01:48.938485",
     "exception": false,
     "start_time": "2021-03-11T03:01:48.919087",
     "status": "completed"
    },
    "tags": []
   },
   "source": [
    "### Add clustering quality measures"
   ]
  },
  {
   "cell_type": "code",
   "execution_count": 32,
   "metadata": {
    "execution": {
     "iopub.execute_input": "2021-03-11T03:01:48.979478Z",
     "iopub.status.busy": "2021-03-11T03:01:48.979062Z",
     "iopub.status.idle": "2021-03-11T03:01:56.423437Z",
     "shell.execute_reply": "2021-03-11T03:01:56.423042Z"
    },
    "papermill": {
     "duration": 7.465885,
     "end_time": "2021-03-11T03:01:56.423527",
     "exception": false,
     "start_time": "2021-03-11T03:01:48.957642",
     "status": "completed"
    },
    "tags": []
   },
   "outputs": [],
   "source": [
    "ensemble = ensemble.assign(\n",
    "    #     si_score=ensemble[\"partition\"].apply(lambda x: silhouette_score(dist_matrix, x, metric=\"precomputed\")),\n",
    "    ch_score=ensemble[\"partition\"].apply(lambda x: calinski_harabasz_score(data, x)),\n",
    "    db_score=ensemble[\"partition\"].apply(lambda x: davies_bouldin_score(data, x)),\n",
    ")"
   ]
  },
  {
   "cell_type": "code",
   "execution_count": 33,
   "metadata": {
    "execution": {
     "iopub.execute_input": "2021-03-11T03:01:56.467084Z",
     "iopub.status.busy": "2021-03-11T03:01:56.466698Z",
     "iopub.status.idle": "2021-03-11T03:01:56.477546Z",
     "shell.execute_reply": "2021-03-11T03:01:56.477235Z"
    },
    "papermill": {
     "duration": 0.033385,
     "end_time": "2021-03-11T03:01:56.477635",
     "exception": false,
     "start_time": "2021-03-11T03:01:56.444250",
     "status": "completed"
    },
    "tags": []
   },
   "outputs": [
    {
     "data": {
      "text/plain": [
       "(720, 7)"
      ]
     },
     "execution_count": 33,
     "metadata": {},
     "output_type": "execute_result"
    }
   ],
   "source": [
    "ensemble.shape"
   ]
  },
  {
   "cell_type": "code",
   "execution_count": 34,
   "metadata": {
    "execution": {
     "iopub.execute_input": "2021-03-11T03:01:56.520395Z",
     "iopub.status.busy": "2021-03-11T03:01:56.520039Z",
     "iopub.status.idle": "2021-03-11T03:01:56.539151Z",
     "shell.execute_reply": "2021-03-11T03:01:56.539455Z"
    },
    "papermill": {
     "duration": 0.041296,
     "end_time": "2021-03-11T03:01:56.539557",
     "exception": false,
     "start_time": "2021-03-11T03:01:56.498261",
     "status": "completed"
    },
    "tags": []
   },
   "outputs": [
    {
     "data": {
      "text/html": [
       "<div>\n",
       "<style scoped>\n",
       "    .dataframe tbody tr th:only-of-type {\n",
       "        vertical-align: middle;\n",
       "    }\n",
       "\n",
       "    .dataframe tbody tr th {\n",
       "        vertical-align: top;\n",
       "    }\n",
       "\n",
       "    .dataframe thead th {\n",
       "        text-align: right;\n",
       "    }\n",
       "</style>\n",
       "<table border=\"1\" class=\"dataframe\">\n",
       "  <thead>\n",
       "    <tr style=\"text-align: right;\">\n",
       "      <th></th>\n",
       "      <th>clusterer_params</th>\n",
       "      <th>partition</th>\n",
       "      <th>n_clusters</th>\n",
       "      <th>delta</th>\n",
       "      <th>si_score</th>\n",
       "      <th>ch_score</th>\n",
       "      <th>db_score</th>\n",
       "    </tr>\n",
       "    <tr>\n",
       "      <th>clusterer_id</th>\n",
       "      <th></th>\n",
       "      <th></th>\n",
       "      <th></th>\n",
       "      <th></th>\n",
       "      <th></th>\n",
       "      <th></th>\n",
       "      <th></th>\n",
       "    </tr>\n",
       "  </thead>\n",
       "  <tbody>\n",
       "    <tr>\n",
       "      <th>DeltaSpectralClustering #0</th>\n",
       "      <td>{'delta': 5.0}</td>\n",
       "      <td>[0.0, 0.0, 0.0, 1.0, 0.0, 1.0, 1.0, 1.0, 0.0, ...</td>\n",
       "      <td>2</td>\n",
       "      <td>5.00</td>\n",
       "      <td>0.230244</td>\n",
       "      <td>33.756059</td>\n",
       "      <td>7.822267</td>\n",
       "    </tr>\n",
       "    <tr>\n",
       "      <th>DeltaSpectralClustering #1</th>\n",
       "      <td>{'delta': 5.0}</td>\n",
       "      <td>[0.0, 0.0, 0.0, 1.0, 0.0, 1.0, 1.0, 1.0, 0.0, ...</td>\n",
       "      <td>2</td>\n",
       "      <td>5.00</td>\n",
       "      <td>0.230244</td>\n",
       "      <td>33.756059</td>\n",
       "      <td>7.822267</td>\n",
       "    </tr>\n",
       "    <tr>\n",
       "      <th>DeltaSpectralClustering #2</th>\n",
       "      <td>{'delta': 5.0}</td>\n",
       "      <td>[1.0, 1.0, 1.0, 0.0, 1.0, 0.0, 0.0, 0.0, 1.0, ...</td>\n",
       "      <td>2</td>\n",
       "      <td>5.00</td>\n",
       "      <td>0.230244</td>\n",
       "      <td>33.756059</td>\n",
       "      <td>7.822267</td>\n",
       "    </tr>\n",
       "    <tr>\n",
       "      <th>DeltaSpectralClustering #3</th>\n",
       "      <td>{'delta': 5.0}</td>\n",
       "      <td>[0.0, 0.0, 0.0, 1.0, 0.0, 1.0, 1.0, 1.0, 0.0, ...</td>\n",
       "      <td>2</td>\n",
       "      <td>5.00</td>\n",
       "      <td>0.230244</td>\n",
       "      <td>33.756059</td>\n",
       "      <td>7.822267</td>\n",
       "    </tr>\n",
       "    <tr>\n",
       "      <th>DeltaSpectralClustering #4</th>\n",
       "      <td>{'delta': 5.0}</td>\n",
       "      <td>[1.0, 1.0, 1.0, 0.0, 1.0, 0.0, 0.0, 0.0, 1.0, ...</td>\n",
       "      <td>2</td>\n",
       "      <td>5.00</td>\n",
       "      <td>0.230244</td>\n",
       "      <td>33.756059</td>\n",
       "      <td>7.822267</td>\n",
       "    </tr>\n",
       "  </tbody>\n",
       "</table>\n",
       "</div>"
      ],
      "text/plain": [
       "                           clusterer_params  \\\n",
       "clusterer_id                                  \n",
       "DeltaSpectralClustering #0   {'delta': 5.0}   \n",
       "DeltaSpectralClustering #1   {'delta': 5.0}   \n",
       "DeltaSpectralClustering #2   {'delta': 5.0}   \n",
       "DeltaSpectralClustering #3   {'delta': 5.0}   \n",
       "DeltaSpectralClustering #4   {'delta': 5.0}   \n",
       "\n",
       "                                                                    partition  \\\n",
       "clusterer_id                                                                    \n",
       "DeltaSpectralClustering #0  [0.0, 0.0, 0.0, 1.0, 0.0, 1.0, 1.0, 1.0, 0.0, ...   \n",
       "DeltaSpectralClustering #1  [0.0, 0.0, 0.0, 1.0, 0.0, 1.0, 1.0, 1.0, 0.0, ...   \n",
       "DeltaSpectralClustering #2  [1.0, 1.0, 1.0, 0.0, 1.0, 0.0, 0.0, 0.0, 1.0, ...   \n",
       "DeltaSpectralClustering #3  [0.0, 0.0, 0.0, 1.0, 0.0, 1.0, 1.0, 1.0, 0.0, ...   \n",
       "DeltaSpectralClustering #4  [1.0, 1.0, 1.0, 0.0, 1.0, 0.0, 0.0, 0.0, 1.0, ...   \n",
       "\n",
       "                            n_clusters delta  si_score   ch_score  db_score  \n",
       "clusterer_id                                                                 \n",
       "DeltaSpectralClustering #0           2  5.00  0.230244  33.756059  7.822267  \n",
       "DeltaSpectralClustering #1           2  5.00  0.230244  33.756059  7.822267  \n",
       "DeltaSpectralClustering #2           2  5.00  0.230244  33.756059  7.822267  \n",
       "DeltaSpectralClustering #3           2  5.00  0.230244  33.756059  7.822267  \n",
       "DeltaSpectralClustering #4           2  5.00  0.230244  33.756059  7.822267  "
      ]
     },
     "execution_count": 34,
     "metadata": {},
     "output_type": "execute_result"
    }
   ],
   "source": [
    "ensemble.head()"
   ]
  },
  {
   "cell_type": "markdown",
   "metadata": {
    "papermill": {
     "duration": 0.019506,
     "end_time": "2021-03-11T03:01:56.579316",
     "exception": false,
     "start_time": "2021-03-11T03:01:56.559810",
     "status": "completed"
    },
    "tags": []
   },
   "source": [
    "# Cluster quality"
   ]
  },
  {
   "cell_type": "code",
   "execution_count": 35,
   "metadata": {
    "execution": {
     "iopub.execute_input": "2021-03-11T03:01:56.621049Z",
     "iopub.status.busy": "2021-03-11T03:01:56.620641Z",
     "iopub.status.idle": "2021-03-11T03:01:56.645925Z",
     "shell.execute_reply": "2021-03-11T03:01:56.645553Z"
    },
    "papermill": {
     "duration": 0.047255,
     "end_time": "2021-03-11T03:01:56.646008",
     "exception": false,
     "start_time": "2021-03-11T03:01:56.598753",
     "status": "completed"
    },
    "tags": []
   },
   "outputs": [
    {
     "data": {
      "text/html": [
       "<div>\n",
       "<style scoped>\n",
       "    .dataframe tbody tr th:only-of-type {\n",
       "        vertical-align: middle;\n",
       "    }\n",
       "\n",
       "    .dataframe tbody tr th {\n",
       "        vertical-align: top;\n",
       "    }\n",
       "\n",
       "    .dataframe thead th {\n",
       "        text-align: right;\n",
       "    }\n",
       "</style>\n",
       "<table border=\"1\" class=\"dataframe\">\n",
       "  <thead>\n",
       "    <tr style=\"text-align: right;\">\n",
       "      <th></th>\n",
       "      <th></th>\n",
       "      <th>si_score</th>\n",
       "      <th>ch_score</th>\n",
       "      <th>db_score</th>\n",
       "    </tr>\n",
       "    <tr>\n",
       "      <th>n_clusters</th>\n",
       "      <th>delta</th>\n",
       "      <th></th>\n",
       "      <th></th>\n",
       "      <th></th>\n",
       "    </tr>\n",
       "  </thead>\n",
       "  <tbody>\n",
       "    <tr>\n",
       "      <th rowspan=\"9\" valign=\"top\">2</th>\n",
       "      <th>0.20</th>\n",
       "      <td>0.413614</td>\n",
       "      <td>137.751690</td>\n",
       "      <td>0.281444</td>\n",
       "    </tr>\n",
       "    <tr>\n",
       "      <th>0.25</th>\n",
       "      <td>0.413614</td>\n",
       "      <td>137.751690</td>\n",
       "      <td>0.281444</td>\n",
       "    </tr>\n",
       "    <tr>\n",
       "      <th>0.30</th>\n",
       "      <td>0.368615</td>\n",
       "      <td>310.982482</td>\n",
       "      <td>1.067361</td>\n",
       "    </tr>\n",
       "    <tr>\n",
       "      <th>0.50</th>\n",
       "      <td>0.234743</td>\n",
       "      <td>32.038951</td>\n",
       "      <td>7.925797</td>\n",
       "    </tr>\n",
       "    <tr>\n",
       "      <th>0.75</th>\n",
       "      <td>0.231760</td>\n",
       "      <td>33.728043</td>\n",
       "      <td>7.789270</td>\n",
       "    </tr>\n",
       "    <tr>\n",
       "      <th>0.90</th>\n",
       "      <td>0.231284</td>\n",
       "      <td>33.146865</td>\n",
       "      <td>7.869836</td>\n",
       "    </tr>\n",
       "    <tr>\n",
       "      <th>1.00</th>\n",
       "      <td>0.231165</td>\n",
       "      <td>33.331512</td>\n",
       "      <td>7.852162</td>\n",
       "    </tr>\n",
       "    <tr>\n",
       "      <th>2.00</th>\n",
       "      <td>0.230672</td>\n",
       "      <td>33.424719</td>\n",
       "      <td>7.855023</td>\n",
       "    </tr>\n",
       "    <tr>\n",
       "      <th>5.00</th>\n",
       "      <td>0.230244</td>\n",
       "      <td>33.756059</td>\n",
       "      <td>7.822267</td>\n",
       "    </tr>\n",
       "    <tr>\n",
       "      <th rowspan=\"9\" valign=\"top\">4</th>\n",
       "      <th>0.20</th>\n",
       "      <td>0.360273</td>\n",
       "      <td>282.497790</td>\n",
       "      <td>0.290814</td>\n",
       "    </tr>\n",
       "    <tr>\n",
       "      <th>0.25</th>\n",
       "      <td>0.360535</td>\n",
       "      <td>188.410917</td>\n",
       "      <td>0.816116</td>\n",
       "    </tr>\n",
       "    <tr>\n",
       "      <th>0.30</th>\n",
       "      <td>0.242972</td>\n",
       "      <td>190.583977</td>\n",
       "      <td>5.233446</td>\n",
       "    </tr>\n",
       "    <tr>\n",
       "      <th>0.50</th>\n",
       "      <td>0.082288</td>\n",
       "      <td>548.840287</td>\n",
       "      <td>3.248295</td>\n",
       "    </tr>\n",
       "    <tr>\n",
       "      <th>0.75</th>\n",
       "      <td>0.084110</td>\n",
       "      <td>429.734349</td>\n",
       "      <td>3.533231</td>\n",
       "    </tr>\n",
       "    <tr>\n",
       "      <th>0.90</th>\n",
       "      <td>0.083880</td>\n",
       "      <td>477.828956</td>\n",
       "      <td>3.298054</td>\n",
       "    </tr>\n",
       "    <tr>\n",
       "      <th>1.00</th>\n",
       "      <td>0.083580</td>\n",
       "      <td>503.631209</td>\n",
       "      <td>3.226142</td>\n",
       "    </tr>\n",
       "    <tr>\n",
       "      <th>2.00</th>\n",
       "      <td>0.083282</td>\n",
       "      <td>505.758298</td>\n",
       "      <td>3.156348</td>\n",
       "    </tr>\n",
       "    <tr>\n",
       "      <th>5.00</th>\n",
       "      <td>0.083348</td>\n",
       "      <td>501.791528</td>\n",
       "      <td>3.191586</td>\n",
       "    </tr>\n",
       "    <tr>\n",
       "      <th rowspan=\"9\" valign=\"top\">6</th>\n",
       "      <th>0.20</th>\n",
       "      <td>0.366359</td>\n",
       "      <td>172.457370</td>\n",
       "      <td>1.573231</td>\n",
       "    </tr>\n",
       "    <tr>\n",
       "      <th>0.25</th>\n",
       "      <td>0.365797</td>\n",
       "      <td>172.771501</td>\n",
       "      <td>1.110255</td>\n",
       "    </tr>\n",
       "    <tr>\n",
       "      <th>0.30</th>\n",
       "      <td>0.236124</td>\n",
       "      <td>117.010059</td>\n",
       "      <td>4.180070</td>\n",
       "    </tr>\n",
       "    <tr>\n",
       "      <th>0.50</th>\n",
       "      <td>0.109237</td>\n",
       "      <td>859.630106</td>\n",
       "      <td>2.034674</td>\n",
       "    </tr>\n",
       "    <tr>\n",
       "      <th>0.75</th>\n",
       "      <td>0.111349</td>\n",
       "      <td>758.965696</td>\n",
       "      <td>2.205376</td>\n",
       "    </tr>\n",
       "    <tr>\n",
       "      <th>0.90</th>\n",
       "      <td>0.111232</td>\n",
       "      <td>753.501800</td>\n",
       "      <td>2.229374</td>\n",
       "    </tr>\n",
       "    <tr>\n",
       "      <th>1.00</th>\n",
       "      <td>0.111185</td>\n",
       "      <td>751.721129</td>\n",
       "      <td>2.237650</td>\n",
       "    </tr>\n",
       "    <tr>\n",
       "      <th>2.00</th>\n",
       "      <td>0.111246</td>\n",
       "      <td>752.742050</td>\n",
       "      <td>2.229602</td>\n",
       "    </tr>\n",
       "    <tr>\n",
       "      <th>5.00</th>\n",
       "      <td>0.111201</td>\n",
       "      <td>755.909373</td>\n",
       "      <td>2.221724</td>\n",
       "    </tr>\n",
       "    <tr>\n",
       "      <th rowspan=\"9\" valign=\"top\">8</th>\n",
       "      <th>0.20</th>\n",
       "      <td>0.357209</td>\n",
       "      <td>124.082178</td>\n",
       "      <td>1.311820</td>\n",
       "    </tr>\n",
       "    <tr>\n",
       "      <th>0.25</th>\n",
       "      <td>0.236339</td>\n",
       "      <td>125.444991</td>\n",
       "      <td>3.452698</td>\n",
       "    </tr>\n",
       "    <tr>\n",
       "      <th>0.30</th>\n",
       "      <td>0.097090</td>\n",
       "      <td>359.266508</td>\n",
       "      <td>2.125001</td>\n",
       "    </tr>\n",
       "    <tr>\n",
       "      <th>0.50</th>\n",
       "      <td>0.128245</td>\n",
       "      <td>1279.323741</td>\n",
       "      <td>1.954205</td>\n",
       "    </tr>\n",
       "    <tr>\n",
       "      <th>0.75</th>\n",
       "      <td>0.130530</td>\n",
       "      <td>1216.668542</td>\n",
       "      <td>2.015645</td>\n",
       "    </tr>\n",
       "    <tr>\n",
       "      <th>0.90</th>\n",
       "      <td>0.126823</td>\n",
       "      <td>1057.411749</td>\n",
       "      <td>1.801739</td>\n",
       "    </tr>\n",
       "    <tr>\n",
       "      <th>1.00</th>\n",
       "      <td>0.126990</td>\n",
       "      <td>1055.918846</td>\n",
       "      <td>1.802507</td>\n",
       "    </tr>\n",
       "    <tr>\n",
       "      <th>2.00</th>\n",
       "      <td>0.126434</td>\n",
       "      <td>1026.284498</td>\n",
       "      <td>1.898464</td>\n",
       "    </tr>\n",
       "    <tr>\n",
       "      <th>5.00</th>\n",
       "      <td>0.126459</td>\n",
       "      <td>1026.600148</td>\n",
       "      <td>1.901557</td>\n",
       "    </tr>\n",
       "    <tr>\n",
       "      <th rowspan=\"9\" valign=\"top\">10</th>\n",
       "      <th>0.20</th>\n",
       "      <td>0.284170</td>\n",
       "      <td>98.496716</td>\n",
       "      <td>1.275135</td>\n",
       "    </tr>\n",
       "    <tr>\n",
       "      <th>0.25</th>\n",
       "      <td>0.355434</td>\n",
       "      <td>96.515005</td>\n",
       "      <td>1.243043</td>\n",
       "    </tr>\n",
       "    <tr>\n",
       "      <th>0.30</th>\n",
       "      <td>0.124279</td>\n",
       "      <td>796.545252</td>\n",
       "      <td>1.379184</td>\n",
       "    </tr>\n",
       "    <tr>\n",
       "      <th>0.50</th>\n",
       "      <td>0.144429</td>\n",
       "      <td>1246.910833</td>\n",
       "      <td>1.838009</td>\n",
       "    </tr>\n",
       "    <tr>\n",
       "      <th>0.75</th>\n",
       "      <td>0.143755</td>\n",
       "      <td>1247.650695</td>\n",
       "      <td>1.897406</td>\n",
       "    </tr>\n",
       "    <tr>\n",
       "      <th>0.90</th>\n",
       "      <td>0.143632</td>\n",
       "      <td>1247.234584</td>\n",
       "      <td>1.898532</td>\n",
       "    </tr>\n",
       "    <tr>\n",
       "      <th>1.00</th>\n",
       "      <td>0.143715</td>\n",
       "      <td>1246.652189</td>\n",
       "      <td>1.899084</td>\n",
       "    </tr>\n",
       "    <tr>\n",
       "      <th>2.00</th>\n",
       "      <td>0.142988</td>\n",
       "      <td>1249.610358</td>\n",
       "      <td>1.894530</td>\n",
       "    </tr>\n",
       "    <tr>\n",
       "      <th>5.00</th>\n",
       "      <td>0.143260</td>\n",
       "      <td>1255.244169</td>\n",
       "      <td>1.901625</td>\n",
       "    </tr>\n",
       "    <tr>\n",
       "      <th rowspan=\"9\" valign=\"top\">12</th>\n",
       "      <th>0.20</th>\n",
       "      <td>0.285607</td>\n",
       "      <td>80.699891</td>\n",
       "      <td>1.609162</td>\n",
       "    </tr>\n",
       "    <tr>\n",
       "      <th>0.25</th>\n",
       "      <td>0.233302</td>\n",
       "      <td>80.477008</td>\n",
       "      <td>2.557945</td>\n",
       "    </tr>\n",
       "    <tr>\n",
       "      <th>0.30</th>\n",
       "      <td>0.135423</td>\n",
       "      <td>1319.673699</td>\n",
       "      <td>1.080120</td>\n",
       "    </tr>\n",
       "    <tr>\n",
       "      <th>0.50</th>\n",
       "      <td>0.150808</td>\n",
       "      <td>1187.596261</td>\n",
       "      <td>1.568501</td>\n",
       "    </tr>\n",
       "    <tr>\n",
       "      <th>0.75</th>\n",
       "      <td>0.151032</td>\n",
       "      <td>1220.630344</td>\n",
       "      <td>1.786277</td>\n",
       "    </tr>\n",
       "    <tr>\n",
       "      <th>0.90</th>\n",
       "      <td>0.151315</td>\n",
       "      <td>1213.155746</td>\n",
       "      <td>1.794319</td>\n",
       "    </tr>\n",
       "    <tr>\n",
       "      <th>1.00</th>\n",
       "      <td>0.151144</td>\n",
       "      <td>1223.179324</td>\n",
       "      <td>1.788232</td>\n",
       "    </tr>\n",
       "    <tr>\n",
       "      <th>2.00</th>\n",
       "      <td>0.150650</td>\n",
       "      <td>1226.091361</td>\n",
       "      <td>1.787821</td>\n",
       "    </tr>\n",
       "    <tr>\n",
       "      <th>5.00</th>\n",
       "      <td>0.150593</td>\n",
       "      <td>1226.788494</td>\n",
       "      <td>1.787904</td>\n",
       "    </tr>\n",
       "    <tr>\n",
       "      <th rowspan=\"9\" valign=\"top\">14</th>\n",
       "      <th>0.20</th>\n",
       "      <td>0.227774</td>\n",
       "      <td>70.365695</td>\n",
       "      <td>2.190468</td>\n",
       "    </tr>\n",
       "    <tr>\n",
       "      <th>0.25</th>\n",
       "      <td>0.231886</td>\n",
       "      <td>68.083718</td>\n",
       "      <td>2.630830</td>\n",
       "    </tr>\n",
       "    <tr>\n",
       "      <th>0.30</th>\n",
       "      <td>0.140035</td>\n",
       "      <td>1046.689984</td>\n",
       "      <td>2.186904</td>\n",
       "    </tr>\n",
       "    <tr>\n",
       "      <th>0.50</th>\n",
       "      <td>0.158400</td>\n",
       "      <td>1210.434258</td>\n",
       "      <td>1.428421</td>\n",
       "    </tr>\n",
       "    <tr>\n",
       "      <th>0.75</th>\n",
       "      <td>0.152182</td>\n",
       "      <td>1231.322901</td>\n",
       "      <td>1.750593</td>\n",
       "    </tr>\n",
       "    <tr>\n",
       "      <th>0.90</th>\n",
       "      <td>0.153292</td>\n",
       "      <td>1250.306327</td>\n",
       "      <td>1.709735</td>\n",
       "    </tr>\n",
       "    <tr>\n",
       "      <th>1.00</th>\n",
       "      <td>0.153992</td>\n",
       "      <td>1159.616555</td>\n",
       "      <td>1.732816</td>\n",
       "    </tr>\n",
       "    <tr>\n",
       "      <th>2.00</th>\n",
       "      <td>0.153823</td>\n",
       "      <td>1332.452649</td>\n",
       "      <td>1.637684</td>\n",
       "    </tr>\n",
       "    <tr>\n",
       "      <th>5.00</th>\n",
       "      <td>0.153659</td>\n",
       "      <td>1257.172604</td>\n",
       "      <td>1.686485</td>\n",
       "    </tr>\n",
       "    <tr>\n",
       "      <th rowspan=\"9\" valign=\"top\">16</th>\n",
       "      <th>0.20</th>\n",
       "      <td>0.283238</td>\n",
       "      <td>60.466074</td>\n",
       "      <td>1.654299</td>\n",
       "    </tr>\n",
       "    <tr>\n",
       "      <th>0.25</th>\n",
       "      <td>0.223490</td>\n",
       "      <td>60.218684</td>\n",
       "      <td>2.638190</td>\n",
       "    </tr>\n",
       "    <tr>\n",
       "      <th>0.30</th>\n",
       "      <td>0.144274</td>\n",
       "      <td>985.955004</td>\n",
       "      <td>2.353099</td>\n",
       "    </tr>\n",
       "    <tr>\n",
       "      <th>0.50</th>\n",
       "      <td>0.161586</td>\n",
       "      <td>1297.517270</td>\n",
       "      <td>1.287672</td>\n",
       "    </tr>\n",
       "    <tr>\n",
       "      <th>0.75</th>\n",
       "      <td>0.161521</td>\n",
       "      <td>1200.247291</td>\n",
       "      <td>1.562840</td>\n",
       "    </tr>\n",
       "    <tr>\n",
       "      <th>0.90</th>\n",
       "      <td>0.160940</td>\n",
       "      <td>1248.149432</td>\n",
       "      <td>1.545715</td>\n",
       "    </tr>\n",
       "    <tr>\n",
       "      <th>1.00</th>\n",
       "      <td>0.157733</td>\n",
       "      <td>1149.635981</td>\n",
       "      <td>1.660977</td>\n",
       "    </tr>\n",
       "    <tr>\n",
       "      <th>2.00</th>\n",
       "      <td>0.155862</td>\n",
       "      <td>1187.329089</td>\n",
       "      <td>1.626350</td>\n",
       "    </tr>\n",
       "    <tr>\n",
       "      <th>5.00</th>\n",
       "      <td>0.161450</td>\n",
       "      <td>1255.532662</td>\n",
       "      <td>1.545014</td>\n",
       "    </tr>\n",
       "    <tr>\n",
       "      <th rowspan=\"9\" valign=\"top\">18</th>\n",
       "      <th>0.20</th>\n",
       "      <td>0.249320</td>\n",
       "      <td>54.106429</td>\n",
       "      <td>1.494346</td>\n",
       "    </tr>\n",
       "    <tr>\n",
       "      <th>0.25</th>\n",
       "      <td>0.125457</td>\n",
       "      <td>180.023450</td>\n",
       "      <td>1.848225</td>\n",
       "    </tr>\n",
       "    <tr>\n",
       "      <th>0.30</th>\n",
       "      <td>0.144546</td>\n",
       "      <td>858.934120</td>\n",
       "      <td>1.798305</td>\n",
       "    </tr>\n",
       "    <tr>\n",
       "      <th>0.50</th>\n",
       "      <td>0.166115</td>\n",
       "      <td>1222.323493</td>\n",
       "      <td>1.197736</td>\n",
       "    </tr>\n",
       "    <tr>\n",
       "      <th>0.75</th>\n",
       "      <td>0.162603</td>\n",
       "      <td>1123.926915</td>\n",
       "      <td>1.531659</td>\n",
       "    </tr>\n",
       "    <tr>\n",
       "      <th>0.90</th>\n",
       "      <td>0.160297</td>\n",
       "      <td>1127.813634</td>\n",
       "      <td>1.531494</td>\n",
       "    </tr>\n",
       "    <tr>\n",
       "      <th>1.00</th>\n",
       "      <td>0.161840</td>\n",
       "      <td>1166.718248</td>\n",
       "      <td>1.586454</td>\n",
       "    </tr>\n",
       "    <tr>\n",
       "      <th>2.00</th>\n",
       "      <td>0.165377</td>\n",
       "      <td>1172.474223</td>\n",
       "      <td>1.507482</td>\n",
       "    </tr>\n",
       "    <tr>\n",
       "      <th>5.00</th>\n",
       "      <td>0.160016</td>\n",
       "      <td>1143.946890</td>\n",
       "      <td>2.121179</td>\n",
       "    </tr>\n",
       "    <tr>\n",
       "      <th rowspan=\"9\" valign=\"top\">20</th>\n",
       "      <th>0.20</th>\n",
       "      <td>0.205376</td>\n",
       "      <td>49.682145</td>\n",
       "      <td>1.638702</td>\n",
       "    </tr>\n",
       "    <tr>\n",
       "      <th>0.25</th>\n",
       "      <td>0.103113</td>\n",
       "      <td>162.816747</td>\n",
       "      <td>2.156275</td>\n",
       "    </tr>\n",
       "    <tr>\n",
       "      <th>0.30</th>\n",
       "      <td>0.159514</td>\n",
       "      <td>1102.602457</td>\n",
       "      <td>1.828518</td>\n",
       "    </tr>\n",
       "    <tr>\n",
       "      <th>0.50</th>\n",
       "      <td>0.166908</td>\n",
       "      <td>1185.700843</td>\n",
       "      <td>1.186638</td>\n",
       "    </tr>\n",
       "    <tr>\n",
       "      <th>0.75</th>\n",
       "      <td>0.168927</td>\n",
       "      <td>1237.089244</td>\n",
       "      <td>1.529747</td>\n",
       "    </tr>\n",
       "    <tr>\n",
       "      <th>0.90</th>\n",
       "      <td>0.173561</td>\n",
       "      <td>1259.291355</td>\n",
       "      <td>1.564247</td>\n",
       "    </tr>\n",
       "    <tr>\n",
       "      <th>1.00</th>\n",
       "      <td>0.173545</td>\n",
       "      <td>1255.588425</td>\n",
       "      <td>1.485869</td>\n",
       "    </tr>\n",
       "    <tr>\n",
       "      <th>2.00</th>\n",
       "      <td>0.166195</td>\n",
       "      <td>1159.055582</td>\n",
       "      <td>1.579742</td>\n",
       "    </tr>\n",
       "    <tr>\n",
       "      <th>5.00</th>\n",
       "      <td>0.167234</td>\n",
       "      <td>1168.041492</td>\n",
       "      <td>1.583825</td>\n",
       "    </tr>\n",
       "    <tr>\n",
       "      <th rowspan=\"9\" valign=\"top\">25</th>\n",
       "      <th>0.20</th>\n",
       "      <td>0.154849</td>\n",
       "      <td>61.975776</td>\n",
       "      <td>2.210073</td>\n",
       "    </tr>\n",
       "    <tr>\n",
       "      <th>0.25</th>\n",
       "      <td>0.121652</td>\n",
       "      <td>327.453185</td>\n",
       "      <td>1.921166</td>\n",
       "    </tr>\n",
       "    <tr>\n",
       "      <th>0.30</th>\n",
       "      <td>0.166854</td>\n",
       "      <td>1148.801338</td>\n",
       "      <td>1.792725</td>\n",
       "    </tr>\n",
       "    <tr>\n",
       "      <th>0.50</th>\n",
       "      <td>0.175948</td>\n",
       "      <td>1186.858146</td>\n",
       "      <td>1.519180</td>\n",
       "    </tr>\n",
       "    <tr>\n",
       "      <th>0.75</th>\n",
       "      <td>0.172689</td>\n",
       "      <td>1506.025851</td>\n",
       "      <td>1.349214</td>\n",
       "    </tr>\n",
       "    <tr>\n",
       "      <th>0.90</th>\n",
       "      <td>0.167577</td>\n",
       "      <td>1376.954076</td>\n",
       "      <td>1.428766</td>\n",
       "    </tr>\n",
       "    <tr>\n",
       "      <th>1.00</th>\n",
       "      <td>0.171615</td>\n",
       "      <td>1159.604253</td>\n",
       "      <td>1.537685</td>\n",
       "    </tr>\n",
       "    <tr>\n",
       "      <th>2.00</th>\n",
       "      <td>0.166753</td>\n",
       "      <td>1072.286732</td>\n",
       "      <td>1.625184</td>\n",
       "    </tr>\n",
       "    <tr>\n",
       "      <th>5.00</th>\n",
       "      <td>0.167437</td>\n",
       "      <td>1059.778691</td>\n",
       "      <td>1.702393</td>\n",
       "    </tr>\n",
       "    <tr>\n",
       "      <th rowspan=\"9\" valign=\"top\">30</th>\n",
       "      <th>0.20</th>\n",
       "      <td>0.114545</td>\n",
       "      <td>112.722507</td>\n",
       "      <td>1.966339</td>\n",
       "    </tr>\n",
       "    <tr>\n",
       "      <th>0.25</th>\n",
       "      <td>0.124820</td>\n",
       "      <td>228.858518</td>\n",
       "      <td>2.006076</td>\n",
       "    </tr>\n",
       "    <tr>\n",
       "      <th>0.30</th>\n",
       "      <td>0.175867</td>\n",
       "      <td>1035.849222</td>\n",
       "      <td>1.719675</td>\n",
       "    </tr>\n",
       "    <tr>\n",
       "      <th>0.50</th>\n",
       "      <td>0.175988</td>\n",
       "      <td>2015.754714</td>\n",
       "      <td>1.394807</td>\n",
       "    </tr>\n",
       "    <tr>\n",
       "      <th>0.75</th>\n",
       "      <td>0.173396</td>\n",
       "      <td>1111.115364</td>\n",
       "      <td>1.778579</td>\n",
       "    </tr>\n",
       "    <tr>\n",
       "      <th>0.90</th>\n",
       "      <td>0.169778</td>\n",
       "      <td>1108.857456</td>\n",
       "      <td>1.743838</td>\n",
       "    </tr>\n",
       "    <tr>\n",
       "      <th>1.00</th>\n",
       "      <td>0.167495</td>\n",
       "      <td>1096.325721</td>\n",
       "      <td>1.860799</td>\n",
       "    </tr>\n",
       "    <tr>\n",
       "      <th>2.00</th>\n",
       "      <td>0.168811</td>\n",
       "      <td>1013.564568</td>\n",
       "      <td>1.892093</td>\n",
       "    </tr>\n",
       "    <tr>\n",
       "      <th>5.00</th>\n",
       "      <td>0.169222</td>\n",
       "      <td>954.787871</td>\n",
       "      <td>1.799132</td>\n",
       "    </tr>\n",
       "    <tr>\n",
       "      <th rowspan=\"9\" valign=\"top\">35</th>\n",
       "      <th>0.20</th>\n",
       "      <td>0.112725</td>\n",
       "      <td>166.778302</td>\n",
       "      <td>1.712622</td>\n",
       "    </tr>\n",
       "    <tr>\n",
       "      <th>0.25</th>\n",
       "      <td>0.148548</td>\n",
       "      <td>441.730264</td>\n",
       "      <td>1.705480</td>\n",
       "    </tr>\n",
       "    <tr>\n",
       "      <th>0.30</th>\n",
       "      <td>0.178691</td>\n",
       "      <td>1277.932646</td>\n",
       "      <td>1.486704</td>\n",
       "    </tr>\n",
       "    <tr>\n",
       "      <th>0.50</th>\n",
       "      <td>0.179426</td>\n",
       "      <td>1765.369961</td>\n",
       "      <td>1.565987</td>\n",
       "    </tr>\n",
       "    <tr>\n",
       "      <th>0.75</th>\n",
       "      <td>0.173565</td>\n",
       "      <td>1031.147522</td>\n",
       "      <td>1.833097</td>\n",
       "    </tr>\n",
       "    <tr>\n",
       "      <th>0.90</th>\n",
       "      <td>0.171960</td>\n",
       "      <td>1188.525804</td>\n",
       "      <td>1.830156</td>\n",
       "    </tr>\n",
       "    <tr>\n",
       "      <th>1.00</th>\n",
       "      <td>0.167935</td>\n",
       "      <td>1425.413333</td>\n",
       "      <td>1.895493</td>\n",
       "    </tr>\n",
       "    <tr>\n",
       "      <th>2.00</th>\n",
       "      <td>0.165342</td>\n",
       "      <td>1172.819187</td>\n",
       "      <td>2.178638</td>\n",
       "    </tr>\n",
       "    <tr>\n",
       "      <th>5.00</th>\n",
       "      <td>0.161624</td>\n",
       "      <td>951.460434</td>\n",
       "      <td>2.252220</td>\n",
       "    </tr>\n",
       "    <tr>\n",
       "      <th rowspan=\"9\" valign=\"top\">40</th>\n",
       "      <th>0.20</th>\n",
       "      <td>0.137873</td>\n",
       "      <td>342.135875</td>\n",
       "      <td>1.666050</td>\n",
       "    </tr>\n",
       "    <tr>\n",
       "      <th>0.25</th>\n",
       "      <td>0.158410</td>\n",
       "      <td>463.037601</td>\n",
       "      <td>1.736931</td>\n",
       "    </tr>\n",
       "    <tr>\n",
       "      <th>0.30</th>\n",
       "      <td>0.190481</td>\n",
       "      <td>1412.210055</td>\n",
       "      <td>1.298000</td>\n",
       "    </tr>\n",
       "    <tr>\n",
       "      <th>0.50</th>\n",
       "      <td>0.180397</td>\n",
       "      <td>1691.041297</td>\n",
       "      <td>1.646190</td>\n",
       "    </tr>\n",
       "    <tr>\n",
       "      <th>0.75</th>\n",
       "      <td>0.167003</td>\n",
       "      <td>1307.927796</td>\n",
       "      <td>2.168120</td>\n",
       "    </tr>\n",
       "    <tr>\n",
       "      <th>0.90</th>\n",
       "      <td>0.169636</td>\n",
       "      <td>1032.019407</td>\n",
       "      <td>1.986374</td>\n",
       "    </tr>\n",
       "    <tr>\n",
       "      <th>1.00</th>\n",
       "      <td>0.166127</td>\n",
       "      <td>1050.216164</td>\n",
       "      <td>2.158365</td>\n",
       "    </tr>\n",
       "    <tr>\n",
       "      <th>2.00</th>\n",
       "      <td>0.158949</td>\n",
       "      <td>1177.356654</td>\n",
       "      <td>2.106938</td>\n",
       "    </tr>\n",
       "    <tr>\n",
       "      <th>5.00</th>\n",
       "      <td>0.155528</td>\n",
       "      <td>835.976775</td>\n",
       "      <td>2.293336</td>\n",
       "    </tr>\n",
       "    <tr>\n",
       "      <th rowspan=\"9\" valign=\"top\">50</th>\n",
       "      <th>0.20</th>\n",
       "      <td>0.135694</td>\n",
       "      <td>210.109594</td>\n",
       "      <td>1.704121</td>\n",
       "    </tr>\n",
       "    <tr>\n",
       "      <th>0.25</th>\n",
       "      <td>0.167368</td>\n",
       "      <td>447.541966</td>\n",
       "      <td>1.605054</td>\n",
       "    </tr>\n",
       "    <tr>\n",
       "      <th>0.30</th>\n",
       "      <td>0.200260</td>\n",
       "      <td>1150.783968</td>\n",
       "      <td>1.734459</td>\n",
       "    </tr>\n",
       "    <tr>\n",
       "      <th>0.50</th>\n",
       "      <td>0.169228</td>\n",
       "      <td>1244.774543</td>\n",
       "      <td>1.952359</td>\n",
       "    </tr>\n",
       "    <tr>\n",
       "      <th>0.75</th>\n",
       "      <td>0.157111</td>\n",
       "      <td>1417.768339</td>\n",
       "      <td>2.070383</td>\n",
       "    </tr>\n",
       "    <tr>\n",
       "      <th>0.90</th>\n",
       "      <td>0.153546</td>\n",
       "      <td>1387.122391</td>\n",
       "      <td>2.061454</td>\n",
       "    </tr>\n",
       "    <tr>\n",
       "      <th>1.00</th>\n",
       "      <td>0.158402</td>\n",
       "      <td>1424.982572</td>\n",
       "      <td>2.036925</td>\n",
       "    </tr>\n",
       "    <tr>\n",
       "      <th>2.00</th>\n",
       "      <td>0.148342</td>\n",
       "      <td>1407.218535</td>\n",
       "      <td>2.097899</td>\n",
       "    </tr>\n",
       "    <tr>\n",
       "      <th>5.00</th>\n",
       "      <td>0.151441</td>\n",
       "      <td>928.981256</td>\n",
       "      <td>2.305299</td>\n",
       "    </tr>\n",
       "    <tr>\n",
       "      <th rowspan=\"9\" valign=\"top\">60</th>\n",
       "      <th>0.20</th>\n",
       "      <td>0.159246</td>\n",
       "      <td>322.593671</td>\n",
       "      <td>2.031581</td>\n",
       "    </tr>\n",
       "    <tr>\n",
       "      <th>0.25</th>\n",
       "      <td>0.199550</td>\n",
       "      <td>683.980348</td>\n",
       "      <td>1.908300</td>\n",
       "    </tr>\n",
       "    <tr>\n",
       "      <th>0.30</th>\n",
       "      <td>0.197261</td>\n",
       "      <td>1180.145371</td>\n",
       "      <td>1.941965</td>\n",
       "    </tr>\n",
       "    <tr>\n",
       "      <th>0.50</th>\n",
       "      <td>0.157012</td>\n",
       "      <td>1163.320743</td>\n",
       "      <td>2.036590</td>\n",
       "    </tr>\n",
       "    <tr>\n",
       "      <th>0.75</th>\n",
       "      <td>0.147941</td>\n",
       "      <td>1305.541753</td>\n",
       "      <td>2.181428</td>\n",
       "    </tr>\n",
       "    <tr>\n",
       "      <th>0.90</th>\n",
       "      <td>0.146499</td>\n",
       "      <td>1275.232963</td>\n",
       "      <td>2.122217</td>\n",
       "    </tr>\n",
       "    <tr>\n",
       "      <th>1.00</th>\n",
       "      <td>0.145322</td>\n",
       "      <td>1270.987013</td>\n",
       "      <td>2.044609</td>\n",
       "    </tr>\n",
       "    <tr>\n",
       "      <th>2.00</th>\n",
       "      <td>0.132927</td>\n",
       "      <td>1243.216961</td>\n",
       "      <td>2.212027</td>\n",
       "    </tr>\n",
       "    <tr>\n",
       "      <th>5.00</th>\n",
       "      <td>0.140429</td>\n",
       "      <td>1277.445739</td>\n",
       "      <td>2.139573</td>\n",
       "    </tr>\n",
       "  </tbody>\n",
       "</table>\n",
       "</div>"
      ],
      "text/plain": [
       "                  si_score     ch_score  db_score\n",
       "n_clusters delta                                 \n",
       "2          0.20   0.413614   137.751690  0.281444\n",
       "           0.25   0.413614   137.751690  0.281444\n",
       "           0.30   0.368615   310.982482  1.067361\n",
       "           0.50   0.234743    32.038951  7.925797\n",
       "           0.75   0.231760    33.728043  7.789270\n",
       "           0.90   0.231284    33.146865  7.869836\n",
       "           1.00   0.231165    33.331512  7.852162\n",
       "           2.00   0.230672    33.424719  7.855023\n",
       "           5.00   0.230244    33.756059  7.822267\n",
       "4          0.20   0.360273   282.497790  0.290814\n",
       "           0.25   0.360535   188.410917  0.816116\n",
       "           0.30   0.242972   190.583977  5.233446\n",
       "           0.50   0.082288   548.840287  3.248295\n",
       "           0.75   0.084110   429.734349  3.533231\n",
       "           0.90   0.083880   477.828956  3.298054\n",
       "           1.00   0.083580   503.631209  3.226142\n",
       "           2.00   0.083282   505.758298  3.156348\n",
       "           5.00   0.083348   501.791528  3.191586\n",
       "6          0.20   0.366359   172.457370  1.573231\n",
       "           0.25   0.365797   172.771501  1.110255\n",
       "           0.30   0.236124   117.010059  4.180070\n",
       "           0.50   0.109237   859.630106  2.034674\n",
       "           0.75   0.111349   758.965696  2.205376\n",
       "           0.90   0.111232   753.501800  2.229374\n",
       "           1.00   0.111185   751.721129  2.237650\n",
       "           2.00   0.111246   752.742050  2.229602\n",
       "           5.00   0.111201   755.909373  2.221724\n",
       "8          0.20   0.357209   124.082178  1.311820\n",
       "           0.25   0.236339   125.444991  3.452698\n",
       "           0.30   0.097090   359.266508  2.125001\n",
       "           0.50   0.128245  1279.323741  1.954205\n",
       "           0.75   0.130530  1216.668542  2.015645\n",
       "           0.90   0.126823  1057.411749  1.801739\n",
       "           1.00   0.126990  1055.918846  1.802507\n",
       "           2.00   0.126434  1026.284498  1.898464\n",
       "           5.00   0.126459  1026.600148  1.901557\n",
       "10         0.20   0.284170    98.496716  1.275135\n",
       "           0.25   0.355434    96.515005  1.243043\n",
       "           0.30   0.124279   796.545252  1.379184\n",
       "           0.50   0.144429  1246.910833  1.838009\n",
       "           0.75   0.143755  1247.650695  1.897406\n",
       "           0.90   0.143632  1247.234584  1.898532\n",
       "           1.00   0.143715  1246.652189  1.899084\n",
       "           2.00   0.142988  1249.610358  1.894530\n",
       "           5.00   0.143260  1255.244169  1.901625\n",
       "12         0.20   0.285607    80.699891  1.609162\n",
       "           0.25   0.233302    80.477008  2.557945\n",
       "           0.30   0.135423  1319.673699  1.080120\n",
       "           0.50   0.150808  1187.596261  1.568501\n",
       "           0.75   0.151032  1220.630344  1.786277\n",
       "           0.90   0.151315  1213.155746  1.794319\n",
       "           1.00   0.151144  1223.179324  1.788232\n",
       "           2.00   0.150650  1226.091361  1.787821\n",
       "           5.00   0.150593  1226.788494  1.787904\n",
       "14         0.20   0.227774    70.365695  2.190468\n",
       "           0.25   0.231886    68.083718  2.630830\n",
       "           0.30   0.140035  1046.689984  2.186904\n",
       "           0.50   0.158400  1210.434258  1.428421\n",
       "           0.75   0.152182  1231.322901  1.750593\n",
       "           0.90   0.153292  1250.306327  1.709735\n",
       "           1.00   0.153992  1159.616555  1.732816\n",
       "           2.00   0.153823  1332.452649  1.637684\n",
       "           5.00   0.153659  1257.172604  1.686485\n",
       "16         0.20   0.283238    60.466074  1.654299\n",
       "           0.25   0.223490    60.218684  2.638190\n",
       "           0.30   0.144274   985.955004  2.353099\n",
       "           0.50   0.161586  1297.517270  1.287672\n",
       "           0.75   0.161521  1200.247291  1.562840\n",
       "           0.90   0.160940  1248.149432  1.545715\n",
       "           1.00   0.157733  1149.635981  1.660977\n",
       "           2.00   0.155862  1187.329089  1.626350\n",
       "           5.00   0.161450  1255.532662  1.545014\n",
       "18         0.20   0.249320    54.106429  1.494346\n",
       "           0.25   0.125457   180.023450  1.848225\n",
       "           0.30   0.144546   858.934120  1.798305\n",
       "           0.50   0.166115  1222.323493  1.197736\n",
       "           0.75   0.162603  1123.926915  1.531659\n",
       "           0.90   0.160297  1127.813634  1.531494\n",
       "           1.00   0.161840  1166.718248  1.586454\n",
       "           2.00   0.165377  1172.474223  1.507482\n",
       "           5.00   0.160016  1143.946890  2.121179\n",
       "20         0.20   0.205376    49.682145  1.638702\n",
       "           0.25   0.103113   162.816747  2.156275\n",
       "           0.30   0.159514  1102.602457  1.828518\n",
       "           0.50   0.166908  1185.700843  1.186638\n",
       "           0.75   0.168927  1237.089244  1.529747\n",
       "           0.90   0.173561  1259.291355  1.564247\n",
       "           1.00   0.173545  1255.588425  1.485869\n",
       "           2.00   0.166195  1159.055582  1.579742\n",
       "           5.00   0.167234  1168.041492  1.583825\n",
       "25         0.20   0.154849    61.975776  2.210073\n",
       "           0.25   0.121652   327.453185  1.921166\n",
       "           0.30   0.166854  1148.801338  1.792725\n",
       "           0.50   0.175948  1186.858146  1.519180\n",
       "           0.75   0.172689  1506.025851  1.349214\n",
       "           0.90   0.167577  1376.954076  1.428766\n",
       "           1.00   0.171615  1159.604253  1.537685\n",
       "           2.00   0.166753  1072.286732  1.625184\n",
       "           5.00   0.167437  1059.778691  1.702393\n",
       "30         0.20   0.114545   112.722507  1.966339\n",
       "           0.25   0.124820   228.858518  2.006076\n",
       "           0.30   0.175867  1035.849222  1.719675\n",
       "           0.50   0.175988  2015.754714  1.394807\n",
       "           0.75   0.173396  1111.115364  1.778579\n",
       "           0.90   0.169778  1108.857456  1.743838\n",
       "           1.00   0.167495  1096.325721  1.860799\n",
       "           2.00   0.168811  1013.564568  1.892093\n",
       "           5.00   0.169222   954.787871  1.799132\n",
       "35         0.20   0.112725   166.778302  1.712622\n",
       "           0.25   0.148548   441.730264  1.705480\n",
       "           0.30   0.178691  1277.932646  1.486704\n",
       "           0.50   0.179426  1765.369961  1.565987\n",
       "           0.75   0.173565  1031.147522  1.833097\n",
       "           0.90   0.171960  1188.525804  1.830156\n",
       "           1.00   0.167935  1425.413333  1.895493\n",
       "           2.00   0.165342  1172.819187  2.178638\n",
       "           5.00   0.161624   951.460434  2.252220\n",
       "40         0.20   0.137873   342.135875  1.666050\n",
       "           0.25   0.158410   463.037601  1.736931\n",
       "           0.30   0.190481  1412.210055  1.298000\n",
       "           0.50   0.180397  1691.041297  1.646190\n",
       "           0.75   0.167003  1307.927796  2.168120\n",
       "           0.90   0.169636  1032.019407  1.986374\n",
       "           1.00   0.166127  1050.216164  2.158365\n",
       "           2.00   0.158949  1177.356654  2.106938\n",
       "           5.00   0.155528   835.976775  2.293336\n",
       "50         0.20   0.135694   210.109594  1.704121\n",
       "           0.25   0.167368   447.541966  1.605054\n",
       "           0.30   0.200260  1150.783968  1.734459\n",
       "           0.50   0.169228  1244.774543  1.952359\n",
       "           0.75   0.157111  1417.768339  2.070383\n",
       "           0.90   0.153546  1387.122391  2.061454\n",
       "           1.00   0.158402  1424.982572  2.036925\n",
       "           2.00   0.148342  1407.218535  2.097899\n",
       "           5.00   0.151441   928.981256  2.305299\n",
       "60         0.20   0.159246   322.593671  2.031581\n",
       "           0.25   0.199550   683.980348  1.908300\n",
       "           0.30   0.197261  1180.145371  1.941965\n",
       "           0.50   0.157012  1163.320743  2.036590\n",
       "           0.75   0.147941  1305.541753  2.181428\n",
       "           0.90   0.146499  1275.232963  2.122217\n",
       "           1.00   0.145322  1270.987013  2.044609\n",
       "           2.00   0.132927  1243.216961  2.212027\n",
       "           5.00   0.140429  1277.445739  2.139573"
      ]
     },
     "metadata": {},
     "output_type": "display_data"
    }
   ],
   "source": [
    "with pd.option_context(\"display.max_rows\", None, \"display.max_columns\", None):\n",
    "    _df = ensemble.groupby([\"n_clusters\", \"delta\"]).mean()\n",
    "    display(_df)"
   ]
  },
  {
   "cell_type": "code",
   "execution_count": 36,
   "metadata": {
    "execution": {
     "iopub.execute_input": "2021-03-11T03:01:56.691779Z",
     "iopub.status.busy": "2021-03-11T03:01:56.691413Z",
     "iopub.status.idle": "2021-03-11T03:01:59.839150Z",
     "shell.execute_reply": "2021-03-11T03:01:59.839453Z"
    },
    "papermill": {
     "duration": 3.171893,
     "end_time": "2021-03-11T03:01:59.839554",
     "exception": false,
     "start_time": "2021-03-11T03:01:56.667661",
     "status": "completed"
    },
    "tags": []
   },
   "outputs": [
    {
     "data": {
      "image/png": "[encoded data removed]",
      "text/plain": [
       "<Figure size 1008x432 with 1 Axes>"
      ]
     },
     "metadata": {},
     "output_type": "display_data"
    }
   ],
   "source": [
    "with sns.plotting_context(\"talk\", font_scale=0.75), sns.axes_style(\n",
    "    \"whitegrid\", {\"grid.linestyle\": \"--\"}\n",
    "):\n",
    "    fig = plt.figure(figsize=(14, 6))\n",
    "    ax = sns.pointplot(data=ensemble, x=\"n_clusters\", y=\"si_score\", hue=\"delta\")\n",
    "    ax.set_ylabel(\"Silhouette index\\n(higher is better)\")\n",
    "    ax.set_xlabel(\"Number of clusters ($k$)\")\n",
    "    ax.set_xticklabels(ax.get_xticklabels(), rotation=45)\n",
    "    plt.grid(True)\n",
    "    plt.tight_layout()"
   ]
  },
  {
   "cell_type": "code",
   "execution_count": 37,
   "metadata": {
    "execution": {
     "iopub.execute_input": "2021-03-11T03:01:59.889008Z",
     "iopub.status.busy": "2021-03-11T03:01:59.888572Z",
     "iopub.status.idle": "2021-03-11T03:02:02.755381Z",
     "shell.execute_reply": "2021-03-11T03:02:02.755680Z"
    },
    "papermill": {
     "duration": 2.89302,
     "end_time": "2021-03-11T03:02:02.755782",
     "exception": false,
     "start_time": "2021-03-11T03:01:59.862762",
     "status": "completed"
    },
    "tags": []
   },
   "outputs": [
    {
     "data": {
      "image/png": "[encoded data removed]",
      "text/plain": [
       "<Figure size 1008x432 with 1 Axes>"
      ]
     },
     "metadata": {},
     "output_type": "display_data"
    }
   ],
   "source": [
    "with sns.plotting_context(\"talk\", font_scale=0.75), sns.axes_style(\n",
    "    \"whitegrid\", {\"grid.linestyle\": \"--\"}\n",
    "):\n",
    "    fig = plt.figure(figsize=(14, 6))\n",
    "    ax = sns.pointplot(data=ensemble, x=\"n_clusters\", y=\"ch_score\", hue=\"delta\")\n",
    "    ax.set_ylabel(\"Calinski-Harabasz index\\n(higher is better)\")\n",
    "    ax.set_xlabel(\"Number of clusters ($k$)\")\n",
    "    ax.set_xticklabels(ax.get_xticklabels(), rotation=45)\n",
    "    plt.grid(True)\n",
    "    plt.tight_layout()"
   ]
  },
  {
   "cell_type": "code",
   "execution_count": 38,
   "metadata": {
    "execution": {
     "iopub.execute_input": "2021-03-11T03:02:02.812608Z",
     "iopub.status.busy": "2021-03-11T03:02:02.812239Z",
     "iopub.status.idle": "2021-03-11T03:02:05.724560Z",
     "shell.execute_reply": "2021-03-11T03:02:05.724895Z"
    },
    "papermill": {
     "duration": 2.942141,
     "end_time": "2021-03-11T03:02:05.724998",
     "exception": false,
     "start_time": "2021-03-11T03:02:02.782857",
     "status": "completed"
    },
    "tags": []
   },
   "outputs": [
    {
     "data": {
      "image/png": "[encoded data removed]",
      "text/plain": [
       "<Figure size 1008x432 with 1 Axes>"
      ]
     },
     "metadata": {},
     "output_type": "display_data"
    }
   ],
   "source": [
    "with sns.plotting_context(\"talk\", font_scale=0.75), sns.axes_style(\n",
    "    \"whitegrid\", {\"grid.linestyle\": \"--\"}\n",
    "):\n",
    "    fig = plt.figure(figsize=(14, 6))\n",
    "    ax = sns.pointplot(data=ensemble, x=\"n_clusters\", y=\"db_score\", hue=\"delta\")\n",
    "    ax.set_ylabel(\"Davies-Bouldin index\\n(lower is better)\")\n",
    "    ax.set_xlabel(\"Number of clusters ($k$)\")\n",
    "    ax.set_xticklabels(ax.get_xticklabels(), rotation=45)\n",
    "    plt.grid(True)\n",
    "    plt.tight_layout()"
   ]
  },
  {
   "cell_type": "code",
   "execution_count": null,
   "metadata": {
    "papermill": {
     "duration": 0.028155,
     "end_time": "2021-03-11T03:02:05.782781",
     "exception": false,
     "start_time": "2021-03-11T03:02:05.754626",
     "status": "completed"
    },
    "tags": []
   },
   "outputs": [],
   "source": []
  }
 ],
 "metadata": {
  "jupytext": {
   "cell_metadata_filter": "all,-execution,-papermill,-trusted",
   "formats": "ipynb,py//py:percent"
  },
  "kernelspec": {
   "display_name": "Python 3",
   "language": "python",
   "name": "python3"
  },
  "language_info": {
   "codemirror_mode": {
    "name": "ipython",
    "version": 3
   },
   "file_extension": ".py",
   "mimetype": "text/x-python",
   "name": "python",
   "nbconvert_exporter": "python",
   "pygments_lexer": "ipython3",
   "version": "3.8.8"
  },
  "papermill": {
   "default_parameters": {},
   "duration": 20.898326,
   "end_time": "2021-03-11T03:02:06.218411",
   "environment_variables": {},
   "exception": null,
   "input_path": "16_consensus_clustering/022_pre_analysis/10_02-spectral_clustering-ensemble-umap.ipynb",
   "output_path": "16_consensus_clustering/022_pre_analysis/10_02-spectral_clustering-ensemble-umap.run.ipynb",
   "parameters": {},
   "start_time": "2021-03-11T03:01:45.320085",
   "version": "2.2.2"
  },
  "toc-autonumbering": true,
  "toc-showcode": false,
  "toc-showmarkdowntxt": false,
  "toc-showtags": false
 },
 "nbformat": 4,
 "nbformat_minor": 4
}
