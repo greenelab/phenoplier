{
 "cells": [
  {
   "cell_type": "markdown",
   "metadata": {
    "papermill": {
     "duration": 0.018061,
     "end_time": "2021-03-11T13:58:44.931217",
     "exception": false,
     "start_time": "2021-03-11T13:58:44.913156",
     "status": "completed"
    },
    "tags": []
   },
   "source": [
    "# Description"
   ]
  },
  {
   "cell_type": "markdown",
   "metadata": {
    "papermill": {
     "duration": 0.01353,
     "end_time": "2021-03-11T13:58:44.958656",
     "exception": false,
     "start_time": "2021-03-11T13:58:44.945126",
     "status": "completed"
    },
    "tags": []
   },
   "source": [
    "It prepares the data to create a clustering tree visualization (using the R package `clustree`)."
   ]
  },
  {
   "cell_type": "markdown",
   "metadata": {
    "papermill": {
     "duration": 0.013731,
     "end_time": "2021-03-11T13:58:44.986376",
     "exception": false,
     "start_time": "2021-03-11T13:58:44.972645",
     "status": "completed"
    },
    "tags": []
   },
   "source": [
    "# Modules loading"
   ]
  },
  {
   "cell_type": "code",
   "execution_count": 1,
   "metadata": {
    "execution": {
     "iopub.execute_input": "2021-03-11T13:58:45.019506Z",
     "iopub.status.busy": "2021-03-11T13:58:45.019115Z",
     "iopub.status.idle": "2021-03-11T13:58:45.026867Z",
     "shell.execute_reply": "2021-03-11T13:58:45.026447Z"
    },
    "papermill": {
     "duration": 0.026974,
     "end_time": "2021-03-11T13:58:45.026959",
     "exception": false,
     "start_time": "2021-03-11T13:58:44.999985",
     "status": "completed"
    },
    "tags": []
   },
   "outputs": [],
   "source": [
    "%load_ext autoreload\n",
    "%autoreload 2"
   ]
  },
  {
   "cell_type": "code",
   "execution_count": 2,
   "metadata": {
    "execution": {
     "iopub.execute_input": "2021-03-11T13:58:45.057421Z",
     "iopub.status.busy": "2021-03-11T13:58:45.057054Z",
     "iopub.status.idle": "2021-03-11T13:58:45.245030Z",
     "shell.execute_reply": "2021-03-11T13:58:45.244543Z"
    },
    "papermill": {
     "duration": 0.203989,
     "end_time": "2021-03-11T13:58:45.245141",
     "exception": false,
     "start_time": "2021-03-11T13:58:45.041152",
     "status": "completed"
    },
    "tags": []
   },
   "outputs": [],
   "source": [
    "from IPython.display import display\n",
    "from pathlib import Path\n",
    "\n",
    "import numpy as np\n",
    "import pandas as pd\n",
    "\n",
    "from utils import generate_result_set_name\n",
    "import conf"
   ]
  },
  {
   "cell_type": "markdown",
   "metadata": {
    "papermill": {
     "duration": 0.013662,
     "end_time": "2021-03-11T13:58:45.273015",
     "exception": false,
     "start_time": "2021-03-11T13:58:45.259353",
     "status": "completed"
    },
    "tags": []
   },
   "source": [
    "# Settings"
   ]
  },
  {
   "cell_type": "code",
   "execution_count": 3,
   "metadata": {
    "execution": {
     "iopub.execute_input": "2021-03-11T13:58:45.303070Z",
     "iopub.status.busy": "2021-03-11T13:58:45.302705Z",
     "iopub.status.idle": "2021-03-11T13:58:45.314623Z",
     "shell.execute_reply": "2021-03-11T13:58:45.314250Z"
    },
    "papermill": {
     "duration": 0.027922,
     "end_time": "2021-03-11T13:58:45.314708",
     "exception": false,
     "start_time": "2021-03-11T13:58:45.286786",
     "status": "completed"
    },
    "tags": []
   },
   "outputs": [
    {
     "data": {
      "text/plain": [
       "PosixPath('/home/miltondp/projects/labs/greenelab/phenoplier/base/results/clustering/consensus_clustering')"
      ]
     },
     "metadata": {},
     "output_type": "display_data"
    }
   ],
   "source": [
    "CONSENSUS_CLUSTERING_DIR = Path(\n",
    "    conf.RESULTS[\"CLUSTERING_DIR\"], \"consensus_clustering\"\n",
    ").resolve()\n",
    "\n",
    "display(CONSENSUS_CLUSTERING_DIR)"
   ]
  },
  {
   "cell_type": "markdown",
   "metadata": {
    "papermill": {
     "duration": 0.013855,
     "end_time": "2021-03-11T13:58:45.342939",
     "exception": false,
     "start_time": "2021-03-11T13:58:45.329084",
     "status": "completed"
    },
    "tags": []
   },
   "source": [
    "# Load data"
   ]
  },
  {
   "cell_type": "markdown",
   "metadata": {
    "papermill": {
     "duration": 0.013733,
     "end_time": "2021-03-11T13:58:45.370999",
     "exception": false,
     "start_time": "2021-03-11T13:58:45.357266",
     "status": "completed"
    },
    "tags": []
   },
   "source": [
    "## PCA"
   ]
  },
  {
   "cell_type": "code",
   "execution_count": 4,
   "metadata": {
    "execution": {
     "iopub.execute_input": "2021-03-11T13:58:45.401996Z",
     "iopub.status.busy": "2021-03-11T13:58:45.401630Z",
     "iopub.status.idle": "2021-03-11T13:58:45.408396Z",
     "shell.execute_reply": "2021-03-11T13:58:45.408672Z"
    },
    "papermill": {
     "duration": 0.023505,
     "end_time": "2021-03-11T13:58:45.408840",
     "exception": false,
     "start_time": "2021-03-11T13:58:45.385335",
     "status": "completed"
    },
    "tags": []
   },
   "outputs": [],
   "source": [
    "INPUT_SUBSET = \"pca\""
   ]
  },
  {
   "cell_type": "code",
   "execution_count": 5,
   "metadata": {
    "execution": {
     "iopub.execute_input": "2021-03-11T13:58:45.440020Z",
     "iopub.status.busy": "2021-03-11T13:58:45.439660Z",
     "iopub.status.idle": "2021-03-11T13:58:45.446988Z",
     "shell.execute_reply": "2021-03-11T13:58:45.446662Z"
    },
    "papermill": {
     "duration": 0.023812,
     "end_time": "2021-03-11T13:58:45.447072",
     "exception": false,
     "start_time": "2021-03-11T13:58:45.423260",
     "status": "completed"
    },
    "tags": []
   },
   "outputs": [],
   "source": [
    "INPUT_STEM = \"z_score_std-projection-smultixcan-efo_partial-mashr-zscores\""
   ]
  },
  {
   "cell_type": "code",
   "execution_count": 6,
   "metadata": {
    "execution": {
     "iopub.execute_input": "2021-03-11T13:58:45.478360Z",
     "iopub.status.busy": "2021-03-11T13:58:45.477994Z",
     "iopub.status.idle": "2021-03-11T13:58:45.485294Z",
     "shell.execute_reply": "2021-03-11T13:58:45.484922Z"
    },
    "papermill": {
     "duration": 0.023583,
     "end_time": "2021-03-11T13:58:45.485379",
     "exception": false,
     "start_time": "2021-03-11T13:58:45.461796",
     "status": "completed"
    },
    "tags": []
   },
   "outputs": [],
   "source": [
    "DR_OPTIONS = {\n",
    "    \"n_components\": 50,\n",
    "    \"svd_solver\": \"full\",\n",
    "    \"random_state\": 0,\n",
    "}"
   ]
  },
  {
   "cell_type": "code",
   "execution_count": 7,
   "metadata": {
    "execution": {
     "iopub.execute_input": "2021-03-11T13:58:45.516922Z",
     "iopub.status.busy": "2021-03-11T13:58:45.516512Z",
     "iopub.status.idle": "2021-03-11T13:58:45.525230Z",
     "shell.execute_reply": "2021-03-11T13:58:45.525508Z"
    },
    "papermill": {
     "duration": 0.0258,
     "end_time": "2021-03-11T13:58:45.525613",
     "exception": false,
     "start_time": "2021-03-11T13:58:45.499813",
     "status": "completed"
    },
    "tags": []
   },
   "outputs": [
    {
     "data": {
      "text/plain": [
       "PosixPath('/home/miltondp/projects/labs/greenelab/phenoplier/base/results/data_transformations/pca/pca-z_score_std-projection-smultixcan-efo_partial-mashr-zscores-n_components_50-random_state_0-svd_solver_full.pkl')"
      ]
     },
     "metadata": {},
     "output_type": "display_data"
    },
    {
     "data": {
      "text/plain": [
       "'pca-z_score_std-projection-smultixcan-efo_partial-mashr-zscores-n_components_50-random_state_0-svd_solver_full'"
      ]
     },
     "metadata": {},
     "output_type": "display_data"
    }
   ],
   "source": [
    "input_filepath = Path(\n",
    "    conf.RESULTS[\"DATA_TRANSFORMATIONS_DIR\"],\n",
    "    INPUT_SUBSET,\n",
    "    generate_result_set_name(\n",
    "        DR_OPTIONS, prefix=f\"{INPUT_SUBSET}-{INPUT_STEM}-\", suffix=\".pkl\"\n",
    "    ),\n",
    ").resolve()\n",
    "display(input_filepath)\n",
    "\n",
    "assert input_filepath.exists(), \"Input file does not exist\"\n",
    "\n",
    "input_filepath_stem = input_filepath.stem\n",
    "display(input_filepath_stem)"
   ]
  },
  {
   "cell_type": "code",
   "execution_count": 8,
   "metadata": {
    "execution": {
     "iopub.execute_input": "2021-03-11T13:58:45.558133Z",
     "iopub.status.busy": "2021-03-11T13:58:45.557752Z",
     "iopub.status.idle": "2021-03-11T13:58:45.567557Z",
     "shell.execute_reply": "2021-03-11T13:58:45.567167Z"
    },
    "papermill": {
     "duration": 0.027236,
     "end_time": "2021-03-11T13:58:45.567645",
     "exception": false,
     "start_time": "2021-03-11T13:58:45.540409",
     "status": "completed"
    },
    "tags": []
   },
   "outputs": [],
   "source": [
    "data_pca = pd.read_pickle(input_filepath).iloc[:, :5]"
   ]
  },
  {
   "cell_type": "code",
   "execution_count": 9,
   "metadata": {
    "execution": {
     "iopub.execute_input": "2021-03-11T13:58:45.602826Z",
     "iopub.status.busy": "2021-03-11T13:58:45.602403Z",
     "iopub.status.idle": "2021-03-11T13:58:45.611920Z",
     "shell.execute_reply": "2021-03-11T13:58:45.612241Z"
    },
    "papermill": {
     "duration": 0.029572,
     "end_time": "2021-03-11T13:58:45.612362",
     "exception": false,
     "start_time": "2021-03-11T13:58:45.582790",
     "status": "completed"
    },
    "tags": []
   },
   "outputs": [
    {
     "data": {
      "text/plain": [
       "(3752, 5)"
      ]
     },
     "execution_count": 9,
     "metadata": {},
     "output_type": "execute_result"
    }
   ],
   "source": [
    "data_pca.shape"
   ]
  },
  {
   "cell_type": "code",
   "execution_count": 10,
   "metadata": {
    "execution": {
     "iopub.execute_input": "2021-03-11T13:58:45.646159Z",
     "iopub.status.busy": "2021-03-11T13:58:45.645791Z",
     "iopub.status.idle": "2021-03-11T13:58:45.658202Z",
     "shell.execute_reply": "2021-03-11T13:58:45.657818Z"
    },
    "papermill": {
     "duration": 0.029905,
     "end_time": "2021-03-11T13:58:45.658290",
     "exception": false,
     "start_time": "2021-03-11T13:58:45.628385",
     "status": "completed"
    },
    "tags": []
   },
   "outputs": [
    {
     "data": {
      "text/html": [
       "<div>\n",
       "<style scoped>\n",
       "    .dataframe tbody tr th:only-of-type {\n",
       "        vertical-align: middle;\n",
       "    }\n",
       "\n",
       "    .dataframe tbody tr th {\n",
       "        vertical-align: top;\n",
       "    }\n",
       "\n",
       "    .dataframe thead th {\n",
       "        text-align: right;\n",
       "    }\n",
       "</style>\n",
       "<table border=\"1\" class=\"dataframe\">\n",
       "  <thead>\n",
       "    <tr style=\"text-align: right;\">\n",
       "      <th></th>\n",
       "      <th>PCA1</th>\n",
       "      <th>PCA2</th>\n",
       "      <th>PCA3</th>\n",
       "      <th>PCA4</th>\n",
       "      <th>PCA5</th>\n",
       "    </tr>\n",
       "  </thead>\n",
       "  <tbody>\n",
       "    <tr>\n",
       "      <th>100001_raw-Food_weight</th>\n",
       "      <td>0.805216</td>\n",
       "      <td>-0.865390</td>\n",
       "      <td>0.699480</td>\n",
       "      <td>-0.065976</td>\n",
       "      <td>0.999617</td>\n",
       "    </tr>\n",
       "    <tr>\n",
       "      <th>100002_raw-Energy</th>\n",
       "      <td>0.588507</td>\n",
       "      <td>-1.491772</td>\n",
       "      <td>1.756340</td>\n",
       "      <td>-3.593295</td>\n",
       "      <td>2.100607</td>\n",
       "    </tr>\n",
       "    <tr>\n",
       "      <th>100003_raw-Protein</th>\n",
       "      <td>1.910160</td>\n",
       "      <td>-1.873687</td>\n",
       "      <td>1.876677</td>\n",
       "      <td>-3.832557</td>\n",
       "      <td>1.240704</td>\n",
       "    </tr>\n",
       "    <tr>\n",
       "      <th>100004_raw-Fat</th>\n",
       "      <td>0.750799</td>\n",
       "      <td>-0.294733</td>\n",
       "      <td>1.317710</td>\n",
       "      <td>-1.346081</td>\n",
       "      <td>2.006403</td>\n",
       "    </tr>\n",
       "    <tr>\n",
       "      <th>100005_raw-Carbohydrate</th>\n",
       "      <td>-0.530044</td>\n",
       "      <td>-0.007398</td>\n",
       "      <td>0.611418</td>\n",
       "      <td>-3.604094</td>\n",
       "      <td>2.227872</td>\n",
       "    </tr>\n",
       "  </tbody>\n",
       "</table>\n",
       "</div>"
      ],
      "text/plain": [
       "                             PCA1      PCA2      PCA3      PCA4      PCA5\n",
       "100001_raw-Food_weight   0.805216 -0.865390  0.699480 -0.065976  0.999617\n",
       "100002_raw-Energy        0.588507 -1.491772  1.756340 -3.593295  2.100607\n",
       "100003_raw-Protein       1.910160 -1.873687  1.876677 -3.832557  1.240704\n",
       "100004_raw-Fat           0.750799 -0.294733  1.317710 -1.346081  2.006403\n",
       "100005_raw-Carbohydrate -0.530044 -0.007398  0.611418 -3.604094  2.227872"
      ]
     },
     "execution_count": 10,
     "metadata": {},
     "output_type": "execute_result"
    }
   ],
   "source": [
    "data_pca.head()"
   ]
  },
  {
   "cell_type": "markdown",
   "metadata": {
    "papermill": {
     "duration": 0.014394,
     "end_time": "2021-03-11T13:58:45.688254",
     "exception": false,
     "start_time": "2021-03-11T13:58:45.673860",
     "status": "completed"
    },
    "tags": []
   },
   "source": [
    "## UMAP"
   ]
  },
  {
   "cell_type": "code",
   "execution_count": 11,
   "metadata": {
    "execution": {
     "iopub.execute_input": "2021-03-11T13:58:45.719672Z",
     "iopub.status.busy": "2021-03-11T13:58:45.719314Z",
     "iopub.status.idle": "2021-03-11T13:58:45.726637Z",
     "shell.execute_reply": "2021-03-11T13:58:45.726275Z"
    },
    "papermill": {
     "duration": 0.023973,
     "end_time": "2021-03-11T13:58:45.726720",
     "exception": false,
     "start_time": "2021-03-11T13:58:45.702747",
     "status": "completed"
    },
    "tags": []
   },
   "outputs": [],
   "source": [
    "INPUT_SUBSET = \"umap\""
   ]
  },
  {
   "cell_type": "code",
   "execution_count": 12,
   "metadata": {
    "execution": {
     "iopub.execute_input": "2021-03-11T13:58:45.759045Z",
     "iopub.status.busy": "2021-03-11T13:58:45.758687Z",
     "iopub.status.idle": "2021-03-11T13:58:45.765595Z",
     "shell.execute_reply": "2021-03-11T13:58:45.765301Z"
    },
    "papermill": {
     "duration": 0.023636,
     "end_time": "2021-03-11T13:58:45.765678",
     "exception": false,
     "start_time": "2021-03-11T13:58:45.742042",
     "status": "completed"
    },
    "tags": []
   },
   "outputs": [],
   "source": [
    "INPUT_STEM = \"z_score_std-projection-smultixcan-efo_partial-mashr-zscores\""
   ]
  },
  {
   "cell_type": "code",
   "execution_count": 13,
   "metadata": {
    "execution": {
     "iopub.execute_input": "2021-03-11T13:58:45.798230Z",
     "iopub.status.busy": "2021-03-11T13:58:45.797853Z",
     "iopub.status.idle": "2021-03-11T13:58:45.804741Z",
     "shell.execute_reply": "2021-03-11T13:58:45.805047Z"
    },
    "papermill": {
     "duration": 0.024421,
     "end_time": "2021-03-11T13:58:45.805146",
     "exception": false,
     "start_time": "2021-03-11T13:58:45.780725",
     "status": "completed"
    },
    "tags": []
   },
   "outputs": [],
   "source": [
    "DR_OPTIONS = {\n",
    "    \"n_components\": 5,\n",
    "    \"metric\": \"euclidean\",\n",
    "    \"n_neighbors\": 15,\n",
    "    \"random_state\": 0,\n",
    "}"
   ]
  },
  {
   "cell_type": "code",
   "execution_count": 14,
   "metadata": {
    "execution": {
     "iopub.execute_input": "2021-03-11T13:58:45.838643Z",
     "iopub.status.busy": "2021-03-11T13:58:45.838263Z",
     "iopub.status.idle": "2021-03-11T13:58:45.846734Z",
     "shell.execute_reply": "2021-03-11T13:58:45.846365Z"
    },
    "papermill": {
     "duration": 0.026168,
     "end_time": "2021-03-11T13:58:45.846819",
     "exception": false,
     "start_time": "2021-03-11T13:58:45.820651",
     "status": "completed"
    },
    "tags": []
   },
   "outputs": [
    {
     "data": {
      "text/plain": [
       "PosixPath('/home/miltondp/projects/labs/greenelab/phenoplier/base/results/data_transformations/umap/umap-z_score_std-projection-smultixcan-efo_partial-mashr-zscores-metric_euclidean-n_components_5-n_neighbors_15-random_state_0.pkl')"
      ]
     },
     "metadata": {},
     "output_type": "display_data"
    },
    {
     "data": {
      "text/plain": [
       "'umap-z_score_std-projection-smultixcan-efo_partial-mashr-zscores-metric_euclidean-n_components_5-n_neighbors_15-random_state_0'"
      ]
     },
     "metadata": {},
     "output_type": "display_data"
    }
   ],
   "source": [
    "input_filepath = Path(\n",
    "    conf.RESULTS[\"DATA_TRANSFORMATIONS_DIR\"],\n",
    "    INPUT_SUBSET,\n",
    "    generate_result_set_name(\n",
    "        DR_OPTIONS, prefix=f\"{INPUT_SUBSET}-{INPUT_STEM}-\", suffix=\".pkl\"\n",
    "    ),\n",
    ").resolve()\n",
    "display(input_filepath)\n",
    "\n",
    "assert input_filepath.exists(), \"Input file does not exist\"\n",
    "\n",
    "input_filepath_stem = input_filepath.stem\n",
    "display(input_filepath_stem)"
   ]
  },
  {
   "cell_type": "code",
   "execution_count": 15,
   "metadata": {
    "execution": {
     "iopub.execute_input": "2021-03-11T13:58:45.881167Z",
     "iopub.status.busy": "2021-03-11T13:58:45.880805Z",
     "iopub.status.idle": "2021-03-11T13:58:45.888957Z",
     "shell.execute_reply": "2021-03-11T13:58:45.888559Z"
    },
    "papermill": {
     "duration": 0.026116,
     "end_time": "2021-03-11T13:58:45.889047",
     "exception": false,
     "start_time": "2021-03-11T13:58:45.862931",
     "status": "completed"
    },
    "tags": []
   },
   "outputs": [],
   "source": [
    "data_umap = pd.read_pickle(input_filepath)"
   ]
  },
  {
   "cell_type": "code",
   "execution_count": 16,
   "metadata": {
    "execution": {
     "iopub.execute_input": "2021-03-11T13:58:45.924152Z",
     "iopub.status.busy": "2021-03-11T13:58:45.923789Z",
     "iopub.status.idle": "2021-03-11T13:58:45.931989Z",
     "shell.execute_reply": "2021-03-11T13:58:45.931616Z"
    },
    "papermill": {
     "duration": 0.026493,
     "end_time": "2021-03-11T13:58:45.932074",
     "exception": false,
     "start_time": "2021-03-11T13:58:45.905581",
     "status": "completed"
    },
    "tags": []
   },
   "outputs": [
    {
     "data": {
      "text/plain": [
       "(3752, 5)"
      ]
     },
     "execution_count": 16,
     "metadata": {},
     "output_type": "execute_result"
    }
   ],
   "source": [
    "data_umap.shape"
   ]
  },
  {
   "cell_type": "code",
   "execution_count": 17,
   "metadata": {
    "execution": {
     "iopub.execute_input": "2021-03-11T13:58:45.966186Z",
     "iopub.status.busy": "2021-03-11T13:58:45.965828Z",
     "iopub.status.idle": "2021-03-11T13:58:45.977186Z",
     "shell.execute_reply": "2021-03-11T13:58:45.976814Z"
    },
    "papermill": {
     "duration": 0.029121,
     "end_time": "2021-03-11T13:58:45.977271",
     "exception": false,
     "start_time": "2021-03-11T13:58:45.948150",
     "status": "completed"
    },
    "tags": []
   },
   "outputs": [
    {
     "data": {
      "text/html": [
       "<div>\n",
       "<style scoped>\n",
       "    .dataframe tbody tr th:only-of-type {\n",
       "        vertical-align: middle;\n",
       "    }\n",
       "\n",
       "    .dataframe tbody tr th {\n",
       "        vertical-align: top;\n",
       "    }\n",
       "\n",
       "    .dataframe thead th {\n",
       "        text-align: right;\n",
       "    }\n",
       "</style>\n",
       "<table border=\"1\" class=\"dataframe\">\n",
       "  <thead>\n",
       "    <tr style=\"text-align: right;\">\n",
       "      <th></th>\n",
       "      <th>UMAP1</th>\n",
       "      <th>UMAP2</th>\n",
       "      <th>UMAP3</th>\n",
       "      <th>UMAP4</th>\n",
       "      <th>UMAP5</th>\n",
       "    </tr>\n",
       "  </thead>\n",
       "  <tbody>\n",
       "    <tr>\n",
       "      <th>100001_raw-Food_weight</th>\n",
       "      <td>0.426554</td>\n",
       "      <td>0.670532</td>\n",
       "      <td>7.363805</td>\n",
       "      <td>1.171837</td>\n",
       "      <td>6.297295</td>\n",
       "    </tr>\n",
       "    <tr>\n",
       "      <th>100002_raw-Energy</th>\n",
       "      <td>-1.605179</td>\n",
       "      <td>0.815699</td>\n",
       "      <td>8.288521</td>\n",
       "      <td>0.990394</td>\n",
       "      <td>6.817351</td>\n",
       "    </tr>\n",
       "    <tr>\n",
       "      <th>100003_raw-Protein</th>\n",
       "      <td>-1.656178</td>\n",
       "      <td>0.788297</td>\n",
       "      <td>8.355906</td>\n",
       "      <td>1.017072</td>\n",
       "      <td>6.845651</td>\n",
       "    </tr>\n",
       "    <tr>\n",
       "      <th>100004_raw-Fat</th>\n",
       "      <td>-1.508325</td>\n",
       "      <td>0.802536</td>\n",
       "      <td>8.328274</td>\n",
       "      <td>1.033939</td>\n",
       "      <td>6.709319</td>\n",
       "    </tr>\n",
       "    <tr>\n",
       "      <th>100005_raw-Carbohydrate</th>\n",
       "      <td>-1.617872</td>\n",
       "      <td>0.812711</td>\n",
       "      <td>8.307973</td>\n",
       "      <td>1.020575</td>\n",
       "      <td>6.825944</td>\n",
       "    </tr>\n",
       "  </tbody>\n",
       "</table>\n",
       "</div>"
      ],
      "text/plain": [
       "                            UMAP1     UMAP2     UMAP3     UMAP4     UMAP5\n",
       "100001_raw-Food_weight   0.426554  0.670532  7.363805  1.171837  6.297295\n",
       "100002_raw-Energy       -1.605179  0.815699  8.288521  0.990394  6.817351\n",
       "100003_raw-Protein      -1.656178  0.788297  8.355906  1.017072  6.845651\n",
       "100004_raw-Fat          -1.508325  0.802536  8.328274  1.033939  6.709319\n",
       "100005_raw-Carbohydrate -1.617872  0.812711  8.307973  1.020575  6.825944"
      ]
     },
     "execution_count": 17,
     "metadata": {},
     "output_type": "execute_result"
    }
   ],
   "source": [
    "data_umap.head()"
   ]
  },
  {
   "cell_type": "markdown",
   "metadata": {
    "papermill": {
     "duration": 0.015218,
     "end_time": "2021-03-11T13:58:46.008674",
     "exception": false,
     "start_time": "2021-03-11T13:58:45.993456",
     "status": "completed"
    },
    "tags": []
   },
   "source": [
    "# Load selected best partitions"
   ]
  },
  {
   "cell_type": "code",
   "execution_count": 18,
   "metadata": {
    "execution": {
     "iopub.execute_input": "2021-03-11T13:58:46.041870Z",
     "iopub.status.busy": "2021-03-11T13:58:46.041504Z",
     "iopub.status.idle": "2021-03-11T13:58:46.049935Z",
     "shell.execute_reply": "2021-03-11T13:58:46.049561Z"
    },
    "papermill": {
     "duration": 0.025935,
     "end_time": "2021-03-11T13:58:46.050019",
     "exception": false,
     "start_time": "2021-03-11T13:58:46.024084",
     "status": "completed"
    },
    "tags": []
   },
   "outputs": [
    {
     "data": {
      "text/plain": [
       "PosixPath('/home/miltondp/projects/labs/greenelab/phenoplier/base/results/clustering/consensus_clustering/best_partitions_by_k.pkl')"
      ]
     },
     "metadata": {},
     "output_type": "display_data"
    }
   ],
   "source": [
    "input_file = Path(CONSENSUS_CLUSTERING_DIR, \"best_partitions_by_k.pkl\").resolve()\n",
    "display(input_file)"
   ]
  },
  {
   "cell_type": "code",
   "execution_count": 19,
   "metadata": {
    "execution": {
     "iopub.execute_input": "2021-03-11T13:58:46.084530Z",
     "iopub.status.busy": "2021-03-11T13:58:46.084172Z",
     "iopub.status.idle": "2021-03-11T13:58:46.093197Z",
     "shell.execute_reply": "2021-03-11T13:58:46.092833Z"
    },
    "papermill": {
     "duration": 0.027121,
     "end_time": "2021-03-11T13:58:46.093279",
     "exception": false,
     "start_time": "2021-03-11T13:58:46.066158",
     "status": "completed"
    },
    "tags": []
   },
   "outputs": [],
   "source": [
    "best_partitions = pd.read_pickle(input_file)"
   ]
  },
  {
   "cell_type": "code",
   "execution_count": 20,
   "metadata": {
    "execution": {
     "iopub.execute_input": "2021-03-11T13:58:46.127602Z",
     "iopub.status.busy": "2021-03-11T13:58:46.127241Z",
     "iopub.status.idle": "2021-03-11T13:58:46.135516Z",
     "shell.execute_reply": "2021-03-11T13:58:46.135212Z"
    },
    "papermill": {
     "duration": 0.026343,
     "end_time": "2021-03-11T13:58:46.135603",
     "exception": false,
     "start_time": "2021-03-11T13:58:46.109260",
     "status": "completed"
    },
    "tags": []
   },
   "outputs": [
    {
     "data": {
      "text/plain": [
       "(59, 4)"
      ]
     },
     "execution_count": 20,
     "metadata": {},
     "output_type": "execute_result"
    }
   ],
   "source": [
    "best_partitions.shape"
   ]
  },
  {
   "cell_type": "code",
   "execution_count": 21,
   "metadata": {
    "execution": {
     "iopub.execute_input": "2021-03-11T13:58:46.171617Z",
     "iopub.status.busy": "2021-03-11T13:58:46.171250Z",
     "iopub.status.idle": "2021-03-11T13:58:46.186877Z",
     "shell.execute_reply": "2021-03-11T13:58:46.186506Z"
    },
    "papermill": {
     "duration": 0.034274,
     "end_time": "2021-03-11T13:58:46.186961",
     "exception": false,
     "start_time": "2021-03-11T13:58:46.152687",
     "status": "completed"
    },
    "tags": []
   },
   "outputs": [
    {
     "data": {
      "text/html": [
       "<div>\n",
       "<style scoped>\n",
       "    .dataframe tbody tr th:only-of-type {\n",
       "        vertical-align: middle;\n",
       "    }\n",
       "\n",
       "    .dataframe tbody tr th {\n",
       "        vertical-align: top;\n",
       "    }\n",
       "\n",
       "    .dataframe thead th {\n",
       "        text-align: right;\n",
       "    }\n",
       "</style>\n",
       "<table border=\"1\" class=\"dataframe\">\n",
       "  <thead>\n",
       "    <tr style=\"text-align: right;\">\n",
       "      <th></th>\n",
       "      <th>method</th>\n",
       "      <th>partition</th>\n",
       "      <th>ari_mean</th>\n",
       "      <th>selected</th>\n",
       "    </tr>\n",
       "    <tr>\n",
       "      <th>k</th>\n",
       "      <th></th>\n",
       "      <th></th>\n",
       "      <th></th>\n",
       "      <th></th>\n",
       "    </tr>\n",
       "  </thead>\n",
       "  <tbody>\n",
       "    <tr>\n",
       "      <th>8</th>\n",
       "      <td>scc_020</td>\n",
       "      <td>[0, 0, 0, 0, 0, 0, 0, 0, 0, 0, 0, 0, 0, 0, 0, ...</td>\n",
       "      <td>0.224684</td>\n",
       "      <td>True</td>\n",
       "    </tr>\n",
       "    <tr>\n",
       "      <th>10</th>\n",
       "      <td>scc_025</td>\n",
       "      <td>[0, 0, 0, 0, 0, 0, 0, 0, 0, 0, 0, 0, 0, 0, 0, ...</td>\n",
       "      <td>0.224565</td>\n",
       "      <td>True</td>\n",
       "    </tr>\n",
       "    <tr>\n",
       "      <th>7</th>\n",
       "      <td>scc_020</td>\n",
       "      <td>[0, 0, 0, 0, 0, 0, 0, 0, 0, 0, 0, 0, 0, 0, 0, ...</td>\n",
       "      <td>0.221514</td>\n",
       "      <td>True</td>\n",
       "    </tr>\n",
       "    <tr>\n",
       "      <th>6</th>\n",
       "      <td>scc_020</td>\n",
       "      <td>[0, 0, 0, 0, 0, 0, 0, 0, 0, 0, 0, 0, 0, 0, 0, ...</td>\n",
       "      <td>0.221500</td>\n",
       "      <td>True</td>\n",
       "    </tr>\n",
       "    <tr>\n",
       "      <th>12</th>\n",
       "      <td>scc_020</td>\n",
       "      <td>[0, 0, 0, 0, 0, 0, 0, 0, 0, 0, 0, 0, 0, 0, 0, ...</td>\n",
       "      <td>0.220312</td>\n",
       "      <td>True</td>\n",
       "    </tr>\n",
       "  </tbody>\n",
       "</table>\n",
       "</div>"
      ],
      "text/plain": [
       "     method                                          partition  ari_mean  \\\n",
       "k                                                                          \n",
       "8   scc_020  [0, 0, 0, 0, 0, 0, 0, 0, 0, 0, 0, 0, 0, 0, 0, ...  0.224684   \n",
       "10  scc_025  [0, 0, 0, 0, 0, 0, 0, 0, 0, 0, 0, 0, 0, 0, 0, ...  0.224565   \n",
       "7   scc_020  [0, 0, 0, 0, 0, 0, 0, 0, 0, 0, 0, 0, 0, 0, 0, ...  0.221514   \n",
       "6   scc_020  [0, 0, 0, 0, 0, 0, 0, 0, 0, 0, 0, 0, 0, 0, 0, ...  0.221500   \n",
       "12  scc_020  [0, 0, 0, 0, 0, 0, 0, 0, 0, 0, 0, 0, 0, 0, 0, ...  0.220312   \n",
       "\n",
       "    selected  \n",
       "k             \n",
       "8       True  \n",
       "10      True  \n",
       "7       True  \n",
       "6       True  \n",
       "12      True  "
      ]
     },
     "execution_count": 21,
     "metadata": {},
     "output_type": "execute_result"
    }
   ],
   "source": [
    "best_partitions.head()"
   ]
  },
  {
   "cell_type": "markdown",
   "metadata": {
    "papermill": {
     "duration": 0.016357,
     "end_time": "2021-03-11T13:58:46.220519",
     "exception": false,
     "start_time": "2021-03-11T13:58:46.204162",
     "status": "completed"
    },
    "tags": []
   },
   "source": [
    "# Prepare data for clustrees"
   ]
  },
  {
   "cell_type": "code",
   "execution_count": 22,
   "metadata": {
    "execution": {
     "iopub.execute_input": "2021-03-11T13:58:46.255574Z",
     "iopub.status.busy": "2021-03-11T13:58:46.255211Z",
     "iopub.status.idle": "2021-03-11T13:58:46.264282Z",
     "shell.execute_reply": "2021-03-11T13:58:46.263910Z"
    },
    "papermill": {
     "duration": 0.027472,
     "end_time": "2021-03-11T13:58:46.264367",
     "exception": false,
     "start_time": "2021-03-11T13:58:46.236895",
     "status": "completed"
    },
    "tags": []
   },
   "outputs": [],
   "source": [
    "clustrees_df = pd.concat((data_pca, data_umap), join=\"inner\", axis=1)"
   ]
  },
  {
   "cell_type": "code",
   "execution_count": 23,
   "metadata": {
    "execution": {
     "iopub.execute_input": "2021-03-11T13:58:46.299420Z",
     "iopub.status.busy": "2021-03-11T13:58:46.299061Z",
     "iopub.status.idle": "2021-03-11T13:58:46.306515Z",
     "shell.execute_reply": "2021-03-11T13:58:46.306816Z"
    },
    "papermill": {
     "duration": 0.0263,
     "end_time": "2021-03-11T13:58:46.306919",
     "exception": false,
     "start_time": "2021-03-11T13:58:46.280619",
     "status": "completed"
    },
    "tags": []
   },
   "outputs": [
    {
     "data": {
      "text/plain": [
       "(3752, 10)"
      ]
     },
     "metadata": {},
     "output_type": "display_data"
    }
   ],
   "source": [
    "display(clustrees_df.shape)\n",
    "assert clustrees_df.shape == (data_pca.shape[0], data_pca.shape[1] + data_umap.shape[1])"
   ]
  },
  {
   "cell_type": "code",
   "execution_count": 24,
   "metadata": {
    "execution": {
     "iopub.execute_input": "2021-03-11T13:58:46.342928Z",
     "iopub.status.busy": "2021-03-11T13:58:46.342563Z",
     "iopub.status.idle": "2021-03-11T13:58:46.356381Z",
     "shell.execute_reply": "2021-03-11T13:58:46.356011Z"
    },
    "papermill": {
     "duration": 0.032639,
     "end_time": "2021-03-11T13:58:46.356465",
     "exception": false,
     "start_time": "2021-03-11T13:58:46.323826",
     "status": "completed"
    },
    "tags": []
   },
   "outputs": [
    {
     "data": {
      "text/html": [
       "<div>\n",
       "<style scoped>\n",
       "    .dataframe tbody tr th:only-of-type {\n",
       "        vertical-align: middle;\n",
       "    }\n",
       "\n",
       "    .dataframe tbody tr th {\n",
       "        vertical-align: top;\n",
       "    }\n",
       "\n",
       "    .dataframe thead th {\n",
       "        text-align: right;\n",
       "    }\n",
       "</style>\n",
       "<table border=\"1\" class=\"dataframe\">\n",
       "  <thead>\n",
       "    <tr style=\"text-align: right;\">\n",
       "      <th></th>\n",
       "      <th>PCA1</th>\n",
       "      <th>PCA2</th>\n",
       "      <th>PCA3</th>\n",
       "      <th>PCA4</th>\n",
       "      <th>PCA5</th>\n",
       "      <th>UMAP1</th>\n",
       "      <th>UMAP2</th>\n",
       "      <th>UMAP3</th>\n",
       "      <th>UMAP4</th>\n",
       "      <th>UMAP5</th>\n",
       "    </tr>\n",
       "  </thead>\n",
       "  <tbody>\n",
       "    <tr>\n",
       "      <th>100001_raw-Food_weight</th>\n",
       "      <td>0.805216</td>\n",
       "      <td>-0.865390</td>\n",
       "      <td>0.699480</td>\n",
       "      <td>-0.065976</td>\n",
       "      <td>0.999617</td>\n",
       "      <td>0.426554</td>\n",
       "      <td>0.670532</td>\n",
       "      <td>7.363805</td>\n",
       "      <td>1.171837</td>\n",
       "      <td>6.297295</td>\n",
       "    </tr>\n",
       "    <tr>\n",
       "      <th>100002_raw-Energy</th>\n",
       "      <td>0.588507</td>\n",
       "      <td>-1.491772</td>\n",
       "      <td>1.756340</td>\n",
       "      <td>-3.593295</td>\n",
       "      <td>2.100607</td>\n",
       "      <td>-1.605179</td>\n",
       "      <td>0.815699</td>\n",
       "      <td>8.288521</td>\n",
       "      <td>0.990394</td>\n",
       "      <td>6.817351</td>\n",
       "    </tr>\n",
       "    <tr>\n",
       "      <th>100003_raw-Protein</th>\n",
       "      <td>1.910160</td>\n",
       "      <td>-1.873687</td>\n",
       "      <td>1.876677</td>\n",
       "      <td>-3.832557</td>\n",
       "      <td>1.240704</td>\n",
       "      <td>-1.656178</td>\n",
       "      <td>0.788297</td>\n",
       "      <td>8.355906</td>\n",
       "      <td>1.017072</td>\n",
       "      <td>6.845651</td>\n",
       "    </tr>\n",
       "    <tr>\n",
       "      <th>100004_raw-Fat</th>\n",
       "      <td>0.750799</td>\n",
       "      <td>-0.294733</td>\n",
       "      <td>1.317710</td>\n",
       "      <td>-1.346081</td>\n",
       "      <td>2.006403</td>\n",
       "      <td>-1.508325</td>\n",
       "      <td>0.802536</td>\n",
       "      <td>8.328274</td>\n",
       "      <td>1.033939</td>\n",
       "      <td>6.709319</td>\n",
       "    </tr>\n",
       "    <tr>\n",
       "      <th>100005_raw-Carbohydrate</th>\n",
       "      <td>-0.530044</td>\n",
       "      <td>-0.007398</td>\n",
       "      <td>0.611418</td>\n",
       "      <td>-3.604094</td>\n",
       "      <td>2.227872</td>\n",
       "      <td>-1.617872</td>\n",
       "      <td>0.812711</td>\n",
       "      <td>8.307973</td>\n",
       "      <td>1.020575</td>\n",
       "      <td>6.825944</td>\n",
       "    </tr>\n",
       "  </tbody>\n",
       "</table>\n",
       "</div>"
      ],
      "text/plain": [
       "                             PCA1      PCA2      PCA3      PCA4      PCA5  \\\n",
       "100001_raw-Food_weight   0.805216 -0.865390  0.699480 -0.065976  0.999617   \n",
       "100002_raw-Energy        0.588507 -1.491772  1.756340 -3.593295  2.100607   \n",
       "100003_raw-Protein       1.910160 -1.873687  1.876677 -3.832557  1.240704   \n",
       "100004_raw-Fat           0.750799 -0.294733  1.317710 -1.346081  2.006403   \n",
       "100005_raw-Carbohydrate -0.530044 -0.007398  0.611418 -3.604094  2.227872   \n",
       "\n",
       "                            UMAP1     UMAP2     UMAP3     UMAP4     UMAP5  \n",
       "100001_raw-Food_weight   0.426554  0.670532  7.363805  1.171837  6.297295  \n",
       "100002_raw-Energy       -1.605179  0.815699  8.288521  0.990394  6.817351  \n",
       "100003_raw-Protein      -1.656178  0.788297  8.355906  1.017072  6.845651  \n",
       "100004_raw-Fat          -1.508325  0.802536  8.328274  1.033939  6.709319  \n",
       "100005_raw-Carbohydrate -1.617872  0.812711  8.307973  1.020575  6.825944  "
      ]
     },
     "execution_count": 24,
     "metadata": {},
     "output_type": "execute_result"
    }
   ],
   "source": [
    "clustrees_df.head()"
   ]
  },
  {
   "cell_type": "markdown",
   "metadata": {
    "papermill": {
     "duration": 0.01697,
     "end_time": "2021-03-11T13:58:46.390907",
     "exception": false,
     "start_time": "2021-03-11T13:58:46.373937",
     "status": "completed"
    },
    "tags": []
   },
   "source": [
    "## Add partitions"
   ]
  },
  {
   "cell_type": "code",
   "execution_count": 25,
   "metadata": {
    "execution": {
     "iopub.execute_input": "2021-03-11T13:58:46.426808Z",
     "iopub.status.busy": "2021-03-11T13:58:46.426443Z",
     "iopub.status.idle": "2021-03-11T13:58:46.435541Z",
     "shell.execute_reply": "2021-03-11T13:58:46.435169Z"
    },
    "papermill": {
     "duration": 0.028199,
     "end_time": "2021-03-11T13:58:46.435626",
     "exception": false,
     "start_time": "2021-03-11T13:58:46.407427",
     "status": "completed"
    },
    "tags": []
   },
   "outputs": [
    {
     "data": {
      "text/plain": [
       "array([3752])"
      ]
     },
     "metadata": {},
     "output_type": "display_data"
    }
   ],
   "source": [
    "_tmp = np.unique(\n",
    "    [best_partitions.loc[k, \"partition\"].shape for k in best_partitions.index]\n",
    ")\n",
    "display(_tmp)\n",
    "assert _tmp.shape[0] == 1\n",
    "assert _tmp[0] == data_umap.shape[0] == data_pca.shape[0]"
   ]
  },
  {
   "cell_type": "code",
   "execution_count": 26,
   "metadata": {
    "execution": {
     "iopub.execute_input": "2021-03-11T13:58:46.472551Z",
     "iopub.status.busy": "2021-03-11T13:58:46.472193Z",
     "iopub.status.idle": "2021-03-11T13:58:46.480242Z",
     "shell.execute_reply": "2021-03-11T13:58:46.479889Z"
    },
    "papermill": {
     "duration": 0.02729,
     "end_time": "2021-03-11T13:58:46.480321",
     "exception": false,
     "start_time": "2021-03-11T13:58:46.453031",
     "status": "completed"
    },
    "tags": []
   },
   "outputs": [],
   "source": [
    "assert not best_partitions.isna().any().any()"
   ]
  },
  {
   "cell_type": "code",
   "execution_count": 27,
   "metadata": {
    "execution": {
     "iopub.execute_input": "2021-03-11T13:58:46.516566Z",
     "iopub.status.busy": "2021-03-11T13:58:46.516181Z",
     "iopub.status.idle": "2021-03-11T13:58:46.528282Z",
     "shell.execute_reply": "2021-03-11T13:58:46.527967Z"
    },
    "papermill": {
     "duration": 0.031141,
     "end_time": "2021-03-11T13:58:46.528370",
     "exception": false,
     "start_time": "2021-03-11T13:58:46.497229",
     "status": "completed"
    },
    "tags": []
   },
   "outputs": [],
   "source": [
    "# df = df.assign(**{f'k{k}': partitions.loc[k, 'partition'] for k in selected_k_values})\n",
    "clustrees_df = clustrees_df.assign(\n",
    "    **{\n",
    "        f\"k{k}\": best_partitions.loc[k, \"partition\"]\n",
    "        for k in best_partitions.index\n",
    "        if best_partitions.loc[k, \"selected\"]\n",
    "    }\n",
    ")"
   ]
  },
  {
   "cell_type": "code",
   "execution_count": 28,
   "metadata": {
    "execution": {
     "iopub.execute_input": "2021-03-11T13:58:46.566903Z",
     "iopub.status.busy": "2021-03-11T13:58:46.566540Z",
     "iopub.status.idle": "2021-03-11T13:58:46.573772Z",
     "shell.execute_reply": "2021-03-11T13:58:46.573397Z"
    },
    "papermill": {
     "duration": 0.027264,
     "end_time": "2021-03-11T13:58:46.573858",
     "exception": false,
     "start_time": "2021-03-11T13:58:46.546594",
     "status": "completed"
    },
    "tags": []
   },
   "outputs": [],
   "source": [
    "clustrees_df.index.rename(\"trait\", inplace=True)"
   ]
  },
  {
   "cell_type": "code",
   "execution_count": 29,
   "metadata": {
    "execution": {
     "iopub.execute_input": "2021-03-11T13:58:46.611328Z",
     "iopub.status.busy": "2021-03-11T13:58:46.610963Z",
     "iopub.status.idle": "2021-03-11T13:58:46.618561Z",
     "shell.execute_reply": "2021-03-11T13:58:46.618840Z"
    },
    "papermill": {
     "duration": 0.027276,
     "end_time": "2021-03-11T13:58:46.618942",
     "exception": false,
     "start_time": "2021-03-11T13:58:46.591666",
     "status": "completed"
    },
    "tags": []
   },
   "outputs": [
    {
     "data": {
      "text/plain": [
       "(3752, 25)"
      ]
     },
     "execution_count": 29,
     "metadata": {},
     "output_type": "execute_result"
    }
   ],
   "source": [
    "clustrees_df.shape"
   ]
  },
  {
   "cell_type": "code",
   "execution_count": 30,
   "metadata": {
    "execution": {
     "iopub.execute_input": "2021-03-11T13:58:46.657068Z",
     "iopub.status.busy": "2021-03-11T13:58:46.656655Z",
     "iopub.status.idle": "2021-03-11T13:58:46.675665Z",
     "shell.execute_reply": "2021-03-11T13:58:46.675291Z"
    },
    "papermill": {
     "duration": 0.038847,
     "end_time": "2021-03-11T13:58:46.675751",
     "exception": false,
     "start_time": "2021-03-11T13:58:46.636904",
     "status": "completed"
    },
    "tags": []
   },
   "outputs": [
    {
     "data": {
      "text/html": [
       "<div>\n",
       "<style scoped>\n",
       "    .dataframe tbody tr th:only-of-type {\n",
       "        vertical-align: middle;\n",
       "    }\n",
       "\n",
       "    .dataframe tbody tr th {\n",
       "        vertical-align: top;\n",
       "    }\n",
       "\n",
       "    .dataframe thead th {\n",
       "        text-align: right;\n",
       "    }\n",
       "</style>\n",
       "<table border=\"1\" class=\"dataframe\">\n",
       "  <thead>\n",
       "    <tr style=\"text-align: right;\">\n",
       "      <th></th>\n",
       "      <th>PCA1</th>\n",
       "      <th>PCA2</th>\n",
       "      <th>PCA3</th>\n",
       "      <th>PCA4</th>\n",
       "      <th>PCA5</th>\n",
       "      <th>UMAP1</th>\n",
       "      <th>UMAP2</th>\n",
       "      <th>UMAP3</th>\n",
       "      <th>UMAP4</th>\n",
       "      <th>UMAP5</th>\n",
       "      <th>...</th>\n",
       "      <th>k11</th>\n",
       "      <th>k9</th>\n",
       "      <th>k18</th>\n",
       "      <th>k17</th>\n",
       "      <th>k16</th>\n",
       "      <th>k21</th>\n",
       "      <th>k20</th>\n",
       "      <th>k19</th>\n",
       "      <th>k13</th>\n",
       "      <th>k5</th>\n",
       "    </tr>\n",
       "    <tr>\n",
       "      <th>trait</th>\n",
       "      <th></th>\n",
       "      <th></th>\n",
       "      <th></th>\n",
       "      <th></th>\n",
       "      <th></th>\n",
       "      <th></th>\n",
       "      <th></th>\n",
       "      <th></th>\n",
       "      <th></th>\n",
       "      <th></th>\n",
       "      <th></th>\n",
       "      <th></th>\n",
       "      <th></th>\n",
       "      <th></th>\n",
       "      <th></th>\n",
       "      <th></th>\n",
       "      <th></th>\n",
       "      <th></th>\n",
       "      <th></th>\n",
       "      <th></th>\n",
       "      <th></th>\n",
       "    </tr>\n",
       "  </thead>\n",
       "  <tbody>\n",
       "    <tr>\n",
       "      <th>100001_raw-Food_weight</th>\n",
       "      <td>0.805216</td>\n",
       "      <td>-0.865390</td>\n",
       "      <td>0.699480</td>\n",
       "      <td>-0.065976</td>\n",
       "      <td>0.999617</td>\n",
       "      <td>0.426554</td>\n",
       "      <td>0.670532</td>\n",
       "      <td>7.363805</td>\n",
       "      <td>1.171837</td>\n",
       "      <td>6.297295</td>\n",
       "      <td>...</td>\n",
       "      <td>0</td>\n",
       "      <td>0</td>\n",
       "      <td>0</td>\n",
       "      <td>1</td>\n",
       "      <td>1</td>\n",
       "      <td>0</td>\n",
       "      <td>0</td>\n",
       "      <td>0</td>\n",
       "      <td>12</td>\n",
       "      <td>0</td>\n",
       "    </tr>\n",
       "    <tr>\n",
       "      <th>100002_raw-Energy</th>\n",
       "      <td>0.588507</td>\n",
       "      <td>-1.491772</td>\n",
       "      <td>1.756340</td>\n",
       "      <td>-3.593295</td>\n",
       "      <td>2.100607</td>\n",
       "      <td>-1.605179</td>\n",
       "      <td>0.815699</td>\n",
       "      <td>8.288521</td>\n",
       "      <td>0.990394</td>\n",
       "      <td>6.817351</td>\n",
       "      <td>...</td>\n",
       "      <td>0</td>\n",
       "      <td>0</td>\n",
       "      <td>0</td>\n",
       "      <td>1</td>\n",
       "      <td>1</td>\n",
       "      <td>18</td>\n",
       "      <td>17</td>\n",
       "      <td>17</td>\n",
       "      <td>12</td>\n",
       "      <td>0</td>\n",
       "    </tr>\n",
       "    <tr>\n",
       "      <th>100003_raw-Protein</th>\n",
       "      <td>1.910160</td>\n",
       "      <td>-1.873687</td>\n",
       "      <td>1.876677</td>\n",
       "      <td>-3.832557</td>\n",
       "      <td>1.240704</td>\n",
       "      <td>-1.656178</td>\n",
       "      <td>0.788297</td>\n",
       "      <td>8.355906</td>\n",
       "      <td>1.017072</td>\n",
       "      <td>6.845651</td>\n",
       "      <td>...</td>\n",
       "      <td>0</td>\n",
       "      <td>0</td>\n",
       "      <td>0</td>\n",
       "      <td>1</td>\n",
       "      <td>1</td>\n",
       "      <td>18</td>\n",
       "      <td>17</td>\n",
       "      <td>17</td>\n",
       "      <td>12</td>\n",
       "      <td>0</td>\n",
       "    </tr>\n",
       "    <tr>\n",
       "      <th>100004_raw-Fat</th>\n",
       "      <td>0.750799</td>\n",
       "      <td>-0.294733</td>\n",
       "      <td>1.317710</td>\n",
       "      <td>-1.346081</td>\n",
       "      <td>2.006403</td>\n",
       "      <td>-1.508325</td>\n",
       "      <td>0.802536</td>\n",
       "      <td>8.328274</td>\n",
       "      <td>1.033939</td>\n",
       "      <td>6.709319</td>\n",
       "      <td>...</td>\n",
       "      <td>0</td>\n",
       "      <td>0</td>\n",
       "      <td>0</td>\n",
       "      <td>1</td>\n",
       "      <td>1</td>\n",
       "      <td>18</td>\n",
       "      <td>17</td>\n",
       "      <td>17</td>\n",
       "      <td>12</td>\n",
       "      <td>0</td>\n",
       "    </tr>\n",
       "    <tr>\n",
       "      <th>100005_raw-Carbohydrate</th>\n",
       "      <td>-0.530044</td>\n",
       "      <td>-0.007398</td>\n",
       "      <td>0.611418</td>\n",
       "      <td>-3.604094</td>\n",
       "      <td>2.227872</td>\n",
       "      <td>-1.617872</td>\n",
       "      <td>0.812711</td>\n",
       "      <td>8.307973</td>\n",
       "      <td>1.020575</td>\n",
       "      <td>6.825944</td>\n",
       "      <td>...</td>\n",
       "      <td>0</td>\n",
       "      <td>0</td>\n",
       "      <td>0</td>\n",
       "      <td>1</td>\n",
       "      <td>1</td>\n",
       "      <td>18</td>\n",
       "      <td>17</td>\n",
       "      <td>17</td>\n",
       "      <td>12</td>\n",
       "      <td>0</td>\n",
       "    </tr>\n",
       "  </tbody>\n",
       "</table>\n",
       "<p>5 rows × 25 columns</p>\n",
       "</div>"
      ],
      "text/plain": [
       "                             PCA1      PCA2      PCA3      PCA4      PCA5  \\\n",
       "trait                                                                       \n",
       "100001_raw-Food_weight   0.805216 -0.865390  0.699480 -0.065976  0.999617   \n",
       "100002_raw-Energy        0.588507 -1.491772  1.756340 -3.593295  2.100607   \n",
       "100003_raw-Protein       1.910160 -1.873687  1.876677 -3.832557  1.240704   \n",
       "100004_raw-Fat           0.750799 -0.294733  1.317710 -1.346081  2.006403   \n",
       "100005_raw-Carbohydrate -0.530044 -0.007398  0.611418 -3.604094  2.227872   \n",
       "\n",
       "                            UMAP1     UMAP2     UMAP3     UMAP4     UMAP5  \\\n",
       "trait                                                                       \n",
       "100001_raw-Food_weight   0.426554  0.670532  7.363805  1.171837  6.297295   \n",
       "100002_raw-Energy       -1.605179  0.815699  8.288521  0.990394  6.817351   \n",
       "100003_raw-Protein      -1.656178  0.788297  8.355906  1.017072  6.845651   \n",
       "100004_raw-Fat          -1.508325  0.802536  8.328274  1.033939  6.709319   \n",
       "100005_raw-Carbohydrate -1.617872  0.812711  8.307973  1.020575  6.825944   \n",
       "\n",
       "                         ...  k11  k9  k18  k17  k16  k21  k20  k19  k13  k5  \n",
       "trait                    ...                                                  \n",
       "100001_raw-Food_weight   ...    0   0    0    1    1    0    0    0   12   0  \n",
       "100002_raw-Energy        ...    0   0    0    1    1   18   17   17   12   0  \n",
       "100003_raw-Protein       ...    0   0    0    1    1   18   17   17   12   0  \n",
       "100004_raw-Fat           ...    0   0    0    1    1   18   17   17   12   0  \n",
       "100005_raw-Carbohydrate  ...    0   0    0    1    1   18   17   17   12   0  \n",
       "\n",
       "[5 rows x 25 columns]"
      ]
     },
     "execution_count": 30,
     "metadata": {},
     "output_type": "execute_result"
    }
   ],
   "source": [
    "clustrees_df.head()"
   ]
  },
  {
   "cell_type": "code",
   "execution_count": 31,
   "metadata": {
    "execution": {
     "iopub.execute_input": "2021-03-11T13:58:46.715111Z",
     "iopub.status.busy": "2021-03-11T13:58:46.714721Z",
     "iopub.status.idle": "2021-03-11T13:58:46.732389Z",
     "shell.execute_reply": "2021-03-11T13:58:46.731347Z"
    },
    "papermill": {
     "duration": 0.038436,
     "end_time": "2021-03-11T13:58:46.732612",
     "exception": false,
     "start_time": "2021-03-11T13:58:46.694176",
     "status": "completed"
    },
    "tags": []
   },
   "outputs": [],
   "source": [
    "# make sure partitions were assigned correctly\n",
    "assert (\n",
    "    np.unique(\n",
    "        [\n",
    "            clustrees_df[f\"{k}\"].value_counts().sum()\n",
    "            for k in clustrees_df.columns[\n",
    "                clustrees_df.columns.str.contains(\"^k[0-9]+$\", regex=True)\n",
    "            ]\n",
    "        ]\n",
    "    )[0]\n",
    "    == data_pca.shape[0]\n",
    ")"
   ]
  },
  {
   "cell_type": "markdown",
   "metadata": {
    "papermill": {
     "duration": 0.020158,
     "end_time": "2021-03-11T13:58:46.789504",
     "exception": false,
     "start_time": "2021-03-11T13:58:46.769346",
     "status": "completed"
    },
    "tags": []
   },
   "source": [
    "# Save"
   ]
  },
  {
   "cell_type": "code",
   "execution_count": 32,
   "metadata": {
    "execution": {
     "iopub.execute_input": "2021-03-11T13:58:46.827360Z",
     "iopub.status.busy": "2021-03-11T13:58:46.826987Z",
     "iopub.status.idle": "2021-03-11T13:58:46.834421Z",
     "shell.execute_reply": "2021-03-11T13:58:46.834724Z"
    },
    "papermill": {
     "duration": 0.027945,
     "end_time": "2021-03-11T13:58:46.834828",
     "exception": false,
     "start_time": "2021-03-11T13:58:46.806883",
     "status": "completed"
    },
    "tags": []
   },
   "outputs": [
    {
     "data": {
      "text/plain": [
       "PosixPath('/home/miltondp/projects/labs/greenelab/phenoplier/base/results/clustering/consensus_clustering/clustering_tree_data.tsv')"
      ]
     },
     "metadata": {},
     "output_type": "display_data"
    }
   ],
   "source": [
    "output_file = Path(CONSENSUS_CLUSTERING_DIR, \"clustering_tree_data.tsv\").resolve()\n",
    "display(output_file)"
   ]
  },
  {
   "cell_type": "code",
   "execution_count": 33,
   "metadata": {
    "execution": {
     "iopub.execute_input": "2021-03-11T13:58:46.873961Z",
     "iopub.status.busy": "2021-03-11T13:58:46.873593Z",
     "iopub.status.idle": "2021-03-11T13:58:46.928971Z",
     "shell.execute_reply": "2021-03-11T13:58:46.928527Z"
    },
    "papermill": {
     "duration": 0.0757,
     "end_time": "2021-03-11T13:58:46.929057",
     "exception": false,
     "start_time": "2021-03-11T13:58:46.853357",
     "status": "completed"
    },
    "tags": []
   },
   "outputs": [],
   "source": [
    "clustrees_df.to_csv(output_file, sep=\"\\t\")"
   ]
  },
  {
   "cell_type": "code",
   "execution_count": null,
   "metadata": {
    "papermill": {
     "duration": 0.017528,
     "end_time": "2021-03-11T13:58:46.964676",
     "exception": false,
     "start_time": "2021-03-11T13:58:46.947148",
     "status": "completed"
    },
    "tags": []
   },
   "outputs": [],
   "source": []
  }
 ],
 "metadata": {
  "jupytext": {
   "cell_metadata_filter": "all,-execution,-papermill,-trusted",
   "formats": "ipynb,py//py:percent"
  },
  "kernelspec": {
   "display_name": "Python 3",
   "language": "python",
   "name": "python3"
  },
  "language_info": {
   "codemirror_mode": {
    "name": "ipython",
    "version": 3
   },
   "file_extension": ".py",
   "mimetype": "text/x-python",
   "name": "python",
   "nbconvert_exporter": "python",
   "pygments_lexer": "ipython3",
   "version": "3.8.8"
  },
  "papermill": {
   "default_parameters": {},
   "duration": 3.361012,
   "end_time": "2021-03-11T13:58:47.289497",
   "environment_variables": {},
   "exception": null,
   "input_path": "16_consensus_clustering/040_04-clustering_trees_data.ipynb",
   "output_path": "16_consensus_clustering/040_04-clustering_trees_data.run.ipynb",
   "parameters": {},
   "start_time": "2021-03-11T13:58:43.928485",
   "version": "2.2.2"
  },
  "toc-autonumbering": true,
  "toc-showcode": false,
  "toc-showmarkdowntxt": false,
  "toc-showtags": false
 },
 "nbformat": 4,
 "nbformat_minor": 4
}
