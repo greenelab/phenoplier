{
 "cells": [
  {
   "cell_type": "markdown",
   "metadata": {
    "papermill": {
     "duration": 0.034868,
     "end_time": "2021-02-23T21:34:29.206452",
     "exception": false,
     "start_time": "2021-02-23T21:34:29.171584",
     "status": "completed"
    },
    "tags": []
   },
   "source": [
    "# Description"
   ]
  },
  {
   "cell_type": "markdown",
   "metadata": {
    "papermill": {
     "duration": 0.016374,
     "end_time": "2021-02-23T21:34:29.239986",
     "exception": false,
     "start_time": "2021-02-23T21:34:29.223612",
     "status": "completed"
    },
    "tags": []
   },
   "source": [
    "It prepares the data to create a clustering tree visualization (using the R package `clustree`)."
   ]
  },
  {
   "cell_type": "markdown",
   "metadata": {
    "papermill": {
     "duration": 0.015714,
     "end_time": "2021-02-23T21:34:29.271586",
     "exception": false,
     "start_time": "2021-02-23T21:34:29.255872",
     "status": "completed"
    },
    "tags": []
   },
   "source": [
    "# Modules loading"
   ]
  },
  {
   "cell_type": "code",
   "execution_count": 1,
   "metadata": {
    "execution": {
     "iopub.execute_input": "2021-02-23T21:34:29.306681Z",
     "iopub.status.busy": "2021-02-23T21:34:29.306295Z",
     "iopub.status.idle": "2021-02-23T21:34:29.313712Z",
     "shell.execute_reply": "2021-02-23T21:34:29.314011Z"
    },
    "papermill": {
     "duration": 0.026755,
     "end_time": "2021-02-23T21:34:29.314191",
     "exception": false,
     "start_time": "2021-02-23T21:34:29.287436",
     "status": "completed"
    },
    "tags": []
   },
   "outputs": [],
   "source": [
    "%load_ext autoreload\n",
    "%autoreload 2"
   ]
  },
  {
   "cell_type": "code",
   "execution_count": 2,
   "metadata": {
    "execution": {
     "iopub.execute_input": "2021-02-23T21:34:29.349132Z",
     "iopub.status.busy": "2021-02-23T21:34:29.348734Z",
     "iopub.status.idle": "2021-02-23T21:34:29.540226Z",
     "shell.execute_reply": "2021-02-23T21:34:29.539853Z"
    },
    "papermill": {
     "duration": 0.209695,
     "end_time": "2021-02-23T21:34:29.540311",
     "exception": false,
     "start_time": "2021-02-23T21:34:29.330616",
     "status": "completed"
    },
    "tags": []
   },
   "outputs": [],
   "source": [
    "from IPython.display import display\n",
    "from pathlib import Path\n",
    "\n",
    "import numpy as np\n",
    "import pandas as pd\n",
    "\n",
    "from utils import generate_result_set_name\n",
    "import conf"
   ]
  },
  {
   "cell_type": "markdown",
   "metadata": {
    "papermill": {
     "duration": 0.015688,
     "end_time": "2021-02-23T21:34:29.572085",
     "exception": false,
     "start_time": "2021-02-23T21:34:29.556397",
     "status": "completed"
    },
    "tags": []
   },
   "source": [
    "# Settings"
   ]
  },
  {
   "cell_type": "code",
   "execution_count": 3,
   "metadata": {
    "execution": {
     "iopub.execute_input": "2021-02-23T21:34:29.606901Z",
     "iopub.status.busy": "2021-02-23T21:34:29.606527Z",
     "iopub.status.idle": "2021-02-23T21:34:29.618829Z",
     "shell.execute_reply": "2021-02-23T21:34:29.618531Z"
    },
    "papermill": {
     "duration": 0.030557,
     "end_time": "2021-02-23T21:34:29.618916",
     "exception": false,
     "start_time": "2021-02-23T21:34:29.588359",
     "status": "completed"
    },
    "tags": []
   },
   "outputs": [
    {
     "data": {
      "text/plain": [
       "PosixPath('/home/miltondp/projects/labs/greenelab/phenoplier/base3/results/clustering/consensus_clustering')"
      ]
     },
     "metadata": {},
     "output_type": "display_data"
    }
   ],
   "source": [
    "CONSENSUS_CLUSTERING_DIR = Path(\n",
    "    conf.RESULTS[\"CLUSTERING_DIR\"], \"consensus_clustering\"\n",
    ").resolve()\n",
    "\n",
    "display(CONSENSUS_CLUSTERING_DIR)"
   ]
  },
  {
   "cell_type": "markdown",
   "metadata": {
    "papermill": {
     "duration": 0.016477,
     "end_time": "2021-02-23T21:34:29.652387",
     "exception": false,
     "start_time": "2021-02-23T21:34:29.635910",
     "status": "completed"
    },
    "tags": []
   },
   "source": [
    "# Load data"
   ]
  },
  {
   "cell_type": "markdown",
   "metadata": {
    "papermill": {
     "duration": 0.016379,
     "end_time": "2021-02-23T21:34:29.684597",
     "exception": false,
     "start_time": "2021-02-23T21:34:29.668218",
     "status": "completed"
    },
    "tags": []
   },
   "source": [
    "## PCA"
   ]
  },
  {
   "cell_type": "code",
   "execution_count": 4,
   "metadata": {
    "execution": {
     "iopub.execute_input": "2021-02-23T21:34:29.719563Z",
     "iopub.status.busy": "2021-02-23T21:34:29.719147Z",
     "iopub.status.idle": "2021-02-23T21:34:29.726534Z",
     "shell.execute_reply": "2021-02-23T21:34:29.726164Z"
    },
    "papermill": {
     "duration": 0.026073,
     "end_time": "2021-02-23T21:34:29.726620",
     "exception": false,
     "start_time": "2021-02-23T21:34:29.700547",
     "status": "completed"
    },
    "tags": []
   },
   "outputs": [],
   "source": [
    "INPUT_SUBSET = \"pca\""
   ]
  },
  {
   "cell_type": "code",
   "execution_count": 5,
   "metadata": {
    "execution": {
     "iopub.execute_input": "2021-02-23T21:34:29.761401Z",
     "iopub.status.busy": "2021-02-23T21:34:29.761037Z",
     "iopub.status.idle": "2021-02-23T21:34:29.768296Z",
     "shell.execute_reply": "2021-02-23T21:34:29.767919Z"
    },
    "papermill": {
     "duration": 0.025584,
     "end_time": "2021-02-23T21:34:29.768383",
     "exception": false,
     "start_time": "2021-02-23T21:34:29.742799",
     "status": "completed"
    },
    "tags": []
   },
   "outputs": [],
   "source": [
    "INPUT_STEM = \"z_score_std-projection-smultixcan-efo_partial-mashr-zscores\""
   ]
  },
  {
   "cell_type": "code",
   "execution_count": 6,
   "metadata": {
    "execution": {
     "iopub.execute_input": "2021-02-23T21:34:29.804042Z",
     "iopub.status.busy": "2021-02-23T21:34:29.803679Z",
     "iopub.status.idle": "2021-02-23T21:34:29.811160Z",
     "shell.execute_reply": "2021-02-23T21:34:29.810771Z"
    },
    "papermill": {
     "duration": 0.026075,
     "end_time": "2021-02-23T21:34:29.811248",
     "exception": false,
     "start_time": "2021-02-23T21:34:29.785173",
     "status": "completed"
    },
    "tags": []
   },
   "outputs": [],
   "source": [
    "DR_OPTIONS = {\n",
    "    \"n_components\": 50,\n",
    "    \"svd_solver\": \"full\",\n",
    "    \"random_state\": 0,\n",
    "}"
   ]
  },
  {
   "cell_type": "code",
   "execution_count": 7,
   "metadata": {
    "execution": {
     "iopub.execute_input": "2021-02-23T21:34:29.846505Z",
     "iopub.status.busy": "2021-02-23T21:34:29.846139Z",
     "iopub.status.idle": "2021-02-23T21:34:29.855479Z",
     "shell.execute_reply": "2021-02-23T21:34:29.855785Z"
    },
    "papermill": {
     "duration": 0.028234,
     "end_time": "2021-02-23T21:34:29.855893",
     "exception": false,
     "start_time": "2021-02-23T21:34:29.827659",
     "status": "completed"
    },
    "tags": []
   },
   "outputs": [
    {
     "data": {
      "text/plain": [
       "PosixPath('/home/miltondp/projects/labs/greenelab/phenoplier/base3/results/data_transformations/pca/pca-z_score_std-projection-smultixcan-efo_partial-mashr-zscores-n_components_50-random_state_0-svd_solver_full.pkl')"
      ]
     },
     "metadata": {},
     "output_type": "display_data"
    },
    {
     "data": {
      "text/plain": [
       "'pca-z_score_std-projection-smultixcan-efo_partial-mashr-zscores-n_components_50-random_state_0-svd_solver_full'"
      ]
     },
     "metadata": {},
     "output_type": "display_data"
    }
   ],
   "source": [
    "input_filepath = Path(\n",
    "    conf.RESULTS[\"DATA_TRANSFORMATIONS_DIR\"],\n",
    "    INPUT_SUBSET,\n",
    "    generate_result_set_name(\n",
    "        DR_OPTIONS, prefix=f\"{INPUT_SUBSET}-{INPUT_STEM}-\", suffix=\".pkl\"\n",
    "    ),\n",
    ").resolve()\n",
    "display(input_filepath)\n",
    "\n",
    "assert input_filepath.exists(), \"Input file does not exist\"\n",
    "\n",
    "input_filepath_stem = input_filepath.stem\n",
    "display(input_filepath_stem)"
   ]
  },
  {
   "cell_type": "code",
   "execution_count": 8,
   "metadata": {
    "execution": {
     "iopub.execute_input": "2021-02-23T21:34:29.892800Z",
     "iopub.status.busy": "2021-02-23T21:34:29.892383Z",
     "iopub.status.idle": "2021-02-23T21:34:29.902238Z",
     "shell.execute_reply": "2021-02-23T21:34:29.901860Z"
    },
    "papermill": {
     "duration": 0.029145,
     "end_time": "2021-02-23T21:34:29.902327",
     "exception": false,
     "start_time": "2021-02-23T21:34:29.873182",
     "status": "completed"
    },
    "tags": []
   },
   "outputs": [],
   "source": [
    "data_pca = pd.read_pickle(input_filepath).iloc[:, :5]"
   ]
  },
  {
   "cell_type": "code",
   "execution_count": 9,
   "metadata": {
    "execution": {
     "iopub.execute_input": "2021-02-23T21:34:29.938786Z",
     "iopub.status.busy": "2021-02-23T21:34:29.938428Z",
     "iopub.status.idle": "2021-02-23T21:34:29.946934Z",
     "shell.execute_reply": "2021-02-23T21:34:29.946561Z"
    },
    "papermill": {
     "duration": 0.027488,
     "end_time": "2021-02-23T21:34:29.947022",
     "exception": false,
     "start_time": "2021-02-23T21:34:29.919534",
     "status": "completed"
    },
    "tags": []
   },
   "outputs": [
    {
     "data": {
      "text/plain": [
       "(3749, 5)"
      ]
     },
     "execution_count": 9,
     "metadata": {},
     "output_type": "execute_result"
    }
   ],
   "source": [
    "data_pca.shape"
   ]
  },
  {
   "cell_type": "code",
   "execution_count": 10,
   "metadata": {
    "execution": {
     "iopub.execute_input": "2021-02-23T21:34:29.984095Z",
     "iopub.status.busy": "2021-02-23T21:34:29.983732Z",
     "iopub.status.idle": "2021-02-23T21:34:29.996549Z",
     "shell.execute_reply": "2021-02-23T21:34:29.996173Z"
    },
    "papermill": {
     "duration": 0.03201,
     "end_time": "2021-02-23T21:34:29.996637",
     "exception": false,
     "start_time": "2021-02-23T21:34:29.964627",
     "status": "completed"
    },
    "tags": []
   },
   "outputs": [
    {
     "data": {
      "text/html": [
       "<div>\n",
       "<style scoped>\n",
       "    .dataframe tbody tr th:only-of-type {\n",
       "        vertical-align: middle;\n",
       "    }\n",
       "\n",
       "    .dataframe tbody tr th {\n",
       "        vertical-align: top;\n",
       "    }\n",
       "\n",
       "    .dataframe thead th {\n",
       "        text-align: right;\n",
       "    }\n",
       "</style>\n",
       "<table border=\"1\" class=\"dataframe\">\n",
       "  <thead>\n",
       "    <tr style=\"text-align: right;\">\n",
       "      <th></th>\n",
       "      <th>PCA1</th>\n",
       "      <th>PCA2</th>\n",
       "      <th>PCA3</th>\n",
       "      <th>PCA4</th>\n",
       "      <th>PCA5</th>\n",
       "    </tr>\n",
       "  </thead>\n",
       "  <tbody>\n",
       "    <tr>\n",
       "      <th>100001_raw-Food_weight</th>\n",
       "      <td>-0.547515</td>\n",
       "      <td>-0.007250</td>\n",
       "      <td>0.245361</td>\n",
       "      <td>0.132424</td>\n",
       "      <td>1.201447</td>\n",
       "    </tr>\n",
       "    <tr>\n",
       "      <th>100002_raw-Energy</th>\n",
       "      <td>-1.570593</td>\n",
       "      <td>-0.618992</td>\n",
       "      <td>-1.223395</td>\n",
       "      <td>1.627321</td>\n",
       "      <td>-0.563860</td>\n",
       "    </tr>\n",
       "    <tr>\n",
       "      <th>100003_raw-Protein</th>\n",
       "      <td>-0.601212</td>\n",
       "      <td>-0.948824</td>\n",
       "      <td>-1.022209</td>\n",
       "      <td>2.438433</td>\n",
       "      <td>-2.062235</td>\n",
       "    </tr>\n",
       "    <tr>\n",
       "      <th>100004_raw-Fat</th>\n",
       "      <td>-1.648214</td>\n",
       "      <td>-0.342042</td>\n",
       "      <td>-0.270189</td>\n",
       "      <td>1.683268</td>\n",
       "      <td>-1.222401</td>\n",
       "    </tr>\n",
       "    <tr>\n",
       "      <th>100005_raw-Carbohydrate</th>\n",
       "      <td>-1.867586</td>\n",
       "      <td>-0.006412</td>\n",
       "      <td>-0.303220</td>\n",
       "      <td>0.770958</td>\n",
       "      <td>-0.116822</td>\n",
       "    </tr>\n",
       "  </tbody>\n",
       "</table>\n",
       "</div>"
      ],
      "text/plain": [
       "                             PCA1      PCA2      PCA3      PCA4      PCA5\n",
       "100001_raw-Food_weight  -0.547515 -0.007250  0.245361  0.132424  1.201447\n",
       "100002_raw-Energy       -1.570593 -0.618992 -1.223395  1.627321 -0.563860\n",
       "100003_raw-Protein      -0.601212 -0.948824 -1.022209  2.438433 -2.062235\n",
       "100004_raw-Fat          -1.648214 -0.342042 -0.270189  1.683268 -1.222401\n",
       "100005_raw-Carbohydrate -1.867586 -0.006412 -0.303220  0.770958 -0.116822"
      ]
     },
     "execution_count": 10,
     "metadata": {},
     "output_type": "execute_result"
    }
   ],
   "source": [
    "data_pca.head()"
   ]
  },
  {
   "cell_type": "markdown",
   "metadata": {
    "papermill": {
     "duration": 0.017221,
     "end_time": "2021-02-23T21:34:30.031467",
     "exception": false,
     "start_time": "2021-02-23T21:34:30.014246",
     "status": "completed"
    },
    "tags": []
   },
   "source": [
    "## UMAP"
   ]
  },
  {
   "cell_type": "code",
   "execution_count": 11,
   "metadata": {
    "execution": {
     "iopub.execute_input": "2021-02-23T21:34:30.067416Z",
     "iopub.status.busy": "2021-02-23T21:34:30.067053Z",
     "iopub.status.idle": "2021-02-23T21:34:30.074539Z",
     "shell.execute_reply": "2021-02-23T21:34:30.074161Z"
    },
    "papermill": {
     "duration": 0.02642,
     "end_time": "2021-02-23T21:34:30.074626",
     "exception": false,
     "start_time": "2021-02-23T21:34:30.048206",
     "status": "completed"
    },
    "tags": []
   },
   "outputs": [],
   "source": [
    "INPUT_SUBSET = \"umap\""
   ]
  },
  {
   "cell_type": "code",
   "execution_count": 12,
   "metadata": {
    "execution": {
     "iopub.execute_input": "2021-02-23T21:34:30.111019Z",
     "iopub.status.busy": "2021-02-23T21:34:30.110658Z",
     "iopub.status.idle": "2021-02-23T21:34:30.117829Z",
     "shell.execute_reply": "2021-02-23T21:34:30.117453Z"
    },
    "papermill": {
     "duration": 0.026262,
     "end_time": "2021-02-23T21:34:30.117915",
     "exception": false,
     "start_time": "2021-02-23T21:34:30.091653",
     "status": "completed"
    },
    "tags": []
   },
   "outputs": [],
   "source": [
    "INPUT_STEM = \"z_score_std-projection-smultixcan-efo_partial-mashr-zscores\""
   ]
  },
  {
   "cell_type": "code",
   "execution_count": 13,
   "metadata": {
    "execution": {
     "iopub.execute_input": "2021-02-23T21:34:30.155327Z",
     "iopub.status.busy": "2021-02-23T21:34:30.154951Z",
     "iopub.status.idle": "2021-02-23T21:34:30.162464Z",
     "shell.execute_reply": "2021-02-23T21:34:30.162097Z"
    },
    "papermill": {
     "duration": 0.027118,
     "end_time": "2021-02-23T21:34:30.162549",
     "exception": false,
     "start_time": "2021-02-23T21:34:30.135431",
     "status": "completed"
    },
    "tags": []
   },
   "outputs": [],
   "source": [
    "DR_OPTIONS = {\n",
    "    \"n_components\": 5,\n",
    "    \"metric\": \"euclidean\",\n",
    "    \"n_neighbors\": 15,\n",
    "    \"random_state\": 0,\n",
    "}"
   ]
  },
  {
   "cell_type": "code",
   "execution_count": 14,
   "metadata": {
    "execution": {
     "iopub.execute_input": "2021-02-23T21:34:30.201268Z",
     "iopub.status.busy": "2021-02-23T21:34:30.200638Z",
     "iopub.status.idle": "2021-02-23T21:34:30.210132Z",
     "shell.execute_reply": "2021-02-23T21:34:30.210447Z"
    },
    "papermill": {
     "duration": 0.030911,
     "end_time": "2021-02-23T21:34:30.210561",
     "exception": false,
     "start_time": "2021-02-23T21:34:30.179650",
     "status": "completed"
    },
    "tags": []
   },
   "outputs": [
    {
     "data": {
      "text/plain": [
       "PosixPath('/home/miltondp/projects/labs/greenelab/phenoplier/base3/results/data_transformations/umap/umap-z_score_std-projection-smultixcan-efo_partial-mashr-zscores-metric_euclidean-n_components_5-n_neighbors_15-random_state_0.pkl')"
      ]
     },
     "metadata": {},
     "output_type": "display_data"
    },
    {
     "data": {
      "text/plain": [
       "'umap-z_score_std-projection-smultixcan-efo_partial-mashr-zscores-metric_euclidean-n_components_5-n_neighbors_15-random_state_0'"
      ]
     },
     "metadata": {},
     "output_type": "display_data"
    }
   ],
   "source": [
    "input_filepath = Path(\n",
    "    conf.RESULTS[\"DATA_TRANSFORMATIONS_DIR\"],\n",
    "    INPUT_SUBSET,\n",
    "    generate_result_set_name(\n",
    "        DR_OPTIONS, prefix=f\"{INPUT_SUBSET}-{INPUT_STEM}-\", suffix=\".pkl\"\n",
    "    ),\n",
    ").resolve()\n",
    "display(input_filepath)\n",
    "\n",
    "assert input_filepath.exists(), \"Input file does not exist\"\n",
    "\n",
    "input_filepath_stem = input_filepath.stem\n",
    "display(input_filepath_stem)"
   ]
  },
  {
   "cell_type": "code",
   "execution_count": 15,
   "metadata": {
    "execution": {
     "iopub.execute_input": "2021-02-23T21:34:30.249141Z",
     "iopub.status.busy": "2021-02-23T21:34:30.248755Z",
     "iopub.status.idle": "2021-02-23T21:34:30.257434Z",
     "shell.execute_reply": "2021-02-23T21:34:30.257062Z"
    },
    "papermill": {
     "duration": 0.028441,
     "end_time": "2021-02-23T21:34:30.257522",
     "exception": false,
     "start_time": "2021-02-23T21:34:30.229081",
     "status": "completed"
    },
    "tags": []
   },
   "outputs": [],
   "source": [
    "data_umap = pd.read_pickle(input_filepath)"
   ]
  },
  {
   "cell_type": "code",
   "execution_count": 16,
   "metadata": {
    "execution": {
     "iopub.execute_input": "2021-02-23T21:34:30.294441Z",
     "iopub.status.busy": "2021-02-23T21:34:30.294054Z",
     "iopub.status.idle": "2021-02-23T21:34:30.302596Z",
     "shell.execute_reply": "2021-02-23T21:34:30.302235Z"
    },
    "papermill": {
     "duration": 0.027797,
     "end_time": "2021-02-23T21:34:30.302682",
     "exception": false,
     "start_time": "2021-02-23T21:34:30.274885",
     "status": "completed"
    },
    "tags": []
   },
   "outputs": [
    {
     "data": {
      "text/plain": [
       "(3749, 5)"
      ]
     },
     "execution_count": 16,
     "metadata": {},
     "output_type": "execute_result"
    }
   ],
   "source": [
    "data_umap.shape"
   ]
  },
  {
   "cell_type": "code",
   "execution_count": 17,
   "metadata": {
    "execution": {
     "iopub.execute_input": "2021-02-23T21:34:30.339969Z",
     "iopub.status.busy": "2021-02-23T21:34:30.339610Z",
     "iopub.status.idle": "2021-02-23T21:34:30.351643Z",
     "shell.execute_reply": "2021-02-23T21:34:30.351253Z"
    },
    "papermill": {
     "duration": 0.031368,
     "end_time": "2021-02-23T21:34:30.351735",
     "exception": false,
     "start_time": "2021-02-23T21:34:30.320367",
     "status": "completed"
    },
    "tags": []
   },
   "outputs": [
    {
     "data": {
      "text/html": [
       "<div>\n",
       "<style scoped>\n",
       "    .dataframe tbody tr th:only-of-type {\n",
       "        vertical-align: middle;\n",
       "    }\n",
       "\n",
       "    .dataframe tbody tr th {\n",
       "        vertical-align: top;\n",
       "    }\n",
       "\n",
       "    .dataframe thead th {\n",
       "        text-align: right;\n",
       "    }\n",
       "</style>\n",
       "<table border=\"1\" class=\"dataframe\">\n",
       "  <thead>\n",
       "    <tr style=\"text-align: right;\">\n",
       "      <th></th>\n",
       "      <th>UMAP1</th>\n",
       "      <th>UMAP2</th>\n",
       "      <th>UMAP3</th>\n",
       "      <th>UMAP4</th>\n",
       "      <th>UMAP5</th>\n",
       "    </tr>\n",
       "  </thead>\n",
       "  <tbody>\n",
       "    <tr>\n",
       "      <th>100001_raw-Food_weight</th>\n",
       "      <td>-8.437452</td>\n",
       "      <td>1.664409</td>\n",
       "      <td>9.233617</td>\n",
       "      <td>6.944210</td>\n",
       "      <td>16.781176</td>\n",
       "    </tr>\n",
       "    <tr>\n",
       "      <th>100002_raw-Energy</th>\n",
       "      <td>-8.388347</td>\n",
       "      <td>1.670845</td>\n",
       "      <td>9.251021</td>\n",
       "      <td>6.975690</td>\n",
       "      <td>16.698511</td>\n",
       "    </tr>\n",
       "    <tr>\n",
       "      <th>100003_raw-Protein</th>\n",
       "      <td>-8.424020</td>\n",
       "      <td>1.696144</td>\n",
       "      <td>9.226449</td>\n",
       "      <td>6.970763</td>\n",
       "      <td>16.768959</td>\n",
       "    </tr>\n",
       "    <tr>\n",
       "      <th>100004_raw-Fat</th>\n",
       "      <td>-8.393674</td>\n",
       "      <td>1.685311</td>\n",
       "      <td>9.258855</td>\n",
       "      <td>6.992673</td>\n",
       "      <td>16.728815</td>\n",
       "    </tr>\n",
       "    <tr>\n",
       "      <th>100005_raw-Carbohydrate</th>\n",
       "      <td>-8.427763</td>\n",
       "      <td>1.685172</td>\n",
       "      <td>9.234971</td>\n",
       "      <td>6.967204</td>\n",
       "      <td>16.751522</td>\n",
       "    </tr>\n",
       "  </tbody>\n",
       "</table>\n",
       "</div>"
      ],
      "text/plain": [
       "                            UMAP1     UMAP2     UMAP3     UMAP4      UMAP5\n",
       "100001_raw-Food_weight  -8.437452  1.664409  9.233617  6.944210  16.781176\n",
       "100002_raw-Energy       -8.388347  1.670845  9.251021  6.975690  16.698511\n",
       "100003_raw-Protein      -8.424020  1.696144  9.226449  6.970763  16.768959\n",
       "100004_raw-Fat          -8.393674  1.685311  9.258855  6.992673  16.728815\n",
       "100005_raw-Carbohydrate -8.427763  1.685172  9.234971  6.967204  16.751522"
      ]
     },
     "execution_count": 17,
     "metadata": {},
     "output_type": "execute_result"
    }
   ],
   "source": [
    "data_umap.head()"
   ]
  },
  {
   "cell_type": "markdown",
   "metadata": {
    "papermill": {
     "duration": 0.01825,
     "end_time": "2021-02-23T21:34:30.389182",
     "exception": false,
     "start_time": "2021-02-23T21:34:30.370932",
     "status": "completed"
    },
    "tags": []
   },
   "source": [
    "# Load selected best partitions"
   ]
  },
  {
   "cell_type": "code",
   "execution_count": 18,
   "metadata": {
    "execution": {
     "iopub.execute_input": "2021-02-23T21:34:30.426754Z",
     "iopub.status.busy": "2021-02-23T21:34:30.426381Z",
     "iopub.status.idle": "2021-02-23T21:34:30.434729Z",
     "shell.execute_reply": "2021-02-23T21:34:30.434356Z"
    },
    "papermill": {
     "duration": 0.028052,
     "end_time": "2021-02-23T21:34:30.434816",
     "exception": false,
     "start_time": "2021-02-23T21:34:30.406764",
     "status": "completed"
    },
    "tags": []
   },
   "outputs": [
    {
     "data": {
      "text/plain": [
       "PosixPath('/home/miltondp/projects/labs/greenelab/phenoplier/base3/results/clustering/consensus_clustering/best_partitions_by_k.pkl')"
      ]
     },
     "metadata": {},
     "output_type": "display_data"
    }
   ],
   "source": [
    "input_file = Path(CONSENSUS_CLUSTERING_DIR, \"best_partitions_by_k.pkl\").resolve()\n",
    "display(input_file)"
   ]
  },
  {
   "cell_type": "code",
   "execution_count": 19,
   "metadata": {
    "execution": {
     "iopub.execute_input": "2021-02-23T21:34:30.473389Z",
     "iopub.status.busy": "2021-02-23T21:34:30.473030Z",
     "iopub.status.idle": "2021-02-23T21:34:30.482021Z",
     "shell.execute_reply": "2021-02-23T21:34:30.481640Z"
    },
    "papermill": {
     "duration": 0.029002,
     "end_time": "2021-02-23T21:34:30.482124",
     "exception": false,
     "start_time": "2021-02-23T21:34:30.453122",
     "status": "completed"
    },
    "tags": []
   },
   "outputs": [],
   "source": [
    "best_partitions = pd.read_pickle(input_file)"
   ]
  },
  {
   "cell_type": "code",
   "execution_count": 20,
   "metadata": {
    "execution": {
     "iopub.execute_input": "2021-02-23T21:34:30.521800Z",
     "iopub.status.busy": "2021-02-23T21:34:30.521440Z",
     "iopub.status.idle": "2021-02-23T21:34:30.529893Z",
     "shell.execute_reply": "2021-02-23T21:34:30.529522Z"
    },
    "papermill": {
     "duration": 0.028973,
     "end_time": "2021-02-23T21:34:30.529981",
     "exception": false,
     "start_time": "2021-02-23T21:34:30.501008",
     "status": "completed"
    },
    "tags": []
   },
   "outputs": [
    {
     "data": {
      "text/plain": [
       "(59, 4)"
      ]
     },
     "execution_count": 20,
     "metadata": {},
     "output_type": "execute_result"
    }
   ],
   "source": [
    "best_partitions.shape"
   ]
  },
  {
   "cell_type": "code",
   "execution_count": 21,
   "metadata": {
    "execution": {
     "iopub.execute_input": "2021-02-23T21:34:30.569850Z",
     "iopub.status.busy": "2021-02-23T21:34:30.569490Z",
     "iopub.status.idle": "2021-02-23T21:34:30.586273Z",
     "shell.execute_reply": "2021-02-23T21:34:30.586565Z"
    },
    "papermill": {
     "duration": 0.037793,
     "end_time": "2021-02-23T21:34:30.586669",
     "exception": false,
     "start_time": "2021-02-23T21:34:30.548876",
     "status": "completed"
    },
    "tags": []
   },
   "outputs": [
    {
     "data": {
      "text/html": [
       "<div>\n",
       "<style scoped>\n",
       "    .dataframe tbody tr th:only-of-type {\n",
       "        vertical-align: middle;\n",
       "    }\n",
       "\n",
       "    .dataframe tbody tr th {\n",
       "        vertical-align: top;\n",
       "    }\n",
       "\n",
       "    .dataframe thead th {\n",
       "        text-align: right;\n",
       "    }\n",
       "</style>\n",
       "<table border=\"1\" class=\"dataframe\">\n",
       "  <thead>\n",
       "    <tr style=\"text-align: right;\">\n",
       "      <th></th>\n",
       "      <th>method</th>\n",
       "      <th>partition</th>\n",
       "      <th>ami_mean</th>\n",
       "      <th>selected</th>\n",
       "    </tr>\n",
       "    <tr>\n",
       "      <th>k</th>\n",
       "      <th></th>\n",
       "      <th></th>\n",
       "      <th></th>\n",
       "      <th></th>\n",
       "    </tr>\n",
       "  </thead>\n",
       "  <tbody>\n",
       "    <tr>\n",
       "      <th>11</th>\n",
       "      <td>scc_020</td>\n",
       "      <td>[1, 1, 1, 1, 1, 1, 1, 1, 1, 1, 1, 1, 1, 1, 1, ...</td>\n",
       "      <td>0.301839</td>\n",
       "      <td>True</td>\n",
       "    </tr>\n",
       "    <tr>\n",
       "      <th>10</th>\n",
       "      <td>scc_020</td>\n",
       "      <td>[0, 0, 0, 0, 0, 0, 0, 0, 0, 0, 0, 0, 0, 0, 0, ...</td>\n",
       "      <td>0.301738</td>\n",
       "      <td>True</td>\n",
       "    </tr>\n",
       "    <tr>\n",
       "      <th>9</th>\n",
       "      <td>scc_020</td>\n",
       "      <td>[0, 0, 0, 0, 0, 0, 0, 0, 0, 0, 0, 0, 0, 0, 0, ...</td>\n",
       "      <td>0.301301</td>\n",
       "      <td>True</td>\n",
       "    </tr>\n",
       "    <tr>\n",
       "      <th>4</th>\n",
       "      <td>eac_complete_coassoc_matrix</td>\n",
       "      <td>[0, 0, 0, 0, 0, 0, 0, 0, 0, 0, 0, 0, 0, 0, 0, ...</td>\n",
       "      <td>0.300385</td>\n",
       "      <td>True</td>\n",
       "    </tr>\n",
       "    <tr>\n",
       "      <th>8</th>\n",
       "      <td>scc_020</td>\n",
       "      <td>[0, 0, 0, 0, 0, 0, 0, 0, 0, 0, 0, 0, 0, 0, 0, ...</td>\n",
       "      <td>0.300171</td>\n",
       "      <td>True</td>\n",
       "    </tr>\n",
       "  </tbody>\n",
       "</table>\n",
       "</div>"
      ],
      "text/plain": [
       "                         method  \\\n",
       "k                                 \n",
       "11                      scc_020   \n",
       "10                      scc_020   \n",
       "9                       scc_020   \n",
       "4   eac_complete_coassoc_matrix   \n",
       "8                       scc_020   \n",
       "\n",
       "                                            partition  ami_mean  selected  \n",
       "k                                                                          \n",
       "11  [1, 1, 1, 1, 1, 1, 1, 1, 1, 1, 1, 1, 1, 1, 1, ...  0.301839      True  \n",
       "10  [0, 0, 0, 0, 0, 0, 0, 0, 0, 0, 0, 0, 0, 0, 0, ...  0.301738      True  \n",
       "9   [0, 0, 0, 0, 0, 0, 0, 0, 0, 0, 0, 0, 0, 0, 0, ...  0.301301      True  \n",
       "4   [0, 0, 0, 0, 0, 0, 0, 0, 0, 0, 0, 0, 0, 0, 0, ...  0.300385      True  \n",
       "8   [0, 0, 0, 0, 0, 0, 0, 0, 0, 0, 0, 0, 0, 0, 0, ...  0.300171      True  "
      ]
     },
     "execution_count": 21,
     "metadata": {},
     "output_type": "execute_result"
    }
   ],
   "source": [
    "best_partitions.head()"
   ]
  },
  {
   "cell_type": "markdown",
   "metadata": {
    "papermill": {
     "duration": 0.018404,
     "end_time": "2021-02-23T21:34:30.623659",
     "exception": false,
     "start_time": "2021-02-23T21:34:30.605255",
     "status": "completed"
    },
    "tags": []
   },
   "source": [
    "# Prepare data for clustrees"
   ]
  },
  {
   "cell_type": "code",
   "execution_count": 22,
   "metadata": {
    "execution": {
     "iopub.execute_input": "2021-02-23T21:34:30.663320Z",
     "iopub.status.busy": "2021-02-23T21:34:30.662945Z",
     "iopub.status.idle": "2021-02-23T21:34:30.671707Z",
     "shell.execute_reply": "2021-02-23T21:34:30.671333Z"
    },
    "papermill": {
     "duration": 0.029495,
     "end_time": "2021-02-23T21:34:30.671795",
     "exception": false,
     "start_time": "2021-02-23T21:34:30.642300",
     "status": "completed"
    },
    "tags": []
   },
   "outputs": [],
   "source": [
    "clustrees_df = pd.concat((data_pca, data_umap), join=\"inner\", axis=1)"
   ]
  },
  {
   "cell_type": "code",
   "execution_count": 23,
   "metadata": {
    "execution": {
     "iopub.execute_input": "2021-02-23T21:34:30.711630Z",
     "iopub.status.busy": "2021-02-23T21:34:30.711266Z",
     "iopub.status.idle": "2021-02-23T21:34:30.720130Z",
     "shell.execute_reply": "2021-02-23T21:34:30.719758Z"
    },
    "papermill": {
     "duration": 0.029868,
     "end_time": "2021-02-23T21:34:30.720218",
     "exception": false,
     "start_time": "2021-02-23T21:34:30.690350",
     "status": "completed"
    },
    "tags": []
   },
   "outputs": [
    {
     "data": {
      "text/plain": [
       "(3749, 10)"
      ]
     },
     "metadata": {},
     "output_type": "display_data"
    }
   ],
   "source": [
    "display(clustrees_df.shape)\n",
    "assert clustrees_df.shape == (data_pca.shape[0], data_pca.shape[1] + data_umap.shape[1])"
   ]
  },
  {
   "cell_type": "code",
   "execution_count": 24,
   "metadata": {
    "execution": {
     "iopub.execute_input": "2021-02-23T21:34:30.759871Z",
     "iopub.status.busy": "2021-02-23T21:34:30.759509Z",
     "iopub.status.idle": "2021-02-23T21:34:30.773910Z",
     "shell.execute_reply": "2021-02-23T21:34:30.773548Z"
    },
    "papermill": {
     "duration": 0.034993,
     "end_time": "2021-02-23T21:34:30.773995",
     "exception": false,
     "start_time": "2021-02-23T21:34:30.739002",
     "status": "completed"
    },
    "tags": []
   },
   "outputs": [
    {
     "data": {
      "text/html": [
       "<div>\n",
       "<style scoped>\n",
       "    .dataframe tbody tr th:only-of-type {\n",
       "        vertical-align: middle;\n",
       "    }\n",
       "\n",
       "    .dataframe tbody tr th {\n",
       "        vertical-align: top;\n",
       "    }\n",
       "\n",
       "    .dataframe thead th {\n",
       "        text-align: right;\n",
       "    }\n",
       "</style>\n",
       "<table border=\"1\" class=\"dataframe\">\n",
       "  <thead>\n",
       "    <tr style=\"text-align: right;\">\n",
       "      <th></th>\n",
       "      <th>PCA1</th>\n",
       "      <th>PCA2</th>\n",
       "      <th>PCA3</th>\n",
       "      <th>PCA4</th>\n",
       "      <th>PCA5</th>\n",
       "      <th>UMAP1</th>\n",
       "      <th>UMAP2</th>\n",
       "      <th>UMAP3</th>\n",
       "      <th>UMAP4</th>\n",
       "      <th>UMAP5</th>\n",
       "    </tr>\n",
       "  </thead>\n",
       "  <tbody>\n",
       "    <tr>\n",
       "      <th>100001_raw-Food_weight</th>\n",
       "      <td>-0.547515</td>\n",
       "      <td>-0.007250</td>\n",
       "      <td>0.245361</td>\n",
       "      <td>0.132424</td>\n",
       "      <td>1.201447</td>\n",
       "      <td>-8.437452</td>\n",
       "      <td>1.664409</td>\n",
       "      <td>9.233617</td>\n",
       "      <td>6.944210</td>\n",
       "      <td>16.781176</td>\n",
       "    </tr>\n",
       "    <tr>\n",
       "      <th>100002_raw-Energy</th>\n",
       "      <td>-1.570593</td>\n",
       "      <td>-0.618992</td>\n",
       "      <td>-1.223395</td>\n",
       "      <td>1.627321</td>\n",
       "      <td>-0.563860</td>\n",
       "      <td>-8.388347</td>\n",
       "      <td>1.670845</td>\n",
       "      <td>9.251021</td>\n",
       "      <td>6.975690</td>\n",
       "      <td>16.698511</td>\n",
       "    </tr>\n",
       "    <tr>\n",
       "      <th>100003_raw-Protein</th>\n",
       "      <td>-0.601212</td>\n",
       "      <td>-0.948824</td>\n",
       "      <td>-1.022209</td>\n",
       "      <td>2.438433</td>\n",
       "      <td>-2.062235</td>\n",
       "      <td>-8.424020</td>\n",
       "      <td>1.696144</td>\n",
       "      <td>9.226449</td>\n",
       "      <td>6.970763</td>\n",
       "      <td>16.768959</td>\n",
       "    </tr>\n",
       "    <tr>\n",
       "      <th>100004_raw-Fat</th>\n",
       "      <td>-1.648214</td>\n",
       "      <td>-0.342042</td>\n",
       "      <td>-0.270189</td>\n",
       "      <td>1.683268</td>\n",
       "      <td>-1.222401</td>\n",
       "      <td>-8.393674</td>\n",
       "      <td>1.685311</td>\n",
       "      <td>9.258855</td>\n",
       "      <td>6.992673</td>\n",
       "      <td>16.728815</td>\n",
       "    </tr>\n",
       "    <tr>\n",
       "      <th>100005_raw-Carbohydrate</th>\n",
       "      <td>-1.867586</td>\n",
       "      <td>-0.006412</td>\n",
       "      <td>-0.303220</td>\n",
       "      <td>0.770958</td>\n",
       "      <td>-0.116822</td>\n",
       "      <td>-8.427763</td>\n",
       "      <td>1.685172</td>\n",
       "      <td>9.234971</td>\n",
       "      <td>6.967204</td>\n",
       "      <td>16.751522</td>\n",
       "    </tr>\n",
       "  </tbody>\n",
       "</table>\n",
       "</div>"
      ],
      "text/plain": [
       "                             PCA1      PCA2      PCA3      PCA4      PCA5  \\\n",
       "100001_raw-Food_weight  -0.547515 -0.007250  0.245361  0.132424  1.201447   \n",
       "100002_raw-Energy       -1.570593 -0.618992 -1.223395  1.627321 -0.563860   \n",
       "100003_raw-Protein      -0.601212 -0.948824 -1.022209  2.438433 -2.062235   \n",
       "100004_raw-Fat          -1.648214 -0.342042 -0.270189  1.683268 -1.222401   \n",
       "100005_raw-Carbohydrate -1.867586 -0.006412 -0.303220  0.770958 -0.116822   \n",
       "\n",
       "                            UMAP1     UMAP2     UMAP3     UMAP4      UMAP5  \n",
       "100001_raw-Food_weight  -8.437452  1.664409  9.233617  6.944210  16.781176  \n",
       "100002_raw-Energy       -8.388347  1.670845  9.251021  6.975690  16.698511  \n",
       "100003_raw-Protein      -8.424020  1.696144  9.226449  6.970763  16.768959  \n",
       "100004_raw-Fat          -8.393674  1.685311  9.258855  6.992673  16.728815  \n",
       "100005_raw-Carbohydrate -8.427763  1.685172  9.234971  6.967204  16.751522  "
      ]
     },
     "execution_count": 24,
     "metadata": {},
     "output_type": "execute_result"
    }
   ],
   "source": [
    "clustrees_df.head()"
   ]
  },
  {
   "cell_type": "markdown",
   "metadata": {
    "papermill": {
     "duration": 0.018708,
     "end_time": "2021-02-23T21:34:30.811669",
     "exception": false,
     "start_time": "2021-02-23T21:34:30.792961",
     "status": "completed"
    },
    "tags": []
   },
   "source": [
    "## Add partitions"
   ]
  },
  {
   "cell_type": "code",
   "execution_count": 25,
   "metadata": {
    "execution": {
     "iopub.execute_input": "2021-02-23T21:34:30.851573Z",
     "iopub.status.busy": "2021-02-23T21:34:30.851203Z",
     "iopub.status.idle": "2021-02-23T21:34:30.860524Z",
     "shell.execute_reply": "2021-02-23T21:34:30.860150Z"
    },
    "papermill": {
     "duration": 0.03042,
     "end_time": "2021-02-23T21:34:30.860613",
     "exception": false,
     "start_time": "2021-02-23T21:34:30.830193",
     "status": "completed"
    },
    "tags": []
   },
   "outputs": [
    {
     "data": {
      "text/plain": [
       "array([3749])"
      ]
     },
     "metadata": {},
     "output_type": "display_data"
    }
   ],
   "source": [
    "_tmp = np.unique(\n",
    "    [best_partitions.loc[k, \"partition\"].shape for k in best_partitions.index]\n",
    ")\n",
    "display(_tmp)\n",
    "assert _tmp.shape[0] == 1\n",
    "assert _tmp[0] == data_umap.shape[0] == data_pca.shape[0]"
   ]
  },
  {
   "cell_type": "code",
   "execution_count": 26,
   "metadata": {
    "execution": {
     "iopub.execute_input": "2021-02-23T21:34:30.902687Z",
     "iopub.status.busy": "2021-02-23T21:34:30.902319Z",
     "iopub.status.idle": "2021-02-23T21:34:30.910658Z",
     "shell.execute_reply": "2021-02-23T21:34:30.910292Z"
    },
    "papermill": {
     "duration": 0.0302,
     "end_time": "2021-02-23T21:34:30.910744",
     "exception": false,
     "start_time": "2021-02-23T21:34:30.880544",
     "status": "completed"
    },
    "tags": []
   },
   "outputs": [],
   "source": [
    "assert not best_partitions.isna().any().any()"
   ]
  },
  {
   "cell_type": "code",
   "execution_count": 27,
   "metadata": {
    "execution": {
     "iopub.execute_input": "2021-02-23T21:34:30.951996Z",
     "iopub.status.busy": "2021-02-23T21:34:30.951633Z",
     "iopub.status.idle": "2021-02-23T21:34:30.967220Z",
     "shell.execute_reply": "2021-02-23T21:34:30.966809Z"
    },
    "papermill": {
     "duration": 0.037253,
     "end_time": "2021-02-23T21:34:30.967309",
     "exception": false,
     "start_time": "2021-02-23T21:34:30.930056",
     "status": "completed"
    },
    "tags": []
   },
   "outputs": [],
   "source": [
    "# df = df.assign(**{f'k{k}': partitions.loc[k, 'partition'] for k in selected_k_values})\n",
    "clustrees_df = clustrees_df.assign(\n",
    "    **{\n",
    "        f\"k{k}\": best_partitions.loc[k, \"partition\"]\n",
    "        for k in best_partitions.index\n",
    "        if best_partitions.loc[k, \"selected\"]\n",
    "    }\n",
    ")"
   ]
  },
  {
   "cell_type": "code",
   "execution_count": 28,
   "metadata": {
    "execution": {
     "iopub.execute_input": "2021-02-23T21:34:31.008590Z",
     "iopub.status.busy": "2021-02-23T21:34:31.008226Z",
     "iopub.status.idle": "2021-02-23T21:34:31.015664Z",
     "shell.execute_reply": "2021-02-23T21:34:31.015287Z"
    },
    "papermill": {
     "duration": 0.028915,
     "end_time": "2021-02-23T21:34:31.015753",
     "exception": false,
     "start_time": "2021-02-23T21:34:30.986838",
     "status": "completed"
    },
    "tags": []
   },
   "outputs": [],
   "source": [
    "clustrees_df.index.rename(\"trait\", inplace=True)"
   ]
  },
  {
   "cell_type": "code",
   "execution_count": 29,
   "metadata": {
    "execution": {
     "iopub.execute_input": "2021-02-23T21:34:31.057363Z",
     "iopub.status.busy": "2021-02-23T21:34:31.056993Z",
     "iopub.status.idle": "2021-02-23T21:34:31.065220Z",
     "shell.execute_reply": "2021-02-23T21:34:31.064855Z"
    },
    "papermill": {
     "duration": 0.029634,
     "end_time": "2021-02-23T21:34:31.065304",
     "exception": false,
     "start_time": "2021-02-23T21:34:31.035670",
     "status": "completed"
    },
    "tags": []
   },
   "outputs": [
    {
     "data": {
      "text/plain": [
       "(3749, 39)"
      ]
     },
     "execution_count": 29,
     "metadata": {},
     "output_type": "execute_result"
    }
   ],
   "source": [
    "clustrees_df.shape"
   ]
  },
  {
   "cell_type": "code",
   "execution_count": 30,
   "metadata": {
    "execution": {
     "iopub.execute_input": "2021-02-23T21:34:31.106033Z",
     "iopub.status.busy": "2021-02-23T21:34:31.105669Z",
     "iopub.status.idle": "2021-02-23T21:34:31.126522Z",
     "shell.execute_reply": "2021-02-23T21:34:31.126144Z"
    },
    "papermill": {
     "duration": 0.042033,
     "end_time": "2021-02-23T21:34:31.126611",
     "exception": false,
     "start_time": "2021-02-23T21:34:31.084578",
     "status": "completed"
    },
    "tags": []
   },
   "outputs": [
    {
     "data": {
      "text/html": [
       "<div>\n",
       "<style scoped>\n",
       "    .dataframe tbody tr th:only-of-type {\n",
       "        vertical-align: middle;\n",
       "    }\n",
       "\n",
       "    .dataframe tbody tr th {\n",
       "        vertical-align: top;\n",
       "    }\n",
       "\n",
       "    .dataframe thead th {\n",
       "        text-align: right;\n",
       "    }\n",
       "</style>\n",
       "<table border=\"1\" class=\"dataframe\">\n",
       "  <thead>\n",
       "    <tr style=\"text-align: right;\">\n",
       "      <th></th>\n",
       "      <th>PCA1</th>\n",
       "      <th>PCA2</th>\n",
       "      <th>PCA3</th>\n",
       "      <th>PCA4</th>\n",
       "      <th>PCA5</th>\n",
       "      <th>UMAP1</th>\n",
       "      <th>UMAP2</th>\n",
       "      <th>UMAP3</th>\n",
       "      <th>UMAP4</th>\n",
       "      <th>UMAP5</th>\n",
       "      <th>...</th>\n",
       "      <th>k25</th>\n",
       "      <th>k29</th>\n",
       "      <th>k16</th>\n",
       "      <th>k39</th>\n",
       "      <th>k20</th>\n",
       "      <th>k13</th>\n",
       "      <th>k17</th>\n",
       "      <th>k26</th>\n",
       "      <th>k15</th>\n",
       "      <th>k34</th>\n",
       "    </tr>\n",
       "    <tr>\n",
       "      <th>trait</th>\n",
       "      <th></th>\n",
       "      <th></th>\n",
       "      <th></th>\n",
       "      <th></th>\n",
       "      <th></th>\n",
       "      <th></th>\n",
       "      <th></th>\n",
       "      <th></th>\n",
       "      <th></th>\n",
       "      <th></th>\n",
       "      <th></th>\n",
       "      <th></th>\n",
       "      <th></th>\n",
       "      <th></th>\n",
       "      <th></th>\n",
       "      <th></th>\n",
       "      <th></th>\n",
       "      <th></th>\n",
       "      <th></th>\n",
       "      <th></th>\n",
       "      <th></th>\n",
       "    </tr>\n",
       "  </thead>\n",
       "  <tbody>\n",
       "    <tr>\n",
       "      <th>100001_raw-Food_weight</th>\n",
       "      <td>-0.547515</td>\n",
       "      <td>-0.007250</td>\n",
       "      <td>0.245361</td>\n",
       "      <td>0.132424</td>\n",
       "      <td>1.201447</td>\n",
       "      <td>-8.437452</td>\n",
       "      <td>1.664409</td>\n",
       "      <td>9.233617</td>\n",
       "      <td>6.944210</td>\n",
       "      <td>16.781176</td>\n",
       "      <td>...</td>\n",
       "      <td>0</td>\n",
       "      <td>17</td>\n",
       "      <td>14</td>\n",
       "      <td>34</td>\n",
       "      <td>0</td>\n",
       "      <td>1</td>\n",
       "      <td>14</td>\n",
       "      <td>16</td>\n",
       "      <td>6</td>\n",
       "      <td>33</td>\n",
       "    </tr>\n",
       "    <tr>\n",
       "      <th>100002_raw-Energy</th>\n",
       "      <td>-1.570593</td>\n",
       "      <td>-0.618992</td>\n",
       "      <td>-1.223395</td>\n",
       "      <td>1.627321</td>\n",
       "      <td>-0.563860</td>\n",
       "      <td>-8.388347</td>\n",
       "      <td>1.670845</td>\n",
       "      <td>9.251021</td>\n",
       "      <td>6.975690</td>\n",
       "      <td>16.698511</td>\n",
       "      <td>...</td>\n",
       "      <td>0</td>\n",
       "      <td>17</td>\n",
       "      <td>14</td>\n",
       "      <td>34</td>\n",
       "      <td>0</td>\n",
       "      <td>1</td>\n",
       "      <td>1</td>\n",
       "      <td>16</td>\n",
       "      <td>6</td>\n",
       "      <td>33</td>\n",
       "    </tr>\n",
       "    <tr>\n",
       "      <th>100003_raw-Protein</th>\n",
       "      <td>-0.601212</td>\n",
       "      <td>-0.948824</td>\n",
       "      <td>-1.022209</td>\n",
       "      <td>2.438433</td>\n",
       "      <td>-2.062235</td>\n",
       "      <td>-8.424020</td>\n",
       "      <td>1.696144</td>\n",
       "      <td>9.226449</td>\n",
       "      <td>6.970763</td>\n",
       "      <td>16.768959</td>\n",
       "      <td>...</td>\n",
       "      <td>0</td>\n",
       "      <td>17</td>\n",
       "      <td>14</td>\n",
       "      <td>34</td>\n",
       "      <td>0</td>\n",
       "      <td>1</td>\n",
       "      <td>1</td>\n",
       "      <td>16</td>\n",
       "      <td>6</td>\n",
       "      <td>33</td>\n",
       "    </tr>\n",
       "    <tr>\n",
       "      <th>100004_raw-Fat</th>\n",
       "      <td>-1.648214</td>\n",
       "      <td>-0.342042</td>\n",
       "      <td>-0.270189</td>\n",
       "      <td>1.683268</td>\n",
       "      <td>-1.222401</td>\n",
       "      <td>-8.393674</td>\n",
       "      <td>1.685311</td>\n",
       "      <td>9.258855</td>\n",
       "      <td>6.992673</td>\n",
       "      <td>16.728815</td>\n",
       "      <td>...</td>\n",
       "      <td>0</td>\n",
       "      <td>17</td>\n",
       "      <td>14</td>\n",
       "      <td>34</td>\n",
       "      <td>0</td>\n",
       "      <td>1</td>\n",
       "      <td>1</td>\n",
       "      <td>16</td>\n",
       "      <td>6</td>\n",
       "      <td>33</td>\n",
       "    </tr>\n",
       "    <tr>\n",
       "      <th>100005_raw-Carbohydrate</th>\n",
       "      <td>-1.867586</td>\n",
       "      <td>-0.006412</td>\n",
       "      <td>-0.303220</td>\n",
       "      <td>0.770958</td>\n",
       "      <td>-0.116822</td>\n",
       "      <td>-8.427763</td>\n",
       "      <td>1.685172</td>\n",
       "      <td>9.234971</td>\n",
       "      <td>6.967204</td>\n",
       "      <td>16.751522</td>\n",
       "      <td>...</td>\n",
       "      <td>0</td>\n",
       "      <td>17</td>\n",
       "      <td>14</td>\n",
       "      <td>34</td>\n",
       "      <td>0</td>\n",
       "      <td>1</td>\n",
       "      <td>1</td>\n",
       "      <td>16</td>\n",
       "      <td>6</td>\n",
       "      <td>33</td>\n",
       "    </tr>\n",
       "  </tbody>\n",
       "</table>\n",
       "<p>5 rows × 39 columns</p>\n",
       "</div>"
      ],
      "text/plain": [
       "                             PCA1      PCA2      PCA3      PCA4      PCA5  \\\n",
       "trait                                                                       \n",
       "100001_raw-Food_weight  -0.547515 -0.007250  0.245361  0.132424  1.201447   \n",
       "100002_raw-Energy       -1.570593 -0.618992 -1.223395  1.627321 -0.563860   \n",
       "100003_raw-Protein      -0.601212 -0.948824 -1.022209  2.438433 -2.062235   \n",
       "100004_raw-Fat          -1.648214 -0.342042 -0.270189  1.683268 -1.222401   \n",
       "100005_raw-Carbohydrate -1.867586 -0.006412 -0.303220  0.770958 -0.116822   \n",
       "\n",
       "                            UMAP1     UMAP2     UMAP3     UMAP4      UMAP5  \\\n",
       "trait                                                                        \n",
       "100001_raw-Food_weight  -8.437452  1.664409  9.233617  6.944210  16.781176   \n",
       "100002_raw-Energy       -8.388347  1.670845  9.251021  6.975690  16.698511   \n",
       "100003_raw-Protein      -8.424020  1.696144  9.226449  6.970763  16.768959   \n",
       "100004_raw-Fat          -8.393674  1.685311  9.258855  6.992673  16.728815   \n",
       "100005_raw-Carbohydrate -8.427763  1.685172  9.234971  6.967204  16.751522   \n",
       "\n",
       "                         ...  k25  k29  k16  k39  k20  k13  k17  k26  k15  k34  \n",
       "trait                    ...                                                    \n",
       "100001_raw-Food_weight   ...    0   17   14   34    0    1   14   16    6   33  \n",
       "100002_raw-Energy        ...    0   17   14   34    0    1    1   16    6   33  \n",
       "100003_raw-Protein       ...    0   17   14   34    0    1    1   16    6   33  \n",
       "100004_raw-Fat           ...    0   17   14   34    0    1    1   16    6   33  \n",
       "100005_raw-Carbohydrate  ...    0   17   14   34    0    1    1   16    6   33  \n",
       "\n",
       "[5 rows x 39 columns]"
      ]
     },
     "execution_count": 30,
     "metadata": {},
     "output_type": "execute_result"
    }
   ],
   "source": [
    "clustrees_df.head()"
   ]
  },
  {
   "cell_type": "code",
   "execution_count": 31,
   "metadata": {
    "execution": {
     "iopub.execute_input": "2021-02-23T21:34:31.169229Z",
     "iopub.status.busy": "2021-02-23T21:34:31.168863Z",
     "iopub.status.idle": "2021-02-23T21:34:31.191081Z",
     "shell.execute_reply": "2021-02-23T21:34:31.190706Z"
    },
    "papermill": {
     "duration": 0.04433,
     "end_time": "2021-02-23T21:34:31.191168",
     "exception": false,
     "start_time": "2021-02-23T21:34:31.146838",
     "status": "completed"
    },
    "tags": []
   },
   "outputs": [],
   "source": [
    "# make sure partitions were assigned correctly\n",
    "assert (\n",
    "    np.unique(\n",
    "        [\n",
    "            clustrees_df[f\"{k}\"].value_counts().sum()\n",
    "            for k in clustrees_df.columns[\n",
    "                clustrees_df.columns.str.contains(\"^k[0-9]+$\", regex=True)\n",
    "            ]\n",
    "        ]\n",
    "    )[0]\n",
    "    == data_pca.shape[0]\n",
    ")"
   ]
  },
  {
   "cell_type": "markdown",
   "metadata": {
    "papermill": {
     "duration": 0.020086,
     "end_time": "2021-02-23T21:34:31.232587",
     "exception": false,
     "start_time": "2021-02-23T21:34:31.212501",
     "status": "completed"
    },
    "tags": []
   },
   "source": [
    "# Assign labels"
   ]
  },
  {
   "cell_type": "code",
   "execution_count": 32,
   "metadata": {
    "execution": {
     "iopub.execute_input": "2021-02-23T21:34:31.274760Z",
     "iopub.status.busy": "2021-02-23T21:34:31.274395Z",
     "iopub.status.idle": "2021-02-23T21:34:31.284764Z",
     "shell.execute_reply": "2021-02-23T21:34:31.284335Z"
    },
    "papermill": {
     "duration": 0.032333,
     "end_time": "2021-02-23T21:34:31.284864",
     "exception": false,
     "start_time": "2021-02-23T21:34:31.252531",
     "status": "completed"
    },
    "tags": []
   },
   "outputs": [],
   "source": [
    "trait_labels = pd.Series({t: None for t in clustrees_df.index})"
   ]
  },
  {
   "cell_type": "code",
   "execution_count": 33,
   "metadata": {
    "execution": {
     "iopub.execute_input": "2021-02-23T21:34:31.326463Z",
     "iopub.status.busy": "2021-02-23T21:34:31.326100Z",
     "iopub.status.idle": "2021-02-23T21:34:31.334402Z",
     "shell.execute_reply": "2021-02-23T21:34:31.334706Z"
    },
    "papermill": {
     "duration": 0.030521,
     "end_time": "2021-02-23T21:34:31.334812",
     "exception": false,
     "start_time": "2021-02-23T21:34:31.304291",
     "status": "completed"
    },
    "tags": []
   },
   "outputs": [
    {
     "data": {
      "text/plain": [
       "100001_raw-Food_weight     None\n",
       "100002_raw-Energy          None\n",
       "100003_raw-Protein         None\n",
       "100004_raw-Fat             None\n",
       "100005_raw-Carbohydrate    None\n",
       "dtype: object"
      ]
     },
     "execution_count": 33,
     "metadata": {},
     "output_type": "execute_result"
    }
   ],
   "source": [
    "trait_labels.head()"
   ]
  },
  {
   "cell_type": "code",
   "execution_count": 34,
   "metadata": {
    "execution": {
     "iopub.execute_input": "2021-02-23T21:34:31.382735Z",
     "iopub.status.busy": "2021-02-23T21:34:31.377343Z",
     "iopub.status.idle": "2021-02-23T21:34:31.396234Z",
     "shell.execute_reply": "2021-02-23T21:34:31.395834Z"
    },
    "papermill": {
     "duration": 0.040816,
     "end_time": "2021-02-23T21:34:31.396323",
     "exception": false,
     "start_time": "2021-02-23T21:34:31.355507",
     "status": "completed"
    },
    "tags": []
   },
   "outputs": [],
   "source": [
    "trait_labels.loc[\"3143_raw-Ankle_spacing_width\"] = \"Anthropometry\"\n",
    "\n",
    "trait_labels.loc[\n",
    "    [\n",
    "        \"20153_raw-Forced_expiratory_volume_in_1second_FEV1_predicted\",\n",
    "        \"20150_raw-Forced_expiratory_volume_in_1second_FEV1_Best_measure\",\n",
    "        \"20151_raw-Forced_vital_capacity_FVC_Best_measure\",\n",
    "        \"3062_raw-Forced_vital_capacity_FVC\",\n",
    "        \"3063_raw-Forced_expiratory_volume_in_1second_FEV1\",\n",
    "    ]\n",
    "] = \"Spirometry\"\n",
    "\n",
    "\n",
    "trait_labels.loc[\n",
    "    [\n",
    "        \"30080_raw-Platelet_count\",\n",
    "        \"30090_raw-Platelet_crit\",\n",
    "        \"30100_raw-Mean_platelet_thrombocyte_volume\",\n",
    "        \"30110_raw-Platelet_distribution_width\",\n",
    "        \"platelet count\",\n",
    "    ]\n",
    "] = \"Platelet\"\n",
    "\n",
    "trait_labels.loc[\n",
    "    [\n",
    "        \"23106_raw-Impedance_of_whole_body\",\n",
    "        \"23107_raw-Impedance_of_leg_right\",\n",
    "        \"23108_raw-Impedance_of_leg_left\",\n",
    "        \"23109_raw-Impedance_of_arm_right\",\n",
    "        \"23110_raw-Impedance_of_arm_left\",\n",
    "    ]\n",
    "] = \"Impedance\"\n",
    "\n",
    "trait_labels.loc[\n",
    "    [\n",
    "        \"40001_C349-Underlying_primary_cause_of_death_ICD10_C349_Bronchus_or_lung_unspecified\",\n",
    "        \"C3_RESPIRATORY_INTRATHORACIC-Malignant_neoplasm_of_respiratory_system_and_intrathoracic_organs\",\n",
    "        \"C_BRONCHUS_LUNG-Malignant_neoplasm_of_bronchus_and_lung\",\n",
    "        \"C_RESPIRATORY_INTRATHORACIC\",\n",
    "        \"LUNG_CANCER_MESOT-Lung_cancer_and_mesothelioma\",\n",
    "        \"lung carcinoma\",\n",
    "    ]\n",
    "] = \"Lung cancer\"\n",
    "\n",
    "# From https://biobank.ndph.ox.ac.uk/showcase/label.cgi?id=100014\n",
    "trait_labels.loc[\n",
    "    [\n",
    "        \"5086_raw-Cylindrical_power_left\",\n",
    "        \"5087_raw-Cylindrical_power_right\",\n",
    "        \"5116_raw-3mm_cylindrical_power_right\",\n",
    "        \"5117_raw-6mm_cylindrical_power_right\",\n",
    "        \"5118_raw-6mm_cylindrical_power_left\",\n",
    "        \"5119_raw-3mm_cylindrical_power_left\",\n",
    "    ]\n",
    "] = \"Refractometry\"\n",
    "\n",
    "trait_labels.loc[\n",
    "    [\n",
    "        \"5096_raw-3mm_weak_meridian_left\",\n",
    "        \"5097_raw-6mm_weak_meridian_left\",\n",
    "        \"5098_raw-6mm_weak_meridian_right\",\n",
    "        \"5099_raw-3mm_weak_meridian_right\",\n",
    "        \"5132_raw-3mm_strong_meridian_right\",\n",
    "        \"5133_raw-6mm_strong_meridian_right\",\n",
    "        \"5134_raw-6mm_strong_meridian_left\",\n",
    "        \"5135_raw-3mm_strong_meridian_left\",\n",
    "    ]\n",
    "] = \"Keratometry\"\n",
    "\n",
    "trait_labels.loc[\n",
    "    [\n",
    "        \"3144_raw-Heel_Broadband_ultrasound_attenuation_direct_entry\",\n",
    "        \"3147_raw-Heel_quantitative_ultrasound_index_QUI_direct_entry\",\n",
    "        \"3148_raw-Heel_bone_mineral_density_BMD\",\n",
    "        \"4101_raw-Heel_broadband_ultrasound_attenuation_left\",\n",
    "        \"4104_raw-Heel_quantitative_ultrasound_index_QUI_direct_entry_left\",\n",
    "        \"4105_raw-Heel_bone_mineral_density_BMD_left\",\n",
    "        \"4106_raw-Heel_bone_mineral_density_BMD_Tscore_automated_left\",\n",
    "        \"4120_raw-Heel_broadband_ultrasound_attenuation_right\",\n",
    "        \"4123_raw-Heel_quantitative_ultrasound_index_QUI_direct_entry_right\",\n",
    "        \"4124_raw-Heel_bone_mineral_density_BMD_right\",\n",
    "        \"4125_raw-Heel_bone_mineral_density_BMD_Tscore_automated_right\",\n",
    "        \"78_raw-Heel_bone_mineral_density_BMD_Tscore_automated\",\n",
    "    ]\n",
    "] = \"Heel bone\"\n",
    "\n",
    "\n",
    "trait_labels.loc[\n",
    "    [\n",
    "        \"22617_3319-Job_SOC_coding_Protective_service_associate_professionals_nec\",\n",
    "        \"5983_raw-ECG_heart_rate\",\n",
    "        \"5984_raw-ECG_load\",\n",
    "        \"5986_raw-ECG_phase_time\",\n",
    "        \"5992-ECG_phase_duration\",\n",
    "        \"5993-ECG_number_of_stages_in_a_phase\",\n",
    "        \"6020_1-Completion_status_of_test_Fully_completed\",\n",
    "        \"6020_31-Completion_status_of_test_Participant_wanted_to_stop_early\",\n",
    "        \"6020_33-Completion_status_of_test_Heart_rate_reached_safety_level\",\n",
    "        \"6032_raw-Maximum_workload_during_fitness_test\",\n",
    "        \"6033_raw-Maximum_heart_rate_during_fitness_test\",\n",
    "        \"6038_raw-Number_of_trend_entries\",\n",
    "        \"6039-Duration_of_fitness_test\",\n",
    "        \"ability to walk or cycle unaided for 10 minutes, self-reported\",\n",
    "        \"achievement of target heart rate, self-reported\",\n",
    "    ]\n",
    "] = \"ECG\"\n",
    "\n",
    "trait_labels.loc[\n",
    "    [\n",
    "        \"30000_raw-White_blood_cell_leukocyte_count\",\n",
    "        \"30120_raw-Lymphocyte_count\",\n",
    "        \"30130_raw-Monocyte_count\",\n",
    "        \"30140_raw-Neutrophill_count\",\n",
    "        \"30150-Eosinophill_count\",\n",
    "        \"30180_raw-Lymphocyte_percentage\",\n",
    "        \"30190_raw-Monocyte_percentage\",\n",
    "        \"30200_raw-Neutrophill_percentage\",\n",
    "        \"30210_raw-Eosinophill_percentage\",\n",
    "        \"eosinophil count\",\n",
    "        \"granulocyte count\",\n",
    "        \"leukocyte count\",\n",
    "        \"lymphocyte count\",\n",
    "        \"monocyte count\",\n",
    "        \"myeloid white cell count\",\n",
    "        \"neutrophil count\",\n",
    "    ]\n",
    "] = \"White blood cells\"\n",
    "\n",
    "\n",
    "trait_labels.loc[\n",
    "    [\n",
    "        \"30010_raw-Red_blood_cell_erythrocyte_count\",\n",
    "        \"30020_raw-Haemoglobin_concentration\",\n",
    "        \"30030_raw-Haematocrit_percentage\",\n",
    "        \"30040_raw-Mean_corpuscular_volume\",\n",
    "        \"30050_raw-Mean_corpuscular_haemoglobin\",\n",
    "        \"30060_raw-Mean_corpuscular_haemoglobin_concentration\",\n",
    "        \"30070_raw-Red_blood_cell_erythrocyte_distribution_width\",\n",
    "        \"30240_raw-Reticulocyte_percentage\",\n",
    "        \"30250_raw-Reticulocyte_count\",\n",
    "        \"30260_raw-Mean_reticulocyte_volume\",\n",
    "        \"30270_raw-Mean_sphered_cell_volume\",\n",
    "        \"30280_raw-Immature_reticulocyte_fraction\",\n",
    "        \"30290_raw-High_light_scatter_reticulocyte_percentage\",\n",
    "        \"30300_raw-High_light_scatter_reticulocyte_count\",\n",
    "        \"erythrocyte count\",\n",
    "        \"reticulocyte count\",\n",
    "    ]\n",
    "] = \"Red blood cells\"\n",
    "\n",
    "trait_labels.loc[\n",
    "    [\n",
    "        \"20015_raw-Sitting_height\",\n",
    "        \"21001_raw-Body_mass_index_BMI\",\n",
    "        \"21002_raw-Weight\",\n",
    "        \"23098_raw-Weight\",\n",
    "        \"23099_raw-Body_fat_percentage\",\n",
    "        \"23100_raw-Whole_body_fat_mass\",\n",
    "        \"23101_raw-Whole_body_fatfree_mass\",\n",
    "        \"23102_raw-Whole_body_water_mass\",\n",
    "        \"23104_raw-Body_mass_index_BMI\",\n",
    "        \"23105_raw-Basal_metabolic_rate\",\n",
    "        \"23111_raw-Leg_fat_percentage_right\",\n",
    "        \"23112_raw-Leg_fat_mass_right\",\n",
    "        \"23113_raw-Leg_fatfree_mass_right\",\n",
    "        \"23114_raw-Leg_predicted_mass_right\",\n",
    "        \"23115_raw-Leg_fat_percentage_left\",\n",
    "        \"23116_raw-Leg_fat_mass_left\",\n",
    "        \"23117_raw-Leg_fatfree_mass_left\",\n",
    "        \"23118_raw-Leg_predicted_mass_left\",\n",
    "        \"23119_raw-Arm_fat_percentage_right\",\n",
    "        \"23120_raw-Arm_fat_mass_right\",\n",
    "        \"23121_raw-Arm_fatfree_mass_right\",\n",
    "        \"23122_raw-Arm_predicted_mass_right\",\n",
    "        \"23123_raw-Arm_fat_percentage_left\",\n",
    "        \"23124_raw-Arm_fat_mass_left\",\n",
    "        \"23125_raw-Arm_fatfree_mass_left\",\n",
    "        \"23126_raw-Arm_predicted_mass_left\",\n",
    "        \"23127_raw-Trunk_fat_percentage\",\n",
    "        \"23128_raw-Trunk_fat_mass\",\n",
    "        \"23129_raw-Trunk_fatfree_mass\",\n",
    "        \"23130_raw-Trunk_predicted_mass\",\n",
    "        \"48_raw-Waist_circumference\",\n",
    "        \"49_raw-Hip_circumference\",\n",
    "        \"50_raw-Standing_height\",\n",
    "        \"body height\",\n",
    "    ]\n",
    "] = \"Anthropometry\"\n",
    "\n",
    "trait_labels.loc[\n",
    "    [\n",
    "        \"20003_1140861958-Treatmentmedication_code_simvastatin\",\n",
    "        \"20003_1140868226-Treatmentmedication_code_aspirin\",\n",
    "        \"20003_1140879802-Treatmentmedication_code_amlodipine\",\n",
    "        \"20003_1141194794-Treatmentmedication_code_bendroflumethiazide\",\n",
    "        \"4079_raw-Diastolic_blood_pressure_automated_reading\",\n",
    "        \"4080_raw-Systolic_blood_pressure_automated_reading\",\n",
    "        \"6150_1-Vascularheart_problems_diagnosed_by_doctor_Heart_attack\",\n",
    "        \"6150_100-Vascularheart_problems_diagnosed_by_doctor_None_of_the_above\",\n",
    "        \"6150_2-Vascularheart_problems_diagnosed_by_doctor_Angina\",\n",
    "        \"6150_4-Vascularheart_problems_diagnosed_by_doctor_High_blood_pressure\",\n",
    "        \"6153_1-Medication_for_cholesterol_blood_pressure_diabetes_or_take_exogenous_hormones_Cholesterol_lowering_medication\",\n",
    "        \"6153_100-Medication_for_cholesterol_blood_pressure_diabetes_or_take_exogenous_hormones_None_of_the_above\",\n",
    "        \"6153_2-Medication_for_cholesterol_blood_pressure_diabetes_or_take_exogenous_hormones_Blood_pressure_medication\",\n",
    "        \"6154_1-Medication_for_pain_relief_constipation_heartburn_Aspirin\",\n",
    "        \"6177_1-Medication_for_cholesterol_blood_pressure_or_diabetes_Cholesterol_lowering_medication\",\n",
    "        \"6177_100-Medication_for_cholesterol_blood_pressure_or_diabetes_None_of_the_above\",\n",
    "        \"6177_2-Medication_for_cholesterol_blood_pressure_or_diabetes_Blood_pressure_medication\",\n",
    "        \"I9_CHD-Major_coronary_heart_disease_event\",\n",
    "        \"I9_CHD_NOREV-Major_coronary_heart_disease_event_excluding_revascularizations\",\n",
    "        \"I9_CORATHER-Coronary_atherosclerosis\",\n",
    "        \"I9_IHD-Ischaemic_heart_disease_wide_definition\",\n",
    "        \"I9_MI-Myocardial_infarction\",\n",
    "        \"I9_MI_STRICT-Myocardial_infarction_strict\",\n",
    "        \"I9_UAP-Unstable_angina_pectoris\",\n",
    "        \"IX_CIRCULATORY-Diseases_of_the_circulatory_system\",\n",
    "        \"acute myocardial infarction\",\n",
    "        \"angina pectoris\",\n",
    "        \"coronary artery disease\",\n",
    "        \"hypercholesterolemia\",\n",
    "        \"hypertension\",\n",
    "        \"myocardial infarction\",\n",
    "    ]\n",
    "] = \"Cardiovascular\"\n",
    "\n",
    "trait_labels.loc[\n",
    "    [\n",
    "        \"1717-Skin_colour\",\n",
    "        \"1727-Ease_of_skin_tanning\",\n",
    "        \"1737-Childhood_sunburn_occasions\",\n",
    "        \"1747_1-Hair_colour_natural_before_greying_Blonde\",\n",
    "        \"1747_2-Hair_colour_natural_before_greying_Red\",\n",
    "        \"1747_3-Hair_colour_natural_before_greying_Light_brown\",\n",
    "        \"1747_4-Hair_colour_natural_before_greying_Dark_brown\",\n",
    "        \"1747_5-Hair_colour_natural_before_greying_Black\",\n",
    "        \"2267-Use_of_sunuv_protection\",\n",
    "        \"C3_SKIN-Malignant_neoplasm_of_skin\",\n",
    "        \"C_MELANOMA_SKIN-Malignant_melanoma_of_skin\",\n",
    "        \"C_OTHER_SKIN-Other_malignant_neoplasms_of_skin\",\n",
    "        \"C_SKIN\",\n",
    "        \"basal cell carcinoma\",\n",
    "        \"skin neoplasm\",\n",
    "    ]\n",
    "] = \"Skin/hair\""
   ]
  },
  {
   "cell_type": "code",
   "execution_count": 35,
   "metadata": {
    "execution": {
     "iopub.execute_input": "2021-02-23T21:34:31.438960Z",
     "iopub.status.busy": "2021-02-23T21:34:31.438601Z",
     "iopub.status.idle": "2021-02-23T21:34:31.447897Z",
     "shell.execute_reply": "2021-02-23T21:34:31.447544Z"
    },
    "papermill": {
     "duration": 0.031209,
     "end_time": "2021-02-23T21:34:31.447988",
     "exception": false,
     "start_time": "2021-02-23T21:34:31.416779",
     "status": "completed"
    },
    "tags": []
   },
   "outputs": [
    {
     "data": {
      "text/plain": [
       "100001_raw-Food_weight                           None\n",
       "100002_raw-Energy                                None\n",
       "100003_raw-Protein                               None\n",
       "100004_raw-Fat                                   None\n",
       "100005_raw-Carbohydrate                          None\n",
       "                                                 ... \n",
       "wellbeing measurement AND family relationship    None\n",
       "wheezing                                         None\n",
       "whooping cough                                   None\n",
       "worry measurement                                None\n",
       "wrist fracture                                   None\n",
       "Length: 3749, dtype: object"
      ]
     },
     "execution_count": 35,
     "metadata": {},
     "output_type": "execute_result"
    }
   ],
   "source": [
    "trait_labels"
   ]
  },
  {
   "cell_type": "code",
   "execution_count": 36,
   "metadata": {
    "execution": {
     "iopub.execute_input": "2021-02-23T21:34:31.491406Z",
     "iopub.status.busy": "2021-02-23T21:34:31.491042Z",
     "iopub.status.idle": "2021-02-23T21:34:31.499763Z",
     "shell.execute_reply": "2021-02-23T21:34:31.499377Z"
    },
    "papermill": {
     "duration": 0.03137,
     "end_time": "2021-02-23T21:34:31.499852",
     "exception": false,
     "start_time": "2021-02-23T21:34:31.468482",
     "status": "completed"
    },
    "tags": []
   },
   "outputs": [],
   "source": [
    "clustrees_df = clustrees_df.assign(labels=trait_labels)"
   ]
  },
  {
   "cell_type": "markdown",
   "metadata": {
    "papermill": {
     "duration": 0.019776,
     "end_time": "2021-02-23T21:34:31.539892",
     "exception": false,
     "start_time": "2021-02-23T21:34:31.520116",
     "status": "completed"
    },
    "tags": []
   },
   "source": [
    "# Save"
   ]
  },
  {
   "cell_type": "code",
   "execution_count": 37,
   "metadata": {
    "execution": {
     "iopub.execute_input": "2021-02-23T21:34:31.581900Z",
     "iopub.status.busy": "2021-02-23T21:34:31.581532Z",
     "iopub.status.idle": "2021-02-23T21:34:31.590300Z",
     "shell.execute_reply": "2021-02-23T21:34:31.589927Z"
    },
    "papermill": {
     "duration": 0.030841,
     "end_time": "2021-02-23T21:34:31.590387",
     "exception": false,
     "start_time": "2021-02-23T21:34:31.559546",
     "status": "completed"
    },
    "tags": []
   },
   "outputs": [
    {
     "data": {
      "text/plain": [
       "PosixPath('/home/miltondp/projects/labs/greenelab/phenoplier/base3/results/clustering/consensus_clustering/clustering_tree_data.tsv')"
      ]
     },
     "metadata": {},
     "output_type": "display_data"
    }
   ],
   "source": [
    "output_file = Path(CONSENSUS_CLUSTERING_DIR, \"clustering_tree_data.tsv\").resolve()\n",
    "display(output_file)"
   ]
  },
  {
   "cell_type": "code",
   "execution_count": 38,
   "metadata": {
    "execution": {
     "iopub.execute_input": "2021-02-23T21:34:31.634302Z",
     "iopub.status.busy": "2021-02-23T21:34:31.633909Z",
     "iopub.status.idle": "2021-02-23T21:34:31.699596Z",
     "shell.execute_reply": "2021-02-23T21:34:31.699205Z"
    },
    "papermill": {
     "duration": 0.088336,
     "end_time": "2021-02-23T21:34:31.699686",
     "exception": false,
     "start_time": "2021-02-23T21:34:31.611350",
     "status": "completed"
    },
    "tags": []
   },
   "outputs": [],
   "source": [
    "clustrees_df.to_csv(output_file, sep=\"\\t\")"
   ]
  },
  {
   "cell_type": "code",
   "execution_count": null,
   "metadata": {
    "papermill": {
     "duration": 0.020282,
     "end_time": "2021-02-23T21:34:31.740843",
     "exception": false,
     "start_time": "2021-02-23T21:34:31.720561",
     "status": "completed"
    },
    "tags": []
   },
   "outputs": [],
   "source": []
  }
 ],
 "metadata": {
  "jupytext": {
   "cell_metadata_filter": "all,-execution,-papermill,-trusted",
   "formats": "ipynb,py//py:percent"
  },
  "kernelspec": {
   "display_name": "Python 3",
   "language": "python",
   "name": "python3"
  },
  "language_info": {
   "codemirror_mode": {
    "name": "ipython",
    "version": 3
   },
   "file_extension": ".py",
   "mimetype": "text/x-python",
   "name": "python",
   "nbconvert_exporter": "python",
   "pygments_lexer": "ipython3",
   "version": "3.8.6"
  },
  "papermill": {
   "default_parameters": {},
   "duration": 3.685957,
   "end_time": "2021-02-23T21:34:32.068741",
   "environment_variables": {},
   "exception": null,
   "input_path": "16_consensus_clustering/040_04-clustering_trees_data.ipynb",
   "output_path": "16_consensus_clustering/040_04-clustering_trees_data.run.ipynb",
   "parameters": {},
   "start_time": "2021-02-23T21:34:28.382784",
   "version": "2.2.2"
  },
  "toc-autonumbering": true,
  "toc-showcode": false,
  "toc-showmarkdowntxt": false,
  "toc-showtags": false
 },
 "nbformat": 4,
 "nbformat_minor": 4
}
