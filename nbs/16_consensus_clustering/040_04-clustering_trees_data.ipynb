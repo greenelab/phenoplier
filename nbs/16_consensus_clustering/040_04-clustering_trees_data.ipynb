{
 "cells": [
  {
   "cell_type": "markdown",
   "metadata": {
    "papermill": {
     "duration": 0.017814,
     "end_time": "2021-05-08T22:58:52.774348",
     "exception": false,
     "start_time": "2021-05-08T22:58:52.756534",
     "status": "completed"
    },
    "tags": []
   },
   "source": [
    "# Description"
   ]
  },
  {
   "cell_type": "markdown",
   "metadata": {
    "papermill": {
     "duration": 0.013527,
     "end_time": "2021-05-08T22:58:52.801297",
     "exception": false,
     "start_time": "2021-05-08T22:58:52.787770",
     "status": "completed"
    },
    "tags": []
   },
   "source": [
    "It prepares the data to create a clustering tree visualization (using the R package `clustree`)."
   ]
  },
  {
   "cell_type": "markdown",
   "metadata": {
    "papermill": {
     "duration": 0.013358,
     "end_time": "2021-05-08T22:58:52.828133",
     "exception": false,
     "start_time": "2021-05-08T22:58:52.814775",
     "status": "completed"
    },
    "tags": []
   },
   "source": [
    "# Modules loading"
   ]
  },
  {
   "cell_type": "code",
   "execution_count": 1,
   "metadata": {
    "execution": {
     "iopub.execute_input": "2021-05-08T22:58:52.861175Z",
     "iopub.status.busy": "2021-05-08T22:58:52.860807Z",
     "iopub.status.idle": "2021-05-08T22:58:52.868163Z",
     "shell.execute_reply": "2021-05-08T22:58:52.867741Z"
    },
    "papermill": {
     "duration": 0.026417,
     "end_time": "2021-05-08T22:58:52.868256",
     "exception": false,
     "start_time": "2021-05-08T22:58:52.841839",
     "status": "completed"
    },
    "tags": []
   },
   "outputs": [],
   "source": [
    "%load_ext autoreload\n",
    "%autoreload 2"
   ]
  },
  {
   "cell_type": "code",
   "execution_count": 2,
   "metadata": {
    "execution": {
     "iopub.execute_input": "2021-05-08T22:58:52.898312Z",
     "iopub.status.busy": "2021-05-08T22:58:52.897952Z",
     "iopub.status.idle": "2021-05-08T22:58:53.116612Z",
     "shell.execute_reply": "2021-05-08T22:58:53.116282Z"
    },
    "papermill": {
     "duration": 0.234469,
     "end_time": "2021-05-08T22:58:53.116719",
     "exception": false,
     "start_time": "2021-05-08T22:58:52.882250",
     "status": "completed"
    },
    "tags": []
   },
   "outputs": [],
   "source": [
    "from IPython.display import display\n",
    "from pathlib import Path\n",
    "\n",
    "import numpy as np\n",
    "import pandas as pd\n",
    "\n",
    "from utils import generate_result_set_name\n",
    "import conf"
   ]
  },
  {
   "cell_type": "markdown",
   "metadata": {
    "papermill": {
     "duration": 0.013282,
     "end_time": "2021-05-08T22:58:53.144189",
     "exception": false,
     "start_time": "2021-05-08T22:58:53.130907",
     "status": "completed"
    },
    "tags": []
   },
   "source": [
    "# Settings"
   ]
  },
  {
   "cell_type": "code",
   "execution_count": 3,
   "metadata": {
    "execution": {
     "iopub.execute_input": "2021-05-08T22:58:53.173650Z",
     "iopub.status.busy": "2021-05-08T22:58:53.173279Z",
     "iopub.status.idle": "2021-05-08T22:58:53.185265Z",
     "shell.execute_reply": "2021-05-08T22:58:53.184892Z"
    },
    "papermill": {
     "duration": 0.027749,
     "end_time": "2021-05-08T22:58:53.185349",
     "exception": false,
     "start_time": "2021-05-08T22:58:53.157600",
     "status": "completed"
    },
    "tags": []
   },
   "outputs": [
    {
     "data": {
      "text/plain": [
       "PosixPath('/home/miltondp/projects/labs/greenelab/phenoplier/base/results/clustering/consensus_clustering')"
      ]
     },
     "metadata": {},
     "output_type": "display_data"
    }
   ],
   "source": [
    "CONSENSUS_CLUSTERING_DIR = Path(\n",
    "    conf.RESULTS[\"CLUSTERING_DIR\"], \"consensus_clustering\"\n",
    ").resolve()\n",
    "\n",
    "display(CONSENSUS_CLUSTERING_DIR)"
   ]
  },
  {
   "cell_type": "markdown",
   "metadata": {
    "papermill": {
     "duration": 0.014009,
     "end_time": "2021-05-08T22:58:53.214005",
     "exception": false,
     "start_time": "2021-05-08T22:58:53.199996",
     "status": "completed"
    },
    "tags": []
   },
   "source": [
    "# Load data"
   ]
  },
  {
   "cell_type": "markdown",
   "metadata": {
    "papermill": {
     "duration": 0.013473,
     "end_time": "2021-05-08T22:58:53.241216",
     "exception": false,
     "start_time": "2021-05-08T22:58:53.227743",
     "status": "completed"
    },
    "tags": []
   },
   "source": [
    "## PCA"
   ]
  },
  {
   "cell_type": "code",
   "execution_count": 4,
   "metadata": {
    "execution": {
     "iopub.execute_input": "2021-05-08T22:58:53.271688Z",
     "iopub.status.busy": "2021-05-08T22:58:53.271334Z",
     "iopub.status.idle": "2021-05-08T22:58:53.278527Z",
     "shell.execute_reply": "2021-05-08T22:58:53.278165Z"
    },
    "papermill": {
     "duration": 0.02338,
     "end_time": "2021-05-08T22:58:53.278610",
     "exception": false,
     "start_time": "2021-05-08T22:58:53.255230",
     "status": "completed"
    },
    "tags": []
   },
   "outputs": [],
   "source": [
    "INPUT_SUBSET = \"pca\""
   ]
  },
  {
   "cell_type": "code",
   "execution_count": 5,
   "metadata": {
    "execution": {
     "iopub.execute_input": "2021-05-08T22:58:53.310378Z",
     "iopub.status.busy": "2021-05-08T22:58:53.310003Z",
     "iopub.status.idle": "2021-05-08T22:58:53.317203Z",
     "shell.execute_reply": "2021-05-08T22:58:53.316835Z"
    },
    "papermill": {
     "duration": 0.02386,
     "end_time": "2021-05-08T22:58:53.317289",
     "exception": false,
     "start_time": "2021-05-08T22:58:53.293429",
     "status": "completed"
    },
    "tags": []
   },
   "outputs": [],
   "source": [
    "INPUT_STEM = \"z_score_std-projection-smultixcan-efo_partial-mashr-zscores\""
   ]
  },
  {
   "cell_type": "code",
   "execution_count": 6,
   "metadata": {
    "execution": {
     "iopub.execute_input": "2021-05-08T22:58:53.349546Z",
     "iopub.status.busy": "2021-05-08T22:58:53.349181Z",
     "iopub.status.idle": "2021-05-08T22:58:53.356091Z",
     "shell.execute_reply": "2021-05-08T22:58:53.356380Z"
    },
    "papermill": {
     "duration": 0.024126,
     "end_time": "2021-05-08T22:58:53.356479",
     "exception": false,
     "start_time": "2021-05-08T22:58:53.332353",
     "status": "completed"
    },
    "tags": []
   },
   "outputs": [],
   "source": [
    "DR_OPTIONS = {\n",
    "    \"n_components\": 50,\n",
    "    \"svd_solver\": \"full\",\n",
    "    \"random_state\": 0,\n",
    "}"
   ]
  },
  {
   "cell_type": "code",
   "execution_count": 7,
   "metadata": {
    "execution": {
     "iopub.execute_input": "2021-05-08T22:58:53.387638Z",
     "iopub.status.busy": "2021-05-08T22:58:53.387269Z",
     "iopub.status.idle": "2021-05-08T22:58:53.396472Z",
     "shell.execute_reply": "2021-05-08T22:58:53.396109Z"
    },
    "papermill": {
     "duration": 0.025513,
     "end_time": "2021-05-08T22:58:53.396553",
     "exception": false,
     "start_time": "2021-05-08T22:58:53.371040",
     "status": "completed"
    },
    "tags": []
   },
   "outputs": [
    {
     "data": {
      "text/plain": [
       "PosixPath('/home/miltondp/projects/labs/greenelab/phenoplier/base/results/data_transformations/pca/pca-z_score_std-projection-smultixcan-efo_partial-mashr-zscores-n_components_50-random_state_0-svd_solver_full.pkl')"
      ]
     },
     "metadata": {},
     "output_type": "display_data"
    },
    {
     "data": {
      "text/plain": [
       "'pca-z_score_std-projection-smultixcan-efo_partial-mashr-zscores-n_components_50-random_state_0-svd_solver_full'"
      ]
     },
     "metadata": {},
     "output_type": "display_data"
    }
   ],
   "source": [
    "input_filepath = Path(\n",
    "    conf.RESULTS[\"DATA_TRANSFORMATIONS_DIR\"],\n",
    "    INPUT_SUBSET,\n",
    "    generate_result_set_name(\n",
    "        DR_OPTIONS, prefix=f\"{INPUT_SUBSET}-{INPUT_STEM}-\", suffix=\".pkl\"\n",
    "    ),\n",
    ").resolve()\n",
    "display(input_filepath)\n",
    "\n",
    "assert input_filepath.exists(), \"Input file does not exist\"\n",
    "\n",
    "input_filepath_stem = input_filepath.stem\n",
    "display(input_filepath_stem)"
   ]
  },
  {
   "cell_type": "code",
   "execution_count": 8,
   "metadata": {
    "execution": {
     "iopub.execute_input": "2021-05-08T22:58:53.428164Z",
     "iopub.status.busy": "2021-05-08T22:58:53.427796Z",
     "iopub.status.idle": "2021-05-08T22:58:53.437197Z",
     "shell.execute_reply": "2021-05-08T22:58:53.436881Z"
    },
    "papermill": {
     "duration": 0.026175,
     "end_time": "2021-05-08T22:58:53.437285",
     "exception": false,
     "start_time": "2021-05-08T22:58:53.411110",
     "status": "completed"
    },
    "tags": []
   },
   "outputs": [],
   "source": [
    "data_pca = pd.read_pickle(input_filepath).iloc[:, :5]"
   ]
  },
  {
   "cell_type": "code",
   "execution_count": 9,
   "metadata": {
    "execution": {
     "iopub.execute_input": "2021-05-08T22:58:53.469439Z",
     "iopub.status.busy": "2021-05-08T22:58:53.469062Z",
     "iopub.status.idle": "2021-05-08T22:58:53.477311Z",
     "shell.execute_reply": "2021-05-08T22:58:53.476942Z"
    },
    "papermill": {
     "duration": 0.0251,
     "end_time": "2021-05-08T22:58:53.477395",
     "exception": false,
     "start_time": "2021-05-08T22:58:53.452295",
     "status": "completed"
    },
    "tags": []
   },
   "outputs": [
    {
     "data": {
      "text/plain": [
       "(3752, 5)"
      ]
     },
     "execution_count": 9,
     "metadata": {},
     "output_type": "execute_result"
    }
   ],
   "source": [
    "data_pca.shape"
   ]
  },
  {
   "cell_type": "code",
   "execution_count": 10,
   "metadata": {
    "execution": {
     "iopub.execute_input": "2021-05-08T22:58:53.510705Z",
     "iopub.status.busy": "2021-05-08T22:58:53.510347Z",
     "iopub.status.idle": "2021-05-08T22:58:53.522371Z",
     "shell.execute_reply": "2021-05-08T22:58:53.522653Z"
    },
    "papermill": {
     "duration": 0.02988,
     "end_time": "2021-05-08T22:58:53.522760",
     "exception": false,
     "start_time": "2021-05-08T22:58:53.492880",
     "status": "completed"
    },
    "tags": []
   },
   "outputs": [
    {
     "data": {
      "text/html": [
       "<div>\n",
       "<style scoped>\n",
       "    .dataframe tbody tr th:only-of-type {\n",
       "        vertical-align: middle;\n",
       "    }\n",
       "\n",
       "    .dataframe tbody tr th {\n",
       "        vertical-align: top;\n",
       "    }\n",
       "\n",
       "    .dataframe thead th {\n",
       "        text-align: right;\n",
       "    }\n",
       "</style>\n",
       "<table border=\"1\" class=\"dataframe\">\n",
       "  <thead>\n",
       "    <tr style=\"text-align: right;\">\n",
       "      <th></th>\n",
       "      <th>PCA1</th>\n",
       "      <th>PCA2</th>\n",
       "      <th>PCA3</th>\n",
       "      <th>PCA4</th>\n",
       "      <th>PCA5</th>\n",
       "    </tr>\n",
       "  </thead>\n",
       "  <tbody>\n",
       "    <tr>\n",
       "      <th>100001_raw-Food_weight</th>\n",
       "      <td>0.805216</td>\n",
       "      <td>-0.865390</td>\n",
       "      <td>0.699480</td>\n",
       "      <td>-0.065976</td>\n",
       "      <td>0.999617</td>\n",
       "    </tr>\n",
       "    <tr>\n",
       "      <th>100002_raw-Energy</th>\n",
       "      <td>0.588507</td>\n",
       "      <td>-1.491772</td>\n",
       "      <td>1.756340</td>\n",
       "      <td>-3.593295</td>\n",
       "      <td>2.100607</td>\n",
       "    </tr>\n",
       "    <tr>\n",
       "      <th>100003_raw-Protein</th>\n",
       "      <td>1.910160</td>\n",
       "      <td>-1.873687</td>\n",
       "      <td>1.876677</td>\n",
       "      <td>-3.832557</td>\n",
       "      <td>1.240704</td>\n",
       "    </tr>\n",
       "    <tr>\n",
       "      <th>100004_raw-Fat</th>\n",
       "      <td>0.750799</td>\n",
       "      <td>-0.294733</td>\n",
       "      <td>1.317710</td>\n",
       "      <td>-1.346081</td>\n",
       "      <td>2.006403</td>\n",
       "    </tr>\n",
       "    <tr>\n",
       "      <th>100005_raw-Carbohydrate</th>\n",
       "      <td>-0.530044</td>\n",
       "      <td>-0.007398</td>\n",
       "      <td>0.611418</td>\n",
       "      <td>-3.604094</td>\n",
       "      <td>2.227872</td>\n",
       "    </tr>\n",
       "  </tbody>\n",
       "</table>\n",
       "</div>"
      ],
      "text/plain": [
       "                             PCA1      PCA2      PCA3      PCA4      PCA5\n",
       "100001_raw-Food_weight   0.805216 -0.865390  0.699480 -0.065976  0.999617\n",
       "100002_raw-Energy        0.588507 -1.491772  1.756340 -3.593295  2.100607\n",
       "100003_raw-Protein       1.910160 -1.873687  1.876677 -3.832557  1.240704\n",
       "100004_raw-Fat           0.750799 -0.294733  1.317710 -1.346081  2.006403\n",
       "100005_raw-Carbohydrate -0.530044 -0.007398  0.611418 -3.604094  2.227872"
      ]
     },
     "execution_count": 10,
     "metadata": {},
     "output_type": "execute_result"
    }
   ],
   "source": [
    "data_pca.head()"
   ]
  },
  {
   "cell_type": "markdown",
   "metadata": {
    "papermill": {
     "duration": 0.014995,
     "end_time": "2021-05-08T22:58:53.553199",
     "exception": false,
     "start_time": "2021-05-08T22:58:53.538204",
     "status": "completed"
    },
    "tags": []
   },
   "source": [
    "## UMAP"
   ]
  },
  {
   "cell_type": "code",
   "execution_count": 11,
   "metadata": {
    "execution": {
     "iopub.execute_input": "2021-05-08T22:58:53.585034Z",
     "iopub.status.busy": "2021-05-08T22:58:53.584599Z",
     "iopub.status.idle": "2021-05-08T22:58:53.591714Z",
     "shell.execute_reply": "2021-05-08T22:58:53.591347Z"
    },
    "papermill": {
     "duration": 0.02419,
     "end_time": "2021-05-08T22:58:53.591810",
     "exception": false,
     "start_time": "2021-05-08T22:58:53.567620",
     "status": "completed"
    },
    "tags": []
   },
   "outputs": [],
   "source": [
    "INPUT_SUBSET = \"umap\""
   ]
  },
  {
   "cell_type": "code",
   "execution_count": 12,
   "metadata": {
    "execution": {
     "iopub.execute_input": "2021-05-08T22:58:53.625210Z",
     "iopub.status.busy": "2021-05-08T22:58:53.624851Z",
     "iopub.status.idle": "2021-05-08T22:58:53.631844Z",
     "shell.execute_reply": "2021-05-08T22:58:53.631527Z"
    },
    "papermill": {
     "duration": 0.024432,
     "end_time": "2021-05-08T22:58:53.631928",
     "exception": false,
     "start_time": "2021-05-08T22:58:53.607496",
     "status": "completed"
    },
    "tags": []
   },
   "outputs": [],
   "source": [
    "INPUT_STEM = \"z_score_std-projection-smultixcan-efo_partial-mashr-zscores\""
   ]
  },
  {
   "cell_type": "code",
   "execution_count": 13,
   "metadata": {
    "execution": {
     "iopub.execute_input": "2021-05-08T22:58:53.665293Z",
     "iopub.status.busy": "2021-05-08T22:58:53.664925Z",
     "iopub.status.idle": "2021-05-08T22:58:53.672133Z",
     "shell.execute_reply": "2021-05-08T22:58:53.671767Z"
    },
    "papermill": {
     "duration": 0.024909,
     "end_time": "2021-05-08T22:58:53.672216",
     "exception": false,
     "start_time": "2021-05-08T22:58:53.647307",
     "status": "completed"
    },
    "tags": []
   },
   "outputs": [],
   "source": [
    "DR_OPTIONS = {\n",
    "    \"n_components\": 5,\n",
    "    \"metric\": \"euclidean\",\n",
    "    \"n_neighbors\": 15,\n",
    "    \"random_state\": 0,\n",
    "}"
   ]
  },
  {
   "cell_type": "code",
   "execution_count": 14,
   "metadata": {
    "execution": {
     "iopub.execute_input": "2021-05-08T22:58:53.705397Z",
     "iopub.status.busy": "2021-05-08T22:58:53.705023Z",
     "iopub.status.idle": "2021-05-08T22:58:53.713894Z",
     "shell.execute_reply": "2021-05-08T22:58:53.714179Z"
    },
    "papermill": {
     "duration": 0.026946,
     "end_time": "2021-05-08T22:58:53.714284",
     "exception": false,
     "start_time": "2021-05-08T22:58:53.687338",
     "status": "completed"
    },
    "tags": []
   },
   "outputs": [
    {
     "data": {
      "text/plain": [
       "PosixPath('/home/miltondp/projects/labs/greenelab/phenoplier/base/results/data_transformations/umap/umap-z_score_std-projection-smultixcan-efo_partial-mashr-zscores-metric_euclidean-n_components_5-n_neighbors_15-random_state_0.pkl')"
      ]
     },
     "metadata": {},
     "output_type": "display_data"
    },
    {
     "data": {
      "text/plain": [
       "'umap-z_score_std-projection-smultixcan-efo_partial-mashr-zscores-metric_euclidean-n_components_5-n_neighbors_15-random_state_0'"
      ]
     },
     "metadata": {},
     "output_type": "display_data"
    }
   ],
   "source": [
    "input_filepath = Path(\n",
    "    conf.RESULTS[\"DATA_TRANSFORMATIONS_DIR\"],\n",
    "    INPUT_SUBSET,\n",
    "    generate_result_set_name(\n",
    "        DR_OPTIONS, prefix=f\"{INPUT_SUBSET}-{INPUT_STEM}-\", suffix=\".pkl\"\n",
    "    ),\n",
    ").resolve()\n",
    "display(input_filepath)\n",
    "\n",
    "assert input_filepath.exists(), \"Input file does not exist\"\n",
    "\n",
    "input_filepath_stem = input_filepath.stem\n",
    "display(input_filepath_stem)"
   ]
  },
  {
   "cell_type": "code",
   "execution_count": 15,
   "metadata": {
    "execution": {
     "iopub.execute_input": "2021-05-08T22:58:53.748825Z",
     "iopub.status.busy": "2021-05-08T22:58:53.748426Z",
     "iopub.status.idle": "2021-05-08T22:58:53.756337Z",
     "shell.execute_reply": "2021-05-08T22:58:53.756617Z"
    },
    "papermill": {
     "duration": 0.026106,
     "end_time": "2021-05-08T22:58:53.756785",
     "exception": false,
     "start_time": "2021-05-08T22:58:53.730679",
     "status": "completed"
    },
    "tags": []
   },
   "outputs": [],
   "source": [
    "data_umap = pd.read_pickle(input_filepath)"
   ]
  },
  {
   "cell_type": "code",
   "execution_count": 16,
   "metadata": {
    "execution": {
     "iopub.execute_input": "2021-05-08T22:58:53.790779Z",
     "iopub.status.busy": "2021-05-08T22:58:53.790420Z",
     "iopub.status.idle": "2021-05-08T22:58:53.798557Z",
     "shell.execute_reply": "2021-05-08T22:58:53.798188Z"
    },
    "papermill": {
     "duration": 0.025859,
     "end_time": "2021-05-08T22:58:53.798641",
     "exception": false,
     "start_time": "2021-05-08T22:58:53.772782",
     "status": "completed"
    },
    "tags": []
   },
   "outputs": [
    {
     "data": {
      "text/plain": [
       "(3752, 5)"
      ]
     },
     "execution_count": 16,
     "metadata": {},
     "output_type": "execute_result"
    }
   ],
   "source": [
    "data_umap.shape"
   ]
  },
  {
   "cell_type": "code",
   "execution_count": 17,
   "metadata": {
    "execution": {
     "iopub.execute_input": "2021-05-08T22:58:53.831635Z",
     "iopub.status.busy": "2021-05-08T22:58:53.831279Z",
     "iopub.status.idle": "2021-05-08T22:58:53.842932Z",
     "shell.execute_reply": "2021-05-08T22:58:53.842571Z"
    },
    "papermill": {
     "duration": 0.028883,
     "end_time": "2021-05-08T22:58:53.843015",
     "exception": false,
     "start_time": "2021-05-08T22:58:53.814132",
     "status": "completed"
    },
    "tags": []
   },
   "outputs": [
    {
     "data": {
      "text/html": [
       "<div>\n",
       "<style scoped>\n",
       "    .dataframe tbody tr th:only-of-type {\n",
       "        vertical-align: middle;\n",
       "    }\n",
       "\n",
       "    .dataframe tbody tr th {\n",
       "        vertical-align: top;\n",
       "    }\n",
       "\n",
       "    .dataframe thead th {\n",
       "        text-align: right;\n",
       "    }\n",
       "</style>\n",
       "<table border=\"1\" class=\"dataframe\">\n",
       "  <thead>\n",
       "    <tr style=\"text-align: right;\">\n",
       "      <th></th>\n",
       "      <th>UMAP1</th>\n",
       "      <th>UMAP2</th>\n",
       "      <th>UMAP3</th>\n",
       "      <th>UMAP4</th>\n",
       "      <th>UMAP5</th>\n",
       "    </tr>\n",
       "  </thead>\n",
       "  <tbody>\n",
       "    <tr>\n",
       "      <th>100001_raw-Food_weight</th>\n",
       "      <td>0.426554</td>\n",
       "      <td>0.670532</td>\n",
       "      <td>7.363805</td>\n",
       "      <td>1.171837</td>\n",
       "      <td>6.297295</td>\n",
       "    </tr>\n",
       "    <tr>\n",
       "      <th>100002_raw-Energy</th>\n",
       "      <td>-1.605179</td>\n",
       "      <td>0.815699</td>\n",
       "      <td>8.288521</td>\n",
       "      <td>0.990394</td>\n",
       "      <td>6.817351</td>\n",
       "    </tr>\n",
       "    <tr>\n",
       "      <th>100003_raw-Protein</th>\n",
       "      <td>-1.656178</td>\n",
       "      <td>0.788297</td>\n",
       "      <td>8.355906</td>\n",
       "      <td>1.017072</td>\n",
       "      <td>6.845651</td>\n",
       "    </tr>\n",
       "    <tr>\n",
       "      <th>100004_raw-Fat</th>\n",
       "      <td>-1.508325</td>\n",
       "      <td>0.802536</td>\n",
       "      <td>8.328274</td>\n",
       "      <td>1.033939</td>\n",
       "      <td>6.709319</td>\n",
       "    </tr>\n",
       "    <tr>\n",
       "      <th>100005_raw-Carbohydrate</th>\n",
       "      <td>-1.617872</td>\n",
       "      <td>0.812711</td>\n",
       "      <td>8.307973</td>\n",
       "      <td>1.020575</td>\n",
       "      <td>6.825944</td>\n",
       "    </tr>\n",
       "  </tbody>\n",
       "</table>\n",
       "</div>"
      ],
      "text/plain": [
       "                            UMAP1     UMAP2     UMAP3     UMAP4     UMAP5\n",
       "100001_raw-Food_weight   0.426554  0.670532  7.363805  1.171837  6.297295\n",
       "100002_raw-Energy       -1.605179  0.815699  8.288521  0.990394  6.817351\n",
       "100003_raw-Protein      -1.656178  0.788297  8.355906  1.017072  6.845651\n",
       "100004_raw-Fat          -1.508325  0.802536  8.328274  1.033939  6.709319\n",
       "100005_raw-Carbohydrate -1.617872  0.812711  8.307973  1.020575  6.825944"
      ]
     },
     "execution_count": 17,
     "metadata": {},
     "output_type": "execute_result"
    }
   ],
   "source": [
    "data_umap.head()"
   ]
  },
  {
   "cell_type": "markdown",
   "metadata": {
    "papermill": {
     "duration": 0.015201,
     "end_time": "2021-05-08T22:58:53.873905",
     "exception": false,
     "start_time": "2021-05-08T22:58:53.858704",
     "status": "completed"
    },
    "tags": []
   },
   "source": [
    "# Load selected best partitions"
   ]
  },
  {
   "cell_type": "code",
   "execution_count": 18,
   "metadata": {
    "execution": {
     "iopub.execute_input": "2021-05-08T22:58:53.907017Z",
     "iopub.status.busy": "2021-05-08T22:58:53.906659Z",
     "iopub.status.idle": "2021-05-08T22:58:53.914578Z",
     "shell.execute_reply": "2021-05-08T22:58:53.914216Z"
    },
    "papermill": {
     "duration": 0.025573,
     "end_time": "2021-05-08T22:58:53.914660",
     "exception": false,
     "start_time": "2021-05-08T22:58:53.889087",
     "status": "completed"
    },
    "tags": []
   },
   "outputs": [
    {
     "data": {
      "text/plain": [
       "PosixPath('/home/miltondp/projects/labs/greenelab/phenoplier/base/results/clustering/consensus_clustering/best_partitions_by_k.pkl')"
      ]
     },
     "metadata": {},
     "output_type": "display_data"
    }
   ],
   "source": [
    "input_file = Path(CONSENSUS_CLUSTERING_DIR, \"best_partitions_by_k.pkl\").resolve()\n",
    "display(input_file)"
   ]
  },
  {
   "cell_type": "code",
   "execution_count": 19,
   "metadata": {
    "execution": {
     "iopub.execute_input": "2021-05-08T22:58:53.950115Z",
     "iopub.status.busy": "2021-05-08T22:58:53.949749Z",
     "iopub.status.idle": "2021-05-08T22:58:53.957922Z",
     "shell.execute_reply": "2021-05-08T22:58:53.958221Z"
    },
    "papermill": {
     "duration": 0.02717,
     "end_time": "2021-05-08T22:58:53.958326",
     "exception": false,
     "start_time": "2021-05-08T22:58:53.931156",
     "status": "completed"
    },
    "tags": []
   },
   "outputs": [],
   "source": [
    "best_partitions = pd.read_pickle(input_file)"
   ]
  },
  {
   "cell_type": "code",
   "execution_count": 20,
   "metadata": {
    "execution": {
     "iopub.execute_input": "2021-05-08T22:58:53.993875Z",
     "iopub.status.busy": "2021-05-08T22:58:53.993519Z",
     "iopub.status.idle": "2021-05-08T22:58:54.001223Z",
     "shell.execute_reply": "2021-05-08T22:58:54.000904Z"
    },
    "papermill": {
     "duration": 0.026349,
     "end_time": "2021-05-08T22:58:54.001308",
     "exception": false,
     "start_time": "2021-05-08T22:58:53.974959",
     "status": "completed"
    },
    "tags": []
   },
   "outputs": [
    {
     "data": {
      "text/plain": [
       "(59, 4)"
      ]
     },
     "execution_count": 20,
     "metadata": {},
     "output_type": "execute_result"
    }
   ],
   "source": [
    "best_partitions.shape"
   ]
  },
  {
   "cell_type": "code",
   "execution_count": 21,
   "metadata": {
    "execution": {
     "iopub.execute_input": "2021-05-08T22:58:54.036959Z",
     "iopub.status.busy": "2021-05-08T22:58:54.036538Z",
     "iopub.status.idle": "2021-05-08T22:58:54.052778Z",
     "shell.execute_reply": "2021-05-08T22:58:54.052376Z"
    },
    "papermill": {
     "duration": 0.034728,
     "end_time": "2021-05-08T22:58:54.052864",
     "exception": false,
     "start_time": "2021-05-08T22:58:54.018136",
     "status": "completed"
    },
    "tags": []
   },
   "outputs": [
    {
     "data": {
      "text/html": [
       "<div>\n",
       "<style scoped>\n",
       "    .dataframe tbody tr th:only-of-type {\n",
       "        vertical-align: middle;\n",
       "    }\n",
       "\n",
       "    .dataframe tbody tr th {\n",
       "        vertical-align: top;\n",
       "    }\n",
       "\n",
       "    .dataframe thead th {\n",
       "        text-align: right;\n",
       "    }\n",
       "</style>\n",
       "<table border=\"1\" class=\"dataframe\">\n",
       "  <thead>\n",
       "    <tr style=\"text-align: right;\">\n",
       "      <th></th>\n",
       "      <th>method</th>\n",
       "      <th>partition</th>\n",
       "      <th>ari_median</th>\n",
       "      <th>selected</th>\n",
       "    </tr>\n",
       "    <tr>\n",
       "      <th>k</th>\n",
       "      <th></th>\n",
       "      <th></th>\n",
       "      <th></th>\n",
       "      <th></th>\n",
       "    </tr>\n",
       "  </thead>\n",
       "  <tbody>\n",
       "    <tr>\n",
       "      <th>14</th>\n",
       "      <td>scc_025</td>\n",
       "      <td>[0, 0, 0, 0, 0, 0, 0, 0, 0, 0, 0, 0, 0, 0, 0, ...</td>\n",
       "      <td>0.090117</td>\n",
       "      <td>True</td>\n",
       "    </tr>\n",
       "    <tr>\n",
       "      <th>22</th>\n",
       "      <td>scc_020</td>\n",
       "      <td>[13, 18, 18, 18, 18, 18, 18, 18, 18, 13, 18, 1...</td>\n",
       "      <td>0.090100</td>\n",
       "      <td>True</td>\n",
       "    </tr>\n",
       "    <tr>\n",
       "      <th>13</th>\n",
       "      <td>scc_025</td>\n",
       "      <td>[0, 0, 0, 0, 0, 0, 0, 0, 0, 0, 0, 0, 0, 0, 0, ...</td>\n",
       "      <td>0.089920</td>\n",
       "      <td>True</td>\n",
       "    </tr>\n",
       "    <tr>\n",
       "      <th>12</th>\n",
       "      <td>scc_025</td>\n",
       "      <td>[9, 9, 9, 9, 9, 9, 9, 9, 9, 9, 9, 9, 9, 9, 9, ...</td>\n",
       "      <td>0.089870</td>\n",
       "      <td>True</td>\n",
       "    </tr>\n",
       "    <tr>\n",
       "      <th>11</th>\n",
       "      <td>scc_025</td>\n",
       "      <td>[0, 0, 0, 0, 0, 0, 0, 0, 0, 0, 0, 0, 0, 0, 0, ...</td>\n",
       "      <td>0.089616</td>\n",
       "      <td>True</td>\n",
       "    </tr>\n",
       "  </tbody>\n",
       "</table>\n",
       "</div>"
      ],
      "text/plain": [
       "     method                                          partition  ari_median  \\\n",
       "k                                                                            \n",
       "14  scc_025  [0, 0, 0, 0, 0, 0, 0, 0, 0, 0, 0, 0, 0, 0, 0, ...    0.090117   \n",
       "22  scc_020  [13, 18, 18, 18, 18, 18, 18, 18, 18, 13, 18, 1...    0.090100   \n",
       "13  scc_025  [0, 0, 0, 0, 0, 0, 0, 0, 0, 0, 0, 0, 0, 0, 0, ...    0.089920   \n",
       "12  scc_025  [9, 9, 9, 9, 9, 9, 9, 9, 9, 9, 9, 9, 9, 9, 9, ...    0.089870   \n",
       "11  scc_025  [0, 0, 0, 0, 0, 0, 0, 0, 0, 0, 0, 0, 0, 0, 0, ...    0.089616   \n",
       "\n",
       "    selected  \n",
       "k             \n",
       "14      True  \n",
       "22      True  \n",
       "13      True  \n",
       "12      True  \n",
       "11      True  "
      ]
     },
     "execution_count": 21,
     "metadata": {},
     "output_type": "execute_result"
    }
   ],
   "source": [
    "best_partitions.head()"
   ]
  },
  {
   "cell_type": "markdown",
   "metadata": {
    "papermill": {
     "duration": 0.015955,
     "end_time": "2021-05-08T22:58:54.085702",
     "exception": false,
     "start_time": "2021-05-08T22:58:54.069747",
     "status": "completed"
    },
    "tags": []
   },
   "source": [
    "# Prepare data for clustrees"
   ]
  },
  {
   "cell_type": "code",
   "execution_count": 22,
   "metadata": {
    "execution": {
     "iopub.execute_input": "2021-05-08T22:58:54.121015Z",
     "iopub.status.busy": "2021-05-08T22:58:54.120543Z",
     "iopub.status.idle": "2021-05-08T22:58:54.129575Z",
     "shell.execute_reply": "2021-05-08T22:58:54.129269Z"
    },
    "papermill": {
     "duration": 0.02746,
     "end_time": "2021-05-08T22:58:54.129663",
     "exception": false,
     "start_time": "2021-05-08T22:58:54.102203",
     "status": "completed"
    },
    "tags": []
   },
   "outputs": [],
   "source": [
    "clustrees_df = pd.concat((data_pca, data_umap), join=\"inner\", axis=1)"
   ]
  },
  {
   "cell_type": "code",
   "execution_count": 23,
   "metadata": {
    "execution": {
     "iopub.execute_input": "2021-05-08T22:58:54.166170Z",
     "iopub.status.busy": "2021-05-08T22:58:54.165799Z",
     "iopub.status.idle": "2021-05-08T22:58:54.173721Z",
     "shell.execute_reply": "2021-05-08T22:58:54.173348Z"
    },
    "papermill": {
     "duration": 0.027154,
     "end_time": "2021-05-08T22:58:54.173806",
     "exception": false,
     "start_time": "2021-05-08T22:58:54.146652",
     "status": "completed"
    },
    "tags": []
   },
   "outputs": [
    {
     "data": {
      "text/plain": [
       "(3752, 10)"
      ]
     },
     "metadata": {},
     "output_type": "display_data"
    }
   ],
   "source": [
    "display(clustrees_df.shape)\n",
    "assert clustrees_df.shape == (data_pca.shape[0], data_pca.shape[1] + data_umap.shape[1])"
   ]
  },
  {
   "cell_type": "code",
   "execution_count": 24,
   "metadata": {
    "execution": {
     "iopub.execute_input": "2021-05-08T22:58:54.210837Z",
     "iopub.status.busy": "2021-05-08T22:58:54.210483Z",
     "iopub.status.idle": "2021-05-08T22:58:54.224731Z",
     "shell.execute_reply": "2021-05-08T22:58:54.224399Z"
    },
    "papermill": {
     "duration": 0.033571,
     "end_time": "2021-05-08T22:58:54.224818",
     "exception": false,
     "start_time": "2021-05-08T22:58:54.191247",
     "status": "completed"
    },
    "tags": []
   },
   "outputs": [
    {
     "data": {
      "text/html": [
       "<div>\n",
       "<style scoped>\n",
       "    .dataframe tbody tr th:only-of-type {\n",
       "        vertical-align: middle;\n",
       "    }\n",
       "\n",
       "    .dataframe tbody tr th {\n",
       "        vertical-align: top;\n",
       "    }\n",
       "\n",
       "    .dataframe thead th {\n",
       "        text-align: right;\n",
       "    }\n",
       "</style>\n",
       "<table border=\"1\" class=\"dataframe\">\n",
       "  <thead>\n",
       "    <tr style=\"text-align: right;\">\n",
       "      <th></th>\n",
       "      <th>PCA1</th>\n",
       "      <th>PCA2</th>\n",
       "      <th>PCA3</th>\n",
       "      <th>PCA4</th>\n",
       "      <th>PCA5</th>\n",
       "      <th>UMAP1</th>\n",
       "      <th>UMAP2</th>\n",
       "      <th>UMAP3</th>\n",
       "      <th>UMAP4</th>\n",
       "      <th>UMAP5</th>\n",
       "    </tr>\n",
       "  </thead>\n",
       "  <tbody>\n",
       "    <tr>\n",
       "      <th>100001_raw-Food_weight</th>\n",
       "      <td>0.805216</td>\n",
       "      <td>-0.865390</td>\n",
       "      <td>0.699480</td>\n",
       "      <td>-0.065976</td>\n",
       "      <td>0.999617</td>\n",
       "      <td>0.426554</td>\n",
       "      <td>0.670532</td>\n",
       "      <td>7.363805</td>\n",
       "      <td>1.171837</td>\n",
       "      <td>6.297295</td>\n",
       "    </tr>\n",
       "    <tr>\n",
       "      <th>100002_raw-Energy</th>\n",
       "      <td>0.588507</td>\n",
       "      <td>-1.491772</td>\n",
       "      <td>1.756340</td>\n",
       "      <td>-3.593295</td>\n",
       "      <td>2.100607</td>\n",
       "      <td>-1.605179</td>\n",
       "      <td>0.815699</td>\n",
       "      <td>8.288521</td>\n",
       "      <td>0.990394</td>\n",
       "      <td>6.817351</td>\n",
       "    </tr>\n",
       "    <tr>\n",
       "      <th>100003_raw-Protein</th>\n",
       "      <td>1.910160</td>\n",
       "      <td>-1.873687</td>\n",
       "      <td>1.876677</td>\n",
       "      <td>-3.832557</td>\n",
       "      <td>1.240704</td>\n",
       "      <td>-1.656178</td>\n",
       "      <td>0.788297</td>\n",
       "      <td>8.355906</td>\n",
       "      <td>1.017072</td>\n",
       "      <td>6.845651</td>\n",
       "    </tr>\n",
       "    <tr>\n",
       "      <th>100004_raw-Fat</th>\n",
       "      <td>0.750799</td>\n",
       "      <td>-0.294733</td>\n",
       "      <td>1.317710</td>\n",
       "      <td>-1.346081</td>\n",
       "      <td>2.006403</td>\n",
       "      <td>-1.508325</td>\n",
       "      <td>0.802536</td>\n",
       "      <td>8.328274</td>\n",
       "      <td>1.033939</td>\n",
       "      <td>6.709319</td>\n",
       "    </tr>\n",
       "    <tr>\n",
       "      <th>100005_raw-Carbohydrate</th>\n",
       "      <td>-0.530044</td>\n",
       "      <td>-0.007398</td>\n",
       "      <td>0.611418</td>\n",
       "      <td>-3.604094</td>\n",
       "      <td>2.227872</td>\n",
       "      <td>-1.617872</td>\n",
       "      <td>0.812711</td>\n",
       "      <td>8.307973</td>\n",
       "      <td>1.020575</td>\n",
       "      <td>6.825944</td>\n",
       "    </tr>\n",
       "  </tbody>\n",
       "</table>\n",
       "</div>"
      ],
      "text/plain": [
       "                             PCA1      PCA2      PCA3      PCA4      PCA5  \\\n",
       "100001_raw-Food_weight   0.805216 -0.865390  0.699480 -0.065976  0.999617   \n",
       "100002_raw-Energy        0.588507 -1.491772  1.756340 -3.593295  2.100607   \n",
       "100003_raw-Protein       1.910160 -1.873687  1.876677 -3.832557  1.240704   \n",
       "100004_raw-Fat           0.750799 -0.294733  1.317710 -1.346081  2.006403   \n",
       "100005_raw-Carbohydrate -0.530044 -0.007398  0.611418 -3.604094  2.227872   \n",
       "\n",
       "                            UMAP1     UMAP2     UMAP3     UMAP4     UMAP5  \n",
       "100001_raw-Food_weight   0.426554  0.670532  7.363805  1.171837  6.297295  \n",
       "100002_raw-Energy       -1.605179  0.815699  8.288521  0.990394  6.817351  \n",
       "100003_raw-Protein      -1.656178  0.788297  8.355906  1.017072  6.845651  \n",
       "100004_raw-Fat          -1.508325  0.802536  8.328274  1.033939  6.709319  \n",
       "100005_raw-Carbohydrate -1.617872  0.812711  8.307973  1.020575  6.825944  "
      ]
     },
     "execution_count": 24,
     "metadata": {},
     "output_type": "execute_result"
    }
   ],
   "source": [
    "clustrees_df.head()"
   ]
  },
  {
   "cell_type": "markdown",
   "metadata": {
    "papermill": {
     "duration": 0.016868,
     "end_time": "2021-05-08T22:58:54.259164",
     "exception": false,
     "start_time": "2021-05-08T22:58:54.242296",
     "status": "completed"
    },
    "tags": []
   },
   "source": [
    "## Add partitions"
   ]
  },
  {
   "cell_type": "code",
   "execution_count": 25,
   "metadata": {
    "execution": {
     "iopub.execute_input": "2021-05-08T22:58:54.295764Z",
     "iopub.status.busy": "2021-05-08T22:58:54.295380Z",
     "iopub.status.idle": "2021-05-08T22:58:54.304395Z",
     "shell.execute_reply": "2021-05-08T22:58:54.304005Z"
    },
    "papermill": {
     "duration": 0.028732,
     "end_time": "2021-05-08T22:58:54.304484",
     "exception": false,
     "start_time": "2021-05-08T22:58:54.275752",
     "status": "completed"
    },
    "tags": []
   },
   "outputs": [
    {
     "data": {
      "text/plain": [
       "array([3752])"
      ]
     },
     "metadata": {},
     "output_type": "display_data"
    }
   ],
   "source": [
    "_tmp = np.unique(\n",
    "    [best_partitions.loc[k, \"partition\"].shape for k in best_partitions.index]\n",
    ")\n",
    "display(_tmp)\n",
    "assert _tmp.shape[0] == 1\n",
    "assert _tmp[0] == data_umap.shape[0] == data_pca.shape[0]"
   ]
  },
  {
   "cell_type": "code",
   "execution_count": 26,
   "metadata": {
    "execution": {
     "iopub.execute_input": "2021-05-08T22:58:54.341378Z",
     "iopub.status.busy": "2021-05-08T22:58:54.341015Z",
     "iopub.status.idle": "2021-05-08T22:58:54.348736Z",
     "shell.execute_reply": "2021-05-08T22:58:54.348328Z"
    },
    "papermill": {
     "duration": 0.026615,
     "end_time": "2021-05-08T22:58:54.348834",
     "exception": false,
     "start_time": "2021-05-08T22:58:54.322219",
     "status": "completed"
    },
    "tags": []
   },
   "outputs": [],
   "source": [
    "assert not best_partitions.isna().any().any()"
   ]
  },
  {
   "cell_type": "code",
   "execution_count": 27,
   "metadata": {
    "execution": {
     "iopub.execute_input": "2021-05-08T22:58:54.386468Z",
     "iopub.status.busy": "2021-05-08T22:58:54.386093Z",
     "iopub.status.idle": "2021-05-08T22:58:54.397524Z",
     "shell.execute_reply": "2021-05-08T22:58:54.397190Z"
    },
    "papermill": {
     "duration": 0.031299,
     "end_time": "2021-05-08T22:58:54.397613",
     "exception": false,
     "start_time": "2021-05-08T22:58:54.366314",
     "status": "completed"
    },
    "tags": []
   },
   "outputs": [],
   "source": [
    "# df = df.assign(**{f'k{k}': partitions.loc[k, 'partition'] for k in selected_k_values})\n",
    "clustrees_df = clustrees_df.assign(\n",
    "    **{\n",
    "        f\"k{k}\": best_partitions.loc[k, \"partition\"]\n",
    "        for k in best_partitions.index\n",
    "        if best_partitions.loc[k, \"selected\"]\n",
    "    }\n",
    ")"
   ]
  },
  {
   "cell_type": "code",
   "execution_count": 28,
   "metadata": {
    "execution": {
     "iopub.execute_input": "2021-05-08T22:58:54.436114Z",
     "iopub.status.busy": "2021-05-08T22:58:54.435747Z",
     "iopub.status.idle": "2021-05-08T22:58:54.442406Z",
     "shell.execute_reply": "2021-05-08T22:58:54.442689Z"
    },
    "papermill": {
     "duration": 0.02706,
     "end_time": "2021-05-08T22:58:54.442795",
     "exception": false,
     "start_time": "2021-05-08T22:58:54.415735",
     "status": "completed"
    },
    "tags": []
   },
   "outputs": [],
   "source": [
    "clustrees_df.index.rename(\"trait\", inplace=True)"
   ]
  },
  {
   "cell_type": "code",
   "execution_count": 29,
   "metadata": {
    "execution": {
     "iopub.execute_input": "2021-05-08T22:58:54.480106Z",
     "iopub.status.busy": "2021-05-08T22:58:54.479734Z",
     "iopub.status.idle": "2021-05-08T22:58:54.487496Z",
     "shell.execute_reply": "2021-05-08T22:58:54.487133Z"
    },
    "papermill": {
     "duration": 0.027069,
     "end_time": "2021-05-08T22:58:54.487579",
     "exception": false,
     "start_time": "2021-05-08T22:58:54.460510",
     "status": "completed"
    },
    "tags": []
   },
   "outputs": [
    {
     "data": {
      "text/plain": [
       "(3752, 25)"
      ]
     },
     "execution_count": 29,
     "metadata": {},
     "output_type": "execute_result"
    }
   ],
   "source": [
    "clustrees_df.shape"
   ]
  },
  {
   "cell_type": "code",
   "execution_count": 30,
   "metadata": {
    "execution": {
     "iopub.execute_input": "2021-05-08T22:58:54.525313Z",
     "iopub.status.busy": "2021-05-08T22:58:54.524946Z",
     "iopub.status.idle": "2021-05-08T22:58:54.545346Z",
     "shell.execute_reply": "2021-05-08T22:58:54.544975Z"
    },
    "papermill": {
     "duration": 0.039993,
     "end_time": "2021-05-08T22:58:54.545431",
     "exception": false,
     "start_time": "2021-05-08T22:58:54.505438",
     "status": "completed"
    },
    "tags": []
   },
   "outputs": [
    {
     "data": {
      "text/html": [
       "<div>\n",
       "<style scoped>\n",
       "    .dataframe tbody tr th:only-of-type {\n",
       "        vertical-align: middle;\n",
       "    }\n",
       "\n",
       "    .dataframe tbody tr th {\n",
       "        vertical-align: top;\n",
       "    }\n",
       "\n",
       "    .dataframe thead th {\n",
       "        text-align: right;\n",
       "    }\n",
       "</style>\n",
       "<table border=\"1\" class=\"dataframe\">\n",
       "  <thead>\n",
       "    <tr style=\"text-align: right;\">\n",
       "      <th></th>\n",
       "      <th>PCA1</th>\n",
       "      <th>PCA2</th>\n",
       "      <th>PCA3</th>\n",
       "      <th>PCA4</th>\n",
       "      <th>PCA5</th>\n",
       "      <th>UMAP1</th>\n",
       "      <th>UMAP2</th>\n",
       "      <th>UMAP3</th>\n",
       "      <th>UMAP4</th>\n",
       "      <th>UMAP5</th>\n",
       "      <th>...</th>\n",
       "      <th>k15</th>\n",
       "      <th>k7</th>\n",
       "      <th>k6</th>\n",
       "      <th>k8</th>\n",
       "      <th>k9</th>\n",
       "      <th>k10</th>\n",
       "      <th>k16</th>\n",
       "      <th>k5</th>\n",
       "      <th>k25</th>\n",
       "      <th>k26</th>\n",
       "    </tr>\n",
       "    <tr>\n",
       "      <th>trait</th>\n",
       "      <th></th>\n",
       "      <th></th>\n",
       "      <th></th>\n",
       "      <th></th>\n",
       "      <th></th>\n",
       "      <th></th>\n",
       "      <th></th>\n",
       "      <th></th>\n",
       "      <th></th>\n",
       "      <th></th>\n",
       "      <th></th>\n",
       "      <th></th>\n",
       "      <th></th>\n",
       "      <th></th>\n",
       "      <th></th>\n",
       "      <th></th>\n",
       "      <th></th>\n",
       "      <th></th>\n",
       "      <th></th>\n",
       "      <th></th>\n",
       "      <th></th>\n",
       "    </tr>\n",
       "  </thead>\n",
       "  <tbody>\n",
       "    <tr>\n",
       "      <th>100001_raw-Food_weight</th>\n",
       "      <td>0.805216</td>\n",
       "      <td>-0.865390</td>\n",
       "      <td>0.699480</td>\n",
       "      <td>-0.065976</td>\n",
       "      <td>0.999617</td>\n",
       "      <td>0.426554</td>\n",
       "      <td>0.670532</td>\n",
       "      <td>7.363805</td>\n",
       "      <td>1.171837</td>\n",
       "      <td>6.297295</td>\n",
       "      <td>...</td>\n",
       "      <td>0</td>\n",
       "      <td>2</td>\n",
       "      <td>2</td>\n",
       "      <td>2</td>\n",
       "      <td>2</td>\n",
       "      <td>2</td>\n",
       "      <td>0</td>\n",
       "      <td>0</td>\n",
       "      <td>0</td>\n",
       "      <td>0</td>\n",
       "    </tr>\n",
       "    <tr>\n",
       "      <th>100002_raw-Energy</th>\n",
       "      <td>0.588507</td>\n",
       "      <td>-1.491772</td>\n",
       "      <td>1.756340</td>\n",
       "      <td>-3.593295</td>\n",
       "      <td>2.100607</td>\n",
       "      <td>-1.605179</td>\n",
       "      <td>0.815699</td>\n",
       "      <td>8.288521</td>\n",
       "      <td>0.990394</td>\n",
       "      <td>6.817351</td>\n",
       "      <td>...</td>\n",
       "      <td>0</td>\n",
       "      <td>2</td>\n",
       "      <td>2</td>\n",
       "      <td>2</td>\n",
       "      <td>2</td>\n",
       "      <td>2</td>\n",
       "      <td>0</td>\n",
       "      <td>0</td>\n",
       "      <td>21</td>\n",
       "      <td>21</td>\n",
       "    </tr>\n",
       "    <tr>\n",
       "      <th>100003_raw-Protein</th>\n",
       "      <td>1.910160</td>\n",
       "      <td>-1.873687</td>\n",
       "      <td>1.876677</td>\n",
       "      <td>-3.832557</td>\n",
       "      <td>1.240704</td>\n",
       "      <td>-1.656178</td>\n",
       "      <td>0.788297</td>\n",
       "      <td>8.355906</td>\n",
       "      <td>1.017072</td>\n",
       "      <td>6.845651</td>\n",
       "      <td>...</td>\n",
       "      <td>0</td>\n",
       "      <td>2</td>\n",
       "      <td>2</td>\n",
       "      <td>2</td>\n",
       "      <td>2</td>\n",
       "      <td>2</td>\n",
       "      <td>0</td>\n",
       "      <td>0</td>\n",
       "      <td>21</td>\n",
       "      <td>21</td>\n",
       "    </tr>\n",
       "    <tr>\n",
       "      <th>100004_raw-Fat</th>\n",
       "      <td>0.750799</td>\n",
       "      <td>-0.294733</td>\n",
       "      <td>1.317710</td>\n",
       "      <td>-1.346081</td>\n",
       "      <td>2.006403</td>\n",
       "      <td>-1.508325</td>\n",
       "      <td>0.802536</td>\n",
       "      <td>8.328274</td>\n",
       "      <td>1.033939</td>\n",
       "      <td>6.709319</td>\n",
       "      <td>...</td>\n",
       "      <td>0</td>\n",
       "      <td>2</td>\n",
       "      <td>2</td>\n",
       "      <td>2</td>\n",
       "      <td>2</td>\n",
       "      <td>2</td>\n",
       "      <td>0</td>\n",
       "      <td>0</td>\n",
       "      <td>21</td>\n",
       "      <td>21</td>\n",
       "    </tr>\n",
       "    <tr>\n",
       "      <th>100005_raw-Carbohydrate</th>\n",
       "      <td>-0.530044</td>\n",
       "      <td>-0.007398</td>\n",
       "      <td>0.611418</td>\n",
       "      <td>-3.604094</td>\n",
       "      <td>2.227872</td>\n",
       "      <td>-1.617872</td>\n",
       "      <td>0.812711</td>\n",
       "      <td>8.307973</td>\n",
       "      <td>1.020575</td>\n",
       "      <td>6.825944</td>\n",
       "      <td>...</td>\n",
       "      <td>0</td>\n",
       "      <td>2</td>\n",
       "      <td>2</td>\n",
       "      <td>2</td>\n",
       "      <td>2</td>\n",
       "      <td>2</td>\n",
       "      <td>0</td>\n",
       "      <td>0</td>\n",
       "      <td>21</td>\n",
       "      <td>21</td>\n",
       "    </tr>\n",
       "  </tbody>\n",
       "</table>\n",
       "<p>5 rows × 25 columns</p>\n",
       "</div>"
      ],
      "text/plain": [
       "                             PCA1      PCA2      PCA3      PCA4      PCA5  \\\n",
       "trait                                                                       \n",
       "100001_raw-Food_weight   0.805216 -0.865390  0.699480 -0.065976  0.999617   \n",
       "100002_raw-Energy        0.588507 -1.491772  1.756340 -3.593295  2.100607   \n",
       "100003_raw-Protein       1.910160 -1.873687  1.876677 -3.832557  1.240704   \n",
       "100004_raw-Fat           0.750799 -0.294733  1.317710 -1.346081  2.006403   \n",
       "100005_raw-Carbohydrate -0.530044 -0.007398  0.611418 -3.604094  2.227872   \n",
       "\n",
       "                            UMAP1     UMAP2     UMAP3     UMAP4     UMAP5  \\\n",
       "trait                                                                       \n",
       "100001_raw-Food_weight   0.426554  0.670532  7.363805  1.171837  6.297295   \n",
       "100002_raw-Energy       -1.605179  0.815699  8.288521  0.990394  6.817351   \n",
       "100003_raw-Protein      -1.656178  0.788297  8.355906  1.017072  6.845651   \n",
       "100004_raw-Fat          -1.508325  0.802536  8.328274  1.033939  6.709319   \n",
       "100005_raw-Carbohydrate -1.617872  0.812711  8.307973  1.020575  6.825944   \n",
       "\n",
       "                         ...  k15  k7  k6  k8  k9  k10  k16  k5  k25  k26  \n",
       "trait                    ...                                               \n",
       "100001_raw-Food_weight   ...    0   2   2   2   2    2    0   0    0    0  \n",
       "100002_raw-Energy        ...    0   2   2   2   2    2    0   0   21   21  \n",
       "100003_raw-Protein       ...    0   2   2   2   2    2    0   0   21   21  \n",
       "100004_raw-Fat           ...    0   2   2   2   2    2    0   0   21   21  \n",
       "100005_raw-Carbohydrate  ...    0   2   2   2   2    2    0   0   21   21  \n",
       "\n",
       "[5 rows x 25 columns]"
      ]
     },
     "execution_count": 30,
     "metadata": {},
     "output_type": "execute_result"
    }
   ],
   "source": [
    "clustrees_df.head()"
   ]
  },
  {
   "cell_type": "code",
   "execution_count": 31,
   "metadata": {
    "execution": {
     "iopub.execute_input": "2021-05-08T22:58:54.583470Z",
     "iopub.status.busy": "2021-05-08T22:58:54.583112Z",
     "iopub.status.idle": "2021-05-08T22:58:54.597876Z",
     "shell.execute_reply": "2021-05-08T22:58:54.598163Z"
    },
    "papermill": {
     "duration": 0.035018,
     "end_time": "2021-05-08T22:58:54.598270",
     "exception": false,
     "start_time": "2021-05-08T22:58:54.563252",
     "status": "completed"
    },
    "tags": []
   },
   "outputs": [],
   "source": [
    "# make sure partitions were assigned correctly\n",
    "assert (\n",
    "    np.unique(\n",
    "        [\n",
    "            clustrees_df[f\"{k}\"].value_counts().sum()\n",
    "            for k in clustrees_df.columns[\n",
    "                clustrees_df.columns.str.contains(\"^k[0-9]+$\", regex=True)\n",
    "            ]\n",
    "        ]\n",
    "    )[0]\n",
    "    == data_pca.shape[0]\n",
    ")"
   ]
  },
  {
   "cell_type": "markdown",
   "metadata": {
    "papermill": {
     "duration": 0.017905,
     "end_time": "2021-05-08T22:58:54.634206",
     "exception": false,
     "start_time": "2021-05-08T22:58:54.616301",
     "status": "completed"
    },
    "tags": []
   },
   "source": [
    "# Save"
   ]
  },
  {
   "cell_type": "code",
   "execution_count": 32,
   "metadata": {
    "execution": {
     "iopub.execute_input": "2021-05-08T22:58:54.671150Z",
     "iopub.status.busy": "2021-05-08T22:58:54.670791Z",
     "iopub.status.idle": "2021-05-08T22:58:54.678860Z",
     "shell.execute_reply": "2021-05-08T22:58:54.678487Z"
    },
    "papermill": {
     "duration": 0.027533,
     "end_time": "2021-05-08T22:58:54.678945",
     "exception": false,
     "start_time": "2021-05-08T22:58:54.651412",
     "status": "completed"
    },
    "tags": []
   },
   "outputs": [
    {
     "data": {
      "text/plain": [
       "PosixPath('/home/miltondp/projects/labs/greenelab/phenoplier/base/results/clustering/consensus_clustering/clustering_tree_data.tsv')"
      ]
     },
     "metadata": {},
     "output_type": "display_data"
    }
   ],
   "source": [
    "output_file = Path(CONSENSUS_CLUSTERING_DIR, \"clustering_tree_data.tsv\").resolve()\n",
    "display(output_file)"
   ]
  },
  {
   "cell_type": "code",
   "execution_count": 33,
   "metadata": {
    "execution": {
     "iopub.execute_input": "2021-05-08T22:58:54.717430Z",
     "iopub.status.busy": "2021-05-08T22:58:54.717071Z",
     "iopub.status.idle": "2021-05-08T22:58:54.772656Z",
     "shell.execute_reply": "2021-05-08T22:58:54.772283Z"
    },
    "papermill": {
     "duration": 0.075466,
     "end_time": "2021-05-08T22:58:54.772793",
     "exception": false,
     "start_time": "2021-05-08T22:58:54.697327",
     "status": "completed"
    },
    "tags": []
   },
   "outputs": [],
   "source": [
    "clustrees_df.to_csv(output_file, sep=\"\\t\")"
   ]
  },
  {
   "cell_type": "code",
   "execution_count": null,
   "metadata": {
    "papermill": {
     "duration": 0.017711,
     "end_time": "2021-05-08T22:58:54.808217",
     "exception": false,
     "start_time": "2021-05-08T22:58:54.790506",
     "status": "completed"
    },
    "tags": []
   },
   "outputs": [],
   "source": []
  }
 ],
 "metadata": {
  "jupytext": {
   "cell_metadata_filter": "all,-execution,-papermill,-trusted",
   "formats": "ipynb,py//py:percent"
  },
  "kernelspec": {
   "display_name": "Python 3",
   "language": "python",
   "name": "python3"
  },
  "language_info": {
   "codemirror_mode": {
    "name": "ipython",
    "version": 3
   },
   "file_extension": ".py",
   "mimetype": "text/x-python",
   "name": "python",
   "nbconvert_exporter": "python",
   "pygments_lexer": "ipython3",
   "version": "3.8.8"
  },
  "papermill": {
   "default_parameters": {},
   "duration": 4.19238,
   "end_time": "2021-05-08T22:58:55.976499",
   "environment_variables": {},
   "exception": null,
   "input_path": "16_consensus_clustering/040_04-clustering_trees_data.ipynb",
   "output_path": "16_consensus_clustering/040_04-clustering_trees_data.run.ipynb",
   "parameters": {},
   "start_time": "2021-05-08T22:58:51.784119",
   "version": "2.2.2"
  },
  "toc-autonumbering": true,
  "toc-showcode": false,
  "toc-showmarkdowntxt": false,
  "toc-showtags": false
 },
 "nbformat": 4,
 "nbformat_minor": 4
}
