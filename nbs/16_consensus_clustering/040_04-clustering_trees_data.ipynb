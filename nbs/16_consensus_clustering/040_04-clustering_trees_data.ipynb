{
 "cells": [
  {
   "cell_type": "markdown",
   "metadata": {
    "papermill": {
     "duration": 0.03228,
     "end_time": "2021-05-09T05:25:44.610860",
     "exception": false,
     "start_time": "2021-05-09T05:25:44.578580",
     "status": "completed"
    },
    "tags": []
   },
   "source": [
    "# Description"
   ]
  },
  {
   "cell_type": "markdown",
   "metadata": {
    "papermill": {
     "duration": 0.013508,
     "end_time": "2021-05-09T05:25:44.642805",
     "exception": false,
     "start_time": "2021-05-09T05:25:44.629297",
     "status": "completed"
    },
    "tags": []
   },
   "source": [
    "It prepares the data to create a clustering tree visualization (using the R package `clustree`)."
   ]
  },
  {
   "cell_type": "markdown",
   "metadata": {
    "papermill": {
     "duration": 0.013787,
     "end_time": "2021-05-09T05:25:44.669938",
     "exception": false,
     "start_time": "2021-05-09T05:25:44.656151",
     "status": "completed"
    },
    "tags": []
   },
   "source": [
    "# Modules loading"
   ]
  },
  {
   "cell_type": "code",
   "execution_count": 1,
   "metadata": {
    "execution": {
     "iopub.execute_input": "2021-05-09T05:25:44.702913Z",
     "iopub.status.busy": "2021-05-09T05:25:44.702545Z",
     "iopub.status.idle": "2021-05-09T05:25:44.710101Z",
     "shell.execute_reply": "2021-05-09T05:25:44.709691Z"
    },
    "papermill": {
     "duration": 0.026632,
     "end_time": "2021-05-09T05:25:44.710195",
     "exception": false,
     "start_time": "2021-05-09T05:25:44.683563",
     "status": "completed"
    },
    "tags": []
   },
   "outputs": [],
   "source": [
    "%load_ext autoreload\n",
    "%autoreload 2"
   ]
  },
  {
   "cell_type": "code",
   "execution_count": 2,
   "metadata": {
    "execution": {
     "iopub.execute_input": "2021-05-09T05:25:44.740789Z",
     "iopub.status.busy": "2021-05-09T05:25:44.740376Z",
     "iopub.status.idle": "2021-05-09T05:25:44.938593Z",
     "shell.execute_reply": "2021-05-09T05:25:44.938207Z"
    },
    "papermill": {
     "duration": 0.214311,
     "end_time": "2021-05-09T05:25:44.938679",
     "exception": false,
     "start_time": "2021-05-09T05:25:44.724368",
     "status": "completed"
    },
    "tags": []
   },
   "outputs": [],
   "source": [
    "from IPython.display import display\n",
    "from pathlib import Path\n",
    "\n",
    "import numpy as np\n",
    "import pandas as pd\n",
    "\n",
    "from utils import generate_result_set_name\n",
    "import conf"
   ]
  },
  {
   "cell_type": "markdown",
   "metadata": {
    "papermill": {
     "duration": 0.013471,
     "end_time": "2021-05-09T05:25:44.966191",
     "exception": false,
     "start_time": "2021-05-09T05:25:44.952720",
     "status": "completed"
    },
    "tags": []
   },
   "source": [
    "# Settings"
   ]
  },
  {
   "cell_type": "code",
   "execution_count": 3,
   "metadata": {
    "execution": {
     "iopub.execute_input": "2021-05-09T05:25:44.996013Z",
     "iopub.status.busy": "2021-05-09T05:25:44.995653Z",
     "iopub.status.idle": "2021-05-09T05:25:45.007584Z",
     "shell.execute_reply": "2021-05-09T05:25:45.007213Z"
    },
    "papermill": {
     "duration": 0.028002,
     "end_time": "2021-05-09T05:25:45.007667",
     "exception": false,
     "start_time": "2021-05-09T05:25:44.979665",
     "status": "completed"
    },
    "tags": []
   },
   "outputs": [
    {
     "data": {
      "text/plain": [
       "PosixPath('/home/miltondp/projects/labs/greenelab/phenoplier/base/results/clustering/consensus_clustering')"
      ]
     },
     "metadata": {},
     "output_type": "display_data"
    }
   ],
   "source": [
    "CONSENSUS_CLUSTERING_DIR = Path(\n",
    "    conf.RESULTS[\"CLUSTERING_DIR\"], \"consensus_clustering\"\n",
    ").resolve()\n",
    "\n",
    "display(CONSENSUS_CLUSTERING_DIR)"
   ]
  },
  {
   "cell_type": "markdown",
   "metadata": {
    "papermill": {
     "duration": 0.013652,
     "end_time": "2021-05-09T05:25:45.035816",
     "exception": false,
     "start_time": "2021-05-09T05:25:45.022164",
     "status": "completed"
    },
    "tags": []
   },
   "source": [
    "# Load data"
   ]
  },
  {
   "cell_type": "markdown",
   "metadata": {
    "papermill": {
     "duration": 0.013524,
     "end_time": "2021-05-09T05:25:45.063007",
     "exception": false,
     "start_time": "2021-05-09T05:25:45.049483",
     "status": "completed"
    },
    "tags": []
   },
   "source": [
    "## PCA"
   ]
  },
  {
   "cell_type": "code",
   "execution_count": 4,
   "metadata": {
    "execution": {
     "iopub.execute_input": "2021-05-09T05:25:45.093083Z",
     "iopub.status.busy": "2021-05-09T05:25:45.092676Z",
     "iopub.status.idle": "2021-05-09T05:25:45.099731Z",
     "shell.execute_reply": "2021-05-09T05:25:45.099422Z"
    },
    "papermill": {
     "duration": 0.023107,
     "end_time": "2021-05-09T05:25:45.099813",
     "exception": false,
     "start_time": "2021-05-09T05:25:45.076706",
     "status": "completed"
    },
    "tags": []
   },
   "outputs": [],
   "source": [
    "INPUT_SUBSET = \"pca\""
   ]
  },
  {
   "cell_type": "code",
   "execution_count": 5,
   "metadata": {
    "execution": {
     "iopub.execute_input": "2021-05-09T05:25:45.131073Z",
     "iopub.status.busy": "2021-05-09T05:25:45.130665Z",
     "iopub.status.idle": "2021-05-09T05:25:45.137561Z",
     "shell.execute_reply": "2021-05-09T05:25:45.137224Z"
    },
    "papermill": {
     "duration": 0.023217,
     "end_time": "2021-05-09T05:25:45.137646",
     "exception": false,
     "start_time": "2021-05-09T05:25:45.114429",
     "status": "completed"
    },
    "tags": []
   },
   "outputs": [],
   "source": [
    "INPUT_STEM = \"z_score_std-projection-smultixcan-efo_partial-mashr-zscores\""
   ]
  },
  {
   "cell_type": "code",
   "execution_count": 6,
   "metadata": {
    "execution": {
     "iopub.execute_input": "2021-05-09T05:25:45.169115Z",
     "iopub.status.busy": "2021-05-09T05:25:45.168732Z",
     "iopub.status.idle": "2021-05-09T05:25:45.175695Z",
     "shell.execute_reply": "2021-05-09T05:25:45.175323Z"
    },
    "papermill": {
     "duration": 0.023427,
     "end_time": "2021-05-09T05:25:45.175780",
     "exception": false,
     "start_time": "2021-05-09T05:25:45.152353",
     "status": "completed"
    },
    "tags": []
   },
   "outputs": [],
   "source": [
    "DR_OPTIONS = {\n",
    "    \"n_components\": 50,\n",
    "    \"svd_solver\": \"full\",\n",
    "    \"random_state\": 0,\n",
    "}"
   ]
  },
  {
   "cell_type": "code",
   "execution_count": 7,
   "metadata": {
    "execution": {
     "iopub.execute_input": "2021-05-09T05:25:45.207784Z",
     "iopub.status.busy": "2021-05-09T05:25:45.207399Z",
     "iopub.status.idle": "2021-05-09T05:25:45.216309Z",
     "shell.execute_reply": "2021-05-09T05:25:45.215938Z"
    },
    "papermill": {
     "duration": 0.02589,
     "end_time": "2021-05-09T05:25:45.216391",
     "exception": false,
     "start_time": "2021-05-09T05:25:45.190501",
     "status": "completed"
    },
    "tags": []
   },
   "outputs": [
    {
     "data": {
      "text/plain": [
       "PosixPath('/home/miltondp/projects/labs/greenelab/phenoplier/base/results/data_transformations/pca/pca-z_score_std-projection-smultixcan-efo_partial-mashr-zscores-n_components_50-random_state_0-svd_solver_full.pkl')"
      ]
     },
     "metadata": {},
     "output_type": "display_data"
    },
    {
     "data": {
      "text/plain": [
       "'pca-z_score_std-projection-smultixcan-efo_partial-mashr-zscores-n_components_50-random_state_0-svd_solver_full'"
      ]
     },
     "metadata": {},
     "output_type": "display_data"
    }
   ],
   "source": [
    "input_filepath = Path(\n",
    "    conf.RESULTS[\"DATA_TRANSFORMATIONS_DIR\"],\n",
    "    INPUT_SUBSET,\n",
    "    generate_result_set_name(\n",
    "        DR_OPTIONS, prefix=f\"{INPUT_SUBSET}-{INPUT_STEM}-\", suffix=\".pkl\"\n",
    "    ),\n",
    ").resolve()\n",
    "display(input_filepath)\n",
    "\n",
    "assert input_filepath.exists(), \"Input file does not exist\"\n",
    "\n",
    "input_filepath_stem = input_filepath.stem\n",
    "display(input_filepath_stem)"
   ]
  },
  {
   "cell_type": "code",
   "execution_count": 8,
   "metadata": {
    "execution": {
     "iopub.execute_input": "2021-05-09T05:25:45.248229Z",
     "iopub.status.busy": "2021-05-09T05:25:45.247862Z",
     "iopub.status.idle": "2021-05-09T05:25:45.257593Z",
     "shell.execute_reply": "2021-05-09T05:25:45.257266Z"
    },
    "papermill": {
     "duration": 0.026297,
     "end_time": "2021-05-09T05:25:45.257679",
     "exception": false,
     "start_time": "2021-05-09T05:25:45.231382",
     "status": "completed"
    },
    "tags": []
   },
   "outputs": [],
   "source": [
    "data_pca = pd.read_pickle(input_filepath).iloc[:, :5]"
   ]
  },
  {
   "cell_type": "code",
   "execution_count": 9,
   "metadata": {
    "execution": {
     "iopub.execute_input": "2021-05-09T05:25:45.289823Z",
     "iopub.status.busy": "2021-05-09T05:25:45.289442Z",
     "iopub.status.idle": "2021-05-09T05:25:45.297346Z",
     "shell.execute_reply": "2021-05-09T05:25:45.296971Z"
    },
    "papermill": {
     "duration": 0.024879,
     "end_time": "2021-05-09T05:25:45.297431",
     "exception": false,
     "start_time": "2021-05-09T05:25:45.272552",
     "status": "completed"
    },
    "tags": []
   },
   "outputs": [
    {
     "data": {
      "text/plain": [
       "(3752, 5)"
      ]
     },
     "execution_count": 9,
     "metadata": {},
     "output_type": "execute_result"
    }
   ],
   "source": [
    "data_pca.shape"
   ]
  },
  {
   "cell_type": "code",
   "execution_count": 10,
   "metadata": {
    "execution": {
     "iopub.execute_input": "2021-05-09T05:25:45.330187Z",
     "iopub.status.busy": "2021-05-09T05:25:45.329828Z",
     "iopub.status.idle": "2021-05-09T05:25:45.341835Z",
     "shell.execute_reply": "2021-05-09T05:25:45.341514Z"
    },
    "papermill": {
     "duration": 0.029147,
     "end_time": "2021-05-09T05:25:45.341921",
     "exception": false,
     "start_time": "2021-05-09T05:25:45.312774",
     "status": "completed"
    },
    "tags": []
   },
   "outputs": [
    {
     "data": {
      "text/html": [
       "<div>\n",
       "<style scoped>\n",
       "    .dataframe tbody tr th:only-of-type {\n",
       "        vertical-align: middle;\n",
       "    }\n",
       "\n",
       "    .dataframe tbody tr th {\n",
       "        vertical-align: top;\n",
       "    }\n",
       "\n",
       "    .dataframe thead th {\n",
       "        text-align: right;\n",
       "    }\n",
       "</style>\n",
       "<table border=\"1\" class=\"dataframe\">\n",
       "  <thead>\n",
       "    <tr style=\"text-align: right;\">\n",
       "      <th></th>\n",
       "      <th>PCA1</th>\n",
       "      <th>PCA2</th>\n",
       "      <th>PCA3</th>\n",
       "      <th>PCA4</th>\n",
       "      <th>PCA5</th>\n",
       "    </tr>\n",
       "  </thead>\n",
       "  <tbody>\n",
       "    <tr>\n",
       "      <th>100001_raw-Food_weight</th>\n",
       "      <td>0.805216</td>\n",
       "      <td>-0.865390</td>\n",
       "      <td>0.699480</td>\n",
       "      <td>-0.065976</td>\n",
       "      <td>0.999617</td>\n",
       "    </tr>\n",
       "    <tr>\n",
       "      <th>100002_raw-Energy</th>\n",
       "      <td>0.588507</td>\n",
       "      <td>-1.491772</td>\n",
       "      <td>1.756340</td>\n",
       "      <td>-3.593295</td>\n",
       "      <td>2.100607</td>\n",
       "    </tr>\n",
       "    <tr>\n",
       "      <th>100003_raw-Protein</th>\n",
       "      <td>1.910160</td>\n",
       "      <td>-1.873687</td>\n",
       "      <td>1.876677</td>\n",
       "      <td>-3.832557</td>\n",
       "      <td>1.240704</td>\n",
       "    </tr>\n",
       "    <tr>\n",
       "      <th>100004_raw-Fat</th>\n",
       "      <td>0.750799</td>\n",
       "      <td>-0.294733</td>\n",
       "      <td>1.317710</td>\n",
       "      <td>-1.346081</td>\n",
       "      <td>2.006403</td>\n",
       "    </tr>\n",
       "    <tr>\n",
       "      <th>100005_raw-Carbohydrate</th>\n",
       "      <td>-0.530044</td>\n",
       "      <td>-0.007398</td>\n",
       "      <td>0.611418</td>\n",
       "      <td>-3.604094</td>\n",
       "      <td>2.227872</td>\n",
       "    </tr>\n",
       "  </tbody>\n",
       "</table>\n",
       "</div>"
      ],
      "text/plain": [
       "                             PCA1      PCA2      PCA3      PCA4      PCA5\n",
       "100001_raw-Food_weight   0.805216 -0.865390  0.699480 -0.065976  0.999617\n",
       "100002_raw-Energy        0.588507 -1.491772  1.756340 -3.593295  2.100607\n",
       "100003_raw-Protein       1.910160 -1.873687  1.876677 -3.832557  1.240704\n",
       "100004_raw-Fat           0.750799 -0.294733  1.317710 -1.346081  2.006403\n",
       "100005_raw-Carbohydrate -0.530044 -0.007398  0.611418 -3.604094  2.227872"
      ]
     },
     "execution_count": 10,
     "metadata": {},
     "output_type": "execute_result"
    }
   ],
   "source": [
    "data_pca.head()"
   ]
  },
  {
   "cell_type": "markdown",
   "metadata": {
    "papermill": {
     "duration": 0.015121,
     "end_time": "2021-05-09T05:25:45.372323",
     "exception": false,
     "start_time": "2021-05-09T05:25:45.357202",
     "status": "completed"
    },
    "tags": []
   },
   "source": [
    "## UMAP"
   ]
  },
  {
   "cell_type": "code",
   "execution_count": 11,
   "metadata": {
    "execution": {
     "iopub.execute_input": "2021-05-09T05:25:45.404198Z",
     "iopub.status.busy": "2021-05-09T05:25:45.403842Z",
     "iopub.status.idle": "2021-05-09T05:25:45.410956Z",
     "shell.execute_reply": "2021-05-09T05:25:45.410630Z"
    },
    "papermill": {
     "duration": 0.024084,
     "end_time": "2021-05-09T05:25:45.411038",
     "exception": false,
     "start_time": "2021-05-09T05:25:45.386954",
     "status": "completed"
    },
    "tags": []
   },
   "outputs": [],
   "source": [
    "INPUT_SUBSET = \"umap\""
   ]
  },
  {
   "cell_type": "code",
   "execution_count": 12,
   "metadata": {
    "execution": {
     "iopub.execute_input": "2021-05-09T05:25:45.443368Z",
     "iopub.status.busy": "2021-05-09T05:25:45.443010Z",
     "iopub.status.idle": "2021-05-09T05:25:45.449774Z",
     "shell.execute_reply": "2021-05-09T05:25:45.450110Z"
    },
    "papermill": {
     "duration": 0.023886,
     "end_time": "2021-05-09T05:25:45.450210",
     "exception": false,
     "start_time": "2021-05-09T05:25:45.426324",
     "status": "completed"
    },
    "tags": []
   },
   "outputs": [],
   "source": [
    "INPUT_STEM = \"z_score_std-projection-smultixcan-efo_partial-mashr-zscores\""
   ]
  },
  {
   "cell_type": "code",
   "execution_count": 13,
   "metadata": {
    "execution": {
     "iopub.execute_input": "2021-05-09T05:25:45.482760Z",
     "iopub.status.busy": "2021-05-09T05:25:45.482402Z",
     "iopub.status.idle": "2021-05-09T05:25:45.489366Z",
     "shell.execute_reply": "2021-05-09T05:25:45.488936Z"
    },
    "papermill": {
     "duration": 0.024083,
     "end_time": "2021-05-09T05:25:45.489455",
     "exception": false,
     "start_time": "2021-05-09T05:25:45.465372",
     "status": "completed"
    },
    "tags": []
   },
   "outputs": [],
   "source": [
    "DR_OPTIONS = {\n",
    "    \"n_components\": 5,\n",
    "    \"metric\": \"euclidean\",\n",
    "    \"n_neighbors\": 15,\n",
    "    \"random_state\": 0,\n",
    "}"
   ]
  },
  {
   "cell_type": "code",
   "execution_count": 14,
   "metadata": {
    "execution": {
     "iopub.execute_input": "2021-05-09T05:25:45.523594Z",
     "iopub.status.busy": "2021-05-09T05:25:45.523207Z",
     "iopub.status.idle": "2021-05-09T05:25:45.532181Z",
     "shell.execute_reply": "2021-05-09T05:25:45.531801Z"
    },
    "papermill": {
     "duration": 0.027389,
     "end_time": "2021-05-09T05:25:45.532268",
     "exception": false,
     "start_time": "2021-05-09T05:25:45.504879",
     "status": "completed"
    },
    "tags": []
   },
   "outputs": [
    {
     "data": {
      "text/plain": [
       "PosixPath('/home/miltondp/projects/labs/greenelab/phenoplier/base/results/data_transformations/umap/umap-z_score_std-projection-smultixcan-efo_partial-mashr-zscores-metric_euclidean-n_components_5-n_neighbors_15-random_state_0.pkl')"
      ]
     },
     "metadata": {},
     "output_type": "display_data"
    },
    {
     "data": {
      "text/plain": [
       "'umap-z_score_std-projection-smultixcan-efo_partial-mashr-zscores-metric_euclidean-n_components_5-n_neighbors_15-random_state_0'"
      ]
     },
     "metadata": {},
     "output_type": "display_data"
    }
   ],
   "source": [
    "input_filepath = Path(\n",
    "    conf.RESULTS[\"DATA_TRANSFORMATIONS_DIR\"],\n",
    "    INPUT_SUBSET,\n",
    "    generate_result_set_name(\n",
    "        DR_OPTIONS, prefix=f\"{INPUT_SUBSET}-{INPUT_STEM}-\", suffix=\".pkl\"\n",
    "    ),\n",
    ").resolve()\n",
    "display(input_filepath)\n",
    "\n",
    "assert input_filepath.exists(), \"Input file does not exist\"\n",
    "\n",
    "input_filepath_stem = input_filepath.stem\n",
    "display(input_filepath_stem)"
   ]
  },
  {
   "cell_type": "code",
   "execution_count": 15,
   "metadata": {
    "execution": {
     "iopub.execute_input": "2021-05-09T05:25:45.572462Z",
     "iopub.status.busy": "2021-05-09T05:25:45.572044Z",
     "iopub.status.idle": "2021-05-09T05:25:45.581415Z",
     "shell.execute_reply": "2021-05-09T05:25:45.580985Z"
    },
    "papermill": {
     "duration": 0.030391,
     "end_time": "2021-05-09T05:25:45.581512",
     "exception": false,
     "start_time": "2021-05-09T05:25:45.551121",
     "status": "completed"
    },
    "tags": []
   },
   "outputs": [],
   "source": [
    "data_umap = pd.read_pickle(input_filepath)"
   ]
  },
  {
   "cell_type": "code",
   "execution_count": 16,
   "metadata": {
    "execution": {
     "iopub.execute_input": "2021-05-09T05:25:45.616585Z",
     "iopub.status.busy": "2021-05-09T05:25:45.616229Z",
     "iopub.status.idle": "2021-05-09T05:25:45.623940Z",
     "shell.execute_reply": "2021-05-09T05:25:45.623600Z"
    },
    "papermill": {
     "duration": 0.025474,
     "end_time": "2021-05-09T05:25:45.624024",
     "exception": false,
     "start_time": "2021-05-09T05:25:45.598550",
     "status": "completed"
    },
    "tags": []
   },
   "outputs": [
    {
     "data": {
      "text/plain": [
       "(3752, 5)"
      ]
     },
     "execution_count": 16,
     "metadata": {},
     "output_type": "execute_result"
    }
   ],
   "source": [
    "data_umap.shape"
   ]
  },
  {
   "cell_type": "code",
   "execution_count": 17,
   "metadata": {
    "execution": {
     "iopub.execute_input": "2021-05-09T05:25:45.658312Z",
     "iopub.status.busy": "2021-05-09T05:25:45.657949Z",
     "iopub.status.idle": "2021-05-09T05:25:45.669294Z",
     "shell.execute_reply": "2021-05-09T05:25:45.668945Z"
    },
    "papermill": {
     "duration": 0.029346,
     "end_time": "2021-05-09T05:25:45.669381",
     "exception": false,
     "start_time": "2021-05-09T05:25:45.640035",
     "status": "completed"
    },
    "tags": []
   },
   "outputs": [
    {
     "data": {
      "text/html": [
       "<div>\n",
       "<style scoped>\n",
       "    .dataframe tbody tr th:only-of-type {\n",
       "        vertical-align: middle;\n",
       "    }\n",
       "\n",
       "    .dataframe tbody tr th {\n",
       "        vertical-align: top;\n",
       "    }\n",
       "\n",
       "    .dataframe thead th {\n",
       "        text-align: right;\n",
       "    }\n",
       "</style>\n",
       "<table border=\"1\" class=\"dataframe\">\n",
       "  <thead>\n",
       "    <tr style=\"text-align: right;\">\n",
       "      <th></th>\n",
       "      <th>UMAP1</th>\n",
       "      <th>UMAP2</th>\n",
       "      <th>UMAP3</th>\n",
       "      <th>UMAP4</th>\n",
       "      <th>UMAP5</th>\n",
       "    </tr>\n",
       "  </thead>\n",
       "  <tbody>\n",
       "    <tr>\n",
       "      <th>100001_raw-Food_weight</th>\n",
       "      <td>0.426554</td>\n",
       "      <td>0.670532</td>\n",
       "      <td>7.363805</td>\n",
       "      <td>1.171837</td>\n",
       "      <td>6.297295</td>\n",
       "    </tr>\n",
       "    <tr>\n",
       "      <th>100002_raw-Energy</th>\n",
       "      <td>-1.605179</td>\n",
       "      <td>0.815699</td>\n",
       "      <td>8.288521</td>\n",
       "      <td>0.990394</td>\n",
       "      <td>6.817351</td>\n",
       "    </tr>\n",
       "    <tr>\n",
       "      <th>100003_raw-Protein</th>\n",
       "      <td>-1.656178</td>\n",
       "      <td>0.788297</td>\n",
       "      <td>8.355906</td>\n",
       "      <td>1.017072</td>\n",
       "      <td>6.845651</td>\n",
       "    </tr>\n",
       "    <tr>\n",
       "      <th>100004_raw-Fat</th>\n",
       "      <td>-1.508325</td>\n",
       "      <td>0.802536</td>\n",
       "      <td>8.328274</td>\n",
       "      <td>1.033939</td>\n",
       "      <td>6.709319</td>\n",
       "    </tr>\n",
       "    <tr>\n",
       "      <th>100005_raw-Carbohydrate</th>\n",
       "      <td>-1.617872</td>\n",
       "      <td>0.812711</td>\n",
       "      <td>8.307973</td>\n",
       "      <td>1.020575</td>\n",
       "      <td>6.825944</td>\n",
       "    </tr>\n",
       "  </tbody>\n",
       "</table>\n",
       "</div>"
      ],
      "text/plain": [
       "                            UMAP1     UMAP2     UMAP3     UMAP4     UMAP5\n",
       "100001_raw-Food_weight   0.426554  0.670532  7.363805  1.171837  6.297295\n",
       "100002_raw-Energy       -1.605179  0.815699  8.288521  0.990394  6.817351\n",
       "100003_raw-Protein      -1.656178  0.788297  8.355906  1.017072  6.845651\n",
       "100004_raw-Fat          -1.508325  0.802536  8.328274  1.033939  6.709319\n",
       "100005_raw-Carbohydrate -1.617872  0.812711  8.307973  1.020575  6.825944"
      ]
     },
     "execution_count": 17,
     "metadata": {},
     "output_type": "execute_result"
    }
   ],
   "source": [
    "data_umap.head()"
   ]
  },
  {
   "cell_type": "markdown",
   "metadata": {
    "papermill": {
     "duration": 0.015312,
     "end_time": "2021-05-09T05:25:45.701307",
     "exception": false,
     "start_time": "2021-05-09T05:25:45.685995",
     "status": "completed"
    },
    "tags": []
   },
   "source": [
    "# Load selected best partitions"
   ]
  },
  {
   "cell_type": "code",
   "execution_count": 18,
   "metadata": {
    "execution": {
     "iopub.execute_input": "2021-05-09T05:25:45.734514Z",
     "iopub.status.busy": "2021-05-09T05:25:45.734153Z",
     "iopub.status.idle": "2021-05-09T05:25:45.742265Z",
     "shell.execute_reply": "2021-05-09T05:25:45.741902Z"
    },
    "papermill": {
     "duration": 0.025627,
     "end_time": "2021-05-09T05:25:45.742347",
     "exception": false,
     "start_time": "2021-05-09T05:25:45.716720",
     "status": "completed"
    },
    "tags": []
   },
   "outputs": [
    {
     "data": {
      "text/plain": [
       "PosixPath('/home/miltondp/projects/labs/greenelab/phenoplier/base/results/clustering/consensus_clustering/best_partitions_by_k.pkl')"
      ]
     },
     "metadata": {},
     "output_type": "display_data"
    }
   ],
   "source": [
    "input_file = Path(CONSENSUS_CLUSTERING_DIR, \"best_partitions_by_k.pkl\").resolve()\n",
    "display(input_file)"
   ]
  },
  {
   "cell_type": "code",
   "execution_count": 19,
   "metadata": {
    "execution": {
     "iopub.execute_input": "2021-05-09T05:25:45.776888Z",
     "iopub.status.busy": "2021-05-09T05:25:45.776463Z",
     "iopub.status.idle": "2021-05-09T05:25:45.784984Z",
     "shell.execute_reply": "2021-05-09T05:25:45.784573Z"
    },
    "papermill": {
     "duration": 0.026679,
     "end_time": "2021-05-09T05:25:45.785071",
     "exception": false,
     "start_time": "2021-05-09T05:25:45.758392",
     "status": "completed"
    },
    "tags": []
   },
   "outputs": [],
   "source": [
    "best_partitions = pd.read_pickle(input_file)"
   ]
  },
  {
   "cell_type": "code",
   "execution_count": 20,
   "metadata": {
    "execution": {
     "iopub.execute_input": "2021-05-09T05:25:45.820599Z",
     "iopub.status.busy": "2021-05-09T05:25:45.820232Z",
     "iopub.status.idle": "2021-05-09T05:25:45.828014Z",
     "shell.execute_reply": "2021-05-09T05:25:45.827710Z"
    },
    "papermill": {
     "duration": 0.026002,
     "end_time": "2021-05-09T05:25:45.828101",
     "exception": false,
     "start_time": "2021-05-09T05:25:45.802099",
     "status": "completed"
    },
    "tags": []
   },
   "outputs": [
    {
     "data": {
      "text/plain": [
       "(59, 4)"
      ]
     },
     "execution_count": 20,
     "metadata": {},
     "output_type": "execute_result"
    }
   ],
   "source": [
    "best_partitions.shape"
   ]
  },
  {
   "cell_type": "code",
   "execution_count": 21,
   "metadata": {
    "execution": {
     "iopub.execute_input": "2021-05-09T05:25:45.862782Z",
     "iopub.status.busy": "2021-05-09T05:25:45.862426Z",
     "iopub.status.idle": "2021-05-09T05:25:45.878663Z",
     "shell.execute_reply": "2021-05-09T05:25:45.878278Z"
    },
    "papermill": {
     "duration": 0.034449,
     "end_time": "2021-05-09T05:25:45.878748",
     "exception": false,
     "start_time": "2021-05-09T05:25:45.844299",
     "status": "completed"
    },
    "tags": []
   },
   "outputs": [
    {
     "data": {
      "text/html": [
       "<div>\n",
       "<style scoped>\n",
       "    .dataframe tbody tr th:only-of-type {\n",
       "        vertical-align: middle;\n",
       "    }\n",
       "\n",
       "    .dataframe tbody tr th {\n",
       "        vertical-align: top;\n",
       "    }\n",
       "\n",
       "    .dataframe thead th {\n",
       "        text-align: right;\n",
       "    }\n",
       "</style>\n",
       "<table border=\"1\" class=\"dataframe\">\n",
       "  <thead>\n",
       "    <tr style=\"text-align: right;\">\n",
       "      <th></th>\n",
       "      <th>method</th>\n",
       "      <th>partition</th>\n",
       "      <th>ari_median</th>\n",
       "      <th>selected</th>\n",
       "    </tr>\n",
       "    <tr>\n",
       "      <th>k</th>\n",
       "      <th></th>\n",
       "      <th></th>\n",
       "      <th></th>\n",
       "      <th></th>\n",
       "    </tr>\n",
       "  </thead>\n",
       "  <tbody>\n",
       "    <tr>\n",
       "      <th>14</th>\n",
       "      <td>scc_025</td>\n",
       "      <td>[0, 0, 0, 0, 0, 0, 0, 0, 0, 0, 0, 0, 0, 0, 0, ...</td>\n",
       "      <td>0.090117</td>\n",
       "      <td>True</td>\n",
       "    </tr>\n",
       "    <tr>\n",
       "      <th>22</th>\n",
       "      <td>scc_020</td>\n",
       "      <td>[13, 18, 18, 18, 18, 18, 18, 18, 18, 13, 18, 1...</td>\n",
       "      <td>0.090100</td>\n",
       "      <td>True</td>\n",
       "    </tr>\n",
       "    <tr>\n",
       "      <th>13</th>\n",
       "      <td>scc_025</td>\n",
       "      <td>[0, 0, 0, 0, 0, 0, 0, 0, 0, 0, 0, 0, 0, 0, 0, ...</td>\n",
       "      <td>0.089920</td>\n",
       "      <td>True</td>\n",
       "    </tr>\n",
       "    <tr>\n",
       "      <th>12</th>\n",
       "      <td>scc_025</td>\n",
       "      <td>[0, 0, 0, 0, 0, 0, 0, 0, 0, 0, 0, 0, 0, 0, 0, ...</td>\n",
       "      <td>0.089894</td>\n",
       "      <td>True</td>\n",
       "    </tr>\n",
       "    <tr>\n",
       "      <th>11</th>\n",
       "      <td>scc_025</td>\n",
       "      <td>[0, 0, 0, 0, 0, 0, 0, 0, 0, 0, 0, 0, 0, 0, 0, ...</td>\n",
       "      <td>0.089616</td>\n",
       "      <td>True</td>\n",
       "    </tr>\n",
       "  </tbody>\n",
       "</table>\n",
       "</div>"
      ],
      "text/plain": [
       "     method                                          partition  ari_median  \\\n",
       "k                                                                            \n",
       "14  scc_025  [0, 0, 0, 0, 0, 0, 0, 0, 0, 0, 0, 0, 0, 0, 0, ...    0.090117   \n",
       "22  scc_020  [13, 18, 18, 18, 18, 18, 18, 18, 18, 13, 18, 1...    0.090100   \n",
       "13  scc_025  [0, 0, 0, 0, 0, 0, 0, 0, 0, 0, 0, 0, 0, 0, 0, ...    0.089920   \n",
       "12  scc_025  [0, 0, 0, 0, 0, 0, 0, 0, 0, 0, 0, 0, 0, 0, 0, ...    0.089894   \n",
       "11  scc_025  [0, 0, 0, 0, 0, 0, 0, 0, 0, 0, 0, 0, 0, 0, 0, ...    0.089616   \n",
       "\n",
       "    selected  \n",
       "k             \n",
       "14      True  \n",
       "22      True  \n",
       "13      True  \n",
       "12      True  \n",
       "11      True  "
      ]
     },
     "execution_count": 21,
     "metadata": {},
     "output_type": "execute_result"
    }
   ],
   "source": [
    "best_partitions.head()"
   ]
  },
  {
   "cell_type": "markdown",
   "metadata": {
    "papermill": {
     "duration": 0.016285,
     "end_time": "2021-05-09T05:25:45.911911",
     "exception": false,
     "start_time": "2021-05-09T05:25:45.895626",
     "status": "completed"
    },
    "tags": []
   },
   "source": [
    "# Prepare data for clustrees"
   ]
  },
  {
   "cell_type": "code",
   "execution_count": 22,
   "metadata": {
    "execution": {
     "iopub.execute_input": "2021-05-09T05:25:45.946862Z",
     "iopub.status.busy": "2021-05-09T05:25:45.946501Z",
     "iopub.status.idle": "2021-05-09T05:25:45.954713Z",
     "shell.execute_reply": "2021-05-09T05:25:45.955005Z"
    },
    "papermill": {
     "duration": 0.027114,
     "end_time": "2021-05-09T05:25:45.955109",
     "exception": false,
     "start_time": "2021-05-09T05:25:45.927995",
     "status": "completed"
    },
    "tags": []
   },
   "outputs": [],
   "source": [
    "clustrees_df = pd.concat((data_pca, data_umap), join=\"inner\", axis=1)"
   ]
  },
  {
   "cell_type": "code",
   "execution_count": 23,
   "metadata": {
    "execution": {
     "iopub.execute_input": "2021-05-09T05:25:45.991063Z",
     "iopub.status.busy": "2021-05-09T05:25:45.990696Z",
     "iopub.status.idle": "2021-05-09T05:25:45.998619Z",
     "shell.execute_reply": "2021-05-09T05:25:45.998256Z"
    },
    "papermill": {
     "duration": 0.026851,
     "end_time": "2021-05-09T05:25:45.998700",
     "exception": false,
     "start_time": "2021-05-09T05:25:45.971849",
     "status": "completed"
    },
    "tags": []
   },
   "outputs": [
    {
     "data": {
      "text/plain": [
       "(3752, 10)"
      ]
     },
     "metadata": {},
     "output_type": "display_data"
    }
   ],
   "source": [
    "display(clustrees_df.shape)\n",
    "assert clustrees_df.shape == (data_pca.shape[0], data_pca.shape[1] + data_umap.shape[1])"
   ]
  },
  {
   "cell_type": "code",
   "execution_count": 24,
   "metadata": {
    "execution": {
     "iopub.execute_input": "2021-05-09T05:25:46.034241Z",
     "iopub.status.busy": "2021-05-09T05:25:46.033883Z",
     "iopub.status.idle": "2021-05-09T05:25:46.047430Z",
     "shell.execute_reply": "2021-05-09T05:25:46.047068Z"
    },
    "papermill": {
     "duration": 0.032056,
     "end_time": "2021-05-09T05:25:46.047514",
     "exception": false,
     "start_time": "2021-05-09T05:25:46.015458",
     "status": "completed"
    },
    "tags": []
   },
   "outputs": [
    {
     "data": {
      "text/html": [
       "<div>\n",
       "<style scoped>\n",
       "    .dataframe tbody tr th:only-of-type {\n",
       "        vertical-align: middle;\n",
       "    }\n",
       "\n",
       "    .dataframe tbody tr th {\n",
       "        vertical-align: top;\n",
       "    }\n",
       "\n",
       "    .dataframe thead th {\n",
       "        text-align: right;\n",
       "    }\n",
       "</style>\n",
       "<table border=\"1\" class=\"dataframe\">\n",
       "  <thead>\n",
       "    <tr style=\"text-align: right;\">\n",
       "      <th></th>\n",
       "      <th>PCA1</th>\n",
       "      <th>PCA2</th>\n",
       "      <th>PCA3</th>\n",
       "      <th>PCA4</th>\n",
       "      <th>PCA5</th>\n",
       "      <th>UMAP1</th>\n",
       "      <th>UMAP2</th>\n",
       "      <th>UMAP3</th>\n",
       "      <th>UMAP4</th>\n",
       "      <th>UMAP5</th>\n",
       "    </tr>\n",
       "  </thead>\n",
       "  <tbody>\n",
       "    <tr>\n",
       "      <th>100001_raw-Food_weight</th>\n",
       "      <td>0.805216</td>\n",
       "      <td>-0.865390</td>\n",
       "      <td>0.699480</td>\n",
       "      <td>-0.065976</td>\n",
       "      <td>0.999617</td>\n",
       "      <td>0.426554</td>\n",
       "      <td>0.670532</td>\n",
       "      <td>7.363805</td>\n",
       "      <td>1.171837</td>\n",
       "      <td>6.297295</td>\n",
       "    </tr>\n",
       "    <tr>\n",
       "      <th>100002_raw-Energy</th>\n",
       "      <td>0.588507</td>\n",
       "      <td>-1.491772</td>\n",
       "      <td>1.756340</td>\n",
       "      <td>-3.593295</td>\n",
       "      <td>2.100607</td>\n",
       "      <td>-1.605179</td>\n",
       "      <td>0.815699</td>\n",
       "      <td>8.288521</td>\n",
       "      <td>0.990394</td>\n",
       "      <td>6.817351</td>\n",
       "    </tr>\n",
       "    <tr>\n",
       "      <th>100003_raw-Protein</th>\n",
       "      <td>1.910160</td>\n",
       "      <td>-1.873687</td>\n",
       "      <td>1.876677</td>\n",
       "      <td>-3.832557</td>\n",
       "      <td>1.240704</td>\n",
       "      <td>-1.656178</td>\n",
       "      <td>0.788297</td>\n",
       "      <td>8.355906</td>\n",
       "      <td>1.017072</td>\n",
       "      <td>6.845651</td>\n",
       "    </tr>\n",
       "    <tr>\n",
       "      <th>100004_raw-Fat</th>\n",
       "      <td>0.750799</td>\n",
       "      <td>-0.294733</td>\n",
       "      <td>1.317710</td>\n",
       "      <td>-1.346081</td>\n",
       "      <td>2.006403</td>\n",
       "      <td>-1.508325</td>\n",
       "      <td>0.802536</td>\n",
       "      <td>8.328274</td>\n",
       "      <td>1.033939</td>\n",
       "      <td>6.709319</td>\n",
       "    </tr>\n",
       "    <tr>\n",
       "      <th>100005_raw-Carbohydrate</th>\n",
       "      <td>-0.530044</td>\n",
       "      <td>-0.007398</td>\n",
       "      <td>0.611418</td>\n",
       "      <td>-3.604094</td>\n",
       "      <td>2.227872</td>\n",
       "      <td>-1.617872</td>\n",
       "      <td>0.812711</td>\n",
       "      <td>8.307973</td>\n",
       "      <td>1.020575</td>\n",
       "      <td>6.825944</td>\n",
       "    </tr>\n",
       "  </tbody>\n",
       "</table>\n",
       "</div>"
      ],
      "text/plain": [
       "                             PCA1      PCA2      PCA3      PCA4      PCA5  \\\n",
       "100001_raw-Food_weight   0.805216 -0.865390  0.699480 -0.065976  0.999617   \n",
       "100002_raw-Energy        0.588507 -1.491772  1.756340 -3.593295  2.100607   \n",
       "100003_raw-Protein       1.910160 -1.873687  1.876677 -3.832557  1.240704   \n",
       "100004_raw-Fat           0.750799 -0.294733  1.317710 -1.346081  2.006403   \n",
       "100005_raw-Carbohydrate -0.530044 -0.007398  0.611418 -3.604094  2.227872   \n",
       "\n",
       "                            UMAP1     UMAP2     UMAP3     UMAP4     UMAP5  \n",
       "100001_raw-Food_weight   0.426554  0.670532  7.363805  1.171837  6.297295  \n",
       "100002_raw-Energy       -1.605179  0.815699  8.288521  0.990394  6.817351  \n",
       "100003_raw-Protein      -1.656178  0.788297  8.355906  1.017072  6.845651  \n",
       "100004_raw-Fat          -1.508325  0.802536  8.328274  1.033939  6.709319  \n",
       "100005_raw-Carbohydrate -1.617872  0.812711  8.307973  1.020575  6.825944  "
      ]
     },
     "execution_count": 24,
     "metadata": {},
     "output_type": "execute_result"
    }
   ],
   "source": [
    "clustrees_df.head()"
   ]
  },
  {
   "cell_type": "markdown",
   "metadata": {
    "papermill": {
     "duration": 0.016641,
     "end_time": "2021-05-09T05:25:46.081222",
     "exception": false,
     "start_time": "2021-05-09T05:25:46.064581",
     "status": "completed"
    },
    "tags": []
   },
   "source": [
    "## Add partitions"
   ]
  },
  {
   "cell_type": "code",
   "execution_count": 25,
   "metadata": {
    "execution": {
     "iopub.execute_input": "2021-05-09T05:25:46.117446Z",
     "iopub.status.busy": "2021-05-09T05:25:46.117083Z",
     "iopub.status.idle": "2021-05-09T05:25:46.125959Z",
     "shell.execute_reply": "2021-05-09T05:25:46.125589Z"
    },
    "papermill": {
     "duration": 0.027987,
     "end_time": "2021-05-09T05:25:46.126044",
     "exception": false,
     "start_time": "2021-05-09T05:25:46.098057",
     "status": "completed"
    },
    "tags": []
   },
   "outputs": [
    {
     "data": {
      "text/plain": [
       "array([3752])"
      ]
     },
     "metadata": {},
     "output_type": "display_data"
    }
   ],
   "source": [
    "_tmp = np.unique(\n",
    "    [best_partitions.loc[k, \"partition\"].shape for k in best_partitions.index]\n",
    ")\n",
    "display(_tmp)\n",
    "assert _tmp.shape[0] == 1\n",
    "assert _tmp[0] == data_umap.shape[0] == data_pca.shape[0]"
   ]
  },
  {
   "cell_type": "code",
   "execution_count": 26,
   "metadata": {
    "execution": {
     "iopub.execute_input": "2021-05-09T05:25:46.163475Z",
     "iopub.status.busy": "2021-05-09T05:25:46.163108Z",
     "iopub.status.idle": "2021-05-09T05:25:46.170634Z",
     "shell.execute_reply": "2021-05-09T05:25:46.170923Z"
    },
    "papermill": {
     "duration": 0.027379,
     "end_time": "2021-05-09T05:25:46.171024",
     "exception": false,
     "start_time": "2021-05-09T05:25:46.143645",
     "status": "completed"
    },
    "tags": []
   },
   "outputs": [],
   "source": [
    "assert not best_partitions.isna().any().any()"
   ]
  },
  {
   "cell_type": "code",
   "execution_count": 27,
   "metadata": {
    "execution": {
     "iopub.execute_input": "2021-05-09T05:25:46.207481Z",
     "iopub.status.busy": "2021-05-09T05:25:46.207120Z",
     "iopub.status.idle": "2021-05-09T05:25:46.218598Z",
     "shell.execute_reply": "2021-05-09T05:25:46.218207Z"
    },
    "papermill": {
     "duration": 0.030619,
     "end_time": "2021-05-09T05:25:46.218684",
     "exception": false,
     "start_time": "2021-05-09T05:25:46.188065",
     "status": "completed"
    },
    "tags": []
   },
   "outputs": [],
   "source": [
    "# df = df.assign(**{f'k{k}': partitions.loc[k, 'partition'] for k in selected_k_values})\n",
    "clustrees_df = clustrees_df.assign(\n",
    "    **{\n",
    "        f\"k{k}\": best_partitions.loc[k, \"partition\"]\n",
    "        for k in best_partitions.index\n",
    "        if best_partitions.loc[k, \"selected\"]\n",
    "    }\n",
    ")"
   ]
  },
  {
   "cell_type": "code",
   "execution_count": 28,
   "metadata": {
    "execution": {
     "iopub.execute_input": "2021-05-09T05:25:46.256249Z",
     "iopub.status.busy": "2021-05-09T05:25:46.255887Z",
     "iopub.status.idle": "2021-05-09T05:25:46.262836Z",
     "shell.execute_reply": "2021-05-09T05:25:46.262524Z"
    },
    "papermill": {
     "duration": 0.026548,
     "end_time": "2021-05-09T05:25:46.262920",
     "exception": false,
     "start_time": "2021-05-09T05:25:46.236372",
     "status": "completed"
    },
    "tags": []
   },
   "outputs": [],
   "source": [
    "clustrees_df.index.rename(\"trait\", inplace=True)"
   ]
  },
  {
   "cell_type": "code",
   "execution_count": 29,
   "metadata": {
    "execution": {
     "iopub.execute_input": "2021-05-09T05:25:46.299328Z",
     "iopub.status.busy": "2021-05-09T05:25:46.298969Z",
     "iopub.status.idle": "2021-05-09T05:25:46.306928Z",
     "shell.execute_reply": "2021-05-09T05:25:46.306558Z"
    },
    "papermill": {
     "duration": 0.026897,
     "end_time": "2021-05-09T05:25:46.307012",
     "exception": false,
     "start_time": "2021-05-09T05:25:46.280115",
     "status": "completed"
    },
    "tags": []
   },
   "outputs": [
    {
     "data": {
      "text/plain": [
       "(3752, 25)"
      ]
     },
     "execution_count": 29,
     "metadata": {},
     "output_type": "execute_result"
    }
   ],
   "source": [
    "clustrees_df.shape"
   ]
  },
  {
   "cell_type": "code",
   "execution_count": 30,
   "metadata": {
    "execution": {
     "iopub.execute_input": "2021-05-09T05:25:46.345160Z",
     "iopub.status.busy": "2021-05-09T05:25:46.344805Z",
     "iopub.status.idle": "2021-05-09T05:25:46.363650Z",
     "shell.execute_reply": "2021-05-09T05:25:46.363261Z"
    },
    "papermill": {
     "duration": 0.038661,
     "end_time": "2021-05-09T05:25:46.363735",
     "exception": false,
     "start_time": "2021-05-09T05:25:46.325074",
     "status": "completed"
    },
    "tags": []
   },
   "outputs": [
    {
     "data": {
      "text/html": [
       "<div>\n",
       "<style scoped>\n",
       "    .dataframe tbody tr th:only-of-type {\n",
       "        vertical-align: middle;\n",
       "    }\n",
       "\n",
       "    .dataframe tbody tr th {\n",
       "        vertical-align: top;\n",
       "    }\n",
       "\n",
       "    .dataframe thead th {\n",
       "        text-align: right;\n",
       "    }\n",
       "</style>\n",
       "<table border=\"1\" class=\"dataframe\">\n",
       "  <thead>\n",
       "    <tr style=\"text-align: right;\">\n",
       "      <th></th>\n",
       "      <th>PCA1</th>\n",
       "      <th>PCA2</th>\n",
       "      <th>PCA3</th>\n",
       "      <th>PCA4</th>\n",
       "      <th>PCA5</th>\n",
       "      <th>UMAP1</th>\n",
       "      <th>UMAP2</th>\n",
       "      <th>UMAP3</th>\n",
       "      <th>UMAP4</th>\n",
       "      <th>UMAP5</th>\n",
       "      <th>...</th>\n",
       "      <th>k15</th>\n",
       "      <th>k8</th>\n",
       "      <th>k16</th>\n",
       "      <th>k9</th>\n",
       "      <th>k7</th>\n",
       "      <th>k6</th>\n",
       "      <th>k5</th>\n",
       "      <th>k25</th>\n",
       "      <th>k26</th>\n",
       "      <th>k29</th>\n",
       "    </tr>\n",
       "    <tr>\n",
       "      <th>trait</th>\n",
       "      <th></th>\n",
       "      <th></th>\n",
       "      <th></th>\n",
       "      <th></th>\n",
       "      <th></th>\n",
       "      <th></th>\n",
       "      <th></th>\n",
       "      <th></th>\n",
       "      <th></th>\n",
       "      <th></th>\n",
       "      <th></th>\n",
       "      <th></th>\n",
       "      <th></th>\n",
       "      <th></th>\n",
       "      <th></th>\n",
       "      <th></th>\n",
       "      <th></th>\n",
       "      <th></th>\n",
       "      <th></th>\n",
       "      <th></th>\n",
       "      <th></th>\n",
       "    </tr>\n",
       "  </thead>\n",
       "  <tbody>\n",
       "    <tr>\n",
       "      <th>100001_raw-Food_weight</th>\n",
       "      <td>0.805216</td>\n",
       "      <td>-0.865390</td>\n",
       "      <td>0.699480</td>\n",
       "      <td>-0.065976</td>\n",
       "      <td>0.999617</td>\n",
       "      <td>0.426554</td>\n",
       "      <td>0.670532</td>\n",
       "      <td>7.363805</td>\n",
       "      <td>1.171837</td>\n",
       "      <td>6.297295</td>\n",
       "      <td>...</td>\n",
       "      <td>0</td>\n",
       "      <td>0</td>\n",
       "      <td>0</td>\n",
       "      <td>8</td>\n",
       "      <td>0</td>\n",
       "      <td>5</td>\n",
       "      <td>0</td>\n",
       "      <td>0</td>\n",
       "      <td>0</td>\n",
       "      <td>0</td>\n",
       "    </tr>\n",
       "    <tr>\n",
       "      <th>100002_raw-Energy</th>\n",
       "      <td>0.588507</td>\n",
       "      <td>-1.491772</td>\n",
       "      <td>1.756340</td>\n",
       "      <td>-3.593295</td>\n",
       "      <td>2.100607</td>\n",
       "      <td>-1.605179</td>\n",
       "      <td>0.815699</td>\n",
       "      <td>8.288521</td>\n",
       "      <td>0.990394</td>\n",
       "      <td>6.817351</td>\n",
       "      <td>...</td>\n",
       "      <td>0</td>\n",
       "      <td>0</td>\n",
       "      <td>0</td>\n",
       "      <td>8</td>\n",
       "      <td>0</td>\n",
       "      <td>5</td>\n",
       "      <td>0</td>\n",
       "      <td>21</td>\n",
       "      <td>21</td>\n",
       "      <td>22</td>\n",
       "    </tr>\n",
       "    <tr>\n",
       "      <th>100003_raw-Protein</th>\n",
       "      <td>1.910160</td>\n",
       "      <td>-1.873687</td>\n",
       "      <td>1.876677</td>\n",
       "      <td>-3.832557</td>\n",
       "      <td>1.240704</td>\n",
       "      <td>-1.656178</td>\n",
       "      <td>0.788297</td>\n",
       "      <td>8.355906</td>\n",
       "      <td>1.017072</td>\n",
       "      <td>6.845651</td>\n",
       "      <td>...</td>\n",
       "      <td>0</td>\n",
       "      <td>0</td>\n",
       "      <td>0</td>\n",
       "      <td>8</td>\n",
       "      <td>0</td>\n",
       "      <td>5</td>\n",
       "      <td>0</td>\n",
       "      <td>21</td>\n",
       "      <td>21</td>\n",
       "      <td>22</td>\n",
       "    </tr>\n",
       "    <tr>\n",
       "      <th>100004_raw-Fat</th>\n",
       "      <td>0.750799</td>\n",
       "      <td>-0.294733</td>\n",
       "      <td>1.317710</td>\n",
       "      <td>-1.346081</td>\n",
       "      <td>2.006403</td>\n",
       "      <td>-1.508325</td>\n",
       "      <td>0.802536</td>\n",
       "      <td>8.328274</td>\n",
       "      <td>1.033939</td>\n",
       "      <td>6.709319</td>\n",
       "      <td>...</td>\n",
       "      <td>0</td>\n",
       "      <td>0</td>\n",
       "      <td>0</td>\n",
       "      <td>8</td>\n",
       "      <td>0</td>\n",
       "      <td>5</td>\n",
       "      <td>0</td>\n",
       "      <td>21</td>\n",
       "      <td>21</td>\n",
       "      <td>22</td>\n",
       "    </tr>\n",
       "    <tr>\n",
       "      <th>100005_raw-Carbohydrate</th>\n",
       "      <td>-0.530044</td>\n",
       "      <td>-0.007398</td>\n",
       "      <td>0.611418</td>\n",
       "      <td>-3.604094</td>\n",
       "      <td>2.227872</td>\n",
       "      <td>-1.617872</td>\n",
       "      <td>0.812711</td>\n",
       "      <td>8.307973</td>\n",
       "      <td>1.020575</td>\n",
       "      <td>6.825944</td>\n",
       "      <td>...</td>\n",
       "      <td>0</td>\n",
       "      <td>0</td>\n",
       "      <td>0</td>\n",
       "      <td>8</td>\n",
       "      <td>0</td>\n",
       "      <td>5</td>\n",
       "      <td>0</td>\n",
       "      <td>21</td>\n",
       "      <td>21</td>\n",
       "      <td>22</td>\n",
       "    </tr>\n",
       "  </tbody>\n",
       "</table>\n",
       "<p>5 rows × 25 columns</p>\n",
       "</div>"
      ],
      "text/plain": [
       "                             PCA1      PCA2      PCA3      PCA4      PCA5  \\\n",
       "trait                                                                       \n",
       "100001_raw-Food_weight   0.805216 -0.865390  0.699480 -0.065976  0.999617   \n",
       "100002_raw-Energy        0.588507 -1.491772  1.756340 -3.593295  2.100607   \n",
       "100003_raw-Protein       1.910160 -1.873687  1.876677 -3.832557  1.240704   \n",
       "100004_raw-Fat           0.750799 -0.294733  1.317710 -1.346081  2.006403   \n",
       "100005_raw-Carbohydrate -0.530044 -0.007398  0.611418 -3.604094  2.227872   \n",
       "\n",
       "                            UMAP1     UMAP2     UMAP3     UMAP4     UMAP5  \\\n",
       "trait                                                                       \n",
       "100001_raw-Food_weight   0.426554  0.670532  7.363805  1.171837  6.297295   \n",
       "100002_raw-Energy       -1.605179  0.815699  8.288521  0.990394  6.817351   \n",
       "100003_raw-Protein      -1.656178  0.788297  8.355906  1.017072  6.845651   \n",
       "100004_raw-Fat          -1.508325  0.802536  8.328274  1.033939  6.709319   \n",
       "100005_raw-Carbohydrate -1.617872  0.812711  8.307973  1.020575  6.825944   \n",
       "\n",
       "                         ...  k15  k8  k16  k9  k7  k6  k5  k25  k26  k29  \n",
       "trait                    ...                                               \n",
       "100001_raw-Food_weight   ...    0   0    0   8   0   5   0    0    0    0  \n",
       "100002_raw-Energy        ...    0   0    0   8   0   5   0   21   21   22  \n",
       "100003_raw-Protein       ...    0   0    0   8   0   5   0   21   21   22  \n",
       "100004_raw-Fat           ...    0   0    0   8   0   5   0   21   21   22  \n",
       "100005_raw-Carbohydrate  ...    0   0    0   8   0   5   0   21   21   22  \n",
       "\n",
       "[5 rows x 25 columns]"
      ]
     },
     "execution_count": 30,
     "metadata": {},
     "output_type": "execute_result"
    }
   ],
   "source": [
    "clustrees_df.head()"
   ]
  },
  {
   "cell_type": "code",
   "execution_count": 31,
   "metadata": {
    "execution": {
     "iopub.execute_input": "2021-05-09T05:25:46.402960Z",
     "iopub.status.busy": "2021-05-09T05:25:46.402584Z",
     "iopub.status.idle": "2021-05-09T05:25:46.417406Z",
     "shell.execute_reply": "2021-05-09T05:25:46.417700Z"
    },
    "papermill": {
     "duration": 0.035768,
     "end_time": "2021-05-09T05:25:46.417806",
     "exception": false,
     "start_time": "2021-05-09T05:25:46.382038",
     "status": "completed"
    },
    "tags": []
   },
   "outputs": [],
   "source": [
    "# make sure partitions were assigned correctly\n",
    "assert (\n",
    "    np.unique(\n",
    "        [\n",
    "            clustrees_df[f\"{k}\"].value_counts().sum()\n",
    "            for k in clustrees_df.columns[\n",
    "                clustrees_df.columns.str.contains(\"^k[0-9]+$\", regex=True)\n",
    "            ]\n",
    "        ]\n",
    "    )[0]\n",
    "    == data_pca.shape[0]\n",
    ")"
   ]
  },
  {
   "cell_type": "markdown",
   "metadata": {
    "papermill": {
     "duration": 0.017242,
     "end_time": "2021-05-09T05:25:46.452687",
     "exception": false,
     "start_time": "2021-05-09T05:25:46.435445",
     "status": "completed"
    },
    "tags": []
   },
   "source": [
    "# Save"
   ]
  },
  {
   "cell_type": "code",
   "execution_count": 32,
   "metadata": {
    "execution": {
     "iopub.execute_input": "2021-05-09T05:25:46.489417Z",
     "iopub.status.busy": "2021-05-09T05:25:46.489060Z",
     "iopub.status.idle": "2021-05-09T05:25:46.496823Z",
     "shell.execute_reply": "2021-05-09T05:25:46.496445Z"
    },
    "papermill": {
     "duration": 0.027085,
     "end_time": "2021-05-09T05:25:46.496908",
     "exception": false,
     "start_time": "2021-05-09T05:25:46.469823",
     "status": "completed"
    },
    "tags": []
   },
   "outputs": [
    {
     "data": {
      "text/plain": [
       "PosixPath('/home/miltondp/projects/labs/greenelab/phenoplier/base/results/clustering/consensus_clustering/clustering_tree_data.tsv')"
      ]
     },
     "metadata": {},
     "output_type": "display_data"
    }
   ],
   "source": [
    "output_file = Path(CONSENSUS_CLUSTERING_DIR, \"clustering_tree_data.tsv\").resolve()\n",
    "display(output_file)"
   ]
  },
  {
   "cell_type": "code",
   "execution_count": 33,
   "metadata": {
    "execution": {
     "iopub.execute_input": "2021-05-09T05:25:46.536617Z",
     "iopub.status.busy": "2021-05-09T05:25:46.536257Z",
     "iopub.status.idle": "2021-05-09T05:25:46.599987Z",
     "shell.execute_reply": "2021-05-09T05:25:46.600280Z"
    },
    "papermill": {
     "duration": 0.084795,
     "end_time": "2021-05-09T05:25:46.600391",
     "exception": false,
     "start_time": "2021-05-09T05:25:46.515596",
     "status": "completed"
    },
    "tags": []
   },
   "outputs": [],
   "source": [
    "clustrees_df.to_csv(output_file, sep=\"\\t\")"
   ]
  },
  {
   "cell_type": "code",
   "execution_count": null,
   "metadata": {
    "papermill": {
     "duration": 0.017423,
     "end_time": "2021-05-09T05:25:46.635862",
     "exception": false,
     "start_time": "2021-05-09T05:25:46.618439",
     "status": "completed"
    },
    "tags": []
   },
   "outputs": [],
   "source": []
  }
 ],
 "metadata": {
  "jupytext": {
   "cell_metadata_filter": "all,-execution,-papermill,-trusted",
   "formats": "ipynb,py//py:percent"
  },
  "kernelspec": {
   "display_name": "Python 3",
   "language": "python",
   "name": "python3"
  },
  "language_info": {
   "codemirror_mode": {
    "name": "ipython",
    "version": 3
   },
   "file_extension": ".py",
   "mimetype": "text/x-python",
   "name": "python",
   "nbconvert_exporter": "python",
   "pygments_lexer": "ipython3",
   "version": "3.8.8"
  },
  "papermill": {
   "default_parameters": {},
   "duration": 3.359026,
   "end_time": "2021-05-09T05:25:46.961027",
   "environment_variables": {},
   "exception": null,
   "input_path": "16_consensus_clustering/040_04-clustering_trees_data.ipynb",
   "output_path": "16_consensus_clustering/040_04-clustering_trees_data.run.ipynb",
   "parameters": {},
   "start_time": "2021-05-09T05:25:43.602001",
   "version": "2.2.2"
  },
  "toc-autonumbering": true,
  "toc-showcode": false,
  "toc-showmarkdowntxt": false,
  "toc-showtags": false
 },
 "nbformat": 4,
 "nbformat_minor": 4
}
