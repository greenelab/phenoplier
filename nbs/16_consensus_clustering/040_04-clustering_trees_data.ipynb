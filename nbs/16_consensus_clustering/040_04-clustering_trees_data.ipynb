{
 "cells": [
  {
   "cell_type": "markdown",
   "metadata": {
    "papermill": {
     "duration": 0.01725,
     "end_time": "2021-05-09T02:11:13.830562",
     "exception": false,
     "start_time": "2021-05-09T02:11:13.813312",
     "status": "completed"
    },
    "tags": []
   },
   "source": [
    "# Description"
   ]
  },
  {
   "cell_type": "markdown",
   "metadata": {
    "papermill": {
     "duration": 0.013509,
     "end_time": "2021-05-09T02:11:13.857507",
     "exception": false,
     "start_time": "2021-05-09T02:11:13.843998",
     "status": "completed"
    },
    "tags": []
   },
   "source": [
    "It prepares the data to create a clustering tree visualization (using the R package `clustree`)."
   ]
  },
  {
   "cell_type": "markdown",
   "metadata": {
    "papermill": {
     "duration": 0.013629,
     "end_time": "2021-05-09T02:11:13.884529",
     "exception": false,
     "start_time": "2021-05-09T02:11:13.870900",
     "status": "completed"
    },
    "tags": []
   },
   "source": [
    "# Modules loading"
   ]
  },
  {
   "cell_type": "code",
   "execution_count": 1,
   "metadata": {
    "execution": {
     "iopub.execute_input": "2021-05-09T02:11:13.917307Z",
     "iopub.status.busy": "2021-05-09T02:11:13.916933Z",
     "iopub.status.idle": "2021-05-09T02:11:13.924411Z",
     "shell.execute_reply": "2021-05-09T02:11:13.923981Z"
    },
    "papermill": {
     "duration": 0.026375,
     "end_time": "2021-05-09T02:11:13.924504",
     "exception": false,
     "start_time": "2021-05-09T02:11:13.898129",
     "status": "completed"
    },
    "tags": []
   },
   "outputs": [],
   "source": [
    "%load_ext autoreload\n",
    "%autoreload 2"
   ]
  },
  {
   "cell_type": "code",
   "execution_count": 2,
   "metadata": {
    "execution": {
     "iopub.execute_input": "2021-05-09T02:11:13.954821Z",
     "iopub.status.busy": "2021-05-09T02:11:13.954427Z",
     "iopub.status.idle": "2021-05-09T02:11:14.143764Z",
     "shell.execute_reply": "2021-05-09T02:11:14.143372Z"
    },
    "papermill": {
     "duration": 0.205252,
     "end_time": "2021-05-09T02:11:14.143851",
     "exception": false,
     "start_time": "2021-05-09T02:11:13.938599",
     "status": "completed"
    },
    "tags": []
   },
   "outputs": [],
   "source": [
    "from IPython.display import display\n",
    "from pathlib import Path\n",
    "\n",
    "import numpy as np\n",
    "import pandas as pd\n",
    "\n",
    "from utils import generate_result_set_name\n",
    "import conf"
   ]
  },
  {
   "cell_type": "markdown",
   "metadata": {
    "papermill": {
     "duration": 0.013684,
     "end_time": "2021-05-09T02:11:14.171679",
     "exception": false,
     "start_time": "2021-05-09T02:11:14.157995",
     "status": "completed"
    },
    "tags": []
   },
   "source": [
    "# Settings"
   ]
  },
  {
   "cell_type": "code",
   "execution_count": 3,
   "metadata": {
    "execution": {
     "iopub.execute_input": "2021-05-09T02:11:14.201960Z",
     "iopub.status.busy": "2021-05-09T02:11:14.201583Z",
     "iopub.status.idle": "2021-05-09T02:11:14.213379Z",
     "shell.execute_reply": "2021-05-09T02:11:14.213053Z"
    },
    "papermill": {
     "duration": 0.027917,
     "end_time": "2021-05-09T02:11:14.213464",
     "exception": false,
     "start_time": "2021-05-09T02:11:14.185547",
     "status": "completed"
    },
    "tags": []
   },
   "outputs": [
    {
     "data": {
      "text/plain": [
       "PosixPath('/home/miltondp/projects/labs/greenelab/phenoplier/base/results/clustering/consensus_clustering')"
      ]
     },
     "metadata": {},
     "output_type": "display_data"
    }
   ],
   "source": [
    "CONSENSUS_CLUSTERING_DIR = Path(\n",
    "    conf.RESULTS[\"CLUSTERING_DIR\"], \"consensus_clustering\"\n",
    ").resolve()\n",
    "\n",
    "display(CONSENSUS_CLUSTERING_DIR)"
   ]
  },
  {
   "cell_type": "markdown",
   "metadata": {
    "papermill": {
     "duration": 0.014324,
     "end_time": "2021-05-09T02:11:14.242511",
     "exception": false,
     "start_time": "2021-05-09T02:11:14.228187",
     "status": "completed"
    },
    "tags": []
   },
   "source": [
    "# Load data"
   ]
  },
  {
   "cell_type": "markdown",
   "metadata": {
    "papermill": {
     "duration": 0.016737,
     "end_time": "2021-05-09T02:11:14.274078",
     "exception": false,
     "start_time": "2021-05-09T02:11:14.257341",
     "status": "completed"
    },
    "tags": []
   },
   "source": [
    "## PCA"
   ]
  },
  {
   "cell_type": "code",
   "execution_count": 4,
   "metadata": {
    "execution": {
     "iopub.execute_input": "2021-05-09T02:11:14.306579Z",
     "iopub.status.busy": "2021-05-09T02:11:14.306216Z",
     "iopub.status.idle": "2021-05-09T02:11:14.313045Z",
     "shell.execute_reply": "2021-05-09T02:11:14.313358Z"
    },
    "papermill": {
     "duration": 0.023595,
     "end_time": "2021-05-09T02:11:14.313466",
     "exception": false,
     "start_time": "2021-05-09T02:11:14.289871",
     "status": "completed"
    },
    "tags": []
   },
   "outputs": [],
   "source": [
    "INPUT_SUBSET = \"pca\""
   ]
  },
  {
   "cell_type": "code",
   "execution_count": 5,
   "metadata": {
    "execution": {
     "iopub.execute_input": "2021-05-09T02:11:14.344878Z",
     "iopub.status.busy": "2021-05-09T02:11:14.344428Z",
     "iopub.status.idle": "2021-05-09T02:11:14.351600Z",
     "shell.execute_reply": "2021-05-09T02:11:14.351234Z"
    },
    "papermill": {
     "duration": 0.023562,
     "end_time": "2021-05-09T02:11:14.351683",
     "exception": false,
     "start_time": "2021-05-09T02:11:14.328121",
     "status": "completed"
    },
    "tags": []
   },
   "outputs": [],
   "source": [
    "INPUT_STEM = \"z_score_std-projection-smultixcan-efo_partial-mashr-zscores\""
   ]
  },
  {
   "cell_type": "code",
   "execution_count": 6,
   "metadata": {
    "execution": {
     "iopub.execute_input": "2021-05-09T02:11:14.383617Z",
     "iopub.status.busy": "2021-05-09T02:11:14.383235Z",
     "iopub.status.idle": "2021-05-09T02:11:14.390200Z",
     "shell.execute_reply": "2021-05-09T02:11:14.390493Z"
    },
    "papermill": {
     "duration": 0.02417,
     "end_time": "2021-05-09T02:11:14.390602",
     "exception": false,
     "start_time": "2021-05-09T02:11:14.366432",
     "status": "completed"
    },
    "tags": []
   },
   "outputs": [],
   "source": [
    "DR_OPTIONS = {\n",
    "    \"n_components\": 50,\n",
    "    \"svd_solver\": \"full\",\n",
    "    \"random_state\": 0,\n",
    "}"
   ]
  },
  {
   "cell_type": "code",
   "execution_count": 7,
   "metadata": {
    "execution": {
     "iopub.execute_input": "2021-05-09T02:11:14.422016Z",
     "iopub.status.busy": "2021-05-09T02:11:14.421647Z",
     "iopub.status.idle": "2021-05-09T02:11:14.431333Z",
     "shell.execute_reply": "2021-05-09T02:11:14.430942Z"
    },
    "papermill": {
     "duration": 0.026052,
     "end_time": "2021-05-09T02:11:14.431432",
     "exception": false,
     "start_time": "2021-05-09T02:11:14.405380",
     "status": "completed"
    },
    "tags": []
   },
   "outputs": [
    {
     "data": {
      "text/plain": [
       "PosixPath('/home/miltondp/projects/labs/greenelab/phenoplier/base/results/data_transformations/pca/pca-z_score_std-projection-smultixcan-efo_partial-mashr-zscores-n_components_50-random_state_0-svd_solver_full.pkl')"
      ]
     },
     "metadata": {},
     "output_type": "display_data"
    },
    {
     "data": {
      "text/plain": [
       "'pca-z_score_std-projection-smultixcan-efo_partial-mashr-zscores-n_components_50-random_state_0-svd_solver_full'"
      ]
     },
     "metadata": {},
     "output_type": "display_data"
    }
   ],
   "source": [
    "input_filepath = Path(\n",
    "    conf.RESULTS[\"DATA_TRANSFORMATIONS_DIR\"],\n",
    "    INPUT_SUBSET,\n",
    "    generate_result_set_name(\n",
    "        DR_OPTIONS, prefix=f\"{INPUT_SUBSET}-{INPUT_STEM}-\", suffix=\".pkl\"\n",
    "    ),\n",
    ").resolve()\n",
    "display(input_filepath)\n",
    "\n",
    "assert input_filepath.exists(), \"Input file does not exist\"\n",
    "\n",
    "input_filepath_stem = input_filepath.stem\n",
    "display(input_filepath_stem)"
   ]
  },
  {
   "cell_type": "code",
   "execution_count": 8,
   "metadata": {
    "execution": {
     "iopub.execute_input": "2021-05-09T02:11:14.464085Z",
     "iopub.status.busy": "2021-05-09T02:11:14.463723Z",
     "iopub.status.idle": "2021-05-09T02:11:14.473347Z",
     "shell.execute_reply": "2021-05-09T02:11:14.472965Z"
    },
    "papermill": {
     "duration": 0.02683,
     "end_time": "2021-05-09T02:11:14.473432",
     "exception": false,
     "start_time": "2021-05-09T02:11:14.446602",
     "status": "completed"
    },
    "tags": []
   },
   "outputs": [],
   "source": [
    "data_pca = pd.read_pickle(input_filepath).iloc[:, :5]"
   ]
  },
  {
   "cell_type": "code",
   "execution_count": 9,
   "metadata": {
    "execution": {
     "iopub.execute_input": "2021-05-09T02:11:14.505472Z",
     "iopub.status.busy": "2021-05-09T02:11:14.505094Z",
     "iopub.status.idle": "2021-05-09T02:11:14.512848Z",
     "shell.execute_reply": "2021-05-09T02:11:14.513141Z"
    },
    "papermill": {
     "duration": 0.025065,
     "end_time": "2021-05-09T02:11:14.513245",
     "exception": false,
     "start_time": "2021-05-09T02:11:14.488180",
     "status": "completed"
    },
    "tags": []
   },
   "outputs": [
    {
     "data": {
      "text/plain": [
       "(3752, 5)"
      ]
     },
     "execution_count": 9,
     "metadata": {},
     "output_type": "execute_result"
    }
   ],
   "source": [
    "data_pca.shape"
   ]
  },
  {
   "cell_type": "code",
   "execution_count": 10,
   "metadata": {
    "execution": {
     "iopub.execute_input": "2021-05-09T02:11:14.545006Z",
     "iopub.status.busy": "2021-05-09T02:11:14.544593Z",
     "iopub.status.idle": "2021-05-09T02:11:14.557032Z",
     "shell.execute_reply": "2021-05-09T02:11:14.556719Z"
    },
    "papermill": {
     "duration": 0.029114,
     "end_time": "2021-05-09T02:11:14.557119",
     "exception": false,
     "start_time": "2021-05-09T02:11:14.528005",
     "status": "completed"
    },
    "tags": []
   },
   "outputs": [
    {
     "data": {
      "text/html": [
       "<div>\n",
       "<style scoped>\n",
       "    .dataframe tbody tr th:only-of-type {\n",
       "        vertical-align: middle;\n",
       "    }\n",
       "\n",
       "    .dataframe tbody tr th {\n",
       "        vertical-align: top;\n",
       "    }\n",
       "\n",
       "    .dataframe thead th {\n",
       "        text-align: right;\n",
       "    }\n",
       "</style>\n",
       "<table border=\"1\" class=\"dataframe\">\n",
       "  <thead>\n",
       "    <tr style=\"text-align: right;\">\n",
       "      <th></th>\n",
       "      <th>PCA1</th>\n",
       "      <th>PCA2</th>\n",
       "      <th>PCA3</th>\n",
       "      <th>PCA4</th>\n",
       "      <th>PCA5</th>\n",
       "    </tr>\n",
       "  </thead>\n",
       "  <tbody>\n",
       "    <tr>\n",
       "      <th>100001_raw-Food_weight</th>\n",
       "      <td>0.805216</td>\n",
       "      <td>-0.865390</td>\n",
       "      <td>0.699480</td>\n",
       "      <td>-0.065976</td>\n",
       "      <td>0.999617</td>\n",
       "    </tr>\n",
       "    <tr>\n",
       "      <th>100002_raw-Energy</th>\n",
       "      <td>0.588507</td>\n",
       "      <td>-1.491772</td>\n",
       "      <td>1.756340</td>\n",
       "      <td>-3.593295</td>\n",
       "      <td>2.100607</td>\n",
       "    </tr>\n",
       "    <tr>\n",
       "      <th>100003_raw-Protein</th>\n",
       "      <td>1.910160</td>\n",
       "      <td>-1.873687</td>\n",
       "      <td>1.876677</td>\n",
       "      <td>-3.832557</td>\n",
       "      <td>1.240704</td>\n",
       "    </tr>\n",
       "    <tr>\n",
       "      <th>100004_raw-Fat</th>\n",
       "      <td>0.750799</td>\n",
       "      <td>-0.294733</td>\n",
       "      <td>1.317710</td>\n",
       "      <td>-1.346081</td>\n",
       "      <td>2.006403</td>\n",
       "    </tr>\n",
       "    <tr>\n",
       "      <th>100005_raw-Carbohydrate</th>\n",
       "      <td>-0.530044</td>\n",
       "      <td>-0.007398</td>\n",
       "      <td>0.611418</td>\n",
       "      <td>-3.604094</td>\n",
       "      <td>2.227872</td>\n",
       "    </tr>\n",
       "  </tbody>\n",
       "</table>\n",
       "</div>"
      ],
      "text/plain": [
       "                             PCA1      PCA2      PCA3      PCA4      PCA5\n",
       "100001_raw-Food_weight   0.805216 -0.865390  0.699480 -0.065976  0.999617\n",
       "100002_raw-Energy        0.588507 -1.491772  1.756340 -3.593295  2.100607\n",
       "100003_raw-Protein       1.910160 -1.873687  1.876677 -3.832557  1.240704\n",
       "100004_raw-Fat           0.750799 -0.294733  1.317710 -1.346081  2.006403\n",
       "100005_raw-Carbohydrate -0.530044 -0.007398  0.611418 -3.604094  2.227872"
      ]
     },
     "execution_count": 10,
     "metadata": {},
     "output_type": "execute_result"
    }
   ],
   "source": [
    "data_pca.head()"
   ]
  },
  {
   "cell_type": "markdown",
   "metadata": {
    "papermill": {
     "duration": 0.014909,
     "end_time": "2021-05-09T02:11:14.587051",
     "exception": false,
     "start_time": "2021-05-09T02:11:14.572142",
     "status": "completed"
    },
    "tags": []
   },
   "source": [
    "## UMAP"
   ]
  },
  {
   "cell_type": "code",
   "execution_count": 11,
   "metadata": {
    "execution": {
     "iopub.execute_input": "2021-05-09T02:11:14.618756Z",
     "iopub.status.busy": "2021-05-09T02:11:14.618394Z",
     "iopub.status.idle": "2021-05-09T02:11:14.625673Z",
     "shell.execute_reply": "2021-05-09T02:11:14.625371Z"
    },
    "papermill": {
     "duration": 0.024167,
     "end_time": "2021-05-09T02:11:14.625757",
     "exception": false,
     "start_time": "2021-05-09T02:11:14.601590",
     "status": "completed"
    },
    "tags": []
   },
   "outputs": [],
   "source": [
    "INPUT_SUBSET = \"umap\""
   ]
  },
  {
   "cell_type": "code",
   "execution_count": 12,
   "metadata": {
    "execution": {
     "iopub.execute_input": "2021-05-09T02:11:14.658431Z",
     "iopub.status.busy": "2021-05-09T02:11:14.658071Z",
     "iopub.status.idle": "2021-05-09T02:11:14.665163Z",
     "shell.execute_reply": "2021-05-09T02:11:14.664801Z"
    },
    "papermill": {
     "duration": 0.024075,
     "end_time": "2021-05-09T02:11:14.665244",
     "exception": false,
     "start_time": "2021-05-09T02:11:14.641169",
     "status": "completed"
    },
    "tags": []
   },
   "outputs": [],
   "source": [
    "INPUT_STEM = \"z_score_std-projection-smultixcan-efo_partial-mashr-zscores\""
   ]
  },
  {
   "cell_type": "code",
   "execution_count": 13,
   "metadata": {
    "execution": {
     "iopub.execute_input": "2021-05-09T02:11:14.697458Z",
     "iopub.status.busy": "2021-05-09T02:11:14.697083Z",
     "iopub.status.idle": "2021-05-09T02:11:14.703799Z",
     "shell.execute_reply": "2021-05-09T02:11:14.704084Z"
    },
    "papermill": {
     "duration": 0.024166,
     "end_time": "2021-05-09T02:11:14.704189",
     "exception": false,
     "start_time": "2021-05-09T02:11:14.680023",
     "status": "completed"
    },
    "tags": []
   },
   "outputs": [],
   "source": [
    "DR_OPTIONS = {\n",
    "    \"n_components\": 5,\n",
    "    \"metric\": \"euclidean\",\n",
    "    \"n_neighbors\": 15,\n",
    "    \"random_state\": 0,\n",
    "}"
   ]
  },
  {
   "cell_type": "code",
   "execution_count": 14,
   "metadata": {
    "execution": {
     "iopub.execute_input": "2021-05-09T02:11:14.737319Z",
     "iopub.status.busy": "2021-05-09T02:11:14.736935Z",
     "iopub.status.idle": "2021-05-09T02:11:14.745849Z",
     "shell.execute_reply": "2021-05-09T02:11:14.745474Z"
    },
    "papermill": {
     "duration": 0.026501,
     "end_time": "2021-05-09T02:11:14.745933",
     "exception": false,
     "start_time": "2021-05-09T02:11:14.719432",
     "status": "completed"
    },
    "tags": []
   },
   "outputs": [
    {
     "data": {
      "text/plain": [
       "PosixPath('/home/miltondp/projects/labs/greenelab/phenoplier/base/results/data_transformations/umap/umap-z_score_std-projection-smultixcan-efo_partial-mashr-zscores-metric_euclidean-n_components_5-n_neighbors_15-random_state_0.pkl')"
      ]
     },
     "metadata": {},
     "output_type": "display_data"
    },
    {
     "data": {
      "text/plain": [
       "'umap-z_score_std-projection-smultixcan-efo_partial-mashr-zscores-metric_euclidean-n_components_5-n_neighbors_15-random_state_0'"
      ]
     },
     "metadata": {},
     "output_type": "display_data"
    }
   ],
   "source": [
    "input_filepath = Path(\n",
    "    conf.RESULTS[\"DATA_TRANSFORMATIONS_DIR\"],\n",
    "    INPUT_SUBSET,\n",
    "    generate_result_set_name(\n",
    "        DR_OPTIONS, prefix=f\"{INPUT_SUBSET}-{INPUT_STEM}-\", suffix=\".pkl\"\n",
    "    ),\n",
    ").resolve()\n",
    "display(input_filepath)\n",
    "\n",
    "assert input_filepath.exists(), \"Input file does not exist\"\n",
    "\n",
    "input_filepath_stem = input_filepath.stem\n",
    "display(input_filepath_stem)"
   ]
  },
  {
   "cell_type": "code",
   "execution_count": 15,
   "metadata": {
    "execution": {
     "iopub.execute_input": "2021-05-09T02:11:14.779727Z",
     "iopub.status.busy": "2021-05-09T02:11:14.779362Z",
     "iopub.status.idle": "2021-05-09T02:11:14.787778Z",
     "shell.execute_reply": "2021-05-09T02:11:14.787471Z"
    },
    "papermill": {
     "duration": 0.026023,
     "end_time": "2021-05-09T02:11:14.787865",
     "exception": false,
     "start_time": "2021-05-09T02:11:14.761842",
     "status": "completed"
    },
    "tags": []
   },
   "outputs": [],
   "source": [
    "data_umap = pd.read_pickle(input_filepath)"
   ]
  },
  {
   "cell_type": "code",
   "execution_count": 16,
   "metadata": {
    "execution": {
     "iopub.execute_input": "2021-05-09T02:11:14.821330Z",
     "iopub.status.busy": "2021-05-09T02:11:14.820966Z",
     "iopub.status.idle": "2021-05-09T02:11:14.828970Z",
     "shell.execute_reply": "2021-05-09T02:11:14.828542Z"
    },
    "papermill": {
     "duration": 0.025561,
     "end_time": "2021-05-09T02:11:14.829053",
     "exception": false,
     "start_time": "2021-05-09T02:11:14.803492",
     "status": "completed"
    },
    "tags": []
   },
   "outputs": [
    {
     "data": {
      "text/plain": [
       "(3752, 5)"
      ]
     },
     "execution_count": 16,
     "metadata": {},
     "output_type": "execute_result"
    }
   ],
   "source": [
    "data_umap.shape"
   ]
  },
  {
   "cell_type": "code",
   "execution_count": 17,
   "metadata": {
    "execution": {
     "iopub.execute_input": "2021-05-09T02:11:14.862664Z",
     "iopub.status.busy": "2021-05-09T02:11:14.862288Z",
     "iopub.status.idle": "2021-05-09T02:11:14.874408Z",
     "shell.execute_reply": "2021-05-09T02:11:14.874034Z"
    },
    "papermill": {
     "duration": 0.029875,
     "end_time": "2021-05-09T02:11:14.874494",
     "exception": false,
     "start_time": "2021-05-09T02:11:14.844619",
     "status": "completed"
    },
    "tags": []
   },
   "outputs": [
    {
     "data": {
      "text/html": [
       "<div>\n",
       "<style scoped>\n",
       "    .dataframe tbody tr th:only-of-type {\n",
       "        vertical-align: middle;\n",
       "    }\n",
       "\n",
       "    .dataframe tbody tr th {\n",
       "        vertical-align: top;\n",
       "    }\n",
       "\n",
       "    .dataframe thead th {\n",
       "        text-align: right;\n",
       "    }\n",
       "</style>\n",
       "<table border=\"1\" class=\"dataframe\">\n",
       "  <thead>\n",
       "    <tr style=\"text-align: right;\">\n",
       "      <th></th>\n",
       "      <th>UMAP1</th>\n",
       "      <th>UMAP2</th>\n",
       "      <th>UMAP3</th>\n",
       "      <th>UMAP4</th>\n",
       "      <th>UMAP5</th>\n",
       "    </tr>\n",
       "  </thead>\n",
       "  <tbody>\n",
       "    <tr>\n",
       "      <th>100001_raw-Food_weight</th>\n",
       "      <td>0.426554</td>\n",
       "      <td>0.670532</td>\n",
       "      <td>7.363805</td>\n",
       "      <td>1.171837</td>\n",
       "      <td>6.297295</td>\n",
       "    </tr>\n",
       "    <tr>\n",
       "      <th>100002_raw-Energy</th>\n",
       "      <td>-1.605179</td>\n",
       "      <td>0.815699</td>\n",
       "      <td>8.288521</td>\n",
       "      <td>0.990394</td>\n",
       "      <td>6.817351</td>\n",
       "    </tr>\n",
       "    <tr>\n",
       "      <th>100003_raw-Protein</th>\n",
       "      <td>-1.656178</td>\n",
       "      <td>0.788297</td>\n",
       "      <td>8.355906</td>\n",
       "      <td>1.017072</td>\n",
       "      <td>6.845651</td>\n",
       "    </tr>\n",
       "    <tr>\n",
       "      <th>100004_raw-Fat</th>\n",
       "      <td>-1.508325</td>\n",
       "      <td>0.802536</td>\n",
       "      <td>8.328274</td>\n",
       "      <td>1.033939</td>\n",
       "      <td>6.709319</td>\n",
       "    </tr>\n",
       "    <tr>\n",
       "      <th>100005_raw-Carbohydrate</th>\n",
       "      <td>-1.617872</td>\n",
       "      <td>0.812711</td>\n",
       "      <td>8.307973</td>\n",
       "      <td>1.020575</td>\n",
       "      <td>6.825944</td>\n",
       "    </tr>\n",
       "  </tbody>\n",
       "</table>\n",
       "</div>"
      ],
      "text/plain": [
       "                            UMAP1     UMAP2     UMAP3     UMAP4     UMAP5\n",
       "100001_raw-Food_weight   0.426554  0.670532  7.363805  1.171837  6.297295\n",
       "100002_raw-Energy       -1.605179  0.815699  8.288521  0.990394  6.817351\n",
       "100003_raw-Protein      -1.656178  0.788297  8.355906  1.017072  6.845651\n",
       "100004_raw-Fat          -1.508325  0.802536  8.328274  1.033939  6.709319\n",
       "100005_raw-Carbohydrate -1.617872  0.812711  8.307973  1.020575  6.825944"
      ]
     },
     "execution_count": 17,
     "metadata": {},
     "output_type": "execute_result"
    }
   ],
   "source": [
    "data_umap.head()"
   ]
  },
  {
   "cell_type": "markdown",
   "metadata": {
    "papermill": {
     "duration": 0.015237,
     "end_time": "2021-05-09T02:11:14.906101",
     "exception": false,
     "start_time": "2021-05-09T02:11:14.890864",
     "status": "completed"
    },
    "tags": []
   },
   "source": [
    "# Load selected best partitions"
   ]
  },
  {
   "cell_type": "code",
   "execution_count": 18,
   "metadata": {
    "execution": {
     "iopub.execute_input": "2021-05-09T02:11:14.939330Z",
     "iopub.status.busy": "2021-05-09T02:11:14.938968Z",
     "iopub.status.idle": "2021-05-09T02:11:14.947170Z",
     "shell.execute_reply": "2021-05-09T02:11:14.946794Z"
    },
    "papermill": {
     "duration": 0.025696,
     "end_time": "2021-05-09T02:11:14.947254",
     "exception": false,
     "start_time": "2021-05-09T02:11:14.921558",
     "status": "completed"
    },
    "tags": []
   },
   "outputs": [
    {
     "data": {
      "text/plain": [
       "PosixPath('/home/miltondp/projects/labs/greenelab/phenoplier/base/results/clustering/consensus_clustering/best_partitions_by_k.pkl')"
      ]
     },
     "metadata": {},
     "output_type": "display_data"
    }
   ],
   "source": [
    "input_file = Path(CONSENSUS_CLUSTERING_DIR, \"best_partitions_by_k.pkl\").resolve()\n",
    "display(input_file)"
   ]
  },
  {
   "cell_type": "code",
   "execution_count": 19,
   "metadata": {
    "execution": {
     "iopub.execute_input": "2021-05-09T02:11:14.982327Z",
     "iopub.status.busy": "2021-05-09T02:11:14.981968Z",
     "iopub.status.idle": "2021-05-09T02:11:14.990380Z",
     "shell.execute_reply": "2021-05-09T02:11:14.990079Z"
    },
    "papermill": {
     "duration": 0.02684,
     "end_time": "2021-05-09T02:11:14.990467",
     "exception": false,
     "start_time": "2021-05-09T02:11:14.963627",
     "status": "completed"
    },
    "tags": []
   },
   "outputs": [],
   "source": [
    "best_partitions = pd.read_pickle(input_file)"
   ]
  },
  {
   "cell_type": "code",
   "execution_count": 20,
   "metadata": {
    "execution": {
     "iopub.execute_input": "2021-05-09T02:11:15.025123Z",
     "iopub.status.busy": "2021-05-09T02:11:15.024721Z",
     "iopub.status.idle": "2021-05-09T02:11:15.032989Z",
     "shell.execute_reply": "2021-05-09T02:11:15.032569Z"
    },
    "papermill": {
     "duration": 0.026442,
     "end_time": "2021-05-09T02:11:15.033075",
     "exception": false,
     "start_time": "2021-05-09T02:11:15.006633",
     "status": "completed"
    },
    "tags": []
   },
   "outputs": [
    {
     "data": {
      "text/plain": [
       "(59, 4)"
      ]
     },
     "execution_count": 20,
     "metadata": {},
     "output_type": "execute_result"
    }
   ],
   "source": [
    "best_partitions.shape"
   ]
  },
  {
   "cell_type": "code",
   "execution_count": 21,
   "metadata": {
    "execution": {
     "iopub.execute_input": "2021-05-09T02:11:15.068911Z",
     "iopub.status.busy": "2021-05-09T02:11:15.068475Z",
     "iopub.status.idle": "2021-05-09T02:11:15.084571Z",
     "shell.execute_reply": "2021-05-09T02:11:15.084194Z"
    },
    "papermill": {
     "duration": 0.034438,
     "end_time": "2021-05-09T02:11:15.084655",
     "exception": false,
     "start_time": "2021-05-09T02:11:15.050217",
     "status": "completed"
    },
    "tags": []
   },
   "outputs": [
    {
     "data": {
      "text/html": [
       "<div>\n",
       "<style scoped>\n",
       "    .dataframe tbody tr th:only-of-type {\n",
       "        vertical-align: middle;\n",
       "    }\n",
       "\n",
       "    .dataframe tbody tr th {\n",
       "        vertical-align: top;\n",
       "    }\n",
       "\n",
       "    .dataframe thead th {\n",
       "        text-align: right;\n",
       "    }\n",
       "</style>\n",
       "<table border=\"1\" class=\"dataframe\">\n",
       "  <thead>\n",
       "    <tr style=\"text-align: right;\">\n",
       "      <th></th>\n",
       "      <th>method</th>\n",
       "      <th>partition</th>\n",
       "      <th>ari_median</th>\n",
       "      <th>selected</th>\n",
       "    </tr>\n",
       "    <tr>\n",
       "      <th>k</th>\n",
       "      <th></th>\n",
       "      <th></th>\n",
       "      <th></th>\n",
       "      <th></th>\n",
       "    </tr>\n",
       "  </thead>\n",
       "  <tbody>\n",
       "    <tr>\n",
       "      <th>14</th>\n",
       "      <td>scc_025</td>\n",
       "      <td>[0, 0, 0, 0, 0, 0, 0, 0, 0, 0, 0, 0, 0, 0, 0, ...</td>\n",
       "      <td>0.090117</td>\n",
       "      <td>True</td>\n",
       "    </tr>\n",
       "    <tr>\n",
       "      <th>22</th>\n",
       "      <td>scc_020</td>\n",
       "      <td>[13, 18, 18, 18, 18, 18, 18, 18, 18, 13, 18, 1...</td>\n",
       "      <td>0.090100</td>\n",
       "      <td>True</td>\n",
       "    </tr>\n",
       "    <tr>\n",
       "      <th>13</th>\n",
       "      <td>scc_025</td>\n",
       "      <td>[0, 0, 0, 0, 0, 0, 0, 0, 0, 0, 0, 0, 0, 0, 0, ...</td>\n",
       "      <td>0.089920</td>\n",
       "      <td>True</td>\n",
       "    </tr>\n",
       "    <tr>\n",
       "      <th>12</th>\n",
       "      <td>scc_025</td>\n",
       "      <td>[9, 9, 9, 9, 9, 9, 9, 9, 9, 9, 9, 9, 9, 9, 9, ...</td>\n",
       "      <td>0.089870</td>\n",
       "      <td>True</td>\n",
       "    </tr>\n",
       "    <tr>\n",
       "      <th>11</th>\n",
       "      <td>scc_025</td>\n",
       "      <td>[0, 0, 0, 0, 0, 0, 0, 0, 0, 0, 0, 0, 0, 0, 0, ...</td>\n",
       "      <td>0.089616</td>\n",
       "      <td>True</td>\n",
       "    </tr>\n",
       "  </tbody>\n",
       "</table>\n",
       "</div>"
      ],
      "text/plain": [
       "     method                                          partition  ari_median  \\\n",
       "k                                                                            \n",
       "14  scc_025  [0, 0, 0, 0, 0, 0, 0, 0, 0, 0, 0, 0, 0, 0, 0, ...    0.090117   \n",
       "22  scc_020  [13, 18, 18, 18, 18, 18, 18, 18, 18, 13, 18, 1...    0.090100   \n",
       "13  scc_025  [0, 0, 0, 0, 0, 0, 0, 0, 0, 0, 0, 0, 0, 0, 0, ...    0.089920   \n",
       "12  scc_025  [9, 9, 9, 9, 9, 9, 9, 9, 9, 9, 9, 9, 9, 9, 9, ...    0.089870   \n",
       "11  scc_025  [0, 0, 0, 0, 0, 0, 0, 0, 0, 0, 0, 0, 0, 0, 0, ...    0.089616   \n",
       "\n",
       "    selected  \n",
       "k             \n",
       "14      True  \n",
       "22      True  \n",
       "13      True  \n",
       "12      True  \n",
       "11      True  "
      ]
     },
     "execution_count": 21,
     "metadata": {},
     "output_type": "execute_result"
    }
   ],
   "source": [
    "best_partitions.head()"
   ]
  },
  {
   "cell_type": "markdown",
   "metadata": {
    "papermill": {
     "duration": 0.015885,
     "end_time": "2021-05-09T02:11:15.117165",
     "exception": false,
     "start_time": "2021-05-09T02:11:15.101280",
     "status": "completed"
    },
    "tags": []
   },
   "source": [
    "# Prepare data for clustrees"
   ]
  },
  {
   "cell_type": "code",
   "execution_count": 22,
   "metadata": {
    "execution": {
     "iopub.execute_input": "2021-05-09T02:11:15.151829Z",
     "iopub.status.busy": "2021-05-09T02:11:15.151462Z",
     "iopub.status.idle": "2021-05-09T02:11:15.160567Z",
     "shell.execute_reply": "2021-05-09T02:11:15.160184Z"
    },
    "papermill": {
     "duration": 0.027508,
     "end_time": "2021-05-09T02:11:15.160655",
     "exception": false,
     "start_time": "2021-05-09T02:11:15.133147",
     "status": "completed"
    },
    "tags": []
   },
   "outputs": [],
   "source": [
    "clustrees_df = pd.concat((data_pca, data_umap), join=\"inner\", axis=1)"
   ]
  },
  {
   "cell_type": "code",
   "execution_count": 23,
   "metadata": {
    "execution": {
     "iopub.execute_input": "2021-05-09T02:11:15.196640Z",
     "iopub.status.busy": "2021-05-09T02:11:15.196278Z",
     "iopub.status.idle": "2021-05-09T02:11:15.204597Z",
     "shell.execute_reply": "2021-05-09T02:11:15.204219Z"
    },
    "papermill": {
     "duration": 0.027275,
     "end_time": "2021-05-09T02:11:15.204683",
     "exception": false,
     "start_time": "2021-05-09T02:11:15.177408",
     "status": "completed"
    },
    "tags": []
   },
   "outputs": [
    {
     "data": {
      "text/plain": [
       "(3752, 10)"
      ]
     },
     "metadata": {},
     "output_type": "display_data"
    }
   ],
   "source": [
    "display(clustrees_df.shape)\n",
    "assert clustrees_df.shape == (data_pca.shape[0], data_pca.shape[1] + data_umap.shape[1])"
   ]
  },
  {
   "cell_type": "code",
   "execution_count": 24,
   "metadata": {
    "execution": {
     "iopub.execute_input": "2021-05-09T02:11:15.240365Z",
     "iopub.status.busy": "2021-05-09T02:11:15.239991Z",
     "iopub.status.idle": "2021-05-09T02:11:15.253594Z",
     "shell.execute_reply": "2021-05-09T02:11:15.253889Z"
    },
    "papermill": {
     "duration": 0.032626,
     "end_time": "2021-05-09T02:11:15.254001",
     "exception": false,
     "start_time": "2021-05-09T02:11:15.221375",
     "status": "completed"
    },
    "tags": []
   },
   "outputs": [
    {
     "data": {
      "text/html": [
       "<div>\n",
       "<style scoped>\n",
       "    .dataframe tbody tr th:only-of-type {\n",
       "        vertical-align: middle;\n",
       "    }\n",
       "\n",
       "    .dataframe tbody tr th {\n",
       "        vertical-align: top;\n",
       "    }\n",
       "\n",
       "    .dataframe thead th {\n",
       "        text-align: right;\n",
       "    }\n",
       "</style>\n",
       "<table border=\"1\" class=\"dataframe\">\n",
       "  <thead>\n",
       "    <tr style=\"text-align: right;\">\n",
       "      <th></th>\n",
       "      <th>PCA1</th>\n",
       "      <th>PCA2</th>\n",
       "      <th>PCA3</th>\n",
       "      <th>PCA4</th>\n",
       "      <th>PCA5</th>\n",
       "      <th>UMAP1</th>\n",
       "      <th>UMAP2</th>\n",
       "      <th>UMAP3</th>\n",
       "      <th>UMAP4</th>\n",
       "      <th>UMAP5</th>\n",
       "    </tr>\n",
       "  </thead>\n",
       "  <tbody>\n",
       "    <tr>\n",
       "      <th>100001_raw-Food_weight</th>\n",
       "      <td>0.805216</td>\n",
       "      <td>-0.865390</td>\n",
       "      <td>0.699480</td>\n",
       "      <td>-0.065976</td>\n",
       "      <td>0.999617</td>\n",
       "      <td>0.426554</td>\n",
       "      <td>0.670532</td>\n",
       "      <td>7.363805</td>\n",
       "      <td>1.171837</td>\n",
       "      <td>6.297295</td>\n",
       "    </tr>\n",
       "    <tr>\n",
       "      <th>100002_raw-Energy</th>\n",
       "      <td>0.588507</td>\n",
       "      <td>-1.491772</td>\n",
       "      <td>1.756340</td>\n",
       "      <td>-3.593295</td>\n",
       "      <td>2.100607</td>\n",
       "      <td>-1.605179</td>\n",
       "      <td>0.815699</td>\n",
       "      <td>8.288521</td>\n",
       "      <td>0.990394</td>\n",
       "      <td>6.817351</td>\n",
       "    </tr>\n",
       "    <tr>\n",
       "      <th>100003_raw-Protein</th>\n",
       "      <td>1.910160</td>\n",
       "      <td>-1.873687</td>\n",
       "      <td>1.876677</td>\n",
       "      <td>-3.832557</td>\n",
       "      <td>1.240704</td>\n",
       "      <td>-1.656178</td>\n",
       "      <td>0.788297</td>\n",
       "      <td>8.355906</td>\n",
       "      <td>1.017072</td>\n",
       "      <td>6.845651</td>\n",
       "    </tr>\n",
       "    <tr>\n",
       "      <th>100004_raw-Fat</th>\n",
       "      <td>0.750799</td>\n",
       "      <td>-0.294733</td>\n",
       "      <td>1.317710</td>\n",
       "      <td>-1.346081</td>\n",
       "      <td>2.006403</td>\n",
       "      <td>-1.508325</td>\n",
       "      <td>0.802536</td>\n",
       "      <td>8.328274</td>\n",
       "      <td>1.033939</td>\n",
       "      <td>6.709319</td>\n",
       "    </tr>\n",
       "    <tr>\n",
       "      <th>100005_raw-Carbohydrate</th>\n",
       "      <td>-0.530044</td>\n",
       "      <td>-0.007398</td>\n",
       "      <td>0.611418</td>\n",
       "      <td>-3.604094</td>\n",
       "      <td>2.227872</td>\n",
       "      <td>-1.617872</td>\n",
       "      <td>0.812711</td>\n",
       "      <td>8.307973</td>\n",
       "      <td>1.020575</td>\n",
       "      <td>6.825944</td>\n",
       "    </tr>\n",
       "  </tbody>\n",
       "</table>\n",
       "</div>"
      ],
      "text/plain": [
       "                             PCA1      PCA2      PCA3      PCA4      PCA5  \\\n",
       "100001_raw-Food_weight   0.805216 -0.865390  0.699480 -0.065976  0.999617   \n",
       "100002_raw-Energy        0.588507 -1.491772  1.756340 -3.593295  2.100607   \n",
       "100003_raw-Protein       1.910160 -1.873687  1.876677 -3.832557  1.240704   \n",
       "100004_raw-Fat           0.750799 -0.294733  1.317710 -1.346081  2.006403   \n",
       "100005_raw-Carbohydrate -0.530044 -0.007398  0.611418 -3.604094  2.227872   \n",
       "\n",
       "                            UMAP1     UMAP2     UMAP3     UMAP4     UMAP5  \n",
       "100001_raw-Food_weight   0.426554  0.670532  7.363805  1.171837  6.297295  \n",
       "100002_raw-Energy       -1.605179  0.815699  8.288521  0.990394  6.817351  \n",
       "100003_raw-Protein      -1.656178  0.788297  8.355906  1.017072  6.845651  \n",
       "100004_raw-Fat          -1.508325  0.802536  8.328274  1.033939  6.709319  \n",
       "100005_raw-Carbohydrate -1.617872  0.812711  8.307973  1.020575  6.825944  "
      ]
     },
     "execution_count": 24,
     "metadata": {},
     "output_type": "execute_result"
    }
   ],
   "source": [
    "clustrees_df.head()"
   ]
  },
  {
   "cell_type": "markdown",
   "metadata": {
    "papermill": {
     "duration": 0.019401,
     "end_time": "2021-05-09T02:11:15.293011",
     "exception": false,
     "start_time": "2021-05-09T02:11:15.273610",
     "status": "completed"
    },
    "tags": []
   },
   "source": [
    "## Add partitions"
   ]
  },
  {
   "cell_type": "code",
   "execution_count": 25,
   "metadata": {
    "execution": {
     "iopub.execute_input": "2021-05-09T02:11:15.330213Z",
     "iopub.status.busy": "2021-05-09T02:11:15.329833Z",
     "iopub.status.idle": "2021-05-09T02:11:15.338564Z",
     "shell.execute_reply": "2021-05-09T02:11:15.338191Z"
    },
    "papermill": {
     "duration": 0.028218,
     "end_time": "2021-05-09T02:11:15.338649",
     "exception": false,
     "start_time": "2021-05-09T02:11:15.310431",
     "status": "completed"
    },
    "tags": []
   },
   "outputs": [
    {
     "data": {
      "text/plain": [
       "array([3752])"
      ]
     },
     "metadata": {},
     "output_type": "display_data"
    }
   ],
   "source": [
    "_tmp = np.unique(\n",
    "    [best_partitions.loc[k, \"partition\"].shape for k in best_partitions.index]\n",
    ")\n",
    "display(_tmp)\n",
    "assert _tmp.shape[0] == 1\n",
    "assert _tmp[0] == data_umap.shape[0] == data_pca.shape[0]"
   ]
  },
  {
   "cell_type": "code",
   "execution_count": 26,
   "metadata": {
    "execution": {
     "iopub.execute_input": "2021-05-09T02:11:15.375582Z",
     "iopub.status.busy": "2021-05-09T02:11:15.375209Z",
     "iopub.status.idle": "2021-05-09T02:11:15.382991Z",
     "shell.execute_reply": "2021-05-09T02:11:15.382675Z"
    },
    "papermill": {
     "duration": 0.027363,
     "end_time": "2021-05-09T02:11:15.383082",
     "exception": false,
     "start_time": "2021-05-09T02:11:15.355719",
     "status": "completed"
    },
    "tags": []
   },
   "outputs": [],
   "source": [
    "assert not best_partitions.isna().any().any()"
   ]
  },
  {
   "cell_type": "code",
   "execution_count": 27,
   "metadata": {
    "execution": {
     "iopub.execute_input": "2021-05-09T02:11:15.421298Z",
     "iopub.status.busy": "2021-05-09T02:11:15.420903Z",
     "iopub.status.idle": "2021-05-09T02:11:15.432601Z",
     "shell.execute_reply": "2021-05-09T02:11:15.432227Z"
    },
    "papermill": {
     "duration": 0.03154,
     "end_time": "2021-05-09T02:11:15.432685",
     "exception": false,
     "start_time": "2021-05-09T02:11:15.401145",
     "status": "completed"
    },
    "tags": []
   },
   "outputs": [],
   "source": [
    "# df = df.assign(**{f'k{k}': partitions.loc[k, 'partition'] for k in selected_k_values})\n",
    "clustrees_df = clustrees_df.assign(\n",
    "    **{\n",
    "        f\"k{k}\": best_partitions.loc[k, \"partition\"]\n",
    "        for k in best_partitions.index\n",
    "        if best_partitions.loc[k, \"selected\"]\n",
    "    }\n",
    ")"
   ]
  },
  {
   "cell_type": "code",
   "execution_count": 28,
   "metadata": {
    "execution": {
     "iopub.execute_input": "2021-05-09T02:11:15.469445Z",
     "iopub.status.busy": "2021-05-09T02:11:15.469079Z",
     "iopub.status.idle": "2021-05-09T02:11:15.476328Z",
     "shell.execute_reply": "2021-05-09T02:11:15.475953Z"
    },
    "papermill": {
     "duration": 0.026522,
     "end_time": "2021-05-09T02:11:15.476414",
     "exception": false,
     "start_time": "2021-05-09T02:11:15.449892",
     "status": "completed"
    },
    "tags": []
   },
   "outputs": [],
   "source": [
    "clustrees_df.index.rename(\"trait\", inplace=True)"
   ]
  },
  {
   "cell_type": "code",
   "execution_count": 29,
   "metadata": {
    "execution": {
     "iopub.execute_input": "2021-05-09T02:11:15.513642Z",
     "iopub.status.busy": "2021-05-09T02:11:15.513271Z",
     "iopub.status.idle": "2021-05-09T02:11:15.521222Z",
     "shell.execute_reply": "2021-05-09T02:11:15.520853Z"
    },
    "papermill": {
     "duration": 0.027132,
     "end_time": "2021-05-09T02:11:15.521306",
     "exception": false,
     "start_time": "2021-05-09T02:11:15.494174",
     "status": "completed"
    },
    "tags": []
   },
   "outputs": [
    {
     "data": {
      "text/plain": [
       "(3752, 25)"
      ]
     },
     "execution_count": 29,
     "metadata": {},
     "output_type": "execute_result"
    }
   ],
   "source": [
    "clustrees_df.shape"
   ]
  },
  {
   "cell_type": "code",
   "execution_count": 30,
   "metadata": {
    "execution": {
     "iopub.execute_input": "2021-05-09T02:11:15.558501Z",
     "iopub.status.busy": "2021-05-09T02:11:15.558116Z",
     "iopub.status.idle": "2021-05-09T02:11:15.577092Z",
     "shell.execute_reply": "2021-05-09T02:11:15.576765Z"
    },
    "papermill": {
     "duration": 0.038348,
     "end_time": "2021-05-09T02:11:15.577180",
     "exception": false,
     "start_time": "2021-05-09T02:11:15.538832",
     "status": "completed"
    },
    "tags": []
   },
   "outputs": [
    {
     "data": {
      "text/html": [
       "<div>\n",
       "<style scoped>\n",
       "    .dataframe tbody tr th:only-of-type {\n",
       "        vertical-align: middle;\n",
       "    }\n",
       "\n",
       "    .dataframe tbody tr th {\n",
       "        vertical-align: top;\n",
       "    }\n",
       "\n",
       "    .dataframe thead th {\n",
       "        text-align: right;\n",
       "    }\n",
       "</style>\n",
       "<table border=\"1\" class=\"dataframe\">\n",
       "  <thead>\n",
       "    <tr style=\"text-align: right;\">\n",
       "      <th></th>\n",
       "      <th>PCA1</th>\n",
       "      <th>PCA2</th>\n",
       "      <th>PCA3</th>\n",
       "      <th>PCA4</th>\n",
       "      <th>PCA5</th>\n",
       "      <th>UMAP1</th>\n",
       "      <th>UMAP2</th>\n",
       "      <th>UMAP3</th>\n",
       "      <th>UMAP4</th>\n",
       "      <th>UMAP5</th>\n",
       "      <th>...</th>\n",
       "      <th>k15</th>\n",
       "      <th>k7</th>\n",
       "      <th>k8</th>\n",
       "      <th>k16</th>\n",
       "      <th>k9</th>\n",
       "      <th>k6</th>\n",
       "      <th>k5</th>\n",
       "      <th>k25</th>\n",
       "      <th>k26</th>\n",
       "      <th>k29</th>\n",
       "    </tr>\n",
       "    <tr>\n",
       "      <th>trait</th>\n",
       "      <th></th>\n",
       "      <th></th>\n",
       "      <th></th>\n",
       "      <th></th>\n",
       "      <th></th>\n",
       "      <th></th>\n",
       "      <th></th>\n",
       "      <th></th>\n",
       "      <th></th>\n",
       "      <th></th>\n",
       "      <th></th>\n",
       "      <th></th>\n",
       "      <th></th>\n",
       "      <th></th>\n",
       "      <th></th>\n",
       "      <th></th>\n",
       "      <th></th>\n",
       "      <th></th>\n",
       "      <th></th>\n",
       "      <th></th>\n",
       "      <th></th>\n",
       "    </tr>\n",
       "  </thead>\n",
       "  <tbody>\n",
       "    <tr>\n",
       "      <th>100001_raw-Food_weight</th>\n",
       "      <td>0.805216</td>\n",
       "      <td>-0.865390</td>\n",
       "      <td>0.699480</td>\n",
       "      <td>-0.065976</td>\n",
       "      <td>0.999617</td>\n",
       "      <td>0.426554</td>\n",
       "      <td>0.670532</td>\n",
       "      <td>7.363805</td>\n",
       "      <td>1.171837</td>\n",
       "      <td>6.297295</td>\n",
       "      <td>...</td>\n",
       "      <td>0</td>\n",
       "      <td>5</td>\n",
       "      <td>0</td>\n",
       "      <td>0</td>\n",
       "      <td>8</td>\n",
       "      <td>0</td>\n",
       "      <td>0</td>\n",
       "      <td>0</td>\n",
       "      <td>0</td>\n",
       "      <td>0</td>\n",
       "    </tr>\n",
       "    <tr>\n",
       "      <th>100002_raw-Energy</th>\n",
       "      <td>0.588507</td>\n",
       "      <td>-1.491772</td>\n",
       "      <td>1.756340</td>\n",
       "      <td>-3.593295</td>\n",
       "      <td>2.100607</td>\n",
       "      <td>-1.605179</td>\n",
       "      <td>0.815699</td>\n",
       "      <td>8.288521</td>\n",
       "      <td>0.990394</td>\n",
       "      <td>6.817351</td>\n",
       "      <td>...</td>\n",
       "      <td>0</td>\n",
       "      <td>5</td>\n",
       "      <td>0</td>\n",
       "      <td>0</td>\n",
       "      <td>8</td>\n",
       "      <td>0</td>\n",
       "      <td>0</td>\n",
       "      <td>21</td>\n",
       "      <td>21</td>\n",
       "      <td>22</td>\n",
       "    </tr>\n",
       "    <tr>\n",
       "      <th>100003_raw-Protein</th>\n",
       "      <td>1.910160</td>\n",
       "      <td>-1.873687</td>\n",
       "      <td>1.876677</td>\n",
       "      <td>-3.832557</td>\n",
       "      <td>1.240704</td>\n",
       "      <td>-1.656178</td>\n",
       "      <td>0.788297</td>\n",
       "      <td>8.355906</td>\n",
       "      <td>1.017072</td>\n",
       "      <td>6.845651</td>\n",
       "      <td>...</td>\n",
       "      <td>0</td>\n",
       "      <td>5</td>\n",
       "      <td>0</td>\n",
       "      <td>0</td>\n",
       "      <td>8</td>\n",
       "      <td>0</td>\n",
       "      <td>0</td>\n",
       "      <td>21</td>\n",
       "      <td>21</td>\n",
       "      <td>22</td>\n",
       "    </tr>\n",
       "    <tr>\n",
       "      <th>100004_raw-Fat</th>\n",
       "      <td>0.750799</td>\n",
       "      <td>-0.294733</td>\n",
       "      <td>1.317710</td>\n",
       "      <td>-1.346081</td>\n",
       "      <td>2.006403</td>\n",
       "      <td>-1.508325</td>\n",
       "      <td>0.802536</td>\n",
       "      <td>8.328274</td>\n",
       "      <td>1.033939</td>\n",
       "      <td>6.709319</td>\n",
       "      <td>...</td>\n",
       "      <td>0</td>\n",
       "      <td>5</td>\n",
       "      <td>0</td>\n",
       "      <td>0</td>\n",
       "      <td>8</td>\n",
       "      <td>0</td>\n",
       "      <td>0</td>\n",
       "      <td>21</td>\n",
       "      <td>21</td>\n",
       "      <td>22</td>\n",
       "    </tr>\n",
       "    <tr>\n",
       "      <th>100005_raw-Carbohydrate</th>\n",
       "      <td>-0.530044</td>\n",
       "      <td>-0.007398</td>\n",
       "      <td>0.611418</td>\n",
       "      <td>-3.604094</td>\n",
       "      <td>2.227872</td>\n",
       "      <td>-1.617872</td>\n",
       "      <td>0.812711</td>\n",
       "      <td>8.307973</td>\n",
       "      <td>1.020575</td>\n",
       "      <td>6.825944</td>\n",
       "      <td>...</td>\n",
       "      <td>0</td>\n",
       "      <td>5</td>\n",
       "      <td>0</td>\n",
       "      <td>0</td>\n",
       "      <td>8</td>\n",
       "      <td>0</td>\n",
       "      <td>0</td>\n",
       "      <td>21</td>\n",
       "      <td>21</td>\n",
       "      <td>22</td>\n",
       "    </tr>\n",
       "  </tbody>\n",
       "</table>\n",
       "<p>5 rows × 25 columns</p>\n",
       "</div>"
      ],
      "text/plain": [
       "                             PCA1      PCA2      PCA3      PCA4      PCA5  \\\n",
       "trait                                                                       \n",
       "100001_raw-Food_weight   0.805216 -0.865390  0.699480 -0.065976  0.999617   \n",
       "100002_raw-Energy        0.588507 -1.491772  1.756340 -3.593295  2.100607   \n",
       "100003_raw-Protein       1.910160 -1.873687  1.876677 -3.832557  1.240704   \n",
       "100004_raw-Fat           0.750799 -0.294733  1.317710 -1.346081  2.006403   \n",
       "100005_raw-Carbohydrate -0.530044 -0.007398  0.611418 -3.604094  2.227872   \n",
       "\n",
       "                            UMAP1     UMAP2     UMAP3     UMAP4     UMAP5  \\\n",
       "trait                                                                       \n",
       "100001_raw-Food_weight   0.426554  0.670532  7.363805  1.171837  6.297295   \n",
       "100002_raw-Energy       -1.605179  0.815699  8.288521  0.990394  6.817351   \n",
       "100003_raw-Protein      -1.656178  0.788297  8.355906  1.017072  6.845651   \n",
       "100004_raw-Fat          -1.508325  0.802536  8.328274  1.033939  6.709319   \n",
       "100005_raw-Carbohydrate -1.617872  0.812711  8.307973  1.020575  6.825944   \n",
       "\n",
       "                         ...  k15  k7  k8  k16  k9  k6  k5  k25  k26  k29  \n",
       "trait                    ...                                               \n",
       "100001_raw-Food_weight   ...    0   5   0    0   8   0   0    0    0    0  \n",
       "100002_raw-Energy        ...    0   5   0    0   8   0   0   21   21   22  \n",
       "100003_raw-Protein       ...    0   5   0    0   8   0   0   21   21   22  \n",
       "100004_raw-Fat           ...    0   5   0    0   8   0   0   21   21   22  \n",
       "100005_raw-Carbohydrate  ...    0   5   0    0   8   0   0   21   21   22  \n",
       "\n",
       "[5 rows x 25 columns]"
      ]
     },
     "execution_count": 30,
     "metadata": {},
     "output_type": "execute_result"
    }
   ],
   "source": [
    "clustrees_df.head()"
   ]
  },
  {
   "cell_type": "code",
   "execution_count": 31,
   "metadata": {
    "execution": {
     "iopub.execute_input": "2021-05-09T02:11:15.615975Z",
     "iopub.status.busy": "2021-05-09T02:11:15.615597Z",
     "iopub.status.idle": "2021-05-09T02:11:15.630615Z",
     "shell.execute_reply": "2021-05-09T02:11:15.630229Z"
    },
    "papermill": {
     "duration": 0.035249,
     "end_time": "2021-05-09T02:11:15.630702",
     "exception": false,
     "start_time": "2021-05-09T02:11:15.595453",
     "status": "completed"
    },
    "tags": []
   },
   "outputs": [],
   "source": [
    "# make sure partitions were assigned correctly\n",
    "assert (\n",
    "    np.unique(\n",
    "        [\n",
    "            clustrees_df[f\"{k}\"].value_counts().sum()\n",
    "            for k in clustrees_df.columns[\n",
    "                clustrees_df.columns.str.contains(\"^k[0-9]+$\", regex=True)\n",
    "            ]\n",
    "        ]\n",
    "    )[0]\n",
    "    == data_pca.shape[0]\n",
    ")"
   ]
  },
  {
   "cell_type": "markdown",
   "metadata": {
    "papermill": {
     "duration": 0.017382,
     "end_time": "2021-05-09T02:11:15.665951",
     "exception": false,
     "start_time": "2021-05-09T02:11:15.648569",
     "status": "completed"
    },
    "tags": []
   },
   "source": [
    "# Save"
   ]
  },
  {
   "cell_type": "code",
   "execution_count": 32,
   "metadata": {
    "execution": {
     "iopub.execute_input": "2021-05-09T02:11:15.702972Z",
     "iopub.status.busy": "2021-05-09T02:11:15.702605Z",
     "iopub.status.idle": "2021-05-09T02:11:15.710896Z",
     "shell.execute_reply": "2021-05-09T02:11:15.710586Z"
    },
    "papermill": {
     "duration": 0.027925,
     "end_time": "2021-05-09T02:11:15.710984",
     "exception": false,
     "start_time": "2021-05-09T02:11:15.683059",
     "status": "completed"
    },
    "tags": []
   },
   "outputs": [
    {
     "data": {
      "text/plain": [
       "PosixPath('/home/miltondp/projects/labs/greenelab/phenoplier/base/results/clustering/consensus_clustering/clustering_tree_data.tsv')"
      ]
     },
     "metadata": {},
     "output_type": "display_data"
    }
   ],
   "source": [
    "output_file = Path(CONSENSUS_CLUSTERING_DIR, \"clustering_tree_data.tsv\").resolve()\n",
    "display(output_file)"
   ]
  },
  {
   "cell_type": "code",
   "execution_count": 33,
   "metadata": {
    "execution": {
     "iopub.execute_input": "2021-05-09T02:11:15.750171Z",
     "iopub.status.busy": "2021-05-09T02:11:15.749796Z",
     "iopub.status.idle": "2021-05-09T02:11:15.806036Z",
     "shell.execute_reply": "2021-05-09T02:11:15.805647Z"
    },
    "papermill": {
     "duration": 0.076674,
     "end_time": "2021-05-09T02:11:15.806123",
     "exception": false,
     "start_time": "2021-05-09T02:11:15.729449",
     "status": "completed"
    },
    "tags": []
   },
   "outputs": [],
   "source": [
    "clustrees_df.to_csv(output_file, sep=\"\\t\")"
   ]
  },
  {
   "cell_type": "code",
   "execution_count": null,
   "metadata": {
    "papermill": {
     "duration": 0.017634,
     "end_time": "2021-05-09T02:11:15.841998",
     "exception": false,
     "start_time": "2021-05-09T02:11:15.824364",
     "status": "completed"
    },
    "tags": []
   },
   "outputs": [],
   "source": []
  }
 ],
 "metadata": {
  "jupytext": {
   "cell_metadata_filter": "all,-execution,-papermill,-trusted",
   "formats": "ipynb,py//py:percent"
  },
  "kernelspec": {
   "display_name": "Python 3",
   "language": "python",
   "name": "python3"
  },
  "language_info": {
   "codemirror_mode": {
    "name": "ipython",
    "version": 3
   },
   "file_extension": ".py",
   "mimetype": "text/x-python",
   "name": "python",
   "nbconvert_exporter": "python",
   "pygments_lexer": "ipython3",
   "version": "3.8.8"
  },
  "papermill": {
   "default_parameters": {},
   "duration": 4.203109,
   "end_time": "2021-05-09T02:11:17.045643",
   "environment_variables": {},
   "exception": null,
   "input_path": "16_consensus_clustering/040_04-clustering_trees_data.ipynb",
   "output_path": "16_consensus_clustering/040_04-clustering_trees_data.run.ipynb",
   "parameters": {},
   "start_time": "2021-05-09T02:11:12.842534",
   "version": "2.2.2"
  },
  "toc-autonumbering": true,
  "toc-showcode": false,
  "toc-showmarkdowntxt": false,
  "toc-showtags": false
 },
 "nbformat": 4,
 "nbformat_minor": 4
}
