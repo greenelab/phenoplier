{
 "cells": [
  {
   "cell_type": "markdown",
   "metadata": {},
   "source": [
    "# Description"
   ]
  },
  {
   "cell_type": "markdown",
   "metadata": {},
   "source": [
    "TODO"
   ]
  },
  {
   "cell_type": "markdown",
   "metadata": {},
   "source": [
    "# Modules loading"
   ]
  },
  {
   "cell_type": "code",
   "execution_count": null,
   "metadata": {},
   "outputs": [],
   "source": [
    "%load_ext autoreload\n",
    "%autoreload 2"
   ]
  },
  {
   "cell_type": "code",
   "execution_count": 2,
   "metadata": {},
   "outputs": [],
   "source": [
    "from pathlib import Path\n",
    "\n",
    "import numpy as np\n",
    "import pandas as pd\n",
    "import matplotlib.pyplot as plt\n",
    "import seaborn as sns\n",
    "\n",
    "from utils import generate_result_set_name\n",
    "import conf"
   ]
  },
  {
   "cell_type": "markdown",
   "metadata": {},
   "source": [
    "# Settings"
   ]
  },
  {
   "cell_type": "code",
   "execution_count": 3,
   "metadata": {},
   "outputs": [
    {
     "data": {
      "text/plain": [
       "PosixPath('/media/miltondp/Elements1/projects/phenoplier/results/clustering/consensus_clustering')"
      ]
     },
     "metadata": {},
     "output_type": "display_data"
    }
   ],
   "source": [
    "# output dir for this notebook\n",
    "CONSENSUS_CLUSTERING_DIR = Path(\n",
    "    conf.RESULTS[\"CLUSTERING_DIR\"], \"consensus_clustering\"\n",
    ").resolve()\n",
    "\n",
    "display(CONSENSUS_CLUSTERING_DIR)"
   ]
  },
  {
   "cell_type": "markdown",
   "metadata": {},
   "source": [
    "# Load data"
   ]
  },
  {
   "cell_type": "markdown",
   "metadata": {},
   "source": [
    "## PCA"
   ]
  },
  {
   "cell_type": "code",
   "execution_count": 4,
   "metadata": {
    "papermill": {
     "duration": 0.032183,
     "end_time": "2020-12-02T16:52:25.869240",
     "exception": false,
     "start_time": "2020-12-02T16:52:25.837057",
     "status": "completed"
    },
    "tags": []
   },
   "outputs": [],
   "source": [
    "INPUT_SUBSET = \"pca\""
   ]
  },
  {
   "cell_type": "code",
   "execution_count": 5,
   "metadata": {
    "papermill": {
     "duration": 0.032292,
     "end_time": "2020-12-02T16:52:25.920249",
     "exception": false,
     "start_time": "2020-12-02T16:52:25.887957",
     "status": "completed"
    },
    "tags": []
   },
   "outputs": [],
   "source": [
    "INPUT_STEM = \"z_score_std-projection-smultixcan-efo_partial-mashr-zscores\""
   ]
  },
  {
   "cell_type": "code",
   "execution_count": 6,
   "metadata": {
    "papermill": {
     "duration": 0.03286,
     "end_time": "2020-12-02T16:52:25.972536",
     "exception": false,
     "start_time": "2020-12-02T16:52:25.939676",
     "status": "completed"
    },
    "tags": []
   },
   "outputs": [],
   "source": [
    "DR_OPTIONS = {\n",
    "    \"n_components\": 50,\n",
    "    \"svd_solver\": \"full\",\n",
    "    \"random_state\": 0,\n",
    "}"
   ]
  },
  {
   "cell_type": "code",
   "execution_count": 7,
   "metadata": {
    "papermill": {
     "duration": 0.03511,
     "end_time": "2020-12-02T16:52:26.027199",
     "exception": false,
     "start_time": "2020-12-02T16:52:25.992089",
     "status": "completed"
    },
    "tags": []
   },
   "outputs": [
    {
     "data": {
      "text/plain": [
       "PosixPath('/media/miltondp/Elements1/projects/phenoplier/results/data_transformations/pca/pca-z_score_std-projection-smultixcan-efo_partial-mashr-zscores-n_components_50-random_state_0-svd_solver_full.pkl')"
      ]
     },
     "metadata": {},
     "output_type": "display_data"
    },
    {
     "data": {
      "text/plain": [
       "'pca-z_score_std-projection-smultixcan-efo_partial-mashr-zscores-n_components_50-random_state_0-svd_solver_full'"
      ]
     },
     "metadata": {},
     "output_type": "display_data"
    }
   ],
   "source": [
    "input_filepath = Path(\n",
    "    conf.RESULTS[\"DATA_TRANSFORMATIONS_DIR\"],\n",
    "    INPUT_SUBSET,\n",
    "    generate_result_set_name(\n",
    "        DR_OPTIONS, prefix=f\"{INPUT_SUBSET}-{INPUT_STEM}-\", suffix=\".pkl\"\n",
    "    ),\n",
    ").resolve()\n",
    "display(input_filepath)\n",
    "\n",
    "assert input_filepath.exists(), \"Input file does not exist\"\n",
    "\n",
    "input_filepath_stem = input_filepath.stem\n",
    "display(input_filepath_stem)"
   ]
  },
  {
   "cell_type": "code",
   "execution_count": 8,
   "metadata": {},
   "outputs": [],
   "source": [
    "data_pca = pd.read_pickle(input_filepath).iloc[:, :5]"
   ]
  },
  {
   "cell_type": "code",
   "execution_count": 9,
   "metadata": {},
   "outputs": [
    {
     "data": {
      "text/plain": [
       "(3749, 5)"
      ]
     },
     "execution_count": 9,
     "metadata": {},
     "output_type": "execute_result"
    }
   ],
   "source": [
    "data_pca.shape"
   ]
  },
  {
   "cell_type": "code",
   "execution_count": 10,
   "metadata": {},
   "outputs": [
    {
     "data": {
      "text/html": [
       "<div>\n",
       "<style scoped>\n",
       "    .dataframe tbody tr th:only-of-type {\n",
       "        vertical-align: middle;\n",
       "    }\n",
       "\n",
       "    .dataframe tbody tr th {\n",
       "        vertical-align: top;\n",
       "    }\n",
       "\n",
       "    .dataframe thead th {\n",
       "        text-align: right;\n",
       "    }\n",
       "</style>\n",
       "<table border=\"1\" class=\"dataframe\">\n",
       "  <thead>\n",
       "    <tr style=\"text-align: right;\">\n",
       "      <th></th>\n",
       "      <th>PCA1</th>\n",
       "      <th>PCA2</th>\n",
       "      <th>PCA3</th>\n",
       "      <th>PCA4</th>\n",
       "      <th>PCA5</th>\n",
       "    </tr>\n",
       "  </thead>\n",
       "  <tbody>\n",
       "    <tr>\n",
       "      <th>100001_raw-Food_weight</th>\n",
       "      <td>-0.547515</td>\n",
       "      <td>-0.007250</td>\n",
       "      <td>0.245361</td>\n",
       "      <td>0.132424</td>\n",
       "      <td>1.201447</td>\n",
       "    </tr>\n",
       "    <tr>\n",
       "      <th>100002_raw-Energy</th>\n",
       "      <td>-1.570593</td>\n",
       "      <td>-0.618992</td>\n",
       "      <td>-1.223395</td>\n",
       "      <td>1.627321</td>\n",
       "      <td>-0.563860</td>\n",
       "    </tr>\n",
       "    <tr>\n",
       "      <th>100003_raw-Protein</th>\n",
       "      <td>-0.601212</td>\n",
       "      <td>-0.948824</td>\n",
       "      <td>-1.022209</td>\n",
       "      <td>2.438433</td>\n",
       "      <td>-2.062235</td>\n",
       "    </tr>\n",
       "    <tr>\n",
       "      <th>100004_raw-Fat</th>\n",
       "      <td>-1.648214</td>\n",
       "      <td>-0.342042</td>\n",
       "      <td>-0.270189</td>\n",
       "      <td>1.683268</td>\n",
       "      <td>-1.222401</td>\n",
       "    </tr>\n",
       "    <tr>\n",
       "      <th>100005_raw-Carbohydrate</th>\n",
       "      <td>-1.867586</td>\n",
       "      <td>-0.006412</td>\n",
       "      <td>-0.303220</td>\n",
       "      <td>0.770958</td>\n",
       "      <td>-0.116822</td>\n",
       "    </tr>\n",
       "  </tbody>\n",
       "</table>\n",
       "</div>"
      ],
      "text/plain": [
       "                             PCA1      PCA2      PCA3      PCA4      PCA5\n",
       "100001_raw-Food_weight  -0.547515 -0.007250  0.245361  0.132424  1.201447\n",
       "100002_raw-Energy       -1.570593 -0.618992 -1.223395  1.627321 -0.563860\n",
       "100003_raw-Protein      -0.601212 -0.948824 -1.022209  2.438433 -2.062235\n",
       "100004_raw-Fat          -1.648214 -0.342042 -0.270189  1.683268 -1.222401\n",
       "100005_raw-Carbohydrate -1.867586 -0.006412 -0.303220  0.770958 -0.116822"
      ]
     },
     "execution_count": 10,
     "metadata": {},
     "output_type": "execute_result"
    }
   ],
   "source": [
    "data_pca.head()"
   ]
  },
  {
   "cell_type": "markdown",
   "metadata": {},
   "source": [
    "## UMAP"
   ]
  },
  {
   "cell_type": "code",
   "execution_count": 11,
   "metadata": {
    "papermill": {
     "duration": 0.032183,
     "end_time": "2020-12-02T16:52:25.869240",
     "exception": false,
     "start_time": "2020-12-02T16:52:25.837057",
     "status": "completed"
    },
    "tags": []
   },
   "outputs": [],
   "source": [
    "INPUT_SUBSET = \"umap\""
   ]
  },
  {
   "cell_type": "code",
   "execution_count": 12,
   "metadata": {
    "papermill": {
     "duration": 0.032292,
     "end_time": "2020-12-02T16:52:25.920249",
     "exception": false,
     "start_time": "2020-12-02T16:52:25.887957",
     "status": "completed"
    },
    "tags": []
   },
   "outputs": [],
   "source": [
    "INPUT_STEM = \"z_score_std-projection-smultixcan-efo_partial-mashr-zscores\""
   ]
  },
  {
   "cell_type": "code",
   "execution_count": 13,
   "metadata": {
    "papermill": {
     "duration": 0.03286,
     "end_time": "2020-12-02T16:52:25.972536",
     "exception": false,
     "start_time": "2020-12-02T16:52:25.939676",
     "status": "completed"
    },
    "tags": []
   },
   "outputs": [],
   "source": [
    "DR_OPTIONS = {\n",
    "    \"n_components\": 5,\n",
    "    \"metric\": \"euclidean\",\n",
    "    \"n_neighbors\": 15,\n",
    "    \"random_state\": 0,\n",
    "}"
   ]
  },
  {
   "cell_type": "code",
   "execution_count": 14,
   "metadata": {
    "papermill": {
     "duration": 0.03511,
     "end_time": "2020-12-02T16:52:26.027199",
     "exception": false,
     "start_time": "2020-12-02T16:52:25.992089",
     "status": "completed"
    },
    "tags": []
   },
   "outputs": [
    {
     "data": {
      "text/plain": [
       "PosixPath('/media/miltondp/Elements1/projects/phenoplier/results/data_transformations/umap/umap-z_score_std-projection-smultixcan-efo_partial-mashr-zscores-metric_euclidean-n_components_5-n_neighbors_15-random_state_0.pkl')"
      ]
     },
     "metadata": {},
     "output_type": "display_data"
    },
    {
     "data": {
      "text/plain": [
       "'umap-z_score_std-projection-smultixcan-efo_partial-mashr-zscores-metric_euclidean-n_components_5-n_neighbors_15-random_state_0'"
      ]
     },
     "metadata": {},
     "output_type": "display_data"
    }
   ],
   "source": [
    "input_filepath = Path(\n",
    "    conf.RESULTS[\"DATA_TRANSFORMATIONS_DIR\"],\n",
    "    INPUT_SUBSET,\n",
    "    generate_result_set_name(\n",
    "        DR_OPTIONS, prefix=f\"{INPUT_SUBSET}-{INPUT_STEM}-\", suffix=\".pkl\"\n",
    "    ),\n",
    ").resolve()\n",
    "display(input_filepath)\n",
    "\n",
    "assert input_filepath.exists(), \"Input file does not exist\"\n",
    "\n",
    "input_filepath_stem = input_filepath.stem\n",
    "display(input_filepath_stem)"
   ]
  },
  {
   "cell_type": "code",
   "execution_count": 15,
   "metadata": {},
   "outputs": [],
   "source": [
    "data_umap = pd.read_pickle(input_filepath)"
   ]
  },
  {
   "cell_type": "code",
   "execution_count": 16,
   "metadata": {},
   "outputs": [
    {
     "data": {
      "text/plain": [
       "(3749, 5)"
      ]
     },
     "execution_count": 16,
     "metadata": {},
     "output_type": "execute_result"
    }
   ],
   "source": [
    "data_umap.shape"
   ]
  },
  {
   "cell_type": "code",
   "execution_count": 17,
   "metadata": {},
   "outputs": [
    {
     "data": {
      "text/html": [
       "<div>\n",
       "<style scoped>\n",
       "    .dataframe tbody tr th:only-of-type {\n",
       "        vertical-align: middle;\n",
       "    }\n",
       "\n",
       "    .dataframe tbody tr th {\n",
       "        vertical-align: top;\n",
       "    }\n",
       "\n",
       "    .dataframe thead th {\n",
       "        text-align: right;\n",
       "    }\n",
       "</style>\n",
       "<table border=\"1\" class=\"dataframe\">\n",
       "  <thead>\n",
       "    <tr style=\"text-align: right;\">\n",
       "      <th></th>\n",
       "      <th>UMAP1</th>\n",
       "      <th>UMAP2</th>\n",
       "      <th>UMAP3</th>\n",
       "      <th>UMAP4</th>\n",
       "      <th>UMAP5</th>\n",
       "    </tr>\n",
       "  </thead>\n",
       "  <tbody>\n",
       "    <tr>\n",
       "      <th>100001_raw-Food_weight</th>\n",
       "      <td>-8.437452</td>\n",
       "      <td>1.664409</td>\n",
       "      <td>9.233617</td>\n",
       "      <td>6.944210</td>\n",
       "      <td>16.781176</td>\n",
       "    </tr>\n",
       "    <tr>\n",
       "      <th>100002_raw-Energy</th>\n",
       "      <td>-8.388347</td>\n",
       "      <td>1.670845</td>\n",
       "      <td>9.251021</td>\n",
       "      <td>6.975690</td>\n",
       "      <td>16.698511</td>\n",
       "    </tr>\n",
       "    <tr>\n",
       "      <th>100003_raw-Protein</th>\n",
       "      <td>-8.424020</td>\n",
       "      <td>1.696144</td>\n",
       "      <td>9.226449</td>\n",
       "      <td>6.970763</td>\n",
       "      <td>16.768959</td>\n",
       "    </tr>\n",
       "    <tr>\n",
       "      <th>100004_raw-Fat</th>\n",
       "      <td>-8.393674</td>\n",
       "      <td>1.685311</td>\n",
       "      <td>9.258855</td>\n",
       "      <td>6.992673</td>\n",
       "      <td>16.728815</td>\n",
       "    </tr>\n",
       "    <tr>\n",
       "      <th>100005_raw-Carbohydrate</th>\n",
       "      <td>-8.427763</td>\n",
       "      <td>1.685172</td>\n",
       "      <td>9.234971</td>\n",
       "      <td>6.967204</td>\n",
       "      <td>16.751522</td>\n",
       "    </tr>\n",
       "  </tbody>\n",
       "</table>\n",
       "</div>"
      ],
      "text/plain": [
       "                            UMAP1     UMAP2     UMAP3     UMAP4      UMAP5\n",
       "100001_raw-Food_weight  -8.437452  1.664409  9.233617  6.944210  16.781176\n",
       "100002_raw-Energy       -8.388347  1.670845  9.251021  6.975690  16.698511\n",
       "100003_raw-Protein      -8.424020  1.696144  9.226449  6.970763  16.768959\n",
       "100004_raw-Fat          -8.393674  1.685311  9.258855  6.992673  16.728815\n",
       "100005_raw-Carbohydrate -8.427763  1.685172  9.234971  6.967204  16.751522"
      ]
     },
     "execution_count": 17,
     "metadata": {},
     "output_type": "execute_result"
    }
   ],
   "source": [
    "data_umap.head()"
   ]
  },
  {
   "cell_type": "markdown",
   "metadata": {},
   "source": [
    "# Load selected best partitions"
   ]
  },
  {
   "cell_type": "code",
   "execution_count": 18,
   "metadata": {},
   "outputs": [
    {
     "data": {
      "text/plain": [
       "PosixPath('/media/miltondp/Elements1/projects/phenoplier/results/clustering/consensus_clustering/best_partitions_by_k.pkl')"
      ]
     },
     "metadata": {},
     "output_type": "display_data"
    }
   ],
   "source": [
    "input_file = Path(CONSENSUS_CLUSTERING_DIR, \"best_partitions_by_k.pkl\").resolve()\n",
    "display(input_file)"
   ]
  },
  {
   "cell_type": "code",
   "execution_count": 19,
   "metadata": {},
   "outputs": [],
   "source": [
    "best_partitions = pd.read_pickle(input_file)"
   ]
  },
  {
   "cell_type": "code",
   "execution_count": 20,
   "metadata": {},
   "outputs": [
    {
     "data": {
      "text/plain": [
       "(39, 4)"
      ]
     },
     "execution_count": 20,
     "metadata": {},
     "output_type": "execute_result"
    }
   ],
   "source": [
    "best_partitions.shape"
   ]
  },
  {
   "cell_type": "code",
   "execution_count": 21,
   "metadata": {},
   "outputs": [
    {
     "data": {
      "text/html": [
       "<div>\n",
       "<style scoped>\n",
       "    .dataframe tbody tr th:only-of-type {\n",
       "        vertical-align: middle;\n",
       "    }\n",
       "\n",
       "    .dataframe tbody tr th {\n",
       "        vertical-align: top;\n",
       "    }\n",
       "\n",
       "    .dataframe thead th {\n",
       "        text-align: right;\n",
       "    }\n",
       "</style>\n",
       "<table border=\"1\" class=\"dataframe\">\n",
       "  <thead>\n",
       "    <tr style=\"text-align: right;\">\n",
       "      <th></th>\n",
       "      <th>method</th>\n",
       "      <th>partition</th>\n",
       "      <th>ami_mean</th>\n",
       "      <th>selected</th>\n",
       "    </tr>\n",
       "    <tr>\n",
       "      <th>k</th>\n",
       "      <th></th>\n",
       "      <th></th>\n",
       "      <th></th>\n",
       "      <th></th>\n",
       "    </tr>\n",
       "  </thead>\n",
       "  <tbody>\n",
       "    <tr>\n",
       "      <th>11</th>\n",
       "      <td>scc_020</td>\n",
       "      <td>[0, 0, 0, 0, 0, 0, 0, 0, 0, 0, 0, 0, 0, 0, 0, ...</td>\n",
       "      <td>0.301837</td>\n",
       "      <td>True</td>\n",
       "    </tr>\n",
       "    <tr>\n",
       "      <th>10</th>\n",
       "      <td>scc_020</td>\n",
       "      <td>[0, 0, 0, 0, 0, 0, 0, 0, 0, 0, 0, 0, 0, 0, 0, ...</td>\n",
       "      <td>0.301736</td>\n",
       "      <td>True</td>\n",
       "    </tr>\n",
       "    <tr>\n",
       "      <th>9</th>\n",
       "      <td>scc_020</td>\n",
       "      <td>[0, 0, 0, 0, 0, 0, 0, 0, 0, 0, 0, 0, 0, 0, 0, ...</td>\n",
       "      <td>0.301299</td>\n",
       "      <td>True</td>\n",
       "    </tr>\n",
       "    <tr>\n",
       "      <th>8</th>\n",
       "      <td>scc_020</td>\n",
       "      <td>[0, 0, 0, 0, 0, 0, 0, 0, 0, 0, 0, 0, 0, 0, 0, ...</td>\n",
       "      <td>0.300169</td>\n",
       "      <td>True</td>\n",
       "    </tr>\n",
       "    <tr>\n",
       "      <th>7</th>\n",
       "      <td>scc_020</td>\n",
       "      <td>[0, 0, 0, 0, 0, 0, 0, 0, 0, 0, 0, 0, 0, 0, 0, ...</td>\n",
       "      <td>0.299448</td>\n",
       "      <td>True</td>\n",
       "    </tr>\n",
       "  </tbody>\n",
       "</table>\n",
       "</div>"
      ],
      "text/plain": [
       "     method                                          partition  ami_mean  \\\n",
       "k                                                                          \n",
       "11  scc_020  [0, 0, 0, 0, 0, 0, 0, 0, 0, 0, 0, 0, 0, 0, 0, ...  0.301837   \n",
       "10  scc_020  [0, 0, 0, 0, 0, 0, 0, 0, 0, 0, 0, 0, 0, 0, 0, ...  0.301736   \n",
       "9   scc_020  [0, 0, 0, 0, 0, 0, 0, 0, 0, 0, 0, 0, 0, 0, 0, ...  0.301299   \n",
       "8   scc_020  [0, 0, 0, 0, 0, 0, 0, 0, 0, 0, 0, 0, 0, 0, 0, ...  0.300169   \n",
       "7   scc_020  [0, 0, 0, 0, 0, 0, 0, 0, 0, 0, 0, 0, 0, 0, 0, ...  0.299448   \n",
       "\n",
       "    selected  \n",
       "k             \n",
       "11      True  \n",
       "10      True  \n",
       "9       True  \n",
       "8       True  \n",
       "7       True  "
      ]
     },
     "execution_count": 21,
     "metadata": {},
     "output_type": "execute_result"
    }
   ],
   "source": [
    "best_partitions.head()"
   ]
  },
  {
   "cell_type": "markdown",
   "metadata": {},
   "source": [
    "# Prepare data for clustrees"
   ]
  },
  {
   "cell_type": "code",
   "execution_count": 22,
   "metadata": {},
   "outputs": [],
   "source": [
    "clustrees_df = pd.concat((data_pca, data_umap), join=\"inner\", axis=1)"
   ]
  },
  {
   "cell_type": "code",
   "execution_count": 23,
   "metadata": {},
   "outputs": [
    {
     "data": {
      "text/plain": [
       "(3749, 10)"
      ]
     },
     "metadata": {},
     "output_type": "display_data"
    }
   ],
   "source": [
    "display(clustrees_df.shape)\n",
    "assert clustrees_df.shape == (data_pca.shape[0], data_pca.shape[1] + data_umap.shape[1])"
   ]
  },
  {
   "cell_type": "code",
   "execution_count": 24,
   "metadata": {},
   "outputs": [
    {
     "data": {
      "text/html": [
       "<div>\n",
       "<style scoped>\n",
       "    .dataframe tbody tr th:only-of-type {\n",
       "        vertical-align: middle;\n",
       "    }\n",
       "\n",
       "    .dataframe tbody tr th {\n",
       "        vertical-align: top;\n",
       "    }\n",
       "\n",
       "    .dataframe thead th {\n",
       "        text-align: right;\n",
       "    }\n",
       "</style>\n",
       "<table border=\"1\" class=\"dataframe\">\n",
       "  <thead>\n",
       "    <tr style=\"text-align: right;\">\n",
       "      <th></th>\n",
       "      <th>PCA1</th>\n",
       "      <th>PCA2</th>\n",
       "      <th>PCA3</th>\n",
       "      <th>PCA4</th>\n",
       "      <th>PCA5</th>\n",
       "      <th>UMAP1</th>\n",
       "      <th>UMAP2</th>\n",
       "      <th>UMAP3</th>\n",
       "      <th>UMAP4</th>\n",
       "      <th>UMAP5</th>\n",
       "    </tr>\n",
       "  </thead>\n",
       "  <tbody>\n",
       "    <tr>\n",
       "      <th>100001_raw-Food_weight</th>\n",
       "      <td>-0.547515</td>\n",
       "      <td>-0.007250</td>\n",
       "      <td>0.245361</td>\n",
       "      <td>0.132424</td>\n",
       "      <td>1.201447</td>\n",
       "      <td>-8.437452</td>\n",
       "      <td>1.664409</td>\n",
       "      <td>9.233617</td>\n",
       "      <td>6.944210</td>\n",
       "      <td>16.781176</td>\n",
       "    </tr>\n",
       "    <tr>\n",
       "      <th>100002_raw-Energy</th>\n",
       "      <td>-1.570593</td>\n",
       "      <td>-0.618992</td>\n",
       "      <td>-1.223395</td>\n",
       "      <td>1.627321</td>\n",
       "      <td>-0.563860</td>\n",
       "      <td>-8.388347</td>\n",
       "      <td>1.670845</td>\n",
       "      <td>9.251021</td>\n",
       "      <td>6.975690</td>\n",
       "      <td>16.698511</td>\n",
       "    </tr>\n",
       "    <tr>\n",
       "      <th>100003_raw-Protein</th>\n",
       "      <td>-0.601212</td>\n",
       "      <td>-0.948824</td>\n",
       "      <td>-1.022209</td>\n",
       "      <td>2.438433</td>\n",
       "      <td>-2.062235</td>\n",
       "      <td>-8.424020</td>\n",
       "      <td>1.696144</td>\n",
       "      <td>9.226449</td>\n",
       "      <td>6.970763</td>\n",
       "      <td>16.768959</td>\n",
       "    </tr>\n",
       "    <tr>\n",
       "      <th>100004_raw-Fat</th>\n",
       "      <td>-1.648214</td>\n",
       "      <td>-0.342042</td>\n",
       "      <td>-0.270189</td>\n",
       "      <td>1.683268</td>\n",
       "      <td>-1.222401</td>\n",
       "      <td>-8.393674</td>\n",
       "      <td>1.685311</td>\n",
       "      <td>9.258855</td>\n",
       "      <td>6.992673</td>\n",
       "      <td>16.728815</td>\n",
       "    </tr>\n",
       "    <tr>\n",
       "      <th>100005_raw-Carbohydrate</th>\n",
       "      <td>-1.867586</td>\n",
       "      <td>-0.006412</td>\n",
       "      <td>-0.303220</td>\n",
       "      <td>0.770958</td>\n",
       "      <td>-0.116822</td>\n",
       "      <td>-8.427763</td>\n",
       "      <td>1.685172</td>\n",
       "      <td>9.234971</td>\n",
       "      <td>6.967204</td>\n",
       "      <td>16.751522</td>\n",
       "    </tr>\n",
       "  </tbody>\n",
       "</table>\n",
       "</div>"
      ],
      "text/plain": [
       "                             PCA1      PCA2      PCA3      PCA4      PCA5  \\\n",
       "100001_raw-Food_weight  -0.547515 -0.007250  0.245361  0.132424  1.201447   \n",
       "100002_raw-Energy       -1.570593 -0.618992 -1.223395  1.627321 -0.563860   \n",
       "100003_raw-Protein      -0.601212 -0.948824 -1.022209  2.438433 -2.062235   \n",
       "100004_raw-Fat          -1.648214 -0.342042 -0.270189  1.683268 -1.222401   \n",
       "100005_raw-Carbohydrate -1.867586 -0.006412 -0.303220  0.770958 -0.116822   \n",
       "\n",
       "                            UMAP1     UMAP2     UMAP3     UMAP4      UMAP5  \n",
       "100001_raw-Food_weight  -8.437452  1.664409  9.233617  6.944210  16.781176  \n",
       "100002_raw-Energy       -8.388347  1.670845  9.251021  6.975690  16.698511  \n",
       "100003_raw-Protein      -8.424020  1.696144  9.226449  6.970763  16.768959  \n",
       "100004_raw-Fat          -8.393674  1.685311  9.258855  6.992673  16.728815  \n",
       "100005_raw-Carbohydrate -8.427763  1.685172  9.234971  6.967204  16.751522  "
      ]
     },
     "execution_count": 24,
     "metadata": {},
     "output_type": "execute_result"
    }
   ],
   "source": [
    "clustrees_df.head()"
   ]
  },
  {
   "cell_type": "markdown",
   "metadata": {},
   "source": [
    "## Add partitions"
   ]
  },
  {
   "cell_type": "code",
   "execution_count": 25,
   "metadata": {},
   "outputs": [
    {
     "data": {
      "text/plain": [
       "array([3749])"
      ]
     },
     "metadata": {},
     "output_type": "display_data"
    }
   ],
   "source": [
    "_tmp = np.unique(\n",
    "    [best_partitions.loc[k, \"partition\"].shape for k in best_partitions.index]\n",
    ")\n",
    "display(_tmp)\n",
    "assert _tmp.shape[0] == 1\n",
    "assert _tmp[0] == data_umap.shape[0] == data_pca.shape[0]"
   ]
  },
  {
   "cell_type": "code",
   "execution_count": 26,
   "metadata": {},
   "outputs": [],
   "source": [
    "assert not best_partitions.isna().any().any()"
   ]
  },
  {
   "cell_type": "code",
   "execution_count": 27,
   "metadata": {},
   "outputs": [],
   "source": [
    "# df = df.assign(**{f'k{k}': partitions.loc[k, 'partition'] for k in selected_k_values})\n",
    "clustrees_df = clustrees_df.assign(\n",
    "    **{\n",
    "        f\"k{k}\": best_partitions.loc[k, \"partition\"]\n",
    "        for k in best_partitions.index\n",
    "        if best_partitions.loc[k, \"selected\"]\n",
    "    }\n",
    ")"
   ]
  },
  {
   "cell_type": "code",
   "execution_count": 28,
   "metadata": {},
   "outputs": [],
   "source": [
    "clustrees_df.index.rename(\"trait\", inplace=True)"
   ]
  },
  {
   "cell_type": "code",
   "execution_count": 29,
   "metadata": {},
   "outputs": [
    {
     "data": {
      "text/plain": [
       "(3749, 29)"
      ]
     },
     "execution_count": 29,
     "metadata": {},
     "output_type": "execute_result"
    }
   ],
   "source": [
    "clustrees_df.shape"
   ]
  },
  {
   "cell_type": "code",
   "execution_count": 30,
   "metadata": {},
   "outputs": [
    {
     "data": {
      "text/html": [
       "<div>\n",
       "<style scoped>\n",
       "    .dataframe tbody tr th:only-of-type {\n",
       "        vertical-align: middle;\n",
       "    }\n",
       "\n",
       "    .dataframe tbody tr th {\n",
       "        vertical-align: top;\n",
       "    }\n",
       "\n",
       "    .dataframe thead th {\n",
       "        text-align: right;\n",
       "    }\n",
       "</style>\n",
       "<table border=\"1\" class=\"dataframe\">\n",
       "  <thead>\n",
       "    <tr style=\"text-align: right;\">\n",
       "      <th></th>\n",
       "      <th>PCA1</th>\n",
       "      <th>PCA2</th>\n",
       "      <th>PCA3</th>\n",
       "      <th>PCA4</th>\n",
       "      <th>PCA5</th>\n",
       "      <th>UMAP1</th>\n",
       "      <th>UMAP2</th>\n",
       "      <th>UMAP3</th>\n",
       "      <th>UMAP4</th>\n",
       "      <th>UMAP5</th>\n",
       "      <th>...</th>\n",
       "      <th>k19</th>\n",
       "      <th>k36</th>\n",
       "      <th>k23</th>\n",
       "      <th>k22</th>\n",
       "      <th>k27</th>\n",
       "      <th>k31</th>\n",
       "      <th>k26</th>\n",
       "      <th>k21</th>\n",
       "      <th>k24</th>\n",
       "      <th>k6</th>\n",
       "    </tr>\n",
       "    <tr>\n",
       "      <th>trait</th>\n",
       "      <th></th>\n",
       "      <th></th>\n",
       "      <th></th>\n",
       "      <th></th>\n",
       "      <th></th>\n",
       "      <th></th>\n",
       "      <th></th>\n",
       "      <th></th>\n",
       "      <th></th>\n",
       "      <th></th>\n",
       "      <th></th>\n",
       "      <th></th>\n",
       "      <th></th>\n",
       "      <th></th>\n",
       "      <th></th>\n",
       "      <th></th>\n",
       "      <th></th>\n",
       "      <th></th>\n",
       "      <th></th>\n",
       "      <th></th>\n",
       "      <th></th>\n",
       "    </tr>\n",
       "  </thead>\n",
       "  <tbody>\n",
       "    <tr>\n",
       "      <th>100001_raw-Food_weight</th>\n",
       "      <td>-0.547515</td>\n",
       "      <td>-0.007250</td>\n",
       "      <td>0.245361</td>\n",
       "      <td>0.132424</td>\n",
       "      <td>1.201447</td>\n",
       "      <td>-8.437452</td>\n",
       "      <td>1.664409</td>\n",
       "      <td>9.233617</td>\n",
       "      <td>6.944210</td>\n",
       "      <td>16.781176</td>\n",
       "      <td>...</td>\n",
       "      <td>0</td>\n",
       "      <td>29</td>\n",
       "      <td>0</td>\n",
       "      <td>1</td>\n",
       "      <td>0</td>\n",
       "      <td>29</td>\n",
       "      <td>0</td>\n",
       "      <td>0</td>\n",
       "      <td>0</td>\n",
       "      <td>1</td>\n",
       "    </tr>\n",
       "    <tr>\n",
       "      <th>100002_raw-Energy</th>\n",
       "      <td>-1.570593</td>\n",
       "      <td>-0.618992</td>\n",
       "      <td>-1.223395</td>\n",
       "      <td>1.627321</td>\n",
       "      <td>-0.563860</td>\n",
       "      <td>-8.388347</td>\n",
       "      <td>1.670845</td>\n",
       "      <td>9.251021</td>\n",
       "      <td>6.975690</td>\n",
       "      <td>16.698511</td>\n",
       "      <td>...</td>\n",
       "      <td>0</td>\n",
       "      <td>29</td>\n",
       "      <td>0</td>\n",
       "      <td>1</td>\n",
       "      <td>0</td>\n",
       "      <td>29</td>\n",
       "      <td>0</td>\n",
       "      <td>0</td>\n",
       "      <td>0</td>\n",
       "      <td>1</td>\n",
       "    </tr>\n",
       "    <tr>\n",
       "      <th>100003_raw-Protein</th>\n",
       "      <td>-0.601212</td>\n",
       "      <td>-0.948824</td>\n",
       "      <td>-1.022209</td>\n",
       "      <td>2.438433</td>\n",
       "      <td>-2.062235</td>\n",
       "      <td>-8.424020</td>\n",
       "      <td>1.696144</td>\n",
       "      <td>9.226449</td>\n",
       "      <td>6.970763</td>\n",
       "      <td>16.768959</td>\n",
       "      <td>...</td>\n",
       "      <td>0</td>\n",
       "      <td>29</td>\n",
       "      <td>0</td>\n",
       "      <td>1</td>\n",
       "      <td>0</td>\n",
       "      <td>29</td>\n",
       "      <td>0</td>\n",
       "      <td>0</td>\n",
       "      <td>0</td>\n",
       "      <td>1</td>\n",
       "    </tr>\n",
       "    <tr>\n",
       "      <th>100004_raw-Fat</th>\n",
       "      <td>-1.648214</td>\n",
       "      <td>-0.342042</td>\n",
       "      <td>-0.270189</td>\n",
       "      <td>1.683268</td>\n",
       "      <td>-1.222401</td>\n",
       "      <td>-8.393674</td>\n",
       "      <td>1.685311</td>\n",
       "      <td>9.258855</td>\n",
       "      <td>6.992673</td>\n",
       "      <td>16.728815</td>\n",
       "      <td>...</td>\n",
       "      <td>0</td>\n",
       "      <td>29</td>\n",
       "      <td>0</td>\n",
       "      <td>1</td>\n",
       "      <td>0</td>\n",
       "      <td>29</td>\n",
       "      <td>0</td>\n",
       "      <td>0</td>\n",
       "      <td>0</td>\n",
       "      <td>1</td>\n",
       "    </tr>\n",
       "    <tr>\n",
       "      <th>100005_raw-Carbohydrate</th>\n",
       "      <td>-1.867586</td>\n",
       "      <td>-0.006412</td>\n",
       "      <td>-0.303220</td>\n",
       "      <td>0.770958</td>\n",
       "      <td>-0.116822</td>\n",
       "      <td>-8.427763</td>\n",
       "      <td>1.685172</td>\n",
       "      <td>9.234971</td>\n",
       "      <td>6.967204</td>\n",
       "      <td>16.751522</td>\n",
       "      <td>...</td>\n",
       "      <td>0</td>\n",
       "      <td>29</td>\n",
       "      <td>0</td>\n",
       "      <td>1</td>\n",
       "      <td>0</td>\n",
       "      <td>29</td>\n",
       "      <td>0</td>\n",
       "      <td>0</td>\n",
       "      <td>0</td>\n",
       "      <td>1</td>\n",
       "    </tr>\n",
       "  </tbody>\n",
       "</table>\n",
       "<p>5 rows × 29 columns</p>\n",
       "</div>"
      ],
      "text/plain": [
       "                             PCA1      PCA2      PCA3      PCA4      PCA5  \\\n",
       "trait                                                                       \n",
       "100001_raw-Food_weight  -0.547515 -0.007250  0.245361  0.132424  1.201447   \n",
       "100002_raw-Energy       -1.570593 -0.618992 -1.223395  1.627321 -0.563860   \n",
       "100003_raw-Protein      -0.601212 -0.948824 -1.022209  2.438433 -2.062235   \n",
       "100004_raw-Fat          -1.648214 -0.342042 -0.270189  1.683268 -1.222401   \n",
       "100005_raw-Carbohydrate -1.867586 -0.006412 -0.303220  0.770958 -0.116822   \n",
       "\n",
       "                            UMAP1     UMAP2     UMAP3     UMAP4      UMAP5  \\\n",
       "trait                                                                        \n",
       "100001_raw-Food_weight  -8.437452  1.664409  9.233617  6.944210  16.781176   \n",
       "100002_raw-Energy       -8.388347  1.670845  9.251021  6.975690  16.698511   \n",
       "100003_raw-Protein      -8.424020  1.696144  9.226449  6.970763  16.768959   \n",
       "100004_raw-Fat          -8.393674  1.685311  9.258855  6.992673  16.728815   \n",
       "100005_raw-Carbohydrate -8.427763  1.685172  9.234971  6.967204  16.751522   \n",
       "\n",
       "                         ...  k19  k36  k23  k22  k27  k31  k26  k21  k24  k6  \n",
       "trait                    ...                                                   \n",
       "100001_raw-Food_weight   ...    0   29    0    1    0   29    0    0    0   1  \n",
       "100002_raw-Energy        ...    0   29    0    1    0   29    0    0    0   1  \n",
       "100003_raw-Protein       ...    0   29    0    1    0   29    0    0    0   1  \n",
       "100004_raw-Fat           ...    0   29    0    1    0   29    0    0    0   1  \n",
       "100005_raw-Carbohydrate  ...    0   29    0    1    0   29    0    0    0   1  \n",
       "\n",
       "[5 rows x 29 columns]"
      ]
     },
     "execution_count": 30,
     "metadata": {},
     "output_type": "execute_result"
    }
   ],
   "source": [
    "clustrees_df.head()"
   ]
  },
  {
   "cell_type": "code",
   "execution_count": 31,
   "metadata": {},
   "outputs": [],
   "source": [
    "# make sure partitions were assigned correctly\n",
    "assert (\n",
    "    np.unique(\n",
    "        [\n",
    "            clustrees_df[f\"{k}\"].value_counts().sum()\n",
    "            for k in clustrees_df.columns[\n",
    "                clustrees_df.columns.str.contains(\"^k[0-9]+$\", regex=True)\n",
    "            ]\n",
    "        ]\n",
    "    )[0]\n",
    "    == data_pca.shape[0]\n",
    ")"
   ]
  },
  {
   "cell_type": "markdown",
   "metadata": {},
   "source": [
    "# Assign labels"
   ]
  },
  {
   "cell_type": "code",
   "execution_count": 32,
   "metadata": {},
   "outputs": [],
   "source": [
    "trait_labels = pd.Series({t: None for t in clustrees_df.index})"
   ]
  },
  {
   "cell_type": "code",
   "execution_count": 33,
   "metadata": {},
   "outputs": [
    {
     "data": {
      "text/plain": [
       "100001_raw-Food_weight     None\n",
       "100002_raw-Energy          None\n",
       "100003_raw-Protein         None\n",
       "100004_raw-Fat             None\n",
       "100005_raw-Carbohydrate    None\n",
       "dtype: object"
      ]
     },
     "execution_count": 33,
     "metadata": {},
     "output_type": "execute_result"
    }
   ],
   "source": [
    "trait_labels.head()"
   ]
  },
  {
   "cell_type": "code",
   "execution_count": 34,
   "metadata": {},
   "outputs": [],
   "source": [
    "trait_labels.loc[\"3143_raw-Ankle_spacing_width\"] = \"Anthropometry\"\n",
    "\n",
    "trait_labels.loc[\n",
    "    \"20153_raw-Forced_expiratory_volume_in_1second_FEV1_predicted\"\n",
    "] = \"Spirometry\"\n",
    "trait_labels.loc[\n",
    "    [\n",
    "        \"20150_raw-Forced_expiratory_volume_in_1second_FEV1_Best_measure\",\n",
    "        \"20151_raw-Forced_vital_capacity_FVC_Best_measure\",\n",
    "        \"3062_raw-Forced_vital_capacity_FVC\",\n",
    "        \"3063_raw-Forced_expiratory_volume_in_1second_FEV1\",\n",
    "    ]\n",
    "] = \"Spirometry\"\n",
    "\n",
    "\n",
    "trait_labels.loc[\n",
    "    [\n",
    "        \"30080_raw-Platelet_count\",\n",
    "        \"30090_raw-Platelet_crit\",\n",
    "        \"30100_raw-Mean_platelet_thrombocyte_volume\",\n",
    "        \"30110_raw-Platelet_distribution_width\",\n",
    "        \"platelet count\",\n",
    "    ]\n",
    "] = \"Platelet\"\n",
    "\n",
    "trait_labels.loc[\n",
    "    [\n",
    "        \"23106_raw-Impedance_of_whole_body\",\n",
    "        \"23107_raw-Impedance_of_leg_right\",\n",
    "        \"23108_raw-Impedance_of_leg_left\",\n",
    "        \"23109_raw-Impedance_of_arm_right\",\n",
    "        \"23110_raw-Impedance_of_arm_left\",\n",
    "    ]\n",
    "] = \"Impedance\"\n",
    "\n",
    "trait_labels.loc[\n",
    "    [\n",
    "        \"40001_C349-Underlying_primary_cause_of_death_ICD10_C349_Bronchus_or_lung_unspecified\",\n",
    "        \"C3_RESPIRATORY_INTRATHORACIC-Malignant_neoplasm_of_respiratory_system_and_intrathoracic_organs\",\n",
    "        \"C_BRONCHUS_LUNG-Malignant_neoplasm_of_bronchus_and_lung\",\n",
    "        \"C_RESPIRATORY_INTRATHORACIC\",\n",
    "        \"LUNG_CANCER_MESOT-Lung_cancer_and_mesothelioma\",\n",
    "        \"lung carcinoma\",\n",
    "    ]\n",
    "] = \"Lung cancer\"\n",
    "\n",
    "# From https://biobank.ndph.ox.ac.uk/showcase/label.cgi?id=100014\n",
    "trait_labels.loc[\n",
    "    [\n",
    "        \"5086_raw-Cylindrical_power_left\",\n",
    "        \"5087_raw-Cylindrical_power_right\",\n",
    "        \"5116_raw-3mm_cylindrical_power_right\",\n",
    "        \"5117_raw-6mm_cylindrical_power_right\",\n",
    "        \"5118_raw-6mm_cylindrical_power_left\",\n",
    "        \"5119_raw-3mm_cylindrical_power_left\",\n",
    "    ]\n",
    "] = \"Refractometry\"\n",
    "\n",
    "trait_labels.loc[\n",
    "    [\n",
    "        \"5096_raw-3mm_weak_meridian_left\",\n",
    "        \"5097_raw-6mm_weak_meridian_left\",\n",
    "        \"5098_raw-6mm_weak_meridian_right\",\n",
    "        \"5099_raw-3mm_weak_meridian_right\",\n",
    "        \"5132_raw-3mm_strong_meridian_right\",\n",
    "        \"5133_raw-6mm_strong_meridian_right\",\n",
    "        \"5134_raw-6mm_strong_meridian_left\",\n",
    "        \"5135_raw-3mm_strong_meridian_left\",\n",
    "    ]\n",
    "] = \"Keratometry\"\n",
    "\n",
    "trait_labels.loc[\n",
    "    [\n",
    "        \"3144_raw-Heel_Broadband_ultrasound_attenuation_direct_entry\",\n",
    "        \"3147_raw-Heel_quantitative_ultrasound_index_QUI_direct_entry\",\n",
    "        \"3148_raw-Heel_bone_mineral_density_BMD\",\n",
    "        \"4101_raw-Heel_broadband_ultrasound_attenuation_left\",\n",
    "        \"4104_raw-Heel_quantitative_ultrasound_index_QUI_direct_entry_left\",\n",
    "        \"4105_raw-Heel_bone_mineral_density_BMD_left\",\n",
    "        \"4106_raw-Heel_bone_mineral_density_BMD_Tscore_automated_left\",\n",
    "        \"4120_raw-Heel_broadband_ultrasound_attenuation_right\",\n",
    "        \"4123_raw-Heel_quantitative_ultrasound_index_QUI_direct_entry_right\",\n",
    "        \"4124_raw-Heel_bone_mineral_density_BMD_right\",\n",
    "        \"4125_raw-Heel_bone_mineral_density_BMD_Tscore_automated_right\",\n",
    "        \"78_raw-Heel_bone_mineral_density_BMD_Tscore_automated\",\n",
    "    ]\n",
    "] = \"Heel bone\"\n",
    "\n",
    "\n",
    "trait_labels.loc[\n",
    "    [\n",
    "        \"22617_3319-Job_SOC_coding_Protective_service_associate_professionals_nec\",\n",
    "        \"5983_raw-ECG_heart_rate\",\n",
    "        \"5984_raw-ECG_load\",\n",
    "        \"5986_raw-ECG_phase_time\",\n",
    "        \"5992-ECG_phase_duration\",\n",
    "        \"5993-ECG_number_of_stages_in_a_phase\",\n",
    "        \"6020_1-Completion_status_of_test_Fully_completed\",\n",
    "        \"6020_31-Completion_status_of_test_Participant_wanted_to_stop_early\",\n",
    "        \"6020_33-Completion_status_of_test_Heart_rate_reached_safety_level\",\n",
    "        \"6032_raw-Maximum_workload_during_fitness_test\",\n",
    "        \"6033_raw-Maximum_heart_rate_during_fitness_test\",\n",
    "        \"6038_raw-Number_of_trend_entries\",\n",
    "        \"6039-Duration_of_fitness_test\",\n",
    "        \"ability to walk or cycle unaided for 10 minutes, self-reported\",\n",
    "        \"achievement of target heart rate, self-reported\",\n",
    "    ]\n",
    "] = \"ECG\"\n",
    "\n",
    "trait_labels.loc[\n",
    "    [\n",
    "        \"30000_raw-White_blood_cell_leukocyte_count\",\n",
    "        \"30120_raw-Lymphocyte_count\",\n",
    "        \"30130_raw-Monocyte_count\",\n",
    "        \"30140_raw-Neutrophill_count\",\n",
    "        \"30150-Eosinophill_count\",\n",
    "        \"30180_raw-Lymphocyte_percentage\",\n",
    "        \"30190_raw-Monocyte_percentage\",\n",
    "        \"30200_raw-Neutrophill_percentage\",\n",
    "        \"30210_raw-Eosinophill_percentage\",\n",
    "        \"eosinophil count\",\n",
    "        \"granulocyte count\",\n",
    "        \"leukocyte count\",\n",
    "        \"lymphocyte count\",\n",
    "        \"monocyte count\",\n",
    "        \"myeloid white cell count\",\n",
    "        \"neutrophil count\",\n",
    "    ]\n",
    "] = \"White blood cells\"\n",
    "\n",
    "\n",
    "trait_labels.loc[\n",
    "    [\n",
    "        \"30010_raw-Red_blood_cell_erythrocyte_count\",\n",
    "        \"30020_raw-Haemoglobin_concentration\",\n",
    "        \"30030_raw-Haematocrit_percentage\",\n",
    "        \"30040_raw-Mean_corpuscular_volume\",\n",
    "        \"30050_raw-Mean_corpuscular_haemoglobin\",\n",
    "        \"30060_raw-Mean_corpuscular_haemoglobin_concentration\",\n",
    "        \"30070_raw-Red_blood_cell_erythrocyte_distribution_width\",\n",
    "        \"30240_raw-Reticulocyte_percentage\",\n",
    "        \"30250_raw-Reticulocyte_count\",\n",
    "        \"30260_raw-Mean_reticulocyte_volume\",\n",
    "        \"30270_raw-Mean_sphered_cell_volume\",\n",
    "        \"30280_raw-Immature_reticulocyte_fraction\",\n",
    "        \"30290_raw-High_light_scatter_reticulocyte_percentage\",\n",
    "        \"30300_raw-High_light_scatter_reticulocyte_count\",\n",
    "        \"erythrocyte count\",\n",
    "        \"reticulocyte count\",\n",
    "    ]\n",
    "] = \"Red blood cells\"\n",
    "\n",
    "trait_labels.loc[\n",
    "    [\n",
    "        \"20015_raw-Sitting_height\",\n",
    "        \"21001_raw-Body_mass_index_BMI\",\n",
    "        \"21002_raw-Weight\",\n",
    "        \"23098_raw-Weight\",\n",
    "        \"23099_raw-Body_fat_percentage\",\n",
    "        \"23100_raw-Whole_body_fat_mass\",\n",
    "        \"23101_raw-Whole_body_fatfree_mass\",\n",
    "        \"23102_raw-Whole_body_water_mass\",\n",
    "        \"23104_raw-Body_mass_index_BMI\",\n",
    "        \"23105_raw-Basal_metabolic_rate\",\n",
    "        \"23111_raw-Leg_fat_percentage_right\",\n",
    "        \"23112_raw-Leg_fat_mass_right\",\n",
    "        \"23113_raw-Leg_fatfree_mass_right\",\n",
    "        \"23114_raw-Leg_predicted_mass_right\",\n",
    "        \"23115_raw-Leg_fat_percentage_left\",\n",
    "        \"23116_raw-Leg_fat_mass_left\",\n",
    "        \"23117_raw-Leg_fatfree_mass_left\",\n",
    "        \"23118_raw-Leg_predicted_mass_left\",\n",
    "        \"23119_raw-Arm_fat_percentage_right\",\n",
    "        \"23120_raw-Arm_fat_mass_right\",\n",
    "        \"23121_raw-Arm_fatfree_mass_right\",\n",
    "        \"23122_raw-Arm_predicted_mass_right\",\n",
    "        \"23123_raw-Arm_fat_percentage_left\",\n",
    "        \"23124_raw-Arm_fat_mass_left\",\n",
    "        \"23125_raw-Arm_fatfree_mass_left\",\n",
    "        \"23126_raw-Arm_predicted_mass_left\",\n",
    "        \"23127_raw-Trunk_fat_percentage\",\n",
    "        \"23128_raw-Trunk_fat_mass\",\n",
    "        \"23129_raw-Trunk_fatfree_mass\",\n",
    "        \"23130_raw-Trunk_predicted_mass\",\n",
    "        \"48_raw-Waist_circumference\",\n",
    "        \"49_raw-Hip_circumference\",\n",
    "        \"50_raw-Standing_height\",\n",
    "        \"body height\",\n",
    "    ]\n",
    "] = \"Anthropometry\"\n",
    "\n",
    "trait_labels.loc[\n",
    "    [\n",
    "        \"20003_1140861958-Treatmentmedication_code_simvastatin\",\n",
    "        \"20003_1140868226-Treatmentmedication_code_aspirin\",\n",
    "        \"20003_1140879802-Treatmentmedication_code_amlodipine\",\n",
    "        \"20003_1141194794-Treatmentmedication_code_bendroflumethiazide\",\n",
    "        \"4079_raw-Diastolic_blood_pressure_automated_reading\",\n",
    "        \"4080_raw-Systolic_blood_pressure_automated_reading\",\n",
    "        \"6150_1-Vascularheart_problems_diagnosed_by_doctor_Heart_attack\",\n",
    "        \"6150_100-Vascularheart_problems_diagnosed_by_doctor_None_of_the_above\",\n",
    "        \"6150_2-Vascularheart_problems_diagnosed_by_doctor_Angina\",\n",
    "        \"6150_4-Vascularheart_problems_diagnosed_by_doctor_High_blood_pressure\",\n",
    "        \"6153_1-Medication_for_cholesterol_blood_pressure_diabetes_or_take_exogenous_hormones_Cholesterol_lowering_medication\",\n",
    "        \"6153_100-Medication_for_cholesterol_blood_pressure_diabetes_or_take_exogenous_hormones_None_of_the_above\",\n",
    "        \"6153_2-Medication_for_cholesterol_blood_pressure_diabetes_or_take_exogenous_hormones_Blood_pressure_medication\",\n",
    "        \"6154_1-Medication_for_pain_relief_constipation_heartburn_Aspirin\",\n",
    "        \"6177_1-Medication_for_cholesterol_blood_pressure_or_diabetes_Cholesterol_lowering_medication\",\n",
    "        \"6177_100-Medication_for_cholesterol_blood_pressure_or_diabetes_None_of_the_above\",\n",
    "        \"6177_2-Medication_for_cholesterol_blood_pressure_or_diabetes_Blood_pressure_medication\",\n",
    "        \"I9_CHD-Major_coronary_heart_disease_event\",\n",
    "        \"I9_CHD_NOREV-Major_coronary_heart_disease_event_excluding_revascularizations\",\n",
    "        \"I9_CORATHER-Coronary_atherosclerosis\",\n",
    "        \"I9_IHD-Ischaemic_heart_disease_wide_definition\",\n",
    "        \"I9_MI-Myocardial_infarction\",\n",
    "        \"I9_MI_STRICT-Myocardial_infarction_strict\",\n",
    "        \"I9_UAP-Unstable_angina_pectoris\",\n",
    "        \"IX_CIRCULATORY-Diseases_of_the_circulatory_system\",\n",
    "        \"acute myocardial infarction\",\n",
    "        \"angina pectoris\",\n",
    "        \"coronary artery disease\",\n",
    "        \"hypercholesterolemia\",\n",
    "        \"hypertension\",\n",
    "        \"myocardial infarction\",\n",
    "    ]\n",
    "] = \"Cardiovascular\"\n",
    "\n",
    "trait_labels.loc[\n",
    "    [\n",
    "        \"1717-Skin_colour\",\n",
    "        \"1727-Ease_of_skin_tanning\",\n",
    "        \"1737-Childhood_sunburn_occasions\",\n",
    "        \"1747_1-Hair_colour_natural_before_greying_Blonde\",\n",
    "        \"1747_2-Hair_colour_natural_before_greying_Red\",\n",
    "        \"1747_3-Hair_colour_natural_before_greying_Light_brown\",\n",
    "        \"1747_4-Hair_colour_natural_before_greying_Dark_brown\",\n",
    "        \"1747_5-Hair_colour_natural_before_greying_Black\",\n",
    "        \"2267-Use_of_sunuv_protection\",\n",
    "        \"C3_SKIN-Malignant_neoplasm_of_skin\",\n",
    "        \"C_MELANOMA_SKIN-Malignant_melanoma_of_skin\",\n",
    "        \"C_OTHER_SKIN-Other_malignant_neoplasms_of_skin\",\n",
    "        \"C_SKIN\",\n",
    "        \"basal cell carcinoma\",\n",
    "        \"skin neoplasm\",\n",
    "    ]\n",
    "] = \"Skin/hair\""
   ]
  },
  {
   "cell_type": "code",
   "execution_count": 35,
   "metadata": {},
   "outputs": [
    {
     "data": {
      "text/plain": [
       "100001_raw-Food_weight                           None\n",
       "100002_raw-Energy                                None\n",
       "100003_raw-Protein                               None\n",
       "100004_raw-Fat                                   None\n",
       "100005_raw-Carbohydrate                          None\n",
       "                                                 ... \n",
       "wellbeing measurement AND family relationship    None\n",
       "wheezing                                         None\n",
       "whooping cough                                   None\n",
       "worry measurement                                None\n",
       "wrist fracture                                   None\n",
       "Length: 3749, dtype: object"
      ]
     },
     "execution_count": 35,
     "metadata": {},
     "output_type": "execute_result"
    }
   ],
   "source": [
    "trait_labels"
   ]
  },
  {
   "cell_type": "code",
   "execution_count": 36,
   "metadata": {},
   "outputs": [],
   "source": [
    "clustrees_df = clustrees_df.assign(labels=trait_labels)"
   ]
  },
  {
   "cell_type": "markdown",
   "metadata": {},
   "source": [
    "# Save"
   ]
  },
  {
   "cell_type": "code",
   "execution_count": 37,
   "metadata": {},
   "outputs": [
    {
     "data": {
      "text/plain": [
       "PosixPath('/media/miltondp/Elements1/projects/phenoplier/results/clustering/consensus_clustering/clustering_tree_data.tsv')"
      ]
     },
     "metadata": {},
     "output_type": "display_data"
    }
   ],
   "source": [
    "output_file = Path(CONSENSUS_CLUSTERING_DIR, \"clustering_tree_data.tsv\").resolve()\n",
    "display(output_file)"
   ]
  },
  {
   "cell_type": "code",
   "execution_count": 38,
   "metadata": {},
   "outputs": [],
   "source": [
    "clustrees_df.to_csv(output_file, sep=\"\\t\")"
   ]
  },
  {
   "cell_type": "code",
   "execution_count": null,
   "metadata": {},
   "outputs": [],
   "source": []
  }
 ],
 "metadata": {
  "jupytext": {
   "cell_metadata_filter": "all,-execution,-papermill,-trusted",
   "formats": "ipynb,py//py:percent"
  },
  "kernelspec": {
   "display_name": "Python 3",
   "language": "python",
   "name": "python3"
  },
  "language_info": {
   "codemirror_mode": {
    "name": "ipython",
    "version": 3
   },
   "file_extension": ".py",
   "mimetype": "text/x-python",
   "name": "python",
   "nbconvert_exporter": "python",
   "pygments_lexer": "ipython3",
   "version": "3.8.6"
  },
  "toc-autonumbering": true,
  "toc-showcode": false,
  "toc-showmarkdowntxt": false,
  "toc-showtags": false
 },
 "nbformat": 4,
 "nbformat_minor": 4
}
