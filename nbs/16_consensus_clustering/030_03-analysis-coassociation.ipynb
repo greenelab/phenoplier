{
 "cells": [
  {
   "cell_type": "markdown",
   "metadata": {
    "papermill": {
     "duration": 0.016242,
     "end_time": "2021-03-11T05:13:06.539695",
     "exception": false,
     "start_time": "2021-03-11T05:13:06.523453",
     "status": "completed"
    },
    "tags": []
   },
   "source": [
    "# Description"
   ]
  },
  {
   "cell_type": "markdown",
   "metadata": {
    "papermill": {
     "duration": 0.012149,
     "end_time": "2021-03-11T05:13:06.564332",
     "exception": false,
     "start_time": "2021-03-11T05:13:06.552183",
     "status": "completed"
    },
    "tags": []
   },
   "source": [
    "It analyzes how clusters of traits were grouped across the ensemble partitions. For example, a stable cluster (obtained from consensus partitions) of cardiovascular diseases can show that all traits were always grouped together across all partitions of the ensemble; another cluster might show that some traits were clustered more often than others, representing a less stable group of traits."
   ]
  },
  {
   "cell_type": "markdown",
   "metadata": {
    "papermill": {
     "duration": 0.012408,
     "end_time": "2021-03-11T05:13:06.589025",
     "exception": false,
     "start_time": "2021-03-11T05:13:06.576617",
     "status": "completed"
    },
    "tags": []
   },
   "source": [
    "**TODO:** This section of the notebook will be updated again when I start actively writing the results section of the manuscript. Here I left some code as example for some clusters."
   ]
  },
  {
   "cell_type": "markdown",
   "metadata": {
    "papermill": {
     "duration": 0.012282,
     "end_time": "2021-03-11T05:13:06.613846",
     "exception": false,
     "start_time": "2021-03-11T05:13:06.601564",
     "status": "completed"
    },
    "tags": []
   },
   "source": [
    "# Modules loading"
   ]
  },
  {
   "cell_type": "code",
   "execution_count": 1,
   "metadata": {
    "execution": {
     "iopub.execute_input": "2021-03-11T05:13:06.644357Z",
     "iopub.status.busy": "2021-03-11T05:13:06.643986Z",
     "iopub.status.idle": "2021-03-11T05:13:06.653921Z",
     "shell.execute_reply": "2021-03-11T05:13:06.652752Z"
    },
    "papermill": {
     "duration": 0.027849,
     "end_time": "2021-03-11T05:13:06.654165",
     "exception": false,
     "start_time": "2021-03-11T05:13:06.626316",
     "status": "completed"
    },
    "tags": []
   },
   "outputs": [],
   "source": [
    "%load_ext autoreload\n",
    "%autoreload 2"
   ]
  },
  {
   "cell_type": "code",
   "execution_count": 2,
   "metadata": {
    "execution": {
     "iopub.execute_input": "2021-03-11T05:13:06.703279Z",
     "iopub.status.busy": "2021-03-11T05:13:06.702883Z",
     "iopub.status.idle": "2021-03-11T05:13:07.289573Z",
     "shell.execute_reply": "2021-03-11T05:13:07.289084Z"
    },
    "papermill": {
     "duration": 0.607702,
     "end_time": "2021-03-11T05:13:07.289681",
     "exception": false,
     "start_time": "2021-03-11T05:13:06.681979",
     "status": "completed"
    },
    "tags": []
   },
   "outputs": [],
   "source": [
    "from IPython.display import display\n",
    "from pathlib import Path\n",
    "\n",
    "import numpy as np\n",
    "import pandas as pd\n",
    "import matplotlib.pyplot as plt\n",
    "import seaborn as sns\n",
    "\n",
    "from utils import generate_result_set_name\n",
    "import conf"
   ]
  },
  {
   "cell_type": "markdown",
   "metadata": {
    "papermill": {
     "duration": 0.013702,
     "end_time": "2021-03-11T05:13:07.319129",
     "exception": false,
     "start_time": "2021-03-11T05:13:07.305427",
     "status": "completed"
    },
    "tags": []
   },
   "source": [
    "# Settings"
   ]
  },
  {
   "cell_type": "code",
   "execution_count": 3,
   "metadata": {
    "execution": {
     "iopub.execute_input": "2021-03-11T05:13:07.346808Z",
     "iopub.status.busy": "2021-03-11T05:13:07.346441Z",
     "iopub.status.idle": "2021-03-11T05:13:07.357631Z",
     "shell.execute_reply": "2021-03-11T05:13:07.357248Z"
    },
    "papermill": {
     "duration": 0.025962,
     "end_time": "2021-03-11T05:13:07.357718",
     "exception": false,
     "start_time": "2021-03-11T05:13:07.331756",
     "status": "completed"
    },
    "tags": []
   },
   "outputs": [
    {
     "data": {
      "text/plain": [
       "PosixPath('/home/miltondp/projects/labs/greenelab/phenoplier/base/results/clustering/consensus_clustering')"
      ]
     },
     "metadata": {},
     "output_type": "display_data"
    }
   ],
   "source": [
    "CONSENSUS_CLUSTERING_DIR = Path(\n",
    "    conf.RESULTS[\"CLUSTERING_DIR\"], \"consensus_clustering\"\n",
    ").resolve()\n",
    "\n",
    "display(CONSENSUS_CLUSTERING_DIR)"
   ]
  },
  {
   "cell_type": "markdown",
   "metadata": {
    "papermill": {
     "duration": 0.01227,
     "end_time": "2021-03-11T05:13:07.383031",
     "exception": false,
     "start_time": "2021-03-11T05:13:07.370761",
     "status": "completed"
    },
    "tags": []
   },
   "source": [
    "## Load data"
   ]
  },
  {
   "cell_type": "code",
   "execution_count": 4,
   "metadata": {
    "execution": {
     "iopub.execute_input": "2021-03-11T05:13:07.410893Z",
     "iopub.status.busy": "2021-03-11T05:13:07.410528Z",
     "iopub.status.idle": "2021-03-11T05:13:07.419800Z",
     "shell.execute_reply": "2021-03-11T05:13:07.419425Z"
    },
    "papermill": {
     "duration": 0.024277,
     "end_time": "2021-03-11T05:13:07.419887",
     "exception": false,
     "start_time": "2021-03-11T05:13:07.395610",
     "status": "completed"
    },
    "tags": []
   },
   "outputs": [],
   "source": [
    "INPUT_SUBSET = \"umap\""
   ]
  },
  {
   "cell_type": "code",
   "execution_count": 5,
   "metadata": {
    "execution": {
     "iopub.execute_input": "2021-03-11T05:13:07.448210Z",
     "iopub.status.busy": "2021-03-11T05:13:07.447840Z",
     "iopub.status.idle": "2021-03-11T05:13:07.456842Z",
     "shell.execute_reply": "2021-03-11T05:13:07.456505Z"
    },
    "papermill": {
     "duration": 0.024228,
     "end_time": "2021-03-11T05:13:07.456925",
     "exception": false,
     "start_time": "2021-03-11T05:13:07.432697",
     "status": "completed"
    },
    "tags": []
   },
   "outputs": [],
   "source": [
    "INPUT_STEM = \"z_score_std-projection-smultixcan-efo_partial-mashr-zscores\""
   ]
  },
  {
   "cell_type": "code",
   "execution_count": 6,
   "metadata": {
    "execution": {
     "iopub.execute_input": "2021-03-11T05:13:07.484962Z",
     "iopub.status.busy": "2021-03-11T05:13:07.484551Z",
     "iopub.status.idle": "2021-03-11T05:13:07.493338Z",
     "shell.execute_reply": "2021-03-11T05:13:07.493619Z"
    },
    "papermill": {
     "duration": 0.023946,
     "end_time": "2021-03-11T05:13:07.493724",
     "exception": false,
     "start_time": "2021-03-11T05:13:07.469778",
     "status": "completed"
    },
    "tags": []
   },
   "outputs": [],
   "source": [
    "DR_OPTIONS = {\n",
    "    \"n_components\": 5,\n",
    "    \"metric\": \"euclidean\",\n",
    "    \"n_neighbors\": 15,\n",
    "    \"random_state\": 0,\n",
    "}"
   ]
  },
  {
   "cell_type": "code",
   "execution_count": 7,
   "metadata": {
    "execution": {
     "iopub.execute_input": "2021-03-11T05:13:07.523282Z",
     "iopub.status.busy": "2021-03-11T05:13:07.522908Z",
     "iopub.status.idle": "2021-03-11T05:13:07.534725Z",
     "shell.execute_reply": "2021-03-11T05:13:07.534398Z"
    },
    "papermill": {
     "duration": 0.0276,
     "end_time": "2021-03-11T05:13:07.534810",
     "exception": false,
     "start_time": "2021-03-11T05:13:07.507210",
     "status": "completed"
    },
    "tags": []
   },
   "outputs": [
    {
     "data": {
      "text/plain": [
       "PosixPath('/home/miltondp/projects/labs/greenelab/phenoplier/base/results/data_transformations/umap/umap-z_score_std-projection-smultixcan-efo_partial-mashr-zscores-metric_euclidean-n_components_5-n_neighbors_15-random_state_0.pkl')"
      ]
     },
     "metadata": {},
     "output_type": "display_data"
    },
    {
     "data": {
      "text/plain": [
       "'umap-z_score_std-projection-smultixcan-efo_partial-mashr-zscores-metric_euclidean-n_components_5-n_neighbors_15-random_state_0'"
      ]
     },
     "metadata": {},
     "output_type": "display_data"
    }
   ],
   "source": [
    "input_filepath = Path(\n",
    "    conf.RESULTS[\"DATA_TRANSFORMATIONS_DIR\"],\n",
    "    INPUT_SUBSET,\n",
    "    generate_result_set_name(\n",
    "        DR_OPTIONS, prefix=f\"{INPUT_SUBSET}-{INPUT_STEM}-\", suffix=\".pkl\"\n",
    "    ),\n",
    ").resolve()\n",
    "display(input_filepath)\n",
    "\n",
    "assert input_filepath.exists(), \"Input file does not exist\"\n",
    "\n",
    "input_filepath_stem = input_filepath.stem\n",
    "display(input_filepath_stem)"
   ]
  },
  {
   "cell_type": "code",
   "execution_count": 8,
   "metadata": {
    "execution": {
     "iopub.execute_input": "2021-03-11T05:13:07.565456Z",
     "iopub.status.busy": "2021-03-11T05:13:07.565081Z",
     "iopub.status.idle": "2021-03-11T05:13:07.575756Z",
     "shell.execute_reply": "2021-03-11T05:13:07.575368Z"
    },
    "papermill": {
     "duration": 0.026759,
     "end_time": "2021-03-11T05:13:07.575844",
     "exception": false,
     "start_time": "2021-03-11T05:13:07.549085",
     "status": "completed"
    },
    "tags": []
   },
   "outputs": [],
   "source": [
    "data_umap = pd.read_pickle(input_filepath)"
   ]
  },
  {
   "cell_type": "code",
   "execution_count": 9,
   "metadata": {
    "execution": {
     "iopub.execute_input": "2021-03-11T05:13:07.605306Z",
     "iopub.status.busy": "2021-03-11T05:13:07.604938Z",
     "iopub.status.idle": "2021-03-11T05:13:07.614545Z",
     "shell.execute_reply": "2021-03-11T05:13:07.614841Z"
    },
    "papermill": {
     "duration": 0.025503,
     "end_time": "2021-03-11T05:13:07.614948",
     "exception": false,
     "start_time": "2021-03-11T05:13:07.589445",
     "status": "completed"
    },
    "tags": []
   },
   "outputs": [
    {
     "data": {
      "text/plain": [
       "(3752, 5)"
      ]
     },
     "execution_count": 9,
     "metadata": {},
     "output_type": "execute_result"
    }
   ],
   "source": [
    "data_umap.shape"
   ]
  },
  {
   "cell_type": "code",
   "execution_count": 10,
   "metadata": {
    "execution": {
     "iopub.execute_input": "2021-03-11T05:13:07.644793Z",
     "iopub.status.busy": "2021-03-11T05:13:07.644409Z",
     "iopub.status.idle": "2021-03-11T05:13:07.658672Z",
     "shell.execute_reply": "2021-03-11T05:13:07.658968Z"
    },
    "papermill": {
     "duration": 0.030117,
     "end_time": "2021-03-11T05:13:07.659072",
     "exception": false,
     "start_time": "2021-03-11T05:13:07.628955",
     "status": "completed"
    },
    "tags": []
   },
   "outputs": [
    {
     "data": {
      "text/html": [
       "<div>\n",
       "<style scoped>\n",
       "    .dataframe tbody tr th:only-of-type {\n",
       "        vertical-align: middle;\n",
       "    }\n",
       "\n",
       "    .dataframe tbody tr th {\n",
       "        vertical-align: top;\n",
       "    }\n",
       "\n",
       "    .dataframe thead th {\n",
       "        text-align: right;\n",
       "    }\n",
       "</style>\n",
       "<table border=\"1\" class=\"dataframe\">\n",
       "  <thead>\n",
       "    <tr style=\"text-align: right;\">\n",
       "      <th></th>\n",
       "      <th>UMAP1</th>\n",
       "      <th>UMAP2</th>\n",
       "      <th>UMAP3</th>\n",
       "      <th>UMAP4</th>\n",
       "      <th>UMAP5</th>\n",
       "    </tr>\n",
       "  </thead>\n",
       "  <tbody>\n",
       "    <tr>\n",
       "      <th>100001_raw-Food_weight</th>\n",
       "      <td>0.426554</td>\n",
       "      <td>0.670532</td>\n",
       "      <td>7.363805</td>\n",
       "      <td>1.171837</td>\n",
       "      <td>6.297295</td>\n",
       "    </tr>\n",
       "    <tr>\n",
       "      <th>100002_raw-Energy</th>\n",
       "      <td>-1.605179</td>\n",
       "      <td>0.815699</td>\n",
       "      <td>8.288521</td>\n",
       "      <td>0.990394</td>\n",
       "      <td>6.817351</td>\n",
       "    </tr>\n",
       "    <tr>\n",
       "      <th>100003_raw-Protein</th>\n",
       "      <td>-1.656178</td>\n",
       "      <td>0.788297</td>\n",
       "      <td>8.355906</td>\n",
       "      <td>1.017072</td>\n",
       "      <td>6.845651</td>\n",
       "    </tr>\n",
       "    <tr>\n",
       "      <th>100004_raw-Fat</th>\n",
       "      <td>-1.508325</td>\n",
       "      <td>0.802536</td>\n",
       "      <td>8.328274</td>\n",
       "      <td>1.033939</td>\n",
       "      <td>6.709319</td>\n",
       "    </tr>\n",
       "    <tr>\n",
       "      <th>100005_raw-Carbohydrate</th>\n",
       "      <td>-1.617872</td>\n",
       "      <td>0.812711</td>\n",
       "      <td>8.307973</td>\n",
       "      <td>1.020575</td>\n",
       "      <td>6.825944</td>\n",
       "    </tr>\n",
       "  </tbody>\n",
       "</table>\n",
       "</div>"
      ],
      "text/plain": [
       "                            UMAP1     UMAP2     UMAP3     UMAP4     UMAP5\n",
       "100001_raw-Food_weight   0.426554  0.670532  7.363805  1.171837  6.297295\n",
       "100002_raw-Energy       -1.605179  0.815699  8.288521  0.990394  6.817351\n",
       "100003_raw-Protein      -1.656178  0.788297  8.355906  1.017072  6.845651\n",
       "100004_raw-Fat          -1.508325  0.802536  8.328274  1.033939  6.709319\n",
       "100005_raw-Carbohydrate -1.617872  0.812711  8.307973  1.020575  6.825944"
      ]
     },
     "execution_count": 10,
     "metadata": {},
     "output_type": "execute_result"
    }
   ],
   "source": [
    "data_umap.head()"
   ]
  },
  {
   "cell_type": "markdown",
   "metadata": {
    "papermill": {
     "duration": 0.013984,
     "end_time": "2021-03-11T05:13:07.687398",
     "exception": false,
     "start_time": "2021-03-11T05:13:07.673414",
     "status": "completed"
    },
    "tags": []
   },
   "source": [
    "# Load best partitions"
   ]
  },
  {
   "cell_type": "code",
   "execution_count": 11,
   "metadata": {
    "execution": {
     "iopub.execute_input": "2021-03-11T05:13:07.716508Z",
     "iopub.status.busy": "2021-03-11T05:13:07.716151Z",
     "iopub.status.idle": "2021-03-11T05:13:07.726344Z",
     "shell.execute_reply": "2021-03-11T05:13:07.725973Z"
    },
    "papermill": {
     "duration": 0.025572,
     "end_time": "2021-03-11T05:13:07.726428",
     "exception": false,
     "start_time": "2021-03-11T05:13:07.700856",
     "status": "completed"
    },
    "tags": []
   },
   "outputs": [
    {
     "data": {
      "text/plain": [
       "PosixPath('/home/miltondp/projects/labs/greenelab/phenoplier/base/results/clustering/consensus_clustering/best_partitions_by_k.pkl')"
      ]
     },
     "metadata": {},
     "output_type": "display_data"
    }
   ],
   "source": [
    "input_file = Path(CONSENSUS_CLUSTERING_DIR, \"best_partitions_by_k.pkl\").resolve()\n",
    "display(input_file)"
   ]
  },
  {
   "cell_type": "code",
   "execution_count": 12,
   "metadata": {
    "execution": {
     "iopub.execute_input": "2021-03-11T05:13:07.757544Z",
     "iopub.status.busy": "2021-03-11T05:13:07.757184Z",
     "iopub.status.idle": "2021-03-11T05:13:07.768373Z",
     "shell.execute_reply": "2021-03-11T05:13:07.768051Z"
    },
    "papermill": {
     "duration": 0.027627,
     "end_time": "2021-03-11T05:13:07.768463",
     "exception": false,
     "start_time": "2021-03-11T05:13:07.740836",
     "status": "completed"
    },
    "tags": []
   },
   "outputs": [],
   "source": [
    "best_partitions = pd.read_pickle(input_file)"
   ]
  },
  {
   "cell_type": "code",
   "execution_count": 13,
   "metadata": {
    "execution": {
     "iopub.execute_input": "2021-03-11T05:13:07.798998Z",
     "iopub.status.busy": "2021-03-11T05:13:07.798643Z",
     "iopub.status.idle": "2021-03-11T05:13:07.808772Z",
     "shell.execute_reply": "2021-03-11T05:13:07.808372Z"
    },
    "papermill": {
     "duration": 0.026093,
     "end_time": "2021-03-11T05:13:07.808856",
     "exception": false,
     "start_time": "2021-03-11T05:13:07.782763",
     "status": "completed"
    },
    "tags": []
   },
   "outputs": [
    {
     "data": {
      "text/plain": [
       "(59, 4)"
      ]
     },
     "execution_count": 13,
     "metadata": {},
     "output_type": "execute_result"
    }
   ],
   "source": [
    "best_partitions.shape"
   ]
  },
  {
   "cell_type": "code",
   "execution_count": 14,
   "metadata": {
    "execution": {
     "iopub.execute_input": "2021-03-11T05:13:07.840519Z",
     "iopub.status.busy": "2021-03-11T05:13:07.840145Z",
     "iopub.status.idle": "2021-03-11T05:13:07.858280Z",
     "shell.execute_reply": "2021-03-11T05:13:07.858565Z"
    },
    "papermill": {
     "duration": 0.034997,
     "end_time": "2021-03-11T05:13:07.858673",
     "exception": false,
     "start_time": "2021-03-11T05:13:07.823676",
     "status": "completed"
    },
    "tags": []
   },
   "outputs": [
    {
     "data": {
      "text/html": [
       "<div>\n",
       "<style scoped>\n",
       "    .dataframe tbody tr th:only-of-type {\n",
       "        vertical-align: middle;\n",
       "    }\n",
       "\n",
       "    .dataframe tbody tr th {\n",
       "        vertical-align: top;\n",
       "    }\n",
       "\n",
       "    .dataframe thead th {\n",
       "        text-align: right;\n",
       "    }\n",
       "</style>\n",
       "<table border=\"1\" class=\"dataframe\">\n",
       "  <thead>\n",
       "    <tr style=\"text-align: right;\">\n",
       "      <th></th>\n",
       "      <th>method</th>\n",
       "      <th>partition</th>\n",
       "      <th>ami_mean</th>\n",
       "      <th>selected</th>\n",
       "    </tr>\n",
       "    <tr>\n",
       "      <th>k</th>\n",
       "      <th></th>\n",
       "      <th></th>\n",
       "      <th></th>\n",
       "      <th></th>\n",
       "    </tr>\n",
       "  </thead>\n",
       "  <tbody>\n",
       "    <tr>\n",
       "      <th>42</th>\n",
       "      <td>eac_average_coassoc_matrix</td>\n",
       "      <td>[25, 25, 25, 25, 25, 25, 25, 25, 25, 11, 25, 2...</td>\n",
       "      <td>0.286678</td>\n",
       "      <td>True</td>\n",
       "    </tr>\n",
       "    <tr>\n",
       "      <th>41</th>\n",
       "      <td>eac_average_coassoc_matrix</td>\n",
       "      <td>[25, 25, 25, 25, 25, 25, 25, 25, 25, 11, 25, 2...</td>\n",
       "      <td>0.286357</td>\n",
       "      <td>True</td>\n",
       "    </tr>\n",
       "    <tr>\n",
       "      <th>40</th>\n",
       "      <td>eac_average_coassoc_matrix</td>\n",
       "      <td>[25, 25, 25, 25, 25, 25, 25, 25, 25, 0, 25, 25...</td>\n",
       "      <td>0.286107</td>\n",
       "      <td>True</td>\n",
       "    </tr>\n",
       "    <tr>\n",
       "      <th>48</th>\n",
       "      <td>eac_average_coassoc_matrix</td>\n",
       "      <td>[25, 25, 25, 25, 25, 25, 25, 25, 25, 6, 25, 25...</td>\n",
       "      <td>0.286006</td>\n",
       "      <td>True</td>\n",
       "    </tr>\n",
       "    <tr>\n",
       "      <th>17</th>\n",
       "      <td>scc_020</td>\n",
       "      <td>[1, 1, 1, 1, 1, 1, 1, 1, 1, 1, 1, 1, 1, 1, 1, ...</td>\n",
       "      <td>0.285774</td>\n",
       "      <td>True</td>\n",
       "    </tr>\n",
       "  </tbody>\n",
       "</table>\n",
       "</div>"
      ],
      "text/plain": [
       "                        method  \\\n",
       "k                                \n",
       "42  eac_average_coassoc_matrix   \n",
       "41  eac_average_coassoc_matrix   \n",
       "40  eac_average_coassoc_matrix   \n",
       "48  eac_average_coassoc_matrix   \n",
       "17                     scc_020   \n",
       "\n",
       "                                            partition  ami_mean  selected  \n",
       "k                                                                          \n",
       "42  [25, 25, 25, 25, 25, 25, 25, 25, 25, 11, 25, 2...  0.286678      True  \n",
       "41  [25, 25, 25, 25, 25, 25, 25, 25, 25, 11, 25, 2...  0.286357      True  \n",
       "40  [25, 25, 25, 25, 25, 25, 25, 25, 25, 0, 25, 25...  0.286107      True  \n",
       "48  [25, 25, 25, 25, 25, 25, 25, 25, 25, 6, 25, 25...  0.286006      True  \n",
       "17  [1, 1, 1, 1, 1, 1, 1, 1, 1, 1, 1, 1, 1, 1, 1, ...  0.285774      True  "
      ]
     },
     "execution_count": 14,
     "metadata": {},
     "output_type": "execute_result"
    }
   ],
   "source": [
    "best_partitions.head()"
   ]
  },
  {
   "cell_type": "markdown",
   "metadata": {
    "papermill": {
     "duration": 0.014347,
     "end_time": "2021-03-11T05:13:07.888184",
     "exception": false,
     "start_time": "2021-03-11T05:13:07.873837",
     "status": "completed"
    },
    "tags": []
   },
   "source": [
    "# Load coassociation matrix"
   ]
  },
  {
   "cell_type": "code",
   "execution_count": 15,
   "metadata": {
    "execution": {
     "iopub.execute_input": "2021-03-11T05:13:07.918968Z",
     "iopub.status.busy": "2021-03-11T05:13:07.918611Z",
     "iopub.status.idle": "2021-03-11T05:13:07.929009Z",
     "shell.execute_reply": "2021-03-11T05:13:07.928669Z"
    },
    "papermill": {
     "duration": 0.026819,
     "end_time": "2021-03-11T05:13:07.929093",
     "exception": false,
     "start_time": "2021-03-11T05:13:07.902274",
     "status": "completed"
    },
    "tags": []
   },
   "outputs": [
    {
     "data": {
      "text/plain": [
       "PosixPath('/home/miltondp/projects/labs/greenelab/phenoplier/base/results/clustering/consensus_clustering/ensemble_coassoc_matrix.npy')"
      ]
     },
     "metadata": {},
     "output_type": "display_data"
    }
   ],
   "source": [
    "input_file = Path(CONSENSUS_CLUSTERING_DIR, \"ensemble_coassoc_matrix.npy\").resolve()\n",
    "display(input_file)"
   ]
  },
  {
   "cell_type": "code",
   "execution_count": 16,
   "metadata": {
    "execution": {
     "iopub.execute_input": "2021-03-11T05:13:07.961000Z",
     "iopub.status.busy": "2021-03-11T05:13:07.960577Z",
     "iopub.status.idle": "2021-03-11T05:13:07.991488Z",
     "shell.execute_reply": "2021-03-11T05:13:07.991041Z"
    },
    "papermill": {
     "duration": 0.047733,
     "end_time": "2021-03-11T05:13:07.991589",
     "exception": false,
     "start_time": "2021-03-11T05:13:07.943856",
     "status": "completed"
    },
    "tags": []
   },
   "outputs": [],
   "source": [
    "coassoc_matrix = np.load(input_file)"
   ]
  },
  {
   "cell_type": "code",
   "execution_count": 17,
   "metadata": {
    "execution": {
     "iopub.execute_input": "2021-03-11T05:13:08.028844Z",
     "iopub.status.busy": "2021-03-11T05:13:08.028454Z",
     "iopub.status.idle": "2021-03-11T05:13:08.056108Z",
     "shell.execute_reply": "2021-03-11T05:13:08.056408Z"
    },
    "papermill": {
     "duration": 0.047278,
     "end_time": "2021-03-11T05:13:08.056523",
     "exception": false,
     "start_time": "2021-03-11T05:13:08.009245",
     "status": "completed"
    },
    "tags": []
   },
   "outputs": [],
   "source": [
    "coassoc_matrix = pd.DataFrame(\n",
    "    data=1.0 - coassoc_matrix,\n",
    "    index=data_umap.index.copy(),\n",
    "    columns=data_umap.index.copy(),\n",
    ")"
   ]
  },
  {
   "cell_type": "code",
   "execution_count": 18,
   "metadata": {
    "execution": {
     "iopub.execute_input": "2021-03-11T05:13:08.090607Z",
     "iopub.status.busy": "2021-03-11T05:13:08.090248Z",
     "iopub.status.idle": "2021-03-11T05:13:08.100171Z",
     "shell.execute_reply": "2021-03-11T05:13:08.099835Z"
    },
    "papermill": {
     "duration": 0.027712,
     "end_time": "2021-03-11T05:13:08.100254",
     "exception": false,
     "start_time": "2021-03-11T05:13:08.072542",
     "status": "completed"
    },
    "tags": []
   },
   "outputs": [
    {
     "data": {
      "text/plain": [
       "(3752, 3752)"
      ]
     },
     "execution_count": 18,
     "metadata": {},
     "output_type": "execute_result"
    }
   ],
   "source": [
    "coassoc_matrix.shape"
   ]
  },
  {
   "cell_type": "code",
   "execution_count": 19,
   "metadata": {
    "execution": {
     "iopub.execute_input": "2021-03-11T05:13:08.132351Z",
     "iopub.status.busy": "2021-03-11T05:13:08.131996Z",
     "iopub.status.idle": "2021-03-11T05:13:08.154883Z",
     "shell.execute_reply": "2021-03-11T05:13:08.154537Z"
    },
    "papermill": {
     "duration": 0.039584,
     "end_time": "2021-03-11T05:13:08.154966",
     "exception": false,
     "start_time": "2021-03-11T05:13:08.115382",
     "status": "completed"
    },
    "tags": []
   },
   "outputs": [
    {
     "data": {
      "text/html": [
       "<div>\n",
       "<style scoped>\n",
       "    .dataframe tbody tr th:only-of-type {\n",
       "        vertical-align: middle;\n",
       "    }\n",
       "\n",
       "    .dataframe tbody tr th {\n",
       "        vertical-align: top;\n",
       "    }\n",
       "\n",
       "    .dataframe thead th {\n",
       "        text-align: right;\n",
       "    }\n",
       "</style>\n",
       "<table border=\"1\" class=\"dataframe\">\n",
       "  <thead>\n",
       "    <tr style=\"text-align: right;\">\n",
       "      <th></th>\n",
       "      <th>100001_raw-Food_weight</th>\n",
       "      <th>100002_raw-Energy</th>\n",
       "      <th>100003_raw-Protein</th>\n",
       "      <th>100004_raw-Fat</th>\n",
       "      <th>100005_raw-Carbohydrate</th>\n",
       "      <th>100006_raw-Saturated_fat</th>\n",
       "      <th>100007_raw-Polyunsaturated_fat</th>\n",
       "      <th>100008_raw-Total_sugars</th>\n",
       "      <th>100009_raw-Englyst_dietary_fibre</th>\n",
       "      <th>100010-Portion_size</th>\n",
       "      <th>...</th>\n",
       "      <th>visual impairment</th>\n",
       "      <th>vitiligo</th>\n",
       "      <th>vitreous body disease</th>\n",
       "      <th>vocal cord polyp</th>\n",
       "      <th>voice disorders</th>\n",
       "      <th>wellbeing measurement AND family relationship</th>\n",
       "      <th>wheezing</th>\n",
       "      <th>whooping cough</th>\n",
       "      <th>worry measurement</th>\n",
       "      <th>wrist fracture</th>\n",
       "    </tr>\n",
       "  </thead>\n",
       "  <tbody>\n",
       "    <tr>\n",
       "      <th>100001_raw-Food_weight</th>\n",
       "      <td>1.000000</td>\n",
       "      <td>0.685029</td>\n",
       "      <td>0.672000</td>\n",
       "      <td>0.632457</td>\n",
       "      <td>0.658743</td>\n",
       "      <td>0.630653</td>\n",
       "      <td>0.638049</td>\n",
       "      <td>0.645876</td>\n",
       "      <td>0.669561</td>\n",
       "      <td>0.635147</td>\n",
       "      <td>...</td>\n",
       "      <td>0.538899</td>\n",
       "      <td>0.556839</td>\n",
       "      <td>0.559383</td>\n",
       "      <td>0.557392</td>\n",
       "      <td>0.513697</td>\n",
       "      <td>0.640706</td>\n",
       "      <td>0.569559</td>\n",
       "      <td>0.520489</td>\n",
       "      <td>0.588583</td>\n",
       "      <td>0.355667</td>\n",
       "    </tr>\n",
       "    <tr>\n",
       "      <th>100002_raw-Energy</th>\n",
       "      <td>0.685029</td>\n",
       "      <td>1.000000</td>\n",
       "      <td>0.958466</td>\n",
       "      <td>0.923323</td>\n",
       "      <td>0.950936</td>\n",
       "      <td>0.921023</td>\n",
       "      <td>0.907238</td>\n",
       "      <td>0.931522</td>\n",
       "      <td>0.933562</td>\n",
       "      <td>0.370802</td>\n",
       "      <td>...</td>\n",
       "      <td>0.321216</td>\n",
       "      <td>0.316138</td>\n",
       "      <td>0.338208</td>\n",
       "      <td>0.313555</td>\n",
       "      <td>0.314612</td>\n",
       "      <td>0.383843</td>\n",
       "      <td>0.329325</td>\n",
       "      <td>0.321314</td>\n",
       "      <td>0.351395</td>\n",
       "      <td>0.325040</td>\n",
       "    </tr>\n",
       "    <tr>\n",
       "      <th>100003_raw-Protein</th>\n",
       "      <td>0.672000</td>\n",
       "      <td>0.958466</td>\n",
       "      <td>1.000000</td>\n",
       "      <td>0.897535</td>\n",
       "      <td>0.941579</td>\n",
       "      <td>0.895229</td>\n",
       "      <td>0.882959</td>\n",
       "      <td>0.909610</td>\n",
       "      <td>0.925799</td>\n",
       "      <td>0.360978</td>\n",
       "      <td>...</td>\n",
       "      <td>0.321674</td>\n",
       "      <td>0.311801</td>\n",
       "      <td>0.326554</td>\n",
       "      <td>0.313784</td>\n",
       "      <td>0.329452</td>\n",
       "      <td>0.385440</td>\n",
       "      <td>0.335338</td>\n",
       "      <td>0.335920</td>\n",
       "      <td>0.357796</td>\n",
       "      <td>0.322986</td>\n",
       "    </tr>\n",
       "    <tr>\n",
       "      <th>100004_raw-Fat</th>\n",
       "      <td>0.632457</td>\n",
       "      <td>0.923323</td>\n",
       "      <td>0.897535</td>\n",
       "      <td>1.000000</td>\n",
       "      <td>0.947969</td>\n",
       "      <td>0.994750</td>\n",
       "      <td>0.950985</td>\n",
       "      <td>0.970326</td>\n",
       "      <td>0.892237</td>\n",
       "      <td>0.396162</td>\n",
       "      <td>...</td>\n",
       "      <td>0.347051</td>\n",
       "      <td>0.354029</td>\n",
       "      <td>0.372486</td>\n",
       "      <td>0.345276</td>\n",
       "      <td>0.351142</td>\n",
       "      <td>0.332497</td>\n",
       "      <td>0.288622</td>\n",
       "      <td>0.347786</td>\n",
       "      <td>0.307727</td>\n",
       "      <td>0.353344</td>\n",
       "    </tr>\n",
       "    <tr>\n",
       "      <th>100005_raw-Carbohydrate</th>\n",
       "      <td>0.658743</td>\n",
       "      <td>0.950936</td>\n",
       "      <td>0.941579</td>\n",
       "      <td>0.947969</td>\n",
       "      <td>1.000000</td>\n",
       "      <td>0.944990</td>\n",
       "      <td>0.929684</td>\n",
       "      <td>0.963707</td>\n",
       "      <td>0.902511</td>\n",
       "      <td>0.387937</td>\n",
       "      <td>...</td>\n",
       "      <td>0.338134</td>\n",
       "      <td>0.331888</td>\n",
       "      <td>0.357861</td>\n",
       "      <td>0.332953</td>\n",
       "      <td>0.334475</td>\n",
       "      <td>0.353035</td>\n",
       "      <td>0.298797</td>\n",
       "      <td>0.340712</td>\n",
       "      <td>0.320759</td>\n",
       "      <td>0.346953</td>\n",
       "    </tr>\n",
       "  </tbody>\n",
       "</table>\n",
       "<p>5 rows × 3752 columns</p>\n",
       "</div>"
      ],
      "text/plain": [
       "                         100001_raw-Food_weight  100002_raw-Energy  \\\n",
       "100001_raw-Food_weight                 1.000000           0.685029   \n",
       "100002_raw-Energy                      0.685029           1.000000   \n",
       "100003_raw-Protein                     0.672000           0.958466   \n",
       "100004_raw-Fat                         0.632457           0.923323   \n",
       "100005_raw-Carbohydrate                0.658743           0.950936   \n",
       "\n",
       "                         100003_raw-Protein  100004_raw-Fat  \\\n",
       "100001_raw-Food_weight             0.672000        0.632457   \n",
       "100002_raw-Energy                  0.958466        0.923323   \n",
       "100003_raw-Protein                 1.000000        0.897535   \n",
       "100004_raw-Fat                     0.897535        1.000000   \n",
       "100005_raw-Carbohydrate            0.941579        0.947969   \n",
       "\n",
       "                         100005_raw-Carbohydrate  100006_raw-Saturated_fat  \\\n",
       "100001_raw-Food_weight                  0.658743                  0.630653   \n",
       "100002_raw-Energy                       0.950936                  0.921023   \n",
       "100003_raw-Protein                      0.941579                  0.895229   \n",
       "100004_raw-Fat                          0.947969                  0.994750   \n",
       "100005_raw-Carbohydrate                 1.000000                  0.944990   \n",
       "\n",
       "                         100007_raw-Polyunsaturated_fat  \\\n",
       "100001_raw-Food_weight                         0.638049   \n",
       "100002_raw-Energy                              0.907238   \n",
       "100003_raw-Protein                             0.882959   \n",
       "100004_raw-Fat                                 0.950985   \n",
       "100005_raw-Carbohydrate                        0.929684   \n",
       "\n",
       "                         100008_raw-Total_sugars  \\\n",
       "100001_raw-Food_weight                  0.645876   \n",
       "100002_raw-Energy                       0.931522   \n",
       "100003_raw-Protein                      0.909610   \n",
       "100004_raw-Fat                          0.970326   \n",
       "100005_raw-Carbohydrate                 0.963707   \n",
       "\n",
       "                         100009_raw-Englyst_dietary_fibre  \\\n",
       "100001_raw-Food_weight                           0.669561   \n",
       "100002_raw-Energy                                0.933562   \n",
       "100003_raw-Protein                               0.925799   \n",
       "100004_raw-Fat                                   0.892237   \n",
       "100005_raw-Carbohydrate                          0.902511   \n",
       "\n",
       "                         100010-Portion_size  ...  visual impairment  \\\n",
       "100001_raw-Food_weight              0.635147  ...           0.538899   \n",
       "100002_raw-Energy                   0.370802  ...           0.321216   \n",
       "100003_raw-Protein                  0.360978  ...           0.321674   \n",
       "100004_raw-Fat                      0.396162  ...           0.347051   \n",
       "100005_raw-Carbohydrate             0.387937  ...           0.338134   \n",
       "\n",
       "                         vitiligo  vitreous body disease  vocal cord polyp  \\\n",
       "100001_raw-Food_weight   0.556839               0.559383          0.557392   \n",
       "100002_raw-Energy        0.316138               0.338208          0.313555   \n",
       "100003_raw-Protein       0.311801               0.326554          0.313784   \n",
       "100004_raw-Fat           0.354029               0.372486          0.345276   \n",
       "100005_raw-Carbohydrate  0.331888               0.357861          0.332953   \n",
       "\n",
       "                         voice disorders  \\\n",
       "100001_raw-Food_weight          0.513697   \n",
       "100002_raw-Energy               0.314612   \n",
       "100003_raw-Protein              0.329452   \n",
       "100004_raw-Fat                  0.351142   \n",
       "100005_raw-Carbohydrate         0.334475   \n",
       "\n",
       "                         wellbeing measurement AND family relationship  \\\n",
       "100001_raw-Food_weight                                        0.640706   \n",
       "100002_raw-Energy                                             0.383843   \n",
       "100003_raw-Protein                                            0.385440   \n",
       "100004_raw-Fat                                                0.332497   \n",
       "100005_raw-Carbohydrate                                       0.353035   \n",
       "\n",
       "                         wheezing  whooping cough  worry measurement  \\\n",
       "100001_raw-Food_weight   0.569559        0.520489           0.588583   \n",
       "100002_raw-Energy        0.329325        0.321314           0.351395   \n",
       "100003_raw-Protein       0.335338        0.335920           0.357796   \n",
       "100004_raw-Fat           0.288622        0.347786           0.307727   \n",
       "100005_raw-Carbohydrate  0.298797        0.340712           0.320759   \n",
       "\n",
       "                         wrist fracture  \n",
       "100001_raw-Food_weight         0.355667  \n",
       "100002_raw-Energy              0.325040  \n",
       "100003_raw-Protein             0.322986  \n",
       "100004_raw-Fat                 0.353344  \n",
       "100005_raw-Carbohydrate        0.346953  \n",
       "\n",
       "[5 rows x 3752 columns]"
      ]
     },
     "execution_count": 19,
     "metadata": {},
     "output_type": "execute_result"
    }
   ],
   "source": [
    "coassoc_matrix.head()"
   ]
  },
  {
   "cell_type": "markdown",
   "metadata": {
    "papermill": {
     "duration": 0.014639,
     "end_time": "2021-03-11T05:13:08.184774",
     "exception": false,
     "start_time": "2021-03-11T05:13:08.170135",
     "status": "completed"
    },
    "tags": []
   },
   "source": [
    "The coassociation matrix shows the percentage of times a pair of traits was clustered together across the ensemble partitions."
   ]
  },
  {
   "cell_type": "markdown",
   "metadata": {
    "papermill": {
     "duration": 0.014539,
     "end_time": "2021-03-11T05:13:08.214260",
     "exception": false,
     "start_time": "2021-03-11T05:13:08.199721",
     "status": "completed"
    },
    "tags": []
   },
   "source": [
    "## Stats"
   ]
  },
  {
   "cell_type": "markdown",
   "metadata": {
    "papermill": {
     "duration": 0.014405,
     "end_time": "2021-03-11T05:13:08.243316",
     "exception": false,
     "start_time": "2021-03-11T05:13:08.228911",
     "status": "completed"
    },
    "tags": []
   },
   "source": [
    "Here I show some general stats of the coassociation matrix, useful to compare results below. For instance, if a pair of traits got clustered together 61% of the times, how strong is that?"
   ]
  },
  {
   "cell_type": "code",
   "execution_count": 20,
   "metadata": {
    "execution": {
     "iopub.execute_input": "2021-03-11T05:13:08.275673Z",
     "iopub.status.busy": "2021-03-11T05:13:08.275309Z",
     "iopub.status.idle": "2021-03-11T05:13:09.217534Z",
     "shell.execute_reply": "2021-03-11T05:13:09.217182Z"
    },
    "papermill": {
     "duration": 0.959655,
     "end_time": "2021-03-11T05:13:09.217625",
     "exception": false,
     "start_time": "2021-03-11T05:13:08.257970",
     "status": "completed"
    },
    "tags": []
   },
   "outputs": [],
   "source": [
    "df = coassoc_matrix.where(np.triu(np.ones(coassoc_matrix.shape)).astype(np.bool))\n",
    "df = df.stack().reset_index()\n",
    "\n",
    "coassoc_matrix_stats = df[0].describe(\n",
    "    percentiles=[0.25, 0.50, 0.75, 0.80, 0.90, 0.95, 0.99]\n",
    ")"
   ]
  },
  {
   "cell_type": "code",
   "execution_count": 21,
   "metadata": {
    "execution": {
     "iopub.execute_input": "2021-03-11T05:13:09.250933Z",
     "iopub.status.busy": "2021-03-11T05:13:09.250559Z",
     "iopub.status.idle": "2021-03-11T05:13:09.261551Z",
     "shell.execute_reply": "2021-03-11T05:13:09.261169Z"
    },
    "papermill": {
     "duration": 0.028117,
     "end_time": "2021-03-11T05:13:09.261638",
     "exception": false,
     "start_time": "2021-03-11T05:13:09.233521",
     "status": "completed"
    },
    "tags": []
   },
   "outputs": [
    {
     "data": {
      "text/plain": [
       "count               7040628.0\n",
       "mean        0.440934430329265\n",
       "std       0.11635773410278555\n",
       "min      0.028301886792452824\n",
       "25%       0.39093997734994335\n",
       "50%        0.4722727272727273\n",
       "75%        0.5026083012020867\n",
       "80%        0.5106334841628959\n",
       "90%        0.5385138196647032\n",
       "95%        0.5824800910125143\n",
       "99%        0.6928119349005425\n",
       "max                       1.0\n",
       "Name: 0, dtype: object"
      ]
     },
     "execution_count": 21,
     "metadata": {},
     "output_type": "execute_result"
    }
   ],
   "source": [
    "coassoc_matrix_stats.apply(str)"
   ]
  },
  {
   "cell_type": "markdown",
   "metadata": {
    "papermill": {
     "duration": 0.015843,
     "end_time": "2021-03-11T05:13:09.293695",
     "exception": false,
     "start_time": "2021-03-11T05:13:09.277852",
     "status": "completed"
    },
    "tags": []
   },
   "source": [
    "On average, a pair of clusters appear together in 45% of the clusters in the ensemble (the median is 48%). That makes sense, since for some partitions the resolution (number of clusters) might not be enough to get smaller clusters."
   ]
  },
  {
   "cell_type": "markdown",
   "metadata": {
    "papermill": {
     "duration": 0.014688,
     "end_time": "2021-03-11T05:13:09.323151",
     "exception": false,
     "start_time": "2021-03-11T05:13:09.308463",
     "status": "completed"
    },
    "tags": []
   },
   "source": [
    "# Plot coassociation values"
   ]
  },
  {
   "cell_type": "markdown",
   "metadata": {
    "papermill": {
     "duration": 0.014795,
     "end_time": "2021-03-11T05:13:09.352900",
     "exception": false,
     "start_time": "2021-03-11T05:13:09.338105",
     "status": "completed"
    },
    "tags": []
   },
   "source": [
    "## Functions"
   ]
  },
  {
   "cell_type": "code",
   "execution_count": 22,
   "metadata": {
    "execution": {
     "iopub.execute_input": "2021-03-11T05:13:09.385024Z",
     "iopub.status.busy": "2021-03-11T05:13:09.384589Z",
     "iopub.status.idle": "2021-03-11T05:13:09.393923Z",
     "shell.execute_reply": "2021-03-11T05:13:09.393552Z"
    },
    "papermill": {
     "duration": 0.026355,
     "end_time": "2021-03-11T05:13:09.394007",
     "exception": false,
     "start_time": "2021-03-11T05:13:09.367652",
     "status": "completed"
    },
    "tags": []
   },
   "outputs": [],
   "source": [
    "from IPython.display import HTML"
   ]
  },
  {
   "cell_type": "code",
   "execution_count": 23,
   "metadata": {
    "execution": {
     "iopub.execute_input": "2021-03-11T05:13:09.428129Z",
     "iopub.status.busy": "2021-03-11T05:13:09.427760Z",
     "iopub.status.idle": "2021-03-11T05:13:09.437275Z",
     "shell.execute_reply": "2021-03-11T05:13:09.436911Z"
    },
    "papermill": {
     "duration": 0.027685,
     "end_time": "2021-03-11T05:13:09.437358",
     "exception": false,
     "start_time": "2021-03-11T05:13:09.409673",
     "status": "completed"
    },
    "tags": []
   },
   "outputs": [],
   "source": [
    "def plot_cluster(data, partition, cluster_number, figsize=None):\n",
    "    k = np.unique(partition).shape[0]\n",
    "\n",
    "    display(HTML(f\"<h3>Cluster {k}.{cluster_number}</h3>\"))\n",
    "\n",
    "    k_traits = data.loc[partition == cluster_number].index\n",
    "\n",
    "    with sns.plotting_context(\"paper\"):\n",
    "        f, ax = plt.subplots(figsize=figsize)  # (figsize=(8, 8))\n",
    "\n",
    "        display(\n",
    "            sns.heatmap(\n",
    "                data=coassoc_matrix.loc[k_traits, k_traits],\n",
    "                vmin=coassoc_matrix_stats[\"50%\"],\n",
    "                vmax=1.0,\n",
    "                annot=True,\n",
    "                fmt=\".2f\",\n",
    "                square=True,\n",
    "            )\n",
    "        )"
   ]
  },
  {
   "cell_type": "code",
   "execution_count": 24,
   "metadata": {
    "execution": {
     "iopub.execute_input": "2021-03-11T05:13:09.470671Z",
     "iopub.status.busy": "2021-03-11T05:13:09.470295Z",
     "iopub.status.idle": "2021-03-11T05:13:09.484378Z",
     "shell.execute_reply": "2021-03-11T05:13:09.484007Z"
    },
    "papermill": {
     "duration": 0.031855,
     "end_time": "2021-03-11T05:13:09.484463",
     "exception": false,
     "start_time": "2021-03-11T05:13:09.452608",
     "status": "completed"
    },
    "tags": []
   },
   "outputs": [
    {
     "data": {
      "text/html": [
       "<h2>k: 5</h2>"
      ],
      "text/plain": [
       "<IPython.core.display.HTML object>"
      ]
     },
     "metadata": {},
     "output_type": "display_data"
    },
    {
     "data": {
      "text/plain": [
       "method                              eac_average_coassoc_matrix\n",
       "partition    [0, 0, 0, 0, 0, 0, 0, 0, 0, 0, 0, 0, 0, 0, 0, ...\n",
       "ami_mean                                              0.242396\n",
       "selected                                                 False\n",
       "Name: 5, dtype: object"
      ]
     },
     "metadata": {},
     "output_type": "display_data"
    },
    {
     "data": {
      "text/plain": [
       "0    3665\n",
       "1      51\n",
       "2      16\n",
       "4      12\n",
       "3       8\n",
       "dtype: int64"
      ]
     },
     "metadata": {},
     "output_type": "display_data"
    }
   ],
   "source": [
    "k = 5\n",
    "display(HTML(f\"<h2>k: {k}</h2>\"))\n",
    "display(best_partitions.loc[k])\n",
    "\n",
    "part = best_partitions.loc[k, \"partition\"]\n",
    "part_stats = pd.Series(part).value_counts()\n",
    "display(part_stats)"
   ]
  },
  {
   "cell_type": "code",
   "execution_count": 25,
   "metadata": {
    "execution": {
     "iopub.execute_input": "2021-03-11T05:13:09.518978Z",
     "iopub.status.busy": "2021-03-11T05:13:09.518623Z",
     "iopub.status.idle": "2021-03-11T05:13:10.349770Z",
     "shell.execute_reply": "2021-03-11T05:13:10.350063Z"
    },
    "papermill": {
     "duration": 0.849241,
     "end_time": "2021-03-11T05:13:10.350168",
     "exception": false,
     "start_time": "2021-03-11T05:13:09.500927",
     "status": "completed"
    },
    "tags": []
   },
   "outputs": [
    {
     "data": {
      "text/html": [
       "<h3>Cluster 5.4</h3>"
      ],
      "text/plain": [
       "<IPython.core.display.HTML object>"
      ]
     },
     "metadata": {},
     "output_type": "display_data"
    },
    {
     "data": {
      "text/plain": [
       "<AxesSubplot:>"
      ]
     },
     "metadata": {},
     "output_type": "display_data"
    },
    {
     "data": {
      "image/png": "[encoded data removed]",
      "text/plain": [
       "<Figure size 432x288 with 2 Axes>"
      ]
     },
     "metadata": {
      "needs_background": "light"
     },
     "output_type": "display_data"
    }
   ],
   "source": [
    "plot_cluster(data_umap, part, 4)"
   ]
  },
  {
   "cell_type": "markdown",
   "metadata": {
    "papermill": {
     "duration": 0.017918,
     "end_time": "2021-03-11T05:13:10.386738",
     "exception": false,
     "start_time": "2021-03-11T05:13:10.368820",
     "status": "completed"
    },
    "tags": []
   },
   "source": [
    "The plot above shows that these 8 keratometry measurements (such as 3mm weak meridian left) were always clustered together in all partitions of the ensemble, representing a very strong/stable grouping."
   ]
  },
  {
   "cell_type": "code",
   "execution_count": 26,
   "metadata": {
    "execution": {
     "iopub.execute_input": "2021-03-11T05:13:10.425221Z",
     "iopub.status.busy": "2021-03-11T05:13:10.424863Z",
     "iopub.status.idle": "2021-03-11T05:13:11.608089Z",
     "shell.execute_reply": "2021-03-11T05:13:11.608383Z"
    },
    "papermill": {
     "duration": 1.203917,
     "end_time": "2021-03-11T05:13:11.608486",
     "exception": false,
     "start_time": "2021-03-11T05:13:10.404569",
     "status": "completed"
    },
    "tags": []
   },
   "outputs": [
    {
     "data": {
      "text/html": [
       "<h3>Cluster 5.2</h3>"
      ],
      "text/plain": [
       "<IPython.core.display.HTML object>"
      ]
     },
     "metadata": {},
     "output_type": "display_data"
    },
    {
     "data": {
      "text/plain": [
       "<AxesSubplot:>"
      ]
     },
     "metadata": {},
     "output_type": "display_data"
    },
    {
     "data": {
      "image/png": "[encoded data removed]",
      "text/plain": [
       "<Figure size 720x720 with 2 Axes>"
      ]
     },
     "metadata": {
      "needs_background": "light"
     },
     "output_type": "display_data"
    }
   ],
   "source": [
    "plot_cluster(data_umap, part, 2, figsize=(10, 10))"
   ]
  },
  {
   "cell_type": "markdown",
   "metadata": {
    "papermill": {
     "duration": 0.021843,
     "end_time": "2021-03-11T05:13:11.652402",
     "exception": false,
     "start_time": "2021-03-11T05:13:11.630559",
     "status": "completed"
    },
    "tags": []
   },
   "source": [
    "The \"heel bone mineral density\" cluster is not as strong as the keratometry one, since some trait pairs have a coassociation value of 0.75. However, 0.75 is quite higher than the 99 percentile of the coassociation values (which is 0.63)."
   ]
  },
  {
   "cell_type": "code",
   "execution_count": null,
   "metadata": {
    "papermill": {
     "duration": 0.021957,
     "end_time": "2021-03-11T05:13:11.696307",
     "exception": false,
     "start_time": "2021-03-11T05:13:11.674350",
     "status": "completed"
    },
    "tags": []
   },
   "outputs": [],
   "source": []
  }
 ],
 "metadata": {
  "jupytext": {
   "cell_metadata_filter": "all,-execution,-papermill,-trusted",
   "formats": "ipynb,py//py:percent"
  },
  "kernelspec": {
   "display_name": "Python 3",
   "language": "python",
   "name": "python3"
  },
  "language_info": {
   "codemirror_mode": {
    "name": "ipython",
    "version": 3
   },
   "file_extension": ".py",
   "mimetype": "text/x-python",
   "name": "python",
   "nbconvert_exporter": "python",
   "pygments_lexer": "ipython3",
   "version": "3.8.8"
  },
  "papermill": {
   "default_parameters": {},
   "duration": 6.574051,
   "end_time": "2021-03-11T05:13:12.126123",
   "environment_variables": {},
   "exception": null,
   "input_path": "16_consensus_clustering/030_03-analysis-coassociation.ipynb",
   "output_path": "16_consensus_clustering/030_03-analysis-coassociation.run.ipynb",
   "parameters": {},
   "start_time": "2021-03-11T05:13:05.552072",
   "version": "2.2.2"
  },
  "toc-autonumbering": true,
  "toc-showcode": false,
  "toc-showmarkdowntxt": false,
  "toc-showtags": false
 },
 "nbformat": 4,
 "nbformat_minor": 4
}
