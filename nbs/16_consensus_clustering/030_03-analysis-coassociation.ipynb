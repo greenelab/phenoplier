{
 "cells": [
  {
   "cell_type": "markdown",
   "metadata": {
    "papermill": {
     "duration": 0.044335,
     "end_time": "2021-03-11T13:58:38.217163",
     "exception": false,
     "start_time": "2021-03-11T13:58:38.172828",
     "status": "completed"
    },
    "tags": []
   },
   "source": [
    "# Description"
   ]
  },
  {
   "cell_type": "markdown",
   "metadata": {
    "papermill": {
     "duration": 0.012154,
     "end_time": "2021-03-11T13:58:38.245277",
     "exception": false,
     "start_time": "2021-03-11T13:58:38.233123",
     "status": "completed"
    },
    "tags": []
   },
   "source": [
    "It analyzes how clusters of traits were grouped across the ensemble partitions. For example, a stable cluster (obtained from consensus partitions) of cardiovascular diseases can show that all traits were always grouped together across all partitions of the ensemble; another cluster might show that some traits were clustered more often than others, representing a less stable group of traits."
   ]
  },
  {
   "cell_type": "markdown",
   "metadata": {
    "papermill": {
     "duration": 0.01218,
     "end_time": "2021-03-11T13:58:38.294005",
     "exception": false,
     "start_time": "2021-03-11T13:58:38.281825",
     "status": "completed"
    },
    "tags": []
   },
   "source": [
    "# Modules loading"
   ]
  },
  {
   "cell_type": "code",
   "execution_count": 1,
   "metadata": {
    "papermill": {
     "duration": 0.025166,
     "end_time": "2021-03-11T13:58:38.331336",
     "exception": false,
     "start_time": "2021-03-11T13:58:38.306170",
     "status": "completed"
    },
    "tags": []
   },
   "outputs": [],
   "source": [
    "%load_ext autoreload\n",
    "%autoreload 2"
   ]
  },
  {
   "cell_type": "code",
   "execution_count": 2,
   "metadata": {
    "papermill": {
     "duration": 0.594111,
     "end_time": "2021-03-11T13:58:38.938162",
     "exception": false,
     "start_time": "2021-03-11T13:58:38.344051",
     "status": "completed"
    },
    "tags": []
   },
   "outputs": [],
   "source": [
    "from IPython.display import display\n",
    "from pathlib import Path\n",
    "\n",
    "import numpy as np\n",
    "import pandas as pd\n",
    "import matplotlib.pyplot as plt\n",
    "import seaborn as sns\n",
    "\n",
    "from utils import generate_result_set_name\n",
    "import conf"
   ]
  },
  {
   "cell_type": "markdown",
   "metadata": {
    "papermill": {
     "duration": 0.012843,
     "end_time": "2021-03-11T13:58:38.965549",
     "exception": false,
     "start_time": "2021-03-11T13:58:38.952706",
     "status": "completed"
    },
    "tags": []
   },
   "source": [
    "# Settings"
   ]
  },
  {
   "cell_type": "code",
   "execution_count": 3,
   "metadata": {
    "papermill": {
     "duration": 0.025898,
     "end_time": "2021-03-11T13:58:39.003453",
     "exception": false,
     "start_time": "2021-03-11T13:58:38.977555",
     "status": "completed"
    },
    "tags": []
   },
   "outputs": [
    {
     "data": {
      "text/plain": [
       "PosixPath('/home/miltondp/projects/labs/greenelab/phenoplier/base/results/clustering/consensus_clustering')"
      ]
     },
     "metadata": {},
     "output_type": "display_data"
    }
   ],
   "source": [
    "CONSENSUS_CLUSTERING_DIR = Path(\n",
    "    conf.RESULTS[\"CLUSTERING_DIR\"], \"consensus_clustering\"\n",
    ").resolve()\n",
    "\n",
    "display(CONSENSUS_CLUSTERING_DIR)"
   ]
  },
  {
   "cell_type": "markdown",
   "metadata": {
    "papermill": {
     "duration": 0.012776,
     "end_time": "2021-03-11T13:58:39.029065",
     "exception": false,
     "start_time": "2021-03-11T13:58:39.016289",
     "status": "completed"
    },
    "tags": []
   },
   "source": [
    "## Load data"
   ]
  },
  {
   "cell_type": "code",
   "execution_count": 4,
   "metadata": {
    "papermill": {
     "duration": 0.024061,
     "end_time": "2021-03-11T13:58:39.065333",
     "exception": false,
     "start_time": "2021-03-11T13:58:39.041272",
     "status": "completed"
    },
    "tags": []
   },
   "outputs": [],
   "source": [
    "INPUT_SUBSET = \"umap\""
   ]
  },
  {
   "cell_type": "code",
   "execution_count": 5,
   "metadata": {
    "papermill": {
     "duration": 0.024057,
     "end_time": "2021-03-11T13:58:39.102227",
     "exception": false,
     "start_time": "2021-03-11T13:58:39.078170",
     "status": "completed"
    },
    "tags": []
   },
   "outputs": [],
   "source": [
    "INPUT_STEM = \"z_score_std-projection-smultixcan-efo_partial-mashr-zscores\""
   ]
  },
  {
   "cell_type": "code",
   "execution_count": 6,
   "metadata": {
    "papermill": {
     "duration": 0.023984,
     "end_time": "2021-03-11T13:58:39.139043",
     "exception": false,
     "start_time": "2021-03-11T13:58:39.115059",
     "status": "completed"
    },
    "tags": []
   },
   "outputs": [],
   "source": [
    "DR_OPTIONS = {\n",
    "    \"n_components\": 5,\n",
    "    \"metric\": \"euclidean\",\n",
    "    \"n_neighbors\": 15,\n",
    "    \"random_state\": 0,\n",
    "}"
   ]
  },
  {
   "cell_type": "code",
   "execution_count": 7,
   "metadata": {
    "papermill": {
     "duration": 0.027012,
     "end_time": "2021-03-11T13:58:39.179151",
     "exception": false,
     "start_time": "2021-03-11T13:58:39.152139",
     "status": "completed"
    },
    "tags": []
   },
   "outputs": [
    {
     "data": {
      "text/plain": [
       "PosixPath('/home/miltondp/projects/labs/greenelab/phenoplier/base/results/data_transformations/umap/umap-z_score_std-projection-smultixcan-efo_partial-mashr-zscores-metric_euclidean-n_components_5-n_neighbors_15-random_state_0.pkl')"
      ]
     },
     "metadata": {},
     "output_type": "display_data"
    },
    {
     "data": {
      "text/plain": [
       "'umap-z_score_std-projection-smultixcan-efo_partial-mashr-zscores-metric_euclidean-n_components_5-n_neighbors_15-random_state_0'"
      ]
     },
     "metadata": {},
     "output_type": "display_data"
    }
   ],
   "source": [
    "input_filepath = Path(\n",
    "    conf.RESULTS[\"DATA_TRANSFORMATIONS_DIR\"],\n",
    "    INPUT_SUBSET,\n",
    "    generate_result_set_name(\n",
    "        DR_OPTIONS, prefix=f\"{INPUT_SUBSET}-{INPUT_STEM}-\", suffix=\".pkl\"\n",
    "    ),\n",
    ").resolve()\n",
    "display(input_filepath)\n",
    "\n",
    "assert input_filepath.exists(), \"Input file does not exist\"\n",
    "\n",
    "input_filepath_stem = input_filepath.stem\n",
    "display(input_filepath_stem)"
   ]
  },
  {
   "cell_type": "code",
   "execution_count": 8,
   "metadata": {
    "papermill": {
     "duration": 0.026526,
     "end_time": "2021-03-11T13:58:39.219213",
     "exception": false,
     "start_time": "2021-03-11T13:58:39.192687",
     "status": "completed"
    },
    "tags": []
   },
   "outputs": [],
   "source": [
    "data_umap = pd.read_pickle(input_filepath)"
   ]
  },
  {
   "cell_type": "code",
   "execution_count": 9,
   "metadata": {
    "papermill": {
     "duration": 0.026001,
     "end_time": "2021-03-11T13:58:39.258981",
     "exception": false,
     "start_time": "2021-03-11T13:58:39.232980",
     "status": "completed"
    },
    "tags": []
   },
   "outputs": [
    {
     "data": {
      "text/plain": [
       "(3752, 5)"
      ]
     },
     "execution_count": 9,
     "metadata": {},
     "output_type": "execute_result"
    }
   ],
   "source": [
    "data_umap.shape"
   ]
  },
  {
   "cell_type": "code",
   "execution_count": 10,
   "metadata": {
    "papermill": {
     "duration": 0.030604,
     "end_time": "2021-03-11T13:58:39.303562",
     "exception": false,
     "start_time": "2021-03-11T13:58:39.272958",
     "status": "completed"
    },
    "tags": []
   },
   "outputs": [
    {
     "data": {
      "text/html": [
       "<div>\n",
       "<style scoped>\n",
       "    .dataframe tbody tr th:only-of-type {\n",
       "        vertical-align: middle;\n",
       "    }\n",
       "\n",
       "    .dataframe tbody tr th {\n",
       "        vertical-align: top;\n",
       "    }\n",
       "\n",
       "    .dataframe thead th {\n",
       "        text-align: right;\n",
       "    }\n",
       "</style>\n",
       "<table border=\"1\" class=\"dataframe\">\n",
       "  <thead>\n",
       "    <tr style=\"text-align: right;\">\n",
       "      <th></th>\n",
       "      <th>UMAP1</th>\n",
       "      <th>UMAP2</th>\n",
       "      <th>UMAP3</th>\n",
       "      <th>UMAP4</th>\n",
       "      <th>UMAP5</th>\n",
       "    </tr>\n",
       "  </thead>\n",
       "  <tbody>\n",
       "    <tr>\n",
       "      <th>100001_raw-Food_weight</th>\n",
       "      <td>0.426554</td>\n",
       "      <td>0.670532</td>\n",
       "      <td>7.363805</td>\n",
       "      <td>1.171837</td>\n",
       "      <td>6.297295</td>\n",
       "    </tr>\n",
       "    <tr>\n",
       "      <th>100002_raw-Energy</th>\n",
       "      <td>-1.605179</td>\n",
       "      <td>0.815699</td>\n",
       "      <td>8.288521</td>\n",
       "      <td>0.990394</td>\n",
       "      <td>6.817351</td>\n",
       "    </tr>\n",
       "    <tr>\n",
       "      <th>100003_raw-Protein</th>\n",
       "      <td>-1.656178</td>\n",
       "      <td>0.788297</td>\n",
       "      <td>8.355906</td>\n",
       "      <td>1.017072</td>\n",
       "      <td>6.845651</td>\n",
       "    </tr>\n",
       "    <tr>\n",
       "      <th>100004_raw-Fat</th>\n",
       "      <td>-1.508325</td>\n",
       "      <td>0.802536</td>\n",
       "      <td>8.328274</td>\n",
       "      <td>1.033939</td>\n",
       "      <td>6.709319</td>\n",
       "    </tr>\n",
       "    <tr>\n",
       "      <th>100005_raw-Carbohydrate</th>\n",
       "      <td>-1.617872</td>\n",
       "      <td>0.812711</td>\n",
       "      <td>8.307973</td>\n",
       "      <td>1.020575</td>\n",
       "      <td>6.825944</td>\n",
       "    </tr>\n",
       "  </tbody>\n",
       "</table>\n",
       "</div>"
      ],
      "text/plain": [
       "                            UMAP1     UMAP2     UMAP3     UMAP4     UMAP5\n",
       "100001_raw-Food_weight   0.426554  0.670532  7.363805  1.171837  6.297295\n",
       "100002_raw-Energy       -1.605179  0.815699  8.288521  0.990394  6.817351\n",
       "100003_raw-Protein      -1.656178  0.788297  8.355906  1.017072  6.845651\n",
       "100004_raw-Fat          -1.508325  0.802536  8.328274  1.033939  6.709319\n",
       "100005_raw-Carbohydrate -1.617872  0.812711  8.307973  1.020575  6.825944"
      ]
     },
     "execution_count": 10,
     "metadata": {},
     "output_type": "execute_result"
    }
   ],
   "source": [
    "data_umap.head()"
   ]
  },
  {
   "cell_type": "markdown",
   "metadata": {
    "papermill": {
     "duration": 0.013743,
     "end_time": "2021-03-11T13:58:39.331373",
     "exception": false,
     "start_time": "2021-03-11T13:58:39.317630",
     "status": "completed"
    },
    "tags": []
   },
   "source": [
    "# Load best partitions"
   ]
  },
  {
   "cell_type": "code",
   "execution_count": 11,
   "metadata": {
    "papermill": {
     "duration": 0.026002,
     "end_time": "2021-03-11T13:58:39.370434",
     "exception": false,
     "start_time": "2021-03-11T13:58:39.344432",
     "status": "completed"
    },
    "tags": []
   },
   "outputs": [
    {
     "data": {
      "text/plain": [
       "PosixPath('/home/miltondp/projects/labs/greenelab/phenoplier/base/results/clustering/consensus_clustering/best_partitions_by_k.pkl')"
      ]
     },
     "metadata": {},
     "output_type": "display_data"
    }
   ],
   "source": [
    "input_file = Path(CONSENSUS_CLUSTERING_DIR, \"best_partitions_by_k.pkl\").resolve()\n",
    "display(input_file)"
   ]
  },
  {
   "cell_type": "code",
   "execution_count": 12,
   "metadata": {
    "papermill": {
     "duration": 0.027135,
     "end_time": "2021-03-11T13:58:39.411555",
     "exception": false,
     "start_time": "2021-03-11T13:58:39.384420",
     "status": "completed"
    },
    "tags": []
   },
   "outputs": [],
   "source": [
    "best_partitions = pd.read_pickle(input_file)"
   ]
  },
  {
   "cell_type": "code",
   "execution_count": 13,
   "metadata": {
    "papermill": {
     "duration": 0.025461,
     "end_time": "2021-03-11T13:58:39.450880",
     "exception": false,
     "start_time": "2021-03-11T13:58:39.425419",
     "status": "completed"
    },
    "tags": []
   },
   "outputs": [
    {
     "data": {
      "text/plain": [
       "(59, 4)"
      ]
     },
     "execution_count": 13,
     "metadata": {},
     "output_type": "execute_result"
    }
   ],
   "source": [
    "best_partitions.shape"
   ]
  },
  {
   "cell_type": "code",
   "execution_count": 14,
   "metadata": {
    "papermill": {
     "duration": 0.034378,
     "end_time": "2021-03-11T13:58:39.499686",
     "exception": false,
     "start_time": "2021-03-11T13:58:39.465308",
     "status": "completed"
    },
    "tags": []
   },
   "outputs": [
    {
     "data": {
      "text/html": [
       "<div>\n",
       "<style scoped>\n",
       "    .dataframe tbody tr th:only-of-type {\n",
       "        vertical-align: middle;\n",
       "    }\n",
       "\n",
       "    .dataframe tbody tr th {\n",
       "        vertical-align: top;\n",
       "    }\n",
       "\n",
       "    .dataframe thead th {\n",
       "        text-align: right;\n",
       "    }\n",
       "</style>\n",
       "<table border=\"1\" class=\"dataframe\">\n",
       "  <thead>\n",
       "    <tr style=\"text-align: right;\">\n",
       "      <th></th>\n",
       "      <th>method</th>\n",
       "      <th>partition</th>\n",
       "      <th>ari_median</th>\n",
       "      <th>selected</th>\n",
       "    </tr>\n",
       "    <tr>\n",
       "      <th>k</th>\n",
       "      <th></th>\n",
       "      <th></th>\n",
       "      <th></th>\n",
       "      <th></th>\n",
       "    </tr>\n",
       "  </thead>\n",
       "  <tbody>\n",
       "    <tr>\n",
       "      <th>11</th>\n",
       "      <td>scc_025</td>\n",
       "      <td>[0, 0, 0, 0, 0, 0, 0, 0, 0, 0, 0, 0, 0, 0, 0, ...</td>\n",
       "      <td>0.090231</td>\n",
       "      <td>True</td>\n",
       "    </tr>\n",
       "    <tr>\n",
       "      <th>13</th>\n",
       "      <td>scc_025</td>\n",
       "      <td>[2, 2, 2, 2, 2, 2, 2, 2, 2, 2, 2, 2, 2, 2, 2, ...</td>\n",
       "      <td>0.090222</td>\n",
       "      <td>True</td>\n",
       "    </tr>\n",
       "    <tr>\n",
       "      <th>14</th>\n",
       "      <td>scc_025</td>\n",
       "      <td>[0, 0, 0, 0, 0, 0, 0, 0, 0, 0, 0, 0, 0, 0, 0, ...</td>\n",
       "      <td>0.090138</td>\n",
       "      <td>True</td>\n",
       "    </tr>\n",
       "    <tr>\n",
       "      <th>22</th>\n",
       "      <td>scc_020</td>\n",
       "      <td>[1, 19, 19, 19, 19, 19, 19, 19, 19, 1, 19, 19,...</td>\n",
       "      <td>0.090117</td>\n",
       "      <td>True</td>\n",
       "    </tr>\n",
       "    <tr>\n",
       "      <th>12</th>\n",
       "      <td>scc_025</td>\n",
       "      <td>[10, 10, 10, 10, 10, 10, 10, 10, 10, 10, 10, 1...</td>\n",
       "      <td>0.089742</td>\n",
       "      <td>True</td>\n",
       "    </tr>\n",
       "  </tbody>\n",
       "</table>\n",
       "</div>"
      ],
      "text/plain": [
       "     method                                          partition  ari_median  \\\n",
       "k                                                                            \n",
       "11  scc_025  [0, 0, 0, 0, 0, 0, 0, 0, 0, 0, 0, 0, 0, 0, 0, ...    0.090231   \n",
       "13  scc_025  [2, 2, 2, 2, 2, 2, 2, 2, 2, 2, 2, 2, 2, 2, 2, ...    0.090222   \n",
       "14  scc_025  [0, 0, 0, 0, 0, 0, 0, 0, 0, 0, 0, 0, 0, 0, 0, ...    0.090138   \n",
       "22  scc_020  [1, 19, 19, 19, 19, 19, 19, 19, 19, 1, 19, 19,...    0.090117   \n",
       "12  scc_025  [10, 10, 10, 10, 10, 10, 10, 10, 10, 10, 10, 1...    0.089742   \n",
       "\n",
       "    selected  \n",
       "k             \n",
       "11      True  \n",
       "13      True  \n",
       "14      True  \n",
       "22      True  \n",
       "12      True  "
      ]
     },
     "execution_count": 14,
     "metadata": {},
     "output_type": "execute_result"
    }
   ],
   "source": [
    "best_partitions.head()"
   ]
  },
  {
   "cell_type": "markdown",
   "metadata": {
    "papermill": {
     "duration": 0.013849,
     "end_time": "2021-03-11T13:58:39.528078",
     "exception": false,
     "start_time": "2021-03-11T13:58:39.514229",
     "status": "completed"
    },
    "tags": []
   },
   "source": [
    "# Load coassociation matrix"
   ]
  },
  {
   "cell_type": "code",
   "execution_count": 15,
   "metadata": {
    "papermill": {
     "duration": 0.026745,
     "end_time": "2021-03-11T13:58:39.568551",
     "exception": false,
     "start_time": "2021-03-11T13:58:39.541806",
     "status": "completed"
    },
    "tags": []
   },
   "outputs": [
    {
     "data": {
      "text/plain": [
       "PosixPath('/home/miltondp/projects/labs/greenelab/phenoplier/base/results/clustering/consensus_clustering/ensemble_coassoc_matrix.npy')"
      ]
     },
     "metadata": {},
     "output_type": "display_data"
    }
   ],
   "source": [
    "input_file = Path(CONSENSUS_CLUSTERING_DIR, \"ensemble_coassoc_matrix.npy\").resolve()\n",
    "display(input_file)"
   ]
  },
  {
   "cell_type": "code",
   "execution_count": 16,
   "metadata": {
    "papermill": {
     "duration": 0.047681,
     "end_time": "2021-03-11T13:58:39.630671",
     "exception": false,
     "start_time": "2021-03-11T13:58:39.582990",
     "status": "completed"
    },
    "tags": []
   },
   "outputs": [],
   "source": [
    "coassoc_matrix = np.load(input_file)"
   ]
  },
  {
   "cell_type": "code",
   "execution_count": 17,
   "metadata": {
    "papermill": {
     "duration": 0.046407,
     "end_time": "2021-03-11T13:58:39.693870",
     "exception": false,
     "start_time": "2021-03-11T13:58:39.647463",
     "status": "completed"
    },
    "tags": []
   },
   "outputs": [],
   "source": [
    "coassoc_matrix = pd.DataFrame(\n",
    "    data=1.0 - coassoc_matrix,\n",
    "    index=data_umap.index.copy(),\n",
    "    columns=data_umap.index.copy(),\n",
    ")"
   ]
  },
  {
   "cell_type": "code",
   "execution_count": 18,
   "metadata": {
    "papermill": {
     "duration": 0.027559,
     "end_time": "2021-03-11T13:58:39.737575",
     "exception": false,
     "start_time": "2021-03-11T13:58:39.710016",
     "status": "completed"
    },
    "tags": []
   },
   "outputs": [
    {
     "data": {
      "text/plain": [
       "(3752, 3752)"
      ]
     },
     "execution_count": 18,
     "metadata": {},
     "output_type": "execute_result"
    }
   ],
   "source": [
    "coassoc_matrix.shape"
   ]
  },
  {
   "cell_type": "code",
   "execution_count": 19,
   "metadata": {
    "papermill": {
     "duration": 0.038656,
     "end_time": "2021-03-11T13:58:39.791027",
     "exception": false,
     "start_time": "2021-03-11T13:58:39.752371",
     "status": "completed"
    },
    "tags": []
   },
   "outputs": [
    {
     "data": {
      "text/html": [
       "<div>\n",
       "<style scoped>\n",
       "    .dataframe tbody tr th:only-of-type {\n",
       "        vertical-align: middle;\n",
       "    }\n",
       "\n",
       "    .dataframe tbody tr th {\n",
       "        vertical-align: top;\n",
       "    }\n",
       "\n",
       "    .dataframe thead th {\n",
       "        text-align: right;\n",
       "    }\n",
       "</style>\n",
       "<table border=\"1\" class=\"dataframe\">\n",
       "  <thead>\n",
       "    <tr style=\"text-align: right;\">\n",
       "      <th></th>\n",
       "      <th>100001_raw-Food_weight</th>\n",
       "      <th>100002_raw-Energy</th>\n",
       "      <th>100003_raw-Protein</th>\n",
       "      <th>100004_raw-Fat</th>\n",
       "      <th>100005_raw-Carbohydrate</th>\n",
       "      <th>100006_raw-Saturated_fat</th>\n",
       "      <th>100007_raw-Polyunsaturated_fat</th>\n",
       "      <th>100008_raw-Total_sugars</th>\n",
       "      <th>100009_raw-Englyst_dietary_fibre</th>\n",
       "      <th>100010-Portion_size</th>\n",
       "      <th>...</th>\n",
       "      <th>visual impairment</th>\n",
       "      <th>vitiligo</th>\n",
       "      <th>vitreous body disease</th>\n",
       "      <th>vocal cord polyp</th>\n",
       "      <th>voice disorders</th>\n",
       "      <th>wellbeing measurement AND family relationship</th>\n",
       "      <th>wheezing</th>\n",
       "      <th>whooping cough</th>\n",
       "      <th>worry measurement</th>\n",
       "      <th>wrist fracture</th>\n",
       "    </tr>\n",
       "  </thead>\n",
       "  <tbody>\n",
       "    <tr>\n",
       "      <th>100001_raw-Food_weight</th>\n",
       "      <td>1.000000</td>\n",
       "      <td>0.685029</td>\n",
       "      <td>0.672000</td>\n",
       "      <td>0.632457</td>\n",
       "      <td>0.658743</td>\n",
       "      <td>0.630653</td>\n",
       "      <td>0.638049</td>\n",
       "      <td>0.645876</td>\n",
       "      <td>0.669561</td>\n",
       "      <td>0.635147</td>\n",
       "      <td>...</td>\n",
       "      <td>0.538899</td>\n",
       "      <td>0.556839</td>\n",
       "      <td>0.559383</td>\n",
       "      <td>0.557392</td>\n",
       "      <td>0.513697</td>\n",
       "      <td>0.640706</td>\n",
       "      <td>0.569559</td>\n",
       "      <td>0.520489</td>\n",
       "      <td>0.588583</td>\n",
       "      <td>0.355667</td>\n",
       "    </tr>\n",
       "    <tr>\n",
       "      <th>100002_raw-Energy</th>\n",
       "      <td>0.685029</td>\n",
       "      <td>1.000000</td>\n",
       "      <td>0.958466</td>\n",
       "      <td>0.923323</td>\n",
       "      <td>0.950936</td>\n",
       "      <td>0.921023</td>\n",
       "      <td>0.907238</td>\n",
       "      <td>0.931522</td>\n",
       "      <td>0.933562</td>\n",
       "      <td>0.370802</td>\n",
       "      <td>...</td>\n",
       "      <td>0.321216</td>\n",
       "      <td>0.316138</td>\n",
       "      <td>0.338208</td>\n",
       "      <td>0.313555</td>\n",
       "      <td>0.314612</td>\n",
       "      <td>0.383843</td>\n",
       "      <td>0.329325</td>\n",
       "      <td>0.321314</td>\n",
       "      <td>0.351395</td>\n",
       "      <td>0.325040</td>\n",
       "    </tr>\n",
       "    <tr>\n",
       "      <th>100003_raw-Protein</th>\n",
       "      <td>0.672000</td>\n",
       "      <td>0.958466</td>\n",
       "      <td>1.000000</td>\n",
       "      <td>0.897535</td>\n",
       "      <td>0.941579</td>\n",
       "      <td>0.895229</td>\n",
       "      <td>0.882959</td>\n",
       "      <td>0.909610</td>\n",
       "      <td>0.925799</td>\n",
       "      <td>0.360978</td>\n",
       "      <td>...</td>\n",
       "      <td>0.321674</td>\n",
       "      <td>0.311801</td>\n",
       "      <td>0.326554</td>\n",
       "      <td>0.313784</td>\n",
       "      <td>0.329452</td>\n",
       "      <td>0.385440</td>\n",
       "      <td>0.335338</td>\n",
       "      <td>0.335920</td>\n",
       "      <td>0.357796</td>\n",
       "      <td>0.322986</td>\n",
       "    </tr>\n",
       "    <tr>\n",
       "      <th>100004_raw-Fat</th>\n",
       "      <td>0.632457</td>\n",
       "      <td>0.923323</td>\n",
       "      <td>0.897535</td>\n",
       "      <td>1.000000</td>\n",
       "      <td>0.947969</td>\n",
       "      <td>0.994750</td>\n",
       "      <td>0.950985</td>\n",
       "      <td>0.970326</td>\n",
       "      <td>0.892237</td>\n",
       "      <td>0.396162</td>\n",
       "      <td>...</td>\n",
       "      <td>0.347051</td>\n",
       "      <td>0.354029</td>\n",
       "      <td>0.372486</td>\n",
       "      <td>0.345276</td>\n",
       "      <td>0.351142</td>\n",
       "      <td>0.332497</td>\n",
       "      <td>0.288622</td>\n",
       "      <td>0.347786</td>\n",
       "      <td>0.307727</td>\n",
       "      <td>0.353344</td>\n",
       "    </tr>\n",
       "    <tr>\n",
       "      <th>100005_raw-Carbohydrate</th>\n",
       "      <td>0.658743</td>\n",
       "      <td>0.950936</td>\n",
       "      <td>0.941579</td>\n",
       "      <td>0.947969</td>\n",
       "      <td>1.000000</td>\n",
       "      <td>0.944990</td>\n",
       "      <td>0.929684</td>\n",
       "      <td>0.963707</td>\n",
       "      <td>0.902511</td>\n",
       "      <td>0.387937</td>\n",
       "      <td>...</td>\n",
       "      <td>0.338134</td>\n",
       "      <td>0.331888</td>\n",
       "      <td>0.357861</td>\n",
       "      <td>0.332953</td>\n",
       "      <td>0.334475</td>\n",
       "      <td>0.353035</td>\n",
       "      <td>0.298797</td>\n",
       "      <td>0.340712</td>\n",
       "      <td>0.320759</td>\n",
       "      <td>0.346953</td>\n",
       "    </tr>\n",
       "  </tbody>\n",
       "</table>\n",
       "<p>5 rows × 3752 columns</p>\n",
       "</div>"
      ],
      "text/plain": [
       "                         100001_raw-Food_weight  100002_raw-Energy  \\\n",
       "100001_raw-Food_weight                 1.000000           0.685029   \n",
       "100002_raw-Energy                      0.685029           1.000000   \n",
       "100003_raw-Protein                     0.672000           0.958466   \n",
       "100004_raw-Fat                         0.632457           0.923323   \n",
       "100005_raw-Carbohydrate                0.658743           0.950936   \n",
       "\n",
       "                         100003_raw-Protein  100004_raw-Fat  \\\n",
       "100001_raw-Food_weight             0.672000        0.632457   \n",
       "100002_raw-Energy                  0.958466        0.923323   \n",
       "100003_raw-Protein                 1.000000        0.897535   \n",
       "100004_raw-Fat                     0.897535        1.000000   \n",
       "100005_raw-Carbohydrate            0.941579        0.947969   \n",
       "\n",
       "                         100005_raw-Carbohydrate  100006_raw-Saturated_fat  \\\n",
       "100001_raw-Food_weight                  0.658743                  0.630653   \n",
       "100002_raw-Energy                       0.950936                  0.921023   \n",
       "100003_raw-Protein                      0.941579                  0.895229   \n",
       "100004_raw-Fat                          0.947969                  0.994750   \n",
       "100005_raw-Carbohydrate                 1.000000                  0.944990   \n",
       "\n",
       "                         100007_raw-Polyunsaturated_fat  \\\n",
       "100001_raw-Food_weight                         0.638049   \n",
       "100002_raw-Energy                              0.907238   \n",
       "100003_raw-Protein                             0.882959   \n",
       "100004_raw-Fat                                 0.950985   \n",
       "100005_raw-Carbohydrate                        0.929684   \n",
       "\n",
       "                         100008_raw-Total_sugars  \\\n",
       "100001_raw-Food_weight                  0.645876   \n",
       "100002_raw-Energy                       0.931522   \n",
       "100003_raw-Protein                      0.909610   \n",
       "100004_raw-Fat                          0.970326   \n",
       "100005_raw-Carbohydrate                 0.963707   \n",
       "\n",
       "                         100009_raw-Englyst_dietary_fibre  \\\n",
       "100001_raw-Food_weight                           0.669561   \n",
       "100002_raw-Energy                                0.933562   \n",
       "100003_raw-Protein                               0.925799   \n",
       "100004_raw-Fat                                   0.892237   \n",
       "100005_raw-Carbohydrate                          0.902511   \n",
       "\n",
       "                         100010-Portion_size  ...  visual impairment  \\\n",
       "100001_raw-Food_weight              0.635147  ...           0.538899   \n",
       "100002_raw-Energy                   0.370802  ...           0.321216   \n",
       "100003_raw-Protein                  0.360978  ...           0.321674   \n",
       "100004_raw-Fat                      0.396162  ...           0.347051   \n",
       "100005_raw-Carbohydrate             0.387937  ...           0.338134   \n",
       "\n",
       "                         vitiligo  vitreous body disease  vocal cord polyp  \\\n",
       "100001_raw-Food_weight   0.556839               0.559383          0.557392   \n",
       "100002_raw-Energy        0.316138               0.338208          0.313555   \n",
       "100003_raw-Protein       0.311801               0.326554          0.313784   \n",
       "100004_raw-Fat           0.354029               0.372486          0.345276   \n",
       "100005_raw-Carbohydrate  0.331888               0.357861          0.332953   \n",
       "\n",
       "                         voice disorders  \\\n",
       "100001_raw-Food_weight          0.513697   \n",
       "100002_raw-Energy               0.314612   \n",
       "100003_raw-Protein              0.329452   \n",
       "100004_raw-Fat                  0.351142   \n",
       "100005_raw-Carbohydrate         0.334475   \n",
       "\n",
       "                         wellbeing measurement AND family relationship  \\\n",
       "100001_raw-Food_weight                                        0.640706   \n",
       "100002_raw-Energy                                             0.383843   \n",
       "100003_raw-Protein                                            0.385440   \n",
       "100004_raw-Fat                                                0.332497   \n",
       "100005_raw-Carbohydrate                                       0.353035   \n",
       "\n",
       "                         wheezing  whooping cough  worry measurement  \\\n",
       "100001_raw-Food_weight   0.569559        0.520489           0.588583   \n",
       "100002_raw-Energy        0.329325        0.321314           0.351395   \n",
       "100003_raw-Protein       0.335338        0.335920           0.357796   \n",
       "100004_raw-Fat           0.288622        0.347786           0.307727   \n",
       "100005_raw-Carbohydrate  0.298797        0.340712           0.320759   \n",
       "\n",
       "                         wrist fracture  \n",
       "100001_raw-Food_weight         0.355667  \n",
       "100002_raw-Energy              0.325040  \n",
       "100003_raw-Protein             0.322986  \n",
       "100004_raw-Fat                 0.353344  \n",
       "100005_raw-Carbohydrate        0.346953  \n",
       "\n",
       "[5 rows x 3752 columns]"
      ]
     },
     "execution_count": 19,
     "metadata": {},
     "output_type": "execute_result"
    }
   ],
   "source": [
    "coassoc_matrix.head()"
   ]
  },
  {
   "cell_type": "markdown",
   "metadata": {
    "papermill": {
     "duration": 0.014498,
     "end_time": "2021-03-11T13:58:39.821497",
     "exception": false,
     "start_time": "2021-03-11T13:58:39.806999",
     "status": "completed"
    },
    "tags": []
   },
   "source": [
    "The coassociation matrix shows the percentage of times a pair of traits was clustered together across the ensemble partitions."
   ]
  },
  {
   "cell_type": "markdown",
   "metadata": {
    "papermill": {
     "duration": 0.014617,
     "end_time": "2021-03-11T13:58:39.850705",
     "exception": false,
     "start_time": "2021-03-11T13:58:39.836088",
     "status": "completed"
    },
    "tags": []
   },
   "source": [
    "## Stats"
   ]
  },
  {
   "cell_type": "markdown",
   "metadata": {
    "papermill": {
     "duration": 0.014539,
     "end_time": "2021-03-11T13:58:39.880193",
     "exception": false,
     "start_time": "2021-03-11T13:58:39.865654",
     "status": "completed"
    },
    "tags": []
   },
   "source": [
    "Here I show some general stats of the coassociation matrix, useful to compare results below. For instance, if a pair of traits got clustered together 61% of the times, how strong is that?"
   ]
  },
  {
   "cell_type": "code",
   "execution_count": 20,
   "metadata": {
    "papermill": {
     "duration": 0.959624,
     "end_time": "2021-03-11T13:58:40.854548",
     "exception": false,
     "start_time": "2021-03-11T13:58:39.894924",
     "status": "completed"
    },
    "tags": []
   },
   "outputs": [],
   "source": [
    "df = coassoc_matrix.where(np.triu(np.ones(coassoc_matrix.shape)).astype(np.bool))\n",
    "df = df.stack().reset_index()\n",
    "\n",
    "coassoc_matrix_stats = df[0].describe(\n",
    "    percentiles=[0.25, 0.50, 0.75, 0.80, 0.90, 0.95, 0.99]\n",
    ")"
   ]
  },
  {
   "cell_type": "code",
   "execution_count": 21,
   "metadata": {
    "papermill": {
     "duration": 0.027571,
     "end_time": "2021-03-11T13:58:40.897551",
     "exception": false,
     "start_time": "2021-03-11T13:58:40.869980",
     "status": "completed"
    },
    "tags": []
   },
   "outputs": [
    {
     "data": {
      "text/plain": [
       "count               7040628.0\n",
       "mean        0.440934430329265\n",
       "std       0.11635773410278555\n",
       "min      0.028301886792452824\n",
       "25%       0.39093997734994335\n",
       "50%        0.4722727272727273\n",
       "75%        0.5026083012020867\n",
       "80%        0.5106334841628959\n",
       "90%        0.5385138196647032\n",
       "95%        0.5824800910125143\n",
       "99%        0.6928119349005425\n",
       "max                       1.0\n",
       "Name: 0, dtype: object"
      ]
     },
     "execution_count": 21,
     "metadata": {},
     "output_type": "execute_result"
    }
   ],
   "source": [
    "coassoc_matrix_stats.apply(str)"
   ]
  },
  {
   "cell_type": "markdown",
   "metadata": {
    "papermill": {
     "duration": 0.014737,
     "end_time": "2021-03-11T13:58:40.927538",
     "exception": false,
     "start_time": "2021-03-11T13:58:40.912801",
     "status": "completed"
    },
    "tags": []
   },
   "source": [
    "On average, a pair of clusters appear together in 45% of the clusters in the ensemble (the median is 48%). That makes sense, since for some partitions the resolution (number of clusters) might not be enough to get smaller clusters."
   ]
  },
  {
   "cell_type": "markdown",
   "metadata": {
    "papermill": {
     "duration": 0.015048,
     "end_time": "2021-03-11T13:58:40.957501",
     "exception": false,
     "start_time": "2021-03-11T13:58:40.942453",
     "status": "completed"
    },
    "tags": []
   },
   "source": [
    "# Plot coassociation values"
   ]
  },
  {
   "cell_type": "markdown",
   "metadata": {
    "papermill": {
     "duration": 0.014653,
     "end_time": "2021-03-11T13:58:40.987056",
     "exception": false,
     "start_time": "2021-03-11T13:58:40.972403",
     "status": "completed"
    },
    "tags": []
   },
   "source": [
    "## Functions"
   ]
  },
  {
   "cell_type": "code",
   "execution_count": 22,
   "metadata": {
    "papermill": {
     "duration": 0.026631,
     "end_time": "2021-03-11T13:58:41.028353",
     "exception": false,
     "start_time": "2021-03-11T13:58:41.001722",
     "status": "completed"
    },
    "tags": []
   },
   "outputs": [],
   "source": [
    "from IPython.display import HTML"
   ]
  },
  {
   "cell_type": "code",
   "execution_count": 23,
   "metadata": {
    "papermill": {
     "duration": 0.028159,
     "end_time": "2021-03-11T13:58:41.071589",
     "exception": false,
     "start_time": "2021-03-11T13:58:41.043430",
     "status": "completed"
    },
    "tags": []
   },
   "outputs": [],
   "source": [
    "def plot_cluster(data, partition, cluster_number, figsize=None):\n",
    "    k = np.unique(partition).shape[0]\n",
    "\n",
    "    display(HTML(f\"<h3>Cluster {k}.{cluster_number}</h3>\"))\n",
    "\n",
    "    k_traits = data.loc[partition == cluster_number].index\n",
    "\n",
    "    with sns.plotting_context(\"paper\"):\n",
    "        f, ax = plt.subplots(figsize=figsize)  # (figsize=(8, 8))\n",
    "\n",
    "        display(\n",
    "            sns.heatmap(\n",
    "                data=coassoc_matrix.loc[k_traits, k_traits],\n",
    "                vmin=coassoc_matrix_stats[\"50%\"],\n",
    "                vmax=1.0,\n",
    "                annot=True,\n",
    "                fmt=\".2f\",\n",
    "                square=True,\n",
    "            )\n",
    "        )"
   ]
  },
  {
   "cell_type": "code",
   "execution_count": 27,
   "metadata": {
    "papermill": {
     "duration": 0.032273,
     "end_time": "2021-03-11T13:58:41.119594",
     "exception": false,
     "start_time": "2021-03-11T13:58:41.087321",
     "status": "completed"
    },
    "tags": []
   },
   "outputs": [
    {
     "data": {
      "text/html": [
       "<h2>k: 26</h2>"
      ],
      "text/plain": [
       "<IPython.core.display.HTML object>"
      ]
     },
     "metadata": {},
     "output_type": "display_data"
    },
    {
     "data": {
      "text/plain": [
       "method                                                  scc_020\n",
       "partition     [2, 19, 19, 19, 19, 19, 19, 19, 19, 2, 19, 19,...\n",
       "ari_median                                            0.0870976\n",
       "selected                                                   True\n",
       "Name: 26, dtype: object"
      ]
     },
     "metadata": {},
     "output_type": "display_data"
    },
    {
     "data": {
      "text/plain": [
       "2     3320\n",
       "0      145\n",
       "25     101\n",
       "23      18\n",
       "17      17\n",
       "19      15\n",
       "15      15\n",
       "18      14\n",
       "14      13\n",
       "12      12\n",
       "21       9\n",
       "20       9\n",
       "10       8\n",
       "11       8\n",
       "5        7\n",
       "8        6\n",
       "13       5\n",
       "1        5\n",
       "3        4\n",
       "4        4\n",
       "6        4\n",
       "22       3\n",
       "16       3\n",
       "7        3\n",
       "9        3\n",
       "24       1\n",
       "dtype: int64"
      ]
     },
     "metadata": {},
     "output_type": "display_data"
    }
   ],
   "source": [
    "k = 26\n",
    "display(HTML(f\"<h2>k: {k}</h2>\"))\n",
    "display(best_partitions.loc[k])\n",
    "\n",
    "part = best_partitions.loc[k, \"partition\"]\n",
    "part_stats = pd.Series(part).value_counts()\n",
    "display(part_stats)"
   ]
  },
  {
   "cell_type": "code",
   "execution_count": 28,
   "metadata": {
    "papermill": {
     "duration": 0.47374,
     "end_time": "2021-03-11T13:58:41.609967",
     "exception": false,
     "start_time": "2021-03-11T13:58:41.136227",
     "status": "completed"
    },
    "tags": []
   },
   "outputs": [
    {
     "data": {
      "text/html": [
       "<h3>Cluster 26.10</h3>"
      ],
      "text/plain": [
       "<IPython.core.display.HTML object>"
      ]
     },
     "metadata": {},
     "output_type": "display_data"
    },
    {
     "data": {
      "text/plain": [
       "<AxesSubplot:>"
      ]
     },
     "metadata": {},
     "output_type": "display_data"
    },
    {
     "data": {
      "image/png": "[encoded data removed]",
      "text/plain": [
       "<Figure size 432x288 with 2 Axes>"
      ]
     },
     "metadata": {
      "needs_background": "light"
     },
     "output_type": "display_data"
    }
   ],
   "source": [
    "plot_cluster(data_umap, part, 10)"
   ]
  },
  {
   "cell_type": "markdown",
   "metadata": {
    "papermill": {
     "duration": 0.016749,
     "end_time": "2021-03-11T13:58:41.643918",
     "exception": false,
     "start_time": "2021-03-11T13:58:41.627169",
     "status": "completed"
    },
    "tags": []
   },
   "source": [
    "The plot above shows that these 8 keratometry measurements (such as 3mm weak meridian left) were always clustered together in all partitions of the ensemble, representing a very strong/stable grouping."
   ]
  },
  {
   "cell_type": "code",
   "execution_count": 29,
   "metadata": {
    "papermill": {
     "duration": 0.852891,
     "end_time": "2021-03-11T13:58:42.514255",
     "exception": false,
     "start_time": "2021-03-11T13:58:41.661364",
     "status": "completed"
    },
    "tags": []
   },
   "outputs": [
    {
     "data": {
      "text/html": [
       "<h3>Cluster 26.12</h3>"
      ],
      "text/plain": [
       "<IPython.core.display.HTML object>"
      ]
     },
     "metadata": {},
     "output_type": "display_data"
    },
    {
     "data": {
      "text/plain": [
       "<AxesSubplot:>"
      ]
     },
     "metadata": {},
     "output_type": "display_data"
    },
    {
     "data": {
      "image/png": "[encoded data removed]",
      "text/plain": [
       "<Figure size 720x720 with 2 Axes>"
      ]
     },
     "metadata": {
      "needs_background": "light"
     },
     "output_type": "display_data"
    }
   ],
   "source": [
    "plot_cluster(data_umap, part, 12, figsize=(10, 10))"
   ]
  },
  {
   "cell_type": "markdown",
   "metadata": {
    "papermill": {
     "duration": 0.019148,
     "end_time": "2021-03-11T13:58:42.553409",
     "exception": false,
     "start_time": "2021-03-11T13:58:42.534261",
     "status": "completed"
    },
    "tags": []
   },
   "source": [
    "The \"heel bone mineral density\" cluster is not as strong as the keratometry one, since some trait pairs have a coassociation value of 0.89. However, 0.89 is quite higher than the 99 percentile of the coassociation values (which is 0.69)."
   ]
  },
  {
   "cell_type": "code",
   "execution_count": null,
   "metadata": {
    "papermill": {
     "duration": 0.019021,
     "end_time": "2021-03-11T13:58:42.591520",
     "exception": false,
     "start_time": "2021-03-11T13:58:42.572499",
     "status": "completed"
    },
    "tags": []
   },
   "outputs": [],
   "source": []
  }
 ],
 "metadata": {
  "jupytext": {
   "cell_metadata_filter": "all,-execution,-papermill,-trusted",
   "formats": "ipynb,py//py:percent"
  },
  "kernelspec": {
   "display_name": "Python 3",
   "language": "python",
   "name": "python3"
  },
  "language_info": {
   "codemirror_mode": {
    "name": "ipython",
    "version": 3
   },
   "file_extension": ".py",
   "mimetype": "text/x-python",
   "name": "python",
   "nbconvert_exporter": "python",
   "pygments_lexer": "ipython3",
   "version": "3.8.8"
  },
  "papermill": {
   "default_parameters": {},
   "duration": 5.810189,
   "end_time": "2021-03-11T13:58:43.016159",
   "environment_variables": {},
   "exception": null,
   "input_path": "16_consensus_clustering/030_03-analysis-coassociation.ipynb",
   "output_path": "16_consensus_clustering/030_03-analysis-coassociation.run.ipynb",
   "parameters": {},
   "start_time": "2021-03-11T13:58:37.205970",
   "version": "2.2.2"
  },
  "toc-autonumbering": true,
  "toc-showcode": false,
  "toc-showmarkdowntxt": false,
  "toc-showtags": false
 },
 "nbformat": 4,
 "nbformat_minor": 4
}
