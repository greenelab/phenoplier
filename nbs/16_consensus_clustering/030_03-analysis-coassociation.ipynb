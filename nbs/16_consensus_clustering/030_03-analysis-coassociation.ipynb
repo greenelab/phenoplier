{
 "cells": [
  {
   "cell_type": "markdown",
   "metadata": {
    "papermill": {
     "duration": 0.046239,
     "end_time": "2021-02-24T04:03:38.070627",
     "exception": false,
     "start_time": "2021-02-24T04:03:38.024388",
     "status": "completed"
    },
    "tags": []
   },
   "source": [
    "# Description"
   ]
  },
  {
   "cell_type": "markdown",
   "metadata": {
    "papermill": {
     "duration": 0.012216,
     "end_time": "2021-02-24T04:03:38.098509",
     "exception": false,
     "start_time": "2021-02-24T04:03:38.086293",
     "status": "completed"
    },
    "tags": []
   },
   "source": [
    "It analyzes how clusters of traits were grouped across the ensemble partitions. For example, a stable cluster (obtained from consensus partitions) of cardiovascular diseases can show that all traits were always grouped together across all partitions of the ensemble; another cluster might show that some traits were clustered more often than others, representing a less stable group of traits."
   ]
  },
  {
   "cell_type": "markdown",
   "metadata": {
    "papermill": {
     "duration": 0.012301,
     "end_time": "2021-02-24T04:03:38.123144",
     "exception": false,
     "start_time": "2021-02-24T04:03:38.110843",
     "status": "completed"
    },
    "tags": []
   },
   "source": [
    "**TODO:** This section of the notebook will be updated again when I start actively writing the results section of the manuscript. Here I left some code as example for some clusters."
   ]
  },
  {
   "cell_type": "markdown",
   "metadata": {
    "papermill": {
     "duration": 0.01231,
     "end_time": "2021-02-24T04:03:38.147783",
     "exception": false,
     "start_time": "2021-02-24T04:03:38.135473",
     "status": "completed"
    },
    "tags": []
   },
   "source": [
    "# Modules loading"
   ]
  },
  {
   "cell_type": "code",
   "execution_count": 1,
   "metadata": {
    "execution": {
     "iopub.execute_input": "2021-02-24T04:03:38.176535Z",
     "iopub.status.busy": "2021-02-24T04:03:38.176161Z",
     "iopub.status.idle": "2021-02-24T04:03:38.184178Z",
     "shell.execute_reply": "2021-02-24T04:03:38.183752Z"
    },
    "papermill": {
     "duration": 0.023686,
     "end_time": "2021-02-24T04:03:38.184303",
     "exception": false,
     "start_time": "2021-02-24T04:03:38.160617",
     "status": "completed"
    },
    "tags": []
   },
   "outputs": [],
   "source": [
    "%load_ext autoreload\n",
    "%autoreload 2"
   ]
  },
  {
   "cell_type": "code",
   "execution_count": 2,
   "metadata": {
    "execution": {
     "iopub.execute_input": "2021-02-24T04:03:38.212528Z",
     "iopub.status.busy": "2021-02-24T04:03:38.212145Z",
     "iopub.status.idle": "2021-02-24T04:03:38.784394Z",
     "shell.execute_reply": "2021-02-24T04:03:38.783990Z"
    },
    "papermill": {
     "duration": 0.58739,
     "end_time": "2021-02-24T04:03:38.784507",
     "exception": false,
     "start_time": "2021-02-24T04:03:38.197117",
     "status": "completed"
    },
    "tags": []
   },
   "outputs": [],
   "source": [
    "from IPython.display import display\n",
    "from pathlib import Path\n",
    "\n",
    "import numpy as np\n",
    "import pandas as pd\n",
    "import matplotlib.pyplot as plt\n",
    "import seaborn as sns\n",
    "\n",
    "from utils import generate_result_set_name\n",
    "import conf"
   ]
  },
  {
   "cell_type": "markdown",
   "metadata": {
    "papermill": {
     "duration": 0.015602,
     "end_time": "2021-02-24T04:03:38.817189",
     "exception": false,
     "start_time": "2021-02-24T04:03:38.801587",
     "status": "completed"
    },
    "tags": []
   },
   "source": [
    "# Settings"
   ]
  },
  {
   "cell_type": "code",
   "execution_count": 3,
   "metadata": {
    "execution": {
     "iopub.execute_input": "2021-02-24T04:03:38.846279Z",
     "iopub.status.busy": "2021-02-24T04:03:38.845916Z",
     "iopub.status.idle": "2021-02-24T04:03:38.857804Z",
     "shell.execute_reply": "2021-02-24T04:03:38.857479Z"
    },
    "papermill": {
     "duration": 0.026863,
     "end_time": "2021-02-24T04:03:38.857894",
     "exception": false,
     "start_time": "2021-02-24T04:03:38.831031",
     "status": "completed"
    },
    "tags": []
   },
   "outputs": [
    {
     "data": {
      "text/plain": [
       "PosixPath('/home/miltondp/projects/labs/greenelab/phenoplier/base3/results/clustering/consensus_clustering')"
      ]
     },
     "metadata": {},
     "output_type": "display_data"
    }
   ],
   "source": [
    "CONSENSUS_CLUSTERING_DIR = Path(\n",
    "    conf.RESULTS[\"CLUSTERING_DIR\"], \"consensus_clustering\"\n",
    ").resolve()\n",
    "\n",
    "display(CONSENSUS_CLUSTERING_DIR)"
   ]
  },
  {
   "cell_type": "markdown",
   "metadata": {
    "papermill": {
     "duration": 0.012482,
     "end_time": "2021-02-24T04:03:38.883431",
     "exception": false,
     "start_time": "2021-02-24T04:03:38.870949",
     "status": "completed"
    },
    "tags": []
   },
   "source": [
    "## Load data"
   ]
  },
  {
   "cell_type": "code",
   "execution_count": 4,
   "metadata": {
    "execution": {
     "iopub.execute_input": "2021-02-24T04:03:38.911102Z",
     "iopub.status.busy": "2021-02-24T04:03:38.910732Z",
     "iopub.status.idle": "2021-02-24T04:03:38.920445Z",
     "shell.execute_reply": "2021-02-24T04:03:38.920057Z"
    },
    "papermill": {
     "duration": 0.024501,
     "end_time": "2021-02-24T04:03:38.920533",
     "exception": false,
     "start_time": "2021-02-24T04:03:38.896032",
     "status": "completed"
    },
    "tags": []
   },
   "outputs": [],
   "source": [
    "INPUT_SUBSET = \"umap\""
   ]
  },
  {
   "cell_type": "code",
   "execution_count": 5,
   "metadata": {
    "execution": {
     "iopub.execute_input": "2021-02-24T04:03:38.948545Z",
     "iopub.status.busy": "2021-02-24T04:03:38.948180Z",
     "iopub.status.idle": "2021-02-24T04:03:38.957699Z",
     "shell.execute_reply": "2021-02-24T04:03:38.957374Z"
    },
    "papermill": {
     "duration": 0.024195,
     "end_time": "2021-02-24T04:03:38.957787",
     "exception": false,
     "start_time": "2021-02-24T04:03:38.933592",
     "status": "completed"
    },
    "tags": []
   },
   "outputs": [],
   "source": [
    "INPUT_STEM = \"z_score_std-projection-smultixcan-efo_partial-mashr-zscores\""
   ]
  },
  {
   "cell_type": "code",
   "execution_count": 6,
   "metadata": {
    "execution": {
     "iopub.execute_input": "2021-02-24T04:03:38.986910Z",
     "iopub.status.busy": "2021-02-24T04:03:38.986545Z",
     "iopub.status.idle": "2021-02-24T04:03:38.996371Z",
     "shell.execute_reply": "2021-02-24T04:03:38.995991Z"
    },
    "papermill": {
     "duration": 0.025249,
     "end_time": "2021-02-24T04:03:38.996459",
     "exception": false,
     "start_time": "2021-02-24T04:03:38.971210",
     "status": "completed"
    },
    "tags": []
   },
   "outputs": [],
   "source": [
    "DR_OPTIONS = {\n",
    "    \"n_components\": 5,\n",
    "    \"metric\": \"euclidean\",\n",
    "    \"n_neighbors\": 15,\n",
    "    \"random_state\": 0,\n",
    "}"
   ]
  },
  {
   "cell_type": "code",
   "execution_count": 7,
   "metadata": {
    "execution": {
     "iopub.execute_input": "2021-02-24T04:03:39.025485Z",
     "iopub.status.busy": "2021-02-24T04:03:39.025107Z",
     "iopub.status.idle": "2021-02-24T04:03:39.035922Z",
     "shell.execute_reply": "2021-02-24T04:03:39.036217Z"
    },
    "papermill": {
     "duration": 0.026435,
     "end_time": "2021-02-24T04:03:39.036323",
     "exception": false,
     "start_time": "2021-02-24T04:03:39.009888",
     "status": "completed"
    },
    "tags": []
   },
   "outputs": [
    {
     "data": {
      "text/plain": [
       "PosixPath('/home/miltondp/projects/labs/greenelab/phenoplier/base3/results/data_transformations/umap/umap-z_score_std-projection-smultixcan-efo_partial-mashr-zscores-metric_euclidean-n_components_5-n_neighbors_15-random_state_0.pkl')"
      ]
     },
     "metadata": {},
     "output_type": "display_data"
    },
    {
     "data": {
      "text/plain": [
       "'umap-z_score_std-projection-smultixcan-efo_partial-mashr-zscores-metric_euclidean-n_components_5-n_neighbors_15-random_state_0'"
      ]
     },
     "metadata": {},
     "output_type": "display_data"
    }
   ],
   "source": [
    "input_filepath = Path(\n",
    "    conf.RESULTS[\"DATA_TRANSFORMATIONS_DIR\"],\n",
    "    INPUT_SUBSET,\n",
    "    generate_result_set_name(\n",
    "        DR_OPTIONS, prefix=f\"{INPUT_SUBSET}-{INPUT_STEM}-\", suffix=\".pkl\"\n",
    "    ),\n",
    ").resolve()\n",
    "display(input_filepath)\n",
    "\n",
    "assert input_filepath.exists(), \"Input file does not exist\"\n",
    "\n",
    "input_filepath_stem = input_filepath.stem\n",
    "display(input_filepath_stem)"
   ]
  },
  {
   "cell_type": "code",
   "execution_count": 8,
   "metadata": {
    "execution": {
     "iopub.execute_input": "2021-02-24T04:03:39.065332Z",
     "iopub.status.busy": "2021-02-24T04:03:39.064974Z",
     "iopub.status.idle": "2021-02-24T04:03:39.076235Z",
     "shell.execute_reply": "2021-02-24T04:03:39.075837Z"
    },
    "papermill": {
     "duration": 0.02659,
     "end_time": "2021-02-24T04:03:39.076329",
     "exception": false,
     "start_time": "2021-02-24T04:03:39.049739",
     "status": "completed"
    },
    "tags": []
   },
   "outputs": [],
   "source": [
    "data_umap = pd.read_pickle(input_filepath)"
   ]
  },
  {
   "cell_type": "code",
   "execution_count": 9,
   "metadata": {
    "execution": {
     "iopub.execute_input": "2021-02-24T04:03:39.107061Z",
     "iopub.status.busy": "2021-02-24T04:03:39.106688Z",
     "iopub.status.idle": "2021-02-24T04:03:39.117222Z",
     "shell.execute_reply": "2021-02-24T04:03:39.117515Z"
    },
    "papermill": {
     "duration": 0.027216,
     "end_time": "2021-02-24T04:03:39.117627",
     "exception": false,
     "start_time": "2021-02-24T04:03:39.090411",
     "status": "completed"
    },
    "tags": []
   },
   "outputs": [
    {
     "data": {
      "text/plain": [
       "(3749, 5)"
      ]
     },
     "execution_count": 9,
     "metadata": {},
     "output_type": "execute_result"
    }
   ],
   "source": [
    "data_umap.shape"
   ]
  },
  {
   "cell_type": "code",
   "execution_count": 10,
   "metadata": {
    "execution": {
     "iopub.execute_input": "2021-02-24T04:03:39.149116Z",
     "iopub.status.busy": "2021-02-24T04:03:39.148729Z",
     "iopub.status.idle": "2021-02-24T04:03:39.163975Z",
     "shell.execute_reply": "2021-02-24T04:03:39.163630Z"
    },
    "papermill": {
     "duration": 0.031877,
     "end_time": "2021-02-24T04:03:39.164064",
     "exception": false,
     "start_time": "2021-02-24T04:03:39.132187",
     "status": "completed"
    },
    "tags": []
   },
   "outputs": [
    {
     "data": {
      "text/html": [
       "<div>\n",
       "<style scoped>\n",
       "    .dataframe tbody tr th:only-of-type {\n",
       "        vertical-align: middle;\n",
       "    }\n",
       "\n",
       "    .dataframe tbody tr th {\n",
       "        vertical-align: top;\n",
       "    }\n",
       "\n",
       "    .dataframe thead th {\n",
       "        text-align: right;\n",
       "    }\n",
       "</style>\n",
       "<table border=\"1\" class=\"dataframe\">\n",
       "  <thead>\n",
       "    <tr style=\"text-align: right;\">\n",
       "      <th></th>\n",
       "      <th>UMAP1</th>\n",
       "      <th>UMAP2</th>\n",
       "      <th>UMAP3</th>\n",
       "      <th>UMAP4</th>\n",
       "      <th>UMAP5</th>\n",
       "    </tr>\n",
       "  </thead>\n",
       "  <tbody>\n",
       "    <tr>\n",
       "      <th>100001_raw-Food_weight</th>\n",
       "      <td>-8.437452</td>\n",
       "      <td>1.664409</td>\n",
       "      <td>9.233617</td>\n",
       "      <td>6.944210</td>\n",
       "      <td>16.781176</td>\n",
       "    </tr>\n",
       "    <tr>\n",
       "      <th>100002_raw-Energy</th>\n",
       "      <td>-8.388347</td>\n",
       "      <td>1.670845</td>\n",
       "      <td>9.251021</td>\n",
       "      <td>6.975690</td>\n",
       "      <td>16.698511</td>\n",
       "    </tr>\n",
       "    <tr>\n",
       "      <th>100003_raw-Protein</th>\n",
       "      <td>-8.424020</td>\n",
       "      <td>1.696144</td>\n",
       "      <td>9.226449</td>\n",
       "      <td>6.970763</td>\n",
       "      <td>16.768959</td>\n",
       "    </tr>\n",
       "    <tr>\n",
       "      <th>100004_raw-Fat</th>\n",
       "      <td>-8.393674</td>\n",
       "      <td>1.685311</td>\n",
       "      <td>9.258855</td>\n",
       "      <td>6.992673</td>\n",
       "      <td>16.728815</td>\n",
       "    </tr>\n",
       "    <tr>\n",
       "      <th>100005_raw-Carbohydrate</th>\n",
       "      <td>-8.427763</td>\n",
       "      <td>1.685172</td>\n",
       "      <td>9.234971</td>\n",
       "      <td>6.967204</td>\n",
       "      <td>16.751522</td>\n",
       "    </tr>\n",
       "  </tbody>\n",
       "</table>\n",
       "</div>"
      ],
      "text/plain": [
       "                            UMAP1     UMAP2     UMAP3     UMAP4      UMAP5\n",
       "100001_raw-Food_weight  -8.437452  1.664409  9.233617  6.944210  16.781176\n",
       "100002_raw-Energy       -8.388347  1.670845  9.251021  6.975690  16.698511\n",
       "100003_raw-Protein      -8.424020  1.696144  9.226449  6.970763  16.768959\n",
       "100004_raw-Fat          -8.393674  1.685311  9.258855  6.992673  16.728815\n",
       "100005_raw-Carbohydrate -8.427763  1.685172  9.234971  6.967204  16.751522"
      ]
     },
     "execution_count": 10,
     "metadata": {},
     "output_type": "execute_result"
    }
   ],
   "source": [
    "data_umap.head()"
   ]
  },
  {
   "cell_type": "markdown",
   "metadata": {
    "papermill": {
     "duration": 0.013853,
     "end_time": "2021-02-24T04:03:39.192260",
     "exception": false,
     "start_time": "2021-02-24T04:03:39.178407",
     "status": "completed"
    },
    "tags": []
   },
   "source": [
    "# Load best partitions"
   ]
  },
  {
   "cell_type": "code",
   "execution_count": 11,
   "metadata": {
    "execution": {
     "iopub.execute_input": "2021-02-24T04:03:39.221836Z",
     "iopub.status.busy": "2021-02-24T04:03:39.221472Z",
     "iopub.status.idle": "2021-02-24T04:03:39.231955Z",
     "shell.execute_reply": "2021-02-24T04:03:39.232250Z"
    },
    "papermill": {
     "duration": 0.026527,
     "end_time": "2021-02-24T04:03:39.232355",
     "exception": false,
     "start_time": "2021-02-24T04:03:39.205828",
     "status": "completed"
    },
    "tags": []
   },
   "outputs": [
    {
     "data": {
      "text/plain": [
       "PosixPath('/home/miltondp/projects/labs/greenelab/phenoplier/base3/results/clustering/consensus_clustering/best_partitions_by_k.pkl')"
      ]
     },
     "metadata": {},
     "output_type": "display_data"
    }
   ],
   "source": [
    "input_file = Path(CONSENSUS_CLUSTERING_DIR, \"best_partitions_by_k.pkl\").resolve()\n",
    "display(input_file)"
   ]
  },
  {
   "cell_type": "code",
   "execution_count": 12,
   "metadata": {
    "execution": {
     "iopub.execute_input": "2021-02-24T04:03:39.263106Z",
     "iopub.status.busy": "2021-02-24T04:03:39.262744Z",
     "iopub.status.idle": "2021-02-24T04:03:39.274188Z",
     "shell.execute_reply": "2021-02-24T04:03:39.273855Z"
    },
    "papermill": {
     "duration": 0.027682,
     "end_time": "2021-02-24T04:03:39.274280",
     "exception": false,
     "start_time": "2021-02-24T04:03:39.246598",
     "status": "completed"
    },
    "tags": []
   },
   "outputs": [],
   "source": [
    "best_partitions = pd.read_pickle(input_file)"
   ]
  },
  {
   "cell_type": "code",
   "execution_count": 13,
   "metadata": {
    "execution": {
     "iopub.execute_input": "2021-02-24T04:03:39.305413Z",
     "iopub.status.busy": "2021-02-24T04:03:39.305041Z",
     "iopub.status.idle": "2021-02-24T04:03:39.315674Z",
     "shell.execute_reply": "2021-02-24T04:03:39.315296Z"
    },
    "papermill": {
     "duration": 0.026951,
     "end_time": "2021-02-24T04:03:39.315763",
     "exception": false,
     "start_time": "2021-02-24T04:03:39.288812",
     "status": "completed"
    },
    "tags": []
   },
   "outputs": [
    {
     "data": {
      "text/plain": [
       "(59, 4)"
      ]
     },
     "execution_count": 13,
     "metadata": {},
     "output_type": "execute_result"
    }
   ],
   "source": [
    "best_partitions.shape"
   ]
  },
  {
   "cell_type": "code",
   "execution_count": 14,
   "metadata": {
    "execution": {
     "iopub.execute_input": "2021-02-24T04:03:39.346673Z",
     "iopub.status.busy": "2021-02-24T04:03:39.346311Z",
     "iopub.status.idle": "2021-02-24T04:03:39.365324Z",
     "shell.execute_reply": "2021-02-24T04:03:39.364981Z"
    },
    "papermill": {
     "duration": 0.03503,
     "end_time": "2021-02-24T04:03:39.365413",
     "exception": false,
     "start_time": "2021-02-24T04:03:39.330383",
     "status": "completed"
    },
    "tags": []
   },
   "outputs": [
    {
     "data": {
      "text/html": [
       "<div>\n",
       "<style scoped>\n",
       "    .dataframe tbody tr th:only-of-type {\n",
       "        vertical-align: middle;\n",
       "    }\n",
       "\n",
       "    .dataframe tbody tr th {\n",
       "        vertical-align: top;\n",
       "    }\n",
       "\n",
       "    .dataframe thead th {\n",
       "        text-align: right;\n",
       "    }\n",
       "</style>\n",
       "<table border=\"1\" class=\"dataframe\">\n",
       "  <thead>\n",
       "    <tr style=\"text-align: right;\">\n",
       "      <th></th>\n",
       "      <th>method</th>\n",
       "      <th>partition</th>\n",
       "      <th>ami_mean</th>\n",
       "      <th>selected</th>\n",
       "    </tr>\n",
       "    <tr>\n",
       "      <th>k</th>\n",
       "      <th></th>\n",
       "      <th></th>\n",
       "      <th></th>\n",
       "      <th></th>\n",
       "    </tr>\n",
       "  </thead>\n",
       "  <tbody>\n",
       "    <tr>\n",
       "      <th>11</th>\n",
       "      <td>scc_020</td>\n",
       "      <td>[0, 0, 0, 0, 0, 0, 0, 0, 0, 0, 0, 0, 0, 0, 0, ...</td>\n",
       "      <td>0.301839</td>\n",
       "      <td>True</td>\n",
       "    </tr>\n",
       "    <tr>\n",
       "      <th>10</th>\n",
       "      <td>scc_020</td>\n",
       "      <td>[0, 0, 0, 0, 0, 0, 0, 0, 0, 0, 0, 0, 0, 0, 0, ...</td>\n",
       "      <td>0.301738</td>\n",
       "      <td>True</td>\n",
       "    </tr>\n",
       "    <tr>\n",
       "      <th>9</th>\n",
       "      <td>scc_020</td>\n",
       "      <td>[0, 0, 0, 0, 0, 0, 0, 0, 0, 0, 0, 0, 0, 0, 0, ...</td>\n",
       "      <td>0.301301</td>\n",
       "      <td>True</td>\n",
       "    </tr>\n",
       "    <tr>\n",
       "      <th>4</th>\n",
       "      <td>eac_complete_coassoc_matrix</td>\n",
       "      <td>[0, 0, 0, 0, 0, 0, 0, 0, 0, 0, 0, 0, 0, 0, 0, ...</td>\n",
       "      <td>0.300385</td>\n",
       "      <td>True</td>\n",
       "    </tr>\n",
       "    <tr>\n",
       "      <th>8</th>\n",
       "      <td>scc_020</td>\n",
       "      <td>[0, 0, 0, 0, 0, 0, 0, 0, 0, 0, 0, 0, 0, 0, 0, ...</td>\n",
       "      <td>0.300171</td>\n",
       "      <td>True</td>\n",
       "    </tr>\n",
       "  </tbody>\n",
       "</table>\n",
       "</div>"
      ],
      "text/plain": [
       "                         method  \\\n",
       "k                                 \n",
       "11                      scc_020   \n",
       "10                      scc_020   \n",
       "9                       scc_020   \n",
       "4   eac_complete_coassoc_matrix   \n",
       "8                       scc_020   \n",
       "\n",
       "                                            partition  ami_mean  selected  \n",
       "k                                                                          \n",
       "11  [0, 0, 0, 0, 0, 0, 0, 0, 0, 0, 0, 0, 0, 0, 0, ...  0.301839      True  \n",
       "10  [0, 0, 0, 0, 0, 0, 0, 0, 0, 0, 0, 0, 0, 0, 0, ...  0.301738      True  \n",
       "9   [0, 0, 0, 0, 0, 0, 0, 0, 0, 0, 0, 0, 0, 0, 0, ...  0.301301      True  \n",
       "4   [0, 0, 0, 0, 0, 0, 0, 0, 0, 0, 0, 0, 0, 0, 0, ...  0.300385      True  \n",
       "8   [0, 0, 0, 0, 0, 0, 0, 0, 0, 0, 0, 0, 0, 0, 0, ...  0.300171      True  "
      ]
     },
     "execution_count": 14,
     "metadata": {},
     "output_type": "execute_result"
    }
   ],
   "source": [
    "best_partitions.head()"
   ]
  },
  {
   "cell_type": "markdown",
   "metadata": {
    "papermill": {
     "duration": 0.014659,
     "end_time": "2021-02-24T04:03:39.394846",
     "exception": false,
     "start_time": "2021-02-24T04:03:39.380187",
     "status": "completed"
    },
    "tags": []
   },
   "source": [
    "# Load coassociation matrix"
   ]
  },
  {
   "cell_type": "code",
   "execution_count": 15,
   "metadata": {
    "execution": {
     "iopub.execute_input": "2021-02-24T04:03:39.425713Z",
     "iopub.status.busy": "2021-02-24T04:03:39.425353Z",
     "iopub.status.idle": "2021-02-24T04:03:39.436393Z",
     "shell.execute_reply": "2021-02-24T04:03:39.436015Z"
    },
    "papermill": {
     "duration": 0.027532,
     "end_time": "2021-02-24T04:03:39.436481",
     "exception": false,
     "start_time": "2021-02-24T04:03:39.408949",
     "status": "completed"
    },
    "tags": []
   },
   "outputs": [
    {
     "data": {
      "text/plain": [
       "PosixPath('/home/miltondp/projects/labs/greenelab/phenoplier/base3/results/clustering/consensus_clustering/ensemble_coassoc_matrix.npy')"
      ]
     },
     "metadata": {},
     "output_type": "display_data"
    }
   ],
   "source": [
    "input_file = Path(CONSENSUS_CLUSTERING_DIR, \"ensemble_coassoc_matrix.npy\").resolve()\n",
    "display(input_file)"
   ]
  },
  {
   "cell_type": "code",
   "execution_count": 16,
   "metadata": {
    "execution": {
     "iopub.execute_input": "2021-02-24T04:03:39.469257Z",
     "iopub.status.busy": "2021-02-24T04:03:39.468897Z",
     "iopub.status.idle": "2021-02-24T04:03:39.504811Z",
     "shell.execute_reply": "2021-02-24T04:03:39.504360Z"
    },
    "papermill": {
     "duration": 0.053061,
     "end_time": "2021-02-24T04:03:39.504923",
     "exception": false,
     "start_time": "2021-02-24T04:03:39.451862",
     "status": "completed"
    },
    "tags": []
   },
   "outputs": [],
   "source": [
    "coassoc_matrix = np.load(input_file)"
   ]
  },
  {
   "cell_type": "code",
   "execution_count": 17,
   "metadata": {
    "execution": {
     "iopub.execute_input": "2021-02-24T04:03:39.541432Z",
     "iopub.status.busy": "2021-02-24T04:03:39.541040Z",
     "iopub.status.idle": "2021-02-24T04:03:39.569741Z",
     "shell.execute_reply": "2021-02-24T04:03:39.569393Z"
    },
    "papermill": {
     "duration": 0.046533,
     "end_time": "2021-02-24T04:03:39.569843",
     "exception": false,
     "start_time": "2021-02-24T04:03:39.523310",
     "status": "completed"
    },
    "tags": []
   },
   "outputs": [],
   "source": [
    "coassoc_matrix = pd.DataFrame(\n",
    "    data=1.0 - coassoc_matrix,\n",
    "    index=data_umap.index.copy(),\n",
    "    columns=data_umap.index.copy(),\n",
    ")"
   ]
  },
  {
   "cell_type": "code",
   "execution_count": 18,
   "metadata": {
    "execution": {
     "iopub.execute_input": "2021-02-24T04:03:39.604906Z",
     "iopub.status.busy": "2021-02-24T04:03:39.604478Z",
     "iopub.status.idle": "2021-02-24T04:03:39.614872Z",
     "shell.execute_reply": "2021-02-24T04:03:39.614508Z"
    },
    "papermill": {
     "duration": 0.028553,
     "end_time": "2021-02-24T04:03:39.614957",
     "exception": false,
     "start_time": "2021-02-24T04:03:39.586404",
     "status": "completed"
    },
    "tags": []
   },
   "outputs": [
    {
     "data": {
      "text/plain": [
       "(3749, 3749)"
      ]
     },
     "execution_count": 18,
     "metadata": {},
     "output_type": "execute_result"
    }
   ],
   "source": [
    "coassoc_matrix.shape"
   ]
  },
  {
   "cell_type": "code",
   "execution_count": 19,
   "metadata": {
    "execution": {
     "iopub.execute_input": "2021-02-24T04:03:39.648246Z",
     "iopub.status.busy": "2021-02-24T04:03:39.647889Z",
     "iopub.status.idle": "2021-02-24T04:03:39.670420Z",
     "shell.execute_reply": "2021-02-24T04:03:39.670044Z"
    },
    "papermill": {
     "duration": 0.040287,
     "end_time": "2021-02-24T04:03:39.670509",
     "exception": false,
     "start_time": "2021-02-24T04:03:39.630222",
     "status": "completed"
    },
    "tags": []
   },
   "outputs": [
    {
     "data": {
      "text/html": [
       "<div>\n",
       "<style scoped>\n",
       "    .dataframe tbody tr th:only-of-type {\n",
       "        vertical-align: middle;\n",
       "    }\n",
       "\n",
       "    .dataframe tbody tr th {\n",
       "        vertical-align: top;\n",
       "    }\n",
       "\n",
       "    .dataframe thead th {\n",
       "        text-align: right;\n",
       "    }\n",
       "</style>\n",
       "<table border=\"1\" class=\"dataframe\">\n",
       "  <thead>\n",
       "    <tr style=\"text-align: right;\">\n",
       "      <th></th>\n",
       "      <th>100001_raw-Food_weight</th>\n",
       "      <th>100002_raw-Energy</th>\n",
       "      <th>100003_raw-Protein</th>\n",
       "      <th>100004_raw-Fat</th>\n",
       "      <th>100005_raw-Carbohydrate</th>\n",
       "      <th>100006_raw-Saturated_fat</th>\n",
       "      <th>100007_raw-Polyunsaturated_fat</th>\n",
       "      <th>100008_raw-Total_sugars</th>\n",
       "      <th>100009_raw-Englyst_dietary_fibre</th>\n",
       "      <th>100010-Portion_size</th>\n",
       "      <th>...</th>\n",
       "      <th>visual impairment</th>\n",
       "      <th>vitiligo</th>\n",
       "      <th>vitreous body disease</th>\n",
       "      <th>vocal cord polyp</th>\n",
       "      <th>voice disorders</th>\n",
       "      <th>wellbeing measurement AND family relationship</th>\n",
       "      <th>wheezing</th>\n",
       "      <th>whooping cough</th>\n",
       "      <th>worry measurement</th>\n",
       "      <th>wrist fracture</th>\n",
       "    </tr>\n",
       "  </thead>\n",
       "  <tbody>\n",
       "    <tr>\n",
       "      <th>100001_raw-Food_weight</th>\n",
       "      <td>1.000000</td>\n",
       "      <td>0.943614</td>\n",
       "      <td>0.945879</td>\n",
       "      <td>0.923234</td>\n",
       "      <td>0.942029</td>\n",
       "      <td>0.923687</td>\n",
       "      <td>0.925045</td>\n",
       "      <td>0.941576</td>\n",
       "      <td>0.944520</td>\n",
       "      <td>0.432971</td>\n",
       "      <td>...</td>\n",
       "      <td>0.395777</td>\n",
       "      <td>0.397645</td>\n",
       "      <td>0.404983</td>\n",
       "      <td>0.396513</td>\n",
       "      <td>0.416214</td>\n",
       "      <td>0.451043</td>\n",
       "      <td>0.310512</td>\n",
       "      <td>0.400136</td>\n",
       "      <td>0.338514</td>\n",
       "      <td>0.332428</td>\n",
       "    </tr>\n",
       "    <tr>\n",
       "      <th>100002_raw-Energy</th>\n",
       "      <td>0.943614</td>\n",
       "      <td>1.000000</td>\n",
       "      <td>0.972600</td>\n",
       "      <td>0.954937</td>\n",
       "      <td>0.978261</td>\n",
       "      <td>0.954257</td>\n",
       "      <td>0.932518</td>\n",
       "      <td>0.968976</td>\n",
       "      <td>0.951766</td>\n",
       "      <td>0.439312</td>\n",
       "      <td>...</td>\n",
       "      <td>0.393960</td>\n",
       "      <td>0.395607</td>\n",
       "      <td>0.405210</td>\n",
       "      <td>0.393342</td>\n",
       "      <td>0.412817</td>\n",
       "      <td>0.428377</td>\n",
       "      <td>0.313047</td>\n",
       "      <td>0.398551</td>\n",
       "      <td>0.339886</td>\n",
       "      <td>0.334692</td>\n",
       "    </tr>\n",
       "    <tr>\n",
       "      <th>100003_raw-Protein</th>\n",
       "      <td>0.945879</td>\n",
       "      <td>0.972600</td>\n",
       "      <td>1.000000</td>\n",
       "      <td>0.952899</td>\n",
       "      <td>0.982111</td>\n",
       "      <td>0.952219</td>\n",
       "      <td>0.935236</td>\n",
       "      <td>0.967844</td>\n",
       "      <td>0.948822</td>\n",
       "      <td>0.442255</td>\n",
       "      <td>...</td>\n",
       "      <td>0.397366</td>\n",
       "      <td>0.398324</td>\n",
       "      <td>0.407022</td>\n",
       "      <td>0.396286</td>\n",
       "      <td>0.416667</td>\n",
       "      <td>0.427697</td>\n",
       "      <td>0.309590</td>\n",
       "      <td>0.401947</td>\n",
       "      <td>0.338743</td>\n",
       "      <td>0.337183</td>\n",
       "    </tr>\n",
       "    <tr>\n",
       "      <th>100004_raw-Fat</th>\n",
       "      <td>0.923234</td>\n",
       "      <td>0.954937</td>\n",
       "      <td>0.952899</td>\n",
       "      <td>1.000000</td>\n",
       "      <td>0.954031</td>\n",
       "      <td>0.995471</td>\n",
       "      <td>0.953125</td>\n",
       "      <td>0.971241</td>\n",
       "      <td>0.941576</td>\n",
       "      <td>0.449049</td>\n",
       "      <td>...</td>\n",
       "      <td>0.410082</td>\n",
       "      <td>0.409873</td>\n",
       "      <td>0.421065</td>\n",
       "      <td>0.403986</td>\n",
       "      <td>0.427310</td>\n",
       "      <td>0.413871</td>\n",
       "      <td>0.308207</td>\n",
       "      <td>0.411232</td>\n",
       "      <td>0.332571</td>\n",
       "      <td>0.333333</td>\n",
       "    </tr>\n",
       "    <tr>\n",
       "      <th>100005_raw-Carbohydrate</th>\n",
       "      <td>0.942029</td>\n",
       "      <td>0.978261</td>\n",
       "      <td>0.982111</td>\n",
       "      <td>0.954031</td>\n",
       "      <td>1.000000</td>\n",
       "      <td>0.953578</td>\n",
       "      <td>0.931839</td>\n",
       "      <td>0.974411</td>\n",
       "      <td>0.949955</td>\n",
       "      <td>0.440670</td>\n",
       "      <td>...</td>\n",
       "      <td>0.393960</td>\n",
       "      <td>0.395380</td>\n",
       "      <td>0.406116</td>\n",
       "      <td>0.394701</td>\n",
       "      <td>0.413723</td>\n",
       "      <td>0.424751</td>\n",
       "      <td>0.313509</td>\n",
       "      <td>0.399004</td>\n",
       "      <td>0.342857</td>\n",
       "      <td>0.337183</td>\n",
       "    </tr>\n",
       "  </tbody>\n",
       "</table>\n",
       "<p>5 rows × 3749 columns</p>\n",
       "</div>"
      ],
      "text/plain": [
       "                         100001_raw-Food_weight  100002_raw-Energy  \\\n",
       "100001_raw-Food_weight                 1.000000           0.943614   \n",
       "100002_raw-Energy                      0.943614           1.000000   \n",
       "100003_raw-Protein                     0.945879           0.972600   \n",
       "100004_raw-Fat                         0.923234           0.954937   \n",
       "100005_raw-Carbohydrate                0.942029           0.978261   \n",
       "\n",
       "                         100003_raw-Protein  100004_raw-Fat  \\\n",
       "100001_raw-Food_weight             0.945879        0.923234   \n",
       "100002_raw-Energy                  0.972600        0.954937   \n",
       "100003_raw-Protein                 1.000000        0.952899   \n",
       "100004_raw-Fat                     0.952899        1.000000   \n",
       "100005_raw-Carbohydrate            0.982111        0.954031   \n",
       "\n",
       "                         100005_raw-Carbohydrate  100006_raw-Saturated_fat  \\\n",
       "100001_raw-Food_weight                  0.942029                  0.923687   \n",
       "100002_raw-Energy                       0.978261                  0.954257   \n",
       "100003_raw-Protein                      0.982111                  0.952219   \n",
       "100004_raw-Fat                          0.954031                  0.995471   \n",
       "100005_raw-Carbohydrate                 1.000000                  0.953578   \n",
       "\n",
       "                         100007_raw-Polyunsaturated_fat  \\\n",
       "100001_raw-Food_weight                         0.925045   \n",
       "100002_raw-Energy                              0.932518   \n",
       "100003_raw-Protein                             0.935236   \n",
       "100004_raw-Fat                                 0.953125   \n",
       "100005_raw-Carbohydrate                        0.931839   \n",
       "\n",
       "                         100008_raw-Total_sugars  \\\n",
       "100001_raw-Food_weight                  0.941576   \n",
       "100002_raw-Energy                       0.968976   \n",
       "100003_raw-Protein                      0.967844   \n",
       "100004_raw-Fat                          0.971241   \n",
       "100005_raw-Carbohydrate                 0.974411   \n",
       "\n",
       "                         100009_raw-Englyst_dietary_fibre  \\\n",
       "100001_raw-Food_weight                           0.944520   \n",
       "100002_raw-Energy                                0.951766   \n",
       "100003_raw-Protein                               0.948822   \n",
       "100004_raw-Fat                                   0.941576   \n",
       "100005_raw-Carbohydrate                          0.949955   \n",
       "\n",
       "                         100010-Portion_size  ...  visual impairment  \\\n",
       "100001_raw-Food_weight              0.432971  ...           0.395777   \n",
       "100002_raw-Energy                   0.439312  ...           0.393960   \n",
       "100003_raw-Protein                  0.442255  ...           0.397366   \n",
       "100004_raw-Fat                      0.449049  ...           0.410082   \n",
       "100005_raw-Carbohydrate             0.440670  ...           0.393960   \n",
       "\n",
       "                         vitiligo  vitreous body disease  vocal cord polyp  \\\n",
       "100001_raw-Food_weight   0.397645               0.404983          0.396513   \n",
       "100002_raw-Energy        0.395607               0.405210          0.393342   \n",
       "100003_raw-Protein       0.398324               0.407022          0.396286   \n",
       "100004_raw-Fat           0.409873               0.421065          0.403986   \n",
       "100005_raw-Carbohydrate  0.395380               0.406116          0.394701   \n",
       "\n",
       "                         voice disorders  \\\n",
       "100001_raw-Food_weight          0.416214   \n",
       "100002_raw-Energy               0.412817   \n",
       "100003_raw-Protein              0.416667   \n",
       "100004_raw-Fat                  0.427310   \n",
       "100005_raw-Carbohydrate         0.413723   \n",
       "\n",
       "                         wellbeing measurement AND family relationship  \\\n",
       "100001_raw-Food_weight                                        0.451043   \n",
       "100002_raw-Energy                                             0.428377   \n",
       "100003_raw-Protein                                            0.427697   \n",
       "100004_raw-Fat                                                0.413871   \n",
       "100005_raw-Carbohydrate                                       0.424751   \n",
       "\n",
       "                         wheezing  whooping cough  worry measurement  \\\n",
       "100001_raw-Food_weight   0.310512        0.400136           0.338514   \n",
       "100002_raw-Energy        0.313047        0.398551           0.339886   \n",
       "100003_raw-Protein       0.309590        0.401947           0.338743   \n",
       "100004_raw-Fat           0.308207        0.411232           0.332571   \n",
       "100005_raw-Carbohydrate  0.313509        0.399004           0.342857   \n",
       "\n",
       "                         wrist fracture  \n",
       "100001_raw-Food_weight         0.332428  \n",
       "100002_raw-Energy              0.334692  \n",
       "100003_raw-Protein             0.337183  \n",
       "100004_raw-Fat                 0.333333  \n",
       "100005_raw-Carbohydrate        0.337183  \n",
       "\n",
       "[5 rows x 3749 columns]"
      ]
     },
     "execution_count": 19,
     "metadata": {},
     "output_type": "execute_result"
    }
   ],
   "source": [
    "coassoc_matrix.head()"
   ]
  },
  {
   "cell_type": "markdown",
   "metadata": {
    "papermill": {
     "duration": 0.015479,
     "end_time": "2021-02-24T04:03:39.701819",
     "exception": false,
     "start_time": "2021-02-24T04:03:39.686340",
     "status": "completed"
    },
    "tags": []
   },
   "source": [
    "The coassociation matrix shows the percentage of times a pair of traits was clustered together across the ensemble partitions."
   ]
  },
  {
   "cell_type": "markdown",
   "metadata": {
    "papermill": {
     "duration": 0.014794,
     "end_time": "2021-02-24T04:03:39.731646",
     "exception": false,
     "start_time": "2021-02-24T04:03:39.716852",
     "status": "completed"
    },
    "tags": []
   },
   "source": [
    "## Stats"
   ]
  },
  {
   "cell_type": "markdown",
   "metadata": {
    "papermill": {
     "duration": 0.015208,
     "end_time": "2021-02-24T04:03:39.761746",
     "exception": false,
     "start_time": "2021-02-24T04:03:39.746538",
     "status": "completed"
    },
    "tags": []
   },
   "source": [
    "Here I show some general stats of the coassociation matrix, useful to compare results below. For instance, if a pair of traits got clustered together 61% of the times, how strong is that?"
   ]
  },
  {
   "cell_type": "code",
   "execution_count": 20,
   "metadata": {
    "execution": {
     "iopub.execute_input": "2021-02-24T04:03:39.795332Z",
     "iopub.status.busy": "2021-02-24T04:03:39.794957Z",
     "iopub.status.idle": "2021-02-24T04:03:40.764245Z",
     "shell.execute_reply": "2021-02-24T04:03:40.763918Z"
    },
    "papermill": {
     "duration": 0.987095,
     "end_time": "2021-02-24T04:03:40.764339",
     "exception": false,
     "start_time": "2021-02-24T04:03:39.777244",
     "status": "completed"
    },
    "tags": []
   },
   "outputs": [
    {
     "name": "stderr",
     "output_type": "stream",
     "text": [
      "[2021-02-23 23:03:39,895 - numexpr.utils] INFO: NumExpr defaulting to 4 threads.\n"
     ]
    }
   ],
   "source": [
    "df = coassoc_matrix.where(np.triu(np.ones(coassoc_matrix.shape)).astype(np.bool))\n",
    "df = df.stack().reset_index()\n",
    "\n",
    "coassoc_matrix_stats = df[0].describe(\n",
    "    percentiles=[0.25, 0.50, 0.75, 0.80, 0.90, 0.95, 0.99]\n",
    ")"
   ]
  },
  {
   "cell_type": "code",
   "execution_count": 21,
   "metadata": {
    "execution": {
     "iopub.execute_input": "2021-02-24T04:03:40.798296Z",
     "iopub.status.busy": "2021-02-24T04:03:40.797912Z",
     "iopub.status.idle": "2021-02-24T04:03:40.809153Z",
     "shell.execute_reply": "2021-02-24T04:03:40.808787Z"
    },
    "papermill": {
     "duration": 0.028972,
     "end_time": "2021-02-24T04:03:40.809243",
     "exception": false,
     "start_time": "2021-02-24T04:03:40.780271",
     "status": "completed"
    },
    "tags": []
   },
   "outputs": [
    {
     "data": {
      "text/plain": [
       "count               7029375.0\n",
       "mean       0.4472588055384588\n",
       "std       0.11464582654691324\n",
       "min      0.002516778523489971\n",
       "25%        0.3971983732489833\n",
       "50%       0.48441734417344173\n",
       "75%         0.516945323090827\n",
       "80%        0.5239385727190605\n",
       "90%        0.5433604336043361\n",
       "95%        0.5630081300813008\n",
       "99%        0.6309846431797651\n",
       "max                       1.0\n",
       "Name: 0, dtype: object"
      ]
     },
     "execution_count": 21,
     "metadata": {},
     "output_type": "execute_result"
    }
   ],
   "source": [
    "coassoc_matrix_stats.apply(str)"
   ]
  },
  {
   "cell_type": "markdown",
   "metadata": {
    "papermill": {
     "duration": 0.01517,
     "end_time": "2021-02-24T04:03:40.840378",
     "exception": false,
     "start_time": "2021-02-24T04:03:40.825208",
     "status": "completed"
    },
    "tags": []
   },
   "source": [
    "On average, a pair of clusters appear together in 45% of the clusters in the ensemble (the median is 48%). That makes sense, since for some partitions the resolution (number of clusters) might not be enough to get smaller clusters."
   ]
  },
  {
   "cell_type": "markdown",
   "metadata": {
    "papermill": {
     "duration": 0.015243,
     "end_time": "2021-02-24T04:03:40.871020",
     "exception": false,
     "start_time": "2021-02-24T04:03:40.855777",
     "status": "completed"
    },
    "tags": []
   },
   "source": [
    "# Plot coassociation values"
   ]
  },
  {
   "cell_type": "markdown",
   "metadata": {
    "papermill": {
     "duration": 0.015528,
     "end_time": "2021-02-24T04:03:40.901859",
     "exception": false,
     "start_time": "2021-02-24T04:03:40.886331",
     "status": "completed"
    },
    "tags": []
   },
   "source": [
    "## Functions"
   ]
  },
  {
   "cell_type": "code",
   "execution_count": 22,
   "metadata": {
    "execution": {
     "iopub.execute_input": "2021-02-24T04:03:40.934607Z",
     "iopub.status.busy": "2021-02-24T04:03:40.934249Z",
     "iopub.status.idle": "2021-02-24T04:03:40.943932Z",
     "shell.execute_reply": "2021-02-24T04:03:40.943578Z"
    },
    "papermill": {
     "duration": 0.027134,
     "end_time": "2021-02-24T04:03:40.944017",
     "exception": false,
     "start_time": "2021-02-24T04:03:40.916883",
     "status": "completed"
    },
    "tags": []
   },
   "outputs": [],
   "source": [
    "from IPython.display import HTML"
   ]
  },
  {
   "cell_type": "code",
   "execution_count": 23,
   "metadata": {
    "execution": {
     "iopub.execute_input": "2021-02-24T04:03:40.978397Z",
     "iopub.status.busy": "2021-02-24T04:03:40.977956Z",
     "iopub.status.idle": "2021-02-24T04:03:40.987816Z",
     "shell.execute_reply": "2021-02-24T04:03:40.987434Z"
    },
    "papermill": {
     "duration": 0.028246,
     "end_time": "2021-02-24T04:03:40.987904",
     "exception": false,
     "start_time": "2021-02-24T04:03:40.959658",
     "status": "completed"
    },
    "tags": []
   },
   "outputs": [],
   "source": [
    "def plot_cluster(data, partition, cluster_number, figsize=None):\n",
    "    k = np.unique(partition).shape[0]\n",
    "\n",
    "    display(HTML(f\"<h3>Cluster {k}.{cluster_number}</h3>\"))\n",
    "\n",
    "    k_traits = data.loc[partition == cluster_number].index\n",
    "\n",
    "    with sns.plotting_context(\"paper\"):\n",
    "        f, ax = plt.subplots(figsize=figsize)  # (figsize=(8, 8))\n",
    "\n",
    "        display(\n",
    "            sns.heatmap(\n",
    "                data=coassoc_matrix.loc[k_traits, k_traits],\n",
    "                vmin=coassoc_matrix_stats[\"50%\"],\n",
    "                vmax=1.0,\n",
    "                annot=True,\n",
    "                fmt=\".2f\",\n",
    "                square=True,\n",
    "            )\n",
    "        )"
   ]
  },
  {
   "cell_type": "code",
   "execution_count": 24,
   "metadata": {
    "execution": {
     "iopub.execute_input": "2021-02-24T04:03:41.022575Z",
     "iopub.status.busy": "2021-02-24T04:03:41.022193Z",
     "iopub.status.idle": "2021-02-24T04:03:41.036708Z",
     "shell.execute_reply": "2021-02-24T04:03:41.037021Z"
    },
    "papermill": {
     "duration": 0.033117,
     "end_time": "2021-02-24T04:03:41.037132",
     "exception": false,
     "start_time": "2021-02-24T04:03:41.004015",
     "status": "completed"
    },
    "tags": []
   },
   "outputs": [
    {
     "data": {
      "text/html": [
       "<h2>k: 5</h2>"
      ],
      "text/plain": [
       "<IPython.core.display.HTML object>"
      ]
     },
     "metadata": {},
     "output_type": "display_data"
    },
    {
     "data": {
      "text/plain": [
       "method                              eac_average_coassoc_matrix\n",
       "partition    [0, 0, 0, 0, 0, 0, 0, 0, 0, 0, 0, 0, 0, 0, 0, ...\n",
       "ami_mean                                               0.29829\n",
       "selected                                                  True\n",
       "Name: 5, dtype: object"
      ]
     },
     "metadata": {},
     "output_type": "display_data"
    },
    {
     "data": {
      "text/plain": [
       "0    3641\n",
       "1      47\n",
       "3      41\n",
       "2      12\n",
       "4       8\n",
       "dtype: int64"
      ]
     },
     "metadata": {},
     "output_type": "display_data"
    }
   ],
   "source": [
    "k = 5\n",
    "display(HTML(f\"<h2>k: {k}</h2>\"))\n",
    "display(best_partitions.loc[k])\n",
    "\n",
    "part = best_partitions.loc[k, \"partition\"]\n",
    "part_stats = pd.Series(part).value_counts()\n",
    "display(part_stats)"
   ]
  },
  {
   "cell_type": "code",
   "execution_count": 25,
   "metadata": {
    "execution": {
     "iopub.execute_input": "2021-02-24T04:03:41.073508Z",
     "iopub.status.busy": "2021-02-24T04:03:41.073141Z",
     "iopub.status.idle": "2021-02-24T04:03:41.540094Z",
     "shell.execute_reply": "2021-02-24T04:03:41.539718Z"
    },
    "papermill": {
     "duration": 0.485846,
     "end_time": "2021-02-24T04:03:41.540184",
     "exception": false,
     "start_time": "2021-02-24T04:03:41.054338",
     "status": "completed"
    },
    "tags": []
   },
   "outputs": [
    {
     "data": {
      "text/html": [
       "<h3>Cluster 5.4</h3>"
      ],
      "text/plain": [
       "<IPython.core.display.HTML object>"
      ]
     },
     "metadata": {},
     "output_type": "display_data"
    },
    {
     "data": {
      "text/plain": [
       "<AxesSubplot:>"
      ]
     },
     "metadata": {},
     "output_type": "display_data"
    },
    {
     "data": {
      "image/png": "[encoded data removed]",
      "text/plain": [
       "<Figure size 432x288 with 2 Axes>"
      ]
     },
     "metadata": {
      "needs_background": "light"
     },
     "output_type": "display_data"
    }
   ],
   "source": [
    "plot_cluster(data_umap, part, 4)"
   ]
  },
  {
   "cell_type": "markdown",
   "metadata": {
    "papermill": {
     "duration": 0.017162,
     "end_time": "2021-02-24T04:03:41.575085",
     "exception": false,
     "start_time": "2021-02-24T04:03:41.557923",
     "status": "completed"
    },
    "tags": []
   },
   "source": [
    "The plot above shows that these 8 keratometry measurements (such as 3mm weak meridian left) were always clustered together in all partitions of the ensemble, representing a very strong/stable grouping."
   ]
  },
  {
   "cell_type": "code",
   "execution_count": 26,
   "metadata": {
    "execution": {
     "iopub.execute_input": "2021-02-24T04:03:41.612370Z",
     "iopub.status.busy": "2021-02-24T04:03:41.612010Z",
     "iopub.status.idle": "2021-02-24T04:03:42.466405Z",
     "shell.execute_reply": "2021-02-24T04:03:42.466706Z"
    },
    "papermill": {
     "duration": 0.874319,
     "end_time": "2021-02-24T04:03:42.466814",
     "exception": false,
     "start_time": "2021-02-24T04:03:41.592495",
     "status": "completed"
    },
    "tags": []
   },
   "outputs": [
    {
     "data": {
      "text/html": [
       "<h3>Cluster 5.2</h3>"
      ],
      "text/plain": [
       "<IPython.core.display.HTML object>"
      ]
     },
     "metadata": {},
     "output_type": "display_data"
    },
    {
     "data": {
      "text/plain": [
       "<AxesSubplot:>"
      ]
     },
     "metadata": {},
     "output_type": "display_data"
    },
    {
     "data": {
      "image/png": "[encoded data removed]",
      "text/plain": [
       "<Figure size 720x720 with 2 Axes>"
      ]
     },
     "metadata": {
      "needs_background": "light"
     },
     "output_type": "display_data"
    }
   ],
   "source": [
    "plot_cluster(data_umap, part, 2, figsize=(10, 10))"
   ]
  },
  {
   "cell_type": "markdown",
   "metadata": {
    "papermill": {
     "duration": 0.019725,
     "end_time": "2021-02-24T04:03:42.506721",
     "exception": false,
     "start_time": "2021-02-24T04:03:42.486996",
     "status": "completed"
    },
    "tags": []
   },
   "source": [
    "The \"heel bone mineral density\" cluster is not as strong as the keratometry one, since some trait pairs have a coassociation value of 0.75. However, 0.75 is quite higher than the 99 percentile of the coassociation values (which is 0.63)."
   ]
  },
  {
   "cell_type": "code",
   "execution_count": null,
   "metadata": {
    "papermill": {
     "duration": 0.019255,
     "end_time": "2021-02-24T04:03:42.545613",
     "exception": false,
     "start_time": "2021-02-24T04:03:42.526358",
     "status": "completed"
    },
    "tags": []
   },
   "outputs": [],
   "source": []
  }
 ],
 "metadata": {
  "jupytext": {
   "cell_metadata_filter": "all,-execution,-papermill,-trusted",
   "formats": "ipynb,py//py:percent"
  },
  "kernelspec": {
   "display_name": "Python 3",
   "language": "python",
   "name": "python3"
  },
  "language_info": {
   "codemirror_mode": {
    "name": "ipython",
    "version": 3
   },
   "file_extension": ".py",
   "mimetype": "text/x-python",
   "name": "python",
   "nbconvert_exporter": "python",
   "pygments_lexer": "ipython3",
   "version": "3.8.6"
  },
  "papermill": {
   "default_parameters": {},
   "duration": 5.732587,
   "end_time": "2021-02-24T04:03:42.972530",
   "environment_variables": {},
   "exception": null,
   "input_path": "16_consensus_clustering/030_03-analysis-coassociation.ipynb",
   "output_path": "16_consensus_clustering/030_03-analysis-coassociation.run.ipynb",
   "parameters": {},
   "start_time": "2021-02-24T04:03:37.239943",
   "version": "2.2.2"
  },
  "toc-autonumbering": true,
  "toc-showcode": false,
  "toc-showmarkdowntxt": false,
  "toc-showtags": false
 },
 "nbformat": 4,
 "nbformat_minor": 4
}
