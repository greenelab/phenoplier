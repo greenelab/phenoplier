{
 "cells": [
  {
   "cell_type": "markdown",
   "metadata": {
    "papermill": {
     "duration": 0.017178,
     "end_time": "2021-02-24T02:22:31.840844",
     "exception": false,
     "start_time": "2021-02-24T02:22:31.823666",
     "status": "completed"
    },
    "tags": []
   },
   "source": [
    "# Description"
   ]
  },
  {
   "cell_type": "markdown",
   "metadata": {
    "papermill": {
     "duration": 0.012042,
     "end_time": "2021-02-24T02:22:31.864983",
     "exception": false,
     "start_time": "2021-02-24T02:22:31.852941",
     "status": "completed"
    },
    "tags": []
   },
   "source": [
    "It combines all clustering solutions generated into a single consolidated solution using consensus clustering."
   ]
  },
  {
   "cell_type": "markdown",
   "metadata": {
    "papermill": {
     "duration": 0.012574,
     "end_time": "2021-02-24T02:22:31.889757",
     "exception": false,
     "start_time": "2021-02-24T02:22:31.877183",
     "status": "completed"
    },
    "tags": []
   },
   "source": [
    "# Environment variables"
   ]
  },
  {
   "cell_type": "code",
   "execution_count": 1,
   "metadata": {
    "execution": {
     "iopub.execute_input": "2021-02-24T02:22:31.921607Z",
     "iopub.status.busy": "2021-02-24T02:22:31.920989Z",
     "iopub.status.idle": "2021-02-24T02:22:31.923596Z",
     "shell.execute_reply": "2021-02-24T02:22:31.923895Z"
    },
    "papermill": {
     "duration": 0.022168,
     "end_time": "2021-02-24T02:22:31.924086",
     "exception": false,
     "start_time": "2021-02-24T02:22:31.901918",
     "status": "completed"
    },
    "tags": []
   },
   "outputs": [
    {
     "data": {
      "text/plain": [
       "1"
      ]
     },
     "metadata": {},
     "output_type": "display_data"
    }
   ],
   "source": [
    "from IPython.display import display\n",
    "\n",
    "# set numpy n_jobs to 1, since I'll be using n_jobs later\n",
    "NUMPY_N_JOBS = 1\n",
    "display(NUMPY_N_JOBS)"
   ]
  },
  {
   "cell_type": "code",
   "execution_count": 2,
   "metadata": {
    "execution": {
     "iopub.execute_input": "2021-02-24T02:22:31.954634Z",
     "iopub.status.busy": "2021-02-24T02:22:31.954250Z",
     "iopub.status.idle": "2021-02-24T02:22:31.956148Z",
     "shell.execute_reply": "2021-02-24T02:22:31.956453Z"
    },
    "papermill": {
     "duration": 0.019196,
     "end_time": "2021-02-24T02:22:31.956560",
     "exception": false,
     "start_time": "2021-02-24T02:22:31.937364",
     "status": "completed"
    },
    "tags": []
   },
   "outputs": [
    {
     "name": "stdout",
     "output_type": "stream",
     "text": [
      "env: MKL_NUM_THREADS=1\n",
      "env: OPEN_BLAS_NUM_THREADS=1\n",
      "env: NUMEXPR_NUM_THREADS=1\n",
      "env: OMP_NUM_THREADS=1\n"
     ]
    }
   ],
   "source": [
    "%env MKL_NUM_THREADS=$NUMPY_N_JOBS\n",
    "%env OPEN_BLAS_NUM_THREADS=$NUMPY_N_JOBS\n",
    "%env NUMEXPR_NUM_THREADS=$NUMPY_N_JOBS\n",
    "%env OMP_NUM_THREADS=$NUMPY_N_JOBS"
   ]
  },
  {
   "cell_type": "markdown",
   "metadata": {
    "papermill": {
     "duration": 0.012773,
     "end_time": "2021-02-24T02:22:31.982390",
     "exception": false,
     "start_time": "2021-02-24T02:22:31.969617",
     "status": "completed"
    },
    "tags": []
   },
   "source": [
    "# Modules loading"
   ]
  },
  {
   "cell_type": "code",
   "execution_count": 3,
   "metadata": {
    "execution": {
     "iopub.execute_input": "2021-02-24T02:22:32.011417Z",
     "iopub.status.busy": "2021-02-24T02:22:32.010302Z",
     "iopub.status.idle": "2021-02-24T02:22:32.018253Z",
     "shell.execute_reply": "2021-02-24T02:22:32.017868Z"
    },
    "papermill": {
     "duration": 0.023265,
     "end_time": "2021-02-24T02:22:32.018345",
     "exception": false,
     "start_time": "2021-02-24T02:22:31.995080",
     "status": "completed"
    },
    "tags": []
   },
   "outputs": [],
   "source": [
    "%load_ext autoreload\n",
    "%autoreload 2"
   ]
  },
  {
   "cell_type": "code",
   "execution_count": 4,
   "metadata": {
    "execution": {
     "iopub.execute_input": "2021-02-24T02:22:32.046465Z",
     "iopub.status.busy": "2021-02-24T02:22:32.046096Z",
     "iopub.status.idle": "2021-02-24T02:22:32.217326Z",
     "shell.execute_reply": "2021-02-24T02:22:32.216929Z"
    },
    "papermill": {
     "duration": 0.185944,
     "end_time": "2021-02-24T02:22:32.217419",
     "exception": false,
     "start_time": "2021-02-24T02:22:32.031475",
     "status": "completed"
    },
    "tags": []
   },
   "outputs": [],
   "source": [
    "from pathlib import Path\n",
    "\n",
    "import numpy as np\n",
    "import pandas as pd\n",
    "\n",
    "import conf"
   ]
  },
  {
   "cell_type": "markdown",
   "metadata": {
    "papermill": {
     "duration": 0.014523,
     "end_time": "2021-02-24T02:22:32.245707",
     "exception": false,
     "start_time": "2021-02-24T02:22:32.231184",
     "status": "completed"
    },
    "tags": []
   },
   "source": [
    "# Settings"
   ]
  },
  {
   "cell_type": "code",
   "execution_count": 5,
   "metadata": {
    "execution": {
     "iopub.execute_input": "2021-02-24T02:22:32.275664Z",
     "iopub.status.busy": "2021-02-24T02:22:32.275297Z",
     "iopub.status.idle": "2021-02-24T02:22:32.282556Z",
     "shell.execute_reply": "2021-02-24T02:22:32.282848Z"
    },
    "papermill": {
     "duration": 0.023182,
     "end_time": "2021-02-24T02:22:32.282963",
     "exception": false,
     "start_time": "2021-02-24T02:22:32.259781",
     "status": "completed"
    },
    "tags": []
   },
   "outputs": [],
   "source": [
    "np.random.seed(0)"
   ]
  },
  {
   "cell_type": "code",
   "execution_count": 6,
   "metadata": {
    "execution": {
     "iopub.execute_input": "2021-02-24T02:22:32.311277Z",
     "iopub.status.busy": "2021-02-24T02:22:32.310915Z",
     "iopub.status.idle": "2021-02-24T02:22:32.318759Z",
     "shell.execute_reply": "2021-02-24T02:22:32.318430Z"
    },
    "papermill": {
     "duration": 0.022691,
     "end_time": "2021-02-24T02:22:32.318848",
     "exception": false,
     "start_time": "2021-02-24T02:22:32.296157",
     "status": "completed"
    },
    "tags": []
   },
   "outputs": [],
   "source": [
    "RANDOM_STATES_ITER = iter(np.random.randint(0, np.iinfo(np.int32).max, size=100000))"
   ]
  },
  {
   "cell_type": "code",
   "execution_count": 7,
   "metadata": {
    "execution": {
     "iopub.execute_input": "2021-02-24T02:22:32.346911Z",
     "iopub.status.busy": "2021-02-24T02:22:32.346542Z",
     "iopub.status.idle": "2021-02-24T02:22:32.353820Z",
     "shell.execute_reply": "2021-02-24T02:22:32.353447Z"
    },
    "papermill": {
     "duration": 0.021996,
     "end_time": "2021-02-24T02:22:32.353911",
     "exception": false,
     "start_time": "2021-02-24T02:22:32.331915",
     "status": "completed"
    },
    "tags": []
   },
   "outputs": [],
   "source": [
    "# n_init parameter for DeltaSpectralClustering\n",
    "# a high number should produce more stable final solutions\n",
    "SC_N_INIT = 50"
   ]
  },
  {
   "cell_type": "markdown",
   "metadata": {
    "papermill": {
     "duration": 0.012692,
     "end_time": "2021-02-24T02:22:32.379602",
     "exception": false,
     "start_time": "2021-02-24T02:22:32.366910",
     "status": "completed"
    },
    "tags": []
   },
   "source": [
    "## Consensus clustering"
   ]
  },
  {
   "cell_type": "code",
   "execution_count": 8,
   "metadata": {
    "execution": {
     "iopub.execute_input": "2021-02-24T02:22:32.407917Z",
     "iopub.status.busy": "2021-02-24T02:22:32.407548Z",
     "iopub.status.idle": "2021-02-24T02:22:32.416166Z",
     "shell.execute_reply": "2021-02-24T02:22:32.415785Z"
    },
    "papermill": {
     "duration": 0.023969,
     "end_time": "2021-02-24T02:22:32.416258",
     "exception": false,
     "start_time": "2021-02-24T02:22:32.392289",
     "status": "completed"
    },
    "tags": []
   },
   "outputs": [
    {
     "data": {
      "text/plain": [
       "{'K_MIN': 2, 'K_MAX': 60}"
      ]
     },
     "metadata": {},
     "output_type": "display_data"
    }
   ],
   "source": [
    "CLUSTERING_OPTIONS = {}\n",
    "\n",
    "CLUSTERING_OPTIONS[\"K_MIN\"] = 2\n",
    "CLUSTERING_OPTIONS[\"K_MAX\"] = 60\n",
    "\n",
    "display(CLUSTERING_OPTIONS)"
   ]
  },
  {
   "cell_type": "code",
   "execution_count": 9,
   "metadata": {
    "execution": {
     "iopub.execute_input": "2021-02-24T02:22:32.444991Z",
     "iopub.status.busy": "2021-02-24T02:22:32.444561Z",
     "iopub.status.idle": "2021-02-24T02:22:32.452878Z",
     "shell.execute_reply": "2021-02-24T02:22:32.453204Z"
    },
    "papermill": {
     "duration": 0.023797,
     "end_time": "2021-02-24T02:22:32.453315",
     "exception": false,
     "start_time": "2021-02-24T02:22:32.429518",
     "status": "completed"
    },
    "tags": []
   },
   "outputs": [
    {
     "data": {
      "text/plain": [
       "PosixPath('/home/miltondp/projects/labs/greenelab/phenoplier/base3/results/clustering/consensus_clustering')"
      ]
     },
     "metadata": {},
     "output_type": "display_data"
    }
   ],
   "source": [
    "# output dir for this notebook\n",
    "RESULTS_DIR = Path(conf.RESULTS[\"CLUSTERING_DIR\"], \"consensus_clustering\").resolve()\n",
    "RESULTS_DIR.mkdir(parents=True, exist_ok=True)\n",
    "\n",
    "display(RESULTS_DIR)"
   ]
  },
  {
   "cell_type": "markdown",
   "metadata": {
    "papermill": {
     "duration": 0.012972,
     "end_time": "2021-02-24T02:22:32.479590",
     "exception": false,
     "start_time": "2021-02-24T02:22:32.466618",
     "status": "completed"
    },
    "tags": []
   },
   "source": [
    "# Load ensemble"
   ]
  },
  {
   "cell_type": "code",
   "execution_count": 10,
   "metadata": {
    "execution": {
     "iopub.execute_input": "2021-02-24T02:22:32.508471Z",
     "iopub.status.busy": "2021-02-24T02:22:32.508105Z",
     "iopub.status.idle": "2021-02-24T02:22:32.517233Z",
     "shell.execute_reply": "2021-02-24T02:22:32.516897Z"
    },
    "papermill": {
     "duration": 0.024365,
     "end_time": "2021-02-24T02:22:32.517321",
     "exception": false,
     "start_time": "2021-02-24T02:22:32.492956",
     "status": "completed"
    },
    "tags": []
   },
   "outputs": [
    {
     "data": {
      "text/plain": [
       "PosixPath('/home/miltondp/projects/labs/greenelab/phenoplier/base3/results/clustering/consensus_clustering/ensemble.npy')"
      ]
     },
     "metadata": {},
     "output_type": "display_data"
    }
   ],
   "source": [
    "output_file = Path(RESULTS_DIR, \"ensemble.npy\").resolve()\n",
    "display(output_file)"
   ]
  },
  {
   "cell_type": "code",
   "execution_count": 11,
   "metadata": {
    "execution": {
     "iopub.execute_input": "2021-02-24T02:22:32.546607Z",
     "iopub.status.busy": "2021-02-24T02:22:32.546241Z",
     "iopub.status.idle": "2021-02-24T02:22:32.582059Z",
     "shell.execute_reply": "2021-02-24T02:22:32.581657Z"
    },
    "papermill": {
     "duration": 0.051339,
     "end_time": "2021-02-24T02:22:32.582186",
     "exception": false,
     "start_time": "2021-02-24T02:22:32.530847",
     "status": "completed"
    },
    "tags": []
   },
   "outputs": [],
   "source": [
    "full_ensemble = np.load(output_file)"
   ]
  },
  {
   "cell_type": "code",
   "execution_count": 12,
   "metadata": {
    "execution": {
     "iopub.execute_input": "2021-02-24T02:22:32.617672Z",
     "iopub.status.busy": "2021-02-24T02:22:32.617299Z",
     "iopub.status.idle": "2021-02-24T02:22:32.625446Z",
     "shell.execute_reply": "2021-02-24T02:22:32.625110Z"
    },
    "papermill": {
     "duration": 0.02629,
     "end_time": "2021-02-24T02:22:32.625541",
     "exception": false,
     "start_time": "2021-02-24T02:22:32.599251",
     "status": "completed"
    },
    "tags": []
   },
   "outputs": [
    {
     "data": {
      "text/plain": [
       "(4428, 3749)"
      ]
     },
     "metadata": {},
     "output_type": "display_data"
    }
   ],
   "source": [
    "display(full_ensemble.shape)"
   ]
  },
  {
   "cell_type": "markdown",
   "metadata": {
    "papermill": {
     "duration": 0.013991,
     "end_time": "2021-02-24T02:22:32.653980",
     "exception": false,
     "start_time": "2021-02-24T02:22:32.639989",
     "status": "completed"
    },
    "tags": []
   },
   "source": [
    "# Load ensemble coassociation distance matrix"
   ]
  },
  {
   "cell_type": "code",
   "execution_count": 13,
   "metadata": {
    "execution": {
     "iopub.execute_input": "2021-02-24T02:22:32.683521Z",
     "iopub.status.busy": "2021-02-24T02:22:32.683044Z",
     "iopub.status.idle": "2021-02-24T02:22:32.691425Z",
     "shell.execute_reply": "2021-02-24T02:22:32.691736Z"
    },
    "papermill": {
     "duration": 0.024291,
     "end_time": "2021-02-24T02:22:32.691848",
     "exception": false,
     "start_time": "2021-02-24T02:22:32.667557",
     "status": "completed"
    },
    "tags": []
   },
   "outputs": [
    {
     "data": {
      "text/plain": [
       "PosixPath('/home/miltondp/projects/labs/greenelab/phenoplier/base3/results/clustering/consensus_clustering/ensemble_coassoc_matrix.npy')"
      ]
     },
     "metadata": {},
     "output_type": "display_data"
    }
   ],
   "source": [
    "output_file = Path(RESULTS_DIR, \"ensemble_coassoc_matrix.npy\").resolve()\n",
    "display(output_file)"
   ]
  },
  {
   "cell_type": "code",
   "execution_count": 14,
   "metadata": {
    "execution": {
     "iopub.execute_input": "2021-02-24T02:22:32.721957Z",
     "iopub.status.busy": "2021-02-24T02:22:32.721590Z",
     "iopub.status.idle": "2021-02-24T02:22:32.753150Z",
     "shell.execute_reply": "2021-02-24T02:22:32.752649Z"
    },
    "papermill": {
     "duration": 0.047344,
     "end_time": "2021-02-24T02:22:32.753264",
     "exception": false,
     "start_time": "2021-02-24T02:22:32.705920",
     "status": "completed"
    },
    "tags": []
   },
   "outputs": [],
   "source": [
    "ensemble_coassoc_matrix = np.load(output_file)"
   ]
  },
  {
   "cell_type": "code",
   "execution_count": 15,
   "metadata": {
    "execution": {
     "iopub.execute_input": "2021-02-24T02:22:32.789339Z",
     "iopub.status.busy": "2021-02-24T02:22:32.788965Z",
     "iopub.status.idle": "2021-02-24T02:22:32.797029Z",
     "shell.execute_reply": "2021-02-24T02:22:32.796636Z"
    },
    "papermill": {
     "duration": 0.025923,
     "end_time": "2021-02-24T02:22:32.797120",
     "exception": false,
     "start_time": "2021-02-24T02:22:32.771197",
     "status": "completed"
    },
    "tags": []
   },
   "outputs": [
    {
     "data": {
      "text/plain": [
       "(3749, 3749)"
      ]
     },
     "metadata": {},
     "output_type": "display_data"
    }
   ],
   "source": [
    "display(ensemble_coassoc_matrix.shape)"
   ]
  },
  {
   "cell_type": "code",
   "execution_count": 16,
   "metadata": {
    "execution": {
     "iopub.execute_input": "2021-02-24T02:22:32.827742Z",
     "iopub.status.busy": "2021-02-24T02:22:32.827371Z",
     "iopub.status.idle": "2021-02-24T02:22:32.835717Z",
     "shell.execute_reply": "2021-02-24T02:22:32.835411Z"
    },
    "papermill": {
     "duration": 0.024434,
     "end_time": "2021-02-24T02:22:32.835809",
     "exception": false,
     "start_time": "2021-02-24T02:22:32.811375",
     "status": "completed"
    },
    "tags": []
   },
   "outputs": [
    {
     "data": {
      "text/plain": [
       "array([[0.        , 0.05638587, 0.05412138, ..., 0.59986413, 0.66148571,\n",
       "        0.66757246],\n",
       "       [0.05638587, 0.        , 0.02740036, ..., 0.60144928, 0.66011429,\n",
       "        0.66530797],\n",
       "       [0.05412138, 0.02740036, 0.        , ..., 0.59805254, 0.66125714,\n",
       "        0.66281703],\n",
       "       ...,\n",
       "       [0.59986413, 0.60144928, 0.59805254, ..., 0.        , 0.6699339 ,\n",
       "        0.66531165],\n",
       "       [0.66148571, 0.66011429, 0.66125714, ..., 0.6699339 , 0.        ,\n",
       "        0.58627764],\n",
       "       [0.66757246, 0.66530797, 0.66281703, ..., 0.66531165, 0.58627764,\n",
       "        0.        ]])"
      ]
     },
     "metadata": {},
     "output_type": "display_data"
    }
   ],
   "source": [
    "display(ensemble_coassoc_matrix)"
   ]
  },
  {
   "cell_type": "markdown",
   "metadata": {
    "papermill": {
     "duration": 0.014139,
     "end_time": "2021-02-24T02:22:32.864898",
     "exception": false,
     "start_time": "2021-02-24T02:22:32.850759",
     "status": "completed"
    },
    "tags": []
   },
   "source": [
    "# Consensus clustering"
   ]
  },
  {
   "cell_type": "code",
   "execution_count": 17,
   "metadata": {
    "execution": {
     "iopub.execute_input": "2021-02-24T02:22:32.896102Z",
     "iopub.status.busy": "2021-02-24T02:22:32.895724Z",
     "iopub.status.idle": "2021-02-24T02:22:33.214704Z",
     "shell.execute_reply": "2021-02-24T02:22:33.214312Z"
    },
    "papermill": {
     "duration": 0.3358,
     "end_time": "2021-02-24T02:22:33.214797",
     "exception": false,
     "start_time": "2021-02-24T02:22:32.878997",
     "status": "completed"
    },
    "tags": []
   },
   "outputs": [],
   "source": [
    "from concurrent.futures import ProcessPoolExecutor, as_completed\n",
    "\n",
    "from tqdm import tqdm\n",
    "\n",
    "from clustering.ensembles.utils import (\n",
    "    run_method_and_compute_agreement,\n",
    ")\n",
    "from clustering.ensembles.eac import (\n",
    "    eac_single_coassoc_matrix,\n",
    "    eac_complete_coassoc_matrix,\n",
    "    eac_average_coassoc_matrix,\n",
    ")\n",
    "from clustering.ensembles.spectral import scc"
   ]
  },
  {
   "cell_type": "markdown",
   "metadata": {
    "papermill": {
     "duration": 0.016004,
     "end_time": "2021-02-24T02:22:33.245438",
     "exception": false,
     "start_time": "2021-02-24T02:22:33.229434",
     "status": "completed"
    },
    "tags": []
   },
   "source": [
    "Define spectral consensus clustering methods with delta values found in pre-analysis:"
   ]
  },
  {
   "cell_type": "code",
   "execution_count": 18,
   "metadata": {
    "execution": {
     "iopub.execute_input": "2021-02-24T02:22:33.279221Z",
     "iopub.status.busy": "2021-02-24T02:22:33.278835Z",
     "iopub.status.idle": "2021-02-24T02:22:33.288675Z",
     "shell.execute_reply": "2021-02-24T02:22:33.289016Z"
    },
    "papermill": {
     "duration": 0.0285,
     "end_time": "2021-02-24T02:22:33.289127",
     "exception": false,
     "start_time": "2021-02-24T02:22:33.260627",
     "status": "completed"
    },
    "tags": []
   },
   "outputs": [],
   "source": [
    "def scc_020(coassoc_distance_matrix, k, **kwargs):\n",
    "    return scc(\n",
    "        coassoc_distance_matrix,\n",
    "        k,\n",
    "        delta=0.20,\n",
    "        ensemble_is_coassoc_matrix=True,\n",
    "        **kwargs\n",
    "    )\n",
    "\n",
    "\n",
    "def scc_025(coassoc_distance_matrix, k, **kwargs):\n",
    "    return scc(\n",
    "        coassoc_distance_matrix,\n",
    "        k,\n",
    "        delta=0.25,\n",
    "        ensemble_is_coassoc_matrix=True,\n",
    "        **kwargs\n",
    "    )\n",
    "\n",
    "\n",
    "def scc_030(coassoc_distance_matrix, k, **kwargs):\n",
    "    return scc(\n",
    "        coassoc_distance_matrix,\n",
    "        k,\n",
    "        delta=0.30,\n",
    "        ensemble_is_coassoc_matrix=True,\n",
    "        **kwargs\n",
    "    )\n",
    "\n",
    "\n",
    "def scc_050(coassoc_distance_matrix, k, **kwargs):\n",
    "    return scc(\n",
    "        coassoc_distance_matrix,\n",
    "        k,\n",
    "        delta=0.50,\n",
    "        ensemble_is_coassoc_matrix=True,\n",
    "        **kwargs\n",
    "    )"
   ]
  },
  {
   "cell_type": "code",
   "execution_count": 19,
   "metadata": {
    "execution": {
     "iopub.execute_input": "2021-02-24T02:22:33.320745Z",
     "iopub.status.busy": "2021-02-24T02:22:33.320337Z",
     "iopub.status.idle": "2021-02-24T02:22:33.330974Z",
     "shell.execute_reply": "2021-02-24T02:22:33.330605Z"
    },
    "papermill": {
     "duration": 0.027298,
     "end_time": "2021-02-24T02:22:33.331060",
     "exception": false,
     "start_time": "2021-02-24T02:22:33.303762",
     "status": "completed"
    },
    "tags": []
   },
   "outputs": [
    {
     "data": {
      "text/plain": [
       "{<function clustering.ensembles.eac.eac_average_coassoc_matrix(coassoc_matrix, k, **kwargs)>,\n",
       " <function clustering.ensembles.eac.eac_complete_coassoc_matrix(coassoc_matrix, k, **kwargs)>,\n",
       " <function clustering.ensembles.eac.eac_single_coassoc_matrix(coassoc_matrix, k, **kwargs)>,\n",
       " <function __main__.scc_020(coassoc_distance_matrix, k, **kwargs)>,\n",
       " <function __main__.scc_025(coassoc_distance_matrix, k, **kwargs)>,\n",
       " <function __main__.scc_030(coassoc_distance_matrix, k, **kwargs)>,\n",
       " <function __main__.scc_050(coassoc_distance_matrix, k, **kwargs)>}"
      ]
     },
     "metadata": {},
     "output_type": "display_data"
    }
   ],
   "source": [
    "all_consensus_methods = set(\n",
    "    (\n",
    "        eac_single_coassoc_matrix,\n",
    "        eac_complete_coassoc_matrix,\n",
    "        eac_average_coassoc_matrix,\n",
    "        scc_020,\n",
    "        scc_025,\n",
    "        scc_030,\n",
    "        scc_050,\n",
    "    )\n",
    ")\n",
    "display(all_consensus_methods)"
   ]
  },
  {
   "cell_type": "code",
   "execution_count": 20,
   "metadata": {
    "execution": {
     "iopub.execute_input": "2021-02-24T02:22:33.363699Z",
     "iopub.status.busy": "2021-02-24T02:22:33.363327Z",
     "iopub.status.idle": "2021-02-24T04:03:18.188939Z",
     "shell.execute_reply": "2021-02-24T04:03:18.188522Z"
    },
    "papermill": {
     "duration": 6044.843554,
     "end_time": "2021-02-24T04:03:18.189039",
     "exception": false,
     "start_time": "2021-02-24T02:22:33.345485",
     "status": "completed"
    },
    "tags": []
   },
   "outputs": [
    {
     "name": "stderr",
     "output_type": "stream",
     "text": [
      "\r",
      "  0%|                                                                       | 0/413 [00:00<?, ?it/s]"
     ]
    },
    {
     "name": "stderr",
     "output_type": "stream",
     "text": [
      "\r",
      "  0%|▏                                                            | 1/413 [00:27<3:06:28, 27.16s/it]"
     ]
    },
    {
     "name": "stderr",
     "output_type": "stream",
     "text": [
      "\r",
      "  0%|▎                                                            | 2/413 [00:28<2:12:32, 19.35s/it]"
     ]
    },
    {
     "name": "stderr",
     "output_type": "stream",
     "text": [
      "\r",
      "  1%|▍                                                            | 3/413 [00:30<1:36:48, 14.17s/it]"
     ]
    },
    {
     "name": "stderr",
     "output_type": "stream",
     "text": [
      "\r",
      "  1%|▌                                                            | 4/413 [00:58<2:05:59, 18.48s/it]"
     ]
    },
    {
     "name": "stderr",
     "output_type": "stream",
     "text": [
      "\r",
      "  1%|▋                                                            | 5/413 [01:01<1:32:49, 13.65s/it]"
     ]
    },
    {
     "name": "stderr",
     "output_type": "stream",
     "text": [
      "\r",
      "  1%|▉                                                            | 6/413 [01:05<1:13:01, 10.77s/it]"
     ]
    },
    {
     "name": "stderr",
     "output_type": "stream",
     "text": [
      "\r",
      "  2%|█                                                            | 7/413 [01:34<1:49:44, 16.22s/it]"
     ]
    },
    {
     "name": "stderr",
     "output_type": "stream",
     "text": [
      "\r",
      "  2%|█▏                                                           | 8/413 [01:37<1:23:52, 12.43s/it]"
     ]
    },
    {
     "name": "stderr",
     "output_type": "stream",
     "text": [
      "\r",
      "  2%|█▎                                                           | 9/413 [01:43<1:09:39, 10.34s/it]"
     ]
    },
    {
     "name": "stderr",
     "output_type": "stream",
     "text": [
      "\r",
      "  2%|█▍                                                          | 10/413 [02:12<1:48:15, 16.12s/it]"
     ]
    },
    {
     "name": "stderr",
     "output_type": "stream",
     "text": [
      "\r",
      "  3%|█▌                                                          | 11/413 [02:17<1:25:21, 12.74s/it]"
     ]
    },
    {
     "name": "stderr",
     "output_type": "stream",
     "text": [
      "\r",
      "  3%|█▋                                                          | 12/413 [02:24<1:14:03, 11.08s/it]"
     ]
    },
    {
     "name": "stderr",
     "output_type": "stream",
     "text": [
      "\r",
      "  3%|█▉                                                          | 13/413 [02:56<1:54:09, 17.12s/it]"
     ]
    },
    {
     "name": "stderr",
     "output_type": "stream",
     "text": [
      "\r",
      "  3%|██                                                          | 14/413 [03:01<1:30:41, 13.64s/it]"
     ]
    },
    {
     "name": "stderr",
     "output_type": "stream",
     "text": [
      "\r",
      "  4%|██▏                                                         | 15/413 [03:10<1:19:58, 12.06s/it]"
     ]
    },
    {
     "name": "stderr",
     "output_type": "stream",
     "text": [
      "\r",
      "  4%|██▎                                                         | 16/413 [03:41<1:58:36, 17.93s/it]"
     ]
    },
    {
     "name": "stderr",
     "output_type": "stream",
     "text": [
      "\r",
      "  4%|██▍                                                         | 17/413 [03:47<1:34:16, 14.28s/it]"
     ]
    },
    {
     "name": "stderr",
     "output_type": "stream",
     "text": [
      "\r",
      "  4%|██▌                                                         | 18/413 [03:57<1:24:40, 12.86s/it]"
     ]
    },
    {
     "name": "stderr",
     "output_type": "stream",
     "text": [
      "\r",
      "  5%|██▊                                                         | 19/413 [04:29<2:02:38, 18.68s/it]"
     ]
    },
    {
     "name": "stderr",
     "output_type": "stream",
     "text": [
      "\r",
      "  5%|██▉                                                         | 20/413 [04:35<1:38:28, 15.04s/it]"
     ]
    },
    {
     "name": "stderr",
     "output_type": "stream",
     "text": [
      "\r",
      "  5%|███                                                         | 21/413 [04:46<1:29:47, 13.74s/it]"
     ]
    },
    {
     "name": "stderr",
     "output_type": "stream",
     "text": [
      "\r",
      "  5%|███▏                                                        | 22/413 [05:19<2:07:20, 19.54s/it]"
     ]
    },
    {
     "name": "stderr",
     "output_type": "stream",
     "text": [
      "\r",
      "  6%|███▎                                                        | 23/413 [05:26<1:42:52, 15.83s/it]"
     ]
    },
    {
     "name": "stderr",
     "output_type": "stream",
     "text": [
      "\r",
      "  6%|███▍                                                        | 24/413 [05:38<1:35:23, 14.71s/it]"
     ]
    },
    {
     "name": "stderr",
     "output_type": "stream",
     "text": [
      "\r",
      "  6%|███▋                                                        | 25/413 [06:11<2:09:42, 20.06s/it]"
     ]
    },
    {
     "name": "stderr",
     "output_type": "stream",
     "text": [
      "\r",
      "  6%|███▊                                                        | 26/413 [06:19<1:46:16, 16.48s/it]"
     ]
    },
    {
     "name": "stderr",
     "output_type": "stream",
     "text": [
      "\r",
      "  7%|███▉                                                        | 27/413 [06:32<1:38:51, 15.37s/it]"
     ]
    },
    {
     "name": "stderr",
     "output_type": "stream",
     "text": [
      "\r",
      "  7%|████                                                        | 28/413 [07:05<2:13:43, 20.84s/it]"
     ]
    },
    {
     "name": "stderr",
     "output_type": "stream",
     "text": [
      "\r",
      "  7%|████▏                                                       | 29/413 [07:14<1:50:21, 17.24s/it]"
     ]
    },
    {
     "name": "stderr",
     "output_type": "stream",
     "text": [
      "\r",
      "  7%|████▎                                                       | 30/413 [07:27<1:42:15, 16.02s/it]"
     ]
    },
    {
     "name": "stderr",
     "output_type": "stream",
     "text": [
      "\r",
      "  8%|████▌                                                       | 31/413 [08:02<2:17:40, 21.62s/it]"
     ]
    },
    {
     "name": "stderr",
     "output_type": "stream",
     "text": [
      "\r",
      "  8%|████▋                                                       | 32/413 [08:12<1:55:12, 18.14s/it]"
     ]
    },
    {
     "name": "stderr",
     "output_type": "stream",
     "text": [
      "\r",
      "  8%|████▊                                                       | 33/413 [08:26<1:45:49, 16.71s/it]"
     ]
    },
    {
     "name": "stderr",
     "output_type": "stream",
     "text": [
      "\r",
      "  8%|████▉                                                       | 34/413 [09:01<2:20:47, 22.29s/it]"
     ]
    },
    {
     "name": "stderr",
     "output_type": "stream",
     "text": [
      "\r",
      "  8%|█████                                                       | 35/413 [09:12<1:58:50, 18.86s/it]"
     ]
    },
    {
     "name": "stderr",
     "output_type": "stream",
     "text": [
      "\r",
      "  9%|█████▏                                                      | 36/413 [09:26<1:49:15, 17.39s/it]"
     ]
    },
    {
     "name": "stderr",
     "output_type": "stream",
     "text": [
      "\r",
      "  9%|█████▍                                                      | 37/413 [10:02<2:24:14, 23.02s/it]"
     ]
    },
    {
     "name": "stderr",
     "output_type": "stream",
     "text": [
      "\r",
      "  9%|█████▌                                                      | 38/413 [10:13<2:02:36, 19.62s/it]"
     ]
    },
    {
     "name": "stderr",
     "output_type": "stream",
     "text": [
      "\r",
      "  9%|█████▋                                                      | 39/413 [10:28<1:52:51, 18.10s/it]"
     ]
    },
    {
     "name": "stderr",
     "output_type": "stream",
     "text": [
      "\r",
      " 10%|█████▊                                                      | 40/413 [11:05<2:27:16, 23.69s/it]"
     ]
    },
    {
     "name": "stderr",
     "output_type": "stream",
     "text": [
      "\r",
      " 10%|█████▉                                                      | 41/413 [11:17<2:05:29, 20.24s/it]"
     ]
    },
    {
     "name": "stderr",
     "output_type": "stream",
     "text": [
      "\r",
      " 10%|██████                                                      | 42/413 [11:32<1:55:28, 18.68s/it]"
     ]
    },
    {
     "name": "stderr",
     "output_type": "stream",
     "text": [
      "\r",
      " 10%|██████▏                                                     | 43/413 [12:09<2:29:58, 24.32s/it]"
     ]
    },
    {
     "name": "stderr",
     "output_type": "stream",
     "text": [
      "\r",
      " 11%|██████▍                                                     | 44/413 [12:23<2:08:46, 20.94s/it]"
     ]
    },
    {
     "name": "stderr",
     "output_type": "stream",
     "text": [
      "\r",
      " 11%|██████▌                                                     | 45/413 [12:38<1:58:26, 19.31s/it]"
     ]
    },
    {
     "name": "stderr",
     "output_type": "stream",
     "text": [
      "\r",
      " 11%|██████▋                                                     | 46/413 [13:16<2:32:47, 24.98s/it]"
     ]
    },
    {
     "name": "stderr",
     "output_type": "stream",
     "text": [
      "\r",
      " 11%|██████▊                                                     | 47/413 [13:30<2:10:55, 21.46s/it]"
     ]
    },
    {
     "name": "stderr",
     "output_type": "stream",
     "text": [
      "\r",
      " 12%|██████▉                                                     | 48/413 [13:46<2:01:26, 19.96s/it]"
     ]
    },
    {
     "name": "stderr",
     "output_type": "stream",
     "text": [
      "\r",
      " 12%|███████                                                     | 49/413 [14:25<2:35:24, 25.62s/it]"
     ]
    },
    {
     "name": "stderr",
     "output_type": "stream",
     "text": [
      "\r",
      " 12%|███████▎                                                    | 50/413 [14:39<2:13:53, 22.13s/it]"
     ]
    },
    {
     "name": "stderr",
     "output_type": "stream",
     "text": [
      "\r",
      " 12%|███████▍                                                    | 51/413 [14:56<2:04:26, 20.63s/it]"
     ]
    },
    {
     "name": "stderr",
     "output_type": "stream",
     "text": [
      "\r",
      " 13%|███████▌                                                    | 52/413 [15:35<2:37:39, 26.20s/it]"
     ]
    },
    {
     "name": "stderr",
     "output_type": "stream",
     "text": [
      "\r",
      " 13%|███████▋                                                    | 53/413 [15:50<2:16:22, 22.73s/it]"
     ]
    },
    {
     "name": "stderr",
     "output_type": "stream",
     "text": [
      "\r",
      " 13%|███████▊                                                    | 54/413 [16:07<2:06:22, 21.12s/it]"
     ]
    },
    {
     "name": "stderr",
     "output_type": "stream",
     "text": [
      "\r",
      " 13%|███████▉                                                    | 55/413 [16:47<2:40:06, 26.83s/it]"
     ]
    },
    {
     "name": "stderr",
     "output_type": "stream",
     "text": [
      "\r",
      " 14%|████████▏                                                   | 56/413 [17:02<2:18:28, 23.27s/it]"
     ]
    },
    {
     "name": "stderr",
     "output_type": "stream",
     "text": [
      "\r",
      " 14%|████████▎                                                   | 57/413 [17:20<2:08:54, 21.73s/it]"
     ]
    },
    {
     "name": "stderr",
     "output_type": "stream",
     "text": [
      "\r",
      " 14%|████████▍                                                   | 58/413 [17:44<2:11:31, 22.23s/it]"
     ]
    },
    {
     "name": "stderr",
     "output_type": "stream",
     "text": [
      "\r",
      " 14%|████████▌                                                   | 59/413 [18:01<2:01:29, 20.59s/it]"
     ]
    },
    {
     "name": "stderr",
     "output_type": "stream",
     "text": [
      "\r",
      " 15%|████████▋                                                   | 60/413 [18:08<1:38:20, 16.71s/it]"
     ]
    },
    {
     "name": "stderr",
     "output_type": "stream",
     "text": [
      "\r",
      " 15%|████████▊                                                   | 61/413 [18:16<1:21:31, 13.90s/it]"
     ]
    },
    {
     "name": "stderr",
     "output_type": "stream",
     "text": [
      "\r",
      " 15%|█████████                                                   | 62/413 [18:26<1:14:46, 12.78s/it]"
     ]
    },
    {
     "name": "stderr",
     "output_type": "stream",
     "text": [
      "\r",
      " 15%|█████████▏                                                  | 63/413 [18:35<1:09:16, 11.87s/it]"
     ]
    },
    {
     "name": "stderr",
     "output_type": "stream",
     "text": [
      "\r",
      " 15%|█████████▎                                                  | 64/413 [18:43<1:01:42, 10.61s/it]"
     ]
    },
    {
     "name": "stderr",
     "output_type": "stream",
     "text": [
      "\r",
      " 16%|█████████▍                                                  | 65/413 [18:54<1:01:49, 10.66s/it]"
     ]
    },
    {
     "name": "stderr",
     "output_type": "stream",
     "text": [
      "\r",
      " 16%|█████████▌                                                  | 66/413 [19:04<1:00:48, 10.51s/it]"
     ]
    },
    {
     "name": "stderr",
     "output_type": "stream",
     "text": [
      "\r",
      " 16%|██████████                                                    | 67/413 [19:12<56:09,  9.74s/it]"
     ]
    },
    {
     "name": "stderr",
     "output_type": "stream",
     "text": [
      "\r",
      " 16%|█████████▉                                                  | 68/413 [19:24<1:00:38, 10.55s/it]"
     ]
    },
    {
     "name": "stderr",
     "output_type": "stream",
     "text": [
      "\r",
      " 17%|██████████                                                  | 69/413 [19:35<1:00:47, 10.60s/it]"
     ]
    },
    {
     "name": "stderr",
     "output_type": "stream",
     "text": [
      "\r",
      " 17%|██████████▌                                                   | 70/413 [19:44<57:11, 10.00s/it]"
     ]
    },
    {
     "name": "stderr",
     "output_type": "stream",
     "text": [
      "\r",
      " 17%|██████████▎                                                 | 71/413 [19:56<1:01:40, 10.82s/it]"
     ]
    },
    {
     "name": "stderr",
     "output_type": "stream",
     "text": [
      "\r",
      " 17%|██████████▍                                                 | 72/413 [20:08<1:02:04, 10.92s/it]"
     ]
    },
    {
     "name": "stderr",
     "output_type": "stream",
     "text": [
      "\r",
      " 18%|██████████▉                                                   | 73/413 [20:17<59:03, 10.42s/it]"
     ]
    },
    {
     "name": "stderr",
     "output_type": "stream",
     "text": [
      "\r",
      " 18%|██████████▊                                                 | 74/413 [20:31<1:04:27, 11.41s/it]"
     ]
    },
    {
     "name": "stderr",
     "output_type": "stream",
     "text": [
      "\r",
      " 18%|██████████▉                                                 | 75/413 [20:42<1:04:32, 11.46s/it]"
     ]
    },
    {
     "name": "stderr",
     "output_type": "stream",
     "text": [
      "\r",
      " 18%|███████████                                                 | 76/413 [20:52<1:01:53, 11.02s/it]"
     ]
    },
    {
     "name": "stderr",
     "output_type": "stream",
     "text": [
      "\r",
      " 19%|███████████▏                                                | 77/413 [21:06<1:06:49, 11.93s/it]"
     ]
    },
    {
     "name": "stderr",
     "output_type": "stream",
     "text": [
      "\r",
      " 19%|███████████▎                                                | 78/413 [21:18<1:06:40, 11.94s/it]"
     ]
    },
    {
     "name": "stderr",
     "output_type": "stream",
     "text": [
      "\r",
      " 19%|███████████▍                                                | 79/413 [21:28<1:03:38, 11.43s/it]"
     ]
    },
    {
     "name": "stderr",
     "output_type": "stream",
     "text": [
      "\r",
      " 19%|███████████▌                                                | 80/413 [21:43<1:08:38, 12.37s/it]"
     ]
    },
    {
     "name": "stderr",
     "output_type": "stream",
     "text": [
      "\r",
      " 20%|███████████▊                                                | 81/413 [21:55<1:08:19, 12.35s/it]"
     ]
    },
    {
     "name": "stderr",
     "output_type": "stream",
     "text": [
      "\r",
      " 20%|███████████▉                                                | 82/413 [22:06<1:05:42, 11.91s/it]"
     ]
    },
    {
     "name": "stderr",
     "output_type": "stream",
     "text": [
      "\r",
      " 20%|████████████                                                | 83/413 [22:21<1:10:34, 12.83s/it]"
     ]
    },
    {
     "name": "stderr",
     "output_type": "stream",
     "text": [
      "\r",
      " 20%|████████████▏                                               | 84/413 [22:34<1:10:31, 12.86s/it]"
     ]
    },
    {
     "name": "stderr",
     "output_type": "stream",
     "text": [
      "\r",
      " 21%|████████████▎                                               | 85/413 [22:47<1:10:23, 12.88s/it]"
     ]
    },
    {
     "name": "stderr",
     "output_type": "stream",
     "text": [
      "\r",
      " 21%|████████████▍                                               | 86/413 [23:02<1:14:20, 13.64s/it]"
     ]
    },
    {
     "name": "stderr",
     "output_type": "stream",
     "text": [
      "\r",
      " 21%|████████████▋                                               | 87/413 [23:16<1:13:10, 13.47s/it]"
     ]
    },
    {
     "name": "stderr",
     "output_type": "stream",
     "text": [
      "\r",
      " 21%|████████████▊                                               | 88/413 [23:29<1:13:10, 13.51s/it]"
     ]
    },
    {
     "name": "stderr",
     "output_type": "stream",
     "text": [
      "\r",
      " 22%|████████████▉                                               | 89/413 [23:45<1:17:14, 14.30s/it]"
     ]
    },
    {
     "name": "stderr",
     "output_type": "stream",
     "text": [
      "\r",
      " 22%|█████████████                                               | 90/413 [23:59<1:15:30, 14.03s/it]"
     ]
    },
    {
     "name": "stderr",
     "output_type": "stream",
     "text": [
      "\r",
      " 22%|█████████████▏                                              | 91/413 [24:13<1:16:00, 14.16s/it]"
     ]
    },
    {
     "name": "stderr",
     "output_type": "stream",
     "text": [
      "\r",
      " 22%|█████████████▎                                              | 92/413 [24:31<1:21:34, 15.25s/it]"
     ]
    },
    {
     "name": "stderr",
     "output_type": "stream",
     "text": [
      "\r",
      " 23%|█████████████▌                                              | 93/413 [24:44<1:18:37, 14.74s/it]"
     ]
    },
    {
     "name": "stderr",
     "output_type": "stream",
     "text": [
      "\r",
      " 23%|█████████████▋                                              | 94/413 [24:59<1:18:44, 14.81s/it]"
     ]
    },
    {
     "name": "stderr",
     "output_type": "stream",
     "text": [
      "\r",
      " 23%|█████████████▊                                              | 95/413 [25:19<1:25:44, 16.18s/it]"
     ]
    },
    {
     "name": "stderr",
     "output_type": "stream",
     "text": [
      "\r",
      " 23%|█████████████▉                                              | 96/413 [25:33<1:21:37, 15.45s/it]"
     ]
    },
    {
     "name": "stderr",
     "output_type": "stream",
     "text": [
      "\r",
      " 23%|██████████████                                              | 97/413 [25:48<1:21:17, 15.44s/it]"
     ]
    },
    {
     "name": "stderr",
     "output_type": "stream",
     "text": [
      "\r",
      " 24%|██████████████▏                                             | 98/413 [26:08<1:27:50, 16.73s/it]"
     ]
    },
    {
     "name": "stderr",
     "output_type": "stream",
     "text": [
      "\r",
      " 24%|██████████████▍                                             | 99/413 [26:22<1:23:16, 15.91s/it]"
     ]
    },
    {
     "name": "stderr",
     "output_type": "stream",
     "text": [
      "\r",
      " 24%|██████████████▎                                            | 100/413 [26:38<1:23:11, 15.95s/it]"
     ]
    },
    {
     "name": "stderr",
     "output_type": "stream",
     "text": [
      "\r",
      " 24%|██████████████▍                                            | 101/413 [26:58<1:30:09, 17.34s/it]"
     ]
    },
    {
     "name": "stderr",
     "output_type": "stream",
     "text": [
      "\r",
      " 25%|██████████████▌                                            | 102/413 [27:13<1:25:09, 16.43s/it]"
     ]
    },
    {
     "name": "stderr",
     "output_type": "stream",
     "text": [
      "\r",
      " 25%|██████████████▋                                            | 103/413 [27:29<1:24:51, 16.43s/it]"
     ]
    },
    {
     "name": "stderr",
     "output_type": "stream",
     "text": [
      "\r",
      " 25%|██████████████▊                                            | 104/413 [27:51<1:33:20, 18.12s/it]"
     ]
    },
    {
     "name": "stderr",
     "output_type": "stream",
     "text": [
      "\r",
      " 25%|███████████████                                            | 105/413 [28:07<1:28:55, 17.32s/it]"
     ]
    },
    {
     "name": "stderr",
     "output_type": "stream",
     "text": [
      "\r",
      " 26%|███████████████▏                                           | 106/413 [28:23<1:27:28, 17.10s/it]"
     ]
    },
    {
     "name": "stderr",
     "output_type": "stream",
     "text": [
      "\r",
      " 26%|███████████████▎                                           | 107/413 [28:46<1:36:31, 18.93s/it]"
     ]
    },
    {
     "name": "stderr",
     "output_type": "stream",
     "text": [
      "\r",
      " 26%|███████████████▍                                           | 108/413 [29:02<1:31:34, 18.02s/it]"
     ]
    },
    {
     "name": "stderr",
     "output_type": "stream",
     "text": [
      "\r",
      " 26%|███████████████▌                                           | 109/413 [29:19<1:29:26, 17.65s/it]"
     ]
    },
    {
     "name": "stderr",
     "output_type": "stream",
     "text": [
      "\r",
      " 27%|███████████████▋                                           | 110/413 [29:43<1:38:09, 19.44s/it]"
     ]
    },
    {
     "name": "stderr",
     "output_type": "stream",
     "text": [
      "\r",
      " 27%|███████████████▊                                           | 111/413 [29:59<1:32:50, 18.45s/it]"
     ]
    },
    {
     "name": "stderr",
     "output_type": "stream",
     "text": [
      "\r",
      " 27%|████████████████                                           | 112/413 [30:16<1:30:32, 18.05s/it]"
     ]
    },
    {
     "name": "stderr",
     "output_type": "stream",
     "text": [
      "\r",
      " 27%|████████████████▏                                          | 113/413 [30:40<1:38:59, 19.80s/it]"
     ]
    },
    {
     "name": "stderr",
     "output_type": "stream",
     "text": [
      "\r",
      " 28%|████████████████▎                                          | 114/413 [30:57<1:35:24, 19.15s/it]"
     ]
    },
    {
     "name": "stderr",
     "output_type": "stream",
     "text": [
      "\r",
      " 28%|████████████████▍                                          | 115/413 [31:15<1:32:59, 18.72s/it]"
     ]
    },
    {
     "name": "stderr",
     "output_type": "stream",
     "text": [
      "\r",
      " 28%|████████████████▌                                          | 116/413 [31:39<1:40:57, 20.39s/it]"
     ]
    },
    {
     "name": "stderr",
     "output_type": "stream",
     "text": [
      "\r",
      " 28%|████████████████▋                                          | 117/413 [31:58<1:37:49, 19.83s/it]"
     ]
    },
    {
     "name": "stderr",
     "output_type": "stream",
     "text": [
      "\r",
      " 29%|████████████████▊                                          | 118/413 [32:04<1:17:13, 15.71s/it]"
     ]
    },
    {
     "name": "stderr",
     "output_type": "stream",
     "text": [
      "\r",
      " 29%|█████████████████                                          | 119/413 [32:17<1:12:51, 14.87s/it]"
     ]
    },
    {
     "name": "stderr",
     "output_type": "stream",
     "text": [
      "\r",
      " 29%|█████████████████▏                                         | 120/413 [32:24<1:00:35, 12.41s/it]"
     ]
    },
    {
     "name": "stderr",
     "output_type": "stream",
     "text": [
      "\r",
      " 29%|█████████████████▊                                           | 121/413 [32:30<51:51, 10.66s/it]"
     ]
    },
    {
     "name": "stderr",
     "output_type": "stream",
     "text": [
      "\r",
      " 30%|██████████████████                                           | 122/413 [32:46<58:34, 12.08s/it]"
     ]
    },
    {
     "name": "stderr",
     "output_type": "stream",
     "text": [
      "\r",
      " 30%|██████████████████▏                                          | 123/413 [32:52<50:48, 10.51s/it]"
     ]
    },
    {
     "name": "stderr",
     "output_type": "stream",
     "text": [
      "\r",
      " 30%|██████████████████▎                                          | 124/413 [32:58<43:34,  9.05s/it]"
     ]
    },
    {
     "name": "stderr",
     "output_type": "stream",
     "text": [
      "\r",
      " 30%|██████████████████▍                                          | 125/413 [33:14<53:19, 11.11s/it]"
     ]
    },
    {
     "name": "stderr",
     "output_type": "stream",
     "text": [
      "\r",
      " 31%|██████████████████▌                                          | 126/413 [33:21<47:22,  9.91s/it]"
     ]
    },
    {
     "name": "stderr",
     "output_type": "stream",
     "text": [
      "\r",
      " 31%|██████████████████▊                                          | 127/413 [33:27<41:45,  8.76s/it]"
     ]
    },
    {
     "name": "stderr",
     "output_type": "stream",
     "text": [
      "\r",
      " 31%|██████████████████▉                                          | 128/413 [33:43<52:16, 11.01s/it]"
     ]
    },
    {
     "name": "stderr",
     "output_type": "stream",
     "text": [
      "\r",
      " 31%|███████████████████                                          | 129/413 [33:52<48:36, 10.27s/it]"
     ]
    },
    {
     "name": "stderr",
     "output_type": "stream",
     "text": [
      "\r",
      " 31%|███████████████████▏                                         | 130/413 [33:58<43:05,  9.14s/it]"
     ]
    },
    {
     "name": "stderr",
     "output_type": "stream",
     "text": [
      "\r",
      " 32%|███████████████████▎                                         | 131/413 [34:14<52:05, 11.08s/it]"
     ]
    },
    {
     "name": "stderr",
     "output_type": "stream",
     "text": [
      "\r",
      " 32%|███████████████████▍                                         | 132/413 [34:24<50:16, 10.73s/it]"
     ]
    },
    {
     "name": "stderr",
     "output_type": "stream",
     "text": [
      "\r",
      " 32%|███████████████████▋                                         | 133/413 [34:31<44:34,  9.55s/it]"
     ]
    },
    {
     "name": "stderr",
     "output_type": "stream",
     "text": [
      "\r",
      " 32%|███████████████████▊                                         | 134/413 [34:47<53:23, 11.48s/it]"
     ]
    },
    {
     "name": "stderr",
     "output_type": "stream",
     "text": [
      "\r",
      " 33%|███████████████████▉                                         | 135/413 [34:57<51:32, 11.12s/it]"
     ]
    },
    {
     "name": "stderr",
     "output_type": "stream",
     "text": [
      "\r",
      " 33%|████████████████████                                         | 136/413 [35:04<45:42,  9.90s/it]"
     ]
    },
    {
     "name": "stderr",
     "output_type": "stream",
     "text": [
      "\r",
      " 33%|████████████████████▏                                        | 137/413 [35:21<54:57, 11.95s/it]"
     ]
    },
    {
     "name": "stderr",
     "output_type": "stream",
     "text": [
      "\r",
      " 33%|████████████████████▍                                        | 138/413 [35:31<52:51, 11.53s/it]"
     ]
    },
    {
     "name": "stderr",
     "output_type": "stream",
     "text": [
      "\r",
      " 34%|████████████████████▌                                        | 139/413 [35:39<46:50, 10.26s/it]"
     ]
    },
    {
     "name": "stderr",
     "output_type": "stream",
     "text": [
      "\r",
      " 34%|████████████████████▋                                        | 140/413 [35:56<56:26, 12.41s/it]"
     ]
    },
    {
     "name": "stderr",
     "output_type": "stream",
     "text": [
      "\r",
      " 34%|████████████████████▊                                        | 141/413 [36:07<53:58, 11.90s/it]"
     ]
    },
    {
     "name": "stderr",
     "output_type": "stream",
     "text": [
      "\r",
      " 34%|████████████████████▉                                        | 142/413 [36:15<48:06, 10.65s/it]"
     ]
    },
    {
     "name": "stderr",
     "output_type": "stream",
     "text": [
      "\r",
      " 35%|█████████████████████                                        | 143/413 [36:33<57:48, 12.85s/it]"
     ]
    },
    {
     "name": "stderr",
     "output_type": "stream",
     "text": [
      "\r",
      " 35%|█████████████████████▎                                       | 144/413 [36:44<55:12, 12.31s/it]"
     ]
    },
    {
     "name": "stderr",
     "output_type": "stream",
     "text": [
      "\r",
      " 35%|█████████████████████▍                                       | 145/413 [36:53<50:56, 11.40s/it]"
     ]
    },
    {
     "name": "stderr",
     "output_type": "stream",
     "text": [
      "\r",
      " 35%|█████████████████████▌                                       | 146/413 [37:10<58:51, 13.23s/it]"
     ]
    },
    {
     "name": "stderr",
     "output_type": "stream",
     "text": [
      "\r",
      " 36%|█████████████████████▋                                       | 147/413 [37:23<58:02, 13.09s/it]"
     ]
    },
    {
     "name": "stderr",
     "output_type": "stream",
     "text": [
      "\r",
      " 36%|█████████████████████▊                                       | 148/413 [37:32<52:02, 11.78s/it]"
     ]
    },
    {
     "name": "stderr",
     "output_type": "stream",
     "text": [
      "\r",
      " 36%|█████████████████████▎                                     | 149/413 [37:51<1:01:14, 13.92s/it]"
     ]
    },
    {
     "name": "stderr",
     "output_type": "stream",
     "text": [
      "\r",
      " 36%|██████████████████████▏                                      | 150/413 [38:03<58:57, 13.45s/it]"
     ]
    },
    {
     "name": "stderr",
     "output_type": "stream",
     "text": [
      "\r",
      " 37%|██████████████████████▎                                      | 151/413 [38:13<54:10, 12.41s/it]"
     ]
    },
    {
     "name": "stderr",
     "output_type": "stream",
     "text": [
      "\r",
      " 37%|█████████████████████▋                                     | 152/413 [38:33<1:03:22, 14.57s/it]"
     ]
    },
    {
     "name": "stderr",
     "output_type": "stream",
     "text": [
      "\r",
      " 37%|█████████████████████▊                                     | 153/413 [38:45<1:00:35, 13.98s/it]"
     ]
    },
    {
     "name": "stderr",
     "output_type": "stream",
     "text": [
      "\r",
      " 37%|██████████████████████▋                                      | 154/413 [38:56<55:31, 12.86s/it]"
     ]
    },
    {
     "name": "stderr",
     "output_type": "stream",
     "text": [
      "\r",
      " 38%|██████████████████████▏                                    | 155/413 [39:17<1:05:55, 15.33s/it]"
     ]
    },
    {
     "name": "stderr",
     "output_type": "stream",
     "text": [
      "\r",
      " 38%|██████████████████████▎                                    | 156/413 [39:29<1:02:22, 14.56s/it]"
     ]
    },
    {
     "name": "stderr",
     "output_type": "stream",
     "text": [
      "\r",
      " 38%|███████████████████████▏                                     | 157/413 [39:40<56:48, 13.32s/it]"
     ]
    },
    {
     "name": "stderr",
     "output_type": "stream",
     "text": [
      "\r",
      " 38%|██████████████████████▌                                    | 158/413 [40:02<1:07:55, 15.98s/it]"
     ]
    },
    {
     "name": "stderr",
     "output_type": "stream",
     "text": [
      "\r",
      " 38%|██████████████████████▋                                    | 159/413 [40:18<1:06:59, 15.83s/it]"
     ]
    },
    {
     "name": "stderr",
     "output_type": "stream",
     "text": [
      "\r",
      " 39%|██████████████████████▊                                    | 160/413 [40:29<1:00:59, 14.47s/it]"
     ]
    },
    {
     "name": "stderr",
     "output_type": "stream",
     "text": [
      "\r",
      " 39%|███████████████████████                                    | 161/413 [40:50<1:09:25, 16.53s/it]"
     ]
    },
    {
     "name": "stderr",
     "output_type": "stream",
     "text": [
      "\r",
      " 39%|███████████████████████▏                                   | 162/413 [41:06<1:08:01, 16.26s/it]"
     ]
    },
    {
     "name": "stderr",
     "output_type": "stream",
     "text": [
      "\r",
      " 39%|███████████████████████▎                                   | 163/413 [41:19<1:03:41, 15.29s/it]"
     ]
    },
    {
     "name": "stderr",
     "output_type": "stream",
     "text": [
      "\r",
      " 40%|███████████████████████▍                                   | 164/413 [41:42<1:13:04, 17.61s/it]"
     ]
    },
    {
     "name": "stderr",
     "output_type": "stream",
     "text": [
      "\r",
      " 40%|███████████████████████▌                                   | 165/413 [41:58<1:10:59, 17.17s/it]"
     ]
    },
    {
     "name": "stderr",
     "output_type": "stream",
     "text": [
      "\r",
      " 40%|███████████████████████▋                                   | 166/413 [42:13<1:07:25, 16.38s/it]"
     ]
    },
    {
     "name": "stderr",
     "output_type": "stream",
     "text": [
      "\r",
      " 40%|███████████████████████▊                                   | 167/413 [42:35<1:14:25, 18.15s/it]"
     ]
    },
    {
     "name": "stderr",
     "output_type": "stream",
     "text": [
      "\r",
      " 41%|████████████████████████                                   | 168/413 [42:53<1:13:46, 18.07s/it]"
     ]
    },
    {
     "name": "stderr",
     "output_type": "stream",
     "text": [
      "\r",
      " 41%|████████████████████████▏                                  | 169/413 [43:08<1:10:28, 17.33s/it]"
     ]
    },
    {
     "name": "stderr",
     "output_type": "stream",
     "text": [
      "\r",
      " 41%|████████████████████████▎                                  | 170/413 [43:30<1:15:52, 18.74s/it]"
     ]
    },
    {
     "name": "stderr",
     "output_type": "stream",
     "text": [
      "\r",
      " 41%|████████████████████████▍                                  | 171/413 [43:49<1:15:04, 18.62s/it]"
     ]
    },
    {
     "name": "stderr",
     "output_type": "stream",
     "text": [
      "\r",
      " 42%|████████████████████████▌                                  | 172/413 [44:06<1:13:17, 18.25s/it]"
     ]
    },
    {
     "name": "stderr",
     "output_type": "stream",
     "text": [
      "\r",
      " 42%|████████████████████████▋                                  | 173/413 [44:27<1:16:41, 19.17s/it]"
     ]
    },
    {
     "name": "stderr",
     "output_type": "stream",
     "text": [
      "\r",
      " 42%|████████████████████████▊                                  | 174/413 [44:48<1:18:22, 19.68s/it]"
     ]
    },
    {
     "name": "stderr",
     "output_type": "stream",
     "text": [
      "\r",
      " 42%|█████████████████████████                                  | 175/413 [45:03<1:12:14, 18.21s/it]"
     ]
    },
    {
     "name": "stderr",
     "output_type": "stream",
     "text": [
      "\r",
      " 43%|█████████████████████████▏                                 | 176/413 [45:25<1:16:37, 19.40s/it]"
     ]
    },
    {
     "name": "stderr",
     "output_type": "stream",
     "text": [
      "\r",
      " 43%|██████████████████████████▏                                  | 177/413 [45:28<56:56, 14.48s/it]"
     ]
    },
    {
     "name": "stderr",
     "output_type": "stream",
     "text": [
      "\r",
      " 43%|█████████████████████████▍                                 | 178/413 [45:48<1:03:05, 16.11s/it]"
     ]
    },
    {
     "name": "stderr",
     "output_type": "stream",
     "text": [
      "\r",
      " 44%|██████████████████████████▌                                  | 180/413 [45:52<46:17, 11.92s/it]"
     ]
    },
    {
     "name": "stderr",
     "output_type": "stream",
     "text": [
      "\r",
      " 44%|██████████████████████████▋                                  | 181/413 [46:13<56:18, 14.56s/it]"
     ]
    },
    {
     "name": "stderr",
     "output_type": "stream",
     "text": [
      "\r",
      " 44%|██████████████████████████▉                                  | 182/413 [46:14<40:13, 10.45s/it]"
     ]
    },
    {
     "name": "stderr",
     "output_type": "stream",
     "text": [
      "\r",
      " 44%|███████████████████████████                                  | 183/413 [46:18<32:50,  8.57s/it]"
     ]
    },
    {
     "name": "stderr",
     "output_type": "stream",
     "text": [
      "\r",
      " 45%|███████████████████████████▏                                 | 184/413 [46:39<46:55, 12.29s/it]"
     ]
    },
    {
     "name": "stderr",
     "output_type": "stream",
     "text": [
      "\r",
      " 45%|███████████████████████████▎                                 | 185/413 [46:40<33:51,  8.91s/it]"
     ]
    },
    {
     "name": "stderr",
     "output_type": "stream",
     "text": [
      "\r",
      " 45%|███████████████████████████▍                                 | 186/413 [46:45<29:01,  7.67s/it]"
     ]
    },
    {
     "name": "stderr",
     "output_type": "stream",
     "text": [
      "\r",
      " 45%|███████████████████████████▌                                 | 187/413 [47:06<44:16, 11.75s/it]"
     ]
    },
    {
     "name": "stderr",
     "output_type": "stream",
     "text": [
      "\r",
      " 46%|███████████████████████████▊                                 | 188/413 [47:08<32:30,  8.67s/it]"
     ]
    },
    {
     "name": "stderr",
     "output_type": "stream",
     "text": [
      "\r",
      " 46%|███████████████████████████▉                                 | 189/413 [47:13<28:21,  7.60s/it]"
     ]
    },
    {
     "name": "stderr",
     "output_type": "stream",
     "text": [
      "\r",
      " 46%|████████████████████████████                                 | 190/413 [47:34<43:40, 11.75s/it]"
     ]
    },
    {
     "name": "stderr",
     "output_type": "stream",
     "text": [
      "\r",
      " 46%|████████████████████████████▏                                | 191/413 [47:36<32:24,  8.76s/it]"
     ]
    },
    {
     "name": "stderr",
     "output_type": "stream",
     "text": [
      "\r",
      " 46%|████████████████████████████▎                                | 192/413 [47:42<28:45,  7.81s/it]"
     ]
    },
    {
     "name": "stderr",
     "output_type": "stream",
     "text": [
      "\r",
      " 47%|████████████████████████████▌                                | 193/413 [48:03<44:03, 12.02s/it]"
     ]
    },
    {
     "name": "stderr",
     "output_type": "stream",
     "text": [
      "\r",
      " 47%|████████████████████████████▋                                | 194/413 [48:05<32:52,  9.01s/it]"
     ]
    },
    {
     "name": "stderr",
     "output_type": "stream",
     "text": [
      "\r",
      " 47%|████████████████████████████▊                                | 195/413 [48:12<29:33,  8.14s/it]"
     ]
    },
    {
     "name": "stderr",
     "output_type": "stream",
     "text": [
      "\r",
      " 47%|████████████████████████████▉                                | 196/413 [48:34<44:34, 12.32s/it]"
     ]
    },
    {
     "name": "stderr",
     "output_type": "stream",
     "text": [
      "\r",
      " 48%|█████████████████████████████                                | 197/413 [48:36<33:26,  9.29s/it]"
     ]
    },
    {
     "name": "stderr",
     "output_type": "stream",
     "text": [
      "\r",
      " 48%|█████████████████████████████▏                               | 198/413 [48:42<30:10,  8.42s/it]"
     ]
    },
    {
     "name": "stderr",
     "output_type": "stream",
     "text": [
      "\r",
      " 48%|█████████████████████████████▍                               | 199/413 [49:05<44:57, 12.60s/it]"
     ]
    },
    {
     "name": "stderr",
     "output_type": "stream",
     "text": [
      "\r",
      " 48%|█████████████████████████████▌                               | 200/413 [49:07<34:11,  9.63s/it]"
     ]
    },
    {
     "name": "stderr",
     "output_type": "stream",
     "text": [
      "\r",
      " 49%|█████████████████████████████▋                               | 201/413 [49:14<30:58,  8.77s/it]"
     ]
    },
    {
     "name": "stderr",
     "output_type": "stream",
     "text": [
      "\r",
      " 49%|█████████████████████████████▊                               | 202/413 [49:37<45:25, 12.92s/it]"
     ]
    },
    {
     "name": "stderr",
     "output_type": "stream",
     "text": [
      "\r",
      " 49%|█████████████████████████████▉                               | 203/413 [49:40<34:45,  9.93s/it]"
     ]
    },
    {
     "name": "stderr",
     "output_type": "stream",
     "text": [
      "\r",
      " 49%|██████████████████████████████▏                              | 204/413 [49:47<31:57,  9.17s/it]"
     ]
    },
    {
     "name": "stderr",
     "output_type": "stream",
     "text": [
      "\r",
      " 50%|██████████████████████████████▎                              | 205/413 [50:10<46:08, 13.31s/it]"
     ]
    },
    {
     "name": "stderr",
     "output_type": "stream",
     "text": [
      "\r",
      " 50%|██████████████████████████████▍                              | 206/413 [50:13<35:22, 10.25s/it]"
     ]
    },
    {
     "name": "stderr",
     "output_type": "stream",
     "text": [
      "\r",
      " 50%|██████████████████████████████▌                              | 207/413 [50:21<32:38,  9.51s/it]"
     ]
    },
    {
     "name": "stderr",
     "output_type": "stream",
     "text": [
      "\r",
      " 50%|██████████████████████████████▋                              | 208/413 [50:44<46:36, 13.64s/it]"
     ]
    },
    {
     "name": "stderr",
     "output_type": "stream",
     "text": [
      "\r",
      " 51%|██████████████████████████████▊                              | 209/413 [50:47<35:52, 10.55s/it]"
     ]
    },
    {
     "name": "stderr",
     "output_type": "stream",
     "text": [
      "\r",
      " 51%|███████████████████████████████                              | 210/413 [50:55<33:05,  9.78s/it]"
     ]
    },
    {
     "name": "stderr",
     "output_type": "stream",
     "text": [
      "\r",
      " 51%|███████████████████████████████▏                             | 211/413 [51:19<46:50, 13.91s/it]"
     ]
    },
    {
     "name": "stderr",
     "output_type": "stream",
     "text": [
      "\r",
      " 51%|███████████████████████████████▎                             | 212/413 [51:23<36:32, 10.91s/it]"
     ]
    },
    {
     "name": "stderr",
     "output_type": "stream",
     "text": [
      "\r",
      " 52%|███████████████████████████████▍                             | 213/413 [51:31<33:46, 10.13s/it]"
     ]
    },
    {
     "name": "stderr",
     "output_type": "stream",
     "text": [
      "\r",
      " 52%|███████████████████████████████▌                             | 214/413 [51:55<47:12, 14.24s/it]"
     ]
    },
    {
     "name": "stderr",
     "output_type": "stream",
     "text": [
      "\r",
      " 52%|███████████████████████████████▊                             | 215/413 [51:59<37:00, 11.22s/it]"
     ]
    },
    {
     "name": "stderr",
     "output_type": "stream",
     "text": [
      "\r",
      " 52%|███████████████████████████████▉                             | 216/413 [52:08<34:29, 10.50s/it]"
     ]
    },
    {
     "name": "stderr",
     "output_type": "stream",
     "text": [
      "\r",
      " 53%|████████████████████████████████                             | 217/413 [52:32<47:37, 14.58s/it]"
     ]
    },
    {
     "name": "stderr",
     "output_type": "stream",
     "text": [
      "\r",
      " 53%|████████████████████████████████▏                            | 218/413 [52:37<37:29, 11.53s/it]"
     ]
    },
    {
     "name": "stderr",
     "output_type": "stream",
     "text": [
      "\r",
      " 53%|████████████████████████████████▎                            | 219/413 [52:46<35:00, 10.83s/it]"
     ]
    },
    {
     "name": "stderr",
     "output_type": "stream",
     "text": [
      "\r",
      " 53%|████████████████████████████████▍                            | 220/413 [53:10<47:56, 14.90s/it]"
     ]
    },
    {
     "name": "stderr",
     "output_type": "stream",
     "text": [
      "\r",
      " 54%|████████████████████████████████▋                            | 221/413 [53:15<37:53, 11.84s/it]"
     ]
    },
    {
     "name": "stderr",
     "output_type": "stream",
     "text": [
      "\r",
      " 54%|████████████████████████████████▊                            | 222/413 [53:24<35:25, 11.13s/it]"
     ]
    },
    {
     "name": "stderr",
     "output_type": "stream",
     "text": [
      "\r",
      " 54%|████████████████████████████████▉                            | 223/413 [53:49<48:04, 15.18s/it]"
     ]
    },
    {
     "name": "stderr",
     "output_type": "stream",
     "text": [
      "\r",
      " 54%|█████████████████████████████████                            | 224/413 [53:54<38:25, 12.20s/it]"
     ]
    },
    {
     "name": "stderr",
     "output_type": "stream",
     "text": [
      "\r",
      " 54%|█████████████████████████████████▏                           | 225/413 [54:04<35:52, 11.45s/it]"
     ]
    },
    {
     "name": "stderr",
     "output_type": "stream",
     "text": [
      "\r",
      " 55%|█████████████████████████████████▍                           | 226/413 [54:29<48:10, 15.46s/it]"
     ]
    },
    {
     "name": "stderr",
     "output_type": "stream",
     "text": [
      "\r",
      " 55%|█████████████████████████████████▌                           | 227/413 [54:35<38:58, 12.57s/it]"
     ]
    },
    {
     "name": "stderr",
     "output_type": "stream",
     "text": [
      "\r",
      " 55%|█████████████████████████████████▋                           | 228/413 [54:44<36:20, 11.78s/it]"
     ]
    },
    {
     "name": "stderr",
     "output_type": "stream",
     "text": [
      "\r",
      " 55%|█████████████████████████████████▊                           | 229/413 [55:10<48:26, 15.80s/it]"
     ]
    },
    {
     "name": "stderr",
     "output_type": "stream",
     "text": [
      "\r",
      " 56%|█████████████████████████████████▉                           | 230/413 [55:16<39:17, 12.88s/it]"
     ]
    },
    {
     "name": "stderr",
     "output_type": "stream",
     "text": [
      "\r",
      " 56%|██████████████████████████████████                           | 231/413 [55:26<36:58, 12.19s/it]"
     ]
    },
    {
     "name": "stderr",
     "output_type": "stream",
     "text": [
      "\r",
      " 56%|██████████████████████████████████▎                          | 232/413 [55:52<48:48, 16.18s/it]"
     ]
    },
    {
     "name": "stderr",
     "output_type": "stream",
     "text": [
      "\r",
      " 56%|██████████████████████████████████▍                          | 233/413 [55:58<39:33, 13.19s/it]"
     ]
    },
    {
     "name": "stderr",
     "output_type": "stream",
     "text": [
      "\r",
      " 57%|██████████████████████████████████▌                          | 234/413 [56:09<37:27, 12.56s/it]"
     ]
    },
    {
     "name": "stderr",
     "output_type": "stream",
     "text": [
      "\r",
      " 57%|██████████████████████████████████▋                          | 235/413 [56:32<46:43, 15.75s/it]"
     ]
    },
    {
     "name": "stderr",
     "output_type": "stream",
     "text": [
      "\r",
      " 57%|██████████████████████████████████▊                          | 236/413 [56:35<34:44, 11.78s/it]"
     ]
    },
    {
     "name": "stderr",
     "output_type": "stream",
     "text": [
      "\r",
      " 57%|███████████████████████████████████                          | 237/413 [56:41<30:02, 10.24s/it]"
     ]
    },
    {
     "name": "stderr",
     "output_type": "stream",
     "text": [
      "\r",
      " 58%|███████████████████████████████████▏                         | 238/413 [56:57<34:07, 11.70s/it]"
     ]
    },
    {
     "name": "stderr",
     "output_type": "stream",
     "text": [
      "\r",
      " 58%|███████████████████████████████████▎                         | 239/413 [57:00<26:52,  9.27s/it]"
     ]
    },
    {
     "name": "stderr",
     "output_type": "stream",
     "text": [
      "\r",
      " 58%|███████████████████████████████████▍                         | 240/413 [57:07<24:47,  8.60s/it]"
     ]
    },
    {
     "name": "stderr",
     "output_type": "stream",
     "text": [
      "\r",
      " 58%|███████████████████████████████████▌                         | 241/413 [57:25<32:13, 11.24s/it]"
     ]
    },
    {
     "name": "stderr",
     "output_type": "stream",
     "text": [
      "\r",
      " 59%|███████████████████████████████████▋                         | 242/413 [57:29<25:47,  9.05s/it]"
     ]
    },
    {
     "name": "stderr",
     "output_type": "stream",
     "text": [
      "\r",
      " 59%|███████████████████████████████████▉                         | 243/413 [57:36<24:23,  8.61s/it]"
     ]
    },
    {
     "name": "stderr",
     "output_type": "stream",
     "text": [
      "\r",
      " 59%|████████████████████████████████████                         | 244/413 [57:54<32:13, 11.44s/it]"
     ]
    },
    {
     "name": "stderr",
     "output_type": "stream",
     "text": [
      "\r",
      " 59%|████████████████████████████████████▏                        | 245/413 [57:58<25:59,  9.28s/it]"
     ]
    },
    {
     "name": "stderr",
     "output_type": "stream",
     "text": [
      "\r",
      " 60%|████████████████████████████████████▎                        | 246/413 [58:07<24:53,  8.95s/it]"
     ]
    },
    {
     "name": "stderr",
     "output_type": "stream",
     "text": [
      "\r",
      " 60%|████████████████████████████████████▍                        | 247/413 [58:25<32:33, 11.77s/it]"
     ]
    },
    {
     "name": "stderr",
     "output_type": "stream",
     "text": [
      "\r",
      " 60%|████████████████████████████████████▋                        | 248/413 [58:30<27:01,  9.83s/it]"
     ]
    },
    {
     "name": "stderr",
     "output_type": "stream",
     "text": [
      "\r",
      " 60%|████████████████████████████████████▊                        | 249/413 [58:39<25:41,  9.40s/it]"
     ]
    },
    {
     "name": "stderr",
     "output_type": "stream",
     "text": [
      "\r",
      " 61%|████████████████████████████████████▉                        | 250/413 [58:58<33:48, 12.44s/it]"
     ]
    },
    {
     "name": "stderr",
     "output_type": "stream",
     "text": [
      "\r",
      " 61%|█████████████████████████████████████                        | 251/413 [59:04<28:10, 10.43s/it]"
     ]
    },
    {
     "name": "stderr",
     "output_type": "stream",
     "text": [
      "\r",
      " 61%|█████████████████████████████████████▏                       | 252/413 [59:13<26:57, 10.04s/it]"
     ]
    },
    {
     "name": "stderr",
     "output_type": "stream",
     "text": [
      "\r",
      " 61%|█████████████████████████████████████▎                       | 253/413 [59:33<34:56, 13.11s/it]"
     ]
    },
    {
     "name": "stderr",
     "output_type": "stream",
     "text": [
      "\r",
      " 62%|█████████████████████████████████████▌                       | 254/413 [59:39<29:11, 11.01s/it]"
     ]
    },
    {
     "name": "stderr",
     "output_type": "stream",
     "text": [
      "\r",
      " 62%|█████████████████████████████████████▋                       | 255/413 [59:49<27:45, 10.54s/it]"
     ]
    },
    {
     "name": "stderr",
     "output_type": "stream",
     "text": [
      "\r",
      " 62%|████████████████████████████████████▌                      | 256/413 [1:00:09<35:23, 13.52s/it]"
     ]
    },
    {
     "name": "stderr",
     "output_type": "stream",
     "text": [
      "\r",
      " 62%|████████████████████████████████████▋                      | 257/413 [1:00:16<29:37, 11.39s/it]"
     ]
    },
    {
     "name": "stderr",
     "output_type": "stream",
     "text": [
      "\r",
      " 62%|████████████████████████████████████▊                      | 258/413 [1:00:26<28:22, 10.98s/it]"
     ]
    },
    {
     "name": "stderr",
     "output_type": "stream",
     "text": [
      "\r",
      " 63%|█████████████████████████████████████                      | 259/413 [1:00:47<35:56, 14.00s/it]"
     ]
    },
    {
     "name": "stderr",
     "output_type": "stream",
     "text": [
      "\r",
      " 63%|█████████████████████████████████████▏                     | 260/413 [1:00:54<30:36, 12.01s/it]"
     ]
    },
    {
     "name": "stderr",
     "output_type": "stream",
     "text": [
      "\r",
      " 63%|█████████████████████████████████████▎                     | 261/413 [1:01:05<29:09, 11.51s/it]"
     ]
    },
    {
     "name": "stderr",
     "output_type": "stream",
     "text": [
      "\r",
      " 63%|█████████████████████████████████████▍                     | 262/413 [1:01:26<36:17, 14.42s/it]"
     ]
    },
    {
     "name": "stderr",
     "output_type": "stream",
     "text": [
      "\r",
      " 64%|█████████████████████████████████████▌                     | 263/413 [1:01:34<31:08, 12.46s/it]"
     ]
    },
    {
     "name": "stderr",
     "output_type": "stream",
     "text": [
      "\r",
      " 64%|█████████████████████████████████████▋                     | 264/413 [1:01:44<29:30, 11.89s/it]"
     ]
    },
    {
     "name": "stderr",
     "output_type": "stream",
     "text": [
      "\r",
      " 64%|█████████████████████████████████████▊                     | 265/413 [1:02:06<36:57, 14.98s/it]"
     ]
    },
    {
     "name": "stderr",
     "output_type": "stream",
     "text": [
      "\r",
      " 64%|██████████████████████████████████████                     | 266/413 [1:02:15<31:43, 12.95s/it]"
     ]
    },
    {
     "name": "stderr",
     "output_type": "stream",
     "text": [
      "\r",
      " 65%|██████████████████████████████████████▏                    | 267/413 [1:02:26<30:16, 12.45s/it]"
     ]
    },
    {
     "name": "stderr",
     "output_type": "stream",
     "text": [
      "\r",
      " 65%|██████████████████████████████████████▎                    | 268/413 [1:02:48<37:26, 15.50s/it]"
     ]
    },
    {
     "name": "stderr",
     "output_type": "stream",
     "text": [
      "\r",
      " 65%|██████████████████████████████████████▍                    | 269/413 [1:02:57<32:08, 13.39s/it]"
     ]
    },
    {
     "name": "stderr",
     "output_type": "stream",
     "text": [
      "\r",
      " 65%|██████████████████████████████████████▌                    | 270/413 [1:03:09<30:39, 12.87s/it]"
     ]
    },
    {
     "name": "stderr",
     "output_type": "stream",
     "text": [
      "\r",
      " 66%|██████████████████████████████████████▋                    | 271/413 [1:03:32<37:39, 15.91s/it]"
     ]
    },
    {
     "name": "stderr",
     "output_type": "stream",
     "text": [
      "\r",
      " 66%|██████████████████████████████████████▊                    | 272/413 [1:03:40<32:21, 13.77s/it]"
     ]
    },
    {
     "name": "stderr",
     "output_type": "stream",
     "text": [
      "\r",
      " 66%|███████████████████████████████████████                    | 273/413 [1:03:52<30:54, 13.25s/it]"
     ]
    },
    {
     "name": "stderr",
     "output_type": "stream",
     "text": [
      "\r",
      " 66%|███████████████████████████████████████▏                   | 274/413 [1:04:16<37:51, 16.34s/it]"
     ]
    },
    {
     "name": "stderr",
     "output_type": "stream",
     "text": [
      "\r",
      " 67%|███████████████████████████████████████▎                   | 275/413 [1:04:25<32:41, 14.21s/it]"
     ]
    },
    {
     "name": "stderr",
     "output_type": "stream",
     "text": [
      "\r",
      " 67%|███████████████████████████████████████▍                   | 276/413 [1:04:38<31:08, 13.64s/it]"
     ]
    },
    {
     "name": "stderr",
     "output_type": "stream",
     "text": [
      "\r",
      " 67%|███████████████████████████████████████▌                   | 277/413 [1:05:01<37:48, 16.68s/it]"
     ]
    },
    {
     "name": "stderr",
     "output_type": "stream",
     "text": [
      "\r",
      " 67%|███████████████████████████████████████▋                   | 278/413 [1:05:11<32:35, 14.48s/it]"
     ]
    },
    {
     "name": "stderr",
     "output_type": "stream",
     "text": [
      "\r",
      " 68%|███████████████████████████████████████▊                   | 279/413 [1:05:25<32:12, 14.42s/it]"
     ]
    },
    {
     "name": "stderr",
     "output_type": "stream",
     "text": [
      "\r",
      " 68%|████████████████████████████████████████                   | 280/413 [1:05:49<38:42, 17.46s/it]"
     ]
    },
    {
     "name": "stderr",
     "output_type": "stream",
     "text": [
      "\r",
      " 68%|████████████████████████████████████████▏                  | 281/413 [1:05:59<33:09, 15.07s/it]"
     ]
    },
    {
     "name": "stderr",
     "output_type": "stream",
     "text": [
      "\r",
      " 68%|████████████████████████████████████████▎                  | 282/413 [1:06:14<32:38, 14.95s/it]"
     ]
    },
    {
     "name": "stderr",
     "output_type": "stream",
     "text": [
      "\r",
      " 69%|████████████████████████████████████████▍                  | 283/413 [1:06:39<38:51, 17.93s/it]"
     ]
    },
    {
     "name": "stderr",
     "output_type": "stream",
     "text": [
      "\r",
      " 69%|████████████████████████████████████████▌                  | 284/413 [1:06:50<34:10, 15.90s/it]"
     ]
    },
    {
     "name": "stderr",
     "output_type": "stream",
     "text": [
      "\r",
      " 69%|████████████████████████████████████████▋                  | 285/413 [1:07:05<33:22, 15.65s/it]"
     ]
    },
    {
     "name": "stderr",
     "output_type": "stream",
     "text": [
      "\r",
      " 69%|████████████████████████████████████████▊                  | 286/413 [1:07:30<39:14, 18.54s/it]"
     ]
    },
    {
     "name": "stderr",
     "output_type": "stream",
     "text": [
      "\r",
      " 69%|█████████████████████████████████████████                  | 287/413 [1:07:42<34:30, 16.43s/it]"
     ]
    },
    {
     "name": "stderr",
     "output_type": "stream",
     "text": [
      "\r",
      " 70%|█████████████████████████████████████████▏                 | 288/413 [1:07:57<33:43, 16.19s/it]"
     ]
    },
    {
     "name": "stderr",
     "output_type": "stream",
     "text": [
      "\r",
      " 70%|█████████████████████████████████████████▎                 | 289/413 [1:08:24<39:51, 19.28s/it]"
     ]
    },
    {
     "name": "stderr",
     "output_type": "stream",
     "text": [
      "\r",
      " 70%|█████████████████████████████████████████▍                 | 290/413 [1:08:35<34:55, 17.04s/it]"
     ]
    },
    {
     "name": "stderr",
     "output_type": "stream",
     "text": [
      "\r",
      " 70%|█████████████████████████████████████████▌                 | 291/413 [1:08:52<34:02, 16.75s/it]"
     ]
    },
    {
     "name": "stderr",
     "output_type": "stream",
     "text": [
      "\r",
      " 71%|█████████████████████████████████████████▋                 | 292/413 [1:09:19<40:20, 20.01s/it]"
     ]
    },
    {
     "name": "stderr",
     "output_type": "stream",
     "text": [
      "\r",
      " 71%|█████████████████████████████████████████▊                 | 293/413 [1:09:31<35:13, 17.61s/it]"
     ]
    },
    {
     "name": "stderr",
     "output_type": "stream",
     "text": [
      "\r",
      " 71%|██████████████████████████████████████████                 | 294/413 [1:09:49<34:58, 17.64s/it]"
     ]
    },
    {
     "name": "stderr",
     "output_type": "stream",
     "text": [
      "\r",
      " 71%|██████████████████████████████████████████▏                | 295/413 [1:09:56<28:23, 14.43s/it]"
     ]
    },
    {
     "name": "stderr",
     "output_type": "stream",
     "text": [
      "\r",
      " 72%|██████████████████████████████████████████▎                | 296/413 [1:10:16<31:26, 16.12s/it]"
     ]
    },
    {
     "name": "stderr",
     "output_type": "stream",
     "text": [
      "\r",
      " 72%|██████████████████████████████████████████▍                | 297/413 [1:10:17<22:24, 11.59s/it]"
     ]
    },
    {
     "name": "stderr",
     "output_type": "stream",
     "text": [
      "\r",
      " 72%|██████████████████████████████████████████▌                | 298/413 [1:10:22<18:23,  9.60s/it]"
     ]
    },
    {
     "name": "stderr",
     "output_type": "stream",
     "text": [
      "\r",
      " 72%|██████████████████████████████████████████▋                | 299/413 [1:10:42<24:28, 12.88s/it]"
     ]
    },
    {
     "name": "stderr",
     "output_type": "stream",
     "text": [
      "\r",
      " 73%|██████████████████████████████████████████▊                | 300/413 [1:10:46<18:47,  9.97s/it]"
     ]
    },
    {
     "name": "stderr",
     "output_type": "stream",
     "text": [
      "\r",
      " 73%|███████████████████████████████████████████                | 301/413 [1:10:51<16:02,  8.59s/it]"
     ]
    },
    {
     "name": "stderr",
     "output_type": "stream",
     "text": [
      "\r",
      " 73%|███████████████████████████████████████████▏               | 302/413 [1:11:12<22:40, 12.25s/it]"
     ]
    },
    {
     "name": "stderr",
     "output_type": "stream",
     "text": [
      "\r",
      " 73%|███████████████████████████████████████████▎               | 303/413 [1:11:15<17:45,  9.69s/it]"
     ]
    },
    {
     "name": "stderr",
     "output_type": "stream",
     "text": [
      "\r",
      " 74%|███████████████████████████████████████████▍               | 304/413 [1:11:22<16:04,  8.85s/it]"
     ]
    },
    {
     "name": "stderr",
     "output_type": "stream",
     "text": [
      "\r",
      " 74%|███████████████████████████████████████████▌               | 305/413 [1:11:45<23:10, 12.88s/it]"
     ]
    },
    {
     "name": "stderr",
     "output_type": "stream",
     "text": [
      "\r",
      " 74%|███████████████████████████████████████████▋               | 306/413 [1:11:49<18:15, 10.24s/it]"
     ]
    },
    {
     "name": "stderr",
     "output_type": "stream",
     "text": [
      "\r",
      " 74%|███████████████████████████████████████████▊               | 307/413 [1:11:56<16:36,  9.40s/it]"
     ]
    },
    {
     "name": "stderr",
     "output_type": "stream",
     "text": [
      "\r",
      " 75%|████████████████████████████████████████████               | 308/413 [1:12:19<23:16, 13.30s/it]"
     ]
    },
    {
     "name": "stderr",
     "output_type": "stream",
     "text": [
      "\r",
      " 75%|████████████████████████████████████████████▏              | 309/413 [1:12:23<18:41, 10.79s/it]"
     ]
    },
    {
     "name": "stderr",
     "output_type": "stream",
     "text": [
      "\r",
      " 75%|████████████████████████████████████████████▎              | 310/413 [1:12:32<17:13, 10.03s/it]"
     ]
    },
    {
     "name": "stderr",
     "output_type": "stream",
     "text": [
      "\r",
      " 75%|████████████████████████████████████████████▍              | 311/413 [1:12:55<23:38, 13.91s/it]"
     ]
    },
    {
     "name": "stderr",
     "output_type": "stream",
     "text": [
      "\r",
      " 76%|████████████████████████████████████████████▌              | 312/413 [1:13:01<19:39, 11.68s/it]"
     ]
    },
    {
     "name": "stderr",
     "output_type": "stream",
     "text": [
      "\r",
      " 76%|████████████████████████████████████████████▋              | 313/413 [1:13:12<18:49, 11.29s/it]"
     ]
    },
    {
     "name": "stderr",
     "output_type": "stream",
     "text": [
      "\r",
      " 76%|████████████████████████████████████████████▊              | 314/413 [1:13:35<24:47, 15.02s/it]"
     ]
    },
    {
     "name": "stderr",
     "output_type": "stream",
     "text": [
      "\r",
      " 76%|█████████████████████████████████████████████              | 315/413 [1:13:43<20:50, 12.76s/it]"
     ]
    },
    {
     "name": "stderr",
     "output_type": "stream",
     "text": [
      "\r",
      " 77%|█████████████████████████████████████████████▏             | 316/413 [1:13:53<19:37, 12.14s/it]"
     ]
    },
    {
     "name": "stderr",
     "output_type": "stream",
     "text": [
      "\r",
      " 77%|█████████████████████████████████████████████▎             | 317/413 [1:14:18<25:20, 15.84s/it]"
     ]
    },
    {
     "name": "stderr",
     "output_type": "stream",
     "text": [
      "\r",
      " 77%|█████████████████████████████████████████████▍             | 318/413 [1:14:27<21:55, 13.85s/it]"
     ]
    },
    {
     "name": "stderr",
     "output_type": "stream",
     "text": [
      "\r",
      " 77%|█████████████████████████████████████████████▌             | 319/413 [1:14:38<20:19, 12.98s/it]"
     ]
    },
    {
     "name": "stderr",
     "output_type": "stream",
     "text": [
      "\r",
      " 77%|█████████████████████████████████████████████▋             | 320/413 [1:15:02<25:02, 16.16s/it]"
     ]
    },
    {
     "name": "stderr",
     "output_type": "stream",
     "text": [
      "\r",
      " 78%|█████████████████████████████████████████████▊             | 321/413 [1:15:12<22:16, 14.53s/it]"
     ]
    },
    {
     "name": "stderr",
     "output_type": "stream",
     "text": [
      "\r",
      " 78%|██████████████████████████████████████████████             | 322/413 [1:15:25<21:07, 13.93s/it]"
     ]
    },
    {
     "name": "stderr",
     "output_type": "stream",
     "text": [
      "\r",
      " 78%|██████████████████████████████████████████████▏            | 323/413 [1:15:50<25:42, 17.14s/it]"
     ]
    },
    {
     "name": "stderr",
     "output_type": "stream",
     "text": [
      "\r",
      " 78%|██████████████████████████████████████████████▎            | 324/413 [1:16:00<22:17, 15.03s/it]"
     ]
    },
    {
     "name": "stderr",
     "output_type": "stream",
     "text": [
      "\r",
      " 79%|██████████████████████████████████████████████▍            | 325/413 [1:16:15<22:04, 15.05s/it]"
     ]
    },
    {
     "name": "stderr",
     "output_type": "stream",
     "text": [
      "\r",
      " 79%|██████████████████████████████████████████████▌            | 326/413 [1:16:40<26:12, 18.08s/it]"
     ]
    },
    {
     "name": "stderr",
     "output_type": "stream",
     "text": [
      "\r",
      " 79%|██████████████████████████████████████████████▋            | 327/413 [1:16:50<22:27, 15.66s/it]"
     ]
    },
    {
     "name": "stderr",
     "output_type": "stream",
     "text": [
      "\r",
      " 79%|██████████████████████████████████████████████▊            | 328/413 [1:17:05<22:06, 15.61s/it]"
     ]
    },
    {
     "name": "stderr",
     "output_type": "stream",
     "text": [
      "\r",
      " 80%|███████████████████████████████████████████████            | 329/413 [1:17:32<26:26, 18.88s/it]"
     ]
    },
    {
     "name": "stderr",
     "output_type": "stream",
     "text": [
      "\r",
      " 80%|███████████████████████████████████████████████▏           | 330/413 [1:17:42<22:36, 16.35s/it]"
     ]
    },
    {
     "name": "stderr",
     "output_type": "stream",
     "text": [
      "\r",
      " 80%|███████████████████████████████████████████████▎           | 331/413 [1:17:58<22:14, 16.27s/it]"
     ]
    },
    {
     "name": "stderr",
     "output_type": "stream",
     "text": [
      "\r",
      " 80%|███████████████████████████████████████████████▍           | 332/413 [1:18:27<27:04, 20.06s/it]"
     ]
    },
    {
     "name": "stderr",
     "output_type": "stream",
     "text": [
      "\r",
      " 81%|███████████████████████████████████████████████▌           | 333/413 [1:18:38<23:02, 17.29s/it]"
     ]
    },
    {
     "name": "stderr",
     "output_type": "stream",
     "text": [
      "\r",
      " 81%|███████████████████████████████████████████████▋           | 334/413 [1:18:54<22:20, 16.97s/it]"
     ]
    },
    {
     "name": "stderr",
     "output_type": "stream",
     "text": [
      "\r",
      " 81%|███████████████████████████████████████████████▊           | 335/413 [1:19:25<27:14, 20.95s/it]"
     ]
    },
    {
     "name": "stderr",
     "output_type": "stream",
     "text": [
      "\r",
      " 81%|████████████████████████████████████████████████           | 336/413 [1:19:37<23:25, 18.25s/it]"
     ]
    },
    {
     "name": "stderr",
     "output_type": "stream",
     "text": [
      "\r",
      " 82%|████████████████████████████████████████████████▏          | 337/413 [1:19:54<22:37, 17.87s/it]"
     ]
    },
    {
     "name": "stderr",
     "output_type": "stream",
     "text": [
      "\r",
      " 82%|████████████████████████████████████████████████▎          | 338/413 [1:20:24<26:58, 21.58s/it]"
     ]
    },
    {
     "name": "stderr",
     "output_type": "stream",
     "text": [
      "\r",
      " 82%|████████████████████████████████████████████████▍          | 339/413 [1:20:37<23:23, 18.97s/it]"
     ]
    },
    {
     "name": "stderr",
     "output_type": "stream",
     "text": [
      "\r",
      " 82%|████████████████████████████████████████████████▌          | 340/413 [1:20:54<22:31, 18.52s/it]"
     ]
    },
    {
     "name": "stderr",
     "output_type": "stream",
     "text": [
      "\r",
      " 83%|████████████████████████████████████████████████▋          | 341/413 [1:21:26<26:49, 22.36s/it]"
     ]
    },
    {
     "name": "stderr",
     "output_type": "stream",
     "text": [
      "\r",
      " 83%|████████████████████████████████████████████████▊          | 342/413 [1:21:39<23:11, 19.59s/it]"
     ]
    },
    {
     "name": "stderr",
     "output_type": "stream",
     "text": [
      "\r",
      " 83%|█████████████████████████████████████████████████          | 343/413 [1:21:56<22:12, 19.03s/it]"
     ]
    },
    {
     "name": "stderr",
     "output_type": "stream",
     "text": [
      "\r",
      " 83%|█████████████████████████████████████████████████▏         | 344/413 [1:22:29<26:33, 23.10s/it]"
     ]
    },
    {
     "name": "stderr",
     "output_type": "stream",
     "text": [
      "\r",
      " 84%|█████████████████████████████████████████████████▎         | 345/413 [1:22:43<23:05, 20.38s/it]"
     ]
    },
    {
     "name": "stderr",
     "output_type": "stream",
     "text": [
      "\r",
      " 84%|█████████████████████████████████████████████████▍         | 346/413 [1:23:02<22:16, 19.95s/it]"
     ]
    },
    {
     "name": "stderr",
     "output_type": "stream",
     "text": [
      "\r",
      " 84%|█████████████████████████████████████████████████▌         | 347/413 [1:23:34<26:05, 23.72s/it]"
     ]
    },
    {
     "name": "stderr",
     "output_type": "stream",
     "text": [
      "\r",
      " 84%|█████████████████████████████████████████████████▋         | 348/413 [1:23:50<23:00, 21.24s/it]"
     ]
    },
    {
     "name": "stderr",
     "output_type": "stream",
     "text": [
      "\r",
      " 85%|█████████████████████████████████████████████████▊         | 349/413 [1:24:10<22:08, 20.75s/it]"
     ]
    },
    {
     "name": "stderr",
     "output_type": "stream",
     "text": [
      "\r",
      " 85%|██████████████████████████████████████████████████         | 350/413 [1:24:43<25:45, 24.52s/it]"
     ]
    },
    {
     "name": "stderr",
     "output_type": "stream",
     "text": [
      "\r",
      " 85%|██████████████████████████████████████████████████▏        | 351/413 [1:24:59<22:45, 22.02s/it]"
     ]
    },
    {
     "name": "stderr",
     "output_type": "stream",
     "text": [
      "\r",
      " 85%|██████████████████████████████████████████████████▎        | 352/413 [1:25:19<21:38, 21.28s/it]"
     ]
    },
    {
     "name": "stderr",
     "output_type": "stream",
     "text": [
      "\r",
      " 85%|██████████████████████████████████████████████████▍        | 353/413 [1:25:43<22:14, 22.24s/it]"
     ]
    },
    {
     "name": "stderr",
     "output_type": "stream",
     "text": [
      "\r",
      " 86%|██████████████████████████████████████████████████▌        | 354/413 [1:25:52<17:51, 18.17s/it]"
     ]
    },
    {
     "name": "stderr",
     "output_type": "stream",
     "text": [
      "\r",
      " 86%|██████████████████████████████████████████████████▋        | 355/413 [1:26:08<17:06, 17.70s/it]"
     ]
    },
    {
     "name": "stderr",
     "output_type": "stream",
     "text": [
      "\r",
      " 86%|██████████████████████████████████████████████████▊        | 356/413 [1:26:09<11:53, 12.52s/it]"
     ]
    },
    {
     "name": "stderr",
     "output_type": "stream",
     "text": [
      "\r",
      " 86%|███████████████████████████████████████████████████        | 357/413 [1:26:18<10:41, 11.45s/it]"
     ]
    },
    {
     "name": "stderr",
     "output_type": "stream",
     "text": [
      "\r",
      " 87%|███████████████████████████████████████████████████▏       | 358/413 [1:26:37<12:32, 13.69s/it]"
     ]
    },
    {
     "name": "stderr",
     "output_type": "stream",
     "text": [
      "\r",
      " 87%|███████████████████████████████████████████████████▎       | 359/413 [1:26:38<08:53,  9.88s/it]"
     ]
    },
    {
     "name": "stderr",
     "output_type": "stream",
     "text": [
      "\r",
      " 87%|███████████████████████████████████████████████████▍       | 360/413 [1:26:47<08:30,  9.64s/it]"
     ]
    },
    {
     "name": "stderr",
     "output_type": "stream",
     "text": [
      "\r",
      " 87%|███████████████████████████████████████████████████▌       | 361/413 [1:27:05<10:34, 12.19s/it]"
     ]
    },
    {
     "name": "stderr",
     "output_type": "stream",
     "text": [
      "\r",
      " 88%|███████████████████████████████████████████████████▋       | 362/413 [1:27:08<08:04,  9.50s/it]"
     ]
    },
    {
     "name": "stderr",
     "output_type": "stream",
     "text": [
      "\r",
      " 88%|███████████████████████████████████████████████████▊       | 363/413 [1:27:18<07:54,  9.49s/it]"
     ]
    },
    {
     "name": "stderr",
     "output_type": "stream",
     "text": [
      "\r",
      " 88%|████████████████████████████████████████████████████       | 364/413 [1:27:36<09:54, 12.13s/it]"
     ]
    },
    {
     "name": "stderr",
     "output_type": "stream",
     "text": [
      "\r",
      " 88%|████████████████████████████████████████████████████▏      | 365/413 [1:27:39<07:29,  9.36s/it]"
     ]
    },
    {
     "name": "stderr",
     "output_type": "stream",
     "text": [
      "\r",
      " 89%|████████████████████████████████████████████████████▎      | 366/413 [1:27:49<07:28,  9.54s/it]"
     ]
    },
    {
     "name": "stderr",
     "output_type": "stream",
     "text": [
      "\r",
      " 89%|████████████████████████████████████████████████████▍      | 367/413 [1:28:07<09:26, 12.31s/it]"
     ]
    },
    {
     "name": "stderr",
     "output_type": "stream",
     "text": [
      "\r",
      " 89%|████████████████████████████████████████████████████▌      | 368/413 [1:28:11<07:16,  9.70s/it]"
     ]
    },
    {
     "name": "stderr",
     "output_type": "stream",
     "text": [
      "\r",
      " 89%|████████████████████████████████████████████████████▋      | 369/413 [1:28:21<07:13,  9.86s/it]"
     ]
    },
    {
     "name": "stderr",
     "output_type": "stream",
     "text": [
      "\r",
      " 90%|████████████████████████████████████████████████████▊      | 370/413 [1:28:40<09:02, 12.63s/it]"
     ]
    },
    {
     "name": "stderr",
     "output_type": "stream",
     "text": [
      "\r",
      " 90%|█████████████████████████████████████████████████████      | 371/413 [1:28:45<07:14, 10.35s/it]"
     ]
    },
    {
     "name": "stderr",
     "output_type": "stream",
     "text": [
      "\r",
      " 90%|█████████████████████████████████████████████████████▏     | 372/413 [1:28:55<06:57, 10.18s/it]"
     ]
    },
    {
     "name": "stderr",
     "output_type": "stream",
     "text": [
      "\r",
      " 90%|█████████████████████████████████████████████████████▎     | 373/413 [1:29:15<08:37, 12.95s/it]"
     ]
    },
    {
     "name": "stderr",
     "output_type": "stream",
     "text": [
      "\r",
      " 91%|█████████████████████████████████████████████████████▍     | 374/413 [1:29:21<07:08, 10.99s/it]"
     ]
    },
    {
     "name": "stderr",
     "output_type": "stream",
     "text": [
      "\r",
      " 91%|█████████████████████████████████████████████████████▌     | 375/413 [1:29:31<06:49, 10.78s/it]"
     ]
    },
    {
     "name": "stderr",
     "output_type": "stream",
     "text": [
      "\r",
      " 91%|█████████████████████████████████████████████████████▋     | 376/413 [1:29:52<08:32, 13.86s/it]"
     ]
    },
    {
     "name": "stderr",
     "output_type": "stream",
     "text": [
      "\r",
      " 91%|█████████████████████████████████████████████████████▊     | 377/413 [1:29:59<07:04, 11.78s/it]"
     ]
    },
    {
     "name": "stderr",
     "output_type": "stream",
     "text": [
      "\r",
      " 92%|██████████████████████████████████████████████████████     | 378/413 [1:30:10<06:39, 11.41s/it]"
     ]
    },
    {
     "name": "stderr",
     "output_type": "stream",
     "text": [
      "\r",
      " 92%|██████████████████████████████████████████████████████▏    | 379/413 [1:30:31<08:09, 14.41s/it]"
     ]
    },
    {
     "name": "stderr",
     "output_type": "stream",
     "text": [
      "\r",
      " 92%|██████████████████████████████████████████████████████▎    | 380/413 [1:30:40<07:03, 12.82s/it]"
     ]
    },
    {
     "name": "stderr",
     "output_type": "stream",
     "text": [
      "\r",
      " 92%|██████████████████████████████████████████████████████▍    | 381/413 [1:30:50<06:15, 11.75s/it]"
     ]
    },
    {
     "name": "stderr",
     "output_type": "stream",
     "text": [
      "\r",
      " 92%|██████████████████████████████████████████████████████▌    | 382/413 [1:31:12<07:43, 14.96s/it]"
     ]
    },
    {
     "name": "stderr",
     "output_type": "stream",
     "text": [
      "\r",
      " 93%|██████████████████████████████████████████████████████▋    | 383/413 [1:31:22<06:44, 13.48s/it]"
     ]
    },
    {
     "name": "stderr",
     "output_type": "stream",
     "text": [
      "\r",
      " 93%|██████████████████████████████████████████████████████▊    | 384/413 [1:31:31<05:52, 12.15s/it]"
     ]
    },
    {
     "name": "stderr",
     "output_type": "stream",
     "text": [
      "\r",
      " 93%|███████████████████████████████████████████████████████    | 385/413 [1:31:55<07:14, 15.51s/it]"
     ]
    },
    {
     "name": "stderr",
     "output_type": "stream",
     "text": [
      "\r",
      " 93%|███████████████████████████████████████████████████████▏   | 386/413 [1:32:07<06:37, 14.73s/it]"
     ]
    },
    {
     "name": "stderr",
     "output_type": "stream",
     "text": [
      "\r",
      " 94%|███████████████████████████████████████████████████████▎   | 387/413 [1:32:17<05:39, 13.06s/it]"
     ]
    },
    {
     "name": "stderr",
     "output_type": "stream",
     "text": [
      "\r",
      " 94%|███████████████████████████████████████████████████████▍   | 388/413 [1:32:41<06:50, 16.42s/it]"
     ]
    },
    {
     "name": "stderr",
     "output_type": "stream",
     "text": [
      "\r",
      " 94%|███████████████████████████████████████████████████████▌   | 389/413 [1:32:54<06:11, 15.48s/it]"
     ]
    },
    {
     "name": "stderr",
     "output_type": "stream",
     "text": [
      "\r",
      " 94%|███████████████████████████████████████████████████████▋   | 390/413 [1:33:04<05:20, 13.94s/it]"
     ]
    },
    {
     "name": "stderr",
     "output_type": "stream",
     "text": [
      "\r",
      " 95%|███████████████████████████████████████████████████████▊   | 391/413 [1:33:29<06:18, 17.22s/it]"
     ]
    },
    {
     "name": "stderr",
     "output_type": "stream",
     "text": [
      "\r",
      " 95%|████████████████████████████████████████████████████████   | 392/413 [1:33:45<05:49, 16.64s/it]"
     ]
    },
    {
     "name": "stderr",
     "output_type": "stream",
     "text": [
      "\r",
      " 95%|████████████████████████████████████████████████████████▏  | 393/413 [1:33:54<04:51, 14.58s/it]"
     ]
    },
    {
     "name": "stderr",
     "output_type": "stream",
     "text": [
      "\r",
      " 95%|████████████████████████████████████████████████████████▎  | 394/413 [1:34:22<05:49, 18.38s/it]"
     ]
    },
    {
     "name": "stderr",
     "output_type": "stream",
     "text": [
      "\r",
      " 96%|████████████████████████████████████████████████████████▍  | 395/413 [1:34:38<05:20, 17.79s/it]"
     ]
    },
    {
     "name": "stderr",
     "output_type": "stream",
     "text": [
      "\r",
      " 96%|████████████████████████████████████████████████████████▌  | 396/413 [1:34:48<04:22, 15.46s/it]"
     ]
    },
    {
     "name": "stderr",
     "output_type": "stream",
     "text": [
      "\r",
      " 96%|████████████████████████████████████████████████████████▋  | 397/413 [1:35:16<05:08, 19.29s/it]"
     ]
    },
    {
     "name": "stderr",
     "output_type": "stream",
     "text": [
      "\r",
      " 96%|████████████████████████████████████████████████████████▊  | 398/413 [1:35:33<04:35, 18.39s/it]"
     ]
    },
    {
     "name": "stderr",
     "output_type": "stream",
     "text": [
      "\r",
      " 97%|█████████████████████████████████████████████████████████  | 399/413 [1:35:44<03:49, 16.40s/it]"
     ]
    },
    {
     "name": "stderr",
     "output_type": "stream",
     "text": [
      "\r",
      " 97%|█████████████████████████████████████████████████████████▏ | 400/413 [1:36:14<04:25, 20.41s/it]"
     ]
    },
    {
     "name": "stderr",
     "output_type": "stream",
     "text": [
      "\r",
      " 97%|█████████████████████████████████████████████████████████▎ | 401/413 [1:36:31<03:50, 19.23s/it]"
     ]
    },
    {
     "name": "stderr",
     "output_type": "stream",
     "text": [
      "\r",
      " 97%|█████████████████████████████████████████████████████████▍ | 402/413 [1:36:44<03:11, 17.41s/it]"
     ]
    },
    {
     "name": "stderr",
     "output_type": "stream",
     "text": [
      "\r",
      " 98%|█████████████████████████████████████████████████████████▌ | 403/413 [1:37:13<03:28, 20.85s/it]"
     ]
    },
    {
     "name": "stderr",
     "output_type": "stream",
     "text": [
      "\r",
      " 98%|█████████████████████████████████████████████████████████▋ | 404/413 [1:37:32<03:02, 20.32s/it]"
     ]
    },
    {
     "name": "stderr",
     "output_type": "stream",
     "text": [
      "\r",
      " 98%|█████████████████████████████████████████████████████████▊ | 405/413 [1:37:44<02:22, 17.86s/it]"
     ]
    },
    {
     "name": "stderr",
     "output_type": "stream",
     "text": [
      "\r",
      " 98%|██████████████████████████████████████████████████████████ | 406/413 [1:38:15<02:32, 21.72s/it]"
     ]
    },
    {
     "name": "stderr",
     "output_type": "stream",
     "text": [
      "\r",
      " 99%|██████████████████████████████████████████████████████████▏| 407/413 [1:38:35<02:07, 21.26s/it]"
     ]
    },
    {
     "name": "stderr",
     "output_type": "stream",
     "text": [
      "\r",
      " 99%|██████████████████████████████████████████████████████████▎| 408/413 [1:38:46<01:31, 18.40s/it]"
     ]
    },
    {
     "name": "stderr",
     "output_type": "stream",
     "text": [
      "\r",
      " 99%|██████████████████████████████████████████████████████████▍| 409/413 [1:39:19<01:30, 22.71s/it]"
     ]
    },
    {
     "name": "stderr",
     "output_type": "stream",
     "text": [
      "\r",
      " 99%|██████████████████████████████████████████████████████████▌| 410/413 [1:39:40<01:06, 22.04s/it]"
     ]
    },
    {
     "name": "stderr",
     "output_type": "stream",
     "text": [
      "\r",
      "100%|██████████████████████████████████████████████████████████▋| 411/413 [1:39:52<00:38, 19.10s/it]"
     ]
    },
    {
     "name": "stderr",
     "output_type": "stream",
     "text": [
      "\r",
      "100%|██████████████████████████████████████████████████████████▊| 412/413 [1:40:24<00:22, 22.94s/it]"
     ]
    },
    {
     "name": "stderr",
     "output_type": "stream",
     "text": [
      "\r",
      "100%|███████████████████████████████████████████████████████████| 413/413 [1:40:44<00:00, 22.11s/it]"
     ]
    },
    {
     "name": "stderr",
     "output_type": "stream",
     "text": [
      "\r",
      "100%|███████████████████████████████████████████████████████████| 413/413 [1:40:44<00:00, 14.64s/it]"
     ]
    },
    {
     "name": "stderr",
     "output_type": "stream",
     "text": [
      "\n"
     ]
    }
   ],
   "source": [
    "consensus_results = []\n",
    "\n",
    "with ProcessPoolExecutor(max_workers=conf.GENERAL[\"N_JOBS\"]) as executor:\n",
    "    tasks = {\n",
    "        executor.submit(\n",
    "            run_method_and_compute_agreement,\n",
    "            m,\n",
    "            ensemble_coassoc_matrix,\n",
    "            full_ensemble,\n",
    "            k,\n",
    "            n_init=SC_N_INIT,\n",
    "            random_state=next(RANDOM_STATES_ITER),\n",
    "        ): (m.__name__, k)\n",
    "        for m in all_consensus_methods\n",
    "        for k in range(CLUSTERING_OPTIONS[\"K_MIN\"], CLUSTERING_OPTIONS[\"K_MAX\"] + 1)\n",
    "    }\n",
    "\n",
    "    for future in tqdm(as_completed(tasks), total=len(tasks), disable=False, ncols=100):\n",
    "        method_name, k = tasks[future]\n",
    "        part, performance_values = future.result()\n",
    "\n",
    "        method_results = {\n",
    "            \"method\": method_name,\n",
    "            \"partition\": part,\n",
    "            \"k\": k,\n",
    "        }\n",
    "        method_results.update(performance_values)\n",
    "\n",
    "        consensus_results.append(method_results)"
   ]
  },
  {
   "cell_type": "code",
   "execution_count": 21,
   "metadata": {
    "execution": {
     "iopub.execute_input": "2021-02-24T04:03:18.353952Z",
     "iopub.status.busy": "2021-02-24T04:03:18.353588Z",
     "iopub.status.idle": "2021-02-24T04:03:18.368197Z",
     "shell.execute_reply": "2021-02-24T04:03:18.367825Z"
    },
    "papermill": {
     "duration": 0.097292,
     "end_time": "2021-02-24T04:03:18.368286",
     "exception": false,
     "start_time": "2021-02-24T04:03:18.270994",
     "status": "completed"
    },
    "tags": []
   },
   "outputs": [],
   "source": [
    "consensus_results = pd.DataFrame(consensus_results)"
   ]
  },
  {
   "cell_type": "code",
   "execution_count": 22,
   "metadata": {
    "execution": {
     "iopub.execute_input": "2021-02-24T04:03:18.531011Z",
     "iopub.status.busy": "2021-02-24T04:03:18.530650Z",
     "iopub.status.idle": "2021-02-24T04:03:18.541261Z",
     "shell.execute_reply": "2021-02-24T04:03:18.540888Z"
    },
    "papermill": {
     "duration": 0.092313,
     "end_time": "2021-02-24T04:03:18.541352",
     "exception": false,
     "start_time": "2021-02-24T04:03:18.449039",
     "status": "completed"
    },
    "tags": []
   },
   "outputs": [
    {
     "data": {
      "text/plain": [
       "(413, 12)"
      ]
     },
     "metadata": {},
     "output_type": "display_data"
    }
   ],
   "source": [
    "display(consensus_results.shape)"
   ]
  },
  {
   "cell_type": "code",
   "execution_count": 23,
   "metadata": {
    "execution": {
     "iopub.execute_input": "2021-02-24T04:03:18.704095Z",
     "iopub.status.busy": "2021-02-24T04:03:18.703735Z",
     "iopub.status.idle": "2021-02-24T04:03:18.727364Z",
     "shell.execute_reply": "2021-02-24T04:03:18.727044Z"
    },
    "papermill": {
     "duration": 0.105228,
     "end_time": "2021-02-24T04:03:18.727455",
     "exception": false,
     "start_time": "2021-02-24T04:03:18.622227",
     "status": "completed"
    },
    "tags": []
   },
   "outputs": [
    {
     "data": {
      "text/html": [
       "<div>\n",
       "<style scoped>\n",
       "    .dataframe tbody tr th:only-of-type {\n",
       "        vertical-align: middle;\n",
       "    }\n",
       "\n",
       "    .dataframe tbody tr th {\n",
       "        vertical-align: top;\n",
       "    }\n",
       "\n",
       "    .dataframe thead th {\n",
       "        text-align: right;\n",
       "    }\n",
       "</style>\n",
       "<table border=\"1\" class=\"dataframe\">\n",
       "  <thead>\n",
       "    <tr style=\"text-align: right;\">\n",
       "      <th></th>\n",
       "      <th>method</th>\n",
       "      <th>partition</th>\n",
       "      <th>k</th>\n",
       "      <th>ari_mean</th>\n",
       "      <th>ari_median</th>\n",
       "      <th>ari_std</th>\n",
       "      <th>ami_mean</th>\n",
       "      <th>ami_median</th>\n",
       "      <th>ami_std</th>\n",
       "      <th>nmi_mean</th>\n",
       "      <th>nmi_median</th>\n",
       "      <th>nmi_std</th>\n",
       "    </tr>\n",
       "  </thead>\n",
       "  <tbody>\n",
       "    <tr>\n",
       "      <th>0</th>\n",
       "      <td>scc_050</td>\n",
       "      <td>[0, 0, 0, 0, 0, 0, 0, 0, 0, 0, 0, 0, 0, 0, 0, ...</td>\n",
       "      <td>2</td>\n",
       "      <td>0.163591</td>\n",
       "      <td>0.087346</td>\n",
       "      <td>0.207059</td>\n",
       "      <td>0.198572</td>\n",
       "      <td>0.168315</td>\n",
       "      <td>0.129355</td>\n",
       "      <td>0.201697</td>\n",
       "      <td>0.172070</td>\n",
       "      <td>0.129167</td>\n",
       "    </tr>\n",
       "    <tr>\n",
       "      <th>1</th>\n",
       "      <td>scc_050</td>\n",
       "      <td>[0, 0, 0, 0, 0, 0, 0, 0, 0, 0, 0, 0, 0, 0, 0, ...</td>\n",
       "      <td>3</td>\n",
       "      <td>0.169278</td>\n",
       "      <td>0.091581</td>\n",
       "      <td>0.209279</td>\n",
       "      <td>0.246141</td>\n",
       "      <td>0.224754</td>\n",
       "      <td>0.130349</td>\n",
       "      <td>0.250372</td>\n",
       "      <td>0.229236</td>\n",
       "      <td>0.129935</td>\n",
       "    </tr>\n",
       "    <tr>\n",
       "      <th>2</th>\n",
       "      <td>scc_050</td>\n",
       "      <td>[2, 2, 2, 0, 2, 0, 0, 2, 2, 0, 2, 2, 0, 2, 2, ...</td>\n",
       "      <td>4</td>\n",
       "      <td>0.155084</td>\n",
       "      <td>0.081946</td>\n",
       "      <td>0.187311</td>\n",
       "      <td>0.248798</td>\n",
       "      <td>0.211920</td>\n",
       "      <td>0.132093</td>\n",
       "      <td>0.254340</td>\n",
       "      <td>0.219736</td>\n",
       "      <td>0.131708</td>\n",
       "    </tr>\n",
       "    <tr>\n",
       "      <th>3</th>\n",
       "      <td>scc_050</td>\n",
       "      <td>[4, 4, 4, 3, 4, 3, 3, 3, 4, 3, 4, 4, 3, 4, 3, ...</td>\n",
       "      <td>5</td>\n",
       "      <td>0.095293</td>\n",
       "      <td>0.063234</td>\n",
       "      <td>0.087100</td>\n",
       "      <td>0.214761</td>\n",
       "      <td>0.221643</td>\n",
       "      <td>0.105779</td>\n",
       "      <td>0.221310</td>\n",
       "      <td>0.230079</td>\n",
       "      <td>0.105815</td>\n",
       "    </tr>\n",
       "    <tr>\n",
       "      <th>4</th>\n",
       "      <td>scc_050</td>\n",
       "      <td>[0, 0, 0, 0, 0, 0, 0, 0, 0, 1, 0, 0, 5, 0, 0, ...</td>\n",
       "      <td>6</td>\n",
       "      <td>0.098073</td>\n",
       "      <td>0.063326</td>\n",
       "      <td>0.092029</td>\n",
       "      <td>0.224145</td>\n",
       "      <td>0.232867</td>\n",
       "      <td>0.115376</td>\n",
       "      <td>0.231692</td>\n",
       "      <td>0.241950</td>\n",
       "      <td>0.115587</td>\n",
       "    </tr>\n",
       "  </tbody>\n",
       "</table>\n",
       "</div>"
      ],
      "text/plain": [
       "    method                                          partition  k  ari_mean  \\\n",
       "0  scc_050  [0, 0, 0, 0, 0, 0, 0, 0, 0, 0, 0, 0, 0, 0, 0, ...  2  0.163591   \n",
       "1  scc_050  [0, 0, 0, 0, 0, 0, 0, 0, 0, 0, 0, 0, 0, 0, 0, ...  3  0.169278   \n",
       "2  scc_050  [2, 2, 2, 0, 2, 0, 0, 2, 2, 0, 2, 2, 0, 2, 2, ...  4  0.155084   \n",
       "3  scc_050  [4, 4, 4, 3, 4, 3, 3, 3, 4, 3, 4, 4, 3, 4, 3, ...  5  0.095293   \n",
       "4  scc_050  [0, 0, 0, 0, 0, 0, 0, 0, 0, 1, 0, 0, 5, 0, 0, ...  6  0.098073   \n",
       "\n",
       "   ari_median   ari_std  ami_mean  ami_median   ami_std  nmi_mean  nmi_median  \\\n",
       "0    0.087346  0.207059  0.198572    0.168315  0.129355  0.201697    0.172070   \n",
       "1    0.091581  0.209279  0.246141    0.224754  0.130349  0.250372    0.229236   \n",
       "2    0.081946  0.187311  0.248798    0.211920  0.132093  0.254340    0.219736   \n",
       "3    0.063234  0.087100  0.214761    0.221643  0.105779  0.221310    0.230079   \n",
       "4    0.063326  0.092029  0.224145    0.232867  0.115376  0.231692    0.241950   \n",
       "\n",
       "    nmi_std  \n",
       "0  0.129167  \n",
       "1  0.129935  \n",
       "2  0.131708  \n",
       "3  0.105815  \n",
       "4  0.115587  "
      ]
     },
     "execution_count": 23,
     "metadata": {},
     "output_type": "execute_result"
    }
   ],
   "source": [
    "consensus_results.head()"
   ]
  },
  {
   "cell_type": "markdown",
   "metadata": {
    "papermill": {
     "duration": 0.079394,
     "end_time": "2021-02-24T04:03:18.887010",
     "exception": false,
     "start_time": "2021-02-24T04:03:18.807616",
     "status": "completed"
    },
    "tags": []
   },
   "source": [
    "## Testing"
   ]
  },
  {
   "cell_type": "code",
   "execution_count": 24,
   "metadata": {
    "execution": {
     "iopub.execute_input": "2021-02-24T04:03:19.049293Z",
     "iopub.status.busy": "2021-02-24T04:03:19.048891Z",
     "iopub.status.idle": "2021-02-24T04:03:19.059702Z",
     "shell.execute_reply": "2021-02-24T04:03:19.059227Z"
    },
    "papermill": {
     "duration": 0.093538,
     "end_time": "2021-02-24T04:03:19.059795",
     "exception": false,
     "start_time": "2021-02-24T04:03:18.966257",
     "status": "completed"
    },
    "tags": []
   },
   "outputs": [],
   "source": [
    "assert not consensus_results.isna().any().any()"
   ]
  },
  {
   "cell_type": "code",
   "execution_count": 25,
   "metadata": {
    "execution": {
     "iopub.execute_input": "2021-02-24T04:03:19.221252Z",
     "iopub.status.busy": "2021-02-24T04:03:19.220888Z",
     "iopub.status.idle": "2021-02-24T04:03:19.259227Z",
     "shell.execute_reply": "2021-02-24T04:03:19.258864Z"
    },
    "papermill": {
     "duration": 0.120622,
     "end_time": "2021-02-24T04:03:19.259315",
     "exception": false,
     "start_time": "2021-02-24T04:03:19.138693",
     "status": "completed"
    },
    "tags": []
   },
   "outputs": [
    {
     "data": {
      "text/plain": [
       "0       2\n",
       "1       3\n",
       "2       4\n",
       "3       5\n",
       "4       6\n",
       "       ..\n",
       "408    56\n",
       "409    57\n",
       "410    58\n",
       "411    59\n",
       "412    60\n",
       "Name: partition, Length: 413, dtype: int64"
      ]
     },
     "metadata": {},
     "output_type": "display_data"
    }
   ],
   "source": [
    "# check that the number of clusters in the partitions are the expected ones\n",
    "_real_k_values = consensus_results[\"partition\"].apply(lambda x: np.unique(x).shape[0])\n",
    "display(_real_k_values)\n",
    "assert np.all(consensus_results[\"k\"].values == _real_k_values.values)"
   ]
  },
  {
   "cell_type": "markdown",
   "metadata": {
    "papermill": {
     "duration": 0.08094,
     "end_time": "2021-02-24T04:03:19.420530",
     "exception": false,
     "start_time": "2021-02-24T04:03:19.339590",
     "status": "completed"
    },
    "tags": []
   },
   "source": [
    "## Save"
   ]
  },
  {
   "cell_type": "code",
   "execution_count": 26,
   "metadata": {
    "execution": {
     "iopub.execute_input": "2021-02-24T04:03:19.583119Z",
     "iopub.status.busy": "2021-02-24T04:03:19.582756Z",
     "iopub.status.idle": "2021-02-24T04:03:19.593881Z",
     "shell.execute_reply": "2021-02-24T04:03:19.593511Z"
    },
    "papermill": {
     "duration": 0.093171,
     "end_time": "2021-02-24T04:03:19.593971",
     "exception": false,
     "start_time": "2021-02-24T04:03:19.500800",
     "status": "completed"
    },
    "tags": []
   },
   "outputs": [
    {
     "data": {
      "text/plain": [
       "PosixPath('/home/miltondp/projects/labs/greenelab/phenoplier/base3/results/clustering/consensus_clustering/consensus_clustering_runs.pkl')"
      ]
     },
     "metadata": {},
     "output_type": "display_data"
    }
   ],
   "source": [
    "output_file = Path(RESULTS_DIR, \"consensus_clustering_runs.pkl\").resolve()\n",
    "display(output_file)"
   ]
  },
  {
   "cell_type": "code",
   "execution_count": 27,
   "metadata": {
    "execution": {
     "iopub.execute_input": "2021-02-24T04:03:19.757731Z",
     "iopub.status.busy": "2021-02-24T04:03:19.757359Z",
     "iopub.status.idle": "2021-02-24T04:03:19.815607Z",
     "shell.execute_reply": "2021-02-24T04:03:19.814340Z"
    },
    "papermill": {
     "duration": 0.14112,
     "end_time": "2021-02-24T04:03:19.815971",
     "exception": false,
     "start_time": "2021-02-24T04:03:19.674851",
     "status": "completed"
    },
    "tags": []
   },
   "outputs": [],
   "source": [
    "consensus_results.to_pickle(output_file)"
   ]
  },
  {
   "cell_type": "code",
   "execution_count": null,
   "metadata": {
    "papermill": {
     "duration": 0.080026,
     "end_time": "2021-02-24T04:03:20.009688",
     "exception": false,
     "start_time": "2021-02-24T04:03:19.929662",
     "status": "completed"
    },
    "tags": []
   },
   "outputs": [],
   "source": []
  }
 ],
 "metadata": {
  "jupytext": {
   "cell_metadata_filter": "all,-execution,-papermill,-trusted",
   "formats": "ipynb,py//py:percent"
  },
  "kernelspec": {
   "display_name": "Python 3",
   "language": "python",
   "name": "python3"
  },
  "language_info": {
   "codemirror_mode": {
    "name": "ipython",
    "version": 3
   },
   "file_extension": ".py",
   "mimetype": "text/x-python",
   "name": "python",
   "nbconvert_exporter": "python",
   "pygments_lexer": "ipython3",
   "version": "3.8.6"
  },
  "papermill": {
   "default_parameters": {},
   "duration": 6049.358198,
   "end_time": "2021-02-24T04:03:20.395323",
   "environment_variables": {},
   "exception": null,
   "input_path": "16_consensus_clustering/020_01-combine_ensemble.ipynb",
   "output_path": "16_consensus_clustering/020_01-combine_ensemble.run.ipynb",
   "parameters": {},
   "start_time": "2021-02-24T02:22:31.037125",
   "version": "2.2.2"
  },
  "toc-autonumbering": true,
  "toc-showcode": false,
  "toc-showmarkdowntxt": false,
  "toc-showtags": false
 },
 "nbformat": 4,
 "nbformat_minor": 4
}
