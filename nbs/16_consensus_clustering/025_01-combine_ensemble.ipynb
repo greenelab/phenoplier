{
 "cells": [
  {
   "cell_type": "markdown",
   "metadata": {
    "papermill": {
     "duration": 0.045656,
     "end_time": "2021-03-11T03:34:30.662291",
     "exception": false,
     "start_time": "2021-03-11T03:34:30.616635",
     "status": "completed"
    },
    "tags": []
   },
   "source": [
    "# Description"
   ]
  },
  {
   "cell_type": "markdown",
   "metadata": {
    "papermill": {
     "duration": 0.012073,
     "end_time": "2021-03-11T03:34:30.690521",
     "exception": false,
     "start_time": "2021-03-11T03:34:30.678448",
     "status": "completed"
    },
    "tags": []
   },
   "source": [
    "It combines all clustering solutions generated into a single consolidated solution using consensus clustering."
   ]
  },
  {
   "cell_type": "markdown",
   "metadata": {
    "papermill": {
     "duration": 0.011754,
     "end_time": "2021-03-11T03:34:30.714097",
     "exception": false,
     "start_time": "2021-03-11T03:34:30.702343",
     "status": "completed"
    },
    "tags": []
   },
   "source": [
    "# Environment variables"
   ]
  },
  {
   "cell_type": "code",
   "execution_count": 1,
   "metadata": {
    "execution": {
     "iopub.execute_input": "2021-03-11T03:34:30.747981Z",
     "iopub.status.busy": "2021-03-11T03:34:30.747487Z",
     "iopub.status.idle": "2021-03-11T03:34:30.750698Z",
     "shell.execute_reply": "2021-03-11T03:34:30.750288Z"
    },
    "papermill": {
     "duration": 0.02473,
     "end_time": "2021-03-11T03:34:30.750787",
     "exception": false,
     "start_time": "2021-03-11T03:34:30.726057",
     "status": "completed"
    },
    "tags": []
   },
   "outputs": [
    {
     "data": {
      "text/plain": [
       "1"
      ]
     },
     "metadata": {},
     "output_type": "display_data"
    }
   ],
   "source": [
    "from IPython.display import display\n",
    "\n",
    "# set numpy n_jobs to 1, since I'll be using n_jobs later\n",
    "NUMPY_N_JOBS = 1\n",
    "display(NUMPY_N_JOBS)"
   ]
  },
  {
   "cell_type": "code",
   "execution_count": 2,
   "metadata": {
    "execution": {
     "iopub.execute_input": "2021-03-11T03:34:30.780266Z",
     "iopub.status.busy": "2021-03-11T03:34:30.779862Z",
     "iopub.status.idle": "2021-03-11T03:34:30.782271Z",
     "shell.execute_reply": "2021-03-11T03:34:30.781853Z"
    },
    "papermill": {
     "duration": 0.018939,
     "end_time": "2021-03-11T03:34:30.782363",
     "exception": false,
     "start_time": "2021-03-11T03:34:30.763424",
     "status": "completed"
    },
    "tags": []
   },
   "outputs": [
    {
     "name": "stdout",
     "output_type": "stream",
     "text": [
      "env: MKL_NUM_THREADS=1\n",
      "env: OPEN_BLAS_NUM_THREADS=1\n",
      "env: NUMEXPR_NUM_THREADS=1\n",
      "env: OMP_NUM_THREADS=1\n"
     ]
    }
   ],
   "source": [
    "%env MKL_NUM_THREADS=$NUMPY_N_JOBS\n",
    "%env OPEN_BLAS_NUM_THREADS=$NUMPY_N_JOBS\n",
    "%env NUMEXPR_NUM_THREADS=$NUMPY_N_JOBS\n",
    "%env OMP_NUM_THREADS=$NUMPY_N_JOBS"
   ]
  },
  {
   "cell_type": "markdown",
   "metadata": {
    "papermill": {
     "duration": 0.012971,
     "end_time": "2021-03-11T03:34:30.808552",
     "exception": false,
     "start_time": "2021-03-11T03:34:30.795581",
     "status": "completed"
    },
    "tags": []
   },
   "source": [
    "# Modules loading"
   ]
  },
  {
   "cell_type": "code",
   "execution_count": 3,
   "metadata": {
    "execution": {
     "iopub.execute_input": "2021-03-11T03:34:30.837033Z",
     "iopub.status.busy": "2021-03-11T03:34:30.836617Z",
     "iopub.status.idle": "2021-03-11T03:34:30.844444Z",
     "shell.execute_reply": "2021-03-11T03:34:30.844078Z"
    },
    "papermill": {
     "duration": 0.023239,
     "end_time": "2021-03-11T03:34:30.844528",
     "exception": false,
     "start_time": "2021-03-11T03:34:30.821289",
     "status": "completed"
    },
    "tags": []
   },
   "outputs": [],
   "source": [
    "%load_ext autoreload\n",
    "%autoreload 2"
   ]
  },
  {
   "cell_type": "code",
   "execution_count": 4,
   "metadata": {
    "execution": {
     "iopub.execute_input": "2021-03-11T03:34:30.872565Z",
     "iopub.status.busy": "2021-03-11T03:34:30.872203Z",
     "iopub.status.idle": "2021-03-11T03:34:31.039352Z",
     "shell.execute_reply": "2021-03-11T03:34:31.039634Z"
    },
    "papermill": {
     "duration": 0.182287,
     "end_time": "2021-03-11T03:34:31.039740",
     "exception": false,
     "start_time": "2021-03-11T03:34:30.857453",
     "status": "completed"
    },
    "tags": []
   },
   "outputs": [],
   "source": [
    "from pathlib import Path\n",
    "\n",
    "import numpy as np\n",
    "import pandas as pd\n",
    "\n",
    "import conf"
   ]
  },
  {
   "cell_type": "markdown",
   "metadata": {
    "papermill": {
     "duration": 0.012421,
     "end_time": "2021-03-11T03:34:31.065055",
     "exception": false,
     "start_time": "2021-03-11T03:34:31.052634",
     "status": "completed"
    },
    "tags": []
   },
   "source": [
    "# Settings"
   ]
  },
  {
   "cell_type": "code",
   "execution_count": 5,
   "metadata": {
    "execution": {
     "iopub.execute_input": "2021-03-11T03:34:31.093252Z",
     "iopub.status.busy": "2021-03-11T03:34:31.092890Z",
     "iopub.status.idle": "2021-03-11T03:34:31.100145Z",
     "shell.execute_reply": "2021-03-11T03:34:31.099779Z"
    },
    "papermill": {
     "duration": 0.022743,
     "end_time": "2021-03-11T03:34:31.100226",
     "exception": false,
     "start_time": "2021-03-11T03:34:31.077483",
     "status": "completed"
    },
    "tags": []
   },
   "outputs": [],
   "source": [
    "np.random.seed(0)"
   ]
  },
  {
   "cell_type": "code",
   "execution_count": 6,
   "metadata": {
    "execution": {
     "iopub.execute_input": "2021-03-11T03:34:31.128252Z",
     "iopub.status.busy": "2021-03-11T03:34:31.127891Z",
     "iopub.status.idle": "2021-03-11T03:34:31.135400Z",
     "shell.execute_reply": "2021-03-11T03:34:31.135697Z"
    },
    "papermill": {
     "duration": 0.022534,
     "end_time": "2021-03-11T03:34:31.135799",
     "exception": false,
     "start_time": "2021-03-11T03:34:31.113265",
     "status": "completed"
    },
    "tags": []
   },
   "outputs": [],
   "source": [
    "RANDOM_STATES_ITER = iter(np.random.randint(0, np.iinfo(np.int32).max, size=100000))"
   ]
  },
  {
   "cell_type": "code",
   "execution_count": 7,
   "metadata": {
    "execution": {
     "iopub.execute_input": "2021-03-11T03:34:31.166749Z",
     "iopub.status.busy": "2021-03-11T03:34:31.166327Z",
     "iopub.status.idle": "2021-03-11T03:34:31.173469Z",
     "shell.execute_reply": "2021-03-11T03:34:31.173792Z"
    },
    "papermill": {
     "duration": 0.024335,
     "end_time": "2021-03-11T03:34:31.173911",
     "exception": false,
     "start_time": "2021-03-11T03:34:31.149576",
     "status": "completed"
    },
    "tags": []
   },
   "outputs": [],
   "source": [
    "# n_init parameter for DeltaSpectralClustering\n",
    "# a high number should produce more stable final solutions\n",
    "SC_N_INIT = 50"
   ]
  },
  {
   "cell_type": "markdown",
   "metadata": {
    "papermill": {
     "duration": 0.013191,
     "end_time": "2021-03-11T03:34:31.201250",
     "exception": false,
     "start_time": "2021-03-11T03:34:31.188059",
     "status": "completed"
    },
    "tags": []
   },
   "source": [
    "## Consensus clustering"
   ]
  },
  {
   "cell_type": "code",
   "execution_count": 8,
   "metadata": {
    "execution": {
     "iopub.execute_input": "2021-03-11T03:34:31.228642Z",
     "iopub.status.busy": "2021-03-11T03:34:31.228283Z",
     "iopub.status.idle": "2021-03-11T03:34:31.236486Z",
     "shell.execute_reply": "2021-03-11T03:34:31.236111Z"
    },
    "papermill": {
     "duration": 0.02287,
     "end_time": "2021-03-11T03:34:31.236568",
     "exception": false,
     "start_time": "2021-03-11T03:34:31.213698",
     "status": "completed"
    },
    "tags": []
   },
   "outputs": [
    {
     "data": {
      "text/plain": [
       "{'K_MIN': 2, 'K_MAX': 60}"
      ]
     },
     "metadata": {},
     "output_type": "display_data"
    }
   ],
   "source": [
    "CLUSTERING_OPTIONS = {}\n",
    "\n",
    "CLUSTERING_OPTIONS[\"K_MIN\"] = 2\n",
    "CLUSTERING_OPTIONS[\"K_MAX\"] = 60\n",
    "\n",
    "display(CLUSTERING_OPTIONS)"
   ]
  },
  {
   "cell_type": "code",
   "execution_count": 9,
   "metadata": {
    "execution": {
     "iopub.execute_input": "2021-03-11T03:34:31.265326Z",
     "iopub.status.busy": "2021-03-11T03:34:31.264965Z",
     "iopub.status.idle": "2021-03-11T03:34:31.272634Z",
     "shell.execute_reply": "2021-03-11T03:34:31.272958Z"
    },
    "papermill": {
     "duration": 0.023239,
     "end_time": "2021-03-11T03:34:31.273056",
     "exception": false,
     "start_time": "2021-03-11T03:34:31.249817",
     "status": "completed"
    },
    "tags": []
   },
   "outputs": [
    {
     "data": {
      "text/plain": [
       "PosixPath('/home/miltondp/projects/labs/greenelab/phenoplier/base/results/clustering/consensus_clustering')"
      ]
     },
     "metadata": {},
     "output_type": "display_data"
    }
   ],
   "source": [
    "# output dir for this notebook\n",
    "RESULTS_DIR = Path(conf.RESULTS[\"CLUSTERING_DIR\"], \"consensus_clustering\").resolve()\n",
    "RESULTS_DIR.mkdir(parents=True, exist_ok=True)\n",
    "\n",
    "display(RESULTS_DIR)"
   ]
  },
  {
   "cell_type": "markdown",
   "metadata": {
    "papermill": {
     "duration": 0.012988,
     "end_time": "2021-03-11T03:34:31.299345",
     "exception": false,
     "start_time": "2021-03-11T03:34:31.286357",
     "status": "completed"
    },
    "tags": []
   },
   "source": [
    "# Load ensemble"
   ]
  },
  {
   "cell_type": "code",
   "execution_count": 10,
   "metadata": {
    "execution": {
     "iopub.execute_input": "2021-03-11T03:34:31.327779Z",
     "iopub.status.busy": "2021-03-11T03:34:31.327418Z",
     "iopub.status.idle": "2021-03-11T03:34:31.335543Z",
     "shell.execute_reply": "2021-03-11T03:34:31.335171Z"
    },
    "papermill": {
     "duration": 0.023265,
     "end_time": "2021-03-11T03:34:31.335624",
     "exception": false,
     "start_time": "2021-03-11T03:34:31.312359",
     "status": "completed"
    },
    "tags": []
   },
   "outputs": [
    {
     "data": {
      "text/plain": [
       "PosixPath('/home/miltondp/projects/labs/greenelab/phenoplier/base/results/clustering/consensus_clustering/ensemble.npy')"
      ]
     },
     "metadata": {},
     "output_type": "display_data"
    }
   ],
   "source": [
    "output_file = Path(RESULTS_DIR, \"ensemble.npy\").resolve()\n",
    "display(output_file)"
   ]
  },
  {
   "cell_type": "code",
   "execution_count": 11,
   "metadata": {
    "execution": {
     "iopub.execute_input": "2021-03-11T03:34:31.365037Z",
     "iopub.status.busy": "2021-03-11T03:34:31.364626Z",
     "iopub.status.idle": "2021-03-11T03:34:31.398335Z",
     "shell.execute_reply": "2021-03-11T03:34:31.398682Z"
    },
    "papermill": {
     "duration": 0.049639,
     "end_time": "2021-03-11T03:34:31.398811",
     "exception": false,
     "start_time": "2021-03-11T03:34:31.349172",
     "status": "completed"
    },
    "tags": []
   },
   "outputs": [],
   "source": [
    "full_ensemble = np.load(output_file)"
   ]
  },
  {
   "cell_type": "code",
   "execution_count": 12,
   "metadata": {
    "execution": {
     "iopub.execute_input": "2021-03-11T03:34:31.433135Z",
     "iopub.status.busy": "2021-03-11T03:34:31.432767Z",
     "iopub.status.idle": "2021-03-11T03:34:31.440115Z",
     "shell.execute_reply": "2021-03-11T03:34:31.440407Z"
    },
    "papermill": {
     "duration": 0.02523,
     "end_time": "2021-03-11T03:34:31.440515",
     "exception": false,
     "start_time": "2021-03-11T03:34:31.415285",
     "status": "completed"
    },
    "tags": []
   },
   "outputs": [
    {
     "data": {
      "text/plain": [
       "(4428, 3752)"
      ]
     },
     "metadata": {},
     "output_type": "display_data"
    }
   ],
   "source": [
    "display(full_ensemble.shape)"
   ]
  },
  {
   "cell_type": "markdown",
   "metadata": {
    "papermill": {
     "duration": 0.014179,
     "end_time": "2021-03-11T03:34:31.468935",
     "exception": false,
     "start_time": "2021-03-11T03:34:31.454756",
     "status": "completed"
    },
    "tags": []
   },
   "source": [
    "# Load ensemble coassociation distance matrix"
   ]
  },
  {
   "cell_type": "code",
   "execution_count": 13,
   "metadata": {
    "execution": {
     "iopub.execute_input": "2021-03-11T03:34:31.498265Z",
     "iopub.status.busy": "2021-03-11T03:34:31.497902Z",
     "iopub.status.idle": "2021-03-11T03:34:31.506202Z",
     "shell.execute_reply": "2021-03-11T03:34:31.505838Z"
    },
    "papermill": {
     "duration": 0.023923,
     "end_time": "2021-03-11T03:34:31.506284",
     "exception": false,
     "start_time": "2021-03-11T03:34:31.482361",
     "status": "completed"
    },
    "tags": []
   },
   "outputs": [
    {
     "data": {
      "text/plain": [
       "PosixPath('/home/miltondp/projects/labs/greenelab/phenoplier/base/results/clustering/consensus_clustering/ensemble_coassoc_matrix.npy')"
      ]
     },
     "metadata": {},
     "output_type": "display_data"
    }
   ],
   "source": [
    "output_file = Path(RESULTS_DIR, \"ensemble_coassoc_matrix.npy\").resolve()\n",
    "display(output_file)"
   ]
  },
  {
   "cell_type": "code",
   "execution_count": 14,
   "metadata": {
    "execution": {
     "iopub.execute_input": "2021-03-11T03:34:31.536250Z",
     "iopub.status.busy": "2021-03-11T03:34:31.535893Z",
     "iopub.status.idle": "2021-03-11T03:34:31.564567Z",
     "shell.execute_reply": "2021-03-11T03:34:31.564912Z"
    },
    "papermill": {
     "duration": 0.044873,
     "end_time": "2021-03-11T03:34:31.565037",
     "exception": false,
     "start_time": "2021-03-11T03:34:31.520164",
     "status": "completed"
    },
    "tags": []
   },
   "outputs": [],
   "source": [
    "ensemble_coassoc_matrix = np.load(output_file)"
   ]
  },
  {
   "cell_type": "code",
   "execution_count": 15,
   "metadata": {
    "execution": {
     "iopub.execute_input": "2021-03-11T03:34:31.599444Z",
     "iopub.status.busy": "2021-03-11T03:34:31.599088Z",
     "iopub.status.idle": "2021-03-11T03:34:31.606455Z",
     "shell.execute_reply": "2021-03-11T03:34:31.606735Z"
    },
    "papermill": {
     "duration": 0.025266,
     "end_time": "2021-03-11T03:34:31.606836",
     "exception": false,
     "start_time": "2021-03-11T03:34:31.581570",
     "status": "completed"
    },
    "tags": []
   },
   "outputs": [
    {
     "data": {
      "text/plain": [
       "(3752, 3752)"
      ]
     },
     "metadata": {},
     "output_type": "display_data"
    }
   ],
   "source": [
    "display(ensemble_coassoc_matrix.shape)"
   ]
  },
  {
   "cell_type": "code",
   "execution_count": 16,
   "metadata": {
    "execution": {
     "iopub.execute_input": "2021-03-11T03:34:31.637159Z",
     "iopub.status.busy": "2021-03-11T03:34:31.636800Z",
     "iopub.status.idle": "2021-03-11T03:34:31.645194Z",
     "shell.execute_reply": "2021-03-11T03:34:31.644819Z"
    },
    "papermill": {
     "duration": 0.024346,
     "end_time": "2021-03-11T03:34:31.645290",
     "exception": false,
     "start_time": "2021-03-11T03:34:31.620944",
     "status": "completed"
    },
    "tags": []
   },
   "outputs": [
    {
     "data": {
      "text/plain": [
       "array([[0.        , 0.31497143, 0.328     , ..., 0.47951098, 0.41141688,\n",
       "        0.64433341],\n",
       "       [0.31497143, 0.        , 0.04153355, ..., 0.67868553, 0.6486054 ,\n",
       "        0.67496005],\n",
       "       [0.328     , 0.04153355, 0.        , ..., 0.66408033, 0.64220393,\n",
       "        0.67701438],\n",
       "       ...,\n",
       "       [0.47951098, 0.67868553, 0.66408033, ..., 0.        , 0.48558456,\n",
       "        0.51122195],\n",
       "       [0.41141688, 0.6486054 , 0.64220393, ..., 0.48558456, 0.        ,\n",
       "        0.66749943],\n",
       "       [0.64433341, 0.67496005, 0.67701438, ..., 0.51122195, 0.66749943,\n",
       "        0.        ]])"
      ]
     },
     "metadata": {},
     "output_type": "display_data"
    }
   ],
   "source": [
    "display(ensemble_coassoc_matrix)"
   ]
  },
  {
   "cell_type": "markdown",
   "metadata": {
    "papermill": {
     "duration": 0.013744,
     "end_time": "2021-03-11T03:34:31.673684",
     "exception": false,
     "start_time": "2021-03-11T03:34:31.659940",
     "status": "completed"
    },
    "tags": []
   },
   "source": [
    "# Consensus clustering"
   ]
  },
  {
   "cell_type": "code",
   "execution_count": 17,
   "metadata": {
    "execution": {
     "iopub.execute_input": "2021-03-11T03:34:31.704974Z",
     "iopub.status.busy": "2021-03-11T03:34:31.704539Z",
     "iopub.status.idle": "2021-03-11T03:34:32.018829Z",
     "shell.execute_reply": "2021-03-11T03:34:32.018413Z"
    },
    "papermill": {
     "duration": 0.330805,
     "end_time": "2021-03-11T03:34:32.018915",
     "exception": false,
     "start_time": "2021-03-11T03:34:31.688110",
     "status": "completed"
    },
    "tags": []
   },
   "outputs": [],
   "source": [
    "from concurrent.futures import ProcessPoolExecutor, as_completed\n",
    "\n",
    "from tqdm import tqdm\n",
    "\n",
    "from clustering.ensembles.utils import (\n",
    "    run_method_and_compute_agreement,\n",
    ")\n",
    "from clustering.ensembles.eac import (\n",
    "    eac_single_coassoc_matrix,\n",
    "    eac_complete_coassoc_matrix,\n",
    "    eac_average_coassoc_matrix,\n",
    ")\n",
    "from clustering.ensembles.spectral import scc"
   ]
  },
  {
   "cell_type": "markdown",
   "metadata": {
    "papermill": {
     "duration": 0.014405,
     "end_time": "2021-03-11T03:34:32.047555",
     "exception": false,
     "start_time": "2021-03-11T03:34:32.033150",
     "status": "completed"
    },
    "tags": []
   },
   "source": [
    "Define spectral consensus clustering methods with delta values found in pre-analysis:"
   ]
  },
  {
   "cell_type": "code",
   "execution_count": 18,
   "metadata": {
    "execution": {
     "iopub.execute_input": "2021-03-11T03:34:32.079149Z",
     "iopub.status.busy": "2021-03-11T03:34:32.078735Z",
     "iopub.status.idle": "2021-03-11T03:34:32.088932Z",
     "shell.execute_reply": "2021-03-11T03:34:32.088493Z"
    },
    "papermill": {
     "duration": 0.027583,
     "end_time": "2021-03-11T03:34:32.089019",
     "exception": false,
     "start_time": "2021-03-11T03:34:32.061436",
     "status": "completed"
    },
    "tags": []
   },
   "outputs": [],
   "source": [
    "def scc_020(coassoc_distance_matrix, k, **kwargs):\n",
    "    return scc(\n",
    "        coassoc_distance_matrix,\n",
    "        k,\n",
    "        delta=0.20,\n",
    "        ensemble_is_coassoc_matrix=True,\n",
    "        **kwargs\n",
    "    )\n",
    "\n",
    "\n",
    "def scc_025(coassoc_distance_matrix, k, **kwargs):\n",
    "    return scc(\n",
    "        coassoc_distance_matrix,\n",
    "        k,\n",
    "        delta=0.25,\n",
    "        ensemble_is_coassoc_matrix=True,\n",
    "        **kwargs\n",
    "    )\n",
    "\n",
    "\n",
    "def scc_030(coassoc_distance_matrix, k, **kwargs):\n",
    "    return scc(\n",
    "        coassoc_distance_matrix,\n",
    "        k,\n",
    "        delta=0.30,\n",
    "        ensemble_is_coassoc_matrix=True,\n",
    "        **kwargs\n",
    "    )\n",
    "\n",
    "\n",
    "def scc_050(coassoc_distance_matrix, k, **kwargs):\n",
    "    return scc(\n",
    "        coassoc_distance_matrix,\n",
    "        k,\n",
    "        delta=0.50,\n",
    "        ensemble_is_coassoc_matrix=True,\n",
    "        **kwargs\n",
    "    )"
   ]
  },
  {
   "cell_type": "code",
   "execution_count": 19,
   "metadata": {
    "execution": {
     "iopub.execute_input": "2021-03-11T03:34:32.120023Z",
     "iopub.status.busy": "2021-03-11T03:34:32.119663Z",
     "iopub.status.idle": "2021-03-11T03:34:32.130519Z",
     "shell.execute_reply": "2021-03-11T03:34:32.130134Z"
    },
    "papermill": {
     "duration": 0.02719,
     "end_time": "2021-03-11T03:34:32.130603",
     "exception": false,
     "start_time": "2021-03-11T03:34:32.103413",
     "status": "completed"
    },
    "tags": []
   },
   "outputs": [
    {
     "data": {
      "text/plain": [
       "{<function clustering.ensembles.eac.eac_average_coassoc_matrix(coassoc_matrix, k, **kwargs)>,\n",
       " <function clustering.ensembles.eac.eac_complete_coassoc_matrix(coassoc_matrix, k, **kwargs)>,\n",
       " <function clustering.ensembles.eac.eac_single_coassoc_matrix(coassoc_matrix, k, **kwargs)>,\n",
       " <function __main__.scc_020(coassoc_distance_matrix, k, **kwargs)>,\n",
       " <function __main__.scc_025(coassoc_distance_matrix, k, **kwargs)>,\n",
       " <function __main__.scc_030(coassoc_distance_matrix, k, **kwargs)>,\n",
       " <function __main__.scc_050(coassoc_distance_matrix, k, **kwargs)>}"
      ]
     },
     "metadata": {},
     "output_type": "display_data"
    }
   ],
   "source": [
    "all_consensus_methods = set(\n",
    "    (\n",
    "        eac_single_coassoc_matrix,\n",
    "        eac_complete_coassoc_matrix,\n",
    "        eac_average_coassoc_matrix,\n",
    "        scc_020,\n",
    "        scc_025,\n",
    "        scc_030,\n",
    "        scc_050,\n",
    "    )\n",
    ")\n",
    "display(all_consensus_methods)"
   ]
  },
  {
   "cell_type": "code",
   "execution_count": 20,
   "metadata": {
    "execution": {
     "iopub.execute_input": "2021-03-11T03:34:32.165612Z",
     "iopub.status.busy": "2021-03-11T03:34:32.165170Z",
     "iopub.status.idle": "2021-03-11T05:12:47.095135Z",
     "shell.execute_reply": "2021-03-11T05:12:47.094801Z"
    },
    "papermill": {
     "duration": 5894.949688,
     "end_time": "2021-03-11T05:12:47.095231",
     "exception": false,
     "start_time": "2021-03-11T03:34:32.145543",
     "status": "completed"
    },
    "tags": []
   },
   "outputs": [
    {
     "name": "stderr",
     "output_type": "stream",
     "text": [
      "\r",
      "  0%|                                                                       | 0/413 [00:00<?, ?it/s]"
     ]
    },
    {
     "name": "stderr",
     "output_type": "stream",
     "text": [
      "\r",
      "  0%|▏                                                            | 1/413 [00:24<2:51:00, 24.90s/it]"
     ]
    },
    {
     "name": "stderr",
     "output_type": "stream",
     "text": [
      "\r",
      "  0%|▎                                                            | 2/413 [00:25<2:00:43, 17.62s/it]"
     ]
    },
    {
     "name": "stderr",
     "output_type": "stream",
     "text": [
      "\r",
      "  1%|▍                                                            | 3/413 [00:28<1:31:06, 13.33s/it]"
     ]
    },
    {
     "name": "stderr",
     "output_type": "stream",
     "text": [
      "\r",
      "  1%|▌                                                            | 4/413 [00:53<1:53:20, 16.63s/it]"
     ]
    },
    {
     "name": "stderr",
     "output_type": "stream",
     "text": [
      "\r",
      "  1%|▋                                                            | 5/413 [00:54<1:21:52, 12.04s/it]"
     ]
    },
    {
     "name": "stderr",
     "output_type": "stream",
     "text": [
      "\r",
      "  1%|▉                                                            | 6/413 [00:59<1:07:00,  9.88s/it]"
     ]
    },
    {
     "name": "stderr",
     "output_type": "stream",
     "text": [
      "\r",
      "  2%|█                                                            | 7/413 [01:23<1:36:30, 14.26s/it]"
     ]
    },
    {
     "name": "stderr",
     "output_type": "stream",
     "text": [
      "\r",
      "  2%|█▏                                                           | 8/413 [01:27<1:14:04, 10.97s/it]"
     ]
    },
    {
     "name": "stderr",
     "output_type": "stream",
     "text": [
      "\r",
      "  2%|█▎                                                           | 9/413 [01:33<1:03:39,  9.46s/it]"
     ]
    },
    {
     "name": "stderr",
     "output_type": "stream",
     "text": [
      "\r",
      "  2%|█▍                                                          | 10/413 [01:57<1:32:53, 13.83s/it]"
     ]
    },
    {
     "name": "stderr",
     "output_type": "stream",
     "text": [
      "\r",
      "  3%|█▌                                                          | 11/413 [02:02<1:16:00, 11.35s/it]"
     ]
    },
    {
     "name": "stderr",
     "output_type": "stream",
     "text": [
      "\r",
      "  3%|█▋                                                          | 12/413 [02:08<1:05:22,  9.78s/it]"
     ]
    },
    {
     "name": "stderr",
     "output_type": "stream",
     "text": [
      "\r",
      "  3%|█▉                                                          | 13/413 [02:33<1:35:16, 14.29s/it]"
     ]
    },
    {
     "name": "stderr",
     "output_type": "stream",
     "text": [
      "\r",
      "  3%|██                                                          | 14/413 [02:39<1:19:05, 11.89s/it]"
     ]
    },
    {
     "name": "stderr",
     "output_type": "stream",
     "text": [
      "\r",
      "  4%|██▏                                                         | 15/413 [02:46<1:07:52, 10.23s/it]"
     ]
    },
    {
     "name": "stderr",
     "output_type": "stream",
     "text": [
      "\r",
      "  4%|██▎                                                         | 16/413 [03:12<1:39:24, 15.02s/it]"
     ]
    },
    {
     "name": "stderr",
     "output_type": "stream",
     "text": [
      "\r",
      "  4%|██▍                                                         | 17/413 [03:19<1:22:35, 12.51s/it]"
     ]
    },
    {
     "name": "stderr",
     "output_type": "stream",
     "text": [
      "\r",
      "  4%|██▌                                                         | 18/413 [03:26<1:12:26, 11.00s/it]"
     ]
    },
    {
     "name": "stderr",
     "output_type": "stream",
     "text": [
      "\r",
      "  5%|██▊                                                         | 19/413 [03:53<1:44:07, 15.86s/it]"
     ]
    },
    {
     "name": "stderr",
     "output_type": "stream",
     "text": [
      "\r",
      "  5%|██▉                                                         | 20/413 [04:01<1:27:28, 13.36s/it]"
     ]
    },
    {
     "name": "stderr",
     "output_type": "stream",
     "text": [
      "\r",
      "  5%|███                                                         | 21/413 [04:10<1:18:16, 11.98s/it]"
     ]
    },
    {
     "name": "stderr",
     "output_type": "stream",
     "text": [
      "\r",
      "  5%|███▏                                                        | 22/413 [04:37<1:48:33, 16.66s/it]"
     ]
    },
    {
     "name": "stderr",
     "output_type": "stream",
     "text": [
      "\r",
      "  6%|███▎                                                        | 23/413 [04:46<1:32:15, 14.19s/it]"
     ]
    },
    {
     "name": "stderr",
     "output_type": "stream",
     "text": [
      "\r",
      "  6%|███▍                                                        | 24/413 [04:55<1:22:43, 12.76s/it]"
     ]
    },
    {
     "name": "stderr",
     "output_type": "stream",
     "text": [
      "\r",
      "  6%|███▋                                                        | 25/413 [05:23<1:52:08, 17.34s/it]"
     ]
    },
    {
     "name": "stderr",
     "output_type": "stream",
     "text": [
      "\r",
      "  6%|███▊                                                        | 26/413 [05:32<1:35:54, 14.87s/it]"
     ]
    },
    {
     "name": "stderr",
     "output_type": "stream",
     "text": [
      "\r",
      "  7%|███▉                                                        | 27/413 [05:42<1:26:43, 13.48s/it]"
     ]
    },
    {
     "name": "stderr",
     "output_type": "stream",
     "text": [
      "\r",
      "  7%|████                                                        | 28/413 [06:11<1:54:46, 17.89s/it]"
     ]
    },
    {
     "name": "stderr",
     "output_type": "stream",
     "text": [
      "\r",
      "  7%|████▏                                                       | 29/413 [06:21<1:39:20, 15.52s/it]"
     ]
    },
    {
     "name": "stderr",
     "output_type": "stream",
     "text": [
      "\r",
      "  7%|████▎                                                       | 30/413 [06:32<1:30:28, 14.17s/it]"
     ]
    },
    {
     "name": "stderr",
     "output_type": "stream",
     "text": [
      "\r",
      "  8%|████▌                                                       | 31/413 [07:01<1:58:33, 18.62s/it]"
     ]
    },
    {
     "name": "stderr",
     "output_type": "stream",
     "text": [
      "\r",
      "  8%|████▋                                                       | 32/413 [07:12<1:44:29, 16.46s/it]"
     ]
    },
    {
     "name": "stderr",
     "output_type": "stream",
     "text": [
      "\r",
      "  8%|████▊                                                       | 33/413 [07:23<1:33:24, 14.75s/it]"
     ]
    },
    {
     "name": "stderr",
     "output_type": "stream",
     "text": [
      "\r",
      "  8%|████▉                                                       | 34/413 [07:53<2:01:54, 19.30s/it]"
     ]
    },
    {
     "name": "stderr",
     "output_type": "stream",
     "text": [
      "\r",
      "  8%|█████                                                       | 35/413 [08:05<1:48:11, 17.17s/it]"
     ]
    },
    {
     "name": "stderr",
     "output_type": "stream",
     "text": [
      "\r",
      "  9%|█████▏                                                      | 36/413 [08:17<1:37:38, 15.54s/it]"
     ]
    },
    {
     "name": "stderr",
     "output_type": "stream",
     "text": [
      "\r",
      "  9%|█████▍                                                      | 37/413 [08:47<2:04:54, 19.93s/it]"
     ]
    },
    {
     "name": "stderr",
     "output_type": "stream",
     "text": [
      "\r",
      "  9%|█████▌                                                      | 38/413 [09:00<1:52:04, 17.93s/it]"
     ]
    },
    {
     "name": "stderr",
     "output_type": "stream",
     "text": [
      "\r",
      "  9%|█████▋                                                      | 39/413 [09:12<1:40:47, 16.17s/it]"
     ]
    },
    {
     "name": "stderr",
     "output_type": "stream",
     "text": [
      "\r",
      " 10%|█████▊                                                      | 40/413 [09:43<2:07:28, 20.50s/it]"
     ]
    },
    {
     "name": "stderr",
     "output_type": "stream",
     "text": [
      "\r",
      " 10%|█████▉                                                      | 41/413 [09:56<1:54:39, 18.49s/it]"
     ]
    },
    {
     "name": "stderr",
     "output_type": "stream",
     "text": [
      "\r",
      " 10%|██████                                                      | 42/413 [10:09<1:42:52, 16.64s/it]"
     ]
    },
    {
     "name": "stderr",
     "output_type": "stream",
     "text": [
      "\r",
      " 10%|██████▏                                                     | 43/413 [10:40<2:10:10, 21.11s/it]"
     ]
    },
    {
     "name": "stderr",
     "output_type": "stream",
     "text": [
      "\r",
      " 11%|██████▍                                                     | 44/413 [10:55<1:57:31, 19.11s/it]"
     ]
    },
    {
     "name": "stderr",
     "output_type": "stream",
     "text": [
      "\r",
      " 11%|██████▌                                                     | 45/413 [11:08<1:46:28, 17.36s/it]"
     ]
    },
    {
     "name": "stderr",
     "output_type": "stream",
     "text": [
      "\r",
      " 11%|██████▋                                                     | 46/413 [11:40<2:13:04, 21.76s/it]"
     ]
    },
    {
     "name": "stderr",
     "output_type": "stream",
     "text": [
      "\r",
      " 11%|██████▊                                                     | 47/413 [11:55<1:59:52, 19.65s/it]"
     ]
    },
    {
     "name": "stderr",
     "output_type": "stream",
     "text": [
      "\r",
      " 12%|██████▉                                                     | 48/413 [12:08<1:48:15, 17.80s/it]"
     ]
    },
    {
     "name": "stderr",
     "output_type": "stream",
     "text": [
      "\r",
      " 12%|███████                                                     | 49/413 [12:41<2:15:19, 22.31s/it]"
     ]
    },
    {
     "name": "stderr",
     "output_type": "stream",
     "text": [
      "\r",
      " 12%|███████▎                                                    | 50/413 [12:56<2:02:16, 20.21s/it]"
     ]
    },
    {
     "name": "stderr",
     "output_type": "stream",
     "text": [
      "\r",
      " 12%|███████▍                                                    | 51/413 [13:10<1:50:02, 18.24s/it]"
     ]
    },
    {
     "name": "stderr",
     "output_type": "stream",
     "text": [
      "\r",
      " 13%|███████▌                                                    | 52/413 [13:44<2:18:05, 22.95s/it]"
     ]
    },
    {
     "name": "stderr",
     "output_type": "stream",
     "text": [
      "\r",
      " 13%|███████▋                                                    | 53/413 [13:59<2:04:02, 20.67s/it]"
     ]
    },
    {
     "name": "stderr",
     "output_type": "stream",
     "text": [
      "\r",
      " 13%|███████▊                                                    | 54/413 [14:14<1:53:02, 18.89s/it]"
     ]
    },
    {
     "name": "stderr",
     "output_type": "stream",
     "text": [
      "\r",
      " 13%|███████▉                                                    | 55/413 [14:49<2:20:32, 23.55s/it]"
     ]
    },
    {
     "name": "stderr",
     "output_type": "stream",
     "text": [
      "\r",
      " 14%|████████▏                                                   | 56/413 [15:05<2:07:23, 21.41s/it]"
     ]
    },
    {
     "name": "stderr",
     "output_type": "stream",
     "text": [
      "\r",
      " 14%|████████▎                                                   | 57/413 [15:20<1:55:46, 19.51s/it]"
     ]
    },
    {
     "name": "stderr",
     "output_type": "stream",
     "text": [
      "\r",
      " 14%|████████▍                                                   | 58/413 [15:46<2:07:21, 21.53s/it]"
     ]
    },
    {
     "name": "stderr",
     "output_type": "stream",
     "text": [
      "\r",
      " 14%|████████▌                                                   | 59/413 [15:55<1:44:00, 17.63s/it]"
     ]
    },
    {
     "name": "stderr",
     "output_type": "stream",
     "text": [
      "\r",
      " 15%|████████▋                                                   | 60/413 [16:12<1:42:11, 17.37s/it]"
     ]
    },
    {
     "name": "stderr",
     "output_type": "stream",
     "text": [
      "\r",
      " 15%|████████▊                                                   | 61/413 [16:15<1:16:28, 13.04s/it]"
     ]
    },
    {
     "name": "stderr",
     "output_type": "stream",
     "text": [
      "\r",
      " 15%|█████████                                                   | 62/413 [16:24<1:09:55, 11.95s/it]"
     ]
    },
    {
     "name": "stderr",
     "output_type": "stream",
     "text": [
      "\r",
      " 15%|█████████▏                                                  | 63/413 [16:42<1:21:07, 13.91s/it]"
     ]
    },
    {
     "name": "stderr",
     "output_type": "stream",
     "text": [
      "\r",
      " 15%|█████████▎                                                  | 64/413 [16:47<1:03:57, 11.00s/it]"
     ]
    },
    {
     "name": "stderr",
     "output_type": "stream",
     "text": [
      "\r",
      " 16%|█████████▍                                                  | 65/413 [16:57<1:03:32, 10.95s/it]"
     ]
    },
    {
     "name": "stderr",
     "output_type": "stream",
     "text": [
      "\r",
      " 16%|█████████▌                                                  | 66/413 [17:17<1:17:34, 13.41s/it]"
     ]
    },
    {
     "name": "stderr",
     "output_type": "stream",
     "text": [
      "\r",
      " 16%|█████████▋                                                  | 67/413 [17:22<1:03:15, 10.97s/it]"
     ]
    },
    {
     "name": "stderr",
     "output_type": "stream",
     "text": [
      "\r",
      " 16%|█████████▉                                                  | 68/413 [17:34<1:04:42, 11.25s/it]"
     ]
    },
    {
     "name": "stderr",
     "output_type": "stream",
     "text": [
      "\r",
      " 17%|██████████                                                  | 69/413 [17:54<1:20:41, 14.08s/it]"
     ]
    },
    {
     "name": "stderr",
     "output_type": "stream",
     "text": [
      "\r",
      " 17%|██████████▏                                                 | 70/413 [18:01<1:07:00, 11.72s/it]"
     ]
    },
    {
     "name": "stderr",
     "output_type": "stream",
     "text": [
      "\r",
      " 17%|██████████▎                                                 | 71/413 [18:13<1:07:42, 11.88s/it]"
     ]
    },
    {
     "name": "stderr",
     "output_type": "stream",
     "text": [
      "\r",
      " 17%|██████████▍                                                 | 72/413 [18:34<1:22:57, 14.60s/it]"
     ]
    },
    {
     "name": "stderr",
     "output_type": "stream",
     "text": [
      "\r",
      " 18%|██████████▌                                                 | 73/413 [18:41<1:10:16, 12.40s/it]"
     ]
    },
    {
     "name": "stderr",
     "output_type": "stream",
     "text": [
      "\r",
      " 18%|██████████▊                                                 | 74/413 [18:54<1:11:30, 12.66s/it]"
     ]
    },
    {
     "name": "stderr",
     "output_type": "stream",
     "text": [
      "\r",
      " 18%|██████████▉                                                 | 75/413 [19:17<1:27:20, 15.50s/it]"
     ]
    },
    {
     "name": "stderr",
     "output_type": "stream",
     "text": [
      "\r",
      " 18%|███████████                                                 | 76/413 [19:24<1:14:19, 13.23s/it]"
     ]
    },
    {
     "name": "stderr",
     "output_type": "stream",
     "text": [
      "\r",
      " 19%|███████████▏                                                | 77/413 [19:39<1:15:38, 13.51s/it]"
     ]
    },
    {
     "name": "stderr",
     "output_type": "stream",
     "text": [
      "\r",
      " 19%|███████████▎                                                | 78/413 [20:01<1:30:47, 16.26s/it]"
     ]
    },
    {
     "name": "stderr",
     "output_type": "stream",
     "text": [
      "\r",
      " 19%|███████████▍                                                | 79/413 [20:10<1:17:17, 13.88s/it]"
     ]
    },
    {
     "name": "stderr",
     "output_type": "stream",
     "text": [
      "\r",
      " 19%|███████████▌                                                | 80/413 [20:25<1:19:39, 14.35s/it]"
     ]
    },
    {
     "name": "stderr",
     "output_type": "stream",
     "text": [
      "\r",
      " 20%|███████████▊                                                | 81/413 [20:49<1:35:14, 17.21s/it]"
     ]
    },
    {
     "name": "stderr",
     "output_type": "stream",
     "text": [
      "\r",
      " 20%|███████████▉                                                | 82/413 [20:58<1:21:42, 14.81s/it]"
     ]
    },
    {
     "name": "stderr",
     "output_type": "stream",
     "text": [
      "\r",
      " 20%|████████████                                                | 83/413 [21:14<1:23:38, 15.21s/it]"
     ]
    },
    {
     "name": "stderr",
     "output_type": "stream",
     "text": [
      "\r",
      " 20%|████████████▏                                               | 84/413 [21:39<1:38:27, 17.96s/it]"
     ]
    },
    {
     "name": "stderr",
     "output_type": "stream",
     "text": [
      "\r",
      " 21%|████████████▎                                               | 85/413 [21:48<1:24:40, 15.49s/it]"
     ]
    },
    {
     "name": "stderr",
     "output_type": "stream",
     "text": [
      "\r",
      " 21%|████████████▍                                               | 86/413 [22:05<1:26:21, 15.85s/it]"
     ]
    },
    {
     "name": "stderr",
     "output_type": "stream",
     "text": [
      "\r",
      " 21%|████████████▋                                               | 87/413 [22:30<1:41:21, 18.65s/it]"
     ]
    },
    {
     "name": "stderr",
     "output_type": "stream",
     "text": [
      "\r",
      " 21%|████████████▊                                               | 88/413 [22:40<1:26:04, 15.89s/it]"
     ]
    },
    {
     "name": "stderr",
     "output_type": "stream",
     "text": [
      "\r",
      " 22%|████████████▉                                               | 89/413 [22:58<1:29:22, 16.55s/it]"
     ]
    },
    {
     "name": "stderr",
     "output_type": "stream",
     "text": [
      "\r",
      " 22%|█████████████                                               | 90/413 [23:23<1:43:25, 19.21s/it]"
     ]
    },
    {
     "name": "stderr",
     "output_type": "stream",
     "text": [
      "\r",
      " 22%|█████████████▏                                              | 91/413 [23:34<1:28:40, 16.52s/it]"
     ]
    },
    {
     "name": "stderr",
     "output_type": "stream",
     "text": [
      "\r",
      " 22%|█████████████▎                                              | 92/413 [23:52<1:31:38, 17.13s/it]"
     ]
    },
    {
     "name": "stderr",
     "output_type": "stream",
     "text": [
      "\r",
      " 23%|█████████████▌                                              | 93/413 [24:18<1:45:36, 19.80s/it]"
     ]
    },
    {
     "name": "stderr",
     "output_type": "stream",
     "text": [
      "\r",
      " 23%|█████████████▋                                              | 94/413 [24:29<1:30:24, 17.00s/it]"
     ]
    },
    {
     "name": "stderr",
     "output_type": "stream",
     "text": [
      "\r",
      " 23%|█████████████▊                                              | 95/413 [24:49<1:35:24, 18.00s/it]"
     ]
    },
    {
     "name": "stderr",
     "output_type": "stream",
     "text": [
      "\r",
      " 23%|█████████████▉                                              | 96/413 [25:15<1:47:49, 20.41s/it]"
     ]
    },
    {
     "name": "stderr",
     "output_type": "stream",
     "text": [
      "\r",
      " 23%|██████████████                                              | 97/413 [25:26<1:32:37, 17.59s/it]"
     ]
    },
    {
     "name": "stderr",
     "output_type": "stream",
     "text": [
      "\r",
      " 24%|██████████████▏                                             | 98/413 [25:47<1:37:47, 18.63s/it]"
     ]
    },
    {
     "name": "stderr",
     "output_type": "stream",
     "text": [
      "\r",
      " 24%|██████████████▍                                             | 99/413 [26:14<1:49:54, 21.00s/it]"
     ]
    },
    {
     "name": "stderr",
     "output_type": "stream",
     "text": [
      "\r",
      " 24%|██████████████▎                                            | 100/413 [26:25<1:35:07, 18.23s/it]"
     ]
    },
    {
     "name": "stderr",
     "output_type": "stream",
     "text": [
      "\r",
      " 24%|██████████████▍                                            | 101/413 [26:47<1:39:56, 19.22s/it]"
     ]
    },
    {
     "name": "stderr",
     "output_type": "stream",
     "text": [
      "\r",
      " 25%|██████████████▌                                            | 102/413 [27:14<1:52:11, 21.65s/it]"
     ]
    },
    {
     "name": "stderr",
     "output_type": "stream",
     "text": [
      "\r",
      " 25%|██████████████▋                                            | 103/413 [27:26<1:36:47, 18.74s/it]"
     ]
    },
    {
     "name": "stderr",
     "output_type": "stream",
     "text": [
      "\r",
      " 25%|██████████████▊                                            | 104/413 [27:48<1:41:47, 19.76s/it]"
     ]
    },
    {
     "name": "stderr",
     "output_type": "stream",
     "text": [
      "\r",
      " 25%|███████████████                                            | 105/413 [28:16<1:54:18, 22.27s/it]"
     ]
    },
    {
     "name": "stderr",
     "output_type": "stream",
     "text": [
      "\r",
      " 26%|███████████████▏                                           | 106/413 [28:29<1:38:54, 19.33s/it]"
     ]
    },
    {
     "name": "stderr",
     "output_type": "stream",
     "text": [
      "\r",
      " 26%|███████████████▎                                           | 107/413 [28:52<1:44:03, 20.40s/it]"
     ]
    },
    {
     "name": "stderr",
     "output_type": "stream",
     "text": [
      "\r",
      " 26%|███████████████▍                                           | 108/413 [29:21<1:56:45, 22.97s/it]"
     ]
    },
    {
     "name": "stderr",
     "output_type": "stream",
     "text": [
      "\r",
      " 26%|███████████████▌                                           | 109/413 [29:33<1:40:38, 19.86s/it]"
     ]
    },
    {
     "name": "stderr",
     "output_type": "stream",
     "text": [
      "\r",
      " 27%|███████████████▋                                           | 110/413 [29:57<1:45:50, 20.96s/it]"
     ]
    },
    {
     "name": "stderr",
     "output_type": "stream",
     "text": [
      "\r",
      " 27%|███████████████▊                                           | 111/413 [30:26<1:58:36, 23.57s/it]"
     ]
    },
    {
     "name": "stderr",
     "output_type": "stream",
     "text": [
      "\r",
      " 27%|████████████████                                           | 112/413 [30:40<1:42:29, 20.43s/it]"
     ]
    },
    {
     "name": "stderr",
     "output_type": "stream",
     "text": [
      "\r",
      " 27%|████████████████▏                                          | 113/413 [31:04<1:47:40, 21.53s/it]"
     ]
    },
    {
     "name": "stderr",
     "output_type": "stream",
     "text": [
      "\r",
      " 28%|████████████████▎                                          | 114/413 [31:34<2:00:14, 24.13s/it]"
     ]
    },
    {
     "name": "stderr",
     "output_type": "stream",
     "text": [
      "\r",
      " 28%|████████████████▍                                          | 115/413 [31:47<1:43:39, 20.87s/it]"
     ]
    },
    {
     "name": "stderr",
     "output_type": "stream",
     "text": [
      "\r",
      " 28%|████████████████▌                                          | 116/413 [32:12<1:49:22, 22.10s/it]"
     ]
    },
    {
     "name": "stderr",
     "output_type": "stream",
     "text": [
      "\r",
      " 28%|████████████████▋                                          | 117/413 [32:37<1:52:57, 22.90s/it]"
     ]
    },
    {
     "name": "stderr",
     "output_type": "stream",
     "text": [
      "\r",
      " 29%|████████████████▊                                          | 118/413 [32:43<1:27:33, 17.81s/it]"
     ]
    },
    {
     "name": "stderr",
     "output_type": "stream",
     "text": [
      "\r",
      " 29%|█████████████████                                          | 119/413 [32:56<1:20:55, 16.52s/it]"
     ]
    },
    {
     "name": "stderr",
     "output_type": "stream",
     "text": [
      "\r",
      " 29%|█████████████████▏                                         | 120/413 [33:02<1:05:03, 13.32s/it]"
     ]
    },
    {
     "name": "stderr",
     "output_type": "stream",
     "text": [
      "\r",
      " 29%|█████████████████▊                                           | 121/413 [33:09<55:00, 11.30s/it]"
     ]
    },
    {
     "name": "stderr",
     "output_type": "stream",
     "text": [
      "\r",
      " 30%|██████████████████                                           | 122/413 [33:23<58:40, 12.10s/it]"
     ]
    },
    {
     "name": "stderr",
     "output_type": "stream",
     "text": [
      "\r",
      " 30%|██████████████████▏                                          | 123/413 [33:29<50:29, 10.45s/it]"
     ]
    },
    {
     "name": "stderr",
     "output_type": "stream",
     "text": [
      "\r",
      " 30%|██████████████████▎                                          | 124/413 [33:36<45:19,  9.41s/it]"
     ]
    },
    {
     "name": "stderr",
     "output_type": "stream",
     "text": [
      "\r",
      " 30%|██████████████████▍                                          | 125/413 [33:51<52:15, 10.89s/it]"
     ]
    },
    {
     "name": "stderr",
     "output_type": "stream",
     "text": [
      "\r",
      " 31%|██████████████████▌                                          | 126/413 [33:58<46:30,  9.72s/it]"
     ]
    },
    {
     "name": "stderr",
     "output_type": "stream",
     "text": [
      "\r",
      " 31%|██████████████████▊                                          | 127/413 [34:05<42:56,  9.01s/it]"
     ]
    },
    {
     "name": "stderr",
     "output_type": "stream",
     "text": [
      "\r",
      " 31%|██████████████████▉                                          | 128/413 [34:20<50:45, 10.69s/it]"
     ]
    },
    {
     "name": "stderr",
     "output_type": "stream",
     "text": [
      "\r",
      " 31%|███████████████████                                          | 129/413 [34:27<45:43,  9.66s/it]"
     ]
    },
    {
     "name": "stderr",
     "output_type": "stream",
     "text": [
      "\r",
      " 31%|███████████████████▏                                         | 130/413 [34:35<43:41,  9.26s/it]"
     ]
    },
    {
     "name": "stderr",
     "output_type": "stream",
     "text": [
      "\r",
      " 32%|███████████████████▎                                         | 131/413 [34:50<51:32, 10.97s/it]"
     ]
    },
    {
     "name": "stderr",
     "output_type": "stream",
     "text": [
      "\r",
      " 32%|███████████████████▍                                         | 132/413 [34:58<46:50, 10.00s/it]"
     ]
    },
    {
     "name": "stderr",
     "output_type": "stream",
     "text": [
      "\r",
      " 32%|███████████████████▋                                         | 133/413 [35:08<46:27,  9.95s/it]"
     ]
    },
    {
     "name": "stderr",
     "output_type": "stream",
     "text": [
      "\r",
      " 32%|███████████████████▊                                         | 134/413 [35:23<53:52, 11.59s/it]"
     ]
    },
    {
     "name": "stderr",
     "output_type": "stream",
     "text": [
      "\r",
      " 33%|███████████████████▉                                         | 135/413 [35:31<48:44, 10.52s/it]"
     ]
    },
    {
     "name": "stderr",
     "output_type": "stream",
     "text": [
      "\r",
      " 33%|████████████████████                                         | 136/413 [35:42<48:28, 10.50s/it]"
     ]
    },
    {
     "name": "stderr",
     "output_type": "stream",
     "text": [
      "\r",
      " 33%|████████████████████▏                                        | 137/413 [35:58<56:01, 12.18s/it]"
     ]
    },
    {
     "name": "stderr",
     "output_type": "stream",
     "text": [
      "\r",
      " 33%|████████████████████▍                                        | 138/413 [36:06<50:45, 11.08s/it]"
     ]
    },
    {
     "name": "stderr",
     "output_type": "stream",
     "text": [
      "\r",
      " 34%|████████████████████▌                                        | 139/413 [36:17<49:59, 10.95s/it]"
     ]
    },
    {
     "name": "stderr",
     "output_type": "stream",
     "text": [
      "\r",
      " 34%|████████████████████▋                                        | 140/413 [36:33<57:16, 12.59s/it]"
     ]
    },
    {
     "name": "stderr",
     "output_type": "stream",
     "text": [
      "\r",
      " 34%|████████████████████▊                                        | 141/413 [36:44<54:04, 11.93s/it]"
     ]
    },
    {
     "name": "stderr",
     "output_type": "stream",
     "text": [
      "\r",
      " 34%|████████████████████▉                                        | 142/413 [36:55<52:47, 11.69s/it]"
     ]
    },
    {
     "name": "stderr",
     "output_type": "stream",
     "text": [
      "\r",
      " 35%|████████████████████▍                                      | 143/413 [37:12<1:00:28, 13.44s/it]"
     ]
    },
    {
     "name": "stderr",
     "output_type": "stream",
     "text": [
      "\r",
      " 35%|█████████████████████▎                                       | 144/413 [37:23<56:17, 12.56s/it]"
     ]
    },
    {
     "name": "stderr",
     "output_type": "stream",
     "text": [
      "\r",
      " 35%|█████████████████████▍                                       | 145/413 [37:35<55:15, 12.37s/it]"
     ]
    },
    {
     "name": "stderr",
     "output_type": "stream",
     "text": [
      "\r",
      " 35%|████████████████████▊                                      | 146/413 [37:54<1:03:43, 14.32s/it]"
     ]
    },
    {
     "name": "stderr",
     "output_type": "stream",
     "text": [
      "\r",
      " 36%|█████████████████████▋                                       | 147/413 [38:04<58:53, 13.28s/it]"
     ]
    },
    {
     "name": "stderr",
     "output_type": "stream",
     "text": [
      "\r",
      " 36%|█████████████████████▊                                       | 148/413 [38:17<57:07, 12.93s/it]"
     ]
    },
    {
     "name": "stderr",
     "output_type": "stream",
     "text": [
      "\r",
      " 36%|█████████████████████▎                                     | 149/413 [38:36<1:05:21, 14.86s/it]"
     ]
    },
    {
     "name": "stderr",
     "output_type": "stream",
     "text": [
      "\r",
      " 36%|█████████████████████▍                                     | 150/413 [38:48<1:01:17, 13.98s/it]"
     ]
    },
    {
     "name": "stderr",
     "output_type": "stream",
     "text": [
      "\r",
      " 37%|██████████████████████▎                                      | 151/413 [39:01<59:36, 13.65s/it]"
     ]
    },
    {
     "name": "stderr",
     "output_type": "stream",
     "text": [
      "\r",
      " 37%|█████████████████████▋                                     | 152/413 [39:21<1:07:39, 15.56s/it]"
     ]
    },
    {
     "name": "stderr",
     "output_type": "stream",
     "text": [
      "\r",
      " 37%|█████████████████████▊                                     | 153/413 [39:33<1:03:27, 14.64s/it]"
     ]
    },
    {
     "name": "stderr",
     "output_type": "stream",
     "text": [
      "\r",
      " 37%|██████████████████████                                     | 154/413 [39:47<1:01:33, 14.26s/it]"
     ]
    },
    {
     "name": "stderr",
     "output_type": "stream",
     "text": [
      "\r",
      " 38%|██████████████████████▏                                    | 155/413 [40:07<1:08:48, 16.00s/it]"
     ]
    },
    {
     "name": "stderr",
     "output_type": "stream",
     "text": [
      "\r",
      " 38%|██████████████████████▎                                    | 156/413 [40:20<1:05:43, 15.34s/it]"
     ]
    },
    {
     "name": "stderr",
     "output_type": "stream",
     "text": [
      "\r",
      " 38%|██████████████████████▍                                    | 157/413 [40:35<1:04:11, 15.05s/it]"
     ]
    },
    {
     "name": "stderr",
     "output_type": "stream",
     "text": [
      "\r",
      " 38%|██████████████████████▌                                    | 158/413 [40:55<1:10:41, 16.63s/it]"
     ]
    },
    {
     "name": "stderr",
     "output_type": "stream",
     "text": [
      "\r",
      " 38%|██████████████████████▋                                    | 159/413 [41:09<1:06:58, 15.82s/it]"
     ]
    },
    {
     "name": "stderr",
     "output_type": "stream",
     "text": [
      "\r",
      " 39%|██████████████████████▊                                    | 160/413 [41:24<1:06:09, 15.69s/it]"
     ]
    },
    {
     "name": "stderr",
     "output_type": "stream",
     "text": [
      "\r",
      " 39%|███████████████████████                                    | 161/413 [41:45<1:12:08, 17.18s/it]"
     ]
    },
    {
     "name": "stderr",
     "output_type": "stream",
     "text": [
      "\r",
      " 39%|███████████████████████▏                                   | 162/413 [42:00<1:08:57, 16.48s/it]"
     ]
    },
    {
     "name": "stderr",
     "output_type": "stream",
     "text": [
      "\r",
      " 39%|███████████████████████▎                                   | 163/413 [42:16<1:07:44, 16.26s/it]"
     ]
    },
    {
     "name": "stderr",
     "output_type": "stream",
     "text": [
      "\r",
      " 40%|███████████████████████▍                                   | 164/413 [42:37<1:13:35, 17.73s/it]"
     ]
    },
    {
     "name": "stderr",
     "output_type": "stream",
     "text": [
      "\r",
      " 40%|███████████████████████▌                                   | 165/413 [42:52<1:10:01, 16.94s/it]"
     ]
    },
    {
     "name": "stderr",
     "output_type": "stream",
     "text": [
      "\r",
      " 40%|███████████████████████▋                                   | 166/413 [43:08<1:08:32, 16.65s/it]"
     ]
    },
    {
     "name": "stderr",
     "output_type": "stream",
     "text": [
      "\r",
      " 40%|███████████████████████▊                                   | 167/413 [43:30<1:14:31, 18.18s/it]"
     ]
    },
    {
     "name": "stderr",
     "output_type": "stream",
     "text": [
      "\r",
      " 41%|████████████████████████                                   | 168/413 [43:45<1:11:01, 17.39s/it]"
     ]
    },
    {
     "name": "stderr",
     "output_type": "stream",
     "text": [
      "\r",
      " 41%|████████████████████████▏                                  | 169/413 [44:02<1:09:42, 17.14s/it]"
     ]
    },
    {
     "name": "stderr",
     "output_type": "stream",
     "text": [
      "\r",
      " 41%|████████████████████████▎                                  | 170/413 [44:24<1:15:02, 18.53s/it]"
     ]
    },
    {
     "name": "stderr",
     "output_type": "stream",
     "text": [
      "\r",
      " 41%|████████████████████████▍                                  | 171/413 [44:40<1:12:16, 17.92s/it]"
     ]
    },
    {
     "name": "stderr",
     "output_type": "stream",
     "text": [
      "\r",
      " 42%|████████████████████████▌                                  | 172/413 [44:57<1:10:59, 17.67s/it]"
     ]
    },
    {
     "name": "stderr",
     "output_type": "stream",
     "text": [
      "\r",
      " 42%|████████████████████████▋                                  | 173/413 [45:19<1:15:53, 18.97s/it]"
     ]
    },
    {
     "name": "stderr",
     "output_type": "stream",
     "text": [
      "\r",
      " 42%|████████████████████████▊                                  | 174/413 [45:37<1:13:34, 18.47s/it]"
     ]
    },
    {
     "name": "stderr",
     "output_type": "stream",
     "text": [
      "\r",
      " 42%|█████████████████████████                                  | 175/413 [45:54<1:11:36, 18.05s/it]"
     ]
    },
    {
     "name": "stderr",
     "output_type": "stream",
     "text": [
      "\r",
      " 43%|█████████████████████████▏                                 | 176/413 [46:16<1:17:00, 19.49s/it]"
     ]
    },
    {
     "name": "stderr",
     "output_type": "stream",
     "text": [
      "\r",
      " 43%|██████████████████████████▏                                  | 177/413 [46:17<54:07, 13.76s/it]"
     ]
    },
    {
     "name": "stderr",
     "output_type": "stream",
     "text": [
      "\r",
      " 43%|██████████████████████████▎                                  | 178/413 [46:35<59:20, 15.15s/it]"
     ]
    },
    {
     "name": "stderr",
     "output_type": "stream",
     "text": [
      "\r",
      " 43%|██████████████████████████▍                                  | 179/413 [46:41<47:57, 12.30s/it]"
     ]
    },
    {
     "name": "stderr",
     "output_type": "stream",
     "text": [
      "\r",
      " 44%|██████████████████████████▌                                  | 180/413 [46:43<35:37,  9.17s/it]"
     ]
    },
    {
     "name": "stderr",
     "output_type": "stream",
     "text": [
      "\r",
      " 44%|██████████████████████████▋                                  | 181/413 [47:02<46:37, 12.06s/it]"
     ]
    },
    {
     "name": "stderr",
     "output_type": "stream",
     "text": [
      "\r",
      " 44%|██████████████████████████▉                                  | 182/413 [47:08<39:50, 10.35s/it]"
     ]
    },
    {
     "name": "stderr",
     "output_type": "stream",
     "text": [
      "\r",
      " 44%|███████████████████████████                                  | 183/413 [47:10<30:11,  7.88s/it]"
     ]
    },
    {
     "name": "stderr",
     "output_type": "stream",
     "text": [
      "\r",
      " 45%|███████████████████████████▏                                 | 184/413 [47:29<42:56, 11.25s/it]"
     ]
    },
    {
     "name": "stderr",
     "output_type": "stream",
     "text": [
      "\r",
      " 45%|███████████████████████████▎                                 | 185/413 [47:36<37:56,  9.98s/it]"
     ]
    },
    {
     "name": "stderr",
     "output_type": "stream",
     "text": [
      "\r",
      " 45%|███████████████████████████▍                                 | 186/413 [47:39<29:23,  7.77s/it]"
     ]
    },
    {
     "name": "stderr",
     "output_type": "stream",
     "text": [
      "\r",
      " 45%|███████████████████████████▌                                 | 187/413 [47:58<42:34, 11.30s/it]"
     ]
    },
    {
     "name": "stderr",
     "output_type": "stream",
     "text": [
      "\r",
      " 46%|███████████████████████████▊                                 | 188/413 [48:06<37:46, 10.07s/it]"
     ]
    },
    {
     "name": "stderr",
     "output_type": "stream",
     "text": [
      "\r",
      " 46%|███████████████████████████▉                                 | 189/413 [48:10<31:17,  8.38s/it]"
     ]
    },
    {
     "name": "stderr",
     "output_type": "stream",
     "text": [
      "\r",
      " 46%|████████████████████████████                                 | 190/413 [48:30<44:08, 11.88s/it]"
     ]
    },
    {
     "name": "stderr",
     "output_type": "stream",
     "text": [
      "\r",
      " 46%|████████████████████████████▏                                | 191/413 [48:38<39:14, 10.61s/it]"
     ]
    },
    {
     "name": "stderr",
     "output_type": "stream",
     "text": [
      "\r",
      " 46%|████████████████████████████▎                                | 192/413 [48:41<31:14,  8.48s/it]"
     ]
    },
    {
     "name": "stderr",
     "output_type": "stream",
     "text": [
      "\r",
      " 47%|████████████████████████████▌                                | 193/413 [49:01<44:07, 12.03s/it]"
     ]
    },
    {
     "name": "stderr",
     "output_type": "stream",
     "text": [
      "\r",
      " 47%|████████████████████████████▋                                | 194/413 [49:10<39:34, 10.84s/it]"
     ]
    },
    {
     "name": "stderr",
     "output_type": "stream",
     "text": [
      "\r",
      " 47%|████████████████████████████▊                                | 195/413 [49:13<31:47,  8.75s/it]"
     ]
    },
    {
     "name": "stderr",
     "output_type": "stream",
     "text": [
      "\r",
      " 47%|████████████████████████████▉                                | 196/413 [49:34<44:42, 12.36s/it]"
     ]
    },
    {
     "name": "stderr",
     "output_type": "stream",
     "text": [
      "\r",
      " 48%|█████████████████████████████                                | 197/413 [49:43<40:27, 11.24s/it]"
     ]
    },
    {
     "name": "stderr",
     "output_type": "stream",
     "text": [
      "\r",
      " 48%|█████████████████████████████▏                               | 198/413 [49:48<34:08,  9.53s/it]"
     ]
    },
    {
     "name": "stderr",
     "output_type": "stream",
     "text": [
      "\r",
      " 48%|█████████████████████████████▍                               | 199/413 [50:09<46:22, 13.00s/it]"
     ]
    },
    {
     "name": "stderr",
     "output_type": "stream",
     "text": [
      "\r",
      " 48%|█████████████████████████████▌                               | 200/413 [50:18<41:47, 11.77s/it]"
     ]
    },
    {
     "name": "stderr",
     "output_type": "stream",
     "text": [
      "\r",
      " 49%|█████████████████████████████▋                               | 201/413 [50:25<35:58, 10.18s/it]"
     ]
    },
    {
     "name": "stderr",
     "output_type": "stream",
     "text": [
      "\r",
      " 49%|█████████████████████████████▊                               | 202/413 [50:46<47:31, 13.51s/it]"
     ]
    },
    {
     "name": "stderr",
     "output_type": "stream",
     "text": [
      "\r",
      " 49%|█████████████████████████████▉                               | 203/413 [50:56<43:27, 12.41s/it]"
     ]
    },
    {
     "name": "stderr",
     "output_type": "stream",
     "text": [
      "\r",
      " 49%|██████████████████████████████▏                              | 204/413 [51:03<37:09, 10.67s/it]"
     ]
    },
    {
     "name": "stderr",
     "output_type": "stream",
     "text": [
      "\r",
      " 50%|██████████████████████████████▎                              | 205/413 [51:24<48:16, 13.93s/it]"
     ]
    },
    {
     "name": "stderr",
     "output_type": "stream",
     "text": [
      "\r",
      " 50%|██████████████████████████████▍                              | 206/413 [51:36<45:37, 13.22s/it]"
     ]
    },
    {
     "name": "stderr",
     "output_type": "stream",
     "text": [
      "\r",
      " 50%|██████████████████████████████▌                              | 207/413 [51:43<39:14, 11.43s/it]"
     ]
    },
    {
     "name": "stderr",
     "output_type": "stream",
     "text": [
      "\r",
      " 50%|██████████████████████████████▋                              | 208/413 [52:06<51:11, 14.98s/it]"
     ]
    },
    {
     "name": "stderr",
     "output_type": "stream",
     "text": [
      "\r",
      " 51%|██████████████████████████████▊                              | 209/413 [52:18<47:40, 14.02s/it]"
     ]
    },
    {
     "name": "stderr",
     "output_type": "stream",
     "text": [
      "\r",
      " 51%|███████████████████████████████                              | 210/413 [52:27<42:00, 12.42s/it]"
     ]
    },
    {
     "name": "stderr",
     "output_type": "stream",
     "text": [
      "\r",
      " 51%|███████████████████████████████▏                             | 211/413 [52:49<51:41, 15.36s/it]"
     ]
    },
    {
     "name": "stderr",
     "output_type": "stream",
     "text": [
      "\r",
      " 51%|███████████████████████████████▎                             | 212/413 [53:02<49:25, 14.76s/it]"
     ]
    },
    {
     "name": "stderr",
     "output_type": "stream",
     "text": [
      "\r",
      " 52%|███████████████████████████████▍                             | 213/413 [53:11<43:03, 12.92s/it]"
     ]
    },
    {
     "name": "stderr",
     "output_type": "stream",
     "text": [
      "\r",
      " 52%|███████████████████████████████▌                             | 214/413 [53:36<54:43, 16.50s/it]"
     ]
    },
    {
     "name": "stderr",
     "output_type": "stream",
     "text": [
      "\r",
      " 52%|███████████████████████████████▊                             | 215/413 [53:49<51:42, 15.67s/it]"
     ]
    },
    {
     "name": "stderr",
     "output_type": "stream",
     "text": [
      "\r",
      " 52%|███████████████████████████████▉                             | 216/413 [53:59<45:02, 13.72s/it]"
     ]
    },
    {
     "name": "stderr",
     "output_type": "stream",
     "text": [
      "\r",
      " 53%|████████████████████████████████                             | 217/413 [54:25<56:56, 17.43s/it]"
     ]
    },
    {
     "name": "stderr",
     "output_type": "stream",
     "text": [
      "\r",
      " 53%|████████████████████████████████▏                            | 218/413 [54:39<53:17, 16.40s/it]"
     ]
    },
    {
     "name": "stderr",
     "output_type": "stream",
     "text": [
      "\r",
      " 53%|████████████████████████████████▎                            | 219/413 [54:49<47:15, 14.62s/it]"
     ]
    },
    {
     "name": "stderr",
     "output_type": "stream",
     "text": [
      "\r",
      " 53%|████████████████████████████████▍                            | 220/413 [55:17<59:35, 18.53s/it]"
     ]
    },
    {
     "name": "stderr",
     "output_type": "stream",
     "text": [
      "\r",
      " 54%|████████████████████████████████▋                            | 221/413 [55:29<53:26, 16.70s/it]"
     ]
    },
    {
     "name": "stderr",
     "output_type": "stream",
     "text": [
      "\r",
      " 54%|████████████████████████████████▊                            | 222/413 [55:40<47:39, 14.97s/it]"
     ]
    },
    {
     "name": "stderr",
     "output_type": "stream",
     "text": [
      "\r",
      " 54%|████████████████████████████████▉                            | 223/413 [56:08<59:10, 18.69s/it]"
     ]
    },
    {
     "name": "stderr",
     "output_type": "stream",
     "text": [
      "\r",
      " 54%|█████████████████████████████████                            | 224/413 [56:21<53:57, 17.13s/it]"
     ]
    },
    {
     "name": "stderr",
     "output_type": "stream",
     "text": [
      "\r",
      " 54%|█████████████████████████████████▏                           | 225/413 [56:34<49:31, 15.80s/it]"
     ]
    },
    {
     "name": "stderr",
     "output_type": "stream",
     "text": [
      "\r",
      " 55%|████████████████████████████████▎                          | 226/413 [57:02<1:01:00, 19.58s/it]"
     ]
    },
    {
     "name": "stderr",
     "output_type": "stream",
     "text": [
      "\r",
      " 55%|█████████████████████████████████▌                           | 227/413 [57:16<55:19, 17.85s/it]"
     ]
    },
    {
     "name": "stderr",
     "output_type": "stream",
     "text": [
      "\r",
      " 55%|█████████████████████████████████▋                           | 228/413 [57:30<51:54, 16.84s/it]"
     ]
    },
    {
     "name": "stderr",
     "output_type": "stream",
     "text": [
      "\r",
      " 55%|████████████████████████████████▋                          | 229/413 [57:59<1:02:02, 20.23s/it]"
     ]
    },
    {
     "name": "stderr",
     "output_type": "stream",
     "text": [
      "\r",
      " 56%|█████████████████████████████████▉                           | 230/413 [58:12<55:27, 18.18s/it]"
     ]
    },
    {
     "name": "stderr",
     "output_type": "stream",
     "text": [
      "\r",
      " 56%|██████████████████████████████████                           | 231/413 [58:27<52:32, 17.32s/it]"
     ]
    },
    {
     "name": "stderr",
     "output_type": "stream",
     "text": [
      "\r",
      " 56%|█████████████████████████████████▏                         | 232/413 [58:56<1:02:38, 20.76s/it]"
     ]
    },
    {
     "name": "stderr",
     "output_type": "stream",
     "text": [
      "\r",
      " 56%|██████████████████████████████████▍                          | 233/413 [59:10<56:36, 18.87s/it]"
     ]
    },
    {
     "name": "stderr",
     "output_type": "stream",
     "text": [
      "\r",
      " 57%|██████████████████████████████████▌                          | 234/413 [59:26<53:39, 17.98s/it]"
     ]
    },
    {
     "name": "stderr",
     "output_type": "stream",
     "text": [
      "\r",
      " 57%|██████████████████████████████████▋                          | 235/413 [59:49<57:52, 19.51s/it]"
     ]
    },
    {
     "name": "stderr",
     "output_type": "stream",
     "text": [
      "\r",
      " 57%|██████████████████████████████████▊                          | 236/413 [59:56<45:57, 15.58s/it]"
     ]
    },
    {
     "name": "stderr",
     "output_type": "stream",
     "text": [
      "\r",
      " 57%|█████████████████████████████████▊                         | 237/413 [1:00:10<44:02, 15.01s/it]"
     ]
    },
    {
     "name": "stderr",
     "output_type": "stream",
     "text": [
      "\r",
      " 58%|██████████████████████████████████                         | 238/413 [1:00:15<35:09, 12.05s/it]"
     ]
    },
    {
     "name": "stderr",
     "output_type": "stream",
     "text": [
      "\r",
      " 58%|██████████████████████████████████▏                        | 239/413 [1:00:22<30:27, 10.50s/it]"
     ]
    },
    {
     "name": "stderr",
     "output_type": "stream",
     "text": [
      "\r",
      " 58%|██████████████████████████████████▎                        | 240/413 [1:00:36<33:34, 11.65s/it]"
     ]
    },
    {
     "name": "stderr",
     "output_type": "stream",
     "text": [
      "\r",
      " 58%|██████████████████████████████████▍                        | 241/413 [1:00:42<28:14,  9.85s/it]"
     ]
    },
    {
     "name": "stderr",
     "output_type": "stream",
     "text": [
      "\r",
      " 59%|██████████████████████████████████▌                        | 242/413 [1:00:51<27:23,  9.61s/it]"
     ]
    },
    {
     "name": "stderr",
     "output_type": "stream",
     "text": [
      "\r",
      " 59%|██████████████████████████████████▋                        | 243/413 [1:01:05<31:34, 11.14s/it]"
     ]
    },
    {
     "name": "stderr",
     "output_type": "stream",
     "text": [
      "\r",
      " 59%|██████████████████████████████████▊                        | 244/413 [1:01:11<27:04,  9.61s/it]"
     ]
    },
    {
     "name": "stderr",
     "output_type": "stream",
     "text": [
      "\r",
      " 59%|███████████████████████████████████                        | 245/413 [1:01:19<25:11,  9.00s/it]"
     ]
    },
    {
     "name": "stderr",
     "output_type": "stream",
     "text": [
      "\r",
      " 60%|███████████████████████████████████▏                       | 246/413 [1:01:36<31:34, 11.34s/it]"
     ]
    },
    {
     "name": "stderr",
     "output_type": "stream",
     "text": [
      "\r",
      " 60%|███████████████████████████████████▎                       | 247/413 [1:01:42<27:30,  9.94s/it]"
     ]
    },
    {
     "name": "stderr",
     "output_type": "stream",
     "text": [
      "\r",
      " 60%|███████████████████████████████████▍                       | 248/413 [1:01:50<25:38,  9.33s/it]"
     ]
    },
    {
     "name": "stderr",
     "output_type": "stream",
     "text": [
      "\r",
      " 60%|███████████████████████████████████▌                       | 249/413 [1:02:07<31:50, 11.65s/it]"
     ]
    },
    {
     "name": "stderr",
     "output_type": "stream",
     "text": [
      "\r",
      " 61%|███████████████████████████████████▋                       | 250/413 [1:02:15<28:08, 10.36s/it]"
     ]
    },
    {
     "name": "stderr",
     "output_type": "stream",
     "text": [
      "\r",
      " 61%|███████████████████████████████████▊                       | 251/413 [1:02:23<26:06,  9.67s/it]"
     ]
    },
    {
     "name": "stderr",
     "output_type": "stream",
     "text": [
      "\r",
      " 61%|████████████████████████████████████                       | 252/413 [1:02:42<33:13, 12.38s/it]"
     ]
    },
    {
     "name": "stderr",
     "output_type": "stream",
     "text": [
      "\r",
      " 61%|████████████████████████████████████▏                      | 253/413 [1:02:50<29:33, 11.08s/it]"
     ]
    },
    {
     "name": "stderr",
     "output_type": "stream",
     "text": [
      "\r",
      " 62%|████████████████████████████████████▎                      | 254/413 [1:02:58<27:14, 10.28s/it]"
     ]
    },
    {
     "name": "stderr",
     "output_type": "stream",
     "text": [
      "\r",
      " 62%|████████████████████████████████████▍                      | 255/413 [1:03:17<33:55, 12.88s/it]"
     ]
    },
    {
     "name": "stderr",
     "output_type": "stream",
     "text": [
      "\r",
      " 62%|████████████████████████████████████▌                      | 256/413 [1:03:26<31:03, 11.87s/it]"
     ]
    },
    {
     "name": "stderr",
     "output_type": "stream",
     "text": [
      "\r",
      " 62%|████████████████████████████████████▋                      | 257/413 [1:03:35<28:30, 10.96s/it]"
     ]
    },
    {
     "name": "stderr",
     "output_type": "stream",
     "text": [
      "\r",
      " 62%|████████████████████████████████████▊                      | 258/413 [1:03:53<33:45, 13.07s/it]"
     ]
    },
    {
     "name": "stderr",
     "output_type": "stream",
     "text": [
      "\r",
      " 63%|█████████████████████████████████████                      | 259/413 [1:04:04<32:00, 12.47s/it]"
     ]
    },
    {
     "name": "stderr",
     "output_type": "stream",
     "text": [
      "\r",
      " 63%|█████████████████████████████████████▏                     | 260/413 [1:04:15<30:10, 11.84s/it]"
     ]
    },
    {
     "name": "stderr",
     "output_type": "stream",
     "text": [
      "\r",
      " 63%|█████████████████████████████████████▎                     | 261/413 [1:04:33<35:10, 13.88s/it]"
     ]
    },
    {
     "name": "stderr",
     "output_type": "stream",
     "text": [
      "\r",
      " 63%|█████████████████████████████████████▍                     | 262/413 [1:04:45<33:35, 13.35s/it]"
     ]
    },
    {
     "name": "stderr",
     "output_type": "stream",
     "text": [
      "\r",
      " 64%|█████████████████████████████████████▌                     | 263/413 [1:04:56<31:30, 12.60s/it]"
     ]
    },
    {
     "name": "stderr",
     "output_type": "stream",
     "text": [
      "\r",
      " 64%|█████████████████████████████████████▋                     | 264/413 [1:05:15<35:30, 14.30s/it]"
     ]
    },
    {
     "name": "stderr",
     "output_type": "stream",
     "text": [
      "\r",
      " 64%|█████████████████████████████████████▊                     | 265/413 [1:05:29<35:12, 14.28s/it]"
     ]
    },
    {
     "name": "stderr",
     "output_type": "stream",
     "text": [
      "\r",
      " 64%|██████████████████████████████████████                     | 266/413 [1:05:41<33:18, 13.60s/it]"
     ]
    },
    {
     "name": "stderr",
     "output_type": "stream",
     "text": [
      "\r",
      " 65%|██████████████████████████████████████▏                    | 267/413 [1:06:00<36:49, 15.13s/it]"
     ]
    },
    {
     "name": "stderr",
     "output_type": "stream",
     "text": [
      "\r",
      " 65%|██████████████████████████████████████▎                    | 268/413 [1:06:16<37:23, 15.47s/it]"
     ]
    },
    {
     "name": "stderr",
     "output_type": "stream",
     "text": [
      "\r",
      " 65%|██████████████████████████████████████▍                    | 269/413 [1:06:28<35:06, 14.63s/it]"
     ]
    },
    {
     "name": "stderr",
     "output_type": "stream",
     "text": [
      "\r",
      " 65%|██████████████████████████████████████▌                    | 270/413 [1:06:48<38:02, 15.96s/it]"
     ]
    },
    {
     "name": "stderr",
     "output_type": "stream",
     "text": [
      "\r",
      " 66%|██████████████████████████████████████▋                    | 271/413 [1:07:05<39:00, 16.48s/it]"
     ]
    },
    {
     "name": "stderr",
     "output_type": "stream",
     "text": [
      "\r",
      " 66%|██████████████████████████████████████▊                    | 272/413 [1:07:18<36:24, 15.49s/it]"
     ]
    },
    {
     "name": "stderr",
     "output_type": "stream",
     "text": [
      "\r",
      " 66%|███████████████████████████████████████                    | 273/413 [1:07:37<38:11, 16.37s/it]"
     ]
    },
    {
     "name": "stderr",
     "output_type": "stream",
     "text": [
      "\r",
      " 66%|███████████████████████████████████████▏                   | 274/413 [1:07:56<39:53, 17.22s/it]"
     ]
    },
    {
     "name": "stderr",
     "output_type": "stream",
     "text": [
      "\r",
      " 67%|███████████████████████████████████████▎                   | 275/413 [1:08:10<37:38, 16.36s/it]"
     ]
    },
    {
     "name": "stderr",
     "output_type": "stream",
     "text": [
      "\r",
      " 67%|███████████████████████████████████████▍                   | 276/413 [1:08:30<39:45, 17.41s/it]"
     ]
    },
    {
     "name": "stderr",
     "output_type": "stream",
     "text": [
      "\r",
      " 67%|███████████████████████████████████████▌                   | 277/413 [1:08:49<40:35, 17.91s/it]"
     ]
    },
    {
     "name": "stderr",
     "output_type": "stream",
     "text": [
      "\r",
      " 67%|███████████████████████████████████████▋                   | 278/413 [1:09:04<38:14, 16.99s/it]"
     ]
    },
    {
     "name": "stderr",
     "output_type": "stream",
     "text": [
      "\r",
      " 68%|███████████████████████████████████████▊                   | 279/413 [1:09:25<40:14, 18.02s/it]"
     ]
    },
    {
     "name": "stderr",
     "output_type": "stream",
     "text": [
      "\r",
      " 68%|████████████████████████████████████████                   | 280/413 [1:09:44<40:57, 18.48s/it]"
     ]
    },
    {
     "name": "stderr",
     "output_type": "stream",
     "text": [
      "\r",
      " 68%|████████████████████████████████████████▏                  | 281/413 [1:09:58<37:54, 17.23s/it]"
     ]
    },
    {
     "name": "stderr",
     "output_type": "stream",
     "text": [
      "\r",
      " 68%|████████████████████████████████████████▎                  | 282/413 [1:10:21<41:13, 18.88s/it]"
     ]
    },
    {
     "name": "stderr",
     "output_type": "stream",
     "text": [
      "\r",
      " 69%|████████████████████████████████████████▍                  | 283/413 [1:10:41<41:19, 19.07s/it]"
     ]
    },
    {
     "name": "stderr",
     "output_type": "stream",
     "text": [
      "\r",
      " 69%|████████████████████████████████████████▌                  | 284/413 [1:10:57<39:10, 18.22s/it]"
     ]
    },
    {
     "name": "stderr",
     "output_type": "stream",
     "text": [
      "\r",
      " 69%|████████████████████████████████████████▋                  | 285/413 [1:11:20<41:59, 19.69s/it]"
     ]
    },
    {
     "name": "stderr",
     "output_type": "stream",
     "text": [
      "\r",
      " 69%|████████████████████████████████████████▊                  | 286/413 [1:11:39<41:26, 19.58s/it]"
     ]
    },
    {
     "name": "stderr",
     "output_type": "stream",
     "text": [
      "\r",
      " 69%|█████████████████████████████████████████                  | 287/413 [1:11:56<39:28, 18.79s/it]"
     ]
    },
    {
     "name": "stderr",
     "output_type": "stream",
     "text": [
      "\r",
      " 70%|█████████████████████████████████████████▏                 | 288/413 [1:12:21<42:31, 20.41s/it]"
     ]
    },
    {
     "name": "stderr",
     "output_type": "stream",
     "text": [
      "\r",
      " 70%|█████████████████████████████████████████▎                 | 289/413 [1:12:40<41:33, 20.11s/it]"
     ]
    },
    {
     "name": "stderr",
     "output_type": "stream",
     "text": [
      "\r",
      " 70%|█████████████████████████████████████████▍                 | 290/413 [1:12:58<39:45, 19.40s/it]"
     ]
    },
    {
     "name": "stderr",
     "output_type": "stream",
     "text": [
      "\r",
      " 70%|█████████████████████████████████████████▌                 | 291/413 [1:13:23<43:05, 21.19s/it]"
     ]
    },
    {
     "name": "stderr",
     "output_type": "stream",
     "text": [
      "\r",
      " 71%|█████████████████████████████████████████▋                 | 292/413 [1:13:42<41:18, 20.49s/it]"
     ]
    },
    {
     "name": "stderr",
     "output_type": "stream",
     "text": [
      "\r",
      " 71%|█████████████████████████████████████████▊                 | 293/413 [1:14:00<39:19, 19.66s/it]"
     ]
    },
    {
     "name": "stderr",
     "output_type": "stream",
     "text": [
      "\r",
      " 71%|██████████████████████████████████████████                 | 294/413 [1:14:21<40:08, 20.24s/it]"
     ]
    },
    {
     "name": "stderr",
     "output_type": "stream",
     "text": [
      "\r",
      " 71%|██████████████████████████████████████████▏                | 295/413 [1:14:26<30:34, 15.55s/it]"
     ]
    },
    {
     "name": "stderr",
     "output_type": "stream",
     "text": [
      "\r",
      " 72%|██████████████████████████████████████████▎                | 296/413 [1:14:44<31:35, 16.20s/it]"
     ]
    },
    {
     "name": "stderr",
     "output_type": "stream",
     "text": [
      "\r",
      " 72%|██████████████████████████████████████████▍                | 297/413 [1:14:45<23:01, 11.91s/it]"
     ]
    },
    {
     "name": "stderr",
     "output_type": "stream",
     "text": [
      "\r",
      " 72%|██████████████████████████████████████████▌                | 298/413 [1:14:49<17:58,  9.38s/it]"
     ]
    },
    {
     "name": "stderr",
     "output_type": "stream",
     "text": [
      "\r",
      " 72%|██████████████████████████████████████████▋                | 299/413 [1:15:07<22:51, 12.03s/it]"
     ]
    },
    {
     "name": "stderr",
     "output_type": "stream",
     "text": [
      "\r",
      " 73%|██████████████████████████████████████████▊                | 300/413 [1:15:09<17:11,  9.13s/it]"
     ]
    },
    {
     "name": "stderr",
     "output_type": "stream",
     "text": [
      "\r",
      " 73%|███████████████████████████████████████████                | 301/413 [1:15:13<14:10,  7.60s/it]"
     ]
    },
    {
     "name": "stderr",
     "output_type": "stream",
     "text": [
      "\r",
      " 73%|███████████████████████████████████████████▏               | 302/413 [1:15:32<20:13, 10.93s/it]"
     ]
    },
    {
     "name": "stderr",
     "output_type": "stream",
     "text": [
      "\r",
      " 73%|███████████████████████████████████████████▎               | 303/413 [1:15:35<15:29,  8.45s/it]"
     ]
    },
    {
     "name": "stderr",
     "output_type": "stream",
     "text": [
      "\r",
      " 74%|███████████████████████████████████████████▍               | 304/413 [1:15:40<13:21,  7.36s/it]"
     ]
    },
    {
     "name": "stderr",
     "output_type": "stream",
     "text": [
      "\r",
      " 74%|███████████████████████████████████████████▌               | 305/413 [1:15:59<19:39, 10.92s/it]"
     ]
    },
    {
     "name": "stderr",
     "output_type": "stream",
     "text": [
      "\r",
      " 74%|███████████████████████████████████████████▋               | 306/413 [1:16:02<15:03,  8.44s/it]"
     ]
    },
    {
     "name": "stderr",
     "output_type": "stream",
     "text": [
      "\r",
      " 74%|███████████████████████████████████████████▊               | 307/413 [1:16:07<13:12,  7.48s/it]"
     ]
    },
    {
     "name": "stderr",
     "output_type": "stream",
     "text": [
      "\r",
      " 75%|████████████████████████████████████████████               | 308/413 [1:16:27<19:33, 11.18s/it]"
     ]
    },
    {
     "name": "stderr",
     "output_type": "stream",
     "text": [
      "\r",
      " 75%|████████████████████████████████████████████▏              | 309/413 [1:16:30<15:05,  8.71s/it]"
     ]
    },
    {
     "name": "stderr",
     "output_type": "stream",
     "text": [
      "\r",
      " 75%|████████████████████████████████████████████▎              | 310/413 [1:16:35<13:18,  7.76s/it]"
     ]
    },
    {
     "name": "stderr",
     "output_type": "stream",
     "text": [
      "\r",
      " 75%|████████████████████████████████████████████▍              | 311/413 [1:16:55<19:30, 11.48s/it]"
     ]
    },
    {
     "name": "stderr",
     "output_type": "stream",
     "text": [
      "\r",
      " 76%|████████████████████████████████████████████▌              | 312/413 [1:16:59<15:14,  9.06s/it]"
     ]
    },
    {
     "name": "stderr",
     "output_type": "stream",
     "text": [
      "\r",
      " 76%|████████████████████████████████████████████▋              | 313/413 [1:17:04<13:27,  8.08s/it]"
     ]
    },
    {
     "name": "stderr",
     "output_type": "stream",
     "text": [
      "\r",
      " 76%|████████████████████████████████████████████▊              | 314/413 [1:17:25<19:25, 11.77s/it]"
     ]
    },
    {
     "name": "stderr",
     "output_type": "stream",
     "text": [
      "\r",
      " 76%|█████████████████████████████████████████████              | 315/413 [1:17:29<15:20,  9.40s/it]"
     ]
    },
    {
     "name": "stderr",
     "output_type": "stream",
     "text": [
      "\r",
      " 77%|█████████████████████████████████████████████▏             | 316/413 [1:17:35<13:32,  8.37s/it]"
     ]
    },
    {
     "name": "stderr",
     "output_type": "stream",
     "text": [
      "\r",
      " 77%|█████████████████████████████████████████████▎             | 317/413 [1:17:56<19:23, 12.12s/it]"
     ]
    },
    {
     "name": "stderr",
     "output_type": "stream",
     "text": [
      "\r",
      " 77%|█████████████████████████████████████████████▍             | 318/413 [1:18:00<15:23,  9.72s/it]"
     ]
    },
    {
     "name": "stderr",
     "output_type": "stream",
     "text": [
      "\r",
      " 77%|█████████████████████████████████████████████▌             | 319/413 [1:18:06<13:40,  8.72s/it]"
     ]
    },
    {
     "name": "stderr",
     "output_type": "stream",
     "text": [
      "\r",
      " 77%|█████████████████████████████████████████████▋             | 320/413 [1:18:27<19:23, 12.51s/it]"
     ]
    },
    {
     "name": "stderr",
     "output_type": "stream",
     "text": [
      "\r",
      " 78%|█████████████████████████████████████████████▊             | 321/413 [1:18:32<15:31, 10.12s/it]"
     ]
    },
    {
     "name": "stderr",
     "output_type": "stream",
     "text": [
      "\r",
      " 78%|██████████████████████████████████████████████             | 322/413 [1:18:39<13:45,  9.07s/it]"
     ]
    },
    {
     "name": "stderr",
     "output_type": "stream",
     "text": [
      "\r",
      " 78%|██████████████████████████████████████████████▏            | 323/413 [1:19:00<19:14, 12.82s/it]"
     ]
    },
    {
     "name": "stderr",
     "output_type": "stream",
     "text": [
      "\r",
      " 78%|██████████████████████████████████████████████▎            | 324/413 [1:19:05<15:35, 10.51s/it]"
     ]
    },
    {
     "name": "stderr",
     "output_type": "stream",
     "text": [
      "\r",
      " 79%|██████████████████████████████████████████████▍            | 325/413 [1:19:12<13:45,  9.38s/it]"
     ]
    },
    {
     "name": "stderr",
     "output_type": "stream",
     "text": [
      "\r",
      " 79%|██████████████████████████████████████████████▌            | 326/413 [1:19:34<19:01, 13.12s/it]"
     ]
    },
    {
     "name": "stderr",
     "output_type": "stream",
     "text": [
      "\r",
      " 79%|██████████████████████████████████████████████▋            | 327/413 [1:19:39<15:28, 10.79s/it]"
     ]
    },
    {
     "name": "stderr",
     "output_type": "stream",
     "text": [
      "\r",
      " 79%|██████████████████████████████████████████████▊            | 328/413 [1:19:46<13:46,  9.72s/it]"
     ]
    },
    {
     "name": "stderr",
     "output_type": "stream",
     "text": [
      "\r",
      " 80%|███████████████████████████████████████████████            | 329/413 [1:20:09<18:53, 13.49s/it]"
     ]
    },
    {
     "name": "stderr",
     "output_type": "stream",
     "text": [
      "\r",
      " 80%|███████████████████████████████████████████████▏           | 330/413 [1:20:14<15:23, 11.12s/it]"
     ]
    },
    {
     "name": "stderr",
     "output_type": "stream",
     "text": [
      "\r",
      " 80%|███████████████████████████████████████████████▎           | 331/413 [1:20:22<13:44, 10.05s/it]"
     ]
    },
    {
     "name": "stderr",
     "output_type": "stream",
     "text": [
      "\r",
      " 80%|███████████████████████████████████████████████▍           | 332/413 [1:20:44<18:38, 13.81s/it]"
     ]
    },
    {
     "name": "stderr",
     "output_type": "stream",
     "text": [
      "\r",
      " 81%|███████████████████████████████████████████████▌           | 333/413 [1:20:50<15:12, 11.41s/it]"
     ]
    },
    {
     "name": "stderr",
     "output_type": "stream",
     "text": [
      "\r",
      " 81%|███████████████████████████████████████████████▋           | 334/413 [1:20:58<13:33, 10.30s/it]"
     ]
    },
    {
     "name": "stderr",
     "output_type": "stream",
     "text": [
      "\r",
      " 81%|███████████████████████████████████████████████▊           | 335/413 [1:21:21<18:23, 14.15s/it]"
     ]
    },
    {
     "name": "stderr",
     "output_type": "stream",
     "text": [
      "\r",
      " 81%|████████████████████████████████████████████████           | 336/413 [1:21:27<15:05, 11.75s/it]"
     ]
    },
    {
     "name": "stderr",
     "output_type": "stream",
     "text": [
      "\r",
      " 82%|████████████████████████████████████████████████▏          | 337/413 [1:21:35<13:24, 10.58s/it]"
     ]
    },
    {
     "name": "stderr",
     "output_type": "stream",
     "text": [
      "\r",
      " 82%|████████████████████████████████████████████████▎          | 338/413 [1:21:59<18:03, 14.44s/it]"
     ]
    },
    {
     "name": "stderr",
     "output_type": "stream",
     "text": [
      "\r",
      " 82%|████████████████████████████████████████████████▍          | 339/413 [1:22:05<14:54, 12.09s/it]"
     ]
    },
    {
     "name": "stderr",
     "output_type": "stream",
     "text": [
      "\r",
      " 82%|████████████████████████████████████████████████▌          | 340/413 [1:22:13<13:12, 10.86s/it]"
     ]
    },
    {
     "name": "stderr",
     "output_type": "stream",
     "text": [
      "\r",
      " 83%|████████████████████████████████████████████████▋          | 341/413 [1:22:37<17:38, 14.70s/it]"
     ]
    },
    {
     "name": "stderr",
     "output_type": "stream",
     "text": [
      "\r",
      " 83%|████████████████████████████████████████████████▊          | 342/413 [1:22:44<14:38, 12.37s/it]"
     ]
    },
    {
     "name": "stderr",
     "output_type": "stream",
     "text": [
      "\r",
      " 83%|█████████████████████████████████████████████████          | 343/413 [1:22:52<13:01, 11.16s/it]"
     ]
    },
    {
     "name": "stderr",
     "output_type": "stream",
     "text": [
      "\r",
      " 83%|█████████████████████████████████████████████████▏         | 344/413 [1:23:16<17:20, 15.09s/it]"
     ]
    },
    {
     "name": "stderr",
     "output_type": "stream",
     "text": [
      "\r",
      " 84%|█████████████████████████████████████████████████▎         | 345/413 [1:23:24<14:24, 12.72s/it]"
     ]
    },
    {
     "name": "stderr",
     "output_type": "stream",
     "text": [
      "\r",
      " 84%|█████████████████████████████████████████████████▍         | 346/413 [1:23:32<12:48, 11.47s/it]"
     ]
    },
    {
     "name": "stderr",
     "output_type": "stream",
     "text": [
      "\r",
      " 84%|█████████████████████████████████████████████████▌         | 347/413 [1:23:57<16:57, 15.41s/it]"
     ]
    },
    {
     "name": "stderr",
     "output_type": "stream",
     "text": [
      "\r",
      " 84%|█████████████████████████████████████████████████▋         | 348/413 [1:24:04<14:05, 13.01s/it]"
     ]
    },
    {
     "name": "stderr",
     "output_type": "stream",
     "text": [
      "\r",
      " 85%|█████████████████████████████████████████████████▊         | 349/413 [1:24:13<12:30, 11.73s/it]"
     ]
    },
    {
     "name": "stderr",
     "output_type": "stream",
     "text": [
      "\r",
      " 85%|██████████████████████████████████████████████████         | 350/413 [1:24:38<16:28, 15.69s/it]"
     ]
    },
    {
     "name": "stderr",
     "output_type": "stream",
     "text": [
      "\r",
      " 85%|██████████████████████████████████████████████████▏        | 351/413 [1:24:46<13:47, 13.35s/it]"
     ]
    },
    {
     "name": "stderr",
     "output_type": "stream",
     "text": [
      "\r",
      " 85%|██████████████████████████████████████████████████▎        | 352/413 [1:24:55<12:12, 12.01s/it]"
     ]
    },
    {
     "name": "stderr",
     "output_type": "stream",
     "text": [
      "\r",
      " 85%|██████████████████████████████████████████████████▍        | 353/413 [1:25:17<14:59, 15.00s/it]"
     ]
    },
    {
     "name": "stderr",
     "output_type": "stream",
     "text": [
      "\r",
      " 86%|██████████████████████████████████████████████████▌        | 354/413 [1:25:20<11:18, 11.50s/it]"
     ]
    },
    {
     "name": "stderr",
     "output_type": "stream",
     "text": [
      "\r",
      " 86%|██████████████████████████████████████████████████▋        | 355/413 [1:25:28<10:11, 10.53s/it]"
     ]
    },
    {
     "name": "stderr",
     "output_type": "stream",
     "text": [
      "\r",
      " 86%|██████████████████████████████████████████████████▊        | 356/413 [1:25:40<10:17, 10.83s/it]"
     ]
    },
    {
     "name": "stderr",
     "output_type": "stream",
     "text": [
      "\r",
      " 86%|███████████████████████████████████████████████████        | 357/413 [1:25:43<08:06,  8.69s/it]"
     ]
    },
    {
     "name": "stderr",
     "output_type": "stream",
     "text": [
      "\r",
      " 87%|███████████████████████████████████████████████████▏       | 358/413 [1:25:53<08:10,  8.91s/it]"
     ]
    },
    {
     "name": "stderr",
     "output_type": "stream",
     "text": [
      "\r",
      " 87%|███████████████████████████████████████████████████▎       | 359/413 [1:26:05<08:48,  9.79s/it]"
     ]
    },
    {
     "name": "stderr",
     "output_type": "stream",
     "text": [
      "\r",
      " 87%|███████████████████████████████████████████████████▍       | 360/413 [1:26:09<07:18,  8.28s/it]"
     ]
    },
    {
     "name": "stderr",
     "output_type": "stream",
     "text": [
      "\r",
      " 87%|███████████████████████████████████████████████████▌       | 361/413 [1:26:19<07:31,  8.69s/it]"
     ]
    },
    {
     "name": "stderr",
     "output_type": "stream",
     "text": [
      "\r",
      " 88%|███████████████████████████████████████████████████▋       | 362/413 [1:26:31<08:17,  9.75s/it]"
     ]
    },
    {
     "name": "stderr",
     "output_type": "stream",
     "text": [
      "\r",
      " 88%|███████████████████████████████████████████████████▊       | 363/413 [1:26:37<07:02,  8.45s/it]"
     ]
    },
    {
     "name": "stderr",
     "output_type": "stream",
     "text": [
      "\r",
      " 88%|████████████████████████████████████████████████████       | 364/413 [1:26:47<07:16,  8.91s/it]"
     ]
    },
    {
     "name": "stderr",
     "output_type": "stream",
     "text": [
      "\r",
      " 88%|████████████████████████████████████████████████████▏      | 365/413 [1:26:59<08:00, 10.00s/it]"
     ]
    },
    {
     "name": "stderr",
     "output_type": "stream",
     "text": [
      "\r",
      " 89%|████████████████████████████████████████████████████▎      | 366/413 [1:27:05<06:51,  8.75s/it]"
     ]
    },
    {
     "name": "stderr",
     "output_type": "stream",
     "text": [
      "\r",
      " 89%|████████████████████████████████████████████████████▍      | 367/413 [1:27:16<07:07,  9.29s/it]"
     ]
    },
    {
     "name": "stderr",
     "output_type": "stream",
     "text": [
      "\r",
      " 89%|████████████████████████████████████████████████████▌      | 368/413 [1:27:30<08:06, 10.82s/it]"
     ]
    },
    {
     "name": "stderr",
     "output_type": "stream",
     "text": [
      "\r",
      " 89%|████████████████████████████████████████████████████▋      | 369/413 [1:27:36<06:54,  9.41s/it]"
     ]
    },
    {
     "name": "stderr",
     "output_type": "stream",
     "text": [
      "\r",
      " 90%|████████████████████████████████████████████████████▊      | 370/413 [1:27:47<07:02,  9.83s/it]"
     ]
    },
    {
     "name": "stderr",
     "output_type": "stream",
     "text": [
      "\r",
      " 90%|█████████████████████████████████████████████████████      | 371/413 [1:28:02<07:54, 11.30s/it]"
     ]
    },
    {
     "name": "stderr",
     "output_type": "stream",
     "text": [
      "\r",
      " 90%|█████████████████████████████████████████████████████▏     | 372/413 [1:28:08<06:45,  9.88s/it]"
     ]
    },
    {
     "name": "stderr",
     "output_type": "stream",
     "text": [
      "\r",
      " 90%|█████████████████████████████████████████████████████▎     | 373/413 [1:28:20<06:53, 10.33s/it]"
     ]
    },
    {
     "name": "stderr",
     "output_type": "stream",
     "text": [
      "\r",
      " 91%|█████████████████████████████████████████████████████▍     | 374/413 [1:28:34<07:35, 11.69s/it]"
     ]
    },
    {
     "name": "stderr",
     "output_type": "stream",
     "text": [
      "\r",
      " 91%|█████████████████████████████████████████████████████▌     | 375/413 [1:28:41<06:30, 10.28s/it]"
     ]
    },
    {
     "name": "stderr",
     "output_type": "stream",
     "text": [
      "\r",
      " 91%|█████████████████████████████████████████████████████▋     | 376/413 [1:28:53<06:37, 10.73s/it]"
     ]
    },
    {
     "name": "stderr",
     "output_type": "stream",
     "text": [
      "\r",
      " 91%|█████████████████████████████████████████████████████▊     | 377/413 [1:29:08<07:13, 12.05s/it]"
     ]
    },
    {
     "name": "stderr",
     "output_type": "stream",
     "text": [
      "\r",
      " 92%|██████████████████████████████████████████████████████     | 378/413 [1:29:16<06:11, 10.61s/it]"
     ]
    },
    {
     "name": "stderr",
     "output_type": "stream",
     "text": [
      "\r",
      " 92%|██████████████████████████████████████████████████████▏    | 379/413 [1:29:28<06:16, 11.07s/it]"
     ]
    },
    {
     "name": "stderr",
     "output_type": "stream",
     "text": [
      "\r",
      " 92%|██████████████████████████████████████████████████████▎    | 380/413 [1:29:43<06:50, 12.45s/it]"
     ]
    },
    {
     "name": "stderr",
     "output_type": "stream",
     "text": [
      "\r",
      " 92%|██████████████████████████████████████████████████████▍    | 381/413 [1:29:52<06:02, 11.33s/it]"
     ]
    },
    {
     "name": "stderr",
     "output_type": "stream",
     "text": [
      "\r",
      " 92%|██████████████████████████████████████████████████████▌    | 382/413 [1:30:04<06:00, 11.62s/it]"
     ]
    },
    {
     "name": "stderr",
     "output_type": "stream",
     "text": [
      "\r",
      " 93%|██████████████████████████████████████████████████████▋    | 383/413 [1:30:20<06:27, 12.91s/it]"
     ]
    },
    {
     "name": "stderr",
     "output_type": "stream",
     "text": [
      "\r",
      " 93%|██████████████████████████████████████████████████████▊    | 384/413 [1:30:30<05:50, 12.07s/it]"
     ]
    },
    {
     "name": "stderr",
     "output_type": "stream",
     "text": [
      "\r",
      " 93%|███████████████████████████████████████████████████████    | 385/413 [1:30:43<05:42, 12.24s/it]"
     ]
    },
    {
     "name": "stderr",
     "output_type": "stream",
     "text": [
      "\r",
      " 93%|███████████████████████████████████████████████████████▏   | 386/413 [1:31:00<06:11, 13.78s/it]"
     ]
    },
    {
     "name": "stderr",
     "output_type": "stream",
     "text": [
      "\r",
      " 94%|███████████████████████████████████████████████████████▎   | 387/413 [1:31:12<05:38, 13.01s/it]"
     ]
    },
    {
     "name": "stderr",
     "output_type": "stream",
     "text": [
      "\r",
      " 94%|███████████████████████████████████████████████████████▍   | 388/413 [1:31:25<05:26, 13.05s/it]"
     ]
    },
    {
     "name": "stderr",
     "output_type": "stream",
     "text": [
      "\r",
      " 94%|███████████████████████████████████████████████████████▌   | 389/413 [1:31:42<05:45, 14.39s/it]"
     ]
    },
    {
     "name": "stderr",
     "output_type": "stream",
     "text": [
      "\r",
      " 94%|███████████████████████████████████████████████████████▋   | 390/413 [1:31:54<05:11, 13.53s/it]"
     ]
    },
    {
     "name": "stderr",
     "output_type": "stream",
     "text": [
      "\r",
      " 95%|███████████████████████████████████████████████████████▊   | 391/413 [1:32:07<04:57, 13.53s/it]"
     ]
    },
    {
     "name": "stderr",
     "output_type": "stream",
     "text": [
      "\r",
      " 95%|████████████████████████████████████████████████████████   | 392/413 [1:32:25<05:09, 14.72s/it]"
     ]
    },
    {
     "name": "stderr",
     "output_type": "stream",
     "text": [
      "\r",
      " 95%|████████████████████████████████████████████████████████▏  | 393/413 [1:32:38<04:42, 14.14s/it]"
     ]
    },
    {
     "name": "stderr",
     "output_type": "stream",
     "text": [
      "\r",
      " 95%|████████████████████████████████████████████████████████▎  | 394/413 [1:32:52<04:29, 14.19s/it]"
     ]
    },
    {
     "name": "stderr",
     "output_type": "stream",
     "text": [
      "\r",
      " 96%|████████████████████████████████████████████████████████▍  | 395/413 [1:33:09<04:33, 15.18s/it]"
     ]
    },
    {
     "name": "stderr",
     "output_type": "stream",
     "text": [
      "\r",
      " 96%|████████████████████████████████████████████████████████▌  | 396/413 [1:33:24<04:13, 14.91s/it]"
     ]
    },
    {
     "name": "stderr",
     "output_type": "stream",
     "text": [
      "\r",
      " 96%|████████████████████████████████████████████████████████▋  | 397/413 [1:33:39<03:57, 14.87s/it]"
     ]
    },
    {
     "name": "stderr",
     "output_type": "stream",
     "text": [
      "\r",
      " 96%|████████████████████████████████████████████████████████▊  | 398/413 [1:33:56<03:55, 15.69s/it]"
     ]
    },
    {
     "name": "stderr",
     "output_type": "stream",
     "text": [
      "\r",
      " 97%|█████████████████████████████████████████████████████████  | 399/413 [1:34:11<03:35, 15.39s/it]"
     ]
    },
    {
     "name": "stderr",
     "output_type": "stream",
     "text": [
      "\r",
      " 97%|█████████████████████████████████████████████████████████▏ | 400/413 [1:34:27<03:21, 15.51s/it]"
     ]
    },
    {
     "name": "stderr",
     "output_type": "stream",
     "text": [
      "\r",
      " 97%|█████████████████████████████████████████████████████████▎ | 401/413 [1:34:45<03:15, 16.26s/it]"
     ]
    },
    {
     "name": "stderr",
     "output_type": "stream",
     "text": [
      "\r",
      " 97%|█████████████████████████████████████████████████████████▍ | 402/413 [1:35:00<02:55, 15.97s/it]"
     ]
    },
    {
     "name": "stderr",
     "output_type": "stream",
     "text": [
      "\r",
      " 98%|█████████████████████████████████████████████████████████▌ | 403/413 [1:35:17<02:42, 16.21s/it]"
     ]
    },
    {
     "name": "stderr",
     "output_type": "stream",
     "text": [
      "\r",
      " 98%|█████████████████████████████████████████████████████████▋ | 404/413 [1:35:35<02:31, 16.83s/it]"
     ]
    },
    {
     "name": "stderr",
     "output_type": "stream",
     "text": [
      "\r",
      " 98%|█████████████████████████████████████████████████████████▊ | 405/413 [1:35:51<02:11, 16.45s/it]"
     ]
    },
    {
     "name": "stderr",
     "output_type": "stream",
     "text": [
      "\r",
      " 98%|██████████████████████████████████████████████████████████ | 406/413 [1:36:08<01:58, 16.88s/it]"
     ]
    },
    {
     "name": "stderr",
     "output_type": "stream",
     "text": [
      "\r",
      " 99%|██████████████████████████████████████████████████████████▏| 407/413 [1:36:27<01:44, 17.46s/it]"
     ]
    },
    {
     "name": "stderr",
     "output_type": "stream",
     "text": [
      "\r",
      " 99%|██████████████████████████████████████████████████████████▎| 408/413 [1:36:43<01:25, 17.04s/it]"
     ]
    },
    {
     "name": "stderr",
     "output_type": "stream",
     "text": [
      "\r",
      " 99%|██████████████████████████████████████████████████████████▍| 409/413 [1:37:02<01:09, 17.48s/it]"
     ]
    },
    {
     "name": "stderr",
     "output_type": "stream",
     "text": [
      "\r",
      " 99%|██████████████████████████████████████████████████████████▌| 410/413 [1:37:21<00:53, 17.99s/it]"
     ]
    },
    {
     "name": "stderr",
     "output_type": "stream",
     "text": [
      "\r",
      "100%|██████████████████████████████████████████████████████████▋| 411/413 [1:37:37<00:34, 17.48s/it]"
     ]
    },
    {
     "name": "stderr",
     "output_type": "stream",
     "text": [
      "\r",
      "100%|██████████████████████████████████████████████████████████▊| 412/413 [1:37:56<00:17, 17.71s/it]"
     ]
    },
    {
     "name": "stderr",
     "output_type": "stream",
     "text": [
      "\r",
      "100%|███████████████████████████████████████████████████████████| 413/413 [1:38:14<00:00, 17.99s/it]"
     ]
    },
    {
     "name": "stderr",
     "output_type": "stream",
     "text": [
      "\r",
      "100%|███████████████████████████████████████████████████████████| 413/413 [1:38:14<00:00, 14.27s/it]"
     ]
    },
    {
     "name": "stderr",
     "output_type": "stream",
     "text": [
      "\n"
     ]
    }
   ],
   "source": [
    "consensus_results = []\n",
    "\n",
    "with ProcessPoolExecutor(max_workers=conf.GENERAL[\"N_JOBS\"]) as executor:\n",
    "    tasks = {\n",
    "        executor.submit(\n",
    "            run_method_and_compute_agreement,\n",
    "            m,\n",
    "            ensemble_coassoc_matrix,\n",
    "            full_ensemble,\n",
    "            k,\n",
    "            n_init=SC_N_INIT,\n",
    "            random_state=next(RANDOM_STATES_ITER),\n",
    "        ): (m.__name__, k)\n",
    "        for m in all_consensus_methods\n",
    "        for k in range(CLUSTERING_OPTIONS[\"K_MIN\"], CLUSTERING_OPTIONS[\"K_MAX\"] + 1)\n",
    "    }\n",
    "\n",
    "    for future in tqdm(as_completed(tasks), total=len(tasks), disable=False, ncols=100):\n",
    "        method_name, k = tasks[future]\n",
    "        part, performance_values = future.result()\n",
    "\n",
    "        method_results = {\n",
    "            \"method\": method_name,\n",
    "            \"partition\": part,\n",
    "            \"k\": k,\n",
    "        }\n",
    "        method_results.update(performance_values)\n",
    "\n",
    "        consensus_results.append(method_results)"
   ]
  },
  {
   "cell_type": "code",
   "execution_count": 21,
   "metadata": {
    "execution": {
     "iopub.execute_input": "2021-03-11T05:12:47.257290Z",
     "iopub.status.busy": "2021-03-11T05:12:47.256935Z",
     "iopub.status.idle": "2021-03-11T05:12:47.271095Z",
     "shell.execute_reply": "2021-03-11T05:12:47.270757Z"
    },
    "papermill": {
     "duration": 0.096106,
     "end_time": "2021-03-11T05:12:47.271182",
     "exception": false,
     "start_time": "2021-03-11T05:12:47.175076",
     "status": "completed"
    },
    "tags": []
   },
   "outputs": [],
   "source": [
    "consensus_results = pd.DataFrame(consensus_results)"
   ]
  },
  {
   "cell_type": "code",
   "execution_count": 22,
   "metadata": {
    "execution": {
     "iopub.execute_input": "2021-03-11T05:12:47.431114Z",
     "iopub.status.busy": "2021-03-11T05:12:47.430758Z",
     "iopub.status.idle": "2021-03-11T05:12:47.441273Z",
     "shell.execute_reply": "2021-03-11T05:12:47.440919Z"
    },
    "papermill": {
     "duration": 0.090774,
     "end_time": "2021-03-11T05:12:47.441355",
     "exception": false,
     "start_time": "2021-03-11T05:12:47.350581",
     "status": "completed"
    },
    "tags": []
   },
   "outputs": [
    {
     "data": {
      "text/plain": [
       "(413, 12)"
      ]
     },
     "metadata": {},
     "output_type": "display_data"
    }
   ],
   "source": [
    "display(consensus_results.shape)"
   ]
  },
  {
   "cell_type": "code",
   "execution_count": 23,
   "metadata": {
    "execution": {
     "iopub.execute_input": "2021-03-11T05:12:47.601498Z",
     "iopub.status.busy": "2021-03-11T05:12:47.601132Z",
     "iopub.status.idle": "2021-03-11T05:12:47.623887Z",
     "shell.execute_reply": "2021-03-11T05:12:47.624164Z"
    },
    "papermill": {
     "duration": 0.103868,
     "end_time": "2021-03-11T05:12:47.624270",
     "exception": false,
     "start_time": "2021-03-11T05:12:47.520402",
     "status": "completed"
    },
    "tags": []
   },
   "outputs": [
    {
     "data": {
      "text/html": [
       "<div>\n",
       "<style scoped>\n",
       "    .dataframe tbody tr th:only-of-type {\n",
       "        vertical-align: middle;\n",
       "    }\n",
       "\n",
       "    .dataframe tbody tr th {\n",
       "        vertical-align: top;\n",
       "    }\n",
       "\n",
       "    .dataframe thead th {\n",
       "        text-align: right;\n",
       "    }\n",
       "</style>\n",
       "<table border=\"1\" class=\"dataframe\">\n",
       "  <thead>\n",
       "    <tr style=\"text-align: right;\">\n",
       "      <th></th>\n",
       "      <th>method</th>\n",
       "      <th>partition</th>\n",
       "      <th>k</th>\n",
       "      <th>ari_mean</th>\n",
       "      <th>ari_median</th>\n",
       "      <th>ari_std</th>\n",
       "      <th>ami_mean</th>\n",
       "      <th>ami_median</th>\n",
       "      <th>ami_std</th>\n",
       "      <th>nmi_mean</th>\n",
       "      <th>nmi_median</th>\n",
       "      <th>nmi_std</th>\n",
       "    </tr>\n",
       "  </thead>\n",
       "  <tbody>\n",
       "    <tr>\n",
       "      <th>0</th>\n",
       "      <td>scc_030</td>\n",
       "      <td>[0, 0, 0, 0, 0, 0, 0, 0, 0, 0, 0, 0, 0, 0, 0, ...</td>\n",
       "      <td>2</td>\n",
       "      <td>0.170172</td>\n",
       "      <td>0.016107</td>\n",
       "      <td>0.280429</td>\n",
       "      <td>0.182083</td>\n",
       "      <td>0.073948</td>\n",
       "      <td>0.241458</td>\n",
       "      <td>0.184787</td>\n",
       "      <td>0.076497</td>\n",
       "      <td>0.240941</td>\n",
       "    </tr>\n",
       "    <tr>\n",
       "      <th>1</th>\n",
       "      <td>scc_030</td>\n",
       "      <td>[0, 0, 0, 0, 0, 0, 0, 0, 0, 0, 0, 0, 0, 0, 0, ...</td>\n",
       "      <td>3</td>\n",
       "      <td>0.170593</td>\n",
       "      <td>0.016107</td>\n",
       "      <td>0.280689</td>\n",
       "      <td>0.198427</td>\n",
       "      <td>0.080792</td>\n",
       "      <td>0.247718</td>\n",
       "      <td>0.202181</td>\n",
       "      <td>0.083653</td>\n",
       "      <td>0.246786</td>\n",
       "    </tr>\n",
       "    <tr>\n",
       "      <th>2</th>\n",
       "      <td>scc_030</td>\n",
       "      <td>[0, 0, 0, 0, 0, 0, 0, 0, 3, 0, 3, 3, 0, 3, 0, ...</td>\n",
       "      <td>4</td>\n",
       "      <td>0.162009</td>\n",
       "      <td>0.086061</td>\n",
       "      <td>0.197582</td>\n",
       "      <td>0.227147</td>\n",
       "      <td>0.204954</td>\n",
       "      <td>0.145220</td>\n",
       "      <td>0.232457</td>\n",
       "      <td>0.211766</td>\n",
       "      <td>0.145033</td>\n",
       "    </tr>\n",
       "    <tr>\n",
       "      <th>3</th>\n",
       "      <td>scc_030</td>\n",
       "      <td>[1, 1, 1, 1, 1, 1, 1, 1, 4, 1, 4, 4, 1, 1, 1, ...</td>\n",
       "      <td>5</td>\n",
       "      <td>0.163732</td>\n",
       "      <td>0.087616</td>\n",
       "      <td>0.198028</td>\n",
       "      <td>0.238870</td>\n",
       "      <td>0.217941</td>\n",
       "      <td>0.145885</td>\n",
       "      <td>0.244974</td>\n",
       "      <td>0.225387</td>\n",
       "      <td>0.145597</td>\n",
       "    </tr>\n",
       "    <tr>\n",
       "      <th>4</th>\n",
       "      <td>scc_030</td>\n",
       "      <td>[0, 0, 0, 0, 0, 0, 0, 0, 5, 0, 5, 5, 0, 5, 0, ...</td>\n",
       "      <td>6</td>\n",
       "      <td>0.164568</td>\n",
       "      <td>0.088147</td>\n",
       "      <td>0.199509</td>\n",
       "      <td>0.250476</td>\n",
       "      <td>0.231739</td>\n",
       "      <td>0.150811</td>\n",
       "      <td>0.257361</td>\n",
       "      <td>0.238495</td>\n",
       "      <td>0.150334</td>\n",
       "    </tr>\n",
       "  </tbody>\n",
       "</table>\n",
       "</div>"
      ],
      "text/plain": [
       "    method                                          partition  k  ari_mean  \\\n",
       "0  scc_030  [0, 0, 0, 0, 0, 0, 0, 0, 0, 0, 0, 0, 0, 0, 0, ...  2  0.170172   \n",
       "1  scc_030  [0, 0, 0, 0, 0, 0, 0, 0, 0, 0, 0, 0, 0, 0, 0, ...  3  0.170593   \n",
       "2  scc_030  [0, 0, 0, 0, 0, 0, 0, 0, 3, 0, 3, 3, 0, 3, 0, ...  4  0.162009   \n",
       "3  scc_030  [1, 1, 1, 1, 1, 1, 1, 1, 4, 1, 4, 4, 1, 1, 1, ...  5  0.163732   \n",
       "4  scc_030  [0, 0, 0, 0, 0, 0, 0, 0, 5, 0, 5, 5, 0, 5, 0, ...  6  0.164568   \n",
       "\n",
       "   ari_median   ari_std  ami_mean  ami_median   ami_std  nmi_mean  nmi_median  \\\n",
       "0    0.016107  0.280429  0.182083    0.073948  0.241458  0.184787    0.076497   \n",
       "1    0.016107  0.280689  0.198427    0.080792  0.247718  0.202181    0.083653   \n",
       "2    0.086061  0.197582  0.227147    0.204954  0.145220  0.232457    0.211766   \n",
       "3    0.087616  0.198028  0.238870    0.217941  0.145885  0.244974    0.225387   \n",
       "4    0.088147  0.199509  0.250476    0.231739  0.150811  0.257361    0.238495   \n",
       "\n",
       "    nmi_std  \n",
       "0  0.240941  \n",
       "1  0.246786  \n",
       "2  0.145033  \n",
       "3  0.145597  \n",
       "4  0.150334  "
      ]
     },
     "execution_count": 23,
     "metadata": {},
     "output_type": "execute_result"
    }
   ],
   "source": [
    "consensus_results.head()"
   ]
  },
  {
   "cell_type": "markdown",
   "metadata": {
    "papermill": {
     "duration": 0.079655,
     "end_time": "2021-03-11T05:12:47.782863",
     "exception": false,
     "start_time": "2021-03-11T05:12:47.703208",
     "status": "completed"
    },
    "tags": []
   },
   "source": [
    "## Testing"
   ]
  },
  {
   "cell_type": "code",
   "execution_count": 24,
   "metadata": {
    "execution": {
     "iopub.execute_input": "2021-03-11T05:12:47.944307Z",
     "iopub.status.busy": "2021-03-11T05:12:47.943858Z",
     "iopub.status.idle": "2021-03-11T05:12:47.953507Z",
     "shell.execute_reply": "2021-03-11T05:12:47.953787Z"
    },
    "papermill": {
     "duration": 0.091729,
     "end_time": "2021-03-11T05:12:47.953895",
     "exception": false,
     "start_time": "2021-03-11T05:12:47.862166",
     "status": "completed"
    },
    "tags": []
   },
   "outputs": [],
   "source": [
    "assert not consensus_results.isna().any().any()"
   ]
  },
  {
   "cell_type": "code",
   "execution_count": 25,
   "metadata": {
    "execution": {
     "iopub.execute_input": "2021-03-11T05:12:48.119558Z",
     "iopub.status.busy": "2021-03-11T05:12:48.119199Z",
     "iopub.status.idle": "2021-03-11T05:12:48.153068Z",
     "shell.execute_reply": "2021-03-11T05:12:48.152758Z"
    },
    "papermill": {
     "duration": 0.117027,
     "end_time": "2021-03-11T05:12:48.153150",
     "exception": false,
     "start_time": "2021-03-11T05:12:48.036123",
     "status": "completed"
    },
    "tags": []
   },
   "outputs": [
    {
     "data": {
      "text/plain": [
       "0       2\n",
       "1       3\n",
       "2       4\n",
       "3       5\n",
       "4       6\n",
       "       ..\n",
       "408    56\n",
       "409    57\n",
       "410    58\n",
       "411    59\n",
       "412    60\n",
       "Name: partition, Length: 413, dtype: int64"
      ]
     },
     "metadata": {},
     "output_type": "display_data"
    }
   ],
   "source": [
    "# check that the number of clusters in the partitions are the expected ones\n",
    "_real_k_values = consensus_results[\"partition\"].apply(lambda x: np.unique(x).shape[0])\n",
    "display(_real_k_values)\n",
    "assert np.all(consensus_results[\"k\"].values == _real_k_values.values)"
   ]
  },
  {
   "cell_type": "markdown",
   "metadata": {
    "papermill": {
     "duration": 0.078988,
     "end_time": "2021-03-11T05:12:48.312189",
     "exception": false,
     "start_time": "2021-03-11T05:12:48.233201",
     "status": "completed"
    },
    "tags": []
   },
   "source": [
    "## Save"
   ]
  },
  {
   "cell_type": "code",
   "execution_count": 26,
   "metadata": {
    "execution": {
     "iopub.execute_input": "2021-03-11T05:12:48.473316Z",
     "iopub.status.busy": "2021-03-11T05:12:48.472944Z",
     "iopub.status.idle": "2021-03-11T05:12:48.483661Z",
     "shell.execute_reply": "2021-03-11T05:12:48.483960Z"
    },
    "papermill": {
     "duration": 0.092893,
     "end_time": "2021-03-11T05:12:48.484065",
     "exception": false,
     "start_time": "2021-03-11T05:12:48.391172",
     "status": "completed"
    },
    "tags": []
   },
   "outputs": [
    {
     "data": {
      "text/plain": [
       "PosixPath('/home/miltondp/projects/labs/greenelab/phenoplier/base/results/clustering/consensus_clustering/consensus_clustering_runs.pkl')"
      ]
     },
     "metadata": {},
     "output_type": "display_data"
    }
   ],
   "source": [
    "output_file = Path(RESULTS_DIR, \"consensus_clustering_runs.pkl\").resolve()\n",
    "display(output_file)"
   ]
  },
  {
   "cell_type": "code",
   "execution_count": 27,
   "metadata": {
    "execution": {
     "iopub.execute_input": "2021-03-11T05:12:48.649214Z",
     "iopub.status.busy": "2021-03-11T05:12:48.648860Z",
     "iopub.status.idle": "2021-03-11T05:12:48.670422Z",
     "shell.execute_reply": "2021-03-11T05:12:48.670717Z"
    },
    "papermill": {
     "duration": 0.105353,
     "end_time": "2021-03-11T05:12:48.670828",
     "exception": false,
     "start_time": "2021-03-11T05:12:48.565475",
     "status": "completed"
    },
    "tags": []
   },
   "outputs": [],
   "source": [
    "consensus_results.to_pickle(output_file)"
   ]
  },
  {
   "cell_type": "code",
   "execution_count": null,
   "metadata": {
    "papermill": {
     "duration": 0.08111,
     "end_time": "2021-03-11T05:12:48.833097",
     "exception": false,
     "start_time": "2021-03-11T05:12:48.751987",
     "status": "completed"
    },
    "tags": []
   },
   "outputs": [],
   "source": []
  }
 ],
 "metadata": {
  "jupytext": {
   "cell_metadata_filter": "all,-execution,-papermill,-trusted",
   "formats": "ipynb,py//py:percent"
  },
  "kernelspec": {
   "display_name": "Python 3",
   "language": "python",
   "name": "python3"
  },
  "language_info": {
   "codemirror_mode": {
    "name": "ipython",
    "version": 3
   },
   "file_extension": ".py",
   "mimetype": "text/x-python",
   "name": "python",
   "nbconvert_exporter": "python",
   "pygments_lexer": "ipython3",
   "version": "3.8.8"
  },
  "papermill": {
   "default_parameters": {},
   "duration": 5899.575617,
   "end_time": "2021-03-11T05:12:49.220154",
   "environment_variables": {},
   "exception": null,
   "input_path": "16_consensus_clustering/025_01-combine_ensemble.ipynb",
   "output_path": "16_consensus_clustering/025_01-combine_ensemble.run.ipynb",
   "parameters": {},
   "start_time": "2021-03-11T03:34:29.644537",
   "version": "2.2.2"
  },
  "toc-autonumbering": true,
  "toc-showcode": false,
  "toc-showmarkdowntxt": false,
  "toc-showtags": false
 },
 "nbformat": 4,
 "nbformat_minor": 4
}
