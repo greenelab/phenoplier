{
 "cells": [
  {
   "cell_type": "markdown",
   "id": "boolean-thanksgiving",
   "metadata": {
    "papermill": {
     "duration": 0.006593,
     "end_time": "2021-05-11T19:09:55.733221",
     "exception": false,
     "start_time": "2021-05-11T19:09:55.726628",
     "status": "completed"
    },
    "tags": []
   },
   "source": [
    "# Description"
   ]
  },
  {
   "cell_type": "markdown",
   "id": "superb-concert",
   "metadata": {
    "papermill": {
     "duration": 0.00668,
     "end_time": "2021-05-11T19:09:55.745410",
     "exception": false,
     "start_time": "2021-05-11T19:09:55.738730",
     "status": "completed"
    },
    "tags": []
   },
   "source": [
    "It analyzes which LVs are the most discriminative for different clusters of traits, and how this LVs are associated with traits using the LV-based regression framework. The steps are:\n",
    "* Read clustering resutls for PhenomeXcan (discovery cohort).\n",
    "* See which LVs are driving those trait clusters.\n",
    "* Read LV-trait associations in PhenomeXcan and eMERGE (replication cohort).\n",
    "* Perform analyses on different clusters of traits, such as autoimmune and cardiovascular clusters."
   ]
  },
  {
   "cell_type": "markdown",
   "id": "brave-artwork",
   "metadata": {
    "papermill": {
     "duration": 0.006223,
     "end_time": "2021-05-11T19:09:55.756959",
     "exception": false,
     "start_time": "2021-05-11T19:09:55.750736",
     "status": "completed"
    },
    "tags": []
   },
   "source": [
    "# Modules loading"
   ]
  },
  {
   "cell_type": "code",
   "execution_count": 1,
   "id": "combined-crash",
   "metadata": {
    "papermill": {
     "duration": 0.01906,
     "end_time": "2021-05-11T19:09:55.781515",
     "exception": false,
     "start_time": "2021-05-11T19:09:55.762455",
     "status": "completed"
    },
    "tags": []
   },
   "outputs": [],
   "source": [
    "%load_ext autoreload\n",
    "%autoreload 2"
   ]
  },
  {
   "cell_type": "code",
   "execution_count": 2,
   "id": "pretty-symphony",
   "metadata": {
    "papermill": {
     "duration": 0.993432,
     "end_time": "2021-05-11T19:09:56.780403",
     "exception": false,
     "start_time": "2021-05-11T19:09:55.786971",
     "status": "completed"
    },
    "tags": []
   },
   "outputs": [],
   "source": [
    "import re\n",
    "from pathlib import Path\n",
    "\n",
    "import pandas as pd\n",
    "\n",
    "from entity import Trait\n",
    "import conf"
   ]
  },
  {
   "cell_type": "markdown",
   "id": "stopped-thompson",
   "metadata": {
    "papermill": {
     "duration": 0.005973,
     "end_time": "2021-05-11T19:09:56.792495",
     "exception": false,
     "start_time": "2021-05-11T19:09:56.786522",
     "status": "completed"
    },
    "tags": []
   },
   "source": [
    "# Settings"
   ]
  },
  {
   "cell_type": "code",
   "execution_count": 8,
   "id": "00909590-f797-4a96-9995-43c2a442af50",
   "metadata": {},
   "outputs": [],
   "source": [
    "CLUSTERING_K = 29"
   ]
  },
  {
   "cell_type": "markdown",
   "id": "tight-passion",
   "metadata": {
    "papermill": {
     "duration": 0.006007,
     "end_time": "2021-05-11T19:09:56.949763",
     "exception": false,
     "start_time": "2021-05-11T19:09:56.943756",
     "status": "completed"
    },
    "tags": []
   },
   "source": [
    "# Paths"
   ]
  },
  {
   "cell_type": "code",
   "execution_count": 9,
   "id": "271c81ab-0ab5-47a8-9e28-2486d0d61c30",
   "metadata": {},
   "outputs": [
    {
     "data": {
      "text/plain": [
       "PosixPath('/opt/data/results/clustering/consensus_clustering')"
      ]
     },
     "metadata": {},
     "output_type": "display_data"
    }
   ],
   "source": [
    "CONSENSUS_CLUSTERING_DIR = Path(\n",
    "    conf.RESULTS[\"CLUSTERING_DIR\"], \"consensus_clustering\"\n",
    ").resolve()\n",
    "\n",
    "display(CONSENSUS_CLUSTERING_DIR)"
   ]
  },
  {
   "cell_type": "code",
   "execution_count": 10,
   "id": "331ec748-631c-4f1d-a105-c3e957efdbe2",
   "metadata": {},
   "outputs": [
    {
     "data": {
      "text/plain": [
       "PosixPath('/opt/data/results/clustering/interpretation/cluster_lvs/part29')"
      ]
     },
     "metadata": {},
     "output_type": "display_data"
    }
   ],
   "source": [
    "CLUSTERING_LVS_DIR = (\n",
    "    conf.RESULTS[\"CLUSTERING_INTERPRETATION\"][\"BASE_DIR\"] / \"cluster_lvs\" / \"part29\"\n",
    ")\n",
    "display(CLUSTERING_LVS_DIR)\n",
    "assert CLUSTERING_LVS_DIR.exists()"
   ]
  },
  {
   "cell_type": "markdown",
   "id": "90eb367d-d619-41d2-8738-2ee6650144ba",
   "metadata": {
    "papermill": {
     "duration": 0.006007,
     "end_time": "2021-05-11T19:09:56.949763",
     "exception": false,
     "start_time": "2021-05-11T19:09:56.943756",
     "status": "completed"
    },
    "tags": []
   },
   "source": [
    "# Load data"
   ]
  },
  {
   "cell_type": "markdown",
   "id": "fitting-dallas",
   "metadata": {},
   "source": [
    "## Clustering data"
   ]
  },
  {
   "cell_type": "code",
   "execution_count": 11,
   "id": "8061d496-783b-451c-9600-024982bc5dd0",
   "metadata": {},
   "outputs": [],
   "source": [
    "INPUT_SUBSET = \"z_score_std\""
   ]
  },
  {
   "cell_type": "code",
   "execution_count": 12,
   "id": "6fe86d1f-6f14-404f-9552-b4cbeabb5a38",
   "metadata": {},
   "outputs": [],
   "source": [
    "INPUT_STEM = \"projection-smultixcan-efo_partial-mashr-zscores\""
   ]
  },
  {
   "cell_type": "code",
   "execution_count": 13,
   "id": "4430b581-94cf-4cdd-836e-2fe2dde41226",
   "metadata": {},
   "outputs": [
    {
     "data": {
      "text/plain": [
       "PosixPath('/opt/data/results/data_transformations/z_score_std/z_score_std-projection-smultixcan-efo_partial-mashr-zscores.pkl')"
      ]
     },
     "metadata": {},
     "output_type": "display_data"
    },
    {
     "data": {
      "text/plain": [
       "'z_score_std-projection-smultixcan-efo_partial-mashr-zscores'"
      ]
     },
     "metadata": {},
     "output_type": "display_data"
    }
   ],
   "source": [
    "input_filepath = Path(\n",
    "    conf.RESULTS[\"DATA_TRANSFORMATIONS_DIR\"],\n",
    "    INPUT_SUBSET,\n",
    "    f\"{INPUT_SUBSET}-{INPUT_STEM}.pkl\",\n",
    ").resolve()\n",
    "display(input_filepath)\n",
    "\n",
    "assert input_filepath.exists(), \"Input file does not exist\"\n",
    "\n",
    "input_filepath_stem = input_filepath.stem\n",
    "display(input_filepath_stem)"
   ]
  },
  {
   "cell_type": "code",
   "execution_count": 14,
   "id": "adca6eb7-890c-4396-a2c6-540f1301fad1",
   "metadata": {},
   "outputs": [],
   "source": [
    "input_data = pd.read_pickle(input_filepath)"
   ]
  },
  {
   "cell_type": "code",
   "execution_count": 15,
   "id": "b40c77f2-5e47-47f8-9b91-f5585006d303",
   "metadata": {},
   "outputs": [
    {
     "data": {
      "text/plain": [
       "(3752, 987)"
      ]
     },
     "execution_count": 15,
     "metadata": {},
     "output_type": "execute_result"
    }
   ],
   "source": [
    "input_data.shape"
   ]
  },
  {
   "cell_type": "code",
   "execution_count": 16,
   "id": "2a076d18-d49f-4fd1-bc6d-0f0ae054ad0f",
   "metadata": {},
   "outputs": [
    {
     "data": {
      "text/html": [
       "<div>\n",
       "<style scoped>\n",
       "    .dataframe tbody tr th:only-of-type {\n",
       "        vertical-align: middle;\n",
       "    }\n",
       "\n",
       "    .dataframe tbody tr th {\n",
       "        vertical-align: top;\n",
       "    }\n",
       "\n",
       "    .dataframe thead th {\n",
       "        text-align: right;\n",
       "    }\n",
       "</style>\n",
       "<table border=\"1\" class=\"dataframe\">\n",
       "  <thead>\n",
       "    <tr style=\"text-align: right;\">\n",
       "      <th></th>\n",
       "      <th>LV1</th>\n",
       "      <th>LV2</th>\n",
       "      <th>LV3</th>\n",
       "      <th>LV4</th>\n",
       "      <th>LV5</th>\n",
       "      <th>LV6</th>\n",
       "      <th>LV7</th>\n",
       "      <th>LV8</th>\n",
       "      <th>LV9</th>\n",
       "      <th>LV10</th>\n",
       "      <th>...</th>\n",
       "      <th>LV978</th>\n",
       "      <th>LV979</th>\n",
       "      <th>LV980</th>\n",
       "      <th>LV981</th>\n",
       "      <th>LV982</th>\n",
       "      <th>LV983</th>\n",
       "      <th>LV984</th>\n",
       "      <th>LV985</th>\n",
       "      <th>LV986</th>\n",
       "      <th>LV987</th>\n",
       "    </tr>\n",
       "  </thead>\n",
       "  <tbody>\n",
       "    <tr>\n",
       "      <th>100001_raw-Food_weight</th>\n",
       "      <td>-0.695006</td>\n",
       "      <td>1.962565</td>\n",
       "      <td>0.057683</td>\n",
       "      <td>0.878731</td>\n",
       "      <td>-0.539977</td>\n",
       "      <td>1.481272</td>\n",
       "      <td>-0.396422</td>\n",
       "      <td>1.090180</td>\n",
       "      <td>0.759223</td>\n",
       "      <td>0.931395</td>\n",
       "      <td>...</td>\n",
       "      <td>1.129784</td>\n",
       "      <td>1.752343</td>\n",
       "      <td>-1.411403</td>\n",
       "      <td>2.823863</td>\n",
       "      <td>0.931116</td>\n",
       "      <td>-1.054519</td>\n",
       "      <td>0.432982</td>\n",
       "      <td>-0.633597</td>\n",
       "      <td>0.554279</td>\n",
       "      <td>-0.642479</td>\n",
       "    </tr>\n",
       "    <tr>\n",
       "      <th>100002_raw-Energy</th>\n",
       "      <td>-1.528127</td>\n",
       "      <td>-0.345309</td>\n",
       "      <td>-0.148953</td>\n",
       "      <td>-0.242060</td>\n",
       "      <td>0.373427</td>\n",
       "      <td>0.791092</td>\n",
       "      <td>0.263477</td>\n",
       "      <td>0.987702</td>\n",
       "      <td>0.354391</td>\n",
       "      <td>1.416059</td>\n",
       "      <td>...</td>\n",
       "      <td>0.224604</td>\n",
       "      <td>0.769882</td>\n",
       "      <td>-0.509482</td>\n",
       "      <td>0.091153</td>\n",
       "      <td>2.286789</td>\n",
       "      <td>-1.008256</td>\n",
       "      <td>-0.029764</td>\n",
       "      <td>1.737229</td>\n",
       "      <td>-0.272107</td>\n",
       "      <td>-0.526125</td>\n",
       "    </tr>\n",
       "    <tr>\n",
       "      <th>100003_raw-Protein</th>\n",
       "      <td>-0.704572</td>\n",
       "      <td>-1.011299</td>\n",
       "      <td>0.671420</td>\n",
       "      <td>0.143991</td>\n",
       "      <td>0.615212</td>\n",
       "      <td>0.874212</td>\n",
       "      <td>-0.040998</td>\n",
       "      <td>0.915170</td>\n",
       "      <td>0.254369</td>\n",
       "      <td>-0.084237</td>\n",
       "      <td>...</td>\n",
       "      <td>1.003019</td>\n",
       "      <td>1.044314</td>\n",
       "      <td>-2.376108</td>\n",
       "      <td>0.004778</td>\n",
       "      <td>0.053714</td>\n",
       "      <td>-0.892447</td>\n",
       "      <td>-0.183800</td>\n",
       "      <td>1.377991</td>\n",
       "      <td>-0.278794</td>\n",
       "      <td>-0.419733</td>\n",
       "    </tr>\n",
       "    <tr>\n",
       "      <th>100004_raw-Fat</th>\n",
       "      <td>-0.989832</td>\n",
       "      <td>-1.875490</td>\n",
       "      <td>0.261555</td>\n",
       "      <td>-1.420719</td>\n",
       "      <td>0.366238</td>\n",
       "      <td>1.167049</td>\n",
       "      <td>0.257387</td>\n",
       "      <td>0.717674</td>\n",
       "      <td>-0.997664</td>\n",
       "      <td>0.969825</td>\n",
       "      <td>...</td>\n",
       "      <td>0.585913</td>\n",
       "      <td>0.638314</td>\n",
       "      <td>0.119139</td>\n",
       "      <td>-0.140204</td>\n",
       "      <td>1.394326</td>\n",
       "      <td>-1.173402</td>\n",
       "      <td>0.555058</td>\n",
       "      <td>1.013982</td>\n",
       "      <td>-0.544506</td>\n",
       "      <td>-0.064061</td>\n",
       "    </tr>\n",
       "    <tr>\n",
       "      <th>100005_raw-Carbohydrate</th>\n",
       "      <td>-0.580143</td>\n",
       "      <td>0.243335</td>\n",
       "      <td>0.158966</td>\n",
       "      <td>-0.036558</td>\n",
       "      <td>0.068176</td>\n",
       "      <td>-0.202639</td>\n",
       "      <td>1.101281</td>\n",
       "      <td>0.675227</td>\n",
       "      <td>1.463432</td>\n",
       "      <td>1.010078</td>\n",
       "      <td>...</td>\n",
       "      <td>-0.249108</td>\n",
       "      <td>-0.026814</td>\n",
       "      <td>0.232713</td>\n",
       "      <td>0.323682</td>\n",
       "      <td>1.168642</td>\n",
       "      <td>-0.282935</td>\n",
       "      <td>0.653105</td>\n",
       "      <td>1.909526</td>\n",
       "      <td>0.199997</td>\n",
       "      <td>-1.656894</td>\n",
       "    </tr>\n",
       "  </tbody>\n",
       "</table>\n",
       "<p>5 rows × 987 columns</p>\n",
       "</div>"
      ],
      "text/plain": [
       "                              LV1       LV2       LV3       LV4       LV5  \\\n",
       "100001_raw-Food_weight  -0.695006  1.962565  0.057683  0.878731 -0.539977   \n",
       "100002_raw-Energy       -1.528127 -0.345309 -0.148953 -0.242060  0.373427   \n",
       "100003_raw-Protein      -0.704572 -1.011299  0.671420  0.143991  0.615212   \n",
       "100004_raw-Fat          -0.989832 -1.875490  0.261555 -1.420719  0.366238   \n",
       "100005_raw-Carbohydrate -0.580143  0.243335  0.158966 -0.036558  0.068176   \n",
       "\n",
       "                              LV6       LV7       LV8       LV9      LV10  \\\n",
       "100001_raw-Food_weight   1.481272 -0.396422  1.090180  0.759223  0.931395   \n",
       "100002_raw-Energy        0.791092  0.263477  0.987702  0.354391  1.416059   \n",
       "100003_raw-Protein       0.874212 -0.040998  0.915170  0.254369 -0.084237   \n",
       "100004_raw-Fat           1.167049  0.257387  0.717674 -0.997664  0.969825   \n",
       "100005_raw-Carbohydrate -0.202639  1.101281  0.675227  1.463432  1.010078   \n",
       "\n",
       "                         ...     LV978     LV979     LV980     LV981  \\\n",
       "100001_raw-Food_weight   ...  1.129784  1.752343 -1.411403  2.823863   \n",
       "100002_raw-Energy        ...  0.224604  0.769882 -0.509482  0.091153   \n",
       "100003_raw-Protein       ...  1.003019  1.044314 -2.376108  0.004778   \n",
       "100004_raw-Fat           ...  0.585913  0.638314  0.119139 -0.140204   \n",
       "100005_raw-Carbohydrate  ... -0.249108 -0.026814  0.232713  0.323682   \n",
       "\n",
       "                            LV982     LV983     LV984     LV985     LV986  \\\n",
       "100001_raw-Food_weight   0.931116 -1.054519  0.432982 -0.633597  0.554279   \n",
       "100002_raw-Energy        2.286789 -1.008256 -0.029764  1.737229 -0.272107   \n",
       "100003_raw-Protein       0.053714 -0.892447 -0.183800  1.377991 -0.278794   \n",
       "100004_raw-Fat           1.394326 -1.173402  0.555058  1.013982 -0.544506   \n",
       "100005_raw-Carbohydrate  1.168642 -0.282935  0.653105  1.909526  0.199997   \n",
       "\n",
       "                            LV987  \n",
       "100001_raw-Food_weight  -0.642479  \n",
       "100002_raw-Energy       -0.526125  \n",
       "100003_raw-Protein      -0.419733  \n",
       "100004_raw-Fat          -0.064061  \n",
       "100005_raw-Carbohydrate -1.656894  \n",
       "\n",
       "[5 rows x 987 columns]"
      ]
     },
     "execution_count": 16,
     "metadata": {},
     "output_type": "execute_result"
    }
   ],
   "source": [
    "input_data.head()"
   ]
  },
  {
   "cell_type": "markdown",
   "id": "233cdeb2-4002-46b4-a53e-b49e41eab877",
   "metadata": {},
   "source": [
    "## Clustering partition"
   ]
  },
  {
   "cell_type": "code",
   "execution_count": 17,
   "id": "e06b727d-9113-4cb8-83c5-df15bbe219b5",
   "metadata": {},
   "outputs": [
    {
     "data": {
      "text/plain": [
       "PosixPath('/opt/data/results/clustering/consensus_clustering/best_partitions_by_k.pkl')"
      ]
     },
     "metadata": {},
     "output_type": "display_data"
    }
   ],
   "source": [
    "input_file = Path(CONSENSUS_CLUSTERING_DIR, \"best_partitions_by_k.pkl\").resolve()\n",
    "display(input_file)"
   ]
  },
  {
   "cell_type": "code",
   "execution_count": 18,
   "id": "48d811aa-3ce9-49be-989f-8f1a774ed1a9",
   "metadata": {},
   "outputs": [],
   "source": [
    "best_partitions = pd.read_pickle(input_file)"
   ]
  },
  {
   "cell_type": "code",
   "execution_count": 19,
   "id": "17ad06ef-aae7-444c-8249-6b6431f6017c",
   "metadata": {},
   "outputs": [
    {
     "data": {
      "text/plain": [
       "(59, 4)"
      ]
     },
     "execution_count": 19,
     "metadata": {},
     "output_type": "execute_result"
    }
   ],
   "source": [
    "best_partitions.shape"
   ]
  },
  {
   "cell_type": "code",
   "execution_count": 20,
   "id": "b7baed48-03b8-4c1b-b4b7-d2cd477c9ed7",
   "metadata": {},
   "outputs": [
    {
     "data": {
      "text/html": [
       "<div>\n",
       "<style scoped>\n",
       "    .dataframe tbody tr th:only-of-type {\n",
       "        vertical-align: middle;\n",
       "    }\n",
       "\n",
       "    .dataframe tbody tr th {\n",
       "        vertical-align: top;\n",
       "    }\n",
       "\n",
       "    .dataframe thead th {\n",
       "        text-align: right;\n",
       "    }\n",
       "</style>\n",
       "<table border=\"1\" class=\"dataframe\">\n",
       "  <thead>\n",
       "    <tr style=\"text-align: right;\">\n",
       "      <th></th>\n",
       "      <th>method</th>\n",
       "      <th>partition</th>\n",
       "      <th>ari_median</th>\n",
       "      <th>selected</th>\n",
       "    </tr>\n",
       "    <tr>\n",
       "      <th>k</th>\n",
       "      <th></th>\n",
       "      <th></th>\n",
       "      <th></th>\n",
       "      <th></th>\n",
       "    </tr>\n",
       "  </thead>\n",
       "  <tbody>\n",
       "    <tr>\n",
       "      <th>14</th>\n",
       "      <td>scc_025</td>\n",
       "      <td>[0, 0, 0, 0, 0, 0, 0, 0, 0, 0, 0, 0, 0, 0, 0, ...</td>\n",
       "      <td>0.090117</td>\n",
       "      <td>True</td>\n",
       "    </tr>\n",
       "    <tr>\n",
       "      <th>22</th>\n",
       "      <td>scc_020</td>\n",
       "      <td>[13, 18, 18, 18, 18, 18, 18, 18, 18, 13, 18, 1...</td>\n",
       "      <td>0.090100</td>\n",
       "      <td>True</td>\n",
       "    </tr>\n",
       "    <tr>\n",
       "      <th>13</th>\n",
       "      <td>scc_025</td>\n",
       "      <td>[0, 0, 0, 0, 0, 0, 0, 0, 0, 0, 0, 0, 0, 0, 0, ...</td>\n",
       "      <td>0.089920</td>\n",
       "      <td>True</td>\n",
       "    </tr>\n",
       "    <tr>\n",
       "      <th>12</th>\n",
       "      <td>scc_025</td>\n",
       "      <td>[0, 0, 0, 0, 0, 0, 0, 0, 0, 0, 0, 0, 0, 0, 0, ...</td>\n",
       "      <td>0.089894</td>\n",
       "      <td>True</td>\n",
       "    </tr>\n",
       "    <tr>\n",
       "      <th>11</th>\n",
       "      <td>scc_025</td>\n",
       "      <td>[0, 0, 0, 0, 0, 0, 0, 0, 0, 0, 0, 0, 0, 0, 0, ...</td>\n",
       "      <td>0.089616</td>\n",
       "      <td>True</td>\n",
       "    </tr>\n",
       "  </tbody>\n",
       "</table>\n",
       "</div>"
      ],
      "text/plain": [
       "     method                                          partition  ari_median  \\\n",
       "k                                                                            \n",
       "14  scc_025  [0, 0, 0, 0, 0, 0, 0, 0, 0, 0, 0, 0, 0, 0, 0, ...    0.090117   \n",
       "22  scc_020  [13, 18, 18, 18, 18, 18, 18, 18, 18, 13, 18, 1...    0.090100   \n",
       "13  scc_025  [0, 0, 0, 0, 0, 0, 0, 0, 0, 0, 0, 0, 0, 0, 0, ...    0.089920   \n",
       "12  scc_025  [0, 0, 0, 0, 0, 0, 0, 0, 0, 0, 0, 0, 0, 0, 0, ...    0.089894   \n",
       "11  scc_025  [0, 0, 0, 0, 0, 0, 0, 0, 0, 0, 0, 0, 0, 0, 0, ...    0.089616   \n",
       "\n",
       "    selected  \n",
       "k             \n",
       "14      True  \n",
       "22      True  \n",
       "13      True  \n",
       "12      True  \n",
       "11      True  "
      ]
     },
     "execution_count": 20,
     "metadata": {},
     "output_type": "execute_result"
    }
   ],
   "source": [
    "best_partitions.head()"
   ]
  },
  {
   "cell_type": "code",
   "execution_count": 21,
   "id": "2073146b-c2ae-403e-8ed9-c9f9f3871441",
   "metadata": {},
   "outputs": [],
   "source": [
    "SELECTED_PARTITION = best_partitions.loc[CLUSTERING_K, \"partition\"]"
   ]
  },
  {
   "cell_type": "code",
   "execution_count": 22,
   "id": "3e5bf9e3-54a2-4cd6-8af0-dde784a8a9ef",
   "metadata": {},
   "outputs": [
    {
     "data": {
      "text/plain": [
       "array([ 0, 22, 22, ...,  0, 28,  0], dtype=int32)"
      ]
     },
     "execution_count": 22,
     "metadata": {},
     "output_type": "execute_result"
    }
   ],
   "source": [
    "SELECTED_PARTITION"
   ]
  },
  {
   "cell_type": "code",
   "execution_count": 23,
   "id": "e52ea33b-e966-4e55-8666-cd376d074af2",
   "metadata": {},
   "outputs": [],
   "source": [
    "def get_cluster_traits(cluster):\n",
    "    cluster_traits = input_data[SELECTED_PARTITION == cluster].index\n",
    "\n",
    "    traits_with_short_codes = [\n",
    "        Trait.get_traits_from_efo(c)[0].code\n",
    "        if Trait.is_efo_label(c)\n",
    "        else Trait.get_trait(full_code=c).code\n",
    "        for c in cluster_traits\n",
    "    ]\n",
    "\n",
    "    return traits_with_short_codes"
   ]
  },
  {
   "cell_type": "markdown",
   "id": "1a574938-172b-445c-bf09-ce87bb6fe4f0",
   "metadata": {},
   "source": [
    "## PhenomeXcan LV-trait associations"
   ]
  },
  {
   "cell_type": "code",
   "execution_count": 24,
   "id": "handed-beverage",
   "metadata": {},
   "outputs": [
    {
     "data": {
      "text/plain": [
       "PosixPath('/opt/data/results/gls/gls-summary-phenomexcan.pkl.gz')"
      ]
     },
     "metadata": {},
     "output_type": "display_data"
    }
   ],
   "source": [
    "input_filepath = Path(conf.RESULTS[\"GLS\"] / \"gls-summary-phenomexcan.pkl.gz\")\n",
    "display(input_filepath)"
   ]
  },
  {
   "cell_type": "code",
   "execution_count": 25,
   "id": "romantic-syndicate",
   "metadata": {},
   "outputs": [],
   "source": [
    "phenomexcan_lv_trait_assocs = pd.read_pickle(input_filepath)"
   ]
  },
  {
   "cell_type": "code",
   "execution_count": 26,
   "id": "alien-tribe",
   "metadata": {},
   "outputs": [
    {
     "data": {
      "text/plain": [
       "(4037817, 5)"
      ]
     },
     "execution_count": 26,
     "metadata": {},
     "output_type": "execute_result"
    }
   ],
   "source": [
    "phenomexcan_lv_trait_assocs.shape"
   ]
  },
  {
   "cell_type": "code",
   "execution_count": 27,
   "id": "artificial-distance",
   "metadata": {},
   "outputs": [
    {
     "data": {
      "text/html": [
       "<div>\n",
       "<style scoped>\n",
       "    .dataframe tbody tr th:only-of-type {\n",
       "        vertical-align: middle;\n",
       "    }\n",
       "\n",
       "    .dataframe tbody tr th {\n",
       "        vertical-align: top;\n",
       "    }\n",
       "\n",
       "    .dataframe thead th {\n",
       "        text-align: right;\n",
       "    }\n",
       "</style>\n",
       "<table border=\"1\" class=\"dataframe\">\n",
       "  <thead>\n",
       "    <tr style=\"text-align: right;\">\n",
       "      <th></th>\n",
       "      <th>phenotype</th>\n",
       "      <th>phenotype_desc</th>\n",
       "      <th>lv</th>\n",
       "      <th>pvalue</th>\n",
       "      <th>fdr</th>\n",
       "    </tr>\n",
       "  </thead>\n",
       "  <tbody>\n",
       "    <tr>\n",
       "      <th>0</th>\n",
       "      <td>AB1_OTHER_VIRAL</td>\n",
       "      <td>Other viral diseases</td>\n",
       "      <td>LV736</td>\n",
       "      <td>0.004725</td>\n",
       "      <td>0.504339</td>\n",
       "    </tr>\n",
       "    <tr>\n",
       "      <th>1</th>\n",
       "      <td>AB1_OTHER_VIRAL</td>\n",
       "      <td>Other viral diseases</td>\n",
       "      <td>LV320</td>\n",
       "      <td>0.004848</td>\n",
       "      <td>0.508291</td>\n",
       "    </tr>\n",
       "    <tr>\n",
       "      <th>2</th>\n",
       "      <td>AB1_OTHER_VIRAL</td>\n",
       "      <td>Other viral diseases</td>\n",
       "      <td>LV366</td>\n",
       "      <td>0.005306</td>\n",
       "      <td>0.523691</td>\n",
       "    </tr>\n",
       "    <tr>\n",
       "      <th>3</th>\n",
       "      <td>AB1_OTHER_VIRAL</td>\n",
       "      <td>Other viral diseases</td>\n",
       "      <td>LV964</td>\n",
       "      <td>0.006106</td>\n",
       "      <td>0.548143</td>\n",
       "    </tr>\n",
       "    <tr>\n",
       "      <th>4</th>\n",
       "      <td>AB1_OTHER_VIRAL</td>\n",
       "      <td>Other viral diseases</td>\n",
       "      <td>LV92</td>\n",
       "      <td>0.006565</td>\n",
       "      <td>0.560048</td>\n",
       "    </tr>\n",
       "  </tbody>\n",
       "</table>\n",
       "</div>"
      ],
      "text/plain": [
       "         phenotype        phenotype_desc     lv    pvalue       fdr\n",
       "0  AB1_OTHER_VIRAL  Other viral diseases  LV736  0.004725  0.504339\n",
       "1  AB1_OTHER_VIRAL  Other viral diseases  LV320  0.004848  0.508291\n",
       "2  AB1_OTHER_VIRAL  Other viral diseases  LV366  0.005306  0.523691\n",
       "3  AB1_OTHER_VIRAL  Other viral diseases  LV964  0.006106  0.548143\n",
       "4  AB1_OTHER_VIRAL  Other viral diseases   LV92  0.006565  0.560048"
      ]
     },
     "execution_count": 27,
     "metadata": {},
     "output_type": "execute_result"
    }
   ],
   "source": [
    "phenomexcan_lv_trait_assocs.head()"
   ]
  },
  {
   "cell_type": "markdown",
   "id": "vocal-worker",
   "metadata": {},
   "source": [
    "## eMERGE LV-trait associations"
   ]
  },
  {
   "cell_type": "code",
   "execution_count": 28,
   "id": "insured-classics",
   "metadata": {},
   "outputs": [
    {
     "data": {
      "text/plain": [
       "PosixPath('/opt/data/results/gls/gls-summary-emerge.pkl.gz')"
      ]
     },
     "metadata": {},
     "output_type": "display_data"
    }
   ],
   "source": [
    "input_filepath = Path(conf.RESULTS[\"GLS\"] / \"gls-summary-emerge.pkl.gz\")\n",
    "display(input_filepath)"
   ]
  },
  {
   "cell_type": "code",
   "execution_count": 29,
   "id": "trained-blackberry",
   "metadata": {},
   "outputs": [],
   "source": [
    "emerge_lv_trait_assocs = pd.read_pickle(input_filepath)"
   ]
  },
  {
   "cell_type": "code",
   "execution_count": 30,
   "id": "divine-genius",
   "metadata": {},
   "outputs": [
    {
     "data": {
      "text/plain": [
       "(304983, 5)"
      ]
     },
     "execution_count": 30,
     "metadata": {},
     "output_type": "execute_result"
    }
   ],
   "source": [
    "emerge_lv_trait_assocs.shape"
   ]
  },
  {
   "cell_type": "code",
   "execution_count": 31,
   "id": "forced-study",
   "metadata": {},
   "outputs": [
    {
     "data": {
      "text/html": [
       "<div>\n",
       "<style scoped>\n",
       "    .dataframe tbody tr th:only-of-type {\n",
       "        vertical-align: middle;\n",
       "    }\n",
       "\n",
       "    .dataframe tbody tr th {\n",
       "        vertical-align: top;\n",
       "    }\n",
       "\n",
       "    .dataframe thead th {\n",
       "        text-align: right;\n",
       "    }\n",
       "</style>\n",
       "<table border=\"1\" class=\"dataframe\">\n",
       "  <thead>\n",
       "    <tr style=\"text-align: right;\">\n",
       "      <th></th>\n",
       "      <th>phenotype</th>\n",
       "      <th>phenotype_desc</th>\n",
       "      <th>lv</th>\n",
       "      <th>pvalue</th>\n",
       "      <th>fdr</th>\n",
       "    </tr>\n",
       "  </thead>\n",
       "  <tbody>\n",
       "    <tr>\n",
       "      <th>0</th>\n",
       "      <td>EUR_440.2</td>\n",
       "      <td>Atherosclerosis of the extremities</td>\n",
       "      <td>LV472</td>\n",
       "      <td>1.033637e-07</td>\n",
       "      <td>0.000658</td>\n",
       "    </tr>\n",
       "    <tr>\n",
       "      <th>1</th>\n",
       "      <td>EUR_440.2</td>\n",
       "      <td>Atherosclerosis of the extremities</td>\n",
       "      <td>LV182</td>\n",
       "      <td>3.710244e-07</td>\n",
       "      <td>0.001432</td>\n",
       "    </tr>\n",
       "    <tr>\n",
       "      <th>2</th>\n",
       "      <td>EUR_440.2</td>\n",
       "      <td>Atherosclerosis of the extremities</td>\n",
       "      <td>LV348</td>\n",
       "      <td>7.379936e-07</td>\n",
       "      <td>0.002558</td>\n",
       "    </tr>\n",
       "    <tr>\n",
       "      <th>3</th>\n",
       "      <td>EUR_440.2</td>\n",
       "      <td>Atherosclerosis of the extremities</td>\n",
       "      <td>LV504</td>\n",
       "      <td>1.534424e-06</td>\n",
       "      <td>0.004500</td>\n",
       "    </tr>\n",
       "    <tr>\n",
       "      <th>4</th>\n",
       "      <td>EUR_440.2</td>\n",
       "      <td>Atherosclerosis of the extremities</td>\n",
       "      <td>LV445</td>\n",
       "      <td>2.912525e-06</td>\n",
       "      <td>0.007402</td>\n",
       "    </tr>\n",
       "  </tbody>\n",
       "</table>\n",
       "</div>"
      ],
      "text/plain": [
       "   phenotype                      phenotype_desc     lv        pvalue  \\\n",
       "0  EUR_440.2  Atherosclerosis of the extremities  LV472  1.033637e-07   \n",
       "1  EUR_440.2  Atherosclerosis of the extremities  LV182  3.710244e-07   \n",
       "2  EUR_440.2  Atherosclerosis of the extremities  LV348  7.379936e-07   \n",
       "3  EUR_440.2  Atherosclerosis of the extremities  LV504  1.534424e-06   \n",
       "4  EUR_440.2  Atherosclerosis of the extremities  LV445  2.912525e-06   \n",
       "\n",
       "        fdr  \n",
       "0  0.000658  \n",
       "1  0.001432  \n",
       "2  0.002558  \n",
       "3  0.004500  \n",
       "4  0.007402  "
      ]
     },
     "execution_count": 31,
     "metadata": {},
     "output_type": "execute_result"
    }
   ],
   "source": [
    "emerge_lv_trait_assocs.head()"
   ]
  },
  {
   "cell_type": "markdown",
   "id": "selected-anime",
   "metadata": {},
   "source": [
    "## eMERGE traits info"
   ]
  },
  {
   "cell_type": "code",
   "execution_count": 32,
   "id": "optimum-street",
   "metadata": {},
   "outputs": [
    {
     "data": {
      "text/plain": [
       "PosixPath('/opt/data/data/emerge/eMERGE_III_PMBB_GSA_v2_2020_phecode_AFR_EUR_cc50_counts_w_dictionary.txt')"
      ]
     },
     "metadata": {},
     "output_type": "display_data"
    }
   ],
   "source": [
    "input_filepath = conf.EMERGE[\"DESC_FILE_WITH_SAMPLE_SIZE\"]\n",
    "display(input_filepath)"
   ]
  },
  {
   "cell_type": "code",
   "execution_count": 33,
   "id": "banned-pepper",
   "metadata": {},
   "outputs": [],
   "source": [
    "emerge_traits_info = pd.read_csv(\n",
    "    input_filepath,\n",
    "    sep=\"\\t\",\n",
    "    dtype={\"phecode\": str},\n",
    "    usecols=[\n",
    "        \"phecode\",\n",
    "        \"phenotype\",\n",
    "        \"category\",\n",
    "        \"eMERGE_III_EUR_case\",\n",
    "        \"eMERGE_III_EUR_control\",\n",
    "    ],\n",
    ")"
   ]
  },
  {
   "cell_type": "code",
   "execution_count": 34,
   "id": "8a35e7c6-655d-4508-9367-ade3943ff6f4",
   "metadata": {},
   "outputs": [],
   "source": [
    "emerge_traits_info[\"phecode\"] = emerge_traits_info[\"phecode\"].apply(\n",
    "    lambda x: f\"EUR_{x}\"\n",
    ")"
   ]
  },
  {
   "cell_type": "code",
   "execution_count": 35,
   "id": "later-ukraine",
   "metadata": {},
   "outputs": [],
   "source": [
    "emerge_traits_info = emerge_traits_info.set_index(\"phecode\").sort_index()"
   ]
  },
  {
   "cell_type": "code",
   "execution_count": 36,
   "id": "pregnant-reserve",
   "metadata": {},
   "outputs": [],
   "source": [
    "emerge_traits_info = emerge_traits_info.rename(\n",
    "    columns={\n",
    "        \"eMERGE_III_EUR_case\": \"eur_n_cases\",\n",
    "        \"eMERGE_III_EUR_control\": \"eur_n_controls\",\n",
    "    }\n",
    ")"
   ]
  },
  {
   "cell_type": "code",
   "execution_count": 37,
   "id": "incorporate-september",
   "metadata": {},
   "outputs": [
    {
     "data": {
      "text/plain": [
       "(309, 4)"
      ]
     },
     "execution_count": 37,
     "metadata": {},
     "output_type": "execute_result"
    }
   ],
   "source": [
    "emerge_traits_info.shape"
   ]
  },
  {
   "cell_type": "code",
   "execution_count": 38,
   "id": "average-manner",
   "metadata": {},
   "outputs": [
    {
     "data": {
      "text/html": [
       "<div>\n",
       "<style scoped>\n",
       "    .dataframe tbody tr th:only-of-type {\n",
       "        vertical-align: middle;\n",
       "    }\n",
       "\n",
       "    .dataframe tbody tr th {\n",
       "        vertical-align: top;\n",
       "    }\n",
       "\n",
       "    .dataframe thead th {\n",
       "        text-align: right;\n",
       "    }\n",
       "</style>\n",
       "<table border=\"1\" class=\"dataframe\">\n",
       "  <thead>\n",
       "    <tr style=\"text-align: right;\">\n",
       "      <th></th>\n",
       "      <th>eur_n_cases</th>\n",
       "      <th>eur_n_controls</th>\n",
       "      <th>phenotype</th>\n",
       "      <th>category</th>\n",
       "    </tr>\n",
       "    <tr>\n",
       "      <th>phecode</th>\n",
       "      <th></th>\n",
       "      <th></th>\n",
       "      <th></th>\n",
       "      <th></th>\n",
       "    </tr>\n",
       "  </thead>\n",
       "  <tbody>\n",
       "    <tr>\n",
       "      <th>EUR_008</th>\n",
       "      <td>1639</td>\n",
       "      <td>57495</td>\n",
       "      <td>Intestinal infection</td>\n",
       "      <td>infectious diseases</td>\n",
       "    </tr>\n",
       "    <tr>\n",
       "      <th>EUR_008.5</th>\n",
       "      <td>1024</td>\n",
       "      <td>57495</td>\n",
       "      <td>Bacterial enteritis</td>\n",
       "      <td>infectious diseases</td>\n",
       "    </tr>\n",
       "    <tr>\n",
       "      <th>EUR_008.52</th>\n",
       "      <td>893</td>\n",
       "      <td>57495</td>\n",
       "      <td>Intestinal infection due to C. difficile</td>\n",
       "      <td>infectious diseases</td>\n",
       "    </tr>\n",
       "    <tr>\n",
       "      <th>EUR_038</th>\n",
       "      <td>3172</td>\n",
       "      <td>50610</td>\n",
       "      <td>Septicemia</td>\n",
       "      <td>infectious diseases</td>\n",
       "    </tr>\n",
       "    <tr>\n",
       "      <th>EUR_038.3</th>\n",
       "      <td>1361</td>\n",
       "      <td>50610</td>\n",
       "      <td>Bacteremia</td>\n",
       "      <td>infectious diseases</td>\n",
       "    </tr>\n",
       "  </tbody>\n",
       "</table>\n",
       "</div>"
      ],
      "text/plain": [
       "            eur_n_cases  eur_n_controls  \\\n",
       "phecode                                   \n",
       "EUR_008            1639           57495   \n",
       "EUR_008.5          1024           57495   \n",
       "EUR_008.52          893           57495   \n",
       "EUR_038            3172           50610   \n",
       "EUR_038.3          1361           50610   \n",
       "\n",
       "                                           phenotype             category  \n",
       "phecode                                                                    \n",
       "EUR_008                         Intestinal infection  infectious diseases  \n",
       "EUR_008.5                        Bacterial enteritis  infectious diseases  \n",
       "EUR_008.52  Intestinal infection due to C. difficile  infectious diseases  \n",
       "EUR_038                                   Septicemia  infectious diseases  \n",
       "EUR_038.3                                 Bacteremia  infectious diseases  "
      ]
     },
     "execution_count": 38,
     "metadata": {},
     "output_type": "execute_result"
    }
   ],
   "source": [
    "emerge_traits_info.head()"
   ]
  },
  {
   "cell_type": "code",
   "execution_count": 39,
   "id": "romantic-agreement",
   "metadata": {},
   "outputs": [],
   "source": [
    "assert emerge_traits_info.index.is_unique"
   ]
  },
  {
   "cell_type": "markdown",
   "id": "timely-actor",
   "metadata": {
    "lines_to_next_cell": 2
   },
   "source": [
    "## LVs errors"
   ]
  },
  {
   "cell_type": "markdown",
   "id": "aea78b89-40bc-4797-a813-93f3d88db638",
   "metadata": {
    "lines_to_next_cell": 2
   },
   "source": [
    "These results are used to avoid using LVs with high mean type I error in the null simulations."
   ]
  },
  {
   "cell_type": "code",
   "execution_count": 40,
   "id": "5f231d14-3d2f-47ad-8ab9-c655108b2d33",
   "metadata": {},
   "outputs": [],
   "source": [
    "lvs_typeIerr = pd.read_pickle(\n",
    "    conf.RESULTS[\"GLS_NULL_SIMS\"] / \"lvs-null_sims-1000g_eur-prop_type_I_errors.pkl\"\n",
    ").set_index(\"lv\")"
   ]
  },
  {
   "cell_type": "code",
   "execution_count": 41,
   "id": "cff2c1d6-7313-4ca2-a6e6-413a7e06a897",
   "metadata": {},
   "outputs": [
    {
     "data": {
      "text/plain": [
       "(987, 3)"
      ]
     },
     "execution_count": 41,
     "metadata": {},
     "output_type": "execute_result"
    }
   ],
   "source": [
    "lvs_typeIerr.shape"
   ]
  },
  {
   "cell_type": "code",
   "execution_count": 42,
   "id": "c497a101-c057-425b-82f6-7836c589a829",
   "metadata": {},
   "outputs": [
    {
     "data": {
      "text/html": [
       "<div>\n",
       "<style scoped>\n",
       "    .dataframe tbody tr th:only-of-type {\n",
       "        vertical-align: middle;\n",
       "    }\n",
       "\n",
       "    .dataframe tbody tr th {\n",
       "        vertical-align: top;\n",
       "    }\n",
       "\n",
       "    .dataframe thead th {\n",
       "        text-align: right;\n",
       "    }\n",
       "</style>\n",
       "<table border=\"1\" class=\"dataframe\">\n",
       "  <thead>\n",
       "    <tr style=\"text-align: right;\">\n",
       "      <th></th>\n",
       "      <th>1</th>\n",
       "      <th>5</th>\n",
       "      <th>10</th>\n",
       "    </tr>\n",
       "    <tr>\n",
       "      <th>lv</th>\n",
       "      <th></th>\n",
       "      <th></th>\n",
       "      <th></th>\n",
       "    </tr>\n",
       "  </thead>\n",
       "  <tbody>\n",
       "    <tr>\n",
       "      <th>LV1</th>\n",
       "      <td>0.005</td>\n",
       "      <td>0.023</td>\n",
       "      <td>0.061</td>\n",
       "    </tr>\n",
       "    <tr>\n",
       "      <th>LV10</th>\n",
       "      <td>0.013</td>\n",
       "      <td>0.035</td>\n",
       "      <td>0.069</td>\n",
       "    </tr>\n",
       "    <tr>\n",
       "      <th>LV100</th>\n",
       "      <td>0.013</td>\n",
       "      <td>0.052</td>\n",
       "      <td>0.084</td>\n",
       "    </tr>\n",
       "    <tr>\n",
       "      <th>LV101</th>\n",
       "      <td>0.011</td>\n",
       "      <td>0.040</td>\n",
       "      <td>0.090</td>\n",
       "    </tr>\n",
       "    <tr>\n",
       "      <th>LV102</th>\n",
       "      <td>0.013</td>\n",
       "      <td>0.058</td>\n",
       "      <td>0.083</td>\n",
       "    </tr>\n",
       "  </tbody>\n",
       "</table>\n",
       "</div>"
      ],
      "text/plain": [
       "           1      5     10\n",
       "lv                        \n",
       "LV1    0.005  0.023  0.061\n",
       "LV10   0.013  0.035  0.069\n",
       "LV100  0.013  0.052  0.084\n",
       "LV101  0.011  0.040  0.090\n",
       "LV102  0.013  0.058  0.083"
      ]
     },
     "execution_count": 42,
     "metadata": {},
     "output_type": "execute_result"
    }
   ],
   "source": [
    "lvs_typeIerr.head()"
   ]
  },
  {
   "cell_type": "code",
   "execution_count": 43,
   "id": "1f3da367-aa08-413c-aaf3-ec11ad4ca1b7",
   "metadata": {},
   "outputs": [],
   "source": [
    "lvs_flagged = set(lvs_typeIerr[lvs_typeIerr[\"5\"] > 0.07].index)"
   ]
  },
  {
   "cell_type": "code",
   "execution_count": 44,
   "id": "63c47518-6091-440f-8650-d07c55f0cc20",
   "metadata": {},
   "outputs": [
    {
     "data": {
      "text/plain": [
       "127"
      ]
     },
     "execution_count": 44,
     "metadata": {},
     "output_type": "execute_result"
    }
   ],
   "source": [
    "len(lvs_flagged)"
   ]
  },
  {
   "cell_type": "markdown",
   "id": "800a9f32-4eb5-4689-9a17-cf450a542757",
   "metadata": {
    "lines_to_next_cell": 2
   },
   "source": [
    "# Load trait associations"
   ]
  },
  {
   "cell_type": "markdown",
   "id": "f1a17c5f-e483-475d-902c-cd7570e88e8d",
   "metadata": {
    "lines_to_next_cell": 2
   },
   "source": [
    "Load trait associations for PhenomeXcan and eMERGE and show some statistics."
   ]
  },
  {
   "cell_type": "markdown",
   "id": "developmental-kingston",
   "metadata": {},
   "source": [
    "## PhenomeXcan"
   ]
  },
  {
   "cell_type": "code",
   "execution_count": 45,
   "id": "c73dcc48-5baf-4271-9dc7-399d3dc6510d",
   "metadata": {},
   "outputs": [],
   "source": [
    "data_signif = phenomexcan_lv_trait_assocs[\n",
    "    (~phenomexcan_lv_trait_assocs[\"lv\"].isin(lvs_flagged))\n",
    "    & (phenomexcan_lv_trait_assocs[\"fdr\"] < 0.05)\n",
    "]"
   ]
  },
  {
   "cell_type": "code",
   "execution_count": 46,
   "id": "62f19341-5cc6-4065-a833-d9f1900b3bff",
   "metadata": {},
   "outputs": [
    {
     "data": {
      "text/plain": [
       "(3450, 5)"
      ]
     },
     "execution_count": 46,
     "metadata": {},
     "output_type": "execute_result"
    }
   ],
   "source": [
    "data_signif.shape"
   ]
  },
  {
   "cell_type": "code",
   "execution_count": 47,
   "id": "3bca8582-2716-4a8d-b831-a6878a0c8188",
   "metadata": {},
   "outputs": [
    {
     "data": {
      "text/plain": [
       "['1747_4', '22617_1136', 'E83', '6138_100', 'Z00', ..., 'BCAC_Overall_BreastCancer_EUR', 'GEFOS_Forearm', 'GIANT_HEIGHT', 'IBD.EUR.Ulcerative_Colitis', 'MAGNETIC_IDL.TG']\n",
       "Length: 1176\n",
       "Categories (1176, object): ['1747_4', '22617_1136', 'E83', '6138_100', ..., 'GEFOS_Forearm', 'GIANT_HEIGHT', 'IBD.EUR.Ulcerative_Colitis', 'MAGNETIC_IDL.TG']"
      ]
     },
     "execution_count": 47,
     "metadata": {},
     "output_type": "execute_result"
    }
   ],
   "source": [
    "data_signif[\"phenotype\"].unique()"
   ]
  },
  {
   "cell_type": "code",
   "execution_count": 48,
   "id": "1cefdb45-2798-43a2-be18-7d41d7b6fd21",
   "metadata": {},
   "outputs": [
    {
     "data": {
      "text/plain": [
       "['LV620', 'LV194', 'LV187', 'LV209', 'LV981', ..., 'LV387', 'LV93', 'LV808', 'LV181', 'LV484']\n",
       "Length: 686\n",
       "Categories (686, object): ['LV620', 'LV194', 'LV187', 'LV209', ..., 'LV93', 'LV808', 'LV181', 'LV484']"
      ]
     },
     "execution_count": 48,
     "metadata": {},
     "output_type": "execute_result"
    }
   ],
   "source": [
    "data_signif[\"lv\"].unique()"
   ]
  },
  {
   "cell_type": "markdown",
   "id": "e5bf17f5-3992-4e4b-9313-a37ffe430ab6",
   "metadata": {},
   "source": [
    "## eMERGE"
   ]
  },
  {
   "cell_type": "code",
   "execution_count": 49,
   "id": "4d4dfb1a-77e7-4870-a101-90a32f81e6ce",
   "metadata": {},
   "outputs": [],
   "source": [
    "data_emerge_signif = emerge_lv_trait_assocs[\n",
    "    (~emerge_lv_trait_assocs[\"lv\"].isin(lvs_flagged))\n",
    "    & (emerge_lv_trait_assocs[\"fdr\"] < 0.05)\n",
    "]"
   ]
  },
  {
   "cell_type": "code",
   "execution_count": 50,
   "id": "5b577c78-b664-453e-a71d-d20c95c02462",
   "metadata": {},
   "outputs": [
    {
     "data": {
      "text/plain": [
       "(196, 5)"
      ]
     },
     "execution_count": 50,
     "metadata": {},
     "output_type": "execute_result"
    }
   ],
   "source": [
    "data_emerge_signif.shape"
   ]
  },
  {
   "cell_type": "code",
   "execution_count": 51,
   "id": "a7b9287b-c6cc-4e25-a869-3f6f8f5668af",
   "metadata": {},
   "outputs": [
    {
     "data": {
      "text/plain": [
       "['EUR_440.2', 'EUR_250.24', 'EUR_411', 'EUR_362', 'EUR_286', ..., 'EUR_433.3', 'EUR_443.9', 'EUR_244', 'EUR_287', 'EUR_008.52']\n",
       "Length: 81\n",
       "Categories (81, object): ['EUR_440.2', 'EUR_250.24', 'EUR_411', 'EUR_362', ..., 'EUR_443.9', 'EUR_244', 'EUR_287', 'EUR_008.52']"
      ]
     },
     "execution_count": 51,
     "metadata": {},
     "output_type": "execute_result"
    }
   ],
   "source": [
    "data_emerge_signif[\"phenotype\"].unique()"
   ]
  },
  {
   "cell_type": "code",
   "execution_count": 52,
   "id": "255d8d3f-013f-4dcc-b3b4-5dac6f63afba",
   "metadata": {},
   "outputs": [
    {
     "data": {
      "text/plain": [
       "['LV472', 'LV182', 'LV348', 'LV504', 'LV445', ..., 'LV304', 'LV842', 'LV161', 'LV533', 'LV498']\n",
       "Length: 116\n",
       "Categories (116, object): ['LV472', 'LV182', 'LV348', 'LV504', ..., 'LV842', 'LV161', 'LV533', 'LV498']"
      ]
     },
     "execution_count": 52,
     "metadata": {},
     "output_type": "execute_result"
    }
   ],
   "source": [
    "data_emerge_signif[\"lv\"].unique()"
   ]
  },
  {
   "cell_type": "markdown",
   "id": "e5c19ab4-1b12-41b0-b7cb-987fc624de8a",
   "metadata": {},
   "source": [
    "# Autoimmune clusters"
   ]
  },
  {
   "cell_type": "markdown",
   "id": "047a2350-da1f-4640-9891-8c1b3dea1036",
   "metadata": {},
   "source": [
    "Analyze autoimmune clusters in PhenomeXcan and significant LV-trait associations here.\n",
    "Then take a look if they replicated in eMERGE."
   ]
  },
  {
   "cell_type": "markdown",
   "id": "7abf741f-5db5-4f53-ad0a-cd0298c696d0",
   "metadata": {},
   "source": [
    "## PhenomeXcan"
   ]
  },
  {
   "cell_type": "code",
   "execution_count": 49,
   "id": "93381bf7-8077-4dfb-813e-6240f0aa6d52",
   "metadata": {},
   "outputs": [],
   "source": [
    "cluster13_lvs = pd.read_pickle(\n",
    "    CLUSTERING_LVS_DIR / \"cluster_interpreter-part29_k13.pkl\"\n",
    ")[\"name\"]"
   ]
  },
  {
   "cell_type": "code",
   "execution_count": 50,
   "id": "166e8983-8c69-485a-84be-6ce4d2450663",
   "metadata": {},
   "outputs": [
    {
     "data": {
      "text/plain": [
       "(20,)"
      ]
     },
     "execution_count": 50,
     "metadata": {},
     "output_type": "execute_result"
    }
   ],
   "source": [
    "cluster13_lvs.shape"
   ]
  },
  {
   "cell_type": "code",
   "execution_count": 51,
   "id": "8776152d-2314-45c6-86be-e25d97d2e4b0",
   "metadata": {},
   "outputs": [
    {
     "data": {
      "text/plain": [
       "idx\n",
       "57      LV57\n",
       "987    LV987\n",
       "54      LV54\n",
       "942    LV942\n",
       "844    LV844\n",
       "948    LV948\n",
       "155    LV155\n",
       "983    LV983\n",
       "864    LV864\n",
       "984    LV984\n",
       "271    LV271\n",
       "502    LV502\n",
       "453    LV453\n",
       "610    LV610\n",
       "605    LV605\n",
       "913    LV913\n",
       "568    LV568\n",
       "342    LV342\n",
       "425    LV425\n",
       "11      LV11\n",
       "Name: name, dtype: object"
      ]
     },
     "execution_count": 51,
     "metadata": {},
     "output_type": "execute_result"
    }
   ],
   "source": [
    "cluster13_lvs"
   ]
  },
  {
   "cell_type": "code",
   "execution_count": 52,
   "id": "2b76dbfc-0719-46df-b377-c730da3b21f4",
   "metadata": {},
   "outputs": [],
   "source": [
    "cluster26_lvs = pd.read_pickle(\n",
    "    CLUSTERING_LVS_DIR / \"cluster_interpreter-part29_k26.pkl\"\n",
    ")[\"name\"]"
   ]
  },
  {
   "cell_type": "code",
   "execution_count": 53,
   "id": "6f52c97f-c425-4460-8246-c0b3e27a26e9",
   "metadata": {},
   "outputs": [],
   "source": [
    "cluster8_lvs = pd.read_pickle(CLUSTERING_LVS_DIR / \"cluster_interpreter-part29_k8.pkl\")[\n",
    "    \"name\"\n",
    "]"
   ]
  },
  {
   "cell_type": "code",
   "execution_count": 54,
   "id": "908ba04f-9e39-49e7-9d1e-a983fb5356d4",
   "metadata": {},
   "outputs": [],
   "source": [
    "all_clusters_lvs = set(cluster13_lvs) | set(cluster26_lvs) | set(cluster8_lvs)"
   ]
  },
  {
   "cell_type": "code",
   "execution_count": 55,
   "id": "a92e2c52-b392-4b13-a1f4-a7632eb65a7e",
   "metadata": {},
   "outputs": [
    {
     "data": {
      "text/plain": [
       "42"
      ]
     },
     "execution_count": 55,
     "metadata": {},
     "output_type": "execute_result"
    }
   ],
   "source": [
    "len(all_clusters_lvs)"
   ]
  },
  {
   "cell_type": "code",
   "execution_count": 56,
   "id": "05d11b6f-5933-46ac-9c36-46ad46fd1d5d",
   "metadata": {},
   "outputs": [],
   "source": [
    "cluster13_traits = get_cluster_traits(13)\n",
    "cluster26_traits = get_cluster_traits(26)\n",
    "cluster8_traits = get_cluster_traits(8)"
   ]
  },
  {
   "cell_type": "code",
   "execution_count": 57,
   "id": "dfbd7a25-6aec-4cbe-879b-481d317a84b2",
   "metadata": {},
   "outputs": [],
   "source": [
    "all_clusters_traits = (\n",
    "    set(cluster13_traits) | set(cluster26_traits) | set(cluster8_traits)\n",
    ")"
   ]
  },
  {
   "cell_type": "code",
   "execution_count": 58,
   "id": "e3317824-2ea3-4940-b898-b0a2a89ffad8",
   "metadata": {},
   "outputs": [
    {
     "data": {
      "text/plain": [
       "15"
      ]
     },
     "execution_count": 58,
     "metadata": {},
     "output_type": "execute_result"
    }
   ],
   "source": [
    "len(all_clusters_traits)"
   ]
  },
  {
   "cell_type": "code",
   "execution_count": 59,
   "id": "8304d72e-f008-41e4-9834-0795677b9111",
   "metadata": {},
   "outputs": [],
   "source": [
    "groups_signif = data_signif[\n",
    "    data_signif[\"lv\"].isin(all_clusters_lvs)\n",
    "    & data_signif[\"phenotype\"].isin(all_clusters_traits)\n",
    "].sort_values(\"fdr\")"
   ]
  },
  {
   "cell_type": "code",
   "execution_count": 60,
   "id": "7b7efb76-fc0a-4f44-9193-10de1aa8c5f6",
   "metadata": {},
   "outputs": [
    {
     "data": {
      "text/plain": [
       "(32, 5)"
      ]
     },
     "execution_count": 60,
     "metadata": {},
     "output_type": "execute_result"
    }
   ],
   "source": [
    "groups_signif.shape"
   ]
  },
  {
   "cell_type": "code",
   "execution_count": 61,
   "id": "0621f7e2-9d34-4ee8-bf49-d8e30443d50b",
   "metadata": {},
   "outputs": [
    {
     "data": {
      "text/plain": [
       "['LV57', 'LV844', 'LV52', 'LV45', 'LV342', 'LV984', 'LV942']\n",
       "Categories (7, object): ['LV57', 'LV844', 'LV52', 'LV45', 'LV342', 'LV984', 'LV942']"
      ]
     },
     "execution_count": 61,
     "metadata": {},
     "output_type": "execute_result"
    }
   ],
   "source": [
    "groups_signif[\"lv\"].unique()"
   ]
  },
  {
   "cell_type": "code",
   "execution_count": 62,
   "id": "e9ba5f32-ef5c-4d32-a230-2bcdd801bdef",
   "metadata": {},
   "outputs": [
    {
     "data": {
      "text/plain": [
       "['20002_1226', '20003_1141191044', '2976_raw', '2986', '20002_1381', ..., 'K90', 'K11_COELIAC', '20002_1225', '6144_3', '20002_1456']\n",
       "Length: 14\n",
       "Categories (14, object): ['20002_1226', '20003_1141191044', '2976_raw', '2986', ..., 'K11_COELIAC', '20002_1225', '6144_3', '20002_1456']"
      ]
     },
     "execution_count": 62,
     "metadata": {},
     "output_type": "execute_result"
    }
   ],
   "source": [
    "groups_signif[\"phenotype\"].unique()"
   ]
  },
  {
   "cell_type": "markdown",
   "id": "7262af46-d085-42a2-902a-72448fd1b974",
   "metadata": {},
   "source": [
    "## eMERGE"
   ]
  },
  {
   "cell_type": "code",
   "execution_count": 63,
   "id": "57959247-cb5a-41ac-9989-ba4c622b4b0b",
   "metadata": {},
   "outputs": [],
   "source": [
    "groups_emerge_signif = data_emerge_signif[\n",
    "    data_emerge_signif[\"lv\"].isin(all_clusters_lvs)\n",
    "].sort_values(\"fdr\")"
   ]
  },
  {
   "cell_type": "code",
   "execution_count": 64,
   "id": "b2349960-ac10-47d4-a8bf-256f0adac744",
   "metadata": {},
   "outputs": [
    {
     "data": {
      "text/plain": [
       "(11, 5)"
      ]
     },
     "execution_count": 64,
     "metadata": {},
     "output_type": "execute_result"
    }
   ],
   "source": [
    "groups_emerge_signif.shape"
   ]
  },
  {
   "cell_type": "code",
   "execution_count": 65,
   "id": "6dd57f58-4735-4f18-a1ec-545d23917a46",
   "metadata": {},
   "outputs": [
    {
     "data": {
      "text/plain": [
       "['LV57', 'LV504', 'LV942', 'LV342', 'LV54']\n",
       "Categories (5, object): ['LV57', 'LV504', 'LV942', 'LV342', 'LV54']"
      ]
     },
     "execution_count": 65,
     "metadata": {},
     "output_type": "execute_result"
    }
   ],
   "source": [
    "groups_emerge_signif[\"lv\"].unique()"
   ]
  },
  {
   "cell_type": "markdown",
   "id": "609e87bc-88bb-4082-90fb-c2fbc60f0a11",
   "metadata": {},
   "source": [
    "## Compare"
   ]
  },
  {
   "cell_type": "code",
   "execution_count": 68,
   "id": "3ac030f1-f896-4c0f-aa69-d2c03eb096dd",
   "metadata": {},
   "outputs": [
    {
     "data": {
      "text/plain": [
       "{'LV342', 'LV57', 'LV942'}"
      ]
     },
     "execution_count": 68,
     "metadata": {},
     "output_type": "execute_result"
    }
   ],
   "source": [
    "# LVs shared\n",
    "set(groups_signif[\"lv\"].unique()).intersection(set(groups_emerge_signif[\"lv\"].unique()))"
   ]
  },
  {
   "cell_type": "code",
   "execution_count": 66,
   "id": "2dcc9d4d-2797-496f-ab88-ae4cd914baf5",
   "metadata": {},
   "outputs": [
    {
     "data": {
      "text/plain": [
       "(32, 5)"
      ]
     },
     "metadata": {},
     "output_type": "display_data"
    },
    {
     "data": {
      "text/html": [
       "<div>\n",
       "<style scoped>\n",
       "    .dataframe tbody tr th:only-of-type {\n",
       "        vertical-align: middle;\n",
       "    }\n",
       "\n",
       "    .dataframe tbody tr th {\n",
       "        vertical-align: top;\n",
       "    }\n",
       "\n",
       "    .dataframe thead th {\n",
       "        text-align: right;\n",
       "    }\n",
       "</style>\n",
       "<table border=\"1\" class=\"dataframe\">\n",
       "  <thead>\n",
       "    <tr style=\"text-align: right;\">\n",
       "      <th></th>\n",
       "      <th>phenotype</th>\n",
       "      <th>phenotype_desc</th>\n",
       "      <th>lv</th>\n",
       "      <th>pvalue</th>\n",
       "      <th>fdr</th>\n",
       "    </tr>\n",
       "  </thead>\n",
       "  <tbody>\n",
       "    <tr>\n",
       "      <th>248724</th>\n",
       "      <td>20002_1226</td>\n",
       "      <td>Non-cancer illness code, self-reported: hypothyroidism/myxoedema</td>\n",
       "      <td>LV57</td>\n",
       "      <td>7.382515e-09</td>\n",
       "      <td>0.000038</td>\n",
       "    </tr>\n",
       "    <tr>\n",
       "      <th>595161</th>\n",
       "      <td>20003_1141191044</td>\n",
       "      <td>Treatment/medication code: levothyroxine sodium (20003_1141191044)</td>\n",
       "      <td>LV57</td>\n",
       "      <td>1.792978e-08</td>\n",
       "      <td>0.000084</td>\n",
       "    </tr>\n",
       "    <tr>\n",
       "      <th>3065622</th>\n",
       "      <td>2976_raw</td>\n",
       "      <td>Age diabetes diagnosed</td>\n",
       "      <td>LV844</td>\n",
       "      <td>1.017499e-07</td>\n",
       "      <td>0.000386</td>\n",
       "    </tr>\n",
       "    <tr>\n",
       "      <th>2131920</th>\n",
       "      <td>2986</td>\n",
       "      <td>Started insulin within one year diagnosis of diabetes</td>\n",
       "      <td>LV844</td>\n",
       "      <td>4.376232e-07</td>\n",
       "      <td>0.001299</td>\n",
       "    </tr>\n",
       "    <tr>\n",
       "      <th>762951</th>\n",
       "      <td>20002_1381</td>\n",
       "      <td>Non-cancer illness code, self-reported: systemic lupus erythematosis/sle</td>\n",
       "      <td>LV52</td>\n",
       "      <td>4.646106e-07</td>\n",
       "      <td>0.001365</td>\n",
       "    </tr>\n",
       "    <tr>\n",
       "      <th>1134063</th>\n",
       "      <td>20002_1453</td>\n",
       "      <td>Non-cancer illness code, self-reported: psoriasis</td>\n",
       "      <td>LV52</td>\n",
       "      <td>9.819095e-07</td>\n",
       "      <td>0.002535</td>\n",
       "    </tr>\n",
       "    <tr>\n",
       "      <th>1454838</th>\n",
       "      <td>6153_3</td>\n",
       "      <td>Medication for cholesterol, blood pressure, diabetes, or take exogenous hormones: Insulin</td>\n",
       "      <td>LV45</td>\n",
       "      <td>1.064441e-06</td>\n",
       "      <td>0.002719</td>\n",
       "    </tr>\n",
       "    <tr>\n",
       "      <th>3472267</th>\n",
       "      <td>6177_3</td>\n",
       "      <td>Medication for cholesterol, blood pressure or diabetes: Insulin</td>\n",
       "      <td>LV844</td>\n",
       "      <td>1.514810e-06</td>\n",
       "      <td>0.003615</td>\n",
       "    </tr>\n",
       "    <tr>\n",
       "      <th>1046221</th>\n",
       "      <td>20003_1140883066</td>\n",
       "      <td>Treatment/medication code: insulin product (20003_1140883066)</td>\n",
       "      <td>LV844</td>\n",
       "      <td>2.556388e-06</td>\n",
       "      <td>0.005476</td>\n",
       "    </tr>\n",
       "    <tr>\n",
       "      <th>3472268</th>\n",
       "      <td>6177_3</td>\n",
       "      <td>Medication for cholesterol, blood pressure or diabetes: Insulin</td>\n",
       "      <td>LV342</td>\n",
       "      <td>3.160330e-06</td>\n",
       "      <td>0.006487</td>\n",
       "    </tr>\n",
       "    <tr>\n",
       "      <th>1454839</th>\n",
       "      <td>6153_3</td>\n",
       "      <td>Medication for cholesterol, blood pressure, diabetes, or take exogenous hormones: Insulin</td>\n",
       "      <td>LV844</td>\n",
       "      <td>4.085580e-06</td>\n",
       "      <td>0.007935</td>\n",
       "    </tr>\n",
       "    <tr>\n",
       "      <th>1134064</th>\n",
       "      <td>20002_1453</td>\n",
       "      <td>Non-cancer illness code, self-reported: psoriasis</td>\n",
       "      <td>LV984</td>\n",
       "      <td>4.166155e-06</td>\n",
       "      <td>0.008053</td>\n",
       "    </tr>\n",
       "    <tr>\n",
       "      <th>3220581</th>\n",
       "      <td>K90</td>\n",
       "      <td>Diagnoses - main ICD10: K90 Intestinal malabsorption</td>\n",
       "      <td>LV52</td>\n",
       "      <td>4.162848e-06</td>\n",
       "      <td>0.008053</td>\n",
       "    </tr>\n",
       "    <tr>\n",
       "      <th>1379826</th>\n",
       "      <td>K11_COELIAC</td>\n",
       "      <td>Coeliac disease</td>\n",
       "      <td>LV52</td>\n",
       "      <td>4.875835e-06</td>\n",
       "      <td>0.009077</td>\n",
       "    </tr>\n",
       "    <tr>\n",
       "      <th>1366995</th>\n",
       "      <td>20002_1225</td>\n",
       "      <td>Non-cancer illness code, self-reported: hyperthyroidism/thyrotoxicosis</td>\n",
       "      <td>LV52</td>\n",
       "      <td>5.106963e-06</td>\n",
       "      <td>0.009425</td>\n",
       "    </tr>\n",
       "    <tr>\n",
       "      <th>1046222</th>\n",
       "      <td>20003_1140883066</td>\n",
       "      <td>Treatment/medication code: insulin product (20003_1140883066)</td>\n",
       "      <td>LV45</td>\n",
       "      <td>5.684811e-06</td>\n",
       "      <td>0.010255</td>\n",
       "    </tr>\n",
       "    <tr>\n",
       "      <th>595162</th>\n",
       "      <td>20003_1141191044</td>\n",
       "      <td>Treatment/medication code: levothyroxine sodium (20003_1141191044)</td>\n",
       "      <td>LV942</td>\n",
       "      <td>8.164469e-06</td>\n",
       "      <td>0.013572</td>\n",
       "    </tr>\n",
       "    <tr>\n",
       "      <th>762952</th>\n",
       "      <td>20002_1381</td>\n",
       "      <td>Non-cancer illness code, self-reported: systemic lupus erythematosis/sle</td>\n",
       "      <td>LV45</td>\n",
       "      <td>1.028680e-05</td>\n",
       "      <td>0.016156</td>\n",
       "    </tr>\n",
       "    <tr>\n",
       "      <th>3220582</th>\n",
       "      <td>K90</td>\n",
       "      <td>Diagnoses - main ICD10: K90 Intestinal malabsorption</td>\n",
       "      <td>LV45</td>\n",
       "      <td>1.062607e-05</td>\n",
       "      <td>0.016515</td>\n",
       "    </tr>\n",
       "    <tr>\n",
       "      <th>248725</th>\n",
       "      <td>20002_1226</td>\n",
       "      <td>Non-cancer illness code, self-reported: hypothyroidism/myxoedema</td>\n",
       "      <td>LV942</td>\n",
       "      <td>1.106055e-05</td>\n",
       "      <td>0.017046</td>\n",
       "    </tr>\n",
       "    <tr>\n",
       "      <th>2993571</th>\n",
       "      <td>6144_3</td>\n",
       "      <td>Never eat eggs, dairy, wheat, sugar: Wheat products</td>\n",
       "      <td>LV45</td>\n",
       "      <td>1.258125e-05</td>\n",
       "      <td>0.018794</td>\n",
       "    </tr>\n",
       "    <tr>\n",
       "      <th>2993572</th>\n",
       "      <td>6144_3</td>\n",
       "      <td>Never eat eggs, dairy, wheat, sugar: Wheat products</td>\n",
       "      <td>LV52</td>\n",
       "      <td>1.336629e-05</td>\n",
       "      <td>0.019645</td>\n",
       "    </tr>\n",
       "    <tr>\n",
       "      <th>3472269</th>\n",
       "      <td>6177_3</td>\n",
       "      <td>Medication for cholesterol, blood pressure or diabetes: Insulin</td>\n",
       "      <td>LV45</td>\n",
       "      <td>1.352625e-05</td>\n",
       "      <td>0.019789</td>\n",
       "    </tr>\n",
       "    <tr>\n",
       "      <th>1046223</th>\n",
       "      <td>20003_1140883066</td>\n",
       "      <td>Treatment/medication code: insulin product (20003_1140883066)</td>\n",
       "      <td>LV342</td>\n",
       "      <td>1.809011e-05</td>\n",
       "      <td>0.024495</td>\n",
       "    </tr>\n",
       "    <tr>\n",
       "      <th>1366997</th>\n",
       "      <td>20002_1225</td>\n",
       "      <td>Non-cancer illness code, self-reported: hyperthyroidism/thyrotoxicosis</td>\n",
       "      <td>LV45</td>\n",
       "      <td>1.930638e-05</td>\n",
       "      <td>0.025669</td>\n",
       "    </tr>\n",
       "    <tr>\n",
       "      <th>1379827</th>\n",
       "      <td>K11_COELIAC</td>\n",
       "      <td>Coeliac disease</td>\n",
       "      <td>LV45</td>\n",
       "      <td>2.028447e-05</td>\n",
       "      <td>0.026532</td>\n",
       "    </tr>\n",
       "    <tr>\n",
       "      <th>1454841</th>\n",
       "      <td>6153_3</td>\n",
       "      <td>Medication for cholesterol, blood pressure, diabetes, or take exogenous hormones: Insulin</td>\n",
       "      <td>LV342</td>\n",
       "      <td>2.187863e-05</td>\n",
       "      <td>0.028072</td>\n",
       "    </tr>\n",
       "    <tr>\n",
       "      <th>3324216</th>\n",
       "      <td>20002_1456</td>\n",
       "      <td>Non-cancer illness code, self-reported: malabsorption/coeliac disease</td>\n",
       "      <td>LV844</td>\n",
       "      <td>2.522381e-05</td>\n",
       "      <td>0.031179</td>\n",
       "    </tr>\n",
       "    <tr>\n",
       "      <th>2131923</th>\n",
       "      <td>2986</td>\n",
       "      <td>Started insulin within one year diagnosis of diabetes</td>\n",
       "      <td>LV984</td>\n",
       "      <td>3.140624e-05</td>\n",
       "      <td>0.036530</td>\n",
       "    </tr>\n",
       "    <tr>\n",
       "      <th>2131924</th>\n",
       "      <td>2986</td>\n",
       "      <td>Started insulin within one year diagnosis of diabetes</td>\n",
       "      <td>LV45</td>\n",
       "      <td>3.247836e-05</td>\n",
       "      <td>0.037458</td>\n",
       "    </tr>\n",
       "    <tr>\n",
       "      <th>3324217</th>\n",
       "      <td>20002_1456</td>\n",
       "      <td>Non-cancer illness code, self-reported: malabsorption/coeliac disease</td>\n",
       "      <td>LV45</td>\n",
       "      <td>3.785955e-05</td>\n",
       "      <td>0.041745</td>\n",
       "    </tr>\n",
       "    <tr>\n",
       "      <th>3065624</th>\n",
       "      <td>2976_raw</td>\n",
       "      <td>Age diabetes diagnosed</td>\n",
       "      <td>LV984</td>\n",
       "      <td>3.959706e-05</td>\n",
       "      <td>0.043049</td>\n",
       "    </tr>\n",
       "  </tbody>\n",
       "</table>\n",
       "</div>"
      ],
      "text/plain": [
       "                phenotype  \\\n",
       "248724         20002_1226   \n",
       "595161   20003_1141191044   \n",
       "3065622          2976_raw   \n",
       "2131920              2986   \n",
       "762951         20002_1381   \n",
       "1134063        20002_1453   \n",
       "1454838            6153_3   \n",
       "3472267            6177_3   \n",
       "1046221  20003_1140883066   \n",
       "3472268            6177_3   \n",
       "1454839            6153_3   \n",
       "1134064        20002_1453   \n",
       "3220581               K90   \n",
       "1379826       K11_COELIAC   \n",
       "1366995        20002_1225   \n",
       "1046222  20003_1140883066   \n",
       "595162   20003_1141191044   \n",
       "762952         20002_1381   \n",
       "3220582               K90   \n",
       "248725         20002_1226   \n",
       "2993571            6144_3   \n",
       "2993572            6144_3   \n",
       "3472269            6177_3   \n",
       "1046223  20003_1140883066   \n",
       "1366997        20002_1225   \n",
       "1379827       K11_COELIAC   \n",
       "1454841            6153_3   \n",
       "3324216        20002_1456   \n",
       "2131923              2986   \n",
       "2131924              2986   \n",
       "3324217        20002_1456   \n",
       "3065624          2976_raw   \n",
       "\n",
       "                                                                                    phenotype_desc  \\\n",
       "248724                            Non-cancer illness code, self-reported: hypothyroidism/myxoedema   \n",
       "595161                          Treatment/medication code: levothyroxine sodium (20003_1141191044)   \n",
       "3065622                                                                     Age diabetes diagnosed   \n",
       "2131920                                      Started insulin within one year diagnosis of diabetes   \n",
       "762951                    Non-cancer illness code, self-reported: systemic lupus erythematosis/sle   \n",
       "1134063                                          Non-cancer illness code, self-reported: psoriasis   \n",
       "1454838  Medication for cholesterol, blood pressure, diabetes, or take exogenous hormones: Insulin   \n",
       "3472267                            Medication for cholesterol, blood pressure or diabetes: Insulin   \n",
       "1046221                              Treatment/medication code: insulin product (20003_1140883066)   \n",
       "3472268                            Medication for cholesterol, blood pressure or diabetes: Insulin   \n",
       "1454839  Medication for cholesterol, blood pressure, diabetes, or take exogenous hormones: Insulin   \n",
       "1134064                                          Non-cancer illness code, self-reported: psoriasis   \n",
       "3220581                                       Diagnoses - main ICD10: K90 Intestinal malabsorption   \n",
       "1379826                                                                            Coeliac disease   \n",
       "1366995                     Non-cancer illness code, self-reported: hyperthyroidism/thyrotoxicosis   \n",
       "1046222                              Treatment/medication code: insulin product (20003_1140883066)   \n",
       "595162                          Treatment/medication code: levothyroxine sodium (20003_1141191044)   \n",
       "762952                    Non-cancer illness code, self-reported: systemic lupus erythematosis/sle   \n",
       "3220582                                       Diagnoses - main ICD10: K90 Intestinal malabsorption   \n",
       "248725                            Non-cancer illness code, self-reported: hypothyroidism/myxoedema   \n",
       "2993571                                        Never eat eggs, dairy, wheat, sugar: Wheat products   \n",
       "2993572                                        Never eat eggs, dairy, wheat, sugar: Wheat products   \n",
       "3472269                            Medication for cholesterol, blood pressure or diabetes: Insulin   \n",
       "1046223                              Treatment/medication code: insulin product (20003_1140883066)   \n",
       "1366997                     Non-cancer illness code, self-reported: hyperthyroidism/thyrotoxicosis   \n",
       "1379827                                                                            Coeliac disease   \n",
       "1454841  Medication for cholesterol, blood pressure, diabetes, or take exogenous hormones: Insulin   \n",
       "3324216                      Non-cancer illness code, self-reported: malabsorption/coeliac disease   \n",
       "2131923                                      Started insulin within one year diagnosis of diabetes   \n",
       "2131924                                      Started insulin within one year diagnosis of diabetes   \n",
       "3324217                      Non-cancer illness code, self-reported: malabsorption/coeliac disease   \n",
       "3065624                                                                     Age diabetes diagnosed   \n",
       "\n",
       "            lv        pvalue       fdr  \n",
       "248724    LV57  7.382515e-09  0.000038  \n",
       "595161    LV57  1.792978e-08  0.000084  \n",
       "3065622  LV844  1.017499e-07  0.000386  \n",
       "2131920  LV844  4.376232e-07  0.001299  \n",
       "762951    LV52  4.646106e-07  0.001365  \n",
       "1134063   LV52  9.819095e-07  0.002535  \n",
       "1454838   LV45  1.064441e-06  0.002719  \n",
       "3472267  LV844  1.514810e-06  0.003615  \n",
       "1046221  LV844  2.556388e-06  0.005476  \n",
       "3472268  LV342  3.160330e-06  0.006487  \n",
       "1454839  LV844  4.085580e-06  0.007935  \n",
       "1134064  LV984  4.166155e-06  0.008053  \n",
       "3220581   LV52  4.162848e-06  0.008053  \n",
       "1379826   LV52  4.875835e-06  0.009077  \n",
       "1366995   LV52  5.106963e-06  0.009425  \n",
       "1046222   LV45  5.684811e-06  0.010255  \n",
       "595162   LV942  8.164469e-06  0.013572  \n",
       "762952    LV45  1.028680e-05  0.016156  \n",
       "3220582   LV45  1.062607e-05  0.016515  \n",
       "248725   LV942  1.106055e-05  0.017046  \n",
       "2993571   LV45  1.258125e-05  0.018794  \n",
       "2993572   LV52  1.336629e-05  0.019645  \n",
       "3472269   LV45  1.352625e-05  0.019789  \n",
       "1046223  LV342  1.809011e-05  0.024495  \n",
       "1366997   LV45  1.930638e-05  0.025669  \n",
       "1379827   LV45  2.028447e-05  0.026532  \n",
       "1454841  LV342  2.187863e-05  0.028072  \n",
       "3324216  LV844  2.522381e-05  0.031179  \n",
       "2131923  LV984  3.140624e-05  0.036530  \n",
       "2131924   LV45  3.247836e-05  0.037458  \n",
       "3324217   LV45  3.785955e-05  0.041745  \n",
       "3065624  LV984  3.959706e-05  0.043049  "
      ]
     },
     "metadata": {},
     "output_type": "display_data"
    }
   ],
   "source": [
    "with pd.option_context(\n",
    "    \"display.max_rows\", None, \"display.max_columns\", None, \"display.max_colwidth\", None\n",
    "):\n",
    "    display(groups_signif.shape)\n",
    "    display(groups_signif)"
   ]
  },
  {
   "cell_type": "code",
   "execution_count": 67,
   "id": "68253d8f-3231-4709-ace0-f1e9b24abb4b",
   "metadata": {},
   "outputs": [
    {
     "data": {
      "text/plain": [
       "(11, 5)"
      ]
     },
     "metadata": {},
     "output_type": "display_data"
    },
    {
     "data": {
      "text/html": [
       "<div>\n",
       "<style scoped>\n",
       "    .dataframe tbody tr th:only-of-type {\n",
       "        vertical-align: middle;\n",
       "    }\n",
       "\n",
       "    .dataframe tbody tr th {\n",
       "        vertical-align: top;\n",
       "    }\n",
       "\n",
       "    .dataframe thead th {\n",
       "        text-align: right;\n",
       "    }\n",
       "</style>\n",
       "<table border=\"1\" class=\"dataframe\">\n",
       "  <thead>\n",
       "    <tr style=\"text-align: right;\">\n",
       "      <th></th>\n",
       "      <th>phenotype</th>\n",
       "      <th>phenotype_desc</th>\n",
       "      <th>lv</th>\n",
       "      <th>pvalue</th>\n",
       "      <th>fdr</th>\n",
       "    </tr>\n",
       "  </thead>\n",
       "  <tbody>\n",
       "    <tr>\n",
       "      <th>10859</th>\n",
       "      <td>EUR_286</td>\n",
       "      <td>Coagulation defects</td>\n",
       "      <td>LV57</td>\n",
       "      <td>1.303465e-16</td>\n",
       "      <td>1.325116e-11</td>\n",
       "    </tr>\n",
       "    <tr>\n",
       "      <th>18753</th>\n",
       "      <td>EUR_440.22</td>\n",
       "      <td>Atherosclerosis of native arteries of the extremities with intermittent claudication</td>\n",
       "      <td>LV504</td>\n",
       "      <td>1.369999e-10</td>\n",
       "      <td>2.611414e-06</td>\n",
       "    </tr>\n",
       "    <tr>\n",
       "      <th>175687</th>\n",
       "      <td>EUR_452</td>\n",
       "      <td>Other venous embolism and thrombosis</td>\n",
       "      <td>LV57</td>\n",
       "      <td>1.097275e-09</td>\n",
       "      <td>1.521138e-05</td>\n",
       "    </tr>\n",
       "    <tr>\n",
       "      <th>61195</th>\n",
       "      <td>EUR_452.2</td>\n",
       "      <td>Deep vein thrombosis [DVT]</td>\n",
       "      <td>LV57</td>\n",
       "      <td>4.246591e-09</td>\n",
       "      <td>4.465993e-05</td>\n",
       "    </tr>\n",
       "    <tr>\n",
       "      <th>115479</th>\n",
       "      <td>EUR_702</td>\n",
       "      <td>Degenerative skin conditions and other dermatoses</td>\n",
       "      <td>LV942</td>\n",
       "      <td>3.171349e-07</td>\n",
       "      <td>1.381725e-03</td>\n",
       "    </tr>\n",
       "    <tr>\n",
       "      <th>83906</th>\n",
       "      <td>EUR_250.2</td>\n",
       "      <td>Type 2 diabetes</td>\n",
       "      <td>LV342</td>\n",
       "      <td>3.357968e-07</td>\n",
       "      <td>1.416795e-03</td>\n",
       "    </tr>\n",
       "    <tr>\n",
       "      <th>118448</th>\n",
       "      <td>EUR_250</td>\n",
       "      <td>Diabetes mellitus</td>\n",
       "      <td>LV342</td>\n",
       "      <td>3.551293e-07</td>\n",
       "      <td>1.416795e-03</td>\n",
       "    </tr>\n",
       "    <tr>\n",
       "      <th>84882</th>\n",
       "      <td>EUR_250.1</td>\n",
       "      <td>Type 1 diabetes</td>\n",
       "      <td>LV54</td>\n",
       "      <td>1.209912e-06</td>\n",
       "      <td>3.884238e-03</td>\n",
       "    </tr>\n",
       "    <tr>\n",
       "      <th>3</th>\n",
       "      <td>EUR_440.2</td>\n",
       "      <td>Atherosclerosis of the extremities</td>\n",
       "      <td>LV504</td>\n",
       "      <td>1.534424e-06</td>\n",
       "      <td>4.499744e-03</td>\n",
       "    </tr>\n",
       "    <tr>\n",
       "      <th>225036</th>\n",
       "      <td>EUR_244.4</td>\n",
       "      <td>Hypothyroidism NOS</td>\n",
       "      <td>LV57</td>\n",
       "      <td>4.974703e-06</td>\n",
       "      <td>1.115588e-02</td>\n",
       "    </tr>\n",
       "    <tr>\n",
       "      <th>288204</th>\n",
       "      <td>EUR_244</td>\n",
       "      <td>Hypothyroidism</td>\n",
       "      <td>LV57</td>\n",
       "      <td>7.194329e-06</td>\n",
       "      <td>1.423548e-02</td>\n",
       "    </tr>\n",
       "  </tbody>\n",
       "</table>\n",
       "</div>"
      ],
      "text/plain": [
       "         phenotype  \\\n",
       "10859      EUR_286   \n",
       "18753   EUR_440.22   \n",
       "175687     EUR_452   \n",
       "61195    EUR_452.2   \n",
       "115479     EUR_702   \n",
       "83906    EUR_250.2   \n",
       "118448     EUR_250   \n",
       "84882    EUR_250.1   \n",
       "3        EUR_440.2   \n",
       "225036   EUR_244.4   \n",
       "288204     EUR_244   \n",
       "\n",
       "                                                                              phenotype_desc  \\\n",
       "10859                                                                    Coagulation defects   \n",
       "18753   Atherosclerosis of native arteries of the extremities with intermittent claudication   \n",
       "175687                                                  Other venous embolism and thrombosis   \n",
       "61195                                                             Deep vein thrombosis [DVT]   \n",
       "115479                                     Degenerative skin conditions and other dermatoses   \n",
       "83906                                                                        Type 2 diabetes   \n",
       "118448                                                                     Diabetes mellitus   \n",
       "84882                                                                        Type 1 diabetes   \n",
       "3                                                         Atherosclerosis of the extremities   \n",
       "225036                                                                    Hypothyroidism NOS   \n",
       "288204                                                                        Hypothyroidism   \n",
       "\n",
       "           lv        pvalue           fdr  \n",
       "10859    LV57  1.303465e-16  1.325116e-11  \n",
       "18753   LV504  1.369999e-10  2.611414e-06  \n",
       "175687   LV57  1.097275e-09  1.521138e-05  \n",
       "61195    LV57  4.246591e-09  4.465993e-05  \n",
       "115479  LV942  3.171349e-07  1.381725e-03  \n",
       "83906   LV342  3.357968e-07  1.416795e-03  \n",
       "118448  LV342  3.551293e-07  1.416795e-03  \n",
       "84882    LV54  1.209912e-06  3.884238e-03  \n",
       "3       LV504  1.534424e-06  4.499744e-03  \n",
       "225036   LV57  4.974703e-06  1.115588e-02  \n",
       "288204   LV57  7.194329e-06  1.423548e-02  "
      ]
     },
     "metadata": {},
     "output_type": "display_data"
    }
   ],
   "source": [
    "with pd.option_context(\n",
    "    \"display.max_rows\", None, \"display.max_columns\", None, \"display.max_colwidth\", None\n",
    "):\n",
    "    display(groups_emerge_signif.shape)\n",
    "    display(groups_emerge_signif)"
   ]
  },
  {
   "cell_type": "markdown",
   "id": "e6d06340-916f-4579-aaa1-ec9939a9f986",
   "metadata": {},
   "source": [
    "# Cardiovascular clusters"
   ]
  },
  {
   "cell_type": "markdown",
   "id": "cd77c082-67b0-4920-b684-c1faf2b728f6",
   "metadata": {},
   "source": [
    "## PhenomeXcan"
   ]
  },
  {
   "cell_type": "code",
   "execution_count": 69,
   "id": "55e2c7ef-9a41-476f-8114-f577bf7d39ce",
   "metadata": {},
   "outputs": [],
   "source": [
    "cluster17_lvs = pd.read_pickle(\n",
    "    CLUSTERING_LVS_DIR / \"cluster_interpreter-part29_k17.pkl\"\n",
    ")[\"name\"]"
   ]
  },
  {
   "cell_type": "code",
   "execution_count": 70,
   "id": "d67fecac-f3af-4a22-a477-85ec7f8d539b",
   "metadata": {},
   "outputs": [
    {
     "data": {
      "text/plain": [
       "(20,)"
      ]
     },
     "execution_count": 70,
     "metadata": {},
     "output_type": "execute_result"
    }
   ],
   "source": [
    "cluster17_lvs.shape"
   ]
  },
  {
   "cell_type": "code",
   "execution_count": 71,
   "id": "3fdcb698-8733-44b9-a4c1-370822a65857",
   "metadata": {},
   "outputs": [],
   "source": [
    "cluster25_lvs = pd.read_pickle(\n",
    "    CLUSTERING_LVS_DIR / \"cluster_interpreter-part29_k25.pkl\"\n",
    ")[\"name\"]"
   ]
  },
  {
   "cell_type": "code",
   "execution_count": 72,
   "id": "92eb71bd-908a-4948-b583-6d6d6fd472d9",
   "metadata": {},
   "outputs": [],
   "source": [
    "cluster21_lvs = pd.read_pickle(\n",
    "    CLUSTERING_LVS_DIR / \"cluster_interpreter-part29_k21.pkl\"\n",
    ")[\"name\"]"
   ]
  },
  {
   "cell_type": "code",
   "execution_count": 73,
   "id": "0f610c54-b9b8-4515-bce8-97331fbf6873",
   "metadata": {},
   "outputs": [],
   "source": [
    "cluster28_lvs = pd.read_pickle(\n",
    "    CLUSTERING_LVS_DIR / \"cluster_interpreter-part29_k28.pkl\"\n",
    ")[\"name\"]"
   ]
  },
  {
   "cell_type": "code",
   "execution_count": 74,
   "id": "455541dc-3497-4f1c-be73-3583b05948dc",
   "metadata": {},
   "outputs": [],
   "source": [
    "cluster11_lvs = pd.read_pickle(\n",
    "    CLUSTERING_LVS_DIR / \"cluster_interpreter-part29_k11.pkl\"\n",
    ")[\"name\"]"
   ]
  },
  {
   "cell_type": "code",
   "execution_count": 75,
   "id": "1ed9eaec-c27d-44de-a621-028a5a514c16",
   "metadata": {},
   "outputs": [],
   "source": [
    "cluster16_lvs = pd.read_pickle(\n",
    "    CLUSTERING_LVS_DIR / \"cluster_interpreter-part29_k16.pkl\"\n",
    ")[\"name\"]"
   ]
  },
  {
   "cell_type": "code",
   "execution_count": 76,
   "id": "715306ab-68b0-4c70-a316-8b2d994e2e7e",
   "metadata": {},
   "outputs": [],
   "source": [
    "all_clusters_lvs = (\n",
    "    set(cluster17_lvs)\n",
    "    | set(cluster25_lvs)\n",
    "    | set(cluster21_lvs)\n",
    "    | set(cluster28_lvs)\n",
    "    | set(cluster11_lvs)\n",
    "    | set(cluster16_lvs)\n",
    ")"
   ]
  },
  {
   "cell_type": "code",
   "execution_count": 77,
   "id": "0c5eb2cb-5f77-4b25-a8b5-96ec06830b85",
   "metadata": {},
   "outputs": [
    {
     "data": {
      "text/plain": [
       "99"
      ]
     },
     "execution_count": 77,
     "metadata": {},
     "output_type": "execute_result"
    }
   ],
   "source": [
    "len(all_clusters_lvs)"
   ]
  },
  {
   "cell_type": "code",
   "execution_count": 78,
   "id": "9b332c84-a638-4ee6-addd-95a87b0ad91e",
   "metadata": {},
   "outputs": [],
   "source": [
    "cluster17_traits = get_cluster_traits(17)\n",
    "cluster25_traits = get_cluster_traits(25)\n",
    "cluster21_traits = get_cluster_traits(21)\n",
    "cluster28_traits = get_cluster_traits(28)\n",
    "cluster11_traits = get_cluster_traits(11)\n",
    "cluster16_traits = get_cluster_traits(16)"
   ]
  },
  {
   "cell_type": "code",
   "execution_count": 79,
   "id": "75876723-6c5b-4cbc-af86-50065c429273",
   "metadata": {},
   "outputs": [],
   "source": [
    "all_clusters_traits = (\n",
    "    set(cluster17_traits)\n",
    "    | set(cluster25_traits)\n",
    "    | set(cluster21_traits)\n",
    "    | set(cluster28_traits)\n",
    "    | set(cluster11_traits)\n",
    "    | set(cluster16_traits)\n",
    ")"
   ]
  },
  {
   "cell_type": "code",
   "execution_count": 80,
   "id": "b2dd616c-89ab-4304-a713-222984d6f9e2",
   "metadata": {},
   "outputs": [
    {
     "data": {
      "text/plain": [
       "255"
      ]
     },
     "execution_count": 80,
     "metadata": {},
     "output_type": "execute_result"
    }
   ],
   "source": [
    "len(all_clusters_traits)"
   ]
  },
  {
   "cell_type": "code",
   "execution_count": 81,
   "id": "e0a62ff0-8d9a-4ea0-876b-c235bf72f576",
   "metadata": {},
   "outputs": [],
   "source": [
    "groups_signif = data_signif[\n",
    "    data_signif[\"lv\"].isin(all_clusters_lvs)\n",
    "    & data_signif[\"phenotype\"].isin(all_clusters_traits)\n",
    "].sort_values(\"fdr\")"
   ]
  },
  {
   "cell_type": "code",
   "execution_count": 82,
   "id": "57bd72b7-429c-44e6-8379-fa17715e2e9d",
   "metadata": {},
   "outputs": [
    {
     "data": {
      "text/plain": [
       "(129, 5)"
      ]
     },
     "execution_count": 82,
     "metadata": {},
     "output_type": "execute_result"
    }
   ],
   "source": [
    "groups_signif.shape"
   ]
  },
  {
   "cell_type": "code",
   "execution_count": 83,
   "id": "5c2243ad-57f3-4f66-ad9e-3d96eca27a08",
   "metadata": {},
   "outputs": [
    {
     "data": {
      "text/plain": [
       "['LV21', 'LV455', 'LV260', 'LV136', 'LV12', ..., 'LV44', 'LV884', 'LV349', 'LV742', 'LV331']\n",
       "Length: 47\n",
       "Categories (47, object): ['LV21', 'LV455', 'LV260', 'LV136', ..., 'LV884', 'LV349', 'LV742', 'LV331']"
      ]
     },
     "execution_count": 83,
     "metadata": {},
     "output_type": "execute_result"
    }
   ],
   "source": [
    "groups_signif[\"lv\"].unique()"
   ]
  },
  {
   "cell_type": "code",
   "execution_count": 84,
   "id": "257f00b7-aa0c-4537-9a90-223299d7c27a",
   "metadata": {},
   "outputs": [
    {
     "data": {
      "text/plain": [
       "['MAGNETIC_LDL.C', '2887', 'MAGNETIC_HDL.C', 'IGAP_Alzheimer', 'MAGNETIC_IDL.TG', ..., '1528', '46_raw', '6154_100', '1448_4', '1478']\n",
       "Length: 85\n",
       "Categories (85, object): ['MAGNETIC_LDL.C', '2887', 'MAGNETIC_HDL.C', 'IGAP_Alzheimer', ..., '46_raw', '6154_100', '1448_4', '1478']"
      ]
     },
     "execution_count": 84,
     "metadata": {},
     "output_type": "execute_result"
    }
   ],
   "source": [
    "groups_signif[\"phenotype\"].unique()"
   ]
  },
  {
   "cell_type": "markdown",
   "id": "e154408e-47bb-412e-b0e6-fbb2f3a02d0b",
   "metadata": {},
   "source": [
    "## eMERGE"
   ]
  },
  {
   "cell_type": "code",
   "execution_count": 85,
   "id": "d0ba4d69-39b8-4029-83ad-39030d69d9e0",
   "metadata": {},
   "outputs": [],
   "source": [
    "groups_emerge_signif = data_emerge_signif[\n",
    "    data_emerge_signif[\"lv\"].isin(all_clusters_lvs)\n",
    "].sort_values(\"fdr\")"
   ]
  },
  {
   "cell_type": "code",
   "execution_count": 86,
   "id": "d2f8e66e-d5a9-4709-b436-59078ad2818f",
   "metadata": {},
   "outputs": [
    {
     "data": {
      "text/plain": [
       "(23, 5)"
      ]
     },
     "execution_count": 86,
     "metadata": {},
     "output_type": "execute_result"
    }
   ],
   "source": [
    "groups_emerge_signif.shape"
   ]
  },
  {
   "cell_type": "code",
   "execution_count": 87,
   "id": "16babac9-41fc-4e76-a44b-4693e2413ead",
   "metadata": {},
   "outputs": [
    {
     "data": {
      "text/plain": [
       "['LV418', 'LV727', 'LV849', 'LV428', 'LV136', ..., 'LV637', 'LV796', 'LV330', 'LV93', 'LV423']\n",
       "Length: 13\n",
       "Categories (13, object): ['LV418', 'LV727', 'LV849', 'LV428', ..., 'LV796', 'LV330', 'LV93', 'LV423']"
      ]
     },
     "execution_count": 87,
     "metadata": {},
     "output_type": "execute_result"
    }
   ],
   "source": [
    "groups_emerge_signif[\"lv\"].unique()"
   ]
  },
  {
   "cell_type": "markdown",
   "id": "682f117f-7580-4a9c-a6d7-1797bf687c2d",
   "metadata": {},
   "source": [
    "## Compare"
   ]
  },
  {
   "cell_type": "code",
   "execution_count": 92,
   "id": "04f7448a-bbbb-4b9a-a5a7-c7789b664992",
   "metadata": {},
   "outputs": [
    {
     "data": {
      "text/plain": [
       "{'LV136', 'LV21', 'LV418', 'LV574', 'LV637', 'LV727', 'LV796', 'LV849', 'LV93'}"
      ]
     },
     "execution_count": 92,
     "metadata": {},
     "output_type": "execute_result"
    }
   ],
   "source": [
    "# LVs shared\n",
    "set(groups_signif[\"lv\"].unique()).intersection(set(groups_emerge_signif[\"lv\"].unique()))"
   ]
  },
  {
   "cell_type": "code",
   "execution_count": 88,
   "id": "3d165efa-bf42-4938-8374-fa3f8ef0afdc",
   "metadata": {},
   "outputs": [
    {
     "data": {
      "text/plain": [
       "(129, 5)"
      ]
     },
     "metadata": {},
     "output_type": "display_data"
    },
    {
     "data": {
      "text/html": [
       "<div>\n",
       "<style scoped>\n",
       "    .dataframe tbody tr th:only-of-type {\n",
       "        vertical-align: middle;\n",
       "    }\n",
       "\n",
       "    .dataframe tbody tr th {\n",
       "        vertical-align: top;\n",
       "    }\n",
       "\n",
       "    .dataframe thead th {\n",
       "        text-align: right;\n",
       "    }\n",
       "</style>\n",
       "<table border=\"1\" class=\"dataframe\">\n",
       "  <thead>\n",
       "    <tr style=\"text-align: right;\">\n",
       "      <th></th>\n",
       "      <th>phenotype</th>\n",
       "      <th>phenotype_desc</th>\n",
       "      <th>lv</th>\n",
       "      <th>pvalue</th>\n",
       "      <th>fdr</th>\n",
       "    </tr>\n",
       "  </thead>\n",
       "  <tbody>\n",
       "    <tr>\n",
       "      <th>4024988</th>\n",
       "      <td>MAGNETIC_LDL.C</td>\n",
       "      <td>LDL Cholesterol NMR</td>\n",
       "      <td>LV21</td>\n",
       "      <td>2.883641e-17</td>\n",
       "      <td>1.081485e-12</td>\n",
       "    </tr>\n",
       "    <tr>\n",
       "      <th>2159556</th>\n",
       "      <td>2887</td>\n",
       "      <td>Number of cigarettes previously smoked daily</td>\n",
       "      <td>LV455</td>\n",
       "      <td>4.843525e-16</td>\n",
       "      <td>1.303818e-11</td>\n",
       "    </tr>\n",
       "    <tr>\n",
       "      <th>4010182</th>\n",
       "      <td>MAGNETIC_HDL.C</td>\n",
       "      <td>HDL Cholesterol NMR</td>\n",
       "      <td>LV21</td>\n",
       "      <td>1.187472e-15</td>\n",
       "      <td>3.034679e-11</td>\n",
       "    </tr>\n",
       "    <tr>\n",
       "      <th>4025973</th>\n",
       "      <td>IGAP_Alzheimer</td>\n",
       "      <td>Alzheimers Disease</td>\n",
       "      <td>LV21</td>\n",
       "      <td>1.172466e-13</td>\n",
       "      <td>1.964400e-09</td>\n",
       "    </tr>\n",
       "    <tr>\n",
       "      <th>4036832</th>\n",
       "      <td>MAGNETIC_IDL.TG</td>\n",
       "      <td>Triglycerides NMR</td>\n",
       "      <td>LV21</td>\n",
       "      <td>1.242413e-13</td>\n",
       "      <td>2.047606e-09</td>\n",
       "    </tr>\n",
       "    <tr>\n",
       "      <th>1022542</th>\n",
       "      <td>2267</td>\n",
       "      <td>Use of sun/uv protection</td>\n",
       "      <td>LV260</td>\n",
       "      <td>1.726427e-13</td>\n",
       "      <td>2.733724e-09</td>\n",
       "    </tr>\n",
       "    <tr>\n",
       "      <th>1716393</th>\n",
       "      <td>I25</td>\n",
       "      <td>Diagnoses - main ICD10: I25 Chronic ischaemic heart disease</td>\n",
       "      <td>LV136</td>\n",
       "      <td>2.294066e-13</td>\n",
       "      <td>3.522061e-09</td>\n",
       "    </tr>\n",
       "    <tr>\n",
       "      <th>4010186</th>\n",
       "      <td>MAGNETIC_HDL.C</td>\n",
       "      <td>HDL Cholesterol NMR</td>\n",
       "      <td>LV12</td>\n",
       "      <td>2.523395e-13</td>\n",
       "      <td>3.816108e-09</td>\n",
       "    </tr>\n",
       "    <tr>\n",
       "      <th>6912</th>\n",
       "      <td>E83</td>\n",
       "      <td>Diagnoses - main ICD10: E83 Disorders of mineral metabolism</td>\n",
       "      <td>LV847</td>\n",
       "      <td>6.949779e-13</td>\n",
       "      <td>9.261365e-09</td>\n",
       "    </tr>\n",
       "    <tr>\n",
       "      <th>1966108</th>\n",
       "      <td>6152_5</td>\n",
       "      <td>Blood clot, DVT, bronchitis, emphysema, asthma, rhinitis, eczema, allergy diagnosed by doctor: Blood clot in the leg (DVT)</td>\n",
       "      <td>LV418</td>\n",
       "      <td>1.707087e-12</td>\n",
       "      <td>2.033305e-08</td>\n",
       "    </tr>\n",
       "    <tr>\n",
       "      <th>535942</th>\n",
       "      <td>6149_1</td>\n",
       "      <td>Mouth/teeth dental problems: Mouth ulcers</td>\n",
       "      <td>LV453</td>\n",
       "      <td>7.415693e-12</td>\n",
       "      <td>7.542370e-08</td>\n",
       "    </tr>\n",
       "    <tr>\n",
       "      <th>2062831</th>\n",
       "      <td>5257_raw</td>\n",
       "      <td>Corneal resistance factor (right)</td>\n",
       "      <td>LV671</td>\n",
       "      <td>1.340795e-11</td>\n",
       "      <td>1.295188e-07</td>\n",
       "    </tr>\n",
       "    <tr>\n",
       "      <th>382956</th>\n",
       "      <td>1180</td>\n",
       "      <td>Morning/evening person (chronotype)</td>\n",
       "      <td>LV402</td>\n",
       "      <td>1.422440e-11</td>\n",
       "      <td>1.370776e-07</td>\n",
       "    </tr>\n",
       "    <tr>\n",
       "      <th>1028454</th>\n",
       "      <td>2237</td>\n",
       "      <td>Plays computer games</td>\n",
       "      <td>LV3</td>\n",
       "      <td>1.286894e-10</td>\n",
       "      <td>1.033050e-06</td>\n",
       "    </tr>\n",
       "    <tr>\n",
       "      <th>378022</th>\n",
       "      <td>20003_1140861958</td>\n",
       "      <td>Treatment/medication code: simvastatin (20003_1140861958)</td>\n",
       "      <td>LV21</td>\n",
       "      <td>3.999977e-10</td>\n",
       "      <td>2.881840e-06</td>\n",
       "    </tr>\n",
       "    <tr>\n",
       "      <th>3764425</th>\n",
       "      <td>20003_1140875408</td>\n",
       "      <td>Treatment/medication code: allopurinol (20003_1140875408)</td>\n",
       "      <td>LV727</td>\n",
       "      <td>4.598670e-10</td>\n",
       "      <td>3.251942e-06</td>\n",
       "    </tr>\n",
       "    <tr>\n",
       "      <th>3764426</th>\n",
       "      <td>20003_1140875408</td>\n",
       "      <td>Treatment/medication code: allopurinol (20003_1140875408)</td>\n",
       "      <td>LV574</td>\n",
       "      <td>4.608502e-10</td>\n",
       "      <td>3.253197e-06</td>\n",
       "    </tr>\n",
       "    <tr>\n",
       "      <th>4018086</th>\n",
       "      <td>MAGNETIC_CH2.DB.ratio</td>\n",
       "      <td>CH2DB NMR</td>\n",
       "      <td>LV93</td>\n",
       "      <td>5.194976e-10</td>\n",
       "      <td>3.641729e-06</td>\n",
       "    </tr>\n",
       "    <tr>\n",
       "      <th>328671</th>\n",
       "      <td>6149_6</td>\n",
       "      <td>Mouth/teeth dental problems: Dentures</td>\n",
       "      <td>LV847</td>\n",
       "      <td>1.746740e-09</td>\n",
       "      <td>1.075155e-05</td>\n",
       "    </tr>\n",
       "    <tr>\n",
       "      <th>2062832</th>\n",
       "      <td>5257_raw</td>\n",
       "      <td>Corneal resistance factor (right)</td>\n",
       "      <td>LV63</td>\n",
       "      <td>1.766598e-09</td>\n",
       "      <td>1.085723e-05</td>\n",
       "    </tr>\n",
       "  </tbody>\n",
       "</table>\n",
       "</div>"
      ],
      "text/plain": [
       "                     phenotype  \\\n",
       "4024988         MAGNETIC_LDL.C   \n",
       "2159556                   2887   \n",
       "4010182         MAGNETIC_HDL.C   \n",
       "4025973         IGAP_Alzheimer   \n",
       "4036832        MAGNETIC_IDL.TG   \n",
       "1022542                   2267   \n",
       "1716393                    I25   \n",
       "4010186         MAGNETIC_HDL.C   \n",
       "6912                       E83   \n",
       "1966108                 6152_5   \n",
       "535942                  6149_1   \n",
       "2062831               5257_raw   \n",
       "382956                    1180   \n",
       "1028454                   2237   \n",
       "378022        20003_1140861958   \n",
       "3764425       20003_1140875408   \n",
       "3764426       20003_1140875408   \n",
       "4018086  MAGNETIC_CH2.DB.ratio   \n",
       "328671                  6149_6   \n",
       "2062832               5257_raw   \n",
       "\n",
       "                                                                                                                     phenotype_desc  \\\n",
       "4024988                                                                                                         LDL Cholesterol NMR   \n",
       "2159556                                                                                Number of cigarettes previously smoked daily   \n",
       "4010182                                                                                                         HDL Cholesterol NMR   \n",
       "4025973                                                                                                          Alzheimers Disease   \n",
       "4036832                                                                                                           Triglycerides NMR   \n",
       "1022542                                                                                                    Use of sun/uv protection   \n",
       "1716393                                                                 Diagnoses - main ICD10: I25 Chronic ischaemic heart disease   \n",
       "4010186                                                                                                         HDL Cholesterol NMR   \n",
       "6912                                                                    Diagnoses - main ICD10: E83 Disorders of mineral metabolism   \n",
       "1966108  Blood clot, DVT, bronchitis, emphysema, asthma, rhinitis, eczema, allergy diagnosed by doctor: Blood clot in the leg (DVT)   \n",
       "535942                                                                                    Mouth/teeth dental problems: Mouth ulcers   \n",
       "2062831                                                                                           Corneal resistance factor (right)   \n",
       "382956                                                                                          Morning/evening person (chronotype)   \n",
       "1028454                                                                                                        Plays computer games   \n",
       "378022                                                                    Treatment/medication code: simvastatin (20003_1140861958)   \n",
       "3764425                                                                   Treatment/medication code: allopurinol (20003_1140875408)   \n",
       "3764426                                                                   Treatment/medication code: allopurinol (20003_1140875408)   \n",
       "4018086                                                                                                                   CH2DB NMR   \n",
       "328671                                                                                        Mouth/teeth dental problems: Dentures   \n",
       "2062832                                                                                           Corneal resistance factor (right)   \n",
       "\n",
       "            lv        pvalue           fdr  \n",
       "4024988   LV21  2.883641e-17  1.081485e-12  \n",
       "2159556  LV455  4.843525e-16  1.303818e-11  \n",
       "4010182   LV21  1.187472e-15  3.034679e-11  \n",
       "4025973   LV21  1.172466e-13  1.964400e-09  \n",
       "4036832   LV21  1.242413e-13  2.047606e-09  \n",
       "1022542  LV260  1.726427e-13  2.733724e-09  \n",
       "1716393  LV136  2.294066e-13  3.522061e-09  \n",
       "4010186   LV12  2.523395e-13  3.816108e-09  \n",
       "6912     LV847  6.949779e-13  9.261365e-09  \n",
       "1966108  LV418  1.707087e-12  2.033305e-08  \n",
       "535942   LV453  7.415693e-12  7.542370e-08  \n",
       "2062831  LV671  1.340795e-11  1.295188e-07  \n",
       "382956   LV402  1.422440e-11  1.370776e-07  \n",
       "1028454    LV3  1.286894e-10  1.033050e-06  \n",
       "378022    LV21  3.999977e-10  2.881840e-06  \n",
       "3764425  LV727  4.598670e-10  3.251942e-06  \n",
       "3764426  LV574  4.608502e-10  3.253197e-06  \n",
       "4018086   LV93  5.194976e-10  3.641729e-06  \n",
       "328671   LV847  1.746740e-09  1.075155e-05  \n",
       "2062832   LV63  1.766598e-09  1.085723e-05  "
      ]
     },
     "metadata": {},
     "output_type": "display_data"
    }
   ],
   "source": [
    "with pd.option_context(\n",
    "    \"display.max_rows\", None, \"display.max_columns\", None, \"display.max_colwidth\", None\n",
    "):\n",
    "    display(groups_signif.shape)\n",
    "    display(groups_signif.head(20))"
   ]
  },
  {
   "cell_type": "code",
   "execution_count": 89,
   "id": "cf3b732e-1ecc-47eb-9ec6-6cbccf2db54b",
   "metadata": {},
   "outputs": [
    {
     "data": {
      "text/plain": [
       "(23, 5)"
      ]
     },
     "metadata": {},
     "output_type": "display_data"
    },
    {
     "data": {
      "text/html": [
       "<div>\n",
       "<style scoped>\n",
       "    .dataframe tbody tr th:only-of-type {\n",
       "        vertical-align: middle;\n",
       "    }\n",
       "\n",
       "    .dataframe tbody tr th {\n",
       "        vertical-align: top;\n",
       "    }\n",
       "\n",
       "    .dataframe thead th {\n",
       "        text-align: right;\n",
       "    }\n",
       "</style>\n",
       "<table border=\"1\" class=\"dataframe\">\n",
       "  <thead>\n",
       "    <tr style=\"text-align: right;\">\n",
       "      <th></th>\n",
       "      <th>phenotype</th>\n",
       "      <th>phenotype_desc</th>\n",
       "      <th>lv</th>\n",
       "      <th>pvalue</th>\n",
       "      <th>fdr</th>\n",
       "    </tr>\n",
       "  </thead>\n",
       "  <tbody>\n",
       "    <tr>\n",
       "      <th>10861</th>\n",
       "      <td>EUR_286</td>\n",
       "      <td>Coagulation defects</td>\n",
       "      <td>LV418</td>\n",
       "      <td>5.776146e-11</td>\n",
       "      <td>0.000001</td>\n",
       "    </tr>\n",
       "    <tr>\n",
       "      <th>246753</th>\n",
       "      <td>EUR_274.1</td>\n",
       "      <td>Gout</td>\n",
       "      <td>LV727</td>\n",
       "      <td>4.377635e-08</td>\n",
       "      <td>0.000334</td>\n",
       "    </tr>\n",
       "    <tr>\n",
       "      <th>189504</th>\n",
       "      <td>EUR_389</td>\n",
       "      <td>Hearing loss</td>\n",
       "      <td>LV849</td>\n",
       "      <td>1.313725e-07</td>\n",
       "      <td>0.000801</td>\n",
       "    </tr>\n",
       "    <tr>\n",
       "      <th>185562</th>\n",
       "      <td>EUR_274</td>\n",
       "      <td>Gout and other crystal arthropathies</td>\n",
       "      <td>LV727</td>\n",
       "      <td>1.816449e-07</td>\n",
       "      <td>0.000939</td>\n",
       "    </tr>\n",
       "    <tr>\n",
       "      <th>83905</th>\n",
       "      <td>EUR_250.2</td>\n",
       "      <td>Type 2 diabetes</td>\n",
       "      <td>LV428</td>\n",
       "      <td>3.087810e-07</td>\n",
       "      <td>0.001365</td>\n",
       "    </tr>\n",
       "    <tr>\n",
       "      <th>220101</th>\n",
       "      <td>EUR_411.4</td>\n",
       "      <td>Coronary atherosclerosis</td>\n",
       "      <td>LV136</td>\n",
       "      <td>3.588278e-07</td>\n",
       "      <td>0.001417</td>\n",
       "    </tr>\n",
       "    <tr>\n",
       "      <th>118451</th>\n",
       "      <td>EUR_250</td>\n",
       "      <td>Diabetes mellitus</td>\n",
       "      <td>LV428</td>\n",
       "      <td>3.878355e-07</td>\n",
       "      <td>0.001479</td>\n",
       "    </tr>\n",
       "    <tr>\n",
       "      <th>175688</th>\n",
       "      <td>EUR_452</td>\n",
       "      <td>Other venous embolism and thrombosis</td>\n",
       "      <td>LV418</td>\n",
       "      <td>4.967769e-07</td>\n",
       "      <td>0.001782</td>\n",
       "    </tr>\n",
       "    <tr>\n",
       "      <th>263531</th>\n",
       "      <td>EUR_272.1</td>\n",
       "      <td>Hyperlipidemia</td>\n",
       "      <td>LV21</td>\n",
       "      <td>1.398012e-06</td>\n",
       "      <td>0.004221</td>\n",
       "    </tr>\n",
       "    <tr>\n",
       "      <th>195428</th>\n",
       "      <td>EUR_272</td>\n",
       "      <td>Disorders of lipoid metabolism</td>\n",
       "      <td>LV21</td>\n",
       "      <td>1.524794e-06</td>\n",
       "      <td>0.004500</td>\n",
       "    </tr>\n",
       "    <tr>\n",
       "      <th>238854</th>\n",
       "      <td>EUR_287.3</td>\n",
       "      <td>Thrombocytopenia</td>\n",
       "      <td>LV753</td>\n",
       "      <td>2.018131e-06</td>\n",
       "      <td>0.005595</td>\n",
       "    </tr>\n",
       "    <tr>\n",
       "      <th>252672</th>\n",
       "      <td>EUR_532</td>\n",
       "      <td>Dysphagia</td>\n",
       "      <td>LV849</td>\n",
       "      <td>3.039656e-06</td>\n",
       "      <td>0.007662</td>\n",
       "    </tr>\n",
       "    <tr>\n",
       "      <th>185569</th>\n",
       "      <td>EUR_274</td>\n",
       "      <td>Gout and other crystal arthropathies</td>\n",
       "      <td>LV574</td>\n",
       "      <td>4.821456e-06</td>\n",
       "      <td>0.010974</td>\n",
       "    </tr>\n",
       "    <tr>\n",
       "      <th>31586</th>\n",
       "      <td>EUR_261.4</td>\n",
       "      <td>Vitamin D deficiency</td>\n",
       "      <td>LV637</td>\n",
       "      <td>6.454286e-06</td>\n",
       "      <td>0.013300</td>\n",
       "    </tr>\n",
       "    <tr>\n",
       "      <th>246765</th>\n",
       "      <td>EUR_274.1</td>\n",
       "      <td>Gout</td>\n",
       "      <td>LV574</td>\n",
       "      <td>6.556698e-06</td>\n",
       "      <td>0.013331</td>\n",
       "    </tr>\n",
       "    <tr>\n",
       "      <th>185571</th>\n",
       "      <td>EUR_274</td>\n",
       "      <td>Gout and other crystal arthropathies</td>\n",
       "      <td>LV796</td>\n",
       "      <td>7.684466e-06</td>\n",
       "      <td>0.014986</td>\n",
       "    </tr>\n",
       "    <tr>\n",
       "      <th>83912</th>\n",
       "      <td>EUR_250.2</td>\n",
       "      <td>Type 2 diabetes</td>\n",
       "      <td>LV330</td>\n",
       "      <td>9.479925e-06</td>\n",
       "      <td>0.017958</td>\n",
       "    </tr>\n",
       "    <tr>\n",
       "      <th>249711</th>\n",
       "      <td>EUR_415.11</td>\n",
       "      <td>Pulmonary embolism and infarction, acute</td>\n",
       "      <td>LV418</td>\n",
       "      <td>1.064992e-05</td>\n",
       "      <td>0.019805</td>\n",
       "    </tr>\n",
       "    <tr>\n",
       "      <th>118457</th>\n",
       "      <td>EUR_250</td>\n",
       "      <td>Diabetes mellitus</td>\n",
       "      <td>LV330</td>\n",
       "      <td>1.296204e-05</td>\n",
       "      <td>0.022720</td>\n",
       "    </tr>\n",
       "    <tr>\n",
       "      <th>8</th>\n",
       "      <td>EUR_440.2</td>\n",
       "      <td>Atherosclerosis of the extremities</td>\n",
       "      <td>LV93</td>\n",
       "      <td>1.452706e-05</td>\n",
       "      <td>0.024751</td>\n",
       "    </tr>\n",
       "    <tr>\n",
       "      <th>246766</th>\n",
       "      <td>EUR_274.1</td>\n",
       "      <td>Gout</td>\n",
       "      <td>LV796</td>\n",
       "      <td>2.029132e-05</td>\n",
       "      <td>0.031900</td>\n",
       "    </tr>\n",
       "    <tr>\n",
       "      <th>257607</th>\n",
       "      <td>EUR_425.1</td>\n",
       "      <td>Primary/intrinsic cardiomyopathies</td>\n",
       "      <td>LV423</td>\n",
       "      <td>2.604661e-05</td>\n",
       "      <td>0.038914</td>\n",
       "    </tr>\n",
       "    <tr>\n",
       "      <th>32571</th>\n",
       "      <td>EUR_415.1</td>\n",
       "      <td>Acute pulmonary heart disease</td>\n",
       "      <td>LV418</td>\n",
       "      <td>3.541918e-05</td>\n",
       "      <td>0.047378</td>\n",
       "    </tr>\n",
       "  </tbody>\n",
       "</table>\n",
       "</div>"
      ],
      "text/plain": [
       "         phenotype                            phenotype_desc     lv  \\\n",
       "10861      EUR_286                       Coagulation defects  LV418   \n",
       "246753   EUR_274.1                                      Gout  LV727   \n",
       "189504     EUR_389                              Hearing loss  LV849   \n",
       "185562     EUR_274      Gout and other crystal arthropathies  LV727   \n",
       "83905    EUR_250.2                           Type 2 diabetes  LV428   \n",
       "220101   EUR_411.4                  Coronary atherosclerosis  LV136   \n",
       "118451     EUR_250                         Diabetes mellitus  LV428   \n",
       "175688     EUR_452      Other venous embolism and thrombosis  LV418   \n",
       "263531   EUR_272.1                            Hyperlipidemia   LV21   \n",
       "195428     EUR_272            Disorders of lipoid metabolism   LV21   \n",
       "238854   EUR_287.3                          Thrombocytopenia  LV753   \n",
       "252672     EUR_532                                 Dysphagia  LV849   \n",
       "185569     EUR_274      Gout and other crystal arthropathies  LV574   \n",
       "31586    EUR_261.4                      Vitamin D deficiency  LV637   \n",
       "246765   EUR_274.1                                      Gout  LV574   \n",
       "185571     EUR_274      Gout and other crystal arthropathies  LV796   \n",
       "83912    EUR_250.2                           Type 2 diabetes  LV330   \n",
       "249711  EUR_415.11  Pulmonary embolism and infarction, acute  LV418   \n",
       "118457     EUR_250                         Diabetes mellitus  LV330   \n",
       "8        EUR_440.2        Atherosclerosis of the extremities   LV93   \n",
       "246766   EUR_274.1                                      Gout  LV796   \n",
       "257607   EUR_425.1        Primary/intrinsic cardiomyopathies  LV423   \n",
       "32571    EUR_415.1             Acute pulmonary heart disease  LV418   \n",
       "\n",
       "              pvalue       fdr  \n",
       "10861   5.776146e-11  0.000001  \n",
       "246753  4.377635e-08  0.000334  \n",
       "189504  1.313725e-07  0.000801  \n",
       "185562  1.816449e-07  0.000939  \n",
       "83905   3.087810e-07  0.001365  \n",
       "220101  3.588278e-07  0.001417  \n",
       "118451  3.878355e-07  0.001479  \n",
       "175688  4.967769e-07  0.001782  \n",
       "263531  1.398012e-06  0.004221  \n",
       "195428  1.524794e-06  0.004500  \n",
       "238854  2.018131e-06  0.005595  \n",
       "252672  3.039656e-06  0.007662  \n",
       "185569  4.821456e-06  0.010974  \n",
       "31586   6.454286e-06  0.013300  \n",
       "246765  6.556698e-06  0.013331  \n",
       "185571  7.684466e-06  0.014986  \n",
       "83912   9.479925e-06  0.017958  \n",
       "249711  1.064992e-05  0.019805  \n",
       "118457  1.296204e-05  0.022720  \n",
       "8       1.452706e-05  0.024751  \n",
       "246766  2.029132e-05  0.031900  \n",
       "257607  2.604661e-05  0.038914  \n",
       "32571   3.541918e-05  0.047378  "
      ]
     },
     "metadata": {},
     "output_type": "display_data"
    }
   ],
   "source": [
    "with pd.option_context(\n",
    "    \"display.max_rows\", None, \"display.max_columns\", None, \"display.max_colwidth\", None\n",
    "):\n",
    "    display(groups_emerge_signif.shape)\n",
    "    display(groups_emerge_signif)"
   ]
  },
  {
   "cell_type": "code",
   "execution_count": 101,
   "id": "coated-decrease",
   "metadata": {},
   "outputs": [
    {
     "data": {
      "text/html": [
       "<div>\n",
       "<style scoped>\n",
       "    .dataframe tbody tr th:only-of-type {\n",
       "        vertical-align: middle;\n",
       "    }\n",
       "\n",
       "    .dataframe tbody tr th {\n",
       "        vertical-align: top;\n",
       "    }\n",
       "\n",
       "    .dataframe thead th {\n",
       "        text-align: right;\n",
       "    }\n",
       "</style>\n",
       "<table border=\"1\" class=\"dataframe\">\n",
       "  <thead>\n",
       "    <tr style=\"text-align: right;\">\n",
       "      <th></th>\n",
       "      <th>phenotype</th>\n",
       "      <th>phenotype_desc</th>\n",
       "      <th>lv</th>\n",
       "      <th>pvalue</th>\n",
       "      <th>fdr</th>\n",
       "    </tr>\n",
       "  </thead>\n",
       "  <tbody>\n",
       "  </tbody>\n",
       "</table>\n",
       "</div>"
      ],
      "text/plain": [
       "Empty DataFrame\n",
       "Columns: [phenotype, phenotype_desc, lv, pvalue, fdr]\n",
       "Index: []"
      ]
     },
     "metadata": {},
     "output_type": "display_data"
    },
    {
     "data": {
      "text/html": [
       "<div>\n",
       "<style scoped>\n",
       "    .dataframe tbody tr th:only-of-type {\n",
       "        vertical-align: middle;\n",
       "    }\n",
       "\n",
       "    .dataframe tbody tr th {\n",
       "        vertical-align: top;\n",
       "    }\n",
       "\n",
       "    .dataframe thead th {\n",
       "        text-align: right;\n",
       "    }\n",
       "</style>\n",
       "<table border=\"1\" class=\"dataframe\">\n",
       "  <thead>\n",
       "    <tr style=\"text-align: right;\">\n",
       "      <th></th>\n",
       "      <th>phenotype</th>\n",
       "      <th>phenotype_desc</th>\n",
       "      <th>lv</th>\n",
       "      <th>pvalue</th>\n",
       "      <th>fdr</th>\n",
       "    </tr>\n",
       "  </thead>\n",
       "  <tbody>\n",
       "  </tbody>\n",
       "</table>\n",
       "</div>"
      ],
      "text/plain": [
       "Empty DataFrame\n",
       "Columns: [phenotype, phenotype_desc, lv, pvalue, fdr]\n",
       "Index: []"
      ]
     },
     "metadata": {},
     "output_type": "display_data"
    }
   ],
   "source": [
    "with pd.option_context(\n",
    "    \"display.max_rows\", None, \"display.max_columns\", None, \"display.max_colwidth\", None\n",
    "):\n",
    "    lv = \"LV434\"\n",
    "    _tmp = groups_signif[groups_signif[\"lv\"] == lv]\n",
    "    display(_tmp)\n",
    "\n",
    "    _tmp = groups_emerge_signif[groups_emerge_signif[\"lv\"] == lv]\n",
    "    display(_tmp)"
   ]
  },
  {
   "cell_type": "code",
   "execution_count": null,
   "id": "f3811131-5bf3-4745-9fd3-b71cd25c49f2",
   "metadata": {},
   "outputs": [
    {
     "data": {
      "text/html": [
       "<div>\n",
       "<style scoped>\n",
       "    .dataframe tbody tr th:only-of-type {\n",
       "        vertical-align: middle;\n",
       "    }\n",
       "\n",
       "    .dataframe tbody tr th {\n",
       "        vertical-align: top;\n",
       "    }\n",
       "\n",
       "    .dataframe thead th {\n",
       "        text-align: right;\n",
       "    }\n",
       "</style>\n",
       "<table border=\"1\" class=\"dataframe\">\n",
       "  <thead>\n",
       "    <tr style=\"text-align: right;\">\n",
       "      <th></th>\n",
       "      <th>phenotype</th>\n",
       "      <th>phenotype_desc</th>\n",
       "      <th>lv</th>\n",
       "      <th>pvalue</th>\n",
       "      <th>fdr</th>\n",
       "    </tr>\n",
       "  </thead>\n",
       "  <tbody>\n",
       "  </tbody>\n",
       "</table>\n",
       "</div>"
      ],
      "text/plain": [
       "Empty DataFrame\n",
       "Columns: [phenotype, phenotype_desc, lv, pvalue, fdr]\n",
       "Index: []"
      ]
     },
     "metadata": {},
     "output_type": "display_data"
    },
    {
     "data": {
      "text/html": [
       "<div>\n",
       "<style scoped>\n",
       "    .dataframe tbody tr th:only-of-type {\n",
       "        vertical-align: middle;\n",
       "    }\n",
       "\n",
       "    .dataframe tbody tr th {\n",
       "        vertical-align: top;\n",
       "    }\n",
       "\n",
       "    .dataframe thead th {\n",
       "        text-align: right;\n",
       "    }\n",
       "</style>\n",
       "<table border=\"1\" class=\"dataframe\">\n",
       "  <thead>\n",
       "    <tr style=\"text-align: right;\">\n",
       "      <th></th>\n",
       "      <th>phenotype</th>\n",
       "      <th>phenotype_desc</th>\n",
       "      <th>lv</th>\n",
       "      <th>pvalue</th>\n",
       "      <th>fdr</th>\n",
       "    </tr>\n",
       "  </thead>\n",
       "  <tbody>\n",
       "  </tbody>\n",
       "</table>\n",
       "</div>"
      ],
      "text/plain": [
       "Empty DataFrame\n",
       "Columns: [phenotype, phenotype_desc, lv, pvalue, fdr]\n",
       "Index: []"
      ]
     },
     "metadata": {},
     "output_type": "display_data"
    }
   ],
   "source": [
    "with pd.option_context(\n",
    "    \"display.max_rows\", None, \"display.max_columns\", None, \"display.max_colwidth\", None\n",
    "):\n",
    "    lv = \"LV434\"\n",
    "    _tmp = groups_signif[groups_signif[\"lv\"] == lv]\n",
    "    display(_tmp)\n",
    "\n",
    "    _tmp = groups_emerge_signif[groups_emerge_signif[\"lv\"] == lv]\n",
    "    display(_tmp)"
   ]
  },
  {
   "cell_type": "code",
   "execution_count": null,
   "id": "ad2a01ce-4f6a-4184-8a4c-8513170b621b",
   "metadata": {},
   "outputs": [],
   "source": []
  }
 ],
 "metadata": {
  "jupytext": {
   "cell_metadata_filter": "all,-execution,-papermill,-trusted",
   "formats": "ipynb,py//py:percent"
  },
  "kernelspec": {
   "display_name": "Python 3 (ipykernel)",
   "language": "python",
   "name": "python3"
  },
  "language_info": {
   "codemirror_mode": {
    "name": "ipython",
    "version": 3
   },
   "file_extension": ".py",
   "mimetype": "text/x-python",
   "name": "python",
   "nbconvert_exporter": "python",
   "pygments_lexer": "ipython3",
   "version": "3.8.13"
  },
  "toc-autonumbering": true
 },
 "nbformat": 4,
 "nbformat_minor": 5
}
