{
 "cells": [
  {
   "cell_type": "markdown",
   "metadata": {
    "papermill": {
     "duration": 0.053594,
     "end_time": "2021-05-09T05:25:20.832943",
     "exception": false,
     "start_time": "2021-05-09T05:25:20.779349",
     "status": "completed"
    },
    "tags": []
   },
   "source": [
    "# Description"
   ]
  },
  {
   "cell_type": "markdown",
   "metadata": {
    "papermill": {
     "duration": 0.016178,
     "end_time": "2021-05-09T05:25:20.867245",
     "exception": false,
     "start_time": "2021-05-09T05:25:20.851067",
     "status": "completed"
    },
    "tags": []
   },
   "source": [
    "It generates a figure with the agreement of the final consensus partitions with the ensemble using three scenarios:\n",
    "* The real data (using PhenomeXcan TWAS results projected into the LV space).\n",
    "* Two null scenarios where structure in data is destroyed to assess the significance of clustering results in the real data."
   ]
  },
  {
   "cell_type": "markdown",
   "metadata": {
    "papermill": {
     "duration": 0.016327,
     "end_time": "2021-05-09T05:25:20.899911",
     "exception": false,
     "start_time": "2021-05-09T05:25:20.883584",
     "status": "completed"
    },
    "tags": []
   },
   "source": [
    "# Modules loading"
   ]
  },
  {
   "cell_type": "code",
   "execution_count": 1,
   "metadata": {
    "papermill": {
     "duration": 0.029634,
     "end_time": "2021-05-09T05:25:20.945871",
     "exception": false,
     "start_time": "2021-05-09T05:25:20.916237",
     "status": "completed"
    },
    "tags": []
   },
   "outputs": [],
   "source": [
    "%load_ext autoreload\n",
    "%autoreload 2"
   ]
  },
  {
   "cell_type": "code",
   "execution_count": 2,
   "metadata": {
    "papermill": {
     "duration": 0.604775,
     "end_time": "2021-05-09T05:25:21.567875",
     "exception": false,
     "start_time": "2021-05-09T05:25:20.963100",
     "status": "completed"
    },
    "tags": []
   },
   "outputs": [],
   "source": [
    "from pathlib import Path\n",
    "from IPython.display import display\n",
    "\n",
    "import pandas as pd\n",
    "import matplotlib.pyplot as plt\n",
    "import seaborn as sns\n",
    "\n",
    "import conf"
   ]
  },
  {
   "cell_type": "markdown",
   "metadata": {},
   "source": [
    "# Settings"
   ]
  },
  {
   "cell_type": "code",
   "execution_count": 3,
   "metadata": {},
   "outputs": [
    {
     "data": {
      "text/plain": [
       "PosixPath('/opt/manuscript/content/images/clustering')"
      ]
     },
     "metadata": {},
     "output_type": "display_data"
    }
   ],
   "source": [
    "OUTPUT_FIGURES_DIR = Path(conf.MANUSCRIPT[\"FIGURES_DIR\"], \"clustering\").resolve()\n",
    "display(OUTPUT_FIGURES_DIR)\n",
    "OUTPUT_FIGURES_DIR.mkdir(parents=True, exist_ok=True)"
   ]
  },
  {
   "cell_type": "markdown",
   "metadata": {
    "papermill": {
     "duration": 0.009792,
     "end_time": "2021-03-11T15:06:55.134989",
     "exception": false,
     "start_time": "2021-03-11T15:06:55.125197",
     "status": "completed"
    },
    "tags": []
   },
   "source": [
    "# Load best partitions"
   ]
  },
  {
   "cell_type": "code",
   "execution_count": 4,
   "metadata": {},
   "outputs": [],
   "source": [
    "scenarios_results = {}"
   ]
  },
  {
   "cell_type": "markdown",
   "metadata": {
    "papermill": {
     "duration": 0.009792,
     "end_time": "2021-03-11T15:06:55.134989",
     "exception": false,
     "start_time": "2021-03-11T15:06:55.125197",
     "status": "completed"
    },
    "tags": []
   },
   "source": [
    "## Runs on real data"
   ]
  },
  {
   "cell_type": "code",
   "execution_count": 5,
   "metadata": {},
   "outputs": [
    {
     "data": {
      "text/plain": [
       "PosixPath('/opt/data/results/clustering/consensus_clustering')"
      ]
     },
     "metadata": {},
     "output_type": "display_data"
    }
   ],
   "source": [
    "CONSENSUS_CLUSTERING_DIR = Path(\n",
    "    conf.RESULTS[\"CLUSTERING_DIR\"], \"consensus_clustering\"\n",
    ").resolve()\n",
    "\n",
    "display(CONSENSUS_CLUSTERING_DIR)"
   ]
  },
  {
   "cell_type": "code",
   "execution_count": 6,
   "metadata": {
    "papermill": {
     "duration": 0.019742,
     "end_time": "2021-03-11T15:06:55.164385",
     "exception": false,
     "start_time": "2021-03-11T15:06:55.144643",
     "status": "completed"
    },
    "tags": []
   },
   "outputs": [
    {
     "data": {
      "text/plain": [
       "PosixPath('/opt/data/results/clustering/consensus_clustering/best_partitions_by_k.pkl')"
      ]
     },
     "metadata": {},
     "output_type": "display_data"
    }
   ],
   "source": [
    "input_file = Path(CONSENSUS_CLUSTERING_DIR, \"best_partitions_by_k.pkl\").resolve()\n",
    "display(input_file)"
   ]
  },
  {
   "cell_type": "code",
   "execution_count": 7,
   "metadata": {
    "papermill": {
     "duration": 0.020248,
     "end_time": "2021-03-11T15:06:55.194519",
     "exception": false,
     "start_time": "2021-03-11T15:06:55.174271",
     "status": "completed"
    },
    "tags": []
   },
   "outputs": [],
   "source": [
    "best_partitions = pd.read_pickle(input_file)"
   ]
  },
  {
   "cell_type": "code",
   "execution_count": 8,
   "metadata": {
    "papermill": {
     "duration": 0.019777,
     "end_time": "2021-03-11T15:06:55.224048",
     "exception": false,
     "start_time": "2021-03-11T15:06:55.204271",
     "status": "completed"
    },
    "tags": []
   },
   "outputs": [
    {
     "data": {
      "text/plain": [
       "(59, 4)"
      ]
     },
     "execution_count": 8,
     "metadata": {},
     "output_type": "execute_result"
    }
   ],
   "source": [
    "best_partitions.shape"
   ]
  },
  {
   "cell_type": "code",
   "execution_count": 9,
   "metadata": {
    "papermill": {
     "duration": 0.027904,
     "end_time": "2021-03-11T15:06:55.261830",
     "exception": false,
     "start_time": "2021-03-11T15:06:55.233926",
     "status": "completed"
    },
    "tags": []
   },
   "outputs": [
    {
     "data": {
      "text/html": [
       "<div>\n",
       "<style scoped>\n",
       "    .dataframe tbody tr th:only-of-type {\n",
       "        vertical-align: middle;\n",
       "    }\n",
       "\n",
       "    .dataframe tbody tr th {\n",
       "        vertical-align: top;\n",
       "    }\n",
       "\n",
       "    .dataframe thead th {\n",
       "        text-align: right;\n",
       "    }\n",
       "</style>\n",
       "<table border=\"1\" class=\"dataframe\">\n",
       "  <thead>\n",
       "    <tr style=\"text-align: right;\">\n",
       "      <th></th>\n",
       "      <th>method</th>\n",
       "      <th>partition</th>\n",
       "      <th>ari_median</th>\n",
       "      <th>selected</th>\n",
       "    </tr>\n",
       "    <tr>\n",
       "      <th>k</th>\n",
       "      <th></th>\n",
       "      <th></th>\n",
       "      <th></th>\n",
       "      <th></th>\n",
       "    </tr>\n",
       "  </thead>\n",
       "  <tbody>\n",
       "    <tr>\n",
       "      <th>14</th>\n",
       "      <td>scc_025</td>\n",
       "      <td>[0, 0, 0, 0, 0, 0, 0, 0, 0, 0, 0, 0, 0, 0, 0, ...</td>\n",
       "      <td>0.090117</td>\n",
       "      <td>True</td>\n",
       "    </tr>\n",
       "    <tr>\n",
       "      <th>22</th>\n",
       "      <td>scc_020</td>\n",
       "      <td>[13, 18, 18, 18, 18, 18, 18, 18, 18, 13, 18, 1...</td>\n",
       "      <td>0.090100</td>\n",
       "      <td>True</td>\n",
       "    </tr>\n",
       "    <tr>\n",
       "      <th>13</th>\n",
       "      <td>scc_025</td>\n",
       "      <td>[0, 0, 0, 0, 0, 0, 0, 0, 0, 0, 0, 0, 0, 0, 0, ...</td>\n",
       "      <td>0.089920</td>\n",
       "      <td>True</td>\n",
       "    </tr>\n",
       "    <tr>\n",
       "      <th>12</th>\n",
       "      <td>scc_025</td>\n",
       "      <td>[0, 0, 0, 0, 0, 0, 0, 0, 0, 0, 0, 0, 0, 0, 0, ...</td>\n",
       "      <td>0.089894</td>\n",
       "      <td>True</td>\n",
       "    </tr>\n",
       "    <tr>\n",
       "      <th>11</th>\n",
       "      <td>scc_025</td>\n",
       "      <td>[0, 0, 0, 0, 0, 0, 0, 0, 0, 0, 0, 0, 0, 0, 0, ...</td>\n",
       "      <td>0.089616</td>\n",
       "      <td>True</td>\n",
       "    </tr>\n",
       "  </tbody>\n",
       "</table>\n",
       "</div>"
      ],
      "text/plain": [
       "     method                                          partition  ari_median  \\\n",
       "k                                                                            \n",
       "14  scc_025  [0, 0, 0, 0, 0, 0, 0, 0, 0, 0, 0, 0, 0, 0, 0, ...    0.090117   \n",
       "22  scc_020  [13, 18, 18, 18, 18, 18, 18, 18, 18, 13, 18, 1...    0.090100   \n",
       "13  scc_025  [0, 0, 0, 0, 0, 0, 0, 0, 0, 0, 0, 0, 0, 0, 0, ...    0.089920   \n",
       "12  scc_025  [0, 0, 0, 0, 0, 0, 0, 0, 0, 0, 0, 0, 0, 0, 0, ...    0.089894   \n",
       "11  scc_025  [0, 0, 0, 0, 0, 0, 0, 0, 0, 0, 0, 0, 0, 0, 0, ...    0.089616   \n",
       "\n",
       "    selected  \n",
       "k             \n",
       "14      True  \n",
       "22      True  \n",
       "13      True  \n",
       "12      True  \n",
       "11      True  "
      ]
     },
     "execution_count": 9,
     "metadata": {},
     "output_type": "execute_result"
    }
   ],
   "source": [
    "best_partitions.head()"
   ]
  },
  {
   "cell_type": "code",
   "execution_count": 10,
   "metadata": {},
   "outputs": [
    {
     "data": {
      "text/plain": [
       "False    44\n",
       "True     15\n",
       "Name: selected, dtype: int64"
      ]
     },
     "execution_count": 10,
     "metadata": {},
     "output_type": "execute_result"
    }
   ],
   "source": [
    "best_partitions[\"selected\"].value_counts()"
   ]
  },
  {
   "cell_type": "code",
   "execution_count": 11,
   "metadata": {},
   "outputs": [
    {
     "data": {
      "text/plain": [
       "count    59.000000\n",
       "mean      0.066246\n",
       "std       0.018264\n",
       "min       0.033275\n",
       "25%       0.049785\n",
       "50%       0.067316\n",
       "75%       0.086079\n",
       "max       0.090117\n",
       "Name: ari_median, dtype: float64"
      ]
     },
     "metadata": {},
     "output_type": "display_data"
    }
   ],
   "source": [
    "# get threshold\n",
    "best_parts_stats = best_partitions[\"ari_median\"].describe()\n",
    "display(best_parts_stats)"
   ]
  },
  {
   "cell_type": "code",
   "execution_count": 12,
   "metadata": {},
   "outputs": [
    {
     "data": {
      "text/plain": [
       "0.08607907160043715"
      ]
     },
     "metadata": {},
     "output_type": "display_data"
    }
   ],
   "source": [
    "best_threshold = best_parts_stats[\"75%\"]\n",
    "best_threshold_description = \"75th percentile\"\n",
    "display(best_threshold)"
   ]
  },
  {
   "cell_type": "code",
   "execution_count": 13,
   "metadata": {},
   "outputs": [],
   "source": [
    "scenarios_results[\"Real data\"] = (best_partitions, best_parts_stats, best_threshold)"
   ]
  },
  {
   "cell_type": "markdown",
   "metadata": {
    "papermill": {
     "duration": 0.009792,
     "end_time": "2021-03-11T15:06:55.134989",
     "exception": false,
     "start_time": "2021-03-11T15:06:55.125197",
     "status": "completed"
    },
    "tags": []
   },
   "source": [
    "## Runs on simulated null scenario 1"
   ]
  },
  {
   "cell_type": "markdown",
   "metadata": {
    "papermill": {
     "duration": 0.009792,
     "end_time": "2021-03-11T15:06:55.134989",
     "exception": false,
     "start_time": "2021-03-11T15:06:55.125197",
     "status": "completed"
    },
    "tags": []
   },
   "source": [
    "The input data for all cases are TWAS results: a matrix with genes x traits, and p-values/z-scores in cells. We call this matrix M.\n",
    "For this Null #1 scenario, we shuffle genes in M, and then this shuffled matrix is projected into the LV space, where clustering is performed.\n",
    "Here we read these results."
   ]
  },
  {
   "cell_type": "code",
   "execution_count": 14,
   "metadata": {},
   "outputs": [
    {
     "data": {
      "text/plain": [
       "PosixPath('/opt/data/results/clustering/null_sims/consensus_clustering')"
      ]
     },
     "metadata": {},
     "output_type": "display_data"
    }
   ],
   "source": [
    "CONSENSUS_CLUSTERING_DIR = Path(\n",
    "    conf.RESULTS[\"CLUSTERING_DIR\"], \"null_sims\", \"consensus_clustering\"\n",
    ").resolve()\n",
    "\n",
    "display(CONSENSUS_CLUSTERING_DIR)"
   ]
  },
  {
   "cell_type": "code",
   "execution_count": 15,
   "metadata": {
    "papermill": {
     "duration": 0.019742,
     "end_time": "2021-03-11T15:06:55.164385",
     "exception": false,
     "start_time": "2021-03-11T15:06:55.144643",
     "status": "completed"
    },
    "tags": []
   },
   "outputs": [
    {
     "data": {
      "text/plain": [
       "PosixPath('/opt/data/results/clustering/null_sims/consensus_clustering/best_partitions_by_k.pkl')"
      ]
     },
     "metadata": {},
     "output_type": "display_data"
    }
   ],
   "source": [
    "input_file = Path(CONSENSUS_CLUSTERING_DIR, \"best_partitions_by_k.pkl\").resolve()\n",
    "display(input_file)"
   ]
  },
  {
   "cell_type": "code",
   "execution_count": 16,
   "metadata": {
    "papermill": {
     "duration": 0.020248,
     "end_time": "2021-03-11T15:06:55.194519",
     "exception": false,
     "start_time": "2021-03-11T15:06:55.174271",
     "status": "completed"
    },
    "tags": []
   },
   "outputs": [],
   "source": [
    "best_partitions = pd.read_pickle(input_file)"
   ]
  },
  {
   "cell_type": "code",
   "execution_count": 17,
   "metadata": {
    "papermill": {
     "duration": 0.019777,
     "end_time": "2021-03-11T15:06:55.224048",
     "exception": false,
     "start_time": "2021-03-11T15:06:55.204271",
     "status": "completed"
    },
    "tags": []
   },
   "outputs": [
    {
     "data": {
      "text/plain": [
       "(59, 4)"
      ]
     },
     "execution_count": 17,
     "metadata": {},
     "output_type": "execute_result"
    }
   ],
   "source": [
    "best_partitions.shape"
   ]
  },
  {
   "cell_type": "code",
   "execution_count": 18,
   "metadata": {
    "papermill": {
     "duration": 0.027904,
     "end_time": "2021-03-11T15:06:55.261830",
     "exception": false,
     "start_time": "2021-03-11T15:06:55.233926",
     "status": "completed"
    },
    "tags": []
   },
   "outputs": [
    {
     "data": {
      "text/html": [
       "<div>\n",
       "<style scoped>\n",
       "    .dataframe tbody tr th:only-of-type {\n",
       "        vertical-align: middle;\n",
       "    }\n",
       "\n",
       "    .dataframe tbody tr th {\n",
       "        vertical-align: top;\n",
       "    }\n",
       "\n",
       "    .dataframe thead th {\n",
       "        text-align: right;\n",
       "    }\n",
       "</style>\n",
       "<table border=\"1\" class=\"dataframe\">\n",
       "  <thead>\n",
       "    <tr style=\"text-align: right;\">\n",
       "      <th></th>\n",
       "      <th>method</th>\n",
       "      <th>partition</th>\n",
       "      <th>ari_median</th>\n",
       "      <th>selected</th>\n",
       "    </tr>\n",
       "    <tr>\n",
       "      <th>k</th>\n",
       "      <th></th>\n",
       "      <th></th>\n",
       "      <th></th>\n",
       "      <th></th>\n",
       "    </tr>\n",
       "  </thead>\n",
       "  <tbody>\n",
       "    <tr>\n",
       "      <th>6</th>\n",
       "      <td>scc_050</td>\n",
       "      <td>[2, 2, 2, 2, 2, 2, 2, 2, 2, 2, 2, 2, 2, 2, 2, ...</td>\n",
       "      <td>0.000946</td>\n",
       "      <td>True</td>\n",
       "    </tr>\n",
       "    <tr>\n",
       "      <th>2</th>\n",
       "      <td>scc_030</td>\n",
       "      <td>[0, 0, 0, 0, 0, 0, 0, 0, 0, 0, 0, 0, 0, 0, 0, ...</td>\n",
       "      <td>0.000759</td>\n",
       "      <td>True</td>\n",
       "    </tr>\n",
       "    <tr>\n",
       "      <th>3</th>\n",
       "      <td>scc_025</td>\n",
       "      <td>[2, 2, 2, 2, 2, 2, 2, 2, 2, 2, 2, 2, 2, 2, 2, ...</td>\n",
       "      <td>0.000726</td>\n",
       "      <td>True</td>\n",
       "    </tr>\n",
       "    <tr>\n",
       "      <th>7</th>\n",
       "      <td>scc_020</td>\n",
       "      <td>[1, 1, 1, 1, 1, 1, 1, 1, 1, 1, 1, 1, 1, 1, 1, ...</td>\n",
       "      <td>0.000703</td>\n",
       "      <td>True</td>\n",
       "    </tr>\n",
       "    <tr>\n",
       "      <th>8</th>\n",
       "      <td>scc_050</td>\n",
       "      <td>[1, 1, 2, 1, 1, 1, 1, 1, 1, 1, 1, 1, 1, 1, 1, ...</td>\n",
       "      <td>0.000605</td>\n",
       "      <td>True</td>\n",
       "    </tr>\n",
       "  </tbody>\n",
       "</table>\n",
       "</div>"
      ],
      "text/plain": [
       "    method                                          partition  ari_median  \\\n",
       "k                                                                           \n",
       "6  scc_050  [2, 2, 2, 2, 2, 2, 2, 2, 2, 2, 2, 2, 2, 2, 2, ...    0.000946   \n",
       "2  scc_030  [0, 0, 0, 0, 0, 0, 0, 0, 0, 0, 0, 0, 0, 0, 0, ...    0.000759   \n",
       "3  scc_025  [2, 2, 2, 2, 2, 2, 2, 2, 2, 2, 2, 2, 2, 2, 2, ...    0.000726   \n",
       "7  scc_020  [1, 1, 1, 1, 1, 1, 1, 1, 1, 1, 1, 1, 1, 1, 1, ...    0.000703   \n",
       "8  scc_050  [1, 1, 2, 1, 1, 1, 1, 1, 1, 1, 1, 1, 1, 1, 1, ...    0.000605   \n",
       "\n",
       "   selected  \n",
       "k            \n",
       "6      True  \n",
       "2      True  \n",
       "3      True  \n",
       "7      True  \n",
       "8      True  "
      ]
     },
     "execution_count": 18,
     "metadata": {},
     "output_type": "execute_result"
    }
   ],
   "source": [
    "best_partitions.head()"
   ]
  },
  {
   "cell_type": "code",
   "execution_count": 19,
   "metadata": {},
   "outputs": [
    {
     "data": {
      "text/plain": [
       "False    44\n",
       "True     15\n",
       "Name: selected, dtype: int64"
      ]
     },
     "execution_count": 19,
     "metadata": {},
     "output_type": "execute_result"
    }
   ],
   "source": [
    "best_partitions[\"selected\"].value_counts()"
   ]
  },
  {
   "cell_type": "code",
   "execution_count": 20,
   "metadata": {},
   "outputs": [
    {
     "data": {
      "text/plain": [
       "count    59.000000\n",
       "mean      0.000468\n",
       "std       0.000113\n",
       "min       0.000251\n",
       "25%       0.000420\n",
       "50%       0.000462\n",
       "75%       0.000495\n",
       "max       0.000946\n",
       "Name: ari_median, dtype: float64"
      ]
     },
     "metadata": {},
     "output_type": "display_data"
    }
   ],
   "source": [
    "# get threshold\n",
    "best_parts_stats = best_partitions[\"ari_median\"].describe()\n",
    "display(best_parts_stats)"
   ]
  },
  {
   "cell_type": "code",
   "execution_count": 21,
   "metadata": {},
   "outputs": [
    {
     "data": {
      "text/plain": [
       "0.0004953979853009125"
      ]
     },
     "metadata": {},
     "output_type": "display_data"
    }
   ],
   "source": [
    "best_threshold = best_parts_stats[\"75%\"]\n",
    "best_threshold_description = \"75th percentile\"\n",
    "display(best_threshold)"
   ]
  },
  {
   "cell_type": "code",
   "execution_count": 22,
   "metadata": {},
   "outputs": [],
   "source": [
    "scenarios_results[\"Null #1\"] = (best_partitions, best_parts_stats, best_threshold)"
   ]
  },
  {
   "cell_type": "markdown",
   "metadata": {
    "papermill": {
     "duration": 0.009792,
     "end_time": "2021-03-11T15:06:55.134989",
     "exception": false,
     "start_time": "2021-03-11T15:06:55.125197",
     "status": "completed"
    },
    "tags": []
   },
   "source": [
    "## Runs on simulated null scenario 2"
   ]
  },
  {
   "cell_type": "markdown",
   "metadata": {
    "papermill": {
     "duration": 0.009792,
     "end_time": "2021-03-11T15:06:55.134989",
     "exception": false,
     "start_time": "2021-03-11T15:06:55.125197",
     "status": "completed"
    },
    "tags": []
   },
   "source": [
    "For this Null #2 scenario, we projected the original M matrix into the latent space, and then shuffle LVs in the projected matrix.\n",
    "Here we read these results."
   ]
  },
  {
   "cell_type": "code",
   "execution_count": 23,
   "metadata": {},
   "outputs": [
    {
     "data": {
      "text/plain": [
       "PosixPath('/opt/data/results/clustering/null_sims_lv_shuffle/consensus_clustering')"
      ]
     },
     "metadata": {},
     "output_type": "display_data"
    }
   ],
   "source": [
    "CONSENSUS_CLUSTERING_DIR = Path(\n",
    "    conf.RESULTS[\"CLUSTERING_DIR\"], \"null_sims_lv_shuffle\", \"consensus_clustering\"\n",
    ").resolve()\n",
    "\n",
    "display(CONSENSUS_CLUSTERING_DIR)"
   ]
  },
  {
   "cell_type": "code",
   "execution_count": 24,
   "metadata": {
    "papermill": {
     "duration": 0.019742,
     "end_time": "2021-03-11T15:06:55.164385",
     "exception": false,
     "start_time": "2021-03-11T15:06:55.144643",
     "status": "completed"
    },
    "tags": []
   },
   "outputs": [
    {
     "data": {
      "text/plain": [
       "PosixPath('/opt/data/results/clustering/null_sims_lv_shuffle/consensus_clustering/best_partitions_by_k.pkl')"
      ]
     },
     "metadata": {},
     "output_type": "display_data"
    }
   ],
   "source": [
    "input_file = Path(CONSENSUS_CLUSTERING_DIR, \"best_partitions_by_k.pkl\").resolve()\n",
    "display(input_file)"
   ]
  },
  {
   "cell_type": "code",
   "execution_count": 25,
   "metadata": {
    "papermill": {
     "duration": 0.020248,
     "end_time": "2021-03-11T15:06:55.194519",
     "exception": false,
     "start_time": "2021-03-11T15:06:55.174271",
     "status": "completed"
    },
    "tags": []
   },
   "outputs": [],
   "source": [
    "best_partitions = pd.read_pickle(input_file)"
   ]
  },
  {
   "cell_type": "code",
   "execution_count": 26,
   "metadata": {
    "papermill": {
     "duration": 0.019777,
     "end_time": "2021-03-11T15:06:55.224048",
     "exception": false,
     "start_time": "2021-03-11T15:06:55.204271",
     "status": "completed"
    },
    "tags": []
   },
   "outputs": [
    {
     "data": {
      "text/plain": [
       "(59, 4)"
      ]
     },
     "execution_count": 26,
     "metadata": {},
     "output_type": "execute_result"
    }
   ],
   "source": [
    "best_partitions.shape"
   ]
  },
  {
   "cell_type": "code",
   "execution_count": 27,
   "metadata": {
    "papermill": {
     "duration": 0.027904,
     "end_time": "2021-03-11T15:06:55.261830",
     "exception": false,
     "start_time": "2021-03-11T15:06:55.233926",
     "status": "completed"
    },
    "tags": []
   },
   "outputs": [
    {
     "data": {
      "text/html": [
       "<div>\n",
       "<style scoped>\n",
       "    .dataframe tbody tr th:only-of-type {\n",
       "        vertical-align: middle;\n",
       "    }\n",
       "\n",
       "    .dataframe tbody tr th {\n",
       "        vertical-align: top;\n",
       "    }\n",
       "\n",
       "    .dataframe thead th {\n",
       "        text-align: right;\n",
       "    }\n",
       "</style>\n",
       "<table border=\"1\" class=\"dataframe\">\n",
       "  <thead>\n",
       "    <tr style=\"text-align: right;\">\n",
       "      <th></th>\n",
       "      <th>method</th>\n",
       "      <th>partition</th>\n",
       "      <th>ari_median</th>\n",
       "      <th>selected</th>\n",
       "    </tr>\n",
       "    <tr>\n",
       "      <th>k</th>\n",
       "      <th></th>\n",
       "      <th></th>\n",
       "      <th></th>\n",
       "      <th></th>\n",
       "    </tr>\n",
       "  </thead>\n",
       "  <tbody>\n",
       "    <tr>\n",
       "      <th>7</th>\n",
       "      <td>scc_020</td>\n",
       "      <td>[6, 6, 6, 6, 6, 6, 6, 6, 6, 6, 6, 6, 6, 6, 6, ...</td>\n",
       "      <td>0.000719</td>\n",
       "      <td>True</td>\n",
       "    </tr>\n",
       "    <tr>\n",
       "      <th>14</th>\n",
       "      <td>scc_020</td>\n",
       "      <td>[1, 1, 1, 1, 1, 1, 1, 1, 1, 1, 1, 1, 1, 1, 1, ...</td>\n",
       "      <td>0.000644</td>\n",
       "      <td>True</td>\n",
       "    </tr>\n",
       "    <tr>\n",
       "      <th>5</th>\n",
       "      <td>scc_050</td>\n",
       "      <td>[0, 0, 0, 0, 0, 0, 0, 0, 0, 0, 0, 0, 0, 0, 0, ...</td>\n",
       "      <td>0.000601</td>\n",
       "      <td>True</td>\n",
       "    </tr>\n",
       "    <tr>\n",
       "      <th>36</th>\n",
       "      <td>scc_050</td>\n",
       "      <td>[21, 21, 21, 21, 21, 21, 21, 21, 21, 21, 21, 2...</td>\n",
       "      <td>0.000589</td>\n",
       "      <td>True</td>\n",
       "    </tr>\n",
       "    <tr>\n",
       "      <th>33</th>\n",
       "      <td>scc_050</td>\n",
       "      <td>[2, 2, 2, 2, 2, 2, 2, 2, 2, 2, 2, 2, 2, 2, 2, ...</td>\n",
       "      <td>0.000578</td>\n",
       "      <td>True</td>\n",
       "    </tr>\n",
       "  </tbody>\n",
       "</table>\n",
       "</div>"
      ],
      "text/plain": [
       "     method                                          partition  ari_median  \\\n",
       "k                                                                            \n",
       "7   scc_020  [6, 6, 6, 6, 6, 6, 6, 6, 6, 6, 6, 6, 6, 6, 6, ...    0.000719   \n",
       "14  scc_020  [1, 1, 1, 1, 1, 1, 1, 1, 1, 1, 1, 1, 1, 1, 1, ...    0.000644   \n",
       "5   scc_050  [0, 0, 0, 0, 0, 0, 0, 0, 0, 0, 0, 0, 0, 0, 0, ...    0.000601   \n",
       "36  scc_050  [21, 21, 21, 21, 21, 21, 21, 21, 21, 21, 21, 2...    0.000589   \n",
       "33  scc_050  [2, 2, 2, 2, 2, 2, 2, 2, 2, 2, 2, 2, 2, 2, 2, ...    0.000578   \n",
       "\n",
       "    selected  \n",
       "k             \n",
       "7       True  \n",
       "14      True  \n",
       "5       True  \n",
       "36      True  \n",
       "33      True  "
      ]
     },
     "execution_count": 27,
     "metadata": {},
     "output_type": "execute_result"
    }
   ],
   "source": [
    "best_partitions.head()"
   ]
  },
  {
   "cell_type": "code",
   "execution_count": 28,
   "metadata": {},
   "outputs": [
    {
     "data": {
      "text/plain": [
       "False    44\n",
       "True     15\n",
       "Name: selected, dtype: int64"
      ]
     },
     "execution_count": 28,
     "metadata": {},
     "output_type": "execute_result"
    }
   ],
   "source": [
    "best_partitions[\"selected\"].value_counts()"
   ]
  },
  {
   "cell_type": "code",
   "execution_count": 29,
   "metadata": {},
   "outputs": [
    {
     "data": {
      "text/plain": [
       "count    5.900000e+01\n",
       "mean     4.661551e-04\n",
       "std      1.042585e-04\n",
       "min     -3.045898e-07\n",
       "25%      4.324421e-04\n",
       "50%      4.828000e-04\n",
       "75%      5.101938e-04\n",
       "max      7.193555e-04\n",
       "Name: ari_median, dtype: float64"
      ]
     },
     "metadata": {},
     "output_type": "display_data"
    }
   ],
   "source": [
    "# get threshold\n",
    "best_parts_stats = best_partitions[\"ari_median\"].describe()\n",
    "display(best_parts_stats)"
   ]
  },
  {
   "cell_type": "code",
   "execution_count": 30,
   "metadata": {},
   "outputs": [
    {
     "data": {
      "text/plain": [
       "0.0005101937973594319"
      ]
     },
     "metadata": {},
     "output_type": "display_data"
    }
   ],
   "source": [
    "best_threshold = best_parts_stats[\"75%\"]\n",
    "best_threshold_description = \"75th percentile\"\n",
    "display(best_threshold)"
   ]
  },
  {
   "cell_type": "code",
   "execution_count": 31,
   "metadata": {},
   "outputs": [],
   "source": [
    "scenarios_results[\"Null #2\"] = (best_partitions, best_parts_stats, best_threshold)"
   ]
  },
  {
   "cell_type": "markdown",
   "metadata": {
    "papermill": {
     "duration": 0.025743,
     "end_time": "2021-05-09T05:25:27.754382",
     "exception": false,
     "start_time": "2021-05-09T05:25:27.728639",
     "status": "completed"
    },
    "tags": []
   },
   "source": [
    "# Plot of selected best partitions"
   ]
  },
  {
   "cell_type": "code",
   "execution_count": 32,
   "metadata": {},
   "outputs": [
    {
     "data": {
      "text/plain": [
       "0.08607907160043715"
      ]
     },
     "metadata": {},
     "output_type": "display_data"
    }
   ],
   "source": [
    "real_threshold = scenarios_results[\"Real data\"][2]\n",
    "display(real_threshold)"
   ]
  },
  {
   "cell_type": "code",
   "execution_count": 33,
   "metadata": {},
   "outputs": [],
   "source": [
    "all_data = []\n",
    "for k, v in scenarios_results.items():\n",
    "    all_data.append(v[0].assign(scenario=k).reset_index())"
   ]
  },
  {
   "cell_type": "code",
   "execution_count": 34,
   "metadata": {
    "papermill": {
     "duration": 0.052325,
     "end_time": "2021-05-09T05:25:27.851360",
     "exception": false,
     "start_time": "2021-05-09T05:25:27.799035",
     "status": "completed"
    },
    "tags": []
   },
   "outputs": [
    {
     "data": {
      "text/plain": [
       "(177, 6)"
      ]
     },
     "metadata": {},
     "output_type": "display_data"
    },
    {
     "data": {
      "text/html": [
       "<div>\n",
       "<style scoped>\n",
       "    .dataframe tbody tr th:only-of-type {\n",
       "        vertical-align: middle;\n",
       "    }\n",
       "\n",
       "    .dataframe tbody tr th {\n",
       "        vertical-align: top;\n",
       "    }\n",
       "\n",
       "    .dataframe thead th {\n",
       "        text-align: right;\n",
       "    }\n",
       "</style>\n",
       "<table border=\"1\" class=\"dataframe\">\n",
       "  <thead>\n",
       "    <tr style=\"text-align: right;\">\n",
       "      <th></th>\n",
       "      <th>k</th>\n",
       "      <th>method</th>\n",
       "      <th>partition</th>\n",
       "      <th>ari_median</th>\n",
       "      <th>selected</th>\n",
       "      <th>scenario</th>\n",
       "    </tr>\n",
       "  </thead>\n",
       "  <tbody>\n",
       "    <tr>\n",
       "      <th>0</th>\n",
       "      <td>14</td>\n",
       "      <td>scc_025</td>\n",
       "      <td>[0, 0, 0, 0, 0, 0, 0, 0, 0, 0, 0, 0, 0, 0, 0, ...</td>\n",
       "      <td>0.090117</td>\n",
       "      <td>True</td>\n",
       "      <td>Real data</td>\n",
       "    </tr>\n",
       "    <tr>\n",
       "      <th>1</th>\n",
       "      <td>22</td>\n",
       "      <td>scc_020</td>\n",
       "      <td>[13, 18, 18, 18, 18, 18, 18, 18, 18, 13, 18, 1...</td>\n",
       "      <td>0.090100</td>\n",
       "      <td>True</td>\n",
       "      <td>Real data</td>\n",
       "    </tr>\n",
       "    <tr>\n",
       "      <th>2</th>\n",
       "      <td>13</td>\n",
       "      <td>scc_025</td>\n",
       "      <td>[0, 0, 0, 0, 0, 0, 0, 0, 0, 0, 0, 0, 0, 0, 0, ...</td>\n",
       "      <td>0.089920</td>\n",
       "      <td>True</td>\n",
       "      <td>Real data</td>\n",
       "    </tr>\n",
       "    <tr>\n",
       "      <th>3</th>\n",
       "      <td>12</td>\n",
       "      <td>scc_025</td>\n",
       "      <td>[0, 0, 0, 0, 0, 0, 0, 0, 0, 0, 0, 0, 0, 0, 0, ...</td>\n",
       "      <td>0.089894</td>\n",
       "      <td>True</td>\n",
       "      <td>Real data</td>\n",
       "    </tr>\n",
       "    <tr>\n",
       "      <th>4</th>\n",
       "      <td>11</td>\n",
       "      <td>scc_025</td>\n",
       "      <td>[0, 0, 0, 0, 0, 0, 0, 0, 0, 0, 0, 0, 0, 0, 0, ...</td>\n",
       "      <td>0.089616</td>\n",
       "      <td>True</td>\n",
       "      <td>Real data</td>\n",
       "    </tr>\n",
       "  </tbody>\n",
       "</table>\n",
       "</div>"
      ],
      "text/plain": [
       "    k   method                                          partition  ari_median  \\\n",
       "0  14  scc_025  [0, 0, 0, 0, 0, 0, 0, 0, 0, 0, 0, 0, 0, 0, 0, ...    0.090117   \n",
       "1  22  scc_020  [13, 18, 18, 18, 18, 18, 18, 18, 18, 13, 18, 1...    0.090100   \n",
       "2  13  scc_025  [0, 0, 0, 0, 0, 0, 0, 0, 0, 0, 0, 0, 0, 0, 0, ...    0.089920   \n",
       "3  12  scc_025  [0, 0, 0, 0, 0, 0, 0, 0, 0, 0, 0, 0, 0, 0, 0, ...    0.089894   \n",
       "4  11  scc_025  [0, 0, 0, 0, 0, 0, 0, 0, 0, 0, 0, 0, 0, 0, 0, ...    0.089616   \n",
       "\n",
       "   selected   scenario  \n",
       "0      True  Real data  \n",
       "1      True  Real data  \n",
       "2      True  Real data  \n",
       "3      True  Real data  \n",
       "4      True  Real data  "
      ]
     },
     "metadata": {},
     "output_type": "display_data"
    }
   ],
   "source": [
    "plot_data = pd.concat(all_data, ignore_index=True)\n",
    "display(plot_data.shape)\n",
    "display(plot_data.head(5))\n",
    "assert plot_data.shape[0] == 3 * 59"
   ]
  },
  {
   "cell_type": "code",
   "execution_count": 35,
   "metadata": {},
   "outputs": [
    {
     "data": {
      "text/plain": [
       "'ari_median'"
      ]
     },
     "metadata": {},
     "output_type": "display_data"
    }
   ],
   "source": [
    "_tmp = best_partitions.columns[\n",
    "    ~best_partitions.columns.isin([\"k\", \"method\", \"partition\", \"selected\"])\n",
    "]\n",
    "assert _tmp.shape[0] == 1\n",
    "\n",
    "_measure_col = _tmp[0]\n",
    "display(_measure_col)"
   ]
  },
  {
   "cell_type": "code",
   "execution_count": 36,
   "metadata": {},
   "outputs": [],
   "source": [
    "_selected_measure = \"ARI\"\n",
    "_selected_stat = \"Median\""
   ]
  },
  {
   "cell_type": "code",
   "execution_count": 37,
   "metadata": {
    "papermill": {
     "duration": 1.647541,
     "end_time": "2021-05-09T05:25:29.527397",
     "exception": false,
     "start_time": "2021-05-09T05:25:27.879856",
     "status": "completed"
    },
    "tags": []
   },
   "outputs": [
    {
     "data": {
      "text/plain": [
       "PosixPath('/opt/manuscript/content/images/clustering/selected_best_partitions_by_k.svg')"
      ]
     },
     "metadata": {},
     "output_type": "display_data"
    },
    {
     "data": {
      "image/png": "[encoded data removed]",
      "text/plain": [
       "<Figure size 1296x432 with 1 Axes>"
      ]
     },
     "metadata": {},
     "output_type": "display_data"
    }
   ],
   "source": [
    "with sns.plotting_context(\"talk\", font_scale=0.75), sns.axes_style(\n",
    "    \"whitegrid\", {\"grid.linestyle\": \"--\"}\n",
    "), sns.color_palette(\"muted\"):\n",
    "    current_palette = iter(sns.color_palette())\n",
    "\n",
    "    fig, ax = plt.subplots(figsize=(18, 6))\n",
    "    ax = sns.pointplot(\n",
    "        # data=plot_data, x=\"k\", y=_measure_col, color=next(current_palette), hue=\"scenario\",\n",
    "        data=plot_data.rename(columns={\"scenario\": \"Scenario\"}),\n",
    "        x=\"k\",\n",
    "        y=_measure_col,\n",
    "        hue=\"Scenario\",\n",
    "    )\n",
    "    ax.axhline(\n",
    "        real_threshold,\n",
    "        ls=\"--\",\n",
    "        # color=next(current_palette),\n",
    "        label=best_threshold_description,\n",
    "    )\n",
    "    ax.set_ylabel(f\"Agreement with ensemble\\n({_selected_stat} {_selected_measure})\")\n",
    "    ax.set_xlabel(\"Number of clusters ($k$)\")\n",
    "    ax.set_xticklabels(ax.get_xticklabels(), rotation=45)\n",
    "    # plt.legend()\n",
    "    plt.grid(True)\n",
    "    #     plt.tight_layout()\n",
    "\n",
    "    output_filepath = OUTPUT_FIGURES_DIR / \"selected_best_partitions_by_k.svg\"\n",
    "    display(output_filepath)\n",
    "\n",
    "    plt.savefig(\n",
    "        output_filepath,\n",
    "        #         dpi=600,\n",
    "        bbox_inches=\"tight\",\n",
    "        facecolor=\"white\",\n",
    "    )"
   ]
  },
  {
   "cell_type": "code",
   "execution_count": null,
   "metadata": {
    "papermill": {
     "duration": 0.028188,
     "end_time": "2021-05-09T05:25:29.784797",
     "exception": false,
     "start_time": "2021-05-09T05:25:29.756609",
     "status": "completed"
    },
    "tags": []
   },
   "outputs": [],
   "source": []
  }
 ],
 "metadata": {
  "jupytext": {
   "cell_metadata_filter": "all,-execution,-papermill,-trusted",
   "formats": "ipynb,py//py:percent"
  },
  "kernelspec": {
   "display_name": "Python 3 (ipykernel)",
   "language": "python",
   "name": "python3"
  },
  "language_info": {
   "codemirror_mode": {
    "name": "ipython",
    "version": 3
   },
   "file_extension": ".py",
   "mimetype": "text/x-python",
   "name": "python",
   "nbconvert_exporter": "python",
   "pygments_lexer": "ipython3",
   "version": "3.8.13"
  },
  "papermill": {
   "default_parameters": {},
   "duration": 11.207642,
   "end_time": "2021-05-09T05:25:31.014094",
   "environment_variables": {},
   "exception": null,
   "input_path": "16_consensus_clustering/030_01-get_best_partitions.ipynb",
   "output_path": "16_consensus_clustering/030_01-get_best_partitions.run.ipynb",
   "parameters": {},
   "start_time": "2021-05-09T05:25:19.806452",
   "version": "2.2.2"
  },
  "toc-autonumbering": true,
  "toc-showcode": false,
  "toc-showmarkdowntxt": false,
  "toc-showtags": false
 },
 "nbformat": 4,
 "nbformat_minor": 4
}
