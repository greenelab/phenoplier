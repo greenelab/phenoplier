{
 "cells": [
  {
   "cell_type": "markdown",
   "id": "upper-binding",
   "metadata": {
    "papermill": {
     "duration": 0.037628,
     "end_time": "2021-03-11T15:06:54.535316",
     "exception": false,
     "start_time": "2021-03-11T15:06:54.497688",
     "status": "completed"
    },
    "tags": []
   },
   "source": [
    "# Description"
   ]
  },
  {
   "cell_type": "markdown",
   "id": "typical-colonial",
   "metadata": {
    "papermill": {
     "duration": 0.009852,
     "end_time": "2021-03-11T15:06:54.560699",
     "exception": false,
     "start_time": "2021-03-11T15:06:54.550847",
     "status": "completed"
    },
    "tags": []
   },
   "source": [
    "This notebooks checks which traits move from different partitions and clusters across the clustering tree."
   ]
  },
  {
   "cell_type": "markdown",
   "id": "tight-south",
   "metadata": {
    "papermill": {
     "duration": 0.008274,
     "end_time": "2021-03-11T15:06:54.577253",
     "exception": false,
     "start_time": "2021-03-11T15:06:54.568979",
     "status": "completed"
    },
    "tags": []
   },
   "source": [
    "# Modules loading"
   ]
  },
  {
   "cell_type": "code",
   "execution_count": 1,
   "id": "innocent-jewel",
   "metadata": {
    "papermill": {
     "duration": 0.021015,
     "end_time": "2021-03-11T15:06:54.606382",
     "exception": false,
     "start_time": "2021-03-11T15:06:54.585367",
     "status": "completed"
    },
    "tags": []
   },
   "outputs": [],
   "source": [
    "%load_ext autoreload\n",
    "%autoreload 2"
   ]
  },
  {
   "cell_type": "code",
   "execution_count": 2,
   "id": "foreign-count",
   "metadata": {
    "papermill": {
     "duration": 0.208217,
     "end_time": "2021-03-11T15:06:54.824769",
     "exception": false,
     "start_time": "2021-03-11T15:06:54.616552",
     "status": "completed"
    },
    "tags": []
   },
   "outputs": [],
   "source": [
    "from IPython.display import display\n",
    "from pathlib import Path\n",
    "\n",
    "import pandas as pd\n",
    "\n",
    "from data.cache import read_data\n",
    "from utils import generate_result_set_name\n",
    "import conf"
   ]
  },
  {
   "cell_type": "markdown",
   "id": "solid-madness",
   "metadata": {
    "papermill": {
     "duration": 0.008347,
     "end_time": "2021-03-11T15:06:54.841742",
     "exception": false,
     "start_time": "2021-03-11T15:06:54.833395",
     "status": "completed"
    },
    "tags": []
   },
   "source": [
    "# Settings"
   ]
  },
  {
   "cell_type": "markdown",
   "id": "beneficial-relationship",
   "metadata": {
    "papermill": {
     "duration": 0.008488,
     "end_time": "2021-03-11T15:06:54.889614",
     "exception": false,
     "start_time": "2021-03-11T15:06:54.881126",
     "status": "completed"
    },
    "tags": []
   },
   "source": [
    "# Load data"
   ]
  },
  {
   "cell_type": "markdown",
   "id": "creative-finish",
   "metadata": {},
   "source": [
    "## S-MultiXcan projection (`z_score_std`)"
   ]
  },
  {
   "cell_type": "code",
   "execution_count": 4,
   "id": "greater-transparency",
   "metadata": {
    "papermill": {
     "duration": 0.033993,
     "end_time": "2020-12-02T18:22:03.772878",
     "exception": false,
     "start_time": "2020-12-02T18:22:03.738885",
     "status": "completed"
    },
    "tags": []
   },
   "outputs": [],
   "source": [
    "INPUT_SUBSET = \"z_score_std\""
   ]
  },
  {
   "cell_type": "code",
   "execution_count": 5,
   "id": "streaming-finance",
   "metadata": {
    "papermill": {
     "duration": 0.034256,
     "end_time": "2020-12-02T18:22:03.827176",
     "exception": false,
     "start_time": "2020-12-02T18:22:03.792920",
     "status": "completed"
    },
    "tags": []
   },
   "outputs": [],
   "source": [
    "INPUT_STEM = \"projection-smultixcan-efo_partial-mashr-zscores\""
   ]
  },
  {
   "cell_type": "code",
   "execution_count": 6,
   "id": "catholic-expression",
   "metadata": {
    "papermill": {
     "duration": 0.036583,
     "end_time": "2020-12-02T18:22:03.884665",
     "exception": false,
     "start_time": "2020-12-02T18:22:03.848082",
     "status": "completed"
    },
    "tags": []
   },
   "outputs": [
    {
     "data": {
      "text/plain": [
       "PosixPath('/home/miltondp/projects/labs/greenelab/phenoplier/bases_data/base_orig/results/data_transformations/z_score_std/z_score_std-projection-smultixcan-efo_partial-mashr-zscores.pkl')"
      ]
     },
     "metadata": {},
     "output_type": "display_data"
    },
    {
     "data": {
      "text/plain": [
       "'z_score_std-projection-smultixcan-efo_partial-mashr-zscores'"
      ]
     },
     "metadata": {},
     "output_type": "display_data"
    }
   ],
   "source": [
    "input_filepath = Path(\n",
    "    conf.RESULTS[\"DATA_TRANSFORMATIONS_DIR\"],\n",
    "    INPUT_SUBSET,\n",
    "    f\"{INPUT_SUBSET}-{INPUT_STEM}.pkl\",\n",
    ").resolve()\n",
    "display(input_filepath)\n",
    "\n",
    "assert input_filepath.exists(), \"Input file does not exist\"\n",
    "\n",
    "input_filepath_stem = input_filepath.stem\n",
    "display(input_filepath_stem)"
   ]
  },
  {
   "cell_type": "code",
   "execution_count": 7,
   "id": "sunrise-trigger",
   "metadata": {
    "papermill": {
     "duration": 0.047976,
     "end_time": "2020-12-02T18:22:04.552607",
     "exception": false,
     "start_time": "2020-12-02T18:22:04.504631",
     "status": "completed"
    },
    "tags": []
   },
   "outputs": [],
   "source": [
    "data = read_data(input_filepath)"
   ]
  },
  {
   "cell_type": "code",
   "execution_count": 8,
   "id": "frequent-mistake",
   "metadata": {
    "papermill": {
     "duration": 0.036934,
     "end_time": "2020-12-02T18:22:04.613671",
     "exception": false,
     "start_time": "2020-12-02T18:22:04.576737",
     "status": "completed"
    },
    "tags": []
   },
   "outputs": [
    {
     "data": {
      "text/plain": [
       "(3752, 987)"
      ]
     },
     "execution_count": 8,
     "metadata": {},
     "output_type": "execute_result"
    }
   ],
   "source": [
    "data.shape"
   ]
  },
  {
   "cell_type": "code",
   "execution_count": 9,
   "id": "cutting-english",
   "metadata": {
    "papermill": {
     "duration": 0.049043,
     "end_time": "2020-12-02T18:22:04.685862",
     "exception": false,
     "start_time": "2020-12-02T18:22:04.636819",
     "status": "completed"
    },
    "tags": []
   },
   "outputs": [
    {
     "data": {
      "text/html": [
       "<div>\n",
       "<style scoped>\n",
       "    .dataframe tbody tr th:only-of-type {\n",
       "        vertical-align: middle;\n",
       "    }\n",
       "\n",
       "    .dataframe tbody tr th {\n",
       "        vertical-align: top;\n",
       "    }\n",
       "\n",
       "    .dataframe thead th {\n",
       "        text-align: right;\n",
       "    }\n",
       "</style>\n",
       "<table border=\"1\" class=\"dataframe\">\n",
       "  <thead>\n",
       "    <tr style=\"text-align: right;\">\n",
       "      <th></th>\n",
       "      <th>LV1</th>\n",
       "      <th>LV2</th>\n",
       "      <th>LV3</th>\n",
       "      <th>LV4</th>\n",
       "      <th>LV5</th>\n",
       "      <th>LV6</th>\n",
       "      <th>LV7</th>\n",
       "      <th>LV8</th>\n",
       "      <th>LV9</th>\n",
       "      <th>LV10</th>\n",
       "      <th>...</th>\n",
       "      <th>LV978</th>\n",
       "      <th>LV979</th>\n",
       "      <th>LV980</th>\n",
       "      <th>LV981</th>\n",
       "      <th>LV982</th>\n",
       "      <th>LV983</th>\n",
       "      <th>LV984</th>\n",
       "      <th>LV985</th>\n",
       "      <th>LV986</th>\n",
       "      <th>LV987</th>\n",
       "    </tr>\n",
       "  </thead>\n",
       "  <tbody>\n",
       "    <tr>\n",
       "      <th>100001_raw-Food_weight</th>\n",
       "      <td>-0.695006</td>\n",
       "      <td>1.962565</td>\n",
       "      <td>0.057683</td>\n",
       "      <td>0.878731</td>\n",
       "      <td>-0.539977</td>\n",
       "      <td>1.481272</td>\n",
       "      <td>-0.396422</td>\n",
       "      <td>1.090180</td>\n",
       "      <td>0.759223</td>\n",
       "      <td>0.931395</td>\n",
       "      <td>...</td>\n",
       "      <td>1.129784</td>\n",
       "      <td>1.752343</td>\n",
       "      <td>-1.411403</td>\n",
       "      <td>2.823863</td>\n",
       "      <td>0.931116</td>\n",
       "      <td>-1.054519</td>\n",
       "      <td>0.432982</td>\n",
       "      <td>-0.633597</td>\n",
       "      <td>0.554279</td>\n",
       "      <td>-0.642479</td>\n",
       "    </tr>\n",
       "    <tr>\n",
       "      <th>100002_raw-Energy</th>\n",
       "      <td>-1.528127</td>\n",
       "      <td>-0.345309</td>\n",
       "      <td>-0.148953</td>\n",
       "      <td>-0.242060</td>\n",
       "      <td>0.373427</td>\n",
       "      <td>0.791092</td>\n",
       "      <td>0.263477</td>\n",
       "      <td>0.987702</td>\n",
       "      <td>0.354391</td>\n",
       "      <td>1.416059</td>\n",
       "      <td>...</td>\n",
       "      <td>0.224604</td>\n",
       "      <td>0.769882</td>\n",
       "      <td>-0.509482</td>\n",
       "      <td>0.091153</td>\n",
       "      <td>2.286789</td>\n",
       "      <td>-1.008256</td>\n",
       "      <td>-0.029764</td>\n",
       "      <td>1.737229</td>\n",
       "      <td>-0.272107</td>\n",
       "      <td>-0.526125</td>\n",
       "    </tr>\n",
       "    <tr>\n",
       "      <th>100003_raw-Protein</th>\n",
       "      <td>-0.704572</td>\n",
       "      <td>-1.011299</td>\n",
       "      <td>0.671420</td>\n",
       "      <td>0.143991</td>\n",
       "      <td>0.615212</td>\n",
       "      <td>0.874212</td>\n",
       "      <td>-0.040998</td>\n",
       "      <td>0.915170</td>\n",
       "      <td>0.254369</td>\n",
       "      <td>-0.084237</td>\n",
       "      <td>...</td>\n",
       "      <td>1.003019</td>\n",
       "      <td>1.044314</td>\n",
       "      <td>-2.376108</td>\n",
       "      <td>0.004778</td>\n",
       "      <td>0.053714</td>\n",
       "      <td>-0.892447</td>\n",
       "      <td>-0.183800</td>\n",
       "      <td>1.377991</td>\n",
       "      <td>-0.278794</td>\n",
       "      <td>-0.419733</td>\n",
       "    </tr>\n",
       "    <tr>\n",
       "      <th>100004_raw-Fat</th>\n",
       "      <td>-0.989832</td>\n",
       "      <td>-1.875490</td>\n",
       "      <td>0.261555</td>\n",
       "      <td>-1.420719</td>\n",
       "      <td>0.366238</td>\n",
       "      <td>1.167049</td>\n",
       "      <td>0.257387</td>\n",
       "      <td>0.717674</td>\n",
       "      <td>-0.997664</td>\n",
       "      <td>0.969825</td>\n",
       "      <td>...</td>\n",
       "      <td>0.585913</td>\n",
       "      <td>0.638314</td>\n",
       "      <td>0.119139</td>\n",
       "      <td>-0.140204</td>\n",
       "      <td>1.394326</td>\n",
       "      <td>-1.173402</td>\n",
       "      <td>0.555058</td>\n",
       "      <td>1.013982</td>\n",
       "      <td>-0.544506</td>\n",
       "      <td>-0.064061</td>\n",
       "    </tr>\n",
       "    <tr>\n",
       "      <th>100005_raw-Carbohydrate</th>\n",
       "      <td>-0.580143</td>\n",
       "      <td>0.243335</td>\n",
       "      <td>0.158966</td>\n",
       "      <td>-0.036558</td>\n",
       "      <td>0.068176</td>\n",
       "      <td>-0.202639</td>\n",
       "      <td>1.101281</td>\n",
       "      <td>0.675227</td>\n",
       "      <td>1.463432</td>\n",
       "      <td>1.010078</td>\n",
       "      <td>...</td>\n",
       "      <td>-0.249108</td>\n",
       "      <td>-0.026814</td>\n",
       "      <td>0.232713</td>\n",
       "      <td>0.323682</td>\n",
       "      <td>1.168642</td>\n",
       "      <td>-0.282935</td>\n",
       "      <td>0.653105</td>\n",
       "      <td>1.909526</td>\n",
       "      <td>0.199997</td>\n",
       "      <td>-1.656894</td>\n",
       "    </tr>\n",
       "  </tbody>\n",
       "</table>\n",
       "<p>5 rows × 987 columns</p>\n",
       "</div>"
      ],
      "text/plain": [
       "                              LV1       LV2       LV3       LV4       LV5  \\\n",
       "100001_raw-Food_weight  -0.695006  1.962565  0.057683  0.878731 -0.539977   \n",
       "100002_raw-Energy       -1.528127 -0.345309 -0.148953 -0.242060  0.373427   \n",
       "100003_raw-Protein      -0.704572 -1.011299  0.671420  0.143991  0.615212   \n",
       "100004_raw-Fat          -0.989832 -1.875490  0.261555 -1.420719  0.366238   \n",
       "100005_raw-Carbohydrate -0.580143  0.243335  0.158966 -0.036558  0.068176   \n",
       "\n",
       "                              LV6       LV7       LV8       LV9      LV10  \\\n",
       "100001_raw-Food_weight   1.481272 -0.396422  1.090180  0.759223  0.931395   \n",
       "100002_raw-Energy        0.791092  0.263477  0.987702  0.354391  1.416059   \n",
       "100003_raw-Protein       0.874212 -0.040998  0.915170  0.254369 -0.084237   \n",
       "100004_raw-Fat           1.167049  0.257387  0.717674 -0.997664  0.969825   \n",
       "100005_raw-Carbohydrate -0.202639  1.101281  0.675227  1.463432  1.010078   \n",
       "\n",
       "                         ...     LV978     LV979     LV980     LV981  \\\n",
       "100001_raw-Food_weight   ...  1.129784  1.752343 -1.411403  2.823863   \n",
       "100002_raw-Energy        ...  0.224604  0.769882 -0.509482  0.091153   \n",
       "100003_raw-Protein       ...  1.003019  1.044314 -2.376108  0.004778   \n",
       "100004_raw-Fat           ...  0.585913  0.638314  0.119139 -0.140204   \n",
       "100005_raw-Carbohydrate  ... -0.249108 -0.026814  0.232713  0.323682   \n",
       "\n",
       "                            LV982     LV983     LV984     LV985     LV986  \\\n",
       "100001_raw-Food_weight   0.931116 -1.054519  0.432982 -0.633597  0.554279   \n",
       "100002_raw-Energy        2.286789 -1.008256 -0.029764  1.737229 -0.272107   \n",
       "100003_raw-Protein       0.053714 -0.892447 -0.183800  1.377991 -0.278794   \n",
       "100004_raw-Fat           1.394326 -1.173402  0.555058  1.013982 -0.544506   \n",
       "100005_raw-Carbohydrate  1.168642 -0.282935  0.653105  1.909526  0.199997   \n",
       "\n",
       "                            LV987  \n",
       "100001_raw-Food_weight  -0.642479  \n",
       "100002_raw-Energy       -0.526125  \n",
       "100003_raw-Protein      -0.419733  \n",
       "100004_raw-Fat          -0.064061  \n",
       "100005_raw-Carbohydrate -1.656894  \n",
       "\n",
       "[5 rows x 987 columns]"
      ]
     },
     "execution_count": 9,
     "metadata": {},
     "output_type": "execute_result"
    }
   ],
   "source": [
    "data.head()"
   ]
  },
  {
   "cell_type": "markdown",
   "id": "stunning-going",
   "metadata": {},
   "source": [
    "## Clustering results"
   ]
  },
  {
   "cell_type": "code",
   "execution_count": 10,
   "id": "greek-preliminary",
   "metadata": {},
   "outputs": [
    {
     "data": {
      "text/plain": [
       "PosixPath('/home/miltondp/projects/labs/greenelab/phenoplier/bases_data/base_orig/results/clustering/consensus_clustering')"
      ]
     },
     "metadata": {},
     "output_type": "display_data"
    }
   ],
   "source": [
    "CONSENSUS_CLUSTERING_DIR = Path(\n",
    "    conf.RESULTS[\"CLUSTERING_DIR\"], \"consensus_clustering\"\n",
    ").resolve()\n",
    "\n",
    "display(CONSENSUS_CLUSTERING_DIR)"
   ]
  },
  {
   "cell_type": "code",
   "execution_count": 11,
   "id": "differential-charm",
   "metadata": {},
   "outputs": [
    {
     "data": {
      "text/plain": [
       "PosixPath('/home/miltondp/projects/labs/greenelab/phenoplier/bases_data/base_orig/results/clustering/consensus_clustering/best_partitions_by_k.pkl')"
      ]
     },
     "metadata": {},
     "output_type": "display_data"
    }
   ],
   "source": [
    "input_file = Path(CONSENSUS_CLUSTERING_DIR, \"best_partitions_by_k.pkl\").resolve()\n",
    "display(input_file)"
   ]
  },
  {
   "cell_type": "code",
   "execution_count": 12,
   "id": "incredible-korean",
   "metadata": {},
   "outputs": [],
   "source": [
    "best_partitions = read_data(input_file)"
   ]
  },
  {
   "cell_type": "code",
   "execution_count": 13,
   "id": "passive-jaguar",
   "metadata": {},
   "outputs": [],
   "source": [
    "# keep selected partitions only\n",
    "best_partitions = best_partitions[best_partitions[\"selected\"]]"
   ]
  },
  {
   "cell_type": "code",
   "execution_count": 14,
   "id": "standard-boston",
   "metadata": {},
   "outputs": [
    {
     "data": {
      "text/plain": [
       "(15, 4)"
      ]
     },
     "execution_count": 14,
     "metadata": {},
     "output_type": "execute_result"
    }
   ],
   "source": [
    "best_partitions.shape"
   ]
  },
  {
   "cell_type": "code",
   "execution_count": 15,
   "id": "collectible-tiffany",
   "metadata": {},
   "outputs": [
    {
     "data": {
      "text/html": [
       "<div>\n",
       "<style scoped>\n",
       "    .dataframe tbody tr th:only-of-type {\n",
       "        vertical-align: middle;\n",
       "    }\n",
       "\n",
       "    .dataframe tbody tr th {\n",
       "        vertical-align: top;\n",
       "    }\n",
       "\n",
       "    .dataframe thead th {\n",
       "        text-align: right;\n",
       "    }\n",
       "</style>\n",
       "<table border=\"1\" class=\"dataframe\">\n",
       "  <thead>\n",
       "    <tr style=\"text-align: right;\">\n",
       "      <th></th>\n",
       "      <th>method</th>\n",
       "      <th>partition</th>\n",
       "      <th>ari_median</th>\n",
       "      <th>selected</th>\n",
       "    </tr>\n",
       "    <tr>\n",
       "      <th>k</th>\n",
       "      <th></th>\n",
       "      <th></th>\n",
       "      <th></th>\n",
       "      <th></th>\n",
       "    </tr>\n",
       "  </thead>\n",
       "  <tbody>\n",
       "    <tr>\n",
       "      <th>14</th>\n",
       "      <td>scc_025</td>\n",
       "      <td>[0, 0, 0, 0, 0, 0, 0, 0, 0, 0, 0, 0, 0, 0, 0, ...</td>\n",
       "      <td>0.090117</td>\n",
       "      <td>True</td>\n",
       "    </tr>\n",
       "    <tr>\n",
       "      <th>22</th>\n",
       "      <td>scc_020</td>\n",
       "      <td>[13, 18, 18, 18, 18, 18, 18, 18, 18, 13, 18, 1...</td>\n",
       "      <td>0.090100</td>\n",
       "      <td>True</td>\n",
       "    </tr>\n",
       "    <tr>\n",
       "      <th>13</th>\n",
       "      <td>scc_025</td>\n",
       "      <td>[0, 0, 0, 0, 0, 0, 0, 0, 0, 0, 0, 0, 0, 0, 0, ...</td>\n",
       "      <td>0.089920</td>\n",
       "      <td>True</td>\n",
       "    </tr>\n",
       "    <tr>\n",
       "      <th>12</th>\n",
       "      <td>scc_025</td>\n",
       "      <td>[0, 0, 0, 0, 0, 0, 0, 0, 0, 0, 0, 0, 0, 0, 0, ...</td>\n",
       "      <td>0.089894</td>\n",
       "      <td>True</td>\n",
       "    </tr>\n",
       "    <tr>\n",
       "      <th>11</th>\n",
       "      <td>scc_025</td>\n",
       "      <td>[0, 0, 0, 0, 0, 0, 0, 0, 0, 0, 0, 0, 0, 0, 0, ...</td>\n",
       "      <td>0.089616</td>\n",
       "      <td>True</td>\n",
       "    </tr>\n",
       "  </tbody>\n",
       "</table>\n",
       "</div>"
      ],
      "text/plain": [
       "     method                                          partition  ari_median  \\\n",
       "k                                                                            \n",
       "14  scc_025  [0, 0, 0, 0, 0, 0, 0, 0, 0, 0, 0, 0, 0, 0, 0, ...    0.090117   \n",
       "22  scc_020  [13, 18, 18, 18, 18, 18, 18, 18, 18, 13, 18, 1...    0.090100   \n",
       "13  scc_025  [0, 0, 0, 0, 0, 0, 0, 0, 0, 0, 0, 0, 0, 0, 0, ...    0.089920   \n",
       "12  scc_025  [0, 0, 0, 0, 0, 0, 0, 0, 0, 0, 0, 0, 0, 0, 0, ...    0.089894   \n",
       "11  scc_025  [0, 0, 0, 0, 0, 0, 0, 0, 0, 0, 0, 0, 0, 0, 0, ...    0.089616   \n",
       "\n",
       "    selected  \n",
       "k             \n",
       "14      True  \n",
       "22      True  \n",
       "13      True  \n",
       "12      True  \n",
       "11      True  "
      ]
     },
     "execution_count": 15,
     "metadata": {},
     "output_type": "execute_result"
    }
   ],
   "source": [
    "best_partitions.head()"
   ]
  },
  {
   "cell_type": "markdown",
   "id": "antique-neighborhood",
   "metadata": {},
   "source": [
    "# Within the \"complex\" branch"
   ]
  },
  {
   "cell_type": "markdown",
   "id": "spare-yugoslavia",
   "metadata": {},
   "source": [
    "## part15 k14 to part16 k14"
   ]
  },
  {
   "cell_type": "code",
   "execution_count": 16,
   "id": "unique-upset",
   "metadata": {},
   "outputs": [],
   "source": [
    "part_one = best_partitions.loc[15, \"partition\"]\n",
    "part_two = best_partitions.loc[16, \"partition\"]"
   ]
  },
  {
   "cell_type": "code",
   "execution_count": 17,
   "id": "promotional-agreement",
   "metadata": {},
   "outputs": [],
   "source": [
    "part_one_clus = data.loc[part_one == 14].index\n",
    "part_two_clus = data.loc[part_two == 14].index"
   ]
  },
  {
   "cell_type": "code",
   "execution_count": 18,
   "id": "visible-theme",
   "metadata": {},
   "outputs": [
    {
     "data": {
      "text/plain": [
       "Index(['1021-Duration_of_light_DIY', '102_raw-Pulse_rate_automated_reading',\n",
       "       '1031-Frequency_of_friendfamily_visits',\n",
       "       '1050-Time_spend_outdoors_in_summer',\n",
       "       '1060-Time_spent_outdoors_in_winter',\n",
       "       '1070-Time_spent_watching_television_TV',\n",
       "       '1080-Time_spent_using_computer', '1090-Time_spent_driving',\n",
       "       '1100-Drive_faster_than_motorway_speed_limit',\n",
       "       '110001-Invitation_to_complete_online_24hour_recall_dietary_questionnaire_acceptance',\n",
       "       ...\n",
       "       'self reported educational attainment', 'sleep duration',\n",
       "       'smoking behavior', 'smoking cessation', 'snoring measurement',\n",
       "       'tiredness measurement', 'type i diabetes mellitus', 'varicose veins',\n",
       "       'wheezing', 'worry measurement'],\n",
       "      dtype='object', length=326)"
      ]
     },
     "execution_count": 18,
     "metadata": {},
     "output_type": "execute_result"
    }
   ],
   "source": [
    "part_one_clus"
   ]
  },
  {
   "cell_type": "code",
   "execution_count": 19,
   "id": "miniature-royalty",
   "metadata": {},
   "outputs": [
    {
     "data": {
      "text/plain": [
       "Index(['20003_1140883066-Treatmentmedication_code_insulin_product',\n",
       "       '20003_1141191044-Treatmentmedication_code_levothyroxine_sodium',\n",
       "       '2986-Started_insulin_within_one_year_diagnosis_of_diabetes',\n",
       "       '6144_3-Never_eat_eggs_dairy_wheat_sugar_Wheat_products',\n",
       "       'hyperthyroidism AND thyrotoxicosis', 'hypothyroidism AND myxedema',\n",
       "       'psoriasis'],\n",
       "      dtype='object')"
      ]
     },
     "execution_count": 19,
     "metadata": {},
     "output_type": "execute_result"
    }
   ],
   "source": [
    "part_two_clus"
   ]
  },
  {
   "cell_type": "code",
   "execution_count": 20,
   "id": "temporal-foster",
   "metadata": {},
   "outputs": [
    {
     "data": {
      "text/plain": [
       "Index(['20003_1140883066-Treatmentmedication_code_insulin_product', '2986-Started_insulin_within_one_year_diagnosis_of_diabetes'], dtype='object')"
      ]
     },
     "execution_count": 20,
     "metadata": {},
     "output_type": "execute_result"
    }
   ],
   "source": [
    "part_one_clus.intersection(part_two_clus)"
   ]
  },
  {
   "cell_type": "markdown",
   "id": "pressing-kelly",
   "metadata": {},
   "source": [
    "## part25 k24 to part26 k15"
   ]
  },
  {
   "cell_type": "code",
   "execution_count": 21,
   "id": "coastal-restoration",
   "metadata": {},
   "outputs": [],
   "source": [
    "part_one = best_partitions.loc[25, \"partition\"]\n",
    "part_two = best_partitions.loc[26, \"partition\"]"
   ]
  },
  {
   "cell_type": "code",
   "execution_count": 22,
   "id": "british-gnome",
   "metadata": {},
   "outputs": [],
   "source": [
    "part_one_clus = data.loc[part_one == 24].index\n",
    "part_two_clus = data.loc[part_two == 15].index"
   ]
  },
  {
   "cell_type": "code",
   "execution_count": 23,
   "id": "enclosed-lover",
   "metadata": {},
   "outputs": [
    {
     "data": {
      "text/plain": [
       "Index(['1021-Duration_of_light_DIY', '102_raw-Pulse_rate_automated_reading',\n",
       "       '1031-Frequency_of_friendfamily_visits',\n",
       "       '1050-Time_spend_outdoors_in_summer',\n",
       "       '1060-Time_spent_outdoors_in_winter',\n",
       "       '1070-Time_spent_watching_television_TV',\n",
       "       '1080-Time_spent_using_computer', '1090-Time_spent_driving',\n",
       "       '1100-Drive_faster_than_motorway_speed_limit',\n",
       "       '110001-Invitation_to_complete_online_24hour_recall_dietary_questionnaire_acceptance',\n",
       "       ...\n",
       "       'self reported educational attainment', 'sleep duration',\n",
       "       'smoking behavior', 'smoking cessation', 'snoring measurement',\n",
       "       'tiredness measurement', 'type i diabetes mellitus', 'varicose veins',\n",
       "       'wheezing', 'worry measurement'],\n",
       "      dtype='object', length=154)"
      ]
     },
     "execution_count": 23,
     "metadata": {},
     "output_type": "execute_result"
    }
   ],
   "source": [
    "part_one_clus"
   ]
  },
  {
   "cell_type": "code",
   "execution_count": 24,
   "id": "tested-italian",
   "metadata": {},
   "outputs": [
    {
     "data": {
      "text/plain": [
       "Index(['20003_1140883066-Treatmentmedication_code_insulin_product',\n",
       "       '20003_1141191044-Treatmentmedication_code_levothyroxine_sodium',\n",
       "       '2976_raw-Age_diabetes_diagnosed',\n",
       "       '2986-Started_insulin_within_one_year_diagnosis_of_diabetes',\n",
       "       '6144_3-Never_eat_eggs_dairy_wheat_sugar_Wheat_products',\n",
       "       '6153_3-Medication_for_cholesterol_blood_pressure_diabetes_or_take_exogenous_hormones_Insulin',\n",
       "       '6177_3-Medication_for_cholesterol_blood_pressure_or_diabetes_Insulin',\n",
       "       'hyperthyroidism AND thyrotoxicosis', 'hypothyroidism AND myxedema',\n",
       "       'psoriasis'],\n",
       "      dtype='object')"
      ]
     },
     "execution_count": 24,
     "metadata": {},
     "output_type": "execute_result"
    }
   ],
   "source": [
    "part_two_clus"
   ]
  },
  {
   "cell_type": "code",
   "execution_count": 25,
   "id": "removed-league",
   "metadata": {},
   "outputs": [
    {
     "data": {
      "text/plain": [
       "Index(['2976_raw-Age_diabetes_diagnosed',\n",
       "       '6153_3-Medication_for_cholesterol_blood_pressure_diabetes_or_take_exogenous_hormones_Insulin',\n",
       "       '6177_3-Medication_for_cholesterol_blood_pressure_or_diabetes_Insulin'],\n",
       "      dtype='object')"
      ]
     },
     "execution_count": 25,
     "metadata": {},
     "output_type": "execute_result"
    }
   ],
   "source": [
    "part_one_clus.intersection(part_two_clus)"
   ]
  },
  {
   "cell_type": "markdown",
   "id": "wrapped-joining",
   "metadata": {},
   "source": [
    "## part26 k13 to part29 k21"
   ]
  },
  {
   "cell_type": "code",
   "execution_count": 26,
   "id": "vocal-rocket",
   "metadata": {},
   "outputs": [],
   "source": [
    "part_one = best_partitions.loc[26, \"partition\"]\n",
    "part_two = best_partitions.loc[29, \"partition\"]"
   ]
  },
  {
   "cell_type": "code",
   "execution_count": 27,
   "id": "stock-tension",
   "metadata": {},
   "outputs": [],
   "source": [
    "part_one_clus = data.loc[part_one == 13].index\n",
    "part_two_clus = data.loc[part_two == 21].index"
   ]
  },
  {
   "cell_type": "code",
   "execution_count": 28,
   "id": "embedded-utilization",
   "metadata": {},
   "outputs": [
    {
     "data": {
      "text/plain": [
       "Index(['EAGLE_Eczema', 'Jones_et_al_2016_Chronotype', 'MAGNETIC_CH2.DB.ratio',\n",
       "       'MAGNETIC_HDL.C', 'MAGNETIC_IDL.TG', 'MAGNETIC_LDL.C',\n",
       "       'alzheimer's disease', 'attention deficit hyperactivity disorder',\n",
       "       'coronary artery disease', 'estrogen-receptor negative breast cancer',\n",
       "       'estrogen-receptor positive breast cancer',\n",
       "       'family history of breast cancer', 'fasting blood glucose measurement',\n",
       "       'fasting blood insulin measurement', 'inflammatory bowel disease'],\n",
       "      dtype='object')"
      ]
     },
     "execution_count": 28,
     "metadata": {},
     "output_type": "execute_result"
    }
   ],
   "source": [
    "part_one_clus"
   ]
  },
  {
   "cell_type": "code",
   "execution_count": 29,
   "id": "proof-commission",
   "metadata": {},
   "outputs": [
    {
     "data": {
      "text/plain": [
       "Index(['EAGLE_Eczema', 'SSGAC_Education_Years_Pooled',\n",
       "       'attention deficit hyperactivity disorder', 'bone density',\n",
       "       'inflammatory bowel disease', 'intracranial volume measurement',\n",
       "       'schizophrenia'],\n",
       "      dtype='object')"
      ]
     },
     "execution_count": 29,
     "metadata": {},
     "output_type": "execute_result"
    }
   ],
   "source": [
    "part_two_clus"
   ]
  },
  {
   "cell_type": "code",
   "execution_count": 30,
   "id": "after-jewelry",
   "metadata": {},
   "outputs": [
    {
     "data": {
      "text/plain": [
       "Index(['EAGLE_Eczema', 'attention deficit hyperactivity disorder',\n",
       "       'inflammatory bowel disease'],\n",
       "      dtype='object')"
      ]
     },
     "execution_count": 30,
     "metadata": {},
     "output_type": "execute_result"
    }
   ],
   "source": [
    "part_one_clus.intersection(part_two_clus)"
   ]
  },
  {
   "cell_type": "markdown",
   "id": "frank-reference",
   "metadata": {},
   "source": [
    "# Between branches"
   ]
  },
  {
   "cell_type": "markdown",
   "id": "premier-reconstruction",
   "metadata": {},
   "source": [
    "## part22 k13 to part25 k23"
   ]
  },
  {
   "cell_type": "code",
   "execution_count": 31,
   "id": "accurate-seafood",
   "metadata": {},
   "outputs": [],
   "source": [
    "part_one = best_partitions.loc[22, \"partition\"]\n",
    "part_two = best_partitions.loc[25, \"partition\"]"
   ]
  },
  {
   "cell_type": "code",
   "execution_count": 32,
   "id": "demonstrated-diagram",
   "metadata": {},
   "outputs": [],
   "source": [
    "part_one_clus = data.loc[part_one == 13].index\n",
    "part_two_clus = data.loc[part_two == 23].index"
   ]
  },
  {
   "cell_type": "code",
   "execution_count": 33,
   "id": "soviet-april",
   "metadata": {},
   "outputs": [
    {
     "data": {
      "text/plain": [
       "Index(['100001_raw-Food_weight', '100010-Portion_size',\n",
       "       '100013_raw-Vitamin_B12', '100015_raw-Vitamin_C', '100018_raw-Retinol',\n",
       "       '100019_raw-Carotene', '100021_raw-Vitamin_D', '100022-Alcohol',\n",
       "       '100023_raw-Starch', '1001-Duration_of_strenuous_sports',\n",
       "       ...\n",
       "       'viral human hepatitis infection', 'viral meningitis',\n",
       "       'visual impairment', 'vitiligo', 'vitreous body disease',\n",
       "       'vocal cord polyp', 'voice disorders',\n",
       "       'wellbeing measurement AND family relationship', 'whooping cough',\n",
       "       'wrist fracture'],\n",
       "      dtype='object', length=3319)"
      ]
     },
     "execution_count": 33,
     "metadata": {},
     "output_type": "execute_result"
    }
   ],
   "source": [
    "part_one_clus"
   ]
  },
  {
   "cell_type": "code",
   "execution_count": 34,
   "id": "literary-overall",
   "metadata": {},
   "outputs": [
    {
     "data": {
      "text/plain": [
       "Index(['41248_1000-Destinations_on_discharge_from_hospital_recoded_Usual_Place_of_residence',\n",
       "       '4194_raw-Pulse_rate', '4260-Round_of_numeric_memory_test',\n",
       "       '4282-Maximum_digits_remembered_correctly',\n",
       "       '4283-Number_of_rounds_of_numeric_memory_test_performed',\n",
       "       '4290_raw-Duration_screen_displayed', '4291-Number_of_attempts',\n",
       "       '46_raw-Hand_grip_strength_left', '47_raw-Hand_grip_strength_right',\n",
       "       '4825-Noisy_workplace',\n",
       "       ...\n",
       "       '864-Number_of_daysweek_walked_10_minutes', '874_raw-Duration_of_walks',\n",
       "       '884-Number_of_daysweek_of_moderate_physical_activity_10_minutes',\n",
       "       '894-Duration_of_moderate_activity',\n",
       "       '904-Number_of_daysweek_of_vigorous_physical_activity_10_minutes',\n",
       "       '924-Usual_walking_pace',\n",
       "       '943-Frequency_of_stair_climbing_in_last_4_weeks',\n",
       "       '971-Frequency_of_walking_for_pleasure_in_last_4_weeks',\n",
       "       'ICDMAIN_ANY_ENTRY-Any_ICDMAIN_event_in_hilmo_or_causes_of_death',\n",
       "       'episodic memory'],\n",
       "      dtype='object', length=101)"
      ]
     },
     "execution_count": 34,
     "metadata": {},
     "output_type": "execute_result"
    }
   ],
   "source": [
    "part_two_clus"
   ]
  },
  {
   "cell_type": "code",
   "execution_count": 35,
   "id": "sporting-affiliation",
   "metadata": {},
   "outputs": [
    {
     "data": {
      "text/plain": [
       "Index(['41248_1000-Destinations_on_discharge_from_hospital_recoded_Usual_Place_of_residence',\n",
       "       '4290_raw-Duration_screen_displayed',\n",
       "       '5262_raw-Intraocular_pressure_cornealcompensated_left',\n",
       "       '5263_raw-Intraocular_pressure_Goldmanncorrelated_left',\n",
       "       '6138_4-Qualifications_CSEs_or_equivalent',\n",
       "       '6141_1-How_are_people_in_household_related_to_participant_Husband_wife_or_partner',\n",
       "       '6143_3-Transport_type_for_commuting_to_job_workplace_Public_transport',\n",
       "       '6146_1-Attendancedisabilitymobility_allowance_Attendance_allowance',\n",
       "       '6147_1-Reason_for_glassescontact_lenses_For_shortsightedness_ie_only_or_mainly_for_distance_viewing_such_as_driving_cinema_etc_called_myopia',\n",
       "       '6148_100-Eye_problemsdisorders_None_of_the_above',\n",
       "       '6152_5-Blood_clot_DVT_bronchitis_emphysema_asthma_rhinitis_eczema_allergy_diagnosed_by_doctor_Blood_clot_in_the_leg_DVT',\n",
       "       '6154_6-Medication_for_pain_relief_constipation_heartburn_Laxatives_eg_Dulcolax_Senokot',\n",
       "       '6160_5-Leisuresocial_activities_Other_group_activity',\n",
       "       '728-Number_of_vehicles_in_household', '826-Job_involves_shift_work',\n",
       "       '971-Frequency_of_walking_for_pleasure_in_last_4_weeks'],\n",
       "      dtype='object')"
      ]
     },
     "execution_count": 35,
     "metadata": {},
     "output_type": "execute_result"
    }
   ],
   "source": [
    "part_one_clus.intersection(part_two_clus)"
   ]
  },
  {
   "cell_type": "markdown",
   "id": "described-penny",
   "metadata": {},
   "source": [
    "## part26 k0 to part29 k21"
   ]
  },
  {
   "cell_type": "code",
   "execution_count": 36,
   "id": "abstract-burke",
   "metadata": {},
   "outputs": [],
   "source": [
    "part_one = best_partitions.loc[26, \"partition\"]\n",
    "part_two = best_partitions.loc[29, \"partition\"]"
   ]
  },
  {
   "cell_type": "code",
   "execution_count": 37,
   "id": "colored-seafood",
   "metadata": {},
   "outputs": [],
   "source": [
    "part_one_clus = data.loc[part_one == 0].index\n",
    "part_two_clus = data.loc[part_two == 21].index"
   ]
  },
  {
   "cell_type": "code",
   "execution_count": 38,
   "id": "infinite-morris",
   "metadata": {},
   "outputs": [
    {
     "data": {
      "text/plain": [
       "Index(['100001_raw-Food_weight', '100010-Portion_size',\n",
       "       '100013_raw-Vitamin_B12', '100015_raw-Vitamin_C', '100018_raw-Retinol',\n",
       "       '100019_raw-Carotene', '100021_raw-Vitamin_D', '100022-Alcohol',\n",
       "       '100023_raw-Starch', '1001-Duration_of_strenuous_sports',\n",
       "       ...\n",
       "       'viral human hepatitis infection', 'viral meningitis',\n",
       "       'visual impairment', 'vitiligo', 'vitreous body disease',\n",
       "       'vocal cord polyp', 'voice disorders',\n",
       "       'wellbeing measurement AND family relationship', 'whooping cough',\n",
       "       'wrist fracture'],\n",
       "      dtype='object', length=3318)"
      ]
     },
     "execution_count": 38,
     "metadata": {},
     "output_type": "execute_result"
    }
   ],
   "source": [
    "part_one_clus"
   ]
  },
  {
   "cell_type": "code",
   "execution_count": 39,
   "id": "injured-policy",
   "metadata": {},
   "outputs": [
    {
     "data": {
      "text/plain": [
       "Index(['EAGLE_Eczema', 'SSGAC_Education_Years_Pooled',\n",
       "       'attention deficit hyperactivity disorder', 'bone density',\n",
       "       'inflammatory bowel disease', 'intracranial volume measurement',\n",
       "       'schizophrenia'],\n",
       "      dtype='object')"
      ]
     },
     "execution_count": 39,
     "metadata": {},
     "output_type": "execute_result"
    }
   ],
   "source": [
    "part_two_clus"
   ]
  },
  {
   "cell_type": "code",
   "execution_count": 40,
   "id": "deadly-alabama",
   "metadata": {},
   "outputs": [
    {
     "data": {
      "text/plain": [
       "Index(['bone density'], dtype='object')"
      ]
     },
     "execution_count": 40,
     "metadata": {},
     "output_type": "execute_result"
    }
   ],
   "source": [
    "part_one_clus.intersection(part_two_clus)"
   ]
  },
  {
   "cell_type": "code",
   "execution_count": null,
   "id": "light-necklace",
   "metadata": {},
   "outputs": [],
   "source": []
  }
 ],
 "metadata": {
  "jupytext": {
   "cell_metadata_filter": "all,-execution,-papermill,-trusted",
   "formats": "ipynb,py//py:percent"
  },
  "kernelspec": {
   "display_name": "Python 3",
   "language": "python",
   "name": "python3"
  },
  "language_info": {
   "codemirror_mode": {
    "name": "ipython",
    "version": 3
   },
   "file_extension": ".py",
   "mimetype": "text/x-python",
   "name": "python",
   "nbconvert_exporter": "python",
   "pygments_lexer": "ipython3",
   "version": "3.8.8"
  }
 },
 "nbformat": 4,
 "nbformat_minor": 5
}
