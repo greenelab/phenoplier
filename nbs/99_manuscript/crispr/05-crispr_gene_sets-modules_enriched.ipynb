{
 "cells": [
  {
   "cell_type": "markdown",
   "metadata": {
    "papermill": {
     "duration": 0.013393,
     "end_time": "2021-05-21T16:17:59.983722",
     "exception": false,
     "start_time": "2021-05-21T16:17:59.970329",
     "status": "completed"
    },
    "tags": []
   },
   "source": [
    "# Description"
   ]
  },
  {
   "cell_type": "markdown",
   "metadata": {
    "papermill": {
     "duration": 0.009738,
     "end_time": "2021-05-21T16:18:00.004040",
     "exception": false,
     "start_time": "2021-05-21T16:17:59.994302",
     "status": "completed"
    },
    "tags": []
   },
   "source": [
    "This notebooks writes a markdown table (in the manuscript) with the LVs that are enriched with the lipids-altering gene sets."
   ]
  },
  {
   "cell_type": "markdown",
   "metadata": {
    "papermill": {
     "duration": 0.009613,
     "end_time": "2021-05-21T16:18:00.023374",
     "exception": false,
     "start_time": "2021-05-21T16:18:00.013761",
     "status": "completed"
    },
    "tags": []
   },
   "source": [
    "# Modules loading"
   ]
  },
  {
   "cell_type": "code",
   "execution_count": 1,
   "metadata": {
    "papermill": {
     "duration": 0.022807,
     "end_time": "2021-05-21T16:18:00.055721",
     "exception": false,
     "start_time": "2021-05-21T16:18:00.032914",
     "status": "completed"
    },
    "tags": []
   },
   "outputs": [],
   "source": [
    "%load_ext autoreload\n",
    "%autoreload 2"
   ]
  },
  {
   "cell_type": "code",
   "execution_count": 2,
   "metadata": {
    "papermill": {
     "duration": 0.409089,
     "end_time": "2021-05-21T16:18:00.474902",
     "exception": false,
     "start_time": "2021-05-21T16:18:00.065813",
     "status": "completed"
    },
    "tags": []
   },
   "outputs": [],
   "source": [
    "import re\n",
    "from pathlib import Path\n",
    "\n",
    "import numpy as np\n",
    "import pandas as pd\n",
    "from IPython.display import HTML\n",
    "from statsmodels.stats.multitest import multipletests\n",
    "\n",
    "from entity import Trait\n",
    "from data.cache import read_data\n",
    "import conf"
   ]
  },
  {
   "cell_type": "markdown",
   "metadata": {
    "papermill": {
     "duration": 0.010303,
     "end_time": "2021-05-21T16:18:00.496394",
     "exception": false,
     "start_time": "2021-05-21T16:18:00.486091",
     "status": "completed"
    },
    "tags": []
   },
   "source": [
    "# Settings"
   ]
  },
  {
   "cell_type": "code",
   "execution_count": 3,
   "metadata": {
    "papermill": {
     "duration": 0.022959,
     "end_time": "2021-05-21T16:18:00.529723",
     "exception": false,
     "start_time": "2021-05-21T16:18:00.506764",
     "status": "completed"
    },
    "tags": []
   },
   "outputs": [
    {
     "data": {
      "text/plain": [
       "PosixPath('/home/miltondp/projects/labs/greenelab/phenoplier/bases_data/base_orig/results/crispr_analyses/fgsea-hi_conf-all_lvs.tsv')"
      ]
     },
     "metadata": {},
     "output_type": "display_data"
    }
   ],
   "source": [
    "FGSEA_INPUT_FILEPATH = Path(\n",
    "    conf.RESULTS[\"CRISPR_ANALYSES\"][\"BASE_DIR\"], \"fgsea-hi_conf-all_lvs.tsv\"\n",
    ").resolve()\n",
    "\n",
    "display(FGSEA_INPUT_FILEPATH)"
   ]
  },
  {
   "cell_type": "code",
   "execution_count": 4,
   "metadata": {},
   "outputs": [
    {
     "data": {
      "text/plain": [
       "PosixPath('/home/miltondp/projects/labs/greenelab/phenoplier_manuscript/content/50.00.supplementary_material.md')"
      ]
     },
     "metadata": {},
     "output_type": "display_data"
    }
   ],
   "source": [
    "assert \"CONTENT_DIR\" in conf.MANUSCRIPT\n",
    "\n",
    "OUTPUT_FILE_PATH = conf.MANUSCRIPT[\"CONTENT_DIR\"] / \"50.00.supplementary_material.md\"\n",
    "display(OUTPUT_FILE_PATH)\n",
    "assert OUTPUT_FILE_PATH.exists()"
   ]
  },
  {
   "cell_type": "code",
   "execution_count": 5,
   "metadata": {},
   "outputs": [],
   "source": [
    "PVAL_THRESHOLD = 0.01"
   ]
  },
  {
   "cell_type": "markdown",
   "metadata": {
    "papermill": {
     "duration": 0.011168,
     "end_time": "2021-05-21T16:18:00.553474",
     "exception": false,
     "start_time": "2021-05-21T16:18:00.542306",
     "status": "completed"
    },
    "tags": []
   },
   "source": [
    "# Data loading"
   ]
  },
  {
   "cell_type": "markdown",
   "metadata": {
    "tags": []
   },
   "source": [
    "## MultiPLIER summary"
   ]
  },
  {
   "cell_type": "code",
   "execution_count": 6,
   "metadata": {
    "tags": []
   },
   "outputs": [],
   "source": [
    "multiplier_model_summary = pd.read_pickle(conf.MULTIPLIER[\"MODEL_SUMMARY_FILE\"])"
   ]
  },
  {
   "cell_type": "code",
   "execution_count": 7,
   "metadata": {
    "tags": []
   },
   "outputs": [
    {
     "data": {
      "text/plain": [
       "(2157, 5)"
      ]
     },
     "execution_count": 7,
     "metadata": {},
     "output_type": "execute_result"
    }
   ],
   "source": [
    "multiplier_model_summary.shape"
   ]
  },
  {
   "cell_type": "code",
   "execution_count": 8,
   "metadata": {
    "tags": []
   },
   "outputs": [
    {
     "data": {
      "text/html": [
       "<div>\n",
       "<style scoped>\n",
       "    .dataframe tbody tr th:only-of-type {\n",
       "        vertical-align: middle;\n",
       "    }\n",
       "\n",
       "    .dataframe tbody tr th {\n",
       "        vertical-align: top;\n",
       "    }\n",
       "\n",
       "    .dataframe thead th {\n",
       "        text-align: right;\n",
       "    }\n",
       "</style>\n",
       "<table border=\"1\" class=\"dataframe\">\n",
       "  <thead>\n",
       "    <tr style=\"text-align: right;\">\n",
       "      <th></th>\n",
       "      <th>pathway</th>\n",
       "      <th>LV index</th>\n",
       "      <th>AUC</th>\n",
       "      <th>p-value</th>\n",
       "      <th>FDR</th>\n",
       "    </tr>\n",
       "  </thead>\n",
       "  <tbody>\n",
       "    <tr>\n",
       "      <th>1</th>\n",
       "      <td>KEGG_LYSINE_DEGRADATION</td>\n",
       "      <td>1</td>\n",
       "      <td>0.388059</td>\n",
       "      <td>0.866078</td>\n",
       "      <td>0.956005</td>\n",
       "    </tr>\n",
       "    <tr>\n",
       "      <th>2</th>\n",
       "      <td>REACTOME_MRNA_SPLICING</td>\n",
       "      <td>1</td>\n",
       "      <td>0.733057</td>\n",
       "      <td>0.000048</td>\n",
       "      <td>0.000582</td>\n",
       "    </tr>\n",
       "    <tr>\n",
       "      <th>3</th>\n",
       "      <td>MIPS_NOP56P_ASSOCIATED_PRE_RRNA_COMPLEX</td>\n",
       "      <td>1</td>\n",
       "      <td>0.680555</td>\n",
       "      <td>0.001628</td>\n",
       "      <td>0.011366</td>\n",
       "    </tr>\n",
       "    <tr>\n",
       "      <th>4</th>\n",
       "      <td>KEGG_DNA_REPLICATION</td>\n",
       "      <td>1</td>\n",
       "      <td>0.549473</td>\n",
       "      <td>0.312155</td>\n",
       "      <td>0.539951</td>\n",
       "    </tr>\n",
       "    <tr>\n",
       "      <th>5</th>\n",
       "      <td>PID_MYC_ACTIVPATHWAY</td>\n",
       "      <td>1</td>\n",
       "      <td>0.639303</td>\n",
       "      <td>0.021702</td>\n",
       "      <td>0.083739</td>\n",
       "    </tr>\n",
       "  </tbody>\n",
       "</table>\n",
       "</div>"
      ],
      "text/plain": [
       "                                   pathway LV index       AUC   p-value  \\\n",
       "1                  KEGG_LYSINE_DEGRADATION        1  0.388059  0.866078   \n",
       "2                   REACTOME_MRNA_SPLICING        1  0.733057  0.000048   \n",
       "3  MIPS_NOP56P_ASSOCIATED_PRE_RRNA_COMPLEX        1  0.680555  0.001628   \n",
       "4                     KEGG_DNA_REPLICATION        1  0.549473  0.312155   \n",
       "5                     PID_MYC_ACTIVPATHWAY        1  0.639303  0.021702   \n",
       "\n",
       "        FDR  \n",
       "1  0.956005  \n",
       "2  0.000582  \n",
       "3  0.011366  \n",
       "4  0.539951  \n",
       "5  0.083739  "
      ]
     },
     "execution_count": 8,
     "metadata": {},
     "output_type": "execute_result"
    }
   ],
   "source": [
    "multiplier_model_summary.head()"
   ]
  },
  {
   "cell_type": "code",
   "execution_count": 9,
   "metadata": {
    "tags": []
   },
   "outputs": [
    {
     "data": {
      "text/plain": [
       "(463, 5)"
      ]
     },
     "metadata": {},
     "output_type": "display_data"
    },
    {
     "data": {
      "text/html": [
       "<div>\n",
       "<style scoped>\n",
       "    .dataframe tbody tr th:only-of-type {\n",
       "        vertical-align: middle;\n",
       "    }\n",
       "\n",
       "    .dataframe tbody tr th {\n",
       "        vertical-align: top;\n",
       "    }\n",
       "\n",
       "    .dataframe thead th {\n",
       "        text-align: right;\n",
       "    }\n",
       "</style>\n",
       "<table border=\"1\" class=\"dataframe\">\n",
       "  <thead>\n",
       "    <tr style=\"text-align: right;\">\n",
       "      <th></th>\n",
       "      <th>pathway</th>\n",
       "      <th>LV index</th>\n",
       "      <th>AUC</th>\n",
       "      <th>p-value</th>\n",
       "      <th>FDR</th>\n",
       "    </tr>\n",
       "  </thead>\n",
       "  <tbody>\n",
       "    <tr>\n",
       "      <th>2</th>\n",
       "      <td>REACTOME_MRNA_SPLICING</td>\n",
       "      <td>1</td>\n",
       "      <td>0.733057</td>\n",
       "      <td>4.772691e-05</td>\n",
       "      <td>5.816211e-04</td>\n",
       "    </tr>\n",
       "    <tr>\n",
       "      <th>3</th>\n",
       "      <td>MIPS_NOP56P_ASSOCIATED_PRE_RRNA_COMPLEX</td>\n",
       "      <td>1</td>\n",
       "      <td>0.680555</td>\n",
       "      <td>1.628217e-03</td>\n",
       "      <td>1.136590e-02</td>\n",
       "    </tr>\n",
       "    <tr>\n",
       "      <th>8</th>\n",
       "      <td>REACTOME_MITOTIC_G1_G1_S_PHASES</td>\n",
       "      <td>1</td>\n",
       "      <td>0.686170</td>\n",
       "      <td>2.517619e-04</td>\n",
       "      <td>2.392292e-03</td>\n",
       "    </tr>\n",
       "    <tr>\n",
       "      <th>9</th>\n",
       "      <td>IRIS_Monocyte-Day0</td>\n",
       "      <td>2</td>\n",
       "      <td>0.890036</td>\n",
       "      <td>4.315812e-25</td>\n",
       "      <td>1.329887e-22</td>\n",
       "    </tr>\n",
       "    <tr>\n",
       "      <th>10</th>\n",
       "      <td>DMAP_MONO2</td>\n",
       "      <td>2</td>\n",
       "      <td>0.904676</td>\n",
       "      <td>1.313970e-16</td>\n",
       "      <td>1.574574e-14</td>\n",
       "    </tr>\n",
       "  </tbody>\n",
       "</table>\n",
       "</div>"
      ],
      "text/plain": [
       "                                    pathway LV index       AUC       p-value  \\\n",
       "2                    REACTOME_MRNA_SPLICING        1  0.733057  4.772691e-05   \n",
       "3   MIPS_NOP56P_ASSOCIATED_PRE_RRNA_COMPLEX        1  0.680555  1.628217e-03   \n",
       "8           REACTOME_MITOTIC_G1_G1_S_PHASES        1  0.686170  2.517619e-04   \n",
       "9                        IRIS_Monocyte-Day0        2  0.890036  4.315812e-25   \n",
       "10                               DMAP_MONO2        2  0.904676  1.313970e-16   \n",
       "\n",
       "             FDR  \n",
       "2   5.816211e-04  \n",
       "3   1.136590e-02  \n",
       "8   2.392292e-03  \n",
       "9   1.329887e-22  \n",
       "10  1.574574e-14  "
      ]
     },
     "metadata": {},
     "output_type": "display_data"
    }
   ],
   "source": [
    "well_aligned_lvs = multiplier_model_summary[\n",
    "    (\n",
    "        multiplier_model_summary[\"FDR\"] < 0.05\n",
    "    )  # & (multiplier_model_summary[\"AUC\"] >= 0.75)\n",
    "]\n",
    "\n",
    "display(well_aligned_lvs.shape)\n",
    "display(well_aligned_lvs.head())"
   ]
  },
  {
   "cell_type": "code",
   "execution_count": 10,
   "metadata": {
    "tags": []
   },
   "outputs": [],
   "source": [
    "well_aligned_lv_codes = set([f\"LV{lvi}\" for lvi in well_aligned_lvs[\"LV index\"]])"
   ]
  },
  {
   "cell_type": "code",
   "execution_count": 11,
   "metadata": {
    "tags": []
   },
   "outputs": [
    {
     "data": {
      "text/plain": [
       "199"
      ]
     },
     "execution_count": 11,
     "metadata": {},
     "output_type": "execute_result"
    }
   ],
   "source": [
    "len(well_aligned_lv_codes)"
   ]
  },
  {
   "cell_type": "code",
   "execution_count": 12,
   "metadata": {
    "tags": []
   },
   "outputs": [
    {
     "data": {
      "text/plain": [
       "['LV662', 'LV92', 'LV176', 'LV675', 'LV913']"
      ]
     },
     "execution_count": 12,
     "metadata": {},
     "output_type": "execute_result"
    }
   ],
   "source": [
    "list(well_aligned_lv_codes)[:5]"
   ]
  },
  {
   "cell_type": "markdown",
   "metadata": {
    "papermill": {
     "duration": 0.009815,
     "end_time": "2021-05-21T16:18:00.573666",
     "exception": false,
     "start_time": "2021-05-21T16:18:00.563851",
     "status": "completed"
    },
    "tags": []
   },
   "source": [
    "## LVs enrichment on DEG from CRISPR screen"
   ]
  },
  {
   "cell_type": "code",
   "execution_count": 13,
   "metadata": {
    "papermill": {
     "duration": 0.050168,
     "end_time": "2021-05-21T16:18:00.633652",
     "exception": false,
     "start_time": "2021-05-21T16:18:00.583484",
     "status": "completed"
    },
    "tags": []
   },
   "outputs": [],
   "source": [
    "deg_enrich = pd.read_csv(\n",
    "    FGSEA_INPUT_FILEPATH,\n",
    "    sep=\"\\t\",\n",
    ")"
   ]
  },
  {
   "cell_type": "code",
   "execution_count": 14,
   "metadata": {
    "papermill": {
     "duration": 0.023918,
     "end_time": "2021-05-21T16:18:00.667665",
     "exception": false,
     "start_time": "2021-05-21T16:18:00.643747",
     "status": "completed"
    },
    "tags": []
   },
   "outputs": [
    {
     "data": {
      "text/plain": [
       "(1974, 11)"
      ]
     },
     "execution_count": 14,
     "metadata": {},
     "output_type": "execute_result"
    }
   ],
   "source": [
    "deg_enrich.shape"
   ]
  },
  {
   "cell_type": "code",
   "execution_count": 15,
   "metadata": {},
   "outputs": [],
   "source": [
    "deg_enrich = deg_enrich.assign(\n",
    "    lv_aligned=deg_enrich[\"lv\"].apply(lambda x: x in well_aligned_lv_codes)\n",
    ")"
   ]
  },
  {
   "cell_type": "code",
   "execution_count": 16,
   "metadata": {
    "papermill": {
     "duration": 0.051363,
     "end_time": "2021-05-21T16:18:00.729442",
     "exception": false,
     "start_time": "2021-05-21T16:18:00.678079",
     "status": "completed"
    },
    "tags": []
   },
   "outputs": [
    {
     "data": {
      "text/html": [
       "<div>\n",
       "<style scoped>\n",
       "    .dataframe tbody tr th:only-of-type {\n",
       "        vertical-align: middle;\n",
       "    }\n",
       "\n",
       "    .dataframe tbody tr th {\n",
       "        vertical-align: top;\n",
       "    }\n",
       "\n",
       "    .dataframe thead th {\n",
       "        text-align: right;\n",
       "    }\n",
       "</style>\n",
       "<table border=\"1\" class=\"dataframe\">\n",
       "  <thead>\n",
       "    <tr style=\"text-align: right;\">\n",
       "      <th></th>\n",
       "      <th>pathway</th>\n",
       "      <th>pval</th>\n",
       "      <th>padj</th>\n",
       "      <th>log2err</th>\n",
       "      <th>ES</th>\n",
       "      <th>NES</th>\n",
       "      <th>size</th>\n",
       "      <th>leadingEdge</th>\n",
       "      <th>lv</th>\n",
       "      <th>rep_idx</th>\n",
       "      <th>fdr</th>\n",
       "      <th>lv_aligned</th>\n",
       "    </tr>\n",
       "  </thead>\n",
       "  <tbody>\n",
       "    <tr>\n",
       "      <th>0</th>\n",
       "      <td>gene_set_decrease</td>\n",
       "      <td>0.116883</td>\n",
       "      <td>0.233766</td>\n",
       "      <td>0.125640</td>\n",
       "      <td>0.909509</td>\n",
       "      <td>1.237006</td>\n",
       "      <td>5</td>\n",
       "      <td>PCYT2, UBE2J2, FBXW7</td>\n",
       "      <td>LV1</td>\n",
       "      <td>8</td>\n",
       "      <td>0.967285</td>\n",
       "      <td>True</td>\n",
       "    </tr>\n",
       "    <tr>\n",
       "      <th>1</th>\n",
       "      <td>gene_set_increase</td>\n",
       "      <td>0.285714</td>\n",
       "      <td>0.285714</td>\n",
       "      <td>0.072180</td>\n",
       "      <td>0.840253</td>\n",
       "      <td>1.258282</td>\n",
       "      <td>3</td>\n",
       "      <td>ACACA, MBTPS1</td>\n",
       "      <td>LV1</td>\n",
       "      <td>2</td>\n",
       "      <td>0.967285</td>\n",
       "      <td>True</td>\n",
       "    </tr>\n",
       "    <tr>\n",
       "      <th>2</th>\n",
       "      <td>gene_set_decrease</td>\n",
       "      <td>0.741259</td>\n",
       "      <td>0.741259</td>\n",
       "      <td>0.026956</td>\n",
       "      <td>0.751964</td>\n",
       "      <td>1.005845</td>\n",
       "      <td>5</td>\n",
       "      <td>TCF7L2, UBE2J2, PTEN</td>\n",
       "      <td>LV10</td>\n",
       "      <td>10</td>\n",
       "      <td>0.967285</td>\n",
       "      <td>True</td>\n",
       "    </tr>\n",
       "    <tr>\n",
       "      <th>3</th>\n",
       "      <td>gene_set_increase</td>\n",
       "      <td>0.427572</td>\n",
       "      <td>0.720280</td>\n",
       "      <td>0.052805</td>\n",
       "      <td>0.814140</td>\n",
       "      <td>1.320263</td>\n",
       "      <td>3</td>\n",
       "      <td>MBTPS1, DGAT2</td>\n",
       "      <td>LV10</td>\n",
       "      <td>4</td>\n",
       "      <td>0.967285</td>\n",
       "      <td>True</td>\n",
       "    </tr>\n",
       "    <tr>\n",
       "      <th>4</th>\n",
       "      <td>gene_set_decrease</td>\n",
       "      <td>0.908092</td>\n",
       "      <td>0.908092</td>\n",
       "      <td>0.014514</td>\n",
       "      <td>0.540400</td>\n",
       "      <td>0.778719</td>\n",
       "      <td>5</td>\n",
       "      <td>PTEN, TCF7L2</td>\n",
       "      <td>LV100</td>\n",
       "      <td>1</td>\n",
       "      <td>0.974250</td>\n",
       "      <td>False</td>\n",
       "    </tr>\n",
       "  </tbody>\n",
       "</table>\n",
       "</div>"
      ],
      "text/plain": [
       "             pathway      pval      padj   log2err        ES       NES  size  \\\n",
       "0  gene_set_decrease  0.116883  0.233766  0.125640  0.909509  1.237006     5   \n",
       "1  gene_set_increase  0.285714  0.285714  0.072180  0.840253  1.258282     3   \n",
       "2  gene_set_decrease  0.741259  0.741259  0.026956  0.751964  1.005845     5   \n",
       "3  gene_set_increase  0.427572  0.720280  0.052805  0.814140  1.320263     3   \n",
       "4  gene_set_decrease  0.908092  0.908092  0.014514  0.540400  0.778719     5   \n",
       "\n",
       "            leadingEdge     lv  rep_idx       fdr  lv_aligned  \n",
       "0  PCYT2, UBE2J2, FBXW7    LV1        8  0.967285        True  \n",
       "1         ACACA, MBTPS1    LV1        2  0.967285        True  \n",
       "2  TCF7L2, UBE2J2, PTEN   LV10       10  0.967285        True  \n",
       "3         MBTPS1, DGAT2   LV10        4  0.967285        True  \n",
       "4          PTEN, TCF7L2  LV100        1  0.974250       False  "
      ]
     },
     "execution_count": 16,
     "metadata": {},
     "output_type": "execute_result"
    }
   ],
   "source": [
    "deg_enrich.head()"
   ]
  },
  {
   "cell_type": "markdown",
   "metadata": {
    "papermill": {
     "duration": 0.011336,
     "end_time": "2021-05-21T16:18:01.335863",
     "exception": false,
     "start_time": "2021-05-21T16:18:01.324527",
     "status": "completed"
    },
    "tags": []
   },
   "source": [
    "# Get significantly enriched modules"
   ]
  },
  {
   "cell_type": "code",
   "execution_count": 17,
   "metadata": {
    "papermill": {
     "duration": 0.02233,
     "end_time": "2021-05-21T16:18:01.369529",
     "exception": false,
     "start_time": "2021-05-21T16:18:01.347199",
     "status": "completed"
    },
    "tags": []
   },
   "outputs": [],
   "source": [
    "df = deg_enrich[(deg_enrich[\"pval\"] < PVAL_THRESHOLD)].sort_values(\n",
    "    \"pval\", ascending=True\n",
    ")"
   ]
  },
  {
   "cell_type": "code",
   "execution_count": 18,
   "metadata": {
    "papermill": {
     "duration": 0.02233,
     "end_time": "2021-05-21T16:18:01.369529",
     "exception": false,
     "start_time": "2021-05-21T16:18:01.347199",
     "status": "completed"
    },
    "tags": []
   },
   "outputs": [],
   "source": [
    "# df = deg_enrich[(deg_enrich[\"pval\"] < PVAL_THRESHOLD) & (deg_enrich[\"lv_aligned\"])].sort_values(\n",
    "#     \"pval\", ascending=True\n",
    "# )"
   ]
  },
  {
   "cell_type": "code",
   "execution_count": 19,
   "metadata": {
    "papermill": {
     "duration": 0.02233,
     "end_time": "2021-05-21T16:18:01.369529",
     "exception": false,
     "start_time": "2021-05-21T16:18:01.347199",
     "status": "completed"
    },
    "tags": []
   },
   "outputs": [],
   "source": [
    "# df = deg_enrich[(deg_enrich[\"pval\"] < PVAL_THRESHOLD)].sort_values(\n",
    "#     \"pval\", ascending=True\n",
    "# )"
   ]
  },
  {
   "cell_type": "code",
   "execution_count": 20,
   "metadata": {
    "papermill": {
     "duration": 0.021628,
     "end_time": "2021-05-21T16:18:01.403049",
     "exception": false,
     "start_time": "2021-05-21T16:18:01.381421",
     "status": "completed"
    },
    "tags": []
   },
   "outputs": [
    {
     "data": {
      "text/plain": [
       "(15, 12)"
      ]
     },
     "execution_count": 20,
     "metadata": {},
     "output_type": "execute_result"
    }
   ],
   "source": [
    "df.shape"
   ]
  },
  {
   "cell_type": "code",
   "execution_count": 21,
   "metadata": {
    "papermill": {
     "duration": 0.028608,
     "end_time": "2021-05-21T16:18:01.443814",
     "exception": false,
     "start_time": "2021-05-21T16:18:01.415206",
     "status": "completed"
    },
    "tags": []
   },
   "outputs": [
    {
     "data": {
      "text/html": [
       "<div>\n",
       "<style scoped>\n",
       "    .dataframe tbody tr th:only-of-type {\n",
       "        vertical-align: middle;\n",
       "    }\n",
       "\n",
       "    .dataframe tbody tr th {\n",
       "        vertical-align: top;\n",
       "    }\n",
       "\n",
       "    .dataframe thead th {\n",
       "        text-align: right;\n",
       "    }\n",
       "</style>\n",
       "<table border=\"1\" class=\"dataframe\">\n",
       "  <thead>\n",
       "    <tr style=\"text-align: right;\">\n",
       "      <th></th>\n",
       "      <th>pathway</th>\n",
       "      <th>pval</th>\n",
       "      <th>padj</th>\n",
       "      <th>log2err</th>\n",
       "      <th>ES</th>\n",
       "      <th>NES</th>\n",
       "      <th>size</th>\n",
       "      <th>leadingEdge</th>\n",
       "      <th>lv</th>\n",
       "      <th>rep_idx</th>\n",
       "      <th>fdr</th>\n",
       "      <th>lv_aligned</th>\n",
       "    </tr>\n",
       "  </thead>\n",
       "  <tbody>\n",
       "    <tr>\n",
       "      <th>936</th>\n",
       "      <td>gene_set_decrease</td>\n",
       "      <td>0.000554</td>\n",
       "      <td>0.001108</td>\n",
       "      <td>0.477271</td>\n",
       "      <td>0.999703</td>\n",
       "      <td>1.388986</td>\n",
       "      <td>5</td>\n",
       "      <td>FBXW7, TCF7L2</td>\n",
       "      <td>LV520</td>\n",
       "      <td>6</td>\n",
       "      <td>0.967285</td>\n",
       "      <td>False</td>\n",
       "    </tr>\n",
       "    <tr>\n",
       "      <th>1560</th>\n",
       "      <td>gene_set_decrease</td>\n",
       "      <td>0.002201</td>\n",
       "      <td>0.004403</td>\n",
       "      <td>0.431708</td>\n",
       "      <td>0.997776</td>\n",
       "      <td>1.359600</td>\n",
       "      <td>5</td>\n",
       "      <td>UBE2J2, TCF7L2</td>\n",
       "      <td>LV801</td>\n",
       "      <td>6</td>\n",
       "      <td>0.967285</td>\n",
       "      <td>False</td>\n",
       "    </tr>\n",
       "    <tr>\n",
       "      <th>918</th>\n",
       "      <td>gene_set_decrease</td>\n",
       "      <td>0.002460</td>\n",
       "      <td>0.004921</td>\n",
       "      <td>0.431708</td>\n",
       "      <td>0.997331</td>\n",
       "      <td>1.382906</td>\n",
       "      <td>5</td>\n",
       "      <td>FBXW7, TCF7L2</td>\n",
       "      <td>LV512</td>\n",
       "      <td>2</td>\n",
       "      <td>0.967285</td>\n",
       "      <td>False</td>\n",
       "    </tr>\n",
       "    <tr>\n",
       "      <th>327</th>\n",
       "      <td>gene_set_increase</td>\n",
       "      <td>0.003533</td>\n",
       "      <td>0.007067</td>\n",
       "      <td>0.431708</td>\n",
       "      <td>0.998221</td>\n",
       "      <td>1.582398</td>\n",
       "      <td>3</td>\n",
       "      <td>DGAT2, ACACA</td>\n",
       "      <td>LV246</td>\n",
       "      <td>6</td>\n",
       "      <td>0.967285</td>\n",
       "      <td>True</td>\n",
       "    </tr>\n",
       "    <tr>\n",
       "      <th>1140</th>\n",
       "      <td>gene_set_decrease</td>\n",
       "      <td>0.003570</td>\n",
       "      <td>0.007141</td>\n",
       "      <td>0.431708</td>\n",
       "      <td>0.999299</td>\n",
       "      <td>1.400503</td>\n",
       "      <td>5</td>\n",
       "      <td>PTEN, FBXW7</td>\n",
       "      <td>LV612</td>\n",
       "      <td>3</td>\n",
       "      <td>0.967285</td>\n",
       "      <td>True</td>\n",
       "    </tr>\n",
       "    <tr>\n",
       "      <th>690</th>\n",
       "      <td>gene_set_decrease</td>\n",
       "      <td>0.004053</td>\n",
       "      <td>0.008105</td>\n",
       "      <td>0.407018</td>\n",
       "      <td>0.996738</td>\n",
       "      <td>1.348694</td>\n",
       "      <td>5</td>\n",
       "      <td>PCYT2, TCF7L2</td>\n",
       "      <td>LV41</td>\n",
       "      <td>4</td>\n",
       "      <td>0.967285</td>\n",
       "      <td>False</td>\n",
       "    </tr>\n",
       "    <tr>\n",
       "      <th>1341</th>\n",
       "      <td>gene_set_increase</td>\n",
       "      <td>0.004573</td>\n",
       "      <td>0.009147</td>\n",
       "      <td>0.407018</td>\n",
       "      <td>0.998666</td>\n",
       "      <td>1.495780</td>\n",
       "      <td>3</td>\n",
       "      <td>ACACA, DGAT2</td>\n",
       "      <td>LV702</td>\n",
       "      <td>9</td>\n",
       "      <td>0.967285</td>\n",
       "      <td>False</td>\n",
       "    </tr>\n",
       "    <tr>\n",
       "      <th>1129</th>\n",
       "      <td>gene_set_increase</td>\n",
       "      <td>0.005837</td>\n",
       "      <td>0.011675</td>\n",
       "      <td>0.407018</td>\n",
       "      <td>0.996739</td>\n",
       "      <td>1.510660</td>\n",
       "      <td>3</td>\n",
       "      <td>ACACA, DGAT2</td>\n",
       "      <td>LV607</td>\n",
       "      <td>10</td>\n",
       "      <td>0.967285</td>\n",
       "      <td>True</td>\n",
       "    </tr>\n",
       "    <tr>\n",
       "      <th>1757</th>\n",
       "      <td>gene_set_increase</td>\n",
       "      <td>0.006730</td>\n",
       "      <td>0.013459</td>\n",
       "      <td>0.407018</td>\n",
       "      <td>0.997480</td>\n",
       "      <td>1.545604</td>\n",
       "      <td>3</td>\n",
       "      <td>ACACA, DGAT2</td>\n",
       "      <td>LV890</td>\n",
       "      <td>10</td>\n",
       "      <td>0.967285</td>\n",
       "      <td>False</td>\n",
       "    </tr>\n",
       "    <tr>\n",
       "      <th>1640</th>\n",
       "      <td>gene_set_decrease</td>\n",
       "      <td>0.006953</td>\n",
       "      <td>0.013906</td>\n",
       "      <td>0.407018</td>\n",
       "      <td>0.994070</td>\n",
       "      <td>1.374274</td>\n",
       "      <td>5</td>\n",
       "      <td>UBE2J2, TCF7L2</td>\n",
       "      <td>LV838</td>\n",
       "      <td>6</td>\n",
       "      <td>0.967285</td>\n",
       "      <td>True</td>\n",
       "    </tr>\n",
       "    <tr>\n",
       "      <th>1423</th>\n",
       "      <td>gene_set_increase</td>\n",
       "      <td>0.007847</td>\n",
       "      <td>0.015693</td>\n",
       "      <td>0.380730</td>\n",
       "      <td>0.990514</td>\n",
       "      <td>1.474472</td>\n",
       "      <td>3</td>\n",
       "      <td>MBTPS1, DGAT2</td>\n",
       "      <td>LV74</td>\n",
       "      <td>6</td>\n",
       "      <td>0.967285</td>\n",
       "      <td>True</td>\n",
       "    </tr>\n",
       "    <tr>\n",
       "      <th>452</th>\n",
       "      <td>gene_set_decrease</td>\n",
       "      <td>0.008295</td>\n",
       "      <td>0.016590</td>\n",
       "      <td>0.380730</td>\n",
       "      <td>0.994846</td>\n",
       "      <td>1.357329</td>\n",
       "      <td>5</td>\n",
       "      <td>TCF7L2, PTEN</td>\n",
       "      <td>LV302</td>\n",
       "      <td>2</td>\n",
       "      <td>0.967285</td>\n",
       "      <td>False</td>\n",
       "    </tr>\n",
       "    <tr>\n",
       "      <th>1701</th>\n",
       "      <td>gene_set_increase</td>\n",
       "      <td>0.009192</td>\n",
       "      <td>0.018383</td>\n",
       "      <td>0.380730</td>\n",
       "      <td>0.993627</td>\n",
       "      <td>1.457584</td>\n",
       "      <td>3</td>\n",
       "      <td>ACACA, DGAT2</td>\n",
       "      <td>LV865</td>\n",
       "      <td>10</td>\n",
       "      <td>0.967285</td>\n",
       "      <td>True</td>\n",
       "    </tr>\n",
       "    <tr>\n",
       "      <th>1908</th>\n",
       "      <td>gene_set_decrease</td>\n",
       "      <td>0.009192</td>\n",
       "      <td>0.018383</td>\n",
       "      <td>0.380730</td>\n",
       "      <td>0.993773</td>\n",
       "      <td>1.362459</td>\n",
       "      <td>5</td>\n",
       "      <td>TCF7L2, PTEN</td>\n",
       "      <td>LV959</td>\n",
       "      <td>4</td>\n",
       "      <td>0.967285</td>\n",
       "      <td>False</td>\n",
       "    </tr>\n",
       "    <tr>\n",
       "      <th>1649</th>\n",
       "      <td>gene_set_increase</td>\n",
       "      <td>0.009640</td>\n",
       "      <td>0.019280</td>\n",
       "      <td>0.380730</td>\n",
       "      <td>0.988342</td>\n",
       "      <td>1.480415</td>\n",
       "      <td>3</td>\n",
       "      <td>ACACA, DGAT2</td>\n",
       "      <td>LV841</td>\n",
       "      <td>10</td>\n",
       "      <td>0.967285</td>\n",
       "      <td>False</td>\n",
       "    </tr>\n",
       "  </tbody>\n",
       "</table>\n",
       "</div>"
      ],
      "text/plain": [
       "                pathway      pval      padj   log2err        ES       NES  \\\n",
       "936   gene_set_decrease  0.000554  0.001108  0.477271  0.999703  1.388986   \n",
       "1560  gene_set_decrease  0.002201  0.004403  0.431708  0.997776  1.359600   \n",
       "918   gene_set_decrease  0.002460  0.004921  0.431708  0.997331  1.382906   \n",
       "327   gene_set_increase  0.003533  0.007067  0.431708  0.998221  1.582398   \n",
       "1140  gene_set_decrease  0.003570  0.007141  0.431708  0.999299  1.400503   \n",
       "690   gene_set_decrease  0.004053  0.008105  0.407018  0.996738  1.348694   \n",
       "1341  gene_set_increase  0.004573  0.009147  0.407018  0.998666  1.495780   \n",
       "1129  gene_set_increase  0.005837  0.011675  0.407018  0.996739  1.510660   \n",
       "1757  gene_set_increase  0.006730  0.013459  0.407018  0.997480  1.545604   \n",
       "1640  gene_set_decrease  0.006953  0.013906  0.407018  0.994070  1.374274   \n",
       "1423  gene_set_increase  0.007847  0.015693  0.380730  0.990514  1.474472   \n",
       "452   gene_set_decrease  0.008295  0.016590  0.380730  0.994846  1.357329   \n",
       "1701  gene_set_increase  0.009192  0.018383  0.380730  0.993627  1.457584   \n",
       "1908  gene_set_decrease  0.009192  0.018383  0.380730  0.993773  1.362459   \n",
       "1649  gene_set_increase  0.009640  0.019280  0.380730  0.988342  1.480415   \n",
       "\n",
       "      size     leadingEdge     lv  rep_idx       fdr  lv_aligned  \n",
       "936      5   FBXW7, TCF7L2  LV520        6  0.967285       False  \n",
       "1560     5  UBE2J2, TCF7L2  LV801        6  0.967285       False  \n",
       "918      5   FBXW7, TCF7L2  LV512        2  0.967285       False  \n",
       "327      3    DGAT2, ACACA  LV246        6  0.967285        True  \n",
       "1140     5     PTEN, FBXW7  LV612        3  0.967285        True  \n",
       "690      5   PCYT2, TCF7L2   LV41        4  0.967285       False  \n",
       "1341     3    ACACA, DGAT2  LV702        9  0.967285       False  \n",
       "1129     3    ACACA, DGAT2  LV607       10  0.967285        True  \n",
       "1757     3    ACACA, DGAT2  LV890       10  0.967285       False  \n",
       "1640     5  UBE2J2, TCF7L2  LV838        6  0.967285        True  \n",
       "1423     3   MBTPS1, DGAT2   LV74        6  0.967285        True  \n",
       "452      5    TCF7L2, PTEN  LV302        2  0.967285       False  \n",
       "1701     3    ACACA, DGAT2  LV865       10  0.967285        True  \n",
       "1908     5    TCF7L2, PTEN  LV959        4  0.967285       False  \n",
       "1649     3    ACACA, DGAT2  LV841       10  0.967285       False  "
      ]
     },
     "execution_count": 21,
     "metadata": {},
     "output_type": "execute_result"
    }
   ],
   "source": [
    "df.sort_values(\"fdr\")"
   ]
  },
  {
   "cell_type": "markdown",
   "metadata": {},
   "source": [
    "# Prepare table"
   ]
  },
  {
   "cell_type": "code",
   "execution_count": 22,
   "metadata": {},
   "outputs": [],
   "source": [
    "df = df.assign(pval=df[\"pval\"].apply(lambda x: f\"{x:.4f}\"))"
   ]
  },
  {
   "cell_type": "code",
   "execution_count": 23,
   "metadata": {},
   "outputs": [],
   "source": [
    "df = df.assign(fdr=df[\"fdr\"].apply(lambda x: f\"{x:.2e}\"))"
   ]
  },
  {
   "cell_type": "code",
   "execution_count": 24,
   "metadata": {},
   "outputs": [],
   "source": [
    "df = df.rename(\n",
    "    columns={\n",
    "        \"pathway\": \"Lipids gene-set\",\n",
    "        \"pval\": \"p-value\",\n",
    "        \"leadingEdge\": \"Leading edge\",\n",
    "        #         \"fdr\": \"FDR\",\n",
    "        \"lv\": \"Gene module\",\n",
    "    }\n",
    ")"
   ]
  },
  {
   "cell_type": "code",
   "execution_count": 25,
   "metadata": {},
   "outputs": [],
   "source": [
    "df = df.replace(\n",
    "    {\n",
    "        \"Lipids gene-set\": {\n",
    "            \"gene_set_decrease\": \"decrease\",\n",
    "            \"gene_set_increase\": \"increase\",\n",
    "        },\n",
    "    }\n",
    ")"
   ]
  },
  {
   "cell_type": "code",
   "execution_count": 26,
   "metadata": {},
   "outputs": [],
   "source": [
    "df = df.replace(\n",
    "    {\n",
    "        \"Leading edge\": {\n",
    "            \"([A-Z\\d]+)\": \"*\\\\1*\",\n",
    "        }\n",
    "    },\n",
    "    regex=True,\n",
    ")"
   ]
  },
  {
   "cell_type": "code",
   "execution_count": 27,
   "metadata": {},
   "outputs": [],
   "source": [
    "df[\"Gene module\"] = df.apply(\n",
    "    lambda x: f\"**{x['Gene module']}**\" if x[\"lv_aligned\"] else x[\"Gene module\"], axis=1\n",
    ")"
   ]
  },
  {
   "cell_type": "code",
   "execution_count": 28,
   "metadata": {},
   "outputs": [],
   "source": [
    "df = df[[\"Gene module\", \"Lipids gene-set\", \"Leading edge\", \"p-value\"]]"
   ]
  },
  {
   "cell_type": "code",
   "execution_count": 29,
   "metadata": {},
   "outputs": [
    {
     "data": {
      "text/html": [
       "<div>\n",
       "<style scoped>\n",
       "    .dataframe tbody tr th:only-of-type {\n",
       "        vertical-align: middle;\n",
       "    }\n",
       "\n",
       "    .dataframe tbody tr th {\n",
       "        vertical-align: top;\n",
       "    }\n",
       "\n",
       "    .dataframe thead th {\n",
       "        text-align: right;\n",
       "    }\n",
       "</style>\n",
       "<table border=\"1\" class=\"dataframe\">\n",
       "  <thead>\n",
       "    <tr style=\"text-align: right;\">\n",
       "      <th></th>\n",
       "      <th>Gene module</th>\n",
       "      <th>Lipids gene-set</th>\n",
       "      <th>Leading edge</th>\n",
       "      <th>p-value</th>\n",
       "    </tr>\n",
       "  </thead>\n",
       "  <tbody>\n",
       "    <tr>\n",
       "      <th>936</th>\n",
       "      <td>LV520</td>\n",
       "      <td>decrease</td>\n",
       "      <td>*FBXW7*, *TCF7L2*</td>\n",
       "      <td>0.0006</td>\n",
       "    </tr>\n",
       "    <tr>\n",
       "      <th>1560</th>\n",
       "      <td>LV801</td>\n",
       "      <td>decrease</td>\n",
       "      <td>*UBE2J2*, *TCF7L2*</td>\n",
       "      <td>0.0022</td>\n",
       "    </tr>\n",
       "    <tr>\n",
       "      <th>918</th>\n",
       "      <td>LV512</td>\n",
       "      <td>decrease</td>\n",
       "      <td>*FBXW7*, *TCF7L2*</td>\n",
       "      <td>0.0025</td>\n",
       "    </tr>\n",
       "    <tr>\n",
       "      <th>327</th>\n",
       "      <td>**LV246**</td>\n",
       "      <td>increase</td>\n",
       "      <td>*DGAT2*, *ACACA*</td>\n",
       "      <td>0.0035</td>\n",
       "    </tr>\n",
       "    <tr>\n",
       "      <th>1140</th>\n",
       "      <td>**LV612**</td>\n",
       "      <td>decrease</td>\n",
       "      <td>*PTEN*, *FBXW7*</td>\n",
       "      <td>0.0036</td>\n",
       "    </tr>\n",
       "    <tr>\n",
       "      <th>690</th>\n",
       "      <td>LV41</td>\n",
       "      <td>decrease</td>\n",
       "      <td>*PCYT2*, *TCF7L2*</td>\n",
       "      <td>0.0041</td>\n",
       "    </tr>\n",
       "    <tr>\n",
       "      <th>1341</th>\n",
       "      <td>LV702</td>\n",
       "      <td>increase</td>\n",
       "      <td>*ACACA*, *DGAT2*</td>\n",
       "      <td>0.0046</td>\n",
       "    </tr>\n",
       "    <tr>\n",
       "      <th>1129</th>\n",
       "      <td>**LV607**</td>\n",
       "      <td>increase</td>\n",
       "      <td>*ACACA*, *DGAT2*</td>\n",
       "      <td>0.0058</td>\n",
       "    </tr>\n",
       "    <tr>\n",
       "      <th>1757</th>\n",
       "      <td>LV890</td>\n",
       "      <td>increase</td>\n",
       "      <td>*ACACA*, *DGAT2*</td>\n",
       "      <td>0.0067</td>\n",
       "    </tr>\n",
       "    <tr>\n",
       "      <th>1640</th>\n",
       "      <td>**LV838**</td>\n",
       "      <td>decrease</td>\n",
       "      <td>*UBE2J2*, *TCF7L2*</td>\n",
       "      <td>0.0070</td>\n",
       "    </tr>\n",
       "    <tr>\n",
       "      <th>1423</th>\n",
       "      <td>**LV74**</td>\n",
       "      <td>increase</td>\n",
       "      <td>*MBTPS1*, *DGAT2*</td>\n",
       "      <td>0.0078</td>\n",
       "    </tr>\n",
       "    <tr>\n",
       "      <th>452</th>\n",
       "      <td>LV302</td>\n",
       "      <td>decrease</td>\n",
       "      <td>*TCF7L2*, *PTEN*</td>\n",
       "      <td>0.0083</td>\n",
       "    </tr>\n",
       "    <tr>\n",
       "      <th>1701</th>\n",
       "      <td>**LV865**</td>\n",
       "      <td>increase</td>\n",
       "      <td>*ACACA*, *DGAT2*</td>\n",
       "      <td>0.0092</td>\n",
       "    </tr>\n",
       "    <tr>\n",
       "      <th>1908</th>\n",
       "      <td>LV959</td>\n",
       "      <td>decrease</td>\n",
       "      <td>*TCF7L2*, *PTEN*</td>\n",
       "      <td>0.0092</td>\n",
       "    </tr>\n",
       "    <tr>\n",
       "      <th>1649</th>\n",
       "      <td>LV841</td>\n",
       "      <td>increase</td>\n",
       "      <td>*ACACA*, *DGAT2*</td>\n",
       "      <td>0.0096</td>\n",
       "    </tr>\n",
       "  </tbody>\n",
       "</table>\n",
       "</div>"
      ],
      "text/plain": [
       "     Gene module Lipids gene-set        Leading edge p-value\n",
       "936        LV520        decrease   *FBXW7*, *TCF7L2*  0.0006\n",
       "1560       LV801        decrease  *UBE2J2*, *TCF7L2*  0.0022\n",
       "918        LV512        decrease   *FBXW7*, *TCF7L2*  0.0025\n",
       "327    **LV246**        increase    *DGAT2*, *ACACA*  0.0035\n",
       "1140   **LV612**        decrease     *PTEN*, *FBXW7*  0.0036\n",
       "690         LV41        decrease   *PCYT2*, *TCF7L2*  0.0041\n",
       "1341       LV702        increase    *ACACA*, *DGAT2*  0.0046\n",
       "1129   **LV607**        increase    *ACACA*, *DGAT2*  0.0058\n",
       "1757       LV890        increase    *ACACA*, *DGAT2*  0.0067\n",
       "1640   **LV838**        decrease  *UBE2J2*, *TCF7L2*  0.0070\n",
       "1423    **LV74**        increase   *MBTPS1*, *DGAT2*  0.0078\n",
       "452        LV302        decrease    *TCF7L2*, *PTEN*  0.0083\n",
       "1701   **LV865**        increase    *ACACA*, *DGAT2*  0.0092\n",
       "1908       LV959        decrease    *TCF7L2*, *PTEN*  0.0092\n",
       "1649       LV841        increase    *ACACA*, *DGAT2*  0.0096"
      ]
     },
     "execution_count": 29,
     "metadata": {},
     "output_type": "execute_result"
    }
   ],
   "source": [
    "df"
   ]
  },
  {
   "cell_type": "markdown",
   "metadata": {},
   "source": [
    "# Save lipids-increasing"
   ]
  },
  {
   "cell_type": "code",
   "execution_count": 30,
   "metadata": {},
   "outputs": [],
   "source": [
    "gene_set_name = \"increase\""
   ]
  },
  {
   "cell_type": "code",
   "execution_count": 31,
   "metadata": {},
   "outputs": [],
   "source": [
    "# result_set is either phenomexcan or emerge\n",
    "LV_FILE_MARK_TEMPLATE = (\n",
    "    \"<!-- lipids_gene_sets:modules_enriched_{gene_set}:{position} -->\"\n",
    ")"
   ]
  },
  {
   "cell_type": "code",
   "execution_count": 32,
   "metadata": {},
   "outputs": [],
   "source": [
    "TABLE_CAPTION = f\"Table: Gene modules (LVs) nominally enriched for the lipids-increasing gene-set from the CRISPR-screen (*P* < {PVAL_THRESHOLD}). LVs significantly aligned with pathways (FDR < 0.05) from the MultiPLIER models are shown in boldface. {{table_id}}\""
   ]
  },
  {
   "cell_type": "code",
   "execution_count": 33,
   "metadata": {},
   "outputs": [],
   "source": [
    "TABLE_CAPTION_ID = \"#tbl:sup:lipids_crispr:modules_enriched_{gene_set}\""
   ]
  },
  {
   "cell_type": "code",
   "execution_count": 34,
   "metadata": {},
   "outputs": [
    {
     "data": {
      "text/plain": [
       "'<!-- lipids_gene_sets:modules_enriched_increase:start -->'"
      ]
     },
     "metadata": {},
     "output_type": "display_data"
    },
    {
     "data": {
      "text/plain": [
       "'<!-- lipids_gene_sets:modules_enriched_increase:end -->'"
      ]
     },
     "metadata": {},
     "output_type": "display_data"
    },
    {
     "data": {
      "text/plain": [
       "'#tbl:sup:lipids_crispr:modules_enriched_increase'"
      ]
     },
     "metadata": {},
     "output_type": "display_data"
    }
   ],
   "source": [
    "# start\n",
    "lv_file_mark_start = LV_FILE_MARK_TEMPLATE.format(\n",
    "    gene_set=gene_set_name, position=\"start\"\n",
    ")\n",
    "display(lv_file_mark_start)\n",
    "\n",
    "# end\n",
    "lv_file_mark_end = LV_FILE_MARK_TEMPLATE.format(gene_set=gene_set_name, position=\"end\")\n",
    "display(lv_file_mark_end)\n",
    "\n",
    "# table caption\n",
    "TABLE_CAPTION_ID = TABLE_CAPTION_ID.format(gene_set=gene_set_name)\n",
    "display(TABLE_CAPTION_ID)"
   ]
  },
  {
   "cell_type": "code",
   "execution_count": 35,
   "metadata": {},
   "outputs": [],
   "source": [
    "new_content = df[df[\"Lipids gene-set\"] == gene_set_name].to_markdown(\n",
    "    index=False, disable_numparse=True\n",
    ")"
   ]
  },
  {
   "cell_type": "code",
   "execution_count": 36,
   "metadata": {},
   "outputs": [
    {
     "data": {
      "text/plain": [
       "'Table: Gene modules (LVs) nominally enriched for the lipids-increasing gene-set from the CRISPR-screen (*P* < 0.01). LVs significantly aligned with pathways (FDR < 0.05) from the MultiPLIER models are shown in boldface. {#tbl:sup:lipids_crispr:modules_enriched_increase}'"
      ]
     },
     "metadata": {},
     "output_type": "display_data"
    }
   ],
   "source": [
    "# add table caption\n",
    "table_caption = TABLE_CAPTION.format(\n",
    "    table_id=\"{\" + TABLE_CAPTION_ID + \"}\",\n",
    ")\n",
    "display(table_caption)"
   ]
  },
  {
   "cell_type": "code",
   "execution_count": 37,
   "metadata": {},
   "outputs": [],
   "source": [
    "new_content += \"\\n\\n\" + table_caption"
   ]
  },
  {
   "cell_type": "code",
   "execution_count": 38,
   "metadata": {},
   "outputs": [],
   "source": [
    "full_new_content = (\n",
    "    lv_file_mark_start + \"\\n\" + new_content.strip() + \"\\n\" + lv_file_mark_end\n",
    ")"
   ]
  },
  {
   "cell_type": "code",
   "execution_count": 39,
   "metadata": {},
   "outputs": [],
   "source": [
    "with open(OUTPUT_FILE_PATH, \"r\", encoding=\"utf8\") as f:\n",
    "    file_content = f.read()"
   ]
  },
  {
   "cell_type": "code",
   "execution_count": 40,
   "metadata": {},
   "outputs": [],
   "source": [
    "new_file_content = re.sub(\n",
    "    lv_file_mark_start + \".*?\" + lv_file_mark_end,\n",
    "    full_new_content,\n",
    "    file_content,\n",
    "    flags=re.DOTALL,\n",
    ")"
   ]
  },
  {
   "cell_type": "code",
   "execution_count": 41,
   "metadata": {},
   "outputs": [],
   "source": [
    "with open(OUTPUT_FILE_PATH, \"w\", encoding=\"utf8\") as f:\n",
    "    f.write(new_file_content)  # .replace(\"\\beta\", r\"\\beta\"))"
   ]
  },
  {
   "cell_type": "markdown",
   "metadata": {},
   "source": [
    "# Save lipids-decreasing"
   ]
  },
  {
   "cell_type": "code",
   "execution_count": 42,
   "metadata": {},
   "outputs": [],
   "source": [
    "gene_set_name = \"decrease\""
   ]
  },
  {
   "cell_type": "code",
   "execution_count": 43,
   "metadata": {},
   "outputs": [],
   "source": [
    "# result_set is either phenomexcan or emerge\n",
    "LV_FILE_MARK_TEMPLATE = (\n",
    "    \"<!-- lipids_gene_sets:modules_enriched_{gene_set}:{position} -->\"\n",
    ")"
   ]
  },
  {
   "cell_type": "code",
   "execution_count": 44,
   "metadata": {},
   "outputs": [],
   "source": [
    "TABLE_CAPTION = f\"Table: Gene modules (LVs) nominally enriched for the lipids-decreasing gene-set from the CRISPR-screen (*P* < {PVAL_THRESHOLD}). LVs significantly aligned with pathways (FDR < 0.05) from the MultiPLIER models are shown in boldface. {{table_id}}\""
   ]
  },
  {
   "cell_type": "code",
   "execution_count": 45,
   "metadata": {},
   "outputs": [],
   "source": [
    "TABLE_CAPTION_ID = \"#tbl:sup:lipids_crispr:modules_enriched_{gene_set}\""
   ]
  },
  {
   "cell_type": "code",
   "execution_count": 46,
   "metadata": {},
   "outputs": [
    {
     "data": {
      "text/plain": [
       "'<!-- lipids_gene_sets:modules_enriched_decrease:start -->'"
      ]
     },
     "metadata": {},
     "output_type": "display_data"
    },
    {
     "data": {
      "text/plain": [
       "'<!-- lipids_gene_sets:modules_enriched_decrease:end -->'"
      ]
     },
     "metadata": {},
     "output_type": "display_data"
    },
    {
     "data": {
      "text/plain": [
       "'#tbl:sup:lipids_crispr:modules_enriched_decrease'"
      ]
     },
     "metadata": {},
     "output_type": "display_data"
    }
   ],
   "source": [
    "# start\n",
    "lv_file_mark_start = LV_FILE_MARK_TEMPLATE.format(\n",
    "    gene_set=gene_set_name, position=\"start\"\n",
    ")\n",
    "display(lv_file_mark_start)\n",
    "\n",
    "# end\n",
    "lv_file_mark_end = LV_FILE_MARK_TEMPLATE.format(gene_set=gene_set_name, position=\"end\")\n",
    "display(lv_file_mark_end)\n",
    "\n",
    "# table caption\n",
    "TABLE_CAPTION_ID = TABLE_CAPTION_ID.format(gene_set=gene_set_name)\n",
    "display(TABLE_CAPTION_ID)"
   ]
  },
  {
   "cell_type": "code",
   "execution_count": 47,
   "metadata": {},
   "outputs": [],
   "source": [
    "new_content = df[df[\"Lipids gene-set\"] == gene_set_name].to_markdown(\n",
    "    index=False, disable_numparse=True\n",
    ")"
   ]
  },
  {
   "cell_type": "code",
   "execution_count": 48,
   "metadata": {},
   "outputs": [
    {
     "data": {
      "text/plain": [
       "'Table: Gene modules (LVs) nominally enriched for the lipids-decreasing gene-set from the CRISPR-screen (*P* < 0.01). LVs significantly aligned with pathways (FDR < 0.05) from the MultiPLIER models are shown in boldface. {#tbl:sup:lipids_crispr:modules_enriched_decrease}'"
      ]
     },
     "metadata": {},
     "output_type": "display_data"
    }
   ],
   "source": [
    "# add table caption\n",
    "table_caption = TABLE_CAPTION.format(\n",
    "    table_id=\"{\" + TABLE_CAPTION_ID + \"}\",\n",
    ")\n",
    "display(table_caption)"
   ]
  },
  {
   "cell_type": "code",
   "execution_count": 49,
   "metadata": {},
   "outputs": [],
   "source": [
    "new_content += \"\\n\\n\" + table_caption"
   ]
  },
  {
   "cell_type": "code",
   "execution_count": 50,
   "metadata": {},
   "outputs": [],
   "source": [
    "full_new_content = (\n",
    "    lv_file_mark_start + \"\\n\" + new_content.strip() + \"\\n\" + lv_file_mark_end\n",
    ")"
   ]
  },
  {
   "cell_type": "code",
   "execution_count": 51,
   "metadata": {},
   "outputs": [],
   "source": [
    "with open(OUTPUT_FILE_PATH, \"r\", encoding=\"utf8\") as f:\n",
    "    file_content = f.read()"
   ]
  },
  {
   "cell_type": "code",
   "execution_count": 52,
   "metadata": {},
   "outputs": [],
   "source": [
    "new_file_content = re.sub(\n",
    "    lv_file_mark_start + \".*?\" + lv_file_mark_end,\n",
    "    full_new_content,\n",
    "    file_content,\n",
    "    flags=re.DOTALL,\n",
    ")"
   ]
  },
  {
   "cell_type": "code",
   "execution_count": 53,
   "metadata": {},
   "outputs": [],
   "source": [
    "with open(OUTPUT_FILE_PATH, \"w\", encoding=\"utf8\") as f:\n",
    "    f.write(new_file_content)  # .replace(\"\\beta\", r\"\\beta\"))"
   ]
  },
  {
   "cell_type": "code",
   "execution_count": null,
   "metadata": {
    "papermill": {
     "duration": 0.014466,
     "end_time": "2021-05-21T16:18:01.555629",
     "exception": false,
     "start_time": "2021-05-21T16:18:01.541163",
     "status": "completed"
    },
    "tags": []
   },
   "outputs": [],
   "source": []
  }
 ],
 "metadata": {
  "jupytext": {
   "cell_metadata_filter": "all,-execution,-papermill,-trusted",
   "formats": "ipynb,py//py:percent"
  },
  "kernelspec": {
   "display_name": "Python 3",
   "language": "python",
   "name": "python3"
  },
  "language_info": {
   "codemirror_mode": {
    "name": "ipython",
    "version": 3
   },
   "file_extension": ".py",
   "mimetype": "text/x-python",
   "name": "python",
   "nbconvert_exporter": "python",
   "pygments_lexer": "ipython3",
   "version": "3.8.8"
  },
  "papermill": {
   "default_parameters": {},
   "duration": 2.86635,
   "end_time": "2021-05-21T16:18:01.874073",
   "environment_variables": {},
   "exception": null,
   "input_path": "30_validation/crispr_screen/030_15-deg_genes-gsea-pval_adjust.ipynb",
   "output_path": "30_validation/crispr_screen/030_15-deg_genes-gsea-pval_adjust.run.ipynb",
   "parameters": {},
   "start_time": "2021-05-21T16:17:59.007723",
   "version": "2.2.2"
  },
  "toc-autonumbering": true
 },
 "nbformat": 4,
 "nbformat_minor": 4
}
