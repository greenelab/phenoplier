{
 "cells": [
  {
   "cell_type": "markdown",
   "id": "thermal-revelation",
   "metadata": {
    "papermill": {
     "duration": 0.006593,
     "end_time": "2021-05-11T19:09:55.733221",
     "exception": false,
     "start_time": "2021-05-11T19:09:55.726628",
     "status": "completed"
    },
    "tags": []
   },
   "source": [
    "# Description"
   ]
  },
  {
   "cell_type": "markdown",
   "id": "connected-reviewer",
   "metadata": {
    "papermill": {
     "duration": 0.00668,
     "end_time": "2021-05-11T19:09:55.745410",
     "exception": false,
     "start_time": "2021-05-11T19:09:55.738730",
     "status": "completed"
    },
    "tags": []
   },
   "source": [
    "Generates manubot tables for PhenomeXcan and eMERGE associations given an LV name (which is the only parameter that needs to be specified in the Settings section below)."
   ]
  },
  {
   "cell_type": "markdown",
   "id": "downtown-radical",
   "metadata": {
    "papermill": {
     "duration": 0.006223,
     "end_time": "2021-05-11T19:09:55.756959",
     "exception": false,
     "start_time": "2021-05-11T19:09:55.750736",
     "status": "completed"
    },
    "tags": []
   },
   "source": [
    "# Modules loading"
   ]
  },
  {
   "cell_type": "code",
   "execution_count": 1,
   "id": "curious-indonesia",
   "metadata": {
    "papermill": {
     "duration": 0.01906,
     "end_time": "2021-05-11T19:09:55.781515",
     "exception": false,
     "start_time": "2021-05-11T19:09:55.762455",
     "status": "completed"
    },
    "tags": []
   },
   "outputs": [],
   "source": [
    "%load_ext autoreload\n",
    "%autoreload 2"
   ]
  },
  {
   "cell_type": "code",
   "execution_count": 2,
   "id": "immune-bicycle",
   "metadata": {
    "papermill": {
     "duration": 0.993432,
     "end_time": "2021-05-11T19:09:56.780403",
     "exception": false,
     "start_time": "2021-05-11T19:09:55.786971",
     "status": "completed"
    },
    "tags": []
   },
   "outputs": [],
   "source": [
    "import re\n",
    "from pathlib import Path\n",
    "\n",
    "import pandas as pd\n",
    "\n",
    "from entity import Trait\n",
    "import conf"
   ]
  },
  {
   "cell_type": "markdown",
   "id": "final-dimension",
   "metadata": {
    "papermill": {
     "duration": 0.005973,
     "end_time": "2021-05-11T19:09:56.792495",
     "exception": false,
     "start_time": "2021-05-11T19:09:56.786522",
     "status": "completed"
    },
    "tags": []
   },
   "source": [
    "# Settings"
   ]
  },
  {
   "cell_type": "code",
   "execution_count": 3,
   "id": "comic-anxiety",
   "metadata": {
    "papermill": {
     "duration": 0.019548,
     "end_time": "2021-05-11T19:09:56.817689",
     "exception": false,
     "start_time": "2021-05-11T19:09:56.798141",
     "status": "completed"
    },
    "tags": [
     "parameters"
    ]
   },
   "outputs": [],
   "source": [
    "LV_NAME = \"LV847\""
   ]
  },
  {
   "cell_type": "code",
   "execution_count": 4,
   "id": "fancy-today",
   "metadata": {},
   "outputs": [
    {
     "data": {
      "text/plain": [
       "PosixPath('/home/miltondp/projects/labs/greenelab/phenoplier_manuscript/content/50.00.supplementary_material.md')"
      ]
     },
     "metadata": {},
     "output_type": "display_data"
    }
   ],
   "source": [
    "assert (\n",
    "    conf.MANUSCRIPT[\"BASE_DIR\"] is not None\n",
    "), \"The manuscript directory was not configured\"\n",
    "\n",
    "OUTPUT_FILE_PATH = conf.MANUSCRIPT[\"CONTENT_DIR\"] / \"50.00.supplementary_material.md\"\n",
    "display(OUTPUT_FILE_PATH)\n",
    "assert OUTPUT_FILE_PATH.exists()"
   ]
  },
  {
   "cell_type": "code",
   "execution_count": 5,
   "id": "working-colorado",
   "metadata": {},
   "outputs": [],
   "source": [
    "# result_set is either phenomexcan or emerge\n",
    "LV_FILE_MARK_TEMPLATE = \"<!-- {lv}:{result_set}_traits_assocs:{position} -->\""
   ]
  },
  {
   "cell_type": "code",
   "execution_count": 6,
   "id": "incorporated-perspective",
   "metadata": {},
   "outputs": [],
   "source": [
    "TABLE_CAPTION = \"Table: Significant trait associations of {lv_name} in {result_set_name}. {table_id}\""
   ]
  },
  {
   "cell_type": "code",
   "execution_count": 7,
   "id": "documented-church",
   "metadata": {},
   "outputs": [],
   "source": [
    "TABLE_CAPTION_ID = \"#tbl:sup:{result_set}_assocs:{lv_name_lower_case}\""
   ]
  },
  {
   "cell_type": "code",
   "execution_count": 8,
   "id": "increasing-hobby",
   "metadata": {},
   "outputs": [],
   "source": [
    "RESULT_SET_NAMES = {\n",
    "    \"phenomexcan\": \"PhenomeXcan\",\n",
    "    \"emerge\": \"eMERGE\",\n",
    "}"
   ]
  },
  {
   "cell_type": "markdown",
   "id": "raised-klein",
   "metadata": {
    "papermill": {
     "duration": 0.006007,
     "end_time": "2021-05-11T19:09:56.949763",
     "exception": false,
     "start_time": "2021-05-11T19:09:56.943756",
     "status": "completed"
    },
    "tags": []
   },
   "source": [
    "# Load data"
   ]
  },
  {
   "cell_type": "markdown",
   "id": "express-finnish",
   "metadata": {},
   "source": [
    "## PhenomeXcan LV-trait associations"
   ]
  },
  {
   "cell_type": "code",
   "execution_count": 9,
   "id": "determined-spirituality",
   "metadata": {},
   "outputs": [
    {
     "data": {
      "text/plain": [
       "PosixPath('/home/miltondp/projects/labs/greenelab/phenoplier/bases_data/base_orig/results/gls/gls_phenotypes-combined-phenomexcan.pkl')"
      ]
     },
     "metadata": {},
     "output_type": "display_data"
    }
   ],
   "source": [
    "input_filepath = Path(conf.RESULTS[\"GLS\"] / \"gls_phenotypes-combined-phenomexcan.pkl\")\n",
    "display(input_filepath)"
   ]
  },
  {
   "cell_type": "code",
   "execution_count": 10,
   "id": "educational-daughter",
   "metadata": {},
   "outputs": [],
   "source": [
    "phenomexcan_lv_trait_assocs = pd.read_pickle(input_filepath)"
   ]
  },
  {
   "cell_type": "code",
   "execution_count": 11,
   "id": "centered-drawing",
   "metadata": {},
   "outputs": [
    {
     "data": {
      "text/plain": [
       "(5782, 8)"
      ]
     },
     "execution_count": 11,
     "metadata": {},
     "output_type": "execute_result"
    }
   ],
   "source": [
    "phenomexcan_lv_trait_assocs.shape"
   ]
  },
  {
   "cell_type": "code",
   "execution_count": 12,
   "id": "extreme-perspective",
   "metadata": {},
   "outputs": [
    {
     "data": {
      "text/html": [
       "<div>\n",
       "<style scoped>\n",
       "    .dataframe tbody tr th:only-of-type {\n",
       "        vertical-align: middle;\n",
       "    }\n",
       "\n",
       "    .dataframe tbody tr th {\n",
       "        vertical-align: top;\n",
       "    }\n",
       "\n",
       "    .dataframe thead th {\n",
       "        text-align: right;\n",
       "    }\n",
       "</style>\n",
       "<table border=\"1\" class=\"dataframe\">\n",
       "  <thead>\n",
       "    <tr style=\"text-align: right;\">\n",
       "      <th></th>\n",
       "      <th>part_k</th>\n",
       "      <th>cluster_id</th>\n",
       "      <th>phenotype</th>\n",
       "      <th>lv</th>\n",
       "      <th>coef</th>\n",
       "      <th>pvalue</th>\n",
       "      <th>pvalue_twosided</th>\n",
       "      <th>fdr</th>\n",
       "    </tr>\n",
       "  </thead>\n",
       "  <tbody>\n",
       "    <tr>\n",
       "      <th>0</th>\n",
       "      <td>29</td>\n",
       "      <td>22</td>\n",
       "      <td>100002_raw-Energy</td>\n",
       "      <td>LV246</td>\n",
       "      <td>0.002401</td>\n",
       "      <td>0.424213</td>\n",
       "      <td>0.848425</td>\n",
       "      <td>0.680765</td>\n",
       "    </tr>\n",
       "    <tr>\n",
       "      <th>1</th>\n",
       "      <td>29</td>\n",
       "      <td>22</td>\n",
       "      <td>100002_raw-Energy</td>\n",
       "      <td>LV607</td>\n",
       "      <td>-0.006323</td>\n",
       "      <td>0.691499</td>\n",
       "      <td>0.617002</td>\n",
       "      <td>0.873350</td>\n",
       "    </tr>\n",
       "    <tr>\n",
       "      <th>2</th>\n",
       "      <td>29</td>\n",
       "      <td>22</td>\n",
       "      <td>100002_raw-Energy</td>\n",
       "      <td>LV612</td>\n",
       "      <td>-0.000822</td>\n",
       "      <td>0.525786</td>\n",
       "      <td>0.948428</td>\n",
       "      <td>0.763843</td>\n",
       "    </tr>\n",
       "    <tr>\n",
       "      <th>3</th>\n",
       "      <td>29</td>\n",
       "      <td>22</td>\n",
       "      <td>100002_raw-Energy</td>\n",
       "      <td>LV74</td>\n",
       "      <td>-0.006035</td>\n",
       "      <td>0.685313</td>\n",
       "      <td>0.629373</td>\n",
       "      <td>0.870769</td>\n",
       "    </tr>\n",
       "    <tr>\n",
       "      <th>4</th>\n",
       "      <td>29</td>\n",
       "      <td>22</td>\n",
       "      <td>100002_raw-Energy</td>\n",
       "      <td>LV838</td>\n",
       "      <td>0.024454</td>\n",
       "      <td>0.023446</td>\n",
       "      <td>0.046891</td>\n",
       "      <td>0.087403</td>\n",
       "    </tr>\n",
       "  </tbody>\n",
       "</table>\n",
       "</div>"
      ],
      "text/plain": [
       "   part_k  cluster_id          phenotype     lv      coef    pvalue  \\\n",
       "0      29          22  100002_raw-Energy  LV246  0.002401  0.424213   \n",
       "1      29          22  100002_raw-Energy  LV607 -0.006323  0.691499   \n",
       "2      29          22  100002_raw-Energy  LV612 -0.000822  0.525786   \n",
       "3      29          22  100002_raw-Energy   LV74 -0.006035  0.685313   \n",
       "4      29          22  100002_raw-Energy  LV838  0.024454  0.023446   \n",
       "\n",
       "   pvalue_twosided       fdr  \n",
       "0         0.848425  0.680765  \n",
       "1         0.617002  0.873350  \n",
       "2         0.948428  0.763843  \n",
       "3         0.629373  0.870769  \n",
       "4         0.046891  0.087403  "
      ]
     },
     "execution_count": 12,
     "metadata": {},
     "output_type": "execute_result"
    }
   ],
   "source": [
    "phenomexcan_lv_trait_assocs.head()"
   ]
  },
  {
   "cell_type": "markdown",
   "id": "mediterranean-juvenile",
   "metadata": {},
   "source": [
    "## eMERGE LV-trait associations"
   ]
  },
  {
   "cell_type": "code",
   "execution_count": 13,
   "id": "sensitive-florist",
   "metadata": {},
   "outputs": [
    {
     "data": {
      "text/plain": [
       "PosixPath('/home/miltondp/projects/labs/greenelab/phenoplier/bases_data/base_orig/results/gls/gls_phenotypes-combined-emerge.pkl')"
      ]
     },
     "metadata": {},
     "output_type": "display_data"
    }
   ],
   "source": [
    "input_filepath = Path(conf.RESULTS[\"GLS\"] / \"gls_phenotypes-combined-emerge.pkl\")\n",
    "display(input_filepath)"
   ]
  },
  {
   "cell_type": "code",
   "execution_count": 14,
   "id": "compressed-summer",
   "metadata": {},
   "outputs": [],
   "source": [
    "emerge_lv_trait_assocs = pd.read_pickle(input_filepath)"
   ]
  },
  {
   "cell_type": "code",
   "execution_count": 15,
   "id": "approved-building",
   "metadata": {},
   "outputs": [
    {
     "data": {
      "text/plain": [
       "(7725, 6)"
      ]
     },
     "execution_count": 15,
     "metadata": {},
     "output_type": "execute_result"
    }
   ],
   "source": [
    "emerge_lv_trait_assocs.shape"
   ]
  },
  {
   "cell_type": "code",
   "execution_count": 16,
   "id": "continuous-issue",
   "metadata": {},
   "outputs": [
    {
     "data": {
      "text/html": [
       "<div>\n",
       "<style scoped>\n",
       "    .dataframe tbody tr th:only-of-type {\n",
       "        vertical-align: middle;\n",
       "    }\n",
       "\n",
       "    .dataframe tbody tr th {\n",
       "        vertical-align: top;\n",
       "    }\n",
       "\n",
       "    .dataframe thead th {\n",
       "        text-align: right;\n",
       "    }\n",
       "</style>\n",
       "<table border=\"1\" class=\"dataframe\">\n",
       "  <thead>\n",
       "    <tr style=\"text-align: right;\">\n",
       "      <th></th>\n",
       "      <th>phenotype</th>\n",
       "      <th>lv</th>\n",
       "      <th>coef</th>\n",
       "      <th>pvalue</th>\n",
       "      <th>pvalue_twosided</th>\n",
       "      <th>fdr</th>\n",
       "    </tr>\n",
       "  </thead>\n",
       "  <tbody>\n",
       "    <tr>\n",
       "      <th>0</th>\n",
       "      <td>008</td>\n",
       "      <td>LV246</td>\n",
       "      <td>-0.011008</td>\n",
       "      <td>0.809325</td>\n",
       "      <td>0.381350</td>\n",
       "      <td>0.999418</td>\n",
       "    </tr>\n",
       "    <tr>\n",
       "      <th>1</th>\n",
       "      <td>008</td>\n",
       "      <td>LV30</td>\n",
       "      <td>0.022387</td>\n",
       "      <td>0.038699</td>\n",
       "      <td>0.077397</td>\n",
       "      <td>0.483734</td>\n",
       "    </tr>\n",
       "    <tr>\n",
       "      <th>2</th>\n",
       "      <td>008</td>\n",
       "      <td>LV57</td>\n",
       "      <td>0.003960</td>\n",
       "      <td>0.379121</td>\n",
       "      <td>0.758243</td>\n",
       "      <td>0.961449</td>\n",
       "    </tr>\n",
       "    <tr>\n",
       "      <th>3</th>\n",
       "      <td>008</td>\n",
       "      <td>LV865</td>\n",
       "      <td>-0.008742</td>\n",
       "      <td>0.758337</td>\n",
       "      <td>0.483327</td>\n",
       "      <td>0.999418</td>\n",
       "    </tr>\n",
       "    <tr>\n",
       "      <th>4</th>\n",
       "      <td>008</td>\n",
       "      <td>LV847</td>\n",
       "      <td>-0.028246</td>\n",
       "      <td>0.985827</td>\n",
       "      <td>0.028346</td>\n",
       "      <td>0.999418</td>\n",
       "    </tr>\n",
       "  </tbody>\n",
       "</table>\n",
       "</div>"
      ],
      "text/plain": [
       "  phenotype     lv      coef    pvalue  pvalue_twosided       fdr\n",
       "0       008  LV246 -0.011008  0.809325         0.381350  0.999418\n",
       "1       008   LV30  0.022387  0.038699         0.077397  0.483734\n",
       "2       008   LV57  0.003960  0.379121         0.758243  0.961449\n",
       "3       008  LV865 -0.008742  0.758337         0.483327  0.999418\n",
       "4       008  LV847 -0.028246  0.985827         0.028346  0.999418"
      ]
     },
     "execution_count": 16,
     "metadata": {},
     "output_type": "execute_result"
    }
   ],
   "source": [
    "emerge_lv_trait_assocs.head()"
   ]
  },
  {
   "cell_type": "markdown",
   "id": "uniform-azerbaijan",
   "metadata": {},
   "source": [
    "## eMERGE traits info"
   ]
  },
  {
   "cell_type": "code",
   "execution_count": 17,
   "id": "electrical-diagnosis",
   "metadata": {},
   "outputs": [
    {
     "data": {
      "text/plain": [
       "PosixPath('/home/miltondp/projects/labs/greenelab/phenoplier/bases_data/base_orig/data/emerge/eMERGE_III_PMBB_GSA_v2_2020_phecode_AFR_EUR_cc50_counts_w_dictionary.txt')"
      ]
     },
     "metadata": {},
     "output_type": "display_data"
    }
   ],
   "source": [
    "input_filepath = conf.EMERGE[\"DESC_FILE_WITH_SAMPLE_SIZE\"]\n",
    "display(input_filepath)"
   ]
  },
  {
   "cell_type": "code",
   "execution_count": 18,
   "id": "found-musical",
   "metadata": {},
   "outputs": [],
   "source": [
    "emerge_traits_info = pd.read_csv(\n",
    "    input_filepath,\n",
    "    sep=\"\\t\",\n",
    "    dtype={\"phecode\": str},\n",
    "    usecols=[\n",
    "        \"phecode\",\n",
    "        \"phenotype\",\n",
    "        \"category\",\n",
    "        \"eMERGE_III_EUR_case\",\n",
    "        \"eMERGE_III_EUR_control\",\n",
    "    ],\n",
    ")"
   ]
  },
  {
   "cell_type": "code",
   "execution_count": 19,
   "id": "colonial-electric",
   "metadata": {},
   "outputs": [],
   "source": [
    "emerge_traits_info = emerge_traits_info.set_index(\"phecode\")"
   ]
  },
  {
   "cell_type": "code",
   "execution_count": 20,
   "id": "brief-dynamics",
   "metadata": {},
   "outputs": [],
   "source": [
    "emerge_traits_info = emerge_traits_info.rename(\n",
    "    columns={\n",
    "        \"eMERGE_III_EUR_case\": \"eur_n_cases\",\n",
    "        \"eMERGE_III_EUR_control\": \"eur_n_controls\",\n",
    "    }\n",
    ")"
   ]
  },
  {
   "cell_type": "code",
   "execution_count": 21,
   "id": "expected-merit",
   "metadata": {},
   "outputs": [
    {
     "data": {
      "text/plain": [
       "(309, 4)"
      ]
     },
     "execution_count": 21,
     "metadata": {},
     "output_type": "execute_result"
    }
   ],
   "source": [
    "emerge_traits_info.shape"
   ]
  },
  {
   "cell_type": "code",
   "execution_count": 22,
   "id": "vertical-rocket",
   "metadata": {},
   "outputs": [
    {
     "data": {
      "text/html": [
       "<div>\n",
       "<style scoped>\n",
       "    .dataframe tbody tr th:only-of-type {\n",
       "        vertical-align: middle;\n",
       "    }\n",
       "\n",
       "    .dataframe tbody tr th {\n",
       "        vertical-align: top;\n",
       "    }\n",
       "\n",
       "    .dataframe thead th {\n",
       "        text-align: right;\n",
       "    }\n",
       "</style>\n",
       "<table border=\"1\" class=\"dataframe\">\n",
       "  <thead>\n",
       "    <tr style=\"text-align: right;\">\n",
       "      <th></th>\n",
       "      <th>eur_n_cases</th>\n",
       "      <th>eur_n_controls</th>\n",
       "      <th>phenotype</th>\n",
       "      <th>category</th>\n",
       "    </tr>\n",
       "    <tr>\n",
       "      <th>phecode</th>\n",
       "      <th></th>\n",
       "      <th></th>\n",
       "      <th></th>\n",
       "      <th></th>\n",
       "    </tr>\n",
       "  </thead>\n",
       "  <tbody>\n",
       "    <tr>\n",
       "      <th>008</th>\n",
       "      <td>1639</td>\n",
       "      <td>57495</td>\n",
       "      <td>Intestinal infection</td>\n",
       "      <td>infectious diseases</td>\n",
       "    </tr>\n",
       "    <tr>\n",
       "      <th>008.5</th>\n",
       "      <td>1024</td>\n",
       "      <td>57495</td>\n",
       "      <td>Bacterial enteritis</td>\n",
       "      <td>infectious diseases</td>\n",
       "    </tr>\n",
       "    <tr>\n",
       "      <th>008.52</th>\n",
       "      <td>893</td>\n",
       "      <td>57495</td>\n",
       "      <td>Intestinal infection due to C. difficile</td>\n",
       "      <td>infectious diseases</td>\n",
       "    </tr>\n",
       "    <tr>\n",
       "      <th>038</th>\n",
       "      <td>3172</td>\n",
       "      <td>50610</td>\n",
       "      <td>Septicemia</td>\n",
       "      <td>infectious diseases</td>\n",
       "    </tr>\n",
       "    <tr>\n",
       "      <th>038.3</th>\n",
       "      <td>1361</td>\n",
       "      <td>50610</td>\n",
       "      <td>Bacteremia</td>\n",
       "      <td>infectious diseases</td>\n",
       "    </tr>\n",
       "  </tbody>\n",
       "</table>\n",
       "</div>"
      ],
      "text/plain": [
       "         eur_n_cases  eur_n_controls  \\\n",
       "phecode                                \n",
       "008             1639           57495   \n",
       "008.5           1024           57495   \n",
       "008.52           893           57495   \n",
       "038             3172           50610   \n",
       "038.3           1361           50610   \n",
       "\n",
       "                                        phenotype             category  \n",
       "phecode                                                                 \n",
       "008                          Intestinal infection  infectious diseases  \n",
       "008.5                         Bacterial enteritis  infectious diseases  \n",
       "008.52   Intestinal infection due to C. difficile  infectious diseases  \n",
       "038                                    Septicemia  infectious diseases  \n",
       "038.3                                  Bacteremia  infectious diseases  "
      ]
     },
     "execution_count": 22,
     "metadata": {},
     "output_type": "execute_result"
    }
   ],
   "source": [
    "emerge_traits_info.head()"
   ]
  },
  {
   "cell_type": "code",
   "execution_count": 23,
   "id": "thorough-variety",
   "metadata": {},
   "outputs": [],
   "source": [
    "assert emerge_traits_info.index.is_unique"
   ]
  },
  {
   "cell_type": "markdown",
   "id": "dangerous-macintosh",
   "metadata": {
    "lines_to_next_cell": 2
   },
   "source": [
    "# Trait associations"
   ]
  },
  {
   "cell_type": "markdown",
   "id": "amateur-standard",
   "metadata": {},
   "source": [
    "## PhenomeXcan"
   ]
  },
  {
   "cell_type": "code",
   "execution_count": 24,
   "id": "verified-shield",
   "metadata": {},
   "outputs": [],
   "source": [
    "from traits import SHORT_TRAIT_NAMES"
   ]
  },
  {
   "cell_type": "code",
   "execution_count": 25,
   "id": "competitive-fence",
   "metadata": {
    "lines_to_next_cell": 1
   },
   "outputs": [],
   "source": [
    "result_set = \"phenomexcan\""
   ]
  },
  {
   "cell_type": "code",
   "execution_count": 26,
   "id": "computational-travel",
   "metadata": {},
   "outputs": [],
   "source": [
    "def get_trait_objs(phenotype_full_code):\n",
    "    if Trait.is_efo_label(phenotype_full_code):\n",
    "        traits = Trait.get_traits_from_efo(phenotype_full_code)\n",
    "    else:\n",
    "        traits = [Trait.get_trait(full_code=phenotype_full_code)]\n",
    "\n",
    "    # sort by sample size\n",
    "    return sorted(traits, key=lambda x: x.n_cases / x.n, reverse=True)\n",
    "\n",
    "\n",
    "def get_trait_description(phenotype_full_code):\n",
    "    traits = get_trait_objs(phenotype_full_code)\n",
    "\n",
    "    desc = traits[0].description\n",
    "    if desc in SHORT_TRAIT_NAMES:\n",
    "        return SHORT_TRAIT_NAMES[desc]\n",
    "\n",
    "    return desc\n",
    "\n",
    "\n",
    "def get_trait_n(phenotype_full_code):\n",
    "    traits = get_trait_objs(phenotype_full_code)\n",
    "\n",
    "    return traits[0].n\n",
    "\n",
    "\n",
    "def get_trait_n_cases(phenotype_full_code):\n",
    "    traits = get_trait_objs(phenotype_full_code)\n",
    "\n",
    "    return traits[0].n_cases\n",
    "\n",
    "\n",
    "def num_to_int_str(num):\n",
    "    if pd.isnull(num):\n",
    "        return \"\"\n",
    "\n",
    "    return f\"{num:,.0f}\"\n",
    "\n",
    "\n",
    "def get_part_clust(row):\n",
    "    return f\"{row.part_k} / {row.cluster_id}\""
   ]
  },
  {
   "cell_type": "code",
   "execution_count": 27,
   "id": "recreational-caution",
   "metadata": {},
   "outputs": [],
   "source": [
    "lv_assocs = phenomexcan_lv_trait_assocs[\n",
    "    (phenomexcan_lv_trait_assocs[\"lv\"] == LV_NAME)\n",
    "    & (phenomexcan_lv_trait_assocs[\"fdr\"] < 0.05)\n",
    "].sort_values(\"fdr\")"
   ]
  },
  {
   "cell_type": "code",
   "execution_count": 28,
   "id": "antique-knowing",
   "metadata": {},
   "outputs": [
    {
     "data": {
      "text/html": [
       "<div>\n",
       "<style scoped>\n",
       "    .dataframe tbody tr th:only-of-type {\n",
       "        vertical-align: middle;\n",
       "    }\n",
       "\n",
       "    .dataframe tbody tr th {\n",
       "        vertical-align: top;\n",
       "    }\n",
       "\n",
       "    .dataframe thead th {\n",
       "        text-align: right;\n",
       "    }\n",
       "</style>\n",
       "<table border=\"1\" class=\"dataframe\">\n",
       "  <thead>\n",
       "    <tr style=\"text-align: right;\">\n",
       "      <th></th>\n",
       "      <th>part_k</th>\n",
       "      <th>cluster_id</th>\n",
       "      <th>phenotype</th>\n",
       "      <th>lv</th>\n",
       "      <th>coef</th>\n",
       "      <th>pvalue</th>\n",
       "      <th>pvalue_twosided</th>\n",
       "      <th>fdr</th>\n",
       "    </tr>\n",
       "  </thead>\n",
       "  <tbody>\n",
       "    <tr>\n",
       "      <th>5481</th>\n",
       "      <td>29</td>\n",
       "      <td>2</td>\n",
       "      <td>30050_raw-Mean_corpuscular_haemoglobin</td>\n",
       "      <td>LV847</td>\n",
       "      <td>0.234947</td>\n",
       "      <td>7.614625e-76</td>\n",
       "      <td>1.522925e-75</td>\n",
       "      <td>7.337960e-73</td>\n",
       "    </tr>\n",
       "    <tr>\n",
       "      <th>5447</th>\n",
       "      <td>29</td>\n",
       "      <td>2</td>\n",
       "      <td>30040_raw-Mean_corpuscular_volume</td>\n",
       "      <td>LV847</td>\n",
       "      <td>0.197762</td>\n",
       "      <td>2.466464e-53</td>\n",
       "      <td>4.932928e-53</td>\n",
       "      <td>1.426109e-50</td>\n",
       "    </tr>\n",
       "    <tr>\n",
       "      <th>4386</th>\n",
       "      <td>29</td>\n",
       "      <td>17</td>\n",
       "      <td>6153_2-Medication_for_cholesterol_blood_pressure_diabetes_or_take_exogenous_hormones_Blood_pressure_medication</td>\n",
       "      <td>LV847</td>\n",
       "      <td>0.120460</td>\n",
       "      <td>1.884875e-20</td>\n",
       "      <td>3.769749e-20</td>\n",
       "      <td>1.379537e-18</td>\n",
       "    </tr>\n",
       "    <tr>\n",
       "      <th>4320</th>\n",
       "      <td>29</td>\n",
       "      <td>17</td>\n",
       "      <td>6150_100-Vascularheart_problems_diagnosed_by_doctor_None_of_the_above</td>\n",
       "      <td>LV847</td>\n",
       "      <td>0.110380</td>\n",
       "      <td>4.728918e-17</td>\n",
       "      <td>9.457835e-17</td>\n",
       "      <td>2.919110e-15</td>\n",
       "    </tr>\n",
       "    <tr>\n",
       "      <th>4336</th>\n",
       "      <td>29</td>\n",
       "      <td>17</td>\n",
       "      <td>6150_4-Vascularheart_problems_diagnosed_by_doctor_High_blood_pressure</td>\n",
       "      <td>LV847</td>\n",
       "      <td>0.105245</td>\n",
       "      <td>8.668161e-16</td>\n",
       "      <td>1.733632e-15</td>\n",
       "      <td>4.819164e-14</td>\n",
       "    </tr>\n",
       "    <tr>\n",
       "      <th>5067</th>\n",
       "      <td>29</td>\n",
       "      <td>17</td>\n",
       "      <td>hypertension</td>\n",
       "      <td>LV847</td>\n",
       "      <td>0.103803</td>\n",
       "      <td>1.888431e-15</td>\n",
       "      <td>3.776862e-15</td>\n",
       "      <td>1.020459e-13</td>\n",
       "    </tr>\n",
       "    <tr>\n",
       "      <th>2818</th>\n",
       "      <td>29</td>\n",
       "      <td>17</td>\n",
       "      <td>20003_1141194794-Treatmentmedication_code_bendroflumethiazide</td>\n",
       "      <td>LV847</td>\n",
       "      <td>0.080395</td>\n",
       "      <td>3.918204e-10</td>\n",
       "      <td>7.836409e-10</td>\n",
       "      <td>1.058648e-08</td>\n",
       "    </tr>\n",
       "    <tr>\n",
       "      <th>5660</th>\n",
       "      <td>29</td>\n",
       "      <td>2</td>\n",
       "      <td>30270_raw-Mean_sphered_cell_volume</td>\n",
       "      <td>LV847</td>\n",
       "      <td>0.081724</td>\n",
       "      <td>8.283675e-10</td>\n",
       "      <td>1.656735e-09</td>\n",
       "      <td>2.157487e-08</td>\n",
       "    </tr>\n",
       "    <tr>\n",
       "      <th>4467</th>\n",
       "      <td>29</td>\n",
       "      <td>17</td>\n",
       "      <td>6177_2-Medication_for_cholesterol_blood_pressure_or_diabetes_Blood_pressure_medication</td>\n",
       "      <td>LV847</td>\n",
       "      <td>0.076157</td>\n",
       "      <td>4.713269e-09</td>\n",
       "      <td>9.426539e-09</td>\n",
       "      <td>1.135505e-07</td>\n",
       "    </tr>\n",
       "    <tr>\n",
       "      <th>4385</th>\n",
       "      <td>29</td>\n",
       "      <td>17</td>\n",
       "      <td>6153_100-Medication_for_cholesterol_blood_pressure_diabetes_or_take_exogenous_hormones_None_of_the_above</td>\n",
       "      <td>LV847</td>\n",
       "      <td>0.068198</td>\n",
       "      <td>5.961246e-08</td>\n",
       "      <td>1.192249e-07</td>\n",
       "      <td>1.205172e-06</td>\n",
       "    </tr>\n",
       "    <tr>\n",
       "      <th>3918</th>\n",
       "      <td>29</td>\n",
       "      <td>17</td>\n",
       "      <td>4079_raw-Diastolic_blood_pressure_automated_reading</td>\n",
       "      <td>LV847</td>\n",
       "      <td>0.067944</td>\n",
       "      <td>1.552890e-07</td>\n",
       "      <td>3.105780e-07</td>\n",
       "      <td>2.934251e-06</td>\n",
       "    </tr>\n",
       "    <tr>\n",
       "      <th>4450</th>\n",
       "      <td>29</td>\n",
       "      <td>17</td>\n",
       "      <td>6177_100-Medication_for_cholesterol_blood_pressure_or_diabetes_None_of_the_above</td>\n",
       "      <td>LV847</td>\n",
       "      <td>0.065064</td>\n",
       "      <td>2.736497e-07</td>\n",
       "      <td>5.472994e-07</td>\n",
       "      <td>5.007097e-06</td>\n",
       "    </tr>\n",
       "    <tr>\n",
       "      <th>5630</th>\n",
       "      <td>29</td>\n",
       "      <td>2</td>\n",
       "      <td>30260_raw-Mean_reticulocyte_volume</td>\n",
       "      <td>LV847</td>\n",
       "      <td>0.040048</td>\n",
       "      <td>1.338282e-03</td>\n",
       "      <td>2.676563e-03</td>\n",
       "      <td>8.383472e-03</td>\n",
       "    </tr>\n",
       "  </tbody>\n",
       "</table>\n",
       "</div>"
      ],
      "text/plain": [
       "      part_k  cluster_id  \\\n",
       "5481      29           2   \n",
       "5447      29           2   \n",
       "4386      29          17   \n",
       "4320      29          17   \n",
       "4336      29          17   \n",
       "5067      29          17   \n",
       "2818      29          17   \n",
       "5660      29           2   \n",
       "4467      29          17   \n",
       "4385      29          17   \n",
       "3918      29          17   \n",
       "4450      29          17   \n",
       "5630      29           2   \n",
       "\n",
       "                                                                                                           phenotype  \\\n",
       "5481                                                                          30050_raw-Mean_corpuscular_haemoglobin   \n",
       "5447                                                                               30040_raw-Mean_corpuscular_volume   \n",
       "4386  6153_2-Medication_for_cholesterol_blood_pressure_diabetes_or_take_exogenous_hormones_Blood_pressure_medication   \n",
       "4320                                           6150_100-Vascularheart_problems_diagnosed_by_doctor_None_of_the_above   \n",
       "4336                                           6150_4-Vascularheart_problems_diagnosed_by_doctor_High_blood_pressure   \n",
       "5067                                                                                                    hypertension   \n",
       "2818                                                   20003_1141194794-Treatmentmedication_code_bendroflumethiazide   \n",
       "5660                                                                              30270_raw-Mean_sphered_cell_volume   \n",
       "4467                          6177_2-Medication_for_cholesterol_blood_pressure_or_diabetes_Blood_pressure_medication   \n",
       "4385        6153_100-Medication_for_cholesterol_blood_pressure_diabetes_or_take_exogenous_hormones_None_of_the_above   \n",
       "3918                                                             4079_raw-Diastolic_blood_pressure_automated_reading   \n",
       "4450                                6177_100-Medication_for_cholesterol_blood_pressure_or_diabetes_None_of_the_above   \n",
       "5630                                                                              30260_raw-Mean_reticulocyte_volume   \n",
       "\n",
       "         lv      coef        pvalue  pvalue_twosided           fdr  \n",
       "5481  LV847  0.234947  7.614625e-76     1.522925e-75  7.337960e-73  \n",
       "5447  LV847  0.197762  2.466464e-53     4.932928e-53  1.426109e-50  \n",
       "4386  LV847  0.120460  1.884875e-20     3.769749e-20  1.379537e-18  \n",
       "4320  LV847  0.110380  4.728918e-17     9.457835e-17  2.919110e-15  \n",
       "4336  LV847  0.105245  8.668161e-16     1.733632e-15  4.819164e-14  \n",
       "5067  LV847  0.103803  1.888431e-15     3.776862e-15  1.020459e-13  \n",
       "2818  LV847  0.080395  3.918204e-10     7.836409e-10  1.058648e-08  \n",
       "5660  LV847  0.081724  8.283675e-10     1.656735e-09  2.157487e-08  \n",
       "4467  LV847  0.076157  4.713269e-09     9.426539e-09  1.135505e-07  \n",
       "4385  LV847  0.068198  5.961246e-08     1.192249e-07  1.205172e-06  \n",
       "3918  LV847  0.067944  1.552890e-07     3.105780e-07  2.934251e-06  \n",
       "4450  LV847  0.065064  2.736497e-07     5.472994e-07  5.007097e-06  \n",
       "5630  LV847  0.040048  1.338282e-03     2.676563e-03  8.383472e-03  "
      ]
     },
     "metadata": {},
     "output_type": "display_data"
    }
   ],
   "source": [
    "with pd.option_context(\n",
    "    \"display.max_rows\", None, \"display.max_columns\", None, \"display.max_colwidth\", None\n",
    "):\n",
    "    display(lv_assocs)"
   ]
  },
  {
   "cell_type": "code",
   "execution_count": 29,
   "id": "binding-modern",
   "metadata": {},
   "outputs": [],
   "source": [
    "lv_assocs = lv_assocs.assign(\n",
    "    phenotype_desc=lv_assocs[\"phenotype\"].apply(get_trait_description)\n",
    ")"
   ]
  },
  {
   "cell_type": "code",
   "execution_count": 30,
   "id": "adjustable-brief",
   "metadata": {},
   "outputs": [],
   "source": [
    "lv_assocs = lv_assocs.assign(n=lv_assocs[\"phenotype\"].apply(get_trait_n))"
   ]
  },
  {
   "cell_type": "code",
   "execution_count": 31,
   "id": "sonic-narrative",
   "metadata": {},
   "outputs": [],
   "source": [
    "lv_assocs = lv_assocs.assign(n_cases=lv_assocs[\"phenotype\"].apply(get_trait_n_cases))"
   ]
  },
  {
   "cell_type": "code",
   "execution_count": 32,
   "id": "whole-liberal",
   "metadata": {},
   "outputs": [],
   "source": [
    "lv_assocs = lv_assocs.assign(coef=lv_assocs[\"coef\"].apply(lambda x: f\"{x:.3f}\"))"
   ]
  },
  {
   "cell_type": "code",
   "execution_count": 33,
   "id": "smaller-inspection",
   "metadata": {},
   "outputs": [],
   "source": [
    "lv_assocs = lv_assocs.assign(\n",
    "    fdr=lv_assocs[\"fdr\"].apply(lambda x: f\"{x:.2e}\".replace(\"-\", \"&#8209;\"))\n",
    ")"
   ]
  },
  {
   "cell_type": "code",
   "execution_count": 34,
   "id": "cathedral-driving",
   "metadata": {},
   "outputs": [],
   "source": [
    "lv_assocs = lv_assocs.assign(n=lv_assocs[\"n\"].apply(num_to_int_str))"
   ]
  },
  {
   "cell_type": "code",
   "execution_count": 35,
   "id": "current-bandwidth",
   "metadata": {},
   "outputs": [],
   "source": [
    "lv_assocs = lv_assocs.assign(n_cases=lv_assocs[\"n_cases\"].apply(num_to_int_str))"
   ]
  },
  {
   "cell_type": "code",
   "execution_count": 36,
   "id": "integral-customs",
   "metadata": {},
   "outputs": [],
   "source": [
    "lv_assocs = lv_assocs.assign(part_clust=lv_assocs.apply(get_part_clust, axis=1))"
   ]
  },
  {
   "cell_type": "code",
   "execution_count": 37,
   "id": "registered-supplement",
   "metadata": {},
   "outputs": [],
   "source": [
    "lv_assocs = lv_assocs.drop(columns=[\"phenotype\"])"
   ]
  },
  {
   "cell_type": "code",
   "execution_count": 38,
   "id": "written-nickel",
   "metadata": {},
   "outputs": [
    {
     "data": {
      "text/plain": [
       "(13, 11)"
      ]
     },
     "execution_count": 38,
     "metadata": {},
     "output_type": "execute_result"
    }
   ],
   "source": [
    "lv_assocs.shape"
   ]
  },
  {
   "cell_type": "code",
   "execution_count": 39,
   "id": "automated-screen",
   "metadata": {},
   "outputs": [],
   "source": [
    "lv_assocs = lv_assocs[[\"phenotype_desc\", \"n\", \"n_cases\", \"part_clust\", \"fdr\"]]"
   ]
  },
  {
   "cell_type": "code",
   "execution_count": 40,
   "id": "electrical-education",
   "metadata": {},
   "outputs": [],
   "source": [
    "lv_assocs = lv_assocs.rename(\n",
    "    columns={\n",
    "        \"part_clust\": \"Partition / cluster\",\n",
    "        \"lv\": \"Latent variable (LV)\",\n",
    "        #         \"coef\": r\"$\\beta$\",\n",
    "        \"fdr\": \"FDR\",\n",
    "        \"phenotype_desc\": \"Trait description\",\n",
    "        \"n\": \"Sample size\",\n",
    "        \"n_cases\": \"Cases\",\n",
    "    }\n",
    ")"
   ]
  },
  {
   "cell_type": "code",
   "execution_count": 41,
   "id": "public-hungarian",
   "metadata": {},
   "outputs": [
    {
     "data": {
      "text/html": [
       "<div>\n",
       "<style scoped>\n",
       "    .dataframe tbody tr th:only-of-type {\n",
       "        vertical-align: middle;\n",
       "    }\n",
       "\n",
       "    .dataframe tbody tr th {\n",
       "        vertical-align: top;\n",
       "    }\n",
       "\n",
       "    .dataframe thead th {\n",
       "        text-align: right;\n",
       "    }\n",
       "</style>\n",
       "<table border=\"1\" class=\"dataframe\">\n",
       "  <thead>\n",
       "    <tr style=\"text-align: right;\">\n",
       "      <th></th>\n",
       "      <th>Trait description</th>\n",
       "      <th>Sample size</th>\n",
       "      <th>Cases</th>\n",
       "      <th>Partition / cluster</th>\n",
       "      <th>FDR</th>\n",
       "    </tr>\n",
       "  </thead>\n",
       "  <tbody>\n",
       "    <tr>\n",
       "      <th>5481</th>\n",
       "      <td>Mean corpuscular haemoglobin</td>\n",
       "      <td>350,472</td>\n",
       "      <td></td>\n",
       "      <td>29 / 2</td>\n",
       "      <td>7.34e&amp;#8209;73</td>\n",
       "    </tr>\n",
       "    <tr>\n",
       "      <th>5447</th>\n",
       "      <td>Mean corpuscular volume</td>\n",
       "      <td>350,473</td>\n",
       "      <td></td>\n",
       "      <td>29 / 2</td>\n",
       "      <td>1.43e&amp;#8209;50</td>\n",
       "    </tr>\n",
       "    <tr>\n",
       "      <th>4386</th>\n",
       "      <td>Blood pressure medication (females)</td>\n",
       "      <td>193,148</td>\n",
       "      <td>33,519</td>\n",
       "      <td>29 / 17</td>\n",
       "      <td>1.38e&amp;#8209;18</td>\n",
       "    </tr>\n",
       "    <tr>\n",
       "      <th>4320</th>\n",
       "      <td>Heart attack, angina, stroke or hypertension</td>\n",
       "      <td>360,420</td>\n",
       "      <td>253,565</td>\n",
       "      <td>29 / 17</td>\n",
       "      <td>2.92e&amp;#8209;15</td>\n",
       "    </tr>\n",
       "    <tr>\n",
       "      <th>4336</th>\n",
       "      <td>hypertension</td>\n",
       "      <td>360,420</td>\n",
       "      <td>97,139</td>\n",
       "      <td>29 / 17</td>\n",
       "      <td>4.82e&amp;#8209;14</td>\n",
       "    </tr>\n",
       "    <tr>\n",
       "      <th>5067</th>\n",
       "      <td>hypertension (self-reported)</td>\n",
       "      <td>361,141</td>\n",
       "      <td>93,560</td>\n",
       "      <td>29 / 17</td>\n",
       "      <td>1.02e&amp;#8209;13</td>\n",
       "    </tr>\n",
       "    <tr>\n",
       "      <th>2818</th>\n",
       "      <td>Medication: bendroflumethiazide</td>\n",
       "      <td>361,141</td>\n",
       "      <td>20,196</td>\n",
       "      <td>29 / 17</td>\n",
       "      <td>1.06e&amp;#8209;08</td>\n",
       "    </tr>\n",
       "    <tr>\n",
       "      <th>5660</th>\n",
       "      <td>Mean sphered cell volume</td>\n",
       "      <td>344,729</td>\n",
       "      <td></td>\n",
       "      <td>29 / 2</td>\n",
       "      <td>2.16e&amp;#8209;08</td>\n",
       "    </tr>\n",
       "    <tr>\n",
       "      <th>4467</th>\n",
       "      <td>Blood pressure medication (males)</td>\n",
       "      <td>165,340</td>\n",
       "      <td>40,987</td>\n",
       "      <td>29 / 17</td>\n",
       "      <td>1.14e&amp;#8209;07</td>\n",
       "    </tr>\n",
       "    <tr>\n",
       "      <th>4385</th>\n",
       "      <td>Medication for cholesterol, blood pressure, diabetes, or take exogenous hormones (females)</td>\n",
       "      <td>193,148</td>\n",
       "      <td>133,338</td>\n",
       "      <td>29 / 17</td>\n",
       "      <td>1.21e&amp;#8209;06</td>\n",
       "    </tr>\n",
       "    <tr>\n",
       "      <th>3918</th>\n",
       "      <td>Diastolic blood pressure, automated reading</td>\n",
       "      <td>340,162</td>\n",
       "      <td></td>\n",
       "      <td>29 / 17</td>\n",
       "      <td>2.93e&amp;#8209;06</td>\n",
       "    </tr>\n",
       "    <tr>\n",
       "      <th>4450</th>\n",
       "      <td>Medication for cholesterol, blood pressure or diabetes (males)</td>\n",
       "      <td>165,340</td>\n",
       "      <td>110,372</td>\n",
       "      <td>29 / 17</td>\n",
       "      <td>5.01e&amp;#8209;06</td>\n",
       "    </tr>\n",
       "    <tr>\n",
       "      <th>5630</th>\n",
       "      <td>Mean reticulocyte volume</td>\n",
       "      <td>344,728</td>\n",
       "      <td></td>\n",
       "      <td>29 / 2</td>\n",
       "      <td>8.38e&amp;#8209;03</td>\n",
       "    </tr>\n",
       "  </tbody>\n",
       "</table>\n",
       "</div>"
      ],
      "text/plain": [
       "                                                                               Trait description  \\\n",
       "5481                                                                Mean corpuscular haemoglobin   \n",
       "5447                                                                     Mean corpuscular volume   \n",
       "4386                                                         Blood pressure medication (females)   \n",
       "4320                                                Heart attack, angina, stroke or hypertension   \n",
       "4336                                                                                hypertension   \n",
       "5067                                                                hypertension (self-reported)   \n",
       "2818                                                             Medication: bendroflumethiazide   \n",
       "5660                                                                    Mean sphered cell volume   \n",
       "4467                                                           Blood pressure medication (males)   \n",
       "4385  Medication for cholesterol, blood pressure, diabetes, or take exogenous hormones (females)   \n",
       "3918                                                 Diastolic blood pressure, automated reading   \n",
       "4450                              Medication for cholesterol, blood pressure or diabetes (males)   \n",
       "5630                                                                    Mean reticulocyte volume   \n",
       "\n",
       "     Sample size    Cases Partition / cluster             FDR  \n",
       "5481     350,472                       29 / 2  7.34e&#8209;73  \n",
       "5447     350,473                       29 / 2  1.43e&#8209;50  \n",
       "4386     193,148   33,519             29 / 17  1.38e&#8209;18  \n",
       "4320     360,420  253,565             29 / 17  2.92e&#8209;15  \n",
       "4336     360,420   97,139             29 / 17  4.82e&#8209;14  \n",
       "5067     361,141   93,560             29 / 17  1.02e&#8209;13  \n",
       "2818     361,141   20,196             29 / 17  1.06e&#8209;08  \n",
       "5660     344,729                       29 / 2  2.16e&#8209;08  \n",
       "4467     165,340   40,987             29 / 17  1.14e&#8209;07  \n",
       "4385     193,148  133,338             29 / 17  1.21e&#8209;06  \n",
       "3918     340,162                      29 / 17  2.93e&#8209;06  \n",
       "4450     165,340  110,372             29 / 17  5.01e&#8209;06  \n",
       "5630     344,728                       29 / 2  8.38e&#8209;03  "
      ]
     },
     "metadata": {},
     "output_type": "display_data"
    }
   ],
   "source": [
    "with pd.option_context(\n",
    "    \"display.max_rows\", None, \"display.max_columns\", None, \"display.max_colwidth\", None\n",
    "):\n",
    "    display(lv_assocs)"
   ]
  },
  {
   "cell_type": "markdown",
   "id": "processed-cedar",
   "metadata": {},
   "source": [
    "### Fill empty"
   ]
  },
  {
   "cell_type": "code",
   "execution_count": 42,
   "id": "fossil-canberra",
   "metadata": {},
   "outputs": [],
   "source": [
    "if lv_assocs.shape[0] == 0:\n",
    "    lv_assocs.loc[0, \"Trait description\"] = \"No significant associations\"\n",
    "    lv_assocs = lv_assocs.fillna(\"\")"
   ]
  },
  {
   "cell_type": "markdown",
   "id": "regular-polymer",
   "metadata": {},
   "source": [
    "### Save"
   ]
  },
  {
   "cell_type": "code",
   "execution_count": 43,
   "id": "fixed-chrome",
   "metadata": {},
   "outputs": [
    {
     "data": {
      "text/plain": [
       "'<!-- LV847:phenomexcan_traits_assocs:start -->'"
      ]
     },
     "metadata": {},
     "output_type": "display_data"
    },
    {
     "data": {
      "text/plain": [
       "'<!-- LV847:phenomexcan_traits_assocs:end -->'"
      ]
     },
     "metadata": {},
     "output_type": "display_data"
    }
   ],
   "source": [
    "# start\n",
    "lv_file_mark_start = LV_FILE_MARK_TEMPLATE.format(\n",
    "    result_set=result_set, lv=LV_NAME, position=\"start\"\n",
    ")\n",
    "display(lv_file_mark_start)\n",
    "\n",
    "# end\n",
    "lv_file_mark_end = LV_FILE_MARK_TEMPLATE.format(\n",
    "    result_set=result_set, lv=LV_NAME, position=\"end\"\n",
    ")\n",
    "display(lv_file_mark_end)"
   ]
  },
  {
   "cell_type": "code",
   "execution_count": 44,
   "id": "grateful-cambodia",
   "metadata": {},
   "outputs": [],
   "source": [
    "new_content = lv_assocs.to_markdown(index=False, disable_numparse=True)"
   ]
  },
  {
   "cell_type": "code",
   "execution_count": 45,
   "id": "fluid-therapist",
   "metadata": {},
   "outputs": [
    {
     "data": {
      "text/plain": [
       "'Table: Significant trait associations of LV847 in PhenomeXcan. {#tbl:sup:phenomexcan_assocs:lv847}'"
      ]
     },
     "metadata": {},
     "output_type": "display_data"
    }
   ],
   "source": [
    "# add table caption\n",
    "table_caption = TABLE_CAPTION.format(\n",
    "    lv_name=LV_NAME,\n",
    "    result_set_name=RESULT_SET_NAMES[result_set],\n",
    "    table_id=\"{\"\n",
    "    + TABLE_CAPTION_ID.format(result_set=result_set, lv_name_lower_case=LV_NAME.lower())\n",
    "    + \"}\",\n",
    ")\n",
    "display(table_caption)"
   ]
  },
  {
   "cell_type": "code",
   "execution_count": 46,
   "id": "severe-tunnel",
   "metadata": {},
   "outputs": [],
   "source": [
    "new_content += \"\\n\\n\" + table_caption"
   ]
  },
  {
   "cell_type": "code",
   "execution_count": 47,
   "id": "moral-fifty",
   "metadata": {},
   "outputs": [],
   "source": [
    "full_new_content = (\n",
    "    lv_file_mark_start + \"\\n\" + new_content.strip() + \"\\n\" + lv_file_mark_end\n",
    ")"
   ]
  },
  {
   "cell_type": "code",
   "execution_count": 48,
   "id": "narrative-aspect",
   "metadata": {},
   "outputs": [],
   "source": [
    "with open(OUTPUT_FILE_PATH, \"r\", encoding=\"utf8\") as f:\n",
    "    file_content = f.read()"
   ]
  },
  {
   "cell_type": "code",
   "execution_count": 49,
   "id": "instrumental-frame",
   "metadata": {},
   "outputs": [],
   "source": [
    "new_file_content = re.sub(\n",
    "    lv_file_mark_start + \".*?\" + lv_file_mark_end,\n",
    "    full_new_content,\n",
    "    file_content,\n",
    "    flags=re.DOTALL,\n",
    ")"
   ]
  },
  {
   "cell_type": "code",
   "execution_count": 50,
   "id": "spare-structure",
   "metadata": {},
   "outputs": [],
   "source": [
    "with open(OUTPUT_FILE_PATH, \"w\", encoding=\"utf8\") as f:\n",
    "    f.write(new_file_content)  # .replace(\"\\beta\", r\"\\beta\"))"
   ]
  },
  {
   "cell_type": "markdown",
   "id": "preceding-recording",
   "metadata": {},
   "source": [
    "## eMERGE"
   ]
  },
  {
   "cell_type": "code",
   "execution_count": 51,
   "id": "great-enemy",
   "metadata": {},
   "outputs": [],
   "source": [
    "result_set = \"emerge\""
   ]
  },
  {
   "cell_type": "code",
   "execution_count": 52,
   "id": "greater-sleeping",
   "metadata": {},
   "outputs": [],
   "source": [
    "lv_assocs = emerge_lv_trait_assocs[\n",
    "    (emerge_lv_trait_assocs[\"lv\"] == LV_NAME) & (emerge_lv_trait_assocs[\"fdr\"] < 0.05)\n",
    "].sort_values(\"fdr\")"
   ]
  },
  {
   "cell_type": "code",
   "execution_count": 53,
   "id": "outdoor-victim",
   "metadata": {},
   "outputs": [
    {
     "data": {
      "text/html": [
       "<div>\n",
       "<style scoped>\n",
       "    .dataframe tbody tr th:only-of-type {\n",
       "        vertical-align: middle;\n",
       "    }\n",
       "\n",
       "    .dataframe tbody tr th {\n",
       "        vertical-align: top;\n",
       "    }\n",
       "\n",
       "    .dataframe thead th {\n",
       "        text-align: right;\n",
       "    }\n",
       "</style>\n",
       "<table border=\"1\" class=\"dataframe\">\n",
       "  <thead>\n",
       "    <tr style=\"text-align: right;\">\n",
       "      <th></th>\n",
       "      <th>phenotype</th>\n",
       "      <th>lv</th>\n",
       "      <th>coef</th>\n",
       "      <th>pvalue</th>\n",
       "      <th>pvalue_twosided</th>\n",
       "      <th>fdr</th>\n",
       "    </tr>\n",
       "  </thead>\n",
       "  <tbody>\n",
       "    <tr>\n",
       "      <th>6355</th>\n",
       "      <td>585.32</td>\n",
       "      <td>LV847</td>\n",
       "      <td>0.085519</td>\n",
       "      <td>2.009862e-11</td>\n",
       "      <td>4.019723e-11</td>\n",
       "      <td>3.105236e-08</td>\n",
       "    </tr>\n",
       "    <tr>\n",
       "      <th>4611</th>\n",
       "      <td>443</td>\n",
       "      <td>LV847</td>\n",
       "      <td>0.074540</td>\n",
       "      <td>4.280645e-09</td>\n",
       "      <td>8.561290e-09</td>\n",
       "      <td>4.133498e-06</td>\n",
       "    </tr>\n",
       "    <tr>\n",
       "      <th>4558</th>\n",
       "      <td>442.1</td>\n",
       "      <td>LV847</td>\n",
       "      <td>0.071741</td>\n",
       "      <td>1.343526e-08</td>\n",
       "      <td>2.687053e-08</td>\n",
       "      <td>1.008865e-05</td>\n",
       "    </tr>\n",
       "    <tr>\n",
       "      <th>3174</th>\n",
       "      <td>411.3</td>\n",
       "      <td>LV847</td>\n",
       "      <td>0.067822</td>\n",
       "      <td>6.651013e-08</td>\n",
       "      <td>1.330203e-07</td>\n",
       "      <td>4.281590e-05</td>\n",
       "    </tr>\n",
       "    <tr>\n",
       "      <th>4514</th>\n",
       "      <td>440.2</td>\n",
       "      <td>LV847</td>\n",
       "      <td>0.066820</td>\n",
       "      <td>1.106058e-07</td>\n",
       "      <td>2.212116e-07</td>\n",
       "      <td>6.572537e-05</td>\n",
       "    </tr>\n",
       "    <tr>\n",
       "      <th>3320</th>\n",
       "      <td>415.11</td>\n",
       "      <td>LV847</td>\n",
       "      <td>0.065924</td>\n",
       "      <td>1.922252e-07</td>\n",
       "      <td>3.844504e-07</td>\n",
       "      <td>9.899598e-05</td>\n",
       "    </tr>\n",
       "    <tr>\n",
       "      <th>3390</th>\n",
       "      <td>416</td>\n",
       "      <td>LV847</td>\n",
       "      <td>0.064236</td>\n",
       "      <td>2.783521e-07</td>\n",
       "      <td>5.567043e-07</td>\n",
       "      <td>1.343919e-04</td>\n",
       "    </tr>\n",
       "    <tr>\n",
       "      <th>3287</th>\n",
       "      <td>415.1</td>\n",
       "      <td>LV847</td>\n",
       "      <td>0.064594</td>\n",
       "      <td>3.274267e-07</td>\n",
       "      <td>6.548534e-07</td>\n",
       "      <td>1.487865e-04</td>\n",
       "    </tr>\n",
       "    <tr>\n",
       "      <th>6645</th>\n",
       "      <td>599.3</td>\n",
       "      <td>LV847</td>\n",
       "      <td>0.063351</td>\n",
       "      <td>4.063688e-07</td>\n",
       "      <td>8.127376e-07</td>\n",
       "      <td>1.743999e-04</td>\n",
       "    </tr>\n",
       "    <tr>\n",
       "      <th>6262</th>\n",
       "      <td>585</td>\n",
       "      <td>LV847</td>\n",
       "      <td>0.061286</td>\n",
       "      <td>9.600468e-07</td>\n",
       "      <td>1.920094e-06</td>\n",
       "      <td>3.903348e-04</td>\n",
       "    </tr>\n",
       "    <tr>\n",
       "      <th>3076</th>\n",
       "      <td>411</td>\n",
       "      <td>LV847</td>\n",
       "      <td>0.058380</td>\n",
       "      <td>3.232785e-06</td>\n",
       "      <td>6.465570e-06</td>\n",
       "      <td>1.189203e-03</td>\n",
       "    </tr>\n",
       "    <tr>\n",
       "      <th>5541</th>\n",
       "      <td>531</td>\n",
       "      <td>LV847</td>\n",
       "      <td>0.056162</td>\n",
       "      <td>6.733527e-06</td>\n",
       "      <td>1.346705e-05</td>\n",
       "      <td>2.261587e-03</td>\n",
       "    </tr>\n",
       "    <tr>\n",
       "      <th>1011</th>\n",
       "      <td>250.6</td>\n",
       "      <td>LV847</td>\n",
       "      <td>0.056093</td>\n",
       "      <td>7.198938e-06</td>\n",
       "      <td>1.439788e-05</td>\n",
       "      <td>2.317158e-03</td>\n",
       "    </tr>\n",
       "    <tr>\n",
       "      <th>4646</th>\n",
       "      <td>443.9</td>\n",
       "      <td>LV847</td>\n",
       "      <td>0.055891</td>\n",
       "      <td>7.981448e-06</td>\n",
       "      <td>1.596290e-05</td>\n",
       "      <td>2.402187e-03</td>\n",
       "    </tr>\n",
       "    <tr>\n",
       "      <th>5401</th>\n",
       "      <td>519</td>\n",
       "      <td>LV847</td>\n",
       "      <td>0.055256</td>\n",
       "      <td>8.755927e-06</td>\n",
       "      <td>1.751185e-05</td>\n",
       "      <td>2.427619e-03</td>\n",
       "    </tr>\n",
       "    <tr>\n",
       "      <th>3014</th>\n",
       "      <td>401.2</td>\n",
       "      <td>LV847</td>\n",
       "      <td>0.055811</td>\n",
       "      <td>8.799138e-06</td>\n",
       "      <td>1.759828e-05</td>\n",
       "      <td>2.427619e-03</td>\n",
       "    </tr>\n",
       "    <tr>\n",
       "      <th>3210</th>\n",
       "      <td>411.8</td>\n",
       "      <td>LV847</td>\n",
       "      <td>0.054782</td>\n",
       "      <td>1.016037e-05</td>\n",
       "      <td>2.032074e-05</td>\n",
       "      <td>2.706513e-03</td>\n",
       "    </tr>\n",
       "    <tr>\n",
       "      <th>4533</th>\n",
       "      <td>440.22</td>\n",
       "      <td>LV847</td>\n",
       "      <td>0.054666</td>\n",
       "      <td>1.178247e-05</td>\n",
       "      <td>2.356494e-05</td>\n",
       "      <td>2.971458e-03</td>\n",
       "    </tr>\n",
       "    <tr>\n",
       "      <th>3057</th>\n",
       "      <td>401.22</td>\n",
       "      <td>LV847</td>\n",
       "      <td>0.052536</td>\n",
       "      <td>2.322651e-05</td>\n",
       "      <td>4.645301e-05</td>\n",
       "      <td>5.607024e-03</td>\n",
       "    </tr>\n",
       "    <tr>\n",
       "      <th>5367</th>\n",
       "      <td>514</td>\n",
       "      <td>LV847</td>\n",
       "      <td>0.051805</td>\n",
       "      <td>3.151847e-05</td>\n",
       "      <td>6.303693e-05</td>\n",
       "      <td>6.956576e-03</td>\n",
       "    </tr>\n",
       "    <tr>\n",
       "      <th>4023</th>\n",
       "      <td>427.6</td>\n",
       "      <td>LV847</td>\n",
       "      <td>0.048589</td>\n",
       "      <td>7.380270e-05</td>\n",
       "      <td>1.476054e-04</td>\n",
       "      <td>1.266946e-02</td>\n",
       "    </tr>\n",
       "    <tr>\n",
       "      <th>6294</th>\n",
       "      <td>585.1</td>\n",
       "      <td>LV847</td>\n",
       "      <td>0.048416</td>\n",
       "      <td>8.541197e-05</td>\n",
       "      <td>1.708239e-04</td>\n",
       "      <td>1.391410e-02</td>\n",
       "    </tr>\n",
       "    <tr>\n",
       "      <th>3407</th>\n",
       "      <td>418</td>\n",
       "      <td>LV847</td>\n",
       "      <td>0.048247</td>\n",
       "      <td>8.834960e-05</td>\n",
       "      <td>1.766992e-04</td>\n",
       "      <td>1.392858e-02</td>\n",
       "    </tr>\n",
       "    <tr>\n",
       "      <th>871</th>\n",
       "      <td>250.1</td>\n",
       "      <td>LV847</td>\n",
       "      <td>0.048789</td>\n",
       "      <td>9.372199e-05</td>\n",
       "      <td>1.874440e-04</td>\n",
       "      <td>1.444952e-02</td>\n",
       "    </tr>\n",
       "    <tr>\n",
       "      <th>1901</th>\n",
       "      <td>285.21</td>\n",
       "      <td>LV847</td>\n",
       "      <td>0.047085</td>\n",
       "      <td>1.366694e-04</td>\n",
       "      <td>2.733389e-04</td>\n",
       "      <td>1.820296e-02</td>\n",
       "    </tr>\n",
       "    <tr>\n",
       "      <th>2594</th>\n",
       "      <td>368</td>\n",
       "      <td>LV847</td>\n",
       "      <td>0.046595</td>\n",
       "      <td>1.457324e-04</td>\n",
       "      <td>2.914649e-04</td>\n",
       "      <td>1.876305e-02</td>\n",
       "    </tr>\n",
       "    <tr>\n",
       "      <th>3979</th>\n",
       "      <td>427.5</td>\n",
       "      <td>LV847</td>\n",
       "      <td>0.046330</td>\n",
       "      <td>1.612905e-04</td>\n",
       "      <td>3.225809e-04</td>\n",
       "      <td>2.009627e-02</td>\n",
       "    </tr>\n",
       "    <tr>\n",
       "      <th>6811</th>\n",
       "      <td>687.1</td>\n",
       "      <td>LV847</td>\n",
       "      <td>0.046201</td>\n",
       "      <td>1.755225e-04</td>\n",
       "      <td>3.510450e-04</td>\n",
       "      <td>2.152240e-02</td>\n",
       "    </tr>\n",
       "    <tr>\n",
       "      <th>439</th>\n",
       "      <td>185</td>\n",
       "      <td>LV847</td>\n",
       "      <td>0.045618</td>\n",
       "      <td>1.940103e-04</td>\n",
       "      <td>3.880205e-04</td>\n",
       "      <td>2.305737e-02</td>\n",
       "    </tr>\n",
       "    <tr>\n",
       "      <th>7635</th>\n",
       "      <td>747</td>\n",
       "      <td>LV847</td>\n",
       "      <td>0.045610</td>\n",
       "      <td>2.145799e-04</td>\n",
       "      <td>4.291597e-04</td>\n",
       "      <td>2.474074e-02</td>\n",
       "    </tr>\n",
       "    <tr>\n",
       "      <th>4661</th>\n",
       "      <td>444</td>\n",
       "      <td>LV847</td>\n",
       "      <td>0.045067</td>\n",
       "      <td>2.286377e-04</td>\n",
       "      <td>4.572755e-04</td>\n",
       "      <td>2.531337e-02</td>\n",
       "    </tr>\n",
       "    <tr>\n",
       "      <th>6345</th>\n",
       "      <td>585.3</td>\n",
       "      <td>LV847</td>\n",
       "      <td>0.045222</td>\n",
       "      <td>2.293768e-04</td>\n",
       "      <td>4.587536e-04</td>\n",
       "      <td>2.531337e-02</td>\n",
       "    </tr>\n",
       "    <tr>\n",
       "      <th>4486</th>\n",
       "      <td>440</td>\n",
       "      <td>LV847</td>\n",
       "      <td>0.044931</td>\n",
       "      <td>2.493694e-04</td>\n",
       "      <td>4.987387e-04</td>\n",
       "      <td>2.623057e-02</td>\n",
       "    </tr>\n",
       "    <tr>\n",
       "      <th>6517</th>\n",
       "      <td>591</td>\n",
       "      <td>LV847</td>\n",
       "      <td>0.044146</td>\n",
       "      <td>2.972108e-04</td>\n",
       "      <td>5.944216e-04</td>\n",
       "      <td>2.943530e-02</td>\n",
       "    </tr>\n",
       "    <tr>\n",
       "      <th>3121</th>\n",
       "      <td>411.1</td>\n",
       "      <td>LV847</td>\n",
       "      <td>0.043939</td>\n",
       "      <td>3.313387e-04</td>\n",
       "      <td>6.626774e-04</td>\n",
       "      <td>3.060760e-02</td>\n",
       "    </tr>\n",
       "    <tr>\n",
       "      <th>1896</th>\n",
       "      <td>285.2</td>\n",
       "      <td>LV847</td>\n",
       "      <td>0.043507</td>\n",
       "      <td>3.362809e-04</td>\n",
       "      <td>6.725617e-04</td>\n",
       "      <td>3.060760e-02</td>\n",
       "    </tr>\n",
       "    <tr>\n",
       "      <th>1302</th>\n",
       "      <td>274.1</td>\n",
       "      <td>LV847</td>\n",
       "      <td>0.043571</td>\n",
       "      <td>3.659271e-04</td>\n",
       "      <td>7.318541e-04</td>\n",
       "      <td>3.225502e-02</td>\n",
       "    </tr>\n",
       "    <tr>\n",
       "      <th>6400</th>\n",
       "      <td>585.34</td>\n",
       "      <td>LV847</td>\n",
       "      <td>0.042208</td>\n",
       "      <td>4.822570e-04</td>\n",
       "      <td>9.645140e-04</td>\n",
       "      <td>3.840655e-02</td>\n",
       "    </tr>\n",
       "    <tr>\n",
       "      <th>4684</th>\n",
       "      <td>452</td>\n",
       "      <td>LV847</td>\n",
       "      <td>0.041402</td>\n",
       "      <td>5.932799e-04</td>\n",
       "      <td>1.186560e-03</td>\n",
       "      <td>4.493223e-02</td>\n",
       "    </tr>\n",
       "    <tr>\n",
       "      <th>3853</th>\n",
       "      <td>427.12</td>\n",
       "      <td>LV847</td>\n",
       "      <td>0.041486</td>\n",
       "      <td>6.064126e-04</td>\n",
       "      <td>1.212825e-03</td>\n",
       "      <td>4.519925e-02</td>\n",
       "    </tr>\n",
       "  </tbody>\n",
       "</table>\n",
       "</div>"
      ],
      "text/plain": [
       "     phenotype     lv      coef        pvalue  pvalue_twosided           fdr\n",
       "6355    585.32  LV847  0.085519  2.009862e-11     4.019723e-11  3.105236e-08\n",
       "4611       443  LV847  0.074540  4.280645e-09     8.561290e-09  4.133498e-06\n",
       "4558     442.1  LV847  0.071741  1.343526e-08     2.687053e-08  1.008865e-05\n",
       "3174     411.3  LV847  0.067822  6.651013e-08     1.330203e-07  4.281590e-05\n",
       "4514     440.2  LV847  0.066820  1.106058e-07     2.212116e-07  6.572537e-05\n",
       "3320    415.11  LV847  0.065924  1.922252e-07     3.844504e-07  9.899598e-05\n",
       "3390       416  LV847  0.064236  2.783521e-07     5.567043e-07  1.343919e-04\n",
       "3287     415.1  LV847  0.064594  3.274267e-07     6.548534e-07  1.487865e-04\n",
       "6645     599.3  LV847  0.063351  4.063688e-07     8.127376e-07  1.743999e-04\n",
       "6262       585  LV847  0.061286  9.600468e-07     1.920094e-06  3.903348e-04\n",
       "3076       411  LV847  0.058380  3.232785e-06     6.465570e-06  1.189203e-03\n",
       "5541       531  LV847  0.056162  6.733527e-06     1.346705e-05  2.261587e-03\n",
       "1011     250.6  LV847  0.056093  7.198938e-06     1.439788e-05  2.317158e-03\n",
       "4646     443.9  LV847  0.055891  7.981448e-06     1.596290e-05  2.402187e-03\n",
       "5401       519  LV847  0.055256  8.755927e-06     1.751185e-05  2.427619e-03\n",
       "3014     401.2  LV847  0.055811  8.799138e-06     1.759828e-05  2.427619e-03\n",
       "3210     411.8  LV847  0.054782  1.016037e-05     2.032074e-05  2.706513e-03\n",
       "4533    440.22  LV847  0.054666  1.178247e-05     2.356494e-05  2.971458e-03\n",
       "3057    401.22  LV847  0.052536  2.322651e-05     4.645301e-05  5.607024e-03\n",
       "5367       514  LV847  0.051805  3.151847e-05     6.303693e-05  6.956576e-03\n",
       "4023     427.6  LV847  0.048589  7.380270e-05     1.476054e-04  1.266946e-02\n",
       "6294     585.1  LV847  0.048416  8.541197e-05     1.708239e-04  1.391410e-02\n",
       "3407       418  LV847  0.048247  8.834960e-05     1.766992e-04  1.392858e-02\n",
       "871      250.1  LV847  0.048789  9.372199e-05     1.874440e-04  1.444952e-02\n",
       "1901    285.21  LV847  0.047085  1.366694e-04     2.733389e-04  1.820296e-02\n",
       "2594       368  LV847  0.046595  1.457324e-04     2.914649e-04  1.876305e-02\n",
       "3979     427.5  LV847  0.046330  1.612905e-04     3.225809e-04  2.009627e-02\n",
       "6811     687.1  LV847  0.046201  1.755225e-04     3.510450e-04  2.152240e-02\n",
       "439        185  LV847  0.045618  1.940103e-04     3.880205e-04  2.305737e-02\n",
       "7635       747  LV847  0.045610  2.145799e-04     4.291597e-04  2.474074e-02\n",
       "4661       444  LV847  0.045067  2.286377e-04     4.572755e-04  2.531337e-02\n",
       "6345     585.3  LV847  0.045222  2.293768e-04     4.587536e-04  2.531337e-02\n",
       "4486       440  LV847  0.044931  2.493694e-04     4.987387e-04  2.623057e-02\n",
       "6517       591  LV847  0.044146  2.972108e-04     5.944216e-04  2.943530e-02\n",
       "3121     411.1  LV847  0.043939  3.313387e-04     6.626774e-04  3.060760e-02\n",
       "1896     285.2  LV847  0.043507  3.362809e-04     6.725617e-04  3.060760e-02\n",
       "1302     274.1  LV847  0.043571  3.659271e-04     7.318541e-04  3.225502e-02\n",
       "6400    585.34  LV847  0.042208  4.822570e-04     9.645140e-04  3.840655e-02\n",
       "4684       452  LV847  0.041402  5.932799e-04     1.186560e-03  4.493223e-02\n",
       "3853    427.12  LV847  0.041486  6.064126e-04     1.212825e-03  4.519925e-02"
      ]
     },
     "metadata": {},
     "output_type": "display_data"
    }
   ],
   "source": [
    "with pd.option_context(\n",
    "    \"display.max_rows\", None, \"display.max_columns\", None, \"display.max_colwidth\", None\n",
    "):\n",
    "    display(lv_assocs)"
   ]
  },
  {
   "cell_type": "code",
   "execution_count": 54,
   "id": "postal-baghdad",
   "metadata": {},
   "outputs": [],
   "source": [
    "lv_assocs = lv_assocs.assign(\n",
    "    phenotype_desc=lv_assocs[\"phenotype\"].apply(\n",
    "        lambda x: emerge_traits_info.loc[x, \"phenotype\"]\n",
    "    )\n",
    ")"
   ]
  },
  {
   "cell_type": "code",
   "execution_count": 55,
   "id": "graphic-israeli",
   "metadata": {},
   "outputs": [],
   "source": [
    "lv_assocs = lv_assocs.assign(\n",
    "    n=lv_assocs[\"phenotype\"].apply(\n",
    "        lambda x: emerge_traits_info.loc[x, [\"eur_n_cases\", \"eur_n_controls\"]].sum()\n",
    "    )\n",
    ")"
   ]
  },
  {
   "cell_type": "code",
   "execution_count": 56,
   "id": "hidden-analysis",
   "metadata": {},
   "outputs": [],
   "source": [
    "lv_assocs = lv_assocs.assign(\n",
    "    n_cases=lv_assocs[\"phenotype\"].apply(\n",
    "        lambda x: emerge_traits_info.loc[x, \"eur_n_cases\"]\n",
    "    )\n",
    ")"
   ]
  },
  {
   "cell_type": "code",
   "execution_count": 57,
   "id": "southern-budapest",
   "metadata": {},
   "outputs": [],
   "source": [
    "lv_assocs = lv_assocs.assign(coef=lv_assocs[\"coef\"].apply(lambda x: f\"{x:.3f}\"))"
   ]
  },
  {
   "cell_type": "code",
   "execution_count": 58,
   "id": "chief-renewal",
   "metadata": {},
   "outputs": [],
   "source": [
    "lv_assocs = lv_assocs.assign(\n",
    "    fdr=lv_assocs[\"fdr\"].apply(lambda x: f\"{x:.2e}\".replace(\"-\", \"&#8209;\"))\n",
    ")"
   ]
  },
  {
   "cell_type": "code",
   "execution_count": 59,
   "id": "mysterious-speaker",
   "metadata": {},
   "outputs": [],
   "source": [
    "lv_assocs = lv_assocs.assign(n=lv_assocs[\"n\"].apply(num_to_int_str))"
   ]
  },
  {
   "cell_type": "code",
   "execution_count": 60,
   "id": "earlier-waterproof",
   "metadata": {},
   "outputs": [],
   "source": [
    "lv_assocs = lv_assocs.assign(n_cases=lv_assocs[\"n_cases\"].apply(num_to_int_str))"
   ]
  },
  {
   "cell_type": "code",
   "execution_count": 61,
   "id": "identical-burner",
   "metadata": {},
   "outputs": [],
   "source": [
    "lv_assocs = lv_assocs.rename(columns={\"phenotype\": \"phecode\"})"
   ]
  },
  {
   "cell_type": "code",
   "execution_count": 62,
   "id": "stuck-martin",
   "metadata": {},
   "outputs": [
    {
     "data": {
      "text/plain": [
       "(40, 9)"
      ]
     },
     "execution_count": 62,
     "metadata": {},
     "output_type": "execute_result"
    }
   ],
   "source": [
    "lv_assocs.shape"
   ]
  },
  {
   "cell_type": "code",
   "execution_count": 63,
   "id": "informative-language",
   "metadata": {},
   "outputs": [],
   "source": [
    "lv_assocs = lv_assocs[[\"phecode\", \"phenotype_desc\", \"n\", \"n_cases\", \"fdr\"]]"
   ]
  },
  {
   "cell_type": "code",
   "execution_count": 64,
   "id": "headed-capability",
   "metadata": {},
   "outputs": [],
   "source": [
    "lv_assocs = lv_assocs.rename(\n",
    "    columns={\n",
    "        \"lv\": \"Latent variable (LV)\",\n",
    "        #         \"coef\": r\"$\\beta$\",\n",
    "        \"fdr\": \"FDR\",\n",
    "        \"phecode\": \"Phecode\",\n",
    "        \"phenotype_desc\": \"Trait description\",\n",
    "        \"n\": \"Sample size\",\n",
    "        \"n_cases\": \"Cases\",\n",
    "    }\n",
    ")"
   ]
  },
  {
   "cell_type": "code",
   "execution_count": 65,
   "id": "freelance-billion",
   "metadata": {},
   "outputs": [
    {
     "data": {
      "text/html": [
       "<div>\n",
       "<style scoped>\n",
       "    .dataframe tbody tr th:only-of-type {\n",
       "        vertical-align: middle;\n",
       "    }\n",
       "\n",
       "    .dataframe tbody tr th {\n",
       "        vertical-align: top;\n",
       "    }\n",
       "\n",
       "    .dataframe thead th {\n",
       "        text-align: right;\n",
       "    }\n",
       "</style>\n",
       "<table border=\"1\" class=\"dataframe\">\n",
       "  <thead>\n",
       "    <tr style=\"text-align: right;\">\n",
       "      <th></th>\n",
       "      <th>Phecode</th>\n",
       "      <th>Trait description</th>\n",
       "      <th>Sample size</th>\n",
       "      <th>Cases</th>\n",
       "      <th>FDR</th>\n",
       "    </tr>\n",
       "  </thead>\n",
       "  <tbody>\n",
       "    <tr>\n",
       "      <th>6355</th>\n",
       "      <td>585.32</td>\n",
       "      <td>End stage renal disease</td>\n",
       "      <td>43,309</td>\n",
       "      <td>1,842</td>\n",
       "      <td>3.11e&amp;#8209;08</td>\n",
       "    </tr>\n",
       "    <tr>\n",
       "      <th>4611</th>\n",
       "      <td>443</td>\n",
       "      <td>Peripheral vascular disease</td>\n",
       "      <td>47,867</td>\n",
       "      <td>5,389</td>\n",
       "      <td>4.13e&amp;#8209;06</td>\n",
       "    </tr>\n",
       "    <tr>\n",
       "      <th>4558</th>\n",
       "      <td>442.1</td>\n",
       "      <td>Aortic aneurysm</td>\n",
       "      <td>45,589</td>\n",
       "      <td>3,111</td>\n",
       "      <td>1.01e&amp;#8209;05</td>\n",
       "    </tr>\n",
       "    <tr>\n",
       "      <th>3174</th>\n",
       "      <td>411.3</td>\n",
       "      <td>Angina pectoris</td>\n",
       "      <td>43,503</td>\n",
       "      <td>4,382</td>\n",
       "      <td>4.28e&amp;#8209;05</td>\n",
       "    </tr>\n",
       "    <tr>\n",
       "      <th>4514</th>\n",
       "      <td>440.2</td>\n",
       "      <td>Atherosclerosis of the extremities</td>\n",
       "      <td>45,524</td>\n",
       "      <td>3,046</td>\n",
       "      <td>6.57e&amp;#8209;05</td>\n",
       "    </tr>\n",
       "    <tr>\n",
       "      <th>3320</th>\n",
       "      <td>415.11</td>\n",
       "      <td>Pulmonary embolism and infarction, acute</td>\n",
       "      <td>49,867</td>\n",
       "      <td>1,837</td>\n",
       "      <td>9.90e&amp;#8209;05</td>\n",
       "    </tr>\n",
       "    <tr>\n",
       "      <th>3390</th>\n",
       "      <td>416</td>\n",
       "      <td>Cardiomegaly</td>\n",
       "      <td>53,289</td>\n",
       "      <td>5,259</td>\n",
       "      <td>1.34e&amp;#8209;04</td>\n",
       "    </tr>\n",
       "    <tr>\n",
       "      <th>3287</th>\n",
       "      <td>415.1</td>\n",
       "      <td>Acute pulmonary heart disease</td>\n",
       "      <td>49,887</td>\n",
       "      <td>1,857</td>\n",
       "      <td>1.49e&amp;#8209;04</td>\n",
       "    </tr>\n",
       "    <tr>\n",
       "      <th>6645</th>\n",
       "      <td>599.3</td>\n",
       "      <td>Dysuria</td>\n",
       "      <td>42,858</td>\n",
       "      <td>3,581</td>\n",
       "      <td>1.74e&amp;#8209;04</td>\n",
       "    </tr>\n",
       "    <tr>\n",
       "      <th>6262</th>\n",
       "      <td>585</td>\n",
       "      <td>Renal failure</td>\n",
       "      <td>51,437</td>\n",
       "      <td>9,970</td>\n",
       "      <td>3.90e&amp;#8209;04</td>\n",
       "    </tr>\n",
       "    <tr>\n",
       "      <th>3076</th>\n",
       "      <td>411</td>\n",
       "      <td>Ischemic Heart Disease</td>\n",
       "      <td>54,275</td>\n",
       "      <td>15,154</td>\n",
       "      <td>1.19e&amp;#8209;03</td>\n",
       "    </tr>\n",
       "    <tr>\n",
       "      <th>5541</th>\n",
       "      <td>531</td>\n",
       "      <td>Peptic ulcer (excl. esophageal)</td>\n",
       "      <td>59,472</td>\n",
       "      <td>1,561</td>\n",
       "      <td>2.26e&amp;#8209;03</td>\n",
       "    </tr>\n",
       "    <tr>\n",
       "      <th>1011</th>\n",
       "      <td>250.6</td>\n",
       "      <td>Polyneuropathy in diabetes</td>\n",
       "      <td>41,948</td>\n",
       "      <td>1,675</td>\n",
       "      <td>2.32e&amp;#8209;03</td>\n",
       "    </tr>\n",
       "    <tr>\n",
       "      <th>4646</th>\n",
       "      <td>443.9</td>\n",
       "      <td>Peripheral vascular disease, unspecified</td>\n",
       "      <td>46,926</td>\n",
       "      <td>4,448</td>\n",
       "      <td>2.40e&amp;#8209;03</td>\n",
       "    </tr>\n",
       "    <tr>\n",
       "      <th>5401</th>\n",
       "      <td>519</td>\n",
       "      <td>Other diseases of respiratory system, not elsewhere classified</td>\n",
       "      <td>56,909</td>\n",
       "      <td>2,056</td>\n",
       "      <td>2.43e&amp;#8209;03</td>\n",
       "    </tr>\n",
       "    <tr>\n",
       "      <th>3014</th>\n",
       "      <td>401.2</td>\n",
       "      <td>Hypertensive heart and/or renal disease</td>\n",
       "      <td>30,405</td>\n",
       "      <td>6,253</td>\n",
       "      <td>2.43e&amp;#8209;03</td>\n",
       "    </tr>\n",
       "    <tr>\n",
       "      <th>3210</th>\n",
       "      <td>411.8</td>\n",
       "      <td>Other chronic ischemic heart disease, unspecified</td>\n",
       "      <td>44,123</td>\n",
       "      <td>5,002</td>\n",
       "      <td>2.71e&amp;#8209;03</td>\n",
       "    </tr>\n",
       "    <tr>\n",
       "      <th>4533</th>\n",
       "      <td>440.22</td>\n",
       "      <td>Atherosclerosis of native arteries of the extremities with intermittent claudication</td>\n",
       "      <td>44,639</td>\n",
       "      <td>2,161</td>\n",
       "      <td>2.97e&amp;#8209;03</td>\n",
       "    </tr>\n",
       "    <tr>\n",
       "      <th>3057</th>\n",
       "      <td>401.22</td>\n",
       "      <td>Hypertensive chronic kidney disease</td>\n",
       "      <td>28,944</td>\n",
       "      <td>4,792</td>\n",
       "      <td>5.61e&amp;#8209;03</td>\n",
       "    </tr>\n",
       "    <tr>\n",
       "      <th>5367</th>\n",
       "      <td>514</td>\n",
       "      <td>Abnormal findings examination of lungs</td>\n",
       "      <td>54,668</td>\n",
       "      <td>6,549</td>\n",
       "      <td>6.96e&amp;#8209;03</td>\n",
       "    </tr>\n",
       "    <tr>\n",
       "      <th>4023</th>\n",
       "      <td>427.6</td>\n",
       "      <td>Premature beats</td>\n",
       "      <td>31,575</td>\n",
       "      <td>2,453</td>\n",
       "      <td>1.27e&amp;#8209;02</td>\n",
       "    </tr>\n",
       "    <tr>\n",
       "      <th>6294</th>\n",
       "      <td>585.1</td>\n",
       "      <td>Acute renal failure</td>\n",
       "      <td>46,803</td>\n",
       "      <td>5,336</td>\n",
       "      <td>1.39e&amp;#8209;02</td>\n",
       "    </tr>\n",
       "    <tr>\n",
       "      <th>3407</th>\n",
       "      <td>418</td>\n",
       "      <td>Nonspecific chest pain</td>\n",
       "      <td>51,082</td>\n",
       "      <td>17,765</td>\n",
       "      <td>1.39e&amp;#8209;02</td>\n",
       "    </tr>\n",
       "    <tr>\n",
       "      <th>871</th>\n",
       "      <td>250.1</td>\n",
       "      <td>Type 1 diabetes</td>\n",
       "      <td>42,723</td>\n",
       "      <td>2,450</td>\n",
       "      <td>1.44e&amp;#8209;02</td>\n",
       "    </tr>\n",
       "    <tr>\n",
       "      <th>1901</th>\n",
       "      <td>285.21</td>\n",
       "      <td>Anemia in chronic kidney disease</td>\n",
       "      <td>38,616</td>\n",
       "      <td>1,549</td>\n",
       "      <td>1.82e&amp;#8209;02</td>\n",
       "    </tr>\n",
       "    <tr>\n",
       "      <th>2594</th>\n",
       "      <td>368</td>\n",
       "      <td>Visual disturbances</td>\n",
       "      <td>56,141</td>\n",
       "      <td>2,694</td>\n",
       "      <td>1.88e&amp;#8209;02</td>\n",
       "    </tr>\n",
       "    <tr>\n",
       "      <th>3979</th>\n",
       "      <td>427.5</td>\n",
       "      <td>Arrhythmia (cardiac) NOS</td>\n",
       "      <td>36,861</td>\n",
       "      <td>7,739</td>\n",
       "      <td>2.01e&amp;#8209;02</td>\n",
       "    </tr>\n",
       "    <tr>\n",
       "      <th>6811</th>\n",
       "      <td>687.1</td>\n",
       "      <td>Rash and other nonspecific skin eruption</td>\n",
       "      <td>47,039</td>\n",
       "      <td>4,964</td>\n",
       "      <td>2.15e&amp;#8209;02</td>\n",
       "    </tr>\n",
       "    <tr>\n",
       "      <th>439</th>\n",
       "      <td>185</td>\n",
       "      <td>Cancer of prostate</td>\n",
       "      <td>52,630</td>\n",
       "      <td>2,815</td>\n",
       "      <td>2.31e&amp;#8209;02</td>\n",
       "    </tr>\n",
       "    <tr>\n",
       "      <th>7635</th>\n",
       "      <td>747</td>\n",
       "      <td>Cardiac and circulatory congenital anomalies</td>\n",
       "      <td>59,494</td>\n",
       "      <td>2,167</td>\n",
       "      <td>2.47e&amp;#8209;02</td>\n",
       "    </tr>\n",
       "    <tr>\n",
       "      <th>4661</th>\n",
       "      <td>444</td>\n",
       "      <td>Arterial embolism and thrombosis</td>\n",
       "      <td>43,378</td>\n",
       "      <td>900</td>\n",
       "      <td>2.53e&amp;#8209;02</td>\n",
       "    </tr>\n",
       "    <tr>\n",
       "      <th>6345</th>\n",
       "      <td>585.3</td>\n",
       "      <td>Chronic renal failure [CKD]</td>\n",
       "      <td>49,204</td>\n",
       "      <td>7,737</td>\n",
       "      <td>2.53e&amp;#8209;02</td>\n",
       "    </tr>\n",
       "    <tr>\n",
       "      <th>4486</th>\n",
       "      <td>440</td>\n",
       "      <td>Atherosclerosis</td>\n",
       "      <td>47,471</td>\n",
       "      <td>4,993</td>\n",
       "      <td>2.62e&amp;#8209;02</td>\n",
       "    </tr>\n",
       "    <tr>\n",
       "      <th>6517</th>\n",
       "      <td>591</td>\n",
       "      <td>Urinary tract infection</td>\n",
       "      <td>49,727</td>\n",
       "      <td>10,016</td>\n",
       "      <td>2.94e&amp;#8209;02</td>\n",
       "    </tr>\n",
       "    <tr>\n",
       "      <th>3121</th>\n",
       "      <td>411.1</td>\n",
       "      <td>Unstable angina (intermediate coronary syndrome)</td>\n",
       "      <td>41,763</td>\n",
       "      <td>2,642</td>\n",
       "      <td>3.06e&amp;#8209;02</td>\n",
       "    </tr>\n",
       "    <tr>\n",
       "      <th>1896</th>\n",
       "      <td>285.2</td>\n",
       "      <td>Anemia of chronic disease</td>\n",
       "      <td>39,673</td>\n",
       "      <td>2,606</td>\n",
       "      <td>3.06e&amp;#8209;02</td>\n",
       "    </tr>\n",
       "    <tr>\n",
       "      <th>1302</th>\n",
       "      <td>274.1</td>\n",
       "      <td>Gout</td>\n",
       "      <td>59,252</td>\n",
       "      <td>3,394</td>\n",
       "      <td>3.23e&amp;#8209;02</td>\n",
       "    </tr>\n",
       "    <tr>\n",
       "      <th>6400</th>\n",
       "      <td>585.34</td>\n",
       "      <td>Chronic Kidney Disease, Stage IV</td>\n",
       "      <td>43,322</td>\n",
       "      <td>1,855</td>\n",
       "      <td>3.84e&amp;#8209;02</td>\n",
       "    </tr>\n",
       "    <tr>\n",
       "      <th>4684</th>\n",
       "      <td>452</td>\n",
       "      <td>Other venous embolism and thrombosis</td>\n",
       "      <td>40,476</td>\n",
       "      <td>3,816</td>\n",
       "      <td>4.49e&amp;#8209;02</td>\n",
       "    </tr>\n",
       "    <tr>\n",
       "      <th>3853</th>\n",
       "      <td>427.12</td>\n",
       "      <td>Paroxysmal ventricular tachycardia</td>\n",
       "      <td>31,154</td>\n",
       "      <td>2,032</td>\n",
       "      <td>4.52e&amp;#8209;02</td>\n",
       "    </tr>\n",
       "  </tbody>\n",
       "</table>\n",
       "</div>"
      ],
      "text/plain": [
       "     Phecode  \\\n",
       "6355  585.32   \n",
       "4611     443   \n",
       "4558   442.1   \n",
       "3174   411.3   \n",
       "4514   440.2   \n",
       "3320  415.11   \n",
       "3390     416   \n",
       "3287   415.1   \n",
       "6645   599.3   \n",
       "6262     585   \n",
       "3076     411   \n",
       "5541     531   \n",
       "1011   250.6   \n",
       "4646   443.9   \n",
       "5401     519   \n",
       "3014   401.2   \n",
       "3210   411.8   \n",
       "4533  440.22   \n",
       "3057  401.22   \n",
       "5367     514   \n",
       "4023   427.6   \n",
       "6294   585.1   \n",
       "3407     418   \n",
       "871    250.1   \n",
       "1901  285.21   \n",
       "2594     368   \n",
       "3979   427.5   \n",
       "6811   687.1   \n",
       "439      185   \n",
       "7635     747   \n",
       "4661     444   \n",
       "6345   585.3   \n",
       "4486     440   \n",
       "6517     591   \n",
       "3121   411.1   \n",
       "1896   285.2   \n",
       "1302   274.1   \n",
       "6400  585.34   \n",
       "4684     452   \n",
       "3853  427.12   \n",
       "\n",
       "                                                                         Trait description  \\\n",
       "6355                                                               End stage renal disease   \n",
       "4611                                                           Peripheral vascular disease   \n",
       "4558                                                                       Aortic aneurysm   \n",
       "3174                                                                       Angina pectoris   \n",
       "4514                                                    Atherosclerosis of the extremities   \n",
       "3320                                              Pulmonary embolism and infarction, acute   \n",
       "3390                                                                          Cardiomegaly   \n",
       "3287                                                         Acute pulmonary heart disease   \n",
       "6645                                                                               Dysuria   \n",
       "6262                                                                         Renal failure   \n",
       "3076                                                                Ischemic Heart Disease   \n",
       "5541                                                       Peptic ulcer (excl. esophageal)   \n",
       "1011                                                            Polyneuropathy in diabetes   \n",
       "4646                                              Peripheral vascular disease, unspecified   \n",
       "5401                        Other diseases of respiratory system, not elsewhere classified   \n",
       "3014                                               Hypertensive heart and/or renal disease   \n",
       "3210                                     Other chronic ischemic heart disease, unspecified   \n",
       "4533  Atherosclerosis of native arteries of the extremities with intermittent claudication   \n",
       "3057                                                   Hypertensive chronic kidney disease   \n",
       "5367                                                Abnormal findings examination of lungs   \n",
       "4023                                                                       Premature beats   \n",
       "6294                                                                   Acute renal failure   \n",
       "3407                                                                Nonspecific chest pain   \n",
       "871                                                                        Type 1 diabetes   \n",
       "1901                                                      Anemia in chronic kidney disease   \n",
       "2594                                                                   Visual disturbances   \n",
       "3979                                                              Arrhythmia (cardiac) NOS   \n",
       "6811                                              Rash and other nonspecific skin eruption   \n",
       "439                                                                     Cancer of prostate   \n",
       "7635                                          Cardiac and circulatory congenital anomalies   \n",
       "4661                                                      Arterial embolism and thrombosis   \n",
       "6345                                                           Chronic renal failure [CKD]   \n",
       "4486                                                                       Atherosclerosis   \n",
       "6517                                                               Urinary tract infection   \n",
       "3121                                      Unstable angina (intermediate coronary syndrome)   \n",
       "1896                                                             Anemia of chronic disease   \n",
       "1302                                                                                  Gout   \n",
       "6400                                                      Chronic Kidney Disease, Stage IV   \n",
       "4684                                                  Other venous embolism and thrombosis   \n",
       "3853                                                    Paroxysmal ventricular tachycardia   \n",
       "\n",
       "     Sample size   Cases             FDR  \n",
       "6355      43,309   1,842  3.11e&#8209;08  \n",
       "4611      47,867   5,389  4.13e&#8209;06  \n",
       "4558      45,589   3,111  1.01e&#8209;05  \n",
       "3174      43,503   4,382  4.28e&#8209;05  \n",
       "4514      45,524   3,046  6.57e&#8209;05  \n",
       "3320      49,867   1,837  9.90e&#8209;05  \n",
       "3390      53,289   5,259  1.34e&#8209;04  \n",
       "3287      49,887   1,857  1.49e&#8209;04  \n",
       "6645      42,858   3,581  1.74e&#8209;04  \n",
       "6262      51,437   9,970  3.90e&#8209;04  \n",
       "3076      54,275  15,154  1.19e&#8209;03  \n",
       "5541      59,472   1,561  2.26e&#8209;03  \n",
       "1011      41,948   1,675  2.32e&#8209;03  \n",
       "4646      46,926   4,448  2.40e&#8209;03  \n",
       "5401      56,909   2,056  2.43e&#8209;03  \n",
       "3014      30,405   6,253  2.43e&#8209;03  \n",
       "3210      44,123   5,002  2.71e&#8209;03  \n",
       "4533      44,639   2,161  2.97e&#8209;03  \n",
       "3057      28,944   4,792  5.61e&#8209;03  \n",
       "5367      54,668   6,549  6.96e&#8209;03  \n",
       "4023      31,575   2,453  1.27e&#8209;02  \n",
       "6294      46,803   5,336  1.39e&#8209;02  \n",
       "3407      51,082  17,765  1.39e&#8209;02  \n",
       "871       42,723   2,450  1.44e&#8209;02  \n",
       "1901      38,616   1,549  1.82e&#8209;02  \n",
       "2594      56,141   2,694  1.88e&#8209;02  \n",
       "3979      36,861   7,739  2.01e&#8209;02  \n",
       "6811      47,039   4,964  2.15e&#8209;02  \n",
       "439       52,630   2,815  2.31e&#8209;02  \n",
       "7635      59,494   2,167  2.47e&#8209;02  \n",
       "4661      43,378     900  2.53e&#8209;02  \n",
       "6345      49,204   7,737  2.53e&#8209;02  \n",
       "4486      47,471   4,993  2.62e&#8209;02  \n",
       "6517      49,727  10,016  2.94e&#8209;02  \n",
       "3121      41,763   2,642  3.06e&#8209;02  \n",
       "1896      39,673   2,606  3.06e&#8209;02  \n",
       "1302      59,252   3,394  3.23e&#8209;02  \n",
       "6400      43,322   1,855  3.84e&#8209;02  \n",
       "4684      40,476   3,816  4.49e&#8209;02  \n",
       "3853      31,154   2,032  4.52e&#8209;02  "
      ]
     },
     "metadata": {},
     "output_type": "display_data"
    }
   ],
   "source": [
    "with pd.option_context(\n",
    "    \"display.max_rows\", None, \"display.max_columns\", None, \"display.max_colwidth\", None\n",
    "):\n",
    "    display(lv_assocs)"
   ]
  },
  {
   "cell_type": "markdown",
   "id": "classified-cleaner",
   "metadata": {},
   "source": [
    "### Fill empty"
   ]
  },
  {
   "cell_type": "code",
   "execution_count": 66,
   "id": "described-saint",
   "metadata": {},
   "outputs": [],
   "source": [
    "if lv_assocs.shape[0] == 0:\n",
    "    lv_assocs.loc[0, \"Phecode\"] = \"No significant associations\"\n",
    "    lv_assocs = lv_assocs.fillna(\"\")"
   ]
  },
  {
   "cell_type": "markdown",
   "id": "interracial-cambridge",
   "metadata": {},
   "source": [
    "### Save"
   ]
  },
  {
   "cell_type": "code",
   "execution_count": 67,
   "id": "insured-belief",
   "metadata": {},
   "outputs": [
    {
     "data": {
      "text/plain": [
       "'<!-- LV847:emerge_traits_assocs:start -->'"
      ]
     },
     "metadata": {},
     "output_type": "display_data"
    },
    {
     "data": {
      "text/plain": [
       "'<!-- LV847:emerge_traits_assocs:end -->'"
      ]
     },
     "metadata": {},
     "output_type": "display_data"
    }
   ],
   "source": [
    "# start\n",
    "lv_file_mark_start = LV_FILE_MARK_TEMPLATE.format(\n",
    "    result_set=result_set, lv=LV_NAME, position=\"start\"\n",
    ")\n",
    "display(lv_file_mark_start)\n",
    "\n",
    "# end\n",
    "lv_file_mark_end = LV_FILE_MARK_TEMPLATE.format(\n",
    "    result_set=result_set, lv=LV_NAME, position=\"end\"\n",
    ")\n",
    "display(lv_file_mark_end)"
   ]
  },
  {
   "cell_type": "code",
   "execution_count": 68,
   "id": "uniform-simon",
   "metadata": {},
   "outputs": [],
   "source": [
    "new_content = lv_assocs.to_markdown(index=False, disable_numparse=True)"
   ]
  },
  {
   "cell_type": "code",
   "execution_count": 69,
   "id": "innovative-words",
   "metadata": {},
   "outputs": [
    {
     "data": {
      "text/plain": [
       "'Table: Significant trait associations of LV847 in eMERGE. {#tbl:sup:emerge_assocs:lv847}'"
      ]
     },
     "metadata": {},
     "output_type": "display_data"
    }
   ],
   "source": [
    "# add table caption\n",
    "table_caption = TABLE_CAPTION.format(\n",
    "    lv_name=LV_NAME,\n",
    "    result_set_name=RESULT_SET_NAMES[result_set],\n",
    "    table_id=\"{\"\n",
    "    + TABLE_CAPTION_ID.format(result_set=result_set, lv_name_lower_case=LV_NAME.lower())\n",
    "    + \"}\",\n",
    ")\n",
    "display(table_caption)"
   ]
  },
  {
   "cell_type": "code",
   "execution_count": 70,
   "id": "valuable-taste",
   "metadata": {},
   "outputs": [],
   "source": [
    "new_content += \"\\n\\n\" + table_caption"
   ]
  },
  {
   "cell_type": "code",
   "execution_count": 71,
   "id": "presidential-transparency",
   "metadata": {},
   "outputs": [],
   "source": [
    "full_new_content = (\n",
    "    lv_file_mark_start + \"\\n\" + new_content.strip() + \"\\n\" + lv_file_mark_end\n",
    ")"
   ]
  },
  {
   "cell_type": "code",
   "execution_count": 72,
   "id": "exclusive-uruguay",
   "metadata": {},
   "outputs": [],
   "source": [
    "with open(OUTPUT_FILE_PATH, \"r\", encoding=\"utf8\") as f:\n",
    "    file_content = f.read()"
   ]
  },
  {
   "cell_type": "code",
   "execution_count": 73,
   "id": "english-customs",
   "metadata": {},
   "outputs": [],
   "source": [
    "new_file_content = re.sub(\n",
    "    lv_file_mark_start + \".*?\" + lv_file_mark_end,\n",
    "    full_new_content,\n",
    "    file_content,\n",
    "    flags=re.DOTALL,\n",
    ")"
   ]
  },
  {
   "cell_type": "code",
   "execution_count": 74,
   "id": "configured-object",
   "metadata": {},
   "outputs": [],
   "source": [
    "with open(OUTPUT_FILE_PATH, \"w\", encoding=\"utf8\") as f:\n",
    "    f.write(new_file_content)  # .replace(\"\\beta\", r\"\\beta\"))"
   ]
  },
  {
   "cell_type": "code",
   "execution_count": null,
   "id": "fossil-bubble",
   "metadata": {},
   "outputs": [],
   "source": []
  }
 ],
 "metadata": {
  "jupytext": {
   "cell_metadata_filter": "all,-execution,-papermill,-trusted",
   "formats": "ipynb,py//py:percent"
  },
  "kernelspec": {
   "display_name": "Python 3",
   "language": "python",
   "name": "python3"
  },
  "language_info": {
   "codemirror_mode": {
    "name": "ipython",
    "version": 3
   },
   "file_extension": ".py",
   "mimetype": "text/x-python",
   "name": "python",
   "nbconvert_exporter": "python",
   "pygments_lexer": "ipython3",
   "version": "3.8.8"
  },
  "toc-autonumbering": true
 },
 "nbformat": 4,
 "nbformat_minor": 5
}
