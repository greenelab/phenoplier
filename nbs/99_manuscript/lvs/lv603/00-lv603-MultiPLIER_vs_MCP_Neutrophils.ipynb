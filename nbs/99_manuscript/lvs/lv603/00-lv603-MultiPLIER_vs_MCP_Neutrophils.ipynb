{
 "cells": [
  {
   "cell_type": "markdown",
   "metadata": {},
   "source": [
    "# Description"
   ]
  },
  {
   "cell_type": "markdown",
   "metadata": {},
   "source": [
    "Generates a plot between the projection of a gene expression data set (systemic lupus erythematosus (SLE) whole blood (WB) from the MultiPLIER paper) into the LV603 (a neutrophil-termed latent variable) and a neutrophil count estimation.\n",
    "\n",
    "See the [MultiPLIER paper](https://doi.org/10.1016/j.cels.2019.04.003) for more details."
   ]
  },
  {
   "cell_type": "markdown",
   "metadata": {},
   "source": [
    "# Modules loading"
   ]
  },
  {
   "cell_type": "code",
   "execution_count": 1,
   "metadata": {},
   "outputs": [],
   "source": [
    "%load_ext autoreload\n",
    "%autoreload 2"
   ]
  },
  {
   "cell_type": "code",
   "execution_count": 2,
   "metadata": {},
   "outputs": [],
   "source": [
    "from pathlib import Path\n",
    "\n",
    "import numpy as np\n",
    "import pandas as pd\n",
    "from matplotlib import pyplot as plt\n",
    "import seaborn as sns\n",
    "\n",
    "import conf"
   ]
  },
  {
   "cell_type": "code",
   "execution_count": 3,
   "metadata": {},
   "outputs": [
    {
     "data": {
      "text/plain": [
       "'/home/miltondp/projects/labs/greenelab/phenoplier_manuscript'"
      ]
     },
     "metadata": {},
     "output_type": "display_data"
    }
   ],
   "source": [
    "assert (\n",
    "    conf.MANUSCRIPT[\"BASE_DIR\"] is not None\n",
    "), \"The manuscript directory was not configured\"\n",
    "\n",
    "display(conf.MANUSCRIPT[\"BASE_DIR\"])"
   ]
  },
  {
   "cell_type": "markdown",
   "metadata": {},
   "source": [
    "# Settings"
   ]
  },
  {
   "cell_type": "code",
   "execution_count": 4,
   "metadata": {},
   "outputs": [
    {
     "data": {
      "text/plain": [
       "'LV603'"
      ]
     },
     "metadata": {},
     "output_type": "display_data"
    }
   ],
   "source": [
    "LV_NUMBER_SELECTED = 603\n",
    "LV_NAME_SELECTED = f\"LV{LV_NUMBER_SELECTED}\"\n",
    "display(LV_NAME_SELECTED)"
   ]
  },
  {
   "cell_type": "code",
   "execution_count": 5,
   "metadata": {},
   "outputs": [
    {
     "data": {
      "text/plain": [
       "PosixPath('/home/miltondp/projects/labs/greenelab/phenoplier_manuscript/content/images/entire_process')"
      ]
     },
     "metadata": {},
     "output_type": "display_data"
    }
   ],
   "source": [
    "OUTPUT_FIGURES_DIR = Path(conf.MANUSCRIPT[\"FIGURES_DIR\"], \"entire_process\").resolve()\n",
    "display(OUTPUT_FIGURES_DIR)\n",
    "OUTPUT_FIGURES_DIR.mkdir(parents=True, exist_ok=True)"
   ]
  },
  {
   "cell_type": "markdown",
   "metadata": {},
   "source": [
    "# Load data"
   ]
  },
  {
   "cell_type": "code",
   "execution_count": 6,
   "metadata": {},
   "outputs": [
    {
     "data": {
      "text/plain": [
       "PosixPath('/home/miltondp/projects/labs/greenelab/phenoplier/bases_data/base_orig/data/multiplier/Banchereau_MCPcounter_neutrophil_LV.tsv')"
      ]
     },
     "metadata": {},
     "output_type": "display_data"
    }
   ],
   "source": [
    "input_file = conf.MULTIPLIER[\"BANCHEREAU_MCPCOUNTER_NEUTROPHIL_FILE\"]\n",
    "display(input_file)"
   ]
  },
  {
   "cell_type": "code",
   "execution_count": 7,
   "metadata": {},
   "outputs": [],
   "source": [
    "data = pd.read_csv(input_file, sep=\"\\t\")"
   ]
  },
  {
   "cell_type": "code",
   "execution_count": 8,
   "metadata": {},
   "outputs": [
    {
     "data": {
      "text/plain": [
       "(853, 10)"
      ]
     },
     "execution_count": 8,
     "metadata": {},
     "output_type": "execute_result"
    }
   ],
   "source": [
    "data.shape"
   ]
  },
  {
   "cell_type": "code",
   "execution_count": 9,
   "metadata": {},
   "outputs": [
    {
     "data": {
      "text/html": [
       "<div>\n",
       "<style scoped>\n",
       "    .dataframe tbody tr th:only-of-type {\n",
       "        vertical-align: middle;\n",
       "    }\n",
       "\n",
       "    .dataframe tbody tr th {\n",
       "        vertical-align: top;\n",
       "    }\n",
       "\n",
       "    .dataframe thead th {\n",
       "        text-align: right;\n",
       "    }\n",
       "</style>\n",
       "<table border=\"1\" class=\"dataframe\">\n",
       "  <thead>\n",
       "    <tr style=\"text-align: right;\">\n",
       "      <th></th>\n",
       "      <th>Sample</th>\n",
       "      <th>Neutrophil_estimate</th>\n",
       "      <th>LV2</th>\n",
       "      <th>LV27</th>\n",
       "      <th>LV34</th>\n",
       "      <th>LV87</th>\n",
       "      <th>Neutrophil.Count</th>\n",
       "      <th>recount2_LV524</th>\n",
       "      <th>recount2_LV603</th>\n",
       "      <th>recount2_LV985</th>\n",
       "    </tr>\n",
       "  </thead>\n",
       "  <tbody>\n",
       "    <tr>\n",
       "      <th>0</th>\n",
       "      <td>GSM1594269</td>\n",
       "      <td>0.521043</td>\n",
       "      <td>0.011861</td>\n",
       "      <td>0.266736</td>\n",
       "      <td>-0.190549</td>\n",
       "      <td>0.223130</td>\n",
       "      <td>5.68</td>\n",
       "      <td>-0.002298</td>\n",
       "      <td>0.040778</td>\n",
       "      <td>-0.016060</td>\n",
       "    </tr>\n",
       "    <tr>\n",
       "      <th>1</th>\n",
       "      <td>GSM1594270</td>\n",
       "      <td>0.462452</td>\n",
       "      <td>0.006286</td>\n",
       "      <td>-0.116695</td>\n",
       "      <td>0.123172</td>\n",
       "      <td>-0.258540</td>\n",
       "      <td>1.73</td>\n",
       "      <td>-0.013544</td>\n",
       "      <td>-0.034074</td>\n",
       "      <td>0.049677</td>\n",
       "    </tr>\n",
       "    <tr>\n",
       "      <th>2</th>\n",
       "      <td>GSM1594271</td>\n",
       "      <td>0.605204</td>\n",
       "      <td>0.101035</td>\n",
       "      <td>0.239062</td>\n",
       "      <td>0.667674</td>\n",
       "      <td>0.455306</td>\n",
       "      <td>4.16</td>\n",
       "      <td>0.103794</td>\n",
       "      <td>0.203406</td>\n",
       "      <td>0.171382</td>\n",
       "    </tr>\n",
       "    <tr>\n",
       "      <th>3</th>\n",
       "      <td>GSM1594273</td>\n",
       "      <td>0.378277</td>\n",
       "      <td>-0.002747</td>\n",
       "      <td>-0.320055</td>\n",
       "      <td>-0.152002</td>\n",
       "      <td>0.026976</td>\n",
       "      <td>2.52</td>\n",
       "      <td>-0.027902</td>\n",
       "      <td>-0.021666</td>\n",
       "      <td>0.023682</td>\n",
       "    </tr>\n",
       "    <tr>\n",
       "      <th>4</th>\n",
       "      <td>GSM1594274</td>\n",
       "      <td>0.541385</td>\n",
       "      <td>-0.094829</td>\n",
       "      <td>0.226326</td>\n",
       "      <td>0.454731</td>\n",
       "      <td>0.175605</td>\n",
       "      <td>4.96</td>\n",
       "      <td>0.099851</td>\n",
       "      <td>0.085479</td>\n",
       "      <td>0.011739</td>\n",
       "    </tr>\n",
       "  </tbody>\n",
       "</table>\n",
       "</div>"
      ],
      "text/plain": [
       "       Sample  Neutrophil_estimate       LV2      LV27      LV34      LV87  \\\n",
       "0  GSM1594269             0.521043  0.011861  0.266736 -0.190549  0.223130   \n",
       "1  GSM1594270             0.462452  0.006286 -0.116695  0.123172 -0.258540   \n",
       "2  GSM1594271             0.605204  0.101035  0.239062  0.667674  0.455306   \n",
       "3  GSM1594273             0.378277 -0.002747 -0.320055 -0.152002  0.026976   \n",
       "4  GSM1594274             0.541385 -0.094829  0.226326  0.454731  0.175605   \n",
       "\n",
       "   Neutrophil.Count  recount2_LV524  recount2_LV603  recount2_LV985  \n",
       "0              5.68       -0.002298        0.040778       -0.016060  \n",
       "1              1.73       -0.013544       -0.034074        0.049677  \n",
       "2              4.16        0.103794        0.203406        0.171382  \n",
       "3              2.52       -0.027902       -0.021666        0.023682  \n",
       "4              4.96        0.099851        0.085479        0.011739  "
      ]
     },
     "execution_count": 9,
     "metadata": {},
     "output_type": "execute_result"
    }
   ],
   "source": [
    "data.head()"
   ]
  },
  {
   "cell_type": "markdown",
   "metadata": {},
   "source": [
    "# Plot"
   ]
  },
  {
   "cell_type": "code",
   "execution_count": 10,
   "metadata": {},
   "outputs": [
    {
     "data": {
      "image/png": "[encoded data removed]",
      "text/plain": [
       "<Figure size 360x360 with 1 Axes>"
      ]
     },
     "metadata": {
      "needs_background": "light"
     },
     "output_type": "display_data"
    }
   ],
   "source": [
    "with sns.plotting_context(\"paper\", font_scale=3.0):\n",
    "    g = sns.lmplot(\n",
    "        data=data.rename(\n",
    "            columns={\n",
    "                f\"recount2_LV{LV_NUMBER_SELECTED}\": f\"MultiPLIER LV{LV_NUMBER_SELECTED}\",\n",
    "                \"Neutrophil_estimate\": \"Neutrophils estimate\",\n",
    "            }\n",
    "        ),\n",
    "        x=f\"MultiPLIER LV{LV_NUMBER_SELECTED}\",\n",
    "        y=\"Neutrophils estimate\",\n",
    "        scatter_kws={\"rasterized\": True},\n",
    "    )\n",
    "\n",
    "    g.ax.set_xlabel(f\"$\\mathbf{{B}}_{{\\mathrm{{LV}}{LV_NUMBER_SELECTED}}}$\")\n",
    "    g.ax.set_ylabel(\"Neutrophils\\nestimate\")\n",
    "    g.set_xticklabels([])\n",
    "    g.set_yticklabels([])\n",
    "    plt.tight_layout()\n",
    "\n",
    "    # save figure\n",
    "    plt.savefig(\n",
    "        Path(OUTPUT_FIGURES_DIR, \"lv603_vs_multiplier_neutrophils.pdf\"),\n",
    "        dpi=300,\n",
    "        bbox_inches=\"tight\",\n",
    "    )"
   ]
  },
  {
   "cell_type": "code",
   "execution_count": null,
   "metadata": {},
   "outputs": [],
   "source": []
  }
 ],
 "metadata": {
  "jupytext": {
   "cell_metadata_filter": "all,-execution,-papermill,-trusted",
   "formats": "ipynb,py//py:percent"
  },
  "kernelspec": {
   "display_name": "Python 3",
   "language": "python",
   "name": "python3"
  },
  "language_info": {
   "codemirror_mode": {
    "name": "ipython",
    "version": 3
   },
   "file_extension": ".py",
   "mimetype": "text/x-python",
   "name": "python",
   "nbconvert_exporter": "python",
   "pygments_lexer": "ipython3",
   "version": "3.8.8"
  }
 },
 "nbformat": 4,
 "nbformat_minor": 4
}
