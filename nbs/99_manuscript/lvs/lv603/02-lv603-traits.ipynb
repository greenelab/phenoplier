{
 "cells": [
  {
   "cell_type": "markdown",
   "metadata": {},
   "source": [
    "# Description"
   ]
  },
  {
   "cell_type": "markdown",
   "metadata": {},
   "source": [
    "Generates a plot with the top traits and traits categories for LV603 (a neutrophil-termed latent variable in MultiPLIER)."
   ]
  },
  {
   "cell_type": "markdown",
   "metadata": {},
   "source": [
    "# Modules loading"
   ]
  },
  {
   "cell_type": "code",
   "execution_count": 1,
   "metadata": {},
   "outputs": [],
   "source": [
    "%load_ext autoreload\n",
    "%autoreload 2"
   ]
  },
  {
   "cell_type": "code",
   "execution_count": 2,
   "metadata": {},
   "outputs": [],
   "source": [
    "from pathlib import Path\n",
    "\n",
    "import numpy as np\n",
    "import pandas as pd\n",
    "from matplotlib import pyplot as plt\n",
    "import matplotlib.ticker as ticker\n",
    "import seaborn as sns\n",
    "\n",
    "import conf"
   ]
  },
  {
   "cell_type": "code",
   "execution_count": 3,
   "metadata": {},
   "outputs": [
    {
     "data": {
      "text/plain": [
       "'/opt/manuscript'"
      ]
     },
     "metadata": {},
     "output_type": "display_data"
    }
   ],
   "source": [
    "assert (\n",
    "    conf.MANUSCRIPT[\"BASE_DIR\"] is not None\n",
    "), \"The manuscript directory was not configured\"\n",
    "\n",
    "display(conf.MANUSCRIPT[\"BASE_DIR\"])"
   ]
  },
  {
   "cell_type": "markdown",
   "metadata": {},
   "source": [
    "# Settings"
   ]
  },
  {
   "cell_type": "code",
   "execution_count": 4,
   "metadata": {},
   "outputs": [
    {
     "data": {
      "text/plain": [
       "'LV603'"
      ]
     },
     "metadata": {},
     "output_type": "display_data"
    }
   ],
   "source": [
    "LV_NUMBER_SELECTED = 603\n",
    "LV_NAME_SELECTED = f\"LV{LV_NUMBER_SELECTED}\"\n",
    "display(LV_NAME_SELECTED)"
   ]
  },
  {
   "cell_type": "code",
   "execution_count": 5,
   "metadata": {},
   "outputs": [
    {
     "data": {
      "text/plain": [
       "PosixPath('/opt/manuscript/content/images/entire_process')"
      ]
     },
     "metadata": {},
     "output_type": "display_data"
    }
   ],
   "source": [
    "OUTPUT_FIGURES_DIR = Path(conf.MANUSCRIPT[\"FIGURES_DIR\"], \"entire_process\").resolve()\n",
    "display(OUTPUT_FIGURES_DIR)\n",
    "OUTPUT_FIGURES_DIR.mkdir(parents=True, exist_ok=True)"
   ]
  },
  {
   "cell_type": "markdown",
   "metadata": {},
   "source": [
    "# Load data"
   ]
  },
  {
   "cell_type": "code",
   "execution_count": 6,
   "metadata": {
    "papermill": {
     "duration": 0.02974,
     "end_time": "2021-01-12T05:38:04.402182",
     "exception": false,
     "start_time": "2021-01-12T05:38:04.372442",
     "status": "completed"
    },
    "tags": []
   },
   "outputs": [
    {
     "data": {
      "text/plain": [
       "PosixPath('/opt/data/results/projections/projection-smultixcan-efo_partial-mashr-zscores.pkl')"
      ]
     },
     "metadata": {},
     "output_type": "display_data"
    }
   ],
   "source": [
    "input_filepath = Path(\n",
    "    conf.RESULTS[\"PROJECTIONS_DIR\"],\n",
    "    \"projection-smultixcan-efo_partial-mashr-zscores.pkl\",\n",
    ").resolve()\n",
    "display(input_filepath)\n",
    "\n",
    "assert input_filepath.exists(), \"Input file does not exist\""
   ]
  },
  {
   "cell_type": "code",
   "execution_count": 7,
   "metadata": {
    "papermill": {
     "duration": 0.051515,
     "end_time": "2021-01-12T06:42:49.753107",
     "exception": false,
     "start_time": "2021-01-12T06:42:49.701592",
     "status": "completed"
    },
    "tags": []
   },
   "outputs": [],
   "source": [
    "data = pd.read_pickle(input_filepath)"
   ]
  },
  {
   "cell_type": "code",
   "execution_count": 8,
   "metadata": {
    "papermill": {
     "duration": 0.038307,
     "end_time": "2021-01-12T06:42:49.817490",
     "exception": false,
     "start_time": "2021-01-12T06:42:49.779183",
     "status": "completed"
    },
    "tags": []
   },
   "outputs": [
    {
     "data": {
      "text/plain": [
       "(987, 3752)"
      ]
     },
     "execution_count": 8,
     "metadata": {},
     "output_type": "execute_result"
    }
   ],
   "source": [
    "data.shape"
   ]
  },
  {
   "cell_type": "code",
   "execution_count": 9,
   "metadata": {
    "papermill": {
     "duration": 0.051155,
     "end_time": "2021-01-12T06:42:49.893802",
     "exception": false,
     "start_time": "2021-01-12T06:42:49.842647",
     "status": "completed"
    },
    "tags": []
   },
   "outputs": [
    {
     "data": {
      "text/html": [
       "<div>\n",
       "<style scoped>\n",
       "    .dataframe tbody tr th:only-of-type {\n",
       "        vertical-align: middle;\n",
       "    }\n",
       "\n",
       "    .dataframe tbody tr th {\n",
       "        vertical-align: top;\n",
       "    }\n",
       "\n",
       "    .dataframe thead th {\n",
       "        text-align: right;\n",
       "    }\n",
       "</style>\n",
       "<table border=\"1\" class=\"dataframe\">\n",
       "  <thead>\n",
       "    <tr style=\"text-align: right;\">\n",
       "      <th></th>\n",
       "      <th>100001_raw-Food_weight</th>\n",
       "      <th>100002_raw-Energy</th>\n",
       "      <th>100003_raw-Protein</th>\n",
       "      <th>100004_raw-Fat</th>\n",
       "      <th>100005_raw-Carbohydrate</th>\n",
       "      <th>100006_raw-Saturated_fat</th>\n",
       "      <th>100007_raw-Polyunsaturated_fat</th>\n",
       "      <th>100008_raw-Total_sugars</th>\n",
       "      <th>100009_raw-Englyst_dietary_fibre</th>\n",
       "      <th>100010-Portion_size</th>\n",
       "      <th>...</th>\n",
       "      <th>visual impairment</th>\n",
       "      <th>vitiligo</th>\n",
       "      <th>vitreous body disease</th>\n",
       "      <th>vocal cord polyp</th>\n",
       "      <th>voice disorders</th>\n",
       "      <th>wellbeing measurement AND family relationship</th>\n",
       "      <th>wheezing</th>\n",
       "      <th>whooping cough</th>\n",
       "      <th>worry measurement</th>\n",
       "      <th>wrist fracture</th>\n",
       "    </tr>\n",
       "  </thead>\n",
       "  <tbody>\n",
       "    <tr>\n",
       "      <th>LV1</th>\n",
       "      <td>-0.021292</td>\n",
       "      <td>-0.046815</td>\n",
       "      <td>-0.021585</td>\n",
       "      <td>-0.030324</td>\n",
       "      <td>-0.017773</td>\n",
       "      <td>-0.007844</td>\n",
       "      <td>-0.015529</td>\n",
       "      <td>-0.011609</td>\n",
       "      <td>-0.051342</td>\n",
       "      <td>-0.036813</td>\n",
       "      <td>...</td>\n",
       "      <td>-0.001614</td>\n",
       "      <td>0.002102</td>\n",
       "      <td>-0.005318</td>\n",
       "      <td>-0.003041</td>\n",
       "      <td>0.012873</td>\n",
       "      <td>-0.015951</td>\n",
       "      <td>-0.018904</td>\n",
       "      <td>0.009576</td>\n",
       "      <td>0.019755</td>\n",
       "      <td>0.010027</td>\n",
       "    </tr>\n",
       "    <tr>\n",
       "      <th>LV2</th>\n",
       "      <td>0.056061</td>\n",
       "      <td>-0.009864</td>\n",
       "      <td>-0.028888</td>\n",
       "      <td>-0.053573</td>\n",
       "      <td>0.006951</td>\n",
       "      <td>-0.054597</td>\n",
       "      <td>-0.030748</td>\n",
       "      <td>0.014519</td>\n",
       "      <td>-0.026933</td>\n",
       "      <td>0.009024</td>\n",
       "      <td>...</td>\n",
       "      <td>-0.029614</td>\n",
       "      <td>-0.033636</td>\n",
       "      <td>0.020768</td>\n",
       "      <td>0.010656</td>\n",
       "      <td>-0.013305</td>\n",
       "      <td>0.050738</td>\n",
       "      <td>0.012085</td>\n",
       "      <td>-0.032372</td>\n",
       "      <td>-0.024540</td>\n",
       "      <td>-0.002616</td>\n",
       "    </tr>\n",
       "    <tr>\n",
       "      <th>LV3</th>\n",
       "      <td>0.001650</td>\n",
       "      <td>-0.004262</td>\n",
       "      <td>0.019211</td>\n",
       "      <td>0.007484</td>\n",
       "      <td>0.004548</td>\n",
       "      <td>0.006548</td>\n",
       "      <td>0.006741</td>\n",
       "      <td>-0.005634</td>\n",
       "      <td>-0.022129</td>\n",
       "      <td>-0.017256</td>\n",
       "      <td>...</td>\n",
       "      <td>0.010539</td>\n",
       "      <td>-0.019591</td>\n",
       "      <td>-0.013391</td>\n",
       "      <td>-0.044369</td>\n",
       "      <td>0.020142</td>\n",
       "      <td>0.006052</td>\n",
       "      <td>0.020869</td>\n",
       "      <td>0.043931</td>\n",
       "      <td>0.058049</td>\n",
       "      <td>-0.013144</td>\n",
       "    </tr>\n",
       "    <tr>\n",
       "      <th>LV4</th>\n",
       "      <td>0.026265</td>\n",
       "      <td>-0.007235</td>\n",
       "      <td>0.004304</td>\n",
       "      <td>-0.042464</td>\n",
       "      <td>-0.001093</td>\n",
       "      <td>-0.041208</td>\n",
       "      <td>-0.051179</td>\n",
       "      <td>0.009060</td>\n",
       "      <td>-0.003999</td>\n",
       "      <td>-0.005874</td>\n",
       "      <td>...</td>\n",
       "      <td>-0.018162</td>\n",
       "      <td>0.012136</td>\n",
       "      <td>-0.046232</td>\n",
       "      <td>-0.030949</td>\n",
       "      <td>-0.040147</td>\n",
       "      <td>0.044545</td>\n",
       "      <td>0.009865</td>\n",
       "      <td>-0.049828</td>\n",
       "      <td>-0.013725</td>\n",
       "      <td>0.024988</td>\n",
       "    </tr>\n",
       "    <tr>\n",
       "      <th>LV5</th>\n",
       "      <td>-0.015616</td>\n",
       "      <td>0.010799</td>\n",
       "      <td>0.017792</td>\n",
       "      <td>0.010591</td>\n",
       "      <td>0.001972</td>\n",
       "      <td>0.040024</td>\n",
       "      <td>-0.027612</td>\n",
       "      <td>-0.001540</td>\n",
       "      <td>0.033072</td>\n",
       "      <td>0.009477</td>\n",
       "      <td>...</td>\n",
       "      <td>0.030632</td>\n",
       "      <td>-0.023253</td>\n",
       "      <td>0.015853</td>\n",
       "      <td>-0.002222</td>\n",
       "      <td>0.019385</td>\n",
       "      <td>-0.015501</td>\n",
       "      <td>-0.031477</td>\n",
       "      <td>-0.002554</td>\n",
       "      <td>-0.032620</td>\n",
       "      <td>0.017731</td>\n",
       "    </tr>\n",
       "  </tbody>\n",
       "</table>\n",
       "<p>5 rows × 3752 columns</p>\n",
       "</div>"
      ],
      "text/plain": [
       "     100001_raw-Food_weight  100002_raw-Energy  100003_raw-Protein  \\\n",
       "LV1               -0.021292          -0.046815           -0.021585   \n",
       "LV2                0.056061          -0.009864           -0.028888   \n",
       "LV3                0.001650          -0.004262            0.019211   \n",
       "LV4                0.026265          -0.007235            0.004304   \n",
       "LV5               -0.015616           0.010799            0.017792   \n",
       "\n",
       "     100004_raw-Fat  100005_raw-Carbohydrate  100006_raw-Saturated_fat  \\\n",
       "LV1       -0.030324                -0.017773                 -0.007844   \n",
       "LV2       -0.053573                 0.006951                 -0.054597   \n",
       "LV3        0.007484                 0.004548                  0.006548   \n",
       "LV4       -0.042464                -0.001093                 -0.041208   \n",
       "LV5        0.010591                 0.001972                  0.040024   \n",
       "\n",
       "     100007_raw-Polyunsaturated_fat  100008_raw-Total_sugars  \\\n",
       "LV1                       -0.015529                -0.011609   \n",
       "LV2                       -0.030748                 0.014519   \n",
       "LV3                        0.006741                -0.005634   \n",
       "LV4                       -0.051179                 0.009060   \n",
       "LV5                       -0.027612                -0.001540   \n",
       "\n",
       "     100009_raw-Englyst_dietary_fibre  100010-Portion_size  ...  \\\n",
       "LV1                         -0.051342            -0.036813  ...   \n",
       "LV2                         -0.026933             0.009024  ...   \n",
       "LV3                         -0.022129            -0.017256  ...   \n",
       "LV4                         -0.003999            -0.005874  ...   \n",
       "LV5                          0.033072             0.009477  ...   \n",
       "\n",
       "     visual impairment  vitiligo  vitreous body disease  vocal cord polyp  \\\n",
       "LV1          -0.001614  0.002102              -0.005318         -0.003041   \n",
       "LV2          -0.029614 -0.033636               0.020768          0.010656   \n",
       "LV3           0.010539 -0.019591              -0.013391         -0.044369   \n",
       "LV4          -0.018162  0.012136              -0.046232         -0.030949   \n",
       "LV5           0.030632 -0.023253               0.015853         -0.002222   \n",
       "\n",
       "     voice disorders  wellbeing measurement AND family relationship  wheezing  \\\n",
       "LV1         0.012873                                      -0.015951 -0.018904   \n",
       "LV2        -0.013305                                       0.050738  0.012085   \n",
       "LV3         0.020142                                       0.006052  0.020869   \n",
       "LV4        -0.040147                                       0.044545  0.009865   \n",
       "LV5         0.019385                                      -0.015501 -0.031477   \n",
       "\n",
       "     whooping cough  worry measurement  wrist fracture  \n",
       "LV1        0.009576           0.019755        0.010027  \n",
       "LV2       -0.032372          -0.024540       -0.002616  \n",
       "LV3        0.043931           0.058049       -0.013144  \n",
       "LV4       -0.049828          -0.013725        0.024988  \n",
       "LV5       -0.002554          -0.032620        0.017731  \n",
       "\n",
       "[5 rows x 3752 columns]"
      ]
     },
     "execution_count": 9,
     "metadata": {},
     "output_type": "execute_result"
    }
   ],
   "source": [
    "data.head()"
   ]
  },
  {
   "cell_type": "markdown",
   "metadata": {},
   "source": [
    "# Show LV traits"
   ]
  },
  {
   "cell_type": "code",
   "execution_count": 10,
   "metadata": {},
   "outputs": [],
   "source": [
    "from entity import Trait"
   ]
  },
  {
   "cell_type": "code",
   "execution_count": 11,
   "metadata": {},
   "outputs": [
    {
     "data": {
      "text/plain": [
       "30220_raw-Basophill_percentage                                   0.181608\n",
       "30130_raw-Monocyte_count                                         0.158166\n",
       "30000_raw-White_blood_cell_leukocyte_count                       0.146061\n",
       "myeloid white cell count                                         0.133998\n",
       "leukocyte count                                                  0.131486\n",
       "sum of neutrophil and eosinophil counts                          0.128405\n",
       "granulocyte count                                                0.128316\n",
       "sum of basophil and neutrophil counts                            0.126586\n",
       "neutrophil count                                                 0.125868\n",
       "30160-Basophill_count                                            0.122953\n",
       "30180_raw-Lymphocyte_percentage                                  0.119818\n",
       "30140_raw-Neutrophill_count                                      0.113055\n",
       "monocyte count                                                   0.113054\n",
       "20003_1140875420-Treatmentmedication_code_baclofen               0.111199\n",
       "30200_raw-Neutrophill_percentage                                 0.106398\n",
       "30190_raw-Monocyte_percentage                                    0.095853\n",
       "30120_raw-Lymphocyte_count                                       0.089833\n",
       "M13_DORSOPATHYOTH-Other_dorsopathies_not_elsewhere_classified    0.081227\n",
       "AB1_VIRAL_CNS-Viral_infections_of_the_central_nervous_system     0.080479\n",
       "20022_raw-Birth_weight                                           0.080032\n",
       "Name: LV603, dtype: float64"
      ]
     },
     "metadata": {},
     "output_type": "display_data"
    }
   ],
   "source": [
    "# Show related traits\n",
    "lv_traits = data.loc[LV_NAME_SELECTED].sort_values(ascending=False)\n",
    "display(lv_traits.head(20))"
   ]
  },
  {
   "cell_type": "markdown",
   "metadata": {},
   "source": [
    "# Remove repeated traits"
   ]
  },
  {
   "cell_type": "markdown",
   "metadata": {},
   "source": [
    "Here I remove traits that represent the same phenotype. I remove the least significant trait from duplicates."
   ]
  },
  {
   "cell_type": "code",
   "execution_count": 12,
   "metadata": {},
   "outputs": [],
   "source": [
    "lv_traits_to_remove = [\n",
    "    \"leukocyte count\",\n",
    "    \"30140_raw-Neutrophill_count\",\n",
    "    \"monocyte count\",\n",
    "]"
   ]
  },
  {
   "cell_type": "code",
   "execution_count": 13,
   "metadata": {},
   "outputs": [
    {
     "data": {
      "text/plain": [
       "(3749,)"
      ]
     },
     "metadata": {},
     "output_type": "display_data"
    }
   ],
   "source": [
    "_old_len = lv_traits.shape[0]\n",
    "lv_traits = lv_traits.drop(lv_traits_to_remove)\n",
    "assert lv_traits.shape[0] == _old_len - len(lv_traits_to_remove)\n",
    "display(lv_traits.shape)"
   ]
  },
  {
   "cell_type": "markdown",
   "metadata": {},
   "source": [
    "# Rename LV traits"
   ]
  },
  {
   "cell_type": "code",
   "execution_count": 14,
   "metadata": {},
   "outputs": [],
   "source": [
    "lv_traits = lv_traits.reset_index().rename(columns={\"index\": \"traits\"})"
   ]
  },
  {
   "cell_type": "code",
   "execution_count": 15,
   "metadata": {},
   "outputs": [
    {
     "data": {
      "text/html": [
       "<div>\n",
       "<style scoped>\n",
       "    .dataframe tbody tr th:only-of-type {\n",
       "        vertical-align: middle;\n",
       "    }\n",
       "\n",
       "    .dataframe tbody tr th {\n",
       "        vertical-align: top;\n",
       "    }\n",
       "\n",
       "    .dataframe thead th {\n",
       "        text-align: right;\n",
       "    }\n",
       "</style>\n",
       "<table border=\"1\" class=\"dataframe\">\n",
       "  <thead>\n",
       "    <tr style=\"text-align: right;\">\n",
       "      <th></th>\n",
       "      <th>traits</th>\n",
       "      <th>LV603</th>\n",
       "    </tr>\n",
       "  </thead>\n",
       "  <tbody>\n",
       "    <tr>\n",
       "      <th>0</th>\n",
       "      <td>30220_raw-Basophill_percentage</td>\n",
       "      <td>0.181608</td>\n",
       "    </tr>\n",
       "    <tr>\n",
       "      <th>1</th>\n",
       "      <td>30130_raw-Monocyte_count</td>\n",
       "      <td>0.158166</td>\n",
       "    </tr>\n",
       "    <tr>\n",
       "      <th>2</th>\n",
       "      <td>30000_raw-White_blood_cell_leukocyte_count</td>\n",
       "      <td>0.146061</td>\n",
       "    </tr>\n",
       "    <tr>\n",
       "      <th>3</th>\n",
       "      <td>myeloid white cell count</td>\n",
       "      <td>0.133998</td>\n",
       "    </tr>\n",
       "    <tr>\n",
       "      <th>4</th>\n",
       "      <td>sum of neutrophil and eosinophil counts</td>\n",
       "      <td>0.128405</td>\n",
       "    </tr>\n",
       "    <tr>\n",
       "      <th>...</th>\n",
       "      <td>...</td>\n",
       "      <td>...</td>\n",
       "    </tr>\n",
       "    <tr>\n",
       "      <th>3744</th>\n",
       "      <td>benign ovarian neoplasm</td>\n",
       "      <td>-0.072049</td>\n",
       "    </tr>\n",
       "    <tr>\n",
       "      <th>3745</th>\n",
       "      <td>20003_1141146188-Treatmentmedication_code_lata...</td>\n",
       "      <td>-0.077001</td>\n",
       "    </tr>\n",
       "    <tr>\n",
       "      <th>3746</th>\n",
       "      <td>30260_raw-Mean_reticulocyte_volume</td>\n",
       "      <td>-0.081312</td>\n",
       "    </tr>\n",
       "    <tr>\n",
       "      <th>3747</th>\n",
       "      <td>M13_SHOULDER-Shoulder_lesions</td>\n",
       "      <td>-0.081334</td>\n",
       "    </tr>\n",
       "    <tr>\n",
       "      <th>3748</th>\n",
       "      <td>41248_3001-Destinations_on_discharge_from_hosp...</td>\n",
       "      <td>-0.130146</td>\n",
       "    </tr>\n",
       "  </tbody>\n",
       "</table>\n",
       "<p>3749 rows × 2 columns</p>\n",
       "</div>"
      ],
      "text/plain": [
       "                                                 traits     LV603\n",
       "0                        30220_raw-Basophill_percentage  0.181608\n",
       "1                              30130_raw-Monocyte_count  0.158166\n",
       "2            30000_raw-White_blood_cell_leukocyte_count  0.146061\n",
       "3                              myeloid white cell count  0.133998\n",
       "4               sum of neutrophil and eosinophil counts  0.128405\n",
       "...                                                 ...       ...\n",
       "3744                            benign ovarian neoplasm -0.072049\n",
       "3745  20003_1141146188-Treatmentmedication_code_lata... -0.077001\n",
       "3746                 30260_raw-Mean_reticulocyte_volume -0.081312\n",
       "3747                      M13_SHOULDER-Shoulder_lesions -0.081334\n",
       "3748  41248_3001-Destinations_on_discharge_from_hosp... -0.130146\n",
       "\n",
       "[3749 rows x 2 columns]"
      ]
     },
     "execution_count": 15,
     "metadata": {},
     "output_type": "execute_result"
    }
   ],
   "source": [
    "lv_traits"
   ]
  },
  {
   "cell_type": "code",
   "execution_count": 16,
   "metadata": {},
   "outputs": [],
   "source": [
    "lv_traits = lv_traits.replace(\n",
    "    {\n",
    "        \"traits\": {\n",
    "            t: (\n",
    "                Trait.get_traits_from_efo(t)[0].description\n",
    "                if Trait.is_efo_label(t)\n",
    "                else Trait.get_trait(full_code=t).description\n",
    "            )\n",
    "            for t in lv_traits[\"traits\"].values\n",
    "        }\n",
    "    }\n",
    ")"
   ]
  },
  {
   "cell_type": "code",
   "execution_count": 17,
   "metadata": {},
   "outputs": [
    {
     "data": {
      "text/html": [
       "<div>\n",
       "<style scoped>\n",
       "    .dataframe tbody tr th:only-of-type {\n",
       "        vertical-align: middle;\n",
       "    }\n",
       "\n",
       "    .dataframe tbody tr th {\n",
       "        vertical-align: top;\n",
       "    }\n",
       "\n",
       "    .dataframe thead th {\n",
       "        text-align: right;\n",
       "    }\n",
       "</style>\n",
       "<table border=\"1\" class=\"dataframe\">\n",
       "  <thead>\n",
       "    <tr style=\"text-align: right;\">\n",
       "      <th></th>\n",
       "      <th>traits</th>\n",
       "      <th>LV603</th>\n",
       "    </tr>\n",
       "  </thead>\n",
       "  <tbody>\n",
       "    <tr>\n",
       "      <th>0</th>\n",
       "      <td>Basophill percentage</td>\n",
       "      <td>0.181608</td>\n",
       "    </tr>\n",
       "    <tr>\n",
       "      <th>1</th>\n",
       "      <td>Monocyte count</td>\n",
       "      <td>0.158166</td>\n",
       "    </tr>\n",
       "    <tr>\n",
       "      <th>2</th>\n",
       "      <td>White blood cell (leukocyte) count</td>\n",
       "      <td>0.146061</td>\n",
       "    </tr>\n",
       "    <tr>\n",
       "      <th>3</th>\n",
       "      <td>Myeloid White Cell Count</td>\n",
       "      <td>0.133998</td>\n",
       "    </tr>\n",
       "    <tr>\n",
       "      <th>4</th>\n",
       "      <td>Sum Neutrophil Eosinophil Count</td>\n",
       "      <td>0.128405</td>\n",
       "    </tr>\n",
       "    <tr>\n",
       "      <th>5</th>\n",
       "      <td>Granulocyte Count</td>\n",
       "      <td>0.128316</td>\n",
       "    </tr>\n",
       "    <tr>\n",
       "      <th>6</th>\n",
       "      <td>Sum Basophil Neutrophil Count</td>\n",
       "      <td>0.126586</td>\n",
       "    </tr>\n",
       "    <tr>\n",
       "      <th>7</th>\n",
       "      <td>Neutrophil Count</td>\n",
       "      <td>0.125868</td>\n",
       "    </tr>\n",
       "    <tr>\n",
       "      <th>8</th>\n",
       "      <td>Basophill count</td>\n",
       "      <td>0.122953</td>\n",
       "    </tr>\n",
       "    <tr>\n",
       "      <th>9</th>\n",
       "      <td>Lymphocyte percentage</td>\n",
       "      <td>0.119818</td>\n",
       "    </tr>\n",
       "  </tbody>\n",
       "</table>\n",
       "</div>"
      ],
      "text/plain": [
       "                               traits     LV603\n",
       "0                Basophill percentage  0.181608\n",
       "1                      Monocyte count  0.158166\n",
       "2  White blood cell (leukocyte) count  0.146061\n",
       "3            Myeloid White Cell Count  0.133998\n",
       "4     Sum Neutrophil Eosinophil Count  0.128405\n",
       "5                   Granulocyte Count  0.128316\n",
       "6       Sum Basophil Neutrophil Count  0.126586\n",
       "7                    Neutrophil Count  0.125868\n",
       "8                     Basophill count  0.122953\n",
       "9               Lymphocyte percentage  0.119818"
      ]
     },
     "execution_count": 17,
     "metadata": {},
     "output_type": "execute_result"
    }
   ],
   "source": [
    "lv_traits.head(10)"
   ]
  },
  {
   "cell_type": "code",
   "execution_count": 18,
   "metadata": {},
   "outputs": [],
   "source": [
    "lv_traits = lv_traits.replace(\n",
    "    {\n",
    "        \"traits\": {\n",
    "            \"Neutrophil Count\": \"Neutrophil #\",\n",
    "            \"Monocyte count\": \"Monocyte #\",\n",
    "            \"Basophill count\": \"Basophil #\",\n",
    "            \"White blood cell (leukocyte) count\": \"Leukocyte #\",\n",
    "            \"Basophill percentage\": \"Basophil %\",\n",
    "            \"Lymphocyte percentage\": \"Lymphocyte %\",\n",
    "            \"Neutrophill percentage\": \"Neutrophil %\",\n",
    "            \"Mean platelet (thrombocyte) volume\": \"Mean platelet volume\",\n",
    "            \"Myeloid White Cell Count\": \"Myeloid white cell #\",\n",
    "            \"Sum Neutrophil Eosinophil Count\": \"Neutrophil+Eosinophil #\",\n",
    "            \"Granulocyte Count\": \"Granulocyte #\",\n",
    "            #     'Platelet crit': 'PCT',\n",
    "            \"Sum Basophil Neutrophil Count\": \"Basophil+Neutrophil #\",\n",
    "        }\n",
    "    }\n",
    ")"
   ]
  },
  {
   "cell_type": "code",
   "execution_count": 19,
   "metadata": {},
   "outputs": [
    {
     "data": {
      "text/html": [
       "<div>\n",
       "<style scoped>\n",
       "    .dataframe tbody tr th:only-of-type {\n",
       "        vertical-align: middle;\n",
       "    }\n",
       "\n",
       "    .dataframe tbody tr th {\n",
       "        vertical-align: top;\n",
       "    }\n",
       "\n",
       "    .dataframe thead th {\n",
       "        text-align: right;\n",
       "    }\n",
       "</style>\n",
       "<table border=\"1\" class=\"dataframe\">\n",
       "  <thead>\n",
       "    <tr style=\"text-align: right;\">\n",
       "      <th></th>\n",
       "      <th>traits</th>\n",
       "      <th>LV603</th>\n",
       "    </tr>\n",
       "  </thead>\n",
       "  <tbody>\n",
       "    <tr>\n",
       "      <th>0</th>\n",
       "      <td>Basophil %</td>\n",
       "      <td>0.181608</td>\n",
       "    </tr>\n",
       "    <tr>\n",
       "      <th>1</th>\n",
       "      <td>Monocyte #</td>\n",
       "      <td>0.158166</td>\n",
       "    </tr>\n",
       "    <tr>\n",
       "      <th>2</th>\n",
       "      <td>Leukocyte #</td>\n",
       "      <td>0.146061</td>\n",
       "    </tr>\n",
       "    <tr>\n",
       "      <th>3</th>\n",
       "      <td>Myeloid white cell #</td>\n",
       "      <td>0.133998</td>\n",
       "    </tr>\n",
       "    <tr>\n",
       "      <th>4</th>\n",
       "      <td>Neutrophil+Eosinophil #</td>\n",
       "      <td>0.128405</td>\n",
       "    </tr>\n",
       "    <tr>\n",
       "      <th>5</th>\n",
       "      <td>Granulocyte #</td>\n",
       "      <td>0.128316</td>\n",
       "    </tr>\n",
       "    <tr>\n",
       "      <th>6</th>\n",
       "      <td>Basophil+Neutrophil #</td>\n",
       "      <td>0.126586</td>\n",
       "    </tr>\n",
       "    <tr>\n",
       "      <th>7</th>\n",
       "      <td>Neutrophil #</td>\n",
       "      <td>0.125868</td>\n",
       "    </tr>\n",
       "    <tr>\n",
       "      <th>8</th>\n",
       "      <td>Basophil #</td>\n",
       "      <td>0.122953</td>\n",
       "    </tr>\n",
       "    <tr>\n",
       "      <th>9</th>\n",
       "      <td>Lymphocyte %</td>\n",
       "      <td>0.119818</td>\n",
       "    </tr>\n",
       "  </tbody>\n",
       "</table>\n",
       "</div>"
      ],
      "text/plain": [
       "                    traits     LV603\n",
       "0               Basophil %  0.181608\n",
       "1               Monocyte #  0.158166\n",
       "2              Leukocyte #  0.146061\n",
       "3     Myeloid white cell #  0.133998\n",
       "4  Neutrophil+Eosinophil #  0.128405\n",
       "5            Granulocyte #  0.128316\n",
       "6    Basophil+Neutrophil #  0.126586\n",
       "7             Neutrophil #  0.125868\n",
       "8               Basophil #  0.122953\n",
       "9             Lymphocyte %  0.119818"
      ]
     },
     "execution_count": 19,
     "metadata": {},
     "output_type": "execute_result"
    }
   ],
   "source": [
    "lv_traits.head(10)"
   ]
  },
  {
   "cell_type": "markdown",
   "metadata": {},
   "source": [
    "# Plot"
   ]
  },
  {
   "cell_type": "code",
   "execution_count": 20,
   "metadata": {},
   "outputs": [
    {
     "data": {
      "image/png": "[encoded data removed]",
      "text/plain": [
       "<Figure size 1123.2x432 with 1 Axes>"
      ]
     },
     "metadata": {
      "needs_background": "light"
     },
     "output_type": "display_data"
    }
   ],
   "source": [
    "with sns.plotting_context(\"paper\", font_scale=5.0):\n",
    "    g = sns.catplot(\n",
    "        data=lv_traits.rename(\n",
    "            columns={\n",
    "                \"traits\": \"Traits\",\n",
    "            }\n",
    "        ).head(10),\n",
    "        x=\"Traits\",\n",
    "        y=LV_NAME_SELECTED,\n",
    "        kind=\"bar\",\n",
    "        aspect=2.6,\n",
    "        height=6,  # ci=None, height=6, aspect=1.6, legend_out=False,\n",
    "        color=\"orange\",\n",
    "    )\n",
    "\n",
    "    g.ax.set_ylabel(f\"$\\mathbf{{\\hat{{M}}}}_{{\\mathrm{{LV}}{LV_NUMBER_SELECTED}}}$\")\n",
    "    g.set_xticklabels(g.ax.get_xticklabels(), rotation=45, horizontalalignment=\"right\")\n",
    "    # g.set_yticklabels([])\n",
    "    g.ax.yaxis.set_major_locator(ticker.LinearLocator(4))\n",
    "    g.ax.yaxis.set_major_formatter(ticker.StrMethodFormatter(\"{x:.2f}\"))\n",
    "    g.ax.set_xlabel(\"\")\n",
    "\n",
    "    # save figure\n",
    "    plt.savefig(Path(OUTPUT_FIGURES_DIR, \"lv603_traits.pdf\"), bbox_inches=\"tight\")"
   ]
  },
  {
   "cell_type": "code",
   "execution_count": null,
   "metadata": {},
   "outputs": [],
   "source": []
  }
 ],
 "metadata": {
  "jupytext": {
   "cell_metadata_filter": "all,-execution,-papermill,-trusted",
   "formats": "ipynb,py//py:percent"
  },
  "kernelspec": {
   "display_name": "Python 3 (ipykernel)",
   "language": "python",
   "name": "python3"
  },
  "language_info": {
   "codemirror_mode": {
    "name": "ipython",
    "version": 3
   },
   "file_extension": ".py",
   "mimetype": "text/x-python",
   "name": "python",
   "nbconvert_exporter": "python",
   "pygments_lexer": "ipython3",
   "version": "3.8.13"
  }
 },
 "nbformat": 4,
 "nbformat_minor": 4
}
