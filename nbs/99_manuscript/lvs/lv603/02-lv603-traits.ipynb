{
 "cells": [
  {
   "cell_type": "markdown",
   "metadata": {},
   "source": [
    "# Description"
   ]
  },
  {
   "cell_type": "markdown",
   "metadata": {},
   "source": [
    "Generates a plot with the top traits and traits categories for LV603 (a neutrophil-termed latent variable in MultiPLIER)."
   ]
  },
  {
   "cell_type": "markdown",
   "metadata": {},
   "source": [
    "# Modules loading"
   ]
  },
  {
   "cell_type": "code",
   "execution_count": 1,
   "metadata": {},
   "outputs": [],
   "source": [
    "%load_ext autoreload\n",
    "%autoreload 2"
   ]
  },
  {
   "cell_type": "code",
   "execution_count": 2,
   "metadata": {},
   "outputs": [],
   "source": [
    "from pathlib import Path\n",
    "\n",
    "import numpy as np\n",
    "import pandas as pd\n",
    "from matplotlib import pyplot as plt\n",
    "import seaborn as sns\n",
    "\n",
    "import conf"
   ]
  },
  {
   "cell_type": "code",
   "execution_count": 3,
   "metadata": {},
   "outputs": [
    {
     "data": {
      "text/plain": [
       "'/home/miltondp/projects/labs/greenelab/phenoplier_manuscript'"
      ]
     },
     "metadata": {},
     "output_type": "display_data"
    }
   ],
   "source": [
    "assert (\n",
    "    conf.MANUSCRIPT[\"BASE_DIR\"] is not None\n",
    "), \"The manuscript directory was not configured\"\n",
    "\n",
    "display(conf.MANUSCRIPT[\"BASE_DIR\"])"
   ]
  },
  {
   "cell_type": "markdown",
   "metadata": {},
   "source": [
    "# Settings"
   ]
  },
  {
   "cell_type": "code",
   "execution_count": 4,
   "metadata": {},
   "outputs": [
    {
     "data": {
      "text/plain": [
       "'LV603'"
      ]
     },
     "metadata": {},
     "output_type": "display_data"
    }
   ],
   "source": [
    "LV_NUMBER_SELECTED = 603\n",
    "LV_NAME_SELECTED = f\"LV{LV_NUMBER_SELECTED}\"\n",
    "display(LV_NAME_SELECTED)"
   ]
  },
  {
   "cell_type": "code",
   "execution_count": 5,
   "metadata": {},
   "outputs": [
    {
     "data": {
      "text/plain": [
       "PosixPath('/home/miltondp/projects/labs/greenelab/phenoplier_manuscript/content/images/entire_process')"
      ]
     },
     "metadata": {},
     "output_type": "display_data"
    }
   ],
   "source": [
    "OUTPUT_FIGURES_DIR = Path(conf.MANUSCRIPT[\"FIGURES_DIR\"], \"entire_process\").resolve()\n",
    "display(OUTPUT_FIGURES_DIR)\n",
    "OUTPUT_FIGURES_DIR.mkdir(parents=True, exist_ok=True)"
   ]
  },
  {
   "cell_type": "markdown",
   "metadata": {},
   "source": [
    "# Load data"
   ]
  },
  {
   "cell_type": "code",
   "execution_count": 6,
   "metadata": {
    "papermill": {
     "duration": 0.02974,
     "end_time": "2021-01-12T05:38:04.402182",
     "exception": false,
     "start_time": "2021-01-12T05:38:04.372442",
     "status": "completed"
    },
    "tags": []
   },
   "outputs": [
    {
     "data": {
      "text/plain": [
       "PosixPath('/home/miltondp/projects/labs/greenelab/phenoplier/bases_data/base_orig/results/projections/projection-smultixcan-mashr-zscores.pkl')"
      ]
     },
     "metadata": {},
     "output_type": "display_data"
    }
   ],
   "source": [
    "input_filepath = Path(\n",
    "    conf.RESULTS[\"PROJECTIONS_DIR\"],\n",
    "    \"projection-smultixcan-mashr-zscores.pkl\",\n",
    ").resolve()\n",
    "display(input_filepath)\n",
    "\n",
    "assert input_filepath.exists(), \"Input file does not exist\""
   ]
  },
  {
   "cell_type": "code",
   "execution_count": 7,
   "metadata": {
    "papermill": {
     "duration": 0.051515,
     "end_time": "2021-01-12T06:42:49.753107",
     "exception": false,
     "start_time": "2021-01-12T06:42:49.701592",
     "status": "completed"
    },
    "tags": []
   },
   "outputs": [],
   "source": [
    "data = pd.read_pickle(input_filepath)"
   ]
  },
  {
   "cell_type": "code",
   "execution_count": 8,
   "metadata": {
    "papermill": {
     "duration": 0.038307,
     "end_time": "2021-01-12T06:42:49.817490",
     "exception": false,
     "start_time": "2021-01-12T06:42:49.779183",
     "status": "completed"
    },
    "tags": []
   },
   "outputs": [
    {
     "data": {
      "text/plain": [
       "(987, 4091)"
      ]
     },
     "execution_count": 8,
     "metadata": {},
     "output_type": "execute_result"
    }
   ],
   "source": [
    "data.shape"
   ]
  },
  {
   "cell_type": "code",
   "execution_count": 9,
   "metadata": {
    "papermill": {
     "duration": 0.051155,
     "end_time": "2021-01-12T06:42:49.893802",
     "exception": false,
     "start_time": "2021-01-12T06:42:49.842647",
     "status": "completed"
    },
    "tags": []
   },
   "outputs": [
    {
     "data": {
      "text/html": [
       "<div>\n",
       "<style scoped>\n",
       "    .dataframe tbody tr th:only-of-type {\n",
       "        vertical-align: middle;\n",
       "    }\n",
       "\n",
       "    .dataframe tbody tr th {\n",
       "        vertical-align: top;\n",
       "    }\n",
       "\n",
       "    .dataframe thead th {\n",
       "        text-align: right;\n",
       "    }\n",
       "</style>\n",
       "<table border=\"1\" class=\"dataframe\">\n",
       "  <thead>\n",
       "    <tr style=\"text-align: right;\">\n",
       "      <th></th>\n",
       "      <th>20096_1-Size_of_red_wine_glass_drunk_small_125ml</th>\n",
       "      <th>2345-Ever_had_bowel_cancer_screening</th>\n",
       "      <th>N49-Diagnoses_main_ICD10_N49_Inflammatory_disorders_of_male_genital_organs_not_elsewhere_classified</th>\n",
       "      <th>100011_raw-Iron</th>\n",
       "      <th>5221-Index_of_best_refractometry_result_right</th>\n",
       "      <th>20003_1141150624-Treatmentmedication_code_zomig_25mg_tablet</th>\n",
       "      <th>S69-Diagnoses_main_ICD10_S69_Other_and_unspecified_injuries_of_wrist_and_hand</th>\n",
       "      <th>20024_1136-Job_code_deduced_Information_and_communication_technology_managers</th>\n",
       "      <th>20002_1385-Noncancer_illness_code_selfreported_allergy_or_anaphylactic_reaction_to_food</th>\n",
       "      <th>G6_SLEEPAPNO-Sleep_apnoea</th>\n",
       "      <th>...</th>\n",
       "      <th>Astle_et_al_2016_Sum_basophil_neutrophil_counts</th>\n",
       "      <th>RA_OKADA_TRANS_ETHNIC</th>\n",
       "      <th>pgc.scz2</th>\n",
       "      <th>PGC_ADHD_EUR_2017</th>\n",
       "      <th>MAGIC_FastingGlucose</th>\n",
       "      <th>Astle_et_al_2016_Red_blood_cell_count</th>\n",
       "      <th>SSGAC_Depressive_Symptoms</th>\n",
       "      <th>BCAC_ER_positive_BreastCancer_EUR</th>\n",
       "      <th>IBD.EUR.Inflammatory_Bowel_Disease</th>\n",
       "      <th>Astle_et_al_2016_High_light_scatter_reticulocyte_count</th>\n",
       "    </tr>\n",
       "  </thead>\n",
       "  <tbody>\n",
       "    <tr>\n",
       "      <th>LV1</th>\n",
       "      <td>-0.024664</td>\n",
       "      <td>0.003688</td>\n",
       "      <td>0.012567</td>\n",
       "      <td>-0.034461</td>\n",
       "      <td>0.001201</td>\n",
       "      <td>0.014148</td>\n",
       "      <td>0.018256</td>\n",
       "      <td>0.009653</td>\n",
       "      <td>-0.017093</td>\n",
       "      <td>-0.038837</td>\n",
       "      <td>...</td>\n",
       "      <td>0.011403</td>\n",
       "      <td>0.085828</td>\n",
       "      <td>0.015572</td>\n",
       "      <td>-0.039664</td>\n",
       "      <td>-0.038479</td>\n",
       "      <td>0.122577</td>\n",
       "      <td>-0.035139</td>\n",
       "      <td>-0.010445</td>\n",
       "      <td>0.015023</td>\n",
       "      <td>0.023792</td>\n",
       "    </tr>\n",
       "    <tr>\n",
       "      <th>LV2</th>\n",
       "      <td>-0.004303</td>\n",
       "      <td>-0.029420</td>\n",
       "      <td>0.047338</td>\n",
       "      <td>-0.001564</td>\n",
       "      <td>-0.013066</td>\n",
       "      <td>-0.035286</td>\n",
       "      <td>-0.013678</td>\n",
       "      <td>0.001428</td>\n",
       "      <td>0.092427</td>\n",
       "      <td>-0.042897</td>\n",
       "      <td>...</td>\n",
       "      <td>0.033499</td>\n",
       "      <td>-0.067020</td>\n",
       "      <td>-0.008134</td>\n",
       "      <td>-0.015048</td>\n",
       "      <td>-0.052663</td>\n",
       "      <td>0.024055</td>\n",
       "      <td>-0.061202</td>\n",
       "      <td>-0.013779</td>\n",
       "      <td>-0.009366</td>\n",
       "      <td>-0.046370</td>\n",
       "    </tr>\n",
       "    <tr>\n",
       "      <th>LV3</th>\n",
       "      <td>0.002202</td>\n",
       "      <td>0.052078</td>\n",
       "      <td>-0.008698</td>\n",
       "      <td>0.005033</td>\n",
       "      <td>0.044586</td>\n",
       "      <td>-0.007397</td>\n",
       "      <td>0.005083</td>\n",
       "      <td>-0.045337</td>\n",
       "      <td>0.007136</td>\n",
       "      <td>-0.038652</td>\n",
       "      <td>...</td>\n",
       "      <td>0.022085</td>\n",
       "      <td>-0.050647</td>\n",
       "      <td>0.065178</td>\n",
       "      <td>0.022492</td>\n",
       "      <td>-0.023660</td>\n",
       "      <td>-0.020603</td>\n",
       "      <td>-0.029406</td>\n",
       "      <td>-0.047673</td>\n",
       "      <td>0.008665</td>\n",
       "      <td>-0.052370</td>\n",
       "    </tr>\n",
       "    <tr>\n",
       "      <th>LV4</th>\n",
       "      <td>0.048475</td>\n",
       "      <td>-0.023470</td>\n",
       "      <td>0.070050</td>\n",
       "      <td>-0.005772</td>\n",
       "      <td>-0.052764</td>\n",
       "      <td>0.020418</td>\n",
       "      <td>-0.026541</td>\n",
       "      <td>-0.023476</td>\n",
       "      <td>-0.026052</td>\n",
       "      <td>0.027361</td>\n",
       "      <td>...</td>\n",
       "      <td>-0.070081</td>\n",
       "      <td>-0.029188</td>\n",
       "      <td>-0.004153</td>\n",
       "      <td>0.045888</td>\n",
       "      <td>0.021802</td>\n",
       "      <td>-0.119812</td>\n",
       "      <td>0.034198</td>\n",
       "      <td>0.073167</td>\n",
       "      <td>-0.027658</td>\n",
       "      <td>-0.074837</td>\n",
       "    </tr>\n",
       "    <tr>\n",
       "      <th>LV5</th>\n",
       "      <td>-0.024358</td>\n",
       "      <td>0.002851</td>\n",
       "      <td>-0.021616</td>\n",
       "      <td>0.005716</td>\n",
       "      <td>0.010952</td>\n",
       "      <td>0.035602</td>\n",
       "      <td>-0.025353</td>\n",
       "      <td>-0.027787</td>\n",
       "      <td>0.023824</td>\n",
       "      <td>-0.027492</td>\n",
       "      <td>...</td>\n",
       "      <td>-0.012073</td>\n",
       "      <td>-0.013087</td>\n",
       "      <td>-0.014427</td>\n",
       "      <td>0.022283</td>\n",
       "      <td>-0.045800</td>\n",
       "      <td>0.013840</td>\n",
       "      <td>-0.000855</td>\n",
       "      <td>-0.047186</td>\n",
       "      <td>0.070286</td>\n",
       "      <td>0.027677</td>\n",
       "    </tr>\n",
       "  </tbody>\n",
       "</table>\n",
       "<p>5 rows × 4091 columns</p>\n",
       "</div>"
      ],
      "text/plain": [
       "     20096_1-Size_of_red_wine_glass_drunk_small_125ml  \\\n",
       "LV1                                         -0.024664   \n",
       "LV2                                         -0.004303   \n",
       "LV3                                          0.002202   \n",
       "LV4                                          0.048475   \n",
       "LV5                                         -0.024358   \n",
       "\n",
       "     2345-Ever_had_bowel_cancer_screening  \\\n",
       "LV1                              0.003688   \n",
       "LV2                             -0.029420   \n",
       "LV3                              0.052078   \n",
       "LV4                             -0.023470   \n",
       "LV5                              0.002851   \n",
       "\n",
       "     N49-Diagnoses_main_ICD10_N49_Inflammatory_disorders_of_male_genital_organs_not_elsewhere_classified  \\\n",
       "LV1                                           0.012567                                                     \n",
       "LV2                                           0.047338                                                     \n",
       "LV3                                          -0.008698                                                     \n",
       "LV4                                           0.070050                                                     \n",
       "LV5                                          -0.021616                                                     \n",
       "\n",
       "     100011_raw-Iron  5221-Index_of_best_refractometry_result_right  \\\n",
       "LV1        -0.034461                                       0.001201   \n",
       "LV2        -0.001564                                      -0.013066   \n",
       "LV3         0.005033                                       0.044586   \n",
       "LV4        -0.005772                                      -0.052764   \n",
       "LV5         0.005716                                       0.010952   \n",
       "\n",
       "     20003_1141150624-Treatmentmedication_code_zomig_25mg_tablet  \\\n",
       "LV1                                           0.014148             \n",
       "LV2                                          -0.035286             \n",
       "LV3                                          -0.007397             \n",
       "LV4                                           0.020418             \n",
       "LV5                                           0.035602             \n",
       "\n",
       "     S69-Diagnoses_main_ICD10_S69_Other_and_unspecified_injuries_of_wrist_and_hand  \\\n",
       "LV1                                           0.018256                               \n",
       "LV2                                          -0.013678                               \n",
       "LV3                                           0.005083                               \n",
       "LV4                                          -0.026541                               \n",
       "LV5                                          -0.025353                               \n",
       "\n",
       "     20024_1136-Job_code_deduced_Information_and_communication_technology_managers  \\\n",
       "LV1                                           0.009653                               \n",
       "LV2                                           0.001428                               \n",
       "LV3                                          -0.045337                               \n",
       "LV4                                          -0.023476                               \n",
       "LV5                                          -0.027787                               \n",
       "\n",
       "     20002_1385-Noncancer_illness_code_selfreported_allergy_or_anaphylactic_reaction_to_food  \\\n",
       "LV1                                          -0.017093                                         \n",
       "LV2                                           0.092427                                         \n",
       "LV3                                           0.007136                                         \n",
       "LV4                                          -0.026052                                         \n",
       "LV5                                           0.023824                                         \n",
       "\n",
       "     G6_SLEEPAPNO-Sleep_apnoea  ...  \\\n",
       "LV1                  -0.038837  ...   \n",
       "LV2                  -0.042897  ...   \n",
       "LV3                  -0.038652  ...   \n",
       "LV4                   0.027361  ...   \n",
       "LV5                  -0.027492  ...   \n",
       "\n",
       "     Astle_et_al_2016_Sum_basophil_neutrophil_counts  RA_OKADA_TRANS_ETHNIC  \\\n",
       "LV1                                         0.011403               0.085828   \n",
       "LV2                                         0.033499              -0.067020   \n",
       "LV3                                         0.022085              -0.050647   \n",
       "LV4                                        -0.070081              -0.029188   \n",
       "LV5                                        -0.012073              -0.013087   \n",
       "\n",
       "     pgc.scz2  PGC_ADHD_EUR_2017  MAGIC_FastingGlucose  \\\n",
       "LV1  0.015572          -0.039664             -0.038479   \n",
       "LV2 -0.008134          -0.015048             -0.052663   \n",
       "LV3  0.065178           0.022492             -0.023660   \n",
       "LV4 -0.004153           0.045888              0.021802   \n",
       "LV5 -0.014427           0.022283             -0.045800   \n",
       "\n",
       "     Astle_et_al_2016_Red_blood_cell_count  SSGAC_Depressive_Symptoms  \\\n",
       "LV1                               0.122577                  -0.035139   \n",
       "LV2                               0.024055                  -0.061202   \n",
       "LV3                              -0.020603                  -0.029406   \n",
       "LV4                              -0.119812                   0.034198   \n",
       "LV5                               0.013840                  -0.000855   \n",
       "\n",
       "     BCAC_ER_positive_BreastCancer_EUR  IBD.EUR.Inflammatory_Bowel_Disease  \\\n",
       "LV1                          -0.010445                            0.015023   \n",
       "LV2                          -0.013779                           -0.009366   \n",
       "LV3                          -0.047673                            0.008665   \n",
       "LV4                           0.073167                           -0.027658   \n",
       "LV5                          -0.047186                            0.070286   \n",
       "\n",
       "     Astle_et_al_2016_High_light_scatter_reticulocyte_count  \n",
       "LV1                                           0.023792       \n",
       "LV2                                          -0.046370       \n",
       "LV3                                          -0.052370       \n",
       "LV4                                          -0.074837       \n",
       "LV5                                           0.027677       \n",
       "\n",
       "[5 rows x 4091 columns]"
      ]
     },
     "execution_count": 9,
     "metadata": {},
     "output_type": "execute_result"
    }
   ],
   "source": [
    "data.head()"
   ]
  },
  {
   "cell_type": "markdown",
   "metadata": {},
   "source": [
    "# Show LV traits"
   ]
  },
  {
   "cell_type": "code",
   "execution_count": 10,
   "metadata": {},
   "outputs": [],
   "source": [
    "from entity import Trait"
   ]
  },
  {
   "cell_type": "code",
   "execution_count": 11,
   "metadata": {},
   "outputs": [
    {
     "data": {
      "text/plain": [
       "30220_raw-Basophill_percentage                                               0.180186\n",
       "Astle_et_al_2016_Myeloid_white_cell_count                                    0.167547\n",
       "Astle_et_al_2016_Sum_neutrophil_eosinophil_counts                            0.157739\n",
       "Astle_et_al_2016_Granulocyte_count                                           0.157532\n",
       "Astle_et_al_2016_White_blood_cell_count                                      0.156942\n",
       "Astle_et_al_2016_Sum_basophil_neutrophil_counts                              0.156620\n",
       "30130_raw-Monocyte_count                                                     0.156611\n",
       "Astle_et_al_2016_Neutrophil_count                                            0.156235\n",
       "Astle_et_al_2016_Monocyte_count                                              0.153750\n",
       "30000_raw-White_blood_cell_leukocyte_count                                   0.144433\n",
       "30160-Basophill_count                                                        0.122335\n",
       "30180_raw-Lymphocyte_percentage                                              0.119029\n",
       "30140_raw-Neutrophill_count                                                  0.112022\n",
       "20003_1140875420-Treatmentmedication_code_baclofen                           0.109815\n",
       "30200_raw-Neutrophill_percentage                                             0.105715\n",
       "30190_raw-Monocyte_percentage                                                0.095248\n",
       "30120_raw-Lymphocyte_count                                                   0.088652\n",
       "Astle_et_al_2016_Sum_eosinophil_basophil_counts                              0.086333\n",
       "Astle_et_al_2016_Eosinophil_counts                                           0.085296\n",
       "S56-Diagnoses_main_ICD10_S56_Injury_of_muscle_and_tendon_at_forearm_level    0.081448\n",
       "Name: LV603, dtype: float64"
      ]
     },
     "metadata": {},
     "output_type": "display_data"
    }
   ],
   "source": [
    "# Show related traits\n",
    "lv_traits = data.loc[LV_NAME_SELECTED].sort_values(ascending=False)\n",
    "display(lv_traits.head(20))"
   ]
  },
  {
   "cell_type": "markdown",
   "metadata": {},
   "source": [
    "# Remove repeated traits"
   ]
  },
  {
   "cell_type": "markdown",
   "metadata": {},
   "source": [
    "Here I remove traits that represent the same phenotype. I remove the least significant trait from duplicates."
   ]
  },
  {
   "cell_type": "code",
   "execution_count": 12,
   "metadata": {},
   "outputs": [],
   "source": [
    "lv_traits_to_remove = [\n",
    "    \"Astle_et_al_2016_White_blood_cell_count\",\n",
    "    \"Astle_et_al_2016_Monocyte_count\",\n",
    "    \"Astle_et_al_2016_Neutrophil_count\",\n",
    "]"
   ]
  },
  {
   "cell_type": "code",
   "execution_count": 13,
   "metadata": {},
   "outputs": [
    {
     "data": {
      "text/plain": [
       "(4088,)"
      ]
     },
     "metadata": {},
     "output_type": "display_data"
    }
   ],
   "source": [
    "_old_len = lv_traits.shape[0]\n",
    "lv_traits = lv_traits.drop(lv_traits_to_remove)\n",
    "assert lv_traits.shape[0] == _old_len - len(lv_traits_to_remove)\n",
    "display(lv_traits.shape)"
   ]
  },
  {
   "cell_type": "markdown",
   "metadata": {},
   "source": [
    "# Rename LV traits"
   ]
  },
  {
   "cell_type": "code",
   "execution_count": 14,
   "metadata": {},
   "outputs": [],
   "source": [
    "lv_traits = lv_traits.reset_index().rename(columns={\"index\": \"traits\"})"
   ]
  },
  {
   "cell_type": "code",
   "execution_count": 15,
   "metadata": {},
   "outputs": [],
   "source": [
    "lv_traits = lv_traits.replace(\n",
    "    {\n",
    "        \"traits\": {\n",
    "            t: Trait.get_trait(full_code=t).description\n",
    "            for t in lv_traits[\"traits\"].values\n",
    "        }\n",
    "    }\n",
    ")"
   ]
  },
  {
   "cell_type": "code",
   "execution_count": 16,
   "metadata": {},
   "outputs": [
    {
     "data": {
      "text/html": [
       "<div>\n",
       "<style scoped>\n",
       "    .dataframe tbody tr th:only-of-type {\n",
       "        vertical-align: middle;\n",
       "    }\n",
       "\n",
       "    .dataframe tbody tr th {\n",
       "        vertical-align: top;\n",
       "    }\n",
       "\n",
       "    .dataframe thead th {\n",
       "        text-align: right;\n",
       "    }\n",
       "</style>\n",
       "<table border=\"1\" class=\"dataframe\">\n",
       "  <thead>\n",
       "    <tr style=\"text-align: right;\">\n",
       "      <th></th>\n",
       "      <th>traits</th>\n",
       "      <th>LV603</th>\n",
       "    </tr>\n",
       "  </thead>\n",
       "  <tbody>\n",
       "    <tr>\n",
       "      <th>0</th>\n",
       "      <td>Basophill percentage</td>\n",
       "      <td>0.180186</td>\n",
       "    </tr>\n",
       "    <tr>\n",
       "      <th>1</th>\n",
       "      <td>Myeloid White Cell Count</td>\n",
       "      <td>0.167547</td>\n",
       "    </tr>\n",
       "    <tr>\n",
       "      <th>2</th>\n",
       "      <td>Sum Neutrophil Eosinophil Count</td>\n",
       "      <td>0.157739</td>\n",
       "    </tr>\n",
       "    <tr>\n",
       "      <th>3</th>\n",
       "      <td>Granulocyte Count</td>\n",
       "      <td>0.157532</td>\n",
       "    </tr>\n",
       "    <tr>\n",
       "      <th>4</th>\n",
       "      <td>Sum Basophil Neutrophil Count</td>\n",
       "      <td>0.156620</td>\n",
       "    </tr>\n",
       "    <tr>\n",
       "      <th>5</th>\n",
       "      <td>Monocyte count</td>\n",
       "      <td>0.156611</td>\n",
       "    </tr>\n",
       "    <tr>\n",
       "      <th>6</th>\n",
       "      <td>White blood cell (leukocyte) count</td>\n",
       "      <td>0.144433</td>\n",
       "    </tr>\n",
       "    <tr>\n",
       "      <th>7</th>\n",
       "      <td>Basophill count</td>\n",
       "      <td>0.122335</td>\n",
       "    </tr>\n",
       "    <tr>\n",
       "      <th>8</th>\n",
       "      <td>Lymphocyte percentage</td>\n",
       "      <td>0.119029</td>\n",
       "    </tr>\n",
       "    <tr>\n",
       "      <th>9</th>\n",
       "      <td>Neutrophill count</td>\n",
       "      <td>0.112022</td>\n",
       "    </tr>\n",
       "  </tbody>\n",
       "</table>\n",
       "</div>"
      ],
      "text/plain": [
       "                               traits     LV603\n",
       "0                Basophill percentage  0.180186\n",
       "1            Myeloid White Cell Count  0.167547\n",
       "2     Sum Neutrophil Eosinophil Count  0.157739\n",
       "3                   Granulocyte Count  0.157532\n",
       "4       Sum Basophil Neutrophil Count  0.156620\n",
       "5                      Monocyte count  0.156611\n",
       "6  White blood cell (leukocyte) count  0.144433\n",
       "7                     Basophill count  0.122335\n",
       "8               Lymphocyte percentage  0.119029\n",
       "9                   Neutrophill count  0.112022"
      ]
     },
     "execution_count": 16,
     "metadata": {},
     "output_type": "execute_result"
    }
   ],
   "source": [
    "lv_traits.head(10)"
   ]
  },
  {
   "cell_type": "code",
   "execution_count": 17,
   "metadata": {},
   "outputs": [],
   "source": [
    "lv_traits = lv_traits.replace(\n",
    "    {\n",
    "        \"traits\": {\n",
    "            \"Neutrophill count\": \"Neutrophill #\",\n",
    "            \"Monocyte count\": \"Monocyte #\",\n",
    "            \"Basophill #\": \"Basophill #\",\n",
    "            \"White blood cell (leukocyte) count\": \"Leukocyte #\",\n",
    "            \"Basophill percentage\": \"Basophill %\",\n",
    "            \"Lymphocyte percentage\": \"Lymphocyte %\",\n",
    "            \"Neutrophill percentage\": \"Neutrophill %\",\n",
    "            \"Mean platelet (thrombocyte) volume\": \"Mean platelet volume\",\n",
    "            \"Myeloid White Cell Count\": \"Myeloid white cell #\",\n",
    "            \"Sum Neutrophil Eosinophil Count\": \"Neutrophil+Eosinophil #\",\n",
    "            \"Granulocyte Count\": \"Granulocyte #\",\n",
    "            #     'Platelet crit': 'PCT',\n",
    "            \"Sum Basophil Neutrophil Count\": \"Basophil+Neutrophil #\",\n",
    "        }\n",
    "    }\n",
    ")"
   ]
  },
  {
   "cell_type": "code",
   "execution_count": 18,
   "metadata": {},
   "outputs": [
    {
     "data": {
      "text/html": [
       "<div>\n",
       "<style scoped>\n",
       "    .dataframe tbody tr th:only-of-type {\n",
       "        vertical-align: middle;\n",
       "    }\n",
       "\n",
       "    .dataframe tbody tr th {\n",
       "        vertical-align: top;\n",
       "    }\n",
       "\n",
       "    .dataframe thead th {\n",
       "        text-align: right;\n",
       "    }\n",
       "</style>\n",
       "<table border=\"1\" class=\"dataframe\">\n",
       "  <thead>\n",
       "    <tr style=\"text-align: right;\">\n",
       "      <th></th>\n",
       "      <th>traits</th>\n",
       "      <th>LV603</th>\n",
       "    </tr>\n",
       "  </thead>\n",
       "  <tbody>\n",
       "    <tr>\n",
       "      <th>0</th>\n",
       "      <td>Basophill %</td>\n",
       "      <td>0.180186</td>\n",
       "    </tr>\n",
       "    <tr>\n",
       "      <th>1</th>\n",
       "      <td>Myeloid white cell #</td>\n",
       "      <td>0.167547</td>\n",
       "    </tr>\n",
       "    <tr>\n",
       "      <th>2</th>\n",
       "      <td>Neutrophil+Eosinophil #</td>\n",
       "      <td>0.157739</td>\n",
       "    </tr>\n",
       "    <tr>\n",
       "      <th>3</th>\n",
       "      <td>Granulocyte #</td>\n",
       "      <td>0.157532</td>\n",
       "    </tr>\n",
       "    <tr>\n",
       "      <th>4</th>\n",
       "      <td>Basophil+Neutrophil #</td>\n",
       "      <td>0.156620</td>\n",
       "    </tr>\n",
       "    <tr>\n",
       "      <th>5</th>\n",
       "      <td>Monocyte #</td>\n",
       "      <td>0.156611</td>\n",
       "    </tr>\n",
       "    <tr>\n",
       "      <th>6</th>\n",
       "      <td>Leukocyte #</td>\n",
       "      <td>0.144433</td>\n",
       "    </tr>\n",
       "    <tr>\n",
       "      <th>7</th>\n",
       "      <td>Basophill count</td>\n",
       "      <td>0.122335</td>\n",
       "    </tr>\n",
       "    <tr>\n",
       "      <th>8</th>\n",
       "      <td>Lymphocyte %</td>\n",
       "      <td>0.119029</td>\n",
       "    </tr>\n",
       "    <tr>\n",
       "      <th>9</th>\n",
       "      <td>Neutrophill #</td>\n",
       "      <td>0.112022</td>\n",
       "    </tr>\n",
       "  </tbody>\n",
       "</table>\n",
       "</div>"
      ],
      "text/plain": [
       "                    traits     LV603\n",
       "0              Basophill %  0.180186\n",
       "1     Myeloid white cell #  0.167547\n",
       "2  Neutrophil+Eosinophil #  0.157739\n",
       "3            Granulocyte #  0.157532\n",
       "4    Basophil+Neutrophil #  0.156620\n",
       "5               Monocyte #  0.156611\n",
       "6              Leukocyte #  0.144433\n",
       "7          Basophill count  0.122335\n",
       "8             Lymphocyte %  0.119029\n",
       "9            Neutrophill #  0.112022"
      ]
     },
     "execution_count": 18,
     "metadata": {},
     "output_type": "execute_result"
    }
   ],
   "source": [
    "lv_traits.head(10)"
   ]
  },
  {
   "cell_type": "markdown",
   "metadata": {},
   "source": [
    "# Plot"
   ]
  },
  {
   "cell_type": "code",
   "execution_count": 19,
   "metadata": {},
   "outputs": [
    {
     "data": {
      "image/png": "[encoded data removed]",
      "text/plain": [
       "<Figure size 1123.2x432 with 1 Axes>"
      ]
     },
     "metadata": {
      "needs_background": "light"
     },
     "output_type": "display_data"
    }
   ],
   "source": [
    "with sns.plotting_context(\"paper\", font_scale=5.0):\n",
    "    g = sns.catplot(\n",
    "        data=lv_traits.rename(\n",
    "            columns={\n",
    "                \"traits\": \"Traits\",\n",
    "            }\n",
    "        ).head(10),\n",
    "        x=\"Traits\",\n",
    "        y=LV_NAME_SELECTED,\n",
    "        kind=\"bar\",\n",
    "        aspect=2.6,\n",
    "        height=6,  # ci=None, height=6, aspect=1.6, legend_out=False,\n",
    "        color=\"orange\",\n",
    "    )\n",
    "\n",
    "    g.ax.set_ylabel(f\"$\\mathbf{{\\hat{{M}}}}_{{\\mathrm{{LV}}{LV_NUMBER_SELECTED}}}$\")\n",
    "    g.set_xticklabels(g.ax.get_xticklabels(), rotation=45, horizontalalignment=\"right\")\n",
    "    g.set_yticklabels([])\n",
    "    g.ax.set_xlabel(\"\")\n",
    "\n",
    "    # save figure\n",
    "    plt.savefig(Path(OUTPUT_FIGURES_DIR, \"lv603_traits.pdf\"), bbox_inches=\"tight\")"
   ]
  },
  {
   "cell_type": "code",
   "execution_count": null,
   "metadata": {},
   "outputs": [],
   "source": []
  }
 ],
 "metadata": {
  "jupytext": {
   "cell_metadata_filter": "all,-execution,-papermill,-trusted",
   "formats": "ipynb,py//py:percent"
  },
  "kernelspec": {
   "display_name": "Python 3",
   "language": "python",
   "name": "python3"
  },
  "language_info": {
   "codemirror_mode": {
    "name": "ipython",
    "version": 3
   },
   "file_extension": ".py",
   "mimetype": "text/x-python",
   "name": "python",
   "nbconvert_exporter": "python",
   "pygments_lexer": "ipython3",
   "version": "3.8.8"
  }
 },
 "nbformat": 4,
 "nbformat_minor": 4
}
