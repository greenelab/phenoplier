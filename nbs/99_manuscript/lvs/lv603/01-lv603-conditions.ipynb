{
 "cells": [
  {
   "cell_type": "markdown",
   "metadata": {},
   "source": [
    "# Description"
   ]
  },
  {
   "cell_type": "markdown",
   "metadata": {},
   "source": [
    "Generates a plot with the top conditions/experiments for LV603."
   ]
  },
  {
   "cell_type": "markdown",
   "metadata": {},
   "source": [
    "# Modules loading"
   ]
  },
  {
   "cell_type": "code",
   "execution_count": 1,
   "metadata": {},
   "outputs": [],
   "source": [
    "%load_ext autoreload\n",
    "%autoreload 2"
   ]
  },
  {
   "cell_type": "code",
   "execution_count": 2,
   "metadata": {},
   "outputs": [],
   "source": [
    "from IPython.display import display\n",
    "from pathlib import Path\n",
    "import re\n",
    "\n",
    "import matplotlib.pyplot as plt\n",
    "import seaborn as sns\n",
    "import pandas as pd\n",
    "\n",
    "import conf\n",
    "from data.cache import read_data\n",
    "from data.recount2 import LVAnalysis"
   ]
  },
  {
   "cell_type": "code",
   "execution_count": 3,
   "metadata": {},
   "outputs": [
    {
     "data": {
      "text/plain": [
       "'/opt/manuscript'"
      ]
     },
     "metadata": {},
     "output_type": "display_data"
    }
   ],
   "source": [
    "assert (\n",
    "    conf.MANUSCRIPT[\"BASE_DIR\"] is not None\n",
    "), \"The manuscript directory was not configured\"\n",
    "\n",
    "display(conf.MANUSCRIPT[\"BASE_DIR\"])"
   ]
  },
  {
   "cell_type": "markdown",
   "metadata": {},
   "source": [
    "# Settings"
   ]
  },
  {
   "cell_type": "code",
   "execution_count": 4,
   "metadata": {},
   "outputs": [
    {
     "data": {
      "text/plain": [
       "'LV603'"
      ]
     },
     "metadata": {},
     "output_type": "display_data"
    }
   ],
   "source": [
    "LV_NUMBER_SELECTED = 603\n",
    "LV_NAME_SELECTED = f\"LV{LV_NUMBER_SELECTED}\"\n",
    "display(LV_NAME_SELECTED)"
   ]
  },
  {
   "cell_type": "code",
   "execution_count": 5,
   "metadata": {},
   "outputs": [
    {
     "data": {
      "text/plain": [
       "PosixPath('/opt/manuscript/content/images/entire_process')"
      ]
     },
     "metadata": {},
     "output_type": "display_data"
    }
   ],
   "source": [
    "OUTPUT_FIGURES_DIR = Path(conf.MANUSCRIPT[\"FIGURES_DIR\"], \"entire_process\").resolve()\n",
    "display(OUTPUT_FIGURES_DIR)\n",
    "OUTPUT_FIGURES_DIR.mkdir(parents=True, exist_ok=True)"
   ]
  },
  {
   "cell_type": "markdown",
   "metadata": {},
   "source": [
    "# Load MultiPLIER summary"
   ]
  },
  {
   "cell_type": "code",
   "execution_count": 6,
   "metadata": {},
   "outputs": [],
   "source": [
    "multiplier_model_summary = read_data(conf.MULTIPLIER[\"MODEL_SUMMARY_FILE\"])"
   ]
  },
  {
   "cell_type": "code",
   "execution_count": 7,
   "metadata": {},
   "outputs": [
    {
     "data": {
      "text/plain": [
       "(2157, 5)"
      ]
     },
     "execution_count": 7,
     "metadata": {},
     "output_type": "execute_result"
    }
   ],
   "source": [
    "multiplier_model_summary.shape"
   ]
  },
  {
   "cell_type": "code",
   "execution_count": 8,
   "metadata": {},
   "outputs": [
    {
     "data": {
      "text/html": [
       "<div>\n",
       "<style scoped>\n",
       "    .dataframe tbody tr th:only-of-type {\n",
       "        vertical-align: middle;\n",
       "    }\n",
       "\n",
       "    .dataframe tbody tr th {\n",
       "        vertical-align: top;\n",
       "    }\n",
       "\n",
       "    .dataframe thead th {\n",
       "        text-align: right;\n",
       "    }\n",
       "</style>\n",
       "<table border=\"1\" class=\"dataframe\">\n",
       "  <thead>\n",
       "    <tr style=\"text-align: right;\">\n",
       "      <th></th>\n",
       "      <th>pathway</th>\n",
       "      <th>LV index</th>\n",
       "      <th>AUC</th>\n",
       "      <th>p-value</th>\n",
       "      <th>FDR</th>\n",
       "    </tr>\n",
       "  </thead>\n",
       "  <tbody>\n",
       "    <tr>\n",
       "      <th>1</th>\n",
       "      <td>KEGG_LYSINE_DEGRADATION</td>\n",
       "      <td>1</td>\n",
       "      <td>0.388059</td>\n",
       "      <td>0.866078</td>\n",
       "      <td>0.956005</td>\n",
       "    </tr>\n",
       "    <tr>\n",
       "      <th>2</th>\n",
       "      <td>REACTOME_MRNA_SPLICING</td>\n",
       "      <td>1</td>\n",
       "      <td>0.733057</td>\n",
       "      <td>0.000048</td>\n",
       "      <td>0.000582</td>\n",
       "    </tr>\n",
       "    <tr>\n",
       "      <th>3</th>\n",
       "      <td>MIPS_NOP56P_ASSOCIATED_PRE_RRNA_COMPLEX</td>\n",
       "      <td>1</td>\n",
       "      <td>0.680555</td>\n",
       "      <td>0.001628</td>\n",
       "      <td>0.011366</td>\n",
       "    </tr>\n",
       "    <tr>\n",
       "      <th>4</th>\n",
       "      <td>KEGG_DNA_REPLICATION</td>\n",
       "      <td>1</td>\n",
       "      <td>0.549473</td>\n",
       "      <td>0.312155</td>\n",
       "      <td>0.539951</td>\n",
       "    </tr>\n",
       "    <tr>\n",
       "      <th>5</th>\n",
       "      <td>PID_MYC_ACTIVPATHWAY</td>\n",
       "      <td>1</td>\n",
       "      <td>0.639303</td>\n",
       "      <td>0.021702</td>\n",
       "      <td>0.083739</td>\n",
       "    </tr>\n",
       "  </tbody>\n",
       "</table>\n",
       "</div>"
      ],
      "text/plain": [
       "                                   pathway LV index       AUC   p-value  \\\n",
       "1                  KEGG_LYSINE_DEGRADATION        1  0.388059  0.866078   \n",
       "2                   REACTOME_MRNA_SPLICING        1  0.733057  0.000048   \n",
       "3  MIPS_NOP56P_ASSOCIATED_PRE_RRNA_COMPLEX        1  0.680555  0.001628   \n",
       "4                     KEGG_DNA_REPLICATION        1  0.549473  0.312155   \n",
       "5                     PID_MYC_ACTIVPATHWAY        1  0.639303  0.021702   \n",
       "\n",
       "        FDR  \n",
       "1  0.956005  \n",
       "2  0.000582  \n",
       "3  0.011366  \n",
       "4  0.539951  \n",
       "5  0.083739  "
      ]
     },
     "execution_count": 8,
     "metadata": {},
     "output_type": "execute_result"
    }
   ],
   "source": [
    "multiplier_model_summary.head()"
   ]
  },
  {
   "cell_type": "markdown",
   "metadata": {},
   "source": [
    "# Load S-MultiXcan projection (`z_score_std`)"
   ]
  },
  {
   "cell_type": "code",
   "execution_count": 9,
   "metadata": {
    "papermill": {
     "duration": 0.033993,
     "end_time": "2020-12-02T18:22:03.772878",
     "exception": false,
     "start_time": "2020-12-02T18:22:03.738885",
     "status": "completed"
    },
    "tags": []
   },
   "outputs": [],
   "source": [
    "INPUT_SUBSET = \"z_score_std\""
   ]
  },
  {
   "cell_type": "code",
   "execution_count": 10,
   "metadata": {
    "papermill": {
     "duration": 0.034256,
     "end_time": "2020-12-02T18:22:03.827176",
     "exception": false,
     "start_time": "2020-12-02T18:22:03.792920",
     "status": "completed"
    },
    "tags": []
   },
   "outputs": [],
   "source": [
    "INPUT_STEM = \"projection-smultixcan-efo_partial-mashr-zscores\""
   ]
  },
  {
   "cell_type": "code",
   "execution_count": 11,
   "metadata": {
    "papermill": {
     "duration": 0.036583,
     "end_time": "2020-12-02T18:22:03.884665",
     "exception": false,
     "start_time": "2020-12-02T18:22:03.848082",
     "status": "completed"
    },
    "tags": []
   },
   "outputs": [
    {
     "data": {
      "text/plain": [
       "PosixPath('/opt/data/results/data_transformations/z_score_std/z_score_std-projection-smultixcan-efo_partial-mashr-zscores.pkl')"
      ]
     },
     "metadata": {},
     "output_type": "display_data"
    },
    {
     "data": {
      "text/plain": [
       "'z_score_std-projection-smultixcan-efo_partial-mashr-zscores'"
      ]
     },
     "metadata": {},
     "output_type": "display_data"
    }
   ],
   "source": [
    "input_filepath = Path(\n",
    "    conf.RESULTS[\"DATA_TRANSFORMATIONS_DIR\"],\n",
    "    INPUT_SUBSET,\n",
    "    f\"{INPUT_SUBSET}-{INPUT_STEM}.pkl\",\n",
    ").resolve()\n",
    "display(input_filepath)\n",
    "\n",
    "assert input_filepath.exists(), \"Input file does not exist\"\n",
    "\n",
    "input_filepath_stem = input_filepath.stem\n",
    "display(input_filepath_stem)"
   ]
  },
  {
   "cell_type": "code",
   "execution_count": 12,
   "metadata": {
    "papermill": {
     "duration": 0.047976,
     "end_time": "2020-12-02T18:22:04.552607",
     "exception": false,
     "start_time": "2020-12-02T18:22:04.504631",
     "status": "completed"
    },
    "tags": []
   },
   "outputs": [],
   "source": [
    "data = read_data(input_filepath)"
   ]
  },
  {
   "cell_type": "code",
   "execution_count": 13,
   "metadata": {
    "papermill": {
     "duration": 0.036934,
     "end_time": "2020-12-02T18:22:04.613671",
     "exception": false,
     "start_time": "2020-12-02T18:22:04.576737",
     "status": "completed"
    },
    "tags": []
   },
   "outputs": [
    {
     "data": {
      "text/plain": [
       "(3752, 987)"
      ]
     },
     "execution_count": 13,
     "metadata": {},
     "output_type": "execute_result"
    }
   ],
   "source": [
    "data.shape"
   ]
  },
  {
   "cell_type": "code",
   "execution_count": 14,
   "metadata": {
    "papermill": {
     "duration": 0.049043,
     "end_time": "2020-12-02T18:22:04.685862",
     "exception": false,
     "start_time": "2020-12-02T18:22:04.636819",
     "status": "completed"
    },
    "tags": []
   },
   "outputs": [
    {
     "data": {
      "text/html": [
       "<div>\n",
       "<style scoped>\n",
       "    .dataframe tbody tr th:only-of-type {\n",
       "        vertical-align: middle;\n",
       "    }\n",
       "\n",
       "    .dataframe tbody tr th {\n",
       "        vertical-align: top;\n",
       "    }\n",
       "\n",
       "    .dataframe thead th {\n",
       "        text-align: right;\n",
       "    }\n",
       "</style>\n",
       "<table border=\"1\" class=\"dataframe\">\n",
       "  <thead>\n",
       "    <tr style=\"text-align: right;\">\n",
       "      <th></th>\n",
       "      <th>LV1</th>\n",
       "      <th>LV2</th>\n",
       "      <th>LV3</th>\n",
       "      <th>LV4</th>\n",
       "      <th>LV5</th>\n",
       "      <th>LV6</th>\n",
       "      <th>LV7</th>\n",
       "      <th>LV8</th>\n",
       "      <th>LV9</th>\n",
       "      <th>LV10</th>\n",
       "      <th>...</th>\n",
       "      <th>LV978</th>\n",
       "      <th>LV979</th>\n",
       "      <th>LV980</th>\n",
       "      <th>LV981</th>\n",
       "      <th>LV982</th>\n",
       "      <th>LV983</th>\n",
       "      <th>LV984</th>\n",
       "      <th>LV985</th>\n",
       "      <th>LV986</th>\n",
       "      <th>LV987</th>\n",
       "    </tr>\n",
       "  </thead>\n",
       "  <tbody>\n",
       "    <tr>\n",
       "      <th>100001_raw-Food_weight</th>\n",
       "      <td>-0.695006</td>\n",
       "      <td>1.962565</td>\n",
       "      <td>0.057683</td>\n",
       "      <td>0.878731</td>\n",
       "      <td>-0.539977</td>\n",
       "      <td>1.481272</td>\n",
       "      <td>-0.396422</td>\n",
       "      <td>1.090180</td>\n",
       "      <td>0.759223</td>\n",
       "      <td>0.931395</td>\n",
       "      <td>...</td>\n",
       "      <td>1.129784</td>\n",
       "      <td>1.752343</td>\n",
       "      <td>-1.411403</td>\n",
       "      <td>2.823863</td>\n",
       "      <td>0.931116</td>\n",
       "      <td>-1.054519</td>\n",
       "      <td>0.432982</td>\n",
       "      <td>-0.633597</td>\n",
       "      <td>0.554279</td>\n",
       "      <td>-0.642479</td>\n",
       "    </tr>\n",
       "    <tr>\n",
       "      <th>100002_raw-Energy</th>\n",
       "      <td>-1.528127</td>\n",
       "      <td>-0.345309</td>\n",
       "      <td>-0.148953</td>\n",
       "      <td>-0.242060</td>\n",
       "      <td>0.373427</td>\n",
       "      <td>0.791092</td>\n",
       "      <td>0.263477</td>\n",
       "      <td>0.987702</td>\n",
       "      <td>0.354391</td>\n",
       "      <td>1.416059</td>\n",
       "      <td>...</td>\n",
       "      <td>0.224604</td>\n",
       "      <td>0.769882</td>\n",
       "      <td>-0.509482</td>\n",
       "      <td>0.091153</td>\n",
       "      <td>2.286789</td>\n",
       "      <td>-1.008256</td>\n",
       "      <td>-0.029764</td>\n",
       "      <td>1.737229</td>\n",
       "      <td>-0.272107</td>\n",
       "      <td>-0.526125</td>\n",
       "    </tr>\n",
       "    <tr>\n",
       "      <th>100003_raw-Protein</th>\n",
       "      <td>-0.704572</td>\n",
       "      <td>-1.011299</td>\n",
       "      <td>0.671420</td>\n",
       "      <td>0.143991</td>\n",
       "      <td>0.615212</td>\n",
       "      <td>0.874212</td>\n",
       "      <td>-0.040998</td>\n",
       "      <td>0.915170</td>\n",
       "      <td>0.254369</td>\n",
       "      <td>-0.084237</td>\n",
       "      <td>...</td>\n",
       "      <td>1.003019</td>\n",
       "      <td>1.044314</td>\n",
       "      <td>-2.376108</td>\n",
       "      <td>0.004778</td>\n",
       "      <td>0.053714</td>\n",
       "      <td>-0.892447</td>\n",
       "      <td>-0.183800</td>\n",
       "      <td>1.377991</td>\n",
       "      <td>-0.278794</td>\n",
       "      <td>-0.419733</td>\n",
       "    </tr>\n",
       "    <tr>\n",
       "      <th>100004_raw-Fat</th>\n",
       "      <td>-0.989832</td>\n",
       "      <td>-1.875490</td>\n",
       "      <td>0.261555</td>\n",
       "      <td>-1.420719</td>\n",
       "      <td>0.366238</td>\n",
       "      <td>1.167049</td>\n",
       "      <td>0.257387</td>\n",
       "      <td>0.717674</td>\n",
       "      <td>-0.997664</td>\n",
       "      <td>0.969825</td>\n",
       "      <td>...</td>\n",
       "      <td>0.585913</td>\n",
       "      <td>0.638314</td>\n",
       "      <td>0.119139</td>\n",
       "      <td>-0.140204</td>\n",
       "      <td>1.394326</td>\n",
       "      <td>-1.173402</td>\n",
       "      <td>0.555058</td>\n",
       "      <td>1.013982</td>\n",
       "      <td>-0.544506</td>\n",
       "      <td>-0.064061</td>\n",
       "    </tr>\n",
       "    <tr>\n",
       "      <th>100005_raw-Carbohydrate</th>\n",
       "      <td>-0.580143</td>\n",
       "      <td>0.243335</td>\n",
       "      <td>0.158966</td>\n",
       "      <td>-0.036558</td>\n",
       "      <td>0.068176</td>\n",
       "      <td>-0.202639</td>\n",
       "      <td>1.101281</td>\n",
       "      <td>0.675227</td>\n",
       "      <td>1.463432</td>\n",
       "      <td>1.010078</td>\n",
       "      <td>...</td>\n",
       "      <td>-0.249108</td>\n",
       "      <td>-0.026814</td>\n",
       "      <td>0.232713</td>\n",
       "      <td>0.323682</td>\n",
       "      <td>1.168642</td>\n",
       "      <td>-0.282935</td>\n",
       "      <td>0.653105</td>\n",
       "      <td>1.909526</td>\n",
       "      <td>0.199997</td>\n",
       "      <td>-1.656894</td>\n",
       "    </tr>\n",
       "  </tbody>\n",
       "</table>\n",
       "<p>5 rows × 987 columns</p>\n",
       "</div>"
      ],
      "text/plain": [
       "                              LV1       LV2       LV3       LV4       LV5  \\\n",
       "100001_raw-Food_weight  -0.695006  1.962565  0.057683  0.878731 -0.539977   \n",
       "100002_raw-Energy       -1.528127 -0.345309 -0.148953 -0.242060  0.373427   \n",
       "100003_raw-Protein      -0.704572 -1.011299  0.671420  0.143991  0.615212   \n",
       "100004_raw-Fat          -0.989832 -1.875490  0.261555 -1.420719  0.366238   \n",
       "100005_raw-Carbohydrate -0.580143  0.243335  0.158966 -0.036558  0.068176   \n",
       "\n",
       "                              LV6       LV7       LV8       LV9      LV10  \\\n",
       "100001_raw-Food_weight   1.481272 -0.396422  1.090180  0.759223  0.931395   \n",
       "100002_raw-Energy        0.791092  0.263477  0.987702  0.354391  1.416059   \n",
       "100003_raw-Protein       0.874212 -0.040998  0.915170  0.254369 -0.084237   \n",
       "100004_raw-Fat           1.167049  0.257387  0.717674 -0.997664  0.969825   \n",
       "100005_raw-Carbohydrate -0.202639  1.101281  0.675227  1.463432  1.010078   \n",
       "\n",
       "                         ...     LV978     LV979     LV980     LV981  \\\n",
       "100001_raw-Food_weight   ...  1.129784  1.752343 -1.411403  2.823863   \n",
       "100002_raw-Energy        ...  0.224604  0.769882 -0.509482  0.091153   \n",
       "100003_raw-Protein       ...  1.003019  1.044314 -2.376108  0.004778   \n",
       "100004_raw-Fat           ...  0.585913  0.638314  0.119139 -0.140204   \n",
       "100005_raw-Carbohydrate  ... -0.249108 -0.026814  0.232713  0.323682   \n",
       "\n",
       "                            LV982     LV983     LV984     LV985     LV986  \\\n",
       "100001_raw-Food_weight   0.931116 -1.054519  0.432982 -0.633597  0.554279   \n",
       "100002_raw-Energy        2.286789 -1.008256 -0.029764  1.737229 -0.272107   \n",
       "100003_raw-Protein       0.053714 -0.892447 -0.183800  1.377991 -0.278794   \n",
       "100004_raw-Fat           1.394326 -1.173402  0.555058  1.013982 -0.544506   \n",
       "100005_raw-Carbohydrate  1.168642 -0.282935  0.653105  1.909526  0.199997   \n",
       "\n",
       "                            LV987  \n",
       "100001_raw-Food_weight  -0.642479  \n",
       "100002_raw-Energy       -0.526125  \n",
       "100003_raw-Protein      -0.419733  \n",
       "100004_raw-Fat          -0.064061  \n",
       "100005_raw-Carbohydrate -1.656894  \n",
       "\n",
       "[5 rows x 987 columns]"
      ]
     },
     "execution_count": 14,
     "metadata": {},
     "output_type": "execute_result"
    }
   ],
   "source": [
    "data.head()"
   ]
  },
  {
   "cell_type": "markdown",
   "metadata": {},
   "source": [
    "# LV analysis"
   ]
  },
  {
   "cell_type": "code",
   "execution_count": 15,
   "metadata": {},
   "outputs": [],
   "source": [
    "lv_obj = lv_exp = LVAnalysis(LV_NAME_SELECTED, data)"
   ]
  },
  {
   "cell_type": "code",
   "execution_count": 16,
   "metadata": {},
   "outputs": [
    {
     "data": {
      "text/html": [
       "<div>\n",
       "<style scoped>\n",
       "    .dataframe tbody tr th:only-of-type {\n",
       "        vertical-align: middle;\n",
       "    }\n",
       "\n",
       "    .dataframe tbody tr th {\n",
       "        vertical-align: top;\n",
       "    }\n",
       "\n",
       "    .dataframe thead th {\n",
       "        text-align: right;\n",
       "    }\n",
       "</style>\n",
       "<table border=\"1\" class=\"dataframe\">\n",
       "  <thead>\n",
       "    <tr style=\"text-align: right;\">\n",
       "      <th></th>\n",
       "      <th>pathway</th>\n",
       "      <th>LV index</th>\n",
       "      <th>AUC</th>\n",
       "      <th>p-value</th>\n",
       "      <th>FDR</th>\n",
       "    </tr>\n",
       "  </thead>\n",
       "  <tbody>\n",
       "    <tr>\n",
       "      <th>1511</th>\n",
       "      <td>IRIS_Neutrophil-Resting</td>\n",
       "      <td>603</td>\n",
       "      <td>0.905751</td>\n",
       "      <td>8.355936e-38</td>\n",
       "      <td>4.505939e-35</td>\n",
       "    </tr>\n",
       "    <tr>\n",
       "      <th>1512</th>\n",
       "      <td>SVM Neutrophils</td>\n",
       "      <td>603</td>\n",
       "      <td>0.979789</td>\n",
       "      <td>2.856571e-11</td>\n",
       "      <td>1.432936e-09</td>\n",
       "    </tr>\n",
       "    <tr>\n",
       "      <th>1513</th>\n",
       "      <td>PID_IL8CXCR2_PATHWAY</td>\n",
       "      <td>603</td>\n",
       "      <td>0.810732</td>\n",
       "      <td>8.814671e-04</td>\n",
       "      <td>7.041943e-03</td>\n",
       "    </tr>\n",
       "    <tr>\n",
       "      <th>1516</th>\n",
       "      <td>SIG_PIP3_SIGNALING_IN_B_LYMPHOCYTES</td>\n",
       "      <td>603</td>\n",
       "      <td>0.769292</td>\n",
       "      <td>3.387907e-03</td>\n",
       "      <td>1.948724e-02</td>\n",
       "    </tr>\n",
       "  </tbody>\n",
       "</table>\n",
       "</div>"
      ],
      "text/plain": [
       "                                  pathway LV index       AUC       p-value  \\\n",
       "1511              IRIS_Neutrophil-Resting      603  0.905751  8.355936e-38   \n",
       "1512                      SVM Neutrophils      603  0.979789  2.856571e-11   \n",
       "1513                 PID_IL8CXCR2_PATHWAY      603  0.810732  8.814671e-04   \n",
       "1516  SIG_PIP3_SIGNALING_IN_B_LYMPHOCYTES      603  0.769292  3.387907e-03   \n",
       "\n",
       "               FDR  \n",
       "1511  4.505939e-35  \n",
       "1512  1.432936e-09  \n",
       "1513  7.041943e-03  \n",
       "1516  1.948724e-02  "
      ]
     },
     "metadata": {},
     "output_type": "display_data"
    }
   ],
   "source": [
    "lv_gene_sets = multiplier_model_summary[\n",
    "    multiplier_model_summary[\"LV index\"].isin((str(LV_NUMBER_SELECTED),))\n",
    "    & (\n",
    "        (multiplier_model_summary[\"FDR\"] < 0.05)\n",
    "        | (multiplier_model_summary[\"AUC\"] >= 0.75)\n",
    "    )\n",
    "]\n",
    "display(lv_gene_sets)"
   ]
  },
  {
   "cell_type": "markdown",
   "metadata": {},
   "source": [
    "## Traits"
   ]
  },
  {
   "cell_type": "code",
   "execution_count": 17,
   "metadata": {},
   "outputs": [
    {
     "data": {
      "text/plain": [
       "(3752,)"
      ]
     },
     "execution_count": 17,
     "metadata": {},
     "output_type": "execute_result"
    }
   ],
   "source": [
    "lv_obj.lv_traits.shape"
   ]
  },
  {
   "cell_type": "code",
   "execution_count": 18,
   "metadata": {},
   "outputs": [
    {
     "data": {
      "text/plain": [
       "30220_raw-Basophill_percentage                                   6.808564\n",
       "30130_raw-Monocyte_count                                         5.929725\n",
       "30000_raw-White_blood_cell_leukocyte_count                       5.475911\n",
       "myeloid white cell count                                         5.023638\n",
       "leukocyte count                                                  4.929467\n",
       "sum of neutrophil and eosinophil counts                          4.813967\n",
       "granulocyte count                                                4.810645\n",
       "sum of basophil and neutrophil counts                            4.745751\n",
       "neutrophil count                                                 4.718833\n",
       "30160-Basophill_count                                            4.609551\n",
       "30180_raw-Lymphocyte_percentage                                  4.492022\n",
       "30140_raw-Neutrophill_count                                      4.238486\n",
       "monocyte count                                                   4.238454\n",
       "20003_1140875420-Treatmentmedication_code_baclofen               4.168902\n",
       "30200_raw-Neutrophill_percentage                                 3.988899\n",
       "30190_raw-Monocyte_percentage                                    3.593564\n",
       "30120_raw-Lymphocyte_count                                       3.367898\n",
       "M13_DORSOPATHYOTH-Other_dorsopathies_not_elsewhere_classified    3.045257\n",
       "AB1_VIRAL_CNS-Viral_infections_of_the_central_nervous_system     3.017178\n",
       "20022_raw-Birth_weight                                           3.000429\n",
       "Name: LV603, dtype: float64"
      ]
     },
     "execution_count": 18,
     "metadata": {},
     "output_type": "execute_result"
    }
   ],
   "source": [
    "lv_obj.lv_traits.head(20)"
   ]
  },
  {
   "cell_type": "markdown",
   "metadata": {},
   "source": [
    "## Genes"
   ]
  },
  {
   "cell_type": "code",
   "execution_count": 19,
   "metadata": {},
   "outputs": [
    {
     "data": {
      "text/plain": [
       "(6750, 3)"
      ]
     },
     "execution_count": 19,
     "metadata": {},
     "output_type": "execute_result"
    }
   ],
   "source": [
    "lv_obj.lv_genes.shape"
   ]
  },
  {
   "cell_type": "code",
   "execution_count": 20,
   "metadata": {},
   "outputs": [
    {
     "data": {
      "text/html": [
       "<div>\n",
       "<style scoped>\n",
       "    .dataframe tbody tr th:only-of-type {\n",
       "        vertical-align: middle;\n",
       "    }\n",
       "\n",
       "    .dataframe tbody tr th {\n",
       "        vertical-align: top;\n",
       "    }\n",
       "\n",
       "    .dataframe thead th {\n",
       "        text-align: right;\n",
       "    }\n",
       "</style>\n",
       "<table border=\"1\" class=\"dataframe\">\n",
       "  <thead>\n",
       "    <tr style=\"text-align: right;\">\n",
       "      <th></th>\n",
       "      <th>gene_name</th>\n",
       "      <th>LV603</th>\n",
       "      <th>gene_band</th>\n",
       "    </tr>\n",
       "  </thead>\n",
       "  <tbody>\n",
       "    <tr>\n",
       "      <th>0</th>\n",
       "      <td>CXCR2</td>\n",
       "      <td>5.320459</td>\n",
       "      <td>2q35</td>\n",
       "    </tr>\n",
       "    <tr>\n",
       "      <th>1</th>\n",
       "      <td>FCGR3B</td>\n",
       "      <td>5.128372</td>\n",
       "      <td>1q23.3</td>\n",
       "    </tr>\n",
       "    <tr>\n",
       "      <th>2</th>\n",
       "      <td>TNFRSF10C</td>\n",
       "      <td>5.035457</td>\n",
       "      <td>8p21.3</td>\n",
       "    </tr>\n",
       "    <tr>\n",
       "      <th>3</th>\n",
       "      <td>VNN2</td>\n",
       "      <td>4.680865</td>\n",
       "      <td>6q23.2</td>\n",
       "    </tr>\n",
       "    <tr>\n",
       "      <th>4</th>\n",
       "      <td>ZDHHC18</td>\n",
       "      <td>4.495976</td>\n",
       "      <td>1p36.11</td>\n",
       "    </tr>\n",
       "    <tr>\n",
       "      <th>5</th>\n",
       "      <td>MNDA</td>\n",
       "      <td>4.488505</td>\n",
       "      <td>1q23.1</td>\n",
       "    </tr>\n",
       "    <tr>\n",
       "      <th>6</th>\n",
       "      <td>CXCR1</td>\n",
       "      <td>4.442062</td>\n",
       "      <td>2q35</td>\n",
       "    </tr>\n",
       "    <tr>\n",
       "      <th>7</th>\n",
       "      <td>P2RY13</td>\n",
       "      <td>4.404405</td>\n",
       "      <td>3q25.1</td>\n",
       "    </tr>\n",
       "    <tr>\n",
       "      <th>8</th>\n",
       "      <td>VNN3</td>\n",
       "      <td>4.253184</td>\n",
       "      <td>6q23.2</td>\n",
       "    </tr>\n",
       "    <tr>\n",
       "      <th>9</th>\n",
       "      <td>FPR2</td>\n",
       "      <td>4.187560</td>\n",
       "      <td>19q13.41</td>\n",
       "    </tr>\n",
       "  </tbody>\n",
       "</table>\n",
       "</div>"
      ],
      "text/plain": [
       "   gene_name     LV603 gene_band\n",
       "0      CXCR2  5.320459      2q35\n",
       "1     FCGR3B  5.128372    1q23.3\n",
       "2  TNFRSF10C  5.035457    8p21.3\n",
       "3       VNN2  4.680865    6q23.2\n",
       "4    ZDHHC18  4.495976   1p36.11\n",
       "5       MNDA  4.488505    1q23.1\n",
       "6      CXCR1  4.442062      2q35\n",
       "7     P2RY13  4.404405    3q25.1\n",
       "8       VNN3  4.253184    6q23.2\n",
       "9       FPR2  4.187560  19q13.41"
      ]
     },
     "execution_count": 20,
     "metadata": {},
     "output_type": "execute_result"
    }
   ],
   "source": [
    "lv_obj.lv_genes.head(10)"
   ]
  },
  {
   "cell_type": "markdown",
   "metadata": {},
   "source": [
    "## Conditions"
   ]
  },
  {
   "cell_type": "code",
   "execution_count": 21,
   "metadata": {},
   "outputs": [
    {
     "data": {
      "text/plain": [
       "(37032, 4)"
      ]
     },
     "execution_count": 21,
     "metadata": {},
     "output_type": "execute_result"
    }
   ],
   "source": [
    "lv_obj.lv_conds.shape"
   ]
  },
  {
   "cell_type": "code",
   "execution_count": 22,
   "metadata": {},
   "outputs": [
    {
     "data": {
      "text/html": [
       "<div>\n",
       "<style scoped>\n",
       "    .dataframe tbody tr th:only-of-type {\n",
       "        vertical-align: middle;\n",
       "    }\n",
       "\n",
       "    .dataframe tbody tr th {\n",
       "        vertical-align: top;\n",
       "    }\n",
       "\n",
       "    .dataframe thead th {\n",
       "        text-align: right;\n",
       "    }\n",
       "</style>\n",
       "<table border=\"1\" class=\"dataframe\">\n",
       "  <thead>\n",
       "    <tr style=\"text-align: right;\">\n",
       "      <th></th>\n",
       "      <th>experiment_id</th>\n",
       "      <th>LV603</th>\n",
       "      <th>project</th>\n",
       "      <th>experiment</th>\n",
       "    </tr>\n",
       "  </thead>\n",
       "  <tbody>\n",
       "    <tr>\n",
       "      <th>0</th>\n",
       "      <td>SRP051688.SRR1740077</td>\n",
       "      <td>2.279927</td>\n",
       "      <td>SRP051688</td>\n",
       "      <td>SRR1740077</td>\n",
       "    </tr>\n",
       "    <tr>\n",
       "      <th>1</th>\n",
       "      <td>SRP051688.SRR1740076</td>\n",
       "      <td>2.256947</td>\n",
       "      <td>SRP051688</td>\n",
       "      <td>SRR1740076</td>\n",
       "    </tr>\n",
       "    <tr>\n",
       "      <th>2</th>\n",
       "      <td>SRP051688.SRR1740046</td>\n",
       "      <td>2.215945</td>\n",
       "      <td>SRP051688</td>\n",
       "      <td>SRR1740046</td>\n",
       "    </tr>\n",
       "    <tr>\n",
       "      <th>3</th>\n",
       "      <td>SRP051688.SRR1740049</td>\n",
       "      <td>2.203057</td>\n",
       "      <td>SRP051688</td>\n",
       "      <td>SRR1740049</td>\n",
       "    </tr>\n",
       "    <tr>\n",
       "      <th>4</th>\n",
       "      <td>SRP059959.SRR2082517</td>\n",
       "      <td>2.169530</td>\n",
       "      <td>SRP059959</td>\n",
       "      <td>SRR2082517</td>\n",
       "    </tr>\n",
       "  </tbody>\n",
       "</table>\n",
       "</div>"
      ],
      "text/plain": [
       "          experiment_id     LV603    project  experiment\n",
       "0  SRP051688.SRR1740077  2.279927  SRP051688  SRR1740077\n",
       "1  SRP051688.SRR1740076  2.256947  SRP051688  SRR1740076\n",
       "2  SRP051688.SRR1740046  2.215945  SRP051688  SRR1740046\n",
       "3  SRP051688.SRR1740049  2.203057  SRP051688  SRR1740049\n",
       "4  SRP059959.SRR2082517  2.169530  SRP059959  SRR2082517"
      ]
     },
     "execution_count": 22,
     "metadata": {},
     "output_type": "execute_result"
    }
   ],
   "source": [
    "lv_obj.lv_conds.head()"
   ]
  },
  {
   "cell_type": "markdown",
   "metadata": {},
   "source": [
    "# Cell type and tissue attributes"
   ]
  },
  {
   "cell_type": "code",
   "execution_count": 23,
   "metadata": {},
   "outputs": [
    {
     "name": "stdout",
     "output_type": "stream",
     "text": [
      "SRP051688, SRP059959, SRP045500, SRP044593, SRP048971, SRP015360, SRP056159, SRP059695, SRP026331, SRP051848, SRP062966, SRP017138, SRP022133, SRP059039, SRP059172, SRP058237, SRP043080, SRP056443, SRP034732, SRP055874, SRP041620, SRP056784, "
     ]
    },
    {
     "name": "stderr",
     "output_type": "stream",
     "text": [
      "/opt/code/libs/data/recount2.py:323: UserWarning: Not all experiments data could be loaded (21 != 22)\n",
      "  warnings.warn(\n"
     ]
    },
    {
     "data": {
      "text/plain": [
       "cell type    0.587916\n",
       "celltype     0.445557\n",
       "tissue       0.146257\n",
       "dtype: float64"
      ]
     },
     "metadata": {},
     "output_type": "display_data"
    }
   ],
   "source": [
    "lv_attrs = lv_obj.get_attributes_variation_score()\n",
    "\n",
    "_tmp = pd.Series(lv_attrs.index)\n",
    "\n",
    "lv_attrs = lv_attrs[\n",
    "    _tmp.str.match(\n",
    "        \"(?:cell[\\W]*type$)|(?:tissue$)|(?:tissue[\\W]*type$)\",\n",
    "        case=False,\n",
    "        flags=re.IGNORECASE,\n",
    "    ).values\n",
    "].sort_values(ascending=False)\n",
    "\n",
    "display(lv_attrs)"
   ]
  },
  {
   "cell_type": "markdown",
   "metadata": {},
   "source": [
    "## LV data"
   ]
  },
  {
   "cell_type": "code",
   "execution_count": 24,
   "metadata": {},
   "outputs": [],
   "source": [
    "lv_data = lv_obj.get_experiments_data()"
   ]
  },
  {
   "cell_type": "code",
   "execution_count": 25,
   "metadata": {},
   "outputs": [
    {
     "data": {
      "text/plain": [
       "(1141, 50)"
      ]
     },
     "execution_count": 25,
     "metadata": {},
     "output_type": "execute_result"
    }
   ],
   "source": [
    "lv_data.shape"
   ]
  },
  {
   "cell_type": "code",
   "execution_count": 26,
   "metadata": {},
   "outputs": [
    {
     "data": {
      "text/html": [
       "<div>\n",
       "<style scoped>\n",
       "    .dataframe tbody tr th:only-of-type {\n",
       "        vertical-align: middle;\n",
       "    }\n",
       "\n",
       "    .dataframe tbody tr th {\n",
       "        vertical-align: top;\n",
       "    }\n",
       "\n",
       "    .dataframe thead th {\n",
       "        text-align: right;\n",
       "    }\n",
       "</style>\n",
       "<table border=\"1\" class=\"dataframe\">\n",
       "  <thead>\n",
       "    <tr style=\"text-align: right;\">\n",
       "      <th></th>\n",
       "      <th></th>\n",
       "      <th>time</th>\n",
       "      <th>cell type</th>\n",
       "      <th>assay</th>\n",
       "      <th>donor</th>\n",
       "      <th>tissue</th>\n",
       "      <th>passages</th>\n",
       "      <th>age</th>\n",
       "      <th>cellcount</th>\n",
       "      <th>celltype</th>\n",
       "      <th>collectiondate</th>\n",
       "      <th>...</th>\n",
       "      <th>country</th>\n",
       "      <th>location</th>\n",
       "      <th>individual</th>\n",
       "      <th>disease state</th>\n",
       "      <th>diagnosis</th>\n",
       "      <th>disease/health status</th>\n",
       "      <th>timepoint</th>\n",
       "      <th>treatment status</th>\n",
       "      <th>ethnicity</th>\n",
       "      <th>LV603</th>\n",
       "    </tr>\n",
       "    <tr>\n",
       "      <th>project</th>\n",
       "      <th>run</th>\n",
       "      <th></th>\n",
       "      <th></th>\n",
       "      <th></th>\n",
       "      <th></th>\n",
       "      <th></th>\n",
       "      <th></th>\n",
       "      <th></th>\n",
       "      <th></th>\n",
       "      <th></th>\n",
       "      <th></th>\n",
       "      <th></th>\n",
       "      <th></th>\n",
       "      <th></th>\n",
       "      <th></th>\n",
       "      <th></th>\n",
       "      <th></th>\n",
       "      <th></th>\n",
       "      <th></th>\n",
       "      <th></th>\n",
       "      <th></th>\n",
       "      <th></th>\n",
       "    </tr>\n",
       "  </thead>\n",
       "  <tbody>\n",
       "    <tr>\n",
       "      <th rowspan=\"5\" valign=\"top\">SRP051688</th>\n",
       "      <th>SRR1740034</th>\n",
       "      <td>0 d</td>\n",
       "      <td>primary human B cells</td>\n",
       "      <td>RNA-seq</td>\n",
       "      <td>Donor: HD30</td>\n",
       "      <td>NaN</td>\n",
       "      <td>NaN</td>\n",
       "      <td>NaN</td>\n",
       "      <td>NaN</td>\n",
       "      <td>NaN</td>\n",
       "      <td>NaN</td>\n",
       "      <td>...</td>\n",
       "      <td>NaN</td>\n",
       "      <td>NaN</td>\n",
       "      <td>NaN</td>\n",
       "      <td>NaN</td>\n",
       "      <td>NaN</td>\n",
       "      <td>NaN</td>\n",
       "      <td>NaN</td>\n",
       "      <td>NaN</td>\n",
       "      <td>NaN</td>\n",
       "      <td>-0.026016</td>\n",
       "    </tr>\n",
       "    <tr>\n",
       "      <th>SRR1740035</th>\n",
       "      <td>1 d</td>\n",
       "      <td>primary human B cells</td>\n",
       "      <td>RNA-seq</td>\n",
       "      <td>Donor: HD30</td>\n",
       "      <td>NaN</td>\n",
       "      <td>NaN</td>\n",
       "      <td>NaN</td>\n",
       "      <td>NaN</td>\n",
       "      <td>NaN</td>\n",
       "      <td>NaN</td>\n",
       "      <td>...</td>\n",
       "      <td>NaN</td>\n",
       "      <td>NaN</td>\n",
       "      <td>NaN</td>\n",
       "      <td>NaN</td>\n",
       "      <td>NaN</td>\n",
       "      <td>NaN</td>\n",
       "      <td>NaN</td>\n",
       "      <td>NaN</td>\n",
       "      <td>NaN</td>\n",
       "      <td>-0.029451</td>\n",
       "    </tr>\n",
       "    <tr>\n",
       "      <th>SRR1740036</th>\n",
       "      <td>3 d</td>\n",
       "      <td>primary human B cells</td>\n",
       "      <td>RNA-seq</td>\n",
       "      <td>Donor: HD30</td>\n",
       "      <td>NaN</td>\n",
       "      <td>NaN</td>\n",
       "      <td>NaN</td>\n",
       "      <td>NaN</td>\n",
       "      <td>NaN</td>\n",
       "      <td>NaN</td>\n",
       "      <td>...</td>\n",
       "      <td>NaN</td>\n",
       "      <td>NaN</td>\n",
       "      <td>NaN</td>\n",
       "      <td>NaN</td>\n",
       "      <td>NaN</td>\n",
       "      <td>NaN</td>\n",
       "      <td>NaN</td>\n",
       "      <td>NaN</td>\n",
       "      <td>NaN</td>\n",
       "      <td>-0.027997</td>\n",
       "    </tr>\n",
       "    <tr>\n",
       "      <th>SRR1740037</th>\n",
       "      <td>7 d</td>\n",
       "      <td>primary human B cells</td>\n",
       "      <td>RNA-seq</td>\n",
       "      <td>Donor: HD30</td>\n",
       "      <td>NaN</td>\n",
       "      <td>NaN</td>\n",
       "      <td>NaN</td>\n",
       "      <td>NaN</td>\n",
       "      <td>NaN</td>\n",
       "      <td>NaN</td>\n",
       "      <td>...</td>\n",
       "      <td>NaN</td>\n",
       "      <td>NaN</td>\n",
       "      <td>NaN</td>\n",
       "      <td>NaN</td>\n",
       "      <td>NaN</td>\n",
       "      <td>NaN</td>\n",
       "      <td>NaN</td>\n",
       "      <td>NaN</td>\n",
       "      <td>NaN</td>\n",
       "      <td>-0.025136</td>\n",
       "    </tr>\n",
       "    <tr>\n",
       "      <th>SRR1740038</th>\n",
       "      <td>0 d</td>\n",
       "      <td>primary human myeloid DC</td>\n",
       "      <td>RNA-seq</td>\n",
       "      <td>Donor: HD30</td>\n",
       "      <td>NaN</td>\n",
       "      <td>NaN</td>\n",
       "      <td>NaN</td>\n",
       "      <td>NaN</td>\n",
       "      <td>NaN</td>\n",
       "      <td>NaN</td>\n",
       "      <td>...</td>\n",
       "      <td>NaN</td>\n",
       "      <td>NaN</td>\n",
       "      <td>NaN</td>\n",
       "      <td>NaN</td>\n",
       "      <td>NaN</td>\n",
       "      <td>NaN</td>\n",
       "      <td>NaN</td>\n",
       "      <td>NaN</td>\n",
       "      <td>NaN</td>\n",
       "      <td>0.124358</td>\n",
       "    </tr>\n",
       "  </tbody>\n",
       "</table>\n",
       "<p>5 rows × 50 columns</p>\n",
       "</div>"
      ],
      "text/plain": [
       "                     time                 cell type    assay        donor  \\\n",
       "project   run                                                               \n",
       "SRP051688 SRR1740034  0 d     primary human B cells  RNA-seq  Donor: HD30   \n",
       "          SRR1740035  1 d     primary human B cells  RNA-seq  Donor: HD30   \n",
       "          SRR1740036  3 d     primary human B cells  RNA-seq  Donor: HD30   \n",
       "          SRR1740037  7 d     primary human B cells  RNA-seq  Donor: HD30   \n",
       "          SRR1740038  0 d  primary human myeloid DC  RNA-seq  Donor: HD30   \n",
       "\n",
       "                     tissue passages  age cellcount celltype collectiondate  \\\n",
       "project   run                                                                 \n",
       "SRP051688 SRR1740034    NaN      NaN  NaN       NaN      NaN            NaN   \n",
       "          SRR1740035    NaN      NaN  NaN       NaN      NaN            NaN   \n",
       "          SRR1740036    NaN      NaN  NaN       NaN      NaN            NaN   \n",
       "          SRR1740037    NaN      NaN  NaN       NaN      NaN            NaN   \n",
       "          SRR1740038    NaN      NaN  NaN       NaN      NaN            NaN   \n",
       "\n",
       "                      ... country location individual disease state diagnosis  \\\n",
       "project   run         ...                                                       \n",
       "SRP051688 SRR1740034  ...     NaN      NaN        NaN           NaN       NaN   \n",
       "          SRR1740035  ...     NaN      NaN        NaN           NaN       NaN   \n",
       "          SRR1740036  ...     NaN      NaN        NaN           NaN       NaN   \n",
       "          SRR1740037  ...     NaN      NaN        NaN           NaN       NaN   \n",
       "          SRR1740038  ...     NaN      NaN        NaN           NaN       NaN   \n",
       "\n",
       "                     disease/health status timepoint treatment status  \\\n",
       "project   run                                                           \n",
       "SRP051688 SRR1740034                   NaN       NaN              NaN   \n",
       "          SRR1740035                   NaN       NaN              NaN   \n",
       "          SRR1740036                   NaN       NaN              NaN   \n",
       "          SRR1740037                   NaN       NaN              NaN   \n",
       "          SRR1740038                   NaN       NaN              NaN   \n",
       "\n",
       "                     ethnicity     LV603  \n",
       "project   run                             \n",
       "SRP051688 SRR1740034       NaN -0.026016  \n",
       "          SRR1740035       NaN -0.029451  \n",
       "          SRR1740036       NaN -0.027997  \n",
       "          SRR1740037       NaN -0.025136  \n",
       "          SRR1740038       NaN  0.124358  \n",
       "\n",
       "[5 rows x 50 columns]"
      ]
     },
     "execution_count": 26,
     "metadata": {},
     "output_type": "execute_result"
    }
   ],
   "source": [
    "lv_data.head()"
   ]
  },
  {
   "cell_type": "markdown",
   "metadata": {},
   "source": [
    "## Prepare experiments data"
   ]
  },
  {
   "cell_type": "code",
   "execution_count": 27,
   "metadata": {},
   "outputs": [],
   "source": [
    "lv_data = lv_data[lv_attrs.index.tolist() + [LV_NAME_SELECTED]]"
   ]
  },
  {
   "cell_type": "code",
   "execution_count": 28,
   "metadata": {},
   "outputs": [],
   "source": [
    "# merge \"cell type\" with \"celltype\"\n",
    "lv_data = lv_data.fillna(\n",
    "    {\n",
    "        \"cell type\": lv_data[\"celltype\"],\n",
    "    }\n",
    ")"
   ]
  },
  {
   "cell_type": "code",
   "execution_count": 29,
   "metadata": {},
   "outputs": [],
   "source": [
    "imp_f = \"cell type\"\n",
    "assert imp_f in lv_attrs.index"
   ]
  },
  {
   "cell_type": "code",
   "execution_count": 30,
   "metadata": {},
   "outputs": [],
   "source": [
    "features = [imp_f, LV_NAME_SELECTED]"
   ]
  },
  {
   "cell_type": "code",
   "execution_count": 31,
   "metadata": {},
   "outputs": [
    {
     "data": {
      "text/plain": [
       "(1141, 4)"
      ]
     },
     "execution_count": 31,
     "metadata": {},
     "output_type": "execute_result"
    }
   ],
   "source": [
    "lv_data.shape"
   ]
  },
  {
   "cell_type": "code",
   "execution_count": 32,
   "metadata": {},
   "outputs": [],
   "source": [
    "lv_data = lv_data[features].dropna()"
   ]
  },
  {
   "cell_type": "code",
   "execution_count": 33,
   "metadata": {},
   "outputs": [],
   "source": [
    "imp_f_old = imp_f\n",
    "imp_f = \"Cell type\"\n",
    "imp_f_short = \"cell_type\"\n",
    "lv_data = lv_data.rename(columns={imp_f_old: imp_f})"
   ]
  },
  {
   "cell_type": "code",
   "execution_count": 34,
   "metadata": {},
   "outputs": [
    {
     "data": {
      "text/plain": [
       "(339, 2)"
      ]
     },
     "execution_count": 34,
     "metadata": {},
     "output_type": "execute_result"
    }
   ],
   "source": [
    "lv_data.shape"
   ]
  },
  {
   "cell_type": "code",
   "execution_count": 35,
   "metadata": {},
   "outputs": [
    {
     "data": {
      "text/html": [
       "<div>\n",
       "<style scoped>\n",
       "    .dataframe tbody tr th:only-of-type {\n",
       "        vertical-align: middle;\n",
       "    }\n",
       "\n",
       "    .dataframe tbody tr th {\n",
       "        vertical-align: top;\n",
       "    }\n",
       "\n",
       "    .dataframe thead th {\n",
       "        text-align: right;\n",
       "    }\n",
       "</style>\n",
       "<table border=\"1\" class=\"dataframe\">\n",
       "  <thead>\n",
       "    <tr style=\"text-align: right;\">\n",
       "      <th></th>\n",
       "      <th></th>\n",
       "      <th>Cell type</th>\n",
       "      <th>LV603</th>\n",
       "    </tr>\n",
       "    <tr>\n",
       "      <th>project</th>\n",
       "      <th>run</th>\n",
       "      <th></th>\n",
       "      <th></th>\n",
       "    </tr>\n",
       "  </thead>\n",
       "  <tbody>\n",
       "    <tr>\n",
       "      <th rowspan=\"5\" valign=\"top\">SRP051688</th>\n",
       "      <th>SRR1740034</th>\n",
       "      <td>primary human B cells</td>\n",
       "      <td>-0.026016</td>\n",
       "    </tr>\n",
       "    <tr>\n",
       "      <th>SRR1740035</th>\n",
       "      <td>primary human B cells</td>\n",
       "      <td>-0.029451</td>\n",
       "    </tr>\n",
       "    <tr>\n",
       "      <th>SRR1740036</th>\n",
       "      <td>primary human B cells</td>\n",
       "      <td>-0.027997</td>\n",
       "    </tr>\n",
       "    <tr>\n",
       "      <th>SRR1740037</th>\n",
       "      <td>primary human B cells</td>\n",
       "      <td>-0.025136</td>\n",
       "    </tr>\n",
       "    <tr>\n",
       "      <th>SRR1740038</th>\n",
       "      <td>primary human myeloid DC</td>\n",
       "      <td>0.124358</td>\n",
       "    </tr>\n",
       "  </tbody>\n",
       "</table>\n",
       "</div>"
      ],
      "text/plain": [
       "                                     Cell type     LV603\n",
       "project   run                                           \n",
       "SRP051688 SRR1740034     primary human B cells -0.026016\n",
       "          SRR1740035     primary human B cells -0.029451\n",
       "          SRR1740036     primary human B cells -0.027997\n",
       "          SRR1740037     primary human B cells -0.025136\n",
       "          SRR1740038  primary human myeloid DC  0.124358"
      ]
     },
     "execution_count": 35,
     "metadata": {},
     "output_type": "execute_result"
    }
   ],
   "source": [
    "lv_data.head()"
   ]
  },
  {
   "cell_type": "code",
   "execution_count": 36,
   "metadata": {},
   "outputs": [
    {
     "data": {
      "text/plain": [
       "Index(['SRP051688', 'SRP059959', 'SRP045500', 'SRP044593', 'SRP048971',\n",
       "       'SRP056159', 'SRP059695', 'SRP058237', 'SRP043080', 'SRP056443'],\n",
       "      dtype='object', name='project')"
      ]
     },
     "execution_count": 36,
     "metadata": {},
     "output_type": "execute_result"
    }
   ],
   "source": [
    "lv_data.index.get_level_values(\"project\").unique()"
   ]
  },
  {
   "cell_type": "markdown",
   "metadata": {},
   "source": [
    "# Figure: conditions/experiments summary"
   ]
  },
  {
   "cell_type": "markdown",
   "metadata": {},
   "source": [
    "## Settings"
   ]
  },
  {
   "cell_type": "code",
   "execution_count": 37,
   "metadata": {},
   "outputs": [],
   "source": [
    "top_x_values = 7"
   ]
  },
  {
   "cell_type": "markdown",
   "metadata": {},
   "source": [
    "## Use uniform cell types"
   ]
  },
  {
   "cell_type": "code",
   "execution_count": 38,
   "metadata": {},
   "outputs": [],
   "source": [
    "# lv_data[lv_data[imp_f].str.lower().str.contains(\"mye\")]  # [\"Cell type\"].iloc[0]"
   ]
  },
  {
   "cell_type": "code",
   "execution_count": 39,
   "metadata": {},
   "outputs": [],
   "source": [
    "plot_data = lv_data.replace(\n",
    "    {\n",
    "        imp_f: {\n",
    "            # neutrophils\n",
    "            \"primary human neutrophils\": \"Neutrophils\",\n",
    "            \"Neutrophil isolated from peripheral blood\": \"Neutrophils\",\n",
    "            \"Neutrophil\": \"Neutrophils\",\n",
    "            \"neutrophils (Neu)\": \"Neutrophils\",\n",
    "            # granulocytes\n",
    "            \"granulocyte\": \"Granulocytes\",\n",
    "            # monocytes\n",
    "            \"primary human monocytes\": \"Monocytes\",\n",
    "            # whole blood\n",
    "            \"Whole Blood\": \"Whole blood\",\n",
    "            # PBMC\n",
    "            \"primary human PBMC\": \"PBMC\",\n",
    "            # B-cells\n",
    "            \"primary human B cells\": \"B cells\",\n",
    "            # T-cells\n",
    "            \"primary human T cells\": \"T cells\",\n",
    "            #             \"naive CD4+ T-cells\": \"Naive CD4+ T-cells\",\n",
    "            # epithelial cells\n",
    "            \"epithelial cells (Epi)\": \"Epithelial cells\",\n",
    "            \"primary human myeloid DC\": \"mDCs\",\n",
    "        }\n",
    "    }\n",
    ")"
   ]
  },
  {
   "cell_type": "markdown",
   "metadata": {},
   "source": [
    "## Plot"
   ]
  },
  {
   "cell_type": "code",
   "execution_count": 44,
   "metadata": {},
   "outputs": [
    {
     "data": {
      "text/plain": [
       "PosixPath('/opt/manuscript/content/images/entire_process/lv603_cell_type.pdf')"
      ]
     },
     "metadata": {},
     "output_type": "display_data"
    },
    {
     "data": {
      "image/png": "[encoded data removed]",
      "text/plain": [
       "<Figure size 1080x720 with 1 Axes>"
      ]
     },
     "metadata": {
      "needs_background": "light"
     },
     "output_type": "display_data"
    }
   ],
   "source": [
    "with sns.plotting_context(\"paper\", font_scale=5.0):\n",
    "    cat_order = plot_data.groupby(imp_f).median().squeeze()\n",
    "\n",
    "    cat_order = cat_order.sort_values(ascending=False)\n",
    "    if top_x_values is not None:\n",
    "        cat_order = cat_order.head(top_x_values)\n",
    "\n",
    "    cat_order = cat_order.index\n",
    "\n",
    "    g = sns.catplot(\n",
    "        data=plot_data,\n",
    "        x=imp_f,\n",
    "        y=LV_NAME_SELECTED,\n",
    "        order=cat_order,\n",
    "        kind=\"box\",\n",
    "        linewidth=1,\n",
    "        height=10,\n",
    "        aspect=1.5,\n",
    "    )\n",
    "    g.ax.set_ylabel(f\"$\\mathbf{{B}}_{{\\mathrm{{LV}}{LV_NUMBER_SELECTED}}}$\")\n",
    "    g.set_xticklabels(g.ax.get_xticklabels(), rotation=45, horizontalalignment=\"right\")\n",
    "    # g.set_yticklabels([])\n",
    "    g.ax.set_xlabel(\"\")\n",
    "\n",
    "    output_filepath = OUTPUT_FIGURES_DIR / f\"lv{LV_NUMBER_SELECTED}_{imp_f_short}.pdf\"\n",
    "    display(output_filepath)\n",
    "    plt.savefig(\n",
    "        output_filepath,\n",
    "        bbox_inches=\"tight\",\n",
    "    )"
   ]
  },
  {
   "cell_type": "markdown",
   "metadata": {},
   "source": [
    "## Data stats"
   ]
  },
  {
   "cell_type": "code",
   "execution_count": 41,
   "metadata": {},
   "outputs": [
    {
     "data": {
      "text/plain": [
       "'Cell type'"
      ]
     },
     "execution_count": 41,
     "metadata": {},
     "output_type": "execute_result"
    }
   ],
   "source": [
    "imp_f"
   ]
  },
  {
   "cell_type": "code",
   "execution_count": 42,
   "metadata": {},
   "outputs": [
    {
     "data": {
      "text/html": [
       "<div>\n",
       "<style scoped>\n",
       "    .dataframe tbody tr th:only-of-type {\n",
       "        vertical-align: middle;\n",
       "    }\n",
       "\n",
       "    .dataframe tbody tr th {\n",
       "        vertical-align: top;\n",
       "    }\n",
       "\n",
       "    .dataframe thead th {\n",
       "        text-align: right;\n",
       "    }\n",
       "</style>\n",
       "<table border=\"1\" class=\"dataframe\">\n",
       "  <thead>\n",
       "    <tr style=\"text-align: right;\">\n",
       "      <th></th>\n",
       "      <th>LV603</th>\n",
       "    </tr>\n",
       "    <tr>\n",
       "      <th>Cell type</th>\n",
       "      <th></th>\n",
       "    </tr>\n",
       "  </thead>\n",
       "  <tbody>\n",
       "    <tr>\n",
       "      <th>Neutrophils</th>\n",
       "      <td>1.829943</td>\n",
       "    </tr>\n",
       "    <tr>\n",
       "      <th>Granulocytes</th>\n",
       "      <td>0.755082</td>\n",
       "    </tr>\n",
       "    <tr>\n",
       "      <th>Whole blood</th>\n",
       "      <td>0.573449</td>\n",
       "    </tr>\n",
       "    <tr>\n",
       "      <th>PBMC</th>\n",
       "      <td>0.318773</td>\n",
       "    </tr>\n",
       "    <tr>\n",
       "      <th>mDCs</th>\n",
       "      <td>0.100629</td>\n",
       "    </tr>\n",
       "    <tr>\n",
       "      <th>Monocytes</th>\n",
       "      <td>0.081489</td>\n",
       "    </tr>\n",
       "    <tr>\n",
       "      <th>Epithelial cells</th>\n",
       "      <td>-0.023771</td>\n",
       "    </tr>\n",
       "    <tr>\n",
       "      <th>naive CD4+ T-cells</th>\n",
       "      <td>-0.024918</td>\n",
       "    </tr>\n",
       "    <tr>\n",
       "      <th>B cells</th>\n",
       "      <td>-0.028149</td>\n",
       "    </tr>\n",
       "    <tr>\n",
       "      <th>B-cells</th>\n",
       "      <td>-0.031157</td>\n",
       "    </tr>\n",
       "    <tr>\n",
       "      <th>naive CD8+ T-cells</th>\n",
       "      <td>-0.032843</td>\n",
       "    </tr>\n",
       "    <tr>\n",
       "      <th>NK</th>\n",
       "      <td>-0.036619</td>\n",
       "    </tr>\n",
       "    <tr>\n",
       "      <th>CD8</th>\n",
       "      <td>-0.042799</td>\n",
       "    </tr>\n",
       "    <tr>\n",
       "      <th>T cells</th>\n",
       "      <td>-0.043021</td>\n",
       "    </tr>\n",
       "    <tr>\n",
       "      <th>primary human NK cells</th>\n",
       "      <td>-0.044483</td>\n",
       "    </tr>\n",
       "    <tr>\n",
       "      <th>CD4</th>\n",
       "      <td>-0.044897</td>\n",
       "    </tr>\n",
       "    <tr>\n",
       "      <th>immature monocytic myeloid cells (IMMCs)</th>\n",
       "      <td>-0.046327</td>\n",
       "    </tr>\n",
       "    <tr>\n",
       "      <th>Memory T-cells</th>\n",
       "      <td>-0.057542</td>\n",
       "    </tr>\n",
       "    <tr>\n",
       "      <th>NK cells</th>\n",
       "      <td>-0.059267</td>\n",
       "    </tr>\n",
       "  </tbody>\n",
       "</table>\n",
       "</div>"
      ],
      "text/plain": [
       "                                             LV603\n",
       "Cell type                                         \n",
       "Neutrophils                               1.829943\n",
       "Granulocytes                              0.755082\n",
       "Whole blood                               0.573449\n",
       "PBMC                                      0.318773\n",
       "mDCs                                      0.100629\n",
       "Monocytes                                 0.081489\n",
       "Epithelial cells                         -0.023771\n",
       "naive CD4+ T-cells                       -0.024918\n",
       "B cells                                  -0.028149\n",
       "B-cells                                  -0.031157\n",
       "naive CD8+ T-cells                       -0.032843\n",
       "NK                                       -0.036619\n",
       "CD8                                      -0.042799\n",
       "T cells                                  -0.043021\n",
       "primary human NK cells                   -0.044483\n",
       "CD4                                      -0.044897\n",
       "immature monocytic myeloid cells (IMMCs) -0.046327\n",
       "Memory T-cells                           -0.057542\n",
       "NK cells                                 -0.059267"
      ]
     },
     "metadata": {},
     "output_type": "display_data"
    },
    {
     "data": {
      "text/plain": [
       "Index(['Neutrophils', 'Granulocytes', 'Whole blood', 'PBMC', 'mDCs',\n",
       "       'Monocytes', 'Epithelial cells', 'naive CD4+ T-cells', 'B cells',\n",
       "       'B-cells', 'naive CD8+ T-cells', 'NK', 'CD8', 'T cells',\n",
       "       'primary human NK cells', 'CD4',\n",
       "       'immature monocytic myeloid cells (IMMCs)', 'Memory T-cells',\n",
       "       'NK cells'],\n",
       "      dtype='object', name='Cell type')"
      ]
     },
     "metadata": {},
     "output_type": "display_data"
    }
   ],
   "source": [
    "# Get top cell types sorted by median value, then get those cell type names\n",
    "tmp = plot_data.groupby(imp_f).median().sort_values(by=LV_NAME_SELECTED, ascending=False)\n",
    "display(tmp)\n",
    "\n",
    "cell_types = tmp.index\n",
    "display(cell_types)"
   ]
  },
  {
   "cell_type": "code",
   "execution_count": 43,
   "metadata": {},
   "outputs": [
    {
     "data": {
      "text/html": [
       "<div>\n",
       "<style scoped>\n",
       "    .dataframe tbody tr th:only-of-type {\n",
       "        vertical-align: middle;\n",
       "    }\n",
       "\n",
       "    .dataframe tbody tr th {\n",
       "        vertical-align: top;\n",
       "    }\n",
       "\n",
       "    .dataframe thead th {\n",
       "        text-align: right;\n",
       "    }\n",
       "</style>\n",
       "<table border=\"1\" class=\"dataframe\">\n",
       "  <thead>\n",
       "    <tr style=\"text-align: right;\">\n",
       "      <th></th>\n",
       "      <th>LV603</th>\n",
       "    </tr>\n",
       "    <tr>\n",
       "      <th>Cell type</th>\n",
       "      <th></th>\n",
       "    </tr>\n",
       "  </thead>\n",
       "  <tbody>\n",
       "    <tr>\n",
       "      <th>Neutrophils</th>\n",
       "      <td>53</td>\n",
       "    </tr>\n",
       "    <tr>\n",
       "      <th>Granulocytes</th>\n",
       "      <td>59</td>\n",
       "    </tr>\n",
       "    <tr>\n",
       "      <th>Whole blood</th>\n",
       "      <td>20</td>\n",
       "    </tr>\n",
       "    <tr>\n",
       "      <th>PBMC</th>\n",
       "      <td>56</td>\n",
       "    </tr>\n",
       "    <tr>\n",
       "      <th>mDCs</th>\n",
       "      <td>8</td>\n",
       "    </tr>\n",
       "    <tr>\n",
       "      <th>Monocytes</th>\n",
       "      <td>29</td>\n",
       "    </tr>\n",
       "    <tr>\n",
       "      <th>Epithelial cells</th>\n",
       "      <td>5</td>\n",
       "    </tr>\n",
       "    <tr>\n",
       "      <th>naive CD4+ T-cells</th>\n",
       "      <td>1</td>\n",
       "    </tr>\n",
       "    <tr>\n",
       "      <th>B cells</th>\n",
       "      <td>8</td>\n",
       "    </tr>\n",
       "    <tr>\n",
       "      <th>B-cells</th>\n",
       "      <td>21</td>\n",
       "    </tr>\n",
       "    <tr>\n",
       "      <th>naive CD8+ T-cells</th>\n",
       "      <td>1</td>\n",
       "    </tr>\n",
       "    <tr>\n",
       "      <th>NK</th>\n",
       "      <td>14</td>\n",
       "    </tr>\n",
       "    <tr>\n",
       "      <th>CD8</th>\n",
       "      <td>20</td>\n",
       "    </tr>\n",
       "    <tr>\n",
       "      <th>T cells</th>\n",
       "      <td>8</td>\n",
       "    </tr>\n",
       "    <tr>\n",
       "      <th>primary human NK cells</th>\n",
       "      <td>8</td>\n",
       "    </tr>\n",
       "    <tr>\n",
       "      <th>CD4</th>\n",
       "      <td>20</td>\n",
       "    </tr>\n",
       "    <tr>\n",
       "      <th>immature monocytic myeloid cells (IMMCs)</th>\n",
       "      <td>6</td>\n",
       "    </tr>\n",
       "    <tr>\n",
       "      <th>Memory T-cells</th>\n",
       "      <td>1</td>\n",
       "    </tr>\n",
       "    <tr>\n",
       "      <th>NK cells</th>\n",
       "      <td>1</td>\n",
       "    </tr>\n",
       "  </tbody>\n",
       "</table>\n",
       "</div>"
      ],
      "text/plain": [
       "                                          LV603\n",
       "Cell type                                      \n",
       "Neutrophils                                  53\n",
       "Granulocytes                                 59\n",
       "Whole blood                                  20\n",
       "PBMC                                         56\n",
       "mDCs                                          8\n",
       "Monocytes                                    29\n",
       "Epithelial cells                              5\n",
       "naive CD4+ T-cells                            1\n",
       "B cells                                       8\n",
       "B-cells                                      21\n",
       "naive CD8+ T-cells                            1\n",
       "NK                                           14\n",
       "CD8                                          20\n",
       "T cells                                       8\n",
       "primary human NK cells                        8\n",
       "CD4                                          20\n",
       "immature monocytic myeloid cells (IMMCs)      6\n",
       "Memory T-cells                                1\n",
       "NK cells                                      1"
      ]
     },
     "execution_count": 43,
     "metadata": {},
     "output_type": "execute_result"
    }
   ],
   "source": [
    "# Get the sample size by cell type; this is in response to editorial comments about Figure 1c\n",
    "plot_data.groupby(imp_f).count().loc[cell_types]"
   ]
  },
  {
   "cell_type": "code",
   "execution_count": null,
   "metadata": {},
   "outputs": [],
   "source": []
  }
 ],
 "metadata": {
  "jupytext": {
   "cell_metadata_filter": "all,-execution,-papermill,-trusted",
   "formats": "ipynb,py//py:percent"
  },
  "kernelspec": {
   "display_name": "Python 3 (ipykernel)",
   "language": "python",
   "name": "python3"
  },
  "language_info": {
   "codemirror_mode": {
    "name": "ipython",
    "version": 3
   },
   "file_extension": ".py",
   "mimetype": "text/x-python",
   "name": "python",
   "nbconvert_exporter": "python",
   "pygments_lexer": "ipython3",
   "version": "3.8.13"
  }
 },
 "nbformat": 4,
 "nbformat_minor": 4
}
