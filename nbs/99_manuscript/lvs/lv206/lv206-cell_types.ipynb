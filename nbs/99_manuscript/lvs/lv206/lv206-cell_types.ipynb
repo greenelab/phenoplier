{
 "cells": [
  {
   "cell_type": "markdown",
   "id": "japanese-turning",
   "metadata": {
    "papermill": {
     "duration": 0.006593,
     "end_time": "2021-05-11T19:09:55.733221",
     "exception": false,
     "start_time": "2021-05-11T19:09:55.726628",
     "status": "completed"
    },
    "tags": []
   },
   "source": [
    "# Description"
   ]
  },
  {
   "cell_type": "markdown",
   "id": "juvenile-louisiana",
   "metadata": {
    "papermill": {
     "duration": 0.00668,
     "end_time": "2021-05-11T19:09:55.745410",
     "exception": false,
     "start_time": "2021-05-11T19:09:55.738730",
     "status": "completed"
    },
    "tags": []
   },
   "source": [
    "Generates the figure for top cell types for a specified LV (in Settings section below)."
   ]
  },
  {
   "cell_type": "markdown",
   "id": "military-resort",
   "metadata": {
    "papermill": {
     "duration": 0.006223,
     "end_time": "2021-05-11T19:09:55.756959",
     "exception": false,
     "start_time": "2021-05-11T19:09:55.750736",
     "status": "completed"
    },
    "tags": []
   },
   "source": [
    "# Modules loading"
   ]
  },
  {
   "cell_type": "code",
   "execution_count": 1,
   "id": "current-adaptation",
   "metadata": {
    "papermill": {
     "duration": 0.01906,
     "end_time": "2021-05-11T19:09:55.781515",
     "exception": false,
     "start_time": "2021-05-11T19:09:55.762455",
     "status": "completed"
    },
    "tags": []
   },
   "outputs": [],
   "source": [
    "%load_ext autoreload\n",
    "%autoreload 2"
   ]
  },
  {
   "cell_type": "code",
   "execution_count": 2,
   "id": "excess-fiber",
   "metadata": {
    "papermill": {
     "duration": 0.993432,
     "end_time": "2021-05-11T19:09:56.780403",
     "exception": false,
     "start_time": "2021-05-11T19:09:55.786971",
     "status": "completed"
    },
    "tags": []
   },
   "outputs": [],
   "source": [
    "import re\n",
    "from pathlib import Path\n",
    "\n",
    "import pandas as pd\n",
    "import matplotlib.pyplot as plt\n",
    "import seaborn as sns\n",
    "\n",
    "from data.recount2 import LVAnalysis\n",
    "from utils import chunker\n",
    "import conf"
   ]
  },
  {
   "cell_type": "markdown",
   "id": "bound-consultancy",
   "metadata": {
    "papermill": {
     "duration": 0.005973,
     "end_time": "2021-05-11T19:09:56.792495",
     "exception": false,
     "start_time": "2021-05-11T19:09:56.786522",
     "status": "completed"
    },
    "tags": []
   },
   "source": [
    "# Settings"
   ]
  },
  {
   "cell_type": "code",
   "execution_count": 3,
   "id": "happy-yahoo",
   "metadata": {
    "papermill": {
     "duration": 0.019548,
     "end_time": "2021-05-11T19:09:56.817689",
     "exception": false,
     "start_time": "2021-05-11T19:09:56.798141",
     "status": "completed"
    },
    "tags": [
     "parameters"
    ]
   },
   "outputs": [],
   "source": [
    "LV_NAME = \"LV206\""
   ]
  },
  {
   "cell_type": "code",
   "execution_count": 4,
   "id": "asian-muscle",
   "metadata": {},
   "outputs": [],
   "source": [
    "LV_AXIS_THRESHOLD = 3.0\n",
    "N_TOP_SAMPLES = 400\n",
    "N_TOP_ATTRS = 25"
   ]
  },
  {
   "cell_type": "code",
   "execution_count": 5,
   "id": "prerequisite-experiment",
   "metadata": {},
   "outputs": [
    {
     "data": {
      "text/plain": [
       "PosixPath('/home/miltondp/projects/labs/greenelab/phenoplier_manuscript/content/images/lvs_analysis/lv206')"
      ]
     },
     "metadata": {},
     "output_type": "display_data"
    }
   ],
   "source": [
    "OUTPUT_FIGURES_DIR = Path(\n",
    "    conf.MANUSCRIPT[\"FIGURES_DIR\"], \"lvs_analysis\", f\"{LV_NAME.lower()}\"\n",
    ").resolve()\n",
    "display(OUTPUT_FIGURES_DIR)\n",
    "OUTPUT_FIGURES_DIR.mkdir(parents=True, exist_ok=True)"
   ]
  },
  {
   "cell_type": "code",
   "execution_count": 6,
   "id": "accessible-technology",
   "metadata": {},
   "outputs": [
    {
     "data": {
      "text/plain": [
       "PosixPath('/home/miltondp/projects/labs/greenelab/phenoplier_manuscript/content/images/lvs_analysis/lv206/lv206-cell_types.svg')"
      ]
     },
     "metadata": {},
     "output_type": "display_data"
    }
   ],
   "source": [
    "OUTPUT_CELL_TYPE_FILEPATH = OUTPUT_FIGURES_DIR / f\"{LV_NAME.lower()}-cell_types.svg\"\n",
    "display(OUTPUT_CELL_TYPE_FILEPATH)"
   ]
  },
  {
   "cell_type": "markdown",
   "id": "caroline-possession",
   "metadata": {
    "papermill": {
     "duration": 0.005592,
     "end_time": "2021-05-11T19:09:56.854406",
     "exception": false,
     "start_time": "2021-05-11T19:09:56.848814",
     "status": "completed"
    },
    "tags": []
   },
   "source": [
    "# Load MultiPLIER summary"
   ]
  },
  {
   "cell_type": "code",
   "execution_count": 7,
   "id": "printable-immigration",
   "metadata": {
    "papermill": {
     "duration": 0.020251,
     "end_time": "2021-05-11T19:09:56.880435",
     "exception": false,
     "start_time": "2021-05-11T19:09:56.860184",
     "status": "completed"
    },
    "tags": []
   },
   "outputs": [],
   "source": [
    "multiplier_model_summary = pd.read_pickle(conf.MULTIPLIER[\"MODEL_SUMMARY_FILE\"])"
   ]
  },
  {
   "cell_type": "code",
   "execution_count": 8,
   "id": "banned-valentine",
   "metadata": {
    "papermill": {
     "duration": 0.02062,
     "end_time": "2021-05-11T19:09:56.906744",
     "exception": false,
     "start_time": "2021-05-11T19:09:56.886124",
     "status": "completed"
    },
    "tags": []
   },
   "outputs": [
    {
     "data": {
      "text/plain": [
       "(2157, 5)"
      ]
     },
     "execution_count": 8,
     "metadata": {},
     "output_type": "execute_result"
    }
   ],
   "source": [
    "multiplier_model_summary.shape"
   ]
  },
  {
   "cell_type": "code",
   "execution_count": 9,
   "id": "coupled-sigma",
   "metadata": {
    "papermill": {
     "duration": 0.024737,
     "end_time": "2021-05-11T19:09:56.937493",
     "exception": false,
     "start_time": "2021-05-11T19:09:56.912756",
     "status": "completed"
    },
    "tags": []
   },
   "outputs": [
    {
     "data": {
      "text/html": [
       "<div>\n",
       "<style scoped>\n",
       "    .dataframe tbody tr th:only-of-type {\n",
       "        vertical-align: middle;\n",
       "    }\n",
       "\n",
       "    .dataframe tbody tr th {\n",
       "        vertical-align: top;\n",
       "    }\n",
       "\n",
       "    .dataframe thead th {\n",
       "        text-align: right;\n",
       "    }\n",
       "</style>\n",
       "<table border=\"1\" class=\"dataframe\">\n",
       "  <thead>\n",
       "    <tr style=\"text-align: right;\">\n",
       "      <th></th>\n",
       "      <th>pathway</th>\n",
       "      <th>LV index</th>\n",
       "      <th>AUC</th>\n",
       "      <th>p-value</th>\n",
       "      <th>FDR</th>\n",
       "    </tr>\n",
       "  </thead>\n",
       "  <tbody>\n",
       "    <tr>\n",
       "      <th>1</th>\n",
       "      <td>KEGG_LYSINE_DEGRADATION</td>\n",
       "      <td>1</td>\n",
       "      <td>0.388059</td>\n",
       "      <td>0.866078</td>\n",
       "      <td>0.956005</td>\n",
       "    </tr>\n",
       "    <tr>\n",
       "      <th>2</th>\n",
       "      <td>REACTOME_MRNA_SPLICING</td>\n",
       "      <td>1</td>\n",
       "      <td>0.733057</td>\n",
       "      <td>0.000048</td>\n",
       "      <td>0.000582</td>\n",
       "    </tr>\n",
       "    <tr>\n",
       "      <th>3</th>\n",
       "      <td>MIPS_NOP56P_ASSOCIATED_PRE_RRNA_COMPLEX</td>\n",
       "      <td>1</td>\n",
       "      <td>0.680555</td>\n",
       "      <td>0.001628</td>\n",
       "      <td>0.011366</td>\n",
       "    </tr>\n",
       "    <tr>\n",
       "      <th>4</th>\n",
       "      <td>KEGG_DNA_REPLICATION</td>\n",
       "      <td>1</td>\n",
       "      <td>0.549473</td>\n",
       "      <td>0.312155</td>\n",
       "      <td>0.539951</td>\n",
       "    </tr>\n",
       "    <tr>\n",
       "      <th>5</th>\n",
       "      <td>PID_MYC_ACTIVPATHWAY</td>\n",
       "      <td>1</td>\n",
       "      <td>0.639303</td>\n",
       "      <td>0.021702</td>\n",
       "      <td>0.083739</td>\n",
       "    </tr>\n",
       "  </tbody>\n",
       "</table>\n",
       "</div>"
      ],
      "text/plain": [
       "                                   pathway LV index       AUC   p-value  \\\n",
       "1                  KEGG_LYSINE_DEGRADATION        1  0.388059  0.866078   \n",
       "2                   REACTOME_MRNA_SPLICING        1  0.733057  0.000048   \n",
       "3  MIPS_NOP56P_ASSOCIATED_PRE_RRNA_COMPLEX        1  0.680555  0.001628   \n",
       "4                     KEGG_DNA_REPLICATION        1  0.549473  0.312155   \n",
       "5                     PID_MYC_ACTIVPATHWAY        1  0.639303  0.021702   \n",
       "\n",
       "        FDR  \n",
       "1  0.956005  \n",
       "2  0.000582  \n",
       "3  0.011366  \n",
       "4  0.539951  \n",
       "5  0.083739  "
      ]
     },
     "execution_count": 9,
     "metadata": {},
     "output_type": "execute_result"
    }
   ],
   "source": [
    "multiplier_model_summary.head()"
   ]
  },
  {
   "cell_type": "markdown",
   "id": "different-aberdeen",
   "metadata": {
    "papermill": {
     "duration": 0.006007,
     "end_time": "2021-05-11T19:09:56.949763",
     "exception": false,
     "start_time": "2021-05-11T19:09:56.943756",
     "status": "completed"
    },
    "tags": []
   },
   "source": [
    "# Load data"
   ]
  },
  {
   "cell_type": "markdown",
   "id": "binary-arabic",
   "metadata": {
    "papermill": {
     "duration": 0.005873,
     "end_time": "2021-05-11T19:09:56.961602",
     "exception": false,
     "start_time": "2021-05-11T19:09:56.955729",
     "status": "completed"
    },
    "tags": []
   },
   "source": [
    "## Original data"
   ]
  },
  {
   "cell_type": "code",
   "execution_count": 10,
   "id": "toxic-sweden",
   "metadata": {
    "papermill": {
     "duration": 0.019571,
     "end_time": "2021-05-11T19:09:56.987255",
     "exception": false,
     "start_time": "2021-05-11T19:09:56.967684",
     "status": "completed"
    },
    "tags": []
   },
   "outputs": [],
   "source": [
    "INPUT_SUBSET = \"z_score_std\""
   ]
  },
  {
   "cell_type": "code",
   "execution_count": 11,
   "id": "functioning-harmony",
   "metadata": {
    "papermill": {
     "duration": 0.019175,
     "end_time": "2021-05-11T19:09:57.025099",
     "exception": false,
     "start_time": "2021-05-11T19:09:57.005924",
     "status": "completed"
    },
    "tags": []
   },
   "outputs": [],
   "source": [
    "INPUT_STEM = \"projection-smultixcan-efo_partial-mashr-zscores\""
   ]
  },
  {
   "cell_type": "code",
   "execution_count": 12,
   "id": "attended-geneva",
   "metadata": {
    "papermill": {
     "duration": 0.020992,
     "end_time": "2021-05-11T19:09:57.052255",
     "exception": false,
     "start_time": "2021-05-11T19:09:57.031263",
     "status": "completed"
    },
    "tags": []
   },
   "outputs": [
    {
     "data": {
      "text/plain": [
       "PosixPath('/home/miltondp/projects/labs/greenelab/phenoplier/bases_data/base_orig/results/data_transformations/z_score_std/z_score_std-projection-smultixcan-efo_partial-mashr-zscores.pkl')"
      ]
     },
     "metadata": {},
     "output_type": "display_data"
    },
    {
     "data": {
      "text/plain": [
       "'z_score_std-projection-smultixcan-efo_partial-mashr-zscores'"
      ]
     },
     "metadata": {},
     "output_type": "display_data"
    }
   ],
   "source": [
    "input_filepath = Path(\n",
    "    conf.RESULTS[\"DATA_TRANSFORMATIONS_DIR\"],\n",
    "    INPUT_SUBSET,\n",
    "    f\"{INPUT_SUBSET}-{INPUT_STEM}.pkl\",\n",
    ").resolve()\n",
    "display(input_filepath)\n",
    "\n",
    "assert input_filepath.exists(), \"Input file does not exist\"\n",
    "\n",
    "input_filepath_stem = input_filepath.stem\n",
    "display(input_filepath_stem)"
   ]
  },
  {
   "cell_type": "code",
   "execution_count": 13,
   "id": "blond-repository",
   "metadata": {
    "papermill": {
     "duration": 0.032337,
     "end_time": "2021-05-11T19:09:57.090585",
     "exception": false,
     "start_time": "2021-05-11T19:09:57.058248",
     "status": "completed"
    },
    "tags": []
   },
   "outputs": [],
   "source": [
    "data = pd.read_pickle(input_filepath)"
   ]
  },
  {
   "cell_type": "code",
   "execution_count": 14,
   "id": "juvenile-kuwait",
   "metadata": {
    "papermill": {
     "duration": 0.01967,
     "end_time": "2021-05-11T19:09:57.116292",
     "exception": false,
     "start_time": "2021-05-11T19:09:57.096622",
     "status": "completed"
    },
    "tags": []
   },
   "outputs": [
    {
     "data": {
      "text/plain": [
       "(3752, 987)"
      ]
     },
     "execution_count": 14,
     "metadata": {},
     "output_type": "execute_result"
    }
   ],
   "source": [
    "data.shape"
   ]
  },
  {
   "cell_type": "code",
   "execution_count": 15,
   "id": "atlantic-washington",
   "metadata": {
    "papermill": {
     "duration": 0.031843,
     "end_time": "2021-05-11T19:09:57.154356",
     "exception": false,
     "start_time": "2021-05-11T19:09:57.122513",
     "status": "completed"
    },
    "tags": []
   },
   "outputs": [
    {
     "data": {
      "text/html": [
       "<div>\n",
       "<style scoped>\n",
       "    .dataframe tbody tr th:only-of-type {\n",
       "        vertical-align: middle;\n",
       "    }\n",
       "\n",
       "    .dataframe tbody tr th {\n",
       "        vertical-align: top;\n",
       "    }\n",
       "\n",
       "    .dataframe thead th {\n",
       "        text-align: right;\n",
       "    }\n",
       "</style>\n",
       "<table border=\"1\" class=\"dataframe\">\n",
       "  <thead>\n",
       "    <tr style=\"text-align: right;\">\n",
       "      <th></th>\n",
       "      <th>LV1</th>\n",
       "      <th>LV2</th>\n",
       "      <th>LV3</th>\n",
       "      <th>LV4</th>\n",
       "      <th>LV5</th>\n",
       "      <th>LV6</th>\n",
       "      <th>LV7</th>\n",
       "      <th>LV8</th>\n",
       "      <th>LV9</th>\n",
       "      <th>LV10</th>\n",
       "      <th>...</th>\n",
       "      <th>LV978</th>\n",
       "      <th>LV979</th>\n",
       "      <th>LV980</th>\n",
       "      <th>LV981</th>\n",
       "      <th>LV982</th>\n",
       "      <th>LV983</th>\n",
       "      <th>LV984</th>\n",
       "      <th>LV985</th>\n",
       "      <th>LV986</th>\n",
       "      <th>LV987</th>\n",
       "    </tr>\n",
       "  </thead>\n",
       "  <tbody>\n",
       "    <tr>\n",
       "      <th>100001_raw-Food_weight</th>\n",
       "      <td>-0.695006</td>\n",
       "      <td>1.962565</td>\n",
       "      <td>0.057683</td>\n",
       "      <td>0.878731</td>\n",
       "      <td>-0.539977</td>\n",
       "      <td>1.481272</td>\n",
       "      <td>-0.396422</td>\n",
       "      <td>1.090180</td>\n",
       "      <td>0.759223</td>\n",
       "      <td>0.931395</td>\n",
       "      <td>...</td>\n",
       "      <td>1.129784</td>\n",
       "      <td>1.752343</td>\n",
       "      <td>-1.411403</td>\n",
       "      <td>2.823863</td>\n",
       "      <td>0.931116</td>\n",
       "      <td>-1.054519</td>\n",
       "      <td>0.432982</td>\n",
       "      <td>-0.633597</td>\n",
       "      <td>0.554279</td>\n",
       "      <td>-0.642479</td>\n",
       "    </tr>\n",
       "    <tr>\n",
       "      <th>100002_raw-Energy</th>\n",
       "      <td>-1.528127</td>\n",
       "      <td>-0.345309</td>\n",
       "      <td>-0.148953</td>\n",
       "      <td>-0.242060</td>\n",
       "      <td>0.373427</td>\n",
       "      <td>0.791092</td>\n",
       "      <td>0.263477</td>\n",
       "      <td>0.987702</td>\n",
       "      <td>0.354391</td>\n",
       "      <td>1.416059</td>\n",
       "      <td>...</td>\n",
       "      <td>0.224604</td>\n",
       "      <td>0.769882</td>\n",
       "      <td>-0.509482</td>\n",
       "      <td>0.091153</td>\n",
       "      <td>2.286789</td>\n",
       "      <td>-1.008256</td>\n",
       "      <td>-0.029764</td>\n",
       "      <td>1.737229</td>\n",
       "      <td>-0.272107</td>\n",
       "      <td>-0.526125</td>\n",
       "    </tr>\n",
       "    <tr>\n",
       "      <th>100003_raw-Protein</th>\n",
       "      <td>-0.704572</td>\n",
       "      <td>-1.011299</td>\n",
       "      <td>0.671420</td>\n",
       "      <td>0.143991</td>\n",
       "      <td>0.615212</td>\n",
       "      <td>0.874212</td>\n",
       "      <td>-0.040998</td>\n",
       "      <td>0.915170</td>\n",
       "      <td>0.254369</td>\n",
       "      <td>-0.084237</td>\n",
       "      <td>...</td>\n",
       "      <td>1.003019</td>\n",
       "      <td>1.044314</td>\n",
       "      <td>-2.376108</td>\n",
       "      <td>0.004778</td>\n",
       "      <td>0.053714</td>\n",
       "      <td>-0.892447</td>\n",
       "      <td>-0.183800</td>\n",
       "      <td>1.377991</td>\n",
       "      <td>-0.278794</td>\n",
       "      <td>-0.419733</td>\n",
       "    </tr>\n",
       "    <tr>\n",
       "      <th>100004_raw-Fat</th>\n",
       "      <td>-0.989832</td>\n",
       "      <td>-1.875490</td>\n",
       "      <td>0.261555</td>\n",
       "      <td>-1.420719</td>\n",
       "      <td>0.366238</td>\n",
       "      <td>1.167049</td>\n",
       "      <td>0.257387</td>\n",
       "      <td>0.717674</td>\n",
       "      <td>-0.997664</td>\n",
       "      <td>0.969825</td>\n",
       "      <td>...</td>\n",
       "      <td>0.585913</td>\n",
       "      <td>0.638314</td>\n",
       "      <td>0.119139</td>\n",
       "      <td>-0.140204</td>\n",
       "      <td>1.394326</td>\n",
       "      <td>-1.173402</td>\n",
       "      <td>0.555058</td>\n",
       "      <td>1.013982</td>\n",
       "      <td>-0.544506</td>\n",
       "      <td>-0.064061</td>\n",
       "    </tr>\n",
       "    <tr>\n",
       "      <th>100005_raw-Carbohydrate</th>\n",
       "      <td>-0.580143</td>\n",
       "      <td>0.243335</td>\n",
       "      <td>0.158966</td>\n",
       "      <td>-0.036558</td>\n",
       "      <td>0.068176</td>\n",
       "      <td>-0.202639</td>\n",
       "      <td>1.101281</td>\n",
       "      <td>0.675227</td>\n",
       "      <td>1.463432</td>\n",
       "      <td>1.010078</td>\n",
       "      <td>...</td>\n",
       "      <td>-0.249108</td>\n",
       "      <td>-0.026814</td>\n",
       "      <td>0.232713</td>\n",
       "      <td>0.323682</td>\n",
       "      <td>1.168642</td>\n",
       "      <td>-0.282935</td>\n",
       "      <td>0.653105</td>\n",
       "      <td>1.909526</td>\n",
       "      <td>0.199997</td>\n",
       "      <td>-1.656894</td>\n",
       "    </tr>\n",
       "  </tbody>\n",
       "</table>\n",
       "<p>5 rows × 987 columns</p>\n",
       "</div>"
      ],
      "text/plain": [
       "                              LV1       LV2       LV3       LV4       LV5  \\\n",
       "100001_raw-Food_weight  -0.695006  1.962565  0.057683  0.878731 -0.539977   \n",
       "100002_raw-Energy       -1.528127 -0.345309 -0.148953 -0.242060  0.373427   \n",
       "100003_raw-Protein      -0.704572 -1.011299  0.671420  0.143991  0.615212   \n",
       "100004_raw-Fat          -0.989832 -1.875490  0.261555 -1.420719  0.366238   \n",
       "100005_raw-Carbohydrate -0.580143  0.243335  0.158966 -0.036558  0.068176   \n",
       "\n",
       "                              LV6       LV7       LV8       LV9      LV10  \\\n",
       "100001_raw-Food_weight   1.481272 -0.396422  1.090180  0.759223  0.931395   \n",
       "100002_raw-Energy        0.791092  0.263477  0.987702  0.354391  1.416059   \n",
       "100003_raw-Protein       0.874212 -0.040998  0.915170  0.254369 -0.084237   \n",
       "100004_raw-Fat           1.167049  0.257387  0.717674 -0.997664  0.969825   \n",
       "100005_raw-Carbohydrate -0.202639  1.101281  0.675227  1.463432  1.010078   \n",
       "\n",
       "                         ...     LV978     LV979     LV980     LV981  \\\n",
       "100001_raw-Food_weight   ...  1.129784  1.752343 -1.411403  2.823863   \n",
       "100002_raw-Energy        ...  0.224604  0.769882 -0.509482  0.091153   \n",
       "100003_raw-Protein       ...  1.003019  1.044314 -2.376108  0.004778   \n",
       "100004_raw-Fat           ...  0.585913  0.638314  0.119139 -0.140204   \n",
       "100005_raw-Carbohydrate  ... -0.249108 -0.026814  0.232713  0.323682   \n",
       "\n",
       "                            LV982     LV983     LV984     LV985     LV986  \\\n",
       "100001_raw-Food_weight   0.931116 -1.054519  0.432982 -0.633597  0.554279   \n",
       "100002_raw-Energy        2.286789 -1.008256 -0.029764  1.737229 -0.272107   \n",
       "100003_raw-Protein       0.053714 -0.892447 -0.183800  1.377991 -0.278794   \n",
       "100004_raw-Fat           1.394326 -1.173402  0.555058  1.013982 -0.544506   \n",
       "100005_raw-Carbohydrate  1.168642 -0.282935  0.653105  1.909526  0.199997   \n",
       "\n",
       "                            LV987  \n",
       "100001_raw-Food_weight  -0.642479  \n",
       "100002_raw-Energy       -0.526125  \n",
       "100003_raw-Protein      -0.419733  \n",
       "100004_raw-Fat          -0.064061  \n",
       "100005_raw-Carbohydrate -1.656894  \n",
       "\n",
       "[5 rows x 987 columns]"
      ]
     },
     "execution_count": 15,
     "metadata": {},
     "output_type": "execute_result"
    }
   ],
   "source": [
    "data.head()"
   ]
  },
  {
   "cell_type": "markdown",
   "id": "balanced-maryland",
   "metadata": {},
   "source": [
    "## LV data"
   ]
  },
  {
   "cell_type": "code",
   "execution_count": 16,
   "id": "relevant-mortgage",
   "metadata": {},
   "outputs": [],
   "source": [
    "lv_obj = LVAnalysis(LV_NAME, data)"
   ]
  },
  {
   "cell_type": "code",
   "execution_count": 17,
   "id": "partial-communications",
   "metadata": {},
   "outputs": [
    {
     "name": "stderr",
     "output_type": "stream",
     "text": [
      "[2021-08-02 22:20:46,584 - numexpr.utils] INFO: NumExpr defaulting to 8 threads.\n"
     ]
    },
    {
     "data": {
      "text/html": [
       "<div>\n",
       "<style scoped>\n",
       "    .dataframe tbody tr th:only-of-type {\n",
       "        vertical-align: middle;\n",
       "    }\n",
       "\n",
       "    .dataframe tbody tr th {\n",
       "        vertical-align: top;\n",
       "    }\n",
       "\n",
       "    .dataframe thead th {\n",
       "        text-align: right;\n",
       "    }\n",
       "</style>\n",
       "<table border=\"1\" class=\"dataframe\">\n",
       "  <thead>\n",
       "    <tr style=\"text-align: right;\">\n",
       "      <th></th>\n",
       "      <th>pathway</th>\n",
       "      <th>LV index</th>\n",
       "      <th>AUC</th>\n",
       "      <th>p-value</th>\n",
       "      <th>FDR</th>\n",
       "    </tr>\n",
       "  </thead>\n",
       "  <tbody>\n",
       "  </tbody>\n",
       "</table>\n",
       "</div>"
      ],
      "text/plain": [
       "Empty DataFrame\n",
       "Columns: [pathway, LV index, AUC, p-value, FDR]\n",
       "Index: []"
      ]
     },
     "execution_count": 17,
     "metadata": {},
     "output_type": "execute_result"
    }
   ],
   "source": [
    "multiplier_model_summary[\n",
    "    multiplier_model_summary[\"LV index\"].isin((LV_NAME[2:],))\n",
    "    & (\n",
    "        (multiplier_model_summary[\"FDR\"] < 0.05)\n",
    "        | (multiplier_model_summary[\"AUC\"] >= 0.75)\n",
    "    )\n",
    "]"
   ]
  },
  {
   "cell_type": "code",
   "execution_count": 18,
   "id": "blind-green",
   "metadata": {},
   "outputs": [
    {
     "name": "stdout",
     "output_type": "stream",
     "text": [
      "SRP042161, SRP055569, SRP033369, SRP002487, SRP038963, SRP014428, SRP058773, SRP066834, SRP060416, SRP011054, SRP018853, SRP033135, SRP059170, SRP064464, SRP057196, SRP009266, SRP020493, SRP042218, SRP051485, SRP009659, SRP006970, SRP063840, SRP059775, SRP050499, SRP062177, SRP060708, SRP066956, SRP018242, SRP009862, SRP059379, SRP018838, SRP009790, SRP011185, SRP060370, SRP017933, SRP055153, SRP057074, SRP030617, SRP063059, SRP046749, SRP040292, SRP015976, SRP014620, SRP058667, SRP013239, SRP019240, SRP010350, SRP012461, "
     ]
    },
    {
     "name": "stderr",
     "output_type": "stream",
     "text": [
      "/home/miltondp/projects/labs/greenelab/phenoplier/libs/data/recount2.py:320: UserWarning: Not all experiments data could be loaded (46 != 48)\n",
      "  warnings.warn(\n"
     ]
    }
   ],
   "source": [
    "lv_data = lv_obj.get_experiments_data()"
   ]
  },
  {
   "cell_type": "code",
   "execution_count": 19,
   "id": "north-spread",
   "metadata": {},
   "outputs": [
    {
     "data": {
      "text/plain": [
       "(5700, 73)"
      ]
     },
     "execution_count": 19,
     "metadata": {},
     "output_type": "execute_result"
    }
   ],
   "source": [
    "lv_data.shape"
   ]
  },
  {
   "cell_type": "code",
   "execution_count": 20,
   "id": "convertible-radar",
   "metadata": {},
   "outputs": [
    {
     "data": {
      "text/html": [
       "<div>\n",
       "<style scoped>\n",
       "    .dataframe tbody tr th:only-of-type {\n",
       "        vertical-align: middle;\n",
       "    }\n",
       "\n",
       "    .dataframe tbody tr th {\n",
       "        vertical-align: top;\n",
       "    }\n",
       "\n",
       "    .dataframe thead th {\n",
       "        text-align: right;\n",
       "    }\n",
       "</style>\n",
       "<table border=\"1\" class=\"dataframe\">\n",
       "  <thead>\n",
       "    <tr style=\"text-align: right;\">\n",
       "      <th></th>\n",
       "      <th></th>\n",
       "      <th>cell line</th>\n",
       "      <th>cell type</th>\n",
       "      <th>patient id</th>\n",
       "      <th>subtype</th>\n",
       "      <th>crosslinker and crosslinking wavelength</th>\n",
       "      <th>antibody</th>\n",
       "      <th>antibody vendor</th>\n",
       "      <th>antibody catalog #</th>\n",
       "      <th>immunoprecipitated protein</th>\n",
       "      <th>weight of protein recovered</th>\n",
       "      <th>...</th>\n",
       "      <th>ip antibody</th>\n",
       "      <th>antibody used for sorting</th>\n",
       "      <th>tissue type</th>\n",
       "      <th>tissue subtype</th>\n",
       "      <th>tag</th>\n",
       "      <th>treatment time</th>\n",
       "      <th>cardioglycoside treatment</th>\n",
       "      <th>day</th>\n",
       "      <th>patient code name</th>\n",
       "      <th>LV206</th>\n",
       "    </tr>\n",
       "    <tr>\n",
       "      <th>project</th>\n",
       "      <th>run</th>\n",
       "      <th></th>\n",
       "      <th></th>\n",
       "      <th></th>\n",
       "      <th></th>\n",
       "      <th></th>\n",
       "      <th></th>\n",
       "      <th></th>\n",
       "      <th></th>\n",
       "      <th></th>\n",
       "      <th></th>\n",
       "      <th></th>\n",
       "      <th></th>\n",
       "      <th></th>\n",
       "      <th></th>\n",
       "      <th></th>\n",
       "      <th></th>\n",
       "      <th></th>\n",
       "      <th></th>\n",
       "      <th></th>\n",
       "      <th></th>\n",
       "      <th></th>\n",
       "    </tr>\n",
       "  </thead>\n",
       "  <tbody>\n",
       "    <tr>\n",
       "      <th rowspan=\"5\" valign=\"top\">SRP042161</th>\n",
       "      <th>SRR1294536</th>\n",
       "      <td>NaN</td>\n",
       "      <td>Glioblastoma</td>\n",
       "      <td>MGH26</td>\n",
       "      <td>NaN</td>\n",
       "      <td>NaN</td>\n",
       "      <td>NaN</td>\n",
       "      <td>NaN</td>\n",
       "      <td>NaN</td>\n",
       "      <td>NaN</td>\n",
       "      <td>NaN</td>\n",
       "      <td>...</td>\n",
       "      <td>NaN</td>\n",
       "      <td>NaN</td>\n",
       "      <td>NaN</td>\n",
       "      <td>NaN</td>\n",
       "      <td>NaN</td>\n",
       "      <td>NaN</td>\n",
       "      <td>NaN</td>\n",
       "      <td>NaN</td>\n",
       "      <td>NaN</td>\n",
       "      <td>-0.017402</td>\n",
       "    </tr>\n",
       "    <tr>\n",
       "      <th>SRR1294537</th>\n",
       "      <td>NaN</td>\n",
       "      <td>Glioblastoma</td>\n",
       "      <td>MGH26</td>\n",
       "      <td>None</td>\n",
       "      <td>NaN</td>\n",
       "      <td>NaN</td>\n",
       "      <td>NaN</td>\n",
       "      <td>NaN</td>\n",
       "      <td>NaN</td>\n",
       "      <td>NaN</td>\n",
       "      <td>...</td>\n",
       "      <td>NaN</td>\n",
       "      <td>NaN</td>\n",
       "      <td>NaN</td>\n",
       "      <td>NaN</td>\n",
       "      <td>NaN</td>\n",
       "      <td>NaN</td>\n",
       "      <td>NaN</td>\n",
       "      <td>NaN</td>\n",
       "      <td>NaN</td>\n",
       "      <td>-0.029225</td>\n",
       "    </tr>\n",
       "    <tr>\n",
       "      <th>SRR1294538</th>\n",
       "      <td>NaN</td>\n",
       "      <td>Glioblastoma</td>\n",
       "      <td>MGH26</td>\n",
       "      <td>NaN</td>\n",
       "      <td>NaN</td>\n",
       "      <td>NaN</td>\n",
       "      <td>NaN</td>\n",
       "      <td>NaN</td>\n",
       "      <td>NaN</td>\n",
       "      <td>NaN</td>\n",
       "      <td>...</td>\n",
       "      <td>NaN</td>\n",
       "      <td>NaN</td>\n",
       "      <td>NaN</td>\n",
       "      <td>NaN</td>\n",
       "      <td>NaN</td>\n",
       "      <td>NaN</td>\n",
       "      <td>NaN</td>\n",
       "      <td>NaN</td>\n",
       "      <td>NaN</td>\n",
       "      <td>-0.001296</td>\n",
       "    </tr>\n",
       "    <tr>\n",
       "      <th>SRR1294539</th>\n",
       "      <td>NaN</td>\n",
       "      <td>Glioblastoma</td>\n",
       "      <td>MGH26</td>\n",
       "      <td>NaN</td>\n",
       "      <td>NaN</td>\n",
       "      <td>NaN</td>\n",
       "      <td>NaN</td>\n",
       "      <td>NaN</td>\n",
       "      <td>NaN</td>\n",
       "      <td>NaN</td>\n",
       "      <td>...</td>\n",
       "      <td>NaN</td>\n",
       "      <td>NaN</td>\n",
       "      <td>NaN</td>\n",
       "      <td>NaN</td>\n",
       "      <td>NaN</td>\n",
       "      <td>NaN</td>\n",
       "      <td>NaN</td>\n",
       "      <td>NaN</td>\n",
       "      <td>NaN</td>\n",
       "      <td>0.044173</td>\n",
       "    </tr>\n",
       "    <tr>\n",
       "      <th>SRR1294540</th>\n",
       "      <td>NaN</td>\n",
       "      <td>Glioblastoma</td>\n",
       "      <td>MGH26</td>\n",
       "      <td>NaN</td>\n",
       "      <td>NaN</td>\n",
       "      <td>NaN</td>\n",
       "      <td>NaN</td>\n",
       "      <td>NaN</td>\n",
       "      <td>NaN</td>\n",
       "      <td>NaN</td>\n",
       "      <td>...</td>\n",
       "      <td>NaN</td>\n",
       "      <td>NaN</td>\n",
       "      <td>NaN</td>\n",
       "      <td>NaN</td>\n",
       "      <td>NaN</td>\n",
       "      <td>NaN</td>\n",
       "      <td>NaN</td>\n",
       "      <td>NaN</td>\n",
       "      <td>NaN</td>\n",
       "      <td>0.066991</td>\n",
       "    </tr>\n",
       "  </tbody>\n",
       "</table>\n",
       "<p>5 rows × 73 columns</p>\n",
       "</div>"
      ],
      "text/plain": [
       "                     cell line     cell type patient id subtype  \\\n",
       "project   run                                                     \n",
       "SRP042161 SRR1294536       NaN  Glioblastoma      MGH26     NaN   \n",
       "          SRR1294537       NaN  Glioblastoma      MGH26    None   \n",
       "          SRR1294538       NaN  Glioblastoma      MGH26     NaN   \n",
       "          SRR1294539       NaN  Glioblastoma      MGH26     NaN   \n",
       "          SRR1294540       NaN  Glioblastoma      MGH26     NaN   \n",
       "\n",
       "                     crosslinker and crosslinking wavelength antibody  \\\n",
       "project   run                                                           \n",
       "SRP042161 SRR1294536                                     NaN      NaN   \n",
       "          SRR1294537                                     NaN      NaN   \n",
       "          SRR1294538                                     NaN      NaN   \n",
       "          SRR1294539                                     NaN      NaN   \n",
       "          SRR1294540                                     NaN      NaN   \n",
       "\n",
       "                     antibody vendor antibody catalog #  \\\n",
       "project   run                                             \n",
       "SRP042161 SRR1294536             NaN                NaN   \n",
       "          SRR1294537             NaN                NaN   \n",
       "          SRR1294538             NaN                NaN   \n",
       "          SRR1294539             NaN                NaN   \n",
       "          SRR1294540             NaN                NaN   \n",
       "\n",
       "                     immunoprecipitated protein weight of protein recovered  \\\n",
       "project   run                                                                 \n",
       "SRP042161 SRR1294536                        NaN                         NaN   \n",
       "          SRR1294537                        NaN                         NaN   \n",
       "          SRR1294538                        NaN                         NaN   \n",
       "          SRR1294539                        NaN                         NaN   \n",
       "          SRR1294540                        NaN                         NaN   \n",
       "\n",
       "                      ... ip antibody antibody used for sorting tissue type  \\\n",
       "project   run         ...                                                     \n",
       "SRP042161 SRR1294536  ...         NaN                       NaN         NaN   \n",
       "          SRR1294537  ...         NaN                       NaN         NaN   \n",
       "          SRR1294538  ...         NaN                       NaN         NaN   \n",
       "          SRR1294539  ...         NaN                       NaN         NaN   \n",
       "          SRR1294540  ...         NaN                       NaN         NaN   \n",
       "\n",
       "                     tissue subtype  tag treatment time  \\\n",
       "project   run                                             \n",
       "SRP042161 SRR1294536            NaN  NaN            NaN   \n",
       "          SRR1294537            NaN  NaN            NaN   \n",
       "          SRR1294538            NaN  NaN            NaN   \n",
       "          SRR1294539            NaN  NaN            NaN   \n",
       "          SRR1294540            NaN  NaN            NaN   \n",
       "\n",
       "                     cardioglycoside treatment  day patient code name  \\\n",
       "project   run                                                           \n",
       "SRP042161 SRR1294536                       NaN  NaN               NaN   \n",
       "          SRR1294537                       NaN  NaN               NaN   \n",
       "          SRR1294538                       NaN  NaN               NaN   \n",
       "          SRR1294539                       NaN  NaN               NaN   \n",
       "          SRR1294540                       NaN  NaN               NaN   \n",
       "\n",
       "                         LV206  \n",
       "project   run                   \n",
       "SRP042161 SRR1294536 -0.017402  \n",
       "          SRR1294537 -0.029225  \n",
       "          SRR1294538 -0.001296  \n",
       "          SRR1294539  0.044173  \n",
       "          SRR1294540  0.066991  \n",
       "\n",
       "[5 rows x 73 columns]"
      ]
     },
     "execution_count": 20,
     "metadata": {},
     "output_type": "execute_result"
    }
   ],
   "source": [
    "lv_data.head()"
   ]
  },
  {
   "cell_type": "markdown",
   "id": "constant-crisis",
   "metadata": {},
   "source": [
    "# LV cell types analysis"
   ]
  },
  {
   "cell_type": "markdown",
   "id": "resistant-knock",
   "metadata": {},
   "source": [
    "## Get top attributes"
   ]
  },
  {
   "cell_type": "code",
   "execution_count": 21,
   "id": "detailed-restriction",
   "metadata": {},
   "outputs": [
    {
     "data": {
      "text/plain": [
       "patient id                                 0.190131\n",
       "pasaages                                   0.070026\n",
       "clip antibody vendor                       0.070026\n",
       "clip antibody                              0.070026\n",
       "clip antibody cat. #                       0.070026\n",
       "cell type                                  0.035608\n",
       "overexpression                             0.013178\n",
       "antibody                                   0.010064\n",
       "antibody catalog #                         0.009106\n",
       "crosslinker and crosslinking wavelength    0.009106\n",
       "antibody vendor                            0.009106\n",
       "immunoprecipitated protein                 0.009106\n",
       "weight of protein recovered                0.009106\n",
       "age (yrs)                                  0.003468\n",
       "cohort                                     0.003468\n",
       "reprogramming time point (day)             0.003163\n",
       "well number                                0.003163\n",
       "facs gating                                0.002560\n",
       "tonsil donor                               0.002560\n",
       "genotype/variation                         0.002533\n",
       "dtype: float64"
      ]
     },
     "metadata": {},
     "output_type": "display_data"
    }
   ],
   "source": [
    "lv_attrs = lv_obj.get_attributes_variation_score()\n",
    "display(lv_attrs.head(20))"
   ]
  },
  {
   "cell_type": "code",
   "execution_count": 22,
   "id": "incorrect-negative",
   "metadata": {},
   "outputs": [
    {
     "data": {
      "text/plain": [
       "cell type         0.035608\n",
       "tissue            0.001812\n",
       "tissue type       0.001290\n",
       "tissue subtype    0.001290\n",
       "dtype: float64"
      ]
     },
     "execution_count": 22,
     "metadata": {},
     "output_type": "execute_result"
    }
   ],
   "source": [
    "# show those with cell type or tissue in their name\n",
    "_tmp = pd.Series(lv_attrs.index)\n",
    "lv_attrs[\n",
    "    _tmp.str.match(\n",
    "        \"(?:cell.+type$)|(?:tissue$)|(?:tissue.+type$)\",\n",
    "        case=False,\n",
    "        flags=re.IGNORECASE,\n",
    "    ).values\n",
    "].sort_values(ascending=False)"
   ]
  },
  {
   "cell_type": "code",
   "execution_count": 23,
   "id": "funky-calcium",
   "metadata": {},
   "outputs": [],
   "source": [
    "_tmp = lv_data.loc[\n",
    "    :,\n",
    "    [\n",
    "        \"cell type\",\n",
    "        \"tissue\",\n",
    "        \"tissue type\",\n",
    "        \"tissue subtype\",\n",
    "        \"cell line\",\n",
    "        LV_NAME,\n",
    "    ],\n",
    "]"
   ]
  },
  {
   "cell_type": "code",
   "execution_count": 24,
   "id": "continued-apparatus",
   "metadata": {},
   "outputs": [],
   "source": [
    "_tmp_seq = list(chunker(_tmp.sort_values(LV_NAME, ascending=False), 25))"
   ]
  },
  {
   "cell_type": "code",
   "execution_count": 25,
   "id": "manual-arrest",
   "metadata": {},
   "outputs": [
    {
     "data": {
      "text/html": [
       "<div>\n",
       "<style scoped>\n",
       "    .dataframe tbody tr th:only-of-type {\n",
       "        vertical-align: middle;\n",
       "    }\n",
       "\n",
       "    .dataframe tbody tr th {\n",
       "        vertical-align: top;\n",
       "    }\n",
       "\n",
       "    .dataframe thead th {\n",
       "        text-align: right;\n",
       "    }\n",
       "</style>\n",
       "<table border=\"1\" class=\"dataframe\">\n",
       "  <thead>\n",
       "    <tr style=\"text-align: right;\">\n",
       "      <th></th>\n",
       "      <th></th>\n",
       "      <th>cell type</th>\n",
       "      <th>tissue</th>\n",
       "      <th>tissue type</th>\n",
       "      <th>tissue subtype</th>\n",
       "      <th>cell line</th>\n",
       "      <th>LV206</th>\n",
       "    </tr>\n",
       "    <tr>\n",
       "      <th>project</th>\n",
       "      <th>run</th>\n",
       "      <th></th>\n",
       "      <th></th>\n",
       "      <th></th>\n",
       "      <th></th>\n",
       "      <th></th>\n",
       "      <th></th>\n",
       "    </tr>\n",
       "  </thead>\n",
       "  <tbody>\n",
       "    <tr>\n",
       "      <th>SRP060416</th>\n",
       "      <th>SRR2088399</th>\n",
       "      <td>tonsil Innate lymphoid cells</td>\n",
       "      <td>NaN</td>\n",
       "      <td>NaN</td>\n",
       "      <td>NaN</td>\n",
       "      <td>NaN</td>\n",
       "      <td>0.237616</td>\n",
       "    </tr>\n",
       "    <tr>\n",
       "      <th>SRP055569</th>\n",
       "      <th>SRR1821489</th>\n",
       "      <td>mixture of U87 human glioma cells and MCF10a h...</td>\n",
       "      <td>NaN</td>\n",
       "      <td>NaN</td>\n",
       "      <td>NaN</td>\n",
       "      <td>NaN</td>\n",
       "      <td>0.231742</td>\n",
       "    </tr>\n",
       "    <tr>\n",
       "      <th>SRP060416</th>\n",
       "      <th>SRR2088078</th>\n",
       "      <td>tonsil Innate lymphoid cells</td>\n",
       "      <td>NaN</td>\n",
       "      <td>NaN</td>\n",
       "      <td>NaN</td>\n",
       "      <td>NaN</td>\n",
       "      <td>0.229262</td>\n",
       "    </tr>\n",
       "    <tr>\n",
       "      <th>SRP055569</th>\n",
       "      <th>SRR1821445</th>\n",
       "      <td>mixture of U87 human glioma cells and MCF10a h...</td>\n",
       "      <td>NaN</td>\n",
       "      <td>NaN</td>\n",
       "      <td>NaN</td>\n",
       "      <td>NaN</td>\n",
       "      <td>0.222890</td>\n",
       "    </tr>\n",
       "    <tr>\n",
       "      <th>SRP042161</th>\n",
       "      <th>SRR1294639</th>\n",
       "      <td>Glioblastoma</td>\n",
       "      <td>NaN</td>\n",
       "      <td>NaN</td>\n",
       "      <td>NaN</td>\n",
       "      <td>NaN</td>\n",
       "      <td>0.220130</td>\n",
       "    </tr>\n",
       "    <tr>\n",
       "      <th>SRP055569</th>\n",
       "      <th>SRR1821444</th>\n",
       "      <td>mixture of U87 human glioma cells and MCF10a h...</td>\n",
       "      <td>NaN</td>\n",
       "      <td>NaN</td>\n",
       "      <td>NaN</td>\n",
       "      <td>NaN</td>\n",
       "      <td>0.218742</td>\n",
       "    </tr>\n",
       "    <tr>\n",
       "      <th>SRP066834</th>\n",
       "      <th>SRR2967806</th>\n",
       "      <td>NaN</td>\n",
       "      <td>Fetal neocortex</td>\n",
       "      <td>NaN</td>\n",
       "      <td>NaN</td>\n",
       "      <td>NaN</td>\n",
       "      <td>0.208559</td>\n",
       "    </tr>\n",
       "    <tr>\n",
       "      <th rowspan=\"2\" valign=\"top\">SRP060416</th>\n",
       "      <th>SRR2088076</th>\n",
       "      <td>tonsil Innate lymphoid cells</td>\n",
       "      <td>NaN</td>\n",
       "      <td>NaN</td>\n",
       "      <td>NaN</td>\n",
       "      <td>NaN</td>\n",
       "      <td>0.208510</td>\n",
       "    </tr>\n",
       "    <tr>\n",
       "      <th>SRR2088230</th>\n",
       "      <td>tonsil Innate lymphoid cells</td>\n",
       "      <td>NaN</td>\n",
       "      <td>NaN</td>\n",
       "      <td>NaN</td>\n",
       "      <td>NaN</td>\n",
       "      <td>0.208506</td>\n",
       "    </tr>\n",
       "    <tr>\n",
       "      <th>SRP055569</th>\n",
       "      <th>SRR1821455</th>\n",
       "      <td>mixture of U87 human glioma cells and MCF10a h...</td>\n",
       "      <td>NaN</td>\n",
       "      <td>NaN</td>\n",
       "      <td>NaN</td>\n",
       "      <td>NaN</td>\n",
       "      <td>0.208189</td>\n",
       "    </tr>\n",
       "    <tr>\n",
       "      <th>SRP059170</th>\n",
       "      <th>SRR2052647</th>\n",
       "      <td>sorted CD4- ILC1</td>\n",
       "      <td>Peripheral blood</td>\n",
       "      <td>NaN</td>\n",
       "      <td>NaN</td>\n",
       "      <td>NaN</td>\n",
       "      <td>0.205335</td>\n",
       "    </tr>\n",
       "    <tr>\n",
       "      <th>SRP042161</th>\n",
       "      <th>SRR1294524</th>\n",
       "      <td>Glioblastoma</td>\n",
       "      <td>NaN</td>\n",
       "      <td>NaN</td>\n",
       "      <td>NaN</td>\n",
       "      <td>NaN</td>\n",
       "      <td>0.202899</td>\n",
       "    </tr>\n",
       "    <tr>\n",
       "      <th>SRP064464</th>\n",
       "      <th>SRR2558156</th>\n",
       "      <td>NaN</td>\n",
       "      <td>NaN</td>\n",
       "      <td>NaN</td>\n",
       "      <td>NaN</td>\n",
       "      <td>NaN</td>\n",
       "      <td>0.200887</td>\n",
       "    </tr>\n",
       "    <tr>\n",
       "      <th rowspan=\"2\" valign=\"top\">SRP060416</th>\n",
       "      <th>SRR2088251</th>\n",
       "      <td>tonsil Innate lymphoid cells</td>\n",
       "      <td>NaN</td>\n",
       "      <td>NaN</td>\n",
       "      <td>NaN</td>\n",
       "      <td>NaN</td>\n",
       "      <td>0.198235</td>\n",
       "    </tr>\n",
       "    <tr>\n",
       "      <th>SRR2088168</th>\n",
       "      <td>tonsil Innate lymphoid cells</td>\n",
       "      <td>NaN</td>\n",
       "      <td>NaN</td>\n",
       "      <td>NaN</td>\n",
       "      <td>NaN</td>\n",
       "      <td>0.196523</td>\n",
       "    </tr>\n",
       "    <tr>\n",
       "      <th>SRP058773</th>\n",
       "      <th>SRR2042650</th>\n",
       "      <td>NaN</td>\n",
       "      <td>NaN</td>\n",
       "      <td>NaN</td>\n",
       "      <td>NaN</td>\n",
       "      <td>NaN</td>\n",
       "      <td>0.195800</td>\n",
       "    </tr>\n",
       "    <tr>\n",
       "      <th>SRP057196</th>\n",
       "      <th>SRR1974708</th>\n",
       "      <td>hybrid</td>\n",
       "      <td>cortex</td>\n",
       "      <td>NaN</td>\n",
       "      <td>NaN</td>\n",
       "      <td>NaN</td>\n",
       "      <td>0.195223</td>\n",
       "    </tr>\n",
       "    <tr>\n",
       "      <th rowspan=\"2\" valign=\"top\">SRP042161</th>\n",
       "      <th>SRR1294972</th>\n",
       "      <td>Glioblastoma</td>\n",
       "      <td>NaN</td>\n",
       "      <td>NaN</td>\n",
       "      <td>NaN</td>\n",
       "      <td>NaN</td>\n",
       "      <td>0.190619</td>\n",
       "    </tr>\n",
       "    <tr>\n",
       "      <th>SRR1295338</th>\n",
       "      <td>Gliomasphere Cell Line</td>\n",
       "      <td>NaN</td>\n",
       "      <td>NaN</td>\n",
       "      <td>NaN</td>\n",
       "      <td>CSC8</td>\n",
       "      <td>0.185009</td>\n",
       "    </tr>\n",
       "    <tr>\n",
       "      <th>SRP060416</th>\n",
       "      <th>SRR2088103</th>\n",
       "      <td>tonsil Innate lymphoid cells</td>\n",
       "      <td>NaN</td>\n",
       "      <td>NaN</td>\n",
       "      <td>NaN</td>\n",
       "      <td>NaN</td>\n",
       "      <td>0.181493</td>\n",
       "    </tr>\n",
       "    <tr>\n",
       "      <th>SRP057196</th>\n",
       "      <th>SRR1974774</th>\n",
       "      <td>endothelial</td>\n",
       "      <td>cortex</td>\n",
       "      <td>NaN</td>\n",
       "      <td>NaN</td>\n",
       "      <td>NaN</td>\n",
       "      <td>0.179413</td>\n",
       "    </tr>\n",
       "    <tr>\n",
       "      <th>SRP002487</th>\n",
       "      <th>SRR048971</th>\n",
       "      <td>NaN</td>\n",
       "      <td>NaN</td>\n",
       "      <td>NaN</td>\n",
       "      <td>NaN</td>\n",
       "      <td>HEK 293</td>\n",
       "      <td>0.179383</td>\n",
       "    </tr>\n",
       "    <tr>\n",
       "      <th>SRP055569</th>\n",
       "      <th>SRR1821677</th>\n",
       "      <td>MCF10a human breast cancer cells</td>\n",
       "      <td>NaN</td>\n",
       "      <td>NaN</td>\n",
       "      <td>NaN</td>\n",
       "      <td>NaN</td>\n",
       "      <td>0.178817</td>\n",
       "    </tr>\n",
       "    <tr>\n",
       "      <th>SRP066834</th>\n",
       "      <th>SRR2967492</th>\n",
       "      <td>NaN</td>\n",
       "      <td>Microdissected cortical-like ventricle from ce...</td>\n",
       "      <td>NaN</td>\n",
       "      <td>NaN</td>\n",
       "      <td>NaN</td>\n",
       "      <td>0.178602</td>\n",
       "    </tr>\n",
       "    <tr>\n",
       "      <th>SRP055569</th>\n",
       "      <th>SRR2019188</th>\n",
       "      <td>mixture of U87 human glioma cells and WI-38 hu...</td>\n",
       "      <td>NaN</td>\n",
       "      <td>NaN</td>\n",
       "      <td>NaN</td>\n",
       "      <td>NaN</td>\n",
       "      <td>0.178574</td>\n",
       "    </tr>\n",
       "  </tbody>\n",
       "</table>\n",
       "</div>"
      ],
      "text/plain": [
       "                                                              cell type  \\\n",
       "project   run                                                             \n",
       "SRP060416 SRR2088399                       tonsil Innate lymphoid cells   \n",
       "SRP055569 SRR1821489  mixture of U87 human glioma cells and MCF10a h...   \n",
       "SRP060416 SRR2088078                       tonsil Innate lymphoid cells   \n",
       "SRP055569 SRR1821445  mixture of U87 human glioma cells and MCF10a h...   \n",
       "SRP042161 SRR1294639                                       Glioblastoma   \n",
       "SRP055569 SRR1821444  mixture of U87 human glioma cells and MCF10a h...   \n",
       "SRP066834 SRR2967806                                                NaN   \n",
       "SRP060416 SRR2088076                       tonsil Innate lymphoid cells   \n",
       "          SRR2088230                       tonsil Innate lymphoid cells   \n",
       "SRP055569 SRR1821455  mixture of U87 human glioma cells and MCF10a h...   \n",
       "SRP059170 SRR2052647                                   sorted CD4- ILC1   \n",
       "SRP042161 SRR1294524                                       Glioblastoma   \n",
       "SRP064464 SRR2558156                                                NaN   \n",
       "SRP060416 SRR2088251                       tonsil Innate lymphoid cells   \n",
       "          SRR2088168                       tonsil Innate lymphoid cells   \n",
       "SRP058773 SRR2042650                                                NaN   \n",
       "SRP057196 SRR1974708                                             hybrid   \n",
       "SRP042161 SRR1294972                                       Glioblastoma   \n",
       "          SRR1295338                             Gliomasphere Cell Line   \n",
       "SRP060416 SRR2088103                       tonsil Innate lymphoid cells   \n",
       "SRP057196 SRR1974774                                        endothelial   \n",
       "SRP002487 SRR048971                                                 NaN   \n",
       "SRP055569 SRR1821677                   MCF10a human breast cancer cells   \n",
       "SRP066834 SRR2967492                                                NaN   \n",
       "SRP055569 SRR2019188  mixture of U87 human glioma cells and WI-38 hu...   \n",
       "\n",
       "                                                                 tissue  \\\n",
       "project   run                                                             \n",
       "SRP060416 SRR2088399                                                NaN   \n",
       "SRP055569 SRR1821489                                                NaN   \n",
       "SRP060416 SRR2088078                                                NaN   \n",
       "SRP055569 SRR1821445                                                NaN   \n",
       "SRP042161 SRR1294639                                                NaN   \n",
       "SRP055569 SRR1821444                                                NaN   \n",
       "SRP066834 SRR2967806                                    Fetal neocortex   \n",
       "SRP060416 SRR2088076                                                NaN   \n",
       "          SRR2088230                                                NaN   \n",
       "SRP055569 SRR1821455                                                NaN   \n",
       "SRP059170 SRR2052647                                   Peripheral blood   \n",
       "SRP042161 SRR1294524                                                NaN   \n",
       "SRP064464 SRR2558156                                                NaN   \n",
       "SRP060416 SRR2088251                                                NaN   \n",
       "          SRR2088168                                                NaN   \n",
       "SRP058773 SRR2042650                                                NaN   \n",
       "SRP057196 SRR1974708                                             cortex   \n",
       "SRP042161 SRR1294972                                                NaN   \n",
       "          SRR1295338                                                NaN   \n",
       "SRP060416 SRR2088103                                                NaN   \n",
       "SRP057196 SRR1974774                                             cortex   \n",
       "SRP002487 SRR048971                                                 NaN   \n",
       "SRP055569 SRR1821677                                                NaN   \n",
       "SRP066834 SRR2967492  Microdissected cortical-like ventricle from ce...   \n",
       "SRP055569 SRR2019188                                                NaN   \n",
       "\n",
       "                     tissue type tissue subtype cell line     LV206  \n",
       "project   run                                                        \n",
       "SRP060416 SRR2088399         NaN            NaN       NaN  0.237616  \n",
       "SRP055569 SRR1821489         NaN            NaN       NaN  0.231742  \n",
       "SRP060416 SRR2088078         NaN            NaN       NaN  0.229262  \n",
       "SRP055569 SRR1821445         NaN            NaN       NaN  0.222890  \n",
       "SRP042161 SRR1294639         NaN            NaN       NaN  0.220130  \n",
       "SRP055569 SRR1821444         NaN            NaN       NaN  0.218742  \n",
       "SRP066834 SRR2967806         NaN            NaN       NaN  0.208559  \n",
       "SRP060416 SRR2088076         NaN            NaN       NaN  0.208510  \n",
       "          SRR2088230         NaN            NaN       NaN  0.208506  \n",
       "SRP055569 SRR1821455         NaN            NaN       NaN  0.208189  \n",
       "SRP059170 SRR2052647         NaN            NaN       NaN  0.205335  \n",
       "SRP042161 SRR1294524         NaN            NaN       NaN  0.202899  \n",
       "SRP064464 SRR2558156         NaN            NaN       NaN  0.200887  \n",
       "SRP060416 SRR2088251         NaN            NaN       NaN  0.198235  \n",
       "          SRR2088168         NaN            NaN       NaN  0.196523  \n",
       "SRP058773 SRR2042650         NaN            NaN       NaN  0.195800  \n",
       "SRP057196 SRR1974708         NaN            NaN       NaN  0.195223  \n",
       "SRP042161 SRR1294972         NaN            NaN       NaN  0.190619  \n",
       "          SRR1295338         NaN            NaN      CSC8  0.185009  \n",
       "SRP060416 SRR2088103         NaN            NaN       NaN  0.181493  \n",
       "SRP057196 SRR1974774         NaN            NaN       NaN  0.179413  \n",
       "SRP002487 SRR048971          NaN            NaN   HEK 293  0.179383  \n",
       "SRP055569 SRR1821677         NaN            NaN       NaN  0.178817  \n",
       "SRP066834 SRR2967492         NaN            NaN       NaN  0.178602  \n",
       "SRP055569 SRR2019188         NaN            NaN       NaN  0.178574  "
      ]
     },
     "execution_count": 25,
     "metadata": {},
     "output_type": "execute_result"
    }
   ],
   "source": [
    "_tmp_seq[1]"
   ]
  },
  {
   "cell_type": "code",
   "execution_count": 26,
   "id": "excited-tokyo",
   "metadata": {},
   "outputs": [
    {
     "data": {
      "text/html": [
       "<div>\n",
       "<style scoped>\n",
       "    .dataframe tbody tr th:only-of-type {\n",
       "        vertical-align: middle;\n",
       "    }\n",
       "\n",
       "    .dataframe tbody tr th {\n",
       "        vertical-align: top;\n",
       "    }\n",
       "\n",
       "    .dataframe thead th {\n",
       "        text-align: right;\n",
       "    }\n",
       "</style>\n",
       "<table border=\"1\" class=\"dataframe\">\n",
       "  <thead>\n",
       "    <tr style=\"text-align: right;\">\n",
       "      <th></th>\n",
       "      <th></th>\n",
       "      <th>well number</th>\n",
       "      <th>reprogramming time point (day)</th>\n",
       "      <th>LV206</th>\n",
       "    </tr>\n",
       "    <tr>\n",
       "      <th>project</th>\n",
       "      <th>run</th>\n",
       "      <th></th>\n",
       "      <th></th>\n",
       "      <th></th>\n",
       "    </tr>\n",
       "  </thead>\n",
       "  <tbody>\n",
       "    <tr>\n",
       "      <th rowspan=\"10\" valign=\"top\">SRP058773</th>\n",
       "      <th>SRR2042612</th>\n",
       "      <td>38</td>\n",
       "      <td>10</td>\n",
       "      <td>0.319167</td>\n",
       "    </tr>\n",
       "    <tr>\n",
       "      <th>SRR2042650</th>\n",
       "      <td>10</td>\n",
       "      <td>10</td>\n",
       "      <td>0.195800</td>\n",
       "    </tr>\n",
       "    <tr>\n",
       "      <th>SRR2042614</th>\n",
       "      <td>23</td>\n",
       "      <td>10</td>\n",
       "      <td>0.051475</td>\n",
       "    </tr>\n",
       "    <tr>\n",
       "      <th>SRR2042647</th>\n",
       "      <td>6</td>\n",
       "      <td>10</td>\n",
       "      <td>0.045233</td>\n",
       "    </tr>\n",
       "    <tr>\n",
       "      <th>SRR2042636</th>\n",
       "      <td>54</td>\n",
       "      <td>10</td>\n",
       "      <td>0.038847</td>\n",
       "    </tr>\n",
       "    <tr>\n",
       "      <th>SRR2042632</th>\n",
       "      <td>58</td>\n",
       "      <td>10</td>\n",
       "      <td>0.032983</td>\n",
       "    </tr>\n",
       "    <tr>\n",
       "      <th>SRR2042645</th>\n",
       "      <td>27</td>\n",
       "      <td>10</td>\n",
       "      <td>0.023511</td>\n",
       "    </tr>\n",
       "    <tr>\n",
       "      <th>SRR2042613</th>\n",
       "      <td>76</td>\n",
       "      <td>10</td>\n",
       "      <td>0.022527</td>\n",
       "    </tr>\n",
       "    <tr>\n",
       "      <th>SRR2042639</th>\n",
       "      <td>68</td>\n",
       "      <td>10</td>\n",
       "      <td>0.012573</td>\n",
       "    </tr>\n",
       "    <tr>\n",
       "      <th>SRR2042629</th>\n",
       "      <td>92</td>\n",
       "      <td>10</td>\n",
       "      <td>0.011489</td>\n",
       "    </tr>\n",
       "  </tbody>\n",
       "</table>\n",
       "</div>"
      ],
      "text/plain": [
       "                     well number reprogramming time point (day)     LV206\n",
       "project   run                                                            \n",
       "SRP058773 SRR2042612          38                             10  0.319167\n",
       "          SRR2042650          10                             10  0.195800\n",
       "          SRR2042614          23                             10  0.051475\n",
       "          SRR2042647           6                             10  0.045233\n",
       "          SRR2042636          54                             10  0.038847\n",
       "          SRR2042632          58                             10  0.032983\n",
       "          SRR2042645          27                             10  0.023511\n",
       "          SRR2042613          76                             10  0.022527\n",
       "          SRR2042639          68                             10  0.012573\n",
       "          SRR2042629          92                             10  0.011489"
      ]
     },
     "execution_count": 26,
     "metadata": {},
     "output_type": "execute_result"
    }
   ],
   "source": [
    "# what is there in these projects?\n",
    "lv_data.loc[[\"SRP058773\"]].dropna(how=\"all\", axis=1).sort_values(\n",
    "    LV_NAME, ascending=False\n",
    ").sort_values(LV_NAME, ascending=False).head(10)"
   ]
  },
  {
   "cell_type": "code",
   "execution_count": 27,
   "id": "delayed-yahoo",
   "metadata": {},
   "outputs": [],
   "source": [
    "SELECTED_ATTRIBUTE = \"cell type\""
   ]
  },
  {
   "cell_type": "code",
   "execution_count": 28,
   "id": "arabic-logic",
   "metadata": {},
   "outputs": [],
   "source": [
    "# it has to be in the order desired for filling nans in the SELECTED_ATTRIBUTE\n",
    "SECOND_ATTRIBUTES = [\"tissue\", \"cell line\"]"
   ]
  },
  {
   "cell_type": "markdown",
   "id": "tender-hierarchy",
   "metadata": {},
   "source": [
    "## Get plot data"
   ]
  },
  {
   "cell_type": "code",
   "execution_count": 29,
   "id": "corporate-scout",
   "metadata": {},
   "outputs": [],
   "source": [
    "plot_data = lv_data.loc[:, [SELECTED_ATTRIBUTE] + SECOND_ATTRIBUTES + [LV_NAME]]"
   ]
  },
  {
   "cell_type": "code",
   "execution_count": 30,
   "id": "careful-monroe",
   "metadata": {},
   "outputs": [],
   "source": [
    "# if blank/nan, fill cell type column with tissue content\n",
    "_new_column = plot_data[[SELECTED_ATTRIBUTE] + SECOND_ATTRIBUTES].fillna(\n",
    "    method=\"backfill\", axis=1\n",
    ")[SELECTED_ATTRIBUTE]\n",
    "plot_data[SELECTED_ATTRIBUTE] = _new_column\n",
    "plot_data = plot_data.drop(columns=SECOND_ATTRIBUTES)\n",
    "plot_data = plot_data.fillna({SELECTED_ATTRIBUTE: \"NOT CATEGORIZED\"})\n",
    "# plot_data = plot_data.dropna(subset=[SELECTED_ATTRIBUTE])"
   ]
  },
  {
   "cell_type": "code",
   "execution_count": 31,
   "id": "confused-philosophy",
   "metadata": {},
   "outputs": [],
   "source": [
    "plot_data = plot_data.sort_values(LV_NAME, ascending=False)"
   ]
  },
  {
   "cell_type": "code",
   "execution_count": 32,
   "id": "satellite-inflation",
   "metadata": {},
   "outputs": [
    {
     "data": {
      "text/html": [
       "<div>\n",
       "<style scoped>\n",
       "    .dataframe tbody tr th:only-of-type {\n",
       "        vertical-align: middle;\n",
       "    }\n",
       "\n",
       "    .dataframe tbody tr th {\n",
       "        vertical-align: top;\n",
       "    }\n",
       "\n",
       "    .dataframe thead th {\n",
       "        text-align: right;\n",
       "    }\n",
       "</style>\n",
       "<table border=\"1\" class=\"dataframe\">\n",
       "  <thead>\n",
       "    <tr style=\"text-align: right;\">\n",
       "      <th></th>\n",
       "      <th></th>\n",
       "      <th>cell type</th>\n",
       "      <th>LV206</th>\n",
       "    </tr>\n",
       "    <tr>\n",
       "      <th>project</th>\n",
       "      <th>run</th>\n",
       "      <th></th>\n",
       "      <th></th>\n",
       "    </tr>\n",
       "  </thead>\n",
       "  <tbody>\n",
       "    <tr>\n",
       "      <th>SRP042161</th>\n",
       "      <th>SRR1294848</th>\n",
       "      <td>Glioblastoma</td>\n",
       "      <td>11.281049</td>\n",
       "    </tr>\n",
       "    <tr>\n",
       "      <th>SRP055569</th>\n",
       "      <th>SRR2018987</th>\n",
       "      <td>MCF10a human breast cancer cells</td>\n",
       "      <td>0.885504</td>\n",
       "    </tr>\n",
       "    <tr>\n",
       "      <th>SRP033369</th>\n",
       "      <th>SRR1146548</th>\n",
       "      <td>HEK293T</td>\n",
       "      <td>0.774964</td>\n",
       "    </tr>\n",
       "    <tr>\n",
       "      <th>SRP042161</th>\n",
       "      <th>SRR1294847</th>\n",
       "      <td>Glioblastoma</td>\n",
       "      <td>0.604154</td>\n",
       "    </tr>\n",
       "    <tr>\n",
       "      <th rowspan=\"3\" valign=\"top\">SRP055569</th>\n",
       "      <th>SRR1821487</th>\n",
       "      <td>mixture of U87 human glioma cells and MCF10a h...</td>\n",
       "      <td>0.594659</td>\n",
       "    </tr>\n",
       "    <tr>\n",
       "      <th>SRR1821580</th>\n",
       "      <td>mixture of U87 human glioma cells and MCF10a h...</td>\n",
       "      <td>0.509572</td>\n",
       "    </tr>\n",
       "    <tr>\n",
       "      <th>SRR2018982</th>\n",
       "      <td>mixture of U87 human glioma cells and MCF10a h...</td>\n",
       "      <td>0.484882</td>\n",
       "    </tr>\n",
       "    <tr>\n",
       "      <th>SRP002487</th>\n",
       "      <th>SRR048975</th>\n",
       "      <td>HEK 293</td>\n",
       "      <td>0.429455</td>\n",
       "    </tr>\n",
       "    <tr>\n",
       "      <th>SRP055569</th>\n",
       "      <th>SRR1821364</th>\n",
       "      <td>U87 human glioma cells</td>\n",
       "      <td>0.406834</td>\n",
       "    </tr>\n",
       "    <tr>\n",
       "      <th>SRP038963</th>\n",
       "      <th>SRR1176917</th>\n",
       "      <td>Glioblastoma (Astrocytoma) cells</td>\n",
       "      <td>0.370962</td>\n",
       "    </tr>\n",
       "    <tr>\n",
       "      <th>SRP014428</th>\n",
       "      <th>SRR522080</th>\n",
       "      <td>leukocyte from blood of healthy individual</td>\n",
       "      <td>0.368821</td>\n",
       "    </tr>\n",
       "    <tr>\n",
       "      <th>SRP042161</th>\n",
       "      <th>SRR1294996</th>\n",
       "      <td>Glioblastoma</td>\n",
       "      <td>0.363662</td>\n",
       "    </tr>\n",
       "    <tr>\n",
       "      <th>SRP002487</th>\n",
       "      <th>SRR048968</th>\n",
       "      <td>HEK 293</td>\n",
       "      <td>0.344013</td>\n",
       "    </tr>\n",
       "    <tr>\n",
       "      <th>SRP058773</th>\n",
       "      <th>SRR2042612</th>\n",
       "      <td>NOT CATEGORIZED</td>\n",
       "      <td>0.319167</td>\n",
       "    </tr>\n",
       "    <tr>\n",
       "      <th>SRP066834</th>\n",
       "      <th>SRR2967763</th>\n",
       "      <td>Fetal neocortex</td>\n",
       "      <td>0.305560</td>\n",
       "    </tr>\n",
       "    <tr>\n",
       "      <th>SRP055569</th>\n",
       "      <th>SRR2019049</th>\n",
       "      <td>U87 human glioma cells</td>\n",
       "      <td>0.297817</td>\n",
       "    </tr>\n",
       "    <tr>\n",
       "      <th>SRP060416</th>\n",
       "      <th>SRR2088204</th>\n",
       "      <td>tonsil Innate lymphoid cells</td>\n",
       "      <td>0.274310</td>\n",
       "    </tr>\n",
       "    <tr>\n",
       "      <th>SRP011054</th>\n",
       "      <th>SRR413944</th>\n",
       "      <td>HCT116</td>\n",
       "      <td>0.272949</td>\n",
       "    </tr>\n",
       "    <tr>\n",
       "      <th rowspan=\"2\" valign=\"top\">SRP055569</th>\n",
       "      <th>SRR1821659</th>\n",
       "      <td>MCF10a human breast cancer cells</td>\n",
       "      <td>0.265009</td>\n",
       "    </tr>\n",
       "    <tr>\n",
       "      <th>SRR1821584</th>\n",
       "      <td>mixture of U87 human glioma cells and MCF10a h...</td>\n",
       "      <td>0.262654</td>\n",
       "    </tr>\n",
       "  </tbody>\n",
       "</table>\n",
       "</div>"
      ],
      "text/plain": [
       "                                                              cell type  \\\n",
       "project   run                                                             \n",
       "SRP042161 SRR1294848                                       Glioblastoma   \n",
       "SRP055569 SRR2018987                   MCF10a human breast cancer cells   \n",
       "SRP033369 SRR1146548                                            HEK293T   \n",
       "SRP042161 SRR1294847                                       Glioblastoma   \n",
       "SRP055569 SRR1821487  mixture of U87 human glioma cells and MCF10a h...   \n",
       "          SRR1821580  mixture of U87 human glioma cells and MCF10a h...   \n",
       "          SRR2018982  mixture of U87 human glioma cells and MCF10a h...   \n",
       "SRP002487 SRR048975                                             HEK 293   \n",
       "SRP055569 SRR1821364                             U87 human glioma cells   \n",
       "SRP038963 SRR1176917                   Glioblastoma (Astrocytoma) cells   \n",
       "SRP014428 SRR522080          leukocyte from blood of healthy individual   \n",
       "SRP042161 SRR1294996                                       Glioblastoma   \n",
       "SRP002487 SRR048968                                             HEK 293   \n",
       "SRP058773 SRR2042612                                    NOT CATEGORIZED   \n",
       "SRP066834 SRR2967763                                    Fetal neocortex   \n",
       "SRP055569 SRR2019049                             U87 human glioma cells   \n",
       "SRP060416 SRR2088204                       tonsil Innate lymphoid cells   \n",
       "SRP011054 SRR413944                                              HCT116   \n",
       "SRP055569 SRR1821659                   MCF10a human breast cancer cells   \n",
       "          SRR1821584  mixture of U87 human glioma cells and MCF10a h...   \n",
       "\n",
       "                          LV206  \n",
       "project   run                    \n",
       "SRP042161 SRR1294848  11.281049  \n",
       "SRP055569 SRR2018987   0.885504  \n",
       "SRP033369 SRR1146548   0.774964  \n",
       "SRP042161 SRR1294847   0.604154  \n",
       "SRP055569 SRR1821487   0.594659  \n",
       "          SRR1821580   0.509572  \n",
       "          SRR2018982   0.484882  \n",
       "SRP002487 SRR048975    0.429455  \n",
       "SRP055569 SRR1821364   0.406834  \n",
       "SRP038963 SRR1176917   0.370962  \n",
       "SRP014428 SRR522080    0.368821  \n",
       "SRP042161 SRR1294996   0.363662  \n",
       "SRP002487 SRR048968    0.344013  \n",
       "SRP058773 SRR2042612   0.319167  \n",
       "SRP066834 SRR2967763   0.305560  \n",
       "SRP055569 SRR2019049   0.297817  \n",
       "SRP060416 SRR2088204   0.274310  \n",
       "SRP011054 SRR413944    0.272949  \n",
       "SRP055569 SRR1821659   0.265009  \n",
       "          SRR1821584   0.262654  "
      ]
     },
     "execution_count": 32,
     "metadata": {},
     "output_type": "execute_result"
    }
   ],
   "source": [
    "plot_data.head(20)"
   ]
  },
  {
   "cell_type": "markdown",
   "id": "sunrise-roberts",
   "metadata": {},
   "source": [
    "## Customize x-axis values"
   ]
  },
  {
   "cell_type": "markdown",
   "id": "dependent-perth",
   "metadata": {},
   "source": [
    "When cell type values are not very clear, customize their names by looking at their specific studies to know exactly what the authors meant."
   ]
  },
  {
   "cell_type": "code",
   "execution_count": 33,
   "id": "filled-kennedy",
   "metadata": {},
   "outputs": [],
   "source": [
    "final_plot_data = plot_data.replace(\n",
    "    {\n",
    "        SELECTED_ATTRIBUTE: {\n",
    "            # SRP057196\n",
    "            \"fetal_quiescent\": \"Fetal neurons (quiescent)\",\n",
    "            \"fetal_replicating\": \"Fetal neurons (replicating)\",\n",
    "            # SRP055569\n",
    "            \"mixture of U87 human glioma cells and WI-38 human lung fibroblast cells\": \"Glioma cells + lung fibroblast cells\",\n",
    "            \"mixture of U87 human glioma cells and MCF10a human breast cancer cells\": \"Glioma cells + breast cancer cells\",\n",
    "        }\n",
    "    }\n",
    ")"
   ]
  },
  {
   "cell_type": "code",
   "execution_count": 34,
   "id": "traditional-sculpture",
   "metadata": {},
   "outputs": [
    {
     "name": "stderr",
     "output_type": "stream",
     "text": [
      "<ipython-input-34-26d4d9c15426>:3: PerformanceWarning: indexing past lexsort depth may impact performance.\n",
      "  _tmp = final_plot_data.loc[(_srp_code,)].apply(\n"
     ]
    }
   ],
   "source": [
    "# # add also tissue information to these projects\n",
    "_srp_code = \"SRP057196\"\n",
    "_tmp = final_plot_data.loc[(_srp_code,)].apply(\n",
    "    lambda x: x[SELECTED_ATTRIBUTE]\n",
    "    + f\" ({lv_data.loc[(_srp_code, x.name), 'tissue']})\",\n",
    "    axis=1,\n",
    ")\n",
    "final_plot_data.loc[(_srp_code, _tmp.index), SELECTED_ATTRIBUTE] = _tmp.values"
   ]
  },
  {
   "cell_type": "code",
   "execution_count": 35,
   "id": "nutritional-composer",
   "metadata": {},
   "outputs": [],
   "source": [
    "# take the top samples only\n",
    "final_plot_data = final_plot_data.sort_values(LV_NAME, ascending=False)[:N_TOP_SAMPLES]"
   ]
  },
  {
   "cell_type": "markdown",
   "id": "modified-drain",
   "metadata": {},
   "source": [
    "## Threshold LV values"
   ]
  },
  {
   "cell_type": "code",
   "execution_count": 36,
   "id": "laden-quilt",
   "metadata": {},
   "outputs": [],
   "source": [
    "final_plot_data.loc[\n",
    "    final_plot_data[LV_NAME] > LV_AXIS_THRESHOLD, LV_NAME\n",
    "] = LV_AXIS_THRESHOLD"
   ]
  },
  {
   "cell_type": "markdown",
   "id": "canadian-enlargement",
   "metadata": {},
   "source": [
    "## Delete samples with no tissue/cell type information"
   ]
  },
  {
   "cell_type": "code",
   "execution_count": 37,
   "id": "instant-reality",
   "metadata": {},
   "outputs": [],
   "source": [
    "final_plot_data = final_plot_data[\n",
    "    final_plot_data[SELECTED_ATTRIBUTE] != \"NOT CATEGORIZED\"\n",
    "]"
   ]
  },
  {
   "cell_type": "markdown",
   "id": "russian-american",
   "metadata": {},
   "source": [
    "## Set x-axis order"
   ]
  },
  {
   "cell_type": "code",
   "execution_count": 38,
   "id": "sought-anaheim",
   "metadata": {},
   "outputs": [],
   "source": [
    "attr_order = (\n",
    "    final_plot_data.groupby(SELECTED_ATTRIBUTE)\n",
    "    .max()\n",
    "    .sort_values(LV_NAME, ascending=False)\n",
    "    .index[:N_TOP_ATTRS]\n",
    "    .tolist()\n",
    ")"
   ]
  },
  {
   "cell_type": "code",
   "execution_count": 39,
   "id": "separate-nature",
   "metadata": {},
   "outputs": [
    {
     "data": {
      "text/plain": [
       "25"
      ]
     },
     "execution_count": 39,
     "metadata": {},
     "output_type": "execute_result"
    }
   ],
   "source": [
    "len(attr_order)"
   ]
  },
  {
   "cell_type": "code",
   "execution_count": 40,
   "id": "secure-jordan",
   "metadata": {},
   "outputs": [
    {
     "data": {
      "text/plain": [
       "['Glioblastoma',\n",
       " 'MCF10a human breast cancer cells',\n",
       " 'HEK293T',\n",
       " 'Glioma cells + breast cancer cells',\n",
       " 'HEK 293']"
      ]
     },
     "execution_count": 40,
     "metadata": {},
     "output_type": "execute_result"
    }
   ],
   "source": [
    "attr_order[:5]"
   ]
  },
  {
   "cell_type": "markdown",
   "id": "about-cattle",
   "metadata": {},
   "source": [
    "## Plot"
   ]
  },
  {
   "cell_type": "code",
   "execution_count": 41,
   "id": "isolated-palestine",
   "metadata": {},
   "outputs": [
    {
     "data": {
      "image/png": "[encoded data removed]",
      "text/plain": [
       "<Figure size 1080x360 with 1 Axes>"
      ]
     },
     "metadata": {},
     "output_type": "display_data"
    }
   ],
   "source": [
    "with sns.plotting_context(\"paper\", font_scale=1.5), sns.axes_style(\"whitegrid\"):\n",
    "    sns.catplot(\n",
    "        data=final_plot_data,\n",
    "        y=LV_NAME,\n",
    "        x=SELECTED_ATTRIBUTE,\n",
    "        order=attr_order,\n",
    "        kind=\"strip\",\n",
    "        height=5,\n",
    "        aspect=3,\n",
    "    )\n",
    "    plt.xticks(rotation=45, horizontalalignment=\"right\")\n",
    "\n",
    "    plt.savefig(\n",
    "        OUTPUT_CELL_TYPE_FILEPATH,\n",
    "        bbox_inches=\"tight\",\n",
    "        facecolor=\"white\",\n",
    "    )"
   ]
  },
  {
   "cell_type": "markdown",
   "id": "senior-entrepreneur",
   "metadata": {},
   "source": [
    "# Debug"
   ]
  },
  {
   "cell_type": "code",
   "execution_count": 42,
   "id": "processed-speaker",
   "metadata": {},
   "outputs": [],
   "source": [
    "# with pd.option_context(\n",
    "#     \"display.max_rows\", None, \"display.max_columns\", None, \"display.max_colwidth\", None\n",
    "# ):\n",
    "#     _tmp = final_plot_data[final_plot_data[SELECTED_ATTRIBUTE].str.contains(\"neurons\")]\n",
    "#     display(_tmp.head(20))"
   ]
  },
  {
   "cell_type": "code",
   "execution_count": 43,
   "id": "chronic-toronto",
   "metadata": {},
   "outputs": [],
   "source": [
    "# # what is there in these projects?\n",
    "# lv_data.loc[[\"SRP050499\"]].dropna(how=\"all\", axis=1).sort_values(\n",
    "#     LV_NAME, ascending=False\n",
    "# ).head(60)"
   ]
  },
  {
   "cell_type": "code",
   "execution_count": null,
   "id": "pretty-cooper",
   "metadata": {},
   "outputs": [],
   "source": []
  }
 ],
 "metadata": {
  "jupytext": {
   "cell_metadata_filter": "all,-execution,-papermill,-trusted",
   "formats": "ipynb,py//py:percent"
  },
  "kernelspec": {
   "display_name": "Python 3",
   "language": "python",
   "name": "python3"
  },
  "language_info": {
   "codemirror_mode": {
    "name": "ipython",
    "version": 3
   },
   "file_extension": ".py",
   "mimetype": "text/x-python",
   "name": "python",
   "nbconvert_exporter": "python",
   "pygments_lexer": "ipython3",
   "version": "3.8.8"
  }
 },
 "nbformat": 4,
 "nbformat_minor": 5
}
