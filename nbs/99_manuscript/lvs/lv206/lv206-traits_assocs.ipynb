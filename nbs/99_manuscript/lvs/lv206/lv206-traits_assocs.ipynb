{
 "cells": [
  {
   "cell_type": "markdown",
   "id": "historic-consequence",
   "metadata": {
    "papermill": {
     "duration": 0.006593,
     "end_time": "2021-05-11T19:09:55.733221",
     "exception": false,
     "start_time": "2021-05-11T19:09:55.726628",
     "status": "completed"
    },
    "tags": []
   },
   "source": [
    "# Description"
   ]
  },
  {
   "cell_type": "markdown",
   "id": "broadband-sauce",
   "metadata": {
    "papermill": {
     "duration": 0.00668,
     "end_time": "2021-05-11T19:09:55.745410",
     "exception": false,
     "start_time": "2021-05-11T19:09:55.738730",
     "status": "completed"
    },
    "tags": []
   },
   "source": [
    "Generates manubot tables for PhenomeXcan and eMERGE associations given an LV name (which is the only parameter that needs to be specified in the Settings section below)."
   ]
  },
  {
   "cell_type": "markdown",
   "id": "disabled-blues",
   "metadata": {
    "papermill": {
     "duration": 0.006223,
     "end_time": "2021-05-11T19:09:55.756959",
     "exception": false,
     "start_time": "2021-05-11T19:09:55.750736",
     "status": "completed"
    },
    "tags": []
   },
   "source": [
    "# Modules loading"
   ]
  },
  {
   "cell_type": "code",
   "execution_count": 1,
   "id": "designed-dependence",
   "metadata": {
    "papermill": {
     "duration": 0.01906,
     "end_time": "2021-05-11T19:09:55.781515",
     "exception": false,
     "start_time": "2021-05-11T19:09:55.762455",
     "status": "completed"
    },
    "tags": []
   },
   "outputs": [],
   "source": [
    "%load_ext autoreload\n",
    "%autoreload 2"
   ]
  },
  {
   "cell_type": "code",
   "execution_count": 2,
   "id": "verified-reference",
   "metadata": {
    "papermill": {
     "duration": 0.993432,
     "end_time": "2021-05-11T19:09:56.780403",
     "exception": false,
     "start_time": "2021-05-11T19:09:55.786971",
     "status": "completed"
    },
    "tags": []
   },
   "outputs": [],
   "source": [
    "import re\n",
    "from pathlib import Path\n",
    "\n",
    "import pandas as pd\n",
    "\n",
    "from entity import Trait\n",
    "import conf"
   ]
  },
  {
   "cell_type": "markdown",
   "id": "conscious-craft",
   "metadata": {
    "papermill": {
     "duration": 0.005973,
     "end_time": "2021-05-11T19:09:56.792495",
     "exception": false,
     "start_time": "2021-05-11T19:09:56.786522",
     "status": "completed"
    },
    "tags": []
   },
   "source": [
    "# Settings"
   ]
  },
  {
   "cell_type": "code",
   "execution_count": 3,
   "id": "latest-organic",
   "metadata": {
    "papermill": {
     "duration": 0.019548,
     "end_time": "2021-05-11T19:09:56.817689",
     "exception": false,
     "start_time": "2021-05-11T19:09:56.798141",
     "status": "completed"
    },
    "tags": [
     "parameters"
    ]
   },
   "outputs": [],
   "source": [
    "LV_NAME = \"LV206\""
   ]
  },
  {
   "cell_type": "code",
   "execution_count": 4,
   "id": "little-sheet",
   "metadata": {},
   "outputs": [
    {
     "data": {
      "text/plain": [
       "PosixPath('/home/miltondp/projects/labs/greenelab/phenoplier_manuscript/content/50.00.supplementary_material.md')"
      ]
     },
     "metadata": {},
     "output_type": "display_data"
    }
   ],
   "source": [
    "assert (\n",
    "    conf.MANUSCRIPT[\"BASE_DIR\"] is not None\n",
    "), \"The manuscript directory was not configured\"\n",
    "\n",
    "OUTPUT_FILE_PATH = conf.MANUSCRIPT[\"CONTENT_DIR\"] / \"50.00.supplementary_material.md\"\n",
    "display(OUTPUT_FILE_PATH)\n",
    "assert OUTPUT_FILE_PATH.exists()"
   ]
  },
  {
   "cell_type": "code",
   "execution_count": 5,
   "id": "positive-twins",
   "metadata": {},
   "outputs": [],
   "source": [
    "# result_set is either phenomexcan or emerge\n",
    "LV_FILE_MARK_TEMPLATE = \"<!-- {lv}:{result_set}_traits_assocs:{position} -->\""
   ]
  },
  {
   "cell_type": "code",
   "execution_count": 6,
   "id": "spread-nylon",
   "metadata": {},
   "outputs": [],
   "source": [
    "TABLE_CAPTION = \"Table: Significant trait associations of {lv_name} in {result_set_name}. {table_id}\""
   ]
  },
  {
   "cell_type": "code",
   "execution_count": 7,
   "id": "powered-container",
   "metadata": {},
   "outputs": [],
   "source": [
    "TABLE_CAPTION_ID = \"#tbl:sup:{result_set}_assocs:{lv_name_lower_case}\""
   ]
  },
  {
   "cell_type": "code",
   "execution_count": 8,
   "id": "incredible-label",
   "metadata": {},
   "outputs": [],
   "source": [
    "RESULT_SET_NAMES = {\n",
    "    \"phenomexcan\": \"PhenomeXcan\",\n",
    "    \"emerge\": \"eMERGE\",\n",
    "}"
   ]
  },
  {
   "cell_type": "markdown",
   "id": "acute-dylan",
   "metadata": {
    "papermill": {
     "duration": 0.006007,
     "end_time": "2021-05-11T19:09:56.949763",
     "exception": false,
     "start_time": "2021-05-11T19:09:56.943756",
     "status": "completed"
    },
    "tags": []
   },
   "source": [
    "# Load data"
   ]
  },
  {
   "cell_type": "markdown",
   "id": "cubic-netscape",
   "metadata": {},
   "source": [
    "## PhenomeXcan LV-trait associations"
   ]
  },
  {
   "cell_type": "code",
   "execution_count": 9,
   "id": "strategic-papua",
   "metadata": {},
   "outputs": [
    {
     "data": {
      "text/plain": [
       "PosixPath('/home/miltondp/projects/labs/greenelab/phenoplier/bases_data/base_orig/results/gls/gls_phenotypes-combined-phenomexcan.pkl')"
      ]
     },
     "metadata": {},
     "output_type": "display_data"
    }
   ],
   "source": [
    "input_filepath = Path(conf.RESULTS[\"GLS\"] / \"gls_phenotypes-combined-phenomexcan.pkl\")\n",
    "display(input_filepath)"
   ]
  },
  {
   "cell_type": "code",
   "execution_count": 10,
   "id": "serious-welsh",
   "metadata": {},
   "outputs": [],
   "source": [
    "phenomexcan_lv_trait_assocs = pd.read_pickle(input_filepath)"
   ]
  },
  {
   "cell_type": "code",
   "execution_count": 11,
   "id": "isolated-pottery",
   "metadata": {},
   "outputs": [
    {
     "data": {
      "text/plain": [
       "(5782, 8)"
      ]
     },
     "execution_count": 11,
     "metadata": {},
     "output_type": "execute_result"
    }
   ],
   "source": [
    "phenomexcan_lv_trait_assocs.shape"
   ]
  },
  {
   "cell_type": "code",
   "execution_count": 12,
   "id": "pressed-cheat",
   "metadata": {},
   "outputs": [
    {
     "data": {
      "text/html": [
       "<div>\n",
       "<style scoped>\n",
       "    .dataframe tbody tr th:only-of-type {\n",
       "        vertical-align: middle;\n",
       "    }\n",
       "\n",
       "    .dataframe tbody tr th {\n",
       "        vertical-align: top;\n",
       "    }\n",
       "\n",
       "    .dataframe thead th {\n",
       "        text-align: right;\n",
       "    }\n",
       "</style>\n",
       "<table border=\"1\" class=\"dataframe\">\n",
       "  <thead>\n",
       "    <tr style=\"text-align: right;\">\n",
       "      <th></th>\n",
       "      <th>part_k</th>\n",
       "      <th>cluster_id</th>\n",
       "      <th>phenotype</th>\n",
       "      <th>lv</th>\n",
       "      <th>coef</th>\n",
       "      <th>pvalue</th>\n",
       "      <th>pvalue_twosided</th>\n",
       "      <th>fdr</th>\n",
       "    </tr>\n",
       "  </thead>\n",
       "  <tbody>\n",
       "    <tr>\n",
       "      <th>0</th>\n",
       "      <td>29</td>\n",
       "      <td>22</td>\n",
       "      <td>100002_raw-Energy</td>\n",
       "      <td>LV246</td>\n",
       "      <td>0.002401</td>\n",
       "      <td>0.424213</td>\n",
       "      <td>0.848425</td>\n",
       "      <td>0.680765</td>\n",
       "    </tr>\n",
       "    <tr>\n",
       "      <th>1</th>\n",
       "      <td>29</td>\n",
       "      <td>22</td>\n",
       "      <td>100002_raw-Energy</td>\n",
       "      <td>LV607</td>\n",
       "      <td>-0.006323</td>\n",
       "      <td>0.691499</td>\n",
       "      <td>0.617002</td>\n",
       "      <td>0.873350</td>\n",
       "    </tr>\n",
       "    <tr>\n",
       "      <th>2</th>\n",
       "      <td>29</td>\n",
       "      <td>22</td>\n",
       "      <td>100002_raw-Energy</td>\n",
       "      <td>LV612</td>\n",
       "      <td>-0.000822</td>\n",
       "      <td>0.525786</td>\n",
       "      <td>0.948428</td>\n",
       "      <td>0.763843</td>\n",
       "    </tr>\n",
       "    <tr>\n",
       "      <th>3</th>\n",
       "      <td>29</td>\n",
       "      <td>22</td>\n",
       "      <td>100002_raw-Energy</td>\n",
       "      <td>LV74</td>\n",
       "      <td>-0.006035</td>\n",
       "      <td>0.685313</td>\n",
       "      <td>0.629373</td>\n",
       "      <td>0.870769</td>\n",
       "    </tr>\n",
       "    <tr>\n",
       "      <th>4</th>\n",
       "      <td>29</td>\n",
       "      <td>22</td>\n",
       "      <td>100002_raw-Energy</td>\n",
       "      <td>LV838</td>\n",
       "      <td>0.024454</td>\n",
       "      <td>0.023446</td>\n",
       "      <td>0.046891</td>\n",
       "      <td>0.087403</td>\n",
       "    </tr>\n",
       "  </tbody>\n",
       "</table>\n",
       "</div>"
      ],
      "text/plain": [
       "   part_k  cluster_id          phenotype     lv      coef    pvalue  \\\n",
       "0      29          22  100002_raw-Energy  LV246  0.002401  0.424213   \n",
       "1      29          22  100002_raw-Energy  LV607 -0.006323  0.691499   \n",
       "2      29          22  100002_raw-Energy  LV612 -0.000822  0.525786   \n",
       "3      29          22  100002_raw-Energy   LV74 -0.006035  0.685313   \n",
       "4      29          22  100002_raw-Energy  LV838  0.024454  0.023446   \n",
       "\n",
       "   pvalue_twosided       fdr  \n",
       "0         0.848425  0.680765  \n",
       "1         0.617002  0.873350  \n",
       "2         0.948428  0.763843  \n",
       "3         0.629373  0.870769  \n",
       "4         0.046891  0.087403  "
      ]
     },
     "execution_count": 12,
     "metadata": {},
     "output_type": "execute_result"
    }
   ],
   "source": [
    "phenomexcan_lv_trait_assocs.head()"
   ]
  },
  {
   "cell_type": "markdown",
   "id": "novel-terminology",
   "metadata": {},
   "source": [
    "## eMERGE LV-trait associations"
   ]
  },
  {
   "cell_type": "code",
   "execution_count": 13,
   "id": "ordered-traveler",
   "metadata": {},
   "outputs": [
    {
     "data": {
      "text/plain": [
       "PosixPath('/home/miltondp/projects/labs/greenelab/phenoplier/bases_data/base_orig/results/gls/gls_phenotypes-combined-emerge.pkl')"
      ]
     },
     "metadata": {},
     "output_type": "display_data"
    }
   ],
   "source": [
    "input_filepath = Path(conf.RESULTS[\"GLS\"] / \"gls_phenotypes-combined-emerge.pkl\")\n",
    "display(input_filepath)"
   ]
  },
  {
   "cell_type": "code",
   "execution_count": 14,
   "id": "anticipated-volunteer",
   "metadata": {},
   "outputs": [],
   "source": [
    "emerge_lv_trait_assocs = pd.read_pickle(input_filepath)"
   ]
  },
  {
   "cell_type": "code",
   "execution_count": 15,
   "id": "authentic-wright",
   "metadata": {},
   "outputs": [
    {
     "data": {
      "text/plain": [
       "(7725, 6)"
      ]
     },
     "execution_count": 15,
     "metadata": {},
     "output_type": "execute_result"
    }
   ],
   "source": [
    "emerge_lv_trait_assocs.shape"
   ]
  },
  {
   "cell_type": "code",
   "execution_count": 16,
   "id": "remarkable-intent",
   "metadata": {},
   "outputs": [
    {
     "data": {
      "text/html": [
       "<div>\n",
       "<style scoped>\n",
       "    .dataframe tbody tr th:only-of-type {\n",
       "        vertical-align: middle;\n",
       "    }\n",
       "\n",
       "    .dataframe tbody tr th {\n",
       "        vertical-align: top;\n",
       "    }\n",
       "\n",
       "    .dataframe thead th {\n",
       "        text-align: right;\n",
       "    }\n",
       "</style>\n",
       "<table border=\"1\" class=\"dataframe\">\n",
       "  <thead>\n",
       "    <tr style=\"text-align: right;\">\n",
       "      <th></th>\n",
       "      <th>phenotype</th>\n",
       "      <th>lv</th>\n",
       "      <th>coef</th>\n",
       "      <th>pvalue</th>\n",
       "      <th>pvalue_twosided</th>\n",
       "      <th>fdr</th>\n",
       "    </tr>\n",
       "  </thead>\n",
       "  <tbody>\n",
       "    <tr>\n",
       "      <th>0</th>\n",
       "      <td>008</td>\n",
       "      <td>LV246</td>\n",
       "      <td>-0.011008</td>\n",
       "      <td>0.809325</td>\n",
       "      <td>0.381350</td>\n",
       "      <td>0.999418</td>\n",
       "    </tr>\n",
       "    <tr>\n",
       "      <th>1</th>\n",
       "      <td>008</td>\n",
       "      <td>LV30</td>\n",
       "      <td>0.022387</td>\n",
       "      <td>0.038699</td>\n",
       "      <td>0.077397</td>\n",
       "      <td>0.483734</td>\n",
       "    </tr>\n",
       "    <tr>\n",
       "      <th>2</th>\n",
       "      <td>008</td>\n",
       "      <td>LV57</td>\n",
       "      <td>0.003960</td>\n",
       "      <td>0.379121</td>\n",
       "      <td>0.758243</td>\n",
       "      <td>0.961449</td>\n",
       "    </tr>\n",
       "    <tr>\n",
       "      <th>3</th>\n",
       "      <td>008</td>\n",
       "      <td>LV865</td>\n",
       "      <td>-0.008742</td>\n",
       "      <td>0.758337</td>\n",
       "      <td>0.483327</td>\n",
       "      <td>0.999418</td>\n",
       "    </tr>\n",
       "    <tr>\n",
       "      <th>4</th>\n",
       "      <td>008</td>\n",
       "      <td>LV847</td>\n",
       "      <td>-0.028246</td>\n",
       "      <td>0.985827</td>\n",
       "      <td>0.028346</td>\n",
       "      <td>0.999418</td>\n",
       "    </tr>\n",
       "  </tbody>\n",
       "</table>\n",
       "</div>"
      ],
      "text/plain": [
       "  phenotype     lv      coef    pvalue  pvalue_twosided       fdr\n",
       "0       008  LV246 -0.011008  0.809325         0.381350  0.999418\n",
       "1       008   LV30  0.022387  0.038699         0.077397  0.483734\n",
       "2       008   LV57  0.003960  0.379121         0.758243  0.961449\n",
       "3       008  LV865 -0.008742  0.758337         0.483327  0.999418\n",
       "4       008  LV847 -0.028246  0.985827         0.028346  0.999418"
      ]
     },
     "execution_count": 16,
     "metadata": {},
     "output_type": "execute_result"
    }
   ],
   "source": [
    "emerge_lv_trait_assocs.head()"
   ]
  },
  {
   "cell_type": "markdown",
   "id": "concrete-reconstruction",
   "metadata": {},
   "source": [
    "## eMERGE traits info"
   ]
  },
  {
   "cell_type": "code",
   "execution_count": 17,
   "id": "existing-qualification",
   "metadata": {},
   "outputs": [
    {
     "data": {
      "text/plain": [
       "PosixPath('/home/miltondp/projects/labs/greenelab/phenoplier/bases_data/base_orig/data/emerge/eMERGE_III_PMBB_GSA_v2_2020_phecode_AFR_EUR_cc50_counts_w_dictionary.txt')"
      ]
     },
     "metadata": {},
     "output_type": "display_data"
    }
   ],
   "source": [
    "input_filepath = conf.EMERGE[\"DESC_FILE_WITH_SAMPLE_SIZE\"]\n",
    "display(input_filepath)"
   ]
  },
  {
   "cell_type": "code",
   "execution_count": 18,
   "id": "recent-monaco",
   "metadata": {},
   "outputs": [],
   "source": [
    "emerge_traits_info = pd.read_csv(\n",
    "    input_filepath,\n",
    "    sep=\"\\t\",\n",
    "    dtype={\"phecode\": str},\n",
    "    usecols=[\n",
    "        \"phecode\",\n",
    "        \"phenotype\",\n",
    "        \"category\",\n",
    "        \"eMERGE_III_EUR_case\",\n",
    "        \"eMERGE_III_EUR_control\",\n",
    "    ],\n",
    ")"
   ]
  },
  {
   "cell_type": "code",
   "execution_count": 19,
   "id": "meaning-cuisine",
   "metadata": {},
   "outputs": [],
   "source": [
    "emerge_traits_info = emerge_traits_info.set_index(\"phecode\")"
   ]
  },
  {
   "cell_type": "code",
   "execution_count": 20,
   "id": "copyrighted-model",
   "metadata": {},
   "outputs": [],
   "source": [
    "emerge_traits_info = emerge_traits_info.rename(\n",
    "    columns={\n",
    "        \"eMERGE_III_EUR_case\": \"eur_n_cases\",\n",
    "        \"eMERGE_III_EUR_control\": \"eur_n_controls\",\n",
    "    }\n",
    ")"
   ]
  },
  {
   "cell_type": "code",
   "execution_count": 21,
   "id": "funded-check",
   "metadata": {},
   "outputs": [
    {
     "data": {
      "text/plain": [
       "(309, 4)"
      ]
     },
     "execution_count": 21,
     "metadata": {},
     "output_type": "execute_result"
    }
   ],
   "source": [
    "emerge_traits_info.shape"
   ]
  },
  {
   "cell_type": "code",
   "execution_count": 22,
   "id": "involved-vault",
   "metadata": {},
   "outputs": [
    {
     "data": {
      "text/html": [
       "<div>\n",
       "<style scoped>\n",
       "    .dataframe tbody tr th:only-of-type {\n",
       "        vertical-align: middle;\n",
       "    }\n",
       "\n",
       "    .dataframe tbody tr th {\n",
       "        vertical-align: top;\n",
       "    }\n",
       "\n",
       "    .dataframe thead th {\n",
       "        text-align: right;\n",
       "    }\n",
       "</style>\n",
       "<table border=\"1\" class=\"dataframe\">\n",
       "  <thead>\n",
       "    <tr style=\"text-align: right;\">\n",
       "      <th></th>\n",
       "      <th>eur_n_cases</th>\n",
       "      <th>eur_n_controls</th>\n",
       "      <th>phenotype</th>\n",
       "      <th>category</th>\n",
       "    </tr>\n",
       "    <tr>\n",
       "      <th>phecode</th>\n",
       "      <th></th>\n",
       "      <th></th>\n",
       "      <th></th>\n",
       "      <th></th>\n",
       "    </tr>\n",
       "  </thead>\n",
       "  <tbody>\n",
       "    <tr>\n",
       "      <th>008</th>\n",
       "      <td>1639</td>\n",
       "      <td>57495</td>\n",
       "      <td>Intestinal infection</td>\n",
       "      <td>infectious diseases</td>\n",
       "    </tr>\n",
       "    <tr>\n",
       "      <th>008.5</th>\n",
       "      <td>1024</td>\n",
       "      <td>57495</td>\n",
       "      <td>Bacterial enteritis</td>\n",
       "      <td>infectious diseases</td>\n",
       "    </tr>\n",
       "    <tr>\n",
       "      <th>008.52</th>\n",
       "      <td>893</td>\n",
       "      <td>57495</td>\n",
       "      <td>Intestinal infection due to C. difficile</td>\n",
       "      <td>infectious diseases</td>\n",
       "    </tr>\n",
       "    <tr>\n",
       "      <th>038</th>\n",
       "      <td>3172</td>\n",
       "      <td>50610</td>\n",
       "      <td>Septicemia</td>\n",
       "      <td>infectious diseases</td>\n",
       "    </tr>\n",
       "    <tr>\n",
       "      <th>038.3</th>\n",
       "      <td>1361</td>\n",
       "      <td>50610</td>\n",
       "      <td>Bacteremia</td>\n",
       "      <td>infectious diseases</td>\n",
       "    </tr>\n",
       "  </tbody>\n",
       "</table>\n",
       "</div>"
      ],
      "text/plain": [
       "         eur_n_cases  eur_n_controls  \\\n",
       "phecode                                \n",
       "008             1639           57495   \n",
       "008.5           1024           57495   \n",
       "008.52           893           57495   \n",
       "038             3172           50610   \n",
       "038.3           1361           50610   \n",
       "\n",
       "                                        phenotype             category  \n",
       "phecode                                                                 \n",
       "008                          Intestinal infection  infectious diseases  \n",
       "008.5                         Bacterial enteritis  infectious diseases  \n",
       "008.52   Intestinal infection due to C. difficile  infectious diseases  \n",
       "038                                    Septicemia  infectious diseases  \n",
       "038.3                                  Bacteremia  infectious diseases  "
      ]
     },
     "execution_count": 22,
     "metadata": {},
     "output_type": "execute_result"
    }
   ],
   "source": [
    "emerge_traits_info.head()"
   ]
  },
  {
   "cell_type": "code",
   "execution_count": 23,
   "id": "prompt-orientation",
   "metadata": {},
   "outputs": [],
   "source": [
    "assert emerge_traits_info.index.is_unique"
   ]
  },
  {
   "cell_type": "markdown",
   "id": "entire-point",
   "metadata": {
    "lines_to_next_cell": 2
   },
   "source": [
    "# Trait associations"
   ]
  },
  {
   "cell_type": "markdown",
   "id": "prostate-tourist",
   "metadata": {},
   "source": [
    "## PhenomeXcan"
   ]
  },
  {
   "cell_type": "code",
   "execution_count": 24,
   "id": "crazy-injury",
   "metadata": {},
   "outputs": [],
   "source": [
    "from traits import SHORT_TRAIT_NAMES"
   ]
  },
  {
   "cell_type": "code",
   "execution_count": 25,
   "id": "nuclear-dakota",
   "metadata": {
    "lines_to_next_cell": 1
   },
   "outputs": [],
   "source": [
    "result_set = \"phenomexcan\""
   ]
  },
  {
   "cell_type": "code",
   "execution_count": 26,
   "id": "derived-transcription",
   "metadata": {},
   "outputs": [],
   "source": [
    "def get_trait_objs(phenotype_full_code):\n",
    "    if Trait.is_efo_label(phenotype_full_code):\n",
    "        traits = Trait.get_traits_from_efo(phenotype_full_code)\n",
    "    else:\n",
    "        traits = [Trait.get_trait(full_code=phenotype_full_code)]\n",
    "\n",
    "    # sort by sample size\n",
    "    return sorted(traits, key=lambda x: x.n_cases / x.n, reverse=True)\n",
    "\n",
    "\n",
    "def get_trait_description(phenotype_full_code):\n",
    "    traits = get_trait_objs(phenotype_full_code)\n",
    "\n",
    "    desc = traits[0].description\n",
    "    if desc in SHORT_TRAIT_NAMES:\n",
    "        return SHORT_TRAIT_NAMES[desc]\n",
    "\n",
    "    return desc\n",
    "\n",
    "\n",
    "def get_trait_n(phenotype_full_code):\n",
    "    traits = get_trait_objs(phenotype_full_code)\n",
    "\n",
    "    return traits[0].n\n",
    "\n",
    "\n",
    "def get_trait_n_cases(phenotype_full_code):\n",
    "    traits = get_trait_objs(phenotype_full_code)\n",
    "\n",
    "    return traits[0].n_cases\n",
    "\n",
    "\n",
    "def num_to_int_str(num):\n",
    "    if pd.isnull(num):\n",
    "        return \"\"\n",
    "\n",
    "    return f\"{num:,.0f}\"\n",
    "\n",
    "\n",
    "def get_part_clust(row):\n",
    "    return f\"{row.part_k} / {row.cluster_id}\""
   ]
  },
  {
   "cell_type": "code",
   "execution_count": 27,
   "id": "functioning-riding",
   "metadata": {},
   "outputs": [],
   "source": [
    "lv_assocs = phenomexcan_lv_trait_assocs[\n",
    "    (phenomexcan_lv_trait_assocs[\"lv\"] == LV_NAME)\n",
    "    & (phenomexcan_lv_trait_assocs[\"fdr\"] < 0.05)\n",
    "].sort_values(\"fdr\")"
   ]
  },
  {
   "cell_type": "code",
   "execution_count": 28,
   "id": "intellectual-section",
   "metadata": {},
   "outputs": [
    {
     "data": {
      "text/html": [
       "<div>\n",
       "<style scoped>\n",
       "    .dataframe tbody tr th:only-of-type {\n",
       "        vertical-align: middle;\n",
       "    }\n",
       "\n",
       "    .dataframe tbody tr th {\n",
       "        vertical-align: top;\n",
       "    }\n",
       "\n",
       "    .dataframe thead th {\n",
       "        text-align: right;\n",
       "    }\n",
       "</style>\n",
       "<table border=\"1\" class=\"dataframe\">\n",
       "  <thead>\n",
       "    <tr style=\"text-align: right;\">\n",
       "      <th></th>\n",
       "      <th>part_k</th>\n",
       "      <th>cluster_id</th>\n",
       "      <th>phenotype</th>\n",
       "      <th>lv</th>\n",
       "      <th>coef</th>\n",
       "      <th>pvalue</th>\n",
       "      <th>pvalue_twosided</th>\n",
       "      <th>fdr</th>\n",
       "    </tr>\n",
       "  </thead>\n",
       "  <tbody>\n",
       "    <tr>\n",
       "      <th>4712</th>\n",
       "      <td>29</td>\n",
       "      <td>16</td>\n",
       "      <td>MAGNETIC_CH2.DB.ratio</td>\n",
       "      <td>LV206</td>\n",
       "      <td>0.123779</td>\n",
       "      <td>5.947343e-23</td>\n",
       "      <td>1.189469e-22</td>\n",
       "      <td>5.040383e-21</td>\n",
       "    </tr>\n",
       "    <tr>\n",
       "      <th>4737</th>\n",
       "      <td>29</td>\n",
       "      <td>16</td>\n",
       "      <td>MAGNETIC_HDL.C</td>\n",
       "      <td>LV206</td>\n",
       "      <td>0.039517</td>\n",
       "      <td>7.486920e-04</td>\n",
       "      <td>1.497384e-03</td>\n",
       "      <td>5.203049e-03</td>\n",
       "    </tr>\n",
       "  </tbody>\n",
       "</table>\n",
       "</div>"
      ],
      "text/plain": [
       "      part_k  cluster_id              phenotype     lv      coef  \\\n",
       "4712      29          16  MAGNETIC_CH2.DB.ratio  LV206  0.123779   \n",
       "4737      29          16         MAGNETIC_HDL.C  LV206  0.039517   \n",
       "\n",
       "            pvalue  pvalue_twosided           fdr  \n",
       "4712  5.947343e-23     1.189469e-22  5.040383e-21  \n",
       "4737  7.486920e-04     1.497384e-03  5.203049e-03  "
      ]
     },
     "metadata": {},
     "output_type": "display_data"
    }
   ],
   "source": [
    "with pd.option_context(\n",
    "    \"display.max_rows\", None, \"display.max_columns\", None, \"display.max_colwidth\", None\n",
    "):\n",
    "    display(lv_assocs)"
   ]
  },
  {
   "cell_type": "code",
   "execution_count": 29,
   "id": "loose-conflict",
   "metadata": {},
   "outputs": [],
   "source": [
    "lv_assocs = lv_assocs.assign(\n",
    "    phenotype_desc=lv_assocs[\"phenotype\"].apply(get_trait_description)\n",
    ")"
   ]
  },
  {
   "cell_type": "code",
   "execution_count": 30,
   "id": "polish-rachel",
   "metadata": {},
   "outputs": [],
   "source": [
    "lv_assocs = lv_assocs.assign(n=lv_assocs[\"phenotype\"].apply(get_trait_n))"
   ]
  },
  {
   "cell_type": "code",
   "execution_count": 31,
   "id": "confident-resistance",
   "metadata": {},
   "outputs": [],
   "source": [
    "lv_assocs = lv_assocs.assign(n_cases=lv_assocs[\"phenotype\"].apply(get_trait_n_cases))"
   ]
  },
  {
   "cell_type": "code",
   "execution_count": 32,
   "id": "bizarre-score",
   "metadata": {},
   "outputs": [],
   "source": [
    "lv_assocs = lv_assocs.assign(coef=lv_assocs[\"coef\"].apply(lambda x: f\"{x:.3f}\"))"
   ]
  },
  {
   "cell_type": "code",
   "execution_count": 33,
   "id": "smart-congress",
   "metadata": {},
   "outputs": [],
   "source": [
    "lv_assocs = lv_assocs.assign(\n",
    "    fdr=lv_assocs[\"fdr\"].apply(lambda x: f\"{x:.2e}\".replace(\"-\", \"&#8209;\"))\n",
    ")"
   ]
  },
  {
   "cell_type": "code",
   "execution_count": 34,
   "id": "familiar-access",
   "metadata": {},
   "outputs": [],
   "source": [
    "lv_assocs = lv_assocs.assign(n=lv_assocs[\"n\"].apply(num_to_int_str))"
   ]
  },
  {
   "cell_type": "code",
   "execution_count": 35,
   "id": "satisfied-malawi",
   "metadata": {},
   "outputs": [],
   "source": [
    "lv_assocs = lv_assocs.assign(n_cases=lv_assocs[\"n_cases\"].apply(num_to_int_str))"
   ]
  },
  {
   "cell_type": "code",
   "execution_count": 36,
   "id": "ranking-journalism",
   "metadata": {},
   "outputs": [],
   "source": [
    "lv_assocs = lv_assocs.assign(part_clust=lv_assocs.apply(get_part_clust, axis=1))"
   ]
  },
  {
   "cell_type": "code",
   "execution_count": 37,
   "id": "discrete-kitty",
   "metadata": {},
   "outputs": [],
   "source": [
    "lv_assocs = lv_assocs.drop(columns=[\"phenotype\"])"
   ]
  },
  {
   "cell_type": "code",
   "execution_count": 38,
   "id": "alternative-resort",
   "metadata": {},
   "outputs": [
    {
     "data": {
      "text/plain": [
       "(2, 11)"
      ]
     },
     "execution_count": 38,
     "metadata": {},
     "output_type": "execute_result"
    }
   ],
   "source": [
    "lv_assocs.shape"
   ]
  },
  {
   "cell_type": "code",
   "execution_count": 39,
   "id": "unusual-cattle",
   "metadata": {},
   "outputs": [],
   "source": [
    "lv_assocs = lv_assocs[[\"phenotype_desc\", \"n\", \"n_cases\", \"part_clust\", \"fdr\"]]"
   ]
  },
  {
   "cell_type": "code",
   "execution_count": 40,
   "id": "super-waterproof",
   "metadata": {},
   "outputs": [],
   "source": [
    "lv_assocs = lv_assocs.rename(\n",
    "    columns={\n",
    "        \"part_clust\": \"Partition / cluster\",\n",
    "        \"lv\": \"Latent variable (LV)\",\n",
    "        #         \"coef\": r\"$\\beta$\",\n",
    "        \"fdr\": \"FDR\",\n",
    "        \"phenotype_desc\": \"Trait description\",\n",
    "        \"n\": \"Sample size\",\n",
    "        \"n_cases\": \"Cases\",\n",
    "    }\n",
    ")"
   ]
  },
  {
   "cell_type": "code",
   "execution_count": 41,
   "id": "substantial-sandwich",
   "metadata": {},
   "outputs": [
    {
     "data": {
      "text/html": [
       "<div>\n",
       "<style scoped>\n",
       "    .dataframe tbody tr th:only-of-type {\n",
       "        vertical-align: middle;\n",
       "    }\n",
       "\n",
       "    .dataframe tbody tr th {\n",
       "        vertical-align: top;\n",
       "    }\n",
       "\n",
       "    .dataframe thead th {\n",
       "        text-align: right;\n",
       "    }\n",
       "</style>\n",
       "<table border=\"1\" class=\"dataframe\">\n",
       "  <thead>\n",
       "    <tr style=\"text-align: right;\">\n",
       "      <th></th>\n",
       "      <th>Trait description</th>\n",
       "      <th>Sample size</th>\n",
       "      <th>Cases</th>\n",
       "      <th>Partition / cluster</th>\n",
       "      <th>FDR</th>\n",
       "    </tr>\n",
       "  </thead>\n",
       "  <tbody>\n",
       "    <tr>\n",
       "      <th>4712</th>\n",
       "      <td>CH2DB NMR</td>\n",
       "      <td>24,154</td>\n",
       "      <td></td>\n",
       "      <td>29 / 16</td>\n",
       "      <td>5.04e&amp;#8209;21</td>\n",
       "    </tr>\n",
       "    <tr>\n",
       "      <th>4737</th>\n",
       "      <td>HDL Cholesterol NMR</td>\n",
       "      <td>19,270</td>\n",
       "      <td></td>\n",
       "      <td>29 / 16</td>\n",
       "      <td>5.20e&amp;#8209;03</td>\n",
       "    </tr>\n",
       "  </tbody>\n",
       "</table>\n",
       "</div>"
      ],
      "text/plain": [
       "        Trait description Sample size Cases Partition / cluster  \\\n",
       "4712            CH2DB NMR      24,154                   29 / 16   \n",
       "4737  HDL Cholesterol NMR      19,270                   29 / 16   \n",
       "\n",
       "                 FDR  \n",
       "4712  5.04e&#8209;21  \n",
       "4737  5.20e&#8209;03  "
      ]
     },
     "metadata": {},
     "output_type": "display_data"
    }
   ],
   "source": [
    "with pd.option_context(\n",
    "    \"display.max_rows\", None, \"display.max_columns\", None, \"display.max_colwidth\", None\n",
    "):\n",
    "    display(lv_assocs)"
   ]
  },
  {
   "cell_type": "markdown",
   "id": "postal-trademark",
   "metadata": {},
   "source": [
    "### Fill empty"
   ]
  },
  {
   "cell_type": "code",
   "execution_count": 42,
   "id": "representative-petersburg",
   "metadata": {},
   "outputs": [],
   "source": [
    "if lv_assocs.shape[0] == 0:\n",
    "    lv_assocs.loc[0, \"Trait description\"] = \"No significant associations\"\n",
    "    lv_assocs = lv_assocs.fillna(\"\")"
   ]
  },
  {
   "cell_type": "markdown",
   "id": "religious-tablet",
   "metadata": {},
   "source": [
    "### Save"
   ]
  },
  {
   "cell_type": "code",
   "execution_count": 43,
   "id": "endless-credits",
   "metadata": {},
   "outputs": [
    {
     "data": {
      "text/plain": [
       "'<!-- LV206:phenomexcan_traits_assocs:start -->'"
      ]
     },
     "metadata": {},
     "output_type": "display_data"
    },
    {
     "data": {
      "text/plain": [
       "'<!-- LV206:phenomexcan_traits_assocs:end -->'"
      ]
     },
     "metadata": {},
     "output_type": "display_data"
    }
   ],
   "source": [
    "# start\n",
    "lv_file_mark_start = LV_FILE_MARK_TEMPLATE.format(\n",
    "    result_set=result_set, lv=LV_NAME, position=\"start\"\n",
    ")\n",
    "display(lv_file_mark_start)\n",
    "\n",
    "# end\n",
    "lv_file_mark_end = LV_FILE_MARK_TEMPLATE.format(\n",
    "    result_set=result_set, lv=LV_NAME, position=\"end\"\n",
    ")\n",
    "display(lv_file_mark_end)"
   ]
  },
  {
   "cell_type": "code",
   "execution_count": 44,
   "id": "charming-anime",
   "metadata": {},
   "outputs": [],
   "source": [
    "new_content = lv_assocs.to_markdown(index=False, disable_numparse=True)"
   ]
  },
  {
   "cell_type": "code",
   "execution_count": 45,
   "id": "fundamental-component",
   "metadata": {},
   "outputs": [
    {
     "data": {
      "text/plain": [
       "'Table: Significant trait associations of LV206 in PhenomeXcan. {#tbl:sup:phenomexcan_assocs:lv206}'"
      ]
     },
     "metadata": {},
     "output_type": "display_data"
    }
   ],
   "source": [
    "# add table caption\n",
    "table_caption = TABLE_CAPTION.format(\n",
    "    lv_name=LV_NAME,\n",
    "    result_set_name=RESULT_SET_NAMES[result_set],\n",
    "    table_id=\"{\"\n",
    "    + TABLE_CAPTION_ID.format(result_set=result_set, lv_name_lower_case=LV_NAME.lower())\n",
    "    + \"}\",\n",
    ")\n",
    "display(table_caption)"
   ]
  },
  {
   "cell_type": "code",
   "execution_count": 46,
   "id": "natural-reduction",
   "metadata": {},
   "outputs": [],
   "source": [
    "new_content += \"\\n\\n\" + table_caption"
   ]
  },
  {
   "cell_type": "code",
   "execution_count": 47,
   "id": "international-scope",
   "metadata": {},
   "outputs": [],
   "source": [
    "full_new_content = (\n",
    "    lv_file_mark_start + \"\\n\" + new_content.strip() + \"\\n\" + lv_file_mark_end\n",
    ")"
   ]
  },
  {
   "cell_type": "code",
   "execution_count": 48,
   "id": "martial-bubble",
   "metadata": {},
   "outputs": [],
   "source": [
    "with open(OUTPUT_FILE_PATH, \"r\", encoding=\"utf8\") as f:\n",
    "    file_content = f.read()"
   ]
  },
  {
   "cell_type": "code",
   "execution_count": 49,
   "id": "entire-squad",
   "metadata": {},
   "outputs": [],
   "source": [
    "new_file_content = re.sub(\n",
    "    lv_file_mark_start + \".*?\" + lv_file_mark_end,\n",
    "    full_new_content,\n",
    "    file_content,\n",
    "    flags=re.DOTALL,\n",
    ")"
   ]
  },
  {
   "cell_type": "code",
   "execution_count": 50,
   "id": "bearing-pierre",
   "metadata": {},
   "outputs": [],
   "source": [
    "with open(OUTPUT_FILE_PATH, \"w\", encoding=\"utf8\") as f:\n",
    "    f.write(new_file_content)  # .replace(\"\\beta\", r\"\\beta\"))"
   ]
  },
  {
   "cell_type": "markdown",
   "id": "welcome-vampire",
   "metadata": {},
   "source": [
    "## eMERGE"
   ]
  },
  {
   "cell_type": "code",
   "execution_count": 51,
   "id": "after-finger",
   "metadata": {},
   "outputs": [],
   "source": [
    "result_set = \"emerge\""
   ]
  },
  {
   "cell_type": "code",
   "execution_count": 52,
   "id": "amateur-garbage",
   "metadata": {},
   "outputs": [],
   "source": [
    "lv_assocs = emerge_lv_trait_assocs[\n",
    "    (emerge_lv_trait_assocs[\"lv\"] == LV_NAME) & (emerge_lv_trait_assocs[\"fdr\"] < 0.05)\n",
    "].sort_values(\"fdr\")"
   ]
  },
  {
   "cell_type": "code",
   "execution_count": 53,
   "id": "meaningful-samuel",
   "metadata": {},
   "outputs": [
    {
     "data": {
      "text/html": [
       "<div>\n",
       "<style scoped>\n",
       "    .dataframe tbody tr th:only-of-type {\n",
       "        vertical-align: middle;\n",
       "    }\n",
       "\n",
       "    .dataframe tbody tr th {\n",
       "        vertical-align: top;\n",
       "    }\n",
       "\n",
       "    .dataframe thead th {\n",
       "        text-align: right;\n",
       "    }\n",
       "</style>\n",
       "<table border=\"1\" class=\"dataframe\">\n",
       "  <thead>\n",
       "    <tr style=\"text-align: right;\">\n",
       "      <th></th>\n",
       "      <th>phenotype</th>\n",
       "      <th>lv</th>\n",
       "      <th>coef</th>\n",
       "      <th>pvalue</th>\n",
       "      <th>pvalue_twosided</th>\n",
       "      <th>fdr</th>\n",
       "    </tr>\n",
       "  </thead>\n",
       "  <tbody>\n",
       "    <tr>\n",
       "      <th>4821</th>\n",
       "      <td>458</td>\n",
       "      <td>LV206</td>\n",
       "      <td>0.042805</td>\n",
       "      <td>0.000326</td>\n",
       "      <td>0.000653</td>\n",
       "      <td>0.030608</td>\n",
       "    </tr>\n",
       "    <tr>\n",
       "      <th>1968</th>\n",
       "      <td>286.9</td>\n",
       "      <td>LV206</td>\n",
       "      <td>0.042408</td>\n",
       "      <td>0.000395</td>\n",
       "      <td>0.000791</td>\n",
       "      <td>0.033939</td>\n",
       "    </tr>\n",
       "    <tr>\n",
       "      <th>4839</th>\n",
       "      <td>458.9</td>\n",
       "      <td>LV206</td>\n",
       "      <td>0.041925</td>\n",
       "      <td>0.000421</td>\n",
       "      <td>0.000842</td>\n",
       "      <td>0.035760</td>\n",
       "    </tr>\n",
       "    <tr>\n",
       "      <th>4136</th>\n",
       "      <td>428.2</td>\n",
       "      <td>LV206</td>\n",
       "      <td>0.041821</td>\n",
       "      <td>0.000451</td>\n",
       "      <td>0.000903</td>\n",
       "      <td>0.037098</td>\n",
       "    </tr>\n",
       "  </tbody>\n",
       "</table>\n",
       "</div>"
      ],
      "text/plain": [
       "     phenotype     lv      coef    pvalue  pvalue_twosided       fdr\n",
       "4821       458  LV206  0.042805  0.000326         0.000653  0.030608\n",
       "1968     286.9  LV206  0.042408  0.000395         0.000791  0.033939\n",
       "4839     458.9  LV206  0.041925  0.000421         0.000842  0.035760\n",
       "4136     428.2  LV206  0.041821  0.000451         0.000903  0.037098"
      ]
     },
     "metadata": {},
     "output_type": "display_data"
    }
   ],
   "source": [
    "with pd.option_context(\n",
    "    \"display.max_rows\", None, \"display.max_columns\", None, \"display.max_colwidth\", None\n",
    "):\n",
    "    display(lv_assocs)"
   ]
  },
  {
   "cell_type": "code",
   "execution_count": 54,
   "id": "analyzed-generic",
   "metadata": {},
   "outputs": [],
   "source": [
    "lv_assocs = lv_assocs.assign(\n",
    "    phenotype_desc=lv_assocs[\"phenotype\"].apply(\n",
    "        lambda x: emerge_traits_info.loc[x, \"phenotype\"]\n",
    "    )\n",
    ")"
   ]
  },
  {
   "cell_type": "code",
   "execution_count": 55,
   "id": "revolutionary-brook",
   "metadata": {},
   "outputs": [],
   "source": [
    "lv_assocs = lv_assocs.assign(\n",
    "    n=lv_assocs[\"phenotype\"].apply(\n",
    "        lambda x: emerge_traits_info.loc[x, [\"eur_n_cases\", \"eur_n_controls\"]].sum()\n",
    "    )\n",
    ")"
   ]
  },
  {
   "cell_type": "code",
   "execution_count": 56,
   "id": "obvious-morgan",
   "metadata": {},
   "outputs": [],
   "source": [
    "lv_assocs = lv_assocs.assign(\n",
    "    n_cases=lv_assocs[\"phenotype\"].apply(\n",
    "        lambda x: emerge_traits_info.loc[x, \"eur_n_cases\"]\n",
    "    )\n",
    ")"
   ]
  },
  {
   "cell_type": "code",
   "execution_count": 57,
   "id": "welcome-patrol",
   "metadata": {},
   "outputs": [],
   "source": [
    "lv_assocs = lv_assocs.assign(coef=lv_assocs[\"coef\"].apply(lambda x: f\"{x:.3f}\"))"
   ]
  },
  {
   "cell_type": "code",
   "execution_count": 58,
   "id": "humanitarian-wrestling",
   "metadata": {},
   "outputs": [],
   "source": [
    "lv_assocs = lv_assocs.assign(\n",
    "    fdr=lv_assocs[\"fdr\"].apply(lambda x: f\"{x:.2e}\".replace(\"-\", \"&#8209;\"))\n",
    ")"
   ]
  },
  {
   "cell_type": "code",
   "execution_count": 59,
   "id": "applied-hobby",
   "metadata": {},
   "outputs": [],
   "source": [
    "lv_assocs = lv_assocs.assign(n=lv_assocs[\"n\"].apply(num_to_int_str))"
   ]
  },
  {
   "cell_type": "code",
   "execution_count": 60,
   "id": "serial-climate",
   "metadata": {},
   "outputs": [],
   "source": [
    "lv_assocs = lv_assocs.assign(n_cases=lv_assocs[\"n_cases\"].apply(num_to_int_str))"
   ]
  },
  {
   "cell_type": "code",
   "execution_count": 61,
   "id": "regulated-phase",
   "metadata": {},
   "outputs": [],
   "source": [
    "lv_assocs = lv_assocs.rename(columns={\"phenotype\": \"phecode\"})"
   ]
  },
  {
   "cell_type": "code",
   "execution_count": 62,
   "id": "gross-lightweight",
   "metadata": {},
   "outputs": [
    {
     "data": {
      "text/plain": [
       "(4, 9)"
      ]
     },
     "execution_count": 62,
     "metadata": {},
     "output_type": "execute_result"
    }
   ],
   "source": [
    "lv_assocs.shape"
   ]
  },
  {
   "cell_type": "code",
   "execution_count": 63,
   "id": "leading-likelihood",
   "metadata": {},
   "outputs": [],
   "source": [
    "lv_assocs = lv_assocs[[\"phecode\", \"phenotype_desc\", \"n\", \"n_cases\", \"fdr\"]]"
   ]
  },
  {
   "cell_type": "code",
   "execution_count": 64,
   "id": "floating-honduras",
   "metadata": {},
   "outputs": [],
   "source": [
    "lv_assocs = lv_assocs.rename(\n",
    "    columns={\n",
    "        \"lv\": \"Latent variable (LV)\",\n",
    "        #         \"coef\": r\"$\\beta$\",\n",
    "        \"fdr\": \"FDR\",\n",
    "        \"phecode\": \"Phecode\",\n",
    "        \"phenotype_desc\": \"Trait description\",\n",
    "        \"n\": \"Sample size\",\n",
    "        \"n_cases\": \"Cases\",\n",
    "    }\n",
    ")"
   ]
  },
  {
   "cell_type": "code",
   "execution_count": 65,
   "id": "confused-great",
   "metadata": {},
   "outputs": [
    {
     "data": {
      "text/html": [
       "<div>\n",
       "<style scoped>\n",
       "    .dataframe tbody tr th:only-of-type {\n",
       "        vertical-align: middle;\n",
       "    }\n",
       "\n",
       "    .dataframe tbody tr th {\n",
       "        vertical-align: top;\n",
       "    }\n",
       "\n",
       "    .dataframe thead th {\n",
       "        text-align: right;\n",
       "    }\n",
       "</style>\n",
       "<table border=\"1\" class=\"dataframe\">\n",
       "  <thead>\n",
       "    <tr style=\"text-align: right;\">\n",
       "      <th></th>\n",
       "      <th>Phecode</th>\n",
       "      <th>Trait description</th>\n",
       "      <th>Sample size</th>\n",
       "      <th>Cases</th>\n",
       "      <th>FDR</th>\n",
       "    </tr>\n",
       "  </thead>\n",
       "  <tbody>\n",
       "    <tr>\n",
       "      <th>4821</th>\n",
       "      <td>458</td>\n",
       "      <td>Hypotension</td>\n",
       "      <td>51,341</td>\n",
       "      <td>4,432</td>\n",
       "      <td>3.06e&amp;#8209;02</td>\n",
       "    </tr>\n",
       "    <tr>\n",
       "      <th>1968</th>\n",
       "      <td>286.9</td>\n",
       "      <td>Abnormal coagulation profile</td>\n",
       "      <td>48,006</td>\n",
       "      <td>800</td>\n",
       "      <td>3.39e&amp;#8209;02</td>\n",
       "    </tr>\n",
       "    <tr>\n",
       "      <th>4839</th>\n",
       "      <td>458.9</td>\n",
       "      <td>Hypotension NOS</td>\n",
       "      <td>50,150</td>\n",
       "      <td>3,241</td>\n",
       "      <td>3.58e&amp;#8209;02</td>\n",
       "    </tr>\n",
       "    <tr>\n",
       "      <th>4136</th>\n",
       "      <td>428.2</td>\n",
       "      <td>Heart failure NOS</td>\n",
       "      <td>48,178</td>\n",
       "      <td>3,584</td>\n",
       "      <td>3.71e&amp;#8209;02</td>\n",
       "    </tr>\n",
       "  </tbody>\n",
       "</table>\n",
       "</div>"
      ],
      "text/plain": [
       "     Phecode             Trait description Sample size  Cases             FDR\n",
       "4821     458                   Hypotension      51,341  4,432  3.06e&#8209;02\n",
       "1968   286.9  Abnormal coagulation profile      48,006    800  3.39e&#8209;02\n",
       "4839   458.9               Hypotension NOS      50,150  3,241  3.58e&#8209;02\n",
       "4136   428.2             Heart failure NOS      48,178  3,584  3.71e&#8209;02"
      ]
     },
     "metadata": {},
     "output_type": "display_data"
    }
   ],
   "source": [
    "with pd.option_context(\n",
    "    \"display.max_rows\", None, \"display.max_columns\", None, \"display.max_colwidth\", None\n",
    "):\n",
    "    display(lv_assocs)"
   ]
  },
  {
   "cell_type": "markdown",
   "id": "respiratory-royalty",
   "metadata": {},
   "source": [
    "### Fill empty"
   ]
  },
  {
   "cell_type": "code",
   "execution_count": 66,
   "id": "accomplished-anderson",
   "metadata": {},
   "outputs": [],
   "source": [
    "if lv_assocs.shape[0] == 0:\n",
    "    lv_assocs.loc[0, \"Phecode\"] = \"No significant associations\"\n",
    "    lv_assocs = lv_assocs.fillna(\"\")"
   ]
  },
  {
   "cell_type": "markdown",
   "id": "instructional-fancy",
   "metadata": {},
   "source": [
    "### Save"
   ]
  },
  {
   "cell_type": "code",
   "execution_count": 67,
   "id": "reasonable-singing",
   "metadata": {},
   "outputs": [
    {
     "data": {
      "text/plain": [
       "'<!-- LV206:emerge_traits_assocs:start -->'"
      ]
     },
     "metadata": {},
     "output_type": "display_data"
    },
    {
     "data": {
      "text/plain": [
       "'<!-- LV206:emerge_traits_assocs:end -->'"
      ]
     },
     "metadata": {},
     "output_type": "display_data"
    }
   ],
   "source": [
    "# start\n",
    "lv_file_mark_start = LV_FILE_MARK_TEMPLATE.format(\n",
    "    result_set=result_set, lv=LV_NAME, position=\"start\"\n",
    ")\n",
    "display(lv_file_mark_start)\n",
    "\n",
    "# end\n",
    "lv_file_mark_end = LV_FILE_MARK_TEMPLATE.format(\n",
    "    result_set=result_set, lv=LV_NAME, position=\"end\"\n",
    ")\n",
    "display(lv_file_mark_end)"
   ]
  },
  {
   "cell_type": "code",
   "execution_count": 68,
   "id": "supported-mayor",
   "metadata": {},
   "outputs": [],
   "source": [
    "new_content = lv_assocs.to_markdown(index=False, disable_numparse=True)"
   ]
  },
  {
   "cell_type": "code",
   "execution_count": 69,
   "id": "fatal-positive",
   "metadata": {},
   "outputs": [
    {
     "data": {
      "text/plain": [
       "'Table: Significant trait associations of LV206 in eMERGE. {#tbl:sup:emerge_assocs:lv206}'"
      ]
     },
     "metadata": {},
     "output_type": "display_data"
    }
   ],
   "source": [
    "# add table caption\n",
    "table_caption = TABLE_CAPTION.format(\n",
    "    lv_name=LV_NAME,\n",
    "    result_set_name=RESULT_SET_NAMES[result_set],\n",
    "    table_id=\"{\"\n",
    "    + TABLE_CAPTION_ID.format(result_set=result_set, lv_name_lower_case=LV_NAME.lower())\n",
    "    + \"}\",\n",
    ")\n",
    "display(table_caption)"
   ]
  },
  {
   "cell_type": "code",
   "execution_count": 70,
   "id": "racial-cattle",
   "metadata": {},
   "outputs": [],
   "source": [
    "new_content += \"\\n\\n\" + table_caption"
   ]
  },
  {
   "cell_type": "code",
   "execution_count": 71,
   "id": "discrete-novelty",
   "metadata": {},
   "outputs": [],
   "source": [
    "full_new_content = (\n",
    "    lv_file_mark_start + \"\\n\" + new_content.strip() + \"\\n\" + lv_file_mark_end\n",
    ")"
   ]
  },
  {
   "cell_type": "code",
   "execution_count": 72,
   "id": "black-browse",
   "metadata": {},
   "outputs": [],
   "source": [
    "with open(OUTPUT_FILE_PATH, \"r\", encoding=\"utf8\") as f:\n",
    "    file_content = f.read()"
   ]
  },
  {
   "cell_type": "code",
   "execution_count": 73,
   "id": "prompt-nebraska",
   "metadata": {},
   "outputs": [],
   "source": [
    "new_file_content = re.sub(\n",
    "    lv_file_mark_start + \".*?\" + lv_file_mark_end,\n",
    "    full_new_content,\n",
    "    file_content,\n",
    "    flags=re.DOTALL,\n",
    ")"
   ]
  },
  {
   "cell_type": "code",
   "execution_count": 74,
   "id": "controversial-apple",
   "metadata": {},
   "outputs": [],
   "source": [
    "with open(OUTPUT_FILE_PATH, \"w\", encoding=\"utf8\") as f:\n",
    "    f.write(new_file_content)  # .replace(\"\\beta\", r\"\\beta\"))"
   ]
  },
  {
   "cell_type": "code",
   "execution_count": null,
   "id": "authentic-airport",
   "metadata": {},
   "outputs": [],
   "source": []
  }
 ],
 "metadata": {
  "jupytext": {
   "cell_metadata_filter": "all,-execution,-papermill,-trusted",
   "formats": "ipynb,py//py:percent"
  },
  "kernelspec": {
   "display_name": "Python 3",
   "language": "python",
   "name": "python3"
  },
  "language_info": {
   "codemirror_mode": {
    "name": "ipython",
    "version": 3
   },
   "file_extension": ".py",
   "mimetype": "text/x-python",
   "name": "python",
   "nbconvert_exporter": "python",
   "pygments_lexer": "ipython3",
   "version": "3.8.8"
  },
  "toc-autonumbering": true
 },
 "nbformat": 4,
 "nbformat_minor": 5
}
