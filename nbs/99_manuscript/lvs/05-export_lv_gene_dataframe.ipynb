{
 "cells": [
  {
   "cell_type": "markdown",
   "id": "artificial-zambia",
   "metadata": {
    "papermill": {
     "duration": 0.01585,
     "end_time": "2021-08-20T15:58:19.761596",
     "exception": false,
     "start_time": "2021-08-20T15:58:19.745746",
     "status": "completed"
    },
    "tags": []
   },
   "source": [
    "# Description"
   ]
  },
  {
   "cell_type": "markdown",
   "id": "polyphonic-charleston",
   "metadata": {
    "papermill": {
     "duration": 0.015016,
     "end_time": "2021-08-20T15:58:19.791780",
     "exception": false,
     "start_time": "2021-08-20T15:58:19.776764",
     "status": "completed"
    },
    "tags": []
   },
   "source": [
    "This notebook generates more end-user-friendly Excel files of some of the data generated in PhenoPLIER, such as the LV-gene matrix and LV-pathways."
   ]
  },
  {
   "cell_type": "markdown",
   "id": "persistent-member",
   "metadata": {
    "papermill": {
     "duration": 0.015149,
     "end_time": "2021-08-20T15:58:19.822197",
     "exception": false,
     "start_time": "2021-08-20T15:58:19.807048",
     "status": "completed"
    },
    "tags": []
   },
   "source": [
    "# Modules loading"
   ]
  },
  {
   "cell_type": "code",
   "execution_count": 1,
   "id": "sunrise-latvia",
   "metadata": {
    "execution": {
     "iopub.execute_input": "2021-08-20T15:58:19.859717Z",
     "iopub.status.busy": "2021-08-20T15:58:19.859317Z",
     "iopub.status.idle": "2021-08-20T15:58:20.176641Z",
     "shell.execute_reply": "2021-08-20T15:58:20.176203Z"
    },
    "papermill": {
     "duration": 0.339225,
     "end_time": "2021-08-20T15:58:20.176746",
     "exception": false,
     "start_time": "2021-08-20T15:58:19.837521",
     "status": "completed"
    },
    "tags": []
   },
   "outputs": [],
   "source": [
    "import pandas as pd\n",
    "import openpyxl\n",
    "from openpyxl.utils import get_column_letter\n",
    "\n",
    "import conf\n",
    "from utils import get_git_repository_path"
   ]
  },
  {
   "cell_type": "markdown",
   "id": "unlikely-angle",
   "metadata": {
    "papermill": {
     "duration": 0.016182,
     "end_time": "2021-08-20T15:58:20.209069",
     "exception": false,
     "start_time": "2021-08-20T15:58:20.192887",
     "status": "completed"
    },
    "tags": []
   },
   "source": [
    "# Settings"
   ]
  },
  {
   "cell_type": "code",
   "execution_count": 2,
   "id": "disabled-restriction",
   "metadata": {
    "execution": {
     "iopub.execute_input": "2021-08-20T15:58:20.246718Z",
     "iopub.status.busy": "2021-08-20T15:58:20.244286Z",
     "iopub.status.idle": "2021-08-20T15:58:20.257389Z",
     "shell.execute_reply": "2021-08-20T15:58:20.257025Z"
    },
    "papermill": {
     "duration": 0.031715,
     "end_time": "2021-08-20T15:58:20.257477",
     "exception": false,
     "start_time": "2021-08-20T15:58:20.225762",
     "status": "completed"
    },
    "tags": []
   },
   "outputs": [
    {
     "data": {
      "text/plain": [
       "PosixPath('/home/miltondp/projects/labs/greenelab/phenoplier/data')"
      ]
     },
     "metadata": {},
     "output_type": "display_data"
    }
   ],
   "source": [
    "DELIVERABLES_BASE_DIR = get_git_repository_path() / \"data\"\n",
    "display(DELIVERABLES_BASE_DIR)"
   ]
  },
  {
   "cell_type": "code",
   "execution_count": 3,
   "id": "analyzed-glance",
   "metadata": {
    "execution": {
     "iopub.execute_input": "2021-08-20T15:58:20.295687Z",
     "iopub.status.busy": "2021-08-20T15:58:20.295219Z",
     "iopub.status.idle": "2021-08-20T15:58:20.298120Z",
     "shell.execute_reply": "2021-08-20T15:58:20.297787Z"
    },
    "papermill": {
     "duration": 0.023548,
     "end_time": "2021-08-20T15:58:20.298214",
     "exception": false,
     "start_time": "2021-08-20T15:58:20.274666",
     "status": "completed"
    },
    "tags": []
   },
   "outputs": [
    {
     "data": {
      "text/plain": [
       "PosixPath('/home/miltondp/projects/labs/greenelab/phenoplier/data/multiplier')"
      ]
     },
     "metadata": {},
     "output_type": "display_data"
    }
   ],
   "source": [
    "OUTPUT_DIR = DELIVERABLES_BASE_DIR / \"multiplier\"\n",
    "OUTPUT_DIR.mkdir(parents=True, exist_ok=True)\n",
    "display(OUTPUT_DIR)"
   ]
  },
  {
   "cell_type": "markdown",
   "id": "japanese-adaptation",
   "metadata": {
    "papermill": {
     "duration": 0.016468,
     "end_time": "2021-08-20T15:58:20.332082",
     "exception": false,
     "start_time": "2021-08-20T15:58:20.315614",
     "status": "completed"
    },
    "tags": []
   },
   "source": [
    "# Load data"
   ]
  },
  {
   "cell_type": "markdown",
   "id": "stupid-wholesale",
   "metadata": {
    "papermill": {
     "duration": 0.017589,
     "end_time": "2021-08-20T15:58:20.366864",
     "exception": false,
     "start_time": "2021-08-20T15:58:20.349275",
     "status": "completed"
    },
    "tags": []
   },
   "source": [
    "## MultiPLIER summary"
   ]
  },
  {
   "cell_type": "code",
   "execution_count": 4,
   "id": "pending-profile",
   "metadata": {
    "execution": {
     "iopub.execute_input": "2021-08-20T15:58:20.405085Z",
     "iopub.status.busy": "2021-08-20T15:58:20.404681Z",
     "iopub.status.idle": "2021-08-20T15:58:20.412612Z",
     "shell.execute_reply": "2021-08-20T15:58:20.412904Z"
    },
    "papermill": {
     "duration": 0.028919,
     "end_time": "2021-08-20T15:58:20.413015",
     "exception": false,
     "start_time": "2021-08-20T15:58:20.384096",
     "status": "completed"
    },
    "tags": []
   },
   "outputs": [],
   "source": [
    "multiplier_model_summary = pd.read_pickle(conf.MULTIPLIER[\"MODEL_SUMMARY_FILE\"])"
   ]
  },
  {
   "cell_type": "code",
   "execution_count": 5,
   "id": "vulnerable-partition",
   "metadata": {
    "execution": {
     "iopub.execute_input": "2021-08-20T15:58:20.451157Z",
     "iopub.status.busy": "2021-08-20T15:58:20.450716Z",
     "iopub.status.idle": "2021-08-20T15:58:20.452714Z",
     "shell.execute_reply": "2021-08-20T15:58:20.453020Z"
    },
    "papermill": {
     "duration": 0.022529,
     "end_time": "2021-08-20T15:58:20.453137",
     "exception": false,
     "start_time": "2021-08-20T15:58:20.430608",
     "status": "completed"
    },
    "tags": []
   },
   "outputs": [
    {
     "data": {
      "text/plain": [
       "(2157, 5)"
      ]
     },
     "execution_count": 5,
     "metadata": {},
     "output_type": "execute_result"
    }
   ],
   "source": [
    "multiplier_model_summary.shape"
   ]
  },
  {
   "cell_type": "code",
   "execution_count": 6,
   "id": "strong-jumping",
   "metadata": {
    "execution": {
     "iopub.execute_input": "2021-08-20T15:58:20.500382Z",
     "iopub.status.busy": "2021-08-20T15:58:20.499979Z",
     "iopub.status.idle": "2021-08-20T15:58:20.507103Z",
     "shell.execute_reply": "2021-08-20T15:58:20.506716Z"
    },
    "papermill": {
     "duration": 0.036629,
     "end_time": "2021-08-20T15:58:20.507199",
     "exception": false,
     "start_time": "2021-08-20T15:58:20.470570",
     "status": "completed"
    },
    "tags": []
   },
   "outputs": [
    {
     "data": {
      "text/html": [
       "<div>\n",
       "<style scoped>\n",
       "    .dataframe tbody tr th:only-of-type {\n",
       "        vertical-align: middle;\n",
       "    }\n",
       "\n",
       "    .dataframe tbody tr th {\n",
       "        vertical-align: top;\n",
       "    }\n",
       "\n",
       "    .dataframe thead th {\n",
       "        text-align: right;\n",
       "    }\n",
       "</style>\n",
       "<table border=\"1\" class=\"dataframe\">\n",
       "  <thead>\n",
       "    <tr style=\"text-align: right;\">\n",
       "      <th></th>\n",
       "      <th>pathway</th>\n",
       "      <th>LV index</th>\n",
       "      <th>AUC</th>\n",
       "      <th>p-value</th>\n",
       "      <th>FDR</th>\n",
       "    </tr>\n",
       "  </thead>\n",
       "  <tbody>\n",
       "    <tr>\n",
       "      <th>1</th>\n",
       "      <td>KEGG_LYSINE_DEGRADATION</td>\n",
       "      <td>1</td>\n",
       "      <td>0.388059</td>\n",
       "      <td>0.866078</td>\n",
       "      <td>0.956005</td>\n",
       "    </tr>\n",
       "    <tr>\n",
       "      <th>2</th>\n",
       "      <td>REACTOME_MRNA_SPLICING</td>\n",
       "      <td>1</td>\n",
       "      <td>0.733057</td>\n",
       "      <td>0.000048</td>\n",
       "      <td>0.000582</td>\n",
       "    </tr>\n",
       "    <tr>\n",
       "      <th>3</th>\n",
       "      <td>MIPS_NOP56P_ASSOCIATED_PRE_RRNA_COMPLEX</td>\n",
       "      <td>1</td>\n",
       "      <td>0.680555</td>\n",
       "      <td>0.001628</td>\n",
       "      <td>0.011366</td>\n",
       "    </tr>\n",
       "    <tr>\n",
       "      <th>4</th>\n",
       "      <td>KEGG_DNA_REPLICATION</td>\n",
       "      <td>1</td>\n",
       "      <td>0.549473</td>\n",
       "      <td>0.312155</td>\n",
       "      <td>0.539951</td>\n",
       "    </tr>\n",
       "    <tr>\n",
       "      <th>5</th>\n",
       "      <td>PID_MYC_ACTIVPATHWAY</td>\n",
       "      <td>1</td>\n",
       "      <td>0.639303</td>\n",
       "      <td>0.021702</td>\n",
       "      <td>0.083739</td>\n",
       "    </tr>\n",
       "  </tbody>\n",
       "</table>\n",
       "</div>"
      ],
      "text/plain": [
       "                                   pathway LV index       AUC   p-value  \\\n",
       "1                  KEGG_LYSINE_DEGRADATION        1  0.388059  0.866078   \n",
       "2                   REACTOME_MRNA_SPLICING        1  0.733057  0.000048   \n",
       "3  MIPS_NOP56P_ASSOCIATED_PRE_RRNA_COMPLEX        1  0.680555  0.001628   \n",
       "4                     KEGG_DNA_REPLICATION        1  0.549473  0.312155   \n",
       "5                     PID_MYC_ACTIVPATHWAY        1  0.639303  0.021702   \n",
       "\n",
       "        FDR  \n",
       "1  0.956005  \n",
       "2  0.000582  \n",
       "3  0.011366  \n",
       "4  0.539951  \n",
       "5  0.083739  "
      ]
     },
     "execution_count": 6,
     "metadata": {},
     "output_type": "execute_result"
    }
   ],
   "source": [
    "multiplier_model_summary.head()"
   ]
  },
  {
   "cell_type": "markdown",
   "id": "egyptian-perth",
   "metadata": {
    "papermill": {
     "duration": 0.017934,
     "end_time": "2021-08-20T15:58:20.542466",
     "exception": false,
     "start_time": "2021-08-20T15:58:20.524532",
     "status": "completed"
    },
    "tags": []
   },
   "source": [
    "## Get pathway-aligned LVs"
   ]
  },
  {
   "cell_type": "code",
   "execution_count": 7,
   "id": "northern-shopper",
   "metadata": {
    "execution": {
     "iopub.execute_input": "2021-08-20T15:58:20.582406Z",
     "iopub.status.busy": "2021-08-20T15:58:20.581958Z",
     "iopub.status.idle": "2021-08-20T15:58:20.596314Z",
     "shell.execute_reply": "2021-08-20T15:58:20.596640Z"
    },
    "papermill": {
     "duration": 0.036076,
     "end_time": "2021-08-20T15:58:20.596749",
     "exception": false,
     "start_time": "2021-08-20T15:58:20.560673",
     "status": "completed"
    },
    "tags": []
   },
   "outputs": [
    {
     "name": "stderr",
     "output_type": "stream",
     "text": [
      "[2021-08-20 11:58:20,586 - numexpr.utils] INFO: NumExpr defaulting to 4 threads.\n"
     ]
    },
    {
     "data": {
      "text/plain": [
       "(463, 5)"
      ]
     },
     "metadata": {},
     "output_type": "display_data"
    },
    {
     "data": {
      "text/html": [
       "<div>\n",
       "<style scoped>\n",
       "    .dataframe tbody tr th:only-of-type {\n",
       "        vertical-align: middle;\n",
       "    }\n",
       "\n",
       "    .dataframe tbody tr th {\n",
       "        vertical-align: top;\n",
       "    }\n",
       "\n",
       "    .dataframe thead th {\n",
       "        text-align: right;\n",
       "    }\n",
       "</style>\n",
       "<table border=\"1\" class=\"dataframe\">\n",
       "  <thead>\n",
       "    <tr style=\"text-align: right;\">\n",
       "      <th></th>\n",
       "      <th>pathway</th>\n",
       "      <th>LV index</th>\n",
       "      <th>AUC</th>\n",
       "      <th>p-value</th>\n",
       "      <th>FDR</th>\n",
       "    </tr>\n",
       "  </thead>\n",
       "  <tbody>\n",
       "    <tr>\n",
       "      <th>2</th>\n",
       "      <td>REACTOME_MRNA_SPLICING</td>\n",
       "      <td>1</td>\n",
       "      <td>0.733057</td>\n",
       "      <td>4.772691e-05</td>\n",
       "      <td>5.816211e-04</td>\n",
       "    </tr>\n",
       "    <tr>\n",
       "      <th>3</th>\n",
       "      <td>MIPS_NOP56P_ASSOCIATED_PRE_RRNA_COMPLEX</td>\n",
       "      <td>1</td>\n",
       "      <td>0.680555</td>\n",
       "      <td>1.628217e-03</td>\n",
       "      <td>1.136590e-02</td>\n",
       "    </tr>\n",
       "    <tr>\n",
       "      <th>8</th>\n",
       "      <td>REACTOME_MITOTIC_G1_G1_S_PHASES</td>\n",
       "      <td>1</td>\n",
       "      <td>0.686170</td>\n",
       "      <td>2.517619e-04</td>\n",
       "      <td>2.392292e-03</td>\n",
       "    </tr>\n",
       "    <tr>\n",
       "      <th>9</th>\n",
       "      <td>IRIS_Monocyte-Day0</td>\n",
       "      <td>2</td>\n",
       "      <td>0.890036</td>\n",
       "      <td>4.315812e-25</td>\n",
       "      <td>1.329887e-22</td>\n",
       "    </tr>\n",
       "    <tr>\n",
       "      <th>10</th>\n",
       "      <td>DMAP_MONO2</td>\n",
       "      <td>2</td>\n",
       "      <td>0.904676</td>\n",
       "      <td>1.313970e-16</td>\n",
       "      <td>1.574574e-14</td>\n",
       "    </tr>\n",
       "  </tbody>\n",
       "</table>\n",
       "</div>"
      ],
      "text/plain": [
       "                                    pathway LV index       AUC       p-value  \\\n",
       "2                    REACTOME_MRNA_SPLICING        1  0.733057  4.772691e-05   \n",
       "3   MIPS_NOP56P_ASSOCIATED_PRE_RRNA_COMPLEX        1  0.680555  1.628217e-03   \n",
       "8           REACTOME_MITOTIC_G1_G1_S_PHASES        1  0.686170  2.517619e-04   \n",
       "9                        IRIS_Monocyte-Day0        2  0.890036  4.315812e-25   \n",
       "10                               DMAP_MONO2        2  0.904676  1.313970e-16   \n",
       "\n",
       "             FDR  \n",
       "2   5.816211e-04  \n",
       "3   1.136590e-02  \n",
       "8   2.392292e-03  \n",
       "9   1.329887e-22  \n",
       "10  1.574574e-14  "
      ]
     },
     "metadata": {},
     "output_type": "display_data"
    }
   ],
   "source": [
    "well_aligned_lvs = multiplier_model_summary[multiplier_model_summary[\"FDR\"] < 0.05]\n",
    "\n",
    "display(well_aligned_lvs.shape)\n",
    "display(well_aligned_lvs.head())"
   ]
  },
  {
   "cell_type": "code",
   "execution_count": 8,
   "id": "novel-astronomy",
   "metadata": {
    "execution": {
     "iopub.execute_input": "2021-08-20T15:58:20.634696Z",
     "iopub.status.busy": "2021-08-20T15:58:20.634298Z",
     "iopub.status.idle": "2021-08-20T15:58:20.636311Z",
     "shell.execute_reply": "2021-08-20T15:58:20.635938Z"
    },
    "papermill": {
     "duration": 0.022157,
     "end_time": "2021-08-20T15:58:20.636396",
     "exception": false,
     "start_time": "2021-08-20T15:58:20.614239",
     "status": "completed"
    },
    "tags": []
   },
   "outputs": [],
   "source": [
    "well_aligned_lv_codes = set([f\"LV{lvi}\" for lvi in well_aligned_lvs[\"LV index\"]])"
   ]
  },
  {
   "cell_type": "code",
   "execution_count": 9,
   "id": "listed-personality",
   "metadata": {
    "execution": {
     "iopub.execute_input": "2021-08-20T15:58:20.677049Z",
     "iopub.status.busy": "2021-08-20T15:58:20.676598Z",
     "iopub.status.idle": "2021-08-20T15:58:20.679213Z",
     "shell.execute_reply": "2021-08-20T15:58:20.678831Z"
    },
    "papermill": {
     "duration": 0.02401,
     "end_time": "2021-08-20T15:58:20.679299",
     "exception": false,
     "start_time": "2021-08-20T15:58:20.655289",
     "status": "completed"
    },
    "tags": []
   },
   "outputs": [
    {
     "data": {
      "text/plain": [
       "199"
      ]
     },
     "execution_count": 9,
     "metadata": {},
     "output_type": "execute_result"
    }
   ],
   "source": [
    "len(well_aligned_lv_codes)"
   ]
  },
  {
   "cell_type": "code",
   "execution_count": 10,
   "id": "satellite-cross",
   "metadata": {
    "execution": {
     "iopub.execute_input": "2021-08-20T15:58:20.720404Z",
     "iopub.status.busy": "2021-08-20T15:58:20.719993Z",
     "iopub.status.idle": "2021-08-20T15:58:20.721858Z",
     "shell.execute_reply": "2021-08-20T15:58:20.722173Z"
    },
    "papermill": {
     "duration": 0.024216,
     "end_time": "2021-08-20T15:58:20.722286",
     "exception": false,
     "start_time": "2021-08-20T15:58:20.698070",
     "status": "completed"
    },
    "tags": []
   },
   "outputs": [
    {
     "data": {
      "text/plain": [
       "['LV915', 'LV123', 'LV58', 'LV881', 'LV848']"
      ]
     },
     "execution_count": 10,
     "metadata": {},
     "output_type": "execute_result"
    }
   ],
   "source": [
    "list(well_aligned_lv_codes)[:5]"
   ]
  },
  {
   "cell_type": "markdown",
   "id": "reliable-valve",
   "metadata": {
    "papermill": {
     "duration": 0.017535,
     "end_time": "2021-08-20T15:58:20.757973",
     "exception": false,
     "start_time": "2021-08-20T15:58:20.740438",
     "status": "completed"
    },
    "tags": []
   },
   "source": [
    "## MultiPLIER Z (gene loadings)"
   ]
  },
  {
   "cell_type": "code",
   "execution_count": 11,
   "id": "occupational-behavior",
   "metadata": {
    "execution": {
     "iopub.execute_input": "2021-08-20T15:58:20.796541Z",
     "iopub.status.busy": "2021-08-20T15:58:20.796091Z",
     "iopub.status.idle": "2021-08-20T15:58:21.053731Z",
     "shell.execute_reply": "2021-08-20T15:58:21.053401Z"
    },
    "papermill": {
     "duration": 0.278194,
     "end_time": "2021-08-20T15:58:21.053828",
     "exception": false,
     "start_time": "2021-08-20T15:58:20.775634",
     "status": "completed"
    },
    "tags": []
   },
   "outputs": [],
   "source": [
    "multiplier_z = pd.read_pickle(conf.MULTIPLIER[\"MODEL_Z_MATRIX_FILE\"])"
   ]
  },
  {
   "cell_type": "code",
   "execution_count": 12,
   "id": "tender-cancer",
   "metadata": {
    "execution": {
     "iopub.execute_input": "2021-08-20T15:58:21.092128Z",
     "iopub.status.busy": "2021-08-20T15:58:21.091671Z",
     "iopub.status.idle": "2021-08-20T15:58:21.094267Z",
     "shell.execute_reply": "2021-08-20T15:58:21.093883Z"
    },
    "papermill": {
     "duration": 0.022771,
     "end_time": "2021-08-20T15:58:21.094355",
     "exception": false,
     "start_time": "2021-08-20T15:58:21.071584",
     "status": "completed"
    },
    "tags": []
   },
   "outputs": [
    {
     "data": {
      "text/plain": [
       "(6750, 987)"
      ]
     },
     "execution_count": 12,
     "metadata": {},
     "output_type": "execute_result"
    }
   ],
   "source": [
    "multiplier_z.shape"
   ]
  },
  {
   "cell_type": "code",
   "execution_count": 13,
   "id": "indian-reservation",
   "metadata": {
    "execution": {
     "iopub.execute_input": "2021-08-20T15:58:21.138660Z",
     "iopub.status.busy": "2021-08-20T15:58:21.138223Z",
     "iopub.status.idle": "2021-08-20T15:58:21.147832Z",
     "shell.execute_reply": "2021-08-20T15:58:21.147447Z"
    },
    "papermill": {
     "duration": 0.035821,
     "end_time": "2021-08-20T15:58:21.147929",
     "exception": false,
     "start_time": "2021-08-20T15:58:21.112108",
     "status": "completed"
    },
    "tags": []
   },
   "outputs": [
    {
     "data": {
      "text/html": [
       "<div>\n",
       "<style scoped>\n",
       "    .dataframe tbody tr th:only-of-type {\n",
       "        vertical-align: middle;\n",
       "    }\n",
       "\n",
       "    .dataframe tbody tr th {\n",
       "        vertical-align: top;\n",
       "    }\n",
       "\n",
       "    .dataframe thead th {\n",
       "        text-align: right;\n",
       "    }\n",
       "</style>\n",
       "<table border=\"1\" class=\"dataframe\">\n",
       "  <thead>\n",
       "    <tr style=\"text-align: right;\">\n",
       "      <th></th>\n",
       "      <th>LV1</th>\n",
       "      <th>LV2</th>\n",
       "      <th>LV3</th>\n",
       "      <th>LV4</th>\n",
       "      <th>LV5</th>\n",
       "      <th>LV6</th>\n",
       "      <th>LV7</th>\n",
       "      <th>LV8</th>\n",
       "      <th>LV9</th>\n",
       "      <th>LV10</th>\n",
       "      <th>...</th>\n",
       "      <th>LV978</th>\n",
       "      <th>LV979</th>\n",
       "      <th>LV980</th>\n",
       "      <th>LV981</th>\n",
       "      <th>LV982</th>\n",
       "      <th>LV983</th>\n",
       "      <th>LV984</th>\n",
       "      <th>LV985</th>\n",
       "      <th>LV986</th>\n",
       "      <th>LV987</th>\n",
       "    </tr>\n",
       "  </thead>\n",
       "  <tbody>\n",
       "    <tr>\n",
       "      <th>GAS6</th>\n",
       "      <td>0.000000</td>\n",
       "      <td>0.0</td>\n",
       "      <td>0.039438</td>\n",
       "      <td>0.0</td>\n",
       "      <td>0.050476</td>\n",
       "      <td>0.000000</td>\n",
       "      <td>0.0</td>\n",
       "      <td>0.000000</td>\n",
       "      <td>0.590949</td>\n",
       "      <td>0.000000</td>\n",
       "      <td>...</td>\n",
       "      <td>0.050125</td>\n",
       "      <td>0.00000</td>\n",
       "      <td>0.033407</td>\n",
       "      <td>0.000000</td>\n",
       "      <td>0.000000</td>\n",
       "      <td>0.005963</td>\n",
       "      <td>0.347362</td>\n",
       "      <td>0.0</td>\n",
       "      <td>0.000000</td>\n",
       "      <td>0.000000</td>\n",
       "    </tr>\n",
       "    <tr>\n",
       "      <th>MMP14</th>\n",
       "      <td>0.000000</td>\n",
       "      <td>0.0</td>\n",
       "      <td>0.000000</td>\n",
       "      <td>0.0</td>\n",
       "      <td>0.070072</td>\n",
       "      <td>0.000000</td>\n",
       "      <td>0.0</td>\n",
       "      <td>0.004904</td>\n",
       "      <td>1.720179</td>\n",
       "      <td>2.423595</td>\n",
       "      <td>...</td>\n",
       "      <td>0.000000</td>\n",
       "      <td>0.00000</td>\n",
       "      <td>0.001007</td>\n",
       "      <td>0.000000</td>\n",
       "      <td>0.035747</td>\n",
       "      <td>0.000000</td>\n",
       "      <td>0.000000</td>\n",
       "      <td>0.0</td>\n",
       "      <td>0.014978</td>\n",
       "      <td>0.000000</td>\n",
       "    </tr>\n",
       "    <tr>\n",
       "      <th>DSP</th>\n",
       "      <td>0.000000</td>\n",
       "      <td>0.0</td>\n",
       "      <td>0.000000</td>\n",
       "      <td>0.0</td>\n",
       "      <td>0.000000</td>\n",
       "      <td>0.041697</td>\n",
       "      <td>0.0</td>\n",
       "      <td>0.005718</td>\n",
       "      <td>0.000000</td>\n",
       "      <td>0.000000</td>\n",
       "      <td>...</td>\n",
       "      <td>0.020853</td>\n",
       "      <td>0.00000</td>\n",
       "      <td>0.000000</td>\n",
       "      <td>0.000000</td>\n",
       "      <td>0.000000</td>\n",
       "      <td>0.005774</td>\n",
       "      <td>0.000000</td>\n",
       "      <td>0.0</td>\n",
       "      <td>0.000000</td>\n",
       "      <td>0.416405</td>\n",
       "    </tr>\n",
       "    <tr>\n",
       "      <th>MARCKSL1</th>\n",
       "      <td>0.305212</td>\n",
       "      <td>0.0</td>\n",
       "      <td>0.000000</td>\n",
       "      <td>0.0</td>\n",
       "      <td>0.000000</td>\n",
       "      <td>0.000000</td>\n",
       "      <td>0.0</td>\n",
       "      <td>0.000000</td>\n",
       "      <td>0.161843</td>\n",
       "      <td>0.149471</td>\n",
       "      <td>...</td>\n",
       "      <td>0.027134</td>\n",
       "      <td>0.05272</td>\n",
       "      <td>0.000000</td>\n",
       "      <td>0.030189</td>\n",
       "      <td>0.060884</td>\n",
       "      <td>0.000000</td>\n",
       "      <td>0.000000</td>\n",
       "      <td>0.0</td>\n",
       "      <td>0.000000</td>\n",
       "      <td>0.448480</td>\n",
       "    </tr>\n",
       "    <tr>\n",
       "      <th>SPARC</th>\n",
       "      <td>0.000000</td>\n",
       "      <td>0.0</td>\n",
       "      <td>0.000000</td>\n",
       "      <td>0.0</td>\n",
       "      <td>0.000000</td>\n",
       "      <td>0.000000</td>\n",
       "      <td>0.0</td>\n",
       "      <td>0.000000</td>\n",
       "      <td>0.000000</td>\n",
       "      <td>0.014014</td>\n",
       "      <td>...</td>\n",
       "      <td>0.000000</td>\n",
       "      <td>0.00000</td>\n",
       "      <td>0.000000</td>\n",
       "      <td>0.000000</td>\n",
       "      <td>0.000000</td>\n",
       "      <td>0.000000</td>\n",
       "      <td>0.067779</td>\n",
       "      <td>0.0</td>\n",
       "      <td>0.122417</td>\n",
       "      <td>0.062665</td>\n",
       "    </tr>\n",
       "  </tbody>\n",
       "</table>\n",
       "<p>5 rows × 987 columns</p>\n",
       "</div>"
      ],
      "text/plain": [
       "               LV1  LV2       LV3  LV4       LV5       LV6  LV7       LV8  \\\n",
       "GAS6      0.000000  0.0  0.039438  0.0  0.050476  0.000000  0.0  0.000000   \n",
       "MMP14     0.000000  0.0  0.000000  0.0  0.070072  0.000000  0.0  0.004904   \n",
       "DSP       0.000000  0.0  0.000000  0.0  0.000000  0.041697  0.0  0.005718   \n",
       "MARCKSL1  0.305212  0.0  0.000000  0.0  0.000000  0.000000  0.0  0.000000   \n",
       "SPARC     0.000000  0.0  0.000000  0.0  0.000000  0.000000  0.0  0.000000   \n",
       "\n",
       "               LV9      LV10  ...     LV978    LV979     LV980     LV981  \\\n",
       "GAS6      0.590949  0.000000  ...  0.050125  0.00000  0.033407  0.000000   \n",
       "MMP14     1.720179  2.423595  ...  0.000000  0.00000  0.001007  0.000000   \n",
       "DSP       0.000000  0.000000  ...  0.020853  0.00000  0.000000  0.000000   \n",
       "MARCKSL1  0.161843  0.149471  ...  0.027134  0.05272  0.000000  0.030189   \n",
       "SPARC     0.000000  0.014014  ...  0.000000  0.00000  0.000000  0.000000   \n",
       "\n",
       "             LV982     LV983     LV984  LV985     LV986     LV987  \n",
       "GAS6      0.000000  0.005963  0.347362    0.0  0.000000  0.000000  \n",
       "MMP14     0.035747  0.000000  0.000000    0.0  0.014978  0.000000  \n",
       "DSP       0.000000  0.005774  0.000000    0.0  0.000000  0.416405  \n",
       "MARCKSL1  0.060884  0.000000  0.000000    0.0  0.000000  0.448480  \n",
       "SPARC     0.000000  0.000000  0.067779    0.0  0.122417  0.062665  \n",
       "\n",
       "[5 rows x 987 columns]"
      ]
     },
     "execution_count": 13,
     "metadata": {},
     "output_type": "execute_result"
    }
   ],
   "source": [
    "multiplier_z.head()"
   ]
  },
  {
   "cell_type": "markdown",
   "id": "double-thesis",
   "metadata": {
    "papermill": {
     "duration": 0.019951,
     "end_time": "2021-08-20T15:58:21.186085",
     "exception": false,
     "start_time": "2021-08-20T15:58:21.166134",
     "status": "completed"
    },
    "tags": []
   },
   "source": [
    "# Create LV-pathway dataframe"
   ]
  },
  {
   "cell_type": "code",
   "execution_count": 14,
   "id": "enclosed-hotel",
   "metadata": {
    "execution": {
     "iopub.execute_input": "2021-08-20T15:58:21.230375Z",
     "iopub.status.busy": "2021-08-20T15:58:21.229894Z",
     "iopub.status.idle": "2021-08-20T15:58:21.231784Z",
     "shell.execute_reply": "2021-08-20T15:58:21.232117Z"
    },
    "papermill": {
     "duration": 0.025785,
     "end_time": "2021-08-20T15:58:21.232223",
     "exception": false,
     "start_time": "2021-08-20T15:58:21.206438",
     "status": "completed"
    },
    "tags": []
   },
   "outputs": [],
   "source": [
    "lv_pathway_df = multiplier_model_summary[\n",
    "    [\"LV index\", \"pathway\", \"AUC\", \"p-value\", \"FDR\"]\n",
    "]"
   ]
  },
  {
   "cell_type": "code",
   "execution_count": 15,
   "id": "secondary-looking",
   "metadata": {
    "execution": {
     "iopub.execute_input": "2021-08-20T15:58:21.275269Z",
     "iopub.status.busy": "2021-08-20T15:58:21.274879Z",
     "iopub.status.idle": "2021-08-20T15:58:21.276624Z",
     "shell.execute_reply": "2021-08-20T15:58:21.276911Z"
    },
    "papermill": {
     "duration": 0.02543,
     "end_time": "2021-08-20T15:58:21.277020",
     "exception": false,
     "start_time": "2021-08-20T15:58:21.251590",
     "status": "completed"
    },
    "tags": []
   },
   "outputs": [],
   "source": [
    "lv_pathway_df[\"LV index\"] = lv_pathway_df[\"LV index\"].astype(int)"
   ]
  },
  {
   "cell_type": "code",
   "execution_count": 16,
   "id": "proper-documentary",
   "metadata": {
    "execution": {
     "iopub.execute_input": "2021-08-20T15:58:21.319677Z",
     "iopub.status.busy": "2021-08-20T15:58:21.319268Z",
     "iopub.status.idle": "2021-08-20T15:58:21.324586Z",
     "shell.execute_reply": "2021-08-20T15:58:21.324229Z"
    },
    "papermill": {
     "duration": 0.028457,
     "end_time": "2021-08-20T15:58:21.324687",
     "exception": false,
     "start_time": "2021-08-20T15:58:21.296230",
     "status": "completed"
    },
    "tags": []
   },
   "outputs": [],
   "source": [
    "lv_pathway_df = lv_pathway_df.sort_values([\"LV index\", \"FDR\"])"
   ]
  },
  {
   "cell_type": "code",
   "execution_count": 17,
   "id": "accepting-johnson",
   "metadata": {
    "execution": {
     "iopub.execute_input": "2021-08-20T15:58:21.368918Z",
     "iopub.status.busy": "2021-08-20T15:58:21.368515Z",
     "iopub.status.idle": "2021-08-20T15:58:21.370984Z",
     "shell.execute_reply": "2021-08-20T15:58:21.370640Z"
    },
    "papermill": {
     "duration": 0.0269,
     "end_time": "2021-08-20T15:58:21.371078",
     "exception": false,
     "start_time": "2021-08-20T15:58:21.344178",
     "status": "completed"
    },
    "tags": []
   },
   "outputs": [],
   "source": [
    "lv_pathway_df[\"LV index\"] = lv_pathway_df[\"LV index\"].apply(lambda x: f\"LV{x}\")"
   ]
  },
  {
   "cell_type": "code",
   "execution_count": 18,
   "id": "skilled-german",
   "metadata": {
    "execution": {
     "iopub.execute_input": "2021-08-20T15:58:21.419751Z",
     "iopub.status.busy": "2021-08-20T15:58:21.419268Z",
     "iopub.status.idle": "2021-08-20T15:58:21.422167Z",
     "shell.execute_reply": "2021-08-20T15:58:21.421694Z"
    },
    "papermill": {
     "duration": 0.0295,
     "end_time": "2021-08-20T15:58:21.422276",
     "exception": false,
     "start_time": "2021-08-20T15:58:21.392776",
     "status": "completed"
    },
    "tags": []
   },
   "outputs": [
    {
     "data": {
      "text/plain": [
       "(2157, 5)"
      ]
     },
     "execution_count": 18,
     "metadata": {},
     "output_type": "execute_result"
    }
   ],
   "source": [
    "lv_pathway_df.shape"
   ]
  },
  {
   "cell_type": "code",
   "execution_count": 19,
   "id": "subsequent-analysis",
   "metadata": {
    "execution": {
     "iopub.execute_input": "2021-08-20T15:58:21.475294Z",
     "iopub.status.busy": "2021-08-20T15:58:21.474799Z",
     "iopub.status.idle": "2021-08-20T15:58:21.476461Z",
     "shell.execute_reply": "2021-08-20T15:58:21.476850Z"
    },
    "papermill": {
     "duration": 0.030404,
     "end_time": "2021-08-20T15:58:21.476984",
     "exception": false,
     "start_time": "2021-08-20T15:58:21.446580",
     "status": "completed"
    },
    "tags": []
   },
   "outputs": [],
   "source": [
    "lv_pathway_df = lv_pathway_df.rename(\n",
    "    columns={\"LV index\": \"LV identifier\", \"pathway\": \"Pathway\"}\n",
    ")"
   ]
  },
  {
   "cell_type": "code",
   "execution_count": 20,
   "id": "fresh-convert",
   "metadata": {
    "execution": {
     "iopub.execute_input": "2021-08-20T15:58:21.534517Z",
     "iopub.status.busy": "2021-08-20T15:58:21.534033Z",
     "iopub.status.idle": "2021-08-20T15:58:21.536654Z",
     "shell.execute_reply": "2021-08-20T15:58:21.537016Z"
    },
    "papermill": {
     "duration": 0.0355,
     "end_time": "2021-08-20T15:58:21.537151",
     "exception": false,
     "start_time": "2021-08-20T15:58:21.501651",
     "status": "completed"
    },
    "tags": []
   },
   "outputs": [
    {
     "data": {
      "text/html": [
       "<div>\n",
       "<style scoped>\n",
       "    .dataframe tbody tr th:only-of-type {\n",
       "        vertical-align: middle;\n",
       "    }\n",
       "\n",
       "    .dataframe tbody tr th {\n",
       "        vertical-align: top;\n",
       "    }\n",
       "\n",
       "    .dataframe thead th {\n",
       "        text-align: right;\n",
       "    }\n",
       "</style>\n",
       "<table border=\"1\" class=\"dataframe\">\n",
       "  <thead>\n",
       "    <tr style=\"text-align: right;\">\n",
       "      <th></th>\n",
       "      <th>LV identifier</th>\n",
       "      <th>Pathway</th>\n",
       "      <th>AUC</th>\n",
       "      <th>p-value</th>\n",
       "      <th>FDR</th>\n",
       "    </tr>\n",
       "  </thead>\n",
       "  <tbody>\n",
       "    <tr>\n",
       "      <th>2</th>\n",
       "      <td>LV1</td>\n",
       "      <td>REACTOME_MRNA_SPLICING</td>\n",
       "      <td>0.733057</td>\n",
       "      <td>0.000048</td>\n",
       "      <td>0.000582</td>\n",
       "    </tr>\n",
       "    <tr>\n",
       "      <th>8</th>\n",
       "      <td>LV1</td>\n",
       "      <td>REACTOME_MITOTIC_G1_G1_S_PHASES</td>\n",
       "      <td>0.686170</td>\n",
       "      <td>0.000252</td>\n",
       "      <td>0.002392</td>\n",
       "    </tr>\n",
       "    <tr>\n",
       "      <th>3</th>\n",
       "      <td>LV1</td>\n",
       "      <td>MIPS_NOP56P_ASSOCIATED_PRE_RRNA_COMPLEX</td>\n",
       "      <td>0.680555</td>\n",
       "      <td>0.001628</td>\n",
       "      <td>0.011366</td>\n",
       "    </tr>\n",
       "    <tr>\n",
       "      <th>5</th>\n",
       "      <td>LV1</td>\n",
       "      <td>PID_MYC_ACTIVPATHWAY</td>\n",
       "      <td>0.639303</td>\n",
       "      <td>0.021702</td>\n",
       "      <td>0.083739</td>\n",
       "    </tr>\n",
       "    <tr>\n",
       "      <th>6</th>\n",
       "      <td>LV1</td>\n",
       "      <td>REACTOME_METABOLISM_OF_NUCLEOTIDES</td>\n",
       "      <td>0.596122</td>\n",
       "      <td>0.106494</td>\n",
       "      <td>0.266826</td>\n",
       "    </tr>\n",
       "  </tbody>\n",
       "</table>\n",
       "</div>"
      ],
      "text/plain": [
       "  LV identifier                                  Pathway       AUC   p-value  \\\n",
       "2           LV1                   REACTOME_MRNA_SPLICING  0.733057  0.000048   \n",
       "8           LV1          REACTOME_MITOTIC_G1_G1_S_PHASES  0.686170  0.000252   \n",
       "3           LV1  MIPS_NOP56P_ASSOCIATED_PRE_RRNA_COMPLEX  0.680555  0.001628   \n",
       "5           LV1                     PID_MYC_ACTIVPATHWAY  0.639303  0.021702   \n",
       "6           LV1       REACTOME_METABOLISM_OF_NUCLEOTIDES  0.596122  0.106494   \n",
       "\n",
       "        FDR  \n",
       "2  0.000582  \n",
       "8  0.002392  \n",
       "3  0.011366  \n",
       "5  0.083739  \n",
       "6  0.266826  "
      ]
     },
     "execution_count": 20,
     "metadata": {},
     "output_type": "execute_result"
    }
   ],
   "source": [
    "lv_pathway_df.head()"
   ]
  },
  {
   "cell_type": "code",
   "execution_count": 21,
   "id": "assumed-undergraduate",
   "metadata": {
    "execution": {
     "iopub.execute_input": "2021-08-20T15:58:21.595091Z",
     "iopub.status.busy": "2021-08-20T15:58:21.594594Z",
     "iopub.status.idle": "2021-08-20T15:58:21.597182Z",
     "shell.execute_reply": "2021-08-20T15:58:21.597575Z"
    },
    "papermill": {
     "duration": 0.035942,
     "end_time": "2021-08-20T15:58:21.597708",
     "exception": false,
     "start_time": "2021-08-20T15:58:21.561766",
     "status": "completed"
    },
    "tags": []
   },
   "outputs": [
    {
     "data": {
      "text/html": [
       "<div>\n",
       "<style scoped>\n",
       "    .dataframe tbody tr th:only-of-type {\n",
       "        vertical-align: middle;\n",
       "    }\n",
       "\n",
       "    .dataframe tbody tr th {\n",
       "        vertical-align: top;\n",
       "    }\n",
       "\n",
       "    .dataframe thead th {\n",
       "        text-align: right;\n",
       "    }\n",
       "</style>\n",
       "<table border=\"1\" class=\"dataframe\">\n",
       "  <thead>\n",
       "    <tr style=\"text-align: right;\">\n",
       "      <th></th>\n",
       "      <th>LV identifier</th>\n",
       "      <th>Pathway</th>\n",
       "      <th>AUC</th>\n",
       "      <th>p-value</th>\n",
       "      <th>FDR</th>\n",
       "    </tr>\n",
       "  </thead>\n",
       "  <tbody>\n",
       "    <tr>\n",
       "      <th>2156</th>\n",
       "      <td>LV987</td>\n",
       "      <td>PID_LKB1_PATHWAY</td>\n",
       "      <td>0.707349</td>\n",
       "      <td>0.013615</td>\n",
       "      <td>0.059448</td>\n",
       "    </tr>\n",
       "    <tr>\n",
       "      <th>2153</th>\n",
       "      <td>LV987</td>\n",
       "      <td>REACTOME_PRE_NOTCH_EXPRESSION_AND_PROCESSING</td>\n",
       "      <td>0.623659</td>\n",
       "      <td>0.122716</td>\n",
       "      <td>0.293872</td>\n",
       "    </tr>\n",
       "    <tr>\n",
       "      <th>2155</th>\n",
       "      <td>LV987</td>\n",
       "      <td>PID_E2F_PATHWAY</td>\n",
       "      <td>0.582317</td>\n",
       "      <td>0.137210</td>\n",
       "      <td>0.316974</td>\n",
       "    </tr>\n",
       "    <tr>\n",
       "      <th>2157</th>\n",
       "      <td>LV987</td>\n",
       "      <td>REACTOME_INTERACTIONS_OF_VPR_WITH_HOST_CELLULA...</td>\n",
       "      <td>0.524430</td>\n",
       "      <td>0.415924</td>\n",
       "      <td>0.643117</td>\n",
       "    </tr>\n",
       "    <tr>\n",
       "      <th>2154</th>\n",
       "      <td>LV987</td>\n",
       "      <td>KEGG_LYSINE_DEGRADATION</td>\n",
       "      <td>0.376037</td>\n",
       "      <td>0.877868</td>\n",
       "      <td>0.960271</td>\n",
       "    </tr>\n",
       "  </tbody>\n",
       "</table>\n",
       "</div>"
      ],
      "text/plain": [
       "     LV identifier                                            Pathway  \\\n",
       "2156         LV987                                   PID_LKB1_PATHWAY   \n",
       "2153         LV987       REACTOME_PRE_NOTCH_EXPRESSION_AND_PROCESSING   \n",
       "2155         LV987                                    PID_E2F_PATHWAY   \n",
       "2157         LV987  REACTOME_INTERACTIONS_OF_VPR_WITH_HOST_CELLULA...   \n",
       "2154         LV987                            KEGG_LYSINE_DEGRADATION   \n",
       "\n",
       "           AUC   p-value       FDR  \n",
       "2156  0.707349  0.013615  0.059448  \n",
       "2153  0.623659  0.122716  0.293872  \n",
       "2155  0.582317  0.137210  0.316974  \n",
       "2157  0.524430  0.415924  0.643117  \n",
       "2154  0.376037  0.877868  0.960271  "
      ]
     },
     "execution_count": 21,
     "metadata": {},
     "output_type": "execute_result"
    }
   ],
   "source": [
    "lv_pathway_df.tail()"
   ]
  },
  {
   "cell_type": "markdown",
   "id": "beginning-hunter",
   "metadata": {
    "papermill": {
     "duration": 0.024731,
     "end_time": "2021-08-20T15:58:21.647056",
     "exception": false,
     "start_time": "2021-08-20T15:58:21.622325",
     "status": "completed"
    },
    "tags": []
   },
   "source": [
    "## Save"
   ]
  },
  {
   "cell_type": "code",
   "execution_count": 22,
   "id": "southeast-oasis",
   "metadata": {
    "execution": {
     "iopub.execute_input": "2021-08-20T15:58:21.699987Z",
     "iopub.status.busy": "2021-08-20T15:58:21.699498Z",
     "iopub.status.idle": "2021-08-20T15:58:21.702313Z",
     "shell.execute_reply": "2021-08-20T15:58:21.701851Z"
    },
    "papermill": {
     "duration": 0.030299,
     "end_time": "2021-08-20T15:58:21.702416",
     "exception": false,
     "start_time": "2021-08-20T15:58:21.672117",
     "status": "completed"
    },
    "tags": []
   },
   "outputs": [
    {
     "data": {
      "text/plain": [
       "PosixPath('/home/miltondp/projects/labs/greenelab/phenoplier/data/multiplier/lv-pathways.xlsx')"
      ]
     },
     "metadata": {},
     "output_type": "display_data"
    }
   ],
   "source": [
    "output_file = OUTPUT_DIR / \"lv-pathways.xlsx\"\n",
    "display(output_file)"
   ]
  },
  {
   "cell_type": "code",
   "execution_count": 23,
   "id": "theoretical-family",
   "metadata": {
    "execution": {
     "iopub.execute_input": "2021-08-20T15:58:21.762362Z",
     "iopub.status.busy": "2021-08-20T15:58:21.757357Z",
     "iopub.status.idle": "2021-08-20T15:58:21.955701Z",
     "shell.execute_reply": "2021-08-20T15:58:21.955259Z"
    },
    "papermill": {
     "duration": 0.228835,
     "end_time": "2021-08-20T15:58:21.955810",
     "exception": false,
     "start_time": "2021-08-20T15:58:21.726975",
     "status": "completed"
    },
    "tags": []
   },
   "outputs": [],
   "source": [
    "lv_pathway_df.to_excel(output_file, index=False)"
   ]
  },
  {
   "cell_type": "code",
   "execution_count": 24,
   "id": "athletic-greece",
   "metadata": {
    "execution": {
     "iopub.execute_input": "2021-08-20T15:58:22.009907Z",
     "iopub.status.busy": "2021-08-20T15:58:22.009469Z",
     "iopub.status.idle": "2021-08-20T15:58:22.478043Z",
     "shell.execute_reply": "2021-08-20T15:58:22.477634Z"
    },
    "papermill": {
     "duration": 0.49698,
     "end_time": "2021-08-20T15:58:22.478139",
     "exception": false,
     "start_time": "2021-08-20T15:58:21.981159",
     "status": "completed"
    },
    "tags": []
   },
   "outputs": [],
   "source": [
    "# adjust column widths\n",
    "wb = openpyxl.load_workbook(filename=output_file)\n",
    "worksheet = wb.active\n",
    "\n",
    "for col in worksheet.columns:\n",
    "    max_length = 0\n",
    "    column = get_column_letter(col[0].column)  # Get the column name\n",
    "    for cell in col:\n",
    "        if cell.coordinate in worksheet.merged_cells:  # not check merge_cells\n",
    "            continue\n",
    "\n",
    "        try:  # Necessary to avoid error on empty cells\n",
    "            if len(str(cell.value)) > max_length:\n",
    "                max_length = len(str(cell.value))\n",
    "        except:\n",
    "            pass\n",
    "    adjusted_width = (max_length + 2) * 1.05\n",
    "    worksheet.column_dimensions[column].width = adjusted_width\n",
    "\n",
    "wb.save(output_file)"
   ]
  },
  {
   "cell_type": "markdown",
   "id": "persistent-latvia",
   "metadata": {
    "papermill": {
     "duration": 0.019862,
     "end_time": "2021-08-20T15:58:22.518333",
     "exception": false,
     "start_time": "2021-08-20T15:58:22.498471",
     "status": "completed"
    },
    "tags": []
   },
   "source": [
    "# Create LV-gene dataframe"
   ]
  },
  {
   "cell_type": "code",
   "execution_count": 25,
   "id": "secondary-terry",
   "metadata": {
    "execution": {
     "iopub.execute_input": "2021-08-20T15:58:22.666530Z",
     "iopub.status.busy": "2021-08-20T15:58:22.666073Z",
     "iopub.status.idle": "2021-08-20T15:58:23.200698Z",
     "shell.execute_reply": "2021-08-20T15:58:23.201057Z"
    },
    "papermill": {
     "duration": 0.662796,
     "end_time": "2021-08-20T15:58:23.201190",
     "exception": false,
     "start_time": "2021-08-20T15:58:22.538394",
     "status": "completed"
    },
    "tags": []
   },
   "outputs": [],
   "source": [
    "df = (\n",
    "    multiplier_z.unstack()\n",
    "    .to_frame()\n",
    "    .reset_index()\n",
    "    .rename(columns={0: \"Weight\", \"level_0\": \"LV identifier\", \"level_1\": \"Gene symbol\"})\n",
    ")"
   ]
  },
  {
   "cell_type": "code",
   "execution_count": 26,
   "id": "complete-terminal",
   "metadata": {
    "execution": {
     "iopub.execute_input": "2021-08-20T15:58:23.312945Z",
     "iopub.status.busy": "2021-08-20T15:58:23.307816Z",
     "iopub.status.idle": "2021-08-20T15:58:26.049202Z",
     "shell.execute_reply": "2021-08-20T15:58:26.049525Z"
    },
    "papermill": {
     "duration": 2.824822,
     "end_time": "2021-08-20T15:58:26.049646",
     "exception": false,
     "start_time": "2021-08-20T15:58:23.224824",
     "status": "completed"
    },
    "tags": []
   },
   "outputs": [],
   "source": [
    "df = df.assign(lv_index=df[\"LV identifier\"].apply(lambda x: int(x[2:])))"
   ]
  },
  {
   "cell_type": "code",
   "execution_count": 27,
   "id": "soviet-alcohol",
   "metadata": {
    "execution": {
     "iopub.execute_input": "2021-08-20T15:58:26.095678Z",
     "iopub.status.busy": "2021-08-20T15:58:26.095281Z",
     "iopub.status.idle": "2021-08-20T15:58:29.183639Z",
     "shell.execute_reply": "2021-08-20T15:58:29.183315Z"
    },
    "papermill": {
     "duration": 3.112297,
     "end_time": "2021-08-20T15:58:29.183732",
     "exception": false,
     "start_time": "2021-08-20T15:58:26.071435",
     "status": "completed"
    },
    "tags": []
   },
   "outputs": [],
   "source": [
    "df = df.sort_values([\"lv_index\", \"Weight\"], ascending=[True, False]).drop(\n",
    "    columns=[\"lv_index\"]\n",
    ")"
   ]
  },
  {
   "cell_type": "code",
   "execution_count": 28,
   "id": "stainless-enterprise",
   "metadata": {
    "execution": {
     "iopub.execute_input": "2021-08-20T15:58:29.227132Z",
     "iopub.status.busy": "2021-08-20T15:58:29.226667Z",
     "iopub.status.idle": "2021-08-20T15:58:29.228871Z",
     "shell.execute_reply": "2021-08-20T15:58:29.229163Z"
    },
    "papermill": {
     "duration": 0.024915,
     "end_time": "2021-08-20T15:58:29.229274",
     "exception": false,
     "start_time": "2021-08-20T15:58:29.204359",
     "status": "completed"
    },
    "tags": []
   },
   "outputs": [
    {
     "data": {
      "text/plain": [
       "(6662250, 3)"
      ]
     },
     "execution_count": 28,
     "metadata": {},
     "output_type": "execute_result"
    }
   ],
   "source": [
    "df.shape"
   ]
  },
  {
   "cell_type": "code",
   "execution_count": 29,
   "id": "intelligent-automation",
   "metadata": {
    "execution": {
     "iopub.execute_input": "2021-08-20T15:58:29.273994Z",
     "iopub.status.busy": "2021-08-20T15:58:29.273617Z",
     "iopub.status.idle": "2021-08-20T15:58:29.278138Z",
     "shell.execute_reply": "2021-08-20T15:58:29.277750Z"
    },
    "papermill": {
     "duration": 0.028492,
     "end_time": "2021-08-20T15:58:29.278226",
     "exception": false,
     "start_time": "2021-08-20T15:58:29.249734",
     "status": "completed"
    },
    "tags": []
   },
   "outputs": [
    {
     "data": {
      "text/html": [
       "<div>\n",
       "<style scoped>\n",
       "    .dataframe tbody tr th:only-of-type {\n",
       "        vertical-align: middle;\n",
       "    }\n",
       "\n",
       "    .dataframe tbody tr th {\n",
       "        vertical-align: top;\n",
       "    }\n",
       "\n",
       "    .dataframe thead th {\n",
       "        text-align: right;\n",
       "    }\n",
       "</style>\n",
       "<table border=\"1\" class=\"dataframe\">\n",
       "  <thead>\n",
       "    <tr style=\"text-align: right;\">\n",
       "      <th></th>\n",
       "      <th>LV identifier</th>\n",
       "      <th>Gene symbol</th>\n",
       "      <th>Weight</th>\n",
       "    </tr>\n",
       "  </thead>\n",
       "  <tbody>\n",
       "    <tr>\n",
       "      <th>4370</th>\n",
       "      <td>LV1</td>\n",
       "      <td>POLD1</td>\n",
       "      <td>2.989508</td>\n",
       "    </tr>\n",
       "    <tr>\n",
       "      <th>3303</th>\n",
       "      <td>LV1</td>\n",
       "      <td>TRIM28</td>\n",
       "      <td>2.967235</td>\n",
       "    </tr>\n",
       "    <tr>\n",
       "      <th>6581</th>\n",
       "      <td>LV1</td>\n",
       "      <td>TOMM40</td>\n",
       "      <td>2.941369</td>\n",
       "    </tr>\n",
       "    <tr>\n",
       "      <th>4915</th>\n",
       "      <td>LV1</td>\n",
       "      <td>PKMYT1</td>\n",
       "      <td>2.810091</td>\n",
       "    </tr>\n",
       "    <tr>\n",
       "      <th>6549</th>\n",
       "      <td>LV1</td>\n",
       "      <td>CDT1</td>\n",
       "      <td>2.776054</td>\n",
       "    </tr>\n",
       "  </tbody>\n",
       "</table>\n",
       "</div>"
      ],
      "text/plain": [
       "     LV identifier Gene symbol    Weight\n",
       "4370           LV1       POLD1  2.989508\n",
       "3303           LV1      TRIM28  2.967235\n",
       "6581           LV1      TOMM40  2.941369\n",
       "4915           LV1      PKMYT1  2.810091\n",
       "6549           LV1        CDT1  2.776054"
      ]
     },
     "execution_count": 29,
     "metadata": {},
     "output_type": "execute_result"
    }
   ],
   "source": [
    "df.head()"
   ]
  },
  {
   "cell_type": "code",
   "execution_count": 30,
   "id": "detailed-award",
   "metadata": {
    "execution": {
     "iopub.execute_input": "2021-08-20T15:58:29.327357Z",
     "iopub.status.busy": "2021-08-20T15:58:29.326951Z",
     "iopub.status.idle": "2021-08-20T15:58:29.329246Z",
     "shell.execute_reply": "2021-08-20T15:58:29.328850Z"
    },
    "papermill": {
     "duration": 0.030109,
     "end_time": "2021-08-20T15:58:29.329335",
     "exception": false,
     "start_time": "2021-08-20T15:58:29.299226",
     "status": "completed"
    },
    "tags": []
   },
   "outputs": [
    {
     "data": {
      "text/html": [
       "<div>\n",
       "<style scoped>\n",
       "    .dataframe tbody tr th:only-of-type {\n",
       "        vertical-align: middle;\n",
       "    }\n",
       "\n",
       "    .dataframe tbody tr th {\n",
       "        vertical-align: top;\n",
       "    }\n",
       "\n",
       "    .dataframe thead th {\n",
       "        text-align: right;\n",
       "    }\n",
       "</style>\n",
       "<table border=\"1\" class=\"dataframe\">\n",
       "  <thead>\n",
       "    <tr style=\"text-align: right;\">\n",
       "      <th></th>\n",
       "      <th>LV identifier</th>\n",
       "      <th>Gene symbol</th>\n",
       "      <th>Weight</th>\n",
       "    </tr>\n",
       "  </thead>\n",
       "  <tbody>\n",
       "    <tr>\n",
       "      <th>6662237</th>\n",
       "      <td>LV987</td>\n",
       "      <td>LDHD</td>\n",
       "      <td>0.0</td>\n",
       "    </tr>\n",
       "    <tr>\n",
       "      <th>6662240</th>\n",
       "      <td>LV987</td>\n",
       "      <td>LDHB</td>\n",
       "      <td>0.0</td>\n",
       "    </tr>\n",
       "    <tr>\n",
       "      <th>6662242</th>\n",
       "      <td>LV987</td>\n",
       "      <td>ACAP2</td>\n",
       "      <td>0.0</td>\n",
       "    </tr>\n",
       "    <tr>\n",
       "      <th>6662243</th>\n",
       "      <td>LV987</td>\n",
       "      <td>ACAP3</td>\n",
       "      <td>0.0</td>\n",
       "    </tr>\n",
       "    <tr>\n",
       "      <th>6662245</th>\n",
       "      <td>LV987</td>\n",
       "      <td>CFL1</td>\n",
       "      <td>0.0</td>\n",
       "    </tr>\n",
       "  </tbody>\n",
       "</table>\n",
       "</div>"
      ],
      "text/plain": [
       "        LV identifier Gene symbol  Weight\n",
       "6662237         LV987        LDHD     0.0\n",
       "6662240         LV987        LDHB     0.0\n",
       "6662242         LV987       ACAP2     0.0\n",
       "6662243         LV987       ACAP3     0.0\n",
       "6662245         LV987        CFL1     0.0"
      ]
     },
     "execution_count": 30,
     "metadata": {},
     "output_type": "execute_result"
    }
   ],
   "source": [
    "df.tail()"
   ]
  },
  {
   "cell_type": "markdown",
   "id": "loaded-table",
   "metadata": {
    "papermill": {
     "duration": 0.022494,
     "end_time": "2021-08-20T15:58:29.373673",
     "exception": false,
     "start_time": "2021-08-20T15:58:29.351179",
     "status": "completed"
    },
    "tags": []
   },
   "source": [
    "## Save as TSV"
   ]
  },
  {
   "cell_type": "code",
   "execution_count": 31,
   "id": "lined-approval",
   "metadata": {
    "execution": {
     "iopub.execute_input": "2021-08-20T15:58:29.422582Z",
     "iopub.status.busy": "2021-08-20T15:58:29.422143Z",
     "iopub.status.idle": "2021-08-20T15:58:29.424048Z",
     "shell.execute_reply": "2021-08-20T15:58:29.423603Z"
    },
    "papermill": {
     "duration": 0.027236,
     "end_time": "2021-08-20T15:58:29.424147",
     "exception": false,
     "start_time": "2021-08-20T15:58:29.396911",
     "status": "completed"
    },
    "tags": []
   },
   "outputs": [],
   "source": [
    "# output_file = OUTPUT_DIR / \"lv-gene_weights.tsv.gz\"\n",
    "# display(output_file)"
   ]
  },
  {
   "cell_type": "code",
   "execution_count": 32,
   "id": "major-cleveland",
   "metadata": {
    "execution": {
     "iopub.execute_input": "2021-08-20T15:58:29.479414Z",
     "iopub.status.busy": "2021-08-20T15:58:29.478948Z",
     "iopub.status.idle": "2021-08-20T15:58:29.481147Z",
     "shell.execute_reply": "2021-08-20T15:58:29.480761Z"
    },
    "papermill": {
     "duration": 0.030551,
     "end_time": "2021-08-20T15:58:29.481265",
     "exception": false,
     "start_time": "2021-08-20T15:58:29.450714",
     "status": "completed"
    },
    "tags": []
   },
   "outputs": [],
   "source": [
    "# df.to_csv(output_file, sep=\"\\t\", index=False)"
   ]
  },
  {
   "cell_type": "markdown",
   "id": "registered-trademark",
   "metadata": {
    "papermill": {
     "duration": 0.02157,
     "end_time": "2021-08-20T15:58:29.526099",
     "exception": false,
     "start_time": "2021-08-20T15:58:29.504529",
     "status": "completed"
    },
    "tags": []
   },
   "source": [
    "## Save as Excel"
   ]
  },
  {
   "cell_type": "code",
   "execution_count": 33,
   "id": "postal-dutch",
   "metadata": {
    "execution": {
     "iopub.execute_input": "2021-08-20T15:58:29.572111Z",
     "iopub.status.busy": "2021-08-20T15:58:29.571664Z",
     "iopub.status.idle": "2021-08-20T15:58:29.574457Z",
     "shell.execute_reply": "2021-08-20T15:58:29.574042Z"
    },
    "papermill": {
     "duration": 0.027022,
     "end_time": "2021-08-20T15:58:29.574545",
     "exception": false,
     "start_time": "2021-08-20T15:58:29.547523",
     "status": "completed"
    },
    "tags": []
   },
   "outputs": [
    {
     "data": {
      "text/plain": [
       "PosixPath('/home/miltondp/projects/labs/greenelab/phenoplier/data/multiplier/lv-gene_weights.xlsx')"
      ]
     },
     "metadata": {},
     "output_type": "display_data"
    }
   ],
   "source": [
    "output_file = OUTPUT_DIR / \"lv-gene_weights.xlsx\"\n",
    "display(output_file)"
   ]
  },
  {
   "cell_type": "code",
   "execution_count": 34,
   "id": "working-appearance",
   "metadata": {
    "execution": {
     "iopub.execute_input": "2021-08-20T15:58:29.625959Z",
     "iopub.status.busy": "2021-08-20T15:58:29.625503Z",
     "iopub.status.idle": "2021-08-20T16:08:22.579381Z",
     "shell.execute_reply": "2021-08-20T16:08:22.578965Z"
    },
    "papermill": {
     "duration": 592.981097,
     "end_time": "2021-08-20T16:08:22.579475",
     "exception": false,
     "start_time": "2021-08-20T15:58:29.598378",
     "status": "completed"
    },
    "tags": []
   },
   "outputs": [
    {
     "name": "stdout",
     "output_type": "stream",
     "text": [
      "LV1, LV2, LV3, LV4, LV5, LV6, LV7, LV8, LV9, LV10, LV11, LV12, LV13, LV14, LV15, LV16, LV17, LV18, LV19, LV20, LV21, LV22, LV23, LV24, LV25, LV26, LV27, LV28, LV29, LV30, LV31, LV32, LV33, LV34, LV35, LV36, LV37, LV38, LV39, LV40, LV41, LV42, LV43, LV44, LV45, LV46, LV47, LV48, LV49, LV50, LV51, LV52, LV53, LV54, LV55, LV56, LV57, LV58, LV59, LV60, LV61, LV62, LV63, LV64, LV65, LV66, LV67, LV68, LV69, LV70, LV71, LV72, LV73, LV74, LV75, LV76, LV77, LV78, LV79, LV80, LV81, LV82, LV83, LV84, LV85, LV86, LV87, LV88, LV89, LV90, LV91, LV92, LV93, LV94, LV95, LV96, LV97, LV98, LV99, LV100, LV101, LV102, LV103, LV104, LV105, LV106, LV107, LV108, LV109, LV110, LV111, LV112, LV113, LV114, LV115, LV116, LV117, LV118, LV119, LV120, LV121, LV122, LV123, LV124, LV125, LV126, LV127, LV128, LV129, LV130, LV131, LV132, LV133, LV134, LV135, LV136, LV137, LV138, LV139, LV140, LV141, LV142, LV143, LV144, LV145, LV146, LV147, LV148, LV149, LV150, LV151, LV152, LV153, LV154, LV155, LV156, LV157, LV158, LV159, LV160, LV161, LV162, LV163, LV164, LV165, LV166, LV167, LV168, LV169, LV170, LV171, LV172, LV173, LV174, LV175, LV176, LV177, LV178, LV179, LV180, LV181, LV182, LV183, LV184, LV185, LV186, LV187, LV188, LV189, LV190, LV191, LV192, LV193, LV194, LV195, LV196, LV197, LV198, LV199, LV200, LV201, LV202, LV203, LV204, LV205, LV206, LV207, LV208, LV209, LV210, LV211, LV212, LV213, LV214, LV215, LV216, LV217, LV218, LV219, LV220, LV221, LV222, LV223, LV224, LV225, LV226, LV227, LV228, LV229, LV230, LV231, LV232, LV233, LV234, LV235, LV236, LV237, LV238, LV239, LV240, LV241, LV242, LV243, LV244, LV245, LV246, LV247, LV248, LV249, LV250, LV251, LV252, LV253, LV254, LV255, LV256, LV257, LV258, LV259, LV260, LV261, LV262, LV263, LV264, LV265, LV266, LV267, LV268, LV269, LV270, LV271, LV272, LV273, LV274, LV275, LV276, LV277, LV278, LV279, LV280, LV281, LV282, LV283, LV284, LV285, LV286, LV287, LV288, LV289, LV290, LV291, LV292, LV293, LV294, LV295, LV296, LV297, LV298, LV299, LV300, LV301, LV302, LV303, LV304, LV305, LV306, LV307, LV308, LV309, LV310, LV311, LV312, LV313, LV314, LV315, LV316, LV317, LV318, LV319, LV320, LV321, LV322, LV323, LV324, LV325, LV326, LV327, LV328, LV329, LV330, LV331, LV332, LV333, LV334, LV335, LV336, LV337, LV338, LV339, LV340, LV341, LV342, LV343, LV344, LV345, LV346, LV347, LV348, LV349, LV350, LV351, LV352, LV353, LV354, LV355, LV356, LV357, LV358, LV359, LV360, LV361, LV362, LV363, LV364, LV365, LV366, LV367, LV368, LV369, LV370, LV371, LV372, LV373, LV374, LV375, LV376, LV377, LV378, LV379, LV380, LV381, LV382, LV383, LV384, LV385, LV386, LV387, LV388, LV389, LV390, LV391, LV392, LV393, LV394, LV395, LV396, LV397, LV398, LV399, LV400, LV401, LV402, LV403, LV404, LV405, LV406, LV407, LV408, LV409, LV410, LV411, LV412, LV413, LV414, LV415, LV416, LV417, LV418, LV419, LV420, LV421, LV422, LV423, LV424, LV425, LV426, LV427, LV428, LV429, LV430, LV431, LV432, LV433, LV434, LV435, LV436, LV437, LV438, LV439, LV440, LV441, LV442, LV443, LV444, LV445, LV446, LV447, LV448, LV449, LV450, LV451, LV452, LV453, LV454, LV455, LV456, LV457, LV458, LV459, LV460, LV461, LV462, LV463, LV464, LV465, LV466, LV467, LV468, LV469, LV470, LV471, LV472, LV473, LV474, LV475, LV476, LV477, LV478, LV479, LV480, LV481, LV482, LV483, LV484, LV485, LV486, LV487, LV488, LV489, LV490, LV491, LV492, LV493, LV494, LV495, LV496, LV497, LV498, LV499, LV500, LV501, LV502, LV503, LV504, LV505, LV506, LV507, LV508, LV509, LV510, LV511, LV512, LV513, LV514, LV515, LV516, LV517, LV518, LV519, LV520, LV521, LV522, LV523, LV524, LV525, LV526, LV527, LV528, LV529, LV530, LV531, LV532, LV533, LV534, LV535, LV536, LV537, LV538, LV539, LV540, LV541, LV542, LV543, LV544, LV545, LV546, LV547, LV548, LV549, LV550, LV551, LV552, LV553, LV554, LV555, LV556, LV557, LV558, LV559, LV560, LV561, LV562, LV563, LV564, LV565, LV566, LV567, LV568, LV569, LV570, LV571, LV572, LV573, LV574, LV575, LV576, LV577, LV578, LV579, LV580, LV581, LV582, LV583, LV584, LV585, LV586, LV587, LV588, LV589, LV590, LV591, LV592, LV593, LV594, LV595, LV596, LV597, LV598, LV599, LV600, LV601, LV602, LV603, LV604, LV605, LV606, LV607, LV608, LV609, LV610, LV611, LV612, LV613, LV614, LV615, LV616, LV617, LV618, LV619, LV620, LV621, LV622, LV623, LV624, LV625, LV626, LV627, LV628, LV629, LV630, LV631, LV632, LV633, LV634, LV635, LV636, LV637, LV638, LV639, LV640, LV641, LV642, LV643, LV644, LV645, LV646, LV647, LV648, LV649, LV650, LV651, LV652, LV653, LV654, LV655, LV656, LV657, LV658, LV659, LV660, LV661, LV662, LV663, LV664, LV665, LV666, LV667, LV668, LV669, LV670, LV671, LV672, LV673, LV674, LV675, LV676, LV677, LV678, LV679, LV680, LV681, LV682, LV683, LV684, LV685, LV686, LV687, LV688, LV689, LV690, LV691, LV692, LV693, LV694, LV695, LV696, LV697, LV698, LV699, LV700, LV701, LV702, LV703, LV704, LV705, LV706, LV707, LV708, LV709, LV710, LV711, LV712, LV713, LV714, LV715, LV716, LV717, LV718, LV719, LV720, LV721, LV722, LV723, LV724, LV725, LV726, LV727, LV728, LV729, LV730, LV731, LV732, LV733, LV734, LV735, LV736, LV737, LV738, LV739, LV740, LV741, LV742, LV743, LV744, LV745, LV746, LV747, LV748, LV749, LV750, LV751, LV752, LV753, LV754, LV755, LV756, LV757, LV758, LV759, LV760, LV761, LV762, LV763, LV764, LV765, LV766, LV767, LV768, LV769, LV770, LV771, LV772, LV773, LV774, LV775, LV776, LV777, LV778, LV779, LV780, LV781, LV782, LV783, LV784, LV785, LV786, LV787, LV788, LV789, LV790, LV791, LV792, LV793, LV794, LV795, LV796, LV797, LV798, LV799, LV800, LV801, LV802, LV803, LV804, LV805, LV806, LV807, LV808, LV809, LV810, LV811, LV812, LV813, LV814, LV815, LV816, LV817, LV818, LV819, LV820, LV821, LV822, LV823, LV824, LV825, LV826, LV827, LV828, LV829, LV830, LV831, LV832, LV833, LV834, LV835, LV836, LV837, LV838, LV839, LV840, LV841, LV842, LV843, LV844, LV845, LV846, LV847, LV848, LV849, LV850, LV851, LV852, LV853, LV854, LV855, LV856, LV857, LV858, LV859, LV860, LV861, LV862, LV863, LV864, LV865, LV866, LV867, LV868, LV869, LV870, LV871, LV872, LV873, LV874, LV875, LV876, LV877, LV878, LV879, LV880, LV881, LV882, LV883, LV884, LV885, LV886, LV887, LV888, LV889, LV890, LV891, LV892, LV893, LV894, LV895, LV896, LV897, LV898, LV899, LV900, LV901, LV902, LV903, LV904, LV905, LV906, LV907, LV908, LV909, LV910, LV911, LV912, LV913, LV914, LV915, LV916, LV917, LV918, LV919, LV920, LV921, LV922, LV923, LV924, LV925, LV926, LV927, LV928, LV929, LV930, LV931, LV932, LV933, LV934, LV935, LV936, LV937, LV938, LV939, LV940, LV941, LV942, LV943, LV944, LV945, LV946, LV947, LV948, LV949, LV950, LV951, LV952, LV953, LV954, LV955, LV956, LV957, LV958, LV959, LV960, LV961, LV962, LV963, LV964, LV965, LV966, LV967, LV968, LV969, LV970, LV971, LV972, LV973, LV974, LV975, LV976, LV977, LV978, LV979, LV980, LV981, LV982, LV983, LV984, LV985, LV986, LV987, "
     ]
    }
   ],
   "source": [
    "with pd.ExcelWriter(output_file) as writer:\n",
    "    for lv_id in df[\"LV identifier\"].unique():\n",
    "        print(lv_id, end=\", \", flush=True)\n",
    "\n",
    "        lv_data = df[df[\"LV identifier\"] == lv_id].drop(columns=[\"LV identifier\"])\n",
    "        lv_data = lv_data.sort_values(\"Weight\", ascending=False)\n",
    "\n",
    "        lv_data.to_excel(writer, index=False, sheet_name=lv_id)"
   ]
  },
  {
   "cell_type": "code",
   "execution_count": 35,
   "id": "animated-broadway",
   "metadata": {
    "execution": {
     "iopub.execute_input": "2021-08-20T16:08:22.969756Z",
     "iopub.status.busy": "2021-08-20T16:08:22.969328Z",
     "iopub.status.idle": "2021-08-20T16:18:50.690310Z",
     "shell.execute_reply": "2021-08-20T16:18:50.689949Z"
    },
    "papermill": {
     "duration": 627.929478,
     "end_time": "2021-08-20T16:18:50.690412",
     "exception": false,
     "start_time": "2021-08-20T16:08:22.760934",
     "status": "completed"
    },
    "tags": []
   },
   "outputs": [],
   "source": [
    "# adjust column widths\n",
    "wb = openpyxl.load_workbook(filename=output_file)\n",
    "\n",
    "for worksheet in wb.worksheets:\n",
    "    for col in worksheet.columns:\n",
    "        max_length = 0\n",
    "        column = get_column_letter(col[0].column)  # Get the column name\n",
    "        for cell in col:\n",
    "            if cell.coordinate in worksheet.merged_cells:  # not check merge_cells\n",
    "                continue\n",
    "\n",
    "            try:  # Necessary to avoid error on empty cells\n",
    "                if len(str(cell.value)) > max_length:\n",
    "                    max_length = len(str(cell.value))\n",
    "            except:\n",
    "                pass\n",
    "        adjusted_width = (max_length + 2) * 1.05\n",
    "        worksheet.column_dimensions[column].width = adjusted_width\n",
    "\n",
    "wb.save(output_file)"
   ]
  },
  {
   "cell_type": "code",
   "execution_count": null,
   "id": "greatest-badge",
   "metadata": {
    "papermill": {
     "duration": 0.179042,
     "end_time": "2021-08-20T16:18:51.048483",
     "exception": false,
     "start_time": "2021-08-20T16:18:50.869441",
     "status": "completed"
    },
    "tags": []
   },
   "outputs": [],
   "source": []
  }
 ],
 "metadata": {
  "jupytext": {
   "cell_metadata_filter": "all,-execution,-papermill,-trusted",
   "formats": "ipynb,py//py:percent"
  },
  "kernelspec": {
   "display_name": "Python 3",
   "language": "python",
   "name": "python3"
  },
  "language_info": {
   "codemirror_mode": {
    "name": "ipython",
    "version": 3
   },
   "file_extension": ".py",
   "mimetype": "text/x-python",
   "name": "python",
   "nbconvert_exporter": "python",
   "pygments_lexer": "ipython3",
   "version": "3.8.8"
  },
  "papermill": {
   "default_parameters": {},
   "duration": 1237.75982,
   "end_time": "2021-08-20T16:18:56.533139",
   "environment_variables": {},
   "exception": null,
   "input_path": "99_manuscript/lvs/05-export_lv_gene_dataframe.ipynb",
   "output_path": "99_manuscript/lvs/05-export_lv_gene_dataframe.run.ipynb",
   "parameters": {},
   "start_time": "2021-08-20T15:58:18.773319",
   "version": "2.2.2"
  },
  "toc-autonumbering": true
 },
 "nbformat": 4,
 "nbformat_minor": 5
}
