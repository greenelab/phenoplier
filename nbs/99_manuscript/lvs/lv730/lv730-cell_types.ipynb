{
 "cells": [
  {
   "cell_type": "markdown",
   "id": "respective-detection",
   "metadata": {
    "papermill": {
     "duration": 0.006593,
     "end_time": "2021-05-11T19:09:55.733221",
     "exception": false,
     "start_time": "2021-05-11T19:09:55.726628",
     "status": "completed"
    },
    "tags": []
   },
   "source": [
    "# Description"
   ]
  },
  {
   "cell_type": "markdown",
   "id": "dominican-debut",
   "metadata": {
    "papermill": {
     "duration": 0.00668,
     "end_time": "2021-05-11T19:09:55.745410",
     "exception": false,
     "start_time": "2021-05-11T19:09:55.738730",
     "status": "completed"
    },
    "tags": []
   },
   "source": [
    "Generates the figure for top cell types for a specified LV (in Settings section below)."
   ]
  },
  {
   "cell_type": "markdown",
   "id": "related-verification",
   "metadata": {
    "papermill": {
     "duration": 0.006223,
     "end_time": "2021-05-11T19:09:55.756959",
     "exception": false,
     "start_time": "2021-05-11T19:09:55.750736",
     "status": "completed"
    },
    "tags": []
   },
   "source": [
    "# Modules loading"
   ]
  },
  {
   "cell_type": "code",
   "execution_count": 1,
   "id": "listed-pittsburgh",
   "metadata": {
    "papermill": {
     "duration": 0.01906,
     "end_time": "2021-05-11T19:09:55.781515",
     "exception": false,
     "start_time": "2021-05-11T19:09:55.762455",
     "status": "completed"
    },
    "tags": []
   },
   "outputs": [],
   "source": [
    "%load_ext autoreload\n",
    "%autoreload 2"
   ]
  },
  {
   "cell_type": "code",
   "execution_count": 2,
   "id": "broadband-cutting",
   "metadata": {
    "papermill": {
     "duration": 0.993432,
     "end_time": "2021-05-11T19:09:56.780403",
     "exception": false,
     "start_time": "2021-05-11T19:09:55.786971",
     "status": "completed"
    },
    "tags": []
   },
   "outputs": [],
   "source": [
    "import re\n",
    "from pathlib import Path\n",
    "\n",
    "import pandas as pd\n",
    "import matplotlib.pyplot as plt\n",
    "import seaborn as sns\n",
    "\n",
    "from data.recount2 import LVAnalysis\n",
    "from utils import chunker\n",
    "import conf"
   ]
  },
  {
   "cell_type": "markdown",
   "id": "determined-province",
   "metadata": {
    "papermill": {
     "duration": 0.005973,
     "end_time": "2021-05-11T19:09:56.792495",
     "exception": false,
     "start_time": "2021-05-11T19:09:56.786522",
     "status": "completed"
    },
    "tags": []
   },
   "source": [
    "# Settings"
   ]
  },
  {
   "cell_type": "code",
   "execution_count": 3,
   "id": "connected-discretion",
   "metadata": {
    "papermill": {
     "duration": 0.019548,
     "end_time": "2021-05-11T19:09:56.817689",
     "exception": false,
     "start_time": "2021-05-11T19:09:56.798141",
     "status": "completed"
    },
    "tags": [
     "parameters"
    ]
   },
   "outputs": [],
   "source": [
    "LV_NAME = \"LV730\""
   ]
  },
  {
   "cell_type": "code",
   "execution_count": 4,
   "id": "agricultural-gambling",
   "metadata": {},
   "outputs": [],
   "source": [
    "LV_AXIS_THRESHOLD = 3.0\n",
    "N_TOP_SAMPLES = 400\n",
    "N_TOP_ATTRS = 25"
   ]
  },
  {
   "cell_type": "code",
   "execution_count": 5,
   "id": "adolescent-carbon",
   "metadata": {},
   "outputs": [
    {
     "data": {
      "text/plain": [
       "PosixPath('/home/miltondp/projects/labs/greenelab/phenoplier_manuscript/content/images/lvs_analysis/lv730')"
      ]
     },
     "metadata": {},
     "output_type": "display_data"
    }
   ],
   "source": [
    "OUTPUT_FIGURES_DIR = Path(\n",
    "    conf.MANUSCRIPT[\"FIGURES_DIR\"], \"lvs_analysis\", f\"{LV_NAME.lower()}\"\n",
    ").resolve()\n",
    "display(OUTPUT_FIGURES_DIR)\n",
    "OUTPUT_FIGURES_DIR.mkdir(parents=True, exist_ok=True)"
   ]
  },
  {
   "cell_type": "code",
   "execution_count": 6,
   "id": "portuguese-spank",
   "metadata": {},
   "outputs": [
    {
     "data": {
      "text/plain": [
       "PosixPath('/home/miltondp/projects/labs/greenelab/phenoplier_manuscript/content/images/lvs_analysis/lv730/lv730-cell_types.svg')"
      ]
     },
     "metadata": {},
     "output_type": "display_data"
    }
   ],
   "source": [
    "OUTPUT_CELL_TYPE_FILEPATH = OUTPUT_FIGURES_DIR / f\"{LV_NAME.lower()}-cell_types.svg\"\n",
    "display(OUTPUT_CELL_TYPE_FILEPATH)"
   ]
  },
  {
   "cell_type": "markdown",
   "id": "painful-topic",
   "metadata": {
    "papermill": {
     "duration": 0.005592,
     "end_time": "2021-05-11T19:09:56.854406",
     "exception": false,
     "start_time": "2021-05-11T19:09:56.848814",
     "status": "completed"
    },
    "tags": []
   },
   "source": [
    "# Load MultiPLIER summary"
   ]
  },
  {
   "cell_type": "code",
   "execution_count": 7,
   "id": "serious-range",
   "metadata": {
    "papermill": {
     "duration": 0.020251,
     "end_time": "2021-05-11T19:09:56.880435",
     "exception": false,
     "start_time": "2021-05-11T19:09:56.860184",
     "status": "completed"
    },
    "tags": []
   },
   "outputs": [],
   "source": [
    "multiplier_model_summary = pd.read_pickle(conf.MULTIPLIER[\"MODEL_SUMMARY_FILE\"])"
   ]
  },
  {
   "cell_type": "code",
   "execution_count": 8,
   "id": "permanent-roulette",
   "metadata": {
    "papermill": {
     "duration": 0.02062,
     "end_time": "2021-05-11T19:09:56.906744",
     "exception": false,
     "start_time": "2021-05-11T19:09:56.886124",
     "status": "completed"
    },
    "tags": []
   },
   "outputs": [
    {
     "data": {
      "text/plain": [
       "(2157, 5)"
      ]
     },
     "execution_count": 8,
     "metadata": {},
     "output_type": "execute_result"
    }
   ],
   "source": [
    "multiplier_model_summary.shape"
   ]
  },
  {
   "cell_type": "code",
   "execution_count": 9,
   "id": "interracial-north",
   "metadata": {
    "papermill": {
     "duration": 0.024737,
     "end_time": "2021-05-11T19:09:56.937493",
     "exception": false,
     "start_time": "2021-05-11T19:09:56.912756",
     "status": "completed"
    },
    "tags": []
   },
   "outputs": [
    {
     "data": {
      "text/html": [
       "<div>\n",
       "<style scoped>\n",
       "    .dataframe tbody tr th:only-of-type {\n",
       "        vertical-align: middle;\n",
       "    }\n",
       "\n",
       "    .dataframe tbody tr th {\n",
       "        vertical-align: top;\n",
       "    }\n",
       "\n",
       "    .dataframe thead th {\n",
       "        text-align: right;\n",
       "    }\n",
       "</style>\n",
       "<table border=\"1\" class=\"dataframe\">\n",
       "  <thead>\n",
       "    <tr style=\"text-align: right;\">\n",
       "      <th></th>\n",
       "      <th>pathway</th>\n",
       "      <th>LV index</th>\n",
       "      <th>AUC</th>\n",
       "      <th>p-value</th>\n",
       "      <th>FDR</th>\n",
       "    </tr>\n",
       "  </thead>\n",
       "  <tbody>\n",
       "    <tr>\n",
       "      <th>1</th>\n",
       "      <td>KEGG_LYSINE_DEGRADATION</td>\n",
       "      <td>1</td>\n",
       "      <td>0.388059</td>\n",
       "      <td>0.866078</td>\n",
       "      <td>0.956005</td>\n",
       "    </tr>\n",
       "    <tr>\n",
       "      <th>2</th>\n",
       "      <td>REACTOME_MRNA_SPLICING</td>\n",
       "      <td>1</td>\n",
       "      <td>0.733057</td>\n",
       "      <td>0.000048</td>\n",
       "      <td>0.000582</td>\n",
       "    </tr>\n",
       "    <tr>\n",
       "      <th>3</th>\n",
       "      <td>MIPS_NOP56P_ASSOCIATED_PRE_RRNA_COMPLEX</td>\n",
       "      <td>1</td>\n",
       "      <td>0.680555</td>\n",
       "      <td>0.001628</td>\n",
       "      <td>0.011366</td>\n",
       "    </tr>\n",
       "    <tr>\n",
       "      <th>4</th>\n",
       "      <td>KEGG_DNA_REPLICATION</td>\n",
       "      <td>1</td>\n",
       "      <td>0.549473</td>\n",
       "      <td>0.312155</td>\n",
       "      <td>0.539951</td>\n",
       "    </tr>\n",
       "    <tr>\n",
       "      <th>5</th>\n",
       "      <td>PID_MYC_ACTIVPATHWAY</td>\n",
       "      <td>1</td>\n",
       "      <td>0.639303</td>\n",
       "      <td>0.021702</td>\n",
       "      <td>0.083739</td>\n",
       "    </tr>\n",
       "  </tbody>\n",
       "</table>\n",
       "</div>"
      ],
      "text/plain": [
       "                                   pathway LV index       AUC   p-value  \\\n",
       "1                  KEGG_LYSINE_DEGRADATION        1  0.388059  0.866078   \n",
       "2                   REACTOME_MRNA_SPLICING        1  0.733057  0.000048   \n",
       "3  MIPS_NOP56P_ASSOCIATED_PRE_RRNA_COMPLEX        1  0.680555  0.001628   \n",
       "4                     KEGG_DNA_REPLICATION        1  0.549473  0.312155   \n",
       "5                     PID_MYC_ACTIVPATHWAY        1  0.639303  0.021702   \n",
       "\n",
       "        FDR  \n",
       "1  0.956005  \n",
       "2  0.000582  \n",
       "3  0.011366  \n",
       "4  0.539951  \n",
       "5  0.083739  "
      ]
     },
     "execution_count": 9,
     "metadata": {},
     "output_type": "execute_result"
    }
   ],
   "source": [
    "multiplier_model_summary.head()"
   ]
  },
  {
   "cell_type": "markdown",
   "id": "restricted-board",
   "metadata": {
    "papermill": {
     "duration": 0.006007,
     "end_time": "2021-05-11T19:09:56.949763",
     "exception": false,
     "start_time": "2021-05-11T19:09:56.943756",
     "status": "completed"
    },
    "tags": []
   },
   "source": [
    "# Load data"
   ]
  },
  {
   "cell_type": "markdown",
   "id": "arabic-vegetation",
   "metadata": {
    "papermill": {
     "duration": 0.005873,
     "end_time": "2021-05-11T19:09:56.961602",
     "exception": false,
     "start_time": "2021-05-11T19:09:56.955729",
     "status": "completed"
    },
    "tags": []
   },
   "source": [
    "## Original data"
   ]
  },
  {
   "cell_type": "code",
   "execution_count": 10,
   "id": "taken-consensus",
   "metadata": {
    "papermill": {
     "duration": 0.019571,
     "end_time": "2021-05-11T19:09:56.987255",
     "exception": false,
     "start_time": "2021-05-11T19:09:56.967684",
     "status": "completed"
    },
    "tags": []
   },
   "outputs": [],
   "source": [
    "INPUT_SUBSET = \"z_score_std\""
   ]
  },
  {
   "cell_type": "code",
   "execution_count": 11,
   "id": "coastal-breath",
   "metadata": {
    "papermill": {
     "duration": 0.019175,
     "end_time": "2021-05-11T19:09:57.025099",
     "exception": false,
     "start_time": "2021-05-11T19:09:57.005924",
     "status": "completed"
    },
    "tags": []
   },
   "outputs": [],
   "source": [
    "INPUT_STEM = \"projection-smultixcan-efo_partial-mashr-zscores\""
   ]
  },
  {
   "cell_type": "code",
   "execution_count": 12,
   "id": "meaningful-conditioning",
   "metadata": {
    "papermill": {
     "duration": 0.020992,
     "end_time": "2021-05-11T19:09:57.052255",
     "exception": false,
     "start_time": "2021-05-11T19:09:57.031263",
     "status": "completed"
    },
    "tags": []
   },
   "outputs": [
    {
     "data": {
      "text/plain": [
       "PosixPath('/home/miltondp/projects/labs/greenelab/phenoplier/bases_data/base_orig/results/data_transformations/z_score_std/z_score_std-projection-smultixcan-efo_partial-mashr-zscores.pkl')"
      ]
     },
     "metadata": {},
     "output_type": "display_data"
    },
    {
     "data": {
      "text/plain": [
       "'z_score_std-projection-smultixcan-efo_partial-mashr-zscores'"
      ]
     },
     "metadata": {},
     "output_type": "display_data"
    }
   ],
   "source": [
    "input_filepath = Path(\n",
    "    conf.RESULTS[\"DATA_TRANSFORMATIONS_DIR\"],\n",
    "    INPUT_SUBSET,\n",
    "    f\"{INPUT_SUBSET}-{INPUT_STEM}.pkl\",\n",
    ").resolve()\n",
    "display(input_filepath)\n",
    "\n",
    "assert input_filepath.exists(), \"Input file does not exist\"\n",
    "\n",
    "input_filepath_stem = input_filepath.stem\n",
    "display(input_filepath_stem)"
   ]
  },
  {
   "cell_type": "code",
   "execution_count": 13,
   "id": "academic-costume",
   "metadata": {
    "papermill": {
     "duration": 0.032337,
     "end_time": "2021-05-11T19:09:57.090585",
     "exception": false,
     "start_time": "2021-05-11T19:09:57.058248",
     "status": "completed"
    },
    "tags": []
   },
   "outputs": [],
   "source": [
    "data = pd.read_pickle(input_filepath)"
   ]
  },
  {
   "cell_type": "code",
   "execution_count": 14,
   "id": "associate-honduras",
   "metadata": {
    "papermill": {
     "duration": 0.01967,
     "end_time": "2021-05-11T19:09:57.116292",
     "exception": false,
     "start_time": "2021-05-11T19:09:57.096622",
     "status": "completed"
    },
    "tags": []
   },
   "outputs": [
    {
     "data": {
      "text/plain": [
       "(3752, 987)"
      ]
     },
     "execution_count": 14,
     "metadata": {},
     "output_type": "execute_result"
    }
   ],
   "source": [
    "data.shape"
   ]
  },
  {
   "cell_type": "code",
   "execution_count": 15,
   "id": "conscious-alloy",
   "metadata": {
    "papermill": {
     "duration": 0.031843,
     "end_time": "2021-05-11T19:09:57.154356",
     "exception": false,
     "start_time": "2021-05-11T19:09:57.122513",
     "status": "completed"
    },
    "tags": []
   },
   "outputs": [
    {
     "data": {
      "text/html": [
       "<div>\n",
       "<style scoped>\n",
       "    .dataframe tbody tr th:only-of-type {\n",
       "        vertical-align: middle;\n",
       "    }\n",
       "\n",
       "    .dataframe tbody tr th {\n",
       "        vertical-align: top;\n",
       "    }\n",
       "\n",
       "    .dataframe thead th {\n",
       "        text-align: right;\n",
       "    }\n",
       "</style>\n",
       "<table border=\"1\" class=\"dataframe\">\n",
       "  <thead>\n",
       "    <tr style=\"text-align: right;\">\n",
       "      <th></th>\n",
       "      <th>LV1</th>\n",
       "      <th>LV2</th>\n",
       "      <th>LV3</th>\n",
       "      <th>LV4</th>\n",
       "      <th>LV5</th>\n",
       "      <th>LV6</th>\n",
       "      <th>LV7</th>\n",
       "      <th>LV8</th>\n",
       "      <th>LV9</th>\n",
       "      <th>LV10</th>\n",
       "      <th>...</th>\n",
       "      <th>LV978</th>\n",
       "      <th>LV979</th>\n",
       "      <th>LV980</th>\n",
       "      <th>LV981</th>\n",
       "      <th>LV982</th>\n",
       "      <th>LV983</th>\n",
       "      <th>LV984</th>\n",
       "      <th>LV985</th>\n",
       "      <th>LV986</th>\n",
       "      <th>LV987</th>\n",
       "    </tr>\n",
       "  </thead>\n",
       "  <tbody>\n",
       "    <tr>\n",
       "      <th>100001_raw-Food_weight</th>\n",
       "      <td>-0.695006</td>\n",
       "      <td>1.962565</td>\n",
       "      <td>0.057683</td>\n",
       "      <td>0.878731</td>\n",
       "      <td>-0.539977</td>\n",
       "      <td>1.481272</td>\n",
       "      <td>-0.396422</td>\n",
       "      <td>1.090180</td>\n",
       "      <td>0.759223</td>\n",
       "      <td>0.931395</td>\n",
       "      <td>...</td>\n",
       "      <td>1.129784</td>\n",
       "      <td>1.752343</td>\n",
       "      <td>-1.411403</td>\n",
       "      <td>2.823863</td>\n",
       "      <td>0.931116</td>\n",
       "      <td>-1.054519</td>\n",
       "      <td>0.432982</td>\n",
       "      <td>-0.633597</td>\n",
       "      <td>0.554279</td>\n",
       "      <td>-0.642479</td>\n",
       "    </tr>\n",
       "    <tr>\n",
       "      <th>100002_raw-Energy</th>\n",
       "      <td>-1.528127</td>\n",
       "      <td>-0.345309</td>\n",
       "      <td>-0.148953</td>\n",
       "      <td>-0.242060</td>\n",
       "      <td>0.373427</td>\n",
       "      <td>0.791092</td>\n",
       "      <td>0.263477</td>\n",
       "      <td>0.987702</td>\n",
       "      <td>0.354391</td>\n",
       "      <td>1.416059</td>\n",
       "      <td>...</td>\n",
       "      <td>0.224604</td>\n",
       "      <td>0.769882</td>\n",
       "      <td>-0.509482</td>\n",
       "      <td>0.091153</td>\n",
       "      <td>2.286789</td>\n",
       "      <td>-1.008256</td>\n",
       "      <td>-0.029764</td>\n",
       "      <td>1.737229</td>\n",
       "      <td>-0.272107</td>\n",
       "      <td>-0.526125</td>\n",
       "    </tr>\n",
       "    <tr>\n",
       "      <th>100003_raw-Protein</th>\n",
       "      <td>-0.704572</td>\n",
       "      <td>-1.011299</td>\n",
       "      <td>0.671420</td>\n",
       "      <td>0.143991</td>\n",
       "      <td>0.615212</td>\n",
       "      <td>0.874212</td>\n",
       "      <td>-0.040998</td>\n",
       "      <td>0.915170</td>\n",
       "      <td>0.254369</td>\n",
       "      <td>-0.084237</td>\n",
       "      <td>...</td>\n",
       "      <td>1.003019</td>\n",
       "      <td>1.044314</td>\n",
       "      <td>-2.376108</td>\n",
       "      <td>0.004778</td>\n",
       "      <td>0.053714</td>\n",
       "      <td>-0.892447</td>\n",
       "      <td>-0.183800</td>\n",
       "      <td>1.377991</td>\n",
       "      <td>-0.278794</td>\n",
       "      <td>-0.419733</td>\n",
       "    </tr>\n",
       "    <tr>\n",
       "      <th>100004_raw-Fat</th>\n",
       "      <td>-0.989832</td>\n",
       "      <td>-1.875490</td>\n",
       "      <td>0.261555</td>\n",
       "      <td>-1.420719</td>\n",
       "      <td>0.366238</td>\n",
       "      <td>1.167049</td>\n",
       "      <td>0.257387</td>\n",
       "      <td>0.717674</td>\n",
       "      <td>-0.997664</td>\n",
       "      <td>0.969825</td>\n",
       "      <td>...</td>\n",
       "      <td>0.585913</td>\n",
       "      <td>0.638314</td>\n",
       "      <td>0.119139</td>\n",
       "      <td>-0.140204</td>\n",
       "      <td>1.394326</td>\n",
       "      <td>-1.173402</td>\n",
       "      <td>0.555058</td>\n",
       "      <td>1.013982</td>\n",
       "      <td>-0.544506</td>\n",
       "      <td>-0.064061</td>\n",
       "    </tr>\n",
       "    <tr>\n",
       "      <th>100005_raw-Carbohydrate</th>\n",
       "      <td>-0.580143</td>\n",
       "      <td>0.243335</td>\n",
       "      <td>0.158966</td>\n",
       "      <td>-0.036558</td>\n",
       "      <td>0.068176</td>\n",
       "      <td>-0.202639</td>\n",
       "      <td>1.101281</td>\n",
       "      <td>0.675227</td>\n",
       "      <td>1.463432</td>\n",
       "      <td>1.010078</td>\n",
       "      <td>...</td>\n",
       "      <td>-0.249108</td>\n",
       "      <td>-0.026814</td>\n",
       "      <td>0.232713</td>\n",
       "      <td>0.323682</td>\n",
       "      <td>1.168642</td>\n",
       "      <td>-0.282935</td>\n",
       "      <td>0.653105</td>\n",
       "      <td>1.909526</td>\n",
       "      <td>0.199997</td>\n",
       "      <td>-1.656894</td>\n",
       "    </tr>\n",
       "  </tbody>\n",
       "</table>\n",
       "<p>5 rows × 987 columns</p>\n",
       "</div>"
      ],
      "text/plain": [
       "                              LV1       LV2       LV3       LV4       LV5  \\\n",
       "100001_raw-Food_weight  -0.695006  1.962565  0.057683  0.878731 -0.539977   \n",
       "100002_raw-Energy       -1.528127 -0.345309 -0.148953 -0.242060  0.373427   \n",
       "100003_raw-Protein      -0.704572 -1.011299  0.671420  0.143991  0.615212   \n",
       "100004_raw-Fat          -0.989832 -1.875490  0.261555 -1.420719  0.366238   \n",
       "100005_raw-Carbohydrate -0.580143  0.243335  0.158966 -0.036558  0.068176   \n",
       "\n",
       "                              LV6       LV7       LV8       LV9      LV10  \\\n",
       "100001_raw-Food_weight   1.481272 -0.396422  1.090180  0.759223  0.931395   \n",
       "100002_raw-Energy        0.791092  0.263477  0.987702  0.354391  1.416059   \n",
       "100003_raw-Protein       0.874212 -0.040998  0.915170  0.254369 -0.084237   \n",
       "100004_raw-Fat           1.167049  0.257387  0.717674 -0.997664  0.969825   \n",
       "100005_raw-Carbohydrate -0.202639  1.101281  0.675227  1.463432  1.010078   \n",
       "\n",
       "                         ...     LV978     LV979     LV980     LV981  \\\n",
       "100001_raw-Food_weight   ...  1.129784  1.752343 -1.411403  2.823863   \n",
       "100002_raw-Energy        ...  0.224604  0.769882 -0.509482  0.091153   \n",
       "100003_raw-Protein       ...  1.003019  1.044314 -2.376108  0.004778   \n",
       "100004_raw-Fat           ...  0.585913  0.638314  0.119139 -0.140204   \n",
       "100005_raw-Carbohydrate  ... -0.249108 -0.026814  0.232713  0.323682   \n",
       "\n",
       "                            LV982     LV983     LV984     LV985     LV986  \\\n",
       "100001_raw-Food_weight   0.931116 -1.054519  0.432982 -0.633597  0.554279   \n",
       "100002_raw-Energy        2.286789 -1.008256 -0.029764  1.737229 -0.272107   \n",
       "100003_raw-Protein       0.053714 -0.892447 -0.183800  1.377991 -0.278794   \n",
       "100004_raw-Fat           1.394326 -1.173402  0.555058  1.013982 -0.544506   \n",
       "100005_raw-Carbohydrate  1.168642 -0.282935  0.653105  1.909526  0.199997   \n",
       "\n",
       "                            LV987  \n",
       "100001_raw-Food_weight  -0.642479  \n",
       "100002_raw-Energy       -0.526125  \n",
       "100003_raw-Protein      -0.419733  \n",
       "100004_raw-Fat          -0.064061  \n",
       "100005_raw-Carbohydrate -1.656894  \n",
       "\n",
       "[5 rows x 987 columns]"
      ]
     },
     "execution_count": 15,
     "metadata": {},
     "output_type": "execute_result"
    }
   ],
   "source": [
    "data.head()"
   ]
  },
  {
   "cell_type": "markdown",
   "id": "frozen-supervision",
   "metadata": {},
   "source": [
    "## LV data"
   ]
  },
  {
   "cell_type": "code",
   "execution_count": 16,
   "id": "supposed-event",
   "metadata": {},
   "outputs": [],
   "source": [
    "lv_obj = LVAnalysis(LV_NAME, data)"
   ]
  },
  {
   "cell_type": "code",
   "execution_count": 17,
   "id": "handmade-disclaimer",
   "metadata": {},
   "outputs": [
    {
     "name": "stderr",
     "output_type": "stream",
     "text": [
      "[2021-08-02 13:53:29,904 - numexpr.utils] INFO: NumExpr defaulting to 8 threads.\n"
     ]
    },
    {
     "data": {
      "text/html": [
       "<div>\n",
       "<style scoped>\n",
       "    .dataframe tbody tr th:only-of-type {\n",
       "        vertical-align: middle;\n",
       "    }\n",
       "\n",
       "    .dataframe tbody tr th {\n",
       "        vertical-align: top;\n",
       "    }\n",
       "\n",
       "    .dataframe thead th {\n",
       "        text-align: right;\n",
       "    }\n",
       "</style>\n",
       "<table border=\"1\" class=\"dataframe\">\n",
       "  <thead>\n",
       "    <tr style=\"text-align: right;\">\n",
       "      <th></th>\n",
       "      <th>pathway</th>\n",
       "      <th>LV index</th>\n",
       "      <th>AUC</th>\n",
       "      <th>p-value</th>\n",
       "      <th>FDR</th>\n",
       "    </tr>\n",
       "  </thead>\n",
       "  <tbody>\n",
       "    <tr>\n",
       "      <th>1705</th>\n",
       "      <td>DMAP_MEGA2</td>\n",
       "      <td>730</td>\n",
       "      <td>0.819755</td>\n",
       "      <td>0.000002</td>\n",
       "      <td>0.000026</td>\n",
       "    </tr>\n",
       "  </tbody>\n",
       "</table>\n",
       "</div>"
      ],
      "text/plain": [
       "         pathway LV index       AUC   p-value       FDR\n",
       "1705  DMAP_MEGA2      730  0.819755  0.000002  0.000026"
      ]
     },
     "execution_count": 17,
     "metadata": {},
     "output_type": "execute_result"
    }
   ],
   "source": [
    "multiplier_model_summary[\n",
    "    multiplier_model_summary[\"LV index\"].isin((LV_NAME[2:],))\n",
    "    & (\n",
    "        (multiplier_model_summary[\"FDR\"] < 0.05)\n",
    "        | (multiplier_model_summary[\"AUC\"] >= 0.75)\n",
    "    )\n",
    "]"
   ]
  },
  {
   "cell_type": "code",
   "execution_count": 18,
   "id": "deadly-cache",
   "metadata": {},
   "outputs": [
    {
     "name": "stdout",
     "output_type": "stream",
     "text": [
      "SRP057500, SRP053296, SRP056295, SRP062023, SRP042161, SRP042596, SRP041988, SRP059205, SRP050499, SRP018403, SRP014620, SRP057196, SRP062025, SRP055569, SRP060355, SRP058667, SRP063493, SRP021085, "
     ]
    },
    {
     "name": "stderr",
     "output_type": "stream",
     "text": [
      "/home/miltondp/projects/labs/greenelab/phenoplier/libs/data/recount2.py:320: UserWarning: Not all experiments data could be loaded (17 != 18)\n",
      "  warnings.warn(\n"
     ]
    }
   ],
   "source": [
    "lv_data = lv_obj.get_experiments_data()"
   ]
  },
  {
   "cell_type": "code",
   "execution_count": 19,
   "id": "uniform-nursing",
   "metadata": {},
   "outputs": [
    {
     "data": {
      "text/plain": [
       "(3508, 31)"
      ]
     },
     "execution_count": 19,
     "metadata": {},
     "output_type": "execute_result"
    }
   ],
   "source": [
    "lv_data.shape"
   ]
  },
  {
   "cell_type": "code",
   "execution_count": 20,
   "id": "finished-submission",
   "metadata": {},
   "outputs": [
    {
     "data": {
      "text/html": [
       "<div>\n",
       "<style scoped>\n",
       "    .dataframe tbody tr th:only-of-type {\n",
       "        vertical-align: middle;\n",
       "    }\n",
       "\n",
       "    .dataframe tbody tr th {\n",
       "        vertical-align: top;\n",
       "    }\n",
       "\n",
       "    .dataframe thead th {\n",
       "        text-align: right;\n",
       "    }\n",
       "</style>\n",
       "<table border=\"1\" class=\"dataframe\">\n",
       "  <thead>\n",
       "    <tr style=\"text-align: right;\">\n",
       "      <th></th>\n",
       "      <th></th>\n",
       "      <th>batch</th>\n",
       "      <th>cancer type</th>\n",
       "      <th>cell type</th>\n",
       "      <th>mutational subclass</th>\n",
       "      <th>patient id</th>\n",
       "      <th>tissue</th>\n",
       "      <th>tissue derivation</th>\n",
       "      <th>cell line</th>\n",
       "      <th>subtype</th>\n",
       "      <th>collectiondate</th>\n",
       "      <th>...</th>\n",
       "      <th>experiment_sample_name</th>\n",
       "      <th>phenotype</th>\n",
       "      <th>cell phenotype</th>\n",
       "      <th>tissue type</th>\n",
       "      <th>tissue subtype</th>\n",
       "      <th>tag</th>\n",
       "      <th>disease state</th>\n",
       "      <th>sf3b1 mutation</th>\n",
       "      <th>treatment</th>\n",
       "      <th>LV730</th>\n",
       "    </tr>\n",
       "    <tr>\n",
       "      <th>project</th>\n",
       "      <th>run</th>\n",
       "      <th></th>\n",
       "      <th></th>\n",
       "      <th></th>\n",
       "      <th></th>\n",
       "      <th></th>\n",
       "      <th></th>\n",
       "      <th></th>\n",
       "      <th></th>\n",
       "      <th></th>\n",
       "      <th></th>\n",
       "      <th></th>\n",
       "      <th></th>\n",
       "      <th></th>\n",
       "      <th></th>\n",
       "      <th></th>\n",
       "      <th></th>\n",
       "      <th></th>\n",
       "      <th></th>\n",
       "      <th></th>\n",
       "      <th></th>\n",
       "      <th></th>\n",
       "    </tr>\n",
       "  </thead>\n",
       "  <tbody>\n",
       "    <tr>\n",
       "      <th rowspan=\"5\" valign=\"top\">SRP057500</th>\n",
       "      <th>SRR1982614</th>\n",
       "      <td>Batch04</td>\n",
       "      <td>Hepatobiliary</td>\n",
       "      <td>Thrombocytes</td>\n",
       "      <td>wt</td>\n",
       "      <td>Chol-442</td>\n",
       "      <td>blood</td>\n",
       "      <td>NaN</td>\n",
       "      <td>NaN</td>\n",
       "      <td>NaN</td>\n",
       "      <td>NaN</td>\n",
       "      <td>...</td>\n",
       "      <td>NaN</td>\n",
       "      <td>NaN</td>\n",
       "      <td>NaN</td>\n",
       "      <td>NaN</td>\n",
       "      <td>NaN</td>\n",
       "      <td>NaN</td>\n",
       "      <td>NaN</td>\n",
       "      <td>NaN</td>\n",
       "      <td>NaN</td>\n",
       "      <td>0.531810</td>\n",
       "    </tr>\n",
       "    <tr>\n",
       "      <th>SRR1982613</th>\n",
       "      <td>Batch04</td>\n",
       "      <td>Hepatobiliary</td>\n",
       "      <td>Thrombocytes</td>\n",
       "      <td>KRAS</td>\n",
       "      <td>Chol-410</td>\n",
       "      <td>blood</td>\n",
       "      <td>NaN</td>\n",
       "      <td>NaN</td>\n",
       "      <td>NaN</td>\n",
       "      <td>NaN</td>\n",
       "      <td>...</td>\n",
       "      <td>NaN</td>\n",
       "      <td>NaN</td>\n",
       "      <td>NaN</td>\n",
       "      <td>NaN</td>\n",
       "      <td>NaN</td>\n",
       "      <td>NaN</td>\n",
       "      <td>NaN</td>\n",
       "      <td>NaN</td>\n",
       "      <td>NaN</td>\n",
       "      <td>1.075190</td>\n",
       "    </tr>\n",
       "    <tr>\n",
       "      <th>SRR1982612</th>\n",
       "      <td>Batch03</td>\n",
       "      <td>Hepatobiliary</td>\n",
       "      <td>Thrombocytes</td>\n",
       "      <td>wt</td>\n",
       "      <td>Chol-379</td>\n",
       "      <td>blood</td>\n",
       "      <td>NaN</td>\n",
       "      <td>NaN</td>\n",
       "      <td>NaN</td>\n",
       "      <td>NaN</td>\n",
       "      <td>...</td>\n",
       "      <td>NaN</td>\n",
       "      <td>NaN</td>\n",
       "      <td>NaN</td>\n",
       "      <td>NaN</td>\n",
       "      <td>NaN</td>\n",
       "      <td>NaN</td>\n",
       "      <td>NaN</td>\n",
       "      <td>NaN</td>\n",
       "      <td>NaN</td>\n",
       "      <td>0.668744</td>\n",
       "    </tr>\n",
       "    <tr>\n",
       "      <th>SRR1982611</th>\n",
       "      <td>Batch03</td>\n",
       "      <td>Hepatobiliary</td>\n",
       "      <td>Thrombocytes</td>\n",
       "      <td>wt</td>\n",
       "      <td>Chol-376</td>\n",
       "      <td>blood</td>\n",
       "      <td>NaN</td>\n",
       "      <td>NaN</td>\n",
       "      <td>NaN</td>\n",
       "      <td>NaN</td>\n",
       "      <td>...</td>\n",
       "      <td>NaN</td>\n",
       "      <td>NaN</td>\n",
       "      <td>NaN</td>\n",
       "      <td>NaN</td>\n",
       "      <td>NaN</td>\n",
       "      <td>NaN</td>\n",
       "      <td>NaN</td>\n",
       "      <td>NaN</td>\n",
       "      <td>NaN</td>\n",
       "      <td>0.925050</td>\n",
       "    </tr>\n",
       "    <tr>\n",
       "      <th>SRR1982610</th>\n",
       "      <td>Batch03</td>\n",
       "      <td>Hepatobiliary</td>\n",
       "      <td>Thrombocytes</td>\n",
       "      <td>wt</td>\n",
       "      <td>Chol-341</td>\n",
       "      <td>blood</td>\n",
       "      <td>NaN</td>\n",
       "      <td>NaN</td>\n",
       "      <td>NaN</td>\n",
       "      <td>NaN</td>\n",
       "      <td>...</td>\n",
       "      <td>NaN</td>\n",
       "      <td>NaN</td>\n",
       "      <td>NaN</td>\n",
       "      <td>NaN</td>\n",
       "      <td>NaN</td>\n",
       "      <td>NaN</td>\n",
       "      <td>NaN</td>\n",
       "      <td>NaN</td>\n",
       "      <td>NaN</td>\n",
       "      <td>0.804031</td>\n",
       "    </tr>\n",
       "  </tbody>\n",
       "</table>\n",
       "<p>5 rows × 31 columns</p>\n",
       "</div>"
      ],
      "text/plain": [
       "                        batch    cancer type     cell type  \\\n",
       "project   run                                                \n",
       "SRP057500 SRR1982614  Batch04  Hepatobiliary  Thrombocytes   \n",
       "          SRR1982613  Batch04  Hepatobiliary  Thrombocytes   \n",
       "          SRR1982612  Batch03  Hepatobiliary  Thrombocytes   \n",
       "          SRR1982611  Batch03  Hepatobiliary  Thrombocytes   \n",
       "          SRR1982610  Batch03  Hepatobiliary  Thrombocytes   \n",
       "\n",
       "                     mutational subclass patient id tissue tissue derivation  \\\n",
       "project   run                                                                  \n",
       "SRP057500 SRR1982614                  wt   Chol-442  blood               NaN   \n",
       "          SRR1982613                KRAS   Chol-410  blood               NaN   \n",
       "          SRR1982612                  wt   Chol-379  blood               NaN   \n",
       "          SRR1982611                  wt   Chol-376  blood               NaN   \n",
       "          SRR1982610                  wt   Chol-341  blood               NaN   \n",
       "\n",
       "                     cell line subtype collectiondate  ...  \\\n",
       "project   run                                          ...   \n",
       "SRP057500 SRR1982614       NaN     NaN            NaN  ...   \n",
       "          SRR1982613       NaN     NaN            NaN  ...   \n",
       "          SRR1982612       NaN     NaN            NaN  ...   \n",
       "          SRR1982611       NaN     NaN            NaN  ...   \n",
       "          SRR1982610       NaN     NaN            NaN  ...   \n",
       "\n",
       "                     experiment_sample_name phenotype cell phenotype  \\\n",
       "project   run                                                          \n",
       "SRP057500 SRR1982614                    NaN       NaN            NaN   \n",
       "          SRR1982613                    NaN       NaN            NaN   \n",
       "          SRR1982612                    NaN       NaN            NaN   \n",
       "          SRR1982611                    NaN       NaN            NaN   \n",
       "          SRR1982610                    NaN       NaN            NaN   \n",
       "\n",
       "                     tissue type tissue subtype  tag disease state  \\\n",
       "project   run                                                        \n",
       "SRP057500 SRR1982614         NaN            NaN  NaN           NaN   \n",
       "          SRR1982613         NaN            NaN  NaN           NaN   \n",
       "          SRR1982612         NaN            NaN  NaN           NaN   \n",
       "          SRR1982611         NaN            NaN  NaN           NaN   \n",
       "          SRR1982610         NaN            NaN  NaN           NaN   \n",
       "\n",
       "                     sf3b1 mutation treatment     LV730  \n",
       "project   run                                            \n",
       "SRP057500 SRR1982614            NaN       NaN  0.531810  \n",
       "          SRR1982613            NaN       NaN  1.075190  \n",
       "          SRR1982612            NaN       NaN  0.668744  \n",
       "          SRR1982611            NaN       NaN  0.925050  \n",
       "          SRR1982610            NaN       NaN  0.804031  \n",
       "\n",
       "[5 rows x 31 columns]"
      ]
     },
     "execution_count": 20,
     "metadata": {},
     "output_type": "execute_result"
    }
   ],
   "source": [
    "lv_data.head()"
   ]
  },
  {
   "cell_type": "markdown",
   "id": "saving-catalyst",
   "metadata": {},
   "source": [
    "# LV cell types analysis"
   ]
  },
  {
   "cell_type": "markdown",
   "id": "complimentary-hollywood",
   "metadata": {},
   "source": [
    "## Get top attributes"
   ]
  },
  {
   "cell_type": "code",
   "execution_count": 21,
   "id": "enhanced-gender",
   "metadata": {},
   "outputs": [
    {
     "data": {
      "text/plain": [
       "batch                        0.191813\n",
       "mutational subclass          0.191813\n",
       "cancer type                  0.191813\n",
       "patient id                   0.166939\n",
       "tissue                       0.119182\n",
       "cell type                    0.068996\n",
       "origin                       0.018848\n",
       "cell origin                  0.018848\n",
       "description                  0.018848\n",
       "tissue subtype               0.009060\n",
       "tag                          0.009060\n",
       "tissue type                  0.009060\n",
       "collectiondate               0.006185\n",
       "rin                          0.006185\n",
       "antibody used for sorting    0.006066\n",
       "activation                   0.003325\n",
       "cell line                    0.003235\n",
       "phenotype                    0.003141\n",
       "cell phenotype               0.003141\n",
       "disease state                0.002560\n",
       "dtype: float64"
      ]
     },
     "metadata": {},
     "output_type": "display_data"
    }
   ],
   "source": [
    "lv_attrs = lv_obj.get_attributes_variation_score()\n",
    "display(lv_attrs.head(20))"
   ]
  },
  {
   "cell_type": "code",
   "execution_count": 22,
   "id": "smaller-practice",
   "metadata": {},
   "outputs": [
    {
     "data": {
      "text/plain": [
       "tissue            0.119182\n",
       "cell type         0.068996\n",
       "tissue type       0.009060\n",
       "tissue subtype    0.009060\n",
       "cell phenotype    0.003141\n",
       "dtype: float64"
      ]
     },
     "execution_count": 22,
     "metadata": {},
     "output_type": "execute_result"
    }
   ],
   "source": [
    "# show those with cell type or tissue in their name\n",
    "_tmp = pd.Series(lv_attrs.index)\n",
    "lv_attrs[\n",
    "    _tmp.str.match(\n",
    "        \"(?:cell.+type$)|(?:tissue$)|(?:tissue.+type$)\",\n",
    "        case=False,\n",
    "        flags=re.IGNORECASE,\n",
    "    ).values\n",
    "].sort_values(ascending=False)"
   ]
  },
  {
   "cell_type": "code",
   "execution_count": 23,
   "id": "romantic-matthew",
   "metadata": {},
   "outputs": [],
   "source": [
    "_tmp = lv_data.loc[\n",
    "    :,\n",
    "    [\n",
    "        \"cell type\",\n",
    "        \"tissue\",\n",
    "        \"cancer type\",\n",
    "        \"mutational subclass\",\n",
    "        LV_NAME,\n",
    "    ],\n",
    "]"
   ]
  },
  {
   "cell_type": "code",
   "execution_count": 24,
   "id": "surprised-picture",
   "metadata": {},
   "outputs": [],
   "source": [
    "_tmp_seq = list(chunker(_tmp.sort_values(LV_NAME, ascending=False), 25))"
   ]
  },
  {
   "cell_type": "code",
   "execution_count": 25,
   "id": "every-devil",
   "metadata": {},
   "outputs": [
    {
     "data": {
      "text/html": [
       "<div>\n",
       "<style scoped>\n",
       "    .dataframe tbody tr th:only-of-type {\n",
       "        vertical-align: middle;\n",
       "    }\n",
       "\n",
       "    .dataframe tbody tr th {\n",
       "        vertical-align: top;\n",
       "    }\n",
       "\n",
       "    .dataframe thead th {\n",
       "        text-align: right;\n",
       "    }\n",
       "</style>\n",
       "<table border=\"1\" class=\"dataframe\">\n",
       "  <thead>\n",
       "    <tr style=\"text-align: right;\">\n",
       "      <th></th>\n",
       "      <th></th>\n",
       "      <th>cell type</th>\n",
       "      <th>tissue</th>\n",
       "      <th>cancer type</th>\n",
       "      <th>mutational subclass</th>\n",
       "      <th>LV730</th>\n",
       "    </tr>\n",
       "    <tr>\n",
       "      <th>project</th>\n",
       "      <th>run</th>\n",
       "      <th></th>\n",
       "      <th></th>\n",
       "      <th></th>\n",
       "      <th></th>\n",
       "      <th></th>\n",
       "    </tr>\n",
       "  </thead>\n",
       "  <tbody>\n",
       "    <tr>\n",
       "      <th rowspan=\"25\" valign=\"top\">SRP057500</th>\n",
       "      <th>SRR1982649</th>\n",
       "      <td>Thrombocytes</td>\n",
       "      <td>blood</td>\n",
       "      <td>CRC</td>\n",
       "      <td>KRAS</td>\n",
       "      <td>1.295861</td>\n",
       "    </tr>\n",
       "    <tr>\n",
       "      <th>SRR1982803</th>\n",
       "      <td>Thrombocytes</td>\n",
       "      <td>blood</td>\n",
       "      <td>Pancreas</td>\n",
       "      <td>KRAS</td>\n",
       "      <td>1.294968</td>\n",
       "    </tr>\n",
       "    <tr>\n",
       "      <th>SRR1982595</th>\n",
       "      <td>Thrombocytes</td>\n",
       "      <td>blood</td>\n",
       "      <td>Breast</td>\n",
       "      <td>wt</td>\n",
       "      <td>1.284191</td>\n",
       "    </tr>\n",
       "    <tr>\n",
       "      <th>SRR2096494</th>\n",
       "      <td>thrombocytes</td>\n",
       "      <td>blood</td>\n",
       "      <td>Breast</td>\n",
       "      <td>wt</td>\n",
       "      <td>1.269344</td>\n",
       "    </tr>\n",
       "    <tr>\n",
       "      <th>SRR1982588</th>\n",
       "      <td>Thrombocytes</td>\n",
       "      <td>blood</td>\n",
       "      <td>Breast</td>\n",
       "      <td>HER2+</td>\n",
       "      <td>1.269197</td>\n",
       "    </tr>\n",
       "    <tr>\n",
       "      <th>SRR1982629</th>\n",
       "      <td>Thrombocytes</td>\n",
       "      <td>blood</td>\n",
       "      <td>CRC</td>\n",
       "      <td>wt</td>\n",
       "      <td>1.268847</td>\n",
       "    </tr>\n",
       "    <tr>\n",
       "      <th>SRR1982709</th>\n",
       "      <td>Thrombocytes</td>\n",
       "      <td>blood</td>\n",
       "      <td>HC</td>\n",
       "      <td>wt</td>\n",
       "      <td>1.267296</td>\n",
       "    </tr>\n",
       "    <tr>\n",
       "      <th>SRR1982801</th>\n",
       "      <td>Thrombocytes</td>\n",
       "      <td>blood</td>\n",
       "      <td>Pancreas</td>\n",
       "      <td>wt</td>\n",
       "      <td>1.265849</td>\n",
       "    </tr>\n",
       "    <tr>\n",
       "      <th>SRR1982632</th>\n",
       "      <td>Thrombocytes</td>\n",
       "      <td>blood</td>\n",
       "      <td>CRC</td>\n",
       "      <td>wt</td>\n",
       "      <td>1.255575</td>\n",
       "    </tr>\n",
       "    <tr>\n",
       "      <th>SRR1982789</th>\n",
       "      <td>Thrombocytes</td>\n",
       "      <td>blood</td>\n",
       "      <td>Lung</td>\n",
       "      <td>EGFR</td>\n",
       "      <td>1.232940</td>\n",
       "    </tr>\n",
       "    <tr>\n",
       "      <th>SRR1982680</th>\n",
       "      <td>Thrombocytes</td>\n",
       "      <td>blood</td>\n",
       "      <td>GBM</td>\n",
       "      <td>wt</td>\n",
       "      <td>1.212451</td>\n",
       "    </tr>\n",
       "    <tr>\n",
       "      <th>SRR1982827</th>\n",
       "      <td>Thrombocytes</td>\n",
       "      <td>blood</td>\n",
       "      <td>Pancreas</td>\n",
       "      <td>KRAS</td>\n",
       "      <td>1.212384</td>\n",
       "    </tr>\n",
       "    <tr>\n",
       "      <th>SRR1982625</th>\n",
       "      <td>Thrombocytes</td>\n",
       "      <td>blood</td>\n",
       "      <td>CRC</td>\n",
       "      <td>KRAS</td>\n",
       "      <td>1.211833</td>\n",
       "    </tr>\n",
       "    <tr>\n",
       "      <th>SRR1982673</th>\n",
       "      <td>Thrombocytes</td>\n",
       "      <td>blood</td>\n",
       "      <td>GBM</td>\n",
       "      <td>wt</td>\n",
       "      <td>1.208108</td>\n",
       "    </tr>\n",
       "    <tr>\n",
       "      <th>SRR1982808</th>\n",
       "      <td>Thrombocytes</td>\n",
       "      <td>blood</td>\n",
       "      <td>Pancreas</td>\n",
       "      <td>wt</td>\n",
       "      <td>1.204881</td>\n",
       "    </tr>\n",
       "    <tr>\n",
       "      <th>SRR1982597</th>\n",
       "      <td>Thrombocytes</td>\n",
       "      <td>blood</td>\n",
       "      <td>Breast</td>\n",
       "      <td>PIK3CA</td>\n",
       "      <td>1.192045</td>\n",
       "    </tr>\n",
       "    <tr>\n",
       "      <th>SRR1982642</th>\n",
       "      <td>Thrombocytes</td>\n",
       "      <td>blood</td>\n",
       "      <td>CRC</td>\n",
       "      <td>KRAS</td>\n",
       "      <td>1.189134</td>\n",
       "    </tr>\n",
       "    <tr>\n",
       "      <th>SRR1982706</th>\n",
       "      <td>Thrombocytes</td>\n",
       "      <td>blood</td>\n",
       "      <td>HC</td>\n",
       "      <td>wt</td>\n",
       "      <td>1.174654</td>\n",
       "    </tr>\n",
       "    <tr>\n",
       "      <th>SRR1982825</th>\n",
       "      <td>Thrombocytes</td>\n",
       "      <td>blood</td>\n",
       "      <td>Pancreas</td>\n",
       "      <td>KRAS</td>\n",
       "      <td>1.171780</td>\n",
       "    </tr>\n",
       "    <tr>\n",
       "      <th>SRR1982810</th>\n",
       "      <td>Thrombocytes</td>\n",
       "      <td>blood</td>\n",
       "      <td>Pancreas</td>\n",
       "      <td>wt</td>\n",
       "      <td>1.168332</td>\n",
       "    </tr>\n",
       "    <tr>\n",
       "      <th>SRR1982658</th>\n",
       "      <td>Thrombocytes</td>\n",
       "      <td>blood</td>\n",
       "      <td>GBM</td>\n",
       "      <td>wt</td>\n",
       "      <td>1.158072</td>\n",
       "    </tr>\n",
       "    <tr>\n",
       "      <th>SRR1982626</th>\n",
       "      <td>Thrombocytes</td>\n",
       "      <td>blood</td>\n",
       "      <td>CRC</td>\n",
       "      <td>wt</td>\n",
       "      <td>1.157365</td>\n",
       "    </tr>\n",
       "    <tr>\n",
       "      <th>SRR1982586</th>\n",
       "      <td>Thrombocytes</td>\n",
       "      <td>blood</td>\n",
       "      <td>Breast</td>\n",
       "      <td>HER2+</td>\n",
       "      <td>1.151008</td>\n",
       "    </tr>\n",
       "    <tr>\n",
       "      <th>SRR1982589</th>\n",
       "      <td>Thrombocytes</td>\n",
       "      <td>blood</td>\n",
       "      <td>Breast</td>\n",
       "      <td>Triple Negative</td>\n",
       "      <td>1.133809</td>\n",
       "    </tr>\n",
       "    <tr>\n",
       "      <th>SRR1982818</th>\n",
       "      <td>Thrombocytes</td>\n",
       "      <td>blood</td>\n",
       "      <td>Pancreas</td>\n",
       "      <td>KRAS</td>\n",
       "      <td>1.127333</td>\n",
       "    </tr>\n",
       "  </tbody>\n",
       "</table>\n",
       "</div>"
      ],
      "text/plain": [
       "                         cell type tissue cancer type mutational subclass  \\\n",
       "project   run                                                               \n",
       "SRP057500 SRR1982649  Thrombocytes  blood         CRC                KRAS   \n",
       "          SRR1982803  Thrombocytes  blood    Pancreas                KRAS   \n",
       "          SRR1982595  Thrombocytes  blood      Breast                  wt   \n",
       "          SRR2096494  thrombocytes  blood      Breast                  wt   \n",
       "          SRR1982588  Thrombocytes  blood      Breast               HER2+   \n",
       "          SRR1982629  Thrombocytes  blood         CRC                  wt   \n",
       "          SRR1982709  Thrombocytes  blood          HC                  wt   \n",
       "          SRR1982801  Thrombocytes  blood    Pancreas                  wt   \n",
       "          SRR1982632  Thrombocytes  blood         CRC                  wt   \n",
       "          SRR1982789  Thrombocytes  blood        Lung                EGFR   \n",
       "          SRR1982680  Thrombocytes  blood         GBM                  wt   \n",
       "          SRR1982827  Thrombocytes  blood    Pancreas                KRAS   \n",
       "          SRR1982625  Thrombocytes  blood         CRC                KRAS   \n",
       "          SRR1982673  Thrombocytes  blood         GBM                  wt   \n",
       "          SRR1982808  Thrombocytes  blood    Pancreas                  wt   \n",
       "          SRR1982597  Thrombocytes  blood      Breast              PIK3CA   \n",
       "          SRR1982642  Thrombocytes  blood         CRC                KRAS   \n",
       "          SRR1982706  Thrombocytes  blood          HC                  wt   \n",
       "          SRR1982825  Thrombocytes  blood    Pancreas                KRAS   \n",
       "          SRR1982810  Thrombocytes  blood    Pancreas                  wt   \n",
       "          SRR1982658  Thrombocytes  blood         GBM                  wt   \n",
       "          SRR1982626  Thrombocytes  blood         CRC                  wt   \n",
       "          SRR1982586  Thrombocytes  blood      Breast               HER2+   \n",
       "          SRR1982589  Thrombocytes  blood      Breast     Triple Negative   \n",
       "          SRR1982818  Thrombocytes  blood    Pancreas                KRAS   \n",
       "\n",
       "                         LV730  \n",
       "project   run                   \n",
       "SRP057500 SRR1982649  1.295861  \n",
       "          SRR1982803  1.294968  \n",
       "          SRR1982595  1.284191  \n",
       "          SRR2096494  1.269344  \n",
       "          SRR1982588  1.269197  \n",
       "          SRR1982629  1.268847  \n",
       "          SRR1982709  1.267296  \n",
       "          SRR1982801  1.265849  \n",
       "          SRR1982632  1.255575  \n",
       "          SRR1982789  1.232940  \n",
       "          SRR1982680  1.212451  \n",
       "          SRR1982827  1.212384  \n",
       "          SRR1982625  1.211833  \n",
       "          SRR1982673  1.208108  \n",
       "          SRR1982808  1.204881  \n",
       "          SRR1982597  1.192045  \n",
       "          SRR1982642  1.189134  \n",
       "          SRR1982706  1.174654  \n",
       "          SRR1982825  1.171780  \n",
       "          SRR1982810  1.168332  \n",
       "          SRR1982658  1.158072  \n",
       "          SRR1982626  1.157365  \n",
       "          SRR1982586  1.151008  \n",
       "          SRR1982589  1.133809  \n",
       "          SRR1982818  1.127333  "
      ]
     },
     "execution_count": 25,
     "metadata": {},
     "output_type": "execute_result"
    }
   ],
   "source": [
    "_tmp_seq[1]"
   ]
  },
  {
   "cell_type": "code",
   "execution_count": 26,
   "id": "respiratory-software",
   "metadata": {},
   "outputs": [
    {
     "data": {
      "text/html": [
       "<div>\n",
       "<style scoped>\n",
       "    .dataframe tbody tr th:only-of-type {\n",
       "        vertical-align: middle;\n",
       "    }\n",
       "\n",
       "    .dataframe tbody tr th {\n",
       "        vertical-align: top;\n",
       "    }\n",
       "\n",
       "    .dataframe thead th {\n",
       "        text-align: right;\n",
       "    }\n",
       "</style>\n",
       "<table border=\"1\" class=\"dataframe\">\n",
       "  <thead>\n",
       "    <tr style=\"text-align: right;\">\n",
       "      <th></th>\n",
       "      <th></th>\n",
       "      <th>batch</th>\n",
       "      <th>cancer type</th>\n",
       "      <th>cell type</th>\n",
       "      <th>mutational subclass</th>\n",
       "      <th>patient id</th>\n",
       "      <th>tissue</th>\n",
       "      <th>LV730</th>\n",
       "    </tr>\n",
       "    <tr>\n",
       "      <th>project</th>\n",
       "      <th>run</th>\n",
       "      <th></th>\n",
       "      <th></th>\n",
       "      <th></th>\n",
       "      <th></th>\n",
       "      <th></th>\n",
       "      <th></th>\n",
       "      <th></th>\n",
       "    </tr>\n",
       "  </thead>\n",
       "  <tbody>\n",
       "    <tr>\n",
       "      <th rowspan=\"10\" valign=\"top\">SRP057500</th>\n",
       "      <th>SRR1982661</th>\n",
       "      <td>Batch02</td>\n",
       "      <td>GBM</td>\n",
       "      <td>Thrombocytes</td>\n",
       "      <td>wt</td>\n",
       "      <td>GBM-378</td>\n",
       "      <td>blood</td>\n",
       "      <td>1.869723</td>\n",
       "    </tr>\n",
       "    <tr>\n",
       "      <th>SRR1982667</th>\n",
       "      <td>Batch02</td>\n",
       "      <td>GBM</td>\n",
       "      <td>Thrombocytes</td>\n",
       "      <td>wt</td>\n",
       "      <td>GBM-406</td>\n",
       "      <td>blood</td>\n",
       "      <td>1.850733</td>\n",
       "    </tr>\n",
       "    <tr>\n",
       "      <th>SRR1982782</th>\n",
       "      <td>Batch03</td>\n",
       "      <td>Lung</td>\n",
       "      <td>Thrombocytes</td>\n",
       "      <td>wt</td>\n",
       "      <td>Lung-30</td>\n",
       "      <td>blood</td>\n",
       "      <td>1.703482</td>\n",
       "    </tr>\n",
       "    <tr>\n",
       "      <th>SRR1982788</th>\n",
       "      <td>Batch03</td>\n",
       "      <td>Lung</td>\n",
       "      <td>Thrombocytes</td>\n",
       "      <td>EGFR, MET</td>\n",
       "      <td>Lung-61</td>\n",
       "      <td>blood</td>\n",
       "      <td>1.658324</td>\n",
       "    </tr>\n",
       "    <tr>\n",
       "      <th>SRR1982666</th>\n",
       "      <td>Batch02</td>\n",
       "      <td>GBM</td>\n",
       "      <td>Thrombocytes</td>\n",
       "      <td>wt</td>\n",
       "      <td>GBM-402</td>\n",
       "      <td>blood</td>\n",
       "      <td>1.624695</td>\n",
       "    </tr>\n",
       "    <tr>\n",
       "      <th>SRR1982638</th>\n",
       "      <td>Batch03</td>\n",
       "      <td>CRC</td>\n",
       "      <td>Thrombocytes</td>\n",
       "      <td>KRAS</td>\n",
       "      <td>CRC-466</td>\n",
       "      <td>blood</td>\n",
       "      <td>1.568141</td>\n",
       "    </tr>\n",
       "    <tr>\n",
       "      <th>SRR1982660</th>\n",
       "      <td>Batch03</td>\n",
       "      <td>GBM</td>\n",
       "      <td>Thrombocytes</td>\n",
       "      <td>wt</td>\n",
       "      <td>GBM-372</td>\n",
       "      <td>blood</td>\n",
       "      <td>1.536974</td>\n",
       "    </tr>\n",
       "    <tr>\n",
       "      <th>SRR1982676</th>\n",
       "      <td>Batch02</td>\n",
       "      <td>GBM</td>\n",
       "      <td>Thrombocytes</td>\n",
       "      <td>wt</td>\n",
       "      <td>GBM-430</td>\n",
       "      <td>blood</td>\n",
       "      <td>1.532860</td>\n",
       "    </tr>\n",
       "    <tr>\n",
       "      <th>SRR1982813</th>\n",
       "      <td>Batch03</td>\n",
       "      <td>Pancreas</td>\n",
       "      <td>Thrombocytes</td>\n",
       "      <td>KRAS</td>\n",
       "      <td>Panc-391</td>\n",
       "      <td>blood</td>\n",
       "      <td>1.507183</td>\n",
       "    </tr>\n",
       "    <tr>\n",
       "      <th>SRR1982800</th>\n",
       "      <td>Batch03</td>\n",
       "      <td>Pancreas</td>\n",
       "      <td>Thrombocytes</td>\n",
       "      <td>wt</td>\n",
       "      <td>Panc-328</td>\n",
       "      <td>blood</td>\n",
       "      <td>1.499616</td>\n",
       "    </tr>\n",
       "  </tbody>\n",
       "</table>\n",
       "</div>"
      ],
      "text/plain": [
       "                        batch cancer type     cell type mutational subclass  \\\n",
       "project   run                                                                 \n",
       "SRP057500 SRR1982661  Batch02         GBM  Thrombocytes                  wt   \n",
       "          SRR1982667  Batch02         GBM  Thrombocytes                  wt   \n",
       "          SRR1982782  Batch03        Lung  Thrombocytes                  wt   \n",
       "          SRR1982788  Batch03        Lung  Thrombocytes           EGFR, MET   \n",
       "          SRR1982666  Batch02         GBM  Thrombocytes                  wt   \n",
       "          SRR1982638  Batch03         CRC  Thrombocytes                KRAS   \n",
       "          SRR1982660  Batch03         GBM  Thrombocytes                  wt   \n",
       "          SRR1982676  Batch02         GBM  Thrombocytes                  wt   \n",
       "          SRR1982813  Batch03    Pancreas  Thrombocytes                KRAS   \n",
       "          SRR1982800  Batch03    Pancreas  Thrombocytes                  wt   \n",
       "\n",
       "                     patient id tissue     LV730  \n",
       "project   run                                     \n",
       "SRP057500 SRR1982661    GBM-378  blood  1.869723  \n",
       "          SRR1982667    GBM-406  blood  1.850733  \n",
       "          SRR1982782    Lung-30  blood  1.703482  \n",
       "          SRR1982788    Lung-61  blood  1.658324  \n",
       "          SRR1982666    GBM-402  blood  1.624695  \n",
       "          SRR1982638    CRC-466  blood  1.568141  \n",
       "          SRR1982660    GBM-372  blood  1.536974  \n",
       "          SRR1982676    GBM-430  blood  1.532860  \n",
       "          SRR1982813   Panc-391  blood  1.507183  \n",
       "          SRR1982800   Panc-328  blood  1.499616  "
      ]
     },
     "execution_count": 26,
     "metadata": {},
     "output_type": "execute_result"
    }
   ],
   "source": [
    "# what is there in these projects?\n",
    "lv_data.loc[[\"SRP057500\"]].dropna(how=\"all\", axis=1).sort_values(\n",
    "    LV_NAME, ascending=False\n",
    ").sort_values(LV_NAME, ascending=False).head(10)"
   ]
  },
  {
   "cell_type": "code",
   "execution_count": 27,
   "id": "stopped-correlation",
   "metadata": {},
   "outputs": [],
   "source": [
    "SELECTED_ATTRIBUTE = \"cell type\""
   ]
  },
  {
   "cell_type": "code",
   "execution_count": 28,
   "id": "challenging-nevada",
   "metadata": {},
   "outputs": [],
   "source": [
    "# it has to be in the order desired for filling nans in the SELECTED_ATTRIBUTE\n",
    "SECOND_ATTRIBUTES = [\"tissue\"]"
   ]
  },
  {
   "cell_type": "markdown",
   "id": "outside-ivory",
   "metadata": {},
   "source": [
    "## Get plot data"
   ]
  },
  {
   "cell_type": "code",
   "execution_count": 29,
   "id": "productive-trl",
   "metadata": {},
   "outputs": [],
   "source": [
    "plot_data = lv_data.loc[:, [SELECTED_ATTRIBUTE] + SECOND_ATTRIBUTES + [LV_NAME]]"
   ]
  },
  {
   "cell_type": "code",
   "execution_count": 30,
   "id": "lesser-thriller",
   "metadata": {},
   "outputs": [],
   "source": [
    "# if blank/nan, fill cell type column with tissue content\n",
    "_new_column = plot_data[[SELECTED_ATTRIBUTE] + SECOND_ATTRIBUTES].fillna(\n",
    "    method=\"backfill\", axis=1\n",
    ")[SELECTED_ATTRIBUTE]\n",
    "plot_data[SELECTED_ATTRIBUTE] = _new_column\n",
    "plot_data = plot_data.drop(columns=SECOND_ATTRIBUTES)\n",
    "plot_data = plot_data.fillna({SELECTED_ATTRIBUTE: \"NOT CATEGORIZED\"})\n",
    "# plot_data = plot_data.dropna(subset=[SELECTED_ATTRIBUTE])"
   ]
  },
  {
   "cell_type": "code",
   "execution_count": 31,
   "id": "harmful-salem",
   "metadata": {},
   "outputs": [],
   "source": [
    "plot_data = plot_data.sort_values(LV_NAME, ascending=False)"
   ]
  },
  {
   "cell_type": "code",
   "execution_count": 32,
   "id": "super-navigator",
   "metadata": {},
   "outputs": [
    {
     "data": {
      "text/html": [
       "<div>\n",
       "<style scoped>\n",
       "    .dataframe tbody tr th:only-of-type {\n",
       "        vertical-align: middle;\n",
       "    }\n",
       "\n",
       "    .dataframe tbody tr th {\n",
       "        vertical-align: top;\n",
       "    }\n",
       "\n",
       "    .dataframe thead th {\n",
       "        text-align: right;\n",
       "    }\n",
       "</style>\n",
       "<table border=\"1\" class=\"dataframe\">\n",
       "  <thead>\n",
       "    <tr style=\"text-align: right;\">\n",
       "      <th></th>\n",
       "      <th></th>\n",
       "      <th>cell type</th>\n",
       "      <th>LV730</th>\n",
       "    </tr>\n",
       "    <tr>\n",
       "      <th>project</th>\n",
       "      <th>run</th>\n",
       "      <th></th>\n",
       "      <th></th>\n",
       "    </tr>\n",
       "  </thead>\n",
       "  <tbody>\n",
       "    <tr>\n",
       "      <th rowspan=\"20\" valign=\"top\">SRP057500</th>\n",
       "      <th>SRR1982661</th>\n",
       "      <td>Thrombocytes</td>\n",
       "      <td>1.869723</td>\n",
       "    </tr>\n",
       "    <tr>\n",
       "      <th>SRR1982667</th>\n",
       "      <td>Thrombocytes</td>\n",
       "      <td>1.850733</td>\n",
       "    </tr>\n",
       "    <tr>\n",
       "      <th>SRR1982782</th>\n",
       "      <td>Thrombocytes</td>\n",
       "      <td>1.703482</td>\n",
       "    </tr>\n",
       "    <tr>\n",
       "      <th>SRR1982788</th>\n",
       "      <td>Thrombocytes</td>\n",
       "      <td>1.658324</td>\n",
       "    </tr>\n",
       "    <tr>\n",
       "      <th>SRR1982666</th>\n",
       "      <td>Thrombocytes</td>\n",
       "      <td>1.624695</td>\n",
       "    </tr>\n",
       "    <tr>\n",
       "      <th>SRR1982638</th>\n",
       "      <td>Thrombocytes</td>\n",
       "      <td>1.568141</td>\n",
       "    </tr>\n",
       "    <tr>\n",
       "      <th>SRR1982660</th>\n",
       "      <td>Thrombocytes</td>\n",
       "      <td>1.536974</td>\n",
       "    </tr>\n",
       "    <tr>\n",
       "      <th>SRR1982676</th>\n",
       "      <td>Thrombocytes</td>\n",
       "      <td>1.532860</td>\n",
       "    </tr>\n",
       "    <tr>\n",
       "      <th>SRR1982813</th>\n",
       "      <td>Thrombocytes</td>\n",
       "      <td>1.507183</td>\n",
       "    </tr>\n",
       "    <tr>\n",
       "      <th>SRR1982800</th>\n",
       "      <td>Thrombocytes</td>\n",
       "      <td>1.499616</td>\n",
       "    </tr>\n",
       "    <tr>\n",
       "      <th>SRR1982713</th>\n",
       "      <td>Thrombocytes</td>\n",
       "      <td>1.482228</td>\n",
       "    </tr>\n",
       "    <tr>\n",
       "      <th>SRR1982806</th>\n",
       "      <td>Thrombocytes</td>\n",
       "      <td>1.444313</td>\n",
       "    </tr>\n",
       "    <tr>\n",
       "      <th>SRR1982603</th>\n",
       "      <td>Thrombocytes</td>\n",
       "      <td>1.402699</td>\n",
       "    </tr>\n",
       "    <tr>\n",
       "      <th>SRR1982650</th>\n",
       "      <td>Thrombocytes</td>\n",
       "      <td>1.398294</td>\n",
       "    </tr>\n",
       "    <tr>\n",
       "      <th>SRR1982592</th>\n",
       "      <td>Thrombocytes</td>\n",
       "      <td>1.391677</td>\n",
       "    </tr>\n",
       "    <tr>\n",
       "      <th>SRR1982766</th>\n",
       "      <td>Thrombocytes</td>\n",
       "      <td>1.382152</td>\n",
       "    </tr>\n",
       "    <tr>\n",
       "      <th>SRR1982634</th>\n",
       "      <td>Thrombocytes</td>\n",
       "      <td>1.351197</td>\n",
       "    </tr>\n",
       "    <tr>\n",
       "      <th>SRR1982674</th>\n",
       "      <td>Thrombocytes</td>\n",
       "      <td>1.348668</td>\n",
       "    </tr>\n",
       "    <tr>\n",
       "      <th>SRR1982804</th>\n",
       "      <td>Thrombocytes</td>\n",
       "      <td>1.345236</td>\n",
       "    </tr>\n",
       "    <tr>\n",
       "      <th>SRR1982669</th>\n",
       "      <td>Thrombocytes</td>\n",
       "      <td>1.332295</td>\n",
       "    </tr>\n",
       "  </tbody>\n",
       "</table>\n",
       "</div>"
      ],
      "text/plain": [
       "                         cell type     LV730\n",
       "project   run                               \n",
       "SRP057500 SRR1982661  Thrombocytes  1.869723\n",
       "          SRR1982667  Thrombocytes  1.850733\n",
       "          SRR1982782  Thrombocytes  1.703482\n",
       "          SRR1982788  Thrombocytes  1.658324\n",
       "          SRR1982666  Thrombocytes  1.624695\n",
       "          SRR1982638  Thrombocytes  1.568141\n",
       "          SRR1982660  Thrombocytes  1.536974\n",
       "          SRR1982676  Thrombocytes  1.532860\n",
       "          SRR1982813  Thrombocytes  1.507183\n",
       "          SRR1982800  Thrombocytes  1.499616\n",
       "          SRR1982713  Thrombocytes  1.482228\n",
       "          SRR1982806  Thrombocytes  1.444313\n",
       "          SRR1982603  Thrombocytes  1.402699\n",
       "          SRR1982650  Thrombocytes  1.398294\n",
       "          SRR1982592  Thrombocytes  1.391677\n",
       "          SRR1982766  Thrombocytes  1.382152\n",
       "          SRR1982634  Thrombocytes  1.351197\n",
       "          SRR1982674  Thrombocytes  1.348668\n",
       "          SRR1982804  Thrombocytes  1.345236\n",
       "          SRR1982669  Thrombocytes  1.332295"
      ]
     },
     "execution_count": 32,
     "metadata": {},
     "output_type": "execute_result"
    }
   ],
   "source": [
    "plot_data.head(20)"
   ]
  },
  {
   "cell_type": "markdown",
   "id": "configured-expression",
   "metadata": {},
   "source": [
    "## Customize x-axis values"
   ]
  },
  {
   "cell_type": "markdown",
   "id": "excessive-renewal",
   "metadata": {},
   "source": [
    "When cell type values are not very clear, customize their names by looking at their specific studies to know exactly what the authors meant."
   ]
  },
  {
   "cell_type": "code",
   "execution_count": 33,
   "id": "cardiovascular-calcium",
   "metadata": {},
   "outputs": [],
   "source": [
    "final_plot_data = plot_data.replace(\n",
    "    {\n",
    "        SELECTED_ATTRIBUTE: {\n",
    "            \"thrombocytes\": \"Thrombocytes\",\n",
    "        }\n",
    "    }\n",
    ")\n",
    "\n",
    "# plot_data = plot_data[plot_data[SELECTED_ATTRIBUTE] != \"no cell\"]"
   ]
  },
  {
   "cell_type": "code",
   "execution_count": 34,
   "id": "marine-maker",
   "metadata": {},
   "outputs": [
    {
     "name": "stderr",
     "output_type": "stream",
     "text": [
      "<ipython-input-34-fd136aef7281>:3: PerformanceWarning: indexing past lexsort depth may impact performance.\n",
      "  _tmp = final_plot_data.loc[(_srp_code,)].apply(\n"
     ]
    }
   ],
   "source": [
    "# add also tissue information to these projects\n",
    "_srp_code = \"SRP057500\"\n",
    "_tmp = final_plot_data.loc[(_srp_code,)].apply(\n",
    "    lambda x: x[SELECTED_ATTRIBUTE]\n",
    "    + f\" ({lv_data.loc[(_srp_code, x.name), 'cancer type']})\",\n",
    "    axis=1,\n",
    ")\n",
    "final_plot_data.loc[(_srp_code, _tmp.index), SELECTED_ATTRIBUTE] = _tmp.values"
   ]
  },
  {
   "cell_type": "code",
   "execution_count": 35,
   "id": "answering-somerset",
   "metadata": {},
   "outputs": [],
   "source": [
    "# take the top samples only\n",
    "final_plot_data = final_plot_data.sort_values(LV_NAME, ascending=False)[:N_TOP_SAMPLES]"
   ]
  },
  {
   "cell_type": "markdown",
   "id": "smaller-reward",
   "metadata": {},
   "source": [
    "## Threshold LV values"
   ]
  },
  {
   "cell_type": "code",
   "execution_count": 36,
   "id": "willing-trance",
   "metadata": {},
   "outputs": [],
   "source": [
    "final_plot_data.loc[\n",
    "    final_plot_data[LV_NAME] > LV_AXIS_THRESHOLD, LV_NAME\n",
    "] = LV_AXIS_THRESHOLD"
   ]
  },
  {
   "cell_type": "markdown",
   "id": "seeing-third",
   "metadata": {},
   "source": [
    "## Delete samples with no tissue/cell type information"
   ]
  },
  {
   "cell_type": "code",
   "execution_count": 37,
   "id": "elder-wichita",
   "metadata": {},
   "outputs": [],
   "source": [
    "final_plot_data = final_plot_data[\n",
    "    final_plot_data[SELECTED_ATTRIBUTE] != \"NOT CATEGORIZED\"\n",
    "]"
   ]
  },
  {
   "cell_type": "markdown",
   "id": "discrete-singapore",
   "metadata": {},
   "source": [
    "## Set x-axis order"
   ]
  },
  {
   "cell_type": "code",
   "execution_count": 38,
   "id": "fewer-demonstration",
   "metadata": {},
   "outputs": [],
   "source": [
    "attr_order = (\n",
    "    final_plot_data.groupby(SELECTED_ATTRIBUTE)\n",
    "    .max()\n",
    "    .sort_values(LV_NAME, ascending=False)\n",
    "    .index[:N_TOP_ATTRS]\n",
    "    .tolist()\n",
    ")"
   ]
  },
  {
   "cell_type": "code",
   "execution_count": 39,
   "id": "mature-lemon",
   "metadata": {},
   "outputs": [
    {
     "data": {
      "text/plain": [
       "25"
      ]
     },
     "execution_count": 39,
     "metadata": {},
     "output_type": "execute_result"
    }
   ],
   "source": [
    "len(attr_order)"
   ]
  },
  {
   "cell_type": "code",
   "execution_count": 40,
   "id": "front-error",
   "metadata": {},
   "outputs": [
    {
     "data": {
      "text/plain": [
       "['Thrombocytes (GBM)',\n",
       " 'Thrombocytes (Lung)',\n",
       " 'Thrombocytes (CRC)',\n",
       " 'Thrombocytes (Pancreas)',\n",
       " 'Thrombocytes (HC)']"
      ]
     },
     "execution_count": 40,
     "metadata": {},
     "output_type": "execute_result"
    }
   ],
   "source": [
    "attr_order[:5]"
   ]
  },
  {
   "cell_type": "markdown",
   "id": "sensitive-breast",
   "metadata": {},
   "source": [
    "## Plot"
   ]
  },
  {
   "cell_type": "code",
   "execution_count": 41,
   "id": "studied-munich",
   "metadata": {},
   "outputs": [
    {
     "data": {
      "image/png": "[encoded data removed]",
      "text/plain": [
       "<Figure size 1080x360 with 1 Axes>"
      ]
     },
     "metadata": {},
     "output_type": "display_data"
    }
   ],
   "source": [
    "with sns.plotting_context(\"paper\", font_scale=1.5), sns.axes_style(\"whitegrid\"):\n",
    "    sns.catplot(\n",
    "        data=final_plot_data,\n",
    "        y=LV_NAME,\n",
    "        x=SELECTED_ATTRIBUTE,\n",
    "        order=attr_order,\n",
    "        kind=\"strip\",\n",
    "        height=5,\n",
    "        aspect=3,\n",
    "    )\n",
    "    plt.xticks(rotation=45, horizontalalignment=\"right\")\n",
    "\n",
    "    plt.savefig(\n",
    "        OUTPUT_CELL_TYPE_FILEPATH,\n",
    "        bbox_inches=\"tight\",\n",
    "        facecolor=\"white\",\n",
    "    )"
   ]
  },
  {
   "cell_type": "markdown",
   "id": "satellite-hotel",
   "metadata": {},
   "source": [
    "# Debug"
   ]
  },
  {
   "cell_type": "code",
   "execution_count": 42,
   "id": "going-handling",
   "metadata": {},
   "outputs": [],
   "source": [
    "# with pd.option_context(\n",
    "#     \"display.max_rows\", None, \"display.max_columns\", None, \"display.max_colwidth\", None\n",
    "# ):\n",
    "#     _tmp = final_plot_data[final_plot_data[SELECTED_ATTRIBUTE].str.contains(\"NOT CAT\")]\n",
    "#     display(_tmp.head(20))"
   ]
  },
  {
   "cell_type": "code",
   "execution_count": 43,
   "id": "collaborative-judgment",
   "metadata": {},
   "outputs": [],
   "source": [
    "# # what is there in these projects?\n",
    "# lv_data.loc[[\"SRP050499\"]].dropna(how=\"all\", axis=1).sort_values(\n",
    "#     LV_NAME, ascending=False\n",
    "# ).head(60)"
   ]
  },
  {
   "cell_type": "code",
   "execution_count": null,
   "id": "rough-leave",
   "metadata": {},
   "outputs": [],
   "source": []
  }
 ],
 "metadata": {
  "jupytext": {
   "cell_metadata_filter": "all,-execution,-papermill,-trusted",
   "formats": "ipynb,py//py:percent"
  },
  "kernelspec": {
   "display_name": "Python 3",
   "language": "python",
   "name": "python3"
  },
  "language_info": {
   "codemirror_mode": {
    "name": "ipython",
    "version": 3
   },
   "file_extension": ".py",
   "mimetype": "text/x-python",
   "name": "python",
   "nbconvert_exporter": "python",
   "pygments_lexer": "ipython3",
   "version": "3.8.8"
  }
 },
 "nbformat": 4,
 "nbformat_minor": 5
}
