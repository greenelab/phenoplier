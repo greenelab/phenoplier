{
 "cells": [
  {
   "cell_type": "markdown",
   "id": "korean-operation",
   "metadata": {
    "papermill": {
     "duration": 0.006593,
     "end_time": "2021-05-11T19:09:55.733221",
     "exception": false,
     "start_time": "2021-05-11T19:09:55.726628",
     "status": "completed"
    },
    "tags": []
   },
   "source": [
    "# Description"
   ]
  },
  {
   "cell_type": "markdown",
   "id": "south-rabbit",
   "metadata": {
    "papermill": {
     "duration": 0.00668,
     "end_time": "2021-05-11T19:09:55.745410",
     "exception": false,
     "start_time": "2021-05-11T19:09:55.738730",
     "status": "completed"
    },
    "tags": []
   },
   "source": [
    "Generates the figure for top cell types for a specified LV (in Settings section below)."
   ]
  },
  {
   "cell_type": "markdown",
   "id": "enormous-baker",
   "metadata": {
    "papermill": {
     "duration": 0.006223,
     "end_time": "2021-05-11T19:09:55.756959",
     "exception": false,
     "start_time": "2021-05-11T19:09:55.750736",
     "status": "completed"
    },
    "tags": []
   },
   "source": [
    "# Modules loading"
   ]
  },
  {
   "cell_type": "code",
   "execution_count": 1,
   "id": "loved-conditions",
   "metadata": {
    "papermill": {
     "duration": 0.01906,
     "end_time": "2021-05-11T19:09:55.781515",
     "exception": false,
     "start_time": "2021-05-11T19:09:55.762455",
     "status": "completed"
    },
    "tags": []
   },
   "outputs": [],
   "source": [
    "%load_ext autoreload\n",
    "%autoreload 2"
   ]
  },
  {
   "cell_type": "code",
   "execution_count": 2,
   "id": "czech-hunger",
   "metadata": {
    "papermill": {
     "duration": 0.993432,
     "end_time": "2021-05-11T19:09:56.780403",
     "exception": false,
     "start_time": "2021-05-11T19:09:55.786971",
     "status": "completed"
    },
    "tags": []
   },
   "outputs": [],
   "source": [
    "import re\n",
    "from pathlib import Path\n",
    "\n",
    "import pandas as pd\n",
    "import matplotlib.pyplot as plt\n",
    "import seaborn as sns\n",
    "\n",
    "from data.recount2 import LVAnalysis\n",
    "from utils import chunker\n",
    "import conf"
   ]
  },
  {
   "cell_type": "markdown",
   "id": "union-banner",
   "metadata": {
    "papermill": {
     "duration": 0.005973,
     "end_time": "2021-05-11T19:09:56.792495",
     "exception": false,
     "start_time": "2021-05-11T19:09:56.786522",
     "status": "completed"
    },
    "tags": []
   },
   "source": [
    "# Settings"
   ]
  },
  {
   "cell_type": "code",
   "execution_count": 3,
   "id": "green-reaction",
   "metadata": {
    "papermill": {
     "duration": 0.019548,
     "end_time": "2021-05-11T19:09:56.817689",
     "exception": false,
     "start_time": "2021-05-11T19:09:56.798141",
     "status": "completed"
    },
    "tags": [
     "parameters"
    ]
   },
   "outputs": [],
   "source": [
    "LV_NAME = \"LV93\""
   ]
  },
  {
   "cell_type": "code",
   "execution_count": 4,
   "id": "restricted-invention",
   "metadata": {},
   "outputs": [],
   "source": [
    "LV_AXIS_THRESHOLD = 3.0\n",
    "N_TOP_SAMPLES = 400\n",
    "N_TOP_ATTRS = 25"
   ]
  },
  {
   "cell_type": "code",
   "execution_count": 5,
   "id": "radio-tampa",
   "metadata": {},
   "outputs": [
    {
     "data": {
      "text/plain": [
       "PosixPath('/home/miltondp/projects/labs/greenelab/phenoplier_manuscript/content/images/lvs_analysis/lv93')"
      ]
     },
     "metadata": {},
     "output_type": "display_data"
    }
   ],
   "source": [
    "OUTPUT_FIGURES_DIR = Path(\n",
    "    conf.MANUSCRIPT[\"FIGURES_DIR\"], \"lvs_analysis\", f\"{LV_NAME.lower()}\"\n",
    ").resolve()\n",
    "display(OUTPUT_FIGURES_DIR)\n",
    "OUTPUT_FIGURES_DIR.mkdir(parents=True, exist_ok=True)"
   ]
  },
  {
   "cell_type": "code",
   "execution_count": 6,
   "id": "conservative-suspension",
   "metadata": {},
   "outputs": [
    {
     "data": {
      "text/plain": [
       "PosixPath('/home/miltondp/projects/labs/greenelab/phenoplier_manuscript/content/images/lvs_analysis/lv93/lv93-cell_types.svg')"
      ]
     },
     "metadata": {},
     "output_type": "display_data"
    }
   ],
   "source": [
    "OUTPUT_CELL_TYPE_FILEPATH = OUTPUT_FIGURES_DIR / f\"{LV_NAME.lower()}-cell_types.svg\"\n",
    "display(OUTPUT_CELL_TYPE_FILEPATH)"
   ]
  },
  {
   "cell_type": "markdown",
   "id": "familiar-edgar",
   "metadata": {
    "papermill": {
     "duration": 0.005592,
     "end_time": "2021-05-11T19:09:56.854406",
     "exception": false,
     "start_time": "2021-05-11T19:09:56.848814",
     "status": "completed"
    },
    "tags": []
   },
   "source": [
    "# Load MultiPLIER summary"
   ]
  },
  {
   "cell_type": "code",
   "execution_count": 7,
   "id": "binary-franchise",
   "metadata": {
    "papermill": {
     "duration": 0.020251,
     "end_time": "2021-05-11T19:09:56.880435",
     "exception": false,
     "start_time": "2021-05-11T19:09:56.860184",
     "status": "completed"
    },
    "tags": []
   },
   "outputs": [],
   "source": [
    "multiplier_model_summary = pd.read_pickle(conf.MULTIPLIER[\"MODEL_SUMMARY_FILE\"])"
   ]
  },
  {
   "cell_type": "code",
   "execution_count": 8,
   "id": "demographic-korean",
   "metadata": {
    "papermill": {
     "duration": 0.02062,
     "end_time": "2021-05-11T19:09:56.906744",
     "exception": false,
     "start_time": "2021-05-11T19:09:56.886124",
     "status": "completed"
    },
    "tags": []
   },
   "outputs": [
    {
     "data": {
      "text/plain": [
       "(2157, 5)"
      ]
     },
     "execution_count": 8,
     "metadata": {},
     "output_type": "execute_result"
    }
   ],
   "source": [
    "multiplier_model_summary.shape"
   ]
  },
  {
   "cell_type": "code",
   "execution_count": 9,
   "id": "smaller-delay",
   "metadata": {
    "papermill": {
     "duration": 0.024737,
     "end_time": "2021-05-11T19:09:56.937493",
     "exception": false,
     "start_time": "2021-05-11T19:09:56.912756",
     "status": "completed"
    },
    "tags": []
   },
   "outputs": [
    {
     "data": {
      "text/html": [
       "<div>\n",
       "<style scoped>\n",
       "    .dataframe tbody tr th:only-of-type {\n",
       "        vertical-align: middle;\n",
       "    }\n",
       "\n",
       "    .dataframe tbody tr th {\n",
       "        vertical-align: top;\n",
       "    }\n",
       "\n",
       "    .dataframe thead th {\n",
       "        text-align: right;\n",
       "    }\n",
       "</style>\n",
       "<table border=\"1\" class=\"dataframe\">\n",
       "  <thead>\n",
       "    <tr style=\"text-align: right;\">\n",
       "      <th></th>\n",
       "      <th>pathway</th>\n",
       "      <th>LV index</th>\n",
       "      <th>AUC</th>\n",
       "      <th>p-value</th>\n",
       "      <th>FDR</th>\n",
       "    </tr>\n",
       "  </thead>\n",
       "  <tbody>\n",
       "    <tr>\n",
       "      <th>1</th>\n",
       "      <td>KEGG_LYSINE_DEGRADATION</td>\n",
       "      <td>1</td>\n",
       "      <td>0.388059</td>\n",
       "      <td>0.866078</td>\n",
       "      <td>0.956005</td>\n",
       "    </tr>\n",
       "    <tr>\n",
       "      <th>2</th>\n",
       "      <td>REACTOME_MRNA_SPLICING</td>\n",
       "      <td>1</td>\n",
       "      <td>0.733057</td>\n",
       "      <td>0.000048</td>\n",
       "      <td>0.000582</td>\n",
       "    </tr>\n",
       "    <tr>\n",
       "      <th>3</th>\n",
       "      <td>MIPS_NOP56P_ASSOCIATED_PRE_RRNA_COMPLEX</td>\n",
       "      <td>1</td>\n",
       "      <td>0.680555</td>\n",
       "      <td>0.001628</td>\n",
       "      <td>0.011366</td>\n",
       "    </tr>\n",
       "    <tr>\n",
       "      <th>4</th>\n",
       "      <td>KEGG_DNA_REPLICATION</td>\n",
       "      <td>1</td>\n",
       "      <td>0.549473</td>\n",
       "      <td>0.312155</td>\n",
       "      <td>0.539951</td>\n",
       "    </tr>\n",
       "    <tr>\n",
       "      <th>5</th>\n",
       "      <td>PID_MYC_ACTIVPATHWAY</td>\n",
       "      <td>1</td>\n",
       "      <td>0.639303</td>\n",
       "      <td>0.021702</td>\n",
       "      <td>0.083739</td>\n",
       "    </tr>\n",
       "  </tbody>\n",
       "</table>\n",
       "</div>"
      ],
      "text/plain": [
       "                                   pathway LV index       AUC   p-value  \\\n",
       "1                  KEGG_LYSINE_DEGRADATION        1  0.388059  0.866078   \n",
       "2                   REACTOME_MRNA_SPLICING        1  0.733057  0.000048   \n",
       "3  MIPS_NOP56P_ASSOCIATED_PRE_RRNA_COMPLEX        1  0.680555  0.001628   \n",
       "4                     KEGG_DNA_REPLICATION        1  0.549473  0.312155   \n",
       "5                     PID_MYC_ACTIVPATHWAY        1  0.639303  0.021702   \n",
       "\n",
       "        FDR  \n",
       "1  0.956005  \n",
       "2  0.000582  \n",
       "3  0.011366  \n",
       "4  0.539951  \n",
       "5  0.083739  "
      ]
     },
     "execution_count": 9,
     "metadata": {},
     "output_type": "execute_result"
    }
   ],
   "source": [
    "multiplier_model_summary.head()"
   ]
  },
  {
   "cell_type": "markdown",
   "id": "sustained-survival",
   "metadata": {
    "papermill": {
     "duration": 0.006007,
     "end_time": "2021-05-11T19:09:56.949763",
     "exception": false,
     "start_time": "2021-05-11T19:09:56.943756",
     "status": "completed"
    },
    "tags": []
   },
   "source": [
    "# Load data"
   ]
  },
  {
   "cell_type": "markdown",
   "id": "constitutional-small",
   "metadata": {
    "papermill": {
     "duration": 0.005873,
     "end_time": "2021-05-11T19:09:56.961602",
     "exception": false,
     "start_time": "2021-05-11T19:09:56.955729",
     "status": "completed"
    },
    "tags": []
   },
   "source": [
    "## Original data"
   ]
  },
  {
   "cell_type": "code",
   "execution_count": 10,
   "id": "impressive-building",
   "metadata": {
    "papermill": {
     "duration": 0.019571,
     "end_time": "2021-05-11T19:09:56.987255",
     "exception": false,
     "start_time": "2021-05-11T19:09:56.967684",
     "status": "completed"
    },
    "tags": []
   },
   "outputs": [],
   "source": [
    "INPUT_SUBSET = \"z_score_std\""
   ]
  },
  {
   "cell_type": "code",
   "execution_count": 11,
   "id": "encouraging-tamil",
   "metadata": {
    "papermill": {
     "duration": 0.019175,
     "end_time": "2021-05-11T19:09:57.025099",
     "exception": false,
     "start_time": "2021-05-11T19:09:57.005924",
     "status": "completed"
    },
    "tags": []
   },
   "outputs": [],
   "source": [
    "INPUT_STEM = \"projection-smultixcan-efo_partial-mashr-zscores\""
   ]
  },
  {
   "cell_type": "code",
   "execution_count": 12,
   "id": "conservative-calculation",
   "metadata": {
    "papermill": {
     "duration": 0.020992,
     "end_time": "2021-05-11T19:09:57.052255",
     "exception": false,
     "start_time": "2021-05-11T19:09:57.031263",
     "status": "completed"
    },
    "tags": []
   },
   "outputs": [
    {
     "data": {
      "text/plain": [
       "PosixPath('/home/miltondp/projects/labs/greenelab/phenoplier/bases_data/base_orig/results/data_transformations/z_score_std/z_score_std-projection-smultixcan-efo_partial-mashr-zscores.pkl')"
      ]
     },
     "metadata": {},
     "output_type": "display_data"
    },
    {
     "data": {
      "text/plain": [
       "'z_score_std-projection-smultixcan-efo_partial-mashr-zscores'"
      ]
     },
     "metadata": {},
     "output_type": "display_data"
    }
   ],
   "source": [
    "input_filepath = Path(\n",
    "    conf.RESULTS[\"DATA_TRANSFORMATIONS_DIR\"],\n",
    "    INPUT_SUBSET,\n",
    "    f\"{INPUT_SUBSET}-{INPUT_STEM}.pkl\",\n",
    ").resolve()\n",
    "display(input_filepath)\n",
    "\n",
    "assert input_filepath.exists(), \"Input file does not exist\"\n",
    "\n",
    "input_filepath_stem = input_filepath.stem\n",
    "display(input_filepath_stem)"
   ]
  },
  {
   "cell_type": "code",
   "execution_count": 13,
   "id": "respective-rogers",
   "metadata": {
    "papermill": {
     "duration": 0.032337,
     "end_time": "2021-05-11T19:09:57.090585",
     "exception": false,
     "start_time": "2021-05-11T19:09:57.058248",
     "status": "completed"
    },
    "tags": []
   },
   "outputs": [],
   "source": [
    "data = pd.read_pickle(input_filepath)"
   ]
  },
  {
   "cell_type": "code",
   "execution_count": 14,
   "id": "pleased-salon",
   "metadata": {
    "papermill": {
     "duration": 0.01967,
     "end_time": "2021-05-11T19:09:57.116292",
     "exception": false,
     "start_time": "2021-05-11T19:09:57.096622",
     "status": "completed"
    },
    "tags": []
   },
   "outputs": [
    {
     "data": {
      "text/plain": [
       "(3752, 987)"
      ]
     },
     "execution_count": 14,
     "metadata": {},
     "output_type": "execute_result"
    }
   ],
   "source": [
    "data.shape"
   ]
  },
  {
   "cell_type": "code",
   "execution_count": 15,
   "id": "functioning-instruction",
   "metadata": {
    "papermill": {
     "duration": 0.031843,
     "end_time": "2021-05-11T19:09:57.154356",
     "exception": false,
     "start_time": "2021-05-11T19:09:57.122513",
     "status": "completed"
    },
    "tags": []
   },
   "outputs": [
    {
     "data": {
      "text/html": [
       "<div>\n",
       "<style scoped>\n",
       "    .dataframe tbody tr th:only-of-type {\n",
       "        vertical-align: middle;\n",
       "    }\n",
       "\n",
       "    .dataframe tbody tr th {\n",
       "        vertical-align: top;\n",
       "    }\n",
       "\n",
       "    .dataframe thead th {\n",
       "        text-align: right;\n",
       "    }\n",
       "</style>\n",
       "<table border=\"1\" class=\"dataframe\">\n",
       "  <thead>\n",
       "    <tr style=\"text-align: right;\">\n",
       "      <th></th>\n",
       "      <th>LV1</th>\n",
       "      <th>LV2</th>\n",
       "      <th>LV3</th>\n",
       "      <th>LV4</th>\n",
       "      <th>LV5</th>\n",
       "      <th>LV6</th>\n",
       "      <th>LV7</th>\n",
       "      <th>LV8</th>\n",
       "      <th>LV9</th>\n",
       "      <th>LV10</th>\n",
       "      <th>...</th>\n",
       "      <th>LV978</th>\n",
       "      <th>LV979</th>\n",
       "      <th>LV980</th>\n",
       "      <th>LV981</th>\n",
       "      <th>LV982</th>\n",
       "      <th>LV983</th>\n",
       "      <th>LV984</th>\n",
       "      <th>LV985</th>\n",
       "      <th>LV986</th>\n",
       "      <th>LV987</th>\n",
       "    </tr>\n",
       "  </thead>\n",
       "  <tbody>\n",
       "    <tr>\n",
       "      <th>100001_raw-Food_weight</th>\n",
       "      <td>-0.695006</td>\n",
       "      <td>1.962565</td>\n",
       "      <td>0.057683</td>\n",
       "      <td>0.878731</td>\n",
       "      <td>-0.539977</td>\n",
       "      <td>1.481272</td>\n",
       "      <td>-0.396422</td>\n",
       "      <td>1.090180</td>\n",
       "      <td>0.759223</td>\n",
       "      <td>0.931395</td>\n",
       "      <td>...</td>\n",
       "      <td>1.129784</td>\n",
       "      <td>1.752343</td>\n",
       "      <td>-1.411403</td>\n",
       "      <td>2.823863</td>\n",
       "      <td>0.931116</td>\n",
       "      <td>-1.054519</td>\n",
       "      <td>0.432982</td>\n",
       "      <td>-0.633597</td>\n",
       "      <td>0.554279</td>\n",
       "      <td>-0.642479</td>\n",
       "    </tr>\n",
       "    <tr>\n",
       "      <th>100002_raw-Energy</th>\n",
       "      <td>-1.528127</td>\n",
       "      <td>-0.345309</td>\n",
       "      <td>-0.148953</td>\n",
       "      <td>-0.242060</td>\n",
       "      <td>0.373427</td>\n",
       "      <td>0.791092</td>\n",
       "      <td>0.263477</td>\n",
       "      <td>0.987702</td>\n",
       "      <td>0.354391</td>\n",
       "      <td>1.416059</td>\n",
       "      <td>...</td>\n",
       "      <td>0.224604</td>\n",
       "      <td>0.769882</td>\n",
       "      <td>-0.509482</td>\n",
       "      <td>0.091153</td>\n",
       "      <td>2.286789</td>\n",
       "      <td>-1.008256</td>\n",
       "      <td>-0.029764</td>\n",
       "      <td>1.737229</td>\n",
       "      <td>-0.272107</td>\n",
       "      <td>-0.526125</td>\n",
       "    </tr>\n",
       "    <tr>\n",
       "      <th>100003_raw-Protein</th>\n",
       "      <td>-0.704572</td>\n",
       "      <td>-1.011299</td>\n",
       "      <td>0.671420</td>\n",
       "      <td>0.143991</td>\n",
       "      <td>0.615212</td>\n",
       "      <td>0.874212</td>\n",
       "      <td>-0.040998</td>\n",
       "      <td>0.915170</td>\n",
       "      <td>0.254369</td>\n",
       "      <td>-0.084237</td>\n",
       "      <td>...</td>\n",
       "      <td>1.003019</td>\n",
       "      <td>1.044314</td>\n",
       "      <td>-2.376108</td>\n",
       "      <td>0.004778</td>\n",
       "      <td>0.053714</td>\n",
       "      <td>-0.892447</td>\n",
       "      <td>-0.183800</td>\n",
       "      <td>1.377991</td>\n",
       "      <td>-0.278794</td>\n",
       "      <td>-0.419733</td>\n",
       "    </tr>\n",
       "    <tr>\n",
       "      <th>100004_raw-Fat</th>\n",
       "      <td>-0.989832</td>\n",
       "      <td>-1.875490</td>\n",
       "      <td>0.261555</td>\n",
       "      <td>-1.420719</td>\n",
       "      <td>0.366238</td>\n",
       "      <td>1.167049</td>\n",
       "      <td>0.257387</td>\n",
       "      <td>0.717674</td>\n",
       "      <td>-0.997664</td>\n",
       "      <td>0.969825</td>\n",
       "      <td>...</td>\n",
       "      <td>0.585913</td>\n",
       "      <td>0.638314</td>\n",
       "      <td>0.119139</td>\n",
       "      <td>-0.140204</td>\n",
       "      <td>1.394326</td>\n",
       "      <td>-1.173402</td>\n",
       "      <td>0.555058</td>\n",
       "      <td>1.013982</td>\n",
       "      <td>-0.544506</td>\n",
       "      <td>-0.064061</td>\n",
       "    </tr>\n",
       "    <tr>\n",
       "      <th>100005_raw-Carbohydrate</th>\n",
       "      <td>-0.580143</td>\n",
       "      <td>0.243335</td>\n",
       "      <td>0.158966</td>\n",
       "      <td>-0.036558</td>\n",
       "      <td>0.068176</td>\n",
       "      <td>-0.202639</td>\n",
       "      <td>1.101281</td>\n",
       "      <td>0.675227</td>\n",
       "      <td>1.463432</td>\n",
       "      <td>1.010078</td>\n",
       "      <td>...</td>\n",
       "      <td>-0.249108</td>\n",
       "      <td>-0.026814</td>\n",
       "      <td>0.232713</td>\n",
       "      <td>0.323682</td>\n",
       "      <td>1.168642</td>\n",
       "      <td>-0.282935</td>\n",
       "      <td>0.653105</td>\n",
       "      <td>1.909526</td>\n",
       "      <td>0.199997</td>\n",
       "      <td>-1.656894</td>\n",
       "    </tr>\n",
       "  </tbody>\n",
       "</table>\n",
       "<p>5 rows × 987 columns</p>\n",
       "</div>"
      ],
      "text/plain": [
       "                              LV1       LV2       LV3       LV4       LV5  \\\n",
       "100001_raw-Food_weight  -0.695006  1.962565  0.057683  0.878731 -0.539977   \n",
       "100002_raw-Energy       -1.528127 -0.345309 -0.148953 -0.242060  0.373427   \n",
       "100003_raw-Protein      -0.704572 -1.011299  0.671420  0.143991  0.615212   \n",
       "100004_raw-Fat          -0.989832 -1.875490  0.261555 -1.420719  0.366238   \n",
       "100005_raw-Carbohydrate -0.580143  0.243335  0.158966 -0.036558  0.068176   \n",
       "\n",
       "                              LV6       LV7       LV8       LV9      LV10  \\\n",
       "100001_raw-Food_weight   1.481272 -0.396422  1.090180  0.759223  0.931395   \n",
       "100002_raw-Energy        0.791092  0.263477  0.987702  0.354391  1.416059   \n",
       "100003_raw-Protein       0.874212 -0.040998  0.915170  0.254369 -0.084237   \n",
       "100004_raw-Fat           1.167049  0.257387  0.717674 -0.997664  0.969825   \n",
       "100005_raw-Carbohydrate -0.202639  1.101281  0.675227  1.463432  1.010078   \n",
       "\n",
       "                         ...     LV978     LV979     LV980     LV981  \\\n",
       "100001_raw-Food_weight   ...  1.129784  1.752343 -1.411403  2.823863   \n",
       "100002_raw-Energy        ...  0.224604  0.769882 -0.509482  0.091153   \n",
       "100003_raw-Protein       ...  1.003019  1.044314 -2.376108  0.004778   \n",
       "100004_raw-Fat           ...  0.585913  0.638314  0.119139 -0.140204   \n",
       "100005_raw-Carbohydrate  ... -0.249108 -0.026814  0.232713  0.323682   \n",
       "\n",
       "                            LV982     LV983     LV984     LV985     LV986  \\\n",
       "100001_raw-Food_weight   0.931116 -1.054519  0.432982 -0.633597  0.554279   \n",
       "100002_raw-Energy        2.286789 -1.008256 -0.029764  1.737229 -0.272107   \n",
       "100003_raw-Protein       0.053714 -0.892447 -0.183800  1.377991 -0.278794   \n",
       "100004_raw-Fat           1.394326 -1.173402  0.555058  1.013982 -0.544506   \n",
       "100005_raw-Carbohydrate  1.168642 -0.282935  0.653105  1.909526  0.199997   \n",
       "\n",
       "                            LV987  \n",
       "100001_raw-Food_weight  -0.642479  \n",
       "100002_raw-Energy       -0.526125  \n",
       "100003_raw-Protein      -0.419733  \n",
       "100004_raw-Fat          -0.064061  \n",
       "100005_raw-Carbohydrate -1.656894  \n",
       "\n",
       "[5 rows x 987 columns]"
      ]
     },
     "execution_count": 15,
     "metadata": {},
     "output_type": "execute_result"
    }
   ],
   "source": [
    "data.head()"
   ]
  },
  {
   "cell_type": "markdown",
   "id": "governmental-generation",
   "metadata": {},
   "source": [
    "## LV data"
   ]
  },
  {
   "cell_type": "code",
   "execution_count": 16,
   "id": "continuous-restaurant",
   "metadata": {},
   "outputs": [],
   "source": [
    "lv_obj = LVAnalysis(LV_NAME, data)"
   ]
  },
  {
   "cell_type": "code",
   "execution_count": 17,
   "id": "potential-fetish",
   "metadata": {},
   "outputs": [
    {
     "name": "stderr",
     "output_type": "stream",
     "text": [
      "[2021-08-02 16:07:47,642 - numexpr.utils] INFO: NumExpr defaulting to 8 threads.\n"
     ]
    },
    {
     "data": {
      "text/html": [
       "<div>\n",
       "<style scoped>\n",
       "    .dataframe tbody tr th:only-of-type {\n",
       "        vertical-align: middle;\n",
       "    }\n",
       "\n",
       "    .dataframe tbody tr th {\n",
       "        vertical-align: top;\n",
       "    }\n",
       "\n",
       "    .dataframe thead th {\n",
       "        text-align: right;\n",
       "    }\n",
       "</style>\n",
       "<table border=\"1\" class=\"dataframe\">\n",
       "  <thead>\n",
       "    <tr style=\"text-align: right;\">\n",
       "      <th></th>\n",
       "      <th>pathway</th>\n",
       "      <th>LV index</th>\n",
       "      <th>AUC</th>\n",
       "      <th>p-value</th>\n",
       "      <th>FDR</th>\n",
       "    </tr>\n",
       "  </thead>\n",
       "  <tbody>\n",
       "  </tbody>\n",
       "</table>\n",
       "</div>"
      ],
      "text/plain": [
       "Empty DataFrame\n",
       "Columns: [pathway, LV index, AUC, p-value, FDR]\n",
       "Index: []"
      ]
     },
     "execution_count": 17,
     "metadata": {},
     "output_type": "execute_result"
    }
   ],
   "source": [
    "multiplier_model_summary[\n",
    "    multiplier_model_summary[\"LV index\"].isin((LV_NAME[2:],))\n",
    "    & (\n",
    "        (multiplier_model_summary[\"FDR\"] < 0.05)\n",
    "        | (multiplier_model_summary[\"AUC\"] >= 0.75)\n",
    "    )\n",
    "]"
   ]
  },
  {
   "cell_type": "code",
   "execution_count": 18,
   "id": "secret-planning",
   "metadata": {},
   "outputs": [
    {
     "name": "stdout",
     "output_type": "stream",
     "text": [
      "SRP055569, SRP042161, SRP033135, SRP050499, SRP057196, SRP060416, SRP007947, SRP066834, SRP058773, SRP025982, SRP024268, SRP055810, SRP017777, SRP007596, SRP059775, SRP000599, SRP009266, SRP014428, SRP055153, SRP022892, SRP049500, SRP006575, SRP019994, SRP056696, SRP003726, SRP059379, SRP063840, SRP056835, SRP018716, SRP018525, SRP007461, SRP059035, SRP007569, SRP050272, SRP028887, SRP033248, SRP059732, SRP009276, SRP058120, SRP005279, SRP034712, SRP050493, SRP052874, "
     ]
    },
    {
     "name": "stderr",
     "output_type": "stream",
     "text": [
      "/home/miltondp/projects/labs/greenelab/phenoplier/libs/data/recount2.py:320: UserWarning: Not all experiments data could be loaded (41 != 43)\n",
      "  warnings.warn(\n"
     ]
    }
   ],
   "source": [
    "lv_data = lv_obj.get_experiments_data()"
   ]
  },
  {
   "cell_type": "code",
   "execution_count": 19,
   "id": "proper-graphics",
   "metadata": {},
   "outputs": [
    {
     "data": {
      "text/plain": [
       "(7446, 75)"
      ]
     },
     "execution_count": 19,
     "metadata": {},
     "output_type": "execute_result"
    }
   ],
   "source": [
    "lv_data.shape"
   ]
  },
  {
   "cell_type": "code",
   "execution_count": 20,
   "id": "comfortable-standard",
   "metadata": {},
   "outputs": [
    {
     "data": {
      "text/html": [
       "<div>\n",
       "<style scoped>\n",
       "    .dataframe tbody tr th:only-of-type {\n",
       "        vertical-align: middle;\n",
       "    }\n",
       "\n",
       "    .dataframe tbody tr th {\n",
       "        vertical-align: top;\n",
       "    }\n",
       "\n",
       "    .dataframe thead th {\n",
       "        text-align: right;\n",
       "    }\n",
       "</style>\n",
       "<table border=\"1\" class=\"dataframe\">\n",
       "  <thead>\n",
       "    <tr style=\"text-align: right;\">\n",
       "      <th></th>\n",
       "      <th></th>\n",
       "      <th>cell type</th>\n",
       "      <th>cell line</th>\n",
       "      <th>patient id</th>\n",
       "      <th>subtype</th>\n",
       "      <th>hour post serum-switch</th>\n",
       "      <th>debris</th>\n",
       "      <th>control well</th>\n",
       "      <th>cells in well</th>\n",
       "      <th>library protocol</th>\n",
       "      <th>developmental stage</th>\n",
       "      <th>...</th>\n",
       "      <th>dicer knockdown</th>\n",
       "      <th>all lineage</th>\n",
       "      <th>bcp all subtype</th>\n",
       "      <th>cytogenetic background</th>\n",
       "      <th>starting material</th>\n",
       "      <th>differentiation</th>\n",
       "      <th>sorting#</th>\n",
       "      <th>scrb-seq variant#</th>\n",
       "      <th>time point</th>\n",
       "      <th>LV93</th>\n",
       "    </tr>\n",
       "    <tr>\n",
       "      <th>project</th>\n",
       "      <th>run</th>\n",
       "      <th></th>\n",
       "      <th></th>\n",
       "      <th></th>\n",
       "      <th></th>\n",
       "      <th></th>\n",
       "      <th></th>\n",
       "      <th></th>\n",
       "      <th></th>\n",
       "      <th></th>\n",
       "      <th></th>\n",
       "      <th></th>\n",
       "      <th></th>\n",
       "      <th></th>\n",
       "      <th></th>\n",
       "      <th></th>\n",
       "      <th></th>\n",
       "      <th></th>\n",
       "      <th></th>\n",
       "      <th></th>\n",
       "      <th></th>\n",
       "      <th></th>\n",
       "    </tr>\n",
       "  </thead>\n",
       "  <tbody>\n",
       "    <tr>\n",
       "      <th rowspan=\"5\" valign=\"top\">SRP055569</th>\n",
       "      <th>SRR1821717</th>\n",
       "      <td>MCF10a human breast cancer cells</td>\n",
       "      <td>NaN</td>\n",
       "      <td>NaN</td>\n",
       "      <td>NaN</td>\n",
       "      <td>NaN</td>\n",
       "      <td>NaN</td>\n",
       "      <td>NaN</td>\n",
       "      <td>NaN</td>\n",
       "      <td>NaN</td>\n",
       "      <td>NaN</td>\n",
       "      <td>...</td>\n",
       "      <td>NaN</td>\n",
       "      <td>NaN</td>\n",
       "      <td>NaN</td>\n",
       "      <td>NaN</td>\n",
       "      <td>NaN</td>\n",
       "      <td>NaN</td>\n",
       "      <td>NaN</td>\n",
       "      <td>NaN</td>\n",
       "      <td>NaN</td>\n",
       "      <td>0.141422</td>\n",
       "    </tr>\n",
       "    <tr>\n",
       "      <th>SRR1821716</th>\n",
       "      <td>MCF10a human breast cancer cells</td>\n",
       "      <td>NaN</td>\n",
       "      <td>NaN</td>\n",
       "      <td>NaN</td>\n",
       "      <td>NaN</td>\n",
       "      <td>NaN</td>\n",
       "      <td>NaN</td>\n",
       "      <td>NaN</td>\n",
       "      <td>NaN</td>\n",
       "      <td>NaN</td>\n",
       "      <td>...</td>\n",
       "      <td>NaN</td>\n",
       "      <td>NaN</td>\n",
       "      <td>NaN</td>\n",
       "      <td>NaN</td>\n",
       "      <td>NaN</td>\n",
       "      <td>NaN</td>\n",
       "      <td>NaN</td>\n",
       "      <td>NaN</td>\n",
       "      <td>NaN</td>\n",
       "      <td>0.008773</td>\n",
       "    </tr>\n",
       "    <tr>\n",
       "      <th>SRR1821715</th>\n",
       "      <td>MCF10a human breast cancer cells</td>\n",
       "      <td>NaN</td>\n",
       "      <td>NaN</td>\n",
       "      <td>NaN</td>\n",
       "      <td>NaN</td>\n",
       "      <td>NaN</td>\n",
       "      <td>NaN</td>\n",
       "      <td>NaN</td>\n",
       "      <td>NaN</td>\n",
       "      <td>NaN</td>\n",
       "      <td>...</td>\n",
       "      <td>NaN</td>\n",
       "      <td>NaN</td>\n",
       "      <td>NaN</td>\n",
       "      <td>NaN</td>\n",
       "      <td>NaN</td>\n",
       "      <td>NaN</td>\n",
       "      <td>NaN</td>\n",
       "      <td>NaN</td>\n",
       "      <td>NaN</td>\n",
       "      <td>0.144899</td>\n",
       "    </tr>\n",
       "    <tr>\n",
       "      <th>SRR1821714</th>\n",
       "      <td>MCF10a human breast cancer cells</td>\n",
       "      <td>NaN</td>\n",
       "      <td>NaN</td>\n",
       "      <td>NaN</td>\n",
       "      <td>NaN</td>\n",
       "      <td>NaN</td>\n",
       "      <td>NaN</td>\n",
       "      <td>NaN</td>\n",
       "      <td>NaN</td>\n",
       "      <td>NaN</td>\n",
       "      <td>...</td>\n",
       "      <td>NaN</td>\n",
       "      <td>NaN</td>\n",
       "      <td>NaN</td>\n",
       "      <td>NaN</td>\n",
       "      <td>NaN</td>\n",
       "      <td>NaN</td>\n",
       "      <td>NaN</td>\n",
       "      <td>NaN</td>\n",
       "      <td>NaN</td>\n",
       "      <td>-0.042579</td>\n",
       "    </tr>\n",
       "    <tr>\n",
       "      <th>SRR1821713</th>\n",
       "      <td>MCF10a human breast cancer cells</td>\n",
       "      <td>NaN</td>\n",
       "      <td>NaN</td>\n",
       "      <td>NaN</td>\n",
       "      <td>NaN</td>\n",
       "      <td>NaN</td>\n",
       "      <td>NaN</td>\n",
       "      <td>NaN</td>\n",
       "      <td>NaN</td>\n",
       "      <td>NaN</td>\n",
       "      <td>...</td>\n",
       "      <td>NaN</td>\n",
       "      <td>NaN</td>\n",
       "      <td>NaN</td>\n",
       "      <td>NaN</td>\n",
       "      <td>NaN</td>\n",
       "      <td>NaN</td>\n",
       "      <td>NaN</td>\n",
       "      <td>NaN</td>\n",
       "      <td>NaN</td>\n",
       "      <td>0.046482</td>\n",
       "    </tr>\n",
       "  </tbody>\n",
       "</table>\n",
       "<p>5 rows × 75 columns</p>\n",
       "</div>"
      ],
      "text/plain": [
       "                                             cell type cell line patient id  \\\n",
       "project   run                                                                 \n",
       "SRP055569 SRR1821717  MCF10a human breast cancer cells       NaN        NaN   \n",
       "          SRR1821716  MCF10a human breast cancer cells       NaN        NaN   \n",
       "          SRR1821715  MCF10a human breast cancer cells       NaN        NaN   \n",
       "          SRR1821714  MCF10a human breast cancer cells       NaN        NaN   \n",
       "          SRR1821713  MCF10a human breast cancer cells       NaN        NaN   \n",
       "\n",
       "                     subtype hour post serum-switch debris control well  \\\n",
       "project   run                                                             \n",
       "SRP055569 SRR1821717     NaN                    NaN    NaN          NaN   \n",
       "          SRR1821716     NaN                    NaN    NaN          NaN   \n",
       "          SRR1821715     NaN                    NaN    NaN          NaN   \n",
       "          SRR1821714     NaN                    NaN    NaN          NaN   \n",
       "          SRR1821713     NaN                    NaN    NaN          NaN   \n",
       "\n",
       "                     cells in well library protocol developmental stage  ...  \\\n",
       "project   run                                                            ...   \n",
       "SRP055569 SRR1821717           NaN              NaN                 NaN  ...   \n",
       "          SRR1821716           NaN              NaN                 NaN  ...   \n",
       "          SRR1821715           NaN              NaN                 NaN  ...   \n",
       "          SRR1821714           NaN              NaN                 NaN  ...   \n",
       "          SRR1821713           NaN              NaN                 NaN  ...   \n",
       "\n",
       "                     dicer knockdown all lineage bcp all subtype  \\\n",
       "project   run                                                      \n",
       "SRP055569 SRR1821717             NaN         NaN             NaN   \n",
       "          SRR1821716             NaN         NaN             NaN   \n",
       "          SRR1821715             NaN         NaN             NaN   \n",
       "          SRR1821714             NaN         NaN             NaN   \n",
       "          SRR1821713             NaN         NaN             NaN   \n",
       "\n",
       "                     cytogenetic background starting material differentiation  \\\n",
       "project   run                                                                   \n",
       "SRP055569 SRR1821717                    NaN               NaN             NaN   \n",
       "          SRR1821716                    NaN               NaN             NaN   \n",
       "          SRR1821715                    NaN               NaN             NaN   \n",
       "          SRR1821714                    NaN               NaN             NaN   \n",
       "          SRR1821713                    NaN               NaN             NaN   \n",
       "\n",
       "                     sorting# scrb-seq variant# time point      LV93  \n",
       "project   run                                                         \n",
       "SRP055569 SRR1821717      NaN               NaN        NaN  0.141422  \n",
       "          SRR1821716      NaN               NaN        NaN  0.008773  \n",
       "          SRR1821715      NaN               NaN        NaN  0.144899  \n",
       "          SRR1821714      NaN               NaN        NaN -0.042579  \n",
       "          SRR1821713      NaN               NaN        NaN  0.046482  \n",
       "\n",
       "[5 rows x 75 columns]"
      ]
     },
     "execution_count": 20,
     "metadata": {},
     "output_type": "execute_result"
    }
   ],
   "source": [
    "lv_data.head()"
   ]
  },
  {
   "cell_type": "markdown",
   "id": "diverse-reduction",
   "metadata": {},
   "source": [
    "# LV cell types analysis"
   ]
  },
  {
   "cell_type": "markdown",
   "id": "brilliant-pepper",
   "metadata": {},
   "source": [
    "## Get top attributes"
   ]
  },
  {
   "cell_type": "code",
   "execution_count": 21,
   "id": "promising-oklahoma",
   "metadata": {},
   "outputs": [
    {
     "data": {
      "text/plain": [
       "cell type                         0.057962\n",
       "antibodies                        0.008130\n",
       "origin                            0.008130\n",
       "reprogramming time point (day)    0.003157\n",
       "well number                       0.003157\n",
       "tnm                               0.003144\n",
       "transfection                      0.002843\n",
       "cancer or normal                  0.002809\n",
       "culture medium                    0.002374\n",
       "c1 chip id                        0.001964\n",
       "experiment_sample_name            0.001964\n",
       "age                               0.001817\n",
       "facs gating                       0.001756\n",
       "tonsil donor                      0.001756\n",
       "Stage                             0.001547\n",
       "time                              0.001465\n",
       "tissue                            0.001409\n",
       "reprogramming vector              0.001308\n",
       "iPSc                              0.001308\n",
       "cell type subset                  0.001274\n",
       "dtype: float64"
      ]
     },
     "metadata": {},
     "output_type": "display_data"
    }
   ],
   "source": [
    "lv_attrs = lv_obj.get_attributes_variation_score()\n",
    "display(lv_attrs.head(20))"
   ]
  },
  {
   "cell_type": "code",
   "execution_count": 22,
   "id": "confused-mongolia",
   "metadata": {},
   "outputs": [
    {
     "data": {
      "text/plain": [
       "cell type         0.057962\n",
       "tissue            0.001409\n",
       "cell line/type    0.000447\n",
       "dtype: float64"
      ]
     },
     "execution_count": 22,
     "metadata": {},
     "output_type": "execute_result"
    }
   ],
   "source": [
    "# show those with cell type or tissue in their name\n",
    "_tmp = pd.Series(lv_attrs.index)\n",
    "lv_attrs[\n",
    "    _tmp.str.match(\n",
    "        \"(?:cell.+type$)|(?:tissue$)|(?:tissue.+type$)\",\n",
    "        case=False,\n",
    "        flags=re.IGNORECASE,\n",
    "    ).values\n",
    "].sort_values(ascending=False)"
   ]
  },
  {
   "cell_type": "code",
   "execution_count": 23,
   "id": "material-matthew",
   "metadata": {},
   "outputs": [],
   "source": [
    "_tmp = lv_data.loc[\n",
    "    :,\n",
    "    [\n",
    "        \"cell type\",\n",
    "        \"tissue\",\n",
    "        \"cell line/type\",\n",
    "        LV_NAME,\n",
    "    ],\n",
    "]"
   ]
  },
  {
   "cell_type": "code",
   "execution_count": 24,
   "id": "orange-whale",
   "metadata": {},
   "outputs": [],
   "source": [
    "_tmp_seq = list(chunker(_tmp.sort_values(LV_NAME, ascending=False), 25))"
   ]
  },
  {
   "cell_type": "code",
   "execution_count": 25,
   "id": "american-spouse",
   "metadata": {},
   "outputs": [
    {
     "data": {
      "text/html": [
       "<div>\n",
       "<style scoped>\n",
       "    .dataframe tbody tr th:only-of-type {\n",
       "        vertical-align: middle;\n",
       "    }\n",
       "\n",
       "    .dataframe tbody tr th {\n",
       "        vertical-align: top;\n",
       "    }\n",
       "\n",
       "    .dataframe thead th {\n",
       "        text-align: right;\n",
       "    }\n",
       "</style>\n",
       "<table border=\"1\" class=\"dataframe\">\n",
       "  <thead>\n",
       "    <tr style=\"text-align: right;\">\n",
       "      <th></th>\n",
       "      <th></th>\n",
       "      <th>cell type</th>\n",
       "      <th>tissue</th>\n",
       "      <th>cell line/type</th>\n",
       "      <th>LV93</th>\n",
       "    </tr>\n",
       "    <tr>\n",
       "      <th>project</th>\n",
       "      <th>run</th>\n",
       "      <th></th>\n",
       "      <th></th>\n",
       "      <th></th>\n",
       "      <th></th>\n",
       "    </tr>\n",
       "  </thead>\n",
       "  <tbody>\n",
       "    <tr>\n",
       "      <th rowspan=\"3\" valign=\"top\">SRP055569</th>\n",
       "      <th>SRR1821376</th>\n",
       "      <td>U87 human glioma cells</td>\n",
       "      <td>NaN</td>\n",
       "      <td>NaN</td>\n",
       "      <td>0.155853</td>\n",
       "    </tr>\n",
       "    <tr>\n",
       "      <th>SRR1821596</th>\n",
       "      <td>mixture of U87 human glioma cells and MCF10a h...</td>\n",
       "      <td>NaN</td>\n",
       "      <td>NaN</td>\n",
       "      <td>0.154973</td>\n",
       "    </tr>\n",
       "    <tr>\n",
       "      <th>SRR1821692</th>\n",
       "      <td>MCF10a human breast cancer cells</td>\n",
       "      <td>NaN</td>\n",
       "      <td>NaN</td>\n",
       "      <td>0.154880</td>\n",
       "    </tr>\n",
       "    <tr>\n",
       "      <th>SRP033135</th>\n",
       "      <th>SRR1033249</th>\n",
       "      <td>Human Skeletal Muscle Myoblasts (HSMM)</td>\n",
       "      <td>NaN</td>\n",
       "      <td>NaN</td>\n",
       "      <td>0.154715</td>\n",
       "    </tr>\n",
       "    <tr>\n",
       "      <th>SRP066834</th>\n",
       "      <th>SRR2967800</th>\n",
       "      <td>NaN</td>\n",
       "      <td>Fetal neocortex</td>\n",
       "      <td>NaN</td>\n",
       "      <td>0.154398</td>\n",
       "    </tr>\n",
       "    <tr>\n",
       "      <th>SRP060416</th>\n",
       "      <th>SRR2088609</th>\n",
       "      <td>tonsil Innate lymphoid cells</td>\n",
       "      <td>NaN</td>\n",
       "      <td>NaN</td>\n",
       "      <td>0.151731</td>\n",
       "    </tr>\n",
       "    <tr>\n",
       "      <th>SRP055569</th>\n",
       "      <th>SRR1821392</th>\n",
       "      <td>U87 human glioma cells</td>\n",
       "      <td>NaN</td>\n",
       "      <td>NaN</td>\n",
       "      <td>0.151093</td>\n",
       "    </tr>\n",
       "    <tr>\n",
       "      <th>SRP058773</th>\n",
       "      <th>SRR2042614</th>\n",
       "      <td>NaN</td>\n",
       "      <td>NaN</td>\n",
       "      <td>NaN</td>\n",
       "      <td>0.149452</td>\n",
       "    </tr>\n",
       "    <tr>\n",
       "      <th>SRP055569</th>\n",
       "      <th>SRR1821614</th>\n",
       "      <td>mixture of U87 human glioma cells and MCF10a h...</td>\n",
       "      <td>NaN</td>\n",
       "      <td>NaN</td>\n",
       "      <td>0.147908</td>\n",
       "    </tr>\n",
       "    <tr>\n",
       "      <th>SRP042161</th>\n",
       "      <th>SRR1295307</th>\n",
       "      <td>Gliomasphere Cell Line</td>\n",
       "      <td>NaN</td>\n",
       "      <td>NaN</td>\n",
       "      <td>0.147714</td>\n",
       "    </tr>\n",
       "    <tr>\n",
       "      <th rowspan=\"3\" valign=\"top\">SRP055569</th>\n",
       "      <th>SRR1821522</th>\n",
       "      <td>mixture of U87 human glioma cells and MCF10a h...</td>\n",
       "      <td>NaN</td>\n",
       "      <td>NaN</td>\n",
       "      <td>0.147680</td>\n",
       "    </tr>\n",
       "    <tr>\n",
       "      <th>SRR1821715</th>\n",
       "      <td>MCF10a human breast cancer cells</td>\n",
       "      <td>NaN</td>\n",
       "      <td>NaN</td>\n",
       "      <td>0.144899</td>\n",
       "    </tr>\n",
       "    <tr>\n",
       "      <th>SRR1821637</th>\n",
       "      <td>MCF10a human breast cancer cells</td>\n",
       "      <td>NaN</td>\n",
       "      <td>NaN</td>\n",
       "      <td>0.143266</td>\n",
       "    </tr>\n",
       "    <tr>\n",
       "      <th>SRP066834</th>\n",
       "      <th>SRR2967819</th>\n",
       "      <td>NaN</td>\n",
       "      <td>Fetal neocortex</td>\n",
       "      <td>NaN</td>\n",
       "      <td>0.141749</td>\n",
       "    </tr>\n",
       "    <tr>\n",
       "      <th>SRP055569</th>\n",
       "      <th>SRR1821717</th>\n",
       "      <td>MCF10a human breast cancer cells</td>\n",
       "      <td>NaN</td>\n",
       "      <td>NaN</td>\n",
       "      <td>0.141422</td>\n",
       "    </tr>\n",
       "    <tr>\n",
       "      <th rowspan=\"2\" valign=\"top\">SRP060416</th>\n",
       "      <th>SRR2088285</th>\n",
       "      <td>tonsil Innate lymphoid cells</td>\n",
       "      <td>NaN</td>\n",
       "      <td>NaN</td>\n",
       "      <td>0.139748</td>\n",
       "    </tr>\n",
       "    <tr>\n",
       "      <th>SRR2088310</th>\n",
       "      <td>tonsil Innate lymphoid cells</td>\n",
       "      <td>NaN</td>\n",
       "      <td>NaN</td>\n",
       "      <td>0.139270</td>\n",
       "    </tr>\n",
       "    <tr>\n",
       "      <th>SRP057196</th>\n",
       "      <th>SRR1974901</th>\n",
       "      <td>fetal_quiescent</td>\n",
       "      <td>cortex</td>\n",
       "      <td>NaN</td>\n",
       "      <td>0.139193</td>\n",
       "    </tr>\n",
       "    <tr>\n",
       "      <th>SRP055569</th>\n",
       "      <th>SRR1821531</th>\n",
       "      <td>mixture of U87 human glioma cells and MCF10a h...</td>\n",
       "      <td>NaN</td>\n",
       "      <td>NaN</td>\n",
       "      <td>0.138566</td>\n",
       "    </tr>\n",
       "    <tr>\n",
       "      <th>SRP066834</th>\n",
       "      <th>SRR2967743</th>\n",
       "      <td>NaN</td>\n",
       "      <td>Fetal neocortex</td>\n",
       "      <td>NaN</td>\n",
       "      <td>0.138279</td>\n",
       "    </tr>\n",
       "    <tr>\n",
       "      <th>SRP060416</th>\n",
       "      <th>SRR2088477</th>\n",
       "      <td>tonsil Innate lymphoid cells</td>\n",
       "      <td>NaN</td>\n",
       "      <td>NaN</td>\n",
       "      <td>0.138027</td>\n",
       "    </tr>\n",
       "    <tr>\n",
       "      <th rowspan=\"2\" valign=\"top\">SRP055569</th>\n",
       "      <th>SRR1821378</th>\n",
       "      <td>U87 human glioma cells</td>\n",
       "      <td>NaN</td>\n",
       "      <td>NaN</td>\n",
       "      <td>0.137080</td>\n",
       "    </tr>\n",
       "    <tr>\n",
       "      <th>SRR1821519</th>\n",
       "      <td>mixture of U87 human glioma cells and MCF10a h...</td>\n",
       "      <td>NaN</td>\n",
       "      <td>NaN</td>\n",
       "      <td>0.135248</td>\n",
       "    </tr>\n",
       "    <tr>\n",
       "      <th>SRP017777</th>\n",
       "      <th>SRR644275</th>\n",
       "      <td>NaN</td>\n",
       "      <td>Temporal cortex</td>\n",
       "      <td>NaN</td>\n",
       "      <td>0.135240</td>\n",
       "    </tr>\n",
       "    <tr>\n",
       "      <th>SRP055569</th>\n",
       "      <th>SRR1821677</th>\n",
       "      <td>MCF10a human breast cancer cells</td>\n",
       "      <td>NaN</td>\n",
       "      <td>NaN</td>\n",
       "      <td>0.133153</td>\n",
       "    </tr>\n",
       "  </tbody>\n",
       "</table>\n",
       "</div>"
      ],
      "text/plain": [
       "                                                              cell type  \\\n",
       "project   run                                                             \n",
       "SRP055569 SRR1821376                             U87 human glioma cells   \n",
       "          SRR1821596  mixture of U87 human glioma cells and MCF10a h...   \n",
       "          SRR1821692                   MCF10a human breast cancer cells   \n",
       "SRP033135 SRR1033249             Human Skeletal Muscle Myoblasts (HSMM)   \n",
       "SRP066834 SRR2967800                                                NaN   \n",
       "SRP060416 SRR2088609                       tonsil Innate lymphoid cells   \n",
       "SRP055569 SRR1821392                             U87 human glioma cells   \n",
       "SRP058773 SRR2042614                                                NaN   \n",
       "SRP055569 SRR1821614  mixture of U87 human glioma cells and MCF10a h...   \n",
       "SRP042161 SRR1295307                             Gliomasphere Cell Line   \n",
       "SRP055569 SRR1821522  mixture of U87 human glioma cells and MCF10a h...   \n",
       "          SRR1821715                   MCF10a human breast cancer cells   \n",
       "          SRR1821637                   MCF10a human breast cancer cells   \n",
       "SRP066834 SRR2967819                                                NaN   \n",
       "SRP055569 SRR1821717                   MCF10a human breast cancer cells   \n",
       "SRP060416 SRR2088285                       tonsil Innate lymphoid cells   \n",
       "          SRR2088310                       tonsil Innate lymphoid cells   \n",
       "SRP057196 SRR1974901                                    fetal_quiescent   \n",
       "SRP055569 SRR1821531  mixture of U87 human glioma cells and MCF10a h...   \n",
       "SRP066834 SRR2967743                                                NaN   \n",
       "SRP060416 SRR2088477                       tonsil Innate lymphoid cells   \n",
       "SRP055569 SRR1821378                             U87 human glioma cells   \n",
       "          SRR1821519  mixture of U87 human glioma cells and MCF10a h...   \n",
       "SRP017777 SRR644275                                                 NaN   \n",
       "SRP055569 SRR1821677                   MCF10a human breast cancer cells   \n",
       "\n",
       "                               tissue cell line/type      LV93  \n",
       "project   run                                                   \n",
       "SRP055569 SRR1821376              NaN            NaN  0.155853  \n",
       "          SRR1821596              NaN            NaN  0.154973  \n",
       "          SRR1821692              NaN            NaN  0.154880  \n",
       "SRP033135 SRR1033249              NaN            NaN  0.154715  \n",
       "SRP066834 SRR2967800  Fetal neocortex            NaN  0.154398  \n",
       "SRP060416 SRR2088609              NaN            NaN  0.151731  \n",
       "SRP055569 SRR1821392              NaN            NaN  0.151093  \n",
       "SRP058773 SRR2042614              NaN            NaN  0.149452  \n",
       "SRP055569 SRR1821614              NaN            NaN  0.147908  \n",
       "SRP042161 SRR1295307              NaN            NaN  0.147714  \n",
       "SRP055569 SRR1821522              NaN            NaN  0.147680  \n",
       "          SRR1821715              NaN            NaN  0.144899  \n",
       "          SRR1821637              NaN            NaN  0.143266  \n",
       "SRP066834 SRR2967819  Fetal neocortex            NaN  0.141749  \n",
       "SRP055569 SRR1821717              NaN            NaN  0.141422  \n",
       "SRP060416 SRR2088285              NaN            NaN  0.139748  \n",
       "          SRR2088310              NaN            NaN  0.139270  \n",
       "SRP057196 SRR1974901           cortex            NaN  0.139193  \n",
       "SRP055569 SRR1821531              NaN            NaN  0.138566  \n",
       "SRP066834 SRR2967743  Fetal neocortex            NaN  0.138279  \n",
       "SRP060416 SRR2088477              NaN            NaN  0.138027  \n",
       "SRP055569 SRR1821378              NaN            NaN  0.137080  \n",
       "          SRR1821519              NaN            NaN  0.135248  \n",
       "SRP017777 SRR644275   Temporal cortex            NaN  0.135240  \n",
       "SRP055569 SRR1821677              NaN            NaN  0.133153  "
      ]
     },
     "execution_count": 25,
     "metadata": {},
     "output_type": "execute_result"
    }
   ],
   "source": [
    "_tmp_seq[3]"
   ]
  },
  {
   "cell_type": "code",
   "execution_count": 26,
   "id": "square-booth",
   "metadata": {},
   "outputs": [
    {
     "data": {
      "text/html": [
       "<div>\n",
       "<style scoped>\n",
       "    .dataframe tbody tr th:only-of-type {\n",
       "        vertical-align: middle;\n",
       "    }\n",
       "\n",
       "    .dataframe tbody tr th {\n",
       "        vertical-align: top;\n",
       "    }\n",
       "\n",
       "    .dataframe thead th {\n",
       "        text-align: right;\n",
       "    }\n",
       "</style>\n",
       "<table border=\"1\" class=\"dataframe\">\n",
       "  <thead>\n",
       "    <tr style=\"text-align: right;\">\n",
       "      <th></th>\n",
       "      <th></th>\n",
       "      <th>well number</th>\n",
       "      <th>reprogramming time point (day)</th>\n",
       "      <th>LV93</th>\n",
       "    </tr>\n",
       "    <tr>\n",
       "      <th>project</th>\n",
       "      <th>run</th>\n",
       "      <th></th>\n",
       "      <th></th>\n",
       "      <th></th>\n",
       "    </tr>\n",
       "  </thead>\n",
       "  <tbody>\n",
       "    <tr>\n",
       "      <th rowspan=\"10\" valign=\"top\">SRP058773</th>\n",
       "      <th>SRR2042658</th>\n",
       "      <td>67</td>\n",
       "      <td>10</td>\n",
       "      <td>0.232938</td>\n",
       "    </tr>\n",
       "    <tr>\n",
       "      <th>SRR2042618</th>\n",
       "      <td>14</td>\n",
       "      <td>10</td>\n",
       "      <td>0.201926</td>\n",
       "    </tr>\n",
       "    <tr>\n",
       "      <th>SRR2042614</th>\n",
       "      <td>23</td>\n",
       "      <td>10</td>\n",
       "      <td>0.149452</td>\n",
       "    </tr>\n",
       "    <tr>\n",
       "      <th>SRR2042613</th>\n",
       "      <td>76</td>\n",
       "      <td>10</td>\n",
       "      <td>0.115782</td>\n",
       "    </tr>\n",
       "    <tr>\n",
       "      <th>SRR2042646</th>\n",
       "      <td>48</td>\n",
       "      <td>10</td>\n",
       "      <td>0.075303</td>\n",
       "    </tr>\n",
       "    <tr>\n",
       "      <th>SRR2042610</th>\n",
       "      <td>41</td>\n",
       "      <td>10</td>\n",
       "      <td>0.066753</td>\n",
       "    </tr>\n",
       "    <tr>\n",
       "      <th>SRR2042616</th>\n",
       "      <td>61</td>\n",
       "      <td>10</td>\n",
       "      <td>0.064327</td>\n",
       "    </tr>\n",
       "    <tr>\n",
       "      <th>SRR2042649</th>\n",
       "      <td>73</td>\n",
       "      <td>10</td>\n",
       "      <td>0.058538</td>\n",
       "    </tr>\n",
       "    <tr>\n",
       "      <th>SRR2042624</th>\n",
       "      <td>20</td>\n",
       "      <td>10</td>\n",
       "      <td>0.055665</td>\n",
       "    </tr>\n",
       "    <tr>\n",
       "      <th>SRR2042630</th>\n",
       "      <td>21</td>\n",
       "      <td>10</td>\n",
       "      <td>0.047760</td>\n",
       "    </tr>\n",
       "  </tbody>\n",
       "</table>\n",
       "</div>"
      ],
      "text/plain": [
       "                     well number reprogramming time point (day)      LV93\n",
       "project   run                                                            \n",
       "SRP058773 SRR2042658          67                             10  0.232938\n",
       "          SRR2042618          14                             10  0.201926\n",
       "          SRR2042614          23                             10  0.149452\n",
       "          SRR2042613          76                             10  0.115782\n",
       "          SRR2042646          48                             10  0.075303\n",
       "          SRR2042610          41                             10  0.066753\n",
       "          SRR2042616          61                             10  0.064327\n",
       "          SRR2042649          73                             10  0.058538\n",
       "          SRR2042624          20                             10  0.055665\n",
       "          SRR2042630          21                             10  0.047760"
      ]
     },
     "execution_count": 26,
     "metadata": {},
     "output_type": "execute_result"
    }
   ],
   "source": [
    "# what is there in these projects?\n",
    "lv_data.loc[[\"SRP058773\"]].dropna(how=\"all\", axis=1).sort_values(\n",
    "    LV_NAME, ascending=False\n",
    ").sort_values(LV_NAME, ascending=False).head(10)"
   ]
  },
  {
   "cell_type": "code",
   "execution_count": 27,
   "id": "excellent-filename",
   "metadata": {},
   "outputs": [],
   "source": [
    "SELECTED_ATTRIBUTE = \"cell type\""
   ]
  },
  {
   "cell_type": "code",
   "execution_count": 28,
   "id": "lyric-saskatchewan",
   "metadata": {},
   "outputs": [],
   "source": [
    "# it has to be in the order desired for filling nans in the SELECTED_ATTRIBUTE\n",
    "SECOND_ATTRIBUTES = [\"tissue\", \"cell line/type\"]"
   ]
  },
  {
   "cell_type": "markdown",
   "id": "initial-position",
   "metadata": {},
   "source": [
    "## Get plot data"
   ]
  },
  {
   "cell_type": "code",
   "execution_count": 29,
   "id": "magnetic-ridge",
   "metadata": {},
   "outputs": [],
   "source": [
    "plot_data = lv_data.loc[:, [SELECTED_ATTRIBUTE] + SECOND_ATTRIBUTES + [LV_NAME]]"
   ]
  },
  {
   "cell_type": "code",
   "execution_count": 30,
   "id": "painful-paintball",
   "metadata": {},
   "outputs": [],
   "source": [
    "# if blank/nan, fill cell type column with tissue content\n",
    "_new_column = plot_data[[SELECTED_ATTRIBUTE] + SECOND_ATTRIBUTES].fillna(\n",
    "    method=\"backfill\", axis=1\n",
    ")[SELECTED_ATTRIBUTE]\n",
    "plot_data[SELECTED_ATTRIBUTE] = _new_column\n",
    "plot_data = plot_data.drop(columns=SECOND_ATTRIBUTES)\n",
    "plot_data = plot_data.fillna({SELECTED_ATTRIBUTE: \"NOT CATEGORIZED\"})\n",
    "# plot_data = plot_data.dropna(subset=[SELECTED_ATTRIBUTE])"
   ]
  },
  {
   "cell_type": "code",
   "execution_count": 31,
   "id": "satisfied-mirror",
   "metadata": {},
   "outputs": [],
   "source": [
    "plot_data = plot_data.sort_values(LV_NAME, ascending=False)"
   ]
  },
  {
   "cell_type": "code",
   "execution_count": 32,
   "id": "acknowledged-corruption",
   "metadata": {},
   "outputs": [
    {
     "data": {
      "text/html": [
       "<div>\n",
       "<style scoped>\n",
       "    .dataframe tbody tr th:only-of-type {\n",
       "        vertical-align: middle;\n",
       "    }\n",
       "\n",
       "    .dataframe tbody tr th {\n",
       "        vertical-align: top;\n",
       "    }\n",
       "\n",
       "    .dataframe thead th {\n",
       "        text-align: right;\n",
       "    }\n",
       "</style>\n",
       "<table border=\"1\" class=\"dataframe\">\n",
       "  <thead>\n",
       "    <tr style=\"text-align: right;\">\n",
       "      <th></th>\n",
       "      <th></th>\n",
       "      <th>cell type</th>\n",
       "      <th>LV93</th>\n",
       "    </tr>\n",
       "    <tr>\n",
       "      <th>project</th>\n",
       "      <th>run</th>\n",
       "      <th></th>\n",
       "      <th></th>\n",
       "    </tr>\n",
       "  </thead>\n",
       "  <tbody>\n",
       "    <tr>\n",
       "      <th rowspan=\"4\" valign=\"top\">SRP055569</th>\n",
       "      <th>SRR1821580</th>\n",
       "      <td>mixture of U87 human glioma cells and MCF10a h...</td>\n",
       "      <td>13.972951</td>\n",
       "    </tr>\n",
       "    <tr>\n",
       "      <th>SRR2019156</th>\n",
       "      <td>mixture of U87 human glioma cells and WI-38 hu...</td>\n",
       "      <td>0.703623</td>\n",
       "    </tr>\n",
       "    <tr>\n",
       "      <th>SRR2019090</th>\n",
       "      <td>WI-38 human lung fibroblast cells</td>\n",
       "      <td>0.681809</td>\n",
       "    </tr>\n",
       "    <tr>\n",
       "      <th>SRR2019185</th>\n",
       "      <td>mixture of U87 human glioma cells and WI-38 hu...</td>\n",
       "      <td>0.494218</td>\n",
       "    </tr>\n",
       "    <tr>\n",
       "      <th>SRP042161</th>\n",
       "      <th>SRR1294848</th>\n",
       "      <td>Glioblastoma</td>\n",
       "      <td>0.490596</td>\n",
       "    </tr>\n",
       "    <tr>\n",
       "      <th>SRP033135</th>\n",
       "      <th>SRR1033035</th>\n",
       "      <td>Human Skeletal Muscle Myoblasts (HSMM)</td>\n",
       "      <td>0.479438</td>\n",
       "    </tr>\n",
       "    <tr>\n",
       "      <th rowspan=\"2\" valign=\"top\">SRP055569</th>\n",
       "      <th>SRR2019221</th>\n",
       "      <td>mixture of U87 human glioma cells and WI-38 hu...</td>\n",
       "      <td>0.468346</td>\n",
       "    </tr>\n",
       "    <tr>\n",
       "      <th>SRR2019126</th>\n",
       "      <td>mixture of U87 human glioma cells and WI-38 hu...</td>\n",
       "      <td>0.445295</td>\n",
       "    </tr>\n",
       "    <tr>\n",
       "      <th>SRP050499</th>\n",
       "      <th>SRR2013757</th>\n",
       "      <td>NOT CATEGORIZED</td>\n",
       "      <td>0.401492</td>\n",
       "    </tr>\n",
       "    <tr>\n",
       "      <th rowspan=\"5\" valign=\"top\">SRP055569</th>\n",
       "      <th>SRR1821374</th>\n",
       "      <td>U87 human glioma cells</td>\n",
       "      <td>0.396155</td>\n",
       "    </tr>\n",
       "    <tr>\n",
       "      <th>SRR2019037</th>\n",
       "      <td>U87 human glioma cells</td>\n",
       "      <td>0.374174</td>\n",
       "    </tr>\n",
       "    <tr>\n",
       "      <th>SRR2018983</th>\n",
       "      <td>mixture of U87 human glioma cells and MCF10a h...</td>\n",
       "      <td>0.366901</td>\n",
       "    </tr>\n",
       "    <tr>\n",
       "      <th>SRR1821497</th>\n",
       "      <td>mixture of U87 human glioma cells and MCF10a h...</td>\n",
       "      <td>0.360615</td>\n",
       "    </tr>\n",
       "    <tr>\n",
       "      <th>SRR1821487</th>\n",
       "      <td>mixture of U87 human glioma cells and MCF10a h...</td>\n",
       "      <td>0.342811</td>\n",
       "    </tr>\n",
       "    <tr>\n",
       "      <th>SRP057196</th>\n",
       "      <th>SRR1974603</th>\n",
       "      <td>neurons</td>\n",
       "      <td>0.341721</td>\n",
       "    </tr>\n",
       "    <tr>\n",
       "      <th rowspan=\"2\" valign=\"top\">SRP055569</th>\n",
       "      <th>SRR1821611</th>\n",
       "      <td>mixture of U87 human glioma cells and MCF10a h...</td>\n",
       "      <td>0.339173</td>\n",
       "    </tr>\n",
       "    <tr>\n",
       "      <th>SRR1821602</th>\n",
       "      <td>mixture of U87 human glioma cells and MCF10a h...</td>\n",
       "      <td>0.332277</td>\n",
       "    </tr>\n",
       "    <tr>\n",
       "      <th>SRP060416</th>\n",
       "      <th>SRR2088252</th>\n",
       "      <td>tonsil Innate lymphoid cells</td>\n",
       "      <td>0.316689</td>\n",
       "    </tr>\n",
       "    <tr>\n",
       "      <th rowspan=\"2\" valign=\"top\">SRP055569</th>\n",
       "      <th>SRR1821489</th>\n",
       "      <td>mixture of U87 human glioma cells and MCF10a h...</td>\n",
       "      <td>0.299190</td>\n",
       "    </tr>\n",
       "    <tr>\n",
       "      <th>SRR1821470</th>\n",
       "      <td>mixture of U87 human glioma cells and MCF10a h...</td>\n",
       "      <td>0.295681</td>\n",
       "    </tr>\n",
       "  </tbody>\n",
       "</table>\n",
       "</div>"
      ],
      "text/plain": [
       "                                                              cell type  \\\n",
       "project   run                                                             \n",
       "SRP055569 SRR1821580  mixture of U87 human glioma cells and MCF10a h...   \n",
       "          SRR2019156  mixture of U87 human glioma cells and WI-38 hu...   \n",
       "          SRR2019090                  WI-38 human lung fibroblast cells   \n",
       "          SRR2019185  mixture of U87 human glioma cells and WI-38 hu...   \n",
       "SRP042161 SRR1294848                                       Glioblastoma   \n",
       "SRP033135 SRR1033035             Human Skeletal Muscle Myoblasts (HSMM)   \n",
       "SRP055569 SRR2019221  mixture of U87 human glioma cells and WI-38 hu...   \n",
       "          SRR2019126  mixture of U87 human glioma cells and WI-38 hu...   \n",
       "SRP050499 SRR2013757                                    NOT CATEGORIZED   \n",
       "SRP055569 SRR1821374                             U87 human glioma cells   \n",
       "          SRR2019037                             U87 human glioma cells   \n",
       "          SRR2018983  mixture of U87 human glioma cells and MCF10a h...   \n",
       "          SRR1821497  mixture of U87 human glioma cells and MCF10a h...   \n",
       "          SRR1821487  mixture of U87 human glioma cells and MCF10a h...   \n",
       "SRP057196 SRR1974603                                            neurons   \n",
       "SRP055569 SRR1821611  mixture of U87 human glioma cells and MCF10a h...   \n",
       "          SRR1821602  mixture of U87 human glioma cells and MCF10a h...   \n",
       "SRP060416 SRR2088252                       tonsil Innate lymphoid cells   \n",
       "SRP055569 SRR1821489  mixture of U87 human glioma cells and MCF10a h...   \n",
       "          SRR1821470  mixture of U87 human glioma cells and MCF10a h...   \n",
       "\n",
       "                           LV93  \n",
       "project   run                    \n",
       "SRP055569 SRR1821580  13.972951  \n",
       "          SRR2019156   0.703623  \n",
       "          SRR2019090   0.681809  \n",
       "          SRR2019185   0.494218  \n",
       "SRP042161 SRR1294848   0.490596  \n",
       "SRP033135 SRR1033035   0.479438  \n",
       "SRP055569 SRR2019221   0.468346  \n",
       "          SRR2019126   0.445295  \n",
       "SRP050499 SRR2013757   0.401492  \n",
       "SRP055569 SRR1821374   0.396155  \n",
       "          SRR2019037   0.374174  \n",
       "          SRR2018983   0.366901  \n",
       "          SRR1821497   0.360615  \n",
       "          SRR1821487   0.342811  \n",
       "SRP057196 SRR1974603   0.341721  \n",
       "SRP055569 SRR1821611   0.339173  \n",
       "          SRR1821602   0.332277  \n",
       "SRP060416 SRR2088252   0.316689  \n",
       "SRP055569 SRR1821489   0.299190  \n",
       "          SRR1821470   0.295681  "
      ]
     },
     "execution_count": 32,
     "metadata": {},
     "output_type": "execute_result"
    }
   ],
   "source": [
    "plot_data.head(20)"
   ]
  },
  {
   "cell_type": "markdown",
   "id": "returning-inventory",
   "metadata": {},
   "source": [
    "## Customize x-axis values"
   ]
  },
  {
   "cell_type": "markdown",
   "id": "amino-bronze",
   "metadata": {},
   "source": [
    "When cell type values are not very clear, customize their names by looking at their specific studies to know exactly what the authors meant."
   ]
  },
  {
   "cell_type": "code",
   "execution_count": 33,
   "id": "separate-adrian",
   "metadata": {},
   "outputs": [],
   "source": [
    "final_plot_data = plot_data.replace(\n",
    "    {\n",
    "        SELECTED_ATTRIBUTE: {\n",
    "            # SRP057196\n",
    "            \"fetal_quiescent\": \"Fetal neurons (quiescent)\",\n",
    "            \"fetal_replicating\": \"Fetal neurons (replicating)\",\n",
    "            # SRP055569\n",
    "            \"mixture of U87 human glioma cells and WI-38 human lung fibroblast cells\": \"Glioma cells + lung fibroblast cells\",\n",
    "            \"mixture of U87 human glioma cells and MCF10a human breast cancer cells\": \"Glioma cells + breast cancer cells\",\n",
    "        }\n",
    "    }\n",
    ")"
   ]
  },
  {
   "cell_type": "code",
   "execution_count": 34,
   "id": "banned-shield",
   "metadata": {},
   "outputs": [
    {
     "name": "stderr",
     "output_type": "stream",
     "text": [
      "<ipython-input-34-26d4d9c15426>:3: PerformanceWarning: indexing past lexsort depth may impact performance.\n",
      "  _tmp = final_plot_data.loc[(_srp_code,)].apply(\n"
     ]
    }
   ],
   "source": [
    "# # add also tissue information to these projects\n",
    "_srp_code = \"SRP057196\"\n",
    "_tmp = final_plot_data.loc[(_srp_code,)].apply(\n",
    "    lambda x: x[SELECTED_ATTRIBUTE]\n",
    "    + f\" ({lv_data.loc[(_srp_code, x.name), 'tissue']})\",\n",
    "    axis=1,\n",
    ")\n",
    "final_plot_data.loc[(_srp_code, _tmp.index), SELECTED_ATTRIBUTE] = _tmp.values"
   ]
  },
  {
   "cell_type": "code",
   "execution_count": 35,
   "id": "healthy-mercury",
   "metadata": {},
   "outputs": [],
   "source": [
    "# take the top samples only\n",
    "final_plot_data = final_plot_data.sort_values(LV_NAME, ascending=False)[:N_TOP_SAMPLES]"
   ]
  },
  {
   "cell_type": "markdown",
   "id": "portuguese-mercy",
   "metadata": {},
   "source": [
    "## Threshold LV values"
   ]
  },
  {
   "cell_type": "code",
   "execution_count": 36,
   "id": "placed-horizon",
   "metadata": {},
   "outputs": [],
   "source": [
    "final_plot_data.loc[\n",
    "    final_plot_data[LV_NAME] > LV_AXIS_THRESHOLD, LV_NAME\n",
    "] = LV_AXIS_THRESHOLD"
   ]
  },
  {
   "cell_type": "markdown",
   "id": "christian-apartment",
   "metadata": {},
   "source": [
    "## Delete samples with no tissue/cell type information"
   ]
  },
  {
   "cell_type": "code",
   "execution_count": 37,
   "id": "arabic-assignment",
   "metadata": {},
   "outputs": [],
   "source": [
    "final_plot_data = final_plot_data[\n",
    "    final_plot_data[SELECTED_ATTRIBUTE] != \"NOT CATEGORIZED\"\n",
    "]"
   ]
  },
  {
   "cell_type": "markdown",
   "id": "several-malaysia",
   "metadata": {},
   "source": [
    "## Set x-axis order"
   ]
  },
  {
   "cell_type": "code",
   "execution_count": 38,
   "id": "arabic-lebanon",
   "metadata": {},
   "outputs": [],
   "source": [
    "attr_order = (\n",
    "    final_plot_data.groupby(SELECTED_ATTRIBUTE)\n",
    "    .max()\n",
    "    .sort_values(LV_NAME, ascending=False)\n",
    "    .index[:N_TOP_ATTRS]\n",
    "    .tolist()\n",
    ")"
   ]
  },
  {
   "cell_type": "code",
   "execution_count": 39,
   "id": "atmospheric-paragraph",
   "metadata": {},
   "outputs": [
    {
     "data": {
      "text/plain": [
       "25"
      ]
     },
     "execution_count": 39,
     "metadata": {},
     "output_type": "execute_result"
    }
   ],
   "source": [
    "len(attr_order)"
   ]
  },
  {
   "cell_type": "code",
   "execution_count": 40,
   "id": "similar-modeling",
   "metadata": {},
   "outputs": [
    {
     "data": {
      "text/plain": [
       "['Glioma cells + breast cancer cells',\n",
       " 'Glioma cells + lung fibroblast cells',\n",
       " 'WI-38 human lung fibroblast cells',\n",
       " 'Glioblastoma',\n",
       " 'Human Skeletal Muscle Myoblasts (HSMM)']"
      ]
     },
     "execution_count": 40,
     "metadata": {},
     "output_type": "execute_result"
    }
   ],
   "source": [
    "attr_order[:5]"
   ]
  },
  {
   "cell_type": "markdown",
   "id": "convinced-privilege",
   "metadata": {},
   "source": [
    "## Plot"
   ]
  },
  {
   "cell_type": "code",
   "execution_count": 41,
   "id": "acute-importance",
   "metadata": {},
   "outputs": [
    {
     "data": {
      "image/png": "[encoded data removed]",
      "text/plain": [
       "<Figure size 1080x360 with 1 Axes>"
      ]
     },
     "metadata": {},
     "output_type": "display_data"
    }
   ],
   "source": [
    "with sns.plotting_context(\"paper\", font_scale=1.5), sns.axes_style(\"whitegrid\"):\n",
    "    sns.catplot(\n",
    "        data=final_plot_data,\n",
    "        y=LV_NAME,\n",
    "        x=SELECTED_ATTRIBUTE,\n",
    "        order=attr_order,\n",
    "        kind=\"strip\",\n",
    "        height=5,\n",
    "        aspect=3,\n",
    "    )\n",
    "    plt.xticks(rotation=45, horizontalalignment=\"right\")\n",
    "\n",
    "    plt.savefig(\n",
    "        OUTPUT_CELL_TYPE_FILEPATH,\n",
    "        bbox_inches=\"tight\",\n",
    "        facecolor=\"white\",\n",
    "    )"
   ]
  },
  {
   "cell_type": "markdown",
   "id": "caring-injection",
   "metadata": {},
   "source": [
    "# Debug"
   ]
  },
  {
   "cell_type": "code",
   "execution_count": 42,
   "id": "behind-kenya",
   "metadata": {},
   "outputs": [],
   "source": [
    "# with pd.option_context(\n",
    "#     \"display.max_rows\", None, \"display.max_columns\", None, \"display.max_colwidth\", None\n",
    "# ):\n",
    "#     _tmp = final_plot_data[final_plot_data[SELECTED_ATTRIBUTE].str.contains(\"neurons\")]\n",
    "#     display(_tmp.head(20))"
   ]
  },
  {
   "cell_type": "code",
   "execution_count": 43,
   "id": "loved-application",
   "metadata": {},
   "outputs": [],
   "source": [
    "# # what is there in these projects?\n",
    "# lv_data.loc[[\"SRP050499\"]].dropna(how=\"all\", axis=1).sort_values(\n",
    "#     LV_NAME, ascending=False\n",
    "# ).head(60)"
   ]
  },
  {
   "cell_type": "code",
   "execution_count": null,
   "id": "interesting-joint",
   "metadata": {},
   "outputs": [],
   "source": []
  }
 ],
 "metadata": {
  "jupytext": {
   "cell_metadata_filter": "all,-execution,-papermill,-trusted",
   "formats": "ipynb,py//py:percent"
  },
  "kernelspec": {
   "display_name": "Python 3",
   "language": "python",
   "name": "python3"
  },
  "language_info": {
   "codemirror_mode": {
    "name": "ipython",
    "version": 3
   },
   "file_extension": ".py",
   "mimetype": "text/x-python",
   "name": "python",
   "nbconvert_exporter": "python",
   "pygments_lexer": "ipython3",
   "version": "3.8.8"
  }
 },
 "nbformat": 4,
 "nbformat_minor": 5
}
