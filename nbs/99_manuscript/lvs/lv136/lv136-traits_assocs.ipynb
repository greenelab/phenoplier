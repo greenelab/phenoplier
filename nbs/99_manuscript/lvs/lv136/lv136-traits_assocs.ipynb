{
 "cells": [
  {
   "cell_type": "markdown",
   "id": "introductory-digit",
   "metadata": {
    "papermill": {
     "duration": 0.006593,
     "end_time": "2021-05-11T19:09:55.733221",
     "exception": false,
     "start_time": "2021-05-11T19:09:55.726628",
     "status": "completed"
    },
    "tags": []
   },
   "source": [
    "# Description"
   ]
  },
  {
   "cell_type": "markdown",
   "id": "cultural-nebraska",
   "metadata": {
    "papermill": {
     "duration": 0.00668,
     "end_time": "2021-05-11T19:09:55.745410",
     "exception": false,
     "start_time": "2021-05-11T19:09:55.738730",
     "status": "completed"
    },
    "tags": []
   },
   "source": [
    "Generates manubot tables for PhenomeXcan and eMERGE associations given an LV name (which is the only parameter that needs to be specified in the Settings section below)."
   ]
  },
  {
   "cell_type": "markdown",
   "id": "wanted-glance",
   "metadata": {
    "papermill": {
     "duration": 0.006223,
     "end_time": "2021-05-11T19:09:55.756959",
     "exception": false,
     "start_time": "2021-05-11T19:09:55.750736",
     "status": "completed"
    },
    "tags": []
   },
   "source": [
    "# Modules loading"
   ]
  },
  {
   "cell_type": "code",
   "execution_count": 1,
   "id": "vertical-central",
   "metadata": {
    "papermill": {
     "duration": 0.01906,
     "end_time": "2021-05-11T19:09:55.781515",
     "exception": false,
     "start_time": "2021-05-11T19:09:55.762455",
     "status": "completed"
    },
    "tags": []
   },
   "outputs": [],
   "source": [
    "%load_ext autoreload\n",
    "%autoreload 2"
   ]
  },
  {
   "cell_type": "code",
   "execution_count": 2,
   "id": "upper-rescue",
   "metadata": {
    "papermill": {
     "duration": 0.993432,
     "end_time": "2021-05-11T19:09:56.780403",
     "exception": false,
     "start_time": "2021-05-11T19:09:55.786971",
     "status": "completed"
    },
    "tags": []
   },
   "outputs": [],
   "source": [
    "import re\n",
    "from pathlib import Path\n",
    "\n",
    "import pandas as pd\n",
    "\n",
    "from entity import Trait\n",
    "import conf"
   ]
  },
  {
   "cell_type": "markdown",
   "id": "annual-coordinator",
   "metadata": {
    "papermill": {
     "duration": 0.005973,
     "end_time": "2021-05-11T19:09:56.792495",
     "exception": false,
     "start_time": "2021-05-11T19:09:56.786522",
     "status": "completed"
    },
    "tags": []
   },
   "source": [
    "# Settings"
   ]
  },
  {
   "cell_type": "code",
   "execution_count": 3,
   "id": "small-superintendent",
   "metadata": {
    "papermill": {
     "duration": 0.019548,
     "end_time": "2021-05-11T19:09:56.817689",
     "exception": false,
     "start_time": "2021-05-11T19:09:56.798141",
     "status": "completed"
    },
    "tags": [
     "parameters"
    ]
   },
   "outputs": [],
   "source": [
    "LV_NAME = \"LV136\""
   ]
  },
  {
   "cell_type": "code",
   "execution_count": 4,
   "id": "regulated-requirement",
   "metadata": {},
   "outputs": [
    {
     "data": {
      "text/plain": [
       "PosixPath('/opt/manuscript/content/50.00.supplementary_material.md')"
      ]
     },
     "metadata": {},
     "output_type": "display_data"
    }
   ],
   "source": [
    "assert (\n",
    "    conf.MANUSCRIPT[\"BASE_DIR\"] is not None\n",
    "), \"The manuscript directory was not configured\"\n",
    "\n",
    "OUTPUT_FILE_PATH = conf.MANUSCRIPT[\"CONTENT_DIR\"] / \"50.00.supplementary_material.md\"\n",
    "display(OUTPUT_FILE_PATH)\n",
    "assert OUTPUT_FILE_PATH.exists()"
   ]
  },
  {
   "cell_type": "code",
   "execution_count": 5,
   "id": "listed-durham",
   "metadata": {},
   "outputs": [],
   "source": [
    "# result_set is either phenomexcan or emerge\n",
    "LV_FILE_MARK_TEMPLATE = \"<!-- {lv}:{result_set}_traits_assocs:{position} -->\""
   ]
  },
  {
   "cell_type": "code",
   "execution_count": 6,
   "id": "stuck-homework",
   "metadata": {},
   "outputs": [],
   "source": [
    "TABLE_CAPTION = \"Table: Significant trait associations of {lv_name} in {result_set_name}. {table_id}\""
   ]
  },
  {
   "cell_type": "code",
   "execution_count": 7,
   "id": "monthly-heaven",
   "metadata": {},
   "outputs": [],
   "source": [
    "TABLE_CAPTION_ID = \"#tbl:sup:{result_set}_assocs:{lv_name_lower_case}\""
   ]
  },
  {
   "cell_type": "code",
   "execution_count": 8,
   "id": "female-relative",
   "metadata": {},
   "outputs": [],
   "source": [
    "RESULT_SET_NAMES = {\n",
    "    \"phenomexcan\": \"PhenomeXcan\",\n",
    "    \"emerge\": \"eMERGE\",\n",
    "}"
   ]
  },
  {
   "cell_type": "markdown",
   "id": "genuine-thing",
   "metadata": {
    "papermill": {
     "duration": 0.006007,
     "end_time": "2021-05-11T19:09:56.949763",
     "exception": false,
     "start_time": "2021-05-11T19:09:56.943756",
     "status": "completed"
    },
    "tags": []
   },
   "source": [
    "# Load data"
   ]
  },
  {
   "cell_type": "markdown",
   "id": "opponent-affair",
   "metadata": {},
   "source": [
    "## PhenomeXcan LV-trait associations"
   ]
  },
  {
   "cell_type": "code",
   "execution_count": 9,
   "id": "prime-drawing",
   "metadata": {},
   "outputs": [
    {
     "data": {
      "text/plain": [
       "PosixPath('/opt/data/results/gls/gls-summary-phenomexcan.pkl.gz')"
      ]
     },
     "metadata": {},
     "output_type": "display_data"
    }
   ],
   "source": [
    "input_filepath = Path(conf.RESULTS[\"GLS\"] / \"gls-summary-phenomexcan.pkl.gz\")\n",
    "display(input_filepath)"
   ]
  },
  {
   "cell_type": "code",
   "execution_count": 10,
   "id": "solid-prize",
   "metadata": {},
   "outputs": [],
   "source": [
    "phenomexcan_lv_trait_assocs = pd.read_pickle(input_filepath)"
   ]
  },
  {
   "cell_type": "code",
   "execution_count": 11,
   "id": "modular-enlargement",
   "metadata": {},
   "outputs": [
    {
     "data": {
      "text/plain": [
       "(4037817, 5)"
      ]
     },
     "execution_count": 11,
     "metadata": {},
     "output_type": "execute_result"
    }
   ],
   "source": [
    "phenomexcan_lv_trait_assocs.shape"
   ]
  },
  {
   "cell_type": "code",
   "execution_count": 12,
   "id": "vocal-question",
   "metadata": {},
   "outputs": [
    {
     "data": {
      "text/html": [
       "<div>\n",
       "<style scoped>\n",
       "    .dataframe tbody tr th:only-of-type {\n",
       "        vertical-align: middle;\n",
       "    }\n",
       "\n",
       "    .dataframe tbody tr th {\n",
       "        vertical-align: top;\n",
       "    }\n",
       "\n",
       "    .dataframe thead th {\n",
       "        text-align: right;\n",
       "    }\n",
       "</style>\n",
       "<table border=\"1\" class=\"dataframe\">\n",
       "  <thead>\n",
       "    <tr style=\"text-align: right;\">\n",
       "      <th></th>\n",
       "      <th>phenotype</th>\n",
       "      <th>phenotype_desc</th>\n",
       "      <th>lv</th>\n",
       "      <th>pvalue</th>\n",
       "      <th>fdr</th>\n",
       "    </tr>\n",
       "  </thead>\n",
       "  <tbody>\n",
       "    <tr>\n",
       "      <th>0</th>\n",
       "      <td>AB1_OTHER_VIRAL</td>\n",
       "      <td>Other viral diseases</td>\n",
       "      <td>LV736</td>\n",
       "      <td>0.004725</td>\n",
       "      <td>0.504339</td>\n",
       "    </tr>\n",
       "    <tr>\n",
       "      <th>1</th>\n",
       "      <td>AB1_OTHER_VIRAL</td>\n",
       "      <td>Other viral diseases</td>\n",
       "      <td>LV320</td>\n",
       "      <td>0.004848</td>\n",
       "      <td>0.508291</td>\n",
       "    </tr>\n",
       "    <tr>\n",
       "      <th>2</th>\n",
       "      <td>AB1_OTHER_VIRAL</td>\n",
       "      <td>Other viral diseases</td>\n",
       "      <td>LV366</td>\n",
       "      <td>0.005306</td>\n",
       "      <td>0.523691</td>\n",
       "    </tr>\n",
       "    <tr>\n",
       "      <th>3</th>\n",
       "      <td>AB1_OTHER_VIRAL</td>\n",
       "      <td>Other viral diseases</td>\n",
       "      <td>LV964</td>\n",
       "      <td>0.006106</td>\n",
       "      <td>0.548143</td>\n",
       "    </tr>\n",
       "    <tr>\n",
       "      <th>4</th>\n",
       "      <td>AB1_OTHER_VIRAL</td>\n",
       "      <td>Other viral diseases</td>\n",
       "      <td>LV92</td>\n",
       "      <td>0.006565</td>\n",
       "      <td>0.560048</td>\n",
       "    </tr>\n",
       "  </tbody>\n",
       "</table>\n",
       "</div>"
      ],
      "text/plain": [
       "         phenotype        phenotype_desc     lv    pvalue       fdr\n",
       "0  AB1_OTHER_VIRAL  Other viral diseases  LV736  0.004725  0.504339\n",
       "1  AB1_OTHER_VIRAL  Other viral diseases  LV320  0.004848  0.508291\n",
       "2  AB1_OTHER_VIRAL  Other viral diseases  LV366  0.005306  0.523691\n",
       "3  AB1_OTHER_VIRAL  Other viral diseases  LV964  0.006106  0.548143\n",
       "4  AB1_OTHER_VIRAL  Other viral diseases   LV92  0.006565  0.560048"
      ]
     },
     "execution_count": 12,
     "metadata": {},
     "output_type": "execute_result"
    }
   ],
   "source": [
    "phenomexcan_lv_trait_assocs.head()"
   ]
  },
  {
   "cell_type": "markdown",
   "id": "confirmed-button",
   "metadata": {},
   "source": [
    "## eMERGE LV-trait associations"
   ]
  },
  {
   "cell_type": "code",
   "execution_count": 13,
   "id": "yellow-apparel",
   "metadata": {},
   "outputs": [
    {
     "data": {
      "text/plain": [
       "PosixPath('/opt/data/results/gls/gls-summary-emerge.pkl.gz')"
      ]
     },
     "metadata": {},
     "output_type": "display_data"
    }
   ],
   "source": [
    "input_filepath = Path(conf.RESULTS[\"GLS\"] / \"gls-summary-emerge.pkl.gz\")\n",
    "display(input_filepath)"
   ]
  },
  {
   "cell_type": "code",
   "execution_count": 14,
   "id": "interstate-paradise",
   "metadata": {},
   "outputs": [],
   "source": [
    "emerge_lv_trait_assocs = pd.read_pickle(input_filepath)"
   ]
  },
  {
   "cell_type": "code",
   "execution_count": 15,
   "id": "extreme-indiana",
   "metadata": {},
   "outputs": [
    {
     "data": {
      "text/plain": [
       "(304983, 5)"
      ]
     },
     "execution_count": 15,
     "metadata": {},
     "output_type": "execute_result"
    }
   ],
   "source": [
    "emerge_lv_trait_assocs.shape"
   ]
  },
  {
   "cell_type": "code",
   "execution_count": 16,
   "id": "threatened-artwork",
   "metadata": {},
   "outputs": [
    {
     "data": {
      "text/html": [
       "<div>\n",
       "<style scoped>\n",
       "    .dataframe tbody tr th:only-of-type {\n",
       "        vertical-align: middle;\n",
       "    }\n",
       "\n",
       "    .dataframe tbody tr th {\n",
       "        vertical-align: top;\n",
       "    }\n",
       "\n",
       "    .dataframe thead th {\n",
       "        text-align: right;\n",
       "    }\n",
       "</style>\n",
       "<table border=\"1\" class=\"dataframe\">\n",
       "  <thead>\n",
       "    <tr style=\"text-align: right;\">\n",
       "      <th></th>\n",
       "      <th>phenotype</th>\n",
       "      <th>phenotype_desc</th>\n",
       "      <th>lv</th>\n",
       "      <th>pvalue</th>\n",
       "      <th>fdr</th>\n",
       "    </tr>\n",
       "  </thead>\n",
       "  <tbody>\n",
       "    <tr>\n",
       "      <th>0</th>\n",
       "      <td>EUR_440.2</td>\n",
       "      <td>Atherosclerosis of the extremities</td>\n",
       "      <td>LV472</td>\n",
       "      <td>1.033637e-07</td>\n",
       "      <td>0.000658</td>\n",
       "    </tr>\n",
       "    <tr>\n",
       "      <th>1</th>\n",
       "      <td>EUR_440.2</td>\n",
       "      <td>Atherosclerosis of the extremities</td>\n",
       "      <td>LV182</td>\n",
       "      <td>3.710244e-07</td>\n",
       "      <td>0.001432</td>\n",
       "    </tr>\n",
       "    <tr>\n",
       "      <th>2</th>\n",
       "      <td>EUR_440.2</td>\n",
       "      <td>Atherosclerosis of the extremities</td>\n",
       "      <td>LV348</td>\n",
       "      <td>7.379936e-07</td>\n",
       "      <td>0.002558</td>\n",
       "    </tr>\n",
       "    <tr>\n",
       "      <th>3</th>\n",
       "      <td>EUR_440.2</td>\n",
       "      <td>Atherosclerosis of the extremities</td>\n",
       "      <td>LV504</td>\n",
       "      <td>1.534424e-06</td>\n",
       "      <td>0.004500</td>\n",
       "    </tr>\n",
       "    <tr>\n",
       "      <th>4</th>\n",
       "      <td>EUR_440.2</td>\n",
       "      <td>Atherosclerosis of the extremities</td>\n",
       "      <td>LV445</td>\n",
       "      <td>2.912525e-06</td>\n",
       "      <td>0.007402</td>\n",
       "    </tr>\n",
       "  </tbody>\n",
       "</table>\n",
       "</div>"
      ],
      "text/plain": [
       "   phenotype                      phenotype_desc     lv        pvalue  \\\n",
       "0  EUR_440.2  Atherosclerosis of the extremities  LV472  1.033637e-07   \n",
       "1  EUR_440.2  Atherosclerosis of the extremities  LV182  3.710244e-07   \n",
       "2  EUR_440.2  Atherosclerosis of the extremities  LV348  7.379936e-07   \n",
       "3  EUR_440.2  Atherosclerosis of the extremities  LV504  1.534424e-06   \n",
       "4  EUR_440.2  Atherosclerosis of the extremities  LV445  2.912525e-06   \n",
       "\n",
       "        fdr  \n",
       "0  0.000658  \n",
       "1  0.001432  \n",
       "2  0.002558  \n",
       "3  0.004500  \n",
       "4  0.007402  "
      ]
     },
     "execution_count": 16,
     "metadata": {},
     "output_type": "execute_result"
    }
   ],
   "source": [
    "emerge_lv_trait_assocs.head()"
   ]
  },
  {
   "cell_type": "markdown",
   "id": "operational-crime",
   "metadata": {},
   "source": [
    "## eMERGE traits info"
   ]
  },
  {
   "cell_type": "code",
   "execution_count": 17,
   "id": "suited-biodiversity",
   "metadata": {},
   "outputs": [
    {
     "data": {
      "text/plain": [
       "PosixPath('/opt/data/data/emerge/eMERGE_III_PMBB_GSA_v2_2020_phecode_AFR_EUR_cc50_counts_w_dictionary.txt')"
      ]
     },
     "metadata": {},
     "output_type": "display_data"
    }
   ],
   "source": [
    "input_filepath = conf.EMERGE[\"DESC_FILE_WITH_SAMPLE_SIZE\"]\n",
    "display(input_filepath)"
   ]
  },
  {
   "cell_type": "code",
   "execution_count": 18,
   "id": "weighted-boulder",
   "metadata": {},
   "outputs": [],
   "source": [
    "emerge_traits_info = pd.read_csv(\n",
    "    input_filepath,\n",
    "    sep=\"\\t\",\n",
    "    dtype={\"phecode\": str},\n",
    "    usecols=[\n",
    "        \"phecode\",\n",
    "        \"phenotype\",\n",
    "        \"category\",\n",
    "        \"eMERGE_III_EUR_case\",\n",
    "        \"eMERGE_III_EUR_control\",\n",
    "    ],\n",
    ")"
   ]
  },
  {
   "cell_type": "code",
   "execution_count": 19,
   "id": "alike-oracle",
   "metadata": {},
   "outputs": [],
   "source": [
    "emerge_traits_info[\"phecode\"] = emerge_traits_info[\"phecode\"].apply(\n",
    "    lambda x: f\"EUR_{x}\"\n",
    ")"
   ]
  },
  {
   "cell_type": "code",
   "execution_count": 20,
   "id": "71fdd79f",
   "metadata": {},
   "outputs": [],
   "source": [
    "emerge_traits_info = emerge_traits_info.set_index(\"phecode\").sort_index()"
   ]
  },
  {
   "cell_type": "code",
   "execution_count": 21,
   "id": "informative-canada",
   "metadata": {},
   "outputs": [],
   "source": [
    "emerge_traits_info = emerge_traits_info.rename(\n",
    "    columns={\n",
    "        \"eMERGE_III_EUR_case\": \"eur_n_cases\",\n",
    "        \"eMERGE_III_EUR_control\": \"eur_n_controls\",\n",
    "    }\n",
    ")"
   ]
  },
  {
   "cell_type": "code",
   "execution_count": 22,
   "id": "indonesian-anger",
   "metadata": {},
   "outputs": [
    {
     "data": {
      "text/plain": [
       "(309, 4)"
      ]
     },
     "execution_count": 22,
     "metadata": {},
     "output_type": "execute_result"
    }
   ],
   "source": [
    "emerge_traits_info.shape"
   ]
  },
  {
   "cell_type": "code",
   "execution_count": 23,
   "id": "restricted-flavor",
   "metadata": {},
   "outputs": [
    {
     "data": {
      "text/html": [
       "<div>\n",
       "<style scoped>\n",
       "    .dataframe tbody tr th:only-of-type {\n",
       "        vertical-align: middle;\n",
       "    }\n",
       "\n",
       "    .dataframe tbody tr th {\n",
       "        vertical-align: top;\n",
       "    }\n",
       "\n",
       "    .dataframe thead th {\n",
       "        text-align: right;\n",
       "    }\n",
       "</style>\n",
       "<table border=\"1\" class=\"dataframe\">\n",
       "  <thead>\n",
       "    <tr style=\"text-align: right;\">\n",
       "      <th></th>\n",
       "      <th>eur_n_cases</th>\n",
       "      <th>eur_n_controls</th>\n",
       "      <th>phenotype</th>\n",
       "      <th>category</th>\n",
       "    </tr>\n",
       "    <tr>\n",
       "      <th>phecode</th>\n",
       "      <th></th>\n",
       "      <th></th>\n",
       "      <th></th>\n",
       "      <th></th>\n",
       "    </tr>\n",
       "  </thead>\n",
       "  <tbody>\n",
       "    <tr>\n",
       "      <th>EUR_008</th>\n",
       "      <td>1639</td>\n",
       "      <td>57495</td>\n",
       "      <td>Intestinal infection</td>\n",
       "      <td>infectious diseases</td>\n",
       "    </tr>\n",
       "    <tr>\n",
       "      <th>EUR_008.5</th>\n",
       "      <td>1024</td>\n",
       "      <td>57495</td>\n",
       "      <td>Bacterial enteritis</td>\n",
       "      <td>infectious diseases</td>\n",
       "    </tr>\n",
       "    <tr>\n",
       "      <th>EUR_008.52</th>\n",
       "      <td>893</td>\n",
       "      <td>57495</td>\n",
       "      <td>Intestinal infection due to C. difficile</td>\n",
       "      <td>infectious diseases</td>\n",
       "    </tr>\n",
       "    <tr>\n",
       "      <th>EUR_038</th>\n",
       "      <td>3172</td>\n",
       "      <td>50610</td>\n",
       "      <td>Septicemia</td>\n",
       "      <td>infectious diseases</td>\n",
       "    </tr>\n",
       "    <tr>\n",
       "      <th>EUR_038.3</th>\n",
       "      <td>1361</td>\n",
       "      <td>50610</td>\n",
       "      <td>Bacteremia</td>\n",
       "      <td>infectious diseases</td>\n",
       "    </tr>\n",
       "  </tbody>\n",
       "</table>\n",
       "</div>"
      ],
      "text/plain": [
       "            eur_n_cases  eur_n_controls  \\\n",
       "phecode                                   \n",
       "EUR_008            1639           57495   \n",
       "EUR_008.5          1024           57495   \n",
       "EUR_008.52          893           57495   \n",
       "EUR_038            3172           50610   \n",
       "EUR_038.3          1361           50610   \n",
       "\n",
       "                                           phenotype             category  \n",
       "phecode                                                                    \n",
       "EUR_008                         Intestinal infection  infectious diseases  \n",
       "EUR_008.5                        Bacterial enteritis  infectious diseases  \n",
       "EUR_008.52  Intestinal infection due to C. difficile  infectious diseases  \n",
       "EUR_038                                   Septicemia  infectious diseases  \n",
       "EUR_038.3                                 Bacteremia  infectious diseases  "
      ]
     },
     "execution_count": 23,
     "metadata": {},
     "output_type": "execute_result"
    }
   ],
   "source": [
    "emerge_traits_info.head()"
   ]
  },
  {
   "cell_type": "code",
   "execution_count": 24,
   "id": "herbal-healing",
   "metadata": {},
   "outputs": [],
   "source": [
    "assert emerge_traits_info.index.is_unique"
   ]
  },
  {
   "cell_type": "markdown",
   "id": "entertaining-petite",
   "metadata": {
    "lines_to_next_cell": 2
   },
   "source": [
    "# Trait associations"
   ]
  },
  {
   "cell_type": "markdown",
   "id": "communist-protein",
   "metadata": {},
   "source": [
    "## PhenomeXcan"
   ]
  },
  {
   "cell_type": "code",
   "execution_count": 25,
   "id": "august-bidder",
   "metadata": {},
   "outputs": [],
   "source": [
    "from traits import SHORT_TRAIT_NAMES"
   ]
  },
  {
   "cell_type": "code",
   "execution_count": 26,
   "id": "useful-polls",
   "metadata": {
    "lines_to_next_cell": 1
   },
   "outputs": [],
   "source": [
    "result_set = \"phenomexcan\""
   ]
  },
  {
   "cell_type": "code",
   "execution_count": 27,
   "id": "unsigned-support",
   "metadata": {},
   "outputs": [],
   "source": [
    "def get_trait_objs(phenotype_full_code):\n",
    "    if Trait.is_efo_label(phenotype_full_code):\n",
    "        traits = Trait.get_traits_from_efo(phenotype_full_code)\n",
    "    else:\n",
    "        traits = [Trait.get_trait(code=phenotype_full_code)]\n",
    "\n",
    "    # sort by sample size\n",
    "    return sorted(traits, key=lambda x: x.n_cases / x.n, reverse=True)\n",
    "\n",
    "\n",
    "def get_trait_description(phenotype_full_code):\n",
    "    traits = get_trait_objs(phenotype_full_code)\n",
    "\n",
    "    desc = traits[0].description\n",
    "    if desc in SHORT_TRAIT_NAMES:\n",
    "        return SHORT_TRAIT_NAMES[desc]\n",
    "\n",
    "    return desc\n",
    "\n",
    "\n",
    "def get_trait_n(phenotype_full_code):\n",
    "    traits = get_trait_objs(phenotype_full_code)\n",
    "\n",
    "    return traits[0].n\n",
    "\n",
    "\n",
    "def get_trait_n_cases(phenotype_full_code):\n",
    "    traits = get_trait_objs(phenotype_full_code)\n",
    "\n",
    "    return traits[0].n_cases\n",
    "\n",
    "\n",
    "def num_to_int_str(num):\n",
    "    if pd.isnull(num):\n",
    "        return \"\"\n",
    "\n",
    "    return f\"{num:,.0f}\"\n",
    "\n",
    "\n",
    "def get_part_clust(row):\n",
    "    return f\"{row.part_k} / {row.cluster_id}\""
   ]
  },
  {
   "cell_type": "code",
   "execution_count": 28,
   "id": "biological-break",
   "metadata": {},
   "outputs": [],
   "source": [
    "lv_assocs = phenomexcan_lv_trait_assocs[\n",
    "    (phenomexcan_lv_trait_assocs[\"lv\"] == LV_NAME)\n",
    "    & (phenomexcan_lv_trait_assocs[\"fdr\"] < 0.05)\n",
    "].sort_values(\"fdr\")"
   ]
  },
  {
   "cell_type": "code",
   "execution_count": 29,
   "id": "useful-casino",
   "metadata": {},
   "outputs": [
    {
     "data": {
      "text/html": [
       "<div>\n",
       "<style scoped>\n",
       "    .dataframe tbody tr th:only-of-type {\n",
       "        vertical-align: middle;\n",
       "    }\n",
       "\n",
       "    .dataframe tbody tr th {\n",
       "        vertical-align: top;\n",
       "    }\n",
       "\n",
       "    .dataframe thead th {\n",
       "        text-align: right;\n",
       "    }\n",
       "</style>\n",
       "<table border=\"1\" class=\"dataframe\">\n",
       "  <thead>\n",
       "    <tr style=\"text-align: right;\">\n",
       "      <th></th>\n",
       "      <th>phenotype</th>\n",
       "      <th>phenotype_desc</th>\n",
       "      <th>lv</th>\n",
       "      <th>pvalue</th>\n",
       "      <th>fdr</th>\n",
       "    </tr>\n",
       "  </thead>\n",
       "  <tbody>\n",
       "    <tr>\n",
       "      <th>2866248</th>\n",
       "      <td>I9_CORATHER</td>\n",
       "      <td>Coronary atherosclerosis</td>\n",
       "      <td>LV136</td>\n",
       "      <td>1.088611e-13</td>\n",
       "      <td>1.839168e-09</td>\n",
       "    </tr>\n",
       "    <tr>\n",
       "      <th>1716393</th>\n",
       "      <td>I25</td>\n",
       "      <td>Diagnoses - main ICD10: I25 Chronic ischaemic heart disease</td>\n",
       "      <td>LV136</td>\n",
       "      <td>2.294066e-13</td>\n",
       "      <td>3.522061e-09</td>\n",
       "    </tr>\n",
       "    <tr>\n",
       "      <th>2303659</th>\n",
       "      <td>I9_IHD</td>\n",
       "      <td>Ischaemic heart disease, wide definition</td>\n",
       "      <td>LV136</td>\n",
       "      <td>3.610922e-12</td>\n",
       "      <td>3.951285e-08</td>\n",
       "    </tr>\n",
       "    <tr>\n",
       "      <th>4023013</th>\n",
       "      <td>CARDIoGRAM_C4D_CAD_ADDITIVE</td>\n",
       "      <td>Coronary Artery Disease</td>\n",
       "      <td>LV136</td>\n",
       "      <td>3.837747e-12</td>\n",
       "      <td>4.176852e-08</td>\n",
       "    </tr>\n",
       "    <tr>\n",
       "      <th>24677</th>\n",
       "      <td>5132_raw</td>\n",
       "      <td>3mm strong meridian (right)</td>\n",
       "      <td>LV136</td>\n",
       "      <td>1.117083e-08</td>\n",
       "      <td>5.541251e-05</td>\n",
       "    </tr>\n",
       "    <tr>\n",
       "      <th>1129131</th>\n",
       "      <td>5134_raw</td>\n",
       "      <td>6mm strong meridian (left)</td>\n",
       "      <td>LV136</td>\n",
       "      <td>3.046658e-08</td>\n",
       "      <td>1.348887e-04</td>\n",
       "    </tr>\n",
       "    <tr>\n",
       "      <th>2062833</th>\n",
       "      <td>5257_raw</td>\n",
       "      <td>Corneal resistance factor (right)</td>\n",
       "      <td>LV136</td>\n",
       "      <td>4.800185e-08</td>\n",
       "      <td>2.018986e-04</td>\n",
       "    </tr>\n",
       "    <tr>\n",
       "      <th>3757511</th>\n",
       "      <td>5133_raw</td>\n",
       "      <td>6mm strong meridian (right)</td>\n",
       "      <td>LV136</td>\n",
       "      <td>6.403355e-08</td>\n",
       "      <td>2.575257e-04</td>\n",
       "    </tr>\n",
       "    <tr>\n",
       "      <th>788614</th>\n",
       "      <td>6150_1</td>\n",
       "      <td>Vascular/heart problems diagnosed by doctor: Heart attack</td>\n",
       "      <td>LV136</td>\n",
       "      <td>9.804334e-08</td>\n",
       "      <td>3.748874e-04</td>\n",
       "    </tr>\n",
       "    <tr>\n",
       "      <th>131271</th>\n",
       "      <td>I9_MI</td>\n",
       "      <td>Myocardial infarction</td>\n",
       "      <td>LV136</td>\n",
       "      <td>1.329681e-07</td>\n",
       "      <td>4.845677e-04</td>\n",
       "    </tr>\n",
       "    <tr>\n",
       "      <th>2575083</th>\n",
       "      <td>I9_MI_STRICT</td>\n",
       "      <td>Myocardial infarction, strict</td>\n",
       "      <td>LV136</td>\n",
       "      <td>1.329681e-07</td>\n",
       "      <td>4.845677e-04</td>\n",
       "    </tr>\n",
       "    <tr>\n",
       "      <th>3773305</th>\n",
       "      <td>5135_raw</td>\n",
       "      <td>3mm strong meridian (left)</td>\n",
       "      <td>LV136</td>\n",
       "      <td>1.950710e-07</td>\n",
       "      <td>6.652541e-04</td>\n",
       "    </tr>\n",
       "    <tr>\n",
       "      <th>1442008</th>\n",
       "      <td>20002_1075</td>\n",
       "      <td>Non-cancer illness code, self-reported: heart attack/myocardial infarction</td>\n",
       "      <td>LV136</td>\n",
       "      <td>3.496942e-07</td>\n",
       "      <td>1.068478e-03</td>\n",
       "    </tr>\n",
       "    <tr>\n",
       "      <th>2582982</th>\n",
       "      <td>5097_raw</td>\n",
       "      <td>6mm weak meridian (left)</td>\n",
       "      <td>LV136</td>\n",
       "      <td>3.605435e-07</td>\n",
       "      <td>1.095417e-03</td>\n",
       "    </tr>\n",
       "    <tr>\n",
       "      <th>172728</th>\n",
       "      <td>5098_raw</td>\n",
       "      <td>6mm weak meridian (right)</td>\n",
       "      <td>LV136</td>\n",
       "      <td>5.629720e-07</td>\n",
       "      <td>1.612183e-03</td>\n",
       "    </tr>\n",
       "    <tr>\n",
       "      <th>1714419</th>\n",
       "      <td>I21</td>\n",
       "      <td>Diagnoses - main ICD10: I21 Acute myocardial infarction</td>\n",
       "      <td>LV136</td>\n",
       "      <td>8.467174e-07</td>\n",
       "      <td>2.240426e-03</td>\n",
       "    </tr>\n",
       "    <tr>\n",
       "      <th>3787122</th>\n",
       "      <td>5099_raw</td>\n",
       "      <td>3mm weak meridian (right)</td>\n",
       "      <td>LV136</td>\n",
       "      <td>1.551651e-06</td>\n",
       "      <td>3.687629e-03</td>\n",
       "    </tr>\n",
       "    <tr>\n",
       "      <th>1881224</th>\n",
       "      <td>5096_raw</td>\n",
       "      <td>3mm weak meridian (left)</td>\n",
       "      <td>LV136</td>\n",
       "      <td>1.702318e-06</td>\n",
       "      <td>3.964041e-03</td>\n",
       "    </tr>\n",
       "    <tr>\n",
       "      <th>587268</th>\n",
       "      <td>5255_raw</td>\n",
       "      <td>Intra-ocular pressure, Goldmann-correlated (right)</td>\n",
       "      <td>LV136</td>\n",
       "      <td>4.566805e-06</td>\n",
       "      <td>8.636966e-03</td>\n",
       "    </tr>\n",
       "    <tr>\n",
       "      <th>3649926</th>\n",
       "      <td>5109_raw</td>\n",
       "      <td>6mm asymmetry angle (right)</td>\n",
       "      <td>LV136</td>\n",
       "      <td>5.686500e-06</td>\n",
       "      <td>1.025505e-02</td>\n",
       "    </tr>\n",
       "    <tr>\n",
       "      <th>2856383</th>\n",
       "      <td>5265_raw</td>\n",
       "      <td>Corneal resistance factor (left)</td>\n",
       "      <td>LV136</td>\n",
       "      <td>5.719265e-06</td>\n",
       "      <td>1.030033e-02</td>\n",
       "    </tr>\n",
       "    <tr>\n",
       "      <th>585291</th>\n",
       "      <td>M13_MUSCLEDISNAS</td>\n",
       "      <td>Other specified disorders of muscle</td>\n",
       "      <td>LV136</td>\n",
       "      <td>6.141261e-06</td>\n",
       "      <td>1.091430e-02</td>\n",
       "    </tr>\n",
       "    <tr>\n",
       "      <th>2908695</th>\n",
       "      <td>I9_CHD_NOREV</td>\n",
       "      <td>Major coronary heart disease event excluding revascularizations</td>\n",
       "      <td>LV136</td>\n",
       "      <td>1.804306e-05</td>\n",
       "      <td>2.443964e-02</td>\n",
       "    </tr>\n",
       "    <tr>\n",
       "      <th>3153471</th>\n",
       "      <td>I9_CHD</td>\n",
       "      <td>Major coronary heart disease event</td>\n",
       "      <td>LV136</td>\n",
       "      <td>1.804306e-05</td>\n",
       "      <td>2.443964e-02</td>\n",
       "    </tr>\n",
       "    <tr>\n",
       "      <th>1765752</th>\n",
       "      <td>20002_1074</td>\n",
       "      <td>Non-cancer illness code, self-reported: angina</td>\n",
       "      <td>LV136</td>\n",
       "      <td>4.289205e-05</td>\n",
       "      <td>4.530750e-02</td>\n",
       "    </tr>\n",
       "    <tr>\n",
       "      <th>1432141</th>\n",
       "      <td>6148_2</td>\n",
       "      <td>Eye problems/disorders: Glaucoma</td>\n",
       "      <td>LV136</td>\n",
       "      <td>4.832672e-05</td>\n",
       "      <td>4.935115e-02</td>\n",
       "    </tr>\n",
       "  </tbody>\n",
       "</table>\n",
       "</div>"
      ],
      "text/plain": [
       "                           phenotype  \\\n",
       "2866248                  I9_CORATHER   \n",
       "1716393                          I25   \n",
       "2303659                       I9_IHD   \n",
       "4023013  CARDIoGRAM_C4D_CAD_ADDITIVE   \n",
       "24677                       5132_raw   \n",
       "1129131                     5134_raw   \n",
       "2062833                     5257_raw   \n",
       "3757511                     5133_raw   \n",
       "788614                        6150_1   \n",
       "131271                         I9_MI   \n",
       "2575083                 I9_MI_STRICT   \n",
       "3773305                     5135_raw   \n",
       "1442008                   20002_1075   \n",
       "2582982                     5097_raw   \n",
       "172728                      5098_raw   \n",
       "1714419                          I21   \n",
       "3787122                     5099_raw   \n",
       "1881224                     5096_raw   \n",
       "587268                      5255_raw   \n",
       "3649926                     5109_raw   \n",
       "2856383                     5265_raw   \n",
       "585291              M13_MUSCLEDISNAS   \n",
       "2908695                 I9_CHD_NOREV   \n",
       "3153471                       I9_CHD   \n",
       "1765752                   20002_1074   \n",
       "1432141                       6148_2   \n",
       "\n",
       "                                                                     phenotype_desc  \\\n",
       "2866248                                                    Coronary atherosclerosis   \n",
       "1716393                 Diagnoses - main ICD10: I25 Chronic ischaemic heart disease   \n",
       "2303659                                    Ischaemic heart disease, wide definition   \n",
       "4023013                                                     Coronary Artery Disease   \n",
       "24677                                                   3mm strong meridian (right)   \n",
       "1129131                                                  6mm strong meridian (left)   \n",
       "2062833                                           Corneal resistance factor (right)   \n",
       "3757511                                                 6mm strong meridian (right)   \n",
       "788614                    Vascular/heart problems diagnosed by doctor: Heart attack   \n",
       "131271                                                        Myocardial infarction   \n",
       "2575083                                               Myocardial infarction, strict   \n",
       "3773305                                                  3mm strong meridian (left)   \n",
       "1442008  Non-cancer illness code, self-reported: heart attack/myocardial infarction   \n",
       "2582982                                                    6mm weak meridian (left)   \n",
       "172728                                                    6mm weak meridian (right)   \n",
       "1714419                     Diagnoses - main ICD10: I21 Acute myocardial infarction   \n",
       "3787122                                                   3mm weak meridian (right)   \n",
       "1881224                                                    3mm weak meridian (left)   \n",
       "587268                           Intra-ocular pressure, Goldmann-correlated (right)   \n",
       "3649926                                                 6mm asymmetry angle (right)   \n",
       "2856383                                            Corneal resistance factor (left)   \n",
       "585291                                          Other specified disorders of muscle   \n",
       "2908695             Major coronary heart disease event excluding revascularizations   \n",
       "3153471                                          Major coronary heart disease event   \n",
       "1765752                              Non-cancer illness code, self-reported: angina   \n",
       "1432141                                            Eye problems/disorders: Glaucoma   \n",
       "\n",
       "            lv        pvalue           fdr  \n",
       "2866248  LV136  1.088611e-13  1.839168e-09  \n",
       "1716393  LV136  2.294066e-13  3.522061e-09  \n",
       "2303659  LV136  3.610922e-12  3.951285e-08  \n",
       "4023013  LV136  3.837747e-12  4.176852e-08  \n",
       "24677    LV136  1.117083e-08  5.541251e-05  \n",
       "1129131  LV136  3.046658e-08  1.348887e-04  \n",
       "2062833  LV136  4.800185e-08  2.018986e-04  \n",
       "3757511  LV136  6.403355e-08  2.575257e-04  \n",
       "788614   LV136  9.804334e-08  3.748874e-04  \n",
       "131271   LV136  1.329681e-07  4.845677e-04  \n",
       "2575083  LV136  1.329681e-07  4.845677e-04  \n",
       "3773305  LV136  1.950710e-07  6.652541e-04  \n",
       "1442008  LV136  3.496942e-07  1.068478e-03  \n",
       "2582982  LV136  3.605435e-07  1.095417e-03  \n",
       "172728   LV136  5.629720e-07  1.612183e-03  \n",
       "1714419  LV136  8.467174e-07  2.240426e-03  \n",
       "3787122  LV136  1.551651e-06  3.687629e-03  \n",
       "1881224  LV136  1.702318e-06  3.964041e-03  \n",
       "587268   LV136  4.566805e-06  8.636966e-03  \n",
       "3649926  LV136  5.686500e-06  1.025505e-02  \n",
       "2856383  LV136  5.719265e-06  1.030033e-02  \n",
       "585291   LV136  6.141261e-06  1.091430e-02  \n",
       "2908695  LV136  1.804306e-05  2.443964e-02  \n",
       "3153471  LV136  1.804306e-05  2.443964e-02  \n",
       "1765752  LV136  4.289205e-05  4.530750e-02  \n",
       "1432141  LV136  4.832672e-05  4.935115e-02  "
      ]
     },
     "metadata": {},
     "output_type": "display_data"
    }
   ],
   "source": [
    "with pd.option_context(\n",
    "    \"display.max_rows\", None, \"display.max_columns\", None, \"display.max_colwidth\", None\n",
    "):\n",
    "    display(lv_assocs)"
   ]
  },
  {
   "cell_type": "code",
   "execution_count": 30,
   "id": "lonely-extreme",
   "metadata": {},
   "outputs": [],
   "source": [
    "# # remove repeated traits\n",
    "# lv_assocs = lv_assocs[\n",
    "#     ~lv_assocs[\"phenotype\"].isin(\n",
    "#         (\n",
    "#             \"I9_MI_STRICT\",\n",
    "#             \"I9_CHD_NOREV\",\n",
    "#         )\n",
    "#     )\n",
    "# ]"
   ]
  },
  {
   "cell_type": "code",
   "execution_count": 31,
   "id": "nominated-symphony",
   "metadata": {},
   "outputs": [],
   "source": [
    "lv_assocs = lv_assocs.assign(\n",
    "    phenotype_desc=lv_assocs[\"phenotype\"].apply(get_trait_description)\n",
    ")"
   ]
  },
  {
   "cell_type": "code",
   "execution_count": 32,
   "id": "prime-princess",
   "metadata": {},
   "outputs": [],
   "source": [
    "lv_assocs = lv_assocs.assign(n=lv_assocs[\"phenotype\"].apply(get_trait_n))"
   ]
  },
  {
   "cell_type": "code",
   "execution_count": 33,
   "id": "thirty-petroleum",
   "metadata": {},
   "outputs": [],
   "source": [
    "lv_assocs = lv_assocs.assign(n_cases=lv_assocs[\"phenotype\"].apply(get_trait_n_cases))"
   ]
  },
  {
   "cell_type": "code",
   "execution_count": 34,
   "id": "arranged-placement",
   "metadata": {},
   "outputs": [],
   "source": [
    "# lv_assocs = lv_assocs.assign(coef=lv_assocs[\"coef\"].apply(lambda x: f\"{x:.3f}\"))"
   ]
  },
  {
   "cell_type": "code",
   "execution_count": 35,
   "id": "pretty-rwanda",
   "metadata": {},
   "outputs": [],
   "source": [
    "lv_assocs = lv_assocs.assign(\n",
    "    fdr=lv_assocs[\"fdr\"].apply(lambda x: f\"{x:.2e}\".replace(\"-\", \"&#8209;\"))\n",
    ")"
   ]
  },
  {
   "cell_type": "code",
   "execution_count": 36,
   "id": "affected-verse",
   "metadata": {},
   "outputs": [],
   "source": [
    "lv_assocs = lv_assocs.assign(n=lv_assocs[\"n\"].apply(num_to_int_str))"
   ]
  },
  {
   "cell_type": "code",
   "execution_count": 37,
   "id": "settled-kruger",
   "metadata": {},
   "outputs": [],
   "source": [
    "lv_assocs = lv_assocs.assign(n_cases=lv_assocs[\"n_cases\"].apply(num_to_int_str))"
   ]
  },
  {
   "cell_type": "code",
   "execution_count": 38,
   "id": "extended-worthy",
   "metadata": {},
   "outputs": [],
   "source": [
    "# lv_assocs = lv_assocs.assign(part_clust=\"\")  # lv_assocs.apply(get_part_clust, axis=1))"
   ]
  },
  {
   "cell_type": "code",
   "execution_count": 39,
   "id": "atlantic-spouse",
   "metadata": {},
   "outputs": [],
   "source": [
    "lv_assocs = lv_assocs.drop(columns=[\"phenotype\"])"
   ]
  },
  {
   "cell_type": "code",
   "execution_count": 40,
   "id": "awful-touch",
   "metadata": {},
   "outputs": [
    {
     "data": {
      "text/plain": [
       "(26, 6)"
      ]
     },
     "execution_count": 40,
     "metadata": {},
     "output_type": "execute_result"
    }
   ],
   "source": [
    "lv_assocs.shape"
   ]
  },
  {
   "cell_type": "code",
   "execution_count": 41,
   "id": "unnecessary-israeli",
   "metadata": {},
   "outputs": [],
   "source": [
    "lv_assocs = lv_assocs[[\"phenotype_desc\", \"n\", \"n_cases\", \"fdr\"]]"
   ]
  },
  {
   "cell_type": "code",
   "execution_count": 42,
   "id": "presidential-alcohol",
   "metadata": {},
   "outputs": [],
   "source": [
    "lv_assocs = lv_assocs.rename(\n",
    "    columns={\n",
    "        \"part_clust\": \"Partition / cluster\",\n",
    "        \"lv\": \"Latent variable (LV)\",\n",
    "        #         \"coef\": r\"$\\beta$\",\n",
    "        \"fdr\": \"FDR\",\n",
    "        \"phenotype_desc\": \"Trait description\",\n",
    "        \"n\": \"Sample size\",\n",
    "        \"n_cases\": \"Cases\",\n",
    "    }\n",
    ")"
   ]
  },
  {
   "cell_type": "code",
   "execution_count": 43,
   "id": "accurate-toilet",
   "metadata": {},
   "outputs": [
    {
     "data": {
      "text/html": [
       "<div>\n",
       "<style scoped>\n",
       "    .dataframe tbody tr th:only-of-type {\n",
       "        vertical-align: middle;\n",
       "    }\n",
       "\n",
       "    .dataframe tbody tr th {\n",
       "        vertical-align: top;\n",
       "    }\n",
       "\n",
       "    .dataframe thead th {\n",
       "        text-align: right;\n",
       "    }\n",
       "</style>\n",
       "<table border=\"1\" class=\"dataframe\">\n",
       "  <thead>\n",
       "    <tr style=\"text-align: right;\">\n",
       "      <th></th>\n",
       "      <th>Trait description</th>\n",
       "      <th>Sample size</th>\n",
       "      <th>Cases</th>\n",
       "      <th>FDR</th>\n",
       "    </tr>\n",
       "  </thead>\n",
       "  <tbody>\n",
       "    <tr>\n",
       "      <th>2866248</th>\n",
       "      <td>Coronary atherosclerosis</td>\n",
       "      <td>361,194</td>\n",
       "      <td>14,334</td>\n",
       "      <td>1.84e&amp;#8209;09</td>\n",
       "    </tr>\n",
       "    <tr>\n",
       "      <th>1716393</th>\n",
       "      <td>Chronic ischaemic heart disease (ICD10 I25)</td>\n",
       "      <td>361,194</td>\n",
       "      <td>12,769</td>\n",
       "      <td>3.52e&amp;#8209;09</td>\n",
       "    </tr>\n",
       "    <tr>\n",
       "      <th>2303659</th>\n",
       "      <td>Ischaemic heart disease (wide definition)</td>\n",
       "      <td>361,194</td>\n",
       "      <td>20,857</td>\n",
       "      <td>3.95e&amp;#8209;08</td>\n",
       "    </tr>\n",
       "    <tr>\n",
       "      <th>4023013</th>\n",
       "      <td>Coronary Artery Disease</td>\n",
       "      <td>184,305</td>\n",
       "      <td>60,801</td>\n",
       "      <td>4.18e&amp;#8209;08</td>\n",
       "    </tr>\n",
       "    <tr>\n",
       "      <th>24677</th>\n",
       "      <td>3mm strong meridian (right)</td>\n",
       "      <td>75,410</td>\n",
       "      <td></td>\n",
       "      <td>5.54e&amp;#8209;05</td>\n",
       "    </tr>\n",
       "    <tr>\n",
       "      <th>1129131</th>\n",
       "      <td>6mm strong meridian (left)</td>\n",
       "      <td>65,551</td>\n",
       "      <td></td>\n",
       "      <td>1.35e&amp;#8209;04</td>\n",
       "    </tr>\n",
       "    <tr>\n",
       "      <th>2062833</th>\n",
       "      <td>Corneal resistance factor (right)</td>\n",
       "      <td>76,630</td>\n",
       "      <td></td>\n",
       "      <td>2.02e&amp;#8209;04</td>\n",
       "    </tr>\n",
       "    <tr>\n",
       "      <th>3757511</th>\n",
       "      <td>6mm strong meridian (right)</td>\n",
       "      <td>66,256</td>\n",
       "      <td></td>\n",
       "      <td>2.58e&amp;#8209;04</td>\n",
       "    </tr>\n",
       "    <tr>\n",
       "      <th>788614</th>\n",
       "      <td>Heart attack</td>\n",
       "      <td>360,420</td>\n",
       "      <td>8,288</td>\n",
       "      <td>3.75e&amp;#8209;04</td>\n",
       "    </tr>\n",
       "    <tr>\n",
       "      <th>131271</th>\n",
       "      <td>Myocardial infarction</td>\n",
       "      <td>361,194</td>\n",
       "      <td>7,018</td>\n",
       "      <td>4.85e&amp;#8209;04</td>\n",
       "    </tr>\n",
       "    <tr>\n",
       "      <th>2575083</th>\n",
       "      <td>Myocardial infarction, strict</td>\n",
       "      <td>361,194</td>\n",
       "      <td>7,018</td>\n",
       "      <td>4.85e&amp;#8209;04</td>\n",
       "    </tr>\n",
       "    <tr>\n",
       "      <th>3773305</th>\n",
       "      <td>3mm strong meridian (left)</td>\n",
       "      <td>75,398</td>\n",
       "      <td></td>\n",
       "      <td>6.65e&amp;#8209;04</td>\n",
       "    </tr>\n",
       "    <tr>\n",
       "      <th>1442008</th>\n",
       "      <td>heart attack/myocardial infarction (self-reported)</td>\n",
       "      <td>361,141</td>\n",
       "      <td>8,239</td>\n",
       "      <td>1.07e&amp;#8209;03</td>\n",
       "    </tr>\n",
       "    <tr>\n",
       "      <th>2582982</th>\n",
       "      <td>6mm weak meridian (left)</td>\n",
       "      <td>65,551</td>\n",
       "      <td></td>\n",
       "      <td>1.10e&amp;#8209;03</td>\n",
       "    </tr>\n",
       "    <tr>\n",
       "      <th>172728</th>\n",
       "      <td>6mm weak meridian (right)</td>\n",
       "      <td>66,256</td>\n",
       "      <td></td>\n",
       "      <td>1.61e&amp;#8209;03</td>\n",
       "    </tr>\n",
       "    <tr>\n",
       "      <th>1714419</th>\n",
       "      <td>Acute myocardial infarction (ICD10 I21)</td>\n",
       "      <td>361,194</td>\n",
       "      <td>5,948</td>\n",
       "      <td>2.24e&amp;#8209;03</td>\n",
       "    </tr>\n",
       "    <tr>\n",
       "      <th>3787122</th>\n",
       "      <td>3mm weak meridian (right)</td>\n",
       "      <td>75,410</td>\n",
       "      <td></td>\n",
       "      <td>3.69e&amp;#8209;03</td>\n",
       "    </tr>\n",
       "    <tr>\n",
       "      <th>1881224</th>\n",
       "      <td>3mm weak meridian (left)</td>\n",
       "      <td>75,398</td>\n",
       "      <td></td>\n",
       "      <td>3.96e&amp;#8209;03</td>\n",
       "    </tr>\n",
       "    <tr>\n",
       "      <th>587268</th>\n",
       "      <td>Intra-ocular pressure, Goldmann-correlated (right)</td>\n",
       "      <td>76,630</td>\n",
       "      <td></td>\n",
       "      <td>8.64e&amp;#8209;03</td>\n",
       "    </tr>\n",
       "    <tr>\n",
       "      <th>3649926</th>\n",
       "      <td>6mm asymmetry angle (right)</td>\n",
       "      <td>41,390</td>\n",
       "      <td></td>\n",
       "      <td>1.03e&amp;#8209;02</td>\n",
       "    </tr>\n",
       "    <tr>\n",
       "      <th>2856383</th>\n",
       "      <td>Corneal resistance factor (left)</td>\n",
       "      <td>76,510</td>\n",
       "      <td></td>\n",
       "      <td>1.03e&amp;#8209;02</td>\n",
       "    </tr>\n",
       "    <tr>\n",
       "      <th>585291</th>\n",
       "      <td>Other specified disorders of muscle</td>\n",
       "      <td>361,194</td>\n",
       "      <td>257</td>\n",
       "      <td>1.09e&amp;#8209;02</td>\n",
       "    </tr>\n",
       "    <tr>\n",
       "      <th>2908695</th>\n",
       "      <td>Major coronary heart disease event excluding revascularizations</td>\n",
       "      <td>361,194</td>\n",
       "      <td>10,157</td>\n",
       "      <td>2.44e&amp;#8209;02</td>\n",
       "    </tr>\n",
       "    <tr>\n",
       "      <th>3153471</th>\n",
       "      <td>Major coronary heart disease event</td>\n",
       "      <td>361,194</td>\n",
       "      <td>10,157</td>\n",
       "      <td>2.44e&amp;#8209;02</td>\n",
       "    </tr>\n",
       "    <tr>\n",
       "      <th>1765752</th>\n",
       "      <td>Non-cancer illness code, self-reported: angina</td>\n",
       "      <td>361,141</td>\n",
       "      <td>11,370</td>\n",
       "      <td>4.53e&amp;#8209;02</td>\n",
       "    </tr>\n",
       "    <tr>\n",
       "      <th>1432141</th>\n",
       "      <td>Eye problems/disorders: Glaucoma</td>\n",
       "      <td>117,890</td>\n",
       "      <td>5,092</td>\n",
       "      <td>4.94e&amp;#8209;02</td>\n",
       "    </tr>\n",
       "  </tbody>\n",
       "</table>\n",
       "</div>"
      ],
      "text/plain": [
       "                                                       Trait description  \\\n",
       "2866248                                         Coronary atherosclerosis   \n",
       "1716393                      Chronic ischaemic heart disease (ICD10 I25)   \n",
       "2303659                        Ischaemic heart disease (wide definition)   \n",
       "4023013                                          Coronary Artery Disease   \n",
       "24677                                        3mm strong meridian (right)   \n",
       "1129131                                       6mm strong meridian (left)   \n",
       "2062833                                Corneal resistance factor (right)   \n",
       "3757511                                      6mm strong meridian (right)   \n",
       "788614                                                      Heart attack   \n",
       "131271                                             Myocardial infarction   \n",
       "2575083                                    Myocardial infarction, strict   \n",
       "3773305                                       3mm strong meridian (left)   \n",
       "1442008               heart attack/myocardial infarction (self-reported)   \n",
       "2582982                                         6mm weak meridian (left)   \n",
       "172728                                         6mm weak meridian (right)   \n",
       "1714419                          Acute myocardial infarction (ICD10 I21)   \n",
       "3787122                                        3mm weak meridian (right)   \n",
       "1881224                                         3mm weak meridian (left)   \n",
       "587268                Intra-ocular pressure, Goldmann-correlated (right)   \n",
       "3649926                                      6mm asymmetry angle (right)   \n",
       "2856383                                 Corneal resistance factor (left)   \n",
       "585291                               Other specified disorders of muscle   \n",
       "2908695  Major coronary heart disease event excluding revascularizations   \n",
       "3153471                               Major coronary heart disease event   \n",
       "1765752                   Non-cancer illness code, self-reported: angina   \n",
       "1432141                                 Eye problems/disorders: Glaucoma   \n",
       "\n",
       "        Sample size   Cases             FDR  \n",
       "2866248     361,194  14,334  1.84e&#8209;09  \n",
       "1716393     361,194  12,769  3.52e&#8209;09  \n",
       "2303659     361,194  20,857  3.95e&#8209;08  \n",
       "4023013     184,305  60,801  4.18e&#8209;08  \n",
       "24677        75,410          5.54e&#8209;05  \n",
       "1129131      65,551          1.35e&#8209;04  \n",
       "2062833      76,630          2.02e&#8209;04  \n",
       "3757511      66,256          2.58e&#8209;04  \n",
       "788614      360,420   8,288  3.75e&#8209;04  \n",
       "131271      361,194   7,018  4.85e&#8209;04  \n",
       "2575083     361,194   7,018  4.85e&#8209;04  \n",
       "3773305      75,398          6.65e&#8209;04  \n",
       "1442008     361,141   8,239  1.07e&#8209;03  \n",
       "2582982      65,551          1.10e&#8209;03  \n",
       "172728       66,256          1.61e&#8209;03  \n",
       "1714419     361,194   5,948  2.24e&#8209;03  \n",
       "3787122      75,410          3.69e&#8209;03  \n",
       "1881224      75,398          3.96e&#8209;03  \n",
       "587268       76,630          8.64e&#8209;03  \n",
       "3649926      41,390          1.03e&#8209;02  \n",
       "2856383      76,510          1.03e&#8209;02  \n",
       "585291      361,194     257  1.09e&#8209;02  \n",
       "2908695     361,194  10,157  2.44e&#8209;02  \n",
       "3153471     361,194  10,157  2.44e&#8209;02  \n",
       "1765752     361,141  11,370  4.53e&#8209;02  \n",
       "1432141     117,890   5,092  4.94e&#8209;02  "
      ]
     },
     "metadata": {},
     "output_type": "display_data"
    }
   ],
   "source": [
    "with pd.option_context(\n",
    "    \"display.max_rows\", None, \"display.max_columns\", None, \"display.max_colwidth\", None\n",
    "):\n",
    "    display(lv_assocs)"
   ]
  },
  {
   "cell_type": "markdown",
   "id": "intense-choice",
   "metadata": {},
   "source": [
    "### Fill empty"
   ]
  },
  {
   "cell_type": "code",
   "execution_count": 44,
   "id": "chemical-isolation",
   "metadata": {},
   "outputs": [],
   "source": [
    "if lv_assocs.shape[0] == 0:\n",
    "    lv_assocs.loc[0, \"Trait description\"] = \"No significant associations\"\n",
    "    lv_assocs = lv_assocs.fillna(\"\")"
   ]
  },
  {
   "cell_type": "markdown",
   "id": "about-rouge",
   "metadata": {},
   "source": [
    "### Save"
   ]
  },
  {
   "cell_type": "code",
   "execution_count": 45,
   "id": "shaped-metallic",
   "metadata": {},
   "outputs": [
    {
     "data": {
      "text/plain": [
       "'<!-- LV136:phenomexcan_traits_assocs:start -->'"
      ]
     },
     "metadata": {},
     "output_type": "display_data"
    },
    {
     "data": {
      "text/plain": [
       "'<!-- LV136:phenomexcan_traits_assocs:end -->'"
      ]
     },
     "metadata": {},
     "output_type": "display_data"
    }
   ],
   "source": [
    "# start\n",
    "lv_file_mark_start = LV_FILE_MARK_TEMPLATE.format(\n",
    "    result_set=result_set, lv=LV_NAME, position=\"start\"\n",
    ")\n",
    "display(lv_file_mark_start)\n",
    "\n",
    "# end\n",
    "lv_file_mark_end = LV_FILE_MARK_TEMPLATE.format(\n",
    "    result_set=result_set, lv=LV_NAME, position=\"end\"\n",
    ")\n",
    "display(lv_file_mark_end)"
   ]
  },
  {
   "cell_type": "code",
   "execution_count": 46,
   "id": "interim-gates",
   "metadata": {},
   "outputs": [],
   "source": [
    "new_content = lv_assocs.to_markdown(index=False, disable_numparse=True)"
   ]
  },
  {
   "cell_type": "code",
   "execution_count": 47,
   "id": "irish-flower",
   "metadata": {},
   "outputs": [
    {
     "data": {
      "text/plain": [
       "'Table: Significant trait associations of LV136 in PhenomeXcan. {#tbl:sup:phenomexcan_assocs:lv136}'"
      ]
     },
     "metadata": {},
     "output_type": "display_data"
    }
   ],
   "source": [
    "# add table caption\n",
    "table_caption = TABLE_CAPTION.format(\n",
    "    lv_name=LV_NAME,\n",
    "    result_set_name=RESULT_SET_NAMES[result_set],\n",
    "    table_id=\"{\"\n",
    "    + TABLE_CAPTION_ID.format(result_set=result_set, lv_name_lower_case=LV_NAME.lower())\n",
    "    + \"}\",\n",
    ")\n",
    "display(table_caption)"
   ]
  },
  {
   "cell_type": "code",
   "execution_count": 48,
   "id": "polar-methodology",
   "metadata": {},
   "outputs": [],
   "source": [
    "new_content += \"\\n\\n\" + table_caption"
   ]
  },
  {
   "cell_type": "code",
   "execution_count": 49,
   "id": "reduced-identification",
   "metadata": {},
   "outputs": [],
   "source": [
    "full_new_content = (\n",
    "    lv_file_mark_start + \"\\n\" + new_content.strip() + \"\\n\" + lv_file_mark_end\n",
    ")"
   ]
  },
  {
   "cell_type": "code",
   "execution_count": 50,
   "id": "impressed-milwaukee",
   "metadata": {},
   "outputs": [],
   "source": [
    "with open(OUTPUT_FILE_PATH, \"r\", encoding=\"utf8\") as f:\n",
    "    file_content = f.read()"
   ]
  },
  {
   "cell_type": "code",
   "execution_count": 51,
   "id": "therapeutic-diana",
   "metadata": {},
   "outputs": [],
   "source": [
    "new_file_content = re.sub(\n",
    "    lv_file_mark_start + \".*?\" + lv_file_mark_end,\n",
    "    full_new_content,\n",
    "    file_content,\n",
    "    flags=re.DOTALL,\n",
    ")"
   ]
  },
  {
   "cell_type": "code",
   "execution_count": 52,
   "id": "discrete-archive",
   "metadata": {},
   "outputs": [],
   "source": [
    "with open(OUTPUT_FILE_PATH, \"w\", encoding=\"utf8\") as f:\n",
    "    f.write(new_file_content)  # .replace(\"\\beta\", r\"\\beta\"))"
   ]
  },
  {
   "cell_type": "markdown",
   "id": "standard-robertson",
   "metadata": {},
   "source": [
    "## eMERGE"
   ]
  },
  {
   "cell_type": "code",
   "execution_count": 53,
   "id": "increased-meeting",
   "metadata": {},
   "outputs": [],
   "source": [
    "result_set = \"emerge\""
   ]
  },
  {
   "cell_type": "code",
   "execution_count": 54,
   "id": "built-panic",
   "metadata": {},
   "outputs": [],
   "source": [
    "lv_assocs = emerge_lv_trait_assocs[\n",
    "    (emerge_lv_trait_assocs[\"lv\"] == LV_NAME) & (emerge_lv_trait_assocs[\"fdr\"] < 0.05)\n",
    "].sort_values(\"fdr\")"
   ]
  },
  {
   "cell_type": "code",
   "execution_count": 55,
   "id": "enclosed-custom",
   "metadata": {},
   "outputs": [
    {
     "data": {
      "text/html": [
       "<div>\n",
       "<style scoped>\n",
       "    .dataframe tbody tr th:only-of-type {\n",
       "        vertical-align: middle;\n",
       "    }\n",
       "\n",
       "    .dataframe tbody tr th {\n",
       "        vertical-align: top;\n",
       "    }\n",
       "\n",
       "    .dataframe thead th {\n",
       "        text-align: right;\n",
       "    }\n",
       "</style>\n",
       "<table border=\"1\" class=\"dataframe\">\n",
       "  <thead>\n",
       "    <tr style=\"text-align: right;\">\n",
       "      <th></th>\n",
       "      <th>phenotype</th>\n",
       "      <th>phenotype_desc</th>\n",
       "      <th>lv</th>\n",
       "      <th>pvalue</th>\n",
       "      <th>fdr</th>\n",
       "    </tr>\n",
       "  </thead>\n",
       "  <tbody>\n",
       "    <tr>\n",
       "      <th>220101</th>\n",
       "      <td>EUR_411.4</td>\n",
       "      <td>Coronary atherosclerosis</td>\n",
       "      <td>LV136</td>\n",
       "      <td>3.588278e-07</td>\n",
       "      <td>0.001417</td>\n",
       "    </tr>\n",
       "  </tbody>\n",
       "</table>\n",
       "</div>"
      ],
      "text/plain": [
       "        phenotype            phenotype_desc     lv        pvalue       fdr\n",
       "220101  EUR_411.4  Coronary atherosclerosis  LV136  3.588278e-07  0.001417"
      ]
     },
     "metadata": {},
     "output_type": "display_data"
    }
   ],
   "source": [
    "with pd.option_context(\n",
    "    \"display.max_rows\", None, \"display.max_columns\", None, \"display.max_colwidth\", None\n",
    "):\n",
    "    display(lv_assocs)"
   ]
  },
  {
   "cell_type": "code",
   "execution_count": 56,
   "id": "supreme-discrimination",
   "metadata": {},
   "outputs": [],
   "source": [
    "lv_assocs = lv_assocs.assign(\n",
    "    phenotype_desc=lv_assocs[\"phenotype\"].apply(\n",
    "        lambda x: emerge_traits_info.loc[x, \"phenotype\"]\n",
    "    )\n",
    ")"
   ]
  },
  {
   "cell_type": "code",
   "execution_count": 57,
   "id": "sound-independence",
   "metadata": {},
   "outputs": [],
   "source": [
    "lv_assocs = lv_assocs.assign(\n",
    "    n=lv_assocs[\"phenotype\"].apply(\n",
    "        lambda x: emerge_traits_info.loc[x, [\"eur_n_cases\", \"eur_n_controls\"]].sum()\n",
    "    )\n",
    ")"
   ]
  },
  {
   "cell_type": "code",
   "execution_count": 58,
   "id": "turkish-college",
   "metadata": {},
   "outputs": [],
   "source": [
    "lv_assocs = lv_assocs.assign(\n",
    "    n_cases=lv_assocs[\"phenotype\"].apply(\n",
    "        lambda x: emerge_traits_info.loc[x, \"eur_n_cases\"]\n",
    "    )\n",
    ")"
   ]
  },
  {
   "cell_type": "code",
   "execution_count": 59,
   "id": "forward-sequence",
   "metadata": {},
   "outputs": [],
   "source": [
    "lv_assocs[\"phenotype\"] = lv_assocs[\"phenotype\"].apply(lambda x: x.split(\"EUR_\")[1])"
   ]
  },
  {
   "cell_type": "code",
   "execution_count": 60,
   "id": "6e891a84",
   "metadata": {},
   "outputs": [],
   "source": [
    "# lv_assocs = lv_assocs.assign(coef=lv_assocs[\"coef\"].apply(lambda x: f\"{x:.3f}\"))"
   ]
  },
  {
   "cell_type": "code",
   "execution_count": 61,
   "id": "organized-psychiatry",
   "metadata": {},
   "outputs": [],
   "source": [
    "lv_assocs = lv_assocs.assign(\n",
    "    fdr=lv_assocs[\"fdr\"].apply(lambda x: f\"{x:.2e}\".replace(\"-\", \"&#8209;\"))\n",
    ")"
   ]
  },
  {
   "cell_type": "code",
   "execution_count": 62,
   "id": "enormous-taxation",
   "metadata": {},
   "outputs": [],
   "source": [
    "lv_assocs = lv_assocs.assign(n=lv_assocs[\"n\"].apply(num_to_int_str))"
   ]
  },
  {
   "cell_type": "code",
   "execution_count": 63,
   "id": "durable-climate",
   "metadata": {},
   "outputs": [],
   "source": [
    "lv_assocs = lv_assocs.assign(n_cases=lv_assocs[\"n_cases\"].apply(num_to_int_str))"
   ]
  },
  {
   "cell_type": "code",
   "execution_count": 64,
   "id": "weekly-bahrain",
   "metadata": {},
   "outputs": [],
   "source": [
    "lv_assocs = lv_assocs.rename(columns={\"phenotype\": \"phecode\"})"
   ]
  },
  {
   "cell_type": "code",
   "execution_count": 65,
   "id": "ecological-integration",
   "metadata": {},
   "outputs": [
    {
     "data": {
      "text/plain": [
       "(1, 7)"
      ]
     },
     "execution_count": 65,
     "metadata": {},
     "output_type": "execute_result"
    }
   ],
   "source": [
    "lv_assocs.shape"
   ]
  },
  {
   "cell_type": "code",
   "execution_count": 66,
   "id": "laughing-harvey",
   "metadata": {},
   "outputs": [],
   "source": [
    "lv_assocs = lv_assocs[[\"phecode\", \"phenotype_desc\", \"n\", \"n_cases\", \"fdr\"]]"
   ]
  },
  {
   "cell_type": "code",
   "execution_count": 67,
   "id": "global-spoke",
   "metadata": {},
   "outputs": [],
   "source": [
    "lv_assocs = lv_assocs.rename(\n",
    "    columns={\n",
    "        \"lv\": \"Latent variable (LV)\",\n",
    "        #         \"coef\": r\"$\\beta$\",\n",
    "        \"fdr\": \"FDR\",\n",
    "        \"phecode\": \"Phecode\",\n",
    "        \"phenotype_desc\": \"Trait description\",\n",
    "        \"n\": \"Sample size\",\n",
    "        \"n_cases\": \"Cases\",\n",
    "    }\n",
    ")"
   ]
  },
  {
   "cell_type": "code",
   "execution_count": 68,
   "id": "original-parade",
   "metadata": {},
   "outputs": [
    {
     "data": {
      "text/html": [
       "<div>\n",
       "<style scoped>\n",
       "    .dataframe tbody tr th:only-of-type {\n",
       "        vertical-align: middle;\n",
       "    }\n",
       "\n",
       "    .dataframe tbody tr th {\n",
       "        vertical-align: top;\n",
       "    }\n",
       "\n",
       "    .dataframe thead th {\n",
       "        text-align: right;\n",
       "    }\n",
       "</style>\n",
       "<table border=\"1\" class=\"dataframe\">\n",
       "  <thead>\n",
       "    <tr style=\"text-align: right;\">\n",
       "      <th></th>\n",
       "      <th>Phecode</th>\n",
       "      <th>Trait description</th>\n",
       "      <th>Sample size</th>\n",
       "      <th>Cases</th>\n",
       "      <th>FDR</th>\n",
       "    </tr>\n",
       "  </thead>\n",
       "  <tbody>\n",
       "    <tr>\n",
       "      <th>220101</th>\n",
       "      <td>411.4</td>\n",
       "      <td>Coronary atherosclerosis</td>\n",
       "      <td>52,836</td>\n",
       "      <td>13,715</td>\n",
       "      <td>1.42e&amp;#8209;03</td>\n",
       "    </tr>\n",
       "  </tbody>\n",
       "</table>\n",
       "</div>"
      ],
      "text/plain": [
       "       Phecode         Trait description Sample size   Cases             FDR\n",
       "220101   411.4  Coronary atherosclerosis      52,836  13,715  1.42e&#8209;03"
      ]
     },
     "metadata": {},
     "output_type": "display_data"
    }
   ],
   "source": [
    "with pd.option_context(\n",
    "    \"display.max_rows\", None, \"display.max_columns\", None, \"display.max_colwidth\", None\n",
    "):\n",
    "    display(lv_assocs)"
   ]
  },
  {
   "cell_type": "markdown",
   "id": "empty-medicaid",
   "metadata": {},
   "source": [
    "### Fill empty"
   ]
  },
  {
   "cell_type": "code",
   "execution_count": 69,
   "id": "fleet-japan",
   "metadata": {},
   "outputs": [],
   "source": [
    "if lv_assocs.shape[0] == 0:\n",
    "    lv_assocs = pd.DataFrame(columns=lv_assocs.columns.copy()).astype(str)\n",
    "    lv_assocs.loc[0, \"Phecode\"] = \"No significant associations\"\n",
    "    lv_assocs = lv_assocs.fillna(\"\")\n",
    "\n",
    "    display(lv_assocs)"
   ]
  },
  {
   "cell_type": "markdown",
   "id": "empirical-article",
   "metadata": {},
   "source": [
    "### Save"
   ]
  },
  {
   "cell_type": "code",
   "execution_count": 70,
   "id": "advisory-bhutan",
   "metadata": {},
   "outputs": [
    {
     "data": {
      "text/plain": [
       "'<!-- LV136:emerge_traits_assocs:start -->'"
      ]
     },
     "metadata": {},
     "output_type": "display_data"
    },
    {
     "data": {
      "text/plain": [
       "'<!-- LV136:emerge_traits_assocs:end -->'"
      ]
     },
     "metadata": {},
     "output_type": "display_data"
    }
   ],
   "source": [
    "# start\n",
    "lv_file_mark_start = LV_FILE_MARK_TEMPLATE.format(\n",
    "    result_set=result_set, lv=LV_NAME, position=\"start\"\n",
    ")\n",
    "display(lv_file_mark_start)\n",
    "\n",
    "# end\n",
    "lv_file_mark_end = LV_FILE_MARK_TEMPLATE.format(\n",
    "    result_set=result_set, lv=LV_NAME, position=\"end\"\n",
    ")\n",
    "display(lv_file_mark_end)"
   ]
  },
  {
   "cell_type": "code",
   "execution_count": 71,
   "id": "piano-kingdom",
   "metadata": {},
   "outputs": [],
   "source": [
    "new_content = lv_assocs.to_markdown(index=False, disable_numparse=True)"
   ]
  },
  {
   "cell_type": "code",
   "execution_count": 72,
   "id": "knowing-blair",
   "metadata": {},
   "outputs": [
    {
     "data": {
      "text/plain": [
       "'Table: Significant trait associations of LV136 in eMERGE. {#tbl:sup:emerge_assocs:lv136}'"
      ]
     },
     "metadata": {},
     "output_type": "display_data"
    }
   ],
   "source": [
    "# add table caption\n",
    "table_caption = TABLE_CAPTION.format(\n",
    "    lv_name=LV_NAME,\n",
    "    result_set_name=RESULT_SET_NAMES[result_set],\n",
    "    table_id=\"{\"\n",
    "    + TABLE_CAPTION_ID.format(result_set=result_set, lv_name_lower_case=LV_NAME.lower())\n",
    "    + \"}\",\n",
    ")\n",
    "display(table_caption)"
   ]
  },
  {
   "cell_type": "code",
   "execution_count": 73,
   "id": "latin-colonial",
   "metadata": {},
   "outputs": [],
   "source": [
    "new_content += \"\\n\\n\" + table_caption"
   ]
  },
  {
   "cell_type": "code",
   "execution_count": 74,
   "id": "statistical-health",
   "metadata": {},
   "outputs": [],
   "source": [
    "full_new_content = (\n",
    "    lv_file_mark_start + \"\\n\" + new_content.strip() + \"\\n\" + lv_file_mark_end\n",
    ")"
   ]
  },
  {
   "cell_type": "code",
   "execution_count": 75,
   "id": "modern-junction",
   "metadata": {},
   "outputs": [],
   "source": [
    "with open(OUTPUT_FILE_PATH, \"r\", encoding=\"utf8\") as f:\n",
    "    file_content = f.read()"
   ]
  },
  {
   "cell_type": "code",
   "execution_count": 76,
   "id": "threatened-sample",
   "metadata": {},
   "outputs": [],
   "source": [
    "new_file_content = re.sub(\n",
    "    lv_file_mark_start + \".*?\" + lv_file_mark_end,\n",
    "    full_new_content,\n",
    "    file_content,\n",
    "    flags=re.DOTALL,\n",
    ")"
   ]
  },
  {
   "cell_type": "code",
   "execution_count": 77,
   "id": "fresh-navigator",
   "metadata": {},
   "outputs": [],
   "source": [
    "with open(OUTPUT_FILE_PATH, \"w\", encoding=\"utf8\") as f:\n",
    "    f.write(new_file_content)  # .replace(\"\\beta\", r\"\\beta\"))"
   ]
  },
  {
   "cell_type": "code",
   "execution_count": null,
   "id": "sexual-motel",
   "metadata": {},
   "outputs": [],
   "source": []
  }
 ],
 "metadata": {
  "jupytext": {
   "cell_metadata_filter": "all,-execution,-papermill,-trusted",
   "formats": "ipynb,py//py:percent"
  },
  "kernelspec": {
   "display_name": "Python 3 (ipykernel)",
   "language": "python",
   "name": "python3"
  },
  "language_info": {
   "codemirror_mode": {
    "name": "ipython",
    "version": 3
   },
   "file_extension": ".py",
   "mimetype": "text/x-python",
   "name": "python",
   "nbconvert_exporter": "python",
   "pygments_lexer": "ipython3",
   "version": "3.8.13"
  },
  "toc-autonumbering": true
 },
 "nbformat": 4,
 "nbformat_minor": 5
}
