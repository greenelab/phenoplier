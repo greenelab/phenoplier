{
 "cells": [
  {
   "cell_type": "markdown",
   "id": "welcome-belarus",
   "metadata": {
    "papermill": {
     "duration": 0.006593,
     "end_time": "2021-05-11T19:09:55.733221",
     "exception": false,
     "start_time": "2021-05-11T19:09:55.726628",
     "status": "completed"
    },
    "tags": []
   },
   "source": [
    "# Description"
   ]
  },
  {
   "cell_type": "markdown",
   "id": "plastic-exploration",
   "metadata": {
    "papermill": {
     "duration": 0.00668,
     "end_time": "2021-05-11T19:09:55.745410",
     "exception": false,
     "start_time": "2021-05-11T19:09:55.738730",
     "status": "completed"
    },
    "tags": []
   },
   "source": [
    "Generates the figure for top cell types for a specified LV (in Settings section below)."
   ]
  },
  {
   "cell_type": "markdown",
   "id": "hawaiian-throw",
   "metadata": {
    "papermill": {
     "duration": 0.006223,
     "end_time": "2021-05-11T19:09:55.756959",
     "exception": false,
     "start_time": "2021-05-11T19:09:55.750736",
     "status": "completed"
    },
    "tags": []
   },
   "source": [
    "# Modules loading"
   ]
  },
  {
   "cell_type": "code",
   "execution_count": 1,
   "id": "incorrect-renewal",
   "metadata": {
    "papermill": {
     "duration": 0.01906,
     "end_time": "2021-05-11T19:09:55.781515",
     "exception": false,
     "start_time": "2021-05-11T19:09:55.762455",
     "status": "completed"
    },
    "tags": []
   },
   "outputs": [],
   "source": [
    "%load_ext autoreload\n",
    "%autoreload 2"
   ]
  },
  {
   "cell_type": "code",
   "execution_count": 2,
   "id": "finite-audit",
   "metadata": {
    "papermill": {
     "duration": 0.993432,
     "end_time": "2021-05-11T19:09:56.780403",
     "exception": false,
     "start_time": "2021-05-11T19:09:55.786971",
     "status": "completed"
    },
    "tags": []
   },
   "outputs": [],
   "source": [
    "import re\n",
    "from pathlib import Path\n",
    "\n",
    "import pandas as pd\n",
    "import matplotlib.pyplot as plt\n",
    "import seaborn as sns\n",
    "\n",
    "from data.recount2 import LVAnalysis\n",
    "from utils import chunker\n",
    "import conf"
   ]
  },
  {
   "cell_type": "markdown",
   "id": "finished-gnome",
   "metadata": {
    "papermill": {
     "duration": 0.005973,
     "end_time": "2021-05-11T19:09:56.792495",
     "exception": false,
     "start_time": "2021-05-11T19:09:56.786522",
     "status": "completed"
    },
    "tags": []
   },
   "source": [
    "# Settings"
   ]
  },
  {
   "cell_type": "code",
   "execution_count": 3,
   "id": "administrative-teens",
   "metadata": {
    "papermill": {
     "duration": 0.019548,
     "end_time": "2021-05-11T19:09:56.817689",
     "exception": false,
     "start_time": "2021-05-11T19:09:56.798141",
     "status": "completed"
    },
    "tags": [
     "parameters"
    ]
   },
   "outputs": [],
   "source": [
    "LV_NAME = \"LV136\""
   ]
  },
  {
   "cell_type": "code",
   "execution_count": 4,
   "id": "under-screw",
   "metadata": {},
   "outputs": [],
   "source": [
    "LV_AXIS_THRESHOLD = 3.0\n",
    "N_TOP_SAMPLES = 400\n",
    "N_TOP_ATTRS = 25"
   ]
  },
  {
   "cell_type": "code",
   "execution_count": 5,
   "id": "official-square",
   "metadata": {},
   "outputs": [
    {
     "data": {
      "text/plain": [
       "PosixPath('/home/miltondp/projects/labs/greenelab/phenoplier_manuscript/content/images/lvs_analysis/lv136')"
      ]
     },
     "metadata": {},
     "output_type": "display_data"
    }
   ],
   "source": [
    "OUTPUT_FIGURES_DIR = Path(\n",
    "    conf.MANUSCRIPT[\"FIGURES_DIR\"], \"lvs_analysis\", f\"{LV_NAME.lower()}\"\n",
    ").resolve()\n",
    "display(OUTPUT_FIGURES_DIR)\n",
    "OUTPUT_FIGURES_DIR.mkdir(parents=True, exist_ok=True)"
   ]
  },
  {
   "cell_type": "code",
   "execution_count": 6,
   "id": "instructional-pathology",
   "metadata": {},
   "outputs": [
    {
     "data": {
      "text/plain": [
       "PosixPath('/home/miltondp/projects/labs/greenelab/phenoplier_manuscript/content/images/lvs_analysis/lv136/lv136-cell_types.svg')"
      ]
     },
     "metadata": {},
     "output_type": "display_data"
    }
   ],
   "source": [
    "OUTPUT_CELL_TYPE_FILEPATH = OUTPUT_FIGURES_DIR / f\"{LV_NAME.lower()}-cell_types.svg\"\n",
    "display(OUTPUT_CELL_TYPE_FILEPATH)"
   ]
  },
  {
   "cell_type": "markdown",
   "id": "binary-handling",
   "metadata": {
    "papermill": {
     "duration": 0.005592,
     "end_time": "2021-05-11T19:09:56.854406",
     "exception": false,
     "start_time": "2021-05-11T19:09:56.848814",
     "status": "completed"
    },
    "tags": []
   },
   "source": [
    "# Load MultiPLIER summary"
   ]
  },
  {
   "cell_type": "code",
   "execution_count": 7,
   "id": "close-boring",
   "metadata": {
    "papermill": {
     "duration": 0.020251,
     "end_time": "2021-05-11T19:09:56.880435",
     "exception": false,
     "start_time": "2021-05-11T19:09:56.860184",
     "status": "completed"
    },
    "tags": []
   },
   "outputs": [],
   "source": [
    "multiplier_model_summary = pd.read_pickle(conf.MULTIPLIER[\"MODEL_SUMMARY_FILE\"])"
   ]
  },
  {
   "cell_type": "code",
   "execution_count": 8,
   "id": "spanish-microwave",
   "metadata": {
    "papermill": {
     "duration": 0.02062,
     "end_time": "2021-05-11T19:09:56.906744",
     "exception": false,
     "start_time": "2021-05-11T19:09:56.886124",
     "status": "completed"
    },
    "tags": []
   },
   "outputs": [
    {
     "data": {
      "text/plain": [
       "(2157, 5)"
      ]
     },
     "execution_count": 8,
     "metadata": {},
     "output_type": "execute_result"
    }
   ],
   "source": [
    "multiplier_model_summary.shape"
   ]
  },
  {
   "cell_type": "code",
   "execution_count": 9,
   "id": "commercial-channels",
   "metadata": {
    "papermill": {
     "duration": 0.024737,
     "end_time": "2021-05-11T19:09:56.937493",
     "exception": false,
     "start_time": "2021-05-11T19:09:56.912756",
     "status": "completed"
    },
    "tags": []
   },
   "outputs": [
    {
     "data": {
      "text/html": [
       "<div>\n",
       "<style scoped>\n",
       "    .dataframe tbody tr th:only-of-type {\n",
       "        vertical-align: middle;\n",
       "    }\n",
       "\n",
       "    .dataframe tbody tr th {\n",
       "        vertical-align: top;\n",
       "    }\n",
       "\n",
       "    .dataframe thead th {\n",
       "        text-align: right;\n",
       "    }\n",
       "</style>\n",
       "<table border=\"1\" class=\"dataframe\">\n",
       "  <thead>\n",
       "    <tr style=\"text-align: right;\">\n",
       "      <th></th>\n",
       "      <th>pathway</th>\n",
       "      <th>LV index</th>\n",
       "      <th>AUC</th>\n",
       "      <th>p-value</th>\n",
       "      <th>FDR</th>\n",
       "    </tr>\n",
       "  </thead>\n",
       "  <tbody>\n",
       "    <tr>\n",
       "      <th>1</th>\n",
       "      <td>KEGG_LYSINE_DEGRADATION</td>\n",
       "      <td>1</td>\n",
       "      <td>0.388059</td>\n",
       "      <td>0.866078</td>\n",
       "      <td>0.956005</td>\n",
       "    </tr>\n",
       "    <tr>\n",
       "      <th>2</th>\n",
       "      <td>REACTOME_MRNA_SPLICING</td>\n",
       "      <td>1</td>\n",
       "      <td>0.733057</td>\n",
       "      <td>0.000048</td>\n",
       "      <td>0.000582</td>\n",
       "    </tr>\n",
       "    <tr>\n",
       "      <th>3</th>\n",
       "      <td>MIPS_NOP56P_ASSOCIATED_PRE_RRNA_COMPLEX</td>\n",
       "      <td>1</td>\n",
       "      <td>0.680555</td>\n",
       "      <td>0.001628</td>\n",
       "      <td>0.011366</td>\n",
       "    </tr>\n",
       "    <tr>\n",
       "      <th>4</th>\n",
       "      <td>KEGG_DNA_REPLICATION</td>\n",
       "      <td>1</td>\n",
       "      <td>0.549473</td>\n",
       "      <td>0.312155</td>\n",
       "      <td>0.539951</td>\n",
       "    </tr>\n",
       "    <tr>\n",
       "      <th>5</th>\n",
       "      <td>PID_MYC_ACTIVPATHWAY</td>\n",
       "      <td>1</td>\n",
       "      <td>0.639303</td>\n",
       "      <td>0.021702</td>\n",
       "      <td>0.083739</td>\n",
       "    </tr>\n",
       "  </tbody>\n",
       "</table>\n",
       "</div>"
      ],
      "text/plain": [
       "                                   pathway LV index       AUC   p-value  \\\n",
       "1                  KEGG_LYSINE_DEGRADATION        1  0.388059  0.866078   \n",
       "2                   REACTOME_MRNA_SPLICING        1  0.733057  0.000048   \n",
       "3  MIPS_NOP56P_ASSOCIATED_PRE_RRNA_COMPLEX        1  0.680555  0.001628   \n",
       "4                     KEGG_DNA_REPLICATION        1  0.549473  0.312155   \n",
       "5                     PID_MYC_ACTIVPATHWAY        1  0.639303  0.021702   \n",
       "\n",
       "        FDR  \n",
       "1  0.956005  \n",
       "2  0.000582  \n",
       "3  0.011366  \n",
       "4  0.539951  \n",
       "5  0.083739  "
      ]
     },
     "execution_count": 9,
     "metadata": {},
     "output_type": "execute_result"
    }
   ],
   "source": [
    "multiplier_model_summary.head()"
   ]
  },
  {
   "cell_type": "markdown",
   "id": "referenced-tennessee",
   "metadata": {
    "papermill": {
     "duration": 0.006007,
     "end_time": "2021-05-11T19:09:56.949763",
     "exception": false,
     "start_time": "2021-05-11T19:09:56.943756",
     "status": "completed"
    },
    "tags": []
   },
   "source": [
    "# Load data"
   ]
  },
  {
   "cell_type": "markdown",
   "id": "utility-trader",
   "metadata": {
    "papermill": {
     "duration": 0.005873,
     "end_time": "2021-05-11T19:09:56.961602",
     "exception": false,
     "start_time": "2021-05-11T19:09:56.955729",
     "status": "completed"
    },
    "tags": []
   },
   "source": [
    "## Original data"
   ]
  },
  {
   "cell_type": "code",
   "execution_count": 10,
   "id": "unnecessary-iceland",
   "metadata": {
    "papermill": {
     "duration": 0.019571,
     "end_time": "2021-05-11T19:09:56.987255",
     "exception": false,
     "start_time": "2021-05-11T19:09:56.967684",
     "status": "completed"
    },
    "tags": []
   },
   "outputs": [],
   "source": [
    "INPUT_SUBSET = \"z_score_std\""
   ]
  },
  {
   "cell_type": "code",
   "execution_count": 11,
   "id": "olympic-sustainability",
   "metadata": {
    "papermill": {
     "duration": 0.019175,
     "end_time": "2021-05-11T19:09:57.025099",
     "exception": false,
     "start_time": "2021-05-11T19:09:57.005924",
     "status": "completed"
    },
    "tags": []
   },
   "outputs": [],
   "source": [
    "INPUT_STEM = \"projection-smultixcan-efo_partial-mashr-zscores\""
   ]
  },
  {
   "cell_type": "code",
   "execution_count": 12,
   "id": "typical-elements",
   "metadata": {
    "papermill": {
     "duration": 0.020992,
     "end_time": "2021-05-11T19:09:57.052255",
     "exception": false,
     "start_time": "2021-05-11T19:09:57.031263",
     "status": "completed"
    },
    "tags": []
   },
   "outputs": [
    {
     "data": {
      "text/plain": [
       "PosixPath('/home/miltondp/projects/labs/greenelab/phenoplier/bases_data/base_orig/results/data_transformations/z_score_std/z_score_std-projection-smultixcan-efo_partial-mashr-zscores.pkl')"
      ]
     },
     "metadata": {},
     "output_type": "display_data"
    },
    {
     "data": {
      "text/plain": [
       "'z_score_std-projection-smultixcan-efo_partial-mashr-zscores'"
      ]
     },
     "metadata": {},
     "output_type": "display_data"
    }
   ],
   "source": [
    "input_filepath = Path(\n",
    "    conf.RESULTS[\"DATA_TRANSFORMATIONS_DIR\"],\n",
    "    INPUT_SUBSET,\n",
    "    f\"{INPUT_SUBSET}-{INPUT_STEM}.pkl\",\n",
    ").resolve()\n",
    "display(input_filepath)\n",
    "\n",
    "assert input_filepath.exists(), \"Input file does not exist\"\n",
    "\n",
    "input_filepath_stem = input_filepath.stem\n",
    "display(input_filepath_stem)"
   ]
  },
  {
   "cell_type": "code",
   "execution_count": 13,
   "id": "wicked-sharing",
   "metadata": {
    "papermill": {
     "duration": 0.032337,
     "end_time": "2021-05-11T19:09:57.090585",
     "exception": false,
     "start_time": "2021-05-11T19:09:57.058248",
     "status": "completed"
    },
    "tags": []
   },
   "outputs": [],
   "source": [
    "data = pd.read_pickle(input_filepath)"
   ]
  },
  {
   "cell_type": "code",
   "execution_count": 14,
   "id": "whole-christian",
   "metadata": {
    "papermill": {
     "duration": 0.01967,
     "end_time": "2021-05-11T19:09:57.116292",
     "exception": false,
     "start_time": "2021-05-11T19:09:57.096622",
     "status": "completed"
    },
    "tags": []
   },
   "outputs": [
    {
     "data": {
      "text/plain": [
       "(3752, 987)"
      ]
     },
     "execution_count": 14,
     "metadata": {},
     "output_type": "execute_result"
    }
   ],
   "source": [
    "data.shape"
   ]
  },
  {
   "cell_type": "code",
   "execution_count": 15,
   "id": "arbitrary-behalf",
   "metadata": {
    "papermill": {
     "duration": 0.031843,
     "end_time": "2021-05-11T19:09:57.154356",
     "exception": false,
     "start_time": "2021-05-11T19:09:57.122513",
     "status": "completed"
    },
    "tags": []
   },
   "outputs": [
    {
     "data": {
      "text/html": [
       "<div>\n",
       "<style scoped>\n",
       "    .dataframe tbody tr th:only-of-type {\n",
       "        vertical-align: middle;\n",
       "    }\n",
       "\n",
       "    .dataframe tbody tr th {\n",
       "        vertical-align: top;\n",
       "    }\n",
       "\n",
       "    .dataframe thead th {\n",
       "        text-align: right;\n",
       "    }\n",
       "</style>\n",
       "<table border=\"1\" class=\"dataframe\">\n",
       "  <thead>\n",
       "    <tr style=\"text-align: right;\">\n",
       "      <th></th>\n",
       "      <th>LV1</th>\n",
       "      <th>LV2</th>\n",
       "      <th>LV3</th>\n",
       "      <th>LV4</th>\n",
       "      <th>LV5</th>\n",
       "      <th>LV6</th>\n",
       "      <th>LV7</th>\n",
       "      <th>LV8</th>\n",
       "      <th>LV9</th>\n",
       "      <th>LV10</th>\n",
       "      <th>...</th>\n",
       "      <th>LV978</th>\n",
       "      <th>LV979</th>\n",
       "      <th>LV980</th>\n",
       "      <th>LV981</th>\n",
       "      <th>LV982</th>\n",
       "      <th>LV983</th>\n",
       "      <th>LV984</th>\n",
       "      <th>LV985</th>\n",
       "      <th>LV986</th>\n",
       "      <th>LV987</th>\n",
       "    </tr>\n",
       "  </thead>\n",
       "  <tbody>\n",
       "    <tr>\n",
       "      <th>100001_raw-Food_weight</th>\n",
       "      <td>-0.695006</td>\n",
       "      <td>1.962565</td>\n",
       "      <td>0.057683</td>\n",
       "      <td>0.878731</td>\n",
       "      <td>-0.539977</td>\n",
       "      <td>1.481272</td>\n",
       "      <td>-0.396422</td>\n",
       "      <td>1.090180</td>\n",
       "      <td>0.759223</td>\n",
       "      <td>0.931395</td>\n",
       "      <td>...</td>\n",
       "      <td>1.129784</td>\n",
       "      <td>1.752343</td>\n",
       "      <td>-1.411403</td>\n",
       "      <td>2.823863</td>\n",
       "      <td>0.931116</td>\n",
       "      <td>-1.054519</td>\n",
       "      <td>0.432982</td>\n",
       "      <td>-0.633597</td>\n",
       "      <td>0.554279</td>\n",
       "      <td>-0.642479</td>\n",
       "    </tr>\n",
       "    <tr>\n",
       "      <th>100002_raw-Energy</th>\n",
       "      <td>-1.528127</td>\n",
       "      <td>-0.345309</td>\n",
       "      <td>-0.148953</td>\n",
       "      <td>-0.242060</td>\n",
       "      <td>0.373427</td>\n",
       "      <td>0.791092</td>\n",
       "      <td>0.263477</td>\n",
       "      <td>0.987702</td>\n",
       "      <td>0.354391</td>\n",
       "      <td>1.416059</td>\n",
       "      <td>...</td>\n",
       "      <td>0.224604</td>\n",
       "      <td>0.769882</td>\n",
       "      <td>-0.509482</td>\n",
       "      <td>0.091153</td>\n",
       "      <td>2.286789</td>\n",
       "      <td>-1.008256</td>\n",
       "      <td>-0.029764</td>\n",
       "      <td>1.737229</td>\n",
       "      <td>-0.272107</td>\n",
       "      <td>-0.526125</td>\n",
       "    </tr>\n",
       "    <tr>\n",
       "      <th>100003_raw-Protein</th>\n",
       "      <td>-0.704572</td>\n",
       "      <td>-1.011299</td>\n",
       "      <td>0.671420</td>\n",
       "      <td>0.143991</td>\n",
       "      <td>0.615212</td>\n",
       "      <td>0.874212</td>\n",
       "      <td>-0.040998</td>\n",
       "      <td>0.915170</td>\n",
       "      <td>0.254369</td>\n",
       "      <td>-0.084237</td>\n",
       "      <td>...</td>\n",
       "      <td>1.003019</td>\n",
       "      <td>1.044314</td>\n",
       "      <td>-2.376108</td>\n",
       "      <td>0.004778</td>\n",
       "      <td>0.053714</td>\n",
       "      <td>-0.892447</td>\n",
       "      <td>-0.183800</td>\n",
       "      <td>1.377991</td>\n",
       "      <td>-0.278794</td>\n",
       "      <td>-0.419733</td>\n",
       "    </tr>\n",
       "    <tr>\n",
       "      <th>100004_raw-Fat</th>\n",
       "      <td>-0.989832</td>\n",
       "      <td>-1.875490</td>\n",
       "      <td>0.261555</td>\n",
       "      <td>-1.420719</td>\n",
       "      <td>0.366238</td>\n",
       "      <td>1.167049</td>\n",
       "      <td>0.257387</td>\n",
       "      <td>0.717674</td>\n",
       "      <td>-0.997664</td>\n",
       "      <td>0.969825</td>\n",
       "      <td>...</td>\n",
       "      <td>0.585913</td>\n",
       "      <td>0.638314</td>\n",
       "      <td>0.119139</td>\n",
       "      <td>-0.140204</td>\n",
       "      <td>1.394326</td>\n",
       "      <td>-1.173402</td>\n",
       "      <td>0.555058</td>\n",
       "      <td>1.013982</td>\n",
       "      <td>-0.544506</td>\n",
       "      <td>-0.064061</td>\n",
       "    </tr>\n",
       "    <tr>\n",
       "      <th>100005_raw-Carbohydrate</th>\n",
       "      <td>-0.580143</td>\n",
       "      <td>0.243335</td>\n",
       "      <td>0.158966</td>\n",
       "      <td>-0.036558</td>\n",
       "      <td>0.068176</td>\n",
       "      <td>-0.202639</td>\n",
       "      <td>1.101281</td>\n",
       "      <td>0.675227</td>\n",
       "      <td>1.463432</td>\n",
       "      <td>1.010078</td>\n",
       "      <td>...</td>\n",
       "      <td>-0.249108</td>\n",
       "      <td>-0.026814</td>\n",
       "      <td>0.232713</td>\n",
       "      <td>0.323682</td>\n",
       "      <td>1.168642</td>\n",
       "      <td>-0.282935</td>\n",
       "      <td>0.653105</td>\n",
       "      <td>1.909526</td>\n",
       "      <td>0.199997</td>\n",
       "      <td>-1.656894</td>\n",
       "    </tr>\n",
       "  </tbody>\n",
       "</table>\n",
       "<p>5 rows × 987 columns</p>\n",
       "</div>"
      ],
      "text/plain": [
       "                              LV1       LV2       LV3       LV4       LV5  \\\n",
       "100001_raw-Food_weight  -0.695006  1.962565  0.057683  0.878731 -0.539977   \n",
       "100002_raw-Energy       -1.528127 -0.345309 -0.148953 -0.242060  0.373427   \n",
       "100003_raw-Protein      -0.704572 -1.011299  0.671420  0.143991  0.615212   \n",
       "100004_raw-Fat          -0.989832 -1.875490  0.261555 -1.420719  0.366238   \n",
       "100005_raw-Carbohydrate -0.580143  0.243335  0.158966 -0.036558  0.068176   \n",
       "\n",
       "                              LV6       LV7       LV8       LV9      LV10  \\\n",
       "100001_raw-Food_weight   1.481272 -0.396422  1.090180  0.759223  0.931395   \n",
       "100002_raw-Energy        0.791092  0.263477  0.987702  0.354391  1.416059   \n",
       "100003_raw-Protein       0.874212 -0.040998  0.915170  0.254369 -0.084237   \n",
       "100004_raw-Fat           1.167049  0.257387  0.717674 -0.997664  0.969825   \n",
       "100005_raw-Carbohydrate -0.202639  1.101281  0.675227  1.463432  1.010078   \n",
       "\n",
       "                         ...     LV978     LV979     LV980     LV981  \\\n",
       "100001_raw-Food_weight   ...  1.129784  1.752343 -1.411403  2.823863   \n",
       "100002_raw-Energy        ...  0.224604  0.769882 -0.509482  0.091153   \n",
       "100003_raw-Protein       ...  1.003019  1.044314 -2.376108  0.004778   \n",
       "100004_raw-Fat           ...  0.585913  0.638314  0.119139 -0.140204   \n",
       "100005_raw-Carbohydrate  ... -0.249108 -0.026814  0.232713  0.323682   \n",
       "\n",
       "                            LV982     LV983     LV984     LV985     LV986  \\\n",
       "100001_raw-Food_weight   0.931116 -1.054519  0.432982 -0.633597  0.554279   \n",
       "100002_raw-Energy        2.286789 -1.008256 -0.029764  1.737229 -0.272107   \n",
       "100003_raw-Protein       0.053714 -0.892447 -0.183800  1.377991 -0.278794   \n",
       "100004_raw-Fat           1.394326 -1.173402  0.555058  1.013982 -0.544506   \n",
       "100005_raw-Carbohydrate  1.168642 -0.282935  0.653105  1.909526  0.199997   \n",
       "\n",
       "                            LV987  \n",
       "100001_raw-Food_weight  -0.642479  \n",
       "100002_raw-Energy       -0.526125  \n",
       "100003_raw-Protein      -0.419733  \n",
       "100004_raw-Fat          -0.064061  \n",
       "100005_raw-Carbohydrate -1.656894  \n",
       "\n",
       "[5 rows x 987 columns]"
      ]
     },
     "execution_count": 15,
     "metadata": {},
     "output_type": "execute_result"
    }
   ],
   "source": [
    "data.head()"
   ]
  },
  {
   "cell_type": "markdown",
   "id": "extra-opposition",
   "metadata": {},
   "source": [
    "## LV data"
   ]
  },
  {
   "cell_type": "code",
   "execution_count": 16,
   "id": "collectible-coverage",
   "metadata": {},
   "outputs": [],
   "source": [
    "lv_obj = LVAnalysis(LV_NAME, data)"
   ]
  },
  {
   "cell_type": "code",
   "execution_count": 17,
   "id": "union-retrieval",
   "metadata": {},
   "outputs": [
    {
     "name": "stderr",
     "output_type": "stream",
     "text": [
      "[2021-08-02 16:00:16,707 - numexpr.utils] INFO: NumExpr defaulting to 8 threads.\n"
     ]
    },
    {
     "data": {
      "text/html": [
       "<div>\n",
       "<style scoped>\n",
       "    .dataframe tbody tr th:only-of-type {\n",
       "        vertical-align: middle;\n",
       "    }\n",
       "\n",
       "    .dataframe tbody tr th {\n",
       "        vertical-align: top;\n",
       "    }\n",
       "\n",
       "    .dataframe thead th {\n",
       "        text-align: right;\n",
       "    }\n",
       "</style>\n",
       "<table border=\"1\" class=\"dataframe\">\n",
       "  <thead>\n",
       "    <tr style=\"text-align: right;\">\n",
       "      <th></th>\n",
       "      <th>pathway</th>\n",
       "      <th>LV index</th>\n",
       "      <th>AUC</th>\n",
       "      <th>p-value</th>\n",
       "      <th>FDR</th>\n",
       "    </tr>\n",
       "  </thead>\n",
       "  <tbody>\n",
       "    <tr>\n",
       "      <th>575</th>\n",
       "      <td>KEGG_ECM_RECEPTOR_INTERACTION</td>\n",
       "      <td>136</td>\n",
       "      <td>0.799754</td>\n",
       "      <td>4.564191e-06</td>\n",
       "      <td>0.000073</td>\n",
       "    </tr>\n",
       "    <tr>\n",
       "      <th>576</th>\n",
       "      <td>REACTOME_MUSCLE_CONTRACTION</td>\n",
       "      <td>136</td>\n",
       "      <td>0.751250</td>\n",
       "      <td>2.318938e-03</td>\n",
       "      <td>0.014931</td>\n",
       "    </tr>\n",
       "    <tr>\n",
       "      <th>577</th>\n",
       "      <td>REACTOME_COLLAGEN_FORMATION</td>\n",
       "      <td>136</td>\n",
       "      <td>0.870741</td>\n",
       "      <td>1.437195e-05</td>\n",
       "      <td>0.000200</td>\n",
       "    </tr>\n",
       "    <tr>\n",
       "      <th>580</th>\n",
       "      <td>PID_INTEGRIN1_PATHWAY</td>\n",
       "      <td>136</td>\n",
       "      <td>0.883285</td>\n",
       "      <td>4.595639e-07</td>\n",
       "      <td>0.000009</td>\n",
       "    </tr>\n",
       "  </tbody>\n",
       "</table>\n",
       "</div>"
      ],
      "text/plain": [
       "                           pathway LV index       AUC       p-value       FDR\n",
       "575  KEGG_ECM_RECEPTOR_INTERACTION      136  0.799754  4.564191e-06  0.000073\n",
       "576    REACTOME_MUSCLE_CONTRACTION      136  0.751250  2.318938e-03  0.014931\n",
       "577    REACTOME_COLLAGEN_FORMATION      136  0.870741  1.437195e-05  0.000200\n",
       "580          PID_INTEGRIN1_PATHWAY      136  0.883285  4.595639e-07  0.000009"
      ]
     },
     "execution_count": 17,
     "metadata": {},
     "output_type": "execute_result"
    }
   ],
   "source": [
    "multiplier_model_summary[\n",
    "    multiplier_model_summary[\"LV index\"].isin((LV_NAME[2:],))\n",
    "    & (\n",
    "        (multiplier_model_summary[\"FDR\"] < 0.05)\n",
    "        | (multiplier_model_summary[\"AUC\"] >= 0.75)\n",
    "    )\n",
    "]"
   ]
  },
  {
   "cell_type": "code",
   "execution_count": 18,
   "id": "flush-consent",
   "metadata": {},
   "outputs": [
    {
     "name": "stdout",
     "output_type": "stream",
     "text": [
      "SRP063867, SRP042597, SRP047082, SRP038863, SRP049593, SRP055569, SRP018218, SRP039348, SRP067469, SRP056146, SRP053366, SRP048889, SRP058375, SRP049714, SRP041573, SRP021134, SRP042212, SRP033135, SRP042186, SRP051772, SRP049004, SRP041063, SRP043644, SRP064259, SRP063889, SRP049409, SRP043162, SRP047516, SRP032942, SRP033569, SRP045222, SRP017631, SRP037762, SRP049340, SRP019374, SRP032363, SRP063059, SRP039598, SRP050397, SRP043166, SRP044271, SRP057156, SRP004637, SRP007461, SRP033250, SRP051599, SRP019994, SRP027383, SRP034634, SRP047339, "
     ]
    },
    {
     "name": "stderr",
     "output_type": "stream",
     "text": [
      "/home/miltondp/projects/labs/greenelab/phenoplier/libs/data/recount2.py:320: UserWarning: Not all experiments data could be loaded (49 != 50)\n",
      "  warnings.warn(\n"
     ]
    }
   ],
   "source": [
    "lv_data = lv_obj.get_experiments_data()"
   ]
  },
  {
   "cell_type": "code",
   "execution_count": 19,
   "id": "solar-supervisor",
   "metadata": {},
   "outputs": [
    {
     "data": {
      "text/plain": [
       "(2794, 81)"
      ]
     },
     "execution_count": 19,
     "metadata": {},
     "output_type": "execute_result"
    }
   ],
   "source": [
    "lv_data.shape"
   ]
  },
  {
   "cell_type": "code",
   "execution_count": 20,
   "id": "operational-superintendent",
   "metadata": {},
   "outputs": [
    {
     "data": {
      "text/html": [
       "<div>\n",
       "<style scoped>\n",
       "    .dataframe tbody tr th:only-of-type {\n",
       "        vertical-align: middle;\n",
       "    }\n",
       "\n",
       "    .dataframe tbody tr th {\n",
       "        vertical-align: top;\n",
       "    }\n",
       "\n",
       "    .dataframe thead th {\n",
       "        text-align: right;\n",
       "    }\n",
       "</style>\n",
       "<table border=\"1\" class=\"dataframe\">\n",
       "  <thead>\n",
       "    <tr style=\"text-align: right;\">\n",
       "      <th></th>\n",
       "      <th></th>\n",
       "      <th>data set</th>\n",
       "      <th>cell type</th>\n",
       "      <th>cell subtype</th>\n",
       "      <th>disease/genotype</th>\n",
       "      <th>genotype</th>\n",
       "      <th>source cell type</th>\n",
       "      <th>time point</th>\n",
       "      <th>cell line</th>\n",
       "      <th>sequenced molecule</th>\n",
       "      <th>gender</th>\n",
       "      <th>...</th>\n",
       "      <th>sample pool name</th>\n",
       "      <th>sample type</th>\n",
       "      <th>tissue harvest site</th>\n",
       "      <th>population doublings</th>\n",
       "      <th>tissue archive method</th>\n",
       "      <th>subtypes</th>\n",
       "      <th>history</th>\n",
       "      <th>hypoxia exposure</th>\n",
       "      <th>cell cycle stage</th>\n",
       "      <th>LV136</th>\n",
       "    </tr>\n",
       "    <tr>\n",
       "      <th>project</th>\n",
       "      <th>run</th>\n",
       "      <th></th>\n",
       "      <th></th>\n",
       "      <th></th>\n",
       "      <th></th>\n",
       "      <th></th>\n",
       "      <th></th>\n",
       "      <th></th>\n",
       "      <th></th>\n",
       "      <th></th>\n",
       "      <th></th>\n",
       "      <th></th>\n",
       "      <th></th>\n",
       "      <th></th>\n",
       "      <th></th>\n",
       "      <th></th>\n",
       "      <th></th>\n",
       "      <th></th>\n",
       "      <th></th>\n",
       "      <th></th>\n",
       "      <th></th>\n",
       "      <th></th>\n",
       "    </tr>\n",
       "  </thead>\n",
       "  <tbody>\n",
       "    <tr>\n",
       "      <th rowspan=\"5\" valign=\"top\">SRP063867</th>\n",
       "      <th>SRR2453324</th>\n",
       "      <td>isogenic</td>\n",
       "      <td>ESC</td>\n",
       "      <td>NaN</td>\n",
       "      <td>NaN</td>\n",
       "      <td>NaN</td>\n",
       "      <td>NaN</td>\n",
       "      <td>NaN</td>\n",
       "      <td>NaN</td>\n",
       "      <td>NaN</td>\n",
       "      <td>NaN</td>\n",
       "      <td>...</td>\n",
       "      <td>NaN</td>\n",
       "      <td>NaN</td>\n",
       "      <td>NaN</td>\n",
       "      <td>NaN</td>\n",
       "      <td>NaN</td>\n",
       "      <td>NaN</td>\n",
       "      <td>NaN</td>\n",
       "      <td>NaN</td>\n",
       "      <td>NaN</td>\n",
       "      <td>0.001449</td>\n",
       "    </tr>\n",
       "    <tr>\n",
       "      <th>SRR2453325</th>\n",
       "      <td>isogenic</td>\n",
       "      <td>ESC</td>\n",
       "      <td>NaN</td>\n",
       "      <td>NaN</td>\n",
       "      <td>NaN</td>\n",
       "      <td>NaN</td>\n",
       "      <td>NaN</td>\n",
       "      <td>NaN</td>\n",
       "      <td>NaN</td>\n",
       "      <td>NaN</td>\n",
       "      <td>...</td>\n",
       "      <td>NaN</td>\n",
       "      <td>NaN</td>\n",
       "      <td>NaN</td>\n",
       "      <td>NaN</td>\n",
       "      <td>NaN</td>\n",
       "      <td>NaN</td>\n",
       "      <td>NaN</td>\n",
       "      <td>NaN</td>\n",
       "      <td>NaN</td>\n",
       "      <td>0.000810</td>\n",
       "    </tr>\n",
       "    <tr>\n",
       "      <th>SRR2453323</th>\n",
       "      <td>isogenic</td>\n",
       "      <td>Fibroblast</td>\n",
       "      <td>NaN</td>\n",
       "      <td>NaN</td>\n",
       "      <td>NaN</td>\n",
       "      <td>NaN</td>\n",
       "      <td>NaN</td>\n",
       "      <td>NaN</td>\n",
       "      <td>NaN</td>\n",
       "      <td>NaN</td>\n",
       "      <td>...</td>\n",
       "      <td>NaN</td>\n",
       "      <td>NaN</td>\n",
       "      <td>NaN</td>\n",
       "      <td>NaN</td>\n",
       "      <td>NaN</td>\n",
       "      <td>NaN</td>\n",
       "      <td>NaN</td>\n",
       "      <td>NaN</td>\n",
       "      <td>NaN</td>\n",
       "      <td>0.922192</td>\n",
       "    </tr>\n",
       "    <tr>\n",
       "      <th>SRR2453321</th>\n",
       "      <td>isogenic</td>\n",
       "      <td>ESC</td>\n",
       "      <td>NaN</td>\n",
       "      <td>NaN</td>\n",
       "      <td>NaN</td>\n",
       "      <td>NaN</td>\n",
       "      <td>NaN</td>\n",
       "      <td>NaN</td>\n",
       "      <td>NaN</td>\n",
       "      <td>NaN</td>\n",
       "      <td>...</td>\n",
       "      <td>NaN</td>\n",
       "      <td>NaN</td>\n",
       "      <td>NaN</td>\n",
       "      <td>NaN</td>\n",
       "      <td>NaN</td>\n",
       "      <td>NaN</td>\n",
       "      <td>NaN</td>\n",
       "      <td>NaN</td>\n",
       "      <td>NaN</td>\n",
       "      <td>0.009537</td>\n",
       "    </tr>\n",
       "    <tr>\n",
       "      <th>SRR2453322</th>\n",
       "      <td>isogenic</td>\n",
       "      <td>ESC</td>\n",
       "      <td>NaN</td>\n",
       "      <td>NaN</td>\n",
       "      <td>NaN</td>\n",
       "      <td>NaN</td>\n",
       "      <td>NaN</td>\n",
       "      <td>NaN</td>\n",
       "      <td>NaN</td>\n",
       "      <td>NaN</td>\n",
       "      <td>...</td>\n",
       "      <td>NaN</td>\n",
       "      <td>NaN</td>\n",
       "      <td>NaN</td>\n",
       "      <td>NaN</td>\n",
       "      <td>NaN</td>\n",
       "      <td>NaN</td>\n",
       "      <td>NaN</td>\n",
       "      <td>NaN</td>\n",
       "      <td>NaN</td>\n",
       "      <td>0.010631</td>\n",
       "    </tr>\n",
       "  </tbody>\n",
       "</table>\n",
       "<p>5 rows × 81 columns</p>\n",
       "</div>"
      ],
      "text/plain": [
       "                      data set   cell type cell subtype disease/genotype  \\\n",
       "project   run                                                              \n",
       "SRP063867 SRR2453324  isogenic         ESC          NaN              NaN   \n",
       "          SRR2453325  isogenic         ESC          NaN              NaN   \n",
       "          SRR2453323  isogenic  Fibroblast          NaN              NaN   \n",
       "          SRR2453321  isogenic         ESC          NaN              NaN   \n",
       "          SRR2453322  isogenic         ESC          NaN              NaN   \n",
       "\n",
       "                     genotype source cell type time point cell line  \\\n",
       "project   run                                                         \n",
       "SRP063867 SRR2453324      NaN              NaN        NaN       NaN   \n",
       "          SRR2453325      NaN              NaN        NaN       NaN   \n",
       "          SRR2453323      NaN              NaN        NaN       NaN   \n",
       "          SRR2453321      NaN              NaN        NaN       NaN   \n",
       "          SRR2453322      NaN              NaN        NaN       NaN   \n",
       "\n",
       "                     sequenced molecule gender  ... sample pool name  \\\n",
       "project   run                                   ...                    \n",
       "SRP063867 SRR2453324                NaN    NaN  ...              NaN   \n",
       "          SRR2453325                NaN    NaN  ...              NaN   \n",
       "          SRR2453323                NaN    NaN  ...              NaN   \n",
       "          SRR2453321                NaN    NaN  ...              NaN   \n",
       "          SRR2453322                NaN    NaN  ...              NaN   \n",
       "\n",
       "                     sample type tissue harvest site population doublings  \\\n",
       "project   run                                                               \n",
       "SRP063867 SRR2453324         NaN                 NaN                  NaN   \n",
       "          SRR2453325         NaN                 NaN                  NaN   \n",
       "          SRR2453323         NaN                 NaN                  NaN   \n",
       "          SRR2453321         NaN                 NaN                  NaN   \n",
       "          SRR2453322         NaN                 NaN                  NaN   \n",
       "\n",
       "                     tissue archive method subtypes history hypoxia exposure  \\\n",
       "project   run                                                                  \n",
       "SRP063867 SRR2453324                   NaN      NaN     NaN              NaN   \n",
       "          SRR2453325                   NaN      NaN     NaN              NaN   \n",
       "          SRR2453323                   NaN      NaN     NaN              NaN   \n",
       "          SRR2453321                   NaN      NaN     NaN              NaN   \n",
       "          SRR2453322                   NaN      NaN     NaN              NaN   \n",
       "\n",
       "                     cell cycle stage     LV136  \n",
       "project   run                                    \n",
       "SRP063867 SRR2453324              NaN  0.001449  \n",
       "          SRR2453325              NaN  0.000810  \n",
       "          SRR2453323              NaN  0.922192  \n",
       "          SRR2453321              NaN  0.009537  \n",
       "          SRR2453322              NaN  0.010631  \n",
       "\n",
       "[5 rows x 81 columns]"
      ]
     },
     "execution_count": 20,
     "metadata": {},
     "output_type": "execute_result"
    }
   ],
   "source": [
    "lv_data.head()"
   ]
  },
  {
   "cell_type": "markdown",
   "id": "excited-mechanics",
   "metadata": {},
   "source": [
    "# LV cell types analysis"
   ]
  },
  {
   "cell_type": "markdown",
   "id": "premier-lemon",
   "metadata": {},
   "source": [
    "## Get top attributes"
   ]
  },
  {
   "cell_type": "code",
   "execution_count": 21,
   "id": "rising-warrior",
   "metadata": {},
   "outputs": [
    {
     "data": {
      "text/plain": [
       "library-type             0.149960\n",
       "spike-in                 0.149960\n",
       "gender                   0.149251\n",
       "genotype                 0.147590\n",
       "donor                    0.142041\n",
       "data set                 0.101910\n",
       "sequenced molecule       0.096388\n",
       "condition/treatment      0.091796\n",
       "strain                   0.091796\n",
       "localication             0.085065\n",
       "time of analysis         0.085065\n",
       "cell subtype             0.084495\n",
       "disease/genotype         0.084495\n",
       "source cell type         0.084495\n",
       "time point               0.084495\n",
       "source                   0.057141\n",
       "fusion type              0.055843\n",
       "age (months)             0.055843\n",
       "differentiation stage    0.054837\n",
       "cell line                0.040376\n",
       "dtype: float64"
      ]
     },
     "metadata": {},
     "output_type": "display_data"
    }
   ],
   "source": [
    "lv_attrs = lv_obj.get_attributes_variation_score()\n",
    "display(lv_attrs.head(20))"
   ]
  },
  {
   "cell_type": "code",
   "execution_count": 22,
   "id": "ancient-stevens",
   "metadata": {},
   "outputs": [
    {
     "data": {
      "text/plain": [
       "cell subtype    0.084495\n",
       "tissue          0.029873\n",
       "cell type       0.027465\n",
       "dtype: float64"
      ]
     },
     "execution_count": 22,
     "metadata": {},
     "output_type": "execute_result"
    }
   ],
   "source": [
    "# show those with cell type or tissue in their name\n",
    "_tmp = pd.Series(lv_attrs.index)\n",
    "lv_attrs[\n",
    "    _tmp.str.match(\n",
    "        \"(?:cell.+type$)|(?:tissue$)|(?:tissue.+type$)\",\n",
    "        case=False,\n",
    "        flags=re.IGNORECASE,\n",
    "    ).values\n",
    "].sort_values(ascending=False)"
   ]
  },
  {
   "cell_type": "code",
   "execution_count": 23,
   "id": "primary-belief",
   "metadata": {},
   "outputs": [],
   "source": [
    "_tmp = lv_data.loc[\n",
    "    :,\n",
    "    [\n",
    "        \"cell type\",\n",
    "        \"cell subtype\",\n",
    "        \"tissue\",\n",
    "        LV_NAME,\n",
    "    ],\n",
    "]"
   ]
  },
  {
   "cell_type": "code",
   "execution_count": 24,
   "id": "documented-adjustment",
   "metadata": {},
   "outputs": [],
   "source": [
    "_tmp_seq = list(chunker(_tmp.sort_values(LV_NAME, ascending=False), 25))"
   ]
  },
  {
   "cell_type": "code",
   "execution_count": 25,
   "id": "crude-leave",
   "metadata": {},
   "outputs": [
    {
     "data": {
      "text/html": [
       "<div>\n",
       "<style scoped>\n",
       "    .dataframe tbody tr th:only-of-type {\n",
       "        vertical-align: middle;\n",
       "    }\n",
       "\n",
       "    .dataframe tbody tr th {\n",
       "        vertical-align: top;\n",
       "    }\n",
       "\n",
       "    .dataframe thead th {\n",
       "        text-align: right;\n",
       "    }\n",
       "</style>\n",
       "<table border=\"1\" class=\"dataframe\">\n",
       "  <thead>\n",
       "    <tr style=\"text-align: right;\">\n",
       "      <th></th>\n",
       "      <th></th>\n",
       "      <th>cell type</th>\n",
       "      <th>cell subtype</th>\n",
       "      <th>tissue</th>\n",
       "      <th>LV136</th>\n",
       "    </tr>\n",
       "    <tr>\n",
       "      <th>project</th>\n",
       "      <th>run</th>\n",
       "      <th></th>\n",
       "      <th></th>\n",
       "      <th></th>\n",
       "      <th></th>\n",
       "    </tr>\n",
       "  </thead>\n",
       "  <tbody>\n",
       "    <tr>\n",
       "      <th rowspan=\"2\" valign=\"top\">SRP063867</th>\n",
       "      <th>SRR2453302</th>\n",
       "      <td>Fibroblast</td>\n",
       "      <td>NaN</td>\n",
       "      <td>NaN</td>\n",
       "      <td>1.214808</td>\n",
       "    </tr>\n",
       "    <tr>\n",
       "      <th>SRR2453307</th>\n",
       "      <td>Fibroblast</td>\n",
       "      <td>NaN</td>\n",
       "      <td>NaN</td>\n",
       "      <td>1.174256</td>\n",
       "    </tr>\n",
       "    <tr>\n",
       "      <th rowspan=\"3\" valign=\"top\">SRP042597</th>\n",
       "      <th>SRR1304100</th>\n",
       "      <td>NaN</td>\n",
       "      <td>mesenchymal stem cells (MSCs)</td>\n",
       "      <td>NaN</td>\n",
       "      <td>1.166721</td>\n",
       "    </tr>\n",
       "    <tr>\n",
       "      <th>SRR1304096</th>\n",
       "      <td>NaN</td>\n",
       "      <td>mesenchymal stem cells (MSCs)</td>\n",
       "      <td>NaN</td>\n",
       "      <td>1.137275</td>\n",
       "    </tr>\n",
       "    <tr>\n",
       "      <th>SRR1304098</th>\n",
       "      <td>NaN</td>\n",
       "      <td>mesenchymal stem cells (MSCs) intermediate</td>\n",
       "      <td>NaN</td>\n",
       "      <td>1.118370</td>\n",
       "    </tr>\n",
       "    <tr>\n",
       "      <th>SRP047082</th>\n",
       "      <th>SRR1574529</th>\n",
       "      <td>Fibroblast</td>\n",
       "      <td>NaN</td>\n",
       "      <td>NaN</td>\n",
       "      <td>1.068360</td>\n",
       "    </tr>\n",
       "    <tr>\n",
       "      <th>SRP042597</th>\n",
       "      <th>SRR1304102</th>\n",
       "      <td>NaN</td>\n",
       "      <td>mesenchymal stem cells (MSCs) intermediate</td>\n",
       "      <td>NaN</td>\n",
       "      <td>1.068302</td>\n",
       "    </tr>\n",
       "    <tr>\n",
       "      <th>SRP047082</th>\n",
       "      <th>SRR1574528</th>\n",
       "      <td>Fibroblast</td>\n",
       "      <td>NaN</td>\n",
       "      <td>NaN</td>\n",
       "      <td>1.029498</td>\n",
       "    </tr>\n",
       "    <tr>\n",
       "      <th>SRP042597</th>\n",
       "      <th>SRR1304099</th>\n",
       "      <td>NaN</td>\n",
       "      <td>osteoblast</td>\n",
       "      <td>NaN</td>\n",
       "      <td>1.002788</td>\n",
       "    </tr>\n",
       "    <tr>\n",
       "      <th rowspan=\"2\" valign=\"top\">SRP063867</th>\n",
       "      <th>SRR2453320</th>\n",
       "      <td>Fibroblast</td>\n",
       "      <td>NaN</td>\n",
       "      <td>NaN</td>\n",
       "      <td>0.996606</td>\n",
       "    </tr>\n",
       "    <tr>\n",
       "      <th>SRR2453319</th>\n",
       "      <td>Fibroblast</td>\n",
       "      <td>NaN</td>\n",
       "      <td>NaN</td>\n",
       "      <td>0.986281</td>\n",
       "    </tr>\n",
       "    <tr>\n",
       "      <th>SRP042597</th>\n",
       "      <th>SRR1304103</th>\n",
       "      <td>NaN</td>\n",
       "      <td>osteoblast</td>\n",
       "      <td>NaN</td>\n",
       "      <td>0.972058</td>\n",
       "    </tr>\n",
       "    <tr>\n",
       "      <th rowspan=\"2\" valign=\"top\">SRP038863</th>\n",
       "      <th>SRR1175193</th>\n",
       "      <td>NaN</td>\n",
       "      <td>NaN</td>\n",
       "      <td>NaN</td>\n",
       "      <td>0.949986</td>\n",
       "    </tr>\n",
       "    <tr>\n",
       "      <th>SRR1175211</th>\n",
       "      <td>NaN</td>\n",
       "      <td>NaN</td>\n",
       "      <td>NaN</td>\n",
       "      <td>0.948702</td>\n",
       "    </tr>\n",
       "    <tr>\n",
       "      <th>SRP042597</th>\n",
       "      <th>SRR1304097</th>\n",
       "      <td>NaN</td>\n",
       "      <td>mesenchymal stem cells (MSCs) intermediate</td>\n",
       "      <td>NaN</td>\n",
       "      <td>0.947099</td>\n",
       "    </tr>\n",
       "    <tr>\n",
       "      <th rowspan=\"9\" valign=\"top\">SRP049593</th>\n",
       "      <th>SRR1643504</th>\n",
       "      <td>NaN</td>\n",
       "      <td>NaN</td>\n",
       "      <td>NaN</td>\n",
       "      <td>0.946274</td>\n",
       "    </tr>\n",
       "    <tr>\n",
       "      <th>SRR1643497</th>\n",
       "      <td>NaN</td>\n",
       "      <td>NaN</td>\n",
       "      <td>NaN</td>\n",
       "      <td>0.945724</td>\n",
       "    </tr>\n",
       "    <tr>\n",
       "      <th>SRR1643500</th>\n",
       "      <td>NaN</td>\n",
       "      <td>NaN</td>\n",
       "      <td>NaN</td>\n",
       "      <td>0.945644</td>\n",
       "    </tr>\n",
       "    <tr>\n",
       "      <th>SRR1643512</th>\n",
       "      <td>NaN</td>\n",
       "      <td>NaN</td>\n",
       "      <td>NaN</td>\n",
       "      <td>0.944602</td>\n",
       "    </tr>\n",
       "    <tr>\n",
       "      <th>SRR1643505</th>\n",
       "      <td>NaN</td>\n",
       "      <td>NaN</td>\n",
       "      <td>NaN</td>\n",
       "      <td>0.943546</td>\n",
       "    </tr>\n",
       "    <tr>\n",
       "      <th>SRR1643513</th>\n",
       "      <td>NaN</td>\n",
       "      <td>NaN</td>\n",
       "      <td>NaN</td>\n",
       "      <td>0.943382</td>\n",
       "    </tr>\n",
       "    <tr>\n",
       "      <th>SRR1643511</th>\n",
       "      <td>NaN</td>\n",
       "      <td>NaN</td>\n",
       "      <td>NaN</td>\n",
       "      <td>0.943323</td>\n",
       "    </tr>\n",
       "    <tr>\n",
       "      <th>SRR1643506</th>\n",
       "      <td>NaN</td>\n",
       "      <td>NaN</td>\n",
       "      <td>NaN</td>\n",
       "      <td>0.943300</td>\n",
       "    </tr>\n",
       "    <tr>\n",
       "      <th>SRR1643503</th>\n",
       "      <td>NaN</td>\n",
       "      <td>NaN</td>\n",
       "      <td>NaN</td>\n",
       "      <td>0.941668</td>\n",
       "    </tr>\n",
       "    <tr>\n",
       "      <th>SRP038863</th>\n",
       "      <th>SRR1175208</th>\n",
       "      <td>NaN</td>\n",
       "      <td>NaN</td>\n",
       "      <td>NaN</td>\n",
       "      <td>0.940527</td>\n",
       "    </tr>\n",
       "  </tbody>\n",
       "</table>\n",
       "</div>"
      ],
      "text/plain": [
       "                       cell type                                cell subtype  \\\n",
       "project   run                                                                  \n",
       "SRP063867 SRR2453302  Fibroblast                                         NaN   \n",
       "          SRR2453307  Fibroblast                                         NaN   \n",
       "SRP042597 SRR1304100         NaN               mesenchymal stem cells (MSCs)   \n",
       "          SRR1304096         NaN               mesenchymal stem cells (MSCs)   \n",
       "          SRR1304098         NaN  mesenchymal stem cells (MSCs) intermediate   \n",
       "SRP047082 SRR1574529  Fibroblast                                         NaN   \n",
       "SRP042597 SRR1304102         NaN  mesenchymal stem cells (MSCs) intermediate   \n",
       "SRP047082 SRR1574528  Fibroblast                                         NaN   \n",
       "SRP042597 SRR1304099         NaN                                  osteoblast   \n",
       "SRP063867 SRR2453320  Fibroblast                                         NaN   \n",
       "          SRR2453319  Fibroblast                                         NaN   \n",
       "SRP042597 SRR1304103         NaN                                  osteoblast   \n",
       "SRP038863 SRR1175193         NaN                                         NaN   \n",
       "          SRR1175211         NaN                                         NaN   \n",
       "SRP042597 SRR1304097         NaN  mesenchymal stem cells (MSCs) intermediate   \n",
       "SRP049593 SRR1643504         NaN                                         NaN   \n",
       "          SRR1643497         NaN                                         NaN   \n",
       "          SRR1643500         NaN                                         NaN   \n",
       "          SRR1643512         NaN                                         NaN   \n",
       "          SRR1643505         NaN                                         NaN   \n",
       "          SRR1643513         NaN                                         NaN   \n",
       "          SRR1643511         NaN                                         NaN   \n",
       "          SRR1643506         NaN                                         NaN   \n",
       "          SRR1643503         NaN                                         NaN   \n",
       "SRP038863 SRR1175208         NaN                                         NaN   \n",
       "\n",
       "                     tissue     LV136  \n",
       "project   run                          \n",
       "SRP063867 SRR2453302    NaN  1.214808  \n",
       "          SRR2453307    NaN  1.174256  \n",
       "SRP042597 SRR1304100    NaN  1.166721  \n",
       "          SRR1304096    NaN  1.137275  \n",
       "          SRR1304098    NaN  1.118370  \n",
       "SRP047082 SRR1574529    NaN  1.068360  \n",
       "SRP042597 SRR1304102    NaN  1.068302  \n",
       "SRP047082 SRR1574528    NaN  1.029498  \n",
       "SRP042597 SRR1304099    NaN  1.002788  \n",
       "SRP063867 SRR2453320    NaN  0.996606  \n",
       "          SRR2453319    NaN  0.986281  \n",
       "SRP042597 SRR1304103    NaN  0.972058  \n",
       "SRP038863 SRR1175193    NaN  0.949986  \n",
       "          SRR1175211    NaN  0.948702  \n",
       "SRP042597 SRR1304097    NaN  0.947099  \n",
       "SRP049593 SRR1643504    NaN  0.946274  \n",
       "          SRR1643497    NaN  0.945724  \n",
       "          SRR1643500    NaN  0.945644  \n",
       "          SRR1643512    NaN  0.944602  \n",
       "          SRR1643505    NaN  0.943546  \n",
       "          SRR1643513    NaN  0.943382  \n",
       "          SRR1643511    NaN  0.943323  \n",
       "          SRR1643506    NaN  0.943300  \n",
       "          SRR1643503    NaN  0.941668  \n",
       "SRP038863 SRR1175208    NaN  0.940527  "
      ]
     },
     "execution_count": 25,
     "metadata": {},
     "output_type": "execute_result"
    }
   ],
   "source": [
    "_tmp_seq[0]"
   ]
  },
  {
   "cell_type": "code",
   "execution_count": 26,
   "id": "alternative-terrorism",
   "metadata": {},
   "outputs": [
    {
     "data": {
      "text/html": [
       "<div>\n",
       "<style scoped>\n",
       "    .dataframe tbody tr th:only-of-type {\n",
       "        vertical-align: middle;\n",
       "    }\n",
       "\n",
       "    .dataframe tbody tr th {\n",
       "        vertical-align: top;\n",
       "    }\n",
       "\n",
       "    .dataframe thead th {\n",
       "        text-align: right;\n",
       "    }\n",
       "</style>\n",
       "<table border=\"1\" class=\"dataframe\">\n",
       "  <thead>\n",
       "    <tr style=\"text-align: right;\">\n",
       "      <th></th>\n",
       "      <th></th>\n",
       "      <th>donor</th>\n",
       "      <th>time of analysis</th>\n",
       "      <th>localication</th>\n",
       "      <th>LV136</th>\n",
       "    </tr>\n",
       "    <tr>\n",
       "      <th>project</th>\n",
       "      <th>run</th>\n",
       "      <th></th>\n",
       "      <th></th>\n",
       "      <th></th>\n",
       "      <th></th>\n",
       "    </tr>\n",
       "  </thead>\n",
       "  <tbody>\n",
       "    <tr>\n",
       "      <th rowspan=\"9\" valign=\"top\">SRP067469</th>\n",
       "      <th>SRR3021901</th>\n",
       "      <td>female, 41y, healthy</td>\n",
       "      <td>directly after trypsinisation</td>\n",
       "      <td>in vitro</td>\n",
       "      <td>0.755722</td>\n",
       "    </tr>\n",
       "    <tr>\n",
       "      <th>SRR3021902</th>\n",
       "      <td>female, 68y, healthy</td>\n",
       "      <td>directly after trypsinisation</td>\n",
       "      <td>in vitro</td>\n",
       "      <td>0.715122</td>\n",
       "    </tr>\n",
       "    <tr>\n",
       "      <th>SRR3021904</th>\n",
       "      <td>female, 41y, healthy</td>\n",
       "      <td>1h after thawing</td>\n",
       "      <td>in vitro</td>\n",
       "      <td>0.657066</td>\n",
       "    </tr>\n",
       "    <tr>\n",
       "      <th>SRR3021900</th>\n",
       "      <td>male, 48y, healthy</td>\n",
       "      <td>directly after trypsinisation</td>\n",
       "      <td>in vitro</td>\n",
       "      <td>0.593703</td>\n",
       "    </tr>\n",
       "    <tr>\n",
       "      <th>SRR3021905</th>\n",
       "      <td>female, 68y, healthy</td>\n",
       "      <td>1h after thawing</td>\n",
       "      <td>in vitro</td>\n",
       "      <td>0.580828</td>\n",
       "    </tr>\n",
       "    <tr>\n",
       "      <th>SRR3021903</th>\n",
       "      <td>male, 48y, healthy</td>\n",
       "      <td>1h after thawing</td>\n",
       "      <td>in vitro</td>\n",
       "      <td>0.552265</td>\n",
       "    </tr>\n",
       "    <tr>\n",
       "      <th>SRR3021907</th>\n",
       "      <td>female, 41y, healthy</td>\n",
       "      <td>2h after infusion of trypsinised MSC</td>\n",
       "      <td>in mouse lung</td>\n",
       "      <td>0.134767</td>\n",
       "    </tr>\n",
       "    <tr>\n",
       "      <th>SRR3021906</th>\n",
       "      <td>male, 48y, healthy</td>\n",
       "      <td>2h after infusion of trypsinised MSC</td>\n",
       "      <td>in mouse lung</td>\n",
       "      <td>0.046490</td>\n",
       "    </tr>\n",
       "    <tr>\n",
       "      <th>SRR3021908</th>\n",
       "      <td>female, 68y, healthy</td>\n",
       "      <td>2h after infusion of trypsinised MSC</td>\n",
       "      <td>in mouse lung</td>\n",
       "      <td>0.045547</td>\n",
       "    </tr>\n",
       "  </tbody>\n",
       "</table>\n",
       "</div>"
      ],
      "text/plain": [
       "                                     donor  \\\n",
       "project   run                                \n",
       "SRP067469 SRR3021901  female, 41y, healthy   \n",
       "          SRR3021902  female, 68y, healthy   \n",
       "          SRR3021904  female, 41y, healthy   \n",
       "          SRR3021900    male, 48y, healthy   \n",
       "          SRR3021905  female, 68y, healthy   \n",
       "          SRR3021903    male, 48y, healthy   \n",
       "          SRR3021907  female, 41y, healthy   \n",
       "          SRR3021906    male, 48y, healthy   \n",
       "          SRR3021908  female, 68y, healthy   \n",
       "\n",
       "                                          time of analysis   localication  \\\n",
       "project   run                                                               \n",
       "SRP067469 SRR3021901         directly after trypsinisation       in vitro   \n",
       "          SRR3021902         directly after trypsinisation       in vitro   \n",
       "          SRR3021904                      1h after thawing       in vitro   \n",
       "          SRR3021900         directly after trypsinisation       in vitro   \n",
       "          SRR3021905                      1h after thawing       in vitro   \n",
       "          SRR3021903                      1h after thawing       in vitro   \n",
       "          SRR3021907  2h after infusion of trypsinised MSC  in mouse lung   \n",
       "          SRR3021906  2h after infusion of trypsinised MSC  in mouse lung   \n",
       "          SRR3021908  2h after infusion of trypsinised MSC  in mouse lung   \n",
       "\n",
       "                         LV136  \n",
       "project   run                   \n",
       "SRP067469 SRR3021901  0.755722  \n",
       "          SRR3021902  0.715122  \n",
       "          SRR3021904  0.657066  \n",
       "          SRR3021900  0.593703  \n",
       "          SRR3021905  0.580828  \n",
       "          SRR3021903  0.552265  \n",
       "          SRR3021907  0.134767  \n",
       "          SRR3021906  0.046490  \n",
       "          SRR3021908  0.045547  "
      ]
     },
     "execution_count": 26,
     "metadata": {},
     "output_type": "execute_result"
    }
   ],
   "source": [
    "# what is there in these projects?\n",
    "lv_data.loc[[\"SRP067469\"]].dropna(how=\"all\", axis=1).sort_values(\n",
    "    LV_NAME, ascending=False\n",
    ").sort_values(LV_NAME, ascending=False).head(10)"
   ]
  },
  {
   "cell_type": "markdown",
   "id": "introductory-intersection",
   "metadata": {},
   "source": [
    "**No cell types/tissues/cell lines** so not very interesting"
   ]
  },
  {
   "cell_type": "code",
   "execution_count": 27,
   "id": "demanding-lexington",
   "metadata": {},
   "outputs": [],
   "source": [
    "SELECTED_ATTRIBUTE = \"cell type\""
   ]
  },
  {
   "cell_type": "code",
   "execution_count": 28,
   "id": "heavy-gamma",
   "metadata": {},
   "outputs": [],
   "source": [
    "# it has to be in the order desired for filling nans in the SELECTED_ATTRIBUTE\n",
    "SECOND_ATTRIBUTES = [\"cell subtype\", \"tissue\"]"
   ]
  },
  {
   "cell_type": "markdown",
   "id": "infectious-morning",
   "metadata": {},
   "source": [
    "## Get plot data"
   ]
  },
  {
   "cell_type": "code",
   "execution_count": 29,
   "id": "returning-literacy",
   "metadata": {},
   "outputs": [],
   "source": [
    "plot_data = lv_data.loc[:, [SELECTED_ATTRIBUTE] + SECOND_ATTRIBUTES + [LV_NAME]]"
   ]
  },
  {
   "cell_type": "code",
   "execution_count": 30,
   "id": "former-salon",
   "metadata": {},
   "outputs": [],
   "source": [
    "# if blank/nan, fill cell type column with tissue content\n",
    "_new_column = plot_data[[SELECTED_ATTRIBUTE] + SECOND_ATTRIBUTES].fillna(\n",
    "    method=\"backfill\", axis=1\n",
    ")[SELECTED_ATTRIBUTE]\n",
    "plot_data[SELECTED_ATTRIBUTE] = _new_column\n",
    "plot_data = plot_data.drop(columns=SECOND_ATTRIBUTES)\n",
    "plot_data = plot_data.fillna({SELECTED_ATTRIBUTE: \"NOT CATEGORIZED\"})\n",
    "# plot_data = plot_data.dropna(subset=[SELECTED_ATTRIBUTE])"
   ]
  },
  {
   "cell_type": "code",
   "execution_count": 31,
   "id": "fitted-partnership",
   "metadata": {},
   "outputs": [],
   "source": [
    "plot_data = plot_data.sort_values(LV_NAME, ascending=False)"
   ]
  },
  {
   "cell_type": "code",
   "execution_count": 32,
   "id": "appropriate-blair",
   "metadata": {},
   "outputs": [
    {
     "data": {
      "text/html": [
       "<div>\n",
       "<style scoped>\n",
       "    .dataframe tbody tr th:only-of-type {\n",
       "        vertical-align: middle;\n",
       "    }\n",
       "\n",
       "    .dataframe tbody tr th {\n",
       "        vertical-align: top;\n",
       "    }\n",
       "\n",
       "    .dataframe thead th {\n",
       "        text-align: right;\n",
       "    }\n",
       "</style>\n",
       "<table border=\"1\" class=\"dataframe\">\n",
       "  <thead>\n",
       "    <tr style=\"text-align: right;\">\n",
       "      <th></th>\n",
       "      <th></th>\n",
       "      <th>cell type</th>\n",
       "      <th>LV136</th>\n",
       "    </tr>\n",
       "    <tr>\n",
       "      <th>project</th>\n",
       "      <th>run</th>\n",
       "      <th></th>\n",
       "      <th></th>\n",
       "    </tr>\n",
       "  </thead>\n",
       "  <tbody>\n",
       "    <tr>\n",
       "      <th rowspan=\"2\" valign=\"top\">SRP063867</th>\n",
       "      <th>SRR2453302</th>\n",
       "      <td>Fibroblast</td>\n",
       "      <td>1.214808</td>\n",
       "    </tr>\n",
       "    <tr>\n",
       "      <th>SRR2453307</th>\n",
       "      <td>Fibroblast</td>\n",
       "      <td>1.174256</td>\n",
       "    </tr>\n",
       "    <tr>\n",
       "      <th rowspan=\"3\" valign=\"top\">SRP042597</th>\n",
       "      <th>SRR1304100</th>\n",
       "      <td>mesenchymal stem cells (MSCs)</td>\n",
       "      <td>1.166721</td>\n",
       "    </tr>\n",
       "    <tr>\n",
       "      <th>SRR1304096</th>\n",
       "      <td>mesenchymal stem cells (MSCs)</td>\n",
       "      <td>1.137275</td>\n",
       "    </tr>\n",
       "    <tr>\n",
       "      <th>SRR1304098</th>\n",
       "      <td>mesenchymal stem cells (MSCs) intermediate</td>\n",
       "      <td>1.118370</td>\n",
       "    </tr>\n",
       "    <tr>\n",
       "      <th>SRP047082</th>\n",
       "      <th>SRR1574529</th>\n",
       "      <td>Fibroblast</td>\n",
       "      <td>1.068360</td>\n",
       "    </tr>\n",
       "    <tr>\n",
       "      <th>SRP042597</th>\n",
       "      <th>SRR1304102</th>\n",
       "      <td>mesenchymal stem cells (MSCs) intermediate</td>\n",
       "      <td>1.068302</td>\n",
       "    </tr>\n",
       "    <tr>\n",
       "      <th>SRP047082</th>\n",
       "      <th>SRR1574528</th>\n",
       "      <td>Fibroblast</td>\n",
       "      <td>1.029498</td>\n",
       "    </tr>\n",
       "    <tr>\n",
       "      <th>SRP042597</th>\n",
       "      <th>SRR1304099</th>\n",
       "      <td>osteoblast</td>\n",
       "      <td>1.002788</td>\n",
       "    </tr>\n",
       "    <tr>\n",
       "      <th rowspan=\"2\" valign=\"top\">SRP063867</th>\n",
       "      <th>SRR2453320</th>\n",
       "      <td>Fibroblast</td>\n",
       "      <td>0.996606</td>\n",
       "    </tr>\n",
       "    <tr>\n",
       "      <th>SRR2453319</th>\n",
       "      <td>Fibroblast</td>\n",
       "      <td>0.986281</td>\n",
       "    </tr>\n",
       "    <tr>\n",
       "      <th>SRP042597</th>\n",
       "      <th>SRR1304103</th>\n",
       "      <td>osteoblast</td>\n",
       "      <td>0.972058</td>\n",
       "    </tr>\n",
       "    <tr>\n",
       "      <th rowspan=\"2\" valign=\"top\">SRP038863</th>\n",
       "      <th>SRR1175193</th>\n",
       "      <td>NOT CATEGORIZED</td>\n",
       "      <td>0.949986</td>\n",
       "    </tr>\n",
       "    <tr>\n",
       "      <th>SRR1175211</th>\n",
       "      <td>NOT CATEGORIZED</td>\n",
       "      <td>0.948702</td>\n",
       "    </tr>\n",
       "    <tr>\n",
       "      <th>SRP042597</th>\n",
       "      <th>SRR1304097</th>\n",
       "      <td>mesenchymal stem cells (MSCs) intermediate</td>\n",
       "      <td>0.947099</td>\n",
       "    </tr>\n",
       "    <tr>\n",
       "      <th rowspan=\"5\" valign=\"top\">SRP049593</th>\n",
       "      <th>SRR1643504</th>\n",
       "      <td>NOT CATEGORIZED</td>\n",
       "      <td>0.946274</td>\n",
       "    </tr>\n",
       "    <tr>\n",
       "      <th>SRR1643497</th>\n",
       "      <td>NOT CATEGORIZED</td>\n",
       "      <td>0.945724</td>\n",
       "    </tr>\n",
       "    <tr>\n",
       "      <th>SRR1643500</th>\n",
       "      <td>NOT CATEGORIZED</td>\n",
       "      <td>0.945644</td>\n",
       "    </tr>\n",
       "    <tr>\n",
       "      <th>SRR1643512</th>\n",
       "      <td>NOT CATEGORIZED</td>\n",
       "      <td>0.944602</td>\n",
       "    </tr>\n",
       "    <tr>\n",
       "      <th>SRR1643505</th>\n",
       "      <td>NOT CATEGORIZED</td>\n",
       "      <td>0.943546</td>\n",
       "    </tr>\n",
       "  </tbody>\n",
       "</table>\n",
       "</div>"
      ],
      "text/plain": [
       "                                                       cell type     LV136\n",
       "project   run                                                             \n",
       "SRP063867 SRR2453302                                  Fibroblast  1.214808\n",
       "          SRR2453307                                  Fibroblast  1.174256\n",
       "SRP042597 SRR1304100               mesenchymal stem cells (MSCs)  1.166721\n",
       "          SRR1304096               mesenchymal stem cells (MSCs)  1.137275\n",
       "          SRR1304098  mesenchymal stem cells (MSCs) intermediate  1.118370\n",
       "SRP047082 SRR1574529                                  Fibroblast  1.068360\n",
       "SRP042597 SRR1304102  mesenchymal stem cells (MSCs) intermediate  1.068302\n",
       "SRP047082 SRR1574528                                  Fibroblast  1.029498\n",
       "SRP042597 SRR1304099                                  osteoblast  1.002788\n",
       "SRP063867 SRR2453320                                  Fibroblast  0.996606\n",
       "          SRR2453319                                  Fibroblast  0.986281\n",
       "SRP042597 SRR1304103                                  osteoblast  0.972058\n",
       "SRP038863 SRR1175193                             NOT CATEGORIZED  0.949986\n",
       "          SRR1175211                             NOT CATEGORIZED  0.948702\n",
       "SRP042597 SRR1304097  mesenchymal stem cells (MSCs) intermediate  0.947099\n",
       "SRP049593 SRR1643504                             NOT CATEGORIZED  0.946274\n",
       "          SRR1643497                             NOT CATEGORIZED  0.945724\n",
       "          SRR1643500                             NOT CATEGORIZED  0.945644\n",
       "          SRR1643512                             NOT CATEGORIZED  0.944602\n",
       "          SRR1643505                             NOT CATEGORIZED  0.943546"
      ]
     },
     "execution_count": 32,
     "metadata": {},
     "output_type": "execute_result"
    }
   ],
   "source": [
    "plot_data.head(20)"
   ]
  },
  {
   "cell_type": "markdown",
   "id": "wicked-powder",
   "metadata": {},
   "source": [
    "## Customize x-axis values"
   ]
  },
  {
   "cell_type": "markdown",
   "id": "acting-compilation",
   "metadata": {},
   "source": [
    "When cell type values are not very clear, customize their names by looking at their specific studies to know exactly what the authors meant."
   ]
  },
  {
   "cell_type": "code",
   "execution_count": 33,
   "id": "stylish-seventh",
   "metadata": {},
   "outputs": [],
   "source": [
    "final_plot_data = plot_data.replace(\n",
    "    {\n",
    "        SELECTED_ATTRIBUTE: {\n",
    "            # General\n",
    "            \"adipocyte\": \"Adipocytes\",\n",
    "            \"Fibroblast\": \"Fibroblasts\",\n",
    "            \"fibroblast\": \"Fibroblasts\",\n",
    "            \"fibroblasts\": \"Fibroblasts\",\n",
    "            \"Cultured foreskin fibroblast cells (Stegment)\": \"Fibroblasts\",\n",
    "            \"Primary fibroblasts\": \"Fibroblasts\",\n",
    "            \"osteoblast\": \"Osteoblasts\",\n",
    "            \"osteoblasts\": \"Osteoblasts\",\n",
    "            \"Osteoblast\": \"Osteoblasts\",\n",
    "            \"mesenchymal stem cells (MSCs) intermediate\": \"Mesenchymal stem cells\",\n",
    "            \"mesenchymal stem cells (MSCs)\": \"Mesenchymal stem cells\",\n",
    "            \"Mesenchymal stem cell\": \"Mesenchymal stem cells\",\n",
    "            \"MPC\": \"Mesenchymal progenitor cells (adipogenic media)\",\n",
    "            \"Human Kupffer cells\": \"Kupffer cells\",\n",
    "            \"human pancreatic stellate cells\": \"Pancreatic stellate cells\",\n",
    "            \"BAT\": \"Brown adipose tissue\",\n",
    "            \"WAT\": \"White adipose tissue\",\n",
    "            \"human coronary artery smooth muscle cells (HCASMCs)\": \"Coronary artery smooth muscle cells (HCASMCs)\",\n",
    "            # SRP055569\n",
    "            \"mixture of U87 human glioma cells and WI-38 human lung fibroblast cells\": \"Glioma cells + lung fibroblast cells\",\n",
    "        }\n",
    "    }\n",
    ")\n",
    "\n",
    "# plot_data = plot_data[plot_data[SELECTED_ATTRIBUTE] != \"no cell\"]"
   ]
  },
  {
   "cell_type": "code",
   "execution_count": 34,
   "id": "special-national",
   "metadata": {},
   "outputs": [
    {
     "name": "stderr",
     "output_type": "stream",
     "text": [
      "<ipython-input-34-441a99eaf6ca>:3: PerformanceWarning: indexing past lexsort depth may impact performance.\n",
      "  _tmp = final_plot_data.loc[(_srp_code,)].apply(\n",
      "<ipython-input-34-441a99eaf6ca>:12: PerformanceWarning: indexing past lexsort depth may impact performance.\n",
      "  _tmp = final_plot_data.loc[(_srp_code,)].apply(\n"
     ]
    }
   ],
   "source": [
    "# add also tissue information to these projects\n",
    "_srp_code = \"SRP048889\"\n",
    "_tmp = final_plot_data.loc[(_srp_code,)].apply(\n",
    "    lambda x: x[SELECTED_ATTRIBUTE]\n",
    "    + f\" ({lv_data.loc[(_srp_code, x.name), 'tissue']})\",\n",
    "    axis=1,\n",
    ")\n",
    "final_plot_data.loc[(_srp_code, _tmp.index), SELECTED_ATTRIBUTE] = _tmp.values\n",
    "\n",
    "\n",
    "_srp_code = \"SRP034634\"\n",
    "_tmp = final_plot_data.loc[(_srp_code,)].apply(\n",
    "    lambda x: x[SELECTED_ATTRIBUTE]\n",
    "    + f\" ({lv_data.loc[(_srp_code, x.name), 'hypoxia exposure']})\",\n",
    "    axis=1,\n",
    ")\n",
    "_tmp = _tmp.replace(\n",
    "    \"human pulmonary microvascular endothelial cells \\((24|48) hours\\)\",\n",
    "    \"Pulmonary microvascular endothelial cells (hypoxia stress)\",\n",
    "    regex=True,\n",
    ")\n",
    "final_plot_data.loc[(_srp_code, _tmp.index), SELECTED_ATTRIBUTE] = _tmp.values"
   ]
  },
  {
   "cell_type": "code",
   "execution_count": 35,
   "id": "retained-fundamental",
   "metadata": {},
   "outputs": [],
   "source": [
    "# all samples from SRP049593 are fibroblasts\n",
    "final_plot_data[SELECTED_ATTRIBUTE] = final_plot_data.apply(\n",
    "    lambda x: \"Fibroblasts\"\n",
    "    if x.name[0] in (\"SRP049593\", \"SRP017631\")\n",
    "    else x[\"cell type\"],\n",
    "    axis=1,\n",
    ")"
   ]
  },
  {
   "cell_type": "code",
   "execution_count": 36,
   "id": "detected-growth",
   "metadata": {},
   "outputs": [],
   "source": [
    "# all samples from SRP038863 are human osteoblasts\n",
    "final_plot_data[SELECTED_ATTRIBUTE] = final_plot_data.apply(\n",
    "    lambda x: \"Osteoblasts\" if x.name[0] == \"SRP038863\" else x[\"cell type\"],\n",
    "    axis=1,\n",
    ")"
   ]
  },
  {
   "cell_type": "code",
   "execution_count": 37,
   "id": "alleged-platform",
   "metadata": {},
   "outputs": [],
   "source": [
    "# all samples from SRP067469 are mesenchymal stromal cells from adipose tissue\n",
    "final_plot_data[SELECTED_ATTRIBUTE] = final_plot_data.apply(\n",
    "    lambda x: \"Mesenchymal stem cells\" if x.name[0] == \"SRP067469\" else x[\"cell type\"],\n",
    "    axis=1,\n",
    ")"
   ]
  },
  {
   "cell_type": "code",
   "execution_count": 38,
   "id": "aquatic-polls",
   "metadata": {},
   "outputs": [],
   "source": [
    "final_plot_data[SELECTED_ATTRIBUTE] = final_plot_data.apply(\n",
    "    lambda x: \"Mesenchymal cells (stromal vascular / adipose tissue)\"\n",
    "    if x.name[0] == \"SRP063889\"\n",
    "    else x[\"cell type\"],\n",
    "    axis=1,\n",
    ")"
   ]
  },
  {
   "cell_type": "code",
   "execution_count": 39,
   "id": "nominated-spencer",
   "metadata": {},
   "outputs": [],
   "source": [
    "# all samples from SRP058375 are Kupffer cells\n",
    "final_plot_data[SELECTED_ATTRIBUTE] = final_plot_data.apply(\n",
    "    lambda x: \"Kupffer cells\" if x.name[0] == \"SRP058375\" else x[\"cell type\"],\n",
    "    axis=1,\n",
    ")"
   ]
  },
  {
   "cell_type": "code",
   "execution_count": 40,
   "id": "bacterial-owner",
   "metadata": {},
   "outputs": [],
   "source": [
    "# all samples from SRP049004 are fibroblastas\n",
    "final_plot_data[SELECTED_ATTRIBUTE] = final_plot_data.apply(\n",
    "    lambda x: \"Dermal fibroblasts\"\n",
    "    if x.name[0] in (\"SRP058375\", \"SRP049004\")\n",
    "    else x[\"cell type\"],\n",
    "    axis=1,\n",
    ")"
   ]
  },
  {
   "cell_type": "code",
   "execution_count": 41,
   "id": "painted-gallery",
   "metadata": {},
   "outputs": [],
   "source": [
    "# take the top samples only\n",
    "final_plot_data = final_plot_data.sort_values(LV_NAME, ascending=False)[:N_TOP_SAMPLES]"
   ]
  },
  {
   "cell_type": "markdown",
   "id": "important-stuart",
   "metadata": {},
   "source": [
    "## Threshold LV values"
   ]
  },
  {
   "cell_type": "code",
   "execution_count": 42,
   "id": "cleared-storm",
   "metadata": {},
   "outputs": [],
   "source": [
    "final_plot_data.loc[\n",
    "    final_plot_data[LV_NAME] > LV_AXIS_THRESHOLD, LV_NAME\n",
    "] = LV_AXIS_THRESHOLD"
   ]
  },
  {
   "cell_type": "markdown",
   "id": "complete-reaction",
   "metadata": {},
   "source": [
    "## Delete samples with no tissue/cell type information"
   ]
  },
  {
   "cell_type": "code",
   "execution_count": 43,
   "id": "deluxe-prescription",
   "metadata": {},
   "outputs": [],
   "source": [
    "final_plot_data = final_plot_data[\n",
    "    final_plot_data[SELECTED_ATTRIBUTE] != \"NOT CATEGORIZED\"\n",
    "]"
   ]
  },
  {
   "cell_type": "markdown",
   "id": "southeast-convergence",
   "metadata": {},
   "source": [
    "## Set x-axis order"
   ]
  },
  {
   "cell_type": "code",
   "execution_count": 44,
   "id": "chinese-responsibility",
   "metadata": {},
   "outputs": [],
   "source": [
    "attr_order = (\n",
    "    final_plot_data.groupby(SELECTED_ATTRIBUTE)\n",
    "    .max()\n",
    "    .sort_values(LV_NAME, ascending=False)\n",
    "    .index[:N_TOP_ATTRS]\n",
    "    .tolist()\n",
    ")"
   ]
  },
  {
   "cell_type": "code",
   "execution_count": 45,
   "id": "manual-column",
   "metadata": {},
   "outputs": [
    {
     "data": {
      "text/plain": [
       "25"
      ]
     },
     "execution_count": 45,
     "metadata": {},
     "output_type": "execute_result"
    }
   ],
   "source": [
    "len(attr_order)"
   ]
  },
  {
   "cell_type": "code",
   "execution_count": 46,
   "id": "outside-contribution",
   "metadata": {},
   "outputs": [
    {
     "data": {
      "text/plain": [
       "['Fibroblasts',\n",
       " 'Mesenchymal stem cells',\n",
       " 'Osteoblasts',\n",
       " 'Glioma cells + lung fibroblast cells',\n",
       " 'Pancreatic stellate cells']"
      ]
     },
     "execution_count": 46,
     "metadata": {},
     "output_type": "execute_result"
    }
   ],
   "source": [
    "attr_order[:5]"
   ]
  },
  {
   "cell_type": "markdown",
   "id": "progressive-recipient",
   "metadata": {},
   "source": [
    "## Plot"
   ]
  },
  {
   "cell_type": "code",
   "execution_count": 47,
   "id": "suspended-visibility",
   "metadata": {},
   "outputs": [
    {
     "data": {
      "image/png": "[encoded data removed]",
      "text/plain": [
       "<Figure size 1080x360 with 1 Axes>"
      ]
     },
     "metadata": {},
     "output_type": "display_data"
    }
   ],
   "source": [
    "with sns.plotting_context(\"paper\", font_scale=1.5), sns.axes_style(\"whitegrid\"):\n",
    "    sns.catplot(\n",
    "        data=final_plot_data,\n",
    "        y=LV_NAME,\n",
    "        x=SELECTED_ATTRIBUTE,\n",
    "        order=attr_order,\n",
    "        kind=\"strip\",\n",
    "        height=5,\n",
    "        aspect=3,\n",
    "    )\n",
    "    plt.xticks(rotation=45, horizontalalignment=\"right\")\n",
    "\n",
    "    plt.savefig(\n",
    "        OUTPUT_CELL_TYPE_FILEPATH,\n",
    "        bbox_inches=\"tight\",\n",
    "        facecolor=\"white\",\n",
    "    )"
   ]
  },
  {
   "cell_type": "markdown",
   "id": "standard-latino",
   "metadata": {},
   "source": [
    "# Debug"
   ]
  },
  {
   "cell_type": "code",
   "execution_count": 48,
   "id": "returning-conservative",
   "metadata": {},
   "outputs": [],
   "source": [
    "# with pd.option_context(\n",
    "#     \"display.max_rows\", None, \"display.max_columns\", None, \"display.max_colwidth\", None\n",
    "# ):\n",
    "#     _tmp = final_plot_data[final_plot_data[SELECTED_ATTRIBUTE].str.contains(\"NOT CAT\")]\n",
    "#     display(_tmp.head(20))"
   ]
  },
  {
   "cell_type": "code",
   "execution_count": 49,
   "id": "advanced-transcript",
   "metadata": {},
   "outputs": [],
   "source": [
    "# # what is there in these projects?\n",
    "# lv_data.loc[[\"SRP050499\"]].dropna(how=\"all\", axis=1).sort_values(\n",
    "#     LV_NAME, ascending=False\n",
    "# ).head(60)"
   ]
  },
  {
   "cell_type": "code",
   "execution_count": null,
   "id": "perfect-confirmation",
   "metadata": {},
   "outputs": [],
   "source": []
  }
 ],
 "metadata": {
  "jupytext": {
   "cell_metadata_filter": "all,-execution,-papermill,-trusted",
   "formats": "ipynb,py//py:percent"
  },
  "kernelspec": {
   "display_name": "Python 3",
   "language": "python",
   "name": "python3"
  },
  "language_info": {
   "codemirror_mode": {
    "name": "ipython",
    "version": 3
   },
   "file_extension": ".py",
   "mimetype": "text/x-python",
   "name": "python",
   "nbconvert_exporter": "python",
   "pygments_lexer": "ipython3",
   "version": "3.8.8"
  }
 },
 "nbformat": 4,
 "nbformat_minor": 5
}
