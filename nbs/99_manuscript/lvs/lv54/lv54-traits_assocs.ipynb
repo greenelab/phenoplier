{
 "cells": [
  {
   "cell_type": "markdown",
   "id": "reported-defeat",
   "metadata": {
    "papermill": {
     "duration": 0.006593,
     "end_time": "2021-05-11T19:09:55.733221",
     "exception": false,
     "start_time": "2021-05-11T19:09:55.726628",
     "status": "completed"
    },
    "tags": []
   },
   "source": [
    "# Description"
   ]
  },
  {
   "cell_type": "markdown",
   "id": "canadian-situation",
   "metadata": {
    "papermill": {
     "duration": 0.00668,
     "end_time": "2021-05-11T19:09:55.745410",
     "exception": false,
     "start_time": "2021-05-11T19:09:55.738730",
     "status": "completed"
    },
    "tags": []
   },
   "source": [
    "Generates manubot tables for PhenomeXcan and eMERGE associations given an LV name (which is the only parameter that needs to be specified in the Settings section below)."
   ]
  },
  {
   "cell_type": "markdown",
   "id": "substantial-exhibition",
   "metadata": {
    "papermill": {
     "duration": 0.006223,
     "end_time": "2021-05-11T19:09:55.756959",
     "exception": false,
     "start_time": "2021-05-11T19:09:55.750736",
     "status": "completed"
    },
    "tags": []
   },
   "source": [
    "# Modules loading"
   ]
  },
  {
   "cell_type": "code",
   "execution_count": 1,
   "id": "removable-sugar",
   "metadata": {
    "papermill": {
     "duration": 0.01906,
     "end_time": "2021-05-11T19:09:55.781515",
     "exception": false,
     "start_time": "2021-05-11T19:09:55.762455",
     "status": "completed"
    },
    "tags": []
   },
   "outputs": [],
   "source": [
    "%load_ext autoreload\n",
    "%autoreload 2"
   ]
  },
  {
   "cell_type": "code",
   "execution_count": 2,
   "id": "relevant-caution",
   "metadata": {
    "papermill": {
     "duration": 0.993432,
     "end_time": "2021-05-11T19:09:56.780403",
     "exception": false,
     "start_time": "2021-05-11T19:09:55.786971",
     "status": "completed"
    },
    "tags": []
   },
   "outputs": [],
   "source": [
    "import re\n",
    "from pathlib import Path\n",
    "\n",
    "import pandas as pd\n",
    "\n",
    "from entity import Trait\n",
    "import conf"
   ]
  },
  {
   "cell_type": "markdown",
   "id": "frozen-parish",
   "metadata": {
    "papermill": {
     "duration": 0.005973,
     "end_time": "2021-05-11T19:09:56.792495",
     "exception": false,
     "start_time": "2021-05-11T19:09:56.786522",
     "status": "completed"
    },
    "tags": []
   },
   "source": [
    "# Settings"
   ]
  },
  {
   "cell_type": "code",
   "execution_count": 3,
   "id": "driving-teaching",
   "metadata": {
    "papermill": {
     "duration": 0.019548,
     "end_time": "2021-05-11T19:09:56.817689",
     "exception": false,
     "start_time": "2021-05-11T19:09:56.798141",
     "status": "completed"
    },
    "tags": [
     "parameters"
    ]
   },
   "outputs": [],
   "source": [
    "LV_NAME = \"LV54\""
   ]
  },
  {
   "cell_type": "code",
   "execution_count": 4,
   "id": "accessible-committee",
   "metadata": {},
   "outputs": [
    {
     "data": {
      "text/plain": [
       "PosixPath('/home/miltondp/projects/labs/greenelab/phenoplier_manuscript/content/50.00.supplementary_material.md')"
      ]
     },
     "metadata": {},
     "output_type": "display_data"
    }
   ],
   "source": [
    "assert (\n",
    "    conf.MANUSCRIPT[\"BASE_DIR\"] is not None\n",
    "), \"The manuscript directory was not configured\"\n",
    "\n",
    "OUTPUT_FILE_PATH = conf.MANUSCRIPT[\"CONTENT_DIR\"] / \"50.00.supplementary_material.md\"\n",
    "display(OUTPUT_FILE_PATH)\n",
    "assert OUTPUT_FILE_PATH.exists()"
   ]
  },
  {
   "cell_type": "code",
   "execution_count": 5,
   "id": "imposed-accident",
   "metadata": {},
   "outputs": [],
   "source": [
    "# result_set is either phenomexcan or emerge\n",
    "LV_FILE_MARK_TEMPLATE = \"<!-- {lv}:{result_set}_traits_assocs:{position} -->\""
   ]
  },
  {
   "cell_type": "code",
   "execution_count": 6,
   "id": "continuing-portrait",
   "metadata": {},
   "outputs": [],
   "source": [
    "TABLE_CAPTION = \"Table: Significant trait associations of {lv_name} in {result_set_name}. {table_id}\""
   ]
  },
  {
   "cell_type": "code",
   "execution_count": 7,
   "id": "brown-archive",
   "metadata": {},
   "outputs": [],
   "source": [
    "TABLE_CAPTION_ID = \"#tbl:sup:{result_set}_assocs:{lv_name_lower_case}\""
   ]
  },
  {
   "cell_type": "code",
   "execution_count": 8,
   "id": "dominican-division",
   "metadata": {},
   "outputs": [],
   "source": [
    "RESULT_SET_NAMES = {\n",
    "    \"phenomexcan\": \"PhenomeXcan\",\n",
    "    \"emerge\": \"eMERGE\",\n",
    "}"
   ]
  },
  {
   "cell_type": "markdown",
   "id": "authentic-testament",
   "metadata": {
    "papermill": {
     "duration": 0.006007,
     "end_time": "2021-05-11T19:09:56.949763",
     "exception": false,
     "start_time": "2021-05-11T19:09:56.943756",
     "status": "completed"
    },
    "tags": []
   },
   "source": [
    "# Load data"
   ]
  },
  {
   "cell_type": "markdown",
   "id": "developed-harassment",
   "metadata": {},
   "source": [
    "## PhenomeXcan LV-trait associations"
   ]
  },
  {
   "cell_type": "code",
   "execution_count": 9,
   "id": "ranking-quality",
   "metadata": {},
   "outputs": [
    {
     "data": {
      "text/plain": [
       "PosixPath('/home/miltondp/projects/labs/greenelab/phenoplier/bases_data/base_orig/results/gls/gls_phenotypes-combined-phenomexcan.pkl')"
      ]
     },
     "metadata": {},
     "output_type": "display_data"
    }
   ],
   "source": [
    "input_filepath = Path(conf.RESULTS[\"GLS\"] / \"gls_phenotypes-combined-phenomexcan.pkl\")\n",
    "display(input_filepath)"
   ]
  },
  {
   "cell_type": "code",
   "execution_count": 10,
   "id": "choice-instrumentation",
   "metadata": {},
   "outputs": [],
   "source": [
    "phenomexcan_lv_trait_assocs = pd.read_pickle(input_filepath)"
   ]
  },
  {
   "cell_type": "code",
   "execution_count": 11,
   "id": "entertaining-analyst",
   "metadata": {},
   "outputs": [
    {
     "data": {
      "text/plain": [
       "(5782, 8)"
      ]
     },
     "execution_count": 11,
     "metadata": {},
     "output_type": "execute_result"
    }
   ],
   "source": [
    "phenomexcan_lv_trait_assocs.shape"
   ]
  },
  {
   "cell_type": "code",
   "execution_count": 12,
   "id": "resistant-convert",
   "metadata": {},
   "outputs": [
    {
     "data": {
      "text/html": [
       "<div>\n",
       "<style scoped>\n",
       "    .dataframe tbody tr th:only-of-type {\n",
       "        vertical-align: middle;\n",
       "    }\n",
       "\n",
       "    .dataframe tbody tr th {\n",
       "        vertical-align: top;\n",
       "    }\n",
       "\n",
       "    .dataframe thead th {\n",
       "        text-align: right;\n",
       "    }\n",
       "</style>\n",
       "<table border=\"1\" class=\"dataframe\">\n",
       "  <thead>\n",
       "    <tr style=\"text-align: right;\">\n",
       "      <th></th>\n",
       "      <th>part_k</th>\n",
       "      <th>cluster_id</th>\n",
       "      <th>phenotype</th>\n",
       "      <th>lv</th>\n",
       "      <th>coef</th>\n",
       "      <th>pvalue</th>\n",
       "      <th>pvalue_twosided</th>\n",
       "      <th>fdr</th>\n",
       "    </tr>\n",
       "  </thead>\n",
       "  <tbody>\n",
       "    <tr>\n",
       "      <th>0</th>\n",
       "      <td>29</td>\n",
       "      <td>22</td>\n",
       "      <td>100002_raw-Energy</td>\n",
       "      <td>LV246</td>\n",
       "      <td>0.002401</td>\n",
       "      <td>0.424213</td>\n",
       "      <td>0.848425</td>\n",
       "      <td>0.680765</td>\n",
       "    </tr>\n",
       "    <tr>\n",
       "      <th>1</th>\n",
       "      <td>29</td>\n",
       "      <td>22</td>\n",
       "      <td>100002_raw-Energy</td>\n",
       "      <td>LV607</td>\n",
       "      <td>-0.006323</td>\n",
       "      <td>0.691499</td>\n",
       "      <td>0.617002</td>\n",
       "      <td>0.873350</td>\n",
       "    </tr>\n",
       "    <tr>\n",
       "      <th>2</th>\n",
       "      <td>29</td>\n",
       "      <td>22</td>\n",
       "      <td>100002_raw-Energy</td>\n",
       "      <td>LV612</td>\n",
       "      <td>-0.000822</td>\n",
       "      <td>0.525786</td>\n",
       "      <td>0.948428</td>\n",
       "      <td>0.763843</td>\n",
       "    </tr>\n",
       "    <tr>\n",
       "      <th>3</th>\n",
       "      <td>29</td>\n",
       "      <td>22</td>\n",
       "      <td>100002_raw-Energy</td>\n",
       "      <td>LV74</td>\n",
       "      <td>-0.006035</td>\n",
       "      <td>0.685313</td>\n",
       "      <td>0.629373</td>\n",
       "      <td>0.870769</td>\n",
       "    </tr>\n",
       "    <tr>\n",
       "      <th>4</th>\n",
       "      <td>29</td>\n",
       "      <td>22</td>\n",
       "      <td>100002_raw-Energy</td>\n",
       "      <td>LV838</td>\n",
       "      <td>0.024454</td>\n",
       "      <td>0.023446</td>\n",
       "      <td>0.046891</td>\n",
       "      <td>0.087403</td>\n",
       "    </tr>\n",
       "  </tbody>\n",
       "</table>\n",
       "</div>"
      ],
      "text/plain": [
       "   part_k  cluster_id          phenotype     lv      coef    pvalue  \\\n",
       "0      29          22  100002_raw-Energy  LV246  0.002401  0.424213   \n",
       "1      29          22  100002_raw-Energy  LV607 -0.006323  0.691499   \n",
       "2      29          22  100002_raw-Energy  LV612 -0.000822  0.525786   \n",
       "3      29          22  100002_raw-Energy   LV74 -0.006035  0.685313   \n",
       "4      29          22  100002_raw-Energy  LV838  0.024454  0.023446   \n",
       "\n",
       "   pvalue_twosided       fdr  \n",
       "0         0.848425  0.680765  \n",
       "1         0.617002  0.873350  \n",
       "2         0.948428  0.763843  \n",
       "3         0.629373  0.870769  \n",
       "4         0.046891  0.087403  "
      ]
     },
     "execution_count": 12,
     "metadata": {},
     "output_type": "execute_result"
    }
   ],
   "source": [
    "phenomexcan_lv_trait_assocs.head()"
   ]
  },
  {
   "cell_type": "markdown",
   "id": "twenty-terrorism",
   "metadata": {},
   "source": [
    "## eMERGE LV-trait associations"
   ]
  },
  {
   "cell_type": "code",
   "execution_count": 13,
   "id": "demonstrated-press",
   "metadata": {},
   "outputs": [
    {
     "data": {
      "text/plain": [
       "PosixPath('/home/miltondp/projects/labs/greenelab/phenoplier/bases_data/base_orig/results/gls/gls_phenotypes-combined-emerge.pkl')"
      ]
     },
     "metadata": {},
     "output_type": "display_data"
    }
   ],
   "source": [
    "input_filepath = Path(conf.RESULTS[\"GLS\"] / \"gls_phenotypes-combined-emerge.pkl\")\n",
    "display(input_filepath)"
   ]
  },
  {
   "cell_type": "code",
   "execution_count": 14,
   "id": "effective-governor",
   "metadata": {},
   "outputs": [],
   "source": [
    "emerge_lv_trait_assocs = pd.read_pickle(input_filepath)"
   ]
  },
  {
   "cell_type": "code",
   "execution_count": 15,
   "id": "minimal-showcase",
   "metadata": {},
   "outputs": [
    {
     "data": {
      "text/plain": [
       "(7725, 6)"
      ]
     },
     "execution_count": 15,
     "metadata": {},
     "output_type": "execute_result"
    }
   ],
   "source": [
    "emerge_lv_trait_assocs.shape"
   ]
  },
  {
   "cell_type": "code",
   "execution_count": 16,
   "id": "swedish-helen",
   "metadata": {},
   "outputs": [
    {
     "data": {
      "text/html": [
       "<div>\n",
       "<style scoped>\n",
       "    .dataframe tbody tr th:only-of-type {\n",
       "        vertical-align: middle;\n",
       "    }\n",
       "\n",
       "    .dataframe tbody tr th {\n",
       "        vertical-align: top;\n",
       "    }\n",
       "\n",
       "    .dataframe thead th {\n",
       "        text-align: right;\n",
       "    }\n",
       "</style>\n",
       "<table border=\"1\" class=\"dataframe\">\n",
       "  <thead>\n",
       "    <tr style=\"text-align: right;\">\n",
       "      <th></th>\n",
       "      <th>phenotype</th>\n",
       "      <th>lv</th>\n",
       "      <th>coef</th>\n",
       "      <th>pvalue</th>\n",
       "      <th>pvalue_twosided</th>\n",
       "      <th>fdr</th>\n",
       "    </tr>\n",
       "  </thead>\n",
       "  <tbody>\n",
       "    <tr>\n",
       "      <th>0</th>\n",
       "      <td>008</td>\n",
       "      <td>LV246</td>\n",
       "      <td>-0.011008</td>\n",
       "      <td>0.809325</td>\n",
       "      <td>0.381350</td>\n",
       "      <td>0.999418</td>\n",
       "    </tr>\n",
       "    <tr>\n",
       "      <th>1</th>\n",
       "      <td>008</td>\n",
       "      <td>LV30</td>\n",
       "      <td>0.022387</td>\n",
       "      <td>0.038699</td>\n",
       "      <td>0.077397</td>\n",
       "      <td>0.483734</td>\n",
       "    </tr>\n",
       "    <tr>\n",
       "      <th>2</th>\n",
       "      <td>008</td>\n",
       "      <td>LV57</td>\n",
       "      <td>0.003960</td>\n",
       "      <td>0.379121</td>\n",
       "      <td>0.758243</td>\n",
       "      <td>0.961449</td>\n",
       "    </tr>\n",
       "    <tr>\n",
       "      <th>3</th>\n",
       "      <td>008</td>\n",
       "      <td>LV865</td>\n",
       "      <td>-0.008742</td>\n",
       "      <td>0.758337</td>\n",
       "      <td>0.483327</td>\n",
       "      <td>0.999418</td>\n",
       "    </tr>\n",
       "    <tr>\n",
       "      <th>4</th>\n",
       "      <td>008</td>\n",
       "      <td>LV847</td>\n",
       "      <td>-0.028246</td>\n",
       "      <td>0.985827</td>\n",
       "      <td>0.028346</td>\n",
       "      <td>0.999418</td>\n",
       "    </tr>\n",
       "  </tbody>\n",
       "</table>\n",
       "</div>"
      ],
      "text/plain": [
       "  phenotype     lv      coef    pvalue  pvalue_twosided       fdr\n",
       "0       008  LV246 -0.011008  0.809325         0.381350  0.999418\n",
       "1       008   LV30  0.022387  0.038699         0.077397  0.483734\n",
       "2       008   LV57  0.003960  0.379121         0.758243  0.961449\n",
       "3       008  LV865 -0.008742  0.758337         0.483327  0.999418\n",
       "4       008  LV847 -0.028246  0.985827         0.028346  0.999418"
      ]
     },
     "execution_count": 16,
     "metadata": {},
     "output_type": "execute_result"
    }
   ],
   "source": [
    "emerge_lv_trait_assocs.head()"
   ]
  },
  {
   "cell_type": "markdown",
   "id": "editorial-retail",
   "metadata": {},
   "source": [
    "## eMERGE traits info"
   ]
  },
  {
   "cell_type": "code",
   "execution_count": 17,
   "id": "fatty-trinidad",
   "metadata": {},
   "outputs": [
    {
     "data": {
      "text/plain": [
       "PosixPath('/home/miltondp/projects/labs/greenelab/phenoplier/bases_data/base_orig/data/emerge/eMERGE_III_PMBB_GSA_v2_2020_phecode_AFR_EUR_cc50_counts_w_dictionary.txt')"
      ]
     },
     "metadata": {},
     "output_type": "display_data"
    }
   ],
   "source": [
    "input_filepath = conf.EMERGE[\"DESC_FILE_WITH_SAMPLE_SIZE\"]\n",
    "display(input_filepath)"
   ]
  },
  {
   "cell_type": "code",
   "execution_count": 18,
   "id": "loving-neighbor",
   "metadata": {},
   "outputs": [],
   "source": [
    "emerge_traits_info = pd.read_csv(\n",
    "    input_filepath,\n",
    "    sep=\"\\t\",\n",
    "    dtype={\"phecode\": str},\n",
    "    usecols=[\n",
    "        \"phecode\",\n",
    "        \"phenotype\",\n",
    "        \"category\",\n",
    "        \"eMERGE_III_EUR_case\",\n",
    "        \"eMERGE_III_EUR_control\",\n",
    "    ],\n",
    ")"
   ]
  },
  {
   "cell_type": "code",
   "execution_count": 19,
   "id": "electoral-pittsburgh",
   "metadata": {},
   "outputs": [],
   "source": [
    "emerge_traits_info = emerge_traits_info.set_index(\"phecode\")"
   ]
  },
  {
   "cell_type": "code",
   "execution_count": 20,
   "id": "comparative-outline",
   "metadata": {},
   "outputs": [],
   "source": [
    "emerge_traits_info = emerge_traits_info.rename(\n",
    "    columns={\n",
    "        \"eMERGE_III_EUR_case\": \"eur_n_cases\",\n",
    "        \"eMERGE_III_EUR_control\": \"eur_n_controls\",\n",
    "    }\n",
    ")"
   ]
  },
  {
   "cell_type": "code",
   "execution_count": 21,
   "id": "neither-scholar",
   "metadata": {},
   "outputs": [
    {
     "data": {
      "text/plain": [
       "(309, 4)"
      ]
     },
     "execution_count": 21,
     "metadata": {},
     "output_type": "execute_result"
    }
   ],
   "source": [
    "emerge_traits_info.shape"
   ]
  },
  {
   "cell_type": "code",
   "execution_count": 22,
   "id": "heated-lease",
   "metadata": {},
   "outputs": [
    {
     "data": {
      "text/html": [
       "<div>\n",
       "<style scoped>\n",
       "    .dataframe tbody tr th:only-of-type {\n",
       "        vertical-align: middle;\n",
       "    }\n",
       "\n",
       "    .dataframe tbody tr th {\n",
       "        vertical-align: top;\n",
       "    }\n",
       "\n",
       "    .dataframe thead th {\n",
       "        text-align: right;\n",
       "    }\n",
       "</style>\n",
       "<table border=\"1\" class=\"dataframe\">\n",
       "  <thead>\n",
       "    <tr style=\"text-align: right;\">\n",
       "      <th></th>\n",
       "      <th>eur_n_cases</th>\n",
       "      <th>eur_n_controls</th>\n",
       "      <th>phenotype</th>\n",
       "      <th>category</th>\n",
       "    </tr>\n",
       "    <tr>\n",
       "      <th>phecode</th>\n",
       "      <th></th>\n",
       "      <th></th>\n",
       "      <th></th>\n",
       "      <th></th>\n",
       "    </tr>\n",
       "  </thead>\n",
       "  <tbody>\n",
       "    <tr>\n",
       "      <th>008</th>\n",
       "      <td>1639</td>\n",
       "      <td>57495</td>\n",
       "      <td>Intestinal infection</td>\n",
       "      <td>infectious diseases</td>\n",
       "    </tr>\n",
       "    <tr>\n",
       "      <th>008.5</th>\n",
       "      <td>1024</td>\n",
       "      <td>57495</td>\n",
       "      <td>Bacterial enteritis</td>\n",
       "      <td>infectious diseases</td>\n",
       "    </tr>\n",
       "    <tr>\n",
       "      <th>008.52</th>\n",
       "      <td>893</td>\n",
       "      <td>57495</td>\n",
       "      <td>Intestinal infection due to C. difficile</td>\n",
       "      <td>infectious diseases</td>\n",
       "    </tr>\n",
       "    <tr>\n",
       "      <th>038</th>\n",
       "      <td>3172</td>\n",
       "      <td>50610</td>\n",
       "      <td>Septicemia</td>\n",
       "      <td>infectious diseases</td>\n",
       "    </tr>\n",
       "    <tr>\n",
       "      <th>038.3</th>\n",
       "      <td>1361</td>\n",
       "      <td>50610</td>\n",
       "      <td>Bacteremia</td>\n",
       "      <td>infectious diseases</td>\n",
       "    </tr>\n",
       "  </tbody>\n",
       "</table>\n",
       "</div>"
      ],
      "text/plain": [
       "         eur_n_cases  eur_n_controls  \\\n",
       "phecode                                \n",
       "008             1639           57495   \n",
       "008.5           1024           57495   \n",
       "008.52           893           57495   \n",
       "038             3172           50610   \n",
       "038.3           1361           50610   \n",
       "\n",
       "                                        phenotype             category  \n",
       "phecode                                                                 \n",
       "008                          Intestinal infection  infectious diseases  \n",
       "008.5                         Bacterial enteritis  infectious diseases  \n",
       "008.52   Intestinal infection due to C. difficile  infectious diseases  \n",
       "038                                    Septicemia  infectious diseases  \n",
       "038.3                                  Bacteremia  infectious diseases  "
      ]
     },
     "execution_count": 22,
     "metadata": {},
     "output_type": "execute_result"
    }
   ],
   "source": [
    "emerge_traits_info.head()"
   ]
  },
  {
   "cell_type": "code",
   "execution_count": 23,
   "id": "indirect-paragraph",
   "metadata": {},
   "outputs": [],
   "source": [
    "assert emerge_traits_info.index.is_unique"
   ]
  },
  {
   "cell_type": "markdown",
   "id": "sustainable-holiday",
   "metadata": {
    "lines_to_next_cell": 2
   },
   "source": [
    "# Trait associations"
   ]
  },
  {
   "cell_type": "markdown",
   "id": "swiss-commercial",
   "metadata": {},
   "source": [
    "## PhenomeXcan"
   ]
  },
  {
   "cell_type": "code",
   "execution_count": 24,
   "id": "circular-taste",
   "metadata": {},
   "outputs": [],
   "source": [
    "from traits import SHORT_TRAIT_NAMES"
   ]
  },
  {
   "cell_type": "code",
   "execution_count": 25,
   "id": "charitable-resource",
   "metadata": {
    "lines_to_next_cell": 1
   },
   "outputs": [],
   "source": [
    "result_set = \"phenomexcan\""
   ]
  },
  {
   "cell_type": "code",
   "execution_count": 26,
   "id": "resistant-syndicate",
   "metadata": {},
   "outputs": [],
   "source": [
    "def get_trait_objs(phenotype_full_code):\n",
    "    if Trait.is_efo_label(phenotype_full_code):\n",
    "        traits = Trait.get_traits_from_efo(phenotype_full_code)\n",
    "    else:\n",
    "        traits = [Trait.get_trait(full_code=phenotype_full_code)]\n",
    "\n",
    "    # sort by sample size\n",
    "    return sorted(traits, key=lambda x: x.n_cases / x.n, reverse=True)\n",
    "\n",
    "\n",
    "def get_trait_description(phenotype_full_code):\n",
    "    traits = get_trait_objs(phenotype_full_code)\n",
    "\n",
    "    desc = traits[0].description\n",
    "    if desc in SHORT_TRAIT_NAMES:\n",
    "        return SHORT_TRAIT_NAMES[desc]\n",
    "\n",
    "    return desc\n",
    "\n",
    "\n",
    "def get_trait_n(phenotype_full_code):\n",
    "    traits = get_trait_objs(phenotype_full_code)\n",
    "\n",
    "    return traits[0].n\n",
    "\n",
    "\n",
    "def get_trait_n_cases(phenotype_full_code):\n",
    "    traits = get_trait_objs(phenotype_full_code)\n",
    "\n",
    "    return traits[0].n_cases\n",
    "\n",
    "\n",
    "def num_to_int_str(num):\n",
    "    if pd.isnull(num):\n",
    "        return \"\"\n",
    "\n",
    "    return f\"{num:,.0f}\"\n",
    "\n",
    "\n",
    "def get_part_clust(row):\n",
    "    return f\"{row.part_k} / {row.cluster_id}\""
   ]
  },
  {
   "cell_type": "code",
   "execution_count": 27,
   "id": "official-qualification",
   "metadata": {},
   "outputs": [],
   "source": [
    "lv_assocs = phenomexcan_lv_trait_assocs[\n",
    "    (phenomexcan_lv_trait_assocs[\"lv\"] == LV_NAME)\n",
    "    & (phenomexcan_lv_trait_assocs[\"fdr\"] < 0.05)\n",
    "].sort_values(\"fdr\")"
   ]
  },
  {
   "cell_type": "code",
   "execution_count": 28,
   "id": "green-lotus",
   "metadata": {},
   "outputs": [
    {
     "data": {
      "text/html": [
       "<div>\n",
       "<style scoped>\n",
       "    .dataframe tbody tr th:only-of-type {\n",
       "        vertical-align: middle;\n",
       "    }\n",
       "\n",
       "    .dataframe tbody tr th {\n",
       "        vertical-align: top;\n",
       "    }\n",
       "\n",
       "    .dataframe thead th {\n",
       "        text-align: right;\n",
       "    }\n",
       "</style>\n",
       "<table border=\"1\" class=\"dataframe\">\n",
       "  <thead>\n",
       "    <tr style=\"text-align: right;\">\n",
       "      <th></th>\n",
       "      <th>part_k</th>\n",
       "      <th>cluster_id</th>\n",
       "      <th>phenotype</th>\n",
       "      <th>lv</th>\n",
       "      <th>coef</th>\n",
       "      <th>pvalue</th>\n",
       "      <th>pvalue_twosided</th>\n",
       "      <th>fdr</th>\n",
       "    </tr>\n",
       "  </thead>\n",
       "  <tbody>\n",
       "    <tr>\n",
       "      <th>5189</th>\n",
       "      <td>29</td>\n",
       "      <td>8</td>\n",
       "      <td>malabsorption syndrome</td>\n",
       "      <td>LV54</td>\n",
       "      <td>0.136650</td>\n",
       "      <td>2.465566e-27</td>\n",
       "      <td>4.931131e-27</td>\n",
       "      <td>3.099109e-25</td>\n",
       "    </tr>\n",
       "    <tr>\n",
       "      <th>4687</th>\n",
       "      <td>29</td>\n",
       "      <td>8</td>\n",
       "      <td>K11_COELIAC-Coeliac_disease</td>\n",
       "      <td>LV54</td>\n",
       "      <td>0.135870</td>\n",
       "      <td>3.915065e-27</td>\n",
       "      <td>7.830130e-27</td>\n",
       "      <td>4.775450e-25</td>\n",
       "    </tr>\n",
       "    <tr>\n",
       "      <th>4271</th>\n",
       "      <td>29</td>\n",
       "      <td>13</td>\n",
       "      <td>6144_3-Never_eat_eggs_dairy_wheat_sugar_Wheat_products</td>\n",
       "      <td>LV54</td>\n",
       "      <td>0.130512</td>\n",
       "      <td>3.802965e-25</td>\n",
       "      <td>7.605929e-25</td>\n",
       "      <td>3.926561e-23</td>\n",
       "    </tr>\n",
       "    <tr>\n",
       "      <th>5380</th>\n",
       "      <td>29</td>\n",
       "      <td>26</td>\n",
       "      <td>systemic lupus erythematosus</td>\n",
       "      <td>LV54</td>\n",
       "      <td>0.129808</td>\n",
       "      <td>8.189427e-25</td>\n",
       "      <td>1.637885e-24</td>\n",
       "      <td>8.164011e-23</td>\n",
       "    </tr>\n",
       "    <tr>\n",
       "      <th>3796</th>\n",
       "      <td>29</td>\n",
       "      <td>13</td>\n",
       "      <td>2986-Started_insulin_within_one_year_diagnosis_of_diabetes</td>\n",
       "      <td>LV54</td>\n",
       "      <td>0.122129</td>\n",
       "      <td>3.197057e-22</td>\n",
       "      <td>6.394115e-22</td>\n",
       "      <td>2.567415e-20</td>\n",
       "    </tr>\n",
       "    <tr>\n",
       "      <th>5100</th>\n",
       "      <td>29</td>\n",
       "      <td>13</td>\n",
       "      <td>hyperthyroidism AND thyrotoxicosis</td>\n",
       "      <td>LV54</td>\n",
       "      <td>0.117063</td>\n",
       "      <td>8.924040e-21</td>\n",
       "      <td>1.784808e-20</td>\n",
       "      <td>6.701143e-19</td>\n",
       "    </tr>\n",
       "    <tr>\n",
       "      <th>2777</th>\n",
       "      <td>29</td>\n",
       "      <td>13</td>\n",
       "      <td>20003_1140883066-Treatmentmedication_code_insulin_product</td>\n",
       "      <td>LV54</td>\n",
       "      <td>0.115292</td>\n",
       "      <td>5.013609e-20</td>\n",
       "      <td>1.002722e-19</td>\n",
       "      <td>3.623586e-18</td>\n",
       "    </tr>\n",
       "    <tr>\n",
       "      <th>3788</th>\n",
       "      <td>29</td>\n",
       "      <td>13</td>\n",
       "      <td>2976_raw-Age_diabetes_diagnosed</td>\n",
       "      <td>LV54</td>\n",
       "      <td>0.114140</td>\n",
       "      <td>1.289080e-19</td>\n",
       "      <td>2.578160e-19</td>\n",
       "      <td>9.201803e-18</td>\n",
       "    </tr>\n",
       "    <tr>\n",
       "      <th>4888</th>\n",
       "      <td>29</td>\n",
       "      <td>8</td>\n",
       "      <td>celiac disease</td>\n",
       "      <td>LV54</td>\n",
       "      <td>0.103769</td>\n",
       "      <td>1.632907e-16</td>\n",
       "      <td>3.265814e-16</td>\n",
       "      <td>9.634153e-15</td>\n",
       "    </tr>\n",
       "    <tr>\n",
       "      <th>4498</th>\n",
       "      <td>29</td>\n",
       "      <td>13</td>\n",
       "      <td>6177_3-Medication_for_cholesterol_blood_pressure_or_diabetes_Insulin</td>\n",
       "      <td>LV54</td>\n",
       "      <td>0.100114</td>\n",
       "      <td>1.091992e-15</td>\n",
       "      <td>2.183984e-15</td>\n",
       "      <td>6.013236e-14</td>\n",
       "    </tr>\n",
       "    <tr>\n",
       "      <th>5269</th>\n",
       "      <td>29</td>\n",
       "      <td>13</td>\n",
       "      <td>psoriasis</td>\n",
       "      <td>LV54</td>\n",
       "      <td>0.101359</td>\n",
       "      <td>3.389744e-15</td>\n",
       "      <td>6.779488e-15</td>\n",
       "      <td>1.814768e-13</td>\n",
       "    </tr>\n",
       "    <tr>\n",
       "      <th>5300</th>\n",
       "      <td>29</td>\n",
       "      <td>26</td>\n",
       "      <td>rheumatoid arthritis</td>\n",
       "      <td>LV54</td>\n",
       "      <td>0.098584</td>\n",
       "      <td>4.092202e-15</td>\n",
       "      <td>8.184403e-15</td>\n",
       "      <td>2.170744e-13</td>\n",
       "    </tr>\n",
       "    <tr>\n",
       "      <th>4407</th>\n",
       "      <td>29</td>\n",
       "      <td>13</td>\n",
       "      <td>6153_3-Medication_for_cholesterol_blood_pressure_diabetes_or_take_exogenous_hormones_Insulin</td>\n",
       "      <td>LV54</td>\n",
       "      <td>0.093681</td>\n",
       "      <td>5.724658e-14</td>\n",
       "      <td>1.144932e-13</td>\n",
       "      <td>2.606297e-12</td>\n",
       "    </tr>\n",
       "    <tr>\n",
       "      <th>2795</th>\n",
       "      <td>29</td>\n",
       "      <td>13</td>\n",
       "      <td>20003_1141191044-Treatmentmedication_code_levothyroxine_sodium</td>\n",
       "      <td>LV54</td>\n",
       "      <td>0.084546</td>\n",
       "      <td>1.347656e-11</td>\n",
       "      <td>2.695311e-11</td>\n",
       "      <td>4.253698e-10</td>\n",
       "    </tr>\n",
       "    <tr>\n",
       "      <th>5106</th>\n",
       "      <td>29</td>\n",
       "      <td>13</td>\n",
       "      <td>hypothyroidism AND myxedema</td>\n",
       "      <td>LV54</td>\n",
       "      <td>0.075341</td>\n",
       "      <td>9.741716e-10</td>\n",
       "      <td>1.948343e-09</td>\n",
       "      <td>2.492328e-08</td>\n",
       "    </tr>\n",
       "  </tbody>\n",
       "</table>\n",
       "</div>"
      ],
      "text/plain": [
       "      part_k  cluster_id  \\\n",
       "5189      29           8   \n",
       "4687      29           8   \n",
       "4271      29          13   \n",
       "5380      29          26   \n",
       "3796      29          13   \n",
       "5100      29          13   \n",
       "2777      29          13   \n",
       "3788      29          13   \n",
       "4888      29           8   \n",
       "4498      29          13   \n",
       "5269      29          13   \n",
       "5300      29          26   \n",
       "4407      29          13   \n",
       "2795      29          13   \n",
       "5106      29          13   \n",
       "\n",
       "                                                                                         phenotype  \\\n",
       "5189                                                                        malabsorption syndrome   \n",
       "4687                                                                   K11_COELIAC-Coeliac_disease   \n",
       "4271                                        6144_3-Never_eat_eggs_dairy_wheat_sugar_Wheat_products   \n",
       "5380                                                                  systemic lupus erythematosus   \n",
       "3796                                    2986-Started_insulin_within_one_year_diagnosis_of_diabetes   \n",
       "5100                                                            hyperthyroidism AND thyrotoxicosis   \n",
       "2777                                     20003_1140883066-Treatmentmedication_code_insulin_product   \n",
       "3788                                                               2976_raw-Age_diabetes_diagnosed   \n",
       "4888                                                                                celiac disease   \n",
       "4498                          6177_3-Medication_for_cholesterol_blood_pressure_or_diabetes_Insulin   \n",
       "5269                                                                                     psoriasis   \n",
       "5300                                                                          rheumatoid arthritis   \n",
       "4407  6153_3-Medication_for_cholesterol_blood_pressure_diabetes_or_take_exogenous_hormones_Insulin   \n",
       "2795                                20003_1141191044-Treatmentmedication_code_levothyroxine_sodium   \n",
       "5106                                                                   hypothyroidism AND myxedema   \n",
       "\n",
       "        lv      coef        pvalue  pvalue_twosided           fdr  \n",
       "5189  LV54  0.136650  2.465566e-27     4.931131e-27  3.099109e-25  \n",
       "4687  LV54  0.135870  3.915065e-27     7.830130e-27  4.775450e-25  \n",
       "4271  LV54  0.130512  3.802965e-25     7.605929e-25  3.926561e-23  \n",
       "5380  LV54  0.129808  8.189427e-25     1.637885e-24  8.164011e-23  \n",
       "3796  LV54  0.122129  3.197057e-22     6.394115e-22  2.567415e-20  \n",
       "5100  LV54  0.117063  8.924040e-21     1.784808e-20  6.701143e-19  \n",
       "2777  LV54  0.115292  5.013609e-20     1.002722e-19  3.623586e-18  \n",
       "3788  LV54  0.114140  1.289080e-19     2.578160e-19  9.201803e-18  \n",
       "4888  LV54  0.103769  1.632907e-16     3.265814e-16  9.634153e-15  \n",
       "4498  LV54  0.100114  1.091992e-15     2.183984e-15  6.013236e-14  \n",
       "5269  LV54  0.101359  3.389744e-15     6.779488e-15  1.814768e-13  \n",
       "5300  LV54  0.098584  4.092202e-15     8.184403e-15  2.170744e-13  \n",
       "4407  LV54  0.093681  5.724658e-14     1.144932e-13  2.606297e-12  \n",
       "2795  LV54  0.084546  1.347656e-11     2.695311e-11  4.253698e-10  \n",
       "5106  LV54  0.075341  9.741716e-10     1.948343e-09  2.492328e-08  "
      ]
     },
     "metadata": {},
     "output_type": "display_data"
    }
   ],
   "source": [
    "with pd.option_context(\n",
    "    \"display.max_rows\", None, \"display.max_columns\", None, \"display.max_colwidth\", None\n",
    "):\n",
    "    display(lv_assocs)"
   ]
  },
  {
   "cell_type": "code",
   "execution_count": 29,
   "id": "intended-exclusion",
   "metadata": {},
   "outputs": [],
   "source": [
    "lv_assocs = lv_assocs.assign(\n",
    "    phenotype_desc=lv_assocs[\"phenotype\"].apply(get_trait_description)\n",
    ")"
   ]
  },
  {
   "cell_type": "code",
   "execution_count": 30,
   "id": "sized-monitor",
   "metadata": {},
   "outputs": [],
   "source": [
    "lv_assocs = lv_assocs.assign(n=lv_assocs[\"phenotype\"].apply(get_trait_n))"
   ]
  },
  {
   "cell_type": "code",
   "execution_count": 31,
   "id": "public-azerbaijan",
   "metadata": {},
   "outputs": [],
   "source": [
    "lv_assocs = lv_assocs.assign(n_cases=lv_assocs[\"phenotype\"].apply(get_trait_n_cases))"
   ]
  },
  {
   "cell_type": "code",
   "execution_count": 32,
   "id": "biblical-headline",
   "metadata": {},
   "outputs": [],
   "source": [
    "lv_assocs = lv_assocs.assign(coef=lv_assocs[\"coef\"].apply(lambda x: f\"{x:.3f}\"))"
   ]
  },
  {
   "cell_type": "code",
   "execution_count": 33,
   "id": "regulation-secret",
   "metadata": {},
   "outputs": [],
   "source": [
    "lv_assocs = lv_assocs.assign(\n",
    "    fdr=lv_assocs[\"fdr\"].apply(lambda x: f\"{x:.2e}\".replace(\"-\", \"&#8209;\"))\n",
    ")"
   ]
  },
  {
   "cell_type": "code",
   "execution_count": 34,
   "id": "abstract-facial",
   "metadata": {},
   "outputs": [],
   "source": [
    "lv_assocs = lv_assocs.assign(n=lv_assocs[\"n\"].apply(num_to_int_str))"
   ]
  },
  {
   "cell_type": "code",
   "execution_count": 35,
   "id": "incredible-employee",
   "metadata": {},
   "outputs": [],
   "source": [
    "lv_assocs = lv_assocs.assign(n_cases=lv_assocs[\"n_cases\"].apply(num_to_int_str))"
   ]
  },
  {
   "cell_type": "code",
   "execution_count": 36,
   "id": "superior-melbourne",
   "metadata": {},
   "outputs": [],
   "source": [
    "lv_assocs = lv_assocs.assign(part_clust=lv_assocs.apply(get_part_clust, axis=1))"
   ]
  },
  {
   "cell_type": "code",
   "execution_count": 37,
   "id": "uniform-sixth",
   "metadata": {},
   "outputs": [],
   "source": [
    "lv_assocs = lv_assocs.drop(columns=[\"phenotype\"])"
   ]
  },
  {
   "cell_type": "code",
   "execution_count": 38,
   "id": "temporal-farming",
   "metadata": {},
   "outputs": [
    {
     "data": {
      "text/plain": [
       "(15, 11)"
      ]
     },
     "execution_count": 38,
     "metadata": {},
     "output_type": "execute_result"
    }
   ],
   "source": [
    "lv_assocs.shape"
   ]
  },
  {
   "cell_type": "code",
   "execution_count": 39,
   "id": "magnetic-trunk",
   "metadata": {},
   "outputs": [],
   "source": [
    "lv_assocs = lv_assocs[[\"phenotype_desc\", \"n\", \"n_cases\", \"part_clust\", \"fdr\"]]"
   ]
  },
  {
   "cell_type": "code",
   "execution_count": 40,
   "id": "seven-discrimination",
   "metadata": {},
   "outputs": [],
   "source": [
    "lv_assocs = lv_assocs.rename(\n",
    "    columns={\n",
    "        \"part_clust\": \"Partition / cluster\",\n",
    "        \"lv\": \"Latent variable (LV)\",\n",
    "        #         \"coef\": r\"$\\beta$\",\n",
    "        \"fdr\": \"FDR\",\n",
    "        \"phenotype_desc\": \"Trait description\",\n",
    "        \"n\": \"Sample size\",\n",
    "        \"n_cases\": \"Cases\",\n",
    "    }\n",
    ")"
   ]
  },
  {
   "cell_type": "code",
   "execution_count": 41,
   "id": "liberal-arthritis",
   "metadata": {},
   "outputs": [
    {
     "data": {
      "text/html": [
       "<div>\n",
       "<style scoped>\n",
       "    .dataframe tbody tr th:only-of-type {\n",
       "        vertical-align: middle;\n",
       "    }\n",
       "\n",
       "    .dataframe tbody tr th {\n",
       "        vertical-align: top;\n",
       "    }\n",
       "\n",
       "    .dataframe thead th {\n",
       "        text-align: right;\n",
       "    }\n",
       "</style>\n",
       "<table border=\"1\" class=\"dataframe\">\n",
       "  <thead>\n",
       "    <tr style=\"text-align: right;\">\n",
       "      <th></th>\n",
       "      <th>Trait description</th>\n",
       "      <th>Sample size</th>\n",
       "      <th>Cases</th>\n",
       "      <th>Partition / cluster</th>\n",
       "      <th>FDR</th>\n",
       "    </tr>\n",
       "  </thead>\n",
       "  <tbody>\n",
       "    <tr>\n",
       "      <th>5189</th>\n",
       "      <td>Intestinal malabsorption (ICD10 K90)</td>\n",
       "      <td>361,194</td>\n",
       "      <td>922</td>\n",
       "      <td>29 / 8</td>\n",
       "      <td>3.10e&amp;#8209;25</td>\n",
       "    </tr>\n",
       "    <tr>\n",
       "      <th>4687</th>\n",
       "      <td>Coeliac disease</td>\n",
       "      <td>361,194</td>\n",
       "      <td>842</td>\n",
       "      <td>29 / 8</td>\n",
       "      <td>4.78e&amp;#8209;25</td>\n",
       "    </tr>\n",
       "    <tr>\n",
       "      <th>4271</th>\n",
       "      <td>Never eat: Wheat products</td>\n",
       "      <td>359,777</td>\n",
       "      <td>9,573</td>\n",
       "      <td>29 / 13</td>\n",
       "      <td>3.93e&amp;#8209;23</td>\n",
       "    </tr>\n",
       "    <tr>\n",
       "      <th>5380</th>\n",
       "      <td>Systemic Lupus Erythematosus</td>\n",
       "      <td>23,210</td>\n",
       "      <td>7,219</td>\n",
       "      <td>29 / 26</td>\n",
       "      <td>8.16e&amp;#8209;23</td>\n",
       "    </tr>\n",
       "    <tr>\n",
       "      <th>3796</th>\n",
       "      <td>Started insulin within one year diagnosis of diabetes</td>\n",
       "      <td>16,415</td>\n",
       "      <td>1,999</td>\n",
       "      <td>29 / 13</td>\n",
       "      <td>2.57e&amp;#8209;20</td>\n",
       "    </tr>\n",
       "    <tr>\n",
       "      <th>5100</th>\n",
       "      <td>hyperthyroidism (self-reported)</td>\n",
       "      <td>361,141</td>\n",
       "      <td>2,730</td>\n",
       "      <td>29 / 13</td>\n",
       "      <td>6.70e&amp;#8209;19</td>\n",
       "    </tr>\n",
       "    <tr>\n",
       "      <th>2777</th>\n",
       "      <td>Medication: insulin product</td>\n",
       "      <td>361,141</td>\n",
       "      <td>3,545</td>\n",
       "      <td>29 / 13</td>\n",
       "      <td>3.62e&amp;#8209;18</td>\n",
       "    </tr>\n",
       "    <tr>\n",
       "      <th>3788</th>\n",
       "      <td>Age diabetes diagnosed</td>\n",
       "      <td>16,166</td>\n",
       "      <td></td>\n",
       "      <td>29 / 13</td>\n",
       "      <td>9.20e&amp;#8209;18</td>\n",
       "    </tr>\n",
       "    <tr>\n",
       "      <th>4888</th>\n",
       "      <td>malabsorption/coeliac disease (self-reported)</td>\n",
       "      <td>361,141</td>\n",
       "      <td>1,587</td>\n",
       "      <td>29 / 8</td>\n",
       "      <td>9.63e&amp;#8209;15</td>\n",
       "    </tr>\n",
       "    <tr>\n",
       "      <th>4498</th>\n",
       "      <td>Insulin medication (males)</td>\n",
       "      <td>165,340</td>\n",
       "      <td>2,248</td>\n",
       "      <td>29 / 13</td>\n",
       "      <td>6.01e&amp;#8209;14</td>\n",
       "    </tr>\n",
       "    <tr>\n",
       "      <th>5269</th>\n",
       "      <td>psoriasis (self-reported)</td>\n",
       "      <td>361,141</td>\n",
       "      <td>4,192</td>\n",
       "      <td>29 / 13</td>\n",
       "      <td>1.81e&amp;#8209;13</td>\n",
       "    </tr>\n",
       "    <tr>\n",
       "      <th>5300</th>\n",
       "      <td>Rheumatoid Arthritis</td>\n",
       "      <td>80,799</td>\n",
       "      <td>19,234</td>\n",
       "      <td>29 / 26</td>\n",
       "      <td>2.17e&amp;#8209;13</td>\n",
       "    </tr>\n",
       "    <tr>\n",
       "      <th>4407</th>\n",
       "      <td>Insulin medication (females)</td>\n",
       "      <td>193,148</td>\n",
       "      <td>1,476</td>\n",
       "      <td>29 / 13</td>\n",
       "      <td>2.61e&amp;#8209;12</td>\n",
       "    </tr>\n",
       "    <tr>\n",
       "      <th>2795</th>\n",
       "      <td>Medication: levothyroxine sodium</td>\n",
       "      <td>361,141</td>\n",
       "      <td>14,689</td>\n",
       "      <td>29 / 13</td>\n",
       "      <td>4.25e&amp;#8209;10</td>\n",
       "    </tr>\n",
       "    <tr>\n",
       "      <th>5106</th>\n",
       "      <td>hypothyroidism (self-reported)</td>\n",
       "      <td>361,141</td>\n",
       "      <td>17,574</td>\n",
       "      <td>29 / 13</td>\n",
       "      <td>2.49e&amp;#8209;08</td>\n",
       "    </tr>\n",
       "  </tbody>\n",
       "</table>\n",
       "</div>"
      ],
      "text/plain": [
       "                                          Trait description Sample size  \\\n",
       "5189                   Intestinal malabsorption (ICD10 K90)     361,194   \n",
       "4687                                        Coeliac disease     361,194   \n",
       "4271                              Never eat: Wheat products     359,777   \n",
       "5380                           Systemic Lupus Erythematosus      23,210   \n",
       "3796  Started insulin within one year diagnosis of diabetes      16,415   \n",
       "5100                        hyperthyroidism (self-reported)     361,141   \n",
       "2777                            Medication: insulin product     361,141   \n",
       "3788                                 Age diabetes diagnosed      16,166   \n",
       "4888          malabsorption/coeliac disease (self-reported)     361,141   \n",
       "4498                             Insulin medication (males)     165,340   \n",
       "5269                              psoriasis (self-reported)     361,141   \n",
       "5300                                   Rheumatoid Arthritis      80,799   \n",
       "4407                           Insulin medication (females)     193,148   \n",
       "2795                       Medication: levothyroxine sodium     361,141   \n",
       "5106                         hypothyroidism (self-reported)     361,141   \n",
       "\n",
       "       Cases Partition / cluster             FDR  \n",
       "5189     922              29 / 8  3.10e&#8209;25  \n",
       "4687     842              29 / 8  4.78e&#8209;25  \n",
       "4271   9,573             29 / 13  3.93e&#8209;23  \n",
       "5380   7,219             29 / 26  8.16e&#8209;23  \n",
       "3796   1,999             29 / 13  2.57e&#8209;20  \n",
       "5100   2,730             29 / 13  6.70e&#8209;19  \n",
       "2777   3,545             29 / 13  3.62e&#8209;18  \n",
       "3788                     29 / 13  9.20e&#8209;18  \n",
       "4888   1,587              29 / 8  9.63e&#8209;15  \n",
       "4498   2,248             29 / 13  6.01e&#8209;14  \n",
       "5269   4,192             29 / 13  1.81e&#8209;13  \n",
       "5300  19,234             29 / 26  2.17e&#8209;13  \n",
       "4407   1,476             29 / 13  2.61e&#8209;12  \n",
       "2795  14,689             29 / 13  4.25e&#8209;10  \n",
       "5106  17,574             29 / 13  2.49e&#8209;08  "
      ]
     },
     "metadata": {},
     "output_type": "display_data"
    }
   ],
   "source": [
    "with pd.option_context(\n",
    "    \"display.max_rows\", None, \"display.max_columns\", None, \"display.max_colwidth\", None\n",
    "):\n",
    "    display(lv_assocs)"
   ]
  },
  {
   "cell_type": "markdown",
   "id": "spanish-profile",
   "metadata": {},
   "source": [
    "### Fill empty"
   ]
  },
  {
   "cell_type": "code",
   "execution_count": 42,
   "id": "industrial-familiar",
   "metadata": {},
   "outputs": [],
   "source": [
    "if lv_assocs.shape[0] == 0:\n",
    "    lv_assocs.loc[0, \"Trait description\"] = \"No significant associations\"\n",
    "    lv_assocs = lv_assocs.fillna(\"\")"
   ]
  },
  {
   "cell_type": "markdown",
   "id": "economic-explanation",
   "metadata": {},
   "source": [
    "### Save"
   ]
  },
  {
   "cell_type": "code",
   "execution_count": 43,
   "id": "hearing-objective",
   "metadata": {},
   "outputs": [
    {
     "data": {
      "text/plain": [
       "'<!-- LV54:phenomexcan_traits_assocs:start -->'"
      ]
     },
     "metadata": {},
     "output_type": "display_data"
    },
    {
     "data": {
      "text/plain": [
       "'<!-- LV54:phenomexcan_traits_assocs:end -->'"
      ]
     },
     "metadata": {},
     "output_type": "display_data"
    }
   ],
   "source": [
    "# start\n",
    "lv_file_mark_start = LV_FILE_MARK_TEMPLATE.format(\n",
    "    result_set=result_set, lv=LV_NAME, position=\"start\"\n",
    ")\n",
    "display(lv_file_mark_start)\n",
    "\n",
    "# end\n",
    "lv_file_mark_end = LV_FILE_MARK_TEMPLATE.format(\n",
    "    result_set=result_set, lv=LV_NAME, position=\"end\"\n",
    ")\n",
    "display(lv_file_mark_end)"
   ]
  },
  {
   "cell_type": "code",
   "execution_count": 44,
   "id": "accessory-possession",
   "metadata": {},
   "outputs": [],
   "source": [
    "new_content = lv_assocs.to_markdown(index=False, disable_numparse=True)"
   ]
  },
  {
   "cell_type": "code",
   "execution_count": 45,
   "id": "metallic-tiffany",
   "metadata": {},
   "outputs": [
    {
     "data": {
      "text/plain": [
       "'Table: Significant trait associations of LV54 in PhenomeXcan. {#tbl:sup:phenomexcan_assocs:lv54}'"
      ]
     },
     "metadata": {},
     "output_type": "display_data"
    }
   ],
   "source": [
    "# add table caption\n",
    "table_caption = TABLE_CAPTION.format(\n",
    "    lv_name=LV_NAME,\n",
    "    result_set_name=RESULT_SET_NAMES[result_set],\n",
    "    table_id=\"{\"\n",
    "    + TABLE_CAPTION_ID.format(result_set=result_set, lv_name_lower_case=LV_NAME.lower())\n",
    "    + \"}\",\n",
    ")\n",
    "display(table_caption)"
   ]
  },
  {
   "cell_type": "code",
   "execution_count": 46,
   "id": "moderate-diagnosis",
   "metadata": {},
   "outputs": [],
   "source": [
    "new_content += \"\\n\\n\" + table_caption"
   ]
  },
  {
   "cell_type": "code",
   "execution_count": 47,
   "id": "sunrise-projector",
   "metadata": {},
   "outputs": [],
   "source": [
    "full_new_content = (\n",
    "    lv_file_mark_start + \"\\n\" + new_content.strip() + \"\\n\" + lv_file_mark_end\n",
    ")"
   ]
  },
  {
   "cell_type": "code",
   "execution_count": 48,
   "id": "plastic-accounting",
   "metadata": {},
   "outputs": [],
   "source": [
    "with open(OUTPUT_FILE_PATH, \"r\", encoding=\"utf8\") as f:\n",
    "    file_content = f.read()"
   ]
  },
  {
   "cell_type": "code",
   "execution_count": 49,
   "id": "consecutive-sunset",
   "metadata": {},
   "outputs": [],
   "source": [
    "new_file_content = re.sub(\n",
    "    lv_file_mark_start + \".*?\" + lv_file_mark_end,\n",
    "    full_new_content,\n",
    "    file_content,\n",
    "    flags=re.DOTALL,\n",
    ")"
   ]
  },
  {
   "cell_type": "code",
   "execution_count": 50,
   "id": "related-carry",
   "metadata": {},
   "outputs": [],
   "source": [
    "with open(OUTPUT_FILE_PATH, \"w\", encoding=\"utf8\") as f:\n",
    "    f.write(new_file_content)  # .replace(\"\\beta\", r\"\\beta\"))"
   ]
  },
  {
   "cell_type": "markdown",
   "id": "tutorial-tobacco",
   "metadata": {},
   "source": [
    "## eMERGE"
   ]
  },
  {
   "cell_type": "code",
   "execution_count": 51,
   "id": "weekly-jacksonville",
   "metadata": {},
   "outputs": [],
   "source": [
    "result_set = \"emerge\""
   ]
  },
  {
   "cell_type": "code",
   "execution_count": 52,
   "id": "connected-business",
   "metadata": {},
   "outputs": [],
   "source": [
    "lv_assocs = emerge_lv_trait_assocs[\n",
    "    (emerge_lv_trait_assocs[\"lv\"] == LV_NAME) & (emerge_lv_trait_assocs[\"fdr\"] < 0.05)\n",
    "].sort_values(\"fdr\")"
   ]
  },
  {
   "cell_type": "code",
   "execution_count": 53,
   "id": "hungry-public",
   "metadata": {},
   "outputs": [
    {
     "data": {
      "text/html": [
       "<div>\n",
       "<style scoped>\n",
       "    .dataframe tbody tr th:only-of-type {\n",
       "        vertical-align: middle;\n",
       "    }\n",
       "\n",
       "    .dataframe tbody tr th {\n",
       "        vertical-align: top;\n",
       "    }\n",
       "\n",
       "    .dataframe thead th {\n",
       "        text-align: right;\n",
       "    }\n",
       "</style>\n",
       "<table border=\"1\" class=\"dataframe\">\n",
       "  <thead>\n",
       "    <tr style=\"text-align: right;\">\n",
       "      <th></th>\n",
       "      <th>phenotype</th>\n",
       "      <th>lv</th>\n",
       "      <th>coef</th>\n",
       "      <th>pvalue</th>\n",
       "      <th>pvalue_twosided</th>\n",
       "      <th>fdr</th>\n",
       "    </tr>\n",
       "  </thead>\n",
       "  <tbody>\n",
       "    <tr>\n",
       "      <th>867</th>\n",
       "      <td>250.1</td>\n",
       "      <td>LV54</td>\n",
       "      <td>0.105369</td>\n",
       "      <td>2.184681e-17</td>\n",
       "      <td>4.369361e-17</td>\n",
       "      <td>1.687666e-13</td>\n",
       "    </tr>\n",
       "    <tr>\n",
       "      <th>727</th>\n",
       "      <td>244</td>\n",
       "      <td>LV54</td>\n",
       "      <td>0.069915</td>\n",
       "      <td>1.257013e-08</td>\n",
       "      <td>2.514026e-08</td>\n",
       "      <td>1.008865e-05</td>\n",
       "    </tr>\n",
       "    <tr>\n",
       "      <th>788</th>\n",
       "      <td>244.4</td>\n",
       "      <td>LV54</td>\n",
       "      <td>0.069773</td>\n",
       "      <td>1.436572e-08</td>\n",
       "      <td>2.873144e-08</td>\n",
       "      <td>1.008865e-05</td>\n",
       "    </tr>\n",
       "    <tr>\n",
       "      <th>6893</th>\n",
       "      <td>695</td>\n",
       "      <td>LV54</td>\n",
       "      <td>0.063737</td>\n",
       "      <td>1.548398e-07</td>\n",
       "      <td>3.096795e-07</td>\n",
       "      <td>8.543836e-05</td>\n",
       "    </tr>\n",
       "    <tr>\n",
       "      <th>7073</th>\n",
       "      <td>714</td>\n",
       "      <td>LV54</td>\n",
       "      <td>0.060096</td>\n",
       "      <td>1.702623e-06</td>\n",
       "      <td>3.405245e-06</td>\n",
       "      <td>6.576380e-04</td>\n",
       "    </tr>\n",
       "    <tr>\n",
       "      <th>4498</th>\n",
       "      <td>440</td>\n",
       "      <td>LV54</td>\n",
       "      <td>0.054621</td>\n",
       "      <td>5.418659e-06</td>\n",
       "      <td>1.083732e-05</td>\n",
       "      <td>1.902688e-03</td>\n",
       "    </tr>\n",
       "    <tr>\n",
       "      <th>6255</th>\n",
       "      <td>585</td>\n",
       "      <td>LV54</td>\n",
       "      <td>0.049424</td>\n",
       "      <td>3.306920e-05</td>\n",
       "      <td>6.613840e-05</td>\n",
       "      <td>7.096099e-03</td>\n",
       "    </tr>\n",
       "    <tr>\n",
       "      <th>6397</th>\n",
       "      <td>585.33</td>\n",
       "      <td>LV54</td>\n",
       "      <td>0.049063</td>\n",
       "      <td>3.780752e-05</td>\n",
       "      <td>7.561503e-05</td>\n",
       "      <td>7.488796e-03</td>\n",
       "    </tr>\n",
       "    <tr>\n",
       "      <th>6356</th>\n",
       "      <td>585.32</td>\n",
       "      <td>LV54</td>\n",
       "      <td>0.049409</td>\n",
       "      <td>3.737712e-05</td>\n",
       "      <td>7.475423e-05</td>\n",
       "      <td>7.488796e-03</td>\n",
       "    </tr>\n",
       "    <tr>\n",
       "      <th>1002</th>\n",
       "      <td>250.6</td>\n",
       "      <td>LV54</td>\n",
       "      <td>0.048784</td>\n",
       "      <td>4.425391e-05</td>\n",
       "      <td>8.850781e-05</td>\n",
       "      <td>8.546536e-03</td>\n",
       "    </tr>\n",
       "    <tr>\n",
       "      <th>837</th>\n",
       "      <td>250</td>\n",
       "      <td>LV54</td>\n",
       "      <td>0.048029</td>\n",
       "      <td>5.543245e-05</td>\n",
       "      <td>1.108649e-04</td>\n",
       "      <td>1.019561e-02</td>\n",
       "    </tr>\n",
       "    <tr>\n",
       "      <th>1878</th>\n",
       "      <td>285.2</td>\n",
       "      <td>LV54</td>\n",
       "      <td>0.045311</td>\n",
       "      <td>1.161837e-04</td>\n",
       "      <td>2.323674e-04</td>\n",
       "      <td>1.639031e-02</td>\n",
       "    </tr>\n",
       "    <tr>\n",
       "      <th>5188</th>\n",
       "      <td>502</td>\n",
       "      <td>LV54</td>\n",
       "      <td>0.045776</td>\n",
       "      <td>1.309182e-04</td>\n",
       "      <td>2.618363e-04</td>\n",
       "      <td>1.774286e-02</td>\n",
       "    </tr>\n",
       "    <tr>\n",
       "      <th>3286</th>\n",
       "      <td>415.1</td>\n",
       "      <td>LV54</td>\n",
       "      <td>0.045328</td>\n",
       "      <td>1.438600e-04</td>\n",
       "      <td>2.877199e-04</td>\n",
       "      <td>1.876305e-02</td>\n",
       "    </tr>\n",
       "    <tr>\n",
       "      <th>1908</th>\n",
       "      <td>285.21</td>\n",
       "      <td>LV54</td>\n",
       "      <td>0.043683</td>\n",
       "      <td>2.249688e-04</td>\n",
       "      <td>4.499377e-04</td>\n",
       "      <td>2.531337e-02</td>\n",
       "    </tr>\n",
       "    <tr>\n",
       "      <th>6329</th>\n",
       "      <td>585.3</td>\n",
       "      <td>LV54</td>\n",
       "      <td>0.043259</td>\n",
       "      <td>2.476795e-04</td>\n",
       "      <td>4.953591e-04</td>\n",
       "      <td>2.623057e-02</td>\n",
       "    </tr>\n",
       "    <tr>\n",
       "      <th>7503</th>\n",
       "      <td>743</td>\n",
       "      <td>LV54</td>\n",
       "      <td>0.042790</td>\n",
       "      <td>2.847314e-04</td>\n",
       "      <td>5.694628e-04</td>\n",
       "      <td>2.865450e-02</td>\n",
       "    </tr>\n",
       "    <tr>\n",
       "      <th>3302</th>\n",
       "      <td>415.11</td>\n",
       "      <td>LV54</td>\n",
       "      <td>0.042701</td>\n",
       "      <td>3.182867e-04</td>\n",
       "      <td>6.365733e-04</td>\n",
       "      <td>3.035512e-02</td>\n",
       "    </tr>\n",
       "    <tr>\n",
       "      <th>6150</th>\n",
       "      <td>577</td>\n",
       "      <td>LV54</td>\n",
       "      <td>0.041845</td>\n",
       "      <td>3.367826e-04</td>\n",
       "      <td>6.735652e-04</td>\n",
       "      <td>3.060760e-02</td>\n",
       "    </tr>\n",
       "    <tr>\n",
       "      <th>6275</th>\n",
       "      <td>585.1</td>\n",
       "      <td>LV54</td>\n",
       "      <td>0.041870</td>\n",
       "      <td>3.653779e-04</td>\n",
       "      <td>7.307558e-04</td>\n",
       "      <td>3.225502e-02</td>\n",
       "    </tr>\n",
       "    <tr>\n",
       "      <th>476</th>\n",
       "      <td>195</td>\n",
       "      <td>LV54</td>\n",
       "      <td>0.041758</td>\n",
       "      <td>3.765108e-04</td>\n",
       "      <td>7.530215e-04</td>\n",
       "      <td>3.268029e-02</td>\n",
       "    </tr>\n",
       "    <tr>\n",
       "      <th>2103</th>\n",
       "      <td>289.4</td>\n",
       "      <td>LV54</td>\n",
       "      <td>0.041349</td>\n",
       "      <td>4.415942e-04</td>\n",
       "      <td>8.831885e-04</td>\n",
       "      <td>3.668081e-02</td>\n",
       "    </tr>\n",
       "    <tr>\n",
       "      <th>4510</th>\n",
       "      <td>440.2</td>\n",
       "      <td>LV54</td>\n",
       "      <td>0.040172</td>\n",
       "      <td>6.085076e-04</td>\n",
       "      <td>1.217015e-03</td>\n",
       "      <td>4.519925e-02</td>\n",
       "    </tr>\n",
       "  </tbody>\n",
       "</table>\n",
       "</div>"
      ],
      "text/plain": [
       "     phenotype    lv      coef        pvalue  pvalue_twosided           fdr\n",
       "867      250.1  LV54  0.105369  2.184681e-17     4.369361e-17  1.687666e-13\n",
       "727        244  LV54  0.069915  1.257013e-08     2.514026e-08  1.008865e-05\n",
       "788      244.4  LV54  0.069773  1.436572e-08     2.873144e-08  1.008865e-05\n",
       "6893       695  LV54  0.063737  1.548398e-07     3.096795e-07  8.543836e-05\n",
       "7073       714  LV54  0.060096  1.702623e-06     3.405245e-06  6.576380e-04\n",
       "4498       440  LV54  0.054621  5.418659e-06     1.083732e-05  1.902688e-03\n",
       "6255       585  LV54  0.049424  3.306920e-05     6.613840e-05  7.096099e-03\n",
       "6397    585.33  LV54  0.049063  3.780752e-05     7.561503e-05  7.488796e-03\n",
       "6356    585.32  LV54  0.049409  3.737712e-05     7.475423e-05  7.488796e-03\n",
       "1002     250.6  LV54  0.048784  4.425391e-05     8.850781e-05  8.546536e-03\n",
       "837        250  LV54  0.048029  5.543245e-05     1.108649e-04  1.019561e-02\n",
       "1878     285.2  LV54  0.045311  1.161837e-04     2.323674e-04  1.639031e-02\n",
       "5188       502  LV54  0.045776  1.309182e-04     2.618363e-04  1.774286e-02\n",
       "3286     415.1  LV54  0.045328  1.438600e-04     2.877199e-04  1.876305e-02\n",
       "1908    285.21  LV54  0.043683  2.249688e-04     4.499377e-04  2.531337e-02\n",
       "6329     585.3  LV54  0.043259  2.476795e-04     4.953591e-04  2.623057e-02\n",
       "7503       743  LV54  0.042790  2.847314e-04     5.694628e-04  2.865450e-02\n",
       "3302    415.11  LV54  0.042701  3.182867e-04     6.365733e-04  3.035512e-02\n",
       "6150       577  LV54  0.041845  3.367826e-04     6.735652e-04  3.060760e-02\n",
       "6275     585.1  LV54  0.041870  3.653779e-04     7.307558e-04  3.225502e-02\n",
       "476        195  LV54  0.041758  3.765108e-04     7.530215e-04  3.268029e-02\n",
       "2103     289.4  LV54  0.041349  4.415942e-04     8.831885e-04  3.668081e-02\n",
       "4510     440.2  LV54  0.040172  6.085076e-04     1.217015e-03  4.519925e-02"
      ]
     },
     "metadata": {},
     "output_type": "display_data"
    }
   ],
   "source": [
    "with pd.option_context(\n",
    "    \"display.max_rows\", None, \"display.max_columns\", None, \"display.max_colwidth\", None\n",
    "):\n",
    "    display(lv_assocs)"
   ]
  },
  {
   "cell_type": "code",
   "execution_count": 54,
   "id": "forward-preparation",
   "metadata": {},
   "outputs": [],
   "source": [
    "lv_assocs = lv_assocs.assign(\n",
    "    phenotype_desc=lv_assocs[\"phenotype\"].apply(\n",
    "        lambda x: emerge_traits_info.loc[x, \"phenotype\"]\n",
    "    )\n",
    ")"
   ]
  },
  {
   "cell_type": "code",
   "execution_count": 55,
   "id": "scheduled-undergraduate",
   "metadata": {},
   "outputs": [],
   "source": [
    "lv_assocs = lv_assocs.assign(\n",
    "    n=lv_assocs[\"phenotype\"].apply(\n",
    "        lambda x: emerge_traits_info.loc[x, [\"eur_n_cases\", \"eur_n_controls\"]].sum()\n",
    "    )\n",
    ")"
   ]
  },
  {
   "cell_type": "code",
   "execution_count": 56,
   "id": "better-solution",
   "metadata": {},
   "outputs": [],
   "source": [
    "lv_assocs = lv_assocs.assign(\n",
    "    n_cases=lv_assocs[\"phenotype\"].apply(\n",
    "        lambda x: emerge_traits_info.loc[x, \"eur_n_cases\"]\n",
    "    )\n",
    ")"
   ]
  },
  {
   "cell_type": "code",
   "execution_count": 57,
   "id": "fitting-belief",
   "metadata": {},
   "outputs": [],
   "source": [
    "lv_assocs = lv_assocs.assign(coef=lv_assocs[\"coef\"].apply(lambda x: f\"{x:.3f}\"))"
   ]
  },
  {
   "cell_type": "code",
   "execution_count": 58,
   "id": "third-wonder",
   "metadata": {},
   "outputs": [],
   "source": [
    "lv_assocs = lv_assocs.assign(\n",
    "    fdr=lv_assocs[\"fdr\"].apply(lambda x: f\"{x:.2e}\".replace(\"-\", \"&#8209;\"))\n",
    ")"
   ]
  },
  {
   "cell_type": "code",
   "execution_count": 59,
   "id": "tamil-fiction",
   "metadata": {},
   "outputs": [],
   "source": [
    "lv_assocs = lv_assocs.assign(n=lv_assocs[\"n\"].apply(num_to_int_str))"
   ]
  },
  {
   "cell_type": "code",
   "execution_count": 60,
   "id": "available-coffee",
   "metadata": {},
   "outputs": [],
   "source": [
    "lv_assocs = lv_assocs.assign(n_cases=lv_assocs[\"n_cases\"].apply(num_to_int_str))"
   ]
  },
  {
   "cell_type": "code",
   "execution_count": 61,
   "id": "pharmaceutical-dubai",
   "metadata": {},
   "outputs": [],
   "source": [
    "lv_assocs = lv_assocs.rename(columns={\"phenotype\": \"phecode\"})"
   ]
  },
  {
   "cell_type": "code",
   "execution_count": 62,
   "id": "coordinate-announcement",
   "metadata": {},
   "outputs": [
    {
     "data": {
      "text/plain": [
       "(23, 9)"
      ]
     },
     "execution_count": 62,
     "metadata": {},
     "output_type": "execute_result"
    }
   ],
   "source": [
    "lv_assocs.shape"
   ]
  },
  {
   "cell_type": "code",
   "execution_count": 63,
   "id": "delayed-silence",
   "metadata": {},
   "outputs": [],
   "source": [
    "lv_assocs = lv_assocs[[\"phecode\", \"phenotype_desc\", \"n\", \"n_cases\", \"fdr\"]]"
   ]
  },
  {
   "cell_type": "code",
   "execution_count": 64,
   "id": "solar-station",
   "metadata": {},
   "outputs": [],
   "source": [
    "lv_assocs = lv_assocs.rename(\n",
    "    columns={\n",
    "        \"lv\": \"Latent variable (LV)\",\n",
    "        #         \"coef\": r\"$\\beta$\",\n",
    "        \"fdr\": \"FDR\",\n",
    "        \"phecode\": \"Phecode\",\n",
    "        \"phenotype_desc\": \"Trait description\",\n",
    "        \"n\": \"Sample size\",\n",
    "        \"n_cases\": \"Cases\",\n",
    "    }\n",
    ")"
   ]
  },
  {
   "cell_type": "code",
   "execution_count": 65,
   "id": "original-raise",
   "metadata": {},
   "outputs": [
    {
     "data": {
      "text/html": [
       "<div>\n",
       "<style scoped>\n",
       "    .dataframe tbody tr th:only-of-type {\n",
       "        vertical-align: middle;\n",
       "    }\n",
       "\n",
       "    .dataframe tbody tr th {\n",
       "        vertical-align: top;\n",
       "    }\n",
       "\n",
       "    .dataframe thead th {\n",
       "        text-align: right;\n",
       "    }\n",
       "</style>\n",
       "<table border=\"1\" class=\"dataframe\">\n",
       "  <thead>\n",
       "    <tr style=\"text-align: right;\">\n",
       "      <th></th>\n",
       "      <th>Phecode</th>\n",
       "      <th>Trait description</th>\n",
       "      <th>Sample size</th>\n",
       "      <th>Cases</th>\n",
       "      <th>FDR</th>\n",
       "    </tr>\n",
       "  </thead>\n",
       "  <tbody>\n",
       "    <tr>\n",
       "      <th>867</th>\n",
       "      <td>250.1</td>\n",
       "      <td>Type 1 diabetes</td>\n",
       "      <td>42,723</td>\n",
       "      <td>2,450</td>\n",
       "      <td>1.69e&amp;#8209;13</td>\n",
       "    </tr>\n",
       "    <tr>\n",
       "      <th>727</th>\n",
       "      <td>244</td>\n",
       "      <td>Hypothyroidism</td>\n",
       "      <td>54,404</td>\n",
       "      <td>9,720</td>\n",
       "      <td>1.01e&amp;#8209;05</td>\n",
       "    </tr>\n",
       "    <tr>\n",
       "      <th>788</th>\n",
       "      <td>244.4</td>\n",
       "      <td>Hypothyroidism NOS</td>\n",
       "      <td>53,968</td>\n",
       "      <td>9,284</td>\n",
       "      <td>1.01e&amp;#8209;05</td>\n",
       "    </tr>\n",
       "    <tr>\n",
       "      <th>6893</th>\n",
       "      <td>695</td>\n",
       "      <td>Erythematous conditions</td>\n",
       "      <td>48,347</td>\n",
       "      <td>4,210</td>\n",
       "      <td>8.54e&amp;#8209;05</td>\n",
       "    </tr>\n",
       "    <tr>\n",
       "      <th>7073</th>\n",
       "      <td>714</td>\n",
       "      <td>Rheumatoid arthritis and other inflammatory polyarthropathies</td>\n",
       "      <td>50,215</td>\n",
       "      <td>3,303</td>\n",
       "      <td>6.58e&amp;#8209;04</td>\n",
       "    </tr>\n",
       "    <tr>\n",
       "      <th>4498</th>\n",
       "      <td>440</td>\n",
       "      <td>Atherosclerosis</td>\n",
       "      <td>47,471</td>\n",
       "      <td>4,993</td>\n",
       "      <td>1.90e&amp;#8209;03</td>\n",
       "    </tr>\n",
       "    <tr>\n",
       "      <th>6255</th>\n",
       "      <td>585</td>\n",
       "      <td>Renal failure</td>\n",
       "      <td>51,437</td>\n",
       "      <td>9,970</td>\n",
       "      <td>7.10e&amp;#8209;03</td>\n",
       "    </tr>\n",
       "    <tr>\n",
       "      <th>6397</th>\n",
       "      <td>585.33</td>\n",
       "      <td>Chronic Kidney Disease, Stage III</td>\n",
       "      <td>46,279</td>\n",
       "      <td>4,812</td>\n",
       "      <td>7.49e&amp;#8209;03</td>\n",
       "    </tr>\n",
       "    <tr>\n",
       "      <th>6356</th>\n",
       "      <td>585.32</td>\n",
       "      <td>End stage renal disease</td>\n",
       "      <td>43,309</td>\n",
       "      <td>1,842</td>\n",
       "      <td>7.49e&amp;#8209;03</td>\n",
       "    </tr>\n",
       "    <tr>\n",
       "      <th>1002</th>\n",
       "      <td>250.6</td>\n",
       "      <td>Polyneuropathy in diabetes</td>\n",
       "      <td>41,948</td>\n",
       "      <td>1,675</td>\n",
       "      <td>8.55e&amp;#8209;03</td>\n",
       "    </tr>\n",
       "    <tr>\n",
       "      <th>837</th>\n",
       "      <td>250</td>\n",
       "      <td>Diabetes mellitus</td>\n",
       "      <td>52,531</td>\n",
       "      <td>12,258</td>\n",
       "      <td>1.02e&amp;#8209;02</td>\n",
       "    </tr>\n",
       "    <tr>\n",
       "      <th>1878</th>\n",
       "      <td>285.2</td>\n",
       "      <td>Anemia of chronic disease</td>\n",
       "      <td>39,673</td>\n",
       "      <td>2,606</td>\n",
       "      <td>1.64e&amp;#8209;02</td>\n",
       "    </tr>\n",
       "    <tr>\n",
       "      <th>5188</th>\n",
       "      <td>502</td>\n",
       "      <td>Postinflammatory pulmonary fibrosis</td>\n",
       "      <td>42,396</td>\n",
       "      <td>1,723</td>\n",
       "      <td>1.77e&amp;#8209;02</td>\n",
       "    </tr>\n",
       "    <tr>\n",
       "      <th>3286</th>\n",
       "      <td>415.1</td>\n",
       "      <td>Acute pulmonary heart disease</td>\n",
       "      <td>49,887</td>\n",
       "      <td>1,857</td>\n",
       "      <td>1.88e&amp;#8209;02</td>\n",
       "    </tr>\n",
       "    <tr>\n",
       "      <th>1908</th>\n",
       "      <td>285.21</td>\n",
       "      <td>Anemia in chronic kidney disease</td>\n",
       "      <td>38,616</td>\n",
       "      <td>1,549</td>\n",
       "      <td>2.53e&amp;#8209;02</td>\n",
       "    </tr>\n",
       "    <tr>\n",
       "      <th>6329</th>\n",
       "      <td>585.3</td>\n",
       "      <td>Chronic renal failure [CKD]</td>\n",
       "      <td>49,204</td>\n",
       "      <td>7,737</td>\n",
       "      <td>2.62e&amp;#8209;02</td>\n",
       "    </tr>\n",
       "    <tr>\n",
       "      <th>7503</th>\n",
       "      <td>743</td>\n",
       "      <td>Osteoporosis, osteopenia and pathological fracture</td>\n",
       "      <td>55,165</td>\n",
       "      <td>11,990</td>\n",
       "      <td>2.87e&amp;#8209;02</td>\n",
       "    </tr>\n",
       "    <tr>\n",
       "      <th>3302</th>\n",
       "      <td>415.11</td>\n",
       "      <td>Pulmonary embolism and infarction, acute</td>\n",
       "      <td>49,867</td>\n",
       "      <td>1,837</td>\n",
       "      <td>3.04e&amp;#8209;02</td>\n",
       "    </tr>\n",
       "    <tr>\n",
       "      <th>6150</th>\n",
       "      <td>577</td>\n",
       "      <td>Diseases of pancreas</td>\n",
       "      <td>60,538</td>\n",
       "      <td>1,795</td>\n",
       "      <td>3.06e&amp;#8209;02</td>\n",
       "    </tr>\n",
       "    <tr>\n",
       "      <th>6275</th>\n",
       "      <td>585.1</td>\n",
       "      <td>Acute renal failure</td>\n",
       "      <td>46,803</td>\n",
       "      <td>5,336</td>\n",
       "      <td>3.23e&amp;#8209;02</td>\n",
       "    </tr>\n",
       "    <tr>\n",
       "      <th>476</th>\n",
       "      <td>195</td>\n",
       "      <td>Cancer, suspected or other</td>\n",
       "      <td>50,040</td>\n",
       "      <td>2,250</td>\n",
       "      <td>3.27e&amp;#8209;02</td>\n",
       "    </tr>\n",
       "    <tr>\n",
       "      <th>2103</th>\n",
       "      <td>289.4</td>\n",
       "      <td>Lymphadenitis</td>\n",
       "      <td>47,564</td>\n",
       "      <td>3,078</td>\n",
       "      <td>3.67e&amp;#8209;02</td>\n",
       "    </tr>\n",
       "    <tr>\n",
       "      <th>4510</th>\n",
       "      <td>440.2</td>\n",
       "      <td>Atherosclerosis of the extremities</td>\n",
       "      <td>45,524</td>\n",
       "      <td>3,046</td>\n",
       "      <td>4.52e&amp;#8209;02</td>\n",
       "    </tr>\n",
       "  </tbody>\n",
       "</table>\n",
       "</div>"
      ],
      "text/plain": [
       "     Phecode                                              Trait description  \\\n",
       "867    250.1                                                Type 1 diabetes   \n",
       "727      244                                                 Hypothyroidism   \n",
       "788    244.4                                             Hypothyroidism NOS   \n",
       "6893     695                                        Erythematous conditions   \n",
       "7073     714  Rheumatoid arthritis and other inflammatory polyarthropathies   \n",
       "4498     440                                                Atherosclerosis   \n",
       "6255     585                                                  Renal failure   \n",
       "6397  585.33                              Chronic Kidney Disease, Stage III   \n",
       "6356  585.32                                        End stage renal disease   \n",
       "1002   250.6                                     Polyneuropathy in diabetes   \n",
       "837      250                                              Diabetes mellitus   \n",
       "1878   285.2                                      Anemia of chronic disease   \n",
       "5188     502                            Postinflammatory pulmonary fibrosis   \n",
       "3286   415.1                                  Acute pulmonary heart disease   \n",
       "1908  285.21                               Anemia in chronic kidney disease   \n",
       "6329   585.3                                    Chronic renal failure [CKD]   \n",
       "7503     743             Osteoporosis, osteopenia and pathological fracture   \n",
       "3302  415.11                       Pulmonary embolism and infarction, acute   \n",
       "6150     577                                           Diseases of pancreas   \n",
       "6275   585.1                                            Acute renal failure   \n",
       "476      195                                     Cancer, suspected or other   \n",
       "2103   289.4                                                  Lymphadenitis   \n",
       "4510   440.2                             Atherosclerosis of the extremities   \n",
       "\n",
       "     Sample size   Cases             FDR  \n",
       "867       42,723   2,450  1.69e&#8209;13  \n",
       "727       54,404   9,720  1.01e&#8209;05  \n",
       "788       53,968   9,284  1.01e&#8209;05  \n",
       "6893      48,347   4,210  8.54e&#8209;05  \n",
       "7073      50,215   3,303  6.58e&#8209;04  \n",
       "4498      47,471   4,993  1.90e&#8209;03  \n",
       "6255      51,437   9,970  7.10e&#8209;03  \n",
       "6397      46,279   4,812  7.49e&#8209;03  \n",
       "6356      43,309   1,842  7.49e&#8209;03  \n",
       "1002      41,948   1,675  8.55e&#8209;03  \n",
       "837       52,531  12,258  1.02e&#8209;02  \n",
       "1878      39,673   2,606  1.64e&#8209;02  \n",
       "5188      42,396   1,723  1.77e&#8209;02  \n",
       "3286      49,887   1,857  1.88e&#8209;02  \n",
       "1908      38,616   1,549  2.53e&#8209;02  \n",
       "6329      49,204   7,737  2.62e&#8209;02  \n",
       "7503      55,165  11,990  2.87e&#8209;02  \n",
       "3302      49,867   1,837  3.04e&#8209;02  \n",
       "6150      60,538   1,795  3.06e&#8209;02  \n",
       "6275      46,803   5,336  3.23e&#8209;02  \n",
       "476       50,040   2,250  3.27e&#8209;02  \n",
       "2103      47,564   3,078  3.67e&#8209;02  \n",
       "4510      45,524   3,046  4.52e&#8209;02  "
      ]
     },
     "metadata": {},
     "output_type": "display_data"
    }
   ],
   "source": [
    "with pd.option_context(\n",
    "    \"display.max_rows\", None, \"display.max_columns\", None, \"display.max_colwidth\", None\n",
    "):\n",
    "    display(lv_assocs)"
   ]
  },
  {
   "cell_type": "markdown",
   "id": "executed-relative",
   "metadata": {},
   "source": [
    "### Fill empty"
   ]
  },
  {
   "cell_type": "code",
   "execution_count": 66,
   "id": "surgical-xerox",
   "metadata": {},
   "outputs": [],
   "source": [
    "if lv_assocs.shape[0] == 0:\n",
    "    lv_assocs.loc[0, \"Phecode\"] = \"No significant associations\"\n",
    "    lv_assocs = lv_assocs.fillna(\"\")"
   ]
  },
  {
   "cell_type": "markdown",
   "id": "urban-tuner",
   "metadata": {},
   "source": [
    "### Save"
   ]
  },
  {
   "cell_type": "code",
   "execution_count": 67,
   "id": "selected-profit",
   "metadata": {},
   "outputs": [
    {
     "data": {
      "text/plain": [
       "'<!-- LV54:emerge_traits_assocs:start -->'"
      ]
     },
     "metadata": {},
     "output_type": "display_data"
    },
    {
     "data": {
      "text/plain": [
       "'<!-- LV54:emerge_traits_assocs:end -->'"
      ]
     },
     "metadata": {},
     "output_type": "display_data"
    }
   ],
   "source": [
    "# start\n",
    "lv_file_mark_start = LV_FILE_MARK_TEMPLATE.format(\n",
    "    result_set=result_set, lv=LV_NAME, position=\"start\"\n",
    ")\n",
    "display(lv_file_mark_start)\n",
    "\n",
    "# end\n",
    "lv_file_mark_end = LV_FILE_MARK_TEMPLATE.format(\n",
    "    result_set=result_set, lv=LV_NAME, position=\"end\"\n",
    ")\n",
    "display(lv_file_mark_end)"
   ]
  },
  {
   "cell_type": "code",
   "execution_count": 68,
   "id": "smart-balloon",
   "metadata": {},
   "outputs": [],
   "source": [
    "new_content = lv_assocs.to_markdown(index=False, disable_numparse=True)"
   ]
  },
  {
   "cell_type": "code",
   "execution_count": 69,
   "id": "focused-participant",
   "metadata": {},
   "outputs": [
    {
     "data": {
      "text/plain": [
       "'Table: Significant trait associations of LV54 in eMERGE. {#tbl:sup:emerge_assocs:lv54}'"
      ]
     },
     "metadata": {},
     "output_type": "display_data"
    }
   ],
   "source": [
    "# add table caption\n",
    "table_caption = TABLE_CAPTION.format(\n",
    "    lv_name=LV_NAME,\n",
    "    result_set_name=RESULT_SET_NAMES[result_set],\n",
    "    table_id=\"{\"\n",
    "    + TABLE_CAPTION_ID.format(result_set=result_set, lv_name_lower_case=LV_NAME.lower())\n",
    "    + \"}\",\n",
    ")\n",
    "display(table_caption)"
   ]
  },
  {
   "cell_type": "code",
   "execution_count": 70,
   "id": "bigger-plane",
   "metadata": {},
   "outputs": [],
   "source": [
    "new_content += \"\\n\\n\" + table_caption"
   ]
  },
  {
   "cell_type": "code",
   "execution_count": 71,
   "id": "exclusive-egypt",
   "metadata": {},
   "outputs": [],
   "source": [
    "full_new_content = (\n",
    "    lv_file_mark_start + \"\\n\" + new_content.strip() + \"\\n\" + lv_file_mark_end\n",
    ")"
   ]
  },
  {
   "cell_type": "code",
   "execution_count": 72,
   "id": "heard-windows",
   "metadata": {},
   "outputs": [],
   "source": [
    "with open(OUTPUT_FILE_PATH, \"r\", encoding=\"utf8\") as f:\n",
    "    file_content = f.read()"
   ]
  },
  {
   "cell_type": "code",
   "execution_count": 73,
   "id": "ordinary-policy",
   "metadata": {},
   "outputs": [],
   "source": [
    "new_file_content = re.sub(\n",
    "    lv_file_mark_start + \".*?\" + lv_file_mark_end,\n",
    "    full_new_content,\n",
    "    file_content,\n",
    "    flags=re.DOTALL,\n",
    ")"
   ]
  },
  {
   "cell_type": "code",
   "execution_count": 74,
   "id": "choice-soviet",
   "metadata": {},
   "outputs": [],
   "source": [
    "with open(OUTPUT_FILE_PATH, \"w\", encoding=\"utf8\") as f:\n",
    "    f.write(new_file_content)  # .replace(\"\\beta\", r\"\\beta\"))"
   ]
  },
  {
   "cell_type": "code",
   "execution_count": null,
   "id": "dried-legend",
   "metadata": {},
   "outputs": [],
   "source": []
  }
 ],
 "metadata": {
  "jupytext": {
   "cell_metadata_filter": "all,-execution,-papermill,-trusted",
   "formats": "ipynb,py//py:percent"
  },
  "kernelspec": {
   "display_name": "Python 3",
   "language": "python",
   "name": "python3"
  },
  "language_info": {
   "codemirror_mode": {
    "name": "ipython",
    "version": 3
   },
   "file_extension": ".py",
   "mimetype": "text/x-python",
   "name": "python",
   "nbconvert_exporter": "python",
   "pygments_lexer": "ipython3",
   "version": "3.8.8"
  },
  "toc-autonumbering": true
 },
 "nbformat": 4,
 "nbformat_minor": 5
}
