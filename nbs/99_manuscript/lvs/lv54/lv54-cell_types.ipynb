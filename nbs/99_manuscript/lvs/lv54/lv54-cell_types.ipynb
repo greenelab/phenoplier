{
 "cells": [
  {
   "cell_type": "markdown",
   "id": "particular-intake",
   "metadata": {
    "papermill": {
     "duration": 0.006593,
     "end_time": "2021-05-11T19:09:55.733221",
     "exception": false,
     "start_time": "2021-05-11T19:09:55.726628",
     "status": "completed"
    },
    "tags": []
   },
   "source": [
    "# Description"
   ]
  },
  {
   "cell_type": "markdown",
   "id": "collect-barrel",
   "metadata": {
    "papermill": {
     "duration": 0.00668,
     "end_time": "2021-05-11T19:09:55.745410",
     "exception": false,
     "start_time": "2021-05-11T19:09:55.738730",
     "status": "completed"
    },
    "tags": []
   },
   "source": [
    "Generates the figure for top cell types for a specified LV (in Settings section below)."
   ]
  },
  {
   "cell_type": "markdown",
   "id": "turkish-calendar",
   "metadata": {
    "papermill": {
     "duration": 0.006223,
     "end_time": "2021-05-11T19:09:55.756959",
     "exception": false,
     "start_time": "2021-05-11T19:09:55.750736",
     "status": "completed"
    },
    "tags": []
   },
   "source": [
    "# Modules loading"
   ]
  },
  {
   "cell_type": "code",
   "execution_count": 1,
   "id": "flying-evening",
   "metadata": {
    "papermill": {
     "duration": 0.01906,
     "end_time": "2021-05-11T19:09:55.781515",
     "exception": false,
     "start_time": "2021-05-11T19:09:55.762455",
     "status": "completed"
    },
    "tags": []
   },
   "outputs": [],
   "source": [
    "%load_ext autoreload\n",
    "%autoreload 2"
   ]
  },
  {
   "cell_type": "code",
   "execution_count": 2,
   "id": "current-representative",
   "metadata": {
    "papermill": {
     "duration": 0.993432,
     "end_time": "2021-05-11T19:09:56.780403",
     "exception": false,
     "start_time": "2021-05-11T19:09:55.786971",
     "status": "completed"
    },
    "tags": []
   },
   "outputs": [],
   "source": [
    "import re\n",
    "from pathlib import Path\n",
    "\n",
    "import pandas as pd\n",
    "import matplotlib.pyplot as plt\n",
    "import seaborn as sns\n",
    "\n",
    "from data.recount2 import LVAnalysis\n",
    "from utils import chunker\n",
    "import conf"
   ]
  },
  {
   "cell_type": "markdown",
   "id": "acceptable-eugene",
   "metadata": {
    "papermill": {
     "duration": 0.005973,
     "end_time": "2021-05-11T19:09:56.792495",
     "exception": false,
     "start_time": "2021-05-11T19:09:56.786522",
     "status": "completed"
    },
    "tags": []
   },
   "source": [
    "# Settings"
   ]
  },
  {
   "cell_type": "code",
   "execution_count": 3,
   "id": "immediate-dialogue",
   "metadata": {
    "papermill": {
     "duration": 0.019548,
     "end_time": "2021-05-11T19:09:56.817689",
     "exception": false,
     "start_time": "2021-05-11T19:09:56.798141",
     "status": "completed"
    },
    "tags": [
     "parameters"
    ]
   },
   "outputs": [],
   "source": [
    "LV_NAME = \"LV54\""
   ]
  },
  {
   "cell_type": "code",
   "execution_count": 4,
   "id": "breathing-democrat",
   "metadata": {},
   "outputs": [],
   "source": [
    "LV_AXIS_THRESHOLD = 3.0\n",
    "N_TOP_SAMPLES = 400\n",
    "N_TOP_ATTRS = 25"
   ]
  },
  {
   "cell_type": "code",
   "execution_count": 5,
   "id": "composite-ceiling",
   "metadata": {},
   "outputs": [
    {
     "data": {
      "text/plain": [
       "PosixPath('/home/miltondp/projects/labs/greenelab/phenoplier_manuscript/content/images/lvs_analysis/lv54')"
      ]
     },
     "metadata": {},
     "output_type": "display_data"
    }
   ],
   "source": [
    "OUTPUT_FIGURES_DIR = Path(\n",
    "    conf.MANUSCRIPT[\"FIGURES_DIR\"], \"lvs_analysis\", f\"{LV_NAME.lower()}\"\n",
    ").resolve()\n",
    "display(OUTPUT_FIGURES_DIR)\n",
    "OUTPUT_FIGURES_DIR.mkdir(parents=True, exist_ok=True)"
   ]
  },
  {
   "cell_type": "code",
   "execution_count": 6,
   "id": "beginning-pharmacology",
   "metadata": {},
   "outputs": [
    {
     "data": {
      "text/plain": [
       "PosixPath('/home/miltondp/projects/labs/greenelab/phenoplier_manuscript/content/images/lvs_analysis/lv54/lv54-cell_types.svg')"
      ]
     },
     "metadata": {},
     "output_type": "display_data"
    }
   ],
   "source": [
    "OUTPUT_CELL_TYPE_FILEPATH = OUTPUT_FIGURES_DIR / f\"{LV_NAME.lower()}-cell_types.svg\"\n",
    "display(OUTPUT_CELL_TYPE_FILEPATH)"
   ]
  },
  {
   "cell_type": "markdown",
   "id": "continued-onion",
   "metadata": {
    "papermill": {
     "duration": 0.005592,
     "end_time": "2021-05-11T19:09:56.854406",
     "exception": false,
     "start_time": "2021-05-11T19:09:56.848814",
     "status": "completed"
    },
    "tags": []
   },
   "source": [
    "# Load MultiPLIER summary"
   ]
  },
  {
   "cell_type": "code",
   "execution_count": 7,
   "id": "coordinate-teens",
   "metadata": {
    "papermill": {
     "duration": 0.020251,
     "end_time": "2021-05-11T19:09:56.880435",
     "exception": false,
     "start_time": "2021-05-11T19:09:56.860184",
     "status": "completed"
    },
    "tags": []
   },
   "outputs": [],
   "source": [
    "multiplier_model_summary = pd.read_pickle(conf.MULTIPLIER[\"MODEL_SUMMARY_FILE\"])"
   ]
  },
  {
   "cell_type": "code",
   "execution_count": 8,
   "id": "acknowledged-syndicate",
   "metadata": {
    "papermill": {
     "duration": 0.02062,
     "end_time": "2021-05-11T19:09:56.906744",
     "exception": false,
     "start_time": "2021-05-11T19:09:56.886124",
     "status": "completed"
    },
    "tags": []
   },
   "outputs": [
    {
     "data": {
      "text/plain": [
       "(2157, 5)"
      ]
     },
     "execution_count": 8,
     "metadata": {},
     "output_type": "execute_result"
    }
   ],
   "source": [
    "multiplier_model_summary.shape"
   ]
  },
  {
   "cell_type": "code",
   "execution_count": 9,
   "id": "verbal-omega",
   "metadata": {
    "papermill": {
     "duration": 0.024737,
     "end_time": "2021-05-11T19:09:56.937493",
     "exception": false,
     "start_time": "2021-05-11T19:09:56.912756",
     "status": "completed"
    },
    "tags": []
   },
   "outputs": [
    {
     "data": {
      "text/html": [
       "<div>\n",
       "<style scoped>\n",
       "    .dataframe tbody tr th:only-of-type {\n",
       "        vertical-align: middle;\n",
       "    }\n",
       "\n",
       "    .dataframe tbody tr th {\n",
       "        vertical-align: top;\n",
       "    }\n",
       "\n",
       "    .dataframe thead th {\n",
       "        text-align: right;\n",
       "    }\n",
       "</style>\n",
       "<table border=\"1\" class=\"dataframe\">\n",
       "  <thead>\n",
       "    <tr style=\"text-align: right;\">\n",
       "      <th></th>\n",
       "      <th>pathway</th>\n",
       "      <th>LV index</th>\n",
       "      <th>AUC</th>\n",
       "      <th>p-value</th>\n",
       "      <th>FDR</th>\n",
       "    </tr>\n",
       "  </thead>\n",
       "  <tbody>\n",
       "    <tr>\n",
       "      <th>1</th>\n",
       "      <td>KEGG_LYSINE_DEGRADATION</td>\n",
       "      <td>1</td>\n",
       "      <td>0.388059</td>\n",
       "      <td>0.866078</td>\n",
       "      <td>0.956005</td>\n",
       "    </tr>\n",
       "    <tr>\n",
       "      <th>2</th>\n",
       "      <td>REACTOME_MRNA_SPLICING</td>\n",
       "      <td>1</td>\n",
       "      <td>0.733057</td>\n",
       "      <td>0.000048</td>\n",
       "      <td>0.000582</td>\n",
       "    </tr>\n",
       "    <tr>\n",
       "      <th>3</th>\n",
       "      <td>MIPS_NOP56P_ASSOCIATED_PRE_RRNA_COMPLEX</td>\n",
       "      <td>1</td>\n",
       "      <td>0.680555</td>\n",
       "      <td>0.001628</td>\n",
       "      <td>0.011366</td>\n",
       "    </tr>\n",
       "    <tr>\n",
       "      <th>4</th>\n",
       "      <td>KEGG_DNA_REPLICATION</td>\n",
       "      <td>1</td>\n",
       "      <td>0.549473</td>\n",
       "      <td>0.312155</td>\n",
       "      <td>0.539951</td>\n",
       "    </tr>\n",
       "    <tr>\n",
       "      <th>5</th>\n",
       "      <td>PID_MYC_ACTIVPATHWAY</td>\n",
       "      <td>1</td>\n",
       "      <td>0.639303</td>\n",
       "      <td>0.021702</td>\n",
       "      <td>0.083739</td>\n",
       "    </tr>\n",
       "  </tbody>\n",
       "</table>\n",
       "</div>"
      ],
      "text/plain": [
       "                                   pathway LV index       AUC   p-value  \\\n",
       "1                  KEGG_LYSINE_DEGRADATION        1  0.388059  0.866078   \n",
       "2                   REACTOME_MRNA_SPLICING        1  0.733057  0.000048   \n",
       "3  MIPS_NOP56P_ASSOCIATED_PRE_RRNA_COMPLEX        1  0.680555  0.001628   \n",
       "4                     KEGG_DNA_REPLICATION        1  0.549473  0.312155   \n",
       "5                     PID_MYC_ACTIVPATHWAY        1  0.639303  0.021702   \n",
       "\n",
       "        FDR  \n",
       "1  0.956005  \n",
       "2  0.000582  \n",
       "3  0.011366  \n",
       "4  0.539951  \n",
       "5  0.083739  "
      ]
     },
     "execution_count": 9,
     "metadata": {},
     "output_type": "execute_result"
    }
   ],
   "source": [
    "multiplier_model_summary.head()"
   ]
  },
  {
   "cell_type": "markdown",
   "id": "included-heritage",
   "metadata": {
    "papermill": {
     "duration": 0.006007,
     "end_time": "2021-05-11T19:09:56.949763",
     "exception": false,
     "start_time": "2021-05-11T19:09:56.943756",
     "status": "completed"
    },
    "tags": []
   },
   "source": [
    "# Load data"
   ]
  },
  {
   "cell_type": "markdown",
   "id": "electrical-break",
   "metadata": {
    "papermill": {
     "duration": 0.005873,
     "end_time": "2021-05-11T19:09:56.961602",
     "exception": false,
     "start_time": "2021-05-11T19:09:56.955729",
     "status": "completed"
    },
    "tags": []
   },
   "source": [
    "## Original data"
   ]
  },
  {
   "cell_type": "code",
   "execution_count": 10,
   "id": "australian-beverage",
   "metadata": {
    "papermill": {
     "duration": 0.019571,
     "end_time": "2021-05-11T19:09:56.987255",
     "exception": false,
     "start_time": "2021-05-11T19:09:56.967684",
     "status": "completed"
    },
    "tags": []
   },
   "outputs": [],
   "source": [
    "INPUT_SUBSET = \"z_score_std\""
   ]
  },
  {
   "cell_type": "code",
   "execution_count": 11,
   "id": "honest-taxation",
   "metadata": {
    "papermill": {
     "duration": 0.019175,
     "end_time": "2021-05-11T19:09:57.025099",
     "exception": false,
     "start_time": "2021-05-11T19:09:57.005924",
     "status": "completed"
    },
    "tags": []
   },
   "outputs": [],
   "source": [
    "INPUT_STEM = \"projection-smultixcan-efo_partial-mashr-zscores\""
   ]
  },
  {
   "cell_type": "code",
   "execution_count": 12,
   "id": "secondary-artist",
   "metadata": {
    "papermill": {
     "duration": 0.020992,
     "end_time": "2021-05-11T19:09:57.052255",
     "exception": false,
     "start_time": "2021-05-11T19:09:57.031263",
     "status": "completed"
    },
    "tags": []
   },
   "outputs": [
    {
     "data": {
      "text/plain": [
       "PosixPath('/home/miltondp/projects/labs/greenelab/phenoplier/bases_data/base_orig/results/data_transformations/z_score_std/z_score_std-projection-smultixcan-efo_partial-mashr-zscores.pkl')"
      ]
     },
     "metadata": {},
     "output_type": "display_data"
    },
    {
     "data": {
      "text/plain": [
       "'z_score_std-projection-smultixcan-efo_partial-mashr-zscores'"
      ]
     },
     "metadata": {},
     "output_type": "display_data"
    }
   ],
   "source": [
    "input_filepath = Path(\n",
    "    conf.RESULTS[\"DATA_TRANSFORMATIONS_DIR\"],\n",
    "    INPUT_SUBSET,\n",
    "    f\"{INPUT_SUBSET}-{INPUT_STEM}.pkl\",\n",
    ").resolve()\n",
    "display(input_filepath)\n",
    "\n",
    "assert input_filepath.exists(), \"Input file does not exist\"\n",
    "\n",
    "input_filepath_stem = input_filepath.stem\n",
    "display(input_filepath_stem)"
   ]
  },
  {
   "cell_type": "code",
   "execution_count": 13,
   "id": "wound-resistance",
   "metadata": {
    "papermill": {
     "duration": 0.032337,
     "end_time": "2021-05-11T19:09:57.090585",
     "exception": false,
     "start_time": "2021-05-11T19:09:57.058248",
     "status": "completed"
    },
    "tags": []
   },
   "outputs": [],
   "source": [
    "data = pd.read_pickle(input_filepath)"
   ]
  },
  {
   "cell_type": "code",
   "execution_count": 14,
   "id": "indoor-austria",
   "metadata": {
    "papermill": {
     "duration": 0.01967,
     "end_time": "2021-05-11T19:09:57.116292",
     "exception": false,
     "start_time": "2021-05-11T19:09:57.096622",
     "status": "completed"
    },
    "tags": []
   },
   "outputs": [
    {
     "data": {
      "text/plain": [
       "(3752, 987)"
      ]
     },
     "execution_count": 14,
     "metadata": {},
     "output_type": "execute_result"
    }
   ],
   "source": [
    "data.shape"
   ]
  },
  {
   "cell_type": "code",
   "execution_count": 15,
   "id": "compatible-whale",
   "metadata": {
    "papermill": {
     "duration": 0.031843,
     "end_time": "2021-05-11T19:09:57.154356",
     "exception": false,
     "start_time": "2021-05-11T19:09:57.122513",
     "status": "completed"
    },
    "tags": []
   },
   "outputs": [
    {
     "data": {
      "text/html": [
       "<div>\n",
       "<style scoped>\n",
       "    .dataframe tbody tr th:only-of-type {\n",
       "        vertical-align: middle;\n",
       "    }\n",
       "\n",
       "    .dataframe tbody tr th {\n",
       "        vertical-align: top;\n",
       "    }\n",
       "\n",
       "    .dataframe thead th {\n",
       "        text-align: right;\n",
       "    }\n",
       "</style>\n",
       "<table border=\"1\" class=\"dataframe\">\n",
       "  <thead>\n",
       "    <tr style=\"text-align: right;\">\n",
       "      <th></th>\n",
       "      <th>LV1</th>\n",
       "      <th>LV2</th>\n",
       "      <th>LV3</th>\n",
       "      <th>LV4</th>\n",
       "      <th>LV5</th>\n",
       "      <th>LV6</th>\n",
       "      <th>LV7</th>\n",
       "      <th>LV8</th>\n",
       "      <th>LV9</th>\n",
       "      <th>LV10</th>\n",
       "      <th>...</th>\n",
       "      <th>LV978</th>\n",
       "      <th>LV979</th>\n",
       "      <th>LV980</th>\n",
       "      <th>LV981</th>\n",
       "      <th>LV982</th>\n",
       "      <th>LV983</th>\n",
       "      <th>LV984</th>\n",
       "      <th>LV985</th>\n",
       "      <th>LV986</th>\n",
       "      <th>LV987</th>\n",
       "    </tr>\n",
       "  </thead>\n",
       "  <tbody>\n",
       "    <tr>\n",
       "      <th>100001_raw-Food_weight</th>\n",
       "      <td>-0.695006</td>\n",
       "      <td>1.962565</td>\n",
       "      <td>0.057683</td>\n",
       "      <td>0.878731</td>\n",
       "      <td>-0.539977</td>\n",
       "      <td>1.481272</td>\n",
       "      <td>-0.396422</td>\n",
       "      <td>1.090180</td>\n",
       "      <td>0.759223</td>\n",
       "      <td>0.931395</td>\n",
       "      <td>...</td>\n",
       "      <td>1.129784</td>\n",
       "      <td>1.752343</td>\n",
       "      <td>-1.411403</td>\n",
       "      <td>2.823863</td>\n",
       "      <td>0.931116</td>\n",
       "      <td>-1.054519</td>\n",
       "      <td>0.432982</td>\n",
       "      <td>-0.633597</td>\n",
       "      <td>0.554279</td>\n",
       "      <td>-0.642479</td>\n",
       "    </tr>\n",
       "    <tr>\n",
       "      <th>100002_raw-Energy</th>\n",
       "      <td>-1.528127</td>\n",
       "      <td>-0.345309</td>\n",
       "      <td>-0.148953</td>\n",
       "      <td>-0.242060</td>\n",
       "      <td>0.373427</td>\n",
       "      <td>0.791092</td>\n",
       "      <td>0.263477</td>\n",
       "      <td>0.987702</td>\n",
       "      <td>0.354391</td>\n",
       "      <td>1.416059</td>\n",
       "      <td>...</td>\n",
       "      <td>0.224604</td>\n",
       "      <td>0.769882</td>\n",
       "      <td>-0.509482</td>\n",
       "      <td>0.091153</td>\n",
       "      <td>2.286789</td>\n",
       "      <td>-1.008256</td>\n",
       "      <td>-0.029764</td>\n",
       "      <td>1.737229</td>\n",
       "      <td>-0.272107</td>\n",
       "      <td>-0.526125</td>\n",
       "    </tr>\n",
       "    <tr>\n",
       "      <th>100003_raw-Protein</th>\n",
       "      <td>-0.704572</td>\n",
       "      <td>-1.011299</td>\n",
       "      <td>0.671420</td>\n",
       "      <td>0.143991</td>\n",
       "      <td>0.615212</td>\n",
       "      <td>0.874212</td>\n",
       "      <td>-0.040998</td>\n",
       "      <td>0.915170</td>\n",
       "      <td>0.254369</td>\n",
       "      <td>-0.084237</td>\n",
       "      <td>...</td>\n",
       "      <td>1.003019</td>\n",
       "      <td>1.044314</td>\n",
       "      <td>-2.376108</td>\n",
       "      <td>0.004778</td>\n",
       "      <td>0.053714</td>\n",
       "      <td>-0.892447</td>\n",
       "      <td>-0.183800</td>\n",
       "      <td>1.377991</td>\n",
       "      <td>-0.278794</td>\n",
       "      <td>-0.419733</td>\n",
       "    </tr>\n",
       "    <tr>\n",
       "      <th>100004_raw-Fat</th>\n",
       "      <td>-0.989832</td>\n",
       "      <td>-1.875490</td>\n",
       "      <td>0.261555</td>\n",
       "      <td>-1.420719</td>\n",
       "      <td>0.366238</td>\n",
       "      <td>1.167049</td>\n",
       "      <td>0.257387</td>\n",
       "      <td>0.717674</td>\n",
       "      <td>-0.997664</td>\n",
       "      <td>0.969825</td>\n",
       "      <td>...</td>\n",
       "      <td>0.585913</td>\n",
       "      <td>0.638314</td>\n",
       "      <td>0.119139</td>\n",
       "      <td>-0.140204</td>\n",
       "      <td>1.394326</td>\n",
       "      <td>-1.173402</td>\n",
       "      <td>0.555058</td>\n",
       "      <td>1.013982</td>\n",
       "      <td>-0.544506</td>\n",
       "      <td>-0.064061</td>\n",
       "    </tr>\n",
       "    <tr>\n",
       "      <th>100005_raw-Carbohydrate</th>\n",
       "      <td>-0.580143</td>\n",
       "      <td>0.243335</td>\n",
       "      <td>0.158966</td>\n",
       "      <td>-0.036558</td>\n",
       "      <td>0.068176</td>\n",
       "      <td>-0.202639</td>\n",
       "      <td>1.101281</td>\n",
       "      <td>0.675227</td>\n",
       "      <td>1.463432</td>\n",
       "      <td>1.010078</td>\n",
       "      <td>...</td>\n",
       "      <td>-0.249108</td>\n",
       "      <td>-0.026814</td>\n",
       "      <td>0.232713</td>\n",
       "      <td>0.323682</td>\n",
       "      <td>1.168642</td>\n",
       "      <td>-0.282935</td>\n",
       "      <td>0.653105</td>\n",
       "      <td>1.909526</td>\n",
       "      <td>0.199997</td>\n",
       "      <td>-1.656894</td>\n",
       "    </tr>\n",
       "  </tbody>\n",
       "</table>\n",
       "<p>5 rows × 987 columns</p>\n",
       "</div>"
      ],
      "text/plain": [
       "                              LV1       LV2       LV3       LV4       LV5  \\\n",
       "100001_raw-Food_weight  -0.695006  1.962565  0.057683  0.878731 -0.539977   \n",
       "100002_raw-Energy       -1.528127 -0.345309 -0.148953 -0.242060  0.373427   \n",
       "100003_raw-Protein      -0.704572 -1.011299  0.671420  0.143991  0.615212   \n",
       "100004_raw-Fat          -0.989832 -1.875490  0.261555 -1.420719  0.366238   \n",
       "100005_raw-Carbohydrate -0.580143  0.243335  0.158966 -0.036558  0.068176   \n",
       "\n",
       "                              LV6       LV7       LV8       LV9      LV10  \\\n",
       "100001_raw-Food_weight   1.481272 -0.396422  1.090180  0.759223  0.931395   \n",
       "100002_raw-Energy        0.791092  0.263477  0.987702  0.354391  1.416059   \n",
       "100003_raw-Protein       0.874212 -0.040998  0.915170  0.254369 -0.084237   \n",
       "100004_raw-Fat           1.167049  0.257387  0.717674 -0.997664  0.969825   \n",
       "100005_raw-Carbohydrate -0.202639  1.101281  0.675227  1.463432  1.010078   \n",
       "\n",
       "                         ...     LV978     LV979     LV980     LV981  \\\n",
       "100001_raw-Food_weight   ...  1.129784  1.752343 -1.411403  2.823863   \n",
       "100002_raw-Energy        ...  0.224604  0.769882 -0.509482  0.091153   \n",
       "100003_raw-Protein       ...  1.003019  1.044314 -2.376108  0.004778   \n",
       "100004_raw-Fat           ...  0.585913  0.638314  0.119139 -0.140204   \n",
       "100005_raw-Carbohydrate  ... -0.249108 -0.026814  0.232713  0.323682   \n",
       "\n",
       "                            LV982     LV983     LV984     LV985     LV986  \\\n",
       "100001_raw-Food_weight   0.931116 -1.054519  0.432982 -0.633597  0.554279   \n",
       "100002_raw-Energy        2.286789 -1.008256 -0.029764  1.737229 -0.272107   \n",
       "100003_raw-Protein       0.053714 -0.892447 -0.183800  1.377991 -0.278794   \n",
       "100004_raw-Fat           1.394326 -1.173402  0.555058  1.013982 -0.544506   \n",
       "100005_raw-Carbohydrate  1.168642 -0.282935  0.653105  1.909526  0.199997   \n",
       "\n",
       "                            LV987  \n",
       "100001_raw-Food_weight  -0.642479  \n",
       "100002_raw-Energy       -0.526125  \n",
       "100003_raw-Protein      -0.419733  \n",
       "100004_raw-Fat          -0.064061  \n",
       "100005_raw-Carbohydrate -1.656894  \n",
       "\n",
       "[5 rows x 987 columns]"
      ]
     },
     "execution_count": 15,
     "metadata": {},
     "output_type": "execute_result"
    }
   ],
   "source": [
    "data.head()"
   ]
  },
  {
   "cell_type": "markdown",
   "id": "confident-litigation",
   "metadata": {},
   "source": [
    "## LV data"
   ]
  },
  {
   "cell_type": "code",
   "execution_count": 16,
   "id": "possible-tracker",
   "metadata": {},
   "outputs": [],
   "source": [
    "lv_obj = LVAnalysis(LV_NAME, data)"
   ]
  },
  {
   "cell_type": "code",
   "execution_count": 17,
   "id": "tracked-samba",
   "metadata": {},
   "outputs": [
    {
     "name": "stderr",
     "output_type": "stream",
     "text": [
      "[2021-08-02 15:49:05,888 - numexpr.utils] INFO: NumExpr defaulting to 8 threads.\n"
     ]
    },
    {
     "data": {
      "text/html": [
       "<div>\n",
       "<style scoped>\n",
       "    .dataframe tbody tr th:only-of-type {\n",
       "        vertical-align: middle;\n",
       "    }\n",
       "\n",
       "    .dataframe tbody tr th {\n",
       "        vertical-align: top;\n",
       "    }\n",
       "\n",
       "    .dataframe thead th {\n",
       "        text-align: right;\n",
       "    }\n",
       "</style>\n",
       "<table border=\"1\" class=\"dataframe\">\n",
       "  <thead>\n",
       "    <tr style=\"text-align: right;\">\n",
       "      <th></th>\n",
       "      <th>pathway</th>\n",
       "      <th>LV index</th>\n",
       "      <th>AUC</th>\n",
       "      <th>p-value</th>\n",
       "      <th>FDR</th>\n",
       "    </tr>\n",
       "  </thead>\n",
       "  <tbody>\n",
       "  </tbody>\n",
       "</table>\n",
       "</div>"
      ],
      "text/plain": [
       "Empty DataFrame\n",
       "Columns: [pathway, LV index, AUC, p-value, FDR]\n",
       "Index: []"
      ]
     },
     "execution_count": 17,
     "metadata": {},
     "output_type": "execute_result"
    }
   ],
   "source": [
    "multiplier_model_summary[\n",
    "    multiplier_model_summary[\"LV index\"].isin((LV_NAME[2:],))\n",
    "    & (\n",
    "        (multiplier_model_summary[\"FDR\"] < 0.05)\n",
    "        | (multiplier_model_summary[\"AUC\"] >= 0.75)\n",
    "    )\n",
    "]"
   ]
  },
  {
   "cell_type": "code",
   "execution_count": 18,
   "id": "synthetic-senate",
   "metadata": {},
   "outputs": [
    {
     "name": "stdout",
     "output_type": "stream",
     "text": [
      "SRP017575, SRP006575, SRP036821, SRP008218, SRP019994, SRP023262, SRP010038, SRP004965, SRP040292, SRP052706, SRP060416, SRP051249, SRP055569, SRP042620, SRP066834, SRP036053, SRP000599, SRP018359, SRP014146, SRP043162, SRP039338, SRP035988, SRP055749, SRP042086, SRP007359, SRP053101, SRP045154, SRP041538, SRP055512, SRP060355, SRP030617, SRP012656, SRP011924, SRP052978, SRP042161, SRP053190, SRP033135, SRP052991, SRP063838, SRP061888, SRP021478, SRP029899, SRP050971, SRP058773, SRP041718, SRP064464, SRP014739, SRP003726, SRP043166, SRP053098, SRP057196, SRP021193, "
     ]
    }
   ],
   "source": [
    "lv_data = lv_obj.get_experiments_data()"
   ]
  },
  {
   "cell_type": "code",
   "execution_count": 19,
   "id": "running-identification",
   "metadata": {},
   "outputs": [
    {
     "data": {
      "text/plain": [
       "(5736, 70)"
      ]
     },
     "execution_count": 19,
     "metadata": {},
     "output_type": "execute_result"
    }
   ],
   "source": [
    "lv_data.shape"
   ]
  },
  {
   "cell_type": "code",
   "execution_count": 20,
   "id": "outstanding-scotland",
   "metadata": {},
   "outputs": [
    {
     "data": {
      "text/html": [
       "<div>\n",
       "<style scoped>\n",
       "    .dataframe tbody tr th:only-of-type {\n",
       "        vertical-align: middle;\n",
       "    }\n",
       "\n",
       "    .dataframe tbody tr th {\n",
       "        vertical-align: top;\n",
       "    }\n",
       "\n",
       "    .dataframe thead th {\n",
       "        text-align: right;\n",
       "    }\n",
       "</style>\n",
       "<table border=\"1\" class=\"dataframe\">\n",
       "  <thead>\n",
       "    <tr style=\"text-align: right;\">\n",
       "      <th></th>\n",
       "      <th></th>\n",
       "      <th>tissue</th>\n",
       "      <th>tissue archive method</th>\n",
       "      <th>stromal signature</th>\n",
       "      <th>prognosis</th>\n",
       "      <th>cell line</th>\n",
       "      <th>cell type</th>\n",
       "      <th>developmental stage</th>\n",
       "      <th>disease status</th>\n",
       "      <th>tissue subtype</th>\n",
       "      <th>source</th>\n",
       "      <th>...</th>\n",
       "      <th>assigned cell type</th>\n",
       "      <th>qc pass</th>\n",
       "      <th>cell count</th>\n",
       "      <th>ercc_dilution</th>\n",
       "      <th>patient condition</th>\n",
       "      <th>race</th>\n",
       "      <th>c1 chip id</th>\n",
       "      <th>experiment_sample_name</th>\n",
       "      <th>lvad support</th>\n",
       "      <th>LV54</th>\n",
       "    </tr>\n",
       "    <tr>\n",
       "      <th>project</th>\n",
       "      <th>run</th>\n",
       "      <th></th>\n",
       "      <th></th>\n",
       "      <th></th>\n",
       "      <th></th>\n",
       "      <th></th>\n",
       "      <th></th>\n",
       "      <th></th>\n",
       "      <th></th>\n",
       "      <th></th>\n",
       "      <th></th>\n",
       "      <th></th>\n",
       "      <th></th>\n",
       "      <th></th>\n",
       "      <th></th>\n",
       "      <th></th>\n",
       "      <th></th>\n",
       "      <th></th>\n",
       "      <th></th>\n",
       "      <th></th>\n",
       "      <th></th>\n",
       "      <th></th>\n",
       "    </tr>\n",
       "  </thead>\n",
       "  <tbody>\n",
       "    <tr>\n",
       "      <th rowspan=\"5\" valign=\"top\">SRP017575</th>\n",
       "      <th>SRR633556</th>\n",
       "      <td>Soft Tissue</td>\n",
       "      <td>FFPE</td>\n",
       "      <td>DTF(3SEQ) signature</td>\n",
       "      <td>UNCLEAR</td>\n",
       "      <td>NaN</td>\n",
       "      <td>NaN</td>\n",
       "      <td>NaN</td>\n",
       "      <td>NaN</td>\n",
       "      <td>NaN</td>\n",
       "      <td>NaN</td>\n",
       "      <td>...</td>\n",
       "      <td>NaN</td>\n",
       "      <td>NaN</td>\n",
       "      <td>NaN</td>\n",
       "      <td>NaN</td>\n",
       "      <td>NaN</td>\n",
       "      <td>NaN</td>\n",
       "      <td>NaN</td>\n",
       "      <td>NaN</td>\n",
       "      <td>NaN</td>\n",
       "      <td>0.175936</td>\n",
       "    </tr>\n",
       "    <tr>\n",
       "      <th>SRR633557</th>\n",
       "      <td>Soft Tissue</td>\n",
       "      <td>FFPE</td>\n",
       "      <td>DTF(3SEQ) signature</td>\n",
       "      <td>UNCLEAR</td>\n",
       "      <td>NaN</td>\n",
       "      <td>NaN</td>\n",
       "      <td>NaN</td>\n",
       "      <td>NaN</td>\n",
       "      <td>NaN</td>\n",
       "      <td>NaN</td>\n",
       "      <td>...</td>\n",
       "      <td>NaN</td>\n",
       "      <td>NaN</td>\n",
       "      <td>NaN</td>\n",
       "      <td>NaN</td>\n",
       "      <td>NaN</td>\n",
       "      <td>NaN</td>\n",
       "      <td>NaN</td>\n",
       "      <td>NaN</td>\n",
       "      <td>NaN</td>\n",
       "      <td>0.210196</td>\n",
       "    </tr>\n",
       "    <tr>\n",
       "      <th>SRR633558</th>\n",
       "      <td>Soft Tissue</td>\n",
       "      <td>FFPE</td>\n",
       "      <td>DTF(3SEQ) signature</td>\n",
       "      <td>UNCLEAR</td>\n",
       "      <td>NaN</td>\n",
       "      <td>NaN</td>\n",
       "      <td>NaN</td>\n",
       "      <td>NaN</td>\n",
       "      <td>NaN</td>\n",
       "      <td>NaN</td>\n",
       "      <td>...</td>\n",
       "      <td>NaN</td>\n",
       "      <td>NaN</td>\n",
       "      <td>NaN</td>\n",
       "      <td>NaN</td>\n",
       "      <td>NaN</td>\n",
       "      <td>NaN</td>\n",
       "      <td>NaN</td>\n",
       "      <td>NaN</td>\n",
       "      <td>NaN</td>\n",
       "      <td>0.433927</td>\n",
       "    </tr>\n",
       "    <tr>\n",
       "      <th>SRR633559</th>\n",
       "      <td>Soft Tissue</td>\n",
       "      <td>FFPE</td>\n",
       "      <td>DTF(3SEQ) signature</td>\n",
       "      <td>UNCLEAR</td>\n",
       "      <td>NaN</td>\n",
       "      <td>NaN</td>\n",
       "      <td>NaN</td>\n",
       "      <td>NaN</td>\n",
       "      <td>NaN</td>\n",
       "      <td>NaN</td>\n",
       "      <td>...</td>\n",
       "      <td>NaN</td>\n",
       "      <td>NaN</td>\n",
       "      <td>NaN</td>\n",
       "      <td>NaN</td>\n",
       "      <td>NaN</td>\n",
       "      <td>NaN</td>\n",
       "      <td>NaN</td>\n",
       "      <td>NaN</td>\n",
       "      <td>NaN</td>\n",
       "      <td>0.298636</td>\n",
       "    </tr>\n",
       "    <tr>\n",
       "      <th>SRR633560</th>\n",
       "      <td>Soft Tissue</td>\n",
       "      <td>FFPE</td>\n",
       "      <td>DTF(3SEQ) signature</td>\n",
       "      <td>UNCLEAR</td>\n",
       "      <td>NaN</td>\n",
       "      <td>NaN</td>\n",
       "      <td>NaN</td>\n",
       "      <td>NaN</td>\n",
       "      <td>NaN</td>\n",
       "      <td>NaN</td>\n",
       "      <td>...</td>\n",
       "      <td>NaN</td>\n",
       "      <td>NaN</td>\n",
       "      <td>NaN</td>\n",
       "      <td>NaN</td>\n",
       "      <td>NaN</td>\n",
       "      <td>NaN</td>\n",
       "      <td>NaN</td>\n",
       "      <td>NaN</td>\n",
       "      <td>NaN</td>\n",
       "      <td>0.209013</td>\n",
       "    </tr>\n",
       "  </tbody>\n",
       "</table>\n",
       "<p>5 rows × 70 columns</p>\n",
       "</div>"
      ],
      "text/plain": [
       "                          tissue tissue archive method    stromal signature  \\\n",
       "project   run                                                                 \n",
       "SRP017575 SRR633556  Soft Tissue                  FFPE  DTF(3SEQ) signature   \n",
       "          SRR633557  Soft Tissue                  FFPE  DTF(3SEQ) signature   \n",
       "          SRR633558  Soft Tissue                  FFPE  DTF(3SEQ) signature   \n",
       "          SRR633559  Soft Tissue                  FFPE  DTF(3SEQ) signature   \n",
       "          SRR633560  Soft Tissue                  FFPE  DTF(3SEQ) signature   \n",
       "\n",
       "                    prognosis cell line cell type developmental stage  \\\n",
       "project   run                                                           \n",
       "SRP017575 SRR633556   UNCLEAR       NaN       NaN                 NaN   \n",
       "          SRR633557   UNCLEAR       NaN       NaN                 NaN   \n",
       "          SRR633558   UNCLEAR       NaN       NaN                 NaN   \n",
       "          SRR633559   UNCLEAR       NaN       NaN                 NaN   \n",
       "          SRR633560   UNCLEAR       NaN       NaN                 NaN   \n",
       "\n",
       "                    disease status tissue subtype source  ...  \\\n",
       "project   run                                             ...   \n",
       "SRP017575 SRR633556            NaN            NaN    NaN  ...   \n",
       "          SRR633557            NaN            NaN    NaN  ...   \n",
       "          SRR633558            NaN            NaN    NaN  ...   \n",
       "          SRR633559            NaN            NaN    NaN  ...   \n",
       "          SRR633560            NaN            NaN    NaN  ...   \n",
       "\n",
       "                    assigned cell type qc pass cell count ercc_dilution  \\\n",
       "project   run                                                             \n",
       "SRP017575 SRR633556                NaN     NaN        NaN           NaN   \n",
       "          SRR633557                NaN     NaN        NaN           NaN   \n",
       "          SRR633558                NaN     NaN        NaN           NaN   \n",
       "          SRR633559                NaN     NaN        NaN           NaN   \n",
       "          SRR633560                NaN     NaN        NaN           NaN   \n",
       "\n",
       "                    patient condition race c1 chip id experiment_sample_name  \\\n",
       "project   run                                                                  \n",
       "SRP017575 SRR633556               NaN  NaN        NaN                    NaN   \n",
       "          SRR633557               NaN  NaN        NaN                    NaN   \n",
       "          SRR633558               NaN  NaN        NaN                    NaN   \n",
       "          SRR633559               NaN  NaN        NaN                    NaN   \n",
       "          SRR633560               NaN  NaN        NaN                    NaN   \n",
       "\n",
       "                    lvad support      LV54  \n",
       "project   run                               \n",
       "SRP017575 SRR633556          NaN  0.175936  \n",
       "          SRR633557          NaN  0.210196  \n",
       "          SRR633558          NaN  0.433927  \n",
       "          SRR633559          NaN  0.298636  \n",
       "          SRR633560          NaN  0.209013  \n",
       "\n",
       "[5 rows x 70 columns]"
      ]
     },
     "execution_count": 20,
     "metadata": {},
     "output_type": "execute_result"
    }
   ],
   "source": [
    "lv_data.head()"
   ]
  },
  {
   "cell_type": "markdown",
   "id": "hungarian-arabic",
   "metadata": {},
   "source": [
    "# LV cell types analysis"
   ]
  },
  {
   "cell_type": "markdown",
   "id": "current-binding",
   "metadata": {},
   "source": [
    "## Get top attributes"
   ]
  },
  {
   "cell_type": "code",
   "execution_count": 21,
   "id": "fitted-vitamin",
   "metadata": {},
   "outputs": [
    {
     "data": {
      "text/plain": [
       "stromal signature        0.258559\n",
       "prognosis                0.258559\n",
       "tissue subtype           0.192408\n",
       "antibody catalog #       0.186369\n",
       "antibody vender          0.186369\n",
       "parity                   0.165466\n",
       "source                   0.150730\n",
       "tissue archive method    0.143057\n",
       "cell marker              0.058868\n",
       "patient                  0.041685\n",
       "disease status           0.038682\n",
       "developmental stage      0.038682\n",
       "passages                 0.037933\n",
       "subtypes                 0.031722\n",
       "tissue id                0.028897\n",
       "patient number           0.028897\n",
       "tissue                   0.024750\n",
       "treatment                0.024434\n",
       "age in weeks             0.016083\n",
       "disease state            0.011949\n",
       "dtype: float64"
      ]
     },
     "metadata": {},
     "output_type": "display_data"
    }
   ],
   "source": [
    "lv_attrs = lv_obj.get_attributes_variation_score()\n",
    "display(lv_attrs.head(20))"
   ]
  },
  {
   "cell_type": "code",
   "execution_count": 22,
   "id": "thirty-august",
   "metadata": {},
   "outputs": [
    {
     "data": {
      "text/plain": [
       "tissue subtype    0.192408\n",
       "tissue            0.024750\n",
       "cell type         0.004538\n",
       "tissue type       0.002226\n",
       "dtype: float64"
      ]
     },
     "execution_count": 22,
     "metadata": {},
     "output_type": "execute_result"
    }
   ],
   "source": [
    "# show those with cell type or tissue in their name\n",
    "_tmp = pd.Series(lv_attrs.index)\n",
    "lv_attrs[\n",
    "    _tmp.str.match(\n",
    "        \"(?:cell.+type$)|(?:tissue$)|(?:tissue.+type$)\",\n",
    "        case=False,\n",
    "        flags=re.IGNORECASE,\n",
    "    ).values\n",
    "].sort_values(ascending=False)"
   ]
  },
  {
   "cell_type": "code",
   "execution_count": 23,
   "id": "royal-health",
   "metadata": {},
   "outputs": [],
   "source": [
    "_tmp = lv_data.loc[\n",
    "    :,\n",
    "    [\n",
    "        \"cell type\",\n",
    "        \"tissue\",\n",
    "        \"tissue type\",\n",
    "        \"tissue subtype\",\n",
    "        LV_NAME,\n",
    "    ],\n",
    "]"
   ]
  },
  {
   "cell_type": "code",
   "execution_count": 24,
   "id": "dressed-somewhere",
   "metadata": {},
   "outputs": [],
   "source": [
    "_tmp_seq = list(chunker(_tmp.sort_values(LV_NAME, ascending=False), 25))"
   ]
  },
  {
   "cell_type": "code",
   "execution_count": 25,
   "id": "bizarre-child",
   "metadata": {},
   "outputs": [
    {
     "data": {
      "text/html": [
       "<div>\n",
       "<style scoped>\n",
       "    .dataframe tbody tr th:only-of-type {\n",
       "        vertical-align: middle;\n",
       "    }\n",
       "\n",
       "    .dataframe tbody tr th {\n",
       "        vertical-align: top;\n",
       "    }\n",
       "\n",
       "    .dataframe thead th {\n",
       "        text-align: right;\n",
       "    }\n",
       "</style>\n",
       "<table border=\"1\" class=\"dataframe\">\n",
       "  <thead>\n",
       "    <tr style=\"text-align: right;\">\n",
       "      <th></th>\n",
       "      <th></th>\n",
       "      <th>cell type</th>\n",
       "      <th>tissue</th>\n",
       "      <th>tissue type</th>\n",
       "      <th>tissue subtype</th>\n",
       "      <th>LV54</th>\n",
       "    </tr>\n",
       "    <tr>\n",
       "      <th>project</th>\n",
       "      <th>run</th>\n",
       "      <th></th>\n",
       "      <th></th>\n",
       "      <th></th>\n",
       "      <th></th>\n",
       "      <th></th>\n",
       "    </tr>\n",
       "  </thead>\n",
       "  <tbody>\n",
       "    <tr>\n",
       "      <th>SRP010038</th>\n",
       "      <th>SRR392881</th>\n",
       "      <td>Pterygia cells</td>\n",
       "      <td>NaN</td>\n",
       "      <td>NaN</td>\n",
       "      <td>NaN</td>\n",
       "      <td>0.601990</td>\n",
       "    </tr>\n",
       "    <tr>\n",
       "      <th>SRP008218</th>\n",
       "      <th>SRR343345</th>\n",
       "      <td>bead purified stromal cells</td>\n",
       "      <td>breast</td>\n",
       "      <td>NaN</td>\n",
       "      <td>NaN</td>\n",
       "      <td>0.596036</td>\n",
       "    </tr>\n",
       "    <tr>\n",
       "      <th>SRP040292</th>\n",
       "      <th>SRR1199126</th>\n",
       "      <td>NaN</td>\n",
       "      <td>adrenal tumor</td>\n",
       "      <td>NaN</td>\n",
       "      <td>NaN</td>\n",
       "      <td>0.589827</td>\n",
       "    </tr>\n",
       "    <tr>\n",
       "      <th>SRP023262</th>\n",
       "      <th>SRR868868</th>\n",
       "      <td>NaN</td>\n",
       "      <td>breast</td>\n",
       "      <td>NaN</td>\n",
       "      <td>NaN</td>\n",
       "      <td>0.576066</td>\n",
       "    </tr>\n",
       "    <tr>\n",
       "      <th rowspan=\"2\" valign=\"top\">SRP010038</th>\n",
       "      <th>SRR392897</th>\n",
       "      <td>Pterygia cells</td>\n",
       "      <td>NaN</td>\n",
       "      <td>NaN</td>\n",
       "      <td>NaN</td>\n",
       "      <td>0.573547</td>\n",
       "    </tr>\n",
       "    <tr>\n",
       "      <th>SRR392896</th>\n",
       "      <td>Pterygia cells</td>\n",
       "      <td>NaN</td>\n",
       "      <td>NaN</td>\n",
       "      <td>NaN</td>\n",
       "      <td>0.572240</td>\n",
       "    </tr>\n",
       "    <tr>\n",
       "      <th>SRP023262</th>\n",
       "      <th>SRR868867</th>\n",
       "      <td>NaN</td>\n",
       "      <td>breast</td>\n",
       "      <td>NaN</td>\n",
       "      <td>NaN</td>\n",
       "      <td>0.571127</td>\n",
       "    </tr>\n",
       "    <tr>\n",
       "      <th>SRP019994</th>\n",
       "      <th>SRR797140</th>\n",
       "      <td>NaN</td>\n",
       "      <td>Soft Tissue</td>\n",
       "      <td>NaN</td>\n",
       "      <td>NaN</td>\n",
       "      <td>0.563327</td>\n",
       "    </tr>\n",
       "    <tr>\n",
       "      <th>SRP052706</th>\n",
       "      <th>SRR1768046</th>\n",
       "      <td>queiscent fibroblast</td>\n",
       "      <td>NaN</td>\n",
       "      <td>NaN</td>\n",
       "      <td>NaN</td>\n",
       "      <td>0.558763</td>\n",
       "    </tr>\n",
       "    <tr>\n",
       "      <th>SRP036821</th>\n",
       "      <th>SRR1163277</th>\n",
       "      <td>NaN</td>\n",
       "      <td>soft tissue sarcoma</td>\n",
       "      <td>NaN</td>\n",
       "      <td>TGCT</td>\n",
       "      <td>0.547370</td>\n",
       "    </tr>\n",
       "    <tr>\n",
       "      <th>SRP010038</th>\n",
       "      <th>SRR392889</th>\n",
       "      <td>Pterygia cells</td>\n",
       "      <td>NaN</td>\n",
       "      <td>NaN</td>\n",
       "      <td>NaN</td>\n",
       "      <td>0.538014</td>\n",
       "    </tr>\n",
       "    <tr>\n",
       "      <th>SRP052706</th>\n",
       "      <th>SRR1768047</th>\n",
       "      <td>queiscent fibroblast</td>\n",
       "      <td>NaN</td>\n",
       "      <td>NaN</td>\n",
       "      <td>NaN</td>\n",
       "      <td>0.534443</td>\n",
       "    </tr>\n",
       "    <tr>\n",
       "      <th>SRP023262</th>\n",
       "      <th>SRR868866</th>\n",
       "      <td>NaN</td>\n",
       "      <td>breast</td>\n",
       "      <td>NaN</td>\n",
       "      <td>NaN</td>\n",
       "      <td>0.534199</td>\n",
       "    </tr>\n",
       "    <tr>\n",
       "      <th>SRP006575</th>\n",
       "      <th>SRR537107</th>\n",
       "      <td>NaN</td>\n",
       "      <td>lung</td>\n",
       "      <td>NaN</td>\n",
       "      <td>NaN</td>\n",
       "      <td>0.534114</td>\n",
       "    </tr>\n",
       "    <tr>\n",
       "      <th>SRP010038</th>\n",
       "      <th>SRR392882</th>\n",
       "      <td>Pterygia cells</td>\n",
       "      <td>NaN</td>\n",
       "      <td>NaN</td>\n",
       "      <td>NaN</td>\n",
       "      <td>0.532116</td>\n",
       "    </tr>\n",
       "    <tr>\n",
       "      <th rowspan=\"2\" valign=\"top\">SRP017575</th>\n",
       "      <th>SRR633601</th>\n",
       "      <td>NaN</td>\n",
       "      <td>Soft Tissue</td>\n",
       "      <td>NaN</td>\n",
       "      <td>NaN</td>\n",
       "      <td>0.524074</td>\n",
       "    </tr>\n",
       "    <tr>\n",
       "      <th>SRR633587</th>\n",
       "      <td>NaN</td>\n",
       "      <td>Soft Tissue</td>\n",
       "      <td>NaN</td>\n",
       "      <td>NaN</td>\n",
       "      <td>0.515271</td>\n",
       "    </tr>\n",
       "    <tr>\n",
       "      <th>SRP060416</th>\n",
       "      <th>SRR2088309</th>\n",
       "      <td>tonsil Innate lymphoid cells</td>\n",
       "      <td>NaN</td>\n",
       "      <td>NaN</td>\n",
       "      <td>NaN</td>\n",
       "      <td>0.505925</td>\n",
       "    </tr>\n",
       "    <tr>\n",
       "      <th>SRP010038</th>\n",
       "      <th>SRR392895</th>\n",
       "      <td>Pterygia cells</td>\n",
       "      <td>NaN</td>\n",
       "      <td>NaN</td>\n",
       "      <td>NaN</td>\n",
       "      <td>0.502717</td>\n",
       "    </tr>\n",
       "    <tr>\n",
       "      <th rowspan=\"3\" valign=\"top\">SRP017575</th>\n",
       "      <th>SRR633572</th>\n",
       "      <td>NaN</td>\n",
       "      <td>Soft Tissue</td>\n",
       "      <td>NaN</td>\n",
       "      <td>NaN</td>\n",
       "      <td>0.502240</td>\n",
       "    </tr>\n",
       "    <tr>\n",
       "      <th>SRR633585</th>\n",
       "      <td>NaN</td>\n",
       "      <td>Soft Tissue</td>\n",
       "      <td>NaN</td>\n",
       "      <td>NaN</td>\n",
       "      <td>0.494837</td>\n",
       "    </tr>\n",
       "    <tr>\n",
       "      <th>SRR633598</th>\n",
       "      <td>NaN</td>\n",
       "      <td>Soft Tissue</td>\n",
       "      <td>NaN</td>\n",
       "      <td>NaN</td>\n",
       "      <td>0.486765</td>\n",
       "    </tr>\n",
       "    <tr>\n",
       "      <th rowspan=\"2\" valign=\"top\">SRP010038</th>\n",
       "      <th>SRR392872</th>\n",
       "      <td>Pterygia cells</td>\n",
       "      <td>NaN</td>\n",
       "      <td>NaN</td>\n",
       "      <td>NaN</td>\n",
       "      <td>0.482302</td>\n",
       "    </tr>\n",
       "    <tr>\n",
       "      <th>SRR392871</th>\n",
       "      <td>Pterygia cells</td>\n",
       "      <td>NaN</td>\n",
       "      <td>NaN</td>\n",
       "      <td>NaN</td>\n",
       "      <td>0.479016</td>\n",
       "    </tr>\n",
       "    <tr>\n",
       "      <th>SRP017575</th>\n",
       "      <th>SRR633576</th>\n",
       "      <td>NaN</td>\n",
       "      <td>Soft Tissue</td>\n",
       "      <td>NaN</td>\n",
       "      <td>NaN</td>\n",
       "      <td>0.477923</td>\n",
       "    </tr>\n",
       "  </tbody>\n",
       "</table>\n",
       "</div>"
      ],
      "text/plain": [
       "                                         cell type               tissue  \\\n",
       "project   run                                                             \n",
       "SRP010038 SRR392881                 Pterygia cells                  NaN   \n",
       "SRP008218 SRR343345    bead purified stromal cells               breast   \n",
       "SRP040292 SRR1199126                           NaN        adrenal tumor   \n",
       "SRP023262 SRR868868                            NaN               breast   \n",
       "SRP010038 SRR392897                 Pterygia cells                  NaN   \n",
       "          SRR392896                 Pterygia cells                  NaN   \n",
       "SRP023262 SRR868867                            NaN               breast   \n",
       "SRP019994 SRR797140                            NaN          Soft Tissue   \n",
       "SRP052706 SRR1768046          queiscent fibroblast                  NaN   \n",
       "SRP036821 SRR1163277                           NaN  soft tissue sarcoma   \n",
       "SRP010038 SRR392889                 Pterygia cells                  NaN   \n",
       "SRP052706 SRR1768047          queiscent fibroblast                  NaN   \n",
       "SRP023262 SRR868866                            NaN               breast   \n",
       "SRP006575 SRR537107                            NaN                 lung   \n",
       "SRP010038 SRR392882                 Pterygia cells                  NaN   \n",
       "SRP017575 SRR633601                            NaN          Soft Tissue   \n",
       "          SRR633587                            NaN          Soft Tissue   \n",
       "SRP060416 SRR2088309  tonsil Innate lymphoid cells                  NaN   \n",
       "SRP010038 SRR392895                 Pterygia cells                  NaN   \n",
       "SRP017575 SRR633572                            NaN          Soft Tissue   \n",
       "          SRR633585                            NaN          Soft Tissue   \n",
       "          SRR633598                            NaN          Soft Tissue   \n",
       "SRP010038 SRR392872                 Pterygia cells                  NaN   \n",
       "          SRR392871                 Pterygia cells                  NaN   \n",
       "SRP017575 SRR633576                            NaN          Soft Tissue   \n",
       "\n",
       "                     tissue type tissue subtype      LV54  \n",
       "project   run                                              \n",
       "SRP010038 SRR392881          NaN            NaN  0.601990  \n",
       "SRP008218 SRR343345          NaN            NaN  0.596036  \n",
       "SRP040292 SRR1199126         NaN            NaN  0.589827  \n",
       "SRP023262 SRR868868          NaN            NaN  0.576066  \n",
       "SRP010038 SRR392897          NaN            NaN  0.573547  \n",
       "          SRR392896          NaN            NaN  0.572240  \n",
       "SRP023262 SRR868867          NaN            NaN  0.571127  \n",
       "SRP019994 SRR797140          NaN            NaN  0.563327  \n",
       "SRP052706 SRR1768046         NaN            NaN  0.558763  \n",
       "SRP036821 SRR1163277         NaN           TGCT  0.547370  \n",
       "SRP010038 SRR392889          NaN            NaN  0.538014  \n",
       "SRP052706 SRR1768047         NaN            NaN  0.534443  \n",
       "SRP023262 SRR868866          NaN            NaN  0.534199  \n",
       "SRP006575 SRR537107          NaN            NaN  0.534114  \n",
       "SRP010038 SRR392882          NaN            NaN  0.532116  \n",
       "SRP017575 SRR633601          NaN            NaN  0.524074  \n",
       "          SRR633587          NaN            NaN  0.515271  \n",
       "SRP060416 SRR2088309         NaN            NaN  0.505925  \n",
       "SRP010038 SRR392895          NaN            NaN  0.502717  \n",
       "SRP017575 SRR633572          NaN            NaN  0.502240  \n",
       "          SRR633585          NaN            NaN  0.494837  \n",
       "          SRR633598          NaN            NaN  0.486765  \n",
       "SRP010038 SRR392872          NaN            NaN  0.482302  \n",
       "          SRR392871          NaN            NaN  0.479016  \n",
       "SRP017575 SRR633576          NaN            NaN  0.477923  "
      ]
     },
     "execution_count": 25,
     "metadata": {},
     "output_type": "execute_result"
    }
   ],
   "source": [
    "_tmp_seq[1]"
   ]
  },
  {
   "cell_type": "code",
   "execution_count": 26,
   "id": "emerging-cattle",
   "metadata": {},
   "outputs": [
    {
     "data": {
      "text/html": [
       "<div>\n",
       "<style scoped>\n",
       "    .dataframe tbody tr th:only-of-type {\n",
       "        vertical-align: middle;\n",
       "    }\n",
       "\n",
       "    .dataframe tbody tr th {\n",
       "        vertical-align: top;\n",
       "    }\n",
       "\n",
       "    .dataframe thead th {\n",
       "        text-align: right;\n",
       "    }\n",
       "</style>\n",
       "<table border=\"1\" class=\"dataframe\">\n",
       "  <thead>\n",
       "    <tr style=\"text-align: right;\">\n",
       "      <th></th>\n",
       "      <th></th>\n",
       "      <th>tissue</th>\n",
       "      <th>tissue archive method</th>\n",
       "      <th>stromal signature</th>\n",
       "      <th>prognosis</th>\n",
       "      <th>LV54</th>\n",
       "    </tr>\n",
       "    <tr>\n",
       "      <th>project</th>\n",
       "      <th>run</th>\n",
       "      <th></th>\n",
       "      <th></th>\n",
       "      <th></th>\n",
       "      <th></th>\n",
       "      <th></th>\n",
       "    </tr>\n",
       "  </thead>\n",
       "  <tbody>\n",
       "    <tr>\n",
       "      <th rowspan=\"10\" valign=\"top\">SRP017575</th>\n",
       "      <th>SRR633580</th>\n",
       "      <td>Soft Tissue</td>\n",
       "      <td>FFPE</td>\n",
       "      <td>EF signature</td>\n",
       "      <td>GOOD</td>\n",
       "      <td>2.781848</td>\n",
       "    </tr>\n",
       "    <tr>\n",
       "      <th>SRR633579</th>\n",
       "      <td>Soft Tissue</td>\n",
       "      <td>FFPE</td>\n",
       "      <td>EF signature</td>\n",
       "      <td>GOOD</td>\n",
       "      <td>1.969545</td>\n",
       "    </tr>\n",
       "    <tr>\n",
       "      <th>SRR633581</th>\n",
       "      <td>Soft Tissue</td>\n",
       "      <td>FFPE</td>\n",
       "      <td>EF signature</td>\n",
       "      <td>GOOD</td>\n",
       "      <td>1.590585</td>\n",
       "    </tr>\n",
       "    <tr>\n",
       "      <th>SRR633594</th>\n",
       "      <td>Soft Tissue</td>\n",
       "      <td>FFPE</td>\n",
       "      <td>NPAF signature</td>\n",
       "      <td>UNCLEAR</td>\n",
       "      <td>1.200086</td>\n",
       "    </tr>\n",
       "    <tr>\n",
       "      <th>SRR633578</th>\n",
       "      <td>Soft Tissue</td>\n",
       "      <td>FFPE</td>\n",
       "      <td>EF signature</td>\n",
       "      <td>GOOD</td>\n",
       "      <td>1.184456</td>\n",
       "    </tr>\n",
       "    <tr>\n",
       "      <th>SRR633586</th>\n",
       "      <td>Soft Tissue</td>\n",
       "      <td>FFPE</td>\n",
       "      <td>PF signature</td>\n",
       "      <td>UNCLEAR</td>\n",
       "      <td>1.030491</td>\n",
       "    </tr>\n",
       "    <tr>\n",
       "      <th>SRR633588</th>\n",
       "      <td>Soft Tissue</td>\n",
       "      <td>FFPE</td>\n",
       "      <td>PF signature</td>\n",
       "      <td>UNCLEAR</td>\n",
       "      <td>0.986030</td>\n",
       "    </tr>\n",
       "    <tr>\n",
       "      <th>SRR633567</th>\n",
       "      <td>Soft Tissue</td>\n",
       "      <td>FFPE</td>\n",
       "      <td>SFT signature</td>\n",
       "      <td>UNCLEAR</td>\n",
       "      <td>0.856877</td>\n",
       "    </tr>\n",
       "    <tr>\n",
       "      <th>SRR633574</th>\n",
       "      <td>Soft Tissue</td>\n",
       "      <td>FFPE</td>\n",
       "      <td>FC signature</td>\n",
       "      <td>UNCLEAR</td>\n",
       "      <td>0.674082</td>\n",
       "    </tr>\n",
       "    <tr>\n",
       "      <th>SRR633601</th>\n",
       "      <td>Soft Tissue</td>\n",
       "      <td>FFPE</td>\n",
       "      <td>FOTS signature</td>\n",
       "      <td>BAD</td>\n",
       "      <td>0.524074</td>\n",
       "    </tr>\n",
       "  </tbody>\n",
       "</table>\n",
       "</div>"
      ],
      "text/plain": [
       "                          tissue tissue archive method stromal signature  \\\n",
       "project   run                                                              \n",
       "SRP017575 SRR633580  Soft Tissue                  FFPE      EF signature   \n",
       "          SRR633579  Soft Tissue                  FFPE      EF signature   \n",
       "          SRR633581  Soft Tissue                  FFPE      EF signature   \n",
       "          SRR633594  Soft Tissue                  FFPE    NPAF signature   \n",
       "          SRR633578  Soft Tissue                  FFPE      EF signature   \n",
       "          SRR633586  Soft Tissue                  FFPE      PF signature   \n",
       "          SRR633588  Soft Tissue                  FFPE      PF signature   \n",
       "          SRR633567  Soft Tissue                  FFPE     SFT signature   \n",
       "          SRR633574  Soft Tissue                  FFPE      FC signature   \n",
       "          SRR633601  Soft Tissue                  FFPE    FOTS signature   \n",
       "\n",
       "                    prognosis      LV54  \n",
       "project   run                            \n",
       "SRP017575 SRR633580      GOOD  2.781848  \n",
       "          SRR633579      GOOD  1.969545  \n",
       "          SRR633581      GOOD  1.590585  \n",
       "          SRR633594   UNCLEAR  1.200086  \n",
       "          SRR633578      GOOD  1.184456  \n",
       "          SRR633586   UNCLEAR  1.030491  \n",
       "          SRR633588   UNCLEAR  0.986030  \n",
       "          SRR633567   UNCLEAR  0.856877  \n",
       "          SRR633574   UNCLEAR  0.674082  \n",
       "          SRR633601       BAD  0.524074  "
      ]
     },
     "execution_count": 26,
     "metadata": {},
     "output_type": "execute_result"
    }
   ],
   "source": [
    "# what is there in these projects?\n",
    "lv_data.loc[[\"SRP017575\"]].dropna(how=\"all\", axis=1).sort_values(\n",
    "    LV_NAME, ascending=False\n",
    ").sort_values(LV_NAME, ascending=False).head(10)"
   ]
  },
  {
   "cell_type": "code",
   "execution_count": 27,
   "id": "trying-inquiry",
   "metadata": {},
   "outputs": [],
   "source": [
    "SELECTED_ATTRIBUTE = \"cell type\""
   ]
  },
  {
   "cell_type": "code",
   "execution_count": 28,
   "id": "fantastic-manor",
   "metadata": {},
   "outputs": [],
   "source": [
    "# it has to be in the order desired for filling nans in the SELECTED_ATTRIBUTE\n",
    "SECOND_ATTRIBUTES = [\"tissue\"]"
   ]
  },
  {
   "cell_type": "markdown",
   "id": "permanent-hurricane",
   "metadata": {},
   "source": [
    "## Get plot data"
   ]
  },
  {
   "cell_type": "code",
   "execution_count": 29,
   "id": "arbitrary-egypt",
   "metadata": {},
   "outputs": [],
   "source": [
    "plot_data = lv_data.loc[:, [SELECTED_ATTRIBUTE] + SECOND_ATTRIBUTES + [LV_NAME]]"
   ]
  },
  {
   "cell_type": "code",
   "execution_count": 30,
   "id": "breathing-africa",
   "metadata": {},
   "outputs": [],
   "source": [
    "# if blank/nan, fill cell type column with tissue content\n",
    "_new_column = plot_data[[SELECTED_ATTRIBUTE] + SECOND_ATTRIBUTES].fillna(\n",
    "    method=\"backfill\", axis=1\n",
    ")[SELECTED_ATTRIBUTE]\n",
    "plot_data[SELECTED_ATTRIBUTE] = _new_column\n",
    "plot_data = plot_data.drop(columns=SECOND_ATTRIBUTES)\n",
    "plot_data = plot_data.fillna({SELECTED_ATTRIBUTE: \"NOT CATEGORIZED\"})\n",
    "# plot_data = plot_data.dropna(subset=[SELECTED_ATTRIBUTE])"
   ]
  },
  {
   "cell_type": "code",
   "execution_count": 31,
   "id": "proved-registration",
   "metadata": {},
   "outputs": [],
   "source": [
    "plot_data = plot_data.sort_values(LV_NAME, ascending=False)"
   ]
  },
  {
   "cell_type": "code",
   "execution_count": 32,
   "id": "departmental-sewing",
   "metadata": {},
   "outputs": [
    {
     "data": {
      "text/html": [
       "<div>\n",
       "<style scoped>\n",
       "    .dataframe tbody tr th:only-of-type {\n",
       "        vertical-align: middle;\n",
       "    }\n",
       "\n",
       "    .dataframe tbody tr th {\n",
       "        vertical-align: top;\n",
       "    }\n",
       "\n",
       "    .dataframe thead th {\n",
       "        text-align: right;\n",
       "    }\n",
       "</style>\n",
       "<table border=\"1\" class=\"dataframe\">\n",
       "  <thead>\n",
       "    <tr style=\"text-align: right;\">\n",
       "      <th></th>\n",
       "      <th></th>\n",
       "      <th>cell type</th>\n",
       "      <th>LV54</th>\n",
       "    </tr>\n",
       "    <tr>\n",
       "      <th>project</th>\n",
       "      <th>run</th>\n",
       "      <th></th>\n",
       "      <th></th>\n",
       "    </tr>\n",
       "  </thead>\n",
       "  <tbody>\n",
       "    <tr>\n",
       "      <th>SRP017575</th>\n",
       "      <th>SRR633580</th>\n",
       "      <td>Soft Tissue</td>\n",
       "      <td>2.781848</td>\n",
       "    </tr>\n",
       "    <tr>\n",
       "      <th>SRP006575</th>\n",
       "      <th>SRR191718</th>\n",
       "      <td>dedifferentiated liposarcoma</td>\n",
       "      <td>2.532321</td>\n",
       "    </tr>\n",
       "    <tr>\n",
       "      <th>SRP036821</th>\n",
       "      <th>SRR1163261</th>\n",
       "      <td>soft tissue sarcoma</td>\n",
       "      <td>2.509484</td>\n",
       "    </tr>\n",
       "    <tr>\n",
       "      <th rowspan=\"2\" valign=\"top\">SRP017575</th>\n",
       "      <th>SRR633579</th>\n",
       "      <td>Soft Tissue</td>\n",
       "      <td>1.969545</td>\n",
       "    </tr>\n",
       "    <tr>\n",
       "      <th>SRR633581</th>\n",
       "      <td>Soft Tissue</td>\n",
       "      <td>1.590585</td>\n",
       "    </tr>\n",
       "    <tr>\n",
       "      <th>SRP008218</th>\n",
       "      <th>SRR343344</th>\n",
       "      <td>bead purified stromal cells</td>\n",
       "      <td>1.413698</td>\n",
       "    </tr>\n",
       "    <tr>\n",
       "      <th rowspan=\"2\" valign=\"top\">SRP017575</th>\n",
       "      <th>SRR633594</th>\n",
       "      <td>Soft Tissue</td>\n",
       "      <td>1.200086</td>\n",
       "    </tr>\n",
       "    <tr>\n",
       "      <th>SRR633578</th>\n",
       "      <td>Soft Tissue</td>\n",
       "      <td>1.184456</td>\n",
       "    </tr>\n",
       "    <tr>\n",
       "      <th>SRP019994</th>\n",
       "      <th>SRR797093</th>\n",
       "      <td>Soft Tissue</td>\n",
       "      <td>1.169782</td>\n",
       "    </tr>\n",
       "    <tr>\n",
       "      <th rowspan=\"2\" valign=\"top\">SRP017575</th>\n",
       "      <th>SRR633586</th>\n",
       "      <td>Soft Tissue</td>\n",
       "      <td>1.030491</td>\n",
       "    </tr>\n",
       "    <tr>\n",
       "      <th>SRR633588</th>\n",
       "      <td>Soft Tissue</td>\n",
       "      <td>0.986030</td>\n",
       "    </tr>\n",
       "    <tr>\n",
       "      <th>SRP006575</th>\n",
       "      <th>SRR191716</th>\n",
       "      <td>dedifferentiated liposarcoma</td>\n",
       "      <td>0.927533</td>\n",
       "    </tr>\n",
       "    <tr>\n",
       "      <th>SRP036821</th>\n",
       "      <th>SRR1163262</th>\n",
       "      <td>soft tissue sarcoma</td>\n",
       "      <td>0.914062</td>\n",
       "    </tr>\n",
       "    <tr>\n",
       "      <th>SRP017575</th>\n",
       "      <th>SRR633567</th>\n",
       "      <td>Soft Tissue</td>\n",
       "      <td>0.856877</td>\n",
       "    </tr>\n",
       "    <tr>\n",
       "      <th rowspan=\"2\" valign=\"top\">SRP006575</th>\n",
       "      <th>SRR191695</th>\n",
       "      <td>myxoid liposarcoma</td>\n",
       "      <td>0.820552</td>\n",
       "    </tr>\n",
       "    <tr>\n",
       "      <th>SRR191696</th>\n",
       "      <td>myxoid liposarcoma</td>\n",
       "      <td>0.812551</td>\n",
       "    </tr>\n",
       "    <tr>\n",
       "      <th>SRP023262</th>\n",
       "      <th>SRR868869</th>\n",
       "      <td>breast</td>\n",
       "      <td>0.708520</td>\n",
       "    </tr>\n",
       "    <tr>\n",
       "      <th>SRP036821</th>\n",
       "      <th>SRR1163245</th>\n",
       "      <td>soft tissue sarcoma</td>\n",
       "      <td>0.692212</td>\n",
       "    </tr>\n",
       "    <tr>\n",
       "      <th>SRP017575</th>\n",
       "      <th>SRR633574</th>\n",
       "      <td>Soft Tissue</td>\n",
       "      <td>0.674082</td>\n",
       "    </tr>\n",
       "    <tr>\n",
       "      <th>SRP010038</th>\n",
       "      <th>SRR392874</th>\n",
       "      <td>Pterygia cells</td>\n",
       "      <td>0.669704</td>\n",
       "    </tr>\n",
       "  </tbody>\n",
       "</table>\n",
       "</div>"
      ],
      "text/plain": [
       "                                         cell type      LV54\n",
       "project   run                                               \n",
       "SRP017575 SRR633580                    Soft Tissue  2.781848\n",
       "SRP006575 SRR191718   dedifferentiated liposarcoma  2.532321\n",
       "SRP036821 SRR1163261           soft tissue sarcoma  2.509484\n",
       "SRP017575 SRR633579                    Soft Tissue  1.969545\n",
       "          SRR633581                    Soft Tissue  1.590585\n",
       "SRP008218 SRR343344    bead purified stromal cells  1.413698\n",
       "SRP017575 SRR633594                    Soft Tissue  1.200086\n",
       "          SRR633578                    Soft Tissue  1.184456\n",
       "SRP019994 SRR797093                    Soft Tissue  1.169782\n",
       "SRP017575 SRR633586                    Soft Tissue  1.030491\n",
       "          SRR633588                    Soft Tissue  0.986030\n",
       "SRP006575 SRR191716   dedifferentiated liposarcoma  0.927533\n",
       "SRP036821 SRR1163262           soft tissue sarcoma  0.914062\n",
       "SRP017575 SRR633567                    Soft Tissue  0.856877\n",
       "SRP006575 SRR191695             myxoid liposarcoma  0.820552\n",
       "          SRR191696             myxoid liposarcoma  0.812551\n",
       "SRP023262 SRR868869                         breast  0.708520\n",
       "SRP036821 SRR1163245           soft tissue sarcoma  0.692212\n",
       "SRP017575 SRR633574                    Soft Tissue  0.674082\n",
       "SRP010038 SRR392874                 Pterygia cells  0.669704"
      ]
     },
     "execution_count": 32,
     "metadata": {},
     "output_type": "execute_result"
    }
   ],
   "source": [
    "plot_data.head(20)"
   ]
  },
  {
   "cell_type": "markdown",
   "id": "egyptian-adventure",
   "metadata": {},
   "source": [
    "## Customize x-axis values"
   ]
  },
  {
   "cell_type": "markdown",
   "id": "familiar-duplicate",
   "metadata": {},
   "source": [
    "When cell type values are not very clear, customize their names by looking at their specific studies to know exactly what the authors meant."
   ]
  },
  {
   "cell_type": "code",
   "execution_count": 33,
   "id": "interpreted-reader",
   "metadata": {},
   "outputs": [],
   "source": [
    "final_plot_data = plot_data.replace(\n",
    "    {\n",
    "        SELECTED_ATTRIBUTE: {\n",
    "            \"Soft Tissue\": \"Leiomyosarcoma\",\n",
    "        }\n",
    "    }\n",
    ")"
   ]
  },
  {
   "cell_type": "code",
   "execution_count": 34,
   "id": "moral-trinity",
   "metadata": {},
   "outputs": [
    {
     "name": "stderr",
     "output_type": "stream",
     "text": [
      "<ipython-input-34-c8958257afd6>:3: PerformanceWarning: indexing past lexsort depth may impact performance.\n",
      "  _tmp = final_plot_data.loc[(_srp_code,)].apply(\n",
      "<ipython-input-34-c8958257afd6>:12: PerformanceWarning: indexing past lexsort depth may impact performance.\n",
      "  _tmp = final_plot_data.loc[(_srp_code,)].apply(\n"
     ]
    }
   ],
   "source": [
    "# add also tissue information to these projects\n",
    "_srp_code = \"SRP017575\"\n",
    "_tmp = final_plot_data.loc[(_srp_code,)].apply(\n",
    "    lambda x: \"Soft tissue tumor\"\n",
    "    + f\" ({lv_data.loc[(_srp_code, x.name), 'stromal signature']})\",\n",
    "    axis=1,\n",
    ")\n",
    "final_plot_data.loc[(_srp_code, _tmp.index), SELECTED_ATTRIBUTE] = _tmp.values\n",
    "\n",
    "\n",
    "_srp_code = \"SRP036821\"\n",
    "_tmp = final_plot_data.loc[(_srp_code,)].apply(\n",
    "    lambda x: lv_data.loc[(_srp_code, x.name), \"tissue\"]\n",
    "    + f\" ({lv_data.loc[(_srp_code, x.name), 'tissue subtype']})\",\n",
    "    axis=1,\n",
    ")\n",
    "final_plot_data.loc[(_srp_code, _tmp.index), SELECTED_ATTRIBUTE] = _tmp.values"
   ]
  },
  {
   "cell_type": "code",
   "execution_count": 35,
   "id": "framed-height",
   "metadata": {},
   "outputs": [],
   "source": [
    "# all samples from SRP049593 are fibroblasts\n",
    "final_plot_data[SELECTED_ATTRIBUTE] = final_plot_data.apply(\n",
    "    lambda x: \"Myeloma cells\" if x.name[0] in (\"SRP027015\",) else x[\"cell type\"],\n",
    "    axis=1,\n",
    ")"
   ]
  },
  {
   "cell_type": "code",
   "execution_count": 36,
   "id": "relative-anchor",
   "metadata": {},
   "outputs": [],
   "source": [
    "# take the top samples only\n",
    "final_plot_data = final_plot_data.sort_values(LV_NAME, ascending=False)[:N_TOP_SAMPLES]"
   ]
  },
  {
   "cell_type": "markdown",
   "id": "above-assembly",
   "metadata": {},
   "source": [
    "## Threshold LV values"
   ]
  },
  {
   "cell_type": "code",
   "execution_count": 37,
   "id": "subject-washington",
   "metadata": {},
   "outputs": [],
   "source": [
    "final_plot_data.loc[\n",
    "    final_plot_data[LV_NAME] > LV_AXIS_THRESHOLD, LV_NAME\n",
    "] = LV_AXIS_THRESHOLD"
   ]
  },
  {
   "cell_type": "markdown",
   "id": "finnish-status",
   "metadata": {},
   "source": [
    "## Delete samples with no tissue/cell type information"
   ]
  },
  {
   "cell_type": "code",
   "execution_count": 38,
   "id": "vanilla-helping",
   "metadata": {},
   "outputs": [],
   "source": [
    "final_plot_data = final_plot_data[\n",
    "    final_plot_data[SELECTED_ATTRIBUTE] != \"NOT CATEGORIZED\"\n",
    "]"
   ]
  },
  {
   "cell_type": "markdown",
   "id": "utility-atmosphere",
   "metadata": {},
   "source": [
    "## Set x-axis order"
   ]
  },
  {
   "cell_type": "code",
   "execution_count": 39,
   "id": "constant-earthquake",
   "metadata": {},
   "outputs": [],
   "source": [
    "attr_order = (\n",
    "    final_plot_data.groupby(SELECTED_ATTRIBUTE)\n",
    "    .max()\n",
    "    .sort_values(LV_NAME, ascending=False)\n",
    "    .index[:N_TOP_ATTRS]\n",
    "    .tolist()\n",
    ")"
   ]
  },
  {
   "cell_type": "code",
   "execution_count": 40,
   "id": "other-nature",
   "metadata": {},
   "outputs": [
    {
     "data": {
      "text/plain": [
       "25"
      ]
     },
     "execution_count": 40,
     "metadata": {},
     "output_type": "execute_result"
    }
   ],
   "source": [
    "len(attr_order)"
   ]
  },
  {
   "cell_type": "code",
   "execution_count": 41,
   "id": "derived-pound",
   "metadata": {},
   "outputs": [
    {
     "data": {
      "text/plain": [
       "['Soft tissue tumor (EF signature)',\n",
       " 'dedifferentiated liposarcoma',\n",
       " 'soft tissue sarcoma (DDLPS)',\n",
       " 'bead purified stromal cells',\n",
       " 'Soft tissue tumor (NPAF signature)']"
      ]
     },
     "execution_count": 41,
     "metadata": {},
     "output_type": "execute_result"
    }
   ],
   "source": [
    "attr_order[:5]"
   ]
  },
  {
   "cell_type": "markdown",
   "id": "announced-oxford",
   "metadata": {},
   "source": [
    "## Plot"
   ]
  },
  {
   "cell_type": "code",
   "execution_count": 42,
   "id": "sapphire-average",
   "metadata": {},
   "outputs": [
    {
     "data": {
      "image/png": "[encoded data removed]",
      "text/plain": [
       "<Figure size 1080x360 with 1 Axes>"
      ]
     },
     "metadata": {},
     "output_type": "display_data"
    }
   ],
   "source": [
    "with sns.plotting_context(\"paper\", font_scale=1.5), sns.axes_style(\"whitegrid\"):\n",
    "    sns.catplot(\n",
    "        data=final_plot_data,\n",
    "        y=LV_NAME,\n",
    "        x=SELECTED_ATTRIBUTE,\n",
    "        order=attr_order,\n",
    "        kind=\"strip\",\n",
    "        height=5,\n",
    "        aspect=3,\n",
    "    )\n",
    "    plt.xticks(rotation=45, horizontalalignment=\"right\")\n",
    "\n",
    "    plt.savefig(\n",
    "        OUTPUT_CELL_TYPE_FILEPATH,\n",
    "        bbox_inches=\"tight\",\n",
    "        facecolor=\"white\",\n",
    "    )"
   ]
  },
  {
   "cell_type": "markdown",
   "id": "hungarian-soldier",
   "metadata": {},
   "source": [
    "# Debug"
   ]
  },
  {
   "cell_type": "code",
   "execution_count": 43,
   "id": "chubby-fabric",
   "metadata": {},
   "outputs": [],
   "source": [
    "# with pd.option_context(\n",
    "#     \"display.max_rows\", None, \"display.max_columns\", None, \"display.max_colwidth\", None\n",
    "# ):\n",
    "#     _tmp = final_plot_data[\n",
    "#         final_plot_data[SELECTED_ATTRIBUTE].str.contains(\"Soft Tissue\")\n",
    "#     ]\n",
    "#     display(_tmp.head(20))"
   ]
  },
  {
   "cell_type": "code",
   "execution_count": 44,
   "id": "awful-romania",
   "metadata": {},
   "outputs": [],
   "source": [
    "# # what is there in these projects?\n",
    "# lv_data.loc[[\"SRP019994\"]].dropna(how=\"all\", axis=1).sort_values(\n",
    "#     LV_NAME, ascending=False\n",
    "# ).head(60)"
   ]
  },
  {
   "cell_type": "code",
   "execution_count": null,
   "id": "pursuant-genealogy",
   "metadata": {},
   "outputs": [],
   "source": []
  }
 ],
 "metadata": {
  "jupytext": {
   "cell_metadata_filter": "all,-execution,-papermill,-trusted",
   "formats": "ipynb,py//py:percent"
  },
  "kernelspec": {
   "display_name": "Python 3",
   "language": "python",
   "name": "python3"
  },
  "language_info": {
   "codemirror_mode": {
    "name": "ipython",
    "version": 3
   },
   "file_extension": ".py",
   "mimetype": "text/x-python",
   "name": "python",
   "nbconvert_exporter": "python",
   "pygments_lexer": "ipython3",
   "version": "3.8.8"
  }
 },
 "nbformat": 4,
 "nbformat_minor": 5
}
