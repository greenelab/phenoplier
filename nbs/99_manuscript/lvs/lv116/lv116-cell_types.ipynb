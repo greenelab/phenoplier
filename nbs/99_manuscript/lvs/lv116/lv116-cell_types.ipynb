{
 "cells": [
  {
   "cell_type": "markdown",
   "id": "checked-sphere",
   "metadata": {
    "papermill": {
     "duration": 0.006593,
     "end_time": "2021-05-11T19:09:55.733221",
     "exception": false,
     "start_time": "2021-05-11T19:09:55.726628",
     "status": "completed"
    },
    "tags": []
   },
   "source": [
    "# Description"
   ]
  },
  {
   "cell_type": "markdown",
   "id": "theoretical-rolling",
   "metadata": {
    "papermill": {
     "duration": 0.00668,
     "end_time": "2021-05-11T19:09:55.745410",
     "exception": false,
     "start_time": "2021-05-11T19:09:55.738730",
     "status": "completed"
    },
    "tags": []
   },
   "source": [
    "Generates the figure for top cell types for a specified LV (in Settings section below)."
   ]
  },
  {
   "cell_type": "markdown",
   "id": "compound-culture",
   "metadata": {
    "papermill": {
     "duration": 0.006223,
     "end_time": "2021-05-11T19:09:55.756959",
     "exception": false,
     "start_time": "2021-05-11T19:09:55.750736",
     "status": "completed"
    },
    "tags": []
   },
   "source": [
    "# Modules loading"
   ]
  },
  {
   "cell_type": "code",
   "execution_count": 1,
   "id": "moral-utility",
   "metadata": {
    "papermill": {
     "duration": 0.01906,
     "end_time": "2021-05-11T19:09:55.781515",
     "exception": false,
     "start_time": "2021-05-11T19:09:55.762455",
     "status": "completed"
    },
    "tags": []
   },
   "outputs": [],
   "source": [
    "%load_ext autoreload\n",
    "%autoreload 2"
   ]
  },
  {
   "cell_type": "code",
   "execution_count": 2,
   "id": "opened-lunch",
   "metadata": {
    "papermill": {
     "duration": 0.993432,
     "end_time": "2021-05-11T19:09:56.780403",
     "exception": false,
     "start_time": "2021-05-11T19:09:55.786971",
     "status": "completed"
    },
    "tags": []
   },
   "outputs": [],
   "source": [
    "import re\n",
    "from pathlib import Path\n",
    "\n",
    "import pandas as pd\n",
    "import matplotlib.pyplot as plt\n",
    "import seaborn as sns\n",
    "\n",
    "from data.recount2 import LVAnalysis\n",
    "from utils import chunker\n",
    "import conf"
   ]
  },
  {
   "cell_type": "markdown",
   "id": "crude-remains",
   "metadata": {
    "papermill": {
     "duration": 0.005973,
     "end_time": "2021-05-11T19:09:56.792495",
     "exception": false,
     "start_time": "2021-05-11T19:09:56.786522",
     "status": "completed"
    },
    "tags": []
   },
   "source": [
    "# Settings"
   ]
  },
  {
   "cell_type": "code",
   "execution_count": 3,
   "id": "applicable-affiliation",
   "metadata": {
    "papermill": {
     "duration": 0.019548,
     "end_time": "2021-05-11T19:09:56.817689",
     "exception": false,
     "start_time": "2021-05-11T19:09:56.798141",
     "status": "completed"
    },
    "tags": [
     "parameters"
    ]
   },
   "outputs": [],
   "source": [
    "LV_NAME = \"LV116\""
   ]
  },
  {
   "cell_type": "code",
   "execution_count": 4,
   "id": "organized-fight",
   "metadata": {},
   "outputs": [],
   "source": [
    "LV_AXIS_THRESHOLD = 3.0\n",
    "N_TOP_SAMPLES = 400\n",
    "N_TOP_ATTRS = 25"
   ]
  },
  {
   "cell_type": "code",
   "execution_count": 5,
   "id": "armed-milan",
   "metadata": {},
   "outputs": [
    {
     "data": {
      "text/plain": [
       "PosixPath('/home/miltondp/projects/labs/greenelab/phenoplier_manuscript/content/images/lvs_analysis/lv116')"
      ]
     },
     "metadata": {},
     "output_type": "display_data"
    }
   ],
   "source": [
    "OUTPUT_FIGURES_DIR = Path(\n",
    "    conf.MANUSCRIPT[\"FIGURES_DIR\"], \"lvs_analysis\", f\"{LV_NAME.lower()}\"\n",
    ").resolve()\n",
    "display(OUTPUT_FIGURES_DIR)\n",
    "OUTPUT_FIGURES_DIR.mkdir(parents=True, exist_ok=True)"
   ]
  },
  {
   "cell_type": "code",
   "execution_count": 6,
   "id": "olympic-retro",
   "metadata": {},
   "outputs": [
    {
     "data": {
      "text/plain": [
       "PosixPath('/home/miltondp/projects/labs/greenelab/phenoplier_manuscript/content/images/lvs_analysis/lv116/lv116-cell_types.svg')"
      ]
     },
     "metadata": {},
     "output_type": "display_data"
    }
   ],
   "source": [
    "OUTPUT_CELL_TYPE_FILEPATH = OUTPUT_FIGURES_DIR / f\"{LV_NAME.lower()}-cell_types.svg\"\n",
    "display(OUTPUT_CELL_TYPE_FILEPATH)"
   ]
  },
  {
   "cell_type": "markdown",
   "id": "incredible-riding",
   "metadata": {
    "papermill": {
     "duration": 0.005592,
     "end_time": "2021-05-11T19:09:56.854406",
     "exception": false,
     "start_time": "2021-05-11T19:09:56.848814",
     "status": "completed"
    },
    "tags": []
   },
   "source": [
    "# Load MultiPLIER summary"
   ]
  },
  {
   "cell_type": "code",
   "execution_count": 7,
   "id": "homeless-welding",
   "metadata": {
    "papermill": {
     "duration": 0.020251,
     "end_time": "2021-05-11T19:09:56.880435",
     "exception": false,
     "start_time": "2021-05-11T19:09:56.860184",
     "status": "completed"
    },
    "tags": []
   },
   "outputs": [],
   "source": [
    "multiplier_model_summary = pd.read_pickle(conf.MULTIPLIER[\"MODEL_SUMMARY_FILE\"])"
   ]
  },
  {
   "cell_type": "code",
   "execution_count": 8,
   "id": "careful-shirt",
   "metadata": {
    "papermill": {
     "duration": 0.02062,
     "end_time": "2021-05-11T19:09:56.906744",
     "exception": false,
     "start_time": "2021-05-11T19:09:56.886124",
     "status": "completed"
    },
    "tags": []
   },
   "outputs": [
    {
     "data": {
      "text/plain": [
       "(2157, 5)"
      ]
     },
     "execution_count": 8,
     "metadata": {},
     "output_type": "execute_result"
    }
   ],
   "source": [
    "multiplier_model_summary.shape"
   ]
  },
  {
   "cell_type": "code",
   "execution_count": 9,
   "id": "homeless-flight",
   "metadata": {
    "papermill": {
     "duration": 0.024737,
     "end_time": "2021-05-11T19:09:56.937493",
     "exception": false,
     "start_time": "2021-05-11T19:09:56.912756",
     "status": "completed"
    },
    "tags": []
   },
   "outputs": [
    {
     "data": {
      "text/html": [
       "<div>\n",
       "<style scoped>\n",
       "    .dataframe tbody tr th:only-of-type {\n",
       "        vertical-align: middle;\n",
       "    }\n",
       "\n",
       "    .dataframe tbody tr th {\n",
       "        vertical-align: top;\n",
       "    }\n",
       "\n",
       "    .dataframe thead th {\n",
       "        text-align: right;\n",
       "    }\n",
       "</style>\n",
       "<table border=\"1\" class=\"dataframe\">\n",
       "  <thead>\n",
       "    <tr style=\"text-align: right;\">\n",
       "      <th></th>\n",
       "      <th>pathway</th>\n",
       "      <th>LV index</th>\n",
       "      <th>AUC</th>\n",
       "      <th>p-value</th>\n",
       "      <th>FDR</th>\n",
       "    </tr>\n",
       "  </thead>\n",
       "  <tbody>\n",
       "    <tr>\n",
       "      <th>1</th>\n",
       "      <td>KEGG_LYSINE_DEGRADATION</td>\n",
       "      <td>1</td>\n",
       "      <td>0.388059</td>\n",
       "      <td>0.866078</td>\n",
       "      <td>0.956005</td>\n",
       "    </tr>\n",
       "    <tr>\n",
       "      <th>2</th>\n",
       "      <td>REACTOME_MRNA_SPLICING</td>\n",
       "      <td>1</td>\n",
       "      <td>0.733057</td>\n",
       "      <td>0.000048</td>\n",
       "      <td>0.000582</td>\n",
       "    </tr>\n",
       "    <tr>\n",
       "      <th>3</th>\n",
       "      <td>MIPS_NOP56P_ASSOCIATED_PRE_RRNA_COMPLEX</td>\n",
       "      <td>1</td>\n",
       "      <td>0.680555</td>\n",
       "      <td>0.001628</td>\n",
       "      <td>0.011366</td>\n",
       "    </tr>\n",
       "    <tr>\n",
       "      <th>4</th>\n",
       "      <td>KEGG_DNA_REPLICATION</td>\n",
       "      <td>1</td>\n",
       "      <td>0.549473</td>\n",
       "      <td>0.312155</td>\n",
       "      <td>0.539951</td>\n",
       "    </tr>\n",
       "    <tr>\n",
       "      <th>5</th>\n",
       "      <td>PID_MYC_ACTIVPATHWAY</td>\n",
       "      <td>1</td>\n",
       "      <td>0.639303</td>\n",
       "      <td>0.021702</td>\n",
       "      <td>0.083739</td>\n",
       "    </tr>\n",
       "  </tbody>\n",
       "</table>\n",
       "</div>"
      ],
      "text/plain": [
       "                                   pathway LV index       AUC   p-value  \\\n",
       "1                  KEGG_LYSINE_DEGRADATION        1  0.388059  0.866078   \n",
       "2                   REACTOME_MRNA_SPLICING        1  0.733057  0.000048   \n",
       "3  MIPS_NOP56P_ASSOCIATED_PRE_RRNA_COMPLEX        1  0.680555  0.001628   \n",
       "4                     KEGG_DNA_REPLICATION        1  0.549473  0.312155   \n",
       "5                     PID_MYC_ACTIVPATHWAY        1  0.639303  0.021702   \n",
       "\n",
       "        FDR  \n",
       "1  0.956005  \n",
       "2  0.000582  \n",
       "3  0.011366  \n",
       "4  0.539951  \n",
       "5  0.083739  "
      ]
     },
     "execution_count": 9,
     "metadata": {},
     "output_type": "execute_result"
    }
   ],
   "source": [
    "multiplier_model_summary.head()"
   ]
  },
  {
   "cell_type": "markdown",
   "id": "driving-croatia",
   "metadata": {
    "papermill": {
     "duration": 0.006007,
     "end_time": "2021-05-11T19:09:56.949763",
     "exception": false,
     "start_time": "2021-05-11T19:09:56.943756",
     "status": "completed"
    },
    "tags": []
   },
   "source": [
    "# Load data"
   ]
  },
  {
   "cell_type": "markdown",
   "id": "killing-harvey",
   "metadata": {
    "papermill": {
     "duration": 0.005873,
     "end_time": "2021-05-11T19:09:56.961602",
     "exception": false,
     "start_time": "2021-05-11T19:09:56.955729",
     "status": "completed"
    },
    "tags": []
   },
   "source": [
    "## Original data"
   ]
  },
  {
   "cell_type": "code",
   "execution_count": 10,
   "id": "trained-billion",
   "metadata": {
    "papermill": {
     "duration": 0.019571,
     "end_time": "2021-05-11T19:09:56.987255",
     "exception": false,
     "start_time": "2021-05-11T19:09:56.967684",
     "status": "completed"
    },
    "tags": []
   },
   "outputs": [],
   "source": [
    "INPUT_SUBSET = \"z_score_std\""
   ]
  },
  {
   "cell_type": "code",
   "execution_count": 11,
   "id": "rocky-concentration",
   "metadata": {
    "papermill": {
     "duration": 0.019175,
     "end_time": "2021-05-11T19:09:57.025099",
     "exception": false,
     "start_time": "2021-05-11T19:09:57.005924",
     "status": "completed"
    },
    "tags": []
   },
   "outputs": [],
   "source": [
    "INPUT_STEM = \"projection-smultixcan-efo_partial-mashr-zscores\""
   ]
  },
  {
   "cell_type": "code",
   "execution_count": 12,
   "id": "virgin-passage",
   "metadata": {
    "papermill": {
     "duration": 0.020992,
     "end_time": "2021-05-11T19:09:57.052255",
     "exception": false,
     "start_time": "2021-05-11T19:09:57.031263",
     "status": "completed"
    },
    "tags": []
   },
   "outputs": [
    {
     "data": {
      "text/plain": [
       "PosixPath('/home/miltondp/projects/labs/greenelab/phenoplier/bases_data/base_orig/results/data_transformations/z_score_std/z_score_std-projection-smultixcan-efo_partial-mashr-zscores.pkl')"
      ]
     },
     "metadata": {},
     "output_type": "display_data"
    },
    {
     "data": {
      "text/plain": [
       "'z_score_std-projection-smultixcan-efo_partial-mashr-zscores'"
      ]
     },
     "metadata": {},
     "output_type": "display_data"
    }
   ],
   "source": [
    "input_filepath = Path(\n",
    "    conf.RESULTS[\"DATA_TRANSFORMATIONS_DIR\"],\n",
    "    INPUT_SUBSET,\n",
    "    f\"{INPUT_SUBSET}-{INPUT_STEM}.pkl\",\n",
    ").resolve()\n",
    "display(input_filepath)\n",
    "\n",
    "assert input_filepath.exists(), \"Input file does not exist\"\n",
    "\n",
    "input_filepath_stem = input_filepath.stem\n",
    "display(input_filepath_stem)"
   ]
  },
  {
   "cell_type": "code",
   "execution_count": 13,
   "id": "voluntary-writing",
   "metadata": {
    "papermill": {
     "duration": 0.032337,
     "end_time": "2021-05-11T19:09:57.090585",
     "exception": false,
     "start_time": "2021-05-11T19:09:57.058248",
     "status": "completed"
    },
    "tags": []
   },
   "outputs": [],
   "source": [
    "data = pd.read_pickle(input_filepath)"
   ]
  },
  {
   "cell_type": "code",
   "execution_count": 14,
   "id": "devoted-emperor",
   "metadata": {
    "papermill": {
     "duration": 0.01967,
     "end_time": "2021-05-11T19:09:57.116292",
     "exception": false,
     "start_time": "2021-05-11T19:09:57.096622",
     "status": "completed"
    },
    "tags": []
   },
   "outputs": [
    {
     "data": {
      "text/plain": [
       "(3752, 987)"
      ]
     },
     "execution_count": 14,
     "metadata": {},
     "output_type": "execute_result"
    }
   ],
   "source": [
    "data.shape"
   ]
  },
  {
   "cell_type": "code",
   "execution_count": 15,
   "id": "typical-conflict",
   "metadata": {
    "papermill": {
     "duration": 0.031843,
     "end_time": "2021-05-11T19:09:57.154356",
     "exception": false,
     "start_time": "2021-05-11T19:09:57.122513",
     "status": "completed"
    },
    "tags": []
   },
   "outputs": [
    {
     "data": {
      "text/html": [
       "<div>\n",
       "<style scoped>\n",
       "    .dataframe tbody tr th:only-of-type {\n",
       "        vertical-align: middle;\n",
       "    }\n",
       "\n",
       "    .dataframe tbody tr th {\n",
       "        vertical-align: top;\n",
       "    }\n",
       "\n",
       "    .dataframe thead th {\n",
       "        text-align: right;\n",
       "    }\n",
       "</style>\n",
       "<table border=\"1\" class=\"dataframe\">\n",
       "  <thead>\n",
       "    <tr style=\"text-align: right;\">\n",
       "      <th></th>\n",
       "      <th>LV1</th>\n",
       "      <th>LV2</th>\n",
       "      <th>LV3</th>\n",
       "      <th>LV4</th>\n",
       "      <th>LV5</th>\n",
       "      <th>LV6</th>\n",
       "      <th>LV7</th>\n",
       "      <th>LV8</th>\n",
       "      <th>LV9</th>\n",
       "      <th>LV10</th>\n",
       "      <th>...</th>\n",
       "      <th>LV978</th>\n",
       "      <th>LV979</th>\n",
       "      <th>LV980</th>\n",
       "      <th>LV981</th>\n",
       "      <th>LV982</th>\n",
       "      <th>LV983</th>\n",
       "      <th>LV984</th>\n",
       "      <th>LV985</th>\n",
       "      <th>LV986</th>\n",
       "      <th>LV987</th>\n",
       "    </tr>\n",
       "  </thead>\n",
       "  <tbody>\n",
       "    <tr>\n",
       "      <th>100001_raw-Food_weight</th>\n",
       "      <td>-0.695006</td>\n",
       "      <td>1.962565</td>\n",
       "      <td>0.057683</td>\n",
       "      <td>0.878731</td>\n",
       "      <td>-0.539977</td>\n",
       "      <td>1.481272</td>\n",
       "      <td>-0.396422</td>\n",
       "      <td>1.090180</td>\n",
       "      <td>0.759223</td>\n",
       "      <td>0.931395</td>\n",
       "      <td>...</td>\n",
       "      <td>1.129784</td>\n",
       "      <td>1.752343</td>\n",
       "      <td>-1.411403</td>\n",
       "      <td>2.823863</td>\n",
       "      <td>0.931116</td>\n",
       "      <td>-1.054519</td>\n",
       "      <td>0.432982</td>\n",
       "      <td>-0.633597</td>\n",
       "      <td>0.554279</td>\n",
       "      <td>-0.642479</td>\n",
       "    </tr>\n",
       "    <tr>\n",
       "      <th>100002_raw-Energy</th>\n",
       "      <td>-1.528127</td>\n",
       "      <td>-0.345309</td>\n",
       "      <td>-0.148953</td>\n",
       "      <td>-0.242060</td>\n",
       "      <td>0.373427</td>\n",
       "      <td>0.791092</td>\n",
       "      <td>0.263477</td>\n",
       "      <td>0.987702</td>\n",
       "      <td>0.354391</td>\n",
       "      <td>1.416059</td>\n",
       "      <td>...</td>\n",
       "      <td>0.224604</td>\n",
       "      <td>0.769882</td>\n",
       "      <td>-0.509482</td>\n",
       "      <td>0.091153</td>\n",
       "      <td>2.286789</td>\n",
       "      <td>-1.008256</td>\n",
       "      <td>-0.029764</td>\n",
       "      <td>1.737229</td>\n",
       "      <td>-0.272107</td>\n",
       "      <td>-0.526125</td>\n",
       "    </tr>\n",
       "    <tr>\n",
       "      <th>100003_raw-Protein</th>\n",
       "      <td>-0.704572</td>\n",
       "      <td>-1.011299</td>\n",
       "      <td>0.671420</td>\n",
       "      <td>0.143991</td>\n",
       "      <td>0.615212</td>\n",
       "      <td>0.874212</td>\n",
       "      <td>-0.040998</td>\n",
       "      <td>0.915170</td>\n",
       "      <td>0.254369</td>\n",
       "      <td>-0.084237</td>\n",
       "      <td>...</td>\n",
       "      <td>1.003019</td>\n",
       "      <td>1.044314</td>\n",
       "      <td>-2.376108</td>\n",
       "      <td>0.004778</td>\n",
       "      <td>0.053714</td>\n",
       "      <td>-0.892447</td>\n",
       "      <td>-0.183800</td>\n",
       "      <td>1.377991</td>\n",
       "      <td>-0.278794</td>\n",
       "      <td>-0.419733</td>\n",
       "    </tr>\n",
       "    <tr>\n",
       "      <th>100004_raw-Fat</th>\n",
       "      <td>-0.989832</td>\n",
       "      <td>-1.875490</td>\n",
       "      <td>0.261555</td>\n",
       "      <td>-1.420719</td>\n",
       "      <td>0.366238</td>\n",
       "      <td>1.167049</td>\n",
       "      <td>0.257387</td>\n",
       "      <td>0.717674</td>\n",
       "      <td>-0.997664</td>\n",
       "      <td>0.969825</td>\n",
       "      <td>...</td>\n",
       "      <td>0.585913</td>\n",
       "      <td>0.638314</td>\n",
       "      <td>0.119139</td>\n",
       "      <td>-0.140204</td>\n",
       "      <td>1.394326</td>\n",
       "      <td>-1.173402</td>\n",
       "      <td>0.555058</td>\n",
       "      <td>1.013982</td>\n",
       "      <td>-0.544506</td>\n",
       "      <td>-0.064061</td>\n",
       "    </tr>\n",
       "    <tr>\n",
       "      <th>100005_raw-Carbohydrate</th>\n",
       "      <td>-0.580143</td>\n",
       "      <td>0.243335</td>\n",
       "      <td>0.158966</td>\n",
       "      <td>-0.036558</td>\n",
       "      <td>0.068176</td>\n",
       "      <td>-0.202639</td>\n",
       "      <td>1.101281</td>\n",
       "      <td>0.675227</td>\n",
       "      <td>1.463432</td>\n",
       "      <td>1.010078</td>\n",
       "      <td>...</td>\n",
       "      <td>-0.249108</td>\n",
       "      <td>-0.026814</td>\n",
       "      <td>0.232713</td>\n",
       "      <td>0.323682</td>\n",
       "      <td>1.168642</td>\n",
       "      <td>-0.282935</td>\n",
       "      <td>0.653105</td>\n",
       "      <td>1.909526</td>\n",
       "      <td>0.199997</td>\n",
       "      <td>-1.656894</td>\n",
       "    </tr>\n",
       "  </tbody>\n",
       "</table>\n",
       "<p>5 rows × 987 columns</p>\n",
       "</div>"
      ],
      "text/plain": [
       "                              LV1       LV2       LV3       LV4       LV5  \\\n",
       "100001_raw-Food_weight  -0.695006  1.962565  0.057683  0.878731 -0.539977   \n",
       "100002_raw-Energy       -1.528127 -0.345309 -0.148953 -0.242060  0.373427   \n",
       "100003_raw-Protein      -0.704572 -1.011299  0.671420  0.143991  0.615212   \n",
       "100004_raw-Fat          -0.989832 -1.875490  0.261555 -1.420719  0.366238   \n",
       "100005_raw-Carbohydrate -0.580143  0.243335  0.158966 -0.036558  0.068176   \n",
       "\n",
       "                              LV6       LV7       LV8       LV9      LV10  \\\n",
       "100001_raw-Food_weight   1.481272 -0.396422  1.090180  0.759223  0.931395   \n",
       "100002_raw-Energy        0.791092  0.263477  0.987702  0.354391  1.416059   \n",
       "100003_raw-Protein       0.874212 -0.040998  0.915170  0.254369 -0.084237   \n",
       "100004_raw-Fat           1.167049  0.257387  0.717674 -0.997664  0.969825   \n",
       "100005_raw-Carbohydrate -0.202639  1.101281  0.675227  1.463432  1.010078   \n",
       "\n",
       "                         ...     LV978     LV979     LV980     LV981  \\\n",
       "100001_raw-Food_weight   ...  1.129784  1.752343 -1.411403  2.823863   \n",
       "100002_raw-Energy        ...  0.224604  0.769882 -0.509482  0.091153   \n",
       "100003_raw-Protein       ...  1.003019  1.044314 -2.376108  0.004778   \n",
       "100004_raw-Fat           ...  0.585913  0.638314  0.119139 -0.140204   \n",
       "100005_raw-Carbohydrate  ... -0.249108 -0.026814  0.232713  0.323682   \n",
       "\n",
       "                            LV982     LV983     LV984     LV985     LV986  \\\n",
       "100001_raw-Food_weight   0.931116 -1.054519  0.432982 -0.633597  0.554279   \n",
       "100002_raw-Energy        2.286789 -1.008256 -0.029764  1.737229 -0.272107   \n",
       "100003_raw-Protein       0.053714 -0.892447 -0.183800  1.377991 -0.278794   \n",
       "100004_raw-Fat           1.394326 -1.173402  0.555058  1.013982 -0.544506   \n",
       "100005_raw-Carbohydrate  1.168642 -0.282935  0.653105  1.909526  0.199997   \n",
       "\n",
       "                            LV987  \n",
       "100001_raw-Food_weight  -0.642479  \n",
       "100002_raw-Energy       -0.526125  \n",
       "100003_raw-Protein      -0.419733  \n",
       "100004_raw-Fat          -0.064061  \n",
       "100005_raw-Carbohydrate -1.656894  \n",
       "\n",
       "[5 rows x 987 columns]"
      ]
     },
     "execution_count": 15,
     "metadata": {},
     "output_type": "execute_result"
    }
   ],
   "source": [
    "data.head()"
   ]
  },
  {
   "cell_type": "markdown",
   "id": "numerical-superior",
   "metadata": {},
   "source": [
    "## LV data"
   ]
  },
  {
   "cell_type": "code",
   "execution_count": 16,
   "id": "related-capacity",
   "metadata": {},
   "outputs": [],
   "source": [
    "lv_obj = LVAnalysis(LV_NAME, data)"
   ]
  },
  {
   "cell_type": "code",
   "execution_count": 17,
   "id": "great-adaptation",
   "metadata": {},
   "outputs": [
    {
     "name": "stderr",
     "output_type": "stream",
     "text": [
      "[2021-08-02 11:44:27,149 - numexpr.utils] INFO: NumExpr defaulting to 8 threads.\n"
     ]
    },
    {
     "data": {
      "text/html": [
       "<div>\n",
       "<style scoped>\n",
       "    .dataframe tbody tr th:only-of-type {\n",
       "        vertical-align: middle;\n",
       "    }\n",
       "\n",
       "    .dataframe tbody tr th {\n",
       "        vertical-align: top;\n",
       "    }\n",
       "\n",
       "    .dataframe thead th {\n",
       "        text-align: right;\n",
       "    }\n",
       "</style>\n",
       "<table border=\"1\" class=\"dataframe\">\n",
       "  <thead>\n",
       "    <tr style=\"text-align: right;\">\n",
       "      <th></th>\n",
       "      <th>pathway</th>\n",
       "      <th>LV index</th>\n",
       "      <th>AUC</th>\n",
       "      <th>p-value</th>\n",
       "      <th>FDR</th>\n",
       "    </tr>\n",
       "  </thead>\n",
       "  <tbody>\n",
       "    <tr>\n",
       "      <th>505</th>\n",
       "      <td>IRIS_DendriticCell-LPSstimulated</td>\n",
       "      <td>116</td>\n",
       "      <td>0.645137</td>\n",
       "      <td>9.919094e-05</td>\n",
       "      <td>1.094389e-03</td>\n",
       "    </tr>\n",
       "    <tr>\n",
       "      <th>506</th>\n",
       "      <td>SVM Macrophages M1</td>\n",
       "      <td>116</td>\n",
       "      <td>0.922351</td>\n",
       "      <td>1.151361e-06</td>\n",
       "      <td>2.086963e-05</td>\n",
       "    </tr>\n",
       "    <tr>\n",
       "      <th>507</th>\n",
       "      <td>REACTOME_NEGATIVE_REGULATORS_OF_RIG_I_MDA5_SIG...</td>\n",
       "      <td>116</td>\n",
       "      <td>0.805977</td>\n",
       "      <td>2.594296e-03</td>\n",
       "      <td>1.608016e-02</td>\n",
       "    </tr>\n",
       "    <tr>\n",
       "      <th>508</th>\n",
       "      <td>REACTOME_CYTOKINE_SIGNALING_IN_IMMUNE_SYSTEM</td>\n",
       "      <td>116</td>\n",
       "      <td>0.670073</td>\n",
       "      <td>1.046582e-05</td>\n",
       "      <td>1.525323e-04</td>\n",
       "    </tr>\n",
       "    <tr>\n",
       "      <th>509</th>\n",
       "      <td>KEGG_CYTOSOLIC_DNA_SENSING_PATHWAY</td>\n",
       "      <td>116</td>\n",
       "      <td>0.842774</td>\n",
       "      <td>3.599076e-04</td>\n",
       "      <td>3.224361e-03</td>\n",
       "    </tr>\n",
       "    <tr>\n",
       "      <th>510</th>\n",
       "      <td>REACTOME_INTERFERON_SIGNALING</td>\n",
       "      <td>116</td>\n",
       "      <td>0.842482</td>\n",
       "      <td>8.398377e-11</td>\n",
       "      <td>3.483711e-09</td>\n",
       "    </tr>\n",
       "    <tr>\n",
       "      <th>511</th>\n",
       "      <td>REACTOME_INTERFERON_ALPHA_BETA_SIGNALING</td>\n",
       "      <td>116</td>\n",
       "      <td>0.937090</td>\n",
       "      <td>1.995367e-06</td>\n",
       "      <td>3.362506e-05</td>\n",
       "    </tr>\n",
       "  </tbody>\n",
       "</table>\n",
       "</div>"
      ],
      "text/plain": [
       "                                               pathway LV index       AUC  \\\n",
       "505                   IRIS_DendriticCell-LPSstimulated      116  0.645137   \n",
       "506                                 SVM Macrophages M1      116  0.922351   \n",
       "507  REACTOME_NEGATIVE_REGULATORS_OF_RIG_I_MDA5_SIG...      116  0.805977   \n",
       "508       REACTOME_CYTOKINE_SIGNALING_IN_IMMUNE_SYSTEM      116  0.670073   \n",
       "509                 KEGG_CYTOSOLIC_DNA_SENSING_PATHWAY      116  0.842774   \n",
       "510                      REACTOME_INTERFERON_SIGNALING      116  0.842482   \n",
       "511           REACTOME_INTERFERON_ALPHA_BETA_SIGNALING      116  0.937090   \n",
       "\n",
       "          p-value           FDR  \n",
       "505  9.919094e-05  1.094389e-03  \n",
       "506  1.151361e-06  2.086963e-05  \n",
       "507  2.594296e-03  1.608016e-02  \n",
       "508  1.046582e-05  1.525323e-04  \n",
       "509  3.599076e-04  3.224361e-03  \n",
       "510  8.398377e-11  3.483711e-09  \n",
       "511  1.995367e-06  3.362506e-05  "
      ]
     },
     "execution_count": 17,
     "metadata": {},
     "output_type": "execute_result"
    }
   ],
   "source": [
    "multiplier_model_summary[\n",
    "    multiplier_model_summary[\"LV index\"].isin((LV_NAME[2:],))\n",
    "    & (\n",
    "        (multiplier_model_summary[\"FDR\"] < 0.05)\n",
    "        | (multiplier_model_summary[\"AUC\"] >= 0.75)\n",
    "    )\n",
    "]"
   ]
  },
  {
   "cell_type": "code",
   "execution_count": 18,
   "id": "alike-flight",
   "metadata": {},
   "outputs": [
    {
     "name": "stdout",
     "output_type": "stream",
     "text": [
      "SRP059039, SRP045500, SRP063059, SRP045569, SRP015670, SRP059531, SRP062958, SRP039361, SRP056733, SRP060370, SRP062966, SRP045352, SRP048804, SRP032775, SRP059172, SRP050246, SRP064458, SRP033711, SRP049820, SRP023199, SRP060416, SRP005279, SRP042161, SRP059701, SRP068139, SRP051848, SRP014428, SRP063661, SRP057205, SRP041826, SRP059057, SRP064259, SRP046226, SRP044956, SRP066356, SRP048640, SRP041885, SRP045659, SRP041647, SRP045565, SRP041620, SRP053186, SRP045441, SRP022133, SRP055874, SRP029990, SRP044206, SRP065763, SRP056443, SRP041538, SRP044593, SRP019270, SRP067934, SRP059035, SRP019936, SRP054971, SRP058237, SRP051368, SRP019758, "
     ]
    }
   ],
   "source": [
    "lv_data = lv_obj.get_experiments_data()"
   ]
  },
  {
   "cell_type": "code",
   "execution_count": 19,
   "id": "incoming-scene",
   "metadata": {},
   "outputs": [
    {
     "data": {
      "text/plain": [
       "(4274, 105)"
      ]
     },
     "execution_count": 19,
     "metadata": {},
     "output_type": "execute_result"
    }
   ],
   "source": [
    "lv_data.shape"
   ]
  },
  {
   "cell_type": "code",
   "execution_count": 20,
   "id": "literary-explosion",
   "metadata": {},
   "outputs": [
    {
     "data": {
      "text/html": [
       "<div>\n",
       "<style scoped>\n",
       "    .dataframe tbody tr th:only-of-type {\n",
       "        vertical-align: middle;\n",
       "    }\n",
       "\n",
       "    .dataframe tbody tr th {\n",
       "        vertical-align: top;\n",
       "    }\n",
       "\n",
       "    .dataframe thead th {\n",
       "        text-align: right;\n",
       "    }\n",
       "</style>\n",
       "<table border=\"1\" class=\"dataframe\">\n",
       "  <thead>\n",
       "    <tr style=\"text-align: right;\">\n",
       "      <th></th>\n",
       "      <th></th>\n",
       "      <th>age</th>\n",
       "      <th>group</th>\n",
       "      <th>organisms</th>\n",
       "      <th>severity</th>\n",
       "      <th>tissue</th>\n",
       "      <th>flowcell</th>\n",
       "      <th>lane</th>\n",
       "      <th>cellcount</th>\n",
       "      <th>celltype</th>\n",
       "      <th>collectiondate</th>\n",
       "      <th>...</th>\n",
       "      <th>sample group</th>\n",
       "      <th>pre- or post-challenge</th>\n",
       "      <th>passage</th>\n",
       "      <th>protocol</th>\n",
       "      <th>location</th>\n",
       "      <th>knockdown chemistry</th>\n",
       "      <th>knockdown target</th>\n",
       "      <th>genotype/variation</th>\n",
       "      <th>rna type</th>\n",
       "      <th>LV116</th>\n",
       "    </tr>\n",
       "    <tr>\n",
       "      <th>project</th>\n",
       "      <th>run</th>\n",
       "      <th></th>\n",
       "      <th></th>\n",
       "      <th></th>\n",
       "      <th></th>\n",
       "      <th></th>\n",
       "      <th></th>\n",
       "      <th></th>\n",
       "      <th></th>\n",
       "      <th></th>\n",
       "      <th></th>\n",
       "      <th></th>\n",
       "      <th></th>\n",
       "      <th></th>\n",
       "      <th></th>\n",
       "      <th></th>\n",
       "      <th></th>\n",
       "      <th></th>\n",
       "      <th></th>\n",
       "      <th></th>\n",
       "      <th></th>\n",
       "      <th></th>\n",
       "    </tr>\n",
       "  </thead>\n",
       "  <tbody>\n",
       "    <tr>\n",
       "      <th rowspan=\"5\" valign=\"top\">SRP059039</th>\n",
       "      <th>SRR2049587</th>\n",
       "      <td>2 year-old or older</td>\n",
       "      <td>Control</td>\n",
       "      <td>EPEC</td>\n",
       "      <td>Control</td>\n",
       "      <td>Whole blood</td>\n",
       "      <td>A</td>\n",
       "      <td>8</td>\n",
       "      <td>NaN</td>\n",
       "      <td>NaN</td>\n",
       "      <td>NaN</td>\n",
       "      <td>...</td>\n",
       "      <td>NaN</td>\n",
       "      <td>NaN</td>\n",
       "      <td>NaN</td>\n",
       "      <td>NaN</td>\n",
       "      <td>NaN</td>\n",
       "      <td>NaN</td>\n",
       "      <td>NaN</td>\n",
       "      <td>NaN</td>\n",
       "      <td>NaN</td>\n",
       "      <td>0.004389</td>\n",
       "    </tr>\n",
       "    <tr>\n",
       "      <th>SRR2049621</th>\n",
       "      <td>2 year-old or older</td>\n",
       "      <td>Diarrhea</td>\n",
       "      <td>DAEC</td>\n",
       "      <td>mild</td>\n",
       "      <td>Whole blood</td>\n",
       "      <td>A</td>\n",
       "      <td>6</td>\n",
       "      <td>NaN</td>\n",
       "      <td>NaN</td>\n",
       "      <td>NaN</td>\n",
       "      <td>...</td>\n",
       "      <td>NaN</td>\n",
       "      <td>NaN</td>\n",
       "      <td>NaN</td>\n",
       "      <td>NaN</td>\n",
       "      <td>NaN</td>\n",
       "      <td>NaN</td>\n",
       "      <td>NaN</td>\n",
       "      <td>NaN</td>\n",
       "      <td>NaN</td>\n",
       "      <td>0.083800</td>\n",
       "    </tr>\n",
       "    <tr>\n",
       "      <th>SRR2049622</th>\n",
       "      <td>2 year-old or older</td>\n",
       "      <td>Diarrhea</td>\n",
       "      <td>DAEC</td>\n",
       "      <td>mild</td>\n",
       "      <td>Whole blood</td>\n",
       "      <td>A</td>\n",
       "      <td>7</td>\n",
       "      <td>NaN</td>\n",
       "      <td>NaN</td>\n",
       "      <td>NaN</td>\n",
       "      <td>...</td>\n",
       "      <td>NaN</td>\n",
       "      <td>NaN</td>\n",
       "      <td>NaN</td>\n",
       "      <td>NaN</td>\n",
       "      <td>NaN</td>\n",
       "      <td>NaN</td>\n",
       "      <td>NaN</td>\n",
       "      <td>NaN</td>\n",
       "      <td>NaN</td>\n",
       "      <td>0.302118</td>\n",
       "    </tr>\n",
       "    <tr>\n",
       "      <th>SRR2049620</th>\n",
       "      <td>&lt;2 year-old</td>\n",
       "      <td>Diarrhea</td>\n",
       "      <td>DAEC</td>\n",
       "      <td>moderate</td>\n",
       "      <td>Whole blood</td>\n",
       "      <td>A</td>\n",
       "      <td>6</td>\n",
       "      <td>NaN</td>\n",
       "      <td>NaN</td>\n",
       "      <td>NaN</td>\n",
       "      <td>...</td>\n",
       "      <td>NaN</td>\n",
       "      <td>NaN</td>\n",
       "      <td>NaN</td>\n",
       "      <td>NaN</td>\n",
       "      <td>NaN</td>\n",
       "      <td>NaN</td>\n",
       "      <td>NaN</td>\n",
       "      <td>NaN</td>\n",
       "      <td>NaN</td>\n",
       "      <td>0.514293</td>\n",
       "    </tr>\n",
       "    <tr>\n",
       "      <th>SRR2049619</th>\n",
       "      <td>&lt;2 year-old</td>\n",
       "      <td>Diarrhea</td>\n",
       "      <td>DAEC</td>\n",
       "      <td>mild</td>\n",
       "      <td>Whole blood</td>\n",
       "      <td>A</td>\n",
       "      <td>5</td>\n",
       "      <td>NaN</td>\n",
       "      <td>NaN</td>\n",
       "      <td>NaN</td>\n",
       "      <td>...</td>\n",
       "      <td>NaN</td>\n",
       "      <td>NaN</td>\n",
       "      <td>NaN</td>\n",
       "      <td>NaN</td>\n",
       "      <td>NaN</td>\n",
       "      <td>NaN</td>\n",
       "      <td>NaN</td>\n",
       "      <td>NaN</td>\n",
       "      <td>NaN</td>\n",
       "      <td>-0.004081</td>\n",
       "    </tr>\n",
       "  </tbody>\n",
       "</table>\n",
       "<p>5 rows × 105 columns</p>\n",
       "</div>"
      ],
      "text/plain": [
       "                                      age     group organisms  severity  \\\n",
       "project   run                                                             \n",
       "SRP059039 SRR2049587  2 year-old or older   Control      EPEC   Control   \n",
       "          SRR2049621  2 year-old or older  Diarrhea      DAEC      mild   \n",
       "          SRR2049622  2 year-old or older  Diarrhea      DAEC      mild   \n",
       "          SRR2049620          <2 year-old  Diarrhea      DAEC  moderate   \n",
       "          SRR2049619          <2 year-old  Diarrhea      DAEC      mild   \n",
       "\n",
       "                           tissue flowcell lane cellcount celltype  \\\n",
       "project   run                                                        \n",
       "SRP059039 SRR2049587  Whole blood        A    8       NaN      NaN   \n",
       "          SRR2049621  Whole blood        A    6       NaN      NaN   \n",
       "          SRR2049622  Whole blood        A    7       NaN      NaN   \n",
       "          SRR2049620  Whole blood        A    6       NaN      NaN   \n",
       "          SRR2049619  Whole blood        A    5       NaN      NaN   \n",
       "\n",
       "                     collectiondate  ... sample group pre- or post-challenge  \\\n",
       "project   run                        ...                                       \n",
       "SRP059039 SRR2049587            NaN  ...          NaN                    NaN   \n",
       "          SRR2049621            NaN  ...          NaN                    NaN   \n",
       "          SRR2049622            NaN  ...          NaN                    NaN   \n",
       "          SRR2049620            NaN  ...          NaN                    NaN   \n",
       "          SRR2049619            NaN  ...          NaN                    NaN   \n",
       "\n",
       "                     passage protocol location knockdown chemistry  \\\n",
       "project   run                                                        \n",
       "SRP059039 SRR2049587     NaN      NaN      NaN                 NaN   \n",
       "          SRR2049621     NaN      NaN      NaN                 NaN   \n",
       "          SRR2049622     NaN      NaN      NaN                 NaN   \n",
       "          SRR2049620     NaN      NaN      NaN                 NaN   \n",
       "          SRR2049619     NaN      NaN      NaN                 NaN   \n",
       "\n",
       "                     knockdown target genotype/variation rna type     LV116  \n",
       "project   run                                                                \n",
       "SRP059039 SRR2049587              NaN                NaN      NaN  0.004389  \n",
       "          SRR2049621              NaN                NaN      NaN  0.083800  \n",
       "          SRR2049622              NaN                NaN      NaN  0.302118  \n",
       "          SRR2049620              NaN                NaN      NaN  0.514293  \n",
       "          SRR2049619              NaN                NaN      NaN -0.004081  \n",
       "\n",
       "[5 rows x 105 columns]"
      ]
     },
     "execution_count": 20,
     "metadata": {},
     "output_type": "execute_result"
    }
   ],
   "source": [
    "lv_data.head()"
   ]
  },
  {
   "cell_type": "markdown",
   "id": "together-albert",
   "metadata": {},
   "source": [
    "# LV cell types analysis"
   ]
  },
  {
   "cell_type": "markdown",
   "id": "altered-holder",
   "metadata": {},
   "source": [
    "## Get top attributes"
   ]
  },
  {
   "cell_type": "code",
   "execution_count": 21,
   "id": "phantom-russell",
   "metadata": {},
   "outputs": [
    {
     "data": {
      "text/plain": [
       "subject #                         0.910696\n",
       "ad type                           0.910696\n",
       "disease model                     0.561202\n",
       "donor identifier                  0.556167\n",
       "status                            0.403333\n",
       "donor id                          0.356871\n",
       "treatment                         0.331421\n",
       "organisms                         0.297879\n",
       "severity                          0.297879\n",
       "lane                              0.297879\n",
       "flowcell                          0.297879\n",
       "age                               0.215637\n",
       "group                             0.166657\n",
       "transfection                      0.098785\n",
       "tissue                            0.097682\n",
       "transfected with                  0.096817\n",
       "time since symptom onset (yrs)    0.096609\n",
       "cellcount                         0.096609\n",
       "samplename                        0.096609\n",
       "donorid                           0.096609\n",
       "dtype: float64"
      ]
     },
     "metadata": {},
     "output_type": "display_data"
    }
   ],
   "source": [
    "lv_attrs = lv_obj.get_attributes_variation_score()\n",
    "display(lv_attrs.head(20))"
   ]
  },
  {
   "cell_type": "code",
   "execution_count": 22,
   "id": "operational-brother",
   "metadata": {},
   "outputs": [
    {
     "data": {
      "text/plain": [
       "tissue          0.097682\n",
       "cell type       0.056706\n",
       "cell subtype    0.035469\n",
       "tissue type     0.017317\n",
       "dtype: float64"
      ]
     },
     "execution_count": 22,
     "metadata": {},
     "output_type": "execute_result"
    }
   ],
   "source": [
    "# show those with cell type or tissue in their name\n",
    "_tmp = pd.Series(lv_attrs.index)\n",
    "lv_attrs[\n",
    "    _tmp.str.match(\n",
    "        \"(?:cell.+type$)|(?:tissue$)|(?:tissue.+type$)\",\n",
    "        case=False,\n",
    "        flags=re.IGNORECASE,\n",
    "    ).values\n",
    "].sort_values(ascending=False)"
   ]
  },
  {
   "cell_type": "code",
   "execution_count": 23,
   "id": "aware-disclosure",
   "metadata": {},
   "outputs": [],
   "source": [
    "_tmp = lv_data.loc[\n",
    "    :,\n",
    "    [\n",
    "        \"tissue\",\n",
    "        \"cell type\",\n",
    "        \"cell subtype\",\n",
    "        \"tissue type\",\n",
    "        LV_NAME,\n",
    "    ],\n",
    "]"
   ]
  },
  {
   "cell_type": "code",
   "execution_count": 24,
   "id": "particular-flexibility",
   "metadata": {},
   "outputs": [],
   "source": [
    "_tmp_seq = list(chunker(_tmp.sort_values(LV_NAME, ascending=False), 25))"
   ]
  },
  {
   "cell_type": "code",
   "execution_count": 25,
   "id": "equivalent-cable",
   "metadata": {},
   "outputs": [
    {
     "data": {
      "text/html": [
       "<div>\n",
       "<style scoped>\n",
       "    .dataframe tbody tr th:only-of-type {\n",
       "        vertical-align: middle;\n",
       "    }\n",
       "\n",
       "    .dataframe tbody tr th {\n",
       "        vertical-align: top;\n",
       "    }\n",
       "\n",
       "    .dataframe thead th {\n",
       "        text-align: right;\n",
       "    }\n",
       "</style>\n",
       "<table border=\"1\" class=\"dataframe\">\n",
       "  <thead>\n",
       "    <tr style=\"text-align: right;\">\n",
       "      <th></th>\n",
       "      <th></th>\n",
       "      <th>tissue</th>\n",
       "      <th>cell type</th>\n",
       "      <th>cell subtype</th>\n",
       "      <th>tissue type</th>\n",
       "      <th>LV116</th>\n",
       "    </tr>\n",
       "    <tr>\n",
       "      <th>project</th>\n",
       "      <th>run</th>\n",
       "      <th></th>\n",
       "      <th></th>\n",
       "      <th></th>\n",
       "      <th></th>\n",
       "      <th></th>\n",
       "    </tr>\n",
       "  </thead>\n",
       "  <tbody>\n",
       "    <tr>\n",
       "      <th>SRP045500</th>\n",
       "      <th>SRR1551101</th>\n",
       "      <td>NaN</td>\n",
       "      <td>NaN</td>\n",
       "      <td>NaN</td>\n",
       "      <td>NaN</td>\n",
       "      <td>1.651573</td>\n",
       "    </tr>\n",
       "    <tr>\n",
       "      <th>SRP045569</th>\n",
       "      <th>SRR1552922</th>\n",
       "      <td>NaN</td>\n",
       "      <td>PBMCs</td>\n",
       "      <td>NaN</td>\n",
       "      <td>NaN</td>\n",
       "      <td>1.649969</td>\n",
       "    </tr>\n",
       "    <tr>\n",
       "      <th rowspan=\"2\" valign=\"top\">SRP015670</th>\n",
       "      <th>SRR566224</th>\n",
       "      <td>NaN</td>\n",
       "      <td>monocyte-derived macrophages</td>\n",
       "      <td>NaN</td>\n",
       "      <td>NaN</td>\n",
       "      <td>1.612434</td>\n",
       "    </tr>\n",
       "    <tr>\n",
       "      <th>SRR566255</th>\n",
       "      <td>NaN</td>\n",
       "      <td>monocyte-derived macrophages</td>\n",
       "      <td>NaN</td>\n",
       "      <td>NaN</td>\n",
       "      <td>1.600180</td>\n",
       "    </tr>\n",
       "    <tr>\n",
       "      <th rowspan=\"2\" valign=\"top\">SRP059039</th>\n",
       "      <th>SRR2049711</th>\n",
       "      <td>Whole blood</td>\n",
       "      <td>NaN</td>\n",
       "      <td>NaN</td>\n",
       "      <td>NaN</td>\n",
       "      <td>1.573380</td>\n",
       "    </tr>\n",
       "    <tr>\n",
       "      <th>SRR2049695</th>\n",
       "      <td>Whole blood</td>\n",
       "      <td>NaN</td>\n",
       "      <td>NaN</td>\n",
       "      <td>NaN</td>\n",
       "      <td>1.569120</td>\n",
       "    </tr>\n",
       "    <tr>\n",
       "      <th>SRP045569</th>\n",
       "      <th>SRR1552919</th>\n",
       "      <td>NaN</td>\n",
       "      <td>PBMCs</td>\n",
       "      <td>NaN</td>\n",
       "      <td>NaN</td>\n",
       "      <td>1.550139</td>\n",
       "    </tr>\n",
       "    <tr>\n",
       "      <th rowspan=\"3\" valign=\"top\">SRP015670</th>\n",
       "      <th>SRR566256</th>\n",
       "      <td>NaN</td>\n",
       "      <td>monocyte-derived macrophages</td>\n",
       "      <td>NaN</td>\n",
       "      <td>NaN</td>\n",
       "      <td>1.539199</td>\n",
       "    </tr>\n",
       "    <tr>\n",
       "      <th>SRR566259</th>\n",
       "      <td>NaN</td>\n",
       "      <td>monocyte-derived macrophages</td>\n",
       "      <td>NaN</td>\n",
       "      <td>NaN</td>\n",
       "      <td>1.504909</td>\n",
       "    </tr>\n",
       "    <tr>\n",
       "      <th>SRR566260</th>\n",
       "      <td>NaN</td>\n",
       "      <td>monocyte-derived macrophages</td>\n",
       "      <td>NaN</td>\n",
       "      <td>NaN</td>\n",
       "      <td>1.449393</td>\n",
       "    </tr>\n",
       "    <tr>\n",
       "      <th>SRP045569</th>\n",
       "      <th>SRR1552918</th>\n",
       "      <td>NaN</td>\n",
       "      <td>PBMCs</td>\n",
       "      <td>NaN</td>\n",
       "      <td>NaN</td>\n",
       "      <td>1.446892</td>\n",
       "    </tr>\n",
       "    <tr>\n",
       "      <th>SRP059039</th>\n",
       "      <th>SRR2049693</th>\n",
       "      <td>Whole blood</td>\n",
       "      <td>NaN</td>\n",
       "      <td>NaN</td>\n",
       "      <td>NaN</td>\n",
       "      <td>1.419280</td>\n",
       "    </tr>\n",
       "    <tr>\n",
       "      <th>SRP063059</th>\n",
       "      <th>SRR2225768</th>\n",
       "      <td>NaN</td>\n",
       "      <td>dermal fibroblast</td>\n",
       "      <td>NaN</td>\n",
       "      <td>NaN</td>\n",
       "      <td>1.418695</td>\n",
       "    </tr>\n",
       "    <tr>\n",
       "      <th>SRP059039</th>\n",
       "      <th>SRR2049685</th>\n",
       "      <td>Whole blood</td>\n",
       "      <td>NaN</td>\n",
       "      <td>NaN</td>\n",
       "      <td>NaN</td>\n",
       "      <td>1.387894</td>\n",
       "    </tr>\n",
       "    <tr>\n",
       "      <th>SRP059531</th>\n",
       "      <th>SRR2064026</th>\n",
       "      <td>NaN</td>\n",
       "      <td>Primary fibroblasts</td>\n",
       "      <td>NaN</td>\n",
       "      <td>NaN</td>\n",
       "      <td>1.383842</td>\n",
       "    </tr>\n",
       "    <tr>\n",
       "      <th>SRP059039</th>\n",
       "      <th>SRR2049647</th>\n",
       "      <td>Whole blood</td>\n",
       "      <td>NaN</td>\n",
       "      <td>NaN</td>\n",
       "      <td>NaN</td>\n",
       "      <td>1.379851</td>\n",
       "    </tr>\n",
       "    <tr>\n",
       "      <th>SRP015670</th>\n",
       "      <th>SRR566239</th>\n",
       "      <td>NaN</td>\n",
       "      <td>monocyte-derived macrophages</td>\n",
       "      <td>NaN</td>\n",
       "      <td>NaN</td>\n",
       "      <td>1.303341</td>\n",
       "    </tr>\n",
       "    <tr>\n",
       "      <th>SRP059039</th>\n",
       "      <th>SRR2049697</th>\n",
       "      <td>Whole blood</td>\n",
       "      <td>NaN</td>\n",
       "      <td>NaN</td>\n",
       "      <td>NaN</td>\n",
       "      <td>1.279200</td>\n",
       "    </tr>\n",
       "    <tr>\n",
       "      <th rowspan=\"3\" valign=\"top\">SRP015670</th>\n",
       "      <th>SRR566231</th>\n",
       "      <td>NaN</td>\n",
       "      <td>monocyte-derived macrophages</td>\n",
       "      <td>NaN</td>\n",
       "      <td>NaN</td>\n",
       "      <td>1.273167</td>\n",
       "    </tr>\n",
       "    <tr>\n",
       "      <th>SRR566243</th>\n",
       "      <td>NaN</td>\n",
       "      <td>monocyte-derived macrophages</td>\n",
       "      <td>NaN</td>\n",
       "      <td>NaN</td>\n",
       "      <td>1.234809</td>\n",
       "    </tr>\n",
       "    <tr>\n",
       "      <th>SRR566235</th>\n",
       "      <td>NaN</td>\n",
       "      <td>monocyte-derived macrophages</td>\n",
       "      <td>NaN</td>\n",
       "      <td>NaN</td>\n",
       "      <td>1.224483</td>\n",
       "    </tr>\n",
       "    <tr>\n",
       "      <th rowspan=\"4\" valign=\"top\">SRP063059</th>\n",
       "      <th>SRR2225773</th>\n",
       "      <td>NaN</td>\n",
       "      <td>dermal fibroblast</td>\n",
       "      <td>NaN</td>\n",
       "      <td>NaN</td>\n",
       "      <td>1.223209</td>\n",
       "    </tr>\n",
       "    <tr>\n",
       "      <th>SRR2225759</th>\n",
       "      <td>NaN</td>\n",
       "      <td>dermal fibroblast</td>\n",
       "      <td>NaN</td>\n",
       "      <td>NaN</td>\n",
       "      <td>1.219530</td>\n",
       "    </tr>\n",
       "    <tr>\n",
       "      <th>SRR2225767</th>\n",
       "      <td>NaN</td>\n",
       "      <td>dermal fibroblast</td>\n",
       "      <td>NaN</td>\n",
       "      <td>NaN</td>\n",
       "      <td>1.215482</td>\n",
       "    </tr>\n",
       "    <tr>\n",
       "      <th>SRR2225761</th>\n",
       "      <td>NaN</td>\n",
       "      <td>dermal fibroblast</td>\n",
       "      <td>NaN</td>\n",
       "      <td>NaN</td>\n",
       "      <td>1.204726</td>\n",
       "    </tr>\n",
       "  </tbody>\n",
       "</table>\n",
       "</div>"
      ],
      "text/plain": [
       "                           tissue                     cell type cell subtype  \\\n",
       "project   run                                                                  \n",
       "SRP045500 SRR1551101          NaN                           NaN          NaN   \n",
       "SRP045569 SRR1552922          NaN                         PBMCs          NaN   \n",
       "SRP015670 SRR566224           NaN  monocyte-derived macrophages          NaN   \n",
       "          SRR566255           NaN  monocyte-derived macrophages          NaN   \n",
       "SRP059039 SRR2049711  Whole blood                           NaN          NaN   \n",
       "          SRR2049695  Whole blood                           NaN          NaN   \n",
       "SRP045569 SRR1552919          NaN                         PBMCs          NaN   \n",
       "SRP015670 SRR566256           NaN  monocyte-derived macrophages          NaN   \n",
       "          SRR566259           NaN  monocyte-derived macrophages          NaN   \n",
       "          SRR566260           NaN  monocyte-derived macrophages          NaN   \n",
       "SRP045569 SRR1552918          NaN                         PBMCs          NaN   \n",
       "SRP059039 SRR2049693  Whole blood                           NaN          NaN   \n",
       "SRP063059 SRR2225768          NaN             dermal fibroblast          NaN   \n",
       "SRP059039 SRR2049685  Whole blood                           NaN          NaN   \n",
       "SRP059531 SRR2064026          NaN           Primary fibroblasts          NaN   \n",
       "SRP059039 SRR2049647  Whole blood                           NaN          NaN   \n",
       "SRP015670 SRR566239           NaN  monocyte-derived macrophages          NaN   \n",
       "SRP059039 SRR2049697  Whole blood                           NaN          NaN   \n",
       "SRP015670 SRR566231           NaN  monocyte-derived macrophages          NaN   \n",
       "          SRR566243           NaN  monocyte-derived macrophages          NaN   \n",
       "          SRR566235           NaN  monocyte-derived macrophages          NaN   \n",
       "SRP063059 SRR2225773          NaN             dermal fibroblast          NaN   \n",
       "          SRR2225759          NaN             dermal fibroblast          NaN   \n",
       "          SRR2225767          NaN             dermal fibroblast          NaN   \n",
       "          SRR2225761          NaN             dermal fibroblast          NaN   \n",
       "\n",
       "                     tissue type     LV116  \n",
       "project   run                               \n",
       "SRP045500 SRR1551101         NaN  1.651573  \n",
       "SRP045569 SRR1552922         NaN  1.649969  \n",
       "SRP015670 SRR566224          NaN  1.612434  \n",
       "          SRR566255          NaN  1.600180  \n",
       "SRP059039 SRR2049711         NaN  1.573380  \n",
       "          SRR2049695         NaN  1.569120  \n",
       "SRP045569 SRR1552919         NaN  1.550139  \n",
       "SRP015670 SRR566256          NaN  1.539199  \n",
       "          SRR566259          NaN  1.504909  \n",
       "          SRR566260          NaN  1.449393  \n",
       "SRP045569 SRR1552918         NaN  1.446892  \n",
       "SRP059039 SRR2049693         NaN  1.419280  \n",
       "SRP063059 SRR2225768         NaN  1.418695  \n",
       "SRP059039 SRR2049685         NaN  1.387894  \n",
       "SRP059531 SRR2064026         NaN  1.383842  \n",
       "SRP059039 SRR2049647         NaN  1.379851  \n",
       "SRP015670 SRR566239          NaN  1.303341  \n",
       "SRP059039 SRR2049697         NaN  1.279200  \n",
       "SRP015670 SRR566231          NaN  1.273167  \n",
       "          SRR566243          NaN  1.234809  \n",
       "          SRR566235          NaN  1.224483  \n",
       "SRP063059 SRR2225773         NaN  1.223209  \n",
       "          SRR2225759         NaN  1.219530  \n",
       "          SRR2225767         NaN  1.215482  \n",
       "          SRR2225761         NaN  1.204726  "
      ]
     },
     "execution_count": 25,
     "metadata": {},
     "output_type": "execute_result"
    }
   ],
   "source": [
    "_tmp_seq[1]"
   ]
  },
  {
   "cell_type": "code",
   "execution_count": 26,
   "id": "champion-moment",
   "metadata": {},
   "outputs": [],
   "source": [
    "SELECTED_ATTRIBUTE = \"tissue\""
   ]
  },
  {
   "cell_type": "code",
   "execution_count": 27,
   "id": "grave-dispute",
   "metadata": {},
   "outputs": [],
   "source": [
    "# it has to be in the order desired for filling nans in the SELECTED_ATTRIBUTE\n",
    "SECOND_ATTRIBUTES = [\"cell type\", \"celltype\", \"agent\"]"
   ]
  },
  {
   "cell_type": "markdown",
   "id": "pretty-integral",
   "metadata": {},
   "source": [
    "## Get plot data"
   ]
  },
  {
   "cell_type": "code",
   "execution_count": 28,
   "id": "artistic-effects",
   "metadata": {},
   "outputs": [],
   "source": [
    "plot_data = lv_data.loc[:, [SELECTED_ATTRIBUTE] + SECOND_ATTRIBUTES + [LV_NAME]]"
   ]
  },
  {
   "cell_type": "code",
   "execution_count": 29,
   "id": "danish-export",
   "metadata": {},
   "outputs": [],
   "source": [
    "# if blank/nan, fill cell type column with tissue content\n",
    "_new_column = plot_data[[SELECTED_ATTRIBUTE] + SECOND_ATTRIBUTES].fillna(\n",
    "    method=\"backfill\", axis=1\n",
    ")[SELECTED_ATTRIBUTE]\n",
    "plot_data[SELECTED_ATTRIBUTE] = _new_column\n",
    "plot_data = plot_data.drop(columns=SECOND_ATTRIBUTES)\n",
    "plot_data = plot_data.fillna({SELECTED_ATTRIBUTE: \"NOT CATEGORIZED\"})\n",
    "# plot_data = plot_data.dropna(subset=[SELECTED_ATTRIBUTE])"
   ]
  },
  {
   "cell_type": "code",
   "execution_count": 30,
   "id": "ethical-nightlife",
   "metadata": {},
   "outputs": [],
   "source": [
    "plot_data = plot_data.sort_values(LV_NAME, ascending=False)"
   ]
  },
  {
   "cell_type": "code",
   "execution_count": 31,
   "id": "dietary-lover",
   "metadata": {},
   "outputs": [
    {
     "data": {
      "text/html": [
       "<div>\n",
       "<style scoped>\n",
       "    .dataframe tbody tr th:only-of-type {\n",
       "        vertical-align: middle;\n",
       "    }\n",
       "\n",
       "    .dataframe tbody tr th {\n",
       "        vertical-align: top;\n",
       "    }\n",
       "\n",
       "    .dataframe thead th {\n",
       "        text-align: right;\n",
       "    }\n",
       "</style>\n",
       "<table border=\"1\" class=\"dataframe\">\n",
       "  <thead>\n",
       "    <tr style=\"text-align: right;\">\n",
       "      <th></th>\n",
       "      <th></th>\n",
       "      <th>tissue</th>\n",
       "      <th>LV116</th>\n",
       "    </tr>\n",
       "    <tr>\n",
       "      <th>project</th>\n",
       "      <th>run</th>\n",
       "      <th></th>\n",
       "      <th></th>\n",
       "    </tr>\n",
       "  </thead>\n",
       "  <tbody>\n",
       "    <tr>\n",
       "      <th rowspan=\"4\" valign=\"top\">SRP059039</th>\n",
       "      <th>SRR2049707</th>\n",
       "      <td>Whole blood</td>\n",
       "      <td>2.780800</td>\n",
       "    </tr>\n",
       "    <tr>\n",
       "      <th>SRR2049762</th>\n",
       "      <td>Whole blood</td>\n",
       "      <td>2.343260</td>\n",
       "    </tr>\n",
       "    <tr>\n",
       "      <th>SRR2049689</th>\n",
       "      <td>Whole blood</td>\n",
       "      <td>2.334816</td>\n",
       "    </tr>\n",
       "    <tr>\n",
       "      <th>SRR2049670</th>\n",
       "      <td>Whole blood</td>\n",
       "      <td>2.324611</td>\n",
       "    </tr>\n",
       "    <tr>\n",
       "      <th>SRP045500</th>\n",
       "      <th>SRR1551040</th>\n",
       "      <td>Neutrophils</td>\n",
       "      <td>2.307126</td>\n",
       "    </tr>\n",
       "    <tr>\n",
       "      <th>SRP059039</th>\n",
       "      <th>SRR2049714</th>\n",
       "      <td>Whole blood</td>\n",
       "      <td>2.213722</td>\n",
       "    </tr>\n",
       "    <tr>\n",
       "      <th>SRP063059</th>\n",
       "      <th>SRR2225771</th>\n",
       "      <td>dermal fibroblast</td>\n",
       "      <td>2.151321</td>\n",
       "    </tr>\n",
       "    <tr>\n",
       "      <th rowspan=\"2\" valign=\"top\">SRP059039</th>\n",
       "      <th>SRR2049679</th>\n",
       "      <td>Whole blood</td>\n",
       "      <td>2.096461</td>\n",
       "    </tr>\n",
       "    <tr>\n",
       "      <th>SRR2049683</th>\n",
       "      <td>Whole blood</td>\n",
       "      <td>2.082952</td>\n",
       "    </tr>\n",
       "    <tr>\n",
       "      <th rowspan=\"4\" valign=\"top\">SRP045569</th>\n",
       "      <th>SRR1552931</th>\n",
       "      <td>PBMCs</td>\n",
       "      <td>2.047151</td>\n",
       "    </tr>\n",
       "    <tr>\n",
       "      <th>SRR1552921</th>\n",
       "      <td>PBMCs</td>\n",
       "      <td>2.039088</td>\n",
       "    </tr>\n",
       "    <tr>\n",
       "      <th>SRR1552933</th>\n",
       "      <td>PBMCs</td>\n",
       "      <td>2.031884</td>\n",
       "    </tr>\n",
       "    <tr>\n",
       "      <th>SRR1552930</th>\n",
       "      <td>PBMCs</td>\n",
       "      <td>1.994696</td>\n",
       "    </tr>\n",
       "    <tr>\n",
       "      <th rowspan=\"2\" valign=\"top\">SRP059039</th>\n",
       "      <th>SRR2049702</th>\n",
       "      <td>Whole blood</td>\n",
       "      <td>1.983245</td>\n",
       "    </tr>\n",
       "    <tr>\n",
       "      <th>SRR2049672</th>\n",
       "      <td>Whole blood</td>\n",
       "      <td>1.917131</td>\n",
       "    </tr>\n",
       "    <tr>\n",
       "      <th rowspan=\"2\" valign=\"top\">SRP045569</th>\n",
       "      <th>SRR1552920</th>\n",
       "      <td>PBMCs</td>\n",
       "      <td>1.908284</td>\n",
       "    </tr>\n",
       "    <tr>\n",
       "      <th>SRR1552932</th>\n",
       "      <td>PBMCs</td>\n",
       "      <td>1.902258</td>\n",
       "    </tr>\n",
       "    <tr>\n",
       "      <th>SRP059039</th>\n",
       "      <th>SRR2049610</th>\n",
       "      <td>Whole blood</td>\n",
       "      <td>1.889801</td>\n",
       "    </tr>\n",
       "    <tr>\n",
       "      <th>SRP045569</th>\n",
       "      <th>SRR1552929</th>\n",
       "      <td>PBMCs</td>\n",
       "      <td>1.864157</td>\n",
       "    </tr>\n",
       "    <tr>\n",
       "      <th>SRP063059</th>\n",
       "      <th>SRR2225769</th>\n",
       "      <td>dermal fibroblast</td>\n",
       "      <td>1.797397</td>\n",
       "    </tr>\n",
       "  </tbody>\n",
       "</table>\n",
       "</div>"
      ],
      "text/plain": [
       "                                 tissue     LV116\n",
       "project   run                                    \n",
       "SRP059039 SRR2049707        Whole blood  2.780800\n",
       "          SRR2049762        Whole blood  2.343260\n",
       "          SRR2049689        Whole blood  2.334816\n",
       "          SRR2049670        Whole blood  2.324611\n",
       "SRP045500 SRR1551040        Neutrophils  2.307126\n",
       "SRP059039 SRR2049714        Whole blood  2.213722\n",
       "SRP063059 SRR2225771  dermal fibroblast  2.151321\n",
       "SRP059039 SRR2049679        Whole blood  2.096461\n",
       "          SRR2049683        Whole blood  2.082952\n",
       "SRP045569 SRR1552931              PBMCs  2.047151\n",
       "          SRR1552921              PBMCs  2.039088\n",
       "          SRR1552933              PBMCs  2.031884\n",
       "          SRR1552930              PBMCs  1.994696\n",
       "SRP059039 SRR2049702        Whole blood  1.983245\n",
       "          SRR2049672        Whole blood  1.917131\n",
       "SRP045569 SRR1552920              PBMCs  1.908284\n",
       "          SRR1552932              PBMCs  1.902258\n",
       "SRP059039 SRR2049610        Whole blood  1.889801\n",
       "SRP045569 SRR1552929              PBMCs  1.864157\n",
       "SRP063059 SRR2225769  dermal fibroblast  1.797397"
      ]
     },
     "execution_count": 31,
     "metadata": {},
     "output_type": "execute_result"
    }
   ],
   "source": [
    "plot_data.head(20)"
   ]
  },
  {
   "cell_type": "markdown",
   "id": "technical-thomas",
   "metadata": {},
   "source": [
    "## Customize x-axis values"
   ]
  },
  {
   "cell_type": "markdown",
   "id": "stretch-chaos",
   "metadata": {},
   "source": [
    "When cell type values are not very clear, customize their names by looking at their specific studies to know exactly what the authors meant."
   ]
  },
  {
   "cell_type": "code",
   "execution_count": 32,
   "id": "dynamic-saying",
   "metadata": {},
   "outputs": [],
   "source": [
    "final_plot_data = plot_data.replace(\n",
    "    {\n",
    "        SELECTED_ATTRIBUTE: {\n",
    "            \"whole blood\": \"Whole blood\",\n",
    "            \"PBMCs\": \"Peripheral blood mononuclear cells\",\n",
    "            \"monocyte-derived macrophages\": \"Monocyte-derived macrophages\",\n",
    "            \"peripheral blood monocytes\": \"Monocytes\",\n",
    "            \"dermal fibroblast\": \"Dermal fibroblasts\",\n",
    "            \"proximal tubular epithelial cells\": \"Proximal tubular epithelial cells\",\n",
    "            \"glioblastoma cell line\": \"Glioblastoma cell line\",\n",
    "        }\n",
    "    }\n",
    ")"
   ]
  },
  {
   "cell_type": "code",
   "execution_count": 33,
   "id": "rational-jaguar",
   "metadata": {},
   "outputs": [
    {
     "name": "stderr",
     "output_type": "stream",
     "text": [
      "<ipython-input-33-be24e4f8a904>:2: PerformanceWarning: indexing past lexsort depth may impact performance.\n",
      "  _tmp = final_plot_data.loc[(_srp_code,)].apply(\n",
      "<ipython-input-33-be24e4f8a904>:10: PerformanceWarning: indexing past lexsort depth may impact performance.\n",
      "  _tmp = final_plot_data.loc[(_srp_code,)].apply(\n",
      "<ipython-input-33-be24e4f8a904>:18: PerformanceWarning: indexing past lexsort depth may impact performance.\n",
      "  _tmp = final_plot_data.loc[(_srp_code,)].apply(\n",
      "<ipython-input-33-be24e4f8a904>:25: PerformanceWarning: indexing past lexsort depth may impact performance.\n",
      "  _tmp = final_plot_data.loc[(_srp_code,)].apply(\n",
      "<ipython-input-33-be24e4f8a904>:34: PerformanceWarning: indexing past lexsort depth may impact performance.\n",
      "  _tmp = final_plot_data.loc[(_srp_code,)].apply(\n",
      "<ipython-input-33-be24e4f8a904>:43: PerformanceWarning: indexing past lexsort depth may impact performance.\n",
      "  _tmp = final_plot_data.loc[(_srp_code,)].apply(\n",
      "<ipython-input-33-be24e4f8a904>:52: PerformanceWarning: indexing past lexsort depth may impact performance.\n",
      "  _tmp = final_plot_data.loc[(_srp_code,)].apply(\n",
      "<ipython-input-33-be24e4f8a904>:62: PerformanceWarning: indexing past lexsort depth may impact performance.\n",
      "  _tmp = final_plot_data.loc[(_srp_code,)].apply(\n",
      "<ipython-input-33-be24e4f8a904>:72: PerformanceWarning: indexing past lexsort depth may impact performance.\n",
      "  _tmp = final_plot_data.loc[(_srp_code,)].apply(\n",
      "<ipython-input-33-be24e4f8a904>:82: PerformanceWarning: indexing past lexsort depth may impact performance.\n",
      "  _tmp = final_plot_data.loc[(_srp_code,)].apply(\n"
     ]
    }
   ],
   "source": [
    "_srp_code = \"SRP048804\"\n",
    "_tmp = final_plot_data.loc[(_srp_code,)].apply(\n",
    "    lambda x: x[SELECTED_ATTRIBUTE]\n",
    "    + f\" ({lv_data.loc[(_srp_code, x.name), 'cell line']})\",\n",
    "    axis=1,\n",
    ")\n",
    "final_plot_data.loc[(_srp_code, _tmp.index), SELECTED_ATTRIBUTE] = _tmp.values\n",
    "\n",
    "_srp_code = \"SRP045352\"\n",
    "_tmp = final_plot_data.loc[(_srp_code,)].apply(\n",
    "    lambda x: \"Monocytes\" + f\" ({lv_data.loc[(_srp_code, x.name), 'agent']})\",\n",
    "    axis=1,\n",
    ")\n",
    "final_plot_data.loc[(_srp_code, _tmp.index), SELECTED_ATTRIBUTE] = _tmp.values\n",
    "\n",
    "\n",
    "_srp_code = \"SRP056733\"\n",
    "_tmp = final_plot_data.loc[(_srp_code,)].apply(\n",
    "    lambda x: \"Macrophages\" + f\" ({lv_data.loc[(_srp_code, x.name), 'agent']})\",\n",
    "    axis=1,\n",
    ")\n",
    "final_plot_data.loc[(_srp_code, _tmp.index), SELECTED_ATTRIBUTE] = _tmp.values\n",
    "\n",
    "_srp_code = \"SRP062958\"\n",
    "_tmp = final_plot_data.loc[(_srp_code,)].apply(\n",
    "    lambda x: x[SELECTED_ATTRIBUTE]\n",
    "    + f\" ({lv_data.loc[(_srp_code, x.name), 'treatment']})\",\n",
    "    axis=1,\n",
    ")\n",
    "final_plot_data.loc[(_srp_code, _tmp.index), SELECTED_ATTRIBUTE] = _tmp.values\n",
    "\n",
    "# # add also tissue information to these projects\n",
    "_srp_code = \"SRP015670\"\n",
    "_tmp = final_plot_data.loc[(_srp_code,)].apply(\n",
    "    lambda x: x[SELECTED_ATTRIBUTE]\n",
    "    + f\" ({lv_data.loc[(_srp_code, x.name), 'treatment']})\",\n",
    "    axis=1,\n",
    ")\n",
    "final_plot_data.loc[(_srp_code, _tmp.index), SELECTED_ATTRIBUTE] = _tmp.values\n",
    "\n",
    "# # add also tissue information to these projects\n",
    "_srp_code = \"SRP045500\"\n",
    "_tmp = final_plot_data.loc[(_srp_code,)].apply(\n",
    "    lambda x: x[SELECTED_ATTRIBUTE]\n",
    "    + f\" ({lv_data.loc[(_srp_code, x.name), 'diseasestatus']})\",\n",
    "    axis=1,\n",
    ")\n",
    "final_plot_data.loc[(_srp_code, _tmp.index), SELECTED_ATTRIBUTE] = _tmp.values\n",
    "\n",
    "# # add also tissue information to these projects\n",
    "_srp_code = \"SRP045569\"\n",
    "_tmp = final_plot_data.loc[(_srp_code,)].apply(\n",
    "    lambda x: x[SELECTED_ATTRIBUTE]\n",
    "    + f\" ({lv_data.loc[(_srp_code, x.name), 'treatment']})\",\n",
    "    axis=1,\n",
    ")\n",
    "final_plot_data.loc[(_srp_code, _tmp.index), SELECTED_ATTRIBUTE] = _tmp.values\n",
    "\n",
    "\n",
    "# # add also tissue information to these projects\n",
    "_srp_code = \"SRP062966\"\n",
    "_tmp = final_plot_data.loc[(_srp_code,)].apply(\n",
    "    lambda x: x[SELECTED_ATTRIBUTE]\n",
    "    + f\" ({lv_data.loc[(_srp_code, x.name), 'ism']} SLE)\",\n",
    "    axis=1,\n",
    ")\n",
    "final_plot_data.loc[(_srp_code, _tmp.index), SELECTED_ATTRIBUTE] = _tmp.values\n",
    "\n",
    "\n",
    "# # add also tissue information to these projects\n",
    "_srp_code = \"SRP059039\"\n",
    "_tmp = final_plot_data.loc[(_srp_code,)].apply(\n",
    "    lambda x: x[SELECTED_ATTRIBUTE]\n",
    "    + f\" ({lv_data.loc[(_srp_code, x.name), 'group']} cases)\",\n",
    "    axis=1,\n",
    ")\n",
    "final_plot_data.loc[(_srp_code, _tmp.index), SELECTED_ATTRIBUTE] = _tmp.values\n",
    "\n",
    "\n",
    "# # add also tissue information to these projects\n",
    "_srp_code = \"SRP060370\"\n",
    "_tmp = final_plot_data.loc[(_srp_code,)].apply(\n",
    "    lambda x: x[SELECTED_ATTRIBUTE]\n",
    "    + f\" ({lv_data.loc[(_srp_code, x.name), 'treatment']})\",\n",
    "    axis=1,\n",
    ")\n",
    "final_plot_data.loc[(_srp_code, _tmp.index), SELECTED_ATTRIBUTE] = _tmp.values"
   ]
  },
  {
   "cell_type": "code",
   "execution_count": 34,
   "id": "approved-stone",
   "metadata": {},
   "outputs": [],
   "source": [
    "final_plot_data = final_plot_data.replace(\n",
    "    {\n",
    "        SELECTED_ATTRIBUTE: {\n",
    "            \"\\(interferon-alpha\\)\": \"(IFNa)\",\n",
    "            \"\\(HSV-1\\)\": \"(HSV)\",\n",
    "            \"\\(West Nile virus \\(WNV\\)\\)\": \"(WNV)\",\n",
    "            \"\\(ISM_high SLE\\)\": \"(ISM high SLE)\",\n",
    "        }\n",
    "    },\n",
    "    regex=True,\n",
    ")"
   ]
  },
  {
   "cell_type": "markdown",
   "id": "interested-abraham",
   "metadata": {},
   "source": [
    "## Threshold LV values"
   ]
  },
  {
   "cell_type": "code",
   "execution_count": 35,
   "id": "pressed-template",
   "metadata": {},
   "outputs": [],
   "source": [
    "final_plot_data.loc[\n",
    "    final_plot_data[LV_NAME] > LV_AXIS_THRESHOLD, LV_NAME\n",
    "] = LV_AXIS_THRESHOLD"
   ]
  },
  {
   "cell_type": "markdown",
   "id": "optimum-accordance",
   "metadata": {},
   "source": [
    "## Delete samples with no tissue/cell type information"
   ]
  },
  {
   "cell_type": "code",
   "execution_count": 36,
   "id": "atmospheric-coaching",
   "metadata": {},
   "outputs": [],
   "source": [
    "final_plot_data = final_plot_data[\n",
    "    final_plot_data[SELECTED_ATTRIBUTE] != \"NOT CATEGORIZED\"\n",
    "]"
   ]
  },
  {
   "cell_type": "markdown",
   "id": "anticipated-physiology",
   "metadata": {},
   "source": [
    "## Set x-axis order"
   ]
  },
  {
   "cell_type": "code",
   "execution_count": 37,
   "id": "cleared-convergence",
   "metadata": {},
   "outputs": [],
   "source": [
    "N_TOP_ATTRS = 15"
   ]
  },
  {
   "cell_type": "code",
   "execution_count": 38,
   "id": "ancient-linux",
   "metadata": {},
   "outputs": [],
   "source": [
    "attr_order = (\n",
    "    final_plot_data.groupby(SELECTED_ATTRIBUTE)\n",
    "    .max()\n",
    "    .sort_values(LV_NAME, ascending=False)\n",
    "    .index[:N_TOP_ATTRS]\n",
    "    .tolist()\n",
    ")"
   ]
  },
  {
   "cell_type": "code",
   "execution_count": 39,
   "id": "elegant-premises",
   "metadata": {},
   "outputs": [
    {
     "data": {
      "text/plain": [
       "15"
      ]
     },
     "execution_count": 39,
     "metadata": {},
     "output_type": "execute_result"
    }
   ],
   "source": [
    "len(attr_order)"
   ]
  },
  {
   "cell_type": "code",
   "execution_count": 40,
   "id": "rough-drilling",
   "metadata": {},
   "outputs": [
    {
     "data": {
      "text/plain": [
       "['Whole blood (Diarrhea cases)',\n",
       " 'Neutrophils (MS posttreatment)',\n",
       " 'Dermal fibroblasts',\n",
       " 'Peripheral blood mononuclear cells (HSV)',\n",
       " 'Monocyte-derived macrophages (WNV)']"
      ]
     },
     "execution_count": 40,
     "metadata": {},
     "output_type": "execute_result"
    }
   ],
   "source": [
    "attr_order[:5]"
   ]
  },
  {
   "cell_type": "markdown",
   "id": "criminal-ground",
   "metadata": {},
   "source": [
    "## Plot"
   ]
  },
  {
   "cell_type": "code",
   "execution_count": 41,
   "id": "caroline-complexity",
   "metadata": {},
   "outputs": [
    {
     "data": {
      "image/png": "[encoded data removed]",
      "text/plain": [
       "<Figure size 1080x360 with 1 Axes>"
      ]
     },
     "metadata": {},
     "output_type": "display_data"
    }
   ],
   "source": [
    "with sns.plotting_context(\"paper\", font_scale=2.0), sns.axes_style(\"whitegrid\"):\n",
    "    sns.catplot(\n",
    "        data=final_plot_data,\n",
    "        y=LV_NAME,\n",
    "        x=SELECTED_ATTRIBUTE,\n",
    "        order=attr_order,\n",
    "        kind=\"strip\",\n",
    "        height=5,\n",
    "        aspect=3,\n",
    "    )\n",
    "    plt.xticks(rotation=45, horizontalalignment=\"right\")\n",
    "    plt.xlabel(\"\")\n",
    "\n",
    "    plt.savefig(\n",
    "        OUTPUT_CELL_TYPE_FILEPATH,\n",
    "        bbox_inches=\"tight\",\n",
    "        facecolor=\"white\",\n",
    "    )"
   ]
  },
  {
   "cell_type": "markdown",
   "id": "driving-reynolds",
   "metadata": {},
   "source": [
    "# Debug"
   ]
  },
  {
   "cell_type": "code",
   "execution_count": 42,
   "id": "judicial-binding",
   "metadata": {},
   "outputs": [],
   "source": [
    "# with pd.option_context(\n",
    "#     \"display.max_rows\", None, \"display.max_columns\", None, \"display.max_colwidth\", None\n",
    "# ):\n",
    "#     _tmp = final_plot_data[final_plot_data[SELECTED_ATTRIBUTE].str.contains(\"Salm\")]\n",
    "#     display(_tmp)"
   ]
  },
  {
   "cell_type": "code",
   "execution_count": 43,
   "id": "canadian-advancement",
   "metadata": {},
   "outputs": [],
   "source": [
    "# # what is there in these projects?\n",
    "# with pd.option_context(\n",
    "#     \"display.max_rows\", None, \"display.max_columns\", None, \"display.max_colwidth\", None\n",
    "# ):\n",
    "#     _tmp = (\n",
    "#         lv_data.loc[[\"SRP063059\"]]\n",
    "#         .dropna(how=\"all\", axis=1)\n",
    "#         .sort_values(LV_NAME, ascending=False)\n",
    "#     )\n",
    "#     display(_tmp)"
   ]
  },
  {
   "cell_type": "code",
   "execution_count": null,
   "id": "affecting-acrobat",
   "metadata": {},
   "outputs": [],
   "source": []
  }
 ],
 "metadata": {
  "jupytext": {
   "cell_metadata_filter": "all,-execution,-papermill,-trusted",
   "formats": "ipynb,py//py:percent"
  },
  "kernelspec": {
   "display_name": "Python 3",
   "language": "python",
   "name": "python3"
  },
  "language_info": {
   "codemirror_mode": {
    "name": "ipython",
    "version": 3
   },
   "file_extension": ".py",
   "mimetype": "text/x-python",
   "name": "python",
   "nbconvert_exporter": "python",
   "pygments_lexer": "ipython3",
   "version": "3.8.8"
  }
 },
 "nbformat": 4,
 "nbformat_minor": 5
}
