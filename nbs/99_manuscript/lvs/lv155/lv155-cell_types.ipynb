{
 "cells": [
  {
   "cell_type": "markdown",
   "id": "marine-lindsay",
   "metadata": {
    "papermill": {
     "duration": 0.006593,
     "end_time": "2021-05-11T19:09:55.733221",
     "exception": false,
     "start_time": "2021-05-11T19:09:55.726628",
     "status": "completed"
    },
    "tags": []
   },
   "source": [
    "# Description"
   ]
  },
  {
   "cell_type": "markdown",
   "id": "consistent-ensemble",
   "metadata": {
    "papermill": {
     "duration": 0.00668,
     "end_time": "2021-05-11T19:09:55.745410",
     "exception": false,
     "start_time": "2021-05-11T19:09:55.738730",
     "status": "completed"
    },
    "tags": []
   },
   "source": [
    "Generates the figure for top cell types for a specified LV (in Settings section below)."
   ]
  },
  {
   "cell_type": "markdown",
   "id": "typical-recycling",
   "metadata": {
    "papermill": {
     "duration": 0.006223,
     "end_time": "2021-05-11T19:09:55.756959",
     "exception": false,
     "start_time": "2021-05-11T19:09:55.750736",
     "status": "completed"
    },
    "tags": []
   },
   "source": [
    "# Modules loading"
   ]
  },
  {
   "cell_type": "code",
   "execution_count": 1,
   "id": "demonstrated-bennett",
   "metadata": {
    "papermill": {
     "duration": 0.01906,
     "end_time": "2021-05-11T19:09:55.781515",
     "exception": false,
     "start_time": "2021-05-11T19:09:55.762455",
     "status": "completed"
    },
    "tags": []
   },
   "outputs": [],
   "source": [
    "%load_ext autoreload\n",
    "%autoreload 2"
   ]
  },
  {
   "cell_type": "code",
   "execution_count": 2,
   "id": "prescribed-float",
   "metadata": {
    "papermill": {
     "duration": 0.993432,
     "end_time": "2021-05-11T19:09:56.780403",
     "exception": false,
     "start_time": "2021-05-11T19:09:55.786971",
     "status": "completed"
    },
    "tags": []
   },
   "outputs": [],
   "source": [
    "import re\n",
    "from pathlib import Path\n",
    "\n",
    "import pandas as pd\n",
    "import matplotlib.pyplot as plt\n",
    "import seaborn as sns\n",
    "\n",
    "from data.recount2 import LVAnalysis\n",
    "from utils import chunker\n",
    "import conf"
   ]
  },
  {
   "cell_type": "markdown",
   "id": "vertical-turner",
   "metadata": {
    "papermill": {
     "duration": 0.005973,
     "end_time": "2021-05-11T19:09:56.792495",
     "exception": false,
     "start_time": "2021-05-11T19:09:56.786522",
     "status": "completed"
    },
    "tags": []
   },
   "source": [
    "# Settings"
   ]
  },
  {
   "cell_type": "code",
   "execution_count": 3,
   "id": "present-palace",
   "metadata": {
    "papermill": {
     "duration": 0.019548,
     "end_time": "2021-05-11T19:09:56.817689",
     "exception": false,
     "start_time": "2021-05-11T19:09:56.798141",
     "status": "completed"
    },
    "tags": [
     "parameters"
    ]
   },
   "outputs": [],
   "source": [
    "LV_NAME = \"LV155\""
   ]
  },
  {
   "cell_type": "code",
   "execution_count": 4,
   "id": "british-solomon",
   "metadata": {},
   "outputs": [],
   "source": [
    "LV_AXIS_THRESHOLD = 3.0\n",
    "N_TOP_SAMPLES = 400\n",
    "N_TOP_ATTRS = 25"
   ]
  },
  {
   "cell_type": "code",
   "execution_count": 5,
   "id": "embedded-heaven",
   "metadata": {},
   "outputs": [
    {
     "data": {
      "text/plain": [
       "PosixPath('/home/miltondp/projects/labs/greenelab/phenoplier_manuscript/content/images/lvs_analysis/lv155')"
      ]
     },
     "metadata": {},
     "output_type": "display_data"
    }
   ],
   "source": [
    "OUTPUT_FIGURES_DIR = Path(\n",
    "    conf.MANUSCRIPT[\"FIGURES_DIR\"], \"lvs_analysis\", f\"{LV_NAME.lower()}\"\n",
    ").resolve()\n",
    "display(OUTPUT_FIGURES_DIR)\n",
    "OUTPUT_FIGURES_DIR.mkdir(parents=True, exist_ok=True)"
   ]
  },
  {
   "cell_type": "code",
   "execution_count": 6,
   "id": "racial-possession",
   "metadata": {},
   "outputs": [
    {
     "data": {
      "text/plain": [
       "PosixPath('/home/miltondp/projects/labs/greenelab/phenoplier_manuscript/content/images/lvs_analysis/lv155/lv155-cell_types.svg')"
      ]
     },
     "metadata": {},
     "output_type": "display_data"
    }
   ],
   "source": [
    "OUTPUT_CELL_TYPE_FILEPATH = OUTPUT_FIGURES_DIR / f\"{LV_NAME.lower()}-cell_types.svg\"\n",
    "display(OUTPUT_CELL_TYPE_FILEPATH)"
   ]
  },
  {
   "cell_type": "markdown",
   "id": "small-interpretation",
   "metadata": {
    "papermill": {
     "duration": 0.005592,
     "end_time": "2021-05-11T19:09:56.854406",
     "exception": false,
     "start_time": "2021-05-11T19:09:56.848814",
     "status": "completed"
    },
    "tags": []
   },
   "source": [
    "# Load MultiPLIER summary"
   ]
  },
  {
   "cell_type": "code",
   "execution_count": 7,
   "id": "involved-marathon",
   "metadata": {
    "papermill": {
     "duration": 0.020251,
     "end_time": "2021-05-11T19:09:56.880435",
     "exception": false,
     "start_time": "2021-05-11T19:09:56.860184",
     "status": "completed"
    },
    "tags": []
   },
   "outputs": [],
   "source": [
    "multiplier_model_summary = pd.read_pickle(conf.MULTIPLIER[\"MODEL_SUMMARY_FILE\"])"
   ]
  },
  {
   "cell_type": "code",
   "execution_count": 8,
   "id": "played-success",
   "metadata": {
    "papermill": {
     "duration": 0.02062,
     "end_time": "2021-05-11T19:09:56.906744",
     "exception": false,
     "start_time": "2021-05-11T19:09:56.886124",
     "status": "completed"
    },
    "tags": []
   },
   "outputs": [
    {
     "data": {
      "text/plain": [
       "(2157, 5)"
      ]
     },
     "execution_count": 8,
     "metadata": {},
     "output_type": "execute_result"
    }
   ],
   "source": [
    "multiplier_model_summary.shape"
   ]
  },
  {
   "cell_type": "code",
   "execution_count": 9,
   "id": "multiple-three",
   "metadata": {
    "papermill": {
     "duration": 0.024737,
     "end_time": "2021-05-11T19:09:56.937493",
     "exception": false,
     "start_time": "2021-05-11T19:09:56.912756",
     "status": "completed"
    },
    "tags": []
   },
   "outputs": [
    {
     "data": {
      "text/html": [
       "<div>\n",
       "<style scoped>\n",
       "    .dataframe tbody tr th:only-of-type {\n",
       "        vertical-align: middle;\n",
       "    }\n",
       "\n",
       "    .dataframe tbody tr th {\n",
       "        vertical-align: top;\n",
       "    }\n",
       "\n",
       "    .dataframe thead th {\n",
       "        text-align: right;\n",
       "    }\n",
       "</style>\n",
       "<table border=\"1\" class=\"dataframe\">\n",
       "  <thead>\n",
       "    <tr style=\"text-align: right;\">\n",
       "      <th></th>\n",
       "      <th>pathway</th>\n",
       "      <th>LV index</th>\n",
       "      <th>AUC</th>\n",
       "      <th>p-value</th>\n",
       "      <th>FDR</th>\n",
       "    </tr>\n",
       "  </thead>\n",
       "  <tbody>\n",
       "    <tr>\n",
       "      <th>1</th>\n",
       "      <td>KEGG_LYSINE_DEGRADATION</td>\n",
       "      <td>1</td>\n",
       "      <td>0.388059</td>\n",
       "      <td>0.866078</td>\n",
       "      <td>0.956005</td>\n",
       "    </tr>\n",
       "    <tr>\n",
       "      <th>2</th>\n",
       "      <td>REACTOME_MRNA_SPLICING</td>\n",
       "      <td>1</td>\n",
       "      <td>0.733057</td>\n",
       "      <td>0.000048</td>\n",
       "      <td>0.000582</td>\n",
       "    </tr>\n",
       "    <tr>\n",
       "      <th>3</th>\n",
       "      <td>MIPS_NOP56P_ASSOCIATED_PRE_RRNA_COMPLEX</td>\n",
       "      <td>1</td>\n",
       "      <td>0.680555</td>\n",
       "      <td>0.001628</td>\n",
       "      <td>0.011366</td>\n",
       "    </tr>\n",
       "    <tr>\n",
       "      <th>4</th>\n",
       "      <td>KEGG_DNA_REPLICATION</td>\n",
       "      <td>1</td>\n",
       "      <td>0.549473</td>\n",
       "      <td>0.312155</td>\n",
       "      <td>0.539951</td>\n",
       "    </tr>\n",
       "    <tr>\n",
       "      <th>5</th>\n",
       "      <td>PID_MYC_ACTIVPATHWAY</td>\n",
       "      <td>1</td>\n",
       "      <td>0.639303</td>\n",
       "      <td>0.021702</td>\n",
       "      <td>0.083739</td>\n",
       "    </tr>\n",
       "  </tbody>\n",
       "</table>\n",
       "</div>"
      ],
      "text/plain": [
       "                                   pathway LV index       AUC   p-value  \\\n",
       "1                  KEGG_LYSINE_DEGRADATION        1  0.388059  0.866078   \n",
       "2                   REACTOME_MRNA_SPLICING        1  0.733057  0.000048   \n",
       "3  MIPS_NOP56P_ASSOCIATED_PRE_RRNA_COMPLEX        1  0.680555  0.001628   \n",
       "4                     KEGG_DNA_REPLICATION        1  0.549473  0.312155   \n",
       "5                     PID_MYC_ACTIVPATHWAY        1  0.639303  0.021702   \n",
       "\n",
       "        FDR  \n",
       "1  0.956005  \n",
       "2  0.000582  \n",
       "3  0.011366  \n",
       "4  0.539951  \n",
       "5  0.083739  "
      ]
     },
     "execution_count": 9,
     "metadata": {},
     "output_type": "execute_result"
    }
   ],
   "source": [
    "multiplier_model_summary.head()"
   ]
  },
  {
   "cell_type": "markdown",
   "id": "union-melbourne",
   "metadata": {
    "papermill": {
     "duration": 0.006007,
     "end_time": "2021-05-11T19:09:56.949763",
     "exception": false,
     "start_time": "2021-05-11T19:09:56.943756",
     "status": "completed"
    },
    "tags": []
   },
   "source": [
    "# Load data"
   ]
  },
  {
   "cell_type": "markdown",
   "id": "golden-vanilla",
   "metadata": {
    "papermill": {
     "duration": 0.005873,
     "end_time": "2021-05-11T19:09:56.961602",
     "exception": false,
     "start_time": "2021-05-11T19:09:56.955729",
     "status": "completed"
    },
    "tags": []
   },
   "source": [
    "## Original data"
   ]
  },
  {
   "cell_type": "code",
   "execution_count": 10,
   "id": "friendly-delaware",
   "metadata": {
    "papermill": {
     "duration": 0.019571,
     "end_time": "2021-05-11T19:09:56.987255",
     "exception": false,
     "start_time": "2021-05-11T19:09:56.967684",
     "status": "completed"
    },
    "tags": []
   },
   "outputs": [],
   "source": [
    "INPUT_SUBSET = \"z_score_std\""
   ]
  },
  {
   "cell_type": "code",
   "execution_count": 11,
   "id": "external-gravity",
   "metadata": {
    "papermill": {
     "duration": 0.019175,
     "end_time": "2021-05-11T19:09:57.025099",
     "exception": false,
     "start_time": "2021-05-11T19:09:57.005924",
     "status": "completed"
    },
    "tags": []
   },
   "outputs": [],
   "source": [
    "INPUT_STEM = \"projection-smultixcan-efo_partial-mashr-zscores\""
   ]
  },
  {
   "cell_type": "code",
   "execution_count": 12,
   "id": "related-scout",
   "metadata": {
    "papermill": {
     "duration": 0.020992,
     "end_time": "2021-05-11T19:09:57.052255",
     "exception": false,
     "start_time": "2021-05-11T19:09:57.031263",
     "status": "completed"
    },
    "tags": []
   },
   "outputs": [
    {
     "data": {
      "text/plain": [
       "PosixPath('/home/miltondp/projects/labs/greenelab/phenoplier/bases_data/base_orig/results/data_transformations/z_score_std/z_score_std-projection-smultixcan-efo_partial-mashr-zscores.pkl')"
      ]
     },
     "metadata": {},
     "output_type": "display_data"
    },
    {
     "data": {
      "text/plain": [
       "'z_score_std-projection-smultixcan-efo_partial-mashr-zscores'"
      ]
     },
     "metadata": {},
     "output_type": "display_data"
    }
   ],
   "source": [
    "input_filepath = Path(\n",
    "    conf.RESULTS[\"DATA_TRANSFORMATIONS_DIR\"],\n",
    "    INPUT_SUBSET,\n",
    "    f\"{INPUT_SUBSET}-{INPUT_STEM}.pkl\",\n",
    ").resolve()\n",
    "display(input_filepath)\n",
    "\n",
    "assert input_filepath.exists(), \"Input file does not exist\"\n",
    "\n",
    "input_filepath_stem = input_filepath.stem\n",
    "display(input_filepath_stem)"
   ]
  },
  {
   "cell_type": "code",
   "execution_count": 13,
   "id": "authorized-vegetation",
   "metadata": {
    "papermill": {
     "duration": 0.032337,
     "end_time": "2021-05-11T19:09:57.090585",
     "exception": false,
     "start_time": "2021-05-11T19:09:57.058248",
     "status": "completed"
    },
    "tags": []
   },
   "outputs": [],
   "source": [
    "data = pd.read_pickle(input_filepath)"
   ]
  },
  {
   "cell_type": "code",
   "execution_count": 14,
   "id": "crazy-aside",
   "metadata": {
    "papermill": {
     "duration": 0.01967,
     "end_time": "2021-05-11T19:09:57.116292",
     "exception": false,
     "start_time": "2021-05-11T19:09:57.096622",
     "status": "completed"
    },
    "tags": []
   },
   "outputs": [
    {
     "data": {
      "text/plain": [
       "(3752, 987)"
      ]
     },
     "execution_count": 14,
     "metadata": {},
     "output_type": "execute_result"
    }
   ],
   "source": [
    "data.shape"
   ]
  },
  {
   "cell_type": "code",
   "execution_count": 15,
   "id": "single-thompson",
   "metadata": {
    "papermill": {
     "duration": 0.031843,
     "end_time": "2021-05-11T19:09:57.154356",
     "exception": false,
     "start_time": "2021-05-11T19:09:57.122513",
     "status": "completed"
    },
    "tags": []
   },
   "outputs": [
    {
     "data": {
      "text/html": [
       "<div>\n",
       "<style scoped>\n",
       "    .dataframe tbody tr th:only-of-type {\n",
       "        vertical-align: middle;\n",
       "    }\n",
       "\n",
       "    .dataframe tbody tr th {\n",
       "        vertical-align: top;\n",
       "    }\n",
       "\n",
       "    .dataframe thead th {\n",
       "        text-align: right;\n",
       "    }\n",
       "</style>\n",
       "<table border=\"1\" class=\"dataframe\">\n",
       "  <thead>\n",
       "    <tr style=\"text-align: right;\">\n",
       "      <th></th>\n",
       "      <th>LV1</th>\n",
       "      <th>LV2</th>\n",
       "      <th>LV3</th>\n",
       "      <th>LV4</th>\n",
       "      <th>LV5</th>\n",
       "      <th>LV6</th>\n",
       "      <th>LV7</th>\n",
       "      <th>LV8</th>\n",
       "      <th>LV9</th>\n",
       "      <th>LV10</th>\n",
       "      <th>...</th>\n",
       "      <th>LV978</th>\n",
       "      <th>LV979</th>\n",
       "      <th>LV980</th>\n",
       "      <th>LV981</th>\n",
       "      <th>LV982</th>\n",
       "      <th>LV983</th>\n",
       "      <th>LV984</th>\n",
       "      <th>LV985</th>\n",
       "      <th>LV986</th>\n",
       "      <th>LV987</th>\n",
       "    </tr>\n",
       "  </thead>\n",
       "  <tbody>\n",
       "    <tr>\n",
       "      <th>100001_raw-Food_weight</th>\n",
       "      <td>-0.695006</td>\n",
       "      <td>1.962565</td>\n",
       "      <td>0.057683</td>\n",
       "      <td>0.878731</td>\n",
       "      <td>-0.539977</td>\n",
       "      <td>1.481272</td>\n",
       "      <td>-0.396422</td>\n",
       "      <td>1.090180</td>\n",
       "      <td>0.759223</td>\n",
       "      <td>0.931395</td>\n",
       "      <td>...</td>\n",
       "      <td>1.129784</td>\n",
       "      <td>1.752343</td>\n",
       "      <td>-1.411403</td>\n",
       "      <td>2.823863</td>\n",
       "      <td>0.931116</td>\n",
       "      <td>-1.054519</td>\n",
       "      <td>0.432982</td>\n",
       "      <td>-0.633597</td>\n",
       "      <td>0.554279</td>\n",
       "      <td>-0.642479</td>\n",
       "    </tr>\n",
       "    <tr>\n",
       "      <th>100002_raw-Energy</th>\n",
       "      <td>-1.528127</td>\n",
       "      <td>-0.345309</td>\n",
       "      <td>-0.148953</td>\n",
       "      <td>-0.242060</td>\n",
       "      <td>0.373427</td>\n",
       "      <td>0.791092</td>\n",
       "      <td>0.263477</td>\n",
       "      <td>0.987702</td>\n",
       "      <td>0.354391</td>\n",
       "      <td>1.416059</td>\n",
       "      <td>...</td>\n",
       "      <td>0.224604</td>\n",
       "      <td>0.769882</td>\n",
       "      <td>-0.509482</td>\n",
       "      <td>0.091153</td>\n",
       "      <td>2.286789</td>\n",
       "      <td>-1.008256</td>\n",
       "      <td>-0.029764</td>\n",
       "      <td>1.737229</td>\n",
       "      <td>-0.272107</td>\n",
       "      <td>-0.526125</td>\n",
       "    </tr>\n",
       "    <tr>\n",
       "      <th>100003_raw-Protein</th>\n",
       "      <td>-0.704572</td>\n",
       "      <td>-1.011299</td>\n",
       "      <td>0.671420</td>\n",
       "      <td>0.143991</td>\n",
       "      <td>0.615212</td>\n",
       "      <td>0.874212</td>\n",
       "      <td>-0.040998</td>\n",
       "      <td>0.915170</td>\n",
       "      <td>0.254369</td>\n",
       "      <td>-0.084237</td>\n",
       "      <td>...</td>\n",
       "      <td>1.003019</td>\n",
       "      <td>1.044314</td>\n",
       "      <td>-2.376108</td>\n",
       "      <td>0.004778</td>\n",
       "      <td>0.053714</td>\n",
       "      <td>-0.892447</td>\n",
       "      <td>-0.183800</td>\n",
       "      <td>1.377991</td>\n",
       "      <td>-0.278794</td>\n",
       "      <td>-0.419733</td>\n",
       "    </tr>\n",
       "    <tr>\n",
       "      <th>100004_raw-Fat</th>\n",
       "      <td>-0.989832</td>\n",
       "      <td>-1.875490</td>\n",
       "      <td>0.261555</td>\n",
       "      <td>-1.420719</td>\n",
       "      <td>0.366238</td>\n",
       "      <td>1.167049</td>\n",
       "      <td>0.257387</td>\n",
       "      <td>0.717674</td>\n",
       "      <td>-0.997664</td>\n",
       "      <td>0.969825</td>\n",
       "      <td>...</td>\n",
       "      <td>0.585913</td>\n",
       "      <td>0.638314</td>\n",
       "      <td>0.119139</td>\n",
       "      <td>-0.140204</td>\n",
       "      <td>1.394326</td>\n",
       "      <td>-1.173402</td>\n",
       "      <td>0.555058</td>\n",
       "      <td>1.013982</td>\n",
       "      <td>-0.544506</td>\n",
       "      <td>-0.064061</td>\n",
       "    </tr>\n",
       "    <tr>\n",
       "      <th>100005_raw-Carbohydrate</th>\n",
       "      <td>-0.580143</td>\n",
       "      <td>0.243335</td>\n",
       "      <td>0.158966</td>\n",
       "      <td>-0.036558</td>\n",
       "      <td>0.068176</td>\n",
       "      <td>-0.202639</td>\n",
       "      <td>1.101281</td>\n",
       "      <td>0.675227</td>\n",
       "      <td>1.463432</td>\n",
       "      <td>1.010078</td>\n",
       "      <td>...</td>\n",
       "      <td>-0.249108</td>\n",
       "      <td>-0.026814</td>\n",
       "      <td>0.232713</td>\n",
       "      <td>0.323682</td>\n",
       "      <td>1.168642</td>\n",
       "      <td>-0.282935</td>\n",
       "      <td>0.653105</td>\n",
       "      <td>1.909526</td>\n",
       "      <td>0.199997</td>\n",
       "      <td>-1.656894</td>\n",
       "    </tr>\n",
       "  </tbody>\n",
       "</table>\n",
       "<p>5 rows × 987 columns</p>\n",
       "</div>"
      ],
      "text/plain": [
       "                              LV1       LV2       LV3       LV4       LV5  \\\n",
       "100001_raw-Food_weight  -0.695006  1.962565  0.057683  0.878731 -0.539977   \n",
       "100002_raw-Energy       -1.528127 -0.345309 -0.148953 -0.242060  0.373427   \n",
       "100003_raw-Protein      -0.704572 -1.011299  0.671420  0.143991  0.615212   \n",
       "100004_raw-Fat          -0.989832 -1.875490  0.261555 -1.420719  0.366238   \n",
       "100005_raw-Carbohydrate -0.580143  0.243335  0.158966 -0.036558  0.068176   \n",
       "\n",
       "                              LV6       LV7       LV8       LV9      LV10  \\\n",
       "100001_raw-Food_weight   1.481272 -0.396422  1.090180  0.759223  0.931395   \n",
       "100002_raw-Energy        0.791092  0.263477  0.987702  0.354391  1.416059   \n",
       "100003_raw-Protein       0.874212 -0.040998  0.915170  0.254369 -0.084237   \n",
       "100004_raw-Fat           1.167049  0.257387  0.717674 -0.997664  0.969825   \n",
       "100005_raw-Carbohydrate -0.202639  1.101281  0.675227  1.463432  1.010078   \n",
       "\n",
       "                         ...     LV978     LV979     LV980     LV981  \\\n",
       "100001_raw-Food_weight   ...  1.129784  1.752343 -1.411403  2.823863   \n",
       "100002_raw-Energy        ...  0.224604  0.769882 -0.509482  0.091153   \n",
       "100003_raw-Protein       ...  1.003019  1.044314 -2.376108  0.004778   \n",
       "100004_raw-Fat           ...  0.585913  0.638314  0.119139 -0.140204   \n",
       "100005_raw-Carbohydrate  ... -0.249108 -0.026814  0.232713  0.323682   \n",
       "\n",
       "                            LV982     LV983     LV984     LV985     LV986  \\\n",
       "100001_raw-Food_weight   0.931116 -1.054519  0.432982 -0.633597  0.554279   \n",
       "100002_raw-Energy        2.286789 -1.008256 -0.029764  1.737229 -0.272107   \n",
       "100003_raw-Protein       0.053714 -0.892447 -0.183800  1.377991 -0.278794   \n",
       "100004_raw-Fat           1.394326 -1.173402  0.555058  1.013982 -0.544506   \n",
       "100005_raw-Carbohydrate  1.168642 -0.282935  0.653105  1.909526  0.199997   \n",
       "\n",
       "                            LV987  \n",
       "100001_raw-Food_weight  -0.642479  \n",
       "100002_raw-Energy       -0.526125  \n",
       "100003_raw-Protein      -0.419733  \n",
       "100004_raw-Fat          -0.064061  \n",
       "100005_raw-Carbohydrate -1.656894  \n",
       "\n",
       "[5 rows x 987 columns]"
      ]
     },
     "execution_count": 15,
     "metadata": {},
     "output_type": "execute_result"
    }
   ],
   "source": [
    "data.head()"
   ]
  },
  {
   "cell_type": "markdown",
   "id": "electric-toilet",
   "metadata": {},
   "source": [
    "## LV data"
   ]
  },
  {
   "cell_type": "code",
   "execution_count": 16,
   "id": "absent-acting",
   "metadata": {},
   "outputs": [],
   "source": [
    "lv_obj = LVAnalysis(LV_NAME, data)"
   ]
  },
  {
   "cell_type": "code",
   "execution_count": 17,
   "id": "composite-entertainment",
   "metadata": {},
   "outputs": [
    {
     "name": "stderr",
     "output_type": "stream",
     "text": [
      "[2021-08-02 15:36:15,146 - numexpr.utils] INFO: NumExpr defaulting to 8 threads.\n"
     ]
    },
    {
     "data": {
      "text/html": [
       "<div>\n",
       "<style scoped>\n",
       "    .dataframe tbody tr th:only-of-type {\n",
       "        vertical-align: middle;\n",
       "    }\n",
       "\n",
       "    .dataframe tbody tr th {\n",
       "        vertical-align: top;\n",
       "    }\n",
       "\n",
       "    .dataframe thead th {\n",
       "        text-align: right;\n",
       "    }\n",
       "</style>\n",
       "<table border=\"1\" class=\"dataframe\">\n",
       "  <thead>\n",
       "    <tr style=\"text-align: right;\">\n",
       "      <th></th>\n",
       "      <th>pathway</th>\n",
       "      <th>LV index</th>\n",
       "      <th>AUC</th>\n",
       "      <th>p-value</th>\n",
       "      <th>FDR</th>\n",
       "    </tr>\n",
       "  </thead>\n",
       "  <tbody>\n",
       "    <tr>\n",
       "      <th>651</th>\n",
       "      <td>KEGG_AUTOIMMUNE_THYROID_DISEASE</td>\n",
       "      <td>155</td>\n",
       "      <td>0.763499</td>\n",
       "      <td>0.029283</td>\n",
       "      <td>0.105096</td>\n",
       "    </tr>\n",
       "  </tbody>\n",
       "</table>\n",
       "</div>"
      ],
      "text/plain": [
       "                             pathway LV index       AUC   p-value       FDR\n",
       "651  KEGG_AUTOIMMUNE_THYROID_DISEASE      155  0.763499  0.029283  0.105096"
      ]
     },
     "execution_count": 17,
     "metadata": {},
     "output_type": "execute_result"
    }
   ],
   "source": [
    "multiplier_model_summary[\n",
    "    multiplier_model_summary[\"LV index\"].isin((LV_NAME[2:],))\n",
    "    & (\n",
    "        (multiplier_model_summary[\"FDR\"] < 0.05)\n",
    "        | (multiplier_model_summary[\"AUC\"] >= 0.75)\n",
    "    )\n",
    "]"
   ]
  },
  {
   "cell_type": "code",
   "execution_count": 18,
   "id": "numerous-climb",
   "metadata": {},
   "outputs": [
    {
     "name": "stdout",
     "output_type": "stream",
     "text": [
      "SRP027364, SRP052056, SRP027530, SRP050087, SRP048222, SRP042161, SRP014428, SRP028336, SRP013984, SRP007947, SRP057196, SRP004637, SRP047192, SRP060416, SRP012167, SRP029889, SRP050499, SRP055513, SRP014020, SRP015640, SRP009266, SRP006575, SRP009247, SRP043320, SRP052612, SRP059733, SRP060355, SRP014213, SRP056696, SRP055569, SRP047299, SRP041751, SRP011546, SRP063661, SRP042620, SRP008331, SRP009123, SRP036848, SRP062177, SRP035387, SRP066834, SRP040998, SRP003901, SRP029207, SRP007412, SRP065559, SRP024244, SRP019936, SRP064259, SRP024268, SRP056049, SRP058626, SRP061881, SRP036821, SRP023262, SRP009862, SRP050551, SRP033248, SRP045276, SRP013389, SRP057205, SRP063840, SRP017777, SRP032833, SRP048744, SRP052740, SRP040694, SRP025982, SRP012557, SRP011054, SRP017575, SRP019994, SRP055392, SRP039694, SRP044042, SRP037778, SRP040442, SRP026537, SRP059379, SRP033135, SRP042184, SRP059732, "
     ]
    },
    {
     "name": "stderr",
     "output_type": "stream",
     "text": [
      "/home/miltondp/projects/labs/greenelab/phenoplier/libs/data/recount2.py:320: UserWarning: Not all experiments data could be loaded (78 != 82)\n",
      "  warnings.warn(\n"
     ]
    }
   ],
   "source": [
    "lv_data = lv_obj.get_experiments_data()"
   ]
  },
  {
   "cell_type": "code",
   "execution_count": 19,
   "id": "mysterious-voice",
   "metadata": {},
   "outputs": [
    {
     "data": {
      "text/plain": [
       "(8580, 137)"
      ]
     },
     "execution_count": 19,
     "metadata": {},
     "output_type": "execute_result"
    }
   ],
   "source": [
    "lv_data.shape"
   ]
  },
  {
   "cell_type": "code",
   "execution_count": 20,
   "id": "loving-faculty",
   "metadata": {},
   "outputs": [
    {
     "data": {
      "text/html": [
       "<div>\n",
       "<style scoped>\n",
       "    .dataframe tbody tr th:only-of-type {\n",
       "        vertical-align: middle;\n",
       "    }\n",
       "\n",
       "    .dataframe tbody tr th {\n",
       "        vertical-align: top;\n",
       "    }\n",
       "\n",
       "    .dataframe thead th {\n",
       "        text-align: right;\n",
       "    }\n",
       "</style>\n",
       "<table border=\"1\" class=\"dataframe\">\n",
       "  <thead>\n",
       "    <tr style=\"text-align: right;\">\n",
       "      <th></th>\n",
       "      <th></th>\n",
       "      <th>disease state</th>\n",
       "      <th>tissue</th>\n",
       "      <th>sample type</th>\n",
       "      <th>diagnosis</th>\n",
       "      <th>age</th>\n",
       "      <th>Sex</th>\n",
       "      <th>tumor stage</th>\n",
       "      <th>genotype/variation</th>\n",
       "      <th>sequenced molecule</th>\n",
       "      <th>patient</th>\n",
       "      <th>...</th>\n",
       "      <th>reprogramming vector</th>\n",
       "      <th>hour post serum-switch</th>\n",
       "      <th>debris</th>\n",
       "      <th>control well</th>\n",
       "      <th>cells in well</th>\n",
       "      <th>library protocol</th>\n",
       "      <th>age at diagnosis</th>\n",
       "      <th>final gtf2i mutation status</th>\n",
       "      <th>who histotype</th>\n",
       "      <th>LV155</th>\n",
       "    </tr>\n",
       "    <tr>\n",
       "      <th>project</th>\n",
       "      <th>run</th>\n",
       "      <th></th>\n",
       "      <th></th>\n",
       "      <th></th>\n",
       "      <th></th>\n",
       "      <th></th>\n",
       "      <th></th>\n",
       "      <th></th>\n",
       "      <th></th>\n",
       "      <th></th>\n",
       "      <th></th>\n",
       "      <th></th>\n",
       "      <th></th>\n",
       "      <th></th>\n",
       "      <th></th>\n",
       "      <th></th>\n",
       "      <th></th>\n",
       "      <th></th>\n",
       "      <th></th>\n",
       "      <th></th>\n",
       "      <th></th>\n",
       "      <th></th>\n",
       "    </tr>\n",
       "  </thead>\n",
       "  <tbody>\n",
       "    <tr>\n",
       "      <th rowspan=\"5\" valign=\"top\">SRP027364</th>\n",
       "      <th>SRR934360</th>\n",
       "      <td>Normal</td>\n",
       "      <td>thyroid</td>\n",
       "      <td>NaN</td>\n",
       "      <td>NaN</td>\n",
       "      <td>NaN</td>\n",
       "      <td>NaN</td>\n",
       "      <td>NaN</td>\n",
       "      <td>NaN</td>\n",
       "      <td>NaN</td>\n",
       "      <td>NaN</td>\n",
       "      <td>...</td>\n",
       "      <td>NaN</td>\n",
       "      <td>NaN</td>\n",
       "      <td>NaN</td>\n",
       "      <td>NaN</td>\n",
       "      <td>NaN</td>\n",
       "      <td>NaN</td>\n",
       "      <td>NaN</td>\n",
       "      <td>NaN</td>\n",
       "      <td>NaN</td>\n",
       "      <td>2.574352</td>\n",
       "    </tr>\n",
       "    <tr>\n",
       "      <th>SRR934363</th>\n",
       "      <td>Normal</td>\n",
       "      <td>thyroid</td>\n",
       "      <td>NaN</td>\n",
       "      <td>NaN</td>\n",
       "      <td>NaN</td>\n",
       "      <td>NaN</td>\n",
       "      <td>NaN</td>\n",
       "      <td>NaN</td>\n",
       "      <td>NaN</td>\n",
       "      <td>NaN</td>\n",
       "      <td>...</td>\n",
       "      <td>NaN</td>\n",
       "      <td>NaN</td>\n",
       "      <td>NaN</td>\n",
       "      <td>NaN</td>\n",
       "      <td>NaN</td>\n",
       "      <td>NaN</td>\n",
       "      <td>NaN</td>\n",
       "      <td>NaN</td>\n",
       "      <td>NaN</td>\n",
       "      <td>2.472909</td>\n",
       "    </tr>\n",
       "    <tr>\n",
       "      <th>SRR934362</th>\n",
       "      <td>Normal</td>\n",
       "      <td>thyroid</td>\n",
       "      <td>NaN</td>\n",
       "      <td>NaN</td>\n",
       "      <td>NaN</td>\n",
       "      <td>NaN</td>\n",
       "      <td>NaN</td>\n",
       "      <td>NaN</td>\n",
       "      <td>NaN</td>\n",
       "      <td>NaN</td>\n",
       "      <td>...</td>\n",
       "      <td>NaN</td>\n",
       "      <td>NaN</td>\n",
       "      <td>NaN</td>\n",
       "      <td>NaN</td>\n",
       "      <td>NaN</td>\n",
       "      <td>NaN</td>\n",
       "      <td>NaN</td>\n",
       "      <td>NaN</td>\n",
       "      <td>NaN</td>\n",
       "      <td>1.906772</td>\n",
       "    </tr>\n",
       "    <tr>\n",
       "      <th>SRR934364</th>\n",
       "      <td>Normal</td>\n",
       "      <td>thyroid</td>\n",
       "      <td>NaN</td>\n",
       "      <td>NaN</td>\n",
       "      <td>NaN</td>\n",
       "      <td>NaN</td>\n",
       "      <td>NaN</td>\n",
       "      <td>NaN</td>\n",
       "      <td>NaN</td>\n",
       "      <td>NaN</td>\n",
       "      <td>...</td>\n",
       "      <td>NaN</td>\n",
       "      <td>NaN</td>\n",
       "      <td>NaN</td>\n",
       "      <td>NaN</td>\n",
       "      <td>NaN</td>\n",
       "      <td>NaN</td>\n",
       "      <td>NaN</td>\n",
       "      <td>NaN</td>\n",
       "      <td>NaN</td>\n",
       "      <td>1.255682</td>\n",
       "    </tr>\n",
       "    <tr>\n",
       "      <th>SRR934365</th>\n",
       "      <td>Tumor</td>\n",
       "      <td>thyroid</td>\n",
       "      <td>NaN</td>\n",
       "      <td>NaN</td>\n",
       "      <td>NaN</td>\n",
       "      <td>NaN</td>\n",
       "      <td>NaN</td>\n",
       "      <td>NaN</td>\n",
       "      <td>NaN</td>\n",
       "      <td>NaN</td>\n",
       "      <td>...</td>\n",
       "      <td>NaN</td>\n",
       "      <td>NaN</td>\n",
       "      <td>NaN</td>\n",
       "      <td>NaN</td>\n",
       "      <td>NaN</td>\n",
       "      <td>NaN</td>\n",
       "      <td>NaN</td>\n",
       "      <td>NaN</td>\n",
       "      <td>NaN</td>\n",
       "      <td>0.827064</td>\n",
       "    </tr>\n",
       "  </tbody>\n",
       "</table>\n",
       "<p>5 rows × 137 columns</p>\n",
       "</div>"
      ],
      "text/plain": [
       "                    disease state   tissue sample type diagnosis  age  Sex  \\\n",
       "project   run                                                                \n",
       "SRP027364 SRR934360        Normal  thyroid         NaN       NaN  NaN  NaN   \n",
       "          SRR934363        Normal  thyroid         NaN       NaN  NaN  NaN   \n",
       "          SRR934362        Normal  thyroid         NaN       NaN  NaN  NaN   \n",
       "          SRR934364        Normal  thyroid         NaN       NaN  NaN  NaN   \n",
       "          SRR934365         Tumor  thyroid         NaN       NaN  NaN  NaN   \n",
       "\n",
       "                    tumor stage genotype/variation sequenced molecule patient  \\\n",
       "project   run                                                                   \n",
       "SRP027364 SRR934360         NaN                NaN                NaN     NaN   \n",
       "          SRR934363         NaN                NaN                NaN     NaN   \n",
       "          SRR934362         NaN                NaN                NaN     NaN   \n",
       "          SRR934364         NaN                NaN                NaN     NaN   \n",
       "          SRR934365         NaN                NaN                NaN     NaN   \n",
       "\n",
       "                     ... reprogramming vector hour post serum-switch debris  \\\n",
       "project   run        ...                                                      \n",
       "SRP027364 SRR934360  ...                  NaN                    NaN    NaN   \n",
       "          SRR934363  ...                  NaN                    NaN    NaN   \n",
       "          SRR934362  ...                  NaN                    NaN    NaN   \n",
       "          SRR934364  ...                  NaN                    NaN    NaN   \n",
       "          SRR934365  ...                  NaN                    NaN    NaN   \n",
       "\n",
       "                    control well cells in well library protocol  \\\n",
       "project   run                                                     \n",
       "SRP027364 SRR934360          NaN           NaN              NaN   \n",
       "          SRR934363          NaN           NaN              NaN   \n",
       "          SRR934362          NaN           NaN              NaN   \n",
       "          SRR934364          NaN           NaN              NaN   \n",
       "          SRR934365          NaN           NaN              NaN   \n",
       "\n",
       "                    age at diagnosis final gtf2i mutation status  \\\n",
       "project   run                                                      \n",
       "SRP027364 SRR934360              NaN                         NaN   \n",
       "          SRR934363              NaN                         NaN   \n",
       "          SRR934362              NaN                         NaN   \n",
       "          SRR934364              NaN                         NaN   \n",
       "          SRR934365              NaN                         NaN   \n",
       "\n",
       "                    who histotype     LV155  \n",
       "project   run                                \n",
       "SRP027364 SRR934360           NaN  2.574352  \n",
       "          SRR934363           NaN  2.472909  \n",
       "          SRR934362           NaN  1.906772  \n",
       "          SRR934364           NaN  1.255682  \n",
       "          SRR934365           NaN  0.827064  \n",
       "\n",
       "[5 rows x 137 columns]"
      ]
     },
     "execution_count": 20,
     "metadata": {},
     "output_type": "execute_result"
    }
   ],
   "source": [
    "lv_data.head()"
   ]
  },
  {
   "cell_type": "markdown",
   "id": "medical-dynamics",
   "metadata": {},
   "source": [
    "# LV cell types analysis"
   ]
  },
  {
   "cell_type": "markdown",
   "id": "confirmed-tracy",
   "metadata": {},
   "source": [
    "## Get top attributes"
   ]
  },
  {
   "cell_type": "code",
   "execution_count": 21,
   "id": "middle-california",
   "metadata": {},
   "outputs": [
    {
     "data": {
      "text/plain": [
       "diagnosis             0.524270\n",
       "genotype/variation    0.279617\n",
       "sample type           0.264167\n",
       "sequenced molecule    0.245077\n",
       "disease state         0.200362\n",
       "patient               0.192348\n",
       "tumor stage           0.187481\n",
       "Sex                   0.081986\n",
       "tissue                0.052514\n",
       "age                   0.031987\n",
       "cell sorted           0.013377\n",
       "time in culture       0.013377\n",
       "antibody              0.005676\n",
       "passages              0.005676\n",
       "age (years)           0.005285\n",
       "strain/background     0.005285\n",
       "cell type             0.004149\n",
       "cancer or normal      0.003353\n",
       "isolate               0.002373\n",
       "brain region          0.002373\n",
       "dtype: float64"
      ]
     },
     "metadata": {},
     "output_type": "display_data"
    }
   ],
   "source": [
    "lv_attrs = lv_obj.get_attributes_variation_score()\n",
    "display(lv_attrs.head(20))"
   ]
  },
  {
   "cell_type": "code",
   "execution_count": 22,
   "id": "limiting-parameter",
   "metadata": {},
   "outputs": [
    {
     "data": {
      "text/plain": [
       "tissue            0.052514\n",
       "cell type         0.004149\n",
       "cell subtype      0.001399\n",
       "tissue subtype    0.000995\n",
       "tissue type       0.000772\n",
       "dtype: float64"
      ]
     },
     "execution_count": 22,
     "metadata": {},
     "output_type": "execute_result"
    }
   ],
   "source": [
    "# show those with cell type or tissue in their name\n",
    "_tmp = pd.Series(lv_attrs.index)\n",
    "lv_attrs[\n",
    "    _tmp.str.match(\n",
    "        \"(?:cell.+type$)|(?:tissue$)|(?:tissue.+type$)\",\n",
    "        case=False,\n",
    "        flags=re.IGNORECASE,\n",
    "    ).values\n",
    "].sort_values(ascending=False)"
   ]
  },
  {
   "cell_type": "code",
   "execution_count": 23,
   "id": "weighted-tennessee",
   "metadata": {},
   "outputs": [],
   "source": [
    "_tmp = lv_data.loc[\n",
    "    :,\n",
    "    [\n",
    "        \"cell type\",\n",
    "        \"tissue\",\n",
    "        \"cell subtype\",\n",
    "        \"tissue subtype\",\n",
    "        \"tissue type\",\n",
    "        LV_NAME,\n",
    "    ],\n",
    "]"
   ]
  },
  {
   "cell_type": "code",
   "execution_count": 24,
   "id": "binary-bottle",
   "metadata": {},
   "outputs": [],
   "source": [
    "_tmp_seq = list(chunker(_tmp.sort_values(LV_NAME, ascending=False), 25))"
   ]
  },
  {
   "cell_type": "code",
   "execution_count": 25,
   "id": "missing-chart",
   "metadata": {},
   "outputs": [
    {
     "data": {
      "text/html": [
       "<div>\n",
       "<style scoped>\n",
       "    .dataframe tbody tr th:only-of-type {\n",
       "        vertical-align: middle;\n",
       "    }\n",
       "\n",
       "    .dataframe tbody tr th {\n",
       "        vertical-align: top;\n",
       "    }\n",
       "\n",
       "    .dataframe thead th {\n",
       "        text-align: right;\n",
       "    }\n",
       "</style>\n",
       "<table border=\"1\" class=\"dataframe\">\n",
       "  <thead>\n",
       "    <tr style=\"text-align: right;\">\n",
       "      <th></th>\n",
       "      <th></th>\n",
       "      <th>cell type</th>\n",
       "      <th>tissue</th>\n",
       "      <th>cell subtype</th>\n",
       "      <th>tissue subtype</th>\n",
       "      <th>tissue type</th>\n",
       "      <th>LV155</th>\n",
       "    </tr>\n",
       "    <tr>\n",
       "      <th>project</th>\n",
       "      <th>run</th>\n",
       "      <th></th>\n",
       "      <th></th>\n",
       "      <th></th>\n",
       "      <th></th>\n",
       "      <th></th>\n",
       "      <th></th>\n",
       "    </tr>\n",
       "  </thead>\n",
       "  <tbody>\n",
       "    <tr>\n",
       "      <th>SRP027530</th>\n",
       "      <th>SRR935667</th>\n",
       "      <td>NaN</td>\n",
       "      <td>Thyroid cancer</td>\n",
       "      <td>NaN</td>\n",
       "      <td>NaN</td>\n",
       "      <td>NaN</td>\n",
       "      <td>0.937821</td>\n",
       "    </tr>\n",
       "    <tr>\n",
       "      <th>SRP048222</th>\n",
       "      <th>SRR1799839</th>\n",
       "      <td>normal</td>\n",
       "      <td>NaN</td>\n",
       "      <td>NaN</td>\n",
       "      <td>NaN</td>\n",
       "      <td>NaN</td>\n",
       "      <td>0.931947</td>\n",
       "    </tr>\n",
       "    <tr>\n",
       "      <th>SRP027530</th>\n",
       "      <th>SRR935662</th>\n",
       "      <td>NaN</td>\n",
       "      <td>Thyroid cancer</td>\n",
       "      <td>NaN</td>\n",
       "      <td>NaN</td>\n",
       "      <td>NaN</td>\n",
       "      <td>0.920383</td>\n",
       "    </tr>\n",
       "    <tr>\n",
       "      <th>SRP052056</th>\n",
       "      <th>SRR1754123</th>\n",
       "      <td>NaN</td>\n",
       "      <td>thyroid</td>\n",
       "      <td>NaN</td>\n",
       "      <td>NaN</td>\n",
       "      <td>NaN</td>\n",
       "      <td>0.920071</td>\n",
       "    </tr>\n",
       "    <tr>\n",
       "      <th>SRP048222</th>\n",
       "      <th>SRR1799840</th>\n",
       "      <td>tumor</td>\n",
       "      <td>NaN</td>\n",
       "      <td>NaN</td>\n",
       "      <td>NaN</td>\n",
       "      <td>NaN</td>\n",
       "      <td>0.916409</td>\n",
       "    </tr>\n",
       "    <tr>\n",
       "      <th>SRP052056</th>\n",
       "      <th>SRR1754120</th>\n",
       "      <td>NaN</td>\n",
       "      <td>thyroid</td>\n",
       "      <td>NaN</td>\n",
       "      <td>NaN</td>\n",
       "      <td>NaN</td>\n",
       "      <td>0.886543</td>\n",
       "    </tr>\n",
       "    <tr>\n",
       "      <th rowspan=\"2\" valign=\"top\">SRP027364</th>\n",
       "      <th>SRR934365</th>\n",
       "      <td>NaN</td>\n",
       "      <td>thyroid</td>\n",
       "      <td>NaN</td>\n",
       "      <td>NaN</td>\n",
       "      <td>NaN</td>\n",
       "      <td>0.827064</td>\n",
       "    </tr>\n",
       "    <tr>\n",
       "      <th>SRR934370</th>\n",
       "      <td>NaN</td>\n",
       "      <td>thyroid</td>\n",
       "      <td>NaN</td>\n",
       "      <td>NaN</td>\n",
       "      <td>NaN</td>\n",
       "      <td>0.826922</td>\n",
       "    </tr>\n",
       "    <tr>\n",
       "      <th rowspan=\"3\" valign=\"top\">SRP027530</th>\n",
       "      <th>SRR935672</th>\n",
       "      <td>NaN</td>\n",
       "      <td>Thyroid cancer</td>\n",
       "      <td>NaN</td>\n",
       "      <td>NaN</td>\n",
       "      <td>NaN</td>\n",
       "      <td>0.825000</td>\n",
       "    </tr>\n",
       "    <tr>\n",
       "      <th>SRR935668</th>\n",
       "      <td>NaN</td>\n",
       "      <td>Thyroid cancer</td>\n",
       "      <td>NaN</td>\n",
       "      <td>NaN</td>\n",
       "      <td>NaN</td>\n",
       "      <td>0.800400</td>\n",
       "    </tr>\n",
       "    <tr>\n",
       "      <th>SRR935663</th>\n",
       "      <td>NaN</td>\n",
       "      <td>Thyroid cancer</td>\n",
       "      <td>NaN</td>\n",
       "      <td>NaN</td>\n",
       "      <td>NaN</td>\n",
       "      <td>0.783162</td>\n",
       "    </tr>\n",
       "    <tr>\n",
       "      <th rowspan=\"2\" valign=\"top\">SRP042161</th>\n",
       "      <th>SRR1294642</th>\n",
       "      <td>Glioblastoma</td>\n",
       "      <td>NaN</td>\n",
       "      <td>NaN</td>\n",
       "      <td>NaN</td>\n",
       "      <td>NaN</td>\n",
       "      <td>0.781590</td>\n",
       "    </tr>\n",
       "    <tr>\n",
       "      <th>SRR1295338</th>\n",
       "      <td>Gliomasphere Cell Line</td>\n",
       "      <td>NaN</td>\n",
       "      <td>NaN</td>\n",
       "      <td>NaN</td>\n",
       "      <td>NaN</td>\n",
       "      <td>0.760819</td>\n",
       "    </tr>\n",
       "    <tr>\n",
       "      <th rowspan=\"2\" valign=\"top\">SRP027530</th>\n",
       "      <th>SRR935675</th>\n",
       "      <td>NaN</td>\n",
       "      <td>Thyroid cancer</td>\n",
       "      <td>NaN</td>\n",
       "      <td>NaN</td>\n",
       "      <td>NaN</td>\n",
       "      <td>0.750714</td>\n",
       "    </tr>\n",
       "    <tr>\n",
       "      <th>SRR935679</th>\n",
       "      <td>NaN</td>\n",
       "      <td>Thyroid cancer</td>\n",
       "      <td>NaN</td>\n",
       "      <td>NaN</td>\n",
       "      <td>NaN</td>\n",
       "      <td>0.744096</td>\n",
       "    </tr>\n",
       "    <tr>\n",
       "      <th>SRP052056</th>\n",
       "      <th>SRR1754118</th>\n",
       "      <td>NaN</td>\n",
       "      <td>thyroid</td>\n",
       "      <td>NaN</td>\n",
       "      <td>NaN</td>\n",
       "      <td>NaN</td>\n",
       "      <td>0.742373</td>\n",
       "    </tr>\n",
       "    <tr>\n",
       "      <th rowspan=\"3\" valign=\"top\">SRP027530</th>\n",
       "      <th>SRR935677</th>\n",
       "      <td>NaN</td>\n",
       "      <td>Thyroid cancer</td>\n",
       "      <td>NaN</td>\n",
       "      <td>NaN</td>\n",
       "      <td>NaN</td>\n",
       "      <td>0.734465</td>\n",
       "    </tr>\n",
       "    <tr>\n",
       "      <th>SRR935680</th>\n",
       "      <td>NaN</td>\n",
       "      <td>Thyroid cancer</td>\n",
       "      <td>NaN</td>\n",
       "      <td>NaN</td>\n",
       "      <td>NaN</td>\n",
       "      <td>0.713796</td>\n",
       "    </tr>\n",
       "    <tr>\n",
       "      <th>SRR935674</th>\n",
       "      <td>NaN</td>\n",
       "      <td>Thyroid cancer</td>\n",
       "      <td>NaN</td>\n",
       "      <td>NaN</td>\n",
       "      <td>NaN</td>\n",
       "      <td>0.692031</td>\n",
       "    </tr>\n",
       "    <tr>\n",
       "      <th>SRP050087</th>\n",
       "      <th>SRR1658413</th>\n",
       "      <td>NaN</td>\n",
       "      <td>Thyroid tumor</td>\n",
       "      <td>NaN</td>\n",
       "      <td>NaN</td>\n",
       "      <td>NaN</td>\n",
       "      <td>0.661774</td>\n",
       "    </tr>\n",
       "    <tr>\n",
       "      <th>SRP042161</th>\n",
       "      <th>SRR1295005</th>\n",
       "      <td>Glioblastoma</td>\n",
       "      <td>NaN</td>\n",
       "      <td>NaN</td>\n",
       "      <td>NaN</td>\n",
       "      <td>NaN</td>\n",
       "      <td>0.637928</td>\n",
       "    </tr>\n",
       "    <tr>\n",
       "      <th>SRP027530</th>\n",
       "      <th>SRR935670</th>\n",
       "      <td>NaN</td>\n",
       "      <td>Thyroid cancer</td>\n",
       "      <td>NaN</td>\n",
       "      <td>NaN</td>\n",
       "      <td>NaN</td>\n",
       "      <td>0.600341</td>\n",
       "    </tr>\n",
       "    <tr>\n",
       "      <th rowspan=\"2\" valign=\"top\">SRP052056</th>\n",
       "      <th>SRR1754117</th>\n",
       "      <td>NaN</td>\n",
       "      <td>thyroid</td>\n",
       "      <td>NaN</td>\n",
       "      <td>NaN</td>\n",
       "      <td>NaN</td>\n",
       "      <td>0.597595</td>\n",
       "    </tr>\n",
       "    <tr>\n",
       "      <th>SRR1754124</th>\n",
       "      <td>NaN</td>\n",
       "      <td>thyroid</td>\n",
       "      <td>NaN</td>\n",
       "      <td>NaN</td>\n",
       "      <td>NaN</td>\n",
       "      <td>0.569296</td>\n",
       "    </tr>\n",
       "    <tr>\n",
       "      <th>SRP014428</th>\n",
       "      <th>SRR522079</th>\n",
       "      <td>leukocyte from blood of healthy individual</td>\n",
       "      <td>NaN</td>\n",
       "      <td>NaN</td>\n",
       "      <td>NaN</td>\n",
       "      <td>NaN</td>\n",
       "      <td>0.465726</td>\n",
       "    </tr>\n",
       "  </tbody>\n",
       "</table>\n",
       "</div>"
      ],
      "text/plain": [
       "                                                       cell type  \\\n",
       "project   run                                                      \n",
       "SRP027530 SRR935667                                          NaN   \n",
       "SRP048222 SRR1799839                                      normal   \n",
       "SRP027530 SRR935662                                          NaN   \n",
       "SRP052056 SRR1754123                                         NaN   \n",
       "SRP048222 SRR1799840                                       tumor   \n",
       "SRP052056 SRR1754120                                         NaN   \n",
       "SRP027364 SRR934365                                          NaN   \n",
       "          SRR934370                                          NaN   \n",
       "SRP027530 SRR935672                                          NaN   \n",
       "          SRR935668                                          NaN   \n",
       "          SRR935663                                          NaN   \n",
       "SRP042161 SRR1294642                                Glioblastoma   \n",
       "          SRR1295338                      Gliomasphere Cell Line   \n",
       "SRP027530 SRR935675                                          NaN   \n",
       "          SRR935679                                          NaN   \n",
       "SRP052056 SRR1754118                                         NaN   \n",
       "SRP027530 SRR935677                                          NaN   \n",
       "          SRR935680                                          NaN   \n",
       "          SRR935674                                          NaN   \n",
       "SRP050087 SRR1658413                                         NaN   \n",
       "SRP042161 SRR1295005                                Glioblastoma   \n",
       "SRP027530 SRR935670                                          NaN   \n",
       "SRP052056 SRR1754117                                         NaN   \n",
       "          SRR1754124                                         NaN   \n",
       "SRP014428 SRR522079   leukocyte from blood of healthy individual   \n",
       "\n",
       "                              tissue cell subtype tissue subtype tissue type  \\\n",
       "project   run                                                                  \n",
       "SRP027530 SRR935667   Thyroid cancer          NaN            NaN         NaN   \n",
       "SRP048222 SRR1799839             NaN          NaN            NaN         NaN   \n",
       "SRP027530 SRR935662   Thyroid cancer          NaN            NaN         NaN   \n",
       "SRP052056 SRR1754123         thyroid          NaN            NaN         NaN   \n",
       "SRP048222 SRR1799840             NaN          NaN            NaN         NaN   \n",
       "SRP052056 SRR1754120         thyroid          NaN            NaN         NaN   \n",
       "SRP027364 SRR934365          thyroid          NaN            NaN         NaN   \n",
       "          SRR934370          thyroid          NaN            NaN         NaN   \n",
       "SRP027530 SRR935672   Thyroid cancer          NaN            NaN         NaN   \n",
       "          SRR935668   Thyroid cancer          NaN            NaN         NaN   \n",
       "          SRR935663   Thyroid cancer          NaN            NaN         NaN   \n",
       "SRP042161 SRR1294642             NaN          NaN            NaN         NaN   \n",
       "          SRR1295338             NaN          NaN            NaN         NaN   \n",
       "SRP027530 SRR935675   Thyroid cancer          NaN            NaN         NaN   \n",
       "          SRR935679   Thyroid cancer          NaN            NaN         NaN   \n",
       "SRP052056 SRR1754118         thyroid          NaN            NaN         NaN   \n",
       "SRP027530 SRR935677   Thyroid cancer          NaN            NaN         NaN   \n",
       "          SRR935680   Thyroid cancer          NaN            NaN         NaN   \n",
       "          SRR935674   Thyroid cancer          NaN            NaN         NaN   \n",
       "SRP050087 SRR1658413   Thyroid tumor          NaN            NaN         NaN   \n",
       "SRP042161 SRR1295005             NaN          NaN            NaN         NaN   \n",
       "SRP027530 SRR935670   Thyroid cancer          NaN            NaN         NaN   \n",
       "SRP052056 SRR1754117         thyroid          NaN            NaN         NaN   \n",
       "          SRR1754124         thyroid          NaN            NaN         NaN   \n",
       "SRP014428 SRR522079              NaN          NaN            NaN         NaN   \n",
       "\n",
       "                         LV155  \n",
       "project   run                   \n",
       "SRP027530 SRR935667   0.937821  \n",
       "SRP048222 SRR1799839  0.931947  \n",
       "SRP027530 SRR935662   0.920383  \n",
       "SRP052056 SRR1754123  0.920071  \n",
       "SRP048222 SRR1799840  0.916409  \n",
       "SRP052056 SRR1754120  0.886543  \n",
       "SRP027364 SRR934365   0.827064  \n",
       "          SRR934370   0.826922  \n",
       "SRP027530 SRR935672   0.825000  \n",
       "          SRR935668   0.800400  \n",
       "          SRR935663   0.783162  \n",
       "SRP042161 SRR1294642  0.781590  \n",
       "          SRR1295338  0.760819  \n",
       "SRP027530 SRR935675   0.750714  \n",
       "          SRR935679   0.744096  \n",
       "SRP052056 SRR1754118  0.742373  \n",
       "SRP027530 SRR935677   0.734465  \n",
       "          SRR935680   0.713796  \n",
       "          SRR935674   0.692031  \n",
       "SRP050087 SRR1658413  0.661774  \n",
       "SRP042161 SRR1295005  0.637928  \n",
       "SRP027530 SRR935670   0.600341  \n",
       "SRP052056 SRR1754117  0.597595  \n",
       "          SRR1754124  0.569296  \n",
       "SRP014428 SRR522079   0.465726  "
      ]
     },
     "execution_count": 25,
     "metadata": {},
     "output_type": "execute_result"
    }
   ],
   "source": [
    "_tmp_seq[2]"
   ]
  },
  {
   "cell_type": "code",
   "execution_count": 26,
   "id": "social-couple",
   "metadata": {},
   "outputs": [
    {
     "data": {
      "text/html": [
       "<div>\n",
       "<style scoped>\n",
       "    .dataframe tbody tr th:only-of-type {\n",
       "        vertical-align: middle;\n",
       "    }\n",
       "\n",
       "    .dataframe tbody tr th {\n",
       "        vertical-align: top;\n",
       "    }\n",
       "\n",
       "    .dataframe thead th {\n",
       "        text-align: right;\n",
       "    }\n",
       "</style>\n",
       "<table border=\"1\" class=\"dataframe\">\n",
       "  <thead>\n",
       "    <tr style=\"text-align: right;\">\n",
       "      <th></th>\n",
       "      <th></th>\n",
       "      <th>patient</th>\n",
       "      <th>cell type</th>\n",
       "      <th>LV155</th>\n",
       "    </tr>\n",
       "    <tr>\n",
       "      <th>project</th>\n",
       "      <th>run</th>\n",
       "      <th></th>\n",
       "      <th></th>\n",
       "      <th></th>\n",
       "    </tr>\n",
       "  </thead>\n",
       "  <tbody>\n",
       "    <tr>\n",
       "      <th rowspan=\"8\" valign=\"top\">SRP048222</th>\n",
       "      <th>SRR1799841</th>\n",
       "      <td>follicular thyroid carcinoma</td>\n",
       "      <td>normal</td>\n",
       "      <td>1.443383</td>\n",
       "    </tr>\n",
       "    <tr>\n",
       "      <th>SRR1799843</th>\n",
       "      <td>follicular thyroid carcinoma</td>\n",
       "      <td>tumor</td>\n",
       "      <td>1.406506</td>\n",
       "    </tr>\n",
       "    <tr>\n",
       "      <th>SRR1799842</th>\n",
       "      <td>follicular thyroid carcinoma</td>\n",
       "      <td>normal</td>\n",
       "      <td>1.395537</td>\n",
       "    </tr>\n",
       "    <tr>\n",
       "      <th>SRR1799844</th>\n",
       "      <td>follicular thyroid carcinoma</td>\n",
       "      <td>tumor</td>\n",
       "      <td>1.354286</td>\n",
       "    </tr>\n",
       "    <tr>\n",
       "      <th>SRR1799837</th>\n",
       "      <td>follicular thyroid carcinoma</td>\n",
       "      <td>normal</td>\n",
       "      <td>0.988043</td>\n",
       "    </tr>\n",
       "    <tr>\n",
       "      <th>SRR1799838</th>\n",
       "      <td>follicular thyroid carcinoma</td>\n",
       "      <td>tumor</td>\n",
       "      <td>0.957672</td>\n",
       "    </tr>\n",
       "    <tr>\n",
       "      <th>SRR1799839</th>\n",
       "      <td>follicular thyroid carcinoma</td>\n",
       "      <td>normal</td>\n",
       "      <td>0.931947</td>\n",
       "    </tr>\n",
       "    <tr>\n",
       "      <th>SRR1799840</th>\n",
       "      <td>follicular thyroid carcinoma</td>\n",
       "      <td>tumor</td>\n",
       "      <td>0.916409</td>\n",
       "    </tr>\n",
       "  </tbody>\n",
       "</table>\n",
       "</div>"
      ],
      "text/plain": [
       "                                           patient cell type     LV155\n",
       "project   run                                                         \n",
       "SRP048222 SRR1799841  follicular thyroid carcinoma    normal  1.443383\n",
       "          SRR1799843  follicular thyroid carcinoma     tumor  1.406506\n",
       "          SRR1799842  follicular thyroid carcinoma    normal  1.395537\n",
       "          SRR1799844  follicular thyroid carcinoma     tumor  1.354286\n",
       "          SRR1799837  follicular thyroid carcinoma    normal  0.988043\n",
       "          SRR1799838  follicular thyroid carcinoma     tumor  0.957672\n",
       "          SRR1799839  follicular thyroid carcinoma    normal  0.931947\n",
       "          SRR1799840  follicular thyroid carcinoma     tumor  0.916409"
      ]
     },
     "execution_count": 26,
     "metadata": {},
     "output_type": "execute_result"
    }
   ],
   "source": [
    "# what is there in these projects?\n",
    "lv_data.loc[[\"SRP048222\"]].dropna(how=\"all\", axis=1).sort_values(\n",
    "    LV_NAME, ascending=False\n",
    ").sort_values(LV_NAME, ascending=False).head(10)"
   ]
  },
  {
   "cell_type": "code",
   "execution_count": 27,
   "id": "environmental-pearl",
   "metadata": {},
   "outputs": [],
   "source": [
    "SELECTED_ATTRIBUTE = \"tissue\""
   ]
  },
  {
   "cell_type": "code",
   "execution_count": 28,
   "id": "exact-sample",
   "metadata": {},
   "outputs": [],
   "source": [
    "# it has to be in the order desired for filling nans in the SELECTED_ATTRIBUTE\n",
    "SECOND_ATTRIBUTES = [\"cell type\"]"
   ]
  },
  {
   "cell_type": "markdown",
   "id": "designed-alias",
   "metadata": {},
   "source": [
    "## Get plot data"
   ]
  },
  {
   "cell_type": "code",
   "execution_count": 29,
   "id": "concrete-onion",
   "metadata": {},
   "outputs": [],
   "source": [
    "plot_data = lv_data.loc[:, [SELECTED_ATTRIBUTE] + SECOND_ATTRIBUTES + [LV_NAME]]"
   ]
  },
  {
   "cell_type": "code",
   "execution_count": 30,
   "id": "engaged-collect",
   "metadata": {},
   "outputs": [],
   "source": [
    "# if blank/nan, fill cell type column with tissue content\n",
    "_new_column = plot_data[[SELECTED_ATTRIBUTE] + SECOND_ATTRIBUTES].fillna(\n",
    "    method=\"backfill\", axis=1\n",
    ")[SELECTED_ATTRIBUTE]\n",
    "plot_data[SELECTED_ATTRIBUTE] = _new_column\n",
    "plot_data = plot_data.drop(columns=SECOND_ATTRIBUTES)\n",
    "plot_data = plot_data.fillna({SELECTED_ATTRIBUTE: \"NOT CATEGORIZED\"})\n",
    "# plot_data = plot_data.dropna(subset=[SELECTED_ATTRIBUTE])"
   ]
  },
  {
   "cell_type": "code",
   "execution_count": 31,
   "id": "terminal-recipient",
   "metadata": {},
   "outputs": [],
   "source": [
    "plot_data = plot_data.sort_values(LV_NAME, ascending=False)"
   ]
  },
  {
   "cell_type": "code",
   "execution_count": 32,
   "id": "australian-integral",
   "metadata": {},
   "outputs": [
    {
     "data": {
      "text/html": [
       "<div>\n",
       "<style scoped>\n",
       "    .dataframe tbody tr th:only-of-type {\n",
       "        vertical-align: middle;\n",
       "    }\n",
       "\n",
       "    .dataframe tbody tr th {\n",
       "        vertical-align: top;\n",
       "    }\n",
       "\n",
       "    .dataframe thead th {\n",
       "        text-align: right;\n",
       "    }\n",
       "</style>\n",
       "<table border=\"1\" class=\"dataframe\">\n",
       "  <thead>\n",
       "    <tr style=\"text-align: right;\">\n",
       "      <th></th>\n",
       "      <th></th>\n",
       "      <th>tissue</th>\n",
       "      <th>LV155</th>\n",
       "    </tr>\n",
       "    <tr>\n",
       "      <th>project</th>\n",
       "      <th>run</th>\n",
       "      <th></th>\n",
       "      <th></th>\n",
       "    </tr>\n",
       "  </thead>\n",
       "  <tbody>\n",
       "    <tr>\n",
       "      <th>SRP027364</th>\n",
       "      <th>SRR934369</th>\n",
       "      <td>thyroid</td>\n",
       "      <td>3.359463</td>\n",
       "    </tr>\n",
       "    <tr>\n",
       "      <th>SRP052056</th>\n",
       "      <th>SRR1754130</th>\n",
       "      <td>thyroid</td>\n",
       "      <td>3.171966</td>\n",
       "    </tr>\n",
       "    <tr>\n",
       "      <th rowspan=\"3\" valign=\"top\">SRP027364</th>\n",
       "      <th>SRR934361</th>\n",
       "      <td>thyroid</td>\n",
       "      <td>2.799012</td>\n",
       "    </tr>\n",
       "    <tr>\n",
       "      <th>SRR934360</th>\n",
       "      <td>thyroid</td>\n",
       "      <td>2.574352</td>\n",
       "    </tr>\n",
       "    <tr>\n",
       "      <th>SRR934363</th>\n",
       "      <td>thyroid</td>\n",
       "      <td>2.472909</td>\n",
       "    </tr>\n",
       "    <tr>\n",
       "      <th>SRP052056</th>\n",
       "      <th>SRR1754137</th>\n",
       "      <td>thyroid</td>\n",
       "      <td>2.413360</td>\n",
       "    </tr>\n",
       "    <tr>\n",
       "      <th>SRP027530</th>\n",
       "      <th>SRR935676</th>\n",
       "      <td>Thyroid cancer</td>\n",
       "      <td>2.209648</td>\n",
       "    </tr>\n",
       "    <tr>\n",
       "      <th rowspan=\"3\" valign=\"top\">SRP052056</th>\n",
       "      <th>SRR1754133</th>\n",
       "      <td>thyroid</td>\n",
       "      <td>2.078247</td>\n",
       "    </tr>\n",
       "    <tr>\n",
       "      <th>SRR1754135</th>\n",
       "      <td>thyroid</td>\n",
       "      <td>2.039672</td>\n",
       "    </tr>\n",
       "    <tr>\n",
       "      <th>SRR1754131</th>\n",
       "      <td>thyroid</td>\n",
       "      <td>1.931846</td>\n",
       "    </tr>\n",
       "    <tr>\n",
       "      <th>SRP027364</th>\n",
       "      <th>SRR934362</th>\n",
       "      <td>thyroid</td>\n",
       "      <td>1.906772</td>\n",
       "    </tr>\n",
       "    <tr>\n",
       "      <th>SRP052056</th>\n",
       "      <th>SRR1754134</th>\n",
       "      <td>thyroid</td>\n",
       "      <td>1.893236</td>\n",
       "    </tr>\n",
       "    <tr>\n",
       "      <th rowspan=\"2\" valign=\"top\">SRP050087</th>\n",
       "      <th>SRR1658422</th>\n",
       "      <td>Normal Thyroid</td>\n",
       "      <td>1.802816</td>\n",
       "    </tr>\n",
       "    <tr>\n",
       "      <th>SRR1658411</th>\n",
       "      <td>Thyroid tumor</td>\n",
       "      <td>1.796624</td>\n",
       "    </tr>\n",
       "    <tr>\n",
       "      <th>SRP027530</th>\n",
       "      <th>SRR935665</th>\n",
       "      <td>Thyroid cancer</td>\n",
       "      <td>1.775435</td>\n",
       "    </tr>\n",
       "    <tr>\n",
       "      <th rowspan=\"2\" valign=\"top\">SRP050087</th>\n",
       "      <th>SRR1658417</th>\n",
       "      <td>Normal Thyroid</td>\n",
       "      <td>1.762835</td>\n",
       "    </tr>\n",
       "    <tr>\n",
       "      <th>SRR1658424</th>\n",
       "      <td>Normal Thyroid</td>\n",
       "      <td>1.750950</td>\n",
       "    </tr>\n",
       "    <tr>\n",
       "      <th rowspan=\"2\" valign=\"top\">SRP027364</th>\n",
       "      <th>SRR934368</th>\n",
       "      <td>thyroid</td>\n",
       "      <td>1.723000</td>\n",
       "    </tr>\n",
       "    <tr>\n",
       "      <th>SRR934367</th>\n",
       "      <td>thyroid</td>\n",
       "      <td>1.716891</td>\n",
       "    </tr>\n",
       "    <tr>\n",
       "      <th>SRP052056</th>\n",
       "      <th>SRR1754136</th>\n",
       "      <td>thyroid</td>\n",
       "      <td>1.673208</td>\n",
       "    </tr>\n",
       "  </tbody>\n",
       "</table>\n",
       "</div>"
      ],
      "text/plain": [
       "                              tissue     LV155\n",
       "project   run                                 \n",
       "SRP027364 SRR934369          thyroid  3.359463\n",
       "SRP052056 SRR1754130         thyroid  3.171966\n",
       "SRP027364 SRR934361          thyroid  2.799012\n",
       "          SRR934360          thyroid  2.574352\n",
       "          SRR934363          thyroid  2.472909\n",
       "SRP052056 SRR1754137         thyroid  2.413360\n",
       "SRP027530 SRR935676   Thyroid cancer  2.209648\n",
       "SRP052056 SRR1754133         thyroid  2.078247\n",
       "          SRR1754135         thyroid  2.039672\n",
       "          SRR1754131         thyroid  1.931846\n",
       "SRP027364 SRR934362          thyroid  1.906772\n",
       "SRP052056 SRR1754134         thyroid  1.893236\n",
       "SRP050087 SRR1658422  Normal Thyroid  1.802816\n",
       "          SRR1658411   Thyroid tumor  1.796624\n",
       "SRP027530 SRR935665   Thyroid cancer  1.775435\n",
       "SRP050087 SRR1658417  Normal Thyroid  1.762835\n",
       "          SRR1658424  Normal Thyroid  1.750950\n",
       "SRP027364 SRR934368          thyroid  1.723000\n",
       "          SRR934367          thyroid  1.716891\n",
       "SRP052056 SRR1754136         thyroid  1.673208"
      ]
     },
     "execution_count": 32,
     "metadata": {},
     "output_type": "execute_result"
    }
   ],
   "source": [
    "plot_data.head(20)"
   ]
  },
  {
   "cell_type": "markdown",
   "id": "departmental-deposit",
   "metadata": {},
   "source": [
    "## Customize x-axis values"
   ]
  },
  {
   "cell_type": "markdown",
   "id": "exotic-transparency",
   "metadata": {},
   "source": [
    "When cell type values are not very clear, customize their names by looking at their specific studies to know exactly what the authors meant."
   ]
  },
  {
   "cell_type": "code",
   "execution_count": 33,
   "id": "thorough-survivor",
   "metadata": {},
   "outputs": [],
   "source": [
    "final_plot_data = plot_data.replace(\n",
    "    {\n",
    "        SELECTED_ATTRIBUTE: {\n",
    "            \"mixture of U87 human glioma cells and WI-38 human lung fibroblast cells\": \"Glioma cells + lung fibroblast cells\",\n",
    "            \"mixture of U87 human glioma cells and MCF10a human breast cancer cells\": \"Glioma cells + breast cancer cells\",\n",
    "        }\n",
    "    }\n",
    ")\n",
    "\n",
    "# plot_data = plot_data[plot_data[SELECTED_ATTRIBUTE] != \"no cell\"]"
   ]
  },
  {
   "cell_type": "code",
   "execution_count": 34,
   "id": "material-religion",
   "metadata": {},
   "outputs": [
    {
     "name": "stderr",
     "output_type": "stream",
     "text": [
      "<ipython-input-34-ee0d85001ba1>:3: PerformanceWarning: indexing past lexsort depth may impact performance.\n",
      "  _tmp = final_plot_data.loc[(_srp_code,)].apply(\n"
     ]
    }
   ],
   "source": [
    "# add also tissue information to these projects\n",
    "_srp_code = \"SRP048222\"\n",
    "_tmp = final_plot_data.loc[(_srp_code,)].apply(\n",
    "    lambda x: lv_data.loc[(_srp_code, x.name), \"patient\"]\n",
    "    + f\" ({lv_data.loc[(_srp_code, x.name), 'cell type']})\",\n",
    "    axis=1,\n",
    ")\n",
    "final_plot_data.loc[(_srp_code, _tmp.index), SELECTED_ATTRIBUTE] = _tmp.values"
   ]
  },
  {
   "cell_type": "code",
   "execution_count": 35,
   "id": "introductory-insider",
   "metadata": {},
   "outputs": [],
   "source": [
    "# take the top samples only\n",
    "final_plot_data = final_plot_data.sort_values(LV_NAME, ascending=False)[:N_TOP_SAMPLES]"
   ]
  },
  {
   "cell_type": "markdown",
   "id": "elegant-cambodia",
   "metadata": {},
   "source": [
    "## Threshold LV values"
   ]
  },
  {
   "cell_type": "code",
   "execution_count": 36,
   "id": "furnished-durham",
   "metadata": {},
   "outputs": [],
   "source": [
    "final_plot_data.loc[\n",
    "    final_plot_data[LV_NAME] > LV_AXIS_THRESHOLD, LV_NAME\n",
    "] = LV_AXIS_THRESHOLD"
   ]
  },
  {
   "cell_type": "markdown",
   "id": "determined-denial",
   "metadata": {},
   "source": [
    "## Delete samples with no tissue/cell type information"
   ]
  },
  {
   "cell_type": "code",
   "execution_count": 37,
   "id": "smart-indiana",
   "metadata": {},
   "outputs": [],
   "source": [
    "final_plot_data = final_plot_data[\n",
    "    final_plot_data[SELECTED_ATTRIBUTE] != \"NOT CATEGORIZED\"\n",
    "]"
   ]
  },
  {
   "cell_type": "markdown",
   "id": "iraqi-chocolate",
   "metadata": {},
   "source": [
    "## Set x-axis order"
   ]
  },
  {
   "cell_type": "code",
   "execution_count": 38,
   "id": "tired-composer",
   "metadata": {},
   "outputs": [],
   "source": [
    "attr_order = (\n",
    "    final_plot_data.groupby(SELECTED_ATTRIBUTE)\n",
    "    .max()\n",
    "    .sort_values(LV_NAME, ascending=False)\n",
    "    .index[:N_TOP_ATTRS]\n",
    "    .tolist()\n",
    ")"
   ]
  },
  {
   "cell_type": "code",
   "execution_count": 39,
   "id": "complex-architect",
   "metadata": {},
   "outputs": [
    {
     "data": {
      "text/plain": [
       "25"
      ]
     },
     "execution_count": 39,
     "metadata": {},
     "output_type": "execute_result"
    }
   ],
   "source": [
    "len(attr_order)"
   ]
  },
  {
   "cell_type": "code",
   "execution_count": 40,
   "id": "laughing-advisory",
   "metadata": {},
   "outputs": [
    {
     "data": {
      "text/plain": [
       "['thyroid',\n",
       " 'Thyroid cancer',\n",
       " 'Normal Thyroid',\n",
       " 'Thyroid tumor',\n",
       " 'follicular thyroid carcinoma (normal)']"
      ]
     },
     "execution_count": 40,
     "metadata": {},
     "output_type": "execute_result"
    }
   ],
   "source": [
    "attr_order[:5]"
   ]
  },
  {
   "cell_type": "markdown",
   "id": "other-bishop",
   "metadata": {},
   "source": [
    "## Plot"
   ]
  },
  {
   "cell_type": "code",
   "execution_count": 41,
   "id": "plain-program",
   "metadata": {},
   "outputs": [
    {
     "data": {
      "image/png": "[encoded data removed]",
      "text/plain": [
       "<Figure size 1080x360 with 1 Axes>"
      ]
     },
     "metadata": {},
     "output_type": "display_data"
    }
   ],
   "source": [
    "with sns.plotting_context(\"paper\", font_scale=1.5), sns.axes_style(\"whitegrid\"):\n",
    "    sns.catplot(\n",
    "        data=final_plot_data,\n",
    "        y=LV_NAME,\n",
    "        x=SELECTED_ATTRIBUTE,\n",
    "        order=attr_order,\n",
    "        kind=\"strip\",\n",
    "        height=5,\n",
    "        aspect=3,\n",
    "    )\n",
    "    plt.xticks(rotation=45, horizontalalignment=\"right\")\n",
    "\n",
    "    plt.savefig(\n",
    "        OUTPUT_CELL_TYPE_FILEPATH,\n",
    "        bbox_inches=\"tight\",\n",
    "        facecolor=\"white\",\n",
    "    )"
   ]
  },
  {
   "cell_type": "markdown",
   "id": "rocky-thickness",
   "metadata": {},
   "source": [
    "# Debug"
   ]
  },
  {
   "cell_type": "code",
   "execution_count": 42,
   "id": "textile-drama",
   "metadata": {},
   "outputs": [],
   "source": [
    "# with pd.option_context(\n",
    "#     \"display.max_rows\", None, \"display.max_columns\", None, \"display.max_colwidth\", None\n",
    "# ):\n",
    "#     _tmp = final_plot_data[final_plot_data[SELECTED_ATTRIBUTE].str.contains(\"NOT CAT\")]\n",
    "#     display(_tmp.head(20))"
   ]
  },
  {
   "cell_type": "code",
   "execution_count": 43,
   "id": "imposed-commodity",
   "metadata": {},
   "outputs": [],
   "source": [
    "# # what is there in these projects?\n",
    "# lv_data.loc[[\"SRP050499\"]].dropna(how=\"all\", axis=1).sort_values(\n",
    "#     LV_NAME, ascending=False\n",
    "# ).head(60)"
   ]
  },
  {
   "cell_type": "code",
   "execution_count": null,
   "id": "efficient-mongolia",
   "metadata": {},
   "outputs": [],
   "source": []
  }
 ],
 "metadata": {
  "jupytext": {
   "cell_metadata_filter": "all,-execution,-papermill,-trusted",
   "formats": "ipynb,py//py:percent"
  },
  "kernelspec": {
   "display_name": "Python 3",
   "language": "python",
   "name": "python3"
  },
  "language_info": {
   "codemirror_mode": {
    "name": "ipython",
    "version": 3
   },
   "file_extension": ".py",
   "mimetype": "text/x-python",
   "name": "python",
   "nbconvert_exporter": "python",
   "pygments_lexer": "ipython3",
   "version": "3.8.8"
  }
 },
 "nbformat": 4,
 "nbformat_minor": 5
}
