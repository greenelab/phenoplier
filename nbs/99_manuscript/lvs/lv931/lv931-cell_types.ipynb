{
 "cells": [
  {
   "cell_type": "markdown",
   "id": "extreme-involvement",
   "metadata": {
    "papermill": {
     "duration": 0.006593,
     "end_time": "2021-05-11T19:09:55.733221",
     "exception": false,
     "start_time": "2021-05-11T19:09:55.726628",
     "status": "completed"
    },
    "tags": []
   },
   "source": [
    "# Description"
   ]
  },
  {
   "cell_type": "markdown",
   "id": "molecular-reservoir",
   "metadata": {
    "papermill": {
     "duration": 0.00668,
     "end_time": "2021-05-11T19:09:55.745410",
     "exception": false,
     "start_time": "2021-05-11T19:09:55.738730",
     "status": "completed"
    },
    "tags": []
   },
   "source": [
    "Generates the figure for top cell types for a specified LV (in Settings section below)."
   ]
  },
  {
   "cell_type": "markdown",
   "id": "stunning-surfing",
   "metadata": {
    "papermill": {
     "duration": 0.006223,
     "end_time": "2021-05-11T19:09:55.756959",
     "exception": false,
     "start_time": "2021-05-11T19:09:55.750736",
     "status": "completed"
    },
    "tags": []
   },
   "source": [
    "# Modules loading"
   ]
  },
  {
   "cell_type": "code",
   "execution_count": 1,
   "id": "unique-stone",
   "metadata": {
    "papermill": {
     "duration": 0.01906,
     "end_time": "2021-05-11T19:09:55.781515",
     "exception": false,
     "start_time": "2021-05-11T19:09:55.762455",
     "status": "completed"
    },
    "tags": []
   },
   "outputs": [],
   "source": [
    "%load_ext autoreload\n",
    "%autoreload 2"
   ]
  },
  {
   "cell_type": "code",
   "execution_count": 2,
   "id": "broken-income",
   "metadata": {
    "papermill": {
     "duration": 0.993432,
     "end_time": "2021-05-11T19:09:56.780403",
     "exception": false,
     "start_time": "2021-05-11T19:09:55.786971",
     "status": "completed"
    },
    "tags": []
   },
   "outputs": [],
   "source": [
    "import re\n",
    "from pathlib import Path\n",
    "\n",
    "import pandas as pd\n",
    "import matplotlib.pyplot as plt\n",
    "import seaborn as sns\n",
    "\n",
    "from data.recount2 import LVAnalysis\n",
    "from utils import chunker\n",
    "import conf"
   ]
  },
  {
   "cell_type": "markdown",
   "id": "joined-triangle",
   "metadata": {
    "papermill": {
     "duration": 0.005973,
     "end_time": "2021-05-11T19:09:56.792495",
     "exception": false,
     "start_time": "2021-05-11T19:09:56.786522",
     "status": "completed"
    },
    "tags": []
   },
   "source": [
    "# Settings"
   ]
  },
  {
   "cell_type": "code",
   "execution_count": 3,
   "id": "changed-vegetable",
   "metadata": {
    "papermill": {
     "duration": 0.019548,
     "end_time": "2021-05-11T19:09:56.817689",
     "exception": false,
     "start_time": "2021-05-11T19:09:56.798141",
     "status": "completed"
    },
    "tags": [
     "parameters"
    ]
   },
   "outputs": [],
   "source": [
    "LV_NAME = \"LV931\""
   ]
  },
  {
   "cell_type": "code",
   "execution_count": 4,
   "id": "tropical-harris",
   "metadata": {},
   "outputs": [],
   "source": [
    "LV_AXIS_THRESHOLD = 3.0\n",
    "N_TOP_SAMPLES = 400\n",
    "N_TOP_ATTRS = 25"
   ]
  },
  {
   "cell_type": "code",
   "execution_count": 5,
   "id": "environmental-session",
   "metadata": {},
   "outputs": [
    {
     "data": {
      "text/plain": [
       "PosixPath('/home/miltondp/projects/labs/greenelab/phenoplier_manuscript/content/images/lvs_analysis/lv931')"
      ]
     },
     "metadata": {},
     "output_type": "display_data"
    }
   ],
   "source": [
    "OUTPUT_FIGURES_DIR = Path(\n",
    "    conf.MANUSCRIPT[\"FIGURES_DIR\"], \"lvs_analysis\", f\"{LV_NAME.lower()}\"\n",
    ").resolve()\n",
    "display(OUTPUT_FIGURES_DIR)\n",
    "OUTPUT_FIGURES_DIR.mkdir(parents=True, exist_ok=True)"
   ]
  },
  {
   "cell_type": "code",
   "execution_count": 6,
   "id": "applied-collector",
   "metadata": {},
   "outputs": [
    {
     "data": {
      "text/plain": [
       "PosixPath('/home/miltondp/projects/labs/greenelab/phenoplier_manuscript/content/images/lvs_analysis/lv931/lv931-cell_types.svg')"
      ]
     },
     "metadata": {},
     "output_type": "display_data"
    }
   ],
   "source": [
    "OUTPUT_CELL_TYPE_FILEPATH = OUTPUT_FIGURES_DIR / f\"{LV_NAME.lower()}-cell_types.svg\"\n",
    "display(OUTPUT_CELL_TYPE_FILEPATH)"
   ]
  },
  {
   "cell_type": "markdown",
   "id": "lined-healing",
   "metadata": {
    "papermill": {
     "duration": 0.005592,
     "end_time": "2021-05-11T19:09:56.854406",
     "exception": false,
     "start_time": "2021-05-11T19:09:56.848814",
     "status": "completed"
    },
    "tags": []
   },
   "source": [
    "# Load MultiPLIER summary"
   ]
  },
  {
   "cell_type": "code",
   "execution_count": 7,
   "id": "reasonable-printer",
   "metadata": {
    "papermill": {
     "duration": 0.020251,
     "end_time": "2021-05-11T19:09:56.880435",
     "exception": false,
     "start_time": "2021-05-11T19:09:56.860184",
     "status": "completed"
    },
    "tags": []
   },
   "outputs": [],
   "source": [
    "multiplier_model_summary = pd.read_pickle(conf.MULTIPLIER[\"MODEL_SUMMARY_FILE\"])"
   ]
  },
  {
   "cell_type": "code",
   "execution_count": 8,
   "id": "useful-pearl",
   "metadata": {
    "papermill": {
     "duration": 0.02062,
     "end_time": "2021-05-11T19:09:56.906744",
     "exception": false,
     "start_time": "2021-05-11T19:09:56.886124",
     "status": "completed"
    },
    "tags": []
   },
   "outputs": [
    {
     "data": {
      "text/plain": [
       "(2157, 5)"
      ]
     },
     "execution_count": 8,
     "metadata": {},
     "output_type": "execute_result"
    }
   ],
   "source": [
    "multiplier_model_summary.shape"
   ]
  },
  {
   "cell_type": "code",
   "execution_count": 9,
   "id": "protective-adaptation",
   "metadata": {
    "papermill": {
     "duration": 0.024737,
     "end_time": "2021-05-11T19:09:56.937493",
     "exception": false,
     "start_time": "2021-05-11T19:09:56.912756",
     "status": "completed"
    },
    "tags": []
   },
   "outputs": [
    {
     "data": {
      "text/html": [
       "<div>\n",
       "<style scoped>\n",
       "    .dataframe tbody tr th:only-of-type {\n",
       "        vertical-align: middle;\n",
       "    }\n",
       "\n",
       "    .dataframe tbody tr th {\n",
       "        vertical-align: top;\n",
       "    }\n",
       "\n",
       "    .dataframe thead th {\n",
       "        text-align: right;\n",
       "    }\n",
       "</style>\n",
       "<table border=\"1\" class=\"dataframe\">\n",
       "  <thead>\n",
       "    <tr style=\"text-align: right;\">\n",
       "      <th></th>\n",
       "      <th>pathway</th>\n",
       "      <th>LV index</th>\n",
       "      <th>AUC</th>\n",
       "      <th>p-value</th>\n",
       "      <th>FDR</th>\n",
       "    </tr>\n",
       "  </thead>\n",
       "  <tbody>\n",
       "    <tr>\n",
       "      <th>1</th>\n",
       "      <td>KEGG_LYSINE_DEGRADATION</td>\n",
       "      <td>1</td>\n",
       "      <td>0.388059</td>\n",
       "      <td>0.866078</td>\n",
       "      <td>0.956005</td>\n",
       "    </tr>\n",
       "    <tr>\n",
       "      <th>2</th>\n",
       "      <td>REACTOME_MRNA_SPLICING</td>\n",
       "      <td>1</td>\n",
       "      <td>0.733057</td>\n",
       "      <td>0.000048</td>\n",
       "      <td>0.000582</td>\n",
       "    </tr>\n",
       "    <tr>\n",
       "      <th>3</th>\n",
       "      <td>MIPS_NOP56P_ASSOCIATED_PRE_RRNA_COMPLEX</td>\n",
       "      <td>1</td>\n",
       "      <td>0.680555</td>\n",
       "      <td>0.001628</td>\n",
       "      <td>0.011366</td>\n",
       "    </tr>\n",
       "    <tr>\n",
       "      <th>4</th>\n",
       "      <td>KEGG_DNA_REPLICATION</td>\n",
       "      <td>1</td>\n",
       "      <td>0.549473</td>\n",
       "      <td>0.312155</td>\n",
       "      <td>0.539951</td>\n",
       "    </tr>\n",
       "    <tr>\n",
       "      <th>5</th>\n",
       "      <td>PID_MYC_ACTIVPATHWAY</td>\n",
       "      <td>1</td>\n",
       "      <td>0.639303</td>\n",
       "      <td>0.021702</td>\n",
       "      <td>0.083739</td>\n",
       "    </tr>\n",
       "  </tbody>\n",
       "</table>\n",
       "</div>"
      ],
      "text/plain": [
       "                                   pathway LV index       AUC   p-value  \\\n",
       "1                  KEGG_LYSINE_DEGRADATION        1  0.388059  0.866078   \n",
       "2                   REACTOME_MRNA_SPLICING        1  0.733057  0.000048   \n",
       "3  MIPS_NOP56P_ASSOCIATED_PRE_RRNA_COMPLEX        1  0.680555  0.001628   \n",
       "4                     KEGG_DNA_REPLICATION        1  0.549473  0.312155   \n",
       "5                     PID_MYC_ACTIVPATHWAY        1  0.639303  0.021702   \n",
       "\n",
       "        FDR  \n",
       "1  0.956005  \n",
       "2  0.000582  \n",
       "3  0.011366  \n",
       "4  0.539951  \n",
       "5  0.083739  "
      ]
     },
     "execution_count": 9,
     "metadata": {},
     "output_type": "execute_result"
    }
   ],
   "source": [
    "multiplier_model_summary.head()"
   ]
  },
  {
   "cell_type": "markdown",
   "id": "reserved-electronics",
   "metadata": {
    "papermill": {
     "duration": 0.006007,
     "end_time": "2021-05-11T19:09:56.949763",
     "exception": false,
     "start_time": "2021-05-11T19:09:56.943756",
     "status": "completed"
    },
    "tags": []
   },
   "source": [
    "# Load data"
   ]
  },
  {
   "cell_type": "markdown",
   "id": "armed-handling",
   "metadata": {
    "papermill": {
     "duration": 0.005873,
     "end_time": "2021-05-11T19:09:56.961602",
     "exception": false,
     "start_time": "2021-05-11T19:09:56.955729",
     "status": "completed"
    },
    "tags": []
   },
   "source": [
    "## Original data"
   ]
  },
  {
   "cell_type": "code",
   "execution_count": 10,
   "id": "equivalent-tractor",
   "metadata": {
    "papermill": {
     "duration": 0.019571,
     "end_time": "2021-05-11T19:09:56.987255",
     "exception": false,
     "start_time": "2021-05-11T19:09:56.967684",
     "status": "completed"
    },
    "tags": []
   },
   "outputs": [],
   "source": [
    "INPUT_SUBSET = \"z_score_std\""
   ]
  },
  {
   "cell_type": "code",
   "execution_count": 11,
   "id": "complete-disaster",
   "metadata": {
    "papermill": {
     "duration": 0.019175,
     "end_time": "2021-05-11T19:09:57.025099",
     "exception": false,
     "start_time": "2021-05-11T19:09:57.005924",
     "status": "completed"
    },
    "tags": []
   },
   "outputs": [],
   "source": [
    "INPUT_STEM = \"projection-smultixcan-efo_partial-mashr-zscores\""
   ]
  },
  {
   "cell_type": "code",
   "execution_count": 12,
   "id": "backed-workplace",
   "metadata": {
    "papermill": {
     "duration": 0.020992,
     "end_time": "2021-05-11T19:09:57.052255",
     "exception": false,
     "start_time": "2021-05-11T19:09:57.031263",
     "status": "completed"
    },
    "tags": []
   },
   "outputs": [
    {
     "data": {
      "text/plain": [
       "PosixPath('/home/miltondp/projects/labs/greenelab/phenoplier/bases_data/base_orig/results/data_transformations/z_score_std/z_score_std-projection-smultixcan-efo_partial-mashr-zscores.pkl')"
      ]
     },
     "metadata": {},
     "output_type": "display_data"
    },
    {
     "data": {
      "text/plain": [
       "'z_score_std-projection-smultixcan-efo_partial-mashr-zscores'"
      ]
     },
     "metadata": {},
     "output_type": "display_data"
    }
   ],
   "source": [
    "input_filepath = Path(\n",
    "    conf.RESULTS[\"DATA_TRANSFORMATIONS_DIR\"],\n",
    "    INPUT_SUBSET,\n",
    "    f\"{INPUT_SUBSET}-{INPUT_STEM}.pkl\",\n",
    ").resolve()\n",
    "display(input_filepath)\n",
    "\n",
    "assert input_filepath.exists(), \"Input file does not exist\"\n",
    "\n",
    "input_filepath_stem = input_filepath.stem\n",
    "display(input_filepath_stem)"
   ]
  },
  {
   "cell_type": "code",
   "execution_count": 13,
   "id": "lesbian-flour",
   "metadata": {
    "papermill": {
     "duration": 0.032337,
     "end_time": "2021-05-11T19:09:57.090585",
     "exception": false,
     "start_time": "2021-05-11T19:09:57.058248",
     "status": "completed"
    },
    "tags": []
   },
   "outputs": [],
   "source": [
    "data = pd.read_pickle(input_filepath)"
   ]
  },
  {
   "cell_type": "code",
   "execution_count": 14,
   "id": "loving-thriller",
   "metadata": {
    "papermill": {
     "duration": 0.01967,
     "end_time": "2021-05-11T19:09:57.116292",
     "exception": false,
     "start_time": "2021-05-11T19:09:57.096622",
     "status": "completed"
    },
    "tags": []
   },
   "outputs": [
    {
     "data": {
      "text/plain": [
       "(3752, 987)"
      ]
     },
     "execution_count": 14,
     "metadata": {},
     "output_type": "execute_result"
    }
   ],
   "source": [
    "data.shape"
   ]
  },
  {
   "cell_type": "code",
   "execution_count": 15,
   "id": "manual-consumption",
   "metadata": {
    "papermill": {
     "duration": 0.031843,
     "end_time": "2021-05-11T19:09:57.154356",
     "exception": false,
     "start_time": "2021-05-11T19:09:57.122513",
     "status": "completed"
    },
    "tags": []
   },
   "outputs": [
    {
     "data": {
      "text/html": [
       "<div>\n",
       "<style scoped>\n",
       "    .dataframe tbody tr th:only-of-type {\n",
       "        vertical-align: middle;\n",
       "    }\n",
       "\n",
       "    .dataframe tbody tr th {\n",
       "        vertical-align: top;\n",
       "    }\n",
       "\n",
       "    .dataframe thead th {\n",
       "        text-align: right;\n",
       "    }\n",
       "</style>\n",
       "<table border=\"1\" class=\"dataframe\">\n",
       "  <thead>\n",
       "    <tr style=\"text-align: right;\">\n",
       "      <th></th>\n",
       "      <th>LV1</th>\n",
       "      <th>LV2</th>\n",
       "      <th>LV3</th>\n",
       "      <th>LV4</th>\n",
       "      <th>LV5</th>\n",
       "      <th>LV6</th>\n",
       "      <th>LV7</th>\n",
       "      <th>LV8</th>\n",
       "      <th>LV9</th>\n",
       "      <th>LV10</th>\n",
       "      <th>...</th>\n",
       "      <th>LV978</th>\n",
       "      <th>LV979</th>\n",
       "      <th>LV980</th>\n",
       "      <th>LV981</th>\n",
       "      <th>LV982</th>\n",
       "      <th>LV983</th>\n",
       "      <th>LV984</th>\n",
       "      <th>LV985</th>\n",
       "      <th>LV986</th>\n",
       "      <th>LV987</th>\n",
       "    </tr>\n",
       "  </thead>\n",
       "  <tbody>\n",
       "    <tr>\n",
       "      <th>100001_raw-Food_weight</th>\n",
       "      <td>-0.695006</td>\n",
       "      <td>1.962565</td>\n",
       "      <td>0.057683</td>\n",
       "      <td>0.878731</td>\n",
       "      <td>-0.539977</td>\n",
       "      <td>1.481272</td>\n",
       "      <td>-0.396422</td>\n",
       "      <td>1.090180</td>\n",
       "      <td>0.759223</td>\n",
       "      <td>0.931395</td>\n",
       "      <td>...</td>\n",
       "      <td>1.129784</td>\n",
       "      <td>1.752343</td>\n",
       "      <td>-1.411403</td>\n",
       "      <td>2.823863</td>\n",
       "      <td>0.931116</td>\n",
       "      <td>-1.054519</td>\n",
       "      <td>0.432982</td>\n",
       "      <td>-0.633597</td>\n",
       "      <td>0.554279</td>\n",
       "      <td>-0.642479</td>\n",
       "    </tr>\n",
       "    <tr>\n",
       "      <th>100002_raw-Energy</th>\n",
       "      <td>-1.528127</td>\n",
       "      <td>-0.345309</td>\n",
       "      <td>-0.148953</td>\n",
       "      <td>-0.242060</td>\n",
       "      <td>0.373427</td>\n",
       "      <td>0.791092</td>\n",
       "      <td>0.263477</td>\n",
       "      <td>0.987702</td>\n",
       "      <td>0.354391</td>\n",
       "      <td>1.416059</td>\n",
       "      <td>...</td>\n",
       "      <td>0.224604</td>\n",
       "      <td>0.769882</td>\n",
       "      <td>-0.509482</td>\n",
       "      <td>0.091153</td>\n",
       "      <td>2.286789</td>\n",
       "      <td>-1.008256</td>\n",
       "      <td>-0.029764</td>\n",
       "      <td>1.737229</td>\n",
       "      <td>-0.272107</td>\n",
       "      <td>-0.526125</td>\n",
       "    </tr>\n",
       "    <tr>\n",
       "      <th>100003_raw-Protein</th>\n",
       "      <td>-0.704572</td>\n",
       "      <td>-1.011299</td>\n",
       "      <td>0.671420</td>\n",
       "      <td>0.143991</td>\n",
       "      <td>0.615212</td>\n",
       "      <td>0.874212</td>\n",
       "      <td>-0.040998</td>\n",
       "      <td>0.915170</td>\n",
       "      <td>0.254369</td>\n",
       "      <td>-0.084237</td>\n",
       "      <td>...</td>\n",
       "      <td>1.003019</td>\n",
       "      <td>1.044314</td>\n",
       "      <td>-2.376108</td>\n",
       "      <td>0.004778</td>\n",
       "      <td>0.053714</td>\n",
       "      <td>-0.892447</td>\n",
       "      <td>-0.183800</td>\n",
       "      <td>1.377991</td>\n",
       "      <td>-0.278794</td>\n",
       "      <td>-0.419733</td>\n",
       "    </tr>\n",
       "    <tr>\n",
       "      <th>100004_raw-Fat</th>\n",
       "      <td>-0.989832</td>\n",
       "      <td>-1.875490</td>\n",
       "      <td>0.261555</td>\n",
       "      <td>-1.420719</td>\n",
       "      <td>0.366238</td>\n",
       "      <td>1.167049</td>\n",
       "      <td>0.257387</td>\n",
       "      <td>0.717674</td>\n",
       "      <td>-0.997664</td>\n",
       "      <td>0.969825</td>\n",
       "      <td>...</td>\n",
       "      <td>0.585913</td>\n",
       "      <td>0.638314</td>\n",
       "      <td>0.119139</td>\n",
       "      <td>-0.140204</td>\n",
       "      <td>1.394326</td>\n",
       "      <td>-1.173402</td>\n",
       "      <td>0.555058</td>\n",
       "      <td>1.013982</td>\n",
       "      <td>-0.544506</td>\n",
       "      <td>-0.064061</td>\n",
       "    </tr>\n",
       "    <tr>\n",
       "      <th>100005_raw-Carbohydrate</th>\n",
       "      <td>-0.580143</td>\n",
       "      <td>0.243335</td>\n",
       "      <td>0.158966</td>\n",
       "      <td>-0.036558</td>\n",
       "      <td>0.068176</td>\n",
       "      <td>-0.202639</td>\n",
       "      <td>1.101281</td>\n",
       "      <td>0.675227</td>\n",
       "      <td>1.463432</td>\n",
       "      <td>1.010078</td>\n",
       "      <td>...</td>\n",
       "      <td>-0.249108</td>\n",
       "      <td>-0.026814</td>\n",
       "      <td>0.232713</td>\n",
       "      <td>0.323682</td>\n",
       "      <td>1.168642</td>\n",
       "      <td>-0.282935</td>\n",
       "      <td>0.653105</td>\n",
       "      <td>1.909526</td>\n",
       "      <td>0.199997</td>\n",
       "      <td>-1.656894</td>\n",
       "    </tr>\n",
       "  </tbody>\n",
       "</table>\n",
       "<p>5 rows × 987 columns</p>\n",
       "</div>"
      ],
      "text/plain": [
       "                              LV1       LV2       LV3       LV4       LV5  \\\n",
       "100001_raw-Food_weight  -0.695006  1.962565  0.057683  0.878731 -0.539977   \n",
       "100002_raw-Energy       -1.528127 -0.345309 -0.148953 -0.242060  0.373427   \n",
       "100003_raw-Protein      -0.704572 -1.011299  0.671420  0.143991  0.615212   \n",
       "100004_raw-Fat          -0.989832 -1.875490  0.261555 -1.420719  0.366238   \n",
       "100005_raw-Carbohydrate -0.580143  0.243335  0.158966 -0.036558  0.068176   \n",
       "\n",
       "                              LV6       LV7       LV8       LV9      LV10  \\\n",
       "100001_raw-Food_weight   1.481272 -0.396422  1.090180  0.759223  0.931395   \n",
       "100002_raw-Energy        0.791092  0.263477  0.987702  0.354391  1.416059   \n",
       "100003_raw-Protein       0.874212 -0.040998  0.915170  0.254369 -0.084237   \n",
       "100004_raw-Fat           1.167049  0.257387  0.717674 -0.997664  0.969825   \n",
       "100005_raw-Carbohydrate -0.202639  1.101281  0.675227  1.463432  1.010078   \n",
       "\n",
       "                         ...     LV978     LV979     LV980     LV981  \\\n",
       "100001_raw-Food_weight   ...  1.129784  1.752343 -1.411403  2.823863   \n",
       "100002_raw-Energy        ...  0.224604  0.769882 -0.509482  0.091153   \n",
       "100003_raw-Protein       ...  1.003019  1.044314 -2.376108  0.004778   \n",
       "100004_raw-Fat           ...  0.585913  0.638314  0.119139 -0.140204   \n",
       "100005_raw-Carbohydrate  ... -0.249108 -0.026814  0.232713  0.323682   \n",
       "\n",
       "                            LV982     LV983     LV984     LV985     LV986  \\\n",
       "100001_raw-Food_weight   0.931116 -1.054519  0.432982 -0.633597  0.554279   \n",
       "100002_raw-Energy        2.286789 -1.008256 -0.029764  1.737229 -0.272107   \n",
       "100003_raw-Protein       0.053714 -0.892447 -0.183800  1.377991 -0.278794   \n",
       "100004_raw-Fat           1.394326 -1.173402  0.555058  1.013982 -0.544506   \n",
       "100005_raw-Carbohydrate  1.168642 -0.282935  0.653105  1.909526  0.199997   \n",
       "\n",
       "                            LV987  \n",
       "100001_raw-Food_weight  -0.642479  \n",
       "100002_raw-Energy       -0.526125  \n",
       "100003_raw-Protein      -0.419733  \n",
       "100004_raw-Fat          -0.064061  \n",
       "100005_raw-Carbohydrate -1.656894  \n",
       "\n",
       "[5 rows x 987 columns]"
      ]
     },
     "execution_count": 15,
     "metadata": {},
     "output_type": "execute_result"
    }
   ],
   "source": [
    "data.head()"
   ]
  },
  {
   "cell_type": "markdown",
   "id": "retired-forward",
   "metadata": {},
   "source": [
    "## LV data"
   ]
  },
  {
   "cell_type": "code",
   "execution_count": 16,
   "id": "positive-collectible",
   "metadata": {},
   "outputs": [],
   "source": [
    "lv_obj = LVAnalysis(LV_NAME, data)"
   ]
  },
  {
   "cell_type": "code",
   "execution_count": 17,
   "id": "impressive-suspension",
   "metadata": {},
   "outputs": [
    {
     "name": "stderr",
     "output_type": "stream",
     "text": [
      "[2021-08-02 11:47:51,048 - numexpr.utils] INFO: NumExpr defaulting to 8 threads.\n"
     ]
    },
    {
     "data": {
      "text/html": [
       "<div>\n",
       "<style scoped>\n",
       "    .dataframe tbody tr th:only-of-type {\n",
       "        vertical-align: middle;\n",
       "    }\n",
       "\n",
       "    .dataframe tbody tr th {\n",
       "        vertical-align: top;\n",
       "    }\n",
       "\n",
       "    .dataframe thead th {\n",
       "        text-align: right;\n",
       "    }\n",
       "</style>\n",
       "<table border=\"1\" class=\"dataframe\">\n",
       "  <thead>\n",
       "    <tr style=\"text-align: right;\">\n",
       "      <th></th>\n",
       "      <th>pathway</th>\n",
       "      <th>LV index</th>\n",
       "      <th>AUC</th>\n",
       "      <th>p-value</th>\n",
       "      <th>FDR</th>\n",
       "    </tr>\n",
       "  </thead>\n",
       "  <tbody>\n",
       "    <tr>\n",
       "      <th>2049</th>\n",
       "      <td>MIPS_SPLICEOSOME</td>\n",
       "      <td>931</td>\n",
       "      <td>0.634804</td>\n",
       "      <td>0.006035</td>\n",
       "      <td>0.031293</td>\n",
       "    </tr>\n",
       "    <tr>\n",
       "      <th>2050</th>\n",
       "      <td>PID_TGFBRPATHWAY</td>\n",
       "      <td>931</td>\n",
       "      <td>0.708098</td>\n",
       "      <td>0.008138</td>\n",
       "      <td>0.039896</td>\n",
       "    </tr>\n",
       "  </tbody>\n",
       "</table>\n",
       "</div>"
      ],
      "text/plain": [
       "               pathway LV index       AUC   p-value       FDR\n",
       "2049  MIPS_SPLICEOSOME      931  0.634804  0.006035  0.031293\n",
       "2050  PID_TGFBRPATHWAY      931  0.708098  0.008138  0.039896"
      ]
     },
     "execution_count": 17,
     "metadata": {},
     "output_type": "execute_result"
    }
   ],
   "source": [
    "multiplier_model_summary[\n",
    "    multiplier_model_summary[\"LV index\"].isin((LV_NAME[2:],))\n",
    "    & (\n",
    "        (multiplier_model_summary[\"FDR\"] < 0.05)\n",
    "        | (multiplier_model_summary[\"AUC\"] >= 0.75)\n",
    "    )\n",
    "]"
   ]
  },
  {
   "cell_type": "code",
   "execution_count": 18,
   "id": "interested-attention",
   "metadata": {},
   "outputs": [
    {
     "name": "stdout",
     "output_type": "stream",
     "text": [
      "SRP056295, SRP017138, SRP043080, SRP048759, SRP021191, SRP028594, SRP056197, SRP050272, SRP059735, SRP028554, SRP061932, SRP033266, SRP005279, SRP055390, SRP050493, SRP046233, SRP035679, SRP043033, SRP041885, SRP027358, SRP045500, SRP045352, SRP015360, SRP053046, "
     ]
    }
   ],
   "source": [
    "lv_data = lv_obj.get_experiments_data()"
   ]
  },
  {
   "cell_type": "code",
   "execution_count": 19,
   "id": "black-joshua",
   "metadata": {},
   "outputs": [
    {
     "data": {
      "text/plain": [
       "(1932, 45)"
      ]
     },
     "execution_count": 19,
     "metadata": {},
     "output_type": "execute_result"
    }
   ],
   "source": [
    "lv_data.shape"
   ]
  },
  {
   "cell_type": "code",
   "execution_count": 20,
   "id": "certain-disposal",
   "metadata": {},
   "outputs": [
    {
     "data": {
      "text/html": [
       "<div>\n",
       "<style scoped>\n",
       "    .dataframe tbody tr th:only-of-type {\n",
       "        vertical-align: middle;\n",
       "    }\n",
       "\n",
       "    .dataframe tbody tr th {\n",
       "        vertical-align: top;\n",
       "    }\n",
       "\n",
       "    .dataframe thead th {\n",
       "        text-align: right;\n",
       "    }\n",
       "</style>\n",
       "<table border=\"1\" class=\"dataframe\">\n",
       "  <thead>\n",
       "    <tr style=\"text-align: right;\">\n",
       "      <th></th>\n",
       "      <th></th>\n",
       "      <th>tissue</th>\n",
       "      <th>cell type</th>\n",
       "      <th>genotype</th>\n",
       "      <th>treatment</th>\n",
       "      <th>donor</th>\n",
       "      <th>gender</th>\n",
       "      <th>time</th>\n",
       "      <th>individual identifier</th>\n",
       "      <th>monozygotic twin relationship</th>\n",
       "      <th>disease</th>\n",
       "      <th>...</th>\n",
       "      <th>race</th>\n",
       "      <th>samplename</th>\n",
       "      <th>smoker</th>\n",
       "      <th>time since last flare (months)</th>\n",
       "      <th>time since steroid dose</th>\n",
       "      <th>time since symptom onset (yrs)</th>\n",
       "      <th>years since diagnosis</th>\n",
       "      <th>agent</th>\n",
       "      <th>Sex</th>\n",
       "      <th>LV931</th>\n",
       "    </tr>\n",
       "    <tr>\n",
       "      <th>project</th>\n",
       "      <th>run</th>\n",
       "      <th></th>\n",
       "      <th></th>\n",
       "      <th></th>\n",
       "      <th></th>\n",
       "      <th></th>\n",
       "      <th></th>\n",
       "      <th></th>\n",
       "      <th></th>\n",
       "      <th></th>\n",
       "      <th></th>\n",
       "      <th></th>\n",
       "      <th></th>\n",
       "      <th></th>\n",
       "      <th></th>\n",
       "      <th></th>\n",
       "      <th></th>\n",
       "      <th></th>\n",
       "      <th></th>\n",
       "      <th></th>\n",
       "      <th></th>\n",
       "      <th></th>\n",
       "    </tr>\n",
       "  </thead>\n",
       "  <tbody>\n",
       "    <tr>\n",
       "      <th rowspan=\"5\" valign=\"top\">SRP056295</th>\n",
       "      <th>SRR1918758</th>\n",
       "      <td>Bone marrow</td>\n",
       "      <td>acute myeloid leukemia (AML) cells</td>\n",
       "      <td>NaN</td>\n",
       "      <td>NaN</td>\n",
       "      <td>NaN</td>\n",
       "      <td>NaN</td>\n",
       "      <td>NaN</td>\n",
       "      <td>NaN</td>\n",
       "      <td>NaN</td>\n",
       "      <td>NaN</td>\n",
       "      <td>...</td>\n",
       "      <td>NaN</td>\n",
       "      <td>NaN</td>\n",
       "      <td>NaN</td>\n",
       "      <td>NaN</td>\n",
       "      <td>NaN</td>\n",
       "      <td>NaN</td>\n",
       "      <td>NaN</td>\n",
       "      <td>NaN</td>\n",
       "      <td>NaN</td>\n",
       "      <td>0.300555</td>\n",
       "    </tr>\n",
       "    <tr>\n",
       "      <th>SRR1918759</th>\n",
       "      <td>Bone marrow</td>\n",
       "      <td>acute myeloid leukemia (AML) cells</td>\n",
       "      <td>NaN</td>\n",
       "      <td>NaN</td>\n",
       "      <td>NaN</td>\n",
       "      <td>NaN</td>\n",
       "      <td>NaN</td>\n",
       "      <td>NaN</td>\n",
       "      <td>NaN</td>\n",
       "      <td>NaN</td>\n",
       "      <td>...</td>\n",
       "      <td>NaN</td>\n",
       "      <td>NaN</td>\n",
       "      <td>NaN</td>\n",
       "      <td>NaN</td>\n",
       "      <td>NaN</td>\n",
       "      <td>NaN</td>\n",
       "      <td>NaN</td>\n",
       "      <td>NaN</td>\n",
       "      <td>NaN</td>\n",
       "      <td>0.301740</td>\n",
       "    </tr>\n",
       "    <tr>\n",
       "      <th>SRR1918756</th>\n",
       "      <td>Bone marrow</td>\n",
       "      <td>acute myeloid leukemia (AML) cells</td>\n",
       "      <td>NaN</td>\n",
       "      <td>NaN</td>\n",
       "      <td>NaN</td>\n",
       "      <td>NaN</td>\n",
       "      <td>NaN</td>\n",
       "      <td>NaN</td>\n",
       "      <td>NaN</td>\n",
       "      <td>NaN</td>\n",
       "      <td>...</td>\n",
       "      <td>NaN</td>\n",
       "      <td>NaN</td>\n",
       "      <td>NaN</td>\n",
       "      <td>NaN</td>\n",
       "      <td>NaN</td>\n",
       "      <td>NaN</td>\n",
       "      <td>NaN</td>\n",
       "      <td>NaN</td>\n",
       "      <td>NaN</td>\n",
       "      <td>0.372353</td>\n",
       "    </tr>\n",
       "    <tr>\n",
       "      <th>SRR1918757</th>\n",
       "      <td>Bone marrow</td>\n",
       "      <td>acute myeloid leukemia (AML) cells</td>\n",
       "      <td>NaN</td>\n",
       "      <td>NaN</td>\n",
       "      <td>NaN</td>\n",
       "      <td>NaN</td>\n",
       "      <td>NaN</td>\n",
       "      <td>NaN</td>\n",
       "      <td>NaN</td>\n",
       "      <td>NaN</td>\n",
       "      <td>...</td>\n",
       "      <td>NaN</td>\n",
       "      <td>NaN</td>\n",
       "      <td>NaN</td>\n",
       "      <td>NaN</td>\n",
       "      <td>NaN</td>\n",
       "      <td>NaN</td>\n",
       "      <td>NaN</td>\n",
       "      <td>NaN</td>\n",
       "      <td>NaN</td>\n",
       "      <td>0.372030</td>\n",
       "    </tr>\n",
       "    <tr>\n",
       "      <th>SRR1918754</th>\n",
       "      <td>Bone marrow</td>\n",
       "      <td>acute myeloid leukemia (AML) cells</td>\n",
       "      <td>NaN</td>\n",
       "      <td>NaN</td>\n",
       "      <td>NaN</td>\n",
       "      <td>NaN</td>\n",
       "      <td>NaN</td>\n",
       "      <td>NaN</td>\n",
       "      <td>NaN</td>\n",
       "      <td>NaN</td>\n",
       "      <td>...</td>\n",
       "      <td>NaN</td>\n",
       "      <td>NaN</td>\n",
       "      <td>NaN</td>\n",
       "      <td>NaN</td>\n",
       "      <td>NaN</td>\n",
       "      <td>NaN</td>\n",
       "      <td>NaN</td>\n",
       "      <td>NaN</td>\n",
       "      <td>NaN</td>\n",
       "      <td>0.315455</td>\n",
       "    </tr>\n",
       "  </tbody>\n",
       "</table>\n",
       "<p>5 rows × 45 columns</p>\n",
       "</div>"
      ],
      "text/plain": [
       "                           tissue                           cell type  \\\n",
       "project   run                                                           \n",
       "SRP056295 SRR1918758  Bone marrow  acute myeloid leukemia (AML) cells   \n",
       "          SRR1918759  Bone marrow  acute myeloid leukemia (AML) cells   \n",
       "          SRR1918756  Bone marrow  acute myeloid leukemia (AML) cells   \n",
       "          SRR1918757  Bone marrow  acute myeloid leukemia (AML) cells   \n",
       "          SRR1918754  Bone marrow  acute myeloid leukemia (AML) cells   \n",
       "\n",
       "                     genotype treatment donor gender time  \\\n",
       "project   run                                               \n",
       "SRP056295 SRR1918758      NaN       NaN   NaN    NaN  NaN   \n",
       "          SRR1918759      NaN       NaN   NaN    NaN  NaN   \n",
       "          SRR1918756      NaN       NaN   NaN    NaN  NaN   \n",
       "          SRR1918757      NaN       NaN   NaN    NaN  NaN   \n",
       "          SRR1918754      NaN       NaN   NaN    NaN  NaN   \n",
       "\n",
       "                     individual identifier monozygotic twin relationship  \\\n",
       "project   run                                                              \n",
       "SRP056295 SRR1918758                   NaN                           NaN   \n",
       "          SRR1918759                   NaN                           NaN   \n",
       "          SRR1918756                   NaN                           NaN   \n",
       "          SRR1918757                   NaN                           NaN   \n",
       "          SRR1918754                   NaN                           NaN   \n",
       "\n",
       "                     disease  ... race samplename smoker  \\\n",
       "project   run                 ...                          \n",
       "SRP056295 SRR1918758     NaN  ...  NaN        NaN    NaN   \n",
       "          SRR1918759     NaN  ...  NaN        NaN    NaN   \n",
       "          SRR1918756     NaN  ...  NaN        NaN    NaN   \n",
       "          SRR1918757     NaN  ...  NaN        NaN    NaN   \n",
       "          SRR1918754     NaN  ...  NaN        NaN    NaN   \n",
       "\n",
       "                     time since last flare (months) time since steroid dose  \\\n",
       "project   run                                                                 \n",
       "SRP056295 SRR1918758                            NaN                     NaN   \n",
       "          SRR1918759                            NaN                     NaN   \n",
       "          SRR1918756                            NaN                     NaN   \n",
       "          SRR1918757                            NaN                     NaN   \n",
       "          SRR1918754                            NaN                     NaN   \n",
       "\n",
       "                     time since symptom onset (yrs) years since diagnosis  \\\n",
       "project   run                                                               \n",
       "SRP056295 SRR1918758                            NaN                   NaN   \n",
       "          SRR1918759                            NaN                   NaN   \n",
       "          SRR1918756                            NaN                   NaN   \n",
       "          SRR1918757                            NaN                   NaN   \n",
       "          SRR1918754                            NaN                   NaN   \n",
       "\n",
       "                     agent  Sex     LV931  \n",
       "project   run                              \n",
       "SRP056295 SRR1918758   NaN  NaN  0.300555  \n",
       "          SRR1918759   NaN  NaN  0.301740  \n",
       "          SRR1918756   NaN  NaN  0.372353  \n",
       "          SRR1918757   NaN  NaN  0.372030  \n",
       "          SRR1918754   NaN  NaN  0.315455  \n",
       "\n",
       "[5 rows x 45 columns]"
      ]
     },
     "execution_count": 20,
     "metadata": {},
     "output_type": "execute_result"
    }
   ],
   "source": [
    "lv_data.head()"
   ]
  },
  {
   "cell_type": "markdown",
   "id": "explicit-scheduling",
   "metadata": {},
   "source": [
    "# LV cell types analysis"
   ]
  },
  {
   "cell_type": "markdown",
   "id": "boring-lightning",
   "metadata": {},
   "source": [
    "## Get top attributes"
   ]
  },
  {
   "cell_type": "code",
   "execution_count": 21,
   "id": "together-binding",
   "metadata": {},
   "outputs": [
    {
     "data": {
      "text/plain": [
       "in vitro culture                           0.244410\n",
       "donor                                      0.139964\n",
       "time                                       0.139964\n",
       "genotype                                   0.131958\n",
       "treatment                                  0.114311\n",
       "cytogenetics                               0.069754\n",
       "mutation                                   0.069754\n",
       "type of chronic myelomonocytic leukemia    0.069754\n",
       "bcp all subtype                            0.061439\n",
       "resonse to decitabine                      0.060590\n",
       "cell type                                  0.056178\n",
       "all lineage                                0.056146\n",
       "disease state                              0.051575\n",
       "tissue                                     0.047787\n",
       "gender                                     0.044061\n",
       "disease                                    0.031704\n",
       "age                                        0.028859\n",
       "agent                                      0.023872\n",
       "tissues                                    0.020706\n",
       "modulating agent                           0.018482\n",
       "dtype: float64"
      ]
     },
     "metadata": {},
     "output_type": "display_data"
    }
   ],
   "source": [
    "lv_attrs = lv_obj.get_attributes_variation_score()\n",
    "display(lv_attrs.head(20))"
   ]
  },
  {
   "cell_type": "code",
   "execution_count": 22,
   "id": "fancy-marathon",
   "metadata": {},
   "outputs": [
    {
     "data": {
      "text/plain": [
       "cell type       0.056178\n",
       "tissue          0.047787\n",
       "cell subtype    0.014120\n",
       "dtype: float64"
      ]
     },
     "execution_count": 22,
     "metadata": {},
     "output_type": "execute_result"
    }
   ],
   "source": [
    "# show those with cell type or tissue in their name\n",
    "_tmp = pd.Series(lv_attrs.index)\n",
    "lv_attrs[\n",
    "    _tmp.str.match(\n",
    "        \"(?:cell.+type$)|(?:tissue$)|(?:tissue.+type$)\",\n",
    "        case=False,\n",
    "        flags=re.IGNORECASE,\n",
    "    ).values\n",
    "].sort_values(ascending=False)"
   ]
  },
  {
   "cell_type": "code",
   "execution_count": 23,
   "id": "prospective-burke",
   "metadata": {},
   "outputs": [],
   "source": [
    "_tmp = lv_data.loc[\n",
    "    :,\n",
    "    [\n",
    "        \"cell type\",\n",
    "        \"tissue\",\n",
    "        \"cell subtype\",\n",
    "        LV_NAME,\n",
    "    ],\n",
    "]"
   ]
  },
  {
   "cell_type": "code",
   "execution_count": 24,
   "id": "temporal-daily",
   "metadata": {},
   "outputs": [],
   "source": [
    "_tmp_seq = list(chunker(_tmp.sort_values(LV_NAME, ascending=False), 25))"
   ]
  },
  {
   "cell_type": "code",
   "execution_count": 25,
   "id": "computational-island",
   "metadata": {},
   "outputs": [
    {
     "data": {
      "text/html": [
       "<div>\n",
       "<style scoped>\n",
       "    .dataframe tbody tr th:only-of-type {\n",
       "        vertical-align: middle;\n",
       "    }\n",
       "\n",
       "    .dataframe tbody tr th {\n",
       "        vertical-align: top;\n",
       "    }\n",
       "\n",
       "    .dataframe thead th {\n",
       "        text-align: right;\n",
       "    }\n",
       "</style>\n",
       "<table border=\"1\" class=\"dataframe\">\n",
       "  <thead>\n",
       "    <tr style=\"text-align: right;\">\n",
       "      <th></th>\n",
       "      <th></th>\n",
       "      <th>cell type</th>\n",
       "      <th>tissue</th>\n",
       "      <th>cell subtype</th>\n",
       "      <th>LV931</th>\n",
       "    </tr>\n",
       "    <tr>\n",
       "      <th>project</th>\n",
       "      <th>run</th>\n",
       "      <th></th>\n",
       "      <th></th>\n",
       "      <th></th>\n",
       "      <th></th>\n",
       "    </tr>\n",
       "  </thead>\n",
       "  <tbody>\n",
       "    <tr>\n",
       "      <th>SRP028554</th>\n",
       "      <th>SRR948497</th>\n",
       "      <td>NaN</td>\n",
       "      <td>bone marrow</td>\n",
       "      <td>NaN</td>\n",
       "      <td>0.789096</td>\n",
       "    </tr>\n",
       "    <tr>\n",
       "      <th>SRP061932</th>\n",
       "      <th>SRR2141370</th>\n",
       "      <td>CD4+ T cells</td>\n",
       "      <td>cord blood</td>\n",
       "      <td>NaN</td>\n",
       "      <td>0.788928</td>\n",
       "    </tr>\n",
       "    <tr>\n",
       "      <th rowspan=\"2\" valign=\"top\">SRP056295</th>\n",
       "      <th>SRR1918695</th>\n",
       "      <td>acute myeloid leukemia (AML) cells</td>\n",
       "      <td>Heparinised blood</td>\n",
       "      <td>NaN</td>\n",
       "      <td>0.787564</td>\n",
       "    </tr>\n",
       "    <tr>\n",
       "      <th>SRR1918696</th>\n",
       "      <td>acute myeloid leukemia (AML) cells</td>\n",
       "      <td>Heparinised blood</td>\n",
       "      <td>NaN</td>\n",
       "      <td>0.786479</td>\n",
       "    </tr>\n",
       "    <tr>\n",
       "      <th>SRP033266</th>\n",
       "      <th>SRR1036041</th>\n",
       "      <td>acute myeloid leukemia</td>\n",
       "      <td>Heparinised blood</td>\n",
       "      <td>NaN</td>\n",
       "      <td>0.781820</td>\n",
       "    </tr>\n",
       "    <tr>\n",
       "      <th>SRP061932</th>\n",
       "      <th>SRR2141371</th>\n",
       "      <td>CD4+ T cells</td>\n",
       "      <td>cord blood</td>\n",
       "      <td>NaN</td>\n",
       "      <td>0.760716</td>\n",
       "    </tr>\n",
       "    <tr>\n",
       "      <th>SRP043080</th>\n",
       "      <th>SRR1373461</th>\n",
       "      <td>PBMC</td>\n",
       "      <td>NaN</td>\n",
       "      <td>NaN</td>\n",
       "      <td>0.760076</td>\n",
       "    </tr>\n",
       "    <tr>\n",
       "      <th rowspan=\"4\" valign=\"top\">SRP033266</th>\n",
       "      <th>SRR1036130</th>\n",
       "      <td>acute myeloid leukemia</td>\n",
       "      <td>Heparinised blood</td>\n",
       "      <td>NaN</td>\n",
       "      <td>0.759355</td>\n",
       "    </tr>\n",
       "    <tr>\n",
       "      <th>SRR1036125</th>\n",
       "      <td>acute myeloid leukemia</td>\n",
       "      <td>Heparinised blood</td>\n",
       "      <td>NaN</td>\n",
       "      <td>0.759207</td>\n",
       "    </tr>\n",
       "    <tr>\n",
       "      <th>SRR1036128</th>\n",
       "      <td>acute myeloid leukemia</td>\n",
       "      <td>Heparinised blood</td>\n",
       "      <td>NaN</td>\n",
       "      <td>0.758832</td>\n",
       "    </tr>\n",
       "    <tr>\n",
       "      <th>SRR1036131</th>\n",
       "      <td>acute myeloid leukemia</td>\n",
       "      <td>Heparinised blood</td>\n",
       "      <td>NaN</td>\n",
       "      <td>0.758795</td>\n",
       "    </tr>\n",
       "    <tr>\n",
       "      <th>SRP056295</th>\n",
       "      <th>SRR1918614</th>\n",
       "      <td>acute myeloid leukemia (AML) cells</td>\n",
       "      <td>Heparinised blood</td>\n",
       "      <td>NaN</td>\n",
       "      <td>0.758590</td>\n",
       "    </tr>\n",
       "    <tr>\n",
       "      <th rowspan=\"3\" valign=\"top\">SRP033266</th>\n",
       "      <th>SRR1036132</th>\n",
       "      <td>acute myeloid leukemia</td>\n",
       "      <td>Heparinised blood</td>\n",
       "      <td>NaN</td>\n",
       "      <td>0.758417</td>\n",
       "    </tr>\n",
       "    <tr>\n",
       "      <th>SRR1036129</th>\n",
       "      <td>acute myeloid leukemia</td>\n",
       "      <td>Heparinised blood</td>\n",
       "      <td>NaN</td>\n",
       "      <td>0.757830</td>\n",
       "    </tr>\n",
       "    <tr>\n",
       "      <th>SRR1036127</th>\n",
       "      <td>acute myeloid leukemia</td>\n",
       "      <td>Heparinised blood</td>\n",
       "      <td>NaN</td>\n",
       "      <td>0.757681</td>\n",
       "    </tr>\n",
       "    <tr>\n",
       "      <th rowspan=\"3\" valign=\"top\">SRP056295</th>\n",
       "      <th>SRR1918613</th>\n",
       "      <td>acute myeloid leukemia (AML) cells</td>\n",
       "      <td>Heparinised blood</td>\n",
       "      <td>NaN</td>\n",
       "      <td>0.757201</td>\n",
       "    </tr>\n",
       "    <tr>\n",
       "      <th>SRR1918746</th>\n",
       "      <td>acute myeloid leukemia (AML) cells</td>\n",
       "      <td>Heparinised blood</td>\n",
       "      <td>NaN</td>\n",
       "      <td>0.756385</td>\n",
       "    </tr>\n",
       "    <tr>\n",
       "      <th>SRR1918727</th>\n",
       "      <td>acute myeloid leukemia (AML) cells</td>\n",
       "      <td>Bone marrow</td>\n",
       "      <td>NaN</td>\n",
       "      <td>0.756236</td>\n",
       "    </tr>\n",
       "    <tr>\n",
       "      <th>SRP033266</th>\n",
       "      <th>SRR1036126</th>\n",
       "      <td>acute myeloid leukemia</td>\n",
       "      <td>Heparinised blood</td>\n",
       "      <td>NaN</td>\n",
       "      <td>0.756210</td>\n",
       "    </tr>\n",
       "    <tr>\n",
       "      <th rowspan=\"2\" valign=\"top\">SRP056295</th>\n",
       "      <th>SRR1918745</th>\n",
       "      <td>acute myeloid leukemia (AML) cells</td>\n",
       "      <td>Heparinised blood</td>\n",
       "      <td>NaN</td>\n",
       "      <td>0.755959</td>\n",
       "    </tr>\n",
       "    <tr>\n",
       "      <th>SRR1918728</th>\n",
       "      <td>acute myeloid leukemia (AML) cells</td>\n",
       "      <td>Bone marrow</td>\n",
       "      <td>NaN</td>\n",
       "      <td>0.755636</td>\n",
       "    </tr>\n",
       "    <tr>\n",
       "      <th>SRP005279</th>\n",
       "      <th>SRR091652</th>\n",
       "      <td>NaN</td>\n",
       "      <td>Bone marrow</td>\n",
       "      <td>NaN</td>\n",
       "      <td>0.748322</td>\n",
       "    </tr>\n",
       "    <tr>\n",
       "      <th rowspan=\"2\" valign=\"top\">SRP056295</th>\n",
       "      <th>SRR1918675</th>\n",
       "      <td>acute myeloid leukemia (AML) cells</td>\n",
       "      <td>Heparinised blood</td>\n",
       "      <td>NaN</td>\n",
       "      <td>0.747162</td>\n",
       "    </tr>\n",
       "    <tr>\n",
       "      <th>SRR1918676</th>\n",
       "      <td>acute myeloid leukemia (AML) cells</td>\n",
       "      <td>Heparinised blood</td>\n",
       "      <td>NaN</td>\n",
       "      <td>0.747049</td>\n",
       "    </tr>\n",
       "    <tr>\n",
       "      <th>SRP021191</th>\n",
       "      <th>SRR830954</th>\n",
       "      <td>CD14 cells</td>\n",
       "      <td>NaN</td>\n",
       "      <td>NaN</td>\n",
       "      <td>0.736694</td>\n",
       "    </tr>\n",
       "  </tbody>\n",
       "</table>\n",
       "</div>"
      ],
      "text/plain": [
       "                                               cell type             tissue  \\\n",
       "project   run                                                                 \n",
       "SRP028554 SRR948497                                  NaN        bone marrow   \n",
       "SRP061932 SRR2141370                        CD4+ T cells         cord blood   \n",
       "SRP056295 SRR1918695  acute myeloid leukemia (AML) cells  Heparinised blood   \n",
       "          SRR1918696  acute myeloid leukemia (AML) cells  Heparinised blood   \n",
       "SRP033266 SRR1036041              acute myeloid leukemia  Heparinised blood   \n",
       "SRP061932 SRR2141371                        CD4+ T cells         cord blood   \n",
       "SRP043080 SRR1373461                                PBMC                NaN   \n",
       "SRP033266 SRR1036130              acute myeloid leukemia  Heparinised blood   \n",
       "          SRR1036125              acute myeloid leukemia  Heparinised blood   \n",
       "          SRR1036128              acute myeloid leukemia  Heparinised blood   \n",
       "          SRR1036131              acute myeloid leukemia  Heparinised blood   \n",
       "SRP056295 SRR1918614  acute myeloid leukemia (AML) cells  Heparinised blood   \n",
       "SRP033266 SRR1036132              acute myeloid leukemia  Heparinised blood   \n",
       "          SRR1036129              acute myeloid leukemia  Heparinised blood   \n",
       "          SRR1036127              acute myeloid leukemia  Heparinised blood   \n",
       "SRP056295 SRR1918613  acute myeloid leukemia (AML) cells  Heparinised blood   \n",
       "          SRR1918746  acute myeloid leukemia (AML) cells  Heparinised blood   \n",
       "          SRR1918727  acute myeloid leukemia (AML) cells        Bone marrow   \n",
       "SRP033266 SRR1036126              acute myeloid leukemia  Heparinised blood   \n",
       "SRP056295 SRR1918745  acute myeloid leukemia (AML) cells  Heparinised blood   \n",
       "          SRR1918728  acute myeloid leukemia (AML) cells        Bone marrow   \n",
       "SRP005279 SRR091652                                  NaN        Bone marrow   \n",
       "SRP056295 SRR1918675  acute myeloid leukemia (AML) cells  Heparinised blood   \n",
       "          SRR1918676  acute myeloid leukemia (AML) cells  Heparinised blood   \n",
       "SRP021191 SRR830954                           CD14 cells                NaN   \n",
       "\n",
       "                     cell subtype     LV931  \n",
       "project   run                                \n",
       "SRP028554 SRR948497           NaN  0.789096  \n",
       "SRP061932 SRR2141370          NaN  0.788928  \n",
       "SRP056295 SRR1918695          NaN  0.787564  \n",
       "          SRR1918696          NaN  0.786479  \n",
       "SRP033266 SRR1036041          NaN  0.781820  \n",
       "SRP061932 SRR2141371          NaN  0.760716  \n",
       "SRP043080 SRR1373461          NaN  0.760076  \n",
       "SRP033266 SRR1036130          NaN  0.759355  \n",
       "          SRR1036125          NaN  0.759207  \n",
       "          SRR1036128          NaN  0.758832  \n",
       "          SRR1036131          NaN  0.758795  \n",
       "SRP056295 SRR1918614          NaN  0.758590  \n",
       "SRP033266 SRR1036132          NaN  0.758417  \n",
       "          SRR1036129          NaN  0.757830  \n",
       "          SRR1036127          NaN  0.757681  \n",
       "SRP056295 SRR1918613          NaN  0.757201  \n",
       "          SRR1918746          NaN  0.756385  \n",
       "          SRR1918727          NaN  0.756236  \n",
       "SRP033266 SRR1036126          NaN  0.756210  \n",
       "SRP056295 SRR1918745          NaN  0.755959  \n",
       "          SRR1918728          NaN  0.755636  \n",
       "SRP005279 SRR091652           NaN  0.748322  \n",
       "SRP056295 SRR1918675          NaN  0.747162  \n",
       "          SRR1918676          NaN  0.747049  \n",
       "SRP021191 SRR830954           NaN  0.736694  "
      ]
     },
     "execution_count": 25,
     "metadata": {},
     "output_type": "execute_result"
    }
   ],
   "source": [
    "_tmp_seq[3]"
   ]
  },
  {
   "cell_type": "code",
   "execution_count": 26,
   "id": "raised-russia",
   "metadata": {},
   "outputs": [],
   "source": [
    "# # what is there in these projects?\n",
    "# lv_data.loc[[\"SRP048222\"]].dropna(how=\"all\", axis=1).sort_values(\n",
    "#     LV_NAME, ascending=False\n",
    "# ).sort_values(LV_NAME, ascending=False).head(10)"
   ]
  },
  {
   "cell_type": "code",
   "execution_count": 27,
   "id": "narrow-broad",
   "metadata": {},
   "outputs": [],
   "source": [
    "SELECTED_ATTRIBUTE = \"cell type\""
   ]
  },
  {
   "cell_type": "code",
   "execution_count": 28,
   "id": "ruled-scout",
   "metadata": {},
   "outputs": [],
   "source": [
    "# it has to be in the order desired for filling nans in the SELECTED_ATTRIBUTE\n",
    "SECOND_ATTRIBUTES = [\"tissue\"]"
   ]
  },
  {
   "cell_type": "markdown",
   "id": "veterinary-party",
   "metadata": {},
   "source": [
    "## Get plot data"
   ]
  },
  {
   "cell_type": "code",
   "execution_count": 29,
   "id": "coated-indonesian",
   "metadata": {},
   "outputs": [],
   "source": [
    "plot_data = lv_data.loc[:, [SELECTED_ATTRIBUTE] + SECOND_ATTRIBUTES + [LV_NAME]]"
   ]
  },
  {
   "cell_type": "code",
   "execution_count": 30,
   "id": "entertaining-blade",
   "metadata": {},
   "outputs": [],
   "source": [
    "# if blank/nan, fill cell type column with tissue content\n",
    "_new_column = plot_data[[SELECTED_ATTRIBUTE] + SECOND_ATTRIBUTES].fillna(\n",
    "    method=\"backfill\", axis=1\n",
    ")[SELECTED_ATTRIBUTE]\n",
    "plot_data[SELECTED_ATTRIBUTE] = _new_column\n",
    "plot_data = plot_data.drop(columns=SECOND_ATTRIBUTES)\n",
    "plot_data = plot_data.fillna({SELECTED_ATTRIBUTE: \"NOT CATEGORIZED\"})\n",
    "# plot_data = plot_data.dropna(subset=[SELECTED_ATTRIBUTE])"
   ]
  },
  {
   "cell_type": "code",
   "execution_count": 31,
   "id": "stuck-conviction",
   "metadata": {},
   "outputs": [],
   "source": [
    "plot_data = plot_data.sort_values(LV_NAME, ascending=False)"
   ]
  },
  {
   "cell_type": "code",
   "execution_count": 32,
   "id": "every-bennett",
   "metadata": {},
   "outputs": [
    {
     "data": {
      "text/html": [
       "<div>\n",
       "<style scoped>\n",
       "    .dataframe tbody tr th:only-of-type {\n",
       "        vertical-align: middle;\n",
       "    }\n",
       "\n",
       "    .dataframe tbody tr th {\n",
       "        vertical-align: top;\n",
       "    }\n",
       "\n",
       "    .dataframe thead th {\n",
       "        text-align: right;\n",
       "    }\n",
       "</style>\n",
       "<table border=\"1\" class=\"dataframe\">\n",
       "  <thead>\n",
       "    <tr style=\"text-align: right;\">\n",
       "      <th></th>\n",
       "      <th></th>\n",
       "      <th>cell type</th>\n",
       "      <th>LV931</th>\n",
       "    </tr>\n",
       "    <tr>\n",
       "      <th>project</th>\n",
       "      <th>run</th>\n",
       "      <th></th>\n",
       "      <th></th>\n",
       "    </tr>\n",
       "  </thead>\n",
       "  <tbody>\n",
       "    <tr>\n",
       "      <th rowspan=\"2\" valign=\"top\">SRP056295</th>\n",
       "      <th>SRR1918560</th>\n",
       "      <td>acute myeloid leukemia (AML) cells</td>\n",
       "      <td>1.072961</td>\n",
       "    </tr>\n",
       "    <tr>\n",
       "      <th>SRR1918559</th>\n",
       "      <td>acute myeloid leukemia (AML) cells</td>\n",
       "      <td>1.071910</td>\n",
       "    </tr>\n",
       "    <tr>\n",
       "      <th>SRP017138</th>\n",
       "      <th>SRR616079</th>\n",
       "      <td>NOT CATEGORIZED</td>\n",
       "      <td>1.059257</td>\n",
       "    </tr>\n",
       "    <tr>\n",
       "      <th>SRP043080</th>\n",
       "      <th>SRR1373464</th>\n",
       "      <td>PBMC</td>\n",
       "      <td>1.033864</td>\n",
       "    </tr>\n",
       "    <tr>\n",
       "      <th rowspan=\"2\" valign=\"top\">SRP056295</th>\n",
       "      <th>SRR1918487</th>\n",
       "      <td>acute myeloid leukemia (AML) cells</td>\n",
       "      <td>1.004104</td>\n",
       "    </tr>\n",
       "    <tr>\n",
       "      <th>SRR1918488</th>\n",
       "      <td>acute myeloid leukemia (AML) cells</td>\n",
       "      <td>1.003725</td>\n",
       "    </tr>\n",
       "    <tr>\n",
       "      <th>SRP043080</th>\n",
       "      <th>SRR1373449</th>\n",
       "      <td>PBMC</td>\n",
       "      <td>0.994688</td>\n",
       "    </tr>\n",
       "    <tr>\n",
       "      <th>SRP017138</th>\n",
       "      <th>SRR616077</th>\n",
       "      <td>NOT CATEGORIZED</td>\n",
       "      <td>0.970944</td>\n",
       "    </tr>\n",
       "    <tr>\n",
       "      <th rowspan=\"3\" valign=\"top\">SRP056295</th>\n",
       "      <th>SRR1918363</th>\n",
       "      <td>acute myeloid leukemia (AML) cells</td>\n",
       "      <td>0.968299</td>\n",
       "    </tr>\n",
       "    <tr>\n",
       "      <th>SRR1918364</th>\n",
       "      <td>acute myeloid leukemia (AML) cells</td>\n",
       "      <td>0.965907</td>\n",
       "    </tr>\n",
       "    <tr>\n",
       "      <th>SRR1918394</th>\n",
       "      <td>acute myeloid leukemia (AML) cells</td>\n",
       "      <td>0.963353</td>\n",
       "    </tr>\n",
       "    <tr>\n",
       "      <th>SRP048759</th>\n",
       "      <th>SRR1608637</th>\n",
       "      <td>acute myeloid leukemia</td>\n",
       "      <td>0.963065</td>\n",
       "    </tr>\n",
       "    <tr>\n",
       "      <th>SRP056295</th>\n",
       "      <th>SRR1918393</th>\n",
       "      <td>acute myeloid leukemia (AML) cells</td>\n",
       "      <td>0.962881</td>\n",
       "    </tr>\n",
       "    <tr>\n",
       "      <th rowspan=\"3\" valign=\"top\">SRP048759</th>\n",
       "      <th>SRR1608636</th>\n",
       "      <td>acute myeloid leukemia</td>\n",
       "      <td>0.956578</td>\n",
       "    </tr>\n",
       "    <tr>\n",
       "      <th>SRR1608634</th>\n",
       "      <td>acute myeloid leukemia</td>\n",
       "      <td>0.952677</td>\n",
       "    </tr>\n",
       "    <tr>\n",
       "      <th>SRR1608635</th>\n",
       "      <td>acute myeloid leukemia</td>\n",
       "      <td>0.951694</td>\n",
       "    </tr>\n",
       "    <tr>\n",
       "      <th rowspan=\"2\" valign=\"top\">SRP021191</th>\n",
       "      <th>SRR830952</th>\n",
       "      <td>CD14 cells</td>\n",
       "      <td>0.943728</td>\n",
       "    </tr>\n",
       "    <tr>\n",
       "      <th>SRR830948</th>\n",
       "      <td>CD14 cells</td>\n",
       "      <td>0.943218</td>\n",
       "    </tr>\n",
       "    <tr>\n",
       "      <th rowspan=\"2\" valign=\"top\">SRP056295</th>\n",
       "      <th>SRR1918459</th>\n",
       "      <td>acute myeloid leukemia (AML) cells</td>\n",
       "      <td>0.943164</td>\n",
       "    </tr>\n",
       "    <tr>\n",
       "      <th>SRR1918460</th>\n",
       "      <td>acute myeloid leukemia (AML) cells</td>\n",
       "      <td>0.942857</td>\n",
       "    </tr>\n",
       "  </tbody>\n",
       "</table>\n",
       "</div>"
      ],
      "text/plain": [
       "                                               cell type     LV931\n",
       "project   run                                                     \n",
       "SRP056295 SRR1918560  acute myeloid leukemia (AML) cells  1.072961\n",
       "          SRR1918559  acute myeloid leukemia (AML) cells  1.071910\n",
       "SRP017138 SRR616079                      NOT CATEGORIZED  1.059257\n",
       "SRP043080 SRR1373464                                PBMC  1.033864\n",
       "SRP056295 SRR1918487  acute myeloid leukemia (AML) cells  1.004104\n",
       "          SRR1918488  acute myeloid leukemia (AML) cells  1.003725\n",
       "SRP043080 SRR1373449                                PBMC  0.994688\n",
       "SRP017138 SRR616077                      NOT CATEGORIZED  0.970944\n",
       "SRP056295 SRR1918363  acute myeloid leukemia (AML) cells  0.968299\n",
       "          SRR1918364  acute myeloid leukemia (AML) cells  0.965907\n",
       "          SRR1918394  acute myeloid leukemia (AML) cells  0.963353\n",
       "SRP048759 SRR1608637              acute myeloid leukemia  0.963065\n",
       "SRP056295 SRR1918393  acute myeloid leukemia (AML) cells  0.962881\n",
       "SRP048759 SRR1608636              acute myeloid leukemia  0.956578\n",
       "          SRR1608634              acute myeloid leukemia  0.952677\n",
       "          SRR1608635              acute myeloid leukemia  0.951694\n",
       "SRP021191 SRR830952                           CD14 cells  0.943728\n",
       "          SRR830948                           CD14 cells  0.943218\n",
       "SRP056295 SRR1918459  acute myeloid leukemia (AML) cells  0.943164\n",
       "          SRR1918460  acute myeloid leukemia (AML) cells  0.942857"
      ]
     },
     "execution_count": 32,
     "metadata": {},
     "output_type": "execute_result"
    }
   ],
   "source": [
    "plot_data.head(20)"
   ]
  },
  {
   "cell_type": "markdown",
   "id": "inclusive-suggestion",
   "metadata": {},
   "source": [
    "## Customize x-axis values"
   ]
  },
  {
   "cell_type": "markdown",
   "id": "prescribed-recall",
   "metadata": {},
   "source": [
    "When cell type values are not very clear, customize their names by looking at their specific studies to know exactly what the authors meant."
   ]
  },
  {
   "cell_type": "code",
   "execution_count": 33,
   "id": "ahead-empire",
   "metadata": {},
   "outputs": [],
   "source": [
    "final_plot_data = plot_data.replace(\n",
    "    {\n",
    "        SELECTED_ATTRIBUTE: {\n",
    "            \"whole blood\": \"Whole blood\",\n",
    "            \"monocyte\": \"Monocyte\",\n",
    "            \"bone marrow\": \"Bone marrow\",\n",
    "            \"acute myeloid leukemia (AML) cells\": \"Acute myeloid leukemia\",\n",
    "            \"acute myeloid leukemia\": \"Acute myeloid leukemia\",\n",
    "        }\n",
    "    }\n",
    ")"
   ]
  },
  {
   "cell_type": "code",
   "execution_count": 34,
   "id": "persistent-angel",
   "metadata": {},
   "outputs": [
    {
     "name": "stderr",
     "output_type": "stream",
     "text": [
      "<ipython-input-34-34ae5074f2a8>:3: PerformanceWarning: indexing past lexsort depth may impact performance.\n",
      "  _tmp = final_plot_data.loc[(_srp_code,)].apply(\n",
      "<ipython-input-34-34ae5074f2a8>:12: PerformanceWarning: indexing past lexsort depth may impact performance.\n",
      "  _tmp = final_plot_data.loc[(_srp_code,)].apply(\n"
     ]
    }
   ],
   "source": [
    "# add also tissue information to these projects\n",
    "_srp_code = \"SRP056295\"\n",
    "_tmp = final_plot_data.loc[(_srp_code,)].apply(\n",
    "    lambda x: x[SELECTED_ATTRIBUTE]\n",
    "    + f\" ({lv_data.loc[(_srp_code, x.name), 'tissue']})\",\n",
    "    axis=1,\n",
    ")\n",
    "final_plot_data.loc[(_srp_code, _tmp.index), SELECTED_ATTRIBUTE] = _tmp.values\n",
    "\n",
    "\n",
    "_srp_code = \"SRP048759\"\n",
    "_tmp = final_plot_data.loc[(_srp_code,)].apply(\n",
    "    lambda x: x[SELECTED_ATTRIBUTE]\n",
    "    + f\" ({lv_data.loc[(_srp_code, x.name), 'tissue']})\",\n",
    "    axis=1,\n",
    ")\n",
    "final_plot_data.loc[(_srp_code, _tmp.index), SELECTED_ATTRIBUTE] = _tmp.values"
   ]
  },
  {
   "cell_type": "code",
   "execution_count": 35,
   "id": "invisible-civilization",
   "metadata": {},
   "outputs": [],
   "source": [
    "# take the top samples only\n",
    "final_plot_data = final_plot_data.sort_values(LV_NAME, ascending=False)[:N_TOP_SAMPLES]"
   ]
  },
  {
   "cell_type": "markdown",
   "id": "latest-sodium",
   "metadata": {},
   "source": [
    "## Threshold LV values"
   ]
  },
  {
   "cell_type": "code",
   "execution_count": 36,
   "id": "amazing-magnet",
   "metadata": {},
   "outputs": [],
   "source": [
    "final_plot_data.loc[\n",
    "    final_plot_data[LV_NAME] > LV_AXIS_THRESHOLD, LV_NAME\n",
    "] = LV_AXIS_THRESHOLD"
   ]
  },
  {
   "cell_type": "markdown",
   "id": "elder-observer",
   "metadata": {},
   "source": [
    "## Delete samples with no tissue/cell type information"
   ]
  },
  {
   "cell_type": "code",
   "execution_count": 37,
   "id": "charming-court",
   "metadata": {},
   "outputs": [],
   "source": [
    "final_plot_data = final_plot_data[\n",
    "    final_plot_data[SELECTED_ATTRIBUTE] != \"NOT CATEGORIZED\"\n",
    "]"
   ]
  },
  {
   "cell_type": "markdown",
   "id": "outer-platform",
   "metadata": {},
   "source": [
    "## Set x-axis order"
   ]
  },
  {
   "cell_type": "code",
   "execution_count": 38,
   "id": "surprising-fiber",
   "metadata": {},
   "outputs": [],
   "source": [
    "attr_order = (\n",
    "    final_plot_data.groupby(SELECTED_ATTRIBUTE)\n",
    "    .max()\n",
    "    .sort_values(LV_NAME, ascending=False)\n",
    "    .index[:N_TOP_ATTRS]\n",
    "    .tolist()\n",
    ")"
   ]
  },
  {
   "cell_type": "code",
   "execution_count": 39,
   "id": "characteristic-grammar",
   "metadata": {},
   "outputs": [
    {
     "data": {
      "text/plain": [
       "19"
      ]
     },
     "execution_count": 39,
     "metadata": {},
     "output_type": "execute_result"
    }
   ],
   "source": [
    "len(attr_order)"
   ]
  },
  {
   "cell_type": "code",
   "execution_count": 40,
   "id": "creative-charger",
   "metadata": {},
   "outputs": [
    {
     "data": {
      "text/plain": [
       "['Acute myeloid leukemia (Heparinised blood)',\n",
       " 'PBMC',\n",
       " 'CD14 cells',\n",
       " 'Acute myeloid leukemia (Bone marrow)',\n",
       " 'blood']"
      ]
     },
     "execution_count": 40,
     "metadata": {},
     "output_type": "execute_result"
    }
   ],
   "source": [
    "attr_order[:5]"
   ]
  },
  {
   "cell_type": "markdown",
   "id": "collaborative-repeat",
   "metadata": {},
   "source": [
    "## Plot"
   ]
  },
  {
   "cell_type": "code",
   "execution_count": 41,
   "id": "fatal-advocate",
   "metadata": {},
   "outputs": [
    {
     "data": {
      "image/png": "[encoded data removed]",
      "text/plain": [
       "<Figure size 1080x360 with 1 Axes>"
      ]
     },
     "metadata": {},
     "output_type": "display_data"
    }
   ],
   "source": [
    "with sns.plotting_context(\"paper\", font_scale=1.5), sns.axes_style(\"whitegrid\"):\n",
    "    sns.catplot(\n",
    "        data=final_plot_data,\n",
    "        y=LV_NAME,\n",
    "        x=SELECTED_ATTRIBUTE,\n",
    "        order=attr_order,\n",
    "        kind=\"strip\",\n",
    "        height=5,\n",
    "        aspect=3,\n",
    "    )\n",
    "    plt.xticks(rotation=45, horizontalalignment=\"right\")\n",
    "\n",
    "    plt.savefig(\n",
    "        OUTPUT_CELL_TYPE_FILEPATH,\n",
    "        bbox_inches=\"tight\",\n",
    "        facecolor=\"white\",\n",
    "    )"
   ]
  },
  {
   "cell_type": "markdown",
   "id": "assumed-auditor",
   "metadata": {},
   "source": [
    "# Debug"
   ]
  },
  {
   "cell_type": "code",
   "execution_count": 42,
   "id": "compatible-vatican",
   "metadata": {},
   "outputs": [],
   "source": [
    "# with pd.option_context(\n",
    "#     \"display.max_rows\", None, \"display.max_columns\", None, \"display.max_colwidth\", None\n",
    "# ):\n",
    "#     _tmp = final_plot_data[final_plot_data[SELECTED_ATTRIBUTE].str.contains(\"acute my\")]\n",
    "#     display(_tmp.head(20))"
   ]
  },
  {
   "cell_type": "code",
   "execution_count": 43,
   "id": "thorough-intranet",
   "metadata": {},
   "outputs": [],
   "source": [
    "# # what is there in these projects?\n",
    "# lv_data.loc[[\"SRP056295\"]].dropna(how=\"all\", axis=1).sort_values(\n",
    "#     LV_NAME, ascending=False\n",
    "# ).head(60)"
   ]
  },
  {
   "cell_type": "code",
   "execution_count": null,
   "id": "retained-employment",
   "metadata": {},
   "outputs": [],
   "source": []
  }
 ],
 "metadata": {
  "jupytext": {
   "cell_metadata_filter": "all,-execution,-papermill,-trusted",
   "formats": "ipynb,py//py:percent"
  },
  "kernelspec": {
   "display_name": "Python 3",
   "language": "python",
   "name": "python3"
  },
  "language_info": {
   "codemirror_mode": {
    "name": "ipython",
    "version": 3
   },
   "file_extension": ".py",
   "mimetype": "text/x-python",
   "name": "python",
   "nbconvert_exporter": "python",
   "pygments_lexer": "ipython3",
   "version": "3.8.8"
  }
 },
 "nbformat": 4,
 "nbformat_minor": 5
}
