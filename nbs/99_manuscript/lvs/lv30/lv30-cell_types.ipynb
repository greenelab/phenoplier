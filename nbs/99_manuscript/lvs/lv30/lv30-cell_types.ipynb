{
 "cells": [
  {
   "cell_type": "markdown",
   "id": "median-flood",
   "metadata": {
    "papermill": {
     "duration": 0.006593,
     "end_time": "2021-05-11T19:09:55.733221",
     "exception": false,
     "start_time": "2021-05-11T19:09:55.726628",
     "status": "completed"
    },
    "tags": []
   },
   "source": [
    "# Description"
   ]
  },
  {
   "cell_type": "markdown",
   "id": "attached-comment",
   "metadata": {
    "papermill": {
     "duration": 0.00668,
     "end_time": "2021-05-11T19:09:55.745410",
     "exception": false,
     "start_time": "2021-05-11T19:09:55.738730",
     "status": "completed"
    },
    "tags": []
   },
   "source": [
    "Generates the figure for top cell types for a specified LV (in Settings section below)."
   ]
  },
  {
   "cell_type": "markdown",
   "id": "committed-tuning",
   "metadata": {
    "papermill": {
     "duration": 0.006223,
     "end_time": "2021-05-11T19:09:55.756959",
     "exception": false,
     "start_time": "2021-05-11T19:09:55.750736",
     "status": "completed"
    },
    "tags": []
   },
   "source": [
    "# Modules loading"
   ]
  },
  {
   "cell_type": "code",
   "execution_count": 1,
   "id": "muslim-field",
   "metadata": {
    "papermill": {
     "duration": 0.01906,
     "end_time": "2021-05-11T19:09:55.781515",
     "exception": false,
     "start_time": "2021-05-11T19:09:55.762455",
     "status": "completed"
    },
    "tags": []
   },
   "outputs": [],
   "source": [
    "%load_ext autoreload\n",
    "%autoreload 2"
   ]
  },
  {
   "cell_type": "code",
   "execution_count": 2,
   "id": "exact-coordinator",
   "metadata": {
    "papermill": {
     "duration": 0.993432,
     "end_time": "2021-05-11T19:09:56.780403",
     "exception": false,
     "start_time": "2021-05-11T19:09:55.786971",
     "status": "completed"
    },
    "tags": []
   },
   "outputs": [],
   "source": [
    "import re\n",
    "from pathlib import Path\n",
    "\n",
    "import pandas as pd\n",
    "import matplotlib.pyplot as plt\n",
    "import seaborn as sns\n",
    "\n",
    "from data.recount2 import LVAnalysis\n",
    "from utils import chunker\n",
    "import conf"
   ]
  },
  {
   "cell_type": "markdown",
   "id": "charged-vacation",
   "metadata": {
    "papermill": {
     "duration": 0.005973,
     "end_time": "2021-05-11T19:09:56.792495",
     "exception": false,
     "start_time": "2021-05-11T19:09:56.786522",
     "status": "completed"
    },
    "tags": []
   },
   "source": [
    "# Settings"
   ]
  },
  {
   "cell_type": "code",
   "execution_count": 3,
   "id": "sufficient-bottle",
   "metadata": {
    "papermill": {
     "duration": 0.019548,
     "end_time": "2021-05-11T19:09:56.817689",
     "exception": false,
     "start_time": "2021-05-11T19:09:56.798141",
     "status": "completed"
    },
    "tags": [
     "parameters"
    ]
   },
   "outputs": [],
   "source": [
    "LV_NAME = \"LV30\""
   ]
  },
  {
   "cell_type": "code",
   "execution_count": 4,
   "id": "structural-lodge",
   "metadata": {},
   "outputs": [],
   "source": [
    "LV_AXIS_THRESHOLD = 3.0\n",
    "N_TOP_SAMPLES = 400\n",
    "N_TOP_ATTRS = 25"
   ]
  },
  {
   "cell_type": "code",
   "execution_count": 5,
   "id": "persistent-organic",
   "metadata": {},
   "outputs": [
    {
     "data": {
      "text/plain": [
       "PosixPath('/home/miltondp/projects/labs/greenelab/phenoplier_manuscript/content/images/lvs_analysis/lv30')"
      ]
     },
     "metadata": {},
     "output_type": "display_data"
    }
   ],
   "source": [
    "OUTPUT_FIGURES_DIR = Path(\n",
    "    conf.MANUSCRIPT[\"FIGURES_DIR\"], \"lvs_analysis\", f\"{LV_NAME.lower()}\"\n",
    ").resolve()\n",
    "display(OUTPUT_FIGURES_DIR)\n",
    "OUTPUT_FIGURES_DIR.mkdir(parents=True, exist_ok=True)"
   ]
  },
  {
   "cell_type": "code",
   "execution_count": 6,
   "id": "institutional-runner",
   "metadata": {},
   "outputs": [
    {
     "data": {
      "text/plain": [
       "PosixPath('/home/miltondp/projects/labs/greenelab/phenoplier_manuscript/content/images/lvs_analysis/lv30/lv30-cell_types.svg')"
      ]
     },
     "metadata": {},
     "output_type": "display_data"
    }
   ],
   "source": [
    "OUTPUT_CELL_TYPE_FILEPATH = OUTPUT_FIGURES_DIR / f\"{LV_NAME.lower()}-cell_types.svg\"\n",
    "display(OUTPUT_CELL_TYPE_FILEPATH)"
   ]
  },
  {
   "cell_type": "markdown",
   "id": "solved-sacrifice",
   "metadata": {
    "papermill": {
     "duration": 0.005592,
     "end_time": "2021-05-11T19:09:56.854406",
     "exception": false,
     "start_time": "2021-05-11T19:09:56.848814",
     "status": "completed"
    },
    "tags": []
   },
   "source": [
    "# Load MultiPLIER summary"
   ]
  },
  {
   "cell_type": "code",
   "execution_count": 7,
   "id": "greek-pocket",
   "metadata": {
    "papermill": {
     "duration": 0.020251,
     "end_time": "2021-05-11T19:09:56.880435",
     "exception": false,
     "start_time": "2021-05-11T19:09:56.860184",
     "status": "completed"
    },
    "tags": []
   },
   "outputs": [],
   "source": [
    "multiplier_model_summary = pd.read_pickle(conf.MULTIPLIER[\"MODEL_SUMMARY_FILE\"])"
   ]
  },
  {
   "cell_type": "code",
   "execution_count": 8,
   "id": "extensive-twelve",
   "metadata": {
    "papermill": {
     "duration": 0.02062,
     "end_time": "2021-05-11T19:09:56.906744",
     "exception": false,
     "start_time": "2021-05-11T19:09:56.886124",
     "status": "completed"
    },
    "tags": []
   },
   "outputs": [
    {
     "data": {
      "text/plain": [
       "(2157, 5)"
      ]
     },
     "execution_count": 8,
     "metadata": {},
     "output_type": "execute_result"
    }
   ],
   "source": [
    "multiplier_model_summary.shape"
   ]
  },
  {
   "cell_type": "code",
   "execution_count": 9,
   "id": "approved-rating",
   "metadata": {
    "papermill": {
     "duration": 0.024737,
     "end_time": "2021-05-11T19:09:56.937493",
     "exception": false,
     "start_time": "2021-05-11T19:09:56.912756",
     "status": "completed"
    },
    "tags": []
   },
   "outputs": [
    {
     "data": {
      "text/html": [
       "<div>\n",
       "<style scoped>\n",
       "    .dataframe tbody tr th:only-of-type {\n",
       "        vertical-align: middle;\n",
       "    }\n",
       "\n",
       "    .dataframe tbody tr th {\n",
       "        vertical-align: top;\n",
       "    }\n",
       "\n",
       "    .dataframe thead th {\n",
       "        text-align: right;\n",
       "    }\n",
       "</style>\n",
       "<table border=\"1\" class=\"dataframe\">\n",
       "  <thead>\n",
       "    <tr style=\"text-align: right;\">\n",
       "      <th></th>\n",
       "      <th>pathway</th>\n",
       "      <th>LV index</th>\n",
       "      <th>AUC</th>\n",
       "      <th>p-value</th>\n",
       "      <th>FDR</th>\n",
       "    </tr>\n",
       "  </thead>\n",
       "  <tbody>\n",
       "    <tr>\n",
       "      <th>1</th>\n",
       "      <td>KEGG_LYSINE_DEGRADATION</td>\n",
       "      <td>1</td>\n",
       "      <td>0.388059</td>\n",
       "      <td>0.866078</td>\n",
       "      <td>0.956005</td>\n",
       "    </tr>\n",
       "    <tr>\n",
       "      <th>2</th>\n",
       "      <td>REACTOME_MRNA_SPLICING</td>\n",
       "      <td>1</td>\n",
       "      <td>0.733057</td>\n",
       "      <td>0.000048</td>\n",
       "      <td>0.000582</td>\n",
       "    </tr>\n",
       "    <tr>\n",
       "      <th>3</th>\n",
       "      <td>MIPS_NOP56P_ASSOCIATED_PRE_RRNA_COMPLEX</td>\n",
       "      <td>1</td>\n",
       "      <td>0.680555</td>\n",
       "      <td>0.001628</td>\n",
       "      <td>0.011366</td>\n",
       "    </tr>\n",
       "    <tr>\n",
       "      <th>4</th>\n",
       "      <td>KEGG_DNA_REPLICATION</td>\n",
       "      <td>1</td>\n",
       "      <td>0.549473</td>\n",
       "      <td>0.312155</td>\n",
       "      <td>0.539951</td>\n",
       "    </tr>\n",
       "    <tr>\n",
       "      <th>5</th>\n",
       "      <td>PID_MYC_ACTIVPATHWAY</td>\n",
       "      <td>1</td>\n",
       "      <td>0.639303</td>\n",
       "      <td>0.021702</td>\n",
       "      <td>0.083739</td>\n",
       "    </tr>\n",
       "  </tbody>\n",
       "</table>\n",
       "</div>"
      ],
      "text/plain": [
       "                                   pathway LV index       AUC   p-value  \\\n",
       "1                  KEGG_LYSINE_DEGRADATION        1  0.388059  0.866078   \n",
       "2                   REACTOME_MRNA_SPLICING        1  0.733057  0.000048   \n",
       "3  MIPS_NOP56P_ASSOCIATED_PRE_RRNA_COMPLEX        1  0.680555  0.001628   \n",
       "4                     KEGG_DNA_REPLICATION        1  0.549473  0.312155   \n",
       "5                     PID_MYC_ACTIVPATHWAY        1  0.639303  0.021702   \n",
       "\n",
       "        FDR  \n",
       "1  0.956005  \n",
       "2  0.000582  \n",
       "3  0.011366  \n",
       "4  0.539951  \n",
       "5  0.083739  "
      ]
     },
     "execution_count": 9,
     "metadata": {},
     "output_type": "execute_result"
    }
   ],
   "source": [
    "multiplier_model_summary.head()"
   ]
  },
  {
   "cell_type": "markdown",
   "id": "unlimited-victory",
   "metadata": {
    "papermill": {
     "duration": 0.006007,
     "end_time": "2021-05-11T19:09:56.949763",
     "exception": false,
     "start_time": "2021-05-11T19:09:56.943756",
     "status": "completed"
    },
    "tags": []
   },
   "source": [
    "# Load data"
   ]
  },
  {
   "cell_type": "markdown",
   "id": "massive-trading",
   "metadata": {
    "papermill": {
     "duration": 0.005873,
     "end_time": "2021-05-11T19:09:56.961602",
     "exception": false,
     "start_time": "2021-05-11T19:09:56.955729",
     "status": "completed"
    },
    "tags": []
   },
   "source": [
    "## Original data"
   ]
  },
  {
   "cell_type": "code",
   "execution_count": 10,
   "id": "spare-jerusalem",
   "metadata": {
    "papermill": {
     "duration": 0.019571,
     "end_time": "2021-05-11T19:09:56.987255",
     "exception": false,
     "start_time": "2021-05-11T19:09:56.967684",
     "status": "completed"
    },
    "tags": []
   },
   "outputs": [],
   "source": [
    "INPUT_SUBSET = \"z_score_std\""
   ]
  },
  {
   "cell_type": "code",
   "execution_count": 11,
   "id": "reliable-detector",
   "metadata": {
    "papermill": {
     "duration": 0.019175,
     "end_time": "2021-05-11T19:09:57.025099",
     "exception": false,
     "start_time": "2021-05-11T19:09:57.005924",
     "status": "completed"
    },
    "tags": []
   },
   "outputs": [],
   "source": [
    "INPUT_STEM = \"projection-smultixcan-efo_partial-mashr-zscores\""
   ]
  },
  {
   "cell_type": "code",
   "execution_count": 12,
   "id": "going-nebraska",
   "metadata": {
    "papermill": {
     "duration": 0.020992,
     "end_time": "2021-05-11T19:09:57.052255",
     "exception": false,
     "start_time": "2021-05-11T19:09:57.031263",
     "status": "completed"
    },
    "tags": []
   },
   "outputs": [
    {
     "data": {
      "text/plain": [
       "PosixPath('/home/miltondp/projects/labs/greenelab/phenoplier/bases_data/base_orig/results/data_transformations/z_score_std/z_score_std-projection-smultixcan-efo_partial-mashr-zscores.pkl')"
      ]
     },
     "metadata": {},
     "output_type": "display_data"
    },
    {
     "data": {
      "text/plain": [
       "'z_score_std-projection-smultixcan-efo_partial-mashr-zscores'"
      ]
     },
     "metadata": {},
     "output_type": "display_data"
    }
   ],
   "source": [
    "input_filepath = Path(\n",
    "    conf.RESULTS[\"DATA_TRANSFORMATIONS_DIR\"],\n",
    "    INPUT_SUBSET,\n",
    "    f\"{INPUT_SUBSET}-{INPUT_STEM}.pkl\",\n",
    ").resolve()\n",
    "display(input_filepath)\n",
    "\n",
    "assert input_filepath.exists(), \"Input file does not exist\"\n",
    "\n",
    "input_filepath_stem = input_filepath.stem\n",
    "display(input_filepath_stem)"
   ]
  },
  {
   "cell_type": "code",
   "execution_count": 13,
   "id": "expired-pride",
   "metadata": {
    "papermill": {
     "duration": 0.032337,
     "end_time": "2021-05-11T19:09:57.090585",
     "exception": false,
     "start_time": "2021-05-11T19:09:57.058248",
     "status": "completed"
    },
    "tags": []
   },
   "outputs": [],
   "source": [
    "data = pd.read_pickle(input_filepath)"
   ]
  },
  {
   "cell_type": "code",
   "execution_count": 14,
   "id": "connected-baker",
   "metadata": {
    "papermill": {
     "duration": 0.01967,
     "end_time": "2021-05-11T19:09:57.116292",
     "exception": false,
     "start_time": "2021-05-11T19:09:57.096622",
     "status": "completed"
    },
    "tags": []
   },
   "outputs": [
    {
     "data": {
      "text/plain": [
       "(3752, 987)"
      ]
     },
     "execution_count": 14,
     "metadata": {},
     "output_type": "execute_result"
    }
   ],
   "source": [
    "data.shape"
   ]
  },
  {
   "cell_type": "code",
   "execution_count": 15,
   "id": "subject-cornell",
   "metadata": {
    "papermill": {
     "duration": 0.031843,
     "end_time": "2021-05-11T19:09:57.154356",
     "exception": false,
     "start_time": "2021-05-11T19:09:57.122513",
     "status": "completed"
    },
    "tags": []
   },
   "outputs": [
    {
     "data": {
      "text/html": [
       "<div>\n",
       "<style scoped>\n",
       "    .dataframe tbody tr th:only-of-type {\n",
       "        vertical-align: middle;\n",
       "    }\n",
       "\n",
       "    .dataframe tbody tr th {\n",
       "        vertical-align: top;\n",
       "    }\n",
       "\n",
       "    .dataframe thead th {\n",
       "        text-align: right;\n",
       "    }\n",
       "</style>\n",
       "<table border=\"1\" class=\"dataframe\">\n",
       "  <thead>\n",
       "    <tr style=\"text-align: right;\">\n",
       "      <th></th>\n",
       "      <th>LV1</th>\n",
       "      <th>LV2</th>\n",
       "      <th>LV3</th>\n",
       "      <th>LV4</th>\n",
       "      <th>LV5</th>\n",
       "      <th>LV6</th>\n",
       "      <th>LV7</th>\n",
       "      <th>LV8</th>\n",
       "      <th>LV9</th>\n",
       "      <th>LV10</th>\n",
       "      <th>...</th>\n",
       "      <th>LV978</th>\n",
       "      <th>LV979</th>\n",
       "      <th>LV980</th>\n",
       "      <th>LV981</th>\n",
       "      <th>LV982</th>\n",
       "      <th>LV983</th>\n",
       "      <th>LV984</th>\n",
       "      <th>LV985</th>\n",
       "      <th>LV986</th>\n",
       "      <th>LV987</th>\n",
       "    </tr>\n",
       "  </thead>\n",
       "  <tbody>\n",
       "    <tr>\n",
       "      <th>100001_raw-Food_weight</th>\n",
       "      <td>-0.695006</td>\n",
       "      <td>1.962565</td>\n",
       "      <td>0.057683</td>\n",
       "      <td>0.878731</td>\n",
       "      <td>-0.539977</td>\n",
       "      <td>1.481272</td>\n",
       "      <td>-0.396422</td>\n",
       "      <td>1.090180</td>\n",
       "      <td>0.759223</td>\n",
       "      <td>0.931395</td>\n",
       "      <td>...</td>\n",
       "      <td>1.129784</td>\n",
       "      <td>1.752343</td>\n",
       "      <td>-1.411403</td>\n",
       "      <td>2.823863</td>\n",
       "      <td>0.931116</td>\n",
       "      <td>-1.054519</td>\n",
       "      <td>0.432982</td>\n",
       "      <td>-0.633597</td>\n",
       "      <td>0.554279</td>\n",
       "      <td>-0.642479</td>\n",
       "    </tr>\n",
       "    <tr>\n",
       "      <th>100002_raw-Energy</th>\n",
       "      <td>-1.528127</td>\n",
       "      <td>-0.345309</td>\n",
       "      <td>-0.148953</td>\n",
       "      <td>-0.242060</td>\n",
       "      <td>0.373427</td>\n",
       "      <td>0.791092</td>\n",
       "      <td>0.263477</td>\n",
       "      <td>0.987702</td>\n",
       "      <td>0.354391</td>\n",
       "      <td>1.416059</td>\n",
       "      <td>...</td>\n",
       "      <td>0.224604</td>\n",
       "      <td>0.769882</td>\n",
       "      <td>-0.509482</td>\n",
       "      <td>0.091153</td>\n",
       "      <td>2.286789</td>\n",
       "      <td>-1.008256</td>\n",
       "      <td>-0.029764</td>\n",
       "      <td>1.737229</td>\n",
       "      <td>-0.272107</td>\n",
       "      <td>-0.526125</td>\n",
       "    </tr>\n",
       "    <tr>\n",
       "      <th>100003_raw-Protein</th>\n",
       "      <td>-0.704572</td>\n",
       "      <td>-1.011299</td>\n",
       "      <td>0.671420</td>\n",
       "      <td>0.143991</td>\n",
       "      <td>0.615212</td>\n",
       "      <td>0.874212</td>\n",
       "      <td>-0.040998</td>\n",
       "      <td>0.915170</td>\n",
       "      <td>0.254369</td>\n",
       "      <td>-0.084237</td>\n",
       "      <td>...</td>\n",
       "      <td>1.003019</td>\n",
       "      <td>1.044314</td>\n",
       "      <td>-2.376108</td>\n",
       "      <td>0.004778</td>\n",
       "      <td>0.053714</td>\n",
       "      <td>-0.892447</td>\n",
       "      <td>-0.183800</td>\n",
       "      <td>1.377991</td>\n",
       "      <td>-0.278794</td>\n",
       "      <td>-0.419733</td>\n",
       "    </tr>\n",
       "    <tr>\n",
       "      <th>100004_raw-Fat</th>\n",
       "      <td>-0.989832</td>\n",
       "      <td>-1.875490</td>\n",
       "      <td>0.261555</td>\n",
       "      <td>-1.420719</td>\n",
       "      <td>0.366238</td>\n",
       "      <td>1.167049</td>\n",
       "      <td>0.257387</td>\n",
       "      <td>0.717674</td>\n",
       "      <td>-0.997664</td>\n",
       "      <td>0.969825</td>\n",
       "      <td>...</td>\n",
       "      <td>0.585913</td>\n",
       "      <td>0.638314</td>\n",
       "      <td>0.119139</td>\n",
       "      <td>-0.140204</td>\n",
       "      <td>1.394326</td>\n",
       "      <td>-1.173402</td>\n",
       "      <td>0.555058</td>\n",
       "      <td>1.013982</td>\n",
       "      <td>-0.544506</td>\n",
       "      <td>-0.064061</td>\n",
       "    </tr>\n",
       "    <tr>\n",
       "      <th>100005_raw-Carbohydrate</th>\n",
       "      <td>-0.580143</td>\n",
       "      <td>0.243335</td>\n",
       "      <td>0.158966</td>\n",
       "      <td>-0.036558</td>\n",
       "      <td>0.068176</td>\n",
       "      <td>-0.202639</td>\n",
       "      <td>1.101281</td>\n",
       "      <td>0.675227</td>\n",
       "      <td>1.463432</td>\n",
       "      <td>1.010078</td>\n",
       "      <td>...</td>\n",
       "      <td>-0.249108</td>\n",
       "      <td>-0.026814</td>\n",
       "      <td>0.232713</td>\n",
       "      <td>0.323682</td>\n",
       "      <td>1.168642</td>\n",
       "      <td>-0.282935</td>\n",
       "      <td>0.653105</td>\n",
       "      <td>1.909526</td>\n",
       "      <td>0.199997</td>\n",
       "      <td>-1.656894</td>\n",
       "    </tr>\n",
       "  </tbody>\n",
       "</table>\n",
       "<p>5 rows × 987 columns</p>\n",
       "</div>"
      ],
      "text/plain": [
       "                              LV1       LV2       LV3       LV4       LV5  \\\n",
       "100001_raw-Food_weight  -0.695006  1.962565  0.057683  0.878731 -0.539977   \n",
       "100002_raw-Energy       -1.528127 -0.345309 -0.148953 -0.242060  0.373427   \n",
       "100003_raw-Protein      -0.704572 -1.011299  0.671420  0.143991  0.615212   \n",
       "100004_raw-Fat          -0.989832 -1.875490  0.261555 -1.420719  0.366238   \n",
       "100005_raw-Carbohydrate -0.580143  0.243335  0.158966 -0.036558  0.068176   \n",
       "\n",
       "                              LV6       LV7       LV8       LV9      LV10  \\\n",
       "100001_raw-Food_weight   1.481272 -0.396422  1.090180  0.759223  0.931395   \n",
       "100002_raw-Energy        0.791092  0.263477  0.987702  0.354391  1.416059   \n",
       "100003_raw-Protein       0.874212 -0.040998  0.915170  0.254369 -0.084237   \n",
       "100004_raw-Fat           1.167049  0.257387  0.717674 -0.997664  0.969825   \n",
       "100005_raw-Carbohydrate -0.202639  1.101281  0.675227  1.463432  1.010078   \n",
       "\n",
       "                         ...     LV978     LV979     LV980     LV981  \\\n",
       "100001_raw-Food_weight   ...  1.129784  1.752343 -1.411403  2.823863   \n",
       "100002_raw-Energy        ...  0.224604  0.769882 -0.509482  0.091153   \n",
       "100003_raw-Protein       ...  1.003019  1.044314 -2.376108  0.004778   \n",
       "100004_raw-Fat           ...  0.585913  0.638314  0.119139 -0.140204   \n",
       "100005_raw-Carbohydrate  ... -0.249108 -0.026814  0.232713  0.323682   \n",
       "\n",
       "                            LV982     LV983     LV984     LV985     LV986  \\\n",
       "100001_raw-Food_weight   0.931116 -1.054519  0.432982 -0.633597  0.554279   \n",
       "100002_raw-Energy        2.286789 -1.008256 -0.029764  1.737229 -0.272107   \n",
       "100003_raw-Protein       0.053714 -0.892447 -0.183800  1.377991 -0.278794   \n",
       "100004_raw-Fat           1.394326 -1.173402  0.555058  1.013982 -0.544506   \n",
       "100005_raw-Carbohydrate  1.168642 -0.282935  0.653105  1.909526  0.199997   \n",
       "\n",
       "                            LV987  \n",
       "100001_raw-Food_weight  -0.642479  \n",
       "100002_raw-Energy       -0.526125  \n",
       "100003_raw-Protein      -0.419733  \n",
       "100004_raw-Fat          -0.064061  \n",
       "100005_raw-Carbohydrate -1.656894  \n",
       "\n",
       "[5 rows x 987 columns]"
      ]
     },
     "execution_count": 15,
     "metadata": {},
     "output_type": "execute_result"
    }
   ],
   "source": [
    "data.head()"
   ]
  },
  {
   "cell_type": "markdown",
   "id": "surprising-conviction",
   "metadata": {},
   "source": [
    "## LV data"
   ]
  },
  {
   "cell_type": "code",
   "execution_count": 16,
   "id": "general-defensive",
   "metadata": {},
   "outputs": [],
   "source": [
    "lv_obj = LVAnalysis(LV_NAME, data)"
   ]
  },
  {
   "cell_type": "code",
   "execution_count": 17,
   "id": "brief-austin",
   "metadata": {},
   "outputs": [
    {
     "name": "stderr",
     "output_type": "stream",
     "text": [
      "[2021-08-02 13:47:49,060 - numexpr.utils] INFO: NumExpr defaulting to 8 threads.\n"
     ]
    },
    {
     "data": {
      "text/html": [
       "<div>\n",
       "<style scoped>\n",
       "    .dataframe tbody tr th:only-of-type {\n",
       "        vertical-align: middle;\n",
       "    }\n",
       "\n",
       "    .dataframe tbody tr th {\n",
       "        vertical-align: top;\n",
       "    }\n",
       "\n",
       "    .dataframe thead th {\n",
       "        text-align: right;\n",
       "    }\n",
       "</style>\n",
       "<table border=\"1\" class=\"dataframe\">\n",
       "  <thead>\n",
       "    <tr style=\"text-align: right;\">\n",
       "      <th></th>\n",
       "      <th>pathway</th>\n",
       "      <th>LV index</th>\n",
       "      <th>AUC</th>\n",
       "      <th>p-value</th>\n",
       "      <th>FDR</th>\n",
       "    </tr>\n",
       "  </thead>\n",
       "  <tbody>\n",
       "    <tr>\n",
       "      <th>160</th>\n",
       "      <td>DMAP_ERY3</td>\n",
       "      <td>30</td>\n",
       "      <td>0.949372</td>\n",
       "      <td>2.606235e-55</td>\n",
       "      <td>5.621648e-52</td>\n",
       "    </tr>\n",
       "    <tr>\n",
       "      <th>161</th>\n",
       "      <td>DMAP_ERY4</td>\n",
       "      <td>30</td>\n",
       "      <td>0.983727</td>\n",
       "      <td>4.892627e-54</td>\n",
       "      <td>5.276698e-51</td>\n",
       "    </tr>\n",
       "    <tr>\n",
       "      <th>162</th>\n",
       "      <td>DMAP_ERY5</td>\n",
       "      <td>30</td>\n",
       "      <td>0.975559</td>\n",
       "      <td>2.727078e-52</td>\n",
       "      <td>1.960769e-49</td>\n",
       "    </tr>\n",
       "  </tbody>\n",
       "</table>\n",
       "</div>"
      ],
      "text/plain": [
       "       pathway LV index       AUC       p-value           FDR\n",
       "160  DMAP_ERY3       30  0.949372  2.606235e-55  5.621648e-52\n",
       "161  DMAP_ERY4       30  0.983727  4.892627e-54  5.276698e-51\n",
       "162  DMAP_ERY5       30  0.975559  2.727078e-52  1.960769e-49"
      ]
     },
     "execution_count": 17,
     "metadata": {},
     "output_type": "execute_result"
    }
   ],
   "source": [
    "multiplier_model_summary[\n",
    "    multiplier_model_summary[\"LV index\"].isin((LV_NAME[2:],))\n",
    "    & (\n",
    "        (multiplier_model_summary[\"FDR\"] < 0.05)\n",
    "        | (multiplier_model_summary[\"AUC\"] >= 0.75)\n",
    "    )\n",
    "]"
   ]
  },
  {
   "cell_type": "code",
   "execution_count": 18,
   "id": "blessed-pollution",
   "metadata": {},
   "outputs": [
    {
     "name": "stdout",
     "output_type": "stream",
     "text": [
      "SRP035312, SRP034711, SRP056295, SRP036133, SRP022133, SRP050260, SRP059172, SRP015138, SRP055513, SRP046233, SRP032775, SRP063834, SRP012461, SRP050272, SRP051675, SRP015439, SRP041988, SRP063493, SRP063477, SRP033266, SRP003227, SRP048759, SRP005281, SRP061689, SRP050000, SRP056840, SRP058654, SRP050493, SRP050333, SRP007947, SRP014620, SRP057196, SRP033135, SRP036843, SRP018028, SRP059039, SRP055569, SRP057500, SRP066151, SRP009247, SRP041751, SRP009862, SRP060416, SRP045500, SRP007338, SRP049820, SRP024244, SRP052874, SRP050499, SRP066834, SRP002326, SRP029990, SRP047192, SRP062966, SRP018403, SRP050440, "
     ]
    },
    {
     "name": "stderr",
     "output_type": "stream",
     "text": [
      "/home/miltondp/projects/labs/greenelab/phenoplier/libs/data/recount2.py:320: UserWarning: Not all experiments data could be loaded (55 != 56)\n",
      "  warnings.warn(\n"
     ]
    }
   ],
   "source": [
    "lv_data = lv_obj.get_experiments_data()"
   ]
  },
  {
   "cell_type": "code",
   "execution_count": 19,
   "id": "negative-peace",
   "metadata": {},
   "outputs": [
    {
     "data": {
      "text/plain": [
       "(6979, 98)"
      ]
     },
     "execution_count": 19,
     "metadata": {},
     "output_type": "execute_result"
    }
   ],
   "source": [
    "lv_data.shape"
   ]
  },
  {
   "cell_type": "code",
   "execution_count": 20,
   "id": "serious-reflection",
   "metadata": {},
   "outputs": [
    {
     "data": {
      "text/html": [
       "<div>\n",
       "<style scoped>\n",
       "    .dataframe tbody tr th:only-of-type {\n",
       "        vertical-align: middle;\n",
       "    }\n",
       "\n",
       "    .dataframe tbody tr th {\n",
       "        vertical-align: top;\n",
       "    }\n",
       "\n",
       "    .dataframe thead th {\n",
       "        text-align: right;\n",
       "    }\n",
       "</style>\n",
       "<table border=\"1\" class=\"dataframe\">\n",
       "  <thead>\n",
       "    <tr style=\"text-align: right;\">\n",
       "      <th></th>\n",
       "      <th></th>\n",
       "      <th>strain</th>\n",
       "      <th>tissue</th>\n",
       "      <th>surface markers to isolate cells by facs-based methods</th>\n",
       "      <th>cell type</th>\n",
       "      <th>differentiation stage</th>\n",
       "      <th>cell composition</th>\n",
       "      <th>differentiation day</th>\n",
       "      <th>time</th>\n",
       "      <th>age</th>\n",
       "      <th>developmental stage</th>\n",
       "      <th>...</th>\n",
       "      <th>time in culture</th>\n",
       "      <th>Stage</th>\n",
       "      <th>diagnosis</th>\n",
       "      <th>pre- or post-challenge</th>\n",
       "      <th>disease status</th>\n",
       "      <th>anti-ro</th>\n",
       "      <th>ism</th>\n",
       "      <th>genotype/variation</th>\n",
       "      <th>activation</th>\n",
       "      <th>LV30</th>\n",
       "    </tr>\n",
       "    <tr>\n",
       "      <th>project</th>\n",
       "      <th>run</th>\n",
       "      <th></th>\n",
       "      <th></th>\n",
       "      <th></th>\n",
       "      <th></th>\n",
       "      <th></th>\n",
       "      <th></th>\n",
       "      <th></th>\n",
       "      <th></th>\n",
       "      <th></th>\n",
       "      <th></th>\n",
       "      <th></th>\n",
       "      <th></th>\n",
       "      <th></th>\n",
       "      <th></th>\n",
       "      <th></th>\n",
       "      <th></th>\n",
       "      <th></th>\n",
       "      <th></th>\n",
       "      <th></th>\n",
       "      <th></th>\n",
       "      <th></th>\n",
       "    </tr>\n",
       "  </thead>\n",
       "  <tbody>\n",
       "    <tr>\n",
       "      <th rowspan=\"5\" valign=\"top\">SRP035312</th>\n",
       "      <th>SRR1106084</th>\n",
       "      <td>Cultured CD34+ cells</td>\n",
       "      <td>Cord blood</td>\n",
       "      <td>GPA low, Band3 negative and alpha 4 integrin high</td>\n",
       "      <td>proerythroblast</td>\n",
       "      <td>NaN</td>\n",
       "      <td>NaN</td>\n",
       "      <td>NaN</td>\n",
       "      <td>NaN</td>\n",
       "      <td>NaN</td>\n",
       "      <td>NaN</td>\n",
       "      <td>...</td>\n",
       "      <td>NaN</td>\n",
       "      <td>NaN</td>\n",
       "      <td>NaN</td>\n",
       "      <td>NaN</td>\n",
       "      <td>NaN</td>\n",
       "      <td>NaN</td>\n",
       "      <td>NaN</td>\n",
       "      <td>NaN</td>\n",
       "      <td>NaN</td>\n",
       "      <td>0.214689</td>\n",
       "    </tr>\n",
       "    <tr>\n",
       "      <th>SRR1106085</th>\n",
       "      <td>Cultured CD34+ cells</td>\n",
       "      <td>Cord blood</td>\n",
       "      <td>GPA low, Band3 negative and alpha 4 integrin high</td>\n",
       "      <td>proerythroblast</td>\n",
       "      <td>NaN</td>\n",
       "      <td>NaN</td>\n",
       "      <td>NaN</td>\n",
       "      <td>NaN</td>\n",
       "      <td>NaN</td>\n",
       "      <td>NaN</td>\n",
       "      <td>...</td>\n",
       "      <td>NaN</td>\n",
       "      <td>NaN</td>\n",
       "      <td>NaN</td>\n",
       "      <td>NaN</td>\n",
       "      <td>NaN</td>\n",
       "      <td>NaN</td>\n",
       "      <td>NaN</td>\n",
       "      <td>NaN</td>\n",
       "      <td>NaN</td>\n",
       "      <td>0.219089</td>\n",
       "    </tr>\n",
       "    <tr>\n",
       "      <th>SRR1106087</th>\n",
       "      <td>Cultured CD34+ cells</td>\n",
       "      <td>Cord blood</td>\n",
       "      <td>GPA positive, Band3 medium and alpha 4 integri...</td>\n",
       "      <td>early basophilic erythroblast</td>\n",
       "      <td>NaN</td>\n",
       "      <td>NaN</td>\n",
       "      <td>NaN</td>\n",
       "      <td>NaN</td>\n",
       "      <td>NaN</td>\n",
       "      <td>NaN</td>\n",
       "      <td>...</td>\n",
       "      <td>NaN</td>\n",
       "      <td>NaN</td>\n",
       "      <td>NaN</td>\n",
       "      <td>NaN</td>\n",
       "      <td>NaN</td>\n",
       "      <td>NaN</td>\n",
       "      <td>NaN</td>\n",
       "      <td>NaN</td>\n",
       "      <td>NaN</td>\n",
       "      <td>0.559072</td>\n",
       "    </tr>\n",
       "    <tr>\n",
       "      <th>SRR1106086</th>\n",
       "      <td>Cultured CD34+ cells</td>\n",
       "      <td>Cord blood</td>\n",
       "      <td>GPA low, Band3 negative and alpha 4 integrin high</td>\n",
       "      <td>proerythroblast</td>\n",
       "      <td>NaN</td>\n",
       "      <td>NaN</td>\n",
       "      <td>NaN</td>\n",
       "      <td>NaN</td>\n",
       "      <td>NaN</td>\n",
       "      <td>NaN</td>\n",
       "      <td>...</td>\n",
       "      <td>NaN</td>\n",
       "      <td>NaN</td>\n",
       "      <td>NaN</td>\n",
       "      <td>NaN</td>\n",
       "      <td>NaN</td>\n",
       "      <td>NaN</td>\n",
       "      <td>NaN</td>\n",
       "      <td>NaN</td>\n",
       "      <td>NaN</td>\n",
       "      <td>0.184955</td>\n",
       "    </tr>\n",
       "    <tr>\n",
       "      <th>SRR1106089</th>\n",
       "      <td>Cultured CD34+ cells</td>\n",
       "      <td>Cord blood</td>\n",
       "      <td>GPA positive, Band3 medium and alpha 4 integri...</td>\n",
       "      <td>early basophilic erythroblast</td>\n",
       "      <td>NaN</td>\n",
       "      <td>NaN</td>\n",
       "      <td>NaN</td>\n",
       "      <td>NaN</td>\n",
       "      <td>NaN</td>\n",
       "      <td>NaN</td>\n",
       "      <td>...</td>\n",
       "      <td>NaN</td>\n",
       "      <td>NaN</td>\n",
       "      <td>NaN</td>\n",
       "      <td>NaN</td>\n",
       "      <td>NaN</td>\n",
       "      <td>NaN</td>\n",
       "      <td>NaN</td>\n",
       "      <td>NaN</td>\n",
       "      <td>NaN</td>\n",
       "      <td>0.331750</td>\n",
       "    </tr>\n",
       "  </tbody>\n",
       "</table>\n",
       "<p>5 rows × 98 columns</p>\n",
       "</div>"
      ],
      "text/plain": [
       "                                    strain      tissue  \\\n",
       "project   run                                            \n",
       "SRP035312 SRR1106084  Cultured CD34+ cells  Cord blood   \n",
       "          SRR1106085  Cultured CD34+ cells  Cord blood   \n",
       "          SRR1106087  Cultured CD34+ cells  Cord blood   \n",
       "          SRR1106086  Cultured CD34+ cells  Cord blood   \n",
       "          SRR1106089  Cultured CD34+ cells  Cord blood   \n",
       "\n",
       "                     surface markers to isolate cells by facs-based methods  \\\n",
       "project   run                                                                 \n",
       "SRP035312 SRR1106084  GPA low, Band3 negative and alpha 4 integrin high       \n",
       "          SRR1106085  GPA low, Band3 negative and alpha 4 integrin high       \n",
       "          SRR1106087  GPA positive, Band3 medium and alpha 4 integri...       \n",
       "          SRR1106086  GPA low, Band3 negative and alpha 4 integrin high       \n",
       "          SRR1106089  GPA positive, Band3 medium and alpha 4 integri...       \n",
       "\n",
       "                                          cell type differentiation stage  \\\n",
       "project   run                                                               \n",
       "SRP035312 SRR1106084                proerythroblast                   NaN   \n",
       "          SRR1106085                proerythroblast                   NaN   \n",
       "          SRR1106087  early basophilic erythroblast                   NaN   \n",
       "          SRR1106086                proerythroblast                   NaN   \n",
       "          SRR1106089  early basophilic erythroblast                   NaN   \n",
       "\n",
       "                     cell composition differentiation day time  age  \\\n",
       "project   run                                                         \n",
       "SRP035312 SRR1106084              NaN                 NaN  NaN  NaN   \n",
       "          SRR1106085              NaN                 NaN  NaN  NaN   \n",
       "          SRR1106087              NaN                 NaN  NaN  NaN   \n",
       "          SRR1106086              NaN                 NaN  NaN  NaN   \n",
       "          SRR1106089              NaN                 NaN  NaN  NaN   \n",
       "\n",
       "                     developmental stage  ... time in culture Stage diagnosis  \\\n",
       "project   run                             ...                                   \n",
       "SRP035312 SRR1106084                 NaN  ...             NaN   NaN       NaN   \n",
       "          SRR1106085                 NaN  ...             NaN   NaN       NaN   \n",
       "          SRR1106087                 NaN  ...             NaN   NaN       NaN   \n",
       "          SRR1106086                 NaN  ...             NaN   NaN       NaN   \n",
       "          SRR1106089                 NaN  ...             NaN   NaN       NaN   \n",
       "\n",
       "                     pre- or post-challenge disease status anti-ro  ism  \\\n",
       "project   run                                                             \n",
       "SRP035312 SRR1106084                    NaN            NaN     NaN  NaN   \n",
       "          SRR1106085                    NaN            NaN     NaN  NaN   \n",
       "          SRR1106087                    NaN            NaN     NaN  NaN   \n",
       "          SRR1106086                    NaN            NaN     NaN  NaN   \n",
       "          SRR1106089                    NaN            NaN     NaN  NaN   \n",
       "\n",
       "                     genotype/variation activation      LV30  \n",
       "project   run                                                 \n",
       "SRP035312 SRR1106084                NaN        NaN  0.214689  \n",
       "          SRR1106085                NaN        NaN  0.219089  \n",
       "          SRR1106087                NaN        NaN  0.559072  \n",
       "          SRR1106086                NaN        NaN  0.184955  \n",
       "          SRR1106089                NaN        NaN  0.331750  \n",
       "\n",
       "[5 rows x 98 columns]"
      ]
     },
     "execution_count": 20,
     "metadata": {},
     "output_type": "execute_result"
    }
   ],
   "source": [
    "lv_data.head()"
   ]
  },
  {
   "cell_type": "markdown",
   "id": "refined-perfume",
   "metadata": {},
   "source": [
    "# LV cell types analysis"
   ]
  },
  {
   "cell_type": "markdown",
   "id": "bulgarian-kingdom",
   "metadata": {},
   "source": [
    "## Get top attributes"
   ]
  },
  {
   "cell_type": "code",
   "execution_count": 21,
   "id": "nervous-compensation",
   "metadata": {},
   "outputs": [
    {
     "data": {
      "text/plain": [
       "strain                                                    1.944459\n",
       "surface markers to isolate cells by facs-based methods    1.944459\n",
       "differentiation stage                                     1.503909\n",
       "cell composition                                          0.231068\n",
       "differentiation day                                       0.231068\n",
       "time                                                      0.079236\n",
       "resonse to decitabine                                     0.063021\n",
       "cytogenetics                                              0.055360\n",
       "type of chronic myelomonocytic leukemia                   0.055360\n",
       "mutation                                                  0.055360\n",
       "time in culture                                           0.044977\n",
       "cell sorted                                               0.044977\n",
       "condition                                                 0.036404\n",
       "disease state                                             0.030029\n",
       "tissue                                                    0.029866\n",
       "gestational age                                           0.028578\n",
       "trimester                                                 0.028578\n",
       "Sex                                                       0.028578\n",
       "sf3b1 mutation                                            0.023901\n",
       "cell type                                                 0.023700\n",
       "dtype: float64"
      ]
     },
     "metadata": {},
     "output_type": "display_data"
    }
   ],
   "source": [
    "lv_attrs = lv_obj.get_attributes_variation_score()\n",
    "display(lv_attrs.head(20))"
   ]
  },
  {
   "cell_type": "code",
   "execution_count": 22,
   "id": "minor-studio",
   "metadata": {},
   "outputs": [
    {
     "data": {
      "text/plain": [
       "tissue       0.029866\n",
       "cell type    0.023700\n",
       "dtype: float64"
      ]
     },
     "execution_count": 22,
     "metadata": {},
     "output_type": "execute_result"
    }
   ],
   "source": [
    "# show those with cell type or tissue in their name\n",
    "_tmp = pd.Series(lv_attrs.index)\n",
    "lv_attrs[\n",
    "    _tmp.str.match(\n",
    "        \"(?:cell.+type$)|(?:tissue$)|(?:tissue.+type$)\",\n",
    "        case=False,\n",
    "        flags=re.IGNORECASE,\n",
    "    ).values\n",
    "].sort_values(ascending=False)"
   ]
  },
  {
   "cell_type": "code",
   "execution_count": 23,
   "id": "killing-expansion",
   "metadata": {},
   "outputs": [],
   "source": [
    "_tmp = lv_data.loc[\n",
    "    :,\n",
    "    [\n",
    "        \"cell type\",\n",
    "        \"differentiation stage\",\n",
    "        \"tissue\",\n",
    "        LV_NAME,\n",
    "    ],\n",
    "]"
   ]
  },
  {
   "cell_type": "code",
   "execution_count": 24,
   "id": "iraqi-celebration",
   "metadata": {},
   "outputs": [],
   "source": [
    "_tmp_seq = list(chunker(_tmp.sort_values(LV_NAME, ascending=False), 25))"
   ]
  },
  {
   "cell_type": "code",
   "execution_count": 25,
   "id": "binding-cattle",
   "metadata": {},
   "outputs": [
    {
     "data": {
      "text/html": [
       "<div>\n",
       "<style scoped>\n",
       "    .dataframe tbody tr th:only-of-type {\n",
       "        vertical-align: middle;\n",
       "    }\n",
       "\n",
       "    .dataframe tbody tr th {\n",
       "        vertical-align: top;\n",
       "    }\n",
       "\n",
       "    .dataframe thead th {\n",
       "        text-align: right;\n",
       "    }\n",
       "</style>\n",
       "<table border=\"1\" class=\"dataframe\">\n",
       "  <thead>\n",
       "    <tr style=\"text-align: right;\">\n",
       "      <th></th>\n",
       "      <th></th>\n",
       "      <th>cell type</th>\n",
       "      <th>differentiation stage</th>\n",
       "      <th>tissue</th>\n",
       "      <th>LV30</th>\n",
       "    </tr>\n",
       "    <tr>\n",
       "      <th>project</th>\n",
       "      <th>run</th>\n",
       "      <th></th>\n",
       "      <th></th>\n",
       "      <th></th>\n",
       "      <th></th>\n",
       "    </tr>\n",
       "  </thead>\n",
       "  <tbody>\n",
       "    <tr>\n",
       "      <th>SRP035312</th>\n",
       "      <th>SRR1106097</th>\n",
       "      <td>orthochromatic erythroblast</td>\n",
       "      <td>NaN</td>\n",
       "      <td>Cord blood</td>\n",
       "      <td>3.904820</td>\n",
       "    </tr>\n",
       "    <tr>\n",
       "      <th rowspan=\"2\" valign=\"top\">SRP034711</th>\n",
       "      <th>SRR1057987</th>\n",
       "      <td>NaN</td>\n",
       "      <td>orthochromatophilic erythroblasts</td>\n",
       "      <td>NaN</td>\n",
       "      <td>3.896084</td>\n",
       "    </tr>\n",
       "    <tr>\n",
       "      <th>SRR1057992</th>\n",
       "      <td>NaN</td>\n",
       "      <td>orthochromatophilic erythroblasts</td>\n",
       "      <td>NaN</td>\n",
       "      <td>3.716563</td>\n",
       "    </tr>\n",
       "    <tr>\n",
       "      <th rowspan=\"2\" valign=\"top\">SRP035312</th>\n",
       "      <th>SRR1106098</th>\n",
       "      <td>orthochromatic erythroblast</td>\n",
       "      <td>NaN</td>\n",
       "      <td>Cord blood</td>\n",
       "      <td>3.702319</td>\n",
       "    </tr>\n",
       "    <tr>\n",
       "      <th>SRR1106096</th>\n",
       "      <td>orthochromatic erythroblast</td>\n",
       "      <td>NaN</td>\n",
       "      <td>Cord blood</td>\n",
       "      <td>3.026069</td>\n",
       "    </tr>\n",
       "    <tr>\n",
       "      <th rowspan=\"2\" valign=\"top\">SRP034711</th>\n",
       "      <th>SRR1057982</th>\n",
       "      <td>NaN</td>\n",
       "      <td>orthochromatophilic erythroblasts</td>\n",
       "      <td>NaN</td>\n",
       "      <td>3.022507</td>\n",
       "    </tr>\n",
       "    <tr>\n",
       "      <th>SRR1057991</th>\n",
       "      <td>NaN</td>\n",
       "      <td>polychromatophilic erythroblasts</td>\n",
       "      <td>NaN</td>\n",
       "      <td>2.991272</td>\n",
       "    </tr>\n",
       "    <tr>\n",
       "      <th>SRP035312</th>\n",
       "      <th>SRR1106095</th>\n",
       "      <td>polychromatic erythroblast</td>\n",
       "      <td>NaN</td>\n",
       "      <td>Cord blood</td>\n",
       "      <td>2.982417</td>\n",
       "    </tr>\n",
       "    <tr>\n",
       "      <th>SRP034711</th>\n",
       "      <th>SRR1057986</th>\n",
       "      <td>NaN</td>\n",
       "      <td>polychromatophilic erythroblasts</td>\n",
       "      <td>NaN</td>\n",
       "      <td>2.791095</td>\n",
       "    </tr>\n",
       "    <tr>\n",
       "      <th rowspan=\"2\" valign=\"top\">SRP035312</th>\n",
       "      <th>SRR1106094</th>\n",
       "      <td>polychromatic erythroblast</td>\n",
       "      <td>NaN</td>\n",
       "      <td>Cord blood</td>\n",
       "      <td>2.790727</td>\n",
       "    </tr>\n",
       "    <tr>\n",
       "      <th>SRR1106093</th>\n",
       "      <td>polychromatic erythroblast</td>\n",
       "      <td>NaN</td>\n",
       "      <td>Cord blood</td>\n",
       "      <td>2.464357</td>\n",
       "    </tr>\n",
       "    <tr>\n",
       "      <th>SRP034711</th>\n",
       "      <th>SRR1057981</th>\n",
       "      <td>NaN</td>\n",
       "      <td>polychromatophilic erythroblasts</td>\n",
       "      <td>NaN</td>\n",
       "      <td>2.463199</td>\n",
       "    </tr>\n",
       "    <tr>\n",
       "      <th rowspan=\"2\" valign=\"top\">SRP056295</th>\n",
       "      <th>SRR1918550</th>\n",
       "      <td>acute myeloid leukemia (AML) cells</td>\n",
       "      <td>NaN</td>\n",
       "      <td>Heparinised blood</td>\n",
       "      <td>1.343758</td>\n",
       "    </tr>\n",
       "    <tr>\n",
       "      <th>SRR1918549</th>\n",
       "      <td>acute myeloid leukemia (AML) cells</td>\n",
       "      <td>NaN</td>\n",
       "      <td>Heparinised blood</td>\n",
       "      <td>1.342473</td>\n",
       "    </tr>\n",
       "    <tr>\n",
       "      <th>SRP036133</th>\n",
       "      <th>SRR1153284</th>\n",
       "      <td>in vitro differentiated erythroid cells</td>\n",
       "      <td>NaN</td>\n",
       "      <td>NaN</td>\n",
       "      <td>1.288435</td>\n",
       "    </tr>\n",
       "    <tr>\n",
       "      <th>SRP035312</th>\n",
       "      <th>SRR1106090</th>\n",
       "      <td>late basophilic erythroblast</td>\n",
       "      <td>NaN</td>\n",
       "      <td>Cord blood</td>\n",
       "      <td>1.172599</td>\n",
       "    </tr>\n",
       "    <tr>\n",
       "      <th>SRP034711</th>\n",
       "      <th>SRR1057980</th>\n",
       "      <td>NaN</td>\n",
       "      <td>late basophilic erythroblasts</td>\n",
       "      <td>NaN</td>\n",
       "      <td>1.170231</td>\n",
       "    </tr>\n",
       "    <tr>\n",
       "      <th>SRP022133</th>\n",
       "      <th>SRR846955</th>\n",
       "      <td>NaN</td>\n",
       "      <td>NaN</td>\n",
       "      <td>whole blood</td>\n",
       "      <td>1.131776</td>\n",
       "    </tr>\n",
       "    <tr>\n",
       "      <th rowspan=\"2\" valign=\"top\">SRP050260</th>\n",
       "      <th>SRR1663125</th>\n",
       "      <td>NaN</td>\n",
       "      <td>NaN</td>\n",
       "      <td>liver</td>\n",
       "      <td>1.119884</td>\n",
       "    </tr>\n",
       "    <tr>\n",
       "      <th>SRR1663126</th>\n",
       "      <td>NaN</td>\n",
       "      <td>NaN</td>\n",
       "      <td>liver</td>\n",
       "      <td>1.093241</td>\n",
       "    </tr>\n",
       "    <tr>\n",
       "      <th>SRP059172</th>\n",
       "      <th>SRR2052794</th>\n",
       "      <td>NaN</td>\n",
       "      <td>NaN</td>\n",
       "      <td>Whole blood</td>\n",
       "      <td>1.056984</td>\n",
       "    </tr>\n",
       "    <tr>\n",
       "      <th>SRP036133</th>\n",
       "      <th>SRR1153281</th>\n",
       "      <td>in vitro differentiated erythroid cells</td>\n",
       "      <td>NaN</td>\n",
       "      <td>NaN</td>\n",
       "      <td>1.038069</td>\n",
       "    </tr>\n",
       "    <tr>\n",
       "      <th>SRP015138</th>\n",
       "      <th>SRR547607</th>\n",
       "      <td>primary CD34+ stem/progenitor cells</td>\n",
       "      <td>NaN</td>\n",
       "      <td>NaN</td>\n",
       "      <td>0.919010</td>\n",
       "    </tr>\n",
       "    <tr>\n",
       "      <th>SRP055513</th>\n",
       "      <th>SRR1818514</th>\n",
       "      <td>NaN</td>\n",
       "      <td>NaN</td>\n",
       "      <td>liver</td>\n",
       "      <td>0.917825</td>\n",
       "    </tr>\n",
       "    <tr>\n",
       "      <th>SRP046233</th>\n",
       "      <th>SRR1566098</th>\n",
       "      <td>bone marrow mononuclear cells (BM MNC)</td>\n",
       "      <td>NaN</td>\n",
       "      <td>NaN</td>\n",
       "      <td>0.894476</td>\n",
       "    </tr>\n",
       "  </tbody>\n",
       "</table>\n",
       "</div>"
      ],
      "text/plain": [
       "                                                    cell type  \\\n",
       "project   run                                                   \n",
       "SRP035312 SRR1106097              orthochromatic erythroblast   \n",
       "SRP034711 SRR1057987                                      NaN   \n",
       "          SRR1057992                                      NaN   \n",
       "SRP035312 SRR1106098              orthochromatic erythroblast   \n",
       "          SRR1106096              orthochromatic erythroblast   \n",
       "SRP034711 SRR1057982                                      NaN   \n",
       "          SRR1057991                                      NaN   \n",
       "SRP035312 SRR1106095               polychromatic erythroblast   \n",
       "SRP034711 SRR1057986                                      NaN   \n",
       "SRP035312 SRR1106094               polychromatic erythroblast   \n",
       "          SRR1106093               polychromatic erythroblast   \n",
       "SRP034711 SRR1057981                                      NaN   \n",
       "SRP056295 SRR1918550       acute myeloid leukemia (AML) cells   \n",
       "          SRR1918549       acute myeloid leukemia (AML) cells   \n",
       "SRP036133 SRR1153284  in vitro differentiated erythroid cells   \n",
       "SRP035312 SRR1106090             late basophilic erythroblast   \n",
       "SRP034711 SRR1057980                                      NaN   \n",
       "SRP022133 SRR846955                                       NaN   \n",
       "SRP050260 SRR1663125                                      NaN   \n",
       "          SRR1663126                                      NaN   \n",
       "SRP059172 SRR2052794                                      NaN   \n",
       "SRP036133 SRR1153281  in vitro differentiated erythroid cells   \n",
       "SRP015138 SRR547607       primary CD34+ stem/progenitor cells   \n",
       "SRP055513 SRR1818514                                      NaN   \n",
       "SRP046233 SRR1566098   bone marrow mononuclear cells (BM MNC)   \n",
       "\n",
       "                                  differentiation stage             tissue  \\\n",
       "project   run                                                                \n",
       "SRP035312 SRR1106097                                NaN         Cord blood   \n",
       "SRP034711 SRR1057987  orthochromatophilic erythroblasts                NaN   \n",
       "          SRR1057992  orthochromatophilic erythroblasts                NaN   \n",
       "SRP035312 SRR1106098                                NaN         Cord blood   \n",
       "          SRR1106096                                NaN         Cord blood   \n",
       "SRP034711 SRR1057982  orthochromatophilic erythroblasts                NaN   \n",
       "          SRR1057991   polychromatophilic erythroblasts                NaN   \n",
       "SRP035312 SRR1106095                                NaN         Cord blood   \n",
       "SRP034711 SRR1057986   polychromatophilic erythroblasts                NaN   \n",
       "SRP035312 SRR1106094                                NaN         Cord blood   \n",
       "          SRR1106093                                NaN         Cord blood   \n",
       "SRP034711 SRR1057981   polychromatophilic erythroblasts                NaN   \n",
       "SRP056295 SRR1918550                                NaN  Heparinised blood   \n",
       "          SRR1918549                                NaN  Heparinised blood   \n",
       "SRP036133 SRR1153284                                NaN                NaN   \n",
       "SRP035312 SRR1106090                                NaN         Cord blood   \n",
       "SRP034711 SRR1057980      late basophilic erythroblasts                NaN   \n",
       "SRP022133 SRR846955                                 NaN        whole blood   \n",
       "SRP050260 SRR1663125                                NaN              liver   \n",
       "          SRR1663126                                NaN              liver   \n",
       "SRP059172 SRR2052794                                NaN        Whole blood   \n",
       "SRP036133 SRR1153281                                NaN                NaN   \n",
       "SRP015138 SRR547607                                 NaN                NaN   \n",
       "SRP055513 SRR1818514                                NaN              liver   \n",
       "SRP046233 SRR1566098                                NaN                NaN   \n",
       "\n",
       "                          LV30  \n",
       "project   run                   \n",
       "SRP035312 SRR1106097  3.904820  \n",
       "SRP034711 SRR1057987  3.896084  \n",
       "          SRR1057992  3.716563  \n",
       "SRP035312 SRR1106098  3.702319  \n",
       "          SRR1106096  3.026069  \n",
       "SRP034711 SRR1057982  3.022507  \n",
       "          SRR1057991  2.991272  \n",
       "SRP035312 SRR1106095  2.982417  \n",
       "SRP034711 SRR1057986  2.791095  \n",
       "SRP035312 SRR1106094  2.790727  \n",
       "          SRR1106093  2.464357  \n",
       "SRP034711 SRR1057981  2.463199  \n",
       "SRP056295 SRR1918550  1.343758  \n",
       "          SRR1918549  1.342473  \n",
       "SRP036133 SRR1153284  1.288435  \n",
       "SRP035312 SRR1106090  1.172599  \n",
       "SRP034711 SRR1057980  1.170231  \n",
       "SRP022133 SRR846955   1.131776  \n",
       "SRP050260 SRR1663125  1.119884  \n",
       "          SRR1663126  1.093241  \n",
       "SRP059172 SRR2052794  1.056984  \n",
       "SRP036133 SRR1153281  1.038069  \n",
       "SRP015138 SRR547607   0.919010  \n",
       "SRP055513 SRR1818514  0.917825  \n",
       "SRP046233 SRR1566098  0.894476  "
      ]
     },
     "execution_count": 25,
     "metadata": {},
     "output_type": "execute_result"
    }
   ],
   "source": [
    "_tmp_seq[0]"
   ]
  },
  {
   "cell_type": "code",
   "execution_count": 26,
   "id": "documented-hundred",
   "metadata": {},
   "outputs": [
    {
     "data": {
      "text/html": [
       "<div>\n",
       "<style scoped>\n",
       "    .dataframe tbody tr th:only-of-type {\n",
       "        vertical-align: middle;\n",
       "    }\n",
       "\n",
       "    .dataframe tbody tr th {\n",
       "        vertical-align: top;\n",
       "    }\n",
       "\n",
       "    .dataframe thead th {\n",
       "        text-align: right;\n",
       "    }\n",
       "</style>\n",
       "<table border=\"1\" class=\"dataframe\">\n",
       "  <thead>\n",
       "    <tr style=\"text-align: right;\">\n",
       "      <th></th>\n",
       "      <th></th>\n",
       "      <th>treatment</th>\n",
       "      <th>cell line</th>\n",
       "      <th>disease state</th>\n",
       "      <th>sf3b1 mutation</th>\n",
       "      <th>LV30</th>\n",
       "    </tr>\n",
       "    <tr>\n",
       "      <th>project</th>\n",
       "      <th>run</th>\n",
       "      <th></th>\n",
       "      <th></th>\n",
       "      <th></th>\n",
       "      <th></th>\n",
       "      <th></th>\n",
       "    </tr>\n",
       "  </thead>\n",
       "  <tbody>\n",
       "    <tr>\n",
       "      <th rowspan=\"10\" valign=\"top\">SRP063493</th>\n",
       "      <th>SRR2313081</th>\n",
       "      <td>NaN</td>\n",
       "      <td>NaN</td>\n",
       "      <td>MDS</td>\n",
       "      <td>K700E</td>\n",
       "      <td>0.608661</td>\n",
       "    </tr>\n",
       "    <tr>\n",
       "      <th>SRR2313087</th>\n",
       "      <td>NaN</td>\n",
       "      <td>NaN</td>\n",
       "      <td>MDS</td>\n",
       "      <td>K700E</td>\n",
       "      <td>0.550191</td>\n",
       "    </tr>\n",
       "    <tr>\n",
       "      <th>SRR2313079</th>\n",
       "      <td>NaN</td>\n",
       "      <td>NaN</td>\n",
       "      <td>MDS</td>\n",
       "      <td>E622D</td>\n",
       "      <td>0.327609</td>\n",
       "    </tr>\n",
       "    <tr>\n",
       "      <th>SRR2313080</th>\n",
       "      <td>NaN</td>\n",
       "      <td>NaN</td>\n",
       "      <td>MDS</td>\n",
       "      <td>E622D</td>\n",
       "      <td>0.268452</td>\n",
       "    </tr>\n",
       "    <tr>\n",
       "      <th>SRR2313082</th>\n",
       "      <td>NaN</td>\n",
       "      <td>NaN</td>\n",
       "      <td>MDS</td>\n",
       "      <td>K700E</td>\n",
       "      <td>0.244418</td>\n",
       "    </tr>\n",
       "    <tr>\n",
       "      <th>SRR2313076</th>\n",
       "      <td>NaN</td>\n",
       "      <td>NaN</td>\n",
       "      <td>MDS</td>\n",
       "      <td>K700E</td>\n",
       "      <td>0.172439</td>\n",
       "    </tr>\n",
       "    <tr>\n",
       "      <th>SRR2313088</th>\n",
       "      <td>NaN</td>\n",
       "      <td>NaN</td>\n",
       "      <td>MDS</td>\n",
       "      <td>E622D</td>\n",
       "      <td>0.153668</td>\n",
       "    </tr>\n",
       "    <tr>\n",
       "      <th>SRR2313083</th>\n",
       "      <td>NaN</td>\n",
       "      <td>NaN</td>\n",
       "      <td>MDS</td>\n",
       "      <td>K700E</td>\n",
       "      <td>0.090227</td>\n",
       "    </tr>\n",
       "    <tr>\n",
       "      <th>SRR2313098</th>\n",
       "      <td>CHX</td>\n",
       "      <td>Nalm-6</td>\n",
       "      <td>NaN</td>\n",
       "      <td>NaN</td>\n",
       "      <td>0.026439</td>\n",
       "    </tr>\n",
       "    <tr>\n",
       "      <th>SRR2313070</th>\n",
       "      <td>NaN</td>\n",
       "      <td>NaN</td>\n",
       "      <td>CLL</td>\n",
       "      <td>NaN</td>\n",
       "      <td>0.025800</td>\n",
       "    </tr>\n",
       "  </tbody>\n",
       "</table>\n",
       "</div>"
      ],
      "text/plain": [
       "                     treatment cell line disease state sf3b1 mutation  \\\n",
       "project   run                                                           \n",
       "SRP063493 SRR2313081       NaN       NaN           MDS          K700E   \n",
       "          SRR2313087       NaN       NaN           MDS          K700E   \n",
       "          SRR2313079       NaN       NaN           MDS          E622D   \n",
       "          SRR2313080       NaN       NaN           MDS          E622D   \n",
       "          SRR2313082       NaN       NaN           MDS          K700E   \n",
       "          SRR2313076       NaN       NaN           MDS          K700E   \n",
       "          SRR2313088       NaN       NaN           MDS          E622D   \n",
       "          SRR2313083       NaN       NaN           MDS          K700E   \n",
       "          SRR2313098       CHX    Nalm-6           NaN            NaN   \n",
       "          SRR2313070       NaN       NaN           CLL            NaN   \n",
       "\n",
       "                          LV30  \n",
       "project   run                   \n",
       "SRP063493 SRR2313081  0.608661  \n",
       "          SRR2313087  0.550191  \n",
       "          SRR2313079  0.327609  \n",
       "          SRR2313080  0.268452  \n",
       "          SRR2313082  0.244418  \n",
       "          SRR2313076  0.172439  \n",
       "          SRR2313088  0.153668  \n",
       "          SRR2313083  0.090227  \n",
       "          SRR2313098  0.026439  \n",
       "          SRR2313070  0.025800  "
      ]
     },
     "execution_count": 26,
     "metadata": {},
     "output_type": "execute_result"
    }
   ],
   "source": [
    "# what is there in these projects?\n",
    "lv_data.loc[[\"SRP063493\"]].dropna(how=\"all\", axis=1).sort_values(\n",
    "    LV_NAME, ascending=False\n",
    ").sort_values(LV_NAME, ascending=False).head(10)"
   ]
  },
  {
   "cell_type": "code",
   "execution_count": 27,
   "id": "victorian-spider",
   "metadata": {},
   "outputs": [],
   "source": [
    "SELECTED_ATTRIBUTE = \"cell type\""
   ]
  },
  {
   "cell_type": "code",
   "execution_count": 28,
   "id": "outdoor-explosion",
   "metadata": {},
   "outputs": [],
   "source": [
    "# it has to be in the order desired for filling nans in the SELECTED_ATTRIBUTE\n",
    "SECOND_ATTRIBUTES = [\"differentiation stage\", \"tissue\"]"
   ]
  },
  {
   "cell_type": "markdown",
   "id": "compliant-frequency",
   "metadata": {},
   "source": [
    "## Get plot data"
   ]
  },
  {
   "cell_type": "code",
   "execution_count": 29,
   "id": "grateful-mongolia",
   "metadata": {},
   "outputs": [],
   "source": [
    "plot_data = lv_data.loc[:, [SELECTED_ATTRIBUTE] + SECOND_ATTRIBUTES + [LV_NAME]]"
   ]
  },
  {
   "cell_type": "code",
   "execution_count": 30,
   "id": "basic-convention",
   "metadata": {},
   "outputs": [],
   "source": [
    "# if blank/nan, fill cell type column with tissue content\n",
    "_new_column = plot_data[[SELECTED_ATTRIBUTE] + SECOND_ATTRIBUTES].fillna(\n",
    "    method=\"backfill\", axis=1\n",
    ")[SELECTED_ATTRIBUTE]\n",
    "plot_data[SELECTED_ATTRIBUTE] = _new_column\n",
    "plot_data = plot_data.drop(columns=SECOND_ATTRIBUTES)\n",
    "plot_data = plot_data.fillna({SELECTED_ATTRIBUTE: \"NOT CATEGORIZED\"})\n",
    "# plot_data = plot_data.dropna(subset=[SELECTED_ATTRIBUTE])"
   ]
  },
  {
   "cell_type": "code",
   "execution_count": 31,
   "id": "pleasant-aaron",
   "metadata": {},
   "outputs": [],
   "source": [
    "plot_data = plot_data.sort_values(LV_NAME, ascending=False)"
   ]
  },
  {
   "cell_type": "code",
   "execution_count": 32,
   "id": "cubic-howard",
   "metadata": {},
   "outputs": [
    {
     "data": {
      "text/html": [
       "<div>\n",
       "<style scoped>\n",
       "    .dataframe tbody tr th:only-of-type {\n",
       "        vertical-align: middle;\n",
       "    }\n",
       "\n",
       "    .dataframe tbody tr th {\n",
       "        vertical-align: top;\n",
       "    }\n",
       "\n",
       "    .dataframe thead th {\n",
       "        text-align: right;\n",
       "    }\n",
       "</style>\n",
       "<table border=\"1\" class=\"dataframe\">\n",
       "  <thead>\n",
       "    <tr style=\"text-align: right;\">\n",
       "      <th></th>\n",
       "      <th></th>\n",
       "      <th>cell type</th>\n",
       "      <th>LV30</th>\n",
       "    </tr>\n",
       "    <tr>\n",
       "      <th>project</th>\n",
       "      <th>run</th>\n",
       "      <th></th>\n",
       "      <th></th>\n",
       "    </tr>\n",
       "  </thead>\n",
       "  <tbody>\n",
       "    <tr>\n",
       "      <th>SRP035312</th>\n",
       "      <th>SRR1106097</th>\n",
       "      <td>orthochromatic erythroblast</td>\n",
       "      <td>3.904820</td>\n",
       "    </tr>\n",
       "    <tr>\n",
       "      <th rowspan=\"2\" valign=\"top\">SRP034711</th>\n",
       "      <th>SRR1057987</th>\n",
       "      <td>orthochromatophilic erythroblasts</td>\n",
       "      <td>3.896084</td>\n",
       "    </tr>\n",
       "    <tr>\n",
       "      <th>SRR1057992</th>\n",
       "      <td>orthochromatophilic erythroblasts</td>\n",
       "      <td>3.716563</td>\n",
       "    </tr>\n",
       "    <tr>\n",
       "      <th rowspan=\"2\" valign=\"top\">SRP035312</th>\n",
       "      <th>SRR1106098</th>\n",
       "      <td>orthochromatic erythroblast</td>\n",
       "      <td>3.702319</td>\n",
       "    </tr>\n",
       "    <tr>\n",
       "      <th>SRR1106096</th>\n",
       "      <td>orthochromatic erythroblast</td>\n",
       "      <td>3.026069</td>\n",
       "    </tr>\n",
       "    <tr>\n",
       "      <th rowspan=\"2\" valign=\"top\">SRP034711</th>\n",
       "      <th>SRR1057982</th>\n",
       "      <td>orthochromatophilic erythroblasts</td>\n",
       "      <td>3.022507</td>\n",
       "    </tr>\n",
       "    <tr>\n",
       "      <th>SRR1057991</th>\n",
       "      <td>polychromatophilic erythroblasts</td>\n",
       "      <td>2.991272</td>\n",
       "    </tr>\n",
       "    <tr>\n",
       "      <th>SRP035312</th>\n",
       "      <th>SRR1106095</th>\n",
       "      <td>polychromatic erythroblast</td>\n",
       "      <td>2.982417</td>\n",
       "    </tr>\n",
       "    <tr>\n",
       "      <th>SRP034711</th>\n",
       "      <th>SRR1057986</th>\n",
       "      <td>polychromatophilic erythroblasts</td>\n",
       "      <td>2.791095</td>\n",
       "    </tr>\n",
       "    <tr>\n",
       "      <th rowspan=\"2\" valign=\"top\">SRP035312</th>\n",
       "      <th>SRR1106094</th>\n",
       "      <td>polychromatic erythroblast</td>\n",
       "      <td>2.790727</td>\n",
       "    </tr>\n",
       "    <tr>\n",
       "      <th>SRR1106093</th>\n",
       "      <td>polychromatic erythroblast</td>\n",
       "      <td>2.464357</td>\n",
       "    </tr>\n",
       "    <tr>\n",
       "      <th>SRP034711</th>\n",
       "      <th>SRR1057981</th>\n",
       "      <td>polychromatophilic erythroblasts</td>\n",
       "      <td>2.463199</td>\n",
       "    </tr>\n",
       "    <tr>\n",
       "      <th rowspan=\"2\" valign=\"top\">SRP056295</th>\n",
       "      <th>SRR1918550</th>\n",
       "      <td>acute myeloid leukemia (AML) cells</td>\n",
       "      <td>1.343758</td>\n",
       "    </tr>\n",
       "    <tr>\n",
       "      <th>SRR1918549</th>\n",
       "      <td>acute myeloid leukemia (AML) cells</td>\n",
       "      <td>1.342473</td>\n",
       "    </tr>\n",
       "    <tr>\n",
       "      <th>SRP036133</th>\n",
       "      <th>SRR1153284</th>\n",
       "      <td>in vitro differentiated erythroid cells</td>\n",
       "      <td>1.288435</td>\n",
       "    </tr>\n",
       "    <tr>\n",
       "      <th>SRP035312</th>\n",
       "      <th>SRR1106090</th>\n",
       "      <td>late basophilic erythroblast</td>\n",
       "      <td>1.172599</td>\n",
       "    </tr>\n",
       "    <tr>\n",
       "      <th>SRP034711</th>\n",
       "      <th>SRR1057980</th>\n",
       "      <td>late basophilic erythroblasts</td>\n",
       "      <td>1.170231</td>\n",
       "    </tr>\n",
       "    <tr>\n",
       "      <th>SRP022133</th>\n",
       "      <th>SRR846955</th>\n",
       "      <td>whole blood</td>\n",
       "      <td>1.131776</td>\n",
       "    </tr>\n",
       "    <tr>\n",
       "      <th rowspan=\"2\" valign=\"top\">SRP050260</th>\n",
       "      <th>SRR1663125</th>\n",
       "      <td>liver</td>\n",
       "      <td>1.119884</td>\n",
       "    </tr>\n",
       "    <tr>\n",
       "      <th>SRR1663126</th>\n",
       "      <td>liver</td>\n",
       "      <td>1.093241</td>\n",
       "    </tr>\n",
       "  </tbody>\n",
       "</table>\n",
       "</div>"
      ],
      "text/plain": [
       "                                                    cell type      LV30\n",
       "project   run                                                          \n",
       "SRP035312 SRR1106097              orthochromatic erythroblast  3.904820\n",
       "SRP034711 SRR1057987        orthochromatophilic erythroblasts  3.896084\n",
       "          SRR1057992        orthochromatophilic erythroblasts  3.716563\n",
       "SRP035312 SRR1106098              orthochromatic erythroblast  3.702319\n",
       "          SRR1106096              orthochromatic erythroblast  3.026069\n",
       "SRP034711 SRR1057982        orthochromatophilic erythroblasts  3.022507\n",
       "          SRR1057991         polychromatophilic erythroblasts  2.991272\n",
       "SRP035312 SRR1106095               polychromatic erythroblast  2.982417\n",
       "SRP034711 SRR1057986         polychromatophilic erythroblasts  2.791095\n",
       "SRP035312 SRR1106094               polychromatic erythroblast  2.790727\n",
       "          SRR1106093               polychromatic erythroblast  2.464357\n",
       "SRP034711 SRR1057981         polychromatophilic erythroblasts  2.463199\n",
       "SRP056295 SRR1918550       acute myeloid leukemia (AML) cells  1.343758\n",
       "          SRR1918549       acute myeloid leukemia (AML) cells  1.342473\n",
       "SRP036133 SRR1153284  in vitro differentiated erythroid cells  1.288435\n",
       "SRP035312 SRR1106090             late basophilic erythroblast  1.172599\n",
       "SRP034711 SRR1057980            late basophilic erythroblasts  1.170231\n",
       "SRP022133 SRR846955                               whole blood  1.131776\n",
       "SRP050260 SRR1663125                                    liver  1.119884\n",
       "          SRR1663126                                    liver  1.093241"
      ]
     },
     "execution_count": 32,
     "metadata": {},
     "output_type": "execute_result"
    }
   ],
   "source": [
    "plot_data.head(20)"
   ]
  },
  {
   "cell_type": "markdown",
   "id": "naughty-dealing",
   "metadata": {},
   "source": [
    "## Customize x-axis values"
   ]
  },
  {
   "cell_type": "markdown",
   "id": "contrary-evolution",
   "metadata": {},
   "source": [
    "When cell type values are not very clear, customize their names by looking at their specific studies to know exactly what the authors meant."
   ]
  },
  {
   "cell_type": "code",
   "execution_count": 33,
   "id": "expensive-corps",
   "metadata": {},
   "outputs": [],
   "source": [
    "final_plot_data = plot_data.replace(\n",
    "    {\n",
    "        SELECTED_ATTRIBUTE: {\n",
    "            #             \"adipocyte\": \"Adipocytes\",\n",
    "        }\n",
    "    }\n",
    ")"
   ]
  },
  {
   "cell_type": "code",
   "execution_count": 34,
   "id": "heavy-adobe",
   "metadata": {},
   "outputs": [],
   "source": [
    "# all samples from SRP049593 are fibroblasts\n",
    "final_plot_data[SELECTED_ATTRIBUTE] = final_plot_data.apply(\n",
    "    lambda x: \"Erythroblast cells\" if x.name[0] in (\"SRP005281\",) else x[\"cell type\"],\n",
    "    axis=1,\n",
    ")"
   ]
  },
  {
   "cell_type": "code",
   "execution_count": 35,
   "id": "going-admission",
   "metadata": {},
   "outputs": [],
   "source": [
    "# take the top samples only\n",
    "final_plot_data = final_plot_data.sort_values(LV_NAME, ascending=False)[:N_TOP_SAMPLES]"
   ]
  },
  {
   "cell_type": "markdown",
   "id": "norman-abraham",
   "metadata": {},
   "source": [
    "## Threshold LV values"
   ]
  },
  {
   "cell_type": "code",
   "execution_count": 36,
   "id": "latest-glucose",
   "metadata": {},
   "outputs": [],
   "source": [
    "final_plot_data.loc[\n",
    "    final_plot_data[LV_NAME] > LV_AXIS_THRESHOLD, LV_NAME\n",
    "] = LV_AXIS_THRESHOLD"
   ]
  },
  {
   "cell_type": "markdown",
   "id": "herbal-julian",
   "metadata": {},
   "source": [
    "## Delete samples with no tissue/cell type information"
   ]
  },
  {
   "cell_type": "code",
   "execution_count": 37,
   "id": "surprised-conflict",
   "metadata": {},
   "outputs": [],
   "source": [
    "final_plot_data = final_plot_data[\n",
    "    final_plot_data[SELECTED_ATTRIBUTE] != \"NOT CATEGORIZED\"\n",
    "]"
   ]
  },
  {
   "cell_type": "markdown",
   "id": "registered-triumph",
   "metadata": {},
   "source": [
    "## Set x-axis order"
   ]
  },
  {
   "cell_type": "code",
   "execution_count": 38,
   "id": "fifteen-symposium",
   "metadata": {},
   "outputs": [],
   "source": [
    "attr_order = (\n",
    "    final_plot_data.groupby(SELECTED_ATTRIBUTE)\n",
    "    .max()\n",
    "    .sort_values(LV_NAME, ascending=False)\n",
    "    .index[:N_TOP_ATTRS]\n",
    "    .tolist()\n",
    ")"
   ]
  },
  {
   "cell_type": "code",
   "execution_count": 39,
   "id": "literary-undergraduate",
   "metadata": {},
   "outputs": [
    {
     "data": {
      "text/plain": [
       "25"
      ]
     },
     "execution_count": 39,
     "metadata": {},
     "output_type": "execute_result"
    }
   ],
   "source": [
    "len(attr_order)"
   ]
  },
  {
   "cell_type": "code",
   "execution_count": 40,
   "id": "governmental-herald",
   "metadata": {},
   "outputs": [
    {
     "data": {
      "text/plain": [
       "['orthochromatophilic erythroblasts',\n",
       " 'orthochromatic erythroblast',\n",
       " 'polychromatophilic erythroblasts',\n",
       " 'polychromatic erythroblast',\n",
       " 'acute myeloid leukemia (AML) cells']"
      ]
     },
     "execution_count": 40,
     "metadata": {},
     "output_type": "execute_result"
    }
   ],
   "source": [
    "attr_order[:5]"
   ]
  },
  {
   "cell_type": "markdown",
   "id": "portuguese-hammer",
   "metadata": {},
   "source": [
    "## Plot"
   ]
  },
  {
   "cell_type": "code",
   "execution_count": 41,
   "id": "little-ratio",
   "metadata": {},
   "outputs": [
    {
     "data": {
      "image/png": "[encoded data removed]",
      "text/plain": [
       "<Figure size 1080x360 with 1 Axes>"
      ]
     },
     "metadata": {},
     "output_type": "display_data"
    }
   ],
   "source": [
    "with sns.plotting_context(\"paper\", font_scale=1.5), sns.axes_style(\"whitegrid\"):\n",
    "    sns.catplot(\n",
    "        data=final_plot_data,\n",
    "        y=LV_NAME,\n",
    "        x=SELECTED_ATTRIBUTE,\n",
    "        order=attr_order,\n",
    "        kind=\"strip\",\n",
    "        height=5,\n",
    "        aspect=3,\n",
    "    )\n",
    "    plt.xticks(rotation=45, horizontalalignment=\"right\")\n",
    "\n",
    "    plt.savefig(\n",
    "        OUTPUT_CELL_TYPE_FILEPATH,\n",
    "        bbox_inches=\"tight\",\n",
    "        facecolor=\"white\",\n",
    "    )"
   ]
  },
  {
   "cell_type": "markdown",
   "id": "valued-accordance",
   "metadata": {},
   "source": [
    "# Debug"
   ]
  },
  {
   "cell_type": "code",
   "execution_count": 42,
   "id": "norwegian-request",
   "metadata": {},
   "outputs": [],
   "source": [
    "# with pd.option_context(\n",
    "#     \"display.max_rows\", None, \"display.max_columns\", None, \"display.max_colwidth\", None\n",
    "# ):\n",
    "#     _tmp = final_plot_data[final_plot_data[SELECTED_ATTRIBUTE].str.contains(\"NOT CAT\")]\n",
    "#     display(_tmp.head(20))"
   ]
  },
  {
   "cell_type": "code",
   "execution_count": 43,
   "id": "organizational-british",
   "metadata": {},
   "outputs": [],
   "source": [
    "# # what is there in these projects?\n",
    "# lv_data.loc[[\"SRP050499\"]].dropna(how=\"all\", axis=1).sort_values(\n",
    "#     LV_NAME, ascending=False\n",
    "# ).head(60)"
   ]
  },
  {
   "cell_type": "code",
   "execution_count": null,
   "id": "competitive-catalog",
   "metadata": {},
   "outputs": [],
   "source": []
  }
 ],
 "metadata": {
  "jupytext": {
   "cell_metadata_filter": "all,-execution,-papermill,-trusted",
   "formats": "ipynb,py//py:percent"
  },
  "kernelspec": {
   "display_name": "Python 3",
   "language": "python",
   "name": "python3"
  },
  "language_info": {
   "codemirror_mode": {
    "name": "ipython",
    "version": 3
   },
   "file_extension": ".py",
   "mimetype": "text/x-python",
   "name": "python",
   "nbconvert_exporter": "python",
   "pygments_lexer": "ipython3",
   "version": "3.8.8"
  }
 },
 "nbformat": 4,
 "nbformat_minor": 5
}
