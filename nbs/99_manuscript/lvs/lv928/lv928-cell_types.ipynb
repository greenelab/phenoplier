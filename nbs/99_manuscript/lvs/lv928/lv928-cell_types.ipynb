{
 "cells": [
  {
   "cell_type": "markdown",
   "id": "republican-louisville",
   "metadata": {
    "papermill": {
     "duration": 0.006593,
     "end_time": "2021-05-11T19:09:55.733221",
     "exception": false,
     "start_time": "2021-05-11T19:09:55.726628",
     "status": "completed"
    },
    "tags": []
   },
   "source": [
    "# Description"
   ]
  },
  {
   "cell_type": "markdown",
   "id": "divided-touch",
   "metadata": {
    "papermill": {
     "duration": 0.00668,
     "end_time": "2021-05-11T19:09:55.745410",
     "exception": false,
     "start_time": "2021-05-11T19:09:55.738730",
     "status": "completed"
    },
    "tags": []
   },
   "source": [
    "Generates the figure for top cell types for a specified LV (in Settings section below)."
   ]
  },
  {
   "cell_type": "markdown",
   "id": "labeled-touch",
   "metadata": {
    "papermill": {
     "duration": 0.006223,
     "end_time": "2021-05-11T19:09:55.756959",
     "exception": false,
     "start_time": "2021-05-11T19:09:55.750736",
     "status": "completed"
    },
    "tags": []
   },
   "source": [
    "# Modules loading"
   ]
  },
  {
   "cell_type": "code",
   "execution_count": 1,
   "id": "genuine-science",
   "metadata": {
    "papermill": {
     "duration": 0.01906,
     "end_time": "2021-05-11T19:09:55.781515",
     "exception": false,
     "start_time": "2021-05-11T19:09:55.762455",
     "status": "completed"
    },
    "tags": []
   },
   "outputs": [],
   "source": [
    "%load_ext autoreload\n",
    "%autoreload 2"
   ]
  },
  {
   "cell_type": "code",
   "execution_count": 2,
   "id": "perfect-drink",
   "metadata": {
    "papermill": {
     "duration": 0.993432,
     "end_time": "2021-05-11T19:09:56.780403",
     "exception": false,
     "start_time": "2021-05-11T19:09:55.786971",
     "status": "completed"
    },
    "tags": []
   },
   "outputs": [],
   "source": [
    "import re\n",
    "from pathlib import Path\n",
    "\n",
    "import pandas as pd\n",
    "import matplotlib.pyplot as plt\n",
    "import seaborn as sns\n",
    "\n",
    "from data.recount2 import LVAnalysis\n",
    "from utils import chunker\n",
    "import conf"
   ]
  },
  {
   "cell_type": "markdown",
   "id": "elder-booking",
   "metadata": {
    "papermill": {
     "duration": 0.005973,
     "end_time": "2021-05-11T19:09:56.792495",
     "exception": false,
     "start_time": "2021-05-11T19:09:56.786522",
     "status": "completed"
    },
    "tags": []
   },
   "source": [
    "# Settings"
   ]
  },
  {
   "cell_type": "code",
   "execution_count": 3,
   "id": "specialized-lawrence",
   "metadata": {
    "papermill": {
     "duration": 0.019548,
     "end_time": "2021-05-11T19:09:56.817689",
     "exception": false,
     "start_time": "2021-05-11T19:09:56.798141",
     "status": "completed"
    },
    "tags": [
     "parameters"
    ]
   },
   "outputs": [],
   "source": [
    "LV_NAME = \"LV928\""
   ]
  },
  {
   "cell_type": "code",
   "execution_count": 4,
   "id": "protecting-seeker",
   "metadata": {},
   "outputs": [],
   "source": [
    "LV_AXIS_THRESHOLD = 3.0\n",
    "N_TOP_SAMPLES = 400\n",
    "N_TOP_ATTRS = 25"
   ]
  },
  {
   "cell_type": "code",
   "execution_count": 5,
   "id": "coastal-federation",
   "metadata": {},
   "outputs": [
    {
     "data": {
      "text/plain": [
       "PosixPath('/home/miltondp/projects/labs/greenelab/phenoplier_manuscript/content/images/lvs_analysis/lv928')"
      ]
     },
     "metadata": {},
     "output_type": "display_data"
    }
   ],
   "source": [
    "OUTPUT_FIGURES_DIR = Path(\n",
    "    conf.MANUSCRIPT[\"FIGURES_DIR\"], \"lvs_analysis\", f\"{LV_NAME.lower()}\"\n",
    ").resolve()\n",
    "display(OUTPUT_FIGURES_DIR)\n",
    "OUTPUT_FIGURES_DIR.mkdir(parents=True, exist_ok=True)"
   ]
  },
  {
   "cell_type": "code",
   "execution_count": 6,
   "id": "nasty-orbit",
   "metadata": {},
   "outputs": [
    {
     "data": {
      "text/plain": [
       "PosixPath('/home/miltondp/projects/labs/greenelab/phenoplier_manuscript/content/images/lvs_analysis/lv928/lv928-cell_types.svg')"
      ]
     },
     "metadata": {},
     "output_type": "display_data"
    }
   ],
   "source": [
    "OUTPUT_CELL_TYPE_FILEPATH = OUTPUT_FIGURES_DIR / f\"{LV_NAME.lower()}-cell_types.svg\"\n",
    "display(OUTPUT_CELL_TYPE_FILEPATH)"
   ]
  },
  {
   "cell_type": "markdown",
   "id": "convertible-grocery",
   "metadata": {
    "papermill": {
     "duration": 0.005592,
     "end_time": "2021-05-11T19:09:56.854406",
     "exception": false,
     "start_time": "2021-05-11T19:09:56.848814",
     "status": "completed"
    },
    "tags": []
   },
   "source": [
    "# Load MultiPLIER summary"
   ]
  },
  {
   "cell_type": "code",
   "execution_count": 7,
   "id": "fleet-blowing",
   "metadata": {
    "papermill": {
     "duration": 0.020251,
     "end_time": "2021-05-11T19:09:56.880435",
     "exception": false,
     "start_time": "2021-05-11T19:09:56.860184",
     "status": "completed"
    },
    "tags": []
   },
   "outputs": [],
   "source": [
    "multiplier_model_summary = pd.read_pickle(conf.MULTIPLIER[\"MODEL_SUMMARY_FILE\"])"
   ]
  },
  {
   "cell_type": "code",
   "execution_count": 8,
   "id": "found-complaint",
   "metadata": {
    "papermill": {
     "duration": 0.02062,
     "end_time": "2021-05-11T19:09:56.906744",
     "exception": false,
     "start_time": "2021-05-11T19:09:56.886124",
     "status": "completed"
    },
    "tags": []
   },
   "outputs": [
    {
     "data": {
      "text/plain": [
       "(2157, 5)"
      ]
     },
     "execution_count": 8,
     "metadata": {},
     "output_type": "execute_result"
    }
   ],
   "source": [
    "multiplier_model_summary.shape"
   ]
  },
  {
   "cell_type": "code",
   "execution_count": 9,
   "id": "blank-climate",
   "metadata": {
    "papermill": {
     "duration": 0.024737,
     "end_time": "2021-05-11T19:09:56.937493",
     "exception": false,
     "start_time": "2021-05-11T19:09:56.912756",
     "status": "completed"
    },
    "tags": []
   },
   "outputs": [
    {
     "data": {
      "text/html": [
       "<div>\n",
       "<style scoped>\n",
       "    .dataframe tbody tr th:only-of-type {\n",
       "        vertical-align: middle;\n",
       "    }\n",
       "\n",
       "    .dataframe tbody tr th {\n",
       "        vertical-align: top;\n",
       "    }\n",
       "\n",
       "    .dataframe thead th {\n",
       "        text-align: right;\n",
       "    }\n",
       "</style>\n",
       "<table border=\"1\" class=\"dataframe\">\n",
       "  <thead>\n",
       "    <tr style=\"text-align: right;\">\n",
       "      <th></th>\n",
       "      <th>pathway</th>\n",
       "      <th>LV index</th>\n",
       "      <th>AUC</th>\n",
       "      <th>p-value</th>\n",
       "      <th>FDR</th>\n",
       "    </tr>\n",
       "  </thead>\n",
       "  <tbody>\n",
       "    <tr>\n",
       "      <th>1</th>\n",
       "      <td>KEGG_LYSINE_DEGRADATION</td>\n",
       "      <td>1</td>\n",
       "      <td>0.388059</td>\n",
       "      <td>0.866078</td>\n",
       "      <td>0.956005</td>\n",
       "    </tr>\n",
       "    <tr>\n",
       "      <th>2</th>\n",
       "      <td>REACTOME_MRNA_SPLICING</td>\n",
       "      <td>1</td>\n",
       "      <td>0.733057</td>\n",
       "      <td>0.000048</td>\n",
       "      <td>0.000582</td>\n",
       "    </tr>\n",
       "    <tr>\n",
       "      <th>3</th>\n",
       "      <td>MIPS_NOP56P_ASSOCIATED_PRE_RRNA_COMPLEX</td>\n",
       "      <td>1</td>\n",
       "      <td>0.680555</td>\n",
       "      <td>0.001628</td>\n",
       "      <td>0.011366</td>\n",
       "    </tr>\n",
       "    <tr>\n",
       "      <th>4</th>\n",
       "      <td>KEGG_DNA_REPLICATION</td>\n",
       "      <td>1</td>\n",
       "      <td>0.549473</td>\n",
       "      <td>0.312155</td>\n",
       "      <td>0.539951</td>\n",
       "    </tr>\n",
       "    <tr>\n",
       "      <th>5</th>\n",
       "      <td>PID_MYC_ACTIVPATHWAY</td>\n",
       "      <td>1</td>\n",
       "      <td>0.639303</td>\n",
       "      <td>0.021702</td>\n",
       "      <td>0.083739</td>\n",
       "    </tr>\n",
       "  </tbody>\n",
       "</table>\n",
       "</div>"
      ],
      "text/plain": [
       "                                   pathway LV index       AUC   p-value  \\\n",
       "1                  KEGG_LYSINE_DEGRADATION        1  0.388059  0.866078   \n",
       "2                   REACTOME_MRNA_SPLICING        1  0.733057  0.000048   \n",
       "3  MIPS_NOP56P_ASSOCIATED_PRE_RRNA_COMPLEX        1  0.680555  0.001628   \n",
       "4                     KEGG_DNA_REPLICATION        1  0.549473  0.312155   \n",
       "5                     PID_MYC_ACTIVPATHWAY        1  0.639303  0.021702   \n",
       "\n",
       "        FDR  \n",
       "1  0.956005  \n",
       "2  0.000582  \n",
       "3  0.011366  \n",
       "4  0.539951  \n",
       "5  0.083739  "
      ]
     },
     "execution_count": 9,
     "metadata": {},
     "output_type": "execute_result"
    }
   ],
   "source": [
    "multiplier_model_summary.head()"
   ]
  },
  {
   "cell_type": "markdown",
   "id": "meaningful-surface",
   "metadata": {
    "papermill": {
     "duration": 0.006007,
     "end_time": "2021-05-11T19:09:56.949763",
     "exception": false,
     "start_time": "2021-05-11T19:09:56.943756",
     "status": "completed"
    },
    "tags": []
   },
   "source": [
    "# Load data"
   ]
  },
  {
   "cell_type": "markdown",
   "id": "desperate-falls",
   "metadata": {
    "papermill": {
     "duration": 0.005873,
     "end_time": "2021-05-11T19:09:56.961602",
     "exception": false,
     "start_time": "2021-05-11T19:09:56.955729",
     "status": "completed"
    },
    "tags": []
   },
   "source": [
    "## Original data"
   ]
  },
  {
   "cell_type": "code",
   "execution_count": 10,
   "id": "traditional-remedy",
   "metadata": {
    "papermill": {
     "duration": 0.019571,
     "end_time": "2021-05-11T19:09:56.987255",
     "exception": false,
     "start_time": "2021-05-11T19:09:56.967684",
     "status": "completed"
    },
    "tags": []
   },
   "outputs": [],
   "source": [
    "INPUT_SUBSET = \"z_score_std\""
   ]
  },
  {
   "cell_type": "code",
   "execution_count": 11,
   "id": "blond-watts",
   "metadata": {
    "papermill": {
     "duration": 0.019175,
     "end_time": "2021-05-11T19:09:57.025099",
     "exception": false,
     "start_time": "2021-05-11T19:09:57.005924",
     "status": "completed"
    },
    "tags": []
   },
   "outputs": [],
   "source": [
    "INPUT_STEM = \"projection-smultixcan-efo_partial-mashr-zscores\""
   ]
  },
  {
   "cell_type": "code",
   "execution_count": 12,
   "id": "sunset-table",
   "metadata": {
    "papermill": {
     "duration": 0.020992,
     "end_time": "2021-05-11T19:09:57.052255",
     "exception": false,
     "start_time": "2021-05-11T19:09:57.031263",
     "status": "completed"
    },
    "tags": []
   },
   "outputs": [
    {
     "data": {
      "text/plain": [
       "PosixPath('/home/miltondp/projects/labs/greenelab/phenoplier/bases_data/base_orig/results/data_transformations/z_score_std/z_score_std-projection-smultixcan-efo_partial-mashr-zscores.pkl')"
      ]
     },
     "metadata": {},
     "output_type": "display_data"
    },
    {
     "data": {
      "text/plain": [
       "'z_score_std-projection-smultixcan-efo_partial-mashr-zscores'"
      ]
     },
     "metadata": {},
     "output_type": "display_data"
    }
   ],
   "source": [
    "input_filepath = Path(\n",
    "    conf.RESULTS[\"DATA_TRANSFORMATIONS_DIR\"],\n",
    "    INPUT_SUBSET,\n",
    "    f\"{INPUT_SUBSET}-{INPUT_STEM}.pkl\",\n",
    ").resolve()\n",
    "display(input_filepath)\n",
    "\n",
    "assert input_filepath.exists(), \"Input file does not exist\"\n",
    "\n",
    "input_filepath_stem = input_filepath.stem\n",
    "display(input_filepath_stem)"
   ]
  },
  {
   "cell_type": "code",
   "execution_count": 13,
   "id": "diagnostic-recall",
   "metadata": {
    "papermill": {
     "duration": 0.032337,
     "end_time": "2021-05-11T19:09:57.090585",
     "exception": false,
     "start_time": "2021-05-11T19:09:57.058248",
     "status": "completed"
    },
    "tags": []
   },
   "outputs": [],
   "source": [
    "data = pd.read_pickle(input_filepath)"
   ]
  },
  {
   "cell_type": "code",
   "execution_count": 14,
   "id": "recovered-correlation",
   "metadata": {
    "papermill": {
     "duration": 0.01967,
     "end_time": "2021-05-11T19:09:57.116292",
     "exception": false,
     "start_time": "2021-05-11T19:09:57.096622",
     "status": "completed"
    },
    "tags": []
   },
   "outputs": [
    {
     "data": {
      "text/plain": [
       "(3752, 987)"
      ]
     },
     "execution_count": 14,
     "metadata": {},
     "output_type": "execute_result"
    }
   ],
   "source": [
    "data.shape"
   ]
  },
  {
   "cell_type": "code",
   "execution_count": 15,
   "id": "faced-tablet",
   "metadata": {
    "papermill": {
     "duration": 0.031843,
     "end_time": "2021-05-11T19:09:57.154356",
     "exception": false,
     "start_time": "2021-05-11T19:09:57.122513",
     "status": "completed"
    },
    "tags": []
   },
   "outputs": [
    {
     "data": {
      "text/html": [
       "<div>\n",
       "<style scoped>\n",
       "    .dataframe tbody tr th:only-of-type {\n",
       "        vertical-align: middle;\n",
       "    }\n",
       "\n",
       "    .dataframe tbody tr th {\n",
       "        vertical-align: top;\n",
       "    }\n",
       "\n",
       "    .dataframe thead th {\n",
       "        text-align: right;\n",
       "    }\n",
       "</style>\n",
       "<table border=\"1\" class=\"dataframe\">\n",
       "  <thead>\n",
       "    <tr style=\"text-align: right;\">\n",
       "      <th></th>\n",
       "      <th>LV1</th>\n",
       "      <th>LV2</th>\n",
       "      <th>LV3</th>\n",
       "      <th>LV4</th>\n",
       "      <th>LV5</th>\n",
       "      <th>LV6</th>\n",
       "      <th>LV7</th>\n",
       "      <th>LV8</th>\n",
       "      <th>LV9</th>\n",
       "      <th>LV10</th>\n",
       "      <th>...</th>\n",
       "      <th>LV978</th>\n",
       "      <th>LV979</th>\n",
       "      <th>LV980</th>\n",
       "      <th>LV981</th>\n",
       "      <th>LV982</th>\n",
       "      <th>LV983</th>\n",
       "      <th>LV984</th>\n",
       "      <th>LV985</th>\n",
       "      <th>LV986</th>\n",
       "      <th>LV987</th>\n",
       "    </tr>\n",
       "  </thead>\n",
       "  <tbody>\n",
       "    <tr>\n",
       "      <th>100001_raw-Food_weight</th>\n",
       "      <td>-0.695006</td>\n",
       "      <td>1.962565</td>\n",
       "      <td>0.057683</td>\n",
       "      <td>0.878731</td>\n",
       "      <td>-0.539977</td>\n",
       "      <td>1.481272</td>\n",
       "      <td>-0.396422</td>\n",
       "      <td>1.090180</td>\n",
       "      <td>0.759223</td>\n",
       "      <td>0.931395</td>\n",
       "      <td>...</td>\n",
       "      <td>1.129784</td>\n",
       "      <td>1.752343</td>\n",
       "      <td>-1.411403</td>\n",
       "      <td>2.823863</td>\n",
       "      <td>0.931116</td>\n",
       "      <td>-1.054519</td>\n",
       "      <td>0.432982</td>\n",
       "      <td>-0.633597</td>\n",
       "      <td>0.554279</td>\n",
       "      <td>-0.642479</td>\n",
       "    </tr>\n",
       "    <tr>\n",
       "      <th>100002_raw-Energy</th>\n",
       "      <td>-1.528127</td>\n",
       "      <td>-0.345309</td>\n",
       "      <td>-0.148953</td>\n",
       "      <td>-0.242060</td>\n",
       "      <td>0.373427</td>\n",
       "      <td>0.791092</td>\n",
       "      <td>0.263477</td>\n",
       "      <td>0.987702</td>\n",
       "      <td>0.354391</td>\n",
       "      <td>1.416059</td>\n",
       "      <td>...</td>\n",
       "      <td>0.224604</td>\n",
       "      <td>0.769882</td>\n",
       "      <td>-0.509482</td>\n",
       "      <td>0.091153</td>\n",
       "      <td>2.286789</td>\n",
       "      <td>-1.008256</td>\n",
       "      <td>-0.029764</td>\n",
       "      <td>1.737229</td>\n",
       "      <td>-0.272107</td>\n",
       "      <td>-0.526125</td>\n",
       "    </tr>\n",
       "    <tr>\n",
       "      <th>100003_raw-Protein</th>\n",
       "      <td>-0.704572</td>\n",
       "      <td>-1.011299</td>\n",
       "      <td>0.671420</td>\n",
       "      <td>0.143991</td>\n",
       "      <td>0.615212</td>\n",
       "      <td>0.874212</td>\n",
       "      <td>-0.040998</td>\n",
       "      <td>0.915170</td>\n",
       "      <td>0.254369</td>\n",
       "      <td>-0.084237</td>\n",
       "      <td>...</td>\n",
       "      <td>1.003019</td>\n",
       "      <td>1.044314</td>\n",
       "      <td>-2.376108</td>\n",
       "      <td>0.004778</td>\n",
       "      <td>0.053714</td>\n",
       "      <td>-0.892447</td>\n",
       "      <td>-0.183800</td>\n",
       "      <td>1.377991</td>\n",
       "      <td>-0.278794</td>\n",
       "      <td>-0.419733</td>\n",
       "    </tr>\n",
       "    <tr>\n",
       "      <th>100004_raw-Fat</th>\n",
       "      <td>-0.989832</td>\n",
       "      <td>-1.875490</td>\n",
       "      <td>0.261555</td>\n",
       "      <td>-1.420719</td>\n",
       "      <td>0.366238</td>\n",
       "      <td>1.167049</td>\n",
       "      <td>0.257387</td>\n",
       "      <td>0.717674</td>\n",
       "      <td>-0.997664</td>\n",
       "      <td>0.969825</td>\n",
       "      <td>...</td>\n",
       "      <td>0.585913</td>\n",
       "      <td>0.638314</td>\n",
       "      <td>0.119139</td>\n",
       "      <td>-0.140204</td>\n",
       "      <td>1.394326</td>\n",
       "      <td>-1.173402</td>\n",
       "      <td>0.555058</td>\n",
       "      <td>1.013982</td>\n",
       "      <td>-0.544506</td>\n",
       "      <td>-0.064061</td>\n",
       "    </tr>\n",
       "    <tr>\n",
       "      <th>100005_raw-Carbohydrate</th>\n",
       "      <td>-0.580143</td>\n",
       "      <td>0.243335</td>\n",
       "      <td>0.158966</td>\n",
       "      <td>-0.036558</td>\n",
       "      <td>0.068176</td>\n",
       "      <td>-0.202639</td>\n",
       "      <td>1.101281</td>\n",
       "      <td>0.675227</td>\n",
       "      <td>1.463432</td>\n",
       "      <td>1.010078</td>\n",
       "      <td>...</td>\n",
       "      <td>-0.249108</td>\n",
       "      <td>-0.026814</td>\n",
       "      <td>0.232713</td>\n",
       "      <td>0.323682</td>\n",
       "      <td>1.168642</td>\n",
       "      <td>-0.282935</td>\n",
       "      <td>0.653105</td>\n",
       "      <td>1.909526</td>\n",
       "      <td>0.199997</td>\n",
       "      <td>-1.656894</td>\n",
       "    </tr>\n",
       "  </tbody>\n",
       "</table>\n",
       "<p>5 rows × 987 columns</p>\n",
       "</div>"
      ],
      "text/plain": [
       "                              LV1       LV2       LV3       LV4       LV5  \\\n",
       "100001_raw-Food_weight  -0.695006  1.962565  0.057683  0.878731 -0.539977   \n",
       "100002_raw-Energy       -1.528127 -0.345309 -0.148953 -0.242060  0.373427   \n",
       "100003_raw-Protein      -0.704572 -1.011299  0.671420  0.143991  0.615212   \n",
       "100004_raw-Fat          -0.989832 -1.875490  0.261555 -1.420719  0.366238   \n",
       "100005_raw-Carbohydrate -0.580143  0.243335  0.158966 -0.036558  0.068176   \n",
       "\n",
       "                              LV6       LV7       LV8       LV9      LV10  \\\n",
       "100001_raw-Food_weight   1.481272 -0.396422  1.090180  0.759223  0.931395   \n",
       "100002_raw-Energy        0.791092  0.263477  0.987702  0.354391  1.416059   \n",
       "100003_raw-Protein       0.874212 -0.040998  0.915170  0.254369 -0.084237   \n",
       "100004_raw-Fat           1.167049  0.257387  0.717674 -0.997664  0.969825   \n",
       "100005_raw-Carbohydrate -0.202639  1.101281  0.675227  1.463432  1.010078   \n",
       "\n",
       "                         ...     LV978     LV979     LV980     LV981  \\\n",
       "100001_raw-Food_weight   ...  1.129784  1.752343 -1.411403  2.823863   \n",
       "100002_raw-Energy        ...  0.224604  0.769882 -0.509482  0.091153   \n",
       "100003_raw-Protein       ...  1.003019  1.044314 -2.376108  0.004778   \n",
       "100004_raw-Fat           ...  0.585913  0.638314  0.119139 -0.140204   \n",
       "100005_raw-Carbohydrate  ... -0.249108 -0.026814  0.232713  0.323682   \n",
       "\n",
       "                            LV982     LV983     LV984     LV985     LV986  \\\n",
       "100001_raw-Food_weight   0.931116 -1.054519  0.432982 -0.633597  0.554279   \n",
       "100002_raw-Energy        2.286789 -1.008256 -0.029764  1.737229 -0.272107   \n",
       "100003_raw-Protein       0.053714 -0.892447 -0.183800  1.377991 -0.278794   \n",
       "100004_raw-Fat           1.394326 -1.173402  0.555058  1.013982 -0.544506   \n",
       "100005_raw-Carbohydrate  1.168642 -0.282935  0.653105  1.909526  0.199997   \n",
       "\n",
       "                            LV987  \n",
       "100001_raw-Food_weight  -0.642479  \n",
       "100002_raw-Energy       -0.526125  \n",
       "100003_raw-Protein      -0.419733  \n",
       "100004_raw-Fat          -0.064061  \n",
       "100005_raw-Carbohydrate -1.656894  \n",
       "\n",
       "[5 rows x 987 columns]"
      ]
     },
     "execution_count": 15,
     "metadata": {},
     "output_type": "execute_result"
    }
   ],
   "source": [
    "data.head()"
   ]
  },
  {
   "cell_type": "markdown",
   "id": "canadian-locator",
   "metadata": {},
   "source": [
    "## LV data"
   ]
  },
  {
   "cell_type": "code",
   "execution_count": 16,
   "id": "starting-hierarchy",
   "metadata": {},
   "outputs": [],
   "source": [
    "lv_obj = LVAnalysis(LV_NAME, data)"
   ]
  },
  {
   "cell_type": "code",
   "execution_count": 17,
   "id": "driving-wheat",
   "metadata": {},
   "outputs": [
    {
     "name": "stderr",
     "output_type": "stream",
     "text": [
      "[2021-08-02 12:31:41,167 - numexpr.utils] INFO: NumExpr defaulting to 8 threads.\n"
     ]
    },
    {
     "data": {
      "text/html": [
       "<div>\n",
       "<style scoped>\n",
       "    .dataframe tbody tr th:only-of-type {\n",
       "        vertical-align: middle;\n",
       "    }\n",
       "\n",
       "    .dataframe tbody tr th {\n",
       "        vertical-align: top;\n",
       "    }\n",
       "\n",
       "    .dataframe thead th {\n",
       "        text-align: right;\n",
       "    }\n",
       "</style>\n",
       "<table border=\"1\" class=\"dataframe\">\n",
       "  <thead>\n",
       "    <tr style=\"text-align: right;\">\n",
       "      <th></th>\n",
       "      <th>pathway</th>\n",
       "      <th>LV index</th>\n",
       "      <th>AUC</th>\n",
       "      <th>p-value</th>\n",
       "      <th>FDR</th>\n",
       "    </tr>\n",
       "  </thead>\n",
       "  <tbody>\n",
       "    <tr>\n",
       "      <th>2038</th>\n",
       "      <td>DMAP_ERY3</td>\n",
       "      <td>928</td>\n",
       "      <td>0.812153</td>\n",
       "      <td>3.225767e-27</td>\n",
       "      <td>1.159663e-24</td>\n",
       "    </tr>\n",
       "    <tr>\n",
       "      <th>2039</th>\n",
       "      <td>DMAP_ERY4</td>\n",
       "      <td>928</td>\n",
       "      <td>0.784254</td>\n",
       "      <td>1.269672e-19</td>\n",
       "      <td>2.489711e-17</td>\n",
       "    </tr>\n",
       "  </tbody>\n",
       "</table>\n",
       "</div>"
      ],
      "text/plain": [
       "        pathway LV index       AUC       p-value           FDR\n",
       "2038  DMAP_ERY3      928  0.812153  3.225767e-27  1.159663e-24\n",
       "2039  DMAP_ERY4      928  0.784254  1.269672e-19  2.489711e-17"
      ]
     },
     "execution_count": 17,
     "metadata": {},
     "output_type": "execute_result"
    }
   ],
   "source": [
    "multiplier_model_summary[\n",
    "    multiplier_model_summary[\"LV index\"].isin((LV_NAME[2:],))\n",
    "    & (\n",
    "        (multiplier_model_summary[\"FDR\"] < 0.05)\n",
    "        | (multiplier_model_summary[\"AUC\"] >= 0.75)\n",
    "    )\n",
    "]"
   ]
  },
  {
   "cell_type": "code",
   "execution_count": 18,
   "id": "parallel-cover",
   "metadata": {},
   "outputs": [
    {
     "name": "stdout",
     "output_type": "stream",
     "text": [
      "SRP035312, SRP034711, SRP015138, SRP036133, SRP056295, SRP061689, SRP046233, SRP050333, SRP005281, SRP063493, SRP036843, SRP063477, SRP063834, SRP014620, SRP066151, SRP050260, SRP018028, SRP048759, SRP044056, SRP047323, SRP055513, SRP003227, SRP041751, SRP062023, SRP052781, SRP050493, SRP055569, SRP011185, SRP052874, SRP047126, SRP062025, SRP009615, SRP050272, SRP017138, SRP018403, SRP055916, SRP050146, SRP051675, SRP041988, SRP015439, SRP007461, SRP061840, SRP043621, SRP015640, SRP010061, SRP009862, SRP064464, SRP020556, SRP050440, SRP026084, SRP060416, SRP042161, SRP008280, "
     ]
    },
    {
     "name": "stderr",
     "output_type": "stream",
     "text": [
      "/home/miltondp/projects/labs/greenelab/phenoplier/libs/data/recount2.py:320: UserWarning: Not all experiments data could be loaded (51 != 53)\n",
      "  warnings.warn(\n"
     ]
    }
   ],
   "source": [
    "lv_data = lv_obj.get_experiments_data()"
   ]
  },
  {
   "cell_type": "code",
   "execution_count": 19,
   "id": "mathematical-appeal",
   "metadata": {},
   "outputs": [
    {
     "data": {
      "text/plain": [
       "(4094, 63)"
      ]
     },
     "execution_count": 19,
     "metadata": {},
     "output_type": "execute_result"
    }
   ],
   "source": [
    "lv_data.shape"
   ]
  },
  {
   "cell_type": "code",
   "execution_count": 20,
   "id": "legislative-positive",
   "metadata": {},
   "outputs": [
    {
     "data": {
      "text/html": [
       "<div>\n",
       "<style scoped>\n",
       "    .dataframe tbody tr th:only-of-type {\n",
       "        vertical-align: middle;\n",
       "    }\n",
       "\n",
       "    .dataframe tbody tr th {\n",
       "        vertical-align: top;\n",
       "    }\n",
       "\n",
       "    .dataframe thead th {\n",
       "        text-align: right;\n",
       "    }\n",
       "</style>\n",
       "<table border=\"1\" class=\"dataframe\">\n",
       "  <thead>\n",
       "    <tr style=\"text-align: right;\">\n",
       "      <th></th>\n",
       "      <th></th>\n",
       "      <th>strain</th>\n",
       "      <th>tissue</th>\n",
       "      <th>surface markers to isolate cells by facs-based methods</th>\n",
       "      <th>cell type</th>\n",
       "      <th>differentiation stage</th>\n",
       "      <th>time point</th>\n",
       "      <th>cell composition</th>\n",
       "      <th>differentiation day</th>\n",
       "      <th>treatment</th>\n",
       "      <th>age</th>\n",
       "      <th>...</th>\n",
       "      <th>ercc_dilution</th>\n",
       "      <th>treated with</th>\n",
       "      <th>diagnosis</th>\n",
       "      <th>transfected with</th>\n",
       "      <th>tonsil donor</th>\n",
       "      <th>facs gating</th>\n",
       "      <th>patient id</th>\n",
       "      <th>subtype</th>\n",
       "      <th>knockdown</th>\n",
       "      <th>LV928</th>\n",
       "    </tr>\n",
       "    <tr>\n",
       "      <th>project</th>\n",
       "      <th>run</th>\n",
       "      <th></th>\n",
       "      <th></th>\n",
       "      <th></th>\n",
       "      <th></th>\n",
       "      <th></th>\n",
       "      <th></th>\n",
       "      <th></th>\n",
       "      <th></th>\n",
       "      <th></th>\n",
       "      <th></th>\n",
       "      <th></th>\n",
       "      <th></th>\n",
       "      <th></th>\n",
       "      <th></th>\n",
       "      <th></th>\n",
       "      <th></th>\n",
       "      <th></th>\n",
       "      <th></th>\n",
       "      <th></th>\n",
       "      <th></th>\n",
       "      <th></th>\n",
       "    </tr>\n",
       "  </thead>\n",
       "  <tbody>\n",
       "    <tr>\n",
       "      <th rowspan=\"5\" valign=\"top\">SRP035312</th>\n",
       "      <th>SRR1106084</th>\n",
       "      <td>Cultured CD34+ cells</td>\n",
       "      <td>Cord blood</td>\n",
       "      <td>GPA low, Band3 negative and alpha 4 integrin high</td>\n",
       "      <td>proerythroblast</td>\n",
       "      <td>NaN</td>\n",
       "      <td>NaN</td>\n",
       "      <td>NaN</td>\n",
       "      <td>NaN</td>\n",
       "      <td>NaN</td>\n",
       "      <td>NaN</td>\n",
       "      <td>...</td>\n",
       "      <td>NaN</td>\n",
       "      <td>NaN</td>\n",
       "      <td>NaN</td>\n",
       "      <td>NaN</td>\n",
       "      <td>NaN</td>\n",
       "      <td>NaN</td>\n",
       "      <td>NaN</td>\n",
       "      <td>NaN</td>\n",
       "      <td>NaN</td>\n",
       "      <td>1.494148</td>\n",
       "    </tr>\n",
       "    <tr>\n",
       "      <th>SRR1106085</th>\n",
       "      <td>Cultured CD34+ cells</td>\n",
       "      <td>Cord blood</td>\n",
       "      <td>GPA low, Band3 negative and alpha 4 integrin high</td>\n",
       "      <td>proerythroblast</td>\n",
       "      <td>NaN</td>\n",
       "      <td>NaN</td>\n",
       "      <td>NaN</td>\n",
       "      <td>NaN</td>\n",
       "      <td>NaN</td>\n",
       "      <td>NaN</td>\n",
       "      <td>...</td>\n",
       "      <td>NaN</td>\n",
       "      <td>NaN</td>\n",
       "      <td>NaN</td>\n",
       "      <td>NaN</td>\n",
       "      <td>NaN</td>\n",
       "      <td>NaN</td>\n",
       "      <td>NaN</td>\n",
       "      <td>NaN</td>\n",
       "      <td>NaN</td>\n",
       "      <td>1.542481</td>\n",
       "    </tr>\n",
       "    <tr>\n",
       "      <th>SRR1106087</th>\n",
       "      <td>Cultured CD34+ cells</td>\n",
       "      <td>Cord blood</td>\n",
       "      <td>GPA positive, Band3 medium and alpha 4 integri...</td>\n",
       "      <td>early basophilic erythroblast</td>\n",
       "      <td>NaN</td>\n",
       "      <td>NaN</td>\n",
       "      <td>NaN</td>\n",
       "      <td>NaN</td>\n",
       "      <td>NaN</td>\n",
       "      <td>NaN</td>\n",
       "      <td>...</td>\n",
       "      <td>NaN</td>\n",
       "      <td>NaN</td>\n",
       "      <td>NaN</td>\n",
       "      <td>NaN</td>\n",
       "      <td>NaN</td>\n",
       "      <td>NaN</td>\n",
       "      <td>NaN</td>\n",
       "      <td>NaN</td>\n",
       "      <td>NaN</td>\n",
       "      <td>1.994037</td>\n",
       "    </tr>\n",
       "    <tr>\n",
       "      <th>SRR1106086</th>\n",
       "      <td>Cultured CD34+ cells</td>\n",
       "      <td>Cord blood</td>\n",
       "      <td>GPA low, Band3 negative and alpha 4 integrin high</td>\n",
       "      <td>proerythroblast</td>\n",
       "      <td>NaN</td>\n",
       "      <td>NaN</td>\n",
       "      <td>NaN</td>\n",
       "      <td>NaN</td>\n",
       "      <td>NaN</td>\n",
       "      <td>NaN</td>\n",
       "      <td>...</td>\n",
       "      <td>NaN</td>\n",
       "      <td>NaN</td>\n",
       "      <td>NaN</td>\n",
       "      <td>NaN</td>\n",
       "      <td>NaN</td>\n",
       "      <td>NaN</td>\n",
       "      <td>NaN</td>\n",
       "      <td>NaN</td>\n",
       "      <td>NaN</td>\n",
       "      <td>1.531518</td>\n",
       "    </tr>\n",
       "    <tr>\n",
       "      <th>SRR1106089</th>\n",
       "      <td>Cultured CD34+ cells</td>\n",
       "      <td>Cord blood</td>\n",
       "      <td>GPA positive, Band3 medium and alpha 4 integri...</td>\n",
       "      <td>early basophilic erythroblast</td>\n",
       "      <td>NaN</td>\n",
       "      <td>NaN</td>\n",
       "      <td>NaN</td>\n",
       "      <td>NaN</td>\n",
       "      <td>NaN</td>\n",
       "      <td>NaN</td>\n",
       "      <td>...</td>\n",
       "      <td>NaN</td>\n",
       "      <td>NaN</td>\n",
       "      <td>NaN</td>\n",
       "      <td>NaN</td>\n",
       "      <td>NaN</td>\n",
       "      <td>NaN</td>\n",
       "      <td>NaN</td>\n",
       "      <td>NaN</td>\n",
       "      <td>NaN</td>\n",
       "      <td>1.857764</td>\n",
       "    </tr>\n",
       "  </tbody>\n",
       "</table>\n",
       "<p>5 rows × 63 columns</p>\n",
       "</div>"
      ],
      "text/plain": [
       "                                    strain      tissue  \\\n",
       "project   run                                            \n",
       "SRP035312 SRR1106084  Cultured CD34+ cells  Cord blood   \n",
       "          SRR1106085  Cultured CD34+ cells  Cord blood   \n",
       "          SRR1106087  Cultured CD34+ cells  Cord blood   \n",
       "          SRR1106086  Cultured CD34+ cells  Cord blood   \n",
       "          SRR1106089  Cultured CD34+ cells  Cord blood   \n",
       "\n",
       "                     surface markers to isolate cells by facs-based methods  \\\n",
       "project   run                                                                 \n",
       "SRP035312 SRR1106084  GPA low, Band3 negative and alpha 4 integrin high       \n",
       "          SRR1106085  GPA low, Band3 negative and alpha 4 integrin high       \n",
       "          SRR1106087  GPA positive, Band3 medium and alpha 4 integri...       \n",
       "          SRR1106086  GPA low, Band3 negative and alpha 4 integrin high       \n",
       "          SRR1106089  GPA positive, Band3 medium and alpha 4 integri...       \n",
       "\n",
       "                                          cell type differentiation stage  \\\n",
       "project   run                                                               \n",
       "SRP035312 SRR1106084                proerythroblast                   NaN   \n",
       "          SRR1106085                proerythroblast                   NaN   \n",
       "          SRR1106087  early basophilic erythroblast                   NaN   \n",
       "          SRR1106086                proerythroblast                   NaN   \n",
       "          SRR1106089  early basophilic erythroblast                   NaN   \n",
       "\n",
       "                     time point cell composition differentiation day  \\\n",
       "project   run                                                          \n",
       "SRP035312 SRR1106084        NaN              NaN                 NaN   \n",
       "          SRR1106085        NaN              NaN                 NaN   \n",
       "          SRR1106087        NaN              NaN                 NaN   \n",
       "          SRR1106086        NaN              NaN                 NaN   \n",
       "          SRR1106089        NaN              NaN                 NaN   \n",
       "\n",
       "                     treatment  age  ... ercc_dilution treated with diagnosis  \\\n",
       "project   run                        ...                                        \n",
       "SRP035312 SRR1106084       NaN  NaN  ...           NaN          NaN       NaN   \n",
       "          SRR1106085       NaN  NaN  ...           NaN          NaN       NaN   \n",
       "          SRR1106087       NaN  NaN  ...           NaN          NaN       NaN   \n",
       "          SRR1106086       NaN  NaN  ...           NaN          NaN       NaN   \n",
       "          SRR1106089       NaN  NaN  ...           NaN          NaN       NaN   \n",
       "\n",
       "                     transfected with tonsil donor facs gating patient id  \\\n",
       "project   run                                                               \n",
       "SRP035312 SRR1106084              NaN          NaN         NaN        NaN   \n",
       "          SRR1106085              NaN          NaN         NaN        NaN   \n",
       "          SRR1106087              NaN          NaN         NaN        NaN   \n",
       "          SRR1106086              NaN          NaN         NaN        NaN   \n",
       "          SRR1106089              NaN          NaN         NaN        NaN   \n",
       "\n",
       "                     subtype knockdown     LV928  \n",
       "project   run                                     \n",
       "SRP035312 SRR1106084     NaN       NaN  1.494148  \n",
       "          SRR1106085     NaN       NaN  1.542481  \n",
       "          SRR1106087     NaN       NaN  1.994037  \n",
       "          SRR1106086     NaN       NaN  1.531518  \n",
       "          SRR1106089     NaN       NaN  1.857764  \n",
       "\n",
       "[5 rows x 63 columns]"
      ]
     },
     "execution_count": 20,
     "metadata": {},
     "output_type": "execute_result"
    }
   ],
   "source": [
    "lv_data.head()"
   ]
  },
  {
   "cell_type": "markdown",
   "id": "announced-imagination",
   "metadata": {},
   "source": [
    "# LV cell types analysis"
   ]
  },
  {
   "cell_type": "markdown",
   "id": "adolescent-pleasure",
   "metadata": {},
   "source": [
    "## Get top attributes"
   ]
  },
  {
   "cell_type": "code",
   "execution_count": 21,
   "id": "alone-ethics",
   "metadata": {},
   "outputs": [
    {
     "data": {
      "text/plain": [
       "strain                                                    0.680591\n",
       "surface markers to isolate cells by facs-based methods    0.680591\n",
       "differentiation stage                                     0.607918\n",
       "time point                                                0.531657\n",
       "differentiation day                                       0.323213\n",
       "cell composition                                          0.323213\n",
       "resonse to decitabine                                     0.302681\n",
       "type of chronic myelomonocytic leukemia                   0.272135\n",
       "cytogenetics                                              0.272135\n",
       "mutation                                                  0.272135\n",
       "condition                                                 0.236591\n",
       "treatment                                                 0.204092\n",
       "developmental stage                                       0.169468\n",
       "disease state                                             0.163377\n",
       "sf3b1 mutation                                            0.144172\n",
       "age                                                       0.128883\n",
       "gender                                                    0.121623\n",
       "tissue                                                    0.097096\n",
       "shRNA                                                     0.095092\n",
       "antibody used for sorting                                 0.086807\n",
       "dtype: float64"
      ]
     },
     "metadata": {},
     "output_type": "display_data"
    }
   ],
   "source": [
    "lv_attrs = lv_obj.get_attributes_variation_score()\n",
    "display(lv_attrs.head(20))"
   ]
  },
  {
   "cell_type": "code",
   "execution_count": 22,
   "id": "stuffed-baptist",
   "metadata": {},
   "outputs": [
    {
     "data": {
      "text/plain": [
       "tissue            0.097096\n",
       "cell type         0.046224\n",
       "cell phenotype    0.017420\n",
       "dtype: float64"
      ]
     },
     "execution_count": 22,
     "metadata": {},
     "output_type": "execute_result"
    }
   ],
   "source": [
    "# show those with cell type or tissue in their name\n",
    "_tmp = pd.Series(lv_attrs.index)\n",
    "lv_attrs[\n",
    "    _tmp.str.match(\n",
    "        \"(?:cell.+type$)|(?:tissue$)|(?:tissue.+type$)\",\n",
    "        case=False,\n",
    "        flags=re.IGNORECASE,\n",
    "    ).values\n",
    "].sort_values(ascending=False)"
   ]
  },
  {
   "cell_type": "code",
   "execution_count": 23,
   "id": "monetary-malawi",
   "metadata": {},
   "outputs": [],
   "source": [
    "_tmp = lv_data.loc[\n",
    "    :,\n",
    "    [\n",
    "        \"cell type\",\n",
    "        \"differentiation stage\",\n",
    "        \"tissue\",\n",
    "        LV_NAME,\n",
    "    ],\n",
    "]"
   ]
  },
  {
   "cell_type": "code",
   "execution_count": 24,
   "id": "peripheral-forge",
   "metadata": {},
   "outputs": [],
   "source": [
    "_tmp_seq = list(chunker(_tmp.sort_values(LV_NAME, ascending=False), 25))"
   ]
  },
  {
   "cell_type": "code",
   "execution_count": 25,
   "id": "communist-interim",
   "metadata": {},
   "outputs": [
    {
     "data": {
      "text/html": [
       "<div>\n",
       "<style scoped>\n",
       "    .dataframe tbody tr th:only-of-type {\n",
       "        vertical-align: middle;\n",
       "    }\n",
       "\n",
       "    .dataframe tbody tr th {\n",
       "        vertical-align: top;\n",
       "    }\n",
       "\n",
       "    .dataframe thead th {\n",
       "        text-align: right;\n",
       "    }\n",
       "</style>\n",
       "<table border=\"1\" class=\"dataframe\">\n",
       "  <thead>\n",
       "    <tr style=\"text-align: right;\">\n",
       "      <th></th>\n",
       "      <th></th>\n",
       "      <th>cell type</th>\n",
       "      <th>differentiation stage</th>\n",
       "      <th>tissue</th>\n",
       "      <th>LV928</th>\n",
       "    </tr>\n",
       "    <tr>\n",
       "      <th>project</th>\n",
       "      <th>run</th>\n",
       "      <th></th>\n",
       "      <th></th>\n",
       "      <th></th>\n",
       "      <th></th>\n",
       "    </tr>\n",
       "  </thead>\n",
       "  <tbody>\n",
       "    <tr>\n",
       "      <th>SRP061689</th>\n",
       "      <th>SRR2131611</th>\n",
       "      <td>Erythroblasts</td>\n",
       "      <td>NaN</td>\n",
       "      <td>NaN</td>\n",
       "      <td>1.835134</td>\n",
       "    </tr>\n",
       "    <tr>\n",
       "      <th>SRP046233</th>\n",
       "      <th>SRR1566098</th>\n",
       "      <td>bone marrow mononuclear cells (BM MNC)</td>\n",
       "      <td>NaN</td>\n",
       "      <td>NaN</td>\n",
       "      <td>1.780124</td>\n",
       "    </tr>\n",
       "    <tr>\n",
       "      <th>SRP036133</th>\n",
       "      <th>SRR1153284</th>\n",
       "      <td>in vitro differentiated erythroid cells</td>\n",
       "      <td>NaN</td>\n",
       "      <td>NaN</td>\n",
       "      <td>1.763347</td>\n",
       "    </tr>\n",
       "    <tr>\n",
       "      <th rowspan=\"2\" valign=\"top\">SRP056295</th>\n",
       "      <th>SRR1918605</th>\n",
       "      <td>acute myeloid leukemia (AML) cells</td>\n",
       "      <td>NaN</td>\n",
       "      <td>Bone marrow</td>\n",
       "      <td>1.752358</td>\n",
       "    </tr>\n",
       "    <tr>\n",
       "      <th>SRR1918606</th>\n",
       "      <td>acute myeloid leukemia (AML) cells</td>\n",
       "      <td>NaN</td>\n",
       "      <td>Bone marrow</td>\n",
       "      <td>1.747996</td>\n",
       "    </tr>\n",
       "    <tr>\n",
       "      <th>SRP036133</th>\n",
       "      <th>SRR1153283</th>\n",
       "      <td>in vitro differentiated erythroid cells</td>\n",
       "      <td>NaN</td>\n",
       "      <td>NaN</td>\n",
       "      <td>1.684840</td>\n",
       "    </tr>\n",
       "    <tr>\n",
       "      <th rowspan=\"3\" valign=\"top\">SRP061689</th>\n",
       "      <th>SRR2131607</th>\n",
       "      <td>Erythroblasts</td>\n",
       "      <td>NaN</td>\n",
       "      <td>NaN</td>\n",
       "      <td>1.663746</td>\n",
       "    </tr>\n",
       "    <tr>\n",
       "      <th>SRR2131608</th>\n",
       "      <td>Erythroblasts</td>\n",
       "      <td>NaN</td>\n",
       "      <td>NaN</td>\n",
       "      <td>1.642061</td>\n",
       "    </tr>\n",
       "    <tr>\n",
       "      <th>SRR2131606</th>\n",
       "      <td>Erythroblasts</td>\n",
       "      <td>NaN</td>\n",
       "      <td>NaN</td>\n",
       "      <td>1.614923</td>\n",
       "    </tr>\n",
       "    <tr>\n",
       "      <th>SRP036133</th>\n",
       "      <th>SRR1153280</th>\n",
       "      <td>in vitro differentiated erythroid cells</td>\n",
       "      <td>NaN</td>\n",
       "      <td>NaN</td>\n",
       "      <td>1.591648</td>\n",
       "    </tr>\n",
       "    <tr>\n",
       "      <th>SRP034711</th>\n",
       "      <th>SRR1057983</th>\n",
       "      <td>NaN</td>\n",
       "      <td>proerythroblasts</td>\n",
       "      <td>NaN</td>\n",
       "      <td>1.543754</td>\n",
       "    </tr>\n",
       "    <tr>\n",
       "      <th rowspan=\"2\" valign=\"top\">SRP035312</th>\n",
       "      <th>SRR1106085</th>\n",
       "      <td>proerythroblast</td>\n",
       "      <td>NaN</td>\n",
       "      <td>Cord blood</td>\n",
       "      <td>1.542481</td>\n",
       "    </tr>\n",
       "    <tr>\n",
       "      <th>SRR1106086</th>\n",
       "      <td>proerythroblast</td>\n",
       "      <td>NaN</td>\n",
       "      <td>Cord blood</td>\n",
       "      <td>1.531518</td>\n",
       "    </tr>\n",
       "    <tr>\n",
       "      <th rowspan=\"2\" valign=\"top\">SRP034711</th>\n",
       "      <th>SRR1057988</th>\n",
       "      <td>NaN</td>\n",
       "      <td>proerythroblasts</td>\n",
       "      <td>NaN</td>\n",
       "      <td>1.530253</td>\n",
       "    </tr>\n",
       "    <tr>\n",
       "      <th>SRR1057978</th>\n",
       "      <td>NaN</td>\n",
       "      <td>proerythroblasts</td>\n",
       "      <td>NaN</td>\n",
       "      <td>1.494231</td>\n",
       "    </tr>\n",
       "    <tr>\n",
       "      <th>SRP035312</th>\n",
       "      <th>SRR1106084</th>\n",
       "      <td>proerythroblast</td>\n",
       "      <td>NaN</td>\n",
       "      <td>Cord blood</td>\n",
       "      <td>1.494148</td>\n",
       "    </tr>\n",
       "    <tr>\n",
       "      <th>SRP050333</th>\n",
       "      <th>SRR2124306</th>\n",
       "      <td>Cultured erythroid progenitors</td>\n",
       "      <td>NaN</td>\n",
       "      <td>NaN</td>\n",
       "      <td>1.472783</td>\n",
       "    </tr>\n",
       "    <tr>\n",
       "      <th rowspan=\"4\" valign=\"top\">SRP005281</th>\n",
       "      <th>SRR091696</th>\n",
       "      <td>NaN</td>\n",
       "      <td>NaN</td>\n",
       "      <td>NaN</td>\n",
       "      <td>1.347115</td>\n",
       "    </tr>\n",
       "    <tr>\n",
       "      <th>SRR091693</th>\n",
       "      <td>NaN</td>\n",
       "      <td>NaN</td>\n",
       "      <td>NaN</td>\n",
       "      <td>1.324961</td>\n",
       "    </tr>\n",
       "    <tr>\n",
       "      <th>SRR091697</th>\n",
       "      <td>NaN</td>\n",
       "      <td>NaN</td>\n",
       "      <td>NaN</td>\n",
       "      <td>1.318590</td>\n",
       "    </tr>\n",
       "    <tr>\n",
       "      <th>SRR091694</th>\n",
       "      <td>NaN</td>\n",
       "      <td>NaN</td>\n",
       "      <td>NaN</td>\n",
       "      <td>1.315299</td>\n",
       "    </tr>\n",
       "    <tr>\n",
       "      <th>SRP036133</th>\n",
       "      <th>SRR1153279</th>\n",
       "      <td>in vitro differentiated erythroid cells</td>\n",
       "      <td>NaN</td>\n",
       "      <td>NaN</td>\n",
       "      <td>1.261847</td>\n",
       "    </tr>\n",
       "    <tr>\n",
       "      <th rowspan=\"2\" valign=\"top\">SRP056295</th>\n",
       "      <th>SRR1918641</th>\n",
       "      <td>acute myeloid leukemia (AML) cells</td>\n",
       "      <td>NaN</td>\n",
       "      <td>Bone marrow</td>\n",
       "      <td>1.261843</td>\n",
       "    </tr>\n",
       "    <tr>\n",
       "      <th>SRR1918642</th>\n",
       "      <td>acute myeloid leukemia (AML) cells</td>\n",
       "      <td>NaN</td>\n",
       "      <td>Bone marrow</td>\n",
       "      <td>1.261235</td>\n",
       "    </tr>\n",
       "    <tr>\n",
       "      <th>SRP063493</th>\n",
       "      <th>SRR2313087</th>\n",
       "      <td>NaN</td>\n",
       "      <td>NaN</td>\n",
       "      <td>NaN</td>\n",
       "      <td>1.253884</td>\n",
       "    </tr>\n",
       "  </tbody>\n",
       "</table>\n",
       "</div>"
      ],
      "text/plain": [
       "                                                    cell type  \\\n",
       "project   run                                                   \n",
       "SRP061689 SRR2131611                            Erythroblasts   \n",
       "SRP046233 SRR1566098   bone marrow mononuclear cells (BM MNC)   \n",
       "SRP036133 SRR1153284  in vitro differentiated erythroid cells   \n",
       "SRP056295 SRR1918605       acute myeloid leukemia (AML) cells   \n",
       "          SRR1918606       acute myeloid leukemia (AML) cells   \n",
       "SRP036133 SRR1153283  in vitro differentiated erythroid cells   \n",
       "SRP061689 SRR2131607                            Erythroblasts   \n",
       "          SRR2131608                            Erythroblasts   \n",
       "          SRR2131606                            Erythroblasts   \n",
       "SRP036133 SRR1153280  in vitro differentiated erythroid cells   \n",
       "SRP034711 SRR1057983                                      NaN   \n",
       "SRP035312 SRR1106085                          proerythroblast   \n",
       "          SRR1106086                          proerythroblast   \n",
       "SRP034711 SRR1057988                                      NaN   \n",
       "          SRR1057978                                      NaN   \n",
       "SRP035312 SRR1106084                          proerythroblast   \n",
       "SRP050333 SRR2124306           Cultured erythroid progenitors   \n",
       "SRP005281 SRR091696                                       NaN   \n",
       "          SRR091693                                       NaN   \n",
       "          SRR091697                                       NaN   \n",
       "          SRR091694                                       NaN   \n",
       "SRP036133 SRR1153279  in vitro differentiated erythroid cells   \n",
       "SRP056295 SRR1918641       acute myeloid leukemia (AML) cells   \n",
       "          SRR1918642       acute myeloid leukemia (AML) cells   \n",
       "SRP063493 SRR2313087                                      NaN   \n",
       "\n",
       "                     differentiation stage       tissue     LV928  \n",
       "project   run                                                      \n",
       "SRP061689 SRR2131611                   NaN          NaN  1.835134  \n",
       "SRP046233 SRR1566098                   NaN          NaN  1.780124  \n",
       "SRP036133 SRR1153284                   NaN          NaN  1.763347  \n",
       "SRP056295 SRR1918605                   NaN  Bone marrow  1.752358  \n",
       "          SRR1918606                   NaN  Bone marrow  1.747996  \n",
       "SRP036133 SRR1153283                   NaN          NaN  1.684840  \n",
       "SRP061689 SRR2131607                   NaN          NaN  1.663746  \n",
       "          SRR2131608                   NaN          NaN  1.642061  \n",
       "          SRR2131606                   NaN          NaN  1.614923  \n",
       "SRP036133 SRR1153280                   NaN          NaN  1.591648  \n",
       "SRP034711 SRR1057983      proerythroblasts          NaN  1.543754  \n",
       "SRP035312 SRR1106085                   NaN   Cord blood  1.542481  \n",
       "          SRR1106086                   NaN   Cord blood  1.531518  \n",
       "SRP034711 SRR1057988      proerythroblasts          NaN  1.530253  \n",
       "          SRR1057978      proerythroblasts          NaN  1.494231  \n",
       "SRP035312 SRR1106084                   NaN   Cord blood  1.494148  \n",
       "SRP050333 SRR2124306                   NaN          NaN  1.472783  \n",
       "SRP005281 SRR091696                    NaN          NaN  1.347115  \n",
       "          SRR091693                    NaN          NaN  1.324961  \n",
       "          SRR091697                    NaN          NaN  1.318590  \n",
       "          SRR091694                    NaN          NaN  1.315299  \n",
       "SRP036133 SRR1153279                   NaN          NaN  1.261847  \n",
       "SRP056295 SRR1918641                   NaN  Bone marrow  1.261843  \n",
       "          SRR1918642                   NaN  Bone marrow  1.261235  \n",
       "SRP063493 SRR2313087                   NaN          NaN  1.253884  "
      ]
     },
     "execution_count": 25,
     "metadata": {},
     "output_type": "execute_result"
    }
   ],
   "source": [
    "_tmp_seq[1]"
   ]
  },
  {
   "cell_type": "code",
   "execution_count": 26,
   "id": "worldwide-murray",
   "metadata": {},
   "outputs": [
    {
     "data": {
      "text/html": [
       "<div>\n",
       "<style scoped>\n",
       "    .dataframe tbody tr th:only-of-type {\n",
       "        vertical-align: middle;\n",
       "    }\n",
       "\n",
       "    .dataframe tbody tr th {\n",
       "        vertical-align: top;\n",
       "    }\n",
       "\n",
       "    .dataframe thead th {\n",
       "        text-align: right;\n",
       "    }\n",
       "</style>\n",
       "<table border=\"1\" class=\"dataframe\">\n",
       "  <thead>\n",
       "    <tr style=\"text-align: right;\">\n",
       "      <th></th>\n",
       "      <th></th>\n",
       "      <th>treatment</th>\n",
       "      <th>cell line</th>\n",
       "      <th>disease state</th>\n",
       "      <th>sf3b1 mutation</th>\n",
       "      <th>LV928</th>\n",
       "    </tr>\n",
       "    <tr>\n",
       "      <th>project</th>\n",
       "      <th>run</th>\n",
       "      <th></th>\n",
       "      <th></th>\n",
       "      <th></th>\n",
       "      <th></th>\n",
       "      <th></th>\n",
       "    </tr>\n",
       "  </thead>\n",
       "  <tbody>\n",
       "    <tr>\n",
       "      <th rowspan=\"10\" valign=\"top\">SRP063493</th>\n",
       "      <th>SRR2313087</th>\n",
       "      <td>NaN</td>\n",
       "      <td>NaN</td>\n",
       "      <td>MDS</td>\n",
       "      <td>K700E</td>\n",
       "      <td>1.253884</td>\n",
       "    </tr>\n",
       "    <tr>\n",
       "      <th>SRR2313080</th>\n",
       "      <td>NaN</td>\n",
       "      <td>NaN</td>\n",
       "      <td>MDS</td>\n",
       "      <td>E622D</td>\n",
       "      <td>1.100477</td>\n",
       "    </tr>\n",
       "    <tr>\n",
       "      <th>SRR2313081</th>\n",
       "      <td>NaN</td>\n",
       "      <td>NaN</td>\n",
       "      <td>MDS</td>\n",
       "      <td>K700E</td>\n",
       "      <td>0.978857</td>\n",
       "    </tr>\n",
       "    <tr>\n",
       "      <th>SRR2313076</th>\n",
       "      <td>NaN</td>\n",
       "      <td>NaN</td>\n",
       "      <td>MDS</td>\n",
       "      <td>K700E</td>\n",
       "      <td>0.857299</td>\n",
       "    </tr>\n",
       "    <tr>\n",
       "      <th>SRR2313079</th>\n",
       "      <td>NaN</td>\n",
       "      <td>NaN</td>\n",
       "      <td>MDS</td>\n",
       "      <td>E622D</td>\n",
       "      <td>0.857029</td>\n",
       "    </tr>\n",
       "    <tr>\n",
       "      <th>SRR2313082</th>\n",
       "      <td>NaN</td>\n",
       "      <td>NaN</td>\n",
       "      <td>MDS</td>\n",
       "      <td>K700E</td>\n",
       "      <td>0.589940</td>\n",
       "    </tr>\n",
       "    <tr>\n",
       "      <th>SRR2313085</th>\n",
       "      <td>NaN</td>\n",
       "      <td>NaN</td>\n",
       "      <td>MDS</td>\n",
       "      <td>K700E</td>\n",
       "      <td>0.431755</td>\n",
       "    </tr>\n",
       "    <tr>\n",
       "      <th>SRR2313088</th>\n",
       "      <td>NaN</td>\n",
       "      <td>NaN</td>\n",
       "      <td>MDS</td>\n",
       "      <td>E622D</td>\n",
       "      <td>0.420086</td>\n",
       "    </tr>\n",
       "    <tr>\n",
       "      <th>SRR2313083</th>\n",
       "      <td>NaN</td>\n",
       "      <td>NaN</td>\n",
       "      <td>MDS</td>\n",
       "      <td>K700E</td>\n",
       "      <td>0.420074</td>\n",
       "    </tr>\n",
       "    <tr>\n",
       "      <th>SRR2313086</th>\n",
       "      <td>NaN</td>\n",
       "      <td>NaN</td>\n",
       "      <td>MDS</td>\n",
       "      <td>K700E</td>\n",
       "      <td>0.223112</td>\n",
       "    </tr>\n",
       "  </tbody>\n",
       "</table>\n",
       "</div>"
      ],
      "text/plain": [
       "                     treatment cell line disease state sf3b1 mutation  \\\n",
       "project   run                                                           \n",
       "SRP063493 SRR2313087       NaN       NaN           MDS          K700E   \n",
       "          SRR2313080       NaN       NaN           MDS          E622D   \n",
       "          SRR2313081       NaN       NaN           MDS          K700E   \n",
       "          SRR2313076       NaN       NaN           MDS          K700E   \n",
       "          SRR2313079       NaN       NaN           MDS          E622D   \n",
       "          SRR2313082       NaN       NaN           MDS          K700E   \n",
       "          SRR2313085       NaN       NaN           MDS          K700E   \n",
       "          SRR2313088       NaN       NaN           MDS          E622D   \n",
       "          SRR2313083       NaN       NaN           MDS          K700E   \n",
       "          SRR2313086       NaN       NaN           MDS          K700E   \n",
       "\n",
       "                         LV928  \n",
       "project   run                   \n",
       "SRP063493 SRR2313087  1.253884  \n",
       "          SRR2313080  1.100477  \n",
       "          SRR2313081  0.978857  \n",
       "          SRR2313076  0.857299  \n",
       "          SRR2313079  0.857029  \n",
       "          SRR2313082  0.589940  \n",
       "          SRR2313085  0.431755  \n",
       "          SRR2313088  0.420086  \n",
       "          SRR2313083  0.420074  \n",
       "          SRR2313086  0.223112  "
      ]
     },
     "execution_count": 26,
     "metadata": {},
     "output_type": "execute_result"
    }
   ],
   "source": [
    "# what is there in these projects?\n",
    "lv_data.loc[[\"SRP063493\"]].dropna(how=\"all\", axis=1).sort_values(\n",
    "    LV_NAME, ascending=False\n",
    ").sort_values(LV_NAME, ascending=False).head(10)"
   ]
  },
  {
   "cell_type": "code",
   "execution_count": 27,
   "id": "owned-injury",
   "metadata": {},
   "outputs": [],
   "source": [
    "SELECTED_ATTRIBUTE = \"cell type\""
   ]
  },
  {
   "cell_type": "code",
   "execution_count": 28,
   "id": "executive-canvas",
   "metadata": {},
   "outputs": [],
   "source": [
    "# it has to be in the order desired for filling nans in the SELECTED_ATTRIBUTE\n",
    "SECOND_ATTRIBUTES = [\"differentiation stage\", \"tissue\"]"
   ]
  },
  {
   "cell_type": "markdown",
   "id": "covered-japanese",
   "metadata": {},
   "source": [
    "## Get plot data"
   ]
  },
  {
   "cell_type": "code",
   "execution_count": 29,
   "id": "indian-timber",
   "metadata": {},
   "outputs": [],
   "source": [
    "plot_data = lv_data.loc[:, [SELECTED_ATTRIBUTE] + SECOND_ATTRIBUTES + [LV_NAME]]"
   ]
  },
  {
   "cell_type": "code",
   "execution_count": 30,
   "id": "familiar-welsh",
   "metadata": {},
   "outputs": [],
   "source": [
    "# if blank/nan, fill cell type column with tissue content\n",
    "_new_column = plot_data[[SELECTED_ATTRIBUTE] + SECOND_ATTRIBUTES].fillna(\n",
    "    method=\"backfill\", axis=1\n",
    ")[SELECTED_ATTRIBUTE]\n",
    "plot_data[SELECTED_ATTRIBUTE] = _new_column\n",
    "plot_data = plot_data.drop(columns=SECOND_ATTRIBUTES)\n",
    "plot_data = plot_data.fillna({SELECTED_ATTRIBUTE: \"NOT CATEGORIZED\"})\n",
    "# plot_data = plot_data.dropna(subset=[SELECTED_ATTRIBUTE])"
   ]
  },
  {
   "cell_type": "code",
   "execution_count": 31,
   "id": "regulation-aging",
   "metadata": {},
   "outputs": [],
   "source": [
    "plot_data = plot_data.sort_values(LV_NAME, ascending=False)"
   ]
  },
  {
   "cell_type": "code",
   "execution_count": 32,
   "id": "framed-entry",
   "metadata": {},
   "outputs": [
    {
     "data": {
      "text/html": [
       "<div>\n",
       "<style scoped>\n",
       "    .dataframe tbody tr th:only-of-type {\n",
       "        vertical-align: middle;\n",
       "    }\n",
       "\n",
       "    .dataframe tbody tr th {\n",
       "        vertical-align: top;\n",
       "    }\n",
       "\n",
       "    .dataframe thead th {\n",
       "        text-align: right;\n",
       "    }\n",
       "</style>\n",
       "<table border=\"1\" class=\"dataframe\">\n",
       "  <thead>\n",
       "    <tr style=\"text-align: right;\">\n",
       "      <th></th>\n",
       "      <th></th>\n",
       "      <th>cell type</th>\n",
       "      <th>LV928</th>\n",
       "    </tr>\n",
       "    <tr>\n",
       "      <th>project</th>\n",
       "      <th>run</th>\n",
       "      <th></th>\n",
       "      <th></th>\n",
       "    </tr>\n",
       "  </thead>\n",
       "  <tbody>\n",
       "    <tr>\n",
       "      <th>SRP035312</th>\n",
       "      <th>SRR1106090</th>\n",
       "      <td>late basophilic erythroblast</td>\n",
       "      <td>2.614234</td>\n",
       "    </tr>\n",
       "    <tr>\n",
       "      <th>SRP034711</th>\n",
       "      <th>SRR1057980</th>\n",
       "      <td>late basophilic erythroblasts</td>\n",
       "      <td>2.612812</td>\n",
       "    </tr>\n",
       "    <tr>\n",
       "      <th>SRP035312</th>\n",
       "      <th>SRR1106092</th>\n",
       "      <td>late basophilic erythroblast</td>\n",
       "      <td>2.456356</td>\n",
       "    </tr>\n",
       "    <tr>\n",
       "      <th rowspan=\"2\" valign=\"top\">SRP034711</th>\n",
       "      <th>SRR1057990</th>\n",
       "      <td>late basophilic erythroblasts</td>\n",
       "      <td>2.456093</td>\n",
       "    </tr>\n",
       "    <tr>\n",
       "      <th>SRR1057985</th>\n",
       "      <td>late basophilic erythroblasts</td>\n",
       "      <td>2.455134</td>\n",
       "    </tr>\n",
       "    <tr>\n",
       "      <th>SRP035312</th>\n",
       "      <th>SRR1106091</th>\n",
       "      <td>late basophilic erythroblast</td>\n",
       "      <td>2.452403</td>\n",
       "    </tr>\n",
       "    <tr>\n",
       "      <th>SRP034711</th>\n",
       "      <th>SRR1057986</th>\n",
       "      <td>polychromatophilic erythroblasts</td>\n",
       "      <td>2.243881</td>\n",
       "    </tr>\n",
       "    <tr>\n",
       "      <th>SRP035312</th>\n",
       "      <th>SRR1106094</th>\n",
       "      <td>polychromatic erythroblast</td>\n",
       "      <td>2.243361</td>\n",
       "    </tr>\n",
       "    <tr>\n",
       "      <th>SRP015138</th>\n",
       "      <th>SRR547607</th>\n",
       "      <td>primary CD34+ stem/progenitor cells</td>\n",
       "      <td>2.203715</td>\n",
       "    </tr>\n",
       "    <tr>\n",
       "      <th>SRP036133</th>\n",
       "      <th>SRR1153285</th>\n",
       "      <td>in vitro differentiated erythroid cells</td>\n",
       "      <td>2.129596</td>\n",
       "    </tr>\n",
       "    <tr>\n",
       "      <th rowspan=\"2\" valign=\"top\">SRP056295</th>\n",
       "      <th>SRR1918654</th>\n",
       "      <td>acute myeloid leukemia (AML) cells</td>\n",
       "      <td>2.112450</td>\n",
       "    </tr>\n",
       "    <tr>\n",
       "      <th>SRR1918653</th>\n",
       "      <td>acute myeloid leukemia (AML) cells</td>\n",
       "      <td>2.110086</td>\n",
       "    </tr>\n",
       "    <tr>\n",
       "      <th>SRP034711</th>\n",
       "      <th>SRR1057981</th>\n",
       "      <td>polychromatophilic erythroblasts</td>\n",
       "      <td>2.068676</td>\n",
       "    </tr>\n",
       "    <tr>\n",
       "      <th>SRP035312</th>\n",
       "      <th>SRR1106093</th>\n",
       "      <td>polychromatic erythroblast</td>\n",
       "      <td>2.063162</td>\n",
       "    </tr>\n",
       "    <tr>\n",
       "      <th>SRP034711</th>\n",
       "      <th>SRR1057991</th>\n",
       "      <td>polychromatophilic erythroblasts</td>\n",
       "      <td>2.050974</td>\n",
       "    </tr>\n",
       "    <tr>\n",
       "      <th rowspan=\"2\" valign=\"top\">SRP035312</th>\n",
       "      <th>SRR1106095</th>\n",
       "      <td>polychromatic erythroblast</td>\n",
       "      <td>2.048636</td>\n",
       "    </tr>\n",
       "    <tr>\n",
       "      <th>SRR1106087</th>\n",
       "      <td>early basophilic erythroblast</td>\n",
       "      <td>1.994037</td>\n",
       "    </tr>\n",
       "    <tr>\n",
       "      <th rowspan=\"2\" valign=\"top\">SRP034711</th>\n",
       "      <th>SRR1057979</th>\n",
       "      <td>early basophilic erythroblasts</td>\n",
       "      <td>1.993151</td>\n",
       "    </tr>\n",
       "    <tr>\n",
       "      <th>SRR1057984</th>\n",
       "      <td>early basophilic erythroblasts</td>\n",
       "      <td>1.898558</td>\n",
       "    </tr>\n",
       "    <tr>\n",
       "      <th>SRP035312</th>\n",
       "      <th>SRR1106088</th>\n",
       "      <td>early basophilic erythroblast</td>\n",
       "      <td>1.898053</td>\n",
       "    </tr>\n",
       "  </tbody>\n",
       "</table>\n",
       "</div>"
      ],
      "text/plain": [
       "                                                    cell type     LV928\n",
       "project   run                                                          \n",
       "SRP035312 SRR1106090             late basophilic erythroblast  2.614234\n",
       "SRP034711 SRR1057980            late basophilic erythroblasts  2.612812\n",
       "SRP035312 SRR1106092             late basophilic erythroblast  2.456356\n",
       "SRP034711 SRR1057990            late basophilic erythroblasts  2.456093\n",
       "          SRR1057985            late basophilic erythroblasts  2.455134\n",
       "SRP035312 SRR1106091             late basophilic erythroblast  2.452403\n",
       "SRP034711 SRR1057986         polychromatophilic erythroblasts  2.243881\n",
       "SRP035312 SRR1106094               polychromatic erythroblast  2.243361\n",
       "SRP015138 SRR547607       primary CD34+ stem/progenitor cells  2.203715\n",
       "SRP036133 SRR1153285  in vitro differentiated erythroid cells  2.129596\n",
       "SRP056295 SRR1918654       acute myeloid leukemia (AML) cells  2.112450\n",
       "          SRR1918653       acute myeloid leukemia (AML) cells  2.110086\n",
       "SRP034711 SRR1057981         polychromatophilic erythroblasts  2.068676\n",
       "SRP035312 SRR1106093               polychromatic erythroblast  2.063162\n",
       "SRP034711 SRR1057991         polychromatophilic erythroblasts  2.050974\n",
       "SRP035312 SRR1106095               polychromatic erythroblast  2.048636\n",
       "          SRR1106087            early basophilic erythroblast  1.994037\n",
       "SRP034711 SRR1057979           early basophilic erythroblasts  1.993151\n",
       "          SRR1057984           early basophilic erythroblasts  1.898558\n",
       "SRP035312 SRR1106088            early basophilic erythroblast  1.898053"
      ]
     },
     "execution_count": 32,
     "metadata": {},
     "output_type": "execute_result"
    }
   ],
   "source": [
    "plot_data.head(20)"
   ]
  },
  {
   "cell_type": "markdown",
   "id": "motivated-finder",
   "metadata": {},
   "source": [
    "## Customize x-axis values"
   ]
  },
  {
   "cell_type": "markdown",
   "id": "conditional-hybrid",
   "metadata": {},
   "source": [
    "When cell type values are not very clear, customize their names by looking at their specific studies to know exactly what the authors meant."
   ]
  },
  {
   "cell_type": "code",
   "execution_count": 33,
   "id": "acute-virginia",
   "metadata": {},
   "outputs": [],
   "source": [
    "final_plot_data = plot_data.replace(\n",
    "    {\n",
    "        SELECTED_ATTRIBUTE: {\n",
    "            #             \"adipocyte\": \"Adipocytes\",\n",
    "        }\n",
    "    }\n",
    ")"
   ]
  },
  {
   "cell_type": "code",
   "execution_count": 34,
   "id": "overhead-cycling",
   "metadata": {},
   "outputs": [],
   "source": [
    "# all samples from SRP049593 are fibroblasts\n",
    "final_plot_data[SELECTED_ATTRIBUTE] = final_plot_data.apply(\n",
    "    lambda x: \"Erythroblast cells\" if x.name[0] in (\"SRP005281\",) else x[\"cell type\"],\n",
    "    axis=1,\n",
    ")"
   ]
  },
  {
   "cell_type": "code",
   "execution_count": 35,
   "id": "fallen-objective",
   "metadata": {},
   "outputs": [],
   "source": [
    "# take the top samples only\n",
    "final_plot_data = final_plot_data.sort_values(LV_NAME, ascending=False)[:N_TOP_SAMPLES]"
   ]
  },
  {
   "cell_type": "markdown",
   "id": "roman-arrival",
   "metadata": {},
   "source": [
    "## Threshold LV values"
   ]
  },
  {
   "cell_type": "code",
   "execution_count": 36,
   "id": "natural-wages",
   "metadata": {},
   "outputs": [],
   "source": [
    "final_plot_data.loc[\n",
    "    final_plot_data[LV_NAME] > LV_AXIS_THRESHOLD, LV_NAME\n",
    "] = LV_AXIS_THRESHOLD"
   ]
  },
  {
   "cell_type": "markdown",
   "id": "unique-italy",
   "metadata": {},
   "source": [
    "## Delete samples with no tissue/cell type information"
   ]
  },
  {
   "cell_type": "code",
   "execution_count": 37,
   "id": "german-creature",
   "metadata": {},
   "outputs": [],
   "source": [
    "final_plot_data = final_plot_data[\n",
    "    final_plot_data[SELECTED_ATTRIBUTE] != \"NOT CATEGORIZED\"\n",
    "]"
   ]
  },
  {
   "cell_type": "markdown",
   "id": "narrow-stationery",
   "metadata": {},
   "source": [
    "## Set x-axis order"
   ]
  },
  {
   "cell_type": "code",
   "execution_count": 38,
   "id": "thermal-sensitivity",
   "metadata": {},
   "outputs": [],
   "source": [
    "attr_order = (\n",
    "    final_plot_data.groupby(SELECTED_ATTRIBUTE)\n",
    "    .max()\n",
    "    .sort_values(LV_NAME, ascending=False)\n",
    "    .index[:N_TOP_ATTRS]\n",
    "    .tolist()\n",
    ")"
   ]
  },
  {
   "cell_type": "code",
   "execution_count": 39,
   "id": "frozen-armor",
   "metadata": {},
   "outputs": [
    {
     "data": {
      "text/plain": [
       "25"
      ]
     },
     "execution_count": 39,
     "metadata": {},
     "output_type": "execute_result"
    }
   ],
   "source": [
    "len(attr_order)"
   ]
  },
  {
   "cell_type": "code",
   "execution_count": 40,
   "id": "congressional-antique",
   "metadata": {},
   "outputs": [
    {
     "data": {
      "text/plain": [
       "['late basophilic erythroblast',\n",
       " 'late basophilic erythroblasts',\n",
       " 'polychromatophilic erythroblasts',\n",
       " 'polychromatic erythroblast',\n",
       " 'primary CD34+ stem/progenitor cells']"
      ]
     },
     "execution_count": 40,
     "metadata": {},
     "output_type": "execute_result"
    }
   ],
   "source": [
    "attr_order[:5]"
   ]
  },
  {
   "cell_type": "markdown",
   "id": "quantitative-hybrid",
   "metadata": {},
   "source": [
    "## Plot"
   ]
  },
  {
   "cell_type": "code",
   "execution_count": 41,
   "id": "opposite-contest",
   "metadata": {},
   "outputs": [
    {
     "data": {
      "image/png": "[encoded data removed]",
      "text/plain": [
       "<Figure size 1080x360 with 1 Axes>"
      ]
     },
     "metadata": {},
     "output_type": "display_data"
    }
   ],
   "source": [
    "with sns.plotting_context(\"paper\", font_scale=1.5), sns.axes_style(\"whitegrid\"):\n",
    "    sns.catplot(\n",
    "        data=final_plot_data,\n",
    "        y=LV_NAME,\n",
    "        x=SELECTED_ATTRIBUTE,\n",
    "        order=attr_order,\n",
    "        kind=\"strip\",\n",
    "        height=5,\n",
    "        aspect=3,\n",
    "    )\n",
    "    plt.xticks(rotation=45, horizontalalignment=\"right\")\n",
    "\n",
    "    plt.savefig(\n",
    "        OUTPUT_CELL_TYPE_FILEPATH,\n",
    "        bbox_inches=\"tight\",\n",
    "        facecolor=\"white\",\n",
    "    )"
   ]
  },
  {
   "cell_type": "markdown",
   "id": "quantitative-denver",
   "metadata": {},
   "source": [
    "# Debug"
   ]
  },
  {
   "cell_type": "code",
   "execution_count": 42,
   "id": "built-crash",
   "metadata": {},
   "outputs": [],
   "source": [
    "# with pd.option_context(\n",
    "#     \"display.max_rows\", None, \"display.max_columns\", None, \"display.max_colwidth\", None\n",
    "# ):\n",
    "#     _tmp = final_plot_data[final_plot_data[SELECTED_ATTRIBUTE].str.contains(\"NOT CAT\")]\n",
    "#     display(_tmp.head(20))"
   ]
  },
  {
   "cell_type": "code",
   "execution_count": 43,
   "id": "stunning-executive",
   "metadata": {},
   "outputs": [],
   "source": [
    "# # what is there in these projects?\n",
    "# lv_data.loc[[\"SRP050499\"]].dropna(how=\"all\", axis=1).sort_values(\n",
    "#     LV_NAME, ascending=False\n",
    "# ).head(60)"
   ]
  },
  {
   "cell_type": "code",
   "execution_count": null,
   "id": "little-bicycle",
   "metadata": {},
   "outputs": [],
   "source": []
  }
 ],
 "metadata": {
  "jupytext": {
   "cell_metadata_filter": "all,-execution,-papermill,-trusted",
   "formats": "ipynb,py//py:percent"
  },
  "kernelspec": {
   "display_name": "Python 3",
   "language": "python",
   "name": "python3"
  },
  "language_info": {
   "codemirror_mode": {
    "name": "ipython",
    "version": 3
   },
   "file_extension": ".py",
   "mimetype": "text/x-python",
   "name": "python",
   "nbconvert_exporter": "python",
   "pygments_lexer": "ipython3",
   "version": "3.8.8"
  }
 },
 "nbformat": 4,
 "nbformat_minor": 5
}
