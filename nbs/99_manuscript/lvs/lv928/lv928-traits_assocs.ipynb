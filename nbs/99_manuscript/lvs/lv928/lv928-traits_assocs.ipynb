{
 "cells": [
  {
   "cell_type": "markdown",
   "id": "qualified-salmon",
   "metadata": {
    "papermill": {
     "duration": 0.006593,
     "end_time": "2021-05-11T19:09:55.733221",
     "exception": false,
     "start_time": "2021-05-11T19:09:55.726628",
     "status": "completed"
    },
    "tags": []
   },
   "source": [
    "# Description"
   ]
  },
  {
   "cell_type": "markdown",
   "id": "growing-spelling",
   "metadata": {
    "papermill": {
     "duration": 0.00668,
     "end_time": "2021-05-11T19:09:55.745410",
     "exception": false,
     "start_time": "2021-05-11T19:09:55.738730",
     "status": "completed"
    },
    "tags": []
   },
   "source": [
    "Generates manubot tables for PhenomeXcan and eMERGE associations given an LV name (which is the only parameter that needs to be specified in the Settings section below)."
   ]
  },
  {
   "cell_type": "markdown",
   "id": "looking-wichita",
   "metadata": {
    "papermill": {
     "duration": 0.006223,
     "end_time": "2021-05-11T19:09:55.756959",
     "exception": false,
     "start_time": "2021-05-11T19:09:55.750736",
     "status": "completed"
    },
    "tags": []
   },
   "source": [
    "# Modules loading"
   ]
  },
  {
   "cell_type": "code",
   "execution_count": 1,
   "id": "future-merchant",
   "metadata": {
    "papermill": {
     "duration": 0.01906,
     "end_time": "2021-05-11T19:09:55.781515",
     "exception": false,
     "start_time": "2021-05-11T19:09:55.762455",
     "status": "completed"
    },
    "tags": []
   },
   "outputs": [],
   "source": [
    "%load_ext autoreload\n",
    "%autoreload 2"
   ]
  },
  {
   "cell_type": "code",
   "execution_count": 2,
   "id": "detected-thinking",
   "metadata": {
    "papermill": {
     "duration": 0.993432,
     "end_time": "2021-05-11T19:09:56.780403",
     "exception": false,
     "start_time": "2021-05-11T19:09:55.786971",
     "status": "completed"
    },
    "tags": []
   },
   "outputs": [],
   "source": [
    "import re\n",
    "from pathlib import Path\n",
    "\n",
    "import pandas as pd\n",
    "\n",
    "from entity import Trait\n",
    "import conf"
   ]
  },
  {
   "cell_type": "markdown",
   "id": "tested-canon",
   "metadata": {
    "papermill": {
     "duration": 0.005973,
     "end_time": "2021-05-11T19:09:56.792495",
     "exception": false,
     "start_time": "2021-05-11T19:09:56.786522",
     "status": "completed"
    },
    "tags": []
   },
   "source": [
    "# Settings"
   ]
  },
  {
   "cell_type": "code",
   "execution_count": 3,
   "id": "olive-ultimate",
   "metadata": {
    "papermill": {
     "duration": 0.019548,
     "end_time": "2021-05-11T19:09:56.817689",
     "exception": false,
     "start_time": "2021-05-11T19:09:56.798141",
     "status": "completed"
    },
    "tags": [
     "parameters"
    ]
   },
   "outputs": [],
   "source": [
    "LV_NAME = \"LV928\""
   ]
  },
  {
   "cell_type": "code",
   "execution_count": 4,
   "id": "moved-jackson",
   "metadata": {},
   "outputs": [
    {
     "data": {
      "text/plain": [
       "PosixPath('/opt/manuscript/content/50.00.supplementary_material.md')"
      ]
     },
     "metadata": {},
     "output_type": "display_data"
    }
   ],
   "source": [
    "assert (\n",
    "    conf.MANUSCRIPT[\"BASE_DIR\"] is not None\n",
    "), \"The manuscript directory was not configured\"\n",
    "\n",
    "OUTPUT_FILE_PATH = conf.MANUSCRIPT[\"CONTENT_DIR\"] / \"50.00.supplementary_material.md\"\n",
    "display(OUTPUT_FILE_PATH)\n",
    "assert OUTPUT_FILE_PATH.exists()"
   ]
  },
  {
   "cell_type": "code",
   "execution_count": 5,
   "id": "sealed-judgment",
   "metadata": {},
   "outputs": [],
   "source": [
    "# result_set is either phenomexcan or emerge\n",
    "LV_FILE_MARK_TEMPLATE = \"<!-- {lv}:{result_set}_traits_assocs:{position} -->\""
   ]
  },
  {
   "cell_type": "code",
   "execution_count": 6,
   "id": "mental-pierre",
   "metadata": {},
   "outputs": [],
   "source": [
    "TABLE_CAPTION = \"Table: Significant trait associations of {lv_name} in {result_set_name}. {table_id}\""
   ]
  },
  {
   "cell_type": "code",
   "execution_count": 7,
   "id": "pressed-promise",
   "metadata": {},
   "outputs": [],
   "source": [
    "TABLE_CAPTION_ID = \"#tbl:sup:{result_set}_assocs:{lv_name_lower_case}\""
   ]
  },
  {
   "cell_type": "code",
   "execution_count": 8,
   "id": "political-storm",
   "metadata": {},
   "outputs": [],
   "source": [
    "RESULT_SET_NAMES = {\n",
    "    \"phenomexcan\": \"PhenomeXcan\",\n",
    "    \"emerge\": \"eMERGE\",\n",
    "}"
   ]
  },
  {
   "cell_type": "markdown",
   "id": "anticipated-attempt",
   "metadata": {
    "papermill": {
     "duration": 0.006007,
     "end_time": "2021-05-11T19:09:56.949763",
     "exception": false,
     "start_time": "2021-05-11T19:09:56.943756",
     "status": "completed"
    },
    "tags": []
   },
   "source": [
    "# Load data"
   ]
  },
  {
   "cell_type": "markdown",
   "id": "wrapped-mortality",
   "metadata": {},
   "source": [
    "## PhenomeXcan LV-trait associations"
   ]
  },
  {
   "cell_type": "code",
   "execution_count": 9,
   "id": "removed-piano",
   "metadata": {},
   "outputs": [
    {
     "data": {
      "text/plain": [
       "PosixPath('/opt/data/results/gls/gls-summary-phenomexcan.pkl.gz')"
      ]
     },
     "metadata": {},
     "output_type": "display_data"
    }
   ],
   "source": [
    "input_filepath = Path(conf.RESULTS[\"GLS\"] / \"gls-summary-phenomexcan.pkl.gz\")\n",
    "display(input_filepath)"
   ]
  },
  {
   "cell_type": "code",
   "execution_count": 10,
   "id": "blocked-sheep",
   "metadata": {},
   "outputs": [],
   "source": [
    "phenomexcan_lv_trait_assocs = pd.read_pickle(input_filepath)"
   ]
  },
  {
   "cell_type": "code",
   "execution_count": 11,
   "id": "ambient-disease",
   "metadata": {},
   "outputs": [
    {
     "data": {
      "text/plain": [
       "(4037817, 5)"
      ]
     },
     "execution_count": 11,
     "metadata": {},
     "output_type": "execute_result"
    }
   ],
   "source": [
    "phenomexcan_lv_trait_assocs.shape"
   ]
  },
  {
   "cell_type": "code",
   "execution_count": 12,
   "id": "hollow-modern",
   "metadata": {},
   "outputs": [
    {
     "data": {
      "text/html": [
       "<div>\n",
       "<style scoped>\n",
       "    .dataframe tbody tr th:only-of-type {\n",
       "        vertical-align: middle;\n",
       "    }\n",
       "\n",
       "    .dataframe tbody tr th {\n",
       "        vertical-align: top;\n",
       "    }\n",
       "\n",
       "    .dataframe thead th {\n",
       "        text-align: right;\n",
       "    }\n",
       "</style>\n",
       "<table border=\"1\" class=\"dataframe\">\n",
       "  <thead>\n",
       "    <tr style=\"text-align: right;\">\n",
       "      <th></th>\n",
       "      <th>phenotype</th>\n",
       "      <th>phenotype_desc</th>\n",
       "      <th>lv</th>\n",
       "      <th>pvalue</th>\n",
       "      <th>fdr</th>\n",
       "    </tr>\n",
       "  </thead>\n",
       "  <tbody>\n",
       "    <tr>\n",
       "      <th>0</th>\n",
       "      <td>AB1_OTHER_VIRAL</td>\n",
       "      <td>Other viral diseases</td>\n",
       "      <td>LV736</td>\n",
       "      <td>0.004725</td>\n",
       "      <td>0.504339</td>\n",
       "    </tr>\n",
       "    <tr>\n",
       "      <th>1</th>\n",
       "      <td>AB1_OTHER_VIRAL</td>\n",
       "      <td>Other viral diseases</td>\n",
       "      <td>LV320</td>\n",
       "      <td>0.004848</td>\n",
       "      <td>0.508291</td>\n",
       "    </tr>\n",
       "    <tr>\n",
       "      <th>2</th>\n",
       "      <td>AB1_OTHER_VIRAL</td>\n",
       "      <td>Other viral diseases</td>\n",
       "      <td>LV366</td>\n",
       "      <td>0.005306</td>\n",
       "      <td>0.523691</td>\n",
       "    </tr>\n",
       "    <tr>\n",
       "      <th>3</th>\n",
       "      <td>AB1_OTHER_VIRAL</td>\n",
       "      <td>Other viral diseases</td>\n",
       "      <td>LV964</td>\n",
       "      <td>0.006106</td>\n",
       "      <td>0.548143</td>\n",
       "    </tr>\n",
       "    <tr>\n",
       "      <th>4</th>\n",
       "      <td>AB1_OTHER_VIRAL</td>\n",
       "      <td>Other viral diseases</td>\n",
       "      <td>LV92</td>\n",
       "      <td>0.006565</td>\n",
       "      <td>0.560048</td>\n",
       "    </tr>\n",
       "  </tbody>\n",
       "</table>\n",
       "</div>"
      ],
      "text/plain": [
       "         phenotype        phenotype_desc     lv    pvalue       fdr\n",
       "0  AB1_OTHER_VIRAL  Other viral diseases  LV736  0.004725  0.504339\n",
       "1  AB1_OTHER_VIRAL  Other viral diseases  LV320  0.004848  0.508291\n",
       "2  AB1_OTHER_VIRAL  Other viral diseases  LV366  0.005306  0.523691\n",
       "3  AB1_OTHER_VIRAL  Other viral diseases  LV964  0.006106  0.548143\n",
       "4  AB1_OTHER_VIRAL  Other viral diseases   LV92  0.006565  0.560048"
      ]
     },
     "execution_count": 12,
     "metadata": {},
     "output_type": "execute_result"
    }
   ],
   "source": [
    "phenomexcan_lv_trait_assocs.head()"
   ]
  },
  {
   "cell_type": "markdown",
   "id": "tough-hayes",
   "metadata": {},
   "source": [
    "## eMERGE LV-trait associations"
   ]
  },
  {
   "cell_type": "code",
   "execution_count": 13,
   "id": "taken-company",
   "metadata": {},
   "outputs": [
    {
     "data": {
      "text/plain": [
       "PosixPath('/opt/data/results/gls/gls-summary-emerge.pkl.gz')"
      ]
     },
     "metadata": {},
     "output_type": "display_data"
    }
   ],
   "source": [
    "input_filepath = Path(conf.RESULTS[\"GLS\"] / \"gls-summary-emerge.pkl.gz\")\n",
    "display(input_filepath)"
   ]
  },
  {
   "cell_type": "code",
   "execution_count": 14,
   "id": "resident-marathon",
   "metadata": {},
   "outputs": [],
   "source": [
    "emerge_lv_trait_assocs = pd.read_pickle(input_filepath)"
   ]
  },
  {
   "cell_type": "code",
   "execution_count": 15,
   "id": "spoken-sixth",
   "metadata": {},
   "outputs": [
    {
     "data": {
      "text/plain": [
       "(304983, 5)"
      ]
     },
     "execution_count": 15,
     "metadata": {},
     "output_type": "execute_result"
    }
   ],
   "source": [
    "emerge_lv_trait_assocs.shape"
   ]
  },
  {
   "cell_type": "code",
   "execution_count": 16,
   "id": "modified-intersection",
   "metadata": {},
   "outputs": [
    {
     "data": {
      "text/html": [
       "<div>\n",
       "<style scoped>\n",
       "    .dataframe tbody tr th:only-of-type {\n",
       "        vertical-align: middle;\n",
       "    }\n",
       "\n",
       "    .dataframe tbody tr th {\n",
       "        vertical-align: top;\n",
       "    }\n",
       "\n",
       "    .dataframe thead th {\n",
       "        text-align: right;\n",
       "    }\n",
       "</style>\n",
       "<table border=\"1\" class=\"dataframe\">\n",
       "  <thead>\n",
       "    <tr style=\"text-align: right;\">\n",
       "      <th></th>\n",
       "      <th>phenotype</th>\n",
       "      <th>phenotype_desc</th>\n",
       "      <th>lv</th>\n",
       "      <th>pvalue</th>\n",
       "      <th>fdr</th>\n",
       "    </tr>\n",
       "  </thead>\n",
       "  <tbody>\n",
       "    <tr>\n",
       "      <th>0</th>\n",
       "      <td>EUR_440.2</td>\n",
       "      <td>Atherosclerosis of the extremities</td>\n",
       "      <td>LV472</td>\n",
       "      <td>1.033637e-07</td>\n",
       "      <td>0.000658</td>\n",
       "    </tr>\n",
       "    <tr>\n",
       "      <th>1</th>\n",
       "      <td>EUR_440.2</td>\n",
       "      <td>Atherosclerosis of the extremities</td>\n",
       "      <td>LV182</td>\n",
       "      <td>3.710244e-07</td>\n",
       "      <td>0.001432</td>\n",
       "    </tr>\n",
       "    <tr>\n",
       "      <th>2</th>\n",
       "      <td>EUR_440.2</td>\n",
       "      <td>Atherosclerosis of the extremities</td>\n",
       "      <td>LV348</td>\n",
       "      <td>7.379936e-07</td>\n",
       "      <td>0.002558</td>\n",
       "    </tr>\n",
       "    <tr>\n",
       "      <th>3</th>\n",
       "      <td>EUR_440.2</td>\n",
       "      <td>Atherosclerosis of the extremities</td>\n",
       "      <td>LV504</td>\n",
       "      <td>1.534424e-06</td>\n",
       "      <td>0.004500</td>\n",
       "    </tr>\n",
       "    <tr>\n",
       "      <th>4</th>\n",
       "      <td>EUR_440.2</td>\n",
       "      <td>Atherosclerosis of the extremities</td>\n",
       "      <td>LV445</td>\n",
       "      <td>2.912525e-06</td>\n",
       "      <td>0.007402</td>\n",
       "    </tr>\n",
       "  </tbody>\n",
       "</table>\n",
       "</div>"
      ],
      "text/plain": [
       "   phenotype                      phenotype_desc     lv        pvalue  \\\n",
       "0  EUR_440.2  Atherosclerosis of the extremities  LV472  1.033637e-07   \n",
       "1  EUR_440.2  Atherosclerosis of the extremities  LV182  3.710244e-07   \n",
       "2  EUR_440.2  Atherosclerosis of the extremities  LV348  7.379936e-07   \n",
       "3  EUR_440.2  Atherosclerosis of the extremities  LV504  1.534424e-06   \n",
       "4  EUR_440.2  Atherosclerosis of the extremities  LV445  2.912525e-06   \n",
       "\n",
       "        fdr  \n",
       "0  0.000658  \n",
       "1  0.001432  \n",
       "2  0.002558  \n",
       "3  0.004500  \n",
       "4  0.007402  "
      ]
     },
     "execution_count": 16,
     "metadata": {},
     "output_type": "execute_result"
    }
   ],
   "source": [
    "emerge_lv_trait_assocs.head()"
   ]
  },
  {
   "cell_type": "markdown",
   "id": "radio-october",
   "metadata": {},
   "source": [
    "## eMERGE traits info"
   ]
  },
  {
   "cell_type": "code",
   "execution_count": 17,
   "id": "maritime-graham",
   "metadata": {},
   "outputs": [
    {
     "data": {
      "text/plain": [
       "PosixPath('/opt/data/data/emerge/eMERGE_III_PMBB_GSA_v2_2020_phecode_AFR_EUR_cc50_counts_w_dictionary.txt')"
      ]
     },
     "metadata": {},
     "output_type": "display_data"
    }
   ],
   "source": [
    "input_filepath = conf.EMERGE[\"DESC_FILE_WITH_SAMPLE_SIZE\"]\n",
    "display(input_filepath)"
   ]
  },
  {
   "cell_type": "code",
   "execution_count": 18,
   "id": "chinese-today",
   "metadata": {},
   "outputs": [],
   "source": [
    "emerge_traits_info = pd.read_csv(\n",
    "    input_filepath,\n",
    "    sep=\"\\t\",\n",
    "    dtype={\"phecode\": str},\n",
    "    usecols=[\n",
    "        \"phecode\",\n",
    "        \"phenotype\",\n",
    "        \"category\",\n",
    "        \"eMERGE_III_EUR_case\",\n",
    "        \"eMERGE_III_EUR_control\",\n",
    "    ],\n",
    ")"
   ]
  },
  {
   "cell_type": "code",
   "execution_count": 19,
   "id": "static-cologne",
   "metadata": {},
   "outputs": [],
   "source": [
    "emerge_traits_info[\"phecode\"] = emerge_traits_info[\"phecode\"].apply(\n",
    "    lambda x: f\"EUR_{x}\"\n",
    ")"
   ]
  },
  {
   "cell_type": "code",
   "execution_count": 20,
   "id": "4cb90ac8",
   "metadata": {},
   "outputs": [],
   "source": [
    "emerge_traits_info = emerge_traits_info.set_index(\"phecode\").sort_index()"
   ]
  },
  {
   "cell_type": "code",
   "execution_count": 21,
   "id": "prescription-lithuania",
   "metadata": {},
   "outputs": [],
   "source": [
    "emerge_traits_info = emerge_traits_info.rename(\n",
    "    columns={\n",
    "        \"eMERGE_III_EUR_case\": \"eur_n_cases\",\n",
    "        \"eMERGE_III_EUR_control\": \"eur_n_controls\",\n",
    "    }\n",
    ")"
   ]
  },
  {
   "cell_type": "code",
   "execution_count": 22,
   "id": "instrumental-iceland",
   "metadata": {},
   "outputs": [
    {
     "data": {
      "text/plain": [
       "(309, 4)"
      ]
     },
     "execution_count": 22,
     "metadata": {},
     "output_type": "execute_result"
    }
   ],
   "source": [
    "emerge_traits_info.shape"
   ]
  },
  {
   "cell_type": "code",
   "execution_count": 23,
   "id": "exempt-humidity",
   "metadata": {},
   "outputs": [
    {
     "data": {
      "text/html": [
       "<div>\n",
       "<style scoped>\n",
       "    .dataframe tbody tr th:only-of-type {\n",
       "        vertical-align: middle;\n",
       "    }\n",
       "\n",
       "    .dataframe tbody tr th {\n",
       "        vertical-align: top;\n",
       "    }\n",
       "\n",
       "    .dataframe thead th {\n",
       "        text-align: right;\n",
       "    }\n",
       "</style>\n",
       "<table border=\"1\" class=\"dataframe\">\n",
       "  <thead>\n",
       "    <tr style=\"text-align: right;\">\n",
       "      <th></th>\n",
       "      <th>eur_n_cases</th>\n",
       "      <th>eur_n_controls</th>\n",
       "      <th>phenotype</th>\n",
       "      <th>category</th>\n",
       "    </tr>\n",
       "    <tr>\n",
       "      <th>phecode</th>\n",
       "      <th></th>\n",
       "      <th></th>\n",
       "      <th></th>\n",
       "      <th></th>\n",
       "    </tr>\n",
       "  </thead>\n",
       "  <tbody>\n",
       "    <tr>\n",
       "      <th>EUR_008</th>\n",
       "      <td>1639</td>\n",
       "      <td>57495</td>\n",
       "      <td>Intestinal infection</td>\n",
       "      <td>infectious diseases</td>\n",
       "    </tr>\n",
       "    <tr>\n",
       "      <th>EUR_008.5</th>\n",
       "      <td>1024</td>\n",
       "      <td>57495</td>\n",
       "      <td>Bacterial enteritis</td>\n",
       "      <td>infectious diseases</td>\n",
       "    </tr>\n",
       "    <tr>\n",
       "      <th>EUR_008.52</th>\n",
       "      <td>893</td>\n",
       "      <td>57495</td>\n",
       "      <td>Intestinal infection due to C. difficile</td>\n",
       "      <td>infectious diseases</td>\n",
       "    </tr>\n",
       "    <tr>\n",
       "      <th>EUR_038</th>\n",
       "      <td>3172</td>\n",
       "      <td>50610</td>\n",
       "      <td>Septicemia</td>\n",
       "      <td>infectious diseases</td>\n",
       "    </tr>\n",
       "    <tr>\n",
       "      <th>EUR_038.3</th>\n",
       "      <td>1361</td>\n",
       "      <td>50610</td>\n",
       "      <td>Bacteremia</td>\n",
       "      <td>infectious diseases</td>\n",
       "    </tr>\n",
       "  </tbody>\n",
       "</table>\n",
       "</div>"
      ],
      "text/plain": [
       "            eur_n_cases  eur_n_controls  \\\n",
       "phecode                                   \n",
       "EUR_008            1639           57495   \n",
       "EUR_008.5          1024           57495   \n",
       "EUR_008.52          893           57495   \n",
       "EUR_038            3172           50610   \n",
       "EUR_038.3          1361           50610   \n",
       "\n",
       "                                           phenotype             category  \n",
       "phecode                                                                    \n",
       "EUR_008                         Intestinal infection  infectious diseases  \n",
       "EUR_008.5                        Bacterial enteritis  infectious diseases  \n",
       "EUR_008.52  Intestinal infection due to C. difficile  infectious diseases  \n",
       "EUR_038                                   Septicemia  infectious diseases  \n",
       "EUR_038.3                                 Bacteremia  infectious diseases  "
      ]
     },
     "execution_count": 23,
     "metadata": {},
     "output_type": "execute_result"
    }
   ],
   "source": [
    "emerge_traits_info.head()"
   ]
  },
  {
   "cell_type": "code",
   "execution_count": 24,
   "id": "extra-mexican",
   "metadata": {},
   "outputs": [],
   "source": [
    "assert emerge_traits_info.index.is_unique"
   ]
  },
  {
   "cell_type": "markdown",
   "id": "adaptive-flesh",
   "metadata": {
    "lines_to_next_cell": 2
   },
   "source": [
    "# Trait associations"
   ]
  },
  {
   "cell_type": "markdown",
   "id": "surprising-economics",
   "metadata": {},
   "source": [
    "## PhenomeXcan"
   ]
  },
  {
   "cell_type": "code",
   "execution_count": 25,
   "id": "artificial-basket",
   "metadata": {},
   "outputs": [],
   "source": [
    "from traits import SHORT_TRAIT_NAMES"
   ]
  },
  {
   "cell_type": "code",
   "execution_count": 26,
   "id": "practical-member",
   "metadata": {
    "lines_to_next_cell": 1
   },
   "outputs": [],
   "source": [
    "result_set = \"phenomexcan\""
   ]
  },
  {
   "cell_type": "code",
   "execution_count": 27,
   "id": "worthy-connection",
   "metadata": {},
   "outputs": [],
   "source": [
    "def get_trait_objs(phenotype_full_code):\n",
    "    if Trait.is_efo_label(phenotype_full_code):\n",
    "        traits = Trait.get_traits_from_efo(phenotype_full_code)\n",
    "    else:\n",
    "        traits = [Trait.get_trait(code=phenotype_full_code)]\n",
    "\n",
    "    # sort by sample size\n",
    "    return sorted(traits, key=lambda x: x.n_cases / x.n, reverse=True)\n",
    "\n",
    "\n",
    "def get_trait_description(phenotype_full_code):\n",
    "    traits = get_trait_objs(phenotype_full_code)\n",
    "\n",
    "    desc = traits[0].description\n",
    "    if desc in SHORT_TRAIT_NAMES:\n",
    "        return SHORT_TRAIT_NAMES[desc]\n",
    "\n",
    "    return desc\n",
    "\n",
    "\n",
    "def get_trait_n(phenotype_full_code):\n",
    "    traits = get_trait_objs(phenotype_full_code)\n",
    "\n",
    "    return traits[0].n\n",
    "\n",
    "\n",
    "def get_trait_n_cases(phenotype_full_code):\n",
    "    traits = get_trait_objs(phenotype_full_code)\n",
    "\n",
    "    return traits[0].n_cases\n",
    "\n",
    "\n",
    "def num_to_int_str(num):\n",
    "    if pd.isnull(num):\n",
    "        return \"\"\n",
    "\n",
    "    return f\"{num:,.0f}\"\n",
    "\n",
    "\n",
    "def get_part_clust(row):\n",
    "    return f\"{row.part_k} / {row.cluster_id}\""
   ]
  },
  {
   "cell_type": "code",
   "execution_count": 28,
   "id": "established-venture",
   "metadata": {},
   "outputs": [],
   "source": [
    "lv_assocs = phenomexcan_lv_trait_assocs[\n",
    "    (phenomexcan_lv_trait_assocs[\"lv\"] == LV_NAME)\n",
    "    & (phenomexcan_lv_trait_assocs[\"fdr\"] < 0.05)\n",
    "].sort_values(\"fdr\")"
   ]
  },
  {
   "cell_type": "code",
   "execution_count": 29,
   "id": "absent-address",
   "metadata": {},
   "outputs": [
    {
     "data": {
      "text/html": [
       "<div>\n",
       "<style scoped>\n",
       "    .dataframe tbody tr th:only-of-type {\n",
       "        vertical-align: middle;\n",
       "    }\n",
       "\n",
       "    .dataframe tbody tr th {\n",
       "        vertical-align: top;\n",
       "    }\n",
       "\n",
       "    .dataframe thead th {\n",
       "        text-align: right;\n",
       "    }\n",
       "</style>\n",
       "<table border=\"1\" class=\"dataframe\">\n",
       "  <thead>\n",
       "    <tr style=\"text-align: right;\">\n",
       "      <th></th>\n",
       "      <th>phenotype</th>\n",
       "      <th>phenotype_desc</th>\n",
       "      <th>lv</th>\n",
       "      <th>pvalue</th>\n",
       "      <th>fdr</th>\n",
       "    </tr>\n",
       "  </thead>\n",
       "  <tbody>\n",
       "    <tr>\n",
       "      <th>3644005</th>\n",
       "      <td>30270_raw</td>\n",
       "      <td>Mean sphered cell volume</td>\n",
       "      <td>LV928</td>\n",
       "      <td>7.930366e-26</td>\n",
       "      <td>1.601068e-20</td>\n",
       "    </tr>\n",
       "    <tr>\n",
       "      <th>1449903</th>\n",
       "      <td>30060_raw</td>\n",
       "      <td>Mean corpuscular haemoglobin concentration</td>\n",
       "      <td>LV928</td>\n",
       "      <td>1.372728e-22</td>\n",
       "      <td>1.421237e-17</td>\n",
       "    </tr>\n",
       "    <tr>\n",
       "      <th>3456475</th>\n",
       "      <td>30260_raw</td>\n",
       "      <td>Mean reticulocyte volume</td>\n",
       "      <td>LV928</td>\n",
       "      <td>1.840166e-22</td>\n",
       "      <td>1.769108e-17</td>\n",
       "    </tr>\n",
       "    <tr>\n",
       "      <th>3312373</th>\n",
       "      <td>30250_raw</td>\n",
       "      <td>Reticulocyte count</td>\n",
       "      <td>LV928</td>\n",
       "      <td>1.061670e-14</td>\n",
       "      <td>2.280228e-10</td>\n",
       "    </tr>\n",
       "    <tr>\n",
       "      <th>3496942</th>\n",
       "      <td>30240_raw</td>\n",
       "      <td>Reticulocyte percentage</td>\n",
       "      <td>LV928</td>\n",
       "      <td>7.765603e-14</td>\n",
       "      <td>1.369261e-09</td>\n",
       "    </tr>\n",
       "    <tr>\n",
       "      <th>1395618</th>\n",
       "      <td>30070_raw</td>\n",
       "      <td>Red blood cell (erythrocyte) distribution width</td>\n",
       "      <td>LV928</td>\n",
       "      <td>1.843683e-13</td>\n",
       "      <td>2.896675e-09</td>\n",
       "    </tr>\n",
       "    <tr>\n",
       "      <th>4005247</th>\n",
       "      <td>Astle_et_al_2016_Reticulocyte_count</td>\n",
       "      <td>Reticulocyte Count</td>\n",
       "      <td>LV928</td>\n",
       "      <td>1.110233e-11</td>\n",
       "      <td>1.093394e-07</td>\n",
       "    </tr>\n",
       "    <tr>\n",
       "      <th>3151492</th>\n",
       "      <td>30040_raw</td>\n",
       "      <td>Mean corpuscular volume</td>\n",
       "      <td>LV928</td>\n",
       "      <td>5.043249e-07</td>\n",
       "      <td>1.462911e-03</td>\n",
       "    </tr>\n",
       "    <tr>\n",
       "      <th>2940277</th>\n",
       "      <td>30300_raw</td>\n",
       "      <td>High light scatter reticulocyte count</td>\n",
       "      <td>LV928</td>\n",
       "      <td>1.449177e-06</td>\n",
       "      <td>3.491727e-03</td>\n",
       "    </tr>\n",
       "    <tr>\n",
       "      <th>885339</th>\n",
       "      <td>20433_raw</td>\n",
       "      <td>Age at first episode of depression</td>\n",
       "      <td>LV928</td>\n",
       "      <td>7.943533e-06</td>\n",
       "      <td>1.326862e-02</td>\n",
       "    </tr>\n",
       "    <tr>\n",
       "      <th>4003284</th>\n",
       "      <td>Astle_et_al_2016_High_light_scatter_reticulocyte_count</td>\n",
       "      <td>High Light Scatter Reticulocyte Count</td>\n",
       "      <td>LV928</td>\n",
       "      <td>9.225635e-06</td>\n",
       "      <td>1.480581e-02</td>\n",
       "    </tr>\n",
       "    <tr>\n",
       "      <th>2756701</th>\n",
       "      <td>30050_raw</td>\n",
       "      <td>Mean corpuscular haemoglobin</td>\n",
       "      <td>LV928</td>\n",
       "      <td>3.597078e-05</td>\n",
       "      <td>4.017799e-02</td>\n",
       "    </tr>\n",
       "  </tbody>\n",
       "</table>\n",
       "</div>"
      ],
      "text/plain": [
       "                                                      phenotype  \\\n",
       "3644005                                               30270_raw   \n",
       "1449903                                               30060_raw   \n",
       "3456475                                               30260_raw   \n",
       "3312373                                               30250_raw   \n",
       "3496942                                               30240_raw   \n",
       "1395618                                               30070_raw   \n",
       "4005247                     Astle_et_al_2016_Reticulocyte_count   \n",
       "3151492                                               30040_raw   \n",
       "2940277                                               30300_raw   \n",
       "885339                                                20433_raw   \n",
       "4003284  Astle_et_al_2016_High_light_scatter_reticulocyte_count   \n",
       "2756701                                               30050_raw   \n",
       "\n",
       "                                          phenotype_desc     lv        pvalue  \\\n",
       "3644005                         Mean sphered cell volume  LV928  7.930366e-26   \n",
       "1449903       Mean corpuscular haemoglobin concentration  LV928  1.372728e-22   \n",
       "3456475                         Mean reticulocyte volume  LV928  1.840166e-22   \n",
       "3312373                               Reticulocyte count  LV928  1.061670e-14   \n",
       "3496942                          Reticulocyte percentage  LV928  7.765603e-14   \n",
       "1395618  Red blood cell (erythrocyte) distribution width  LV928  1.843683e-13   \n",
       "4005247                               Reticulocyte Count  LV928  1.110233e-11   \n",
       "3151492                          Mean corpuscular volume  LV928  5.043249e-07   \n",
       "2940277            High light scatter reticulocyte count  LV928  1.449177e-06   \n",
       "885339                Age at first episode of depression  LV928  7.943533e-06   \n",
       "4003284            High Light Scatter Reticulocyte Count  LV928  9.225635e-06   \n",
       "2756701                     Mean corpuscular haemoglobin  LV928  3.597078e-05   \n",
       "\n",
       "                  fdr  \n",
       "3644005  1.601068e-20  \n",
       "1449903  1.421237e-17  \n",
       "3456475  1.769108e-17  \n",
       "3312373  2.280228e-10  \n",
       "3496942  1.369261e-09  \n",
       "1395618  2.896675e-09  \n",
       "4005247  1.093394e-07  \n",
       "3151492  1.462911e-03  \n",
       "2940277  3.491727e-03  \n",
       "885339   1.326862e-02  \n",
       "4003284  1.480581e-02  \n",
       "2756701  4.017799e-02  "
      ]
     },
     "metadata": {},
     "output_type": "display_data"
    }
   ],
   "source": [
    "with pd.option_context(\n",
    "    \"display.max_rows\", None, \"display.max_columns\", None, \"display.max_colwidth\", None\n",
    "):\n",
    "    display(lv_assocs)"
   ]
  },
  {
   "cell_type": "code",
   "execution_count": 30,
   "id": "explicit-empire",
   "metadata": {},
   "outputs": [],
   "source": [
    "lv_assocs = lv_assocs.assign(\n",
    "    phenotype_desc=lv_assocs[\"phenotype\"].apply(get_trait_description)\n",
    ")"
   ]
  },
  {
   "cell_type": "code",
   "execution_count": 31,
   "id": "adequate-indian",
   "metadata": {},
   "outputs": [],
   "source": [
    "lv_assocs = lv_assocs.assign(n=lv_assocs[\"phenotype\"].apply(get_trait_n))"
   ]
  },
  {
   "cell_type": "code",
   "execution_count": 32,
   "id": "assisted-delivery",
   "metadata": {},
   "outputs": [],
   "source": [
    "lv_assocs = lv_assocs.assign(n_cases=lv_assocs[\"phenotype\"].apply(get_trait_n_cases))"
   ]
  },
  {
   "cell_type": "code",
   "execution_count": 33,
   "id": "bored-sally",
   "metadata": {},
   "outputs": [],
   "source": [
    "# lv_assocs = lv_assocs.assign(coef=lv_assocs[\"coef\"].apply(lambda x: f\"{x:.3f}\"))"
   ]
  },
  {
   "cell_type": "code",
   "execution_count": 34,
   "id": "compatible-overhead",
   "metadata": {},
   "outputs": [],
   "source": [
    "lv_assocs = lv_assocs.assign(\n",
    "    fdr=lv_assocs[\"fdr\"].apply(lambda x: f\"{x:.2e}\".replace(\"-\", \"&#8209;\"))\n",
    ")"
   ]
  },
  {
   "cell_type": "code",
   "execution_count": 35,
   "id": "valid-product",
   "metadata": {},
   "outputs": [],
   "source": [
    "lv_assocs = lv_assocs.assign(n=lv_assocs[\"n\"].apply(num_to_int_str))"
   ]
  },
  {
   "cell_type": "code",
   "execution_count": 36,
   "id": "streaming-analyst",
   "metadata": {},
   "outputs": [],
   "source": [
    "lv_assocs = lv_assocs.assign(n_cases=lv_assocs[\"n_cases\"].apply(num_to_int_str))"
   ]
  },
  {
   "cell_type": "code",
   "execution_count": 37,
   "id": "tropical-boutique",
   "metadata": {},
   "outputs": [],
   "source": [
    "# lv_assocs = lv_assocs.assign(part_clust=\"\")  # lv_assocs.apply(get_part_clust, axis=1))"
   ]
  },
  {
   "cell_type": "code",
   "execution_count": 38,
   "id": "imperial-rugby",
   "metadata": {},
   "outputs": [],
   "source": [
    "lv_assocs = lv_assocs.drop(columns=[\"phenotype\"])"
   ]
  },
  {
   "cell_type": "code",
   "execution_count": 39,
   "id": "ordinary-speaking",
   "metadata": {},
   "outputs": [
    {
     "data": {
      "text/plain": [
       "(12, 6)"
      ]
     },
     "execution_count": 39,
     "metadata": {},
     "output_type": "execute_result"
    }
   ],
   "source": [
    "lv_assocs.shape"
   ]
  },
  {
   "cell_type": "code",
   "execution_count": 40,
   "id": "average-details",
   "metadata": {},
   "outputs": [],
   "source": [
    "lv_assocs = lv_assocs[[\"phenotype_desc\", \"n\", \"n_cases\", \"fdr\"]]"
   ]
  },
  {
   "cell_type": "code",
   "execution_count": 41,
   "id": "recent-harrison",
   "metadata": {},
   "outputs": [],
   "source": [
    "lv_assocs = lv_assocs.rename(\n",
    "    columns={\n",
    "        \"part_clust\": \"Partition / cluster\",\n",
    "        \"lv\": \"Latent variable (LV)\",\n",
    "        #         \"coef\": r\"$\\beta$\",\n",
    "        \"fdr\": \"FDR\",\n",
    "        \"phenotype_desc\": \"Trait description\",\n",
    "        \"n\": \"Sample size\",\n",
    "        \"n_cases\": \"Cases\",\n",
    "    }\n",
    ")"
   ]
  },
  {
   "cell_type": "code",
   "execution_count": 42,
   "id": "hungarian-interview",
   "metadata": {},
   "outputs": [
    {
     "data": {
      "text/html": [
       "<div>\n",
       "<style scoped>\n",
       "    .dataframe tbody tr th:only-of-type {\n",
       "        vertical-align: middle;\n",
       "    }\n",
       "\n",
       "    .dataframe tbody tr th {\n",
       "        vertical-align: top;\n",
       "    }\n",
       "\n",
       "    .dataframe thead th {\n",
       "        text-align: right;\n",
       "    }\n",
       "</style>\n",
       "<table border=\"1\" class=\"dataframe\">\n",
       "  <thead>\n",
       "    <tr style=\"text-align: right;\">\n",
       "      <th></th>\n",
       "      <th>Trait description</th>\n",
       "      <th>Sample size</th>\n",
       "      <th>Cases</th>\n",
       "      <th>FDR</th>\n",
       "    </tr>\n",
       "  </thead>\n",
       "  <tbody>\n",
       "    <tr>\n",
       "      <th>3644005</th>\n",
       "      <td>Mean sphered cell volume</td>\n",
       "      <td>344,729</td>\n",
       "      <td></td>\n",
       "      <td>1.60e&amp;#8209;20</td>\n",
       "    </tr>\n",
       "    <tr>\n",
       "      <th>1449903</th>\n",
       "      <td>Mean corpuscular haemoglobin concentration</td>\n",
       "      <td>350,468</td>\n",
       "      <td></td>\n",
       "      <td>1.42e&amp;#8209;17</td>\n",
       "    </tr>\n",
       "    <tr>\n",
       "      <th>3456475</th>\n",
       "      <td>Mean reticulocyte volume</td>\n",
       "      <td>344,728</td>\n",
       "      <td></td>\n",
       "      <td>1.77e&amp;#8209;17</td>\n",
       "    </tr>\n",
       "    <tr>\n",
       "      <th>3312373</th>\n",
       "      <td>Reticulocyte count</td>\n",
       "      <td>344,729</td>\n",
       "      <td></td>\n",
       "      <td>2.28e&amp;#8209;10</td>\n",
       "    </tr>\n",
       "    <tr>\n",
       "      <th>3496942</th>\n",
       "      <td>Reticulocyte percentage</td>\n",
       "      <td>344,728</td>\n",
       "      <td></td>\n",
       "      <td>1.37e&amp;#8209;09</td>\n",
       "    </tr>\n",
       "    <tr>\n",
       "      <th>1395618</th>\n",
       "      <td>Red blood cell (erythrocyte) distribution width</td>\n",
       "      <td>350,473</td>\n",
       "      <td></td>\n",
       "      <td>2.90e&amp;#8209;09</td>\n",
       "    </tr>\n",
       "    <tr>\n",
       "      <th>4005247</th>\n",
       "      <td>Reticulocyte Count</td>\n",
       "      <td>173,480</td>\n",
       "      <td></td>\n",
       "      <td>1.09e&amp;#8209;07</td>\n",
       "    </tr>\n",
       "    <tr>\n",
       "      <th>3151492</th>\n",
       "      <td>Mean corpuscular volume</td>\n",
       "      <td>350,473</td>\n",
       "      <td></td>\n",
       "      <td>1.46e&amp;#8209;03</td>\n",
       "    </tr>\n",
       "    <tr>\n",
       "      <th>2940277</th>\n",
       "      <td>High light scatter reticulocyte count</td>\n",
       "      <td>344,729</td>\n",
       "      <td></td>\n",
       "      <td>3.49e&amp;#8209;03</td>\n",
       "    </tr>\n",
       "    <tr>\n",
       "      <th>885339</th>\n",
       "      <td>Age at first episode of depression</td>\n",
       "      <td>61,033</td>\n",
       "      <td></td>\n",
       "      <td>1.33e&amp;#8209;02</td>\n",
       "    </tr>\n",
       "    <tr>\n",
       "      <th>4003284</th>\n",
       "      <td>High Light Scatter Reticulocyte Count</td>\n",
       "      <td>173,480</td>\n",
       "      <td></td>\n",
       "      <td>1.48e&amp;#8209;02</td>\n",
       "    </tr>\n",
       "    <tr>\n",
       "      <th>2756701</th>\n",
       "      <td>Mean corpuscular haemoglobin</td>\n",
       "      <td>350,472</td>\n",
       "      <td></td>\n",
       "      <td>4.02e&amp;#8209;02</td>\n",
       "    </tr>\n",
       "  </tbody>\n",
       "</table>\n",
       "</div>"
      ],
      "text/plain": [
       "                                       Trait description Sample size Cases  \\\n",
       "3644005                         Mean sphered cell volume     344,729         \n",
       "1449903       Mean corpuscular haemoglobin concentration     350,468         \n",
       "3456475                         Mean reticulocyte volume     344,728         \n",
       "3312373                               Reticulocyte count     344,729         \n",
       "3496942                          Reticulocyte percentage     344,728         \n",
       "1395618  Red blood cell (erythrocyte) distribution width     350,473         \n",
       "4005247                               Reticulocyte Count     173,480         \n",
       "3151492                          Mean corpuscular volume     350,473         \n",
       "2940277            High light scatter reticulocyte count     344,729         \n",
       "885339                Age at first episode of depression      61,033         \n",
       "4003284            High Light Scatter Reticulocyte Count     173,480         \n",
       "2756701                     Mean corpuscular haemoglobin     350,472         \n",
       "\n",
       "                    FDR  \n",
       "3644005  1.60e&#8209;20  \n",
       "1449903  1.42e&#8209;17  \n",
       "3456475  1.77e&#8209;17  \n",
       "3312373  2.28e&#8209;10  \n",
       "3496942  1.37e&#8209;09  \n",
       "1395618  2.90e&#8209;09  \n",
       "4005247  1.09e&#8209;07  \n",
       "3151492  1.46e&#8209;03  \n",
       "2940277  3.49e&#8209;03  \n",
       "885339   1.33e&#8209;02  \n",
       "4003284  1.48e&#8209;02  \n",
       "2756701  4.02e&#8209;02  "
      ]
     },
     "metadata": {},
     "output_type": "display_data"
    }
   ],
   "source": [
    "with pd.option_context(\n",
    "    \"display.max_rows\", None, \"display.max_columns\", None, \"display.max_colwidth\", None\n",
    "):\n",
    "    display(lv_assocs)"
   ]
  },
  {
   "cell_type": "markdown",
   "id": "brief-maldives",
   "metadata": {},
   "source": [
    "### Fill empty"
   ]
  },
  {
   "cell_type": "code",
   "execution_count": 43,
   "id": "related-montana",
   "metadata": {},
   "outputs": [],
   "source": [
    "if lv_assocs.shape[0] == 0:\n",
    "    lv_assocs.loc[0, \"Trait description\"] = \"No significant associations\"\n",
    "    lv_assocs = lv_assocs.fillna(\"\")"
   ]
  },
  {
   "cell_type": "markdown",
   "id": "exempt-davis",
   "metadata": {},
   "source": [
    "### Save"
   ]
  },
  {
   "cell_type": "code",
   "execution_count": 44,
   "id": "spanish-detective",
   "metadata": {},
   "outputs": [
    {
     "data": {
      "text/plain": [
       "'<!-- LV928:phenomexcan_traits_assocs:start -->'"
      ]
     },
     "metadata": {},
     "output_type": "display_data"
    },
    {
     "data": {
      "text/plain": [
       "'<!-- LV928:phenomexcan_traits_assocs:end -->'"
      ]
     },
     "metadata": {},
     "output_type": "display_data"
    }
   ],
   "source": [
    "# start\n",
    "lv_file_mark_start = LV_FILE_MARK_TEMPLATE.format(\n",
    "    result_set=result_set, lv=LV_NAME, position=\"start\"\n",
    ")\n",
    "display(lv_file_mark_start)\n",
    "\n",
    "# end\n",
    "lv_file_mark_end = LV_FILE_MARK_TEMPLATE.format(\n",
    "    result_set=result_set, lv=LV_NAME, position=\"end\"\n",
    ")\n",
    "display(lv_file_mark_end)"
   ]
  },
  {
   "cell_type": "code",
   "execution_count": 45,
   "id": "hindu-utility",
   "metadata": {},
   "outputs": [],
   "source": [
    "new_content = lv_assocs.to_markdown(index=False, disable_numparse=True)"
   ]
  },
  {
   "cell_type": "code",
   "execution_count": 46,
   "id": "driving-stupid",
   "metadata": {},
   "outputs": [
    {
     "data": {
      "text/plain": [
       "'Table: Significant trait associations of LV928 in PhenomeXcan. {#tbl:sup:phenomexcan_assocs:lv928}'"
      ]
     },
     "metadata": {},
     "output_type": "display_data"
    }
   ],
   "source": [
    "# add table caption\n",
    "table_caption = TABLE_CAPTION.format(\n",
    "    lv_name=LV_NAME,\n",
    "    result_set_name=RESULT_SET_NAMES[result_set],\n",
    "    table_id=\"{\"\n",
    "    + TABLE_CAPTION_ID.format(result_set=result_set, lv_name_lower_case=LV_NAME.lower())\n",
    "    + \"}\",\n",
    ")\n",
    "display(table_caption)"
   ]
  },
  {
   "cell_type": "code",
   "execution_count": 47,
   "id": "looking-guest",
   "metadata": {},
   "outputs": [],
   "source": [
    "new_content += \"\\n\\n\" + table_caption"
   ]
  },
  {
   "cell_type": "code",
   "execution_count": 48,
   "id": "japanese-aurora",
   "metadata": {},
   "outputs": [],
   "source": [
    "full_new_content = (\n",
    "    lv_file_mark_start + \"\\n\" + new_content.strip() + \"\\n\" + lv_file_mark_end\n",
    ")"
   ]
  },
  {
   "cell_type": "code",
   "execution_count": 49,
   "id": "completed-administration",
   "metadata": {},
   "outputs": [],
   "source": [
    "with open(OUTPUT_FILE_PATH, \"r\", encoding=\"utf8\") as f:\n",
    "    file_content = f.read()"
   ]
  },
  {
   "cell_type": "code",
   "execution_count": 50,
   "id": "auburn-hobby",
   "metadata": {},
   "outputs": [],
   "source": [
    "new_file_content = re.sub(\n",
    "    lv_file_mark_start + \".*?\" + lv_file_mark_end,\n",
    "    full_new_content,\n",
    "    file_content,\n",
    "    flags=re.DOTALL,\n",
    ")"
   ]
  },
  {
   "cell_type": "code",
   "execution_count": 51,
   "id": "intense-bangladesh",
   "metadata": {},
   "outputs": [],
   "source": [
    "with open(OUTPUT_FILE_PATH, \"w\", encoding=\"utf8\") as f:\n",
    "    f.write(new_file_content)  # .replace(\"\\beta\", r\"\\beta\"))"
   ]
  },
  {
   "cell_type": "markdown",
   "id": "competitive-kidney",
   "metadata": {},
   "source": [
    "## eMERGE"
   ]
  },
  {
   "cell_type": "code",
   "execution_count": 52,
   "id": "alpha-routine",
   "metadata": {},
   "outputs": [],
   "source": [
    "result_set = \"emerge\""
   ]
  },
  {
   "cell_type": "code",
   "execution_count": 53,
   "id": "major-valve",
   "metadata": {},
   "outputs": [],
   "source": [
    "lv_assocs = emerge_lv_trait_assocs[\n",
    "    (emerge_lv_trait_assocs[\"lv\"] == LV_NAME) & (emerge_lv_trait_assocs[\"fdr\"] < 0.05)\n",
    "].sort_values(\"fdr\")"
   ]
  },
  {
   "cell_type": "code",
   "execution_count": 54,
   "id": "iraqi-vulnerability",
   "metadata": {},
   "outputs": [
    {
     "data": {
      "text/html": [
       "<div>\n",
       "<style scoped>\n",
       "    .dataframe tbody tr th:only-of-type {\n",
       "        vertical-align: middle;\n",
       "    }\n",
       "\n",
       "    .dataframe tbody tr th {\n",
       "        vertical-align: top;\n",
       "    }\n",
       "\n",
       "    .dataframe thead th {\n",
       "        text-align: right;\n",
       "    }\n",
       "</style>\n",
       "<table border=\"1\" class=\"dataframe\">\n",
       "  <thead>\n",
       "    <tr style=\"text-align: right;\">\n",
       "      <th></th>\n",
       "      <th>phenotype</th>\n",
       "      <th>phenotype_desc</th>\n",
       "      <th>lv</th>\n",
       "      <th>pvalue</th>\n",
       "      <th>fdr</th>\n",
       "    </tr>\n",
       "  </thead>\n",
       "  <tbody>\n",
       "  </tbody>\n",
       "</table>\n",
       "</div>"
      ],
      "text/plain": [
       "Empty DataFrame\n",
       "Columns: [phenotype, phenotype_desc, lv, pvalue, fdr]\n",
       "Index: []"
      ]
     },
     "metadata": {},
     "output_type": "display_data"
    }
   ],
   "source": [
    "with pd.option_context(\n",
    "    \"display.max_rows\", None, \"display.max_columns\", None, \"display.max_colwidth\", None\n",
    "):\n",
    "    display(lv_assocs)"
   ]
  },
  {
   "cell_type": "code",
   "execution_count": 55,
   "id": "vulnerable-cooper",
   "metadata": {},
   "outputs": [],
   "source": [
    "lv_assocs = lv_assocs.assign(\n",
    "    phenotype_desc=lv_assocs[\"phenotype\"].apply(\n",
    "        lambda x: emerge_traits_info.loc[x, \"phenotype\"]\n",
    "    )\n",
    ")"
   ]
  },
  {
   "cell_type": "code",
   "execution_count": 56,
   "id": "legendary-elite",
   "metadata": {},
   "outputs": [],
   "source": [
    "lv_assocs = lv_assocs.assign(\n",
    "    n=lv_assocs[\"phenotype\"].apply(\n",
    "        lambda x: emerge_traits_info.loc[x, [\"eur_n_cases\", \"eur_n_controls\"]].sum()\n",
    "    )\n",
    ")"
   ]
  },
  {
   "cell_type": "code",
   "execution_count": 57,
   "id": "typical-celebration",
   "metadata": {},
   "outputs": [],
   "source": [
    "lv_assocs = lv_assocs.assign(\n",
    "    n_cases=lv_assocs[\"phenotype\"].apply(\n",
    "        lambda x: emerge_traits_info.loc[x, \"eur_n_cases\"]\n",
    "    )\n",
    ")"
   ]
  },
  {
   "cell_type": "code",
   "execution_count": 58,
   "id": "small-nerve",
   "metadata": {},
   "outputs": [],
   "source": [
    "lv_assocs[\"phenotype\"] = lv_assocs[\"phenotype\"].apply(lambda x: x.split(\"EUR_\")[1])"
   ]
  },
  {
   "cell_type": "code",
   "execution_count": 59,
   "id": "1e20d429",
   "metadata": {},
   "outputs": [],
   "source": [
    "# lv_assocs = lv_assocs.assign(coef=lv_assocs[\"coef\"].apply(lambda x: f\"{x:.3f}\"))"
   ]
  },
  {
   "cell_type": "code",
   "execution_count": 60,
   "id": "classical-boston",
   "metadata": {},
   "outputs": [],
   "source": [
    "lv_assocs = lv_assocs.assign(\n",
    "    fdr=lv_assocs[\"fdr\"].apply(lambda x: f\"{x:.2e}\".replace(\"-\", \"&#8209;\"))\n",
    ")"
   ]
  },
  {
   "cell_type": "code",
   "execution_count": 61,
   "id": "adult-arctic",
   "metadata": {},
   "outputs": [],
   "source": [
    "lv_assocs = lv_assocs.assign(n=lv_assocs[\"n\"].apply(num_to_int_str))"
   ]
  },
  {
   "cell_type": "code",
   "execution_count": 62,
   "id": "proprietary-thursday",
   "metadata": {},
   "outputs": [],
   "source": [
    "lv_assocs = lv_assocs.assign(n_cases=lv_assocs[\"n_cases\"].apply(num_to_int_str))"
   ]
  },
  {
   "cell_type": "code",
   "execution_count": 63,
   "id": "gentle-finish",
   "metadata": {},
   "outputs": [],
   "source": [
    "lv_assocs = lv_assocs.rename(columns={\"phenotype\": \"phecode\"})"
   ]
  },
  {
   "cell_type": "code",
   "execution_count": 64,
   "id": "rough-equality",
   "metadata": {},
   "outputs": [
    {
     "data": {
      "text/plain": [
       "(0, 7)"
      ]
     },
     "execution_count": 64,
     "metadata": {},
     "output_type": "execute_result"
    }
   ],
   "source": [
    "lv_assocs.shape"
   ]
  },
  {
   "cell_type": "code",
   "execution_count": 65,
   "id": "responsible-austin",
   "metadata": {},
   "outputs": [],
   "source": [
    "lv_assocs = lv_assocs[[\"phecode\", \"phenotype_desc\", \"n\", \"n_cases\", \"fdr\"]]"
   ]
  },
  {
   "cell_type": "code",
   "execution_count": 66,
   "id": "assisted-despite",
   "metadata": {},
   "outputs": [],
   "source": [
    "lv_assocs = lv_assocs.rename(\n",
    "    columns={\n",
    "        \"lv\": \"Latent variable (LV)\",\n",
    "        #         \"coef\": r\"$\\beta$\",\n",
    "        \"fdr\": \"FDR\",\n",
    "        \"phecode\": \"Phecode\",\n",
    "        \"phenotype_desc\": \"Trait description\",\n",
    "        \"n\": \"Sample size\",\n",
    "        \"n_cases\": \"Cases\",\n",
    "    }\n",
    ")"
   ]
  },
  {
   "cell_type": "code",
   "execution_count": 67,
   "id": "buried-theater",
   "metadata": {},
   "outputs": [
    {
     "data": {
      "text/html": [
       "<div>\n",
       "<style scoped>\n",
       "    .dataframe tbody tr th:only-of-type {\n",
       "        vertical-align: middle;\n",
       "    }\n",
       "\n",
       "    .dataframe tbody tr th {\n",
       "        vertical-align: top;\n",
       "    }\n",
       "\n",
       "    .dataframe thead th {\n",
       "        text-align: right;\n",
       "    }\n",
       "</style>\n",
       "<table border=\"1\" class=\"dataframe\">\n",
       "  <thead>\n",
       "    <tr style=\"text-align: right;\">\n",
       "      <th></th>\n",
       "      <th>Phecode</th>\n",
       "      <th>Trait description</th>\n",
       "      <th>Sample size</th>\n",
       "      <th>Cases</th>\n",
       "      <th>FDR</th>\n",
       "    </tr>\n",
       "  </thead>\n",
       "  <tbody>\n",
       "  </tbody>\n",
       "</table>\n",
       "</div>"
      ],
      "text/plain": [
       "Empty DataFrame\n",
       "Columns: [Phecode, Trait description, Sample size, Cases, FDR]\n",
       "Index: []"
      ]
     },
     "metadata": {},
     "output_type": "display_data"
    }
   ],
   "source": [
    "with pd.option_context(\n",
    "    \"display.max_rows\", None, \"display.max_columns\", None, \"display.max_colwidth\", None\n",
    "):\n",
    "    display(lv_assocs)"
   ]
  },
  {
   "cell_type": "markdown",
   "id": "responsible-amplifier",
   "metadata": {},
   "source": [
    "### Fill empty"
   ]
  },
  {
   "cell_type": "code",
   "execution_count": 68,
   "id": "timely-treasure",
   "metadata": {},
   "outputs": [
    {
     "data": {
      "text/html": [
       "<div>\n",
       "<style scoped>\n",
       "    .dataframe tbody tr th:only-of-type {\n",
       "        vertical-align: middle;\n",
       "    }\n",
       "\n",
       "    .dataframe tbody tr th {\n",
       "        vertical-align: top;\n",
       "    }\n",
       "\n",
       "    .dataframe thead th {\n",
       "        text-align: right;\n",
       "    }\n",
       "</style>\n",
       "<table border=\"1\" class=\"dataframe\">\n",
       "  <thead>\n",
       "    <tr style=\"text-align: right;\">\n",
       "      <th></th>\n",
       "      <th>Phecode</th>\n",
       "      <th>Trait description</th>\n",
       "      <th>Sample size</th>\n",
       "      <th>Cases</th>\n",
       "      <th>FDR</th>\n",
       "    </tr>\n",
       "  </thead>\n",
       "  <tbody>\n",
       "    <tr>\n",
       "      <th>0</th>\n",
       "      <td>No significant associations</td>\n",
       "      <td></td>\n",
       "      <td></td>\n",
       "      <td></td>\n",
       "      <td></td>\n",
       "    </tr>\n",
       "  </tbody>\n",
       "</table>\n",
       "</div>"
      ],
      "text/plain": [
       "                       Phecode Trait description Sample size Cases FDR\n",
       "0  No significant associations                                        "
      ]
     },
     "metadata": {},
     "output_type": "display_data"
    }
   ],
   "source": [
    "if lv_assocs.shape[0] == 0:\n",
    "    lv_assocs = pd.DataFrame(columns=lv_assocs.columns.copy()).astype(str)\n",
    "    lv_assocs.loc[0, \"Phecode\"] = \"No significant associations\"\n",
    "    lv_assocs = lv_assocs.fillna(\"\")\n",
    "\n",
    "    display(lv_assocs)"
   ]
  },
  {
   "cell_type": "markdown",
   "id": "south-appointment",
   "metadata": {},
   "source": [
    "### Save"
   ]
  },
  {
   "cell_type": "code",
   "execution_count": 69,
   "id": "opened-charge",
   "metadata": {},
   "outputs": [
    {
     "data": {
      "text/plain": [
       "'<!-- LV928:emerge_traits_assocs:start -->'"
      ]
     },
     "metadata": {},
     "output_type": "display_data"
    },
    {
     "data": {
      "text/plain": [
       "'<!-- LV928:emerge_traits_assocs:end -->'"
      ]
     },
     "metadata": {},
     "output_type": "display_data"
    }
   ],
   "source": [
    "# start\n",
    "lv_file_mark_start = LV_FILE_MARK_TEMPLATE.format(\n",
    "    result_set=result_set, lv=LV_NAME, position=\"start\"\n",
    ")\n",
    "display(lv_file_mark_start)\n",
    "\n",
    "# end\n",
    "lv_file_mark_end = LV_FILE_MARK_TEMPLATE.format(\n",
    "    result_set=result_set, lv=LV_NAME, position=\"end\"\n",
    ")\n",
    "display(lv_file_mark_end)"
   ]
  },
  {
   "cell_type": "code",
   "execution_count": 70,
   "id": "intelligent-qualification",
   "metadata": {},
   "outputs": [],
   "source": [
    "new_content = lv_assocs.to_markdown(index=False, disable_numparse=True)"
   ]
  },
  {
   "cell_type": "code",
   "execution_count": 71,
   "id": "critical-grove",
   "metadata": {},
   "outputs": [
    {
     "data": {
      "text/plain": [
       "'Table: Significant trait associations of LV928 in eMERGE. {#tbl:sup:emerge_assocs:lv928}'"
      ]
     },
     "metadata": {},
     "output_type": "display_data"
    }
   ],
   "source": [
    "# add table caption\n",
    "table_caption = TABLE_CAPTION.format(\n",
    "    lv_name=LV_NAME,\n",
    "    result_set_name=RESULT_SET_NAMES[result_set],\n",
    "    table_id=\"{\"\n",
    "    + TABLE_CAPTION_ID.format(result_set=result_set, lv_name_lower_case=LV_NAME.lower())\n",
    "    + \"}\",\n",
    ")\n",
    "display(table_caption)"
   ]
  },
  {
   "cell_type": "code",
   "execution_count": 72,
   "id": "sapphire-helping",
   "metadata": {},
   "outputs": [],
   "source": [
    "new_content += \"\\n\\n\" + table_caption"
   ]
  },
  {
   "cell_type": "code",
   "execution_count": 73,
   "id": "brief-building",
   "metadata": {},
   "outputs": [],
   "source": [
    "full_new_content = (\n",
    "    lv_file_mark_start + \"\\n\" + new_content.strip() + \"\\n\" + lv_file_mark_end\n",
    ")"
   ]
  },
  {
   "cell_type": "code",
   "execution_count": 74,
   "id": "comparative-discovery",
   "metadata": {},
   "outputs": [],
   "source": [
    "with open(OUTPUT_FILE_PATH, \"r\", encoding=\"utf8\") as f:\n",
    "    file_content = f.read()"
   ]
  },
  {
   "cell_type": "code",
   "execution_count": 75,
   "id": "vulnerable-lodging",
   "metadata": {},
   "outputs": [],
   "source": [
    "new_file_content = re.sub(\n",
    "    lv_file_mark_start + \".*?\" + lv_file_mark_end,\n",
    "    full_new_content,\n",
    "    file_content,\n",
    "    flags=re.DOTALL,\n",
    ")"
   ]
  },
  {
   "cell_type": "code",
   "execution_count": 76,
   "id": "detailed-distinction",
   "metadata": {},
   "outputs": [],
   "source": [
    "with open(OUTPUT_FILE_PATH, \"w\", encoding=\"utf8\") as f:\n",
    "    f.write(new_file_content)  # .replace(\"\\beta\", r\"\\beta\"))"
   ]
  },
  {
   "cell_type": "code",
   "execution_count": null,
   "id": "organized-andorra",
   "metadata": {},
   "outputs": [],
   "source": []
  }
 ],
 "metadata": {
  "jupytext": {
   "cell_metadata_filter": "all,-execution,-papermill,-trusted",
   "formats": "ipynb,py//py:percent"
  },
  "kernelspec": {
   "display_name": "Python 3 (ipykernel)",
   "language": "python",
   "name": "python3"
  },
  "language_info": {
   "codemirror_mode": {
    "name": "ipython",
    "version": 3
   },
   "file_extension": ".py",
   "mimetype": "text/x-python",
   "name": "python",
   "nbconvert_exporter": "python",
   "pygments_lexer": "ipython3",
   "version": "3.8.13"
  },
  "toc-autonumbering": true
 },
 "nbformat": 4,
 "nbformat_minor": 5
}
