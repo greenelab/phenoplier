{
 "cells": [
  {
   "cell_type": "markdown",
   "id": "qualified-salmon",
   "metadata": {
    "papermill": {
     "duration": 0.006593,
     "end_time": "2021-05-11T19:09:55.733221",
     "exception": false,
     "start_time": "2021-05-11T19:09:55.726628",
     "status": "completed"
    },
    "tags": []
   },
   "source": [
    "# Description"
   ]
  },
  {
   "cell_type": "markdown",
   "id": "growing-spelling",
   "metadata": {
    "papermill": {
     "duration": 0.00668,
     "end_time": "2021-05-11T19:09:55.745410",
     "exception": false,
     "start_time": "2021-05-11T19:09:55.738730",
     "status": "completed"
    },
    "tags": []
   },
   "source": [
    "Generates manubot tables for PhenomeXcan and eMERGE associations given an LV name (which is the only parameter that needs to be specified in the Settings section below)."
   ]
  },
  {
   "cell_type": "markdown",
   "id": "looking-wichita",
   "metadata": {
    "papermill": {
     "duration": 0.006223,
     "end_time": "2021-05-11T19:09:55.756959",
     "exception": false,
     "start_time": "2021-05-11T19:09:55.750736",
     "status": "completed"
    },
    "tags": []
   },
   "source": [
    "# Modules loading"
   ]
  },
  {
   "cell_type": "code",
   "execution_count": 1,
   "id": "future-merchant",
   "metadata": {
    "papermill": {
     "duration": 0.01906,
     "end_time": "2021-05-11T19:09:55.781515",
     "exception": false,
     "start_time": "2021-05-11T19:09:55.762455",
     "status": "completed"
    },
    "tags": []
   },
   "outputs": [],
   "source": [
    "%load_ext autoreload\n",
    "%autoreload 2"
   ]
  },
  {
   "cell_type": "code",
   "execution_count": 2,
   "id": "detected-thinking",
   "metadata": {
    "papermill": {
     "duration": 0.993432,
     "end_time": "2021-05-11T19:09:56.780403",
     "exception": false,
     "start_time": "2021-05-11T19:09:55.786971",
     "status": "completed"
    },
    "tags": []
   },
   "outputs": [],
   "source": [
    "import re\n",
    "from pathlib import Path\n",
    "\n",
    "import pandas as pd\n",
    "\n",
    "from entity import Trait\n",
    "import conf"
   ]
  },
  {
   "cell_type": "markdown",
   "id": "tested-canon",
   "metadata": {
    "papermill": {
     "duration": 0.005973,
     "end_time": "2021-05-11T19:09:56.792495",
     "exception": false,
     "start_time": "2021-05-11T19:09:56.786522",
     "status": "completed"
    },
    "tags": []
   },
   "source": [
    "# Settings"
   ]
  },
  {
   "cell_type": "code",
   "execution_count": 3,
   "id": "olive-ultimate",
   "metadata": {
    "papermill": {
     "duration": 0.019548,
     "end_time": "2021-05-11T19:09:56.817689",
     "exception": false,
     "start_time": "2021-05-11T19:09:56.798141",
     "status": "completed"
    },
    "tags": [
     "parameters"
    ]
   },
   "outputs": [],
   "source": [
    "LV_NAME = \"LV928\""
   ]
  },
  {
   "cell_type": "code",
   "execution_count": 4,
   "id": "moved-jackson",
   "metadata": {},
   "outputs": [
    {
     "data": {
      "text/plain": [
       "PosixPath('/home/miltondp/projects/labs/greenelab/phenoplier_manuscript/content/50.00.supplementary_material.md')"
      ]
     },
     "metadata": {},
     "output_type": "display_data"
    }
   ],
   "source": [
    "assert (\n",
    "    conf.MANUSCRIPT[\"BASE_DIR\"] is not None\n",
    "), \"The manuscript directory was not configured\"\n",
    "\n",
    "OUTPUT_FILE_PATH = conf.MANUSCRIPT[\"CONTENT_DIR\"] / \"50.00.supplementary_material.md\"\n",
    "display(OUTPUT_FILE_PATH)\n",
    "assert OUTPUT_FILE_PATH.exists()"
   ]
  },
  {
   "cell_type": "code",
   "execution_count": 5,
   "id": "sealed-judgment",
   "metadata": {},
   "outputs": [],
   "source": [
    "# result_set is either phenomexcan or emerge\n",
    "LV_FILE_MARK_TEMPLATE = \"<!-- {lv}:{result_set}_traits_assocs:{position} -->\""
   ]
  },
  {
   "cell_type": "code",
   "execution_count": 6,
   "id": "mental-pierre",
   "metadata": {},
   "outputs": [],
   "source": [
    "TABLE_CAPTION = \"Table: Significant trait associations of {lv_name} in {result_set_name}. {table_id}\""
   ]
  },
  {
   "cell_type": "code",
   "execution_count": 7,
   "id": "pressed-promise",
   "metadata": {},
   "outputs": [],
   "source": [
    "TABLE_CAPTION_ID = \"#tbl:sup:{result_set}_assocs:{lv_name_lower_case}\""
   ]
  },
  {
   "cell_type": "code",
   "execution_count": 8,
   "id": "political-storm",
   "metadata": {},
   "outputs": [],
   "source": [
    "RESULT_SET_NAMES = {\n",
    "    \"phenomexcan\": \"PhenomeXcan\",\n",
    "    \"emerge\": \"eMERGE\",\n",
    "}"
   ]
  },
  {
   "cell_type": "markdown",
   "id": "anticipated-attempt",
   "metadata": {
    "papermill": {
     "duration": 0.006007,
     "end_time": "2021-05-11T19:09:56.949763",
     "exception": false,
     "start_time": "2021-05-11T19:09:56.943756",
     "status": "completed"
    },
    "tags": []
   },
   "source": [
    "# Load data"
   ]
  },
  {
   "cell_type": "markdown",
   "id": "wrapped-mortality",
   "metadata": {},
   "source": [
    "## PhenomeXcan LV-trait associations"
   ]
  },
  {
   "cell_type": "code",
   "execution_count": 9,
   "id": "removed-piano",
   "metadata": {},
   "outputs": [
    {
     "data": {
      "text/plain": [
       "PosixPath('/home/miltondp/projects/labs/greenelab/phenoplier/bases_data/base_orig/results/gls/gls_phenotypes-combined-phenomexcan.pkl')"
      ]
     },
     "metadata": {},
     "output_type": "display_data"
    }
   ],
   "source": [
    "input_filepath = Path(conf.RESULTS[\"GLS\"] / \"gls_phenotypes-combined-phenomexcan.pkl\")\n",
    "display(input_filepath)"
   ]
  },
  {
   "cell_type": "code",
   "execution_count": 10,
   "id": "blocked-sheep",
   "metadata": {},
   "outputs": [],
   "source": [
    "phenomexcan_lv_trait_assocs = pd.read_pickle(input_filepath)"
   ]
  },
  {
   "cell_type": "code",
   "execution_count": 11,
   "id": "ambient-disease",
   "metadata": {},
   "outputs": [
    {
     "data": {
      "text/plain": [
       "(5782, 8)"
      ]
     },
     "execution_count": 11,
     "metadata": {},
     "output_type": "execute_result"
    }
   ],
   "source": [
    "phenomexcan_lv_trait_assocs.shape"
   ]
  },
  {
   "cell_type": "code",
   "execution_count": 12,
   "id": "hollow-modern",
   "metadata": {},
   "outputs": [
    {
     "data": {
      "text/html": [
       "<div>\n",
       "<style scoped>\n",
       "    .dataframe tbody tr th:only-of-type {\n",
       "        vertical-align: middle;\n",
       "    }\n",
       "\n",
       "    .dataframe tbody tr th {\n",
       "        vertical-align: top;\n",
       "    }\n",
       "\n",
       "    .dataframe thead th {\n",
       "        text-align: right;\n",
       "    }\n",
       "</style>\n",
       "<table border=\"1\" class=\"dataframe\">\n",
       "  <thead>\n",
       "    <tr style=\"text-align: right;\">\n",
       "      <th></th>\n",
       "      <th>part_k</th>\n",
       "      <th>cluster_id</th>\n",
       "      <th>phenotype</th>\n",
       "      <th>lv</th>\n",
       "      <th>coef</th>\n",
       "      <th>pvalue</th>\n",
       "      <th>pvalue_twosided</th>\n",
       "      <th>fdr</th>\n",
       "    </tr>\n",
       "  </thead>\n",
       "  <tbody>\n",
       "    <tr>\n",
       "      <th>0</th>\n",
       "      <td>29</td>\n",
       "      <td>22</td>\n",
       "      <td>100002_raw-Energy</td>\n",
       "      <td>LV246</td>\n",
       "      <td>0.002401</td>\n",
       "      <td>0.424213</td>\n",
       "      <td>0.848425</td>\n",
       "      <td>0.680765</td>\n",
       "    </tr>\n",
       "    <tr>\n",
       "      <th>1</th>\n",
       "      <td>29</td>\n",
       "      <td>22</td>\n",
       "      <td>100002_raw-Energy</td>\n",
       "      <td>LV607</td>\n",
       "      <td>-0.006323</td>\n",
       "      <td>0.691499</td>\n",
       "      <td>0.617002</td>\n",
       "      <td>0.873350</td>\n",
       "    </tr>\n",
       "    <tr>\n",
       "      <th>2</th>\n",
       "      <td>29</td>\n",
       "      <td>22</td>\n",
       "      <td>100002_raw-Energy</td>\n",
       "      <td>LV612</td>\n",
       "      <td>-0.000822</td>\n",
       "      <td>0.525786</td>\n",
       "      <td>0.948428</td>\n",
       "      <td>0.763843</td>\n",
       "    </tr>\n",
       "    <tr>\n",
       "      <th>3</th>\n",
       "      <td>29</td>\n",
       "      <td>22</td>\n",
       "      <td>100002_raw-Energy</td>\n",
       "      <td>LV74</td>\n",
       "      <td>-0.006035</td>\n",
       "      <td>0.685313</td>\n",
       "      <td>0.629373</td>\n",
       "      <td>0.870769</td>\n",
       "    </tr>\n",
       "    <tr>\n",
       "      <th>4</th>\n",
       "      <td>29</td>\n",
       "      <td>22</td>\n",
       "      <td>100002_raw-Energy</td>\n",
       "      <td>LV838</td>\n",
       "      <td>0.024454</td>\n",
       "      <td>0.023446</td>\n",
       "      <td>0.046891</td>\n",
       "      <td>0.087403</td>\n",
       "    </tr>\n",
       "  </tbody>\n",
       "</table>\n",
       "</div>"
      ],
      "text/plain": [
       "   part_k  cluster_id          phenotype     lv      coef    pvalue  \\\n",
       "0      29          22  100002_raw-Energy  LV246  0.002401  0.424213   \n",
       "1      29          22  100002_raw-Energy  LV607 -0.006323  0.691499   \n",
       "2      29          22  100002_raw-Energy  LV612 -0.000822  0.525786   \n",
       "3      29          22  100002_raw-Energy   LV74 -0.006035  0.685313   \n",
       "4      29          22  100002_raw-Energy  LV838  0.024454  0.023446   \n",
       "\n",
       "   pvalue_twosided       fdr  \n",
       "0         0.848425  0.680765  \n",
       "1         0.617002  0.873350  \n",
       "2         0.948428  0.763843  \n",
       "3         0.629373  0.870769  \n",
       "4         0.046891  0.087403  "
      ]
     },
     "execution_count": 12,
     "metadata": {},
     "output_type": "execute_result"
    }
   ],
   "source": [
    "phenomexcan_lv_trait_assocs.head()"
   ]
  },
  {
   "cell_type": "markdown",
   "id": "tough-hayes",
   "metadata": {},
   "source": [
    "## eMERGE LV-trait associations"
   ]
  },
  {
   "cell_type": "code",
   "execution_count": 13,
   "id": "taken-company",
   "metadata": {},
   "outputs": [
    {
     "data": {
      "text/plain": [
       "PosixPath('/home/miltondp/projects/labs/greenelab/phenoplier/bases_data/base_orig/results/gls/gls_phenotypes-combined-emerge.pkl')"
      ]
     },
     "metadata": {},
     "output_type": "display_data"
    }
   ],
   "source": [
    "input_filepath = Path(conf.RESULTS[\"GLS\"] / \"gls_phenotypes-combined-emerge.pkl\")\n",
    "display(input_filepath)"
   ]
  },
  {
   "cell_type": "code",
   "execution_count": 14,
   "id": "resident-marathon",
   "metadata": {},
   "outputs": [],
   "source": [
    "emerge_lv_trait_assocs = pd.read_pickle(input_filepath)"
   ]
  },
  {
   "cell_type": "code",
   "execution_count": 15,
   "id": "spoken-sixth",
   "metadata": {},
   "outputs": [
    {
     "data": {
      "text/plain": [
       "(7725, 6)"
      ]
     },
     "execution_count": 15,
     "metadata": {},
     "output_type": "execute_result"
    }
   ],
   "source": [
    "emerge_lv_trait_assocs.shape"
   ]
  },
  {
   "cell_type": "code",
   "execution_count": 16,
   "id": "modified-intersection",
   "metadata": {},
   "outputs": [
    {
     "data": {
      "text/html": [
       "<div>\n",
       "<style scoped>\n",
       "    .dataframe tbody tr th:only-of-type {\n",
       "        vertical-align: middle;\n",
       "    }\n",
       "\n",
       "    .dataframe tbody tr th {\n",
       "        vertical-align: top;\n",
       "    }\n",
       "\n",
       "    .dataframe thead th {\n",
       "        text-align: right;\n",
       "    }\n",
       "</style>\n",
       "<table border=\"1\" class=\"dataframe\">\n",
       "  <thead>\n",
       "    <tr style=\"text-align: right;\">\n",
       "      <th></th>\n",
       "      <th>phenotype</th>\n",
       "      <th>lv</th>\n",
       "      <th>coef</th>\n",
       "      <th>pvalue</th>\n",
       "      <th>pvalue_twosided</th>\n",
       "      <th>fdr</th>\n",
       "    </tr>\n",
       "  </thead>\n",
       "  <tbody>\n",
       "    <tr>\n",
       "      <th>0</th>\n",
       "      <td>008</td>\n",
       "      <td>LV246</td>\n",
       "      <td>-0.011008</td>\n",
       "      <td>0.809325</td>\n",
       "      <td>0.381350</td>\n",
       "      <td>0.999418</td>\n",
       "    </tr>\n",
       "    <tr>\n",
       "      <th>1</th>\n",
       "      <td>008</td>\n",
       "      <td>LV30</td>\n",
       "      <td>0.022387</td>\n",
       "      <td>0.038699</td>\n",
       "      <td>0.077397</td>\n",
       "      <td>0.483734</td>\n",
       "    </tr>\n",
       "    <tr>\n",
       "      <th>2</th>\n",
       "      <td>008</td>\n",
       "      <td>LV57</td>\n",
       "      <td>0.003960</td>\n",
       "      <td>0.379121</td>\n",
       "      <td>0.758243</td>\n",
       "      <td>0.961449</td>\n",
       "    </tr>\n",
       "    <tr>\n",
       "      <th>3</th>\n",
       "      <td>008</td>\n",
       "      <td>LV865</td>\n",
       "      <td>-0.008742</td>\n",
       "      <td>0.758337</td>\n",
       "      <td>0.483327</td>\n",
       "      <td>0.999418</td>\n",
       "    </tr>\n",
       "    <tr>\n",
       "      <th>4</th>\n",
       "      <td>008</td>\n",
       "      <td>LV847</td>\n",
       "      <td>-0.028246</td>\n",
       "      <td>0.985827</td>\n",
       "      <td>0.028346</td>\n",
       "      <td>0.999418</td>\n",
       "    </tr>\n",
       "  </tbody>\n",
       "</table>\n",
       "</div>"
      ],
      "text/plain": [
       "  phenotype     lv      coef    pvalue  pvalue_twosided       fdr\n",
       "0       008  LV246 -0.011008  0.809325         0.381350  0.999418\n",
       "1       008   LV30  0.022387  0.038699         0.077397  0.483734\n",
       "2       008   LV57  0.003960  0.379121         0.758243  0.961449\n",
       "3       008  LV865 -0.008742  0.758337         0.483327  0.999418\n",
       "4       008  LV847 -0.028246  0.985827         0.028346  0.999418"
      ]
     },
     "execution_count": 16,
     "metadata": {},
     "output_type": "execute_result"
    }
   ],
   "source": [
    "emerge_lv_trait_assocs.head()"
   ]
  },
  {
   "cell_type": "markdown",
   "id": "radio-october",
   "metadata": {},
   "source": [
    "## eMERGE traits info"
   ]
  },
  {
   "cell_type": "code",
   "execution_count": 17,
   "id": "maritime-graham",
   "metadata": {},
   "outputs": [
    {
     "data": {
      "text/plain": [
       "PosixPath('/home/miltondp/projects/labs/greenelab/phenoplier/bases_data/base_orig/data/emerge/eMERGE_III_PMBB_GSA_v2_2020_phecode_AFR_EUR_cc50_counts_w_dictionary.txt')"
      ]
     },
     "metadata": {},
     "output_type": "display_data"
    }
   ],
   "source": [
    "input_filepath = conf.EMERGE[\"DESC_FILE_WITH_SAMPLE_SIZE\"]\n",
    "display(input_filepath)"
   ]
  },
  {
   "cell_type": "code",
   "execution_count": 18,
   "id": "chinese-today",
   "metadata": {},
   "outputs": [],
   "source": [
    "emerge_traits_info = pd.read_csv(\n",
    "    input_filepath,\n",
    "    sep=\"\\t\",\n",
    "    dtype={\"phecode\": str},\n",
    "    usecols=[\n",
    "        \"phecode\",\n",
    "        \"phenotype\",\n",
    "        \"category\",\n",
    "        \"eMERGE_III_EUR_case\",\n",
    "        \"eMERGE_III_EUR_control\",\n",
    "    ],\n",
    ")"
   ]
  },
  {
   "cell_type": "code",
   "execution_count": 19,
   "id": "static-cologne",
   "metadata": {},
   "outputs": [],
   "source": [
    "emerge_traits_info = emerge_traits_info.set_index(\"phecode\")"
   ]
  },
  {
   "cell_type": "code",
   "execution_count": 20,
   "id": "prescription-lithuania",
   "metadata": {},
   "outputs": [],
   "source": [
    "emerge_traits_info = emerge_traits_info.rename(\n",
    "    columns={\n",
    "        \"eMERGE_III_EUR_case\": \"eur_n_cases\",\n",
    "        \"eMERGE_III_EUR_control\": \"eur_n_controls\",\n",
    "    }\n",
    ")"
   ]
  },
  {
   "cell_type": "code",
   "execution_count": 21,
   "id": "instrumental-iceland",
   "metadata": {},
   "outputs": [
    {
     "data": {
      "text/plain": [
       "(309, 4)"
      ]
     },
     "execution_count": 21,
     "metadata": {},
     "output_type": "execute_result"
    }
   ],
   "source": [
    "emerge_traits_info.shape"
   ]
  },
  {
   "cell_type": "code",
   "execution_count": 22,
   "id": "exempt-humidity",
   "metadata": {},
   "outputs": [
    {
     "data": {
      "text/html": [
       "<div>\n",
       "<style scoped>\n",
       "    .dataframe tbody tr th:only-of-type {\n",
       "        vertical-align: middle;\n",
       "    }\n",
       "\n",
       "    .dataframe tbody tr th {\n",
       "        vertical-align: top;\n",
       "    }\n",
       "\n",
       "    .dataframe thead th {\n",
       "        text-align: right;\n",
       "    }\n",
       "</style>\n",
       "<table border=\"1\" class=\"dataframe\">\n",
       "  <thead>\n",
       "    <tr style=\"text-align: right;\">\n",
       "      <th></th>\n",
       "      <th>eur_n_cases</th>\n",
       "      <th>eur_n_controls</th>\n",
       "      <th>phenotype</th>\n",
       "      <th>category</th>\n",
       "    </tr>\n",
       "    <tr>\n",
       "      <th>phecode</th>\n",
       "      <th></th>\n",
       "      <th></th>\n",
       "      <th></th>\n",
       "      <th></th>\n",
       "    </tr>\n",
       "  </thead>\n",
       "  <tbody>\n",
       "    <tr>\n",
       "      <th>008</th>\n",
       "      <td>1639</td>\n",
       "      <td>57495</td>\n",
       "      <td>Intestinal infection</td>\n",
       "      <td>infectious diseases</td>\n",
       "    </tr>\n",
       "    <tr>\n",
       "      <th>008.5</th>\n",
       "      <td>1024</td>\n",
       "      <td>57495</td>\n",
       "      <td>Bacterial enteritis</td>\n",
       "      <td>infectious diseases</td>\n",
       "    </tr>\n",
       "    <tr>\n",
       "      <th>008.52</th>\n",
       "      <td>893</td>\n",
       "      <td>57495</td>\n",
       "      <td>Intestinal infection due to C. difficile</td>\n",
       "      <td>infectious diseases</td>\n",
       "    </tr>\n",
       "    <tr>\n",
       "      <th>038</th>\n",
       "      <td>3172</td>\n",
       "      <td>50610</td>\n",
       "      <td>Septicemia</td>\n",
       "      <td>infectious diseases</td>\n",
       "    </tr>\n",
       "    <tr>\n",
       "      <th>038.3</th>\n",
       "      <td>1361</td>\n",
       "      <td>50610</td>\n",
       "      <td>Bacteremia</td>\n",
       "      <td>infectious diseases</td>\n",
       "    </tr>\n",
       "  </tbody>\n",
       "</table>\n",
       "</div>"
      ],
      "text/plain": [
       "         eur_n_cases  eur_n_controls  \\\n",
       "phecode                                \n",
       "008             1639           57495   \n",
       "008.5           1024           57495   \n",
       "008.52           893           57495   \n",
       "038             3172           50610   \n",
       "038.3           1361           50610   \n",
       "\n",
       "                                        phenotype             category  \n",
       "phecode                                                                 \n",
       "008                          Intestinal infection  infectious diseases  \n",
       "008.5                         Bacterial enteritis  infectious diseases  \n",
       "008.52   Intestinal infection due to C. difficile  infectious diseases  \n",
       "038                                    Septicemia  infectious diseases  \n",
       "038.3                                  Bacteremia  infectious diseases  "
      ]
     },
     "execution_count": 22,
     "metadata": {},
     "output_type": "execute_result"
    }
   ],
   "source": [
    "emerge_traits_info.head()"
   ]
  },
  {
   "cell_type": "code",
   "execution_count": 23,
   "id": "extra-mexican",
   "metadata": {},
   "outputs": [],
   "source": [
    "assert emerge_traits_info.index.is_unique"
   ]
  },
  {
   "cell_type": "markdown",
   "id": "adaptive-flesh",
   "metadata": {
    "lines_to_next_cell": 2
   },
   "source": [
    "# Trait associations"
   ]
  },
  {
   "cell_type": "markdown",
   "id": "surprising-economics",
   "metadata": {},
   "source": [
    "## PhenomeXcan"
   ]
  },
  {
   "cell_type": "code",
   "execution_count": 24,
   "id": "artificial-basket",
   "metadata": {},
   "outputs": [],
   "source": [
    "from traits import SHORT_TRAIT_NAMES"
   ]
  },
  {
   "cell_type": "code",
   "execution_count": 25,
   "id": "practical-member",
   "metadata": {
    "lines_to_next_cell": 1
   },
   "outputs": [],
   "source": [
    "result_set = \"phenomexcan\""
   ]
  },
  {
   "cell_type": "code",
   "execution_count": 26,
   "id": "worthy-connection",
   "metadata": {},
   "outputs": [],
   "source": [
    "def get_trait_objs(phenotype_full_code):\n",
    "    if Trait.is_efo_label(phenotype_full_code):\n",
    "        traits = Trait.get_traits_from_efo(phenotype_full_code)\n",
    "    else:\n",
    "        traits = [Trait.get_trait(full_code=phenotype_full_code)]\n",
    "\n",
    "    # sort by sample size\n",
    "    return sorted(traits, key=lambda x: x.n_cases / x.n, reverse=True)\n",
    "\n",
    "\n",
    "def get_trait_description(phenotype_full_code):\n",
    "    traits = get_trait_objs(phenotype_full_code)\n",
    "\n",
    "    desc = traits[0].description\n",
    "    if desc in SHORT_TRAIT_NAMES:\n",
    "        return SHORT_TRAIT_NAMES[desc]\n",
    "\n",
    "    return desc\n",
    "\n",
    "\n",
    "def get_trait_n(phenotype_full_code):\n",
    "    traits = get_trait_objs(phenotype_full_code)\n",
    "\n",
    "    return traits[0].n\n",
    "\n",
    "\n",
    "def get_trait_n_cases(phenotype_full_code):\n",
    "    traits = get_trait_objs(phenotype_full_code)\n",
    "\n",
    "    return traits[0].n_cases\n",
    "\n",
    "\n",
    "def num_to_int_str(num):\n",
    "    if pd.isnull(num):\n",
    "        return \"\"\n",
    "\n",
    "    return f\"{num:,.0f}\"\n",
    "\n",
    "\n",
    "def get_part_clust(row):\n",
    "    return f\"{row.part_k} / {row.cluster_id}\""
   ]
  },
  {
   "cell_type": "code",
   "execution_count": 27,
   "id": "established-venture",
   "metadata": {},
   "outputs": [],
   "source": [
    "lv_assocs = phenomexcan_lv_trait_assocs[\n",
    "    (phenomexcan_lv_trait_assocs[\"lv\"] == LV_NAME)\n",
    "    & (phenomexcan_lv_trait_assocs[\"fdr\"] < 0.05)\n",
    "].sort_values(\"fdr\")"
   ]
  },
  {
   "cell_type": "code",
   "execution_count": 28,
   "id": "absent-address",
   "metadata": {},
   "outputs": [
    {
     "data": {
      "text/html": [
       "<div>\n",
       "<style scoped>\n",
       "    .dataframe tbody tr th:only-of-type {\n",
       "        vertical-align: middle;\n",
       "    }\n",
       "\n",
       "    .dataframe tbody tr th {\n",
       "        vertical-align: top;\n",
       "    }\n",
       "\n",
       "    .dataframe thead th {\n",
       "        text-align: right;\n",
       "    }\n",
       "</style>\n",
       "<table border=\"1\" class=\"dataframe\">\n",
       "  <thead>\n",
       "    <tr style=\"text-align: right;\">\n",
       "      <th></th>\n",
       "      <th>part_k</th>\n",
       "      <th>cluster_id</th>\n",
       "      <th>phenotype</th>\n",
       "      <th>lv</th>\n",
       "      <th>coef</th>\n",
       "      <th>pvalue</th>\n",
       "      <th>pvalue_twosided</th>\n",
       "      <th>fdr</th>\n",
       "    </tr>\n",
       "  </thead>\n",
       "  <tbody>\n",
       "    <tr>\n",
       "      <th>5662</th>\n",
       "      <td>29</td>\n",
       "      <td>2</td>\n",
       "      <td>30270_raw-Mean_sphered_cell_volume</td>\n",
       "      <td>LV928</td>\n",
       "      <td>0.193080</td>\n",
       "      <td>4.152256e-49</td>\n",
       "      <td>8.304513e-49</td>\n",
       "      <td>2.182577e-46</td>\n",
       "    </tr>\n",
       "    <tr>\n",
       "      <th>5628</th>\n",
       "      <td>29</td>\n",
       "      <td>2</td>\n",
       "      <td>30260_raw-Mean_reticulocyte_volume</td>\n",
       "      <td>LV928</td>\n",
       "      <td>0.185119</td>\n",
       "      <td>8.467597e-47</td>\n",
       "      <td>1.693519e-46</td>\n",
       "      <td>4.079971e-44</td>\n",
       "    </tr>\n",
       "    <tr>\n",
       "      <th>5461</th>\n",
       "      <td>29</td>\n",
       "      <td>2</td>\n",
       "      <td>30040_raw-Mean_corpuscular_volume</td>\n",
       "      <td>LV928</td>\n",
       "      <td>0.156178</td>\n",
       "      <td>2.312161e-35</td>\n",
       "      <td>4.624323e-35</td>\n",
       "      <td>5.570382e-33</td>\n",
       "    </tr>\n",
       "    <tr>\n",
       "      <th>5504</th>\n",
       "      <td>29</td>\n",
       "      <td>23</td>\n",
       "      <td>30070_raw-Red_blood_cell_erythrocyte_distribution_width</td>\n",
       "      <td>LV928</td>\n",
       "      <td>0.149593</td>\n",
       "      <td>3.425595e-33</td>\n",
       "      <td>6.851189e-33</td>\n",
       "      <td>7.617996e-31</td>\n",
       "    </tr>\n",
       "    <tr>\n",
       "      <th>5587</th>\n",
       "      <td>29</td>\n",
       "      <td>4</td>\n",
       "      <td>30240_raw-Reticulocyte_percentage</td>\n",
       "      <td>LV928</td>\n",
       "      <td>0.155431</td>\n",
       "      <td>1.247071e-31</td>\n",
       "      <td>2.494142e-31</td>\n",
       "      <td>2.120755e-29</td>\n",
       "    </tr>\n",
       "    <tr>\n",
       "      <th>5609</th>\n",
       "      <td>29</td>\n",
       "      <td>4</td>\n",
       "      <td>30250_raw-Reticulocyte_count</td>\n",
       "      <td>LV928</td>\n",
       "      <td>0.153519</td>\n",
       "      <td>4.519958e-30</td>\n",
       "      <td>9.039915e-30</td>\n",
       "      <td>6.877472e-28</td>\n",
       "    </tr>\n",
       "    <tr>\n",
       "      <th>5767</th>\n",
       "      <td>29</td>\n",
       "      <td>4</td>\n",
       "      <td>reticulocyte count</td>\n",
       "      <td>LV928</td>\n",
       "      <td>0.140330</td>\n",
       "      <td>9.537732e-26</td>\n",
       "      <td>1.907546e-25</td>\n",
       "      <td>1.060522e-23</td>\n",
       "    </tr>\n",
       "    <tr>\n",
       "      <th>5484</th>\n",
       "      <td>29</td>\n",
       "      <td>2</td>\n",
       "      <td>30050_raw-Mean_corpuscular_haemoglobin</td>\n",
       "      <td>LV928</td>\n",
       "      <td>0.128717</td>\n",
       "      <td>7.780939e-25</td>\n",
       "      <td>1.556188e-24</td>\n",
       "      <td>7.892875e-23</td>\n",
       "    </tr>\n",
       "    <tr>\n",
       "      <th>5723</th>\n",
       "      <td>29</td>\n",
       "      <td>4</td>\n",
       "      <td>30300_raw-High_light_scatter_reticulocyte_count</td>\n",
       "      <td>LV928</td>\n",
       "      <td>0.132467</td>\n",
       "      <td>3.427957e-23</td>\n",
       "      <td>6.855915e-23</td>\n",
       "      <td>3.049300e-21</td>\n",
       "    </tr>\n",
       "    <tr>\n",
       "      <th>5670</th>\n",
       "      <td>29</td>\n",
       "      <td>4</td>\n",
       "      <td>30280_raw-Immature_reticulocyte_fraction</td>\n",
       "      <td>LV928</td>\n",
       "      <td>0.126199</td>\n",
       "      <td>6.014984e-23</td>\n",
       "      <td>1.202997e-22</td>\n",
       "      <td>5.040383e-21</td>\n",
       "    </tr>\n",
       "    <tr>\n",
       "      <th>5700</th>\n",
       "      <td>29</td>\n",
       "      <td>4</td>\n",
       "      <td>30290_raw-High_light_scatter_reticulocyte_percentage</td>\n",
       "      <td>LV928</td>\n",
       "      <td>0.115097</td>\n",
       "      <td>2.390718e-18</td>\n",
       "      <td>4.781435e-18</td>\n",
       "      <td>1.570810e-16</td>\n",
       "    </tr>\n",
       "    <tr>\n",
       "      <th>5386</th>\n",
       "      <td>29</td>\n",
       "      <td>5</td>\n",
       "      <td>30010_raw-Red_blood_cell_erythrocyte_count</td>\n",
       "      <td>LV928</td>\n",
       "      <td>0.109940</td>\n",
       "      <td>3.899674e-18</td>\n",
       "      <td>7.799348e-18</td>\n",
       "      <td>2.533474e-16</td>\n",
       "    </tr>\n",
       "    <tr>\n",
       "      <th>5729</th>\n",
       "      <td>29</td>\n",
       "      <td>5</td>\n",
       "      <td>erythrocyte count</td>\n",
       "      <td>LV928</td>\n",
       "      <td>0.081998</td>\n",
       "      <td>9.092878e-11</td>\n",
       "      <td>1.818576e-10</td>\n",
       "      <td>2.615673e-09</td>\n",
       "    </tr>\n",
       "    <tr>\n",
       "      <th>5423</th>\n",
       "      <td>29</td>\n",
       "      <td>5</td>\n",
       "      <td>30020_raw-Haemoglobin_concentration</td>\n",
       "      <td>LV928</td>\n",
       "      <td>0.046827</td>\n",
       "      <td>1.403476e-04</td>\n",
       "      <td>2.806952e-04</td>\n",
       "      <td>1.246528e-03</td>\n",
       "    </tr>\n",
       "    <tr>\n",
       "      <th>5427</th>\n",
       "      <td>29</td>\n",
       "      <td>5</td>\n",
       "      <td>30030_raw-Haematocrit_percentage</td>\n",
       "      <td>LV928</td>\n",
       "      <td>0.042069</td>\n",
       "      <td>5.106621e-04</td>\n",
       "      <td>1.021324e-03</td>\n",
       "      <td>3.766133e-03</td>\n",
       "    </tr>\n",
       "  </tbody>\n",
       "</table>\n",
       "</div>"
      ],
      "text/plain": [
       "      part_k  cluster_id  \\\n",
       "5662      29           2   \n",
       "5628      29           2   \n",
       "5461      29           2   \n",
       "5504      29          23   \n",
       "5587      29           4   \n",
       "5609      29           4   \n",
       "5767      29           4   \n",
       "5484      29           2   \n",
       "5723      29           4   \n",
       "5670      29           4   \n",
       "5700      29           4   \n",
       "5386      29           5   \n",
       "5729      29           5   \n",
       "5423      29           5   \n",
       "5427      29           5   \n",
       "\n",
       "                                                    phenotype     lv  \\\n",
       "5662                       30270_raw-Mean_sphered_cell_volume  LV928   \n",
       "5628                       30260_raw-Mean_reticulocyte_volume  LV928   \n",
       "5461                        30040_raw-Mean_corpuscular_volume  LV928   \n",
       "5504  30070_raw-Red_blood_cell_erythrocyte_distribution_width  LV928   \n",
       "5587                        30240_raw-Reticulocyte_percentage  LV928   \n",
       "5609                             30250_raw-Reticulocyte_count  LV928   \n",
       "5767                                       reticulocyte count  LV928   \n",
       "5484                   30050_raw-Mean_corpuscular_haemoglobin  LV928   \n",
       "5723          30300_raw-High_light_scatter_reticulocyte_count  LV928   \n",
       "5670                 30280_raw-Immature_reticulocyte_fraction  LV928   \n",
       "5700     30290_raw-High_light_scatter_reticulocyte_percentage  LV928   \n",
       "5386               30010_raw-Red_blood_cell_erythrocyte_count  LV928   \n",
       "5729                                        erythrocyte count  LV928   \n",
       "5423                      30020_raw-Haemoglobin_concentration  LV928   \n",
       "5427                         30030_raw-Haematocrit_percentage  LV928   \n",
       "\n",
       "          coef        pvalue  pvalue_twosided           fdr  \n",
       "5662  0.193080  4.152256e-49     8.304513e-49  2.182577e-46  \n",
       "5628  0.185119  8.467597e-47     1.693519e-46  4.079971e-44  \n",
       "5461  0.156178  2.312161e-35     4.624323e-35  5.570382e-33  \n",
       "5504  0.149593  3.425595e-33     6.851189e-33  7.617996e-31  \n",
       "5587  0.155431  1.247071e-31     2.494142e-31  2.120755e-29  \n",
       "5609  0.153519  4.519958e-30     9.039915e-30  6.877472e-28  \n",
       "5767  0.140330  9.537732e-26     1.907546e-25  1.060522e-23  \n",
       "5484  0.128717  7.780939e-25     1.556188e-24  7.892875e-23  \n",
       "5723  0.132467  3.427957e-23     6.855915e-23  3.049300e-21  \n",
       "5670  0.126199  6.014984e-23     1.202997e-22  5.040383e-21  \n",
       "5700  0.115097  2.390718e-18     4.781435e-18  1.570810e-16  \n",
       "5386  0.109940  3.899674e-18     7.799348e-18  2.533474e-16  \n",
       "5729  0.081998  9.092878e-11     1.818576e-10  2.615673e-09  \n",
       "5423  0.046827  1.403476e-04     2.806952e-04  1.246528e-03  \n",
       "5427  0.042069  5.106621e-04     1.021324e-03  3.766133e-03  "
      ]
     },
     "metadata": {},
     "output_type": "display_data"
    }
   ],
   "source": [
    "with pd.option_context(\n",
    "    \"display.max_rows\", None, \"display.max_columns\", None, \"display.max_colwidth\", None\n",
    "):\n",
    "    display(lv_assocs)"
   ]
  },
  {
   "cell_type": "code",
   "execution_count": 29,
   "id": "explicit-empire",
   "metadata": {},
   "outputs": [],
   "source": [
    "lv_assocs = lv_assocs.assign(\n",
    "    phenotype_desc=lv_assocs[\"phenotype\"].apply(get_trait_description)\n",
    ")"
   ]
  },
  {
   "cell_type": "code",
   "execution_count": 30,
   "id": "adequate-indian",
   "metadata": {},
   "outputs": [],
   "source": [
    "lv_assocs = lv_assocs.assign(n=lv_assocs[\"phenotype\"].apply(get_trait_n))"
   ]
  },
  {
   "cell_type": "code",
   "execution_count": 31,
   "id": "assisted-delivery",
   "metadata": {},
   "outputs": [],
   "source": [
    "lv_assocs = lv_assocs.assign(n_cases=lv_assocs[\"phenotype\"].apply(get_trait_n_cases))"
   ]
  },
  {
   "cell_type": "code",
   "execution_count": 32,
   "id": "bored-sally",
   "metadata": {},
   "outputs": [],
   "source": [
    "lv_assocs = lv_assocs.assign(coef=lv_assocs[\"coef\"].apply(lambda x: f\"{x:.3f}\"))"
   ]
  },
  {
   "cell_type": "code",
   "execution_count": 33,
   "id": "compatible-overhead",
   "metadata": {},
   "outputs": [],
   "source": [
    "lv_assocs = lv_assocs.assign(\n",
    "    fdr=lv_assocs[\"fdr\"].apply(lambda x: f\"{x:.2e}\".replace(\"-\", \"&#8209;\"))\n",
    ")"
   ]
  },
  {
   "cell_type": "code",
   "execution_count": 34,
   "id": "valid-product",
   "metadata": {},
   "outputs": [],
   "source": [
    "lv_assocs = lv_assocs.assign(n=lv_assocs[\"n\"].apply(num_to_int_str))"
   ]
  },
  {
   "cell_type": "code",
   "execution_count": 35,
   "id": "streaming-analyst",
   "metadata": {},
   "outputs": [],
   "source": [
    "lv_assocs = lv_assocs.assign(n_cases=lv_assocs[\"n_cases\"].apply(num_to_int_str))"
   ]
  },
  {
   "cell_type": "code",
   "execution_count": 36,
   "id": "tropical-boutique",
   "metadata": {},
   "outputs": [],
   "source": [
    "lv_assocs = lv_assocs.assign(part_clust=lv_assocs.apply(get_part_clust, axis=1))"
   ]
  },
  {
   "cell_type": "code",
   "execution_count": 37,
   "id": "imperial-rugby",
   "metadata": {},
   "outputs": [],
   "source": [
    "lv_assocs = lv_assocs.drop(columns=[\"phenotype\"])"
   ]
  },
  {
   "cell_type": "code",
   "execution_count": 38,
   "id": "ordinary-speaking",
   "metadata": {},
   "outputs": [
    {
     "data": {
      "text/plain": [
       "(15, 11)"
      ]
     },
     "execution_count": 38,
     "metadata": {},
     "output_type": "execute_result"
    }
   ],
   "source": [
    "lv_assocs.shape"
   ]
  },
  {
   "cell_type": "code",
   "execution_count": 39,
   "id": "average-details",
   "metadata": {},
   "outputs": [],
   "source": [
    "lv_assocs = lv_assocs[[\"phenotype_desc\", \"n\", \"n_cases\", \"part_clust\", \"fdr\"]]"
   ]
  },
  {
   "cell_type": "code",
   "execution_count": 40,
   "id": "recent-harrison",
   "metadata": {},
   "outputs": [],
   "source": [
    "lv_assocs = lv_assocs.rename(\n",
    "    columns={\n",
    "        \"part_clust\": \"Partition / cluster\",\n",
    "        \"lv\": \"Latent variable (LV)\",\n",
    "        #         \"coef\": r\"$\\beta$\",\n",
    "        \"fdr\": \"FDR\",\n",
    "        \"phenotype_desc\": \"Trait description\",\n",
    "        \"n\": \"Sample size\",\n",
    "        \"n_cases\": \"Cases\",\n",
    "    }\n",
    ")"
   ]
  },
  {
   "cell_type": "code",
   "execution_count": 41,
   "id": "hungarian-interview",
   "metadata": {},
   "outputs": [
    {
     "data": {
      "text/html": [
       "<div>\n",
       "<style scoped>\n",
       "    .dataframe tbody tr th:only-of-type {\n",
       "        vertical-align: middle;\n",
       "    }\n",
       "\n",
       "    .dataframe tbody tr th {\n",
       "        vertical-align: top;\n",
       "    }\n",
       "\n",
       "    .dataframe thead th {\n",
       "        text-align: right;\n",
       "    }\n",
       "</style>\n",
       "<table border=\"1\" class=\"dataframe\">\n",
       "  <thead>\n",
       "    <tr style=\"text-align: right;\">\n",
       "      <th></th>\n",
       "      <th>Trait description</th>\n",
       "      <th>Sample size</th>\n",
       "      <th>Cases</th>\n",
       "      <th>Partition / cluster</th>\n",
       "      <th>FDR</th>\n",
       "    </tr>\n",
       "  </thead>\n",
       "  <tbody>\n",
       "    <tr>\n",
       "      <th>5662</th>\n",
       "      <td>Mean sphered cell volume</td>\n",
       "      <td>344,729</td>\n",
       "      <td></td>\n",
       "      <td>29 / 2</td>\n",
       "      <td>2.18e&amp;#8209;46</td>\n",
       "    </tr>\n",
       "    <tr>\n",
       "      <th>5628</th>\n",
       "      <td>Mean reticulocyte volume</td>\n",
       "      <td>344,728</td>\n",
       "      <td></td>\n",
       "      <td>29 / 2</td>\n",
       "      <td>4.08e&amp;#8209;44</td>\n",
       "    </tr>\n",
       "    <tr>\n",
       "      <th>5461</th>\n",
       "      <td>Mean corpuscular volume</td>\n",
       "      <td>350,473</td>\n",
       "      <td></td>\n",
       "      <td>29 / 2</td>\n",
       "      <td>5.57e&amp;#8209;33</td>\n",
       "    </tr>\n",
       "    <tr>\n",
       "      <th>5504</th>\n",
       "      <td>Red blood cell (erythrocyte) distribution width</td>\n",
       "      <td>350,473</td>\n",
       "      <td></td>\n",
       "      <td>29 / 23</td>\n",
       "      <td>7.62e&amp;#8209;31</td>\n",
       "    </tr>\n",
       "    <tr>\n",
       "      <th>5587</th>\n",
       "      <td>Reticulocyte percentage</td>\n",
       "      <td>344,728</td>\n",
       "      <td></td>\n",
       "      <td>29 / 4</td>\n",
       "      <td>2.12e&amp;#8209;29</td>\n",
       "    </tr>\n",
       "    <tr>\n",
       "      <th>5609</th>\n",
       "      <td>Reticulocyte count</td>\n",
       "      <td>344,729</td>\n",
       "      <td></td>\n",
       "      <td>29 / 4</td>\n",
       "      <td>6.88e&amp;#8209;28</td>\n",
       "    </tr>\n",
       "    <tr>\n",
       "      <th>5767</th>\n",
       "      <td>Reticulocyte Count</td>\n",
       "      <td>173,480</td>\n",
       "      <td></td>\n",
       "      <td>29 / 4</td>\n",
       "      <td>1.06e&amp;#8209;23</td>\n",
       "    </tr>\n",
       "    <tr>\n",
       "      <th>5484</th>\n",
       "      <td>Mean corpuscular haemoglobin</td>\n",
       "      <td>350,472</td>\n",
       "      <td></td>\n",
       "      <td>29 / 2</td>\n",
       "      <td>7.89e&amp;#8209;23</td>\n",
       "    </tr>\n",
       "    <tr>\n",
       "      <th>5723</th>\n",
       "      <td>High light scatter reticulocyte count</td>\n",
       "      <td>344,729</td>\n",
       "      <td></td>\n",
       "      <td>29 / 4</td>\n",
       "      <td>3.05e&amp;#8209;21</td>\n",
       "    </tr>\n",
       "    <tr>\n",
       "      <th>5670</th>\n",
       "      <td>Immature reticulocyte fraction</td>\n",
       "      <td>344,728</td>\n",
       "      <td></td>\n",
       "      <td>29 / 4</td>\n",
       "      <td>5.04e&amp;#8209;21</td>\n",
       "    </tr>\n",
       "    <tr>\n",
       "      <th>5700</th>\n",
       "      <td>High light scatter reticulocyte percentage</td>\n",
       "      <td>344,729</td>\n",
       "      <td></td>\n",
       "      <td>29 / 4</td>\n",
       "      <td>1.57e&amp;#8209;16</td>\n",
       "    </tr>\n",
       "    <tr>\n",
       "      <th>5386</th>\n",
       "      <td>Red blood cell (erythrocyte) count</td>\n",
       "      <td>350,475</td>\n",
       "      <td></td>\n",
       "      <td>29 / 5</td>\n",
       "      <td>2.53e&amp;#8209;16</td>\n",
       "    </tr>\n",
       "    <tr>\n",
       "      <th>5729</th>\n",
       "      <td>Red Blood Cell Count</td>\n",
       "      <td>173,480</td>\n",
       "      <td></td>\n",
       "      <td>29 / 5</td>\n",
       "      <td>2.62e&amp;#8209;09</td>\n",
       "    </tr>\n",
       "    <tr>\n",
       "      <th>5423</th>\n",
       "      <td>Haemoglobin concentration</td>\n",
       "      <td>350,474</td>\n",
       "      <td></td>\n",
       "      <td>29 / 5</td>\n",
       "      <td>1.25e&amp;#8209;03</td>\n",
       "    </tr>\n",
       "    <tr>\n",
       "      <th>5427</th>\n",
       "      <td>Haematocrit percentage</td>\n",
       "      <td>350,475</td>\n",
       "      <td></td>\n",
       "      <td>29 / 5</td>\n",
       "      <td>3.77e&amp;#8209;03</td>\n",
       "    </tr>\n",
       "  </tbody>\n",
       "</table>\n",
       "</div>"
      ],
      "text/plain": [
       "                                    Trait description Sample size Cases  \\\n",
       "5662                         Mean sphered cell volume     344,729         \n",
       "5628                         Mean reticulocyte volume     344,728         \n",
       "5461                          Mean corpuscular volume     350,473         \n",
       "5504  Red blood cell (erythrocyte) distribution width     350,473         \n",
       "5587                          Reticulocyte percentage     344,728         \n",
       "5609                               Reticulocyte count     344,729         \n",
       "5767                               Reticulocyte Count     173,480         \n",
       "5484                     Mean corpuscular haemoglobin     350,472         \n",
       "5723            High light scatter reticulocyte count     344,729         \n",
       "5670                   Immature reticulocyte fraction     344,728         \n",
       "5700       High light scatter reticulocyte percentage     344,729         \n",
       "5386               Red blood cell (erythrocyte) count     350,475         \n",
       "5729                             Red Blood Cell Count     173,480         \n",
       "5423                        Haemoglobin concentration     350,474         \n",
       "5427                           Haematocrit percentage     350,475         \n",
       "\n",
       "     Partition / cluster             FDR  \n",
       "5662              29 / 2  2.18e&#8209;46  \n",
       "5628              29 / 2  4.08e&#8209;44  \n",
       "5461              29 / 2  5.57e&#8209;33  \n",
       "5504             29 / 23  7.62e&#8209;31  \n",
       "5587              29 / 4  2.12e&#8209;29  \n",
       "5609              29 / 4  6.88e&#8209;28  \n",
       "5767              29 / 4  1.06e&#8209;23  \n",
       "5484              29 / 2  7.89e&#8209;23  \n",
       "5723              29 / 4  3.05e&#8209;21  \n",
       "5670              29 / 4  5.04e&#8209;21  \n",
       "5700              29 / 4  1.57e&#8209;16  \n",
       "5386              29 / 5  2.53e&#8209;16  \n",
       "5729              29 / 5  2.62e&#8209;09  \n",
       "5423              29 / 5  1.25e&#8209;03  \n",
       "5427              29 / 5  3.77e&#8209;03  "
      ]
     },
     "metadata": {},
     "output_type": "display_data"
    }
   ],
   "source": [
    "with pd.option_context(\n",
    "    \"display.max_rows\", None, \"display.max_columns\", None, \"display.max_colwidth\", None\n",
    "):\n",
    "    display(lv_assocs)"
   ]
  },
  {
   "cell_type": "markdown",
   "id": "brief-maldives",
   "metadata": {},
   "source": [
    "### Fill empty"
   ]
  },
  {
   "cell_type": "code",
   "execution_count": 42,
   "id": "related-montana",
   "metadata": {},
   "outputs": [],
   "source": [
    "if lv_assocs.shape[0] == 0:\n",
    "    lv_assocs.loc[0, \"Trait description\"] = \"No significant associations\"\n",
    "    lv_assocs = lv_assocs.fillna(\"\")"
   ]
  },
  {
   "cell_type": "markdown",
   "id": "exempt-davis",
   "metadata": {},
   "source": [
    "### Save"
   ]
  },
  {
   "cell_type": "code",
   "execution_count": 43,
   "id": "spanish-detective",
   "metadata": {},
   "outputs": [
    {
     "data": {
      "text/plain": [
       "'<!-- LV928:phenomexcan_traits_assocs:start -->'"
      ]
     },
     "metadata": {},
     "output_type": "display_data"
    },
    {
     "data": {
      "text/plain": [
       "'<!-- LV928:phenomexcan_traits_assocs:end -->'"
      ]
     },
     "metadata": {},
     "output_type": "display_data"
    }
   ],
   "source": [
    "# start\n",
    "lv_file_mark_start = LV_FILE_MARK_TEMPLATE.format(\n",
    "    result_set=result_set, lv=LV_NAME, position=\"start\"\n",
    ")\n",
    "display(lv_file_mark_start)\n",
    "\n",
    "# end\n",
    "lv_file_mark_end = LV_FILE_MARK_TEMPLATE.format(\n",
    "    result_set=result_set, lv=LV_NAME, position=\"end\"\n",
    ")\n",
    "display(lv_file_mark_end)"
   ]
  },
  {
   "cell_type": "code",
   "execution_count": 44,
   "id": "hindu-utility",
   "metadata": {},
   "outputs": [],
   "source": [
    "new_content = lv_assocs.to_markdown(index=False, disable_numparse=True)"
   ]
  },
  {
   "cell_type": "code",
   "execution_count": 45,
   "id": "driving-stupid",
   "metadata": {},
   "outputs": [
    {
     "data": {
      "text/plain": [
       "'Table: Significant trait associations of LV928 in PhenomeXcan. {#tbl:sup:phenomexcan_assocs:lv928}'"
      ]
     },
     "metadata": {},
     "output_type": "display_data"
    }
   ],
   "source": [
    "# add table caption\n",
    "table_caption = TABLE_CAPTION.format(\n",
    "    lv_name=LV_NAME,\n",
    "    result_set_name=RESULT_SET_NAMES[result_set],\n",
    "    table_id=\"{\"\n",
    "    + TABLE_CAPTION_ID.format(result_set=result_set, lv_name_lower_case=LV_NAME.lower())\n",
    "    + \"}\",\n",
    ")\n",
    "display(table_caption)"
   ]
  },
  {
   "cell_type": "code",
   "execution_count": 46,
   "id": "looking-guest",
   "metadata": {},
   "outputs": [],
   "source": [
    "new_content += \"\\n\\n\" + table_caption"
   ]
  },
  {
   "cell_type": "code",
   "execution_count": 47,
   "id": "japanese-aurora",
   "metadata": {},
   "outputs": [],
   "source": [
    "full_new_content = (\n",
    "    lv_file_mark_start + \"\\n\" + new_content.strip() + \"\\n\" + lv_file_mark_end\n",
    ")"
   ]
  },
  {
   "cell_type": "code",
   "execution_count": 48,
   "id": "completed-administration",
   "metadata": {},
   "outputs": [],
   "source": [
    "with open(OUTPUT_FILE_PATH, \"r\", encoding=\"utf8\") as f:\n",
    "    file_content = f.read()"
   ]
  },
  {
   "cell_type": "code",
   "execution_count": 49,
   "id": "auburn-hobby",
   "metadata": {},
   "outputs": [],
   "source": [
    "new_file_content = re.sub(\n",
    "    lv_file_mark_start + \".*?\" + lv_file_mark_end,\n",
    "    full_new_content,\n",
    "    file_content,\n",
    "    flags=re.DOTALL,\n",
    ")"
   ]
  },
  {
   "cell_type": "code",
   "execution_count": 50,
   "id": "intense-bangladesh",
   "metadata": {},
   "outputs": [],
   "source": [
    "with open(OUTPUT_FILE_PATH, \"w\", encoding=\"utf8\") as f:\n",
    "    f.write(new_file_content)  # .replace(\"\\beta\", r\"\\beta\"))"
   ]
  },
  {
   "cell_type": "markdown",
   "id": "competitive-kidney",
   "metadata": {},
   "source": [
    "## eMERGE"
   ]
  },
  {
   "cell_type": "code",
   "execution_count": 51,
   "id": "alpha-routine",
   "metadata": {},
   "outputs": [],
   "source": [
    "result_set = \"emerge\""
   ]
  },
  {
   "cell_type": "code",
   "execution_count": 52,
   "id": "major-valve",
   "metadata": {},
   "outputs": [],
   "source": [
    "lv_assocs = emerge_lv_trait_assocs[\n",
    "    (emerge_lv_trait_assocs[\"lv\"] == LV_NAME) & (emerge_lv_trait_assocs[\"fdr\"] < 0.05)\n",
    "].sort_values(\"fdr\")"
   ]
  },
  {
   "cell_type": "code",
   "execution_count": 53,
   "id": "iraqi-vulnerability",
   "metadata": {},
   "outputs": [
    {
     "data": {
      "text/html": [
       "<div>\n",
       "<style scoped>\n",
       "    .dataframe tbody tr th:only-of-type {\n",
       "        vertical-align: middle;\n",
       "    }\n",
       "\n",
       "    .dataframe tbody tr th {\n",
       "        vertical-align: top;\n",
       "    }\n",
       "\n",
       "    .dataframe thead th {\n",
       "        text-align: right;\n",
       "    }\n",
       "</style>\n",
       "<table border=\"1\" class=\"dataframe\">\n",
       "  <thead>\n",
       "    <tr style=\"text-align: right;\">\n",
       "      <th></th>\n",
       "      <th>phenotype</th>\n",
       "      <th>lv</th>\n",
       "      <th>coef</th>\n",
       "      <th>pvalue</th>\n",
       "      <th>pvalue_twosided</th>\n",
       "      <th>fdr</th>\n",
       "    </tr>\n",
       "  </thead>\n",
       "  <tbody>\n",
       "    <tr>\n",
       "      <th>928</th>\n",
       "      <td>250.24</td>\n",
       "      <td>LV928</td>\n",
       "      <td>0.046583</td>\n",
       "      <td>0.000097</td>\n",
       "      <td>0.000195</td>\n",
       "      <td>0.014450</td>\n",
       "    </tr>\n",
       "    <tr>\n",
       "      <th>486</th>\n",
       "      <td>195</td>\n",
       "      <td>LV928</td>\n",
       "      <td>0.044424</td>\n",
       "      <td>0.000207</td>\n",
       "      <td>0.000413</td>\n",
       "      <td>0.024196</td>\n",
       "    </tr>\n",
       "    <tr>\n",
       "      <th>5381</th>\n",
       "      <td>514.2</td>\n",
       "      <td>LV928</td>\n",
       "      <td>0.040849</td>\n",
       "      <td>0.000632</td>\n",
       "      <td>0.001264</td>\n",
       "      <td>0.046504</td>\n",
       "    </tr>\n",
       "  </tbody>\n",
       "</table>\n",
       "</div>"
      ],
      "text/plain": [
       "     phenotype     lv      coef    pvalue  pvalue_twosided       fdr\n",
       "928     250.24  LV928  0.046583  0.000097         0.000195  0.014450\n",
       "486        195  LV928  0.044424  0.000207         0.000413  0.024196\n",
       "5381     514.2  LV928  0.040849  0.000632         0.001264  0.046504"
      ]
     },
     "metadata": {},
     "output_type": "display_data"
    }
   ],
   "source": [
    "with pd.option_context(\n",
    "    \"display.max_rows\", None, \"display.max_columns\", None, \"display.max_colwidth\", None\n",
    "):\n",
    "    display(lv_assocs)"
   ]
  },
  {
   "cell_type": "code",
   "execution_count": 54,
   "id": "vulnerable-cooper",
   "metadata": {},
   "outputs": [],
   "source": [
    "lv_assocs = lv_assocs.assign(\n",
    "    phenotype_desc=lv_assocs[\"phenotype\"].apply(\n",
    "        lambda x: emerge_traits_info.loc[x, \"phenotype\"]\n",
    "    )\n",
    ")"
   ]
  },
  {
   "cell_type": "code",
   "execution_count": 55,
   "id": "legendary-elite",
   "metadata": {},
   "outputs": [],
   "source": [
    "lv_assocs = lv_assocs.assign(\n",
    "    n=lv_assocs[\"phenotype\"].apply(\n",
    "        lambda x: emerge_traits_info.loc[x, [\"eur_n_cases\", \"eur_n_controls\"]].sum()\n",
    "    )\n",
    ")"
   ]
  },
  {
   "cell_type": "code",
   "execution_count": 56,
   "id": "typical-celebration",
   "metadata": {},
   "outputs": [],
   "source": [
    "lv_assocs = lv_assocs.assign(\n",
    "    n_cases=lv_assocs[\"phenotype\"].apply(\n",
    "        lambda x: emerge_traits_info.loc[x, \"eur_n_cases\"]\n",
    "    )\n",
    ")"
   ]
  },
  {
   "cell_type": "code",
   "execution_count": 57,
   "id": "small-nerve",
   "metadata": {},
   "outputs": [],
   "source": [
    "lv_assocs = lv_assocs.assign(coef=lv_assocs[\"coef\"].apply(lambda x: f\"{x:.3f}\"))"
   ]
  },
  {
   "cell_type": "code",
   "execution_count": 58,
   "id": "classical-boston",
   "metadata": {},
   "outputs": [],
   "source": [
    "lv_assocs = lv_assocs.assign(\n",
    "    fdr=lv_assocs[\"fdr\"].apply(lambda x: f\"{x:.2e}\".replace(\"-\", \"&#8209;\"))\n",
    ")"
   ]
  },
  {
   "cell_type": "code",
   "execution_count": 59,
   "id": "adult-arctic",
   "metadata": {},
   "outputs": [],
   "source": [
    "lv_assocs = lv_assocs.assign(n=lv_assocs[\"n\"].apply(num_to_int_str))"
   ]
  },
  {
   "cell_type": "code",
   "execution_count": 60,
   "id": "proprietary-thursday",
   "metadata": {},
   "outputs": [],
   "source": [
    "lv_assocs = lv_assocs.assign(n_cases=lv_assocs[\"n_cases\"].apply(num_to_int_str))"
   ]
  },
  {
   "cell_type": "code",
   "execution_count": 61,
   "id": "gentle-finish",
   "metadata": {},
   "outputs": [],
   "source": [
    "lv_assocs = lv_assocs.rename(columns={\"phenotype\": \"phecode\"})"
   ]
  },
  {
   "cell_type": "code",
   "execution_count": 62,
   "id": "rough-equality",
   "metadata": {},
   "outputs": [
    {
     "data": {
      "text/plain": [
       "(3, 9)"
      ]
     },
     "execution_count": 62,
     "metadata": {},
     "output_type": "execute_result"
    }
   ],
   "source": [
    "lv_assocs.shape"
   ]
  },
  {
   "cell_type": "code",
   "execution_count": 63,
   "id": "responsible-austin",
   "metadata": {},
   "outputs": [],
   "source": [
    "lv_assocs = lv_assocs[[\"phecode\", \"phenotype_desc\", \"n\", \"n_cases\", \"fdr\"]]"
   ]
  },
  {
   "cell_type": "code",
   "execution_count": 64,
   "id": "assisted-despite",
   "metadata": {},
   "outputs": [],
   "source": [
    "lv_assocs = lv_assocs.rename(\n",
    "    columns={\n",
    "        \"lv\": \"Latent variable (LV)\",\n",
    "        #         \"coef\": r\"$\\beta$\",\n",
    "        \"fdr\": \"FDR\",\n",
    "        \"phecode\": \"Phecode\",\n",
    "        \"phenotype_desc\": \"Trait description\",\n",
    "        \"n\": \"Sample size\",\n",
    "        \"n_cases\": \"Cases\",\n",
    "    }\n",
    ")"
   ]
  },
  {
   "cell_type": "code",
   "execution_count": 65,
   "id": "buried-theater",
   "metadata": {},
   "outputs": [
    {
     "data": {
      "text/html": [
       "<div>\n",
       "<style scoped>\n",
       "    .dataframe tbody tr th:only-of-type {\n",
       "        vertical-align: middle;\n",
       "    }\n",
       "\n",
       "    .dataframe tbody tr th {\n",
       "        vertical-align: top;\n",
       "    }\n",
       "\n",
       "    .dataframe thead th {\n",
       "        text-align: right;\n",
       "    }\n",
       "</style>\n",
       "<table border=\"1\" class=\"dataframe\">\n",
       "  <thead>\n",
       "    <tr style=\"text-align: right;\">\n",
       "      <th></th>\n",
       "      <th>Phecode</th>\n",
       "      <th>Trait description</th>\n",
       "      <th>Sample size</th>\n",
       "      <th>Cases</th>\n",
       "      <th>FDR</th>\n",
       "    </tr>\n",
       "  </thead>\n",
       "  <tbody>\n",
       "    <tr>\n",
       "      <th>928</th>\n",
       "      <td>250.24</td>\n",
       "      <td>Type 2 diabetes with neurological manifestations</td>\n",
       "      <td>43,236</td>\n",
       "      <td>2,963</td>\n",
       "      <td>1.44e&amp;#8209;02</td>\n",
       "    </tr>\n",
       "    <tr>\n",
       "      <th>486</th>\n",
       "      <td>195</td>\n",
       "      <td>Cancer, suspected or other</td>\n",
       "      <td>50,040</td>\n",
       "      <td>2,250</td>\n",
       "      <td>2.42e&amp;#8209;02</td>\n",
       "    </tr>\n",
       "    <tr>\n",
       "      <th>5381</th>\n",
       "      <td>514.2</td>\n",
       "      <td>Solitary pulmonary nodule</td>\n",
       "      <td>50,389</td>\n",
       "      <td>2,270</td>\n",
       "      <td>4.65e&amp;#8209;02</td>\n",
       "    </tr>\n",
       "  </tbody>\n",
       "</table>\n",
       "</div>"
      ],
      "text/plain": [
       "     Phecode                                 Trait description Sample size  \\\n",
       "928   250.24  Type 2 diabetes with neurological manifestations      43,236   \n",
       "486      195                        Cancer, suspected or other      50,040   \n",
       "5381   514.2                         Solitary pulmonary nodule      50,389   \n",
       "\n",
       "      Cases             FDR  \n",
       "928   2,963  1.44e&#8209;02  \n",
       "486   2,250  2.42e&#8209;02  \n",
       "5381  2,270  4.65e&#8209;02  "
      ]
     },
     "metadata": {},
     "output_type": "display_data"
    }
   ],
   "source": [
    "with pd.option_context(\n",
    "    \"display.max_rows\", None, \"display.max_columns\", None, \"display.max_colwidth\", None\n",
    "):\n",
    "    display(lv_assocs)"
   ]
  },
  {
   "cell_type": "markdown",
   "id": "responsible-amplifier",
   "metadata": {},
   "source": [
    "### Fill empty"
   ]
  },
  {
   "cell_type": "code",
   "execution_count": 66,
   "id": "timely-treasure",
   "metadata": {},
   "outputs": [],
   "source": [
    "if lv_assocs.shape[0] == 0:\n",
    "    lv_assocs.loc[0, \"Phecode\"] = \"No significant associations\"\n",
    "    lv_assocs = lv_assocs.fillna(\"\")"
   ]
  },
  {
   "cell_type": "markdown",
   "id": "south-appointment",
   "metadata": {},
   "source": [
    "### Save"
   ]
  },
  {
   "cell_type": "code",
   "execution_count": 67,
   "id": "opened-charge",
   "metadata": {},
   "outputs": [
    {
     "data": {
      "text/plain": [
       "'<!-- LV928:emerge_traits_assocs:start -->'"
      ]
     },
     "metadata": {},
     "output_type": "display_data"
    },
    {
     "data": {
      "text/plain": [
       "'<!-- LV928:emerge_traits_assocs:end -->'"
      ]
     },
     "metadata": {},
     "output_type": "display_data"
    }
   ],
   "source": [
    "# start\n",
    "lv_file_mark_start = LV_FILE_MARK_TEMPLATE.format(\n",
    "    result_set=result_set, lv=LV_NAME, position=\"start\"\n",
    ")\n",
    "display(lv_file_mark_start)\n",
    "\n",
    "# end\n",
    "lv_file_mark_end = LV_FILE_MARK_TEMPLATE.format(\n",
    "    result_set=result_set, lv=LV_NAME, position=\"end\"\n",
    ")\n",
    "display(lv_file_mark_end)"
   ]
  },
  {
   "cell_type": "code",
   "execution_count": 68,
   "id": "intelligent-qualification",
   "metadata": {},
   "outputs": [],
   "source": [
    "new_content = lv_assocs.to_markdown(index=False, disable_numparse=True)"
   ]
  },
  {
   "cell_type": "code",
   "execution_count": 69,
   "id": "critical-grove",
   "metadata": {},
   "outputs": [
    {
     "data": {
      "text/plain": [
       "'Table: Significant trait associations of LV928 in eMERGE. {#tbl:sup:emerge_assocs:lv928}'"
      ]
     },
     "metadata": {},
     "output_type": "display_data"
    }
   ],
   "source": [
    "# add table caption\n",
    "table_caption = TABLE_CAPTION.format(\n",
    "    lv_name=LV_NAME,\n",
    "    result_set_name=RESULT_SET_NAMES[result_set],\n",
    "    table_id=\"{\"\n",
    "    + TABLE_CAPTION_ID.format(result_set=result_set, lv_name_lower_case=LV_NAME.lower())\n",
    "    + \"}\",\n",
    ")\n",
    "display(table_caption)"
   ]
  },
  {
   "cell_type": "code",
   "execution_count": 70,
   "id": "sapphire-helping",
   "metadata": {},
   "outputs": [],
   "source": [
    "new_content += \"\\n\\n\" + table_caption"
   ]
  },
  {
   "cell_type": "code",
   "execution_count": 71,
   "id": "brief-building",
   "metadata": {},
   "outputs": [],
   "source": [
    "full_new_content = (\n",
    "    lv_file_mark_start + \"\\n\" + new_content.strip() + \"\\n\" + lv_file_mark_end\n",
    ")"
   ]
  },
  {
   "cell_type": "code",
   "execution_count": 72,
   "id": "comparative-discovery",
   "metadata": {},
   "outputs": [],
   "source": [
    "with open(OUTPUT_FILE_PATH, \"r\", encoding=\"utf8\") as f:\n",
    "    file_content = f.read()"
   ]
  },
  {
   "cell_type": "code",
   "execution_count": 73,
   "id": "vulnerable-lodging",
   "metadata": {},
   "outputs": [],
   "source": [
    "new_file_content = re.sub(\n",
    "    lv_file_mark_start + \".*?\" + lv_file_mark_end,\n",
    "    full_new_content,\n",
    "    file_content,\n",
    "    flags=re.DOTALL,\n",
    ")"
   ]
  },
  {
   "cell_type": "code",
   "execution_count": 74,
   "id": "detailed-distinction",
   "metadata": {},
   "outputs": [],
   "source": [
    "with open(OUTPUT_FILE_PATH, \"w\", encoding=\"utf8\") as f:\n",
    "    f.write(new_file_content)  # .replace(\"\\beta\", r\"\\beta\"))"
   ]
  },
  {
   "cell_type": "code",
   "execution_count": null,
   "id": "organized-andorra",
   "metadata": {},
   "outputs": [],
   "source": []
  }
 ],
 "metadata": {
  "jupytext": {
   "cell_metadata_filter": "all,-execution,-papermill,-trusted",
   "formats": "ipynb,py//py:percent"
  },
  "kernelspec": {
   "display_name": "Python 3",
   "language": "python",
   "name": "python3"
  },
  "language_info": {
   "codemirror_mode": {
    "name": "ipython",
    "version": 3
   },
   "file_extension": ".py",
   "mimetype": "text/x-python",
   "name": "python",
   "nbconvert_exporter": "python",
   "pygments_lexer": "ipython3",
   "version": "3.8.8"
  },
  "toc-autonumbering": true
 },
 "nbformat": 4,
 "nbformat_minor": 5
}
