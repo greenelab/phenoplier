{
 "cells": [
  {
   "cell_type": "markdown",
   "id": "adolescent-kazakhstan",
   "metadata": {
    "papermill": {
     "duration": 0.006593,
     "end_time": "2021-05-11T19:09:55.733221",
     "exception": false,
     "start_time": "2021-05-11T19:09:55.726628",
     "status": "completed"
    },
    "tags": []
   },
   "source": [
    "# Description"
   ]
  },
  {
   "cell_type": "markdown",
   "id": "remarkable-radius",
   "metadata": {
    "papermill": {
     "duration": 0.00668,
     "end_time": "2021-05-11T19:09:55.745410",
     "exception": false,
     "start_time": "2021-05-11T19:09:55.738730",
     "status": "completed"
    },
    "tags": []
   },
   "source": [
    "Generates the figure for top cell types for a specified LV (in Settings section below)."
   ]
  },
  {
   "cell_type": "markdown",
   "id": "velvet-defendant",
   "metadata": {
    "papermill": {
     "duration": 0.006223,
     "end_time": "2021-05-11T19:09:55.756959",
     "exception": false,
     "start_time": "2021-05-11T19:09:55.750736",
     "status": "completed"
    },
    "tags": []
   },
   "source": [
    "# Modules loading"
   ]
  },
  {
   "cell_type": "code",
   "execution_count": 1,
   "id": "greenhouse-identity",
   "metadata": {
    "papermill": {
     "duration": 0.01906,
     "end_time": "2021-05-11T19:09:55.781515",
     "exception": false,
     "start_time": "2021-05-11T19:09:55.762455",
     "status": "completed"
    },
    "tags": []
   },
   "outputs": [],
   "source": [
    "%load_ext autoreload\n",
    "%autoreload 2"
   ]
  },
  {
   "cell_type": "code",
   "execution_count": 2,
   "id": "lesser-belize",
   "metadata": {
    "papermill": {
     "duration": 0.993432,
     "end_time": "2021-05-11T19:09:56.780403",
     "exception": false,
     "start_time": "2021-05-11T19:09:55.786971",
     "status": "completed"
    },
    "tags": []
   },
   "outputs": [],
   "source": [
    "import re\n",
    "from pathlib import Path\n",
    "\n",
    "import pandas as pd\n",
    "import matplotlib.pyplot as plt\n",
    "import seaborn as sns\n",
    "\n",
    "from data.recount2 import LVAnalysis\n",
    "from utils import chunker\n",
    "import conf"
   ]
  },
  {
   "cell_type": "markdown",
   "id": "sound-emperor",
   "metadata": {
    "papermill": {
     "duration": 0.005973,
     "end_time": "2021-05-11T19:09:56.792495",
     "exception": false,
     "start_time": "2021-05-11T19:09:56.786522",
     "status": "completed"
    },
    "tags": []
   },
   "source": [
    "# Settings"
   ]
  },
  {
   "cell_type": "code",
   "execution_count": 3,
   "id": "compliant-logan",
   "metadata": {
    "papermill": {
     "duration": 0.019548,
     "end_time": "2021-05-11T19:09:56.817689",
     "exception": false,
     "start_time": "2021-05-11T19:09:56.798141",
     "status": "completed"
    },
    "tags": [
     "parameters"
    ]
   },
   "outputs": [],
   "source": [
    "LV_NAME = \"LV434\""
   ]
  },
  {
   "cell_type": "code",
   "execution_count": 4,
   "id": "excess-society",
   "metadata": {},
   "outputs": [],
   "source": [
    "LV_AXIS_THRESHOLD = 3.0\n",
    "N_TOP_SAMPLES = 200\n",
    "N_TOP_ATTRS = 25"
   ]
  },
  {
   "cell_type": "code",
   "execution_count": 5,
   "id": "reliable-complexity",
   "metadata": {},
   "outputs": [
    {
     "data": {
      "text/plain": [
       "PosixPath('/home/miltondp/projects/labs/greenelab/phenoplier_manuscript/content/images/lvs_analysis/lv434')"
      ]
     },
     "metadata": {},
     "output_type": "display_data"
    }
   ],
   "source": [
    "OUTPUT_FIGURES_DIR = Path(\n",
    "    conf.MANUSCRIPT[\"FIGURES_DIR\"], \"lvs_analysis\", f\"{LV_NAME.lower()}\"\n",
    ").resolve()\n",
    "display(OUTPUT_FIGURES_DIR)\n",
    "OUTPUT_FIGURES_DIR.mkdir(parents=True, exist_ok=True)"
   ]
  },
  {
   "cell_type": "code",
   "execution_count": 6,
   "id": "suffering-doubt",
   "metadata": {},
   "outputs": [
    {
     "data": {
      "text/plain": [
       "PosixPath('/home/miltondp/projects/labs/greenelab/phenoplier_manuscript/content/images/lvs_analysis/lv434/lv434-cell_types.svg')"
      ]
     },
     "metadata": {},
     "output_type": "display_data"
    }
   ],
   "source": [
    "OUTPUT_CELL_TYPE_FILEPATH = OUTPUT_FIGURES_DIR / f\"{LV_NAME.lower()}-cell_types.svg\"\n",
    "display(OUTPUT_CELL_TYPE_FILEPATH)"
   ]
  },
  {
   "cell_type": "markdown",
   "id": "cathedral-sculpture",
   "metadata": {
    "papermill": {
     "duration": 0.005592,
     "end_time": "2021-05-11T19:09:56.854406",
     "exception": false,
     "start_time": "2021-05-11T19:09:56.848814",
     "status": "completed"
    },
    "tags": []
   },
   "source": [
    "# Load MultiPLIER summary"
   ]
  },
  {
   "cell_type": "code",
   "execution_count": 7,
   "id": "outer-acceptance",
   "metadata": {
    "papermill": {
     "duration": 0.020251,
     "end_time": "2021-05-11T19:09:56.880435",
     "exception": false,
     "start_time": "2021-05-11T19:09:56.860184",
     "status": "completed"
    },
    "tags": []
   },
   "outputs": [],
   "source": [
    "multiplier_model_summary = pd.read_pickle(conf.MULTIPLIER[\"MODEL_SUMMARY_FILE\"])"
   ]
  },
  {
   "cell_type": "code",
   "execution_count": 8,
   "id": "worthy-shoot",
   "metadata": {
    "papermill": {
     "duration": 0.02062,
     "end_time": "2021-05-11T19:09:56.906744",
     "exception": false,
     "start_time": "2021-05-11T19:09:56.886124",
     "status": "completed"
    },
    "tags": []
   },
   "outputs": [
    {
     "data": {
      "text/plain": [
       "(2157, 5)"
      ]
     },
     "execution_count": 8,
     "metadata": {},
     "output_type": "execute_result"
    }
   ],
   "source": [
    "multiplier_model_summary.shape"
   ]
  },
  {
   "cell_type": "code",
   "execution_count": 9,
   "id": "wound-senior",
   "metadata": {
    "papermill": {
     "duration": 0.024737,
     "end_time": "2021-05-11T19:09:56.937493",
     "exception": false,
     "start_time": "2021-05-11T19:09:56.912756",
     "status": "completed"
    },
    "tags": []
   },
   "outputs": [
    {
     "data": {
      "text/html": [
       "<div>\n",
       "<style scoped>\n",
       "    .dataframe tbody tr th:only-of-type {\n",
       "        vertical-align: middle;\n",
       "    }\n",
       "\n",
       "    .dataframe tbody tr th {\n",
       "        vertical-align: top;\n",
       "    }\n",
       "\n",
       "    .dataframe thead th {\n",
       "        text-align: right;\n",
       "    }\n",
       "</style>\n",
       "<table border=\"1\" class=\"dataframe\">\n",
       "  <thead>\n",
       "    <tr style=\"text-align: right;\">\n",
       "      <th></th>\n",
       "      <th>pathway</th>\n",
       "      <th>LV index</th>\n",
       "      <th>AUC</th>\n",
       "      <th>p-value</th>\n",
       "      <th>FDR</th>\n",
       "    </tr>\n",
       "  </thead>\n",
       "  <tbody>\n",
       "    <tr>\n",
       "      <th>1</th>\n",
       "      <td>KEGG_LYSINE_DEGRADATION</td>\n",
       "      <td>1</td>\n",
       "      <td>0.388059</td>\n",
       "      <td>0.866078</td>\n",
       "      <td>0.956005</td>\n",
       "    </tr>\n",
       "    <tr>\n",
       "      <th>2</th>\n",
       "      <td>REACTOME_MRNA_SPLICING</td>\n",
       "      <td>1</td>\n",
       "      <td>0.733057</td>\n",
       "      <td>0.000048</td>\n",
       "      <td>0.000582</td>\n",
       "    </tr>\n",
       "    <tr>\n",
       "      <th>3</th>\n",
       "      <td>MIPS_NOP56P_ASSOCIATED_PRE_RRNA_COMPLEX</td>\n",
       "      <td>1</td>\n",
       "      <td>0.680555</td>\n",
       "      <td>0.001628</td>\n",
       "      <td>0.011366</td>\n",
       "    </tr>\n",
       "    <tr>\n",
       "      <th>4</th>\n",
       "      <td>KEGG_DNA_REPLICATION</td>\n",
       "      <td>1</td>\n",
       "      <td>0.549473</td>\n",
       "      <td>0.312155</td>\n",
       "      <td>0.539951</td>\n",
       "    </tr>\n",
       "    <tr>\n",
       "      <th>5</th>\n",
       "      <td>PID_MYC_ACTIVPATHWAY</td>\n",
       "      <td>1</td>\n",
       "      <td>0.639303</td>\n",
       "      <td>0.021702</td>\n",
       "      <td>0.083739</td>\n",
       "    </tr>\n",
       "  </tbody>\n",
       "</table>\n",
       "</div>"
      ],
      "text/plain": [
       "                                   pathway LV index       AUC   p-value  \\\n",
       "1                  KEGG_LYSINE_DEGRADATION        1  0.388059  0.866078   \n",
       "2                   REACTOME_MRNA_SPLICING        1  0.733057  0.000048   \n",
       "3  MIPS_NOP56P_ASSOCIATED_PRE_RRNA_COMPLEX        1  0.680555  0.001628   \n",
       "4                     KEGG_DNA_REPLICATION        1  0.549473  0.312155   \n",
       "5                     PID_MYC_ACTIVPATHWAY        1  0.639303  0.021702   \n",
       "\n",
       "        FDR  \n",
       "1  0.956005  \n",
       "2  0.000582  \n",
       "3  0.011366  \n",
       "4  0.539951  \n",
       "5  0.083739  "
      ]
     },
     "execution_count": 9,
     "metadata": {},
     "output_type": "execute_result"
    }
   ],
   "source": [
    "multiplier_model_summary.head()"
   ]
  },
  {
   "cell_type": "markdown",
   "id": "ceramic-winter",
   "metadata": {
    "papermill": {
     "duration": 0.006007,
     "end_time": "2021-05-11T19:09:56.949763",
     "exception": false,
     "start_time": "2021-05-11T19:09:56.943756",
     "status": "completed"
    },
    "tags": []
   },
   "source": [
    "# Load data"
   ]
  },
  {
   "cell_type": "markdown",
   "id": "satisfied-greek",
   "metadata": {
    "papermill": {
     "duration": 0.005873,
     "end_time": "2021-05-11T19:09:56.961602",
     "exception": false,
     "start_time": "2021-05-11T19:09:56.955729",
     "status": "completed"
    },
    "tags": []
   },
   "source": [
    "## Original data"
   ]
  },
  {
   "cell_type": "code",
   "execution_count": 10,
   "id": "laden-listening",
   "metadata": {
    "papermill": {
     "duration": 0.019571,
     "end_time": "2021-05-11T19:09:56.987255",
     "exception": false,
     "start_time": "2021-05-11T19:09:56.967684",
     "status": "completed"
    },
    "tags": []
   },
   "outputs": [],
   "source": [
    "INPUT_SUBSET = \"z_score_std\""
   ]
  },
  {
   "cell_type": "code",
   "execution_count": 11,
   "id": "mechanical-advocacy",
   "metadata": {
    "papermill": {
     "duration": 0.019175,
     "end_time": "2021-05-11T19:09:57.025099",
     "exception": false,
     "start_time": "2021-05-11T19:09:57.005924",
     "status": "completed"
    },
    "tags": []
   },
   "outputs": [],
   "source": [
    "INPUT_STEM = \"projection-smultixcan-efo_partial-mashr-zscores\""
   ]
  },
  {
   "cell_type": "code",
   "execution_count": 12,
   "id": "accredited-vault",
   "metadata": {
    "papermill": {
     "duration": 0.020992,
     "end_time": "2021-05-11T19:09:57.052255",
     "exception": false,
     "start_time": "2021-05-11T19:09:57.031263",
     "status": "completed"
    },
    "tags": []
   },
   "outputs": [
    {
     "data": {
      "text/plain": [
       "PosixPath('/home/miltondp/projects/labs/greenelab/phenoplier/bases_data/base_orig/results/data_transformations/z_score_std/z_score_std-projection-smultixcan-efo_partial-mashr-zscores.pkl')"
      ]
     },
     "metadata": {},
     "output_type": "display_data"
    },
    {
     "data": {
      "text/plain": [
       "'z_score_std-projection-smultixcan-efo_partial-mashr-zscores'"
      ]
     },
     "metadata": {},
     "output_type": "display_data"
    }
   ],
   "source": [
    "input_filepath = Path(\n",
    "    conf.RESULTS[\"DATA_TRANSFORMATIONS_DIR\"],\n",
    "    INPUT_SUBSET,\n",
    "    f\"{INPUT_SUBSET}-{INPUT_STEM}.pkl\",\n",
    ").resolve()\n",
    "display(input_filepath)\n",
    "\n",
    "assert input_filepath.exists(), \"Input file does not exist\"\n",
    "\n",
    "input_filepath_stem = input_filepath.stem\n",
    "display(input_filepath_stem)"
   ]
  },
  {
   "cell_type": "code",
   "execution_count": 13,
   "id": "toxic-configuration",
   "metadata": {
    "papermill": {
     "duration": 0.032337,
     "end_time": "2021-05-11T19:09:57.090585",
     "exception": false,
     "start_time": "2021-05-11T19:09:57.058248",
     "status": "completed"
    },
    "tags": []
   },
   "outputs": [],
   "source": [
    "data = pd.read_pickle(input_filepath)"
   ]
  },
  {
   "cell_type": "code",
   "execution_count": 14,
   "id": "racial-remark",
   "metadata": {
    "papermill": {
     "duration": 0.01967,
     "end_time": "2021-05-11T19:09:57.116292",
     "exception": false,
     "start_time": "2021-05-11T19:09:57.096622",
     "status": "completed"
    },
    "tags": []
   },
   "outputs": [
    {
     "data": {
      "text/plain": [
       "(3752, 987)"
      ]
     },
     "execution_count": 14,
     "metadata": {},
     "output_type": "execute_result"
    }
   ],
   "source": [
    "data.shape"
   ]
  },
  {
   "cell_type": "code",
   "execution_count": 15,
   "id": "altered-blues",
   "metadata": {
    "papermill": {
     "duration": 0.031843,
     "end_time": "2021-05-11T19:09:57.154356",
     "exception": false,
     "start_time": "2021-05-11T19:09:57.122513",
     "status": "completed"
    },
    "tags": []
   },
   "outputs": [
    {
     "data": {
      "text/html": [
       "<div>\n",
       "<style scoped>\n",
       "    .dataframe tbody tr th:only-of-type {\n",
       "        vertical-align: middle;\n",
       "    }\n",
       "\n",
       "    .dataframe tbody tr th {\n",
       "        vertical-align: top;\n",
       "    }\n",
       "\n",
       "    .dataframe thead th {\n",
       "        text-align: right;\n",
       "    }\n",
       "</style>\n",
       "<table border=\"1\" class=\"dataframe\">\n",
       "  <thead>\n",
       "    <tr style=\"text-align: right;\">\n",
       "      <th></th>\n",
       "      <th>LV1</th>\n",
       "      <th>LV2</th>\n",
       "      <th>LV3</th>\n",
       "      <th>LV4</th>\n",
       "      <th>LV5</th>\n",
       "      <th>LV6</th>\n",
       "      <th>LV7</th>\n",
       "      <th>LV8</th>\n",
       "      <th>LV9</th>\n",
       "      <th>LV10</th>\n",
       "      <th>...</th>\n",
       "      <th>LV978</th>\n",
       "      <th>LV979</th>\n",
       "      <th>LV980</th>\n",
       "      <th>LV981</th>\n",
       "      <th>LV982</th>\n",
       "      <th>LV983</th>\n",
       "      <th>LV984</th>\n",
       "      <th>LV985</th>\n",
       "      <th>LV986</th>\n",
       "      <th>LV987</th>\n",
       "    </tr>\n",
       "  </thead>\n",
       "  <tbody>\n",
       "    <tr>\n",
       "      <th>100001_raw-Food_weight</th>\n",
       "      <td>-0.695006</td>\n",
       "      <td>1.962565</td>\n",
       "      <td>0.057683</td>\n",
       "      <td>0.878731</td>\n",
       "      <td>-0.539977</td>\n",
       "      <td>1.481272</td>\n",
       "      <td>-0.396422</td>\n",
       "      <td>1.090180</td>\n",
       "      <td>0.759223</td>\n",
       "      <td>0.931395</td>\n",
       "      <td>...</td>\n",
       "      <td>1.129784</td>\n",
       "      <td>1.752343</td>\n",
       "      <td>-1.411403</td>\n",
       "      <td>2.823863</td>\n",
       "      <td>0.931116</td>\n",
       "      <td>-1.054519</td>\n",
       "      <td>0.432982</td>\n",
       "      <td>-0.633597</td>\n",
       "      <td>0.554279</td>\n",
       "      <td>-0.642479</td>\n",
       "    </tr>\n",
       "    <tr>\n",
       "      <th>100002_raw-Energy</th>\n",
       "      <td>-1.528127</td>\n",
       "      <td>-0.345309</td>\n",
       "      <td>-0.148953</td>\n",
       "      <td>-0.242060</td>\n",
       "      <td>0.373427</td>\n",
       "      <td>0.791092</td>\n",
       "      <td>0.263477</td>\n",
       "      <td>0.987702</td>\n",
       "      <td>0.354391</td>\n",
       "      <td>1.416059</td>\n",
       "      <td>...</td>\n",
       "      <td>0.224604</td>\n",
       "      <td>0.769882</td>\n",
       "      <td>-0.509482</td>\n",
       "      <td>0.091153</td>\n",
       "      <td>2.286789</td>\n",
       "      <td>-1.008256</td>\n",
       "      <td>-0.029764</td>\n",
       "      <td>1.737229</td>\n",
       "      <td>-0.272107</td>\n",
       "      <td>-0.526125</td>\n",
       "    </tr>\n",
       "    <tr>\n",
       "      <th>100003_raw-Protein</th>\n",
       "      <td>-0.704572</td>\n",
       "      <td>-1.011299</td>\n",
       "      <td>0.671420</td>\n",
       "      <td>0.143991</td>\n",
       "      <td>0.615212</td>\n",
       "      <td>0.874212</td>\n",
       "      <td>-0.040998</td>\n",
       "      <td>0.915170</td>\n",
       "      <td>0.254369</td>\n",
       "      <td>-0.084237</td>\n",
       "      <td>...</td>\n",
       "      <td>1.003019</td>\n",
       "      <td>1.044314</td>\n",
       "      <td>-2.376108</td>\n",
       "      <td>0.004778</td>\n",
       "      <td>0.053714</td>\n",
       "      <td>-0.892447</td>\n",
       "      <td>-0.183800</td>\n",
       "      <td>1.377991</td>\n",
       "      <td>-0.278794</td>\n",
       "      <td>-0.419733</td>\n",
       "    </tr>\n",
       "    <tr>\n",
       "      <th>100004_raw-Fat</th>\n",
       "      <td>-0.989832</td>\n",
       "      <td>-1.875490</td>\n",
       "      <td>0.261555</td>\n",
       "      <td>-1.420719</td>\n",
       "      <td>0.366238</td>\n",
       "      <td>1.167049</td>\n",
       "      <td>0.257387</td>\n",
       "      <td>0.717674</td>\n",
       "      <td>-0.997664</td>\n",
       "      <td>0.969825</td>\n",
       "      <td>...</td>\n",
       "      <td>0.585913</td>\n",
       "      <td>0.638314</td>\n",
       "      <td>0.119139</td>\n",
       "      <td>-0.140204</td>\n",
       "      <td>1.394326</td>\n",
       "      <td>-1.173402</td>\n",
       "      <td>0.555058</td>\n",
       "      <td>1.013982</td>\n",
       "      <td>-0.544506</td>\n",
       "      <td>-0.064061</td>\n",
       "    </tr>\n",
       "    <tr>\n",
       "      <th>100005_raw-Carbohydrate</th>\n",
       "      <td>-0.580143</td>\n",
       "      <td>0.243335</td>\n",
       "      <td>0.158966</td>\n",
       "      <td>-0.036558</td>\n",
       "      <td>0.068176</td>\n",
       "      <td>-0.202639</td>\n",
       "      <td>1.101281</td>\n",
       "      <td>0.675227</td>\n",
       "      <td>1.463432</td>\n",
       "      <td>1.010078</td>\n",
       "      <td>...</td>\n",
       "      <td>-0.249108</td>\n",
       "      <td>-0.026814</td>\n",
       "      <td>0.232713</td>\n",
       "      <td>0.323682</td>\n",
       "      <td>1.168642</td>\n",
       "      <td>-0.282935</td>\n",
       "      <td>0.653105</td>\n",
       "      <td>1.909526</td>\n",
       "      <td>0.199997</td>\n",
       "      <td>-1.656894</td>\n",
       "    </tr>\n",
       "  </tbody>\n",
       "</table>\n",
       "<p>5 rows × 987 columns</p>\n",
       "</div>"
      ],
      "text/plain": [
       "                              LV1       LV2       LV3       LV4       LV5  \\\n",
       "100001_raw-Food_weight  -0.695006  1.962565  0.057683  0.878731 -0.539977   \n",
       "100002_raw-Energy       -1.528127 -0.345309 -0.148953 -0.242060  0.373427   \n",
       "100003_raw-Protein      -0.704572 -1.011299  0.671420  0.143991  0.615212   \n",
       "100004_raw-Fat          -0.989832 -1.875490  0.261555 -1.420719  0.366238   \n",
       "100005_raw-Carbohydrate -0.580143  0.243335  0.158966 -0.036558  0.068176   \n",
       "\n",
       "                              LV6       LV7       LV8       LV9      LV10  \\\n",
       "100001_raw-Food_weight   1.481272 -0.396422  1.090180  0.759223  0.931395   \n",
       "100002_raw-Energy        0.791092  0.263477  0.987702  0.354391  1.416059   \n",
       "100003_raw-Protein       0.874212 -0.040998  0.915170  0.254369 -0.084237   \n",
       "100004_raw-Fat           1.167049  0.257387  0.717674 -0.997664  0.969825   \n",
       "100005_raw-Carbohydrate -0.202639  1.101281  0.675227  1.463432  1.010078   \n",
       "\n",
       "                         ...     LV978     LV979     LV980     LV981  \\\n",
       "100001_raw-Food_weight   ...  1.129784  1.752343 -1.411403  2.823863   \n",
       "100002_raw-Energy        ...  0.224604  0.769882 -0.509482  0.091153   \n",
       "100003_raw-Protein       ...  1.003019  1.044314 -2.376108  0.004778   \n",
       "100004_raw-Fat           ...  0.585913  0.638314  0.119139 -0.140204   \n",
       "100005_raw-Carbohydrate  ... -0.249108 -0.026814  0.232713  0.323682   \n",
       "\n",
       "                            LV982     LV983     LV984     LV985     LV986  \\\n",
       "100001_raw-Food_weight   0.931116 -1.054519  0.432982 -0.633597  0.554279   \n",
       "100002_raw-Energy        2.286789 -1.008256 -0.029764  1.737229 -0.272107   \n",
       "100003_raw-Protein       0.053714 -0.892447 -0.183800  1.377991 -0.278794   \n",
       "100004_raw-Fat           1.394326 -1.173402  0.555058  1.013982 -0.544506   \n",
       "100005_raw-Carbohydrate  1.168642 -0.282935  0.653105  1.909526  0.199997   \n",
       "\n",
       "                            LV987  \n",
       "100001_raw-Food_weight  -0.642479  \n",
       "100002_raw-Energy       -0.526125  \n",
       "100003_raw-Protein      -0.419733  \n",
       "100004_raw-Fat          -0.064061  \n",
       "100005_raw-Carbohydrate -1.656894  \n",
       "\n",
       "[5 rows x 987 columns]"
      ]
     },
     "execution_count": 15,
     "metadata": {},
     "output_type": "execute_result"
    }
   ],
   "source": [
    "data.head()"
   ]
  },
  {
   "cell_type": "markdown",
   "id": "representative-strike",
   "metadata": {},
   "source": [
    "## LV data"
   ]
  },
  {
   "cell_type": "code",
   "execution_count": 16,
   "id": "broken-championship",
   "metadata": {},
   "outputs": [],
   "source": [
    "lv_obj = LVAnalysis(LV_NAME, data)"
   ]
  },
  {
   "cell_type": "code",
   "execution_count": 17,
   "id": "specified-huntington",
   "metadata": {},
   "outputs": [
    {
     "name": "stderr",
     "output_type": "stream",
     "text": [
      "[2021-08-02 22:41:47,138 - numexpr.utils] INFO: NumExpr defaulting to 8 threads.\n"
     ]
    },
    {
     "data": {
      "text/html": [
       "<div>\n",
       "<style scoped>\n",
       "    .dataframe tbody tr th:only-of-type {\n",
       "        vertical-align: middle;\n",
       "    }\n",
       "\n",
       "    .dataframe tbody tr th {\n",
       "        vertical-align: top;\n",
       "    }\n",
       "\n",
       "    .dataframe thead th {\n",
       "        text-align: right;\n",
       "    }\n",
       "</style>\n",
       "<table border=\"1\" class=\"dataframe\">\n",
       "  <thead>\n",
       "    <tr style=\"text-align: right;\">\n",
       "      <th></th>\n",
       "      <th>pathway</th>\n",
       "      <th>LV index</th>\n",
       "      <th>AUC</th>\n",
       "      <th>p-value</th>\n",
       "      <th>FDR</th>\n",
       "    </tr>\n",
       "  </thead>\n",
       "  <tbody>\n",
       "  </tbody>\n",
       "</table>\n",
       "</div>"
      ],
      "text/plain": [
       "Empty DataFrame\n",
       "Columns: [pathway, LV index, AUC, p-value, FDR]\n",
       "Index: []"
      ]
     },
     "execution_count": 17,
     "metadata": {},
     "output_type": "execute_result"
    }
   ],
   "source": [
    "multiplier_model_summary[\n",
    "    multiplier_model_summary[\"LV index\"].isin((LV_NAME[2:],))\n",
    "    & (\n",
    "        (multiplier_model_summary[\"FDR\"] < 0.05)\n",
    "        | (multiplier_model_summary[\"AUC\"] >= 0.75)\n",
    "    )\n",
    "]"
   ]
  },
  {
   "cell_type": "code",
   "execution_count": 18,
   "id": "listed-geology",
   "metadata": {},
   "outputs": [
    {
     "name": "stdout",
     "output_type": "stream",
     "text": [
      "SRP055569, SRP066834, SRP057196, SRP042161, SRP033135, SRP024268, SRP059775, SRP022892, SRP007947, SRP060416, SRP063840, SRP007498, SRP006474, SRP017959, SRP010350, SRP006970, SRP064464, SRP010279, SRP043166, SRP041751, SRP030617, SRP050499, SRP055153, SRP010129, SRP058773, SRP025989, SRP018717, SRP050992, SRP010038, SRP042228, SRP037722, SRP015853, SRP041825, SRP045859, SRP009862, SRP044917, SRP012546, SRP012461, SRP014670, SRP064323, SRP018838, SRP018242, SRP003726, SRP009266, SRP050892, SRP025982, SRP014620, SRP067214, SRP059035, SRP050087, "
     ]
    },
    {
     "name": "stderr",
     "output_type": "stream",
     "text": [
      "/home/miltondp/projects/labs/greenelab/phenoplier/libs/data/recount2.py:320: UserWarning: Not all experiments data could be loaded (48 != 50)\n",
      "  warnings.warn(\n"
     ]
    }
   ],
   "source": [
    "lv_data = lv_obj.get_experiments_data()"
   ]
  },
  {
   "cell_type": "code",
   "execution_count": 19,
   "id": "bulgarian-invite",
   "metadata": {},
   "outputs": [
    {
     "data": {
      "text/plain": [
       "(8640, 81)"
      ]
     },
     "execution_count": 19,
     "metadata": {},
     "output_type": "execute_result"
    }
   ],
   "source": [
    "lv_data.shape"
   ]
  },
  {
   "cell_type": "code",
   "execution_count": 20,
   "id": "alpine-pharmacy",
   "metadata": {},
   "outputs": [
    {
     "data": {
      "text/html": [
       "<div>\n",
       "<style scoped>\n",
       "    .dataframe tbody tr th:only-of-type {\n",
       "        vertical-align: middle;\n",
       "    }\n",
       "\n",
       "    .dataframe tbody tr th {\n",
       "        vertical-align: top;\n",
       "    }\n",
       "\n",
       "    .dataframe thead th {\n",
       "        text-align: right;\n",
       "    }\n",
       "</style>\n",
       "<table border=\"1\" class=\"dataframe\">\n",
       "  <thead>\n",
       "    <tr style=\"text-align: right;\">\n",
       "      <th></th>\n",
       "      <th></th>\n",
       "      <th>cell type</th>\n",
       "      <th>Stage</th>\n",
       "      <th>tissue</th>\n",
       "      <th>age</th>\n",
       "      <th>c1 chip id</th>\n",
       "      <th>experiment_sample_name</th>\n",
       "      <th>cell line</th>\n",
       "      <th>patient id</th>\n",
       "      <th>subtype</th>\n",
       "      <th>hour post serum-switch</th>\n",
       "      <th>...</th>\n",
       "      <th>site</th>\n",
       "      <th>library id</th>\n",
       "      <th>lane</th>\n",
       "      <th>flowcell</th>\n",
       "      <th>antibody used for sorting</th>\n",
       "      <th>tissue source</th>\n",
       "      <th>sample description</th>\n",
       "      <th>experiment group</th>\n",
       "      <th>sequenced molecule</th>\n",
       "      <th>LV434</th>\n",
       "    </tr>\n",
       "    <tr>\n",
       "      <th>project</th>\n",
       "      <th>run</th>\n",
       "      <th></th>\n",
       "      <th></th>\n",
       "      <th></th>\n",
       "      <th></th>\n",
       "      <th></th>\n",
       "      <th></th>\n",
       "      <th></th>\n",
       "      <th></th>\n",
       "      <th></th>\n",
       "      <th></th>\n",
       "      <th></th>\n",
       "      <th></th>\n",
       "      <th></th>\n",
       "      <th></th>\n",
       "      <th></th>\n",
       "      <th></th>\n",
       "      <th></th>\n",
       "      <th></th>\n",
       "      <th></th>\n",
       "      <th></th>\n",
       "      <th></th>\n",
       "    </tr>\n",
       "  </thead>\n",
       "  <tbody>\n",
       "    <tr>\n",
       "      <th rowspan=\"5\" valign=\"top\">SRP055569</th>\n",
       "      <th>SRR1821717</th>\n",
       "      <td>MCF10a human breast cancer cells</td>\n",
       "      <td>NaN</td>\n",
       "      <td>NaN</td>\n",
       "      <td>NaN</td>\n",
       "      <td>NaN</td>\n",
       "      <td>NaN</td>\n",
       "      <td>NaN</td>\n",
       "      <td>NaN</td>\n",
       "      <td>NaN</td>\n",
       "      <td>NaN</td>\n",
       "      <td>...</td>\n",
       "      <td>NaN</td>\n",
       "      <td>NaN</td>\n",
       "      <td>NaN</td>\n",
       "      <td>NaN</td>\n",
       "      <td>NaN</td>\n",
       "      <td>NaN</td>\n",
       "      <td>NaN</td>\n",
       "      <td>NaN</td>\n",
       "      <td>NaN</td>\n",
       "      <td>0.052303</td>\n",
       "    </tr>\n",
       "    <tr>\n",
       "      <th>SRR1821716</th>\n",
       "      <td>MCF10a human breast cancer cells</td>\n",
       "      <td>NaN</td>\n",
       "      <td>NaN</td>\n",
       "      <td>NaN</td>\n",
       "      <td>NaN</td>\n",
       "      <td>NaN</td>\n",
       "      <td>NaN</td>\n",
       "      <td>NaN</td>\n",
       "      <td>NaN</td>\n",
       "      <td>NaN</td>\n",
       "      <td>...</td>\n",
       "      <td>NaN</td>\n",
       "      <td>NaN</td>\n",
       "      <td>NaN</td>\n",
       "      <td>NaN</td>\n",
       "      <td>NaN</td>\n",
       "      <td>NaN</td>\n",
       "      <td>NaN</td>\n",
       "      <td>NaN</td>\n",
       "      <td>NaN</td>\n",
       "      <td>-0.079737</td>\n",
       "    </tr>\n",
       "    <tr>\n",
       "      <th>SRR1821715</th>\n",
       "      <td>MCF10a human breast cancer cells</td>\n",
       "      <td>NaN</td>\n",
       "      <td>NaN</td>\n",
       "      <td>NaN</td>\n",
       "      <td>NaN</td>\n",
       "      <td>NaN</td>\n",
       "      <td>NaN</td>\n",
       "      <td>NaN</td>\n",
       "      <td>NaN</td>\n",
       "      <td>NaN</td>\n",
       "      <td>...</td>\n",
       "      <td>NaN</td>\n",
       "      <td>NaN</td>\n",
       "      <td>NaN</td>\n",
       "      <td>NaN</td>\n",
       "      <td>NaN</td>\n",
       "      <td>NaN</td>\n",
       "      <td>NaN</td>\n",
       "      <td>NaN</td>\n",
       "      <td>NaN</td>\n",
       "      <td>0.163664</td>\n",
       "    </tr>\n",
       "    <tr>\n",
       "      <th>SRR1821714</th>\n",
       "      <td>MCF10a human breast cancer cells</td>\n",
       "      <td>NaN</td>\n",
       "      <td>NaN</td>\n",
       "      <td>NaN</td>\n",
       "      <td>NaN</td>\n",
       "      <td>NaN</td>\n",
       "      <td>NaN</td>\n",
       "      <td>NaN</td>\n",
       "      <td>NaN</td>\n",
       "      <td>NaN</td>\n",
       "      <td>...</td>\n",
       "      <td>NaN</td>\n",
       "      <td>NaN</td>\n",
       "      <td>NaN</td>\n",
       "      <td>NaN</td>\n",
       "      <td>NaN</td>\n",
       "      <td>NaN</td>\n",
       "      <td>NaN</td>\n",
       "      <td>NaN</td>\n",
       "      <td>NaN</td>\n",
       "      <td>0.281569</td>\n",
       "    </tr>\n",
       "    <tr>\n",
       "      <th>SRR1821713</th>\n",
       "      <td>MCF10a human breast cancer cells</td>\n",
       "      <td>NaN</td>\n",
       "      <td>NaN</td>\n",
       "      <td>NaN</td>\n",
       "      <td>NaN</td>\n",
       "      <td>NaN</td>\n",
       "      <td>NaN</td>\n",
       "      <td>NaN</td>\n",
       "      <td>NaN</td>\n",
       "      <td>NaN</td>\n",
       "      <td>...</td>\n",
       "      <td>NaN</td>\n",
       "      <td>NaN</td>\n",
       "      <td>NaN</td>\n",
       "      <td>NaN</td>\n",
       "      <td>NaN</td>\n",
       "      <td>NaN</td>\n",
       "      <td>NaN</td>\n",
       "      <td>NaN</td>\n",
       "      <td>NaN</td>\n",
       "      <td>0.106651</td>\n",
       "    </tr>\n",
       "  </tbody>\n",
       "</table>\n",
       "<p>5 rows × 81 columns</p>\n",
       "</div>"
      ],
      "text/plain": [
       "                                             cell type Stage tissue  age  \\\n",
       "project   run                                                              \n",
       "SRP055569 SRR1821717  MCF10a human breast cancer cells   NaN    NaN  NaN   \n",
       "          SRR1821716  MCF10a human breast cancer cells   NaN    NaN  NaN   \n",
       "          SRR1821715  MCF10a human breast cancer cells   NaN    NaN  NaN   \n",
       "          SRR1821714  MCF10a human breast cancer cells   NaN    NaN  NaN   \n",
       "          SRR1821713  MCF10a human breast cancer cells   NaN    NaN  NaN   \n",
       "\n",
       "                     c1 chip id experiment_sample_name cell line patient id  \\\n",
       "project   run                                                                 \n",
       "SRP055569 SRR1821717        NaN                    NaN       NaN        NaN   \n",
       "          SRR1821716        NaN                    NaN       NaN        NaN   \n",
       "          SRR1821715        NaN                    NaN       NaN        NaN   \n",
       "          SRR1821714        NaN                    NaN       NaN        NaN   \n",
       "          SRR1821713        NaN                    NaN       NaN        NaN   \n",
       "\n",
       "                     subtype hour post serum-switch  ... site library id lane  \\\n",
       "project   run                                        ...                        \n",
       "SRP055569 SRR1821717     NaN                    NaN  ...  NaN        NaN  NaN   \n",
       "          SRR1821716     NaN                    NaN  ...  NaN        NaN  NaN   \n",
       "          SRR1821715     NaN                    NaN  ...  NaN        NaN  NaN   \n",
       "          SRR1821714     NaN                    NaN  ...  NaN        NaN  NaN   \n",
       "          SRR1821713     NaN                    NaN  ...  NaN        NaN  NaN   \n",
       "\n",
       "                     flowcell antibody used for sorting tissue source  \\\n",
       "project   run                                                           \n",
       "SRP055569 SRR1821717      NaN                       NaN           NaN   \n",
       "          SRR1821716      NaN                       NaN           NaN   \n",
       "          SRR1821715      NaN                       NaN           NaN   \n",
       "          SRR1821714      NaN                       NaN           NaN   \n",
       "          SRR1821713      NaN                       NaN           NaN   \n",
       "\n",
       "                     sample description experiment group sequenced molecule  \\\n",
       "project   run                                                                 \n",
       "SRP055569 SRR1821717                NaN              NaN                NaN   \n",
       "          SRR1821716                NaN              NaN                NaN   \n",
       "          SRR1821715                NaN              NaN                NaN   \n",
       "          SRR1821714                NaN              NaN                NaN   \n",
       "          SRR1821713                NaN              NaN                NaN   \n",
       "\n",
       "                         LV434  \n",
       "project   run                   \n",
       "SRP055569 SRR1821717  0.052303  \n",
       "          SRR1821716 -0.079737  \n",
       "          SRR1821715  0.163664  \n",
       "          SRR1821714  0.281569  \n",
       "          SRR1821713  0.106651  \n",
       "\n",
       "[5 rows x 81 columns]"
      ]
     },
     "execution_count": 20,
     "metadata": {},
     "output_type": "execute_result"
    }
   ],
   "source": [
    "lv_data.head()"
   ]
  },
  {
   "cell_type": "markdown",
   "id": "wanted-grove",
   "metadata": {},
   "source": [
    "# LV cell types analysis"
   ]
  },
  {
   "cell_type": "markdown",
   "id": "handled-tiffany",
   "metadata": {},
   "source": [
    "## Get top attributes"
   ]
  },
  {
   "cell_type": "code",
   "execution_count": 21,
   "id": "colored-pontiac",
   "metadata": {},
   "outputs": [
    {
     "data": {
      "text/plain": [
       "culture medium                    0.025531\n",
       "cell type                         0.015845\n",
       "tnm                               0.014552\n",
       "antibody                          0.006593\n",
       "age                               0.004058\n",
       "c1 chip id                        0.003620\n",
       "experiment_sample_name            0.003620\n",
       "antibody catalog #                0.003571\n",
       "cell source                       0.003340\n",
       "well number                       0.003125\n",
       "reprogramming time point (day)    0.003125\n",
       "race                              0.003083\n",
       "Stage                             0.003046\n",
       "cancer or normal                  0.002976\n",
       "tissue                            0.002715\n",
       "enzymatic digestion               0.002514\n",
       "protein                           0.002514\n",
       "clip variant                      0.002514\n",
       "antibody manufacturer             0.002436\n",
       "gender                            0.002357\n",
       "dtype: float64"
      ]
     },
     "metadata": {},
     "output_type": "display_data"
    }
   ],
   "source": [
    "lv_attrs = lv_obj.get_attributes_variation_score()\n",
    "display(lv_attrs.head(20))"
   ]
  },
  {
   "cell_type": "code",
   "execution_count": 22,
   "id": "conservative-quantity",
   "metadata": {},
   "outputs": [
    {
     "data": {
      "text/plain": [
       "cell type    0.015845\n",
       "tissue       0.002715\n",
       "dtype: float64"
      ]
     },
     "execution_count": 22,
     "metadata": {},
     "output_type": "execute_result"
    }
   ],
   "source": [
    "# show those with cell type or tissue in their name\n",
    "_tmp = pd.Series(lv_attrs.index)\n",
    "lv_attrs[\n",
    "    _tmp.str.match(\n",
    "        \"(?:cell.+type$)|(?:tissue$)|(?:tissue.+type$)\",\n",
    "        case=False,\n",
    "        flags=re.IGNORECASE,\n",
    "    ).values\n",
    "].sort_values(ascending=False)"
   ]
  },
  {
   "cell_type": "code",
   "execution_count": 23,
   "id": "considered-revolution",
   "metadata": {},
   "outputs": [],
   "source": [
    "_tmp = lv_data.loc[\n",
    "    :,\n",
    "    [\n",
    "        \"cell type\",\n",
    "        \"tissue\",\n",
    "        \"cell line\",\n",
    "        LV_NAME,\n",
    "    ],\n",
    "]"
   ]
  },
  {
   "cell_type": "code",
   "execution_count": 24,
   "id": "obvious-sharing",
   "metadata": {},
   "outputs": [],
   "source": [
    "_tmp_seq = list(chunker(_tmp.sort_values(LV_NAME, ascending=False), 25))"
   ]
  },
  {
   "cell_type": "code",
   "execution_count": 25,
   "id": "systematic-riverside",
   "metadata": {},
   "outputs": [
    {
     "data": {
      "text/html": [
       "<div>\n",
       "<style scoped>\n",
       "    .dataframe tbody tr th:only-of-type {\n",
       "        vertical-align: middle;\n",
       "    }\n",
       "\n",
       "    .dataframe tbody tr th {\n",
       "        vertical-align: top;\n",
       "    }\n",
       "\n",
       "    .dataframe thead th {\n",
       "        text-align: right;\n",
       "    }\n",
       "</style>\n",
       "<table border=\"1\" class=\"dataframe\">\n",
       "  <thead>\n",
       "    <tr style=\"text-align: right;\">\n",
       "      <th></th>\n",
       "      <th></th>\n",
       "      <th>cell type</th>\n",
       "      <th>tissue</th>\n",
       "      <th>cell line</th>\n",
       "      <th>LV434</th>\n",
       "    </tr>\n",
       "    <tr>\n",
       "      <th>project</th>\n",
       "      <th>run</th>\n",
       "      <th></th>\n",
       "      <th></th>\n",
       "      <th></th>\n",
       "      <th></th>\n",
       "    </tr>\n",
       "  </thead>\n",
       "  <tbody>\n",
       "    <tr>\n",
       "      <th rowspan=\"3\" valign=\"top\">SRP055569</th>\n",
       "      <th>SRR1821674</th>\n",
       "      <td>MCF10a human breast cancer cells</td>\n",
       "      <td>NaN</td>\n",
       "      <td>NaN</td>\n",
       "      <td>6.337569</td>\n",
       "    </tr>\n",
       "    <tr>\n",
       "      <th>SRR1821642</th>\n",
       "      <td>MCF10a human breast cancer cells</td>\n",
       "      <td>NaN</td>\n",
       "      <td>NaN</td>\n",
       "      <td>3.498340</td>\n",
       "    </tr>\n",
       "    <tr>\n",
       "      <th>SRR1821680</th>\n",
       "      <td>MCF10a human breast cancer cells</td>\n",
       "      <td>NaN</td>\n",
       "      <td>NaN</td>\n",
       "      <td>1.673847</td>\n",
       "    </tr>\n",
       "    <tr>\n",
       "      <th>SRP066834</th>\n",
       "      <th>SRR2967492</th>\n",
       "      <td>NaN</td>\n",
       "      <td>Microdissected cortical-like ventricle from ce...</td>\n",
       "      <td>NaN</td>\n",
       "      <td>0.868404</td>\n",
       "    </tr>\n",
       "    <tr>\n",
       "      <th rowspan=\"2\" valign=\"top\">SRP055569</th>\n",
       "      <th>SRR1821382</th>\n",
       "      <td>U87 human glioma cells</td>\n",
       "      <td>NaN</td>\n",
       "      <td>NaN</td>\n",
       "      <td>0.755420</td>\n",
       "    </tr>\n",
       "    <tr>\n",
       "      <th>SRR1821530</th>\n",
       "      <td>mixture of U87 human glioma cells and MCF10a h...</td>\n",
       "      <td>NaN</td>\n",
       "      <td>NaN</td>\n",
       "      <td>0.729293</td>\n",
       "    </tr>\n",
       "    <tr>\n",
       "      <th>SRP057196</th>\n",
       "      <th>SRR1974896</th>\n",
       "      <td>fetal_replicating</td>\n",
       "      <td>cortex</td>\n",
       "      <td>NaN</td>\n",
       "      <td>0.669457</td>\n",
       "    </tr>\n",
       "    <tr>\n",
       "      <th rowspan=\"5\" valign=\"top\">SRP055569</th>\n",
       "      <th>SRR1821602</th>\n",
       "      <td>mixture of U87 human glioma cells and MCF10a h...</td>\n",
       "      <td>NaN</td>\n",
       "      <td>NaN</td>\n",
       "      <td>0.637583</td>\n",
       "    </tr>\n",
       "    <tr>\n",
       "      <th>SRR1821511</th>\n",
       "      <td>mixture of U87 human glioma cells and MCF10a h...</td>\n",
       "      <td>NaN</td>\n",
       "      <td>NaN</td>\n",
       "      <td>0.508077</td>\n",
       "    </tr>\n",
       "    <tr>\n",
       "      <th>SRR1821374</th>\n",
       "      <td>U87 human glioma cells</td>\n",
       "      <td>NaN</td>\n",
       "      <td>NaN</td>\n",
       "      <td>0.463940</td>\n",
       "    </tr>\n",
       "    <tr>\n",
       "      <th>SRR2019033</th>\n",
       "      <td>U87 human glioma cells</td>\n",
       "      <td>NaN</td>\n",
       "      <td>NaN</td>\n",
       "      <td>0.459844</td>\n",
       "    </tr>\n",
       "    <tr>\n",
       "      <th>SRR1821710</th>\n",
       "      <td>MCF10a human breast cancer cells</td>\n",
       "      <td>NaN</td>\n",
       "      <td>NaN</td>\n",
       "      <td>0.442061</td>\n",
       "    </tr>\n",
       "    <tr>\n",
       "      <th>SRP042161</th>\n",
       "      <th>SRR1294611</th>\n",
       "      <td>Glioblastoma</td>\n",
       "      <td>NaN</td>\n",
       "      <td>NaN</td>\n",
       "      <td>0.441076</td>\n",
       "    </tr>\n",
       "    <tr>\n",
       "      <th>SRP055569</th>\n",
       "      <th>SRR1821470</th>\n",
       "      <td>mixture of U87 human glioma cells and MCF10a h...</td>\n",
       "      <td>NaN</td>\n",
       "      <td>NaN</td>\n",
       "      <td>0.430237</td>\n",
       "    </tr>\n",
       "    <tr>\n",
       "      <th>SRP033135</th>\n",
       "      <th>SRR1033244</th>\n",
       "      <td>Human Skeletal Muscle Myoblasts (HSMM)</td>\n",
       "      <td>NaN</td>\n",
       "      <td>NaN</td>\n",
       "      <td>0.428080</td>\n",
       "    </tr>\n",
       "    <tr>\n",
       "      <th>SRP055569</th>\n",
       "      <th>SRR1821464</th>\n",
       "      <td>mixture of U87 human glioma cells and MCF10a h...</td>\n",
       "      <td>NaN</td>\n",
       "      <td>NaN</td>\n",
       "      <td>0.426267</td>\n",
       "    </tr>\n",
       "    <tr>\n",
       "      <th>SRP024268</th>\n",
       "      <th>SRR886378</th>\n",
       "      <td>NaN</td>\n",
       "      <td>renal pelvis</td>\n",
       "      <td>NaN</td>\n",
       "      <td>0.423698</td>\n",
       "    </tr>\n",
       "    <tr>\n",
       "      <th rowspan=\"2\" valign=\"top\">SRP055569</th>\n",
       "      <th>SRR1821461</th>\n",
       "      <td>mixture of U87 human glioma cells and MCF10a h...</td>\n",
       "      <td>NaN</td>\n",
       "      <td>NaN</td>\n",
       "      <td>0.422648</td>\n",
       "    </tr>\n",
       "    <tr>\n",
       "      <th>SRR1821624</th>\n",
       "      <td>MCF10a human breast cancer cells</td>\n",
       "      <td>NaN</td>\n",
       "      <td>NaN</td>\n",
       "      <td>0.419157</td>\n",
       "    </tr>\n",
       "    <tr>\n",
       "      <th>SRP059775</th>\n",
       "      <th>SRR2074919</th>\n",
       "      <td>NaN</td>\n",
       "      <td>NaN</td>\n",
       "      <td>HEK and 3T3 mix</td>\n",
       "      <td>0.406059</td>\n",
       "    </tr>\n",
       "    <tr>\n",
       "      <th>SRP022892</th>\n",
       "      <th>SRR857933</th>\n",
       "      <td>NaN</td>\n",
       "      <td>NaN</td>\n",
       "      <td>HEK293</td>\n",
       "      <td>0.398570</td>\n",
       "    </tr>\n",
       "    <tr>\n",
       "      <th rowspan=\"4\" valign=\"top\">SRP055569</th>\n",
       "      <th>SRR2018988</th>\n",
       "      <td>MCF10a human breast cancer cells</td>\n",
       "      <td>NaN</td>\n",
       "      <td>NaN</td>\n",
       "      <td>0.373675</td>\n",
       "    </tr>\n",
       "    <tr>\n",
       "      <th>SRR1821633</th>\n",
       "      <td>MCF10a human breast cancer cells</td>\n",
       "      <td>NaN</td>\n",
       "      <td>NaN</td>\n",
       "      <td>0.371590</td>\n",
       "    </tr>\n",
       "    <tr>\n",
       "      <th>SRR1821476</th>\n",
       "      <td>mixture of U87 human glioma cells and MCF10a h...</td>\n",
       "      <td>NaN</td>\n",
       "      <td>NaN</td>\n",
       "      <td>0.339982</td>\n",
       "    </tr>\n",
       "    <tr>\n",
       "      <th>SRR1821659</th>\n",
       "      <td>MCF10a human breast cancer cells</td>\n",
       "      <td>NaN</td>\n",
       "      <td>NaN</td>\n",
       "      <td>0.327862</td>\n",
       "    </tr>\n",
       "  </tbody>\n",
       "</table>\n",
       "</div>"
      ],
      "text/plain": [
       "                                                              cell type  \\\n",
       "project   run                                                             \n",
       "SRP055569 SRR1821674                   MCF10a human breast cancer cells   \n",
       "          SRR1821642                   MCF10a human breast cancer cells   \n",
       "          SRR1821680                   MCF10a human breast cancer cells   \n",
       "SRP066834 SRR2967492                                                NaN   \n",
       "SRP055569 SRR1821382                             U87 human glioma cells   \n",
       "          SRR1821530  mixture of U87 human glioma cells and MCF10a h...   \n",
       "SRP057196 SRR1974896                                  fetal_replicating   \n",
       "SRP055569 SRR1821602  mixture of U87 human glioma cells and MCF10a h...   \n",
       "          SRR1821511  mixture of U87 human glioma cells and MCF10a h...   \n",
       "          SRR1821374                             U87 human glioma cells   \n",
       "          SRR2019033                             U87 human glioma cells   \n",
       "          SRR1821710                   MCF10a human breast cancer cells   \n",
       "SRP042161 SRR1294611                                       Glioblastoma   \n",
       "SRP055569 SRR1821470  mixture of U87 human glioma cells and MCF10a h...   \n",
       "SRP033135 SRR1033244             Human Skeletal Muscle Myoblasts (HSMM)   \n",
       "SRP055569 SRR1821464  mixture of U87 human glioma cells and MCF10a h...   \n",
       "SRP024268 SRR886378                                                 NaN   \n",
       "SRP055569 SRR1821461  mixture of U87 human glioma cells and MCF10a h...   \n",
       "          SRR1821624                   MCF10a human breast cancer cells   \n",
       "SRP059775 SRR2074919                                                NaN   \n",
       "SRP022892 SRR857933                                                 NaN   \n",
       "SRP055569 SRR2018988                   MCF10a human breast cancer cells   \n",
       "          SRR1821633                   MCF10a human breast cancer cells   \n",
       "          SRR1821476  mixture of U87 human glioma cells and MCF10a h...   \n",
       "          SRR1821659                   MCF10a human breast cancer cells   \n",
       "\n",
       "                                                                 tissue  \\\n",
       "project   run                                                             \n",
       "SRP055569 SRR1821674                                                NaN   \n",
       "          SRR1821642                                                NaN   \n",
       "          SRR1821680                                                NaN   \n",
       "SRP066834 SRR2967492  Microdissected cortical-like ventricle from ce...   \n",
       "SRP055569 SRR1821382                                                NaN   \n",
       "          SRR1821530                                                NaN   \n",
       "SRP057196 SRR1974896                                             cortex   \n",
       "SRP055569 SRR1821602                                                NaN   \n",
       "          SRR1821511                                                NaN   \n",
       "          SRR1821374                                                NaN   \n",
       "          SRR2019033                                                NaN   \n",
       "          SRR1821710                                                NaN   \n",
       "SRP042161 SRR1294611                                                NaN   \n",
       "SRP055569 SRR1821470                                                NaN   \n",
       "SRP033135 SRR1033244                                                NaN   \n",
       "SRP055569 SRR1821464                                                NaN   \n",
       "SRP024268 SRR886378                                        renal pelvis   \n",
       "SRP055569 SRR1821461                                                NaN   \n",
       "          SRR1821624                                                NaN   \n",
       "SRP059775 SRR2074919                                                NaN   \n",
       "SRP022892 SRR857933                                                 NaN   \n",
       "SRP055569 SRR2018988                                                NaN   \n",
       "          SRR1821633                                                NaN   \n",
       "          SRR1821476                                                NaN   \n",
       "          SRR1821659                                                NaN   \n",
       "\n",
       "                            cell line     LV434  \n",
       "project   run                                    \n",
       "SRP055569 SRR1821674              NaN  6.337569  \n",
       "          SRR1821642              NaN  3.498340  \n",
       "          SRR1821680              NaN  1.673847  \n",
       "SRP066834 SRR2967492              NaN  0.868404  \n",
       "SRP055569 SRR1821382              NaN  0.755420  \n",
       "          SRR1821530              NaN  0.729293  \n",
       "SRP057196 SRR1974896              NaN  0.669457  \n",
       "SRP055569 SRR1821602              NaN  0.637583  \n",
       "          SRR1821511              NaN  0.508077  \n",
       "          SRR1821374              NaN  0.463940  \n",
       "          SRR2019033              NaN  0.459844  \n",
       "          SRR1821710              NaN  0.442061  \n",
       "SRP042161 SRR1294611              NaN  0.441076  \n",
       "SRP055569 SRR1821470              NaN  0.430237  \n",
       "SRP033135 SRR1033244              NaN  0.428080  \n",
       "SRP055569 SRR1821464              NaN  0.426267  \n",
       "SRP024268 SRR886378               NaN  0.423698  \n",
       "SRP055569 SRR1821461              NaN  0.422648  \n",
       "          SRR1821624              NaN  0.419157  \n",
       "SRP059775 SRR2074919  HEK and 3T3 mix  0.406059  \n",
       "SRP022892 SRR857933            HEK293  0.398570  \n",
       "SRP055569 SRR2018988              NaN  0.373675  \n",
       "          SRR1821633              NaN  0.371590  \n",
       "          SRR1821476              NaN  0.339982  \n",
       "          SRR1821659              NaN  0.327862  "
      ]
     },
     "execution_count": 25,
     "metadata": {},
     "output_type": "execute_result"
    }
   ],
   "source": [
    "_tmp_seq[0]"
   ]
  },
  {
   "cell_type": "code",
   "execution_count": 26,
   "id": "atomic-wheat",
   "metadata": {},
   "outputs": [
    {
     "data": {
      "text/html": [
       "<div>\n",
       "<style scoped>\n",
       "    .dataframe tbody tr th:only-of-type {\n",
       "        vertical-align: middle;\n",
       "    }\n",
       "\n",
       "    .dataframe tbody tr th {\n",
       "        vertical-align: top;\n",
       "    }\n",
       "\n",
       "    .dataframe thead th {\n",
       "        text-align: right;\n",
       "    }\n",
       "</style>\n",
       "<table border=\"1\" class=\"dataframe\">\n",
       "  <thead>\n",
       "    <tr style=\"text-align: right;\">\n",
       "      <th></th>\n",
       "      <th></th>\n",
       "      <th>cell line</th>\n",
       "      <th>antibody</th>\n",
       "      <th>culture medium</th>\n",
       "      <th>LV434</th>\n",
       "    </tr>\n",
       "    <tr>\n",
       "      <th>project</th>\n",
       "      <th>run</th>\n",
       "      <th></th>\n",
       "      <th></th>\n",
       "      <th></th>\n",
       "      <th></th>\n",
       "    </tr>\n",
       "  </thead>\n",
       "  <tbody>\n",
       "    <tr>\n",
       "      <th>SRP059775</th>\n",
       "      <th>SRR2074919</th>\n",
       "      <td>HEK and 3T3 mix</td>\n",
       "      <td>NaN</td>\n",
       "      <td>NaN</td>\n",
       "      <td>0.406059</td>\n",
       "    </tr>\n",
       "    <tr>\n",
       "      <th>SRP022892</th>\n",
       "      <th>SRR857933</th>\n",
       "      <td>HEK293</td>\n",
       "      <td>FLAG</td>\n",
       "      <td>DMEM</td>\n",
       "      <td>0.398570</td>\n",
       "    </tr>\n",
       "    <tr>\n",
       "      <th rowspan=\"5\" valign=\"top\">SRP059775</th>\n",
       "      <th>SRR2074920</th>\n",
       "      <td>HEK and 3T3 mix</td>\n",
       "      <td>NaN</td>\n",
       "      <td>NaN</td>\n",
       "      <td>0.239659</td>\n",
       "    </tr>\n",
       "    <tr>\n",
       "      <th>SRR2074918</th>\n",
       "      <td>HEK and 3T3 mix</td>\n",
       "      <td>NaN</td>\n",
       "      <td>NaN</td>\n",
       "      <td>0.056741</td>\n",
       "    </tr>\n",
       "    <tr>\n",
       "      <th>SRR2074823</th>\n",
       "      <td>HEK and 3T3 mix</td>\n",
       "      <td>NaN</td>\n",
       "      <td>NaN</td>\n",
       "      <td>0.052769</td>\n",
       "    </tr>\n",
       "    <tr>\n",
       "      <th>SRR2074767</th>\n",
       "      <td>HEK and 3T3 mix</td>\n",
       "      <td>NaN</td>\n",
       "      <td>NaN</td>\n",
       "      <td>0.046659</td>\n",
       "    </tr>\n",
       "    <tr>\n",
       "      <th>SRR2074853</th>\n",
       "      <td>HEK and 3T3 mix</td>\n",
       "      <td>NaN</td>\n",
       "      <td>NaN</td>\n",
       "      <td>0.046613</td>\n",
       "    </tr>\n",
       "    <tr>\n",
       "      <th>SRP022892</th>\n",
       "      <th>SRR857934</th>\n",
       "      <td>HEK293</td>\n",
       "      <td>FLAG</td>\n",
       "      <td>DMEM</td>\n",
       "      <td>0.044777</td>\n",
       "    </tr>\n",
       "    <tr>\n",
       "      <th rowspan=\"2\" valign=\"top\">SRP059775</th>\n",
       "      <th>SRR2074780</th>\n",
       "      <td>HEK and 3T3 mix</td>\n",
       "      <td>NaN</td>\n",
       "      <td>NaN</td>\n",
       "      <td>0.043345</td>\n",
       "    </tr>\n",
       "    <tr>\n",
       "      <th>SRR2074850</th>\n",
       "      <td>HEK and 3T3 mix</td>\n",
       "      <td>NaN</td>\n",
       "      <td>NaN</td>\n",
       "      <td>0.042145</td>\n",
       "    </tr>\n",
       "  </tbody>\n",
       "</table>\n",
       "</div>"
      ],
      "text/plain": [
       "                            cell line antibody culture medium     LV434\n",
       "project   run                                                          \n",
       "SRP059775 SRR2074919  HEK and 3T3 mix      NaN            NaN  0.406059\n",
       "SRP022892 SRR857933            HEK293     FLAG           DMEM  0.398570\n",
       "SRP059775 SRR2074920  HEK and 3T3 mix      NaN            NaN  0.239659\n",
       "          SRR2074918  HEK and 3T3 mix      NaN            NaN  0.056741\n",
       "          SRR2074823  HEK and 3T3 mix      NaN            NaN  0.052769\n",
       "          SRR2074767  HEK and 3T3 mix      NaN            NaN  0.046659\n",
       "          SRR2074853  HEK and 3T3 mix      NaN            NaN  0.046613\n",
       "SRP022892 SRR857934            HEK293     FLAG           DMEM  0.044777\n",
       "SRP059775 SRR2074780  HEK and 3T3 mix      NaN            NaN  0.043345\n",
       "          SRR2074850  HEK and 3T3 mix      NaN            NaN  0.042145"
      ]
     },
     "execution_count": 26,
     "metadata": {},
     "output_type": "execute_result"
    }
   ],
   "source": [
    "# what is there in these projects?\n",
    "lv_data.loc[[\"SRP059775\", \"SRP022892\"]].dropna(how=\"all\", axis=1).sort_values(\n",
    "    LV_NAME, ascending=False\n",
    ").sort_values(LV_NAME, ascending=False).head(10)"
   ]
  },
  {
   "cell_type": "markdown",
   "id": "thousand-buffer",
   "metadata": {},
   "source": [
    "**HEK** are kidney cells, and **3T3** are embryonic fibroblasts."
   ]
  },
  {
   "cell_type": "code",
   "execution_count": 27,
   "id": "detailed-assessment",
   "metadata": {},
   "outputs": [],
   "source": [
    "SELECTED_ATTRIBUTE = \"cell type\""
   ]
  },
  {
   "cell_type": "code",
   "execution_count": 28,
   "id": "plastic-purchase",
   "metadata": {},
   "outputs": [],
   "source": [
    "# it has to be in the order desired for filling nans in the SELECTED_ATTRIBUTE\n",
    "SECOND_ATTRIBUTES = [\"tissue\", \"cell line\"]"
   ]
  },
  {
   "cell_type": "markdown",
   "id": "naughty-violation",
   "metadata": {},
   "source": [
    "## Get plot data"
   ]
  },
  {
   "cell_type": "code",
   "execution_count": 29,
   "id": "basic-authorization",
   "metadata": {},
   "outputs": [],
   "source": [
    "plot_data = lv_data.loc[:, [SELECTED_ATTRIBUTE] + SECOND_ATTRIBUTES + [LV_NAME]]"
   ]
  },
  {
   "cell_type": "code",
   "execution_count": 30,
   "id": "julian-islam",
   "metadata": {},
   "outputs": [],
   "source": [
    "# if blank/nan, fill cell type column with tissue content\n",
    "_new_column = plot_data[[SELECTED_ATTRIBUTE] + SECOND_ATTRIBUTES].fillna(\n",
    "    method=\"backfill\", axis=1\n",
    ")[SELECTED_ATTRIBUTE]\n",
    "plot_data[SELECTED_ATTRIBUTE] = _new_column\n",
    "plot_data = plot_data.drop(columns=SECOND_ATTRIBUTES)\n",
    "plot_data = plot_data.fillna({SELECTED_ATTRIBUTE: \"NOT CATEGORIZED\"})\n",
    "# plot_data = plot_data.dropna(subset=[SELECTED_ATTRIBUTE])"
   ]
  },
  {
   "cell_type": "code",
   "execution_count": 31,
   "id": "authentic-oracle",
   "metadata": {},
   "outputs": [],
   "source": [
    "plot_data = plot_data.sort_values(LV_NAME, ascending=False)"
   ]
  },
  {
   "cell_type": "code",
   "execution_count": 32,
   "id": "heavy-services",
   "metadata": {},
   "outputs": [
    {
     "data": {
      "text/html": [
       "<div>\n",
       "<style scoped>\n",
       "    .dataframe tbody tr th:only-of-type {\n",
       "        vertical-align: middle;\n",
       "    }\n",
       "\n",
       "    .dataframe tbody tr th {\n",
       "        vertical-align: top;\n",
       "    }\n",
       "\n",
       "    .dataframe thead th {\n",
       "        text-align: right;\n",
       "    }\n",
       "</style>\n",
       "<table border=\"1\" class=\"dataframe\">\n",
       "  <thead>\n",
       "    <tr style=\"text-align: right;\">\n",
       "      <th></th>\n",
       "      <th></th>\n",
       "      <th>cell type</th>\n",
       "      <th>LV434</th>\n",
       "    </tr>\n",
       "    <tr>\n",
       "      <th>project</th>\n",
       "      <th>run</th>\n",
       "      <th></th>\n",
       "      <th></th>\n",
       "    </tr>\n",
       "  </thead>\n",
       "  <tbody>\n",
       "    <tr>\n",
       "      <th rowspan=\"3\" valign=\"top\">SRP055569</th>\n",
       "      <th>SRR1821674</th>\n",
       "      <td>MCF10a human breast cancer cells</td>\n",
       "      <td>6.337569</td>\n",
       "    </tr>\n",
       "    <tr>\n",
       "      <th>SRR1821642</th>\n",
       "      <td>MCF10a human breast cancer cells</td>\n",
       "      <td>3.498340</td>\n",
       "    </tr>\n",
       "    <tr>\n",
       "      <th>SRR1821680</th>\n",
       "      <td>MCF10a human breast cancer cells</td>\n",
       "      <td>1.673847</td>\n",
       "    </tr>\n",
       "    <tr>\n",
       "      <th>SRP066834</th>\n",
       "      <th>SRR2967492</th>\n",
       "      <td>Microdissected cortical-like ventricle from ce...</td>\n",
       "      <td>0.868404</td>\n",
       "    </tr>\n",
       "    <tr>\n",
       "      <th rowspan=\"2\" valign=\"top\">SRP055569</th>\n",
       "      <th>SRR1821382</th>\n",
       "      <td>U87 human glioma cells</td>\n",
       "      <td>0.755420</td>\n",
       "    </tr>\n",
       "    <tr>\n",
       "      <th>SRR1821530</th>\n",
       "      <td>mixture of U87 human glioma cells and MCF10a h...</td>\n",
       "      <td>0.729293</td>\n",
       "    </tr>\n",
       "    <tr>\n",
       "      <th>SRP057196</th>\n",
       "      <th>SRR1974896</th>\n",
       "      <td>fetal_replicating</td>\n",
       "      <td>0.669457</td>\n",
       "    </tr>\n",
       "    <tr>\n",
       "      <th rowspan=\"5\" valign=\"top\">SRP055569</th>\n",
       "      <th>SRR1821602</th>\n",
       "      <td>mixture of U87 human glioma cells and MCF10a h...</td>\n",
       "      <td>0.637583</td>\n",
       "    </tr>\n",
       "    <tr>\n",
       "      <th>SRR1821511</th>\n",
       "      <td>mixture of U87 human glioma cells and MCF10a h...</td>\n",
       "      <td>0.508077</td>\n",
       "    </tr>\n",
       "    <tr>\n",
       "      <th>SRR1821374</th>\n",
       "      <td>U87 human glioma cells</td>\n",
       "      <td>0.463940</td>\n",
       "    </tr>\n",
       "    <tr>\n",
       "      <th>SRR2019033</th>\n",
       "      <td>U87 human glioma cells</td>\n",
       "      <td>0.459844</td>\n",
       "    </tr>\n",
       "    <tr>\n",
       "      <th>SRR1821710</th>\n",
       "      <td>MCF10a human breast cancer cells</td>\n",
       "      <td>0.442061</td>\n",
       "    </tr>\n",
       "    <tr>\n",
       "      <th>SRP042161</th>\n",
       "      <th>SRR1294611</th>\n",
       "      <td>Glioblastoma</td>\n",
       "      <td>0.441076</td>\n",
       "    </tr>\n",
       "    <tr>\n",
       "      <th>SRP055569</th>\n",
       "      <th>SRR1821470</th>\n",
       "      <td>mixture of U87 human glioma cells and MCF10a h...</td>\n",
       "      <td>0.430237</td>\n",
       "    </tr>\n",
       "    <tr>\n",
       "      <th>SRP033135</th>\n",
       "      <th>SRR1033244</th>\n",
       "      <td>Human Skeletal Muscle Myoblasts (HSMM)</td>\n",
       "      <td>0.428080</td>\n",
       "    </tr>\n",
       "    <tr>\n",
       "      <th>SRP055569</th>\n",
       "      <th>SRR1821464</th>\n",
       "      <td>mixture of U87 human glioma cells and MCF10a h...</td>\n",
       "      <td>0.426267</td>\n",
       "    </tr>\n",
       "    <tr>\n",
       "      <th>SRP024268</th>\n",
       "      <th>SRR886378</th>\n",
       "      <td>renal pelvis</td>\n",
       "      <td>0.423698</td>\n",
       "    </tr>\n",
       "    <tr>\n",
       "      <th rowspan=\"2\" valign=\"top\">SRP055569</th>\n",
       "      <th>SRR1821461</th>\n",
       "      <td>mixture of U87 human glioma cells and MCF10a h...</td>\n",
       "      <td>0.422648</td>\n",
       "    </tr>\n",
       "    <tr>\n",
       "      <th>SRR1821624</th>\n",
       "      <td>MCF10a human breast cancer cells</td>\n",
       "      <td>0.419157</td>\n",
       "    </tr>\n",
       "    <tr>\n",
       "      <th>SRP059775</th>\n",
       "      <th>SRR2074919</th>\n",
       "      <td>HEK and 3T3 mix</td>\n",
       "      <td>0.406059</td>\n",
       "    </tr>\n",
       "  </tbody>\n",
       "</table>\n",
       "</div>"
      ],
      "text/plain": [
       "                                                              cell type  \\\n",
       "project   run                                                             \n",
       "SRP055569 SRR1821674                   MCF10a human breast cancer cells   \n",
       "          SRR1821642                   MCF10a human breast cancer cells   \n",
       "          SRR1821680                   MCF10a human breast cancer cells   \n",
       "SRP066834 SRR2967492  Microdissected cortical-like ventricle from ce...   \n",
       "SRP055569 SRR1821382                             U87 human glioma cells   \n",
       "          SRR1821530  mixture of U87 human glioma cells and MCF10a h...   \n",
       "SRP057196 SRR1974896                                  fetal_replicating   \n",
       "SRP055569 SRR1821602  mixture of U87 human glioma cells and MCF10a h...   \n",
       "          SRR1821511  mixture of U87 human glioma cells and MCF10a h...   \n",
       "          SRR1821374                             U87 human glioma cells   \n",
       "          SRR2019033                             U87 human glioma cells   \n",
       "          SRR1821710                   MCF10a human breast cancer cells   \n",
       "SRP042161 SRR1294611                                       Glioblastoma   \n",
       "SRP055569 SRR1821470  mixture of U87 human glioma cells and MCF10a h...   \n",
       "SRP033135 SRR1033244             Human Skeletal Muscle Myoblasts (HSMM)   \n",
       "SRP055569 SRR1821464  mixture of U87 human glioma cells and MCF10a h...   \n",
       "SRP024268 SRR886378                                        renal pelvis   \n",
       "SRP055569 SRR1821461  mixture of U87 human glioma cells and MCF10a h...   \n",
       "          SRR1821624                   MCF10a human breast cancer cells   \n",
       "SRP059775 SRR2074919                                    HEK and 3T3 mix   \n",
       "\n",
       "                         LV434  \n",
       "project   run                   \n",
       "SRP055569 SRR1821674  6.337569  \n",
       "          SRR1821642  3.498340  \n",
       "          SRR1821680  1.673847  \n",
       "SRP066834 SRR2967492  0.868404  \n",
       "SRP055569 SRR1821382  0.755420  \n",
       "          SRR1821530  0.729293  \n",
       "SRP057196 SRR1974896  0.669457  \n",
       "SRP055569 SRR1821602  0.637583  \n",
       "          SRR1821511  0.508077  \n",
       "          SRR1821374  0.463940  \n",
       "          SRR2019033  0.459844  \n",
       "          SRR1821710  0.442061  \n",
       "SRP042161 SRR1294611  0.441076  \n",
       "SRP055569 SRR1821470  0.430237  \n",
       "SRP033135 SRR1033244  0.428080  \n",
       "SRP055569 SRR1821464  0.426267  \n",
       "SRP024268 SRR886378   0.423698  \n",
       "SRP055569 SRR1821461  0.422648  \n",
       "          SRR1821624  0.419157  \n",
       "SRP059775 SRR2074919  0.406059  "
      ]
     },
     "execution_count": 32,
     "metadata": {},
     "output_type": "execute_result"
    }
   ],
   "source": [
    "plot_data.head(20)"
   ]
  },
  {
   "cell_type": "markdown",
   "id": "preceding-prince",
   "metadata": {},
   "source": [
    "## Customize x-axis values"
   ]
  },
  {
   "cell_type": "markdown",
   "id": "homeless-harvey",
   "metadata": {},
   "source": [
    "When cell type values are not very clear, customize their names by looking at their specific studies to know exactly what the authors meant."
   ]
  },
  {
   "cell_type": "code",
   "execution_count": 33,
   "id": "billion-divorce",
   "metadata": {},
   "outputs": [],
   "source": [
    "final_plot_data = plot_data.replace(\n",
    "    {\n",
    "        SELECTED_ATTRIBUTE: {\n",
    "            # SRP057196\n",
    "            \"fetal_replicating\": \"Fetal neurons (replicating)\",\n",
    "            \"fetal_quiescent\": \"Fetal neurons (quiescent)\",\n",
    "            # SRP006970\n",
    "            \"glioblastoma\": \"Glioblastoma\",\n",
    "            # SRP055569\n",
    "            \"mixture of U87 human glioma cells and WI-38 human lung fibroblast cells\": \"Glioma cells + lung fibroblast cells\",\n",
    "            \"mixture of U87 human glioma cells and MCF10a human breast cancer cells\": \"Glioma cells + breast cancer cells\",\n",
    "        }\n",
    "    }\n",
    ")"
   ]
  },
  {
   "cell_type": "code",
   "execution_count": 34,
   "id": "frozen-banner",
   "metadata": {},
   "outputs": [],
   "source": [
    "# all samples from SRP057196 are from brain\n",
    "final_plot_data[SELECTED_ATTRIBUTE] = final_plot_data.apply(\n",
    "    lambda x: f\"{x['cell type']} (brain)\"\n",
    "    if x.name[0] == \"SRP057196\"\n",
    "    else x[\"cell type\"],\n",
    "    axis=1,\n",
    ")"
   ]
  },
  {
   "cell_type": "code",
   "execution_count": 35,
   "id": "exciting-provincial",
   "metadata": {},
   "outputs": [],
   "source": [
    "# take the top samples only\n",
    "final_plot_data = final_plot_data.sort_values(LV_NAME, ascending=False)[:N_TOP_SAMPLES]"
   ]
  },
  {
   "cell_type": "markdown",
   "id": "reduced-journalist",
   "metadata": {},
   "source": [
    "## Threshold LV values"
   ]
  },
  {
   "cell_type": "code",
   "execution_count": 36,
   "id": "agreed-thomas",
   "metadata": {},
   "outputs": [],
   "source": [
    "final_plot_data.loc[\n",
    "    final_plot_data[LV_NAME] > LV_AXIS_THRESHOLD, LV_NAME\n",
    "] = LV_AXIS_THRESHOLD"
   ]
  },
  {
   "cell_type": "markdown",
   "id": "centered-chapter",
   "metadata": {},
   "source": [
    "## Delete samples with no tissue/cell type information"
   ]
  },
  {
   "cell_type": "code",
   "execution_count": 37,
   "id": "violent-magazine",
   "metadata": {},
   "outputs": [],
   "source": [
    "final_plot_data = final_plot_data[\n",
    "    final_plot_data[SELECTED_ATTRIBUTE] != \"NOT CATEGORIZED\"\n",
    "]"
   ]
  },
  {
   "cell_type": "markdown",
   "id": "ultimate-cycling",
   "metadata": {},
   "source": [
    "## Set x-axis order"
   ]
  },
  {
   "cell_type": "code",
   "execution_count": 38,
   "id": "olympic-mistake",
   "metadata": {},
   "outputs": [],
   "source": [
    "attr_order = (\n",
    "    final_plot_data.groupby(SELECTED_ATTRIBUTE)\n",
    "    .max()\n",
    "    .sort_values(LV_NAME, ascending=False)\n",
    "    .index[:N_TOP_ATTRS]\n",
    "    .tolist()\n",
    ")"
   ]
  },
  {
   "cell_type": "code",
   "execution_count": 39,
   "id": "adopted-determination",
   "metadata": {},
   "outputs": [
    {
     "data": {
      "text/plain": [
       "25"
      ]
     },
     "execution_count": 39,
     "metadata": {},
     "output_type": "execute_result"
    }
   ],
   "source": [
    "len(attr_order)"
   ]
  },
  {
   "cell_type": "code",
   "execution_count": 40,
   "id": "fifth-bangladesh",
   "metadata": {},
   "outputs": [
    {
     "data": {
      "text/plain": [
       "['MCF10a human breast cancer cells',\n",
       " 'Microdissected cortical-like ventricle from cerebral organoid',\n",
       " 'U87 human glioma cells',\n",
       " 'Glioma cells + breast cancer cells',\n",
       " 'Fetal neurons (replicating) (brain)']"
      ]
     },
     "execution_count": 40,
     "metadata": {},
     "output_type": "execute_result"
    }
   ],
   "source": [
    "attr_order[:5]"
   ]
  },
  {
   "cell_type": "markdown",
   "id": "offshore-election",
   "metadata": {},
   "source": [
    "## Plot"
   ]
  },
  {
   "cell_type": "code",
   "execution_count": 41,
   "id": "valid-heather",
   "metadata": {},
   "outputs": [
    {
     "data": {
      "image/png": "[encoded data removed]",
      "text/plain": [
       "<Figure size 1080x360 with 1 Axes>"
      ]
     },
     "metadata": {},
     "output_type": "display_data"
    }
   ],
   "source": [
    "with sns.plotting_context(\"paper\", font_scale=1.5), sns.axes_style(\"whitegrid\"):\n",
    "    sns.catplot(\n",
    "        data=final_plot_data,\n",
    "        y=LV_NAME,\n",
    "        x=SELECTED_ATTRIBUTE,\n",
    "        order=attr_order,\n",
    "        kind=\"strip\",\n",
    "        height=5,\n",
    "        aspect=3,\n",
    "    )\n",
    "    plt.xticks(rotation=45, horizontalalignment=\"right\")\n",
    "\n",
    "    plt.savefig(\n",
    "        OUTPUT_CELL_TYPE_FILEPATH,\n",
    "        bbox_inches=\"tight\",\n",
    "        facecolor=\"white\",\n",
    "    )"
   ]
  },
  {
   "cell_type": "markdown",
   "id": "hourly-label",
   "metadata": {},
   "source": [
    "# Debug"
   ]
  },
  {
   "cell_type": "code",
   "execution_count": 42,
   "id": "associate-spank",
   "metadata": {},
   "outputs": [],
   "source": [
    "# with pd.option_context(\n",
    "#     \"display.max_rows\", None, \"display.max_columns\", None, \"display.max_colwidth\", None\n",
    "# ):\n",
    "#     _tmp = final_plot_data[final_plot_data[SELECTED_ATTRIBUTE].str.contains(\"293T\")]\n",
    "#     display(_tmp.head(20))"
   ]
  },
  {
   "cell_type": "code",
   "execution_count": 43,
   "id": "focused-education",
   "metadata": {},
   "outputs": [],
   "source": [
    "# # what is there in these projects?\n",
    "# lv_data.loc[[\"SRP010279\"]].dropna(how=\"all\", axis=1).sort_values(\n",
    "#     LV_NAME, ascending=False\n",
    "# ).head(60)"
   ]
  },
  {
   "cell_type": "code",
   "execution_count": null,
   "id": "taken-boundary",
   "metadata": {},
   "outputs": [],
   "source": []
  }
 ],
 "metadata": {
  "jupytext": {
   "cell_metadata_filter": "all,-execution,-papermill,-trusted",
   "formats": "ipynb,py//py:percent"
  },
  "kernelspec": {
   "display_name": "Python 3",
   "language": "python",
   "name": "python3"
  },
  "language_info": {
   "codemirror_mode": {
    "name": "ipython",
    "version": 3
   },
   "file_extension": ".py",
   "mimetype": "text/x-python",
   "name": "python",
   "nbconvert_exporter": "python",
   "pygments_lexer": "ipython3",
   "version": "3.8.8"
  }
 },
 "nbformat": 4,
 "nbformat_minor": 5
}
