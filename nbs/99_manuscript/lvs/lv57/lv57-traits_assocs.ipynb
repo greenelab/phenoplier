{
 "cells": [
  {
   "cell_type": "markdown",
   "id": "computational-shock",
   "metadata": {
    "papermill": {
     "duration": 0.006593,
     "end_time": "2021-05-11T19:09:55.733221",
     "exception": false,
     "start_time": "2021-05-11T19:09:55.726628",
     "status": "completed"
    },
    "tags": []
   },
   "source": [
    "# Description"
   ]
  },
  {
   "cell_type": "markdown",
   "id": "imperial-daniel",
   "metadata": {
    "papermill": {
     "duration": 0.00668,
     "end_time": "2021-05-11T19:09:55.745410",
     "exception": false,
     "start_time": "2021-05-11T19:09:55.738730",
     "status": "completed"
    },
    "tags": []
   },
   "source": [
    "Generates manubot tables for PhenomeXcan and eMERGE associations given an LV name (which is the only parameter that needs to be specified in the Settings section below)."
   ]
  },
  {
   "cell_type": "markdown",
   "id": "advisory-therapy",
   "metadata": {
    "papermill": {
     "duration": 0.006223,
     "end_time": "2021-05-11T19:09:55.756959",
     "exception": false,
     "start_time": "2021-05-11T19:09:55.750736",
     "status": "completed"
    },
    "tags": []
   },
   "source": [
    "# Modules loading"
   ]
  },
  {
   "cell_type": "code",
   "execution_count": 1,
   "id": "eastern-invalid",
   "metadata": {
    "papermill": {
     "duration": 0.01906,
     "end_time": "2021-05-11T19:09:55.781515",
     "exception": false,
     "start_time": "2021-05-11T19:09:55.762455",
     "status": "completed"
    },
    "tags": []
   },
   "outputs": [],
   "source": [
    "%load_ext autoreload\n",
    "%autoreload 2"
   ]
  },
  {
   "cell_type": "code",
   "execution_count": 2,
   "id": "rubber-shelter",
   "metadata": {
    "papermill": {
     "duration": 0.993432,
     "end_time": "2021-05-11T19:09:56.780403",
     "exception": false,
     "start_time": "2021-05-11T19:09:55.786971",
     "status": "completed"
    },
    "tags": []
   },
   "outputs": [],
   "source": [
    "import re\n",
    "from pathlib import Path\n",
    "\n",
    "import pandas as pd\n",
    "\n",
    "from entity import Trait\n",
    "import conf"
   ]
  },
  {
   "cell_type": "markdown",
   "id": "convenient-timber",
   "metadata": {
    "papermill": {
     "duration": 0.005973,
     "end_time": "2021-05-11T19:09:56.792495",
     "exception": false,
     "start_time": "2021-05-11T19:09:56.786522",
     "status": "completed"
    },
    "tags": []
   },
   "source": [
    "# Settings"
   ]
  },
  {
   "cell_type": "code",
   "execution_count": 3,
   "id": "offshore-camcorder",
   "metadata": {
    "papermill": {
     "duration": 0.019548,
     "end_time": "2021-05-11T19:09:56.817689",
     "exception": false,
     "start_time": "2021-05-11T19:09:56.798141",
     "status": "completed"
    },
    "tags": [
     "parameters"
    ]
   },
   "outputs": [],
   "source": [
    "LV_NAME = \"LV57\""
   ]
  },
  {
   "cell_type": "code",
   "execution_count": 4,
   "id": "minor-salmon",
   "metadata": {},
   "outputs": [
    {
     "data": {
      "text/plain": [
       "PosixPath('/opt/manuscript/content/50.00.supplementary_material.md')"
      ]
     },
     "metadata": {},
     "output_type": "display_data"
    }
   ],
   "source": [
    "assert (\n",
    "    conf.MANUSCRIPT[\"BASE_DIR\"] is not None\n",
    "), \"The manuscript directory was not configured\"\n",
    "\n",
    "OUTPUT_FILE_PATH = conf.MANUSCRIPT[\"CONTENT_DIR\"] / \"50.00.supplementary_material.md\"\n",
    "display(OUTPUT_FILE_PATH)\n",
    "assert OUTPUT_FILE_PATH.exists()"
   ]
  },
  {
   "cell_type": "code",
   "execution_count": 5,
   "id": "verified-indication",
   "metadata": {},
   "outputs": [],
   "source": [
    "# result_set is either phenomexcan or emerge\n",
    "LV_FILE_MARK_TEMPLATE = \"<!-- {lv}:{result_set}_traits_assocs:{position} -->\""
   ]
  },
  {
   "cell_type": "code",
   "execution_count": 6,
   "id": "clinical-function",
   "metadata": {},
   "outputs": [],
   "source": [
    "TABLE_CAPTION = \"Table: Significant trait associations of {lv_name} in {result_set_name}. {table_id}\""
   ]
  },
  {
   "cell_type": "code",
   "execution_count": 7,
   "id": "excited-radiation",
   "metadata": {},
   "outputs": [],
   "source": [
    "TABLE_CAPTION_ID = \"#tbl:sup:{result_set}_assocs:{lv_name_lower_case}\""
   ]
  },
  {
   "cell_type": "code",
   "execution_count": 8,
   "id": "announced-parish",
   "metadata": {},
   "outputs": [],
   "source": [
    "RESULT_SET_NAMES = {\n",
    "    \"phenomexcan\": \"PhenomeXcan\",\n",
    "    \"emerge\": \"eMERGE\",\n",
    "}"
   ]
  },
  {
   "cell_type": "markdown",
   "id": "thirty-turkish",
   "metadata": {
    "papermill": {
     "duration": 0.006007,
     "end_time": "2021-05-11T19:09:56.949763",
     "exception": false,
     "start_time": "2021-05-11T19:09:56.943756",
     "status": "completed"
    },
    "tags": []
   },
   "source": [
    "# Load data"
   ]
  },
  {
   "cell_type": "markdown",
   "id": "unauthorized-zealand",
   "metadata": {},
   "source": [
    "## PhenomeXcan LV-trait associations"
   ]
  },
  {
   "cell_type": "code",
   "execution_count": 9,
   "id": "spare-advice",
   "metadata": {},
   "outputs": [
    {
     "data": {
      "text/plain": [
       "PosixPath('/opt/data/results/gls/gls-summary-phenomexcan.pkl.gz')"
      ]
     },
     "metadata": {},
     "output_type": "display_data"
    }
   ],
   "source": [
    "input_filepath = Path(conf.RESULTS[\"GLS\"] / \"gls-summary-phenomexcan.pkl.gz\")\n",
    "display(input_filepath)"
   ]
  },
  {
   "cell_type": "code",
   "execution_count": 10,
   "id": "increased-accounting",
   "metadata": {},
   "outputs": [],
   "source": [
    "phenomexcan_lv_trait_assocs = pd.read_pickle(input_filepath)"
   ]
  },
  {
   "cell_type": "code",
   "execution_count": 11,
   "id": "defined-start",
   "metadata": {},
   "outputs": [
    {
     "data": {
      "text/plain": [
       "(4037817, 5)"
      ]
     },
     "execution_count": 11,
     "metadata": {},
     "output_type": "execute_result"
    }
   ],
   "source": [
    "phenomexcan_lv_trait_assocs.shape"
   ]
  },
  {
   "cell_type": "code",
   "execution_count": 12,
   "id": "animated-declaration",
   "metadata": {},
   "outputs": [
    {
     "data": {
      "text/html": [
       "<div>\n",
       "<style scoped>\n",
       "    .dataframe tbody tr th:only-of-type {\n",
       "        vertical-align: middle;\n",
       "    }\n",
       "\n",
       "    .dataframe tbody tr th {\n",
       "        vertical-align: top;\n",
       "    }\n",
       "\n",
       "    .dataframe thead th {\n",
       "        text-align: right;\n",
       "    }\n",
       "</style>\n",
       "<table border=\"1\" class=\"dataframe\">\n",
       "  <thead>\n",
       "    <tr style=\"text-align: right;\">\n",
       "      <th></th>\n",
       "      <th>phenotype</th>\n",
       "      <th>phenotype_desc</th>\n",
       "      <th>lv</th>\n",
       "      <th>pvalue</th>\n",
       "      <th>fdr</th>\n",
       "    </tr>\n",
       "  </thead>\n",
       "  <tbody>\n",
       "    <tr>\n",
       "      <th>0</th>\n",
       "      <td>AB1_OTHER_VIRAL</td>\n",
       "      <td>Other viral diseases</td>\n",
       "      <td>LV736</td>\n",
       "      <td>0.004725</td>\n",
       "      <td>0.504339</td>\n",
       "    </tr>\n",
       "    <tr>\n",
       "      <th>1</th>\n",
       "      <td>AB1_OTHER_VIRAL</td>\n",
       "      <td>Other viral diseases</td>\n",
       "      <td>LV320</td>\n",
       "      <td>0.004848</td>\n",
       "      <td>0.508291</td>\n",
       "    </tr>\n",
       "    <tr>\n",
       "      <th>2</th>\n",
       "      <td>AB1_OTHER_VIRAL</td>\n",
       "      <td>Other viral diseases</td>\n",
       "      <td>LV366</td>\n",
       "      <td>0.005306</td>\n",
       "      <td>0.523691</td>\n",
       "    </tr>\n",
       "    <tr>\n",
       "      <th>3</th>\n",
       "      <td>AB1_OTHER_VIRAL</td>\n",
       "      <td>Other viral diseases</td>\n",
       "      <td>LV964</td>\n",
       "      <td>0.006106</td>\n",
       "      <td>0.548143</td>\n",
       "    </tr>\n",
       "    <tr>\n",
       "      <th>4</th>\n",
       "      <td>AB1_OTHER_VIRAL</td>\n",
       "      <td>Other viral diseases</td>\n",
       "      <td>LV92</td>\n",
       "      <td>0.006565</td>\n",
       "      <td>0.560048</td>\n",
       "    </tr>\n",
       "  </tbody>\n",
       "</table>\n",
       "</div>"
      ],
      "text/plain": [
       "         phenotype        phenotype_desc     lv    pvalue       fdr\n",
       "0  AB1_OTHER_VIRAL  Other viral diseases  LV736  0.004725  0.504339\n",
       "1  AB1_OTHER_VIRAL  Other viral diseases  LV320  0.004848  0.508291\n",
       "2  AB1_OTHER_VIRAL  Other viral diseases  LV366  0.005306  0.523691\n",
       "3  AB1_OTHER_VIRAL  Other viral diseases  LV964  0.006106  0.548143\n",
       "4  AB1_OTHER_VIRAL  Other viral diseases   LV92  0.006565  0.560048"
      ]
     },
     "execution_count": 12,
     "metadata": {},
     "output_type": "execute_result"
    }
   ],
   "source": [
    "phenomexcan_lv_trait_assocs.head()"
   ]
  },
  {
   "cell_type": "markdown",
   "id": "decimal-mailman",
   "metadata": {},
   "source": [
    "## eMERGE LV-trait associations"
   ]
  },
  {
   "cell_type": "code",
   "execution_count": 13,
   "id": "isolated-taiwan",
   "metadata": {},
   "outputs": [
    {
     "data": {
      "text/plain": [
       "PosixPath('/opt/data/results/gls/gls-summary-emerge.pkl.gz')"
      ]
     },
     "metadata": {},
     "output_type": "display_data"
    }
   ],
   "source": [
    "input_filepath = Path(conf.RESULTS[\"GLS\"] / \"gls-summary-emerge.pkl.gz\")\n",
    "display(input_filepath)"
   ]
  },
  {
   "cell_type": "code",
   "execution_count": 14,
   "id": "collaborative-consensus",
   "metadata": {},
   "outputs": [],
   "source": [
    "emerge_lv_trait_assocs = pd.read_pickle(input_filepath)"
   ]
  },
  {
   "cell_type": "code",
   "execution_count": 15,
   "id": "binary-religion",
   "metadata": {},
   "outputs": [
    {
     "data": {
      "text/plain": [
       "(304983, 5)"
      ]
     },
     "execution_count": 15,
     "metadata": {},
     "output_type": "execute_result"
    }
   ],
   "source": [
    "emerge_lv_trait_assocs.shape"
   ]
  },
  {
   "cell_type": "code",
   "execution_count": 16,
   "id": "protecting-divide",
   "metadata": {},
   "outputs": [
    {
     "data": {
      "text/html": [
       "<div>\n",
       "<style scoped>\n",
       "    .dataframe tbody tr th:only-of-type {\n",
       "        vertical-align: middle;\n",
       "    }\n",
       "\n",
       "    .dataframe tbody tr th {\n",
       "        vertical-align: top;\n",
       "    }\n",
       "\n",
       "    .dataframe thead th {\n",
       "        text-align: right;\n",
       "    }\n",
       "</style>\n",
       "<table border=\"1\" class=\"dataframe\">\n",
       "  <thead>\n",
       "    <tr style=\"text-align: right;\">\n",
       "      <th></th>\n",
       "      <th>phenotype</th>\n",
       "      <th>phenotype_desc</th>\n",
       "      <th>lv</th>\n",
       "      <th>pvalue</th>\n",
       "      <th>fdr</th>\n",
       "    </tr>\n",
       "  </thead>\n",
       "  <tbody>\n",
       "    <tr>\n",
       "      <th>0</th>\n",
       "      <td>EUR_440.2</td>\n",
       "      <td>Atherosclerosis of the extremities</td>\n",
       "      <td>LV472</td>\n",
       "      <td>1.033637e-07</td>\n",
       "      <td>0.000658</td>\n",
       "    </tr>\n",
       "    <tr>\n",
       "      <th>1</th>\n",
       "      <td>EUR_440.2</td>\n",
       "      <td>Atherosclerosis of the extremities</td>\n",
       "      <td>LV182</td>\n",
       "      <td>3.710244e-07</td>\n",
       "      <td>0.001432</td>\n",
       "    </tr>\n",
       "    <tr>\n",
       "      <th>2</th>\n",
       "      <td>EUR_440.2</td>\n",
       "      <td>Atherosclerosis of the extremities</td>\n",
       "      <td>LV348</td>\n",
       "      <td>7.379936e-07</td>\n",
       "      <td>0.002558</td>\n",
       "    </tr>\n",
       "    <tr>\n",
       "      <th>3</th>\n",
       "      <td>EUR_440.2</td>\n",
       "      <td>Atherosclerosis of the extremities</td>\n",
       "      <td>LV504</td>\n",
       "      <td>1.534424e-06</td>\n",
       "      <td>0.004500</td>\n",
       "    </tr>\n",
       "    <tr>\n",
       "      <th>4</th>\n",
       "      <td>EUR_440.2</td>\n",
       "      <td>Atherosclerosis of the extremities</td>\n",
       "      <td>LV445</td>\n",
       "      <td>2.912525e-06</td>\n",
       "      <td>0.007402</td>\n",
       "    </tr>\n",
       "  </tbody>\n",
       "</table>\n",
       "</div>"
      ],
      "text/plain": [
       "   phenotype                      phenotype_desc     lv        pvalue  \\\n",
       "0  EUR_440.2  Atherosclerosis of the extremities  LV472  1.033637e-07   \n",
       "1  EUR_440.2  Atherosclerosis of the extremities  LV182  3.710244e-07   \n",
       "2  EUR_440.2  Atherosclerosis of the extremities  LV348  7.379936e-07   \n",
       "3  EUR_440.2  Atherosclerosis of the extremities  LV504  1.534424e-06   \n",
       "4  EUR_440.2  Atherosclerosis of the extremities  LV445  2.912525e-06   \n",
       "\n",
       "        fdr  \n",
       "0  0.000658  \n",
       "1  0.001432  \n",
       "2  0.002558  \n",
       "3  0.004500  \n",
       "4  0.007402  "
      ]
     },
     "execution_count": 16,
     "metadata": {},
     "output_type": "execute_result"
    }
   ],
   "source": [
    "emerge_lv_trait_assocs.head()"
   ]
  },
  {
   "cell_type": "markdown",
   "id": "contrary-democrat",
   "metadata": {},
   "source": [
    "## eMERGE traits info"
   ]
  },
  {
   "cell_type": "code",
   "execution_count": 17,
   "id": "preliminary-python",
   "metadata": {},
   "outputs": [
    {
     "data": {
      "text/plain": [
       "PosixPath('/opt/data/data/emerge/eMERGE_III_PMBB_GSA_v2_2020_phecode_AFR_EUR_cc50_counts_w_dictionary.txt')"
      ]
     },
     "metadata": {},
     "output_type": "display_data"
    }
   ],
   "source": [
    "input_filepath = conf.EMERGE[\"DESC_FILE_WITH_SAMPLE_SIZE\"]\n",
    "display(input_filepath)"
   ]
  },
  {
   "cell_type": "code",
   "execution_count": 18,
   "id": "stuck-booth",
   "metadata": {},
   "outputs": [],
   "source": [
    "emerge_traits_info = pd.read_csv(\n",
    "    input_filepath,\n",
    "    sep=\"\\t\",\n",
    "    dtype={\"phecode\": str},\n",
    "    usecols=[\n",
    "        \"phecode\",\n",
    "        \"phenotype\",\n",
    "        \"category\",\n",
    "        \"eMERGE_III_EUR_case\",\n",
    "        \"eMERGE_III_EUR_control\",\n",
    "    ],\n",
    ")"
   ]
  },
  {
   "cell_type": "code",
   "execution_count": 19,
   "id": "excited-atlas",
   "metadata": {},
   "outputs": [],
   "source": [
    "emerge_traits_info[\"phecode\"] = emerge_traits_info[\"phecode\"].apply(\n",
    "    lambda x: f\"EUR_{x}\"\n",
    ")"
   ]
  },
  {
   "cell_type": "code",
   "execution_count": 20,
   "id": "0218e729",
   "metadata": {},
   "outputs": [],
   "source": [
    "emerge_traits_info = emerge_traits_info.set_index(\"phecode\").sort_index()"
   ]
  },
  {
   "cell_type": "code",
   "execution_count": 21,
   "id": "traditional-finance",
   "metadata": {},
   "outputs": [],
   "source": [
    "emerge_traits_info = emerge_traits_info.rename(\n",
    "    columns={\n",
    "        \"eMERGE_III_EUR_case\": \"eur_n_cases\",\n",
    "        \"eMERGE_III_EUR_control\": \"eur_n_controls\",\n",
    "    }\n",
    ")"
   ]
  },
  {
   "cell_type": "code",
   "execution_count": 22,
   "id": "earned-table",
   "metadata": {},
   "outputs": [
    {
     "data": {
      "text/plain": [
       "(309, 4)"
      ]
     },
     "execution_count": 22,
     "metadata": {},
     "output_type": "execute_result"
    }
   ],
   "source": [
    "emerge_traits_info.shape"
   ]
  },
  {
   "cell_type": "code",
   "execution_count": 23,
   "id": "indoor-clause",
   "metadata": {},
   "outputs": [
    {
     "data": {
      "text/html": [
       "<div>\n",
       "<style scoped>\n",
       "    .dataframe tbody tr th:only-of-type {\n",
       "        vertical-align: middle;\n",
       "    }\n",
       "\n",
       "    .dataframe tbody tr th {\n",
       "        vertical-align: top;\n",
       "    }\n",
       "\n",
       "    .dataframe thead th {\n",
       "        text-align: right;\n",
       "    }\n",
       "</style>\n",
       "<table border=\"1\" class=\"dataframe\">\n",
       "  <thead>\n",
       "    <tr style=\"text-align: right;\">\n",
       "      <th></th>\n",
       "      <th>eur_n_cases</th>\n",
       "      <th>eur_n_controls</th>\n",
       "      <th>phenotype</th>\n",
       "      <th>category</th>\n",
       "    </tr>\n",
       "    <tr>\n",
       "      <th>phecode</th>\n",
       "      <th></th>\n",
       "      <th></th>\n",
       "      <th></th>\n",
       "      <th></th>\n",
       "    </tr>\n",
       "  </thead>\n",
       "  <tbody>\n",
       "    <tr>\n",
       "      <th>EUR_008</th>\n",
       "      <td>1639</td>\n",
       "      <td>57495</td>\n",
       "      <td>Intestinal infection</td>\n",
       "      <td>infectious diseases</td>\n",
       "    </tr>\n",
       "    <tr>\n",
       "      <th>EUR_008.5</th>\n",
       "      <td>1024</td>\n",
       "      <td>57495</td>\n",
       "      <td>Bacterial enteritis</td>\n",
       "      <td>infectious diseases</td>\n",
       "    </tr>\n",
       "    <tr>\n",
       "      <th>EUR_008.52</th>\n",
       "      <td>893</td>\n",
       "      <td>57495</td>\n",
       "      <td>Intestinal infection due to C. difficile</td>\n",
       "      <td>infectious diseases</td>\n",
       "    </tr>\n",
       "    <tr>\n",
       "      <th>EUR_038</th>\n",
       "      <td>3172</td>\n",
       "      <td>50610</td>\n",
       "      <td>Septicemia</td>\n",
       "      <td>infectious diseases</td>\n",
       "    </tr>\n",
       "    <tr>\n",
       "      <th>EUR_038.3</th>\n",
       "      <td>1361</td>\n",
       "      <td>50610</td>\n",
       "      <td>Bacteremia</td>\n",
       "      <td>infectious diseases</td>\n",
       "    </tr>\n",
       "  </tbody>\n",
       "</table>\n",
       "</div>"
      ],
      "text/plain": [
       "            eur_n_cases  eur_n_controls  \\\n",
       "phecode                                   \n",
       "EUR_008            1639           57495   \n",
       "EUR_008.5          1024           57495   \n",
       "EUR_008.52          893           57495   \n",
       "EUR_038            3172           50610   \n",
       "EUR_038.3          1361           50610   \n",
       "\n",
       "                                           phenotype             category  \n",
       "phecode                                                                    \n",
       "EUR_008                         Intestinal infection  infectious diseases  \n",
       "EUR_008.5                        Bacterial enteritis  infectious diseases  \n",
       "EUR_008.52  Intestinal infection due to C. difficile  infectious diseases  \n",
       "EUR_038                                   Septicemia  infectious diseases  \n",
       "EUR_038.3                                 Bacteremia  infectious diseases  "
      ]
     },
     "execution_count": 23,
     "metadata": {},
     "output_type": "execute_result"
    }
   ],
   "source": [
    "emerge_traits_info.head()"
   ]
  },
  {
   "cell_type": "code",
   "execution_count": 24,
   "id": "pending-crossing",
   "metadata": {},
   "outputs": [],
   "source": [
    "assert emerge_traits_info.index.is_unique"
   ]
  },
  {
   "cell_type": "markdown",
   "id": "faced-migration",
   "metadata": {
    "lines_to_next_cell": 2
   },
   "source": [
    "# Trait associations"
   ]
  },
  {
   "cell_type": "markdown",
   "id": "exciting-birth",
   "metadata": {},
   "source": [
    "## PhenomeXcan"
   ]
  },
  {
   "cell_type": "code",
   "execution_count": 25,
   "id": "surface-pocket",
   "metadata": {},
   "outputs": [],
   "source": [
    "from traits import SHORT_TRAIT_NAMES"
   ]
  },
  {
   "cell_type": "code",
   "execution_count": 26,
   "id": "reverse-finger",
   "metadata": {
    "lines_to_next_cell": 1
   },
   "outputs": [],
   "source": [
    "result_set = \"phenomexcan\""
   ]
  },
  {
   "cell_type": "code",
   "execution_count": 27,
   "id": "weekly-belle",
   "metadata": {},
   "outputs": [],
   "source": [
    "def get_trait_objs(phenotype_full_code):\n",
    "    if Trait.is_efo_label(phenotype_full_code):\n",
    "        traits = Trait.get_traits_from_efo(phenotype_full_code)\n",
    "    else:\n",
    "        traits = [Trait.get_trait(code=phenotype_full_code)]\n",
    "\n",
    "    # sort by sample size\n",
    "    return sorted(traits, key=lambda x: x.n_cases / x.n, reverse=True)\n",
    "\n",
    "\n",
    "def get_trait_description(phenotype_full_code):\n",
    "    traits = get_trait_objs(phenotype_full_code)\n",
    "\n",
    "    desc = traits[0].description\n",
    "    if desc in SHORT_TRAIT_NAMES:\n",
    "        return SHORT_TRAIT_NAMES[desc]\n",
    "\n",
    "    return desc\n",
    "\n",
    "\n",
    "def get_trait_n(phenotype_full_code):\n",
    "    traits = get_trait_objs(phenotype_full_code)\n",
    "\n",
    "    return traits[0].n\n",
    "\n",
    "\n",
    "def get_trait_n_cases(phenotype_full_code):\n",
    "    traits = get_trait_objs(phenotype_full_code)\n",
    "\n",
    "    return traits[0].n_cases\n",
    "\n",
    "\n",
    "def num_to_int_str(num):\n",
    "    if pd.isnull(num):\n",
    "        return \"\"\n",
    "\n",
    "    return f\"{num:,.0f}\"\n",
    "\n",
    "\n",
    "def get_part_clust(row):\n",
    "    return f\"{row.part_k} / {row.cluster_id}\""
   ]
  },
  {
   "cell_type": "code",
   "execution_count": 28,
   "id": "affected-chamber",
   "metadata": {},
   "outputs": [],
   "source": [
    "lv_assocs = phenomexcan_lv_trait_assocs[\n",
    "    (phenomexcan_lv_trait_assocs[\"lv\"] == LV_NAME)\n",
    "    & (phenomexcan_lv_trait_assocs[\"fdr\"] < 0.05)\n",
    "].sort_values(\"fdr\")"
   ]
  },
  {
   "cell_type": "code",
   "execution_count": 29,
   "id": "appointed-vault",
   "metadata": {},
   "outputs": [
    {
     "data": {
      "text/html": [
       "<div>\n",
       "<style scoped>\n",
       "    .dataframe tbody tr th:only-of-type {\n",
       "        vertical-align: middle;\n",
       "    }\n",
       "\n",
       "    .dataframe tbody tr th {\n",
       "        vertical-align: top;\n",
       "    }\n",
       "\n",
       "    .dataframe thead th {\n",
       "        text-align: right;\n",
       "    }\n",
       "</style>\n",
       "<table border=\"1\" class=\"dataframe\">\n",
       "  <thead>\n",
       "    <tr style=\"text-align: right;\">\n",
       "      <th></th>\n",
       "      <th>phenotype</th>\n",
       "      <th>phenotype_desc</th>\n",
       "      <th>lv</th>\n",
       "      <th>pvalue</th>\n",
       "      <th>fdr</th>\n",
       "    </tr>\n",
       "  </thead>\n",
       "  <tbody>\n",
       "    <tr>\n",
       "      <th>139167</th>\n",
       "      <td>20002_1094</td>\n",
       "      <td>Non-cancer illness code, self-reported: deep venous thrombosis (dvt)</td>\n",
       "      <td>LV57</td>\n",
       "      <td>3.697485e-18</td>\n",
       "      <td>1.756443e-13</td>\n",
       "    </tr>\n",
       "    <tr>\n",
       "      <th>1966104</th>\n",
       "      <td>6152_5</td>\n",
       "      <td>Blood clot, DVT, bronchitis, emphysema, asthma, rhinitis, eczema, allergy diagnosed by doctor: Blood clot in the leg (DVT)</td>\n",
       "      <td>LV57</td>\n",
       "      <td>3.427592e-17</td>\n",
       "      <td>1.224778e-12</td>\n",
       "    </tr>\n",
       "    <tr>\n",
       "      <th>3533462</th>\n",
       "      <td>I80</td>\n",
       "      <td>Diagnoses - main ICD10: I80 Phlebitis and thrombophlebitis</td>\n",
       "      <td>LV57</td>\n",
       "      <td>2.586778e-16</td>\n",
       "      <td>7.624040e-12</td>\n",
       "    </tr>\n",
       "    <tr>\n",
       "      <th>2862302</th>\n",
       "      <td>I9_PHLETHROMBDVTLOW</td>\n",
       "      <td>DVT of lower extremities</td>\n",
       "      <td>LV57</td>\n",
       "      <td>7.100592e-14</td>\n",
       "      <td>1.274262e-09</td>\n",
       "    </tr>\n",
       "    <tr>\n",
       "      <th>715575</th>\n",
       "      <td>I9_VTE</td>\n",
       "      <td>Venous thromboembolism</td>\n",
       "      <td>LV57</td>\n",
       "      <td>1.949335e-12</td>\n",
       "      <td>2.283377e-08</td>\n",
       "    </tr>\n",
       "    <tr>\n",
       "      <th>2202984</th>\n",
       "      <td>I9_DVTANDPULM</td>\n",
       "      <td>DVT of lower extremities and pulmonary embolism</td>\n",
       "      <td>LV57</td>\n",
       "      <td>4.030555e-12</td>\n",
       "      <td>4.363175e-08</td>\n",
       "    </tr>\n",
       "    <tr>\n",
       "      <th>4015117</th>\n",
       "      <td>IBD.EUR.Inflammatory_Bowel_Disease</td>\n",
       "      <td>Inflammatory Bowel Disease</td>\n",
       "      <td>LV57</td>\n",
       "      <td>3.370232e-09</td>\n",
       "      <td>1.952422e-05</td>\n",
       "    </tr>\n",
       "    <tr>\n",
       "      <th>248724</th>\n",
       "      <td>20002_1226</td>\n",
       "      <td>Non-cancer illness code, self-reported: hypothyroidism/myxoedema</td>\n",
       "      <td>LV57</td>\n",
       "      <td>7.382515e-09</td>\n",
       "      <td>3.841398e-05</td>\n",
       "    </tr>\n",
       "    <tr>\n",
       "      <th>595161</th>\n",
       "      <td>20003_1141191044</td>\n",
       "      <td>Treatment/medication code: levothyroxine sodium (20003_1141191044)</td>\n",
       "      <td>LV57</td>\n",
       "      <td>1.792978e-08</td>\n",
       "      <td>8.428074e-05</td>\n",
       "    </tr>\n",
       "    <tr>\n",
       "      <th>535947</th>\n",
       "      <td>6149_1</td>\n",
       "      <td>Mouth/teeth dental problems: Mouth ulcers</td>\n",
       "      <td>LV57</td>\n",
       "      <td>3.312496e-07</td>\n",
       "      <td>1.024139e-03</td>\n",
       "    </tr>\n",
       "    <tr>\n",
       "      <th>4011174</th>\n",
       "      <td>IBD.EUR.Crohns_Disease</td>\n",
       "      <td>Crohns Disease</td>\n",
       "      <td>LV57</td>\n",
       "      <td>5.663405e-06</td>\n",
       "      <td>1.022573e-02</td>\n",
       "    </tr>\n",
       "    <tr>\n",
       "      <th>2880070</th>\n",
       "      <td>1757</td>\n",
       "      <td>Facial ageing</td>\n",
       "      <td>LV57</td>\n",
       "      <td>5.768044e-06</td>\n",
       "      <td>1.038355e-02</td>\n",
       "    </tr>\n",
       "    <tr>\n",
       "      <th>4035844</th>\n",
       "      <td>IBD.EUR.Ulcerative_Colitis</td>\n",
       "      <td>Ulcerative Colitis</td>\n",
       "      <td>LV57</td>\n",
       "      <td>7.492999e-06</td>\n",
       "      <td>1.268568e-02</td>\n",
       "    </tr>\n",
       "    <tr>\n",
       "      <th>1584157</th>\n",
       "      <td>1747_5</td>\n",
       "      <td>Hair colour (natural, before greying): Black</td>\n",
       "      <td>LV57</td>\n",
       "      <td>1.362799e-05</td>\n",
       "      <td>1.986871e-02</td>\n",
       "    </tr>\n",
       "    <tr>\n",
       "      <th>910042</th>\n",
       "      <td>1747_3</td>\n",
       "      <td>Hair colour (natural, before greying): Light brown</td>\n",
       "      <td>LV57</td>\n",
       "      <td>4.506311e-05</td>\n",
       "      <td>4.694221e-02</td>\n",
       "    </tr>\n",
       "  </tbody>\n",
       "</table>\n",
       "</div>"
      ],
      "text/plain": [
       "                                  phenotype  \\\n",
       "139167                           20002_1094   \n",
       "1966104                              6152_5   \n",
       "3533462                                 I80   \n",
       "2862302                 I9_PHLETHROMBDVTLOW   \n",
       "715575                               I9_VTE   \n",
       "2202984                       I9_DVTANDPULM   \n",
       "4015117  IBD.EUR.Inflammatory_Bowel_Disease   \n",
       "248724                           20002_1226   \n",
       "595161                     20003_1141191044   \n",
       "535947                               6149_1   \n",
       "4011174              IBD.EUR.Crohns_Disease   \n",
       "2880070                                1757   \n",
       "4035844          IBD.EUR.Ulcerative_Colitis   \n",
       "1584157                              1747_5   \n",
       "910042                               1747_3   \n",
       "\n",
       "                                                                                                                     phenotype_desc  \\\n",
       "139167                                                         Non-cancer illness code, self-reported: deep venous thrombosis (dvt)   \n",
       "1966104  Blood clot, DVT, bronchitis, emphysema, asthma, rhinitis, eczema, allergy diagnosed by doctor: Blood clot in the leg (DVT)   \n",
       "3533462                                                                  Diagnoses - main ICD10: I80 Phlebitis and thrombophlebitis   \n",
       "2862302                                                                                                    DVT of lower extremities   \n",
       "715575                                                                                                       Venous thromboembolism   \n",
       "2202984                                                                             DVT of lower extremities and pulmonary embolism   \n",
       "4015117                                                                                                  Inflammatory Bowel Disease   \n",
       "248724                                                             Non-cancer illness code, self-reported: hypothyroidism/myxoedema   \n",
       "595161                                                           Treatment/medication code: levothyroxine sodium (20003_1141191044)   \n",
       "535947                                                                                    Mouth/teeth dental problems: Mouth ulcers   \n",
       "4011174                                                                                                              Crohns Disease   \n",
       "2880070                                                                                                               Facial ageing   \n",
       "4035844                                                                                                          Ulcerative Colitis   \n",
       "1584157                                                                                Hair colour (natural, before greying): Black   \n",
       "910042                                                                           Hair colour (natural, before greying): Light brown   \n",
       "\n",
       "           lv        pvalue           fdr  \n",
       "139167   LV57  3.697485e-18  1.756443e-13  \n",
       "1966104  LV57  3.427592e-17  1.224778e-12  \n",
       "3533462  LV57  2.586778e-16  7.624040e-12  \n",
       "2862302  LV57  7.100592e-14  1.274262e-09  \n",
       "715575   LV57  1.949335e-12  2.283377e-08  \n",
       "2202984  LV57  4.030555e-12  4.363175e-08  \n",
       "4015117  LV57  3.370232e-09  1.952422e-05  \n",
       "248724   LV57  7.382515e-09  3.841398e-05  \n",
       "595161   LV57  1.792978e-08  8.428074e-05  \n",
       "535947   LV57  3.312496e-07  1.024139e-03  \n",
       "4011174  LV57  5.663405e-06  1.022573e-02  \n",
       "2880070  LV57  5.768044e-06  1.038355e-02  \n",
       "4035844  LV57  7.492999e-06  1.268568e-02  \n",
       "1584157  LV57  1.362799e-05  1.986871e-02  \n",
       "910042   LV57  4.506311e-05  4.694221e-02  "
      ]
     },
     "metadata": {},
     "output_type": "display_data"
    }
   ],
   "source": [
    "with pd.option_context(\n",
    "    \"display.max_rows\", None, \"display.max_columns\", None, \"display.max_colwidth\", None\n",
    "):\n",
    "    display(lv_assocs)"
   ]
  },
  {
   "cell_type": "code",
   "execution_count": 30,
   "id": "clean-guidance",
   "metadata": {},
   "outputs": [],
   "source": [
    "lv_assocs = lv_assocs.assign(\n",
    "    phenotype_desc=lv_assocs[\"phenotype\"].apply(get_trait_description)\n",
    ")"
   ]
  },
  {
   "cell_type": "code",
   "execution_count": 31,
   "id": "usual-apple",
   "metadata": {},
   "outputs": [],
   "source": [
    "lv_assocs = lv_assocs.assign(n=lv_assocs[\"phenotype\"].apply(get_trait_n))"
   ]
  },
  {
   "cell_type": "code",
   "execution_count": 32,
   "id": "retained-supply",
   "metadata": {},
   "outputs": [],
   "source": [
    "lv_assocs = lv_assocs.assign(n_cases=lv_assocs[\"phenotype\"].apply(get_trait_n_cases))"
   ]
  },
  {
   "cell_type": "code",
   "execution_count": 33,
   "id": "handled-married",
   "metadata": {},
   "outputs": [],
   "source": [
    "# lv_assocs = lv_assocs.assign(coef=lv_assocs[\"coef\"].apply(lambda x: f\"{x:.3f}\"))"
   ]
  },
  {
   "cell_type": "code",
   "execution_count": 34,
   "id": "electric-nutrition",
   "metadata": {},
   "outputs": [],
   "source": [
    "lv_assocs = lv_assocs.assign(\n",
    "    fdr=lv_assocs[\"fdr\"].apply(lambda x: f\"{x:.2e}\".replace(\"-\", \"&#8209;\"))\n",
    ")"
   ]
  },
  {
   "cell_type": "code",
   "execution_count": 35,
   "id": "numerous-commerce",
   "metadata": {},
   "outputs": [],
   "source": [
    "lv_assocs = lv_assocs.assign(n=lv_assocs[\"n\"].apply(num_to_int_str))"
   ]
  },
  {
   "cell_type": "code",
   "execution_count": 36,
   "id": "starting-worse",
   "metadata": {},
   "outputs": [],
   "source": [
    "lv_assocs = lv_assocs.assign(n_cases=lv_assocs[\"n_cases\"].apply(num_to_int_str))"
   ]
  },
  {
   "cell_type": "code",
   "execution_count": 37,
   "id": "serial-canada",
   "metadata": {},
   "outputs": [],
   "source": [
    "# lv_assocs = lv_assocs.assign(part_clust=\"\")  # lv_assocs.apply(get_part_clust, axis=1))"
   ]
  },
  {
   "cell_type": "code",
   "execution_count": 38,
   "id": "sealed-desire",
   "metadata": {},
   "outputs": [],
   "source": [
    "lv_assocs = lv_assocs.drop(columns=[\"phenotype\"])"
   ]
  },
  {
   "cell_type": "code",
   "execution_count": 39,
   "id": "conservative-tyler",
   "metadata": {},
   "outputs": [
    {
     "data": {
      "text/plain": [
       "(15, 6)"
      ]
     },
     "execution_count": 39,
     "metadata": {},
     "output_type": "execute_result"
    }
   ],
   "source": [
    "lv_assocs.shape"
   ]
  },
  {
   "cell_type": "code",
   "execution_count": 40,
   "id": "identified-concentration",
   "metadata": {},
   "outputs": [],
   "source": [
    "lv_assocs = lv_assocs[[\"phenotype_desc\", \"n\", \"n_cases\", \"fdr\"]]"
   ]
  },
  {
   "cell_type": "code",
   "execution_count": 41,
   "id": "studied-vatican",
   "metadata": {},
   "outputs": [],
   "source": [
    "lv_assocs = lv_assocs.rename(\n",
    "    columns={\n",
    "        \"part_clust\": \"Partition / cluster\",\n",
    "        \"lv\": \"Latent variable (LV)\",\n",
    "        #         \"coef\": r\"$\\beta$\",\n",
    "        \"fdr\": \"FDR\",\n",
    "        \"phenotype_desc\": \"Trait description\",\n",
    "        \"n\": \"Sample size\",\n",
    "        \"n_cases\": \"Cases\",\n",
    "    }\n",
    ")"
   ]
  },
  {
   "cell_type": "code",
   "execution_count": 42,
   "id": "qualified-chocolate",
   "metadata": {},
   "outputs": [
    {
     "data": {
      "text/html": [
       "<div>\n",
       "<style scoped>\n",
       "    .dataframe tbody tr th:only-of-type {\n",
       "        vertical-align: middle;\n",
       "    }\n",
       "\n",
       "    .dataframe tbody tr th {\n",
       "        vertical-align: top;\n",
       "    }\n",
       "\n",
       "    .dataframe thead th {\n",
       "        text-align: right;\n",
       "    }\n",
       "</style>\n",
       "<table border=\"1\" class=\"dataframe\">\n",
       "  <thead>\n",
       "    <tr style=\"text-align: right;\">\n",
       "      <th></th>\n",
       "      <th>Trait description</th>\n",
       "      <th>Sample size</th>\n",
       "      <th>Cases</th>\n",
       "      <th>FDR</th>\n",
       "    </tr>\n",
       "  </thead>\n",
       "  <tbody>\n",
       "    <tr>\n",
       "      <th>139167</th>\n",
       "      <td>Non-cancer illness code, self-reported: deep venous thrombosis (dvt)</td>\n",
       "      <td>361,141</td>\n",
       "      <td>7,237</td>\n",
       "      <td>1.76e&amp;#8209;13</td>\n",
       "    </tr>\n",
       "    <tr>\n",
       "      <th>1966104</th>\n",
       "      <td>Blood clot, DVT, bronchitis, emphysema, asthma, rhinitis, eczema, allergy diagnosed by doctor: Blood clot in the leg (DVT)</td>\n",
       "      <td>360,527</td>\n",
       "      <td>7,386</td>\n",
       "      <td>1.22e&amp;#8209;12</td>\n",
       "    </tr>\n",
       "    <tr>\n",
       "      <th>3533462</th>\n",
       "      <td>Diagnoses - main ICD10: I80 Phlebitis and thrombophlebitis</td>\n",
       "      <td>361,194</td>\n",
       "      <td>2,289</td>\n",
       "      <td>7.62e&amp;#8209;12</td>\n",
       "    </tr>\n",
       "    <tr>\n",
       "      <th>2862302</th>\n",
       "      <td>DVT of lower extremities</td>\n",
       "      <td>361,194</td>\n",
       "      <td>2,116</td>\n",
       "      <td>1.27e&amp;#8209;09</td>\n",
       "    </tr>\n",
       "    <tr>\n",
       "      <th>715575</th>\n",
       "      <td>Venous thromboembolism</td>\n",
       "      <td>361,194</td>\n",
       "      <td>4,620</td>\n",
       "      <td>2.28e&amp;#8209;08</td>\n",
       "    </tr>\n",
       "    <tr>\n",
       "      <th>2202984</th>\n",
       "      <td>DVT of lower extremities and pulmonary embolism</td>\n",
       "      <td>361,194</td>\n",
       "      <td>4,319</td>\n",
       "      <td>4.36e&amp;#8209;08</td>\n",
       "    </tr>\n",
       "    <tr>\n",
       "      <th>4015117</th>\n",
       "      <td>Inflammatory Bowel Disease</td>\n",
       "      <td>34,652</td>\n",
       "      <td>12,882</td>\n",
       "      <td>1.95e&amp;#8209;05</td>\n",
       "    </tr>\n",
       "    <tr>\n",
       "      <th>248724</th>\n",
       "      <td>hypothyroidism (self-reported)</td>\n",
       "      <td>361,141</td>\n",
       "      <td>17,574</td>\n",
       "      <td>3.84e&amp;#8209;05</td>\n",
       "    </tr>\n",
       "    <tr>\n",
       "      <th>595161</th>\n",
       "      <td>Medication: levothyroxine sodium</td>\n",
       "      <td>361,141</td>\n",
       "      <td>14,689</td>\n",
       "      <td>8.43e&amp;#8209;05</td>\n",
       "    </tr>\n",
       "    <tr>\n",
       "      <th>535947</th>\n",
       "      <td>Mouth/teeth dental problems: Mouth ulcers</td>\n",
       "      <td>359,841</td>\n",
       "      <td>36,831</td>\n",
       "      <td>1.02e&amp;#8209;03</td>\n",
       "    </tr>\n",
       "    <tr>\n",
       "      <th>4011174</th>\n",
       "      <td>Crohns Disease</td>\n",
       "      <td>20,833</td>\n",
       "      <td>5,956</td>\n",
       "      <td>1.02e&amp;#8209;02</td>\n",
       "    </tr>\n",
       "    <tr>\n",
       "      <th>2880070</th>\n",
       "      <td>Facial ageing</td>\n",
       "      <td>330,409</td>\n",
       "      <td></td>\n",
       "      <td>1.04e&amp;#8209;02</td>\n",
       "    </tr>\n",
       "    <tr>\n",
       "      <th>4035844</th>\n",
       "      <td>Ulcerative Colitis</td>\n",
       "      <td>27,432</td>\n",
       "      <td>6,968</td>\n",
       "      <td>1.27e&amp;#8209;02</td>\n",
       "    </tr>\n",
       "    <tr>\n",
       "      <th>1584157</th>\n",
       "      <td>Hair colour (natural, before greying): Black</td>\n",
       "      <td>360,270</td>\n",
       "      <td>15,809</td>\n",
       "      <td>1.99e&amp;#8209;02</td>\n",
       "    </tr>\n",
       "    <tr>\n",
       "      <th>910042</th>\n",
       "      <td>Hair colour (natural, before greying): Light brown</td>\n",
       "      <td>360,270</td>\n",
       "      <td>147,560</td>\n",
       "      <td>4.69e&amp;#8209;02</td>\n",
       "    </tr>\n",
       "  </tbody>\n",
       "</table>\n",
       "</div>"
      ],
      "text/plain": [
       "                                                                                                                  Trait description  \\\n",
       "139167                                                         Non-cancer illness code, self-reported: deep venous thrombosis (dvt)   \n",
       "1966104  Blood clot, DVT, bronchitis, emphysema, asthma, rhinitis, eczema, allergy diagnosed by doctor: Blood clot in the leg (DVT)   \n",
       "3533462                                                                  Diagnoses - main ICD10: I80 Phlebitis and thrombophlebitis   \n",
       "2862302                                                                                                    DVT of lower extremities   \n",
       "715575                                                                                                       Venous thromboembolism   \n",
       "2202984                                                                             DVT of lower extremities and pulmonary embolism   \n",
       "4015117                                                                                                  Inflammatory Bowel Disease   \n",
       "248724                                                                                               hypothyroidism (self-reported)   \n",
       "595161                                                                                             Medication: levothyroxine sodium   \n",
       "535947                                                                                    Mouth/teeth dental problems: Mouth ulcers   \n",
       "4011174                                                                                                              Crohns Disease   \n",
       "2880070                                                                                                               Facial ageing   \n",
       "4035844                                                                                                          Ulcerative Colitis   \n",
       "1584157                                                                                Hair colour (natural, before greying): Black   \n",
       "910042                                                                           Hair colour (natural, before greying): Light brown   \n",
       "\n",
       "        Sample size    Cases             FDR  \n",
       "139167      361,141    7,237  1.76e&#8209;13  \n",
       "1966104     360,527    7,386  1.22e&#8209;12  \n",
       "3533462     361,194    2,289  7.62e&#8209;12  \n",
       "2862302     361,194    2,116  1.27e&#8209;09  \n",
       "715575      361,194    4,620  2.28e&#8209;08  \n",
       "2202984     361,194    4,319  4.36e&#8209;08  \n",
       "4015117      34,652   12,882  1.95e&#8209;05  \n",
       "248724      361,141   17,574  3.84e&#8209;05  \n",
       "595161      361,141   14,689  8.43e&#8209;05  \n",
       "535947      359,841   36,831  1.02e&#8209;03  \n",
       "4011174      20,833    5,956  1.02e&#8209;02  \n",
       "2880070     330,409           1.04e&#8209;02  \n",
       "4035844      27,432    6,968  1.27e&#8209;02  \n",
       "1584157     360,270   15,809  1.99e&#8209;02  \n",
       "910042      360,270  147,560  4.69e&#8209;02  "
      ]
     },
     "metadata": {},
     "output_type": "display_data"
    }
   ],
   "source": [
    "with pd.option_context(\n",
    "    \"display.max_rows\", None, \"display.max_columns\", None, \"display.max_colwidth\", None\n",
    "):\n",
    "    display(lv_assocs)"
   ]
  },
  {
   "cell_type": "markdown",
   "id": "billion-elite",
   "metadata": {},
   "source": [
    "### Fill empty"
   ]
  },
  {
   "cell_type": "code",
   "execution_count": 43,
   "id": "structural-earthquake",
   "metadata": {},
   "outputs": [],
   "source": [
    "if lv_assocs.shape[0] == 0:\n",
    "    lv_assocs.loc[0, \"Trait description\"] = \"No significant associations\"\n",
    "    lv_assocs = lv_assocs.fillna(\"\")"
   ]
  },
  {
   "cell_type": "markdown",
   "id": "approved-transfer",
   "metadata": {},
   "source": [
    "### Save"
   ]
  },
  {
   "cell_type": "code",
   "execution_count": 44,
   "id": "electronic-district",
   "metadata": {},
   "outputs": [
    {
     "data": {
      "text/plain": [
       "'<!-- LV57:phenomexcan_traits_assocs:start -->'"
      ]
     },
     "metadata": {},
     "output_type": "display_data"
    },
    {
     "data": {
      "text/plain": [
       "'<!-- LV57:phenomexcan_traits_assocs:end -->'"
      ]
     },
     "metadata": {},
     "output_type": "display_data"
    }
   ],
   "source": [
    "# start\n",
    "lv_file_mark_start = LV_FILE_MARK_TEMPLATE.format(\n",
    "    result_set=result_set, lv=LV_NAME, position=\"start\"\n",
    ")\n",
    "display(lv_file_mark_start)\n",
    "\n",
    "# end\n",
    "lv_file_mark_end = LV_FILE_MARK_TEMPLATE.format(\n",
    "    result_set=result_set, lv=LV_NAME, position=\"end\"\n",
    ")\n",
    "display(lv_file_mark_end)"
   ]
  },
  {
   "cell_type": "code",
   "execution_count": 45,
   "id": "mediterranean-modern",
   "metadata": {},
   "outputs": [],
   "source": [
    "new_content = lv_assocs.to_markdown(index=False, disable_numparse=True)"
   ]
  },
  {
   "cell_type": "code",
   "execution_count": 46,
   "id": "selective-greenhouse",
   "metadata": {},
   "outputs": [
    {
     "data": {
      "text/plain": [
       "'Table: Significant trait associations of LV57 in PhenomeXcan. {#tbl:sup:phenomexcan_assocs:lv57}'"
      ]
     },
     "metadata": {},
     "output_type": "display_data"
    }
   ],
   "source": [
    "# add table caption\n",
    "table_caption = TABLE_CAPTION.format(\n",
    "    lv_name=LV_NAME,\n",
    "    result_set_name=RESULT_SET_NAMES[result_set],\n",
    "    table_id=\"{\"\n",
    "    + TABLE_CAPTION_ID.format(result_set=result_set, lv_name_lower_case=LV_NAME.lower())\n",
    "    + \"}\",\n",
    ")\n",
    "display(table_caption)"
   ]
  },
  {
   "cell_type": "code",
   "execution_count": 47,
   "id": "civil-malpractice",
   "metadata": {},
   "outputs": [],
   "source": [
    "new_content += \"\\n\\n\" + table_caption"
   ]
  },
  {
   "cell_type": "code",
   "execution_count": 48,
   "id": "unable-chorus",
   "metadata": {},
   "outputs": [],
   "source": [
    "full_new_content = (\n",
    "    lv_file_mark_start + \"\\n\" + new_content.strip() + \"\\n\" + lv_file_mark_end\n",
    ")"
   ]
  },
  {
   "cell_type": "code",
   "execution_count": 49,
   "id": "coordinated-insight",
   "metadata": {},
   "outputs": [],
   "source": [
    "with open(OUTPUT_FILE_PATH, \"r\", encoding=\"utf8\") as f:\n",
    "    file_content = f.read()"
   ]
  },
  {
   "cell_type": "code",
   "execution_count": 50,
   "id": "organic-annual",
   "metadata": {},
   "outputs": [],
   "source": [
    "new_file_content = re.sub(\n",
    "    lv_file_mark_start + \".*?\" + lv_file_mark_end,\n",
    "    full_new_content,\n",
    "    file_content,\n",
    "    flags=re.DOTALL,\n",
    ")"
   ]
  },
  {
   "cell_type": "code",
   "execution_count": 51,
   "id": "boolean-brain",
   "metadata": {},
   "outputs": [],
   "source": [
    "with open(OUTPUT_FILE_PATH, \"w\", encoding=\"utf8\") as f:\n",
    "    f.write(new_file_content)  # .replace(\"\\beta\", r\"\\beta\"))"
   ]
  },
  {
   "cell_type": "markdown",
   "id": "valued-addition",
   "metadata": {},
   "source": [
    "## eMERGE"
   ]
  },
  {
   "cell_type": "code",
   "execution_count": 52,
   "id": "curious-attribute",
   "metadata": {},
   "outputs": [],
   "source": [
    "result_set = \"emerge\""
   ]
  },
  {
   "cell_type": "code",
   "execution_count": 53,
   "id": "cloudy-burke",
   "metadata": {},
   "outputs": [],
   "source": [
    "lv_assocs = emerge_lv_trait_assocs[\n",
    "    (emerge_lv_trait_assocs[\"lv\"] == LV_NAME) & (emerge_lv_trait_assocs[\"fdr\"] < 0.05)\n",
    "].sort_values(\"fdr\")"
   ]
  },
  {
   "cell_type": "code",
   "execution_count": 54,
   "id": "accurate-buyer",
   "metadata": {},
   "outputs": [
    {
     "data": {
      "text/html": [
       "<div>\n",
       "<style scoped>\n",
       "    .dataframe tbody tr th:only-of-type {\n",
       "        vertical-align: middle;\n",
       "    }\n",
       "\n",
       "    .dataframe tbody tr th {\n",
       "        vertical-align: top;\n",
       "    }\n",
       "\n",
       "    .dataframe thead th {\n",
       "        text-align: right;\n",
       "    }\n",
       "</style>\n",
       "<table border=\"1\" class=\"dataframe\">\n",
       "  <thead>\n",
       "    <tr style=\"text-align: right;\">\n",
       "      <th></th>\n",
       "      <th>phenotype</th>\n",
       "      <th>phenotype_desc</th>\n",
       "      <th>lv</th>\n",
       "      <th>pvalue</th>\n",
       "      <th>fdr</th>\n",
       "    </tr>\n",
       "  </thead>\n",
       "  <tbody>\n",
       "    <tr>\n",
       "      <th>10859</th>\n",
       "      <td>EUR_286</td>\n",
       "      <td>Coagulation defects</td>\n",
       "      <td>LV57</td>\n",
       "      <td>1.303465e-16</td>\n",
       "      <td>1.325116e-11</td>\n",
       "    </tr>\n",
       "    <tr>\n",
       "      <th>175687</th>\n",
       "      <td>EUR_452</td>\n",
       "      <td>Other venous embolism and thrombosis</td>\n",
       "      <td>LV57</td>\n",
       "      <td>1.097275e-09</td>\n",
       "      <td>1.521138e-05</td>\n",
       "    </tr>\n",
       "    <tr>\n",
       "      <th>61195</th>\n",
       "      <td>EUR_452.2</td>\n",
       "      <td>Deep vein thrombosis [DVT]</td>\n",
       "      <td>LV57</td>\n",
       "      <td>4.246591e-09</td>\n",
       "      <td>4.465993e-05</td>\n",
       "    </tr>\n",
       "    <tr>\n",
       "      <th>225036</th>\n",
       "      <td>EUR_244.4</td>\n",
       "      <td>Hypothyroidism NOS</td>\n",
       "      <td>LV57</td>\n",
       "      <td>4.974703e-06</td>\n",
       "      <td>1.115588e-02</td>\n",
       "    </tr>\n",
       "    <tr>\n",
       "      <th>288204</th>\n",
       "      <td>EUR_244</td>\n",
       "      <td>Hypothyroidism</td>\n",
       "      <td>LV57</td>\n",
       "      <td>7.194329e-06</td>\n",
       "      <td>1.423548e-02</td>\n",
       "    </tr>\n",
       "  </tbody>\n",
       "</table>\n",
       "</div>"
      ],
      "text/plain": [
       "        phenotype                        phenotype_desc    lv        pvalue  \\\n",
       "10859     EUR_286                   Coagulation defects  LV57  1.303465e-16   \n",
       "175687    EUR_452  Other venous embolism and thrombosis  LV57  1.097275e-09   \n",
       "61195   EUR_452.2            Deep vein thrombosis [DVT]  LV57  4.246591e-09   \n",
       "225036  EUR_244.4                    Hypothyroidism NOS  LV57  4.974703e-06   \n",
       "288204    EUR_244                        Hypothyroidism  LV57  7.194329e-06   \n",
       "\n",
       "                 fdr  \n",
       "10859   1.325116e-11  \n",
       "175687  1.521138e-05  \n",
       "61195   4.465993e-05  \n",
       "225036  1.115588e-02  \n",
       "288204  1.423548e-02  "
      ]
     },
     "metadata": {},
     "output_type": "display_data"
    }
   ],
   "source": [
    "with pd.option_context(\n",
    "    \"display.max_rows\", None, \"display.max_columns\", None, \"display.max_colwidth\", None\n",
    "):\n",
    "    display(lv_assocs)"
   ]
  },
  {
   "cell_type": "code",
   "execution_count": 55,
   "id": "atlantic-ideal",
   "metadata": {},
   "outputs": [],
   "source": [
    "lv_assocs = lv_assocs.assign(\n",
    "    phenotype_desc=lv_assocs[\"phenotype\"].apply(\n",
    "        lambda x: emerge_traits_info.loc[x, \"phenotype\"]\n",
    "    )\n",
    ")"
   ]
  },
  {
   "cell_type": "code",
   "execution_count": 56,
   "id": "dental-diagnosis",
   "metadata": {},
   "outputs": [],
   "source": [
    "lv_assocs = lv_assocs.assign(\n",
    "    n=lv_assocs[\"phenotype\"].apply(\n",
    "        lambda x: emerge_traits_info.loc[x, [\"eur_n_cases\", \"eur_n_controls\"]].sum()\n",
    "    )\n",
    ")"
   ]
  },
  {
   "cell_type": "code",
   "execution_count": 57,
   "id": "rural-water",
   "metadata": {},
   "outputs": [],
   "source": [
    "lv_assocs = lv_assocs.assign(\n",
    "    n_cases=lv_assocs[\"phenotype\"].apply(\n",
    "        lambda x: emerge_traits_info.loc[x, \"eur_n_cases\"]\n",
    "    )\n",
    ")"
   ]
  },
  {
   "cell_type": "code",
   "execution_count": 58,
   "id": "lightweight-mathematics",
   "metadata": {},
   "outputs": [],
   "source": [
    "lv_assocs[\"phenotype\"] = lv_assocs[\"phenotype\"].apply(lambda x: x.split(\"EUR_\")[1])"
   ]
  },
  {
   "cell_type": "code",
   "execution_count": 59,
   "id": "2405b2c9",
   "metadata": {},
   "outputs": [],
   "source": [
    "# lv_assocs = lv_assocs.assign(coef=lv_assocs[\"coef\"].apply(lambda x: f\"{x:.3f}\"))"
   ]
  },
  {
   "cell_type": "code",
   "execution_count": 60,
   "id": "burning-genetics",
   "metadata": {},
   "outputs": [],
   "source": [
    "lv_assocs = lv_assocs.assign(\n",
    "    fdr=lv_assocs[\"fdr\"].apply(lambda x: f\"{x:.2e}\".replace(\"-\", \"&#8209;\"))\n",
    ")"
   ]
  },
  {
   "cell_type": "code",
   "execution_count": 61,
   "id": "precise-sense",
   "metadata": {},
   "outputs": [],
   "source": [
    "lv_assocs = lv_assocs.assign(n=lv_assocs[\"n\"].apply(num_to_int_str))"
   ]
  },
  {
   "cell_type": "code",
   "execution_count": 62,
   "id": "satellite-fashion",
   "metadata": {},
   "outputs": [],
   "source": [
    "lv_assocs = lv_assocs.assign(n_cases=lv_assocs[\"n_cases\"].apply(num_to_int_str))"
   ]
  },
  {
   "cell_type": "code",
   "execution_count": 63,
   "id": "brazilian-inclusion",
   "metadata": {},
   "outputs": [],
   "source": [
    "lv_assocs = lv_assocs.rename(columns={\"phenotype\": \"phecode\"})"
   ]
  },
  {
   "cell_type": "code",
   "execution_count": 64,
   "id": "victorian-motivation",
   "metadata": {},
   "outputs": [
    {
     "data": {
      "text/plain": [
       "(5, 7)"
      ]
     },
     "execution_count": 64,
     "metadata": {},
     "output_type": "execute_result"
    }
   ],
   "source": [
    "lv_assocs.shape"
   ]
  },
  {
   "cell_type": "code",
   "execution_count": 65,
   "id": "inside-tradition",
   "metadata": {},
   "outputs": [],
   "source": [
    "lv_assocs = lv_assocs[[\"phecode\", \"phenotype_desc\", \"n\", \"n_cases\", \"fdr\"]]"
   ]
  },
  {
   "cell_type": "code",
   "execution_count": 66,
   "id": "harmful-glance",
   "metadata": {},
   "outputs": [],
   "source": [
    "lv_assocs = lv_assocs.rename(\n",
    "    columns={\n",
    "        \"lv\": \"Latent variable (LV)\",\n",
    "        #         \"coef\": r\"$\\beta$\",\n",
    "        \"fdr\": \"FDR\",\n",
    "        \"phecode\": \"Phecode\",\n",
    "        \"phenotype_desc\": \"Trait description\",\n",
    "        \"n\": \"Sample size\",\n",
    "        \"n_cases\": \"Cases\",\n",
    "    }\n",
    ")"
   ]
  },
  {
   "cell_type": "code",
   "execution_count": 67,
   "id": "russian-quilt",
   "metadata": {},
   "outputs": [
    {
     "data": {
      "text/html": [
       "<div>\n",
       "<style scoped>\n",
       "    .dataframe tbody tr th:only-of-type {\n",
       "        vertical-align: middle;\n",
       "    }\n",
       "\n",
       "    .dataframe tbody tr th {\n",
       "        vertical-align: top;\n",
       "    }\n",
       "\n",
       "    .dataframe thead th {\n",
       "        text-align: right;\n",
       "    }\n",
       "</style>\n",
       "<table border=\"1\" class=\"dataframe\">\n",
       "  <thead>\n",
       "    <tr style=\"text-align: right;\">\n",
       "      <th></th>\n",
       "      <th>Phecode</th>\n",
       "      <th>Trait description</th>\n",
       "      <th>Sample size</th>\n",
       "      <th>Cases</th>\n",
       "      <th>FDR</th>\n",
       "    </tr>\n",
       "  </thead>\n",
       "  <tbody>\n",
       "    <tr>\n",
       "      <th>10859</th>\n",
       "      <td>286</td>\n",
       "      <td>Coagulation defects</td>\n",
       "      <td>50,182</td>\n",
       "      <td>2,976</td>\n",
       "      <td>1.33e&amp;#8209;11</td>\n",
       "    </tr>\n",
       "    <tr>\n",
       "      <th>175687</th>\n",
       "      <td>452</td>\n",
       "      <td>Other venous embolism and thrombosis</td>\n",
       "      <td>40,476</td>\n",
       "      <td>3,816</td>\n",
       "      <td>1.52e&amp;#8209;05</td>\n",
       "    </tr>\n",
       "    <tr>\n",
       "      <th>61195</th>\n",
       "      <td>452.2</td>\n",
       "      <td>Deep vein thrombosis [DVT]</td>\n",
       "      <td>38,791</td>\n",
       "      <td>2,131</td>\n",
       "      <td>4.47e&amp;#8209;05</td>\n",
       "    </tr>\n",
       "    <tr>\n",
       "      <th>225036</th>\n",
       "      <td>244.4</td>\n",
       "      <td>Hypothyroidism NOS</td>\n",
       "      <td>53,968</td>\n",
       "      <td>9,284</td>\n",
       "      <td>1.12e&amp;#8209;02</td>\n",
       "    </tr>\n",
       "    <tr>\n",
       "      <th>288204</th>\n",
       "      <td>244</td>\n",
       "      <td>Hypothyroidism</td>\n",
       "      <td>54,404</td>\n",
       "      <td>9,720</td>\n",
       "      <td>1.42e&amp;#8209;02</td>\n",
       "    </tr>\n",
       "  </tbody>\n",
       "</table>\n",
       "</div>"
      ],
      "text/plain": [
       "       Phecode                     Trait description Sample size  Cases  \\\n",
       "10859      286                   Coagulation defects      50,182  2,976   \n",
       "175687     452  Other venous embolism and thrombosis      40,476  3,816   \n",
       "61195    452.2            Deep vein thrombosis [DVT]      38,791  2,131   \n",
       "225036   244.4                    Hypothyroidism NOS      53,968  9,284   \n",
       "288204     244                        Hypothyroidism      54,404  9,720   \n",
       "\n",
       "                   FDR  \n",
       "10859   1.33e&#8209;11  \n",
       "175687  1.52e&#8209;05  \n",
       "61195   4.47e&#8209;05  \n",
       "225036  1.12e&#8209;02  \n",
       "288204  1.42e&#8209;02  "
      ]
     },
     "metadata": {},
     "output_type": "display_data"
    }
   ],
   "source": [
    "with pd.option_context(\n",
    "    \"display.max_rows\", None, \"display.max_columns\", None, \"display.max_colwidth\", None\n",
    "):\n",
    "    display(lv_assocs)"
   ]
  },
  {
   "cell_type": "markdown",
   "id": "egyptian-renaissance",
   "metadata": {},
   "source": [
    "### Fill empty"
   ]
  },
  {
   "cell_type": "code",
   "execution_count": 68,
   "id": "rocky-advice",
   "metadata": {},
   "outputs": [],
   "source": [
    "if lv_assocs.shape[0] == 0:\n",
    "    lv_assocs = pd.DataFrame(columns=lv_assocs.columns.copy()).astype(str)\n",
    "    lv_assocs.loc[0, \"Phecode\"] = \"No significant associations\"\n",
    "    lv_assocs = lv_assocs.fillna(\"\")\n",
    "\n",
    "    display(lv_assocs)"
   ]
  },
  {
   "cell_type": "markdown",
   "id": "innocent-crowd",
   "metadata": {},
   "source": [
    "### Save"
   ]
  },
  {
   "cell_type": "code",
   "execution_count": 69,
   "id": "removable-marking",
   "metadata": {},
   "outputs": [
    {
     "data": {
      "text/plain": [
       "'<!-- LV57:emerge_traits_assocs:start -->'"
      ]
     },
     "metadata": {},
     "output_type": "display_data"
    },
    {
     "data": {
      "text/plain": [
       "'<!-- LV57:emerge_traits_assocs:end -->'"
      ]
     },
     "metadata": {},
     "output_type": "display_data"
    }
   ],
   "source": [
    "# start\n",
    "lv_file_mark_start = LV_FILE_MARK_TEMPLATE.format(\n",
    "    result_set=result_set, lv=LV_NAME, position=\"start\"\n",
    ")\n",
    "display(lv_file_mark_start)\n",
    "\n",
    "# end\n",
    "lv_file_mark_end = LV_FILE_MARK_TEMPLATE.format(\n",
    "    result_set=result_set, lv=LV_NAME, position=\"end\"\n",
    ")\n",
    "display(lv_file_mark_end)"
   ]
  },
  {
   "cell_type": "code",
   "execution_count": 70,
   "id": "eight-command",
   "metadata": {},
   "outputs": [],
   "source": [
    "new_content = lv_assocs.to_markdown(index=False, disable_numparse=True)"
   ]
  },
  {
   "cell_type": "code",
   "execution_count": 71,
   "id": "anonymous-involvement",
   "metadata": {},
   "outputs": [
    {
     "data": {
      "text/plain": [
       "'Table: Significant trait associations of LV57 in eMERGE. {#tbl:sup:emerge_assocs:lv57}'"
      ]
     },
     "metadata": {},
     "output_type": "display_data"
    }
   ],
   "source": [
    "# add table caption\n",
    "table_caption = TABLE_CAPTION.format(\n",
    "    lv_name=LV_NAME,\n",
    "    result_set_name=RESULT_SET_NAMES[result_set],\n",
    "    table_id=\"{\"\n",
    "    + TABLE_CAPTION_ID.format(result_set=result_set, lv_name_lower_case=LV_NAME.lower())\n",
    "    + \"}\",\n",
    ")\n",
    "display(table_caption)"
   ]
  },
  {
   "cell_type": "code",
   "execution_count": 72,
   "id": "possible-recruitment",
   "metadata": {},
   "outputs": [],
   "source": [
    "new_content += \"\\n\\n\" + table_caption"
   ]
  },
  {
   "cell_type": "code",
   "execution_count": 73,
   "id": "social-helicopter",
   "metadata": {},
   "outputs": [],
   "source": [
    "full_new_content = (\n",
    "    lv_file_mark_start + \"\\n\" + new_content.strip() + \"\\n\" + lv_file_mark_end\n",
    ")"
   ]
  },
  {
   "cell_type": "code",
   "execution_count": 74,
   "id": "governmental-cocktail",
   "metadata": {},
   "outputs": [],
   "source": [
    "with open(OUTPUT_FILE_PATH, \"r\", encoding=\"utf8\") as f:\n",
    "    file_content = f.read()"
   ]
  },
  {
   "cell_type": "code",
   "execution_count": 75,
   "id": "prompt-bronze",
   "metadata": {},
   "outputs": [],
   "source": [
    "new_file_content = re.sub(\n",
    "    lv_file_mark_start + \".*?\" + lv_file_mark_end,\n",
    "    full_new_content,\n",
    "    file_content,\n",
    "    flags=re.DOTALL,\n",
    ")"
   ]
  },
  {
   "cell_type": "code",
   "execution_count": 76,
   "id": "complete-galaxy",
   "metadata": {},
   "outputs": [],
   "source": [
    "with open(OUTPUT_FILE_PATH, \"w\", encoding=\"utf8\") as f:\n",
    "    f.write(new_file_content)  # .replace(\"\\beta\", r\"\\beta\"))"
   ]
  },
  {
   "cell_type": "code",
   "execution_count": null,
   "id": "behind-evidence",
   "metadata": {},
   "outputs": [],
   "source": []
  }
 ],
 "metadata": {
  "jupytext": {
   "cell_metadata_filter": "all,-execution,-papermill,-trusted",
   "formats": "ipynb,py//py:percent"
  },
  "kernelspec": {
   "display_name": "Python 3 (ipykernel)",
   "language": "python",
   "name": "python3"
  },
  "language_info": {
   "codemirror_mode": {
    "name": "ipython",
    "version": 3
   },
   "file_extension": ".py",
   "mimetype": "text/x-python",
   "name": "python",
   "nbconvert_exporter": "python",
   "pygments_lexer": "ipython3",
   "version": "3.8.13"
  },
  "toc-autonumbering": true
 },
 "nbformat": 4,
 "nbformat_minor": 5
}
