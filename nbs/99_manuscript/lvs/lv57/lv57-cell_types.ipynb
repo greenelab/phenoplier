{
 "cells": [
  {
   "cell_type": "markdown",
   "id": "ethical-shaft",
   "metadata": {
    "papermill": {
     "duration": 0.006593,
     "end_time": "2021-05-11T19:09:55.733221",
     "exception": false,
     "start_time": "2021-05-11T19:09:55.726628",
     "status": "completed"
    },
    "tags": []
   },
   "source": [
    "# Description"
   ]
  },
  {
   "cell_type": "markdown",
   "id": "immune-conversation",
   "metadata": {
    "papermill": {
     "duration": 0.00668,
     "end_time": "2021-05-11T19:09:55.745410",
     "exception": false,
     "start_time": "2021-05-11T19:09:55.738730",
     "status": "completed"
    },
    "tags": []
   },
   "source": [
    "Generates the figure for top cell types for a specified LV (in Settings section below)."
   ]
  },
  {
   "cell_type": "markdown",
   "id": "lasting-essex",
   "metadata": {
    "papermill": {
     "duration": 0.006223,
     "end_time": "2021-05-11T19:09:55.756959",
     "exception": false,
     "start_time": "2021-05-11T19:09:55.750736",
     "status": "completed"
    },
    "tags": []
   },
   "source": [
    "# Modules loading"
   ]
  },
  {
   "cell_type": "code",
   "execution_count": 1,
   "id": "foreign-indian",
   "metadata": {
    "papermill": {
     "duration": 0.01906,
     "end_time": "2021-05-11T19:09:55.781515",
     "exception": false,
     "start_time": "2021-05-11T19:09:55.762455",
     "status": "completed"
    },
    "tags": []
   },
   "outputs": [],
   "source": [
    "%load_ext autoreload\n",
    "%autoreload 2"
   ]
  },
  {
   "cell_type": "code",
   "execution_count": 2,
   "id": "future-empty",
   "metadata": {
    "papermill": {
     "duration": 0.993432,
     "end_time": "2021-05-11T19:09:56.780403",
     "exception": false,
     "start_time": "2021-05-11T19:09:55.786971",
     "status": "completed"
    },
    "tags": []
   },
   "outputs": [],
   "source": [
    "import re\n",
    "from pathlib import Path\n",
    "\n",
    "import pandas as pd\n",
    "import matplotlib.pyplot as plt\n",
    "import seaborn as sns\n",
    "\n",
    "from data.recount2 import LVAnalysis\n",
    "from utils import chunker\n",
    "import conf"
   ]
  },
  {
   "cell_type": "markdown",
   "id": "jewish-weekend",
   "metadata": {
    "papermill": {
     "duration": 0.005973,
     "end_time": "2021-05-11T19:09:56.792495",
     "exception": false,
     "start_time": "2021-05-11T19:09:56.786522",
     "status": "completed"
    },
    "tags": []
   },
   "source": [
    "# Settings"
   ]
  },
  {
   "cell_type": "code",
   "execution_count": 3,
   "id": "starting-microwave",
   "metadata": {
    "papermill": {
     "duration": 0.019548,
     "end_time": "2021-05-11T19:09:56.817689",
     "exception": false,
     "start_time": "2021-05-11T19:09:56.798141",
     "status": "completed"
    },
    "tags": [
     "parameters"
    ]
   },
   "outputs": [],
   "source": [
    "LV_NAME = \"LV57\""
   ]
  },
  {
   "cell_type": "code",
   "execution_count": 4,
   "id": "cutting-maple",
   "metadata": {},
   "outputs": [],
   "source": [
    "LV_AXIS_THRESHOLD = 3.0\n",
    "N_TOP_SAMPLES = 400\n",
    "N_TOP_ATTRS = 25"
   ]
  },
  {
   "cell_type": "code",
   "execution_count": 5,
   "id": "eastern-equity",
   "metadata": {},
   "outputs": [
    {
     "data": {
      "text/plain": [
       "PosixPath('/home/miltondp/projects/labs/greenelab/phenoplier_manuscript/content/images/lvs_analysis/lv57')"
      ]
     },
     "metadata": {},
     "output_type": "display_data"
    }
   ],
   "source": [
    "OUTPUT_FIGURES_DIR = Path(\n",
    "    conf.MANUSCRIPT[\"FIGURES_DIR\"], \"lvs_analysis\", f\"{LV_NAME.lower()}\"\n",
    ").resolve()\n",
    "display(OUTPUT_FIGURES_DIR)\n",
    "OUTPUT_FIGURES_DIR.mkdir(parents=True, exist_ok=True)"
   ]
  },
  {
   "cell_type": "code",
   "execution_count": 6,
   "id": "first-castle",
   "metadata": {},
   "outputs": [
    {
     "data": {
      "text/plain": [
       "PosixPath('/home/miltondp/projects/labs/greenelab/phenoplier_manuscript/content/images/lvs_analysis/lv57/lv57-cell_types.svg')"
      ]
     },
     "metadata": {},
     "output_type": "display_data"
    }
   ],
   "source": [
    "OUTPUT_CELL_TYPE_FILEPATH = OUTPUT_FIGURES_DIR / f\"{LV_NAME.lower()}-cell_types.svg\"\n",
    "display(OUTPUT_CELL_TYPE_FILEPATH)"
   ]
  },
  {
   "cell_type": "markdown",
   "id": "independent-shareware",
   "metadata": {
    "papermill": {
     "duration": 0.005592,
     "end_time": "2021-05-11T19:09:56.854406",
     "exception": false,
     "start_time": "2021-05-11T19:09:56.848814",
     "status": "completed"
    },
    "tags": []
   },
   "source": [
    "# Load MultiPLIER summary"
   ]
  },
  {
   "cell_type": "code",
   "execution_count": 7,
   "id": "english-baghdad",
   "metadata": {
    "papermill": {
     "duration": 0.020251,
     "end_time": "2021-05-11T19:09:56.880435",
     "exception": false,
     "start_time": "2021-05-11T19:09:56.860184",
     "status": "completed"
    },
    "tags": []
   },
   "outputs": [],
   "source": [
    "multiplier_model_summary = pd.read_pickle(conf.MULTIPLIER[\"MODEL_SUMMARY_FILE\"])"
   ]
  },
  {
   "cell_type": "code",
   "execution_count": 8,
   "id": "developing-approval",
   "metadata": {
    "papermill": {
     "duration": 0.02062,
     "end_time": "2021-05-11T19:09:56.906744",
     "exception": false,
     "start_time": "2021-05-11T19:09:56.886124",
     "status": "completed"
    },
    "tags": []
   },
   "outputs": [
    {
     "data": {
      "text/plain": [
       "(2157, 5)"
      ]
     },
     "execution_count": 8,
     "metadata": {},
     "output_type": "execute_result"
    }
   ],
   "source": [
    "multiplier_model_summary.shape"
   ]
  },
  {
   "cell_type": "code",
   "execution_count": 9,
   "id": "automatic-arnold",
   "metadata": {
    "papermill": {
     "duration": 0.024737,
     "end_time": "2021-05-11T19:09:56.937493",
     "exception": false,
     "start_time": "2021-05-11T19:09:56.912756",
     "status": "completed"
    },
    "tags": []
   },
   "outputs": [
    {
     "data": {
      "text/html": [
       "<div>\n",
       "<style scoped>\n",
       "    .dataframe tbody tr th:only-of-type {\n",
       "        vertical-align: middle;\n",
       "    }\n",
       "\n",
       "    .dataframe tbody tr th {\n",
       "        vertical-align: top;\n",
       "    }\n",
       "\n",
       "    .dataframe thead th {\n",
       "        text-align: right;\n",
       "    }\n",
       "</style>\n",
       "<table border=\"1\" class=\"dataframe\">\n",
       "  <thead>\n",
       "    <tr style=\"text-align: right;\">\n",
       "      <th></th>\n",
       "      <th>pathway</th>\n",
       "      <th>LV index</th>\n",
       "      <th>AUC</th>\n",
       "      <th>p-value</th>\n",
       "      <th>FDR</th>\n",
       "    </tr>\n",
       "  </thead>\n",
       "  <tbody>\n",
       "    <tr>\n",
       "      <th>1</th>\n",
       "      <td>KEGG_LYSINE_DEGRADATION</td>\n",
       "      <td>1</td>\n",
       "      <td>0.388059</td>\n",
       "      <td>0.866078</td>\n",
       "      <td>0.956005</td>\n",
       "    </tr>\n",
       "    <tr>\n",
       "      <th>2</th>\n",
       "      <td>REACTOME_MRNA_SPLICING</td>\n",
       "      <td>1</td>\n",
       "      <td>0.733057</td>\n",
       "      <td>0.000048</td>\n",
       "      <td>0.000582</td>\n",
       "    </tr>\n",
       "    <tr>\n",
       "      <th>3</th>\n",
       "      <td>MIPS_NOP56P_ASSOCIATED_PRE_RRNA_COMPLEX</td>\n",
       "      <td>1</td>\n",
       "      <td>0.680555</td>\n",
       "      <td>0.001628</td>\n",
       "      <td>0.011366</td>\n",
       "    </tr>\n",
       "    <tr>\n",
       "      <th>4</th>\n",
       "      <td>KEGG_DNA_REPLICATION</td>\n",
       "      <td>1</td>\n",
       "      <td>0.549473</td>\n",
       "      <td>0.312155</td>\n",
       "      <td>0.539951</td>\n",
       "    </tr>\n",
       "    <tr>\n",
       "      <th>5</th>\n",
       "      <td>PID_MYC_ACTIVPATHWAY</td>\n",
       "      <td>1</td>\n",
       "      <td>0.639303</td>\n",
       "      <td>0.021702</td>\n",
       "      <td>0.083739</td>\n",
       "    </tr>\n",
       "  </tbody>\n",
       "</table>\n",
       "</div>"
      ],
      "text/plain": [
       "                                   pathway LV index       AUC   p-value  \\\n",
       "1                  KEGG_LYSINE_DEGRADATION        1  0.388059  0.866078   \n",
       "2                   REACTOME_MRNA_SPLICING        1  0.733057  0.000048   \n",
       "3  MIPS_NOP56P_ASSOCIATED_PRE_RRNA_COMPLEX        1  0.680555  0.001628   \n",
       "4                     KEGG_DNA_REPLICATION        1  0.549473  0.312155   \n",
       "5                     PID_MYC_ACTIVPATHWAY        1  0.639303  0.021702   \n",
       "\n",
       "        FDR  \n",
       "1  0.956005  \n",
       "2  0.000582  \n",
       "3  0.011366  \n",
       "4  0.539951  \n",
       "5  0.083739  "
      ]
     },
     "execution_count": 9,
     "metadata": {},
     "output_type": "execute_result"
    }
   ],
   "source": [
    "multiplier_model_summary.head()"
   ]
  },
  {
   "cell_type": "markdown",
   "id": "tropical-climate",
   "metadata": {
    "papermill": {
     "duration": 0.006007,
     "end_time": "2021-05-11T19:09:56.949763",
     "exception": false,
     "start_time": "2021-05-11T19:09:56.943756",
     "status": "completed"
    },
    "tags": []
   },
   "source": [
    "# Load data"
   ]
  },
  {
   "cell_type": "markdown",
   "id": "powered-optimization",
   "metadata": {
    "papermill": {
     "duration": 0.005873,
     "end_time": "2021-05-11T19:09:56.961602",
     "exception": false,
     "start_time": "2021-05-11T19:09:56.955729",
     "status": "completed"
    },
    "tags": []
   },
   "source": [
    "## Original data"
   ]
  },
  {
   "cell_type": "code",
   "execution_count": 10,
   "id": "muslim-oxford",
   "metadata": {
    "papermill": {
     "duration": 0.019571,
     "end_time": "2021-05-11T19:09:56.987255",
     "exception": false,
     "start_time": "2021-05-11T19:09:56.967684",
     "status": "completed"
    },
    "tags": []
   },
   "outputs": [],
   "source": [
    "INPUT_SUBSET = \"z_score_std\""
   ]
  },
  {
   "cell_type": "code",
   "execution_count": 11,
   "id": "working-vitamin",
   "metadata": {
    "papermill": {
     "duration": 0.019175,
     "end_time": "2021-05-11T19:09:57.025099",
     "exception": false,
     "start_time": "2021-05-11T19:09:57.005924",
     "status": "completed"
    },
    "tags": []
   },
   "outputs": [],
   "source": [
    "INPUT_STEM = \"projection-smultixcan-efo_partial-mashr-zscores\""
   ]
  },
  {
   "cell_type": "code",
   "execution_count": 12,
   "id": "secure-procedure",
   "metadata": {
    "papermill": {
     "duration": 0.020992,
     "end_time": "2021-05-11T19:09:57.052255",
     "exception": false,
     "start_time": "2021-05-11T19:09:57.031263",
     "status": "completed"
    },
    "tags": []
   },
   "outputs": [
    {
     "data": {
      "text/plain": [
       "PosixPath('/home/miltondp/projects/labs/greenelab/phenoplier/bases_data/base_orig/results/data_transformations/z_score_std/z_score_std-projection-smultixcan-efo_partial-mashr-zscores.pkl')"
      ]
     },
     "metadata": {},
     "output_type": "display_data"
    },
    {
     "data": {
      "text/plain": [
       "'z_score_std-projection-smultixcan-efo_partial-mashr-zscores'"
      ]
     },
     "metadata": {},
     "output_type": "display_data"
    }
   ],
   "source": [
    "input_filepath = Path(\n",
    "    conf.RESULTS[\"DATA_TRANSFORMATIONS_DIR\"],\n",
    "    INPUT_SUBSET,\n",
    "    f\"{INPUT_SUBSET}-{INPUT_STEM}.pkl\",\n",
    ").resolve()\n",
    "display(input_filepath)\n",
    "\n",
    "assert input_filepath.exists(), \"Input file does not exist\"\n",
    "\n",
    "input_filepath_stem = input_filepath.stem\n",
    "display(input_filepath_stem)"
   ]
  },
  {
   "cell_type": "code",
   "execution_count": 13,
   "id": "massive-detector",
   "metadata": {
    "papermill": {
     "duration": 0.032337,
     "end_time": "2021-05-11T19:09:57.090585",
     "exception": false,
     "start_time": "2021-05-11T19:09:57.058248",
     "status": "completed"
    },
    "tags": []
   },
   "outputs": [],
   "source": [
    "data = pd.read_pickle(input_filepath)"
   ]
  },
  {
   "cell_type": "code",
   "execution_count": 14,
   "id": "consecutive-cartoon",
   "metadata": {
    "papermill": {
     "duration": 0.01967,
     "end_time": "2021-05-11T19:09:57.116292",
     "exception": false,
     "start_time": "2021-05-11T19:09:57.096622",
     "status": "completed"
    },
    "tags": []
   },
   "outputs": [
    {
     "data": {
      "text/plain": [
       "(3752, 987)"
      ]
     },
     "execution_count": 14,
     "metadata": {},
     "output_type": "execute_result"
    }
   ],
   "source": [
    "data.shape"
   ]
  },
  {
   "cell_type": "code",
   "execution_count": 15,
   "id": "infrared-sheriff",
   "metadata": {
    "papermill": {
     "duration": 0.031843,
     "end_time": "2021-05-11T19:09:57.154356",
     "exception": false,
     "start_time": "2021-05-11T19:09:57.122513",
     "status": "completed"
    },
    "tags": []
   },
   "outputs": [
    {
     "data": {
      "text/html": [
       "<div>\n",
       "<style scoped>\n",
       "    .dataframe tbody tr th:only-of-type {\n",
       "        vertical-align: middle;\n",
       "    }\n",
       "\n",
       "    .dataframe tbody tr th {\n",
       "        vertical-align: top;\n",
       "    }\n",
       "\n",
       "    .dataframe thead th {\n",
       "        text-align: right;\n",
       "    }\n",
       "</style>\n",
       "<table border=\"1\" class=\"dataframe\">\n",
       "  <thead>\n",
       "    <tr style=\"text-align: right;\">\n",
       "      <th></th>\n",
       "      <th>LV1</th>\n",
       "      <th>LV2</th>\n",
       "      <th>LV3</th>\n",
       "      <th>LV4</th>\n",
       "      <th>LV5</th>\n",
       "      <th>LV6</th>\n",
       "      <th>LV7</th>\n",
       "      <th>LV8</th>\n",
       "      <th>LV9</th>\n",
       "      <th>LV10</th>\n",
       "      <th>...</th>\n",
       "      <th>LV978</th>\n",
       "      <th>LV979</th>\n",
       "      <th>LV980</th>\n",
       "      <th>LV981</th>\n",
       "      <th>LV982</th>\n",
       "      <th>LV983</th>\n",
       "      <th>LV984</th>\n",
       "      <th>LV985</th>\n",
       "      <th>LV986</th>\n",
       "      <th>LV987</th>\n",
       "    </tr>\n",
       "  </thead>\n",
       "  <tbody>\n",
       "    <tr>\n",
       "      <th>100001_raw-Food_weight</th>\n",
       "      <td>-0.695006</td>\n",
       "      <td>1.962565</td>\n",
       "      <td>0.057683</td>\n",
       "      <td>0.878731</td>\n",
       "      <td>-0.539977</td>\n",
       "      <td>1.481272</td>\n",
       "      <td>-0.396422</td>\n",
       "      <td>1.090180</td>\n",
       "      <td>0.759223</td>\n",
       "      <td>0.931395</td>\n",
       "      <td>...</td>\n",
       "      <td>1.129784</td>\n",
       "      <td>1.752343</td>\n",
       "      <td>-1.411403</td>\n",
       "      <td>2.823863</td>\n",
       "      <td>0.931116</td>\n",
       "      <td>-1.054519</td>\n",
       "      <td>0.432982</td>\n",
       "      <td>-0.633597</td>\n",
       "      <td>0.554279</td>\n",
       "      <td>-0.642479</td>\n",
       "    </tr>\n",
       "    <tr>\n",
       "      <th>100002_raw-Energy</th>\n",
       "      <td>-1.528127</td>\n",
       "      <td>-0.345309</td>\n",
       "      <td>-0.148953</td>\n",
       "      <td>-0.242060</td>\n",
       "      <td>0.373427</td>\n",
       "      <td>0.791092</td>\n",
       "      <td>0.263477</td>\n",
       "      <td>0.987702</td>\n",
       "      <td>0.354391</td>\n",
       "      <td>1.416059</td>\n",
       "      <td>...</td>\n",
       "      <td>0.224604</td>\n",
       "      <td>0.769882</td>\n",
       "      <td>-0.509482</td>\n",
       "      <td>0.091153</td>\n",
       "      <td>2.286789</td>\n",
       "      <td>-1.008256</td>\n",
       "      <td>-0.029764</td>\n",
       "      <td>1.737229</td>\n",
       "      <td>-0.272107</td>\n",
       "      <td>-0.526125</td>\n",
       "    </tr>\n",
       "    <tr>\n",
       "      <th>100003_raw-Protein</th>\n",
       "      <td>-0.704572</td>\n",
       "      <td>-1.011299</td>\n",
       "      <td>0.671420</td>\n",
       "      <td>0.143991</td>\n",
       "      <td>0.615212</td>\n",
       "      <td>0.874212</td>\n",
       "      <td>-0.040998</td>\n",
       "      <td>0.915170</td>\n",
       "      <td>0.254369</td>\n",
       "      <td>-0.084237</td>\n",
       "      <td>...</td>\n",
       "      <td>1.003019</td>\n",
       "      <td>1.044314</td>\n",
       "      <td>-2.376108</td>\n",
       "      <td>0.004778</td>\n",
       "      <td>0.053714</td>\n",
       "      <td>-0.892447</td>\n",
       "      <td>-0.183800</td>\n",
       "      <td>1.377991</td>\n",
       "      <td>-0.278794</td>\n",
       "      <td>-0.419733</td>\n",
       "    </tr>\n",
       "    <tr>\n",
       "      <th>100004_raw-Fat</th>\n",
       "      <td>-0.989832</td>\n",
       "      <td>-1.875490</td>\n",
       "      <td>0.261555</td>\n",
       "      <td>-1.420719</td>\n",
       "      <td>0.366238</td>\n",
       "      <td>1.167049</td>\n",
       "      <td>0.257387</td>\n",
       "      <td>0.717674</td>\n",
       "      <td>-0.997664</td>\n",
       "      <td>0.969825</td>\n",
       "      <td>...</td>\n",
       "      <td>0.585913</td>\n",
       "      <td>0.638314</td>\n",
       "      <td>0.119139</td>\n",
       "      <td>-0.140204</td>\n",
       "      <td>1.394326</td>\n",
       "      <td>-1.173402</td>\n",
       "      <td>0.555058</td>\n",
       "      <td>1.013982</td>\n",
       "      <td>-0.544506</td>\n",
       "      <td>-0.064061</td>\n",
       "    </tr>\n",
       "    <tr>\n",
       "      <th>100005_raw-Carbohydrate</th>\n",
       "      <td>-0.580143</td>\n",
       "      <td>0.243335</td>\n",
       "      <td>0.158966</td>\n",
       "      <td>-0.036558</td>\n",
       "      <td>0.068176</td>\n",
       "      <td>-0.202639</td>\n",
       "      <td>1.101281</td>\n",
       "      <td>0.675227</td>\n",
       "      <td>1.463432</td>\n",
       "      <td>1.010078</td>\n",
       "      <td>...</td>\n",
       "      <td>-0.249108</td>\n",
       "      <td>-0.026814</td>\n",
       "      <td>0.232713</td>\n",
       "      <td>0.323682</td>\n",
       "      <td>1.168642</td>\n",
       "      <td>-0.282935</td>\n",
       "      <td>0.653105</td>\n",
       "      <td>1.909526</td>\n",
       "      <td>0.199997</td>\n",
       "      <td>-1.656894</td>\n",
       "    </tr>\n",
       "  </tbody>\n",
       "</table>\n",
       "<p>5 rows × 987 columns</p>\n",
       "</div>"
      ],
      "text/plain": [
       "                              LV1       LV2       LV3       LV4       LV5  \\\n",
       "100001_raw-Food_weight  -0.695006  1.962565  0.057683  0.878731 -0.539977   \n",
       "100002_raw-Energy       -1.528127 -0.345309 -0.148953 -0.242060  0.373427   \n",
       "100003_raw-Protein      -0.704572 -1.011299  0.671420  0.143991  0.615212   \n",
       "100004_raw-Fat          -0.989832 -1.875490  0.261555 -1.420719  0.366238   \n",
       "100005_raw-Carbohydrate -0.580143  0.243335  0.158966 -0.036558  0.068176   \n",
       "\n",
       "                              LV6       LV7       LV8       LV9      LV10  \\\n",
       "100001_raw-Food_weight   1.481272 -0.396422  1.090180  0.759223  0.931395   \n",
       "100002_raw-Energy        0.791092  0.263477  0.987702  0.354391  1.416059   \n",
       "100003_raw-Protein       0.874212 -0.040998  0.915170  0.254369 -0.084237   \n",
       "100004_raw-Fat           1.167049  0.257387  0.717674 -0.997664  0.969825   \n",
       "100005_raw-Carbohydrate -0.202639  1.101281  0.675227  1.463432  1.010078   \n",
       "\n",
       "                         ...     LV978     LV979     LV980     LV981  \\\n",
       "100001_raw-Food_weight   ...  1.129784  1.752343 -1.411403  2.823863   \n",
       "100002_raw-Energy        ...  0.224604  0.769882 -0.509482  0.091153   \n",
       "100003_raw-Protein       ...  1.003019  1.044314 -2.376108  0.004778   \n",
       "100004_raw-Fat           ...  0.585913  0.638314  0.119139 -0.140204   \n",
       "100005_raw-Carbohydrate  ... -0.249108 -0.026814  0.232713  0.323682   \n",
       "\n",
       "                            LV982     LV983     LV984     LV985     LV986  \\\n",
       "100001_raw-Food_weight   0.931116 -1.054519  0.432982 -0.633597  0.554279   \n",
       "100002_raw-Energy        2.286789 -1.008256 -0.029764  1.737229 -0.272107   \n",
       "100003_raw-Protein       0.053714 -0.892447 -0.183800  1.377991 -0.278794   \n",
       "100004_raw-Fat           1.394326 -1.173402  0.555058  1.013982 -0.544506   \n",
       "100005_raw-Carbohydrate  1.168642 -0.282935  0.653105  1.909526  0.199997   \n",
       "\n",
       "                            LV987  \n",
       "100001_raw-Food_weight  -0.642479  \n",
       "100002_raw-Energy       -0.526125  \n",
       "100003_raw-Protein      -0.419733  \n",
       "100004_raw-Fat          -0.064061  \n",
       "100005_raw-Carbohydrate -1.656894  \n",
       "\n",
       "[5 rows x 987 columns]"
      ]
     },
     "execution_count": 15,
     "metadata": {},
     "output_type": "execute_result"
    }
   ],
   "source": [
    "data.head()"
   ]
  },
  {
   "cell_type": "markdown",
   "id": "threatened-counter",
   "metadata": {},
   "source": [
    "## LV data"
   ]
  },
  {
   "cell_type": "code",
   "execution_count": 16,
   "id": "representative-optimization",
   "metadata": {},
   "outputs": [],
   "source": [
    "lv_obj = LVAnalysis(LV_NAME, data)"
   ]
  },
  {
   "cell_type": "code",
   "execution_count": 17,
   "id": "economic-permission",
   "metadata": {},
   "outputs": [
    {
     "name": "stderr",
     "output_type": "stream",
     "text": [
      "[2021-08-02 15:43:15,675 - numexpr.utils] INFO: NumExpr defaulting to 8 threads.\n"
     ]
    },
    {
     "data": {
      "text/html": [
       "<div>\n",
       "<style scoped>\n",
       "    .dataframe tbody tr th:only-of-type {\n",
       "        vertical-align: middle;\n",
       "    }\n",
       "\n",
       "    .dataframe tbody tr th {\n",
       "        vertical-align: top;\n",
       "    }\n",
       "\n",
       "    .dataframe thead th {\n",
       "        text-align: right;\n",
       "    }\n",
       "</style>\n",
       "<table border=\"1\" class=\"dataframe\">\n",
       "  <thead>\n",
       "    <tr style=\"text-align: right;\">\n",
       "      <th></th>\n",
       "      <th>pathway</th>\n",
       "      <th>LV index</th>\n",
       "      <th>AUC</th>\n",
       "      <th>p-value</th>\n",
       "      <th>FDR</th>\n",
       "    </tr>\n",
       "  </thead>\n",
       "  <tbody>\n",
       "    <tr>\n",
       "      <th>278</th>\n",
       "      <td>IRIS_CD4Tcell-Th2-restimulated12hour</td>\n",
       "      <td>57</td>\n",
       "      <td>0.778650</td>\n",
       "      <td>0.000975</td>\n",
       "      <td>0.007566</td>\n",
       "    </tr>\n",
       "    <tr>\n",
       "      <th>279</th>\n",
       "      <td>IRIS_MemoryTcell-RO-activated</td>\n",
       "      <td>57</td>\n",
       "      <td>0.701502</td>\n",
       "      <td>0.005515</td>\n",
       "      <td>0.028732</td>\n",
       "    </tr>\n",
       "    <tr>\n",
       "      <th>280</th>\n",
       "      <td>Custom_Treg</td>\n",
       "      <td>57</td>\n",
       "      <td>0.983002</td>\n",
       "      <td>0.002075</td>\n",
       "      <td>0.013688</td>\n",
       "    </tr>\n",
       "    <tr>\n",
       "      <th>281</th>\n",
       "      <td>SVM T cells CD4 memory activated</td>\n",
       "      <td>57</td>\n",
       "      <td>0.790189</td>\n",
       "      <td>0.000279</td>\n",
       "      <td>0.002595</td>\n",
       "    </tr>\n",
       "    <tr>\n",
       "      <th>283</th>\n",
       "      <td>PID_NFAT_TFPATHWAY</td>\n",
       "      <td>57</td>\n",
       "      <td>0.737239</td>\n",
       "      <td>0.002393</td>\n",
       "      <td>0.015224</td>\n",
       "    </tr>\n",
       "    <tr>\n",
       "      <th>284</th>\n",
       "      <td>KEGG_AUTOIMMUNE_THYROID_DISEASE</td>\n",
       "      <td>57</td>\n",
       "      <td>0.777134</td>\n",
       "      <td>0.022010</td>\n",
       "      <td>0.084325</td>\n",
       "    </tr>\n",
       "    <tr>\n",
       "      <th>285</th>\n",
       "      <td>KEGG_ALLOGRAFT_REJECTION</td>\n",
       "      <td>57</td>\n",
       "      <td>0.998664</td>\n",
       "      <td>0.001539</td>\n",
       "      <td>0.010914</td>\n",
       "    </tr>\n",
       "    <tr>\n",
       "      <th>287</th>\n",
       "      <td>KEGG_T_CELL_RECEPTOR_SIGNALING_PATHWAY</td>\n",
       "      <td>57</td>\n",
       "      <td>0.695970</td>\n",
       "      <td>0.000117</td>\n",
       "      <td>0.001260</td>\n",
       "    </tr>\n",
       "  </tbody>\n",
       "</table>\n",
       "</div>"
      ],
      "text/plain": [
       "                                    pathway LV index       AUC   p-value  \\\n",
       "278    IRIS_CD4Tcell-Th2-restimulated12hour       57  0.778650  0.000975   \n",
       "279           IRIS_MemoryTcell-RO-activated       57  0.701502  0.005515   \n",
       "280                             Custom_Treg       57  0.983002  0.002075   \n",
       "281        SVM T cells CD4 memory activated       57  0.790189  0.000279   \n",
       "283                      PID_NFAT_TFPATHWAY       57  0.737239  0.002393   \n",
       "284         KEGG_AUTOIMMUNE_THYROID_DISEASE       57  0.777134  0.022010   \n",
       "285                KEGG_ALLOGRAFT_REJECTION       57  0.998664  0.001539   \n",
       "287  KEGG_T_CELL_RECEPTOR_SIGNALING_PATHWAY       57  0.695970  0.000117   \n",
       "\n",
       "          FDR  \n",
       "278  0.007566  \n",
       "279  0.028732  \n",
       "280  0.013688  \n",
       "281  0.002595  \n",
       "283  0.015224  \n",
       "284  0.084325  \n",
       "285  0.010914  \n",
       "287  0.001260  "
      ]
     },
     "execution_count": 17,
     "metadata": {},
     "output_type": "execute_result"
    }
   ],
   "source": [
    "multiplier_model_summary[\n",
    "    multiplier_model_summary[\"LV index\"].isin((LV_NAME[2:],))\n",
    "    & (\n",
    "        (multiplier_model_summary[\"FDR\"] < 0.05)\n",
    "        | (multiplier_model_summary[\"AUC\"] >= 0.75)\n",
    "    )\n",
    "]"
   ]
  },
  {
   "cell_type": "code",
   "execution_count": 18,
   "id": "active-alexander",
   "metadata": {},
   "outputs": [
    {
     "name": "stdout",
     "output_type": "stream",
     "text": [
      "SRP061881, SRP056049, SRP049462, SRP059057, SRP037735, SRP053186, SRP045052, SRP060416, SRP061932, SRP042161, SRP033466, SRP055474, SRP055569, SRP057852, SRP014213, SRP057196, SRP007947, SRP063840, SRP039591, SRP043339, SRP051368, SRP045570, SRP056733, SRP049648, SRP041826, SRP058667, SRP002184, SRP018853, SRP003901, SRP051736, SRP011054, SRP016003, SRP000599, SRP045352, SRP053004, SRP066834, SRP044286, SRP009247, SRP033135, SRP055675, SRP064259, SRP032775, SRP033248, SRP008145, SRP030041, SRP002326, SRP045565, SRP049238, SRP052740, SRP051369, SRP007596, SRP022052, SRP059170, SRP058773, SRP018838, SRP043960, "
     ]
    }
   ],
   "source": [
    "lv_data = lv_obj.get_experiments_data()"
   ]
  },
  {
   "cell_type": "code",
   "execution_count": 19,
   "id": "correct-infrastructure",
   "metadata": {},
   "outputs": [
    {
     "data": {
      "text/plain": [
       "(5574, 87)"
      ]
     },
     "execution_count": 19,
     "metadata": {},
     "output_type": "execute_result"
    }
   ],
   "source": [
    "lv_data.shape"
   ]
  },
  {
   "cell_type": "code",
   "execution_count": 20,
   "id": "overall-today",
   "metadata": {},
   "outputs": [
    {
     "data": {
      "text/html": [
       "<div>\n",
       "<style scoped>\n",
       "    .dataframe tbody tr th:only-of-type {\n",
       "        vertical-align: middle;\n",
       "    }\n",
       "\n",
       "    .dataframe tbody tr th {\n",
       "        vertical-align: top;\n",
       "    }\n",
       "\n",
       "    .dataframe thead th {\n",
       "        text-align: right;\n",
       "    }\n",
       "</style>\n",
       "<table border=\"1\" class=\"dataframe\">\n",
       "  <thead>\n",
       "    <tr style=\"text-align: right;\">\n",
       "      <th></th>\n",
       "      <th></th>\n",
       "      <th>diagnosis</th>\n",
       "      <th>tissue</th>\n",
       "      <th>cell type</th>\n",
       "      <th>treatment</th>\n",
       "      <th>cell population</th>\n",
       "      <th>activation</th>\n",
       "      <th>passages</th>\n",
       "      <th>bardcode</th>\n",
       "      <th>cell stimulation</th>\n",
       "      <th>phenotype</th>\n",
       "      <th>...</th>\n",
       "      <th>mapki treatment</th>\n",
       "      <th>cell-type</th>\n",
       "      <th>cohort</th>\n",
       "      <th>age (yrs)</th>\n",
       "      <th>gender</th>\n",
       "      <th>well number</th>\n",
       "      <th>reprogramming time point (day)</th>\n",
       "      <th>labexpid</th>\n",
       "      <th>induction</th>\n",
       "      <th>LV57</th>\n",
       "    </tr>\n",
       "    <tr>\n",
       "      <th>project</th>\n",
       "      <th>run</th>\n",
       "      <th></th>\n",
       "      <th></th>\n",
       "      <th></th>\n",
       "      <th></th>\n",
       "      <th></th>\n",
       "      <th></th>\n",
       "      <th></th>\n",
       "      <th></th>\n",
       "      <th></th>\n",
       "      <th></th>\n",
       "      <th></th>\n",
       "      <th></th>\n",
       "      <th></th>\n",
       "      <th></th>\n",
       "      <th></th>\n",
       "      <th></th>\n",
       "      <th></th>\n",
       "      <th></th>\n",
       "      <th></th>\n",
       "      <th></th>\n",
       "      <th></th>\n",
       "    </tr>\n",
       "  </thead>\n",
       "  <tbody>\n",
       "    <tr>\n",
       "      <th rowspan=\"5\" valign=\"top\">SRP061881</th>\n",
       "      <th>SRR2138065</th>\n",
       "      <td>Healthy control</td>\n",
       "      <td>Peripheral Blood</td>\n",
       "      <td>CD4+CD45RO+ T cells</td>\n",
       "      <td>JQ1(-)</td>\n",
       "      <td>NaN</td>\n",
       "      <td>NaN</td>\n",
       "      <td>NaN</td>\n",
       "      <td>NaN</td>\n",
       "      <td>NaN</td>\n",
       "      <td>NaN</td>\n",
       "      <td>...</td>\n",
       "      <td>NaN</td>\n",
       "      <td>NaN</td>\n",
       "      <td>NaN</td>\n",
       "      <td>NaN</td>\n",
       "      <td>NaN</td>\n",
       "      <td>NaN</td>\n",
       "      <td>NaN</td>\n",
       "      <td>NaN</td>\n",
       "      <td>NaN</td>\n",
       "      <td>1.871110</td>\n",
       "    </tr>\n",
       "    <tr>\n",
       "      <th>SRR2138066</th>\n",
       "      <td>Healthy control</td>\n",
       "      <td>Peripheral Blood</td>\n",
       "      <td>CD4+CD45RO+ T cells</td>\n",
       "      <td>JQ1(-)</td>\n",
       "      <td>NaN</td>\n",
       "      <td>NaN</td>\n",
       "      <td>NaN</td>\n",
       "      <td>NaN</td>\n",
       "      <td>NaN</td>\n",
       "      <td>NaN</td>\n",
       "      <td>...</td>\n",
       "      <td>NaN</td>\n",
       "      <td>NaN</td>\n",
       "      <td>NaN</td>\n",
       "      <td>NaN</td>\n",
       "      <td>NaN</td>\n",
       "      <td>NaN</td>\n",
       "      <td>NaN</td>\n",
       "      <td>NaN</td>\n",
       "      <td>NaN</td>\n",
       "      <td>1.792880</td>\n",
       "    </tr>\n",
       "    <tr>\n",
       "      <th>SRR2138067</th>\n",
       "      <td>Healthy control</td>\n",
       "      <td>Peripheral Blood</td>\n",
       "      <td>CD4+CD45RO+ T cells</td>\n",
       "      <td>JQ1(-)</td>\n",
       "      <td>NaN</td>\n",
       "      <td>NaN</td>\n",
       "      <td>NaN</td>\n",
       "      <td>NaN</td>\n",
       "      <td>NaN</td>\n",
       "      <td>NaN</td>\n",
       "      <td>...</td>\n",
       "      <td>NaN</td>\n",
       "      <td>NaN</td>\n",
       "      <td>NaN</td>\n",
       "      <td>NaN</td>\n",
       "      <td>NaN</td>\n",
       "      <td>NaN</td>\n",
       "      <td>NaN</td>\n",
       "      <td>NaN</td>\n",
       "      <td>NaN</td>\n",
       "      <td>1.880802</td>\n",
       "    </tr>\n",
       "    <tr>\n",
       "      <th>SRR2138068</th>\n",
       "      <td>Healthy control</td>\n",
       "      <td>Peripheral Blood</td>\n",
       "      <td>CD4+CD45RO+ T cells</td>\n",
       "      <td>JQ1(-)</td>\n",
       "      <td>NaN</td>\n",
       "      <td>NaN</td>\n",
       "      <td>NaN</td>\n",
       "      <td>NaN</td>\n",
       "      <td>NaN</td>\n",
       "      <td>NaN</td>\n",
       "      <td>...</td>\n",
       "      <td>NaN</td>\n",
       "      <td>NaN</td>\n",
       "      <td>NaN</td>\n",
       "      <td>NaN</td>\n",
       "      <td>NaN</td>\n",
       "      <td>NaN</td>\n",
       "      <td>NaN</td>\n",
       "      <td>NaN</td>\n",
       "      <td>NaN</td>\n",
       "      <td>1.868914</td>\n",
       "    </tr>\n",
       "    <tr>\n",
       "      <th>SRR2138077</th>\n",
       "      <td>JIA patient</td>\n",
       "      <td>Synovial Fluid</td>\n",
       "      <td>CD4+CD45RO+ T cells</td>\n",
       "      <td>JQ1(+)</td>\n",
       "      <td>NaN</td>\n",
       "      <td>NaN</td>\n",
       "      <td>NaN</td>\n",
       "      <td>NaN</td>\n",
       "      <td>NaN</td>\n",
       "      <td>NaN</td>\n",
       "      <td>...</td>\n",
       "      <td>NaN</td>\n",
       "      <td>NaN</td>\n",
       "      <td>NaN</td>\n",
       "      <td>NaN</td>\n",
       "      <td>NaN</td>\n",
       "      <td>NaN</td>\n",
       "      <td>NaN</td>\n",
       "      <td>NaN</td>\n",
       "      <td>NaN</td>\n",
       "      <td>1.733196</td>\n",
       "    </tr>\n",
       "  </tbody>\n",
       "</table>\n",
       "<p>5 rows × 87 columns</p>\n",
       "</div>"
      ],
      "text/plain": [
       "                            diagnosis            tissue            cell type  \\\n",
       "project   run                                                                  \n",
       "SRP061881 SRR2138065  Healthy control  Peripheral Blood  CD4+CD45RO+ T cells   \n",
       "          SRR2138066  Healthy control  Peripheral Blood  CD4+CD45RO+ T cells   \n",
       "          SRR2138067  Healthy control  Peripheral Blood  CD4+CD45RO+ T cells   \n",
       "          SRR2138068  Healthy control  Peripheral Blood  CD4+CD45RO+ T cells   \n",
       "          SRR2138077      JIA patient    Synovial Fluid  CD4+CD45RO+ T cells   \n",
       "\n",
       "                     treatment cell population activation passages bardcode  \\\n",
       "project   run                                                                 \n",
       "SRP061881 SRR2138065    JQ1(-)             NaN        NaN      NaN      NaN   \n",
       "          SRR2138066    JQ1(-)             NaN        NaN      NaN      NaN   \n",
       "          SRR2138067    JQ1(-)             NaN        NaN      NaN      NaN   \n",
       "          SRR2138068    JQ1(-)             NaN        NaN      NaN      NaN   \n",
       "          SRR2138077    JQ1(+)             NaN        NaN      NaN      NaN   \n",
       "\n",
       "                     cell stimulation phenotype  ... mapki treatment  \\\n",
       "project   run                                    ...                   \n",
       "SRP061881 SRR2138065              NaN       NaN  ...             NaN   \n",
       "          SRR2138066              NaN       NaN  ...             NaN   \n",
       "          SRR2138067              NaN       NaN  ...             NaN   \n",
       "          SRR2138068              NaN       NaN  ...             NaN   \n",
       "          SRR2138077              NaN       NaN  ...             NaN   \n",
       "\n",
       "                     cell-type cohort age (yrs) gender well number  \\\n",
       "project   run                                                        \n",
       "SRP061881 SRR2138065       NaN    NaN       NaN    NaN         NaN   \n",
       "          SRR2138066       NaN    NaN       NaN    NaN         NaN   \n",
       "          SRR2138067       NaN    NaN       NaN    NaN         NaN   \n",
       "          SRR2138068       NaN    NaN       NaN    NaN         NaN   \n",
       "          SRR2138077       NaN    NaN       NaN    NaN         NaN   \n",
       "\n",
       "                     reprogramming time point (day) labexpid induction  \\\n",
       "project   run                                                            \n",
       "SRP061881 SRR2138065                            NaN      NaN       NaN   \n",
       "          SRR2138066                            NaN      NaN       NaN   \n",
       "          SRR2138067                            NaN      NaN       NaN   \n",
       "          SRR2138068                            NaN      NaN       NaN   \n",
       "          SRR2138077                            NaN      NaN       NaN   \n",
       "\n",
       "                          LV57  \n",
       "project   run                   \n",
       "SRP061881 SRR2138065  1.871110  \n",
       "          SRR2138066  1.792880  \n",
       "          SRR2138067  1.880802  \n",
       "          SRR2138068  1.868914  \n",
       "          SRR2138077  1.733196  \n",
       "\n",
       "[5 rows x 87 columns]"
      ]
     },
     "execution_count": 20,
     "metadata": {},
     "output_type": "execute_result"
    }
   ],
   "source": [
    "lv_data.head()"
   ]
  },
  {
   "cell_type": "markdown",
   "id": "thick-design",
   "metadata": {},
   "source": [
    "# LV cell types analysis"
   ]
  },
  {
   "cell_type": "markdown",
   "id": "lesbian-rendering",
   "metadata": {},
   "source": [
    "## Get top attributes"
   ]
  },
  {
   "cell_type": "code",
   "execution_count": 21,
   "id": "genuine-queensland",
   "metadata": {},
   "outputs": [
    {
     "data": {
      "text/plain": [
       "diagnosis                        1.101964\n",
       "treatment                        1.060100\n",
       "cell population                  0.258077\n",
       "tissue                           0.148264\n",
       "cell type                        0.063179\n",
       "bardcode                         0.058719\n",
       "passages                         0.049729\n",
       "activation                       0.033816\n",
       "genotype                         0.027605\n",
       "cell stimulation                 0.027167\n",
       "phenotype                        0.027167\n",
       "culture condition                0.021831\n",
       "lab data id                      0.010650\n",
       "ectopic expression               0.009645\n",
       "p/i stimulation                  0.009645\n",
       "polarizing conditions            0.009168\n",
       "rna fraction                     0.009168\n",
       "collection site and cell type    0.006223\n",
       "bacterial community type         0.006223\n",
       "karyotype                        0.005849\n",
       "dtype: float64"
      ]
     },
     "metadata": {},
     "output_type": "display_data"
    }
   ],
   "source": [
    "lv_attrs = lv_obj.get_attributes_variation_score()\n",
    "display(lv_attrs.head(20))"
   ]
  },
  {
   "cell_type": "code",
   "execution_count": 22,
   "id": "chicken-coordinator",
   "metadata": {},
   "outputs": [
    {
     "data": {
      "text/plain": [
       "tissue            0.148264\n",
       "cell type         0.063179\n",
       "tissue subtype    0.003338\n",
       "tissue type       0.002110\n",
       "cell-type         0.000651\n",
       "dtype: float64"
      ]
     },
     "execution_count": 22,
     "metadata": {},
     "output_type": "execute_result"
    }
   ],
   "source": [
    "# show those with cell type or tissue in their name\n",
    "_tmp = pd.Series(lv_attrs.index)\n",
    "lv_attrs[\n",
    "    _tmp.str.match(\n",
    "        \"(?:cell.+type$)|(?:tissue$)|(?:tissue.+type$)\",\n",
    "        case=False,\n",
    "        flags=re.IGNORECASE,\n",
    "    ).values\n",
    "].sort_values(ascending=False)"
   ]
  },
  {
   "cell_type": "code",
   "execution_count": 23,
   "id": "becoming-occasion",
   "metadata": {},
   "outputs": [],
   "source": [
    "_tmp = lv_data.loc[\n",
    "    :,\n",
    "    [\n",
    "        \"cell type\",\n",
    "        \"cell-type\",\n",
    "        \"tissue\",\n",
    "        \"tissue type\",\n",
    "        \"tissue subtype\",\n",
    "        LV_NAME,\n",
    "    ],\n",
    "]"
   ]
  },
  {
   "cell_type": "code",
   "execution_count": 24,
   "id": "median-stroke",
   "metadata": {},
   "outputs": [],
   "source": [
    "_tmp_seq = list(chunker(_tmp.sort_values(LV_NAME, ascending=False), 25))"
   ]
  },
  {
   "cell_type": "code",
   "execution_count": 25,
   "id": "moving-vector",
   "metadata": {},
   "outputs": [
    {
     "data": {
      "text/html": [
       "<div>\n",
       "<style scoped>\n",
       "    .dataframe tbody tr th:only-of-type {\n",
       "        vertical-align: middle;\n",
       "    }\n",
       "\n",
       "    .dataframe tbody tr th {\n",
       "        vertical-align: top;\n",
       "    }\n",
       "\n",
       "    .dataframe thead th {\n",
       "        text-align: right;\n",
       "    }\n",
       "</style>\n",
       "<table border=\"1\" class=\"dataframe\">\n",
       "  <thead>\n",
       "    <tr style=\"text-align: right;\">\n",
       "      <th></th>\n",
       "      <th></th>\n",
       "      <th>cell type</th>\n",
       "      <th>cell-type</th>\n",
       "      <th>tissue</th>\n",
       "      <th>tissue type</th>\n",
       "      <th>tissue subtype</th>\n",
       "      <th>LV57</th>\n",
       "    </tr>\n",
       "    <tr>\n",
       "      <th>project</th>\n",
       "      <th>run</th>\n",
       "      <th></th>\n",
       "      <th></th>\n",
       "      <th></th>\n",
       "      <th></th>\n",
       "      <th></th>\n",
       "      <th></th>\n",
       "    </tr>\n",
       "  </thead>\n",
       "  <tbody>\n",
       "    <tr>\n",
       "      <th rowspan=\"25\" valign=\"top\">SRP061881</th>\n",
       "      <th>SRR2138082</th>\n",
       "      <td>CD4+CD45RO+ T cells</td>\n",
       "      <td>NaN</td>\n",
       "      <td>Synovial Fluid</td>\n",
       "      <td>NaN</td>\n",
       "      <td>NaN</td>\n",
       "      <td>3.237987</td>\n",
       "    </tr>\n",
       "    <tr>\n",
       "      <th>SRR2138084</th>\n",
       "      <td>CD4+CD45RO+ T cells</td>\n",
       "      <td>NaN</td>\n",
       "      <td>Synovial Fluid</td>\n",
       "      <td>NaN</td>\n",
       "      <td>NaN</td>\n",
       "      <td>3.232405</td>\n",
       "    </tr>\n",
       "    <tr>\n",
       "      <th>SRR2138081</th>\n",
       "      <td>CD4+CD45RO+ T cells</td>\n",
       "      <td>NaN</td>\n",
       "      <td>Synovial Fluid</td>\n",
       "      <td>NaN</td>\n",
       "      <td>NaN</td>\n",
       "      <td>3.215906</td>\n",
       "    </tr>\n",
       "    <tr>\n",
       "      <th>SRR2138083</th>\n",
       "      <td>CD4+CD45RO+ T cells</td>\n",
       "      <td>NaN</td>\n",
       "      <td>Synovial Fluid</td>\n",
       "      <td>NaN</td>\n",
       "      <td>NaN</td>\n",
       "      <td>3.198581</td>\n",
       "    </tr>\n",
       "    <tr>\n",
       "      <th>SRR2138052</th>\n",
       "      <td>CD4+CD45RO+ T cells</td>\n",
       "      <td>NaN</td>\n",
       "      <td>Peripheral Blood</td>\n",
       "      <td>NaN</td>\n",
       "      <td>NaN</td>\n",
       "      <td>2.897797</td>\n",
       "    </tr>\n",
       "    <tr>\n",
       "      <th>SRR2138050</th>\n",
       "      <td>CD4+CD45RO+ T cells</td>\n",
       "      <td>NaN</td>\n",
       "      <td>Peripheral Blood</td>\n",
       "      <td>NaN</td>\n",
       "      <td>NaN</td>\n",
       "      <td>2.882520</td>\n",
       "    </tr>\n",
       "    <tr>\n",
       "      <th>SRR2138051</th>\n",
       "      <td>CD4+CD45RO+ T cells</td>\n",
       "      <td>NaN</td>\n",
       "      <td>Peripheral Blood</td>\n",
       "      <td>NaN</td>\n",
       "      <td>NaN</td>\n",
       "      <td>2.842245</td>\n",
       "    </tr>\n",
       "    <tr>\n",
       "      <th>SRR2138049</th>\n",
       "      <td>CD4+CD45RO+ T cells</td>\n",
       "      <td>NaN</td>\n",
       "      <td>Peripheral Blood</td>\n",
       "      <td>NaN</td>\n",
       "      <td>NaN</td>\n",
       "      <td>2.822297</td>\n",
       "    </tr>\n",
       "    <tr>\n",
       "      <th>SRR2138076</th>\n",
       "      <td>CD4+CD45RO+ T cells</td>\n",
       "      <td>NaN</td>\n",
       "      <td>Synovial Fluid</td>\n",
       "      <td>NaN</td>\n",
       "      <td>NaN</td>\n",
       "      <td>2.691617</td>\n",
       "    </tr>\n",
       "    <tr>\n",
       "      <th>SRR2138073</th>\n",
       "      <td>CD4+CD45RO+ T cells</td>\n",
       "      <td>NaN</td>\n",
       "      <td>Synovial Fluid</td>\n",
       "      <td>NaN</td>\n",
       "      <td>NaN</td>\n",
       "      <td>2.680197</td>\n",
       "    </tr>\n",
       "    <tr>\n",
       "      <th>SRR2138074</th>\n",
       "      <td>CD4+CD45RO+ T cells</td>\n",
       "      <td>NaN</td>\n",
       "      <td>Synovial Fluid</td>\n",
       "      <td>NaN</td>\n",
       "      <td>NaN</td>\n",
       "      <td>2.671753</td>\n",
       "    </tr>\n",
       "    <tr>\n",
       "      <th>SRR2138075</th>\n",
       "      <td>CD4+CD45RO+ T cells</td>\n",
       "      <td>NaN</td>\n",
       "      <td>Synovial Fluid</td>\n",
       "      <td>NaN</td>\n",
       "      <td>NaN</td>\n",
       "      <td>2.617968</td>\n",
       "    </tr>\n",
       "    <tr>\n",
       "      <th>SRR2138092</th>\n",
       "      <td>CD4+CD45RO+ T cells</td>\n",
       "      <td>NaN</td>\n",
       "      <td>Synovial Fluid</td>\n",
       "      <td>NaN</td>\n",
       "      <td>NaN</td>\n",
       "      <td>2.433035</td>\n",
       "    </tr>\n",
       "    <tr>\n",
       "      <th>SRR2138089</th>\n",
       "      <td>CD4+CD45RO+ T cells</td>\n",
       "      <td>NaN</td>\n",
       "      <td>Synovial Fluid</td>\n",
       "      <td>NaN</td>\n",
       "      <td>NaN</td>\n",
       "      <td>2.428284</td>\n",
       "    </tr>\n",
       "    <tr>\n",
       "      <th>SRR2138091</th>\n",
       "      <td>CD4+CD45RO+ T cells</td>\n",
       "      <td>NaN</td>\n",
       "      <td>Synovial Fluid</td>\n",
       "      <td>NaN</td>\n",
       "      <td>NaN</td>\n",
       "      <td>2.417892</td>\n",
       "    </tr>\n",
       "    <tr>\n",
       "      <th>SRR2138090</th>\n",
       "      <td>CD4+CD45RO+ T cells</td>\n",
       "      <td>NaN</td>\n",
       "      <td>Synovial Fluid</td>\n",
       "      <td>NaN</td>\n",
       "      <td>NaN</td>\n",
       "      <td>2.409283</td>\n",
       "    </tr>\n",
       "    <tr>\n",
       "      <th>SRR2138041</th>\n",
       "      <td>CD4+CD45RO+ T cells</td>\n",
       "      <td>NaN</td>\n",
       "      <td>Peripheral Blood</td>\n",
       "      <td>NaN</td>\n",
       "      <td>NaN</td>\n",
       "      <td>2.040126</td>\n",
       "    </tr>\n",
       "    <tr>\n",
       "      <th>SRR2138042</th>\n",
       "      <td>CD4+CD45RO+ T cells</td>\n",
       "      <td>NaN</td>\n",
       "      <td>Peripheral Blood</td>\n",
       "      <td>NaN</td>\n",
       "      <td>NaN</td>\n",
       "      <td>2.027355</td>\n",
       "    </tr>\n",
       "    <tr>\n",
       "      <th>SRR2138044</th>\n",
       "      <td>CD4+CD45RO+ T cells</td>\n",
       "      <td>NaN</td>\n",
       "      <td>Peripheral Blood</td>\n",
       "      <td>NaN</td>\n",
       "      <td>NaN</td>\n",
       "      <td>2.026000</td>\n",
       "    </tr>\n",
       "    <tr>\n",
       "      <th>SRR2138043</th>\n",
       "      <td>CD4+CD45RO+ T cells</td>\n",
       "      <td>NaN</td>\n",
       "      <td>Peripheral Blood</td>\n",
       "      <td>NaN</td>\n",
       "      <td>NaN</td>\n",
       "      <td>2.002652</td>\n",
       "    </tr>\n",
       "    <tr>\n",
       "      <th>SRR2138059</th>\n",
       "      <td>CD4+CD45RO+ T cells</td>\n",
       "      <td>NaN</td>\n",
       "      <td>Peripheral Blood</td>\n",
       "      <td>NaN</td>\n",
       "      <td>NaN</td>\n",
       "      <td>1.928286</td>\n",
       "    </tr>\n",
       "    <tr>\n",
       "      <th>SRR2138058</th>\n",
       "      <td>CD4+CD45RO+ T cells</td>\n",
       "      <td>NaN</td>\n",
       "      <td>Peripheral Blood</td>\n",
       "      <td>NaN</td>\n",
       "      <td>NaN</td>\n",
       "      <td>1.901997</td>\n",
       "    </tr>\n",
       "    <tr>\n",
       "      <th>SRR2138057</th>\n",
       "      <td>CD4+CD45RO+ T cells</td>\n",
       "      <td>NaN</td>\n",
       "      <td>Peripheral Blood</td>\n",
       "      <td>NaN</td>\n",
       "      <td>NaN</td>\n",
       "      <td>1.885720</td>\n",
       "    </tr>\n",
       "    <tr>\n",
       "      <th>SRR2138060</th>\n",
       "      <td>CD4+CD45RO+ T cells</td>\n",
       "      <td>NaN</td>\n",
       "      <td>Peripheral Blood</td>\n",
       "      <td>NaN</td>\n",
       "      <td>NaN</td>\n",
       "      <td>1.884543</td>\n",
       "    </tr>\n",
       "    <tr>\n",
       "      <th>SRR2138067</th>\n",
       "      <td>CD4+CD45RO+ T cells</td>\n",
       "      <td>NaN</td>\n",
       "      <td>Peripheral Blood</td>\n",
       "      <td>NaN</td>\n",
       "      <td>NaN</td>\n",
       "      <td>1.880802</td>\n",
       "    </tr>\n",
       "  </tbody>\n",
       "</table>\n",
       "</div>"
      ],
      "text/plain": [
       "                                cell type cell-type            tissue  \\\n",
       "project   run                                                           \n",
       "SRP061881 SRR2138082  CD4+CD45RO+ T cells       NaN    Synovial Fluid   \n",
       "          SRR2138084  CD4+CD45RO+ T cells       NaN    Synovial Fluid   \n",
       "          SRR2138081  CD4+CD45RO+ T cells       NaN    Synovial Fluid   \n",
       "          SRR2138083  CD4+CD45RO+ T cells       NaN    Synovial Fluid   \n",
       "          SRR2138052  CD4+CD45RO+ T cells       NaN  Peripheral Blood   \n",
       "          SRR2138050  CD4+CD45RO+ T cells       NaN  Peripheral Blood   \n",
       "          SRR2138051  CD4+CD45RO+ T cells       NaN  Peripheral Blood   \n",
       "          SRR2138049  CD4+CD45RO+ T cells       NaN  Peripheral Blood   \n",
       "          SRR2138076  CD4+CD45RO+ T cells       NaN    Synovial Fluid   \n",
       "          SRR2138073  CD4+CD45RO+ T cells       NaN    Synovial Fluid   \n",
       "          SRR2138074  CD4+CD45RO+ T cells       NaN    Synovial Fluid   \n",
       "          SRR2138075  CD4+CD45RO+ T cells       NaN    Synovial Fluid   \n",
       "          SRR2138092  CD4+CD45RO+ T cells       NaN    Synovial Fluid   \n",
       "          SRR2138089  CD4+CD45RO+ T cells       NaN    Synovial Fluid   \n",
       "          SRR2138091  CD4+CD45RO+ T cells       NaN    Synovial Fluid   \n",
       "          SRR2138090  CD4+CD45RO+ T cells       NaN    Synovial Fluid   \n",
       "          SRR2138041  CD4+CD45RO+ T cells       NaN  Peripheral Blood   \n",
       "          SRR2138042  CD4+CD45RO+ T cells       NaN  Peripheral Blood   \n",
       "          SRR2138044  CD4+CD45RO+ T cells       NaN  Peripheral Blood   \n",
       "          SRR2138043  CD4+CD45RO+ T cells       NaN  Peripheral Blood   \n",
       "          SRR2138059  CD4+CD45RO+ T cells       NaN  Peripheral Blood   \n",
       "          SRR2138058  CD4+CD45RO+ T cells       NaN  Peripheral Blood   \n",
       "          SRR2138057  CD4+CD45RO+ T cells       NaN  Peripheral Blood   \n",
       "          SRR2138060  CD4+CD45RO+ T cells       NaN  Peripheral Blood   \n",
       "          SRR2138067  CD4+CD45RO+ T cells       NaN  Peripheral Blood   \n",
       "\n",
       "                     tissue type tissue subtype      LV57  \n",
       "project   run                                              \n",
       "SRP061881 SRR2138082         NaN            NaN  3.237987  \n",
       "          SRR2138084         NaN            NaN  3.232405  \n",
       "          SRR2138081         NaN            NaN  3.215906  \n",
       "          SRR2138083         NaN            NaN  3.198581  \n",
       "          SRR2138052         NaN            NaN  2.897797  \n",
       "          SRR2138050         NaN            NaN  2.882520  \n",
       "          SRR2138051         NaN            NaN  2.842245  \n",
       "          SRR2138049         NaN            NaN  2.822297  \n",
       "          SRR2138076         NaN            NaN  2.691617  \n",
       "          SRR2138073         NaN            NaN  2.680197  \n",
       "          SRR2138074         NaN            NaN  2.671753  \n",
       "          SRR2138075         NaN            NaN  2.617968  \n",
       "          SRR2138092         NaN            NaN  2.433035  \n",
       "          SRR2138089         NaN            NaN  2.428284  \n",
       "          SRR2138091         NaN            NaN  2.417892  \n",
       "          SRR2138090         NaN            NaN  2.409283  \n",
       "          SRR2138041         NaN            NaN  2.040126  \n",
       "          SRR2138042         NaN            NaN  2.027355  \n",
       "          SRR2138044         NaN            NaN  2.026000  \n",
       "          SRR2138043         NaN            NaN  2.002652  \n",
       "          SRR2138059         NaN            NaN  1.928286  \n",
       "          SRR2138058         NaN            NaN  1.901997  \n",
       "          SRR2138057         NaN            NaN  1.885720  \n",
       "          SRR2138060         NaN            NaN  1.884543  \n",
       "          SRR2138067         NaN            NaN  1.880802  "
      ]
     },
     "execution_count": 25,
     "metadata": {},
     "output_type": "execute_result"
    }
   ],
   "source": [
    "_tmp_seq[0]"
   ]
  },
  {
   "cell_type": "code",
   "execution_count": 26,
   "id": "exotic-index",
   "metadata": {},
   "outputs": [
    {
     "data": {
      "text/html": [
       "<div>\n",
       "<style scoped>\n",
       "    .dataframe tbody tr th:only-of-type {\n",
       "        vertical-align: middle;\n",
       "    }\n",
       "\n",
       "    .dataframe tbody tr th {\n",
       "        vertical-align: top;\n",
       "    }\n",
       "\n",
       "    .dataframe thead th {\n",
       "        text-align: right;\n",
       "    }\n",
       "</style>\n",
       "<table border=\"1\" class=\"dataframe\">\n",
       "  <thead>\n",
       "    <tr style=\"text-align: right;\">\n",
       "      <th></th>\n",
       "      <th></th>\n",
       "      <th>culture condition</th>\n",
       "      <th>genotype</th>\n",
       "      <th>lab data id</th>\n",
       "      <th>LV57</th>\n",
       "    </tr>\n",
       "    <tr>\n",
       "      <th>project</th>\n",
       "      <th>run</th>\n",
       "      <th></th>\n",
       "      <th></th>\n",
       "      <th></th>\n",
       "      <th></th>\n",
       "    </tr>\n",
       "  </thead>\n",
       "  <tbody>\n",
       "    <tr>\n",
       "      <th rowspan=\"10\" valign=\"top\">SRP053186</th>\n",
       "      <th>SRR1786588</th>\n",
       "      <td>3 day in vitro culture for Th0, treatment (IL6)</td>\n",
       "      <td>healthy control 3</td>\n",
       "      <td>790</td>\n",
       "      <td>0.449455</td>\n",
       "    </tr>\n",
       "    <tr>\n",
       "      <th>SRR1786606</th>\n",
       "      <td>3 day in vitro culture for Th0, treatment (IL6)</td>\n",
       "      <td>STAT1 GOF patient 5</td>\n",
       "      <td>845</td>\n",
       "      <td>0.428017</td>\n",
       "    </tr>\n",
       "    <tr>\n",
       "      <th>SRR1786589</th>\n",
       "      <td>3 day in vitro culture for Th0, treatment (IL27)</td>\n",
       "      <td>healthy control 3</td>\n",
       "      <td>791</td>\n",
       "      <td>0.423452</td>\n",
       "    </tr>\n",
       "    <tr>\n",
       "      <th>SRR1786603</th>\n",
       "      <td>3 day in vitro culture for Th0, treatment (IL6)</td>\n",
       "      <td>STAT1 GOF patient 4</td>\n",
       "      <td>842</td>\n",
       "      <td>0.420580</td>\n",
       "    </tr>\n",
       "    <tr>\n",
       "      <th>SRR1786601</th>\n",
       "      <td>3 day in vitro culture for Th0, treatment (IL27)</td>\n",
       "      <td>STAT1 GOF patient 3</td>\n",
       "      <td>840</td>\n",
       "      <td>0.414053</td>\n",
       "    </tr>\n",
       "    <tr>\n",
       "      <th>SRR1786586</th>\n",
       "      <td>3 day in vitro culture for Th0, treatment (IL27)</td>\n",
       "      <td>healthy control 2</td>\n",
       "      <td>788</td>\n",
       "      <td>0.396096</td>\n",
       "    </tr>\n",
       "    <tr>\n",
       "      <th>SRR1786585</th>\n",
       "      <td>3 day in vitro culture for Th0, treatment (IL6)</td>\n",
       "      <td>healthy control 2</td>\n",
       "      <td>787</td>\n",
       "      <td>0.392453</td>\n",
       "    </tr>\n",
       "    <tr>\n",
       "      <th>SRR1786607</th>\n",
       "      <td>3 day in vitro culture for Th0, treatment (IL27)</td>\n",
       "      <td>STAT1 GOF patient 5</td>\n",
       "      <td>846</td>\n",
       "      <td>0.391031</td>\n",
       "    </tr>\n",
       "    <tr>\n",
       "      <th>SRR1786600</th>\n",
       "      <td>3 day in vitro culture for Th0, treatment (IL6)</td>\n",
       "      <td>STAT1 GOF patient 3</td>\n",
       "      <td>839</td>\n",
       "      <td>0.387961</td>\n",
       "    </tr>\n",
       "    <tr>\n",
       "      <th>SRR1786587</th>\n",
       "      <td>3 day in vitro culture for Th0</td>\n",
       "      <td>healthy control 3</td>\n",
       "      <td>789</td>\n",
       "      <td>0.385411</td>\n",
       "    </tr>\n",
       "  </tbody>\n",
       "</table>\n",
       "</div>"
      ],
      "text/plain": [
       "                                                     culture condition  \\\n",
       "project   run                                                            \n",
       "SRP053186 SRR1786588   3 day in vitro culture for Th0, treatment (IL6)   \n",
       "          SRR1786606   3 day in vitro culture for Th0, treatment (IL6)   \n",
       "          SRR1786589  3 day in vitro culture for Th0, treatment (IL27)   \n",
       "          SRR1786603   3 day in vitro culture for Th0, treatment (IL6)   \n",
       "          SRR1786601  3 day in vitro culture for Th0, treatment (IL27)   \n",
       "          SRR1786586  3 day in vitro culture for Th0, treatment (IL27)   \n",
       "          SRR1786585   3 day in vitro culture for Th0, treatment (IL6)   \n",
       "          SRR1786607  3 day in vitro culture for Th0, treatment (IL27)   \n",
       "          SRR1786600   3 day in vitro culture for Th0, treatment (IL6)   \n",
       "          SRR1786587                    3 day in vitro culture for Th0   \n",
       "\n",
       "                                 genotype lab data id      LV57  \n",
       "project   run                                                    \n",
       "SRP053186 SRR1786588    healthy control 3         790  0.449455  \n",
       "          SRR1786606  STAT1 GOF patient 5         845  0.428017  \n",
       "          SRR1786589    healthy control 3         791  0.423452  \n",
       "          SRR1786603  STAT1 GOF patient 4         842  0.420580  \n",
       "          SRR1786601  STAT1 GOF patient 3         840  0.414053  \n",
       "          SRR1786586    healthy control 2         788  0.396096  \n",
       "          SRR1786585    healthy control 2         787  0.392453  \n",
       "          SRR1786607  STAT1 GOF patient 5         846  0.391031  \n",
       "          SRR1786600  STAT1 GOF patient 3         839  0.387961  \n",
       "          SRR1786587    healthy control 3         789  0.385411  "
      ]
     },
     "execution_count": 26,
     "metadata": {},
     "output_type": "execute_result"
    }
   ],
   "source": [
    "# what is there in these projects?\n",
    "lv_data.loc[[\"SRP053186\"]].dropna(how=\"all\", axis=1).sort_values(\n",
    "    LV_NAME, ascending=False\n",
    ").sort_values(LV_NAME, ascending=False).head(10)"
   ]
  },
  {
   "cell_type": "code",
   "execution_count": 27,
   "id": "smooth-camping",
   "metadata": {},
   "outputs": [],
   "source": [
    "SELECTED_ATTRIBUTE = \"cell type\""
   ]
  },
  {
   "cell_type": "code",
   "execution_count": 28,
   "id": "surrounded-artist",
   "metadata": {},
   "outputs": [],
   "source": [
    "# it has to be in the order desired for filling nans in the SELECTED_ATTRIBUTE\n",
    "SECOND_ATTRIBUTES = [\"tissue\", \"cell population\", \"activation\"]"
   ]
  },
  {
   "cell_type": "markdown",
   "id": "solid-louisiana",
   "metadata": {},
   "source": [
    "## Get plot data"
   ]
  },
  {
   "cell_type": "code",
   "execution_count": 29,
   "id": "wound-eleven",
   "metadata": {},
   "outputs": [],
   "source": [
    "plot_data = lv_data.loc[:, [SELECTED_ATTRIBUTE] + SECOND_ATTRIBUTES + [LV_NAME]]"
   ]
  },
  {
   "cell_type": "code",
   "execution_count": 30,
   "id": "adverse-spirituality",
   "metadata": {},
   "outputs": [],
   "source": [
    "# if blank/nan, fill cell type column with tissue content\n",
    "_new_column = plot_data[[SELECTED_ATTRIBUTE] + SECOND_ATTRIBUTES].fillna(\n",
    "    method=\"backfill\", axis=1\n",
    ")[SELECTED_ATTRIBUTE]\n",
    "plot_data[SELECTED_ATTRIBUTE] = _new_column\n",
    "plot_data = plot_data.drop(columns=SECOND_ATTRIBUTES)\n",
    "plot_data = plot_data.fillna({SELECTED_ATTRIBUTE: \"NOT CATEGORIZED\"})\n",
    "# plot_data = plot_data.dropna(subset=[SELECTED_ATTRIBUTE])"
   ]
  },
  {
   "cell_type": "code",
   "execution_count": 31,
   "id": "generous-possession",
   "metadata": {},
   "outputs": [],
   "source": [
    "plot_data = plot_data.sort_values(LV_NAME, ascending=False)"
   ]
  },
  {
   "cell_type": "code",
   "execution_count": 32,
   "id": "charged-hearing",
   "metadata": {},
   "outputs": [
    {
     "data": {
      "text/html": [
       "<div>\n",
       "<style scoped>\n",
       "    .dataframe tbody tr th:only-of-type {\n",
       "        vertical-align: middle;\n",
       "    }\n",
       "\n",
       "    .dataframe tbody tr th {\n",
       "        vertical-align: top;\n",
       "    }\n",
       "\n",
       "    .dataframe thead th {\n",
       "        text-align: right;\n",
       "    }\n",
       "</style>\n",
       "<table border=\"1\" class=\"dataframe\">\n",
       "  <thead>\n",
       "    <tr style=\"text-align: right;\">\n",
       "      <th></th>\n",
       "      <th></th>\n",
       "      <th>cell type</th>\n",
       "      <th>LV57</th>\n",
       "    </tr>\n",
       "    <tr>\n",
       "      <th>project</th>\n",
       "      <th>run</th>\n",
       "      <th></th>\n",
       "      <th></th>\n",
       "    </tr>\n",
       "  </thead>\n",
       "  <tbody>\n",
       "    <tr>\n",
       "      <th rowspan=\"20\" valign=\"top\">SRP061881</th>\n",
       "      <th>SRR2138082</th>\n",
       "      <td>CD4+CD45RO+ T cells</td>\n",
       "      <td>3.237987</td>\n",
       "    </tr>\n",
       "    <tr>\n",
       "      <th>SRR2138084</th>\n",
       "      <td>CD4+CD45RO+ T cells</td>\n",
       "      <td>3.232405</td>\n",
       "    </tr>\n",
       "    <tr>\n",
       "      <th>SRR2138081</th>\n",
       "      <td>CD4+CD45RO+ T cells</td>\n",
       "      <td>3.215906</td>\n",
       "    </tr>\n",
       "    <tr>\n",
       "      <th>SRR2138083</th>\n",
       "      <td>CD4+CD45RO+ T cells</td>\n",
       "      <td>3.198581</td>\n",
       "    </tr>\n",
       "    <tr>\n",
       "      <th>SRR2138052</th>\n",
       "      <td>CD4+CD45RO+ T cells</td>\n",
       "      <td>2.897797</td>\n",
       "    </tr>\n",
       "    <tr>\n",
       "      <th>SRR2138050</th>\n",
       "      <td>CD4+CD45RO+ T cells</td>\n",
       "      <td>2.882520</td>\n",
       "    </tr>\n",
       "    <tr>\n",
       "      <th>SRR2138051</th>\n",
       "      <td>CD4+CD45RO+ T cells</td>\n",
       "      <td>2.842245</td>\n",
       "    </tr>\n",
       "    <tr>\n",
       "      <th>SRR2138049</th>\n",
       "      <td>CD4+CD45RO+ T cells</td>\n",
       "      <td>2.822297</td>\n",
       "    </tr>\n",
       "    <tr>\n",
       "      <th>SRR2138076</th>\n",
       "      <td>CD4+CD45RO+ T cells</td>\n",
       "      <td>2.691617</td>\n",
       "    </tr>\n",
       "    <tr>\n",
       "      <th>SRR2138073</th>\n",
       "      <td>CD4+CD45RO+ T cells</td>\n",
       "      <td>2.680197</td>\n",
       "    </tr>\n",
       "    <tr>\n",
       "      <th>SRR2138074</th>\n",
       "      <td>CD4+CD45RO+ T cells</td>\n",
       "      <td>2.671753</td>\n",
       "    </tr>\n",
       "    <tr>\n",
       "      <th>SRR2138075</th>\n",
       "      <td>CD4+CD45RO+ T cells</td>\n",
       "      <td>2.617968</td>\n",
       "    </tr>\n",
       "    <tr>\n",
       "      <th>SRR2138092</th>\n",
       "      <td>CD4+CD45RO+ T cells</td>\n",
       "      <td>2.433035</td>\n",
       "    </tr>\n",
       "    <tr>\n",
       "      <th>SRR2138089</th>\n",
       "      <td>CD4+CD45RO+ T cells</td>\n",
       "      <td>2.428284</td>\n",
       "    </tr>\n",
       "    <tr>\n",
       "      <th>SRR2138091</th>\n",
       "      <td>CD4+CD45RO+ T cells</td>\n",
       "      <td>2.417892</td>\n",
       "    </tr>\n",
       "    <tr>\n",
       "      <th>SRR2138090</th>\n",
       "      <td>CD4+CD45RO+ T cells</td>\n",
       "      <td>2.409283</td>\n",
       "    </tr>\n",
       "    <tr>\n",
       "      <th>SRR2138041</th>\n",
       "      <td>CD4+CD45RO+ T cells</td>\n",
       "      <td>2.040126</td>\n",
       "    </tr>\n",
       "    <tr>\n",
       "      <th>SRR2138042</th>\n",
       "      <td>CD4+CD45RO+ T cells</td>\n",
       "      <td>2.027355</td>\n",
       "    </tr>\n",
       "    <tr>\n",
       "      <th>SRR2138044</th>\n",
       "      <td>CD4+CD45RO+ T cells</td>\n",
       "      <td>2.026000</td>\n",
       "    </tr>\n",
       "    <tr>\n",
       "      <th>SRR2138043</th>\n",
       "      <td>CD4+CD45RO+ T cells</td>\n",
       "      <td>2.002652</td>\n",
       "    </tr>\n",
       "  </tbody>\n",
       "</table>\n",
       "</div>"
      ],
      "text/plain": [
       "                                cell type      LV57\n",
       "project   run                                      \n",
       "SRP061881 SRR2138082  CD4+CD45RO+ T cells  3.237987\n",
       "          SRR2138084  CD4+CD45RO+ T cells  3.232405\n",
       "          SRR2138081  CD4+CD45RO+ T cells  3.215906\n",
       "          SRR2138083  CD4+CD45RO+ T cells  3.198581\n",
       "          SRR2138052  CD4+CD45RO+ T cells  2.897797\n",
       "          SRR2138050  CD4+CD45RO+ T cells  2.882520\n",
       "          SRR2138051  CD4+CD45RO+ T cells  2.842245\n",
       "          SRR2138049  CD4+CD45RO+ T cells  2.822297\n",
       "          SRR2138076  CD4+CD45RO+ T cells  2.691617\n",
       "          SRR2138073  CD4+CD45RO+ T cells  2.680197\n",
       "          SRR2138074  CD4+CD45RO+ T cells  2.671753\n",
       "          SRR2138075  CD4+CD45RO+ T cells  2.617968\n",
       "          SRR2138092  CD4+CD45RO+ T cells  2.433035\n",
       "          SRR2138089  CD4+CD45RO+ T cells  2.428284\n",
       "          SRR2138091  CD4+CD45RO+ T cells  2.417892\n",
       "          SRR2138090  CD4+CD45RO+ T cells  2.409283\n",
       "          SRR2138041  CD4+CD45RO+ T cells  2.040126\n",
       "          SRR2138042  CD4+CD45RO+ T cells  2.027355\n",
       "          SRR2138044  CD4+CD45RO+ T cells  2.026000\n",
       "          SRR2138043  CD4+CD45RO+ T cells  2.002652"
      ]
     },
     "execution_count": 32,
     "metadata": {},
     "output_type": "execute_result"
    }
   ],
   "source": [
    "plot_data.head(20)"
   ]
  },
  {
   "cell_type": "markdown",
   "id": "effective-breed",
   "metadata": {},
   "source": [
    "## Customize x-axis values"
   ]
  },
  {
   "cell_type": "markdown",
   "id": "quarterly-talent",
   "metadata": {},
   "source": [
    "When cell type values are not very clear, customize their names by looking at their specific studies to know exactly what the authors meant."
   ]
  },
  {
   "cell_type": "code",
   "execution_count": 33,
   "id": "chubby-admission",
   "metadata": {},
   "outputs": [],
   "source": [
    "final_plot_data = plot_data.replace(\n",
    "    {\n",
    "        SELECTED_ATTRIBUTE: {\n",
    "            #             \"thrombocytes\": \"Thrombocytes\",\n",
    "        }\n",
    "    }\n",
    ")"
   ]
  },
  {
   "cell_type": "code",
   "execution_count": 34,
   "id": "comparable-treaty",
   "metadata": {},
   "outputs": [
    {
     "name": "stderr",
     "output_type": "stream",
     "text": [
      "<ipython-input-34-01849704d069>:3: PerformanceWarning: indexing past lexsort depth may impact performance.\n",
      "  _tmp = final_plot_data.loc[(_srp_code,)].apply(\n",
      "<ipython-input-34-01849704d069>:12: PerformanceWarning: indexing past lexsort depth may impact performance.\n",
      "  _tmp = final_plot_data.loc[(_srp_code,)].apply(\n",
      "<ipython-input-34-01849704d069>:21: PerformanceWarning: indexing past lexsort depth may impact performance.\n",
      "  _tmp = final_plot_data.loc[(_srp_code,)].apply(\n"
     ]
    }
   ],
   "source": [
    "# add also tissue information to these projects\n",
    "_srp_code = \"SRP061881\"\n",
    "_tmp = final_plot_data.loc[(_srp_code,)].apply(\n",
    "    lambda x: lv_data.loc[(_srp_code, x.name), \"cell type\"]\n",
    "    + f\" ({lv_data.loc[(_srp_code, x.name), 'tissue']})\",\n",
    "    axis=1,\n",
    ")\n",
    "final_plot_data.loc[(_srp_code, _tmp.index), SELECTED_ATTRIBUTE] = _tmp.values\n",
    "\n",
    "\n",
    "_srp_code = \"SRP056049\"\n",
    "_tmp = final_plot_data.loc[(_srp_code,)].apply(\n",
    "    lambda x: lv_data.loc[(_srp_code, x.name), \"cell population\"]\n",
    "    + f\" ({lv_data.loc[(_srp_code, x.name), 'diagnosis']})\",\n",
    "    axis=1,\n",
    ")\n",
    "final_plot_data.loc[(_srp_code, _tmp.index), SELECTED_ATTRIBUTE] = _tmp.values\n",
    "\n",
    "\n",
    "_srp_code = \"SRP059057\"\n",
    "_tmp = final_plot_data.loc[(_srp_code,)].apply(\n",
    "    lambda x: lv_data.loc[(_srp_code, x.name), \"cell stimulation\"]\n",
    "    + f\" ({lv_data.loc[(_srp_code, x.name), 'phenotype']})\",\n",
    "    axis=1,\n",
    ")\n",
    "final_plot_data.loc[(_srp_code, _tmp.index), SELECTED_ATTRIBUTE] = _tmp.values"
   ]
  },
  {
   "cell_type": "code",
   "execution_count": 35,
   "id": "fifty-tuner",
   "metadata": {},
   "outputs": [],
   "source": [
    "# all samples from SRP049593 are fibroblasts\n",
    "final_plot_data[SELECTED_ATTRIBUTE] = final_plot_data.apply(\n",
    "    lambda x: \"Myeloma cells\" if x.name[0] in (\"SRP027015\",) else x[\"cell type\"],\n",
    "    axis=1,\n",
    ")"
   ]
  },
  {
   "cell_type": "code",
   "execution_count": 36,
   "id": "seeing-finder",
   "metadata": {},
   "outputs": [],
   "source": [
    "# take the top samples only\n",
    "final_plot_data = final_plot_data.sort_values(LV_NAME, ascending=False)[:N_TOP_SAMPLES]"
   ]
  },
  {
   "cell_type": "markdown",
   "id": "original-racing",
   "metadata": {},
   "source": [
    "## Threshold LV values"
   ]
  },
  {
   "cell_type": "code",
   "execution_count": 37,
   "id": "marine-exhaust",
   "metadata": {},
   "outputs": [],
   "source": [
    "final_plot_data.loc[\n",
    "    final_plot_data[LV_NAME] > LV_AXIS_THRESHOLD, LV_NAME\n",
    "] = LV_AXIS_THRESHOLD"
   ]
  },
  {
   "cell_type": "markdown",
   "id": "great-corrections",
   "metadata": {},
   "source": [
    "## Delete samples with no tissue/cell type information"
   ]
  },
  {
   "cell_type": "code",
   "execution_count": 38,
   "id": "valuable-pressure",
   "metadata": {},
   "outputs": [],
   "source": [
    "final_plot_data = final_plot_data[\n",
    "    final_plot_data[SELECTED_ATTRIBUTE] != \"NOT CATEGORIZED\"\n",
    "]"
   ]
  },
  {
   "cell_type": "markdown",
   "id": "actual-university",
   "metadata": {},
   "source": [
    "## Set x-axis order"
   ]
  },
  {
   "cell_type": "code",
   "execution_count": 39,
   "id": "powerful-speech",
   "metadata": {},
   "outputs": [],
   "source": [
    "attr_order = (\n",
    "    final_plot_data.groupby(SELECTED_ATTRIBUTE)\n",
    "    .max()\n",
    "    .sort_values(LV_NAME, ascending=False)\n",
    "    .index[:N_TOP_ATTRS]\n",
    "    .tolist()\n",
    ")"
   ]
  },
  {
   "cell_type": "code",
   "execution_count": 40,
   "id": "amateur-patient",
   "metadata": {},
   "outputs": [
    {
     "data": {
      "text/plain": [
       "25"
      ]
     },
     "execution_count": 40,
     "metadata": {},
     "output_type": "execute_result"
    }
   ],
   "source": [
    "len(attr_order)"
   ]
  },
  {
   "cell_type": "code",
   "execution_count": 41,
   "id": "cordless-planner",
   "metadata": {},
   "outputs": [
    {
     "data": {
      "text/plain": [
       "['CD4+CD45RO+ T cells (Synovial Fluid)',\n",
       " 'CD4+CD45RO+ T cells (Peripheral Blood)',\n",
       " 'CCR6+, CD4+ T cells from HLA-DR4+ MS patient, myelin tetramer positive (Multiple Sclerosis)',\n",
       " 'anti-CD3/CD28 beads, 48 hours',\n",
       " 'anti-CD3/anti-CD28 stimulation (Coeliac Individual)']"
      ]
     },
     "execution_count": 41,
     "metadata": {},
     "output_type": "execute_result"
    }
   ],
   "source": [
    "attr_order[:5]"
   ]
  },
  {
   "cell_type": "markdown",
   "id": "about-vietnam",
   "metadata": {},
   "source": [
    "## Plot"
   ]
  },
  {
   "cell_type": "code",
   "execution_count": 42,
   "id": "tired-christmas",
   "metadata": {},
   "outputs": [
    {
     "data": {
      "image/png": "[encoded data removed]",
      "text/plain": [
       "<Figure size 1080x360 with 1 Axes>"
      ]
     },
     "metadata": {},
     "output_type": "display_data"
    }
   ],
   "source": [
    "with sns.plotting_context(\"paper\", font_scale=1.5), sns.axes_style(\"whitegrid\"):\n",
    "    sns.catplot(\n",
    "        data=final_plot_data,\n",
    "        y=LV_NAME,\n",
    "        x=SELECTED_ATTRIBUTE,\n",
    "        order=attr_order,\n",
    "        kind=\"strip\",\n",
    "        height=5,\n",
    "        aspect=3,\n",
    "    )\n",
    "    plt.xticks(rotation=45, horizontalalignment=\"right\")\n",
    "\n",
    "    plt.savefig(\n",
    "        OUTPUT_CELL_TYPE_FILEPATH,\n",
    "        bbox_inches=\"tight\",\n",
    "        facecolor=\"white\",\n",
    "    )"
   ]
  },
  {
   "cell_type": "markdown",
   "id": "northern-system",
   "metadata": {},
   "source": [
    "# Debug"
   ]
  },
  {
   "cell_type": "code",
   "execution_count": 43,
   "id": "appointed-brick",
   "metadata": {},
   "outputs": [],
   "source": [
    "# with pd.option_context(\n",
    "#     \"display.max_rows\", None, \"display.max_columns\", None, \"display.max_colwidth\", None\n",
    "# ):\n",
    "#     _tmp = final_plot_data[final_plot_data[SELECTED_ATTRIBUTE].str.contains(\"NOT CAT\")]\n",
    "#     display(_tmp.head(20))"
   ]
  },
  {
   "cell_type": "code",
   "execution_count": 44,
   "id": "large-middle",
   "metadata": {},
   "outputs": [],
   "source": [
    "# # what is there in these projects?\n",
    "# lv_data.loc[[\"SRP050499\"]].dropna(how=\"all\", axis=1).sort_values(\n",
    "#     LV_NAME, ascending=False\n",
    "# ).head(60)"
   ]
  },
  {
   "cell_type": "code",
   "execution_count": null,
   "id": "strong-replacement",
   "metadata": {},
   "outputs": [],
   "source": []
  }
 ],
 "metadata": {
  "jupytext": {
   "cell_metadata_filter": "all,-execution,-papermill,-trusted",
   "formats": "ipynb,py//py:percent"
  },
  "kernelspec": {
   "display_name": "Python 3",
   "language": "python",
   "name": "python3"
  },
  "language_info": {
   "codemirror_mode": {
    "name": "ipython",
    "version": 3
   },
   "file_extension": ".py",
   "mimetype": "text/x-python",
   "name": "python",
   "nbconvert_exporter": "python",
   "pygments_lexer": "ipython3",
   "version": "3.8.8"
  }
 },
 "nbformat": 4,
 "nbformat_minor": 5
}
