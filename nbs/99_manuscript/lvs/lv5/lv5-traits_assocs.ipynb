{
 "cells": [
  {
   "cell_type": "markdown",
   "id": "indie-peninsula",
   "metadata": {
    "papermill": {
     "duration": 0.006593,
     "end_time": "2021-05-11T19:09:55.733221",
     "exception": false,
     "start_time": "2021-05-11T19:09:55.726628",
     "status": "completed"
    },
    "tags": []
   },
   "source": [
    "# Description"
   ]
  },
  {
   "cell_type": "markdown",
   "id": "gentle-audit",
   "metadata": {
    "papermill": {
     "duration": 0.00668,
     "end_time": "2021-05-11T19:09:55.745410",
     "exception": false,
     "start_time": "2021-05-11T19:09:55.738730",
     "status": "completed"
    },
    "tags": []
   },
   "source": [
    "Generates manubot tables for PhenomeXcan and eMERGE associations given an LV name (which is the only parameter that needs to be specified in the Settings section below)."
   ]
  },
  {
   "cell_type": "markdown",
   "id": "lesser-renaissance",
   "metadata": {
    "papermill": {
     "duration": 0.006223,
     "end_time": "2021-05-11T19:09:55.756959",
     "exception": false,
     "start_time": "2021-05-11T19:09:55.750736",
     "status": "completed"
    },
    "tags": []
   },
   "source": [
    "# Modules loading"
   ]
  },
  {
   "cell_type": "code",
   "execution_count": 1,
   "id": "ancient-major",
   "metadata": {
    "papermill": {
     "duration": 0.01906,
     "end_time": "2021-05-11T19:09:55.781515",
     "exception": false,
     "start_time": "2021-05-11T19:09:55.762455",
     "status": "completed"
    },
    "tags": []
   },
   "outputs": [],
   "source": [
    "%load_ext autoreload\n",
    "%autoreload 2"
   ]
  },
  {
   "cell_type": "code",
   "execution_count": 2,
   "id": "tropical-sport",
   "metadata": {
    "papermill": {
     "duration": 0.993432,
     "end_time": "2021-05-11T19:09:56.780403",
     "exception": false,
     "start_time": "2021-05-11T19:09:55.786971",
     "status": "completed"
    },
    "tags": []
   },
   "outputs": [],
   "source": [
    "import re\n",
    "from pathlib import Path\n",
    "\n",
    "import pandas as pd\n",
    "\n",
    "from entity import Trait\n",
    "import conf"
   ]
  },
  {
   "cell_type": "markdown",
   "id": "important-blackjack",
   "metadata": {
    "papermill": {
     "duration": 0.005973,
     "end_time": "2021-05-11T19:09:56.792495",
     "exception": false,
     "start_time": "2021-05-11T19:09:56.786522",
     "status": "completed"
    },
    "tags": []
   },
   "source": [
    "# Settings"
   ]
  },
  {
   "cell_type": "code",
   "execution_count": 3,
   "id": "legitimate-huntington",
   "metadata": {
    "papermill": {
     "duration": 0.019548,
     "end_time": "2021-05-11T19:09:56.817689",
     "exception": false,
     "start_time": "2021-05-11T19:09:56.798141",
     "status": "completed"
    },
    "tags": [
     "parameters"
    ]
   },
   "outputs": [],
   "source": [
    "LV_NAME = \"LV5\""
   ]
  },
  {
   "cell_type": "code",
   "execution_count": 4,
   "id": "lovely-desperate",
   "metadata": {},
   "outputs": [
    {
     "data": {
      "text/plain": [
       "PosixPath('/home/miltondp/projects/labs/greenelab/phenoplier_manuscript/content/50.00.supplementary_material.md')"
      ]
     },
     "metadata": {},
     "output_type": "display_data"
    }
   ],
   "source": [
    "assert (\n",
    "    conf.MANUSCRIPT[\"BASE_DIR\"] is not None\n",
    "), \"The manuscript directory was not configured\"\n",
    "\n",
    "OUTPUT_FILE_PATH = conf.MANUSCRIPT[\"CONTENT_DIR\"] / \"50.00.supplementary_material.md\"\n",
    "display(OUTPUT_FILE_PATH)\n",
    "assert OUTPUT_FILE_PATH.exists()"
   ]
  },
  {
   "cell_type": "code",
   "execution_count": 5,
   "id": "floral-retro",
   "metadata": {},
   "outputs": [],
   "source": [
    "# result_set is either phenomexcan or emerge\n",
    "LV_FILE_MARK_TEMPLATE = \"<!-- {lv}:{result_set}_traits_assocs:{position} -->\""
   ]
  },
  {
   "cell_type": "code",
   "execution_count": 6,
   "id": "mobile-insulin",
   "metadata": {},
   "outputs": [],
   "source": [
    "TABLE_CAPTION = \"Table: Significant trait associations of {lv_name} in {result_set_name}. {table_id}\""
   ]
  },
  {
   "cell_type": "code",
   "execution_count": 7,
   "id": "bridal-vector",
   "metadata": {},
   "outputs": [],
   "source": [
    "TABLE_CAPTION_ID = \"#tbl:sup:{result_set}_assocs:{lv_name_lower_case}\""
   ]
  },
  {
   "cell_type": "code",
   "execution_count": 8,
   "id": "suited-stockholm",
   "metadata": {},
   "outputs": [],
   "source": [
    "RESULT_SET_NAMES = {\n",
    "    \"phenomexcan\": \"PhenomeXcan\",\n",
    "    \"emerge\": \"eMERGE\",\n",
    "}"
   ]
  },
  {
   "cell_type": "markdown",
   "id": "automatic-prayer",
   "metadata": {
    "papermill": {
     "duration": 0.006007,
     "end_time": "2021-05-11T19:09:56.949763",
     "exception": false,
     "start_time": "2021-05-11T19:09:56.943756",
     "status": "completed"
    },
    "tags": []
   },
   "source": [
    "# Load data"
   ]
  },
  {
   "cell_type": "markdown",
   "id": "coordinate-cathedral",
   "metadata": {},
   "source": [
    "## PhenomeXcan LV-trait associations"
   ]
  },
  {
   "cell_type": "code",
   "execution_count": 9,
   "id": "coated-saver",
   "metadata": {},
   "outputs": [
    {
     "data": {
      "text/plain": [
       "PosixPath('/home/miltondp/projects/labs/greenelab/phenoplier/bases_data/base_orig/results/gls/gls_phenotypes-combined-phenomexcan.pkl')"
      ]
     },
     "metadata": {},
     "output_type": "display_data"
    }
   ],
   "source": [
    "input_filepath = Path(conf.RESULTS[\"GLS\"] / \"gls_phenotypes-combined-phenomexcan.pkl\")\n",
    "display(input_filepath)"
   ]
  },
  {
   "cell_type": "code",
   "execution_count": 10,
   "id": "hired-medication",
   "metadata": {},
   "outputs": [],
   "source": [
    "phenomexcan_lv_trait_assocs = pd.read_pickle(input_filepath)"
   ]
  },
  {
   "cell_type": "code",
   "execution_count": 11,
   "id": "exempt-blame",
   "metadata": {},
   "outputs": [
    {
     "data": {
      "text/plain": [
       "(5782, 8)"
      ]
     },
     "execution_count": 11,
     "metadata": {},
     "output_type": "execute_result"
    }
   ],
   "source": [
    "phenomexcan_lv_trait_assocs.shape"
   ]
  },
  {
   "cell_type": "code",
   "execution_count": 12,
   "id": "documented-update",
   "metadata": {},
   "outputs": [
    {
     "data": {
      "text/html": [
       "<div>\n",
       "<style scoped>\n",
       "    .dataframe tbody tr th:only-of-type {\n",
       "        vertical-align: middle;\n",
       "    }\n",
       "\n",
       "    .dataframe tbody tr th {\n",
       "        vertical-align: top;\n",
       "    }\n",
       "\n",
       "    .dataframe thead th {\n",
       "        text-align: right;\n",
       "    }\n",
       "</style>\n",
       "<table border=\"1\" class=\"dataframe\">\n",
       "  <thead>\n",
       "    <tr style=\"text-align: right;\">\n",
       "      <th></th>\n",
       "      <th>part_k</th>\n",
       "      <th>cluster_id</th>\n",
       "      <th>phenotype</th>\n",
       "      <th>lv</th>\n",
       "      <th>coef</th>\n",
       "      <th>pvalue</th>\n",
       "      <th>pvalue_twosided</th>\n",
       "      <th>fdr</th>\n",
       "    </tr>\n",
       "  </thead>\n",
       "  <tbody>\n",
       "    <tr>\n",
       "      <th>0</th>\n",
       "      <td>29</td>\n",
       "      <td>22</td>\n",
       "      <td>100002_raw-Energy</td>\n",
       "      <td>LV246</td>\n",
       "      <td>0.002401</td>\n",
       "      <td>0.424213</td>\n",
       "      <td>0.848425</td>\n",
       "      <td>0.680765</td>\n",
       "    </tr>\n",
       "    <tr>\n",
       "      <th>1</th>\n",
       "      <td>29</td>\n",
       "      <td>22</td>\n",
       "      <td>100002_raw-Energy</td>\n",
       "      <td>LV607</td>\n",
       "      <td>-0.006323</td>\n",
       "      <td>0.691499</td>\n",
       "      <td>0.617002</td>\n",
       "      <td>0.873350</td>\n",
       "    </tr>\n",
       "    <tr>\n",
       "      <th>2</th>\n",
       "      <td>29</td>\n",
       "      <td>22</td>\n",
       "      <td>100002_raw-Energy</td>\n",
       "      <td>LV612</td>\n",
       "      <td>-0.000822</td>\n",
       "      <td>0.525786</td>\n",
       "      <td>0.948428</td>\n",
       "      <td>0.763843</td>\n",
       "    </tr>\n",
       "    <tr>\n",
       "      <th>3</th>\n",
       "      <td>29</td>\n",
       "      <td>22</td>\n",
       "      <td>100002_raw-Energy</td>\n",
       "      <td>LV74</td>\n",
       "      <td>-0.006035</td>\n",
       "      <td>0.685313</td>\n",
       "      <td>0.629373</td>\n",
       "      <td>0.870769</td>\n",
       "    </tr>\n",
       "    <tr>\n",
       "      <th>4</th>\n",
       "      <td>29</td>\n",
       "      <td>22</td>\n",
       "      <td>100002_raw-Energy</td>\n",
       "      <td>LV838</td>\n",
       "      <td>0.024454</td>\n",
       "      <td>0.023446</td>\n",
       "      <td>0.046891</td>\n",
       "      <td>0.087403</td>\n",
       "    </tr>\n",
       "  </tbody>\n",
       "</table>\n",
       "</div>"
      ],
      "text/plain": [
       "   part_k  cluster_id          phenotype     lv      coef    pvalue  \\\n",
       "0      29          22  100002_raw-Energy  LV246  0.002401  0.424213   \n",
       "1      29          22  100002_raw-Energy  LV607 -0.006323  0.691499   \n",
       "2      29          22  100002_raw-Energy  LV612 -0.000822  0.525786   \n",
       "3      29          22  100002_raw-Energy   LV74 -0.006035  0.685313   \n",
       "4      29          22  100002_raw-Energy  LV838  0.024454  0.023446   \n",
       "\n",
       "   pvalue_twosided       fdr  \n",
       "0         0.848425  0.680765  \n",
       "1         0.617002  0.873350  \n",
       "2         0.948428  0.763843  \n",
       "3         0.629373  0.870769  \n",
       "4         0.046891  0.087403  "
      ]
     },
     "execution_count": 12,
     "metadata": {},
     "output_type": "execute_result"
    }
   ],
   "source": [
    "phenomexcan_lv_trait_assocs.head()"
   ]
  },
  {
   "cell_type": "markdown",
   "id": "controlling-boards",
   "metadata": {},
   "source": [
    "## eMERGE LV-trait associations"
   ]
  },
  {
   "cell_type": "code",
   "execution_count": 13,
   "id": "convertible-empty",
   "metadata": {},
   "outputs": [
    {
     "data": {
      "text/plain": [
       "PosixPath('/home/miltondp/projects/labs/greenelab/phenoplier/bases_data/base_orig/results/gls/gls_phenotypes-combined-emerge.pkl')"
      ]
     },
     "metadata": {},
     "output_type": "display_data"
    }
   ],
   "source": [
    "input_filepath = Path(conf.RESULTS[\"GLS\"] / \"gls_phenotypes-combined-emerge.pkl\")\n",
    "display(input_filepath)"
   ]
  },
  {
   "cell_type": "code",
   "execution_count": 14,
   "id": "indirect-tractor",
   "metadata": {},
   "outputs": [],
   "source": [
    "emerge_lv_trait_assocs = pd.read_pickle(input_filepath)"
   ]
  },
  {
   "cell_type": "code",
   "execution_count": 15,
   "id": "underlying-coffee",
   "metadata": {},
   "outputs": [
    {
     "data": {
      "text/plain": [
       "(7725, 6)"
      ]
     },
     "execution_count": 15,
     "metadata": {},
     "output_type": "execute_result"
    }
   ],
   "source": [
    "emerge_lv_trait_assocs.shape"
   ]
  },
  {
   "cell_type": "code",
   "execution_count": 16,
   "id": "indie-tribe",
   "metadata": {},
   "outputs": [
    {
     "data": {
      "text/html": [
       "<div>\n",
       "<style scoped>\n",
       "    .dataframe tbody tr th:only-of-type {\n",
       "        vertical-align: middle;\n",
       "    }\n",
       "\n",
       "    .dataframe tbody tr th {\n",
       "        vertical-align: top;\n",
       "    }\n",
       "\n",
       "    .dataframe thead th {\n",
       "        text-align: right;\n",
       "    }\n",
       "</style>\n",
       "<table border=\"1\" class=\"dataframe\">\n",
       "  <thead>\n",
       "    <tr style=\"text-align: right;\">\n",
       "      <th></th>\n",
       "      <th>phenotype</th>\n",
       "      <th>lv</th>\n",
       "      <th>coef</th>\n",
       "      <th>pvalue</th>\n",
       "      <th>pvalue_twosided</th>\n",
       "      <th>fdr</th>\n",
       "    </tr>\n",
       "  </thead>\n",
       "  <tbody>\n",
       "    <tr>\n",
       "      <th>0</th>\n",
       "      <td>008</td>\n",
       "      <td>LV246</td>\n",
       "      <td>-0.011008</td>\n",
       "      <td>0.809325</td>\n",
       "      <td>0.381350</td>\n",
       "      <td>0.999418</td>\n",
       "    </tr>\n",
       "    <tr>\n",
       "      <th>1</th>\n",
       "      <td>008</td>\n",
       "      <td>LV30</td>\n",
       "      <td>0.022387</td>\n",
       "      <td>0.038699</td>\n",
       "      <td>0.077397</td>\n",
       "      <td>0.483734</td>\n",
       "    </tr>\n",
       "    <tr>\n",
       "      <th>2</th>\n",
       "      <td>008</td>\n",
       "      <td>LV57</td>\n",
       "      <td>0.003960</td>\n",
       "      <td>0.379121</td>\n",
       "      <td>0.758243</td>\n",
       "      <td>0.961449</td>\n",
       "    </tr>\n",
       "    <tr>\n",
       "      <th>3</th>\n",
       "      <td>008</td>\n",
       "      <td>LV865</td>\n",
       "      <td>-0.008742</td>\n",
       "      <td>0.758337</td>\n",
       "      <td>0.483327</td>\n",
       "      <td>0.999418</td>\n",
       "    </tr>\n",
       "    <tr>\n",
       "      <th>4</th>\n",
       "      <td>008</td>\n",
       "      <td>LV847</td>\n",
       "      <td>-0.028246</td>\n",
       "      <td>0.985827</td>\n",
       "      <td>0.028346</td>\n",
       "      <td>0.999418</td>\n",
       "    </tr>\n",
       "  </tbody>\n",
       "</table>\n",
       "</div>"
      ],
      "text/plain": [
       "  phenotype     lv      coef    pvalue  pvalue_twosided       fdr\n",
       "0       008  LV246 -0.011008  0.809325         0.381350  0.999418\n",
       "1       008   LV30  0.022387  0.038699         0.077397  0.483734\n",
       "2       008   LV57  0.003960  0.379121         0.758243  0.961449\n",
       "3       008  LV865 -0.008742  0.758337         0.483327  0.999418\n",
       "4       008  LV847 -0.028246  0.985827         0.028346  0.999418"
      ]
     },
     "execution_count": 16,
     "metadata": {},
     "output_type": "execute_result"
    }
   ],
   "source": [
    "emerge_lv_trait_assocs.head()"
   ]
  },
  {
   "cell_type": "markdown",
   "id": "cordless-credits",
   "metadata": {},
   "source": [
    "## eMERGE traits info"
   ]
  },
  {
   "cell_type": "code",
   "execution_count": 17,
   "id": "broadband-nigeria",
   "metadata": {},
   "outputs": [
    {
     "data": {
      "text/plain": [
       "PosixPath('/home/miltondp/projects/labs/greenelab/phenoplier/bases_data/base_orig/data/emerge/eMERGE_III_PMBB_GSA_v2_2020_phecode_AFR_EUR_cc50_counts_w_dictionary.txt')"
      ]
     },
     "metadata": {},
     "output_type": "display_data"
    }
   ],
   "source": [
    "input_filepath = conf.EMERGE[\"DESC_FILE_WITH_SAMPLE_SIZE\"]\n",
    "display(input_filepath)"
   ]
  },
  {
   "cell_type": "code",
   "execution_count": 18,
   "id": "prostate-treasure",
   "metadata": {},
   "outputs": [],
   "source": [
    "emerge_traits_info = pd.read_csv(\n",
    "    input_filepath,\n",
    "    sep=\"\\t\",\n",
    "    dtype={\"phecode\": str},\n",
    "    usecols=[\n",
    "        \"phecode\",\n",
    "        \"phenotype\",\n",
    "        \"category\",\n",
    "        \"eMERGE_III_EUR_case\",\n",
    "        \"eMERGE_III_EUR_control\",\n",
    "    ],\n",
    ")"
   ]
  },
  {
   "cell_type": "code",
   "execution_count": 19,
   "id": "requested-smooth",
   "metadata": {},
   "outputs": [],
   "source": [
    "emerge_traits_info = emerge_traits_info.set_index(\"phecode\")"
   ]
  },
  {
   "cell_type": "code",
   "execution_count": 20,
   "id": "average-hungarian",
   "metadata": {},
   "outputs": [],
   "source": [
    "emerge_traits_info = emerge_traits_info.rename(\n",
    "    columns={\n",
    "        \"eMERGE_III_EUR_case\": \"eur_n_cases\",\n",
    "        \"eMERGE_III_EUR_control\": \"eur_n_controls\",\n",
    "    }\n",
    ")"
   ]
  },
  {
   "cell_type": "code",
   "execution_count": 21,
   "id": "remarkable-painting",
   "metadata": {},
   "outputs": [
    {
     "data": {
      "text/plain": [
       "(309, 4)"
      ]
     },
     "execution_count": 21,
     "metadata": {},
     "output_type": "execute_result"
    }
   ],
   "source": [
    "emerge_traits_info.shape"
   ]
  },
  {
   "cell_type": "code",
   "execution_count": 22,
   "id": "crazy-cache",
   "metadata": {},
   "outputs": [
    {
     "data": {
      "text/html": [
       "<div>\n",
       "<style scoped>\n",
       "    .dataframe tbody tr th:only-of-type {\n",
       "        vertical-align: middle;\n",
       "    }\n",
       "\n",
       "    .dataframe tbody tr th {\n",
       "        vertical-align: top;\n",
       "    }\n",
       "\n",
       "    .dataframe thead th {\n",
       "        text-align: right;\n",
       "    }\n",
       "</style>\n",
       "<table border=\"1\" class=\"dataframe\">\n",
       "  <thead>\n",
       "    <tr style=\"text-align: right;\">\n",
       "      <th></th>\n",
       "      <th>eur_n_cases</th>\n",
       "      <th>eur_n_controls</th>\n",
       "      <th>phenotype</th>\n",
       "      <th>category</th>\n",
       "    </tr>\n",
       "    <tr>\n",
       "      <th>phecode</th>\n",
       "      <th></th>\n",
       "      <th></th>\n",
       "      <th></th>\n",
       "      <th></th>\n",
       "    </tr>\n",
       "  </thead>\n",
       "  <tbody>\n",
       "    <tr>\n",
       "      <th>008</th>\n",
       "      <td>1639</td>\n",
       "      <td>57495</td>\n",
       "      <td>Intestinal infection</td>\n",
       "      <td>infectious diseases</td>\n",
       "    </tr>\n",
       "    <tr>\n",
       "      <th>008.5</th>\n",
       "      <td>1024</td>\n",
       "      <td>57495</td>\n",
       "      <td>Bacterial enteritis</td>\n",
       "      <td>infectious diseases</td>\n",
       "    </tr>\n",
       "    <tr>\n",
       "      <th>008.52</th>\n",
       "      <td>893</td>\n",
       "      <td>57495</td>\n",
       "      <td>Intestinal infection due to C. difficile</td>\n",
       "      <td>infectious diseases</td>\n",
       "    </tr>\n",
       "    <tr>\n",
       "      <th>038</th>\n",
       "      <td>3172</td>\n",
       "      <td>50610</td>\n",
       "      <td>Septicemia</td>\n",
       "      <td>infectious diseases</td>\n",
       "    </tr>\n",
       "    <tr>\n",
       "      <th>038.3</th>\n",
       "      <td>1361</td>\n",
       "      <td>50610</td>\n",
       "      <td>Bacteremia</td>\n",
       "      <td>infectious diseases</td>\n",
       "    </tr>\n",
       "  </tbody>\n",
       "</table>\n",
       "</div>"
      ],
      "text/plain": [
       "         eur_n_cases  eur_n_controls  \\\n",
       "phecode                                \n",
       "008             1639           57495   \n",
       "008.5           1024           57495   \n",
       "008.52           893           57495   \n",
       "038             3172           50610   \n",
       "038.3           1361           50610   \n",
       "\n",
       "                                        phenotype             category  \n",
       "phecode                                                                 \n",
       "008                          Intestinal infection  infectious diseases  \n",
       "008.5                         Bacterial enteritis  infectious diseases  \n",
       "008.52   Intestinal infection due to C. difficile  infectious diseases  \n",
       "038                                    Septicemia  infectious diseases  \n",
       "038.3                                  Bacteremia  infectious diseases  "
      ]
     },
     "execution_count": 22,
     "metadata": {},
     "output_type": "execute_result"
    }
   ],
   "source": [
    "emerge_traits_info.head()"
   ]
  },
  {
   "cell_type": "code",
   "execution_count": 23,
   "id": "signal-service",
   "metadata": {},
   "outputs": [],
   "source": [
    "assert emerge_traits_info.index.is_unique"
   ]
  },
  {
   "cell_type": "markdown",
   "id": "valuable-nigeria",
   "metadata": {
    "lines_to_next_cell": 2
   },
   "source": [
    "# Trait associations"
   ]
  },
  {
   "cell_type": "markdown",
   "id": "forty-finnish",
   "metadata": {},
   "source": [
    "## PhenomeXcan"
   ]
  },
  {
   "cell_type": "code",
   "execution_count": 24,
   "id": "postal-austin",
   "metadata": {},
   "outputs": [],
   "source": [
    "from traits import SHORT_TRAIT_NAMES"
   ]
  },
  {
   "cell_type": "code",
   "execution_count": 25,
   "id": "fifty-pharmaceutical",
   "metadata": {
    "lines_to_next_cell": 1
   },
   "outputs": [],
   "source": [
    "result_set = \"phenomexcan\""
   ]
  },
  {
   "cell_type": "code",
   "execution_count": 26,
   "id": "innovative-detroit",
   "metadata": {},
   "outputs": [],
   "source": [
    "def get_trait_objs(phenotype_full_code):\n",
    "    if Trait.is_efo_label(phenotype_full_code):\n",
    "        traits = Trait.get_traits_from_efo(phenotype_full_code)\n",
    "    else:\n",
    "        traits = [Trait.get_trait(full_code=phenotype_full_code)]\n",
    "\n",
    "    # sort by sample size\n",
    "    return sorted(traits, key=lambda x: x.n_cases / x.n, reverse=True)\n",
    "\n",
    "\n",
    "def get_trait_description(phenotype_full_code):\n",
    "    traits = get_trait_objs(phenotype_full_code)\n",
    "\n",
    "    desc = traits[0].description\n",
    "    if desc in SHORT_TRAIT_NAMES:\n",
    "        return SHORT_TRAIT_NAMES[desc]\n",
    "\n",
    "    return desc\n",
    "\n",
    "\n",
    "def get_trait_n(phenotype_full_code):\n",
    "    traits = get_trait_objs(phenotype_full_code)\n",
    "\n",
    "    return traits[0].n\n",
    "\n",
    "\n",
    "def get_trait_n_cases(phenotype_full_code):\n",
    "    traits = get_trait_objs(phenotype_full_code)\n",
    "\n",
    "    return traits[0].n_cases\n",
    "\n",
    "\n",
    "def num_to_int_str(num):\n",
    "    if pd.isnull(num):\n",
    "        return \"\"\n",
    "\n",
    "    return f\"{num:,.0f}\"\n",
    "\n",
    "\n",
    "def get_part_clust(row):\n",
    "    return f\"{row.part_k} / {row.cluster_id}\""
   ]
  },
  {
   "cell_type": "code",
   "execution_count": 27,
   "id": "brutal-great",
   "metadata": {},
   "outputs": [],
   "source": [
    "lv_assocs = phenomexcan_lv_trait_assocs[\n",
    "    (phenomexcan_lv_trait_assocs[\"lv\"] == LV_NAME)\n",
    "    & (phenomexcan_lv_trait_assocs[\"fdr\"] < 0.05)\n",
    "].sort_values(\"fdr\")"
   ]
  },
  {
   "cell_type": "code",
   "execution_count": 28,
   "id": "exclusive-means",
   "metadata": {},
   "outputs": [
    {
     "data": {
      "text/html": [
       "<div>\n",
       "<style scoped>\n",
       "    .dataframe tbody tr th:only-of-type {\n",
       "        vertical-align: middle;\n",
       "    }\n",
       "\n",
       "    .dataframe tbody tr th {\n",
       "        vertical-align: top;\n",
       "    }\n",
       "\n",
       "    .dataframe thead th {\n",
       "        text-align: right;\n",
       "    }\n",
       "</style>\n",
       "<table border=\"1\" class=\"dataframe\">\n",
       "  <thead>\n",
       "    <tr style=\"text-align: right;\">\n",
       "      <th></th>\n",
       "      <th>part_k</th>\n",
       "      <th>cluster_id</th>\n",
       "      <th>phenotype</th>\n",
       "      <th>lv</th>\n",
       "      <th>coef</th>\n",
       "      <th>pvalue</th>\n",
       "      <th>pvalue_twosided</th>\n",
       "      <th>fdr</th>\n",
       "    </tr>\n",
       "  </thead>\n",
       "  <tbody>\n",
       "    <tr>\n",
       "      <th>4770</th>\n",
       "      <td>29</td>\n",
       "      <td>16</td>\n",
       "      <td>MAGNETIC_LDL.C</td>\n",
       "      <td>LV5</td>\n",
       "      <td>0.054256</td>\n",
       "      <td>0.000011</td>\n",
       "      <td>0.000023</td>\n",
       "      <td>0.000144</td>\n",
       "    </tr>\n",
       "    <tr>\n",
       "      <th>4762</th>\n",
       "      <td>29</td>\n",
       "      <td>16</td>\n",
       "      <td>MAGNETIC_IDL.TG</td>\n",
       "      <td>LV5</td>\n",
       "      <td>0.051101</td>\n",
       "      <td>0.000038</td>\n",
       "      <td>0.000076</td>\n",
       "      <td>0.000403</td>\n",
       "    </tr>\n",
       "    <tr>\n",
       "      <th>4831</th>\n",
       "      <td>29</td>\n",
       "      <td>16</td>\n",
       "      <td>alzheimer's disease</td>\n",
       "      <td>LV5</td>\n",
       "      <td>0.043160</td>\n",
       "      <td>0.000317</td>\n",
       "      <td>0.000634</td>\n",
       "      <td>0.002474</td>\n",
       "    </tr>\n",
       "    <tr>\n",
       "      <th>2979</th>\n",
       "      <td>29</td>\n",
       "      <td>27</td>\n",
       "      <td>20446-Ever_had_prolonged_feelings_of_sadness_or_depression</td>\n",
       "      <td>LV5</td>\n",
       "      <td>0.039473</td>\n",
       "      <td>0.001063</td>\n",
       "      <td>0.002125</td>\n",
       "      <td>0.006919</td>\n",
       "    </tr>\n",
       "    <tr>\n",
       "      <th>3656</th>\n",
       "      <td>29</td>\n",
       "      <td>27</td>\n",
       "      <td>20546_3-Substances_taken_for_depression_Medication_prescribed_to_you_for_at_least_two_weeks</td>\n",
       "      <td>LV5</td>\n",
       "      <td>0.038465</td>\n",
       "      <td>0.001305</td>\n",
       "      <td>0.002610</td>\n",
       "      <td>0.008236</td>\n",
       "    </tr>\n",
       "    <tr>\n",
       "      <th>3418</th>\n",
       "      <td>29</td>\n",
       "      <td>27</td>\n",
       "      <td>20510-Recent_feelings_of_depression</td>\n",
       "      <td>LV5</td>\n",
       "      <td>0.037390</td>\n",
       "      <td>0.001759</td>\n",
       "      <td>0.003518</td>\n",
       "      <td>0.010496</td>\n",
       "    </tr>\n",
       "    <tr>\n",
       "      <th>3097</th>\n",
       "      <td>29</td>\n",
       "      <td>27</td>\n",
       "      <td>20485-Ever_contemplated_selfharm</td>\n",
       "      <td>LV5</td>\n",
       "      <td>0.035794</td>\n",
       "      <td>0.002716</td>\n",
       "      <td>0.005431</td>\n",
       "      <td>0.015011</td>\n",
       "    </tr>\n",
       "    <tr>\n",
       "      <th>3497</th>\n",
       "      <td>29</td>\n",
       "      <td>27</td>\n",
       "      <td>20514-Recent_lack_of_interest_or_pleasure_in_doing_things</td>\n",
       "      <td>LV5</td>\n",
       "      <td>0.035283</td>\n",
       "      <td>0.003061</td>\n",
       "      <td>0.006123</td>\n",
       "      <td>0.016543</td>\n",
       "    </tr>\n",
       "    <tr>\n",
       "      <th>2877</th>\n",
       "      <td>29</td>\n",
       "      <td>27</td>\n",
       "      <td>20403-Amount_of_alcohol_drunk_on_a_typical_drinking_day</td>\n",
       "      <td>LV5</td>\n",
       "      <td>0.032401</td>\n",
       "      <td>0.005760</td>\n",
       "      <td>0.011520</td>\n",
       "      <td>0.027684</td>\n",
       "    </tr>\n",
       "    <tr>\n",
       "      <th>3259</th>\n",
       "      <td>29</td>\n",
       "      <td>27</td>\n",
       "      <td>20499-Ever_sought_or_received_professional_help_for_mental_distress</td>\n",
       "      <td>LV5</td>\n",
       "      <td>0.031715</td>\n",
       "      <td>0.006605</td>\n",
       "      <td>0.013210</td>\n",
       "      <td>0.030849</td>\n",
       "    </tr>\n",
       "    <tr>\n",
       "      <th>3022</th>\n",
       "      <td>29</td>\n",
       "      <td>27</td>\n",
       "      <td>20458-General_happiness</td>\n",
       "      <td>LV5</td>\n",
       "      <td>0.030644</td>\n",
       "      <td>0.008275</td>\n",
       "      <td>0.016549</td>\n",
       "      <td>0.037349</td>\n",
       "    </tr>\n",
       "    <tr>\n",
       "      <th>3636</th>\n",
       "      <td>29</td>\n",
       "      <td>27</td>\n",
       "      <td>20544_11-Mental_health_problems_ever_diagnosed_by_a_professional_Depression</td>\n",
       "      <td>LV5</td>\n",
       "      <td>0.030248</td>\n",
       "      <td>0.009148</td>\n",
       "      <td>0.018297</td>\n",
       "      <td>0.040317</td>\n",
       "    </tr>\n",
       "  </tbody>\n",
       "</table>\n",
       "</div>"
      ],
      "text/plain": [
       "      part_k  cluster_id  \\\n",
       "4770      29          16   \n",
       "4762      29          16   \n",
       "4831      29          16   \n",
       "2979      29          27   \n",
       "3656      29          27   \n",
       "3418      29          27   \n",
       "3097      29          27   \n",
       "3497      29          27   \n",
       "2877      29          27   \n",
       "3259      29          27   \n",
       "3022      29          27   \n",
       "3636      29          27   \n",
       "\n",
       "                                                                                        phenotype  \\\n",
       "4770                                                                               MAGNETIC_LDL.C   \n",
       "4762                                                                              MAGNETIC_IDL.TG   \n",
       "4831                                                                          alzheimer's disease   \n",
       "2979                                   20446-Ever_had_prolonged_feelings_of_sadness_or_depression   \n",
       "3656  20546_3-Substances_taken_for_depression_Medication_prescribed_to_you_for_at_least_two_weeks   \n",
       "3418                                                          20510-Recent_feelings_of_depression   \n",
       "3097                                                             20485-Ever_contemplated_selfharm   \n",
       "3497                                    20514-Recent_lack_of_interest_or_pleasure_in_doing_things   \n",
       "2877                                      20403-Amount_of_alcohol_drunk_on_a_typical_drinking_day   \n",
       "3259                          20499-Ever_sought_or_received_professional_help_for_mental_distress   \n",
       "3022                                                                      20458-General_happiness   \n",
       "3636                  20544_11-Mental_health_problems_ever_diagnosed_by_a_professional_Depression   \n",
       "\n",
       "       lv      coef    pvalue  pvalue_twosided       fdr  \n",
       "4770  LV5  0.054256  0.000011         0.000023  0.000144  \n",
       "4762  LV5  0.051101  0.000038         0.000076  0.000403  \n",
       "4831  LV5  0.043160  0.000317         0.000634  0.002474  \n",
       "2979  LV5  0.039473  0.001063         0.002125  0.006919  \n",
       "3656  LV5  0.038465  0.001305         0.002610  0.008236  \n",
       "3418  LV5  0.037390  0.001759         0.003518  0.010496  \n",
       "3097  LV5  0.035794  0.002716         0.005431  0.015011  \n",
       "3497  LV5  0.035283  0.003061         0.006123  0.016543  \n",
       "2877  LV5  0.032401  0.005760         0.011520  0.027684  \n",
       "3259  LV5  0.031715  0.006605         0.013210  0.030849  \n",
       "3022  LV5  0.030644  0.008275         0.016549  0.037349  \n",
       "3636  LV5  0.030248  0.009148         0.018297  0.040317  "
      ]
     },
     "metadata": {},
     "output_type": "display_data"
    }
   ],
   "source": [
    "with pd.option_context(\n",
    "    \"display.max_rows\", None, \"display.max_columns\", None, \"display.max_colwidth\", None\n",
    "):\n",
    "    display(lv_assocs)"
   ]
  },
  {
   "cell_type": "code",
   "execution_count": 29,
   "id": "closed-diploma",
   "metadata": {},
   "outputs": [],
   "source": [
    "lv_assocs = lv_assocs.assign(\n",
    "    phenotype_desc=lv_assocs[\"phenotype\"].apply(get_trait_description)\n",
    ")"
   ]
  },
  {
   "cell_type": "code",
   "execution_count": 30,
   "id": "adult-industry",
   "metadata": {},
   "outputs": [],
   "source": [
    "lv_assocs = lv_assocs.assign(n=lv_assocs[\"phenotype\"].apply(get_trait_n))"
   ]
  },
  {
   "cell_type": "code",
   "execution_count": 31,
   "id": "paperback-alignment",
   "metadata": {},
   "outputs": [],
   "source": [
    "lv_assocs = lv_assocs.assign(n_cases=lv_assocs[\"phenotype\"].apply(get_trait_n_cases))"
   ]
  },
  {
   "cell_type": "code",
   "execution_count": 32,
   "id": "valued-trick",
   "metadata": {},
   "outputs": [],
   "source": [
    "lv_assocs = lv_assocs.assign(coef=lv_assocs[\"coef\"].apply(lambda x: f\"{x:.3f}\"))"
   ]
  },
  {
   "cell_type": "code",
   "execution_count": 33,
   "id": "developmental-vatican",
   "metadata": {},
   "outputs": [],
   "source": [
    "lv_assocs = lv_assocs.assign(\n",
    "    fdr=lv_assocs[\"fdr\"].apply(lambda x: f\"{x:.2e}\".replace(\"-\", \"&#8209;\"))\n",
    ")"
   ]
  },
  {
   "cell_type": "code",
   "execution_count": 34,
   "id": "initial-duplicate",
   "metadata": {},
   "outputs": [],
   "source": [
    "lv_assocs = lv_assocs.assign(n=lv_assocs[\"n\"].apply(num_to_int_str))"
   ]
  },
  {
   "cell_type": "code",
   "execution_count": 35,
   "id": "adult-newport",
   "metadata": {},
   "outputs": [],
   "source": [
    "lv_assocs = lv_assocs.assign(n_cases=lv_assocs[\"n_cases\"].apply(num_to_int_str))"
   ]
  },
  {
   "cell_type": "code",
   "execution_count": 36,
   "id": "understood-update",
   "metadata": {},
   "outputs": [],
   "source": [
    "lv_assocs = lv_assocs.assign(part_clust=lv_assocs.apply(get_part_clust, axis=1))"
   ]
  },
  {
   "cell_type": "code",
   "execution_count": 37,
   "id": "preceding-romania",
   "metadata": {},
   "outputs": [],
   "source": [
    "lv_assocs = lv_assocs.drop(columns=[\"phenotype\"])"
   ]
  },
  {
   "cell_type": "code",
   "execution_count": 38,
   "id": "informational-negative",
   "metadata": {},
   "outputs": [
    {
     "data": {
      "text/plain": [
       "(12, 11)"
      ]
     },
     "execution_count": 38,
     "metadata": {},
     "output_type": "execute_result"
    }
   ],
   "source": [
    "lv_assocs.shape"
   ]
  },
  {
   "cell_type": "code",
   "execution_count": 39,
   "id": "active-section",
   "metadata": {},
   "outputs": [],
   "source": [
    "lv_assocs = lv_assocs[[\"phenotype_desc\", \"n\", \"n_cases\", \"part_clust\", \"fdr\"]]"
   ]
  },
  {
   "cell_type": "code",
   "execution_count": 40,
   "id": "union-prefix",
   "metadata": {},
   "outputs": [],
   "source": [
    "lv_assocs = lv_assocs.rename(\n",
    "    columns={\n",
    "        \"part_clust\": \"Partition / cluster\",\n",
    "        \"lv\": \"Latent variable (LV)\",\n",
    "        #         \"coef\": r\"$\\beta$\",\n",
    "        \"fdr\": \"FDR\",\n",
    "        \"phenotype_desc\": \"Trait description\",\n",
    "        \"n\": \"Sample size\",\n",
    "        \"n_cases\": \"Cases\",\n",
    "    }\n",
    ")"
   ]
  },
  {
   "cell_type": "code",
   "execution_count": 41,
   "id": "blank-adolescent",
   "metadata": {},
   "outputs": [
    {
     "data": {
      "text/html": [
       "<div>\n",
       "<style scoped>\n",
       "    .dataframe tbody tr th:only-of-type {\n",
       "        vertical-align: middle;\n",
       "    }\n",
       "\n",
       "    .dataframe tbody tr th {\n",
       "        vertical-align: top;\n",
       "    }\n",
       "\n",
       "    .dataframe thead th {\n",
       "        text-align: right;\n",
       "    }\n",
       "</style>\n",
       "<table border=\"1\" class=\"dataframe\">\n",
       "  <thead>\n",
       "    <tr style=\"text-align: right;\">\n",
       "      <th></th>\n",
       "      <th>Trait description</th>\n",
       "      <th>Sample size</th>\n",
       "      <th>Cases</th>\n",
       "      <th>Partition / cluster</th>\n",
       "      <th>FDR</th>\n",
       "    </tr>\n",
       "  </thead>\n",
       "  <tbody>\n",
       "    <tr>\n",
       "      <th>4770</th>\n",
       "      <td>LDL Cholesterol NMR</td>\n",
       "      <td>13,527</td>\n",
       "      <td></td>\n",
       "      <td>29 / 16</td>\n",
       "      <td>1.44e&amp;#8209;04</td>\n",
       "    </tr>\n",
       "    <tr>\n",
       "      <th>4762</th>\n",
       "      <td>Triglycerides NMR</td>\n",
       "      <td>21,559</td>\n",
       "      <td></td>\n",
       "      <td>29 / 16</td>\n",
       "      <td>4.03e&amp;#8209;04</td>\n",
       "    </tr>\n",
       "    <tr>\n",
       "      <th>4831</th>\n",
       "      <td>Alzheimers Disease</td>\n",
       "      <td>54,162</td>\n",
       "      <td>17,008</td>\n",
       "      <td>29 / 16</td>\n",
       "      <td>2.47e&amp;#8209;03</td>\n",
       "    </tr>\n",
       "    <tr>\n",
       "      <th>2979</th>\n",
       "      <td>Ever had prolonged feelings of sadness or depression</td>\n",
       "      <td>117,763</td>\n",
       "      <td>64,374</td>\n",
       "      <td>29 / 27</td>\n",
       "      <td>6.92e&amp;#8209;03</td>\n",
       "    </tr>\n",
       "    <tr>\n",
       "      <th>3656</th>\n",
       "      <td>Medication for depression</td>\n",
       "      <td>117,763</td>\n",
       "      <td>28,351</td>\n",
       "      <td>29 / 27</td>\n",
       "      <td>8.24e&amp;#8209;03</td>\n",
       "    </tr>\n",
       "    <tr>\n",
       "      <th>3418</th>\n",
       "      <td>Recent feelings of depression</td>\n",
       "      <td>117,656</td>\n",
       "      <td></td>\n",
       "      <td>29 / 27</td>\n",
       "      <td>1.05e&amp;#8209;02</td>\n",
       "    </tr>\n",
       "    <tr>\n",
       "      <th>3097</th>\n",
       "      <td>Ever contemplated self-harm</td>\n",
       "      <td>117,610</td>\n",
       "      <td></td>\n",
       "      <td>29 / 27</td>\n",
       "      <td>1.50e&amp;#8209;02</td>\n",
       "    </tr>\n",
       "    <tr>\n",
       "      <th>3497</th>\n",
       "      <td>Recent lack of interest or pleasure in doing things</td>\n",
       "      <td>117,757</td>\n",
       "      <td></td>\n",
       "      <td>29 / 27</td>\n",
       "      <td>1.65e&amp;#8209;02</td>\n",
       "    </tr>\n",
       "    <tr>\n",
       "      <th>2877</th>\n",
       "      <td>Amount of alcohol drunk on a typical drinking day</td>\n",
       "      <td>108,256</td>\n",
       "      <td></td>\n",
       "      <td>29 / 27</td>\n",
       "      <td>2.77e&amp;#8209;02</td>\n",
       "    </tr>\n",
       "    <tr>\n",
       "      <th>3259</th>\n",
       "      <td>Ever sought or received professional help for mental distress</td>\n",
       "      <td>117,677</td>\n",
       "      <td>46,020</td>\n",
       "      <td>29 / 27</td>\n",
       "      <td>3.08e&amp;#8209;02</td>\n",
       "    </tr>\n",
       "    <tr>\n",
       "      <th>3022</th>\n",
       "      <td>General happiness</td>\n",
       "      <td>117,442</td>\n",
       "      <td></td>\n",
       "      <td>29 / 27</td>\n",
       "      <td>3.73e&amp;#8209;02</td>\n",
       "    </tr>\n",
       "    <tr>\n",
       "      <th>3636</th>\n",
       "      <td>Depression (diagnosed by a professional)</td>\n",
       "      <td>117,782</td>\n",
       "      <td>25,087</td>\n",
       "      <td>29 / 27</td>\n",
       "      <td>4.03e&amp;#8209;02</td>\n",
       "    </tr>\n",
       "  </tbody>\n",
       "</table>\n",
       "</div>"
      ],
      "text/plain": [
       "                                                  Trait description  \\\n",
       "4770                                            LDL Cholesterol NMR   \n",
       "4762                                              Triglycerides NMR   \n",
       "4831                                             Alzheimers Disease   \n",
       "2979           Ever had prolonged feelings of sadness or depression   \n",
       "3656                                      Medication for depression   \n",
       "3418                                  Recent feelings of depression   \n",
       "3097                                    Ever contemplated self-harm   \n",
       "3497            Recent lack of interest or pleasure in doing things   \n",
       "2877              Amount of alcohol drunk on a typical drinking day   \n",
       "3259  Ever sought or received professional help for mental distress   \n",
       "3022                                              General happiness   \n",
       "3636                       Depression (diagnosed by a professional)   \n",
       "\n",
       "     Sample size   Cases Partition / cluster             FDR  \n",
       "4770      13,527                     29 / 16  1.44e&#8209;04  \n",
       "4762      21,559                     29 / 16  4.03e&#8209;04  \n",
       "4831      54,162  17,008             29 / 16  2.47e&#8209;03  \n",
       "2979     117,763  64,374             29 / 27  6.92e&#8209;03  \n",
       "3656     117,763  28,351             29 / 27  8.24e&#8209;03  \n",
       "3418     117,656                     29 / 27  1.05e&#8209;02  \n",
       "3097     117,610                     29 / 27  1.50e&#8209;02  \n",
       "3497     117,757                     29 / 27  1.65e&#8209;02  \n",
       "2877     108,256                     29 / 27  2.77e&#8209;02  \n",
       "3259     117,677  46,020             29 / 27  3.08e&#8209;02  \n",
       "3022     117,442                     29 / 27  3.73e&#8209;02  \n",
       "3636     117,782  25,087             29 / 27  4.03e&#8209;02  "
      ]
     },
     "metadata": {},
     "output_type": "display_data"
    }
   ],
   "source": [
    "with pd.option_context(\n",
    "    \"display.max_rows\", None, \"display.max_columns\", None, \"display.max_colwidth\", None\n",
    "):\n",
    "    display(lv_assocs)"
   ]
  },
  {
   "cell_type": "markdown",
   "id": "complicated-operation",
   "metadata": {},
   "source": [
    "### Fill empty"
   ]
  },
  {
   "cell_type": "code",
   "execution_count": 42,
   "id": "instrumental-instruction",
   "metadata": {},
   "outputs": [],
   "source": [
    "if lv_assocs.shape[0] == 0:\n",
    "    lv_assocs.loc[0, \"Trait description\"] = \"No significant associations\"\n",
    "    lv_assocs = lv_assocs.fillna(\"\")"
   ]
  },
  {
   "cell_type": "markdown",
   "id": "unnecessary-organic",
   "metadata": {},
   "source": [
    "### Save"
   ]
  },
  {
   "cell_type": "code",
   "execution_count": 43,
   "id": "sweet-questionnaire",
   "metadata": {},
   "outputs": [
    {
     "data": {
      "text/plain": [
       "'<!-- LV5:phenomexcan_traits_assocs:start -->'"
      ]
     },
     "metadata": {},
     "output_type": "display_data"
    },
    {
     "data": {
      "text/plain": [
       "'<!-- LV5:phenomexcan_traits_assocs:end -->'"
      ]
     },
     "metadata": {},
     "output_type": "display_data"
    }
   ],
   "source": [
    "# start\n",
    "lv_file_mark_start = LV_FILE_MARK_TEMPLATE.format(\n",
    "    result_set=result_set, lv=LV_NAME, position=\"start\"\n",
    ")\n",
    "display(lv_file_mark_start)\n",
    "\n",
    "# end\n",
    "lv_file_mark_end = LV_FILE_MARK_TEMPLATE.format(\n",
    "    result_set=result_set, lv=LV_NAME, position=\"end\"\n",
    ")\n",
    "display(lv_file_mark_end)"
   ]
  },
  {
   "cell_type": "code",
   "execution_count": 44,
   "id": "automotive-tribute",
   "metadata": {},
   "outputs": [],
   "source": [
    "new_content = lv_assocs.to_markdown(index=False, disable_numparse=True)"
   ]
  },
  {
   "cell_type": "code",
   "execution_count": 45,
   "id": "greenhouse-apparatus",
   "metadata": {},
   "outputs": [
    {
     "data": {
      "text/plain": [
       "'Table: Significant trait associations of LV5 in PhenomeXcan. {#tbl:sup:phenomexcan_assocs:lv5}'"
      ]
     },
     "metadata": {},
     "output_type": "display_data"
    }
   ],
   "source": [
    "# add table caption\n",
    "table_caption = TABLE_CAPTION.format(\n",
    "    lv_name=LV_NAME,\n",
    "    result_set_name=RESULT_SET_NAMES[result_set],\n",
    "    table_id=\"{\"\n",
    "    + TABLE_CAPTION_ID.format(result_set=result_set, lv_name_lower_case=LV_NAME.lower())\n",
    "    + \"}\",\n",
    ")\n",
    "display(table_caption)"
   ]
  },
  {
   "cell_type": "code",
   "execution_count": 46,
   "id": "circular-electric",
   "metadata": {},
   "outputs": [],
   "source": [
    "new_content += \"\\n\\n\" + table_caption"
   ]
  },
  {
   "cell_type": "code",
   "execution_count": 47,
   "id": "killing-winter",
   "metadata": {},
   "outputs": [],
   "source": [
    "full_new_content = (\n",
    "    lv_file_mark_start + \"\\n\" + new_content.strip() + \"\\n\" + lv_file_mark_end\n",
    ")"
   ]
  },
  {
   "cell_type": "code",
   "execution_count": 48,
   "id": "chubby-laptop",
   "metadata": {},
   "outputs": [],
   "source": [
    "with open(OUTPUT_FILE_PATH, \"r\", encoding=\"utf8\") as f:\n",
    "    file_content = f.read()"
   ]
  },
  {
   "cell_type": "code",
   "execution_count": 49,
   "id": "brilliant-interpretation",
   "metadata": {},
   "outputs": [],
   "source": [
    "new_file_content = re.sub(\n",
    "    lv_file_mark_start + \".*?\" + lv_file_mark_end,\n",
    "    full_new_content,\n",
    "    file_content,\n",
    "    flags=re.DOTALL,\n",
    ")"
   ]
  },
  {
   "cell_type": "code",
   "execution_count": 50,
   "id": "dynamic-refrigerator",
   "metadata": {},
   "outputs": [],
   "source": [
    "with open(OUTPUT_FILE_PATH, \"w\", encoding=\"utf8\") as f:\n",
    "    f.write(new_file_content)  # .replace(\"\\beta\", r\"\\beta\"))"
   ]
  },
  {
   "cell_type": "markdown",
   "id": "republican-shore",
   "metadata": {},
   "source": [
    "## eMERGE"
   ]
  },
  {
   "cell_type": "code",
   "execution_count": 51,
   "id": "foster-train",
   "metadata": {},
   "outputs": [],
   "source": [
    "result_set = \"emerge\""
   ]
  },
  {
   "cell_type": "code",
   "execution_count": 52,
   "id": "interior-blame",
   "metadata": {},
   "outputs": [],
   "source": [
    "TABLE_CAPTION = (\n",
    "    \"Table: Trait associations of {lv_name} in {result_set_name}. {table_id}\"\n",
    ")"
   ]
  },
  {
   "cell_type": "code",
   "execution_count": 53,
   "id": "important-burton",
   "metadata": {},
   "outputs": [],
   "source": [
    "lv_assocs = emerge_lv_trait_assocs[\n",
    "    (emerge_lv_trait_assocs[\"lv\"] == LV_NAME) & (emerge_lv_trait_assocs[\"fdr\"] < 0.10)\n",
    "].sort_values(\"fdr\")"
   ]
  },
  {
   "cell_type": "code",
   "execution_count": 54,
   "id": "worse-configuration",
   "metadata": {},
   "outputs": [
    {
     "data": {
      "text/html": [
       "<div>\n",
       "<style scoped>\n",
       "    .dataframe tbody tr th:only-of-type {\n",
       "        vertical-align: middle;\n",
       "    }\n",
       "\n",
       "    .dataframe tbody tr th {\n",
       "        vertical-align: top;\n",
       "    }\n",
       "\n",
       "    .dataframe thead th {\n",
       "        text-align: right;\n",
       "    }\n",
       "</style>\n",
       "<table border=\"1\" class=\"dataframe\">\n",
       "  <thead>\n",
       "    <tr style=\"text-align: right;\">\n",
       "      <th></th>\n",
       "      <th>phenotype</th>\n",
       "      <th>lv</th>\n",
       "      <th>coef</th>\n",
       "      <th>pvalue</th>\n",
       "      <th>pvalue_twosided</th>\n",
       "      <th>fdr</th>\n",
       "    </tr>\n",
       "  </thead>\n",
       "  <tbody>\n",
       "    <tr>\n",
       "      <th>653</th>\n",
       "      <td>241</td>\n",
       "      <td>LV5</td>\n",
       "      <td>0.046211</td>\n",
       "      <td>0.000152</td>\n",
       "      <td>0.000303</td>\n",
       "      <td>0.019188</td>\n",
       "    </tr>\n",
       "    <tr>\n",
       "      <th>677</th>\n",
       "      <td>241.1</td>\n",
       "      <td>LV5</td>\n",
       "      <td>0.039263</td>\n",
       "      <td>0.001062</td>\n",
       "      <td>0.002124</td>\n",
       "      <td>0.068359</td>\n",
       "    </tr>\n",
       "  </tbody>\n",
       "</table>\n",
       "</div>"
      ],
      "text/plain": [
       "    phenotype   lv      coef    pvalue  pvalue_twosided       fdr\n",
       "653       241  LV5  0.046211  0.000152         0.000303  0.019188\n",
       "677     241.1  LV5  0.039263  0.001062         0.002124  0.068359"
      ]
     },
     "metadata": {},
     "output_type": "display_data"
    }
   ],
   "source": [
    "with pd.option_context(\n",
    "    \"display.max_rows\", None, \"display.max_columns\", None, \"display.max_colwidth\", None\n",
    "):\n",
    "    display(lv_assocs)"
   ]
  },
  {
   "cell_type": "code",
   "execution_count": 55,
   "id": "chicken-meeting",
   "metadata": {},
   "outputs": [],
   "source": [
    "lv_assocs = lv_assocs.assign(\n",
    "    phenotype_desc=lv_assocs[\"phenotype\"].apply(\n",
    "        lambda x: emerge_traits_info.loc[x, \"phenotype\"]\n",
    "    )\n",
    ")"
   ]
  },
  {
   "cell_type": "code",
   "execution_count": 56,
   "id": "cognitive-mistress",
   "metadata": {},
   "outputs": [],
   "source": [
    "lv_assocs = lv_assocs.assign(\n",
    "    n=lv_assocs[\"phenotype\"].apply(\n",
    "        lambda x: emerge_traits_info.loc[x, [\"eur_n_cases\", \"eur_n_controls\"]].sum()\n",
    "    )\n",
    ")"
   ]
  },
  {
   "cell_type": "code",
   "execution_count": 57,
   "id": "unavailable-address",
   "metadata": {},
   "outputs": [],
   "source": [
    "lv_assocs = lv_assocs.assign(\n",
    "    n_cases=lv_assocs[\"phenotype\"].apply(\n",
    "        lambda x: emerge_traits_info.loc[x, \"eur_n_cases\"]\n",
    "    )\n",
    ")"
   ]
  },
  {
   "cell_type": "code",
   "execution_count": 58,
   "id": "future-quebec",
   "metadata": {},
   "outputs": [],
   "source": [
    "lv_assocs = lv_assocs.assign(coef=lv_assocs[\"coef\"].apply(lambda x: f\"{x:.3f}\"))"
   ]
  },
  {
   "cell_type": "code",
   "execution_count": 59,
   "id": "environmental-tourist",
   "metadata": {},
   "outputs": [],
   "source": [
    "lv_assocs = lv_assocs.assign(\n",
    "    fdr=lv_assocs[\"fdr\"].apply(lambda x: f\"{x:.2e}\".replace(\"-\", \"&#8209;\"))\n",
    ")"
   ]
  },
  {
   "cell_type": "code",
   "execution_count": 60,
   "id": "traditional-alexandria",
   "metadata": {},
   "outputs": [],
   "source": [
    "lv_assocs = lv_assocs.assign(n=lv_assocs[\"n\"].apply(num_to_int_str))"
   ]
  },
  {
   "cell_type": "code",
   "execution_count": 61,
   "id": "transparent-grade",
   "metadata": {},
   "outputs": [],
   "source": [
    "lv_assocs = lv_assocs.assign(n_cases=lv_assocs[\"n_cases\"].apply(num_to_int_str))"
   ]
  },
  {
   "cell_type": "code",
   "execution_count": 62,
   "id": "boxed-emerald",
   "metadata": {},
   "outputs": [],
   "source": [
    "lv_assocs = lv_assocs.rename(columns={\"phenotype\": \"phecode\"})"
   ]
  },
  {
   "cell_type": "code",
   "execution_count": 63,
   "id": "specific-child",
   "metadata": {},
   "outputs": [
    {
     "data": {
      "text/plain": [
       "(2, 9)"
      ]
     },
     "execution_count": 63,
     "metadata": {},
     "output_type": "execute_result"
    }
   ],
   "source": [
    "lv_assocs.shape"
   ]
  },
  {
   "cell_type": "code",
   "execution_count": 64,
   "id": "indonesian-personality",
   "metadata": {},
   "outputs": [],
   "source": [
    "lv_assocs = lv_assocs[[\"phecode\", \"phenotype_desc\", \"n\", \"n_cases\", \"fdr\"]]"
   ]
  },
  {
   "cell_type": "code",
   "execution_count": 65,
   "id": "talented-sender",
   "metadata": {},
   "outputs": [],
   "source": [
    "lv_assocs = lv_assocs.rename(\n",
    "    columns={\n",
    "        \"lv\": \"Latent variable (LV)\",\n",
    "        #         \"coef\": r\"$\\beta$\",\n",
    "        \"fdr\": \"FDR\",\n",
    "        \"phecode\": \"Phecode\",\n",
    "        \"phenotype_desc\": \"Trait description\",\n",
    "        \"n\": \"Sample size\",\n",
    "        \"n_cases\": \"Cases\",\n",
    "    }\n",
    ")"
   ]
  },
  {
   "cell_type": "code",
   "execution_count": 66,
   "id": "humanitarian-midwest",
   "metadata": {},
   "outputs": [
    {
     "data": {
      "text/html": [
       "<div>\n",
       "<style scoped>\n",
       "    .dataframe tbody tr th:only-of-type {\n",
       "        vertical-align: middle;\n",
       "    }\n",
       "\n",
       "    .dataframe tbody tr th {\n",
       "        vertical-align: top;\n",
       "    }\n",
       "\n",
       "    .dataframe thead th {\n",
       "        text-align: right;\n",
       "    }\n",
       "</style>\n",
       "<table border=\"1\" class=\"dataframe\">\n",
       "  <thead>\n",
       "    <tr style=\"text-align: right;\">\n",
       "      <th></th>\n",
       "      <th>Phecode</th>\n",
       "      <th>Trait description</th>\n",
       "      <th>Sample size</th>\n",
       "      <th>Cases</th>\n",
       "      <th>FDR</th>\n",
       "    </tr>\n",
       "  </thead>\n",
       "  <tbody>\n",
       "    <tr>\n",
       "      <th>653</th>\n",
       "      <td>241</td>\n",
       "      <td>Nontoxic nodular goiter</td>\n",
       "      <td>47,842</td>\n",
       "      <td>3,158</td>\n",
       "      <td>1.92e&amp;#8209;02</td>\n",
       "    </tr>\n",
       "    <tr>\n",
       "      <th>677</th>\n",
       "      <td>241.1</td>\n",
       "      <td>Nontoxic uninodular goiter</td>\n",
       "      <td>47,125</td>\n",
       "      <td>2,441</td>\n",
       "      <td>6.84e&amp;#8209;02</td>\n",
       "    </tr>\n",
       "  </tbody>\n",
       "</table>\n",
       "</div>"
      ],
      "text/plain": [
       "    Phecode           Trait description Sample size  Cases             FDR\n",
       "653     241     Nontoxic nodular goiter      47,842  3,158  1.92e&#8209;02\n",
       "677   241.1  Nontoxic uninodular goiter      47,125  2,441  6.84e&#8209;02"
      ]
     },
     "metadata": {},
     "output_type": "display_data"
    }
   ],
   "source": [
    "with pd.option_context(\n",
    "    \"display.max_rows\", None, \"display.max_columns\", None, \"display.max_colwidth\", None\n",
    "):\n",
    "    display(lv_assocs)"
   ]
  },
  {
   "cell_type": "markdown",
   "id": "approved-maximum",
   "metadata": {},
   "source": [
    "### Fill empty"
   ]
  },
  {
   "cell_type": "code",
   "execution_count": 67,
   "id": "considered-waters",
   "metadata": {},
   "outputs": [],
   "source": [
    "if lv_assocs.shape[0] == 0:\n",
    "    lv_assocs.loc[0, \"Phecode\"] = \"No significant associations\"\n",
    "    lv_assocs = lv_assocs.fillna(\"\")"
   ]
  },
  {
   "cell_type": "markdown",
   "id": "brief-action",
   "metadata": {},
   "source": [
    "### Save"
   ]
  },
  {
   "cell_type": "code",
   "execution_count": 68,
   "id": "white-beatles",
   "metadata": {},
   "outputs": [
    {
     "data": {
      "text/plain": [
       "'<!-- LV5:emerge_traits_assocs:start -->'"
      ]
     },
     "metadata": {},
     "output_type": "display_data"
    },
    {
     "data": {
      "text/plain": [
       "'<!-- LV5:emerge_traits_assocs:end -->'"
      ]
     },
     "metadata": {},
     "output_type": "display_data"
    }
   ],
   "source": [
    "# start\n",
    "lv_file_mark_start = LV_FILE_MARK_TEMPLATE.format(\n",
    "    result_set=result_set, lv=LV_NAME, position=\"start\"\n",
    ")\n",
    "display(lv_file_mark_start)\n",
    "\n",
    "# end\n",
    "lv_file_mark_end = LV_FILE_MARK_TEMPLATE.format(\n",
    "    result_set=result_set, lv=LV_NAME, position=\"end\"\n",
    ")\n",
    "display(lv_file_mark_end)"
   ]
  },
  {
   "cell_type": "code",
   "execution_count": 69,
   "id": "becoming-carpet",
   "metadata": {},
   "outputs": [],
   "source": [
    "new_content = lv_assocs.to_markdown(index=False, disable_numparse=True)"
   ]
  },
  {
   "cell_type": "code",
   "execution_count": 70,
   "id": "acceptable-sensitivity",
   "metadata": {},
   "outputs": [
    {
     "data": {
      "text/plain": [
       "'Table: Trait associations of LV5 in eMERGE. {#tbl:sup:emerge_assocs:lv5}'"
      ]
     },
     "metadata": {},
     "output_type": "display_data"
    }
   ],
   "source": [
    "# add table caption\n",
    "table_caption = TABLE_CAPTION.format(\n",
    "    lv_name=LV_NAME,\n",
    "    result_set_name=RESULT_SET_NAMES[result_set],\n",
    "    table_id=\"{\"\n",
    "    + TABLE_CAPTION_ID.format(result_set=result_set, lv_name_lower_case=LV_NAME.lower())\n",
    "    + \"}\",\n",
    ")\n",
    "display(table_caption)"
   ]
  },
  {
   "cell_type": "code",
   "execution_count": 71,
   "id": "accessory-cabin",
   "metadata": {},
   "outputs": [],
   "source": [
    "new_content += \"\\n\\n\" + table_caption"
   ]
  },
  {
   "cell_type": "code",
   "execution_count": 72,
   "id": "american-south",
   "metadata": {},
   "outputs": [],
   "source": [
    "full_new_content = (\n",
    "    lv_file_mark_start + \"\\n\" + new_content.strip() + \"\\n\" + lv_file_mark_end\n",
    ")"
   ]
  },
  {
   "cell_type": "code",
   "execution_count": 73,
   "id": "expanded-novel",
   "metadata": {},
   "outputs": [],
   "source": [
    "with open(OUTPUT_FILE_PATH, \"r\", encoding=\"utf8\") as f:\n",
    "    file_content = f.read()"
   ]
  },
  {
   "cell_type": "code",
   "execution_count": 74,
   "id": "heated-option",
   "metadata": {},
   "outputs": [],
   "source": [
    "new_file_content = re.sub(\n",
    "    lv_file_mark_start + \".*?\" + lv_file_mark_end,\n",
    "    full_new_content,\n",
    "    file_content,\n",
    "    flags=re.DOTALL,\n",
    ")"
   ]
  },
  {
   "cell_type": "code",
   "execution_count": 75,
   "id": "dimensional-nicaragua",
   "metadata": {},
   "outputs": [],
   "source": [
    "with open(OUTPUT_FILE_PATH, \"w\", encoding=\"utf8\") as f:\n",
    "    f.write(new_file_content)  # .replace(\"\\beta\", r\"\\beta\"))"
   ]
  },
  {
   "cell_type": "code",
   "execution_count": null,
   "id": "accurate-daily",
   "metadata": {},
   "outputs": [],
   "source": []
  }
 ],
 "metadata": {
  "jupytext": {
   "cell_metadata_filter": "all,-execution,-papermill,-trusted",
   "formats": "ipynb,py//py:percent"
  },
  "kernelspec": {
   "display_name": "Python 3",
   "language": "python",
   "name": "python3"
  },
  "language_info": {
   "codemirror_mode": {
    "name": "ipython",
    "version": 3
   },
   "file_extension": ".py",
   "mimetype": "text/x-python",
   "name": "python",
   "nbconvert_exporter": "python",
   "pygments_lexer": "ipython3",
   "version": "3.8.8"
  },
  "toc-autonumbering": true
 },
 "nbformat": 4,
 "nbformat_minor": 5
}
