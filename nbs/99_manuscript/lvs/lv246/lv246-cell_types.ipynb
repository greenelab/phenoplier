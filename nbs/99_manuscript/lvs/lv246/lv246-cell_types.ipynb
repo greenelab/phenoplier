{
 "cells": [
  {
   "cell_type": "markdown",
   "id": "superior-virgin",
   "metadata": {
    "papermill": {
     "duration": 0.006593,
     "end_time": "2021-05-11T19:09:55.733221",
     "exception": false,
     "start_time": "2021-05-11T19:09:55.726628",
     "status": "completed"
    },
    "tags": []
   },
   "source": [
    "# Description"
   ]
  },
  {
   "cell_type": "markdown",
   "id": "successful-knight",
   "metadata": {
    "papermill": {
     "duration": 0.00668,
     "end_time": "2021-05-11T19:09:55.745410",
     "exception": false,
     "start_time": "2021-05-11T19:09:55.738730",
     "status": "completed"
    },
    "tags": []
   },
   "source": [
    "Generates the figure for top cell types for a specified LV (in Settings section below)."
   ]
  },
  {
   "cell_type": "markdown",
   "id": "compatible-weight",
   "metadata": {
    "papermill": {
     "duration": 0.006223,
     "end_time": "2021-05-11T19:09:55.756959",
     "exception": false,
     "start_time": "2021-05-11T19:09:55.750736",
     "status": "completed"
    },
    "tags": []
   },
   "source": [
    "# Modules loading"
   ]
  },
  {
   "cell_type": "code",
   "execution_count": 1,
   "id": "acquired-tennessee",
   "metadata": {
    "papermill": {
     "duration": 0.01906,
     "end_time": "2021-05-11T19:09:55.781515",
     "exception": false,
     "start_time": "2021-05-11T19:09:55.762455",
     "status": "completed"
    },
    "tags": []
   },
   "outputs": [],
   "source": [
    "%load_ext autoreload\n",
    "%autoreload 2"
   ]
  },
  {
   "cell_type": "code",
   "execution_count": 2,
   "id": "proper-chester",
   "metadata": {
    "papermill": {
     "duration": 0.993432,
     "end_time": "2021-05-11T19:09:56.780403",
     "exception": false,
     "start_time": "2021-05-11T19:09:55.786971",
     "status": "completed"
    },
    "tags": []
   },
   "outputs": [],
   "source": [
    "import re\n",
    "from pathlib import Path\n",
    "\n",
    "import pandas as pd\n",
    "import matplotlib.pyplot as plt\n",
    "import seaborn as sns\n",
    "\n",
    "from data.recount2 import LVAnalysis\n",
    "from utils import chunker\n",
    "import conf"
   ]
  },
  {
   "cell_type": "markdown",
   "id": "sized-butter",
   "metadata": {
    "papermill": {
     "duration": 0.005973,
     "end_time": "2021-05-11T19:09:56.792495",
     "exception": false,
     "start_time": "2021-05-11T19:09:56.786522",
     "status": "completed"
    },
    "tags": []
   },
   "source": [
    "# Settings"
   ]
  },
  {
   "cell_type": "code",
   "execution_count": 3,
   "id": "tender-contrary",
   "metadata": {
    "papermill": {
     "duration": 0.019548,
     "end_time": "2021-05-11T19:09:56.817689",
     "exception": false,
     "start_time": "2021-05-11T19:09:56.798141",
     "status": "completed"
    },
    "tags": [
     "parameters"
    ]
   },
   "outputs": [],
   "source": [
    "LV_NAME = \"LV246\""
   ]
  },
  {
   "cell_type": "code",
   "execution_count": 4,
   "id": "sunset-carbon",
   "metadata": {},
   "outputs": [],
   "source": [
    "LV_AXIS_THRESHOLD = 3.0\n",
    "N_TOP_SAMPLES = 400\n",
    "N_TOP_ATTRS = 15"
   ]
  },
  {
   "cell_type": "code",
   "execution_count": 5,
   "id": "proof-primary",
   "metadata": {},
   "outputs": [
    {
     "data": {
      "text/plain": [
       "PosixPath('/home/miltondp/projects/labs/greenelab/phenoplier_manuscript/content/images/lvs_analysis/lv246')"
      ]
     },
     "metadata": {},
     "output_type": "display_data"
    }
   ],
   "source": [
    "OUTPUT_FIGURES_DIR = Path(\n",
    "    conf.MANUSCRIPT[\"FIGURES_DIR\"], \"lvs_analysis\", f\"{LV_NAME.lower()}\"\n",
    ").resolve()\n",
    "display(OUTPUT_FIGURES_DIR)\n",
    "OUTPUT_FIGURES_DIR.mkdir(parents=True, exist_ok=True)"
   ]
  },
  {
   "cell_type": "code",
   "execution_count": 6,
   "id": "three-crossing",
   "metadata": {},
   "outputs": [
    {
     "data": {
      "text/plain": [
       "PosixPath('/home/miltondp/projects/labs/greenelab/phenoplier_manuscript/content/images/lvs_analysis/lv246/lv246-cell_types.svg')"
      ]
     },
     "metadata": {},
     "output_type": "display_data"
    }
   ],
   "source": [
    "OUTPUT_CELL_TYPE_FILEPATH = OUTPUT_FIGURES_DIR / f\"{LV_NAME.lower()}-cell_types.svg\"\n",
    "display(OUTPUT_CELL_TYPE_FILEPATH)"
   ]
  },
  {
   "cell_type": "markdown",
   "id": "invisible-madrid",
   "metadata": {
    "papermill": {
     "duration": 0.005592,
     "end_time": "2021-05-11T19:09:56.854406",
     "exception": false,
     "start_time": "2021-05-11T19:09:56.848814",
     "status": "completed"
    },
    "tags": []
   },
   "source": [
    "# Load MultiPLIER summary"
   ]
  },
  {
   "cell_type": "code",
   "execution_count": 7,
   "id": "coated-christmas",
   "metadata": {
    "papermill": {
     "duration": 0.020251,
     "end_time": "2021-05-11T19:09:56.880435",
     "exception": false,
     "start_time": "2021-05-11T19:09:56.860184",
     "status": "completed"
    },
    "tags": []
   },
   "outputs": [],
   "source": [
    "multiplier_model_summary = pd.read_pickle(conf.MULTIPLIER[\"MODEL_SUMMARY_FILE\"])"
   ]
  },
  {
   "cell_type": "code",
   "execution_count": 8,
   "id": "stopped-driving",
   "metadata": {
    "papermill": {
     "duration": 0.02062,
     "end_time": "2021-05-11T19:09:56.906744",
     "exception": false,
     "start_time": "2021-05-11T19:09:56.886124",
     "status": "completed"
    },
    "tags": []
   },
   "outputs": [
    {
     "data": {
      "text/plain": [
       "(2157, 5)"
      ]
     },
     "execution_count": 8,
     "metadata": {},
     "output_type": "execute_result"
    }
   ],
   "source": [
    "multiplier_model_summary.shape"
   ]
  },
  {
   "cell_type": "code",
   "execution_count": 9,
   "id": "rural-grove",
   "metadata": {
    "papermill": {
     "duration": 0.024737,
     "end_time": "2021-05-11T19:09:56.937493",
     "exception": false,
     "start_time": "2021-05-11T19:09:56.912756",
     "status": "completed"
    },
    "tags": []
   },
   "outputs": [
    {
     "data": {
      "text/html": [
       "<div>\n",
       "<style scoped>\n",
       "    .dataframe tbody tr th:only-of-type {\n",
       "        vertical-align: middle;\n",
       "    }\n",
       "\n",
       "    .dataframe tbody tr th {\n",
       "        vertical-align: top;\n",
       "    }\n",
       "\n",
       "    .dataframe thead th {\n",
       "        text-align: right;\n",
       "    }\n",
       "</style>\n",
       "<table border=\"1\" class=\"dataframe\">\n",
       "  <thead>\n",
       "    <tr style=\"text-align: right;\">\n",
       "      <th></th>\n",
       "      <th>pathway</th>\n",
       "      <th>LV index</th>\n",
       "      <th>AUC</th>\n",
       "      <th>p-value</th>\n",
       "      <th>FDR</th>\n",
       "    </tr>\n",
       "  </thead>\n",
       "  <tbody>\n",
       "    <tr>\n",
       "      <th>1</th>\n",
       "      <td>KEGG_LYSINE_DEGRADATION</td>\n",
       "      <td>1</td>\n",
       "      <td>0.388059</td>\n",
       "      <td>0.866078</td>\n",
       "      <td>0.956005</td>\n",
       "    </tr>\n",
       "    <tr>\n",
       "      <th>2</th>\n",
       "      <td>REACTOME_MRNA_SPLICING</td>\n",
       "      <td>1</td>\n",
       "      <td>0.733057</td>\n",
       "      <td>0.000048</td>\n",
       "      <td>0.000582</td>\n",
       "    </tr>\n",
       "    <tr>\n",
       "      <th>3</th>\n",
       "      <td>MIPS_NOP56P_ASSOCIATED_PRE_RRNA_COMPLEX</td>\n",
       "      <td>1</td>\n",
       "      <td>0.680555</td>\n",
       "      <td>0.001628</td>\n",
       "      <td>0.011366</td>\n",
       "    </tr>\n",
       "    <tr>\n",
       "      <th>4</th>\n",
       "      <td>KEGG_DNA_REPLICATION</td>\n",
       "      <td>1</td>\n",
       "      <td>0.549473</td>\n",
       "      <td>0.312155</td>\n",
       "      <td>0.539951</td>\n",
       "    </tr>\n",
       "    <tr>\n",
       "      <th>5</th>\n",
       "      <td>PID_MYC_ACTIVPATHWAY</td>\n",
       "      <td>1</td>\n",
       "      <td>0.639303</td>\n",
       "      <td>0.021702</td>\n",
       "      <td>0.083739</td>\n",
       "    </tr>\n",
       "  </tbody>\n",
       "</table>\n",
       "</div>"
      ],
      "text/plain": [
       "                                   pathway LV index       AUC   p-value  \\\n",
       "1                  KEGG_LYSINE_DEGRADATION        1  0.388059  0.866078   \n",
       "2                   REACTOME_MRNA_SPLICING        1  0.733057  0.000048   \n",
       "3  MIPS_NOP56P_ASSOCIATED_PRE_RRNA_COMPLEX        1  0.680555  0.001628   \n",
       "4                     KEGG_DNA_REPLICATION        1  0.549473  0.312155   \n",
       "5                     PID_MYC_ACTIVPATHWAY        1  0.639303  0.021702   \n",
       "\n",
       "        FDR  \n",
       "1  0.956005  \n",
       "2  0.000582  \n",
       "3  0.011366  \n",
       "4  0.539951  \n",
       "5  0.083739  "
      ]
     },
     "execution_count": 9,
     "metadata": {},
     "output_type": "execute_result"
    }
   ],
   "source": [
    "multiplier_model_summary.head()"
   ]
  },
  {
   "cell_type": "markdown",
   "id": "neural-expression",
   "metadata": {
    "papermill": {
     "duration": 0.006007,
     "end_time": "2021-05-11T19:09:56.949763",
     "exception": false,
     "start_time": "2021-05-11T19:09:56.943756",
     "status": "completed"
    },
    "tags": []
   },
   "source": [
    "# Load data"
   ]
  },
  {
   "cell_type": "markdown",
   "id": "military-enlargement",
   "metadata": {
    "papermill": {
     "duration": 0.005873,
     "end_time": "2021-05-11T19:09:56.961602",
     "exception": false,
     "start_time": "2021-05-11T19:09:56.955729",
     "status": "completed"
    },
    "tags": []
   },
   "source": [
    "## Original data"
   ]
  },
  {
   "cell_type": "code",
   "execution_count": 10,
   "id": "distinguished-elements",
   "metadata": {
    "papermill": {
     "duration": 0.019571,
     "end_time": "2021-05-11T19:09:56.987255",
     "exception": false,
     "start_time": "2021-05-11T19:09:56.967684",
     "status": "completed"
    },
    "tags": []
   },
   "outputs": [],
   "source": [
    "INPUT_SUBSET = \"z_score_std\""
   ]
  },
  {
   "cell_type": "code",
   "execution_count": 11,
   "id": "elementary-court",
   "metadata": {
    "papermill": {
     "duration": 0.019175,
     "end_time": "2021-05-11T19:09:57.025099",
     "exception": false,
     "start_time": "2021-05-11T19:09:57.005924",
     "status": "completed"
    },
    "tags": []
   },
   "outputs": [],
   "source": [
    "INPUT_STEM = \"projection-smultixcan-efo_partial-mashr-zscores\""
   ]
  },
  {
   "cell_type": "code",
   "execution_count": 12,
   "id": "yellow-stand",
   "metadata": {
    "papermill": {
     "duration": 0.020992,
     "end_time": "2021-05-11T19:09:57.052255",
     "exception": false,
     "start_time": "2021-05-11T19:09:57.031263",
     "status": "completed"
    },
    "tags": []
   },
   "outputs": [
    {
     "data": {
      "text/plain": [
       "PosixPath('/home/miltondp/projects/labs/greenelab/phenoplier/bases_data/base_orig/results/data_transformations/z_score_std/z_score_std-projection-smultixcan-efo_partial-mashr-zscores.pkl')"
      ]
     },
     "metadata": {},
     "output_type": "display_data"
    },
    {
     "data": {
      "text/plain": [
       "'z_score_std-projection-smultixcan-efo_partial-mashr-zscores'"
      ]
     },
     "metadata": {},
     "output_type": "display_data"
    }
   ],
   "source": [
    "input_filepath = Path(\n",
    "    conf.RESULTS[\"DATA_TRANSFORMATIONS_DIR\"],\n",
    "    INPUT_SUBSET,\n",
    "    f\"{INPUT_SUBSET}-{INPUT_STEM}.pkl\",\n",
    ").resolve()\n",
    "display(input_filepath)\n",
    "\n",
    "assert input_filepath.exists(), \"Input file does not exist\"\n",
    "\n",
    "input_filepath_stem = input_filepath.stem\n",
    "display(input_filepath_stem)"
   ]
  },
  {
   "cell_type": "code",
   "execution_count": 13,
   "id": "perfect-cruise",
   "metadata": {
    "papermill": {
     "duration": 0.032337,
     "end_time": "2021-05-11T19:09:57.090585",
     "exception": false,
     "start_time": "2021-05-11T19:09:57.058248",
     "status": "completed"
    },
    "tags": []
   },
   "outputs": [],
   "source": [
    "data = pd.read_pickle(input_filepath)"
   ]
  },
  {
   "cell_type": "code",
   "execution_count": 14,
   "id": "medieval-junction",
   "metadata": {
    "papermill": {
     "duration": 0.01967,
     "end_time": "2021-05-11T19:09:57.116292",
     "exception": false,
     "start_time": "2021-05-11T19:09:57.096622",
     "status": "completed"
    },
    "tags": []
   },
   "outputs": [
    {
     "data": {
      "text/plain": [
       "(3752, 987)"
      ]
     },
     "execution_count": 14,
     "metadata": {},
     "output_type": "execute_result"
    }
   ],
   "source": [
    "data.shape"
   ]
  },
  {
   "cell_type": "code",
   "execution_count": 15,
   "id": "charitable-craps",
   "metadata": {
    "papermill": {
     "duration": 0.031843,
     "end_time": "2021-05-11T19:09:57.154356",
     "exception": false,
     "start_time": "2021-05-11T19:09:57.122513",
     "status": "completed"
    },
    "tags": []
   },
   "outputs": [
    {
     "data": {
      "text/html": [
       "<div>\n",
       "<style scoped>\n",
       "    .dataframe tbody tr th:only-of-type {\n",
       "        vertical-align: middle;\n",
       "    }\n",
       "\n",
       "    .dataframe tbody tr th {\n",
       "        vertical-align: top;\n",
       "    }\n",
       "\n",
       "    .dataframe thead th {\n",
       "        text-align: right;\n",
       "    }\n",
       "</style>\n",
       "<table border=\"1\" class=\"dataframe\">\n",
       "  <thead>\n",
       "    <tr style=\"text-align: right;\">\n",
       "      <th></th>\n",
       "      <th>LV1</th>\n",
       "      <th>LV2</th>\n",
       "      <th>LV3</th>\n",
       "      <th>LV4</th>\n",
       "      <th>LV5</th>\n",
       "      <th>LV6</th>\n",
       "      <th>LV7</th>\n",
       "      <th>LV8</th>\n",
       "      <th>LV9</th>\n",
       "      <th>LV10</th>\n",
       "      <th>...</th>\n",
       "      <th>LV978</th>\n",
       "      <th>LV979</th>\n",
       "      <th>LV980</th>\n",
       "      <th>LV981</th>\n",
       "      <th>LV982</th>\n",
       "      <th>LV983</th>\n",
       "      <th>LV984</th>\n",
       "      <th>LV985</th>\n",
       "      <th>LV986</th>\n",
       "      <th>LV987</th>\n",
       "    </tr>\n",
       "  </thead>\n",
       "  <tbody>\n",
       "    <tr>\n",
       "      <th>100001_raw-Food_weight</th>\n",
       "      <td>-0.695006</td>\n",
       "      <td>1.962565</td>\n",
       "      <td>0.057683</td>\n",
       "      <td>0.878731</td>\n",
       "      <td>-0.539977</td>\n",
       "      <td>1.481272</td>\n",
       "      <td>-0.396422</td>\n",
       "      <td>1.090180</td>\n",
       "      <td>0.759223</td>\n",
       "      <td>0.931395</td>\n",
       "      <td>...</td>\n",
       "      <td>1.129784</td>\n",
       "      <td>1.752343</td>\n",
       "      <td>-1.411403</td>\n",
       "      <td>2.823863</td>\n",
       "      <td>0.931116</td>\n",
       "      <td>-1.054519</td>\n",
       "      <td>0.432982</td>\n",
       "      <td>-0.633597</td>\n",
       "      <td>0.554279</td>\n",
       "      <td>-0.642479</td>\n",
       "    </tr>\n",
       "    <tr>\n",
       "      <th>100002_raw-Energy</th>\n",
       "      <td>-1.528127</td>\n",
       "      <td>-0.345309</td>\n",
       "      <td>-0.148953</td>\n",
       "      <td>-0.242060</td>\n",
       "      <td>0.373427</td>\n",
       "      <td>0.791092</td>\n",
       "      <td>0.263477</td>\n",
       "      <td>0.987702</td>\n",
       "      <td>0.354391</td>\n",
       "      <td>1.416059</td>\n",
       "      <td>...</td>\n",
       "      <td>0.224604</td>\n",
       "      <td>0.769882</td>\n",
       "      <td>-0.509482</td>\n",
       "      <td>0.091153</td>\n",
       "      <td>2.286789</td>\n",
       "      <td>-1.008256</td>\n",
       "      <td>-0.029764</td>\n",
       "      <td>1.737229</td>\n",
       "      <td>-0.272107</td>\n",
       "      <td>-0.526125</td>\n",
       "    </tr>\n",
       "    <tr>\n",
       "      <th>100003_raw-Protein</th>\n",
       "      <td>-0.704572</td>\n",
       "      <td>-1.011299</td>\n",
       "      <td>0.671420</td>\n",
       "      <td>0.143991</td>\n",
       "      <td>0.615212</td>\n",
       "      <td>0.874212</td>\n",
       "      <td>-0.040998</td>\n",
       "      <td>0.915170</td>\n",
       "      <td>0.254369</td>\n",
       "      <td>-0.084237</td>\n",
       "      <td>...</td>\n",
       "      <td>1.003019</td>\n",
       "      <td>1.044314</td>\n",
       "      <td>-2.376108</td>\n",
       "      <td>0.004778</td>\n",
       "      <td>0.053714</td>\n",
       "      <td>-0.892447</td>\n",
       "      <td>-0.183800</td>\n",
       "      <td>1.377991</td>\n",
       "      <td>-0.278794</td>\n",
       "      <td>-0.419733</td>\n",
       "    </tr>\n",
       "    <tr>\n",
       "      <th>100004_raw-Fat</th>\n",
       "      <td>-0.989832</td>\n",
       "      <td>-1.875490</td>\n",
       "      <td>0.261555</td>\n",
       "      <td>-1.420719</td>\n",
       "      <td>0.366238</td>\n",
       "      <td>1.167049</td>\n",
       "      <td>0.257387</td>\n",
       "      <td>0.717674</td>\n",
       "      <td>-0.997664</td>\n",
       "      <td>0.969825</td>\n",
       "      <td>...</td>\n",
       "      <td>0.585913</td>\n",
       "      <td>0.638314</td>\n",
       "      <td>0.119139</td>\n",
       "      <td>-0.140204</td>\n",
       "      <td>1.394326</td>\n",
       "      <td>-1.173402</td>\n",
       "      <td>0.555058</td>\n",
       "      <td>1.013982</td>\n",
       "      <td>-0.544506</td>\n",
       "      <td>-0.064061</td>\n",
       "    </tr>\n",
       "    <tr>\n",
       "      <th>100005_raw-Carbohydrate</th>\n",
       "      <td>-0.580143</td>\n",
       "      <td>0.243335</td>\n",
       "      <td>0.158966</td>\n",
       "      <td>-0.036558</td>\n",
       "      <td>0.068176</td>\n",
       "      <td>-0.202639</td>\n",
       "      <td>1.101281</td>\n",
       "      <td>0.675227</td>\n",
       "      <td>1.463432</td>\n",
       "      <td>1.010078</td>\n",
       "      <td>...</td>\n",
       "      <td>-0.249108</td>\n",
       "      <td>-0.026814</td>\n",
       "      <td>0.232713</td>\n",
       "      <td>0.323682</td>\n",
       "      <td>1.168642</td>\n",
       "      <td>-0.282935</td>\n",
       "      <td>0.653105</td>\n",
       "      <td>1.909526</td>\n",
       "      <td>0.199997</td>\n",
       "      <td>-1.656894</td>\n",
       "    </tr>\n",
       "  </tbody>\n",
       "</table>\n",
       "<p>5 rows × 987 columns</p>\n",
       "</div>"
      ],
      "text/plain": [
       "                              LV1       LV2       LV3       LV4       LV5  \\\n",
       "100001_raw-Food_weight  -0.695006  1.962565  0.057683  0.878731 -0.539977   \n",
       "100002_raw-Energy       -1.528127 -0.345309 -0.148953 -0.242060  0.373427   \n",
       "100003_raw-Protein      -0.704572 -1.011299  0.671420  0.143991  0.615212   \n",
       "100004_raw-Fat          -0.989832 -1.875490  0.261555 -1.420719  0.366238   \n",
       "100005_raw-Carbohydrate -0.580143  0.243335  0.158966 -0.036558  0.068176   \n",
       "\n",
       "                              LV6       LV7       LV8       LV9      LV10  \\\n",
       "100001_raw-Food_weight   1.481272 -0.396422  1.090180  0.759223  0.931395   \n",
       "100002_raw-Energy        0.791092  0.263477  0.987702  0.354391  1.416059   \n",
       "100003_raw-Protein       0.874212 -0.040998  0.915170  0.254369 -0.084237   \n",
       "100004_raw-Fat           1.167049  0.257387  0.717674 -0.997664  0.969825   \n",
       "100005_raw-Carbohydrate -0.202639  1.101281  0.675227  1.463432  1.010078   \n",
       "\n",
       "                         ...     LV978     LV979     LV980     LV981  \\\n",
       "100001_raw-Food_weight   ...  1.129784  1.752343 -1.411403  2.823863   \n",
       "100002_raw-Energy        ...  0.224604  0.769882 -0.509482  0.091153   \n",
       "100003_raw-Protein       ...  1.003019  1.044314 -2.376108  0.004778   \n",
       "100004_raw-Fat           ...  0.585913  0.638314  0.119139 -0.140204   \n",
       "100005_raw-Carbohydrate  ... -0.249108 -0.026814  0.232713  0.323682   \n",
       "\n",
       "                            LV982     LV983     LV984     LV985     LV986  \\\n",
       "100001_raw-Food_weight   0.931116 -1.054519  0.432982 -0.633597  0.554279   \n",
       "100002_raw-Energy        2.286789 -1.008256 -0.029764  1.737229 -0.272107   \n",
       "100003_raw-Protein       0.053714 -0.892447 -0.183800  1.377991 -0.278794   \n",
       "100004_raw-Fat           1.394326 -1.173402  0.555058  1.013982 -0.544506   \n",
       "100005_raw-Carbohydrate  1.168642 -0.282935  0.653105  1.909526  0.199997   \n",
       "\n",
       "                            LV987  \n",
       "100001_raw-Food_weight  -0.642479  \n",
       "100002_raw-Energy       -0.526125  \n",
       "100003_raw-Protein      -0.419733  \n",
       "100004_raw-Fat          -0.064061  \n",
       "100005_raw-Carbohydrate -1.656894  \n",
       "\n",
       "[5 rows x 987 columns]"
      ]
     },
     "execution_count": 15,
     "metadata": {},
     "output_type": "execute_result"
    }
   ],
   "source": [
    "data.head()"
   ]
  },
  {
   "cell_type": "markdown",
   "id": "architectural-flooring",
   "metadata": {},
   "source": [
    "## LV data"
   ]
  },
  {
   "cell_type": "code",
   "execution_count": 16,
   "id": "suited-employer",
   "metadata": {},
   "outputs": [],
   "source": [
    "lv_obj = LVAnalysis(LV_NAME, data)"
   ]
  },
  {
   "cell_type": "code",
   "execution_count": 17,
   "id": "noted-little",
   "metadata": {},
   "outputs": [
    {
     "name": "stderr",
     "output_type": "stream",
     "text": [
      "[2021-08-02 11:06:33,758 - numexpr.utils] INFO: NumExpr defaulting to 8 threads.\n"
     ]
    },
    {
     "data": {
      "text/html": [
       "<div>\n",
       "<style scoped>\n",
       "    .dataframe tbody tr th:only-of-type {\n",
       "        vertical-align: middle;\n",
       "    }\n",
       "\n",
       "    .dataframe tbody tr th {\n",
       "        vertical-align: top;\n",
       "    }\n",
       "\n",
       "    .dataframe thead th {\n",
       "        text-align: right;\n",
       "    }\n",
       "</style>\n",
       "<table border=\"1\" class=\"dataframe\">\n",
       "  <thead>\n",
       "    <tr style=\"text-align: right;\">\n",
       "      <th></th>\n",
       "      <th>pathway</th>\n",
       "      <th>LV index</th>\n",
       "      <th>AUC</th>\n",
       "      <th>p-value</th>\n",
       "      <th>FDR</th>\n",
       "    </tr>\n",
       "  </thead>\n",
       "  <tbody>\n",
       "    <tr>\n",
       "      <th>887</th>\n",
       "      <td>REACTOME_TRIGLYCERIDE_BIOSYNTHESIS</td>\n",
       "      <td>246</td>\n",
       "      <td>0.857366</td>\n",
       "      <td>5.437536e-05</td>\n",
       "      <td>6.515981e-04</td>\n",
       "    </tr>\n",
       "    <tr>\n",
       "      <th>888</th>\n",
       "      <td>KEGG_PYRUVATE_METABOLISM</td>\n",
       "      <td>246</td>\n",
       "      <td>0.817668</td>\n",
       "      <td>2.905798e-04</td>\n",
       "      <td>2.655850e-03</td>\n",
       "    </tr>\n",
       "    <tr>\n",
       "      <th>889</th>\n",
       "      <td>REACTOME_FATTY_ACID_TRIACYLGLYCEROL_AND_KETONE...</td>\n",
       "      <td>246</td>\n",
       "      <td>0.890091</td>\n",
       "      <td>2.762125e-18</td>\n",
       "      <td>3.971936e-16</td>\n",
       "    </tr>\n",
       "    <tr>\n",
       "      <th>890</th>\n",
       "      <td>KEGG_PROPANOATE_METABOLISM</td>\n",
       "      <td>246</td>\n",
       "      <td>0.828621</td>\n",
       "      <td>4.947481e-04</td>\n",
       "      <td>4.268686e-03</td>\n",
       "    </tr>\n",
       "    <tr>\n",
       "      <th>891</th>\n",
       "      <td>REACTOME_METABOLISM_OF_LIPIDS_AND_LIPOPROTEINS</td>\n",
       "      <td>246</td>\n",
       "      <td>0.671159</td>\n",
       "      <td>3.216205e-10</td>\n",
       "      <td>1.137271e-08</td>\n",
       "    </tr>\n",
       "  </tbody>\n",
       "</table>\n",
       "</div>"
      ],
      "text/plain": [
       "                                               pathway LV index       AUC  \\\n",
       "887                 REACTOME_TRIGLYCERIDE_BIOSYNTHESIS      246  0.857366   \n",
       "888                           KEGG_PYRUVATE_METABOLISM      246  0.817668   \n",
       "889  REACTOME_FATTY_ACID_TRIACYLGLYCEROL_AND_KETONE...      246  0.890091   \n",
       "890                         KEGG_PROPANOATE_METABOLISM      246  0.828621   \n",
       "891     REACTOME_METABOLISM_OF_LIPIDS_AND_LIPOPROTEINS      246  0.671159   \n",
       "\n",
       "          p-value           FDR  \n",
       "887  5.437536e-05  6.515981e-04  \n",
       "888  2.905798e-04  2.655850e-03  \n",
       "889  2.762125e-18  3.971936e-16  \n",
       "890  4.947481e-04  4.268686e-03  \n",
       "891  3.216205e-10  1.137271e-08  "
      ]
     },
     "execution_count": 17,
     "metadata": {},
     "output_type": "execute_result"
    }
   ],
   "source": [
    "multiplier_model_summary[\n",
    "    multiplier_model_summary[\"LV index\"].isin((LV_NAME[2:],))\n",
    "    & (\n",
    "        (multiplier_model_summary[\"FDR\"] < 0.05)\n",
    "        | (multiplier_model_summary[\"AUC\"] >= 0.75)\n",
    "    )\n",
    "]"
   ]
  },
  {
   "cell_type": "code",
   "execution_count": 18,
   "id": "assigned-weekly",
   "metadata": {},
   "outputs": [
    {
     "name": "stdout",
     "output_type": "stream",
     "text": [
      "SRP042186, SRP045545, SRP044756, SRP051211, SRP042620, SRP055749, SRP029899, SRP021478, SRP042086, SRP065812, SRP007412, SRP020470, SRP037778, SRP042161, SRP029889, SRP057196, SRP053101, SRP050499, SRP035988, SRP033135, SRP034712, SRP012461, SRP056041, SRP048674, SRP059643, SRP045364, SRP026042, SRP050971, SRP051705, SRP035387, SRP055512, SRP007461, SRP065451, SRP007338, SRP019936, SRP055569, SRP060355, SRP058571, SRP041377, SRP040998, SRP059379, SRP036133, SRP066834, SRP051772, SRP044056, SRP048669, SRP059066, SRP068078, SRP060359, SRP055475, SRP058771, SRP045639, SRP043085, SRP062177, SRP064464, SRP041597, SRP056696, SRP059035, SRP010678, SRP049593, SRP048536, SRP061566, SRP030617, SRP057804, SRP045156, SRP044171, SRP010644, SRP057448, SRP041751, SRP061701, SRP033131, SRP041387, SRP063834, SRP020493, "
     ]
    },
    {
     "name": "stderr",
     "output_type": "stream",
     "text": [
      "/home/miltondp/projects/labs/greenelab/phenoplier/libs/data/recount2.py:320: UserWarning: Not all experiments data could be loaded (72 != 74)\n",
      "  warnings.warn(\n"
     ]
    }
   ],
   "source": [
    "lv_data = lv_obj.get_experiments_data()"
   ]
  },
  {
   "cell_type": "code",
   "execution_count": 19,
   "id": "guilty-medicaid",
   "metadata": {},
   "outputs": [
    {
     "data": {
      "text/plain": [
       "(6285, 100)"
      ]
     },
     "execution_count": 19,
     "metadata": {},
     "output_type": "execute_result"
    }
   ],
   "source": [
    "lv_data.shape"
   ]
  },
  {
   "cell_type": "code",
   "execution_count": 20,
   "id": "neural-cambridge",
   "metadata": {},
   "outputs": [
    {
     "data": {
      "text/html": [
       "<div>\n",
       "<style scoped>\n",
       "    .dataframe tbody tr th:only-of-type {\n",
       "        vertical-align: middle;\n",
       "    }\n",
       "\n",
       "    .dataframe tbody tr th {\n",
       "        vertical-align: top;\n",
       "    }\n",
       "\n",
       "    .dataframe thead th {\n",
       "        text-align: right;\n",
       "    }\n",
       "</style>\n",
       "<table border=\"1\" class=\"dataframe\">\n",
       "  <thead>\n",
       "    <tr style=\"text-align: right;\">\n",
       "      <th></th>\n",
       "      <th></th>\n",
       "      <th>cell type</th>\n",
       "      <th>treatment</th>\n",
       "      <th>time</th>\n",
       "      <th>replicate</th>\n",
       "      <th>librarybatch</th>\n",
       "      <th>lane</th>\n",
       "      <th>multiplex</th>\n",
       "      <th>treated with</th>\n",
       "      <th>cell line</th>\n",
       "      <th>lentiviral transfection</th>\n",
       "      <th>...</th>\n",
       "      <th>fluorescence</th>\n",
       "      <th>cdna synthesis method</th>\n",
       "      <th>library construction method</th>\n",
       "      <th>tet1 knockdown</th>\n",
       "      <th>passage</th>\n",
       "      <th>genotype/variation</th>\n",
       "      <th>transfection</th>\n",
       "      <th>data type</th>\n",
       "      <th>condition</th>\n",
       "      <th>LV246</th>\n",
       "    </tr>\n",
       "    <tr>\n",
       "      <th>project</th>\n",
       "      <th>run</th>\n",
       "      <th></th>\n",
       "      <th></th>\n",
       "      <th></th>\n",
       "      <th></th>\n",
       "      <th></th>\n",
       "      <th></th>\n",
       "      <th></th>\n",
       "      <th></th>\n",
       "      <th></th>\n",
       "      <th></th>\n",
       "      <th></th>\n",
       "      <th></th>\n",
       "      <th></th>\n",
       "      <th></th>\n",
       "      <th></th>\n",
       "      <th></th>\n",
       "      <th></th>\n",
       "      <th></th>\n",
       "      <th></th>\n",
       "      <th></th>\n",
       "      <th></th>\n",
       "    </tr>\n",
       "  </thead>\n",
       "  <tbody>\n",
       "    <tr>\n",
       "      <th rowspan=\"5\" valign=\"top\">SRP042186</th>\n",
       "      <th>SRR1296118</th>\n",
       "      <td>WAT</td>\n",
       "      <td>DMSO</td>\n",
       "      <td>24 hours</td>\n",
       "      <td>1</td>\n",
       "      <td>A</td>\n",
       "      <td>2</td>\n",
       "      <td>1</td>\n",
       "      <td>NaN</td>\n",
       "      <td>NaN</td>\n",
       "      <td>NaN</td>\n",
       "      <td>...</td>\n",
       "      <td>NaN</td>\n",
       "      <td>NaN</td>\n",
       "      <td>NaN</td>\n",
       "      <td>NaN</td>\n",
       "      <td>NaN</td>\n",
       "      <td>NaN</td>\n",
       "      <td>NaN</td>\n",
       "      <td>NaN</td>\n",
       "      <td>NaN</td>\n",
       "      <td>1.399640</td>\n",
       "    </tr>\n",
       "    <tr>\n",
       "      <th>SRR1296120</th>\n",
       "      <td>WAT</td>\n",
       "      <td>DMSO</td>\n",
       "      <td>24 hours</td>\n",
       "      <td>3</td>\n",
       "      <td>A</td>\n",
       "      <td>4</td>\n",
       "      <td>3</td>\n",
       "      <td>NaN</td>\n",
       "      <td>NaN</td>\n",
       "      <td>NaN</td>\n",
       "      <td>...</td>\n",
       "      <td>NaN</td>\n",
       "      <td>NaN</td>\n",
       "      <td>NaN</td>\n",
       "      <td>NaN</td>\n",
       "      <td>NaN</td>\n",
       "      <td>NaN</td>\n",
       "      <td>NaN</td>\n",
       "      <td>NaN</td>\n",
       "      <td>NaN</td>\n",
       "      <td>1.405104</td>\n",
       "    </tr>\n",
       "    <tr>\n",
       "      <th>SRR1296121</th>\n",
       "      <td>WAT</td>\n",
       "      <td>JAK3i</td>\n",
       "      <td>24 hours</td>\n",
       "      <td>1</td>\n",
       "      <td>A</td>\n",
       "      <td>3</td>\n",
       "      <td>1</td>\n",
       "      <td>NaN</td>\n",
       "      <td>NaN</td>\n",
       "      <td>NaN</td>\n",
       "      <td>...</td>\n",
       "      <td>NaN</td>\n",
       "      <td>NaN</td>\n",
       "      <td>NaN</td>\n",
       "      <td>NaN</td>\n",
       "      <td>NaN</td>\n",
       "      <td>NaN</td>\n",
       "      <td>NaN</td>\n",
       "      <td>NaN</td>\n",
       "      <td>NaN</td>\n",
       "      <td>1.497263</td>\n",
       "    </tr>\n",
       "    <tr>\n",
       "      <th>SRR1296122</th>\n",
       "      <td>WAT</td>\n",
       "      <td>JAK3i</td>\n",
       "      <td>24 hours</td>\n",
       "      <td>2</td>\n",
       "      <td>A</td>\n",
       "      <td>2</td>\n",
       "      <td>3</td>\n",
       "      <td>NaN</td>\n",
       "      <td>NaN</td>\n",
       "      <td>NaN</td>\n",
       "      <td>...</td>\n",
       "      <td>NaN</td>\n",
       "      <td>NaN</td>\n",
       "      <td>NaN</td>\n",
       "      <td>NaN</td>\n",
       "      <td>NaN</td>\n",
       "      <td>NaN</td>\n",
       "      <td>NaN</td>\n",
       "      <td>NaN</td>\n",
       "      <td>NaN</td>\n",
       "      <td>1.471362</td>\n",
       "    </tr>\n",
       "    <tr>\n",
       "      <th>SRR1296123</th>\n",
       "      <td>WAT</td>\n",
       "      <td>JAK3i</td>\n",
       "      <td>24 hours</td>\n",
       "      <td>3</td>\n",
       "      <td>A</td>\n",
       "      <td>1</td>\n",
       "      <td>4</td>\n",
       "      <td>NaN</td>\n",
       "      <td>NaN</td>\n",
       "      <td>NaN</td>\n",
       "      <td>...</td>\n",
       "      <td>NaN</td>\n",
       "      <td>NaN</td>\n",
       "      <td>NaN</td>\n",
       "      <td>NaN</td>\n",
       "      <td>NaN</td>\n",
       "      <td>NaN</td>\n",
       "      <td>NaN</td>\n",
       "      <td>NaN</td>\n",
       "      <td>NaN</td>\n",
       "      <td>1.639061</td>\n",
       "    </tr>\n",
       "  </tbody>\n",
       "</table>\n",
       "<p>5 rows × 100 columns</p>\n",
       "</div>"
      ],
      "text/plain": [
       "                     cell type treatment      time replicate librarybatch  \\\n",
       "project   run                                                               \n",
       "SRP042186 SRR1296118       WAT      DMSO  24 hours         1            A   \n",
       "          SRR1296120       WAT      DMSO  24 hours         3            A   \n",
       "          SRR1296121       WAT     JAK3i  24 hours         1            A   \n",
       "          SRR1296122       WAT     JAK3i  24 hours         2            A   \n",
       "          SRR1296123       WAT     JAK3i  24 hours         3            A   \n",
       "\n",
       "                     lane multiplex treated with cell line  \\\n",
       "project   run                                                \n",
       "SRP042186 SRR1296118    2         1          NaN       NaN   \n",
       "          SRR1296120    4         3          NaN       NaN   \n",
       "          SRR1296121    3         1          NaN       NaN   \n",
       "          SRR1296122    2         3          NaN       NaN   \n",
       "          SRR1296123    1         4          NaN       NaN   \n",
       "\n",
       "                     lentiviral transfection  ... fluorescence  \\\n",
       "project   run                                 ...                \n",
       "SRP042186 SRR1296118                     NaN  ...          NaN   \n",
       "          SRR1296120                     NaN  ...          NaN   \n",
       "          SRR1296121                     NaN  ...          NaN   \n",
       "          SRR1296122                     NaN  ...          NaN   \n",
       "          SRR1296123                     NaN  ...          NaN   \n",
       "\n",
       "                     cdna synthesis method library construction method  \\\n",
       "project   run                                                            \n",
       "SRP042186 SRR1296118                   NaN                         NaN   \n",
       "          SRR1296120                   NaN                         NaN   \n",
       "          SRR1296121                   NaN                         NaN   \n",
       "          SRR1296122                   NaN                         NaN   \n",
       "          SRR1296123                   NaN                         NaN   \n",
       "\n",
       "                     tet1 knockdown passage genotype/variation transfection  \\\n",
       "project   run                                                                 \n",
       "SRP042186 SRR1296118            NaN     NaN                NaN          NaN   \n",
       "          SRR1296120            NaN     NaN                NaN          NaN   \n",
       "          SRR1296121            NaN     NaN                NaN          NaN   \n",
       "          SRR1296122            NaN     NaN                NaN          NaN   \n",
       "          SRR1296123            NaN     NaN                NaN          NaN   \n",
       "\n",
       "                     data type condition     LV246  \n",
       "project   run                                       \n",
       "SRP042186 SRR1296118       NaN       NaN  1.399640  \n",
       "          SRR1296120       NaN       NaN  1.405104  \n",
       "          SRR1296121       NaN       NaN  1.497263  \n",
       "          SRR1296122       NaN       NaN  1.471362  \n",
       "          SRR1296123       NaN       NaN  1.639061  \n",
       "\n",
       "[5 rows x 100 columns]"
      ]
     },
     "execution_count": 20,
     "metadata": {},
     "output_type": "execute_result"
    }
   ],
   "source": [
    "lv_data.head()"
   ]
  },
  {
   "cell_type": "markdown",
   "id": "civil-yugoslavia",
   "metadata": {},
   "source": [
    "# LV cell types analysis"
   ]
  },
  {
   "cell_type": "markdown",
   "id": "roman-hotel",
   "metadata": {},
   "source": [
    "## Get top attributes"
   ]
  },
  {
   "cell_type": "code",
   "execution_count": 21,
   "id": "pressed-oxide",
   "metadata": {},
   "outputs": [
    {
     "data": {
      "text/plain": [
       "replicate                  0.548536\n",
       "librarybatch               0.548536\n",
       "lane                       0.548536\n",
       "multiplex                  0.548536\n",
       "treated with               0.354304\n",
       "time                       0.288936\n",
       "subject                    0.128373\n",
       "disease state              0.128373\n",
       "treatment                  0.101045\n",
       "time point                 0.060844\n",
       "patient #                  0.031128\n",
       "cell type                  0.028771\n",
       "subject status             0.025382\n",
       "lentiviral transfection    0.024762\n",
       "cell line                  0.021811\n",
       "grouping                   0.021502\n",
       "differentiation state      0.018995\n",
       "phenotype                  0.017459\n",
       "extraction protocol        0.014633\n",
       "subject id                 0.014633\n",
       "dtype: float64"
      ]
     },
     "metadata": {},
     "output_type": "display_data"
    }
   ],
   "source": [
    "lv_attrs = lv_obj.get_attributes_variation_score()\n",
    "display(lv_attrs.head(20))"
   ]
  },
  {
   "cell_type": "code",
   "execution_count": 22,
   "id": "creative-privacy",
   "metadata": {},
   "outputs": [
    {
     "data": {
      "text/plain": [
       "cell type      0.028771\n",
       "tissue         0.013640\n",
       "tissue type    0.008186\n",
       "dtype: float64"
      ]
     },
     "execution_count": 22,
     "metadata": {},
     "output_type": "execute_result"
    }
   ],
   "source": [
    "# show those with cell type or tissue in their name\n",
    "_tmp = pd.Series(lv_attrs.index)\n",
    "lv_attrs[\n",
    "    _tmp.str.match(\n",
    "        \"(?:cell.+type$)|(?:tissue$)|(?:tissue.+type$)\",\n",
    "        case=False,\n",
    "        flags=re.IGNORECASE,\n",
    "    ).values\n",
    "].sort_values(ascending=False)"
   ]
  },
  {
   "cell_type": "code",
   "execution_count": 23,
   "id": "distinguished-thinking",
   "metadata": {},
   "outputs": [],
   "source": [
    "_tmp = lv_data.loc[\n",
    "    :,\n",
    "    [\n",
    "        \"cell type\",\n",
    "        \"tissue\",\n",
    "        \"tissue type\",\n",
    "        LV_NAME,\n",
    "    ],\n",
    "]"
   ]
  },
  {
   "cell_type": "code",
   "execution_count": 24,
   "id": "civil-cooperation",
   "metadata": {},
   "outputs": [],
   "source": [
    "_tmp_seq = list(chunker(_tmp.sort_values(LV_NAME, ascending=False), 25))"
   ]
  },
  {
   "cell_type": "code",
   "execution_count": 25,
   "id": "dressed-enemy",
   "metadata": {},
   "outputs": [
    {
     "data": {
      "text/html": [
       "<div>\n",
       "<style scoped>\n",
       "    .dataframe tbody tr th:only-of-type {\n",
       "        vertical-align: middle;\n",
       "    }\n",
       "\n",
       "    .dataframe tbody tr th {\n",
       "        vertical-align: top;\n",
       "    }\n",
       "\n",
       "    .dataframe thead th {\n",
       "        text-align: right;\n",
       "    }\n",
       "</style>\n",
       "<table border=\"1\" class=\"dataframe\">\n",
       "  <thead>\n",
       "    <tr style=\"text-align: right;\">\n",
       "      <th></th>\n",
       "      <th></th>\n",
       "      <th>cell type</th>\n",
       "      <th>tissue</th>\n",
       "      <th>tissue type</th>\n",
       "      <th>LV246</th>\n",
       "    </tr>\n",
       "    <tr>\n",
       "      <th>project</th>\n",
       "      <th>run</th>\n",
       "      <th></th>\n",
       "      <th></th>\n",
       "      <th></th>\n",
       "      <th></th>\n",
       "    </tr>\n",
       "  </thead>\n",
       "  <tbody>\n",
       "    <tr>\n",
       "      <th>SRP051211</th>\n",
       "      <th>SRR1718843</th>\n",
       "      <td>SGBS adipocyte D10</td>\n",
       "      <td>NaN</td>\n",
       "      <td>NaN</td>\n",
       "      <td>0.684595</td>\n",
       "    </tr>\n",
       "    <tr>\n",
       "      <th rowspan=\"2\" valign=\"top\">SRP029899</th>\n",
       "      <th>SRR976771</th>\n",
       "      <td>NaN</td>\n",
       "      <td>adipose</td>\n",
       "      <td>NaN</td>\n",
       "      <td>0.680465</td>\n",
       "    </tr>\n",
       "    <tr>\n",
       "      <th>SRR976753</th>\n",
       "      <td>NaN</td>\n",
       "      <td>adipose</td>\n",
       "      <td>NaN</td>\n",
       "      <td>0.677216</td>\n",
       "    </tr>\n",
       "    <tr>\n",
       "      <th rowspan=\"2\" valign=\"top\">SRP021478</th>\n",
       "      <th>SRR833731</th>\n",
       "      <td>NaN</td>\n",
       "      <td>adipose</td>\n",
       "      <td>NaN</td>\n",
       "      <td>0.676393</td>\n",
       "    </tr>\n",
       "    <tr>\n",
       "      <th>SRR833730</th>\n",
       "      <td>NaN</td>\n",
       "      <td>adipose</td>\n",
       "      <td>NaN</td>\n",
       "      <td>0.675351</td>\n",
       "    </tr>\n",
       "    <tr>\n",
       "      <th>SRP029899</th>\n",
       "      <th>SRR976751</th>\n",
       "      <td>NaN</td>\n",
       "      <td>adipose</td>\n",
       "      <td>NaN</td>\n",
       "      <td>0.675246</td>\n",
       "    </tr>\n",
       "    <tr>\n",
       "      <th rowspan=\"3\" valign=\"top\">SRP021478</th>\n",
       "      <th>SRR833725</th>\n",
       "      <td>NaN</td>\n",
       "      <td>adipose</td>\n",
       "      <td>NaN</td>\n",
       "      <td>0.675132</td>\n",
       "    </tr>\n",
       "    <tr>\n",
       "      <th>SRR833729</th>\n",
       "      <td>NaN</td>\n",
       "      <td>adipose</td>\n",
       "      <td>NaN</td>\n",
       "      <td>0.675075</td>\n",
       "    </tr>\n",
       "    <tr>\n",
       "      <th>SRR833727</th>\n",
       "      <td>NaN</td>\n",
       "      <td>adipose</td>\n",
       "      <td>NaN</td>\n",
       "      <td>0.675057</td>\n",
       "    </tr>\n",
       "    <tr>\n",
       "      <th rowspan=\"4\" valign=\"top\">SRP029899</th>\n",
       "      <th>SRR976747</th>\n",
       "      <td>NaN</td>\n",
       "      <td>adipose</td>\n",
       "      <td>NaN</td>\n",
       "      <td>0.675055</td>\n",
       "    </tr>\n",
       "    <tr>\n",
       "      <th>SRR976749</th>\n",
       "      <td>NaN</td>\n",
       "      <td>adipose</td>\n",
       "      <td>NaN</td>\n",
       "      <td>0.675029</td>\n",
       "    </tr>\n",
       "    <tr>\n",
       "      <th>SRR976748</th>\n",
       "      <td>NaN</td>\n",
       "      <td>adipose</td>\n",
       "      <td>NaN</td>\n",
       "      <td>0.674922</td>\n",
       "    </tr>\n",
       "    <tr>\n",
       "      <th>SRR976752</th>\n",
       "      <td>NaN</td>\n",
       "      <td>adipose</td>\n",
       "      <td>NaN</td>\n",
       "      <td>0.674888</td>\n",
       "    </tr>\n",
       "    <tr>\n",
       "      <th>SRP021478</th>\n",
       "      <th>SRR833726</th>\n",
       "      <td>NaN</td>\n",
       "      <td>adipose</td>\n",
       "      <td>NaN</td>\n",
       "      <td>0.674478</td>\n",
       "    </tr>\n",
       "    <tr>\n",
       "      <th>SRP029899</th>\n",
       "      <th>SRR976750</th>\n",
       "      <td>NaN</td>\n",
       "      <td>adipose</td>\n",
       "      <td>NaN</td>\n",
       "      <td>0.674469</td>\n",
       "    </tr>\n",
       "    <tr>\n",
       "      <th rowspan=\"2\" valign=\"top\">SRP021478</th>\n",
       "      <th>SRR833724</th>\n",
       "      <td>NaN</td>\n",
       "      <td>adipose</td>\n",
       "      <td>NaN</td>\n",
       "      <td>0.674464</td>\n",
       "    </tr>\n",
       "    <tr>\n",
       "      <th>SRR833728</th>\n",
       "      <td>NaN</td>\n",
       "      <td>adipose</td>\n",
       "      <td>NaN</td>\n",
       "      <td>0.674330</td>\n",
       "    </tr>\n",
       "    <tr>\n",
       "      <th>SRP029899</th>\n",
       "      <th>SRR976746</th>\n",
       "      <td>NaN</td>\n",
       "      <td>adipose</td>\n",
       "      <td>NaN</td>\n",
       "      <td>0.674080</td>\n",
       "    </tr>\n",
       "    <tr>\n",
       "      <th>SRP051211</th>\n",
       "      <th>SRR1718837</th>\n",
       "      <td>SGBS adipocyte D10</td>\n",
       "      <td>NaN</td>\n",
       "      <td>NaN</td>\n",
       "      <td>0.669311</td>\n",
       "    </tr>\n",
       "    <tr>\n",
       "      <th>SRP055749</th>\n",
       "      <th>SRR1823868</th>\n",
       "      <td>NaN</td>\n",
       "      <td>Adipose</td>\n",
       "      <td>NaN</td>\n",
       "      <td>0.635334</td>\n",
       "    </tr>\n",
       "    <tr>\n",
       "      <th>SRP051211</th>\n",
       "      <th>SRR1718835</th>\n",
       "      <td>SGBS adipocyte D10</td>\n",
       "      <td>NaN</td>\n",
       "      <td>NaN</td>\n",
       "      <td>0.620612</td>\n",
       "    </tr>\n",
       "    <tr>\n",
       "      <th>SRP042086</th>\n",
       "      <th>SRR1292165</th>\n",
       "      <td>NaN</td>\n",
       "      <td>adipose</td>\n",
       "      <td>NaN</td>\n",
       "      <td>0.565453</td>\n",
       "    </tr>\n",
       "    <tr>\n",
       "      <th rowspan=\"2\" valign=\"top\">SRP065812</th>\n",
       "      <th>SRR2926020</th>\n",
       "      <td>NaN</td>\n",
       "      <td>NaN</td>\n",
       "      <td>normal skin</td>\n",
       "      <td>0.562339</td>\n",
       "    </tr>\n",
       "    <tr>\n",
       "      <th>SRR2926026</th>\n",
       "      <td>NaN</td>\n",
       "      <td>NaN</td>\n",
       "      <td>normal skin</td>\n",
       "      <td>0.460268</td>\n",
       "    </tr>\n",
       "    <tr>\n",
       "      <th>SRP007412</th>\n",
       "      <th>SRR306856</th>\n",
       "      <td>NaN</td>\n",
       "      <td>NaN</td>\n",
       "      <td>NaN</td>\n",
       "      <td>0.456490</td>\n",
       "    </tr>\n",
       "  </tbody>\n",
       "</table>\n",
       "</div>"
      ],
      "text/plain": [
       "                               cell type   tissue  tissue type     LV246\n",
       "project   run                                                           \n",
       "SRP051211 SRR1718843  SGBS adipocyte D10      NaN          NaN  0.684595\n",
       "SRP029899 SRR976771                  NaN  adipose          NaN  0.680465\n",
       "          SRR976753                  NaN  adipose          NaN  0.677216\n",
       "SRP021478 SRR833731                  NaN  adipose          NaN  0.676393\n",
       "          SRR833730                  NaN  adipose          NaN  0.675351\n",
       "SRP029899 SRR976751                  NaN  adipose          NaN  0.675246\n",
       "SRP021478 SRR833725                  NaN  adipose          NaN  0.675132\n",
       "          SRR833729                  NaN  adipose          NaN  0.675075\n",
       "          SRR833727                  NaN  adipose          NaN  0.675057\n",
       "SRP029899 SRR976747                  NaN  adipose          NaN  0.675055\n",
       "          SRR976749                  NaN  adipose          NaN  0.675029\n",
       "          SRR976748                  NaN  adipose          NaN  0.674922\n",
       "          SRR976752                  NaN  adipose          NaN  0.674888\n",
       "SRP021478 SRR833726                  NaN  adipose          NaN  0.674478\n",
       "SRP029899 SRR976750                  NaN  adipose          NaN  0.674469\n",
       "SRP021478 SRR833724                  NaN  adipose          NaN  0.674464\n",
       "          SRR833728                  NaN  adipose          NaN  0.674330\n",
       "SRP029899 SRR976746                  NaN  adipose          NaN  0.674080\n",
       "SRP051211 SRR1718837  SGBS adipocyte D10      NaN          NaN  0.669311\n",
       "SRP055749 SRR1823868                 NaN  Adipose          NaN  0.635334\n",
       "SRP051211 SRR1718835  SGBS adipocyte D10      NaN          NaN  0.620612\n",
       "SRP042086 SRR1292165                 NaN  adipose          NaN  0.565453\n",
       "SRP065812 SRR2926020                 NaN      NaN  normal skin  0.562339\n",
       "          SRR2926026                 NaN      NaN  normal skin  0.460268\n",
       "SRP007412 SRR306856                  NaN      NaN          NaN  0.456490"
      ]
     },
     "execution_count": 25,
     "metadata": {},
     "output_type": "execute_result"
    }
   ],
   "source": [
    "_tmp_seq[3]"
   ]
  },
  {
   "cell_type": "code",
   "execution_count": 26,
   "id": "grateful-cuisine",
   "metadata": {},
   "outputs": [
    {
     "data": {
      "text/html": [
       "<div>\n",
       "<style scoped>\n",
       "    .dataframe tbody tr th:only-of-type {\n",
       "        vertical-align: middle;\n",
       "    }\n",
       "\n",
       "    .dataframe tbody tr th {\n",
       "        vertical-align: top;\n",
       "    }\n",
       "\n",
       "    .dataframe thead th {\n",
       "        text-align: right;\n",
       "    }\n",
       "</style>\n",
       "<table border=\"1\" class=\"dataframe\">\n",
       "  <thead>\n",
       "    <tr style=\"text-align: right;\">\n",
       "      <th></th>\n",
       "      <th></th>\n",
       "      <th>gender</th>\n",
       "      <th>rin</th>\n",
       "      <th>tissue source</th>\n",
       "      <th>LV246</th>\n",
       "    </tr>\n",
       "    <tr>\n",
       "      <th>project</th>\n",
       "      <th>run</th>\n",
       "      <th></th>\n",
       "      <th></th>\n",
       "      <th></th>\n",
       "      <th></th>\n",
       "    </tr>\n",
       "  </thead>\n",
       "  <tbody>\n",
       "    <tr>\n",
       "      <th rowspan=\"10\" valign=\"top\">SRP007412</th>\n",
       "      <th>SRR306856</th>\n",
       "      <td>Male</td>\n",
       "      <td>8.6</td>\n",
       "      <td>National Disease Research Interchange, USA (NDRI)</td>\n",
       "      <td>0.456490</td>\n",
       "    </tr>\n",
       "    <tr>\n",
       "      <th>SRR306854</th>\n",
       "      <td>Male</td>\n",
       "      <td>7.5</td>\n",
       "      <td>Commercial / AMS biotechnology</td>\n",
       "      <td>0.048789</td>\n",
       "    </tr>\n",
       "    <tr>\n",
       "      <th>SRR306851</th>\n",
       "      <td>Female</td>\n",
       "      <td>8</td>\n",
       "      <td>Commercial / AMS biotechnology</td>\n",
       "      <td>0.046313</td>\n",
       "    </tr>\n",
       "    <tr>\n",
       "      <th>SRR306855</th>\n",
       "      <td>Male</td>\n",
       "      <td>7.5</td>\n",
       "      <td>Commercial / AMS biotechnology</td>\n",
       "      <td>0.040865</td>\n",
       "    </tr>\n",
       "    <tr>\n",
       "      <th>SRR306842</th>\n",
       "      <td>Male</td>\n",
       "      <td>7.8</td>\n",
       "      <td>Netherland Brain Bank, Netherlands</td>\n",
       "      <td>0.029242</td>\n",
       "    </tr>\n",
       "    <tr>\n",
       "      <th>SRR306857</th>\n",
       "      <td>Male</td>\n",
       "      <td>7.3</td>\n",
       "      <td>Commercial / AMS biotechnology</td>\n",
       "      <td>0.020060</td>\n",
       "    </tr>\n",
       "    <tr>\n",
       "      <th>SRR306853</th>\n",
       "      <td>Male</td>\n",
       "      <td>8.1</td>\n",
       "      <td>National Disease Research Interchange, USA (NDRI)</td>\n",
       "      <td>0.019380</td>\n",
       "    </tr>\n",
       "    <tr>\n",
       "      <th>SRR306843</th>\n",
       "      <td>Male</td>\n",
       "      <td>8.1</td>\n",
       "      <td>Commercial / AMS biotechnology</td>\n",
       "      <td>0.014138</td>\n",
       "    </tr>\n",
       "    <tr>\n",
       "      <th>SRR306852</th>\n",
       "      <td>Male</td>\n",
       "      <td>7.7</td>\n",
       "      <td>Commercial / AMS biotechnology</td>\n",
       "      <td>0.007484</td>\n",
       "    </tr>\n",
       "    <tr>\n",
       "      <th>SRR306839</th>\n",
       "      <td>Male</td>\n",
       "      <td>8.8</td>\n",
       "      <td>Commercial / Ambion</td>\n",
       "      <td>0.002115</td>\n",
       "    </tr>\n",
       "  </tbody>\n",
       "</table>\n",
       "</div>"
      ],
      "text/plain": [
       "                     gender  rin  \\\n",
       "project   run                      \n",
       "SRP007412 SRR306856    Male  8.6   \n",
       "          SRR306854    Male  7.5   \n",
       "          SRR306851  Female    8   \n",
       "          SRR306855    Male  7.5   \n",
       "          SRR306842    Male  7.8   \n",
       "          SRR306857    Male  7.3   \n",
       "          SRR306853    Male  8.1   \n",
       "          SRR306843    Male  8.1   \n",
       "          SRR306852    Male  7.7   \n",
       "          SRR306839    Male  8.8   \n",
       "\n",
       "                                                         tissue source  \\\n",
       "project   run                                                            \n",
       "SRP007412 SRR306856  National Disease Research Interchange, USA (NDRI)   \n",
       "          SRR306854                     Commercial / AMS biotechnology   \n",
       "          SRR306851                     Commercial / AMS biotechnology   \n",
       "          SRR306855                     Commercial / AMS biotechnology   \n",
       "          SRR306842                 Netherland Brain Bank, Netherlands   \n",
       "          SRR306857                     Commercial / AMS biotechnology   \n",
       "          SRR306853  National Disease Research Interchange, USA (NDRI)   \n",
       "          SRR306843                     Commercial / AMS biotechnology   \n",
       "          SRR306852                     Commercial / AMS biotechnology   \n",
       "          SRR306839                                Commercial / Ambion   \n",
       "\n",
       "                        LV246  \n",
       "project   run                  \n",
       "SRP007412 SRR306856  0.456490  \n",
       "          SRR306854  0.048789  \n",
       "          SRR306851  0.046313  \n",
       "          SRR306855  0.040865  \n",
       "          SRR306842  0.029242  \n",
       "          SRR306857  0.020060  \n",
       "          SRR306853  0.019380  \n",
       "          SRR306843  0.014138  \n",
       "          SRR306852  0.007484  \n",
       "          SRR306839  0.002115  "
      ]
     },
     "execution_count": 26,
     "metadata": {},
     "output_type": "execute_result"
    }
   ],
   "source": [
    "# what is there in these projects?\n",
    "lv_data.loc[[\"SRP007412\"]].dropna(how=\"all\", axis=1).sort_values(\n",
    "    LV_NAME, ascending=False\n",
    ").sort_values(LV_NAME, ascending=False).head(10)"
   ]
  },
  {
   "cell_type": "markdown",
   "id": "played-cocktail",
   "metadata": {},
   "source": [
    "**No cell types/tissues/cell lines** so not very interesting"
   ]
  },
  {
   "cell_type": "code",
   "execution_count": 27,
   "id": "stylish-network",
   "metadata": {},
   "outputs": [],
   "source": [
    "SELECTED_ATTRIBUTE = \"cell type\""
   ]
  },
  {
   "cell_type": "code",
   "execution_count": 28,
   "id": "turkish-valley",
   "metadata": {},
   "outputs": [],
   "source": [
    "# it has to be in the order desired for filling nans in the SELECTED_ATTRIBUTE\n",
    "SECOND_ATTRIBUTES = [\"tissue\", \"tissue type\"]"
   ]
  },
  {
   "cell_type": "markdown",
   "id": "victorian-bidding",
   "metadata": {},
   "source": [
    "## Get plot data"
   ]
  },
  {
   "cell_type": "code",
   "execution_count": 29,
   "id": "jewish-weekend",
   "metadata": {},
   "outputs": [],
   "source": [
    "plot_data = lv_data.loc[:, [SELECTED_ATTRIBUTE] + SECOND_ATTRIBUTES + [LV_NAME]]"
   ]
  },
  {
   "cell_type": "code",
   "execution_count": 30,
   "id": "genuine-hierarchy",
   "metadata": {},
   "outputs": [],
   "source": [
    "# if blank/nan, fill cell type column with tissue content\n",
    "_new_column = plot_data[[SELECTED_ATTRIBUTE] + SECOND_ATTRIBUTES].fillna(\n",
    "    method=\"backfill\", axis=1\n",
    ")[SELECTED_ATTRIBUTE]\n",
    "plot_data[SELECTED_ATTRIBUTE] = _new_column\n",
    "plot_data = plot_data.drop(columns=SECOND_ATTRIBUTES)\n",
    "plot_data = plot_data.fillna({SELECTED_ATTRIBUTE: \"NOT CATEGORIZED\"})\n",
    "# plot_data = plot_data.dropna(subset=[SELECTED_ATTRIBUTE])"
   ]
  },
  {
   "cell_type": "code",
   "execution_count": 31,
   "id": "light-smart",
   "metadata": {},
   "outputs": [],
   "source": [
    "plot_data = plot_data.sort_values(LV_NAME, ascending=False)"
   ]
  },
  {
   "cell_type": "code",
   "execution_count": 32,
   "id": "fitted-button",
   "metadata": {},
   "outputs": [
    {
     "data": {
      "text/html": [
       "<div>\n",
       "<style scoped>\n",
       "    .dataframe tbody tr th:only-of-type {\n",
       "        vertical-align: middle;\n",
       "    }\n",
       "\n",
       "    .dataframe tbody tr th {\n",
       "        vertical-align: top;\n",
       "    }\n",
       "\n",
       "    .dataframe thead th {\n",
       "        text-align: right;\n",
       "    }\n",
       "</style>\n",
       "<table border=\"1\" class=\"dataframe\">\n",
       "  <thead>\n",
       "    <tr style=\"text-align: right;\">\n",
       "      <th></th>\n",
       "      <th></th>\n",
       "      <th>cell type</th>\n",
       "      <th>LV246</th>\n",
       "    </tr>\n",
       "    <tr>\n",
       "      <th>project</th>\n",
       "      <th>run</th>\n",
       "      <th></th>\n",
       "      <th></th>\n",
       "    </tr>\n",
       "  </thead>\n",
       "  <tbody>\n",
       "    <tr>\n",
       "      <th rowspan=\"11\" valign=\"top\">SRP042186</th>\n",
       "      <th>SRR1296139</th>\n",
       "      <td>WAT</td>\n",
       "      <td>2.659203</td>\n",
       "    </tr>\n",
       "    <tr>\n",
       "      <th>SRR1296140</th>\n",
       "      <td>WAT</td>\n",
       "      <td>2.605699</td>\n",
       "    </tr>\n",
       "    <tr>\n",
       "      <th>SRR1296141</th>\n",
       "      <td>WAT</td>\n",
       "      <td>2.603598</td>\n",
       "    </tr>\n",
       "    <tr>\n",
       "      <th>SRR1296126</th>\n",
       "      <td>WAT</td>\n",
       "      <td>1.647018</td>\n",
       "    </tr>\n",
       "    <tr>\n",
       "      <th>SRR1296123</th>\n",
       "      <td>WAT</td>\n",
       "      <td>1.639061</td>\n",
       "    </tr>\n",
       "    <tr>\n",
       "      <th>SRR1296125</th>\n",
       "      <td>WAT</td>\n",
       "      <td>1.606647</td>\n",
       "    </tr>\n",
       "    <tr>\n",
       "      <th>SRR1296124</th>\n",
       "      <td>WAT</td>\n",
       "      <td>1.602166</td>\n",
       "    </tr>\n",
       "    <tr>\n",
       "      <th>SRR1296121</th>\n",
       "      <td>WAT</td>\n",
       "      <td>1.497263</td>\n",
       "    </tr>\n",
       "    <tr>\n",
       "      <th>SRR1296122</th>\n",
       "      <td>WAT</td>\n",
       "      <td>1.471362</td>\n",
       "    </tr>\n",
       "    <tr>\n",
       "      <th>SRR1296120</th>\n",
       "      <td>WAT</td>\n",
       "      <td>1.405104</td>\n",
       "    </tr>\n",
       "    <tr>\n",
       "      <th>SRR1296118</th>\n",
       "      <td>WAT</td>\n",
       "      <td>1.399640</td>\n",
       "    </tr>\n",
       "    <tr>\n",
       "      <th>SRP045545</th>\n",
       "      <th>SRR1552539</th>\n",
       "      <td>SGBS adipocyte D10</td>\n",
       "      <td>1.379509</td>\n",
       "    </tr>\n",
       "    <tr>\n",
       "      <th>SRP044756</th>\n",
       "      <th>SRR1523513</th>\n",
       "      <td>human adipose-derived stem cells</td>\n",
       "      <td>1.336270</td>\n",
       "    </tr>\n",
       "    <tr>\n",
       "      <th rowspan=\"4\" valign=\"top\">SRP045545</th>\n",
       "      <th>SRR1552542</th>\n",
       "      <td>SGBS adipocyte D10</td>\n",
       "      <td>1.334864</td>\n",
       "    </tr>\n",
       "    <tr>\n",
       "      <th>SRR1552543</th>\n",
       "      <td>SGBS adipocyte D10</td>\n",
       "      <td>1.268885</td>\n",
       "    </tr>\n",
       "    <tr>\n",
       "      <th>SRR1552540</th>\n",
       "      <td>SGBS adipocyte D10</td>\n",
       "      <td>1.250377</td>\n",
       "    </tr>\n",
       "    <tr>\n",
       "      <th>SRR1552544</th>\n",
       "      <td>SGBS adipocyte D10</td>\n",
       "      <td>1.225532</td>\n",
       "    </tr>\n",
       "    <tr>\n",
       "      <th>SRP044756</th>\n",
       "      <th>SRR1523512</th>\n",
       "      <td>human adipose-derived stem cells</td>\n",
       "      <td>1.202825</td>\n",
       "    </tr>\n",
       "    <tr>\n",
       "      <th>SRP042186</th>\n",
       "      <th>SRR1296138</th>\n",
       "      <td>WAT</td>\n",
       "      <td>1.190243</td>\n",
       "    </tr>\n",
       "    <tr>\n",
       "      <th>SRP044756</th>\n",
       "      <th>SRR1523511</th>\n",
       "      <td>human adipose-derived stem cells</td>\n",
       "      <td>1.179995</td>\n",
       "    </tr>\n",
       "  </tbody>\n",
       "</table>\n",
       "</div>"
      ],
      "text/plain": [
       "                                             cell type     LV246\n",
       "project   run                                                   \n",
       "SRP042186 SRR1296139                               WAT  2.659203\n",
       "          SRR1296140                               WAT  2.605699\n",
       "          SRR1296141                               WAT  2.603598\n",
       "          SRR1296126                               WAT  1.647018\n",
       "          SRR1296123                               WAT  1.639061\n",
       "          SRR1296125                               WAT  1.606647\n",
       "          SRR1296124                               WAT  1.602166\n",
       "          SRR1296121                               WAT  1.497263\n",
       "          SRR1296122                               WAT  1.471362\n",
       "          SRR1296120                               WAT  1.405104\n",
       "          SRR1296118                               WAT  1.399640\n",
       "SRP045545 SRR1552539                SGBS adipocyte D10  1.379509\n",
       "SRP044756 SRR1523513  human adipose-derived stem cells  1.336270\n",
       "SRP045545 SRR1552542                SGBS adipocyte D10  1.334864\n",
       "          SRR1552543                SGBS adipocyte D10  1.268885\n",
       "          SRR1552540                SGBS adipocyte D10  1.250377\n",
       "          SRR1552544                SGBS adipocyte D10  1.225532\n",
       "SRP044756 SRR1523512  human adipose-derived stem cells  1.202825\n",
       "SRP042186 SRR1296138                               WAT  1.190243\n",
       "SRP044756 SRR1523511  human adipose-derived stem cells  1.179995"
      ]
     },
     "execution_count": 32,
     "metadata": {},
     "output_type": "execute_result"
    }
   ],
   "source": [
    "plot_data.head(20)"
   ]
  },
  {
   "cell_type": "markdown",
   "id": "casual-prerequisite",
   "metadata": {},
   "source": [
    "## Customize x-axis values"
   ]
  },
  {
   "cell_type": "markdown",
   "id": "traditional-psychology",
   "metadata": {},
   "source": [
    "When cell type values are not very clear, customize their names by looking at their specific studies to know exactly what the authors meant."
   ]
  },
  {
   "cell_type": "code",
   "execution_count": 33,
   "id": "official-capacity",
   "metadata": {},
   "outputs": [],
   "source": [
    "final_plot_data = plot_data.replace(\n",
    "    {\n",
    "        SELECTED_ATTRIBUTE: {\n",
    "            \"normal skin\": \"Skin\",\n",
    "            \"liver\": \"Liver\",\n",
    "            \"Human Skeletal Muscle Myoblasts (HSMM)\": \"Skeletal muscle myoblasts\",\n",
    "            \"astrocytes\": \"Astrocytes\",\n",
    "            \"mixture of U87 human glioma cells and WI-38 human lung fibroblast cells\": \"Glioma cells + lung fibroblast cells\",\n",
    "            \"functional hepatocytes generated by lineage reprogramming\": \"Hepatocytes\",\n",
    "            \"human adipose-derived stem cells\": \"Adipose-derived stem cells\",\n",
    "            \"adipose\": \"Adipose\",\n",
    "            \"embryonic stem cells\": \"Embryonic stem cells\",\n",
    "            \"primary keratinocytes\": \"Primary keratinocytes\",\n",
    "            \"fetal liver\": \"Fetal liver\",\n",
    "            \"in vitro differentiated erythroid cells\": \"Erythroid cells\",\n",
    "            \"WAT\": \"White adipose tissue\",\n",
    "            \"BAT\": \"Brown adipose tissue\",\n",
    "            \"Uninvolved Breast Tissue Adjacent to ER+ Primary Tumor\": \"Breast tissue adjacent to ER+ tumor\",\n",
    "            \"ovarian granulosa cells\": \"Ovarian granulosa cells\",\n",
    "        }\n",
    "    }\n",
    ")"
   ]
  },
  {
   "cell_type": "code",
   "execution_count": 34,
   "id": "entire-cradle",
   "metadata": {},
   "outputs": [],
   "source": [
    "# take the top samples only\n",
    "final_plot_data = final_plot_data.sort_values(LV_NAME, ascending=False)[:N_TOP_SAMPLES]"
   ]
  },
  {
   "cell_type": "markdown",
   "id": "italic-steel",
   "metadata": {},
   "source": [
    "## Threshold LV values"
   ]
  },
  {
   "cell_type": "code",
   "execution_count": 35,
   "id": "southern-offense",
   "metadata": {},
   "outputs": [],
   "source": [
    "final_plot_data.loc[\n",
    "    final_plot_data[LV_NAME] > LV_AXIS_THRESHOLD, LV_NAME\n",
    "] = LV_AXIS_THRESHOLD"
   ]
  },
  {
   "cell_type": "markdown",
   "id": "still-pitch",
   "metadata": {},
   "source": [
    "## Delete samples with no tissue/cell type information"
   ]
  },
  {
   "cell_type": "code",
   "execution_count": 36,
   "id": "varying-pioneer",
   "metadata": {},
   "outputs": [],
   "source": [
    "final_plot_data = final_plot_data[\n",
    "    final_plot_data[SELECTED_ATTRIBUTE] != \"NOT CATEGORIZED\"\n",
    "]"
   ]
  },
  {
   "cell_type": "markdown",
   "id": "comparable-modem",
   "metadata": {},
   "source": [
    "## Set x-axis order"
   ]
  },
  {
   "cell_type": "code",
   "execution_count": 37,
   "id": "golden-bridge",
   "metadata": {},
   "outputs": [],
   "source": [
    "attr_order = (\n",
    "    final_plot_data.groupby(SELECTED_ATTRIBUTE)\n",
    "    .max()\n",
    "    .sort_values(LV_NAME, ascending=False)\n",
    "    .index[:N_TOP_ATTRS]\n",
    "    .tolist()\n",
    ")"
   ]
  },
  {
   "cell_type": "code",
   "execution_count": 38,
   "id": "expanded-enlargement",
   "metadata": {},
   "outputs": [
    {
     "data": {
      "text/plain": [
       "15"
      ]
     },
     "execution_count": 38,
     "metadata": {},
     "output_type": "execute_result"
    }
   ],
   "source": [
    "len(attr_order)"
   ]
  },
  {
   "cell_type": "code",
   "execution_count": 39,
   "id": "collectible-setup",
   "metadata": {},
   "outputs": [
    {
     "data": {
      "text/plain": [
       "['White adipose tissue',\n",
       " 'SGBS adipocyte D10',\n",
       " 'Adipose-derived stem cells',\n",
       " 'Brown adipose tissue',\n",
       " 'Breast tissue adjacent to ER+ tumor']"
      ]
     },
     "execution_count": 39,
     "metadata": {},
     "output_type": "execute_result"
    }
   ],
   "source": [
    "attr_order[:5]"
   ]
  },
  {
   "cell_type": "markdown",
   "id": "patent-colors",
   "metadata": {},
   "source": [
    "## Plot"
   ]
  },
  {
   "cell_type": "code",
   "execution_count": 40,
   "id": "educated-arthritis",
   "metadata": {},
   "outputs": [
    {
     "data": {
      "image/png": "[encoded data removed]",
      "text/plain": [
       "<Figure size 900x360 with 1 Axes>"
      ]
     },
     "metadata": {},
     "output_type": "display_data"
    }
   ],
   "source": [
    "with sns.plotting_context(\"paper\", font_scale=2.5), sns.axes_style(\"whitegrid\"):\n",
    "    g = sns.catplot(\n",
    "        data=final_plot_data,\n",
    "        y=LV_NAME,\n",
    "        x=SELECTED_ATTRIBUTE,\n",
    "        order=attr_order,\n",
    "        kind=\"strip\",\n",
    "        height=5,\n",
    "        aspect=2.5,\n",
    "    )\n",
    "    plt.xticks(rotation=45, horizontalalignment=\"right\")\n",
    "    plt.xlabel(\"\")\n",
    "\n",
    "    plt.savefig(\n",
    "        OUTPUT_CELL_TYPE_FILEPATH,\n",
    "        bbox_inches=\"tight\",\n",
    "        facecolor=\"white\",\n",
    "    )"
   ]
  },
  {
   "cell_type": "markdown",
   "id": "theoretical-raleigh",
   "metadata": {},
   "source": [
    "# Debug"
   ]
  },
  {
   "cell_type": "code",
   "execution_count": 41,
   "id": "suspended-tiffany",
   "metadata": {},
   "outputs": [],
   "source": [
    "# with pd.option_context(\n",
    "#     \"display.max_rows\", None, \"display.max_columns\", None, \"display.max_colwidth\", None\n",
    "# ):\n",
    "#     _tmp = final_plot_data[final_plot_data[SELECTED_ATTRIBUTE].str.contains(\"ovarian\")]\n",
    "#     display(_tmp.head(20))"
   ]
  },
  {
   "cell_type": "code",
   "execution_count": 42,
   "id": "functional-explorer",
   "metadata": {},
   "outputs": [],
   "source": [
    "# # what is there in these projects?\n",
    "# lv_data.loc[[\"SRP056041\"]].dropna(how=\"all\", axis=1).sort_values(\n",
    "#     LV_NAME, ascending=False\n",
    "# ).head(60)"
   ]
  },
  {
   "cell_type": "code",
   "execution_count": null,
   "id": "classified-overall",
   "metadata": {},
   "outputs": [],
   "source": []
  }
 ],
 "metadata": {
  "jupytext": {
   "cell_metadata_filter": "all,-execution,-papermill,-trusted",
   "formats": "ipynb,py//py:percent"
  },
  "kernelspec": {
   "display_name": "Python 3",
   "language": "python",
   "name": "python3"
  },
  "language_info": {
   "codemirror_mode": {
    "name": "ipython",
    "version": 3
   },
   "file_extension": ".py",
   "mimetype": "text/x-python",
   "name": "python",
   "nbconvert_exporter": "python",
   "pygments_lexer": "ipython3",
   "version": "3.8.8"
  }
 },
 "nbformat": 4,
 "nbformat_minor": 5
}
