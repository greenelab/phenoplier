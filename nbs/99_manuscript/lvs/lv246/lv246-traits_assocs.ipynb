{
 "cells": [
  {
   "cell_type": "markdown",
   "id": "boolean-thanksgiving",
   "metadata": {
    "papermill": {
     "duration": 0.006593,
     "end_time": "2021-05-11T19:09:55.733221",
     "exception": false,
     "start_time": "2021-05-11T19:09:55.726628",
     "status": "completed"
    },
    "tags": []
   },
   "source": [
    "# Description"
   ]
  },
  {
   "cell_type": "markdown",
   "id": "superb-concert",
   "metadata": {
    "papermill": {
     "duration": 0.00668,
     "end_time": "2021-05-11T19:09:55.745410",
     "exception": false,
     "start_time": "2021-05-11T19:09:55.738730",
     "status": "completed"
    },
    "tags": []
   },
   "source": [
    "Generates manubot tables for PhenomeXcan and eMERGE associations given an LV name (which is the only parameter that needs to be specified in the Settings section below)."
   ]
  },
  {
   "cell_type": "markdown",
   "id": "brave-artwork",
   "metadata": {
    "papermill": {
     "duration": 0.006223,
     "end_time": "2021-05-11T19:09:55.756959",
     "exception": false,
     "start_time": "2021-05-11T19:09:55.750736",
     "status": "completed"
    },
    "tags": []
   },
   "source": [
    "# Modules loading"
   ]
  },
  {
   "cell_type": "code",
   "execution_count": 1,
   "id": "combined-crash",
   "metadata": {
    "papermill": {
     "duration": 0.01906,
     "end_time": "2021-05-11T19:09:55.781515",
     "exception": false,
     "start_time": "2021-05-11T19:09:55.762455",
     "status": "completed"
    },
    "tags": []
   },
   "outputs": [],
   "source": [
    "%load_ext autoreload\n",
    "%autoreload 2"
   ]
  },
  {
   "cell_type": "code",
   "execution_count": 2,
   "id": "pretty-symphony",
   "metadata": {
    "papermill": {
     "duration": 0.993432,
     "end_time": "2021-05-11T19:09:56.780403",
     "exception": false,
     "start_time": "2021-05-11T19:09:55.786971",
     "status": "completed"
    },
    "tags": []
   },
   "outputs": [],
   "source": [
    "import re\n",
    "from pathlib import Path\n",
    "\n",
    "import pandas as pd\n",
    "\n",
    "from entity import Trait\n",
    "import conf"
   ]
  },
  {
   "cell_type": "markdown",
   "id": "stopped-thompson",
   "metadata": {
    "papermill": {
     "duration": 0.005973,
     "end_time": "2021-05-11T19:09:56.792495",
     "exception": false,
     "start_time": "2021-05-11T19:09:56.786522",
     "status": "completed"
    },
    "tags": []
   },
   "source": [
    "# Settings"
   ]
  },
  {
   "cell_type": "code",
   "execution_count": 3,
   "id": "minus-testimony",
   "metadata": {
    "papermill": {
     "duration": 0.019548,
     "end_time": "2021-05-11T19:09:56.817689",
     "exception": false,
     "start_time": "2021-05-11T19:09:56.798141",
     "status": "completed"
    },
    "tags": [
     "parameters"
    ]
   },
   "outputs": [],
   "source": [
    "LV_NAME = \"LV246\""
   ]
  },
  {
   "cell_type": "code",
   "execution_count": 4,
   "id": "collect-behavior",
   "metadata": {},
   "outputs": [
    {
     "data": {
      "text/plain": [
       "PosixPath('/opt/manuscript/content/50.00.supplementary_material.md')"
      ]
     },
     "metadata": {},
     "output_type": "display_data"
    }
   ],
   "source": [
    "assert (\n",
    "    conf.MANUSCRIPT[\"BASE_DIR\"] is not None\n",
    "), \"The manuscript directory was not configured\"\n",
    "\n",
    "OUTPUT_FILE_PATH = conf.MANUSCRIPT[\"CONTENT_DIR\"] / \"50.00.supplementary_material.md\"\n",
    "display(OUTPUT_FILE_PATH)\n",
    "assert OUTPUT_FILE_PATH.exists()"
   ]
  },
  {
   "cell_type": "code",
   "execution_count": 5,
   "id": "enormous-pharmaceutical",
   "metadata": {},
   "outputs": [],
   "source": [
    "# result_set is either phenomexcan or emerge\n",
    "LV_FILE_MARK_TEMPLATE = \"<!-- {lv}:{result_set}_traits_assocs:{position} -->\""
   ]
  },
  {
   "cell_type": "code",
   "execution_count": 6,
   "id": "ideal-guide",
   "metadata": {},
   "outputs": [],
   "source": [
    "TABLE_CAPTION = \"Table: Significant trait associations of {lv_name} in {result_set_name}. {table_id}\""
   ]
  },
  {
   "cell_type": "code",
   "execution_count": 7,
   "id": "adaptive-stephen",
   "metadata": {},
   "outputs": [],
   "source": [
    "TABLE_CAPTION_ID = \"#tbl:sup:{result_set}_assocs:{lv_name_lower_case}\""
   ]
  },
  {
   "cell_type": "code",
   "execution_count": 8,
   "id": "published-penny",
   "metadata": {},
   "outputs": [],
   "source": [
    "RESULT_SET_NAMES = {\n",
    "    \"phenomexcan\": \"PhenomeXcan\",\n",
    "    \"emerge\": \"eMERGE\",\n",
    "}"
   ]
  },
  {
   "cell_type": "markdown",
   "id": "tight-passion",
   "metadata": {
    "papermill": {
     "duration": 0.006007,
     "end_time": "2021-05-11T19:09:56.949763",
     "exception": false,
     "start_time": "2021-05-11T19:09:56.943756",
     "status": "completed"
    },
    "tags": []
   },
   "source": [
    "# Load data"
   ]
  },
  {
   "cell_type": "markdown",
   "id": "fitting-dallas",
   "metadata": {},
   "source": [
    "## PhenomeXcan LV-trait associations"
   ]
  },
  {
   "cell_type": "code",
   "execution_count": 9,
   "id": "handed-beverage",
   "metadata": {},
   "outputs": [
    {
     "data": {
      "text/plain": [
       "PosixPath('/opt/data/results/gls/gls-summary-phenomexcan.pkl.gz')"
      ]
     },
     "metadata": {},
     "output_type": "display_data"
    }
   ],
   "source": [
    "input_filepath = Path(conf.RESULTS[\"GLS\"] / \"gls-summary-phenomexcan.pkl.gz\")\n",
    "display(input_filepath)"
   ]
  },
  {
   "cell_type": "code",
   "execution_count": 10,
   "id": "romantic-syndicate",
   "metadata": {},
   "outputs": [],
   "source": [
    "phenomexcan_lv_trait_assocs = pd.read_pickle(input_filepath)"
   ]
  },
  {
   "cell_type": "code",
   "execution_count": 11,
   "id": "alien-tribe",
   "metadata": {},
   "outputs": [
    {
     "data": {
      "text/plain": [
       "(4037817, 5)"
      ]
     },
     "execution_count": 11,
     "metadata": {},
     "output_type": "execute_result"
    }
   ],
   "source": [
    "phenomexcan_lv_trait_assocs.shape"
   ]
  },
  {
   "cell_type": "code",
   "execution_count": 12,
   "id": "artificial-distance",
   "metadata": {},
   "outputs": [
    {
     "data": {
      "text/html": [
       "<div>\n",
       "<style scoped>\n",
       "    .dataframe tbody tr th:only-of-type {\n",
       "        vertical-align: middle;\n",
       "    }\n",
       "\n",
       "    .dataframe tbody tr th {\n",
       "        vertical-align: top;\n",
       "    }\n",
       "\n",
       "    .dataframe thead th {\n",
       "        text-align: right;\n",
       "    }\n",
       "</style>\n",
       "<table border=\"1\" class=\"dataframe\">\n",
       "  <thead>\n",
       "    <tr style=\"text-align: right;\">\n",
       "      <th></th>\n",
       "      <th>phenotype</th>\n",
       "      <th>phenotype_desc</th>\n",
       "      <th>lv</th>\n",
       "      <th>pvalue</th>\n",
       "      <th>fdr</th>\n",
       "    </tr>\n",
       "  </thead>\n",
       "  <tbody>\n",
       "    <tr>\n",
       "      <th>0</th>\n",
       "      <td>AB1_OTHER_VIRAL</td>\n",
       "      <td>Other viral diseases</td>\n",
       "      <td>LV736</td>\n",
       "      <td>0.004725</td>\n",
       "      <td>0.504339</td>\n",
       "    </tr>\n",
       "    <tr>\n",
       "      <th>1</th>\n",
       "      <td>AB1_OTHER_VIRAL</td>\n",
       "      <td>Other viral diseases</td>\n",
       "      <td>LV320</td>\n",
       "      <td>0.004848</td>\n",
       "      <td>0.508291</td>\n",
       "    </tr>\n",
       "    <tr>\n",
       "      <th>2</th>\n",
       "      <td>AB1_OTHER_VIRAL</td>\n",
       "      <td>Other viral diseases</td>\n",
       "      <td>LV366</td>\n",
       "      <td>0.005306</td>\n",
       "      <td>0.523691</td>\n",
       "    </tr>\n",
       "    <tr>\n",
       "      <th>3</th>\n",
       "      <td>AB1_OTHER_VIRAL</td>\n",
       "      <td>Other viral diseases</td>\n",
       "      <td>LV964</td>\n",
       "      <td>0.006106</td>\n",
       "      <td>0.548143</td>\n",
       "    </tr>\n",
       "    <tr>\n",
       "      <th>4</th>\n",
       "      <td>AB1_OTHER_VIRAL</td>\n",
       "      <td>Other viral diseases</td>\n",
       "      <td>LV92</td>\n",
       "      <td>0.006565</td>\n",
       "      <td>0.560048</td>\n",
       "    </tr>\n",
       "  </tbody>\n",
       "</table>\n",
       "</div>"
      ],
      "text/plain": [
       "         phenotype        phenotype_desc     lv    pvalue       fdr\n",
       "0  AB1_OTHER_VIRAL  Other viral diseases  LV736  0.004725  0.504339\n",
       "1  AB1_OTHER_VIRAL  Other viral diseases  LV320  0.004848  0.508291\n",
       "2  AB1_OTHER_VIRAL  Other viral diseases  LV366  0.005306  0.523691\n",
       "3  AB1_OTHER_VIRAL  Other viral diseases  LV964  0.006106  0.548143\n",
       "4  AB1_OTHER_VIRAL  Other viral diseases   LV92  0.006565  0.560048"
      ]
     },
     "execution_count": 12,
     "metadata": {},
     "output_type": "execute_result"
    }
   ],
   "source": [
    "phenomexcan_lv_trait_assocs.head()"
   ]
  },
  {
   "cell_type": "markdown",
   "id": "vocal-worker",
   "metadata": {},
   "source": [
    "## eMERGE LV-trait associations"
   ]
  },
  {
   "cell_type": "code",
   "execution_count": 13,
   "id": "insured-classics",
   "metadata": {},
   "outputs": [
    {
     "data": {
      "text/plain": [
       "PosixPath('/opt/data/results/gls/gls-summary-emerge.pkl.gz')"
      ]
     },
     "metadata": {},
     "output_type": "display_data"
    }
   ],
   "source": [
    "input_filepath = Path(conf.RESULTS[\"GLS\"] / \"gls-summary-emerge.pkl.gz\")\n",
    "display(input_filepath)"
   ]
  },
  {
   "cell_type": "code",
   "execution_count": 14,
   "id": "trained-blackberry",
   "metadata": {},
   "outputs": [],
   "source": [
    "emerge_lv_trait_assocs = pd.read_pickle(input_filepath)"
   ]
  },
  {
   "cell_type": "code",
   "execution_count": 15,
   "id": "divine-genius",
   "metadata": {},
   "outputs": [
    {
     "data": {
      "text/plain": [
       "(304983, 5)"
      ]
     },
     "execution_count": 15,
     "metadata": {},
     "output_type": "execute_result"
    }
   ],
   "source": [
    "emerge_lv_trait_assocs.shape"
   ]
  },
  {
   "cell_type": "code",
   "execution_count": 16,
   "id": "forced-study",
   "metadata": {},
   "outputs": [
    {
     "data": {
      "text/html": [
       "<div>\n",
       "<style scoped>\n",
       "    .dataframe tbody tr th:only-of-type {\n",
       "        vertical-align: middle;\n",
       "    }\n",
       "\n",
       "    .dataframe tbody tr th {\n",
       "        vertical-align: top;\n",
       "    }\n",
       "\n",
       "    .dataframe thead th {\n",
       "        text-align: right;\n",
       "    }\n",
       "</style>\n",
       "<table border=\"1\" class=\"dataframe\">\n",
       "  <thead>\n",
       "    <tr style=\"text-align: right;\">\n",
       "      <th></th>\n",
       "      <th>phenotype</th>\n",
       "      <th>phenotype_desc</th>\n",
       "      <th>lv</th>\n",
       "      <th>pvalue</th>\n",
       "      <th>fdr</th>\n",
       "    </tr>\n",
       "  </thead>\n",
       "  <tbody>\n",
       "    <tr>\n",
       "      <th>0</th>\n",
       "      <td>EUR_440.2</td>\n",
       "      <td>Atherosclerosis of the extremities</td>\n",
       "      <td>LV472</td>\n",
       "      <td>1.033637e-07</td>\n",
       "      <td>0.000658</td>\n",
       "    </tr>\n",
       "    <tr>\n",
       "      <th>1</th>\n",
       "      <td>EUR_440.2</td>\n",
       "      <td>Atherosclerosis of the extremities</td>\n",
       "      <td>LV182</td>\n",
       "      <td>3.710244e-07</td>\n",
       "      <td>0.001432</td>\n",
       "    </tr>\n",
       "    <tr>\n",
       "      <th>2</th>\n",
       "      <td>EUR_440.2</td>\n",
       "      <td>Atherosclerosis of the extremities</td>\n",
       "      <td>LV348</td>\n",
       "      <td>7.379936e-07</td>\n",
       "      <td>0.002558</td>\n",
       "    </tr>\n",
       "    <tr>\n",
       "      <th>3</th>\n",
       "      <td>EUR_440.2</td>\n",
       "      <td>Atherosclerosis of the extremities</td>\n",
       "      <td>LV504</td>\n",
       "      <td>1.534424e-06</td>\n",
       "      <td>0.004500</td>\n",
       "    </tr>\n",
       "    <tr>\n",
       "      <th>4</th>\n",
       "      <td>EUR_440.2</td>\n",
       "      <td>Atherosclerosis of the extremities</td>\n",
       "      <td>LV445</td>\n",
       "      <td>2.912525e-06</td>\n",
       "      <td>0.007402</td>\n",
       "    </tr>\n",
       "  </tbody>\n",
       "</table>\n",
       "</div>"
      ],
      "text/plain": [
       "   phenotype                      phenotype_desc     lv        pvalue  \\\n",
       "0  EUR_440.2  Atherosclerosis of the extremities  LV472  1.033637e-07   \n",
       "1  EUR_440.2  Atherosclerosis of the extremities  LV182  3.710244e-07   \n",
       "2  EUR_440.2  Atherosclerosis of the extremities  LV348  7.379936e-07   \n",
       "3  EUR_440.2  Atherosclerosis of the extremities  LV504  1.534424e-06   \n",
       "4  EUR_440.2  Atherosclerosis of the extremities  LV445  2.912525e-06   \n",
       "\n",
       "        fdr  \n",
       "0  0.000658  \n",
       "1  0.001432  \n",
       "2  0.002558  \n",
       "3  0.004500  \n",
       "4  0.007402  "
      ]
     },
     "execution_count": 16,
     "metadata": {},
     "output_type": "execute_result"
    }
   ],
   "source": [
    "emerge_lv_trait_assocs.head()"
   ]
  },
  {
   "cell_type": "markdown",
   "id": "selected-anime",
   "metadata": {},
   "source": [
    "## eMERGE traits info"
   ]
  },
  {
   "cell_type": "code",
   "execution_count": 17,
   "id": "optimum-street",
   "metadata": {},
   "outputs": [
    {
     "data": {
      "text/plain": [
       "PosixPath('/opt/data/data/emerge/eMERGE_III_PMBB_GSA_v2_2020_phecode_AFR_EUR_cc50_counts_w_dictionary.txt')"
      ]
     },
     "metadata": {},
     "output_type": "display_data"
    }
   ],
   "source": [
    "input_filepath = conf.EMERGE[\"DESC_FILE_WITH_SAMPLE_SIZE\"]\n",
    "display(input_filepath)"
   ]
  },
  {
   "cell_type": "code",
   "execution_count": 18,
   "id": "banned-pepper",
   "metadata": {},
   "outputs": [],
   "source": [
    "emerge_traits_info = pd.read_csv(\n",
    "    input_filepath,\n",
    "    sep=\"\\t\",\n",
    "    dtype={\"phecode\": str},\n",
    "    usecols=[\n",
    "        \"phecode\",\n",
    "        \"phenotype\",\n",
    "        \"category\",\n",
    "        \"eMERGE_III_EUR_case\",\n",
    "        \"eMERGE_III_EUR_control\",\n",
    "    ],\n",
    ")"
   ]
  },
  {
   "cell_type": "code",
   "execution_count": 19,
   "id": "8a35e7c6-655d-4508-9367-ade3943ff6f4",
   "metadata": {},
   "outputs": [],
   "source": [
    "emerge_traits_info[\"phecode\"] = emerge_traits_info[\"phecode\"].apply(\n",
    "    lambda x: f\"EUR_{x}\"\n",
    ")"
   ]
  },
  {
   "cell_type": "code",
   "execution_count": 20,
   "id": "later-ukraine",
   "metadata": {},
   "outputs": [],
   "source": [
    "emerge_traits_info = emerge_traits_info.set_index(\"phecode\").sort_index()"
   ]
  },
  {
   "cell_type": "code",
   "execution_count": 21,
   "id": "pregnant-reserve",
   "metadata": {},
   "outputs": [],
   "source": [
    "emerge_traits_info = emerge_traits_info.rename(\n",
    "    columns={\n",
    "        \"eMERGE_III_EUR_case\": \"eur_n_cases\",\n",
    "        \"eMERGE_III_EUR_control\": \"eur_n_controls\",\n",
    "    }\n",
    ")"
   ]
  },
  {
   "cell_type": "code",
   "execution_count": 22,
   "id": "incorporate-september",
   "metadata": {},
   "outputs": [
    {
     "data": {
      "text/plain": [
       "(309, 4)"
      ]
     },
     "execution_count": 22,
     "metadata": {},
     "output_type": "execute_result"
    }
   ],
   "source": [
    "emerge_traits_info.shape"
   ]
  },
  {
   "cell_type": "code",
   "execution_count": 23,
   "id": "average-manner",
   "metadata": {},
   "outputs": [
    {
     "data": {
      "text/html": [
       "<div>\n",
       "<style scoped>\n",
       "    .dataframe tbody tr th:only-of-type {\n",
       "        vertical-align: middle;\n",
       "    }\n",
       "\n",
       "    .dataframe tbody tr th {\n",
       "        vertical-align: top;\n",
       "    }\n",
       "\n",
       "    .dataframe thead th {\n",
       "        text-align: right;\n",
       "    }\n",
       "</style>\n",
       "<table border=\"1\" class=\"dataframe\">\n",
       "  <thead>\n",
       "    <tr style=\"text-align: right;\">\n",
       "      <th></th>\n",
       "      <th>eur_n_cases</th>\n",
       "      <th>eur_n_controls</th>\n",
       "      <th>phenotype</th>\n",
       "      <th>category</th>\n",
       "    </tr>\n",
       "    <tr>\n",
       "      <th>phecode</th>\n",
       "      <th></th>\n",
       "      <th></th>\n",
       "      <th></th>\n",
       "      <th></th>\n",
       "    </tr>\n",
       "  </thead>\n",
       "  <tbody>\n",
       "    <tr>\n",
       "      <th>EUR_008</th>\n",
       "      <td>1639</td>\n",
       "      <td>57495</td>\n",
       "      <td>Intestinal infection</td>\n",
       "      <td>infectious diseases</td>\n",
       "    </tr>\n",
       "    <tr>\n",
       "      <th>EUR_008.5</th>\n",
       "      <td>1024</td>\n",
       "      <td>57495</td>\n",
       "      <td>Bacterial enteritis</td>\n",
       "      <td>infectious diseases</td>\n",
       "    </tr>\n",
       "    <tr>\n",
       "      <th>EUR_008.52</th>\n",
       "      <td>893</td>\n",
       "      <td>57495</td>\n",
       "      <td>Intestinal infection due to C. difficile</td>\n",
       "      <td>infectious diseases</td>\n",
       "    </tr>\n",
       "    <tr>\n",
       "      <th>EUR_038</th>\n",
       "      <td>3172</td>\n",
       "      <td>50610</td>\n",
       "      <td>Septicemia</td>\n",
       "      <td>infectious diseases</td>\n",
       "    </tr>\n",
       "    <tr>\n",
       "      <th>EUR_038.3</th>\n",
       "      <td>1361</td>\n",
       "      <td>50610</td>\n",
       "      <td>Bacteremia</td>\n",
       "      <td>infectious diseases</td>\n",
       "    </tr>\n",
       "  </tbody>\n",
       "</table>\n",
       "</div>"
      ],
      "text/plain": [
       "            eur_n_cases  eur_n_controls  \\\n",
       "phecode                                   \n",
       "EUR_008            1639           57495   \n",
       "EUR_008.5          1024           57495   \n",
       "EUR_008.52          893           57495   \n",
       "EUR_038            3172           50610   \n",
       "EUR_038.3          1361           50610   \n",
       "\n",
       "                                           phenotype             category  \n",
       "phecode                                                                    \n",
       "EUR_008                         Intestinal infection  infectious diseases  \n",
       "EUR_008.5                        Bacterial enteritis  infectious diseases  \n",
       "EUR_008.52  Intestinal infection due to C. difficile  infectious diseases  \n",
       "EUR_038                                   Septicemia  infectious diseases  \n",
       "EUR_038.3                                 Bacteremia  infectious diseases  "
      ]
     },
     "execution_count": 23,
     "metadata": {},
     "output_type": "execute_result"
    }
   ],
   "source": [
    "emerge_traits_info.head()"
   ]
  },
  {
   "cell_type": "code",
   "execution_count": 24,
   "id": "romantic-agreement",
   "metadata": {},
   "outputs": [],
   "source": [
    "assert emerge_traits_info.index.is_unique"
   ]
  },
  {
   "cell_type": "markdown",
   "id": "timely-actor",
   "metadata": {
    "lines_to_next_cell": 2
   },
   "source": [
    "# Trait associations"
   ]
  },
  {
   "cell_type": "markdown",
   "id": "developmental-kingston",
   "metadata": {},
   "source": [
    "## PhenomeXcan"
   ]
  },
  {
   "cell_type": "code",
   "execution_count": 25,
   "id": "modern-norman",
   "metadata": {},
   "outputs": [],
   "source": [
    "from traits import SHORT_TRAIT_NAMES"
   ]
  },
  {
   "cell_type": "code",
   "execution_count": 26,
   "id": "second-recognition",
   "metadata": {
    "lines_to_next_cell": 1
   },
   "outputs": [],
   "source": [
    "result_set = \"phenomexcan\""
   ]
  },
  {
   "cell_type": "code",
   "execution_count": 27,
   "id": "boring-teaching",
   "metadata": {},
   "outputs": [],
   "source": [
    "def get_trait_objs(phenotype_full_code):\n",
    "    if Trait.is_efo_label(phenotype_full_code):\n",
    "        traits = Trait.get_traits_from_efo(phenotype_full_code)\n",
    "    else:\n",
    "        traits = [Trait.get_trait(code=phenotype_full_code)]\n",
    "\n",
    "    # sort by sample size\n",
    "    return sorted(traits, key=lambda x: x.n_cases / x.n, reverse=True)\n",
    "\n",
    "\n",
    "def get_trait_description(phenotype_full_code):\n",
    "    traits = get_trait_objs(phenotype_full_code)\n",
    "\n",
    "    desc = traits[0].description\n",
    "    if desc in SHORT_TRAIT_NAMES:\n",
    "        return SHORT_TRAIT_NAMES[desc]\n",
    "\n",
    "    return desc\n",
    "\n",
    "\n",
    "def get_trait_n(phenotype_full_code):\n",
    "    traits = get_trait_objs(phenotype_full_code)\n",
    "\n",
    "    return traits[0].n\n",
    "\n",
    "\n",
    "def get_trait_n_cases(phenotype_full_code):\n",
    "    traits = get_trait_objs(phenotype_full_code)\n",
    "\n",
    "    return traits[0].n_cases\n",
    "\n",
    "\n",
    "def num_to_int_str(num):\n",
    "    if pd.isnull(num):\n",
    "        return \"\"\n",
    "\n",
    "    return f\"{num:,.0f}\"\n",
    "\n",
    "\n",
    "def get_part_clust(row):\n",
    "    return f\"{row.part_k} / {row.cluster_id}\""
   ]
  },
  {
   "cell_type": "code",
   "execution_count": 28,
   "id": "boring-tension",
   "metadata": {},
   "outputs": [],
   "source": [
    "lv_assocs = phenomexcan_lv_trait_assocs[\n",
    "    (phenomexcan_lv_trait_assocs[\"lv\"] == LV_NAME)\n",
    "    & (phenomexcan_lv_trait_assocs[\"fdr\"] < 0.05)\n",
    "].sort_values(\"fdr\")"
   ]
  },
  {
   "cell_type": "code",
   "execution_count": 29,
   "id": "automated-account",
   "metadata": {},
   "outputs": [
    {
     "data": {
      "text/html": [
       "<div>\n",
       "<style scoped>\n",
       "    .dataframe tbody tr th:only-of-type {\n",
       "        vertical-align: middle;\n",
       "    }\n",
       "\n",
       "    .dataframe tbody tr th {\n",
       "        vertical-align: top;\n",
       "    }\n",
       "\n",
       "    .dataframe thead th {\n",
       "        text-align: right;\n",
       "    }\n",
       "</style>\n",
       "<table border=\"1\" class=\"dataframe\">\n",
       "  <thead>\n",
       "    <tr style=\"text-align: right;\">\n",
       "      <th></th>\n",
       "      <th>phenotype</th>\n",
       "      <th>phenotype_desc</th>\n",
       "      <th>lv</th>\n",
       "      <th>pvalue</th>\n",
       "      <th>fdr</th>\n",
       "    </tr>\n",
       "  </thead>\n",
       "  <tbody>\n",
       "    <tr>\n",
       "      <th>4036830</th>\n",
       "      <td>MAGNETIC_IDL.TG</td>\n",
       "      <td>Triglycerides NMR</td>\n",
       "      <td>LV246</td>\n",
       "      <td>2.460305e-32</td>\n",
       "      <td>1.655710e-26</td>\n",
       "    </tr>\n",
       "    <tr>\n",
       "      <th>4024986</th>\n",
       "      <td>MAGNETIC_LDL.C</td>\n",
       "      <td>LDL Cholesterol NMR</td>\n",
       "      <td>LV246</td>\n",
       "      <td>9.696207e-32</td>\n",
       "      <td>3.915151e-26</td>\n",
       "    </tr>\n",
       "    <tr>\n",
       "      <th>1177491</th>\n",
       "      <td>20002_1473</td>\n",
       "      <td>Non-cancer illness code, self-reported: high cholesterol</td>\n",
       "      <td>LV246</td>\n",
       "      <td>2.952274e-30</td>\n",
       "      <td>1.083704e-24</td>\n",
       "    </tr>\n",
       "    <tr>\n",
       "      <th>455007</th>\n",
       "      <td>6153_1</td>\n",
       "      <td>Medication for cholesterol, blood pressure, diabetes, or take exogenous hormones: Cholesterol lowering medication</td>\n",
       "      <td>LV246</td>\n",
       "      <td>1.483317e-29</td>\n",
       "      <td>4.278117e-24</td>\n",
       "    </tr>\n",
       "    <tr>\n",
       "      <th>378021</th>\n",
       "      <td>20003_1140861958</td>\n",
       "      <td>Treatment/medication code: simvastatin (20003_1140861958)</td>\n",
       "      <td>LV246</td>\n",
       "      <td>1.711568e-24</td>\n",
       "      <td>2.559629e-19</td>\n",
       "    </tr>\n",
       "    <tr>\n",
       "      <th>4018077</th>\n",
       "      <td>MAGNETIC_CH2.DB.ratio</td>\n",
       "      <td>CH2DB NMR</td>\n",
       "      <td>LV246</td>\n",
       "      <td>1.478299e-20</td>\n",
       "      <td>1.047211e-15</td>\n",
       "    </tr>\n",
       "    <tr>\n",
       "      <th>1303827</th>\n",
       "      <td>6177_1</td>\n",
       "      <td>Medication for cholesterol, blood pressure or diabetes: Cholesterol lowering medication</td>\n",
       "      <td>LV246</td>\n",
       "      <td>1.518204e-19</td>\n",
       "      <td>9.578481e-15</td>\n",
       "    </tr>\n",
       "    <tr>\n",
       "      <th>3591693</th>\n",
       "      <td>20003_1141146234</td>\n",
       "      <td>Treatment/medication code: atorvastatin (20003_1141146234)</td>\n",
       "      <td>LV246</td>\n",
       "      <td>4.661357e-19</td>\n",
       "      <td>2.543474e-14</td>\n",
       "    </tr>\n",
       "    <tr>\n",
       "      <th>3931227</th>\n",
       "      <td>20110_10</td>\n",
       "      <td>Illnesses of mother: Alzheimer's disease/dementia</td>\n",
       "      <td>LV246</td>\n",
       "      <td>2.414698e-12</td>\n",
       "      <td>2.764086e-08</td>\n",
       "    </tr>\n",
       "    <tr>\n",
       "      <th>2109224</th>\n",
       "      <td>20107_10</td>\n",
       "      <td>Illnesses of father: Alzheimer's disease/dementia</td>\n",
       "      <td>LV246</td>\n",
       "      <td>2.416461e-12</td>\n",
       "      <td>2.764086e-08</td>\n",
       "    </tr>\n",
       "    <tr>\n",
       "      <th>4025983</th>\n",
       "      <td>IGAP_Alzheimer</td>\n",
       "      <td>Alzheimers Disease</td>\n",
       "      <td>LV246</td>\n",
       "      <td>1.117565e-11</td>\n",
       "      <td>1.097937e-07</td>\n",
       "    </tr>\n",
       "    <tr>\n",
       "      <th>272412</th>\n",
       "      <td>2654_2</td>\n",
       "      <td>Non-butter spread type details: Flora Pro-Active or Benecol</td>\n",
       "      <td>LV246</td>\n",
       "      <td>6.640570e-11</td>\n",
       "      <td>5.633069e-07</td>\n",
       "    </tr>\n",
       "    <tr>\n",
       "      <th>2629370</th>\n",
       "      <td>20111_10</td>\n",
       "      <td>Illnesses of siblings: Alzheimer's disease/dementia</td>\n",
       "      <td>LV246</td>\n",
       "      <td>7.282529e-11</td>\n",
       "      <td>6.164679e-07</td>\n",
       "    </tr>\n",
       "    <tr>\n",
       "      <th>3107080</th>\n",
       "      <td>KRA_PSY_DEMENTIA</td>\n",
       "      <td>Any dementia</td>\n",
       "      <td>LV246</td>\n",
       "      <td>5.246540e-09</td>\n",
       "      <td>2.862779e-05</td>\n",
       "    </tr>\n",
       "    <tr>\n",
       "      <th>746172</th>\n",
       "      <td>20107_100</td>\n",
       "      <td>Illnesses of father: None of the above (group 1)</td>\n",
       "      <td>LV246</td>\n",
       "      <td>6.762308e-09</td>\n",
       "      <td>3.559969e-05</td>\n",
       "    </tr>\n",
       "    <tr>\n",
       "      <th>2876118</th>\n",
       "      <td>6153_100</td>\n",
       "      <td>Medication for cholesterol, blood pressure, diabetes, or take exogenous hormones: None of the above</td>\n",
       "      <td>LV246</td>\n",
       "      <td>2.416435e-08</td>\n",
       "      <td>1.100014e-04</td>\n",
       "    </tr>\n",
       "    <tr>\n",
       "      <th>3219594</th>\n",
       "      <td>20003_1141146138</td>\n",
       "      <td>Treatment/medication code: lipitor 10mg tablet (20003_1141146138)</td>\n",
       "      <td>LV246</td>\n",
       "      <td>3.554286e-08</td>\n",
       "      <td>1.553199e-04</td>\n",
       "    </tr>\n",
       "    <tr>\n",
       "      <th>93765</th>\n",
       "      <td>20003_1141192410</td>\n",
       "      <td>Treatment/medication code: rosuvastatin (20003_1141192410)</td>\n",
       "      <td>LV246</td>\n",
       "      <td>4.653312e-07</td>\n",
       "      <td>1.366489e-03</td>\n",
       "    </tr>\n",
       "    <tr>\n",
       "      <th>3675592</th>\n",
       "      <td>20107_1</td>\n",
       "      <td>Illnesses of father: Heart disease</td>\n",
       "      <td>LV246</td>\n",
       "      <td>6.851023e-07</td>\n",
       "      <td>1.888272e-03</td>\n",
       "    </tr>\n",
       "    <tr>\n",
       "      <th>2546465</th>\n",
       "      <td>F5_DEMENTIA</td>\n",
       "      <td>Dementia</td>\n",
       "      <td>LV246</td>\n",
       "      <td>5.200108e-06</td>\n",
       "      <td>9.578962e-03</td>\n",
       "    </tr>\n",
       "    <tr>\n",
       "      <th>1962160</th>\n",
       "      <td>1835</td>\n",
       "      <td>Mother still alive</td>\n",
       "      <td>LV246</td>\n",
       "      <td>1.153017e-05</td>\n",
       "      <td>1.762844e-02</td>\n",
       "    </tr>\n",
       "    <tr>\n",
       "      <th>2920533</th>\n",
       "      <td>22617_2451</td>\n",
       "      <td>Job SOC coding: Librarians</td>\n",
       "      <td>LV246</td>\n",
       "      <td>2.626747e-05</td>\n",
       "      <td>3.215441e-02</td>\n",
       "    </tr>\n",
       "    <tr>\n",
       "      <th>2742882</th>\n",
       "      <td>AD</td>\n",
       "      <td>Alzheimer’s disease</td>\n",
       "      <td>LV246</td>\n",
       "      <td>3.085285e-05</td>\n",
       "      <td>3.608869e-02</td>\n",
       "    </tr>\n",
       "  </tbody>\n",
       "</table>\n",
       "</div>"
      ],
      "text/plain": [
       "                     phenotype  \\\n",
       "4036830        MAGNETIC_IDL.TG   \n",
       "4024986         MAGNETIC_LDL.C   \n",
       "1177491             20002_1473   \n",
       "455007                  6153_1   \n",
       "378021        20003_1140861958   \n",
       "4018077  MAGNETIC_CH2.DB.ratio   \n",
       "1303827                 6177_1   \n",
       "3591693       20003_1141146234   \n",
       "3931227               20110_10   \n",
       "2109224               20107_10   \n",
       "4025983         IGAP_Alzheimer   \n",
       "272412                  2654_2   \n",
       "2629370               20111_10   \n",
       "3107080       KRA_PSY_DEMENTIA   \n",
       "746172               20107_100   \n",
       "2876118               6153_100   \n",
       "3219594       20003_1141146138   \n",
       "93765         20003_1141192410   \n",
       "3675592                20107_1   \n",
       "2546465            F5_DEMENTIA   \n",
       "1962160                   1835   \n",
       "2920533             22617_2451   \n",
       "2742882                     AD   \n",
       "\n",
       "                                                                                                            phenotype_desc  \\\n",
       "4036830                                                                                                  Triglycerides NMR   \n",
       "4024986                                                                                                LDL Cholesterol NMR   \n",
       "1177491                                                           Non-cancer illness code, self-reported: high cholesterol   \n",
       "455007   Medication for cholesterol, blood pressure, diabetes, or take exogenous hormones: Cholesterol lowering medication   \n",
       "378021                                                           Treatment/medication code: simvastatin (20003_1140861958)   \n",
       "4018077                                                                                                          CH2DB NMR   \n",
       "1303827                            Medication for cholesterol, blood pressure or diabetes: Cholesterol lowering medication   \n",
       "3591693                                                         Treatment/medication code: atorvastatin (20003_1141146234)   \n",
       "3931227                                                                  Illnesses of mother: Alzheimer's disease/dementia   \n",
       "2109224                                                                  Illnesses of father: Alzheimer's disease/dementia   \n",
       "4025983                                                                                                 Alzheimers Disease   \n",
       "272412                                                         Non-butter spread type details: Flora Pro-Active or Benecol   \n",
       "2629370                                                                Illnesses of siblings: Alzheimer's disease/dementia   \n",
       "3107080                                                                                                       Any dementia   \n",
       "746172                                                                    Illnesses of father: None of the above (group 1)   \n",
       "2876118                Medication for cholesterol, blood pressure, diabetes, or take exogenous hormones: None of the above   \n",
       "3219594                                                  Treatment/medication code: lipitor 10mg tablet (20003_1141146138)   \n",
       "93765                                                           Treatment/medication code: rosuvastatin (20003_1141192410)   \n",
       "3675592                                                                                 Illnesses of father: Heart disease   \n",
       "2546465                                                                                                           Dementia   \n",
       "1962160                                                                                                 Mother still alive   \n",
       "2920533                                                                                         Job SOC coding: Librarians   \n",
       "2742882                                                                                                Alzheimer’s disease   \n",
       "\n",
       "            lv        pvalue           fdr  \n",
       "4036830  LV246  2.460305e-32  1.655710e-26  \n",
       "4024986  LV246  9.696207e-32  3.915151e-26  \n",
       "1177491  LV246  2.952274e-30  1.083704e-24  \n",
       "455007   LV246  1.483317e-29  4.278117e-24  \n",
       "378021   LV246  1.711568e-24  2.559629e-19  \n",
       "4018077  LV246  1.478299e-20  1.047211e-15  \n",
       "1303827  LV246  1.518204e-19  9.578481e-15  \n",
       "3591693  LV246  4.661357e-19  2.543474e-14  \n",
       "3931227  LV246  2.414698e-12  2.764086e-08  \n",
       "2109224  LV246  2.416461e-12  2.764086e-08  \n",
       "4025983  LV246  1.117565e-11  1.097937e-07  \n",
       "272412   LV246  6.640570e-11  5.633069e-07  \n",
       "2629370  LV246  7.282529e-11  6.164679e-07  \n",
       "3107080  LV246  5.246540e-09  2.862779e-05  \n",
       "746172   LV246  6.762308e-09  3.559969e-05  \n",
       "2876118  LV246  2.416435e-08  1.100014e-04  \n",
       "3219594  LV246  3.554286e-08  1.553199e-04  \n",
       "93765    LV246  4.653312e-07  1.366489e-03  \n",
       "3675592  LV246  6.851023e-07  1.888272e-03  \n",
       "2546465  LV246  5.200108e-06  9.578962e-03  \n",
       "1962160  LV246  1.153017e-05  1.762844e-02  \n",
       "2920533  LV246  2.626747e-05  3.215441e-02  \n",
       "2742882  LV246  3.085285e-05  3.608869e-02  "
      ]
     },
     "metadata": {},
     "output_type": "display_data"
    }
   ],
   "source": [
    "with pd.option_context(\n",
    "    \"display.max_rows\", None, \"display.max_columns\", None, \"display.max_colwidth\", None\n",
    "):\n",
    "    display(lv_assocs)"
   ]
  },
  {
   "cell_type": "code",
   "execution_count": 30,
   "id": "statewide-newark",
   "metadata": {},
   "outputs": [],
   "source": [
    "lv_assocs = lv_assocs.assign(\n",
    "    phenotype_desc=lv_assocs[\"phenotype\"].apply(get_trait_description)\n",
    ")"
   ]
  },
  {
   "cell_type": "code",
   "execution_count": 31,
   "id": "psychological-australian",
   "metadata": {},
   "outputs": [],
   "source": [
    "lv_assocs = lv_assocs.assign(n=lv_assocs[\"phenotype\"].apply(get_trait_n))"
   ]
  },
  {
   "cell_type": "code",
   "execution_count": 32,
   "id": "significant-finder",
   "metadata": {},
   "outputs": [],
   "source": [
    "lv_assocs = lv_assocs.assign(n_cases=lv_assocs[\"phenotype\"].apply(get_trait_n_cases))"
   ]
  },
  {
   "cell_type": "code",
   "execution_count": 33,
   "id": "registered-explorer",
   "metadata": {},
   "outputs": [],
   "source": [
    "# lv_assocs = lv_assocs.assign(coef=lv_assocs[\"coef\"].apply(lambda x: f\"{x:.3f}\"))"
   ]
  },
  {
   "cell_type": "code",
   "execution_count": 34,
   "id": "black-carry",
   "metadata": {},
   "outputs": [],
   "source": [
    "lv_assocs = lv_assocs.assign(\n",
    "    fdr=lv_assocs[\"fdr\"].apply(lambda x: f\"{x:.2e}\".replace(\"-\", \"&#8209;\"))\n",
    ")"
   ]
  },
  {
   "cell_type": "code",
   "execution_count": 35,
   "id": "acting-victorian",
   "metadata": {},
   "outputs": [],
   "source": [
    "lv_assocs = lv_assocs.assign(n=lv_assocs[\"n\"].apply(num_to_int_str))"
   ]
  },
  {
   "cell_type": "code",
   "execution_count": 36,
   "id": "complete-confusion",
   "metadata": {},
   "outputs": [],
   "source": [
    "lv_assocs = lv_assocs.assign(n_cases=lv_assocs[\"n_cases\"].apply(num_to_int_str))"
   ]
  },
  {
   "cell_type": "code",
   "execution_count": 37,
   "id": "wrapped-nursing",
   "metadata": {},
   "outputs": [],
   "source": [
    "# lv_assocs = lv_assocs.assign(part_clust=\"\")  # lv_assocs.apply(get_part_clust, axis=1))"
   ]
  },
  {
   "cell_type": "code",
   "execution_count": 38,
   "id": "offshore-surprise",
   "metadata": {},
   "outputs": [],
   "source": [
    "lv_assocs = lv_assocs.drop(columns=[\"phenotype\"])"
   ]
  },
  {
   "cell_type": "code",
   "execution_count": 39,
   "id": "decreased-generator",
   "metadata": {},
   "outputs": [
    {
     "data": {
      "text/plain": [
       "(23, 6)"
      ]
     },
     "execution_count": 39,
     "metadata": {},
     "output_type": "execute_result"
    }
   ],
   "source": [
    "lv_assocs.shape"
   ]
  },
  {
   "cell_type": "code",
   "execution_count": 40,
   "id": "auburn-action",
   "metadata": {},
   "outputs": [],
   "source": [
    "lv_assocs = lv_assocs[[\"phenotype_desc\", \"n\", \"n_cases\", \"fdr\"]]"
   ]
  },
  {
   "cell_type": "code",
   "execution_count": 41,
   "id": "departmental-airline",
   "metadata": {},
   "outputs": [],
   "source": [
    "lv_assocs = lv_assocs.rename(\n",
    "    columns={\n",
    "        \"part_clust\": \"Partition / cluster\",\n",
    "        \"lv\": \"Latent variable (LV)\",\n",
    "        #         \"coef\": r\"$\\beta$\",\n",
    "        \"fdr\": \"FDR\",\n",
    "        \"phenotype_desc\": \"Trait description\",\n",
    "        \"n\": \"Sample size\",\n",
    "        \"n_cases\": \"Cases\",\n",
    "    }\n",
    ")"
   ]
  },
  {
   "cell_type": "code",
   "execution_count": 42,
   "id": "second-elephant",
   "metadata": {},
   "outputs": [
    {
     "data": {
      "text/html": [
       "<div>\n",
       "<style scoped>\n",
       "    .dataframe tbody tr th:only-of-type {\n",
       "        vertical-align: middle;\n",
       "    }\n",
       "\n",
       "    .dataframe tbody tr th {\n",
       "        vertical-align: top;\n",
       "    }\n",
       "\n",
       "    .dataframe thead th {\n",
       "        text-align: right;\n",
       "    }\n",
       "</style>\n",
       "<table border=\"1\" class=\"dataframe\">\n",
       "  <thead>\n",
       "    <tr style=\"text-align: right;\">\n",
       "      <th></th>\n",
       "      <th>Trait description</th>\n",
       "      <th>Sample size</th>\n",
       "      <th>Cases</th>\n",
       "      <th>FDR</th>\n",
       "    </tr>\n",
       "  </thead>\n",
       "  <tbody>\n",
       "    <tr>\n",
       "      <th>4036830</th>\n",
       "      <td>Triglycerides NMR</td>\n",
       "      <td>21,559</td>\n",
       "      <td></td>\n",
       "      <td>1.66e&amp;#8209;26</td>\n",
       "    </tr>\n",
       "    <tr>\n",
       "      <th>4024986</th>\n",
       "      <td>LDL Cholesterol NMR</td>\n",
       "      <td>13,527</td>\n",
       "      <td></td>\n",
       "      <td>3.92e&amp;#8209;26</td>\n",
       "    </tr>\n",
       "    <tr>\n",
       "      <th>1177491</th>\n",
       "      <td>High cholesterol (self-reported)</td>\n",
       "      <td>361,141</td>\n",
       "      <td>43,957</td>\n",
       "      <td>1.08e&amp;#8209;24</td>\n",
       "    </tr>\n",
       "    <tr>\n",
       "      <th>455007</th>\n",
       "      <td>Cholesterol lowering medication</td>\n",
       "      <td>193,148</td>\n",
       "      <td>24,247</td>\n",
       "      <td>4.28e&amp;#8209;24</td>\n",
       "    </tr>\n",
       "    <tr>\n",
       "      <th>378021</th>\n",
       "      <td>Treatment/medication code: simvastatin</td>\n",
       "      <td>361,141</td>\n",
       "      <td>40,921</td>\n",
       "      <td>2.56e&amp;#8209;19</td>\n",
       "    </tr>\n",
       "    <tr>\n",
       "      <th>4018077</th>\n",
       "      <td>CH2DB NMR</td>\n",
       "      <td>24,154</td>\n",
       "      <td></td>\n",
       "      <td>1.05e&amp;#8209;15</td>\n",
       "    </tr>\n",
       "    <tr>\n",
       "      <th>1303827</th>\n",
       "      <td>Cholesterol lowering medication</td>\n",
       "      <td>165,340</td>\n",
       "      <td>38,057</td>\n",
       "      <td>9.58e&amp;#8209;15</td>\n",
       "    </tr>\n",
       "    <tr>\n",
       "      <th>3591693</th>\n",
       "      <td>Treatment/medication code: atorvastatin</td>\n",
       "      <td>361,141</td>\n",
       "      <td>10,805</td>\n",
       "      <td>2.54e&amp;#8209;14</td>\n",
       "    </tr>\n",
       "    <tr>\n",
       "      <th>3931227</th>\n",
       "      <td>Illnesses of mother: Alzheimer's disease/dementia</td>\n",
       "      <td>331,041</td>\n",
       "      <td>28,507</td>\n",
       "      <td>2.76e&amp;#8209;08</td>\n",
       "    </tr>\n",
       "    <tr>\n",
       "      <th>2109224</th>\n",
       "      <td>Illnesses of father: Alzheimer's disease/dementia</td>\n",
       "      <td>312,666</td>\n",
       "      <td>15,022</td>\n",
       "      <td>2.76e&amp;#8209;08</td>\n",
       "    </tr>\n",
       "    <tr>\n",
       "      <th>4025983</th>\n",
       "      <td>Alzheimers Disease</td>\n",
       "      <td>54,162</td>\n",
       "      <td>17,008</td>\n",
       "      <td>1.10e&amp;#8209;07</td>\n",
       "    </tr>\n",
       "    <tr>\n",
       "      <th>272412</th>\n",
       "      <td>Non-butter spread type details: Flora Pro-Active or Benecol</td>\n",
       "      <td>190,094</td>\n",
       "      <td>29,048</td>\n",
       "      <td>5.63e&amp;#8209;07</td>\n",
       "    </tr>\n",
       "    <tr>\n",
       "      <th>2629370</th>\n",
       "      <td>Illnesses of siblings: Alzheimer's disease/dementia</td>\n",
       "      <td>279,062</td>\n",
       "      <td>1,609</td>\n",
       "      <td>6.16e&amp;#8209;07</td>\n",
       "    </tr>\n",
       "    <tr>\n",
       "      <th>3107080</th>\n",
       "      <td>Any dementia</td>\n",
       "      <td>361,194</td>\n",
       "      <td>243</td>\n",
       "      <td>2.86e&amp;#8209;05</td>\n",
       "    </tr>\n",
       "    <tr>\n",
       "      <th>746172</th>\n",
       "      <td>Illnesses of father: None of the above (group 1)</td>\n",
       "      <td>314,797</td>\n",
       "      <td>116,736</td>\n",
       "      <td>3.56e&amp;#8209;05</td>\n",
       "    </tr>\n",
       "    <tr>\n",
       "      <th>2876118</th>\n",
       "      <td>Medication for cholesterol, blood pressure, diabetes, or take exogenous hormones (females)</td>\n",
       "      <td>193,148</td>\n",
       "      <td>133,338</td>\n",
       "      <td>1.10e&amp;#8209;04</td>\n",
       "    </tr>\n",
       "    <tr>\n",
       "      <th>3219594</th>\n",
       "      <td>Treatment/medication code: lipitor 10mg tablet</td>\n",
       "      <td>361,141</td>\n",
       "      <td>2,584</td>\n",
       "      <td>1.55e&amp;#8209;04</td>\n",
       "    </tr>\n",
       "    <tr>\n",
       "      <th>93765</th>\n",
       "      <td>Treatment/medication code: rosuvastatin</td>\n",
       "      <td>361,141</td>\n",
       "      <td>2,227</td>\n",
       "      <td>1.37e&amp;#8209;03</td>\n",
       "    </tr>\n",
       "    <tr>\n",
       "      <th>3675592</th>\n",
       "      <td>Illnesses of father: Heart disease</td>\n",
       "      <td>318,570</td>\n",
       "      <td>104,110</td>\n",
       "      <td>1.89e&amp;#8209;03</td>\n",
       "    </tr>\n",
       "    <tr>\n",
       "      <th>2546465</th>\n",
       "      <td>Dementia</td>\n",
       "      <td>361,194</td>\n",
       "      <td>157</td>\n",
       "      <td>9.58e&amp;#8209;03</td>\n",
       "    </tr>\n",
       "    <tr>\n",
       "      <th>1962160</th>\n",
       "      <td>Mother still alive</td>\n",
       "      <td>355,029</td>\n",
       "      <td>140,246</td>\n",
       "      <td>1.76e&amp;#8209;02</td>\n",
       "    </tr>\n",
       "    <tr>\n",
       "      <th>2920533</th>\n",
       "      <td>Job SOC coding: Librarians</td>\n",
       "      <td>91,149</td>\n",
       "      <td>1,248</td>\n",
       "      <td>3.22e&amp;#8209;02</td>\n",
       "    </tr>\n",
       "    <tr>\n",
       "      <th>2742882</th>\n",
       "      <td>Alzheimer’s disease</td>\n",
       "      <td>361,194</td>\n",
       "      <td>119</td>\n",
       "      <td>3.61e&amp;#8209;02</td>\n",
       "    </tr>\n",
       "  </tbody>\n",
       "</table>\n",
       "</div>"
      ],
      "text/plain": [
       "                                                                                  Trait description  \\\n",
       "4036830                                                                           Triglycerides NMR   \n",
       "4024986                                                                         LDL Cholesterol NMR   \n",
       "1177491                                                            High cholesterol (self-reported)   \n",
       "455007                                                              Cholesterol lowering medication   \n",
       "378021                                                       Treatment/medication code: simvastatin   \n",
       "4018077                                                                                   CH2DB NMR   \n",
       "1303827                                                             Cholesterol lowering medication   \n",
       "3591693                                                     Treatment/medication code: atorvastatin   \n",
       "3931227                                           Illnesses of mother: Alzheimer's disease/dementia   \n",
       "2109224                                           Illnesses of father: Alzheimer's disease/dementia   \n",
       "4025983                                                                          Alzheimers Disease   \n",
       "272412                                  Non-butter spread type details: Flora Pro-Active or Benecol   \n",
       "2629370                                         Illnesses of siblings: Alzheimer's disease/dementia   \n",
       "3107080                                                                                Any dementia   \n",
       "746172                                             Illnesses of father: None of the above (group 1)   \n",
       "2876118  Medication for cholesterol, blood pressure, diabetes, or take exogenous hormones (females)   \n",
       "3219594                                              Treatment/medication code: lipitor 10mg tablet   \n",
       "93765                                                       Treatment/medication code: rosuvastatin   \n",
       "3675592                                                          Illnesses of father: Heart disease   \n",
       "2546465                                                                                    Dementia   \n",
       "1962160                                                                          Mother still alive   \n",
       "2920533                                                                  Job SOC coding: Librarians   \n",
       "2742882                                                                         Alzheimer’s disease   \n",
       "\n",
       "        Sample size    Cases             FDR  \n",
       "4036830      21,559           1.66e&#8209;26  \n",
       "4024986      13,527           3.92e&#8209;26  \n",
       "1177491     361,141   43,957  1.08e&#8209;24  \n",
       "455007      193,148   24,247  4.28e&#8209;24  \n",
       "378021      361,141   40,921  2.56e&#8209;19  \n",
       "4018077      24,154           1.05e&#8209;15  \n",
       "1303827     165,340   38,057  9.58e&#8209;15  \n",
       "3591693     361,141   10,805  2.54e&#8209;14  \n",
       "3931227     331,041   28,507  2.76e&#8209;08  \n",
       "2109224     312,666   15,022  2.76e&#8209;08  \n",
       "4025983      54,162   17,008  1.10e&#8209;07  \n",
       "272412      190,094   29,048  5.63e&#8209;07  \n",
       "2629370     279,062    1,609  6.16e&#8209;07  \n",
       "3107080     361,194      243  2.86e&#8209;05  \n",
       "746172      314,797  116,736  3.56e&#8209;05  \n",
       "2876118     193,148  133,338  1.10e&#8209;04  \n",
       "3219594     361,141    2,584  1.55e&#8209;04  \n",
       "93765       361,141    2,227  1.37e&#8209;03  \n",
       "3675592     318,570  104,110  1.89e&#8209;03  \n",
       "2546465     361,194      157  9.58e&#8209;03  \n",
       "1962160     355,029  140,246  1.76e&#8209;02  \n",
       "2920533      91,149    1,248  3.22e&#8209;02  \n",
       "2742882     361,194      119  3.61e&#8209;02  "
      ]
     },
     "metadata": {},
     "output_type": "display_data"
    }
   ],
   "source": [
    "with pd.option_context(\n",
    "    \"display.max_rows\", None, \"display.max_columns\", None, \"display.max_colwidth\", None\n",
    "):\n",
    "    display(lv_assocs)"
   ]
  },
  {
   "cell_type": "markdown",
   "id": "specialized-trademark",
   "metadata": {},
   "source": [
    "### Fill empty"
   ]
  },
  {
   "cell_type": "code",
   "execution_count": 43,
   "id": "waiting-psychiatry",
   "metadata": {},
   "outputs": [],
   "source": [
    "if lv_assocs.shape[0] == 0:\n",
    "    lv_assocs.loc[0, \"Trait description\"] = \"No significant associations\"\n",
    "    lv_assocs = lv_assocs.fillna(\"\")"
   ]
  },
  {
   "cell_type": "markdown",
   "id": "communist-burke",
   "metadata": {},
   "source": [
    "### Save"
   ]
  },
  {
   "cell_type": "code",
   "execution_count": 44,
   "id": "acquired-plant",
   "metadata": {},
   "outputs": [
    {
     "data": {
      "text/plain": [
       "'<!-- LV246:phenomexcan_traits_assocs:start -->'"
      ]
     },
     "metadata": {},
     "output_type": "display_data"
    },
    {
     "data": {
      "text/plain": [
       "'<!-- LV246:phenomexcan_traits_assocs:end -->'"
      ]
     },
     "metadata": {},
     "output_type": "display_data"
    }
   ],
   "source": [
    "# start\n",
    "lv_file_mark_start = LV_FILE_MARK_TEMPLATE.format(\n",
    "    result_set=result_set, lv=LV_NAME, position=\"start\"\n",
    ")\n",
    "display(lv_file_mark_start)\n",
    "\n",
    "# end\n",
    "lv_file_mark_end = LV_FILE_MARK_TEMPLATE.format(\n",
    "    result_set=result_set, lv=LV_NAME, position=\"end\"\n",
    ")\n",
    "display(lv_file_mark_end)"
   ]
  },
  {
   "cell_type": "code",
   "execution_count": 45,
   "id": "distant-lebanon",
   "metadata": {},
   "outputs": [],
   "source": [
    "new_content = lv_assocs.to_markdown(index=False, disable_numparse=True)"
   ]
  },
  {
   "cell_type": "code",
   "execution_count": 46,
   "id": "traditional-springfield",
   "metadata": {},
   "outputs": [
    {
     "data": {
      "text/plain": [
       "'Table: Significant trait associations of LV246 in PhenomeXcan. {#tbl:sup:phenomexcan_assocs:lv246}'"
      ]
     },
     "metadata": {},
     "output_type": "display_data"
    }
   ],
   "source": [
    "# add table caption\n",
    "table_caption = TABLE_CAPTION.format(\n",
    "    lv_name=LV_NAME,\n",
    "    result_set_name=RESULT_SET_NAMES[result_set],\n",
    "    table_id=\"{\"\n",
    "    + TABLE_CAPTION_ID.format(result_set=result_set, lv_name_lower_case=LV_NAME.lower())\n",
    "    + \"}\",\n",
    ")\n",
    "display(table_caption)"
   ]
  },
  {
   "cell_type": "code",
   "execution_count": 47,
   "id": "similar-machinery",
   "metadata": {},
   "outputs": [],
   "source": [
    "new_content += \"\\n\\n\" + table_caption"
   ]
  },
  {
   "cell_type": "code",
   "execution_count": 48,
   "id": "victorian-medicare",
   "metadata": {},
   "outputs": [],
   "source": [
    "full_new_content = (\n",
    "    lv_file_mark_start + \"\\n\" + new_content.strip() + \"\\n\" + lv_file_mark_end\n",
    ")"
   ]
  },
  {
   "cell_type": "code",
   "execution_count": 49,
   "id": "reserved-belief",
   "metadata": {},
   "outputs": [],
   "source": [
    "with open(OUTPUT_FILE_PATH, \"r\", encoding=\"utf8\") as f:\n",
    "    file_content = f.read()"
   ]
  },
  {
   "cell_type": "code",
   "execution_count": 50,
   "id": "expanded-madagascar",
   "metadata": {},
   "outputs": [],
   "source": [
    "new_file_content = re.sub(\n",
    "    lv_file_mark_start + \".*?\" + lv_file_mark_end,\n",
    "    full_new_content,\n",
    "    file_content,\n",
    "    flags=re.DOTALL,\n",
    ")"
   ]
  },
  {
   "cell_type": "code",
   "execution_count": 51,
   "id": "studied-orientation",
   "metadata": {},
   "outputs": [],
   "source": [
    "with open(OUTPUT_FILE_PATH, \"w\", encoding=\"utf8\") as f:\n",
    "    f.write(new_file_content)  # .replace(\"\\beta\", r\"\\beta\"))"
   ]
  },
  {
   "cell_type": "markdown",
   "id": "committed-alarm",
   "metadata": {},
   "source": [
    "## eMERGE"
   ]
  },
  {
   "cell_type": "code",
   "execution_count": 52,
   "id": "classical-nirvana",
   "metadata": {},
   "outputs": [],
   "source": [
    "result_set = \"emerge\""
   ]
  },
  {
   "cell_type": "code",
   "execution_count": 53,
   "id": "colonial-bottom",
   "metadata": {},
   "outputs": [],
   "source": [
    "lv_assocs = emerge_lv_trait_assocs[\n",
    "    (emerge_lv_trait_assocs[\"lv\"] == LV_NAME) & (emerge_lv_trait_assocs[\"fdr\"] < 0.05)\n",
    "].sort_values(\"fdr\")"
   ]
  },
  {
   "cell_type": "code",
   "execution_count": 54,
   "id": "black-designer",
   "metadata": {},
   "outputs": [
    {
     "data": {
      "text/html": [
       "<div>\n",
       "<style scoped>\n",
       "    .dataframe tbody tr th:only-of-type {\n",
       "        vertical-align: middle;\n",
       "    }\n",
       "\n",
       "    .dataframe tbody tr th {\n",
       "        vertical-align: top;\n",
       "    }\n",
       "\n",
       "    .dataframe thead th {\n",
       "        text-align: right;\n",
       "    }\n",
       "</style>\n",
       "<table border=\"1\" class=\"dataframe\">\n",
       "  <thead>\n",
       "    <tr style=\"text-align: right;\">\n",
       "      <th></th>\n",
       "      <th>phenotype</th>\n",
       "      <th>phenotype_desc</th>\n",
       "      <th>lv</th>\n",
       "      <th>pvalue</th>\n",
       "      <th>fdr</th>\n",
       "    </tr>\n",
       "  </thead>\n",
       "  <tbody>\n",
       "    <tr>\n",
       "      <th>92778</th>\n",
       "      <td>EUR_272.11</td>\n",
       "      <td>Hypercholesterolemia</td>\n",
       "      <td>LV246</td>\n",
       "      <td>1.297435e-13</td>\n",
       "      <td>4.396619e-09</td>\n",
       "    </tr>\n",
       "    <tr>\n",
       "      <th>263529</th>\n",
       "      <td>EUR_272.1</td>\n",
       "      <td>Hyperlipidemia</td>\n",
       "      <td>LV246</td>\n",
       "      <td>1.385444e-11</td>\n",
       "      <td>3.570114e-07</td>\n",
       "    </tr>\n",
       "    <tr>\n",
       "      <th>195426</th>\n",
       "      <td>EUR_272</td>\n",
       "      <td>Disorders of lipoid metabolism</td>\n",
       "      <td>LV246</td>\n",
       "      <td>1.613478e-11</td>\n",
       "      <td>3.785258e-07</td>\n",
       "    </tr>\n",
       "    <tr>\n",
       "      <th>254654</th>\n",
       "      <td>EUR_292.3</td>\n",
       "      <td>Memory loss</td>\n",
       "      <td>LV246</td>\n",
       "      <td>9.477824e-06</td>\n",
       "      <td>1.795786e-02</td>\n",
       "    </tr>\n",
       "  </tbody>\n",
       "</table>\n",
       "</div>"
      ],
      "text/plain": [
       "         phenotype                  phenotype_desc     lv        pvalue  \\\n",
       "92778   EUR_272.11            Hypercholesterolemia  LV246  1.297435e-13   \n",
       "263529   EUR_272.1                  Hyperlipidemia  LV246  1.385444e-11   \n",
       "195426     EUR_272  Disorders of lipoid metabolism  LV246  1.613478e-11   \n",
       "254654   EUR_292.3                     Memory loss  LV246  9.477824e-06   \n",
       "\n",
       "                 fdr  \n",
       "92778   4.396619e-09  \n",
       "263529  3.570114e-07  \n",
       "195426  3.785258e-07  \n",
       "254654  1.795786e-02  "
      ]
     },
     "metadata": {},
     "output_type": "display_data"
    }
   ],
   "source": [
    "with pd.option_context(\n",
    "    \"display.max_rows\", None, \"display.max_columns\", None, \"display.max_colwidth\", None\n",
    "):\n",
    "    display(lv_assocs)"
   ]
  },
  {
   "cell_type": "code",
   "execution_count": 55,
   "id": "eastern-thunder",
   "metadata": {},
   "outputs": [],
   "source": [
    "lv_assocs = lv_assocs.assign(\n",
    "    phenotype_desc=lv_assocs[\"phenotype\"].apply(\n",
    "        lambda x: emerge_traits_info.loc[x, \"phenotype\"]\n",
    "    )\n",
    ")"
   ]
  },
  {
   "cell_type": "code",
   "execution_count": 56,
   "id": "humanitarian-briefs",
   "metadata": {},
   "outputs": [],
   "source": [
    "lv_assocs = lv_assocs.assign(\n",
    "    n=lv_assocs[\"phenotype\"].apply(\n",
    "        lambda x: emerge_traits_info.loc[x, [\"eur_n_cases\", \"eur_n_controls\"]].sum()\n",
    "    )\n",
    ")"
   ]
  },
  {
   "cell_type": "code",
   "execution_count": 57,
   "id": "sublime-cleanup",
   "metadata": {},
   "outputs": [],
   "source": [
    "lv_assocs = lv_assocs.assign(\n",
    "    n_cases=lv_assocs[\"phenotype\"].apply(\n",
    "        lambda x: emerge_traits_info.loc[x, \"eur_n_cases\"]\n",
    "    )\n",
    ")"
   ]
  },
  {
   "cell_type": "code",
   "execution_count": 58,
   "id": "d2eb004a-0978-4f41-b0bd-e362626c89f3",
   "metadata": {},
   "outputs": [],
   "source": [
    "lv_assocs[\"phenotype\"] = lv_assocs[\"phenotype\"].apply(lambda x: x.split(\"EUR_\")[1])"
   ]
  },
  {
   "cell_type": "code",
   "execution_count": 59,
   "id": "alleged-fundamentals",
   "metadata": {},
   "outputs": [],
   "source": [
    "# lv_assocs = lv_assocs.assign(coef=lv_assocs[\"coef\"].apply(lambda x: f\"{x:.3f}\"))"
   ]
  },
  {
   "cell_type": "code",
   "execution_count": 60,
   "id": "major-fault",
   "metadata": {},
   "outputs": [],
   "source": [
    "lv_assocs = lv_assocs.assign(\n",
    "    fdr=lv_assocs[\"fdr\"].apply(lambda x: f\"{x:.2e}\".replace(\"-\", \"&#8209;\"))\n",
    ")"
   ]
  },
  {
   "cell_type": "code",
   "execution_count": 61,
   "id": "bored-avenue",
   "metadata": {},
   "outputs": [],
   "source": [
    "lv_assocs = lv_assocs.assign(n=lv_assocs[\"n\"].apply(num_to_int_str))"
   ]
  },
  {
   "cell_type": "code",
   "execution_count": 62,
   "id": "atomic-replica",
   "metadata": {},
   "outputs": [],
   "source": [
    "lv_assocs = lv_assocs.assign(n_cases=lv_assocs[\"n_cases\"].apply(num_to_int_str))"
   ]
  },
  {
   "cell_type": "code",
   "execution_count": 63,
   "id": "controlled-session",
   "metadata": {},
   "outputs": [],
   "source": [
    "lv_assocs = lv_assocs.rename(columns={\"phenotype\": \"phecode\"})"
   ]
  },
  {
   "cell_type": "code",
   "execution_count": 64,
   "id": "italic-ottawa",
   "metadata": {},
   "outputs": [
    {
     "data": {
      "text/plain": [
       "(4, 7)"
      ]
     },
     "execution_count": 64,
     "metadata": {},
     "output_type": "execute_result"
    }
   ],
   "source": [
    "lv_assocs.shape"
   ]
  },
  {
   "cell_type": "code",
   "execution_count": 65,
   "id": "protective-cooler",
   "metadata": {},
   "outputs": [],
   "source": [
    "lv_assocs = lv_assocs[[\"phecode\", \"phenotype_desc\", \"n\", \"n_cases\", \"fdr\"]]"
   ]
  },
  {
   "cell_type": "code",
   "execution_count": 66,
   "id": "assigned-resort",
   "metadata": {},
   "outputs": [],
   "source": [
    "lv_assocs = lv_assocs.rename(\n",
    "    columns={\n",
    "        \"lv\": \"Latent variable (LV)\",\n",
    "        #         \"coef\": r\"$\\beta$\",\n",
    "        \"fdr\": \"FDR\",\n",
    "        \"phecode\": \"Phecode\",\n",
    "        \"phenotype_desc\": \"Trait description\",\n",
    "        \"n\": \"Sample size\",\n",
    "        \"n_cases\": \"Cases\",\n",
    "    }\n",
    ")"
   ]
  },
  {
   "cell_type": "code",
   "execution_count": 67,
   "id": "strong-stone",
   "metadata": {},
   "outputs": [
    {
     "data": {
      "text/html": [
       "<div>\n",
       "<style scoped>\n",
       "    .dataframe tbody tr th:only-of-type {\n",
       "        vertical-align: middle;\n",
       "    }\n",
       "\n",
       "    .dataframe tbody tr th {\n",
       "        vertical-align: top;\n",
       "    }\n",
       "\n",
       "    .dataframe thead th {\n",
       "        text-align: right;\n",
       "    }\n",
       "</style>\n",
       "<table border=\"1\" class=\"dataframe\">\n",
       "  <thead>\n",
       "    <tr style=\"text-align: right;\">\n",
       "      <th></th>\n",
       "      <th>Phecode</th>\n",
       "      <th>Trait description</th>\n",
       "      <th>Sample size</th>\n",
       "      <th>Cases</th>\n",
       "      <th>FDR</th>\n",
       "    </tr>\n",
       "  </thead>\n",
       "  <tbody>\n",
       "    <tr>\n",
       "      <th>92778</th>\n",
       "      <td>272.11</td>\n",
       "      <td>Hypercholesterolemia</td>\n",
       "      <td>40,786</td>\n",
       "      <td>14,138</td>\n",
       "      <td>4.40e&amp;#8209;09</td>\n",
       "    </tr>\n",
       "    <tr>\n",
       "      <th>263529</th>\n",
       "      <td>272.1</td>\n",
       "      <td>Hyperlipidemia</td>\n",
       "      <td>55,843</td>\n",
       "      <td>29,195</td>\n",
       "      <td>3.57e&amp;#8209;07</td>\n",
       "    </tr>\n",
       "    <tr>\n",
       "      <th>195426</th>\n",
       "      <td>272</td>\n",
       "      <td>Disorders of lipoid metabolism</td>\n",
       "      <td>55,892</td>\n",
       "      <td>29,244</td>\n",
       "      <td>3.79e&amp;#8209;07</td>\n",
       "    </tr>\n",
       "    <tr>\n",
       "      <th>254654</th>\n",
       "      <td>292.3</td>\n",
       "      <td>Memory loss</td>\n",
       "      <td>48,785</td>\n",
       "      <td>2,094</td>\n",
       "      <td>1.80e&amp;#8209;02</td>\n",
       "    </tr>\n",
       "  </tbody>\n",
       "</table>\n",
       "</div>"
      ],
      "text/plain": [
       "       Phecode               Trait description Sample size   Cases  \\\n",
       "92778   272.11            Hypercholesterolemia      40,786  14,138   \n",
       "263529   272.1                  Hyperlipidemia      55,843  29,195   \n",
       "195426     272  Disorders of lipoid metabolism      55,892  29,244   \n",
       "254654   292.3                     Memory loss      48,785   2,094   \n",
       "\n",
       "                   FDR  \n",
       "92778   4.40e&#8209;09  \n",
       "263529  3.57e&#8209;07  \n",
       "195426  3.79e&#8209;07  \n",
       "254654  1.80e&#8209;02  "
      ]
     },
     "metadata": {},
     "output_type": "display_data"
    }
   ],
   "source": [
    "with pd.option_context(\n",
    "    \"display.max_rows\", None, \"display.max_columns\", None, \"display.max_colwidth\", None\n",
    "):\n",
    "    display(lv_assocs)"
   ]
  },
  {
   "cell_type": "markdown",
   "id": "handmade-samoa",
   "metadata": {},
   "source": [
    "### Fill empty"
   ]
  },
  {
   "cell_type": "code",
   "execution_count": 68,
   "id": "atmospheric-chicago",
   "metadata": {},
   "outputs": [],
   "source": [
    "if lv_assocs.shape[0] == 0:\n",
    "    lv_assocs = pd.DataFrame(columns=lv_assocs.columns.copy()).astype(str)\n",
    "    lv_assocs.loc[0, \"Phecode\"] = \"No significant associations\"\n",
    "    lv_assocs = lv_assocs.fillna(\"\")\n",
    "\n",
    "    display(lv_assocs)"
   ]
  },
  {
   "cell_type": "markdown",
   "id": "infrared-sigma",
   "metadata": {},
   "source": [
    "### Save"
   ]
  },
  {
   "cell_type": "code",
   "execution_count": 69,
   "id": "polish-usage",
   "metadata": {},
   "outputs": [
    {
     "data": {
      "text/plain": [
       "'<!-- LV246:emerge_traits_assocs:start -->'"
      ]
     },
     "metadata": {},
     "output_type": "display_data"
    },
    {
     "data": {
      "text/plain": [
       "'<!-- LV246:emerge_traits_assocs:end -->'"
      ]
     },
     "metadata": {},
     "output_type": "display_data"
    }
   ],
   "source": [
    "# start\n",
    "lv_file_mark_start = LV_FILE_MARK_TEMPLATE.format(\n",
    "    result_set=result_set, lv=LV_NAME, position=\"start\"\n",
    ")\n",
    "display(lv_file_mark_start)\n",
    "\n",
    "# end\n",
    "lv_file_mark_end = LV_FILE_MARK_TEMPLATE.format(\n",
    "    result_set=result_set, lv=LV_NAME, position=\"end\"\n",
    ")\n",
    "display(lv_file_mark_end)"
   ]
  },
  {
   "cell_type": "code",
   "execution_count": 70,
   "id": "settled-purchase",
   "metadata": {},
   "outputs": [],
   "source": [
    "new_content = lv_assocs.to_markdown(index=False, disable_numparse=True)"
   ]
  },
  {
   "cell_type": "code",
   "execution_count": 71,
   "id": "widespread-round",
   "metadata": {},
   "outputs": [
    {
     "data": {
      "text/plain": [
       "'Table: Significant trait associations of LV246 in eMERGE. {#tbl:sup:emerge_assocs:lv246}'"
      ]
     },
     "metadata": {},
     "output_type": "display_data"
    }
   ],
   "source": [
    "# add table caption\n",
    "table_caption = TABLE_CAPTION.format(\n",
    "    lv_name=LV_NAME,\n",
    "    result_set_name=RESULT_SET_NAMES[result_set],\n",
    "    table_id=\"{\"\n",
    "    + TABLE_CAPTION_ID.format(result_set=result_set, lv_name_lower_case=LV_NAME.lower())\n",
    "    + \"}\",\n",
    ")\n",
    "display(table_caption)"
   ]
  },
  {
   "cell_type": "code",
   "execution_count": 72,
   "id": "removable-daily",
   "metadata": {},
   "outputs": [],
   "source": [
    "new_content += \"\\n\\n\" + table_caption"
   ]
  },
  {
   "cell_type": "code",
   "execution_count": 73,
   "id": "hollywood-integral",
   "metadata": {},
   "outputs": [],
   "source": [
    "full_new_content = (\n",
    "    lv_file_mark_start + \"\\n\" + new_content.strip() + \"\\n\" + lv_file_mark_end\n",
    ")"
   ]
  },
  {
   "cell_type": "code",
   "execution_count": 74,
   "id": "defensive-harvey",
   "metadata": {},
   "outputs": [],
   "source": [
    "with open(OUTPUT_FILE_PATH, \"r\", encoding=\"utf8\") as f:\n",
    "    file_content = f.read()"
   ]
  },
  {
   "cell_type": "code",
   "execution_count": 75,
   "id": "academic-purpose",
   "metadata": {},
   "outputs": [],
   "source": [
    "new_file_content = re.sub(\n",
    "    lv_file_mark_start + \".*?\" + lv_file_mark_end,\n",
    "    full_new_content,\n",
    "    file_content,\n",
    "    flags=re.DOTALL,\n",
    ")"
   ]
  },
  {
   "cell_type": "code",
   "execution_count": 76,
   "id": "complicated-pharmacy",
   "metadata": {},
   "outputs": [],
   "source": [
    "with open(OUTPUT_FILE_PATH, \"w\", encoding=\"utf8\") as f:\n",
    "    f.write(new_file_content)  # .replace(\"\\beta\", r\"\\beta\"))"
   ]
  },
  {
   "cell_type": "code",
   "execution_count": null,
   "id": "coated-decrease",
   "metadata": {},
   "outputs": [],
   "source": []
  }
 ],
 "metadata": {
  "jupytext": {
   "cell_metadata_filter": "all,-execution,-papermill,-trusted",
   "formats": "ipynb,py//py:percent"
  },
  "kernelspec": {
   "display_name": "Python 3 (ipykernel)",
   "language": "python",
   "name": "python3"
  },
  "language_info": {
   "codemirror_mode": {
    "name": "ipython",
    "version": 3
   },
   "file_extension": ".py",
   "mimetype": "text/x-python",
   "name": "python",
   "nbconvert_exporter": "python",
   "pygments_lexer": "ipython3",
   "version": "3.8.13"
  },
  "toc-autonumbering": true
 },
 "nbformat": 4,
 "nbformat_minor": 5
}
