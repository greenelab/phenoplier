{
 "cells": [
  {
   "cell_type": "markdown",
   "id": "charged-brown",
   "metadata": {
    "papermill": {
     "duration": 0.006593,
     "end_time": "2021-05-11T19:09:55.733221",
     "exception": false,
     "start_time": "2021-05-11T19:09:55.726628",
     "status": "completed"
    },
    "tags": []
   },
   "source": [
    "# Description"
   ]
  },
  {
   "cell_type": "markdown",
   "id": "amino-korea",
   "metadata": {
    "papermill": {
     "duration": 0.00668,
     "end_time": "2021-05-11T19:09:55.745410",
     "exception": false,
     "start_time": "2021-05-11T19:09:55.738730",
     "status": "completed"
    },
    "tags": []
   },
   "source": [
    "Generates the figure for top cell types for a specified LV (in Settings section below)."
   ]
  },
  {
   "cell_type": "markdown",
   "id": "convenient-moisture",
   "metadata": {
    "papermill": {
     "duration": 0.006223,
     "end_time": "2021-05-11T19:09:55.756959",
     "exception": false,
     "start_time": "2021-05-11T19:09:55.750736",
     "status": "completed"
    },
    "tags": []
   },
   "source": [
    "# Modules loading"
   ]
  },
  {
   "cell_type": "code",
   "execution_count": 1,
   "id": "conscious-pickup",
   "metadata": {
    "papermill": {
     "duration": 0.01906,
     "end_time": "2021-05-11T19:09:55.781515",
     "exception": false,
     "start_time": "2021-05-11T19:09:55.762455",
     "status": "completed"
    },
    "tags": []
   },
   "outputs": [],
   "source": [
    "%load_ext autoreload\n",
    "%autoreload 2"
   ]
  },
  {
   "cell_type": "code",
   "execution_count": 2,
   "id": "planned-affiliate",
   "metadata": {
    "papermill": {
     "duration": 0.993432,
     "end_time": "2021-05-11T19:09:56.780403",
     "exception": false,
     "start_time": "2021-05-11T19:09:55.786971",
     "status": "completed"
    },
    "tags": []
   },
   "outputs": [],
   "source": [
    "import re\n",
    "from pathlib import Path\n",
    "\n",
    "import pandas as pd\n",
    "import matplotlib.pyplot as plt\n",
    "import seaborn as sns\n",
    "\n",
    "from data.recount2 import LVAnalysis\n",
    "from utils import chunker\n",
    "import conf"
   ]
  },
  {
   "cell_type": "markdown",
   "id": "irish-strap",
   "metadata": {
    "papermill": {
     "duration": 0.005973,
     "end_time": "2021-05-11T19:09:56.792495",
     "exception": false,
     "start_time": "2021-05-11T19:09:56.786522",
     "status": "completed"
    },
    "tags": []
   },
   "source": [
    "# Settings"
   ]
  },
  {
   "cell_type": "code",
   "execution_count": 3,
   "id": "accomplished-emergency",
   "metadata": {
    "papermill": {
     "duration": 0.019548,
     "end_time": "2021-05-11T19:09:56.817689",
     "exception": false,
     "start_time": "2021-05-11T19:09:56.798141",
     "status": "completed"
    },
    "tags": [
     "parameters"
    ]
   },
   "outputs": [],
   "source": [
    "LV_NAME = \"LV844\""
   ]
  },
  {
   "cell_type": "code",
   "execution_count": 4,
   "id": "removable-italic",
   "metadata": {},
   "outputs": [],
   "source": [
    "LV_AXIS_THRESHOLD = 3.0\n",
    "N_TOP_SAMPLES = 400\n",
    "N_TOP_ATTRS = 25"
   ]
  },
  {
   "cell_type": "code",
   "execution_count": 5,
   "id": "adjacent-liberal",
   "metadata": {},
   "outputs": [
    {
     "data": {
      "text/plain": [
       "PosixPath('/home/miltondp/projects/labs/greenelab/phenoplier_manuscript/content/images/lvs_analysis/lv844')"
      ]
     },
     "metadata": {},
     "output_type": "display_data"
    }
   ],
   "source": [
    "OUTPUT_FIGURES_DIR = Path(\n",
    "    conf.MANUSCRIPT[\"FIGURES_DIR\"], \"lvs_analysis\", f\"{LV_NAME.lower()}\"\n",
    ").resolve()\n",
    "display(OUTPUT_FIGURES_DIR)\n",
    "OUTPUT_FIGURES_DIR.mkdir(parents=True, exist_ok=True)"
   ]
  },
  {
   "cell_type": "code",
   "execution_count": 6,
   "id": "peaceful-trick",
   "metadata": {},
   "outputs": [
    {
     "data": {
      "text/plain": [
       "PosixPath('/home/miltondp/projects/labs/greenelab/phenoplier_manuscript/content/images/lvs_analysis/lv844/lv844-cell_types.svg')"
      ]
     },
     "metadata": {},
     "output_type": "display_data"
    }
   ],
   "source": [
    "OUTPUT_CELL_TYPE_FILEPATH = OUTPUT_FIGURES_DIR / f\"{LV_NAME.lower()}-cell_types.svg\"\n",
    "display(OUTPUT_CELL_TYPE_FILEPATH)"
   ]
  },
  {
   "cell_type": "markdown",
   "id": "parental-merit",
   "metadata": {
    "papermill": {
     "duration": 0.005592,
     "end_time": "2021-05-11T19:09:56.854406",
     "exception": false,
     "start_time": "2021-05-11T19:09:56.848814",
     "status": "completed"
    },
    "tags": []
   },
   "source": [
    "# Load MultiPLIER summary"
   ]
  },
  {
   "cell_type": "code",
   "execution_count": 7,
   "id": "seven-queue",
   "metadata": {
    "papermill": {
     "duration": 0.020251,
     "end_time": "2021-05-11T19:09:56.880435",
     "exception": false,
     "start_time": "2021-05-11T19:09:56.860184",
     "status": "completed"
    },
    "tags": []
   },
   "outputs": [],
   "source": [
    "multiplier_model_summary = pd.read_pickle(conf.MULTIPLIER[\"MODEL_SUMMARY_FILE\"])"
   ]
  },
  {
   "cell_type": "code",
   "execution_count": 8,
   "id": "distinguished-victor",
   "metadata": {
    "papermill": {
     "duration": 0.02062,
     "end_time": "2021-05-11T19:09:56.906744",
     "exception": false,
     "start_time": "2021-05-11T19:09:56.886124",
     "status": "completed"
    },
    "tags": []
   },
   "outputs": [
    {
     "data": {
      "text/plain": [
       "(2157, 5)"
      ]
     },
     "execution_count": 8,
     "metadata": {},
     "output_type": "execute_result"
    }
   ],
   "source": [
    "multiplier_model_summary.shape"
   ]
  },
  {
   "cell_type": "code",
   "execution_count": 9,
   "id": "complicated-regression",
   "metadata": {
    "papermill": {
     "duration": 0.024737,
     "end_time": "2021-05-11T19:09:56.937493",
     "exception": false,
     "start_time": "2021-05-11T19:09:56.912756",
     "status": "completed"
    },
    "tags": []
   },
   "outputs": [
    {
     "data": {
      "text/html": [
       "<div>\n",
       "<style scoped>\n",
       "    .dataframe tbody tr th:only-of-type {\n",
       "        vertical-align: middle;\n",
       "    }\n",
       "\n",
       "    .dataframe tbody tr th {\n",
       "        vertical-align: top;\n",
       "    }\n",
       "\n",
       "    .dataframe thead th {\n",
       "        text-align: right;\n",
       "    }\n",
       "</style>\n",
       "<table border=\"1\" class=\"dataframe\">\n",
       "  <thead>\n",
       "    <tr style=\"text-align: right;\">\n",
       "      <th></th>\n",
       "      <th>pathway</th>\n",
       "      <th>LV index</th>\n",
       "      <th>AUC</th>\n",
       "      <th>p-value</th>\n",
       "      <th>FDR</th>\n",
       "    </tr>\n",
       "  </thead>\n",
       "  <tbody>\n",
       "    <tr>\n",
       "      <th>1</th>\n",
       "      <td>KEGG_LYSINE_DEGRADATION</td>\n",
       "      <td>1</td>\n",
       "      <td>0.388059</td>\n",
       "      <td>0.866078</td>\n",
       "      <td>0.956005</td>\n",
       "    </tr>\n",
       "    <tr>\n",
       "      <th>2</th>\n",
       "      <td>REACTOME_MRNA_SPLICING</td>\n",
       "      <td>1</td>\n",
       "      <td>0.733057</td>\n",
       "      <td>0.000048</td>\n",
       "      <td>0.000582</td>\n",
       "    </tr>\n",
       "    <tr>\n",
       "      <th>3</th>\n",
       "      <td>MIPS_NOP56P_ASSOCIATED_PRE_RRNA_COMPLEX</td>\n",
       "      <td>1</td>\n",
       "      <td>0.680555</td>\n",
       "      <td>0.001628</td>\n",
       "      <td>0.011366</td>\n",
       "    </tr>\n",
       "    <tr>\n",
       "      <th>4</th>\n",
       "      <td>KEGG_DNA_REPLICATION</td>\n",
       "      <td>1</td>\n",
       "      <td>0.549473</td>\n",
       "      <td>0.312155</td>\n",
       "      <td>0.539951</td>\n",
       "    </tr>\n",
       "    <tr>\n",
       "      <th>5</th>\n",
       "      <td>PID_MYC_ACTIVPATHWAY</td>\n",
       "      <td>1</td>\n",
       "      <td>0.639303</td>\n",
       "      <td>0.021702</td>\n",
       "      <td>0.083739</td>\n",
       "    </tr>\n",
       "  </tbody>\n",
       "</table>\n",
       "</div>"
      ],
      "text/plain": [
       "                                   pathway LV index       AUC   p-value  \\\n",
       "1                  KEGG_LYSINE_DEGRADATION        1  0.388059  0.866078   \n",
       "2                   REACTOME_MRNA_SPLICING        1  0.733057  0.000048   \n",
       "3  MIPS_NOP56P_ASSOCIATED_PRE_RRNA_COMPLEX        1  0.680555  0.001628   \n",
       "4                     KEGG_DNA_REPLICATION        1  0.549473  0.312155   \n",
       "5                     PID_MYC_ACTIVPATHWAY        1  0.639303  0.021702   \n",
       "\n",
       "        FDR  \n",
       "1  0.956005  \n",
       "2  0.000582  \n",
       "3  0.011366  \n",
       "4  0.539951  \n",
       "5  0.083739  "
      ]
     },
     "execution_count": 9,
     "metadata": {},
     "output_type": "execute_result"
    }
   ],
   "source": [
    "multiplier_model_summary.head()"
   ]
  },
  {
   "cell_type": "markdown",
   "id": "settled-border",
   "metadata": {
    "papermill": {
     "duration": 0.006007,
     "end_time": "2021-05-11T19:09:56.949763",
     "exception": false,
     "start_time": "2021-05-11T19:09:56.943756",
     "status": "completed"
    },
    "tags": []
   },
   "source": [
    "# Load data"
   ]
  },
  {
   "cell_type": "markdown",
   "id": "million-device",
   "metadata": {
    "papermill": {
     "duration": 0.005873,
     "end_time": "2021-05-11T19:09:56.961602",
     "exception": false,
     "start_time": "2021-05-11T19:09:56.955729",
     "status": "completed"
    },
    "tags": []
   },
   "source": [
    "## Original data"
   ]
  },
  {
   "cell_type": "code",
   "execution_count": 10,
   "id": "liquid-deputy",
   "metadata": {
    "papermill": {
     "duration": 0.019571,
     "end_time": "2021-05-11T19:09:56.987255",
     "exception": false,
     "start_time": "2021-05-11T19:09:56.967684",
     "status": "completed"
    },
    "tags": []
   },
   "outputs": [],
   "source": [
    "INPUT_SUBSET = \"z_score_std\""
   ]
  },
  {
   "cell_type": "code",
   "execution_count": 11,
   "id": "optimum-france",
   "metadata": {
    "papermill": {
     "duration": 0.019175,
     "end_time": "2021-05-11T19:09:57.025099",
     "exception": false,
     "start_time": "2021-05-11T19:09:57.005924",
     "status": "completed"
    },
    "tags": []
   },
   "outputs": [],
   "source": [
    "INPUT_STEM = \"projection-smultixcan-efo_partial-mashr-zscores\""
   ]
  },
  {
   "cell_type": "code",
   "execution_count": 12,
   "id": "minor-guide",
   "metadata": {
    "papermill": {
     "duration": 0.020992,
     "end_time": "2021-05-11T19:09:57.052255",
     "exception": false,
     "start_time": "2021-05-11T19:09:57.031263",
     "status": "completed"
    },
    "tags": []
   },
   "outputs": [
    {
     "data": {
      "text/plain": [
       "PosixPath('/home/miltondp/projects/labs/greenelab/phenoplier/bases_data/base_orig/results/data_transformations/z_score_std/z_score_std-projection-smultixcan-efo_partial-mashr-zscores.pkl')"
      ]
     },
     "metadata": {},
     "output_type": "display_data"
    },
    {
     "data": {
      "text/plain": [
       "'z_score_std-projection-smultixcan-efo_partial-mashr-zscores'"
      ]
     },
     "metadata": {},
     "output_type": "display_data"
    }
   ],
   "source": [
    "input_filepath = Path(\n",
    "    conf.RESULTS[\"DATA_TRANSFORMATIONS_DIR\"],\n",
    "    INPUT_SUBSET,\n",
    "    f\"{INPUT_SUBSET}-{INPUT_STEM}.pkl\",\n",
    ").resolve()\n",
    "display(input_filepath)\n",
    "\n",
    "assert input_filepath.exists(), \"Input file does not exist\"\n",
    "\n",
    "input_filepath_stem = input_filepath.stem\n",
    "display(input_filepath_stem)"
   ]
  },
  {
   "cell_type": "code",
   "execution_count": 13,
   "id": "considerable-teens",
   "metadata": {
    "papermill": {
     "duration": 0.032337,
     "end_time": "2021-05-11T19:09:57.090585",
     "exception": false,
     "start_time": "2021-05-11T19:09:57.058248",
     "status": "completed"
    },
    "tags": []
   },
   "outputs": [],
   "source": [
    "data = pd.read_pickle(input_filepath)"
   ]
  },
  {
   "cell_type": "code",
   "execution_count": 14,
   "id": "potential-front",
   "metadata": {
    "papermill": {
     "duration": 0.01967,
     "end_time": "2021-05-11T19:09:57.116292",
     "exception": false,
     "start_time": "2021-05-11T19:09:57.096622",
     "status": "completed"
    },
    "tags": []
   },
   "outputs": [
    {
     "data": {
      "text/plain": [
       "(3752, 987)"
      ]
     },
     "execution_count": 14,
     "metadata": {},
     "output_type": "execute_result"
    }
   ],
   "source": [
    "data.shape"
   ]
  },
  {
   "cell_type": "code",
   "execution_count": 15,
   "id": "digital-explorer",
   "metadata": {
    "papermill": {
     "duration": 0.031843,
     "end_time": "2021-05-11T19:09:57.154356",
     "exception": false,
     "start_time": "2021-05-11T19:09:57.122513",
     "status": "completed"
    },
    "tags": []
   },
   "outputs": [
    {
     "data": {
      "text/html": [
       "<div>\n",
       "<style scoped>\n",
       "    .dataframe tbody tr th:only-of-type {\n",
       "        vertical-align: middle;\n",
       "    }\n",
       "\n",
       "    .dataframe tbody tr th {\n",
       "        vertical-align: top;\n",
       "    }\n",
       "\n",
       "    .dataframe thead th {\n",
       "        text-align: right;\n",
       "    }\n",
       "</style>\n",
       "<table border=\"1\" class=\"dataframe\">\n",
       "  <thead>\n",
       "    <tr style=\"text-align: right;\">\n",
       "      <th></th>\n",
       "      <th>LV1</th>\n",
       "      <th>LV2</th>\n",
       "      <th>LV3</th>\n",
       "      <th>LV4</th>\n",
       "      <th>LV5</th>\n",
       "      <th>LV6</th>\n",
       "      <th>LV7</th>\n",
       "      <th>LV8</th>\n",
       "      <th>LV9</th>\n",
       "      <th>LV10</th>\n",
       "      <th>...</th>\n",
       "      <th>LV978</th>\n",
       "      <th>LV979</th>\n",
       "      <th>LV980</th>\n",
       "      <th>LV981</th>\n",
       "      <th>LV982</th>\n",
       "      <th>LV983</th>\n",
       "      <th>LV984</th>\n",
       "      <th>LV985</th>\n",
       "      <th>LV986</th>\n",
       "      <th>LV987</th>\n",
       "    </tr>\n",
       "  </thead>\n",
       "  <tbody>\n",
       "    <tr>\n",
       "      <th>100001_raw-Food_weight</th>\n",
       "      <td>-0.695006</td>\n",
       "      <td>1.962565</td>\n",
       "      <td>0.057683</td>\n",
       "      <td>0.878731</td>\n",
       "      <td>-0.539977</td>\n",
       "      <td>1.481272</td>\n",
       "      <td>-0.396422</td>\n",
       "      <td>1.090180</td>\n",
       "      <td>0.759223</td>\n",
       "      <td>0.931395</td>\n",
       "      <td>...</td>\n",
       "      <td>1.129784</td>\n",
       "      <td>1.752343</td>\n",
       "      <td>-1.411403</td>\n",
       "      <td>2.823863</td>\n",
       "      <td>0.931116</td>\n",
       "      <td>-1.054519</td>\n",
       "      <td>0.432982</td>\n",
       "      <td>-0.633597</td>\n",
       "      <td>0.554279</td>\n",
       "      <td>-0.642479</td>\n",
       "    </tr>\n",
       "    <tr>\n",
       "      <th>100002_raw-Energy</th>\n",
       "      <td>-1.528127</td>\n",
       "      <td>-0.345309</td>\n",
       "      <td>-0.148953</td>\n",
       "      <td>-0.242060</td>\n",
       "      <td>0.373427</td>\n",
       "      <td>0.791092</td>\n",
       "      <td>0.263477</td>\n",
       "      <td>0.987702</td>\n",
       "      <td>0.354391</td>\n",
       "      <td>1.416059</td>\n",
       "      <td>...</td>\n",
       "      <td>0.224604</td>\n",
       "      <td>0.769882</td>\n",
       "      <td>-0.509482</td>\n",
       "      <td>0.091153</td>\n",
       "      <td>2.286789</td>\n",
       "      <td>-1.008256</td>\n",
       "      <td>-0.029764</td>\n",
       "      <td>1.737229</td>\n",
       "      <td>-0.272107</td>\n",
       "      <td>-0.526125</td>\n",
       "    </tr>\n",
       "    <tr>\n",
       "      <th>100003_raw-Protein</th>\n",
       "      <td>-0.704572</td>\n",
       "      <td>-1.011299</td>\n",
       "      <td>0.671420</td>\n",
       "      <td>0.143991</td>\n",
       "      <td>0.615212</td>\n",
       "      <td>0.874212</td>\n",
       "      <td>-0.040998</td>\n",
       "      <td>0.915170</td>\n",
       "      <td>0.254369</td>\n",
       "      <td>-0.084237</td>\n",
       "      <td>...</td>\n",
       "      <td>1.003019</td>\n",
       "      <td>1.044314</td>\n",
       "      <td>-2.376108</td>\n",
       "      <td>0.004778</td>\n",
       "      <td>0.053714</td>\n",
       "      <td>-0.892447</td>\n",
       "      <td>-0.183800</td>\n",
       "      <td>1.377991</td>\n",
       "      <td>-0.278794</td>\n",
       "      <td>-0.419733</td>\n",
       "    </tr>\n",
       "    <tr>\n",
       "      <th>100004_raw-Fat</th>\n",
       "      <td>-0.989832</td>\n",
       "      <td>-1.875490</td>\n",
       "      <td>0.261555</td>\n",
       "      <td>-1.420719</td>\n",
       "      <td>0.366238</td>\n",
       "      <td>1.167049</td>\n",
       "      <td>0.257387</td>\n",
       "      <td>0.717674</td>\n",
       "      <td>-0.997664</td>\n",
       "      <td>0.969825</td>\n",
       "      <td>...</td>\n",
       "      <td>0.585913</td>\n",
       "      <td>0.638314</td>\n",
       "      <td>0.119139</td>\n",
       "      <td>-0.140204</td>\n",
       "      <td>1.394326</td>\n",
       "      <td>-1.173402</td>\n",
       "      <td>0.555058</td>\n",
       "      <td>1.013982</td>\n",
       "      <td>-0.544506</td>\n",
       "      <td>-0.064061</td>\n",
       "    </tr>\n",
       "    <tr>\n",
       "      <th>100005_raw-Carbohydrate</th>\n",
       "      <td>-0.580143</td>\n",
       "      <td>0.243335</td>\n",
       "      <td>0.158966</td>\n",
       "      <td>-0.036558</td>\n",
       "      <td>0.068176</td>\n",
       "      <td>-0.202639</td>\n",
       "      <td>1.101281</td>\n",
       "      <td>0.675227</td>\n",
       "      <td>1.463432</td>\n",
       "      <td>1.010078</td>\n",
       "      <td>...</td>\n",
       "      <td>-0.249108</td>\n",
       "      <td>-0.026814</td>\n",
       "      <td>0.232713</td>\n",
       "      <td>0.323682</td>\n",
       "      <td>1.168642</td>\n",
       "      <td>-0.282935</td>\n",
       "      <td>0.653105</td>\n",
       "      <td>1.909526</td>\n",
       "      <td>0.199997</td>\n",
       "      <td>-1.656894</td>\n",
       "    </tr>\n",
       "  </tbody>\n",
       "</table>\n",
       "<p>5 rows × 987 columns</p>\n",
       "</div>"
      ],
      "text/plain": [
       "                              LV1       LV2       LV3       LV4       LV5  \\\n",
       "100001_raw-Food_weight  -0.695006  1.962565  0.057683  0.878731 -0.539977   \n",
       "100002_raw-Energy       -1.528127 -0.345309 -0.148953 -0.242060  0.373427   \n",
       "100003_raw-Protein      -0.704572 -1.011299  0.671420  0.143991  0.615212   \n",
       "100004_raw-Fat          -0.989832 -1.875490  0.261555 -1.420719  0.366238   \n",
       "100005_raw-Carbohydrate -0.580143  0.243335  0.158966 -0.036558  0.068176   \n",
       "\n",
       "                              LV6       LV7       LV8       LV9      LV10  \\\n",
       "100001_raw-Food_weight   1.481272 -0.396422  1.090180  0.759223  0.931395   \n",
       "100002_raw-Energy        0.791092  0.263477  0.987702  0.354391  1.416059   \n",
       "100003_raw-Protein       0.874212 -0.040998  0.915170  0.254369 -0.084237   \n",
       "100004_raw-Fat           1.167049  0.257387  0.717674 -0.997664  0.969825   \n",
       "100005_raw-Carbohydrate -0.202639  1.101281  0.675227  1.463432  1.010078   \n",
       "\n",
       "                         ...     LV978     LV979     LV980     LV981  \\\n",
       "100001_raw-Food_weight   ...  1.129784  1.752343 -1.411403  2.823863   \n",
       "100002_raw-Energy        ...  0.224604  0.769882 -0.509482  0.091153   \n",
       "100003_raw-Protein       ...  1.003019  1.044314 -2.376108  0.004778   \n",
       "100004_raw-Fat           ...  0.585913  0.638314  0.119139 -0.140204   \n",
       "100005_raw-Carbohydrate  ... -0.249108 -0.026814  0.232713  0.323682   \n",
       "\n",
       "                            LV982     LV983     LV984     LV985     LV986  \\\n",
       "100001_raw-Food_weight   0.931116 -1.054519  0.432982 -0.633597  0.554279   \n",
       "100002_raw-Energy        2.286789 -1.008256 -0.029764  1.737229 -0.272107   \n",
       "100003_raw-Protein       0.053714 -0.892447 -0.183800  1.377991 -0.278794   \n",
       "100004_raw-Fat           1.394326 -1.173402  0.555058  1.013982 -0.544506   \n",
       "100005_raw-Carbohydrate  1.168642 -0.282935  0.653105  1.909526  0.199997   \n",
       "\n",
       "                            LV987  \n",
       "100001_raw-Food_weight  -0.642479  \n",
       "100002_raw-Energy       -0.526125  \n",
       "100003_raw-Protein      -0.419733  \n",
       "100004_raw-Fat          -0.064061  \n",
       "100005_raw-Carbohydrate -1.656894  \n",
       "\n",
       "[5 rows x 987 columns]"
      ]
     },
     "execution_count": 15,
     "metadata": {},
     "output_type": "execute_result"
    }
   ],
   "source": [
    "data.head()"
   ]
  },
  {
   "cell_type": "markdown",
   "id": "enormous-hybrid",
   "metadata": {},
   "source": [
    "## LV data"
   ]
  },
  {
   "cell_type": "code",
   "execution_count": 16,
   "id": "median-buying",
   "metadata": {},
   "outputs": [],
   "source": [
    "lv_obj = LVAnalysis(LV_NAME, data)"
   ]
  },
  {
   "cell_type": "code",
   "execution_count": 17,
   "id": "practical-alert",
   "metadata": {},
   "outputs": [
    {
     "name": "stderr",
     "output_type": "stream",
     "text": [
      "[2021-08-02 14:13:24,828 - numexpr.utils] INFO: NumExpr defaulting to 8 threads.\n"
     ]
    },
    {
     "data": {
      "text/html": [
       "<div>\n",
       "<style scoped>\n",
       "    .dataframe tbody tr th:only-of-type {\n",
       "        vertical-align: middle;\n",
       "    }\n",
       "\n",
       "    .dataframe tbody tr th {\n",
       "        vertical-align: top;\n",
       "    }\n",
       "\n",
       "    .dataframe thead th {\n",
       "        text-align: right;\n",
       "    }\n",
       "</style>\n",
       "<table border=\"1\" class=\"dataframe\">\n",
       "  <thead>\n",
       "    <tr style=\"text-align: right;\">\n",
       "      <th></th>\n",
       "      <th>pathway</th>\n",
       "      <th>LV index</th>\n",
       "      <th>AUC</th>\n",
       "      <th>p-value</th>\n",
       "      <th>FDR</th>\n",
       "    </tr>\n",
       "  </thead>\n",
       "  <tbody>\n",
       "    <tr>\n",
       "      <th>1894</th>\n",
       "      <td>KEGG_ANTIGEN_PROCESSING_AND_PRESENTATION</td>\n",
       "      <td>844</td>\n",
       "      <td>0.801124</td>\n",
       "      <td>0.000126</td>\n",
       "      <td>0.001347</td>\n",
       "    </tr>\n",
       "  </tbody>\n",
       "</table>\n",
       "</div>"
      ],
      "text/plain": [
       "                                       pathway LV index       AUC   p-value  \\\n",
       "1894  KEGG_ANTIGEN_PROCESSING_AND_PRESENTATION      844  0.801124  0.000126   \n",
       "\n",
       "           FDR  \n",
       "1894  0.001347  "
      ]
     },
     "execution_count": 17,
     "metadata": {},
     "output_type": "execute_result"
    }
   ],
   "source": [
    "multiplier_model_summary[\n",
    "    multiplier_model_summary[\"LV index\"].isin((LV_NAME[2:],))\n",
    "    & (\n",
    "        (multiplier_model_summary[\"FDR\"] < 0.05)\n",
    "        | (multiplier_model_summary[\"AUC\"] >= 0.75)\n",
    "    )\n",
    "]"
   ]
  },
  {
   "cell_type": "code",
   "execution_count": 18,
   "id": "optical-setting",
   "metadata": {},
   "outputs": [
    {
     "name": "stdout",
     "output_type": "stream",
     "text": [
      "SRP059039, SRP032789, SRP027015, SRP055569, SRP050892, SRP064464, SRP059643, SRP028336, SRP058181, SRP003726, SRP050499, SRP042161, SRP056477, SRP006970, SRP048759, SRP058237, SRP057196, SRP039397, SRP027258, SRP058722, SRP041538, SRP007412, SRP045639, SRP060416, SRP060355, SRP034634, SRP019241, SRP043378, SRP056295, SRP030628, SRP032989, SRP059733, SRP059775, SRP042620, SRP051606, SRP052491, SRP041825, SRP056604, SRP017942, SRP063840, SRP018719, SRP059732, SRP066834, SRP020493, SRP029367, SRP057852, SRP018359, SRP026042, SRP044668, SRP004837, SRP050493, SRP009266, SRP063834, SRP056049, SRP056074, SRP010430, SRP012015, SRP052615, SRP018778, SRP023270, SRP035417, SRP028594, SRP033135, SRP032775, SRP004847, SRP056835, SRP050223, SRP050272, SRP014540, SRP056733, SRP032812, SRP043434, SRP008218, SRP044042, SRP014213, SRP010038, SRP033266, SRP029880, SRP012461, SRP027364, SRP040300, SRP056840, SRP043417, SRP019936, SRP050000, SRP060715, SRP039591, SRP058571, SRP028301, SRP021130, SRP026537, "
     ]
    },
    {
     "name": "stderr",
     "output_type": "stream",
     "text": [
      "/home/miltondp/projects/labs/greenelab/phenoplier/libs/data/recount2.py:320: UserWarning: Not all experiments data could be loaded (90 != 91)\n",
      "  warnings.warn(\n"
     ]
    }
   ],
   "source": [
    "lv_data = lv_obj.get_experiments_data()"
   ]
  },
  {
   "cell_type": "code",
   "execution_count": 19,
   "id": "cardiovascular-administration",
   "metadata": {},
   "outputs": [
    {
     "data": {
      "text/plain": [
       "(9532, 120)"
      ]
     },
     "execution_count": 19,
     "metadata": {},
     "output_type": "execute_result"
    }
   ],
   "source": [
    "lv_data.shape"
   ]
  },
  {
   "cell_type": "code",
   "execution_count": 20,
   "id": "surprising-uncle",
   "metadata": {},
   "outputs": [
    {
     "data": {
      "text/html": [
       "<div>\n",
       "<style scoped>\n",
       "    .dataframe tbody tr th:only-of-type {\n",
       "        vertical-align: middle;\n",
       "    }\n",
       "\n",
       "    .dataframe tbody tr th {\n",
       "        vertical-align: top;\n",
       "    }\n",
       "\n",
       "    .dataframe thead th {\n",
       "        text-align: right;\n",
       "    }\n",
       "</style>\n",
       "<table border=\"1\" class=\"dataframe\">\n",
       "  <thead>\n",
       "    <tr style=\"text-align: right;\">\n",
       "      <th></th>\n",
       "      <th></th>\n",
       "      <th>age</th>\n",
       "      <th>group</th>\n",
       "      <th>organisms</th>\n",
       "      <th>severity</th>\n",
       "      <th>tissue</th>\n",
       "      <th>flowcell</th>\n",
       "      <th>lane</th>\n",
       "      <th>tumor type</th>\n",
       "      <th>cycloheximide</th>\n",
       "      <th>time point</th>\n",
       "      <th>...</th>\n",
       "      <th>patient code name</th>\n",
       "      <th>barcode</th>\n",
       "      <th>cancer</th>\n",
       "      <th>type</th>\n",
       "      <th>sirs outcomes</th>\n",
       "      <th>sirs vs sepsis</th>\n",
       "      <th>karyotype</th>\n",
       "      <th>library prep protocol</th>\n",
       "      <th>disease group</th>\n",
       "      <th>LV844</th>\n",
       "    </tr>\n",
       "    <tr>\n",
       "      <th>project</th>\n",
       "      <th>run</th>\n",
       "      <th></th>\n",
       "      <th></th>\n",
       "      <th></th>\n",
       "      <th></th>\n",
       "      <th></th>\n",
       "      <th></th>\n",
       "      <th></th>\n",
       "      <th></th>\n",
       "      <th></th>\n",
       "      <th></th>\n",
       "      <th></th>\n",
       "      <th></th>\n",
       "      <th></th>\n",
       "      <th></th>\n",
       "      <th></th>\n",
       "      <th></th>\n",
       "      <th></th>\n",
       "      <th></th>\n",
       "      <th></th>\n",
       "      <th></th>\n",
       "      <th></th>\n",
       "    </tr>\n",
       "  </thead>\n",
       "  <tbody>\n",
       "    <tr>\n",
       "      <th rowspan=\"5\" valign=\"top\">SRP059039</th>\n",
       "      <th>SRR2049587</th>\n",
       "      <td>2 year-old or older</td>\n",
       "      <td>Control</td>\n",
       "      <td>EPEC</td>\n",
       "      <td>Control</td>\n",
       "      <td>Whole blood</td>\n",
       "      <td>A</td>\n",
       "      <td>8</td>\n",
       "      <td>NaN</td>\n",
       "      <td>NaN</td>\n",
       "      <td>NaN</td>\n",
       "      <td>...</td>\n",
       "      <td>NaN</td>\n",
       "      <td>NaN</td>\n",
       "      <td>NaN</td>\n",
       "      <td>NaN</td>\n",
       "      <td>NaN</td>\n",
       "      <td>NaN</td>\n",
       "      <td>NaN</td>\n",
       "      <td>NaN</td>\n",
       "      <td>NaN</td>\n",
       "      <td>0.014828</td>\n",
       "    </tr>\n",
       "    <tr>\n",
       "      <th>SRR2049621</th>\n",
       "      <td>2 year-old or older</td>\n",
       "      <td>Diarrhea</td>\n",
       "      <td>DAEC</td>\n",
       "      <td>mild</td>\n",
       "      <td>Whole blood</td>\n",
       "      <td>A</td>\n",
       "      <td>6</td>\n",
       "      <td>NaN</td>\n",
       "      <td>NaN</td>\n",
       "      <td>NaN</td>\n",
       "      <td>...</td>\n",
       "      <td>NaN</td>\n",
       "      <td>NaN</td>\n",
       "      <td>NaN</td>\n",
       "      <td>NaN</td>\n",
       "      <td>NaN</td>\n",
       "      <td>NaN</td>\n",
       "      <td>NaN</td>\n",
       "      <td>NaN</td>\n",
       "      <td>NaN</td>\n",
       "      <td>0.015448</td>\n",
       "    </tr>\n",
       "    <tr>\n",
       "      <th>SRR2049622</th>\n",
       "      <td>2 year-old or older</td>\n",
       "      <td>Diarrhea</td>\n",
       "      <td>DAEC</td>\n",
       "      <td>mild</td>\n",
       "      <td>Whole blood</td>\n",
       "      <td>A</td>\n",
       "      <td>7</td>\n",
       "      <td>NaN</td>\n",
       "      <td>NaN</td>\n",
       "      <td>NaN</td>\n",
       "      <td>...</td>\n",
       "      <td>NaN</td>\n",
       "      <td>NaN</td>\n",
       "      <td>NaN</td>\n",
       "      <td>NaN</td>\n",
       "      <td>NaN</td>\n",
       "      <td>NaN</td>\n",
       "      <td>NaN</td>\n",
       "      <td>NaN</td>\n",
       "      <td>NaN</td>\n",
       "      <td>0.008934</td>\n",
       "    </tr>\n",
       "    <tr>\n",
       "      <th>SRR2049620</th>\n",
       "      <td>&lt;2 year-old</td>\n",
       "      <td>Diarrhea</td>\n",
       "      <td>DAEC</td>\n",
       "      <td>moderate</td>\n",
       "      <td>Whole blood</td>\n",
       "      <td>A</td>\n",
       "      <td>6</td>\n",
       "      <td>NaN</td>\n",
       "      <td>NaN</td>\n",
       "      <td>NaN</td>\n",
       "      <td>...</td>\n",
       "      <td>NaN</td>\n",
       "      <td>NaN</td>\n",
       "      <td>NaN</td>\n",
       "      <td>NaN</td>\n",
       "      <td>NaN</td>\n",
       "      <td>NaN</td>\n",
       "      <td>NaN</td>\n",
       "      <td>NaN</td>\n",
       "      <td>NaN</td>\n",
       "      <td>0.004668</td>\n",
       "    </tr>\n",
       "    <tr>\n",
       "      <th>SRR2049619</th>\n",
       "      <td>&lt;2 year-old</td>\n",
       "      <td>Diarrhea</td>\n",
       "      <td>DAEC</td>\n",
       "      <td>mild</td>\n",
       "      <td>Whole blood</td>\n",
       "      <td>A</td>\n",
       "      <td>5</td>\n",
       "      <td>NaN</td>\n",
       "      <td>NaN</td>\n",
       "      <td>NaN</td>\n",
       "      <td>...</td>\n",
       "      <td>NaN</td>\n",
       "      <td>NaN</td>\n",
       "      <td>NaN</td>\n",
       "      <td>NaN</td>\n",
       "      <td>NaN</td>\n",
       "      <td>NaN</td>\n",
       "      <td>NaN</td>\n",
       "      <td>NaN</td>\n",
       "      <td>NaN</td>\n",
       "      <td>0.005130</td>\n",
       "    </tr>\n",
       "  </tbody>\n",
       "</table>\n",
       "<p>5 rows × 120 columns</p>\n",
       "</div>"
      ],
      "text/plain": [
       "                                      age     group organisms  severity  \\\n",
       "project   run                                                             \n",
       "SRP059039 SRR2049587  2 year-old or older   Control      EPEC   Control   \n",
       "          SRR2049621  2 year-old or older  Diarrhea      DAEC      mild   \n",
       "          SRR2049622  2 year-old or older  Diarrhea      DAEC      mild   \n",
       "          SRR2049620          <2 year-old  Diarrhea      DAEC  moderate   \n",
       "          SRR2049619          <2 year-old  Diarrhea      DAEC      mild   \n",
       "\n",
       "                           tissue flowcell lane tumor type cycloheximide  \\\n",
       "project   run                                                              \n",
       "SRP059039 SRR2049587  Whole blood        A    8        NaN           NaN   \n",
       "          SRR2049621  Whole blood        A    6        NaN           NaN   \n",
       "          SRR2049622  Whole blood        A    7        NaN           NaN   \n",
       "          SRR2049620  Whole blood        A    6        NaN           NaN   \n",
       "          SRR2049619  Whole blood        A    5        NaN           NaN   \n",
       "\n",
       "                     time point  ... patient code name barcode cancer type  \\\n",
       "project   run                    ...                                         \n",
       "SRP059039 SRR2049587        NaN  ...               NaN     NaN    NaN  NaN   \n",
       "          SRR2049621        NaN  ...               NaN     NaN    NaN  NaN   \n",
       "          SRR2049622        NaN  ...               NaN     NaN    NaN  NaN   \n",
       "          SRR2049620        NaN  ...               NaN     NaN    NaN  NaN   \n",
       "          SRR2049619        NaN  ...               NaN     NaN    NaN  NaN   \n",
       "\n",
       "                     sirs outcomes sirs vs sepsis karyotype  \\\n",
       "project   run                                                 \n",
       "SRP059039 SRR2049587           NaN            NaN       NaN   \n",
       "          SRR2049621           NaN            NaN       NaN   \n",
       "          SRR2049622           NaN            NaN       NaN   \n",
       "          SRR2049620           NaN            NaN       NaN   \n",
       "          SRR2049619           NaN            NaN       NaN   \n",
       "\n",
       "                     library prep protocol disease group     LV844  \n",
       "project   run                                                       \n",
       "SRP059039 SRR2049587                   NaN           NaN  0.014828  \n",
       "          SRR2049621                   NaN           NaN  0.015448  \n",
       "          SRR2049622                   NaN           NaN  0.008934  \n",
       "          SRR2049620                   NaN           NaN  0.004668  \n",
       "          SRR2049619                   NaN           NaN  0.005130  \n",
       "\n",
       "[5 rows x 120 columns]"
      ]
     },
     "execution_count": 20,
     "metadata": {},
     "output_type": "execute_result"
    }
   ],
   "source": [
    "lv_data.head()"
   ]
  },
  {
   "cell_type": "markdown",
   "id": "sufficient-edmonton",
   "metadata": {},
   "source": [
    "# LV cell types analysis"
   ]
  },
  {
   "cell_type": "markdown",
   "id": "injured-endorsement",
   "metadata": {},
   "source": [
    "## Get top attributes"
   ]
  },
  {
   "cell_type": "code",
   "execution_count": 21,
   "id": "disabled-brunei",
   "metadata": {},
   "outputs": [
    {
     "data": {
      "text/plain": [
       "cycloheximide         0.288121\n",
       "mg/etoh treatment     0.188234\n",
       "sample type           0.157820\n",
       "tumor type            0.141655\n",
       "age (days)            0.104927\n",
       "infected construct    0.089686\n",
       "etoh/dox treatment    0.089686\n",
       "replicates            0.077798\n",
       "group                 0.036800\n",
       "organisms             0.036800\n",
       "severity              0.036800\n",
       "flowcell              0.036800\n",
       "lane                  0.036800\n",
       "cell marker           0.034485\n",
       "hypoxia exposure      0.030917\n",
       "time point            0.030489\n",
       "sampling time         0.029681\n",
       "treated with          0.028432\n",
       "strain/background     0.026664\n",
       "age (years)           0.026664\n",
       "dtype: float64"
      ]
     },
     "metadata": {},
     "output_type": "display_data"
    }
   ],
   "source": [
    "lv_attrs = lv_obj.get_attributes_variation_score()\n",
    "display(lv_attrs.head(20))"
   ]
  },
  {
   "cell_type": "code",
   "execution_count": 22,
   "id": "better-contract",
   "metadata": {},
   "outputs": [
    {
     "data": {
      "text/plain": [
       "tissue         0.006265\n",
       "cell type      0.004969\n",
       "tissue type    0.000990\n",
       "dtype: float64"
      ]
     },
     "execution_count": 22,
     "metadata": {},
     "output_type": "execute_result"
    }
   ],
   "source": [
    "# show those with cell type or tissue in their name\n",
    "_tmp = pd.Series(lv_attrs.index)\n",
    "lv_attrs[\n",
    "    _tmp.str.match(\n",
    "        \"(?:cell.+type$)|(?:tissue$)|(?:tissue.+type$)\",\n",
    "        case=False,\n",
    "        flags=re.IGNORECASE,\n",
    "    ).values\n",
    "].sort_values(ascending=False)"
   ]
  },
  {
   "cell_type": "code",
   "execution_count": 23,
   "id": "compliant-better",
   "metadata": {},
   "outputs": [],
   "source": [
    "_tmp = lv_data.loc[\n",
    "    :,\n",
    "    [\n",
    "        \"cell type\",\n",
    "        \"tissue\",\n",
    "        \"tissue type\",\n",
    "        LV_NAME,\n",
    "    ],\n",
    "]"
   ]
  },
  {
   "cell_type": "code",
   "execution_count": 24,
   "id": "welcome-gabriel",
   "metadata": {},
   "outputs": [],
   "source": [
    "_tmp_seq = list(chunker(_tmp.sort_values(LV_NAME, ascending=False), 25))"
   ]
  },
  {
   "cell_type": "code",
   "execution_count": 25,
   "id": "needed-oracle",
   "metadata": {},
   "outputs": [
    {
     "data": {
      "text/html": [
       "<div>\n",
       "<style scoped>\n",
       "    .dataframe tbody tr th:only-of-type {\n",
       "        vertical-align: middle;\n",
       "    }\n",
       "\n",
       "    .dataframe tbody tr th {\n",
       "        vertical-align: top;\n",
       "    }\n",
       "\n",
       "    .dataframe thead th {\n",
       "        text-align: right;\n",
       "    }\n",
       "</style>\n",
       "<table border=\"1\" class=\"dataframe\">\n",
       "  <thead>\n",
       "    <tr style=\"text-align: right;\">\n",
       "      <th></th>\n",
       "      <th></th>\n",
       "      <th>cell type</th>\n",
       "      <th>tissue</th>\n",
       "      <th>tissue type</th>\n",
       "      <th>LV844</th>\n",
       "    </tr>\n",
       "    <tr>\n",
       "      <th>project</th>\n",
       "      <th>run</th>\n",
       "      <th></th>\n",
       "      <th></th>\n",
       "      <th></th>\n",
       "      <th></th>\n",
       "    </tr>\n",
       "  </thead>\n",
       "  <tbody>\n",
       "    <tr>\n",
       "      <th>SRP059039</th>\n",
       "      <th>SRR2049646</th>\n",
       "      <td>NaN</td>\n",
       "      <td>Whole blood</td>\n",
       "      <td>NaN</td>\n",
       "      <td>2.083566</td>\n",
       "    </tr>\n",
       "    <tr>\n",
       "      <th>SRP032789</th>\n",
       "      <th>SRR1027188</th>\n",
       "      <td>NaN</td>\n",
       "      <td>NaN</td>\n",
       "      <td>NaN</td>\n",
       "      <td>1.688522</td>\n",
       "    </tr>\n",
       "    <tr>\n",
       "      <th>SRP059039</th>\n",
       "      <th>SRR2049631</th>\n",
       "      <td>NaN</td>\n",
       "      <td>Whole blood</td>\n",
       "      <td>NaN</td>\n",
       "      <td>1.585082</td>\n",
       "    </tr>\n",
       "    <tr>\n",
       "      <th rowspan=\"3\" valign=\"top\">SRP027015</th>\n",
       "      <th>SRR931822</th>\n",
       "      <td>NaN</td>\n",
       "      <td>NaN</td>\n",
       "      <td>NaN</td>\n",
       "      <td>1.566637</td>\n",
       "    </tr>\n",
       "    <tr>\n",
       "      <th>SRR931824</th>\n",
       "      <td>NaN</td>\n",
       "      <td>NaN</td>\n",
       "      <td>NaN</td>\n",
       "      <td>1.497305</td>\n",
       "    </tr>\n",
       "    <tr>\n",
       "      <th>SRR931820</th>\n",
       "      <td>NaN</td>\n",
       "      <td>NaN</td>\n",
       "      <td>NaN</td>\n",
       "      <td>1.147552</td>\n",
       "    </tr>\n",
       "    <tr>\n",
       "      <th>SRP055569</th>\n",
       "      <th>SRR2019079</th>\n",
       "      <td>WI-38 human lung fibroblast cells</td>\n",
       "      <td>NaN</td>\n",
       "      <td>NaN</td>\n",
       "      <td>1.136869</td>\n",
       "    </tr>\n",
       "    <tr>\n",
       "      <th>SRP027015</th>\n",
       "      <th>SRR931821</th>\n",
       "      <td>NaN</td>\n",
       "      <td>NaN</td>\n",
       "      <td>NaN</td>\n",
       "      <td>1.043119</td>\n",
       "    </tr>\n",
       "    <tr>\n",
       "      <th>SRP050892</th>\n",
       "      <th>SRR1696121</th>\n",
       "      <td>NaN</td>\n",
       "      <td>NaN</td>\n",
       "      <td>NaN</td>\n",
       "      <td>1.031115</td>\n",
       "    </tr>\n",
       "    <tr>\n",
       "      <th>SRP064464</th>\n",
       "      <th>SRR2558125</th>\n",
       "      <td>NaN</td>\n",
       "      <td>NaN</td>\n",
       "      <td>NaN</td>\n",
       "      <td>0.963351</td>\n",
       "    </tr>\n",
       "    <tr>\n",
       "      <th>SRP059643</th>\n",
       "      <th>SRR2069999</th>\n",
       "      <td>NaN</td>\n",
       "      <td>NaN</td>\n",
       "      <td>NaN</td>\n",
       "      <td>0.930991</td>\n",
       "    </tr>\n",
       "    <tr>\n",
       "      <th>SRP050892</th>\n",
       "      <th>SRR1696122</th>\n",
       "      <td>NaN</td>\n",
       "      <td>NaN</td>\n",
       "      <td>NaN</td>\n",
       "      <td>0.923006</td>\n",
       "    </tr>\n",
       "    <tr>\n",
       "      <th>SRP028336</th>\n",
       "      <th>SRR945249</th>\n",
       "      <td>NaN</td>\n",
       "      <td>cerebellar cortex</td>\n",
       "      <td>NaN</td>\n",
       "      <td>0.910885</td>\n",
       "    </tr>\n",
       "    <tr>\n",
       "      <th>SRP058181</th>\n",
       "      <th>SRR2015776</th>\n",
       "      <td>NaN</td>\n",
       "      <td>brain (BA9 prefrontal cortex)</td>\n",
       "      <td>NaN</td>\n",
       "      <td>0.900904</td>\n",
       "    </tr>\n",
       "    <tr>\n",
       "      <th>SRP003726</th>\n",
       "      <th>SRR067902</th>\n",
       "      <td>epithelial cell</td>\n",
       "      <td>breast</td>\n",
       "      <td>NaN</td>\n",
       "      <td>0.887033</td>\n",
       "    </tr>\n",
       "    <tr>\n",
       "      <th>SRP050499</th>\n",
       "      <th>SRR2013751</th>\n",
       "      <td>NaN</td>\n",
       "      <td>NaN</td>\n",
       "      <td>NaN</td>\n",
       "      <td>0.866832</td>\n",
       "    </tr>\n",
       "    <tr>\n",
       "      <th>SRP028336</th>\n",
       "      <th>SRR945248</th>\n",
       "      <td>NaN</td>\n",
       "      <td>cerebellar cortex</td>\n",
       "      <td>NaN</td>\n",
       "      <td>0.856545</td>\n",
       "    </tr>\n",
       "    <tr>\n",
       "      <th>SRP059039</th>\n",
       "      <th>SRR2049734</th>\n",
       "      <td>NaN</td>\n",
       "      <td>Whole blood</td>\n",
       "      <td>NaN</td>\n",
       "      <td>0.850254</td>\n",
       "    </tr>\n",
       "    <tr>\n",
       "      <th>SRP050499</th>\n",
       "      <th>SRR2013745</th>\n",
       "      <td>NaN</td>\n",
       "      <td>NaN</td>\n",
       "      <td>NaN</td>\n",
       "      <td>0.836880</td>\n",
       "    </tr>\n",
       "    <tr>\n",
       "      <th rowspan=\"2\" valign=\"top\">SRP059643</th>\n",
       "      <th>SRR2070001</th>\n",
       "      <td>NaN</td>\n",
       "      <td>NaN</td>\n",
       "      <td>NaN</td>\n",
       "      <td>0.835545</td>\n",
       "    </tr>\n",
       "    <tr>\n",
       "      <th>SRR2069998</th>\n",
       "      <td>NaN</td>\n",
       "      <td>NaN</td>\n",
       "      <td>NaN</td>\n",
       "      <td>0.822161</td>\n",
       "    </tr>\n",
       "    <tr>\n",
       "      <th>SRP042161</th>\n",
       "      <th>SRR1295005</th>\n",
       "      <td>Glioblastoma</td>\n",
       "      <td>NaN</td>\n",
       "      <td>NaN</td>\n",
       "      <td>0.803755</td>\n",
       "    </tr>\n",
       "    <tr>\n",
       "      <th>SRP059643</th>\n",
       "      <th>SRR2069996</th>\n",
       "      <td>NaN</td>\n",
       "      <td>NaN</td>\n",
       "      <td>NaN</td>\n",
       "      <td>0.785900</td>\n",
       "    </tr>\n",
       "    <tr>\n",
       "      <th>SRP042161</th>\n",
       "      <th>SRR1294737</th>\n",
       "      <td>Glioblastoma</td>\n",
       "      <td>NaN</td>\n",
       "      <td>NaN</td>\n",
       "      <td>0.780528</td>\n",
       "    </tr>\n",
       "    <tr>\n",
       "      <th>SRP056477</th>\n",
       "      <th>SRR1927021</th>\n",
       "      <td>NaN</td>\n",
       "      <td>Cerebellum</td>\n",
       "      <td>NaN</td>\n",
       "      <td>0.778349</td>\n",
       "    </tr>\n",
       "  </tbody>\n",
       "</table>\n",
       "</div>"
      ],
      "text/plain": [
       "                                              cell type  \\\n",
       "project   run                                             \n",
       "SRP059039 SRR2049646                                NaN   \n",
       "SRP032789 SRR1027188                                NaN   \n",
       "SRP059039 SRR2049631                                NaN   \n",
       "SRP027015 SRR931822                                 NaN   \n",
       "          SRR931824                                 NaN   \n",
       "          SRR931820                                 NaN   \n",
       "SRP055569 SRR2019079  WI-38 human lung fibroblast cells   \n",
       "SRP027015 SRR931821                                 NaN   \n",
       "SRP050892 SRR1696121                                NaN   \n",
       "SRP064464 SRR2558125                                NaN   \n",
       "SRP059643 SRR2069999                                NaN   \n",
       "SRP050892 SRR1696122                                NaN   \n",
       "SRP028336 SRR945249                                 NaN   \n",
       "SRP058181 SRR2015776                                NaN   \n",
       "SRP003726 SRR067902                     epithelial cell   \n",
       "SRP050499 SRR2013751                                NaN   \n",
       "SRP028336 SRR945248                                 NaN   \n",
       "SRP059039 SRR2049734                                NaN   \n",
       "SRP050499 SRR2013745                                NaN   \n",
       "SRP059643 SRR2070001                                NaN   \n",
       "          SRR2069998                                NaN   \n",
       "SRP042161 SRR1295005                       Glioblastoma   \n",
       "SRP059643 SRR2069996                                NaN   \n",
       "SRP042161 SRR1294737                       Glioblastoma   \n",
       "SRP056477 SRR1927021                                NaN   \n",
       "\n",
       "                                             tissue tissue type     LV844  \n",
       "project   run                                                              \n",
       "SRP059039 SRR2049646                    Whole blood         NaN  2.083566  \n",
       "SRP032789 SRR1027188                            NaN         NaN  1.688522  \n",
       "SRP059039 SRR2049631                    Whole blood         NaN  1.585082  \n",
       "SRP027015 SRR931822                             NaN         NaN  1.566637  \n",
       "          SRR931824                             NaN         NaN  1.497305  \n",
       "          SRR931820                             NaN         NaN  1.147552  \n",
       "SRP055569 SRR2019079                            NaN         NaN  1.136869  \n",
       "SRP027015 SRR931821                             NaN         NaN  1.043119  \n",
       "SRP050892 SRR1696121                            NaN         NaN  1.031115  \n",
       "SRP064464 SRR2558125                            NaN         NaN  0.963351  \n",
       "SRP059643 SRR2069999                            NaN         NaN  0.930991  \n",
       "SRP050892 SRR1696122                            NaN         NaN  0.923006  \n",
       "SRP028336 SRR945249               cerebellar cortex         NaN  0.910885  \n",
       "SRP058181 SRR2015776  brain (BA9 prefrontal cortex)         NaN  0.900904  \n",
       "SRP003726 SRR067902                          breast         NaN  0.887033  \n",
       "SRP050499 SRR2013751                            NaN         NaN  0.866832  \n",
       "SRP028336 SRR945248               cerebellar cortex         NaN  0.856545  \n",
       "SRP059039 SRR2049734                    Whole blood         NaN  0.850254  \n",
       "SRP050499 SRR2013745                            NaN         NaN  0.836880  \n",
       "SRP059643 SRR2070001                            NaN         NaN  0.835545  \n",
       "          SRR2069998                            NaN         NaN  0.822161  \n",
       "SRP042161 SRR1295005                            NaN         NaN  0.803755  \n",
       "SRP059643 SRR2069996                            NaN         NaN  0.785900  \n",
       "SRP042161 SRR1294737                            NaN         NaN  0.780528  \n",
       "SRP056477 SRR1927021                     Cerebellum         NaN  0.778349  "
      ]
     },
     "execution_count": 25,
     "metadata": {},
     "output_type": "execute_result"
    }
   ],
   "source": [
    "_tmp_seq[0]"
   ]
  },
  {
   "cell_type": "code",
   "execution_count": 26,
   "id": "hairy-ferry",
   "metadata": {},
   "outputs": [
    {
     "data": {
      "text/html": [
       "<div>\n",
       "<style scoped>\n",
       "    .dataframe tbody tr th:only-of-type {\n",
       "        vertical-align: middle;\n",
       "    }\n",
       "\n",
       "    .dataframe tbody tr th {\n",
       "        vertical-align: top;\n",
       "    }\n",
       "\n",
       "    .dataframe thead th {\n",
       "        text-align: right;\n",
       "    }\n",
       "</style>\n",
       "<table border=\"1\" class=\"dataframe\">\n",
       "  <thead>\n",
       "    <tr style=\"text-align: right;\">\n",
       "      <th></th>\n",
       "      <th></th>\n",
       "      <th>cycloheximide</th>\n",
       "      <th>time point</th>\n",
       "      <th>sample type</th>\n",
       "      <th>LV844</th>\n",
       "    </tr>\n",
       "    <tr>\n",
       "      <th>project</th>\n",
       "      <th>run</th>\n",
       "      <th></th>\n",
       "      <th></th>\n",
       "      <th></th>\n",
       "      <th></th>\n",
       "    </tr>\n",
       "  </thead>\n",
       "  <tbody>\n",
       "    <tr>\n",
       "      <th rowspan=\"10\" valign=\"top\">SRP027015</th>\n",
       "      <th>SRR931822</th>\n",
       "      <td>none</td>\n",
       "      <td>9h</td>\n",
       "      <td>poly(A) mRNA</td>\n",
       "      <td>1.566637</td>\n",
       "    </tr>\n",
       "    <tr>\n",
       "      <th>SRR931824</th>\n",
       "      <td>none</td>\n",
       "      <td>12h</td>\n",
       "      <td>poly(A) mRNA</td>\n",
       "      <td>1.497305</td>\n",
       "    </tr>\n",
       "    <tr>\n",
       "      <th>SRR931820</th>\n",
       "      <td>none</td>\n",
       "      <td>6h</td>\n",
       "      <td>poly(A) mRNA</td>\n",
       "      <td>1.147552</td>\n",
       "    </tr>\n",
       "    <tr>\n",
       "      <th>SRR931821</th>\n",
       "      <td>0.1 mg/mL cycloheximide</td>\n",
       "      <td>6h</td>\n",
       "      <td>ribosome footprint</td>\n",
       "      <td>1.043119</td>\n",
       "    </tr>\n",
       "    <tr>\n",
       "      <th>SRR931823</th>\n",
       "      <td>0.1 mg/mL cycloheximide</td>\n",
       "      <td>9h</td>\n",
       "      <td>ribosome footprint</td>\n",
       "      <td>0.480146</td>\n",
       "    </tr>\n",
       "    <tr>\n",
       "      <th>SRR931818</th>\n",
       "      <td>none</td>\n",
       "      <td>3h</td>\n",
       "      <td>poly(A) mRNA</td>\n",
       "      <td>0.350693</td>\n",
       "    </tr>\n",
       "    <tr>\n",
       "      <th>SRR931814</th>\n",
       "      <td>none</td>\n",
       "      <td>0h (untreated)</td>\n",
       "      <td>poly(A) mRNA</td>\n",
       "      <td>0.281312</td>\n",
       "    </tr>\n",
       "    <tr>\n",
       "      <th>SRR931819</th>\n",
       "      <td>0.1 mg/mL cycloheximide</td>\n",
       "      <td>3h</td>\n",
       "      <td>ribosome footprint</td>\n",
       "      <td>0.275998</td>\n",
       "    </tr>\n",
       "    <tr>\n",
       "      <th>SRR931816</th>\n",
       "      <td>none</td>\n",
       "      <td>1.5h</td>\n",
       "      <td>poly(A) mRNA</td>\n",
       "      <td>0.233819</td>\n",
       "    </tr>\n",
       "    <tr>\n",
       "      <th>SRR931817</th>\n",
       "      <td>0.1 mg/mL cycloheximide</td>\n",
       "      <td>1.5h</td>\n",
       "      <td>ribosome footprint</td>\n",
       "      <td>0.204444</td>\n",
       "    </tr>\n",
       "  </tbody>\n",
       "</table>\n",
       "</div>"
      ],
      "text/plain": [
       "                               cycloheximide      time point  \\\n",
       "project   run                                                  \n",
       "SRP027015 SRR931822                     none              9h   \n",
       "          SRR931824                     none             12h   \n",
       "          SRR931820                     none              6h   \n",
       "          SRR931821  0.1 mg/mL cycloheximide              6h   \n",
       "          SRR931823  0.1 mg/mL cycloheximide              9h   \n",
       "          SRR931818                     none              3h   \n",
       "          SRR931814                     none  0h (untreated)   \n",
       "          SRR931819  0.1 mg/mL cycloheximide              3h   \n",
       "          SRR931816                     none            1.5h   \n",
       "          SRR931817  0.1 mg/mL cycloheximide            1.5h   \n",
       "\n",
       "                            sample type     LV844  \n",
       "project   run                                      \n",
       "SRP027015 SRR931822        poly(A) mRNA  1.566637  \n",
       "          SRR931824        poly(A) mRNA  1.497305  \n",
       "          SRR931820        poly(A) mRNA  1.147552  \n",
       "          SRR931821  ribosome footprint  1.043119  \n",
       "          SRR931823  ribosome footprint  0.480146  \n",
       "          SRR931818        poly(A) mRNA  0.350693  \n",
       "          SRR931814        poly(A) mRNA  0.281312  \n",
       "          SRR931819  ribosome footprint  0.275998  \n",
       "          SRR931816        poly(A) mRNA  0.233819  \n",
       "          SRR931817  ribosome footprint  0.204444  "
      ]
     },
     "execution_count": 26,
     "metadata": {},
     "output_type": "execute_result"
    }
   ],
   "source": [
    "# what is there in these projects?\n",
    "lv_data.loc[[\"SRP027015\"]].dropna(how=\"all\", axis=1).sort_values(\n",
    "    LV_NAME, ascending=False\n",
    ").sort_values(LV_NAME, ascending=False).head(10)"
   ]
  },
  {
   "cell_type": "code",
   "execution_count": 27,
   "id": "alleged-disease",
   "metadata": {},
   "outputs": [],
   "source": [
    "SELECTED_ATTRIBUTE = \"cell type\""
   ]
  },
  {
   "cell_type": "code",
   "execution_count": 28,
   "id": "rapid-tanzania",
   "metadata": {},
   "outputs": [],
   "source": [
    "# it has to be in the order desired for filling nans in the SELECTED_ATTRIBUTE\n",
    "SECOND_ATTRIBUTES = [\"tissue\", \"tumor type\"]"
   ]
  },
  {
   "cell_type": "markdown",
   "id": "alike-customs",
   "metadata": {},
   "source": [
    "## Get plot data"
   ]
  },
  {
   "cell_type": "code",
   "execution_count": 29,
   "id": "removable-airplane",
   "metadata": {},
   "outputs": [],
   "source": [
    "plot_data = lv_data.loc[:, [SELECTED_ATTRIBUTE] + SECOND_ATTRIBUTES + [LV_NAME]]"
   ]
  },
  {
   "cell_type": "code",
   "execution_count": 30,
   "id": "fuzzy-iceland",
   "metadata": {},
   "outputs": [],
   "source": [
    "# if blank/nan, fill cell type column with tissue content\n",
    "_new_column = plot_data[[SELECTED_ATTRIBUTE] + SECOND_ATTRIBUTES].fillna(\n",
    "    method=\"backfill\", axis=1\n",
    ")[SELECTED_ATTRIBUTE]\n",
    "plot_data[SELECTED_ATTRIBUTE] = _new_column\n",
    "plot_data = plot_data.drop(columns=SECOND_ATTRIBUTES)\n",
    "plot_data = plot_data.fillna({SELECTED_ATTRIBUTE: \"NOT CATEGORIZED\"})\n",
    "# plot_data = plot_data.dropna(subset=[SELECTED_ATTRIBUTE])"
   ]
  },
  {
   "cell_type": "code",
   "execution_count": 31,
   "id": "frozen-hearts",
   "metadata": {},
   "outputs": [],
   "source": [
    "plot_data = plot_data.sort_values(LV_NAME, ascending=False)"
   ]
  },
  {
   "cell_type": "code",
   "execution_count": 32,
   "id": "willing-television",
   "metadata": {},
   "outputs": [
    {
     "data": {
      "text/html": [
       "<div>\n",
       "<style scoped>\n",
       "    .dataframe tbody tr th:only-of-type {\n",
       "        vertical-align: middle;\n",
       "    }\n",
       "\n",
       "    .dataframe tbody tr th {\n",
       "        vertical-align: top;\n",
       "    }\n",
       "\n",
       "    .dataframe thead th {\n",
       "        text-align: right;\n",
       "    }\n",
       "</style>\n",
       "<table border=\"1\" class=\"dataframe\">\n",
       "  <thead>\n",
       "    <tr style=\"text-align: right;\">\n",
       "      <th></th>\n",
       "      <th></th>\n",
       "      <th>cell type</th>\n",
       "      <th>LV844</th>\n",
       "    </tr>\n",
       "    <tr>\n",
       "      <th>project</th>\n",
       "      <th>run</th>\n",
       "      <th></th>\n",
       "      <th></th>\n",
       "    </tr>\n",
       "  </thead>\n",
       "  <tbody>\n",
       "    <tr>\n",
       "      <th>SRP059039</th>\n",
       "      <th>SRR2049646</th>\n",
       "      <td>Whole blood</td>\n",
       "      <td>2.083566</td>\n",
       "    </tr>\n",
       "    <tr>\n",
       "      <th>SRP032789</th>\n",
       "      <th>SRR1027188</th>\n",
       "      <td>Normal Breast Organoids</td>\n",
       "      <td>1.688522</td>\n",
       "    </tr>\n",
       "    <tr>\n",
       "      <th>SRP059039</th>\n",
       "      <th>SRR2049631</th>\n",
       "      <td>Whole blood</td>\n",
       "      <td>1.585082</td>\n",
       "    </tr>\n",
       "    <tr>\n",
       "      <th rowspan=\"3\" valign=\"top\">SRP027015</th>\n",
       "      <th>SRR931822</th>\n",
       "      <td>NOT CATEGORIZED</td>\n",
       "      <td>1.566637</td>\n",
       "    </tr>\n",
       "    <tr>\n",
       "      <th>SRR931824</th>\n",
       "      <td>NOT CATEGORIZED</td>\n",
       "      <td>1.497305</td>\n",
       "    </tr>\n",
       "    <tr>\n",
       "      <th>SRR931820</th>\n",
       "      <td>NOT CATEGORIZED</td>\n",
       "      <td>1.147552</td>\n",
       "    </tr>\n",
       "    <tr>\n",
       "      <th>SRP055569</th>\n",
       "      <th>SRR2019079</th>\n",
       "      <td>WI-38 human lung fibroblast cells</td>\n",
       "      <td>1.136869</td>\n",
       "    </tr>\n",
       "    <tr>\n",
       "      <th>SRP027015</th>\n",
       "      <th>SRR931821</th>\n",
       "      <td>NOT CATEGORIZED</td>\n",
       "      <td>1.043119</td>\n",
       "    </tr>\n",
       "    <tr>\n",
       "      <th>SRP050892</th>\n",
       "      <th>SRR1696121</th>\n",
       "      <td>NOT CATEGORIZED</td>\n",
       "      <td>1.031115</td>\n",
       "    </tr>\n",
       "    <tr>\n",
       "      <th>SRP064464</th>\n",
       "      <th>SRR2558125</th>\n",
       "      <td>NOT CATEGORIZED</td>\n",
       "      <td>0.963351</td>\n",
       "    </tr>\n",
       "    <tr>\n",
       "      <th>SRP059643</th>\n",
       "      <th>SRR2069999</th>\n",
       "      <td>NOT CATEGORIZED</td>\n",
       "      <td>0.930991</td>\n",
       "    </tr>\n",
       "    <tr>\n",
       "      <th>SRP050892</th>\n",
       "      <th>SRR1696122</th>\n",
       "      <td>NOT CATEGORIZED</td>\n",
       "      <td>0.923006</td>\n",
       "    </tr>\n",
       "    <tr>\n",
       "      <th>SRP028336</th>\n",
       "      <th>SRR945249</th>\n",
       "      <td>cerebellar cortex</td>\n",
       "      <td>0.910885</td>\n",
       "    </tr>\n",
       "    <tr>\n",
       "      <th>SRP058181</th>\n",
       "      <th>SRR2015776</th>\n",
       "      <td>brain (BA9 prefrontal cortex)</td>\n",
       "      <td>0.900904</td>\n",
       "    </tr>\n",
       "    <tr>\n",
       "      <th>SRP003726</th>\n",
       "      <th>SRR067902</th>\n",
       "      <td>epithelial cell</td>\n",
       "      <td>0.887033</td>\n",
       "    </tr>\n",
       "    <tr>\n",
       "      <th>SRP050499</th>\n",
       "      <th>SRR2013751</th>\n",
       "      <td>NOT CATEGORIZED</td>\n",
       "      <td>0.866832</td>\n",
       "    </tr>\n",
       "    <tr>\n",
       "      <th>SRP028336</th>\n",
       "      <th>SRR945248</th>\n",
       "      <td>cerebellar cortex</td>\n",
       "      <td>0.856545</td>\n",
       "    </tr>\n",
       "    <tr>\n",
       "      <th>SRP059039</th>\n",
       "      <th>SRR2049734</th>\n",
       "      <td>Whole blood</td>\n",
       "      <td>0.850254</td>\n",
       "    </tr>\n",
       "    <tr>\n",
       "      <th>SRP050499</th>\n",
       "      <th>SRR2013745</th>\n",
       "      <td>NOT CATEGORIZED</td>\n",
       "      <td>0.836880</td>\n",
       "    </tr>\n",
       "    <tr>\n",
       "      <th>SRP059643</th>\n",
       "      <th>SRR2070001</th>\n",
       "      <td>NOT CATEGORIZED</td>\n",
       "      <td>0.835545</td>\n",
       "    </tr>\n",
       "  </tbody>\n",
       "</table>\n",
       "</div>"
      ],
      "text/plain": [
       "                                              cell type     LV844\n",
       "project   run                                                    \n",
       "SRP059039 SRR2049646                        Whole blood  2.083566\n",
       "SRP032789 SRR1027188            Normal Breast Organoids  1.688522\n",
       "SRP059039 SRR2049631                        Whole blood  1.585082\n",
       "SRP027015 SRR931822                     NOT CATEGORIZED  1.566637\n",
       "          SRR931824                     NOT CATEGORIZED  1.497305\n",
       "          SRR931820                     NOT CATEGORIZED  1.147552\n",
       "SRP055569 SRR2019079  WI-38 human lung fibroblast cells  1.136869\n",
       "SRP027015 SRR931821                     NOT CATEGORIZED  1.043119\n",
       "SRP050892 SRR1696121                    NOT CATEGORIZED  1.031115\n",
       "SRP064464 SRR2558125                    NOT CATEGORIZED  0.963351\n",
       "SRP059643 SRR2069999                    NOT CATEGORIZED  0.930991\n",
       "SRP050892 SRR1696122                    NOT CATEGORIZED  0.923006\n",
       "SRP028336 SRR945249                   cerebellar cortex  0.910885\n",
       "SRP058181 SRR2015776      brain (BA9 prefrontal cortex)  0.900904\n",
       "SRP003726 SRR067902                     epithelial cell  0.887033\n",
       "SRP050499 SRR2013751                    NOT CATEGORIZED  0.866832\n",
       "SRP028336 SRR945248                   cerebellar cortex  0.856545\n",
       "SRP059039 SRR2049734                        Whole blood  0.850254\n",
       "SRP050499 SRR2013745                    NOT CATEGORIZED  0.836880\n",
       "SRP059643 SRR2070001                    NOT CATEGORIZED  0.835545"
      ]
     },
     "execution_count": 32,
     "metadata": {},
     "output_type": "execute_result"
    }
   ],
   "source": [
    "plot_data.head(20)"
   ]
  },
  {
   "cell_type": "markdown",
   "id": "nominated-dependence",
   "metadata": {},
   "source": [
    "## Customize x-axis values"
   ]
  },
  {
   "cell_type": "markdown",
   "id": "sudden-ordinance",
   "metadata": {},
   "source": [
    "When cell type values are not very clear, customize their names by looking at their specific studies to know exactly what the authors meant."
   ]
  },
  {
   "cell_type": "code",
   "execution_count": 33,
   "id": "incorporated-beginning",
   "metadata": {},
   "outputs": [],
   "source": [
    "final_plot_data = plot_data.replace(\n",
    "    {\n",
    "        SELECTED_ATTRIBUTE: {\n",
    "            \"mixture of U87 human glioma cells and WI-38 human lung fibroblast cells\": \"Glioma cells + lung fibroblast cells\",\n",
    "            \"mixture of U87 human glioma cells and MCF10a human breast cancer cells\": \"Glioma cells + breast cancer cells\",\n",
    "        }\n",
    "    }\n",
    ")"
   ]
  },
  {
   "cell_type": "code",
   "execution_count": 34,
   "id": "important-polls",
   "metadata": {},
   "outputs": [
    {
     "name": "stderr",
     "output_type": "stream",
     "text": [
      "<ipython-input-34-78211809599c>:3: PerformanceWarning: indexing past lexsort depth may impact performance.\n",
      "  _tmp = final_plot_data.loc[(_srp_code,)].apply(\n"
     ]
    }
   ],
   "source": [
    "# add also tissue information to these projects\n",
    "_srp_code = \"SRP050892\"\n",
    "_tmp = final_plot_data.loc[(_srp_code,)].apply(\n",
    "    lambda x: \"Cell types from brain\"\n",
    "    + f\" ({lv_data.loc[(_srp_code, x.name), 'screening chemicals']})\",\n",
    "    axis=1,\n",
    ")\n",
    "final_plot_data.loc[(_srp_code, _tmp.index), SELECTED_ATTRIBUTE] = _tmp.values"
   ]
  },
  {
   "cell_type": "code",
   "execution_count": 35,
   "id": "editorial-cotton",
   "metadata": {},
   "outputs": [],
   "source": [
    "# all samples from SRP049593 are fibroblasts\n",
    "final_plot_data[SELECTED_ATTRIBUTE] = final_plot_data.apply(\n",
    "    lambda x: \"Myeloma cells\" if x.name[0] in (\"SRP027015\",) else x[\"cell type\"],\n",
    "    axis=1,\n",
    ")"
   ]
  },
  {
   "cell_type": "code",
   "execution_count": 36,
   "id": "acquired-projector",
   "metadata": {},
   "outputs": [],
   "source": [
    "# take the top samples only\n",
    "final_plot_data = final_plot_data.sort_values(LV_NAME, ascending=False)[:N_TOP_SAMPLES]"
   ]
  },
  {
   "cell_type": "markdown",
   "id": "expanded-forty",
   "metadata": {},
   "source": [
    "## Threshold LV values"
   ]
  },
  {
   "cell_type": "code",
   "execution_count": 37,
   "id": "numerous-roommate",
   "metadata": {},
   "outputs": [],
   "source": [
    "final_plot_data.loc[\n",
    "    final_plot_data[LV_NAME] > LV_AXIS_THRESHOLD, LV_NAME\n",
    "] = LV_AXIS_THRESHOLD"
   ]
  },
  {
   "cell_type": "markdown",
   "id": "arabic-ethiopia",
   "metadata": {},
   "source": [
    "## Delete samples with no tissue/cell type information"
   ]
  },
  {
   "cell_type": "code",
   "execution_count": 38,
   "id": "statutory-township",
   "metadata": {},
   "outputs": [],
   "source": [
    "final_plot_data = final_plot_data[\n",
    "    final_plot_data[SELECTED_ATTRIBUTE] != \"NOT CATEGORIZED\"\n",
    "]"
   ]
  },
  {
   "cell_type": "markdown",
   "id": "through-train",
   "metadata": {},
   "source": [
    "## Set x-axis order"
   ]
  },
  {
   "cell_type": "code",
   "execution_count": 39,
   "id": "raising-sending",
   "metadata": {},
   "outputs": [],
   "source": [
    "attr_order = (\n",
    "    final_plot_data.groupby(SELECTED_ATTRIBUTE)\n",
    "    .max()\n",
    "    .sort_values(LV_NAME, ascending=False)\n",
    "    .index[:N_TOP_ATTRS]\n",
    "    .tolist()\n",
    ")"
   ]
  },
  {
   "cell_type": "code",
   "execution_count": 40,
   "id": "crude-phone",
   "metadata": {},
   "outputs": [
    {
     "data": {
      "text/plain": [
       "25"
      ]
     },
     "execution_count": 40,
     "metadata": {},
     "output_type": "execute_result"
    }
   ],
   "source": [
    "len(attr_order)"
   ]
  },
  {
   "cell_type": "code",
   "execution_count": 41,
   "id": "ultimate-latino",
   "metadata": {},
   "outputs": [
    {
     "data": {
      "text/plain": [
       "['Whole blood',\n",
       " 'Normal Breast Organoids',\n",
       " 'Myeloma cells',\n",
       " 'WI-38 human lung fibroblast cells',\n",
       " 'Cell types from brain (Cadmium)']"
      ]
     },
     "execution_count": 41,
     "metadata": {},
     "output_type": "execute_result"
    }
   ],
   "source": [
    "attr_order[:5]"
   ]
  },
  {
   "cell_type": "markdown",
   "id": "naughty-trustee",
   "metadata": {},
   "source": [
    "## Plot"
   ]
  },
  {
   "cell_type": "code",
   "execution_count": 42,
   "id": "nearby-turkey",
   "metadata": {},
   "outputs": [
    {
     "data": {
      "image/png": "[encoded data removed]",
      "text/plain": [
       "<Figure size 1080x360 with 1 Axes>"
      ]
     },
     "metadata": {},
     "output_type": "display_data"
    }
   ],
   "source": [
    "with sns.plotting_context(\"paper\", font_scale=1.5), sns.axes_style(\"whitegrid\"):\n",
    "    sns.catplot(\n",
    "        data=final_plot_data,\n",
    "        y=LV_NAME,\n",
    "        x=SELECTED_ATTRIBUTE,\n",
    "        order=attr_order,\n",
    "        kind=\"strip\",\n",
    "        height=5,\n",
    "        aspect=3,\n",
    "    )\n",
    "    plt.xticks(rotation=45, horizontalalignment=\"right\")\n",
    "\n",
    "    plt.savefig(\n",
    "        OUTPUT_CELL_TYPE_FILEPATH,\n",
    "        bbox_inches=\"tight\",\n",
    "        facecolor=\"white\",\n",
    "    )"
   ]
  },
  {
   "cell_type": "markdown",
   "id": "competent-board",
   "metadata": {},
   "source": [
    "# Debug"
   ]
  },
  {
   "cell_type": "code",
   "execution_count": 43,
   "id": "agreed-balloon",
   "metadata": {},
   "outputs": [],
   "source": [
    "# with pd.option_context(\n",
    "#     \"display.max_rows\", None, \"display.max_columns\", None, \"display.max_colwidth\", None\n",
    "# ):\n",
    "#     _tmp = final_plot_data[final_plot_data[SELECTED_ATTRIBUTE].str.contains(\"NOT CAT\")]\n",
    "#     display(_tmp.head(20))"
   ]
  },
  {
   "cell_type": "code",
   "execution_count": 44,
   "id": "structured-astronomy",
   "metadata": {},
   "outputs": [],
   "source": [
    "# # what is there in these projects?\n",
    "# lv_data.loc[[\"SRP050499\"]].dropna(how=\"all\", axis=1).sort_values(\n",
    "#     LV_NAME, ascending=False\n",
    "# ).head(60)"
   ]
  },
  {
   "cell_type": "code",
   "execution_count": null,
   "id": "adopted-winning",
   "metadata": {},
   "outputs": [],
   "source": []
  }
 ],
 "metadata": {
  "jupytext": {
   "cell_metadata_filter": "all,-execution,-papermill,-trusted",
   "formats": "ipynb,py//py:percent"
  },
  "kernelspec": {
   "display_name": "Python 3",
   "language": "python",
   "name": "python3"
  },
  "language_info": {
   "codemirror_mode": {
    "name": "ipython",
    "version": 3
   },
   "file_extension": ".py",
   "mimetype": "text/x-python",
   "name": "python",
   "nbconvert_exporter": "python",
   "pygments_lexer": "ipython3",
   "version": "3.8.8"
  }
 },
 "nbformat": 4,
 "nbformat_minor": 5
}
