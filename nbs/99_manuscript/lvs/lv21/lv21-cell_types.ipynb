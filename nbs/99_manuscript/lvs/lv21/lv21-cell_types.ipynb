{
 "cells": [
  {
   "cell_type": "markdown",
   "id": "sacred-wilson",
   "metadata": {
    "papermill": {
     "duration": 0.006593,
     "end_time": "2021-05-11T19:09:55.733221",
     "exception": false,
     "start_time": "2021-05-11T19:09:55.726628",
     "status": "completed"
    },
    "tags": []
   },
   "source": [
    "# Description"
   ]
  },
  {
   "cell_type": "markdown",
   "id": "arranged-specific",
   "metadata": {
    "papermill": {
     "duration": 0.00668,
     "end_time": "2021-05-11T19:09:55.745410",
     "exception": false,
     "start_time": "2021-05-11T19:09:55.738730",
     "status": "completed"
    },
    "tags": []
   },
   "source": [
    "Generates the figure for top cell types for a specified LV (in Settings section below)."
   ]
  },
  {
   "cell_type": "markdown",
   "id": "surprising-balance",
   "metadata": {
    "papermill": {
     "duration": 0.006223,
     "end_time": "2021-05-11T19:09:55.756959",
     "exception": false,
     "start_time": "2021-05-11T19:09:55.750736",
     "status": "completed"
    },
    "tags": []
   },
   "source": [
    "# Modules loading"
   ]
  },
  {
   "cell_type": "code",
   "execution_count": 1,
   "id": "military-snapshot",
   "metadata": {
    "papermill": {
     "duration": 0.01906,
     "end_time": "2021-05-11T19:09:55.781515",
     "exception": false,
     "start_time": "2021-05-11T19:09:55.762455",
     "status": "completed"
    },
    "tags": []
   },
   "outputs": [],
   "source": [
    "%load_ext autoreload\n",
    "%autoreload 2"
   ]
  },
  {
   "cell_type": "code",
   "execution_count": 2,
   "id": "moderate-unknown",
   "metadata": {
    "papermill": {
     "duration": 0.993432,
     "end_time": "2021-05-11T19:09:56.780403",
     "exception": false,
     "start_time": "2021-05-11T19:09:55.786971",
     "status": "completed"
    },
    "tags": []
   },
   "outputs": [],
   "source": [
    "import re\n",
    "from pathlib import Path\n",
    "\n",
    "import pandas as pd\n",
    "import matplotlib.pyplot as plt\n",
    "import seaborn as sns\n",
    "\n",
    "from data.recount2 import LVAnalysis\n",
    "from utils import chunker\n",
    "import conf"
   ]
  },
  {
   "cell_type": "markdown",
   "id": "fallen-separate",
   "metadata": {
    "papermill": {
     "duration": 0.005973,
     "end_time": "2021-05-11T19:09:56.792495",
     "exception": false,
     "start_time": "2021-05-11T19:09:56.786522",
     "status": "completed"
    },
    "tags": []
   },
   "source": [
    "# Settings"
   ]
  },
  {
   "cell_type": "code",
   "execution_count": 3,
   "id": "studied-password",
   "metadata": {
    "papermill": {
     "duration": 0.019548,
     "end_time": "2021-05-11T19:09:56.817689",
     "exception": false,
     "start_time": "2021-05-11T19:09:56.798141",
     "status": "completed"
    },
    "tags": [
     "parameters"
    ]
   },
   "outputs": [],
   "source": [
    "LV_NAME = \"LV21\""
   ]
  },
  {
   "cell_type": "code",
   "execution_count": 4,
   "id": "stable-siemens",
   "metadata": {},
   "outputs": [],
   "source": [
    "LV_AXIS_THRESHOLD = 3.0\n",
    "N_TOP_SAMPLES = 200\n",
    "N_TOP_ATTRS = 25"
   ]
  },
  {
   "cell_type": "code",
   "execution_count": 5,
   "id": "vanilla-settlement",
   "metadata": {},
   "outputs": [
    {
     "data": {
      "text/plain": [
       "PosixPath('/home/miltondp/projects/labs/greenelab/phenoplier_manuscript/content/images/lvs_analysis/lv21')"
      ]
     },
     "metadata": {},
     "output_type": "display_data"
    }
   ],
   "source": [
    "OUTPUT_FIGURES_DIR = Path(\n",
    "    conf.MANUSCRIPT[\"FIGURES_DIR\"], \"lvs_analysis\", f\"{LV_NAME.lower()}\"\n",
    ").resolve()\n",
    "display(OUTPUT_FIGURES_DIR)\n",
    "OUTPUT_FIGURES_DIR.mkdir(parents=True, exist_ok=True)"
   ]
  },
  {
   "cell_type": "code",
   "execution_count": 6,
   "id": "comprehensive-traveler",
   "metadata": {},
   "outputs": [
    {
     "data": {
      "text/plain": [
       "PosixPath('/home/miltondp/projects/labs/greenelab/phenoplier_manuscript/content/images/lvs_analysis/lv21/lv21-cell_types.svg')"
      ]
     },
     "metadata": {},
     "output_type": "display_data"
    }
   ],
   "source": [
    "OUTPUT_CELL_TYPE_FILEPATH = OUTPUT_FIGURES_DIR / f\"{LV_NAME.lower()}-cell_types.svg\"\n",
    "display(OUTPUT_CELL_TYPE_FILEPATH)"
   ]
  },
  {
   "cell_type": "markdown",
   "id": "attended-korean",
   "metadata": {
    "papermill": {
     "duration": 0.005592,
     "end_time": "2021-05-11T19:09:56.854406",
     "exception": false,
     "start_time": "2021-05-11T19:09:56.848814",
     "status": "completed"
    },
    "tags": []
   },
   "source": [
    "# Load MultiPLIER summary"
   ]
  },
  {
   "cell_type": "code",
   "execution_count": 7,
   "id": "academic-chaos",
   "metadata": {
    "papermill": {
     "duration": 0.020251,
     "end_time": "2021-05-11T19:09:56.880435",
     "exception": false,
     "start_time": "2021-05-11T19:09:56.860184",
     "status": "completed"
    },
    "tags": []
   },
   "outputs": [],
   "source": [
    "multiplier_model_summary = pd.read_pickle(conf.MULTIPLIER[\"MODEL_SUMMARY_FILE\"])"
   ]
  },
  {
   "cell_type": "code",
   "execution_count": 8,
   "id": "advised-saturn",
   "metadata": {
    "papermill": {
     "duration": 0.02062,
     "end_time": "2021-05-11T19:09:56.906744",
     "exception": false,
     "start_time": "2021-05-11T19:09:56.886124",
     "status": "completed"
    },
    "tags": []
   },
   "outputs": [
    {
     "data": {
      "text/plain": [
       "(2157, 5)"
      ]
     },
     "execution_count": 8,
     "metadata": {},
     "output_type": "execute_result"
    }
   ],
   "source": [
    "multiplier_model_summary.shape"
   ]
  },
  {
   "cell_type": "code",
   "execution_count": 9,
   "id": "casual-association",
   "metadata": {
    "papermill": {
     "duration": 0.024737,
     "end_time": "2021-05-11T19:09:56.937493",
     "exception": false,
     "start_time": "2021-05-11T19:09:56.912756",
     "status": "completed"
    },
    "tags": []
   },
   "outputs": [
    {
     "data": {
      "text/html": [
       "<div>\n",
       "<style scoped>\n",
       "    .dataframe tbody tr th:only-of-type {\n",
       "        vertical-align: middle;\n",
       "    }\n",
       "\n",
       "    .dataframe tbody tr th {\n",
       "        vertical-align: top;\n",
       "    }\n",
       "\n",
       "    .dataframe thead th {\n",
       "        text-align: right;\n",
       "    }\n",
       "</style>\n",
       "<table border=\"1\" class=\"dataframe\">\n",
       "  <thead>\n",
       "    <tr style=\"text-align: right;\">\n",
       "      <th></th>\n",
       "      <th>pathway</th>\n",
       "      <th>LV index</th>\n",
       "      <th>AUC</th>\n",
       "      <th>p-value</th>\n",
       "      <th>FDR</th>\n",
       "    </tr>\n",
       "  </thead>\n",
       "  <tbody>\n",
       "    <tr>\n",
       "      <th>1</th>\n",
       "      <td>KEGG_LYSINE_DEGRADATION</td>\n",
       "      <td>1</td>\n",
       "      <td>0.388059</td>\n",
       "      <td>0.866078</td>\n",
       "      <td>0.956005</td>\n",
       "    </tr>\n",
       "    <tr>\n",
       "      <th>2</th>\n",
       "      <td>REACTOME_MRNA_SPLICING</td>\n",
       "      <td>1</td>\n",
       "      <td>0.733057</td>\n",
       "      <td>0.000048</td>\n",
       "      <td>0.000582</td>\n",
       "    </tr>\n",
       "    <tr>\n",
       "      <th>3</th>\n",
       "      <td>MIPS_NOP56P_ASSOCIATED_PRE_RRNA_COMPLEX</td>\n",
       "      <td>1</td>\n",
       "      <td>0.680555</td>\n",
       "      <td>0.001628</td>\n",
       "      <td>0.011366</td>\n",
       "    </tr>\n",
       "    <tr>\n",
       "      <th>4</th>\n",
       "      <td>KEGG_DNA_REPLICATION</td>\n",
       "      <td>1</td>\n",
       "      <td>0.549473</td>\n",
       "      <td>0.312155</td>\n",
       "      <td>0.539951</td>\n",
       "    </tr>\n",
       "    <tr>\n",
       "      <th>5</th>\n",
       "      <td>PID_MYC_ACTIVPATHWAY</td>\n",
       "      <td>1</td>\n",
       "      <td>0.639303</td>\n",
       "      <td>0.021702</td>\n",
       "      <td>0.083739</td>\n",
       "    </tr>\n",
       "  </tbody>\n",
       "</table>\n",
       "</div>"
      ],
      "text/plain": [
       "                                   pathway LV index       AUC   p-value  \\\n",
       "1                  KEGG_LYSINE_DEGRADATION        1  0.388059  0.866078   \n",
       "2                   REACTOME_MRNA_SPLICING        1  0.733057  0.000048   \n",
       "3  MIPS_NOP56P_ASSOCIATED_PRE_RRNA_COMPLEX        1  0.680555  0.001628   \n",
       "4                     KEGG_DNA_REPLICATION        1  0.549473  0.312155   \n",
       "5                     PID_MYC_ACTIVPATHWAY        1  0.639303  0.021702   \n",
       "\n",
       "        FDR  \n",
       "1  0.956005  \n",
       "2  0.000582  \n",
       "3  0.011366  \n",
       "4  0.539951  \n",
       "5  0.083739  "
      ]
     },
     "execution_count": 9,
     "metadata": {},
     "output_type": "execute_result"
    }
   ],
   "source": [
    "multiplier_model_summary.head()"
   ]
  },
  {
   "cell_type": "markdown",
   "id": "metric-primary",
   "metadata": {
    "papermill": {
     "duration": 0.006007,
     "end_time": "2021-05-11T19:09:56.949763",
     "exception": false,
     "start_time": "2021-05-11T19:09:56.943756",
     "status": "completed"
    },
    "tags": []
   },
   "source": [
    "# Load data"
   ]
  },
  {
   "cell_type": "markdown",
   "id": "alien-oxide",
   "metadata": {
    "papermill": {
     "duration": 0.005873,
     "end_time": "2021-05-11T19:09:56.961602",
     "exception": false,
     "start_time": "2021-05-11T19:09:56.955729",
     "status": "completed"
    },
    "tags": []
   },
   "source": [
    "## Original data"
   ]
  },
  {
   "cell_type": "code",
   "execution_count": 10,
   "id": "written-forty",
   "metadata": {
    "papermill": {
     "duration": 0.019571,
     "end_time": "2021-05-11T19:09:56.987255",
     "exception": false,
     "start_time": "2021-05-11T19:09:56.967684",
     "status": "completed"
    },
    "tags": []
   },
   "outputs": [],
   "source": [
    "INPUT_SUBSET = \"z_score_std\""
   ]
  },
  {
   "cell_type": "code",
   "execution_count": 11,
   "id": "composed-faith",
   "metadata": {
    "papermill": {
     "duration": 0.019175,
     "end_time": "2021-05-11T19:09:57.025099",
     "exception": false,
     "start_time": "2021-05-11T19:09:57.005924",
     "status": "completed"
    },
    "tags": []
   },
   "outputs": [],
   "source": [
    "INPUT_STEM = \"projection-smultixcan-efo_partial-mashr-zscores\""
   ]
  },
  {
   "cell_type": "code",
   "execution_count": 12,
   "id": "future-alfred",
   "metadata": {
    "papermill": {
     "duration": 0.020992,
     "end_time": "2021-05-11T19:09:57.052255",
     "exception": false,
     "start_time": "2021-05-11T19:09:57.031263",
     "status": "completed"
    },
    "tags": []
   },
   "outputs": [
    {
     "data": {
      "text/plain": [
       "PosixPath('/home/miltondp/projects/labs/greenelab/phenoplier/bases_data/base_orig/results/data_transformations/z_score_std/z_score_std-projection-smultixcan-efo_partial-mashr-zscores.pkl')"
      ]
     },
     "metadata": {},
     "output_type": "display_data"
    },
    {
     "data": {
      "text/plain": [
       "'z_score_std-projection-smultixcan-efo_partial-mashr-zscores'"
      ]
     },
     "metadata": {},
     "output_type": "display_data"
    }
   ],
   "source": [
    "input_filepath = Path(\n",
    "    conf.RESULTS[\"DATA_TRANSFORMATIONS_DIR\"],\n",
    "    INPUT_SUBSET,\n",
    "    f\"{INPUT_SUBSET}-{INPUT_STEM}.pkl\",\n",
    ").resolve()\n",
    "display(input_filepath)\n",
    "\n",
    "assert input_filepath.exists(), \"Input file does not exist\"\n",
    "\n",
    "input_filepath_stem = input_filepath.stem\n",
    "display(input_filepath_stem)"
   ]
  },
  {
   "cell_type": "code",
   "execution_count": 13,
   "id": "statewide-accommodation",
   "metadata": {
    "papermill": {
     "duration": 0.032337,
     "end_time": "2021-05-11T19:09:57.090585",
     "exception": false,
     "start_time": "2021-05-11T19:09:57.058248",
     "status": "completed"
    },
    "tags": []
   },
   "outputs": [],
   "source": [
    "data = pd.read_pickle(input_filepath)"
   ]
  },
  {
   "cell_type": "code",
   "execution_count": 14,
   "id": "continent-victor",
   "metadata": {
    "papermill": {
     "duration": 0.01967,
     "end_time": "2021-05-11T19:09:57.116292",
     "exception": false,
     "start_time": "2021-05-11T19:09:57.096622",
     "status": "completed"
    },
    "tags": []
   },
   "outputs": [
    {
     "data": {
      "text/plain": [
       "(3752, 987)"
      ]
     },
     "execution_count": 14,
     "metadata": {},
     "output_type": "execute_result"
    }
   ],
   "source": [
    "data.shape"
   ]
  },
  {
   "cell_type": "code",
   "execution_count": 15,
   "id": "renewable-honolulu",
   "metadata": {
    "papermill": {
     "duration": 0.031843,
     "end_time": "2021-05-11T19:09:57.154356",
     "exception": false,
     "start_time": "2021-05-11T19:09:57.122513",
     "status": "completed"
    },
    "tags": []
   },
   "outputs": [
    {
     "data": {
      "text/html": [
       "<div>\n",
       "<style scoped>\n",
       "    .dataframe tbody tr th:only-of-type {\n",
       "        vertical-align: middle;\n",
       "    }\n",
       "\n",
       "    .dataframe tbody tr th {\n",
       "        vertical-align: top;\n",
       "    }\n",
       "\n",
       "    .dataframe thead th {\n",
       "        text-align: right;\n",
       "    }\n",
       "</style>\n",
       "<table border=\"1\" class=\"dataframe\">\n",
       "  <thead>\n",
       "    <tr style=\"text-align: right;\">\n",
       "      <th></th>\n",
       "      <th>LV1</th>\n",
       "      <th>LV2</th>\n",
       "      <th>LV3</th>\n",
       "      <th>LV4</th>\n",
       "      <th>LV5</th>\n",
       "      <th>LV6</th>\n",
       "      <th>LV7</th>\n",
       "      <th>LV8</th>\n",
       "      <th>LV9</th>\n",
       "      <th>LV10</th>\n",
       "      <th>...</th>\n",
       "      <th>LV978</th>\n",
       "      <th>LV979</th>\n",
       "      <th>LV980</th>\n",
       "      <th>LV981</th>\n",
       "      <th>LV982</th>\n",
       "      <th>LV983</th>\n",
       "      <th>LV984</th>\n",
       "      <th>LV985</th>\n",
       "      <th>LV986</th>\n",
       "      <th>LV987</th>\n",
       "    </tr>\n",
       "  </thead>\n",
       "  <tbody>\n",
       "    <tr>\n",
       "      <th>100001_raw-Food_weight</th>\n",
       "      <td>-0.695006</td>\n",
       "      <td>1.962565</td>\n",
       "      <td>0.057683</td>\n",
       "      <td>0.878731</td>\n",
       "      <td>-0.539977</td>\n",
       "      <td>1.481272</td>\n",
       "      <td>-0.396422</td>\n",
       "      <td>1.090180</td>\n",
       "      <td>0.759223</td>\n",
       "      <td>0.931395</td>\n",
       "      <td>...</td>\n",
       "      <td>1.129784</td>\n",
       "      <td>1.752343</td>\n",
       "      <td>-1.411403</td>\n",
       "      <td>2.823863</td>\n",
       "      <td>0.931116</td>\n",
       "      <td>-1.054519</td>\n",
       "      <td>0.432982</td>\n",
       "      <td>-0.633597</td>\n",
       "      <td>0.554279</td>\n",
       "      <td>-0.642479</td>\n",
       "    </tr>\n",
       "    <tr>\n",
       "      <th>100002_raw-Energy</th>\n",
       "      <td>-1.528127</td>\n",
       "      <td>-0.345309</td>\n",
       "      <td>-0.148953</td>\n",
       "      <td>-0.242060</td>\n",
       "      <td>0.373427</td>\n",
       "      <td>0.791092</td>\n",
       "      <td>0.263477</td>\n",
       "      <td>0.987702</td>\n",
       "      <td>0.354391</td>\n",
       "      <td>1.416059</td>\n",
       "      <td>...</td>\n",
       "      <td>0.224604</td>\n",
       "      <td>0.769882</td>\n",
       "      <td>-0.509482</td>\n",
       "      <td>0.091153</td>\n",
       "      <td>2.286789</td>\n",
       "      <td>-1.008256</td>\n",
       "      <td>-0.029764</td>\n",
       "      <td>1.737229</td>\n",
       "      <td>-0.272107</td>\n",
       "      <td>-0.526125</td>\n",
       "    </tr>\n",
       "    <tr>\n",
       "      <th>100003_raw-Protein</th>\n",
       "      <td>-0.704572</td>\n",
       "      <td>-1.011299</td>\n",
       "      <td>0.671420</td>\n",
       "      <td>0.143991</td>\n",
       "      <td>0.615212</td>\n",
       "      <td>0.874212</td>\n",
       "      <td>-0.040998</td>\n",
       "      <td>0.915170</td>\n",
       "      <td>0.254369</td>\n",
       "      <td>-0.084237</td>\n",
       "      <td>...</td>\n",
       "      <td>1.003019</td>\n",
       "      <td>1.044314</td>\n",
       "      <td>-2.376108</td>\n",
       "      <td>0.004778</td>\n",
       "      <td>0.053714</td>\n",
       "      <td>-0.892447</td>\n",
       "      <td>-0.183800</td>\n",
       "      <td>1.377991</td>\n",
       "      <td>-0.278794</td>\n",
       "      <td>-0.419733</td>\n",
       "    </tr>\n",
       "    <tr>\n",
       "      <th>100004_raw-Fat</th>\n",
       "      <td>-0.989832</td>\n",
       "      <td>-1.875490</td>\n",
       "      <td>0.261555</td>\n",
       "      <td>-1.420719</td>\n",
       "      <td>0.366238</td>\n",
       "      <td>1.167049</td>\n",
       "      <td>0.257387</td>\n",
       "      <td>0.717674</td>\n",
       "      <td>-0.997664</td>\n",
       "      <td>0.969825</td>\n",
       "      <td>...</td>\n",
       "      <td>0.585913</td>\n",
       "      <td>0.638314</td>\n",
       "      <td>0.119139</td>\n",
       "      <td>-0.140204</td>\n",
       "      <td>1.394326</td>\n",
       "      <td>-1.173402</td>\n",
       "      <td>0.555058</td>\n",
       "      <td>1.013982</td>\n",
       "      <td>-0.544506</td>\n",
       "      <td>-0.064061</td>\n",
       "    </tr>\n",
       "    <tr>\n",
       "      <th>100005_raw-Carbohydrate</th>\n",
       "      <td>-0.580143</td>\n",
       "      <td>0.243335</td>\n",
       "      <td>0.158966</td>\n",
       "      <td>-0.036558</td>\n",
       "      <td>0.068176</td>\n",
       "      <td>-0.202639</td>\n",
       "      <td>1.101281</td>\n",
       "      <td>0.675227</td>\n",
       "      <td>1.463432</td>\n",
       "      <td>1.010078</td>\n",
       "      <td>...</td>\n",
       "      <td>-0.249108</td>\n",
       "      <td>-0.026814</td>\n",
       "      <td>0.232713</td>\n",
       "      <td>0.323682</td>\n",
       "      <td>1.168642</td>\n",
       "      <td>-0.282935</td>\n",
       "      <td>0.653105</td>\n",
       "      <td>1.909526</td>\n",
       "      <td>0.199997</td>\n",
       "      <td>-1.656894</td>\n",
       "    </tr>\n",
       "  </tbody>\n",
       "</table>\n",
       "<p>5 rows × 987 columns</p>\n",
       "</div>"
      ],
      "text/plain": [
       "                              LV1       LV2       LV3       LV4       LV5  \\\n",
       "100001_raw-Food_weight  -0.695006  1.962565  0.057683  0.878731 -0.539977   \n",
       "100002_raw-Energy       -1.528127 -0.345309 -0.148953 -0.242060  0.373427   \n",
       "100003_raw-Protein      -0.704572 -1.011299  0.671420  0.143991  0.615212   \n",
       "100004_raw-Fat          -0.989832 -1.875490  0.261555 -1.420719  0.366238   \n",
       "100005_raw-Carbohydrate -0.580143  0.243335  0.158966 -0.036558  0.068176   \n",
       "\n",
       "                              LV6       LV7       LV8       LV9      LV10  \\\n",
       "100001_raw-Food_weight   1.481272 -0.396422  1.090180  0.759223  0.931395   \n",
       "100002_raw-Energy        0.791092  0.263477  0.987702  0.354391  1.416059   \n",
       "100003_raw-Protein       0.874212 -0.040998  0.915170  0.254369 -0.084237   \n",
       "100004_raw-Fat           1.167049  0.257387  0.717674 -0.997664  0.969825   \n",
       "100005_raw-Carbohydrate -0.202639  1.101281  0.675227  1.463432  1.010078   \n",
       "\n",
       "                         ...     LV978     LV979     LV980     LV981  \\\n",
       "100001_raw-Food_weight   ...  1.129784  1.752343 -1.411403  2.823863   \n",
       "100002_raw-Energy        ...  0.224604  0.769882 -0.509482  0.091153   \n",
       "100003_raw-Protein       ...  1.003019  1.044314 -2.376108  0.004778   \n",
       "100004_raw-Fat           ...  0.585913  0.638314  0.119139 -0.140204   \n",
       "100005_raw-Carbohydrate  ... -0.249108 -0.026814  0.232713  0.323682   \n",
       "\n",
       "                            LV982     LV983     LV984     LV985     LV986  \\\n",
       "100001_raw-Food_weight   0.931116 -1.054519  0.432982 -0.633597  0.554279   \n",
       "100002_raw-Energy        2.286789 -1.008256 -0.029764  1.737229 -0.272107   \n",
       "100003_raw-Protein       0.053714 -0.892447 -0.183800  1.377991 -0.278794   \n",
       "100004_raw-Fat           1.394326 -1.173402  0.555058  1.013982 -0.544506   \n",
       "100005_raw-Carbohydrate  1.168642 -0.282935  0.653105  1.909526  0.199997   \n",
       "\n",
       "                            LV987  \n",
       "100001_raw-Food_weight  -0.642479  \n",
       "100002_raw-Energy       -0.526125  \n",
       "100003_raw-Protein      -0.419733  \n",
       "100004_raw-Fat          -0.064061  \n",
       "100005_raw-Carbohydrate -1.656894  \n",
       "\n",
       "[5 rows x 987 columns]"
      ]
     },
     "execution_count": 15,
     "metadata": {},
     "output_type": "execute_result"
    }
   ],
   "source": [
    "data.head()"
   ]
  },
  {
   "cell_type": "markdown",
   "id": "earlier-luther",
   "metadata": {},
   "source": [
    "## LV data"
   ]
  },
  {
   "cell_type": "code",
   "execution_count": 16,
   "id": "greatest-prefix",
   "metadata": {},
   "outputs": [],
   "source": [
    "lv_obj = LVAnalysis(LV_NAME, data)"
   ]
  },
  {
   "cell_type": "code",
   "execution_count": 17,
   "id": "disabled-prairie",
   "metadata": {},
   "outputs": [
    {
     "name": "stderr",
     "output_type": "stream",
     "text": [
      "[2021-08-02 22:31:34,947 - numexpr.utils] INFO: NumExpr defaulting to 8 threads.\n"
     ]
    },
    {
     "data": {
      "text/html": [
       "<div>\n",
       "<style scoped>\n",
       "    .dataframe tbody tr th:only-of-type {\n",
       "        vertical-align: middle;\n",
       "    }\n",
       "\n",
       "    .dataframe tbody tr th {\n",
       "        vertical-align: top;\n",
       "    }\n",
       "\n",
       "    .dataframe thead th {\n",
       "        text-align: right;\n",
       "    }\n",
       "</style>\n",
       "<table border=\"1\" class=\"dataframe\">\n",
       "  <thead>\n",
       "    <tr style=\"text-align: right;\">\n",
       "      <th></th>\n",
       "      <th>pathway</th>\n",
       "      <th>LV index</th>\n",
       "      <th>AUC</th>\n",
       "      <th>p-value</th>\n",
       "      <th>FDR</th>\n",
       "    </tr>\n",
       "  </thead>\n",
       "  <tbody>\n",
       "  </tbody>\n",
       "</table>\n",
       "</div>"
      ],
      "text/plain": [
       "Empty DataFrame\n",
       "Columns: [pathway, LV index, AUC, p-value, FDR]\n",
       "Index: []"
      ]
     },
     "execution_count": 17,
     "metadata": {},
     "output_type": "execute_result"
    }
   ],
   "source": [
    "multiplier_model_summary[\n",
    "    multiplier_model_summary[\"LV index\"].isin((LV_NAME[2:],))\n",
    "    & (\n",
    "        (multiplier_model_summary[\"FDR\"] < 0.05)\n",
    "        | (multiplier_model_summary[\"AUC\"] >= 0.75)\n",
    "    )\n",
    "]"
   ]
  },
  {
   "cell_type": "code",
   "execution_count": 18,
   "id": "domestic-module",
   "metadata": {},
   "outputs": [
    {
     "name": "stdout",
     "output_type": "stream",
     "text": [
      "SRP036821, SRP019994, SRP056733, SRP034953, SRP006575, SRP015670, SRP009251, SRP039361, SRP017575, SRP042031, SRP033276, SRP057196, SRP039338, SRP042161, SRP039591, SRP027383, SRP007359, SRP052740, SRP050146, SRP051368, SRP023262, SRP044668, SRP055513, SRP063838, SRP065445, SRP019936, SRP056696, SRP007338, SRP055569, SRP020470, SRP055153, SRP056840, SRP050000, SRP056295, SRP007461, SRP053101, SRP003726, SRP041538, SRP048801, SRP058237, "
     ]
    },
    {
     "name": "stderr",
     "output_type": "stream",
     "text": [
      "/home/miltondp/projects/labs/greenelab/phenoplier/libs/data/recount2.py:320: UserWarning: Not all experiments data could be loaded (39 != 40)\n",
      "  warnings.warn(\n"
     ]
    }
   ],
   "source": [
    "lv_data = lv_obj.get_experiments_data()"
   ]
  },
  {
   "cell_type": "code",
   "execution_count": 19,
   "id": "foreign-shock",
   "metadata": {},
   "outputs": [
    {
     "data": {
      "text/plain": [
       "(4996, 60)"
      ]
     },
     "execution_count": 19,
     "metadata": {},
     "output_type": "execute_result"
    }
   ],
   "source": [
    "lv_data.shape"
   ]
  },
  {
   "cell_type": "code",
   "execution_count": 20,
   "id": "artificial-cedar",
   "metadata": {},
   "outputs": [
    {
     "data": {
      "text/html": [
       "<div>\n",
       "<style scoped>\n",
       "    .dataframe tbody tr th:only-of-type {\n",
       "        vertical-align: middle;\n",
       "    }\n",
       "\n",
       "    .dataframe tbody tr th {\n",
       "        vertical-align: top;\n",
       "    }\n",
       "\n",
       "    .dataframe thead th {\n",
       "        text-align: right;\n",
       "    }\n",
       "</style>\n",
       "<table border=\"1\" class=\"dataframe\">\n",
       "  <thead>\n",
       "    <tr style=\"text-align: right;\">\n",
       "      <th></th>\n",
       "      <th></th>\n",
       "      <th>tissue</th>\n",
       "      <th>tissue subtype</th>\n",
       "      <th>tissue archive method</th>\n",
       "      <th>source</th>\n",
       "      <th>subtypes</th>\n",
       "      <th>individual</th>\n",
       "      <th>agent</th>\n",
       "      <th>time point</th>\n",
       "      <th>batch</th>\n",
       "      <th>rin</th>\n",
       "      <th>...</th>\n",
       "      <th>lactation stage</th>\n",
       "      <th>extraction protocol</th>\n",
       "      <th>sirs outcomes</th>\n",
       "      <th>sirs vs sepsis</th>\n",
       "      <th>time</th>\n",
       "      <th>type of surgical procedure</th>\n",
       "      <th>cell marker</th>\n",
       "      <th>age at diagnosis</th>\n",
       "      <th>paris age at diagnosis</th>\n",
       "      <th>LV21</th>\n",
       "    </tr>\n",
       "    <tr>\n",
       "      <th>project</th>\n",
       "      <th>run</th>\n",
       "      <th></th>\n",
       "      <th></th>\n",
       "      <th></th>\n",
       "      <th></th>\n",
       "      <th></th>\n",
       "      <th></th>\n",
       "      <th></th>\n",
       "      <th></th>\n",
       "      <th></th>\n",
       "      <th></th>\n",
       "      <th></th>\n",
       "      <th></th>\n",
       "      <th></th>\n",
       "      <th></th>\n",
       "      <th></th>\n",
       "      <th></th>\n",
       "      <th></th>\n",
       "      <th></th>\n",
       "      <th></th>\n",
       "      <th></th>\n",
       "      <th></th>\n",
       "    </tr>\n",
       "  </thead>\n",
       "  <tbody>\n",
       "    <tr>\n",
       "      <th rowspan=\"5\" valign=\"top\">SRP036821</th>\n",
       "      <th>SRR1163240</th>\n",
       "      <td>soft tissue sarcoma</td>\n",
       "      <td>GIST WT</td>\n",
       "      <td>FFPE</td>\n",
       "      <td>Stanford Surgical</td>\n",
       "      <td>NaN</td>\n",
       "      <td>NaN</td>\n",
       "      <td>NaN</td>\n",
       "      <td>NaN</td>\n",
       "      <td>NaN</td>\n",
       "      <td>NaN</td>\n",
       "      <td>...</td>\n",
       "      <td>NaN</td>\n",
       "      <td>NaN</td>\n",
       "      <td>NaN</td>\n",
       "      <td>NaN</td>\n",
       "      <td>NaN</td>\n",
       "      <td>NaN</td>\n",
       "      <td>NaN</td>\n",
       "      <td>NaN</td>\n",
       "      <td>NaN</td>\n",
       "      <td>-0.169894</td>\n",
       "    </tr>\n",
       "    <tr>\n",
       "      <th>SRR1163241</th>\n",
       "      <td>soft tissue sarcoma</td>\n",
       "      <td>GIST WT</td>\n",
       "      <td>FFPE</td>\n",
       "      <td>Stanford Surgical</td>\n",
       "      <td>NaN</td>\n",
       "      <td>NaN</td>\n",
       "      <td>NaN</td>\n",
       "      <td>NaN</td>\n",
       "      <td>NaN</td>\n",
       "      <td>NaN</td>\n",
       "      <td>...</td>\n",
       "      <td>NaN</td>\n",
       "      <td>NaN</td>\n",
       "      <td>NaN</td>\n",
       "      <td>NaN</td>\n",
       "      <td>NaN</td>\n",
       "      <td>NaN</td>\n",
       "      <td>NaN</td>\n",
       "      <td>NaN</td>\n",
       "      <td>NaN</td>\n",
       "      <td>-0.026403</td>\n",
       "    </tr>\n",
       "    <tr>\n",
       "      <th>SRR1163242</th>\n",
       "      <td>soft tissue sarcoma</td>\n",
       "      <td>GIST WT</td>\n",
       "      <td>FFPE</td>\n",
       "      <td>Stanford Surgical</td>\n",
       "      <td>NaN</td>\n",
       "      <td>NaN</td>\n",
       "      <td>NaN</td>\n",
       "      <td>NaN</td>\n",
       "      <td>NaN</td>\n",
       "      <td>NaN</td>\n",
       "      <td>...</td>\n",
       "      <td>NaN</td>\n",
       "      <td>NaN</td>\n",
       "      <td>NaN</td>\n",
       "      <td>NaN</td>\n",
       "      <td>NaN</td>\n",
       "      <td>NaN</td>\n",
       "      <td>NaN</td>\n",
       "      <td>NaN</td>\n",
       "      <td>NaN</td>\n",
       "      <td>0.175215</td>\n",
       "    </tr>\n",
       "    <tr>\n",
       "      <th>SRR1163243</th>\n",
       "      <td>soft tissue sarcoma</td>\n",
       "      <td>GIST WT</td>\n",
       "      <td>FFPE</td>\n",
       "      <td>Stanford Surgical</td>\n",
       "      <td>NaN</td>\n",
       "      <td>NaN</td>\n",
       "      <td>NaN</td>\n",
       "      <td>NaN</td>\n",
       "      <td>NaN</td>\n",
       "      <td>NaN</td>\n",
       "      <td>...</td>\n",
       "      <td>NaN</td>\n",
       "      <td>NaN</td>\n",
       "      <td>NaN</td>\n",
       "      <td>NaN</td>\n",
       "      <td>NaN</td>\n",
       "      <td>NaN</td>\n",
       "      <td>NaN</td>\n",
       "      <td>NaN</td>\n",
       "      <td>NaN</td>\n",
       "      <td>-0.028448</td>\n",
       "    </tr>\n",
       "    <tr>\n",
       "      <th>SRR1163244</th>\n",
       "      <td>soft tissue sarcoma</td>\n",
       "      <td>GIST WT</td>\n",
       "      <td>FFPE</td>\n",
       "      <td>Stanford Surgical</td>\n",
       "      <td>NaN</td>\n",
       "      <td>NaN</td>\n",
       "      <td>NaN</td>\n",
       "      <td>NaN</td>\n",
       "      <td>NaN</td>\n",
       "      <td>NaN</td>\n",
       "      <td>...</td>\n",
       "      <td>NaN</td>\n",
       "      <td>NaN</td>\n",
       "      <td>NaN</td>\n",
       "      <td>NaN</td>\n",
       "      <td>NaN</td>\n",
       "      <td>NaN</td>\n",
       "      <td>NaN</td>\n",
       "      <td>NaN</td>\n",
       "      <td>NaN</td>\n",
       "      <td>-0.117046</td>\n",
       "    </tr>\n",
       "  </tbody>\n",
       "</table>\n",
       "<p>5 rows × 60 columns</p>\n",
       "</div>"
      ],
      "text/plain": [
       "                                   tissue tissue subtype  \\\n",
       "project   run                                              \n",
       "SRP036821 SRR1163240  soft tissue sarcoma        GIST WT   \n",
       "          SRR1163241  soft tissue sarcoma        GIST WT   \n",
       "          SRR1163242  soft tissue sarcoma        GIST WT   \n",
       "          SRR1163243  soft tissue sarcoma        GIST WT   \n",
       "          SRR1163244  soft tissue sarcoma        GIST WT   \n",
       "\n",
       "                     tissue archive method             source subtypes  \\\n",
       "project   run                                                            \n",
       "SRP036821 SRR1163240                  FFPE  Stanford Surgical      NaN   \n",
       "          SRR1163241                  FFPE  Stanford Surgical      NaN   \n",
       "          SRR1163242                  FFPE  Stanford Surgical      NaN   \n",
       "          SRR1163243                  FFPE  Stanford Surgical      NaN   \n",
       "          SRR1163244                  FFPE  Stanford Surgical      NaN   \n",
       "\n",
       "                     individual agent time point batch  rin  ...  \\\n",
       "project   run                                                ...   \n",
       "SRP036821 SRR1163240        NaN   NaN        NaN   NaN  NaN  ...   \n",
       "          SRR1163241        NaN   NaN        NaN   NaN  NaN  ...   \n",
       "          SRR1163242        NaN   NaN        NaN   NaN  NaN  ...   \n",
       "          SRR1163243        NaN   NaN        NaN   NaN  NaN  ...   \n",
       "          SRR1163244        NaN   NaN        NaN   NaN  NaN  ...   \n",
       "\n",
       "                     lactation stage extraction protocol sirs outcomes  \\\n",
       "project   run                                                            \n",
       "SRP036821 SRR1163240             NaN                 NaN           NaN   \n",
       "          SRR1163241             NaN                 NaN           NaN   \n",
       "          SRR1163242             NaN                 NaN           NaN   \n",
       "          SRR1163243             NaN                 NaN           NaN   \n",
       "          SRR1163244             NaN                 NaN           NaN   \n",
       "\n",
       "                     sirs vs sepsis time type of surgical procedure  \\\n",
       "project   run                                                         \n",
       "SRP036821 SRR1163240            NaN  NaN                        NaN   \n",
       "          SRR1163241            NaN  NaN                        NaN   \n",
       "          SRR1163242            NaN  NaN                        NaN   \n",
       "          SRR1163243            NaN  NaN                        NaN   \n",
       "          SRR1163244            NaN  NaN                        NaN   \n",
       "\n",
       "                     cell marker age at diagnosis paris age at diagnosis  \\\n",
       "project   run                                                              \n",
       "SRP036821 SRR1163240         NaN              NaN                    NaN   \n",
       "          SRR1163241         NaN              NaN                    NaN   \n",
       "          SRR1163242         NaN              NaN                    NaN   \n",
       "          SRR1163243         NaN              NaN                    NaN   \n",
       "          SRR1163244         NaN              NaN                    NaN   \n",
       "\n",
       "                          LV21  \n",
       "project   run                   \n",
       "SRP036821 SRR1163240 -0.169894  \n",
       "          SRR1163241 -0.026403  \n",
       "          SRR1163242  0.175215  \n",
       "          SRR1163243 -0.028448  \n",
       "          SRR1163244 -0.117046  \n",
       "\n",
       "[5 rows x 60 columns]"
      ]
     },
     "execution_count": 20,
     "metadata": {},
     "output_type": "execute_result"
    }
   ],
   "source": [
    "lv_data.head()"
   ]
  },
  {
   "cell_type": "markdown",
   "id": "synthetic-burden",
   "metadata": {},
   "source": [
    "# LV cell types analysis"
   ]
  },
  {
   "cell_type": "markdown",
   "id": "ongoing-method",
   "metadata": {},
   "source": [
    "## Get top attributes"
   ]
  },
  {
   "cell_type": "code",
   "execution_count": 21,
   "id": "amateur-underwear",
   "metadata": {},
   "outputs": [
    {
     "data": {
      "text/plain": [
       "tissue subtype           0.779893\n",
       "source                   0.700917\n",
       "tissue archive method    0.189722\n",
       "subtypes                 0.161541\n",
       "barcode                  0.132363\n",
       "individual               0.080804\n",
       "agent                    0.080804\n",
       "time point               0.080804\n",
       "batch                    0.080804\n",
       "rin                      0.080804\n",
       "illumina_index           0.080804\n",
       "treatment                0.055286\n",
       "donor identifier         0.050585\n",
       "clinical form            0.045052\n",
       "parasite                 0.045052\n",
       "karyotype                0.044127\n",
       "block storage            0.042534\n",
       "tissue group             0.042534\n",
       "stromal signature        0.038487\n",
       "prognosis                0.038487\n",
       "dtype: float64"
      ]
     },
     "metadata": {},
     "output_type": "display_data"
    }
   ],
   "source": [
    "lv_attrs = lv_obj.get_attributes_variation_score()\n",
    "display(lv_attrs.head(20))"
   ]
  },
  {
   "cell_type": "code",
   "execution_count": 22,
   "id": "suffering-alliance",
   "metadata": {},
   "outputs": [
    {
     "data": {
      "text/plain": [
       "tissue subtype    0.779893\n",
       "tissue            0.035295\n",
       "cell type         0.005894\n",
       "tissue type       0.003928\n",
       "dtype: float64"
      ]
     },
     "execution_count": 22,
     "metadata": {},
     "output_type": "execute_result"
    }
   ],
   "source": [
    "# show those with cell type or tissue in their name\n",
    "_tmp = pd.Series(lv_attrs.index)\n",
    "lv_attrs[\n",
    "    _tmp.str.match(\n",
    "        \"(?:cell.+type$)|(?:tissue$)|(?:tissue.+type$)\",\n",
    "        case=False,\n",
    "        flags=re.IGNORECASE,\n",
    "    ).values\n",
    "].sort_values(ascending=False)"
   ]
  },
  {
   "cell_type": "code",
   "execution_count": 23,
   "id": "narrative-pendant",
   "metadata": {},
   "outputs": [],
   "source": [
    "_tmp = lv_data.loc[\n",
    "    :,\n",
    "    [\n",
    "        \"cell type\",\n",
    "        \"tissue subtype\",\n",
    "        \"tissue\",\n",
    "        \"tissue type\",\n",
    "        \"subtypes\",\n",
    "        LV_NAME,\n",
    "    ],\n",
    "]"
   ]
  },
  {
   "cell_type": "code",
   "execution_count": 24,
   "id": "abroad-belize",
   "metadata": {},
   "outputs": [],
   "source": [
    "_tmp_seq = list(chunker(_tmp.sort_values(LV_NAME, ascending=False), 25))"
   ]
  },
  {
   "cell_type": "code",
   "execution_count": 25,
   "id": "opposite-knight",
   "metadata": {},
   "outputs": [
    {
     "data": {
      "text/html": [
       "<div>\n",
       "<style scoped>\n",
       "    .dataframe tbody tr th:only-of-type {\n",
       "        vertical-align: middle;\n",
       "    }\n",
       "\n",
       "    .dataframe tbody tr th {\n",
       "        vertical-align: top;\n",
       "    }\n",
       "\n",
       "    .dataframe thead th {\n",
       "        text-align: right;\n",
       "    }\n",
       "</style>\n",
       "<table border=\"1\" class=\"dataframe\">\n",
       "  <thead>\n",
       "    <tr style=\"text-align: right;\">\n",
       "      <th></th>\n",
       "      <th></th>\n",
       "      <th>cell type</th>\n",
       "      <th>tissue subtype</th>\n",
       "      <th>tissue</th>\n",
       "      <th>tissue type</th>\n",
       "      <th>subtypes</th>\n",
       "      <th>LV21</th>\n",
       "    </tr>\n",
       "    <tr>\n",
       "      <th>project</th>\n",
       "      <th>run</th>\n",
       "      <th></th>\n",
       "      <th></th>\n",
       "      <th></th>\n",
       "      <th></th>\n",
       "      <th></th>\n",
       "      <th></th>\n",
       "    </tr>\n",
       "  </thead>\n",
       "  <tbody>\n",
       "    <tr>\n",
       "      <th rowspan=\"5\" valign=\"top\">SRP036821</th>\n",
       "      <th>SRR1163276</th>\n",
       "      <td>NaN</td>\n",
       "      <td>TGCT</td>\n",
       "      <td>soft tissue sarcoma</td>\n",
       "      <td>NaN</td>\n",
       "      <td>NaN</td>\n",
       "      <td>2.805557</td>\n",
       "    </tr>\n",
       "    <tr>\n",
       "      <th>SRR1163281</th>\n",
       "      <td>NaN</td>\n",
       "      <td>PVNS</td>\n",
       "      <td>soft tissue sarcoma</td>\n",
       "      <td>NaN</td>\n",
       "      <td>NaN</td>\n",
       "      <td>2.711966</td>\n",
       "    </tr>\n",
       "    <tr>\n",
       "      <th>SRR1163277</th>\n",
       "      <td>NaN</td>\n",
       "      <td>TGCT</td>\n",
       "      <td>soft tissue sarcoma</td>\n",
       "      <td>NaN</td>\n",
       "      <td>NaN</td>\n",
       "      <td>2.668394</td>\n",
       "    </tr>\n",
       "    <tr>\n",
       "      <th>SRR1163280</th>\n",
       "      <td>NaN</td>\n",
       "      <td>PVNS</td>\n",
       "      <td>soft tissue sarcoma</td>\n",
       "      <td>NaN</td>\n",
       "      <td>NaN</td>\n",
       "      <td>2.577087</td>\n",
       "    </tr>\n",
       "    <tr>\n",
       "      <th>SRR1163278</th>\n",
       "      <td>NaN</td>\n",
       "      <td>TGCT</td>\n",
       "      <td>soft tissue sarcoma</td>\n",
       "      <td>NaN</td>\n",
       "      <td>NaN</td>\n",
       "      <td>2.229018</td>\n",
       "    </tr>\n",
       "    <tr>\n",
       "      <th>SRP019994</th>\n",
       "      <th>SRR797140</th>\n",
       "      <td>NaN</td>\n",
       "      <td>NaN</td>\n",
       "      <td>Soft Tissue</td>\n",
       "      <td>NaN</td>\n",
       "      <td>II</td>\n",
       "      <td>2.053908</td>\n",
       "    </tr>\n",
       "    <tr>\n",
       "      <th>SRP036821</th>\n",
       "      <th>SRR1163279</th>\n",
       "      <td>NaN</td>\n",
       "      <td>PVNS</td>\n",
       "      <td>soft tissue sarcoma</td>\n",
       "      <td>NaN</td>\n",
       "      <td>NaN</td>\n",
       "      <td>1.975874</td>\n",
       "    </tr>\n",
       "    <tr>\n",
       "      <th rowspan=\"2\" valign=\"top\">SRP019994</th>\n",
       "      <th>SRR797105</th>\n",
       "      <td>NaN</td>\n",
       "      <td>NaN</td>\n",
       "      <td>Soft Tissue</td>\n",
       "      <td>NaN</td>\n",
       "      <td>II</td>\n",
       "      <td>1.904197</td>\n",
       "    </tr>\n",
       "    <tr>\n",
       "      <th>SRR797141</th>\n",
       "      <td>NaN</td>\n",
       "      <td>NaN</td>\n",
       "      <td>Soft Tissue</td>\n",
       "      <td>NaN</td>\n",
       "      <td>Not assigned</td>\n",
       "      <td>1.894343</td>\n",
       "    </tr>\n",
       "    <tr>\n",
       "      <th rowspan=\"3\" valign=\"top\">SRP056733</th>\n",
       "      <th>SRR1947507</th>\n",
       "      <td>NaN</td>\n",
       "      <td>NaN</td>\n",
       "      <td>NaN</td>\n",
       "      <td>NaN</td>\n",
       "      <td>NaN</td>\n",
       "      <td>1.266271</td>\n",
       "    </tr>\n",
       "    <tr>\n",
       "      <th>SRR1947557</th>\n",
       "      <td>NaN</td>\n",
       "      <td>NaN</td>\n",
       "      <td>NaN</td>\n",
       "      <td>NaN</td>\n",
       "      <td>NaN</td>\n",
       "      <td>1.187636</td>\n",
       "    </tr>\n",
       "    <tr>\n",
       "      <th>SRR1947496</th>\n",
       "      <td>NaN</td>\n",
       "      <td>NaN</td>\n",
       "      <td>NaN</td>\n",
       "      <td>NaN</td>\n",
       "      <td>NaN</td>\n",
       "      <td>1.163507</td>\n",
       "    </tr>\n",
       "    <tr>\n",
       "      <th>SRP019994</th>\n",
       "      <th>SRR797089</th>\n",
       "      <td>NaN</td>\n",
       "      <td>NaN</td>\n",
       "      <td>Soft Tissue</td>\n",
       "      <td>NaN</td>\n",
       "      <td>II</td>\n",
       "      <td>1.148029</td>\n",
       "    </tr>\n",
       "    <tr>\n",
       "      <th rowspan=\"7\" valign=\"top\">SRP056733</th>\n",
       "      <th>SRR1947594</th>\n",
       "      <td>NaN</td>\n",
       "      <td>NaN</td>\n",
       "      <td>NaN</td>\n",
       "      <td>NaN</td>\n",
       "      <td>NaN</td>\n",
       "      <td>1.114567</td>\n",
       "    </tr>\n",
       "    <tr>\n",
       "      <th>SRR1947492</th>\n",
       "      <td>NaN</td>\n",
       "      <td>NaN</td>\n",
       "      <td>NaN</td>\n",
       "      <td>NaN</td>\n",
       "      <td>NaN</td>\n",
       "      <td>1.111283</td>\n",
       "    </tr>\n",
       "    <tr>\n",
       "      <th>SRR1947581</th>\n",
       "      <td>NaN</td>\n",
       "      <td>NaN</td>\n",
       "      <td>NaN</td>\n",
       "      <td>NaN</td>\n",
       "      <td>NaN</td>\n",
       "      <td>1.085258</td>\n",
       "    </tr>\n",
       "    <tr>\n",
       "      <th>SRR1947613</th>\n",
       "      <td>NaN</td>\n",
       "      <td>NaN</td>\n",
       "      <td>NaN</td>\n",
       "      <td>NaN</td>\n",
       "      <td>NaN</td>\n",
       "      <td>1.071254</td>\n",
       "    </tr>\n",
       "    <tr>\n",
       "      <th>SRR1947588</th>\n",
       "      <td>NaN</td>\n",
       "      <td>NaN</td>\n",
       "      <td>NaN</td>\n",
       "      <td>NaN</td>\n",
       "      <td>NaN</td>\n",
       "      <td>1.030831</td>\n",
       "    </tr>\n",
       "    <tr>\n",
       "      <th>SRR1947490</th>\n",
       "      <td>NaN</td>\n",
       "      <td>NaN</td>\n",
       "      <td>NaN</td>\n",
       "      <td>NaN</td>\n",
       "      <td>NaN</td>\n",
       "      <td>1.015696</td>\n",
       "    </tr>\n",
       "    <tr>\n",
       "      <th>SRR1947607</th>\n",
       "      <td>NaN</td>\n",
       "      <td>NaN</td>\n",
       "      <td>NaN</td>\n",
       "      <td>NaN</td>\n",
       "      <td>NaN</td>\n",
       "      <td>0.978262</td>\n",
       "    </tr>\n",
       "    <tr>\n",
       "      <th>SRP019994</th>\n",
       "      <th>SRR797148</th>\n",
       "      <td>NaN</td>\n",
       "      <td>NaN</td>\n",
       "      <td>Soft Tissue</td>\n",
       "      <td>NaN</td>\n",
       "      <td>III</td>\n",
       "      <td>0.946883</td>\n",
       "    </tr>\n",
       "    <tr>\n",
       "      <th>SRP034953</th>\n",
       "      <th>SRR1101240</th>\n",
       "      <td>NaN</td>\n",
       "      <td>NaN</td>\n",
       "      <td>Soft Tissue</td>\n",
       "      <td>NaN</td>\n",
       "      <td>NaN</td>\n",
       "      <td>0.941584</td>\n",
       "    </tr>\n",
       "    <tr>\n",
       "      <th rowspan=\"2\" valign=\"top\">SRP056733</th>\n",
       "      <th>SRR1947504</th>\n",
       "      <td>NaN</td>\n",
       "      <td>NaN</td>\n",
       "      <td>NaN</td>\n",
       "      <td>NaN</td>\n",
       "      <td>NaN</td>\n",
       "      <td>0.938085</td>\n",
       "    </tr>\n",
       "    <tr>\n",
       "      <th>SRR1947584</th>\n",
       "      <td>NaN</td>\n",
       "      <td>NaN</td>\n",
       "      <td>NaN</td>\n",
       "      <td>NaN</td>\n",
       "      <td>NaN</td>\n",
       "      <td>0.929648</td>\n",
       "    </tr>\n",
       "    <tr>\n",
       "      <th>SRP019994</th>\n",
       "      <th>SRR797083</th>\n",
       "      <td>NaN</td>\n",
       "      <td>NaN</td>\n",
       "      <td>Soft Tissue</td>\n",
       "      <td>NaN</td>\n",
       "      <td>I</td>\n",
       "      <td>0.918350</td>\n",
       "    </tr>\n",
       "  </tbody>\n",
       "</table>\n",
       "</div>"
      ],
      "text/plain": [
       "                     cell type tissue subtype               tissue  \\\n",
       "project   run                                                        \n",
       "SRP036821 SRR1163276       NaN           TGCT  soft tissue sarcoma   \n",
       "          SRR1163281       NaN           PVNS  soft tissue sarcoma   \n",
       "          SRR1163277       NaN           TGCT  soft tissue sarcoma   \n",
       "          SRR1163280       NaN           PVNS  soft tissue sarcoma   \n",
       "          SRR1163278       NaN           TGCT  soft tissue sarcoma   \n",
       "SRP019994 SRR797140        NaN            NaN          Soft Tissue   \n",
       "SRP036821 SRR1163279       NaN           PVNS  soft tissue sarcoma   \n",
       "SRP019994 SRR797105        NaN            NaN          Soft Tissue   \n",
       "          SRR797141        NaN            NaN          Soft Tissue   \n",
       "SRP056733 SRR1947507       NaN            NaN                  NaN   \n",
       "          SRR1947557       NaN            NaN                  NaN   \n",
       "          SRR1947496       NaN            NaN                  NaN   \n",
       "SRP019994 SRR797089        NaN            NaN          Soft Tissue   \n",
       "SRP056733 SRR1947594       NaN            NaN                  NaN   \n",
       "          SRR1947492       NaN            NaN                  NaN   \n",
       "          SRR1947581       NaN            NaN                  NaN   \n",
       "          SRR1947613       NaN            NaN                  NaN   \n",
       "          SRR1947588       NaN            NaN                  NaN   \n",
       "          SRR1947490       NaN            NaN                  NaN   \n",
       "          SRR1947607       NaN            NaN                  NaN   \n",
       "SRP019994 SRR797148        NaN            NaN          Soft Tissue   \n",
       "SRP034953 SRR1101240       NaN            NaN          Soft Tissue   \n",
       "SRP056733 SRR1947504       NaN            NaN                  NaN   \n",
       "          SRR1947584       NaN            NaN                  NaN   \n",
       "SRP019994 SRR797083        NaN            NaN          Soft Tissue   \n",
       "\n",
       "                     tissue type      subtypes      LV21  \n",
       "project   run                                             \n",
       "SRP036821 SRR1163276         NaN           NaN  2.805557  \n",
       "          SRR1163281         NaN           NaN  2.711966  \n",
       "          SRR1163277         NaN           NaN  2.668394  \n",
       "          SRR1163280         NaN           NaN  2.577087  \n",
       "          SRR1163278         NaN           NaN  2.229018  \n",
       "SRP019994 SRR797140          NaN            II  2.053908  \n",
       "SRP036821 SRR1163279         NaN           NaN  1.975874  \n",
       "SRP019994 SRR797105          NaN            II  1.904197  \n",
       "          SRR797141          NaN  Not assigned  1.894343  \n",
       "SRP056733 SRR1947507         NaN           NaN  1.266271  \n",
       "          SRR1947557         NaN           NaN  1.187636  \n",
       "          SRR1947496         NaN           NaN  1.163507  \n",
       "SRP019994 SRR797089          NaN            II  1.148029  \n",
       "SRP056733 SRR1947594         NaN           NaN  1.114567  \n",
       "          SRR1947492         NaN           NaN  1.111283  \n",
       "          SRR1947581         NaN           NaN  1.085258  \n",
       "          SRR1947613         NaN           NaN  1.071254  \n",
       "          SRR1947588         NaN           NaN  1.030831  \n",
       "          SRR1947490         NaN           NaN  1.015696  \n",
       "          SRR1947607         NaN           NaN  0.978262  \n",
       "SRP019994 SRR797148          NaN           III  0.946883  \n",
       "SRP034953 SRR1101240         NaN           NaN  0.941584  \n",
       "SRP056733 SRR1947504         NaN           NaN  0.938085  \n",
       "          SRR1947584         NaN           NaN  0.929648  \n",
       "SRP019994 SRR797083          NaN             I  0.918350  "
      ]
     },
     "execution_count": 25,
     "metadata": {},
     "output_type": "execute_result"
    }
   ],
   "source": [
    "_tmp_seq[0]"
   ]
  },
  {
   "cell_type": "code",
   "execution_count": 26,
   "id": "ceramic-explosion",
   "metadata": {},
   "outputs": [
    {
     "data": {
      "text/html": [
       "<div>\n",
       "<style scoped>\n",
       "    .dataframe tbody tr th:only-of-type {\n",
       "        vertical-align: middle;\n",
       "    }\n",
       "\n",
       "    .dataframe tbody tr th {\n",
       "        vertical-align: top;\n",
       "    }\n",
       "\n",
       "    .dataframe thead th {\n",
       "        text-align: right;\n",
       "    }\n",
       "</style>\n",
       "<table border=\"1\" class=\"dataframe\">\n",
       "  <thead>\n",
       "    <tr style=\"text-align: right;\">\n",
       "      <th></th>\n",
       "      <th></th>\n",
       "      <th>individual</th>\n",
       "      <th>agent</th>\n",
       "      <th>time point</th>\n",
       "      <th>batch</th>\n",
       "      <th>rin</th>\n",
       "      <th>illumina_index</th>\n",
       "      <th>LV21</th>\n",
       "    </tr>\n",
       "    <tr>\n",
       "      <th>project</th>\n",
       "      <th>run</th>\n",
       "      <th></th>\n",
       "      <th></th>\n",
       "      <th></th>\n",
       "      <th></th>\n",
       "      <th></th>\n",
       "      <th></th>\n",
       "      <th></th>\n",
       "    </tr>\n",
       "  </thead>\n",
       "  <tbody>\n",
       "    <tr>\n",
       "      <th rowspan=\"10\" valign=\"top\">SRP056733</th>\n",
       "      <th>SRR1947507</th>\n",
       "      <td>M374</td>\n",
       "      <td>none</td>\n",
       "      <td>48</td>\n",
       "      <td>2</td>\n",
       "      <td>7.3</td>\n",
       "      <td>13</td>\n",
       "      <td>1.266271</td>\n",
       "    </tr>\n",
       "    <tr>\n",
       "      <th>SRR1947557</th>\n",
       "      <td>M375</td>\n",
       "      <td>none</td>\n",
       "      <td>48</td>\n",
       "      <td>6</td>\n",
       "      <td>2.1</td>\n",
       "      <td>15</td>\n",
       "      <td>1.187636</td>\n",
       "    </tr>\n",
       "    <tr>\n",
       "      <th>SRR1947496</th>\n",
       "      <td>M377</td>\n",
       "      <td>BCG</td>\n",
       "      <td>48</td>\n",
       "      <td>1</td>\n",
       "      <td>9.5</td>\n",
       "      <td>14</td>\n",
       "      <td>1.163507</td>\n",
       "    </tr>\n",
       "    <tr>\n",
       "      <th>SRR1947594</th>\n",
       "      <td>M374</td>\n",
       "      <td>Rv+</td>\n",
       "      <td>48</td>\n",
       "      <td>9</td>\n",
       "      <td>2.8</td>\n",
       "      <td>16</td>\n",
       "      <td>1.114567</td>\n",
       "    </tr>\n",
       "    <tr>\n",
       "      <th>SRR1947492</th>\n",
       "      <td>M374</td>\n",
       "      <td>BCG</td>\n",
       "      <td>48</td>\n",
       "      <td>1</td>\n",
       "      <td>8.8</td>\n",
       "      <td>6</td>\n",
       "      <td>1.111283</td>\n",
       "    </tr>\n",
       "    <tr>\n",
       "      <th>SRR1947581</th>\n",
       "      <td>M377</td>\n",
       "      <td>none</td>\n",
       "      <td>48</td>\n",
       "      <td>8</td>\n",
       "      <td>6.6</td>\n",
       "      <td>15</td>\n",
       "      <td>1.085258</td>\n",
       "    </tr>\n",
       "    <tr>\n",
       "      <th>SRR1947613</th>\n",
       "      <td>M374</td>\n",
       "      <td>Rv</td>\n",
       "      <td>48</td>\n",
       "      <td>11</td>\n",
       "      <td>3.6</td>\n",
       "      <td>7</td>\n",
       "      <td>1.071254</td>\n",
       "    </tr>\n",
       "    <tr>\n",
       "      <th>SRR1947588</th>\n",
       "      <td>M375</td>\n",
       "      <td>Rv+</td>\n",
       "      <td>48</td>\n",
       "      <td>9</td>\n",
       "      <td>3.9</td>\n",
       "      <td>6</td>\n",
       "      <td>1.030831</td>\n",
       "    </tr>\n",
       "    <tr>\n",
       "      <th>SRR1947490</th>\n",
       "      <td>M375</td>\n",
       "      <td>Smeg</td>\n",
       "      <td>48</td>\n",
       "      <td>1</td>\n",
       "      <td>9.3</td>\n",
       "      <td>4</td>\n",
       "      <td>1.015696</td>\n",
       "    </tr>\n",
       "    <tr>\n",
       "      <th>SRR1947607</th>\n",
       "      <td>M374</td>\n",
       "      <td>Smeg</td>\n",
       "      <td>48</td>\n",
       "      <td>10</td>\n",
       "      <td>3.1</td>\n",
       "      <td>18</td>\n",
       "      <td>0.978262</td>\n",
       "    </tr>\n",
       "  </tbody>\n",
       "</table>\n",
       "</div>"
      ],
      "text/plain": [
       "                     individual agent time point batch  rin illumina_index  \\\n",
       "project   run                                                                \n",
       "SRP056733 SRR1947507       M374  none         48     2  7.3             13   \n",
       "          SRR1947557       M375  none         48     6  2.1             15   \n",
       "          SRR1947496       M377   BCG         48     1  9.5             14   \n",
       "          SRR1947594       M374   Rv+         48     9  2.8             16   \n",
       "          SRR1947492       M374   BCG         48     1  8.8              6   \n",
       "          SRR1947581       M377  none         48     8  6.6             15   \n",
       "          SRR1947613       M374    Rv         48    11  3.6              7   \n",
       "          SRR1947588       M375   Rv+         48     9  3.9              6   \n",
       "          SRR1947490       M375  Smeg         48     1  9.3              4   \n",
       "          SRR1947607       M374  Smeg         48    10  3.1             18   \n",
       "\n",
       "                          LV21  \n",
       "project   run                   \n",
       "SRP056733 SRR1947507  1.266271  \n",
       "          SRR1947557  1.187636  \n",
       "          SRR1947496  1.163507  \n",
       "          SRR1947594  1.114567  \n",
       "          SRR1947492  1.111283  \n",
       "          SRR1947581  1.085258  \n",
       "          SRR1947613  1.071254  \n",
       "          SRR1947588  1.030831  \n",
       "          SRR1947490  1.015696  \n",
       "          SRR1947607  0.978262  "
      ]
     },
     "execution_count": 26,
     "metadata": {},
     "output_type": "execute_result"
    }
   ],
   "source": [
    "# what is there in these projects?\n",
    "lv_data.loc[[\"SRP056733\"]].dropna(how=\"all\", axis=1).sort_values(\n",
    "    LV_NAME, ascending=False\n",
    ").sort_values(LV_NAME, ascending=False).head(10)"
   ]
  },
  {
   "cell_type": "markdown",
   "id": "presidential-payment",
   "metadata": {},
   "source": [
    "**SRP056733**: monocyte-derived macrophages"
   ]
  },
  {
   "cell_type": "code",
   "execution_count": 27,
   "id": "square-feeling",
   "metadata": {},
   "outputs": [],
   "source": [
    "SELECTED_ATTRIBUTE = \"cell type\""
   ]
  },
  {
   "cell_type": "code",
   "execution_count": 28,
   "id": "mature-consent",
   "metadata": {},
   "outputs": [],
   "source": [
    "# it has to be in the order desired for filling nans in the SELECTED_ATTRIBUTE\n",
    "SECOND_ATTRIBUTES = [\"tissue subtype\", \"tissue\", \"history\"]"
   ]
  },
  {
   "cell_type": "markdown",
   "id": "intelligent-general",
   "metadata": {},
   "source": [
    "## Get plot data"
   ]
  },
  {
   "cell_type": "code",
   "execution_count": 29,
   "id": "norman-washington",
   "metadata": {},
   "outputs": [],
   "source": [
    "plot_data = lv_data.loc[:, [SELECTED_ATTRIBUTE] + SECOND_ATTRIBUTES + [LV_NAME]]"
   ]
  },
  {
   "cell_type": "code",
   "execution_count": 30,
   "id": "intelligent-stuff",
   "metadata": {},
   "outputs": [],
   "source": [
    "# if blank/nan, fill cell type column with tissue content\n",
    "_new_column = plot_data[[SELECTED_ATTRIBUTE] + SECOND_ATTRIBUTES].fillna(\n",
    "    method=\"backfill\", axis=1\n",
    ")[SELECTED_ATTRIBUTE]\n",
    "plot_data[SELECTED_ATTRIBUTE] = _new_column\n",
    "plot_data = plot_data.drop(columns=SECOND_ATTRIBUTES)\n",
    "plot_data = plot_data.fillna({SELECTED_ATTRIBUTE: \"NOT CATEGORIZED\"})\n",
    "# plot_data = plot_data.dropna(subset=[SELECTED_ATTRIBUTE])"
   ]
  },
  {
   "cell_type": "code",
   "execution_count": 31,
   "id": "liquid-species",
   "metadata": {},
   "outputs": [],
   "source": [
    "plot_data = plot_data.sort_values(LV_NAME, ascending=False)"
   ]
  },
  {
   "cell_type": "code",
   "execution_count": 32,
   "id": "outer-distinction",
   "metadata": {},
   "outputs": [
    {
     "data": {
      "text/html": [
       "<div>\n",
       "<style scoped>\n",
       "    .dataframe tbody tr th:only-of-type {\n",
       "        vertical-align: middle;\n",
       "    }\n",
       "\n",
       "    .dataframe tbody tr th {\n",
       "        vertical-align: top;\n",
       "    }\n",
       "\n",
       "    .dataframe thead th {\n",
       "        text-align: right;\n",
       "    }\n",
       "</style>\n",
       "<table border=\"1\" class=\"dataframe\">\n",
       "  <thead>\n",
       "    <tr style=\"text-align: right;\">\n",
       "      <th></th>\n",
       "      <th></th>\n",
       "      <th>cell type</th>\n",
       "      <th>LV21</th>\n",
       "    </tr>\n",
       "    <tr>\n",
       "      <th>project</th>\n",
       "      <th>run</th>\n",
       "      <th></th>\n",
       "      <th></th>\n",
       "    </tr>\n",
       "  </thead>\n",
       "  <tbody>\n",
       "    <tr>\n",
       "      <th rowspan=\"5\" valign=\"top\">SRP036821</th>\n",
       "      <th>SRR1163276</th>\n",
       "      <td>TGCT</td>\n",
       "      <td>2.805557</td>\n",
       "    </tr>\n",
       "    <tr>\n",
       "      <th>SRR1163281</th>\n",
       "      <td>PVNS</td>\n",
       "      <td>2.711966</td>\n",
       "    </tr>\n",
       "    <tr>\n",
       "      <th>SRR1163277</th>\n",
       "      <td>TGCT</td>\n",
       "      <td>2.668394</td>\n",
       "    </tr>\n",
       "    <tr>\n",
       "      <th>SRR1163280</th>\n",
       "      <td>PVNS</td>\n",
       "      <td>2.577087</td>\n",
       "    </tr>\n",
       "    <tr>\n",
       "      <th>SRR1163278</th>\n",
       "      <td>TGCT</td>\n",
       "      <td>2.229018</td>\n",
       "    </tr>\n",
       "    <tr>\n",
       "      <th>SRP019994</th>\n",
       "      <th>SRR797140</th>\n",
       "      <td>Soft Tissue</td>\n",
       "      <td>2.053908</td>\n",
       "    </tr>\n",
       "    <tr>\n",
       "      <th>SRP036821</th>\n",
       "      <th>SRR1163279</th>\n",
       "      <td>PVNS</td>\n",
       "      <td>1.975874</td>\n",
       "    </tr>\n",
       "    <tr>\n",
       "      <th rowspan=\"2\" valign=\"top\">SRP019994</th>\n",
       "      <th>SRR797105</th>\n",
       "      <td>Soft Tissue</td>\n",
       "      <td>1.904197</td>\n",
       "    </tr>\n",
       "    <tr>\n",
       "      <th>SRR797141</th>\n",
       "      <td>Soft Tissue</td>\n",
       "      <td>1.894343</td>\n",
       "    </tr>\n",
       "    <tr>\n",
       "      <th rowspan=\"3\" valign=\"top\">SRP056733</th>\n",
       "      <th>SRR1947507</th>\n",
       "      <td>NOT CATEGORIZED</td>\n",
       "      <td>1.266271</td>\n",
       "    </tr>\n",
       "    <tr>\n",
       "      <th>SRR1947557</th>\n",
       "      <td>NOT CATEGORIZED</td>\n",
       "      <td>1.187636</td>\n",
       "    </tr>\n",
       "    <tr>\n",
       "      <th>SRR1947496</th>\n",
       "      <td>NOT CATEGORIZED</td>\n",
       "      <td>1.163507</td>\n",
       "    </tr>\n",
       "    <tr>\n",
       "      <th>SRP019994</th>\n",
       "      <th>SRR797089</th>\n",
       "      <td>Soft Tissue</td>\n",
       "      <td>1.148029</td>\n",
       "    </tr>\n",
       "    <tr>\n",
       "      <th rowspan=\"7\" valign=\"top\">SRP056733</th>\n",
       "      <th>SRR1947594</th>\n",
       "      <td>NOT CATEGORIZED</td>\n",
       "      <td>1.114567</td>\n",
       "    </tr>\n",
       "    <tr>\n",
       "      <th>SRR1947492</th>\n",
       "      <td>NOT CATEGORIZED</td>\n",
       "      <td>1.111283</td>\n",
       "    </tr>\n",
       "    <tr>\n",
       "      <th>SRR1947581</th>\n",
       "      <td>NOT CATEGORIZED</td>\n",
       "      <td>1.085258</td>\n",
       "    </tr>\n",
       "    <tr>\n",
       "      <th>SRR1947613</th>\n",
       "      <td>NOT CATEGORIZED</td>\n",
       "      <td>1.071254</td>\n",
       "    </tr>\n",
       "    <tr>\n",
       "      <th>SRR1947588</th>\n",
       "      <td>NOT CATEGORIZED</td>\n",
       "      <td>1.030831</td>\n",
       "    </tr>\n",
       "    <tr>\n",
       "      <th>SRR1947490</th>\n",
       "      <td>NOT CATEGORIZED</td>\n",
       "      <td>1.015696</td>\n",
       "    </tr>\n",
       "    <tr>\n",
       "      <th>SRR1947607</th>\n",
       "      <td>NOT CATEGORIZED</td>\n",
       "      <td>0.978262</td>\n",
       "    </tr>\n",
       "  </tbody>\n",
       "</table>\n",
       "</div>"
      ],
      "text/plain": [
       "                            cell type      LV21\n",
       "project   run                                  \n",
       "SRP036821 SRR1163276             TGCT  2.805557\n",
       "          SRR1163281             PVNS  2.711966\n",
       "          SRR1163277             TGCT  2.668394\n",
       "          SRR1163280             PVNS  2.577087\n",
       "          SRR1163278             TGCT  2.229018\n",
       "SRP019994 SRR797140       Soft Tissue  2.053908\n",
       "SRP036821 SRR1163279             PVNS  1.975874\n",
       "SRP019994 SRR797105       Soft Tissue  1.904197\n",
       "          SRR797141       Soft Tissue  1.894343\n",
       "SRP056733 SRR1947507  NOT CATEGORIZED  1.266271\n",
       "          SRR1947557  NOT CATEGORIZED  1.187636\n",
       "          SRR1947496  NOT CATEGORIZED  1.163507\n",
       "SRP019994 SRR797089       Soft Tissue  1.148029\n",
       "SRP056733 SRR1947594  NOT CATEGORIZED  1.114567\n",
       "          SRR1947492  NOT CATEGORIZED  1.111283\n",
       "          SRR1947581  NOT CATEGORIZED  1.085258\n",
       "          SRR1947613  NOT CATEGORIZED  1.071254\n",
       "          SRR1947588  NOT CATEGORIZED  1.030831\n",
       "          SRR1947490  NOT CATEGORIZED  1.015696\n",
       "          SRR1947607  NOT CATEGORIZED  0.978262"
      ]
     },
     "execution_count": 32,
     "metadata": {},
     "output_type": "execute_result"
    }
   ],
   "source": [
    "plot_data.head(20)"
   ]
  },
  {
   "cell_type": "markdown",
   "id": "floating-toolbox",
   "metadata": {},
   "source": [
    "## Customize x-axis values"
   ]
  },
  {
   "cell_type": "markdown",
   "id": "southwest-conviction",
   "metadata": {},
   "source": [
    "When cell type values are not very clear, customize their names by looking at their specific studies to know exactly what the authors meant."
   ]
  },
  {
   "cell_type": "code",
   "execution_count": 33,
   "id": "sweet-inventory",
   "metadata": {},
   "outputs": [],
   "source": [
    "# plot_data[plot_data[\"cell type\"].str.contains(\"microglia\")].head(10)"
   ]
  },
  {
   "cell_type": "code",
   "execution_count": 34,
   "id": "overhead-novel",
   "metadata": {},
   "outputs": [],
   "source": [
    "final_plot_data = plot_data.replace(\n",
    "    {\n",
    "        SELECTED_ATTRIBUTE: {\n",
    "            \"monocyte-derived macrophages\": \"Monocyte-derived macrophages\",\n",
    "            \"spleen\": \"Spleen\",\n",
    "            \"skin\": \"Skin\",\n",
    "            # SRP057196\n",
    "            \"fetal_quiescent\": \"Fetal neurons (quiescent)\",\n",
    "            # SRP019994: Leiomyosarcoma\n",
    "            \"Soft Tissue\": \"Leiomyosarcoma\",\n",
    "            # SRP006575\n",
    "            \"leiomyosarcoma\": \"Leiomyosarcoma\",\n",
    "        }\n",
    "    }\n",
    ")\n",
    "\n",
    "# plot_data = plot_data[plot_data[SELECTED_ATTRIBUTE] != \"no cell\"]"
   ]
  },
  {
   "cell_type": "code",
   "execution_count": 35,
   "id": "expanded-criminal",
   "metadata": {},
   "outputs": [
    {
     "name": "stderr",
     "output_type": "stream",
     "text": [
      "<ipython-input-35-6f1c7e491b69>:3: PerformanceWarning: indexing past lexsort depth may impact performance.\n",
      "  _tmp = final_plot_data.loc[(_srp_code,)].apply(\n"
     ]
    }
   ],
   "source": [
    "# add also tissue information to these projects\n",
    "_srp_code = \"SRP057196\"\n",
    "_tmp = final_plot_data.loc[(_srp_code,)].apply(\n",
    "    lambda x: x[SELECTED_ATTRIBUTE]\n",
    "    + f\" ({lv_data.loc[(_srp_code, x.name), 'tissue']})\",\n",
    "    axis=1,\n",
    ")\n",
    "final_plot_data.loc[(_srp_code, _tmp.index), SELECTED_ATTRIBUTE] = _tmp.values"
   ]
  },
  {
   "cell_type": "code",
   "execution_count": 36,
   "id": "exciting-trainer",
   "metadata": {},
   "outputs": [],
   "source": [
    "# all samples from SRP049593 are fibroblasts\n",
    "final_plot_data[SELECTED_ATTRIBUTE] = final_plot_data.apply(\n",
    "    lambda x: \"Monocyte-derived macrophages\"\n",
    "    if x.name[0] == \"SRP056733\"\n",
    "    else x[\"cell type\"],\n",
    "    axis=1,\n",
    ")"
   ]
  },
  {
   "cell_type": "code",
   "execution_count": 37,
   "id": "superior-heath",
   "metadata": {},
   "outputs": [],
   "source": [
    "# all samples from SRP036821 are Soft tissue sarcomas\n",
    "final_plot_data[SELECTED_ATTRIBUTE] = final_plot_data.apply(\n",
    "    lambda x: f\"Soft tissue sarcoma ({x['cell type']})\"\n",
    "    if x.name[0] == \"SRP036821\"\n",
    "    else x[\"cell type\"],\n",
    "    axis=1,\n",
    ")"
   ]
  },
  {
   "cell_type": "code",
   "execution_count": 38,
   "id": "illegal-royalty",
   "metadata": {},
   "outputs": [],
   "source": [
    "# all samples from SRP036821 are Soft tissue sarcomas\n",
    "final_plot_data[SELECTED_ATTRIBUTE] = final_plot_data.apply(\n",
    "    lambda x: f\"Dendritic cells\" if x.name[0] == \"SRP051368\" else x[\"cell type\"],\n",
    "    axis=1,\n",
    ")"
   ]
  },
  {
   "cell_type": "code",
   "execution_count": 39,
   "id": "fifty-singing",
   "metadata": {},
   "outputs": [],
   "source": [
    "# take the top samples only\n",
    "final_plot_data = final_plot_data.sort_values(LV_NAME, ascending=False)[:N_TOP_SAMPLES]"
   ]
  },
  {
   "cell_type": "markdown",
   "id": "sharing-neutral",
   "metadata": {},
   "source": [
    "## Threshold LV values"
   ]
  },
  {
   "cell_type": "code",
   "execution_count": 40,
   "id": "cubic-validity",
   "metadata": {},
   "outputs": [],
   "source": [
    "final_plot_data.loc[\n",
    "    final_plot_data[LV_NAME] > LV_AXIS_THRESHOLD, LV_NAME\n",
    "] = LV_AXIS_THRESHOLD"
   ]
  },
  {
   "cell_type": "markdown",
   "id": "solved-return",
   "metadata": {},
   "source": [
    "## Delete samples with no tissue/cell type information"
   ]
  },
  {
   "cell_type": "code",
   "execution_count": 41,
   "id": "powered-transaction",
   "metadata": {},
   "outputs": [],
   "source": [
    "final_plot_data = final_plot_data[\n",
    "    final_plot_data[SELECTED_ATTRIBUTE] != \"NOT CATEGORIZED\"\n",
    "]"
   ]
  },
  {
   "cell_type": "markdown",
   "id": "appropriate-projector",
   "metadata": {},
   "source": [
    "## Set x-axis order"
   ]
  },
  {
   "cell_type": "code",
   "execution_count": 42,
   "id": "olympic-driving",
   "metadata": {},
   "outputs": [],
   "source": [
    "attr_order = (\n",
    "    final_plot_data.groupby(SELECTED_ATTRIBUTE)\n",
    "    .max()\n",
    "    .sort_values(LV_NAME, ascending=False)\n",
    "    .index[:N_TOP_ATTRS]\n",
    "    .tolist()\n",
    ")"
   ]
  },
  {
   "cell_type": "code",
   "execution_count": 43,
   "id": "brown-yeast",
   "metadata": {},
   "outputs": [
    {
     "data": {
      "text/plain": [
       "25"
      ]
     },
     "execution_count": 43,
     "metadata": {},
     "output_type": "execute_result"
    }
   ],
   "source": [
    "len(attr_order)"
   ]
  },
  {
   "cell_type": "code",
   "execution_count": 44,
   "id": "artificial-luther",
   "metadata": {},
   "outputs": [
    {
     "data": {
      "text/plain": [
       "['Soft tissue sarcoma (TGCT)',\n",
       " 'Soft tissue sarcoma (PVNS)',\n",
       " 'Leiomyosarcoma',\n",
       " 'Monocyte-derived macrophages',\n",
       " 'Skin']"
      ]
     },
     "execution_count": 44,
     "metadata": {},
     "output_type": "execute_result"
    }
   ],
   "source": [
    "attr_order[:5]"
   ]
  },
  {
   "cell_type": "markdown",
   "id": "solid-special",
   "metadata": {},
   "source": [
    "## Plot"
   ]
  },
  {
   "cell_type": "code",
   "execution_count": 45,
   "id": "becoming-stand",
   "metadata": {},
   "outputs": [
    {
     "data": {
      "image/png": "[encoded data removed]",
      "text/plain": [
       "<Figure size 1080x360 with 1 Axes>"
      ]
     },
     "metadata": {},
     "output_type": "display_data"
    }
   ],
   "source": [
    "with sns.plotting_context(\"paper\", font_scale=1.5), sns.axes_style(\"whitegrid\"):\n",
    "    sns.catplot(\n",
    "        data=final_plot_data,\n",
    "        y=LV_NAME,\n",
    "        x=SELECTED_ATTRIBUTE,\n",
    "        order=attr_order,\n",
    "        kind=\"strip\",\n",
    "        height=5,\n",
    "        aspect=3,\n",
    "    )\n",
    "    plt.xticks(rotation=45, horizontalalignment=\"right\")\n",
    "\n",
    "    plt.savefig(\n",
    "        OUTPUT_CELL_TYPE_FILEPATH,\n",
    "        bbox_inches=\"tight\",\n",
    "        facecolor=\"white\",\n",
    "    )"
   ]
  },
  {
   "cell_type": "markdown",
   "id": "clean-immune",
   "metadata": {},
   "source": [
    "# Debug"
   ]
  },
  {
   "cell_type": "code",
   "execution_count": 46,
   "id": "enclosed-lindsay",
   "metadata": {},
   "outputs": [],
   "source": [
    "# with pd.option_context(\n",
    "#     \"display.max_rows\", None, \"display.max_columns\", None, \"display.max_colwidth\", None\n",
    "# ):\n",
    "#     _tmp = final_plot_data[final_plot_data[SELECTED_ATTRIBUTE].str.contains(\"NOT CAT\")]\n",
    "#     display(_tmp.head(20))"
   ]
  },
  {
   "cell_type": "code",
   "execution_count": 47,
   "id": "final-stranger",
   "metadata": {},
   "outputs": [],
   "source": [
    "# # what is there in these projects?\n",
    "# lv_data.loc[[\"SRP036821\"]].dropna(how=\"all\", axis=1).sort_values(\n",
    "#     LV_NAME, ascending=False\n",
    "# ).head(60)"
   ]
  },
  {
   "cell_type": "code",
   "execution_count": null,
   "id": "confirmed-connecticut",
   "metadata": {},
   "outputs": [],
   "source": []
  }
 ],
 "metadata": {
  "jupytext": {
   "cell_metadata_filter": "all,-execution,-papermill,-trusted",
   "formats": "ipynb,py//py:percent"
  },
  "kernelspec": {
   "display_name": "Python 3",
   "language": "python",
   "name": "python3"
  },
  "language_info": {
   "codemirror_mode": {
    "name": "ipython",
    "version": 3
   },
   "file_extension": ".py",
   "mimetype": "text/x-python",
   "name": "python",
   "nbconvert_exporter": "python",
   "pygments_lexer": "ipython3",
   "version": "3.8.8"
  }
 },
 "nbformat": 4,
 "nbformat_minor": 5
}
