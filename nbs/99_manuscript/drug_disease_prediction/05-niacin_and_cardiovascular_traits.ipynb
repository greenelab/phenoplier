{
 "cells": [
  {
   "cell_type": "markdown",
   "metadata": {
    "papermill": {
     "duration": 0.039298,
     "end_time": "2020-12-23T18:04:39.246832",
     "exception": false,
     "start_time": "2020-12-23T18:04:39.207534",
     "status": "completed"
    },
    "tags": []
   },
   "source": [
    "# Description"
   ]
  },
  {
   "cell_type": "markdown",
   "metadata": {
    "papermill": {
     "duration": 0.010239,
     "end_time": "2020-12-23T18:04:39.272325",
     "exception": false,
     "start_time": "2020-12-23T18:04:39.262086",
     "status": "completed"
    },
    "tags": []
   },
   "source": [
    "This notebook analyzes the LVs driving the association of Niacin with some cardiovascular traits. Then it writes a table in markdown with the results."
   ]
  },
  {
   "cell_type": "markdown",
   "metadata": {
    "papermill": {
     "duration": 0.010515,
     "end_time": "2020-12-23T18:04:39.292047",
     "exception": false,
     "start_time": "2020-12-23T18:04:39.281532",
     "status": "completed"
    },
    "tags": []
   },
   "source": [
    "# Modules loading"
   ]
  },
  {
   "cell_type": "code",
   "execution_count": 1,
   "metadata": {
    "papermill": {
     "duration": 0.020255,
     "end_time": "2020-12-23T18:04:39.321650",
     "exception": false,
     "start_time": "2020-12-23T18:04:39.301395",
     "status": "completed"
    },
    "tags": []
   },
   "outputs": [],
   "source": [
    "%load_ext autoreload\n",
    "%autoreload 2"
   ]
  },
  {
   "cell_type": "code",
   "execution_count": 2,
   "metadata": {
    "papermill": {
     "duration": 0.194124,
     "end_time": "2020-12-23T18:04:39.525509",
     "exception": false,
     "start_time": "2020-12-23T18:04:39.331385",
     "status": "completed"
    },
    "tags": []
   },
   "outputs": [],
   "source": [
    "from pathlib import Path\n",
    "import re\n",
    "\n",
    "import numpy as np\n",
    "import pandas as pd\n",
    "\n",
    "from entity import Gene\n",
    "import conf"
   ]
  },
  {
   "cell_type": "markdown",
   "metadata": {
    "papermill": {
     "duration": 0.009123,
     "end_time": "2020-12-23T18:04:39.544244",
     "exception": false,
     "start_time": "2020-12-23T18:04:39.535121",
     "status": "completed"
    },
    "tags": []
   },
   "source": [
    "# Settings"
   ]
  },
  {
   "cell_type": "code",
   "execution_count": 3,
   "metadata": {
    "papermill": {
     "duration": 0.009123,
     "end_time": "2020-12-23T18:04:39.544244",
     "exception": false,
     "start_time": "2020-12-23T18:04:39.535121",
     "status": "completed"
    },
    "tags": []
   },
   "outputs": [],
   "source": [
    "QUANTILE = 0.95"
   ]
  },
  {
   "cell_type": "markdown",
   "metadata": {
    "papermill": {
     "duration": 0.009123,
     "end_time": "2020-12-23T18:04:39.544244",
     "exception": false,
     "start_time": "2020-12-23T18:04:39.535121",
     "status": "completed"
    },
    "tags": []
   },
   "source": [
    "# Paths"
   ]
  },
  {
   "cell_type": "code",
   "execution_count": 4,
   "metadata": {
    "papermill": {
     "duration": 0.032034,
     "end_time": "2021-04-22T19:41:49.062125",
     "exception": false,
     "start_time": "2021-04-22T19:41:49.030091",
     "status": "completed"
    },
    "tags": []
   },
   "outputs": [
    {
     "data": {
      "text/plain": [
       "PosixPath('/home/miltondp/projects/labs/greenelab/phenoplier/bases_data/base_orig/results/drug_disease_analyses/lincs/analyses')"
      ]
     },
     "metadata": {},
     "output_type": "display_data"
    }
   ],
   "source": [
    "OUTPUT_DIR = conf.RESULTS[\"DRUG_DISEASE_ANALYSES\"] / \"lincs\" / \"analyses\"\n",
    "display(OUTPUT_DIR)\n",
    "OUTPUT_DIR.mkdir(exist_ok=True, parents=True)"
   ]
  },
  {
   "cell_type": "code",
   "execution_count": 5,
   "metadata": {},
   "outputs": [
    {
     "data": {
      "text/plain": [
       "PosixPath('/home/miltondp/projects/labs/greenelab/phenoplier/bases_data/base_orig/results/drug_disease_analyses/lincs/predictions/full_predictions_by_tissue-rank.h5')"
      ]
     },
     "metadata": {},
     "output_type": "display_data"
    }
   ],
   "source": [
    "INPUT_DIR = conf.RESULTS[\"DRUG_DISEASE_ANALYSES\"] / \"lincs\" / \"predictions\"\n",
    "# display(OUTPUT_DIR)\n",
    "# OUTPUT_DIR.mkdir(parents=True, exist_ok=True)\n",
    "input_predictions_by_tissue_file = INPUT_DIR / \"full_predictions_by_tissue-rank.h5\"\n",
    "display(input_predictions_by_tissue_file)"
   ]
  },
  {
   "cell_type": "code",
   "execution_count": 6,
   "metadata": {},
   "outputs": [
    {
     "data": {
      "text/plain": [
       "PosixPath('/home/miltondp/projects/labs/greenelab/phenoplier_manuscript/content/04.15.drug_disease_prediction.md')"
      ]
     },
     "metadata": {},
     "output_type": "display_data"
    }
   ],
   "source": [
    "assert \"CONTENT_DIR\" in conf.MANUSCRIPT\n",
    "\n",
    "OUTPUT_FILE_PATH = conf.MANUSCRIPT[\"CONTENT_DIR\"] / \"04.15.drug_disease_prediction.md\"\n",
    "display(OUTPUT_FILE_PATH)\n",
    "assert OUTPUT_FILE_PATH.exists()"
   ]
  },
  {
   "cell_type": "markdown",
   "metadata": {
    "papermill": {
     "duration": 0.009706,
     "end_time": "2020-12-23T18:04:39.596873",
     "exception": false,
     "start_time": "2020-12-23T18:04:39.587167",
     "status": "completed"
    },
    "tags": []
   },
   "source": [
    "# Data loading"
   ]
  },
  {
   "cell_type": "markdown",
   "metadata": {
    "papermill": {
     "duration": 0.009706,
     "end_time": "2020-12-23T18:04:39.596873",
     "exception": false,
     "start_time": "2020-12-23T18:04:39.587167",
     "status": "completed"
    },
    "tags": []
   },
   "source": [
    "## PharmacotherapyDB: load gold standard"
   ]
  },
  {
   "cell_type": "markdown",
   "metadata": {},
   "source": [
    "### Final"
   ]
  },
  {
   "cell_type": "code",
   "execution_count": 7,
   "metadata": {},
   "outputs": [],
   "source": [
    "gold_standard = pd.read_pickle(\n",
    "    Path(conf.RESULTS[\"DRUG_DISEASE_ANALYSES\"], \"gold_standard.pkl\"),\n",
    ")"
   ]
  },
  {
   "cell_type": "code",
   "execution_count": 8,
   "metadata": {},
   "outputs": [
    {
     "data": {
      "text/plain": [
       "(998, 3)"
      ]
     },
     "execution_count": 8,
     "metadata": {},
     "output_type": "execute_result"
    }
   ],
   "source": [
    "gold_standard.shape"
   ]
  },
  {
   "cell_type": "code",
   "execution_count": 9,
   "metadata": {},
   "outputs": [
    {
     "data": {
      "text/html": [
       "<div>\n",
       "<style scoped>\n",
       "    .dataframe tbody tr th:only-of-type {\n",
       "        vertical-align: middle;\n",
       "    }\n",
       "\n",
       "    .dataframe tbody tr th {\n",
       "        vertical-align: top;\n",
       "    }\n",
       "\n",
       "    .dataframe thead th {\n",
       "        text-align: right;\n",
       "    }\n",
       "</style>\n",
       "<table border=\"1\" class=\"dataframe\">\n",
       "  <thead>\n",
       "    <tr style=\"text-align: right;\">\n",
       "      <th></th>\n",
       "      <th>trait</th>\n",
       "      <th>drug</th>\n",
       "      <th>true_class</th>\n",
       "    </tr>\n",
       "  </thead>\n",
       "  <tbody>\n",
       "    <tr>\n",
       "      <th>0</th>\n",
       "      <td>DOID:10652</td>\n",
       "      <td>DB00843</td>\n",
       "      <td>1</td>\n",
       "    </tr>\n",
       "    <tr>\n",
       "      <th>1</th>\n",
       "      <td>DOID:10652</td>\n",
       "      <td>DB00674</td>\n",
       "      <td>1</td>\n",
       "    </tr>\n",
       "    <tr>\n",
       "      <th>2</th>\n",
       "      <td>DOID:10652</td>\n",
       "      <td>DB01043</td>\n",
       "      <td>1</td>\n",
       "    </tr>\n",
       "    <tr>\n",
       "      <th>3</th>\n",
       "      <td>DOID:10652</td>\n",
       "      <td>DB00989</td>\n",
       "      <td>1</td>\n",
       "    </tr>\n",
       "    <tr>\n",
       "      <th>4</th>\n",
       "      <td>DOID:10652</td>\n",
       "      <td>DB00810</td>\n",
       "      <td>0</td>\n",
       "    </tr>\n",
       "  </tbody>\n",
       "</table>\n",
       "</div>"
      ],
      "text/plain": [
       "        trait     drug  true_class\n",
       "0  DOID:10652  DB00843           1\n",
       "1  DOID:10652  DB00674           1\n",
       "2  DOID:10652  DB01043           1\n",
       "3  DOID:10652  DB00989           1\n",
       "4  DOID:10652  DB00810           0"
      ]
     },
     "execution_count": 9,
     "metadata": {},
     "output_type": "execute_result"
    }
   ],
   "source": [
    "gold_standard.head()"
   ]
  },
  {
   "cell_type": "markdown",
   "metadata": {},
   "source": [
    "### Info"
   ]
  },
  {
   "cell_type": "code",
   "execution_count": 10,
   "metadata": {
    "papermill": {
     "duration": 0.030171,
     "end_time": "2020-12-23T18:04:39.674843",
     "exception": false,
     "start_time": "2020-12-23T18:04:39.644672",
     "status": "completed"
    },
    "tags": []
   },
   "outputs": [
    {
     "data": {
      "text/plain": [
       "PosixPath('/home/miltondp/projects/labs/greenelab/phenoplier/bases_data/base_orig/data/hetionet/pharmacotherapydb-v1.0/indications.tsv')"
      ]
     },
     "metadata": {},
     "output_type": "display_data"
    }
   ],
   "source": [
    "input_file = conf.PHARMACOTHERAPYDB[\"INDICATIONS_FILE\"]\n",
    "display(input_file)"
   ]
  },
  {
   "cell_type": "code",
   "execution_count": 11,
   "metadata": {},
   "outputs": [],
   "source": [
    "gold_standard_info = pd.read_csv(input_file, sep=\"\\t\")"
   ]
  },
  {
   "cell_type": "code",
   "execution_count": 12,
   "metadata": {},
   "outputs": [],
   "source": [
    "gold_standard_info = gold_standard_info.rename(columns={\"drug\": \"drug_name\"})"
   ]
  },
  {
   "cell_type": "code",
   "execution_count": 13,
   "metadata": {
    "papermill": {
     "duration": 0.020017,
     "end_time": "2020-12-23T18:04:39.704939",
     "exception": false,
     "start_time": "2020-12-23T18:04:39.684922",
     "status": "completed"
    },
    "tags": []
   },
   "outputs": [
    {
     "data": {
      "text/plain": [
       "(1388, 7)"
      ]
     },
     "execution_count": 13,
     "metadata": {},
     "output_type": "execute_result"
    }
   ],
   "source": [
    "gold_standard_info.shape"
   ]
  },
  {
   "cell_type": "code",
   "execution_count": 14,
   "metadata": {
    "papermill": {
     "duration": 0.025481,
     "end_time": "2020-12-23T18:04:39.740804",
     "exception": false,
     "start_time": "2020-12-23T18:04:39.715323",
     "status": "completed"
    },
    "tags": []
   },
   "outputs": [
    {
     "data": {
      "text/html": [
       "<div>\n",
       "<style scoped>\n",
       "    .dataframe tbody tr th:only-of-type {\n",
       "        vertical-align: middle;\n",
       "    }\n",
       "\n",
       "    .dataframe tbody tr th {\n",
       "        vertical-align: top;\n",
       "    }\n",
       "\n",
       "    .dataframe thead th {\n",
       "        text-align: right;\n",
       "    }\n",
       "</style>\n",
       "<table border=\"1\" class=\"dataframe\">\n",
       "  <thead>\n",
       "    <tr style=\"text-align: right;\">\n",
       "      <th></th>\n",
       "      <th>doid_id</th>\n",
       "      <th>drugbank_id</th>\n",
       "      <th>disease</th>\n",
       "      <th>drug_name</th>\n",
       "      <th>category</th>\n",
       "      <th>n_curators</th>\n",
       "      <th>n_resources</th>\n",
       "    </tr>\n",
       "  </thead>\n",
       "  <tbody>\n",
       "    <tr>\n",
       "      <th>0</th>\n",
       "      <td>DOID:10652</td>\n",
       "      <td>DB00843</td>\n",
       "      <td>Alzheimer's disease</td>\n",
       "      <td>Donepezil</td>\n",
       "      <td>DM</td>\n",
       "      <td>2</td>\n",
       "      <td>1</td>\n",
       "    </tr>\n",
       "    <tr>\n",
       "      <th>1</th>\n",
       "      <td>DOID:10652</td>\n",
       "      <td>DB00674</td>\n",
       "      <td>Alzheimer's disease</td>\n",
       "      <td>Galantamine</td>\n",
       "      <td>DM</td>\n",
       "      <td>1</td>\n",
       "      <td>4</td>\n",
       "    </tr>\n",
       "    <tr>\n",
       "      <th>2</th>\n",
       "      <td>DOID:10652</td>\n",
       "      <td>DB01043</td>\n",
       "      <td>Alzheimer's disease</td>\n",
       "      <td>Memantine</td>\n",
       "      <td>DM</td>\n",
       "      <td>1</td>\n",
       "      <td>3</td>\n",
       "    </tr>\n",
       "    <tr>\n",
       "      <th>3</th>\n",
       "      <td>DOID:10652</td>\n",
       "      <td>DB00989</td>\n",
       "      <td>Alzheimer's disease</td>\n",
       "      <td>Rivastigmine</td>\n",
       "      <td>DM</td>\n",
       "      <td>1</td>\n",
       "      <td>3</td>\n",
       "    </tr>\n",
       "    <tr>\n",
       "      <th>4</th>\n",
       "      <td>DOID:10652</td>\n",
       "      <td>DB00245</td>\n",
       "      <td>Alzheimer's disease</td>\n",
       "      <td>Benzatropine</td>\n",
       "      <td>SYM</td>\n",
       "      <td>3</td>\n",
       "      <td>1</td>\n",
       "    </tr>\n",
       "  </tbody>\n",
       "</table>\n",
       "</div>"
      ],
      "text/plain": [
       "      doid_id drugbank_id              disease     drug_name category  \\\n",
       "0  DOID:10652     DB00843  Alzheimer's disease     Donepezil       DM   \n",
       "1  DOID:10652     DB00674  Alzheimer's disease   Galantamine       DM   \n",
       "2  DOID:10652     DB01043  Alzheimer's disease     Memantine       DM   \n",
       "3  DOID:10652     DB00989  Alzheimer's disease  Rivastigmine       DM   \n",
       "4  DOID:10652     DB00245  Alzheimer's disease  Benzatropine      SYM   \n",
       "\n",
       "   n_curators  n_resources  \n",
       "0           2            1  \n",
       "1           1            4  \n",
       "2           1            3  \n",
       "3           1            3  \n",
       "4           3            1  "
      ]
     },
     "execution_count": 14,
     "metadata": {},
     "output_type": "execute_result"
    }
   ],
   "source": [
    "gold_standard_info.head()"
   ]
  },
  {
   "cell_type": "code",
   "execution_count": 15,
   "metadata": {},
   "outputs": [],
   "source": [
    "gold_standard_info = (\n",
    "    gold_standard.set_index([\"trait\", \"drug\"])\n",
    "    .join(\n",
    "        gold_standard_info.rename(\n",
    "            columns={\"doid_id\": \"trait\", \"drugbank_id\": \"drug\"}\n",
    "        ).set_index([\"trait\", \"drug\"])\n",
    "    )\n",
    "    .reset_index()\n",
    ")"
   ]
  },
  {
   "cell_type": "code",
   "execution_count": 16,
   "metadata": {
    "papermill": {
     "duration": 0.021146,
     "end_time": "2020-12-23T18:04:39.772888",
     "exception": false,
     "start_time": "2020-12-23T18:04:39.751742",
     "status": "completed"
    },
    "tags": []
   },
   "outputs": [
    {
     "data": {
      "text/plain": [
       "(998, 8)"
      ]
     },
     "execution_count": 16,
     "metadata": {},
     "output_type": "execute_result"
    }
   ],
   "source": [
    "gold_standard_info.shape"
   ]
  },
  {
   "cell_type": "code",
   "execution_count": 17,
   "metadata": {
    "papermill": {
     "duration": 0.02135,
     "end_time": "2020-12-23T18:04:39.805324",
     "exception": false,
     "start_time": "2020-12-23T18:04:39.783974",
     "status": "completed"
    },
    "tags": []
   },
   "outputs": [
    {
     "data": {
      "text/html": [
       "<div>\n",
       "<style scoped>\n",
       "    .dataframe tbody tr th:only-of-type {\n",
       "        vertical-align: middle;\n",
       "    }\n",
       "\n",
       "    .dataframe tbody tr th {\n",
       "        vertical-align: top;\n",
       "    }\n",
       "\n",
       "    .dataframe thead th {\n",
       "        text-align: right;\n",
       "    }\n",
       "</style>\n",
       "<table border=\"1\" class=\"dataframe\">\n",
       "  <thead>\n",
       "    <tr style=\"text-align: right;\">\n",
       "      <th></th>\n",
       "      <th>trait</th>\n",
       "      <th>drug</th>\n",
       "      <th>true_class</th>\n",
       "      <th>disease</th>\n",
       "      <th>drug_name</th>\n",
       "      <th>category</th>\n",
       "      <th>n_curators</th>\n",
       "      <th>n_resources</th>\n",
       "    </tr>\n",
       "  </thead>\n",
       "  <tbody>\n",
       "    <tr>\n",
       "      <th>0</th>\n",
       "      <td>DOID:10652</td>\n",
       "      <td>DB00843</td>\n",
       "      <td>1</td>\n",
       "      <td>Alzheimer's disease</td>\n",
       "      <td>Donepezil</td>\n",
       "      <td>DM</td>\n",
       "      <td>2</td>\n",
       "      <td>1</td>\n",
       "    </tr>\n",
       "    <tr>\n",
       "      <th>1</th>\n",
       "      <td>DOID:10652</td>\n",
       "      <td>DB00674</td>\n",
       "      <td>1</td>\n",
       "      <td>Alzheimer's disease</td>\n",
       "      <td>Galantamine</td>\n",
       "      <td>DM</td>\n",
       "      <td>1</td>\n",
       "      <td>4</td>\n",
       "    </tr>\n",
       "    <tr>\n",
       "      <th>2</th>\n",
       "      <td>DOID:10652</td>\n",
       "      <td>DB01043</td>\n",
       "      <td>1</td>\n",
       "      <td>Alzheimer's disease</td>\n",
       "      <td>Memantine</td>\n",
       "      <td>DM</td>\n",
       "      <td>1</td>\n",
       "      <td>3</td>\n",
       "    </tr>\n",
       "    <tr>\n",
       "      <th>3</th>\n",
       "      <td>DOID:10652</td>\n",
       "      <td>DB00989</td>\n",
       "      <td>1</td>\n",
       "      <td>Alzheimer's disease</td>\n",
       "      <td>Rivastigmine</td>\n",
       "      <td>DM</td>\n",
       "      <td>1</td>\n",
       "      <td>3</td>\n",
       "    </tr>\n",
       "    <tr>\n",
       "      <th>4</th>\n",
       "      <td>DOID:10652</td>\n",
       "      <td>DB00810</td>\n",
       "      <td>0</td>\n",
       "      <td>Alzheimer's disease</td>\n",
       "      <td>Biperiden</td>\n",
       "      <td>NOT</td>\n",
       "      <td>2</td>\n",
       "      <td>1</td>\n",
       "    </tr>\n",
       "  </tbody>\n",
       "</table>\n",
       "</div>"
      ],
      "text/plain": [
       "        trait     drug  true_class              disease     drug_name  \\\n",
       "0  DOID:10652  DB00843           1  Alzheimer's disease     Donepezil   \n",
       "1  DOID:10652  DB00674           1  Alzheimer's disease   Galantamine   \n",
       "2  DOID:10652  DB01043           1  Alzheimer's disease     Memantine   \n",
       "3  DOID:10652  DB00989           1  Alzheimer's disease  Rivastigmine   \n",
       "4  DOID:10652  DB00810           0  Alzheimer's disease     Biperiden   \n",
       "\n",
       "  category  n_curators  n_resources  \n",
       "0       DM           2            1  \n",
       "1       DM           1            4  \n",
       "2       DM           1            3  \n",
       "3       DM           1            3  \n",
       "4      NOT           2            1  "
      ]
     },
     "execution_count": 17,
     "metadata": {},
     "output_type": "execute_result"
    }
   ],
   "source": [
    "gold_standard_info.head()"
   ]
  },
  {
   "cell_type": "markdown",
   "metadata": {
    "papermill": {
     "duration": 0.010857,
     "end_time": "2020-12-23T19:50:41.886745",
     "exception": false,
     "start_time": "2020-12-23T19:50:41.875888",
     "status": "completed"
    },
    "tags": []
   },
   "source": [
    "## LINCS data"
   ]
  },
  {
   "cell_type": "code",
   "execution_count": 18,
   "metadata": {
    "papermill": {
     "duration": 0.021901,
     "end_time": "2020-12-23T19:50:41.940473",
     "exception": false,
     "start_time": "2020-12-23T19:50:41.918572",
     "status": "completed"
    },
    "tags": []
   },
   "outputs": [
    {
     "data": {
      "text/plain": [
       "PosixPath('/home/miltondp/projects/labs/greenelab/phenoplier/bases_data/base_orig/results/drug_disease_analyses/lincs/lincs-data.pkl')"
      ]
     },
     "metadata": {},
     "output_type": "display_data"
    }
   ],
   "source": [
    "input_file = Path(\n",
    "    conf.RESULTS[\"DRUG_DISEASE_ANALYSES\"], \"lincs\", \"lincs-data.pkl\"\n",
    ").resolve()\n",
    "\n",
    "display(input_file)"
   ]
  },
  {
   "cell_type": "code",
   "execution_count": 19,
   "metadata": {
    "papermill": {
     "duration": 0.026636,
     "end_time": "2020-12-23T19:50:41.978518",
     "exception": false,
     "start_time": "2020-12-23T19:50:41.951882",
     "status": "completed"
    },
    "tags": []
   },
   "outputs": [],
   "source": [
    "lincs_data = pd.read_pickle(input_file).T.rename(columns=Gene.GENE_ID_TO_NAME_MAP)"
   ]
  },
  {
   "cell_type": "code",
   "execution_count": 20,
   "metadata": {
    "papermill": {
     "duration": 0.024037,
     "end_time": "2020-12-23T19:50:42.015614",
     "exception": false,
     "start_time": "2020-12-23T19:50:41.991577",
     "status": "completed"
    },
    "tags": []
   },
   "outputs": [
    {
     "data": {
      "text/plain": [
       "(1170, 7120)"
      ]
     },
     "metadata": {},
     "output_type": "display_data"
    }
   ],
   "source": [
    "display(lincs_data.shape)"
   ]
  },
  {
   "cell_type": "code",
   "execution_count": 21,
   "metadata": {
    "papermill": {
     "duration": 0.034451,
     "end_time": "2020-12-23T19:50:42.062781",
     "exception": false,
     "start_time": "2020-12-23T19:50:42.028330",
     "status": "completed"
    },
    "tags": []
   },
   "outputs": [
    {
     "data": {
      "text/html": [
       "<div>\n",
       "<style scoped>\n",
       "    .dataframe tbody tr th:only-of-type {\n",
       "        vertical-align: middle;\n",
       "    }\n",
       "\n",
       "    .dataframe tbody tr th {\n",
       "        vertical-align: top;\n",
       "    }\n",
       "\n",
       "    .dataframe thead th {\n",
       "        text-align: right;\n",
       "    }\n",
       "</style>\n",
       "<table border=\"1\" class=\"dataframe\">\n",
       "  <thead>\n",
       "    <tr style=\"text-align: right;\">\n",
       "      <th></th>\n",
       "      <th>ADA</th>\n",
       "      <th>CDH2</th>\n",
       "      <th>AKT3</th>\n",
       "      <th>MED6</th>\n",
       "      <th>ACOT8</th>\n",
       "      <th>ABI1</th>\n",
       "      <th>GNPDA1</th>\n",
       "      <th>CDH3</th>\n",
       "      <th>TANK</th>\n",
       "      <th>TOPORS-AS1</th>\n",
       "      <th>...</th>\n",
       "      <th>RBX1</th>\n",
       "      <th>CDC42</th>\n",
       "      <th>THOC1</th>\n",
       "      <th>RCE1</th>\n",
       "      <th>HNRNPDL</th>\n",
       "      <th>DMTF1</th>\n",
       "      <th>PPP4R1</th>\n",
       "      <th>CDH1</th>\n",
       "      <th>PTBP3</th>\n",
       "      <th>CASP8AP2</th>\n",
       "    </tr>\n",
       "    <tr>\n",
       "      <th>perturbagen</th>\n",
       "      <th></th>\n",
       "      <th></th>\n",
       "      <th></th>\n",
       "      <th></th>\n",
       "      <th></th>\n",
       "      <th></th>\n",
       "      <th></th>\n",
       "      <th></th>\n",
       "      <th></th>\n",
       "      <th></th>\n",
       "      <th></th>\n",
       "      <th></th>\n",
       "      <th></th>\n",
       "      <th></th>\n",
       "      <th></th>\n",
       "      <th></th>\n",
       "      <th></th>\n",
       "      <th></th>\n",
       "      <th></th>\n",
       "      <th></th>\n",
       "      <th></th>\n",
       "    </tr>\n",
       "  </thead>\n",
       "  <tbody>\n",
       "    <tr>\n",
       "      <th>DB00014</th>\n",
       "      <td>-1.001</td>\n",
       "      <td>1.146</td>\n",
       "      <td>-0.693</td>\n",
       "      <td>-0.037</td>\n",
       "      <td>0.162</td>\n",
       "      <td>-0.380</td>\n",
       "      <td>0.649</td>\n",
       "      <td>-1.952</td>\n",
       "      <td>0.294</td>\n",
       "      <td>0.274</td>\n",
       "      <td>...</td>\n",
       "      <td>-0.592</td>\n",
       "      <td>0.178</td>\n",
       "      <td>0.270</td>\n",
       "      <td>-0.013</td>\n",
       "      <td>0.351</td>\n",
       "      <td>-0.128</td>\n",
       "      <td>0.274</td>\n",
       "      <td>-0.734</td>\n",
       "      <td>-0.048</td>\n",
       "      <td>0.036</td>\n",
       "    </tr>\n",
       "    <tr>\n",
       "      <th>DB00091</th>\n",
       "      <td>-1.835</td>\n",
       "      <td>-1.863</td>\n",
       "      <td>1.694</td>\n",
       "      <td>0.383</td>\n",
       "      <td>-0.899</td>\n",
       "      <td>0.628</td>\n",
       "      <td>-4.878</td>\n",
       "      <td>2.527</td>\n",
       "      <td>1.709</td>\n",
       "      <td>-0.981</td>\n",
       "      <td>...</td>\n",
       "      <td>-0.668</td>\n",
       "      <td>-2.795</td>\n",
       "      <td>-0.333</td>\n",
       "      <td>-0.027</td>\n",
       "      <td>0.578</td>\n",
       "      <td>6.926</td>\n",
       "      <td>-1.875</td>\n",
       "      <td>4.382</td>\n",
       "      <td>0.266</td>\n",
       "      <td>-4.995</td>\n",
       "    </tr>\n",
       "    <tr>\n",
       "      <th>DB00121</th>\n",
       "      <td>1.391</td>\n",
       "      <td>0.011</td>\n",
       "      <td>-0.804</td>\n",
       "      <td>0.269</td>\n",
       "      <td>0.105</td>\n",
       "      <td>-0.588</td>\n",
       "      <td>-1.899</td>\n",
       "      <td>0.306</td>\n",
       "      <td>-1.178</td>\n",
       "      <td>0.120</td>\n",
       "      <td>...</td>\n",
       "      <td>-0.962</td>\n",
       "      <td>0.450</td>\n",
       "      <td>-0.999</td>\n",
       "      <td>1.358</td>\n",
       "      <td>-1.476</td>\n",
       "      <td>0.423</td>\n",
       "      <td>-1.356</td>\n",
       "      <td>-1.897</td>\n",
       "      <td>-0.299</td>\n",
       "      <td>-0.732</td>\n",
       "    </tr>\n",
       "    <tr>\n",
       "      <th>DB00130</th>\n",
       "      <td>1.132</td>\n",
       "      <td>-1.020</td>\n",
       "      <td>-0.164</td>\n",
       "      <td>-0.997</td>\n",
       "      <td>-0.090</td>\n",
       "      <td>0.195</td>\n",
       "      <td>-2.341</td>\n",
       "      <td>0.494</td>\n",
       "      <td>-0.813</td>\n",
       "      <td>-1.140</td>\n",
       "      <td>...</td>\n",
       "      <td>-0.553</td>\n",
       "      <td>-0.528</td>\n",
       "      <td>0.308</td>\n",
       "      <td>0.534</td>\n",
       "      <td>-0.320</td>\n",
       "      <td>3.001</td>\n",
       "      <td>-0.414</td>\n",
       "      <td>0.134</td>\n",
       "      <td>0.147</td>\n",
       "      <td>2.158</td>\n",
       "    </tr>\n",
       "    <tr>\n",
       "      <th>DB00131</th>\n",
       "      <td>0.257</td>\n",
       "      <td>1.143</td>\n",
       "      <td>1.145</td>\n",
       "      <td>0.185</td>\n",
       "      <td>-1.291</td>\n",
       "      <td>-0.457</td>\n",
       "      <td>0.038</td>\n",
       "      <td>1.442</td>\n",
       "      <td>-1.692</td>\n",
       "      <td>0.593</td>\n",
       "      <td>...</td>\n",
       "      <td>-0.556</td>\n",
       "      <td>-0.600</td>\n",
       "      <td>0.092</td>\n",
       "      <td>-0.564</td>\n",
       "      <td>0.174</td>\n",
       "      <td>-1.203</td>\n",
       "      <td>-1.080</td>\n",
       "      <td>-0.575</td>\n",
       "      <td>-0.792</td>\n",
       "      <td>-0.095</td>\n",
       "    </tr>\n",
       "  </tbody>\n",
       "</table>\n",
       "<p>5 rows × 7120 columns</p>\n",
       "</div>"
      ],
      "text/plain": [
       "               ADA   CDH2   AKT3   MED6  ACOT8   ABI1  GNPDA1   CDH3   TANK  \\\n",
       "perturbagen                                                                   \n",
       "DB00014     -1.001  1.146 -0.693 -0.037  0.162 -0.380   0.649 -1.952  0.294   \n",
       "DB00091     -1.835 -1.863  1.694  0.383 -0.899  0.628  -4.878  2.527  1.709   \n",
       "DB00121      1.391  0.011 -0.804  0.269  0.105 -0.588  -1.899  0.306 -1.178   \n",
       "DB00130      1.132 -1.020 -0.164 -0.997 -0.090  0.195  -2.341  0.494 -0.813   \n",
       "DB00131      0.257  1.143  1.145  0.185 -1.291 -0.457   0.038  1.442 -1.692   \n",
       "\n",
       "             TOPORS-AS1  ...   RBX1  CDC42  THOC1   RCE1  HNRNPDL  DMTF1  \\\n",
       "perturbagen              ...                                               \n",
       "DB00014           0.274  ... -0.592  0.178  0.270 -0.013    0.351 -0.128   \n",
       "DB00091          -0.981  ... -0.668 -2.795 -0.333 -0.027    0.578  6.926   \n",
       "DB00121           0.120  ... -0.962  0.450 -0.999  1.358   -1.476  0.423   \n",
       "DB00130          -1.140  ... -0.553 -0.528  0.308  0.534   -0.320  3.001   \n",
       "DB00131           0.593  ... -0.556 -0.600  0.092 -0.564    0.174 -1.203   \n",
       "\n",
       "             PPP4R1   CDH1  PTBP3  CASP8AP2  \n",
       "perturbagen                                  \n",
       "DB00014       0.274 -0.734 -0.048     0.036  \n",
       "DB00091      -1.875  4.382  0.266    -4.995  \n",
       "DB00121      -1.356 -1.897 -0.299    -0.732  \n",
       "DB00130      -0.414  0.134  0.147     2.158  \n",
       "DB00131      -1.080 -0.575 -0.792    -0.095  \n",
       "\n",
       "[5 rows x 7120 columns]"
      ]
     },
     "metadata": {},
     "output_type": "display_data"
    }
   ],
   "source": [
    "display(lincs_data.head())"
   ]
  },
  {
   "cell_type": "markdown",
   "metadata": {
    "papermill": {
     "duration": 0.010857,
     "end_time": "2020-12-23T19:50:41.886745",
     "exception": false,
     "start_time": "2020-12-23T19:50:41.875888",
     "status": "completed"
    },
    "tags": []
   },
   "source": [
    "## LINCS projection"
   ]
  },
  {
   "cell_type": "code",
   "execution_count": 22,
   "metadata": {
    "papermill": {
     "duration": 0.021901,
     "end_time": "2020-12-23T19:50:41.940473",
     "exception": false,
     "start_time": "2020-12-23T19:50:41.918572",
     "status": "completed"
    },
    "tags": []
   },
   "outputs": [
    {
     "data": {
      "text/plain": [
       "PosixPath('/home/miltondp/projects/labs/greenelab/phenoplier/bases_data/base_orig/results/drug_disease_analyses/lincs/lincs-projection.pkl')"
      ]
     },
     "metadata": {},
     "output_type": "display_data"
    }
   ],
   "source": [
    "input_file = Path(\n",
    "    conf.RESULTS[\"DRUG_DISEASE_ANALYSES\"], \"lincs\", \"lincs-projection.pkl\"\n",
    ").resolve()\n",
    "\n",
    "display(input_file)"
   ]
  },
  {
   "cell_type": "code",
   "execution_count": 23,
   "metadata": {
    "papermill": {
     "duration": 0.026636,
     "end_time": "2020-12-23T19:50:41.978518",
     "exception": false,
     "start_time": "2020-12-23T19:50:41.951882",
     "status": "completed"
    },
    "tags": []
   },
   "outputs": [],
   "source": [
    "lincs_projection = pd.read_pickle(input_file).T"
   ]
  },
  {
   "cell_type": "code",
   "execution_count": 24,
   "metadata": {
    "papermill": {
     "duration": 0.024037,
     "end_time": "2020-12-23T19:50:42.015614",
     "exception": false,
     "start_time": "2020-12-23T19:50:41.991577",
     "status": "completed"
    },
    "tags": []
   },
   "outputs": [
    {
     "data": {
      "text/plain": [
       "(1170, 987)"
      ]
     },
     "metadata": {},
     "output_type": "display_data"
    }
   ],
   "source": [
    "display(lincs_projection.shape)"
   ]
  },
  {
   "cell_type": "code",
   "execution_count": 25,
   "metadata": {
    "papermill": {
     "duration": 0.034451,
     "end_time": "2020-12-23T19:50:42.062781",
     "exception": false,
     "start_time": "2020-12-23T19:50:42.028330",
     "status": "completed"
    },
    "tags": []
   },
   "outputs": [
    {
     "data": {
      "text/html": [
       "<div>\n",
       "<style scoped>\n",
       "    .dataframe tbody tr th:only-of-type {\n",
       "        vertical-align: middle;\n",
       "    }\n",
       "\n",
       "    .dataframe tbody tr th {\n",
       "        vertical-align: top;\n",
       "    }\n",
       "\n",
       "    .dataframe thead th {\n",
       "        text-align: right;\n",
       "    }\n",
       "</style>\n",
       "<table border=\"1\" class=\"dataframe\">\n",
       "  <thead>\n",
       "    <tr style=\"text-align: right;\">\n",
       "      <th></th>\n",
       "      <th>LV1</th>\n",
       "      <th>LV2</th>\n",
       "      <th>LV3</th>\n",
       "      <th>LV4</th>\n",
       "      <th>LV5</th>\n",
       "      <th>LV6</th>\n",
       "      <th>LV7</th>\n",
       "      <th>LV8</th>\n",
       "      <th>LV9</th>\n",
       "      <th>LV10</th>\n",
       "      <th>...</th>\n",
       "      <th>LV978</th>\n",
       "      <th>LV979</th>\n",
       "      <th>LV980</th>\n",
       "      <th>LV981</th>\n",
       "      <th>LV982</th>\n",
       "      <th>LV983</th>\n",
       "      <th>LV984</th>\n",
       "      <th>LV985</th>\n",
       "      <th>LV986</th>\n",
       "      <th>LV987</th>\n",
       "    </tr>\n",
       "    <tr>\n",
       "      <th>perturbagen</th>\n",
       "      <th></th>\n",
       "      <th></th>\n",
       "      <th></th>\n",
       "      <th></th>\n",
       "      <th></th>\n",
       "      <th></th>\n",
       "      <th></th>\n",
       "      <th></th>\n",
       "      <th></th>\n",
       "      <th></th>\n",
       "      <th></th>\n",
       "      <th></th>\n",
       "      <th></th>\n",
       "      <th></th>\n",
       "      <th></th>\n",
       "      <th></th>\n",
       "      <th></th>\n",
       "      <th></th>\n",
       "      <th></th>\n",
       "      <th></th>\n",
       "      <th></th>\n",
       "    </tr>\n",
       "  </thead>\n",
       "  <tbody>\n",
       "    <tr>\n",
       "      <th>DB00014</th>\n",
       "      <td>0.036115</td>\n",
       "      <td>0.012281</td>\n",
       "      <td>-0.005533</td>\n",
       "      <td>-0.004151</td>\n",
       "      <td>-0.015156</td>\n",
       "      <td>-0.010861</td>\n",
       "      <td>0.008181</td>\n",
       "      <td>-0.008148</td>\n",
       "      <td>0.004948</td>\n",
       "      <td>-0.009869</td>\n",
       "      <td>...</td>\n",
       "      <td>-0.003139</td>\n",
       "      <td>0.003546</td>\n",
       "      <td>-0.006242</td>\n",
       "      <td>0.002449</td>\n",
       "      <td>-0.004391</td>\n",
       "      <td>-0.004334</td>\n",
       "      <td>-0.019902</td>\n",
       "      <td>0.004292</td>\n",
       "      <td>-0.010378</td>\n",
       "      <td>0.002000</td>\n",
       "    </tr>\n",
       "    <tr>\n",
       "      <th>DB00091</th>\n",
       "      <td>-0.358610</td>\n",
       "      <td>0.009738</td>\n",
       "      <td>-0.059174</td>\n",
       "      <td>-0.032884</td>\n",
       "      <td>-0.005276</td>\n",
       "      <td>0.063369</td>\n",
       "      <td>-0.079522</td>\n",
       "      <td>-0.018980</td>\n",
       "      <td>-0.025782</td>\n",
       "      <td>0.021540</td>\n",
       "      <td>...</td>\n",
       "      <td>-0.019892</td>\n",
       "      <td>0.003610</td>\n",
       "      <td>-0.016165</td>\n",
       "      <td>0.008686</td>\n",
       "      <td>0.065335</td>\n",
       "      <td>-0.042051</td>\n",
       "      <td>0.065516</td>\n",
       "      <td>0.016261</td>\n",
       "      <td>0.056314</td>\n",
       "      <td>-0.051035</td>\n",
       "    </tr>\n",
       "    <tr>\n",
       "      <th>DB00121</th>\n",
       "      <td>0.091067</td>\n",
       "      <td>0.004650</td>\n",
       "      <td>0.013454</td>\n",
       "      <td>0.005934</td>\n",
       "      <td>0.025747</td>\n",
       "      <td>0.004324</td>\n",
       "      <td>-0.001865</td>\n",
       "      <td>-0.019613</td>\n",
       "      <td>0.051503</td>\n",
       "      <td>0.013032</td>\n",
       "      <td>...</td>\n",
       "      <td>0.001629</td>\n",
       "      <td>-0.012565</td>\n",
       "      <td>0.009613</td>\n",
       "      <td>-0.014404</td>\n",
       "      <td>-0.009188</td>\n",
       "      <td>0.006544</td>\n",
       "      <td>0.047466</td>\n",
       "      <td>-0.016220</td>\n",
       "      <td>-0.018844</td>\n",
       "      <td>0.034675</td>\n",
       "    </tr>\n",
       "    <tr>\n",
       "      <th>DB00130</th>\n",
       "      <td>0.008923</td>\n",
       "      <td>-0.006554</td>\n",
       "      <td>0.008906</td>\n",
       "      <td>-0.003991</td>\n",
       "      <td>0.000346</td>\n",
       "      <td>0.008212</td>\n",
       "      <td>0.001242</td>\n",
       "      <td>-0.012771</td>\n",
       "      <td>0.014221</td>\n",
       "      <td>0.008269</td>\n",
       "      <td>...</td>\n",
       "      <td>-0.026139</td>\n",
       "      <td>-0.002977</td>\n",
       "      <td>0.021969</td>\n",
       "      <td>0.001204</td>\n",
       "      <td>-0.012731</td>\n",
       "      <td>-0.000076</td>\n",
       "      <td>-0.029127</td>\n",
       "      <td>-0.022679</td>\n",
       "      <td>0.016179</td>\n",
       "      <td>-0.003029</td>\n",
       "    </tr>\n",
       "    <tr>\n",
       "      <th>DB00131</th>\n",
       "      <td>0.046469</td>\n",
       "      <td>0.021758</td>\n",
       "      <td>-0.004939</td>\n",
       "      <td>-0.028524</td>\n",
       "      <td>-0.013932</td>\n",
       "      <td>0.012231</td>\n",
       "      <td>-0.001325</td>\n",
       "      <td>0.003787</td>\n",
       "      <td>0.035189</td>\n",
       "      <td>-0.004377</td>\n",
       "      <td>...</td>\n",
       "      <td>0.017373</td>\n",
       "      <td>0.005304</td>\n",
       "      <td>-0.001649</td>\n",
       "      <td>0.004017</td>\n",
       "      <td>-0.000622</td>\n",
       "      <td>-0.006477</td>\n",
       "      <td>0.021663</td>\n",
       "      <td>0.000988</td>\n",
       "      <td>0.002038</td>\n",
       "      <td>-0.011747</td>\n",
       "    </tr>\n",
       "  </tbody>\n",
       "</table>\n",
       "<p>5 rows × 987 columns</p>\n",
       "</div>"
      ],
      "text/plain": [
       "                  LV1       LV2       LV3       LV4       LV5       LV6  \\\n",
       "perturbagen                                                               \n",
       "DB00014      0.036115  0.012281 -0.005533 -0.004151 -0.015156 -0.010861   \n",
       "DB00091     -0.358610  0.009738 -0.059174 -0.032884 -0.005276  0.063369   \n",
       "DB00121      0.091067  0.004650  0.013454  0.005934  0.025747  0.004324   \n",
       "DB00130      0.008923 -0.006554  0.008906 -0.003991  0.000346  0.008212   \n",
       "DB00131      0.046469  0.021758 -0.004939 -0.028524 -0.013932  0.012231   \n",
       "\n",
       "                  LV7       LV8       LV9      LV10  ...     LV978     LV979  \\\n",
       "perturbagen                                          ...                       \n",
       "DB00014      0.008181 -0.008148  0.004948 -0.009869  ... -0.003139  0.003546   \n",
       "DB00091     -0.079522 -0.018980 -0.025782  0.021540  ... -0.019892  0.003610   \n",
       "DB00121     -0.001865 -0.019613  0.051503  0.013032  ...  0.001629 -0.012565   \n",
       "DB00130      0.001242 -0.012771  0.014221  0.008269  ... -0.026139 -0.002977   \n",
       "DB00131     -0.001325  0.003787  0.035189 -0.004377  ...  0.017373  0.005304   \n",
       "\n",
       "                LV980     LV981     LV982     LV983     LV984     LV985  \\\n",
       "perturbagen                                                               \n",
       "DB00014     -0.006242  0.002449 -0.004391 -0.004334 -0.019902  0.004292   \n",
       "DB00091     -0.016165  0.008686  0.065335 -0.042051  0.065516  0.016261   \n",
       "DB00121      0.009613 -0.014404 -0.009188  0.006544  0.047466 -0.016220   \n",
       "DB00130      0.021969  0.001204 -0.012731 -0.000076 -0.029127 -0.022679   \n",
       "DB00131     -0.001649  0.004017 -0.000622 -0.006477  0.021663  0.000988   \n",
       "\n",
       "                LV986     LV987  \n",
       "perturbagen                      \n",
       "DB00014     -0.010378  0.002000  \n",
       "DB00091      0.056314 -0.051035  \n",
       "DB00121     -0.018844  0.034675  \n",
       "DB00130      0.016179 -0.003029  \n",
       "DB00131      0.002038 -0.011747  \n",
       "\n",
       "[5 rows x 987 columns]"
      ]
     },
     "metadata": {},
     "output_type": "display_data"
    }
   ],
   "source": [
    "display(lincs_projection.head())"
   ]
  },
  {
   "cell_type": "markdown",
   "metadata": {},
   "source": [
    "# Niacin and cardiovascular diseases"
   ]
  },
  {
   "cell_type": "code",
   "execution_count": 26,
   "metadata": {},
   "outputs": [],
   "source": [
    "from entity import Trait"
   ]
  },
  {
   "cell_type": "code",
   "execution_count": 27,
   "metadata": {},
   "outputs": [
    {
     "data": {
      "text/plain": [
       "[I70-Diagnoses_main_ICD10_I70_Atherosclerosis]"
      ]
     },
     "execution_count": 27,
     "metadata": {},
     "output_type": "execute_result"
    }
   ],
   "source": [
    "Trait.get_traits_from_efo(\"atherosclerosis\")"
   ]
  },
  {
   "cell_type": "code",
   "execution_count": 28,
   "metadata": {},
   "outputs": [
    {
     "data": {
      "text/plain": [
       "[I25-Diagnoses_main_ICD10_I25_Chronic_ischaemic_heart_disease,\n",
       " CARDIoGRAM_C4D_CAD_ADDITIVE]"
      ]
     },
     "execution_count": 28,
     "metadata": {},
     "output_type": "execute_result"
    }
   ],
   "source": [
    "Trait.get_traits_from_efo(\"coronary artery disease\")"
   ]
  },
  {
   "cell_type": "code",
   "execution_count": 29,
   "metadata": {},
   "outputs": [],
   "source": [
    "_phenomexcan_traits = [\n",
    "    \"I70-Diagnoses_main_ICD10_I70_Atherosclerosis\",\n",
    "    \"CARDIoGRAM_C4D_CAD_ADDITIVE\",\n",
    "    \"I25-Diagnoses_main_ICD10_I25_Chronic_ischaemic_heart_disease\",\n",
    "    \"20002_1473-Noncancer_illness_code_selfreported_high_cholesterol\",\n",
    "    \"6150_100-Vascularheart_problems_diagnosed_by_doctor_None_of_the_above\",\n",
    "    \"6150_1-Vascularheart_problems_diagnosed_by_doctor_Heart_attack\",\n",
    "    \"I9_CHD-Major_coronary_heart_disease_event\",\n",
    "    \"I9_CORATHER-Coronary_atherosclerosis\",\n",
    "    \"I9_IHD-Ischaemic_heart_disease_wide_definition\",\n",
    "    \"I9_MI-Myocardial_infarction\",\n",
    "    \"I21-Diagnoses_main_ICD10_I21_Acute_myocardial_infarction\",\n",
    "    \"20002_1075-Noncancer_illness_code_selfreported_heart_attackmyocardial_infarction\",\n",
    "]\n",
    "\n",
    "_drug_id = \"DB00627\"\n",
    "_drug_name = \"Niacin\""
   ]
  },
  {
   "cell_type": "code",
   "execution_count": 30,
   "metadata": {},
   "outputs": [
    {
     "name": "stdout",
     "output_type": "stream",
     "text": [
      "I70-Diagnoses_main_ICD10_I70_Atherosclerosis\n",
      "(361194, 566.0)\n",
      "\n",
      "\n",
      "CARDIoGRAM_C4D_CAD_ADDITIVE\n",
      "(184305, 60801.0)\n",
      "\n",
      "\n",
      "I25-Diagnoses_main_ICD10_I25_Chronic_ischaemic_heart_disease\n",
      "(361194, 12769.0)\n",
      "\n",
      "\n",
      "20002_1473-Noncancer_illness_code_selfreported_high_cholesterol\n",
      "(361141, 43957.0)\n",
      "\n",
      "\n",
      "6150_100-Vascularheart_problems_diagnosed_by_doctor_None_of_the_above\n",
      "(360420, 253565.0)\n",
      "\n",
      "\n",
      "6150_1-Vascularheart_problems_diagnosed_by_doctor_Heart_attack\n",
      "(360420, 8288.0)\n",
      "\n",
      "\n",
      "I9_CHD-Major_coronary_heart_disease_event\n",
      "(361194, 10157.0)\n",
      "\n",
      "\n",
      "I9_CORATHER-Coronary_atherosclerosis\n",
      "(361194, 14334.0)\n",
      "\n",
      "\n",
      "I9_IHD-Ischaemic_heart_disease_wide_definition\n",
      "(361194, 20857.0)\n",
      "\n",
      "\n",
      "I9_MI-Myocardial_infarction\n",
      "(361194, 7018.0)\n",
      "\n",
      "\n",
      "I21-Diagnoses_main_ICD10_I21_Acute_myocardial_infarction\n",
      "(361194, 5948.0)\n",
      "\n",
      "\n",
      "20002_1075-Noncancer_illness_code_selfreported_heart_attackmyocardial_infarction\n",
      "(361141, 8239.0)\n",
      "\n",
      "\n"
     ]
    }
   ],
   "source": [
    "for p in _phenomexcan_traits:\n",
    "    print(p)\n",
    "    d = Trait.get_trait(full_code=p)\n",
    "    print((d.n, d.n_cases))\n",
    "\n",
    "    print(\"\\n\")"
   ]
  },
  {
   "cell_type": "markdown",
   "metadata": {},
   "source": [
    "## Get best tissue results for Niacin"
   ]
  },
  {
   "cell_type": "code",
   "execution_count": 31,
   "metadata": {},
   "outputs": [],
   "source": [
    "drugs_tissue_df = {}\n",
    "\n",
    "with pd.HDFStore(input_predictions_by_tissue_file, mode=\"r\") as store:\n",
    "    for tk in store.keys():\n",
    "        df = store[tk][_drug_id]\n",
    "\n",
    "        drugs_tissue_df[tk[1:]] = df"
   ]
  },
  {
   "cell_type": "code",
   "execution_count": 32,
   "metadata": {},
   "outputs": [
    {
     "data": {
      "text/plain": [
       "(4091, 49)"
      ]
     },
     "metadata": {},
     "output_type": "display_data"
    },
    {
     "data": {
      "text/html": [
       "<div>\n",
       "<style scoped>\n",
       "    .dataframe tbody tr th:only-of-type {\n",
       "        vertical-align: middle;\n",
       "    }\n",
       "\n",
       "    .dataframe tbody tr th {\n",
       "        vertical-align: top;\n",
       "    }\n",
       "\n",
       "    .dataframe thead th {\n",
       "        text-align: right;\n",
       "    }\n",
       "</style>\n",
       "<table border=\"1\" class=\"dataframe\">\n",
       "  <thead>\n",
       "    <tr style=\"text-align: right;\">\n",
       "      <th></th>\n",
       "      <th>Adipose_Subcutaneous</th>\n",
       "      <th>Adipose_Visceral_Omentum</th>\n",
       "      <th>Adrenal_Gland</th>\n",
       "      <th>Artery_Aorta</th>\n",
       "      <th>Artery_Coronary</th>\n",
       "      <th>Artery_Tibial</th>\n",
       "      <th>Brain_Amygdala</th>\n",
       "      <th>Brain_Anterior_cingulate_cortex_BA24</th>\n",
       "      <th>Brain_Caudate_basal_ganglia</th>\n",
       "      <th>Brain_Cerebellar_Hemisphere</th>\n",
       "      <th>...</th>\n",
       "      <th>Skin_Not_Sun_Exposed_Suprapubic</th>\n",
       "      <th>Skin_Sun_Exposed_Lower_leg</th>\n",
       "      <th>Small_Intestine_Terminal_Ileum</th>\n",
       "      <th>Spleen</th>\n",
       "      <th>Stomach</th>\n",
       "      <th>Testis</th>\n",
       "      <th>Thyroid</th>\n",
       "      <th>Uterus</th>\n",
       "      <th>Vagina</th>\n",
       "      <th>Whole_Blood</th>\n",
       "    </tr>\n",
       "  </thead>\n",
       "  <tbody>\n",
       "    <tr>\n",
       "      <th>I9_PHLETHROMBDVTLOW-DVT_of_lower_extremities</th>\n",
       "      <td>2.225108e+06</td>\n",
       "      <td>3633306.50</td>\n",
       "      <td>3960107.250</td>\n",
       "      <td>1332054.75</td>\n",
       "      <td>2.182425e+06</td>\n",
       "      <td>4240339.00</td>\n",
       "      <td>2.487093e+06</td>\n",
       "      <td>2274668.50</td>\n",
       "      <td>1708839.625</td>\n",
       "      <td>2.311500e+06</td>\n",
       "      <td>...</td>\n",
       "      <td>3111573.000</td>\n",
       "      <td>1680886.375</td>\n",
       "      <td>2903454.00</td>\n",
       "      <td>1799322.375</td>\n",
       "      <td>1457560.625</td>\n",
       "      <td>3.024874e+06</td>\n",
       "      <td>3919868.00</td>\n",
       "      <td>3272210.50</td>\n",
       "      <td>1370451.000</td>\n",
       "      <td>3027555.750</td>\n",
       "    </tr>\n",
       "    <tr>\n",
       "      <th>I71-Diagnoses_main_ICD10_I71_Aortic_aneurysm_and_dissection</th>\n",
       "      <td>1.803573e+06</td>\n",
       "      <td>711574.00</td>\n",
       "      <td>1448934.750</td>\n",
       "      <td>4231713.00</td>\n",
       "      <td>1.607177e+06</td>\n",
       "      <td>1551651.25</td>\n",
       "      <td>1.389767e+06</td>\n",
       "      <td>3638570.00</td>\n",
       "      <td>2445540.500</td>\n",
       "      <td>3.317544e+06</td>\n",
       "      <td>...</td>\n",
       "      <td>1935886.625</td>\n",
       "      <td>2817997.000</td>\n",
       "      <td>1179611.25</td>\n",
       "      <td>1986576.250</td>\n",
       "      <td>1191470.250</td>\n",
       "      <td>2.691960e+06</td>\n",
       "      <td>1236895.75</td>\n",
       "      <td>3169182.25</td>\n",
       "      <td>1650408.625</td>\n",
       "      <td>2093344.375</td>\n",
       "    </tr>\n",
       "    <tr>\n",
       "      <th>G62-Diagnoses_main_ICD10_G62_Other_polyneuropathies</th>\n",
       "      <td>1.298787e+06</td>\n",
       "      <td>2518740.25</td>\n",
       "      <td>3957170.750</td>\n",
       "      <td>2937233.50</td>\n",
       "      <td>2.458553e+06</td>\n",
       "      <td>3229771.50</td>\n",
       "      <td>3.576149e+06</td>\n",
       "      <td>1369567.00</td>\n",
       "      <td>3312298.500</td>\n",
       "      <td>2.019896e+06</td>\n",
       "      <td>...</td>\n",
       "      <td>2011435.750</td>\n",
       "      <td>1944383.750</td>\n",
       "      <td>4573539.00</td>\n",
       "      <td>4539101.000</td>\n",
       "      <td>2696412.000</td>\n",
       "      <td>2.205179e+06</td>\n",
       "      <td>785903.00</td>\n",
       "      <td>1301301.75</td>\n",
       "      <td>4430059.000</td>\n",
       "      <td>3196323.500</td>\n",
       "    </tr>\n",
       "    <tr>\n",
       "      <th>2395_4-Hairbalding_pattern_Pattern_4</th>\n",
       "      <td>6.261082e+05</td>\n",
       "      <td>3038228.50</td>\n",
       "      <td>2098431.500</td>\n",
       "      <td>2826578.25</td>\n",
       "      <td>3.085218e+05</td>\n",
       "      <td>3097367.00</td>\n",
       "      <td>6.497158e+05</td>\n",
       "      <td>2836304.50</td>\n",
       "      <td>3183412.000</td>\n",
       "      <td>8.713652e+05</td>\n",
       "      <td>...</td>\n",
       "      <td>2939378.250</td>\n",
       "      <td>3161076.000</td>\n",
       "      <td>3586680.75</td>\n",
       "      <td>2400041.750</td>\n",
       "      <td>863019.625</td>\n",
       "      <td>9.284838e+05</td>\n",
       "      <td>2868830.25</td>\n",
       "      <td>1913291.25</td>\n",
       "      <td>2029917.375</td>\n",
       "      <td>3557621.500</td>\n",
       "    </tr>\n",
       "    <tr>\n",
       "      <th>20003_1141168590-Treatmentmedication_code_pariet_10mg_ec_tablet</th>\n",
       "      <td>3.017563e+06</td>\n",
       "      <td>1880510.75</td>\n",
       "      <td>1094152.375</td>\n",
       "      <td>4206760.50</td>\n",
       "      <td>4.452502e+06</td>\n",
       "      <td>4179176.75</td>\n",
       "      <td>2.875126e+06</td>\n",
       "      <td>2042720.75</td>\n",
       "      <td>2486881.750</td>\n",
       "      <td>3.534752e+06</td>\n",
       "      <td>...</td>\n",
       "      <td>2561731.750</td>\n",
       "      <td>516964.000</td>\n",
       "      <td>2166641.50</td>\n",
       "      <td>2783551.500</td>\n",
       "      <td>2651308.500</td>\n",
       "      <td>2.219414e+06</td>\n",
       "      <td>1217317.25</td>\n",
       "      <td>2210372.50</td>\n",
       "      <td>3053042.250</td>\n",
       "      <td>3362472.000</td>\n",
       "    </tr>\n",
       "  </tbody>\n",
       "</table>\n",
       "<p>5 rows × 49 columns</p>\n",
       "</div>"
      ],
      "text/plain": [
       "                                                    Adipose_Subcutaneous  \\\n",
       "I9_PHLETHROMBDVTLOW-DVT_of_lower_extremities                2.225108e+06   \n",
       "I71-Diagnoses_main_ICD10_I71_Aortic_aneurysm_an...          1.803573e+06   \n",
       "G62-Diagnoses_main_ICD10_G62_Other_polyneuropat...          1.298787e+06   \n",
       "2395_4-Hairbalding_pattern_Pattern_4                        6.261082e+05   \n",
       "20003_1141168590-Treatmentmedication_code_parie...          3.017563e+06   \n",
       "\n",
       "                                                    Adipose_Visceral_Omentum  \\\n",
       "I9_PHLETHROMBDVTLOW-DVT_of_lower_extremities                      3633306.50   \n",
       "I71-Diagnoses_main_ICD10_I71_Aortic_aneurysm_an...                 711574.00   \n",
       "G62-Diagnoses_main_ICD10_G62_Other_polyneuropat...                2518740.25   \n",
       "2395_4-Hairbalding_pattern_Pattern_4                              3038228.50   \n",
       "20003_1141168590-Treatmentmedication_code_parie...                1880510.75   \n",
       "\n",
       "                                                    Adrenal_Gland  \\\n",
       "I9_PHLETHROMBDVTLOW-DVT_of_lower_extremities          3960107.250   \n",
       "I71-Diagnoses_main_ICD10_I71_Aortic_aneurysm_an...    1448934.750   \n",
       "G62-Diagnoses_main_ICD10_G62_Other_polyneuropat...    3957170.750   \n",
       "2395_4-Hairbalding_pattern_Pattern_4                  2098431.500   \n",
       "20003_1141168590-Treatmentmedication_code_parie...    1094152.375   \n",
       "\n",
       "                                                    Artery_Aorta  \\\n",
       "I9_PHLETHROMBDVTLOW-DVT_of_lower_extremities          1332054.75   \n",
       "I71-Diagnoses_main_ICD10_I71_Aortic_aneurysm_an...    4231713.00   \n",
       "G62-Diagnoses_main_ICD10_G62_Other_polyneuropat...    2937233.50   \n",
       "2395_4-Hairbalding_pattern_Pattern_4                  2826578.25   \n",
       "20003_1141168590-Treatmentmedication_code_parie...    4206760.50   \n",
       "\n",
       "                                                    Artery_Coronary  \\\n",
       "I9_PHLETHROMBDVTLOW-DVT_of_lower_extremities           2.182425e+06   \n",
       "I71-Diagnoses_main_ICD10_I71_Aortic_aneurysm_an...     1.607177e+06   \n",
       "G62-Diagnoses_main_ICD10_G62_Other_polyneuropat...     2.458553e+06   \n",
       "2395_4-Hairbalding_pattern_Pattern_4                   3.085218e+05   \n",
       "20003_1141168590-Treatmentmedication_code_parie...     4.452502e+06   \n",
       "\n",
       "                                                    Artery_Tibial  \\\n",
       "I9_PHLETHROMBDVTLOW-DVT_of_lower_extremities           4240339.00   \n",
       "I71-Diagnoses_main_ICD10_I71_Aortic_aneurysm_an...     1551651.25   \n",
       "G62-Diagnoses_main_ICD10_G62_Other_polyneuropat...     3229771.50   \n",
       "2395_4-Hairbalding_pattern_Pattern_4                   3097367.00   \n",
       "20003_1141168590-Treatmentmedication_code_parie...     4179176.75   \n",
       "\n",
       "                                                    Brain_Amygdala  \\\n",
       "I9_PHLETHROMBDVTLOW-DVT_of_lower_extremities          2.487093e+06   \n",
       "I71-Diagnoses_main_ICD10_I71_Aortic_aneurysm_an...    1.389767e+06   \n",
       "G62-Diagnoses_main_ICD10_G62_Other_polyneuropat...    3.576149e+06   \n",
       "2395_4-Hairbalding_pattern_Pattern_4                  6.497158e+05   \n",
       "20003_1141168590-Treatmentmedication_code_parie...    2.875126e+06   \n",
       "\n",
       "                                                    Brain_Anterior_cingulate_cortex_BA24  \\\n",
       "I9_PHLETHROMBDVTLOW-DVT_of_lower_extremities                                  2274668.50   \n",
       "I71-Diagnoses_main_ICD10_I71_Aortic_aneurysm_an...                            3638570.00   \n",
       "G62-Diagnoses_main_ICD10_G62_Other_polyneuropat...                            1369567.00   \n",
       "2395_4-Hairbalding_pattern_Pattern_4                                          2836304.50   \n",
       "20003_1141168590-Treatmentmedication_code_parie...                            2042720.75   \n",
       "\n",
       "                                                    Brain_Caudate_basal_ganglia  \\\n",
       "I9_PHLETHROMBDVTLOW-DVT_of_lower_extremities                        1708839.625   \n",
       "I71-Diagnoses_main_ICD10_I71_Aortic_aneurysm_an...                  2445540.500   \n",
       "G62-Diagnoses_main_ICD10_G62_Other_polyneuropat...                  3312298.500   \n",
       "2395_4-Hairbalding_pattern_Pattern_4                                3183412.000   \n",
       "20003_1141168590-Treatmentmedication_code_parie...                  2486881.750   \n",
       "\n",
       "                                                    Brain_Cerebellar_Hemisphere  \\\n",
       "I9_PHLETHROMBDVTLOW-DVT_of_lower_extremities                       2.311500e+06   \n",
       "I71-Diagnoses_main_ICD10_I71_Aortic_aneurysm_an...                 3.317544e+06   \n",
       "G62-Diagnoses_main_ICD10_G62_Other_polyneuropat...                 2.019896e+06   \n",
       "2395_4-Hairbalding_pattern_Pattern_4                               8.713652e+05   \n",
       "20003_1141168590-Treatmentmedication_code_parie...                 3.534752e+06   \n",
       "\n",
       "                                                    ...  \\\n",
       "I9_PHLETHROMBDVTLOW-DVT_of_lower_extremities        ...   \n",
       "I71-Diagnoses_main_ICD10_I71_Aortic_aneurysm_an...  ...   \n",
       "G62-Diagnoses_main_ICD10_G62_Other_polyneuropat...  ...   \n",
       "2395_4-Hairbalding_pattern_Pattern_4                ...   \n",
       "20003_1141168590-Treatmentmedication_code_parie...  ...   \n",
       "\n",
       "                                                    Skin_Not_Sun_Exposed_Suprapubic  \\\n",
       "I9_PHLETHROMBDVTLOW-DVT_of_lower_extremities                            3111573.000   \n",
       "I71-Diagnoses_main_ICD10_I71_Aortic_aneurysm_an...                      1935886.625   \n",
       "G62-Diagnoses_main_ICD10_G62_Other_polyneuropat...                      2011435.750   \n",
       "2395_4-Hairbalding_pattern_Pattern_4                                    2939378.250   \n",
       "20003_1141168590-Treatmentmedication_code_parie...                      2561731.750   \n",
       "\n",
       "                                                    Skin_Sun_Exposed_Lower_leg  \\\n",
       "I9_PHLETHROMBDVTLOW-DVT_of_lower_extremities                       1680886.375   \n",
       "I71-Diagnoses_main_ICD10_I71_Aortic_aneurysm_an...                 2817997.000   \n",
       "G62-Diagnoses_main_ICD10_G62_Other_polyneuropat...                 1944383.750   \n",
       "2395_4-Hairbalding_pattern_Pattern_4                               3161076.000   \n",
       "20003_1141168590-Treatmentmedication_code_parie...                  516964.000   \n",
       "\n",
       "                                                    Small_Intestine_Terminal_Ileum  \\\n",
       "I9_PHLETHROMBDVTLOW-DVT_of_lower_extremities                            2903454.00   \n",
       "I71-Diagnoses_main_ICD10_I71_Aortic_aneurysm_an...                      1179611.25   \n",
       "G62-Diagnoses_main_ICD10_G62_Other_polyneuropat...                      4573539.00   \n",
       "2395_4-Hairbalding_pattern_Pattern_4                                    3586680.75   \n",
       "20003_1141168590-Treatmentmedication_code_parie...                      2166641.50   \n",
       "\n",
       "                                                         Spleen      Stomach  \\\n",
       "I9_PHLETHROMBDVTLOW-DVT_of_lower_extremities        1799322.375  1457560.625   \n",
       "I71-Diagnoses_main_ICD10_I71_Aortic_aneurysm_an...  1986576.250  1191470.250   \n",
       "G62-Diagnoses_main_ICD10_G62_Other_polyneuropat...  4539101.000  2696412.000   \n",
       "2395_4-Hairbalding_pattern_Pattern_4                2400041.750   863019.625   \n",
       "20003_1141168590-Treatmentmedication_code_parie...  2783551.500  2651308.500   \n",
       "\n",
       "                                                          Testis     Thyroid  \\\n",
       "I9_PHLETHROMBDVTLOW-DVT_of_lower_extremities        3.024874e+06  3919868.00   \n",
       "I71-Diagnoses_main_ICD10_I71_Aortic_aneurysm_an...  2.691960e+06  1236895.75   \n",
       "G62-Diagnoses_main_ICD10_G62_Other_polyneuropat...  2.205179e+06   785903.00   \n",
       "2395_4-Hairbalding_pattern_Pattern_4                9.284838e+05  2868830.25   \n",
       "20003_1141168590-Treatmentmedication_code_parie...  2.219414e+06  1217317.25   \n",
       "\n",
       "                                                        Uterus       Vagina  \\\n",
       "I9_PHLETHROMBDVTLOW-DVT_of_lower_extremities        3272210.50  1370451.000   \n",
       "I71-Diagnoses_main_ICD10_I71_Aortic_aneurysm_an...  3169182.25  1650408.625   \n",
       "G62-Diagnoses_main_ICD10_G62_Other_polyneuropat...  1301301.75  4430059.000   \n",
       "2395_4-Hairbalding_pattern_Pattern_4                1913291.25  2029917.375   \n",
       "20003_1141168590-Treatmentmedication_code_parie...  2210372.50  3053042.250   \n",
       "\n",
       "                                                    Whole_Blood  \n",
       "I9_PHLETHROMBDVTLOW-DVT_of_lower_extremities        3027555.750  \n",
       "I71-Diagnoses_main_ICD10_I71_Aortic_aneurysm_an...  2093344.375  \n",
       "G62-Diagnoses_main_ICD10_G62_Other_polyneuropat...  3196323.500  \n",
       "2395_4-Hairbalding_pattern_Pattern_4                3557621.500  \n",
       "20003_1141168590-Treatmentmedication_code_parie...  3362472.000  \n",
       "\n",
       "[5 rows x 49 columns]"
      ]
     },
     "metadata": {},
     "output_type": "display_data"
    }
   ],
   "source": [
    "_tmp = pd.DataFrame(drugs_tissue_df)\n",
    "display(_tmp.shape)\n",
    "display(_tmp.head())"
   ]
  },
  {
   "cell_type": "code",
   "execution_count": 33,
   "metadata": {},
   "outputs": [
    {
     "data": {
      "text/plain": [
       "I70-Diagnoses_main_ICD10_I70_Atherosclerosis                                                   Cells_Cultured_fibroblasts\n",
       "CARDIoGRAM_C4D_CAD_ADDITIVE                                                                              Colon_Transverse\n",
       "I25-Diagnoses_main_ICD10_I25_Chronic_ischaemic_heart_disease                                  Brain_Putamen_basal_ganglia\n",
       "20002_1473-Noncancer_illness_code_selfreported_high_cholesterol                                            Brain_Amygdala\n",
       "6150_100-Vascularheart_problems_diagnosed_by_doctor_None_of_the_above                                               Liver\n",
       "6150_1-Vascularheart_problems_diagnosed_by_doctor_Heart_attack                                   Brain_Frontal_Cortex_BA9\n",
       "I9_CHD-Major_coronary_heart_disease_event                                                     Brain_Cerebellar_Hemisphere\n",
       "I9_CORATHER-Coronary_atherosclerosis                                                               Heart_Atrial_Appendage\n",
       "I9_IHD-Ischaemic_heart_disease_wide_definition                                                Brain_Cerebellar_Hemisphere\n",
       "I9_MI-Myocardial_infarction                                                         Brain_Nucleus_accumbens_basal_ganglia\n",
       "I21-Diagnoses_main_ICD10_I21_Acute_myocardial_infarction                                      Brain_Cerebellar_Hemisphere\n",
       "20002_1075-Noncancer_illness_code_selfreported_heart_attackmyocardial_infarction                         Esophagus_Mucosa\n",
       "dtype: object"
      ]
     },
     "metadata": {},
     "output_type": "display_data"
    }
   ],
   "source": [
    "# show top tissue models (from TWAS) for each trait\n",
    "traits_best_tissues_df = (\n",
    "    pd.DataFrame(drugs_tissue_df).loc[_phenomexcan_traits].idxmax(1)\n",
    ")\n",
    "display(traits_best_tissues_df)"
   ]
  },
  {
   "cell_type": "code",
   "execution_count": 34,
   "metadata": {},
   "outputs": [],
   "source": [
    "# pick the tissue with the maximum score for each trait\n",
    "drug_df = pd.DataFrame(drugs_tissue_df).max(1)"
   ]
  },
  {
   "cell_type": "code",
   "execution_count": 35,
   "metadata": {},
   "outputs": [
    {
     "data": {
      "text/plain": [
       "(4091,)"
      ]
     },
     "execution_count": 35,
     "metadata": {},
     "output_type": "execute_result"
    }
   ],
   "source": [
    "drug_df.shape"
   ]
  },
  {
   "cell_type": "code",
   "execution_count": 36,
   "metadata": {},
   "outputs": [
    {
     "data": {
      "text/plain": [
       "I9_PHLETHROMBDVTLOW-DVT_of_lower_extremities                       4240339.0\n",
       "I71-Diagnoses_main_ICD10_I71_Aortic_aneurysm_and_dissection        4231713.0\n",
       "G62-Diagnoses_main_ICD10_G62_Other_polyneuropathies                4573539.0\n",
       "2395_4-Hairbalding_pattern_Pattern_4                               3979892.0\n",
       "20003_1141168590-Treatmentmedication_code_pariet_10mg_ec_tablet    4452501.5\n",
       "dtype: float32"
      ]
     },
     "execution_count": 36,
     "metadata": {},
     "output_type": "execute_result"
    }
   ],
   "source": [
    "drug_df.head()"
   ]
  },
  {
   "cell_type": "code",
   "execution_count": 37,
   "metadata": {},
   "outputs": [
    {
     "data": {
      "text/plain": [
       "20002_1075-Noncancer_illness_code_selfreported_heart_attackmyocardial_infarction    3996588.75\n",
       "6150_1-Vascularheart_problems_diagnosed_by_doctor_Heart_attack                      4014872.00\n",
       "I21-Diagnoses_main_ICD10_I21_Acute_myocardial_infarction                            4242830.50\n",
       "I9_MI-Myocardial_infarction                                                         4417031.00\n",
       "I9_CHD-Major_coronary_heart_disease_event                                           4443732.50\n",
       "6150_100-Vascularheart_problems_diagnosed_by_doctor_None_of_the_above               4539449.50\n",
       "20002_1473-Noncancer_illness_code_selfreported_high_cholesterol                     4549772.50\n",
       "I70-Diagnoses_main_ICD10_I70_Atherosclerosis                                        4574511.00\n",
       "CARDIoGRAM_C4D_CAD_ADDITIVE                                                         4598049.00\n",
       "I9_IHD-Ischaemic_heart_disease_wide_definition                                      4671838.50\n",
       "I25-Diagnoses_main_ICD10_I25_Chronic_ischaemic_heart_disease                        4687681.00\n",
       "I9_CORATHER-Coronary_atherosclerosis                                                4687805.50\n",
       "dtype: float32"
      ]
     },
     "execution_count": 37,
     "metadata": {},
     "output_type": "execute_result"
    }
   ],
   "source": [
    "drug_df.loc[_phenomexcan_traits].sort_values()"
   ]
  },
  {
   "cell_type": "code",
   "execution_count": 38,
   "metadata": {},
   "outputs": [
    {
     "data": {
      "text/plain": [
       "count    4.091000e+03\n",
       "mean     4.240774e+06\n",
       "std      3.346693e+05\n",
       "min      2.317380e+06\n",
       "25%      4.064316e+06\n",
       "50%      4.323138e+06\n",
       "75%      4.488743e+06\n",
       "max      4.760801e+06\n",
       "dtype: float64"
      ]
     },
     "execution_count": 38,
     "metadata": {},
     "output_type": "execute_result"
    }
   ],
   "source": [
    "drug_df.describe()"
   ]
  },
  {
   "cell_type": "code",
   "execution_count": 39,
   "metadata": {},
   "outputs": [
    {
     "data": {
      "text/plain": [
       "(4240773.5, 334669.3)"
      ]
     },
     "metadata": {},
     "output_type": "display_data"
    }
   ],
   "source": [
    "drug_mean, drug_std = drug_df.mean(), drug_df.std()\n",
    "display((drug_mean, drug_std))"
   ]
  },
  {
   "cell_type": "code",
   "execution_count": 40,
   "metadata": {},
   "outputs": [
    {
     "data": {
      "text/plain": [
       "count    4.091000e+03\n",
       "mean    -7.086703e-07\n",
       "std      9.999999e-01\n",
       "min     -5.747145e+00\n",
       "25%     -5.272593e-01\n",
       "50%      2.461071e-01\n",
       "75%      7.409381e-01\n",
       "max      1.553855e+00\n",
       "dtype: float64"
      ]
     },
     "metadata": {},
     "output_type": "display_data"
    }
   ],
   "source": [
    "drug_df_std = (drug_df - drug_mean) / drug_std\n",
    "drug_df_stats = drug_df_std.describe()\n",
    "display(drug_df_stats)"
   ]
  },
  {
   "cell_type": "code",
   "execution_count": 41,
   "metadata": {},
   "outputs": [
    {
     "data": {
      "text/plain": [
       "0.80    0.834881\n",
       "0.85    0.938875\n",
       "0.90    1.036803\n",
       "0.95    1.185430\n",
       "dtype: float64"
      ]
     },
     "execution_count": 41,
     "metadata": {},
     "output_type": "execute_result"
    }
   ],
   "source": [
    "drug_df_std.quantile([0.80, 0.85, 0.90, 0.95])"
   ]
  },
  {
   "cell_type": "code",
   "execution_count": 42,
   "metadata": {},
   "outputs": [],
   "source": [
    "drug_df = (drug_df.loc[_phenomexcan_traits] - drug_mean) / drug_std"
   ]
  },
  {
   "cell_type": "code",
   "execution_count": 43,
   "metadata": {},
   "outputs": [
    {
     "data": {
      "text/plain": [
       "(12,)"
      ]
     },
     "execution_count": 43,
     "metadata": {},
     "output_type": "execute_result"
    }
   ],
   "source": [
    "drug_df.shape"
   ]
  },
  {
   "cell_type": "code",
   "execution_count": 44,
   "metadata": {},
   "outputs": [
    {
     "data": {
      "text/plain": [
       "20002_1075-Noncancer_illness_code_selfreported_heart_attackmyocardial_infarction   -0.729630\n",
       "6150_1-Vascularheart_problems_diagnosed_by_doctor_Heart_attack                     -0.674999\n",
       "I21-Diagnoses_main_ICD10_I21_Acute_myocardial_infarction                            0.006146\n",
       "I9_MI-Myocardial_infarction                                                         0.526662\n",
       "I9_CHD-Major_coronary_heart_disease_event                                           0.606446\n",
       "6150_100-Vascularheart_problems_diagnosed_by_doctor_None_of_the_above               0.892451\n",
       "20002_1473-Noncancer_illness_code_selfreported_high_cholesterol                     0.923297\n",
       "I70-Diagnoses_main_ICD10_I70_Atherosclerosis                                        0.997216\n",
       "CARDIoGRAM_C4D_CAD_ADDITIVE                                                         1.067548\n",
       "I9_IHD-Ischaemic_heart_disease_wide_definition                                      1.288033\n",
       "I25-Diagnoses_main_ICD10_I25_Chronic_ischaemic_heart_disease                        1.335370\n",
       "I9_CORATHER-Coronary_atherosclerosis                                                1.335742\n",
       "dtype: float32"
      ]
     },
     "execution_count": 44,
     "metadata": {},
     "output_type": "execute_result"
    }
   ],
   "source": [
    "drug_df.sort_values()"
   ]
  },
  {
   "cell_type": "markdown",
   "metadata": {},
   "source": [
    "All predictions of Niacin for these traits are high (above the mean and a standard deviation away)"
   ]
  },
  {
   "cell_type": "code",
   "execution_count": 45,
   "metadata": {},
   "outputs": [],
   "source": [
    "# select traits for which niacin has a high prediction\n",
    "selected_traits = drug_df[drug_df > drug_df_stats[\"75%\"]].index.tolist()"
   ]
  },
  {
   "cell_type": "code",
   "execution_count": 46,
   "metadata": {},
   "outputs": [
    {
     "data": {
      "text/plain": [
       "['I70-Diagnoses_main_ICD10_I70_Atherosclerosis',\n",
       " 'CARDIoGRAM_C4D_CAD_ADDITIVE',\n",
       " 'I25-Diagnoses_main_ICD10_I25_Chronic_ischaemic_heart_disease',\n",
       " '20002_1473-Noncancer_illness_code_selfreported_high_cholesterol',\n",
       " '6150_100-Vascularheart_problems_diagnosed_by_doctor_None_of_the_above',\n",
       " 'I9_CORATHER-Coronary_atherosclerosis',\n",
       " 'I9_IHD-Ischaemic_heart_disease_wide_definition']"
      ]
     },
     "execution_count": 46,
     "metadata": {},
     "output_type": "execute_result"
    }
   ],
   "source": [
    "selected_traits"
   ]
  },
  {
   "cell_type": "markdown",
   "metadata": {},
   "source": [
    "## Gene module-based - LVs driving association"
   ]
  },
  {
   "cell_type": "code",
   "execution_count": 47,
   "metadata": {},
   "outputs": [],
   "source": [
    "def find_best_tissue(trait_id):\n",
    "    return traits_best_tissues_df.loc[trait_id]"
   ]
  },
  {
   "cell_type": "code",
   "execution_count": 48,
   "metadata": {},
   "outputs": [
    {
     "data": {
      "text/plain": [
       "'Heart_Atrial_Appendage'"
      ]
     },
     "metadata": {},
     "output_type": "display_data"
    }
   ],
   "source": [
    "_tmp_res = find_best_tissue(\"I9_CORATHER-Coronary_atherosclerosis\")\n",
    "display(_tmp_res)"
   ]
  },
  {
   "cell_type": "code",
   "execution_count": 49,
   "metadata": {},
   "outputs": [
    {
     "data": {
      "text/plain": [
       "'Cells_Cultured_fibroblasts'"
      ]
     },
     "metadata": {},
     "output_type": "display_data"
    },
    {
     "data": {
      "text/plain": [
       "'Colon_Transverse'"
      ]
     },
     "metadata": {},
     "output_type": "display_data"
    },
    {
     "data": {
      "text/plain": [
       "'Brain_Putamen_basal_ganglia'"
      ]
     },
     "metadata": {},
     "output_type": "display_data"
    },
    {
     "data": {
      "text/plain": [
       "'Brain_Amygdala'"
      ]
     },
     "metadata": {},
     "output_type": "display_data"
    },
    {
     "data": {
      "text/plain": [
       "'Liver'"
      ]
     },
     "metadata": {},
     "output_type": "display_data"
    },
    {
     "data": {
      "text/plain": [
       "'Heart_Atrial_Appendage'"
      ]
     },
     "metadata": {},
     "output_type": "display_data"
    },
    {
     "data": {
      "text/plain": [
       "'Brain_Cerebellar_Hemisphere'"
      ]
     },
     "metadata": {},
     "output_type": "display_data"
    }
   ],
   "source": [
    "# available_doids = set(predictions_by_tissue[\"trait\"].unique())\n",
    "traits_lv_data = []\n",
    "\n",
    "for trait in selected_traits:\n",
    "    best_module_tissue = find_best_tissue(trait)\n",
    "    display(best_module_tissue)\n",
    "\n",
    "    best_module_tissue_data = pd.read_pickle(\n",
    "        conf.RESULTS[\"DRUG_DISEASE_ANALYSES\"]\n",
    "        / \"spredixcan\"\n",
    "        / \"proj\"\n",
    "        / f\"spredixcan-mashr-zscores-{best_module_tissue}-projection.pkl\"\n",
    "    )[trait]\n",
    "\n",
    "    traits_lv_data.append(best_module_tissue_data)"
   ]
  },
  {
   "cell_type": "code",
   "execution_count": 50,
   "metadata": {},
   "outputs": [],
   "source": [
    "module_tissue_data = pd.DataFrame(traits_lv_data).T"
   ]
  },
  {
   "cell_type": "code",
   "execution_count": 51,
   "metadata": {},
   "outputs": [
    {
     "data": {
      "text/plain": [
       "(987, 7)"
      ]
     },
     "execution_count": 51,
     "metadata": {},
     "output_type": "execute_result"
    }
   ],
   "source": [
    "module_tissue_data.shape"
   ]
  },
  {
   "cell_type": "code",
   "execution_count": 52,
   "metadata": {},
   "outputs": [
    {
     "data": {
      "text/html": [
       "<div>\n",
       "<style scoped>\n",
       "    .dataframe tbody tr th:only-of-type {\n",
       "        vertical-align: middle;\n",
       "    }\n",
       "\n",
       "    .dataframe tbody tr th {\n",
       "        vertical-align: top;\n",
       "    }\n",
       "\n",
       "    .dataframe thead th {\n",
       "        text-align: right;\n",
       "    }\n",
       "</style>\n",
       "<table border=\"1\" class=\"dataframe\">\n",
       "  <thead>\n",
       "    <tr style=\"text-align: right;\">\n",
       "      <th></th>\n",
       "      <th>I70-Diagnoses_main_ICD10_I70_Atherosclerosis</th>\n",
       "      <th>CARDIoGRAM_C4D_CAD_ADDITIVE</th>\n",
       "      <th>I25-Diagnoses_main_ICD10_I25_Chronic_ischaemic_heart_disease</th>\n",
       "      <th>20002_1473-Noncancer_illness_code_selfreported_high_cholesterol</th>\n",
       "      <th>6150_100-Vascularheart_problems_diagnosed_by_doctor_None_of_the_above</th>\n",
       "      <th>I9_CORATHER-Coronary_atherosclerosis</th>\n",
       "      <th>I9_IHD-Ischaemic_heart_disease_wide_definition</th>\n",
       "    </tr>\n",
       "  </thead>\n",
       "  <tbody>\n",
       "    <tr>\n",
       "      <th>LV1</th>\n",
       "      <td>0.005720</td>\n",
       "      <td>-0.002536</td>\n",
       "      <td>0.003223</td>\n",
       "      <td>0.027183</td>\n",
       "      <td>-0.009975</td>\n",
       "      <td>-0.041645</td>\n",
       "      <td>-0.034174</td>\n",
       "    </tr>\n",
       "    <tr>\n",
       "      <th>LV2</th>\n",
       "      <td>-0.002927</td>\n",
       "      <td>-0.040910</td>\n",
       "      <td>0.009556</td>\n",
       "      <td>0.031170</td>\n",
       "      <td>-0.000601</td>\n",
       "      <td>-0.053181</td>\n",
       "      <td>-0.025907</td>\n",
       "    </tr>\n",
       "    <tr>\n",
       "      <th>LV3</th>\n",
       "      <td>0.002734</td>\n",
       "      <td>0.033692</td>\n",
       "      <td>-0.005872</td>\n",
       "      <td>-0.015628</td>\n",
       "      <td>0.029873</td>\n",
       "      <td>-0.018676</td>\n",
       "      <td>-0.020514</td>\n",
       "    </tr>\n",
       "    <tr>\n",
       "      <th>LV4</th>\n",
       "      <td>0.015454</td>\n",
       "      <td>-0.017444</td>\n",
       "      <td>0.004483</td>\n",
       "      <td>0.000231</td>\n",
       "      <td>-0.073387</td>\n",
       "      <td>0.022468</td>\n",
       "      <td>-0.046343</td>\n",
       "    </tr>\n",
       "    <tr>\n",
       "      <th>LV5</th>\n",
       "      <td>0.027796</td>\n",
       "      <td>0.016727</td>\n",
       "      <td>-0.009114</td>\n",
       "      <td>-0.037452</td>\n",
       "      <td>0.032017</td>\n",
       "      <td>-0.030727</td>\n",
       "      <td>-0.015489</td>\n",
       "    </tr>\n",
       "  </tbody>\n",
       "</table>\n",
       "</div>"
      ],
      "text/plain": [
       "     I70-Diagnoses_main_ICD10_I70_Atherosclerosis  \\\n",
       "LV1                                      0.005720   \n",
       "LV2                                     -0.002927   \n",
       "LV3                                      0.002734   \n",
       "LV4                                      0.015454   \n",
       "LV5                                      0.027796   \n",
       "\n",
       "     CARDIoGRAM_C4D_CAD_ADDITIVE  \\\n",
       "LV1                    -0.002536   \n",
       "LV2                    -0.040910   \n",
       "LV3                     0.033692   \n",
       "LV4                    -0.017444   \n",
       "LV5                     0.016727   \n",
       "\n",
       "     I25-Diagnoses_main_ICD10_I25_Chronic_ischaemic_heart_disease  \\\n",
       "LV1                                           0.003223              \n",
       "LV2                                           0.009556              \n",
       "LV3                                          -0.005872              \n",
       "LV4                                           0.004483              \n",
       "LV5                                          -0.009114              \n",
       "\n",
       "     20002_1473-Noncancer_illness_code_selfreported_high_cholesterol  \\\n",
       "LV1                                           0.027183                 \n",
       "LV2                                           0.031170                 \n",
       "LV3                                          -0.015628                 \n",
       "LV4                                           0.000231                 \n",
       "LV5                                          -0.037452                 \n",
       "\n",
       "     6150_100-Vascularheart_problems_diagnosed_by_doctor_None_of_the_above  \\\n",
       "LV1                                          -0.009975                       \n",
       "LV2                                          -0.000601                       \n",
       "LV3                                           0.029873                       \n",
       "LV4                                          -0.073387                       \n",
       "LV5                                           0.032017                       \n",
       "\n",
       "     I9_CORATHER-Coronary_atherosclerosis  \\\n",
       "LV1                             -0.041645   \n",
       "LV2                             -0.053181   \n",
       "LV3                             -0.018676   \n",
       "LV4                              0.022468   \n",
       "LV5                             -0.030727   \n",
       "\n",
       "     I9_IHD-Ischaemic_heart_disease_wide_definition  \n",
       "LV1                                       -0.034174  \n",
       "LV2                                       -0.025907  \n",
       "LV3                                       -0.020514  \n",
       "LV4                                       -0.046343  \n",
       "LV5                                       -0.015489  "
      ]
     },
     "execution_count": 52,
     "metadata": {},
     "output_type": "execute_result"
    }
   ],
   "source": [
    "module_tissue_data.head()"
   ]
  },
  {
   "cell_type": "code",
   "execution_count": 53,
   "metadata": {},
   "outputs": [],
   "source": [
    "drug_data = lincs_projection.loc[_drug_id]"
   ]
  },
  {
   "cell_type": "code",
   "execution_count": 54,
   "metadata": {},
   "outputs": [
    {
     "data": {
      "text/plain": [
       "LV1   -0.032338\n",
       "LV2    0.007960\n",
       "LV3    0.009136\n",
       "LV4   -0.005717\n",
       "LV5   -0.023626\n",
       "Name: DB00627, dtype: float64"
      ]
     },
     "execution_count": 54,
     "metadata": {},
     "output_type": "execute_result"
    }
   ],
   "source": [
    "drug_data.head()"
   ]
  },
  {
   "cell_type": "code",
   "execution_count": 55,
   "metadata": {},
   "outputs": [
    {
     "data": {
      "text/plain": [
       "I9_IHD-Ischaemic_heart_disease_wide_definition                           0.041041\n",
       "6150_100-Vascularheart_problems_diagnosed_by_doctor_None_of_the_above    0.033455\n",
       "I9_CORATHER-Coronary_atherosclerosis                                     0.025396\n",
       "I70-Diagnoses_main_ICD10_I70_Atherosclerosis                             0.023000\n",
       "I25-Diagnoses_main_ICD10_I25_Chronic_ischaemic_heart_disease             0.021002\n",
       "20002_1473-Noncancer_illness_code_selfreported_high_cholesterol          0.018520\n",
       "CARDIoGRAM_C4D_CAD_ADDITIVE                                              0.016894\n",
       "Name: DB00627, dtype: float64"
      ]
     },
     "metadata": {},
     "output_type": "display_data"
    }
   ],
   "source": [
    "_tmp = (-1.0 * drug_data.dot(module_tissue_data)).sort_values(ascending=False)\n",
    "display(_tmp)"
   ]
  },
  {
   "cell_type": "code",
   "execution_count": 56,
   "metadata": {},
   "outputs": [],
   "source": [
    "drug_trait_predictions = pd.DataFrame(\n",
    "    -1.0 * (drug_data.to_frame().values * module_tissue_data.values),\n",
    "    columns=module_tissue_data.columns.copy(),\n",
    "    index=drug_data.index.copy(),\n",
    ")"
   ]
  },
  {
   "cell_type": "code",
   "execution_count": 57,
   "metadata": {},
   "outputs": [
    {
     "data": {
      "text/plain": [
       "(987, 7)"
      ]
     },
     "execution_count": 57,
     "metadata": {},
     "output_type": "execute_result"
    }
   ],
   "source": [
    "drug_trait_predictions.shape"
   ]
  },
  {
   "cell_type": "code",
   "execution_count": 58,
   "metadata": {},
   "outputs": [
    {
     "data": {
      "text/html": [
       "<div>\n",
       "<style scoped>\n",
       "    .dataframe tbody tr th:only-of-type {\n",
       "        vertical-align: middle;\n",
       "    }\n",
       "\n",
       "    .dataframe tbody tr th {\n",
       "        vertical-align: top;\n",
       "    }\n",
       "\n",
       "    .dataframe thead th {\n",
       "        text-align: right;\n",
       "    }\n",
       "</style>\n",
       "<table border=\"1\" class=\"dataframe\">\n",
       "  <thead>\n",
       "    <tr style=\"text-align: right;\">\n",
       "      <th></th>\n",
       "      <th>I70-Diagnoses_main_ICD10_I70_Atherosclerosis</th>\n",
       "      <th>CARDIoGRAM_C4D_CAD_ADDITIVE</th>\n",
       "      <th>I25-Diagnoses_main_ICD10_I25_Chronic_ischaemic_heart_disease</th>\n",
       "      <th>20002_1473-Noncancer_illness_code_selfreported_high_cholesterol</th>\n",
       "      <th>6150_100-Vascularheart_problems_diagnosed_by_doctor_None_of_the_above</th>\n",
       "      <th>I9_CORATHER-Coronary_atherosclerosis</th>\n",
       "      <th>I9_IHD-Ischaemic_heart_disease_wide_definition</th>\n",
       "    </tr>\n",
       "  </thead>\n",
       "  <tbody>\n",
       "    <tr>\n",
       "      <th>LV1</th>\n",
       "      <td>0.000185</td>\n",
       "      <td>-0.000082</td>\n",
       "      <td>0.000104</td>\n",
       "      <td>0.000879</td>\n",
       "      <td>-0.000323</td>\n",
       "      <td>-0.001347</td>\n",
       "      <td>-0.001105</td>\n",
       "    </tr>\n",
       "    <tr>\n",
       "      <th>LV2</th>\n",
       "      <td>0.000023</td>\n",
       "      <td>0.000326</td>\n",
       "      <td>-0.000076</td>\n",
       "      <td>-0.000248</td>\n",
       "      <td>0.000005</td>\n",
       "      <td>0.000423</td>\n",
       "      <td>0.000206</td>\n",
       "    </tr>\n",
       "    <tr>\n",
       "      <th>LV3</th>\n",
       "      <td>-0.000025</td>\n",
       "      <td>-0.000308</td>\n",
       "      <td>0.000054</td>\n",
       "      <td>0.000143</td>\n",
       "      <td>-0.000273</td>\n",
       "      <td>0.000171</td>\n",
       "      <td>0.000187</td>\n",
       "    </tr>\n",
       "    <tr>\n",
       "      <th>LV4</th>\n",
       "      <td>0.000088</td>\n",
       "      <td>-0.000100</td>\n",
       "      <td>0.000026</td>\n",
       "      <td>0.000001</td>\n",
       "      <td>-0.000420</td>\n",
       "      <td>0.000128</td>\n",
       "      <td>-0.000265</td>\n",
       "    </tr>\n",
       "    <tr>\n",
       "      <th>LV5</th>\n",
       "      <td>0.000657</td>\n",
       "      <td>0.000395</td>\n",
       "      <td>-0.000215</td>\n",
       "      <td>-0.000885</td>\n",
       "      <td>0.000756</td>\n",
       "      <td>-0.000726</td>\n",
       "      <td>-0.000366</td>\n",
       "    </tr>\n",
       "  </tbody>\n",
       "</table>\n",
       "</div>"
      ],
      "text/plain": [
       "     I70-Diagnoses_main_ICD10_I70_Atherosclerosis  \\\n",
       "LV1                                      0.000185   \n",
       "LV2                                      0.000023   \n",
       "LV3                                     -0.000025   \n",
       "LV4                                      0.000088   \n",
       "LV5                                      0.000657   \n",
       "\n",
       "     CARDIoGRAM_C4D_CAD_ADDITIVE  \\\n",
       "LV1                    -0.000082   \n",
       "LV2                     0.000326   \n",
       "LV3                    -0.000308   \n",
       "LV4                    -0.000100   \n",
       "LV5                     0.000395   \n",
       "\n",
       "     I25-Diagnoses_main_ICD10_I25_Chronic_ischaemic_heart_disease  \\\n",
       "LV1                                           0.000104              \n",
       "LV2                                          -0.000076              \n",
       "LV3                                           0.000054              \n",
       "LV4                                           0.000026              \n",
       "LV5                                          -0.000215              \n",
       "\n",
       "     20002_1473-Noncancer_illness_code_selfreported_high_cholesterol  \\\n",
       "LV1                                           0.000879                 \n",
       "LV2                                          -0.000248                 \n",
       "LV3                                           0.000143                 \n",
       "LV4                                           0.000001                 \n",
       "LV5                                          -0.000885                 \n",
       "\n",
       "     6150_100-Vascularheart_problems_diagnosed_by_doctor_None_of_the_above  \\\n",
       "LV1                                          -0.000323                       \n",
       "LV2                                           0.000005                       \n",
       "LV3                                          -0.000273                       \n",
       "LV4                                          -0.000420                       \n",
       "LV5                                           0.000756                       \n",
       "\n",
       "     I9_CORATHER-Coronary_atherosclerosis  \\\n",
       "LV1                             -0.001347   \n",
       "LV2                              0.000423   \n",
       "LV3                              0.000171   \n",
       "LV4                              0.000128   \n",
       "LV5                             -0.000726   \n",
       "\n",
       "     I9_IHD-Ischaemic_heart_disease_wide_definition  \n",
       "LV1                                       -0.001105  \n",
       "LV2                                        0.000206  \n",
       "LV3                                        0.000187  \n",
       "LV4                                       -0.000265  \n",
       "LV5                                       -0.000366  "
      ]
     },
     "execution_count": 58,
     "metadata": {},
     "output_type": "execute_result"
    }
   ],
   "source": [
    "drug_trait_predictions.head()"
   ]
  },
  {
   "cell_type": "code",
   "execution_count": 59,
   "metadata": {},
   "outputs": [
    {
     "data": {
      "text/plain": [
       "'Name: Diagnoses - main ICD10: I70 Atherosclerosis'"
      ]
     },
     "metadata": {},
     "output_type": "display_data"
    },
    {
     "data": {
      "text/plain": [
       "'Sample size: (361194, 566.0)'"
      ]
     },
     "metadata": {},
     "output_type": "display_data"
    },
    {
     "data": {
      "text/plain": [
       "'Number of LVs: 25'"
      ]
     },
     "metadata": {},
     "output_type": "display_data"
    },
    {
     "data": {
      "text/html": [
       "<div>\n",
       "<style scoped>\n",
       "    .dataframe tbody tr th:only-of-type {\n",
       "        vertical-align: middle;\n",
       "    }\n",
       "\n",
       "    .dataframe tbody tr th {\n",
       "        vertical-align: top;\n",
       "    }\n",
       "\n",
       "    .dataframe thead th {\n",
       "        text-align: right;\n",
       "    }\n",
       "</style>\n",
       "<table border=\"1\" class=\"dataframe\">\n",
       "  <thead>\n",
       "    <tr style=\"text-align: right;\">\n",
       "      <th></th>\n",
       "      <th>lv</th>\n",
       "      <th>lv_diff</th>\n",
       "      <th>trait</th>\n",
       "    </tr>\n",
       "  </thead>\n",
       "  <tbody>\n",
       "    <tr>\n",
       "      <th>0</th>\n",
       "      <td>LV116</td>\n",
       "      <td>0.006180</td>\n",
       "      <td>I70-Diagnoses_main_ICD10_I70_Atherosclerosis</td>\n",
       "    </tr>\n",
       "    <tr>\n",
       "      <th>1</th>\n",
       "      <td>LV931</td>\n",
       "      <td>0.004843</td>\n",
       "      <td>I70-Diagnoses_main_ICD10_I70_Atherosclerosis</td>\n",
       "    </tr>\n",
       "    <tr>\n",
       "      <th>2</th>\n",
       "      <td>LV744</td>\n",
       "      <td>0.002292</td>\n",
       "      <td>I70-Diagnoses_main_ICD10_I70_Atherosclerosis</td>\n",
       "    </tr>\n",
       "    <tr>\n",
       "      <th>3</th>\n",
       "      <td>LV697</td>\n",
       "      <td>0.002231</td>\n",
       "      <td>I70-Diagnoses_main_ICD10_I70_Atherosclerosis</td>\n",
       "    </tr>\n",
       "    <tr>\n",
       "      <th>4</th>\n",
       "      <td>LV885</td>\n",
       "      <td>0.001984</td>\n",
       "      <td>I70-Diagnoses_main_ICD10_I70_Atherosclerosis</td>\n",
       "    </tr>\n",
       "    <tr>\n",
       "      <th>5</th>\n",
       "      <td>LV536</td>\n",
       "      <td>0.001956</td>\n",
       "      <td>I70-Diagnoses_main_ICD10_I70_Atherosclerosis</td>\n",
       "    </tr>\n",
       "    <tr>\n",
       "      <th>6</th>\n",
       "      <td>LV550</td>\n",
       "      <td>0.001933</td>\n",
       "      <td>I70-Diagnoses_main_ICD10_I70_Atherosclerosis</td>\n",
       "    </tr>\n",
       "    <tr>\n",
       "      <th>7</th>\n",
       "      <td>LV220</td>\n",
       "      <td>0.001822</td>\n",
       "      <td>I70-Diagnoses_main_ICD10_I70_Atherosclerosis</td>\n",
       "    </tr>\n",
       "    <tr>\n",
       "      <th>8</th>\n",
       "      <td>LV272</td>\n",
       "      <td>0.001785</td>\n",
       "      <td>I70-Diagnoses_main_ICD10_I70_Atherosclerosis</td>\n",
       "    </tr>\n",
       "    <tr>\n",
       "      <th>9</th>\n",
       "      <td>LV739</td>\n",
       "      <td>0.001770</td>\n",
       "      <td>I70-Diagnoses_main_ICD10_I70_Atherosclerosis</td>\n",
       "    </tr>\n",
       "    <tr>\n",
       "      <th>10</th>\n",
       "      <td>LV678</td>\n",
       "      <td>0.001525</td>\n",
       "      <td>I70-Diagnoses_main_ICD10_I70_Atherosclerosis</td>\n",
       "    </tr>\n",
       "    <tr>\n",
       "      <th>11</th>\n",
       "      <td>LV470</td>\n",
       "      <td>0.001444</td>\n",
       "      <td>I70-Diagnoses_main_ICD10_I70_Atherosclerosis</td>\n",
       "    </tr>\n",
       "    <tr>\n",
       "      <th>12</th>\n",
       "      <td>LV66</td>\n",
       "      <td>0.001375</td>\n",
       "      <td>I70-Diagnoses_main_ICD10_I70_Atherosclerosis</td>\n",
       "    </tr>\n",
       "    <tr>\n",
       "      <th>13</th>\n",
       "      <td>LV189</td>\n",
       "      <td>0.001371</td>\n",
       "      <td>I70-Diagnoses_main_ICD10_I70_Atherosclerosis</td>\n",
       "    </tr>\n",
       "    <tr>\n",
       "      <th>14</th>\n",
       "      <td>LV517</td>\n",
       "      <td>0.001296</td>\n",
       "      <td>I70-Diagnoses_main_ICD10_I70_Atherosclerosis</td>\n",
       "    </tr>\n",
       "    <tr>\n",
       "      <th>15</th>\n",
       "      <td>LV840</td>\n",
       "      <td>0.001285</td>\n",
       "      <td>I70-Diagnoses_main_ICD10_I70_Atherosclerosis</td>\n",
       "    </tr>\n",
       "    <tr>\n",
       "      <th>16</th>\n",
       "      <td>LV246</td>\n",
       "      <td>0.001253</td>\n",
       "      <td>I70-Diagnoses_main_ICD10_I70_Atherosclerosis</td>\n",
       "    </tr>\n",
       "    <tr>\n",
       "      <th>17</th>\n",
       "      <td>LV502</td>\n",
       "      <td>0.001249</td>\n",
       "      <td>I70-Diagnoses_main_ICD10_I70_Atherosclerosis</td>\n",
       "    </tr>\n",
       "    <tr>\n",
       "      <th>18</th>\n",
       "      <td>LV525</td>\n",
       "      <td>0.001227</td>\n",
       "      <td>I70-Diagnoses_main_ICD10_I70_Atherosclerosis</td>\n",
       "    </tr>\n",
       "    <tr>\n",
       "      <th>19</th>\n",
       "      <td>LV85</td>\n",
       "      <td>0.001220</td>\n",
       "      <td>I70-Diagnoses_main_ICD10_I70_Atherosclerosis</td>\n",
       "    </tr>\n",
       "  </tbody>\n",
       "</table>\n",
       "</div>"
      ],
      "text/plain": [
       "       lv   lv_diff                                         trait\n",
       "0   LV116  0.006180  I70-Diagnoses_main_ICD10_I70_Atherosclerosis\n",
       "1   LV931  0.004843  I70-Diagnoses_main_ICD10_I70_Atherosclerosis\n",
       "2   LV744  0.002292  I70-Diagnoses_main_ICD10_I70_Atherosclerosis\n",
       "3   LV697  0.002231  I70-Diagnoses_main_ICD10_I70_Atherosclerosis\n",
       "4   LV885  0.001984  I70-Diagnoses_main_ICD10_I70_Atherosclerosis\n",
       "5   LV536  0.001956  I70-Diagnoses_main_ICD10_I70_Atherosclerosis\n",
       "6   LV550  0.001933  I70-Diagnoses_main_ICD10_I70_Atherosclerosis\n",
       "7   LV220  0.001822  I70-Diagnoses_main_ICD10_I70_Atherosclerosis\n",
       "8   LV272  0.001785  I70-Diagnoses_main_ICD10_I70_Atherosclerosis\n",
       "9   LV739  0.001770  I70-Diagnoses_main_ICD10_I70_Atherosclerosis\n",
       "10  LV678  0.001525  I70-Diagnoses_main_ICD10_I70_Atherosclerosis\n",
       "11  LV470  0.001444  I70-Diagnoses_main_ICD10_I70_Atherosclerosis\n",
       "12   LV66  0.001375  I70-Diagnoses_main_ICD10_I70_Atherosclerosis\n",
       "13  LV189  0.001371  I70-Diagnoses_main_ICD10_I70_Atherosclerosis\n",
       "14  LV517  0.001296  I70-Diagnoses_main_ICD10_I70_Atherosclerosis\n",
       "15  LV840  0.001285  I70-Diagnoses_main_ICD10_I70_Atherosclerosis\n",
       "16  LV246  0.001253  I70-Diagnoses_main_ICD10_I70_Atherosclerosis\n",
       "17  LV502  0.001249  I70-Diagnoses_main_ICD10_I70_Atherosclerosis\n",
       "18  LV525  0.001227  I70-Diagnoses_main_ICD10_I70_Atherosclerosis\n",
       "19   LV85  0.001220  I70-Diagnoses_main_ICD10_I70_Atherosclerosis"
      ]
     },
     "metadata": {},
     "output_type": "display_data"
    },
    {
     "name": "stdout",
     "output_type": "stream",
     "text": [
      "\n"
     ]
    },
    {
     "data": {
      "text/plain": [
       "'Name: Coronary Artery Disease'"
      ]
     },
     "metadata": {},
     "output_type": "display_data"
    },
    {
     "data": {
      "text/plain": [
       "'Sample size: (184305, 60801.0)'"
      ]
     },
     "metadata": {},
     "output_type": "display_data"
    },
    {
     "data": {
      "text/plain": [
       "'Number of LVs: 25'"
      ]
     },
     "metadata": {},
     "output_type": "display_data"
    },
    {
     "data": {
      "text/html": [
       "<div>\n",
       "<style scoped>\n",
       "    .dataframe tbody tr th:only-of-type {\n",
       "        vertical-align: middle;\n",
       "    }\n",
       "\n",
       "    .dataframe tbody tr th {\n",
       "        vertical-align: top;\n",
       "    }\n",
       "\n",
       "    .dataframe thead th {\n",
       "        text-align: right;\n",
       "    }\n",
       "</style>\n",
       "<table border=\"1\" class=\"dataframe\">\n",
       "  <thead>\n",
       "    <tr style=\"text-align: right;\">\n",
       "      <th></th>\n",
       "      <th>lv</th>\n",
       "      <th>lv_diff</th>\n",
       "      <th>trait</th>\n",
       "    </tr>\n",
       "  </thead>\n",
       "  <tbody>\n",
       "    <tr>\n",
       "      <th>0</th>\n",
       "      <td>LV536</td>\n",
       "      <td>0.005978</td>\n",
       "      <td>CARDIoGRAM_C4D_CAD_ADDITIVE</td>\n",
       "    </tr>\n",
       "    <tr>\n",
       "      <th>1</th>\n",
       "      <td>LV74</td>\n",
       "      <td>0.004517</td>\n",
       "      <td>CARDIoGRAM_C4D_CAD_ADDITIVE</td>\n",
       "    </tr>\n",
       "    <tr>\n",
       "      <th>2</th>\n",
       "      <td>LV879</td>\n",
       "      <td>0.003454</td>\n",
       "      <td>CARDIoGRAM_C4D_CAD_ADDITIVE</td>\n",
       "    </tr>\n",
       "    <tr>\n",
       "      <th>3</th>\n",
       "      <td>LV38</td>\n",
       "      <td>0.002886</td>\n",
       "      <td>CARDIoGRAM_C4D_CAD_ADDITIVE</td>\n",
       "    </tr>\n",
       "    <tr>\n",
       "      <th>4</th>\n",
       "      <td>LV841</td>\n",
       "      <td>0.002169</td>\n",
       "      <td>CARDIoGRAM_C4D_CAD_ADDITIVE</td>\n",
       "    </tr>\n",
       "    <tr>\n",
       "      <th>5</th>\n",
       "      <td>LV530</td>\n",
       "      <td>0.001887</td>\n",
       "      <td>CARDIoGRAM_C4D_CAD_ADDITIVE</td>\n",
       "    </tr>\n",
       "    <tr>\n",
       "      <th>6</th>\n",
       "      <td>LV163</td>\n",
       "      <td>0.001600</td>\n",
       "      <td>CARDIoGRAM_C4D_CAD_ADDITIVE</td>\n",
       "    </tr>\n",
       "    <tr>\n",
       "      <th>7</th>\n",
       "      <td>LV678</td>\n",
       "      <td>0.001565</td>\n",
       "      <td>CARDIoGRAM_C4D_CAD_ADDITIVE</td>\n",
       "    </tr>\n",
       "    <tr>\n",
       "      <th>8</th>\n",
       "      <td>LV824</td>\n",
       "      <td>0.001456</td>\n",
       "      <td>CARDIoGRAM_C4D_CAD_ADDITIVE</td>\n",
       "    </tr>\n",
       "    <tr>\n",
       "      <th>9</th>\n",
       "      <td>LV58</td>\n",
       "      <td>0.001449</td>\n",
       "      <td>CARDIoGRAM_C4D_CAD_ADDITIVE</td>\n",
       "    </tr>\n",
       "    <tr>\n",
       "      <th>10</th>\n",
       "      <td>LV256</td>\n",
       "      <td>0.001403</td>\n",
       "      <td>CARDIoGRAM_C4D_CAD_ADDITIVE</td>\n",
       "    </tr>\n",
       "    <tr>\n",
       "      <th>11</th>\n",
       "      <td>LV59</td>\n",
       "      <td>0.001383</td>\n",
       "      <td>CARDIoGRAM_C4D_CAD_ADDITIVE</td>\n",
       "    </tr>\n",
       "    <tr>\n",
       "      <th>12</th>\n",
       "      <td>LV95</td>\n",
       "      <td>0.001338</td>\n",
       "      <td>CARDIoGRAM_C4D_CAD_ADDITIVE</td>\n",
       "    </tr>\n",
       "    <tr>\n",
       "      <th>13</th>\n",
       "      <td>LV104</td>\n",
       "      <td>0.001336</td>\n",
       "      <td>CARDIoGRAM_C4D_CAD_ADDITIVE</td>\n",
       "    </tr>\n",
       "    <tr>\n",
       "      <th>14</th>\n",
       "      <td>LV136</td>\n",
       "      <td>0.001332</td>\n",
       "      <td>CARDIoGRAM_C4D_CAD_ADDITIVE</td>\n",
       "    </tr>\n",
       "    <tr>\n",
       "      <th>15</th>\n",
       "      <td>LV97</td>\n",
       "      <td>0.001327</td>\n",
       "      <td>CARDIoGRAM_C4D_CAD_ADDITIVE</td>\n",
       "    </tr>\n",
       "    <tr>\n",
       "      <th>16</th>\n",
       "      <td>LV189</td>\n",
       "      <td>0.001298</td>\n",
       "      <td>CARDIoGRAM_C4D_CAD_ADDITIVE</td>\n",
       "    </tr>\n",
       "    <tr>\n",
       "      <th>17</th>\n",
       "      <td>LV239</td>\n",
       "      <td>0.001296</td>\n",
       "      <td>CARDIoGRAM_C4D_CAD_ADDITIVE</td>\n",
       "    </tr>\n",
       "    <tr>\n",
       "      <th>18</th>\n",
       "      <td>LV170</td>\n",
       "      <td>0.001292</td>\n",
       "      <td>CARDIoGRAM_C4D_CAD_ADDITIVE</td>\n",
       "    </tr>\n",
       "    <tr>\n",
       "      <th>19</th>\n",
       "      <td>LV885</td>\n",
       "      <td>0.001170</td>\n",
       "      <td>CARDIoGRAM_C4D_CAD_ADDITIVE</td>\n",
       "    </tr>\n",
       "  </tbody>\n",
       "</table>\n",
       "</div>"
      ],
      "text/plain": [
       "       lv   lv_diff                        trait\n",
       "0   LV536  0.005978  CARDIoGRAM_C4D_CAD_ADDITIVE\n",
       "1    LV74  0.004517  CARDIoGRAM_C4D_CAD_ADDITIVE\n",
       "2   LV879  0.003454  CARDIoGRAM_C4D_CAD_ADDITIVE\n",
       "3    LV38  0.002886  CARDIoGRAM_C4D_CAD_ADDITIVE\n",
       "4   LV841  0.002169  CARDIoGRAM_C4D_CAD_ADDITIVE\n",
       "5   LV530  0.001887  CARDIoGRAM_C4D_CAD_ADDITIVE\n",
       "6   LV163  0.001600  CARDIoGRAM_C4D_CAD_ADDITIVE\n",
       "7   LV678  0.001565  CARDIoGRAM_C4D_CAD_ADDITIVE\n",
       "8   LV824  0.001456  CARDIoGRAM_C4D_CAD_ADDITIVE\n",
       "9    LV58  0.001449  CARDIoGRAM_C4D_CAD_ADDITIVE\n",
       "10  LV256  0.001403  CARDIoGRAM_C4D_CAD_ADDITIVE\n",
       "11   LV59  0.001383  CARDIoGRAM_C4D_CAD_ADDITIVE\n",
       "12   LV95  0.001338  CARDIoGRAM_C4D_CAD_ADDITIVE\n",
       "13  LV104  0.001336  CARDIoGRAM_C4D_CAD_ADDITIVE\n",
       "14  LV136  0.001332  CARDIoGRAM_C4D_CAD_ADDITIVE\n",
       "15   LV97  0.001327  CARDIoGRAM_C4D_CAD_ADDITIVE\n",
       "16  LV189  0.001298  CARDIoGRAM_C4D_CAD_ADDITIVE\n",
       "17  LV239  0.001296  CARDIoGRAM_C4D_CAD_ADDITIVE\n",
       "18  LV170  0.001292  CARDIoGRAM_C4D_CAD_ADDITIVE\n",
       "19  LV885  0.001170  CARDIoGRAM_C4D_CAD_ADDITIVE"
      ]
     },
     "metadata": {},
     "output_type": "display_data"
    },
    {
     "name": "stdout",
     "output_type": "stream",
     "text": [
      "\n"
     ]
    },
    {
     "data": {
      "text/plain": [
       "'Name: Diagnoses - main ICD10: I25 Chronic ischaemic heart disease'"
      ]
     },
     "metadata": {},
     "output_type": "display_data"
    },
    {
     "data": {
      "text/plain": [
       "'Sample size: (361194, 12769.0)'"
      ]
     },
     "metadata": {},
     "output_type": "display_data"
    },
    {
     "data": {
      "text/plain": [
       "'Number of LVs: 25'"
      ]
     },
     "metadata": {},
     "output_type": "display_data"
    },
    {
     "data": {
      "text/html": [
       "<div>\n",
       "<style scoped>\n",
       "    .dataframe tbody tr th:only-of-type {\n",
       "        vertical-align: middle;\n",
       "    }\n",
       "\n",
       "    .dataframe tbody tr th {\n",
       "        vertical-align: top;\n",
       "    }\n",
       "\n",
       "    .dataframe thead th {\n",
       "        text-align: right;\n",
       "    }\n",
       "</style>\n",
       "<table border=\"1\" class=\"dataframe\">\n",
       "  <thead>\n",
       "    <tr style=\"text-align: right;\">\n",
       "      <th></th>\n",
       "      <th>lv</th>\n",
       "      <th>lv_diff</th>\n",
       "      <th>trait</th>\n",
       "    </tr>\n",
       "  </thead>\n",
       "  <tbody>\n",
       "    <tr>\n",
       "      <th>0</th>\n",
       "      <td>LV881</td>\n",
       "      <td>0.013063</td>\n",
       "      <td>I25-Diagnoses_main_ICD10_I25_Chronic_ischaemic...</td>\n",
       "    </tr>\n",
       "    <tr>\n",
       "      <th>1</th>\n",
       "      <td>LV163</td>\n",
       "      <td>0.005463</td>\n",
       "      <td>I25-Diagnoses_main_ICD10_I25_Chronic_ischaemic...</td>\n",
       "    </tr>\n",
       "    <tr>\n",
       "      <th>2</th>\n",
       "      <td>LV116</td>\n",
       "      <td>0.005052</td>\n",
       "      <td>I25-Diagnoses_main_ICD10_I25_Chronic_ischaemic...</td>\n",
       "    </tr>\n",
       "    <tr>\n",
       "      <th>3</th>\n",
       "      <td>LV227</td>\n",
       "      <td>0.002697</td>\n",
       "      <td>I25-Diagnoses_main_ICD10_I25_Chronic_ischaemic...</td>\n",
       "    </tr>\n",
       "    <tr>\n",
       "      <th>4</th>\n",
       "      <td>LV66</td>\n",
       "      <td>0.002403</td>\n",
       "      <td>I25-Diagnoses_main_ICD10_I25_Chronic_ischaemic...</td>\n",
       "    </tr>\n",
       "    <tr>\n",
       "      <th>5</th>\n",
       "      <td>LV442</td>\n",
       "      <td>0.002145</td>\n",
       "      <td>I25-Diagnoses_main_ICD10_I25_Chronic_ischaemic...</td>\n",
       "    </tr>\n",
       "    <tr>\n",
       "      <th>6</th>\n",
       "      <td>LV906</td>\n",
       "      <td>0.001888</td>\n",
       "      <td>I25-Diagnoses_main_ICD10_I25_Chronic_ischaemic...</td>\n",
       "    </tr>\n",
       "    <tr>\n",
       "      <th>7</th>\n",
       "      <td>LV175</td>\n",
       "      <td>0.001865</td>\n",
       "      <td>I25-Diagnoses_main_ICD10_I25_Chronic_ischaemic...</td>\n",
       "    </tr>\n",
       "    <tr>\n",
       "      <th>8</th>\n",
       "      <td>LV965</td>\n",
       "      <td>0.001627</td>\n",
       "      <td>I25-Diagnoses_main_ICD10_I25_Chronic_ischaemic...</td>\n",
       "    </tr>\n",
       "    <tr>\n",
       "      <th>9</th>\n",
       "      <td>LV395</td>\n",
       "      <td>0.001531</td>\n",
       "      <td>I25-Diagnoses_main_ICD10_I25_Chronic_ischaemic...</td>\n",
       "    </tr>\n",
       "    <tr>\n",
       "      <th>10</th>\n",
       "      <td>LV254</td>\n",
       "      <td>0.001448</td>\n",
       "      <td>I25-Diagnoses_main_ICD10_I25_Chronic_ischaemic...</td>\n",
       "    </tr>\n",
       "    <tr>\n",
       "      <th>11</th>\n",
       "      <td>LV707</td>\n",
       "      <td>0.001443</td>\n",
       "      <td>I25-Diagnoses_main_ICD10_I25_Chronic_ischaemic...</td>\n",
       "    </tr>\n",
       "    <tr>\n",
       "      <th>12</th>\n",
       "      <td>LV161</td>\n",
       "      <td>0.001369</td>\n",
       "      <td>I25-Diagnoses_main_ICD10_I25_Chronic_ischaemic...</td>\n",
       "    </tr>\n",
       "    <tr>\n",
       "      <th>13</th>\n",
       "      <td>LV97</td>\n",
       "      <td>0.001323</td>\n",
       "      <td>I25-Diagnoses_main_ICD10_I25_Chronic_ischaemic...</td>\n",
       "    </tr>\n",
       "    <tr>\n",
       "      <th>14</th>\n",
       "      <td>LV205</td>\n",
       "      <td>0.001266</td>\n",
       "      <td>I25-Diagnoses_main_ICD10_I25_Chronic_ischaemic...</td>\n",
       "    </tr>\n",
       "    <tr>\n",
       "      <th>15</th>\n",
       "      <td>LV151</td>\n",
       "      <td>0.001190</td>\n",
       "      <td>I25-Diagnoses_main_ICD10_I25_Chronic_ischaemic...</td>\n",
       "    </tr>\n",
       "    <tr>\n",
       "      <th>16</th>\n",
       "      <td>LV849</td>\n",
       "      <td>0.001187</td>\n",
       "      <td>I25-Diagnoses_main_ICD10_I25_Chronic_ischaemic...</td>\n",
       "    </tr>\n",
       "    <tr>\n",
       "      <th>17</th>\n",
       "      <td>LV38</td>\n",
       "      <td>0.001103</td>\n",
       "      <td>I25-Diagnoses_main_ICD10_I25_Chronic_ischaemic...</td>\n",
       "    </tr>\n",
       "    <tr>\n",
       "      <th>18</th>\n",
       "      <td>LV582</td>\n",
       "      <td>0.001069</td>\n",
       "      <td>I25-Diagnoses_main_ICD10_I25_Chronic_ischaemic...</td>\n",
       "    </tr>\n",
       "    <tr>\n",
       "      <th>19</th>\n",
       "      <td>LV720</td>\n",
       "      <td>0.001056</td>\n",
       "      <td>I25-Diagnoses_main_ICD10_I25_Chronic_ischaemic...</td>\n",
       "    </tr>\n",
       "  </tbody>\n",
       "</table>\n",
       "</div>"
      ],
      "text/plain": [
       "       lv   lv_diff                                              trait\n",
       "0   LV881  0.013063  I25-Diagnoses_main_ICD10_I25_Chronic_ischaemic...\n",
       "1   LV163  0.005463  I25-Diagnoses_main_ICD10_I25_Chronic_ischaemic...\n",
       "2   LV116  0.005052  I25-Diagnoses_main_ICD10_I25_Chronic_ischaemic...\n",
       "3   LV227  0.002697  I25-Diagnoses_main_ICD10_I25_Chronic_ischaemic...\n",
       "4    LV66  0.002403  I25-Diagnoses_main_ICD10_I25_Chronic_ischaemic...\n",
       "5   LV442  0.002145  I25-Diagnoses_main_ICD10_I25_Chronic_ischaemic...\n",
       "6   LV906  0.001888  I25-Diagnoses_main_ICD10_I25_Chronic_ischaemic...\n",
       "7   LV175  0.001865  I25-Diagnoses_main_ICD10_I25_Chronic_ischaemic...\n",
       "8   LV965  0.001627  I25-Diagnoses_main_ICD10_I25_Chronic_ischaemic...\n",
       "9   LV395  0.001531  I25-Diagnoses_main_ICD10_I25_Chronic_ischaemic...\n",
       "10  LV254  0.001448  I25-Diagnoses_main_ICD10_I25_Chronic_ischaemic...\n",
       "11  LV707  0.001443  I25-Diagnoses_main_ICD10_I25_Chronic_ischaemic...\n",
       "12  LV161  0.001369  I25-Diagnoses_main_ICD10_I25_Chronic_ischaemic...\n",
       "13   LV97  0.001323  I25-Diagnoses_main_ICD10_I25_Chronic_ischaemic...\n",
       "14  LV205  0.001266  I25-Diagnoses_main_ICD10_I25_Chronic_ischaemic...\n",
       "15  LV151  0.001190  I25-Diagnoses_main_ICD10_I25_Chronic_ischaemic...\n",
       "16  LV849  0.001187  I25-Diagnoses_main_ICD10_I25_Chronic_ischaemic...\n",
       "17   LV38  0.001103  I25-Diagnoses_main_ICD10_I25_Chronic_ischaemic...\n",
       "18  LV582  0.001069  I25-Diagnoses_main_ICD10_I25_Chronic_ischaemic...\n",
       "19  LV720  0.001056  I25-Diagnoses_main_ICD10_I25_Chronic_ischaemic..."
      ]
     },
     "metadata": {},
     "output_type": "display_data"
    },
    {
     "name": "stdout",
     "output_type": "stream",
     "text": [
      "\n"
     ]
    },
    {
     "data": {
      "text/plain": [
       "'Name: Non-cancer illness code, self-reported: high cholesterol'"
      ]
     },
     "metadata": {},
     "output_type": "display_data"
    },
    {
     "data": {
      "text/plain": [
       "'Sample size: (361141, 43957.0)'"
      ]
     },
     "metadata": {},
     "output_type": "display_data"
    },
    {
     "data": {
      "text/plain": [
       "'Number of LVs: 25'"
      ]
     },
     "metadata": {},
     "output_type": "display_data"
    },
    {
     "data": {
      "text/html": [
       "<div>\n",
       "<style scoped>\n",
       "    .dataframe tbody tr th:only-of-type {\n",
       "        vertical-align: middle;\n",
       "    }\n",
       "\n",
       "    .dataframe tbody tr th {\n",
       "        vertical-align: top;\n",
       "    }\n",
       "\n",
       "    .dataframe thead th {\n",
       "        text-align: right;\n",
       "    }\n",
       "</style>\n",
       "<table border=\"1\" class=\"dataframe\">\n",
       "  <thead>\n",
       "    <tr style=\"text-align: right;\">\n",
       "      <th></th>\n",
       "      <th>lv</th>\n",
       "      <th>lv_diff</th>\n",
       "      <th>trait</th>\n",
       "    </tr>\n",
       "  </thead>\n",
       "  <tbody>\n",
       "    <tr>\n",
       "      <th>0</th>\n",
       "      <td>LV227</td>\n",
       "      <td>0.002637</td>\n",
       "      <td>20002_1473-Noncancer_illness_code_selfreported...</td>\n",
       "    </tr>\n",
       "    <tr>\n",
       "      <th>1</th>\n",
       "      <td>LV97</td>\n",
       "      <td>0.002382</td>\n",
       "      <td>20002_1473-Noncancer_illness_code_selfreported...</td>\n",
       "    </tr>\n",
       "    <tr>\n",
       "      <th>2</th>\n",
       "      <td>LV547</td>\n",
       "      <td>0.002326</td>\n",
       "      <td>20002_1473-Noncancer_illness_code_selfreported...</td>\n",
       "    </tr>\n",
       "    <tr>\n",
       "      <th>3</th>\n",
       "      <td>LV95</td>\n",
       "      <td>0.002202</td>\n",
       "      <td>20002_1473-Noncancer_illness_code_selfreported...</td>\n",
       "    </tr>\n",
       "    <tr>\n",
       "      <th>4</th>\n",
       "      <td>LV530</td>\n",
       "      <td>0.002180</td>\n",
       "      <td>20002_1473-Noncancer_illness_code_selfreported...</td>\n",
       "    </tr>\n",
       "    <tr>\n",
       "      <th>5</th>\n",
       "      <td>LV170</td>\n",
       "      <td>0.001960</td>\n",
       "      <td>20002_1473-Noncancer_illness_code_selfreported...</td>\n",
       "    </tr>\n",
       "    <tr>\n",
       "      <th>6</th>\n",
       "      <td>LV525</td>\n",
       "      <td>0.001934</td>\n",
       "      <td>20002_1473-Noncancer_illness_code_selfreported...</td>\n",
       "    </tr>\n",
       "    <tr>\n",
       "      <th>7</th>\n",
       "      <td>LV246</td>\n",
       "      <td>0.001847</td>\n",
       "      <td>20002_1473-Noncancer_illness_code_selfreported...</td>\n",
       "    </tr>\n",
       "    <tr>\n",
       "      <th>8</th>\n",
       "      <td>LV738</td>\n",
       "      <td>0.001776</td>\n",
       "      <td>20002_1473-Noncancer_illness_code_selfreported...</td>\n",
       "    </tr>\n",
       "    <tr>\n",
       "      <th>9</th>\n",
       "      <td>LV940</td>\n",
       "      <td>0.001540</td>\n",
       "      <td>20002_1473-Noncancer_illness_code_selfreported...</td>\n",
       "    </tr>\n",
       "    <tr>\n",
       "      <th>10</th>\n",
       "      <td>LV50</td>\n",
       "      <td>0.001505</td>\n",
       "      <td>20002_1473-Noncancer_illness_code_selfreported...</td>\n",
       "    </tr>\n",
       "    <tr>\n",
       "      <th>11</th>\n",
       "      <td>LV678</td>\n",
       "      <td>0.001476</td>\n",
       "      <td>20002_1473-Noncancer_illness_code_selfreported...</td>\n",
       "    </tr>\n",
       "    <tr>\n",
       "      <th>12</th>\n",
       "      <td>LV163</td>\n",
       "      <td>0.001471</td>\n",
       "      <td>20002_1473-Noncancer_illness_code_selfreported...</td>\n",
       "    </tr>\n",
       "    <tr>\n",
       "      <th>13</th>\n",
       "      <td>LV905</td>\n",
       "      <td>0.001421</td>\n",
       "      <td>20002_1473-Noncancer_illness_code_selfreported...</td>\n",
       "    </tr>\n",
       "    <tr>\n",
       "      <th>14</th>\n",
       "      <td>LV885</td>\n",
       "      <td>0.001403</td>\n",
       "      <td>20002_1473-Noncancer_illness_code_selfreported...</td>\n",
       "    </tr>\n",
       "    <tr>\n",
       "      <th>15</th>\n",
       "      <td>LV184</td>\n",
       "      <td>0.001278</td>\n",
       "      <td>20002_1473-Noncancer_illness_code_selfreported...</td>\n",
       "    </tr>\n",
       "    <tr>\n",
       "      <th>16</th>\n",
       "      <td>LV667</td>\n",
       "      <td>0.001269</td>\n",
       "      <td>20002_1473-Noncancer_illness_code_selfreported...</td>\n",
       "    </tr>\n",
       "    <tr>\n",
       "      <th>17</th>\n",
       "      <td>LV707</td>\n",
       "      <td>0.001238</td>\n",
       "      <td>20002_1473-Noncancer_illness_code_selfreported...</td>\n",
       "    </tr>\n",
       "    <tr>\n",
       "      <th>18</th>\n",
       "      <td>LV631</td>\n",
       "      <td>0.001231</td>\n",
       "      <td>20002_1473-Noncancer_illness_code_selfreported...</td>\n",
       "    </tr>\n",
       "    <tr>\n",
       "      <th>19</th>\n",
       "      <td>LV876</td>\n",
       "      <td>0.001154</td>\n",
       "      <td>20002_1473-Noncancer_illness_code_selfreported...</td>\n",
       "    </tr>\n",
       "  </tbody>\n",
       "</table>\n",
       "</div>"
      ],
      "text/plain": [
       "       lv   lv_diff                                              trait\n",
       "0   LV227  0.002637  20002_1473-Noncancer_illness_code_selfreported...\n",
       "1    LV97  0.002382  20002_1473-Noncancer_illness_code_selfreported...\n",
       "2   LV547  0.002326  20002_1473-Noncancer_illness_code_selfreported...\n",
       "3    LV95  0.002202  20002_1473-Noncancer_illness_code_selfreported...\n",
       "4   LV530  0.002180  20002_1473-Noncancer_illness_code_selfreported...\n",
       "5   LV170  0.001960  20002_1473-Noncancer_illness_code_selfreported...\n",
       "6   LV525  0.001934  20002_1473-Noncancer_illness_code_selfreported...\n",
       "7   LV246  0.001847  20002_1473-Noncancer_illness_code_selfreported...\n",
       "8   LV738  0.001776  20002_1473-Noncancer_illness_code_selfreported...\n",
       "9   LV940  0.001540  20002_1473-Noncancer_illness_code_selfreported...\n",
       "10   LV50  0.001505  20002_1473-Noncancer_illness_code_selfreported...\n",
       "11  LV678  0.001476  20002_1473-Noncancer_illness_code_selfreported...\n",
       "12  LV163  0.001471  20002_1473-Noncancer_illness_code_selfreported...\n",
       "13  LV905  0.001421  20002_1473-Noncancer_illness_code_selfreported...\n",
       "14  LV885  0.001403  20002_1473-Noncancer_illness_code_selfreported...\n",
       "15  LV184  0.001278  20002_1473-Noncancer_illness_code_selfreported...\n",
       "16  LV667  0.001269  20002_1473-Noncancer_illness_code_selfreported...\n",
       "17  LV707  0.001238  20002_1473-Noncancer_illness_code_selfreported...\n",
       "18  LV631  0.001231  20002_1473-Noncancer_illness_code_selfreported...\n",
       "19  LV876  0.001154  20002_1473-Noncancer_illness_code_selfreported..."
      ]
     },
     "metadata": {},
     "output_type": "display_data"
    },
    {
     "name": "stdout",
     "output_type": "stream",
     "text": [
      "\n"
     ]
    },
    {
     "data": {
      "text/plain": [
       "'Name: Vascular/heart problems diagnosed by doctor: None of the above'"
      ]
     },
     "metadata": {},
     "output_type": "display_data"
    },
    {
     "data": {
      "text/plain": [
       "'Sample size: (360420, 253565.0)'"
      ]
     },
     "metadata": {},
     "output_type": "display_data"
    },
    {
     "data": {
      "text/plain": [
       "'Number of LVs: 26'"
      ]
     },
     "metadata": {},
     "output_type": "display_data"
    },
    {
     "data": {
      "text/html": [
       "<div>\n",
       "<style scoped>\n",
       "    .dataframe tbody tr th:only-of-type {\n",
       "        vertical-align: middle;\n",
       "    }\n",
       "\n",
       "    .dataframe tbody tr th {\n",
       "        vertical-align: top;\n",
       "    }\n",
       "\n",
       "    .dataframe thead th {\n",
       "        text-align: right;\n",
       "    }\n",
       "</style>\n",
       "<table border=\"1\" class=\"dataframe\">\n",
       "  <thead>\n",
       "    <tr style=\"text-align: right;\">\n",
       "      <th></th>\n",
       "      <th>lv</th>\n",
       "      <th>lv_diff</th>\n",
       "      <th>trait</th>\n",
       "    </tr>\n",
       "  </thead>\n",
       "  <tbody>\n",
       "    <tr>\n",
       "      <th>0</th>\n",
       "      <td>LV743</td>\n",
       "      <td>0.006904</td>\n",
       "      <td>6150_100-Vascularheart_problems_diagnosed_by_d...</td>\n",
       "    </tr>\n",
       "    <tr>\n",
       "      <th>1</th>\n",
       "      <td>LV969</td>\n",
       "      <td>0.004285</td>\n",
       "      <td>6150_100-Vascularheart_problems_diagnosed_by_d...</td>\n",
       "    </tr>\n",
       "    <tr>\n",
       "      <th>2</th>\n",
       "      <td>LV575</td>\n",
       "      <td>0.004086</td>\n",
       "      <td>6150_100-Vascularheart_problems_diagnosed_by_d...</td>\n",
       "    </tr>\n",
       "    <tr>\n",
       "      <th>3</th>\n",
       "      <td>LV829</td>\n",
       "      <td>0.003023</td>\n",
       "      <td>6150_100-Vascularheart_problems_diagnosed_by_d...</td>\n",
       "    </tr>\n",
       "    <tr>\n",
       "      <th>4</th>\n",
       "      <td>LV707</td>\n",
       "      <td>0.002743</td>\n",
       "      <td>6150_100-Vascularheart_problems_diagnosed_by_d...</td>\n",
       "    </tr>\n",
       "    <tr>\n",
       "      <th>5</th>\n",
       "      <td>LV840</td>\n",
       "      <td>0.002685</td>\n",
       "      <td>6150_100-Vascularheart_problems_diagnosed_by_d...</td>\n",
       "    </tr>\n",
       "    <tr>\n",
       "      <th>6</th>\n",
       "      <td>LV931</td>\n",
       "      <td>0.002528</td>\n",
       "      <td>6150_100-Vascularheart_problems_diagnosed_by_d...</td>\n",
       "    </tr>\n",
       "    <tr>\n",
       "      <th>7</th>\n",
       "      <td>LV254</td>\n",
       "      <td>0.002311</td>\n",
       "      <td>6150_100-Vascularheart_problems_diagnosed_by_d...</td>\n",
       "    </tr>\n",
       "    <tr>\n",
       "      <th>8</th>\n",
       "      <td>LV885</td>\n",
       "      <td>0.002250</td>\n",
       "      <td>6150_100-Vascularheart_problems_diagnosed_by_d...</td>\n",
       "    </tr>\n",
       "    <tr>\n",
       "      <th>9</th>\n",
       "      <td>LV656</td>\n",
       "      <td>0.002098</td>\n",
       "      <td>6150_100-Vascularheart_problems_diagnosed_by_d...</td>\n",
       "    </tr>\n",
       "    <tr>\n",
       "      <th>10</th>\n",
       "      <td>LV216</td>\n",
       "      <td>0.001912</td>\n",
       "      <td>6150_100-Vascularheart_problems_diagnosed_by_d...</td>\n",
       "    </tr>\n",
       "    <tr>\n",
       "      <th>11</th>\n",
       "      <td>LV95</td>\n",
       "      <td>0.001887</td>\n",
       "      <td>6150_100-Vascularheart_problems_diagnosed_by_d...</td>\n",
       "    </tr>\n",
       "    <tr>\n",
       "      <th>12</th>\n",
       "      <td>LV366</td>\n",
       "      <td>0.001873</td>\n",
       "      <td>6150_100-Vascularheart_problems_diagnosed_by_d...</td>\n",
       "    </tr>\n",
       "    <tr>\n",
       "      <th>13</th>\n",
       "      <td>LV739</td>\n",
       "      <td>0.001867</td>\n",
       "      <td>6150_100-Vascularheart_problems_diagnosed_by_d...</td>\n",
       "    </tr>\n",
       "    <tr>\n",
       "      <th>14</th>\n",
       "      <td>LV290</td>\n",
       "      <td>0.001829</td>\n",
       "      <td>6150_100-Vascularheart_problems_diagnosed_by_d...</td>\n",
       "    </tr>\n",
       "    <tr>\n",
       "      <th>15</th>\n",
       "      <td>LV227</td>\n",
       "      <td>0.001828</td>\n",
       "      <td>6150_100-Vascularheart_problems_diagnosed_by_d...</td>\n",
       "    </tr>\n",
       "    <tr>\n",
       "      <th>16</th>\n",
       "      <td>LV125</td>\n",
       "      <td>0.001815</td>\n",
       "      <td>6150_100-Vascularheart_problems_diagnosed_by_d...</td>\n",
       "    </tr>\n",
       "    <tr>\n",
       "      <th>17</th>\n",
       "      <td>LV461</td>\n",
       "      <td>0.001811</td>\n",
       "      <td>6150_100-Vascularheart_problems_diagnosed_by_d...</td>\n",
       "    </tr>\n",
       "    <tr>\n",
       "      <th>18</th>\n",
       "      <td>LV841</td>\n",
       "      <td>0.001794</td>\n",
       "      <td>6150_100-Vascularheart_problems_diagnosed_by_d...</td>\n",
       "    </tr>\n",
       "    <tr>\n",
       "      <th>19</th>\n",
       "      <td>LV408</td>\n",
       "      <td>0.001696</td>\n",
       "      <td>6150_100-Vascularheart_problems_diagnosed_by_d...</td>\n",
       "    </tr>\n",
       "  </tbody>\n",
       "</table>\n",
       "</div>"
      ],
      "text/plain": [
       "       lv   lv_diff                                              trait\n",
       "0   LV743  0.006904  6150_100-Vascularheart_problems_diagnosed_by_d...\n",
       "1   LV969  0.004285  6150_100-Vascularheart_problems_diagnosed_by_d...\n",
       "2   LV575  0.004086  6150_100-Vascularheart_problems_diagnosed_by_d...\n",
       "3   LV829  0.003023  6150_100-Vascularheart_problems_diagnosed_by_d...\n",
       "4   LV707  0.002743  6150_100-Vascularheart_problems_diagnosed_by_d...\n",
       "5   LV840  0.002685  6150_100-Vascularheart_problems_diagnosed_by_d...\n",
       "6   LV931  0.002528  6150_100-Vascularheart_problems_diagnosed_by_d...\n",
       "7   LV254  0.002311  6150_100-Vascularheart_problems_diagnosed_by_d...\n",
       "8   LV885  0.002250  6150_100-Vascularheart_problems_diagnosed_by_d...\n",
       "9   LV656  0.002098  6150_100-Vascularheart_problems_diagnosed_by_d...\n",
       "10  LV216  0.001912  6150_100-Vascularheart_problems_diagnosed_by_d...\n",
       "11   LV95  0.001887  6150_100-Vascularheart_problems_diagnosed_by_d...\n",
       "12  LV366  0.001873  6150_100-Vascularheart_problems_diagnosed_by_d...\n",
       "13  LV739  0.001867  6150_100-Vascularheart_problems_diagnosed_by_d...\n",
       "14  LV290  0.001829  6150_100-Vascularheart_problems_diagnosed_by_d...\n",
       "15  LV227  0.001828  6150_100-Vascularheart_problems_diagnosed_by_d...\n",
       "16  LV125  0.001815  6150_100-Vascularheart_problems_diagnosed_by_d...\n",
       "17  LV461  0.001811  6150_100-Vascularheart_problems_diagnosed_by_d...\n",
       "18  LV841  0.001794  6150_100-Vascularheart_problems_diagnosed_by_d...\n",
       "19  LV408  0.001696  6150_100-Vascularheart_problems_diagnosed_by_d..."
      ]
     },
     "metadata": {},
     "output_type": "display_data"
    },
    {
     "name": "stdout",
     "output_type": "stream",
     "text": [
      "\n"
     ]
    },
    {
     "data": {
      "text/plain": [
       "'Name: Coronary atherosclerosis'"
      ]
     },
     "metadata": {},
     "output_type": "display_data"
    },
    {
     "data": {
      "text/plain": [
       "'Sample size: (361194, 14334.0)'"
      ]
     },
     "metadata": {},
     "output_type": "display_data"
    },
    {
     "data": {
      "text/plain": [
       "'Number of LVs: 25'"
      ]
     },
     "metadata": {},
     "output_type": "display_data"
    },
    {
     "data": {
      "text/html": [
       "<div>\n",
       "<style scoped>\n",
       "    .dataframe tbody tr th:only-of-type {\n",
       "        vertical-align: middle;\n",
       "    }\n",
       "\n",
       "    .dataframe tbody tr th {\n",
       "        vertical-align: top;\n",
       "    }\n",
       "\n",
       "    .dataframe thead th {\n",
       "        text-align: right;\n",
       "    }\n",
       "</style>\n",
       "<table border=\"1\" class=\"dataframe\">\n",
       "  <thead>\n",
       "    <tr style=\"text-align: right;\">\n",
       "      <th></th>\n",
       "      <th>lv</th>\n",
       "      <th>lv_diff</th>\n",
       "      <th>trait</th>\n",
       "    </tr>\n",
       "  </thead>\n",
       "  <tbody>\n",
       "    <tr>\n",
       "      <th>0</th>\n",
       "      <td>LV881</td>\n",
       "      <td>0.015670</td>\n",
       "      <td>I9_CORATHER-Coronary_atherosclerosis</td>\n",
       "    </tr>\n",
       "    <tr>\n",
       "      <th>1</th>\n",
       "      <td>LV670</td>\n",
       "      <td>0.002761</td>\n",
       "      <td>I9_CORATHER-Coronary_atherosclerosis</td>\n",
       "    </tr>\n",
       "    <tr>\n",
       "      <th>2</th>\n",
       "      <td>LV824</td>\n",
       "      <td>0.002730</td>\n",
       "      <td>I9_CORATHER-Coronary_atherosclerosis</td>\n",
       "    </tr>\n",
       "    <tr>\n",
       "      <th>3</th>\n",
       "      <td>LV142</td>\n",
       "      <td>0.002600</td>\n",
       "      <td>I9_CORATHER-Coronary_atherosclerosis</td>\n",
       "    </tr>\n",
       "    <tr>\n",
       "      <th>4</th>\n",
       "      <td>LV227</td>\n",
       "      <td>0.002379</td>\n",
       "      <td>I9_CORATHER-Coronary_atherosclerosis</td>\n",
       "    </tr>\n",
       "    <tr>\n",
       "      <th>5</th>\n",
       "      <td>LV707</td>\n",
       "      <td>0.002191</td>\n",
       "      <td>I9_CORATHER-Coronary_atherosclerosis</td>\n",
       "    </tr>\n",
       "    <tr>\n",
       "      <th>6</th>\n",
       "      <td>LV530</td>\n",
       "      <td>0.002034</td>\n",
       "      <td>I9_CORATHER-Coronary_atherosclerosis</td>\n",
       "    </tr>\n",
       "    <tr>\n",
       "      <th>7</th>\n",
       "      <td>LV841</td>\n",
       "      <td>0.001971</td>\n",
       "      <td>I9_CORATHER-Coronary_atherosclerosis</td>\n",
       "    </tr>\n",
       "    <tr>\n",
       "      <th>8</th>\n",
       "      <td>LV254</td>\n",
       "      <td>0.001843</td>\n",
       "      <td>I9_CORATHER-Coronary_atherosclerosis</td>\n",
       "    </tr>\n",
       "    <tr>\n",
       "      <th>9</th>\n",
       "      <td>LV97</td>\n",
       "      <td>0.001810</td>\n",
       "      <td>I9_CORATHER-Coronary_atherosclerosis</td>\n",
       "    </tr>\n",
       "    <tr>\n",
       "      <th>10</th>\n",
       "      <td>LV21</td>\n",
       "      <td>0.001728</td>\n",
       "      <td>I9_CORATHER-Coronary_atherosclerosis</td>\n",
       "    </tr>\n",
       "    <tr>\n",
       "      <th>11</th>\n",
       "      <td>LV163</td>\n",
       "      <td>0.001628</td>\n",
       "      <td>I9_CORATHER-Coronary_atherosclerosis</td>\n",
       "    </tr>\n",
       "    <tr>\n",
       "      <th>12</th>\n",
       "      <td>LV974</td>\n",
       "      <td>0.001596</td>\n",
       "      <td>I9_CORATHER-Coronary_atherosclerosis</td>\n",
       "    </tr>\n",
       "    <tr>\n",
       "      <th>13</th>\n",
       "      <td>LV313</td>\n",
       "      <td>0.001535</td>\n",
       "      <td>I9_CORATHER-Coronary_atherosclerosis</td>\n",
       "    </tr>\n",
       "    <tr>\n",
       "      <th>14</th>\n",
       "      <td>LV282</td>\n",
       "      <td>0.001472</td>\n",
       "      <td>I9_CORATHER-Coronary_atherosclerosis</td>\n",
       "    </tr>\n",
       "    <tr>\n",
       "      <th>15</th>\n",
       "      <td>LV674</td>\n",
       "      <td>0.001425</td>\n",
       "      <td>I9_CORATHER-Coronary_atherosclerosis</td>\n",
       "    </tr>\n",
       "    <tr>\n",
       "      <th>16</th>\n",
       "      <td>LV678</td>\n",
       "      <td>0.001410</td>\n",
       "      <td>I9_CORATHER-Coronary_atherosclerosis</td>\n",
       "    </tr>\n",
       "    <tr>\n",
       "      <th>17</th>\n",
       "      <td>LV468</td>\n",
       "      <td>0.001377</td>\n",
       "      <td>I9_CORATHER-Coronary_atherosclerosis</td>\n",
       "    </tr>\n",
       "    <tr>\n",
       "      <th>18</th>\n",
       "      <td>LV346</td>\n",
       "      <td>0.001357</td>\n",
       "      <td>I9_CORATHER-Coronary_atherosclerosis</td>\n",
       "    </tr>\n",
       "    <tr>\n",
       "      <th>19</th>\n",
       "      <td>LV354</td>\n",
       "      <td>0.001353</td>\n",
       "      <td>I9_CORATHER-Coronary_atherosclerosis</td>\n",
       "    </tr>\n",
       "  </tbody>\n",
       "</table>\n",
       "</div>"
      ],
      "text/plain": [
       "       lv   lv_diff                                 trait\n",
       "0   LV881  0.015670  I9_CORATHER-Coronary_atherosclerosis\n",
       "1   LV670  0.002761  I9_CORATHER-Coronary_atherosclerosis\n",
       "2   LV824  0.002730  I9_CORATHER-Coronary_atherosclerosis\n",
       "3   LV142  0.002600  I9_CORATHER-Coronary_atherosclerosis\n",
       "4   LV227  0.002379  I9_CORATHER-Coronary_atherosclerosis\n",
       "5   LV707  0.002191  I9_CORATHER-Coronary_atherosclerosis\n",
       "6   LV530  0.002034  I9_CORATHER-Coronary_atherosclerosis\n",
       "7   LV841  0.001971  I9_CORATHER-Coronary_atherosclerosis\n",
       "8   LV254  0.001843  I9_CORATHER-Coronary_atherosclerosis\n",
       "9    LV97  0.001810  I9_CORATHER-Coronary_atherosclerosis\n",
       "10   LV21  0.001728  I9_CORATHER-Coronary_atherosclerosis\n",
       "11  LV163  0.001628  I9_CORATHER-Coronary_atherosclerosis\n",
       "12  LV974  0.001596  I9_CORATHER-Coronary_atherosclerosis\n",
       "13  LV313  0.001535  I9_CORATHER-Coronary_atherosclerosis\n",
       "14  LV282  0.001472  I9_CORATHER-Coronary_atherosclerosis\n",
       "15  LV674  0.001425  I9_CORATHER-Coronary_atherosclerosis\n",
       "16  LV678  0.001410  I9_CORATHER-Coronary_atherosclerosis\n",
       "17  LV468  0.001377  I9_CORATHER-Coronary_atherosclerosis\n",
       "18  LV346  0.001357  I9_CORATHER-Coronary_atherosclerosis\n",
       "19  LV354  0.001353  I9_CORATHER-Coronary_atherosclerosis"
      ]
     },
     "metadata": {},
     "output_type": "display_data"
    },
    {
     "name": "stdout",
     "output_type": "stream",
     "text": [
      "\n"
     ]
    },
    {
     "data": {
      "text/plain": [
       "'Name: Ischaemic heart disease, wide definition'"
      ]
     },
     "metadata": {},
     "output_type": "display_data"
    },
    {
     "data": {
      "text/plain": [
       "'Sample size: (361194, 20857.0)'"
      ]
     },
     "metadata": {},
     "output_type": "display_data"
    },
    {
     "data": {
      "text/plain": [
       "'Number of LVs: 26'"
      ]
     },
     "metadata": {},
     "output_type": "display_data"
    },
    {
     "data": {
      "text/html": [
       "<div>\n",
       "<style scoped>\n",
       "    .dataframe tbody tr th:only-of-type {\n",
       "        vertical-align: middle;\n",
       "    }\n",
       "\n",
       "    .dataframe tbody tr th {\n",
       "        vertical-align: top;\n",
       "    }\n",
       "\n",
       "    .dataframe thead th {\n",
       "        text-align: right;\n",
       "    }\n",
       "</style>\n",
       "<table border=\"1\" class=\"dataframe\">\n",
       "  <thead>\n",
       "    <tr style=\"text-align: right;\">\n",
       "      <th></th>\n",
       "      <th>lv</th>\n",
       "      <th>lv_diff</th>\n",
       "      <th>trait</th>\n",
       "    </tr>\n",
       "  </thead>\n",
       "  <tbody>\n",
       "    <tr>\n",
       "      <th>0</th>\n",
       "      <td>LV881</td>\n",
       "      <td>0.007724</td>\n",
       "      <td>I9_IHD-Ischaemic_heart_disease_wide_definition</td>\n",
       "    </tr>\n",
       "    <tr>\n",
       "      <th>1</th>\n",
       "      <td>LV97</td>\n",
       "      <td>0.004228</td>\n",
       "      <td>I9_IHD-Ischaemic_heart_disease_wide_definition</td>\n",
       "    </tr>\n",
       "    <tr>\n",
       "      <th>2</th>\n",
       "      <td>LV931</td>\n",
       "      <td>0.003626</td>\n",
       "      <td>I9_IHD-Ischaemic_heart_disease_wide_definition</td>\n",
       "    </tr>\n",
       "    <tr>\n",
       "      <th>3</th>\n",
       "      <td>LV509</td>\n",
       "      <td>0.003360</td>\n",
       "      <td>I9_IHD-Ischaemic_heart_disease_wide_definition</td>\n",
       "    </tr>\n",
       "    <tr>\n",
       "      <th>4</th>\n",
       "      <td>LV395</td>\n",
       "      <td>0.002838</td>\n",
       "      <td>I9_IHD-Ischaemic_heart_disease_wide_definition</td>\n",
       "    </tr>\n",
       "    <tr>\n",
       "      <th>5</th>\n",
       "      <td>LV479</td>\n",
       "      <td>0.001992</td>\n",
       "      <td>I9_IHD-Ischaemic_heart_disease_wide_definition</td>\n",
       "    </tr>\n",
       "    <tr>\n",
       "      <th>6</th>\n",
       "      <td>LV502</td>\n",
       "      <td>0.001909</td>\n",
       "      <td>I9_IHD-Ischaemic_heart_disease_wide_definition</td>\n",
       "    </tr>\n",
       "    <tr>\n",
       "      <th>7</th>\n",
       "      <td>LV536</td>\n",
       "      <td>0.001816</td>\n",
       "      <td>I9_IHD-Ischaemic_heart_disease_wide_definition</td>\n",
       "    </tr>\n",
       "    <tr>\n",
       "      <th>8</th>\n",
       "      <td>LV220</td>\n",
       "      <td>0.001572</td>\n",
       "      <td>I9_IHD-Ischaemic_heart_disease_wide_definition</td>\n",
       "    </tr>\n",
       "    <tr>\n",
       "      <th>9</th>\n",
       "      <td>LV351</td>\n",
       "      <td>0.001518</td>\n",
       "      <td>I9_IHD-Ischaemic_heart_disease_wide_definition</td>\n",
       "    </tr>\n",
       "    <tr>\n",
       "      <th>10</th>\n",
       "      <td>LV570</td>\n",
       "      <td>0.001508</td>\n",
       "      <td>I9_IHD-Ischaemic_heart_disease_wide_definition</td>\n",
       "    </tr>\n",
       "    <tr>\n",
       "      <th>11</th>\n",
       "      <td>LV601</td>\n",
       "      <td>0.001426</td>\n",
       "      <td>I9_IHD-Ischaemic_heart_disease_wide_definition</td>\n",
       "    </tr>\n",
       "    <tr>\n",
       "      <th>12</th>\n",
       "      <td>LV116</td>\n",
       "      <td>0.001423</td>\n",
       "      <td>I9_IHD-Ischaemic_heart_disease_wide_definition</td>\n",
       "    </tr>\n",
       "    <tr>\n",
       "      <th>13</th>\n",
       "      <td>LV170</td>\n",
       "      <td>0.001326</td>\n",
       "      <td>I9_IHD-Ischaemic_heart_disease_wide_definition</td>\n",
       "    </tr>\n",
       "    <tr>\n",
       "      <th>14</th>\n",
       "      <td>LV906</td>\n",
       "      <td>0.001322</td>\n",
       "      <td>I9_IHD-Ischaemic_heart_disease_wide_definition</td>\n",
       "    </tr>\n",
       "    <tr>\n",
       "      <th>15</th>\n",
       "      <td>LV246</td>\n",
       "      <td>0.001268</td>\n",
       "      <td>I9_IHD-Ischaemic_heart_disease_wide_definition</td>\n",
       "    </tr>\n",
       "    <tr>\n",
       "      <th>16</th>\n",
       "      <td>LV78</td>\n",
       "      <td>0.001254</td>\n",
       "      <td>I9_IHD-Ischaemic_heart_disease_wide_definition</td>\n",
       "    </tr>\n",
       "    <tr>\n",
       "      <th>17</th>\n",
       "      <td>LV354</td>\n",
       "      <td>0.001240</td>\n",
       "      <td>I9_IHD-Ischaemic_heart_disease_wide_definition</td>\n",
       "    </tr>\n",
       "    <tr>\n",
       "      <th>18</th>\n",
       "      <td>LV310</td>\n",
       "      <td>0.001206</td>\n",
       "      <td>I9_IHD-Ischaemic_heart_disease_wide_definition</td>\n",
       "    </tr>\n",
       "    <tr>\n",
       "      <th>19</th>\n",
       "      <td>LV824</td>\n",
       "      <td>0.001194</td>\n",
       "      <td>I9_IHD-Ischaemic_heart_disease_wide_definition</td>\n",
       "    </tr>\n",
       "  </tbody>\n",
       "</table>\n",
       "</div>"
      ],
      "text/plain": [
       "       lv   lv_diff                                           trait\n",
       "0   LV881  0.007724  I9_IHD-Ischaemic_heart_disease_wide_definition\n",
       "1    LV97  0.004228  I9_IHD-Ischaemic_heart_disease_wide_definition\n",
       "2   LV931  0.003626  I9_IHD-Ischaemic_heart_disease_wide_definition\n",
       "3   LV509  0.003360  I9_IHD-Ischaemic_heart_disease_wide_definition\n",
       "4   LV395  0.002838  I9_IHD-Ischaemic_heart_disease_wide_definition\n",
       "5   LV479  0.001992  I9_IHD-Ischaemic_heart_disease_wide_definition\n",
       "6   LV502  0.001909  I9_IHD-Ischaemic_heart_disease_wide_definition\n",
       "7   LV536  0.001816  I9_IHD-Ischaemic_heart_disease_wide_definition\n",
       "8   LV220  0.001572  I9_IHD-Ischaemic_heart_disease_wide_definition\n",
       "9   LV351  0.001518  I9_IHD-Ischaemic_heart_disease_wide_definition\n",
       "10  LV570  0.001508  I9_IHD-Ischaemic_heart_disease_wide_definition\n",
       "11  LV601  0.001426  I9_IHD-Ischaemic_heart_disease_wide_definition\n",
       "12  LV116  0.001423  I9_IHD-Ischaemic_heart_disease_wide_definition\n",
       "13  LV170  0.001326  I9_IHD-Ischaemic_heart_disease_wide_definition\n",
       "14  LV906  0.001322  I9_IHD-Ischaemic_heart_disease_wide_definition\n",
       "15  LV246  0.001268  I9_IHD-Ischaemic_heart_disease_wide_definition\n",
       "16   LV78  0.001254  I9_IHD-Ischaemic_heart_disease_wide_definition\n",
       "17  LV354  0.001240  I9_IHD-Ischaemic_heart_disease_wide_definition\n",
       "18  LV310  0.001206  I9_IHD-Ischaemic_heart_disease_wide_definition\n",
       "19  LV824  0.001194  I9_IHD-Ischaemic_heart_disease_wide_definition"
      ]
     },
     "metadata": {},
     "output_type": "display_data"
    },
    {
     "name": "stdout",
     "output_type": "stream",
     "text": [
      "\n"
     ]
    }
   ],
   "source": [
    "common_lvs = []\n",
    "\n",
    "for c in drug_trait_predictions.columns:\n",
    "    d = Trait.get_trait(full_code=c)\n",
    "    display(f\"Name: {d.description}\")\n",
    "    display(f\"Sample size: {(d.n, d.n_cases)}\")\n",
    "\n",
    "    _tmp = drug_trait_predictions[c]\n",
    "\n",
    "    _tmp = _tmp[_tmp > 0.0]\n",
    "    q = _tmp.quantile(QUANTILE)\n",
    "    _tmp = _tmp[_tmp > q]\n",
    "    display(f\"Number of LVs: {_tmp.shape[0]}\")\n",
    "\n",
    "    _tmp = (\n",
    "        _tmp.sort_values(ascending=False)\n",
    "        .rename(\"lv_diff\")\n",
    "        .reset_index()\n",
    "        .rename(columns={\"index\": \"lv\"})\n",
    "    )\n",
    "    _tmp = _tmp.assign(trait=c)\n",
    "    common_lvs.append(_tmp)\n",
    "\n",
    "    display(_tmp.head(20))\n",
    "    print()"
   ]
  },
  {
   "cell_type": "markdown",
   "metadata": {},
   "source": [
    "# Get common LVs"
   ]
  },
  {
   "cell_type": "code",
   "execution_count": 60,
   "metadata": {},
   "outputs": [],
   "source": [
    "common_lvs_df = pd.concat(common_lvs)  # .rename(columns={\"index\": \"lv\", 0: \"value\"})"
   ]
  },
  {
   "cell_type": "code",
   "execution_count": 61,
   "metadata": {},
   "outputs": [
    {
     "data": {
      "text/plain": [
       "(177, 3)"
      ]
     },
     "execution_count": 61,
     "metadata": {},
     "output_type": "execute_result"
    }
   ],
   "source": [
    "common_lvs_df.shape"
   ]
  },
  {
   "cell_type": "code",
   "execution_count": 62,
   "metadata": {},
   "outputs": [
    {
     "data": {
      "text/html": [
       "<div>\n",
       "<style scoped>\n",
       "    .dataframe tbody tr th:only-of-type {\n",
       "        vertical-align: middle;\n",
       "    }\n",
       "\n",
       "    .dataframe tbody tr th {\n",
       "        vertical-align: top;\n",
       "    }\n",
       "\n",
       "    .dataframe thead th {\n",
       "        text-align: right;\n",
       "    }\n",
       "</style>\n",
       "<table border=\"1\" class=\"dataframe\">\n",
       "  <thead>\n",
       "    <tr style=\"text-align: right;\">\n",
       "      <th></th>\n",
       "      <th>lv</th>\n",
       "      <th>lv_diff</th>\n",
       "      <th>trait</th>\n",
       "    </tr>\n",
       "  </thead>\n",
       "  <tbody>\n",
       "    <tr>\n",
       "      <th>0</th>\n",
       "      <td>LV116</td>\n",
       "      <td>0.006180</td>\n",
       "      <td>I70-Diagnoses_main_ICD10_I70_Atherosclerosis</td>\n",
       "    </tr>\n",
       "    <tr>\n",
       "      <th>1</th>\n",
       "      <td>LV931</td>\n",
       "      <td>0.004843</td>\n",
       "      <td>I70-Diagnoses_main_ICD10_I70_Atherosclerosis</td>\n",
       "    </tr>\n",
       "    <tr>\n",
       "      <th>2</th>\n",
       "      <td>LV744</td>\n",
       "      <td>0.002292</td>\n",
       "      <td>I70-Diagnoses_main_ICD10_I70_Atherosclerosis</td>\n",
       "    </tr>\n",
       "    <tr>\n",
       "      <th>3</th>\n",
       "      <td>LV697</td>\n",
       "      <td>0.002231</td>\n",
       "      <td>I70-Diagnoses_main_ICD10_I70_Atherosclerosis</td>\n",
       "    </tr>\n",
       "    <tr>\n",
       "      <th>4</th>\n",
       "      <td>LV885</td>\n",
       "      <td>0.001984</td>\n",
       "      <td>I70-Diagnoses_main_ICD10_I70_Atherosclerosis</td>\n",
       "    </tr>\n",
       "  </tbody>\n",
       "</table>\n",
       "</div>"
      ],
      "text/plain": [
       "      lv   lv_diff                                         trait\n",
       "0  LV116  0.006180  I70-Diagnoses_main_ICD10_I70_Atherosclerosis\n",
       "1  LV931  0.004843  I70-Diagnoses_main_ICD10_I70_Atherosclerosis\n",
       "2  LV744  0.002292  I70-Diagnoses_main_ICD10_I70_Atherosclerosis\n",
       "3  LV697  0.002231  I70-Diagnoses_main_ICD10_I70_Atherosclerosis\n",
       "4  LV885  0.001984  I70-Diagnoses_main_ICD10_I70_Atherosclerosis"
      ]
     },
     "execution_count": 62,
     "metadata": {},
     "output_type": "execute_result"
    }
   ],
   "source": [
    "common_lvs_df.head()"
   ]
  },
  {
   "cell_type": "code",
   "execution_count": 63,
   "metadata": {},
   "outputs": [
    {
     "data": {
      "text/plain": [
       "lv\n",
       "LV97     5\n",
       "LV707    4\n",
       "LV227    4\n",
       "LV116    4\n",
       "LV678    4\n",
       "LV824    4\n",
       "LV163    4\n",
       "LV885    4\n",
       "LV246    3\n",
       "LV21     3\n",
       "LV840    3\n",
       "LV841    3\n",
       "LV354    3\n",
       "LV254    3\n",
       "LV881    3\n",
       "LV536    3\n",
       "LV530    3\n",
       "LV931    3\n",
       "LV95     3\n",
       "LV170    3\n",
       "LV395    2\n",
       "LV38     2\n",
       "LV525    2\n",
       "LV587    2\n",
       "LV59     2\n",
       "Name: lv_diff, dtype: int64"
      ]
     },
     "metadata": {},
     "output_type": "display_data"
    }
   ],
   "source": [
    "lvs_by_count = (\n",
    "    common_lvs_df.groupby(\"lv\")[\"lv_diff\"]\n",
    "    .count()\n",
    "    .squeeze()\n",
    "    .sort_values(ascending=False)\n",
    ")\n",
    "display(lvs_by_count.head(25))"
   ]
  },
  {
   "cell_type": "code",
   "execution_count": 64,
   "metadata": {},
   "outputs": [],
   "source": [
    "lvs_sel = []"
   ]
  },
  {
   "cell_type": "code",
   "execution_count": 65,
   "metadata": {},
   "outputs": [
    {
     "data": {
      "text/html": [
       "<div>\n",
       "<style scoped>\n",
       "    .dataframe tbody tr th:only-of-type {\n",
       "        vertical-align: middle;\n",
       "    }\n",
       "\n",
       "    .dataframe tbody tr th {\n",
       "        vertical-align: top;\n",
       "    }\n",
       "\n",
       "    .dataframe thead th {\n",
       "        text-align: right;\n",
       "    }\n",
       "</style>\n",
       "<table border=\"1\" class=\"dataframe\">\n",
       "  <thead>\n",
       "    <tr style=\"text-align: right;\">\n",
       "      <th></th>\n",
       "      <th>lv</th>\n",
       "      <th>lv_diff</th>\n",
       "      <th>trait</th>\n",
       "    </tr>\n",
       "  </thead>\n",
       "  <tbody>\n",
       "    <tr>\n",
       "      <th>0</th>\n",
       "      <td>LV116</td>\n",
       "      <td>0.006180</td>\n",
       "      <td>I70-Diagnoses_main_ICD10_I70_Atherosclerosis</td>\n",
       "    </tr>\n",
       "    <tr>\n",
       "      <th>2</th>\n",
       "      <td>LV116</td>\n",
       "      <td>0.005052</td>\n",
       "      <td>I25-Diagnoses_main_ICD10_I25_Chronic_ischaemic_heart_disease</td>\n",
       "    </tr>\n",
       "    <tr>\n",
       "      <th>22</th>\n",
       "      <td>LV116</td>\n",
       "      <td>0.001646</td>\n",
       "      <td>6150_100-Vascularheart_problems_diagnosed_by_doctor_None_of_the_above</td>\n",
       "    </tr>\n",
       "    <tr>\n",
       "      <th>12</th>\n",
       "      <td>LV116</td>\n",
       "      <td>0.001423</td>\n",
       "      <td>I9_IHD-Ischaemic_heart_disease_wide_definition</td>\n",
       "    </tr>\n",
       "  </tbody>\n",
       "</table>\n",
       "</div>"
      ],
      "text/plain": [
       "       lv   lv_diff  \\\n",
       "0   LV116  0.006180   \n",
       "2   LV116  0.005052   \n",
       "22  LV116  0.001646   \n",
       "12  LV116  0.001423   \n",
       "\n",
       "                                                                    trait  \n",
       "0                            I70-Diagnoses_main_ICD10_I70_Atherosclerosis  \n",
       "2            I25-Diagnoses_main_ICD10_I25_Chronic_ischaemic_heart_disease  \n",
       "22  6150_100-Vascularheart_problems_diagnosed_by_doctor_None_of_the_above  \n",
       "12                         I9_IHD-Ischaemic_heart_disease_wide_definition  "
      ]
     },
     "metadata": {},
     "output_type": "display_data"
    }
   ],
   "source": [
    "with pd.option_context(\n",
    "    \"display.max_rows\", None, \"display.max_columns\", None, \"display.max_colwidth\", None\n",
    "):\n",
    "    lv_df = common_lvs_df[common_lvs_df[\"lv\"] == \"LV116\"].sort_values(\n",
    "        \"lv_diff\", ascending=False\n",
    "    )\n",
    "    display(lv_df)\n",
    "    lvs_sel.append(lv_df)"
   ]
  },
  {
   "cell_type": "code",
   "execution_count": 66,
   "metadata": {},
   "outputs": [
    {
     "data": {
      "text/html": [
       "<div>\n",
       "<style scoped>\n",
       "    .dataframe tbody tr th:only-of-type {\n",
       "        vertical-align: middle;\n",
       "    }\n",
       "\n",
       "    .dataframe tbody tr th {\n",
       "        vertical-align: top;\n",
       "    }\n",
       "\n",
       "    .dataframe thead th {\n",
       "        text-align: right;\n",
       "    }\n",
       "</style>\n",
       "<table border=\"1\" class=\"dataframe\">\n",
       "  <thead>\n",
       "    <tr style=\"text-align: right;\">\n",
       "      <th></th>\n",
       "      <th>lv</th>\n",
       "      <th>lv_diff</th>\n",
       "      <th>trait</th>\n",
       "    </tr>\n",
       "  </thead>\n",
       "  <tbody>\n",
       "    <tr>\n",
       "      <th>1</th>\n",
       "      <td>LV931</td>\n",
       "      <td>0.004843</td>\n",
       "      <td>I70-Diagnoses_main_ICD10_I70_Atherosclerosis</td>\n",
       "    </tr>\n",
       "    <tr>\n",
       "      <th>2</th>\n",
       "      <td>LV931</td>\n",
       "      <td>0.003626</td>\n",
       "      <td>I9_IHD-Ischaemic_heart_disease_wide_definition</td>\n",
       "    </tr>\n",
       "    <tr>\n",
       "      <th>6</th>\n",
       "      <td>LV931</td>\n",
       "      <td>0.002528</td>\n",
       "      <td>6150_100-Vascularheart_problems_diagnosed_by_d...</td>\n",
       "    </tr>\n",
       "  </tbody>\n",
       "</table>\n",
       "</div>"
      ],
      "text/plain": [
       "      lv   lv_diff                                              trait\n",
       "1  LV931  0.004843       I70-Diagnoses_main_ICD10_I70_Atherosclerosis\n",
       "2  LV931  0.003626     I9_IHD-Ischaemic_heart_disease_wide_definition\n",
       "6  LV931  0.002528  6150_100-Vascularheart_problems_diagnosed_by_d..."
      ]
     },
     "metadata": {},
     "output_type": "display_data"
    }
   ],
   "source": [
    "lv_df = common_lvs_df[common_lvs_df[\"lv\"] == \"LV931\"].sort_values(\n",
    "    \"lv_diff\", ascending=False\n",
    ")\n",
    "display(lv_df)\n",
    "lvs_sel.append(lv_df)"
   ]
  },
  {
   "cell_type": "code",
   "execution_count": 67,
   "metadata": {},
   "outputs": [
    {
     "data": {
      "text/html": [
       "<div>\n",
       "<style scoped>\n",
       "    .dataframe tbody tr th:only-of-type {\n",
       "        vertical-align: middle;\n",
       "    }\n",
       "\n",
       "    .dataframe tbody tr th {\n",
       "        vertical-align: top;\n",
       "    }\n",
       "\n",
       "    .dataframe thead th {\n",
       "        text-align: right;\n",
       "    }\n",
       "</style>\n",
       "<table border=\"1\" class=\"dataframe\">\n",
       "  <thead>\n",
       "    <tr style=\"text-align: right;\">\n",
       "      <th></th>\n",
       "      <th>lv</th>\n",
       "      <th>lv_diff</th>\n",
       "      <th>trait</th>\n",
       "    </tr>\n",
       "  </thead>\n",
       "  <tbody>\n",
       "    <tr>\n",
       "      <th>7</th>\n",
       "      <td>LV246</td>\n",
       "      <td>0.001847</td>\n",
       "      <td>20002_1473-Noncancer_illness_code_selfreported...</td>\n",
       "    </tr>\n",
       "    <tr>\n",
       "      <th>15</th>\n",
       "      <td>LV246</td>\n",
       "      <td>0.001268</td>\n",
       "      <td>I9_IHD-Ischaemic_heart_disease_wide_definition</td>\n",
       "    </tr>\n",
       "    <tr>\n",
       "      <th>16</th>\n",
       "      <td>LV246</td>\n",
       "      <td>0.001253</td>\n",
       "      <td>I70-Diagnoses_main_ICD10_I70_Atherosclerosis</td>\n",
       "    </tr>\n",
       "  </tbody>\n",
       "</table>\n",
       "</div>"
      ],
      "text/plain": [
       "       lv   lv_diff                                              trait\n",
       "7   LV246  0.001847  20002_1473-Noncancer_illness_code_selfreported...\n",
       "15  LV246  0.001268     I9_IHD-Ischaemic_heart_disease_wide_definition\n",
       "16  LV246  0.001253       I70-Diagnoses_main_ICD10_I70_Atherosclerosis"
      ]
     },
     "metadata": {},
     "output_type": "display_data"
    }
   ],
   "source": [
    "lv_df = common_lvs_df[common_lvs_df[\"lv\"] == \"LV246\"].sort_values(\n",
    "    \"lv_diff\", ascending=False\n",
    ")\n",
    "display(lv_df)\n",
    "lvs_sel.append(lv_df)"
   ]
  },
  {
   "cell_type": "code",
   "execution_count": 68,
   "metadata": {},
   "outputs": [
    {
     "data": {
      "text/html": [
       "<div>\n",
       "<style scoped>\n",
       "    .dataframe tbody tr th:only-of-type {\n",
       "        vertical-align: middle;\n",
       "    }\n",
       "\n",
       "    .dataframe tbody tr th {\n",
       "        vertical-align: top;\n",
       "    }\n",
       "\n",
       "    .dataframe thead th {\n",
       "        text-align: right;\n",
       "    }\n",
       "</style>\n",
       "<table border=\"1\" class=\"dataframe\">\n",
       "  <thead>\n",
       "    <tr style=\"text-align: right;\">\n",
       "      <th></th>\n",
       "      <th>lv</th>\n",
       "      <th>lv_diff</th>\n",
       "      <th>trait</th>\n",
       "    </tr>\n",
       "  </thead>\n",
       "  <tbody>\n",
       "    <tr>\n",
       "      <th>0</th>\n",
       "      <td>LV116</td>\n",
       "      <td>0.006180</td>\n",
       "      <td>I70-Diagnoses_main_ICD10_I70_Atherosclerosis</td>\n",
       "    </tr>\n",
       "    <tr>\n",
       "      <th>1</th>\n",
       "      <td>LV116</td>\n",
       "      <td>0.005052</td>\n",
       "      <td>I25-Diagnoses_main_ICD10_I25_Chronic_ischaemic...</td>\n",
       "    </tr>\n",
       "    <tr>\n",
       "      <th>2</th>\n",
       "      <td>LV116</td>\n",
       "      <td>0.001646</td>\n",
       "      <td>6150_100-Vascularheart_problems_diagnosed_by_d...</td>\n",
       "    </tr>\n",
       "    <tr>\n",
       "      <th>3</th>\n",
       "      <td>LV116</td>\n",
       "      <td>0.001423</td>\n",
       "      <td>I9_IHD-Ischaemic_heart_disease_wide_definition</td>\n",
       "    </tr>\n",
       "    <tr>\n",
       "      <th>4</th>\n",
       "      <td>LV931</td>\n",
       "      <td>0.004843</td>\n",
       "      <td>I70-Diagnoses_main_ICD10_I70_Atherosclerosis</td>\n",
       "    </tr>\n",
       "  </tbody>\n",
       "</table>\n",
       "</div>"
      ],
      "text/plain": [
       "      lv   lv_diff                                              trait\n",
       "0  LV116  0.006180       I70-Diagnoses_main_ICD10_I70_Atherosclerosis\n",
       "1  LV116  0.005052  I25-Diagnoses_main_ICD10_I25_Chronic_ischaemic...\n",
       "2  LV116  0.001646  6150_100-Vascularheart_problems_diagnosed_by_d...\n",
       "3  LV116  0.001423     I9_IHD-Ischaemic_heart_disease_wide_definition\n",
       "4  LV931  0.004843       I70-Diagnoses_main_ICD10_I70_Atherosclerosis"
      ]
     },
     "metadata": {},
     "output_type": "display_data"
    }
   ],
   "source": [
    "lv_df = pd.concat(lvs_sel, ignore_index=True)\n",
    "display(lv_df.head())"
   ]
  },
  {
   "cell_type": "code",
   "execution_count": 69,
   "metadata": {},
   "outputs": [],
   "source": [
    "from traits import SHORT_TRAIT_NAMES"
   ]
  },
  {
   "cell_type": "code",
   "execution_count": 70,
   "metadata": {},
   "outputs": [],
   "source": [
    "def get_trait_objs(phenotype_full_code):\n",
    "    if Trait.is_efo_label(phenotype_full_code):\n",
    "        traits = Trait.get_traits_from_efo(phenotype_full_code)\n",
    "    else:\n",
    "        traits = [Trait.get_trait(full_code=phenotype_full_code)]\n",
    "\n",
    "    # sort by sample size\n",
    "    return sorted(traits, key=lambda x: x.n_cases / x.n, reverse=True)\n",
    "\n",
    "\n",
    "def get_trait_description(phenotype_full_code):\n",
    "    traits = get_trait_objs(phenotype_full_code)\n",
    "\n",
    "    desc = traits[0].description\n",
    "    if desc in SHORT_TRAIT_NAMES:\n",
    "        return SHORT_TRAIT_NAMES[desc]\n",
    "\n",
    "    return desc\n",
    "\n",
    "\n",
    "def get_trait_n(phenotype_full_code):\n",
    "    traits = get_trait_objs(phenotype_full_code)\n",
    "\n",
    "    return traits[0].n\n",
    "\n",
    "\n",
    "def get_trait_n_cases(phenotype_full_code):\n",
    "    traits = get_trait_objs(phenotype_full_code)\n",
    "\n",
    "    return traits[0].n_cases\n",
    "\n",
    "\n",
    "def num_to_int_str(num):\n",
    "    if pd.isnull(num):\n",
    "        return \"\"\n",
    "\n",
    "    return f\"{num:,.0f}\"\n",
    "\n",
    "\n",
    "def get_part_clust(row):\n",
    "    return f\"{row.part_k} / {row.cluster_id}\""
   ]
  },
  {
   "cell_type": "code",
   "execution_count": 71,
   "metadata": {},
   "outputs": [],
   "source": [
    "lv_df = lv_df.assign(trait_desc=lv_df[\"trait\"].apply(get_trait_description))"
   ]
  },
  {
   "cell_type": "code",
   "execution_count": 72,
   "metadata": {},
   "outputs": [],
   "source": [
    "lv_df = lv_df.assign(n=lv_df[\"trait\"].apply(get_trait_n))"
   ]
  },
  {
   "cell_type": "code",
   "execution_count": 73,
   "metadata": {},
   "outputs": [],
   "source": [
    "lv_df = lv_df.assign(n_cases=lv_df[\"trait\"].apply(get_trait_n_cases))"
   ]
  },
  {
   "cell_type": "code",
   "execution_count": 74,
   "metadata": {},
   "outputs": [],
   "source": [
    "lv_df = lv_df.assign(n=lv_df[\"n\"].apply(num_to_int_str))"
   ]
  },
  {
   "cell_type": "code",
   "execution_count": 75,
   "metadata": {},
   "outputs": [],
   "source": [
    "lv_df = lv_df.assign(n_cases=lv_df[\"n_cases\"].apply(num_to_int_str))"
   ]
  },
  {
   "cell_type": "code",
   "execution_count": 76,
   "metadata": {},
   "outputs": [],
   "source": [
    "CELL_TYPES_LVS = {\n",
    "    \"LV246\": \"Adipose tissue, liver\",\n",
    "    \"LV116\": \"Immune cells, skin\",\n",
    "    \"LV931\": \"Immune cells\",\n",
    "}"
   ]
  },
  {
   "cell_type": "code",
   "execution_count": 77,
   "metadata": {},
   "outputs": [],
   "source": [
    "lv_df[\"Cell type\"] = lv_df[\"lv\"].apply(lambda x: CELL_TYPES_LVS[x])"
   ]
  },
  {
   "cell_type": "code",
   "execution_count": 78,
   "metadata": {},
   "outputs": [],
   "source": [
    "lv_df[\"Niacin effect\"] = lv_df[\"lv\"].apply(\n",
    "    lambda x: \"-\" if drug_data.loc[x] < 0 else \"+\"\n",
    ")"
   ]
  },
  {
   "cell_type": "code",
   "execution_count": 79,
   "metadata": {},
   "outputs": [],
   "source": [
    "lv_df = lv_df.rename(\n",
    "    columns={\n",
    "        \"lv\": \"LV\",\n",
    "        \"trait_desc\": \"Disease\",\n",
    "        \"n\": \"Sample size\",\n",
    "        \"n_cases\": \"Cases\",\n",
    "    }\n",
    ")"
   ]
  },
  {
   "cell_type": "code",
   "execution_count": 80,
   "metadata": {},
   "outputs": [
    {
     "data": {
      "text/html": [
       "<div>\n",
       "<style scoped>\n",
       "    .dataframe tbody tr th:only-of-type {\n",
       "        vertical-align: middle;\n",
       "    }\n",
       "\n",
       "    .dataframe tbody tr th {\n",
       "        vertical-align: top;\n",
       "    }\n",
       "\n",
       "    .dataframe thead th {\n",
       "        text-align: right;\n",
       "    }\n",
       "</style>\n",
       "<table border=\"1\" class=\"dataframe\">\n",
       "  <thead>\n",
       "    <tr style=\"text-align: right;\">\n",
       "      <th></th>\n",
       "      <th>LV</th>\n",
       "      <th>Cell type</th>\n",
       "      <th>Disease</th>\n",
       "      <th>Sample size</th>\n",
       "      <th>Cases</th>\n",
       "    </tr>\n",
       "  </thead>\n",
       "  <tbody>\n",
       "    <tr>\n",
       "      <th>0</th>\n",
       "      <td>LV116</td>\n",
       "      <td>Immune cells, skin</td>\n",
       "      <td>Atherosclerosis (ICD10 I70)</td>\n",
       "      <td>361,194</td>\n",
       "      <td>566</td>\n",
       "    </tr>\n",
       "    <tr>\n",
       "      <th>1</th>\n",
       "      <td>LV116</td>\n",
       "      <td>Immune cells, skin</td>\n",
       "      <td>Chronic ischaemic heart disease (ICD10 I25)</td>\n",
       "      <td>361,194</td>\n",
       "      <td>12,769</td>\n",
       "    </tr>\n",
       "    <tr>\n",
       "      <th>2</th>\n",
       "      <td>LV116</td>\n",
       "      <td>Immune cells, skin</td>\n",
       "      <td>Heart attack, angina, stroke or hypertension</td>\n",
       "      <td>360,420</td>\n",
       "      <td>253,565</td>\n",
       "    </tr>\n",
       "    <tr>\n",
       "      <th>3</th>\n",
       "      <td>LV116</td>\n",
       "      <td>Immune cells, skin</td>\n",
       "      <td>Ischaemic heart disease (wide definition)</td>\n",
       "      <td>361,194</td>\n",
       "      <td>20,857</td>\n",
       "    </tr>\n",
       "    <tr>\n",
       "      <th>4</th>\n",
       "      <td>LV931</td>\n",
       "      <td>Immune cells</td>\n",
       "      <td>Atherosclerosis (ICD10 I70)</td>\n",
       "      <td>361,194</td>\n",
       "      <td>566</td>\n",
       "    </tr>\n",
       "    <tr>\n",
       "      <th>5</th>\n",
       "      <td>LV931</td>\n",
       "      <td>Immune cells</td>\n",
       "      <td>Ischaemic heart disease (wide definition)</td>\n",
       "      <td>361,194</td>\n",
       "      <td>20,857</td>\n",
       "    </tr>\n",
       "    <tr>\n",
       "      <th>6</th>\n",
       "      <td>LV931</td>\n",
       "      <td>Immune cells</td>\n",
       "      <td>Heart attack, angina, stroke or hypertension</td>\n",
       "      <td>360,420</td>\n",
       "      <td>253,565</td>\n",
       "    </tr>\n",
       "    <tr>\n",
       "      <th>7</th>\n",
       "      <td>LV246</td>\n",
       "      <td>Adipose tissue, liver</td>\n",
       "      <td>High cholesterol (self-reported)</td>\n",
       "      <td>361,141</td>\n",
       "      <td>43,957</td>\n",
       "    </tr>\n",
       "    <tr>\n",
       "      <th>8</th>\n",
       "      <td>LV246</td>\n",
       "      <td>Adipose tissue, liver</td>\n",
       "      <td>Ischaemic heart disease (wide definition)</td>\n",
       "      <td>361,194</td>\n",
       "      <td>20,857</td>\n",
       "    </tr>\n",
       "    <tr>\n",
       "      <th>9</th>\n",
       "      <td>LV246</td>\n",
       "      <td>Adipose tissue, liver</td>\n",
       "      <td>Atherosclerosis (ICD10 I70)</td>\n",
       "      <td>361,194</td>\n",
       "      <td>566</td>\n",
       "    </tr>\n",
       "  </tbody>\n",
       "</table>\n",
       "</div>"
      ],
      "text/plain": [
       "      LV              Cell type                                       Disease  \\\n",
       "0  LV116     Immune cells, skin                   Atherosclerosis (ICD10 I70)   \n",
       "1  LV116     Immune cells, skin   Chronic ischaemic heart disease (ICD10 I25)   \n",
       "2  LV116     Immune cells, skin  Heart attack, angina, stroke or hypertension   \n",
       "3  LV116     Immune cells, skin     Ischaemic heart disease (wide definition)   \n",
       "4  LV931           Immune cells                   Atherosclerosis (ICD10 I70)   \n",
       "5  LV931           Immune cells     Ischaemic heart disease (wide definition)   \n",
       "6  LV931           Immune cells  Heart attack, angina, stroke or hypertension   \n",
       "7  LV246  Adipose tissue, liver              High cholesterol (self-reported)   \n",
       "8  LV246  Adipose tissue, liver     Ischaemic heart disease (wide definition)   \n",
       "9  LV246  Adipose tissue, liver                   Atherosclerosis (ICD10 I70)   \n",
       "\n",
       "  Sample size    Cases  \n",
       "0     361,194      566  \n",
       "1     361,194   12,769  \n",
       "2     360,420  253,565  \n",
       "3     361,194   20,857  \n",
       "4     361,194      566  \n",
       "5     361,194   20,857  \n",
       "6     360,420  253,565  \n",
       "7     361,141   43,957  \n",
       "8     361,194   20,857  \n",
       "9     361,194      566  "
      ]
     },
     "execution_count": 80,
     "metadata": {},
     "output_type": "execute_result"
    }
   ],
   "source": [
    "lv_df[[\"LV\", \"Cell type\", \"Disease\", \"Sample size\", \"Cases\"]]"
   ]
  },
  {
   "cell_type": "code",
   "execution_count": 81,
   "metadata": {},
   "outputs": [],
   "source": [
    "lv_df = lv_df[[\"LV\", \"Cell type\", \"Disease\"]]"
   ]
  },
  {
   "cell_type": "code",
   "execution_count": 82,
   "metadata": {},
   "outputs": [],
   "source": [
    "lv_df = (\n",
    "    lv_df.sort_values([\"LV\", \"Disease\"])\n",
    "    .set_index(\"LV\")\n",
    "    .loc[[\"LV116\", \"LV931\", \"LV246\"]]\n",
    "    .reset_index()\n",
    ")"
   ]
  },
  {
   "cell_type": "code",
   "execution_count": 83,
   "metadata": {},
   "outputs": [],
   "source": [
    "lv_df.loc[[1, 2, 3, 5, 6, 8, 9], [\"LV\", \"Cell type\"]] = \"\""
   ]
  },
  {
   "cell_type": "code",
   "execution_count": 84,
   "metadata": {},
   "outputs": [
    {
     "data": {
      "text/html": [
       "<div>\n",
       "<style scoped>\n",
       "    .dataframe tbody tr th:only-of-type {\n",
       "        vertical-align: middle;\n",
       "    }\n",
       "\n",
       "    .dataframe tbody tr th {\n",
       "        vertical-align: top;\n",
       "    }\n",
       "\n",
       "    .dataframe thead th {\n",
       "        text-align: right;\n",
       "    }\n",
       "</style>\n",
       "<table border=\"1\" class=\"dataframe\">\n",
       "  <thead>\n",
       "    <tr style=\"text-align: right;\">\n",
       "      <th></th>\n",
       "      <th>LV</th>\n",
       "      <th>Cell type</th>\n",
       "      <th>Disease</th>\n",
       "    </tr>\n",
       "  </thead>\n",
       "  <tbody>\n",
       "    <tr>\n",
       "      <th>0</th>\n",
       "      <td>LV116</td>\n",
       "      <td>Immune cells, skin</td>\n",
       "      <td>Atherosclerosis (ICD10 I70)</td>\n",
       "    </tr>\n",
       "    <tr>\n",
       "      <th>1</th>\n",
       "      <td></td>\n",
       "      <td></td>\n",
       "      <td>Chronic ischaemic heart disease (ICD10 I25)</td>\n",
       "    </tr>\n",
       "    <tr>\n",
       "      <th>2</th>\n",
       "      <td></td>\n",
       "      <td></td>\n",
       "      <td>Heart attack, angina, stroke or hypertension</td>\n",
       "    </tr>\n",
       "    <tr>\n",
       "      <th>3</th>\n",
       "      <td></td>\n",
       "      <td></td>\n",
       "      <td>Ischaemic heart disease (wide definition)</td>\n",
       "    </tr>\n",
       "    <tr>\n",
       "      <th>4</th>\n",
       "      <td>LV931</td>\n",
       "      <td>Immune cells</td>\n",
       "      <td>Atherosclerosis (ICD10 I70)</td>\n",
       "    </tr>\n",
       "    <tr>\n",
       "      <th>5</th>\n",
       "      <td></td>\n",
       "      <td></td>\n",
       "      <td>Heart attack, angina, stroke or hypertension</td>\n",
       "    </tr>\n",
       "    <tr>\n",
       "      <th>6</th>\n",
       "      <td></td>\n",
       "      <td></td>\n",
       "      <td>Ischaemic heart disease (wide definition)</td>\n",
       "    </tr>\n",
       "    <tr>\n",
       "      <th>7</th>\n",
       "      <td>LV246</td>\n",
       "      <td>Adipose tissue, liver</td>\n",
       "      <td>Atherosclerosis (ICD10 I70)</td>\n",
       "    </tr>\n",
       "    <tr>\n",
       "      <th>8</th>\n",
       "      <td></td>\n",
       "      <td></td>\n",
       "      <td>High cholesterol (self-reported)</td>\n",
       "    </tr>\n",
       "    <tr>\n",
       "      <th>9</th>\n",
       "      <td></td>\n",
       "      <td></td>\n",
       "      <td>Ischaemic heart disease (wide definition)</td>\n",
       "    </tr>\n",
       "  </tbody>\n",
       "</table>\n",
       "</div>"
      ],
      "text/plain": [
       "      LV              Cell type                                       Disease\n",
       "0  LV116     Immune cells, skin                   Atherosclerosis (ICD10 I70)\n",
       "1                                 Chronic ischaemic heart disease (ICD10 I25)\n",
       "2                                Heart attack, angina, stroke or hypertension\n",
       "3                                   Ischaemic heart disease (wide definition)\n",
       "4  LV931           Immune cells                   Atherosclerosis (ICD10 I70)\n",
       "5                                Heart attack, angina, stroke or hypertension\n",
       "6                                   Ischaemic heart disease (wide definition)\n",
       "7  LV246  Adipose tissue, liver                   Atherosclerosis (ICD10 I70)\n",
       "8                                            High cholesterol (self-reported)\n",
       "9                                   Ischaemic heart disease (wide definition)"
      ]
     },
     "metadata": {},
     "output_type": "display_data"
    }
   ],
   "source": [
    "with pd.option_context(\n",
    "    \"display.max_rows\", None, \"display.max_columns\", None, \"display.max_colwidth\", None\n",
    "):\n",
    "    display(lv_df)"
   ]
  },
  {
   "cell_type": "markdown",
   "metadata": {},
   "source": [
    "## Save table"
   ]
  },
  {
   "cell_type": "code",
   "execution_count": 85,
   "metadata": {},
   "outputs": [],
   "source": [
    "# result_set is either phenomexcan or emerge\n",
    "LV_FILE_MARK_TEMPLATE = \"<!-- niacin:cardiovascular:top_lvs:{position} -->\""
   ]
  },
  {
   "cell_type": "code",
   "execution_count": 88,
   "metadata": {},
   "outputs": [
    {
     "data": {
      "text/plain": [
       "'<!-- niacin:cardiovascular:top_lvs:start -->'"
      ]
     },
     "metadata": {},
     "output_type": "display_data"
    },
    {
     "data": {
      "text/plain": [
       "'<!-- niacin:cardiovascular:top_lvs:end -->'"
      ]
     },
     "metadata": {},
     "output_type": "display_data"
    }
   ],
   "source": [
    "# start\n",
    "lv_file_mark_start = LV_FILE_MARK_TEMPLATE.format(position=\"start\")\n",
    "display(lv_file_mark_start)\n",
    "\n",
    "# end\n",
    "lv_file_mark_end = LV_FILE_MARK_TEMPLATE.format(position=\"end\")\n",
    "display(lv_file_mark_end)"
   ]
  },
  {
   "cell_type": "code",
   "execution_count": 89,
   "metadata": {},
   "outputs": [],
   "source": [
    "new_content = lv_df.to_markdown(index=False, disable_numparse=True)"
   ]
  },
  {
   "cell_type": "code",
   "execution_count": 92,
   "metadata": {},
   "outputs": [],
   "source": [
    "full_new_content = (\n",
    "    lv_file_mark_start + \"\\n\" + new_content.strip() + \"\\n\" + lv_file_mark_end\n",
    ")"
   ]
  },
  {
   "cell_type": "code",
   "execution_count": 93,
   "metadata": {},
   "outputs": [],
   "source": [
    "with open(OUTPUT_FILE_PATH, \"r\", encoding=\"utf8\") as f:\n",
    "    file_content = f.read()"
   ]
  },
  {
   "cell_type": "code",
   "execution_count": 94,
   "metadata": {},
   "outputs": [],
   "source": [
    "new_file_content = re.sub(\n",
    "    lv_file_mark_start + \".*?\" + lv_file_mark_end,\n",
    "    full_new_content,\n",
    "    file_content,\n",
    "    flags=re.DOTALL,\n",
    ")"
   ]
  },
  {
   "cell_type": "code",
   "execution_count": 95,
   "metadata": {},
   "outputs": [],
   "source": [
    "with open(OUTPUT_FILE_PATH, \"w\", encoding=\"utf8\") as f:\n",
    "    f.write(new_file_content)  # .replace(\"\\beta\", r\"\\beta\"))"
   ]
  },
  {
   "cell_type": "markdown",
   "metadata": {},
   "source": [
    "# Niacin top LVs"
   ]
  },
  {
   "cell_type": "code",
   "execution_count": 96,
   "metadata": {},
   "outputs": [
    {
     "data": {
      "text/plain": [
       "LV881    0.154953\n",
       "LV116    0.097558\n",
       "LV743    0.097299\n",
       "LV38     0.088232\n",
       "LV841    0.086833\n",
       "LV163    0.080580\n",
       "LV161    0.070249\n",
       "LV931    0.069832\n",
       "LV9      0.069249\n",
       "LV536    0.068436\n",
       "LV50     0.067657\n",
       "LV707    0.067467\n",
       "LV142    0.064834\n",
       "LV95     0.061820\n",
       "LV97     0.061123\n",
       "LV74     0.056454\n",
       "LV66     0.055342\n",
       "LV974    0.053342\n",
       "LV678    0.051296\n",
       "LV879    0.050419\n",
       "LV969    0.047919\n",
       "LV27     0.047240\n",
       "LV509    0.046626\n",
       "LV272    0.046522\n",
       "LV905    0.045610\n",
       "LV254    0.044915\n",
       "LV720    0.043503\n",
       "LV587    0.043327\n",
       "LV608    0.043223\n",
       "LV246    0.042009\n",
       "Name: DB00627, dtype: float64"
      ]
     },
     "execution_count": 96,
     "metadata": {},
     "output_type": "execute_result"
    }
   ],
   "source": [
    "drug_data.abs().sort_values(ascending=False).head(30)"
   ]
  },
  {
   "cell_type": "code",
   "execution_count": 97,
   "metadata": {},
   "outputs": [
    {
     "data": {
      "text/plain": [
       "LV881    0.154953\n",
       "LV116    0.097558\n",
       "LV743    0.097299\n",
       "LV38     0.088232\n",
       "LV974    0.053342\n",
       "LV678    0.051296\n",
       "LV879    0.050419\n",
       "LV272    0.046522\n",
       "LV254    0.044915\n",
       "LV720    0.043503\n",
       "LV587    0.043327\n",
       "LV20     0.040827\n",
       "LV840    0.039595\n",
       "LV507    0.037171\n",
       "LV684    0.034499\n",
       "LV530    0.033392\n",
       "LV55     0.033224\n",
       "LV667    0.032972\n",
       "LV885    0.032274\n",
       "LV660    0.031523\n",
       "LV762    0.031066\n",
       "LV207    0.031020\n",
       "LV598    0.030998\n",
       "LV829    0.030331\n",
       "LV420    0.029630\n",
       "LV333    0.029385\n",
       "LV940    0.028526\n",
       "LV819    0.028512\n",
       "LV175    0.028100\n",
       "LV470    0.028095\n",
       "Name: DB00627, dtype: float64"
      ]
     },
     "execution_count": 97,
     "metadata": {},
     "output_type": "execute_result"
    }
   ],
   "source": [
    "drug_data.sort_values(ascending=False).head(30)"
   ]
  },
  {
   "cell_type": "code",
   "execution_count": 98,
   "metadata": {},
   "outputs": [
    {
     "data": {
      "text/plain": [
       "LV841   -0.086833\n",
       "LV163   -0.080580\n",
       "LV161   -0.070249\n",
       "LV931   -0.069832\n",
       "LV9     -0.069249\n",
       "LV536   -0.068436\n",
       "LV50    -0.067657\n",
       "LV707   -0.067467\n",
       "LV142   -0.064834\n",
       "LV95    -0.061820\n",
       "LV97    -0.061123\n",
       "LV74    -0.056454\n",
       "LV66    -0.055342\n",
       "LV969   -0.047919\n",
       "LV27    -0.047240\n",
       "LV509   -0.046626\n",
       "LV905   -0.045610\n",
       "LV608   -0.043223\n",
       "LV246   -0.042009\n",
       "LV854   -0.040733\n",
       "LV903   -0.038761\n",
       "LV310   -0.037819\n",
       "LV824   -0.037622\n",
       "LV19    -0.036921\n",
       "LV517   -0.036731\n",
       "LV513   -0.036216\n",
       "LV864   -0.036016\n",
       "LV674   -0.035938\n",
       "LV670   -0.035053\n",
       "LV189   -0.034486\n",
       "Name: DB00627, dtype: float64"
      ]
     },
     "execution_count": 98,
     "metadata": {},
     "output_type": "execute_result"
    }
   ],
   "source": [
    "drug_data.sort_values(ascending=True).head(30)"
   ]
  },
  {
   "cell_type": "code",
   "execution_count": null,
   "metadata": {},
   "outputs": [],
   "source": []
  }
 ],
 "metadata": {
  "jupytext": {
   "cell_metadata_filter": "all,-execution,-papermill,-trusted",
   "formats": "ipynb,py//py:percent"
  },
  "kernelspec": {
   "display_name": "Python 3",
   "language": "python",
   "name": "python3"
  },
  "language_info": {
   "codemirror_mode": {
    "name": "ipython",
    "version": 3
   },
   "file_extension": ".py",
   "mimetype": "text/x-python",
   "name": "python",
   "nbconvert_exporter": "python",
   "pygments_lexer": "ipython3",
   "version": "3.8.8"
  },
  "papermill": {
   "default_parameters": {},
   "duration": 3.201629,
   "end_time": "2020-12-23T18:04:41.617935",
   "environment_variables": {},
   "exception": null,
   "input_path": "15_drug_disease_associations/005-pharmacotherapydb-build_gold_standard.ipynb",
   "output_path": "15_drug_disease_associations/005-pharmacotherapydb-build_gold_standard.run.ipynb",
   "parameters": {},
   "start_time": "2020-12-23T18:04:38.416306",
   "version": "2.2.2"
  },
  "toc-autonumbering": true
 },
 "nbformat": 4,
 "nbformat_minor": 4
}
