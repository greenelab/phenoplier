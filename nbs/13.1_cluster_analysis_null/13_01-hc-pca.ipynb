{
 "cells": [
  {
   "cell_type": "markdown",
   "id": "18079208",
   "metadata": {
    "papermill": {
     "duration": 0.010553,
     "end_time": "2022-09-12T11:00:35.315487",
     "exception": false,
     "start_time": "2022-09-12T11:00:35.304934",
     "status": "completed"
    },
    "tags": []
   },
   "source": [
    "# Description"
   ]
  },
  {
   "cell_type": "markdown",
   "id": "92119f64",
   "metadata": {
    "papermill": {
     "duration": 0.005751,
     "end_time": "2022-09-12T11:00:35.326252",
     "exception": false,
     "start_time": "2022-09-12T11:00:35.320501",
     "status": "completed"
    },
    "tags": []
   },
   "source": [
    "Runs hierarchical clustering on the pca version of the data."
   ]
  },
  {
   "cell_type": "markdown",
   "id": "8ea5c0d6",
   "metadata": {
    "papermill": {
     "duration": 0.004836,
     "end_time": "2022-09-12T11:00:35.335901",
     "exception": false,
     "start_time": "2022-09-12T11:00:35.331065",
     "status": "completed"
    },
    "tags": []
   },
   "source": [
    "# Environment variables"
   ]
  },
  {
   "cell_type": "code",
   "execution_count": 1,
   "id": "a6b4302f",
   "metadata": {
    "execution": {
     "iopub.execute_input": "2022-09-12T11:00:35.347624Z",
     "iopub.status.busy": "2022-09-12T11:00:35.347339Z",
     "iopub.status.idle": "2022-09-12T11:00:35.361908Z",
     "shell.execute_reply": "2022-09-12T11:00:35.361478Z"
    },
    "papermill": {
     "duration": 0.021914,
     "end_time": "2022-09-12T11:00:35.363259",
     "exception": false,
     "start_time": "2022-09-12T11:00:35.341345",
     "status": "completed"
    },
    "tags": []
   },
   "outputs": [
    {
     "data": {
      "text/plain": [
       "3"
      ]
     },
     "metadata": {},
     "output_type": "display_data"
    }
   ],
   "source": [
    "from IPython.display import display\n",
    "\n",
    "import conf\n",
    "\n",
    "N_JOBS = conf.GENERAL[\"N_JOBS\"]\n",
    "display(N_JOBS)"
   ]
  },
  {
   "cell_type": "code",
   "execution_count": 2,
   "id": "0f15653d",
   "metadata": {
    "execution": {
     "iopub.execute_input": "2022-09-12T11:00:35.373456Z",
     "iopub.status.busy": "2022-09-12T11:00:35.373304Z",
     "iopub.status.idle": "2022-09-12T11:00:35.378318Z",
     "shell.execute_reply": "2022-09-12T11:00:35.377867Z"
    },
    "papermill": {
     "duration": 0.011563,
     "end_time": "2022-09-12T11:00:35.379617",
     "exception": false,
     "start_time": "2022-09-12T11:00:35.368054",
     "status": "completed"
    },
    "tags": []
   },
   "outputs": [
    {
     "name": "stdout",
     "output_type": "stream",
     "text": [
      "env: MKL_NUM_THREADS=3\n",
      "env: OPEN_BLAS_NUM_THREADS=3\n",
      "env: NUMEXPR_NUM_THREADS=3\n",
      "env: OMP_NUM_THREADS=3\n"
     ]
    }
   ],
   "source": [
    "%env MKL_NUM_THREADS=$N_JOBS\n",
    "%env OPEN_BLAS_NUM_THREADS=$N_JOBS\n",
    "%env NUMEXPR_NUM_THREADS=$N_JOBS\n",
    "%env OMP_NUM_THREADS=$N_JOBS"
   ]
  },
  {
   "cell_type": "markdown",
   "id": "111f3992",
   "metadata": {
    "papermill": {
     "duration": 0.004578,
     "end_time": "2022-09-12T11:00:35.388987",
     "exception": false,
     "start_time": "2022-09-12T11:00:35.384409",
     "status": "completed"
    },
    "tags": []
   },
   "source": [
    "# Modules loading"
   ]
  },
  {
   "cell_type": "code",
   "execution_count": 3,
   "id": "a1140981",
   "metadata": {
    "execution": {
     "iopub.execute_input": "2022-09-12T11:00:35.399146Z",
     "iopub.status.busy": "2022-09-12T11:00:35.398990Z",
     "iopub.status.idle": "2022-09-12T11:00:35.411619Z",
     "shell.execute_reply": "2022-09-12T11:00:35.411147Z"
    },
    "papermill": {
     "duration": 0.019328,
     "end_time": "2022-09-12T11:00:35.413013",
     "exception": false,
     "start_time": "2022-09-12T11:00:35.393685",
     "status": "completed"
    },
    "tags": []
   },
   "outputs": [],
   "source": [
    "%load_ext autoreload\n",
    "%autoreload 2"
   ]
  },
  {
   "cell_type": "code",
   "execution_count": 4,
   "id": "28deaf49",
   "metadata": {
    "execution": {
     "iopub.execute_input": "2022-09-12T11:00:35.423419Z",
     "iopub.status.busy": "2022-09-12T11:00:35.423219Z",
     "iopub.status.idle": "2022-09-12T11:00:35.670914Z",
     "shell.execute_reply": "2022-09-12T11:00:35.670454Z"
    },
    "papermill": {
     "duration": 0.254347,
     "end_time": "2022-09-12T11:00:35.672241",
     "exception": false,
     "start_time": "2022-09-12T11:00:35.417894",
     "status": "completed"
    },
    "tags": []
   },
   "outputs": [],
   "source": [
    "from pathlib import Path\n",
    "\n",
    "import numpy as np\n",
    "import pandas as pd\n",
    "\n",
    "from utils import generate_result_set_name"
   ]
  },
  {
   "cell_type": "markdown",
   "id": "8310908a",
   "metadata": {
    "papermill": {
     "duration": 0.004639,
     "end_time": "2022-09-12T11:00:35.681916",
     "exception": false,
     "start_time": "2022-09-12T11:00:35.677277",
     "status": "completed"
    },
    "tags": []
   },
   "source": [
    "# Settings"
   ]
  },
  {
   "cell_type": "code",
   "execution_count": 5,
   "id": "9144be05",
   "metadata": {
    "execution": {
     "iopub.execute_input": "2022-09-12T11:00:35.692214Z",
     "iopub.status.busy": "2022-09-12T11:00:35.692047Z",
     "iopub.status.idle": "2022-09-12T11:00:35.704419Z",
     "shell.execute_reply": "2022-09-12T11:00:35.703960Z"
    },
    "papermill": {
     "duration": 0.019072,
     "end_time": "2022-09-12T11:00:35.705709",
     "exception": false,
     "start_time": "2022-09-12T11:00:35.686637",
     "status": "completed"
    },
    "tags": []
   },
   "outputs": [],
   "source": [
    "np.random.seed(0)"
   ]
  },
  {
   "cell_type": "markdown",
   "id": "54d1d37c",
   "metadata": {
    "papermill": {
     "duration": 0.004636,
     "end_time": "2022-09-12T11:00:35.715610",
     "exception": false,
     "start_time": "2022-09-12T11:00:35.710974",
     "status": "completed"
    },
    "tags": []
   },
   "source": [
    "## Input data"
   ]
  },
  {
   "cell_type": "code",
   "execution_count": 6,
   "id": "e8436e39",
   "metadata": {
    "execution": {
     "iopub.execute_input": "2022-09-12T11:00:35.726394Z",
     "iopub.status.busy": "2022-09-12T11:00:35.725807Z",
     "iopub.status.idle": "2022-09-12T11:00:35.738784Z",
     "shell.execute_reply": "2022-09-12T11:00:35.738150Z"
    },
    "papermill": {
     "duration": 0.019642,
     "end_time": "2022-09-12T11:00:35.740016",
     "exception": false,
     "start_time": "2022-09-12T11:00:35.720374",
     "status": "completed"
    },
    "tags": []
   },
   "outputs": [],
   "source": [
    "INPUT_SUBSET = \"pca\""
   ]
  },
  {
   "cell_type": "code",
   "execution_count": 7,
   "id": "033d2a57",
   "metadata": {
    "execution": {
     "iopub.execute_input": "2022-09-12T11:00:35.750900Z",
     "iopub.status.busy": "2022-09-12T11:00:35.750738Z",
     "iopub.status.idle": "2022-09-12T11:00:35.763304Z",
     "shell.execute_reply": "2022-09-12T11:00:35.762687Z"
    },
    "papermill": {
     "duration": 0.019571,
     "end_time": "2022-09-12T11:00:35.764671",
     "exception": false,
     "start_time": "2022-09-12T11:00:35.745100",
     "status": "completed"
    },
    "tags": []
   },
   "outputs": [],
   "source": [
    "INPUT_STEM = \"z_score_std-projection-smultixcan-efo_partial-mashr-zscores\""
   ]
  },
  {
   "cell_type": "code",
   "execution_count": 8,
   "id": "29886ee3",
   "metadata": {
    "execution": {
     "iopub.execute_input": "2022-09-12T11:00:35.775701Z",
     "iopub.status.busy": "2022-09-12T11:00:35.775536Z",
     "iopub.status.idle": "2022-09-12T11:00:35.788580Z",
     "shell.execute_reply": "2022-09-12T11:00:35.787908Z"
    },
    "papermill": {
     "duration": 0.020033,
     "end_time": "2022-09-12T11:00:35.789894",
     "exception": false,
     "start_time": "2022-09-12T11:00:35.769861",
     "status": "completed"
    },
    "tags": []
   },
   "outputs": [],
   "source": [
    "# parameters of the dimentionality reduction steps\n",
    "DR_OPTIONS = {\n",
    "    \"n_components\": 50,\n",
    "    \"svd_solver\": \"full\",\n",
    "    \"random_state\": 0,\n",
    "}"
   ]
  },
  {
   "cell_type": "code",
   "execution_count": 9,
   "id": "0db56678",
   "metadata": {
    "execution": {
     "iopub.execute_input": "2022-09-12T11:00:35.801055Z",
     "iopub.status.busy": "2022-09-12T11:00:35.800890Z",
     "iopub.status.idle": "2022-09-12T11:00:35.816067Z",
     "shell.execute_reply": "2022-09-12T11:00:35.815573Z"
    },
    "papermill": {
     "duration": 0.022212,
     "end_time": "2022-09-12T11:00:35.817356",
     "exception": false,
     "start_time": "2022-09-12T11:00:35.795144",
     "status": "completed"
    },
    "tags": []
   },
   "outputs": [
    {
     "data": {
      "text/plain": [
       "PosixPath('/opt/data/results/clustering/null_sims/data_transformations/pca/pca-z_score_std-projection-smultixcan-efo_partial-mashr-zscores-n_components_50-random_state_0-svd_solver_full.pkl')"
      ]
     },
     "metadata": {},
     "output_type": "display_data"
    },
    {
     "data": {
      "text/plain": [
       "'pca-z_score_std-projection-smultixcan-efo_partial-mashr-zscores-n_components_50-random_state_0-svd_solver_full'"
      ]
     },
     "metadata": {},
     "output_type": "display_data"
    }
   ],
   "source": [
    "input_filepath = Path(\n",
    "    conf.RESULTS[\"CLUSTERING_NULL_DIR\"],\n",
    "    \"data_transformations\",\n",
    "    INPUT_SUBSET,\n",
    "    generate_result_set_name(\n",
    "        DR_OPTIONS, prefix=f\"{INPUT_SUBSET}-{INPUT_STEM}-\", suffix=\".pkl\"\n",
    "    ),\n",
    ").resolve()\n",
    "display(input_filepath)\n",
    "\n",
    "assert input_filepath.exists(), \"Input file does not exist\"\n",
    "\n",
    "input_filepath_stem = input_filepath.stem\n",
    "display(input_filepath_stem)"
   ]
  },
  {
   "cell_type": "markdown",
   "id": "b5ffb1a6",
   "metadata": {
    "papermill": {
     "duration": 0.005165,
     "end_time": "2022-09-12T11:00:35.827844",
     "exception": false,
     "start_time": "2022-09-12T11:00:35.822679",
     "status": "completed"
    },
    "tags": []
   },
   "source": [
    "## Clustering"
   ]
  },
  {
   "cell_type": "code",
   "execution_count": 10,
   "id": "bab5805f",
   "metadata": {
    "execution": {
     "iopub.execute_input": "2022-09-12T11:00:35.839202Z",
     "iopub.status.busy": "2022-09-12T11:00:35.839032Z",
     "iopub.status.idle": "2022-09-12T11:00:36.124350Z",
     "shell.execute_reply": "2022-09-12T11:00:36.123726Z"
    },
    "papermill": {
     "duration": 0.292889,
     "end_time": "2022-09-12T11:00:36.126037",
     "exception": false,
     "start_time": "2022-09-12T11:00:35.833148",
     "status": "completed"
    },
    "tags": []
   },
   "outputs": [],
   "source": [
    "from sklearn.cluster import AgglomerativeClustering"
   ]
  },
  {
   "cell_type": "code",
   "execution_count": 11,
   "id": "dd14e903",
   "metadata": {
    "execution": {
     "iopub.execute_input": "2022-09-12T11:00:36.140303Z",
     "iopub.status.busy": "2022-09-12T11:00:36.139829Z",
     "iopub.status.idle": "2022-09-12T11:00:36.159104Z",
     "shell.execute_reply": "2022-09-12T11:00:36.158490Z"
    },
    "papermill": {
     "duration": 0.027936,
     "end_time": "2022-09-12T11:00:36.160698",
     "exception": false,
     "start_time": "2022-09-12T11:00:36.132762",
     "status": "completed"
    },
    "tags": []
   },
   "outputs": [],
   "source": [
    "CLUSTERING_ATTRIBUTES_TO_SAVE = [\"n_clusters\"]"
   ]
  },
  {
   "cell_type": "code",
   "execution_count": 12,
   "id": "ff7bf878",
   "metadata": {
    "execution": {
     "iopub.execute_input": "2022-09-12T11:00:36.174474Z",
     "iopub.status.busy": "2022-09-12T11:00:36.174274Z",
     "iopub.status.idle": "2022-09-12T11:00:36.195135Z",
     "shell.execute_reply": "2022-09-12T11:00:36.194533Z"
    },
    "papermill": {
     "duration": 0.029435,
     "end_time": "2022-09-12T11:00:36.196670",
     "exception": false,
     "start_time": "2022-09-12T11:00:36.167235",
     "status": "completed"
    },
    "tags": []
   },
   "outputs": [
    {
     "data": {
      "text/plain": [
       "{'K_MIN': 2,\n",
       " 'K_MAX': 75,\n",
       " 'LINKAGE': {'average', 'complete', 'single', 'ward'},\n",
       " 'AFFINITY': 'euclidean'}"
      ]
     },
     "metadata": {},
     "output_type": "display_data"
    }
   ],
   "source": [
    "CLUSTERING_OPTIONS = {}\n",
    "\n",
    "CLUSTERING_OPTIONS[\"K_MIN\"] = 2\n",
    "CLUSTERING_OPTIONS[\"K_MAX\"] = 75  # sqrt(3749) + some more to get closer to 295\n",
    "CLUSTERING_OPTIONS[\"LINKAGE\"] = {\"ward\", \"complete\", \"average\", \"single\"}\n",
    "CLUSTERING_OPTIONS[\"AFFINITY\"] = \"euclidean\"\n",
    "\n",
    "display(CLUSTERING_OPTIONS)"
   ]
  },
  {
   "cell_type": "code",
   "execution_count": 13,
   "id": "fbb70ae2",
   "metadata": {
    "execution": {
     "iopub.execute_input": "2022-09-12T11:00:36.209129Z",
     "iopub.status.busy": "2022-09-12T11:00:36.208969Z",
     "iopub.status.idle": "2022-09-12T11:00:36.227471Z",
     "shell.execute_reply": "2022-09-12T11:00:36.226963Z"
    },
    "papermill": {
     "duration": 0.025923,
     "end_time": "2022-09-12T11:00:36.228844",
     "exception": false,
     "start_time": "2022-09-12T11:00:36.202921",
     "status": "completed"
    },
    "tags": []
   },
   "outputs": [],
   "source": [
    "CLUSTERERS = {}\n",
    "\n",
    "idx = 0\n",
    "\n",
    "for k in range(CLUSTERING_OPTIONS[\"K_MIN\"], CLUSTERING_OPTIONS[\"K_MAX\"] + 1):\n",
    "    for linkage in CLUSTERING_OPTIONS[\"LINKAGE\"]:\n",
    "        if linkage == \"ward\":\n",
    "            affinity = \"euclidean\"\n",
    "        else:\n",
    "            affinity = \"precomputed\"\n",
    "\n",
    "        clus = AgglomerativeClustering(\n",
    "            n_clusters=k,\n",
    "            affinity=affinity,\n",
    "            linkage=linkage,\n",
    "        )\n",
    "\n",
    "        method_name = type(clus).__name__\n",
    "        CLUSTERERS[f\"{method_name} #{idx}\"] = clus\n",
    "\n",
    "        idx = idx + 1"
   ]
  },
  {
   "cell_type": "code",
   "execution_count": 14,
   "id": "5511fb5f",
   "metadata": {
    "execution": {
     "iopub.execute_input": "2022-09-12T11:00:36.240681Z",
     "iopub.status.busy": "2022-09-12T11:00:36.240516Z",
     "iopub.status.idle": "2022-09-12T11:00:36.257469Z",
     "shell.execute_reply": "2022-09-12T11:00:36.257018Z"
    },
    "papermill": {
     "duration": 0.024166,
     "end_time": "2022-09-12T11:00:36.258695",
     "exception": false,
     "start_time": "2022-09-12T11:00:36.234529",
     "status": "completed"
    },
    "tags": []
   },
   "outputs": [
    {
     "data": {
      "text/plain": [
       "296"
      ]
     },
     "metadata": {},
     "output_type": "display_data"
    }
   ],
   "source": [
    "display(len(CLUSTERERS))"
   ]
  },
  {
   "cell_type": "code",
   "execution_count": 15,
   "id": "bfc324af",
   "metadata": {
    "execution": {
     "iopub.execute_input": "2022-09-12T11:00:36.271264Z",
     "iopub.status.busy": "2022-09-12T11:00:36.270784Z",
     "iopub.status.idle": "2022-09-12T11:00:36.289623Z",
     "shell.execute_reply": "2022-09-12T11:00:36.289158Z"
    },
    "papermill": {
     "duration": 0.026399,
     "end_time": "2022-09-12T11:00:36.290933",
     "exception": false,
     "start_time": "2022-09-12T11:00:36.264534",
     "status": "completed"
    },
    "tags": []
   },
   "outputs": [
    {
     "data": {
      "text/plain": [
       "('AgglomerativeClustering #0',\n",
       " AgglomerativeClustering(affinity='precomputed', linkage='average'))"
      ]
     },
     "metadata": {},
     "output_type": "display_data"
    },
    {
     "data": {
      "text/plain": [
       "('AgglomerativeClustering #1', AgglomerativeClustering())"
      ]
     },
     "metadata": {},
     "output_type": "display_data"
    }
   ],
   "source": [
    "_iter = iter(CLUSTERERS.items())\n",
    "display(next(_iter))\n",
    "display(next(_iter))"
   ]
  },
  {
   "cell_type": "code",
   "execution_count": 16,
   "id": "4b26ef27",
   "metadata": {
    "execution": {
     "iopub.execute_input": "2022-09-12T11:00:36.334893Z",
     "iopub.status.busy": "2022-09-12T11:00:36.334693Z",
     "iopub.status.idle": "2022-09-12T11:00:36.354123Z",
     "shell.execute_reply": "2022-09-12T11:00:36.353699Z"
    },
    "papermill": {
     "duration": 0.028415,
     "end_time": "2022-09-12T11:00:36.355609",
     "exception": false,
     "start_time": "2022-09-12T11:00:36.327194",
     "status": "completed"
    },
    "tags": []
   },
   "outputs": [
    {
     "data": {
      "text/plain": [
       "'AgglomerativeClustering'"
      ]
     },
     "metadata": {},
     "output_type": "display_data"
    }
   ],
   "source": [
    "clustering_method_name = method_name\n",
    "display(clustering_method_name)"
   ]
  },
  {
   "cell_type": "markdown",
   "id": "fc3853d7",
   "metadata": {
    "papermill": {
     "duration": 0.006103,
     "end_time": "2022-09-12T11:00:36.368286",
     "exception": false,
     "start_time": "2022-09-12T11:00:36.362183",
     "status": "completed"
    },
    "tags": []
   },
   "source": [
    "## Output directory"
   ]
  },
  {
   "cell_type": "code",
   "execution_count": 17,
   "id": "8a786027",
   "metadata": {
    "execution": {
     "iopub.execute_input": "2022-09-12T11:00:36.381366Z",
     "iopub.status.busy": "2022-09-12T11:00:36.381201Z",
     "iopub.status.idle": "2022-09-12T11:00:36.399234Z",
     "shell.execute_reply": "2022-09-12T11:00:36.398741Z"
    },
    "papermill": {
     "duration": 0.026129,
     "end_time": "2022-09-12T11:00:36.400582",
     "exception": false,
     "start_time": "2022-09-12T11:00:36.374453",
     "status": "completed"
    },
    "tags": []
   },
   "outputs": [
    {
     "data": {
      "text/plain": [
       "PosixPath('/opt/data/results/clustering/null_sims/runs/pca-z_score_std-projection-smultixcan-efo_partial-mashr-zscores')"
      ]
     },
     "metadata": {},
     "output_type": "display_data"
    }
   ],
   "source": [
    "# output dir for this notebook\n",
    "RESULTS_DIR = Path(\n",
    "    conf.RESULTS[\"CLUSTERING_NULL_DIR\"],\n",
    "    \"runs\",\n",
    "    f\"{INPUT_SUBSET}-{INPUT_STEM}\",\n",
    ").resolve()\n",
    "RESULTS_DIR.mkdir(parents=True, exist_ok=True)\n",
    "\n",
    "display(RESULTS_DIR)"
   ]
  },
  {
   "cell_type": "markdown",
   "id": "6a9d2924",
   "metadata": {
    "papermill": {
     "duration": 0.005632,
     "end_time": "2022-09-12T11:00:36.412164",
     "exception": false,
     "start_time": "2022-09-12T11:00:36.406532",
     "status": "completed"
    },
    "tags": []
   },
   "source": [
    "# Load input file"
   ]
  },
  {
   "cell_type": "code",
   "execution_count": 18,
   "id": "90da4ce9",
   "metadata": {
    "execution": {
     "iopub.execute_input": "2022-09-12T11:00:36.423796Z",
     "iopub.status.busy": "2022-09-12T11:00:36.423588Z",
     "iopub.status.idle": "2022-09-12T11:00:36.442296Z",
     "shell.execute_reply": "2022-09-12T11:00:36.441767Z"
    },
    "papermill": {
     "duration": 0.026256,
     "end_time": "2022-09-12T11:00:36.443809",
     "exception": false,
     "start_time": "2022-09-12T11:00:36.417553",
     "status": "completed"
    },
    "tags": []
   },
   "outputs": [],
   "source": [
    "data = pd.read_pickle(input_filepath)"
   ]
  },
  {
   "cell_type": "code",
   "execution_count": 19,
   "id": "4d4abcd8",
   "metadata": {
    "execution": {
     "iopub.execute_input": "2022-09-12T11:00:36.456931Z",
     "iopub.status.busy": "2022-09-12T11:00:36.456710Z",
     "iopub.status.idle": "2022-09-12T11:00:36.474179Z",
     "shell.execute_reply": "2022-09-12T11:00:36.473699Z"
    },
    "papermill": {
     "duration": 0.025153,
     "end_time": "2022-09-12T11:00:36.475458",
     "exception": false,
     "start_time": "2022-09-12T11:00:36.450305",
     "status": "completed"
    },
    "tags": []
   },
   "outputs": [
    {
     "data": {
      "text/plain": [
       "(3752, 50)"
      ]
     },
     "execution_count": 19,
     "metadata": {},
     "output_type": "execute_result"
    }
   ],
   "source": [
    "data.shape"
   ]
  },
  {
   "cell_type": "code",
   "execution_count": 20,
   "id": "09327061",
   "metadata": {
    "execution": {
     "iopub.execute_input": "2022-09-12T11:00:36.488084Z",
     "iopub.status.busy": "2022-09-12T11:00:36.487920Z",
     "iopub.status.idle": "2022-09-12T11:00:36.518600Z",
     "shell.execute_reply": "2022-09-12T11:00:36.518125Z"
    },
    "papermill": {
     "duration": 0.038363,
     "end_time": "2022-09-12T11:00:36.519897",
     "exception": false,
     "start_time": "2022-09-12T11:00:36.481534",
     "status": "completed"
    },
    "tags": []
   },
   "outputs": [
    {
     "data": {
      "text/html": [
       "<div>\n",
       "<style scoped>\n",
       "    .dataframe tbody tr th:only-of-type {\n",
       "        vertical-align: middle;\n",
       "    }\n",
       "\n",
       "    .dataframe tbody tr th {\n",
       "        vertical-align: top;\n",
       "    }\n",
       "\n",
       "    .dataframe thead th {\n",
       "        text-align: right;\n",
       "    }\n",
       "</style>\n",
       "<table border=\"1\" class=\"dataframe\">\n",
       "  <thead>\n",
       "    <tr style=\"text-align: right;\">\n",
       "      <th></th>\n",
       "      <th>PCA1</th>\n",
       "      <th>PCA2</th>\n",
       "      <th>PCA3</th>\n",
       "      <th>PCA4</th>\n",
       "      <th>PCA5</th>\n",
       "      <th>PCA6</th>\n",
       "      <th>PCA7</th>\n",
       "      <th>PCA8</th>\n",
       "      <th>PCA9</th>\n",
       "      <th>PCA10</th>\n",
       "      <th>...</th>\n",
       "      <th>PCA41</th>\n",
       "      <th>PCA42</th>\n",
       "      <th>PCA43</th>\n",
       "      <th>PCA44</th>\n",
       "      <th>PCA45</th>\n",
       "      <th>PCA46</th>\n",
       "      <th>PCA47</th>\n",
       "      <th>PCA48</th>\n",
       "      <th>PCA49</th>\n",
       "      <th>PCA50</th>\n",
       "    </tr>\n",
       "  </thead>\n",
       "  <tbody>\n",
       "    <tr>\n",
       "      <th>100001_raw-Food_weight</th>\n",
       "      <td>0.373237</td>\n",
       "      <td>-0.155188</td>\n",
       "      <td>-1.554390</td>\n",
       "      <td>-0.103733</td>\n",
       "      <td>-1.807074</td>\n",
       "      <td>-0.957108</td>\n",
       "      <td>0.330335</td>\n",
       "      <td>0.638391</td>\n",
       "      <td>0.905023</td>\n",
       "      <td>-0.704551</td>\n",
       "      <td>...</td>\n",
       "      <td>0.161732</td>\n",
       "      <td>0.488682</td>\n",
       "      <td>0.761158</td>\n",
       "      <td>0.667089</td>\n",
       "      <td>-0.078934</td>\n",
       "      <td>0.840971</td>\n",
       "      <td>-0.622958</td>\n",
       "      <td>1.075964</td>\n",
       "      <td>3.244039</td>\n",
       "      <td>-0.933407</td>\n",
       "    </tr>\n",
       "    <tr>\n",
       "      <th>100002_raw-Energy</th>\n",
       "      <td>1.384398</td>\n",
       "      <td>0.511267</td>\n",
       "      <td>-0.273603</td>\n",
       "      <td>-0.074591</td>\n",
       "      <td>-1.151167</td>\n",
       "      <td>-0.069438</td>\n",
       "      <td>1.242634</td>\n",
       "      <td>-0.439543</td>\n",
       "      <td>0.650348</td>\n",
       "      <td>2.456117</td>\n",
       "      <td>...</td>\n",
       "      <td>0.051967</td>\n",
       "      <td>0.993820</td>\n",
       "      <td>-0.166350</td>\n",
       "      <td>1.497041</td>\n",
       "      <td>-0.875754</td>\n",
       "      <td>2.632726</td>\n",
       "      <td>0.613299</td>\n",
       "      <td>0.041232</td>\n",
       "      <td>4.032974</td>\n",
       "      <td>-0.230092</td>\n",
       "    </tr>\n",
       "    <tr>\n",
       "      <th>100003_raw-Protein</th>\n",
       "      <td>-1.247583</td>\n",
       "      <td>2.905641</td>\n",
       "      <td>-1.524196</td>\n",
       "      <td>0.683773</td>\n",
       "      <td>0.766860</td>\n",
       "      <td>-2.478057</td>\n",
       "      <td>-0.201110</td>\n",
       "      <td>1.045590</td>\n",
       "      <td>-0.844712</td>\n",
       "      <td>2.426349</td>\n",
       "      <td>...</td>\n",
       "      <td>0.027646</td>\n",
       "      <td>-1.903636</td>\n",
       "      <td>-0.819195</td>\n",
       "      <td>0.616887</td>\n",
       "      <td>-0.647462</td>\n",
       "      <td>0.170956</td>\n",
       "      <td>2.106036</td>\n",
       "      <td>-2.186258</td>\n",
       "      <td>0.485333</td>\n",
       "      <td>-1.136366</td>\n",
       "    </tr>\n",
       "    <tr>\n",
       "      <th>100004_raw-Fat</th>\n",
       "      <td>-0.695167</td>\n",
       "      <td>0.046286</td>\n",
       "      <td>0.730428</td>\n",
       "      <td>0.240547</td>\n",
       "      <td>1.621534</td>\n",
       "      <td>-1.335187</td>\n",
       "      <td>-1.510894</td>\n",
       "      <td>1.790966</td>\n",
       "      <td>-0.682884</td>\n",
       "      <td>-1.572835</td>\n",
       "      <td>...</td>\n",
       "      <td>-2.997557</td>\n",
       "      <td>-0.489466</td>\n",
       "      <td>0.442809</td>\n",
       "      <td>1.217098</td>\n",
       "      <td>-1.604667</td>\n",
       "      <td>-0.776865</td>\n",
       "      <td>-0.983076</td>\n",
       "      <td>0.080423</td>\n",
       "      <td>2.476131</td>\n",
       "      <td>0.431179</td>\n",
       "    </tr>\n",
       "    <tr>\n",
       "      <th>100005_raw-Carbohydrate</th>\n",
       "      <td>0.770055</td>\n",
       "      <td>-0.499034</td>\n",
       "      <td>0.053157</td>\n",
       "      <td>0.479019</td>\n",
       "      <td>2.048336</td>\n",
       "      <td>0.984552</td>\n",
       "      <td>-0.090767</td>\n",
       "      <td>0.053451</td>\n",
       "      <td>-0.614035</td>\n",
       "      <td>1.304292</td>\n",
       "      <td>...</td>\n",
       "      <td>-0.280231</td>\n",
       "      <td>-0.892308</td>\n",
       "      <td>-0.522105</td>\n",
       "      <td>-0.358232</td>\n",
       "      <td>1.690968</td>\n",
       "      <td>0.049799</td>\n",
       "      <td>-0.633466</td>\n",
       "      <td>-0.812035</td>\n",
       "      <td>0.901284</td>\n",
       "      <td>2.461845</td>\n",
       "    </tr>\n",
       "  </tbody>\n",
       "</table>\n",
       "<p>5 rows × 50 columns</p>\n",
       "</div>"
      ],
      "text/plain": [
       "                             PCA1      PCA2      PCA3      PCA4      PCA5  \\\n",
       "100001_raw-Food_weight   0.373237 -0.155188 -1.554390 -0.103733 -1.807074   \n",
       "100002_raw-Energy        1.384398  0.511267 -0.273603 -0.074591 -1.151167   \n",
       "100003_raw-Protein      -1.247583  2.905641 -1.524196  0.683773  0.766860   \n",
       "100004_raw-Fat          -0.695167  0.046286  0.730428  0.240547  1.621534   \n",
       "100005_raw-Carbohydrate  0.770055 -0.499034  0.053157  0.479019  2.048336   \n",
       "\n",
       "                             PCA6      PCA7      PCA8      PCA9     PCA10  \\\n",
       "100001_raw-Food_weight  -0.957108  0.330335  0.638391  0.905023 -0.704551   \n",
       "100002_raw-Energy       -0.069438  1.242634 -0.439543  0.650348  2.456117   \n",
       "100003_raw-Protein      -2.478057 -0.201110  1.045590 -0.844712  2.426349   \n",
       "100004_raw-Fat          -1.335187 -1.510894  1.790966 -0.682884 -1.572835   \n",
       "100005_raw-Carbohydrate  0.984552 -0.090767  0.053451 -0.614035  1.304292   \n",
       "\n",
       "                         ...     PCA41     PCA42     PCA43     PCA44  \\\n",
       "100001_raw-Food_weight   ...  0.161732  0.488682  0.761158  0.667089   \n",
       "100002_raw-Energy        ...  0.051967  0.993820 -0.166350  1.497041   \n",
       "100003_raw-Protein       ...  0.027646 -1.903636 -0.819195  0.616887   \n",
       "100004_raw-Fat           ... -2.997557 -0.489466  0.442809  1.217098   \n",
       "100005_raw-Carbohydrate  ... -0.280231 -0.892308 -0.522105 -0.358232   \n",
       "\n",
       "                            PCA45     PCA46     PCA47     PCA48     PCA49  \\\n",
       "100001_raw-Food_weight  -0.078934  0.840971 -0.622958  1.075964  3.244039   \n",
       "100002_raw-Energy       -0.875754  2.632726  0.613299  0.041232  4.032974   \n",
       "100003_raw-Protein      -0.647462  0.170956  2.106036 -2.186258  0.485333   \n",
       "100004_raw-Fat          -1.604667 -0.776865 -0.983076  0.080423  2.476131   \n",
       "100005_raw-Carbohydrate  1.690968  0.049799 -0.633466 -0.812035  0.901284   \n",
       "\n",
       "                            PCA50  \n",
       "100001_raw-Food_weight  -0.933407  \n",
       "100002_raw-Energy       -0.230092  \n",
       "100003_raw-Protein      -1.136366  \n",
       "100004_raw-Fat           0.431179  \n",
       "100005_raw-Carbohydrate  2.461845  \n",
       "\n",
       "[5 rows x 50 columns]"
      ]
     },
     "execution_count": 20,
     "metadata": {},
     "output_type": "execute_result"
    }
   ],
   "source": [
    "data.head()"
   ]
  },
  {
   "cell_type": "code",
   "execution_count": 21,
   "id": "45dbd777",
   "metadata": {
    "execution": {
     "iopub.execute_input": "2022-09-12T11:00:36.533207Z",
     "iopub.status.busy": "2022-09-12T11:00:36.533037Z",
     "iopub.status.idle": "2022-09-12T11:00:36.550187Z",
     "shell.execute_reply": "2022-09-12T11:00:36.549677Z"
    },
    "papermill": {
     "duration": 0.025392,
     "end_time": "2022-09-12T11:00:36.551581",
     "exception": false,
     "start_time": "2022-09-12T11:00:36.526189",
     "status": "completed"
    },
    "tags": []
   },
   "outputs": [],
   "source": [
    "assert not data.isna().any().any()"
   ]
  },
  {
   "cell_type": "markdown",
   "id": "5065d6fe",
   "metadata": {
    "papermill": {
     "duration": 0.006123,
     "end_time": "2022-09-12T11:00:36.564075",
     "exception": false,
     "start_time": "2022-09-12T11:00:36.557952",
     "status": "completed"
    },
    "tags": []
   },
   "source": [
    "# Clustering"
   ]
  },
  {
   "cell_type": "markdown",
   "id": "13906733",
   "metadata": {
    "papermill": {
     "duration": 0.006044,
     "end_time": "2022-09-12T11:00:36.576255",
     "exception": false,
     "start_time": "2022-09-12T11:00:36.570211",
     "status": "completed"
    },
    "tags": []
   },
   "source": [
    "## Generate ensemble"
   ]
  },
  {
   "cell_type": "code",
   "execution_count": 22,
   "id": "652837ed",
   "metadata": {
    "execution": {
     "iopub.execute_input": "2022-09-12T11:00:36.597216Z",
     "iopub.status.busy": "2022-09-12T11:00:36.597047Z",
     "iopub.status.idle": "2022-09-12T11:00:36.617612Z",
     "shell.execute_reply": "2022-09-12T11:00:36.616987Z"
    },
    "papermill": {
     "duration": 0.028943,
     "end_time": "2022-09-12T11:00:36.619045",
     "exception": false,
     "start_time": "2022-09-12T11:00:36.590102",
     "status": "completed"
    },
    "tags": []
   },
   "outputs": [],
   "source": [
    "from sklearn.metrics import pairwise_distances\n",
    "from clustering.ensembles.utils import generate_ensemble"
   ]
  },
  {
   "cell_type": "code",
   "execution_count": 23,
   "id": "8a1b7d1b",
   "metadata": {
    "execution": {
     "iopub.execute_input": "2022-09-12T11:00:36.632489Z",
     "iopub.status.busy": "2022-09-12T11:00:36.632321Z",
     "iopub.status.idle": "2022-09-12T11:00:36.757408Z",
     "shell.execute_reply": "2022-09-12T11:00:36.756765Z"
    },
    "papermill": {
     "duration": 0.133567,
     "end_time": "2022-09-12T11:00:36.758960",
     "exception": false,
     "start_time": "2022-09-12T11:00:36.625393",
     "status": "completed"
    },
    "tags": []
   },
   "outputs": [],
   "source": [
    "data_dist = pairwise_distances(data, metric=CLUSTERING_OPTIONS[\"AFFINITY\"])"
   ]
  },
  {
   "cell_type": "code",
   "execution_count": 24,
   "id": "7cd0e1b9",
   "metadata": {
    "execution": {
     "iopub.execute_input": "2022-09-12T11:00:36.771817Z",
     "iopub.status.busy": "2022-09-12T11:00:36.771605Z",
     "iopub.status.idle": "2022-09-12T11:00:36.788739Z",
     "shell.execute_reply": "2022-09-12T11:00:36.788352Z"
    },
    "papermill": {
     "duration": 0.024842,
     "end_time": "2022-09-12T11:00:36.789981",
     "exception": false,
     "start_time": "2022-09-12T11:00:36.765139",
     "status": "completed"
    },
    "tags": []
   },
   "outputs": [
    {
     "data": {
      "text/plain": [
       "(3752, 3752)"
      ]
     },
     "execution_count": 24,
     "metadata": {},
     "output_type": "execute_result"
    }
   ],
   "source": [
    "data_dist.shape"
   ]
  },
  {
   "cell_type": "code",
   "execution_count": 25,
   "id": "9fdb9bb6",
   "metadata": {
    "execution": {
     "iopub.execute_input": "2022-09-12T11:00:36.816099Z",
     "iopub.status.busy": "2022-09-12T11:00:36.815934Z",
     "iopub.status.idle": "2022-09-12T11:00:37.439709Z",
     "shell.execute_reply": "2022-09-12T11:00:37.439222Z"
    },
    "papermill": {
     "duration": 0.644784,
     "end_time": "2022-09-12T11:00:37.441055",
     "exception": false,
     "start_time": "2022-09-12T11:00:36.796271",
     "status": "completed"
    },
    "tags": []
   },
   "outputs": [
    {
     "data": {
      "text/plain": [
       "count            14077504.0\n",
       "mean      14.21040051287485\n",
       "std      3.7431499846469296\n",
       "min                     0.0\n",
       "25%      12.590219844612541\n",
       "50%       13.66332691067814\n",
       "75%       14.81915312014235\n",
       "max       78.59712232322461\n",
       "dtype: object"
      ]
     },
     "execution_count": 25,
     "metadata": {},
     "output_type": "execute_result"
    }
   ],
   "source": [
    "pd.Series(data_dist.flatten()).describe().apply(str)"
   ]
  },
  {
   "cell_type": "code",
   "execution_count": 26,
   "id": "41f4836c",
   "metadata": {
    "execution": {
     "iopub.execute_input": "2022-09-12T11:00:37.454987Z",
     "iopub.status.busy": "2022-09-12T11:00:37.454824Z",
     "iopub.status.idle": "2022-09-12T11:28:31.042003Z",
     "shell.execute_reply": "2022-09-12T11:28:31.041521Z"
    },
    "papermill": {
     "duration": 1673.595648,
     "end_time": "2022-09-12T11:28:31.043395",
     "exception": false,
     "start_time": "2022-09-12T11:00:37.447747",
     "status": "completed"
    },
    "tags": []
   },
   "outputs": [
    {
     "name": "stderr",
     "output_type": "stream",
     "text": [
      "100%|██████████| 296/296 [27:53<00:00,  5.65s/it]\n"
     ]
    }
   ],
   "source": [
    "ensemble = generate_ensemble(\n",
    "    data_dist,\n",
    "    CLUSTERERS,\n",
    "    attributes=CLUSTERING_ATTRIBUTES_TO_SAVE,\n",
    "    affinity_matrix=data_dist,\n",
    ")"
   ]
  },
  {
   "cell_type": "code",
   "execution_count": 27,
   "id": "9190fefb",
   "metadata": {
    "execution": {
     "iopub.execute_input": "2022-09-12T11:28:31.077801Z",
     "iopub.status.busy": "2022-09-12T11:28:31.077592Z",
     "iopub.status.idle": "2022-09-12T11:28:31.095202Z",
     "shell.execute_reply": "2022-09-12T11:28:31.094728Z"
    },
    "papermill": {
     "duration": 0.035864,
     "end_time": "2022-09-12T11:28:31.096483",
     "exception": false,
     "start_time": "2022-09-12T11:28:31.060619",
     "status": "completed"
    },
    "tags": []
   },
   "outputs": [
    {
     "data": {
      "text/plain": [
       "(296, 3)"
      ]
     },
     "execution_count": 27,
     "metadata": {},
     "output_type": "execute_result"
    }
   ],
   "source": [
    "# the number should be close to 295 (the number of partitions generated by k-means/spectral clustering)\n",
    "ensemble.shape"
   ]
  },
  {
   "cell_type": "code",
   "execution_count": 28,
   "id": "dd2403cc",
   "metadata": {
    "execution": {
     "iopub.execute_input": "2022-09-12T11:28:31.129108Z",
     "iopub.status.busy": "2022-09-12T11:28:31.128507Z",
     "iopub.status.idle": "2022-09-12T11:28:31.152887Z",
     "shell.execute_reply": "2022-09-12T11:28:31.152295Z"
    },
    "papermill": {
     "duration": 0.041839,
     "end_time": "2022-09-12T11:28:31.154189",
     "exception": false,
     "start_time": "2022-09-12T11:28:31.112350",
     "status": "completed"
    },
    "tags": []
   },
   "outputs": [
    {
     "data": {
      "text/html": [
       "<div>\n",
       "<style scoped>\n",
       "    .dataframe tbody tr th:only-of-type {\n",
       "        vertical-align: middle;\n",
       "    }\n",
       "\n",
       "    .dataframe tbody tr th {\n",
       "        vertical-align: top;\n",
       "    }\n",
       "\n",
       "    .dataframe thead th {\n",
       "        text-align: right;\n",
       "    }\n",
       "</style>\n",
       "<table border=\"1\" class=\"dataframe\">\n",
       "  <thead>\n",
       "    <tr style=\"text-align: right;\">\n",
       "      <th></th>\n",
       "      <th>clusterer_params</th>\n",
       "      <th>partition</th>\n",
       "      <th>n_clusters</th>\n",
       "    </tr>\n",
       "    <tr>\n",
       "      <th>clusterer_id</th>\n",
       "      <th></th>\n",
       "      <th></th>\n",
       "      <th></th>\n",
       "    </tr>\n",
       "  </thead>\n",
       "  <tbody>\n",
       "    <tr>\n",
       "      <th>AgglomerativeClustering #0</th>\n",
       "      <td>{'affinity': 'precomputed', 'compute_full_tree...</td>\n",
       "      <td>[0.0, 0.0, 0.0, 0.0, 0.0, 0.0, 0.0, 0.0, 0.0, ...</td>\n",
       "      <td>2</td>\n",
       "    </tr>\n",
       "    <tr>\n",
       "      <th>AgglomerativeClustering #1</th>\n",
       "      <td>{'affinity': 'euclidean', 'compute_full_tree':...</td>\n",
       "      <td>[0.0, 0.0, 0.0, 0.0, 0.0, 0.0, 0.0, 0.0, 0.0, ...</td>\n",
       "      <td>2</td>\n",
       "    </tr>\n",
       "    <tr>\n",
       "      <th>AgglomerativeClustering #2</th>\n",
       "      <td>{'affinity': 'precomputed', 'compute_full_tree...</td>\n",
       "      <td>[1.0, 1.0, 1.0, 1.0, 1.0, 1.0, 1.0, 1.0, 1.0, ...</td>\n",
       "      <td>2</td>\n",
       "    </tr>\n",
       "    <tr>\n",
       "      <th>AgglomerativeClustering #3</th>\n",
       "      <td>{'affinity': 'precomputed', 'compute_full_tree...</td>\n",
       "      <td>[0.0, 0.0, 0.0, 0.0, 0.0, 0.0, 0.0, 0.0, 0.0, ...</td>\n",
       "      <td>2</td>\n",
       "    </tr>\n",
       "    <tr>\n",
       "      <th>AgglomerativeClustering #4</th>\n",
       "      <td>{'affinity': 'precomputed', 'compute_full_tree...</td>\n",
       "      <td>[0.0, 0.0, 0.0, 0.0, 0.0, 0.0, 0.0, 0.0, 0.0, ...</td>\n",
       "      <td>3</td>\n",
       "    </tr>\n",
       "  </tbody>\n",
       "</table>\n",
       "</div>"
      ],
      "text/plain": [
       "                                                             clusterer_params  \\\n",
       "clusterer_id                                                                    \n",
       "AgglomerativeClustering #0  {'affinity': 'precomputed', 'compute_full_tree...   \n",
       "AgglomerativeClustering #1  {'affinity': 'euclidean', 'compute_full_tree':...   \n",
       "AgglomerativeClustering #2  {'affinity': 'precomputed', 'compute_full_tree...   \n",
       "AgglomerativeClustering #3  {'affinity': 'precomputed', 'compute_full_tree...   \n",
       "AgglomerativeClustering #4  {'affinity': 'precomputed', 'compute_full_tree...   \n",
       "\n",
       "                                                                    partition  \\\n",
       "clusterer_id                                                                    \n",
       "AgglomerativeClustering #0  [0.0, 0.0, 0.0, 0.0, 0.0, 0.0, 0.0, 0.0, 0.0, ...   \n",
       "AgglomerativeClustering #1  [0.0, 0.0, 0.0, 0.0, 0.0, 0.0, 0.0, 0.0, 0.0, ...   \n",
       "AgglomerativeClustering #2  [1.0, 1.0, 1.0, 1.0, 1.0, 1.0, 1.0, 1.0, 1.0, ...   \n",
       "AgglomerativeClustering #3  [0.0, 0.0, 0.0, 0.0, 0.0, 0.0, 0.0, 0.0, 0.0, ...   \n",
       "AgglomerativeClustering #4  [0.0, 0.0, 0.0, 0.0, 0.0, 0.0, 0.0, 0.0, 0.0, ...   \n",
       "\n",
       "                            n_clusters  \n",
       "clusterer_id                            \n",
       "AgglomerativeClustering #0           2  \n",
       "AgglomerativeClustering #1           2  \n",
       "AgglomerativeClustering #2           2  \n",
       "AgglomerativeClustering #3           2  \n",
       "AgglomerativeClustering #4           3  "
      ]
     },
     "execution_count": 28,
     "metadata": {},
     "output_type": "execute_result"
    }
   ],
   "source": [
    "ensemble.head()"
   ]
  },
  {
   "cell_type": "code",
   "execution_count": 29,
   "id": "3ba1e908",
   "metadata": {
    "execution": {
     "iopub.execute_input": "2022-09-12T11:28:31.187262Z",
     "iopub.status.busy": "2022-09-12T11:28:31.186600Z",
     "iopub.status.idle": "2022-09-12T11:28:31.205203Z",
     "shell.execute_reply": "2022-09-12T11:28:31.204638Z"
    },
    "papermill": {
     "duration": 0.036177,
     "end_time": "2022-09-12T11:28:31.206412",
     "exception": false,
     "start_time": "2022-09-12T11:28:31.170235",
     "status": "completed"
    },
    "tags": []
   },
   "outputs": [
    {
     "data": {
      "text/plain": [
       "75    4\n",
       "20    4\n",
       "22    4\n",
       "23    4\n",
       "24    4\n",
       "Name: n_clusters, dtype: int64"
      ]
     },
     "execution_count": 29,
     "metadata": {},
     "output_type": "execute_result"
    }
   ],
   "source": [
    "ensemble[\"n_clusters\"].value_counts().head()"
   ]
  },
  {
   "cell_type": "code",
   "execution_count": 30,
   "id": "0240c3b2",
   "metadata": {
    "execution": {
     "iopub.execute_input": "2022-09-12T11:28:31.239322Z",
     "iopub.status.busy": "2022-09-12T11:28:31.239112Z",
     "iopub.status.idle": "2022-09-12T11:28:31.258983Z",
     "shell.execute_reply": "2022-09-12T11:28:31.258499Z"
    },
    "papermill": {
     "duration": 0.037664,
     "end_time": "2022-09-12T11:28:31.260208",
     "exception": false,
     "start_time": "2022-09-12T11:28:31.222544",
     "status": "completed"
    },
    "tags": []
   },
   "outputs": [
    {
     "data": {
      "text/plain": [
       "count    296.000000\n",
       "mean      38.500000\n",
       "std       21.396182\n",
       "min        2.000000\n",
       "25%       20.000000\n",
       "50%       38.500000\n",
       "75%       57.000000\n",
       "max       75.000000\n",
       "Name: n_clusters, dtype: float64"
      ]
     },
     "metadata": {},
     "output_type": "display_data"
    }
   ],
   "source": [
    "ensemble_stats = ensemble[\"n_clusters\"].describe()\n",
    "display(ensemble_stats)"
   ]
  },
  {
   "cell_type": "markdown",
   "id": "0792f1fd",
   "metadata": {
    "papermill": {
     "duration": 0.015697,
     "end_time": "2022-09-12T11:28:31.292389",
     "exception": false,
     "start_time": "2022-09-12T11:28:31.276692",
     "status": "completed"
    },
    "tags": []
   },
   "source": [
    "### Testing"
   ]
  },
  {
   "cell_type": "code",
   "execution_count": 31,
   "id": "9d67e045",
   "metadata": {
    "execution": {
     "iopub.execute_input": "2022-09-12T11:28:31.325101Z",
     "iopub.status.busy": "2022-09-12T11:28:31.324875Z",
     "iopub.status.idle": "2022-09-12T11:28:31.341470Z",
     "shell.execute_reply": "2022-09-12T11:28:31.340903Z"
    },
    "papermill": {
     "duration": 0.034653,
     "end_time": "2022-09-12T11:28:31.342838",
     "exception": false,
     "start_time": "2022-09-12T11:28:31.308185",
     "status": "completed"
    },
    "tags": []
   },
   "outputs": [],
   "source": [
    "assert ensemble_stats[\"min\"] > 1"
   ]
  },
  {
   "cell_type": "code",
   "execution_count": 32,
   "id": "10c60382",
   "metadata": {
    "execution": {
     "iopub.execute_input": "2022-09-12T11:28:31.376275Z",
     "iopub.status.busy": "2022-09-12T11:28:31.376063Z",
     "iopub.status.idle": "2022-09-12T11:28:31.393026Z",
     "shell.execute_reply": "2022-09-12T11:28:31.392525Z"
    },
    "papermill": {
     "duration": 0.035278,
     "end_time": "2022-09-12T11:28:31.394401",
     "exception": false,
     "start_time": "2022-09-12T11:28:31.359123",
     "status": "completed"
    },
    "tags": []
   },
   "outputs": [],
   "source": [
    "assert not ensemble[\"n_clusters\"].isna().any()"
   ]
  },
  {
   "cell_type": "code",
   "execution_count": 33,
   "id": "cd88d917",
   "metadata": {
    "execution": {
     "iopub.execute_input": "2022-09-12T11:28:31.428431Z",
     "iopub.status.busy": "2022-09-12T11:28:31.428221Z",
     "iopub.status.idle": "2022-09-12T11:28:31.444524Z",
     "shell.execute_reply": "2022-09-12T11:28:31.444091Z"
    },
    "papermill": {
     "duration": 0.034677,
     "end_time": "2022-09-12T11:28:31.445965",
     "exception": false,
     "start_time": "2022-09-12T11:28:31.411288",
     "status": "completed"
    },
    "tags": []
   },
   "outputs": [],
   "source": [
    "assert ensemble.shape[0] == len(CLUSTERERS)"
   ]
  },
  {
   "cell_type": "code",
   "execution_count": 34,
   "id": "337fcbba",
   "metadata": {
    "execution": {
     "iopub.execute_input": "2022-09-12T11:28:31.479060Z",
     "iopub.status.busy": "2022-09-12T11:28:31.478840Z",
     "iopub.status.idle": "2022-09-12T11:28:31.512311Z",
     "shell.execute_reply": "2022-09-12T11:28:31.511824Z"
    },
    "papermill": {
     "duration": 0.051557,
     "end_time": "2022-09-12T11:28:31.513819",
     "exception": false,
     "start_time": "2022-09-12T11:28:31.462262",
     "status": "completed"
    },
    "tags": []
   },
   "outputs": [],
   "source": [
    "# all partitions have the right size\n",
    "assert np.all(\n",
    "    [part[\"partition\"].shape[0] == data.shape[0] for idx, part in ensemble.iterrows()]\n",
    ")"
   ]
  },
  {
   "cell_type": "code",
   "execution_count": 35,
   "id": "9669d7f4",
   "metadata": {
    "execution": {
     "iopub.execute_input": "2022-09-12T11:28:31.546891Z",
     "iopub.status.busy": "2022-09-12T11:28:31.546681Z",
     "iopub.status.idle": "2022-09-12T11:28:31.583361Z",
     "shell.execute_reply": "2022-09-12T11:28:31.582679Z"
    },
    "papermill": {
     "duration": 0.054781,
     "end_time": "2022-09-12T11:28:31.584885",
     "exception": false,
     "start_time": "2022-09-12T11:28:31.530104",
     "status": "completed"
    },
    "tags": []
   },
   "outputs": [],
   "source": [
    "# no partition has negative clusters (noisy points)\n",
    "assert not np.any([(part[\"partition\"] < 0).any() for idx, part in ensemble.iterrows()])"
   ]
  },
  {
   "cell_type": "markdown",
   "id": "63b6b02c",
   "metadata": {
    "papermill": {
     "duration": 0.015502,
     "end_time": "2022-09-12T11:28:31.616738",
     "exception": false,
     "start_time": "2022-09-12T11:28:31.601236",
     "status": "completed"
    },
    "tags": []
   },
   "source": [
    "## Save"
   ]
  },
  {
   "cell_type": "code",
   "execution_count": 36,
   "id": "a72940f8",
   "metadata": {
    "execution": {
     "iopub.execute_input": "2022-09-12T11:28:31.649190Z",
     "iopub.status.busy": "2022-09-12T11:28:31.648979Z",
     "iopub.status.idle": "2022-09-12T11:28:31.666995Z",
     "shell.execute_reply": "2022-09-12T11:28:31.666502Z"
    },
    "papermill": {
     "duration": 0.035939,
     "end_time": "2022-09-12T11:28:31.668220",
     "exception": false,
     "start_time": "2022-09-12T11:28:31.632281",
     "status": "completed"
    },
    "tags": []
   },
   "outputs": [
    {
     "data": {
      "text/plain": [
       "PosixPath('/opt/data/results/clustering/null_sims/runs/pca-z_score_std-projection-smultixcan-efo_partial-mashr-zscores/AgglomerativeClustering-AFFINITY_euclidean-K_MAX_75-K_MIN_2.pkl')"
      ]
     },
     "metadata": {},
     "output_type": "display_data"
    }
   ],
   "source": [
    "del CLUSTERING_OPTIONS[\"LINKAGE\"]\n",
    "\n",
    "output_filename = Path(\n",
    "    RESULTS_DIR,\n",
    "    generate_result_set_name(\n",
    "        CLUSTERING_OPTIONS,\n",
    "        prefix=f\"{clustering_method_name}-\",\n",
    "        suffix=\".pkl\",\n",
    "    ),\n",
    ").resolve()\n",
    "display(output_filename)"
   ]
  },
  {
   "cell_type": "code",
   "execution_count": 37,
   "id": "05399e7f",
   "metadata": {
    "execution": {
     "iopub.execute_input": "2022-09-12T11:28:31.702400Z",
     "iopub.status.busy": "2022-09-12T11:28:31.702190Z",
     "iopub.status.idle": "2022-09-12T11:28:31.728514Z",
     "shell.execute_reply": "2022-09-12T11:28:31.727788Z"
    },
    "papermill": {
     "duration": 0.045132,
     "end_time": "2022-09-12T11:28:31.729975",
     "exception": false,
     "start_time": "2022-09-12T11:28:31.684843",
     "status": "completed"
    },
    "tags": []
   },
   "outputs": [],
   "source": [
    "ensemble.to_pickle(output_filename)"
   ]
  },
  {
   "cell_type": "code",
   "execution_count": null,
   "id": "133599e4",
   "metadata": {
    "papermill": {
     "duration": 0.015796,
     "end_time": "2022-09-12T11:28:31.762336",
     "exception": false,
     "start_time": "2022-09-12T11:28:31.746540",
     "status": "completed"
    },
    "tags": []
   },
   "outputs": [],
   "source": []
  }
 ],
 "metadata": {
  "jupytext": {
   "cell_metadata_filter": "all,-execution,-papermill,-trusted",
   "formats": "ipynb,py//py:percent"
  },
  "kernelspec": {
   "display_name": "Python 3 (ipykernel)",
   "language": "python",
   "name": "python3"
  },
  "language_info": {
   "codemirror_mode": {
    "name": "ipython",
    "version": 3
   },
   "file_extension": ".py",
   "mimetype": "text/x-python",
   "name": "python",
   "nbconvert_exporter": "python",
   "pygments_lexer": "ipython3",
   "version": "3.8.13"
  },
  "papermill": {
   "default_parameters": {},
   "duration": 1678.030486,
   "end_time": "2022-09-12T11:28:32.104366",
   "environment_variables": {},
   "exception": null,
   "input_path": "nbs/13.1_cluster_analysis_null/13_01-hc-pca.ipynb",
   "output_path": "nbs/13.1_cluster_analysis_null/13_01-hc-pca.run.ipynb",
   "parameters": {},
   "start_time": "2022-09-12T11:00:34.073880",
   "version": "2.2.2"
  },
  "toc-autonumbering": true,
  "toc-showcode": false,
  "toc-showmarkdowntxt": false,
  "toc-showtags": false
 },
 "nbformat": 4,
 "nbformat_minor": 5
}
