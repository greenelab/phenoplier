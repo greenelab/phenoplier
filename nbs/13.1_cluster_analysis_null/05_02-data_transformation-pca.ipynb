{
 "cells": [
  {
   "cell_type": "markdown",
   "id": "f36c3b1a",
   "metadata": {
    "papermill": {
     "duration": 0.006441,
     "end_time": "2022-09-13T15:33:53.038738",
     "exception": false,
     "start_time": "2022-09-13T15:33:53.032297",
     "status": "completed"
    },
    "tags": []
   },
   "source": [
    "# Description"
   ]
  },
  {
   "cell_type": "markdown",
   "id": "4bc3faf0",
   "metadata": {
    "papermill": {
     "duration": 0.002648,
     "end_time": "2022-09-13T15:33:53.044322",
     "exception": false,
     "start_time": "2022-09-13T15:33:53.041674",
     "status": "completed"
    },
    "tags": []
   },
   "source": [
    "It gets the PCA transformation of an input file."
   ]
  },
  {
   "cell_type": "markdown",
   "id": "61764c85",
   "metadata": {
    "papermill": {
     "duration": 0.002607,
     "end_time": "2022-09-13T15:33:53.049674",
     "exception": false,
     "start_time": "2022-09-13T15:33:53.047067",
     "status": "completed"
    },
    "tags": []
   },
   "source": [
    "# Modules loading"
   ]
  },
  {
   "cell_type": "code",
   "execution_count": 1,
   "id": "0ebf5ca9",
   "metadata": {
    "execution": {
     "iopub.execute_input": "2022-09-13T15:33:53.056649Z",
     "iopub.status.busy": "2022-09-13T15:33:53.056462Z",
     "iopub.status.idle": "2022-09-13T15:33:53.072311Z",
     "shell.execute_reply": "2022-09-13T15:33:53.071749Z"
    },
    "papermill": {
     "duration": 0.021281,
     "end_time": "2022-09-13T15:33:53.073727",
     "exception": false,
     "start_time": "2022-09-13T15:33:53.052446",
     "status": "completed"
    },
    "tags": []
   },
   "outputs": [],
   "source": [
    "%load_ext autoreload\n",
    "%autoreload 2"
   ]
  },
  {
   "cell_type": "code",
   "execution_count": 2,
   "id": "34a3a8ae",
   "metadata": {
    "execution": {
     "iopub.execute_input": "2022-09-13T15:33:53.080625Z",
     "iopub.status.busy": "2022-09-13T15:33:53.080480Z",
     "iopub.status.idle": "2022-09-13T15:33:53.747252Z",
     "shell.execute_reply": "2022-09-13T15:33:53.746771Z"
    },
    "papermill": {
     "duration": 0.671931,
     "end_time": "2022-09-13T15:33:53.748849",
     "exception": false,
     "start_time": "2022-09-13T15:33:53.076918",
     "status": "completed"
    },
    "tags": []
   },
   "outputs": [],
   "source": [
    "from pathlib import Path\n",
    "from IPython.display import display\n",
    "\n",
    "import numpy as np\n",
    "import pandas as pd\n",
    "import seaborn as sns\n",
    "\n",
    "import conf\n",
    "from utils import generate_result_set_name"
   ]
  },
  {
   "cell_type": "markdown",
   "id": "6c0331c5",
   "metadata": {
    "papermill": {
     "duration": 0.003087,
     "end_time": "2022-09-13T15:33:53.756051",
     "exception": false,
     "start_time": "2022-09-13T15:33:53.752964",
     "status": "completed"
    },
    "tags": []
   },
   "source": [
    "# Settings"
   ]
  },
  {
   "cell_type": "code",
   "execution_count": 3,
   "id": "f9a0d79e",
   "metadata": {
    "execution": {
     "iopub.execute_input": "2022-09-13T15:33:53.762752Z",
     "iopub.status.busy": "2022-09-13T15:33:53.762593Z",
     "iopub.status.idle": "2022-09-13T15:33:53.779008Z",
     "shell.execute_reply": "2022-09-13T15:33:53.778269Z"
    },
    "papermill": {
     "duration": 0.021462,
     "end_time": "2022-09-13T15:33:53.780403",
     "exception": false,
     "start_time": "2022-09-13T15:33:53.758941",
     "status": "completed"
    },
    "tags": []
   },
   "outputs": [],
   "source": [
    "np.random.seed(0)"
   ]
  },
  {
   "cell_type": "markdown",
   "id": "ac4f35c9",
   "metadata": {
    "papermill": {
     "duration": 0.002983,
     "end_time": "2022-09-13T15:33:53.786595",
     "exception": false,
     "start_time": "2022-09-13T15:33:53.783612",
     "status": "completed"
    },
    "tags": []
   },
   "source": [
    "## Input data"
   ]
  },
  {
   "cell_type": "code",
   "execution_count": 4,
   "id": "86a25d2c",
   "metadata": {
    "execution": {
     "iopub.execute_input": "2022-09-13T15:33:53.793658Z",
     "iopub.status.busy": "2022-09-13T15:33:53.793494Z",
     "iopub.status.idle": "2022-09-13T15:33:53.810034Z",
     "shell.execute_reply": "2022-09-13T15:33:53.809535Z"
    },
    "papermill": {
     "duration": 0.021733,
     "end_time": "2022-09-13T15:33:53.811478",
     "exception": false,
     "start_time": "2022-09-13T15:33:53.789745",
     "status": "completed"
    },
    "tags": []
   },
   "outputs": [],
   "source": [
    "INPUT_FILEPATH_STEM = \"projection-smultixcan-efo_partial-mashr-zscores\""
   ]
  },
  {
   "cell_type": "code",
   "execution_count": 5,
   "id": "52835e24",
   "metadata": {
    "execution": {
     "iopub.execute_input": "2022-09-13T15:33:53.820083Z",
     "iopub.status.busy": "2022-09-13T15:33:53.819921Z",
     "iopub.status.idle": "2022-09-13T15:33:53.840261Z",
     "shell.execute_reply": "2022-09-13T15:33:53.839680Z"
    },
    "papermill": {
     "duration": 0.026896,
     "end_time": "2022-09-13T15:33:53.841656",
     "exception": false,
     "start_time": "2022-09-13T15:33:53.814760",
     "status": "completed"
    },
    "tags": []
   },
   "outputs": [
    {
     "data": {
      "text/plain": [
       "PosixPath('/opt/data/results/clustering/null_sims/data_transformations/z_score_std/z_score_std-projection-smultixcan-efo_partial-mashr-zscores.pkl')"
      ]
     },
     "metadata": {},
     "output_type": "display_data"
    },
    {
     "data": {
      "text/plain": [
       "'z_score_std-projection-smultixcan-efo_partial-mashr-zscores'"
      ]
     },
     "metadata": {},
     "output_type": "display_data"
    }
   ],
   "source": [
    "INPUT_FILEPATH = Path(\n",
    "    conf.RESULTS[\"CLUSTERING_NULL_DIR\"],\n",
    "    \"data_transformations\",\n",
    "    \"z_score_std\",\n",
    "    f\"z_score_std-{INPUT_FILEPATH_STEM}.pkl\",\n",
    ").resolve()\n",
    "display(INPUT_FILEPATH)\n",
    "\n",
    "input_filepath_stem = INPUT_FILEPATH.stem\n",
    "display(input_filepath_stem)"
   ]
  },
  {
   "cell_type": "markdown",
   "id": "a3f7b534",
   "metadata": {
    "papermill": {
     "duration": 0.00323,
     "end_time": "2022-09-13T15:33:53.848389",
     "exception": false,
     "start_time": "2022-09-13T15:33:53.845159",
     "status": "completed"
    },
    "tags": []
   },
   "source": [
    "## Output folder"
   ]
  },
  {
   "cell_type": "code",
   "execution_count": 6,
   "id": "bae91f0b",
   "metadata": {
    "execution": {
     "iopub.execute_input": "2022-09-13T15:33:53.856016Z",
     "iopub.status.busy": "2022-09-13T15:33:53.855846Z",
     "iopub.status.idle": "2022-09-13T15:33:53.873969Z",
     "shell.execute_reply": "2022-09-13T15:33:53.873477Z"
    },
    "papermill": {
     "duration": 0.023349,
     "end_time": "2022-09-13T15:33:53.875163",
     "exception": false,
     "start_time": "2022-09-13T15:33:53.851814",
     "status": "completed"
    },
    "tags": []
   },
   "outputs": [
    {
     "data": {
      "text/plain": [
       "PosixPath('/opt/data/results/clustering/null_sims/data_transformations/pca')"
      ]
     },
     "metadata": {},
     "output_type": "display_data"
    }
   ],
   "source": [
    "# output dir for this notebook\n",
    "RESULTS_DIR = Path(\n",
    "    conf.RESULTS[\"CLUSTERING_NULL_DIR\"], \"data_transformations\", \"pca\"\n",
    ").resolve()\n",
    "RESULTS_DIR.mkdir(parents=True, exist_ok=True)\n",
    "\n",
    "display(RESULTS_DIR)"
   ]
  },
  {
   "cell_type": "markdown",
   "id": "aa4bf388",
   "metadata": {
    "papermill": {
     "duration": 0.003447,
     "end_time": "2022-09-13T15:33:53.882213",
     "exception": false,
     "start_time": "2022-09-13T15:33:53.878766",
     "status": "completed"
    },
    "tags": []
   },
   "source": [
    "## PCA options"
   ]
  },
  {
   "cell_type": "code",
   "execution_count": 7,
   "id": "219413f4",
   "metadata": {
    "execution": {
     "iopub.execute_input": "2022-09-13T15:33:53.890078Z",
     "iopub.status.busy": "2022-09-13T15:33:53.889908Z",
     "iopub.status.idle": "2022-09-13T15:33:53.906792Z",
     "shell.execute_reply": "2022-09-13T15:33:53.906250Z"
    },
    "papermill": {
     "duration": 0.022433,
     "end_time": "2022-09-13T15:33:53.908167",
     "exception": false,
     "start_time": "2022-09-13T15:33:53.885734",
     "status": "completed"
    },
    "tags": []
   },
   "outputs": [],
   "source": [
    "# parameters of the dimentionality reduction steps\n",
    "DR_OPTIONS = {\n",
    "    \"n_components\": 50,\n",
    "    \"svd_solver\": \"full\",\n",
    "    \"random_state\": 0,\n",
    "}"
   ]
  },
  {
   "cell_type": "code",
   "execution_count": 8,
   "id": "2cdd68b4",
   "metadata": {
    "execution": {
     "iopub.execute_input": "2022-09-13T15:33:53.916085Z",
     "iopub.status.busy": "2022-09-13T15:33:53.915921Z",
     "iopub.status.idle": "2022-09-13T15:33:53.933531Z",
     "shell.execute_reply": "2022-09-13T15:33:53.933000Z"
    },
    "papermill": {
     "duration": 0.022989,
     "end_time": "2022-09-13T15:33:53.934834",
     "exception": false,
     "start_time": "2022-09-13T15:33:53.911845",
     "status": "completed"
    },
    "tags": []
   },
   "outputs": [
    {
     "data": {
      "text/plain": [
       "{'n_components': 50, 'svd_solver': 'full', 'random_state': 0}"
      ]
     },
     "metadata": {},
     "output_type": "display_data"
    }
   ],
   "source": [
    "# dictionary containing all options/settings (used to generate filenames)\n",
    "ALL_OPTIONS = DR_OPTIONS.copy()\n",
    "\n",
    "display(ALL_OPTIONS)"
   ]
  },
  {
   "cell_type": "markdown",
   "id": "2b1d12de",
   "metadata": {
    "papermill": {
     "duration": 0.003618,
     "end_time": "2022-09-13T15:33:53.942229",
     "exception": false,
     "start_time": "2022-09-13T15:33:53.938611",
     "status": "completed"
    },
    "tags": []
   },
   "source": [
    "# Load input file"
   ]
  },
  {
   "cell_type": "code",
   "execution_count": 9,
   "id": "882cf22b",
   "metadata": {
    "execution": {
     "iopub.execute_input": "2022-09-13T15:33:53.950173Z",
     "iopub.status.busy": "2022-09-13T15:33:53.950006Z",
     "iopub.status.idle": "2022-09-13T15:33:53.982149Z",
     "shell.execute_reply": "2022-09-13T15:33:53.981627Z"
    },
    "papermill": {
     "duration": 0.037965,
     "end_time": "2022-09-13T15:33:53.983752",
     "exception": false,
     "start_time": "2022-09-13T15:33:53.945787",
     "status": "completed"
    },
    "tags": []
   },
   "outputs": [],
   "source": [
    "data = pd.read_pickle(INPUT_FILEPATH)"
   ]
  },
  {
   "cell_type": "code",
   "execution_count": 10,
   "id": "50eb1e50",
   "metadata": {
    "execution": {
     "iopub.execute_input": "2022-09-13T15:33:53.992562Z",
     "iopub.status.busy": "2022-09-13T15:33:53.992385Z",
     "iopub.status.idle": "2022-09-13T15:33:54.010982Z",
     "shell.execute_reply": "2022-09-13T15:33:54.010400Z"
    },
    "papermill": {
     "duration": 0.024545,
     "end_time": "2022-09-13T15:33:54.012361",
     "exception": false,
     "start_time": "2022-09-13T15:33:53.987816",
     "status": "completed"
    },
    "tags": []
   },
   "outputs": [
    {
     "data": {
      "text/plain": [
       "(3752, 987)"
      ]
     },
     "metadata": {},
     "output_type": "display_data"
    }
   ],
   "source": [
    "display(data.shape)"
   ]
  },
  {
   "cell_type": "code",
   "execution_count": 11,
   "id": "cfec0915",
   "metadata": {
    "execution": {
     "iopub.execute_input": "2022-09-13T15:33:54.020555Z",
     "iopub.status.busy": "2022-09-13T15:33:54.020398Z",
     "iopub.status.idle": "2022-09-13T15:33:54.051902Z",
     "shell.execute_reply": "2022-09-13T15:33:54.051423Z"
    },
    "papermill": {
     "duration": 0.037,
     "end_time": "2022-09-13T15:33:54.053185",
     "exception": false,
     "start_time": "2022-09-13T15:33:54.016185",
     "status": "completed"
    },
    "tags": []
   },
   "outputs": [
    {
     "data": {
      "text/html": [
       "<div>\n",
       "<style scoped>\n",
       "    .dataframe tbody tr th:only-of-type {\n",
       "        vertical-align: middle;\n",
       "    }\n",
       "\n",
       "    .dataframe tbody tr th {\n",
       "        vertical-align: top;\n",
       "    }\n",
       "\n",
       "    .dataframe thead th {\n",
       "        text-align: right;\n",
       "    }\n",
       "</style>\n",
       "<table border=\"1\" class=\"dataframe\">\n",
       "  <thead>\n",
       "    <tr style=\"text-align: right;\">\n",
       "      <th></th>\n",
       "      <th>LV1</th>\n",
       "      <th>LV2</th>\n",
       "      <th>LV3</th>\n",
       "      <th>LV4</th>\n",
       "      <th>LV5</th>\n",
       "      <th>LV6</th>\n",
       "      <th>LV7</th>\n",
       "      <th>LV8</th>\n",
       "      <th>LV9</th>\n",
       "      <th>LV10</th>\n",
       "      <th>...</th>\n",
       "      <th>LV978</th>\n",
       "      <th>LV979</th>\n",
       "      <th>LV980</th>\n",
       "      <th>LV981</th>\n",
       "      <th>LV982</th>\n",
       "      <th>LV983</th>\n",
       "      <th>LV984</th>\n",
       "      <th>LV985</th>\n",
       "      <th>LV986</th>\n",
       "      <th>LV987</th>\n",
       "    </tr>\n",
       "  </thead>\n",
       "  <tbody>\n",
       "    <tr>\n",
       "      <th>100001_raw-Food_weight</th>\n",
       "      <td>-0.175043</td>\n",
       "      <td>-0.710171</td>\n",
       "      <td>-1.000846</td>\n",
       "      <td>0.693026</td>\n",
       "      <td>0.409413</td>\n",
       "      <td>0.642958</td>\n",
       "      <td>1.767862</td>\n",
       "      <td>-1.070425</td>\n",
       "      <td>0.809395</td>\n",
       "      <td>-1.555050</td>\n",
       "      <td>...</td>\n",
       "      <td>-0.932802</td>\n",
       "      <td>0.371349</td>\n",
       "      <td>-0.521787</td>\n",
       "      <td>-0.881136</td>\n",
       "      <td>-1.193309</td>\n",
       "      <td>-0.257883</td>\n",
       "      <td>1.382268</td>\n",
       "      <td>0.066549</td>\n",
       "      <td>-0.866086</td>\n",
       "      <td>0.847997</td>\n",
       "    </tr>\n",
       "    <tr>\n",
       "      <th>100002_raw-Energy</th>\n",
       "      <td>0.531227</td>\n",
       "      <td>0.894062</td>\n",
       "      <td>1.191552</td>\n",
       "      <td>-0.143922</td>\n",
       "      <td>0.217867</td>\n",
       "      <td>0.529878</td>\n",
       "      <td>0.219561</td>\n",
       "      <td>-1.538143</td>\n",
       "      <td>-0.166704</td>\n",
       "      <td>1.042749</td>\n",
       "      <td>...</td>\n",
       "      <td>-0.601329</td>\n",
       "      <td>0.625139</td>\n",
       "      <td>-0.113048</td>\n",
       "      <td>-1.477163</td>\n",
       "      <td>0.746773</td>\n",
       "      <td>0.316892</td>\n",
       "      <td>-0.660407</td>\n",
       "      <td>1.501067</td>\n",
       "      <td>0.543744</td>\n",
       "      <td>1.094294</td>\n",
       "    </tr>\n",
       "    <tr>\n",
       "      <th>100003_raw-Protein</th>\n",
       "      <td>0.405395</td>\n",
       "      <td>0.925288</td>\n",
       "      <td>-0.339507</td>\n",
       "      <td>0.799476</td>\n",
       "      <td>-0.512075</td>\n",
       "      <td>0.586632</td>\n",
       "      <td>0.361706</td>\n",
       "      <td>0.226860</td>\n",
       "      <td>1.208289</td>\n",
       "      <td>-1.880931</td>\n",
       "      <td>...</td>\n",
       "      <td>-0.489171</td>\n",
       "      <td>0.276717</td>\n",
       "      <td>-0.159505</td>\n",
       "      <td>-1.271106</td>\n",
       "      <td>0.300351</td>\n",
       "      <td>0.595915</td>\n",
       "      <td>0.509020</td>\n",
       "      <td>-0.127540</td>\n",
       "      <td>-0.811987</td>\n",
       "      <td>-1.108812</td>\n",
       "    </tr>\n",
       "    <tr>\n",
       "      <th>100004_raw-Fat</th>\n",
       "      <td>-0.156230</td>\n",
       "      <td>0.881426</td>\n",
       "      <td>0.395527</td>\n",
       "      <td>-1.570256</td>\n",
       "      <td>1.240955</td>\n",
       "      <td>2.064595</td>\n",
       "      <td>-0.547373</td>\n",
       "      <td>-1.228389</td>\n",
       "      <td>0.319684</td>\n",
       "      <td>0.858253</td>\n",
       "      <td>...</td>\n",
       "      <td>-0.407151</td>\n",
       "      <td>-1.217662</td>\n",
       "      <td>-0.361052</td>\n",
       "      <td>0.813221</td>\n",
       "      <td>-0.692981</td>\n",
       "      <td>1.099523</td>\n",
       "      <td>-0.017366</td>\n",
       "      <td>0.361278</td>\n",
       "      <td>-0.017222</td>\n",
       "      <td>1.750511</td>\n",
       "    </tr>\n",
       "    <tr>\n",
       "      <th>100005_raw-Carbohydrate</th>\n",
       "      <td>-0.142531</td>\n",
       "      <td>-0.521907</td>\n",
       "      <td>1.069304</td>\n",
       "      <td>0.548122</td>\n",
       "      <td>-0.422146</td>\n",
       "      <td>-1.330718</td>\n",
       "      <td>-1.260872</td>\n",
       "      <td>1.003617</td>\n",
       "      <td>1.266289</td>\n",
       "      <td>0.065408</td>\n",
       "      <td>...</td>\n",
       "      <td>1.506698</td>\n",
       "      <td>-0.069854</td>\n",
       "      <td>-0.084662</td>\n",
       "      <td>-1.269536</td>\n",
       "      <td>-0.421185</td>\n",
       "      <td>0.431180</td>\n",
       "      <td>1.673162</td>\n",
       "      <td>-0.954336</td>\n",
       "      <td>0.026593</td>\n",
       "      <td>0.655359</td>\n",
       "    </tr>\n",
       "  </tbody>\n",
       "</table>\n",
       "<p>5 rows × 987 columns</p>\n",
       "</div>"
      ],
      "text/plain": [
       "                              LV1       LV2       LV3       LV4       LV5  \\\n",
       "100001_raw-Food_weight  -0.175043 -0.710171 -1.000846  0.693026  0.409413   \n",
       "100002_raw-Energy        0.531227  0.894062  1.191552 -0.143922  0.217867   \n",
       "100003_raw-Protein       0.405395  0.925288 -0.339507  0.799476 -0.512075   \n",
       "100004_raw-Fat          -0.156230  0.881426  0.395527 -1.570256  1.240955   \n",
       "100005_raw-Carbohydrate -0.142531 -0.521907  1.069304  0.548122 -0.422146   \n",
       "\n",
       "                              LV6       LV7       LV8       LV9      LV10  \\\n",
       "100001_raw-Food_weight   0.642958  1.767862 -1.070425  0.809395 -1.555050   \n",
       "100002_raw-Energy        0.529878  0.219561 -1.538143 -0.166704  1.042749   \n",
       "100003_raw-Protein       0.586632  0.361706  0.226860  1.208289 -1.880931   \n",
       "100004_raw-Fat           2.064595 -0.547373 -1.228389  0.319684  0.858253   \n",
       "100005_raw-Carbohydrate -1.330718 -1.260872  1.003617  1.266289  0.065408   \n",
       "\n",
       "                         ...     LV978     LV979     LV980     LV981  \\\n",
       "100001_raw-Food_weight   ... -0.932802  0.371349 -0.521787 -0.881136   \n",
       "100002_raw-Energy        ... -0.601329  0.625139 -0.113048 -1.477163   \n",
       "100003_raw-Protein       ... -0.489171  0.276717 -0.159505 -1.271106   \n",
       "100004_raw-Fat           ... -0.407151 -1.217662 -0.361052  0.813221   \n",
       "100005_raw-Carbohydrate  ...  1.506698 -0.069854 -0.084662 -1.269536   \n",
       "\n",
       "                            LV982     LV983     LV984     LV985     LV986  \\\n",
       "100001_raw-Food_weight  -1.193309 -0.257883  1.382268  0.066549 -0.866086   \n",
       "100002_raw-Energy        0.746773  0.316892 -0.660407  1.501067  0.543744   \n",
       "100003_raw-Protein       0.300351  0.595915  0.509020 -0.127540 -0.811987   \n",
       "100004_raw-Fat          -0.692981  1.099523 -0.017366  0.361278 -0.017222   \n",
       "100005_raw-Carbohydrate -0.421185  0.431180  1.673162 -0.954336  0.026593   \n",
       "\n",
       "                            LV987  \n",
       "100001_raw-Food_weight   0.847997  \n",
       "100002_raw-Energy        1.094294  \n",
       "100003_raw-Protein      -1.108812  \n",
       "100004_raw-Fat           1.750511  \n",
       "100005_raw-Carbohydrate  0.655359  \n",
       "\n",
       "[5 rows x 987 columns]"
      ]
     },
     "metadata": {},
     "output_type": "display_data"
    }
   ],
   "source": [
    "display(data.head())"
   ]
  },
  {
   "cell_type": "markdown",
   "id": "8073a7a3",
   "metadata": {
    "papermill": {
     "duration": 0.003857,
     "end_time": "2022-09-13T15:33:54.061157",
     "exception": false,
     "start_time": "2022-09-13T15:33:54.057300",
     "status": "completed"
    },
    "tags": []
   },
   "source": [
    "# PCA"
   ]
  },
  {
   "cell_type": "code",
   "execution_count": 12,
   "id": "e38b4bb8",
   "metadata": {
    "execution": {
     "iopub.execute_input": "2022-09-13T15:33:54.069607Z",
     "iopub.status.busy": "2022-09-13T15:33:54.069442Z",
     "iopub.status.idle": "2022-09-13T15:33:54.086321Z",
     "shell.execute_reply": "2022-09-13T15:33:54.085853Z"
    },
    "papermill": {
     "duration": 0.022702,
     "end_time": "2022-09-13T15:33:54.087664",
     "exception": false,
     "start_time": "2022-09-13T15:33:54.064962",
     "status": "completed"
    },
    "tags": []
   },
   "outputs": [],
   "source": [
    "from data.dimreduction import get_pca_proj"
   ]
  },
  {
   "cell_type": "code",
   "execution_count": 13,
   "id": "9bfe11cf",
   "metadata": {
    "execution": {
     "iopub.execute_input": "2022-09-13T15:33:54.096506Z",
     "iopub.status.busy": "2022-09-13T15:33:54.096344Z",
     "iopub.status.idle": "2022-09-13T15:33:54.859869Z",
     "shell.execute_reply": "2022-09-13T15:33:54.859197Z"
    },
    "papermill": {
     "duration": 0.769408,
     "end_time": "2022-09-13T15:33:54.861235",
     "exception": false,
     "start_time": "2022-09-13T15:33:54.091827",
     "status": "completed"
    },
    "tags": []
   },
   "outputs": [
    {
     "data": {
      "text/plain": [
       "\"PCA object: PCA(n_components=50, random_state=0, svd_solver='full')\""
      ]
     },
     "metadata": {},
     "output_type": "display_data"
    }
   ],
   "source": [
    "dr_data = get_pca_proj(data, DR_OPTIONS)"
   ]
  },
  {
   "cell_type": "code",
   "execution_count": 14,
   "id": "c92db57e",
   "metadata": {
    "execution": {
     "iopub.execute_input": "2022-09-13T15:33:54.870333Z",
     "iopub.status.busy": "2022-09-13T15:33:54.869697Z",
     "iopub.status.idle": "2022-09-13T15:33:54.888655Z",
     "shell.execute_reply": "2022-09-13T15:33:54.887994Z"
    },
    "papermill": {
     "duration": 0.024763,
     "end_time": "2022-09-13T15:33:54.890002",
     "exception": false,
     "start_time": "2022-09-13T15:33:54.865239",
     "status": "completed"
    },
    "tags": []
   },
   "outputs": [
    {
     "data": {
      "text/plain": [
       "(3752, 50)"
      ]
     },
     "metadata": {},
     "output_type": "display_data"
    }
   ],
   "source": [
    "display(dr_data.shape)"
   ]
  },
  {
   "cell_type": "code",
   "execution_count": 15,
   "id": "3e38ea5a",
   "metadata": {
    "execution": {
     "iopub.execute_input": "2022-09-13T15:33:54.899020Z",
     "iopub.status.busy": "2022-09-13T15:33:54.898692Z",
     "iopub.status.idle": "2022-09-13T15:33:54.928611Z",
     "shell.execute_reply": "2022-09-13T15:33:54.928113Z"
    },
    "papermill": {
     "duration": 0.035735,
     "end_time": "2022-09-13T15:33:54.929926",
     "exception": false,
     "start_time": "2022-09-13T15:33:54.894191",
     "status": "completed"
    },
    "tags": []
   },
   "outputs": [
    {
     "data": {
      "text/html": [
       "<div>\n",
       "<style scoped>\n",
       "    .dataframe tbody tr th:only-of-type {\n",
       "        vertical-align: middle;\n",
       "    }\n",
       "\n",
       "    .dataframe tbody tr th {\n",
       "        vertical-align: top;\n",
       "    }\n",
       "\n",
       "    .dataframe thead th {\n",
       "        text-align: right;\n",
       "    }\n",
       "</style>\n",
       "<table border=\"1\" class=\"dataframe\">\n",
       "  <thead>\n",
       "    <tr style=\"text-align: right;\">\n",
       "      <th></th>\n",
       "      <th>PCA1</th>\n",
       "      <th>PCA2</th>\n",
       "      <th>PCA3</th>\n",
       "      <th>PCA4</th>\n",
       "      <th>PCA5</th>\n",
       "      <th>PCA6</th>\n",
       "      <th>PCA7</th>\n",
       "      <th>PCA8</th>\n",
       "      <th>PCA9</th>\n",
       "      <th>PCA10</th>\n",
       "      <th>...</th>\n",
       "      <th>PCA41</th>\n",
       "      <th>PCA42</th>\n",
       "      <th>PCA43</th>\n",
       "      <th>PCA44</th>\n",
       "      <th>PCA45</th>\n",
       "      <th>PCA46</th>\n",
       "      <th>PCA47</th>\n",
       "      <th>PCA48</th>\n",
       "      <th>PCA49</th>\n",
       "      <th>PCA50</th>\n",
       "    </tr>\n",
       "  </thead>\n",
       "  <tbody>\n",
       "    <tr>\n",
       "      <th>100001_raw-Food_weight</th>\n",
       "      <td>-0.844744</td>\n",
       "      <td>3.134501</td>\n",
       "      <td>-1.885185</td>\n",
       "      <td>0.800877</td>\n",
       "      <td>-0.283830</td>\n",
       "      <td>0.027480</td>\n",
       "      <td>0.611143</td>\n",
       "      <td>1.485636</td>\n",
       "      <td>0.202757</td>\n",
       "      <td>0.450528</td>\n",
       "      <td>...</td>\n",
       "      <td>2.547792</td>\n",
       "      <td>-1.128343</td>\n",
       "      <td>-0.907277</td>\n",
       "      <td>-0.049764</td>\n",
       "      <td>-1.669310</td>\n",
       "      <td>-0.721449</td>\n",
       "      <td>2.077602</td>\n",
       "      <td>0.799708</td>\n",
       "      <td>1.271524</td>\n",
       "      <td>-1.871291</td>\n",
       "    </tr>\n",
       "    <tr>\n",
       "      <th>100002_raw-Energy</th>\n",
       "      <td>-0.078568</td>\n",
       "      <td>-1.675988</td>\n",
       "      <td>-0.826605</td>\n",
       "      <td>0.872125</td>\n",
       "      <td>-1.257784</td>\n",
       "      <td>0.276976</td>\n",
       "      <td>0.123534</td>\n",
       "      <td>-0.225430</td>\n",
       "      <td>1.291625</td>\n",
       "      <td>-0.406739</td>\n",
       "      <td>...</td>\n",
       "      <td>-1.595450</td>\n",
       "      <td>-0.979352</td>\n",
       "      <td>2.081672</td>\n",
       "      <td>-1.266333</td>\n",
       "      <td>-1.430714</td>\n",
       "      <td>2.733243</td>\n",
       "      <td>-0.293793</td>\n",
       "      <td>-1.427649</td>\n",
       "      <td>-1.315076</td>\n",
       "      <td>1.458368</td>\n",
       "    </tr>\n",
       "    <tr>\n",
       "      <th>100003_raw-Protein</th>\n",
       "      <td>-1.966843</td>\n",
       "      <td>-0.720839</td>\n",
       "      <td>-0.621370</td>\n",
       "      <td>1.066950</td>\n",
       "      <td>0.612613</td>\n",
       "      <td>-1.143542</td>\n",
       "      <td>-3.256801</td>\n",
       "      <td>0.637131</td>\n",
       "      <td>1.275239</td>\n",
       "      <td>-1.746677</td>\n",
       "      <td>...</td>\n",
       "      <td>-0.898644</td>\n",
       "      <td>1.423939</td>\n",
       "      <td>0.200717</td>\n",
       "      <td>0.080861</td>\n",
       "      <td>-0.910925</td>\n",
       "      <td>-0.266207</td>\n",
       "      <td>1.036173</td>\n",
       "      <td>0.326860</td>\n",
       "      <td>-0.197079</td>\n",
       "      <td>-0.322935</td>\n",
       "    </tr>\n",
       "    <tr>\n",
       "      <th>100004_raw-Fat</th>\n",
       "      <td>0.332482</td>\n",
       "      <td>-0.928841</td>\n",
       "      <td>-0.216911</td>\n",
       "      <td>0.486861</td>\n",
       "      <td>0.454021</td>\n",
       "      <td>-1.316312</td>\n",
       "      <td>0.226607</td>\n",
       "      <td>2.504342</td>\n",
       "      <td>-0.740799</td>\n",
       "      <td>-2.027466</td>\n",
       "      <td>...</td>\n",
       "      <td>0.101529</td>\n",
       "      <td>0.032200</td>\n",
       "      <td>-0.658490</td>\n",
       "      <td>-0.288036</td>\n",
       "      <td>1.399674</td>\n",
       "      <td>2.502066</td>\n",
       "      <td>1.872188</td>\n",
       "      <td>-0.239398</td>\n",
       "      <td>-1.349670</td>\n",
       "      <td>-0.457304</td>\n",
       "    </tr>\n",
       "    <tr>\n",
       "      <th>100005_raw-Carbohydrate</th>\n",
       "      <td>2.106644</td>\n",
       "      <td>1.025306</td>\n",
       "      <td>0.405959</td>\n",
       "      <td>2.645132</td>\n",
       "      <td>0.881081</td>\n",
       "      <td>-1.718546</td>\n",
       "      <td>0.693749</td>\n",
       "      <td>0.135447</td>\n",
       "      <td>-0.303163</td>\n",
       "      <td>-0.525056</td>\n",
       "      <td>...</td>\n",
       "      <td>0.612486</td>\n",
       "      <td>-0.769634</td>\n",
       "      <td>-0.264214</td>\n",
       "      <td>3.150728</td>\n",
       "      <td>-1.403396</td>\n",
       "      <td>2.893334</td>\n",
       "      <td>0.900700</td>\n",
       "      <td>0.200481</td>\n",
       "      <td>-2.369759</td>\n",
       "      <td>-0.348016</td>\n",
       "    </tr>\n",
       "  </tbody>\n",
       "</table>\n",
       "<p>5 rows × 50 columns</p>\n",
       "</div>"
      ],
      "text/plain": [
       "                             PCA1      PCA2      PCA3      PCA4      PCA5  \\\n",
       "100001_raw-Food_weight  -0.844744  3.134501 -1.885185  0.800877 -0.283830   \n",
       "100002_raw-Energy       -0.078568 -1.675988 -0.826605  0.872125 -1.257784   \n",
       "100003_raw-Protein      -1.966843 -0.720839 -0.621370  1.066950  0.612613   \n",
       "100004_raw-Fat           0.332482 -0.928841 -0.216911  0.486861  0.454021   \n",
       "100005_raw-Carbohydrate  2.106644  1.025306  0.405959  2.645132  0.881081   \n",
       "\n",
       "                             PCA6      PCA7      PCA8      PCA9     PCA10  \\\n",
       "100001_raw-Food_weight   0.027480  0.611143  1.485636  0.202757  0.450528   \n",
       "100002_raw-Energy        0.276976  0.123534 -0.225430  1.291625 -0.406739   \n",
       "100003_raw-Protein      -1.143542 -3.256801  0.637131  1.275239 -1.746677   \n",
       "100004_raw-Fat          -1.316312  0.226607  2.504342 -0.740799 -2.027466   \n",
       "100005_raw-Carbohydrate -1.718546  0.693749  0.135447 -0.303163 -0.525056   \n",
       "\n",
       "                         ...     PCA41     PCA42     PCA43     PCA44  \\\n",
       "100001_raw-Food_weight   ...  2.547792 -1.128343 -0.907277 -0.049764   \n",
       "100002_raw-Energy        ... -1.595450 -0.979352  2.081672 -1.266333   \n",
       "100003_raw-Protein       ... -0.898644  1.423939  0.200717  0.080861   \n",
       "100004_raw-Fat           ...  0.101529  0.032200 -0.658490 -0.288036   \n",
       "100005_raw-Carbohydrate  ...  0.612486 -0.769634 -0.264214  3.150728   \n",
       "\n",
       "                            PCA45     PCA46     PCA47     PCA48     PCA49  \\\n",
       "100001_raw-Food_weight  -1.669310 -0.721449  2.077602  0.799708  1.271524   \n",
       "100002_raw-Energy       -1.430714  2.733243 -0.293793 -1.427649 -1.315076   \n",
       "100003_raw-Protein      -0.910925 -0.266207  1.036173  0.326860 -0.197079   \n",
       "100004_raw-Fat           1.399674  2.502066  1.872188 -0.239398 -1.349670   \n",
       "100005_raw-Carbohydrate -1.403396  2.893334  0.900700  0.200481 -2.369759   \n",
       "\n",
       "                            PCA50  \n",
       "100001_raw-Food_weight  -1.871291  \n",
       "100002_raw-Energy        1.458368  \n",
       "100003_raw-Protein      -0.322935  \n",
       "100004_raw-Fat          -0.457304  \n",
       "100005_raw-Carbohydrate -0.348016  \n",
       "\n",
       "[5 rows x 50 columns]"
      ]
     },
     "metadata": {},
     "output_type": "display_data"
    }
   ],
   "source": [
    "display(dr_data.head())"
   ]
  },
  {
   "cell_type": "markdown",
   "id": "e868e0ff",
   "metadata": {
    "papermill": {
     "duration": 0.004298,
     "end_time": "2022-09-13T15:33:54.938488",
     "exception": false,
     "start_time": "2022-09-13T15:33:54.934190",
     "status": "completed"
    },
    "tags": []
   },
   "source": [
    "## Plot"
   ]
  },
  {
   "cell_type": "code",
   "execution_count": 16,
   "id": "5dbec6bf",
   "metadata": {
    "execution": {
     "iopub.execute_input": "2022-09-13T15:33:54.947284Z",
     "iopub.status.busy": "2022-09-13T15:33:54.947092Z",
     "iopub.status.idle": "2022-09-13T15:33:59.624993Z",
     "shell.execute_reply": "2022-09-13T15:33:59.624453Z"
    },
    "papermill": {
     "duration": 4.684745,
     "end_time": "2022-09-13T15:33:59.627161",
     "exception": false,
     "start_time": "2022-09-13T15:33:54.942416",
     "status": "completed"
    },
    "tags": []
   },
   "outputs": [
    {
     "data": {
      "image/png": "[encoded data removed]",
      "text/plain": [
       "<Figure size 900x900 with 30 Axes>"
      ]
     },
     "metadata": {
      "needs_background": "light"
     },
     "output_type": "display_data"
    }
   ],
   "source": [
    "g = sns.pairplot(data=dr_data.iloc[:, :5])"
   ]
  },
  {
   "cell_type": "markdown",
   "id": "f076ef80",
   "metadata": {
    "papermill": {
     "duration": 0.006403,
     "end_time": "2022-09-13T15:33:59.640366",
     "exception": false,
     "start_time": "2022-09-13T15:33:59.633963",
     "status": "completed"
    },
    "tags": []
   },
   "source": [
    "# Save"
   ]
  },
  {
   "cell_type": "code",
   "execution_count": 17,
   "id": "7f7f081a",
   "metadata": {
    "execution": {
     "iopub.execute_input": "2022-09-13T15:33:59.653638Z",
     "iopub.status.busy": "2022-09-13T15:33:59.653462Z",
     "iopub.status.idle": "2022-09-13T15:33:59.674113Z",
     "shell.execute_reply": "2022-09-13T15:33:59.673618Z"
    },
    "papermill": {
     "duration": 0.028859,
     "end_time": "2022-09-13T15:33:59.675528",
     "exception": false,
     "start_time": "2022-09-13T15:33:59.646669",
     "status": "completed"
    },
    "tags": []
   },
   "outputs": [
    {
     "data": {
      "text/plain": [
       "PosixPath('/opt/data/results/clustering/null_sims/data_transformations/pca/pca-z_score_std-projection-smultixcan-efo_partial-mashr-zscores-n_components_50-random_state_0-svd_solver_full.pkl')"
      ]
     },
     "metadata": {},
     "output_type": "display_data"
    }
   ],
   "source": [
    "output_file = Path(\n",
    "    RESULTS_DIR,\n",
    "    generate_result_set_name(\n",
    "        ALL_OPTIONS, prefix=f\"pca-{input_filepath_stem}-\", suffix=\".pkl\"\n",
    "    ),\n",
    ").resolve()\n",
    "\n",
    "display(output_file)"
   ]
  },
  {
   "cell_type": "code",
   "execution_count": 18,
   "id": "ffb6eb7e",
   "metadata": {
    "execution": {
     "iopub.execute_input": "2022-09-13T15:33:59.687849Z",
     "iopub.status.busy": "2022-09-13T15:33:59.687688Z",
     "iopub.status.idle": "2022-09-13T15:33:59.708732Z",
     "shell.execute_reply": "2022-09-13T15:33:59.708245Z"
    },
    "papermill": {
     "duration": 0.028667,
     "end_time": "2022-09-13T15:33:59.710205",
     "exception": false,
     "start_time": "2022-09-13T15:33:59.681538",
     "status": "completed"
    },
    "tags": []
   },
   "outputs": [],
   "source": [
    "dr_data.to_pickle(output_file)"
   ]
  },
  {
   "cell_type": "code",
   "execution_count": null,
   "id": "4c6e1f83",
   "metadata": {
    "papermill": {
     "duration": 0.005937,
     "end_time": "2022-09-13T15:33:59.722359",
     "exception": false,
     "start_time": "2022-09-13T15:33:59.716422",
     "status": "completed"
    },
    "tags": []
   },
   "outputs": [],
   "source": []
  }
 ],
 "metadata": {
  "jupytext": {
   "cell_metadata_filter": "all,-execution,-papermill,-trusted",
   "formats": "ipynb,py//py:percent"
  },
  "kernelspec": {
   "display_name": "Python 3 (ipykernel)",
   "language": "python",
   "name": "python3"
  },
  "language_info": {
   "codemirror_mode": {
    "name": "ipython",
    "version": 3
   },
   "file_extension": ".py",
   "mimetype": "text/x-python",
   "name": "python",
   "nbconvert_exporter": "python",
   "pygments_lexer": "ipython3",
   "version": "3.8.13"
  },
  "papermill": {
   "default_parameters": {},
   "duration": 8.443462,
   "end_time": "2022-09-13T15:34:00.250053",
   "environment_variables": {},
   "exception": null,
   "input_path": "nbs/13.1_cluster_analysis_null/05_02-data_transformation-pca.ipynb",
   "output_path": "nbs/13.1_cluster_analysis_null/05_02-data_transformation-pca.run.ipynb",
   "parameters": {},
   "start_time": "2022-09-13T15:33:51.806591",
   "version": "2.2.2"
  },
  "toc-autonumbering": true,
  "toc-showcode": false,
  "toc-showmarkdowntxt": false,
  "toc-showtags": false
 },
 "nbformat": 4,
 "nbformat_minor": 5
}
