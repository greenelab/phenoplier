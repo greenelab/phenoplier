{
 "cells": [
  {
   "cell_type": "markdown",
   "id": "585254ef",
   "metadata": {
    "papermill": {
     "duration": 0.023238,
     "end_time": "2022-09-13T15:32:50.323138",
     "exception": false,
     "start_time": "2022-09-13T15:32:50.299900",
     "status": "completed"
    },
    "tags": []
   },
   "source": [
    "# Description"
   ]
  },
  {
   "cell_type": "markdown",
   "id": "db1a91ab",
   "metadata": {
    "papermill": {
     "duration": 0.007376,
     "end_time": "2022-09-13T15:32:50.347335",
     "exception": false,
     "start_time": "2022-09-13T15:32:50.339959",
     "status": "completed"
    },
    "tags": []
   },
   "source": [
    "It projects the PhenomeXcan results (S-MultiXcan, EFO version) into the MultiPLIER latent space.\n",
    "Before projecting, repeated gene symbols as well as genes with NaN are removed;\n",
    "additionally (also before projecting), S-MultiXcan results are adjusted for highly polygenic traits."
   ]
  },
  {
   "cell_type": "markdown",
   "id": "f0beeea1",
   "metadata": {
    "papermill": {
     "duration": 0.005037,
     "end_time": "2022-09-13T15:32:50.358556",
     "exception": false,
     "start_time": "2022-09-13T15:32:50.353519",
     "status": "completed"
    },
    "tags": []
   },
   "source": [
    "# Modules loading"
   ]
  },
  {
   "cell_type": "code",
   "execution_count": 1,
   "id": "cf7dac43",
   "metadata": {
    "execution": {
     "iopub.execute_input": "2022-09-13T15:32:50.370071Z",
     "iopub.status.busy": "2022-09-13T15:32:50.369709Z",
     "iopub.status.idle": "2022-09-13T15:32:50.386093Z",
     "shell.execute_reply": "2022-09-13T15:32:50.385553Z"
    },
    "papermill": {
     "duration": 0.024219,
     "end_time": "2022-09-13T15:32:50.387635",
     "exception": false,
     "start_time": "2022-09-13T15:32:50.363416",
     "status": "completed"
    },
    "tags": []
   },
   "outputs": [],
   "source": [
    "%load_ext autoreload\n",
    "%autoreload 2"
   ]
  },
  {
   "cell_type": "code",
   "execution_count": 2,
   "id": "8a71f25a",
   "metadata": {
    "execution": {
     "iopub.execute_input": "2022-09-13T15:32:50.398972Z",
     "iopub.status.busy": "2022-09-13T15:32:50.398806Z",
     "iopub.status.idle": "2022-09-13T15:32:51.056330Z",
     "shell.execute_reply": "2022-09-13T15:32:51.055736Z"
    },
    "papermill": {
     "duration": 0.664929,
     "end_time": "2022-09-13T15:32:51.057881",
     "exception": false,
     "start_time": "2022-09-13T15:32:50.392952",
     "status": "completed"
    },
    "tags": []
   },
   "outputs": [],
   "source": [
    "from pathlib import Path\n",
    "\n",
    "from IPython.display import display\n",
    "import numpy as np\n",
    "from scipy import stats\n",
    "import pandas as pd\n",
    "import pytest\n",
    "\n",
    "# import rpy2.robjects as ro\n",
    "# from rpy2.robjects import pandas2ri\n",
    "# from rpy2.robjects.conversion import localconverter\n",
    "\n",
    "import conf\n",
    "from entity import Gene\n",
    "\n",
    "# from data.cache import read_data\n",
    "from multiplier import MultiplierProjection"
   ]
  },
  {
   "cell_type": "code",
   "execution_count": 3,
   "id": "38bf39c9",
   "metadata": {
    "execution": {
     "iopub.execute_input": "2022-09-13T15:32:51.069831Z",
     "iopub.status.busy": "2022-09-13T15:32:51.069656Z",
     "iopub.status.idle": "2022-09-13T15:32:51.085373Z",
     "shell.execute_reply": "2022-09-13T15:32:51.084851Z"
    },
    "papermill": {
     "duration": 0.023251,
     "end_time": "2022-09-13T15:32:51.086728",
     "exception": false,
     "start_time": "2022-09-13T15:32:51.063477",
     "status": "completed"
    },
    "tags": []
   },
   "outputs": [],
   "source": [
    "# readRDS = ro.r[\"readRDS\"]"
   ]
  },
  {
   "cell_type": "code",
   "execution_count": 4,
   "id": "bc668201",
   "metadata": {
    "execution": {
     "iopub.execute_input": "2022-09-13T15:32:51.098370Z",
     "iopub.status.busy": "2022-09-13T15:32:51.098201Z",
     "iopub.status.idle": "2022-09-13T15:32:51.113228Z",
     "shell.execute_reply": "2022-09-13T15:32:51.112731Z"
    },
    "papermill": {
     "duration": 0.022382,
     "end_time": "2022-09-13T15:32:51.114661",
     "exception": false,
     "start_time": "2022-09-13T15:32:51.092279",
     "status": "completed"
    },
    "tags": []
   },
   "outputs": [],
   "source": [
    "# saveRDS = ro.r[\"saveRDS\"]"
   ]
  },
  {
   "cell_type": "markdown",
   "id": "e4af0eab",
   "metadata": {
    "papermill": {
     "duration": 0.005392,
     "end_time": "2022-09-13T15:32:51.125699",
     "exception": false,
     "start_time": "2022-09-13T15:32:51.120307",
     "status": "completed"
    },
    "tags": []
   },
   "source": [
    "# Settings"
   ]
  },
  {
   "cell_type": "code",
   "execution_count": 5,
   "id": "cf93b4c6",
   "metadata": {
    "execution": {
     "iopub.execute_input": "2022-09-13T15:32:51.137018Z",
     "iopub.status.busy": "2022-09-13T15:32:51.136825Z",
     "iopub.status.idle": "2022-09-13T15:32:51.157071Z",
     "shell.execute_reply": "2022-09-13T15:32:51.156629Z"
    },
    "papermill": {
     "duration": 0.027366,
     "end_time": "2022-09-13T15:32:51.158398",
     "exception": false,
     "start_time": "2022-09-13T15:32:51.131032",
     "status": "completed"
    },
    "tags": []
   },
   "outputs": [
    {
     "data": {
      "text/plain": [
       "PosixPath('/opt/data/results/clustering/null_sims/projections')"
      ]
     },
     "metadata": {},
     "output_type": "display_data"
    }
   ],
   "source": [
    "RESULTS_PROJ_OUTPUT_DIR = Path(\n",
    "    conf.RESULTS[\"CLUSTERING_NULL_DIR\"],\n",
    "    \"projections\",\n",
    ").resolve()\n",
    "RESULTS_PROJ_OUTPUT_DIR.mkdir(parents=True, exist_ok=True)\n",
    "\n",
    "display(RESULTS_PROJ_OUTPUT_DIR)"
   ]
  },
  {
   "cell_type": "code",
   "execution_count": 6,
   "id": "6f40817a",
   "metadata": {
    "execution": {
     "iopub.execute_input": "2022-09-13T15:32:51.170261Z",
     "iopub.status.busy": "2022-09-13T15:32:51.170092Z",
     "iopub.status.idle": "2022-09-13T15:32:51.185325Z",
     "shell.execute_reply": "2022-09-13T15:32:51.184859Z"
    },
    "papermill": {
     "duration": 0.022727,
     "end_time": "2022-09-13T15:32:51.186721",
     "exception": false,
     "start_time": "2022-09-13T15:32:51.163994",
     "status": "completed"
    },
    "tags": []
   },
   "outputs": [],
   "source": [
    "rs = np.random.RandomState(0)"
   ]
  },
  {
   "cell_type": "markdown",
   "id": "5b5410b9",
   "metadata": {
    "papermill": {
     "duration": 0.005392,
     "end_time": "2022-09-13T15:32:51.197505",
     "exception": false,
     "start_time": "2022-09-13T15:32:51.192113",
     "status": "completed"
    },
    "tags": []
   },
   "source": [
    "# Load PhenomeXcan data (S-MultiXcan)"
   ]
  },
  {
   "cell_type": "code",
   "execution_count": 7,
   "id": "a3980135",
   "metadata": {
    "execution": {
     "iopub.execute_input": "2022-09-13T15:32:51.209853Z",
     "iopub.status.busy": "2022-09-13T15:32:51.209671Z",
     "iopub.status.idle": "2022-09-13T15:32:51.227228Z",
     "shell.execute_reply": "2022-09-13T15:32:51.226647Z"
    },
    "papermill": {
     "duration": 0.025401,
     "end_time": "2022-09-13T15:32:51.228640",
     "exception": false,
     "start_time": "2022-09-13T15:32:51.203239",
     "status": "completed"
    },
    "tags": []
   },
   "outputs": [
    {
     "data": {
      "text/plain": [
       "PosixPath('/opt/data/data/phenomexcan/gene_assoc/smultixcan-efo_partial-mashr-zscores.pkl')"
      ]
     },
     "metadata": {},
     "output_type": "display_data"
    }
   ],
   "source": [
    "smultixcan_results_filename = conf.PHENOMEXCAN[\n",
    "    \"SMULTIXCAN_EFO_PARTIAL_MASHR_ZSCORES_FILE\"\n",
    "]\n",
    "\n",
    "display(smultixcan_results_filename)"
   ]
  },
  {
   "cell_type": "code",
   "execution_count": 8,
   "id": "34a57c8e",
   "metadata": {
    "execution": {
     "iopub.execute_input": "2022-09-13T15:32:51.241532Z",
     "iopub.status.busy": "2022-09-13T15:32:51.241352Z",
     "iopub.status.idle": "2022-09-13T15:32:51.258480Z",
     "shell.execute_reply": "2022-09-13T15:32:51.258001Z"
    },
    "papermill": {
     "duration": 0.025156,
     "end_time": "2022-09-13T15:32:51.259905",
     "exception": false,
     "start_time": "2022-09-13T15:32:51.234749",
     "status": "completed"
    },
    "tags": []
   },
   "outputs": [
    {
     "data": {
      "text/plain": [
       "'smultixcan-efo_partial-mashr-zscores'"
      ]
     },
     "metadata": {},
     "output_type": "display_data"
    }
   ],
   "source": [
    "results_filename_stem = smultixcan_results_filename.stem\n",
    "display(results_filename_stem)"
   ]
  },
  {
   "cell_type": "code",
   "execution_count": 9,
   "id": "a4142da4",
   "metadata": {
    "execution": {
     "iopub.execute_input": "2022-09-13T15:32:51.272858Z",
     "iopub.status.busy": "2022-09-13T15:32:51.272678Z",
     "iopub.status.idle": "2022-09-13T15:32:51.597589Z",
     "shell.execute_reply": "2022-09-13T15:32:51.596966Z"
    },
    "papermill": {
     "duration": 0.333204,
     "end_time": "2022-09-13T15:32:51.599216",
     "exception": false,
     "start_time": "2022-09-13T15:32:51.266012",
     "status": "completed"
    },
    "tags": []
   },
   "outputs": [],
   "source": [
    "smultixcan_results = pd.read_pickle(smultixcan_results_filename)"
   ]
  },
  {
   "cell_type": "code",
   "execution_count": 10,
   "id": "b1462283",
   "metadata": {
    "execution": {
     "iopub.execute_input": "2022-09-13T15:32:51.611868Z",
     "iopub.status.busy": "2022-09-13T15:32:51.611700Z",
     "iopub.status.idle": "2022-09-13T15:32:51.628692Z",
     "shell.execute_reply": "2022-09-13T15:32:51.628133Z"
    },
    "papermill": {
     "duration": 0.024616,
     "end_time": "2022-09-13T15:32:51.630029",
     "exception": false,
     "start_time": "2022-09-13T15:32:51.605413",
     "status": "completed"
    },
    "tags": []
   },
   "outputs": [
    {
     "data": {
      "text/plain": [
       "(22515, 3752)"
      ]
     },
     "execution_count": 10,
     "metadata": {},
     "output_type": "execute_result"
    }
   ],
   "source": [
    "smultixcan_results.shape"
   ]
  },
  {
   "cell_type": "code",
   "execution_count": 11,
   "id": "e36aab89",
   "metadata": {
    "execution": {
     "iopub.execute_input": "2022-09-13T15:32:51.670741Z",
     "iopub.status.busy": "2022-09-13T15:32:51.670232Z",
     "iopub.status.idle": "2022-09-13T15:32:51.705852Z",
     "shell.execute_reply": "2022-09-13T15:32:51.705321Z"
    },
    "papermill": {
     "duration": 0.071322,
     "end_time": "2022-09-13T15:32:51.707362",
     "exception": false,
     "start_time": "2022-09-13T15:32:51.636040",
     "status": "completed"
    },
    "tags": []
   },
   "outputs": [
    {
     "data": {
      "text/html": [
       "<div>\n",
       "<style scoped>\n",
       "    .dataframe tbody tr th:only-of-type {\n",
       "        vertical-align: middle;\n",
       "    }\n",
       "\n",
       "    .dataframe tbody tr th {\n",
       "        vertical-align: top;\n",
       "    }\n",
       "\n",
       "    .dataframe thead th {\n",
       "        text-align: right;\n",
       "    }\n",
       "</style>\n",
       "<table border=\"1\" class=\"dataframe\">\n",
       "  <thead>\n",
       "    <tr style=\"text-align: right;\">\n",
       "      <th></th>\n",
       "      <th>100001_raw-Food_weight</th>\n",
       "      <th>100002_raw-Energy</th>\n",
       "      <th>100003_raw-Protein</th>\n",
       "      <th>100004_raw-Fat</th>\n",
       "      <th>100005_raw-Carbohydrate</th>\n",
       "      <th>100006_raw-Saturated_fat</th>\n",
       "      <th>100007_raw-Polyunsaturated_fat</th>\n",
       "      <th>100008_raw-Total_sugars</th>\n",
       "      <th>100009_raw-Englyst_dietary_fibre</th>\n",
       "      <th>100010-Portion_size</th>\n",
       "      <th>...</th>\n",
       "      <th>visual impairment</th>\n",
       "      <th>vitiligo</th>\n",
       "      <th>vitreous body disease</th>\n",
       "      <th>vocal cord polyp</th>\n",
       "      <th>voice disorders</th>\n",
       "      <th>wellbeing measurement AND family relationship</th>\n",
       "      <th>wheezing</th>\n",
       "      <th>whooping cough</th>\n",
       "      <th>worry measurement</th>\n",
       "      <th>wrist fracture</th>\n",
       "    </tr>\n",
       "    <tr>\n",
       "      <th>gene_name</th>\n",
       "      <th></th>\n",
       "      <th></th>\n",
       "      <th></th>\n",
       "      <th></th>\n",
       "      <th></th>\n",
       "      <th></th>\n",
       "      <th></th>\n",
       "      <th></th>\n",
       "      <th></th>\n",
       "      <th></th>\n",
       "      <th></th>\n",
       "      <th></th>\n",
       "      <th></th>\n",
       "      <th></th>\n",
       "      <th></th>\n",
       "      <th></th>\n",
       "      <th></th>\n",
       "      <th></th>\n",
       "      <th></th>\n",
       "      <th></th>\n",
       "      <th></th>\n",
       "    </tr>\n",
       "  </thead>\n",
       "  <tbody>\n",
       "    <tr>\n",
       "      <th>ENSG00000000419</th>\n",
       "      <td>1.145442</td>\n",
       "      <td>0.724557</td>\n",
       "      <td>0.090876</td>\n",
       "      <td>0.298165</td>\n",
       "      <td>1.134347</td>\n",
       "      <td>1.371138</td>\n",
       "      <td>0.065718</td>\n",
       "      <td>0.794317</td>\n",
       "      <td>0.600342</td>\n",
       "      <td>0.317652</td>\n",
       "      <td>...</td>\n",
       "      <td>0.360518</td>\n",
       "      <td>1.351624</td>\n",
       "      <td>1.157695</td>\n",
       "      <td>0.835289</td>\n",
       "      <td>1.173072</td>\n",
       "      <td>1.337280</td>\n",
       "      <td>1.743822</td>\n",
       "      <td>1.017226</td>\n",
       "      <td>1.512184</td>\n",
       "      <td>0.972241</td>\n",
       "    </tr>\n",
       "    <tr>\n",
       "      <th>ENSG00000000457</th>\n",
       "      <td>0.618066</td>\n",
       "      <td>1.028131</td>\n",
       "      <td>2.218420</td>\n",
       "      <td>0.762584</td>\n",
       "      <td>0.934418</td>\n",
       "      <td>0.192993</td>\n",
       "      <td>1.080230</td>\n",
       "      <td>0.765997</td>\n",
       "      <td>0.375898</td>\n",
       "      <td>0.678731</td>\n",
       "      <td>...</td>\n",
       "      <td>2.134504</td>\n",
       "      <td>0.127830</td>\n",
       "      <td>0.534690</td>\n",
       "      <td>0.120516</td>\n",
       "      <td>0.517464</td>\n",
       "      <td>2.545363</td>\n",
       "      <td>0.673331</td>\n",
       "      <td>2.003092</td>\n",
       "      <td>0.344000</td>\n",
       "      <td>2.033122</td>\n",
       "    </tr>\n",
       "    <tr>\n",
       "      <th>ENSG00000000460</th>\n",
       "      <td>0.515724</td>\n",
       "      <td>0.403596</td>\n",
       "      <td>1.251359</td>\n",
       "      <td>0.433091</td>\n",
       "      <td>0.413466</td>\n",
       "      <td>0.246261</td>\n",
       "      <td>1.236151</td>\n",
       "      <td>0.827430</td>\n",
       "      <td>0.571985</td>\n",
       "      <td>0.782174</td>\n",
       "      <td>...</td>\n",
       "      <td>1.768905</td>\n",
       "      <td>0.992408</td>\n",
       "      <td>0.548215</td>\n",
       "      <td>0.412341</td>\n",
       "      <td>1.499415</td>\n",
       "      <td>1.366780</td>\n",
       "      <td>0.443318</td>\n",
       "      <td>0.417630</td>\n",
       "      <td>0.225934</td>\n",
       "      <td>1.613246</td>\n",
       "    </tr>\n",
       "    <tr>\n",
       "      <th>ENSG00000000938</th>\n",
       "      <td>0.280781</td>\n",
       "      <td>0.253910</td>\n",
       "      <td>0.879148</td>\n",
       "      <td>0.352705</td>\n",
       "      <td>0.051846</td>\n",
       "      <td>0.184212</td>\n",
       "      <td>0.148566</td>\n",
       "      <td>0.009989</td>\n",
       "      <td>0.363751</td>\n",
       "      <td>0.374514</td>\n",
       "      <td>...</td>\n",
       "      <td>0.656552</td>\n",
       "      <td>2.046041</td>\n",
       "      <td>2.746832</td>\n",
       "      <td>0.108211</td>\n",
       "      <td>1.008258</td>\n",
       "      <td>0.755695</td>\n",
       "      <td>0.896228</td>\n",
       "      <td>0.875047</td>\n",
       "      <td>0.476405</td>\n",
       "      <td>1.693057</td>\n",
       "    </tr>\n",
       "    <tr>\n",
       "      <th>ENSG00000000971</th>\n",
       "      <td>0.548127</td>\n",
       "      <td>0.389877</td>\n",
       "      <td>0.723469</td>\n",
       "      <td>1.167250</td>\n",
       "      <td>0.315952</td>\n",
       "      <td>0.324939</td>\n",
       "      <td>1.613932</td>\n",
       "      <td>0.311432</td>\n",
       "      <td>0.333548</td>\n",
       "      <td>1.807243</td>\n",
       "      <td>...</td>\n",
       "      <td>0.260482</td>\n",
       "      <td>0.646204</td>\n",
       "      <td>1.080240</td>\n",
       "      <td>0.678330</td>\n",
       "      <td>1.465358</td>\n",
       "      <td>0.307672</td>\n",
       "      <td>0.118376</td>\n",
       "      <td>1.419812</td>\n",
       "      <td>0.000002</td>\n",
       "      <td>1.040737</td>\n",
       "    </tr>\n",
       "  </tbody>\n",
       "</table>\n",
       "<p>5 rows × 3752 columns</p>\n",
       "</div>"
      ],
      "text/plain": [
       "                 100001_raw-Food_weight  100002_raw-Energy  \\\n",
       "gene_name                                                    \n",
       "ENSG00000000419                1.145442           0.724557   \n",
       "ENSG00000000457                0.618066           1.028131   \n",
       "ENSG00000000460                0.515724           0.403596   \n",
       "ENSG00000000938                0.280781           0.253910   \n",
       "ENSG00000000971                0.548127           0.389877   \n",
       "\n",
       "                 100003_raw-Protein  100004_raw-Fat  100005_raw-Carbohydrate  \\\n",
       "gene_name                                                                      \n",
       "ENSG00000000419            0.090876        0.298165                 1.134347   \n",
       "ENSG00000000457            2.218420        0.762584                 0.934418   \n",
       "ENSG00000000460            1.251359        0.433091                 0.413466   \n",
       "ENSG00000000938            0.879148        0.352705                 0.051846   \n",
       "ENSG00000000971            0.723469        1.167250                 0.315952   \n",
       "\n",
       "                 100006_raw-Saturated_fat  100007_raw-Polyunsaturated_fat  \\\n",
       "gene_name                                                                   \n",
       "ENSG00000000419                  1.371138                        0.065718   \n",
       "ENSG00000000457                  0.192993                        1.080230   \n",
       "ENSG00000000460                  0.246261                        1.236151   \n",
       "ENSG00000000938                  0.184212                        0.148566   \n",
       "ENSG00000000971                  0.324939                        1.613932   \n",
       "\n",
       "                 100008_raw-Total_sugars  100009_raw-Englyst_dietary_fibre  \\\n",
       "gene_name                                                                    \n",
       "ENSG00000000419                 0.794317                          0.600342   \n",
       "ENSG00000000457                 0.765997                          0.375898   \n",
       "ENSG00000000460                 0.827430                          0.571985   \n",
       "ENSG00000000938                 0.009989                          0.363751   \n",
       "ENSG00000000971                 0.311432                          0.333548   \n",
       "\n",
       "                 100010-Portion_size  ...  visual impairment  vitiligo  \\\n",
       "gene_name                             ...                                \n",
       "ENSG00000000419             0.317652  ...           0.360518  1.351624   \n",
       "ENSG00000000457             0.678731  ...           2.134504  0.127830   \n",
       "ENSG00000000460             0.782174  ...           1.768905  0.992408   \n",
       "ENSG00000000938             0.374514  ...           0.656552  2.046041   \n",
       "ENSG00000000971             1.807243  ...           0.260482  0.646204   \n",
       "\n",
       "                 vitreous body disease  vocal cord polyp  voice disorders  \\\n",
       "gene_name                                                                   \n",
       "ENSG00000000419               1.157695          0.835289         1.173072   \n",
       "ENSG00000000457               0.534690          0.120516         0.517464   \n",
       "ENSG00000000460               0.548215          0.412341         1.499415   \n",
       "ENSG00000000938               2.746832          0.108211         1.008258   \n",
       "ENSG00000000971               1.080240          0.678330         1.465358   \n",
       "\n",
       "                 wellbeing measurement AND family relationship  wheezing  \\\n",
       "gene_name                                                                  \n",
       "ENSG00000000419                                       1.337280  1.743822   \n",
       "ENSG00000000457                                       2.545363  0.673331   \n",
       "ENSG00000000460                                       1.366780  0.443318   \n",
       "ENSG00000000938                                       0.755695  0.896228   \n",
       "ENSG00000000971                                       0.307672  0.118376   \n",
       "\n",
       "                 whooping cough  worry measurement  wrist fracture  \n",
       "gene_name                                                           \n",
       "ENSG00000000419        1.017226           1.512184        0.972241  \n",
       "ENSG00000000457        2.003092           0.344000        2.033122  \n",
       "ENSG00000000460        0.417630           0.225934        1.613246  \n",
       "ENSG00000000938        0.875047           0.476405        1.693057  \n",
       "ENSG00000000971        1.419812           0.000002        1.040737  \n",
       "\n",
       "[5 rows x 3752 columns]"
      ]
     },
     "execution_count": 11,
     "metadata": {},
     "output_type": "execute_result"
    }
   ],
   "source": [
    "smultixcan_results.head()"
   ]
  },
  {
   "cell_type": "markdown",
   "id": "e491a261",
   "metadata": {
    "papermill": {
     "duration": 0.006459,
     "end_time": "2022-09-13T15:32:51.720651",
     "exception": false,
     "start_time": "2022-09-13T15:32:51.714192",
     "status": "completed"
    },
    "tags": []
   },
   "source": [
    "## Gene IDs to Gene names"
   ]
  },
  {
   "cell_type": "code",
   "execution_count": 12,
   "id": "43700082",
   "metadata": {
    "execution": {
     "iopub.execute_input": "2022-09-13T15:32:51.734840Z",
     "iopub.status.busy": "2022-09-13T15:32:51.734652Z",
     "iopub.status.idle": "2022-09-13T15:32:51.900620Z",
     "shell.execute_reply": "2022-09-13T15:32:51.900005Z"
    },
    "papermill": {
     "duration": 0.174935,
     "end_time": "2022-09-13T15:32:51.902184",
     "exception": false,
     "start_time": "2022-09-13T15:32:51.727249",
     "status": "completed"
    },
    "tags": []
   },
   "outputs": [],
   "source": [
    "smultixcan_results = smultixcan_results.rename(index=Gene.GENE_ID_TO_NAME_MAP)"
   ]
  },
  {
   "cell_type": "code",
   "execution_count": 13,
   "id": "ff720aae",
   "metadata": {
    "execution": {
     "iopub.execute_input": "2022-09-13T15:32:51.915577Z",
     "iopub.status.busy": "2022-09-13T15:32:51.915405Z",
     "iopub.status.idle": "2022-09-13T15:32:51.931711Z",
     "shell.execute_reply": "2022-09-13T15:32:51.931138Z"
    },
    "papermill": {
     "duration": 0.024368,
     "end_time": "2022-09-13T15:32:51.933048",
     "exception": false,
     "start_time": "2022-09-13T15:32:51.908680",
     "status": "completed"
    },
    "tags": []
   },
   "outputs": [
    {
     "data": {
      "text/plain": [
       "(22515, 3752)"
      ]
     },
     "execution_count": 13,
     "metadata": {},
     "output_type": "execute_result"
    }
   ],
   "source": [
    "smultixcan_results.shape"
   ]
  },
  {
   "cell_type": "code",
   "execution_count": 14,
   "id": "c7933f36",
   "metadata": {
    "execution": {
     "iopub.execute_input": "2022-09-13T15:32:51.946181Z",
     "iopub.status.busy": "2022-09-13T15:32:51.946016Z",
     "iopub.status.idle": "2022-09-13T15:32:51.975667Z",
     "shell.execute_reply": "2022-09-13T15:32:51.975051Z"
    },
    "papermill": {
     "duration": 0.037738,
     "end_time": "2022-09-13T15:32:51.976972",
     "exception": false,
     "start_time": "2022-09-13T15:32:51.939234",
     "status": "completed"
    },
    "tags": []
   },
   "outputs": [
    {
     "data": {
      "text/html": [
       "<div>\n",
       "<style scoped>\n",
       "    .dataframe tbody tr th:only-of-type {\n",
       "        vertical-align: middle;\n",
       "    }\n",
       "\n",
       "    .dataframe tbody tr th {\n",
       "        vertical-align: top;\n",
       "    }\n",
       "\n",
       "    .dataframe thead th {\n",
       "        text-align: right;\n",
       "    }\n",
       "</style>\n",
       "<table border=\"1\" class=\"dataframe\">\n",
       "  <thead>\n",
       "    <tr style=\"text-align: right;\">\n",
       "      <th></th>\n",
       "      <th>100001_raw-Food_weight</th>\n",
       "      <th>100002_raw-Energy</th>\n",
       "      <th>100003_raw-Protein</th>\n",
       "      <th>100004_raw-Fat</th>\n",
       "      <th>100005_raw-Carbohydrate</th>\n",
       "      <th>100006_raw-Saturated_fat</th>\n",
       "      <th>100007_raw-Polyunsaturated_fat</th>\n",
       "      <th>100008_raw-Total_sugars</th>\n",
       "      <th>100009_raw-Englyst_dietary_fibre</th>\n",
       "      <th>100010-Portion_size</th>\n",
       "      <th>...</th>\n",
       "      <th>visual impairment</th>\n",
       "      <th>vitiligo</th>\n",
       "      <th>vitreous body disease</th>\n",
       "      <th>vocal cord polyp</th>\n",
       "      <th>voice disorders</th>\n",
       "      <th>wellbeing measurement AND family relationship</th>\n",
       "      <th>wheezing</th>\n",
       "      <th>whooping cough</th>\n",
       "      <th>worry measurement</th>\n",
       "      <th>wrist fracture</th>\n",
       "    </tr>\n",
       "    <tr>\n",
       "      <th>gene_name</th>\n",
       "      <th></th>\n",
       "      <th></th>\n",
       "      <th></th>\n",
       "      <th></th>\n",
       "      <th></th>\n",
       "      <th></th>\n",
       "      <th></th>\n",
       "      <th></th>\n",
       "      <th></th>\n",
       "      <th></th>\n",
       "      <th></th>\n",
       "      <th></th>\n",
       "      <th></th>\n",
       "      <th></th>\n",
       "      <th></th>\n",
       "      <th></th>\n",
       "      <th></th>\n",
       "      <th></th>\n",
       "      <th></th>\n",
       "      <th></th>\n",
       "      <th></th>\n",
       "    </tr>\n",
       "  </thead>\n",
       "  <tbody>\n",
       "    <tr>\n",
       "      <th>DPM1</th>\n",
       "      <td>1.145442</td>\n",
       "      <td>0.724557</td>\n",
       "      <td>0.090876</td>\n",
       "      <td>0.298165</td>\n",
       "      <td>1.134347</td>\n",
       "      <td>1.371138</td>\n",
       "      <td>0.065718</td>\n",
       "      <td>0.794317</td>\n",
       "      <td>0.600342</td>\n",
       "      <td>0.317652</td>\n",
       "      <td>...</td>\n",
       "      <td>0.360518</td>\n",
       "      <td>1.351624</td>\n",
       "      <td>1.157695</td>\n",
       "      <td>0.835289</td>\n",
       "      <td>1.173072</td>\n",
       "      <td>1.337280</td>\n",
       "      <td>1.743822</td>\n",
       "      <td>1.017226</td>\n",
       "      <td>1.512184</td>\n",
       "      <td>0.972241</td>\n",
       "    </tr>\n",
       "    <tr>\n",
       "      <th>SCYL3</th>\n",
       "      <td>0.618066</td>\n",
       "      <td>1.028131</td>\n",
       "      <td>2.218420</td>\n",
       "      <td>0.762584</td>\n",
       "      <td>0.934418</td>\n",
       "      <td>0.192993</td>\n",
       "      <td>1.080230</td>\n",
       "      <td>0.765997</td>\n",
       "      <td>0.375898</td>\n",
       "      <td>0.678731</td>\n",
       "      <td>...</td>\n",
       "      <td>2.134504</td>\n",
       "      <td>0.127830</td>\n",
       "      <td>0.534690</td>\n",
       "      <td>0.120516</td>\n",
       "      <td>0.517464</td>\n",
       "      <td>2.545363</td>\n",
       "      <td>0.673331</td>\n",
       "      <td>2.003092</td>\n",
       "      <td>0.344000</td>\n",
       "      <td>2.033122</td>\n",
       "    </tr>\n",
       "    <tr>\n",
       "      <th>C1orf112</th>\n",
       "      <td>0.515724</td>\n",
       "      <td>0.403596</td>\n",
       "      <td>1.251359</td>\n",
       "      <td>0.433091</td>\n",
       "      <td>0.413466</td>\n",
       "      <td>0.246261</td>\n",
       "      <td>1.236151</td>\n",
       "      <td>0.827430</td>\n",
       "      <td>0.571985</td>\n",
       "      <td>0.782174</td>\n",
       "      <td>...</td>\n",
       "      <td>1.768905</td>\n",
       "      <td>0.992408</td>\n",
       "      <td>0.548215</td>\n",
       "      <td>0.412341</td>\n",
       "      <td>1.499415</td>\n",
       "      <td>1.366780</td>\n",
       "      <td>0.443318</td>\n",
       "      <td>0.417630</td>\n",
       "      <td>0.225934</td>\n",
       "      <td>1.613246</td>\n",
       "    </tr>\n",
       "    <tr>\n",
       "      <th>FGR</th>\n",
       "      <td>0.280781</td>\n",
       "      <td>0.253910</td>\n",
       "      <td>0.879148</td>\n",
       "      <td>0.352705</td>\n",
       "      <td>0.051846</td>\n",
       "      <td>0.184212</td>\n",
       "      <td>0.148566</td>\n",
       "      <td>0.009989</td>\n",
       "      <td>0.363751</td>\n",
       "      <td>0.374514</td>\n",
       "      <td>...</td>\n",
       "      <td>0.656552</td>\n",
       "      <td>2.046041</td>\n",
       "      <td>2.746832</td>\n",
       "      <td>0.108211</td>\n",
       "      <td>1.008258</td>\n",
       "      <td>0.755695</td>\n",
       "      <td>0.896228</td>\n",
       "      <td>0.875047</td>\n",
       "      <td>0.476405</td>\n",
       "      <td>1.693057</td>\n",
       "    </tr>\n",
       "    <tr>\n",
       "      <th>CFH</th>\n",
       "      <td>0.548127</td>\n",
       "      <td>0.389877</td>\n",
       "      <td>0.723469</td>\n",
       "      <td>1.167250</td>\n",
       "      <td>0.315952</td>\n",
       "      <td>0.324939</td>\n",
       "      <td>1.613932</td>\n",
       "      <td>0.311432</td>\n",
       "      <td>0.333548</td>\n",
       "      <td>1.807243</td>\n",
       "      <td>...</td>\n",
       "      <td>0.260482</td>\n",
       "      <td>0.646204</td>\n",
       "      <td>1.080240</td>\n",
       "      <td>0.678330</td>\n",
       "      <td>1.465358</td>\n",
       "      <td>0.307672</td>\n",
       "      <td>0.118376</td>\n",
       "      <td>1.419812</td>\n",
       "      <td>0.000002</td>\n",
       "      <td>1.040737</td>\n",
       "    </tr>\n",
       "  </tbody>\n",
       "</table>\n",
       "<p>5 rows × 3752 columns</p>\n",
       "</div>"
      ],
      "text/plain": [
       "           100001_raw-Food_weight  100002_raw-Energy  100003_raw-Protein  \\\n",
       "gene_name                                                                  \n",
       "DPM1                     1.145442           0.724557            0.090876   \n",
       "SCYL3                    0.618066           1.028131            2.218420   \n",
       "C1orf112                 0.515724           0.403596            1.251359   \n",
       "FGR                      0.280781           0.253910            0.879148   \n",
       "CFH                      0.548127           0.389877            0.723469   \n",
       "\n",
       "           100004_raw-Fat  100005_raw-Carbohydrate  100006_raw-Saturated_fat  \\\n",
       "gene_name                                                                      \n",
       "DPM1             0.298165                 1.134347                  1.371138   \n",
       "SCYL3            0.762584                 0.934418                  0.192993   \n",
       "C1orf112         0.433091                 0.413466                  0.246261   \n",
       "FGR              0.352705                 0.051846                  0.184212   \n",
       "CFH              1.167250                 0.315952                  0.324939   \n",
       "\n",
       "           100007_raw-Polyunsaturated_fat  100008_raw-Total_sugars  \\\n",
       "gene_name                                                            \n",
       "DPM1                             0.065718                 0.794317   \n",
       "SCYL3                            1.080230                 0.765997   \n",
       "C1orf112                         1.236151                 0.827430   \n",
       "FGR                              0.148566                 0.009989   \n",
       "CFH                              1.613932                 0.311432   \n",
       "\n",
       "           100009_raw-Englyst_dietary_fibre  100010-Portion_size  ...  \\\n",
       "gene_name                                                         ...   \n",
       "DPM1                               0.600342             0.317652  ...   \n",
       "SCYL3                              0.375898             0.678731  ...   \n",
       "C1orf112                           0.571985             0.782174  ...   \n",
       "FGR                                0.363751             0.374514  ...   \n",
       "CFH                                0.333548             1.807243  ...   \n",
       "\n",
       "           visual impairment  vitiligo  vitreous body disease  \\\n",
       "gene_name                                                       \n",
       "DPM1                0.360518  1.351624               1.157695   \n",
       "SCYL3               2.134504  0.127830               0.534690   \n",
       "C1orf112            1.768905  0.992408               0.548215   \n",
       "FGR                 0.656552  2.046041               2.746832   \n",
       "CFH                 0.260482  0.646204               1.080240   \n",
       "\n",
       "           vocal cord polyp  voice disorders  \\\n",
       "gene_name                                      \n",
       "DPM1               0.835289         1.173072   \n",
       "SCYL3              0.120516         0.517464   \n",
       "C1orf112           0.412341         1.499415   \n",
       "FGR                0.108211         1.008258   \n",
       "CFH                0.678330         1.465358   \n",
       "\n",
       "           wellbeing measurement AND family relationship  wheezing  \\\n",
       "gene_name                                                            \n",
       "DPM1                                            1.337280  1.743822   \n",
       "SCYL3                                           2.545363  0.673331   \n",
       "C1orf112                                        1.366780  0.443318   \n",
       "FGR                                             0.755695  0.896228   \n",
       "CFH                                             0.307672  0.118376   \n",
       "\n",
       "           whooping cough  worry measurement  wrist fracture  \n",
       "gene_name                                                     \n",
       "DPM1             1.017226           1.512184        0.972241  \n",
       "SCYL3            2.003092           0.344000        2.033122  \n",
       "C1orf112         0.417630           0.225934        1.613246  \n",
       "FGR              0.875047           0.476405        1.693057  \n",
       "CFH              1.419812           0.000002        1.040737  \n",
       "\n",
       "[5 rows x 3752 columns]"
      ]
     },
     "execution_count": 14,
     "metadata": {},
     "output_type": "execute_result"
    }
   ],
   "source": [
    "smultixcan_results.head()"
   ]
  },
  {
   "cell_type": "markdown",
   "id": "d59b9406",
   "metadata": {
    "papermill": {
     "duration": 0.006103,
     "end_time": "2022-09-13T15:32:51.989495",
     "exception": false,
     "start_time": "2022-09-13T15:32:51.983392",
     "status": "completed"
    },
    "tags": []
   },
   "source": [
    "## Remove duplicated gene entries"
   ]
  },
  {
   "cell_type": "code",
   "execution_count": 15,
   "id": "718e4686",
   "metadata": {
    "execution": {
     "iopub.execute_input": "2022-09-13T15:32:52.002737Z",
     "iopub.status.busy": "2022-09-13T15:32:52.002564Z",
     "iopub.status.idle": "2022-09-13T15:32:52.021827Z",
     "shell.execute_reply": "2022-09-13T15:32:52.021379Z"
    },
    "papermill": {
     "duration": 0.027453,
     "end_time": "2022-09-13T15:32:52.023108",
     "exception": false,
     "start_time": "2022-09-13T15:32:51.995655",
     "status": "completed"
    },
    "tags": []
   },
   "outputs": [
    {
     "data": {
      "text/plain": [
       "Index(['SPATA13', 'LINC01422', 'LINC00484', 'MAL2', 'GOLGA8M', 'LINC01115',\n",
       "       'LYNX1'],\n",
       "      dtype='object', name='gene_name')"
      ]
     },
     "execution_count": 15,
     "metadata": {},
     "output_type": "execute_result"
    }
   ],
   "source": [
    "smultixcan_results.index[smultixcan_results.index.duplicated(keep=\"first\")]"
   ]
  },
  {
   "cell_type": "code",
   "execution_count": 16,
   "id": "3dc9d2ee",
   "metadata": {
    "execution": {
     "iopub.execute_input": "2022-09-13T15:32:52.036723Z",
     "iopub.status.busy": "2022-09-13T15:32:52.036551Z",
     "iopub.status.idle": "2022-09-13T15:32:52.245487Z",
     "shell.execute_reply": "2022-09-13T15:32:52.244975Z"
    },
    "papermill": {
     "duration": 0.217452,
     "end_time": "2022-09-13T15:32:52.246963",
     "exception": false,
     "start_time": "2022-09-13T15:32:52.029511",
     "status": "completed"
    },
    "tags": []
   },
   "outputs": [],
   "source": [
    "smultixcan_results = smultixcan_results.loc[\n",
    "    ~smultixcan_results.index.duplicated(keep=\"first\")\n",
    "]"
   ]
  },
  {
   "cell_type": "code",
   "execution_count": 17,
   "id": "6c474494",
   "metadata": {
    "execution": {
     "iopub.execute_input": "2022-09-13T15:32:52.260048Z",
     "iopub.status.busy": "2022-09-13T15:32:52.259841Z",
     "iopub.status.idle": "2022-09-13T15:32:52.275768Z",
     "shell.execute_reply": "2022-09-13T15:32:52.275297Z"
    },
    "papermill": {
     "duration": 0.023798,
     "end_time": "2022-09-13T15:32:52.277017",
     "exception": false,
     "start_time": "2022-09-13T15:32:52.253219",
     "status": "completed"
    },
    "tags": []
   },
   "outputs": [
    {
     "data": {
      "text/plain": [
       "(22508, 3752)"
      ]
     },
     "execution_count": 17,
     "metadata": {},
     "output_type": "execute_result"
    }
   ],
   "source": [
    "smultixcan_results.shape"
   ]
  },
  {
   "cell_type": "markdown",
   "id": "467a4acf",
   "metadata": {
    "papermill": {
     "duration": 0.006214,
     "end_time": "2022-09-13T15:32:52.289635",
     "exception": false,
     "start_time": "2022-09-13T15:32:52.283421",
     "status": "completed"
    },
    "tags": []
   },
   "source": [
    "## Some checks"
   ]
  },
  {
   "cell_type": "code",
   "execution_count": 18,
   "id": "52eca2c0",
   "metadata": {
    "execution": {
     "iopub.execute_input": "2022-09-13T15:32:52.302843Z",
     "iopub.status.busy": "2022-09-13T15:32:52.302624Z",
     "iopub.status.idle": "2022-09-13T15:32:52.688127Z",
     "shell.execute_reply": "2022-09-13T15:32:52.687534Z"
    },
    "papermill": {
     "duration": 0.393763,
     "end_time": "2022-09-13T15:32:52.689595",
     "exception": false,
     "start_time": "2022-09-13T15:32:52.295832",
     "status": "completed"
    },
    "tags": []
   },
   "outputs": [],
   "source": [
    "# the data should have no NaN values\n",
    "assert smultixcan_results.shape == smultixcan_results.dropna(how=\"any\").shape"
   ]
  },
  {
   "cell_type": "markdown",
   "id": "c215a3e5",
   "metadata": {
    "papermill": {
     "duration": 0.006045,
     "end_time": "2022-09-13T15:32:52.702591",
     "exception": false,
     "start_time": "2022-09-13T15:32:52.696546",
     "status": "completed"
    },
    "tags": []
   },
   "source": [
    "# Standardize S-MultiXcan results"
   ]
  },
  {
   "cell_type": "markdown",
   "id": "ec3ebde7",
   "metadata": {
    "papermill": {
     "duration": 0.006198,
     "end_time": "2022-09-13T15:32:52.714763",
     "exception": false,
     "start_time": "2022-09-13T15:32:52.708565",
     "status": "completed"
    },
    "tags": []
   },
   "source": [
    "Here we adjust for highly polygenic traits (see notebook `005_00-data_analysis.ipynb`): we penalize those traits that have large effect sizes across several genes, such as antropometric traits."
   ]
  },
  {
   "cell_type": "code",
   "execution_count": 19,
   "id": "cc318c5b",
   "metadata": {
    "execution": {
     "iopub.execute_input": "2022-09-13T15:32:52.728034Z",
     "iopub.status.busy": "2022-09-13T15:32:52.727824Z",
     "iopub.status.idle": "2022-09-13T15:32:54.897367Z",
     "shell.execute_reply": "2022-09-13T15:32:54.896887Z"
    },
    "papermill": {
     "duration": 2.177907,
     "end_time": "2022-09-13T15:32:54.898771",
     "exception": false,
     "start_time": "2022-09-13T15:32:52.720864",
     "status": "completed"
    },
    "tags": []
   },
   "outputs": [],
   "source": [
    "_tmp = smultixcan_results.apply(lambda x: x / x.sum())"
   ]
  },
  {
   "cell_type": "code",
   "execution_count": 20,
   "id": "218b29e6",
   "metadata": {
    "execution": {
     "iopub.execute_input": "2022-09-13T15:32:54.912236Z",
     "iopub.status.busy": "2022-09-13T15:32:54.912079Z",
     "iopub.status.idle": "2022-09-13T15:32:54.928469Z",
     "shell.execute_reply": "2022-09-13T15:32:54.928019Z"
    },
    "papermill": {
     "duration": 0.02441,
     "end_time": "2022-09-13T15:32:54.929721",
     "exception": false,
     "start_time": "2022-09-13T15:32:54.905311",
     "status": "completed"
    },
    "tags": []
   },
   "outputs": [
    {
     "data": {
      "text/plain": [
       "(22508, 3752)"
      ]
     },
     "execution_count": 20,
     "metadata": {},
     "output_type": "execute_result"
    }
   ],
   "source": [
    "_tmp.shape"
   ]
  },
  {
   "cell_type": "code",
   "execution_count": 21,
   "id": "6236e6e5",
   "metadata": {
    "execution": {
     "iopub.execute_input": "2022-09-13T15:32:54.944033Z",
     "iopub.status.busy": "2022-09-13T15:32:54.943867Z",
     "iopub.status.idle": "2022-09-13T15:32:54.959707Z",
     "shell.execute_reply": "2022-09-13T15:32:54.959038Z"
    },
    "papermill": {
     "duration": 0.024594,
     "end_time": "2022-09-13T15:32:54.961144",
     "exception": false,
     "start_time": "2022-09-13T15:32:54.936550",
     "status": "completed"
    },
    "tags": []
   },
   "outputs": [],
   "source": [
    "assert _tmp.shape == smultixcan_results.shape"
   ]
  },
  {
   "cell_type": "code",
   "execution_count": 22,
   "id": "559fe6ce",
   "metadata": {
    "execution": {
     "iopub.execute_input": "2022-09-13T15:32:54.975534Z",
     "iopub.status.busy": "2022-09-13T15:32:54.975364Z",
     "iopub.status.idle": "2022-09-13T15:32:54.995720Z",
     "shell.execute_reply": "2022-09-13T15:32:54.995167Z"
    },
    "papermill": {
     "duration": 0.029257,
     "end_time": "2022-09-13T15:32:54.997253",
     "exception": false,
     "start_time": "2022-09-13T15:32:54.967996",
     "status": "completed"
    },
    "tags": []
   },
   "outputs": [],
   "source": [
    "# some testing\n",
    "_trait = \"body height\"\n",
    "_gene = \"SCYL3\"\n",
    "assert (\n",
    "    _tmp.loc[_gene, _trait]\n",
    "    == smultixcan_results.loc[_gene, _trait] / smultixcan_results[_trait].sum()\n",
    ")\n",
    "\n",
    "_trait = \"100001_raw-Food_weight\"\n",
    "_gene = \"DPM1\"\n",
    "assert (\n",
    "    _tmp.loc[_gene, _trait]\n",
    "    == smultixcan_results.loc[_gene, _trait] / smultixcan_results[_trait].sum()\n",
    ")\n",
    "\n",
    "_trait = \"estrogen-receptor negative breast cancer\"\n",
    "_gene = \"CFH\"\n",
    "assert (\n",
    "    _tmp.loc[_gene, _trait]\n",
    "    == smultixcan_results.loc[_gene, _trait] / smultixcan_results[_trait].sum()\n",
    ")\n",
    "\n",
    "_trait = \"asthma\"\n",
    "_gene = \"C1orf112\"\n",
    "assert (\n",
    "    _tmp.loc[_gene, _trait]\n",
    "    == smultixcan_results.loc[_gene, _trait] / smultixcan_results[_trait].sum()\n",
    ")"
   ]
  },
  {
   "cell_type": "code",
   "execution_count": 23,
   "id": "2c15bdb1",
   "metadata": {
    "execution": {
     "iopub.execute_input": "2022-09-13T15:32:55.012483Z",
     "iopub.status.busy": "2022-09-13T15:32:55.012304Z",
     "iopub.status.idle": "2022-09-13T15:32:55.029830Z",
     "shell.execute_reply": "2022-09-13T15:32:55.029279Z"
    },
    "papermill": {
     "duration": 0.026788,
     "end_time": "2022-09-13T15:32:55.031320",
     "exception": false,
     "start_time": "2022-09-13T15:32:55.004532",
     "status": "completed"
    },
    "tags": []
   },
   "outputs": [],
   "source": [
    "smultixcan_results = _tmp"
   ]
  },
  {
   "cell_type": "code",
   "execution_count": 24,
   "id": "8b7c3ac1",
   "metadata": {
    "execution": {
     "iopub.execute_input": "2022-09-13T15:32:55.053821Z",
     "iopub.status.busy": "2022-09-13T15:32:55.053636Z",
     "iopub.status.idle": "2022-09-13T15:32:55.084015Z",
     "shell.execute_reply": "2022-09-13T15:32:55.083439Z"
    },
    "papermill": {
     "duration": 0.039653,
     "end_time": "2022-09-13T15:32:55.085306",
     "exception": false,
     "start_time": "2022-09-13T15:32:55.045653",
     "status": "completed"
    },
    "tags": []
   },
   "outputs": [
    {
     "data": {
      "text/html": [
       "<div>\n",
       "<style scoped>\n",
       "    .dataframe tbody tr th:only-of-type {\n",
       "        vertical-align: middle;\n",
       "    }\n",
       "\n",
       "    .dataframe tbody tr th {\n",
       "        vertical-align: top;\n",
       "    }\n",
       "\n",
       "    .dataframe thead th {\n",
       "        text-align: right;\n",
       "    }\n",
       "</style>\n",
       "<table border=\"1\" class=\"dataframe\">\n",
       "  <thead>\n",
       "    <tr style=\"text-align: right;\">\n",
       "      <th></th>\n",
       "      <th>100001_raw-Food_weight</th>\n",
       "      <th>100002_raw-Energy</th>\n",
       "      <th>100003_raw-Protein</th>\n",
       "      <th>100004_raw-Fat</th>\n",
       "      <th>100005_raw-Carbohydrate</th>\n",
       "      <th>100006_raw-Saturated_fat</th>\n",
       "      <th>100007_raw-Polyunsaturated_fat</th>\n",
       "      <th>100008_raw-Total_sugars</th>\n",
       "      <th>100009_raw-Englyst_dietary_fibre</th>\n",
       "      <th>100010-Portion_size</th>\n",
       "      <th>...</th>\n",
       "      <th>visual impairment</th>\n",
       "      <th>vitiligo</th>\n",
       "      <th>vitreous body disease</th>\n",
       "      <th>vocal cord polyp</th>\n",
       "      <th>voice disorders</th>\n",
       "      <th>wellbeing measurement AND family relationship</th>\n",
       "      <th>wheezing</th>\n",
       "      <th>whooping cough</th>\n",
       "      <th>worry measurement</th>\n",
       "      <th>wrist fracture</th>\n",
       "    </tr>\n",
       "    <tr>\n",
       "      <th>gene_name</th>\n",
       "      <th></th>\n",
       "      <th></th>\n",
       "      <th></th>\n",
       "      <th></th>\n",
       "      <th></th>\n",
       "      <th></th>\n",
       "      <th></th>\n",
       "      <th></th>\n",
       "      <th></th>\n",
       "      <th></th>\n",
       "      <th></th>\n",
       "      <th></th>\n",
       "      <th></th>\n",
       "      <th></th>\n",
       "      <th></th>\n",
       "      <th></th>\n",
       "      <th></th>\n",
       "      <th></th>\n",
       "      <th></th>\n",
       "      <th></th>\n",
       "      <th></th>\n",
       "    </tr>\n",
       "  </thead>\n",
       "  <tbody>\n",
       "    <tr>\n",
       "      <th>DPM1</th>\n",
       "      <td>0.000060</td>\n",
       "      <td>0.000039</td>\n",
       "      <td>0.000005</td>\n",
       "      <td>0.000016</td>\n",
       "      <td>0.000061</td>\n",
       "      <td>0.000075</td>\n",
       "      <td>0.000004</td>\n",
       "      <td>4.254814e-05</td>\n",
       "      <td>0.000031</td>\n",
       "      <td>0.000017</td>\n",
       "      <td>...</td>\n",
       "      <td>0.000020</td>\n",
       "      <td>0.000075</td>\n",
       "      <td>0.000064</td>\n",
       "      <td>0.000047</td>\n",
       "      <td>0.000066</td>\n",
       "      <td>0.000066</td>\n",
       "      <td>0.000069</td>\n",
       "      <td>0.000058</td>\n",
       "      <td>6.250232e-05</td>\n",
       "      <td>0.000034</td>\n",
       "    </tr>\n",
       "    <tr>\n",
       "      <th>SCYL3</th>\n",
       "      <td>0.000033</td>\n",
       "      <td>0.000055</td>\n",
       "      <td>0.000119</td>\n",
       "      <td>0.000041</td>\n",
       "      <td>0.000050</td>\n",
       "      <td>0.000011</td>\n",
       "      <td>0.000059</td>\n",
       "      <td>4.103114e-05</td>\n",
       "      <td>0.000020</td>\n",
       "      <td>0.000036</td>\n",
       "      <td>...</td>\n",
       "      <td>0.000118</td>\n",
       "      <td>0.000007</td>\n",
       "      <td>0.000030</td>\n",
       "      <td>0.000007</td>\n",
       "      <td>0.000029</td>\n",
       "      <td>0.000126</td>\n",
       "      <td>0.000027</td>\n",
       "      <td>0.000114</td>\n",
       "      <td>1.421837e-05</td>\n",
       "      <td>0.000070</td>\n",
       "    </tr>\n",
       "    <tr>\n",
       "      <th>C1orf112</th>\n",
       "      <td>0.000027</td>\n",
       "      <td>0.000022</td>\n",
       "      <td>0.000067</td>\n",
       "      <td>0.000023</td>\n",
       "      <td>0.000022</td>\n",
       "      <td>0.000014</td>\n",
       "      <td>0.000067</td>\n",
       "      <td>4.432186e-05</td>\n",
       "      <td>0.000030</td>\n",
       "      <td>0.000041</td>\n",
       "      <td>...</td>\n",
       "      <td>0.000098</td>\n",
       "      <td>0.000055</td>\n",
       "      <td>0.000030</td>\n",
       "      <td>0.000023</td>\n",
       "      <td>0.000084</td>\n",
       "      <td>0.000068</td>\n",
       "      <td>0.000018</td>\n",
       "      <td>0.000024</td>\n",
       "      <td>9.338414e-06</td>\n",
       "      <td>0.000056</td>\n",
       "    </tr>\n",
       "    <tr>\n",
       "      <th>FGR</th>\n",
       "      <td>0.000015</td>\n",
       "      <td>0.000014</td>\n",
       "      <td>0.000047</td>\n",
       "      <td>0.000019</td>\n",
       "      <td>0.000003</td>\n",
       "      <td>0.000010</td>\n",
       "      <td>0.000008</td>\n",
       "      <td>5.350929e-07</td>\n",
       "      <td>0.000019</td>\n",
       "      <td>0.000020</td>\n",
       "      <td>...</td>\n",
       "      <td>0.000036</td>\n",
       "      <td>0.000114</td>\n",
       "      <td>0.000152</td>\n",
       "      <td>0.000006</td>\n",
       "      <td>0.000057</td>\n",
       "      <td>0.000038</td>\n",
       "      <td>0.000035</td>\n",
       "      <td>0.000050</td>\n",
       "      <td>1.969101e-05</td>\n",
       "      <td>0.000058</td>\n",
       "    </tr>\n",
       "    <tr>\n",
       "      <th>CFH</th>\n",
       "      <td>0.000029</td>\n",
       "      <td>0.000021</td>\n",
       "      <td>0.000039</td>\n",
       "      <td>0.000063</td>\n",
       "      <td>0.000017</td>\n",
       "      <td>0.000018</td>\n",
       "      <td>0.000088</td>\n",
       "      <td>1.668206e-05</td>\n",
       "      <td>0.000017</td>\n",
       "      <td>0.000095</td>\n",
       "      <td>...</td>\n",
       "      <td>0.000014</td>\n",
       "      <td>0.000036</td>\n",
       "      <td>0.000060</td>\n",
       "      <td>0.000038</td>\n",
       "      <td>0.000083</td>\n",
       "      <td>0.000015</td>\n",
       "      <td>0.000005</td>\n",
       "      <td>0.000081</td>\n",
       "      <td>8.895497e-11</td>\n",
       "      <td>0.000036</td>\n",
       "    </tr>\n",
       "  </tbody>\n",
       "</table>\n",
       "<p>5 rows × 3752 columns</p>\n",
       "</div>"
      ],
      "text/plain": [
       "           100001_raw-Food_weight  100002_raw-Energy  100003_raw-Protein  \\\n",
       "gene_name                                                                  \n",
       "DPM1                     0.000060           0.000039            0.000005   \n",
       "SCYL3                    0.000033           0.000055            0.000119   \n",
       "C1orf112                 0.000027           0.000022            0.000067   \n",
       "FGR                      0.000015           0.000014            0.000047   \n",
       "CFH                      0.000029           0.000021            0.000039   \n",
       "\n",
       "           100004_raw-Fat  100005_raw-Carbohydrate  100006_raw-Saturated_fat  \\\n",
       "gene_name                                                                      \n",
       "DPM1             0.000016                 0.000061                  0.000075   \n",
       "SCYL3            0.000041                 0.000050                  0.000011   \n",
       "C1orf112         0.000023                 0.000022                  0.000014   \n",
       "FGR              0.000019                 0.000003                  0.000010   \n",
       "CFH              0.000063                 0.000017                  0.000018   \n",
       "\n",
       "           100007_raw-Polyunsaturated_fat  100008_raw-Total_sugars  \\\n",
       "gene_name                                                            \n",
       "DPM1                             0.000004             4.254814e-05   \n",
       "SCYL3                            0.000059             4.103114e-05   \n",
       "C1orf112                         0.000067             4.432186e-05   \n",
       "FGR                              0.000008             5.350929e-07   \n",
       "CFH                              0.000088             1.668206e-05   \n",
       "\n",
       "           100009_raw-Englyst_dietary_fibre  100010-Portion_size  ...  \\\n",
       "gene_name                                                         ...   \n",
       "DPM1                               0.000031             0.000017  ...   \n",
       "SCYL3                              0.000020             0.000036  ...   \n",
       "C1orf112                           0.000030             0.000041  ...   \n",
       "FGR                                0.000019             0.000020  ...   \n",
       "CFH                                0.000017             0.000095  ...   \n",
       "\n",
       "           visual impairment  vitiligo  vitreous body disease  \\\n",
       "gene_name                                                       \n",
       "DPM1                0.000020  0.000075               0.000064   \n",
       "SCYL3               0.000118  0.000007               0.000030   \n",
       "C1orf112            0.000098  0.000055               0.000030   \n",
       "FGR                 0.000036  0.000114               0.000152   \n",
       "CFH                 0.000014  0.000036               0.000060   \n",
       "\n",
       "           vocal cord polyp  voice disorders  \\\n",
       "gene_name                                      \n",
       "DPM1               0.000047         0.000066   \n",
       "SCYL3              0.000007         0.000029   \n",
       "C1orf112           0.000023         0.000084   \n",
       "FGR                0.000006         0.000057   \n",
       "CFH                0.000038         0.000083   \n",
       "\n",
       "           wellbeing measurement AND family relationship  wheezing  \\\n",
       "gene_name                                                            \n",
       "DPM1                                            0.000066  0.000069   \n",
       "SCYL3                                           0.000126  0.000027   \n",
       "C1orf112                                        0.000068  0.000018   \n",
       "FGR                                             0.000038  0.000035   \n",
       "CFH                                             0.000015  0.000005   \n",
       "\n",
       "           whooping cough  worry measurement  wrist fracture  \n",
       "gene_name                                                     \n",
       "DPM1             0.000058       6.250232e-05        0.000034  \n",
       "SCYL3            0.000114       1.421837e-05        0.000070  \n",
       "C1orf112         0.000024       9.338414e-06        0.000056  \n",
       "FGR              0.000050       1.969101e-05        0.000058  \n",
       "CFH              0.000081       8.895497e-11        0.000036  \n",
       "\n",
       "[5 rows x 3752 columns]"
      ]
     },
     "execution_count": 24,
     "metadata": {},
     "output_type": "execute_result"
    }
   ],
   "source": [
    "smultixcan_results.head()"
   ]
  },
  {
   "cell_type": "markdown",
   "id": "e4ffb4e5",
   "metadata": {
    "papermill": {
     "duration": 0.00668,
     "end_time": "2022-09-13T15:32:55.098937",
     "exception": false,
     "start_time": "2022-09-13T15:32:55.092257",
     "status": "completed"
    },
    "tags": []
   },
   "source": [
    "# Shuffle genes within traits"
   ]
  },
  {
   "cell_type": "code",
   "execution_count": 25,
   "id": "67b59965",
   "metadata": {
    "execution": {
     "iopub.execute_input": "2022-09-13T15:32:55.113604Z",
     "iopub.status.busy": "2022-09-13T15:32:55.113082Z",
     "iopub.status.idle": "2022-09-13T15:32:58.779933Z",
     "shell.execute_reply": "2022-09-13T15:32:58.779212Z"
    },
    "papermill": {
     "duration": 3.675846,
     "end_time": "2022-09-13T15:32:58.781569",
     "exception": false,
     "start_time": "2022-09-13T15:32:55.105723",
     "status": "completed"
    },
    "tags": []
   },
   "outputs": [],
   "source": [
    "shuffled_smultixcan_results = smultixcan_results.apply(\n",
    "    lambda x: x.sample(frac=1, random_state=rs).to_numpy()\n",
    ")"
   ]
  },
  {
   "cell_type": "code",
   "execution_count": 26,
   "id": "ad7ee65a",
   "metadata": {
    "execution": {
     "iopub.execute_input": "2022-09-13T15:32:58.798880Z",
     "iopub.status.busy": "2022-09-13T15:32:58.798694Z",
     "iopub.status.idle": "2022-09-13T15:32:58.816449Z",
     "shell.execute_reply": "2022-09-13T15:32:58.815854Z"
    },
    "papermill": {
     "duration": 0.027799,
     "end_time": "2022-09-13T15:32:58.817888",
     "exception": false,
     "start_time": "2022-09-13T15:32:58.790089",
     "status": "completed"
    },
    "tags": []
   },
   "outputs": [
    {
     "data": {
      "text/plain": [
       "(22508, 3752)"
      ]
     },
     "execution_count": 26,
     "metadata": {},
     "output_type": "execute_result"
    }
   ],
   "source": [
    "shuffled_smultixcan_results.shape"
   ]
  },
  {
   "cell_type": "code",
   "execution_count": 27,
   "id": "d68e86a4",
   "metadata": {
    "execution": {
     "iopub.execute_input": "2022-09-13T15:32:58.834733Z",
     "iopub.status.busy": "2022-09-13T15:32:58.834552Z",
     "iopub.status.idle": "2022-09-13T15:32:58.865168Z",
     "shell.execute_reply": "2022-09-13T15:32:58.864757Z"
    },
    "papermill": {
     "duration": 0.040581,
     "end_time": "2022-09-13T15:32:58.866440",
     "exception": false,
     "start_time": "2022-09-13T15:32:58.825859",
     "status": "completed"
    },
    "tags": []
   },
   "outputs": [
    {
     "data": {
      "text/html": [
       "<div>\n",
       "<style scoped>\n",
       "    .dataframe tbody tr th:only-of-type {\n",
       "        vertical-align: middle;\n",
       "    }\n",
       "\n",
       "    .dataframe tbody tr th {\n",
       "        vertical-align: top;\n",
       "    }\n",
       "\n",
       "    .dataframe thead th {\n",
       "        text-align: right;\n",
       "    }\n",
       "</style>\n",
       "<table border=\"1\" class=\"dataframe\">\n",
       "  <thead>\n",
       "    <tr style=\"text-align: right;\">\n",
       "      <th></th>\n",
       "      <th>100001_raw-Food_weight</th>\n",
       "      <th>100002_raw-Energy</th>\n",
       "      <th>100003_raw-Protein</th>\n",
       "      <th>100004_raw-Fat</th>\n",
       "      <th>100005_raw-Carbohydrate</th>\n",
       "      <th>100006_raw-Saturated_fat</th>\n",
       "      <th>100007_raw-Polyunsaturated_fat</th>\n",
       "      <th>100008_raw-Total_sugars</th>\n",
       "      <th>100009_raw-Englyst_dietary_fibre</th>\n",
       "      <th>100010-Portion_size</th>\n",
       "      <th>...</th>\n",
       "      <th>visual impairment</th>\n",
       "      <th>vitiligo</th>\n",
       "      <th>vitreous body disease</th>\n",
       "      <th>vocal cord polyp</th>\n",
       "      <th>voice disorders</th>\n",
       "      <th>wellbeing measurement AND family relationship</th>\n",
       "      <th>wheezing</th>\n",
       "      <th>whooping cough</th>\n",
       "      <th>worry measurement</th>\n",
       "      <th>wrist fracture</th>\n",
       "    </tr>\n",
       "    <tr>\n",
       "      <th>gene_name</th>\n",
       "      <th></th>\n",
       "      <th></th>\n",
       "      <th></th>\n",
       "      <th></th>\n",
       "      <th></th>\n",
       "      <th></th>\n",
       "      <th></th>\n",
       "      <th></th>\n",
       "      <th></th>\n",
       "      <th></th>\n",
       "      <th></th>\n",
       "      <th></th>\n",
       "      <th></th>\n",
       "      <th></th>\n",
       "      <th></th>\n",
       "      <th></th>\n",
       "      <th></th>\n",
       "      <th></th>\n",
       "      <th></th>\n",
       "      <th></th>\n",
       "      <th></th>\n",
       "    </tr>\n",
       "  </thead>\n",
       "  <tbody>\n",
       "    <tr>\n",
       "      <th>DPM1</th>\n",
       "      <td>0.000051</td>\n",
       "      <td>0.000031</td>\n",
       "      <td>0.000065</td>\n",
       "      <td>0.000138</td>\n",
       "      <td>0.000041</td>\n",
       "      <td>0.000005</td>\n",
       "      <td>0.000002</td>\n",
       "      <td>0.000033</td>\n",
       "      <td>0.000022</td>\n",
       "      <td>0.000033</td>\n",
       "      <td>...</td>\n",
       "      <td>0.000111</td>\n",
       "      <td>0.000012</td>\n",
       "      <td>0.000029</td>\n",
       "      <td>0.000039</td>\n",
       "      <td>0.000049</td>\n",
       "      <td>0.000061</td>\n",
       "      <td>0.000014</td>\n",
       "      <td>6.922541e-05</td>\n",
       "      <td>0.000056</td>\n",
       "      <td>0.000050</td>\n",
       "    </tr>\n",
       "    <tr>\n",
       "      <th>SCYL3</th>\n",
       "      <td>0.000060</td>\n",
       "      <td>0.000065</td>\n",
       "      <td>0.000045</td>\n",
       "      <td>0.000039</td>\n",
       "      <td>0.000030</td>\n",
       "      <td>0.000056</td>\n",
       "      <td>0.000100</td>\n",
       "      <td>0.000052</td>\n",
       "      <td>0.000067</td>\n",
       "      <td>0.000054</td>\n",
       "      <td>...</td>\n",
       "      <td>0.000057</td>\n",
       "      <td>0.000053</td>\n",
       "      <td>0.000107</td>\n",
       "      <td>0.000006</td>\n",
       "      <td>0.000035</td>\n",
       "      <td>0.000044</td>\n",
       "      <td>0.000083</td>\n",
       "      <td>3.265571e-07</td>\n",
       "      <td>0.000004</td>\n",
       "      <td>0.000048</td>\n",
       "    </tr>\n",
       "    <tr>\n",
       "      <th>C1orf112</th>\n",
       "      <td>0.000065</td>\n",
       "      <td>0.000040</td>\n",
       "      <td>0.000004</td>\n",
       "      <td>0.000119</td>\n",
       "      <td>0.000004</td>\n",
       "      <td>0.000028</td>\n",
       "      <td>0.000034</td>\n",
       "      <td>0.000015</td>\n",
       "      <td>0.000022</td>\n",
       "      <td>0.000014</td>\n",
       "      <td>...</td>\n",
       "      <td>0.000008</td>\n",
       "      <td>0.000008</td>\n",
       "      <td>0.000083</td>\n",
       "      <td>0.000041</td>\n",
       "      <td>0.000038</td>\n",
       "      <td>0.000002</td>\n",
       "      <td>0.000064</td>\n",
       "      <td>9.720101e-05</td>\n",
       "      <td>0.000023</td>\n",
       "      <td>0.000101</td>\n",
       "    </tr>\n",
       "    <tr>\n",
       "      <th>FGR</th>\n",
       "      <td>0.000008</td>\n",
       "      <td>0.000045</td>\n",
       "      <td>0.000021</td>\n",
       "      <td>0.000005</td>\n",
       "      <td>0.000020</td>\n",
       "      <td>0.000036</td>\n",
       "      <td>0.000003</td>\n",
       "      <td>0.000027</td>\n",
       "      <td>0.000016</td>\n",
       "      <td>0.000049</td>\n",
       "      <td>...</td>\n",
       "      <td>0.000055</td>\n",
       "      <td>0.000061</td>\n",
       "      <td>0.000010</td>\n",
       "      <td>0.000066</td>\n",
       "      <td>0.000053</td>\n",
       "      <td>0.000025</td>\n",
       "      <td>0.000048</td>\n",
       "      <td>2.945239e-05</td>\n",
       "      <td>0.000078</td>\n",
       "      <td>0.000036</td>\n",
       "    </tr>\n",
       "    <tr>\n",
       "      <th>CFH</th>\n",
       "      <td>0.000039</td>\n",
       "      <td>0.000030</td>\n",
       "      <td>0.000009</td>\n",
       "      <td>0.000003</td>\n",
       "      <td>0.000023</td>\n",
       "      <td>0.000011</td>\n",
       "      <td>0.000132</td>\n",
       "      <td>0.000055</td>\n",
       "      <td>0.000042</td>\n",
       "      <td>0.000032</td>\n",
       "      <td>...</td>\n",
       "      <td>0.000020</td>\n",
       "      <td>0.000003</td>\n",
       "      <td>0.000067</td>\n",
       "      <td>0.000078</td>\n",
       "      <td>0.000007</td>\n",
       "      <td>0.000126</td>\n",
       "      <td>0.000005</td>\n",
       "      <td>3.174253e-05</td>\n",
       "      <td>0.000039</td>\n",
       "      <td>0.000083</td>\n",
       "    </tr>\n",
       "  </tbody>\n",
       "</table>\n",
       "<p>5 rows × 3752 columns</p>\n",
       "</div>"
      ],
      "text/plain": [
       "           100001_raw-Food_weight  100002_raw-Energy  100003_raw-Protein  \\\n",
       "gene_name                                                                  \n",
       "DPM1                     0.000051           0.000031            0.000065   \n",
       "SCYL3                    0.000060           0.000065            0.000045   \n",
       "C1orf112                 0.000065           0.000040            0.000004   \n",
       "FGR                      0.000008           0.000045            0.000021   \n",
       "CFH                      0.000039           0.000030            0.000009   \n",
       "\n",
       "           100004_raw-Fat  100005_raw-Carbohydrate  100006_raw-Saturated_fat  \\\n",
       "gene_name                                                                      \n",
       "DPM1             0.000138                 0.000041                  0.000005   \n",
       "SCYL3            0.000039                 0.000030                  0.000056   \n",
       "C1orf112         0.000119                 0.000004                  0.000028   \n",
       "FGR              0.000005                 0.000020                  0.000036   \n",
       "CFH              0.000003                 0.000023                  0.000011   \n",
       "\n",
       "           100007_raw-Polyunsaturated_fat  100008_raw-Total_sugars  \\\n",
       "gene_name                                                            \n",
       "DPM1                             0.000002                 0.000033   \n",
       "SCYL3                            0.000100                 0.000052   \n",
       "C1orf112                         0.000034                 0.000015   \n",
       "FGR                              0.000003                 0.000027   \n",
       "CFH                              0.000132                 0.000055   \n",
       "\n",
       "           100009_raw-Englyst_dietary_fibre  100010-Portion_size  ...  \\\n",
       "gene_name                                                         ...   \n",
       "DPM1                               0.000022             0.000033  ...   \n",
       "SCYL3                              0.000067             0.000054  ...   \n",
       "C1orf112                           0.000022             0.000014  ...   \n",
       "FGR                                0.000016             0.000049  ...   \n",
       "CFH                                0.000042             0.000032  ...   \n",
       "\n",
       "           visual impairment  vitiligo  vitreous body disease  \\\n",
       "gene_name                                                       \n",
       "DPM1                0.000111  0.000012               0.000029   \n",
       "SCYL3               0.000057  0.000053               0.000107   \n",
       "C1orf112            0.000008  0.000008               0.000083   \n",
       "FGR                 0.000055  0.000061               0.000010   \n",
       "CFH                 0.000020  0.000003               0.000067   \n",
       "\n",
       "           vocal cord polyp  voice disorders  \\\n",
       "gene_name                                      \n",
       "DPM1               0.000039         0.000049   \n",
       "SCYL3              0.000006         0.000035   \n",
       "C1orf112           0.000041         0.000038   \n",
       "FGR                0.000066         0.000053   \n",
       "CFH                0.000078         0.000007   \n",
       "\n",
       "           wellbeing measurement AND family relationship  wheezing  \\\n",
       "gene_name                                                            \n",
       "DPM1                                            0.000061  0.000014   \n",
       "SCYL3                                           0.000044  0.000083   \n",
       "C1orf112                                        0.000002  0.000064   \n",
       "FGR                                             0.000025  0.000048   \n",
       "CFH                                             0.000126  0.000005   \n",
       "\n",
       "           whooping cough  worry measurement  wrist fracture  \n",
       "gene_name                                                     \n",
       "DPM1         6.922541e-05           0.000056        0.000050  \n",
       "SCYL3        3.265571e-07           0.000004        0.000048  \n",
       "C1orf112     9.720101e-05           0.000023        0.000101  \n",
       "FGR          2.945239e-05           0.000078        0.000036  \n",
       "CFH          3.174253e-05           0.000039        0.000083  \n",
       "\n",
       "[5 rows x 3752 columns]"
      ]
     },
     "execution_count": 27,
     "metadata": {},
     "output_type": "execute_result"
    }
   ],
   "source": [
    "shuffled_smultixcan_results.head()"
   ]
  },
  {
   "cell_type": "markdown",
   "id": "92788722",
   "metadata": {
    "papermill": {
     "duration": 0.006892,
     "end_time": "2022-09-13T15:32:58.880639",
     "exception": false,
     "start_time": "2022-09-13T15:32:58.873747",
     "status": "completed"
    },
    "tags": []
   },
   "source": [
    "## Testing"
   ]
  },
  {
   "cell_type": "code",
   "execution_count": 28,
   "id": "f5da40d4",
   "metadata": {
    "execution": {
     "iopub.execute_input": "2022-09-13T15:32:58.896063Z",
     "iopub.status.busy": "2022-09-13T15:32:58.895769Z",
     "iopub.status.idle": "2022-09-13T15:32:58.913123Z",
     "shell.execute_reply": "2022-09-13T15:32:58.912662Z"
    },
    "papermill": {
     "duration": 0.026826,
     "end_time": "2022-09-13T15:32:58.914534",
     "exception": false,
     "start_time": "2022-09-13T15:32:58.887708",
     "status": "completed"
    },
    "tags": []
   },
   "outputs": [],
   "source": [
    "assert stats.pearsonr(smultixcan_results.loc[\"DPM1\"], smultixcan_results.loc[\"DPM1\"])[\n",
    "    0\n",
    "] == pytest.approx(1.0)\n",
    "assert stats.pearsonr(\n",
    "    shuffled_smultixcan_results.loc[\"DPM1\"], shuffled_smultixcan_results.loc[\"DPM1\"]\n",
    ")[0] == pytest.approx(1.0)"
   ]
  },
  {
   "cell_type": "code",
   "execution_count": 29,
   "id": "484a32e6",
   "metadata": {
    "execution": {
     "iopub.execute_input": "2022-09-13T15:32:58.930063Z",
     "iopub.status.busy": "2022-09-13T15:32:58.929901Z",
     "iopub.status.idle": "2022-09-13T15:32:58.947191Z",
     "shell.execute_reply": "2022-09-13T15:32:58.946594Z"
    },
    "papermill": {
     "duration": 0.026535,
     "end_time": "2022-09-13T15:32:58.948505",
     "exception": false,
     "start_time": "2022-09-13T15:32:58.921970",
     "status": "completed"
    },
    "tags": []
   },
   "outputs": [
    {
     "data": {
      "text/plain": [
       "(0.015004459012860445, 0.3581885908075809)"
      ]
     },
     "metadata": {},
     "output_type": "display_data"
    }
   ],
   "source": [
    "_tmp = stats.pearsonr(\n",
    "    smultixcan_results.loc[\"DPM1\"], shuffled_smultixcan_results.loc[\"DPM1\"]\n",
    ")\n",
    "display(_tmp)\n",
    "assert _tmp[0] == pytest.approx(0.0, rel=0, abs=0.02)"
   ]
  },
  {
   "cell_type": "code",
   "execution_count": 30,
   "id": "8abc91af",
   "metadata": {
    "execution": {
     "iopub.execute_input": "2022-09-13T15:32:58.964368Z",
     "iopub.status.busy": "2022-09-13T15:32:58.964208Z",
     "iopub.status.idle": "2022-09-13T15:32:58.979622Z",
     "shell.execute_reply": "2022-09-13T15:32:58.979115Z"
    },
    "papermill": {
     "duration": 0.02478,
     "end_time": "2022-09-13T15:32:58.981001",
     "exception": false,
     "start_time": "2022-09-13T15:32:58.956221",
     "status": "completed"
    },
    "tags": []
   },
   "outputs": [],
   "source": [
    "del smultixcan_results"
   ]
  },
  {
   "cell_type": "markdown",
   "id": "81634d77",
   "metadata": {
    "papermill": {
     "duration": 0.007406,
     "end_time": "2022-09-13T15:32:58.996161",
     "exception": false,
     "start_time": "2022-09-13T15:32:58.988755",
     "status": "completed"
    },
    "tags": []
   },
   "source": [
    "# Project S-MultiXcan data into MultiPLIER latent space"
   ]
  },
  {
   "cell_type": "code",
   "execution_count": 31,
   "id": "4a4c4d78",
   "metadata": {
    "execution": {
     "iopub.execute_input": "2022-09-13T15:32:59.012054Z",
     "iopub.status.busy": "2022-09-13T15:32:59.011844Z",
     "iopub.status.idle": "2022-09-13T15:32:59.027782Z",
     "shell.execute_reply": "2022-09-13T15:32:59.027212Z"
    },
    "papermill": {
     "duration": 0.025374,
     "end_time": "2022-09-13T15:32:59.029107",
     "exception": false,
     "start_time": "2022-09-13T15:32:59.003733",
     "status": "completed"
    },
    "tags": []
   },
   "outputs": [],
   "source": [
    "mproj = MultiplierProjection()"
   ]
  },
  {
   "cell_type": "code",
   "execution_count": 32,
   "id": "000807d0",
   "metadata": {
    "execution": {
     "iopub.execute_input": "2022-09-13T15:32:59.044579Z",
     "iopub.status.busy": "2022-09-13T15:32:59.044386Z",
     "iopub.status.idle": "2022-09-13T15:33:09.914035Z",
     "shell.execute_reply": "2022-09-13T15:33:09.913423Z"
    },
    "papermill": {
     "duration": 10.879043,
     "end_time": "2022-09-13T15:33:09.915607",
     "exception": false,
     "start_time": "2022-09-13T15:32:59.036564",
     "status": "completed"
    },
    "tags": []
   },
   "outputs": [],
   "source": [
    "smultixcan_into_multiplier = mproj.transform(shuffled_smultixcan_results)"
   ]
  },
  {
   "cell_type": "code",
   "execution_count": 33,
   "id": "8c33eada",
   "metadata": {
    "execution": {
     "iopub.execute_input": "2022-09-13T15:33:09.931512Z",
     "iopub.status.busy": "2022-09-13T15:33:09.931274Z",
     "iopub.status.idle": "2022-09-13T15:33:09.948496Z",
     "shell.execute_reply": "2022-09-13T15:33:09.947815Z"
    },
    "papermill": {
     "duration": 0.026554,
     "end_time": "2022-09-13T15:33:09.949719",
     "exception": false,
     "start_time": "2022-09-13T15:33:09.923165",
     "status": "completed"
    },
    "tags": []
   },
   "outputs": [
    {
     "data": {
      "text/plain": [
       "(987, 3752)"
      ]
     },
     "execution_count": 33,
     "metadata": {},
     "output_type": "execute_result"
    }
   ],
   "source": [
    "smultixcan_into_multiplier.shape"
   ]
  },
  {
   "cell_type": "code",
   "execution_count": 34,
   "id": "18a57f88",
   "metadata": {
    "execution": {
     "iopub.execute_input": "2022-09-13T15:33:09.966426Z",
     "iopub.status.busy": "2022-09-13T15:33:09.966061Z",
     "iopub.status.idle": "2022-09-13T15:33:09.994844Z",
     "shell.execute_reply": "2022-09-13T15:33:09.994238Z"
    },
    "papermill": {
     "duration": 0.03836,
     "end_time": "2022-09-13T15:33:09.996282",
     "exception": false,
     "start_time": "2022-09-13T15:33:09.957922",
     "status": "completed"
    },
    "tags": []
   },
   "outputs": [
    {
     "data": {
      "text/html": [
       "<div>\n",
       "<style scoped>\n",
       "    .dataframe tbody tr th:only-of-type {\n",
       "        vertical-align: middle;\n",
       "    }\n",
       "\n",
       "    .dataframe tbody tr th {\n",
       "        vertical-align: top;\n",
       "    }\n",
       "\n",
       "    .dataframe thead th {\n",
       "        text-align: right;\n",
       "    }\n",
       "</style>\n",
       "<table border=\"1\" class=\"dataframe\">\n",
       "  <thead>\n",
       "    <tr style=\"text-align: right;\">\n",
       "      <th></th>\n",
       "      <th>100001_raw-Food_weight</th>\n",
       "      <th>100002_raw-Energy</th>\n",
       "      <th>100003_raw-Protein</th>\n",
       "      <th>100004_raw-Fat</th>\n",
       "      <th>100005_raw-Carbohydrate</th>\n",
       "      <th>100006_raw-Saturated_fat</th>\n",
       "      <th>100007_raw-Polyunsaturated_fat</th>\n",
       "      <th>100008_raw-Total_sugars</th>\n",
       "      <th>100009_raw-Englyst_dietary_fibre</th>\n",
       "      <th>100010-Portion_size</th>\n",
       "      <th>...</th>\n",
       "      <th>visual impairment</th>\n",
       "      <th>vitiligo</th>\n",
       "      <th>vitreous body disease</th>\n",
       "      <th>vocal cord polyp</th>\n",
       "      <th>voice disorders</th>\n",
       "      <th>wellbeing measurement AND family relationship</th>\n",
       "      <th>wheezing</th>\n",
       "      <th>whooping cough</th>\n",
       "      <th>worry measurement</th>\n",
       "      <th>wrist fracture</th>\n",
       "    </tr>\n",
       "  </thead>\n",
       "  <tbody>\n",
       "    <tr>\n",
       "      <th>LV1</th>\n",
       "      <td>-0.004991</td>\n",
       "      <td>0.015146</td>\n",
       "      <td>0.011558</td>\n",
       "      <td>-0.004454</td>\n",
       "      <td>-0.004064</td>\n",
       "      <td>0.019181</td>\n",
       "      <td>-0.006774</td>\n",
       "      <td>-0.000993</td>\n",
       "      <td>-0.051895</td>\n",
       "      <td>0.006165</td>\n",
       "      <td>...</td>\n",
       "      <td>0.011411</td>\n",
       "      <td>0.007752</td>\n",
       "      <td>-0.007232</td>\n",
       "      <td>-0.012486</td>\n",
       "      <td>-0.019609</td>\n",
       "      <td>0.001056</td>\n",
       "      <td>-0.068064</td>\n",
       "      <td>-0.067764</td>\n",
       "      <td>0.027634</td>\n",
       "      <td>0.009072</td>\n",
       "    </tr>\n",
       "    <tr>\n",
       "      <th>LV2</th>\n",
       "      <td>-0.020160</td>\n",
       "      <td>0.025381</td>\n",
       "      <td>0.026267</td>\n",
       "      <td>0.025022</td>\n",
       "      <td>-0.014816</td>\n",
       "      <td>0.001336</td>\n",
       "      <td>-0.025144</td>\n",
       "      <td>-0.006939</td>\n",
       "      <td>0.031557</td>\n",
       "      <td>-0.006765</td>\n",
       "      <td>...</td>\n",
       "      <td>0.045494</td>\n",
       "      <td>0.054857</td>\n",
       "      <td>0.014009</td>\n",
       "      <td>0.010356</td>\n",
       "      <td>-0.028176</td>\n",
       "      <td>0.014216</td>\n",
       "      <td>0.051512</td>\n",
       "      <td>-0.012968</td>\n",
       "      <td>-0.009068</td>\n",
       "      <td>-0.022579</td>\n",
       "    </tr>\n",
       "    <tr>\n",
       "      <th>LV3</th>\n",
       "      <td>-0.026030</td>\n",
       "      <td>0.030990</td>\n",
       "      <td>-0.008830</td>\n",
       "      <td>0.010287</td>\n",
       "      <td>0.027811</td>\n",
       "      <td>-0.024533</td>\n",
       "      <td>0.028973</td>\n",
       "      <td>-0.004228</td>\n",
       "      <td>-0.022456</td>\n",
       "      <td>-0.009028</td>\n",
       "      <td>...</td>\n",
       "      <td>-0.022074</td>\n",
       "      <td>0.001223</td>\n",
       "      <td>-0.040340</td>\n",
       "      <td>0.033154</td>\n",
       "      <td>0.015559</td>\n",
       "      <td>-0.027344</td>\n",
       "      <td>0.028957</td>\n",
       "      <td>0.047436</td>\n",
       "      <td>-0.013414</td>\n",
       "      <td>-0.014697</td>\n",
       "    </tr>\n",
       "    <tr>\n",
       "      <th>LV4</th>\n",
       "      <td>0.020068</td>\n",
       "      <td>-0.004168</td>\n",
       "      <td>0.023151</td>\n",
       "      <td>-0.045471</td>\n",
       "      <td>0.015872</td>\n",
       "      <td>-0.016416</td>\n",
       "      <td>-0.041916</td>\n",
       "      <td>-0.042642</td>\n",
       "      <td>0.039436</td>\n",
       "      <td>-0.029249</td>\n",
       "      <td>...</td>\n",
       "      <td>-0.001791</td>\n",
       "      <td>0.013281</td>\n",
       "      <td>0.072869</td>\n",
       "      <td>0.075342</td>\n",
       "      <td>0.019810</td>\n",
       "      <td>-0.009894</td>\n",
       "      <td>-0.037994</td>\n",
       "      <td>-0.013222</td>\n",
       "      <td>0.012071</td>\n",
       "      <td>-0.005580</td>\n",
       "    </tr>\n",
       "    <tr>\n",
       "      <th>LV5</th>\n",
       "      <td>0.011753</td>\n",
       "      <td>0.006254</td>\n",
       "      <td>-0.014700</td>\n",
       "      <td>0.035624</td>\n",
       "      <td>-0.012119</td>\n",
       "      <td>0.001753</td>\n",
       "      <td>0.016450</td>\n",
       "      <td>0.005870</td>\n",
       "      <td>-0.026259</td>\n",
       "      <td>-0.032612</td>\n",
       "      <td>...</td>\n",
       "      <td>-0.048864</td>\n",
       "      <td>0.002043</td>\n",
       "      <td>-0.020228</td>\n",
       "      <td>-0.016124</td>\n",
       "      <td>0.019393</td>\n",
       "      <td>0.042040</td>\n",
       "      <td>0.060709</td>\n",
       "      <td>-0.041390</td>\n",
       "      <td>-0.039641</td>\n",
       "      <td>0.016831</td>\n",
       "    </tr>\n",
       "  </tbody>\n",
       "</table>\n",
       "<p>5 rows × 3752 columns</p>\n",
       "</div>"
      ],
      "text/plain": [
       "     100001_raw-Food_weight  100002_raw-Energy  100003_raw-Protein  \\\n",
       "LV1               -0.004991           0.015146            0.011558   \n",
       "LV2               -0.020160           0.025381            0.026267   \n",
       "LV3               -0.026030           0.030990           -0.008830   \n",
       "LV4                0.020068          -0.004168            0.023151   \n",
       "LV5                0.011753           0.006254           -0.014700   \n",
       "\n",
       "     100004_raw-Fat  100005_raw-Carbohydrate  100006_raw-Saturated_fat  \\\n",
       "LV1       -0.004454                -0.004064                  0.019181   \n",
       "LV2        0.025022                -0.014816                  0.001336   \n",
       "LV3        0.010287                 0.027811                 -0.024533   \n",
       "LV4       -0.045471                 0.015872                 -0.016416   \n",
       "LV5        0.035624                -0.012119                  0.001753   \n",
       "\n",
       "     100007_raw-Polyunsaturated_fat  100008_raw-Total_sugars  \\\n",
       "LV1                       -0.006774                -0.000993   \n",
       "LV2                       -0.025144                -0.006939   \n",
       "LV3                        0.028973                -0.004228   \n",
       "LV4                       -0.041916                -0.042642   \n",
       "LV5                        0.016450                 0.005870   \n",
       "\n",
       "     100009_raw-Englyst_dietary_fibre  100010-Portion_size  ...  \\\n",
       "LV1                         -0.051895             0.006165  ...   \n",
       "LV2                          0.031557            -0.006765  ...   \n",
       "LV3                         -0.022456            -0.009028  ...   \n",
       "LV4                          0.039436            -0.029249  ...   \n",
       "LV5                         -0.026259            -0.032612  ...   \n",
       "\n",
       "     visual impairment  vitiligo  vitreous body disease  vocal cord polyp  \\\n",
       "LV1           0.011411  0.007752              -0.007232         -0.012486   \n",
       "LV2           0.045494  0.054857               0.014009          0.010356   \n",
       "LV3          -0.022074  0.001223              -0.040340          0.033154   \n",
       "LV4          -0.001791  0.013281               0.072869          0.075342   \n",
       "LV5          -0.048864  0.002043              -0.020228         -0.016124   \n",
       "\n",
       "     voice disorders  wellbeing measurement AND family relationship  wheezing  \\\n",
       "LV1        -0.019609                                       0.001056 -0.068064   \n",
       "LV2        -0.028176                                       0.014216  0.051512   \n",
       "LV3         0.015559                                      -0.027344  0.028957   \n",
       "LV4         0.019810                                      -0.009894 -0.037994   \n",
       "LV5         0.019393                                       0.042040  0.060709   \n",
       "\n",
       "     whooping cough  worry measurement  wrist fracture  \n",
       "LV1       -0.067764           0.027634        0.009072  \n",
       "LV2       -0.012968          -0.009068       -0.022579  \n",
       "LV3        0.047436          -0.013414       -0.014697  \n",
       "LV4       -0.013222           0.012071       -0.005580  \n",
       "LV5       -0.041390          -0.039641        0.016831  \n",
       "\n",
       "[5 rows x 3752 columns]"
      ]
     },
     "execution_count": 34,
     "metadata": {},
     "output_type": "execute_result"
    }
   ],
   "source": [
    "smultixcan_into_multiplier.head()"
   ]
  },
  {
   "cell_type": "markdown",
   "id": "a52a02e2",
   "metadata": {
    "papermill": {
     "duration": 0.007264,
     "end_time": "2022-09-13T15:33:10.011657",
     "exception": false,
     "start_time": "2022-09-13T15:33:10.004393",
     "status": "completed"
    },
    "tags": []
   },
   "source": [
    "# Quick analysis"
   ]
  },
  {
   "cell_type": "code",
   "execution_count": 35,
   "id": "c9625531",
   "metadata": {
    "execution": {
     "iopub.execute_input": "2022-09-13T15:33:10.027626Z",
     "iopub.status.busy": "2022-09-13T15:33:10.027467Z",
     "iopub.status.idle": "2022-09-13T15:33:10.045620Z",
     "shell.execute_reply": "2022-09-13T15:33:10.045068Z"
    },
    "papermill": {
     "duration": 0.027875,
     "end_time": "2022-09-13T15:33:10.046910",
     "exception": false,
     "start_time": "2022-09-13T15:33:10.019035",
     "status": "completed"
    },
    "tags": []
   },
   "outputs": [
    {
     "data": {
      "text/plain": [
       "5099_raw-3mm_weak_meridian_right                                                           0.156829\n",
       "30130_raw-Monocyte_count                                                                   0.133407\n",
       "J10_ASTHMA-Asthma                                                                          0.103145\n",
       "20003_1141194386-Treatmentmedication_code_telfast_30_tablet                                0.088224\n",
       "23124_raw-Arm_fat_mass_left                                                                0.082922\n",
       "20003_1140888366-Treatmentmedication_code_thiamine_preparation                             0.081478\n",
       "leukocyte count                                                                            0.080619\n",
       "20003_1140888092-Treatmentmedication_code_elocon_cream                                     0.079712\n",
       "pancreatitis                                                                               0.076367\n",
       "22174-Recent_medication_for_bronchiectasis                                                 0.076257\n",
       "22614_0-Worked_with_pesticides_Rarelynever                                                 0.075817\n",
       "seeing a general practitioner for nerves, anxiety, tension or depression, self-reported    0.071615\n",
       "24024_raw-Average_24hour_sound_level_of_noise_pollution                                    0.071490\n",
       "30030_raw-Haematocrit_percentage                                                           0.070564\n",
       "102930-Egg_consumers                                                                       0.070088\n",
       "1130-Handsfree_devicespeakerphone_use_with_mobile_phone_in_last_3_month                    0.069287\n",
       "22617_2314-Job_SOC_coding_Secondary_education_teaching_professionals                       0.068399\n",
       "20554_6-Actions_taken_following_selfharm_Receive_help_from_friends_family_neighbours       0.066933\n",
       "H8_OTHHEARINGLOSS-Other_hearing_loss                                                       0.066572\n",
       "family history of breast cancer                                                            0.065660\n",
       "Name: LV603, dtype: float64"
      ]
     },
     "execution_count": 35,
     "metadata": {},
     "output_type": "execute_result"
    }
   ],
   "source": [
    "(smultixcan_into_multiplier.loc[\"LV603\"].sort_values(ascending=False).head(20))"
   ]
  },
  {
   "cell_type": "code",
   "execution_count": 36,
   "id": "d71e4c3e",
   "metadata": {
    "execution": {
     "iopub.execute_input": "2022-09-13T15:33:10.063855Z",
     "iopub.status.busy": "2022-09-13T15:33:10.063693Z",
     "iopub.status.idle": "2022-09-13T15:33:10.081675Z",
     "shell.execute_reply": "2022-09-13T15:33:10.081187Z"
    },
    "papermill": {
     "duration": 0.027923,
     "end_time": "2022-09-13T15:33:10.082937",
     "exception": false,
     "start_time": "2022-09-13T15:33:10.055014",
     "status": "completed"
    },
    "tags": []
   },
   "outputs": [
    {
     "data": {
      "text/plain": [
       "1747_1-Hair_colour_natural_before_greying_Blonde                                                               0.293540\n",
       "celiac disease                                                                                                 0.156183\n",
       "fallopian tube disease                                                                                         0.100879\n",
       "30020_raw-Haemoglobin_concentration                                                                            0.097562\n",
       "1488_raw-Tea_intake                                                                                            0.095025\n",
       "20548_1-Manifestations_of_mania_or_irritability_I_was_more_talkative_than_usual                                0.094591\n",
       "22170-Recent_medication_for_COPD_Chronic_Obstructive_Pulmonary_Disease                                         0.093176\n",
       "22601_35633214-Job_coding_vocational_or_industrial_trainerinstructor_craft_instructor_apprentice_instructor    0.092978\n",
       "22601_52443062-Job_coding_television_video_audio_or_radio_engineerrepairerinstallertechnician                  0.091871\n",
       "L12_NAIL_INGROW-Ingrowing_nail                                                                                 0.091158\n",
       "20003_1140884516-Treatmentmedication_code_thyroxine_product                                                    0.089577\n",
       "24016_raw-Nitrogen_dioxide_air_pollution_2005                                                                  0.089343\n",
       "atherosclerosis                                                                                                0.089272\n",
       "K11_COELIAC-Coeliac_disease                                                                                    0.086635\n",
       "tympanic membrane perforation                                                                                  0.085383\n",
       "H7_DIPLOPIA-Diplopia                                                                                           0.084729\n",
       "100670-White_wine_intake                                                                                       0.082636\n",
       "41248_7001-Destinations_on_discharge_from_hospital_recoded_Nursing_residential_care_group_home_NHS             0.082049\n",
       "23109_raw-Impedance_of_arm_right                                                                               0.082040\n",
       "6179_1-Mineral_and_other_dietary_supplements_Fish_oil_including_cod_liver_oil                                  0.081774\n",
       "Name: LV136, dtype: float64"
      ]
     },
     "execution_count": 36,
     "metadata": {},
     "output_type": "execute_result"
    }
   ],
   "source": [
    "(smultixcan_into_multiplier.loc[\"LV136\"].sort_values(ascending=False).head(20))"
   ]
  },
  {
   "cell_type": "code",
   "execution_count": 37,
   "id": "d4173a4f",
   "metadata": {
    "execution": {
     "iopub.execute_input": "2022-09-13T15:33:10.100087Z",
     "iopub.status.busy": "2022-09-13T15:33:10.099920Z",
     "iopub.status.idle": "2022-09-13T15:33:10.117913Z",
     "shell.execute_reply": "2022-09-13T15:33:10.117485Z"
    },
    "papermill": {
     "duration": 0.028011,
     "end_time": "2022-09-13T15:33:10.119164",
     "exception": false,
     "start_time": "2022-09-13T15:33:10.091153",
     "status": "completed"
    },
    "tags": []
   },
   "outputs": [
    {
     "data": {
      "text/plain": [
       "type i diabetes mellitus                                                                                                     0.193646\n",
       "30040_raw-Mean_corpuscular_volume                                                                                            0.185107\n",
       "K11_COELIAC-Coeliac_disease                                                                                                  0.145886\n",
       "20406-Ever_addicted_to_alcohol                                                                                               0.134645\n",
       "22601_41363318-Job_coding_database_assistantclerk_computer_clerk_data_entry_clerkprocessor_book_keepingaccounts_machinist    0.133810\n",
       "22617_9149-Job_SOC_coding_Other_goods_handling_and_storage_occupations_nec                                                   0.122899\n",
       "22611_1-Workplace_had_a_lot_of_cigarette_smoke_from_other_people_smoking_Sometimes                                           0.116214\n",
       "22617_1136-Job_SOC_coding_Information_and_communication_technology_managers                                                  0.114579\n",
       "40001_C64-Underlying_primary_cause_of_death_ICD10_C64_Malignant_neoplasm_of_kidney_except_renal_pelvis                       0.113403\n",
       "M13_OLECRANONBURSITIS-Olecranon_bursitis                                                                                     0.111002\n",
       "leukocyte count                                                                                                              0.108460\n",
       "H8_OTIMEDNAS-Otitis_media_unspecified                                                                                        0.105480\n",
       "6177_3-Medication_for_cholesterol_blood_pressure_or_diabetes_Insulin                                                         0.099626\n",
       "806-Job_involves_mainly_walking_or_standing                                                                                  0.099236\n",
       "20544_11-Mental_health_problems_ever_diagnosed_by_a_professional_Depression                                                  0.098962\n",
       "alzheimer's disease                                                                                                          0.098569\n",
       "XV_PREGNANCY_BIRTH-Pregnancy_childbirth_and_the_puerperium                                                                   0.097380\n",
       "20408-Frequency_of_memory_loss_due_to_drinking_alcohol_in_last_year                                                          0.097210\n",
       "K11_BARRET-Barret_oesophagus                                                                                                 0.096995\n",
       "mood swings                                                                                                                  0.096633\n",
       "Name: LV844, dtype: float64"
      ]
     },
     "execution_count": 37,
     "metadata": {},
     "output_type": "execute_result"
    }
   ],
   "source": [
    "(smultixcan_into_multiplier.loc[\"LV844\"].sort_values(ascending=False).head(20))"
   ]
  },
  {
   "cell_type": "code",
   "execution_count": 38,
   "id": "d305288c",
   "metadata": {
    "execution": {
     "iopub.execute_input": "2022-09-13T15:33:10.137345Z",
     "iopub.status.busy": "2022-09-13T15:33:10.136875Z",
     "iopub.status.idle": "2022-09-13T15:33:10.155000Z",
     "shell.execute_reply": "2022-09-13T15:33:10.154543Z"
    },
    "papermill": {
     "duration": 0.028578,
     "end_time": "2022-09-13T15:33:10.156318",
     "exception": false,
     "start_time": "2022-09-13T15:33:10.127740",
     "status": "completed"
    },
    "tags": []
   },
   "outputs": [
    {
     "data": {
      "text/plain": [
       "6144_3-Never_eat_eggs_dairy_wheat_sugar_Wheat_products                                           0.340213\n",
       "20003_1140883066-Treatmentmedication_code_insulin_product                                        0.233553\n",
       "hyperthyroidism AND thyrotoxicosis                                                               0.193569\n",
       "30150-Eosinophill_count                                                                          0.147097\n",
       "K11_GASTRODUOULC-Gastroduodenal_ulcer                                                            0.119671\n",
       "30040_raw-Mean_corpuscular_volume                                                                0.115193\n",
       "5182_1-Both_eyes_present_Yes                                                                     0.113313\n",
       "20003_1140888092-Treatmentmedication_code_elocon_cream                                           0.112417\n",
       "2267-Use_of_sunuv_protection                                                                     0.110457\n",
       "20407-Frequency_of_failure_to_fulfil_normal_expectations_due_to_drinking_alcohol_in_last_year    0.107549\n",
       "22617_3544-Job_SOC_coding_Estate_agents_auctioneers                                              0.103278\n",
       "41248_1000-Destinations_on_discharge_from_hospital_recoded_Usual_Place_of_residence              0.097864\n",
       "20003_1140881856-Treatmentmedication_code_salbutamol                                             0.097824\n",
       "SSGAC_Education_Years_Pooled                                                                     0.094936\n",
       "reticulocyte count                                                                               0.094459\n",
       "burn                                                                                             0.093344\n",
       "20003_1141168590-Treatmentmedication_code_pariet_10mg_ec_tablet                                  0.092926\n",
       "6179_4-Mineral_and_other_dietary_supplements_Zinc                                                0.090098\n",
       "4106_raw-Heel_bone_mineral_density_BMD_Tscore_automated_left                                     0.089154\n",
       "100920_0-Type_milk_consumed_did_not_have_milk                                                    0.089147\n",
       "Name: LV246, dtype: float64"
      ]
     },
     "execution_count": 38,
     "metadata": {},
     "output_type": "execute_result"
    }
   ],
   "source": [
    "(smultixcan_into_multiplier.loc[\"LV246\"].sort_values(ascending=False).head(20))"
   ]
  },
  {
   "cell_type": "markdown",
   "id": "a3165c17",
   "metadata": {
    "papermill": {
     "duration": 0.008207,
     "end_time": "2022-09-13T15:33:10.173219",
     "exception": false,
     "start_time": "2022-09-13T15:33:10.165012",
     "status": "completed"
    },
    "tags": []
   },
   "source": [
    "# Save"
   ]
  },
  {
   "cell_type": "code",
   "execution_count": 39,
   "id": "5f545533",
   "metadata": {
    "execution": {
     "iopub.execute_input": "2022-09-13T15:33:10.189872Z",
     "iopub.status.busy": "2022-09-13T15:33:10.189661Z",
     "iopub.status.idle": "2022-09-13T15:33:10.206055Z",
     "shell.execute_reply": "2022-09-13T15:33:10.205606Z"
    },
    "papermill": {
     "duration": 0.026237,
     "end_time": "2022-09-13T15:33:10.207257",
     "exception": false,
     "start_time": "2022-09-13T15:33:10.181020",
     "status": "completed"
    },
    "tags": []
   },
   "outputs": [
    {
     "data": {
      "text/plain": [
       "PosixPath('/opt/data/results/clustering/null_sims/projections/projection-smultixcan-efo_partial-mashr-zscores.pkl')"
      ]
     },
     "metadata": {},
     "output_type": "display_data"
    }
   ],
   "source": [
    "output_file = Path(\n",
    "    RESULTS_PROJ_OUTPUT_DIR, f\"projection-{results_filename_stem}.pkl\"\n",
    ").resolve()\n",
    "\n",
    "display(output_file)"
   ]
  },
  {
   "cell_type": "code",
   "execution_count": 40,
   "id": "621490ee",
   "metadata": {
    "execution": {
     "iopub.execute_input": "2022-09-13T15:33:10.225151Z",
     "iopub.status.busy": "2022-09-13T15:33:10.224582Z",
     "iopub.status.idle": "2022-09-13T15:33:10.413250Z",
     "shell.execute_reply": "2022-09-13T15:33:10.412625Z"
    },
    "papermill": {
     "duration": 0.199229,
     "end_time": "2022-09-13T15:33:10.414807",
     "exception": false,
     "start_time": "2022-09-13T15:33:10.215578",
     "status": "completed"
    },
    "tags": []
   },
   "outputs": [],
   "source": [
    "smultixcan_into_multiplier.to_pickle(output_file)"
   ]
  },
  {
   "cell_type": "code",
   "execution_count": null,
   "id": "00f245c6",
   "metadata": {
    "papermill": {
     "duration": 0.008613,
     "end_time": "2022-09-13T15:33:10.431780",
     "exception": false,
     "start_time": "2022-09-13T15:33:10.423167",
     "status": "completed"
    },
    "tags": []
   },
   "outputs": [],
   "source": []
  }
 ],
 "metadata": {
  "jupytext": {
   "cell_metadata_filter": "all,-execution,-papermill,-trusted",
   "formats": "ipynb,py//py:percent"
  },
  "kernelspec": {
   "display_name": "Python 3 (ipykernel)",
   "language": "python",
   "name": "python3"
  },
  "language_info": {
   "codemirror_mode": {
    "name": "ipython",
    "version": 3
   },
   "file_extension": ".py",
   "mimetype": "text/x-python",
   "name": "python",
   "nbconvert_exporter": "python",
   "pygments_lexer": "ipython3",
   "version": "3.8.13"
  },
  "papermill": {
   "default_parameters": {},
   "duration": 21.800546,
   "end_time": "2022-09-13T15:33:10.859107",
   "environment_variables": {},
   "exception": null,
   "input_path": "nbs/13.1_cluster_analysis_null/00_00-shuffle_phenomexcan_smultixcan.ipynb",
   "output_path": "nbs/13.1_cluster_analysis_null/00_00-shuffle_phenomexcan_smultixcan.run.ipynb",
   "parameters": {},
   "start_time": "2022-09-13T15:32:49.058561",
   "version": "2.2.2"
  },
  "toc-autonumbering": true
 },
 "nbformat": 4,
 "nbformat_minor": 5
}
