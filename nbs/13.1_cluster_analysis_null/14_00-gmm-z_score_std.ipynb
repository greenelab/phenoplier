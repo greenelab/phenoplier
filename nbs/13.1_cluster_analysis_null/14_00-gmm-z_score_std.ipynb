{
 "cells": [
  {
   "cell_type": "markdown",
   "id": "ddf3ec3c",
   "metadata": {
    "papermill": {
     "duration": 0.011808,
     "end_time": "2022-09-12T11:55:56.198032",
     "exception": false,
     "start_time": "2022-09-12T11:55:56.186224",
     "status": "completed"
    },
    "tags": []
   },
   "source": [
    "# Description"
   ]
  },
  {
   "cell_type": "markdown",
   "id": "dce28cad",
   "metadata": {
    "papermill": {
     "duration": 0.006384,
     "end_time": "2022-09-12T11:55:56.211109",
     "exception": false,
     "start_time": "2022-09-12T11:55:56.204725",
     "status": "completed"
    },
    "tags": []
   },
   "source": [
    "Runs gaussian mixture model on the z_score_std version of the data."
   ]
  },
  {
   "cell_type": "markdown",
   "id": "0504ed4d",
   "metadata": {
    "papermill": {
     "duration": 0.006375,
     "end_time": "2022-09-12T11:55:56.223634",
     "exception": false,
     "start_time": "2022-09-12T11:55:56.217259",
     "status": "completed"
    },
    "tags": []
   },
   "source": [
    "# Environment variables"
   ]
  },
  {
   "cell_type": "code",
   "execution_count": 1,
   "id": "bf14cc7a",
   "metadata": {
    "execution": {
     "iopub.execute_input": "2022-09-12T11:55:56.236976Z",
     "iopub.status.busy": "2022-09-12T11:55:56.236728Z",
     "iopub.status.idle": "2022-09-12T11:55:56.251886Z",
     "shell.execute_reply": "2022-09-12T11:55:56.251397Z"
    },
    "papermill": {
     "duration": 0.023703,
     "end_time": "2022-09-12T11:55:56.253458",
     "exception": false,
     "start_time": "2022-09-12T11:55:56.229755",
     "status": "completed"
    },
    "tags": []
   },
   "outputs": [
    {
     "data": {
      "text/plain": [
       "3"
      ]
     },
     "metadata": {},
     "output_type": "display_data"
    }
   ],
   "source": [
    "from IPython.display import display\n",
    "\n",
    "import conf\n",
    "\n",
    "N_JOBS = conf.GENERAL[\"N_JOBS\"]\n",
    "display(N_JOBS)"
   ]
  },
  {
   "cell_type": "code",
   "execution_count": 2,
   "id": "8aff8fbf",
   "metadata": {
    "execution": {
     "iopub.execute_input": "2022-09-12T11:55:56.267378Z",
     "iopub.status.busy": "2022-09-12T11:55:56.267164Z",
     "iopub.status.idle": "2022-09-12T11:55:56.272704Z",
     "shell.execute_reply": "2022-09-12T11:55:56.272211Z"
    },
    "papermill": {
     "duration": 0.013862,
     "end_time": "2022-09-12T11:55:56.274066",
     "exception": false,
     "start_time": "2022-09-12T11:55:56.260204",
     "status": "completed"
    },
    "tags": []
   },
   "outputs": [
    {
     "name": "stdout",
     "output_type": "stream",
     "text": [
      "env: MKL_NUM_THREADS=3\n",
      "env: OPEN_BLAS_NUM_THREADS=3\n",
      "env: NUMEXPR_NUM_THREADS=3\n",
      "env: OMP_NUM_THREADS=3\n"
     ]
    }
   ],
   "source": [
    "%env MKL_NUM_THREADS=$N_JOBS\n",
    "%env OPEN_BLAS_NUM_THREADS=$N_JOBS\n",
    "%env NUMEXPR_NUM_THREADS=$N_JOBS\n",
    "%env OMP_NUM_THREADS=$N_JOBS"
   ]
  },
  {
   "cell_type": "markdown",
   "id": "33f4c54c",
   "metadata": {
    "papermill": {
     "duration": 0.006093,
     "end_time": "2022-09-12T11:55:56.286920",
     "exception": false,
     "start_time": "2022-09-12T11:55:56.280827",
     "status": "completed"
    },
    "tags": []
   },
   "source": [
    "# Modules loading"
   ]
  },
  {
   "cell_type": "code",
   "execution_count": 3,
   "id": "01612083",
   "metadata": {
    "execution": {
     "iopub.execute_input": "2022-09-12T11:55:56.300771Z",
     "iopub.status.busy": "2022-09-12T11:55:56.300616Z",
     "iopub.status.idle": "2022-09-12T11:55:56.313573Z",
     "shell.execute_reply": "2022-09-12T11:55:56.313100Z"
    },
    "papermill": {
     "duration": 0.021404,
     "end_time": "2022-09-12T11:55:56.314884",
     "exception": false,
     "start_time": "2022-09-12T11:55:56.293480",
     "status": "completed"
    },
    "tags": []
   },
   "outputs": [],
   "source": [
    "%load_ext autoreload\n",
    "%autoreload 2"
   ]
  },
  {
   "cell_type": "code",
   "execution_count": 4,
   "id": "4f28f7d0",
   "metadata": {
    "execution": {
     "iopub.execute_input": "2022-09-12T11:55:56.328860Z",
     "iopub.status.busy": "2022-09-12T11:55:56.328706Z",
     "iopub.status.idle": "2022-09-12T11:55:56.981239Z",
     "shell.execute_reply": "2022-09-12T11:55:56.980774Z"
    },
    "papermill": {
     "duration": 0.66116,
     "end_time": "2022-09-12T11:55:56.982732",
     "exception": false,
     "start_time": "2022-09-12T11:55:56.321572",
     "status": "completed"
    },
    "tags": []
   },
   "outputs": [],
   "source": [
    "from pathlib import Path\n",
    "\n",
    "import numpy as np\n",
    "import pandas as pd\n",
    "import matplotlib.pyplot as plt\n",
    "import seaborn as sns\n",
    "\n",
    "from utils import generate_result_set_name"
   ]
  },
  {
   "cell_type": "markdown",
   "id": "77b279ca",
   "metadata": {
    "papermill": {
     "duration": 0.015231,
     "end_time": "2022-09-12T11:55:57.005427",
     "exception": false,
     "start_time": "2022-09-12T11:55:56.990196",
     "status": "completed"
    },
    "tags": []
   },
   "source": [
    "# Settings"
   ]
  },
  {
   "cell_type": "code",
   "execution_count": 5,
   "id": "e0d6f321",
   "metadata": {
    "execution": {
     "iopub.execute_input": "2022-09-12T11:55:57.019622Z",
     "iopub.status.busy": "2022-09-12T11:55:57.019390Z",
     "iopub.status.idle": "2022-09-12T11:55:57.036114Z",
     "shell.execute_reply": "2022-09-12T11:55:57.035506Z"
    },
    "papermill": {
     "duration": 0.025612,
     "end_time": "2022-09-12T11:55:57.037485",
     "exception": false,
     "start_time": "2022-09-12T11:55:57.011873",
     "status": "completed"
    },
    "tags": []
   },
   "outputs": [],
   "source": [
    "np.random.seed(0)"
   ]
  },
  {
   "cell_type": "code",
   "execution_count": 6,
   "id": "e0b29143",
   "metadata": {
    "execution": {
     "iopub.execute_input": "2022-09-12T11:55:57.051636Z",
     "iopub.status.busy": "2022-09-12T11:55:57.051403Z",
     "iopub.status.idle": "2022-09-12T11:55:57.068199Z",
     "shell.execute_reply": "2022-09-12T11:55:57.067490Z"
    },
    "papermill": {
     "duration": 0.025303,
     "end_time": "2022-09-12T11:55:57.069616",
     "exception": false,
     "start_time": "2022-09-12T11:55:57.044313",
     "status": "completed"
    },
    "tags": []
   },
   "outputs": [],
   "source": [
    "INITIAL_RANDOM_STATE = 60000"
   ]
  },
  {
   "cell_type": "markdown",
   "id": "c43db9e4",
   "metadata": {
    "papermill": {
     "duration": 0.006825,
     "end_time": "2022-09-12T11:55:57.083645",
     "exception": false,
     "start_time": "2022-09-12T11:55:57.076820",
     "status": "completed"
    },
    "tags": []
   },
   "source": [
    "## Input data"
   ]
  },
  {
   "cell_type": "code",
   "execution_count": 7,
   "id": "97121761",
   "metadata": {
    "execution": {
     "iopub.execute_input": "2022-09-12T11:55:57.126201Z",
     "iopub.status.busy": "2022-09-12T11:55:57.125998Z",
     "iopub.status.idle": "2022-09-12T11:55:57.145349Z",
     "shell.execute_reply": "2022-09-12T11:55:57.144667Z"
    },
    "papermill": {
     "duration": 0.056352,
     "end_time": "2022-09-12T11:55:57.146969",
     "exception": false,
     "start_time": "2022-09-12T11:55:57.090617",
     "status": "completed"
    },
    "tags": []
   },
   "outputs": [],
   "source": [
    "INPUT_SUBSET = \"z_score_std\""
   ]
  },
  {
   "cell_type": "code",
   "execution_count": 8,
   "id": "68e6dd38",
   "metadata": {
    "execution": {
     "iopub.execute_input": "2022-09-12T11:55:57.164314Z",
     "iopub.status.busy": "2022-09-12T11:55:57.164128Z",
     "iopub.status.idle": "2022-09-12T11:55:57.182535Z",
     "shell.execute_reply": "2022-09-12T11:55:57.181873Z"
    },
    "papermill": {
     "duration": 0.028762,
     "end_time": "2022-09-12T11:55:57.184053",
     "exception": false,
     "start_time": "2022-09-12T11:55:57.155291",
     "status": "completed"
    },
    "tags": []
   },
   "outputs": [],
   "source": [
    "INPUT_STEM = \"projection-smultixcan-efo_partial-mashr-zscores\""
   ]
  },
  {
   "cell_type": "code",
   "execution_count": 9,
   "id": "dd6320a6",
   "metadata": {
    "execution": {
     "iopub.execute_input": "2022-09-12T11:55:57.200356Z",
     "iopub.status.busy": "2022-09-12T11:55:57.200191Z",
     "iopub.status.idle": "2022-09-12T11:55:57.219522Z",
     "shell.execute_reply": "2022-09-12T11:55:57.218975Z"
    },
    "papermill": {
     "duration": 0.029051,
     "end_time": "2022-09-12T11:55:57.220899",
     "exception": false,
     "start_time": "2022-09-12T11:55:57.191848",
     "status": "completed"
    },
    "tags": []
   },
   "outputs": [
    {
     "data": {
      "text/plain": [
       "PosixPath('/opt/data/results/clustering/null_sims/data_transformations/z_score_std/z_score_std-projection-smultixcan-efo_partial-mashr-zscores.pkl')"
      ]
     },
     "metadata": {},
     "output_type": "display_data"
    },
    {
     "data": {
      "text/plain": [
       "'z_score_std-projection-smultixcan-efo_partial-mashr-zscores'"
      ]
     },
     "metadata": {},
     "output_type": "display_data"
    }
   ],
   "source": [
    "input_filepath = Path(\n",
    "    conf.RESULTS[\"CLUSTERING_NULL_DIR\"],\n",
    "    \"data_transformations\",\n",
    "    INPUT_SUBSET,\n",
    "    f\"{INPUT_SUBSET}-{INPUT_STEM}.pkl\",\n",
    ").resolve()\n",
    "display(input_filepath)\n",
    "\n",
    "assert input_filepath.exists(), \"Input file does not exist\"\n",
    "\n",
    "input_filepath_stem = input_filepath.stem\n",
    "display(input_filepath_stem)"
   ]
  },
  {
   "cell_type": "markdown",
   "id": "f7e9946e",
   "metadata": {
    "papermill": {
     "duration": 0.007177,
     "end_time": "2022-09-12T11:55:57.235554",
     "exception": false,
     "start_time": "2022-09-12T11:55:57.228377",
     "status": "completed"
    },
    "tags": []
   },
   "source": [
    "## Clustering"
   ]
  },
  {
   "cell_type": "code",
   "execution_count": 10,
   "id": "83aaf504",
   "metadata": {
    "execution": {
     "iopub.execute_input": "2022-09-12T11:55:57.251053Z",
     "iopub.status.busy": "2022-09-12T11:55:57.250859Z",
     "iopub.status.idle": "2022-09-12T11:55:57.351441Z",
     "shell.execute_reply": "2022-09-12T11:55:57.350898Z"
    },
    "papermill": {
     "duration": 0.109918,
     "end_time": "2022-09-12T11:55:57.352778",
     "exception": false,
     "start_time": "2022-09-12T11:55:57.242860",
     "status": "completed"
    },
    "tags": []
   },
   "outputs": [],
   "source": [
    "from sklearn.mixture import GaussianMixture"
   ]
  },
  {
   "cell_type": "code",
   "execution_count": 11,
   "id": "d0154046",
   "metadata": {
    "execution": {
     "iopub.execute_input": "2022-09-12T11:55:57.368764Z",
     "iopub.status.busy": "2022-09-12T11:55:57.368280Z",
     "iopub.status.idle": "2022-09-12T11:55:57.386660Z",
     "shell.execute_reply": "2022-09-12T11:55:57.386049Z"
    },
    "papermill": {
     "duration": 0.028053,
     "end_time": "2022-09-12T11:55:57.388163",
     "exception": false,
     "start_time": "2022-09-12T11:55:57.360110",
     "status": "completed"
    },
    "tags": []
   },
   "outputs": [],
   "source": [
    "CLUSTERING_ATTRIBUTES_TO_SAVE = [\"n_clusters\"]"
   ]
  },
  {
   "cell_type": "code",
   "execution_count": 12,
   "id": "79c52fa6",
   "metadata": {
    "execution": {
     "iopub.execute_input": "2022-09-12T11:55:57.403262Z",
     "iopub.status.busy": "2022-09-12T11:55:57.403102Z",
     "iopub.status.idle": "2022-09-12T11:55:57.422883Z",
     "shell.execute_reply": "2022-09-12T11:55:57.422391Z"
    },
    "papermill": {
     "duration": 0.028711,
     "end_time": "2022-09-12T11:55:57.424244",
     "exception": false,
     "start_time": "2022-09-12T11:55:57.395533",
     "status": "completed"
    },
    "tags": []
   },
   "outputs": [
    {
     "data": {
      "text/plain": [
       "{'K_MIN': 2,\n",
       " 'K_MAX': 60,\n",
       " 'N_REPS_PER_K': 5,\n",
       " 'N_INIT': 10,\n",
       " 'COVARIANCE_TYPE': 'full'}"
      ]
     },
     "metadata": {},
     "output_type": "display_data"
    }
   ],
   "source": [
    "CLUSTERING_OPTIONS = {}\n",
    "\n",
    "CLUSTERING_OPTIONS[\"K_MIN\"] = 2\n",
    "CLUSTERING_OPTIONS[\"K_MAX\"] = 60  # sqrt(3749)\n",
    "CLUSTERING_OPTIONS[\"N_REPS_PER_K\"] = 5\n",
    "CLUSTERING_OPTIONS[\"N_INIT\"] = 10\n",
    "CLUSTERING_OPTIONS[\"COVARIANCE_TYPE\"] = \"full\"\n",
    "\n",
    "display(CLUSTERING_OPTIONS)"
   ]
  },
  {
   "cell_type": "code",
   "execution_count": 13,
   "id": "3fa83082",
   "metadata": {
    "execution": {
     "iopub.execute_input": "2022-09-12T11:55:57.440263Z",
     "iopub.status.busy": "2022-09-12T11:55:57.440083Z",
     "iopub.status.idle": "2022-09-12T11:55:57.461295Z",
     "shell.execute_reply": "2022-09-12T11:55:57.460671Z"
    },
    "papermill": {
     "duration": 0.030839,
     "end_time": "2022-09-12T11:55:57.462747",
     "exception": false,
     "start_time": "2022-09-12T11:55:57.431908",
     "status": "completed"
    },
    "tags": []
   },
   "outputs": [],
   "source": [
    "CLUSTERERS = {}\n",
    "\n",
    "idx = 0\n",
    "random_state = INITIAL_RANDOM_STATE\n",
    "\n",
    "for k in range(CLUSTERING_OPTIONS[\"K_MIN\"], CLUSTERING_OPTIONS[\"K_MAX\"] + 1):\n",
    "    for i in range(CLUSTERING_OPTIONS[\"N_REPS_PER_K\"]):\n",
    "        clus = GaussianMixture(\n",
    "            n_components=k,\n",
    "            n_init=CLUSTERING_OPTIONS[\"N_INIT\"],\n",
    "            covariance_type=CLUSTERING_OPTIONS[\"COVARIANCE_TYPE\"],\n",
    "            random_state=random_state,\n",
    "        )\n",
    "\n",
    "        method_name = type(clus).__name__\n",
    "        CLUSTERERS[f\"{method_name} #{idx}\"] = clus\n",
    "\n",
    "        random_state = random_state + 1\n",
    "        idx = idx + 1"
   ]
  },
  {
   "cell_type": "code",
   "execution_count": 14,
   "id": "864864fb",
   "metadata": {
    "execution": {
     "iopub.execute_input": "2022-09-12T11:55:57.478932Z",
     "iopub.status.busy": "2022-09-12T11:55:57.478758Z",
     "iopub.status.idle": "2022-09-12T11:55:57.498383Z",
     "shell.execute_reply": "2022-09-12T11:55:57.497822Z"
    },
    "papermill": {
     "duration": 0.029238,
     "end_time": "2022-09-12T11:55:57.499717",
     "exception": false,
     "start_time": "2022-09-12T11:55:57.470479",
     "status": "completed"
    },
    "tags": []
   },
   "outputs": [
    {
     "data": {
      "text/plain": [
       "295"
      ]
     },
     "metadata": {},
     "output_type": "display_data"
    }
   ],
   "source": [
    "display(len(CLUSTERERS))"
   ]
  },
  {
   "cell_type": "code",
   "execution_count": 15,
   "id": "1fa9c278",
   "metadata": {
    "execution": {
     "iopub.execute_input": "2022-09-12T11:55:57.515998Z",
     "iopub.status.busy": "2022-09-12T11:55:57.515454Z",
     "iopub.status.idle": "2022-09-12T11:55:57.535950Z",
     "shell.execute_reply": "2022-09-12T11:55:57.535444Z"
    },
    "papermill": {
     "duration": 0.029686,
     "end_time": "2022-09-12T11:55:57.537172",
     "exception": false,
     "start_time": "2022-09-12T11:55:57.507486",
     "status": "completed"
    },
    "tags": []
   },
   "outputs": [
    {
     "data": {
      "text/plain": [
       "('GaussianMixture #0',\n",
       " GaussianMixture(n_components=2, n_init=10, random_state=60000))"
      ]
     },
     "metadata": {},
     "output_type": "display_data"
    },
    {
     "data": {
      "text/plain": [
       "('GaussianMixture #1',\n",
       " GaussianMixture(n_components=2, n_init=10, random_state=60001))"
      ]
     },
     "metadata": {},
     "output_type": "display_data"
    }
   ],
   "source": [
    "_iter = iter(CLUSTERERS.items())\n",
    "display(next(_iter))\n",
    "display(next(_iter))"
   ]
  },
  {
   "cell_type": "code",
   "execution_count": 16,
   "id": "67376c18",
   "metadata": {
    "execution": {
     "iopub.execute_input": "2022-09-12T11:55:57.565771Z",
     "iopub.status.busy": "2022-09-12T11:55:57.565572Z",
     "iopub.status.idle": "2022-09-12T11:55:57.588035Z",
     "shell.execute_reply": "2022-09-12T11:55:57.587397Z"
    },
    "papermill": {
     "duration": 0.034035,
     "end_time": "2022-09-12T11:55:57.589424",
     "exception": false,
     "start_time": "2022-09-12T11:55:57.555389",
     "status": "completed"
    },
    "tags": []
   },
   "outputs": [
    {
     "data": {
      "text/plain": [
       "'GaussianMixture'"
      ]
     },
     "metadata": {},
     "output_type": "display_data"
    }
   ],
   "source": [
    "clustering_method_name = method_name\n",
    "display(clustering_method_name)"
   ]
  },
  {
   "cell_type": "markdown",
   "id": "58dca7c9",
   "metadata": {
    "papermill": {
     "duration": 0.007336,
     "end_time": "2022-09-12T11:55:57.604752",
     "exception": false,
     "start_time": "2022-09-12T11:55:57.597416",
     "status": "completed"
    },
    "tags": []
   },
   "source": [
    "## Output directory"
   ]
  },
  {
   "cell_type": "code",
   "execution_count": 17,
   "id": "4295d14a",
   "metadata": {
    "execution": {
     "iopub.execute_input": "2022-09-12T11:55:57.619926Z",
     "iopub.status.busy": "2022-09-12T11:55:57.619706Z",
     "iopub.status.idle": "2022-09-12T11:55:57.639121Z",
     "shell.execute_reply": "2022-09-12T11:55:57.638677Z"
    },
    "papermill": {
     "duration": 0.028448,
     "end_time": "2022-09-12T11:55:57.640386",
     "exception": false,
     "start_time": "2022-09-12T11:55:57.611938",
     "status": "completed"
    },
    "tags": []
   },
   "outputs": [
    {
     "data": {
      "text/plain": [
       "PosixPath('/opt/data/results/clustering/null_sims/runs/z_score_std-projection-smultixcan-efo_partial-mashr-zscores')"
      ]
     },
     "metadata": {},
     "output_type": "display_data"
    }
   ],
   "source": [
    "# output dir for this notebook\n",
    "RESULTS_DIR = Path(\n",
    "    conf.RESULTS[\"CLUSTERING_NULL_DIR\"],\n",
    "    \"runs\",\n",
    "    f\"{INPUT_SUBSET}-{INPUT_STEM}\",\n",
    ").resolve()\n",
    "RESULTS_DIR.mkdir(parents=True, exist_ok=True)\n",
    "\n",
    "display(RESULTS_DIR)"
   ]
  },
  {
   "cell_type": "markdown",
   "id": "b842ec3c",
   "metadata": {
    "papermill": {
     "duration": 0.007596,
     "end_time": "2022-09-12T11:55:57.655937",
     "exception": false,
     "start_time": "2022-09-12T11:55:57.648341",
     "status": "completed"
    },
    "tags": []
   },
   "source": [
    "# Load input file"
   ]
  },
  {
   "cell_type": "code",
   "execution_count": 18,
   "id": "1a603523",
   "metadata": {
    "execution": {
     "iopub.execute_input": "2022-09-12T11:55:57.672087Z",
     "iopub.status.busy": "2022-09-12T11:55:57.671904Z",
     "iopub.status.idle": "2022-09-12T11:55:57.705724Z",
     "shell.execute_reply": "2022-09-12T11:55:57.705185Z"
    },
    "papermill": {
     "duration": 0.043547,
     "end_time": "2022-09-12T11:55:57.707201",
     "exception": false,
     "start_time": "2022-09-12T11:55:57.663654",
     "status": "completed"
    },
    "tags": []
   },
   "outputs": [],
   "source": [
    "data = pd.read_pickle(input_filepath)"
   ]
  },
  {
   "cell_type": "code",
   "execution_count": 19,
   "id": "e1351fc7",
   "metadata": {
    "execution": {
     "iopub.execute_input": "2022-09-12T11:55:57.733674Z",
     "iopub.status.busy": "2022-09-12T11:55:57.733087Z",
     "iopub.status.idle": "2022-09-12T11:55:57.782710Z",
     "shell.execute_reply": "2022-09-12T11:55:57.782143Z"
    },
    "papermill": {
     "duration": 0.068451,
     "end_time": "2022-09-12T11:55:57.784356",
     "exception": false,
     "start_time": "2022-09-12T11:55:57.715905",
     "status": "completed"
    },
    "tags": []
   },
   "outputs": [
    {
     "data": {
      "text/plain": [
       "(3752, 987)"
      ]
     },
     "execution_count": 19,
     "metadata": {},
     "output_type": "execute_result"
    }
   ],
   "source": [
    "data.shape"
   ]
  },
  {
   "cell_type": "code",
   "execution_count": 20,
   "id": "326db1d5",
   "metadata": {
    "execution": {
     "iopub.execute_input": "2022-09-12T11:55:57.803410Z",
     "iopub.status.busy": "2022-09-12T11:55:57.803214Z",
     "iopub.status.idle": "2022-09-12T11:55:57.837911Z",
     "shell.execute_reply": "2022-09-12T11:55:57.837341Z"
    },
    "papermill": {
     "duration": 0.045536,
     "end_time": "2022-09-12T11:55:57.839094",
     "exception": false,
     "start_time": "2022-09-12T11:55:57.793558",
     "status": "completed"
    },
    "tags": []
   },
   "outputs": [
    {
     "data": {
      "text/html": [
       "<div>\n",
       "<style scoped>\n",
       "    .dataframe tbody tr th:only-of-type {\n",
       "        vertical-align: middle;\n",
       "    }\n",
       "\n",
       "    .dataframe tbody tr th {\n",
       "        vertical-align: top;\n",
       "    }\n",
       "\n",
       "    .dataframe thead th {\n",
       "        text-align: right;\n",
       "    }\n",
       "</style>\n",
       "<table border=\"1\" class=\"dataframe\">\n",
       "  <thead>\n",
       "    <tr style=\"text-align: right;\">\n",
       "      <th></th>\n",
       "      <th>LV1</th>\n",
       "      <th>LV2</th>\n",
       "      <th>LV3</th>\n",
       "      <th>LV4</th>\n",
       "      <th>LV5</th>\n",
       "      <th>LV6</th>\n",
       "      <th>LV7</th>\n",
       "      <th>LV8</th>\n",
       "      <th>LV9</th>\n",
       "      <th>LV10</th>\n",
       "      <th>...</th>\n",
       "      <th>LV978</th>\n",
       "      <th>LV979</th>\n",
       "      <th>LV980</th>\n",
       "      <th>LV981</th>\n",
       "      <th>LV982</th>\n",
       "      <th>LV983</th>\n",
       "      <th>LV984</th>\n",
       "      <th>LV985</th>\n",
       "      <th>LV986</th>\n",
       "      <th>LV987</th>\n",
       "    </tr>\n",
       "  </thead>\n",
       "  <tbody>\n",
       "    <tr>\n",
       "      <th>100001_raw-Food_weight</th>\n",
       "      <td>-2.408007</td>\n",
       "      <td>-1.745911</td>\n",
       "      <td>1.383013</td>\n",
       "      <td>0.158718</td>\n",
       "      <td>-0.240933</td>\n",
       "      <td>-0.304911</td>\n",
       "      <td>1.823117</td>\n",
       "      <td>-0.716278</td>\n",
       "      <td>-1.769346</td>\n",
       "      <td>-0.043794</td>\n",
       "      <td>...</td>\n",
       "      <td>0.399227</td>\n",
       "      <td>0.849885</td>\n",
       "      <td>-0.593292</td>\n",
       "      <td>0.636568</td>\n",
       "      <td>0.409726</td>\n",
       "      <td>-0.871713</td>\n",
       "      <td>1.638770</td>\n",
       "      <td>0.285165</td>\n",
       "      <td>0.585307</td>\n",
       "      <td>0.592347</td>\n",
       "    </tr>\n",
       "    <tr>\n",
       "      <th>100002_raw-Energy</th>\n",
       "      <td>-0.508508</td>\n",
       "      <td>0.514427</td>\n",
       "      <td>-0.792865</td>\n",
       "      <td>-0.091775</td>\n",
       "      <td>-0.013409</td>\n",
       "      <td>0.194047</td>\n",
       "      <td>1.353713</td>\n",
       "      <td>0.117286</td>\n",
       "      <td>-0.323516</td>\n",
       "      <td>-1.641116</td>\n",
       "      <td>...</td>\n",
       "      <td>-0.038535</td>\n",
       "      <td>-1.139394</td>\n",
       "      <td>-0.951591</td>\n",
       "      <td>1.197872</td>\n",
       "      <td>0.893819</td>\n",
       "      <td>-0.820655</td>\n",
       "      <td>0.928634</td>\n",
       "      <td>-0.716778</td>\n",
       "      <td>-0.085735</td>\n",
       "      <td>-1.208965</td>\n",
       "    </tr>\n",
       "    <tr>\n",
       "      <th>100003_raw-Protein</th>\n",
       "      <td>-0.284597</td>\n",
       "      <td>-0.325076</td>\n",
       "      <td>-1.412980</td>\n",
       "      <td>1.255510</td>\n",
       "      <td>0.343603</td>\n",
       "      <td>-2.471878</td>\n",
       "      <td>-0.149640</td>\n",
       "      <td>-0.715178</td>\n",
       "      <td>-0.548948</td>\n",
       "      <td>1.210352</td>\n",
       "      <td>...</td>\n",
       "      <td>1.006094</td>\n",
       "      <td>0.595064</td>\n",
       "      <td>1.774559</td>\n",
       "      <td>-0.335165</td>\n",
       "      <td>0.394177</td>\n",
       "      <td>-0.188345</td>\n",
       "      <td>-1.864716</td>\n",
       "      <td>-0.124875</td>\n",
       "      <td>1.253625</td>\n",
       "      <td>0.804944</td>\n",
       "    </tr>\n",
       "    <tr>\n",
       "      <th>100004_raw-Fat</th>\n",
       "      <td>-0.427503</td>\n",
       "      <td>-0.096524</td>\n",
       "      <td>-0.348654</td>\n",
       "      <td>-1.250087</td>\n",
       "      <td>-0.253145</td>\n",
       "      <td>-0.236606</td>\n",
       "      <td>-0.600627</td>\n",
       "      <td>0.277239</td>\n",
       "      <td>-0.844748</td>\n",
       "      <td>-0.998437</td>\n",
       "      <td>...</td>\n",
       "      <td>0.249993</td>\n",
       "      <td>-1.520660</td>\n",
       "      <td>0.037241</td>\n",
       "      <td>0.514992</td>\n",
       "      <td>0.512538</td>\n",
       "      <td>-1.083619</td>\n",
       "      <td>0.310643</td>\n",
       "      <td>-1.719033</td>\n",
       "      <td>-0.970770</td>\n",
       "      <td>-2.628077</td>\n",
       "    </tr>\n",
       "    <tr>\n",
       "      <th>100005_raw-Carbohydrate</th>\n",
       "      <td>-1.502621</td>\n",
       "      <td>-1.083034</td>\n",
       "      <td>0.531159</td>\n",
       "      <td>0.332981</td>\n",
       "      <td>-1.240640</td>\n",
       "      <td>-0.852565</td>\n",
       "      <td>-0.003171</td>\n",
       "      <td>0.561912</td>\n",
       "      <td>-0.772413</td>\n",
       "      <td>-0.372739</td>\n",
       "      <td>...</td>\n",
       "      <td>-0.577730</td>\n",
       "      <td>-1.163380</td>\n",
       "      <td>0.000251</td>\n",
       "      <td>-0.345607</td>\n",
       "      <td>-1.610004</td>\n",
       "      <td>0.194078</td>\n",
       "      <td>0.605594</td>\n",
       "      <td>1.182825</td>\n",
       "      <td>-1.567705</td>\n",
       "      <td>-0.011902</td>\n",
       "    </tr>\n",
       "  </tbody>\n",
       "</table>\n",
       "<p>5 rows × 987 columns</p>\n",
       "</div>"
      ],
      "text/plain": [
       "                              LV1       LV2       LV3       LV4       LV5  \\\n",
       "100001_raw-Food_weight  -2.408007 -1.745911  1.383013  0.158718 -0.240933   \n",
       "100002_raw-Energy       -0.508508  0.514427 -0.792865 -0.091775 -0.013409   \n",
       "100003_raw-Protein      -0.284597 -0.325076 -1.412980  1.255510  0.343603   \n",
       "100004_raw-Fat          -0.427503 -0.096524 -0.348654 -1.250087 -0.253145   \n",
       "100005_raw-Carbohydrate -1.502621 -1.083034  0.531159  0.332981 -1.240640   \n",
       "\n",
       "                              LV6       LV7       LV8       LV9      LV10  \\\n",
       "100001_raw-Food_weight  -0.304911  1.823117 -0.716278 -1.769346 -0.043794   \n",
       "100002_raw-Energy        0.194047  1.353713  0.117286 -0.323516 -1.641116   \n",
       "100003_raw-Protein      -2.471878 -0.149640 -0.715178 -0.548948  1.210352   \n",
       "100004_raw-Fat          -0.236606 -0.600627  0.277239 -0.844748 -0.998437   \n",
       "100005_raw-Carbohydrate -0.852565 -0.003171  0.561912 -0.772413 -0.372739   \n",
       "\n",
       "                         ...     LV978     LV979     LV980     LV981  \\\n",
       "100001_raw-Food_weight   ...  0.399227  0.849885 -0.593292  0.636568   \n",
       "100002_raw-Energy        ... -0.038535 -1.139394 -0.951591  1.197872   \n",
       "100003_raw-Protein       ...  1.006094  0.595064  1.774559 -0.335165   \n",
       "100004_raw-Fat           ...  0.249993 -1.520660  0.037241  0.514992   \n",
       "100005_raw-Carbohydrate  ... -0.577730 -1.163380  0.000251 -0.345607   \n",
       "\n",
       "                            LV982     LV983     LV984     LV985     LV986  \\\n",
       "100001_raw-Food_weight   0.409726 -0.871713  1.638770  0.285165  0.585307   \n",
       "100002_raw-Energy        0.893819 -0.820655  0.928634 -0.716778 -0.085735   \n",
       "100003_raw-Protein       0.394177 -0.188345 -1.864716 -0.124875  1.253625   \n",
       "100004_raw-Fat           0.512538 -1.083619  0.310643 -1.719033 -0.970770   \n",
       "100005_raw-Carbohydrate -1.610004  0.194078  0.605594  1.182825 -1.567705   \n",
       "\n",
       "                            LV987  \n",
       "100001_raw-Food_weight   0.592347  \n",
       "100002_raw-Energy       -1.208965  \n",
       "100003_raw-Protein       0.804944  \n",
       "100004_raw-Fat          -2.628077  \n",
       "100005_raw-Carbohydrate -0.011902  \n",
       "\n",
       "[5 rows x 987 columns]"
      ]
     },
     "execution_count": 20,
     "metadata": {},
     "output_type": "execute_result"
    }
   ],
   "source": [
    "data.head()"
   ]
  },
  {
   "cell_type": "code",
   "execution_count": 21,
   "id": "b38dd9d1",
   "metadata": {
    "execution": {
     "iopub.execute_input": "2022-09-12T11:55:57.855747Z",
     "iopub.status.busy": "2022-09-12T11:55:57.855583Z",
     "iopub.status.idle": "2022-09-12T11:55:57.880281Z",
     "shell.execute_reply": "2022-09-12T11:55:57.879589Z"
    },
    "papermill": {
     "duration": 0.034636,
     "end_time": "2022-09-12T11:55:57.881804",
     "exception": false,
     "start_time": "2022-09-12T11:55:57.847168",
     "status": "completed"
    },
    "tags": []
   },
   "outputs": [],
   "source": [
    "assert not data.isna().any().any()"
   ]
  },
  {
   "cell_type": "markdown",
   "id": "3bfb7eef",
   "metadata": {
    "papermill": {
     "duration": 0.008583,
     "end_time": "2022-09-12T11:55:57.899253",
     "exception": false,
     "start_time": "2022-09-12T11:55:57.890670",
     "status": "completed"
    },
    "tags": []
   },
   "source": [
    "# Clustering"
   ]
  },
  {
   "cell_type": "markdown",
   "id": "8a11fe22",
   "metadata": {
    "papermill": {
     "duration": 0.007745,
     "end_time": "2022-09-12T11:55:57.915589",
     "exception": false,
     "start_time": "2022-09-12T11:55:57.907844",
     "status": "completed"
    },
    "tags": []
   },
   "source": [
    "## Generate ensemble"
   ]
  },
  {
   "cell_type": "code",
   "execution_count": 22,
   "id": "77768dbf",
   "metadata": {
    "execution": {
     "iopub.execute_input": "2022-09-12T11:55:57.931544Z",
     "iopub.status.busy": "2022-09-12T11:55:57.931288Z",
     "iopub.status.idle": "2022-09-12T11:55:57.953178Z",
     "shell.execute_reply": "2022-09-12T11:55:57.952650Z"
    },
    "papermill": {
     "duration": 0.031703,
     "end_time": "2022-09-12T11:55:57.954594",
     "exception": false,
     "start_time": "2022-09-12T11:55:57.922891",
     "status": "completed"
    },
    "tags": []
   },
   "outputs": [],
   "source": [
    "from clustering.ensembles.utils import generate_ensemble"
   ]
  },
  {
   "cell_type": "code",
   "execution_count": 23,
   "id": "f62d3c53",
   "metadata": {
    "execution": {
     "iopub.execute_input": "2022-09-12T11:55:57.971828Z",
     "iopub.status.busy": "2022-09-12T11:55:57.971635Z",
     "iopub.status.idle": "2022-09-12T23:21:33.031309Z",
     "shell.execute_reply": "2022-09-12T23:21:33.030779Z"
    },
    "papermill": {
     "duration": 41135.069777,
     "end_time": "2022-09-12T23:21:33.032696",
     "exception": false,
     "start_time": "2022-09-12T11:55:57.962919",
     "status": "completed"
    },
    "tags": []
   },
   "outputs": [
    {
     "name": "stderr",
     "output_type": "stream",
     "text": [
      "100%|██████████| 295/295 [11:25:35<00:00, 139.44s/it]\n"
     ]
    }
   ],
   "source": [
    "ensemble = generate_ensemble(\n",
    "    data,\n",
    "    CLUSTERERS,\n",
    "    attributes=CLUSTERING_ATTRIBUTES_TO_SAVE,\n",
    ")"
   ]
  },
  {
   "cell_type": "code",
   "execution_count": 24,
   "id": "e555bea6",
   "metadata": {
    "execution": {
     "iopub.execute_input": "2022-09-12T23:21:33.069457Z",
     "iopub.status.busy": "2022-09-12T23:21:33.069027Z",
     "iopub.status.idle": "2022-09-12T23:21:33.088359Z",
     "shell.execute_reply": "2022-09-12T23:21:33.087778Z"
    },
    "papermill": {
     "duration": 0.039154,
     "end_time": "2022-09-12T23:21:33.089678",
     "exception": false,
     "start_time": "2022-09-12T23:21:33.050524",
     "status": "completed"
    },
    "tags": []
   },
   "outputs": [
    {
     "data": {
      "text/plain": [
       "(295, 3)"
      ]
     },
     "execution_count": 24,
     "metadata": {},
     "output_type": "execute_result"
    }
   ],
   "source": [
    "# the number should be close to 295 (the number of partitions generated by k-means/spectral clustering)\n",
    "ensemble.shape"
   ]
  },
  {
   "cell_type": "code",
   "execution_count": 25,
   "id": "a0fd5d64",
   "metadata": {
    "execution": {
     "iopub.execute_input": "2022-09-12T23:21:33.125663Z",
     "iopub.status.busy": "2022-09-12T23:21:33.125502Z",
     "iopub.status.idle": "2022-09-12T23:21:33.151597Z",
     "shell.execute_reply": "2022-09-12T23:21:33.151065Z"
    },
    "papermill": {
     "duration": 0.045188,
     "end_time": "2022-09-12T23:21:33.152843",
     "exception": false,
     "start_time": "2022-09-12T23:21:33.107655",
     "status": "completed"
    },
    "tags": []
   },
   "outputs": [
    {
     "data": {
      "text/html": [
       "<div>\n",
       "<style scoped>\n",
       "    .dataframe tbody tr th:only-of-type {\n",
       "        vertical-align: middle;\n",
       "    }\n",
       "\n",
       "    .dataframe tbody tr th {\n",
       "        vertical-align: top;\n",
       "    }\n",
       "\n",
       "    .dataframe thead th {\n",
       "        text-align: right;\n",
       "    }\n",
       "</style>\n",
       "<table border=\"1\" class=\"dataframe\">\n",
       "  <thead>\n",
       "    <tr style=\"text-align: right;\">\n",
       "      <th></th>\n",
       "      <th>clusterer_params</th>\n",
       "      <th>partition</th>\n",
       "      <th>n_clusters</th>\n",
       "    </tr>\n",
       "    <tr>\n",
       "      <th>clusterer_id</th>\n",
       "      <th></th>\n",
       "      <th></th>\n",
       "      <th></th>\n",
       "    </tr>\n",
       "  </thead>\n",
       "  <tbody>\n",
       "    <tr>\n",
       "      <th>GaussianMixture #0</th>\n",
       "      <td>{'covariance_type': 'full', 'init_params': 'km...</td>\n",
       "      <td>[1.0, 0.0, 0.0, 1.0, 1.0, 1.0, 0.0, 0.0, 1.0, ...</td>\n",
       "      <td>2</td>\n",
       "    </tr>\n",
       "    <tr>\n",
       "      <th>GaussianMixture #1</th>\n",
       "      <td>{'covariance_type': 'full', 'init_params': 'km...</td>\n",
       "      <td>[1.0, 0.0, 1.0, 1.0, 1.0, 1.0, 0.0, 1.0, 0.0, ...</td>\n",
       "      <td>2</td>\n",
       "    </tr>\n",
       "    <tr>\n",
       "      <th>GaussianMixture #2</th>\n",
       "      <td>{'covariance_type': 'full', 'init_params': 'km...</td>\n",
       "      <td>[1.0, 0.0, 1.0, 1.0, 0.0, 0.0, 1.0, 1.0, 1.0, ...</td>\n",
       "      <td>2</td>\n",
       "    </tr>\n",
       "    <tr>\n",
       "      <th>GaussianMixture #3</th>\n",
       "      <td>{'covariance_type': 'full', 'init_params': 'km...</td>\n",
       "      <td>[1.0, 0.0, 0.0, 1.0, 0.0, 1.0, 0.0, 1.0, 1.0, ...</td>\n",
       "      <td>2</td>\n",
       "    </tr>\n",
       "    <tr>\n",
       "      <th>GaussianMixture #4</th>\n",
       "      <td>{'covariance_type': 'full', 'init_params': 'km...</td>\n",
       "      <td>[1.0, 1.0, 1.0, 1.0, 1.0, 1.0, 1.0, 1.0, 1.0, ...</td>\n",
       "      <td>2</td>\n",
       "    </tr>\n",
       "  </tbody>\n",
       "</table>\n",
       "</div>"
      ],
      "text/plain": [
       "                                                     clusterer_params  \\\n",
       "clusterer_id                                                            \n",
       "GaussianMixture #0  {'covariance_type': 'full', 'init_params': 'km...   \n",
       "GaussianMixture #1  {'covariance_type': 'full', 'init_params': 'km...   \n",
       "GaussianMixture #2  {'covariance_type': 'full', 'init_params': 'km...   \n",
       "GaussianMixture #3  {'covariance_type': 'full', 'init_params': 'km...   \n",
       "GaussianMixture #4  {'covariance_type': 'full', 'init_params': 'km...   \n",
       "\n",
       "                                                            partition  \\\n",
       "clusterer_id                                                            \n",
       "GaussianMixture #0  [1.0, 0.0, 0.0, 1.0, 1.0, 1.0, 0.0, 0.0, 1.0, ...   \n",
       "GaussianMixture #1  [1.0, 0.0, 1.0, 1.0, 1.0, 1.0, 0.0, 1.0, 0.0, ...   \n",
       "GaussianMixture #2  [1.0, 0.0, 1.0, 1.0, 0.0, 0.0, 1.0, 1.0, 1.0, ...   \n",
       "GaussianMixture #3  [1.0, 0.0, 0.0, 1.0, 0.0, 1.0, 0.0, 1.0, 1.0, ...   \n",
       "GaussianMixture #4  [1.0, 1.0, 1.0, 1.0, 1.0, 1.0, 1.0, 1.0, 1.0, ...   \n",
       "\n",
       "                    n_clusters  \n",
       "clusterer_id                    \n",
       "GaussianMixture #0           2  \n",
       "GaussianMixture #1           2  \n",
       "GaussianMixture #2           2  \n",
       "GaussianMixture #3           2  \n",
       "GaussianMixture #4           2  "
      ]
     },
     "execution_count": 25,
     "metadata": {},
     "output_type": "execute_result"
    }
   ],
   "source": [
    "ensemble.head()"
   ]
  },
  {
   "cell_type": "code",
   "execution_count": 26,
   "id": "0e0a3687",
   "metadata": {
    "execution": {
     "iopub.execute_input": "2022-09-12T23:21:33.188936Z",
     "iopub.status.busy": "2022-09-12T23:21:33.188337Z",
     "iopub.status.idle": "2022-09-12T23:21:33.208081Z",
     "shell.execute_reply": "2022-09-12T23:21:33.207578Z"
    },
    "papermill": {
     "duration": 0.038802,
     "end_time": "2022-09-12T23:21:33.209368",
     "exception": false,
     "start_time": "2022-09-12T23:21:33.170566",
     "status": "completed"
    },
    "tags": []
   },
   "outputs": [
    {
     "data": {
      "text/plain": [
       "60    5\n",
       "16    5\n",
       "28    5\n",
       "27    5\n",
       "26    5\n",
       "Name: n_clusters, dtype: int64"
      ]
     },
     "execution_count": 26,
     "metadata": {},
     "output_type": "execute_result"
    }
   ],
   "source": [
    "ensemble[\"n_clusters\"].value_counts().head()"
   ]
  },
  {
   "cell_type": "code",
   "execution_count": 27,
   "id": "7672d8e1",
   "metadata": {
    "execution": {
     "iopub.execute_input": "2022-09-12T23:21:33.246169Z",
     "iopub.status.busy": "2022-09-12T23:21:33.245961Z",
     "iopub.status.idle": "2022-09-12T23:21:33.266711Z",
     "shell.execute_reply": "2022-09-12T23:21:33.266180Z"
    },
    "papermill": {
     "duration": 0.040438,
     "end_time": "2022-09-12T23:21:33.267960",
     "exception": false,
     "start_time": "2022-09-12T23:21:33.227522",
     "status": "completed"
    },
    "tags": []
   },
   "outputs": [
    {
     "data": {
      "text/plain": [
       "count    295.000000\n",
       "mean      31.000000\n",
       "std       17.058323\n",
       "min        2.000000\n",
       "25%       16.000000\n",
       "50%       31.000000\n",
       "75%       46.000000\n",
       "max       60.000000\n",
       "Name: n_clusters, dtype: float64"
      ]
     },
     "metadata": {},
     "output_type": "display_data"
    }
   ],
   "source": [
    "ensemble_stats = ensemble[\"n_clusters\"].describe()\n",
    "display(ensemble_stats)"
   ]
  },
  {
   "cell_type": "markdown",
   "id": "4ff7f7e1",
   "metadata": {
    "papermill": {
     "duration": 0.017169,
     "end_time": "2022-09-12T23:21:33.303864",
     "exception": false,
     "start_time": "2022-09-12T23:21:33.286695",
     "status": "completed"
    },
    "tags": []
   },
   "source": [
    "## Testing"
   ]
  },
  {
   "cell_type": "code",
   "execution_count": 28,
   "id": "356a52a9",
   "metadata": {
    "execution": {
     "iopub.execute_input": "2022-09-12T23:21:33.339179Z",
     "iopub.status.busy": "2022-09-12T23:21:33.338976Z",
     "iopub.status.idle": "2022-09-12T23:21:33.357469Z",
     "shell.execute_reply": "2022-09-12T23:21:33.356886Z"
    },
    "papermill": {
     "duration": 0.037816,
     "end_time": "2022-09-12T23:21:33.358852",
     "exception": false,
     "start_time": "2022-09-12T23:21:33.321036",
     "status": "completed"
    },
    "tags": []
   },
   "outputs": [],
   "source": [
    "assert ensemble_stats[\"min\"] > 1"
   ]
  },
  {
   "cell_type": "code",
   "execution_count": 29,
   "id": "c07c1d15",
   "metadata": {
    "execution": {
     "iopub.execute_input": "2022-09-12T23:21:33.394985Z",
     "iopub.status.busy": "2022-09-12T23:21:33.394778Z",
     "iopub.status.idle": "2022-09-12T23:21:33.413480Z",
     "shell.execute_reply": "2022-09-12T23:21:33.412989Z"
    },
    "papermill": {
     "duration": 0.038085,
     "end_time": "2022-09-12T23:21:33.414949",
     "exception": false,
     "start_time": "2022-09-12T23:21:33.376864",
     "status": "completed"
    },
    "tags": []
   },
   "outputs": [],
   "source": [
    "assert not ensemble[\"n_clusters\"].isna().any()"
   ]
  },
  {
   "cell_type": "code",
   "execution_count": 30,
   "id": "18ad9a84",
   "metadata": {
    "execution": {
     "iopub.execute_input": "2022-09-12T23:21:33.454610Z",
     "iopub.status.busy": "2022-09-12T23:21:33.454434Z",
     "iopub.status.idle": "2022-09-12T23:21:33.472825Z",
     "shell.execute_reply": "2022-09-12T23:21:33.472293Z"
    },
    "papermill": {
     "duration": 0.039514,
     "end_time": "2022-09-12T23:21:33.474250",
     "exception": false,
     "start_time": "2022-09-12T23:21:33.434736",
     "status": "completed"
    },
    "tags": []
   },
   "outputs": [],
   "source": [
    "assert ensemble.shape[0] == len(CLUSTERERS)"
   ]
  },
  {
   "cell_type": "code",
   "execution_count": 31,
   "id": "d9b49ac6",
   "metadata": {
    "execution": {
     "iopub.execute_input": "2022-09-12T23:21:33.512778Z",
     "iopub.status.busy": "2022-09-12T23:21:33.512561Z",
     "iopub.status.idle": "2022-09-12T23:21:33.548456Z",
     "shell.execute_reply": "2022-09-12T23:21:33.547915Z"
    },
    "papermill": {
     "duration": 0.05605,
     "end_time": "2022-09-12T23:21:33.549916",
     "exception": false,
     "start_time": "2022-09-12T23:21:33.493866",
     "status": "completed"
    },
    "tags": []
   },
   "outputs": [],
   "source": [
    "# all partitions have the right size\n",
    "assert np.all(\n",
    "    [part[\"partition\"].shape[0] == data.shape[0] for idx, part in ensemble.iterrows()]\n",
    ")"
   ]
  },
  {
   "cell_type": "code",
   "execution_count": 32,
   "id": "af5e1c1f",
   "metadata": {
    "execution": {
     "iopub.execute_input": "2022-09-12T23:21:33.585988Z",
     "iopub.status.busy": "2022-09-12T23:21:33.585780Z",
     "iopub.status.idle": "2022-09-12T23:21:33.624416Z",
     "shell.execute_reply": "2022-09-12T23:21:33.623759Z"
    },
    "papermill": {
     "duration": 0.058545,
     "end_time": "2022-09-12T23:21:33.625943",
     "exception": false,
     "start_time": "2022-09-12T23:21:33.567398",
     "status": "completed"
    },
    "tags": []
   },
   "outputs": [],
   "source": [
    "# no partition has negative clusters (noisy points)\n",
    "assert not np.any([(part[\"partition\"] < 0).any() for idx, part in ensemble.iterrows()])"
   ]
  },
  {
   "cell_type": "markdown",
   "id": "66ed7ea8",
   "metadata": {
    "papermill": {
     "duration": 0.017459,
     "end_time": "2022-09-12T23:21:33.661439",
     "exception": false,
     "start_time": "2022-09-12T23:21:33.643980",
     "status": "completed"
    },
    "tags": []
   },
   "source": [
    "## Add clustering quality measures"
   ]
  },
  {
   "cell_type": "code",
   "execution_count": 33,
   "id": "06c5b8c8",
   "metadata": {
    "execution": {
     "iopub.execute_input": "2022-09-12T23:21:33.697041Z",
     "iopub.status.busy": "2022-09-12T23:21:33.696835Z",
     "iopub.status.idle": "2022-09-12T23:21:33.715029Z",
     "shell.execute_reply": "2022-09-12T23:21:33.714417Z"
    },
    "papermill": {
     "duration": 0.037696,
     "end_time": "2022-09-12T23:21:33.716384",
     "exception": false,
     "start_time": "2022-09-12T23:21:33.678688",
     "status": "completed"
    },
    "tags": []
   },
   "outputs": [],
   "source": [
    "from sklearn.metrics import calinski_harabasz_score"
   ]
  },
  {
   "cell_type": "code",
   "execution_count": 34,
   "id": "e21f55d5",
   "metadata": {
    "execution": {
     "iopub.execute_input": "2022-09-12T23:21:33.753927Z",
     "iopub.status.busy": "2022-09-12T23:21:33.753719Z",
     "iopub.status.idle": "2022-09-12T23:21:41.556323Z",
     "shell.execute_reply": "2022-09-12T23:21:41.555618Z"
    },
    "papermill": {
     "duration": 7.823128,
     "end_time": "2022-09-12T23:21:41.557955",
     "exception": false,
     "start_time": "2022-09-12T23:21:33.734827",
     "status": "completed"
    },
    "tags": []
   },
   "outputs": [],
   "source": [
    "ensemble = ensemble.assign(\n",
    "    ch_score=ensemble[\"partition\"].apply(lambda x: calinski_harabasz_score(data, x))\n",
    ")"
   ]
  },
  {
   "cell_type": "code",
   "execution_count": 35,
   "id": "512c482a",
   "metadata": {
    "execution": {
     "iopub.execute_input": "2022-09-12T23:21:41.598563Z",
     "iopub.status.busy": "2022-09-12T23:21:41.598371Z",
     "iopub.status.idle": "2022-09-12T23:21:41.617281Z",
     "shell.execute_reply": "2022-09-12T23:21:41.616671Z"
    },
    "papermill": {
     "duration": 0.039655,
     "end_time": "2022-09-12T23:21:41.618548",
     "exception": false,
     "start_time": "2022-09-12T23:21:41.578893",
     "status": "completed"
    },
    "tags": []
   },
   "outputs": [
    {
     "data": {
      "text/plain": [
       "(295, 4)"
      ]
     },
     "execution_count": 35,
     "metadata": {},
     "output_type": "execute_result"
    }
   ],
   "source": [
    "ensemble.shape"
   ]
  },
  {
   "cell_type": "code",
   "execution_count": 36,
   "id": "e4ec0cdb",
   "metadata": {
    "execution": {
     "iopub.execute_input": "2022-09-12T23:21:41.655773Z",
     "iopub.status.busy": "2022-09-12T23:21:41.655565Z",
     "iopub.status.idle": "2022-09-12T23:21:41.682125Z",
     "shell.execute_reply": "2022-09-12T23:21:41.681584Z"
    },
    "papermill": {
     "duration": 0.046031,
     "end_time": "2022-09-12T23:21:41.683398",
     "exception": false,
     "start_time": "2022-09-12T23:21:41.637367",
     "status": "completed"
    },
    "tags": []
   },
   "outputs": [
    {
     "data": {
      "text/html": [
       "<div>\n",
       "<style scoped>\n",
       "    .dataframe tbody tr th:only-of-type {\n",
       "        vertical-align: middle;\n",
       "    }\n",
       "\n",
       "    .dataframe tbody tr th {\n",
       "        vertical-align: top;\n",
       "    }\n",
       "\n",
       "    .dataframe thead th {\n",
       "        text-align: right;\n",
       "    }\n",
       "</style>\n",
       "<table border=\"1\" class=\"dataframe\">\n",
       "  <thead>\n",
       "    <tr style=\"text-align: right;\">\n",
       "      <th></th>\n",
       "      <th>clusterer_params</th>\n",
       "      <th>partition</th>\n",
       "      <th>n_clusters</th>\n",
       "      <th>ch_score</th>\n",
       "    </tr>\n",
       "    <tr>\n",
       "      <th>clusterer_id</th>\n",
       "      <th></th>\n",
       "      <th></th>\n",
       "      <th></th>\n",
       "      <th></th>\n",
       "    </tr>\n",
       "  </thead>\n",
       "  <tbody>\n",
       "    <tr>\n",
       "      <th>GaussianMixture #0</th>\n",
       "      <td>{'covariance_type': 'full', 'init_params': 'km...</td>\n",
       "      <td>[1.0, 0.0, 0.0, 1.0, 1.0, 1.0, 0.0, 0.0, 1.0, ...</td>\n",
       "      <td>2</td>\n",
       "      <td>5.265876</td>\n",
       "    </tr>\n",
       "    <tr>\n",
       "      <th>GaussianMixture #1</th>\n",
       "      <td>{'covariance_type': 'full', 'init_params': 'km...</td>\n",
       "      <td>[1.0, 0.0, 1.0, 1.0, 1.0, 1.0, 0.0, 1.0, 0.0, ...</td>\n",
       "      <td>2</td>\n",
       "      <td>4.951986</td>\n",
       "    </tr>\n",
       "    <tr>\n",
       "      <th>GaussianMixture #2</th>\n",
       "      <td>{'covariance_type': 'full', 'init_params': 'km...</td>\n",
       "      <td>[1.0, 0.0, 1.0, 1.0, 0.0, 0.0, 1.0, 1.0, 1.0, ...</td>\n",
       "      <td>2</td>\n",
       "      <td>5.529960</td>\n",
       "    </tr>\n",
       "    <tr>\n",
       "      <th>GaussianMixture #3</th>\n",
       "      <td>{'covariance_type': 'full', 'init_params': 'km...</td>\n",
       "      <td>[1.0, 0.0, 0.0, 1.0, 0.0, 1.0, 0.0, 1.0, 1.0, ...</td>\n",
       "      <td>2</td>\n",
       "      <td>5.538596</td>\n",
       "    </tr>\n",
       "    <tr>\n",
       "      <th>GaussianMixture #4</th>\n",
       "      <td>{'covariance_type': 'full', 'init_params': 'km...</td>\n",
       "      <td>[1.0, 1.0, 1.0, 1.0, 1.0, 1.0, 1.0, 1.0, 1.0, ...</td>\n",
       "      <td>2</td>\n",
       "      <td>2.588764</td>\n",
       "    </tr>\n",
       "  </tbody>\n",
       "</table>\n",
       "</div>"
      ],
      "text/plain": [
       "                                                     clusterer_params  \\\n",
       "clusterer_id                                                            \n",
       "GaussianMixture #0  {'covariance_type': 'full', 'init_params': 'km...   \n",
       "GaussianMixture #1  {'covariance_type': 'full', 'init_params': 'km...   \n",
       "GaussianMixture #2  {'covariance_type': 'full', 'init_params': 'km...   \n",
       "GaussianMixture #3  {'covariance_type': 'full', 'init_params': 'km...   \n",
       "GaussianMixture #4  {'covariance_type': 'full', 'init_params': 'km...   \n",
       "\n",
       "                                                            partition  \\\n",
       "clusterer_id                                                            \n",
       "GaussianMixture #0  [1.0, 0.0, 0.0, 1.0, 1.0, 1.0, 0.0, 0.0, 1.0, ...   \n",
       "GaussianMixture #1  [1.0, 0.0, 1.0, 1.0, 1.0, 1.0, 0.0, 1.0, 0.0, ...   \n",
       "GaussianMixture #2  [1.0, 0.0, 1.0, 1.0, 0.0, 0.0, 1.0, 1.0, 1.0, ...   \n",
       "GaussianMixture #3  [1.0, 0.0, 0.0, 1.0, 0.0, 1.0, 0.0, 1.0, 1.0, ...   \n",
       "GaussianMixture #4  [1.0, 1.0, 1.0, 1.0, 1.0, 1.0, 1.0, 1.0, 1.0, ...   \n",
       "\n",
       "                    n_clusters  ch_score  \n",
       "clusterer_id                              \n",
       "GaussianMixture #0           2  5.265876  \n",
       "GaussianMixture #1           2  4.951986  \n",
       "GaussianMixture #2           2  5.529960  \n",
       "GaussianMixture #3           2  5.538596  \n",
       "GaussianMixture #4           2  2.588764  "
      ]
     },
     "execution_count": 36,
     "metadata": {},
     "output_type": "execute_result"
    }
   ],
   "source": [
    "ensemble.head()"
   ]
  },
  {
   "cell_type": "markdown",
   "id": "d8e6338c",
   "metadata": {
    "papermill": {
     "duration": 0.017432,
     "end_time": "2022-09-12T23:21:41.719610",
     "exception": false,
     "start_time": "2022-09-12T23:21:41.702178",
     "status": "completed"
    },
    "tags": []
   },
   "source": [
    "## Save"
   ]
  },
  {
   "cell_type": "code",
   "execution_count": 37,
   "id": "0d669ad1",
   "metadata": {
    "execution": {
     "iopub.execute_input": "2022-09-12T23:21:41.755590Z",
     "iopub.status.busy": "2022-09-12T23:21:41.755326Z",
     "iopub.status.idle": "2022-09-12T23:21:41.775005Z",
     "shell.execute_reply": "2022-09-12T23:21:41.774443Z"
    },
    "papermill": {
     "duration": 0.039131,
     "end_time": "2022-09-12T23:21:41.776263",
     "exception": false,
     "start_time": "2022-09-12T23:21:41.737132",
     "status": "completed"
    },
    "tags": []
   },
   "outputs": [
    {
     "data": {
      "text/plain": [
       "PosixPath('/opt/data/results/clustering/null_sims/runs/z_score_std-projection-smultixcan-efo_partial-mashr-zscores/GaussianMixture-COVARIANCE_TYPE_full-K_MAX_60-K_MIN_2-N_INIT_10-N_REPS_PER_K_5.pkl')"
      ]
     },
     "metadata": {},
     "output_type": "display_data"
    }
   ],
   "source": [
    "output_filename = Path(\n",
    "    RESULTS_DIR,\n",
    "    generate_result_set_name(\n",
    "        CLUSTERING_OPTIONS,\n",
    "        prefix=f\"{clustering_method_name}-\",\n",
    "        suffix=\".pkl\",\n",
    "    ),\n",
    ").resolve()\n",
    "display(output_filename)"
   ]
  },
  {
   "cell_type": "code",
   "execution_count": 38,
   "id": "18060adc",
   "metadata": {
    "execution": {
     "iopub.execute_input": "2022-09-12T23:21:41.813261Z",
     "iopub.status.busy": "2022-09-12T23:21:41.813050Z",
     "iopub.status.idle": "2022-09-12T23:21:41.840002Z",
     "shell.execute_reply": "2022-09-12T23:21:41.839382Z"
    },
    "papermill": {
     "duration": 0.046911,
     "end_time": "2022-09-12T23:21:41.841535",
     "exception": false,
     "start_time": "2022-09-12T23:21:41.794624",
     "status": "completed"
    },
    "tags": []
   },
   "outputs": [],
   "source": [
    "ensemble.to_pickle(output_filename)"
   ]
  },
  {
   "cell_type": "markdown",
   "id": "4936a3df",
   "metadata": {
    "papermill": {
     "duration": 0.01762,
     "end_time": "2022-09-12T23:21:41.879044",
     "exception": false,
     "start_time": "2022-09-12T23:21:41.861424",
     "status": "completed"
    },
    "tags": []
   },
   "source": [
    "# Cluster quality"
   ]
  },
  {
   "cell_type": "code",
   "execution_count": 39,
   "id": "0d2e3f1f",
   "metadata": {
    "execution": {
     "iopub.execute_input": "2022-09-12T23:21:41.915262Z",
     "iopub.status.busy": "2022-09-12T23:21:41.915054Z",
     "iopub.status.idle": "2022-09-12T23:21:41.938801Z",
     "shell.execute_reply": "2022-09-12T23:21:41.938282Z"
    },
    "papermill": {
     "duration": 0.04336,
     "end_time": "2022-09-12T23:21:41.940017",
     "exception": false,
     "start_time": "2022-09-12T23:21:41.896657",
     "status": "completed"
    },
    "tags": []
   },
   "outputs": [
    {
     "data": {
      "text/html": [
       "<div>\n",
       "<style scoped>\n",
       "    .dataframe tbody tr th:only-of-type {\n",
       "        vertical-align: middle;\n",
       "    }\n",
       "\n",
       "    .dataframe tbody tr th {\n",
       "        vertical-align: top;\n",
       "    }\n",
       "\n",
       "    .dataframe thead th {\n",
       "        text-align: right;\n",
       "    }\n",
       "</style>\n",
       "<table border=\"1\" class=\"dataframe\">\n",
       "  <thead>\n",
       "    <tr style=\"text-align: right;\">\n",
       "      <th></th>\n",
       "      <th>ch_score</th>\n",
       "    </tr>\n",
       "    <tr>\n",
       "      <th>n_clusters</th>\n",
       "      <th></th>\n",
       "    </tr>\n",
       "  </thead>\n",
       "  <tbody>\n",
       "    <tr>\n",
       "      <th>2</th>\n",
       "      <td>4.775036</td>\n",
       "    </tr>\n",
       "    <tr>\n",
       "      <th>3</th>\n",
       "      <td>4.568864</td>\n",
       "    </tr>\n",
       "    <tr>\n",
       "      <th>4</th>\n",
       "      <td>4.143114</td>\n",
       "    </tr>\n",
       "    <tr>\n",
       "      <th>5</th>\n",
       "      <td>3.838441</td>\n",
       "    </tr>\n",
       "    <tr>\n",
       "      <th>6</th>\n",
       "      <td>3.587625</td>\n",
       "    </tr>\n",
       "    <tr>\n",
       "      <th>7</th>\n",
       "      <td>3.387668</td>\n",
       "    </tr>\n",
       "    <tr>\n",
       "      <th>8</th>\n",
       "      <td>2.919031</td>\n",
       "    </tr>\n",
       "    <tr>\n",
       "      <th>9</th>\n",
       "      <td>3.022786</td>\n",
       "    </tr>\n",
       "    <tr>\n",
       "      <th>10</th>\n",
       "      <td>2.875134</td>\n",
       "    </tr>\n",
       "    <tr>\n",
       "      <th>11</th>\n",
       "      <td>2.725631</td>\n",
       "    </tr>\n",
       "    <tr>\n",
       "      <th>12</th>\n",
       "      <td>2.711058</td>\n",
       "    </tr>\n",
       "    <tr>\n",
       "      <th>13</th>\n",
       "      <td>2.532667</td>\n",
       "    </tr>\n",
       "    <tr>\n",
       "      <th>14</th>\n",
       "      <td>2.329836</td>\n",
       "    </tr>\n",
       "    <tr>\n",
       "      <th>15</th>\n",
       "      <td>2.200045</td>\n",
       "    </tr>\n",
       "    <tr>\n",
       "      <th>16</th>\n",
       "      <td>2.346472</td>\n",
       "    </tr>\n",
       "    <tr>\n",
       "      <th>17</th>\n",
       "      <td>2.157141</td>\n",
       "    </tr>\n",
       "    <tr>\n",
       "      <th>18</th>\n",
       "      <td>2.076991</td>\n",
       "    </tr>\n",
       "    <tr>\n",
       "      <th>19</th>\n",
       "      <td>2.199871</td>\n",
       "    </tr>\n",
       "    <tr>\n",
       "      <th>20</th>\n",
       "      <td>2.151699</td>\n",
       "    </tr>\n",
       "    <tr>\n",
       "      <th>21</th>\n",
       "      <td>1.818354</td>\n",
       "    </tr>\n",
       "    <tr>\n",
       "      <th>22</th>\n",
       "      <td>1.819594</td>\n",
       "    </tr>\n",
       "    <tr>\n",
       "      <th>23</th>\n",
       "      <td>1.630177</td>\n",
       "    </tr>\n",
       "    <tr>\n",
       "      <th>24</th>\n",
       "      <td>1.486639</td>\n",
       "    </tr>\n",
       "    <tr>\n",
       "      <th>25</th>\n",
       "      <td>1.656540</td>\n",
       "    </tr>\n",
       "    <tr>\n",
       "      <th>26</th>\n",
       "      <td>1.650378</td>\n",
       "    </tr>\n",
       "    <tr>\n",
       "      <th>27</th>\n",
       "      <td>1.611698</td>\n",
       "    </tr>\n",
       "    <tr>\n",
       "      <th>28</th>\n",
       "      <td>1.537579</td>\n",
       "    </tr>\n",
       "    <tr>\n",
       "      <th>29</th>\n",
       "      <td>1.568483</td>\n",
       "    </tr>\n",
       "    <tr>\n",
       "      <th>30</th>\n",
       "      <td>1.590704</td>\n",
       "    </tr>\n",
       "    <tr>\n",
       "      <th>31</th>\n",
       "      <td>1.616202</td>\n",
       "    </tr>\n",
       "    <tr>\n",
       "      <th>32</th>\n",
       "      <td>1.467715</td>\n",
       "    </tr>\n",
       "    <tr>\n",
       "      <th>33</th>\n",
       "      <td>1.485532</td>\n",
       "    </tr>\n",
       "    <tr>\n",
       "      <th>34</th>\n",
       "      <td>1.552164</td>\n",
       "    </tr>\n",
       "    <tr>\n",
       "      <th>35</th>\n",
       "      <td>1.506048</td>\n",
       "    </tr>\n",
       "    <tr>\n",
       "      <th>36</th>\n",
       "      <td>1.590415</td>\n",
       "    </tr>\n",
       "    <tr>\n",
       "      <th>37</th>\n",
       "      <td>1.542756</td>\n",
       "    </tr>\n",
       "    <tr>\n",
       "      <th>38</th>\n",
       "      <td>1.452035</td>\n",
       "    </tr>\n",
       "    <tr>\n",
       "      <th>39</th>\n",
       "      <td>1.523941</td>\n",
       "    </tr>\n",
       "    <tr>\n",
       "      <th>40</th>\n",
       "      <td>1.470942</td>\n",
       "    </tr>\n",
       "    <tr>\n",
       "      <th>41</th>\n",
       "      <td>1.502339</td>\n",
       "    </tr>\n",
       "    <tr>\n",
       "      <th>42</th>\n",
       "      <td>1.534007</td>\n",
       "    </tr>\n",
       "    <tr>\n",
       "      <th>43</th>\n",
       "      <td>1.559346</td>\n",
       "    </tr>\n",
       "    <tr>\n",
       "      <th>44</th>\n",
       "      <td>1.528161</td>\n",
       "    </tr>\n",
       "    <tr>\n",
       "      <th>45</th>\n",
       "      <td>1.492315</td>\n",
       "    </tr>\n",
       "    <tr>\n",
       "      <th>46</th>\n",
       "      <td>1.558749</td>\n",
       "    </tr>\n",
       "    <tr>\n",
       "      <th>47</th>\n",
       "      <td>1.518371</td>\n",
       "    </tr>\n",
       "    <tr>\n",
       "      <th>48</th>\n",
       "      <td>1.450385</td>\n",
       "    </tr>\n",
       "    <tr>\n",
       "      <th>49</th>\n",
       "      <td>1.492210</td>\n",
       "    </tr>\n",
       "    <tr>\n",
       "      <th>50</th>\n",
       "      <td>1.522282</td>\n",
       "    </tr>\n",
       "    <tr>\n",
       "      <th>51</th>\n",
       "      <td>1.564362</td>\n",
       "    </tr>\n",
       "    <tr>\n",
       "      <th>52</th>\n",
       "      <td>1.566171</td>\n",
       "    </tr>\n",
       "    <tr>\n",
       "      <th>53</th>\n",
       "      <td>1.518043</td>\n",
       "    </tr>\n",
       "    <tr>\n",
       "      <th>54</th>\n",
       "      <td>1.533817</td>\n",
       "    </tr>\n",
       "    <tr>\n",
       "      <th>55</th>\n",
       "      <td>1.453796</td>\n",
       "    </tr>\n",
       "    <tr>\n",
       "      <th>56</th>\n",
       "      <td>1.464346</td>\n",
       "    </tr>\n",
       "    <tr>\n",
       "      <th>57</th>\n",
       "      <td>1.495570</td>\n",
       "    </tr>\n",
       "    <tr>\n",
       "      <th>58</th>\n",
       "      <td>1.562592</td>\n",
       "    </tr>\n",
       "    <tr>\n",
       "      <th>59</th>\n",
       "      <td>1.523583</td>\n",
       "    </tr>\n",
       "    <tr>\n",
       "      <th>60</th>\n",
       "      <td>1.552618</td>\n",
       "    </tr>\n",
       "  </tbody>\n",
       "</table>\n",
       "</div>"
      ],
      "text/plain": [
       "            ch_score\n",
       "n_clusters          \n",
       "2           4.775036\n",
       "3           4.568864\n",
       "4           4.143114\n",
       "5           3.838441\n",
       "6           3.587625\n",
       "7           3.387668\n",
       "8           2.919031\n",
       "9           3.022786\n",
       "10          2.875134\n",
       "11          2.725631\n",
       "12          2.711058\n",
       "13          2.532667\n",
       "14          2.329836\n",
       "15          2.200045\n",
       "16          2.346472\n",
       "17          2.157141\n",
       "18          2.076991\n",
       "19          2.199871\n",
       "20          2.151699\n",
       "21          1.818354\n",
       "22          1.819594\n",
       "23          1.630177\n",
       "24          1.486639\n",
       "25          1.656540\n",
       "26          1.650378\n",
       "27          1.611698\n",
       "28          1.537579\n",
       "29          1.568483\n",
       "30          1.590704\n",
       "31          1.616202\n",
       "32          1.467715\n",
       "33          1.485532\n",
       "34          1.552164\n",
       "35          1.506048\n",
       "36          1.590415\n",
       "37          1.542756\n",
       "38          1.452035\n",
       "39          1.523941\n",
       "40          1.470942\n",
       "41          1.502339\n",
       "42          1.534007\n",
       "43          1.559346\n",
       "44          1.528161\n",
       "45          1.492315\n",
       "46          1.558749\n",
       "47          1.518371\n",
       "48          1.450385\n",
       "49          1.492210\n",
       "50          1.522282\n",
       "51          1.564362\n",
       "52          1.566171\n",
       "53          1.518043\n",
       "54          1.533817\n",
       "55          1.453796\n",
       "56          1.464346\n",
       "57          1.495570\n",
       "58          1.562592\n",
       "59          1.523583\n",
       "60          1.552618"
      ]
     },
     "metadata": {},
     "output_type": "display_data"
    }
   ],
   "source": [
    "with pd.option_context(\"display.max_rows\", None, \"display.max_columns\", None):\n",
    "    _df = ensemble.groupby([\"n_clusters\"]).mean()\n",
    "    display(_df)"
   ]
  },
  {
   "cell_type": "code",
   "execution_count": 40,
   "id": "b5c32f06",
   "metadata": {
    "execution": {
     "iopub.execute_input": "2022-09-12T23:21:41.978660Z",
     "iopub.status.busy": "2022-09-12T23:21:41.978449Z",
     "iopub.status.idle": "2022-09-12T23:21:44.969572Z",
     "shell.execute_reply": "2022-09-12T23:21:44.969048Z"
    },
    "papermill": {
     "duration": 3.011972,
     "end_time": "2022-09-12T23:21:44.971136",
     "exception": false,
     "start_time": "2022-09-12T23:21:41.959164",
     "status": "completed"
    },
    "tags": []
   },
   "outputs": [
    {
     "data": {
      "image/png": "[encoded data removed]",
      "text/plain": [
       "<Figure size 1008x432 with 1 Axes>"
      ]
     },
     "metadata": {},
     "output_type": "display_data"
    }
   ],
   "source": [
    "with sns.plotting_context(\"talk\", font_scale=0.75), sns.axes_style(\n",
    "    \"whitegrid\", {\"grid.linestyle\": \"--\"}\n",
    "):\n",
    "    fig = plt.figure(figsize=(14, 6))\n",
    "    ax = sns.pointplot(data=ensemble, x=\"n_clusters\", y=\"ch_score\")\n",
    "    ax.set_ylabel(\"Calinski-Harabasz index\")\n",
    "    ax.set_xlabel(\"Number of clusters ($k$)\")\n",
    "    ax.set_xticklabels(ax.get_xticklabels(), rotation=45)\n",
    "    plt.grid(True)\n",
    "    plt.tight_layout()"
   ]
  },
  {
   "cell_type": "markdown",
   "id": "2b647848",
   "metadata": {
    "papermill": {
     "duration": 0.01897,
     "end_time": "2022-09-12T23:21:45.009665",
     "exception": false,
     "start_time": "2022-09-12T23:21:44.990695",
     "status": "completed"
    },
    "tags": []
   },
   "source": [
    "# Stability"
   ]
  },
  {
   "cell_type": "markdown",
   "id": "79e1e04a",
   "metadata": {
    "papermill": {
     "duration": 0.019134,
     "end_time": "2022-09-12T23:21:45.047567",
     "exception": false,
     "start_time": "2022-09-12T23:21:45.028433",
     "status": "completed"
    },
    "tags": []
   },
   "source": [
    "## Group ensemble by n_clusters"
   ]
  },
  {
   "cell_type": "code",
   "execution_count": 41,
   "id": "171802e3",
   "metadata": {
    "execution": {
     "iopub.execute_input": "2022-09-12T23:21:45.086311Z",
     "iopub.status.busy": "2022-09-12T23:21:45.086090Z",
     "iopub.status.idle": "2022-09-12T23:21:45.119003Z",
     "shell.execute_reply": "2022-09-12T23:21:45.118455Z"
    },
    "papermill": {
     "duration": 0.054295,
     "end_time": "2022-09-12T23:21:45.120582",
     "exception": false,
     "start_time": "2022-09-12T23:21:45.066287",
     "status": "completed"
    },
    "tags": []
   },
   "outputs": [],
   "source": [
    "parts = ensemble.groupby(\"n_clusters\").apply(\n",
    "    lambda x: np.concatenate(x[\"partition\"].apply(lambda x: x.reshape(1, -1)), axis=0)\n",
    ")"
   ]
  },
  {
   "cell_type": "code",
   "execution_count": 42,
   "id": "8ed815d2",
   "metadata": {
    "execution": {
     "iopub.execute_input": "2022-09-12T23:21:45.160768Z",
     "iopub.status.busy": "2022-09-12T23:21:45.160211Z",
     "iopub.status.idle": "2022-09-12T23:21:45.191047Z",
     "shell.execute_reply": "2022-09-12T23:21:45.190530Z"
    },
    "papermill": {
     "duration": 0.052289,
     "end_time": "2022-09-12T23:21:45.192326",
     "exception": false,
     "start_time": "2022-09-12T23:21:45.140037",
     "status": "completed"
    },
    "tags": []
   },
   "outputs": [
    {
     "data": {
      "text/plain": [
       "n_clusters\n",
       "2    [[1.0, 0.0, 0.0, 1.0, 1.0, 1.0, 0.0, 0.0, 1.0,...\n",
       "3    [[1.0, 1.0, 1.0, 2.0, 1.0, 1.0, 2.0, 2.0, 2.0,...\n",
       "4    [[3.0, 1.0, 1.0, 2.0, 2.0, 1.0, 2.0, 3.0, 2.0,...\n",
       "5    [[0.0, 3.0, 3.0, 4.0, 0.0, 3.0, 1.0, 4.0, 4.0,...\n",
       "6    [[2.0, 0.0, 1.0, 2.0, 0.0, 2.0, 0.0, 5.0, 2.0,...\n",
       "dtype: object"
      ]
     },
     "execution_count": 42,
     "metadata": {},
     "output_type": "execute_result"
    }
   ],
   "source": [
    "parts.head()"
   ]
  },
  {
   "cell_type": "code",
   "execution_count": 43,
   "id": "fde0863b",
   "metadata": {
    "execution": {
     "iopub.execute_input": "2022-09-12T23:21:45.231605Z",
     "iopub.status.busy": "2022-09-12T23:21:45.231319Z",
     "iopub.status.idle": "2022-09-12T23:21:45.250585Z",
     "shell.execute_reply": "2022-09-12T23:21:45.250136Z"
    },
    "papermill": {
     "duration": 0.040269,
     "end_time": "2022-09-12T23:21:45.251992",
     "exception": false,
     "start_time": "2022-09-12T23:21:45.211723",
     "status": "completed"
    },
    "tags": []
   },
   "outputs": [],
   "source": [
    "assert np.all(\n",
    "    [\n",
    "        parts.loc[k].shape == (CLUSTERING_OPTIONS[\"N_REPS_PER_K\"], data.shape[0])\n",
    "        for k in parts.index\n",
    "    ]\n",
    ")"
   ]
  },
  {
   "cell_type": "markdown",
   "id": "490cde94",
   "metadata": {
    "papermill": {
     "duration": 0.019703,
     "end_time": "2022-09-12T23:21:45.291841",
     "exception": false,
     "start_time": "2022-09-12T23:21:45.272138",
     "status": "completed"
    },
    "tags": []
   },
   "source": [
    "## Compute stability"
   ]
  },
  {
   "cell_type": "code",
   "execution_count": 44,
   "id": "9e228d9d",
   "metadata": {
    "execution": {
     "iopub.execute_input": "2022-09-12T23:21:45.344101Z",
     "iopub.status.busy": "2022-09-12T23:21:45.343878Z",
     "iopub.status.idle": "2022-09-12T23:21:45.362571Z",
     "shell.execute_reply": "2022-09-12T23:21:45.362047Z"
    },
    "papermill": {
     "duration": 0.047747,
     "end_time": "2022-09-12T23:21:45.363933",
     "exception": false,
     "start_time": "2022-09-12T23:21:45.316186",
     "status": "completed"
    },
    "tags": []
   },
   "outputs": [],
   "source": [
    "from sklearn.metrics import adjusted_rand_score as ari\n",
    "from scipy.spatial.distance import pdist"
   ]
  },
  {
   "cell_type": "code",
   "execution_count": 45,
   "id": "f01b01d6",
   "metadata": {
    "execution": {
     "iopub.execute_input": "2022-09-12T23:21:45.404869Z",
     "iopub.status.busy": "2022-09-12T23:21:45.404659Z",
     "iopub.status.idle": "2022-09-12T23:21:46.069395Z",
     "shell.execute_reply": "2022-09-12T23:21:46.068742Z"
    },
    "papermill": {
     "duration": 0.686937,
     "end_time": "2022-09-12T23:21:46.071137",
     "exception": false,
     "start_time": "2022-09-12T23:21:45.384200",
     "status": "completed"
    },
    "tags": []
   },
   "outputs": [],
   "source": [
    "parts_ari = pd.Series(\n",
    "    {k: pdist(parts.loc[k], metric=ari) for k in parts.index}, name=\"k\"\n",
    ")"
   ]
  },
  {
   "cell_type": "code",
   "execution_count": 46,
   "id": "52f03a58",
   "metadata": {
    "execution": {
     "iopub.execute_input": "2022-09-12T23:21:46.110870Z",
     "iopub.status.busy": "2022-09-12T23:21:46.110661Z",
     "iopub.status.idle": "2022-09-12T23:21:46.131698Z",
     "shell.execute_reply": "2022-09-12T23:21:46.131119Z"
    },
    "papermill": {
     "duration": 0.042312,
     "end_time": "2022-09-12T23:21:46.133036",
     "exception": false,
     "start_time": "2022-09-12T23:21:46.090724",
     "status": "completed"
    },
    "tags": []
   },
   "outputs": [
    {
     "data": {
      "text/plain": [
       "60    0.022633\n",
       "51    0.019729\n",
       "22    0.014194\n",
       "59    0.013924\n",
       "57    0.013392\n",
       "50    0.013235\n",
       "44    0.012292\n",
       "52    0.012095\n",
       "30    0.011823\n",
       "39    0.011325\n",
       "53    0.011183\n",
       "56    0.011123\n",
       "33    0.010384\n",
       "45    0.010160\n",
       "2     0.009920\n",
       "Name: k, dtype: float64"
      ]
     },
     "metadata": {},
     "output_type": "display_data"
    }
   ],
   "source": [
    "parts_ari_stability = parts_ari.apply(lambda x: x.mean())\n",
    "display(parts_ari_stability.sort_values(ascending=False).head(15))"
   ]
  },
  {
   "cell_type": "code",
   "execution_count": 47,
   "id": "7207b041",
   "metadata": {
    "execution": {
     "iopub.execute_input": "2022-09-12T23:21:46.173240Z",
     "iopub.status.busy": "2022-09-12T23:21:46.173031Z",
     "iopub.status.idle": "2022-09-12T23:21:46.198953Z",
     "shell.execute_reply": "2022-09-12T23:21:46.198333Z"
    },
    "papermill": {
     "duration": 0.047527,
     "end_time": "2022-09-12T23:21:46.200283",
     "exception": false,
     "start_time": "2022-09-12T23:21:46.152756",
     "status": "completed"
    },
    "tags": []
   },
   "outputs": [],
   "source": [
    "parts_ari_df = pd.DataFrame.from_records(parts_ari.tolist()).set_index(\n",
    "    parts_ari.index.copy()\n",
    ")"
   ]
  },
  {
   "cell_type": "code",
   "execution_count": 48,
   "id": "c0a164c4",
   "metadata": {
    "execution": {
     "iopub.execute_input": "2022-09-12T23:21:46.240637Z",
     "iopub.status.busy": "2022-09-12T23:21:46.240409Z",
     "iopub.status.idle": "2022-09-12T23:21:46.259506Z",
     "shell.execute_reply": "2022-09-12T23:21:46.258965Z"
    },
    "papermill": {
     "duration": 0.040326,
     "end_time": "2022-09-12T23:21:46.260784",
     "exception": false,
     "start_time": "2022-09-12T23:21:46.220458",
     "status": "completed"
    },
    "tags": []
   },
   "outputs": [
    {
     "data": {
      "text/plain": [
       "(59, 10)"
      ]
     },
     "execution_count": 48,
     "metadata": {},
     "output_type": "execute_result"
    }
   ],
   "source": [
    "parts_ari_df.shape"
   ]
  },
  {
   "cell_type": "code",
   "execution_count": 49,
   "id": "da0f97ff",
   "metadata": {
    "execution": {
     "iopub.execute_input": "2022-09-12T23:21:46.301152Z",
     "iopub.status.busy": "2022-09-12T23:21:46.300946Z",
     "iopub.status.idle": "2022-09-12T23:21:46.320039Z",
     "shell.execute_reply": "2022-09-12T23:21:46.319467Z"
    },
    "papermill": {
     "duration": 0.040509,
     "end_time": "2022-09-12T23:21:46.321350",
     "exception": false,
     "start_time": "2022-09-12T23:21:46.280841",
     "status": "completed"
    },
    "tags": []
   },
   "outputs": [],
   "source": [
    "assert (\n",
    "    int(\n",
    "        (CLUSTERING_OPTIONS[\"N_REPS_PER_K\"] * (CLUSTERING_OPTIONS[\"N_REPS_PER_K\"] - 1))\n",
    "        / 2\n",
    "    )\n",
    "    == parts_ari_df.shape[1]\n",
    ")"
   ]
  },
  {
   "cell_type": "code",
   "execution_count": 50,
   "id": "99f5d721",
   "metadata": {
    "execution": {
     "iopub.execute_input": "2022-09-12T23:21:46.363325Z",
     "iopub.status.busy": "2022-09-12T23:21:46.362673Z",
     "iopub.status.idle": "2022-09-12T23:21:46.387439Z",
     "shell.execute_reply": "2022-09-12T23:21:46.386905Z"
    },
    "papermill": {
     "duration": 0.046474,
     "end_time": "2022-09-12T23:21:46.388666",
     "exception": false,
     "start_time": "2022-09-12T23:21:46.342192",
     "status": "completed"
    },
    "tags": []
   },
   "outputs": [
    {
     "data": {
      "text/html": [
       "<div>\n",
       "<style scoped>\n",
       "    .dataframe tbody tr th:only-of-type {\n",
       "        vertical-align: middle;\n",
       "    }\n",
       "\n",
       "    .dataframe tbody tr th {\n",
       "        vertical-align: top;\n",
       "    }\n",
       "\n",
       "    .dataframe thead th {\n",
       "        text-align: right;\n",
       "    }\n",
       "</style>\n",
       "<table border=\"1\" class=\"dataframe\">\n",
       "  <thead>\n",
       "    <tr style=\"text-align: right;\">\n",
       "      <th></th>\n",
       "      <th>0</th>\n",
       "      <th>1</th>\n",
       "      <th>2</th>\n",
       "      <th>3</th>\n",
       "      <th>4</th>\n",
       "      <th>5</th>\n",
       "      <th>6</th>\n",
       "      <th>7</th>\n",
       "      <th>8</th>\n",
       "      <th>9</th>\n",
       "    </tr>\n",
       "  </thead>\n",
       "  <tbody>\n",
       "    <tr>\n",
       "      <th>2</th>\n",
       "      <td>0.080415</td>\n",
       "      <td>-0.000943</td>\n",
       "      <td>-0.003999</td>\n",
       "      <td>0.002199</td>\n",
       "      <td>-0.003548</td>\n",
       "      <td>0.001164</td>\n",
       "      <td>0.020408</td>\n",
       "      <td>-0.002510</td>\n",
       "      <td>-0.002925</td>\n",
       "      <td>0.008942</td>\n",
       "    </tr>\n",
       "    <tr>\n",
       "      <th>3</th>\n",
       "      <td>0.001362</td>\n",
       "      <td>-0.001571</td>\n",
       "      <td>0.002491</td>\n",
       "      <td>0.000689</td>\n",
       "      <td>0.007170</td>\n",
       "      <td>0.004874</td>\n",
       "      <td>0.008164</td>\n",
       "      <td>0.005165</td>\n",
       "      <td>-0.002162</td>\n",
       "      <td>-0.000689</td>\n",
       "    </tr>\n",
       "    <tr>\n",
       "      <th>4</th>\n",
       "      <td>0.013931</td>\n",
       "      <td>0.009039</td>\n",
       "      <td>0.003912</td>\n",
       "      <td>-0.007228</td>\n",
       "      <td>-0.001883</td>\n",
       "      <td>0.002822</td>\n",
       "      <td>0.006454</td>\n",
       "      <td>0.004289</td>\n",
       "      <td>-0.006087</td>\n",
       "      <td>0.004125</td>\n",
       "    </tr>\n",
       "    <tr>\n",
       "      <th>5</th>\n",
       "      <td>0.004832</td>\n",
       "      <td>0.009729</td>\n",
       "      <td>0.008127</td>\n",
       "      <td>0.005181</td>\n",
       "      <td>-0.004017</td>\n",
       "      <td>0.003345</td>\n",
       "      <td>0.001698</td>\n",
       "      <td>0.008616</td>\n",
       "      <td>0.005894</td>\n",
       "      <td>0.004816</td>\n",
       "    </tr>\n",
       "    <tr>\n",
       "      <th>6</th>\n",
       "      <td>0.000046</td>\n",
       "      <td>0.005453</td>\n",
       "      <td>0.006675</td>\n",
       "      <td>0.003858</td>\n",
       "      <td>-0.001367</td>\n",
       "      <td>0.005015</td>\n",
       "      <td>0.002355</td>\n",
       "      <td>0.004549</td>\n",
       "      <td>0.004504</td>\n",
       "      <td>0.003165</td>\n",
       "    </tr>\n",
       "  </tbody>\n",
       "</table>\n",
       "</div>"
      ],
      "text/plain": [
       "          0         1         2         3         4         5         6  \\\n",
       "2  0.080415 -0.000943 -0.003999  0.002199 -0.003548  0.001164  0.020408   \n",
       "3  0.001362 -0.001571  0.002491  0.000689  0.007170  0.004874  0.008164   \n",
       "4  0.013931  0.009039  0.003912 -0.007228 -0.001883  0.002822  0.006454   \n",
       "5  0.004832  0.009729  0.008127  0.005181 -0.004017  0.003345  0.001698   \n",
       "6  0.000046  0.005453  0.006675  0.003858 -0.001367  0.005015  0.002355   \n",
       "\n",
       "          7         8         9  \n",
       "2 -0.002510 -0.002925  0.008942  \n",
       "3  0.005165 -0.002162 -0.000689  \n",
       "4  0.004289 -0.006087  0.004125  \n",
       "5  0.008616  0.005894  0.004816  \n",
       "6  0.004549  0.004504  0.003165  "
      ]
     },
     "execution_count": 50,
     "metadata": {},
     "output_type": "execute_result"
    }
   ],
   "source": [
    "parts_ari_df.head()"
   ]
  },
  {
   "cell_type": "markdown",
   "id": "45761c33",
   "metadata": {
    "papermill": {
     "duration": 0.019825,
     "end_time": "2022-09-12T23:21:46.429677",
     "exception": false,
     "start_time": "2022-09-12T23:21:46.409852",
     "status": "completed"
    },
    "tags": []
   },
   "source": [
    "## Save"
   ]
  },
  {
   "cell_type": "code",
   "execution_count": 51,
   "id": "13a3e1ef",
   "metadata": {
    "execution": {
     "iopub.execute_input": "2022-09-12T23:21:46.470116Z",
     "iopub.status.busy": "2022-09-12T23:21:46.469274Z",
     "iopub.status.idle": "2022-09-12T23:21:46.489901Z",
     "shell.execute_reply": "2022-09-12T23:21:46.489460Z"
    },
    "papermill": {
     "duration": 0.042028,
     "end_time": "2022-09-12T23:21:46.491153",
     "exception": false,
     "start_time": "2022-09-12T23:21:46.449125",
     "status": "completed"
    },
    "tags": []
   },
   "outputs": [
    {
     "data": {
      "text/plain": [
       "PosixPath('/opt/data/results/clustering/null_sims/runs/z_score_std-projection-smultixcan-efo_partial-mashr-zscores/GaussianMixture-stability-COVARIANCE_TYPE_full-K_MAX_60-K_MIN_2-N_INIT_10-N_REPS_PER_K_5.pkl')"
      ]
     },
     "metadata": {},
     "output_type": "display_data"
    }
   ],
   "source": [
    "output_filename = Path(\n",
    "    RESULTS_DIR,\n",
    "    generate_result_set_name(\n",
    "        CLUSTERING_OPTIONS,\n",
    "        prefix=f\"{clustering_method_name}-stability-\",\n",
    "        suffix=\".pkl\",\n",
    "    ),\n",
    ").resolve()\n",
    "display(output_filename)"
   ]
  },
  {
   "cell_type": "code",
   "execution_count": 52,
   "id": "2aca0e7f",
   "metadata": {
    "execution": {
     "iopub.execute_input": "2022-09-12T23:21:46.533649Z",
     "iopub.status.busy": "2022-09-12T23:21:46.533439Z",
     "iopub.status.idle": "2022-09-12T23:21:46.552227Z",
     "shell.execute_reply": "2022-09-12T23:21:46.551651Z"
    },
    "papermill": {
     "duration": 0.041231,
     "end_time": "2022-09-12T23:21:46.553661",
     "exception": false,
     "start_time": "2022-09-12T23:21:46.512430",
     "status": "completed"
    },
    "tags": []
   },
   "outputs": [],
   "source": [
    "parts_ari_df.to_pickle(output_filename)"
   ]
  },
  {
   "cell_type": "markdown",
   "id": "9037a642",
   "metadata": {
    "papermill": {
     "duration": 0.019512,
     "end_time": "2022-09-12T23:21:46.594282",
     "exception": false,
     "start_time": "2022-09-12T23:21:46.574770",
     "status": "completed"
    },
    "tags": []
   },
   "source": [
    "## Stability plot"
   ]
  },
  {
   "cell_type": "code",
   "execution_count": 53,
   "id": "e2233568",
   "metadata": {
    "execution": {
     "iopub.execute_input": "2022-09-12T23:21:46.635136Z",
     "iopub.status.busy": "2022-09-12T23:21:46.634917Z",
     "iopub.status.idle": "2022-09-12T23:21:46.655360Z",
     "shell.execute_reply": "2022-09-12T23:21:46.654854Z"
    },
    "papermill": {
     "duration": 0.042901,
     "end_time": "2022-09-12T23:21:46.656776",
     "exception": false,
     "start_time": "2022-09-12T23:21:46.613875",
     "status": "completed"
    },
    "tags": []
   },
   "outputs": [],
   "source": [
    "parts_ari_df_plot = (\n",
    "    parts_ari_df.stack()\n",
    "    .reset_index()\n",
    "    .rename(columns={\"level_0\": \"k\", \"level_1\": \"idx\", 0: \"ari\"})\n",
    ")"
   ]
  },
  {
   "cell_type": "code",
   "execution_count": 54,
   "id": "cc47125c",
   "metadata": {
    "execution": {
     "iopub.execute_input": "2022-09-12T23:21:46.697758Z",
     "iopub.status.busy": "2022-09-12T23:21:46.697544Z",
     "iopub.status.idle": "2022-09-12T23:21:46.717688Z",
     "shell.execute_reply": "2022-09-12T23:21:46.717198Z"
    },
    "papermill": {
     "duration": 0.041687,
     "end_time": "2022-09-12T23:21:46.718906",
     "exception": false,
     "start_time": "2022-09-12T23:21:46.677219",
     "status": "completed"
    },
    "tags": []
   },
   "outputs": [
    {
     "data": {
      "text/plain": [
       "k        int64\n",
       "idx      int64\n",
       "ari    float64\n",
       "dtype: object"
      ]
     },
     "execution_count": 54,
     "metadata": {},
     "output_type": "execute_result"
    }
   ],
   "source": [
    "parts_ari_df_plot.dtypes"
   ]
  },
  {
   "cell_type": "code",
   "execution_count": 55,
   "id": "f632f6a6",
   "metadata": {
    "execution": {
     "iopub.execute_input": "2022-09-12T23:21:46.760874Z",
     "iopub.status.busy": "2022-09-12T23:21:46.760654Z",
     "iopub.status.idle": "2022-09-12T23:21:46.781974Z",
     "shell.execute_reply": "2022-09-12T23:21:46.781515Z"
    },
    "papermill": {
     "duration": 0.043282,
     "end_time": "2022-09-12T23:21:46.783243",
     "exception": false,
     "start_time": "2022-09-12T23:21:46.739961",
     "status": "completed"
    },
    "tags": []
   },
   "outputs": [
    {
     "data": {
      "text/html": [
       "<div>\n",
       "<style scoped>\n",
       "    .dataframe tbody tr th:only-of-type {\n",
       "        vertical-align: middle;\n",
       "    }\n",
       "\n",
       "    .dataframe tbody tr th {\n",
       "        vertical-align: top;\n",
       "    }\n",
       "\n",
       "    .dataframe thead th {\n",
       "        text-align: right;\n",
       "    }\n",
       "</style>\n",
       "<table border=\"1\" class=\"dataframe\">\n",
       "  <thead>\n",
       "    <tr style=\"text-align: right;\">\n",
       "      <th></th>\n",
       "      <th>k</th>\n",
       "      <th>idx</th>\n",
       "      <th>ari</th>\n",
       "    </tr>\n",
       "  </thead>\n",
       "  <tbody>\n",
       "    <tr>\n",
       "      <th>0</th>\n",
       "      <td>2</td>\n",
       "      <td>0</td>\n",
       "      <td>0.080415</td>\n",
       "    </tr>\n",
       "    <tr>\n",
       "      <th>1</th>\n",
       "      <td>2</td>\n",
       "      <td>1</td>\n",
       "      <td>-0.000943</td>\n",
       "    </tr>\n",
       "    <tr>\n",
       "      <th>2</th>\n",
       "      <td>2</td>\n",
       "      <td>2</td>\n",
       "      <td>-0.003999</td>\n",
       "    </tr>\n",
       "    <tr>\n",
       "      <th>3</th>\n",
       "      <td>2</td>\n",
       "      <td>3</td>\n",
       "      <td>0.002199</td>\n",
       "    </tr>\n",
       "    <tr>\n",
       "      <th>4</th>\n",
       "      <td>2</td>\n",
       "      <td>4</td>\n",
       "      <td>-0.003548</td>\n",
       "    </tr>\n",
       "  </tbody>\n",
       "</table>\n",
       "</div>"
      ],
      "text/plain": [
       "   k  idx       ari\n",
       "0  2    0  0.080415\n",
       "1  2    1 -0.000943\n",
       "2  2    2 -0.003999\n",
       "3  2    3  0.002199\n",
       "4  2    4 -0.003548"
      ]
     },
     "execution_count": 55,
     "metadata": {},
     "output_type": "execute_result"
    }
   ],
   "source": [
    "parts_ari_df_plot.head()"
   ]
  },
  {
   "cell_type": "code",
   "execution_count": 56,
   "id": "75660a85",
   "metadata": {
    "execution": {
     "iopub.execute_input": "2022-09-12T23:21:46.825243Z",
     "iopub.status.busy": "2022-09-12T23:21:46.825034Z",
     "iopub.status.idle": "2022-09-12T23:21:49.646210Z",
     "shell.execute_reply": "2022-09-12T23:21:49.645620Z"
    },
    "papermill": {
     "duration": 2.843115,
     "end_time": "2022-09-12T23:21:49.647655",
     "exception": false,
     "start_time": "2022-09-12T23:21:46.804540",
     "status": "completed"
    },
    "tags": []
   },
   "outputs": [
    {
     "data": {
      "image/png": "[encoded data removed]",
      "text/plain": [
       "<Figure size 1008x432 with 1 Axes>"
      ]
     },
     "metadata": {},
     "output_type": "display_data"
    }
   ],
   "source": [
    "# with sns.axes_style('whitegrid', {'grid.linestyle': '--'}):\n",
    "with sns.plotting_context(\"talk\", font_scale=0.75), sns.axes_style(\n",
    "    \"whitegrid\", {\"grid.linestyle\": \"--\"}\n",
    "):\n",
    "    fig = plt.figure(figsize=(14, 6))\n",
    "    ax = sns.pointplot(data=parts_ari_df_plot, x=\"k\", y=\"ari\")\n",
    "    ax.set_ylabel(\"Averange ARI\")\n",
    "    ax.set_xlabel(\"Number of clusters ($k$)\")\n",
    "    ax.set_xticklabels(ax.get_xticklabels(), rotation=45)\n",
    "    #     ax.set_ylim(0.0, 1.0)\n",
    "    #     ax.set_xlim(CLUSTERING_OPTIONS['K_MIN'], CLUSTERING_OPTIONS['K_MAX'])\n",
    "    plt.grid(True)\n",
    "    plt.tight_layout()"
   ]
  },
  {
   "cell_type": "code",
   "execution_count": null,
   "id": "e43f0e92",
   "metadata": {
    "papermill": {
     "duration": 0.021171,
     "end_time": "2022-09-12T23:21:49.689884",
     "exception": false,
     "start_time": "2022-09-12T23:21:49.668713",
     "status": "completed"
    },
    "tags": []
   },
   "outputs": [],
   "source": []
  }
 ],
 "metadata": {
  "jupytext": {
   "cell_metadata_filter": "all,-execution,-papermill,-trusted",
   "formats": "ipynb,py//py:percent"
  },
  "kernelspec": {
   "display_name": "Python 3 (ipykernel)",
   "language": "python",
   "name": "python3"
  },
  "language_info": {
   "codemirror_mode": {
    "name": "ipython",
    "version": 3
   },
   "file_extension": ".py",
   "mimetype": "text/x-python",
   "name": "python",
   "nbconvert_exporter": "python",
   "pygments_lexer": "ipython3",
   "version": "3.8.13"
  },
  "papermill": {
   "default_parameters": {},
   "duration": 41155.112458,
   "end_time": "2022-09-12T23:21:50.071102",
   "environment_variables": {},
   "exception": null,
   "input_path": "nbs/13.1_cluster_analysis_null/14_00-gmm-z_score_std.ipynb",
   "output_path": "nbs/13.1_cluster_analysis_null/14_00-gmm-z_score_std.run.ipynb",
   "parameters": {},
   "start_time": "2022-09-12T11:55:54.958644",
   "version": "2.2.2"
  },
  "toc-autonumbering": true,
  "toc-showcode": false,
  "toc-showmarkdowntxt": false,
  "toc-showtags": false
 },
 "nbformat": 4,
 "nbformat_minor": 5
}
