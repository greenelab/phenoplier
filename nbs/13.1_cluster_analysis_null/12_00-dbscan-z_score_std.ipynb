{
 "cells": [
  {
   "cell_type": "markdown",
   "metadata": {
    "papermill": {
     "duration": 0.01765,
     "end_time": "2021-03-10T01:22:37.558782",
     "exception": false,
     "start_time": "2021-03-10T01:22:37.541132",
     "status": "completed"
    },
    "tags": []
   },
   "source": [
    "# Description"
   ]
  },
  {
   "cell_type": "markdown",
   "metadata": {
    "papermill": {
     "duration": 0.012666,
     "end_time": "2021-03-10T01:22:37.584322",
     "exception": false,
     "start_time": "2021-03-10T01:22:37.571656",
     "status": "completed"
    },
    "tags": []
   },
   "source": [
    "It runs DBSCAN on the `z_score_std` version of the data.\n",
    "\n",
    "The notebook explores different values for `min_samples` and `eps` (the main parameters of DBSCAN)."
   ]
  },
  {
   "cell_type": "markdown",
   "metadata": {
    "papermill": {
     "duration": 0.012876,
     "end_time": "2021-03-10T01:22:37.610355",
     "exception": false,
     "start_time": "2021-03-10T01:22:37.597479",
     "status": "completed"
    },
    "tags": []
   },
   "source": [
    "# Environment variables"
   ]
  },
  {
   "cell_type": "code",
   "execution_count": null,
   "metadata": {
    "papermill": {
     "duration": 0.028427,
     "end_time": "2021-03-10T01:22:37.651767",
     "exception": false,
     "start_time": "2021-03-10T01:22:37.623340",
     "status": "completed"
    },
    "tags": []
   },
   "outputs": [],
   "source": [
    "from IPython.display import display\n",
    "\n",
    "import conf\n",
    "\n",
    "N_JOBS = conf.GENERAL[\"N_JOBS\"]\n",
    "display(N_JOBS)"
   ]
  },
  {
   "cell_type": "code",
   "execution_count": null,
   "metadata": {
    "papermill": {
     "duration": 0.020561,
     "end_time": "2021-03-10T01:22:37.686780",
     "exception": false,
     "start_time": "2021-03-10T01:22:37.666219",
     "status": "completed"
    },
    "tags": []
   },
   "outputs": [],
   "source": [
    "%env MKL_NUM_THREADS=$N_JOBS\n",
    "%env OPEN_BLAS_NUM_THREADS=$N_JOBS\n",
    "%env NUMEXPR_NUM_THREADS=$N_JOBS\n",
    "%env OMP_NUM_THREADS=$N_JOBS"
   ]
  },
  {
   "cell_type": "markdown",
   "metadata": {
    "papermill": {
     "duration": 0.013793,
     "end_time": "2021-03-10T01:22:37.714875",
     "exception": false,
     "start_time": "2021-03-10T01:22:37.701082",
     "status": "completed"
    },
    "tags": []
   },
   "source": [
    "# Modules loading"
   ]
  },
  {
   "cell_type": "code",
   "execution_count": null,
   "metadata": {
    "papermill": {
     "duration": 0.023434,
     "end_time": "2021-03-10T01:22:37.751647",
     "exception": false,
     "start_time": "2021-03-10T01:22:37.728213",
     "status": "completed"
    },
    "tags": []
   },
   "outputs": [],
   "source": [
    "%load_ext autoreload\n",
    "%autoreload 2"
   ]
  },
  {
   "cell_type": "code",
   "execution_count": null,
   "metadata": {
    "papermill": {
     "duration": 0.674698,
     "end_time": "2021-03-10T01:22:38.440425",
     "exception": false,
     "start_time": "2021-03-10T01:22:37.765727",
     "status": "completed"
    },
    "tags": []
   },
   "outputs": [],
   "source": [
    "from pathlib import Path\n",
    "\n",
    "import numpy as np\n",
    "import pandas as pd\n",
    "from sklearn.neighbors import NearestNeighbors\n",
    "from sklearn.metrics import pairwise_distances\n",
    "from sklearn.cluster import DBSCAN\n",
    "import matplotlib.pyplot as plt\n",
    "\n",
    "from utils import generate_result_set_name\n",
    "from clustering.ensembles.utils import generate_ensemble"
   ]
  },
  {
   "cell_type": "markdown",
   "metadata": {
    "papermill": {
     "duration": 0.013184,
     "end_time": "2021-03-10T01:22:38.467855",
     "exception": false,
     "start_time": "2021-03-10T01:22:38.454671",
     "status": "completed"
    },
    "tags": []
   },
   "source": [
    "# Global settings"
   ]
  },
  {
   "cell_type": "code",
   "execution_count": null,
   "metadata": {
    "papermill": {
     "duration": 0.025835,
     "end_time": "2021-03-10T01:22:38.506907",
     "exception": false,
     "start_time": "2021-03-10T01:22:38.481072",
     "status": "completed"
    },
    "tags": []
   },
   "outputs": [],
   "source": [
    "np.random.seed(0)"
   ]
  },
  {
   "cell_type": "code",
   "execution_count": null,
   "metadata": {
    "papermill": {
     "duration": 0.025792,
     "end_time": "2021-03-10T01:22:38.546723",
     "exception": false,
     "start_time": "2021-03-10T01:22:38.520931",
     "status": "completed"
    },
    "tags": []
   },
   "outputs": [],
   "source": [
    "CLUSTERING_ATTRIBUTES_TO_SAVE = [\"n_clusters\"]"
   ]
  },
  {
   "cell_type": "markdown",
   "metadata": {
    "papermill": {
     "duration": 0.013568,
     "end_time": "2021-03-10T01:22:38.574564",
     "exception": false,
     "start_time": "2021-03-10T01:22:38.560996",
     "status": "completed"
    },
    "tags": []
   },
   "source": [
    "# Settings"
   ]
  },
  {
   "cell_type": "code",
   "execution_count": null,
   "metadata": {
    "papermill": {
     "duration": 0.026936,
     "end_time": "2021-03-10T01:22:38.614902",
     "exception": false,
     "start_time": "2021-03-10T01:22:38.587966",
     "status": "completed"
    },
    "tags": []
   },
   "outputs": [],
   "source": [
    "# these parameter values are taken from the pre-analysis notebook for this clustering method and data version\n",
    "k_values = np.arange(2, 125 + 1, 1)\n",
    "\n",
    "eps_range_per_k = {\n",
    "    k: (34, 50)\n",
    "    if k < 5\n",
    "    else (35, 50)\n",
    "    if k < 15\n",
    "    else (37, 58)\n",
    "    if k < 75\n",
    "    else (38, 58)\n",
    "    if k < 100\n",
    "    else (39, 60)\n",
    "    for k in k_values\n",
    "}"
   ]
  },
  {
   "cell_type": "markdown",
   "metadata": {
    "papermill": {
     "duration": 0.013856,
     "end_time": "2021-03-10T01:22:38.643022",
     "exception": false,
     "start_time": "2021-03-10T01:22:38.629166",
     "status": "completed"
    },
    "tags": []
   },
   "source": [
    "# Data version: z_score_std"
   ]
  },
  {
   "cell_type": "markdown",
   "metadata": {
    "papermill": {
     "duration": 0.013711,
     "end_time": "2021-03-10T01:22:38.670822",
     "exception": false,
     "start_time": "2021-03-10T01:22:38.657111",
     "status": "completed"
    },
    "tags": []
   },
   "source": [
    "## Settings"
   ]
  },
  {
   "cell_type": "code",
   "execution_count": null,
   "metadata": {
    "papermill": {
     "duration": 0.025911,
     "end_time": "2021-03-10T01:22:38.710568",
     "exception": false,
     "start_time": "2021-03-10T01:22:38.684657",
     "status": "completed"
    },
    "tags": []
   },
   "outputs": [],
   "source": [
    "INPUT_SUBSET = \"z_score_std\""
   ]
  },
  {
   "cell_type": "code",
   "execution_count": null,
   "metadata": {
    "papermill": {
     "duration": 0.026124,
     "end_time": "2021-03-10T01:22:38.750710",
     "exception": false,
     "start_time": "2021-03-10T01:22:38.724586",
     "status": "completed"
    },
    "tags": []
   },
   "outputs": [],
   "source": [
    "INPUT_STEM = \"projection-smultixcan-efo_partial-mashr-zscores\""
   ]
  },
  {
   "cell_type": "code",
   "execution_count": null,
   "metadata": {
    "papermill": {
     "duration": 0.028543,
     "end_time": "2021-03-10T01:22:38.793550",
     "exception": false,
     "start_time": "2021-03-10T01:22:38.765007",
     "status": "completed"
    },
    "tags": []
   },
   "outputs": [],
   "source": [
    "input_filepath = Path(\n",
    "    conf.RESULTS[\"CLUSTERING_NULL_DIR\"],\n",
    "    \"data_transformations\",\n",
    "    INPUT_SUBSET,\n",
    "    f\"{INPUT_SUBSET}-{INPUT_STEM}.pkl\",\n",
    ").resolve()\n",
    "display(input_filepath)\n",
    "\n",
    "assert input_filepath.exists(), \"Input file does not exist\"\n",
    "\n",
    "input_filepath_stem = input_filepath.stem\n",
    "display(input_filepath_stem)"
   ]
  },
  {
   "cell_type": "code",
   "execution_count": null,
   "metadata": {
    "papermill": {
     "duration": 0.028236,
     "end_time": "2021-03-10T01:22:38.836997",
     "exception": false,
     "start_time": "2021-03-10T01:22:38.808761",
     "status": "completed"
    },
    "tags": []
   },
   "outputs": [],
   "source": [
    "# output dir for this notebook\n",
    "RESULTS_DIR = Path(\n",
    "    conf.RESULTS[\"CLUSTERING_NULL_DIR\"],\n",
    "    \"runs\",\n",
    "    f\"{INPUT_SUBSET}-{INPUT_STEM}\",\n",
    ").resolve()\n",
    "RESULTS_DIR.mkdir(parents=True, exist_ok=True)\n",
    "\n",
    "display(RESULTS_DIR)"
   ]
  },
  {
   "cell_type": "markdown",
   "metadata": {
    "papermill": {
     "duration": 0.014717,
     "end_time": "2021-03-10T01:22:38.866800",
     "exception": false,
     "start_time": "2021-03-10T01:22:38.852083",
     "status": "completed"
    },
    "tags": []
   },
   "source": [
    "## Load input file"
   ]
  },
  {
   "cell_type": "code",
   "execution_count": null,
   "metadata": {
    "papermill": {
     "duration": 0.041206,
     "end_time": "2021-03-10T01:22:38.922989",
     "exception": false,
     "start_time": "2021-03-10T01:22:38.881783",
     "status": "completed"
    },
    "tags": []
   },
   "outputs": [],
   "source": [
    "data = pd.read_pickle(input_filepath)"
   ]
  },
  {
   "cell_type": "code",
   "execution_count": null,
   "metadata": {
    "papermill": {
     "duration": 0.027991,
     "end_time": "2021-03-10T01:22:38.968361",
     "exception": false,
     "start_time": "2021-03-10T01:22:38.940370",
     "status": "completed"
    },
    "tags": []
   },
   "outputs": [],
   "source": [
    "data.shape"
   ]
  },
  {
   "cell_type": "code",
   "execution_count": null,
   "metadata": {
    "papermill": {
     "duration": 0.04111,
     "end_time": "2021-03-10T01:22:39.025519",
     "exception": false,
     "start_time": "2021-03-10T01:22:38.984409",
     "status": "completed"
    },
    "tags": []
   },
   "outputs": [],
   "source": [
    "data.head()"
   ]
  },
  {
   "cell_type": "code",
   "execution_count": null,
   "metadata": {
    "papermill": {
     "duration": 0.033234,
     "end_time": "2021-03-10T01:22:39.074898",
     "exception": false,
     "start_time": "2021-03-10T01:22:39.041664",
     "status": "completed"
    },
    "tags": []
   },
   "outputs": [],
   "source": [
    "assert not data.isna().any().any()"
   ]
  },
  {
   "cell_type": "markdown",
   "metadata": {
    "papermill": {
     "duration": 0.016444,
     "end_time": "2021-03-10T01:22:39.108026",
     "exception": false,
     "start_time": "2021-03-10T01:22:39.091582",
     "status": "completed"
    },
    "tags": []
   },
   "source": [
    "## Clustering"
   ]
  },
  {
   "cell_type": "markdown",
   "metadata": {
    "papermill": {
     "duration": 0.015479,
     "end_time": "2021-03-10T01:22:39.138979",
     "exception": false,
     "start_time": "2021-03-10T01:22:39.123500",
     "status": "completed"
    },
    "tags": []
   },
   "source": [
    "### Generate clusterers"
   ]
  },
  {
   "cell_type": "code",
   "execution_count": null,
   "metadata": {
    "papermill": {
     "duration": 0.033367,
     "end_time": "2021-03-10T01:22:39.187564",
     "exception": false,
     "start_time": "2021-03-10T01:22:39.154197",
     "status": "completed"
    },
    "tags": []
   },
   "outputs": [],
   "source": [
    "CLUSTERING_OPTIONS = {}\n",
    "\n",
    "# K_RANGE is the min_samples parameter in DBSCAN (sklearn)\n",
    "CLUSTERING_OPTIONS[\"K_RANGE\"] = k_values\n",
    "CLUSTERING_OPTIONS[\"EPS_RANGE_PER_K\"] = eps_range_per_k\n",
    "CLUSTERING_OPTIONS[\"EPS_STEP\"] = 33\n",
    "CLUSTERING_OPTIONS[\"METRIC\"] = \"euclidean\"\n",
    "\n",
    "display(CLUSTERING_OPTIONS)"
   ]
  },
  {
   "cell_type": "code",
   "execution_count": null,
   "metadata": {
    "papermill": {
     "duration": 0.042899,
     "end_time": "2021-03-10T01:22:39.246614",
     "exception": false,
     "start_time": "2021-03-10T01:22:39.203715",
     "status": "completed"
    },
    "tags": []
   },
   "outputs": [],
   "source": [
    "CLUSTERERS = {}\n",
    "\n",
    "idx = 0\n",
    "\n",
    "for k in CLUSTERING_OPTIONS[\"K_RANGE\"]:\n",
    "    eps_range = CLUSTERING_OPTIONS[\"EPS_RANGE_PER_K\"][k]\n",
    "    eps_values = np.linspace(eps_range[0], eps_range[1], CLUSTERING_OPTIONS[\"EPS_STEP\"])\n",
    "\n",
    "    for eps in eps_values:\n",
    "        clus = DBSCAN(min_samples=k, eps=eps, metric=\"precomputed\", n_jobs=N_JOBS)\n",
    "\n",
    "        method_name = type(clus).__name__\n",
    "        CLUSTERERS[f\"{method_name} #{idx}\"] = clus\n",
    "\n",
    "        idx = idx + 1"
   ]
  },
  {
   "cell_type": "code",
   "execution_count": null,
   "metadata": {
    "papermill": {
     "duration": 0.029014,
     "end_time": "2021-03-10T01:22:39.292111",
     "exception": false,
     "start_time": "2021-03-10T01:22:39.263097",
     "status": "completed"
    },
    "tags": []
   },
   "outputs": [],
   "source": [
    "display(len(CLUSTERERS))"
   ]
  },
  {
   "cell_type": "code",
   "execution_count": null,
   "metadata": {
    "papermill": {
     "duration": 0.030946,
     "end_time": "2021-03-10T01:22:39.339799",
     "exception": false,
     "start_time": "2021-03-10T01:22:39.308853",
     "status": "completed"
    },
    "tags": []
   },
   "outputs": [],
   "source": [
    "_iter = iter(CLUSTERERS.items())\n",
    "display(next(_iter))\n",
    "display(next(_iter))"
   ]
  },
  {
   "cell_type": "code",
   "execution_count": null,
   "metadata": {
    "papermill": {
     "duration": 0.029923,
     "end_time": "2021-03-10T01:22:39.386956",
     "exception": false,
     "start_time": "2021-03-10T01:22:39.357033",
     "status": "completed"
    },
    "tags": []
   },
   "outputs": [],
   "source": [
    "clustering_method_name = method_name\n",
    "display(clustering_method_name)"
   ]
  },
  {
   "cell_type": "markdown",
   "metadata": {
    "papermill": {
     "duration": 0.017003,
     "end_time": "2021-03-10T01:22:39.421210",
     "exception": false,
     "start_time": "2021-03-10T01:22:39.404207",
     "status": "completed"
    },
    "tags": []
   },
   "source": [
    "### Generate ensemble"
   ]
  },
  {
   "cell_type": "code",
   "execution_count": null,
   "metadata": {
    "papermill": {
     "duration": 0.283365,
     "end_time": "2021-03-10T01:22:39.721712",
     "exception": false,
     "start_time": "2021-03-10T01:22:39.438347",
     "status": "completed"
    },
    "tags": []
   },
   "outputs": [],
   "source": [
    "data_dist = pairwise_distances(data, metric=CLUSTERING_OPTIONS[\"METRIC\"])"
   ]
  },
  {
   "cell_type": "code",
   "execution_count": null,
   "metadata": {
    "papermill": {
     "duration": 0.029876,
     "end_time": "2021-03-10T01:22:39.769056",
     "exception": false,
     "start_time": "2021-03-10T01:22:39.739180",
     "status": "completed"
    },
    "tags": []
   },
   "outputs": [],
   "source": [
    "data_dist.shape"
   ]
  },
  {
   "cell_type": "code",
   "execution_count": null,
   "metadata": {
    "papermill": {
     "duration": 0.603691,
     "end_time": "2021-03-10T01:22:40.390947",
     "exception": false,
     "start_time": "2021-03-10T01:22:39.787256",
     "status": "completed"
    },
    "tags": []
   },
   "outputs": [],
   "source": [
    "pd.Series(data_dist.flatten()).describe().apply(str)"
   ]
  },
  {
   "cell_type": "code",
   "execution_count": null,
   "metadata": {
    "papermill": {
     "duration": 691.784313,
     "end_time": "2021-03-10T01:34:12.193740",
     "exception": false,
     "start_time": "2021-03-10T01:22:40.409427",
     "status": "completed"
    },
    "tags": []
   },
   "outputs": [],
   "source": [
    "ensemble = generate_ensemble(\n",
    "    data_dist,\n",
    "    CLUSTERERS,\n",
    "    attributes=CLUSTERING_ATTRIBUTES_TO_SAVE,\n",
    ")"
   ]
  },
  {
   "cell_type": "code",
   "execution_count": null,
   "metadata": {
    "papermill": {
     "duration": 0.656836,
     "end_time": "2021-03-10T01:34:13.482762",
     "exception": false,
     "start_time": "2021-03-10T01:34:12.825926",
     "status": "completed"
    },
    "tags": []
   },
   "outputs": [],
   "source": [
    "ensemble.shape"
   ]
  },
  {
   "cell_type": "code",
   "execution_count": null,
   "metadata": {
    "papermill": {
     "duration": 0.655967,
     "end_time": "2021-03-10T01:34:14.801481",
     "exception": false,
     "start_time": "2021-03-10T01:34:14.145514",
     "status": "completed"
    },
    "tags": []
   },
   "outputs": [],
   "source": [
    "ensemble.head()"
   ]
  },
  {
   "cell_type": "code",
   "execution_count": null,
   "metadata": {
    "papermill": {
     "duration": 0.648588,
     "end_time": "2021-03-10T01:34:16.086708",
     "exception": false,
     "start_time": "2021-03-10T01:34:15.438120",
     "status": "completed"
    },
    "tags": []
   },
   "outputs": [],
   "source": [
    "ensemble[\"n_clusters\"].value_counts().head()"
   ]
  },
  {
   "cell_type": "code",
   "execution_count": null,
   "metadata": {
    "papermill": {
     "duration": 0.652929,
     "end_time": "2021-03-10T01:34:17.375791",
     "exception": false,
     "start_time": "2021-03-10T01:34:16.722862",
     "status": "completed"
    },
    "tags": []
   },
   "outputs": [],
   "source": [
    "ensemble_stats = ensemble[\"n_clusters\"].describe()\n",
    "display(ensemble_stats)"
   ]
  },
  {
   "cell_type": "markdown",
   "metadata": {
    "papermill": {
     "duration": 0.63296,
     "end_time": "2021-03-10T01:34:18.672252",
     "exception": false,
     "start_time": "2021-03-10T01:34:18.039292",
     "status": "completed"
    },
    "tags": []
   },
   "source": [
    "### Testing"
   ]
  },
  {
   "cell_type": "code",
   "execution_count": null,
   "metadata": {
    "papermill": {
     "duration": 0.6572,
     "end_time": "2021-03-10T01:34:19.963127",
     "exception": false,
     "start_time": "2021-03-10T01:34:19.305927",
     "status": "completed"
    },
    "tags": []
   },
   "outputs": [],
   "source": [
    "assert ensemble_stats[\"min\"] > 1"
   ]
  },
  {
   "cell_type": "code",
   "execution_count": null,
   "metadata": {
    "papermill": {
     "duration": 0.682025,
     "end_time": "2021-03-10T01:34:21.279801",
     "exception": false,
     "start_time": "2021-03-10T01:34:20.597776",
     "status": "completed"
    },
    "tags": []
   },
   "outputs": [],
   "source": [
    "assert not ensemble[\"n_clusters\"].isna().any()"
   ]
  },
  {
   "cell_type": "code",
   "execution_count": null,
   "metadata": {
    "papermill": {
     "duration": 0.648765,
     "end_time": "2021-03-10T01:34:22.558752",
     "exception": false,
     "start_time": "2021-03-10T01:34:21.909987",
     "status": "completed"
    },
    "tags": []
   },
   "outputs": [],
   "source": [
    "# assert ensemble.shape[0] == len(CLUSTERERS)"
   ]
  },
  {
   "cell_type": "code",
   "execution_count": null,
   "metadata": {
    "papermill": {
     "duration": 0.662967,
     "end_time": "2021-03-10T01:34:23.858660",
     "exception": false,
     "start_time": "2021-03-10T01:34:23.195693",
     "status": "completed"
    },
    "tags": []
   },
   "outputs": [],
   "source": [
    "# all partitions have the right size\n",
    "assert np.all(\n",
    "    [part[\"partition\"].shape[0] == data.shape[0] for idx, part in ensemble.iterrows()]\n",
    ")"
   ]
  },
  {
   "cell_type": "code",
   "execution_count": null,
   "metadata": {
    "papermill": {
     "duration": 0.69747,
     "end_time": "2021-03-10T01:34:25.196595",
     "exception": false,
     "start_time": "2021-03-10T01:34:24.499125",
     "status": "completed"
    },
    "tags": []
   },
   "outputs": [],
   "source": [
    "# no partition has negative clusters (noisy points)\n",
    "assert not np.any([(part[\"partition\"] < 0).any() for idx, part in ensemble.iterrows()])"
   ]
  },
  {
   "cell_type": "markdown",
   "metadata": {
    "papermill": {
     "duration": 0.644826,
     "end_time": "2021-03-10T01:34:26.481459",
     "exception": false,
     "start_time": "2021-03-10T01:34:25.836633",
     "status": "completed"
    },
    "tags": []
   },
   "source": [
    "### Save"
   ]
  },
  {
   "cell_type": "code",
   "execution_count": null,
   "metadata": {
    "papermill": {
     "duration": 0.653613,
     "end_time": "2021-03-10T01:34:27.777813",
     "exception": false,
     "start_time": "2021-03-10T01:34:27.124200",
     "status": "completed"
    },
    "tags": []
   },
   "outputs": [],
   "source": [
    "output_filename = Path(\n",
    "    RESULTS_DIR,\n",
    "    generate_result_set_name(\n",
    "        {},\n",
    "        #         CLUSTERING_OPTIONS,\n",
    "        prefix=f\"{clustering_method_name}\",\n",
    "        suffix=\".pkl\",\n",
    "    ),\n",
    ").resolve()\n",
    "display(output_filename)"
   ]
  },
  {
   "cell_type": "code",
   "execution_count": null,
   "metadata": {
    "papermill": {
     "duration": 0.680379,
     "end_time": "2021-03-10T01:34:29.094234",
     "exception": false,
     "start_time": "2021-03-10T01:34:28.413855",
     "status": "completed"
    },
    "tags": []
   },
   "outputs": [],
   "source": [
    "ensemble.to_pickle(output_filename)"
   ]
  },
  {
   "cell_type": "code",
   "execution_count": null,
   "metadata": {
    "papermill": {
     "duration": 0.639442,
     "end_time": "2021-03-10T01:34:30.377713",
     "exception": false,
     "start_time": "2021-03-10T01:34:29.738271",
     "status": "completed"
    },
    "tags": []
   },
   "outputs": [],
   "source": []
  }
 ],
 "metadata": {
  "jupytext": {
   "cell_metadata_filter": "all,-execution,-papermill,-trusted",
   "formats": "ipynb,py//py:percent"
  },
  "kernelspec": {
   "display_name": "Python 3 (ipykernel)",
   "language": "python",
   "name": "python3"
  },
  "language_info": {
   "codemirror_mode": {
    "name": "ipython",
    "version": 3
   },
   "file_extension": ".py",
   "mimetype": "text/x-python",
   "name": "python",
   "nbconvert_exporter": "python",
   "pygments_lexer": "ipython3",
   "version": "3.8.13"
  },
  "papermill": {
   "default_parameters": {},
   "duration": 714.849812,
   "end_time": "2021-03-10T01:34:31.423617",
   "environment_variables": {},
   "exception": null,
   "input_path": "15_cluster_analysis/002_00-dbscan-z_score_std.ipynb",
   "output_path": "15_cluster_analysis/002_00-dbscan-z_score_std.run.ipynb",
   "parameters": {},
   "start_time": "2021-03-10T01:22:36.573805",
   "version": "2.2.2"
  },
  "toc-autonumbering": true,
  "toc-showcode": false,
  "toc-showmarkdowntxt": false,
  "toc-showtags": false
 },
 "nbformat": 4,
 "nbformat_minor": 4
}
