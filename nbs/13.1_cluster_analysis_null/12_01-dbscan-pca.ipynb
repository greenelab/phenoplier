{
 "cells": [
  {
   "cell_type": "markdown",
   "id": "e228da09",
   "metadata": {
    "papermill": {
     "duration": 0.008719,
     "end_time": "2022-09-13T03:30:15.151898",
     "exception": false,
     "start_time": "2022-09-13T03:30:15.143179",
     "status": "completed"
    },
    "tags": []
   },
   "source": [
    "# Description"
   ]
  },
  {
   "cell_type": "markdown",
   "id": "4a619567",
   "metadata": {
    "papermill": {
     "duration": 0.005721,
     "end_time": "2022-09-13T03:30:15.162516",
     "exception": false,
     "start_time": "2022-09-13T03:30:15.156795",
     "status": "completed"
    },
    "tags": []
   },
   "source": [
    "It runs DBSCAN on the `pca` version of the data.\n",
    "\n",
    "The notebook explores different values for `min_samples` and `eps` (the main parameters of DBSCAN)."
   ]
  },
  {
   "cell_type": "markdown",
   "id": "dc36a13e",
   "metadata": {
    "papermill": {
     "duration": 0.0045,
     "end_time": "2022-09-13T03:30:15.171844",
     "exception": false,
     "start_time": "2022-09-13T03:30:15.167344",
     "status": "completed"
    },
    "tags": []
   },
   "source": [
    "# Environment variables"
   ]
  },
  {
   "cell_type": "code",
   "execution_count": 1,
   "id": "a78ef632",
   "metadata": {
    "execution": {
     "iopub.execute_input": "2022-09-13T03:30:15.182053Z",
     "iopub.status.busy": "2022-09-13T03:30:15.181814Z",
     "iopub.status.idle": "2022-09-13T03:30:15.196972Z",
     "shell.execute_reply": "2022-09-13T03:30:15.196344Z"
    },
    "papermill": {
     "duration": 0.022113,
     "end_time": "2022-09-13T03:30:15.198381",
     "exception": false,
     "start_time": "2022-09-13T03:30:15.176268",
     "status": "completed"
    },
    "tags": []
   },
   "outputs": [
    {
     "data": {
      "text/plain": [
       "3"
      ]
     },
     "metadata": {},
     "output_type": "display_data"
    }
   ],
   "source": [
    "from IPython.display import display\n",
    "\n",
    "import conf\n",
    "\n",
    "N_JOBS = conf.GENERAL[\"N_JOBS\"]\n",
    "display(N_JOBS)"
   ]
  },
  {
   "cell_type": "code",
   "execution_count": 2,
   "id": "f93855a7",
   "metadata": {
    "execution": {
     "iopub.execute_input": "2022-09-13T03:30:15.209250Z",
     "iopub.status.busy": "2022-09-13T03:30:15.208407Z",
     "iopub.status.idle": "2022-09-13T03:30:15.214076Z",
     "shell.execute_reply": "2022-09-13T03:30:15.213549Z"
    },
    "papermill": {
     "duration": 0.01234,
     "end_time": "2022-09-13T03:30:15.215449",
     "exception": false,
     "start_time": "2022-09-13T03:30:15.203109",
     "status": "completed"
    },
    "tags": []
   },
   "outputs": [
    {
     "name": "stdout",
     "output_type": "stream",
     "text": [
      "env: MKL_NUM_THREADS=3\n",
      "env: OPEN_BLAS_NUM_THREADS=3\n",
      "env: NUMEXPR_NUM_THREADS=3\n",
      "env: OMP_NUM_THREADS=3\n"
     ]
    }
   ],
   "source": [
    "%env MKL_NUM_THREADS=$N_JOBS\n",
    "%env OPEN_BLAS_NUM_THREADS=$N_JOBS\n",
    "%env NUMEXPR_NUM_THREADS=$N_JOBS\n",
    "%env OMP_NUM_THREADS=$N_JOBS"
   ]
  },
  {
   "cell_type": "markdown",
   "id": "7e400e8b",
   "metadata": {
    "papermill": {
     "duration": 0.004569,
     "end_time": "2022-09-13T03:30:15.224736",
     "exception": false,
     "start_time": "2022-09-13T03:30:15.220167",
     "status": "completed"
    },
    "tags": []
   },
   "source": [
    "# Modules loading"
   ]
  },
  {
   "cell_type": "code",
   "execution_count": 3,
   "id": "2d57cf4d",
   "metadata": {
    "execution": {
     "iopub.execute_input": "2022-09-13T03:30:15.235107Z",
     "iopub.status.busy": "2022-09-13T03:30:15.234906Z",
     "iopub.status.idle": "2022-09-13T03:30:15.248276Z",
     "shell.execute_reply": "2022-09-13T03:30:15.247595Z"
    },
    "papermill": {
     "duration": 0.019968,
     "end_time": "2022-09-13T03:30:15.249581",
     "exception": false,
     "start_time": "2022-09-13T03:30:15.229613",
     "status": "completed"
    },
    "tags": []
   },
   "outputs": [],
   "source": [
    "%load_ext autoreload\n",
    "%autoreload 2"
   ]
  },
  {
   "cell_type": "code",
   "execution_count": 4,
   "id": "cd0adcf2",
   "metadata": {
    "execution": {
     "iopub.execute_input": "2022-09-13T03:30:15.260314Z",
     "iopub.status.busy": "2022-09-13T03:30:15.260162Z",
     "iopub.status.idle": "2022-09-13T03:30:15.937725Z",
     "shell.execute_reply": "2022-09-13T03:30:15.937225Z"
    },
    "papermill": {
     "duration": 0.684482,
     "end_time": "2022-09-13T03:30:15.939130",
     "exception": false,
     "start_time": "2022-09-13T03:30:15.254648",
     "status": "completed"
    },
    "tags": []
   },
   "outputs": [],
   "source": [
    "from pathlib import Path\n",
    "\n",
    "import numpy as np\n",
    "import pandas as pd\n",
    "from sklearn.neighbors import NearestNeighbors\n",
    "from sklearn.metrics import pairwise_distances\n",
    "from sklearn.cluster import DBSCAN\n",
    "import matplotlib.pyplot as plt\n",
    "\n",
    "from utils import generate_result_set_name\n",
    "from clustering.ensembles.utils import generate_ensemble"
   ]
  },
  {
   "cell_type": "markdown",
   "id": "d22a7bbd",
   "metadata": {
    "papermill": {
     "duration": 0.00482,
     "end_time": "2022-09-13T03:30:15.949023",
     "exception": false,
     "start_time": "2022-09-13T03:30:15.944203",
     "status": "completed"
    },
    "tags": []
   },
   "source": [
    "# Global settings"
   ]
  },
  {
   "cell_type": "code",
   "execution_count": 5,
   "id": "69cc230a",
   "metadata": {
    "execution": {
     "iopub.execute_input": "2022-09-13T03:30:15.959344Z",
     "iopub.status.busy": "2022-09-13T03:30:15.959161Z",
     "iopub.status.idle": "2022-09-13T03:30:15.976679Z",
     "shell.execute_reply": "2022-09-13T03:30:15.976069Z"
    },
    "papermill": {
     "duration": 0.024181,
     "end_time": "2022-09-13T03:30:15.977942",
     "exception": false,
     "start_time": "2022-09-13T03:30:15.953761",
     "status": "completed"
    },
    "tags": []
   },
   "outputs": [],
   "source": [
    "np.random.seed(0)"
   ]
  },
  {
   "cell_type": "code",
   "execution_count": 6,
   "id": "535b5d88",
   "metadata": {
    "execution": {
     "iopub.execute_input": "2022-09-13T03:30:15.989117Z",
     "iopub.status.busy": "2022-09-13T03:30:15.988951Z",
     "iopub.status.idle": "2022-09-13T03:30:16.006668Z",
     "shell.execute_reply": "2022-09-13T03:30:16.006143Z"
    },
    "papermill": {
     "duration": 0.024835,
     "end_time": "2022-09-13T03:30:16.008081",
     "exception": false,
     "start_time": "2022-09-13T03:30:15.983246",
     "status": "completed"
    },
    "tags": []
   },
   "outputs": [],
   "source": [
    "CLUSTERING_ATTRIBUTES_TO_SAVE = [\"n_clusters\"]"
   ]
  },
  {
   "cell_type": "markdown",
   "id": "ca3232af",
   "metadata": {
    "papermill": {
     "duration": 0.004963,
     "end_time": "2022-09-13T03:30:16.018277",
     "exception": false,
     "start_time": "2022-09-13T03:30:16.013314",
     "status": "completed"
    },
    "tags": []
   },
   "source": [
    "# Settings"
   ]
  },
  {
   "cell_type": "code",
   "execution_count": 7,
   "id": "9255164b",
   "metadata": {
    "execution": {
     "iopub.execute_input": "2022-09-13T03:30:16.029379Z",
     "iopub.status.busy": "2022-09-13T03:30:16.029214Z",
     "iopub.status.idle": "2022-09-13T03:30:16.048122Z",
     "shell.execute_reply": "2022-09-13T03:30:16.047490Z"
    },
    "papermill": {
     "duration": 0.026094,
     "end_time": "2022-09-13T03:30:16.049499",
     "exception": false,
     "start_time": "2022-09-13T03:30:16.023405",
     "status": "completed"
    },
    "tags": []
   },
   "outputs": [],
   "source": [
    "# these parameter values are taken from the pre-analysis notebook for this clustering method and data version\n",
    "k_values = np.arange(2, 125 + 1, 1)\n",
    "\n",
    "eps_range_per_k = {\n",
    "    k: (10, 20)\n",
    "    if k < 5\n",
    "    else (11, 25)\n",
    "    if k < 10\n",
    "    else (12, 30)\n",
    "    if k < 15\n",
    "    else (13, 35)\n",
    "    if k < 20\n",
    "    else (14, 40)\n",
    "    for k in k_values\n",
    "}"
   ]
  },
  {
   "cell_type": "markdown",
   "id": "81ee2c29",
   "metadata": {
    "papermill": {
     "duration": 0.004943,
     "end_time": "2022-09-13T03:30:16.059756",
     "exception": false,
     "start_time": "2022-09-13T03:30:16.054813",
     "status": "completed"
    },
    "tags": []
   },
   "source": [
    "# Data version: pca"
   ]
  },
  {
   "cell_type": "markdown",
   "id": "c5bc3e25",
   "metadata": {
    "papermill": {
     "duration": 0.004933,
     "end_time": "2022-09-13T03:30:16.069823",
     "exception": false,
     "start_time": "2022-09-13T03:30:16.064890",
     "status": "completed"
    },
    "tags": []
   },
   "source": [
    "## Settings"
   ]
  },
  {
   "cell_type": "code",
   "execution_count": 8,
   "id": "e36f811b",
   "metadata": {
    "execution": {
     "iopub.execute_input": "2022-09-13T03:30:16.080991Z",
     "iopub.status.busy": "2022-09-13T03:30:16.080782Z",
     "iopub.status.idle": "2022-09-13T03:30:16.098313Z",
     "shell.execute_reply": "2022-09-13T03:30:16.097786Z"
    },
    "papermill": {
     "duration": 0.02481,
     "end_time": "2022-09-13T03:30:16.099738",
     "exception": false,
     "start_time": "2022-09-13T03:30:16.074928",
     "status": "completed"
    },
    "tags": []
   },
   "outputs": [],
   "source": [
    "INPUT_SUBSET = \"pca\""
   ]
  },
  {
   "cell_type": "code",
   "execution_count": 9,
   "id": "ab42356f",
   "metadata": {
    "execution": {
     "iopub.execute_input": "2022-09-13T03:30:16.111415Z",
     "iopub.status.busy": "2022-09-13T03:30:16.111246Z",
     "iopub.status.idle": "2022-09-13T03:30:16.128831Z",
     "shell.execute_reply": "2022-09-13T03:30:16.128274Z"
    },
    "papermill": {
     "duration": 0.024757,
     "end_time": "2022-09-13T03:30:16.130253",
     "exception": false,
     "start_time": "2022-09-13T03:30:16.105496",
     "status": "completed"
    },
    "tags": []
   },
   "outputs": [],
   "source": [
    "INPUT_STEM = \"z_score_std-projection-smultixcan-efo_partial-mashr-zscores\""
   ]
  },
  {
   "cell_type": "code",
   "execution_count": 10,
   "id": "12ff12d9",
   "metadata": {
    "execution": {
     "iopub.execute_input": "2022-09-13T03:30:16.141909Z",
     "iopub.status.busy": "2022-09-13T03:30:16.141741Z",
     "iopub.status.idle": "2022-09-13T03:30:16.159699Z",
     "shell.execute_reply": "2022-09-13T03:30:16.159210Z"
    },
    "papermill": {
     "duration": 0.025308,
     "end_time": "2022-09-13T03:30:16.161121",
     "exception": false,
     "start_time": "2022-09-13T03:30:16.135813",
     "status": "completed"
    },
    "tags": []
   },
   "outputs": [],
   "source": [
    "# parameters of the dimentionality reduction steps\n",
    "DR_OPTIONS = {\n",
    "    \"n_components\": 50,\n",
    "    \"svd_solver\": \"full\",\n",
    "    \"random_state\": 0,\n",
    "}"
   ]
  },
  {
   "cell_type": "code",
   "execution_count": 11,
   "id": "4bdcae74",
   "metadata": {
    "execution": {
     "iopub.execute_input": "2022-09-13T03:30:16.172998Z",
     "iopub.status.busy": "2022-09-13T03:30:16.172829Z",
     "iopub.status.idle": "2022-09-13T03:30:16.193358Z",
     "shell.execute_reply": "2022-09-13T03:30:16.192851Z"
    },
    "papermill": {
     "duration": 0.027903,
     "end_time": "2022-09-13T03:30:16.194646",
     "exception": false,
     "start_time": "2022-09-13T03:30:16.166743",
     "status": "completed"
    },
    "tags": []
   },
   "outputs": [
    {
     "data": {
      "text/plain": [
       "PosixPath('/opt/data/results/clustering/null_sims/data_transformations/pca/pca-z_score_std-projection-smultixcan-efo_partial-mashr-zscores-n_components_50-random_state_0-svd_solver_full.pkl')"
      ]
     },
     "metadata": {},
     "output_type": "display_data"
    },
    {
     "data": {
      "text/plain": [
       "'pca-z_score_std-projection-smultixcan-efo_partial-mashr-zscores-n_components_50-random_state_0-svd_solver_full'"
      ]
     },
     "metadata": {},
     "output_type": "display_data"
    }
   ],
   "source": [
    "input_filepath = Path(\n",
    "    conf.RESULTS[\"CLUSTERING_NULL_DIR\"],\n",
    "    \"data_transformations\",\n",
    "    INPUT_SUBSET,\n",
    "    generate_result_set_name(\n",
    "        DR_OPTIONS, prefix=f\"{INPUT_SUBSET}-{INPUT_STEM}-\", suffix=\".pkl\"\n",
    "    ),\n",
    ").resolve()\n",
    "display(input_filepath)\n",
    "\n",
    "assert input_filepath.exists(), \"Input file does not exist\"\n",
    "\n",
    "input_filepath_stem = input_filepath.stem\n",
    "display(input_filepath_stem)"
   ]
  },
  {
   "cell_type": "code",
   "execution_count": 12,
   "id": "05d25510",
   "metadata": {
    "execution": {
     "iopub.execute_input": "2022-09-13T03:30:16.206806Z",
     "iopub.status.busy": "2022-09-13T03:30:16.206639Z",
     "iopub.status.idle": "2022-09-13T03:30:16.226140Z",
     "shell.execute_reply": "2022-09-13T03:30:16.225592Z"
    },
    "papermill": {
     "duration": 0.026989,
     "end_time": "2022-09-13T03:30:16.227435",
     "exception": false,
     "start_time": "2022-09-13T03:30:16.200446",
     "status": "completed"
    },
    "tags": []
   },
   "outputs": [
    {
     "data": {
      "text/plain": [
       "PosixPath('/opt/data/results/clustering/null_sims/runs/pca-z_score_std-projection-smultixcan-efo_partial-mashr-zscores')"
      ]
     },
     "metadata": {},
     "output_type": "display_data"
    }
   ],
   "source": [
    "# output dir for this notebook\n",
    "RESULTS_DIR = Path(\n",
    "    conf.RESULTS[\"CLUSTERING_NULL_DIR\"],\n",
    "    \"runs\",\n",
    "    f\"{INPUT_SUBSET}-{INPUT_STEM}\",\n",
    ").resolve()\n",
    "RESULTS_DIR.mkdir(parents=True, exist_ok=True)\n",
    "\n",
    "display(RESULTS_DIR)"
   ]
  },
  {
   "cell_type": "markdown",
   "id": "03894166",
   "metadata": {
    "papermill": {
     "duration": 0.005494,
     "end_time": "2022-09-13T03:30:16.238752",
     "exception": false,
     "start_time": "2022-09-13T03:30:16.233258",
     "status": "completed"
    },
    "tags": []
   },
   "source": [
    "## Load input file"
   ]
  },
  {
   "cell_type": "code",
   "execution_count": 13,
   "id": "d886fbca",
   "metadata": {
    "execution": {
     "iopub.execute_input": "2022-09-13T03:30:16.251099Z",
     "iopub.status.busy": "2022-09-13T03:30:16.250912Z",
     "iopub.status.idle": "2022-09-13T03:30:16.270541Z",
     "shell.execute_reply": "2022-09-13T03:30:16.269963Z"
    },
    "papermill": {
     "duration": 0.027603,
     "end_time": "2022-09-13T03:30:16.272008",
     "exception": false,
     "start_time": "2022-09-13T03:30:16.244405",
     "status": "completed"
    },
    "tags": []
   },
   "outputs": [],
   "source": [
    "data = pd.read_pickle(input_filepath)"
   ]
  },
  {
   "cell_type": "code",
   "execution_count": 14,
   "id": "2b49f668",
   "metadata": {
    "execution": {
     "iopub.execute_input": "2022-09-13T03:30:16.315839Z",
     "iopub.status.busy": "2022-09-13T03:30:16.315644Z",
     "iopub.status.idle": "2022-09-13T03:30:16.336912Z",
     "shell.execute_reply": "2022-09-13T03:30:16.336321Z"
    },
    "papermill": {
     "duration": 0.029992,
     "end_time": "2022-09-13T03:30:16.338347",
     "exception": false,
     "start_time": "2022-09-13T03:30:16.308355",
     "status": "completed"
    },
    "tags": []
   },
   "outputs": [
    {
     "data": {
      "text/plain": [
       "(3752, 50)"
      ]
     },
     "execution_count": 14,
     "metadata": {},
     "output_type": "execute_result"
    }
   ],
   "source": [
    "data.shape"
   ]
  },
  {
   "cell_type": "code",
   "execution_count": 15,
   "id": "aab573c6",
   "metadata": {
    "execution": {
     "iopub.execute_input": "2022-09-13T03:30:16.352498Z",
     "iopub.status.busy": "2022-09-13T03:30:16.352308Z",
     "iopub.status.idle": "2022-09-13T03:30:16.387601Z",
     "shell.execute_reply": "2022-09-13T03:30:16.387094Z"
    },
    "papermill": {
     "duration": 0.043925,
     "end_time": "2022-09-13T03:30:16.388903",
     "exception": false,
     "start_time": "2022-09-13T03:30:16.344978",
     "status": "completed"
    },
    "tags": []
   },
   "outputs": [
    {
     "data": {
      "text/html": [
       "<div>\n",
       "<style scoped>\n",
       "    .dataframe tbody tr th:only-of-type {\n",
       "        vertical-align: middle;\n",
       "    }\n",
       "\n",
       "    .dataframe tbody tr th {\n",
       "        vertical-align: top;\n",
       "    }\n",
       "\n",
       "    .dataframe thead th {\n",
       "        text-align: right;\n",
       "    }\n",
       "</style>\n",
       "<table border=\"1\" class=\"dataframe\">\n",
       "  <thead>\n",
       "    <tr style=\"text-align: right;\">\n",
       "      <th></th>\n",
       "      <th>PCA1</th>\n",
       "      <th>PCA2</th>\n",
       "      <th>PCA3</th>\n",
       "      <th>PCA4</th>\n",
       "      <th>PCA5</th>\n",
       "      <th>PCA6</th>\n",
       "      <th>PCA7</th>\n",
       "      <th>PCA8</th>\n",
       "      <th>PCA9</th>\n",
       "      <th>PCA10</th>\n",
       "      <th>...</th>\n",
       "      <th>PCA41</th>\n",
       "      <th>PCA42</th>\n",
       "      <th>PCA43</th>\n",
       "      <th>PCA44</th>\n",
       "      <th>PCA45</th>\n",
       "      <th>PCA46</th>\n",
       "      <th>PCA47</th>\n",
       "      <th>PCA48</th>\n",
       "      <th>PCA49</th>\n",
       "      <th>PCA50</th>\n",
       "    </tr>\n",
       "  </thead>\n",
       "  <tbody>\n",
       "    <tr>\n",
       "      <th>100001_raw-Food_weight</th>\n",
       "      <td>0.373237</td>\n",
       "      <td>-0.155188</td>\n",
       "      <td>-1.554390</td>\n",
       "      <td>-0.103733</td>\n",
       "      <td>-1.807074</td>\n",
       "      <td>-0.957108</td>\n",
       "      <td>0.330335</td>\n",
       "      <td>0.638391</td>\n",
       "      <td>0.905023</td>\n",
       "      <td>-0.704551</td>\n",
       "      <td>...</td>\n",
       "      <td>0.161732</td>\n",
       "      <td>0.488682</td>\n",
       "      <td>0.761158</td>\n",
       "      <td>0.667089</td>\n",
       "      <td>-0.078934</td>\n",
       "      <td>0.840971</td>\n",
       "      <td>-0.622958</td>\n",
       "      <td>1.075964</td>\n",
       "      <td>3.244039</td>\n",
       "      <td>-0.933407</td>\n",
       "    </tr>\n",
       "    <tr>\n",
       "      <th>100002_raw-Energy</th>\n",
       "      <td>1.384398</td>\n",
       "      <td>0.511267</td>\n",
       "      <td>-0.273603</td>\n",
       "      <td>-0.074591</td>\n",
       "      <td>-1.151167</td>\n",
       "      <td>-0.069438</td>\n",
       "      <td>1.242634</td>\n",
       "      <td>-0.439543</td>\n",
       "      <td>0.650348</td>\n",
       "      <td>2.456117</td>\n",
       "      <td>...</td>\n",
       "      <td>0.051967</td>\n",
       "      <td>0.993820</td>\n",
       "      <td>-0.166350</td>\n",
       "      <td>1.497041</td>\n",
       "      <td>-0.875754</td>\n",
       "      <td>2.632726</td>\n",
       "      <td>0.613299</td>\n",
       "      <td>0.041232</td>\n",
       "      <td>4.032974</td>\n",
       "      <td>-0.230092</td>\n",
       "    </tr>\n",
       "    <tr>\n",
       "      <th>100003_raw-Protein</th>\n",
       "      <td>-1.247583</td>\n",
       "      <td>2.905641</td>\n",
       "      <td>-1.524196</td>\n",
       "      <td>0.683773</td>\n",
       "      <td>0.766860</td>\n",
       "      <td>-2.478057</td>\n",
       "      <td>-0.201110</td>\n",
       "      <td>1.045590</td>\n",
       "      <td>-0.844712</td>\n",
       "      <td>2.426349</td>\n",
       "      <td>...</td>\n",
       "      <td>0.027646</td>\n",
       "      <td>-1.903636</td>\n",
       "      <td>-0.819195</td>\n",
       "      <td>0.616887</td>\n",
       "      <td>-0.647462</td>\n",
       "      <td>0.170956</td>\n",
       "      <td>2.106036</td>\n",
       "      <td>-2.186258</td>\n",
       "      <td>0.485333</td>\n",
       "      <td>-1.136366</td>\n",
       "    </tr>\n",
       "    <tr>\n",
       "      <th>100004_raw-Fat</th>\n",
       "      <td>-0.695167</td>\n",
       "      <td>0.046286</td>\n",
       "      <td>0.730428</td>\n",
       "      <td>0.240547</td>\n",
       "      <td>1.621534</td>\n",
       "      <td>-1.335187</td>\n",
       "      <td>-1.510894</td>\n",
       "      <td>1.790966</td>\n",
       "      <td>-0.682884</td>\n",
       "      <td>-1.572835</td>\n",
       "      <td>...</td>\n",
       "      <td>-2.997557</td>\n",
       "      <td>-0.489466</td>\n",
       "      <td>0.442809</td>\n",
       "      <td>1.217098</td>\n",
       "      <td>-1.604667</td>\n",
       "      <td>-0.776865</td>\n",
       "      <td>-0.983076</td>\n",
       "      <td>0.080423</td>\n",
       "      <td>2.476131</td>\n",
       "      <td>0.431179</td>\n",
       "    </tr>\n",
       "    <tr>\n",
       "      <th>100005_raw-Carbohydrate</th>\n",
       "      <td>0.770055</td>\n",
       "      <td>-0.499034</td>\n",
       "      <td>0.053157</td>\n",
       "      <td>0.479019</td>\n",
       "      <td>2.048336</td>\n",
       "      <td>0.984552</td>\n",
       "      <td>-0.090767</td>\n",
       "      <td>0.053451</td>\n",
       "      <td>-0.614035</td>\n",
       "      <td>1.304292</td>\n",
       "      <td>...</td>\n",
       "      <td>-0.280231</td>\n",
       "      <td>-0.892308</td>\n",
       "      <td>-0.522105</td>\n",
       "      <td>-0.358232</td>\n",
       "      <td>1.690968</td>\n",
       "      <td>0.049799</td>\n",
       "      <td>-0.633466</td>\n",
       "      <td>-0.812035</td>\n",
       "      <td>0.901284</td>\n",
       "      <td>2.461845</td>\n",
       "    </tr>\n",
       "  </tbody>\n",
       "</table>\n",
       "<p>5 rows × 50 columns</p>\n",
       "</div>"
      ],
      "text/plain": [
       "                             PCA1      PCA2      PCA3      PCA4      PCA5  \\\n",
       "100001_raw-Food_weight   0.373237 -0.155188 -1.554390 -0.103733 -1.807074   \n",
       "100002_raw-Energy        1.384398  0.511267 -0.273603 -0.074591 -1.151167   \n",
       "100003_raw-Protein      -1.247583  2.905641 -1.524196  0.683773  0.766860   \n",
       "100004_raw-Fat          -0.695167  0.046286  0.730428  0.240547  1.621534   \n",
       "100005_raw-Carbohydrate  0.770055 -0.499034  0.053157  0.479019  2.048336   \n",
       "\n",
       "                             PCA6      PCA7      PCA8      PCA9     PCA10  \\\n",
       "100001_raw-Food_weight  -0.957108  0.330335  0.638391  0.905023 -0.704551   \n",
       "100002_raw-Energy       -0.069438  1.242634 -0.439543  0.650348  2.456117   \n",
       "100003_raw-Protein      -2.478057 -0.201110  1.045590 -0.844712  2.426349   \n",
       "100004_raw-Fat          -1.335187 -1.510894  1.790966 -0.682884 -1.572835   \n",
       "100005_raw-Carbohydrate  0.984552 -0.090767  0.053451 -0.614035  1.304292   \n",
       "\n",
       "                         ...     PCA41     PCA42     PCA43     PCA44  \\\n",
       "100001_raw-Food_weight   ...  0.161732  0.488682  0.761158  0.667089   \n",
       "100002_raw-Energy        ...  0.051967  0.993820 -0.166350  1.497041   \n",
       "100003_raw-Protein       ...  0.027646 -1.903636 -0.819195  0.616887   \n",
       "100004_raw-Fat           ... -2.997557 -0.489466  0.442809  1.217098   \n",
       "100005_raw-Carbohydrate  ... -0.280231 -0.892308 -0.522105 -0.358232   \n",
       "\n",
       "                            PCA45     PCA46     PCA47     PCA48     PCA49  \\\n",
       "100001_raw-Food_weight  -0.078934  0.840971 -0.622958  1.075964  3.244039   \n",
       "100002_raw-Energy       -0.875754  2.632726  0.613299  0.041232  4.032974   \n",
       "100003_raw-Protein      -0.647462  0.170956  2.106036 -2.186258  0.485333   \n",
       "100004_raw-Fat          -1.604667 -0.776865 -0.983076  0.080423  2.476131   \n",
       "100005_raw-Carbohydrate  1.690968  0.049799 -0.633466 -0.812035  0.901284   \n",
       "\n",
       "                            PCA50  \n",
       "100001_raw-Food_weight  -0.933407  \n",
       "100002_raw-Energy       -0.230092  \n",
       "100003_raw-Protein      -1.136366  \n",
       "100004_raw-Fat           0.431179  \n",
       "100005_raw-Carbohydrate  2.461845  \n",
       "\n",
       "[5 rows x 50 columns]"
      ]
     },
     "execution_count": 15,
     "metadata": {},
     "output_type": "execute_result"
    }
   ],
   "source": [
    "data.head()"
   ]
  },
  {
   "cell_type": "code",
   "execution_count": 16,
   "id": "281e0668",
   "metadata": {
    "execution": {
     "iopub.execute_input": "2022-09-13T03:30:16.401296Z",
     "iopub.status.busy": "2022-09-13T03:30:16.401133Z",
     "iopub.status.idle": "2022-09-13T03:30:16.419332Z",
     "shell.execute_reply": "2022-09-13T03:30:16.418822Z"
    },
    "papermill": {
     "duration": 0.026041,
     "end_time": "2022-09-13T03:30:16.420826",
     "exception": false,
     "start_time": "2022-09-13T03:30:16.394785",
     "status": "completed"
    },
    "tags": []
   },
   "outputs": [],
   "source": [
    "assert not data.isna().any().any()"
   ]
  },
  {
   "cell_type": "markdown",
   "id": "1151daad",
   "metadata": {
    "papermill": {
     "duration": 0.005682,
     "end_time": "2022-09-13T03:30:16.432511",
     "exception": false,
     "start_time": "2022-09-13T03:30:16.426829",
     "status": "completed"
    },
    "tags": []
   },
   "source": [
    "## Clustering"
   ]
  },
  {
   "cell_type": "markdown",
   "id": "be317922",
   "metadata": {
    "papermill": {
     "duration": 0.005607,
     "end_time": "2022-09-13T03:30:16.443904",
     "exception": false,
     "start_time": "2022-09-13T03:30:16.438297",
     "status": "completed"
    },
    "tags": []
   },
   "source": [
    "### Generate clusterers"
   ]
  },
  {
   "cell_type": "code",
   "execution_count": 17,
   "id": "e7fb55aa",
   "metadata": {
    "execution": {
     "iopub.execute_input": "2022-09-13T03:30:16.464977Z",
     "iopub.status.busy": "2022-09-13T03:30:16.464768Z",
     "iopub.status.idle": "2022-09-13T03:30:16.488239Z",
     "shell.execute_reply": "2022-09-13T03:30:16.487640Z"
    },
    "papermill": {
     "duration": 0.031162,
     "end_time": "2022-09-13T03:30:16.489506",
     "exception": false,
     "start_time": "2022-09-13T03:30:16.458344",
     "status": "completed"
    },
    "tags": []
   },
   "outputs": [
    {
     "data": {
      "text/plain": [
       "{'K_RANGE': array([  2,   3,   4,   5,   6,   7,   8,   9,  10,  11,  12,  13,  14,\n",
       "         15,  16,  17,  18,  19,  20,  21,  22,  23,  24,  25,  26,  27,\n",
       "         28,  29,  30,  31,  32,  33,  34,  35,  36,  37,  38,  39,  40,\n",
       "         41,  42,  43,  44,  45,  46,  47,  48,  49,  50,  51,  52,  53,\n",
       "         54,  55,  56,  57,  58,  59,  60,  61,  62,  63,  64,  65,  66,\n",
       "         67,  68,  69,  70,  71,  72,  73,  74,  75,  76,  77,  78,  79,\n",
       "         80,  81,  82,  83,  84,  85,  86,  87,  88,  89,  90,  91,  92,\n",
       "         93,  94,  95,  96,  97,  98,  99, 100, 101, 102, 103, 104, 105,\n",
       "        106, 107, 108, 109, 110, 111, 112, 113, 114, 115, 116, 117, 118,\n",
       "        119, 120, 121, 122, 123, 124, 125]),\n",
       " 'EPS_RANGE_PER_K': {2: (10, 20),\n",
       "  3: (10, 20),\n",
       "  4: (10, 20),\n",
       "  5: (11, 25),\n",
       "  6: (11, 25),\n",
       "  7: (11, 25),\n",
       "  8: (11, 25),\n",
       "  9: (11, 25),\n",
       "  10: (12, 30),\n",
       "  11: (12, 30),\n",
       "  12: (12, 30),\n",
       "  13: (12, 30),\n",
       "  14: (12, 30),\n",
       "  15: (13, 35),\n",
       "  16: (13, 35),\n",
       "  17: (13, 35),\n",
       "  18: (13, 35),\n",
       "  19: (13, 35),\n",
       "  20: (14, 40),\n",
       "  21: (14, 40),\n",
       "  22: (14, 40),\n",
       "  23: (14, 40),\n",
       "  24: (14, 40),\n",
       "  25: (14, 40),\n",
       "  26: (14, 40),\n",
       "  27: (14, 40),\n",
       "  28: (14, 40),\n",
       "  29: (14, 40),\n",
       "  30: (14, 40),\n",
       "  31: (14, 40),\n",
       "  32: (14, 40),\n",
       "  33: (14, 40),\n",
       "  34: (14, 40),\n",
       "  35: (14, 40),\n",
       "  36: (14, 40),\n",
       "  37: (14, 40),\n",
       "  38: (14, 40),\n",
       "  39: (14, 40),\n",
       "  40: (14, 40),\n",
       "  41: (14, 40),\n",
       "  42: (14, 40),\n",
       "  43: (14, 40),\n",
       "  44: (14, 40),\n",
       "  45: (14, 40),\n",
       "  46: (14, 40),\n",
       "  47: (14, 40),\n",
       "  48: (14, 40),\n",
       "  49: (14, 40),\n",
       "  50: (14, 40),\n",
       "  51: (14, 40),\n",
       "  52: (14, 40),\n",
       "  53: (14, 40),\n",
       "  54: (14, 40),\n",
       "  55: (14, 40),\n",
       "  56: (14, 40),\n",
       "  57: (14, 40),\n",
       "  58: (14, 40),\n",
       "  59: (14, 40),\n",
       "  60: (14, 40),\n",
       "  61: (14, 40),\n",
       "  62: (14, 40),\n",
       "  63: (14, 40),\n",
       "  64: (14, 40),\n",
       "  65: (14, 40),\n",
       "  66: (14, 40),\n",
       "  67: (14, 40),\n",
       "  68: (14, 40),\n",
       "  69: (14, 40),\n",
       "  70: (14, 40),\n",
       "  71: (14, 40),\n",
       "  72: (14, 40),\n",
       "  73: (14, 40),\n",
       "  74: (14, 40),\n",
       "  75: (14, 40),\n",
       "  76: (14, 40),\n",
       "  77: (14, 40),\n",
       "  78: (14, 40),\n",
       "  79: (14, 40),\n",
       "  80: (14, 40),\n",
       "  81: (14, 40),\n",
       "  82: (14, 40),\n",
       "  83: (14, 40),\n",
       "  84: (14, 40),\n",
       "  85: (14, 40),\n",
       "  86: (14, 40),\n",
       "  87: (14, 40),\n",
       "  88: (14, 40),\n",
       "  89: (14, 40),\n",
       "  90: (14, 40),\n",
       "  91: (14, 40),\n",
       "  92: (14, 40),\n",
       "  93: (14, 40),\n",
       "  94: (14, 40),\n",
       "  95: (14, 40),\n",
       "  96: (14, 40),\n",
       "  97: (14, 40),\n",
       "  98: (14, 40),\n",
       "  99: (14, 40),\n",
       "  100: (14, 40),\n",
       "  101: (14, 40),\n",
       "  102: (14, 40),\n",
       "  103: (14, 40),\n",
       "  104: (14, 40),\n",
       "  105: (14, 40),\n",
       "  106: (14, 40),\n",
       "  107: (14, 40),\n",
       "  108: (14, 40),\n",
       "  109: (14, 40),\n",
       "  110: (14, 40),\n",
       "  111: (14, 40),\n",
       "  112: (14, 40),\n",
       "  113: (14, 40),\n",
       "  114: (14, 40),\n",
       "  115: (14, 40),\n",
       "  116: (14, 40),\n",
       "  117: (14, 40),\n",
       "  118: (14, 40),\n",
       "  119: (14, 40),\n",
       "  120: (14, 40),\n",
       "  121: (14, 40),\n",
       "  122: (14, 40),\n",
       "  123: (14, 40),\n",
       "  124: (14, 40),\n",
       "  125: (14, 40)},\n",
       " 'EPS_STEP': 33,\n",
       " 'METRIC': 'euclidean'}"
      ]
     },
     "metadata": {},
     "output_type": "display_data"
    }
   ],
   "source": [
    "CLUSTERING_OPTIONS = {}\n",
    "\n",
    "# K_RANGE is the min_samples parameter in DBSCAN (sklearn)\n",
    "CLUSTERING_OPTIONS[\"K_RANGE\"] = k_values\n",
    "CLUSTERING_OPTIONS[\"EPS_RANGE_PER_K\"] = eps_range_per_k\n",
    "CLUSTERING_OPTIONS[\"EPS_STEP\"] = 33\n",
    "CLUSTERING_OPTIONS[\"METRIC\"] = \"euclidean\"\n",
    "\n",
    "display(CLUSTERING_OPTIONS)"
   ]
  },
  {
   "cell_type": "code",
   "execution_count": 18,
   "id": "215059b1",
   "metadata": {
    "execution": {
     "iopub.execute_input": "2022-09-13T03:30:16.502139Z",
     "iopub.status.busy": "2022-09-13T03:30:16.501970Z",
     "iopub.status.idle": "2022-09-13T03:30:16.534927Z",
     "shell.execute_reply": "2022-09-13T03:30:16.534379Z"
    },
    "papermill": {
     "duration": 0.040766,
     "end_time": "2022-09-13T03:30:16.536294",
     "exception": false,
     "start_time": "2022-09-13T03:30:16.495528",
     "status": "completed"
    },
    "tags": []
   },
   "outputs": [],
   "source": [
    "CLUSTERERS = {}\n",
    "\n",
    "idx = 0\n",
    "\n",
    "for k in CLUSTERING_OPTIONS[\"K_RANGE\"]:\n",
    "    eps_range = CLUSTERING_OPTIONS[\"EPS_RANGE_PER_K\"][k]\n",
    "    eps_values = np.linspace(eps_range[0], eps_range[1], CLUSTERING_OPTIONS[\"EPS_STEP\"])\n",
    "\n",
    "    for eps in eps_values:\n",
    "        clus = DBSCAN(min_samples=k, eps=eps, metric=\"precomputed\", n_jobs=N_JOBS)\n",
    "\n",
    "        method_name = type(clus).__name__\n",
    "        CLUSTERERS[f\"{method_name} #{idx}\"] = clus\n",
    "\n",
    "        idx = idx + 1"
   ]
  },
  {
   "cell_type": "code",
   "execution_count": 19,
   "id": "41fecacf",
   "metadata": {
    "execution": {
     "iopub.execute_input": "2022-09-13T03:30:16.548917Z",
     "iopub.status.busy": "2022-09-13T03:30:16.548754Z",
     "iopub.status.idle": "2022-09-13T03:30:16.566205Z",
     "shell.execute_reply": "2022-09-13T03:30:16.565726Z"
    },
    "papermill": {
     "duration": 0.025206,
     "end_time": "2022-09-13T03:30:16.567464",
     "exception": false,
     "start_time": "2022-09-13T03:30:16.542258",
     "status": "completed"
    },
    "tags": []
   },
   "outputs": [
    {
     "data": {
      "text/plain": [
       "4092"
      ]
     },
     "metadata": {},
     "output_type": "display_data"
    }
   ],
   "source": [
    "display(len(CLUSTERERS))"
   ]
  },
  {
   "cell_type": "code",
   "execution_count": 20,
   "id": "1ca2bd25",
   "metadata": {
    "execution": {
     "iopub.execute_input": "2022-09-13T03:30:16.580211Z",
     "iopub.status.busy": "2022-09-13T03:30:16.580047Z",
     "iopub.status.idle": "2022-09-13T03:30:16.599778Z",
     "shell.execute_reply": "2022-09-13T03:30:16.599253Z"
    },
    "papermill": {
     "duration": 0.027587,
     "end_time": "2022-09-13T03:30:16.601075",
     "exception": false,
     "start_time": "2022-09-13T03:30:16.573488",
     "status": "completed"
    },
    "tags": []
   },
   "outputs": [
    {
     "data": {
      "text/plain": [
       "('DBSCAN #0', DBSCAN(eps=10.0, metric='precomputed', min_samples=2, n_jobs=3))"
      ]
     },
     "metadata": {},
     "output_type": "display_data"
    },
    {
     "data": {
      "text/plain": [
       "('DBSCAN #1',\n",
       " DBSCAN(eps=10.3125, metric='precomputed', min_samples=2, n_jobs=3))"
      ]
     },
     "metadata": {},
     "output_type": "display_data"
    }
   ],
   "source": [
    "_iter = iter(CLUSTERERS.items())\n",
    "display(next(_iter))\n",
    "display(next(_iter))"
   ]
  },
  {
   "cell_type": "code",
   "execution_count": 21,
   "id": "933bfb2e",
   "metadata": {
    "execution": {
     "iopub.execute_input": "2022-09-13T03:30:16.614487Z",
     "iopub.status.busy": "2022-09-13T03:30:16.614323Z",
     "iopub.status.idle": "2022-09-13T03:30:16.632309Z",
     "shell.execute_reply": "2022-09-13T03:30:16.631865Z"
    },
    "papermill": {
     "duration": 0.026144,
     "end_time": "2022-09-13T03:30:16.633583",
     "exception": false,
     "start_time": "2022-09-13T03:30:16.607439",
     "status": "completed"
    },
    "tags": []
   },
   "outputs": [
    {
     "data": {
      "text/plain": [
       "'DBSCAN'"
      ]
     },
     "metadata": {},
     "output_type": "display_data"
    }
   ],
   "source": [
    "clustering_method_name = method_name\n",
    "display(clustering_method_name)"
   ]
  },
  {
   "cell_type": "markdown",
   "id": "46618e8d",
   "metadata": {
    "papermill": {
     "duration": 0.006196,
     "end_time": "2022-09-13T03:30:16.646204",
     "exception": false,
     "start_time": "2022-09-13T03:30:16.640008",
     "status": "completed"
    },
    "tags": []
   },
   "source": [
    "### Generate ensemble"
   ]
  },
  {
   "cell_type": "code",
   "execution_count": 22,
   "id": "60660b30",
   "metadata": {
    "execution": {
     "iopub.execute_input": "2022-09-13T03:30:16.659747Z",
     "iopub.status.busy": "2022-09-13T03:30:16.659580Z",
     "iopub.status.idle": "2022-09-13T03:30:16.786567Z",
     "shell.execute_reply": "2022-09-13T03:30:16.786077Z"
    },
    "papermill": {
     "duration": 0.135605,
     "end_time": "2022-09-13T03:30:16.788139",
     "exception": false,
     "start_time": "2022-09-13T03:30:16.652534",
     "status": "completed"
    },
    "tags": []
   },
   "outputs": [],
   "source": [
    "data_dist = pairwise_distances(data, metric=CLUSTERING_OPTIONS[\"METRIC\"])"
   ]
  },
  {
   "cell_type": "code",
   "execution_count": 23,
   "id": "e1b802a3",
   "metadata": {
    "execution": {
     "iopub.execute_input": "2022-09-13T03:30:16.801589Z",
     "iopub.status.busy": "2022-09-13T03:30:16.801400Z",
     "iopub.status.idle": "2022-09-13T03:30:16.819682Z",
     "shell.execute_reply": "2022-09-13T03:30:16.819199Z"
    },
    "papermill": {
     "duration": 0.026623,
     "end_time": "2022-09-13T03:30:16.821026",
     "exception": false,
     "start_time": "2022-09-13T03:30:16.794403",
     "status": "completed"
    },
    "tags": []
   },
   "outputs": [
    {
     "data": {
      "text/plain": [
       "(3752, 3752)"
      ]
     },
     "execution_count": 23,
     "metadata": {},
     "output_type": "execute_result"
    }
   ],
   "source": [
    "data_dist.shape"
   ]
  },
  {
   "cell_type": "code",
   "execution_count": 24,
   "id": "08a2b671",
   "metadata": {
    "execution": {
     "iopub.execute_input": "2022-09-13T03:30:16.834582Z",
     "iopub.status.busy": "2022-09-13T03:30:16.834420Z",
     "iopub.status.idle": "2022-09-13T03:30:17.453535Z",
     "shell.execute_reply": "2022-09-13T03:30:17.453024Z"
    },
    "papermill": {
     "duration": 0.627307,
     "end_time": "2022-09-13T03:30:17.454816",
     "exception": false,
     "start_time": "2022-09-13T03:30:16.827509",
     "status": "completed"
    },
    "tags": []
   },
   "outputs": [
    {
     "data": {
      "text/plain": [
       "count            14077504.0\n",
       "mean      14.21040051287485\n",
       "std      3.7431499846469296\n",
       "min                     0.0\n",
       "25%      12.590219844612541\n",
       "50%       13.66332691067814\n",
       "75%       14.81915312014235\n",
       "max       78.59712232322461\n",
       "dtype: object"
      ]
     },
     "execution_count": 24,
     "metadata": {},
     "output_type": "execute_result"
    }
   ],
   "source": [
    "pd.Series(data_dist.flatten()).describe().apply(str)"
   ]
  },
  {
   "cell_type": "code",
   "execution_count": 25,
   "id": "183513e3",
   "metadata": {
    "execution": {
     "iopub.execute_input": "2022-09-13T03:30:17.468858Z",
     "iopub.status.busy": "2022-09-13T03:30:17.468701Z",
     "iopub.status.idle": "2022-09-13T03:45:10.088721Z",
     "shell.execute_reply": "2022-09-13T03:45:10.088225Z"
    },
    "papermill": {
     "duration": 892.628566,
     "end_time": "2022-09-13T03:45:10.090138",
     "exception": false,
     "start_time": "2022-09-13T03:30:17.461572",
     "status": "completed"
    },
    "tags": []
   },
   "outputs": [
    {
     "name": "stderr",
     "output_type": "stream",
     "text": [
      "100%|██████████| 4092/4092 [14:52<00:00,  4.58it/s]\n"
     ]
    }
   ],
   "source": [
    "ensemble = generate_ensemble(\n",
    "    data_dist,\n",
    "    CLUSTERERS,\n",
    "    attributes=CLUSTERING_ATTRIBUTES_TO_SAVE,\n",
    ")"
   ]
  },
  {
   "cell_type": "code",
   "execution_count": 26,
   "id": "4cab4b7d",
   "metadata": {
    "execution": {
     "iopub.execute_input": "2022-09-13T03:45:10.396086Z",
     "iopub.status.busy": "2022-09-13T03:45:10.395911Z",
     "iopub.status.idle": "2022-09-13T03:45:10.414551Z",
     "shell.execute_reply": "2022-09-13T03:45:10.414023Z"
    },
    "papermill": {
     "duration": 0.190868,
     "end_time": "2022-09-13T03:45:10.415909",
     "exception": false,
     "start_time": "2022-09-13T03:45:10.225041",
     "status": "completed"
    },
    "tags": []
   },
   "outputs": [
    {
     "data": {
      "text/plain": [
       "(1, 3)"
      ]
     },
     "execution_count": 26,
     "metadata": {},
     "output_type": "execute_result"
    }
   ],
   "source": [
    "ensemble.shape"
   ]
  },
  {
   "cell_type": "code",
   "execution_count": 27,
   "id": "3a7de57b",
   "metadata": {
    "execution": {
     "iopub.execute_input": "2022-09-13T03:45:10.682320Z",
     "iopub.status.busy": "2022-09-13T03:45:10.682097Z",
     "iopub.status.idle": "2022-09-13T03:45:10.704391Z",
     "shell.execute_reply": "2022-09-13T03:45:10.703876Z"
    },
    "papermill": {
     "duration": 0.156732,
     "end_time": "2022-09-13T03:45:10.705575",
     "exception": false,
     "start_time": "2022-09-13T03:45:10.548843",
     "status": "completed"
    },
    "tags": []
   },
   "outputs": [
    {
     "data": {
      "text/html": [
       "<div>\n",
       "<style scoped>\n",
       "    .dataframe tbody tr th:only-of-type {\n",
       "        vertical-align: middle;\n",
       "    }\n",
       "\n",
       "    .dataframe tbody tr th {\n",
       "        vertical-align: top;\n",
       "    }\n",
       "\n",
       "    .dataframe thead th {\n",
       "        text-align: right;\n",
       "    }\n",
       "</style>\n",
       "<table border=\"1\" class=\"dataframe\">\n",
       "  <thead>\n",
       "    <tr style=\"text-align: right;\">\n",
       "      <th></th>\n",
       "      <th>clusterer_params</th>\n",
       "      <th>partition</th>\n",
       "      <th>n_clusters</th>\n",
       "    </tr>\n",
       "    <tr>\n",
       "      <th>clusterer_id</th>\n",
       "      <th></th>\n",
       "      <th></th>\n",
       "      <th></th>\n",
       "    </tr>\n",
       "  </thead>\n",
       "  <tbody>\n",
       "    <tr>\n",
       "      <th>DBSCAN #0</th>\n",
       "      <td>{'algorithm': 'auto', 'eps': 10.0, 'leaf_size'...</td>\n",
       "      <td>[0.0, 0.0, 0.0, 0.0, 0.0, 0.0, 0.0, 0.0, 0.0, ...</td>\n",
       "      <td>2</td>\n",
       "    </tr>\n",
       "  </tbody>\n",
       "</table>\n",
       "</div>"
      ],
      "text/plain": [
       "                                               clusterer_params  \\\n",
       "clusterer_id                                                      \n",
       "DBSCAN #0     {'algorithm': 'auto', 'eps': 10.0, 'leaf_size'...   \n",
       "\n",
       "                                                      partition  n_clusters  \n",
       "clusterer_id                                                                 \n",
       "DBSCAN #0     [0.0, 0.0, 0.0, 0.0, 0.0, 0.0, 0.0, 0.0, 0.0, ...           2  "
      ]
     },
     "execution_count": 27,
     "metadata": {},
     "output_type": "execute_result"
    }
   ],
   "source": [
    "ensemble.head()"
   ]
  },
  {
   "cell_type": "code",
   "execution_count": 28,
   "id": "e23a2583",
   "metadata": {
    "execution": {
     "iopub.execute_input": "2022-09-13T03:45:10.971247Z",
     "iopub.status.busy": "2022-09-13T03:45:10.970767Z",
     "iopub.status.idle": "2022-09-13T03:45:10.990346Z",
     "shell.execute_reply": "2022-09-13T03:45:10.989752Z"
    },
    "papermill": {
     "duration": 0.153936,
     "end_time": "2022-09-13T03:45:10.991621",
     "exception": false,
     "start_time": "2022-09-13T03:45:10.837685",
     "status": "completed"
    },
    "tags": []
   },
   "outputs": [
    {
     "data": {
      "text/plain": [
       "2    1\n",
       "Name: n_clusters, dtype: int64"
      ]
     },
     "execution_count": 28,
     "metadata": {},
     "output_type": "execute_result"
    }
   ],
   "source": [
    "ensemble[\"n_clusters\"].value_counts().head()"
   ]
  },
  {
   "cell_type": "code",
   "execution_count": 29,
   "id": "ef6a6969",
   "metadata": {
    "execution": {
     "iopub.execute_input": "2022-09-13T03:45:11.291381Z",
     "iopub.status.busy": "2022-09-13T03:45:11.291164Z",
     "iopub.status.idle": "2022-09-13T03:45:11.311948Z",
     "shell.execute_reply": "2022-09-13T03:45:11.311462Z"
    },
    "papermill": {
     "duration": 0.156766,
     "end_time": "2022-09-13T03:45:11.313172",
     "exception": false,
     "start_time": "2022-09-13T03:45:11.156406",
     "status": "completed"
    },
    "tags": []
   },
   "outputs": [
    {
     "data": {
      "text/plain": [
       "count    1.0\n",
       "mean     2.0\n",
       "std      NaN\n",
       "min      2.0\n",
       "25%      2.0\n",
       "50%      2.0\n",
       "75%      2.0\n",
       "max      2.0\n",
       "Name: n_clusters, dtype: float64"
      ]
     },
     "metadata": {},
     "output_type": "display_data"
    }
   ],
   "source": [
    "ensemble_stats = ensemble[\"n_clusters\"].describe()\n",
    "display(ensemble_stats)"
   ]
  },
  {
   "cell_type": "code",
   "execution_count": 30,
   "id": "572f8940",
   "metadata": {
    "execution": {
     "iopub.execute_input": "2022-09-13T03:45:11.582075Z",
     "iopub.status.busy": "2022-09-13T03:45:11.581739Z",
     "iopub.status.idle": "2022-09-13T03:45:11.598814Z",
     "shell.execute_reply": "2022-09-13T03:45:11.598269Z"
    },
    "papermill": {
     "duration": 0.150927,
     "end_time": "2022-09-13T03:45:11.600187",
     "exception": false,
     "start_time": "2022-09-13T03:45:11.449260",
     "status": "completed"
    },
    "tags": []
   },
   "outputs": [],
   "source": [
    "assert (\n",
    "    ensemble.shape[0] > 0\n",
    "), \"Ensemble is empty, stopping here (this is not actually an error if running null simulations)\""
   ]
  },
  {
   "cell_type": "markdown",
   "id": "52c416fb",
   "metadata": {
    "papermill": {
     "duration": 0.131141,
     "end_time": "2022-09-13T03:45:11.864290",
     "exception": false,
     "start_time": "2022-09-13T03:45:11.733149",
     "status": "completed"
    },
    "tags": []
   },
   "source": [
    "### Testing"
   ]
  },
  {
   "cell_type": "code",
   "execution_count": 31,
   "id": "1b683f7d",
   "metadata": {
    "execution": {
     "iopub.execute_input": "2022-09-13T03:45:12.165223Z",
     "iopub.status.busy": "2022-09-13T03:45:12.165015Z",
     "iopub.status.idle": "2022-09-13T03:45:12.182249Z",
     "shell.execute_reply": "2022-09-13T03:45:12.181705Z"
    },
    "papermill": {
     "duration": 0.15282,
     "end_time": "2022-09-13T03:45:12.183532",
     "exception": false,
     "start_time": "2022-09-13T03:45:12.030712",
     "status": "completed"
    },
    "tags": []
   },
   "outputs": [],
   "source": [
    "assert ensemble_stats[\"min\"] > 1"
   ]
  },
  {
   "cell_type": "code",
   "execution_count": 32,
   "id": "a633efef",
   "metadata": {
    "execution": {
     "iopub.execute_input": "2022-09-13T03:45:12.453211Z",
     "iopub.status.busy": "2022-09-13T03:45:12.453003Z",
     "iopub.status.idle": "2022-09-13T03:45:12.470526Z",
     "shell.execute_reply": "2022-09-13T03:45:12.469996Z"
    },
    "papermill": {
     "duration": 0.155873,
     "end_time": "2022-09-13T03:45:12.471930",
     "exception": false,
     "start_time": "2022-09-13T03:45:12.316057",
     "status": "completed"
    },
    "tags": []
   },
   "outputs": [],
   "source": [
    "assert not ensemble[\"n_clusters\"].isna().any()"
   ]
  },
  {
   "cell_type": "code",
   "execution_count": 33,
   "id": "15957519",
   "metadata": {
    "execution": {
     "iopub.execute_input": "2022-09-13T03:45:12.739812Z",
     "iopub.status.busy": "2022-09-13T03:45:12.739594Z",
     "iopub.status.idle": "2022-09-13T03:45:12.757425Z",
     "shell.execute_reply": "2022-09-13T03:45:12.756712Z"
    },
    "papermill": {
     "duration": 0.152639,
     "end_time": "2022-09-13T03:45:12.758818",
     "exception": false,
     "start_time": "2022-09-13T03:45:12.606179",
     "status": "completed"
    },
    "tags": []
   },
   "outputs": [],
   "source": [
    "# assert ensemble.shape[0] == len(CLUSTERERS)"
   ]
  },
  {
   "cell_type": "code",
   "execution_count": 34,
   "id": "dddbbb82",
   "metadata": {
    "execution": {
     "iopub.execute_input": "2022-09-13T03:45:13.059630Z",
     "iopub.status.busy": "2022-09-13T03:45:13.059386Z",
     "iopub.status.idle": "2022-09-13T03:45:13.077696Z",
     "shell.execute_reply": "2022-09-13T03:45:13.077146Z"
    },
    "papermill": {
     "duration": 0.153728,
     "end_time": "2022-09-13T03:45:13.079049",
     "exception": false,
     "start_time": "2022-09-13T03:45:12.925321",
     "status": "completed"
    },
    "tags": []
   },
   "outputs": [],
   "source": [
    "# all partitions have the right size\n",
    "assert np.all(\n",
    "    [part[\"partition\"].shape[0] == data.shape[0] for idx, part in ensemble.iterrows()]\n",
    ")"
   ]
  },
  {
   "cell_type": "code",
   "execution_count": 35,
   "id": "5fd6233c",
   "metadata": {
    "execution": {
     "iopub.execute_input": "2022-09-13T03:45:13.346559Z",
     "iopub.status.busy": "2022-09-13T03:45:13.345850Z",
     "iopub.status.idle": "2022-09-13T03:45:13.365026Z",
     "shell.execute_reply": "2022-09-13T03:45:13.364417Z"
    },
    "papermill": {
     "duration": 0.15401,
     "end_time": "2022-09-13T03:45:13.366514",
     "exception": false,
     "start_time": "2022-09-13T03:45:13.212504",
     "status": "completed"
    },
    "tags": []
   },
   "outputs": [],
   "source": [
    "# no partition has negative clusters (noisy points)\n",
    "assert not np.any([(part[\"partition\"] < 0).any() for idx, part in ensemble.iterrows()])"
   ]
  },
  {
   "cell_type": "markdown",
   "id": "92be62a2",
   "metadata": {
    "papermill": {
     "duration": 0.134052,
     "end_time": "2022-09-13T03:45:13.635613",
     "exception": false,
     "start_time": "2022-09-13T03:45:13.501561",
     "status": "completed"
    },
    "tags": []
   },
   "source": [
    "### Save"
   ]
  },
  {
   "cell_type": "code",
   "execution_count": 36,
   "id": "aa126bc3",
   "metadata": {
    "execution": {
     "iopub.execute_input": "2022-09-13T03:45:13.932889Z",
     "iopub.status.busy": "2022-09-13T03:45:13.932669Z",
     "iopub.status.idle": "2022-09-13T03:45:13.951558Z",
     "shell.execute_reply": "2022-09-13T03:45:13.951065Z"
    },
    "papermill": {
     "duration": 0.152826,
     "end_time": "2022-09-13T03:45:13.952773",
     "exception": false,
     "start_time": "2022-09-13T03:45:13.799947",
     "status": "completed"
    },
    "tags": []
   },
   "outputs": [
    {
     "data": {
      "text/plain": [
       "PosixPath('/opt/data/results/clustering/null_sims/runs/pca-z_score_std-projection-smultixcan-efo_partial-mashr-zscores/DBSCAN.pkl')"
      ]
     },
     "metadata": {},
     "output_type": "display_data"
    }
   ],
   "source": [
    "output_filename = Path(\n",
    "    RESULTS_DIR,\n",
    "    generate_result_set_name(\n",
    "        {},\n",
    "        #         CLUSTERING_OPTIONS,\n",
    "        prefix=f\"{clustering_method_name}\",\n",
    "        suffix=\".pkl\",\n",
    "    ),\n",
    ").resolve()\n",
    "display(output_filename)"
   ]
  },
  {
   "cell_type": "code",
   "execution_count": 37,
   "id": "91116287",
   "metadata": {
    "execution": {
     "iopub.execute_input": "2022-09-13T03:45:14.219081Z",
     "iopub.status.busy": "2022-09-13T03:45:14.218874Z",
     "iopub.status.idle": "2022-09-13T03:45:14.236896Z",
     "shell.execute_reply": "2022-09-13T03:45:14.236390Z"
    },
    "papermill": {
     "duration": 0.152254,
     "end_time": "2022-09-13T03:45:14.238254",
     "exception": false,
     "start_time": "2022-09-13T03:45:14.086000",
     "status": "completed"
    },
    "tags": []
   },
   "outputs": [],
   "source": [
    "ensemble.to_pickle(output_filename)"
   ]
  },
  {
   "cell_type": "code",
   "execution_count": null,
   "id": "fdaba467",
   "metadata": {
    "papermill": {
     "duration": 0.166664,
     "end_time": "2022-09-13T03:45:14.540096",
     "exception": false,
     "start_time": "2022-09-13T03:45:14.373432",
     "status": "completed"
    },
    "tags": []
   },
   "outputs": [],
   "source": []
  }
 ],
 "metadata": {
  "jupytext": {
   "cell_metadata_filter": "all,-execution,-papermill,-trusted",
   "formats": "ipynb,py//py:percent"
  },
  "kernelspec": {
   "display_name": "Python 3 (ipykernel)",
   "language": "python",
   "name": "python3"
  },
  "language_info": {
   "codemirror_mode": {
    "name": "ipython",
    "version": 3
   },
   "file_extension": ".py",
   "mimetype": "text/x-python",
   "name": "python",
   "nbconvert_exporter": "python",
   "pygments_lexer": "ipython3",
   "version": "3.8.13"
  },
  "papermill": {
   "default_parameters": {},
   "duration": 901.081249,
   "end_time": "2022-09-13T03:45:14.996288",
   "environment_variables": {},
   "exception": null,
   "input_path": "nbs/13.1_cluster_analysis_null/12_01-dbscan-pca.ipynb",
   "output_path": "nbs/13.1_cluster_analysis_null/12_01-dbscan-pca.run.ipynb",
   "parameters": {},
   "start_time": "2022-09-13T03:30:13.915039",
   "version": "2.2.2"
  },
  "toc-autonumbering": true,
  "toc-showcode": false,
  "toc-showmarkdowntxt": false,
  "toc-showtags": false
 },
 "nbformat": 4,
 "nbformat_minor": 5
}
