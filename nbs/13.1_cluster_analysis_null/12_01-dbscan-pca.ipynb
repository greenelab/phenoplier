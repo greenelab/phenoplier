{
 "cells": [
  {
   "cell_type": "markdown",
   "metadata": {
    "papermill": {
     "duration": 0.011342,
     "end_time": "2021-03-10T01:34:35.750172",
     "exception": false,
     "start_time": "2021-03-10T01:34:35.738830",
     "status": "completed"
    },
    "tags": []
   },
   "source": [
    "# Description"
   ]
  },
  {
   "cell_type": "markdown",
   "metadata": {
    "papermill": {
     "duration": 0.006701,
     "end_time": "2021-03-10T01:34:35.763828",
     "exception": false,
     "start_time": "2021-03-10T01:34:35.757127",
     "status": "completed"
    },
    "tags": []
   },
   "source": [
    "It runs DBSCAN on the `pca` version of the data.\n",
    "\n",
    "The notebook explores different values for `min_samples` and `eps` (the main parameters of DBSCAN)."
   ]
  },
  {
   "cell_type": "markdown",
   "metadata": {
    "papermill": {
     "duration": 0.006719,
     "end_time": "2021-03-10T01:34:35.777362",
     "exception": false,
     "start_time": "2021-03-10T01:34:35.770643",
     "status": "completed"
    },
    "tags": []
   },
   "source": [
    "# Environment variables"
   ]
  },
  {
   "cell_type": "code",
   "execution_count": null,
   "metadata": {
    "papermill": {
     "duration": 0.022774,
     "end_time": "2021-03-10T01:34:35.806944",
     "exception": false,
     "start_time": "2021-03-10T01:34:35.784170",
     "status": "completed"
    },
    "tags": []
   },
   "outputs": [],
   "source": [
    "from IPython.display import display\n",
    "\n",
    "import conf\n",
    "\n",
    "N_JOBS = conf.GENERAL[\"N_JOBS\"]\n",
    "display(N_JOBS)"
   ]
  },
  {
   "cell_type": "code",
   "execution_count": null,
   "metadata": {
    "papermill": {
     "duration": 0.014188,
     "end_time": "2021-03-10T01:34:35.828879",
     "exception": false,
     "start_time": "2021-03-10T01:34:35.814691",
     "status": "completed"
    },
    "tags": []
   },
   "outputs": [],
   "source": [
    "%env MKL_NUM_THREADS=$N_JOBS\n",
    "%env OPEN_BLAS_NUM_THREADS=$N_JOBS\n",
    "%env NUMEXPR_NUM_THREADS=$N_JOBS\n",
    "%env OMP_NUM_THREADS=$N_JOBS"
   ]
  },
  {
   "cell_type": "markdown",
   "metadata": {
    "papermill": {
     "duration": 0.007365,
     "end_time": "2021-03-10T01:34:35.843946",
     "exception": false,
     "start_time": "2021-03-10T01:34:35.836581",
     "status": "completed"
    },
    "tags": []
   },
   "source": [
    "# Modules loading"
   ]
  },
  {
   "cell_type": "code",
   "execution_count": null,
   "metadata": {
    "papermill": {
     "duration": 0.017456,
     "end_time": "2021-03-10T01:34:35.869039",
     "exception": false,
     "start_time": "2021-03-10T01:34:35.851583",
     "status": "completed"
    },
    "tags": []
   },
   "outputs": [],
   "source": [
    "%load_ext autoreload\n",
    "%autoreload 2"
   ]
  },
  {
   "cell_type": "code",
   "execution_count": null,
   "metadata": {
    "papermill": {
     "duration": 0.674728,
     "end_time": "2021-03-10T01:34:36.551618",
     "exception": false,
     "start_time": "2021-03-10T01:34:35.876890",
     "status": "completed"
    },
    "tags": []
   },
   "outputs": [],
   "source": [
    "from pathlib import Path\n",
    "\n",
    "import numpy as np\n",
    "import pandas as pd\n",
    "from sklearn.neighbors import NearestNeighbors\n",
    "from sklearn.metrics import pairwise_distances\n",
    "from sklearn.cluster import DBSCAN\n",
    "import matplotlib.pyplot as plt\n",
    "\n",
    "from utils import generate_result_set_name\n",
    "from clustering.ensembles.utils import generate_ensemble"
   ]
  },
  {
   "cell_type": "markdown",
   "metadata": {
    "papermill": {
     "duration": 0.007384,
     "end_time": "2021-03-10T01:34:36.567064",
     "exception": false,
     "start_time": "2021-03-10T01:34:36.559680",
     "status": "completed"
    },
    "tags": []
   },
   "source": [
    "# Global settings"
   ]
  },
  {
   "cell_type": "code",
   "execution_count": null,
   "metadata": {
    "papermill": {
     "duration": 0.019997,
     "end_time": "2021-03-10T01:34:36.594423",
     "exception": false,
     "start_time": "2021-03-10T01:34:36.574426",
     "status": "completed"
    },
    "tags": []
   },
   "outputs": [],
   "source": [
    "np.random.seed(0)"
   ]
  },
  {
   "cell_type": "code",
   "execution_count": null,
   "metadata": {
    "papermill": {
     "duration": 0.01952,
     "end_time": "2021-03-10T01:34:36.621900",
     "exception": false,
     "start_time": "2021-03-10T01:34:36.602380",
     "status": "completed"
    },
    "tags": []
   },
   "outputs": [],
   "source": [
    "CLUSTERING_ATTRIBUTES_TO_SAVE = [\"n_clusters\"]"
   ]
  },
  {
   "cell_type": "markdown",
   "metadata": {
    "papermill": {
     "duration": 0.007161,
     "end_time": "2021-03-10T01:34:36.637139",
     "exception": false,
     "start_time": "2021-03-10T01:34:36.629978",
     "status": "completed"
    },
    "tags": []
   },
   "source": [
    "# Settings"
   ]
  },
  {
   "cell_type": "code",
   "execution_count": null,
   "metadata": {
    "papermill": {
     "duration": 0.020982,
     "end_time": "2021-03-10T01:34:36.665377",
     "exception": false,
     "start_time": "2021-03-10T01:34:36.644395",
     "status": "completed"
    },
    "tags": []
   },
   "outputs": [],
   "source": [
    "# these parameter values are taken from the pre-analysis notebook for this clustering method and data version\n",
    "k_values = np.arange(2, 125 + 1, 1)\n",
    "\n",
    "eps_range_per_k = {\n",
    "    k: (10, 20)\n",
    "    if k < 5\n",
    "    else (11, 25)\n",
    "    if k < 10\n",
    "    else (12, 30)\n",
    "    if k < 15\n",
    "    else (13, 35)\n",
    "    if k < 20\n",
    "    else (14, 40)\n",
    "    for k in k_values\n",
    "}"
   ]
  },
  {
   "cell_type": "markdown",
   "metadata": {
    "papermill": {
     "duration": 0.007545,
     "end_time": "2021-03-10T01:34:36.680852",
     "exception": false,
     "start_time": "2021-03-10T01:34:36.673307",
     "status": "completed"
    },
    "tags": []
   },
   "source": [
    "# Data version: pca"
   ]
  },
  {
   "cell_type": "markdown",
   "metadata": {
    "papermill": {
     "duration": 0.007524,
     "end_time": "2021-03-10T01:34:36.696072",
     "exception": false,
     "start_time": "2021-03-10T01:34:36.688548",
     "status": "completed"
    },
    "tags": []
   },
   "source": [
    "## Settings"
   ]
  },
  {
   "cell_type": "code",
   "execution_count": null,
   "metadata": {
    "papermill": {
     "duration": 0.01935,
     "end_time": "2021-03-10T01:34:36.722809",
     "exception": false,
     "start_time": "2021-03-10T01:34:36.703459",
     "status": "completed"
    },
    "tags": []
   },
   "outputs": [],
   "source": [
    "INPUT_SUBSET = \"pca\""
   ]
  },
  {
   "cell_type": "code",
   "execution_count": null,
   "metadata": {
    "papermill": {
     "duration": 0.020014,
     "end_time": "2021-03-10T01:34:36.750622",
     "exception": false,
     "start_time": "2021-03-10T01:34:36.730608",
     "status": "completed"
    },
    "tags": []
   },
   "outputs": [],
   "source": [
    "INPUT_STEM = \"z_score_std-projection-smultixcan-efo_partial-mashr-zscores\""
   ]
  },
  {
   "cell_type": "code",
   "execution_count": null,
   "metadata": {
    "papermill": {
     "duration": 0.019969,
     "end_time": "2021-03-10T01:34:36.778749",
     "exception": false,
     "start_time": "2021-03-10T01:34:36.758780",
     "status": "completed"
    },
    "tags": []
   },
   "outputs": [],
   "source": [
    "# parameters of the dimentionality reduction steps\n",
    "DR_OPTIONS = {\n",
    "    \"n_components\": 50,\n",
    "    \"svd_solver\": \"full\",\n",
    "    \"random_state\": 0,\n",
    "}"
   ]
  },
  {
   "cell_type": "code",
   "execution_count": null,
   "metadata": {
    "papermill": {
     "duration": 0.022268,
     "end_time": "2021-03-10T01:34:36.809182",
     "exception": false,
     "start_time": "2021-03-10T01:34:36.786914",
     "status": "completed"
    },
    "tags": []
   },
   "outputs": [],
   "source": [
    "input_filepath = Path(\n",
    "    conf.RESULTS[\"CLUSTERING_NULL_DIR\"],\n",
    "    \"data_transformations\",\n",
    "    INPUT_SUBSET,\n",
    "    generate_result_set_name(\n",
    "        DR_OPTIONS, prefix=f\"{INPUT_SUBSET}-{INPUT_STEM}-\", suffix=\".pkl\"\n",
    "    ),\n",
    ").resolve()\n",
    "display(input_filepath)\n",
    "\n",
    "assert input_filepath.exists(), \"Input file does not exist\"\n",
    "\n",
    "input_filepath_stem = input_filepath.stem\n",
    "display(input_filepath_stem)"
   ]
  },
  {
   "cell_type": "code",
   "execution_count": null,
   "metadata": {
    "papermill": {
     "duration": 0.021156,
     "end_time": "2021-03-10T01:34:36.838551",
     "exception": false,
     "start_time": "2021-03-10T01:34:36.817395",
     "status": "completed"
    },
    "tags": []
   },
   "outputs": [],
   "source": [
    "# output dir for this notebook\n",
    "RESULTS_DIR = Path(\n",
    "    conf.RESULTS[\"CLUSTERING_NULL_DIR\"],\n",
    "    \"runs\",\n",
    "    f\"{INPUT_SUBSET}-{INPUT_STEM}\",\n",
    ").resolve()\n",
    "RESULTS_DIR.mkdir(parents=True, exist_ok=True)\n",
    "\n",
    "display(RESULTS_DIR)"
   ]
  },
  {
   "cell_type": "markdown",
   "metadata": {
    "papermill": {
     "duration": 0.007584,
     "end_time": "2021-03-10T01:34:36.854401",
     "exception": false,
     "start_time": "2021-03-10T01:34:36.846817",
     "status": "completed"
    },
    "tags": []
   },
   "source": [
    "## Load input file"
   ]
  },
  {
   "cell_type": "code",
   "execution_count": null,
   "metadata": {
    "papermill": {
     "duration": 0.021411,
     "end_time": "2021-03-10T01:34:36.883329",
     "exception": false,
     "start_time": "2021-03-10T01:34:36.861918",
     "status": "completed"
    },
    "tags": []
   },
   "outputs": [],
   "source": [
    "data = pd.read_pickle(input_filepath)"
   ]
  },
  {
   "cell_type": "code",
   "execution_count": null,
   "metadata": {
    "papermill": {
     "duration": 0.020913,
     "end_time": "2021-03-10T01:34:36.912400",
     "exception": false,
     "start_time": "2021-03-10T01:34:36.891487",
     "status": "completed"
    },
    "tags": []
   },
   "outputs": [],
   "source": [
    "data.shape"
   ]
  },
  {
   "cell_type": "code",
   "execution_count": null,
   "metadata": {
    "papermill": {
     "duration": 0.033448,
     "end_time": "2021-03-10T01:34:36.954064",
     "exception": false,
     "start_time": "2021-03-10T01:34:36.920616",
     "status": "completed"
    },
    "tags": []
   },
   "outputs": [],
   "source": [
    "data.head()"
   ]
  },
  {
   "cell_type": "code",
   "execution_count": null,
   "metadata": {
    "papermill": {
     "duration": 0.021172,
     "end_time": "2021-03-10T01:34:36.983841",
     "exception": false,
     "start_time": "2021-03-10T01:34:36.962669",
     "status": "completed"
    },
    "tags": []
   },
   "outputs": [],
   "source": [
    "assert not data.isna().any().any()"
   ]
  },
  {
   "cell_type": "markdown",
   "metadata": {
    "papermill": {
     "duration": 0.008036,
     "end_time": "2021-03-10T01:34:37.000281",
     "exception": false,
     "start_time": "2021-03-10T01:34:36.992245",
     "status": "completed"
    },
    "tags": []
   },
   "source": [
    "## Clustering"
   ]
  },
  {
   "cell_type": "markdown",
   "metadata": {
    "papermill": {
     "duration": 0.007544,
     "end_time": "2021-03-10T01:34:37.015817",
     "exception": false,
     "start_time": "2021-03-10T01:34:37.008273",
     "status": "completed"
    },
    "tags": []
   },
   "source": [
    "### Generate clusterers"
   ]
  },
  {
   "cell_type": "code",
   "execution_count": null,
   "metadata": {
    "papermill": {
     "duration": 0.025974,
     "end_time": "2021-03-10T01:34:37.049407",
     "exception": false,
     "start_time": "2021-03-10T01:34:37.023433",
     "status": "completed"
    },
    "tags": []
   },
   "outputs": [],
   "source": [
    "CLUSTERING_OPTIONS = {}\n",
    "\n",
    "# K_RANGE is the min_samples parameter in DBSCAN (sklearn)\n",
    "CLUSTERING_OPTIONS[\"K_RANGE\"] = k_values\n",
    "CLUSTERING_OPTIONS[\"EPS_RANGE_PER_K\"] = eps_range_per_k\n",
    "CLUSTERING_OPTIONS[\"EPS_STEP\"] = 33\n",
    "CLUSTERING_OPTIONS[\"METRIC\"] = \"euclidean\"\n",
    "\n",
    "display(CLUSTERING_OPTIONS)"
   ]
  },
  {
   "cell_type": "code",
   "execution_count": null,
   "metadata": {
    "papermill": {
     "duration": 0.035924,
     "end_time": "2021-03-10T01:34:37.093552",
     "exception": false,
     "start_time": "2021-03-10T01:34:37.057628",
     "status": "completed"
    },
    "tags": []
   },
   "outputs": [],
   "source": [
    "CLUSTERERS = {}\n",
    "\n",
    "idx = 0\n",
    "\n",
    "for k in CLUSTERING_OPTIONS[\"K_RANGE\"]:\n",
    "    eps_range = CLUSTERING_OPTIONS[\"EPS_RANGE_PER_K\"][k]\n",
    "    eps_values = np.linspace(eps_range[0], eps_range[1], CLUSTERING_OPTIONS[\"EPS_STEP\"])\n",
    "\n",
    "    for eps in eps_values:\n",
    "        clus = DBSCAN(min_samples=k, eps=eps, metric=\"precomputed\", n_jobs=N_JOBS)\n",
    "\n",
    "        method_name = type(clus).__name__\n",
    "        CLUSTERERS[f\"{method_name} #{idx}\"] = clus\n",
    "\n",
    "        idx = idx + 1"
   ]
  },
  {
   "cell_type": "code",
   "execution_count": null,
   "metadata": {
    "papermill": {
     "duration": 0.021177,
     "end_time": "2021-03-10T01:34:37.123315",
     "exception": false,
     "start_time": "2021-03-10T01:34:37.102138",
     "status": "completed"
    },
    "tags": []
   },
   "outputs": [],
   "source": [
    "display(len(CLUSTERERS))"
   ]
  },
  {
   "cell_type": "code",
   "execution_count": null,
   "metadata": {
    "papermill": {
     "duration": 0.022689,
     "end_time": "2021-03-10T01:34:37.154538",
     "exception": false,
     "start_time": "2021-03-10T01:34:37.131849",
     "status": "completed"
    },
    "tags": []
   },
   "outputs": [],
   "source": [
    "_iter = iter(CLUSTERERS.items())\n",
    "display(next(_iter))\n",
    "display(next(_iter))"
   ]
  },
  {
   "cell_type": "code",
   "execution_count": null,
   "metadata": {
    "papermill": {
     "duration": 0.021166,
     "end_time": "2021-03-10T01:34:37.184331",
     "exception": false,
     "start_time": "2021-03-10T01:34:37.163165",
     "status": "completed"
    },
    "tags": []
   },
   "outputs": [],
   "source": [
    "clustering_method_name = method_name\n",
    "display(clustering_method_name)"
   ]
  },
  {
   "cell_type": "markdown",
   "metadata": {
    "papermill": {
     "duration": 0.008376,
     "end_time": "2021-03-10T01:34:37.201358",
     "exception": false,
     "start_time": "2021-03-10T01:34:37.192982",
     "status": "completed"
    },
    "tags": []
   },
   "source": [
    "### Generate ensemble"
   ]
  },
  {
   "cell_type": "code",
   "execution_count": null,
   "metadata": {
    "papermill": {
     "duration": 0.127135,
     "end_time": "2021-03-10T01:34:37.336462",
     "exception": false,
     "start_time": "2021-03-10T01:34:37.209327",
     "status": "completed"
    },
    "tags": []
   },
   "outputs": [],
   "source": [
    "data_dist = pairwise_distances(data, metric=CLUSTERING_OPTIONS[\"METRIC\"])"
   ]
  },
  {
   "cell_type": "code",
   "execution_count": null,
   "metadata": {
    "papermill": {
     "duration": 0.020571,
     "end_time": "2021-03-10T01:34:37.365728",
     "exception": false,
     "start_time": "2021-03-10T01:34:37.345157",
     "status": "completed"
    },
    "tags": []
   },
   "outputs": [],
   "source": [
    "data_dist.shape"
   ]
  },
  {
   "cell_type": "code",
   "execution_count": null,
   "metadata": {
    "papermill": {
     "duration": 0.597234,
     "end_time": "2021-03-10T01:34:37.971678",
     "exception": false,
     "start_time": "2021-03-10T01:34:37.374444",
     "status": "completed"
    },
    "tags": []
   },
   "outputs": [],
   "source": [
    "pd.Series(data_dist.flatten()).describe().apply(str)"
   ]
  },
  {
   "cell_type": "code",
   "execution_count": null,
   "metadata": {
    "papermill": {
     "duration": 790.363358,
     "end_time": "2021-03-10T01:47:48.343934",
     "exception": false,
     "start_time": "2021-03-10T01:34:37.980576",
     "status": "completed"
    },
    "tags": []
   },
   "outputs": [],
   "source": [
    "ensemble = generate_ensemble(\n",
    "    data_dist,\n",
    "    CLUSTERERS,\n",
    "    attributes=CLUSTERING_ATTRIBUTES_TO_SAVE,\n",
    ")"
   ]
  },
  {
   "cell_type": "code",
   "execution_count": null,
   "metadata": {
    "papermill": {
     "duration": 0.107279,
     "end_time": "2021-03-10T01:47:48.547049",
     "exception": false,
     "start_time": "2021-03-10T01:47:48.439770",
     "status": "completed"
    },
    "tags": []
   },
   "outputs": [],
   "source": [
    "ensemble.shape"
   ]
  },
  {
   "cell_type": "code",
   "execution_count": null,
   "metadata": {
    "papermill": {
     "duration": 0.141071,
     "end_time": "2021-03-10T01:47:48.782270",
     "exception": false,
     "start_time": "2021-03-10T01:47:48.641199",
     "status": "completed"
    },
    "tags": []
   },
   "outputs": [],
   "source": [
    "ensemble.head()"
   ]
  },
  {
   "cell_type": "code",
   "execution_count": null,
   "metadata": {
    "papermill": {
     "duration": 0.107689,
     "end_time": "2021-03-10T01:47:48.983697",
     "exception": false,
     "start_time": "2021-03-10T01:47:48.876008",
     "status": "completed"
    },
    "tags": []
   },
   "outputs": [],
   "source": [
    "ensemble[\"n_clusters\"].value_counts().head()"
   ]
  },
  {
   "cell_type": "code",
   "execution_count": null,
   "metadata": {
    "papermill": {
     "duration": 0.116554,
     "end_time": "2021-03-10T01:47:49.195470",
     "exception": false,
     "start_time": "2021-03-10T01:47:49.078916",
     "status": "completed"
    },
    "tags": []
   },
   "outputs": [],
   "source": [
    "ensemble_stats = ensemble[\"n_clusters\"].describe()\n",
    "display(ensemble_stats)"
   ]
  },
  {
   "cell_type": "markdown",
   "metadata": {
    "papermill": {
     "duration": 0.095635,
     "end_time": "2021-03-10T01:47:49.412024",
     "exception": false,
     "start_time": "2021-03-10T01:47:49.316389",
     "status": "completed"
    },
    "tags": []
   },
   "source": [
    "### Testing"
   ]
  },
  {
   "cell_type": "code",
   "execution_count": null,
   "metadata": {
    "papermill": {
     "duration": 0.106605,
     "end_time": "2021-03-10T01:47:49.611915",
     "exception": false,
     "start_time": "2021-03-10T01:47:49.505310",
     "status": "completed"
    },
    "tags": []
   },
   "outputs": [],
   "source": [
    "assert ensemble_stats[\"min\"] > 1"
   ]
  },
  {
   "cell_type": "code",
   "execution_count": null,
   "metadata": {
    "papermill": {
     "duration": 0.105231,
     "end_time": "2021-03-10T01:47:49.810379",
     "exception": false,
     "start_time": "2021-03-10T01:47:49.705148",
     "status": "completed"
    },
    "tags": []
   },
   "outputs": [],
   "source": [
    "assert not ensemble[\"n_clusters\"].isna().any()"
   ]
  },
  {
   "cell_type": "code",
   "execution_count": null,
   "metadata": {
    "papermill": {
     "duration": 0.105603,
     "end_time": "2021-03-10T01:47:50.036099",
     "exception": false,
     "start_time": "2021-03-10T01:47:49.930496",
     "status": "completed"
    },
    "tags": []
   },
   "outputs": [],
   "source": [
    "# assert ensemble.shape[0] == len(CLUSTERERS)"
   ]
  },
  {
   "cell_type": "code",
   "execution_count": null,
   "metadata": {
    "papermill": {
     "duration": 0.134045,
     "end_time": "2021-03-10T01:47:50.264950",
     "exception": false,
     "start_time": "2021-03-10T01:47:50.130905",
     "status": "completed"
    },
    "tags": []
   },
   "outputs": [],
   "source": [
    "# all partitions have the right size\n",
    "assert np.all(\n",
    "    [part[\"partition\"].shape[0] == data.shape[0] for idx, part in ensemble.iterrows()]\n",
    ")"
   ]
  },
  {
   "cell_type": "code",
   "execution_count": null,
   "metadata": {
    "papermill": {
     "duration": 0.166629,
     "end_time": "2021-03-10T01:47:50.524291",
     "exception": false,
     "start_time": "2021-03-10T01:47:50.357662",
     "status": "completed"
    },
    "tags": []
   },
   "outputs": [],
   "source": [
    "# no partition has negative clusters (noisy points)\n",
    "assert not np.any([(part[\"partition\"] < 0).any() for idx, part in ensemble.iterrows()])"
   ]
  },
  {
   "cell_type": "markdown",
   "metadata": {
    "papermill": {
     "duration": 0.093418,
     "end_time": "2021-03-10T01:47:50.711196",
     "exception": false,
     "start_time": "2021-03-10T01:47:50.617778",
     "status": "completed"
    },
    "tags": []
   },
   "source": [
    "### Save"
   ]
  },
  {
   "cell_type": "code",
   "execution_count": null,
   "metadata": {
    "papermill": {
     "duration": 0.107351,
     "end_time": "2021-03-10T01:47:50.912626",
     "exception": false,
     "start_time": "2021-03-10T01:47:50.805275",
     "status": "completed"
    },
    "tags": []
   },
   "outputs": [],
   "source": [
    "output_filename = Path(\n",
    "    RESULTS_DIR,\n",
    "    generate_result_set_name(\n",
    "        {},\n",
    "        #         CLUSTERING_OPTIONS,\n",
    "        prefix=f\"{clustering_method_name}\",\n",
    "        suffix=\".pkl\",\n",
    "    ),\n",
    ").resolve()\n",
    "display(output_filename)"
   ]
  },
  {
   "cell_type": "code",
   "execution_count": null,
   "metadata": {
    "papermill": {
     "duration": 0.15109,
     "end_time": "2021-03-10T01:47:51.158044",
     "exception": false,
     "start_time": "2021-03-10T01:47:51.006954",
     "status": "completed"
    },
    "tags": []
   },
   "outputs": [],
   "source": [
    "ensemble.to_pickle(output_filename)"
   ]
  },
  {
   "cell_type": "code",
   "execution_count": null,
   "metadata": {
    "papermill": {
     "duration": 0.094507,
     "end_time": "2021-03-10T01:47:51.348964",
     "exception": false,
     "start_time": "2021-03-10T01:47:51.254457",
     "status": "completed"
    },
    "tags": []
   },
   "outputs": [],
   "source": []
  }
 ],
 "metadata": {
  "jupytext": {
   "cell_metadata_filter": "all,-execution,-papermill,-trusted",
   "formats": "ipynb,py//py:percent"
  },
  "kernelspec": {
   "display_name": "Python 3 (ipykernel)",
   "language": "python",
   "name": "python3"
  },
  "language_info": {
   "codemirror_mode": {
    "name": "ipython",
    "version": 3
   },
   "file_extension": ".py",
   "mimetype": "text/x-python",
   "name": "python",
   "nbconvert_exporter": "python",
   "pygments_lexer": "ipython3",
   "version": "3.8.13"
  },
  "papermill": {
   "default_parameters": {},
   "duration": 797.07502,
   "end_time": "2021-03-10T01:47:51.850762",
   "environment_variables": {},
   "exception": null,
   "input_path": "15_cluster_analysis/002_01-dbscan-pca.ipynb",
   "output_path": "15_cluster_analysis/002_01-dbscan-pca.run.ipynb",
   "parameters": {},
   "start_time": "2021-03-10T01:34:34.775742",
   "version": "2.2.2"
  },
  "toc-autonumbering": true,
  "toc-showcode": false,
  "toc-showmarkdowntxt": false,
  "toc-showtags": false
 },
 "nbformat": 4,
 "nbformat_minor": 4
}
