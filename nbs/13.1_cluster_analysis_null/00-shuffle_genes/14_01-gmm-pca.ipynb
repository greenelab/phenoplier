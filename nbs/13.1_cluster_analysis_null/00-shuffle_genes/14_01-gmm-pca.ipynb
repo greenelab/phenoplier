{
 "cells": [
  {
   "cell_type": "markdown",
   "id": "9390565c",
   "metadata": {
    "papermill": {
     "duration": 0.010426,
     "end_time": "2022-11-26T11:38:06.277164",
     "exception": false,
     "start_time": "2022-11-26T11:38:06.266738",
     "status": "completed"
    },
    "tags": []
   },
   "source": [
    "# Description"
   ]
  },
  {
   "cell_type": "markdown",
   "id": "a6a4cb1f",
   "metadata": {
    "papermill": {
     "duration": 0.009636,
     "end_time": "2022-11-26T11:38:06.297038",
     "exception": false,
     "start_time": "2022-11-26T11:38:06.287402",
     "status": "completed"
    },
    "tags": []
   },
   "source": [
    "Runs gaussian mixture model on the pca version of the data."
   ]
  },
  {
   "cell_type": "markdown",
   "id": "0d6ccadd",
   "metadata": {
    "papermill": {
     "duration": 0.009603,
     "end_time": "2022-11-26T11:38:06.316236",
     "exception": false,
     "start_time": "2022-11-26T11:38:06.306633",
     "status": "completed"
    },
    "tags": []
   },
   "source": [
    "# Environment variables"
   ]
  },
  {
   "cell_type": "code",
   "execution_count": 1,
   "id": "3a64fb76",
   "metadata": {
    "execution": {
     "iopub.execute_input": "2022-11-26T11:38:06.336388Z",
     "iopub.status.busy": "2022-11-26T11:38:06.336246Z",
     "iopub.status.idle": "2022-11-26T11:38:06.349933Z",
     "shell.execute_reply": "2022-11-26T11:38:06.349548Z"
    },
    "papermill": {
     "duration": 0.025194,
     "end_time": "2022-11-26T11:38:06.351095",
     "exception": false,
     "start_time": "2022-11-26T11:38:06.325901",
     "status": "completed"
    },
    "tags": []
   },
   "outputs": [
    {
     "data": {
      "text/plain": [
       "10"
      ]
     },
     "metadata": {},
     "output_type": "display_data"
    }
   ],
   "source": [
    "from IPython.display import display\n",
    "\n",
    "import conf\n",
    "\n",
    "N_JOBS = conf.GENERAL[\"N_JOBS\"]\n",
    "display(N_JOBS)"
   ]
  },
  {
   "cell_type": "code",
   "execution_count": 2,
   "id": "230599ea",
   "metadata": {
    "execution": {
     "iopub.execute_input": "2022-11-26T11:38:06.371546Z",
     "iopub.status.busy": "2022-11-26T11:38:06.371429Z",
     "iopub.status.idle": "2022-11-26T11:38:06.376785Z",
     "shell.execute_reply": "2022-11-26T11:38:06.376367Z"
    },
    "papermill": {
     "duration": 0.016829,
     "end_time": "2022-11-26T11:38:06.377855",
     "exception": false,
     "start_time": "2022-11-26T11:38:06.361026",
     "status": "completed"
    },
    "tags": []
   },
   "outputs": [
    {
     "name": "stdout",
     "output_type": "stream",
     "text": [
      "env: MKL_NUM_THREADS=10\n",
      "env: OPEN_BLAS_NUM_THREADS=10\n",
      "env: NUMEXPR_NUM_THREADS=10\n",
      "env: OMP_NUM_THREADS=10\n"
     ]
    }
   ],
   "source": [
    "%env MKL_NUM_THREADS=$N_JOBS\n",
    "%env OPEN_BLAS_NUM_THREADS=$N_JOBS\n",
    "%env NUMEXPR_NUM_THREADS=$N_JOBS\n",
    "%env OMP_NUM_THREADS=$N_JOBS"
   ]
  },
  {
   "cell_type": "markdown",
   "id": "9d4fafc8",
   "metadata": {
    "papermill": {
     "duration": 0.009675,
     "end_time": "2022-11-26T11:38:06.397371",
     "exception": false,
     "start_time": "2022-11-26T11:38:06.387696",
     "status": "completed"
    },
    "tags": []
   },
   "source": [
    "# Modules loading"
   ]
  },
  {
   "cell_type": "code",
   "execution_count": 3,
   "id": "0defdc9a",
   "metadata": {
    "execution": {
     "iopub.execute_input": "2022-11-26T11:38:06.412205Z",
     "iopub.status.busy": "2022-11-26T11:38:06.411993Z",
     "iopub.status.idle": "2022-11-26T11:38:06.425475Z",
     "shell.execute_reply": "2022-11-26T11:38:06.425019Z"
    },
    "papermill": {
     "duration": 0.021135,
     "end_time": "2022-11-26T11:38:06.426385",
     "exception": false,
     "start_time": "2022-11-26T11:38:06.405250",
     "status": "completed"
    },
    "tags": []
   },
   "outputs": [],
   "source": [
    "%load_ext autoreload\n",
    "%autoreload 2"
   ]
  },
  {
   "cell_type": "code",
   "execution_count": 4,
   "id": "874bedc6",
   "metadata": {
    "execution": {
     "iopub.execute_input": "2022-11-26T11:38:06.439890Z",
     "iopub.status.busy": "2022-11-26T11:38:06.439673Z",
     "iopub.status.idle": "2022-11-26T11:38:06.918622Z",
     "shell.execute_reply": "2022-11-26T11:38:06.918192Z"
    },
    "papermill": {
     "duration": 0.486865,
     "end_time": "2022-11-26T11:38:06.919652",
     "exception": false,
     "start_time": "2022-11-26T11:38:06.432787",
     "status": "completed"
    },
    "tags": []
   },
   "outputs": [],
   "source": [
    "from pathlib import Path\n",
    "\n",
    "import numpy as np\n",
    "import pandas as pd\n",
    "import matplotlib.pyplot as plt\n",
    "import seaborn as sns\n",
    "\n",
    "from utils import generate_result_set_name"
   ]
  },
  {
   "cell_type": "markdown",
   "id": "7e55a15d",
   "metadata": {
    "papermill": {
     "duration": 0.009578,
     "end_time": "2022-11-26T11:38:06.936133",
     "exception": false,
     "start_time": "2022-11-26T11:38:06.926555",
     "status": "completed"
    },
    "tags": []
   },
   "source": [
    "# Settings"
   ]
  },
  {
   "cell_type": "code",
   "execution_count": 5,
   "id": "dcde6250",
   "metadata": {
    "execution": {
     "iopub.execute_input": "2022-11-26T11:38:06.950098Z",
     "iopub.status.busy": "2022-11-26T11:38:06.949879Z",
     "iopub.status.idle": "2022-11-26T11:38:06.961212Z",
     "shell.execute_reply": "2022-11-26T11:38:06.960876Z"
    },
    "papermill": {
     "duration": 0.019088,
     "end_time": "2022-11-26T11:38:06.961901",
     "exception": false,
     "start_time": "2022-11-26T11:38:06.942813",
     "status": "completed"
    },
    "tags": []
   },
   "outputs": [],
   "source": [
    "np.random.seed(0)"
   ]
  },
  {
   "cell_type": "code",
   "execution_count": 6,
   "id": "b9a4c975",
   "metadata": {
    "execution": {
     "iopub.execute_input": "2022-11-26T11:38:06.997025Z",
     "iopub.status.busy": "2022-11-26T11:38:06.996921Z",
     "iopub.status.idle": "2022-11-26T11:38:07.013811Z",
     "shell.execute_reply": "2022-11-26T11:38:07.013372Z"
    },
    "papermill": {
     "duration": 0.024731,
     "end_time": "2022-11-26T11:38:07.014707",
     "exception": false,
     "start_time": "2022-11-26T11:38:06.989976",
     "status": "completed"
    },
    "tags": []
   },
   "outputs": [],
   "source": [
    "INITIAL_RANDOM_STATE = 70000"
   ]
  },
  {
   "cell_type": "code",
   "execution_count": 7,
   "id": "49ab9577-7663-4edb-ac8e-21a71c382364",
   "metadata": {
    "execution": {
     "iopub.execute_input": "2022-11-26T11:38:07.028653Z",
     "iopub.status.busy": "2022-11-26T11:38:07.028431Z",
     "iopub.status.idle": "2022-11-26T11:38:07.046034Z",
     "shell.execute_reply": "2022-11-26T11:38:07.045598Z"
    },
    "papermill": {
     "duration": 0.025733,
     "end_time": "2022-11-26T11:38:07.046979",
     "exception": false,
     "start_time": "2022-11-26T11:38:07.021246",
     "status": "completed"
    },
    "tags": []
   },
   "outputs": [],
   "source": [
    "NULL_DIR = conf.RESULTS[\"CLUSTERING_NULL_DIR\"] / \"shuffle_genes\""
   ]
  },
  {
   "cell_type": "markdown",
   "id": "86453c74",
   "metadata": {
    "papermill": {
     "duration": 0.006389,
     "end_time": "2022-11-26T11:38:07.059887",
     "exception": false,
     "start_time": "2022-11-26T11:38:07.053498",
     "status": "completed"
    },
    "tags": []
   },
   "source": [
    "## Input data"
   ]
  },
  {
   "cell_type": "code",
   "execution_count": 8,
   "id": "b36e2cd6",
   "metadata": {
    "execution": {
     "iopub.execute_input": "2022-11-26T11:38:07.073644Z",
     "iopub.status.busy": "2022-11-26T11:38:07.073414Z",
     "iopub.status.idle": "2022-11-26T11:38:07.090839Z",
     "shell.execute_reply": "2022-11-26T11:38:07.090390Z"
    },
    "papermill": {
     "duration": 0.025334,
     "end_time": "2022-11-26T11:38:07.091783",
     "exception": false,
     "start_time": "2022-11-26T11:38:07.066449",
     "status": "completed"
    },
    "tags": []
   },
   "outputs": [],
   "source": [
    "INPUT_SUBSET = \"pca\""
   ]
  },
  {
   "cell_type": "code",
   "execution_count": 9,
   "id": "f627e8d7",
   "metadata": {
    "execution": {
     "iopub.execute_input": "2022-11-26T11:38:07.105457Z",
     "iopub.status.busy": "2022-11-26T11:38:07.105242Z",
     "iopub.status.idle": "2022-11-26T11:38:07.122546Z",
     "shell.execute_reply": "2022-11-26T11:38:07.122103Z"
    },
    "papermill": {
     "duration": 0.025059,
     "end_time": "2022-11-26T11:38:07.123456",
     "exception": false,
     "start_time": "2022-11-26T11:38:07.098397",
     "status": "completed"
    },
    "tags": []
   },
   "outputs": [],
   "source": [
    "INPUT_STEM = \"z_score_std-projection-smultixcan-efo_partial-mashr-zscores\""
   ]
  },
  {
   "cell_type": "code",
   "execution_count": 10,
   "id": "71f9d5c4",
   "metadata": {
    "execution": {
     "iopub.execute_input": "2022-11-26T11:38:07.137447Z",
     "iopub.status.busy": "2022-11-26T11:38:07.137067Z",
     "iopub.status.idle": "2022-11-26T11:38:07.154775Z",
     "shell.execute_reply": "2022-11-26T11:38:07.154328Z"
    },
    "papermill": {
     "duration": 0.025597,
     "end_time": "2022-11-26T11:38:07.155680",
     "exception": false,
     "start_time": "2022-11-26T11:38:07.130083",
     "status": "completed"
    },
    "tags": []
   },
   "outputs": [],
   "source": [
    "DR_OPTIONS = {\n",
    "    \"n_components\": 50,\n",
    "    \"svd_solver\": \"full\",\n",
    "    \"random_state\": 0,\n",
    "}"
   ]
  },
  {
   "cell_type": "code",
   "execution_count": 11,
   "id": "e7d97f47",
   "metadata": {
    "execution": {
     "iopub.execute_input": "2022-11-26T11:38:07.169494Z",
     "iopub.status.busy": "2022-11-26T11:38:07.169266Z",
     "iopub.status.idle": "2022-11-26T11:38:07.189572Z",
     "shell.execute_reply": "2022-11-26T11:38:07.189143Z"
    },
    "papermill": {
     "duration": 0.028258,
     "end_time": "2022-11-26T11:38:07.190368",
     "exception": false,
     "start_time": "2022-11-26T11:38:07.162110",
     "status": "completed"
    },
    "tags": []
   },
   "outputs": [
    {
     "data": {
      "text/plain": [
       "PosixPath('/opt/data/results/clustering/null_sims/shuffle_genes/data_transformations/pca/pca-z_score_std-projection-smultixcan-efo_partial-mashr-zscores-n_components_50-random_state_0-svd_solver_full.pkl')"
      ]
     },
     "metadata": {},
     "output_type": "display_data"
    },
    {
     "data": {
      "text/plain": [
       "'pca-z_score_std-projection-smultixcan-efo_partial-mashr-zscores-n_components_50-random_state_0-svd_solver_full'"
      ]
     },
     "metadata": {},
     "output_type": "display_data"
    }
   ],
   "source": [
    "input_filepath = Path(\n",
    "    NULL_DIR,\n",
    "    \"data_transformations\",\n",
    "    INPUT_SUBSET,\n",
    "    generate_result_set_name(\n",
    "        DR_OPTIONS, prefix=f\"{INPUT_SUBSET}-{INPUT_STEM}-\", suffix=\".pkl\"\n",
    "    ),\n",
    ").resolve()\n",
    "display(input_filepath)\n",
    "\n",
    "assert input_filepath.exists(), \"Input file does not exist\"\n",
    "\n",
    "input_filepath_stem = input_filepath.stem\n",
    "display(input_filepath_stem)"
   ]
  },
  {
   "cell_type": "markdown",
   "id": "6d056751",
   "metadata": {
    "papermill": {
     "duration": 0.006405,
     "end_time": "2022-11-26T11:38:07.203362",
     "exception": false,
     "start_time": "2022-11-26T11:38:07.196957",
     "status": "completed"
    },
    "tags": []
   },
   "source": [
    "## Clustering"
   ]
  },
  {
   "cell_type": "code",
   "execution_count": 12,
   "id": "9f3b411c",
   "metadata": {
    "execution": {
     "iopub.execute_input": "2022-11-26T11:38:07.217210Z",
     "iopub.status.busy": "2022-11-26T11:38:07.216904Z",
     "iopub.status.idle": "2022-11-26T11:38:07.305062Z",
     "shell.execute_reply": "2022-11-26T11:38:07.304647Z"
    },
    "papermill": {
     "duration": 0.095995,
     "end_time": "2022-11-26T11:38:07.305816",
     "exception": false,
     "start_time": "2022-11-26T11:38:07.209821",
     "status": "completed"
    },
    "tags": []
   },
   "outputs": [],
   "source": [
    "from sklearn.mixture import GaussianMixture"
   ]
  },
  {
   "cell_type": "code",
   "execution_count": 13,
   "id": "16040ea9",
   "metadata": {
    "execution": {
     "iopub.execute_input": "2022-11-26T11:38:07.319751Z",
     "iopub.status.busy": "2022-11-26T11:38:07.319311Z",
     "iopub.status.idle": "2022-11-26T11:38:07.331665Z",
     "shell.execute_reply": "2022-11-26T11:38:07.331330Z"
    },
    "papermill": {
     "duration": 0.02012,
     "end_time": "2022-11-26T11:38:07.332539",
     "exception": false,
     "start_time": "2022-11-26T11:38:07.312419",
     "status": "completed"
    },
    "tags": []
   },
   "outputs": [],
   "source": [
    "CLUSTERING_ATTRIBUTES_TO_SAVE = [\"n_clusters\"]"
   ]
  },
  {
   "cell_type": "code",
   "execution_count": 14,
   "id": "732613f7",
   "metadata": {
    "execution": {
     "iopub.execute_input": "2022-11-26T11:38:07.346375Z",
     "iopub.status.busy": "2022-11-26T11:38:07.346057Z",
     "iopub.status.idle": "2022-11-26T11:38:07.358673Z",
     "shell.execute_reply": "2022-11-26T11:38:07.358302Z"
    },
    "papermill": {
     "duration": 0.020127,
     "end_time": "2022-11-26T11:38:07.359398",
     "exception": false,
     "start_time": "2022-11-26T11:38:07.339271",
     "status": "completed"
    },
    "tags": []
   },
   "outputs": [
    {
     "data": {
      "text/plain": [
       "{'K_MIN': 2,\n",
       " 'K_MAX': 60,\n",
       " 'N_REPS_PER_K': 5,\n",
       " 'N_INIT': 10,\n",
       " 'COVARIANCE_TYPE': 'full'}"
      ]
     },
     "metadata": {},
     "output_type": "display_data"
    }
   ],
   "source": [
    "CLUSTERING_OPTIONS = {}\n",
    "\n",
    "CLUSTERING_OPTIONS[\"K_MIN\"] = 2\n",
    "CLUSTERING_OPTIONS[\"K_MAX\"] = 60  # sqrt(3749)\n",
    "CLUSTERING_OPTIONS[\"N_REPS_PER_K\"] = 5\n",
    "CLUSTERING_OPTIONS[\"N_INIT\"] = 10\n",
    "CLUSTERING_OPTIONS[\"COVARIANCE_TYPE\"] = \"full\"\n",
    "\n",
    "display(CLUSTERING_OPTIONS)"
   ]
  },
  {
   "cell_type": "code",
   "execution_count": 15,
   "id": "4b4841c6",
   "metadata": {
    "execution": {
     "iopub.execute_input": "2022-11-26T11:38:07.373327Z",
     "iopub.status.busy": "2022-11-26T11:38:07.373239Z",
     "iopub.status.idle": "2022-11-26T11:38:07.390399Z",
     "shell.execute_reply": "2022-11-26T11:38:07.389973Z"
    },
    "papermill": {
     "duration": 0.025187,
     "end_time": "2022-11-26T11:38:07.391251",
     "exception": false,
     "start_time": "2022-11-26T11:38:07.366064",
     "status": "completed"
    },
    "tags": []
   },
   "outputs": [],
   "source": [
    "CLUSTERERS = {}\n",
    "\n",
    "idx = 0\n",
    "random_state = INITIAL_RANDOM_STATE\n",
    "\n",
    "for k in range(CLUSTERING_OPTIONS[\"K_MIN\"], CLUSTERING_OPTIONS[\"K_MAX\"] + 1):\n",
    "    for i in range(CLUSTERING_OPTIONS[\"N_REPS_PER_K\"]):\n",
    "        clus = GaussianMixture(\n",
    "            n_components=k,\n",
    "            n_init=CLUSTERING_OPTIONS[\"N_INIT\"],\n",
    "            covariance_type=CLUSTERING_OPTIONS[\"COVARIANCE_TYPE\"],\n",
    "            random_state=random_state,\n",
    "        )\n",
    "\n",
    "        method_name = type(clus).__name__\n",
    "        CLUSTERERS[f\"{method_name} #{idx}\"] = clus\n",
    "\n",
    "        random_state = random_state + 1\n",
    "        idx = idx + 1"
   ]
  },
  {
   "cell_type": "code",
   "execution_count": 16,
   "id": "1d67f921",
   "metadata": {
    "execution": {
     "iopub.execute_input": "2022-11-26T11:38:07.405097Z",
     "iopub.status.busy": "2022-11-26T11:38:07.404918Z",
     "iopub.status.idle": "2022-11-26T11:38:07.424340Z",
     "shell.execute_reply": "2022-11-26T11:38:07.423910Z"
    },
    "papermill": {
     "duration": 0.027132,
     "end_time": "2022-11-26T11:38:07.425093",
     "exception": false,
     "start_time": "2022-11-26T11:38:07.397961",
     "status": "completed"
    },
    "tags": []
   },
   "outputs": [
    {
     "data": {
      "text/plain": [
       "295"
      ]
     },
     "metadata": {},
     "output_type": "display_data"
    }
   ],
   "source": [
    "display(len(CLUSTERERS))"
   ]
  },
  {
   "cell_type": "code",
   "execution_count": 17,
   "id": "4ac61a40",
   "metadata": {
    "execution": {
     "iopub.execute_input": "2022-11-26T11:38:07.439319Z",
     "iopub.status.busy": "2022-11-26T11:38:07.438993Z",
     "iopub.status.idle": "2022-11-26T11:38:07.461081Z",
     "shell.execute_reply": "2022-11-26T11:38:07.460655Z"
    },
    "papermill": {
     "duration": 0.029967,
     "end_time": "2022-11-26T11:38:07.461873",
     "exception": false,
     "start_time": "2022-11-26T11:38:07.431906",
     "status": "completed"
    },
    "tags": []
   },
   "outputs": [
    {
     "data": {
      "text/plain": [
       "('GaussianMixture #0',\n",
       " GaussianMixture(n_components=2, n_init=10, random_state=70000))"
      ]
     },
     "metadata": {},
     "output_type": "display_data"
    },
    {
     "data": {
      "text/plain": [
       "('GaussianMixture #1',\n",
       " GaussianMixture(n_components=2, n_init=10, random_state=70001))"
      ]
     },
     "metadata": {},
     "output_type": "display_data"
    }
   ],
   "source": [
    "_iter = iter(CLUSTERERS.items())\n",
    "display(next(_iter))\n",
    "display(next(_iter))"
   ]
  },
  {
   "cell_type": "code",
   "execution_count": 18,
   "id": "3acd2bae",
   "metadata": {
    "execution": {
     "iopub.execute_input": "2022-11-26T11:38:07.476151Z",
     "iopub.status.busy": "2022-11-26T11:38:07.475830Z",
     "iopub.status.idle": "2022-11-26T11:38:07.496554Z",
     "shell.execute_reply": "2022-11-26T11:38:07.496103Z"
    },
    "papermill": {
     "duration": 0.028677,
     "end_time": "2022-11-26T11:38:07.497352",
     "exception": false,
     "start_time": "2022-11-26T11:38:07.468675",
     "status": "completed"
    },
    "tags": []
   },
   "outputs": [
    {
     "data": {
      "text/plain": [
       "'GaussianMixture'"
      ]
     },
     "metadata": {},
     "output_type": "display_data"
    }
   ],
   "source": [
    "clustering_method_name = method_name\n",
    "display(clustering_method_name)"
   ]
  },
  {
   "cell_type": "markdown",
   "id": "7b96c7d8",
   "metadata": {
    "papermill": {
     "duration": 0.006715,
     "end_time": "2022-11-26T11:38:07.511037",
     "exception": false,
     "start_time": "2022-11-26T11:38:07.504322",
     "status": "completed"
    },
    "tags": []
   },
   "source": [
    "## Output directory"
   ]
  },
  {
   "cell_type": "code",
   "execution_count": 19,
   "id": "24de8828",
   "metadata": {
    "execution": {
     "iopub.execute_input": "2022-11-26T11:38:07.525627Z",
     "iopub.status.busy": "2022-11-26T11:38:07.525213Z",
     "iopub.status.idle": "2022-11-26T11:38:07.546343Z",
     "shell.execute_reply": "2022-11-26T11:38:07.545903Z"
    },
    "papermill": {
     "duration": 0.029358,
     "end_time": "2022-11-26T11:38:07.547151",
     "exception": false,
     "start_time": "2022-11-26T11:38:07.517793",
     "status": "completed"
    },
    "tags": []
   },
   "outputs": [
    {
     "data": {
      "text/plain": [
       "PosixPath('/opt/data/results/clustering/null_sims/shuffle_genes/runs/pca-z_score_std-projection-smultixcan-efo_partial-mashr-zscores')"
      ]
     },
     "metadata": {},
     "output_type": "display_data"
    }
   ],
   "source": [
    "# output dir for this notebook\n",
    "RESULTS_DIR = Path(\n",
    "    NULL_DIR,\n",
    "    \"runs\",\n",
    "    f\"{INPUT_SUBSET}-{INPUT_STEM}\",\n",
    ").resolve()\n",
    "RESULTS_DIR.mkdir(parents=True, exist_ok=True)\n",
    "\n",
    "display(RESULTS_DIR)"
   ]
  },
  {
   "cell_type": "markdown",
   "id": "fc3f0623",
   "metadata": {
    "papermill": {
     "duration": 0.006716,
     "end_time": "2022-11-26T11:38:07.560682",
     "exception": false,
     "start_time": "2022-11-26T11:38:07.553966",
     "status": "completed"
    },
    "tags": []
   },
   "source": [
    "# Load input file"
   ]
  },
  {
   "cell_type": "code",
   "execution_count": 20,
   "id": "9d258f97",
   "metadata": {
    "execution": {
     "iopub.execute_input": "2022-11-26T11:38:07.575321Z",
     "iopub.status.busy": "2022-11-26T11:38:07.574925Z",
     "iopub.status.idle": "2022-11-26T11:38:07.596996Z",
     "shell.execute_reply": "2022-11-26T11:38:07.596529Z"
    },
    "papermill": {
     "duration": 0.030174,
     "end_time": "2022-11-26T11:38:07.597829",
     "exception": false,
     "start_time": "2022-11-26T11:38:07.567655",
     "status": "completed"
    },
    "tags": []
   },
   "outputs": [],
   "source": [
    "data = pd.read_pickle(input_filepath)"
   ]
  },
  {
   "cell_type": "code",
   "execution_count": 21,
   "id": "5e5e644c",
   "metadata": {
    "execution": {
     "iopub.execute_input": "2022-11-26T11:38:07.612550Z",
     "iopub.status.busy": "2022-11-26T11:38:07.612125Z",
     "iopub.status.idle": "2022-11-26T11:38:07.632832Z",
     "shell.execute_reply": "2022-11-26T11:38:07.632363Z"
    },
    "papermill": {
     "duration": 0.029109,
     "end_time": "2022-11-26T11:38:07.633778",
     "exception": false,
     "start_time": "2022-11-26T11:38:07.604669",
     "status": "completed"
    },
    "tags": []
   },
   "outputs": [
    {
     "data": {
      "text/plain": [
       "(3752, 50)"
      ]
     },
     "execution_count": 21,
     "metadata": {},
     "output_type": "execute_result"
    }
   ],
   "source": [
    "data.shape"
   ]
  },
  {
   "cell_type": "code",
   "execution_count": 22,
   "id": "b355fa2a",
   "metadata": {
    "execution": {
     "iopub.execute_input": "2022-11-26T11:38:07.648252Z",
     "iopub.status.busy": "2022-11-26T11:38:07.648039Z",
     "iopub.status.idle": "2022-11-26T11:38:07.685472Z",
     "shell.execute_reply": "2022-11-26T11:38:07.684999Z"
    },
    "papermill": {
     "duration": 0.045575,
     "end_time": "2022-11-26T11:38:07.686286",
     "exception": false,
     "start_time": "2022-11-26T11:38:07.640711",
     "status": "completed"
    },
    "tags": []
   },
   "outputs": [
    {
     "data": {
      "text/html": [
       "<div>\n",
       "<style scoped>\n",
       "    .dataframe tbody tr th:only-of-type {\n",
       "        vertical-align: middle;\n",
       "    }\n",
       "\n",
       "    .dataframe tbody tr th {\n",
       "        vertical-align: top;\n",
       "    }\n",
       "\n",
       "    .dataframe thead th {\n",
       "        text-align: right;\n",
       "    }\n",
       "</style>\n",
       "<table border=\"1\" class=\"dataframe\">\n",
       "  <thead>\n",
       "    <tr style=\"text-align: right;\">\n",
       "      <th></th>\n",
       "      <th>PCA1</th>\n",
       "      <th>PCA2</th>\n",
       "      <th>PCA3</th>\n",
       "      <th>PCA4</th>\n",
       "      <th>PCA5</th>\n",
       "      <th>PCA6</th>\n",
       "      <th>PCA7</th>\n",
       "      <th>PCA8</th>\n",
       "      <th>PCA9</th>\n",
       "      <th>PCA10</th>\n",
       "      <th>...</th>\n",
       "      <th>PCA41</th>\n",
       "      <th>PCA42</th>\n",
       "      <th>PCA43</th>\n",
       "      <th>PCA44</th>\n",
       "      <th>PCA45</th>\n",
       "      <th>PCA46</th>\n",
       "      <th>PCA47</th>\n",
       "      <th>PCA48</th>\n",
       "      <th>PCA49</th>\n",
       "      <th>PCA50</th>\n",
       "    </tr>\n",
       "  </thead>\n",
       "  <tbody>\n",
       "    <tr>\n",
       "      <th>100001_raw-Food_weight</th>\n",
       "      <td>-0.844744</td>\n",
       "      <td>3.134501</td>\n",
       "      <td>-1.885185</td>\n",
       "      <td>0.800877</td>\n",
       "      <td>-0.283830</td>\n",
       "      <td>0.027480</td>\n",
       "      <td>0.611143</td>\n",
       "      <td>1.485636</td>\n",
       "      <td>0.202757</td>\n",
       "      <td>0.450528</td>\n",
       "      <td>...</td>\n",
       "      <td>2.547792</td>\n",
       "      <td>-1.128343</td>\n",
       "      <td>-0.907277</td>\n",
       "      <td>-0.049764</td>\n",
       "      <td>-1.669310</td>\n",
       "      <td>-0.721449</td>\n",
       "      <td>2.077602</td>\n",
       "      <td>0.799708</td>\n",
       "      <td>1.271524</td>\n",
       "      <td>-1.871291</td>\n",
       "    </tr>\n",
       "    <tr>\n",
       "      <th>100002_raw-Energy</th>\n",
       "      <td>-0.078568</td>\n",
       "      <td>-1.675988</td>\n",
       "      <td>-0.826605</td>\n",
       "      <td>0.872125</td>\n",
       "      <td>-1.257784</td>\n",
       "      <td>0.276976</td>\n",
       "      <td>0.123534</td>\n",
       "      <td>-0.225430</td>\n",
       "      <td>1.291625</td>\n",
       "      <td>-0.406739</td>\n",
       "      <td>...</td>\n",
       "      <td>-1.595450</td>\n",
       "      <td>-0.979352</td>\n",
       "      <td>2.081672</td>\n",
       "      <td>-1.266333</td>\n",
       "      <td>-1.430714</td>\n",
       "      <td>2.733243</td>\n",
       "      <td>-0.293793</td>\n",
       "      <td>-1.427649</td>\n",
       "      <td>-1.315076</td>\n",
       "      <td>1.458368</td>\n",
       "    </tr>\n",
       "    <tr>\n",
       "      <th>100003_raw-Protein</th>\n",
       "      <td>-1.966843</td>\n",
       "      <td>-0.720839</td>\n",
       "      <td>-0.621370</td>\n",
       "      <td>1.066950</td>\n",
       "      <td>0.612613</td>\n",
       "      <td>-1.143542</td>\n",
       "      <td>-3.256801</td>\n",
       "      <td>0.637131</td>\n",
       "      <td>1.275239</td>\n",
       "      <td>-1.746677</td>\n",
       "      <td>...</td>\n",
       "      <td>-0.898644</td>\n",
       "      <td>1.423939</td>\n",
       "      <td>0.200717</td>\n",
       "      <td>0.080861</td>\n",
       "      <td>-0.910925</td>\n",
       "      <td>-0.266207</td>\n",
       "      <td>1.036173</td>\n",
       "      <td>0.326860</td>\n",
       "      <td>-0.197079</td>\n",
       "      <td>-0.322935</td>\n",
       "    </tr>\n",
       "    <tr>\n",
       "      <th>100004_raw-Fat</th>\n",
       "      <td>0.332482</td>\n",
       "      <td>-0.928841</td>\n",
       "      <td>-0.216911</td>\n",
       "      <td>0.486861</td>\n",
       "      <td>0.454021</td>\n",
       "      <td>-1.316312</td>\n",
       "      <td>0.226607</td>\n",
       "      <td>2.504342</td>\n",
       "      <td>-0.740799</td>\n",
       "      <td>-2.027466</td>\n",
       "      <td>...</td>\n",
       "      <td>0.101529</td>\n",
       "      <td>0.032200</td>\n",
       "      <td>-0.658490</td>\n",
       "      <td>-0.288036</td>\n",
       "      <td>1.399674</td>\n",
       "      <td>2.502066</td>\n",
       "      <td>1.872188</td>\n",
       "      <td>-0.239398</td>\n",
       "      <td>-1.349670</td>\n",
       "      <td>-0.457304</td>\n",
       "    </tr>\n",
       "    <tr>\n",
       "      <th>100005_raw-Carbohydrate</th>\n",
       "      <td>2.106644</td>\n",
       "      <td>1.025306</td>\n",
       "      <td>0.405959</td>\n",
       "      <td>2.645132</td>\n",
       "      <td>0.881081</td>\n",
       "      <td>-1.718546</td>\n",
       "      <td>0.693749</td>\n",
       "      <td>0.135447</td>\n",
       "      <td>-0.303163</td>\n",
       "      <td>-0.525056</td>\n",
       "      <td>...</td>\n",
       "      <td>0.612486</td>\n",
       "      <td>-0.769634</td>\n",
       "      <td>-0.264214</td>\n",
       "      <td>3.150728</td>\n",
       "      <td>-1.403396</td>\n",
       "      <td>2.893334</td>\n",
       "      <td>0.900700</td>\n",
       "      <td>0.200481</td>\n",
       "      <td>-2.369759</td>\n",
       "      <td>-0.348016</td>\n",
       "    </tr>\n",
       "  </tbody>\n",
       "</table>\n",
       "<p>5 rows × 50 columns</p>\n",
       "</div>"
      ],
      "text/plain": [
       "                             PCA1      PCA2      PCA3      PCA4      PCA5  \\\n",
       "100001_raw-Food_weight  -0.844744  3.134501 -1.885185  0.800877 -0.283830   \n",
       "100002_raw-Energy       -0.078568 -1.675988 -0.826605  0.872125 -1.257784   \n",
       "100003_raw-Protein      -1.966843 -0.720839 -0.621370  1.066950  0.612613   \n",
       "100004_raw-Fat           0.332482 -0.928841 -0.216911  0.486861  0.454021   \n",
       "100005_raw-Carbohydrate  2.106644  1.025306  0.405959  2.645132  0.881081   \n",
       "\n",
       "                             PCA6      PCA7      PCA8      PCA9     PCA10  \\\n",
       "100001_raw-Food_weight   0.027480  0.611143  1.485636  0.202757  0.450528   \n",
       "100002_raw-Energy        0.276976  0.123534 -0.225430  1.291625 -0.406739   \n",
       "100003_raw-Protein      -1.143542 -3.256801  0.637131  1.275239 -1.746677   \n",
       "100004_raw-Fat          -1.316312  0.226607  2.504342 -0.740799 -2.027466   \n",
       "100005_raw-Carbohydrate -1.718546  0.693749  0.135447 -0.303163 -0.525056   \n",
       "\n",
       "                         ...     PCA41     PCA42     PCA43     PCA44  \\\n",
       "100001_raw-Food_weight   ...  2.547792 -1.128343 -0.907277 -0.049764   \n",
       "100002_raw-Energy        ... -1.595450 -0.979352  2.081672 -1.266333   \n",
       "100003_raw-Protein       ... -0.898644  1.423939  0.200717  0.080861   \n",
       "100004_raw-Fat           ...  0.101529  0.032200 -0.658490 -0.288036   \n",
       "100005_raw-Carbohydrate  ...  0.612486 -0.769634 -0.264214  3.150728   \n",
       "\n",
       "                            PCA45     PCA46     PCA47     PCA48     PCA49  \\\n",
       "100001_raw-Food_weight  -1.669310 -0.721449  2.077602  0.799708  1.271524   \n",
       "100002_raw-Energy       -1.430714  2.733243 -0.293793 -1.427649 -1.315076   \n",
       "100003_raw-Protein      -0.910925 -0.266207  1.036173  0.326860 -0.197079   \n",
       "100004_raw-Fat           1.399674  2.502066  1.872188 -0.239398 -1.349670   \n",
       "100005_raw-Carbohydrate -1.403396  2.893334  0.900700  0.200481 -2.369759   \n",
       "\n",
       "                            PCA50  \n",
       "100001_raw-Food_weight  -1.871291  \n",
       "100002_raw-Energy        1.458368  \n",
       "100003_raw-Protein      -0.322935  \n",
       "100004_raw-Fat          -0.457304  \n",
       "100005_raw-Carbohydrate -0.348016  \n",
       "\n",
       "[5 rows x 50 columns]"
      ]
     },
     "execution_count": 22,
     "metadata": {},
     "output_type": "execute_result"
    }
   ],
   "source": [
    "data.head()"
   ]
  },
  {
   "cell_type": "code",
   "execution_count": 23,
   "id": "72122128",
   "metadata": {
    "execution": {
     "iopub.execute_input": "2022-11-26T11:38:07.701553Z",
     "iopub.status.busy": "2022-11-26T11:38:07.701192Z",
     "iopub.status.idle": "2022-11-26T11:38:07.722232Z",
     "shell.execute_reply": "2022-11-26T11:38:07.721778Z"
    },
    "papermill": {
     "duration": 0.029512,
     "end_time": "2022-11-26T11:38:07.723163",
     "exception": false,
     "start_time": "2022-11-26T11:38:07.693651",
     "status": "completed"
    },
    "tags": []
   },
   "outputs": [],
   "source": [
    "assert not data.isna().any().any()"
   ]
  },
  {
   "cell_type": "markdown",
   "id": "6074de1a",
   "metadata": {
    "papermill": {
     "duration": 0.007036,
     "end_time": "2022-11-26T11:38:07.737335",
     "exception": false,
     "start_time": "2022-11-26T11:38:07.730299",
     "status": "completed"
    },
    "tags": []
   },
   "source": [
    "# Clustering"
   ]
  },
  {
   "cell_type": "markdown",
   "id": "93e56d7a",
   "metadata": {
    "papermill": {
     "duration": 0.006898,
     "end_time": "2022-11-26T11:38:07.751245",
     "exception": false,
     "start_time": "2022-11-26T11:38:07.744347",
     "status": "completed"
    },
    "tags": []
   },
   "source": [
    "## Generate ensemble"
   ]
  },
  {
   "cell_type": "code",
   "execution_count": 24,
   "id": "5892be46",
   "metadata": {
    "execution": {
     "iopub.execute_input": "2022-11-26T11:38:07.766619Z",
     "iopub.status.busy": "2022-11-26T11:38:07.766280Z",
     "iopub.status.idle": "2022-11-26T11:38:07.791634Z",
     "shell.execute_reply": "2022-11-26T11:38:07.791167Z"
    },
    "papermill": {
     "duration": 0.034241,
     "end_time": "2022-11-26T11:38:07.792585",
     "exception": false,
     "start_time": "2022-11-26T11:38:07.758344",
     "status": "completed"
    },
    "tags": []
   },
   "outputs": [],
   "source": [
    "from clustering.ensembles.utils import generate_ensemble"
   ]
  },
  {
   "cell_type": "code",
   "execution_count": 25,
   "id": "a8a71405",
   "metadata": {
    "execution": {
     "iopub.execute_input": "2022-11-26T11:38:07.808064Z",
     "iopub.status.busy": "2022-11-26T11:38:07.807654Z",
     "iopub.status.idle": "2022-11-26T13:58:25.971163Z",
     "shell.execute_reply": "2022-11-26T13:58:25.970899Z"
    },
    "papermill": {
     "duration": 8418.172623,
     "end_time": "2022-11-26T13:58:25.972405",
     "exception": false,
     "start_time": "2022-11-26T11:38:07.799782",
     "status": "completed"
    },
    "tags": []
   },
   "outputs": [
    {
     "name": "stderr",
     "output_type": "stream",
     "text": [
      "100%|██████████| 295/295 [2:20:18<00:00, 28.54s/it]\n"
     ]
    }
   ],
   "source": [
    "ensemble = generate_ensemble(\n",
    "    data,\n",
    "    CLUSTERERS,\n",
    "    attributes=CLUSTERING_ATTRIBUTES_TO_SAVE,\n",
    ")"
   ]
  },
  {
   "cell_type": "code",
   "execution_count": 26,
   "id": "be9752e4",
   "metadata": {
    "execution": {
     "iopub.execute_input": "2022-11-26T13:58:26.033428Z",
     "iopub.status.busy": "2022-11-26T13:58:26.033212Z",
     "iopub.status.idle": "2022-11-26T13:58:26.054346Z",
     "shell.execute_reply": "2022-11-26T13:58:26.053994Z"
    },
    "papermill": {
     "duration": 0.051449,
     "end_time": "2022-11-26T13:58:26.055085",
     "exception": false,
     "start_time": "2022-11-26T13:58:26.003636",
     "status": "completed"
    },
    "tags": []
   },
   "outputs": [
    {
     "data": {
      "text/plain": [
       "(295, 3)"
      ]
     },
     "execution_count": 26,
     "metadata": {},
     "output_type": "execute_result"
    }
   ],
   "source": [
    "# the number should be close to 295 (the number of partitions generated by k-means/spectral clustering)\n",
    "ensemble.shape"
   ]
  },
  {
   "cell_type": "code",
   "execution_count": 27,
   "id": "9d117766",
   "metadata": {
    "execution": {
     "iopub.execute_input": "2022-11-26T13:58:26.086993Z",
     "iopub.status.busy": "2022-11-26T13:58:26.086747Z",
     "iopub.status.idle": "2022-11-26T13:58:26.117789Z",
     "shell.execute_reply": "2022-11-26T13:58:26.117438Z"
    },
    "papermill": {
     "duration": 0.048156,
     "end_time": "2022-11-26T13:58:26.118547",
     "exception": false,
     "start_time": "2022-11-26T13:58:26.070391",
     "status": "completed"
    },
    "tags": []
   },
   "outputs": [
    {
     "data": {
      "text/html": [
       "<div>\n",
       "<style scoped>\n",
       "    .dataframe tbody tr th:only-of-type {\n",
       "        vertical-align: middle;\n",
       "    }\n",
       "\n",
       "    .dataframe tbody tr th {\n",
       "        vertical-align: top;\n",
       "    }\n",
       "\n",
       "    .dataframe thead th {\n",
       "        text-align: right;\n",
       "    }\n",
       "</style>\n",
       "<table border=\"1\" class=\"dataframe\">\n",
       "  <thead>\n",
       "    <tr style=\"text-align: right;\">\n",
       "      <th></th>\n",
       "      <th>clusterer_params</th>\n",
       "      <th>partition</th>\n",
       "      <th>n_clusters</th>\n",
       "    </tr>\n",
       "    <tr>\n",
       "      <th>clusterer_id</th>\n",
       "      <th></th>\n",
       "      <th></th>\n",
       "      <th></th>\n",
       "    </tr>\n",
       "  </thead>\n",
       "  <tbody>\n",
       "    <tr>\n",
       "      <th>GaussianMixture #0</th>\n",
       "      <td>{'covariance_type': 'full', 'init_params': 'km...</td>\n",
       "      <td>[1.0, 1.0, 1.0, 1.0, 1.0, 1.0, 1.0, 1.0, 1.0, ...</td>\n",
       "      <td>2</td>\n",
       "    </tr>\n",
       "    <tr>\n",
       "      <th>GaussianMixture #1</th>\n",
       "      <td>{'covariance_type': 'full', 'init_params': 'km...</td>\n",
       "      <td>[1.0, 1.0, 1.0, 1.0, 1.0, 1.0, 1.0, 1.0, 1.0, ...</td>\n",
       "      <td>2</td>\n",
       "    </tr>\n",
       "    <tr>\n",
       "      <th>GaussianMixture #2</th>\n",
       "      <td>{'covariance_type': 'full', 'init_params': 'km...</td>\n",
       "      <td>[0.0, 0.0, 0.0, 0.0, 0.0, 0.0, 0.0, 0.0, 0.0, ...</td>\n",
       "      <td>2</td>\n",
       "    </tr>\n",
       "    <tr>\n",
       "      <th>GaussianMixture #3</th>\n",
       "      <td>{'covariance_type': 'full', 'init_params': 'km...</td>\n",
       "      <td>[0.0, 0.0, 0.0, 0.0, 0.0, 0.0, 0.0, 0.0, 0.0, ...</td>\n",
       "      <td>2</td>\n",
       "    </tr>\n",
       "    <tr>\n",
       "      <th>GaussianMixture #4</th>\n",
       "      <td>{'covariance_type': 'full', 'init_params': 'km...</td>\n",
       "      <td>[0.0, 0.0, 0.0, 0.0, 0.0, 0.0, 0.0, 0.0, 0.0, ...</td>\n",
       "      <td>2</td>\n",
       "    </tr>\n",
       "  </tbody>\n",
       "</table>\n",
       "</div>"
      ],
      "text/plain": [
       "                                                     clusterer_params  \\\n",
       "clusterer_id                                                            \n",
       "GaussianMixture #0  {'covariance_type': 'full', 'init_params': 'km...   \n",
       "GaussianMixture #1  {'covariance_type': 'full', 'init_params': 'km...   \n",
       "GaussianMixture #2  {'covariance_type': 'full', 'init_params': 'km...   \n",
       "GaussianMixture #3  {'covariance_type': 'full', 'init_params': 'km...   \n",
       "GaussianMixture #4  {'covariance_type': 'full', 'init_params': 'km...   \n",
       "\n",
       "                                                            partition  \\\n",
       "clusterer_id                                                            \n",
       "GaussianMixture #0  [1.0, 1.0, 1.0, 1.0, 1.0, 1.0, 1.0, 1.0, 1.0, ...   \n",
       "GaussianMixture #1  [1.0, 1.0, 1.0, 1.0, 1.0, 1.0, 1.0, 1.0, 1.0, ...   \n",
       "GaussianMixture #2  [0.0, 0.0, 0.0, 0.0, 0.0, 0.0, 0.0, 0.0, 0.0, ...   \n",
       "GaussianMixture #3  [0.0, 0.0, 0.0, 0.0, 0.0, 0.0, 0.0, 0.0, 0.0, ...   \n",
       "GaussianMixture #4  [0.0, 0.0, 0.0, 0.0, 0.0, 0.0, 0.0, 0.0, 0.0, ...   \n",
       "\n",
       "                    n_clusters  \n",
       "clusterer_id                    \n",
       "GaussianMixture #0           2  \n",
       "GaussianMixture #1           2  \n",
       "GaussianMixture #2           2  \n",
       "GaussianMixture #3           2  \n",
       "GaussianMixture #4           2  "
      ]
     },
     "execution_count": 27,
     "metadata": {},
     "output_type": "execute_result"
    }
   ],
   "source": [
    "ensemble.head()"
   ]
  },
  {
   "cell_type": "code",
   "execution_count": 28,
   "id": "7b1334a8",
   "metadata": {
    "execution": {
     "iopub.execute_input": "2022-11-26T13:58:26.149805Z",
     "iopub.status.busy": "2022-11-26T13:58:26.149543Z",
     "iopub.status.idle": "2022-11-26T13:58:26.171270Z",
     "shell.execute_reply": "2022-11-26T13:58:26.170923Z"
    },
    "papermill": {
     "duration": 0.038054,
     "end_time": "2022-11-26T13:58:26.172015",
     "exception": false,
     "start_time": "2022-11-26T13:58:26.133961",
     "status": "completed"
    },
    "tags": []
   },
   "outputs": [
    {
     "data": {
      "text/plain": [
       "60    5\n",
       "16    5\n",
       "28    5\n",
       "27    5\n",
       "26    5\n",
       "Name: n_clusters, dtype: int64"
      ]
     },
     "execution_count": 28,
     "metadata": {},
     "output_type": "execute_result"
    }
   ],
   "source": [
    "ensemble[\"n_clusters\"].value_counts().head()"
   ]
  },
  {
   "cell_type": "code",
   "execution_count": 29,
   "id": "055f2518",
   "metadata": {
    "execution": {
     "iopub.execute_input": "2022-11-26T13:58:26.203288Z",
     "iopub.status.busy": "2022-11-26T13:58:26.203035Z",
     "iopub.status.idle": "2022-11-26T13:58:26.225876Z",
     "shell.execute_reply": "2022-11-26T13:58:26.225533Z"
    },
    "papermill": {
     "duration": 0.039303,
     "end_time": "2022-11-26T13:58:26.226634",
     "exception": false,
     "start_time": "2022-11-26T13:58:26.187331",
     "status": "completed"
    },
    "tags": []
   },
   "outputs": [
    {
     "data": {
      "text/plain": [
       "count    295.000000\n",
       "mean      31.000000\n",
       "std       17.058323\n",
       "min        2.000000\n",
       "25%       16.000000\n",
       "50%       31.000000\n",
       "75%       46.000000\n",
       "max       60.000000\n",
       "Name: n_clusters, dtype: float64"
      ]
     },
     "metadata": {},
     "output_type": "display_data"
    }
   ],
   "source": [
    "ensemble_stats = ensemble[\"n_clusters\"].describe()\n",
    "display(ensemble_stats)"
   ]
  },
  {
   "cell_type": "markdown",
   "id": "362adc77",
   "metadata": {
    "papermill": {
     "duration": 0.015305,
     "end_time": "2022-11-26T13:58:26.257180",
     "exception": false,
     "start_time": "2022-11-26T13:58:26.241875",
     "status": "completed"
    },
    "tags": []
   },
   "source": [
    "## Testing"
   ]
  },
  {
   "cell_type": "code",
   "execution_count": 30,
   "id": "41b128b1",
   "metadata": {
    "execution": {
     "iopub.execute_input": "2022-11-26T13:58:26.288586Z",
     "iopub.status.busy": "2022-11-26T13:58:26.288324Z",
     "iopub.status.idle": "2022-11-26T13:58:26.307996Z",
     "shell.execute_reply": "2022-11-26T13:58:26.307637Z"
    },
    "papermill": {
     "duration": 0.036212,
     "end_time": "2022-11-26T13:58:26.308822",
     "exception": false,
     "start_time": "2022-11-26T13:58:26.272610",
     "status": "completed"
    },
    "tags": []
   },
   "outputs": [],
   "source": [
    "assert ensemble_stats[\"min\"] > 1"
   ]
  },
  {
   "cell_type": "code",
   "execution_count": 31,
   "id": "1d4a95ec",
   "metadata": {
    "execution": {
     "iopub.execute_input": "2022-11-26T13:58:26.339828Z",
     "iopub.status.busy": "2022-11-26T13:58:26.339566Z",
     "iopub.status.idle": "2022-11-26T13:58:26.359059Z",
     "shell.execute_reply": "2022-11-26T13:58:26.358706Z"
    },
    "papermill": {
     "duration": 0.036041,
     "end_time": "2022-11-26T13:58:26.359870",
     "exception": false,
     "start_time": "2022-11-26T13:58:26.323829",
     "status": "completed"
    },
    "tags": []
   },
   "outputs": [],
   "source": [
    "assert not ensemble[\"n_clusters\"].isna().any()"
   ]
  },
  {
   "cell_type": "code",
   "execution_count": 32,
   "id": "e2df3b4a",
   "metadata": {
    "execution": {
     "iopub.execute_input": "2022-11-26T13:58:26.391277Z",
     "iopub.status.busy": "2022-11-26T13:58:26.391035Z",
     "iopub.status.idle": "2022-11-26T13:58:26.410229Z",
     "shell.execute_reply": "2022-11-26T13:58:26.409884Z"
    },
    "papermill": {
     "duration": 0.035616,
     "end_time": "2022-11-26T13:58:26.410959",
     "exception": false,
     "start_time": "2022-11-26T13:58:26.375343",
     "status": "completed"
    },
    "tags": []
   },
   "outputs": [],
   "source": [
    "assert ensemble.shape[0] == len(CLUSTERERS)"
   ]
  },
  {
   "cell_type": "code",
   "execution_count": 33,
   "id": "d01cc345",
   "metadata": {
    "execution": {
     "iopub.execute_input": "2022-11-26T13:58:26.442348Z",
     "iopub.status.busy": "2022-11-26T13:58:26.442147Z",
     "iopub.status.idle": "2022-11-26T13:58:26.486008Z",
     "shell.execute_reply": "2022-11-26T13:58:26.485643Z"
    },
    "papermill": {
     "duration": 0.060423,
     "end_time": "2022-11-26T13:58:26.486810",
     "exception": false,
     "start_time": "2022-11-26T13:58:26.426387",
     "status": "completed"
    },
    "tags": []
   },
   "outputs": [],
   "source": [
    "# all partitions have the right size\n",
    "assert np.all(\n",
    "    [part[\"partition\"].shape[0] == data.shape[0] for idx, part in ensemble.iterrows()]\n",
    ")"
   ]
  },
  {
   "cell_type": "code",
   "execution_count": 34,
   "id": "c792b601",
   "metadata": {
    "execution": {
     "iopub.execute_input": "2022-11-26T13:58:26.518459Z",
     "iopub.status.busy": "2022-11-26T13:58:26.518185Z",
     "iopub.status.idle": "2022-11-26T13:58:26.565394Z",
     "shell.execute_reply": "2022-11-26T13:58:26.565008Z"
    },
    "papermill": {
     "duration": 0.064062,
     "end_time": "2022-11-26T13:58:26.566221",
     "exception": false,
     "start_time": "2022-11-26T13:58:26.502159",
     "status": "completed"
    },
    "tags": []
   },
   "outputs": [],
   "source": [
    "# no partition has negative clusters (noisy points)\n",
    "assert not np.any([(part[\"partition\"] < 0).any() for idx, part in ensemble.iterrows()])"
   ]
  },
  {
   "cell_type": "markdown",
   "id": "f99684ef",
   "metadata": {
    "papermill": {
     "duration": 0.015204,
     "end_time": "2022-11-26T13:58:26.596894",
     "exception": false,
     "start_time": "2022-11-26T13:58:26.581690",
     "status": "completed"
    },
    "tags": []
   },
   "source": [
    "## Add clustering quality measures"
   ]
  },
  {
   "cell_type": "code",
   "execution_count": 35,
   "id": "9821196a",
   "metadata": {
    "execution": {
     "iopub.execute_input": "2022-11-26T13:58:26.628287Z",
     "iopub.status.busy": "2022-11-26T13:58:26.628035Z",
     "iopub.status.idle": "2022-11-26T13:58:26.648130Z",
     "shell.execute_reply": "2022-11-26T13:58:26.647785Z"
    },
    "papermill": {
     "duration": 0.036649,
     "end_time": "2022-11-26T13:58:26.648932",
     "exception": false,
     "start_time": "2022-11-26T13:58:26.612283",
     "status": "completed"
    },
    "tags": []
   },
   "outputs": [],
   "source": [
    "from sklearn.metrics import calinski_harabasz_score"
   ]
  },
  {
   "cell_type": "code",
   "execution_count": 36,
   "id": "bcb7c007",
   "metadata": {
    "execution": {
     "iopub.execute_input": "2022-11-26T13:58:26.680312Z",
     "iopub.status.busy": "2022-11-26T13:58:26.680074Z",
     "iopub.status.idle": "2022-11-26T13:58:27.432599Z",
     "shell.execute_reply": "2022-11-26T13:58:27.432291Z"
    },
    "papermill": {
     "duration": 0.769756,
     "end_time": "2022-11-26T13:58:27.434064",
     "exception": false,
     "start_time": "2022-11-26T13:58:26.664308",
     "status": "completed"
    },
    "tags": []
   },
   "outputs": [],
   "source": [
    "ensemble = ensemble.assign(\n",
    "    ch_score=ensemble[\"partition\"].apply(lambda x: calinski_harabasz_score(data, x))\n",
    ")"
   ]
  },
  {
   "cell_type": "code",
   "execution_count": 37,
   "id": "98cb1a25",
   "metadata": {
    "execution": {
     "iopub.execute_input": "2022-11-26T13:58:27.497752Z",
     "iopub.status.busy": "2022-11-26T13:58:27.497666Z",
     "iopub.status.idle": "2022-11-26T13:58:27.510127Z",
     "shell.execute_reply": "2022-11-26T13:58:27.509897Z"
    },
    "papermill": {
     "duration": 0.047161,
     "end_time": "2022-11-26T13:58:27.511327",
     "exception": false,
     "start_time": "2022-11-26T13:58:27.464166",
     "status": "completed"
    },
    "tags": []
   },
   "outputs": [
    {
     "data": {
      "text/plain": [
       "(295, 4)"
      ]
     },
     "execution_count": 37,
     "metadata": {},
     "output_type": "execute_result"
    }
   ],
   "source": [
    "ensemble.shape"
   ]
  },
  {
   "cell_type": "code",
   "execution_count": 38,
   "id": "8d343794",
   "metadata": {
    "execution": {
     "iopub.execute_input": "2022-11-26T13:58:27.560749Z",
     "iopub.status.busy": "2022-11-26T13:58:27.560668Z",
     "iopub.status.idle": "2022-11-26T13:58:27.590379Z",
     "shell.execute_reply": "2022-11-26T13:58:27.590032Z"
    },
    "papermill": {
     "duration": 0.049314,
     "end_time": "2022-11-26T13:58:27.591168",
     "exception": false,
     "start_time": "2022-11-26T13:58:27.541854",
     "status": "completed"
    },
    "tags": []
   },
   "outputs": [
    {
     "data": {
      "text/html": [
       "<div>\n",
       "<style scoped>\n",
       "    .dataframe tbody tr th:only-of-type {\n",
       "        vertical-align: middle;\n",
       "    }\n",
       "\n",
       "    .dataframe tbody tr th {\n",
       "        vertical-align: top;\n",
       "    }\n",
       "\n",
       "    .dataframe thead th {\n",
       "        text-align: right;\n",
       "    }\n",
       "</style>\n",
       "<table border=\"1\" class=\"dataframe\">\n",
       "  <thead>\n",
       "    <tr style=\"text-align: right;\">\n",
       "      <th></th>\n",
       "      <th>clusterer_params</th>\n",
       "      <th>partition</th>\n",
       "      <th>n_clusters</th>\n",
       "      <th>ch_score</th>\n",
       "    </tr>\n",
       "    <tr>\n",
       "      <th>clusterer_id</th>\n",
       "      <th></th>\n",
       "      <th></th>\n",
       "      <th></th>\n",
       "      <th></th>\n",
       "    </tr>\n",
       "  </thead>\n",
       "  <tbody>\n",
       "    <tr>\n",
       "      <th>GaussianMixture #0</th>\n",
       "      <td>{'covariance_type': 'full', 'init_params': 'km...</td>\n",
       "      <td>[1.0, 1.0, 1.0, 1.0, 1.0, 1.0, 1.0, 1.0, 1.0, ...</td>\n",
       "      <td>2</td>\n",
       "      <td>7.163178</td>\n",
       "    </tr>\n",
       "    <tr>\n",
       "      <th>GaussianMixture #1</th>\n",
       "      <td>{'covariance_type': 'full', 'init_params': 'km...</td>\n",
       "      <td>[1.0, 1.0, 1.0, 1.0, 1.0, 1.0, 1.0, 1.0, 1.0, ...</td>\n",
       "      <td>2</td>\n",
       "      <td>7.126991</td>\n",
       "    </tr>\n",
       "    <tr>\n",
       "      <th>GaussianMixture #2</th>\n",
       "      <td>{'covariance_type': 'full', 'init_params': 'km...</td>\n",
       "      <td>[0.0, 0.0, 0.0, 0.0, 0.0, 0.0, 0.0, 0.0, 0.0, ...</td>\n",
       "      <td>2</td>\n",
       "      <td>8.204407</td>\n",
       "    </tr>\n",
       "    <tr>\n",
       "      <th>GaussianMixture #3</th>\n",
       "      <td>{'covariance_type': 'full', 'init_params': 'km...</td>\n",
       "      <td>[0.0, 0.0, 0.0, 0.0, 0.0, 0.0, 0.0, 0.0, 0.0, ...</td>\n",
       "      <td>2</td>\n",
       "      <td>9.503352</td>\n",
       "    </tr>\n",
       "    <tr>\n",
       "      <th>GaussianMixture #4</th>\n",
       "      <td>{'covariance_type': 'full', 'init_params': 'km...</td>\n",
       "      <td>[0.0, 0.0, 0.0, 0.0, 0.0, 0.0, 0.0, 0.0, 0.0, ...</td>\n",
       "      <td>2</td>\n",
       "      <td>7.123411</td>\n",
       "    </tr>\n",
       "  </tbody>\n",
       "</table>\n",
       "</div>"
      ],
      "text/plain": [
       "                                                     clusterer_params  \\\n",
       "clusterer_id                                                            \n",
       "GaussianMixture #0  {'covariance_type': 'full', 'init_params': 'km...   \n",
       "GaussianMixture #1  {'covariance_type': 'full', 'init_params': 'km...   \n",
       "GaussianMixture #2  {'covariance_type': 'full', 'init_params': 'km...   \n",
       "GaussianMixture #3  {'covariance_type': 'full', 'init_params': 'km...   \n",
       "GaussianMixture #4  {'covariance_type': 'full', 'init_params': 'km...   \n",
       "\n",
       "                                                            partition  \\\n",
       "clusterer_id                                                            \n",
       "GaussianMixture #0  [1.0, 1.0, 1.0, 1.0, 1.0, 1.0, 1.0, 1.0, 1.0, ...   \n",
       "GaussianMixture #1  [1.0, 1.0, 1.0, 1.0, 1.0, 1.0, 1.0, 1.0, 1.0, ...   \n",
       "GaussianMixture #2  [0.0, 0.0, 0.0, 0.0, 0.0, 0.0, 0.0, 0.0, 0.0, ...   \n",
       "GaussianMixture #3  [0.0, 0.0, 0.0, 0.0, 0.0, 0.0, 0.0, 0.0, 0.0, ...   \n",
       "GaussianMixture #4  [0.0, 0.0, 0.0, 0.0, 0.0, 0.0, 0.0, 0.0, 0.0, ...   \n",
       "\n",
       "                    n_clusters  ch_score  \n",
       "clusterer_id                              \n",
       "GaussianMixture #0           2  7.163178  \n",
       "GaussianMixture #1           2  7.126991  \n",
       "GaussianMixture #2           2  8.204407  \n",
       "GaussianMixture #3           2  9.503352  \n",
       "GaussianMixture #4           2  7.123411  "
      ]
     },
     "execution_count": 38,
     "metadata": {},
     "output_type": "execute_result"
    }
   ],
   "source": [
    "ensemble.head()"
   ]
  },
  {
   "cell_type": "markdown",
   "id": "75b99b17",
   "metadata": {
    "papermill": {
     "duration": 0.015426,
     "end_time": "2022-11-26T13:58:27.621662",
     "exception": false,
     "start_time": "2022-11-26T13:58:27.606236",
     "status": "completed"
    },
    "tags": []
   },
   "source": [
    "## Save"
   ]
  },
  {
   "cell_type": "code",
   "execution_count": 39,
   "id": "5836ed98",
   "metadata": {
    "execution": {
     "iopub.execute_input": "2022-11-26T13:58:27.653191Z",
     "iopub.status.busy": "2022-11-26T13:58:27.652863Z",
     "iopub.status.idle": "2022-11-26T13:58:27.673962Z",
     "shell.execute_reply": "2022-11-26T13:58:27.673608Z"
    },
    "papermill": {
     "duration": 0.037712,
     "end_time": "2022-11-26T13:58:27.674752",
     "exception": false,
     "start_time": "2022-11-26T13:58:27.637040",
     "status": "completed"
    },
    "tags": []
   },
   "outputs": [
    {
     "data": {
      "text/plain": [
       "PosixPath('/opt/data/results/clustering/null_sims/shuffle_genes/runs/pca-z_score_std-projection-smultixcan-efo_partial-mashr-zscores/GaussianMixture-COVARIANCE_TYPE_full-K_MAX_60-K_MIN_2-N_INIT_10-N_REPS_PER_K_5.pkl')"
      ]
     },
     "metadata": {},
     "output_type": "display_data"
    }
   ],
   "source": [
    "output_filename = Path(\n",
    "    RESULTS_DIR,\n",
    "    generate_result_set_name(\n",
    "        CLUSTERING_OPTIONS,\n",
    "        prefix=f\"{clustering_method_name}-\",\n",
    "        suffix=\".pkl\",\n",
    "    ),\n",
    ").resolve()\n",
    "display(output_filename)"
   ]
  },
  {
   "cell_type": "code",
   "execution_count": 40,
   "id": "5f493f10",
   "metadata": {
    "execution": {
     "iopub.execute_input": "2022-11-26T13:58:27.706254Z",
     "iopub.status.busy": "2022-11-26T13:58:27.705976Z",
     "iopub.status.idle": "2022-11-26T13:58:27.745305Z",
     "shell.execute_reply": "2022-11-26T13:58:27.744887Z"
    },
    "papermill": {
     "duration": 0.055941,
     "end_time": "2022-11-26T13:58:27.746119",
     "exception": false,
     "start_time": "2022-11-26T13:58:27.690178",
     "status": "completed"
    },
    "tags": []
   },
   "outputs": [],
   "source": [
    "ensemble.to_pickle(output_filename)"
   ]
  },
  {
   "cell_type": "markdown",
   "id": "48487f62",
   "metadata": {
    "papermill": {
     "duration": 0.014993,
     "end_time": "2022-11-26T13:58:27.776360",
     "exception": false,
     "start_time": "2022-11-26T13:58:27.761367",
     "status": "completed"
    },
    "tags": []
   },
   "source": [
    "# Cluster quality"
   ]
  },
  {
   "cell_type": "code",
   "execution_count": 41,
   "id": "3b5c3812",
   "metadata": {
    "execution": {
     "iopub.execute_input": "2022-11-26T13:58:27.807719Z",
     "iopub.status.busy": "2022-11-26T13:58:27.807428Z",
     "iopub.status.idle": "2022-11-26T13:58:27.835759Z",
     "shell.execute_reply": "2022-11-26T13:58:27.835410Z"
    },
    "papermill": {
     "duration": 0.044956,
     "end_time": "2022-11-26T13:58:27.836559",
     "exception": false,
     "start_time": "2022-11-26T13:58:27.791603",
     "status": "completed"
    },
    "tags": []
   },
   "outputs": [
    {
     "data": {
      "text/html": [
       "<div>\n",
       "<style scoped>\n",
       "    .dataframe tbody tr th:only-of-type {\n",
       "        vertical-align: middle;\n",
       "    }\n",
       "\n",
       "    .dataframe tbody tr th {\n",
       "        vertical-align: top;\n",
       "    }\n",
       "\n",
       "    .dataframe thead th {\n",
       "        text-align: right;\n",
       "    }\n",
       "</style>\n",
       "<table border=\"1\" class=\"dataframe\">\n",
       "  <thead>\n",
       "    <tr style=\"text-align: right;\">\n",
       "      <th></th>\n",
       "      <th>ch_score</th>\n",
       "    </tr>\n",
       "    <tr>\n",
       "      <th>n_clusters</th>\n",
       "      <th></th>\n",
       "    </tr>\n",
       "  </thead>\n",
       "  <tbody>\n",
       "    <tr>\n",
       "      <th>2</th>\n",
       "      <td>7.824268</td>\n",
       "    </tr>\n",
       "    <tr>\n",
       "      <th>3</th>\n",
       "      <td>8.230557</td>\n",
       "    </tr>\n",
       "    <tr>\n",
       "      <th>4</th>\n",
       "      <td>7.680081</td>\n",
       "    </tr>\n",
       "    <tr>\n",
       "      <th>5</th>\n",
       "      <td>9.136024</td>\n",
       "    </tr>\n",
       "    <tr>\n",
       "      <th>6</th>\n",
       "      <td>7.091479</td>\n",
       "    </tr>\n",
       "    <tr>\n",
       "      <th>7</th>\n",
       "      <td>10.368141</td>\n",
       "    </tr>\n",
       "    <tr>\n",
       "      <th>8</th>\n",
       "      <td>11.862232</td>\n",
       "    </tr>\n",
       "    <tr>\n",
       "      <th>9</th>\n",
       "      <td>12.906482</td>\n",
       "    </tr>\n",
       "    <tr>\n",
       "      <th>10</th>\n",
       "      <td>13.936682</td>\n",
       "    </tr>\n",
       "    <tr>\n",
       "      <th>11</th>\n",
       "      <td>14.601788</td>\n",
       "    </tr>\n",
       "    <tr>\n",
       "      <th>12</th>\n",
       "      <td>14.160427</td>\n",
       "    </tr>\n",
       "    <tr>\n",
       "      <th>13</th>\n",
       "      <td>16.257597</td>\n",
       "    </tr>\n",
       "    <tr>\n",
       "      <th>14</th>\n",
       "      <td>16.686429</td>\n",
       "    </tr>\n",
       "    <tr>\n",
       "      <th>15</th>\n",
       "      <td>16.457799</td>\n",
       "    </tr>\n",
       "    <tr>\n",
       "      <th>16</th>\n",
       "      <td>17.911199</td>\n",
       "    </tr>\n",
       "    <tr>\n",
       "      <th>17</th>\n",
       "      <td>17.519902</td>\n",
       "    </tr>\n",
       "    <tr>\n",
       "      <th>18</th>\n",
       "      <td>18.888126</td>\n",
       "    </tr>\n",
       "    <tr>\n",
       "      <th>19</th>\n",
       "      <td>20.073505</td>\n",
       "    </tr>\n",
       "    <tr>\n",
       "      <th>20</th>\n",
       "      <td>18.428642</td>\n",
       "    </tr>\n",
       "    <tr>\n",
       "      <th>21</th>\n",
       "      <td>17.967352</td>\n",
       "    </tr>\n",
       "    <tr>\n",
       "      <th>22</th>\n",
       "      <td>19.103881</td>\n",
       "    </tr>\n",
       "    <tr>\n",
       "      <th>23</th>\n",
       "      <td>17.991288</td>\n",
       "    </tr>\n",
       "    <tr>\n",
       "      <th>24</th>\n",
       "      <td>18.798207</td>\n",
       "    </tr>\n",
       "    <tr>\n",
       "      <th>25</th>\n",
       "      <td>19.893090</td>\n",
       "    </tr>\n",
       "    <tr>\n",
       "      <th>26</th>\n",
       "      <td>18.734074</td>\n",
       "    </tr>\n",
       "    <tr>\n",
       "      <th>27</th>\n",
       "      <td>20.322437</td>\n",
       "    </tr>\n",
       "    <tr>\n",
       "      <th>28</th>\n",
       "      <td>19.601293</td>\n",
       "    </tr>\n",
       "    <tr>\n",
       "      <th>29</th>\n",
       "      <td>19.256333</td>\n",
       "    </tr>\n",
       "    <tr>\n",
       "      <th>30</th>\n",
       "      <td>19.165235</td>\n",
       "    </tr>\n",
       "    <tr>\n",
       "      <th>31</th>\n",
       "      <td>17.942134</td>\n",
       "    </tr>\n",
       "    <tr>\n",
       "      <th>32</th>\n",
       "      <td>19.612961</td>\n",
       "    </tr>\n",
       "    <tr>\n",
       "      <th>33</th>\n",
       "      <td>19.946206</td>\n",
       "    </tr>\n",
       "    <tr>\n",
       "      <th>34</th>\n",
       "      <td>18.718093</td>\n",
       "    </tr>\n",
       "    <tr>\n",
       "      <th>35</th>\n",
       "      <td>18.641205</td>\n",
       "    </tr>\n",
       "    <tr>\n",
       "      <th>36</th>\n",
       "      <td>17.804337</td>\n",
       "    </tr>\n",
       "    <tr>\n",
       "      <th>37</th>\n",
       "      <td>17.913543</td>\n",
       "    </tr>\n",
       "    <tr>\n",
       "      <th>38</th>\n",
       "      <td>18.597492</td>\n",
       "    </tr>\n",
       "    <tr>\n",
       "      <th>39</th>\n",
       "      <td>18.469504</td>\n",
       "    </tr>\n",
       "    <tr>\n",
       "      <th>40</th>\n",
       "      <td>18.874971</td>\n",
       "    </tr>\n",
       "    <tr>\n",
       "      <th>41</th>\n",
       "      <td>18.138473</td>\n",
       "    </tr>\n",
       "    <tr>\n",
       "      <th>42</th>\n",
       "      <td>18.039043</td>\n",
       "    </tr>\n",
       "    <tr>\n",
       "      <th>43</th>\n",
       "      <td>17.637107</td>\n",
       "    </tr>\n",
       "    <tr>\n",
       "      <th>44</th>\n",
       "      <td>17.771243</td>\n",
       "    </tr>\n",
       "    <tr>\n",
       "      <th>45</th>\n",
       "      <td>17.887314</td>\n",
       "    </tr>\n",
       "    <tr>\n",
       "      <th>46</th>\n",
       "      <td>17.226512</td>\n",
       "    </tr>\n",
       "    <tr>\n",
       "      <th>47</th>\n",
       "      <td>17.124137</td>\n",
       "    </tr>\n",
       "    <tr>\n",
       "      <th>48</th>\n",
       "      <td>17.321581</td>\n",
       "    </tr>\n",
       "    <tr>\n",
       "      <th>49</th>\n",
       "      <td>16.778992</td>\n",
       "    </tr>\n",
       "    <tr>\n",
       "      <th>50</th>\n",
       "      <td>17.055319</td>\n",
       "    </tr>\n",
       "    <tr>\n",
       "      <th>51</th>\n",
       "      <td>17.008996</td>\n",
       "    </tr>\n",
       "    <tr>\n",
       "      <th>52</th>\n",
       "      <td>16.623233</td>\n",
       "    </tr>\n",
       "    <tr>\n",
       "      <th>53</th>\n",
       "      <td>16.235502</td>\n",
       "    </tr>\n",
       "    <tr>\n",
       "      <th>54</th>\n",
       "      <td>16.704756</td>\n",
       "    </tr>\n",
       "    <tr>\n",
       "      <th>55</th>\n",
       "      <td>16.130782</td>\n",
       "    </tr>\n",
       "    <tr>\n",
       "      <th>56</th>\n",
       "      <td>16.360631</td>\n",
       "    </tr>\n",
       "    <tr>\n",
       "      <th>57</th>\n",
       "      <td>16.373138</td>\n",
       "    </tr>\n",
       "    <tr>\n",
       "      <th>58</th>\n",
       "      <td>16.318195</td>\n",
       "    </tr>\n",
       "    <tr>\n",
       "      <th>59</th>\n",
       "      <td>15.732383</td>\n",
       "    </tr>\n",
       "    <tr>\n",
       "      <th>60</th>\n",
       "      <td>15.784005</td>\n",
       "    </tr>\n",
       "  </tbody>\n",
       "</table>\n",
       "</div>"
      ],
      "text/plain": [
       "             ch_score\n",
       "n_clusters           \n",
       "2            7.824268\n",
       "3            8.230557\n",
       "4            7.680081\n",
       "5            9.136024\n",
       "6            7.091479\n",
       "7           10.368141\n",
       "8           11.862232\n",
       "9           12.906482\n",
       "10          13.936682\n",
       "11          14.601788\n",
       "12          14.160427\n",
       "13          16.257597\n",
       "14          16.686429\n",
       "15          16.457799\n",
       "16          17.911199\n",
       "17          17.519902\n",
       "18          18.888126\n",
       "19          20.073505\n",
       "20          18.428642\n",
       "21          17.967352\n",
       "22          19.103881\n",
       "23          17.991288\n",
       "24          18.798207\n",
       "25          19.893090\n",
       "26          18.734074\n",
       "27          20.322437\n",
       "28          19.601293\n",
       "29          19.256333\n",
       "30          19.165235\n",
       "31          17.942134\n",
       "32          19.612961\n",
       "33          19.946206\n",
       "34          18.718093\n",
       "35          18.641205\n",
       "36          17.804337\n",
       "37          17.913543\n",
       "38          18.597492\n",
       "39          18.469504\n",
       "40          18.874971\n",
       "41          18.138473\n",
       "42          18.039043\n",
       "43          17.637107\n",
       "44          17.771243\n",
       "45          17.887314\n",
       "46          17.226512\n",
       "47          17.124137\n",
       "48          17.321581\n",
       "49          16.778992\n",
       "50          17.055319\n",
       "51          17.008996\n",
       "52          16.623233\n",
       "53          16.235502\n",
       "54          16.704756\n",
       "55          16.130782\n",
       "56          16.360631\n",
       "57          16.373138\n",
       "58          16.318195\n",
       "59          15.732383\n",
       "60          15.784005"
      ]
     },
     "metadata": {},
     "output_type": "display_data"
    }
   ],
   "source": [
    "with pd.option_context(\"display.max_rows\", None, \"display.max_columns\", None):\n",
    "    _df = ensemble.groupby([\"n_clusters\"]).mean()\n",
    "    display(_df)"
   ]
  },
  {
   "cell_type": "code",
   "execution_count": 42,
   "id": "534b83be",
   "metadata": {
    "execution": {
     "iopub.execute_input": "2022-11-26T13:58:27.868355Z",
     "iopub.status.busy": "2022-11-26T13:58:27.868061Z",
     "iopub.status.idle": "2022-11-26T13:58:30.025650Z",
     "shell.execute_reply": "2022-11-26T13:58:30.025389Z"
    },
    "papermill": {
     "duration": 2.175711,
     "end_time": "2022-11-26T13:58:30.027834",
     "exception": false,
     "start_time": "2022-11-26T13:58:27.852123",
     "status": "completed"
    },
    "tags": []
   },
   "outputs": [
    {
     "data": {
      "image/png": "[encoded data removed]",
      "text/plain": [
       "<Figure size 1008x432 with 1 Axes>"
      ]
     },
     "metadata": {},
     "output_type": "display_data"
    }
   ],
   "source": [
    "with sns.plotting_context(\"talk\", font_scale=0.75), sns.axes_style(\n",
    "    \"whitegrid\", {\"grid.linestyle\": \"--\"}\n",
    "):\n",
    "    fig = plt.figure(figsize=(14, 6))\n",
    "    ax = sns.pointplot(data=ensemble, x=\"n_clusters\", y=\"ch_score\")\n",
    "    ax.set_ylabel(\"Calinski-Harabasz index\")\n",
    "    ax.set_xlabel(\"Number of clusters ($k$)\")\n",
    "    ax.set_xticklabels(ax.get_xticklabels(), rotation=45)\n",
    "    plt.grid(True)\n",
    "    plt.tight_layout()"
   ]
  },
  {
   "cell_type": "markdown",
   "id": "f71b97b8",
   "metadata": {
    "papermill": {
     "duration": 0.032345,
     "end_time": "2022-11-26T13:58:30.093683",
     "exception": false,
     "start_time": "2022-11-26T13:58:30.061338",
     "status": "completed"
    },
    "tags": []
   },
   "source": [
    "# Stability"
   ]
  },
  {
   "cell_type": "markdown",
   "id": "37402035",
   "metadata": {
    "papermill": {
     "duration": 0.016343,
     "end_time": "2022-11-26T13:58:30.127734",
     "exception": false,
     "start_time": "2022-11-26T13:58:30.111391",
     "status": "completed"
    },
    "tags": []
   },
   "source": [
    "## Group ensemble by n_clusters"
   ]
  },
  {
   "cell_type": "code",
   "execution_count": 43,
   "id": "6f23c234",
   "metadata": {
    "execution": {
     "iopub.execute_input": "2022-11-26T13:58:30.160631Z",
     "iopub.status.busy": "2022-11-26T13:58:30.160544Z",
     "iopub.status.idle": "2022-11-26T13:58:30.191725Z",
     "shell.execute_reply": "2022-11-26T13:58:30.191369Z"
    },
    "papermill": {
     "duration": 0.048651,
     "end_time": "2022-11-26T13:58:30.192624",
     "exception": false,
     "start_time": "2022-11-26T13:58:30.143973",
     "status": "completed"
    },
    "tags": []
   },
   "outputs": [],
   "source": [
    "parts = ensemble.groupby(\"n_clusters\").apply(\n",
    "    lambda x: np.concatenate(x[\"partition\"].apply(lambda x: x.reshape(1, -1)), axis=0)\n",
    ")"
   ]
  },
  {
   "cell_type": "code",
   "execution_count": 44,
   "id": "9412965c",
   "metadata": {
    "execution": {
     "iopub.execute_input": "2022-11-26T13:58:30.226164Z",
     "iopub.status.busy": "2022-11-26T13:58:30.226001Z",
     "iopub.status.idle": "2022-11-26T13:58:30.265815Z",
     "shell.execute_reply": "2022-11-26T13:58:30.265462Z"
    },
    "papermill": {
     "duration": 0.057595,
     "end_time": "2022-11-26T13:58:30.266610",
     "exception": false,
     "start_time": "2022-11-26T13:58:30.209015",
     "status": "completed"
    },
    "tags": []
   },
   "outputs": [
    {
     "data": {
      "text/plain": [
       "n_clusters\n",
       "2    [[1.0, 1.0, 1.0, 1.0, 1.0, 1.0, 1.0, 1.0, 1.0,...\n",
       "3    [[1.0, 1.0, 1.0, 1.0, 1.0, 1.0, 1.0, 1.0, 1.0,...\n",
       "4    [[3.0, 3.0, 3.0, 3.0, 3.0, 3.0, 3.0, 1.0, 3.0,...\n",
       "5    [[2.0, 2.0, 2.0, 2.0, 2.0, 2.0, 2.0, 2.0, 2.0,...\n",
       "6    [[1.0, 2.0, 2.0, 2.0, 1.0, 2.0, 1.0, 2.0, 1.0,...\n",
       "dtype: object"
      ]
     },
     "execution_count": 44,
     "metadata": {},
     "output_type": "execute_result"
    }
   ],
   "source": [
    "parts.head()"
   ]
  },
  {
   "cell_type": "code",
   "execution_count": 45,
   "id": "1d88e7cc",
   "metadata": {
    "execution": {
     "iopub.execute_input": "2022-11-26T13:58:30.300499Z",
     "iopub.status.busy": "2022-11-26T13:58:30.300211Z",
     "iopub.status.idle": "2022-11-26T13:58:30.321517Z",
     "shell.execute_reply": "2022-11-26T13:58:30.321160Z"
    },
    "papermill": {
     "duration": 0.039293,
     "end_time": "2022-11-26T13:58:30.322424",
     "exception": false,
     "start_time": "2022-11-26T13:58:30.283131",
     "status": "completed"
    },
    "tags": []
   },
   "outputs": [],
   "source": [
    "assert np.all(\n",
    "    [\n",
    "        parts.loc[k].shape == (CLUSTERING_OPTIONS[\"N_REPS_PER_K\"], data.shape[0])\n",
    "        for k in parts.index\n",
    "    ]\n",
    ")"
   ]
  },
  {
   "cell_type": "markdown",
   "id": "5ee1086d",
   "metadata": {
    "papermill": {
     "duration": 0.016461,
     "end_time": "2022-11-26T13:58:30.355553",
     "exception": false,
     "start_time": "2022-11-26T13:58:30.339092",
     "status": "completed"
    },
    "tags": []
   },
   "source": [
    "## Compute stability"
   ]
  },
  {
   "cell_type": "code",
   "execution_count": 46,
   "id": "a66e214c",
   "metadata": {
    "execution": {
     "iopub.execute_input": "2022-11-26T13:58:30.389209Z",
     "iopub.status.busy": "2022-11-26T13:58:30.388875Z",
     "iopub.status.idle": "2022-11-26T13:58:30.408247Z",
     "shell.execute_reply": "2022-11-26T13:58:30.407891Z"
    },
    "papermill": {
     "duration": 0.037257,
     "end_time": "2022-11-26T13:58:30.409045",
     "exception": false,
     "start_time": "2022-11-26T13:58:30.371788",
     "status": "completed"
    },
    "tags": []
   },
   "outputs": [],
   "source": [
    "from sklearn.metrics import adjusted_rand_score as ari\n",
    "from scipy.spatial.distance import pdist"
   ]
  },
  {
   "cell_type": "code",
   "execution_count": 47,
   "id": "d5fe43be",
   "metadata": {
    "execution": {
     "iopub.execute_input": "2022-11-26T13:58:30.442937Z",
     "iopub.status.busy": "2022-11-26T13:58:30.442664Z",
     "iopub.status.idle": "2022-11-26T13:58:31.126120Z",
     "shell.execute_reply": "2022-11-26T13:58:31.125832Z"
    },
    "papermill": {
     "duration": 0.701933,
     "end_time": "2022-11-26T13:58:31.127511",
     "exception": false,
     "start_time": "2022-11-26T13:58:30.425578",
     "status": "completed"
    },
    "tags": []
   },
   "outputs": [],
   "source": [
    "parts_ari = pd.Series(\n",
    "    {k: pdist(parts.loc[k], metric=ari) for k in parts.index}, name=\"k\"\n",
    ")"
   ]
  },
  {
   "cell_type": "code",
   "execution_count": 48,
   "id": "4063c3fa",
   "metadata": {
    "execution": {
     "iopub.execute_input": "2022-11-26T13:58:31.162039Z",
     "iopub.status.busy": "2022-11-26T13:58:31.161953Z",
     "iopub.status.idle": "2022-11-26T13:58:31.175763Z",
     "shell.execute_reply": "2022-11-26T13:58:31.175523Z"
    },
    "papermill": {
     "duration": 0.031312,
     "end_time": "2022-11-26T13:58:31.176454",
     "exception": false,
     "start_time": "2022-11-26T13:58:31.145142",
     "status": "completed"
    },
    "tags": []
   },
   "outputs": [
    {
     "data": {
      "text/plain": [
       "2     0.881490\n",
       "3     0.664440\n",
       "4     0.508913\n",
       "5     0.353009\n",
       "6     0.326033\n",
       "8     0.162816\n",
       "7     0.155491\n",
       "9     0.074548\n",
       "10    0.064352\n",
       "11    0.052000\n",
       "13    0.045296\n",
       "15    0.039280\n",
       "60    0.036861\n",
       "57    0.035229\n",
       "53    0.034622\n",
       "Name: k, dtype: float64"
      ]
     },
     "metadata": {},
     "output_type": "display_data"
    }
   ],
   "source": [
    "parts_ari_stability = parts_ari.apply(lambda x: x.mean())\n",
    "display(parts_ari_stability.sort_values(ascending=False).head(15))"
   ]
  },
  {
   "cell_type": "code",
   "execution_count": 49,
   "id": "ca7c0a61",
   "metadata": {
    "execution": {
     "iopub.execute_input": "2022-11-26T13:58:31.210038Z",
     "iopub.status.busy": "2022-11-26T13:58:31.209897Z",
     "iopub.status.idle": "2022-11-26T13:58:31.222159Z",
     "shell.execute_reply": "2022-11-26T13:58:31.221929Z"
    },
    "papermill": {
     "duration": 0.029947,
     "end_time": "2022-11-26T13:58:31.222927",
     "exception": false,
     "start_time": "2022-11-26T13:58:31.192980",
     "status": "completed"
    },
    "tags": []
   },
   "outputs": [],
   "source": [
    "parts_ari_df = pd.DataFrame.from_records(parts_ari.tolist()).set_index(\n",
    "    parts_ari.index.copy()\n",
    ")"
   ]
  },
  {
   "cell_type": "code",
   "execution_count": 50,
   "id": "ab667a13",
   "metadata": {
    "execution": {
     "iopub.execute_input": "2022-11-26T13:58:31.256639Z",
     "iopub.status.busy": "2022-11-26T13:58:31.256539Z",
     "iopub.status.idle": "2022-11-26T13:58:31.272383Z",
     "shell.execute_reply": "2022-11-26T13:58:31.272082Z"
    },
    "papermill": {
     "duration": 0.033304,
     "end_time": "2022-11-26T13:58:31.273145",
     "exception": false,
     "start_time": "2022-11-26T13:58:31.239841",
     "status": "completed"
    },
    "tags": []
   },
   "outputs": [
    {
     "data": {
      "text/plain": [
       "(59, 10)"
      ]
     },
     "execution_count": 50,
     "metadata": {},
     "output_type": "execute_result"
    }
   ],
   "source": [
    "parts_ari_df.shape"
   ]
  },
  {
   "cell_type": "code",
   "execution_count": 51,
   "id": "1a998b1f",
   "metadata": {
    "execution": {
     "iopub.execute_input": "2022-11-26T13:58:31.306681Z",
     "iopub.status.busy": "2022-11-26T13:58:31.306525Z",
     "iopub.status.idle": "2022-11-26T13:58:31.326028Z",
     "shell.execute_reply": "2022-11-26T13:58:31.325678Z"
    },
    "papermill": {
     "duration": 0.037084,
     "end_time": "2022-11-26T13:58:31.326901",
     "exception": false,
     "start_time": "2022-11-26T13:58:31.289817",
     "status": "completed"
    },
    "tags": []
   },
   "outputs": [],
   "source": [
    "assert (\n",
    "    int(\n",
    "        (CLUSTERING_OPTIONS[\"N_REPS_PER_K\"] * (CLUSTERING_OPTIONS[\"N_REPS_PER_K\"] - 1))\n",
    "        / 2\n",
    "    )\n",
    "    == parts_ari_df.shape[1]\n",
    ")"
   ]
  },
  {
   "cell_type": "code",
   "execution_count": 52,
   "id": "d9de6c54",
   "metadata": {
    "execution": {
     "iopub.execute_input": "2022-11-26T13:58:31.360513Z",
     "iopub.status.busy": "2022-11-26T13:58:31.360226Z",
     "iopub.status.idle": "2022-11-26T13:58:31.387437Z",
     "shell.execute_reply": "2022-11-26T13:58:31.387092Z"
    },
    "papermill": {
     "duration": 0.044934,
     "end_time": "2022-11-26T13:58:31.388204",
     "exception": false,
     "start_time": "2022-11-26T13:58:31.343270",
     "status": "completed"
    },
    "tags": []
   },
   "outputs": [
    {
     "data": {
      "text/html": [
       "<div>\n",
       "<style scoped>\n",
       "    .dataframe tbody tr th:only-of-type {\n",
       "        vertical-align: middle;\n",
       "    }\n",
       "\n",
       "    .dataframe tbody tr th {\n",
       "        vertical-align: top;\n",
       "    }\n",
       "\n",
       "    .dataframe thead th {\n",
       "        text-align: right;\n",
       "    }\n",
       "</style>\n",
       "<table border=\"1\" class=\"dataframe\">\n",
       "  <thead>\n",
       "    <tr style=\"text-align: right;\">\n",
       "      <th></th>\n",
       "      <th>0</th>\n",
       "      <th>1</th>\n",
       "      <th>2</th>\n",
       "      <th>3</th>\n",
       "      <th>4</th>\n",
       "      <th>5</th>\n",
       "      <th>6</th>\n",
       "      <th>7</th>\n",
       "      <th>8</th>\n",
       "      <th>9</th>\n",
       "    </tr>\n",
       "  </thead>\n",
       "  <tbody>\n",
       "    <tr>\n",
       "      <th>2</th>\n",
       "      <td>0.950803</td>\n",
       "      <td>0.912163</td>\n",
       "      <td>0.844973</td>\n",
       "      <td>0.903263</td>\n",
       "      <td>0.924671</td>\n",
       "      <td>0.844973</td>\n",
       "      <td>0.903263</td>\n",
       "      <td>0.841160</td>\n",
       "      <td>0.874753</td>\n",
       "      <td>0.814882</td>\n",
       "    </tr>\n",
       "    <tr>\n",
       "      <th>3</th>\n",
       "      <td>0.602003</td>\n",
       "      <td>0.698494</td>\n",
       "      <td>0.691327</td>\n",
       "      <td>0.702185</td>\n",
       "      <td>0.610746</td>\n",
       "      <td>0.647471</td>\n",
       "      <td>0.635017</td>\n",
       "      <td>0.676372</td>\n",
       "      <td>0.749362</td>\n",
       "      <td>0.631424</td>\n",
       "    </tr>\n",
       "    <tr>\n",
       "      <th>4</th>\n",
       "      <td>0.397234</td>\n",
       "      <td>0.506312</td>\n",
       "      <td>0.445080</td>\n",
       "      <td>0.471981</td>\n",
       "      <td>0.565699</td>\n",
       "      <td>0.507075</td>\n",
       "      <td>0.475897</td>\n",
       "      <td>0.632448</td>\n",
       "      <td>0.569867</td>\n",
       "      <td>0.517534</td>\n",
       "    </tr>\n",
       "    <tr>\n",
       "      <th>5</th>\n",
       "      <td>0.535023</td>\n",
       "      <td>0.461838</td>\n",
       "      <td>0.522527</td>\n",
       "      <td>0.200539</td>\n",
       "      <td>0.406738</td>\n",
       "      <td>0.529192</td>\n",
       "      <td>0.140253</td>\n",
       "      <td>0.377339</td>\n",
       "      <td>0.180201</td>\n",
       "      <td>0.176439</td>\n",
       "    </tr>\n",
       "    <tr>\n",
       "      <th>6</th>\n",
       "      <td>0.149502</td>\n",
       "      <td>0.167760</td>\n",
       "      <td>0.146004</td>\n",
       "      <td>0.169785</td>\n",
       "      <td>0.440619</td>\n",
       "      <td>0.412471</td>\n",
       "      <td>0.446499</td>\n",
       "      <td>0.434080</td>\n",
       "      <td>0.485146</td>\n",
       "      <td>0.408460</td>\n",
       "    </tr>\n",
       "  </tbody>\n",
       "</table>\n",
       "</div>"
      ],
      "text/plain": [
       "          0         1         2         3         4         5         6  \\\n",
       "2  0.950803  0.912163  0.844973  0.903263  0.924671  0.844973  0.903263   \n",
       "3  0.602003  0.698494  0.691327  0.702185  0.610746  0.647471  0.635017   \n",
       "4  0.397234  0.506312  0.445080  0.471981  0.565699  0.507075  0.475897   \n",
       "5  0.535023  0.461838  0.522527  0.200539  0.406738  0.529192  0.140253   \n",
       "6  0.149502  0.167760  0.146004  0.169785  0.440619  0.412471  0.446499   \n",
       "\n",
       "          7         8         9  \n",
       "2  0.841160  0.874753  0.814882  \n",
       "3  0.676372  0.749362  0.631424  \n",
       "4  0.632448  0.569867  0.517534  \n",
       "5  0.377339  0.180201  0.176439  \n",
       "6  0.434080  0.485146  0.408460  "
      ]
     },
     "execution_count": 52,
     "metadata": {},
     "output_type": "execute_result"
    }
   ],
   "source": [
    "parts_ari_df.head()"
   ]
  },
  {
   "cell_type": "markdown",
   "id": "80293f3a",
   "metadata": {
    "papermill": {
     "duration": 0.016414,
     "end_time": "2022-11-26T13:58:31.421536",
     "exception": false,
     "start_time": "2022-11-26T13:58:31.405122",
     "status": "completed"
    },
    "tags": []
   },
   "source": [
    "## Save"
   ]
  },
  {
   "cell_type": "code",
   "execution_count": 53,
   "id": "ea25875c",
   "metadata": {
    "execution": {
     "iopub.execute_input": "2022-11-26T13:58:31.455162Z",
     "iopub.status.busy": "2022-11-26T13:58:31.454967Z",
     "iopub.status.idle": "2022-11-26T13:58:31.475832Z",
     "shell.execute_reply": "2022-11-26T13:58:31.475492Z"
    },
    "papermill": {
     "duration": 0.038459,
     "end_time": "2022-11-26T13:58:31.476614",
     "exception": false,
     "start_time": "2022-11-26T13:58:31.438155",
     "status": "completed"
    },
    "tags": []
   },
   "outputs": [
    {
     "data": {
      "text/plain": [
       "PosixPath('/opt/data/results/clustering/null_sims/shuffle_genes/runs/pca-z_score_std-projection-smultixcan-efo_partial-mashr-zscores/GaussianMixture-stability-COVARIANCE_TYPE_full-K_MAX_60-K_MIN_2-N_INIT_10-N_REPS_PER_K_5.pkl')"
      ]
     },
     "metadata": {},
     "output_type": "display_data"
    }
   ],
   "source": [
    "output_filename = Path(\n",
    "    RESULTS_DIR,\n",
    "    generate_result_set_name(\n",
    "        CLUSTERING_OPTIONS,\n",
    "        prefix=f\"{clustering_method_name}-stability-\",\n",
    "        suffix=\".pkl\",\n",
    "    ),\n",
    ").resolve()\n",
    "display(output_filename)"
   ]
  },
  {
   "cell_type": "code",
   "execution_count": 54,
   "id": "30b18972",
   "metadata": {
    "execution": {
     "iopub.execute_input": "2022-11-26T13:58:31.510358Z",
     "iopub.status.busy": "2022-11-26T13:58:31.510206Z",
     "iopub.status.idle": "2022-11-26T13:58:31.530060Z",
     "shell.execute_reply": "2022-11-26T13:58:31.529709Z"
    },
    "papermill": {
     "duration": 0.03777,
     "end_time": "2022-11-26T13:58:31.530961",
     "exception": false,
     "start_time": "2022-11-26T13:58:31.493191",
     "status": "completed"
    },
    "tags": []
   },
   "outputs": [],
   "source": [
    "parts_ari_df.to_pickle(output_filename)"
   ]
  },
  {
   "cell_type": "markdown",
   "id": "6f971acd",
   "metadata": {
    "papermill": {
     "duration": 0.019858,
     "end_time": "2022-11-26T13:58:31.567408",
     "exception": false,
     "start_time": "2022-11-26T13:58:31.547550",
     "status": "completed"
    },
    "tags": []
   },
   "source": [
    "## Stability plot"
   ]
  },
  {
   "cell_type": "code",
   "execution_count": 55,
   "id": "236d4abe",
   "metadata": {
    "execution": {
     "iopub.execute_input": "2022-11-26T13:58:31.602272Z",
     "iopub.status.busy": "2022-11-26T13:58:31.601957Z",
     "iopub.status.idle": "2022-11-26T13:58:31.623779Z",
     "shell.execute_reply": "2022-11-26T13:58:31.623416Z"
    },
    "papermill": {
     "duration": 0.039606,
     "end_time": "2022-11-26T13:58:31.624640",
     "exception": false,
     "start_time": "2022-11-26T13:58:31.585034",
     "status": "completed"
    },
    "tags": []
   },
   "outputs": [],
   "source": [
    "parts_ari_df_plot = (\n",
    "    parts_ari_df.stack()\n",
    "    .reset_index()\n",
    "    .rename(columns={\"level_0\": \"k\", \"level_1\": \"idx\", 0: \"ari\"})\n",
    ")"
   ]
  },
  {
   "cell_type": "code",
   "execution_count": 56,
   "id": "d02c5489",
   "metadata": {
    "execution": {
     "iopub.execute_input": "2022-11-26T13:58:31.658600Z",
     "iopub.status.busy": "2022-11-26T13:58:31.658408Z",
     "iopub.status.idle": "2022-11-26T13:58:31.679421Z",
     "shell.execute_reply": "2022-11-26T13:58:31.679085Z"
    },
    "papermill": {
     "duration": 0.039007,
     "end_time": "2022-11-26T13:58:31.680188",
     "exception": false,
     "start_time": "2022-11-26T13:58:31.641181",
     "status": "completed"
    },
    "tags": []
   },
   "outputs": [
    {
     "data": {
      "text/plain": [
       "k        int64\n",
       "idx      int64\n",
       "ari    float64\n",
       "dtype: object"
      ]
     },
     "execution_count": 56,
     "metadata": {},
     "output_type": "execute_result"
    }
   ],
   "source": [
    "parts_ari_df_plot.dtypes"
   ]
  },
  {
   "cell_type": "code",
   "execution_count": 57,
   "id": "fbdcbba4",
   "metadata": {
    "execution": {
     "iopub.execute_input": "2022-11-26T13:58:31.714558Z",
     "iopub.status.busy": "2022-11-26T13:58:31.714204Z",
     "iopub.status.idle": "2022-11-26T13:58:31.737260Z",
     "shell.execute_reply": "2022-11-26T13:58:31.736912Z"
    },
    "papermill": {
     "duration": 0.041138,
     "end_time": "2022-11-26T13:58:31.738041",
     "exception": false,
     "start_time": "2022-11-26T13:58:31.696903",
     "status": "completed"
    },
    "tags": []
   },
   "outputs": [
    {
     "data": {
      "text/html": [
       "<div>\n",
       "<style scoped>\n",
       "    .dataframe tbody tr th:only-of-type {\n",
       "        vertical-align: middle;\n",
       "    }\n",
       "\n",
       "    .dataframe tbody tr th {\n",
       "        vertical-align: top;\n",
       "    }\n",
       "\n",
       "    .dataframe thead th {\n",
       "        text-align: right;\n",
       "    }\n",
       "</style>\n",
       "<table border=\"1\" class=\"dataframe\">\n",
       "  <thead>\n",
       "    <tr style=\"text-align: right;\">\n",
       "      <th></th>\n",
       "      <th>k</th>\n",
       "      <th>idx</th>\n",
       "      <th>ari</th>\n",
       "    </tr>\n",
       "  </thead>\n",
       "  <tbody>\n",
       "    <tr>\n",
       "      <th>0</th>\n",
       "      <td>2</td>\n",
       "      <td>0</td>\n",
       "      <td>0.950803</td>\n",
       "    </tr>\n",
       "    <tr>\n",
       "      <th>1</th>\n",
       "      <td>2</td>\n",
       "      <td>1</td>\n",
       "      <td>0.912163</td>\n",
       "    </tr>\n",
       "    <tr>\n",
       "      <th>2</th>\n",
       "      <td>2</td>\n",
       "      <td>2</td>\n",
       "      <td>0.844973</td>\n",
       "    </tr>\n",
       "    <tr>\n",
       "      <th>3</th>\n",
       "      <td>2</td>\n",
       "      <td>3</td>\n",
       "      <td>0.903263</td>\n",
       "    </tr>\n",
       "    <tr>\n",
       "      <th>4</th>\n",
       "      <td>2</td>\n",
       "      <td>4</td>\n",
       "      <td>0.924671</td>\n",
       "    </tr>\n",
       "  </tbody>\n",
       "</table>\n",
       "</div>"
      ],
      "text/plain": [
       "   k  idx       ari\n",
       "0  2    0  0.950803\n",
       "1  2    1  0.912163\n",
       "2  2    2  0.844973\n",
       "3  2    3  0.903263\n",
       "4  2    4  0.924671"
      ]
     },
     "execution_count": 57,
     "metadata": {},
     "output_type": "execute_result"
    }
   ],
   "source": [
    "parts_ari_df_plot.head()"
   ]
  },
  {
   "cell_type": "code",
   "execution_count": 58,
   "id": "5615e721",
   "metadata": {
    "execution": {
     "iopub.execute_input": "2022-11-26T13:58:31.772325Z",
     "iopub.status.busy": "2022-11-26T13:58:31.772134Z",
     "iopub.status.idle": "2022-11-26T13:58:33.687785Z",
     "shell.execute_reply": "2022-11-26T13:58:33.687531Z"
    },
    "papermill": {
     "duration": 1.935025,
     "end_time": "2022-11-26T13:58:33.689929",
     "exception": false,
     "start_time": "2022-11-26T13:58:31.754904",
     "status": "completed"
    },
    "tags": []
   },
   "outputs": [
    {
     "data": {
      "image/png": "[encoded data removed]",
      "text/plain": [
       "<Figure size 1008x432 with 1 Axes>"
      ]
     },
     "metadata": {},
     "output_type": "display_data"
    }
   ],
   "source": [
    "# with sns.axes_style('whitegrid', {'grid.linestyle': '--'}):\n",
    "with sns.plotting_context(\"talk\", font_scale=0.75), sns.axes_style(\n",
    "    \"whitegrid\", {\"grid.linestyle\": \"--\"}\n",
    "):\n",
    "    fig = plt.figure(figsize=(14, 6))\n",
    "    ax = sns.pointplot(data=parts_ari_df_plot, x=\"k\", y=\"ari\")\n",
    "    ax.set_ylabel(\"Averange ARI\")\n",
    "    ax.set_xlabel(\"Number of clusters ($k$)\")\n",
    "    ax.set_xticklabels(ax.get_xticklabels(), rotation=45)\n",
    "    #     ax.set_ylim(0.0, 1.0)\n",
    "    #     ax.set_xlim(CLUSTERING_OPTIONS['K_MIN'], CLUSTERING_OPTIONS['K_MAX'])\n",
    "    plt.grid(True)\n",
    "    plt.tight_layout()"
   ]
  },
  {
   "cell_type": "code",
   "execution_count": null,
   "id": "74c8dc28",
   "metadata": {
    "papermill": {
     "duration": 0.033859,
     "end_time": "2022-11-26T13:58:33.766941",
     "exception": false,
     "start_time": "2022-11-26T13:58:33.733082",
     "status": "completed"
    },
    "tags": []
   },
   "outputs": [],
   "source": []
  }
 ],
 "metadata": {
  "jupytext": {
   "cell_metadata_filter": "all,-execution,-papermill,-trusted",
   "formats": "ipynb,py//py:percent"
  },
  "kernelspec": {
   "display_name": "Python 3 (ipykernel)",
   "language": "python",
   "name": "python3"
  },
  "language_info": {
   "codemirror_mode": {
    "name": "ipython",
    "version": 3
   },
   "file_extension": ".py",
   "mimetype": "text/x-python",
   "name": "python",
   "nbconvert_exporter": "python",
   "pygments_lexer": "ipython3",
   "version": "3.8.13"
  },
  "papermill": {
   "default_parameters": {},
   "duration": 8428.723575,
   "end_time": "2022-11-26T13:58:34.109901",
   "environment_variables": {},
   "exception": null,
   "input_path": "nbs/13.1_cluster_analysis_null/00-shuffle_genes/14_01-gmm-pca.ipynb",
   "output_path": "nbs/13.1_cluster_analysis_null/00-shuffle_genes/14_01-gmm-pca.run.ipynb",
   "parameters": {},
   "start_time": "2022-11-26T11:38:05.386326",
   "version": "2.2.2"
  },
  "toc-autonumbering": true,
  "toc-showcode": false,
  "toc-showmarkdowntxt": false,
  "toc-showtags": false
 },
 "nbformat": 4,
 "nbformat_minor": 5
}
