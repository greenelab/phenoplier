{
 "cells": [
  {
   "cell_type": "markdown",
   "id": "06dc1753",
   "metadata": {
    "papermill": {
     "duration": 0.007543,
     "end_time": "2022-11-27T02:57:10.098760",
     "exception": false,
     "start_time": "2022-11-27T02:57:10.091217",
     "status": "completed"
    },
    "tags": []
   },
   "source": [
    "# Description"
   ]
  },
  {
   "cell_type": "markdown",
   "id": "10381e29",
   "metadata": {
    "papermill": {
     "duration": 0.006582,
     "end_time": "2022-11-27T02:57:10.115676",
     "exception": false,
     "start_time": "2022-11-27T02:57:10.109094",
     "status": "completed"
    },
    "tags": []
   },
   "source": [
    "It combines all clustering solutions generated into a single consolidated solution using consensus clustering."
   ]
  },
  {
   "cell_type": "markdown",
   "id": "e2d2fd52",
   "metadata": {
    "papermill": {
     "duration": 0.006575,
     "end_time": "2022-11-27T02:57:10.130152",
     "exception": false,
     "start_time": "2022-11-27T02:57:10.123577",
     "status": "completed"
    },
    "tags": []
   },
   "source": [
    "# Environment variables"
   ]
  },
  {
   "cell_type": "code",
   "execution_count": 1,
   "id": "d87128e1",
   "metadata": {
    "execution": {
     "iopub.execute_input": "2022-11-27T02:57:10.144584Z",
     "iopub.status.busy": "2022-11-27T02:57:10.144232Z",
     "iopub.status.idle": "2022-11-27T02:57:10.151718Z",
     "shell.execute_reply": "2022-11-27T02:57:10.151454Z"
    },
    "papermill": {
     "duration": 0.016229,
     "end_time": "2022-11-27T02:57:10.153284",
     "exception": false,
     "start_time": "2022-11-27T02:57:10.137055",
     "status": "completed"
    },
    "tags": []
   },
   "outputs": [
    {
     "data": {
      "text/plain": [
       "1"
      ]
     },
     "metadata": {},
     "output_type": "display_data"
    }
   ],
   "source": [
    "from IPython.display import display\n",
    "\n",
    "# set numpy n_jobs to 1, since I'll be using n_jobs later\n",
    "NUMPY_N_JOBS = 1\n",
    "display(NUMPY_N_JOBS)"
   ]
  },
  {
   "cell_type": "code",
   "execution_count": 2,
   "id": "89b4a7d2",
   "metadata": {
    "execution": {
     "iopub.execute_input": "2022-11-27T02:57:10.168366Z",
     "iopub.status.busy": "2022-11-27T02:57:10.168033Z",
     "iopub.status.idle": "2022-11-27T02:57:10.173646Z",
     "shell.execute_reply": "2022-11-27T02:57:10.173225Z"
    },
    "papermill": {
     "duration": 0.014235,
     "end_time": "2022-11-27T02:57:10.174956",
     "exception": false,
     "start_time": "2022-11-27T02:57:10.160721",
     "status": "completed"
    },
    "tags": []
   },
   "outputs": [
    {
     "name": "stdout",
     "output_type": "stream",
     "text": [
      "env: MKL_NUM_THREADS=1\n",
      "env: OPEN_BLAS_NUM_THREADS=1\n",
      "env: NUMEXPR_NUM_THREADS=1\n",
      "env: OMP_NUM_THREADS=1\n"
     ]
    }
   ],
   "source": [
    "%env MKL_NUM_THREADS=$NUMPY_N_JOBS\n",
    "%env OPEN_BLAS_NUM_THREADS=$NUMPY_N_JOBS\n",
    "%env NUMEXPR_NUM_THREADS=$NUMPY_N_JOBS\n",
    "%env OMP_NUM_THREADS=$NUMPY_N_JOBS"
   ]
  },
  {
   "cell_type": "markdown",
   "id": "96bc4080",
   "metadata": {
    "papermill": {
     "duration": 0.006702,
     "end_time": "2022-11-27T02:57:10.188773",
     "exception": false,
     "start_time": "2022-11-27T02:57:10.182071",
     "status": "completed"
    },
    "tags": []
   },
   "source": [
    "# Modules loading"
   ]
  },
  {
   "cell_type": "code",
   "execution_count": 3,
   "id": "184d030c",
   "metadata": {
    "execution": {
     "iopub.execute_input": "2022-11-27T02:57:10.202954Z",
     "iopub.status.busy": "2022-11-27T02:57:10.202808Z",
     "iopub.status.idle": "2022-11-27T02:57:10.215272Z",
     "shell.execute_reply": "2022-11-27T02:57:10.214884Z"
    },
    "papermill": {
     "duration": 0.020347,
     "end_time": "2022-11-27T02:57:10.216027",
     "exception": false,
     "start_time": "2022-11-27T02:57:10.195680",
     "status": "completed"
    },
    "tags": []
   },
   "outputs": [],
   "source": [
    "%load_ext autoreload\n",
    "%autoreload 2"
   ]
  },
  {
   "cell_type": "code",
   "execution_count": 4,
   "id": "7ea55b51",
   "metadata": {
    "execution": {
     "iopub.execute_input": "2022-11-27T02:57:10.223807Z",
     "iopub.status.busy": "2022-11-27T02:57:10.223661Z",
     "iopub.status.idle": "2022-11-27T02:57:10.401233Z",
     "shell.execute_reply": "2022-11-27T02:57:10.400894Z"
    },
    "papermill": {
     "duration": 0.182362,
     "end_time": "2022-11-27T02:57:10.402040",
     "exception": false,
     "start_time": "2022-11-27T02:57:10.219678",
     "status": "completed"
    },
    "tags": []
   },
   "outputs": [],
   "source": [
    "from pathlib import Path\n",
    "\n",
    "import numpy as np\n",
    "import pandas as pd\n",
    "\n",
    "import conf"
   ]
  },
  {
   "cell_type": "markdown",
   "id": "b89d4d82",
   "metadata": {
    "papermill": {
     "duration": 0.009385,
     "end_time": "2022-11-27T02:57:10.415036",
     "exception": false,
     "start_time": "2022-11-27T02:57:10.405651",
     "status": "completed"
    },
    "tags": []
   },
   "source": [
    "# Settings"
   ]
  },
  {
   "cell_type": "code",
   "execution_count": 5,
   "id": "a79a89bf",
   "metadata": {
    "execution": {
     "iopub.execute_input": "2022-11-27T02:57:10.422468Z",
     "iopub.status.busy": "2022-11-27T02:57:10.422365Z",
     "iopub.status.idle": "2022-11-27T02:57:10.430502Z",
     "shell.execute_reply": "2022-11-27T02:57:10.430230Z"
    },
    "papermill": {
     "duration": 0.012827,
     "end_time": "2022-11-27T02:57:10.431349",
     "exception": false,
     "start_time": "2022-11-27T02:57:10.418522",
     "status": "completed"
    },
    "tags": []
   },
   "outputs": [],
   "source": [
    "np.random.seed(0)"
   ]
  },
  {
   "cell_type": "code",
   "execution_count": 6,
   "id": "724f9ee9",
   "metadata": {
    "execution": {
     "iopub.execute_input": "2022-11-27T02:57:10.439313Z",
     "iopub.status.busy": "2022-11-27T02:57:10.439094Z",
     "iopub.status.idle": "2022-11-27T02:57:10.446990Z",
     "shell.execute_reply": "2022-11-27T02:57:10.446719Z"
    },
    "papermill": {
     "duration": 0.012344,
     "end_time": "2022-11-27T02:57:10.447649",
     "exception": false,
     "start_time": "2022-11-27T02:57:10.435305",
     "status": "completed"
    },
    "tags": []
   },
   "outputs": [],
   "source": [
    "RANDOM_STATES_ITER = iter(np.random.randint(0, np.iinfo(np.int32).max, size=100000))"
   ]
  },
  {
   "cell_type": "code",
   "execution_count": 7,
   "id": "a834068b",
   "metadata": {
    "execution": {
     "iopub.execute_input": "2022-11-27T02:57:10.455212Z",
     "iopub.status.busy": "2022-11-27T02:57:10.454998Z",
     "iopub.status.idle": "2022-11-27T02:57:10.461932Z",
     "shell.execute_reply": "2022-11-27T02:57:10.461665Z"
    },
    "papermill": {
     "duration": 0.011455,
     "end_time": "2022-11-27T02:57:10.462667",
     "exception": false,
     "start_time": "2022-11-27T02:57:10.451212",
     "status": "completed"
    },
    "tags": []
   },
   "outputs": [],
   "source": [
    "# n_init parameter for DeltaSpectralClustering\n",
    "# a high number should produce more stable final solutions\n",
    "SC_N_INIT = 50"
   ]
  },
  {
   "cell_type": "code",
   "execution_count": 8,
   "id": "dd5d7da7-ed65-496b-88bf-e5e99fdfae4e",
   "metadata": {
    "execution": {
     "iopub.execute_input": "2022-11-27T02:57:10.470208Z",
     "iopub.status.busy": "2022-11-27T02:57:10.469920Z",
     "iopub.status.idle": "2022-11-27T02:57:10.476936Z",
     "shell.execute_reply": "2022-11-27T02:57:10.476665Z"
    },
    "papermill": {
     "duration": 0.011424,
     "end_time": "2022-11-27T02:57:10.477632",
     "exception": false,
     "start_time": "2022-11-27T02:57:10.466208",
     "status": "completed"
    },
    "tags": []
   },
   "outputs": [],
   "source": [
    "NULL_DIR = conf.RESULTS[\"CLUSTERING_NULL_DIR\"] / \"shuffle_genes\""
   ]
  },
  {
   "cell_type": "markdown",
   "id": "9129c9a0",
   "metadata": {
    "papermill": {
     "duration": 0.003363,
     "end_time": "2022-11-27T02:57:10.484733",
     "exception": false,
     "start_time": "2022-11-27T02:57:10.481370",
     "status": "completed"
    },
    "tags": []
   },
   "source": [
    "## Consensus clustering"
   ]
  },
  {
   "cell_type": "code",
   "execution_count": 9,
   "id": "eb9485c3",
   "metadata": {
    "execution": {
     "iopub.execute_input": "2022-11-27T02:57:10.492243Z",
     "iopub.status.busy": "2022-11-27T02:57:10.491979Z",
     "iopub.status.idle": "2022-11-27T02:57:10.502288Z",
     "shell.execute_reply": "2022-11-27T02:57:10.501946Z"
    },
    "papermill": {
     "duration": 0.014805,
     "end_time": "2022-11-27T02:57:10.503004",
     "exception": false,
     "start_time": "2022-11-27T02:57:10.488199",
     "status": "completed"
    },
    "tags": []
   },
   "outputs": [
    {
     "data": {
      "text/plain": [
       "{'K_MIN': 2, 'K_MAX': 60}"
      ]
     },
     "metadata": {},
     "output_type": "display_data"
    }
   ],
   "source": [
    "CLUSTERING_OPTIONS = {}\n",
    "\n",
    "CLUSTERING_OPTIONS[\"K_MIN\"] = 2\n",
    "CLUSTERING_OPTIONS[\"K_MAX\"] = 60\n",
    "\n",
    "display(CLUSTERING_OPTIONS)"
   ]
  },
  {
   "cell_type": "code",
   "execution_count": 10,
   "id": "00a151fc",
   "metadata": {
    "execution": {
     "iopub.execute_input": "2022-11-27T02:57:10.510712Z",
     "iopub.status.busy": "2022-11-27T02:57:10.510408Z",
     "iopub.status.idle": "2022-11-27T02:57:10.523304Z",
     "shell.execute_reply": "2022-11-27T02:57:10.522932Z"
    },
    "papermill": {
     "duration": 0.017506,
     "end_time": "2022-11-27T02:57:10.524080",
     "exception": false,
     "start_time": "2022-11-27T02:57:10.506574",
     "status": "completed"
    },
    "tags": []
   },
   "outputs": [
    {
     "data": {
      "text/plain": [
       "PosixPath('/opt/data/results/clustering/null_sims/shuffle_genes/consensus_clustering')"
      ]
     },
     "metadata": {},
     "output_type": "display_data"
    }
   ],
   "source": [
    "# output dir for this notebook\n",
    "RESULTS_DIR = Path(NULL_DIR, \"consensus_clustering\").resolve()\n",
    "RESULTS_DIR.mkdir(parents=True, exist_ok=True)\n",
    "\n",
    "display(RESULTS_DIR)"
   ]
  },
  {
   "cell_type": "markdown",
   "id": "9d4247a6",
   "metadata": {
    "papermill": {
     "duration": 0.003463,
     "end_time": "2022-11-27T02:57:10.531427",
     "exception": false,
     "start_time": "2022-11-27T02:57:10.527964",
     "status": "completed"
    },
    "tags": []
   },
   "source": [
    "# Load ensemble"
   ]
  },
  {
   "cell_type": "code",
   "execution_count": 11,
   "id": "2f15465a",
   "metadata": {
    "execution": {
     "iopub.execute_input": "2022-11-27T02:57:10.539398Z",
     "iopub.status.busy": "2022-11-27T02:57:10.539116Z",
     "iopub.status.idle": "2022-11-27T02:57:10.551931Z",
     "shell.execute_reply": "2022-11-27T02:57:10.551560Z"
    },
    "papermill": {
     "duration": 0.017586,
     "end_time": "2022-11-27T02:57:10.552700",
     "exception": false,
     "start_time": "2022-11-27T02:57:10.535114",
     "status": "completed"
    },
    "tags": []
   },
   "outputs": [
    {
     "data": {
      "text/plain": [
       "PosixPath('/opt/data/results/clustering/null_sims/shuffle_genes/consensus_clustering/ensemble.npy')"
      ]
     },
     "metadata": {},
     "output_type": "display_data"
    }
   ],
   "source": [
    "output_file = Path(RESULTS_DIR, \"ensemble.npy\").resolve()\n",
    "display(output_file)"
   ]
  },
  {
   "cell_type": "code",
   "execution_count": 12,
   "id": "6e287d3f",
   "metadata": {
    "execution": {
     "iopub.execute_input": "2022-11-27T02:57:10.560789Z",
     "iopub.status.busy": "2022-11-27T02:57:10.560442Z",
     "iopub.status.idle": "2022-11-27T02:57:10.596613Z",
     "shell.execute_reply": "2022-11-27T02:57:10.596139Z"
    },
    "papermill": {
     "duration": 0.041019,
     "end_time": "2022-11-27T02:57:10.597378",
     "exception": false,
     "start_time": "2022-11-27T02:57:10.556359",
     "status": "completed"
    },
    "tags": []
   },
   "outputs": [],
   "source": [
    "full_ensemble = np.load(output_file)"
   ]
  },
  {
   "cell_type": "code",
   "execution_count": 13,
   "id": "3e717627",
   "metadata": {
    "execution": {
     "iopub.execute_input": "2022-11-27T02:57:10.605721Z",
     "iopub.status.busy": "2022-11-27T02:57:10.605352Z",
     "iopub.status.idle": "2022-11-27T02:57:10.619161Z",
     "shell.execute_reply": "2022-11-27T02:57:10.618792Z"
    },
    "papermill": {
     "duration": 0.018609,
     "end_time": "2022-11-27T02:57:10.619861",
     "exception": false,
     "start_time": "2022-11-27T02:57:10.601252",
     "status": "completed"
    },
    "tags": []
   },
   "outputs": [
    {
     "data": {
      "text/plain": [
       "(3844, 3752)"
      ]
     },
     "metadata": {},
     "output_type": "display_data"
    }
   ],
   "source": [
    "display(full_ensemble.shape)"
   ]
  },
  {
   "cell_type": "markdown",
   "id": "fe7e0223",
   "metadata": {
    "papermill": {
     "duration": 0.003569,
     "end_time": "2022-11-27T02:57:10.627165",
     "exception": false,
     "start_time": "2022-11-27T02:57:10.623596",
     "status": "completed"
    },
    "tags": []
   },
   "source": [
    "# Load ensemble coassociation distance matrix"
   ]
  },
  {
   "cell_type": "code",
   "execution_count": 14,
   "id": "b4b14bcc",
   "metadata": {
    "execution": {
     "iopub.execute_input": "2022-11-27T02:57:10.635321Z",
     "iopub.status.busy": "2022-11-27T02:57:10.634959Z",
     "iopub.status.idle": "2022-11-27T02:57:10.647829Z",
     "shell.execute_reply": "2022-11-27T02:57:10.647459Z"
    },
    "papermill": {
     "duration": 0.017748,
     "end_time": "2022-11-27T02:57:10.648595",
     "exception": false,
     "start_time": "2022-11-27T02:57:10.630847",
     "status": "completed"
    },
    "tags": []
   },
   "outputs": [
    {
     "data": {
      "text/plain": [
       "PosixPath('/opt/data/results/clustering/null_sims/shuffle_genes/consensus_clustering/ensemble_coassoc_matrix.npy')"
      ]
     },
     "metadata": {},
     "output_type": "display_data"
    }
   ],
   "source": [
    "output_file = Path(RESULTS_DIR, \"ensemble_coassoc_matrix.npy\").resolve()\n",
    "display(output_file)"
   ]
  },
  {
   "cell_type": "code",
   "execution_count": 15,
   "id": "ab4c71bf",
   "metadata": {
    "execution": {
     "iopub.execute_input": "2022-11-27T02:57:10.657039Z",
     "iopub.status.busy": "2022-11-27T02:57:10.656762Z",
     "iopub.status.idle": "2022-11-27T02:57:10.695399Z",
     "shell.execute_reply": "2022-11-27T02:57:10.694917Z"
    },
    "papermill": {
     "duration": 0.043556,
     "end_time": "2022-11-27T02:57:10.696169",
     "exception": false,
     "start_time": "2022-11-27T02:57:10.652613",
     "status": "completed"
    },
    "tags": []
   },
   "outputs": [],
   "source": [
    "ensemble_coassoc_matrix = np.load(output_file)"
   ]
  },
  {
   "cell_type": "code",
   "execution_count": 16,
   "id": "bb6f223f",
   "metadata": {
    "execution": {
     "iopub.execute_input": "2022-11-27T02:57:10.709792Z",
     "iopub.status.busy": "2022-11-27T02:57:10.709397Z",
     "iopub.status.idle": "2022-11-27T02:57:10.723214Z",
     "shell.execute_reply": "2022-11-27T02:57:10.722846Z"
    },
    "papermill": {
     "duration": 0.02173,
     "end_time": "2022-11-27T02:57:10.724293",
     "exception": false,
     "start_time": "2022-11-27T02:57:10.702563",
     "status": "completed"
    },
    "tags": []
   },
   "outputs": [
    {
     "data": {
      "text/plain": [
       "(3752, 3752)"
      ]
     },
     "metadata": {},
     "output_type": "display_data"
    }
   ],
   "source": [
    "display(ensemble_coassoc_matrix.shape)"
   ]
  },
  {
   "cell_type": "code",
   "execution_count": 17,
   "id": "9d0e1e3e",
   "metadata": {
    "execution": {
     "iopub.execute_input": "2022-11-27T02:57:10.738152Z",
     "iopub.status.busy": "2022-11-27T02:57:10.737857Z",
     "iopub.status.idle": "2022-11-27T02:57:10.751072Z",
     "shell.execute_reply": "2022-11-27T02:57:10.750702Z"
    },
    "papermill": {
     "duration": 0.021185,
     "end_time": "2022-11-27T02:57:10.752141",
     "exception": false,
     "start_time": "2022-11-27T02:57:10.730956",
     "status": "completed"
    },
    "tags": []
   },
   "outputs": [
    {
     "data": {
      "text/plain": [
       "array([[0.        , 0.43731932, 0.45571616, ..., 0.49618922, 0.50591327,\n",
       "        0.76722777],\n",
       "       [0.43731932, 0.        , 0.41721333, ..., 0.44581475, 0.48517449,\n",
       "        0.73476891],\n",
       "       [0.45571616, 0.41721333, 0.        , ..., 0.45683548, 0.44502755,\n",
       "        0.72689076],\n",
       "       ...,\n",
       "       [0.49618922, 0.44581475, 0.45683548, ..., 0.        , 0.38998164,\n",
       "        0.74816176],\n",
       "       [0.50591327, 0.48517449, 0.44502755, ..., 0.38998164, 0.        ,\n",
       "        0.75157563],\n",
       "       [0.76722777, 0.73476891, 0.72689076, ..., 0.74816176, 0.75157563,\n",
       "        0.        ]])"
      ]
     },
     "metadata": {},
     "output_type": "display_data"
    }
   ],
   "source": [
    "display(ensemble_coassoc_matrix)"
   ]
  },
  {
   "cell_type": "markdown",
   "id": "7a2e8760",
   "metadata": {
    "papermill": {
     "duration": 0.006439,
     "end_time": "2022-11-27T02:57:10.765306",
     "exception": false,
     "start_time": "2022-11-27T02:57:10.758867",
     "status": "completed"
    },
    "tags": []
   },
   "source": [
    "# Consensus clustering"
   ]
  },
  {
   "cell_type": "code",
   "execution_count": 18,
   "id": "0fec4774",
   "metadata": {
    "execution": {
     "iopub.execute_input": "2022-11-27T02:57:10.779322Z",
     "iopub.status.busy": "2022-11-27T02:57:10.779024Z",
     "iopub.status.idle": "2022-11-27T02:57:10.971752Z",
     "shell.execute_reply": "2022-11-27T02:57:10.971391Z"
    },
    "papermill": {
     "duration": 0.20088,
     "end_time": "2022-11-27T02:57:10.972795",
     "exception": false,
     "start_time": "2022-11-27T02:57:10.771915",
     "status": "completed"
    },
    "tags": []
   },
   "outputs": [],
   "source": [
    "from concurrent.futures import ProcessPoolExecutor, as_completed\n",
    "\n",
    "from tqdm import tqdm\n",
    "\n",
    "from clustering.ensembles.utils import (\n",
    "    run_method_and_compute_agreement,\n",
    ")\n",
    "from clustering.ensembles.eac import (\n",
    "    eac_single_coassoc_matrix,\n",
    "    eac_complete_coassoc_matrix,\n",
    "    eac_average_coassoc_matrix,\n",
    ")\n",
    "from clustering.ensembles.spectral import scc"
   ]
  },
  {
   "cell_type": "markdown",
   "id": "c61cdb8d",
   "metadata": {
    "papermill": {
     "duration": 0.010142,
     "end_time": "2022-11-27T02:57:11.014769",
     "exception": false,
     "start_time": "2022-11-27T02:57:11.004627",
     "status": "completed"
    },
    "tags": []
   },
   "source": [
    "Define spectral consensus clustering methods with delta values found in pre-analysis:"
   ]
  },
  {
   "cell_type": "code",
   "execution_count": 19,
   "id": "52cb4bb6",
   "metadata": {
    "execution": {
     "iopub.execute_input": "2022-11-27T02:57:11.028622Z",
     "iopub.status.busy": "2022-11-27T02:57:11.028520Z",
     "iopub.status.idle": "2022-11-27T02:57:11.040449Z",
     "shell.execute_reply": "2022-11-27T02:57:11.040168Z"
    },
    "papermill": {
     "duration": 0.019983,
     "end_time": "2022-11-27T02:57:11.041399",
     "exception": false,
     "start_time": "2022-11-27T02:57:11.021416",
     "status": "completed"
    },
    "tags": []
   },
   "outputs": [],
   "source": [
    "def scc_020(coassoc_distance_matrix, k, **kwargs):\n",
    "    return scc(\n",
    "        coassoc_distance_matrix,\n",
    "        k,\n",
    "        delta=0.20,\n",
    "        ensemble_is_coassoc_matrix=True,\n",
    "        **kwargs\n",
    "    )\n",
    "\n",
    "\n",
    "def scc_025(coassoc_distance_matrix, k, **kwargs):\n",
    "    return scc(\n",
    "        coassoc_distance_matrix,\n",
    "        k,\n",
    "        delta=0.25,\n",
    "        ensemble_is_coassoc_matrix=True,\n",
    "        **kwargs\n",
    "    )\n",
    "\n",
    "\n",
    "def scc_030(coassoc_distance_matrix, k, **kwargs):\n",
    "    return scc(\n",
    "        coassoc_distance_matrix,\n",
    "        k,\n",
    "        delta=0.30,\n",
    "        ensemble_is_coassoc_matrix=True,\n",
    "        **kwargs\n",
    "    )\n",
    "\n",
    "\n",
    "def scc_050(coassoc_distance_matrix, k, **kwargs):\n",
    "    return scc(\n",
    "        coassoc_distance_matrix,\n",
    "        k,\n",
    "        delta=0.50,\n",
    "        ensemble_is_coassoc_matrix=True,\n",
    "        **kwargs\n",
    "    )"
   ]
  },
  {
   "cell_type": "code",
   "execution_count": 20,
   "id": "709aed1b",
   "metadata": {
    "execution": {
     "iopub.execute_input": "2022-11-27T02:57:11.055019Z",
     "iopub.status.busy": "2022-11-27T02:57:11.054925Z",
     "iopub.status.idle": "2022-11-27T02:57:11.065119Z",
     "shell.execute_reply": "2022-11-27T02:57:11.064851Z"
    },
    "papermill": {
     "duration": 0.018214,
     "end_time": "2022-11-27T02:57:11.066061",
     "exception": false,
     "start_time": "2022-11-27T02:57:11.047847",
     "status": "completed"
    },
    "tags": []
   },
   "outputs": [
    {
     "data": {
      "text/plain": [
       "{<function clustering.ensembles.eac.eac_average_coassoc_matrix(coassoc_matrix, k, **kwargs)>,\n",
       " <function clustering.ensembles.eac.eac_complete_coassoc_matrix(coassoc_matrix, k, **kwargs)>,\n",
       " <function clustering.ensembles.eac.eac_single_coassoc_matrix(coassoc_matrix, k, **kwargs)>,\n",
       " <function __main__.scc_020(coassoc_distance_matrix, k, **kwargs)>,\n",
       " <function __main__.scc_025(coassoc_distance_matrix, k, **kwargs)>,\n",
       " <function __main__.scc_030(coassoc_distance_matrix, k, **kwargs)>,\n",
       " <function __main__.scc_050(coassoc_distance_matrix, k, **kwargs)>}"
      ]
     },
     "metadata": {},
     "output_type": "display_data"
    }
   ],
   "source": [
    "all_consensus_methods = set(\n",
    "    (\n",
    "        eac_single_coassoc_matrix,\n",
    "        eac_complete_coassoc_matrix,\n",
    "        eac_average_coassoc_matrix,\n",
    "        scc_020,\n",
    "        scc_025,\n",
    "        scc_030,\n",
    "        scc_050,\n",
    "    )\n",
    ")\n",
    "display(all_consensus_methods)"
   ]
  },
  {
   "cell_type": "code",
   "execution_count": 21,
   "id": "cfd2a85a",
   "metadata": {
    "execution": {
     "iopub.execute_input": "2022-11-27T02:57:11.079938Z",
     "iopub.status.busy": "2022-11-27T02:57:11.079855Z",
     "iopub.status.idle": "2022-11-27T03:20:04.051367Z",
     "shell.execute_reply": "2022-11-27T03:20:04.051013Z"
    },
    "papermill": {
     "duration": 1372.979973,
     "end_time": "2022-11-27T03:20:04.052791",
     "exception": false,
     "start_time": "2022-11-27T02:57:11.072818",
     "status": "completed"
    },
    "tags": []
   },
   "outputs": [
    {
     "name": "stderr",
     "output_type": "stream",
     "text": [
      "100%|█████████████████████████████████████████████████████████████| 413/413 [22:52<00:00,  3.32s/it]\n"
     ]
    }
   ],
   "source": [
    "consensus_results = []\n",
    "\n",
    "with ProcessPoolExecutor(max_workers=conf.GENERAL[\"N_JOBS\"]) as executor:\n",
    "    tasks = {\n",
    "        executor.submit(\n",
    "            run_method_and_compute_agreement,\n",
    "            m,\n",
    "            ensemble_coassoc_matrix,\n",
    "            full_ensemble,\n",
    "            k,\n",
    "            n_init=SC_N_INIT,\n",
    "            random_state=next(RANDOM_STATES_ITER),\n",
    "        ): (m.__name__, k)\n",
    "        for m in all_consensus_methods\n",
    "        for k in range(CLUSTERING_OPTIONS[\"K_MIN\"], CLUSTERING_OPTIONS[\"K_MAX\"] + 1)\n",
    "    }\n",
    "\n",
    "    for future in tqdm(as_completed(tasks), total=len(tasks), disable=False, ncols=100):\n",
    "        method_name, k = tasks[future]\n",
    "        part, performance_values = future.result()\n",
    "\n",
    "        method_results = {\n",
    "            \"method\": method_name,\n",
    "            \"partition\": part,\n",
    "            \"k\": k,\n",
    "        }\n",
    "        method_results.update(performance_values)\n",
    "\n",
    "        consensus_results.append(method_results)"
   ]
  },
  {
   "cell_type": "code",
   "execution_count": 22,
   "id": "d35578c2",
   "metadata": {
    "execution": {
     "iopub.execute_input": "2022-11-27T03:20:04.111747Z",
     "iopub.status.busy": "2022-11-27T03:20:04.111524Z",
     "iopub.status.idle": "2022-11-27T03:20:04.136431Z",
     "shell.execute_reply": "2022-11-27T03:20:04.136014Z"
    },
    "papermill": {
     "duration": 0.055508,
     "end_time": "2022-11-27T03:20:04.137719",
     "exception": false,
     "start_time": "2022-11-27T03:20:04.082211",
     "status": "completed"
    },
    "tags": []
   },
   "outputs": [],
   "source": [
    "consensus_results = pd.DataFrame(consensus_results)"
   ]
  },
  {
   "cell_type": "code",
   "execution_count": 23,
   "id": "c6382de6",
   "metadata": {
    "execution": {
     "iopub.execute_input": "2022-11-27T03:20:04.194699Z",
     "iopub.status.busy": "2022-11-27T03:20:04.194336Z",
     "iopub.status.idle": "2022-11-27T03:20:04.213396Z",
     "shell.execute_reply": "2022-11-27T03:20:04.213067Z"
    },
    "papermill": {
     "duration": 0.047181,
     "end_time": "2022-11-27T03:20:04.214178",
     "exception": false,
     "start_time": "2022-11-27T03:20:04.166997",
     "status": "completed"
    },
    "tags": []
   },
   "outputs": [
    {
     "data": {
      "text/plain": [
       "(413, 12)"
      ]
     },
     "metadata": {},
     "output_type": "display_data"
    }
   ],
   "source": [
    "display(consensus_results.shape)"
   ]
  },
  {
   "cell_type": "code",
   "execution_count": 24,
   "id": "5cf6a697",
   "metadata": {
    "execution": {
     "iopub.execute_input": "2022-11-27T03:20:04.244276Z",
     "iopub.status.busy": "2022-11-27T03:20:04.243980Z",
     "iopub.status.idle": "2022-11-27T03:20:04.281730Z",
     "shell.execute_reply": "2022-11-27T03:20:04.281413Z"
    },
    "papermill": {
     "duration": 0.053619,
     "end_time": "2022-11-27T03:20:04.282525",
     "exception": false,
     "start_time": "2022-11-27T03:20:04.228906",
     "status": "completed"
    },
    "tags": []
   },
   "outputs": [
    {
     "data": {
      "text/html": [
       "<div>\n",
       "<style scoped>\n",
       "    .dataframe tbody tr th:only-of-type {\n",
       "        vertical-align: middle;\n",
       "    }\n",
       "\n",
       "    .dataframe tbody tr th {\n",
       "        vertical-align: top;\n",
       "    }\n",
       "\n",
       "    .dataframe thead th {\n",
       "        text-align: right;\n",
       "    }\n",
       "</style>\n",
       "<table border=\"1\" class=\"dataframe\">\n",
       "  <thead>\n",
       "    <tr style=\"text-align: right;\">\n",
       "      <th></th>\n",
       "      <th>method</th>\n",
       "      <th>partition</th>\n",
       "      <th>k</th>\n",
       "      <th>ari_mean</th>\n",
       "      <th>ari_median</th>\n",
       "      <th>ari_std</th>\n",
       "      <th>ami_mean</th>\n",
       "      <th>ami_median</th>\n",
       "      <th>ami_std</th>\n",
       "      <th>nmi_mean</th>\n",
       "      <th>nmi_median</th>\n",
       "      <th>nmi_std</th>\n",
       "    </tr>\n",
       "  </thead>\n",
       "  <tbody>\n",
       "    <tr>\n",
       "      <th>0</th>\n",
       "      <td>eac_single_coassoc_matrix</td>\n",
       "      <td>[0, 0, 0, 0, 0, 0, 0, 0, 0, 0, 0, 0, 0, 0, 0, ...</td>\n",
       "      <td>2</td>\n",
       "      <td>0.011734</td>\n",
       "      <td>0.000020</td>\n",
       "      <td>0.061126</td>\n",
       "      <td>0.012274</td>\n",
       "      <td>0.000044</td>\n",
       "      <td>0.061146</td>\n",
       "      <td>0.012796</td>\n",
       "      <td>0.000577</td>\n",
       "      <td>0.061114</td>\n",
       "    </tr>\n",
       "    <tr>\n",
       "      <th>1</th>\n",
       "      <td>eac_single_coassoc_matrix</td>\n",
       "      <td>[0, 0, 0, 0, 0, 0, 0, 0, 0, 0, 0, 0, 0, 0, 0, ...</td>\n",
       "      <td>3</td>\n",
       "      <td>0.019360</td>\n",
       "      <td>0.000021</td>\n",
       "      <td>0.082619</td>\n",
       "      <td>0.020361</td>\n",
       "      <td>0.000059</td>\n",
       "      <td>0.082742</td>\n",
       "      <td>0.021393</td>\n",
       "      <td>0.001123</td>\n",
       "      <td>0.082651</td>\n",
       "    </tr>\n",
       "    <tr>\n",
       "      <th>2</th>\n",
       "      <td>eac_single_coassoc_matrix</td>\n",
       "      <td>[0, 0, 0, 0, 0, 0, 0, 0, 0, 0, 0, 0, 0, 0, 0, ...</td>\n",
       "      <td>4</td>\n",
       "      <td>0.024839</td>\n",
       "      <td>0.000017</td>\n",
       "      <td>0.093988</td>\n",
       "      <td>0.026178</td>\n",
       "      <td>0.000070</td>\n",
       "      <td>0.094141</td>\n",
       "      <td>0.027706</td>\n",
       "      <td>0.001662</td>\n",
       "      <td>0.093979</td>\n",
       "    </tr>\n",
       "    <tr>\n",
       "      <th>3</th>\n",
       "      <td>eac_single_coassoc_matrix</td>\n",
       "      <td>[0, 0, 0, 0, 0, 0, 0, 0, 0, 0, 0, 0, 0, 0, 0, ...</td>\n",
       "      <td>5</td>\n",
       "      <td>0.085062</td>\n",
       "      <td>0.000115</td>\n",
       "      <td>0.244193</td>\n",
       "      <td>0.090376</td>\n",
       "      <td>0.009544</td>\n",
       "      <td>0.232588</td>\n",
       "      <td>0.093898</td>\n",
       "      <td>0.012819</td>\n",
       "      <td>0.231762</td>\n",
       "    </tr>\n",
       "    <tr>\n",
       "      <th>4</th>\n",
       "      <td>eac_single_coassoc_matrix</td>\n",
       "      <td>[0, 0, 0, 0, 0, 0, 0, 0, 0, 0, 0, 0, 0, 0, 0, ...</td>\n",
       "      <td>6</td>\n",
       "      <td>0.085796</td>\n",
       "      <td>0.000142</td>\n",
       "      <td>0.239327</td>\n",
       "      <td>0.090903</td>\n",
       "      <td>0.009718</td>\n",
       "      <td>0.225980</td>\n",
       "      <td>0.094851</td>\n",
       "      <td>0.013543</td>\n",
       "      <td>0.225064</td>\n",
       "    </tr>\n",
       "  </tbody>\n",
       "</table>\n",
       "</div>"
      ],
      "text/plain": [
       "                      method  \\\n",
       "0  eac_single_coassoc_matrix   \n",
       "1  eac_single_coassoc_matrix   \n",
       "2  eac_single_coassoc_matrix   \n",
       "3  eac_single_coassoc_matrix   \n",
       "4  eac_single_coassoc_matrix   \n",
       "\n",
       "                                           partition  k  ari_mean  ari_median  \\\n",
       "0  [0, 0, 0, 0, 0, 0, 0, 0, 0, 0, 0, 0, 0, 0, 0, ...  2  0.011734    0.000020   \n",
       "1  [0, 0, 0, 0, 0, 0, 0, 0, 0, 0, 0, 0, 0, 0, 0, ...  3  0.019360    0.000021   \n",
       "2  [0, 0, 0, 0, 0, 0, 0, 0, 0, 0, 0, 0, 0, 0, 0, ...  4  0.024839    0.000017   \n",
       "3  [0, 0, 0, 0, 0, 0, 0, 0, 0, 0, 0, 0, 0, 0, 0, ...  5  0.085062    0.000115   \n",
       "4  [0, 0, 0, 0, 0, 0, 0, 0, 0, 0, 0, 0, 0, 0, 0, ...  6  0.085796    0.000142   \n",
       "\n",
       "    ari_std  ami_mean  ami_median   ami_std  nmi_mean  nmi_median   nmi_std  \n",
       "0  0.061126  0.012274    0.000044  0.061146  0.012796    0.000577  0.061114  \n",
       "1  0.082619  0.020361    0.000059  0.082742  0.021393    0.001123  0.082651  \n",
       "2  0.093988  0.026178    0.000070  0.094141  0.027706    0.001662  0.093979  \n",
       "3  0.244193  0.090376    0.009544  0.232588  0.093898    0.012819  0.231762  \n",
       "4  0.239327  0.090903    0.009718  0.225980  0.094851    0.013543  0.225064  "
      ]
     },
     "execution_count": 24,
     "metadata": {},
     "output_type": "execute_result"
    }
   ],
   "source": [
    "consensus_results.head()"
   ]
  },
  {
   "cell_type": "markdown",
   "id": "317ad2de",
   "metadata": {
    "papermill": {
     "duration": 0.014534,
     "end_time": "2022-11-27T03:20:04.311943",
     "exception": false,
     "start_time": "2022-11-27T03:20:04.297409",
     "status": "completed"
    },
    "tags": []
   },
   "source": [
    "## Testing"
   ]
  },
  {
   "cell_type": "code",
   "execution_count": 25,
   "id": "bf6b3816",
   "metadata": {
    "execution": {
     "iopub.execute_input": "2022-11-27T03:20:04.342443Z",
     "iopub.status.busy": "2022-11-27T03:20:04.342002Z",
     "iopub.status.idle": "2022-11-27T03:20:04.362017Z",
     "shell.execute_reply": "2022-11-27T03:20:04.361493Z"
    },
    "papermill": {
     "duration": 0.036292,
     "end_time": "2022-11-27T03:20:04.362974",
     "exception": false,
     "start_time": "2022-11-27T03:20:04.326682",
     "status": "completed"
    },
    "tags": []
   },
   "outputs": [],
   "source": [
    "assert not consensus_results.isna().any().any()"
   ]
  },
  {
   "cell_type": "code",
   "execution_count": 26,
   "id": "9a0afa52",
   "metadata": {
    "execution": {
     "iopub.execute_input": "2022-11-27T03:20:04.393471Z",
     "iopub.status.busy": "2022-11-27T03:20:04.393147Z",
     "iopub.status.idle": "2022-11-27T03:20:04.447729Z",
     "shell.execute_reply": "2022-11-27T03:20:04.447216Z"
    },
    "papermill": {
     "duration": 0.070805,
     "end_time": "2022-11-27T03:20:04.448608",
     "exception": false,
     "start_time": "2022-11-27T03:20:04.377803",
     "status": "completed"
    },
    "tags": []
   },
   "outputs": [
    {
     "data": {
      "text/plain": [
       "0       2\n",
       "1       3\n",
       "2       4\n",
       "3       5\n",
       "4       6\n",
       "       ..\n",
       "408    56\n",
       "409    57\n",
       "410    58\n",
       "411    59\n",
       "412    60\n",
       "Name: partition, Length: 413, dtype: int64"
      ]
     },
     "metadata": {},
     "output_type": "display_data"
    }
   ],
   "source": [
    "# check that the number of clusters in the partitions are the expected ones\n",
    "_real_k_values = consensus_results[\"partition\"].apply(lambda x: np.unique(x).shape[0])\n",
    "display(_real_k_values)\n",
    "assert np.all(consensus_results[\"k\"].values == _real_k_values.values)"
   ]
  },
  {
   "cell_type": "markdown",
   "id": "e5e7e55a",
   "metadata": {
    "papermill": {
     "duration": 0.014596,
     "end_time": "2022-11-27T03:20:04.478125",
     "exception": false,
     "start_time": "2022-11-27T03:20:04.463529",
     "status": "completed"
    },
    "tags": []
   },
   "source": [
    "## Save"
   ]
  },
  {
   "cell_type": "code",
   "execution_count": 27,
   "id": "44b7ab49",
   "metadata": {
    "execution": {
     "iopub.execute_input": "2022-11-27T03:20:04.508362Z",
     "iopub.status.busy": "2022-11-27T03:20:04.508038Z",
     "iopub.status.idle": "2022-11-27T03:20:04.527849Z",
     "shell.execute_reply": "2022-11-27T03:20:04.527348Z"
    },
    "papermill": {
     "duration": 0.035968,
     "end_time": "2022-11-27T03:20:04.528740",
     "exception": false,
     "start_time": "2022-11-27T03:20:04.492772",
     "status": "completed"
    },
    "tags": []
   },
   "outputs": [
    {
     "data": {
      "text/plain": [
       "PosixPath('/opt/data/results/clustering/null_sims/shuffle_genes/consensus_clustering/consensus_clustering_runs.pkl')"
      ]
     },
     "metadata": {},
     "output_type": "display_data"
    }
   ],
   "source": [
    "output_file = Path(RESULTS_DIR, \"consensus_clustering_runs.pkl\").resolve()\n",
    "display(output_file)"
   ]
  },
  {
   "cell_type": "code",
   "execution_count": 28,
   "id": "69a17dbb",
   "metadata": {
    "execution": {
     "iopub.execute_input": "2022-11-27T03:20:04.559153Z",
     "iopub.status.busy": "2022-11-27T03:20:04.558840Z",
     "iopub.status.idle": "2022-11-27T03:20:04.597609Z",
     "shell.execute_reply": "2022-11-27T03:20:04.597061Z"
    },
    "papermill": {
     "duration": 0.055041,
     "end_time": "2022-11-27T03:20:04.598492",
     "exception": false,
     "start_time": "2022-11-27T03:20:04.543451",
     "status": "completed"
    },
    "tags": []
   },
   "outputs": [],
   "source": [
    "consensus_results.to_pickle(output_file)"
   ]
  },
  {
   "cell_type": "code",
   "execution_count": null,
   "id": "0006ed8c",
   "metadata": {
    "papermill": {
     "duration": 0.014599,
     "end_time": "2022-11-27T03:20:04.627935",
     "exception": false,
     "start_time": "2022-11-27T03:20:04.613336",
     "status": "completed"
    },
    "tags": []
   },
   "outputs": [],
   "source": []
  }
 ],
 "metadata": {
  "jupytext": {
   "cell_metadata_filter": "all,-execution,-papermill,-trusted",
   "formats": "ipynb,py//py:percent"
  },
  "kernelspec": {
   "display_name": "Python 3 (ipykernel)",
   "language": "python",
   "name": "python3"
  },
  "language_info": {
   "codemirror_mode": {
    "name": "ipython",
    "version": 3
   },
   "file_extension": ".py",
   "mimetype": "text/x-python",
   "name": "python",
   "nbconvert_exporter": "python",
   "pygments_lexer": "ipython3",
   "version": "3.8.13"
  },
  "papermill": {
   "default_parameters": {},
   "duration": 1375.637393,
   "end_time": "2022-11-27T03:20:04.857827",
   "environment_variables": {},
   "exception": null,
   "input_path": "nbs/13.1_cluster_analysis_null/00-shuffle_genes/20_01-combine_ensemble.ipynb",
   "output_path": "nbs/13.1_cluster_analysis_null/00-shuffle_genes/20_01-combine_ensemble.run.ipynb",
   "parameters": {},
   "start_time": "2022-11-27T02:57:09.220434",
   "version": "2.2.2"
  },
  "toc-autonumbering": true,
  "toc-showcode": false,
  "toc-showmarkdowntxt": false,
  "toc-showtags": false
 },
 "nbformat": 4,
 "nbformat_minor": 5
}
