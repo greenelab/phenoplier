{
 "cells": [
  {
   "cell_type": "markdown",
   "id": "06dc1753",
   "metadata": {
    "papermill": {
     "duration": 0.021372,
     "end_time": "2022-09-14T14:00:30.872227",
     "exception": false,
     "start_time": "2022-09-14T14:00:30.850855",
     "status": "completed"
    },
    "tags": []
   },
   "source": [
    "# Description"
   ]
  },
  {
   "cell_type": "markdown",
   "id": "10381e29",
   "metadata": {
    "papermill": {
     "duration": 0.007837,
     "end_time": "2022-09-14T14:00:30.898664",
     "exception": false,
     "start_time": "2022-09-14T14:00:30.890827",
     "status": "completed"
    },
    "tags": []
   },
   "source": [
    "It combines all clustering solutions generated into a single consolidated solution using consensus clustering."
   ]
  },
  {
   "cell_type": "markdown",
   "id": "e2d2fd52",
   "metadata": {
    "papermill": {
     "duration": 0.004857,
     "end_time": "2022-09-14T14:00:30.909655",
     "exception": false,
     "start_time": "2022-09-14T14:00:30.904798",
     "status": "completed"
    },
    "tags": []
   },
   "source": [
    "# Environment variables"
   ]
  },
  {
   "cell_type": "code",
   "execution_count": 1,
   "id": "d87128e1",
   "metadata": {
    "execution": {
     "iopub.execute_input": "2022-09-14T14:00:30.919674Z",
     "iopub.status.busy": "2022-09-14T14:00:30.919416Z",
     "iopub.status.idle": "2022-09-14T14:00:30.929913Z",
     "shell.execute_reply": "2022-09-14T14:00:30.929399Z"
    },
    "papermill": {
     "duration": 0.017175,
     "end_time": "2022-09-14T14:00:30.931287",
     "exception": false,
     "start_time": "2022-09-14T14:00:30.914112",
     "status": "completed"
    },
    "tags": []
   },
   "outputs": [
    {
     "data": {
      "text/plain": [
       "1"
      ]
     },
     "metadata": {},
     "output_type": "display_data"
    }
   ],
   "source": [
    "from IPython.display import display\n",
    "\n",
    "# set numpy n_jobs to 1, since I'll be using n_jobs later\n",
    "NUMPY_N_JOBS = 1\n",
    "display(NUMPY_N_JOBS)"
   ]
  },
  {
   "cell_type": "code",
   "execution_count": 2,
   "id": "89b4a7d2",
   "metadata": {
    "execution": {
     "iopub.execute_input": "2022-09-14T14:00:30.941079Z",
     "iopub.status.busy": "2022-09-14T14:00:30.940878Z",
     "iopub.status.idle": "2022-09-14T14:00:30.945807Z",
     "shell.execute_reply": "2022-09-14T14:00:30.945418Z"
    },
    "papermill": {
     "duration": 0.011056,
     "end_time": "2022-09-14T14:00:30.946994",
     "exception": false,
     "start_time": "2022-09-14T14:00:30.935938",
     "status": "completed"
    },
    "tags": []
   },
   "outputs": [
    {
     "name": "stdout",
     "output_type": "stream",
     "text": [
      "env: MKL_NUM_THREADS=1\n",
      "env: OPEN_BLAS_NUM_THREADS=1\n",
      "env: NUMEXPR_NUM_THREADS=1\n",
      "env: OMP_NUM_THREADS=1\n"
     ]
    }
   ],
   "source": [
    "%env MKL_NUM_THREADS=$NUMPY_N_JOBS\n",
    "%env OPEN_BLAS_NUM_THREADS=$NUMPY_N_JOBS\n",
    "%env NUMEXPR_NUM_THREADS=$NUMPY_N_JOBS\n",
    "%env OMP_NUM_THREADS=$NUMPY_N_JOBS"
   ]
  },
  {
   "cell_type": "markdown",
   "id": "96bc4080",
   "metadata": {
    "papermill": {
     "duration": 0.004238,
     "end_time": "2022-09-14T14:00:30.955845",
     "exception": false,
     "start_time": "2022-09-14T14:00:30.951607",
     "status": "completed"
    },
    "tags": []
   },
   "source": [
    "# Modules loading"
   ]
  },
  {
   "cell_type": "code",
   "execution_count": 3,
   "id": "184d030c",
   "metadata": {
    "execution": {
     "iopub.execute_input": "2022-09-14T14:00:30.965515Z",
     "iopub.status.busy": "2022-09-14T14:00:30.965359Z",
     "iopub.status.idle": "2022-09-14T14:00:30.978491Z",
     "shell.execute_reply": "2022-09-14T14:00:30.977983Z"
    },
    "papermill": {
     "duration": 0.019343,
     "end_time": "2022-09-14T14:00:30.979672",
     "exception": false,
     "start_time": "2022-09-14T14:00:30.960329",
     "status": "completed"
    },
    "tags": []
   },
   "outputs": [],
   "source": [
    "%load_ext autoreload\n",
    "%autoreload 2"
   ]
  },
  {
   "cell_type": "code",
   "execution_count": 4,
   "id": "7ea55b51",
   "metadata": {
    "execution": {
     "iopub.execute_input": "2022-09-14T14:00:30.998633Z",
     "iopub.status.busy": "2022-09-14T14:00:30.998474Z",
     "iopub.status.idle": "2022-09-14T14:00:31.232303Z",
     "shell.execute_reply": "2022-09-14T14:00:31.231579Z"
    },
    "papermill": {
     "duration": 0.249385,
     "end_time": "2022-09-14T14:00:31.233744",
     "exception": false,
     "start_time": "2022-09-14T14:00:30.984359",
     "status": "completed"
    },
    "tags": []
   },
   "outputs": [],
   "source": [
    "from pathlib import Path\n",
    "\n",
    "import numpy as np\n",
    "import pandas as pd\n",
    "\n",
    "import conf"
   ]
  },
  {
   "cell_type": "markdown",
   "id": "b89d4d82",
   "metadata": {
    "papermill": {
     "duration": 0.004338,
     "end_time": "2022-09-14T14:00:31.242878",
     "exception": false,
     "start_time": "2022-09-14T14:00:31.238540",
     "status": "completed"
    },
    "tags": []
   },
   "source": [
    "# Settings"
   ]
  },
  {
   "cell_type": "code",
   "execution_count": 5,
   "id": "a79a89bf",
   "metadata": {
    "execution": {
     "iopub.execute_input": "2022-09-14T14:00:31.252602Z",
     "iopub.status.busy": "2022-09-14T14:00:31.252399Z",
     "iopub.status.idle": "2022-09-14T14:00:31.264621Z",
     "shell.execute_reply": "2022-09-14T14:00:31.264172Z"
    },
    "papermill": {
     "duration": 0.018746,
     "end_time": "2022-09-14T14:00:31.265931",
     "exception": false,
     "start_time": "2022-09-14T14:00:31.247185",
     "status": "completed"
    },
    "tags": []
   },
   "outputs": [],
   "source": [
    "np.random.seed(0)"
   ]
  },
  {
   "cell_type": "code",
   "execution_count": 6,
   "id": "724f9ee9",
   "metadata": {
    "execution": {
     "iopub.execute_input": "2022-09-14T14:00:31.292511Z",
     "iopub.status.busy": "2022-09-14T14:00:31.292341Z",
     "iopub.status.idle": "2022-09-14T14:00:31.306339Z",
     "shell.execute_reply": "2022-09-14T14:00:31.305635Z"
    },
    "papermill": {
     "duration": 0.037093,
     "end_time": "2022-09-14T14:00:31.307726",
     "exception": false,
     "start_time": "2022-09-14T14:00:31.270633",
     "status": "completed"
    },
    "tags": []
   },
   "outputs": [],
   "source": [
    "RANDOM_STATES_ITER = iter(np.random.randint(0, np.iinfo(np.int32).max, size=100000))"
   ]
  },
  {
   "cell_type": "code",
   "execution_count": 7,
   "id": "a834068b",
   "metadata": {
    "execution": {
     "iopub.execute_input": "2022-09-14T14:00:31.318400Z",
     "iopub.status.busy": "2022-09-14T14:00:31.318231Z",
     "iopub.status.idle": "2022-09-14T14:00:31.331000Z",
     "shell.execute_reply": "2022-09-14T14:00:31.330471Z"
    },
    "papermill": {
     "duration": 0.019542,
     "end_time": "2022-09-14T14:00:31.332312",
     "exception": false,
     "start_time": "2022-09-14T14:00:31.312770",
     "status": "completed"
    },
    "tags": []
   },
   "outputs": [],
   "source": [
    "# n_init parameter for DeltaSpectralClustering\n",
    "# a high number should produce more stable final solutions\n",
    "SC_N_INIT = 50"
   ]
  },
  {
   "cell_type": "code",
   "execution_count": null,
   "id": "dd5d7da7-ed65-496b-88bf-e5e99fdfae4e",
   "metadata": {},
   "outputs": [],
   "source": [
    "NULL_DIR = conf.RESULTS[\"CLUSTERING_NULL_DIR\"], \"shuffle_genes\""
   ]
  },
  {
   "cell_type": "markdown",
   "id": "9129c9a0",
   "metadata": {
    "papermill": {
     "duration": 0.004353,
     "end_time": "2022-09-14T14:00:31.341643",
     "exception": false,
     "start_time": "2022-09-14T14:00:31.337290",
     "status": "completed"
    },
    "tags": []
   },
   "source": [
    "## Consensus clustering"
   ]
  },
  {
   "cell_type": "code",
   "execution_count": 8,
   "id": "eb9485c3",
   "metadata": {
    "execution": {
     "iopub.execute_input": "2022-09-14T14:00:31.352677Z",
     "iopub.status.busy": "2022-09-14T14:00:31.352491Z",
     "iopub.status.idle": "2022-09-14T14:00:31.366851Z",
     "shell.execute_reply": "2022-09-14T14:00:31.366298Z"
    },
    "papermill": {
     "duration": 0.021724,
     "end_time": "2022-09-14T14:00:31.368307",
     "exception": false,
     "start_time": "2022-09-14T14:00:31.346583",
     "status": "completed"
    },
    "tags": []
   },
   "outputs": [
    {
     "data": {
      "text/plain": [
       "{'K_MIN': 2, 'K_MAX': 60}"
      ]
     },
     "metadata": {},
     "output_type": "display_data"
    }
   ],
   "source": [
    "CLUSTERING_OPTIONS = {}\n",
    "\n",
    "CLUSTERING_OPTIONS[\"K_MIN\"] = 2\n",
    "CLUSTERING_OPTIONS[\"K_MAX\"] = 60\n",
    "\n",
    "display(CLUSTERING_OPTIONS)"
   ]
  },
  {
   "cell_type": "code",
   "execution_count": 9,
   "id": "00a151fc",
   "metadata": {
    "execution": {
     "iopub.execute_input": "2022-09-14T14:00:31.378981Z",
     "iopub.status.busy": "2022-09-14T14:00:31.378809Z",
     "iopub.status.idle": "2022-09-14T14:00:31.392835Z",
     "shell.execute_reply": "2022-09-14T14:00:31.392262Z"
    },
    "papermill": {
     "duration": 0.020698,
     "end_time": "2022-09-14T14:00:31.394092",
     "exception": false,
     "start_time": "2022-09-14T14:00:31.373394",
     "status": "completed"
    },
    "tags": []
   },
   "outputs": [
    {
     "data": {
      "text/plain": [
       "PosixPath('/opt/data/results/clustering/null_sims/consensus_clustering')"
      ]
     },
     "metadata": {},
     "output_type": "display_data"
    }
   ],
   "source": [
    "# output dir for this notebook\n",
    "RESULTS_DIR = Path(\n",
    "    NULL_DIR, \"consensus_clustering\"\n",
    ").resolve()\n",
    "RESULTS_DIR.mkdir(parents=True, exist_ok=True)\n",
    "\n",
    "display(RESULTS_DIR)"
   ]
  },
  {
   "cell_type": "markdown",
   "id": "9d4247a6",
   "metadata": {
    "papermill": {
     "duration": 0.004752,
     "end_time": "2022-09-14T14:00:31.403954",
     "exception": false,
     "start_time": "2022-09-14T14:00:31.399202",
     "status": "completed"
    },
    "tags": []
   },
   "source": [
    "# Load ensemble"
   ]
  },
  {
   "cell_type": "code",
   "execution_count": 10,
   "id": "2f15465a",
   "metadata": {
    "execution": {
     "iopub.execute_input": "2022-09-14T14:00:31.414726Z",
     "iopub.status.busy": "2022-09-14T14:00:31.414054Z",
     "iopub.status.idle": "2022-09-14T14:00:31.427452Z",
     "shell.execute_reply": "2022-09-14T14:00:31.426974Z"
    },
    "papermill": {
     "duration": 0.01993,
     "end_time": "2022-09-14T14:00:31.428777",
     "exception": false,
     "start_time": "2022-09-14T14:00:31.408847",
     "status": "completed"
    },
    "tags": []
   },
   "outputs": [
    {
     "data": {
      "text/plain": [
       "PosixPath('/opt/data/results/clustering/null_sims/consensus_clustering/ensemble.npy')"
      ]
     },
     "metadata": {},
     "output_type": "display_data"
    }
   ],
   "source": [
    "output_file = Path(RESULTS_DIR, \"ensemble.npy\").resolve()\n",
    "display(output_file)"
   ]
  },
  {
   "cell_type": "code",
   "execution_count": 11,
   "id": "6e287d3f",
   "metadata": {
    "execution": {
     "iopub.execute_input": "2022-09-14T14:00:31.439490Z",
     "iopub.status.busy": "2022-09-14T14:00:31.439312Z",
     "iopub.status.idle": "2022-09-14T14:00:31.475691Z",
     "shell.execute_reply": "2022-09-14T14:00:31.474991Z"
    },
    "papermill": {
     "duration": 0.043462,
     "end_time": "2022-09-14T14:00:31.477273",
     "exception": false,
     "start_time": "2022-09-14T14:00:31.433811",
     "status": "completed"
    },
    "tags": []
   },
   "outputs": [],
   "source": [
    "full_ensemble = np.load(output_file)"
   ]
  },
  {
   "cell_type": "code",
   "execution_count": 12,
   "id": "3e717627",
   "metadata": {
    "execution": {
     "iopub.execute_input": "2022-09-14T14:00:31.489485Z",
     "iopub.status.busy": "2022-09-14T14:00:31.489300Z",
     "iopub.status.idle": "2022-09-14T14:00:31.504000Z",
     "shell.execute_reply": "2022-09-14T14:00:31.503375Z"
    },
    "papermill": {
     "duration": 0.022361,
     "end_time": "2022-09-14T14:00:31.505423",
     "exception": false,
     "start_time": "2022-09-14T14:00:31.483062",
     "status": "completed"
    },
    "tags": []
   },
   "outputs": [
    {
     "data": {
      "text/plain": [
       "(3833, 3752)"
      ]
     },
     "metadata": {},
     "output_type": "display_data"
    }
   ],
   "source": [
    "display(full_ensemble.shape)"
   ]
  },
  {
   "cell_type": "markdown",
   "id": "fe7e0223",
   "metadata": {
    "papermill": {
     "duration": 0.00538,
     "end_time": "2022-09-14T14:00:31.516544",
     "exception": false,
     "start_time": "2022-09-14T14:00:31.511164",
     "status": "completed"
    },
    "tags": []
   },
   "source": [
    "# Load ensemble coassociation distance matrix"
   ]
  },
  {
   "cell_type": "code",
   "execution_count": 13,
   "id": "b4b14bcc",
   "metadata": {
    "execution": {
     "iopub.execute_input": "2022-09-14T14:00:31.528202Z",
     "iopub.status.busy": "2022-09-14T14:00:31.528035Z",
     "iopub.status.idle": "2022-09-14T14:00:31.541472Z",
     "shell.execute_reply": "2022-09-14T14:00:31.540987Z"
    },
    "papermill": {
     "duration": 0.020501,
     "end_time": "2022-09-14T14:00:31.542764",
     "exception": false,
     "start_time": "2022-09-14T14:00:31.522263",
     "status": "completed"
    },
    "tags": []
   },
   "outputs": [
    {
     "data": {
      "text/plain": [
       "PosixPath('/opt/data/results/clustering/null_sims/consensus_clustering/ensemble_coassoc_matrix.npy')"
      ]
     },
     "metadata": {},
     "output_type": "display_data"
    }
   ],
   "source": [
    "output_file = Path(RESULTS_DIR, \"ensemble_coassoc_matrix.npy\").resolve()\n",
    "display(output_file)"
   ]
  },
  {
   "cell_type": "code",
   "execution_count": 14,
   "id": "ab4c71bf",
   "metadata": {
    "execution": {
     "iopub.execute_input": "2022-09-14T14:00:31.553979Z",
     "iopub.status.busy": "2022-09-14T14:00:31.553807Z",
     "iopub.status.idle": "2022-09-14T14:00:31.592213Z",
     "shell.execute_reply": "2022-09-14T14:00:31.591467Z"
    },
    "papermill": {
     "duration": 0.045853,
     "end_time": "2022-09-14T14:00:31.593856",
     "exception": false,
     "start_time": "2022-09-14T14:00:31.548003",
     "status": "completed"
    },
    "tags": []
   },
   "outputs": [],
   "source": [
    "ensemble_coassoc_matrix = np.load(output_file)"
   ]
  },
  {
   "cell_type": "code",
   "execution_count": 15,
   "id": "bb6f223f",
   "metadata": {
    "execution": {
     "iopub.execute_input": "2022-09-14T14:00:31.612885Z",
     "iopub.status.busy": "2022-09-14T14:00:31.612690Z",
     "iopub.status.idle": "2022-09-14T14:00:31.627466Z",
     "shell.execute_reply": "2022-09-14T14:00:31.626921Z"
    },
    "papermill": {
     "duration": 0.022899,
     "end_time": "2022-09-14T14:00:31.628980",
     "exception": false,
     "start_time": "2022-09-14T14:00:31.606081",
     "status": "completed"
    },
    "tags": []
   },
   "outputs": [
    {
     "data": {
      "text/plain": [
       "(3752, 3752)"
      ]
     },
     "metadata": {},
     "output_type": "display_data"
    }
   ],
   "source": [
    "display(ensemble_coassoc_matrix.shape)"
   ]
  },
  {
   "cell_type": "code",
   "execution_count": 16,
   "id": "9d0e1e3e",
   "metadata": {
    "execution": {
     "iopub.execute_input": "2022-09-14T14:00:31.641973Z",
     "iopub.status.busy": "2022-09-14T14:00:31.641780Z",
     "iopub.status.idle": "2022-09-14T14:00:31.657312Z",
     "shell.execute_reply": "2022-09-14T14:00:31.656669Z"
    },
    "papermill": {
     "duration": 0.023639,
     "end_time": "2022-09-14T14:00:31.658741",
     "exception": false,
     "start_time": "2022-09-14T14:00:31.635102",
     "status": "completed"
    },
    "tags": []
   },
   "outputs": [
    {
     "data": {
      "text/plain": [
       "array([[0.        , 0.47733899, 0.57453581, ..., 0.59867374, 0.62867745,\n",
       "        0.7500664 ],\n",
       "       [0.47733899, 0.        , 0.51951477, ..., 0.53243671, 0.60115911,\n",
       "        0.7232638 ],\n",
       "       [0.57453581, 0.51951477, 0.        , ..., 0.44330169, 0.46017932,\n",
       "        0.71719039],\n",
       "       ...,\n",
       "       [0.59867374, 0.53243671, 0.44330169, ..., 0.        , 0.41824895,\n",
       "        0.73725904],\n",
       "       [0.62867745, 0.60115911, 0.46017932, ..., 0.41824895, 0.        ,\n",
       "        0.74121996],\n",
       "       [0.7500664 , 0.7232638 , 0.71719039, ..., 0.73725904, 0.74121996,\n",
       "        0.        ]])"
      ]
     },
     "metadata": {},
     "output_type": "display_data"
    }
   ],
   "source": [
    "display(ensemble_coassoc_matrix)"
   ]
  },
  {
   "cell_type": "markdown",
   "id": "7a2e8760",
   "metadata": {
    "papermill": {
     "duration": 0.005864,
     "end_time": "2022-09-14T14:00:31.670792",
     "exception": false,
     "start_time": "2022-09-14T14:00:31.664928",
     "status": "completed"
    },
    "tags": []
   },
   "source": [
    "# Consensus clustering"
   ]
  },
  {
   "cell_type": "code",
   "execution_count": 17,
   "id": "0fec4774",
   "metadata": {
    "execution": {
     "iopub.execute_input": "2022-09-14T14:00:31.683125Z",
     "iopub.status.busy": "2022-09-14T14:00:31.682953Z",
     "iopub.status.idle": "2022-09-14T14:00:31.979008Z",
     "shell.execute_reply": "2022-09-14T14:00:31.978348Z"
    },
    "papermill": {
     "duration": 0.303631,
     "end_time": "2022-09-14T14:00:31.980476",
     "exception": false,
     "start_time": "2022-09-14T14:00:31.676845",
     "status": "completed"
    },
    "tags": []
   },
   "outputs": [],
   "source": [
    "from concurrent.futures import ProcessPoolExecutor, as_completed\n",
    "\n",
    "from tqdm import tqdm\n",
    "\n",
    "from clustering.ensembles.utils import (\n",
    "    run_method_and_compute_agreement,\n",
    ")\n",
    "from clustering.ensembles.eac import (\n",
    "    eac_single_coassoc_matrix,\n",
    "    eac_complete_coassoc_matrix,\n",
    "    eac_average_coassoc_matrix,\n",
    ")\n",
    "from clustering.ensembles.spectral import scc"
   ]
  },
  {
   "cell_type": "markdown",
   "id": "c61cdb8d",
   "metadata": {
    "papermill": {
     "duration": 0.006199,
     "end_time": "2022-09-14T14:00:32.020340",
     "exception": false,
     "start_time": "2022-09-14T14:00:32.014141",
     "status": "completed"
    },
    "tags": []
   },
   "source": [
    "Define spectral consensus clustering methods with delta values found in pre-analysis:"
   ]
  },
  {
   "cell_type": "code",
   "execution_count": 18,
   "id": "52cb4bb6",
   "metadata": {
    "execution": {
     "iopub.execute_input": "2022-09-14T14:00:32.033385Z",
     "iopub.status.busy": "2022-09-14T14:00:32.033188Z",
     "iopub.status.idle": "2022-09-14T14:00:32.054002Z",
     "shell.execute_reply": "2022-09-14T14:00:32.053293Z"
    },
    "papermill": {
     "duration": 0.029237,
     "end_time": "2022-09-14T14:00:32.055633",
     "exception": false,
     "start_time": "2022-09-14T14:00:32.026396",
     "status": "completed"
    },
    "tags": []
   },
   "outputs": [],
   "source": [
    "def scc_020(coassoc_distance_matrix, k, **kwargs):\n",
    "    return scc(\n",
    "        coassoc_distance_matrix,\n",
    "        k,\n",
    "        delta=0.20,\n",
    "        ensemble_is_coassoc_matrix=True,\n",
    "        **kwargs\n",
    "    )\n",
    "\n",
    "\n",
    "def scc_025(coassoc_distance_matrix, k, **kwargs):\n",
    "    return scc(\n",
    "        coassoc_distance_matrix,\n",
    "        k,\n",
    "        delta=0.25,\n",
    "        ensemble_is_coassoc_matrix=True,\n",
    "        **kwargs\n",
    "    )\n",
    "\n",
    "\n",
    "def scc_030(coassoc_distance_matrix, k, **kwargs):\n",
    "    return scc(\n",
    "        coassoc_distance_matrix,\n",
    "        k,\n",
    "        delta=0.30,\n",
    "        ensemble_is_coassoc_matrix=True,\n",
    "        **kwargs\n",
    "    )\n",
    "\n",
    "\n",
    "def scc_050(coassoc_distance_matrix, k, **kwargs):\n",
    "    return scc(\n",
    "        coassoc_distance_matrix,\n",
    "        k,\n",
    "        delta=0.50,\n",
    "        ensemble_is_coassoc_matrix=True,\n",
    "        **kwargs\n",
    "    )"
   ]
  },
  {
   "cell_type": "code",
   "execution_count": 19,
   "id": "709aed1b",
   "metadata": {
    "execution": {
     "iopub.execute_input": "2022-09-14T14:00:32.068706Z",
     "iopub.status.busy": "2022-09-14T14:00:32.068513Z",
     "iopub.status.idle": "2022-09-14T14:00:32.088813Z",
     "shell.execute_reply": "2022-09-14T14:00:32.088284Z"
    },
    "papermill": {
     "duration": 0.028418,
     "end_time": "2022-09-14T14:00:32.090191",
     "exception": false,
     "start_time": "2022-09-14T14:00:32.061773",
     "status": "completed"
    },
    "tags": []
   },
   "outputs": [
    {
     "data": {
      "text/plain": [
       "{<function clustering.ensembles.eac.eac_average_coassoc_matrix(coassoc_matrix, k, **kwargs)>,\n",
       " <function clustering.ensembles.eac.eac_complete_coassoc_matrix(coassoc_matrix, k, **kwargs)>,\n",
       " <function clustering.ensembles.eac.eac_single_coassoc_matrix(coassoc_matrix, k, **kwargs)>,\n",
       " <function __main__.scc_020(coassoc_distance_matrix, k, **kwargs)>,\n",
       " <function __main__.scc_025(coassoc_distance_matrix, k, **kwargs)>,\n",
       " <function __main__.scc_030(coassoc_distance_matrix, k, **kwargs)>,\n",
       " <function __main__.scc_050(coassoc_distance_matrix, k, **kwargs)>}"
      ]
     },
     "metadata": {},
     "output_type": "display_data"
    }
   ],
   "source": [
    "all_consensus_methods = set(\n",
    "    (\n",
    "        eac_single_coassoc_matrix,\n",
    "        eac_complete_coassoc_matrix,\n",
    "        eac_average_coassoc_matrix,\n",
    "        scc_020,\n",
    "        scc_025,\n",
    "        scc_030,\n",
    "        scc_050,\n",
    "    )\n",
    ")\n",
    "display(all_consensus_methods)"
   ]
  },
  {
   "cell_type": "code",
   "execution_count": 20,
   "id": "cfd2a85a",
   "metadata": {
    "execution": {
     "iopub.execute_input": "2022-09-14T14:00:32.102500Z",
     "iopub.status.busy": "2022-09-14T14:00:32.102329Z",
     "iopub.status.idle": "2022-09-14T15:36:45.248738Z",
     "shell.execute_reply": "2022-09-14T15:36:45.248158Z"
    },
    "papermill": {
     "duration": 5773.153848,
     "end_time": "2022-09-14T15:36:45.250093",
     "exception": false,
     "start_time": "2022-09-14T14:00:32.096245",
     "status": "completed"
    },
    "tags": []
   },
   "outputs": [
    {
     "name": "stderr",
     "output_type": "stream",
     "text": [
      "100%|███████████████████████████████████████████████████████████| 413/413 [1:36:12<00:00, 13.98s/it]\n"
     ]
    }
   ],
   "source": [
    "consensus_results = []\n",
    "\n",
    "with ProcessPoolExecutor(max_workers=conf.GENERAL[\"N_JOBS\"]) as executor:\n",
    "    tasks = {\n",
    "        executor.submit(\n",
    "            run_method_and_compute_agreement,\n",
    "            m,\n",
    "            ensemble_coassoc_matrix,\n",
    "            full_ensemble,\n",
    "            k,\n",
    "            n_init=SC_N_INIT,\n",
    "            random_state=next(RANDOM_STATES_ITER),\n",
    "        ): (m.__name__, k)\n",
    "        for m in all_consensus_methods\n",
    "        for k in range(CLUSTERING_OPTIONS[\"K_MIN\"], CLUSTERING_OPTIONS[\"K_MAX\"] + 1)\n",
    "    }\n",
    "\n",
    "    for future in tqdm(as_completed(tasks), total=len(tasks), disable=False, ncols=100):\n",
    "        method_name, k = tasks[future]\n",
    "        part, performance_values = future.result()\n",
    "\n",
    "        method_results = {\n",
    "            \"method\": method_name,\n",
    "            \"partition\": part,\n",
    "            \"k\": k,\n",
    "        }\n",
    "        method_results.update(performance_values)\n",
    "\n",
    "        consensus_results.append(method_results)"
   ]
  },
  {
   "cell_type": "code",
   "execution_count": 21,
   "id": "d35578c2",
   "metadata": {
    "execution": {
     "iopub.execute_input": "2022-09-14T15:36:45.289107Z",
     "iopub.status.busy": "2022-09-14T15:36:45.288872Z",
     "iopub.status.idle": "2022-09-14T15:36:45.312663Z",
     "shell.execute_reply": "2022-09-14T15:36:45.312237Z"
    },
    "papermill": {
     "duration": 0.044377,
     "end_time": "2022-09-14T15:36:45.314024",
     "exception": false,
     "start_time": "2022-09-14T15:36:45.269647",
     "status": "completed"
    },
    "tags": []
   },
   "outputs": [],
   "source": [
    "consensus_results = pd.DataFrame(consensus_results)"
   ]
  },
  {
   "cell_type": "code",
   "execution_count": 22,
   "id": "c6382de6",
   "metadata": {
    "execution": {
     "iopub.execute_input": "2022-09-14T15:36:45.357200Z",
     "iopub.status.busy": "2022-09-14T15:36:45.356412Z",
     "iopub.status.idle": "2022-09-14T15:36:45.374739Z",
     "shell.execute_reply": "2022-09-14T15:36:45.374294Z"
    },
    "papermill": {
     "duration": 0.043139,
     "end_time": "2022-09-14T15:36:45.375993",
     "exception": false,
     "start_time": "2022-09-14T15:36:45.332854",
     "status": "completed"
    },
    "tags": []
   },
   "outputs": [
    {
     "data": {
      "text/plain": [
       "(413, 12)"
      ]
     },
     "metadata": {},
     "output_type": "display_data"
    }
   ],
   "source": [
    "display(consensus_results.shape)"
   ]
  },
  {
   "cell_type": "code",
   "execution_count": 23,
   "id": "5cf6a697",
   "metadata": {
    "execution": {
     "iopub.execute_input": "2022-09-14T15:36:45.413873Z",
     "iopub.status.busy": "2022-09-14T15:36:45.413664Z",
     "iopub.status.idle": "2022-09-14T15:36:45.445270Z",
     "shell.execute_reply": "2022-09-14T15:36:45.444894Z"
    },
    "papermill": {
     "duration": 0.051784,
     "end_time": "2022-09-14T15:36:45.446506",
     "exception": false,
     "start_time": "2022-09-14T15:36:45.394722",
     "status": "completed"
    },
    "tags": []
   },
   "outputs": [
    {
     "data": {
      "text/html": [
       "<div>\n",
       "<style scoped>\n",
       "    .dataframe tbody tr th:only-of-type {\n",
       "        vertical-align: middle;\n",
       "    }\n",
       "\n",
       "    .dataframe tbody tr th {\n",
       "        vertical-align: top;\n",
       "    }\n",
       "\n",
       "    .dataframe thead th {\n",
       "        text-align: right;\n",
       "    }\n",
       "</style>\n",
       "<table border=\"1\" class=\"dataframe\">\n",
       "  <thead>\n",
       "    <tr style=\"text-align: right;\">\n",
       "      <th></th>\n",
       "      <th>method</th>\n",
       "      <th>partition</th>\n",
       "      <th>k</th>\n",
       "      <th>ari_mean</th>\n",
       "      <th>ari_median</th>\n",
       "      <th>ari_std</th>\n",
       "      <th>ami_mean</th>\n",
       "      <th>ami_median</th>\n",
       "      <th>ami_std</th>\n",
       "      <th>nmi_mean</th>\n",
       "      <th>nmi_median</th>\n",
       "      <th>nmi_std</th>\n",
       "    </tr>\n",
       "  </thead>\n",
       "  <tbody>\n",
       "    <tr>\n",
       "      <th>0</th>\n",
       "      <td>scc_030</td>\n",
       "      <td>[0, 0, 0, 0, 0, 0, 0, 0, 0, 0, 0, 0, 0, 0, 0, ...</td>\n",
       "      <td>2</td>\n",
       "      <td>0.032836</td>\n",
       "      <td>0.000759</td>\n",
       "      <td>0.079661</td>\n",
       "      <td>0.103021</td>\n",
       "      <td>0.000885</td>\n",
       "      <td>0.158743</td>\n",
       "      <td>0.107238</td>\n",
       "      <td>0.011330</td>\n",
       "      <td>0.156970</td>\n",
       "    </tr>\n",
       "    <tr>\n",
       "      <th>1</th>\n",
       "      <td>scc_030</td>\n",
       "      <td>[2, 2, 2, 2, 2, 2, 2, 2, 2, 2, 2, 2, 2, 2, 2, ...</td>\n",
       "      <td>3</td>\n",
       "      <td>0.046161</td>\n",
       "      <td>0.000639</td>\n",
       "      <td>0.096002</td>\n",
       "      <td>0.138659</td>\n",
       "      <td>0.001607</td>\n",
       "      <td>0.210192</td>\n",
       "      <td>0.144101</td>\n",
       "      <td>0.014974</td>\n",
       "      <td>0.208010</td>\n",
       "    </tr>\n",
       "    <tr>\n",
       "      <th>2</th>\n",
       "      <td>scc_030</td>\n",
       "      <td>[3, 3, 3, 3, 3, 3, 3, 3, 3, 3, 3, 3, 3, 3, 3, ...</td>\n",
       "      <td>4</td>\n",
       "      <td>0.074265</td>\n",
       "      <td>0.000290</td>\n",
       "      <td>0.144091</td>\n",
       "      <td>0.170631</td>\n",
       "      <td>0.001316</td>\n",
       "      <td>0.260114</td>\n",
       "      <td>0.176943</td>\n",
       "      <td>0.012918</td>\n",
       "      <td>0.257522</td>\n",
       "    </tr>\n",
       "    <tr>\n",
       "      <th>3</th>\n",
       "      <td>scc_030</td>\n",
       "      <td>[2, 2, 2, 2, 2, 2, 2, 2, 2, 2, 2, 2, 2, 2, 2, ...</td>\n",
       "      <td>5</td>\n",
       "      <td>0.088752</td>\n",
       "      <td>0.000292</td>\n",
       "      <td>0.164617</td>\n",
       "      <td>0.186808</td>\n",
       "      <td>0.001294</td>\n",
       "      <td>0.285126</td>\n",
       "      <td>0.193837</td>\n",
       "      <td>0.012199</td>\n",
       "      <td>0.282227</td>\n",
       "    </tr>\n",
       "    <tr>\n",
       "      <th>4</th>\n",
       "      <td>scc_030</td>\n",
       "      <td>[1, 1, 1, 1, 1, 1, 1, 1, 1, 1, 1, 1, 1, 1, 1, ...</td>\n",
       "      <td>6</td>\n",
       "      <td>0.094984</td>\n",
       "      <td>0.000917</td>\n",
       "      <td>0.172872</td>\n",
       "      <td>0.194309</td>\n",
       "      <td>0.002086</td>\n",
       "      <td>0.296132</td>\n",
       "      <td>0.202020</td>\n",
       "      <td>0.013793</td>\n",
       "      <td>0.293024</td>\n",
       "    </tr>\n",
       "  </tbody>\n",
       "</table>\n",
       "</div>"
      ],
      "text/plain": [
       "    method                                          partition  k  ari_mean  \\\n",
       "0  scc_030  [0, 0, 0, 0, 0, 0, 0, 0, 0, 0, 0, 0, 0, 0, 0, ...  2  0.032836   \n",
       "1  scc_030  [2, 2, 2, 2, 2, 2, 2, 2, 2, 2, 2, 2, 2, 2, 2, ...  3  0.046161   \n",
       "2  scc_030  [3, 3, 3, 3, 3, 3, 3, 3, 3, 3, 3, 3, 3, 3, 3, ...  4  0.074265   \n",
       "3  scc_030  [2, 2, 2, 2, 2, 2, 2, 2, 2, 2, 2, 2, 2, 2, 2, ...  5  0.088752   \n",
       "4  scc_030  [1, 1, 1, 1, 1, 1, 1, 1, 1, 1, 1, 1, 1, 1, 1, ...  6  0.094984   \n",
       "\n",
       "   ari_median   ari_std  ami_mean  ami_median   ami_std  nmi_mean  nmi_median  \\\n",
       "0    0.000759  0.079661  0.103021    0.000885  0.158743  0.107238    0.011330   \n",
       "1    0.000639  0.096002  0.138659    0.001607  0.210192  0.144101    0.014974   \n",
       "2    0.000290  0.144091  0.170631    0.001316  0.260114  0.176943    0.012918   \n",
       "3    0.000292  0.164617  0.186808    0.001294  0.285126  0.193837    0.012199   \n",
       "4    0.000917  0.172872  0.194309    0.002086  0.296132  0.202020    0.013793   \n",
       "\n",
       "    nmi_std  \n",
       "0  0.156970  \n",
       "1  0.208010  \n",
       "2  0.257522  \n",
       "3  0.282227  \n",
       "4  0.293024  "
      ]
     },
     "execution_count": 23,
     "metadata": {},
     "output_type": "execute_result"
    }
   ],
   "source": [
    "consensus_results.head()"
   ]
  },
  {
   "cell_type": "markdown",
   "id": "317ad2de",
   "metadata": {
    "papermill": {
     "duration": 0.017526,
     "end_time": "2022-09-14T15:36:45.482178",
     "exception": false,
     "start_time": "2022-09-14T15:36:45.464652",
     "status": "completed"
    },
    "tags": []
   },
   "source": [
    "## Testing"
   ]
  },
  {
   "cell_type": "code",
   "execution_count": 24,
   "id": "bf6b3816",
   "metadata": {
    "execution": {
     "iopub.execute_input": "2022-09-14T15:36:45.519310Z",
     "iopub.status.busy": "2022-09-14T15:36:45.518508Z",
     "iopub.status.idle": "2022-09-14T15:36:45.536866Z",
     "shell.execute_reply": "2022-09-14T15:36:45.534980Z"
    },
    "papermill": {
     "duration": 0.041815,
     "end_time": "2022-09-14T15:36:45.541800",
     "exception": false,
     "start_time": "2022-09-14T15:36:45.499985",
     "status": "completed"
    },
    "tags": []
   },
   "outputs": [],
   "source": [
    "assert not consensus_results.isna().any().any()"
   ]
  },
  {
   "cell_type": "code",
   "execution_count": 25,
   "id": "9a0afa52",
   "metadata": {
    "execution": {
     "iopub.execute_input": "2022-09-14T15:36:45.611072Z",
     "iopub.status.busy": "2022-09-14T15:36:45.610846Z",
     "iopub.status.idle": "2022-09-14T15:36:45.652029Z",
     "shell.execute_reply": "2022-09-14T15:36:45.651345Z"
    },
    "papermill": {
     "duration": 0.062021,
     "end_time": "2022-09-14T15:36:45.653454",
     "exception": false,
     "start_time": "2022-09-14T15:36:45.591433",
     "status": "completed"
    },
    "tags": []
   },
   "outputs": [
    {
     "data": {
      "text/plain": [
       "0       2\n",
       "1       3\n",
       "2       4\n",
       "3       5\n",
       "4       6\n",
       "       ..\n",
       "408    56\n",
       "409    57\n",
       "410    58\n",
       "411    59\n",
       "412    60\n",
       "Name: partition, Length: 413, dtype: int64"
      ]
     },
     "metadata": {},
     "output_type": "display_data"
    }
   ],
   "source": [
    "# check that the number of clusters in the partitions are the expected ones\n",
    "_real_k_values = consensus_results[\"partition\"].apply(lambda x: np.unique(x).shape[0])\n",
    "display(_real_k_values)\n",
    "assert np.all(consensus_results[\"k\"].values == _real_k_values.values)"
   ]
  },
  {
   "cell_type": "markdown",
   "id": "e5e7e55a",
   "metadata": {
    "papermill": {
     "duration": 0.017689,
     "end_time": "2022-09-14T15:36:45.689317",
     "exception": false,
     "start_time": "2022-09-14T15:36:45.671628",
     "status": "completed"
    },
    "tags": []
   },
   "source": [
    "## Save"
   ]
  },
  {
   "cell_type": "code",
   "execution_count": 26,
   "id": "44b7ab49",
   "metadata": {
    "execution": {
     "iopub.execute_input": "2022-09-14T15:36:45.725703Z",
     "iopub.status.busy": "2022-09-14T15:36:45.725479Z",
     "iopub.status.idle": "2022-09-14T15:36:45.742764Z",
     "shell.execute_reply": "2022-09-14T15:36:45.742176Z"
    },
    "papermill": {
     "duration": 0.037179,
     "end_time": "2022-09-14T15:36:45.744192",
     "exception": false,
     "start_time": "2022-09-14T15:36:45.707013",
     "status": "completed"
    },
    "tags": []
   },
   "outputs": [
    {
     "data": {
      "text/plain": [
       "PosixPath('/opt/data/results/clustering/null_sims/consensus_clustering/consensus_clustering_runs.pkl')"
      ]
     },
     "metadata": {},
     "output_type": "display_data"
    }
   ],
   "source": [
    "output_file = Path(RESULTS_DIR, \"consensus_clustering_runs.pkl\").resolve()\n",
    "display(output_file)"
   ]
  },
  {
   "cell_type": "code",
   "execution_count": 27,
   "id": "69a17dbb",
   "metadata": {
    "execution": {
     "iopub.execute_input": "2022-09-14T15:36:45.781820Z",
     "iopub.status.busy": "2022-09-14T15:36:45.781609Z",
     "iopub.status.idle": "2022-09-14T15:36:45.814159Z",
     "shell.execute_reply": "2022-09-14T15:36:45.813575Z"
    },
    "papermill": {
     "duration": 0.052765,
     "end_time": "2022-09-14T15:36:45.815596",
     "exception": false,
     "start_time": "2022-09-14T15:36:45.762831",
     "status": "completed"
    },
    "tags": []
   },
   "outputs": [],
   "source": [
    "consensus_results.to_pickle(output_file)"
   ]
  },
  {
   "cell_type": "code",
   "execution_count": null,
   "id": "0006ed8c",
   "metadata": {
    "papermill": {
     "duration": 0.018168,
     "end_time": "2022-09-14T15:36:45.852779",
     "exception": false,
     "start_time": "2022-09-14T15:36:45.834611",
     "status": "completed"
    },
    "tags": []
   },
   "outputs": [],
   "source": []
  }
 ],
 "metadata": {
  "jupytext": {
   "cell_metadata_filter": "all,-execution,-papermill,-trusted",
   "formats": "ipynb,py//py:percent"
  },
  "kernelspec": {
   "display_name": "Python 3 (ipykernel)",
   "language": "python",
   "name": "python3"
  },
  "language_info": {
   "codemirror_mode": {
    "name": "ipython",
    "version": 3
   },
   "file_extension": ".py",
   "mimetype": "text/x-python",
   "name": "python",
   "nbconvert_exporter": "python",
   "pygments_lexer": "ipython3",
   "version": "3.8.13"
  },
  "papermill": {
   "default_parameters": {},
   "duration": 5776.576154,
   "end_time": "2022-09-14T15:36:46.211171",
   "environment_variables": {},
   "exception": null,
   "input_path": "nbs/13.1_cluster_analysis_null/20_01-combine_ensemble.ipynb",
   "output_path": "nbs/13.1_cluster_analysis_null/20_01-combine_ensemble.run.ipynb",
   "parameters": {},
   "start_time": "2022-09-14T14:00:29.635017",
   "version": "2.2.2"
  },
  "toc-autonumbering": true,
  "toc-showcode": false,
  "toc-showmarkdowntxt": false,
  "toc-showtags": false
 },
 "nbformat": 4,
 "nbformat_minor": 5
}
