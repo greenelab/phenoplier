{
 "cells": [
  {
   "cell_type": "markdown",
   "id": "a47b9956",
   "metadata": {
    "papermill": {
     "duration": 0.034283,
     "end_time": "2022-09-13T16:41:27.869591",
     "exception": false,
     "start_time": "2022-09-13T16:41:27.835308",
     "status": "completed"
    },
    "tags": []
   },
   "source": [
    "# Description"
   ]
  },
  {
   "cell_type": "markdown",
   "id": "a8f0575a",
   "metadata": {
    "papermill": {
     "duration": 0.009067,
     "end_time": "2022-09-13T16:41:27.892408",
     "exception": false,
     "start_time": "2022-09-13T16:41:27.883341",
     "status": "completed"
    },
    "tags": []
   },
   "source": [
    "Runs spectral clustering on the umap version of the data."
   ]
  },
  {
   "cell_type": "markdown",
   "id": "06369fb4",
   "metadata": {
    "papermill": {
     "duration": 0.007687,
     "end_time": "2022-09-13T16:41:27.907778",
     "exception": false,
     "start_time": "2022-09-13T16:41:27.900091",
     "status": "completed"
    },
    "tags": []
   },
   "source": [
    "# Environment variables"
   ]
  },
  {
   "cell_type": "code",
   "execution_count": 1,
   "id": "19d02540",
   "metadata": {
    "execution": {
     "iopub.execute_input": "2022-09-13T16:41:27.924288Z",
     "iopub.status.busy": "2022-09-13T16:41:27.924024Z",
     "iopub.status.idle": "2022-09-13T16:41:27.939103Z",
     "shell.execute_reply": "2022-09-13T16:41:27.938399Z"
    },
    "papermill": {
     "duration": 0.025249,
     "end_time": "2022-09-13T16:41:27.940515",
     "exception": false,
     "start_time": "2022-09-13T16:41:27.915266",
     "status": "completed"
    },
    "tags": []
   },
   "outputs": [
    {
     "data": {
      "text/plain": [
       "3"
      ]
     },
     "metadata": {},
     "output_type": "display_data"
    }
   ],
   "source": [
    "from IPython.display import display\n",
    "\n",
    "import conf\n",
    "\n",
    "N_JOBS = conf.GENERAL[\"N_JOBS\"]\n",
    "display(N_JOBS)"
   ]
  },
  {
   "cell_type": "code",
   "execution_count": 2,
   "id": "182ab093",
   "metadata": {
    "execution": {
     "iopub.execute_input": "2022-09-13T16:41:27.958233Z",
     "iopub.status.busy": "2022-09-13T16:41:27.958072Z",
     "iopub.status.idle": "2022-09-13T16:41:27.962878Z",
     "shell.execute_reply": "2022-09-13T16:41:27.962415Z"
    },
    "papermill": {
     "duration": 0.014874,
     "end_time": "2022-09-13T16:41:27.964079",
     "exception": false,
     "start_time": "2022-09-13T16:41:27.949205",
     "status": "completed"
    },
    "tags": []
   },
   "outputs": [
    {
     "name": "stdout",
     "output_type": "stream",
     "text": [
      "env: MKL_NUM_THREADS=3\n",
      "env: OPEN_BLAS_NUM_THREADS=3\n",
      "env: NUMEXPR_NUM_THREADS=3\n",
      "env: OMP_NUM_THREADS=3\n"
     ]
    }
   ],
   "source": [
    "%env MKL_NUM_THREADS=$N_JOBS\n",
    "%env OPEN_BLAS_NUM_THREADS=$N_JOBS\n",
    "%env NUMEXPR_NUM_THREADS=$N_JOBS\n",
    "%env OMP_NUM_THREADS=$N_JOBS"
   ]
  },
  {
   "cell_type": "markdown",
   "id": "6b1a2f0b",
   "metadata": {
    "papermill": {
     "duration": 0.007594,
     "end_time": "2022-09-13T16:41:27.980188",
     "exception": false,
     "start_time": "2022-09-13T16:41:27.972594",
     "status": "completed"
    },
    "tags": []
   },
   "source": [
    "# Modules loading"
   ]
  },
  {
   "cell_type": "code",
   "execution_count": 3,
   "id": "db1bd26a",
   "metadata": {
    "execution": {
     "iopub.execute_input": "2022-09-13T16:41:27.997309Z",
     "iopub.status.busy": "2022-09-13T16:41:27.997105Z",
     "iopub.status.idle": "2022-09-13T16:41:28.009996Z",
     "shell.execute_reply": "2022-09-13T16:41:28.009513Z"
    },
    "papermill": {
     "duration": 0.023499,
     "end_time": "2022-09-13T16:41:28.011454",
     "exception": false,
     "start_time": "2022-09-13T16:41:27.987955",
     "status": "completed"
    },
    "tags": []
   },
   "outputs": [],
   "source": [
    "%load_ext autoreload\n",
    "%autoreload 2"
   ]
  },
  {
   "cell_type": "code",
   "execution_count": 4,
   "id": "ebffcc6b",
   "metadata": {
    "execution": {
     "iopub.execute_input": "2022-09-13T16:41:28.028345Z",
     "iopub.status.busy": "2022-09-13T16:41:28.028160Z",
     "iopub.status.idle": "2022-09-13T16:41:28.692741Z",
     "shell.execute_reply": "2022-09-13T16:41:28.692119Z"
    },
    "papermill": {
     "duration": 0.674665,
     "end_time": "2022-09-13T16:41:28.694117",
     "exception": false,
     "start_time": "2022-09-13T16:41:28.019452",
     "status": "completed"
    },
    "tags": []
   },
   "outputs": [],
   "source": [
    "from pathlib import Path\n",
    "\n",
    "import numpy as np\n",
    "import pandas as pd\n",
    "import matplotlib.pyplot as plt\n",
    "import seaborn as sns\n",
    "\n",
    "from utils import generate_result_set_name"
   ]
  },
  {
   "cell_type": "markdown",
   "id": "dc188188",
   "metadata": {
    "papermill": {
     "duration": 0.007926,
     "end_time": "2022-09-13T16:41:28.710227",
     "exception": false,
     "start_time": "2022-09-13T16:41:28.702301",
     "status": "completed"
    },
    "tags": []
   },
   "source": [
    "# Settings"
   ]
  },
  {
   "cell_type": "code",
   "execution_count": 5,
   "id": "3536c43e",
   "metadata": {
    "execution": {
     "iopub.execute_input": "2022-09-13T16:41:28.726779Z",
     "iopub.status.busy": "2022-09-13T16:41:28.726569Z",
     "iopub.status.idle": "2022-09-13T16:41:28.742969Z",
     "shell.execute_reply": "2022-09-13T16:41:28.742434Z"
    },
    "papermill": {
     "duration": 0.026441,
     "end_time": "2022-09-13T16:41:28.744336",
     "exception": false,
     "start_time": "2022-09-13T16:41:28.717895",
     "status": "completed"
    },
    "tags": []
   },
   "outputs": [],
   "source": [
    "np.random.seed(0)"
   ]
  },
  {
   "cell_type": "code",
   "execution_count": 6,
   "id": "4c2a2bc1",
   "metadata": {
    "execution": {
     "iopub.execute_input": "2022-09-13T16:41:28.790899Z",
     "iopub.status.busy": "2022-09-13T16:41:28.790692Z",
     "iopub.status.idle": "2022-09-13T16:41:28.809681Z",
     "shell.execute_reply": "2022-09-13T16:41:28.809033Z"
    },
    "papermill": {
     "duration": 0.05828,
     "end_time": "2022-09-13T16:41:28.811234",
     "exception": false,
     "start_time": "2022-09-13T16:41:28.752954",
     "status": "completed"
    },
    "tags": []
   },
   "outputs": [],
   "source": [
    "INITIAL_RANDOM_STATE = 50000"
   ]
  },
  {
   "cell_type": "code",
   "execution_count": null,
   "id": "934bc949-b729-4ed3-b158-e5950ee149c1",
   "metadata": {},
   "outputs": [],
   "source": [
    "NULL_DIR = conf.RESULTS[\"CLUSTERING_NULL_DIR\"], \"shuffle_genes\""
   ]
  },
  {
   "cell_type": "markdown",
   "id": "08db3b29",
   "metadata": {
    "papermill": {
     "duration": 0.00983,
     "end_time": "2022-09-13T16:41:28.831084",
     "exception": false,
     "start_time": "2022-09-13T16:41:28.821254",
     "status": "completed"
    },
    "tags": []
   },
   "source": [
    "## Input data"
   ]
  },
  {
   "cell_type": "code",
   "execution_count": 7,
   "id": "d45f9ea2",
   "metadata": {
    "execution": {
     "iopub.execute_input": "2022-09-13T16:41:28.850847Z",
     "iopub.status.busy": "2022-09-13T16:41:28.850680Z",
     "iopub.status.idle": "2022-09-13T16:41:28.867633Z",
     "shell.execute_reply": "2022-09-13T16:41:28.867002Z"
    },
    "papermill": {
     "duration": 0.028081,
     "end_time": "2022-09-13T16:41:28.869064",
     "exception": false,
     "start_time": "2022-09-13T16:41:28.840983",
     "status": "completed"
    },
    "tags": []
   },
   "outputs": [],
   "source": [
    "INPUT_SUBSET = \"umap\""
   ]
  },
  {
   "cell_type": "code",
   "execution_count": 8,
   "id": "26f5101f",
   "metadata": {
    "execution": {
     "iopub.execute_input": "2022-09-13T16:41:28.912316Z",
     "iopub.status.busy": "2022-09-13T16:41:28.912006Z",
     "iopub.status.idle": "2022-09-13T16:41:28.936793Z",
     "shell.execute_reply": "2022-09-13T16:41:28.936035Z"
    },
    "papermill": {
     "duration": 0.057525,
     "end_time": "2022-09-13T16:41:28.938847",
     "exception": false,
     "start_time": "2022-09-13T16:41:28.881322",
     "status": "completed"
    },
    "tags": []
   },
   "outputs": [],
   "source": [
    "INPUT_STEM = \"z_score_std-projection-smultixcan-efo_partial-mashr-zscores\""
   ]
  },
  {
   "cell_type": "code",
   "execution_count": 9,
   "id": "87b8be80",
   "metadata": {
    "execution": {
     "iopub.execute_input": "2022-09-13T16:41:28.967008Z",
     "iopub.status.busy": "2022-09-13T16:41:28.966755Z",
     "iopub.status.idle": "2022-09-13T16:41:28.991500Z",
     "shell.execute_reply": "2022-09-13T16:41:28.990809Z"
    },
    "papermill": {
     "duration": 0.041153,
     "end_time": "2022-09-13T16:41:28.993589",
     "exception": false,
     "start_time": "2022-09-13T16:41:28.952436",
     "status": "completed"
    },
    "tags": []
   },
   "outputs": [],
   "source": [
    "DR_OPTIONS = {\n",
    "    \"n_components\": 50,\n",
    "    \"metric\": \"euclidean\",\n",
    "    \"n_neighbors\": 15,\n",
    "    \"random_state\": 0,\n",
    "}"
   ]
  },
  {
   "cell_type": "code",
   "execution_count": 10,
   "id": "27e5ec3a",
   "metadata": {
    "execution": {
     "iopub.execute_input": "2022-09-13T16:41:29.022769Z",
     "iopub.status.busy": "2022-09-13T16:41:29.021906Z",
     "iopub.status.idle": "2022-09-13T16:41:29.052473Z",
     "shell.execute_reply": "2022-09-13T16:41:29.051750Z"
    },
    "papermill": {
     "duration": 0.046456,
     "end_time": "2022-09-13T16:41:29.054186",
     "exception": false,
     "start_time": "2022-09-13T16:41:29.007730",
     "status": "completed"
    },
    "tags": []
   },
   "outputs": [
    {
     "data": {
      "text/plain": [
       "PosixPath('/opt/data/results/clustering/null_sims/data_transformations/umap/umap-z_score_std-projection-smultixcan-efo_partial-mashr-zscores-metric_euclidean-n_components_50-n_neighbors_15-random_state_0.pkl')"
      ]
     },
     "metadata": {},
     "output_type": "display_data"
    },
    {
     "data": {
      "text/plain": [
       "'umap-z_score_std-projection-smultixcan-efo_partial-mashr-zscores-metric_euclidean-n_components_50-n_neighbors_15-random_state_0'"
      ]
     },
     "metadata": {},
     "output_type": "display_data"
    }
   ],
   "source": [
    "input_filepath = Path(\n",
    "    NULL_DIR,\n",
    "    \"data_transformations\",\n",
    "    INPUT_SUBSET,\n",
    "    generate_result_set_name(\n",
    "        DR_OPTIONS, prefix=f\"{INPUT_SUBSET}-{INPUT_STEM}-\", suffix=\".pkl\"\n",
    "    ),\n",
    ").resolve()\n",
    "display(input_filepath)\n",
    "\n",
    "assert input_filepath.exists(), \"Input file does not exist\"\n",
    "\n",
    "input_filepath_stem = input_filepath.stem\n",
    "display(input_filepath_stem)"
   ]
  },
  {
   "cell_type": "markdown",
   "id": "53d85f4a",
   "metadata": {
    "papermill": {
     "duration": 0.009334,
     "end_time": "2022-09-13T16:41:29.073506",
     "exception": false,
     "start_time": "2022-09-13T16:41:29.064172",
     "status": "completed"
    },
    "tags": []
   },
   "source": [
    "## Clustering"
   ]
  },
  {
   "cell_type": "code",
   "execution_count": 11,
   "id": "0c33b061",
   "metadata": {
    "execution": {
     "iopub.execute_input": "2022-09-13T16:41:29.091820Z",
     "iopub.status.busy": "2022-09-13T16:41:29.091655Z",
     "iopub.status.idle": "2022-09-13T16:41:29.183424Z",
     "shell.execute_reply": "2022-09-13T16:41:29.182919Z"
    },
    "papermill": {
     "duration": 0.102072,
     "end_time": "2022-09-13T16:41:29.184807",
     "exception": false,
     "start_time": "2022-09-13T16:41:29.082735",
     "status": "completed"
    },
    "tags": []
   },
   "outputs": [],
   "source": [
    "from sklearn.cluster import SpectralClustering"
   ]
  },
  {
   "cell_type": "code",
   "execution_count": 12,
   "id": "65c45515",
   "metadata": {
    "execution": {
     "iopub.execute_input": "2022-09-13T16:41:29.202046Z",
     "iopub.status.busy": "2022-09-13T16:41:29.201852Z",
     "iopub.status.idle": "2022-09-13T16:41:29.219712Z",
     "shell.execute_reply": "2022-09-13T16:41:29.219046Z"
    },
    "papermill": {
     "duration": 0.027868,
     "end_time": "2022-09-13T16:41:29.221136",
     "exception": false,
     "start_time": "2022-09-13T16:41:29.193268",
     "status": "completed"
    },
    "tags": []
   },
   "outputs": [],
   "source": [
    "CLUSTERING_ATTRIBUTES_TO_SAVE = [\"n_clusters\"]"
   ]
  },
  {
   "cell_type": "code",
   "execution_count": 13,
   "id": "8d55b4be",
   "metadata": {
    "execution": {
     "iopub.execute_input": "2022-09-13T16:41:29.239107Z",
     "iopub.status.busy": "2022-09-13T16:41:29.238930Z",
     "iopub.status.idle": "2022-09-13T16:41:29.258253Z",
     "shell.execute_reply": "2022-09-13T16:41:29.257776Z"
    },
    "papermill": {
     "duration": 0.029698,
     "end_time": "2022-09-13T16:41:29.259524",
     "exception": false,
     "start_time": "2022-09-13T16:41:29.229826",
     "status": "completed"
    },
    "tags": []
   },
   "outputs": [
    {
     "data": {
      "text/plain": [
       "{'K_MIN': 2,\n",
       " 'K_MAX': 60,\n",
       " 'N_REPS_PER_K': 5,\n",
       " 'KMEANS_N_INIT': 10,\n",
       " 'GAMMA': 0.01,\n",
       " 'AFFINITY': 'rbf'}"
      ]
     },
     "metadata": {},
     "output_type": "display_data"
    }
   ],
   "source": [
    "CLUSTERING_OPTIONS = {}\n",
    "\n",
    "CLUSTERING_OPTIONS[\"K_MIN\"] = 2\n",
    "CLUSTERING_OPTIONS[\"K_MAX\"] = 60  # sqrt(3749)\n",
    "CLUSTERING_OPTIONS[\"N_REPS_PER_K\"] = 5\n",
    "CLUSTERING_OPTIONS[\"KMEANS_N_INIT\"] = 10\n",
    "CLUSTERING_OPTIONS[\"GAMMA\"] = 1.0e-02\n",
    "CLUSTERING_OPTIONS[\"AFFINITY\"] = \"rbf\"\n",
    "\n",
    "display(CLUSTERING_OPTIONS)"
   ]
  },
  {
   "cell_type": "code",
   "execution_count": 14,
   "id": "856adaad",
   "metadata": {
    "execution": {
     "iopub.execute_input": "2022-09-13T16:41:29.277202Z",
     "iopub.status.busy": "2022-09-13T16:41:29.277039Z",
     "iopub.status.idle": "2022-09-13T16:41:29.297212Z",
     "shell.execute_reply": "2022-09-13T16:41:29.296656Z"
    },
    "papermill": {
     "duration": 0.030552,
     "end_time": "2022-09-13T16:41:29.298629",
     "exception": false,
     "start_time": "2022-09-13T16:41:29.268077",
     "status": "completed"
    },
    "tags": []
   },
   "outputs": [],
   "source": [
    "CLUSTERERS = {}\n",
    "\n",
    "idx = 0\n",
    "random_state = INITIAL_RANDOM_STATE\n",
    "\n",
    "for k in range(CLUSTERING_OPTIONS[\"K_MIN\"], CLUSTERING_OPTIONS[\"K_MAX\"] + 1):\n",
    "    for i in range(CLUSTERING_OPTIONS[\"N_REPS_PER_K\"]):\n",
    "        clus = SpectralClustering(\n",
    "            eigen_solver=\"arpack\",\n",
    "            n_clusters=k,\n",
    "            n_init=CLUSTERING_OPTIONS[\"KMEANS_N_INIT\"],\n",
    "            affinity=CLUSTERING_OPTIONS[\"AFFINITY\"],\n",
    "            gamma=CLUSTERING_OPTIONS[\"GAMMA\"],\n",
    "            random_state=random_state,\n",
    "        )\n",
    "\n",
    "        method_name = type(clus).__name__\n",
    "        CLUSTERERS[f\"{method_name} #{idx}\"] = clus\n",
    "\n",
    "        random_state = random_state + 1\n",
    "        idx = idx + 1"
   ]
  },
  {
   "cell_type": "code",
   "execution_count": 15,
   "id": "e48b89af",
   "metadata": {
    "execution": {
     "iopub.execute_input": "2022-09-13T16:41:29.316755Z",
     "iopub.status.busy": "2022-09-13T16:41:29.316586Z",
     "iopub.status.idle": "2022-09-13T16:41:29.335471Z",
     "shell.execute_reply": "2022-09-13T16:41:29.334986Z"
    },
    "papermill": {
     "duration": 0.029399,
     "end_time": "2022-09-13T16:41:29.336799",
     "exception": false,
     "start_time": "2022-09-13T16:41:29.307400",
     "status": "completed"
    },
    "tags": []
   },
   "outputs": [
    {
     "data": {
      "text/plain": [
       "295"
      ]
     },
     "metadata": {},
     "output_type": "display_data"
    }
   ],
   "source": [
    "display(len(CLUSTERERS))"
   ]
  },
  {
   "cell_type": "code",
   "execution_count": 16,
   "id": "de496eae",
   "metadata": {
    "execution": {
     "iopub.execute_input": "2022-09-13T16:41:29.354873Z",
     "iopub.status.busy": "2022-09-13T16:41:29.354675Z",
     "iopub.status.idle": "2022-09-13T16:41:29.375503Z",
     "shell.execute_reply": "2022-09-13T16:41:29.375028Z"
    },
    "papermill": {
     "duration": 0.031159,
     "end_time": "2022-09-13T16:41:29.376838",
     "exception": false,
     "start_time": "2022-09-13T16:41:29.345679",
     "status": "completed"
    },
    "tags": []
   },
   "outputs": [
    {
     "data": {
      "text/plain": [
       "('SpectralClustering #0',\n",
       " SpectralClustering(eigen_solver='arpack', gamma=0.01, n_clusters=2,\n",
       "                    random_state=50000))"
      ]
     },
     "metadata": {},
     "output_type": "display_data"
    },
    {
     "data": {
      "text/plain": [
       "('SpectralClustering #1',\n",
       " SpectralClustering(eigen_solver='arpack', gamma=0.01, n_clusters=2,\n",
       "                    random_state=50001))"
      ]
     },
     "metadata": {},
     "output_type": "display_data"
    }
   ],
   "source": [
    "_iter = iter(CLUSTERERS.items())\n",
    "display(next(_iter))\n",
    "display(next(_iter))"
   ]
  },
  {
   "cell_type": "code",
   "execution_count": 17,
   "id": "31673d0d",
   "metadata": {
    "execution": {
     "iopub.execute_input": "2022-09-13T16:41:29.395312Z",
     "iopub.status.busy": "2022-09-13T16:41:29.395141Z",
     "iopub.status.idle": "2022-09-13T16:41:29.413659Z",
     "shell.execute_reply": "2022-09-13T16:41:29.413095Z"
    },
    "papermill": {
     "duration": 0.029266,
     "end_time": "2022-09-13T16:41:29.414997",
     "exception": false,
     "start_time": "2022-09-13T16:41:29.385731",
     "status": "completed"
    },
    "tags": []
   },
   "outputs": [
    {
     "data": {
      "text/plain": [
       "'SpectralClustering'"
      ]
     },
     "metadata": {},
     "output_type": "display_data"
    }
   ],
   "source": [
    "clustering_method_name = method_name\n",
    "display(clustering_method_name)"
   ]
  },
  {
   "cell_type": "markdown",
   "id": "6ad58de5",
   "metadata": {
    "papermill": {
     "duration": 0.008685,
     "end_time": "2022-09-13T16:41:29.432636",
     "exception": false,
     "start_time": "2022-09-13T16:41:29.423951",
     "status": "completed"
    },
    "tags": []
   },
   "source": [
    "## Output directory"
   ]
  },
  {
   "cell_type": "code",
   "execution_count": 18,
   "id": "fcaf3100",
   "metadata": {
    "execution": {
     "iopub.execute_input": "2022-09-13T16:41:29.450527Z",
     "iopub.status.busy": "2022-09-13T16:41:29.450318Z",
     "iopub.status.idle": "2022-09-13T16:41:29.469589Z",
     "shell.execute_reply": "2022-09-13T16:41:29.469131Z"
    },
    "papermill": {
     "duration": 0.029483,
     "end_time": "2022-09-13T16:41:29.470882",
     "exception": false,
     "start_time": "2022-09-13T16:41:29.441399",
     "status": "completed"
    },
    "tags": []
   },
   "outputs": [
    {
     "data": {
      "text/plain": [
       "PosixPath('/opt/data/results/clustering/null_sims/runs/umap-z_score_std-projection-smultixcan-efo_partial-mashr-zscores')"
      ]
     },
     "metadata": {},
     "output_type": "display_data"
    }
   ],
   "source": [
    "# output dir for this notebook\n",
    "RESULTS_DIR = Path(\n",
    "    NULL_DIR,\n",
    "    \"runs\",\n",
    "    f\"{INPUT_SUBSET}-{INPUT_STEM}\",\n",
    ").resolve()\n",
    "RESULTS_DIR.mkdir(parents=True, exist_ok=True)\n",
    "\n",
    "display(RESULTS_DIR)"
   ]
  },
  {
   "cell_type": "markdown",
   "id": "e91b7939",
   "metadata": {
    "papermill": {
     "duration": 0.008309,
     "end_time": "2022-09-13T16:41:29.488026",
     "exception": false,
     "start_time": "2022-09-13T16:41:29.479717",
     "status": "completed"
    },
    "tags": []
   },
   "source": [
    "# Load input file"
   ]
  },
  {
   "cell_type": "code",
   "execution_count": 19,
   "id": "70ed03b4",
   "metadata": {
    "execution": {
     "iopub.execute_input": "2022-09-13T16:41:29.505566Z",
     "iopub.status.busy": "2022-09-13T16:41:29.505332Z",
     "iopub.status.idle": "2022-09-13T16:41:29.524971Z",
     "shell.execute_reply": "2022-09-13T16:41:29.524382Z"
    },
    "papermill": {
     "duration": 0.029831,
     "end_time": "2022-09-13T16:41:29.526361",
     "exception": false,
     "start_time": "2022-09-13T16:41:29.496530",
     "status": "completed"
    },
    "tags": []
   },
   "outputs": [],
   "source": [
    "data = pd.read_pickle(input_filepath)"
   ]
  },
  {
   "cell_type": "code",
   "execution_count": 20,
   "id": "6eb4728e",
   "metadata": {
    "execution": {
     "iopub.execute_input": "2022-09-13T16:41:29.545273Z",
     "iopub.status.busy": "2022-09-13T16:41:29.545066Z",
     "iopub.status.idle": "2022-09-13T16:41:29.563788Z",
     "shell.execute_reply": "2022-09-13T16:41:29.563205Z"
    },
    "papermill": {
     "duration": 0.029687,
     "end_time": "2022-09-13T16:41:29.565129",
     "exception": false,
     "start_time": "2022-09-13T16:41:29.535442",
     "status": "completed"
    },
    "tags": []
   },
   "outputs": [
    {
     "data": {
      "text/plain": [
       "(3752, 50)"
      ]
     },
     "execution_count": 20,
     "metadata": {},
     "output_type": "execute_result"
    }
   ],
   "source": [
    "data.shape"
   ]
  },
  {
   "cell_type": "code",
   "execution_count": 21,
   "id": "cfb6497a",
   "metadata": {
    "execution": {
     "iopub.execute_input": "2022-09-13T16:41:29.584323Z",
     "iopub.status.busy": "2022-09-13T16:41:29.584121Z",
     "iopub.status.idle": "2022-09-13T16:41:29.615641Z",
     "shell.execute_reply": "2022-09-13T16:41:29.615206Z"
    },
    "papermill": {
     "duration": 0.04238,
     "end_time": "2022-09-13T16:41:29.616899",
     "exception": false,
     "start_time": "2022-09-13T16:41:29.574519",
     "status": "completed"
    },
    "tags": []
   },
   "outputs": [
    {
     "data": {
      "text/html": [
       "<div>\n",
       "<style scoped>\n",
       "    .dataframe tbody tr th:only-of-type {\n",
       "        vertical-align: middle;\n",
       "    }\n",
       "\n",
       "    .dataframe tbody tr th {\n",
       "        vertical-align: top;\n",
       "    }\n",
       "\n",
       "    .dataframe thead th {\n",
       "        text-align: right;\n",
       "    }\n",
       "</style>\n",
       "<table border=\"1\" class=\"dataframe\">\n",
       "  <thead>\n",
       "    <tr style=\"text-align: right;\">\n",
       "      <th></th>\n",
       "      <th>UMAP1</th>\n",
       "      <th>UMAP2</th>\n",
       "      <th>UMAP3</th>\n",
       "      <th>UMAP4</th>\n",
       "      <th>UMAP5</th>\n",
       "      <th>UMAP6</th>\n",
       "      <th>UMAP7</th>\n",
       "      <th>UMAP8</th>\n",
       "      <th>UMAP9</th>\n",
       "      <th>UMAP10</th>\n",
       "      <th>...</th>\n",
       "      <th>UMAP41</th>\n",
       "      <th>UMAP42</th>\n",
       "      <th>UMAP43</th>\n",
       "      <th>UMAP44</th>\n",
       "      <th>UMAP45</th>\n",
       "      <th>UMAP46</th>\n",
       "      <th>UMAP47</th>\n",
       "      <th>UMAP48</th>\n",
       "      <th>UMAP49</th>\n",
       "      <th>UMAP50</th>\n",
       "    </tr>\n",
       "  </thead>\n",
       "  <tbody>\n",
       "    <tr>\n",
       "      <th>100001_raw-Food_weight</th>\n",
       "      <td>6.554080</td>\n",
       "      <td>5.281644</td>\n",
       "      <td>7.335147</td>\n",
       "      <td>4.784761</td>\n",
       "      <td>6.145352</td>\n",
       "      <td>6.611291</td>\n",
       "      <td>5.023619</td>\n",
       "      <td>4.358376</td>\n",
       "      <td>5.172933</td>\n",
       "      <td>6.731123</td>\n",
       "      <td>...</td>\n",
       "      <td>9.107204</td>\n",
       "      <td>7.465721</td>\n",
       "      <td>8.788528</td>\n",
       "      <td>9.572570</td>\n",
       "      <td>9.679030</td>\n",
       "      <td>1.911065</td>\n",
       "      <td>5.402421</td>\n",
       "      <td>5.005345</td>\n",
       "      <td>2.798605</td>\n",
       "      <td>5.674561</td>\n",
       "    </tr>\n",
       "    <tr>\n",
       "      <th>100002_raw-Energy</th>\n",
       "      <td>6.460916</td>\n",
       "      <td>5.505183</td>\n",
       "      <td>7.399599</td>\n",
       "      <td>4.883557</td>\n",
       "      <td>6.300282</td>\n",
       "      <td>6.617465</td>\n",
       "      <td>5.325193</td>\n",
       "      <td>4.325032</td>\n",
       "      <td>5.428046</td>\n",
       "      <td>7.023396</td>\n",
       "      <td>...</td>\n",
       "      <td>9.018374</td>\n",
       "      <td>7.488490</td>\n",
       "      <td>8.812325</td>\n",
       "      <td>9.568748</td>\n",
       "      <td>9.703897</td>\n",
       "      <td>1.830261</td>\n",
       "      <td>5.426361</td>\n",
       "      <td>4.880517</td>\n",
       "      <td>2.736183</td>\n",
       "      <td>5.691994</td>\n",
       "    </tr>\n",
       "    <tr>\n",
       "      <th>100003_raw-Protein</th>\n",
       "      <td>6.466805</td>\n",
       "      <td>5.458629</td>\n",
       "      <td>7.368454</td>\n",
       "      <td>4.923854</td>\n",
       "      <td>6.393869</td>\n",
       "      <td>6.636221</td>\n",
       "      <td>5.306796</td>\n",
       "      <td>4.363737</td>\n",
       "      <td>5.470543</td>\n",
       "      <td>7.056087</td>\n",
       "      <td>...</td>\n",
       "      <td>9.005486</td>\n",
       "      <td>7.504950</td>\n",
       "      <td>8.769291</td>\n",
       "      <td>9.523876</td>\n",
       "      <td>9.748778</td>\n",
       "      <td>1.860021</td>\n",
       "      <td>5.457011</td>\n",
       "      <td>4.862948</td>\n",
       "      <td>2.789229</td>\n",
       "      <td>5.680467</td>\n",
       "    </tr>\n",
       "    <tr>\n",
       "      <th>100004_raw-Fat</th>\n",
       "      <td>6.564027</td>\n",
       "      <td>5.311611</td>\n",
       "      <td>7.302944</td>\n",
       "      <td>4.877467</td>\n",
       "      <td>6.186177</td>\n",
       "      <td>6.692945</td>\n",
       "      <td>5.133474</td>\n",
       "      <td>4.370428</td>\n",
       "      <td>5.349103</td>\n",
       "      <td>6.923361</td>\n",
       "      <td>...</td>\n",
       "      <td>9.122827</td>\n",
       "      <td>7.386698</td>\n",
       "      <td>8.914087</td>\n",
       "      <td>9.622107</td>\n",
       "      <td>9.642089</td>\n",
       "      <td>1.847337</td>\n",
       "      <td>5.383461</td>\n",
       "      <td>4.924160</td>\n",
       "      <td>2.730383</td>\n",
       "      <td>5.653959</td>\n",
       "    </tr>\n",
       "    <tr>\n",
       "      <th>100005_raw-Carbohydrate</th>\n",
       "      <td>6.627501</td>\n",
       "      <td>5.250340</td>\n",
       "      <td>7.249473</td>\n",
       "      <td>4.796991</td>\n",
       "      <td>5.966265</td>\n",
       "      <td>6.625223</td>\n",
       "      <td>4.946440</td>\n",
       "      <td>4.482035</td>\n",
       "      <td>5.224523</td>\n",
       "      <td>6.724992</td>\n",
       "      <td>...</td>\n",
       "      <td>9.149892</td>\n",
       "      <td>7.443833</td>\n",
       "      <td>8.843749</td>\n",
       "      <td>9.623201</td>\n",
       "      <td>9.629378</td>\n",
       "      <td>1.898488</td>\n",
       "      <td>5.410903</td>\n",
       "      <td>4.978440</td>\n",
       "      <td>2.766205</td>\n",
       "      <td>5.652066</td>\n",
       "    </tr>\n",
       "  </tbody>\n",
       "</table>\n",
       "<p>5 rows × 50 columns</p>\n",
       "</div>"
      ],
      "text/plain": [
       "                            UMAP1     UMAP2     UMAP3     UMAP4     UMAP5  \\\n",
       "100001_raw-Food_weight   6.554080  5.281644  7.335147  4.784761  6.145352   \n",
       "100002_raw-Energy        6.460916  5.505183  7.399599  4.883557  6.300282   \n",
       "100003_raw-Protein       6.466805  5.458629  7.368454  4.923854  6.393869   \n",
       "100004_raw-Fat           6.564027  5.311611  7.302944  4.877467  6.186177   \n",
       "100005_raw-Carbohydrate  6.627501  5.250340  7.249473  4.796991  5.966265   \n",
       "\n",
       "                            UMAP6     UMAP7     UMAP8     UMAP9    UMAP10  \\\n",
       "100001_raw-Food_weight   6.611291  5.023619  4.358376  5.172933  6.731123   \n",
       "100002_raw-Energy        6.617465  5.325193  4.325032  5.428046  7.023396   \n",
       "100003_raw-Protein       6.636221  5.306796  4.363737  5.470543  7.056087   \n",
       "100004_raw-Fat           6.692945  5.133474  4.370428  5.349103  6.923361   \n",
       "100005_raw-Carbohydrate  6.625223  4.946440  4.482035  5.224523  6.724992   \n",
       "\n",
       "                         ...    UMAP41    UMAP42    UMAP43    UMAP44  \\\n",
       "100001_raw-Food_weight   ...  9.107204  7.465721  8.788528  9.572570   \n",
       "100002_raw-Energy        ...  9.018374  7.488490  8.812325  9.568748   \n",
       "100003_raw-Protein       ...  9.005486  7.504950  8.769291  9.523876   \n",
       "100004_raw-Fat           ...  9.122827  7.386698  8.914087  9.622107   \n",
       "100005_raw-Carbohydrate  ...  9.149892  7.443833  8.843749  9.623201   \n",
       "\n",
       "                           UMAP45    UMAP46    UMAP47    UMAP48    UMAP49  \\\n",
       "100001_raw-Food_weight   9.679030  1.911065  5.402421  5.005345  2.798605   \n",
       "100002_raw-Energy        9.703897  1.830261  5.426361  4.880517  2.736183   \n",
       "100003_raw-Protein       9.748778  1.860021  5.457011  4.862948  2.789229   \n",
       "100004_raw-Fat           9.642089  1.847337  5.383461  4.924160  2.730383   \n",
       "100005_raw-Carbohydrate  9.629378  1.898488  5.410903  4.978440  2.766205   \n",
       "\n",
       "                           UMAP50  \n",
       "100001_raw-Food_weight   5.674561  \n",
       "100002_raw-Energy        5.691994  \n",
       "100003_raw-Protein       5.680467  \n",
       "100004_raw-Fat           5.653959  \n",
       "100005_raw-Carbohydrate  5.652066  \n",
       "\n",
       "[5 rows x 50 columns]"
      ]
     },
     "execution_count": 21,
     "metadata": {},
     "output_type": "execute_result"
    }
   ],
   "source": [
    "data.head()"
   ]
  },
  {
   "cell_type": "code",
   "execution_count": 22,
   "id": "c981f57a",
   "metadata": {
    "execution": {
     "iopub.execute_input": "2022-09-13T16:41:29.635720Z",
     "iopub.status.busy": "2022-09-13T16:41:29.635556Z",
     "iopub.status.idle": "2022-09-13T16:41:29.654191Z",
     "shell.execute_reply": "2022-09-13T16:41:29.653548Z"
    },
    "papermill": {
     "duration": 0.029604,
     "end_time": "2022-09-13T16:41:29.655629",
     "exception": false,
     "start_time": "2022-09-13T16:41:29.626025",
     "status": "completed"
    },
    "tags": []
   },
   "outputs": [],
   "source": [
    "assert not data.isna().any().any()"
   ]
  },
  {
   "cell_type": "markdown",
   "id": "294973b0",
   "metadata": {
    "papermill": {
     "duration": 0.009032,
     "end_time": "2022-09-13T16:41:29.674093",
     "exception": false,
     "start_time": "2022-09-13T16:41:29.665061",
     "status": "completed"
    },
    "tags": []
   },
   "source": [
    "# Clustering"
   ]
  },
  {
   "cell_type": "markdown",
   "id": "870e2e33",
   "metadata": {
    "papermill": {
     "duration": 0.008514,
     "end_time": "2022-09-13T16:41:29.697846",
     "exception": false,
     "start_time": "2022-09-13T16:41:29.689332",
     "status": "completed"
    },
    "tags": []
   },
   "source": [
    "## Generate ensemble"
   ]
  },
  {
   "cell_type": "code",
   "execution_count": 23,
   "id": "86b459ec",
   "metadata": {
    "execution": {
     "iopub.execute_input": "2022-09-13T16:41:29.715666Z",
     "iopub.status.busy": "2022-09-13T16:41:29.715442Z",
     "iopub.status.idle": "2022-09-13T16:41:29.736505Z",
     "shell.execute_reply": "2022-09-13T16:41:29.735990Z"
    },
    "papermill": {
     "duration": 0.031517,
     "end_time": "2022-09-13T16:41:29.737925",
     "exception": false,
     "start_time": "2022-09-13T16:41:29.706408",
     "status": "completed"
    },
    "tags": []
   },
   "outputs": [],
   "source": [
    "from clustering.ensembles.utils import generate_ensemble"
   ]
  },
  {
   "cell_type": "code",
   "execution_count": 24,
   "id": "b0aca632",
   "metadata": {
    "execution": {
     "iopub.execute_input": "2022-09-13T16:41:29.756948Z",
     "iopub.status.busy": "2022-09-13T16:41:29.756730Z",
     "iopub.status.idle": "2022-09-13T16:53:37.638004Z",
     "shell.execute_reply": "2022-09-13T16:53:37.637314Z"
    },
    "papermill": {
     "duration": 727.892309,
     "end_time": "2022-09-13T16:53:37.639357",
     "exception": false,
     "start_time": "2022-09-13T16:41:29.747048",
     "status": "completed"
    },
    "tags": []
   },
   "outputs": [
    {
     "name": "stderr",
     "output_type": "stream",
     "text": [
      "100%|██████████| 295/295 [12:07<00:00,  2.47s/it]\n"
     ]
    }
   ],
   "source": [
    "ensemble = generate_ensemble(\n",
    "    data,\n",
    "    CLUSTERERS,\n",
    "    attributes=CLUSTERING_ATTRIBUTES_TO_SAVE,\n",
    ")"
   ]
  },
  {
   "cell_type": "code",
   "execution_count": 25,
   "id": "132c1216",
   "metadata": {
    "execution": {
     "iopub.execute_input": "2022-09-13T16:53:37.676055Z",
     "iopub.status.busy": "2022-09-13T16:53:37.675511Z",
     "iopub.status.idle": "2022-09-13T16:53:37.693878Z",
     "shell.execute_reply": "2022-09-13T16:53:37.693339Z"
    },
    "papermill": {
     "duration": 0.037843,
     "end_time": "2022-09-13T16:53:37.695100",
     "exception": false,
     "start_time": "2022-09-13T16:53:37.657257",
     "status": "completed"
    },
    "tags": []
   },
   "outputs": [
    {
     "data": {
      "text/plain": [
       "(295, 3)"
      ]
     },
     "execution_count": 25,
     "metadata": {},
     "output_type": "execute_result"
    }
   ],
   "source": [
    "# the number should be close to 295 (the number of partitions generated by k-means/spectral clustering)\n",
    "ensemble.shape"
   ]
  },
  {
   "cell_type": "code",
   "execution_count": 26,
   "id": "7ef40555",
   "metadata": {
    "execution": {
     "iopub.execute_input": "2022-09-13T16:53:37.733325Z",
     "iopub.status.busy": "2022-09-13T16:53:37.733116Z",
     "iopub.status.idle": "2022-09-13T16:53:37.759483Z",
     "shell.execute_reply": "2022-09-13T16:53:37.758988Z"
    },
    "papermill": {
     "duration": 0.04679,
     "end_time": "2022-09-13T16:53:37.760724",
     "exception": false,
     "start_time": "2022-09-13T16:53:37.713934",
     "status": "completed"
    },
    "tags": []
   },
   "outputs": [
    {
     "data": {
      "text/html": [
       "<div>\n",
       "<style scoped>\n",
       "    .dataframe tbody tr th:only-of-type {\n",
       "        vertical-align: middle;\n",
       "    }\n",
       "\n",
       "    .dataframe tbody tr th {\n",
       "        vertical-align: top;\n",
       "    }\n",
       "\n",
       "    .dataframe thead th {\n",
       "        text-align: right;\n",
       "    }\n",
       "</style>\n",
       "<table border=\"1\" class=\"dataframe\">\n",
       "  <thead>\n",
       "    <tr style=\"text-align: right;\">\n",
       "      <th></th>\n",
       "      <th>clusterer_params</th>\n",
       "      <th>partition</th>\n",
       "      <th>n_clusters</th>\n",
       "    </tr>\n",
       "    <tr>\n",
       "      <th>clusterer_id</th>\n",
       "      <th></th>\n",
       "      <th></th>\n",
       "      <th></th>\n",
       "    </tr>\n",
       "  </thead>\n",
       "  <tbody>\n",
       "    <tr>\n",
       "      <th>SpectralClustering #0</th>\n",
       "      <td>{'affinity': 'rbf', 'assign_labels': 'kmeans',...</td>\n",
       "      <td>[0.0, 0.0, 0.0, 0.0, 0.0, 0.0, 0.0, 0.0, 0.0, ...</td>\n",
       "      <td>2</td>\n",
       "    </tr>\n",
       "    <tr>\n",
       "      <th>SpectralClustering #1</th>\n",
       "      <td>{'affinity': 'rbf', 'assign_labels': 'kmeans',...</td>\n",
       "      <td>[0.0, 0.0, 0.0, 0.0, 0.0, 0.0, 0.0, 0.0, 0.0, ...</td>\n",
       "      <td>2</td>\n",
       "    </tr>\n",
       "    <tr>\n",
       "      <th>SpectralClustering #2</th>\n",
       "      <td>{'affinity': 'rbf', 'assign_labels': 'kmeans',...</td>\n",
       "      <td>[0.0, 0.0, 0.0, 0.0, 0.0, 0.0, 0.0, 0.0, 0.0, ...</td>\n",
       "      <td>2</td>\n",
       "    </tr>\n",
       "    <tr>\n",
       "      <th>SpectralClustering #3</th>\n",
       "      <td>{'affinity': 'rbf', 'assign_labels': 'kmeans',...</td>\n",
       "      <td>[1.0, 1.0, 1.0, 1.0, 1.0, 1.0, 1.0, 1.0, 1.0, ...</td>\n",
       "      <td>2</td>\n",
       "    </tr>\n",
       "    <tr>\n",
       "      <th>SpectralClustering #4</th>\n",
       "      <td>{'affinity': 'rbf', 'assign_labels': 'kmeans',...</td>\n",
       "      <td>[1.0, 1.0, 1.0, 1.0, 1.0, 1.0, 1.0, 1.0, 1.0, ...</td>\n",
       "      <td>2</td>\n",
       "    </tr>\n",
       "  </tbody>\n",
       "</table>\n",
       "</div>"
      ],
      "text/plain": [
       "                                                        clusterer_params  \\\n",
       "clusterer_id                                                               \n",
       "SpectralClustering #0  {'affinity': 'rbf', 'assign_labels': 'kmeans',...   \n",
       "SpectralClustering #1  {'affinity': 'rbf', 'assign_labels': 'kmeans',...   \n",
       "SpectralClustering #2  {'affinity': 'rbf', 'assign_labels': 'kmeans',...   \n",
       "SpectralClustering #3  {'affinity': 'rbf', 'assign_labels': 'kmeans',...   \n",
       "SpectralClustering #4  {'affinity': 'rbf', 'assign_labels': 'kmeans',...   \n",
       "\n",
       "                                                               partition  \\\n",
       "clusterer_id                                                               \n",
       "SpectralClustering #0  [0.0, 0.0, 0.0, 0.0, 0.0, 0.0, 0.0, 0.0, 0.0, ...   \n",
       "SpectralClustering #1  [0.0, 0.0, 0.0, 0.0, 0.0, 0.0, 0.0, 0.0, 0.0, ...   \n",
       "SpectralClustering #2  [0.0, 0.0, 0.0, 0.0, 0.0, 0.0, 0.0, 0.0, 0.0, ...   \n",
       "SpectralClustering #3  [1.0, 1.0, 1.0, 1.0, 1.0, 1.0, 1.0, 1.0, 1.0, ...   \n",
       "SpectralClustering #4  [1.0, 1.0, 1.0, 1.0, 1.0, 1.0, 1.0, 1.0, 1.0, ...   \n",
       "\n",
       "                       n_clusters  \n",
       "clusterer_id                       \n",
       "SpectralClustering #0           2  \n",
       "SpectralClustering #1           2  \n",
       "SpectralClustering #2           2  \n",
       "SpectralClustering #3           2  \n",
       "SpectralClustering #4           2  "
      ]
     },
     "execution_count": 26,
     "metadata": {},
     "output_type": "execute_result"
    }
   ],
   "source": [
    "ensemble.head()"
   ]
  },
  {
   "cell_type": "code",
   "execution_count": 27,
   "id": "7b6c97d5",
   "metadata": {
    "execution": {
     "iopub.execute_input": "2022-09-13T16:53:37.798673Z",
     "iopub.status.busy": "2022-09-13T16:53:37.798438Z",
     "iopub.status.idle": "2022-09-13T16:53:37.818564Z",
     "shell.execute_reply": "2022-09-13T16:53:37.818068Z"
    },
    "papermill": {
     "duration": 0.039986,
     "end_time": "2022-09-13T16:53:37.819829",
     "exception": false,
     "start_time": "2022-09-13T16:53:37.779843",
     "status": "completed"
    },
    "tags": []
   },
   "outputs": [
    {
     "data": {
      "text/plain": [
       "60    5\n",
       "16    5\n",
       "28    5\n",
       "27    5\n",
       "26    5\n",
       "Name: n_clusters, dtype: int64"
      ]
     },
     "execution_count": 27,
     "metadata": {},
     "output_type": "execute_result"
    }
   ],
   "source": [
    "ensemble[\"n_clusters\"].value_counts().head()"
   ]
  },
  {
   "cell_type": "code",
   "execution_count": 28,
   "id": "0e4e84ea",
   "metadata": {
    "execution": {
     "iopub.execute_input": "2022-09-13T16:53:37.858330Z",
     "iopub.status.busy": "2022-09-13T16:53:37.858106Z",
     "iopub.status.idle": "2022-09-13T16:53:37.879058Z",
     "shell.execute_reply": "2022-09-13T16:53:37.878586Z"
    },
    "papermill": {
     "duration": 0.041506,
     "end_time": "2022-09-13T16:53:37.880392",
     "exception": false,
     "start_time": "2022-09-13T16:53:37.838886",
     "status": "completed"
    },
    "tags": []
   },
   "outputs": [
    {
     "data": {
      "text/plain": [
       "count    295.000000\n",
       "mean      31.000000\n",
       "std       17.058323\n",
       "min        2.000000\n",
       "25%       16.000000\n",
       "50%       31.000000\n",
       "75%       46.000000\n",
       "max       60.000000\n",
       "Name: n_clusters, dtype: float64"
      ]
     },
     "metadata": {},
     "output_type": "display_data"
    }
   ],
   "source": [
    "ensemble_stats = ensemble[\"n_clusters\"].describe()\n",
    "display(ensemble_stats)"
   ]
  },
  {
   "cell_type": "markdown",
   "id": "24e8dbbb",
   "metadata": {
    "papermill": {
     "duration": 0.017888,
     "end_time": "2022-09-13T16:53:37.917965",
     "exception": false,
     "start_time": "2022-09-13T16:53:37.900077",
     "status": "completed"
    },
    "tags": []
   },
   "source": [
    "## Testing"
   ]
  },
  {
   "cell_type": "code",
   "execution_count": 29,
   "id": "f528c0f6",
   "metadata": {
    "execution": {
     "iopub.execute_input": "2022-09-13T16:53:37.955051Z",
     "iopub.status.busy": "2022-09-13T16:53:37.954839Z",
     "iopub.status.idle": "2022-09-13T16:53:37.973390Z",
     "shell.execute_reply": "2022-09-13T16:53:37.972733Z"
    },
    "papermill": {
     "duration": 0.038673,
     "end_time": "2022-09-13T16:53:37.974760",
     "exception": false,
     "start_time": "2022-09-13T16:53:37.936087",
     "status": "completed"
    },
    "tags": []
   },
   "outputs": [],
   "source": [
    "assert ensemble_stats[\"min\"] > 1"
   ]
  },
  {
   "cell_type": "code",
   "execution_count": 30,
   "id": "29b09205",
   "metadata": {
    "execution": {
     "iopub.execute_input": "2022-09-13T16:53:38.012783Z",
     "iopub.status.busy": "2022-09-13T16:53:38.012572Z",
     "iopub.status.idle": "2022-09-13T16:53:38.030759Z",
     "shell.execute_reply": "2022-09-13T16:53:38.030341Z"
    },
    "papermill": {
     "duration": 0.038599,
     "end_time": "2022-09-13T16:53:38.032132",
     "exception": false,
     "start_time": "2022-09-13T16:53:37.993533",
     "status": "completed"
    },
    "tags": []
   },
   "outputs": [],
   "source": [
    "assert not ensemble[\"n_clusters\"].isna().any()"
   ]
  },
  {
   "cell_type": "code",
   "execution_count": 31,
   "id": "6f22fc63",
   "metadata": {
    "execution": {
     "iopub.execute_input": "2022-09-13T16:53:38.069883Z",
     "iopub.status.busy": "2022-09-13T16:53:38.069673Z",
     "iopub.status.idle": "2022-09-13T16:53:38.087713Z",
     "shell.execute_reply": "2022-09-13T16:53:38.087178Z"
    },
    "papermill": {
     "duration": 0.038301,
     "end_time": "2022-09-13T16:53:38.089150",
     "exception": false,
     "start_time": "2022-09-13T16:53:38.050849",
     "status": "completed"
    },
    "tags": []
   },
   "outputs": [],
   "source": [
    "assert ensemble.shape[0] == len(CLUSTERERS)"
   ]
  },
  {
   "cell_type": "code",
   "execution_count": 32,
   "id": "3cfa7a83",
   "metadata": {
    "execution": {
     "iopub.execute_input": "2022-09-13T16:53:38.127013Z",
     "iopub.status.busy": "2022-09-13T16:53:38.126804Z",
     "iopub.status.idle": "2022-09-13T16:53:38.162395Z",
     "shell.execute_reply": "2022-09-13T16:53:38.161845Z"
    },
    "papermill": {
     "duration": 0.055732,
     "end_time": "2022-09-13T16:53:38.163938",
     "exception": false,
     "start_time": "2022-09-13T16:53:38.108206",
     "status": "completed"
    },
    "tags": []
   },
   "outputs": [],
   "source": [
    "# all partitions have the right size\n",
    "assert np.all(\n",
    "    [part[\"partition\"].shape[0] == data.shape[0] for idx, part in ensemble.iterrows()]\n",
    ")"
   ]
  },
  {
   "cell_type": "code",
   "execution_count": 33,
   "id": "46dc8c14",
   "metadata": {
    "execution": {
     "iopub.execute_input": "2022-09-13T16:53:38.201627Z",
     "iopub.status.busy": "2022-09-13T16:53:38.201416Z",
     "iopub.status.idle": "2022-09-13T16:53:38.240210Z",
     "shell.execute_reply": "2022-09-13T16:53:38.239708Z"
    },
    "papermill": {
     "duration": 0.059084,
     "end_time": "2022-09-13T16:53:38.241740",
     "exception": false,
     "start_time": "2022-09-13T16:53:38.182656",
     "status": "completed"
    },
    "tags": []
   },
   "outputs": [],
   "source": [
    "# no partition has negative clusters (noisy points)\n",
    "assert not np.any([(part[\"partition\"] < 0).any() for idx, part in ensemble.iterrows()])"
   ]
  },
  {
   "cell_type": "markdown",
   "id": "0877c8d0",
   "metadata": {
    "papermill": {
     "duration": 0.018279,
     "end_time": "2022-09-13T16:53:38.278291",
     "exception": false,
     "start_time": "2022-09-13T16:53:38.260012",
     "status": "completed"
    },
    "tags": []
   },
   "source": [
    "## Add clustering quality measures"
   ]
  },
  {
   "cell_type": "code",
   "execution_count": 34,
   "id": "7d900f28",
   "metadata": {
    "execution": {
     "iopub.execute_input": "2022-09-13T16:53:38.315361Z",
     "iopub.status.busy": "2022-09-13T16:53:38.315100Z",
     "iopub.status.idle": "2022-09-13T16:53:38.332647Z",
     "shell.execute_reply": "2022-09-13T16:53:38.332108Z"
    },
    "papermill": {
     "duration": 0.037492,
     "end_time": "2022-09-13T16:53:38.333982",
     "exception": false,
     "start_time": "2022-09-13T16:53:38.296490",
     "status": "completed"
    },
    "tags": []
   },
   "outputs": [],
   "source": [
    "from sklearn.metrics import calinski_harabasz_score"
   ]
  },
  {
   "cell_type": "code",
   "execution_count": 35,
   "id": "1e5ddc43",
   "metadata": {
    "execution": {
     "iopub.execute_input": "2022-09-13T16:53:38.372513Z",
     "iopub.status.busy": "2022-09-13T16:53:38.372300Z",
     "iopub.status.idle": "2022-09-13T16:53:39.277033Z",
     "shell.execute_reply": "2022-09-13T16:53:39.276493Z"
    },
    "papermill": {
     "duration": 0.92557,
     "end_time": "2022-09-13T16:53:39.278725",
     "exception": false,
     "start_time": "2022-09-13T16:53:38.353155",
     "status": "completed"
    },
    "tags": []
   },
   "outputs": [],
   "source": [
    "ensemble = ensemble.assign(\n",
    "    ch_score=ensemble[\"partition\"].apply(lambda x: calinski_harabasz_score(data, x))\n",
    ")"
   ]
  },
  {
   "cell_type": "code",
   "execution_count": 36,
   "id": "930cbc1a",
   "metadata": {
    "execution": {
     "iopub.execute_input": "2022-09-13T16:53:39.315926Z",
     "iopub.status.busy": "2022-09-13T16:53:39.315700Z",
     "iopub.status.idle": "2022-09-13T16:53:39.334682Z",
     "shell.execute_reply": "2022-09-13T16:53:39.334152Z"
    },
    "papermill": {
     "duration": 0.038958,
     "end_time": "2022-09-13T16:53:39.335902",
     "exception": false,
     "start_time": "2022-09-13T16:53:39.296944",
     "status": "completed"
    },
    "tags": []
   },
   "outputs": [
    {
     "data": {
      "text/plain": [
       "(295, 4)"
      ]
     },
     "execution_count": 36,
     "metadata": {},
     "output_type": "execute_result"
    }
   ],
   "source": [
    "ensemble.shape"
   ]
  },
  {
   "cell_type": "code",
   "execution_count": 37,
   "id": "26edeaec",
   "metadata": {
    "execution": {
     "iopub.execute_input": "2022-09-13T16:53:39.373752Z",
     "iopub.status.busy": "2022-09-13T16:53:39.373543Z",
     "iopub.status.idle": "2022-09-13T16:53:39.400043Z",
     "shell.execute_reply": "2022-09-13T16:53:39.399444Z"
    },
    "papermill": {
     "duration": 0.046746,
     "end_time": "2022-09-13T16:53:39.401301",
     "exception": false,
     "start_time": "2022-09-13T16:53:39.354555",
     "status": "completed"
    },
    "tags": []
   },
   "outputs": [
    {
     "data": {
      "text/html": [
       "<div>\n",
       "<style scoped>\n",
       "    .dataframe tbody tr th:only-of-type {\n",
       "        vertical-align: middle;\n",
       "    }\n",
       "\n",
       "    .dataframe tbody tr th {\n",
       "        vertical-align: top;\n",
       "    }\n",
       "\n",
       "    .dataframe thead th {\n",
       "        text-align: right;\n",
       "    }\n",
       "</style>\n",
       "<table border=\"1\" class=\"dataframe\">\n",
       "  <thead>\n",
       "    <tr style=\"text-align: right;\">\n",
       "      <th></th>\n",
       "      <th>clusterer_params</th>\n",
       "      <th>partition</th>\n",
       "      <th>n_clusters</th>\n",
       "      <th>ch_score</th>\n",
       "    </tr>\n",
       "    <tr>\n",
       "      <th>clusterer_id</th>\n",
       "      <th></th>\n",
       "      <th></th>\n",
       "      <th></th>\n",
       "      <th></th>\n",
       "    </tr>\n",
       "  </thead>\n",
       "  <tbody>\n",
       "    <tr>\n",
       "      <th>SpectralClustering #0</th>\n",
       "      <td>{'affinity': 'rbf', 'assign_labels': 'kmeans',...</td>\n",
       "      <td>[0.0, 0.0, 0.0, 0.0, 0.0, 0.0, 0.0, 0.0, 0.0, ...</td>\n",
       "      <td>2</td>\n",
       "      <td>1983.555407</td>\n",
       "    </tr>\n",
       "    <tr>\n",
       "      <th>SpectralClustering #1</th>\n",
       "      <td>{'affinity': 'rbf', 'assign_labels': 'kmeans',...</td>\n",
       "      <td>[0.0, 0.0, 0.0, 0.0, 0.0, 0.0, 0.0, 0.0, 0.0, ...</td>\n",
       "      <td>2</td>\n",
       "      <td>1983.555407</td>\n",
       "    </tr>\n",
       "    <tr>\n",
       "      <th>SpectralClustering #2</th>\n",
       "      <td>{'affinity': 'rbf', 'assign_labels': 'kmeans',...</td>\n",
       "      <td>[0.0, 0.0, 0.0, 0.0, 0.0, 0.0, 0.0, 0.0, 0.0, ...</td>\n",
       "      <td>2</td>\n",
       "      <td>1983.555407</td>\n",
       "    </tr>\n",
       "    <tr>\n",
       "      <th>SpectralClustering #3</th>\n",
       "      <td>{'affinity': 'rbf', 'assign_labels': 'kmeans',...</td>\n",
       "      <td>[1.0, 1.0, 1.0, 1.0, 1.0, 1.0, 1.0, 1.0, 1.0, ...</td>\n",
       "      <td>2</td>\n",
       "      <td>1983.555407</td>\n",
       "    </tr>\n",
       "    <tr>\n",
       "      <th>SpectralClustering #4</th>\n",
       "      <td>{'affinity': 'rbf', 'assign_labels': 'kmeans',...</td>\n",
       "      <td>[1.0, 1.0, 1.0, 1.0, 1.0, 1.0, 1.0, 1.0, 1.0, ...</td>\n",
       "      <td>2</td>\n",
       "      <td>1983.555407</td>\n",
       "    </tr>\n",
       "  </tbody>\n",
       "</table>\n",
       "</div>"
      ],
      "text/plain": [
       "                                                        clusterer_params  \\\n",
       "clusterer_id                                                               \n",
       "SpectralClustering #0  {'affinity': 'rbf', 'assign_labels': 'kmeans',...   \n",
       "SpectralClustering #1  {'affinity': 'rbf', 'assign_labels': 'kmeans',...   \n",
       "SpectralClustering #2  {'affinity': 'rbf', 'assign_labels': 'kmeans',...   \n",
       "SpectralClustering #3  {'affinity': 'rbf', 'assign_labels': 'kmeans',...   \n",
       "SpectralClustering #4  {'affinity': 'rbf', 'assign_labels': 'kmeans',...   \n",
       "\n",
       "                                                               partition  \\\n",
       "clusterer_id                                                               \n",
       "SpectralClustering #0  [0.0, 0.0, 0.0, 0.0, 0.0, 0.0, 0.0, 0.0, 0.0, ...   \n",
       "SpectralClustering #1  [0.0, 0.0, 0.0, 0.0, 0.0, 0.0, 0.0, 0.0, 0.0, ...   \n",
       "SpectralClustering #2  [0.0, 0.0, 0.0, 0.0, 0.0, 0.0, 0.0, 0.0, 0.0, ...   \n",
       "SpectralClustering #3  [1.0, 1.0, 1.0, 1.0, 1.0, 1.0, 1.0, 1.0, 1.0, ...   \n",
       "SpectralClustering #4  [1.0, 1.0, 1.0, 1.0, 1.0, 1.0, 1.0, 1.0, 1.0, ...   \n",
       "\n",
       "                       n_clusters     ch_score  \n",
       "clusterer_id                                    \n",
       "SpectralClustering #0           2  1983.555407  \n",
       "SpectralClustering #1           2  1983.555407  \n",
       "SpectralClustering #2           2  1983.555407  \n",
       "SpectralClustering #3           2  1983.555407  \n",
       "SpectralClustering #4           2  1983.555407  "
      ]
     },
     "execution_count": 37,
     "metadata": {},
     "output_type": "execute_result"
    }
   ],
   "source": [
    "ensemble.head()"
   ]
  },
  {
   "cell_type": "markdown",
   "id": "b3a9e890",
   "metadata": {
    "papermill": {
     "duration": 0.017921,
     "end_time": "2022-09-13T16:53:39.438464",
     "exception": false,
     "start_time": "2022-09-13T16:53:39.420543",
     "status": "completed"
    },
    "tags": []
   },
   "source": [
    "## Save"
   ]
  },
  {
   "cell_type": "code",
   "execution_count": 38,
   "id": "97f89f7f",
   "metadata": {
    "execution": {
     "iopub.execute_input": "2022-09-13T16:53:39.476093Z",
     "iopub.status.busy": "2022-09-13T16:53:39.475828Z",
     "iopub.status.idle": "2022-09-13T16:53:39.495034Z",
     "shell.execute_reply": "2022-09-13T16:53:39.494543Z"
    },
    "papermill": {
     "duration": 0.039558,
     "end_time": "2022-09-13T16:53:39.496324",
     "exception": false,
     "start_time": "2022-09-13T16:53:39.456766",
     "status": "completed"
    },
    "tags": []
   },
   "outputs": [
    {
     "data": {
      "text/plain": [
       "PosixPath('/opt/data/results/clustering/null_sims/runs/umap-z_score_std-projection-smultixcan-efo_partial-mashr-zscores/SpectralClustering-AFFINITY_rbf-GAMMA_001-KMEANS_N_INIT_10-K_MAX_60-K_MIN_2-N_REPS_PER_K_5.pkl')"
      ]
     },
     "metadata": {},
     "output_type": "display_data"
    }
   ],
   "source": [
    "output_filename = Path(\n",
    "    RESULTS_DIR,\n",
    "    generate_result_set_name(\n",
    "        CLUSTERING_OPTIONS,\n",
    "        prefix=f\"{clustering_method_name}-\",\n",
    "        suffix=\".pkl\",\n",
    "    ),\n",
    ").resolve()\n",
    "display(output_filename)"
   ]
  },
  {
   "cell_type": "code",
   "execution_count": 39,
   "id": "479809e6",
   "metadata": {
    "execution": {
     "iopub.execute_input": "2022-09-13T16:53:39.536606Z",
     "iopub.status.busy": "2022-09-13T16:53:39.536401Z",
     "iopub.status.idle": "2022-09-13T16:53:39.564504Z",
     "shell.execute_reply": "2022-09-13T16:53:39.563847Z"
    },
    "papermill": {
     "duration": 0.050232,
     "end_time": "2022-09-13T16:53:39.565989",
     "exception": false,
     "start_time": "2022-09-13T16:53:39.515757",
     "status": "completed"
    },
    "tags": []
   },
   "outputs": [],
   "source": [
    "ensemble.to_pickle(output_filename)"
   ]
  },
  {
   "cell_type": "markdown",
   "id": "2c92bdc1",
   "metadata": {
    "papermill": {
     "duration": 0.018623,
     "end_time": "2022-09-13T16:53:39.605251",
     "exception": false,
     "start_time": "2022-09-13T16:53:39.586628",
     "status": "completed"
    },
    "tags": []
   },
   "source": [
    "# Cluster quality"
   ]
  },
  {
   "cell_type": "code",
   "execution_count": 40,
   "id": "2c67f40b",
   "metadata": {
    "execution": {
     "iopub.execute_input": "2022-09-13T16:53:39.642790Z",
     "iopub.status.busy": "2022-09-13T16:53:39.642577Z",
     "iopub.status.idle": "2022-09-13T16:53:39.666441Z",
     "shell.execute_reply": "2022-09-13T16:53:39.665995Z"
    },
    "papermill": {
     "duration": 0.044275,
     "end_time": "2022-09-13T16:53:39.667747",
     "exception": false,
     "start_time": "2022-09-13T16:53:39.623472",
     "status": "completed"
    },
    "tags": []
   },
   "outputs": [
    {
     "data": {
      "text/html": [
       "<div>\n",
       "<style scoped>\n",
       "    .dataframe tbody tr th:only-of-type {\n",
       "        vertical-align: middle;\n",
       "    }\n",
       "\n",
       "    .dataframe tbody tr th {\n",
       "        vertical-align: top;\n",
       "    }\n",
       "\n",
       "    .dataframe thead th {\n",
       "        text-align: right;\n",
       "    }\n",
       "</style>\n",
       "<table border=\"1\" class=\"dataframe\">\n",
       "  <thead>\n",
       "    <tr style=\"text-align: right;\">\n",
       "      <th></th>\n",
       "      <th>ch_score</th>\n",
       "    </tr>\n",
       "    <tr>\n",
       "      <th>n_clusters</th>\n",
       "      <th></th>\n",
       "    </tr>\n",
       "  </thead>\n",
       "  <tbody>\n",
       "    <tr>\n",
       "      <th>2</th>\n",
       "      <td>1983.555407</td>\n",
       "    </tr>\n",
       "    <tr>\n",
       "      <th>3</th>\n",
       "      <td>2506.849833</td>\n",
       "    </tr>\n",
       "    <tr>\n",
       "      <th>4</th>\n",
       "      <td>2510.588523</td>\n",
       "    </tr>\n",
       "    <tr>\n",
       "      <th>5</th>\n",
       "      <td>2901.034838</td>\n",
       "    </tr>\n",
       "    <tr>\n",
       "      <th>6</th>\n",
       "      <td>2934.970055</td>\n",
       "    </tr>\n",
       "    <tr>\n",
       "      <th>7</th>\n",
       "      <td>2941.017157</td>\n",
       "    </tr>\n",
       "    <tr>\n",
       "      <th>8</th>\n",
       "      <td>3109.597699</td>\n",
       "    </tr>\n",
       "    <tr>\n",
       "      <th>9</th>\n",
       "      <td>3146.593048</td>\n",
       "    </tr>\n",
       "    <tr>\n",
       "      <th>10</th>\n",
       "      <td>3160.319527</td>\n",
       "    </tr>\n",
       "    <tr>\n",
       "      <th>11</th>\n",
       "      <td>3163.200747</td>\n",
       "    </tr>\n",
       "    <tr>\n",
       "      <th>12</th>\n",
       "      <td>3253.306408</td>\n",
       "    </tr>\n",
       "    <tr>\n",
       "      <th>13</th>\n",
       "      <td>3272.158250</td>\n",
       "    </tr>\n",
       "    <tr>\n",
       "      <th>14</th>\n",
       "      <td>3270.577616</td>\n",
       "    </tr>\n",
       "    <tr>\n",
       "      <th>15</th>\n",
       "      <td>3295.035854</td>\n",
       "    </tr>\n",
       "    <tr>\n",
       "      <th>16</th>\n",
       "      <td>3292.929114</td>\n",
       "    </tr>\n",
       "    <tr>\n",
       "      <th>17</th>\n",
       "      <td>3405.439923</td>\n",
       "    </tr>\n",
       "    <tr>\n",
       "      <th>18</th>\n",
       "      <td>3395.845636</td>\n",
       "    </tr>\n",
       "    <tr>\n",
       "      <th>19</th>\n",
       "      <td>3534.151193</td>\n",
       "    </tr>\n",
       "    <tr>\n",
       "      <th>20</th>\n",
       "      <td>3540.470966</td>\n",
       "    </tr>\n",
       "    <tr>\n",
       "      <th>21</th>\n",
       "      <td>3563.755719</td>\n",
       "    </tr>\n",
       "    <tr>\n",
       "      <th>22</th>\n",
       "      <td>3621.053388</td>\n",
       "    </tr>\n",
       "    <tr>\n",
       "      <th>23</th>\n",
       "      <td>3641.832036</td>\n",
       "    </tr>\n",
       "    <tr>\n",
       "      <th>24</th>\n",
       "      <td>3641.566263</td>\n",
       "    </tr>\n",
       "    <tr>\n",
       "      <th>25</th>\n",
       "      <td>3585.780151</td>\n",
       "    </tr>\n",
       "    <tr>\n",
       "      <th>26</th>\n",
       "      <td>3620.170923</td>\n",
       "    </tr>\n",
       "    <tr>\n",
       "      <th>27</th>\n",
       "      <td>3713.080287</td>\n",
       "    </tr>\n",
       "    <tr>\n",
       "      <th>28</th>\n",
       "      <td>3723.719055</td>\n",
       "    </tr>\n",
       "    <tr>\n",
       "      <th>29</th>\n",
       "      <td>3722.903409</td>\n",
       "    </tr>\n",
       "    <tr>\n",
       "      <th>30</th>\n",
       "      <td>3811.469132</td>\n",
       "    </tr>\n",
       "    <tr>\n",
       "      <th>31</th>\n",
       "      <td>3631.872553</td>\n",
       "    </tr>\n",
       "    <tr>\n",
       "      <th>32</th>\n",
       "      <td>3558.652693</td>\n",
       "    </tr>\n",
       "    <tr>\n",
       "      <th>33</th>\n",
       "      <td>3396.409434</td>\n",
       "    </tr>\n",
       "    <tr>\n",
       "      <th>34</th>\n",
       "      <td>3322.833565</td>\n",
       "    </tr>\n",
       "    <tr>\n",
       "      <th>35</th>\n",
       "      <td>3189.103136</td>\n",
       "    </tr>\n",
       "    <tr>\n",
       "      <th>36</th>\n",
       "      <td>2944.371090</td>\n",
       "    </tr>\n",
       "    <tr>\n",
       "      <th>37</th>\n",
       "      <td>2996.962255</td>\n",
       "    </tr>\n",
       "    <tr>\n",
       "      <th>38</th>\n",
       "      <td>2830.326821</td>\n",
       "    </tr>\n",
       "    <tr>\n",
       "      <th>39</th>\n",
       "      <td>2673.477650</td>\n",
       "    </tr>\n",
       "    <tr>\n",
       "      <th>40</th>\n",
       "      <td>2690.721722</td>\n",
       "    </tr>\n",
       "    <tr>\n",
       "      <th>41</th>\n",
       "      <td>2607.588036</td>\n",
       "    </tr>\n",
       "    <tr>\n",
       "      <th>42</th>\n",
       "      <td>2558.813735</td>\n",
       "    </tr>\n",
       "    <tr>\n",
       "      <th>43</th>\n",
       "      <td>2517.725625</td>\n",
       "    </tr>\n",
       "    <tr>\n",
       "      <th>44</th>\n",
       "      <td>2483.423507</td>\n",
       "    </tr>\n",
       "    <tr>\n",
       "      <th>45</th>\n",
       "      <td>2503.597272</td>\n",
       "    </tr>\n",
       "    <tr>\n",
       "      <th>46</th>\n",
       "      <td>2414.040523</td>\n",
       "    </tr>\n",
       "    <tr>\n",
       "      <th>47</th>\n",
       "      <td>2389.061249</td>\n",
       "    </tr>\n",
       "    <tr>\n",
       "      <th>48</th>\n",
       "      <td>2366.202065</td>\n",
       "    </tr>\n",
       "    <tr>\n",
       "      <th>49</th>\n",
       "      <td>2326.667277</td>\n",
       "    </tr>\n",
       "    <tr>\n",
       "      <th>50</th>\n",
       "      <td>2301.345103</td>\n",
       "    </tr>\n",
       "    <tr>\n",
       "      <th>51</th>\n",
       "      <td>2243.079372</td>\n",
       "    </tr>\n",
       "    <tr>\n",
       "      <th>52</th>\n",
       "      <td>2218.522097</td>\n",
       "    </tr>\n",
       "    <tr>\n",
       "      <th>53</th>\n",
       "      <td>2191.303654</td>\n",
       "    </tr>\n",
       "    <tr>\n",
       "      <th>54</th>\n",
       "      <td>2213.657387</td>\n",
       "    </tr>\n",
       "    <tr>\n",
       "      <th>55</th>\n",
       "      <td>2247.459533</td>\n",
       "    </tr>\n",
       "    <tr>\n",
       "      <th>56</th>\n",
       "      <td>2214.985313</td>\n",
       "    </tr>\n",
       "    <tr>\n",
       "      <th>57</th>\n",
       "      <td>2180.899681</td>\n",
       "    </tr>\n",
       "    <tr>\n",
       "      <th>58</th>\n",
       "      <td>2169.596513</td>\n",
       "    </tr>\n",
       "    <tr>\n",
       "      <th>59</th>\n",
       "      <td>2152.081380</td>\n",
       "    </tr>\n",
       "    <tr>\n",
       "      <th>60</th>\n",
       "      <td>2151.015932</td>\n",
       "    </tr>\n",
       "  </tbody>\n",
       "</table>\n",
       "</div>"
      ],
      "text/plain": [
       "               ch_score\n",
       "n_clusters             \n",
       "2           1983.555407\n",
       "3           2506.849833\n",
       "4           2510.588523\n",
       "5           2901.034838\n",
       "6           2934.970055\n",
       "7           2941.017157\n",
       "8           3109.597699\n",
       "9           3146.593048\n",
       "10          3160.319527\n",
       "11          3163.200747\n",
       "12          3253.306408\n",
       "13          3272.158250\n",
       "14          3270.577616\n",
       "15          3295.035854\n",
       "16          3292.929114\n",
       "17          3405.439923\n",
       "18          3395.845636\n",
       "19          3534.151193\n",
       "20          3540.470966\n",
       "21          3563.755719\n",
       "22          3621.053388\n",
       "23          3641.832036\n",
       "24          3641.566263\n",
       "25          3585.780151\n",
       "26          3620.170923\n",
       "27          3713.080287\n",
       "28          3723.719055\n",
       "29          3722.903409\n",
       "30          3811.469132\n",
       "31          3631.872553\n",
       "32          3558.652693\n",
       "33          3396.409434\n",
       "34          3322.833565\n",
       "35          3189.103136\n",
       "36          2944.371090\n",
       "37          2996.962255\n",
       "38          2830.326821\n",
       "39          2673.477650\n",
       "40          2690.721722\n",
       "41          2607.588036\n",
       "42          2558.813735\n",
       "43          2517.725625\n",
       "44          2483.423507\n",
       "45          2503.597272\n",
       "46          2414.040523\n",
       "47          2389.061249\n",
       "48          2366.202065\n",
       "49          2326.667277\n",
       "50          2301.345103\n",
       "51          2243.079372\n",
       "52          2218.522097\n",
       "53          2191.303654\n",
       "54          2213.657387\n",
       "55          2247.459533\n",
       "56          2214.985313\n",
       "57          2180.899681\n",
       "58          2169.596513\n",
       "59          2152.081380\n",
       "60          2151.015932"
      ]
     },
     "metadata": {},
     "output_type": "display_data"
    }
   ],
   "source": [
    "with pd.option_context(\"display.max_rows\", None, \"display.max_columns\", None):\n",
    "    _df = ensemble.groupby([\"n_clusters\"]).mean()\n",
    "    display(_df)"
   ]
  },
  {
   "cell_type": "code",
   "execution_count": 41,
   "id": "983bb7f6",
   "metadata": {
    "execution": {
     "iopub.execute_input": "2022-09-13T16:53:39.706842Z",
     "iopub.status.busy": "2022-09-13T16:53:39.706630Z",
     "iopub.status.idle": "2022-09-13T16:53:42.745632Z",
     "shell.execute_reply": "2022-09-13T16:53:42.744991Z"
    },
    "papermill": {
     "duration": 3.059928,
     "end_time": "2022-09-13T16:53:42.747088",
     "exception": false,
     "start_time": "2022-09-13T16:53:39.687160",
     "status": "completed"
    },
    "tags": []
   },
   "outputs": [
    {
     "data": {
      "image/png": "[encoded data removed]",
      "text/plain": [
       "<Figure size 1008x432 with 1 Axes>"
      ]
     },
     "metadata": {},
     "output_type": "display_data"
    }
   ],
   "source": [
    "with sns.plotting_context(\"talk\", font_scale=0.75), sns.axes_style(\n",
    "    \"whitegrid\", {\"grid.linestyle\": \"--\"}\n",
    "):\n",
    "    fig = plt.figure(figsize=(14, 6))\n",
    "    ax = sns.pointplot(data=ensemble, x=\"n_clusters\", y=\"ch_score\")\n",
    "    ax.set_ylabel(\"Calinski-Harabasz index\")\n",
    "    ax.set_xlabel(\"Number of clusters ($k$)\")\n",
    "    ax.set_xticklabels(ax.get_xticklabels(), rotation=45)\n",
    "    plt.grid(True)\n",
    "    plt.tight_layout()"
   ]
  },
  {
   "cell_type": "markdown",
   "id": "604ad2fd",
   "metadata": {
    "papermill": {
     "duration": 0.019614,
     "end_time": "2022-09-13T16:53:42.786796",
     "exception": false,
     "start_time": "2022-09-13T16:53:42.767182",
     "status": "completed"
    },
    "tags": []
   },
   "source": [
    "# Stability"
   ]
  },
  {
   "cell_type": "markdown",
   "id": "e8a0f00c",
   "metadata": {
    "papermill": {
     "duration": 0.019245,
     "end_time": "2022-09-13T16:53:42.825621",
     "exception": false,
     "start_time": "2022-09-13T16:53:42.806376",
     "status": "completed"
    },
    "tags": []
   },
   "source": [
    "## Group ensemble by n_clusters"
   ]
  },
  {
   "cell_type": "code",
   "execution_count": 42,
   "id": "d8b43f90",
   "metadata": {
    "execution": {
     "iopub.execute_input": "2022-09-13T16:53:42.865910Z",
     "iopub.status.busy": "2022-09-13T16:53:42.865699Z",
     "iopub.status.idle": "2022-09-13T16:53:42.898453Z",
     "shell.execute_reply": "2022-09-13T16:53:42.898033Z"
    },
    "papermill": {
     "duration": 0.054711,
     "end_time": "2022-09-13T16:53:42.899830",
     "exception": false,
     "start_time": "2022-09-13T16:53:42.845119",
     "status": "completed"
    },
    "tags": []
   },
   "outputs": [],
   "source": [
    "parts = ensemble.groupby(\"n_clusters\").apply(\n",
    "    lambda x: np.concatenate(x[\"partition\"].apply(lambda x: x.reshape(1, -1)), axis=0)\n",
    ")"
   ]
  },
  {
   "cell_type": "code",
   "execution_count": 43,
   "id": "1205485e",
   "metadata": {
    "execution": {
     "iopub.execute_input": "2022-09-13T16:53:42.941133Z",
     "iopub.status.busy": "2022-09-13T16:53:42.940923Z",
     "iopub.status.idle": "2022-09-13T16:53:42.971069Z",
     "shell.execute_reply": "2022-09-13T16:53:42.970494Z"
    },
    "papermill": {
     "duration": 0.052165,
     "end_time": "2022-09-13T16:53:42.972490",
     "exception": false,
     "start_time": "2022-09-13T16:53:42.920325",
     "status": "completed"
    },
    "tags": []
   },
   "outputs": [
    {
     "data": {
      "text/plain": [
       "n_clusters\n",
       "2    [[0.0, 0.0, 0.0, 0.0, 0.0, 0.0, 0.0, 0.0, 0.0,...\n",
       "3    [[1.0, 1.0, 1.0, 1.0, 1.0, 1.0, 1.0, 1.0, 1.0,...\n",
       "4    [[2.0, 2.0, 2.0, 2.0, 2.0, 2.0, 2.0, 2.0, 2.0,...\n",
       "5    [[3.0, 3.0, 3.0, 3.0, 3.0, 3.0, 3.0, 3.0, 3.0,...\n",
       "6    [[0.0, 0.0, 0.0, 0.0, 0.0, 0.0, 0.0, 0.0, 0.0,...\n",
       "dtype: object"
      ]
     },
     "execution_count": 43,
     "metadata": {},
     "output_type": "execute_result"
    }
   ],
   "source": [
    "parts.head()"
   ]
  },
  {
   "cell_type": "code",
   "execution_count": 44,
   "id": "489fa18b",
   "metadata": {
    "execution": {
     "iopub.execute_input": "2022-09-13T16:53:43.013672Z",
     "iopub.status.busy": "2022-09-13T16:53:43.013433Z",
     "iopub.status.idle": "2022-09-13T16:53:43.032294Z",
     "shell.execute_reply": "2022-09-13T16:53:43.031669Z"
    },
    "papermill": {
     "duration": 0.040803,
     "end_time": "2022-09-13T16:53:43.033605",
     "exception": false,
     "start_time": "2022-09-13T16:53:42.992802",
     "status": "completed"
    },
    "tags": []
   },
   "outputs": [],
   "source": [
    "assert np.all(\n",
    "    [\n",
    "        parts.loc[k].shape == (CLUSTERING_OPTIONS[\"N_REPS_PER_K\"], data.shape[0])\n",
    "        for k in parts.index\n",
    "    ]\n",
    ")"
   ]
  },
  {
   "cell_type": "markdown",
   "id": "beefdfc5",
   "metadata": {
    "papermill": {
     "duration": 0.019592,
     "end_time": "2022-09-13T16:53:43.073903",
     "exception": false,
     "start_time": "2022-09-13T16:53:43.054311",
     "status": "completed"
    },
    "tags": []
   },
   "source": [
    "## Compute stability"
   ]
  },
  {
   "cell_type": "code",
   "execution_count": 45,
   "id": "5e98ebb9",
   "metadata": {
    "execution": {
     "iopub.execute_input": "2022-09-13T16:53:43.114827Z",
     "iopub.status.busy": "2022-09-13T16:53:43.114619Z",
     "iopub.status.idle": "2022-09-13T16:53:43.132581Z",
     "shell.execute_reply": "2022-09-13T16:53:43.131877Z"
    },
    "papermill": {
     "duration": 0.039944,
     "end_time": "2022-09-13T16:53:43.133856",
     "exception": false,
     "start_time": "2022-09-13T16:53:43.093912",
     "status": "completed"
    },
    "tags": []
   },
   "outputs": [],
   "source": [
    "from sklearn.metrics import adjusted_rand_score as ari\n",
    "from scipy.spatial.distance import pdist"
   ]
  },
  {
   "cell_type": "code",
   "execution_count": 46,
   "id": "1ba17dc6",
   "metadata": {
    "execution": {
     "iopub.execute_input": "2022-09-13T16:53:43.200006Z",
     "iopub.status.busy": "2022-09-13T16:53:43.199811Z",
     "iopub.status.idle": "2022-09-13T16:53:43.766336Z",
     "shell.execute_reply": "2022-09-13T16:53:43.765659Z"
    },
    "papermill": {
     "duration": 0.613198,
     "end_time": "2022-09-13T16:53:43.767939",
     "exception": false,
     "start_time": "2022-09-13T16:53:43.154741",
     "status": "completed"
    },
    "tags": []
   },
   "outputs": [],
   "source": [
    "parts_ari = pd.Series(\n",
    "    {k: pdist(parts.loc[k], metric=ari) for k in parts.index}, name=\"k\"\n",
    ")"
   ]
  },
  {
   "cell_type": "code",
   "execution_count": 47,
   "id": "e875b68d",
   "metadata": {
    "execution": {
     "iopub.execute_input": "2022-09-13T16:53:43.808085Z",
     "iopub.status.busy": "2022-09-13T16:53:43.807862Z",
     "iopub.status.idle": "2022-09-13T16:53:43.828603Z",
     "shell.execute_reply": "2022-09-13T16:53:43.828028Z"
    },
    "papermill": {
     "duration": 0.042075,
     "end_time": "2022-09-13T16:53:43.829877",
     "exception": false,
     "start_time": "2022-09-13T16:53:43.787802",
     "status": "completed"
    },
    "tags": []
   },
   "outputs": [
    {
     "data": {
      "text/plain": [
       "2     1.000000\n",
       "5     1.000000\n",
       "4     0.999715\n",
       "11    0.999688\n",
       "7     0.999072\n",
       "6     0.998948\n",
       "3     0.998536\n",
       "10    0.997146\n",
       "9     0.996028\n",
       "13    0.995826\n",
       "12    0.995511\n",
       "8     0.991870\n",
       "21    0.990402\n",
       "15    0.988959\n",
       "14    0.985471\n",
       "Name: k, dtype: float64"
      ]
     },
     "metadata": {},
     "output_type": "display_data"
    }
   ],
   "source": [
    "parts_ari_stability = parts_ari.apply(lambda x: x.mean())\n",
    "display(parts_ari_stability.sort_values(ascending=False).head(15))"
   ]
  },
  {
   "cell_type": "code",
   "execution_count": 48,
   "id": "988860d1",
   "metadata": {
    "execution": {
     "iopub.execute_input": "2022-09-13T16:53:43.871219Z",
     "iopub.status.busy": "2022-09-13T16:53:43.871008Z",
     "iopub.status.idle": "2022-09-13T16:53:43.890241Z",
     "shell.execute_reply": "2022-09-13T16:53:43.889695Z"
    },
    "papermill": {
     "duration": 0.040888,
     "end_time": "2022-09-13T16:53:43.891603",
     "exception": false,
     "start_time": "2022-09-13T16:53:43.850715",
     "status": "completed"
    },
    "tags": []
   },
   "outputs": [],
   "source": [
    "parts_ari_df = pd.DataFrame.from_records(parts_ari.tolist()).set_index(\n",
    "    parts_ari.index.copy()\n",
    ")"
   ]
  },
  {
   "cell_type": "code",
   "execution_count": 49,
   "id": "dbb0d2fe",
   "metadata": {
    "execution": {
     "iopub.execute_input": "2022-09-13T16:53:43.934750Z",
     "iopub.status.busy": "2022-09-13T16:53:43.934108Z",
     "iopub.status.idle": "2022-09-13T16:53:43.952900Z",
     "shell.execute_reply": "2022-09-13T16:53:43.952361Z"
    },
    "papermill": {
     "duration": 0.041179,
     "end_time": "2022-09-13T16:53:43.954183",
     "exception": false,
     "start_time": "2022-09-13T16:53:43.913004",
     "status": "completed"
    },
    "tags": []
   },
   "outputs": [
    {
     "data": {
      "text/plain": [
       "(59, 10)"
      ]
     },
     "execution_count": 49,
     "metadata": {},
     "output_type": "execute_result"
    }
   ],
   "source": [
    "parts_ari_df.shape"
   ]
  },
  {
   "cell_type": "code",
   "execution_count": 50,
   "id": "87bb17b8",
   "metadata": {
    "execution": {
     "iopub.execute_input": "2022-09-13T16:53:43.997332Z",
     "iopub.status.busy": "2022-09-13T16:53:43.996757Z",
     "iopub.status.idle": "2022-09-13T16:53:44.014960Z",
     "shell.execute_reply": "2022-09-13T16:53:44.014312Z"
    },
    "papermill": {
     "duration": 0.040663,
     "end_time": "2022-09-13T16:53:44.016309",
     "exception": false,
     "start_time": "2022-09-13T16:53:43.975646",
     "status": "completed"
    },
    "tags": []
   },
   "outputs": [],
   "source": [
    "assert (\n",
    "    int(\n",
    "        (CLUSTERING_OPTIONS[\"N_REPS_PER_K\"] * (CLUSTERING_OPTIONS[\"N_REPS_PER_K\"] - 1))\n",
    "        / 2\n",
    "    )\n",
    "    == parts_ari_df.shape[1]\n",
    ")"
   ]
  },
  {
   "cell_type": "code",
   "execution_count": 51,
   "id": "481c1b92",
   "metadata": {
    "execution": {
     "iopub.execute_input": "2022-09-13T16:53:44.058004Z",
     "iopub.status.busy": "2022-09-13T16:53:44.057776Z",
     "iopub.status.idle": "2022-09-13T16:53:44.082637Z",
     "shell.execute_reply": "2022-09-13T16:53:44.082081Z"
    },
    "papermill": {
     "duration": 0.046615,
     "end_time": "2022-09-13T16:53:44.083831",
     "exception": false,
     "start_time": "2022-09-13T16:53:44.037216",
     "status": "completed"
    },
    "tags": []
   },
   "outputs": [
    {
     "data": {
      "text/html": [
       "<div>\n",
       "<style scoped>\n",
       "    .dataframe tbody tr th:only-of-type {\n",
       "        vertical-align: middle;\n",
       "    }\n",
       "\n",
       "    .dataframe tbody tr th {\n",
       "        vertical-align: top;\n",
       "    }\n",
       "\n",
       "    .dataframe thead th {\n",
       "        text-align: right;\n",
       "    }\n",
       "</style>\n",
       "<table border=\"1\" class=\"dataframe\">\n",
       "  <thead>\n",
       "    <tr style=\"text-align: right;\">\n",
       "      <th></th>\n",
       "      <th>0</th>\n",
       "      <th>1</th>\n",
       "      <th>2</th>\n",
       "      <th>3</th>\n",
       "      <th>4</th>\n",
       "      <th>5</th>\n",
       "      <th>6</th>\n",
       "      <th>7</th>\n",
       "      <th>8</th>\n",
       "      <th>9</th>\n",
       "    </tr>\n",
       "  </thead>\n",
       "  <tbody>\n",
       "    <tr>\n",
       "      <th>2</th>\n",
       "      <td>1.000000</td>\n",
       "      <td>1.000000</td>\n",
       "      <td>1.000000</td>\n",
       "      <td>1.000000</td>\n",
       "      <td>1.000000</td>\n",
       "      <td>1.000000</td>\n",
       "      <td>1.000000</td>\n",
       "      <td>1.000000</td>\n",
       "      <td>1.000000</td>\n",
       "      <td>1.000000</td>\n",
       "    </tr>\n",
       "    <tr>\n",
       "      <th>3</th>\n",
       "      <td>1.000000</td>\n",
       "      <td>0.996341</td>\n",
       "      <td>1.000000</td>\n",
       "      <td>1.000000</td>\n",
       "      <td>0.996341</td>\n",
       "      <td>1.000000</td>\n",
       "      <td>1.000000</td>\n",
       "      <td>0.996341</td>\n",
       "      <td>0.996341</td>\n",
       "      <td>1.000000</td>\n",
       "    </tr>\n",
       "    <tr>\n",
       "      <th>4</th>\n",
       "      <td>0.999287</td>\n",
       "      <td>1.000000</td>\n",
       "      <td>1.000000</td>\n",
       "      <td>1.000000</td>\n",
       "      <td>0.999287</td>\n",
       "      <td>0.999287</td>\n",
       "      <td>0.999287</td>\n",
       "      <td>1.000000</td>\n",
       "      <td>1.000000</td>\n",
       "      <td>1.000000</td>\n",
       "    </tr>\n",
       "    <tr>\n",
       "      <th>5</th>\n",
       "      <td>1.000000</td>\n",
       "      <td>1.000000</td>\n",
       "      <td>1.000000</td>\n",
       "      <td>1.000000</td>\n",
       "      <td>1.000000</td>\n",
       "      <td>1.000000</td>\n",
       "      <td>1.000000</td>\n",
       "      <td>1.000000</td>\n",
       "      <td>1.000000</td>\n",
       "      <td>1.000000</td>\n",
       "    </tr>\n",
       "    <tr>\n",
       "      <th>6</th>\n",
       "      <td>0.998695</td>\n",
       "      <td>0.999551</td>\n",
       "      <td>0.999551</td>\n",
       "      <td>0.998695</td>\n",
       "      <td>0.998247</td>\n",
       "      <td>0.998247</td>\n",
       "      <td>1.000000</td>\n",
       "      <td>1.000000</td>\n",
       "      <td>0.998247</td>\n",
       "      <td>0.998247</td>\n",
       "    </tr>\n",
       "  </tbody>\n",
       "</table>\n",
       "</div>"
      ],
      "text/plain": [
       "          0         1         2         3         4         5         6  \\\n",
       "2  1.000000  1.000000  1.000000  1.000000  1.000000  1.000000  1.000000   \n",
       "3  1.000000  0.996341  1.000000  1.000000  0.996341  1.000000  1.000000   \n",
       "4  0.999287  1.000000  1.000000  1.000000  0.999287  0.999287  0.999287   \n",
       "5  1.000000  1.000000  1.000000  1.000000  1.000000  1.000000  1.000000   \n",
       "6  0.998695  0.999551  0.999551  0.998695  0.998247  0.998247  1.000000   \n",
       "\n",
       "          7         8         9  \n",
       "2  1.000000  1.000000  1.000000  \n",
       "3  0.996341  0.996341  1.000000  \n",
       "4  1.000000  1.000000  1.000000  \n",
       "5  1.000000  1.000000  1.000000  \n",
       "6  1.000000  0.998247  0.998247  "
      ]
     },
     "execution_count": 51,
     "metadata": {},
     "output_type": "execute_result"
    }
   ],
   "source": [
    "parts_ari_df.head()"
   ]
  },
  {
   "cell_type": "markdown",
   "id": "3a2d25e2",
   "metadata": {
    "papermill": {
     "duration": 0.019409,
     "end_time": "2022-09-13T16:53:44.123950",
     "exception": false,
     "start_time": "2022-09-13T16:53:44.104541",
     "status": "completed"
    },
    "tags": []
   },
   "source": [
    "## Save"
   ]
  },
  {
   "cell_type": "code",
   "execution_count": 52,
   "id": "18a2edc8",
   "metadata": {
    "execution": {
     "iopub.execute_input": "2022-09-13T16:53:44.164365Z",
     "iopub.status.busy": "2022-09-13T16:53:44.164155Z",
     "iopub.status.idle": "2022-09-13T16:53:44.183140Z",
     "shell.execute_reply": "2022-09-13T16:53:44.182705Z"
    },
    "papermill": {
     "duration": 0.040774,
     "end_time": "2022-09-13T16:53:44.184389",
     "exception": false,
     "start_time": "2022-09-13T16:53:44.143615",
     "status": "completed"
    },
    "tags": []
   },
   "outputs": [
    {
     "data": {
      "text/plain": [
       "PosixPath('/opt/data/results/clustering/null_sims/runs/umap-z_score_std-projection-smultixcan-efo_partial-mashr-zscores/SpectralClustering-stability-AFFINITY_rbf-GAMMA_001-KMEANS_N_INIT_10-K_MAX_60-K_MIN_2-N_REPS_PER_K_5.pkl')"
      ]
     },
     "metadata": {},
     "output_type": "display_data"
    }
   ],
   "source": [
    "output_filename = Path(\n",
    "    RESULTS_DIR,\n",
    "    generate_result_set_name(\n",
    "        CLUSTERING_OPTIONS,\n",
    "        prefix=f\"{clustering_method_name}-stability-\",\n",
    "        suffix=\".pkl\",\n",
    "    ),\n",
    ").resolve()\n",
    "display(output_filename)"
   ]
  },
  {
   "cell_type": "code",
   "execution_count": 53,
   "id": "5a077ef9",
   "metadata": {
    "execution": {
     "iopub.execute_input": "2022-09-13T16:53:44.227113Z",
     "iopub.status.busy": "2022-09-13T16:53:44.226901Z",
     "iopub.status.idle": "2022-09-13T16:53:44.245564Z",
     "shell.execute_reply": "2022-09-13T16:53:44.245074Z"
    },
    "papermill": {
     "duration": 0.041426,
     "end_time": "2022-09-13T16:53:44.246927",
     "exception": false,
     "start_time": "2022-09-13T16:53:44.205501",
     "status": "completed"
    },
    "tags": []
   },
   "outputs": [],
   "source": [
    "parts_ari_df.to_pickle(output_filename)"
   ]
  },
  {
   "cell_type": "markdown",
   "id": "facc867d",
   "metadata": {
    "papermill": {
     "duration": 0.019533,
     "end_time": "2022-09-13T16:53:44.287741",
     "exception": false,
     "start_time": "2022-09-13T16:53:44.268208",
     "status": "completed"
    },
    "tags": []
   },
   "source": [
    "## Stability plot"
   ]
  },
  {
   "cell_type": "code",
   "execution_count": 54,
   "id": "064086f4",
   "metadata": {
    "execution": {
     "iopub.execute_input": "2022-09-13T16:53:44.327950Z",
     "iopub.status.busy": "2022-09-13T16:53:44.327743Z",
     "iopub.status.idle": "2022-09-13T16:53:44.347744Z",
     "shell.execute_reply": "2022-09-13T16:53:44.347160Z"
    },
    "papermill": {
     "duration": 0.041806,
     "end_time": "2022-09-13T16:53:44.349162",
     "exception": false,
     "start_time": "2022-09-13T16:53:44.307356",
     "status": "completed"
    },
    "tags": []
   },
   "outputs": [],
   "source": [
    "parts_ari_df_plot = (\n",
    "    parts_ari_df.stack()\n",
    "    .reset_index()\n",
    "    .rename(columns={\"level_0\": \"k\", \"level_1\": \"idx\", 0: \"ari\"})\n",
    ")"
   ]
  },
  {
   "cell_type": "code",
   "execution_count": 55,
   "id": "f728d81d",
   "metadata": {
    "execution": {
     "iopub.execute_input": "2022-09-13T16:53:44.391198Z",
     "iopub.status.busy": "2022-09-13T16:53:44.390986Z",
     "iopub.status.idle": "2022-09-13T16:53:44.410976Z",
     "shell.execute_reply": "2022-09-13T16:53:44.410500Z"
    },
    "papermill": {
     "duration": 0.042118,
     "end_time": "2022-09-13T16:53:44.412240",
     "exception": false,
     "start_time": "2022-09-13T16:53:44.370122",
     "status": "completed"
    },
    "tags": []
   },
   "outputs": [
    {
     "data": {
      "text/plain": [
       "k        int64\n",
       "idx      int64\n",
       "ari    float64\n",
       "dtype: object"
      ]
     },
     "execution_count": 55,
     "metadata": {},
     "output_type": "execute_result"
    }
   ],
   "source": [
    "parts_ari_df_plot.dtypes"
   ]
  },
  {
   "cell_type": "code",
   "execution_count": 56,
   "id": "52b67ce9",
   "metadata": {
    "execution": {
     "iopub.execute_input": "2022-09-13T16:53:44.455400Z",
     "iopub.status.busy": "2022-09-13T16:53:44.454977Z",
     "iopub.status.idle": "2022-09-13T16:53:44.475741Z",
     "shell.execute_reply": "2022-09-13T16:53:44.475176Z"
    },
    "papermill": {
     "duration": 0.043043,
     "end_time": "2022-09-13T16:53:44.476922",
     "exception": false,
     "start_time": "2022-09-13T16:53:44.433879",
     "status": "completed"
    },
    "tags": []
   },
   "outputs": [
    {
     "data": {
      "text/html": [
       "<div>\n",
       "<style scoped>\n",
       "    .dataframe tbody tr th:only-of-type {\n",
       "        vertical-align: middle;\n",
       "    }\n",
       "\n",
       "    .dataframe tbody tr th {\n",
       "        vertical-align: top;\n",
       "    }\n",
       "\n",
       "    .dataframe thead th {\n",
       "        text-align: right;\n",
       "    }\n",
       "</style>\n",
       "<table border=\"1\" class=\"dataframe\">\n",
       "  <thead>\n",
       "    <tr style=\"text-align: right;\">\n",
       "      <th></th>\n",
       "      <th>k</th>\n",
       "      <th>idx</th>\n",
       "      <th>ari</th>\n",
       "    </tr>\n",
       "  </thead>\n",
       "  <tbody>\n",
       "    <tr>\n",
       "      <th>0</th>\n",
       "      <td>2</td>\n",
       "      <td>0</td>\n",
       "      <td>1.0</td>\n",
       "    </tr>\n",
       "    <tr>\n",
       "      <th>1</th>\n",
       "      <td>2</td>\n",
       "      <td>1</td>\n",
       "      <td>1.0</td>\n",
       "    </tr>\n",
       "    <tr>\n",
       "      <th>2</th>\n",
       "      <td>2</td>\n",
       "      <td>2</td>\n",
       "      <td>1.0</td>\n",
       "    </tr>\n",
       "    <tr>\n",
       "      <th>3</th>\n",
       "      <td>2</td>\n",
       "      <td>3</td>\n",
       "      <td>1.0</td>\n",
       "    </tr>\n",
       "    <tr>\n",
       "      <th>4</th>\n",
       "      <td>2</td>\n",
       "      <td>4</td>\n",
       "      <td>1.0</td>\n",
       "    </tr>\n",
       "  </tbody>\n",
       "</table>\n",
       "</div>"
      ],
      "text/plain": [
       "   k  idx  ari\n",
       "0  2    0  1.0\n",
       "1  2    1  1.0\n",
       "2  2    2  1.0\n",
       "3  2    3  1.0\n",
       "4  2    4  1.0"
      ]
     },
     "execution_count": 56,
     "metadata": {},
     "output_type": "execute_result"
    }
   ],
   "source": [
    "parts_ari_df_plot.head()"
   ]
  },
  {
   "cell_type": "code",
   "execution_count": 57,
   "id": "bf572c4e",
   "metadata": {
    "execution": {
     "iopub.execute_input": "2022-09-13T16:53:44.519117Z",
     "iopub.status.busy": "2022-09-13T16:53:44.518906Z",
     "iopub.status.idle": "2022-09-13T16:53:47.363701Z",
     "shell.execute_reply": "2022-09-13T16:53:47.363106Z"
    },
    "papermill": {
     "duration": 2.867346,
     "end_time": "2022-09-13T16:53:47.365405",
     "exception": false,
     "start_time": "2022-09-13T16:53:44.498059",
     "status": "completed"
    },
    "tags": []
   },
   "outputs": [
    {
     "data": {
      "image/png": "[encoded data removed]",
      "text/plain": [
       "<Figure size 1008x432 with 1 Axes>"
      ]
     },
     "metadata": {},
     "output_type": "display_data"
    }
   ],
   "source": [
    "# with sns.axes_style('whitegrid', {'grid.linestyle': '--'}):\n",
    "with sns.plotting_context(\"talk\", font_scale=0.75), sns.axes_style(\n",
    "    \"whitegrid\", {\"grid.linestyle\": \"--\"}\n",
    "):\n",
    "    fig = plt.figure(figsize=(14, 6))\n",
    "    ax = sns.pointplot(data=parts_ari_df_plot, x=\"k\", y=\"ari\")\n",
    "    ax.set_ylabel(\"Averange ARI\")\n",
    "    ax.set_xlabel(\"Number of clusters ($k$)\")\n",
    "    ax.set_xticklabels(ax.get_xticklabels(), rotation=45)\n",
    "    #     ax.set_ylim(0.0, 1.0)\n",
    "    #     ax.set_xlim(CLUSTERING_OPTIONS['K_MIN'], CLUSTERING_OPTIONS['K_MAX'])\n",
    "    plt.grid(True)\n",
    "    plt.tight_layout()"
   ]
  },
  {
   "cell_type": "code",
   "execution_count": null,
   "id": "f0833b76",
   "metadata": {
    "papermill": {
     "duration": 0.046767,
     "end_time": "2022-09-13T16:53:47.434511",
     "exception": false,
     "start_time": "2022-09-13T16:53:47.387744",
     "status": "completed"
    },
    "tags": []
   },
   "outputs": [],
   "source": []
  }
 ],
 "metadata": {
  "jupytext": {
   "cell_metadata_filter": "all,-execution,-papermill,-trusted",
   "formats": "ipynb,py//py:percent"
  },
  "kernelspec": {
   "display_name": "Python 3 (ipykernel)",
   "language": "python",
   "name": "python3"
  },
  "language_info": {
   "codemirror_mode": {
    "name": "ipython",
    "version": 3
   },
   "file_extension": ".py",
   "mimetype": "text/x-python",
   "name": "python",
   "nbconvert_exporter": "python",
   "pygments_lexer": "ipython3",
   "version": "3.8.13"
  },
  "papermill": {
   "default_parameters": {},
   "duration": 741.149139,
   "end_time": "2022-09-13T16:53:47.775550",
   "environment_variables": {},
   "exception": null,
   "input_path": "nbs/13.1_cluster_analysis_null/11_02-spectral-umap.ipynb",
   "output_path": "nbs/13.1_cluster_analysis_null/11_02-spectral-umap.run.ipynb",
   "parameters": {},
   "start_time": "2022-09-13T16:41:26.626411",
   "version": "2.2.2"
  },
  "toc-autonumbering": true,
  "toc-showcode": false,
  "toc-showmarkdowntxt": false,
  "toc-showtags": false
 },
 "nbformat": 4,
 "nbformat_minor": 5
}
