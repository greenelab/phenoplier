{
 "cells": [
  {
   "cell_type": "markdown",
   "id": "a47b9956",
   "metadata": {
    "papermill": {
     "duration": 0.013877,
     "end_time": "2022-11-25T05:01:12.119017",
     "exception": false,
     "start_time": "2022-11-25T05:01:12.105140",
     "status": "completed"
    },
    "tags": []
   },
   "source": [
    "# Description"
   ]
  },
  {
   "cell_type": "markdown",
   "id": "a8f0575a",
   "metadata": {
    "papermill": {
     "duration": 0.0129,
     "end_time": "2022-11-25T05:01:12.145844",
     "exception": false,
     "start_time": "2022-11-25T05:01:12.132944",
     "status": "completed"
    },
    "tags": []
   },
   "source": [
    "Runs spectral clustering on the umap version of the data."
   ]
  },
  {
   "cell_type": "markdown",
   "id": "06369fb4",
   "metadata": {
    "papermill": {
     "duration": 0.01159,
     "end_time": "2022-11-25T05:01:12.170320",
     "exception": false,
     "start_time": "2022-11-25T05:01:12.158730",
     "status": "completed"
    },
    "tags": []
   },
   "source": [
    "# Environment variables"
   ]
  },
  {
   "cell_type": "code",
   "execution_count": 1,
   "id": "19d02540",
   "metadata": {
    "execution": {
     "iopub.execute_input": "2022-11-25T05:01:12.189249Z",
     "iopub.status.busy": "2022-11-25T05:01:12.188993Z",
     "iopub.status.idle": "2022-11-25T05:01:12.200593Z",
     "shell.execute_reply": "2022-11-25T05:01:12.200298Z"
    },
    "papermill": {
     "duration": 0.021366,
     "end_time": "2022-11-25T05:01:12.201391",
     "exception": false,
     "start_time": "2022-11-25T05:01:12.180025",
     "status": "completed"
    },
    "tags": []
   },
   "outputs": [
    {
     "data": {
      "text/plain": [
       "10"
      ]
     },
     "metadata": {},
     "output_type": "display_data"
    }
   ],
   "source": [
    "from IPython.display import display\n",
    "\n",
    "import conf\n",
    "\n",
    "N_JOBS = conf.GENERAL[\"N_JOBS\"]\n",
    "display(N_JOBS)"
   ]
  },
  {
   "cell_type": "code",
   "execution_count": 2,
   "id": "182ab093",
   "metadata": {
    "execution": {
     "iopub.execute_input": "2022-11-25T05:01:12.215109Z",
     "iopub.status.busy": "2022-11-25T05:01:12.215016Z",
     "iopub.status.idle": "2022-11-25T05:01:12.219017Z",
     "shell.execute_reply": "2022-11-25T05:01:12.218683Z"
    },
    "papermill": {
     "duration": 0.011796,
     "end_time": "2022-11-25T05:01:12.219752",
     "exception": false,
     "start_time": "2022-11-25T05:01:12.207956",
     "status": "completed"
    },
    "tags": []
   },
   "outputs": [
    {
     "name": "stdout",
     "output_type": "stream",
     "text": [
      "env: MKL_NUM_THREADS=10\n",
      "env: OPEN_BLAS_NUM_THREADS=10\n",
      "env: NUMEXPR_NUM_THREADS=10\n",
      "env: OMP_NUM_THREADS=10\n"
     ]
    }
   ],
   "source": [
    "%env MKL_NUM_THREADS=$N_JOBS\n",
    "%env OPEN_BLAS_NUM_THREADS=$N_JOBS\n",
    "%env NUMEXPR_NUM_THREADS=$N_JOBS\n",
    "%env OMP_NUM_THREADS=$N_JOBS"
   ]
  },
  {
   "cell_type": "markdown",
   "id": "6b1a2f0b",
   "metadata": {
    "papermill": {
     "duration": 0.006927,
     "end_time": "2022-11-25T05:01:12.233199",
     "exception": false,
     "start_time": "2022-11-25T05:01:12.226272",
     "status": "completed"
    },
    "tags": []
   },
   "source": [
    "# Modules loading"
   ]
  },
  {
   "cell_type": "code",
   "execution_count": 3,
   "id": "db1bd26a",
   "metadata": {
    "execution": {
     "iopub.execute_input": "2022-11-25T05:01:12.247654Z",
     "iopub.status.busy": "2022-11-25T05:01:12.247263Z",
     "iopub.status.idle": "2022-11-25T05:01:12.258059Z",
     "shell.execute_reply": "2022-11-25T05:01:12.257716Z"
    },
    "papermill": {
     "duration": 0.018614,
     "end_time": "2022-11-25T05:01:12.258795",
     "exception": false,
     "start_time": "2022-11-25T05:01:12.240181",
     "status": "completed"
    },
    "tags": []
   },
   "outputs": [],
   "source": [
    "%load_ext autoreload\n",
    "%autoreload 2"
   ]
  },
  {
   "cell_type": "code",
   "execution_count": 4,
   "id": "ebffcc6b",
   "metadata": {
    "execution": {
     "iopub.execute_input": "2022-11-25T05:01:12.272749Z",
     "iopub.status.busy": "2022-11-25T05:01:12.272386Z",
     "iopub.status.idle": "2022-11-25T05:01:12.747087Z",
     "shell.execute_reply": "2022-11-25T05:01:12.746750Z"
    },
    "papermill": {
     "duration": 0.483321,
     "end_time": "2022-11-25T05:01:12.748694",
     "exception": false,
     "start_time": "2022-11-25T05:01:12.265373",
     "status": "completed"
    },
    "tags": []
   },
   "outputs": [],
   "source": [
    "from pathlib import Path\n",
    "\n",
    "import numpy as np\n",
    "import pandas as pd\n",
    "import matplotlib.pyplot as plt\n",
    "import seaborn as sns\n",
    "\n",
    "from utils import generate_result_set_name"
   ]
  },
  {
   "cell_type": "markdown",
   "id": "dc188188",
   "metadata": {
    "papermill": {
     "duration": 0.012834,
     "end_time": "2022-11-25T05:01:12.775723",
     "exception": false,
     "start_time": "2022-11-25T05:01:12.762889",
     "status": "completed"
    },
    "tags": []
   },
   "source": [
    "# Settings"
   ]
  },
  {
   "cell_type": "code",
   "execution_count": 5,
   "id": "3536c43e",
   "metadata": {
    "execution": {
     "iopub.execute_input": "2022-11-25T05:01:12.802633Z",
     "iopub.status.busy": "2022-11-25T05:01:12.802542Z",
     "iopub.status.idle": "2022-11-25T05:01:12.813642Z",
     "shell.execute_reply": "2022-11-25T05:01:12.813351Z"
    },
    "papermill": {
     "duration": 0.026141,
     "end_time": "2022-11-25T05:01:12.814857",
     "exception": false,
     "start_time": "2022-11-25T05:01:12.788716",
     "status": "completed"
    },
    "tags": []
   },
   "outputs": [],
   "source": [
    "np.random.seed(0)"
   ]
  },
  {
   "cell_type": "code",
   "execution_count": 6,
   "id": "4c2a2bc1",
   "metadata": {
    "execution": {
     "iopub.execute_input": "2022-11-25T05:01:12.865771Z",
     "iopub.status.busy": "2022-11-25T05:01:12.865354Z",
     "iopub.status.idle": "2022-11-25T05:01:12.877608Z",
     "shell.execute_reply": "2022-11-25T05:01:12.877368Z"
    },
    "papermill": {
     "duration": 0.022749,
     "end_time": "2022-11-25T05:01:12.878485",
     "exception": false,
     "start_time": "2022-11-25T05:01:12.855736",
     "status": "completed"
    },
    "tags": []
   },
   "outputs": [],
   "source": [
    "INITIAL_RANDOM_STATE = 50000"
   ]
  },
  {
   "cell_type": "code",
   "execution_count": 7,
   "id": "934bc949-b729-4ed3-b158-e5950ee149c1",
   "metadata": {
    "execution": {
     "iopub.execute_input": "2022-11-25T05:01:12.893369Z",
     "iopub.status.busy": "2022-11-25T05:01:12.893142Z",
     "iopub.status.idle": "2022-11-25T05:01:12.904336Z",
     "shell.execute_reply": "2022-11-25T05:01:12.904043Z"
    },
    "papermill": {
     "duration": 0.019063,
     "end_time": "2022-11-25T05:01:12.905201",
     "exception": false,
     "start_time": "2022-11-25T05:01:12.886138",
     "status": "completed"
    },
    "tags": []
   },
   "outputs": [],
   "source": [
    "NULL_DIR = conf.RESULTS[\"CLUSTERING_NULL_DIR\"] / \"shuffle_genes\""
   ]
  },
  {
   "cell_type": "markdown",
   "id": "08db3b29",
   "metadata": {
    "papermill": {
     "duration": 0.006535,
     "end_time": "2022-11-25T05:01:12.918586",
     "exception": false,
     "start_time": "2022-11-25T05:01:12.912051",
     "status": "completed"
    },
    "tags": []
   },
   "source": [
    "## Input data"
   ]
  },
  {
   "cell_type": "code",
   "execution_count": 8,
   "id": "d45f9ea2",
   "metadata": {
    "execution": {
     "iopub.execute_input": "2022-11-25T05:01:12.932775Z",
     "iopub.status.busy": "2022-11-25T05:01:12.932540Z",
     "iopub.status.idle": "2022-11-25T05:01:12.944094Z",
     "shell.execute_reply": "2022-11-25T05:01:12.943746Z"
    },
    "papermill": {
     "duration": 0.0195,
     "end_time": "2022-11-25T05:01:12.945023",
     "exception": false,
     "start_time": "2022-11-25T05:01:12.925523",
     "status": "completed"
    },
    "tags": []
   },
   "outputs": [],
   "source": [
    "INPUT_SUBSET = \"umap\""
   ]
  },
  {
   "cell_type": "code",
   "execution_count": 9,
   "id": "26f5101f",
   "metadata": {
    "execution": {
     "iopub.execute_input": "2022-11-25T05:01:12.959387Z",
     "iopub.status.busy": "2022-11-25T05:01:12.959180Z",
     "iopub.status.idle": "2022-11-25T05:01:12.970332Z",
     "shell.execute_reply": "2022-11-25T05:01:12.970036Z"
    },
    "papermill": {
     "duration": 0.019134,
     "end_time": "2022-11-25T05:01:12.971174",
     "exception": false,
     "start_time": "2022-11-25T05:01:12.952040",
     "status": "completed"
    },
    "tags": []
   },
   "outputs": [],
   "source": [
    "INPUT_STEM = \"z_score_std-projection-smultixcan-efo_partial-mashr-zscores\""
   ]
  },
  {
   "cell_type": "code",
   "execution_count": 10,
   "id": "87b8be80",
   "metadata": {
    "execution": {
     "iopub.execute_input": "2022-11-25T05:01:12.985079Z",
     "iopub.status.busy": "2022-11-25T05:01:12.984877Z",
     "iopub.status.idle": "2022-11-25T05:01:12.995976Z",
     "shell.execute_reply": "2022-11-25T05:01:12.995680Z"
    },
    "papermill": {
     "duration": 0.018919,
     "end_time": "2022-11-25T05:01:12.996832",
     "exception": false,
     "start_time": "2022-11-25T05:01:12.977913",
     "status": "completed"
    },
    "tags": []
   },
   "outputs": [],
   "source": [
    "DR_OPTIONS = {\n",
    "    \"n_components\": 50,\n",
    "    \"metric\": \"euclidean\",\n",
    "    \"n_neighbors\": 15,\n",
    "    \"random_state\": 0,\n",
    "}"
   ]
  },
  {
   "cell_type": "code",
   "execution_count": 11,
   "id": "27e5ec3a",
   "metadata": {
    "execution": {
     "iopub.execute_input": "2022-11-25T05:01:13.011145Z",
     "iopub.status.busy": "2022-11-25T05:01:13.011050Z",
     "iopub.status.idle": "2022-11-25T05:01:13.024974Z",
     "shell.execute_reply": "2022-11-25T05:01:13.024658Z"
    },
    "papermill": {
     "duration": 0.022159,
     "end_time": "2022-11-25T05:01:13.025795",
     "exception": false,
     "start_time": "2022-11-25T05:01:13.003636",
     "status": "completed"
    },
    "tags": []
   },
   "outputs": [
    {
     "data": {
      "text/plain": [
       "PosixPath('/opt/data/results/clustering/null_sims/shuffle_genes/data_transformations/umap/umap-z_score_std-projection-smultixcan-efo_partial-mashr-zscores-metric_euclidean-n_components_50-n_neighbors_15-random_state_0.pkl')"
      ]
     },
     "metadata": {},
     "output_type": "display_data"
    },
    {
     "data": {
      "text/plain": [
       "'umap-z_score_std-projection-smultixcan-efo_partial-mashr-zscores-metric_euclidean-n_components_50-n_neighbors_15-random_state_0'"
      ]
     },
     "metadata": {},
     "output_type": "display_data"
    }
   ],
   "source": [
    "input_filepath = Path(\n",
    "    NULL_DIR,\n",
    "    \"data_transformations\",\n",
    "    INPUT_SUBSET,\n",
    "    generate_result_set_name(\n",
    "        DR_OPTIONS, prefix=f\"{INPUT_SUBSET}-{INPUT_STEM}-\", suffix=\".pkl\"\n",
    "    ),\n",
    ").resolve()\n",
    "display(input_filepath)\n",
    "\n",
    "assert input_filepath.exists(), \"Input file does not exist\"\n",
    "\n",
    "input_filepath_stem = input_filepath.stem\n",
    "display(input_filepath_stem)"
   ]
  },
  {
   "cell_type": "markdown",
   "id": "53d85f4a",
   "metadata": {
    "papermill": {
     "duration": 0.006583,
     "end_time": "2022-11-25T05:01:13.039377",
     "exception": false,
     "start_time": "2022-11-25T05:01:13.032794",
     "status": "completed"
    },
    "tags": []
   },
   "source": [
    "## Clustering"
   ]
  },
  {
   "cell_type": "code",
   "execution_count": 12,
   "id": "0c33b061",
   "metadata": {
    "execution": {
     "iopub.execute_input": "2022-11-25T05:01:13.054185Z",
     "iopub.status.busy": "2022-11-25T05:01:13.053882Z",
     "iopub.status.idle": "2022-11-25T05:01:13.115488Z",
     "shell.execute_reply": "2022-11-25T05:01:13.115156Z"
    },
    "papermill": {
     "duration": 0.06995,
     "end_time": "2022-11-25T05:01:13.116590",
     "exception": false,
     "start_time": "2022-11-25T05:01:13.046640",
     "status": "completed"
    },
    "tags": []
   },
   "outputs": [],
   "source": [
    "from sklearn.cluster import SpectralClustering"
   ]
  },
  {
   "cell_type": "code",
   "execution_count": 13,
   "id": "65c45515",
   "metadata": {
    "execution": {
     "iopub.execute_input": "2022-11-25T05:01:13.131735Z",
     "iopub.status.busy": "2022-11-25T05:01:13.131420Z",
     "iopub.status.idle": "2022-11-25T05:01:13.144153Z",
     "shell.execute_reply": "2022-11-25T05:01:13.143796Z"
    },
    "papermill": {
     "duration": 0.021374,
     "end_time": "2022-11-25T05:01:13.145101",
     "exception": false,
     "start_time": "2022-11-25T05:01:13.123727",
     "status": "completed"
    },
    "tags": []
   },
   "outputs": [],
   "source": [
    "CLUSTERING_ATTRIBUTES_TO_SAVE = [\"n_clusters\"]"
   ]
  },
  {
   "cell_type": "code",
   "execution_count": 14,
   "id": "8d55b4be",
   "metadata": {
    "execution": {
     "iopub.execute_input": "2022-11-25T05:01:13.159479Z",
     "iopub.status.busy": "2022-11-25T05:01:13.159277Z",
     "iopub.status.idle": "2022-11-25T05:01:13.172978Z",
     "shell.execute_reply": "2022-11-25T05:01:13.172626Z"
    },
    "papermill": {
     "duration": 0.021626,
     "end_time": "2022-11-25T05:01:13.173797",
     "exception": false,
     "start_time": "2022-11-25T05:01:13.152171",
     "status": "completed"
    },
    "tags": []
   },
   "outputs": [
    {
     "data": {
      "text/plain": [
       "{'K_MIN': 2,\n",
       " 'K_MAX': 60,\n",
       " 'N_REPS_PER_K': 5,\n",
       " 'KMEANS_N_INIT': 10,\n",
       " 'GAMMA': 0.01,\n",
       " 'AFFINITY': 'rbf'}"
      ]
     },
     "metadata": {},
     "output_type": "display_data"
    }
   ],
   "source": [
    "CLUSTERING_OPTIONS = {}\n",
    "\n",
    "CLUSTERING_OPTIONS[\"K_MIN\"] = 2\n",
    "CLUSTERING_OPTIONS[\"K_MAX\"] = 60  # sqrt(3749)\n",
    "CLUSTERING_OPTIONS[\"N_REPS_PER_K\"] = 5\n",
    "CLUSTERING_OPTIONS[\"KMEANS_N_INIT\"] = 10\n",
    "CLUSTERING_OPTIONS[\"GAMMA\"] = 1.0e-02\n",
    "CLUSTERING_OPTIONS[\"AFFINITY\"] = \"rbf\"\n",
    "\n",
    "display(CLUSTERING_OPTIONS)"
   ]
  },
  {
   "cell_type": "code",
   "execution_count": 15,
   "id": "856adaad",
   "metadata": {
    "execution": {
     "iopub.execute_input": "2022-11-25T05:01:13.188604Z",
     "iopub.status.busy": "2022-11-25T05:01:13.188347Z",
     "iopub.status.idle": "2022-11-25T05:01:13.202506Z",
     "shell.execute_reply": "2022-11-25T05:01:13.202210Z"
    },
    "papermill": {
     "duration": 0.02214,
     "end_time": "2022-11-25T05:01:13.203351",
     "exception": false,
     "start_time": "2022-11-25T05:01:13.181211",
     "status": "completed"
    },
    "tags": []
   },
   "outputs": [],
   "source": [
    "CLUSTERERS = {}\n",
    "\n",
    "idx = 0\n",
    "random_state = INITIAL_RANDOM_STATE\n",
    "\n",
    "for k in range(CLUSTERING_OPTIONS[\"K_MIN\"], CLUSTERING_OPTIONS[\"K_MAX\"] + 1):\n",
    "    for i in range(CLUSTERING_OPTIONS[\"N_REPS_PER_K\"]):\n",
    "        clus = SpectralClustering(\n",
    "            eigen_solver=\"arpack\",\n",
    "            n_clusters=k,\n",
    "            n_init=CLUSTERING_OPTIONS[\"KMEANS_N_INIT\"],\n",
    "            affinity=CLUSTERING_OPTIONS[\"AFFINITY\"],\n",
    "            gamma=CLUSTERING_OPTIONS[\"GAMMA\"],\n",
    "            random_state=random_state,\n",
    "        )\n",
    "\n",
    "        method_name = type(clus).__name__\n",
    "        CLUSTERERS[f\"{method_name} #{idx}\"] = clus\n",
    "\n",
    "        random_state = random_state + 1\n",
    "        idx = idx + 1"
   ]
  },
  {
   "cell_type": "code",
   "execution_count": 16,
   "id": "e48b89af",
   "metadata": {
    "execution": {
     "iopub.execute_input": "2022-11-25T05:01:13.217740Z",
     "iopub.status.busy": "2022-11-25T05:01:13.217470Z",
     "iopub.status.idle": "2022-11-25T05:01:13.230046Z",
     "shell.execute_reply": "2022-11-25T05:01:13.229752Z"
    },
    "papermill": {
     "duration": 0.020513,
     "end_time": "2022-11-25T05:01:13.230861",
     "exception": false,
     "start_time": "2022-11-25T05:01:13.210348",
     "status": "completed"
    },
    "tags": []
   },
   "outputs": [
    {
     "data": {
      "text/plain": [
       "295"
      ]
     },
     "metadata": {},
     "output_type": "display_data"
    }
   ],
   "source": [
    "display(len(CLUSTERERS))"
   ]
  },
  {
   "cell_type": "code",
   "execution_count": 17,
   "id": "de496eae",
   "metadata": {
    "execution": {
     "iopub.execute_input": "2022-11-25T05:01:13.245771Z",
     "iopub.status.busy": "2022-11-25T05:01:13.245672Z",
     "iopub.status.idle": "2022-11-25T05:01:13.260311Z",
     "shell.execute_reply": "2022-11-25T05:01:13.260017Z"
    },
    "papermill": {
     "duration": 0.022766,
     "end_time": "2022-11-25T05:01:13.261139",
     "exception": false,
     "start_time": "2022-11-25T05:01:13.238373",
     "status": "completed"
    },
    "tags": []
   },
   "outputs": [
    {
     "data": {
      "text/plain": [
       "('SpectralClustering #0',\n",
       " SpectralClustering(eigen_solver='arpack', gamma=0.01, n_clusters=2,\n",
       "                    random_state=50000))"
      ]
     },
     "metadata": {},
     "output_type": "display_data"
    },
    {
     "data": {
      "text/plain": [
       "('SpectralClustering #1',\n",
       " SpectralClustering(eigen_solver='arpack', gamma=0.01, n_clusters=2,\n",
       "                    random_state=50001))"
      ]
     },
     "metadata": {},
     "output_type": "display_data"
    }
   ],
   "source": [
    "_iter = iter(CLUSTERERS.items())\n",
    "display(next(_iter))\n",
    "display(next(_iter))"
   ]
  },
  {
   "cell_type": "code",
   "execution_count": 18,
   "id": "31673d0d",
   "metadata": {
    "execution": {
     "iopub.execute_input": "2022-11-25T05:01:13.276365Z",
     "iopub.status.busy": "2022-11-25T05:01:13.276228Z",
     "iopub.status.idle": "2022-11-25T05:01:13.289351Z",
     "shell.execute_reply": "2022-11-25T05:01:13.289060Z"
    },
    "papermill": {
     "duration": 0.021658,
     "end_time": "2022-11-25T05:01:13.290154",
     "exception": false,
     "start_time": "2022-11-25T05:01:13.268496",
     "status": "completed"
    },
    "tags": []
   },
   "outputs": [
    {
     "data": {
      "text/plain": [
       "'SpectralClustering'"
      ]
     },
     "metadata": {},
     "output_type": "display_data"
    }
   ],
   "source": [
    "clustering_method_name = method_name\n",
    "display(clustering_method_name)"
   ]
  },
  {
   "cell_type": "markdown",
   "id": "6ad58de5",
   "metadata": {
    "papermill": {
     "duration": 0.006915,
     "end_time": "2022-11-25T05:01:13.304315",
     "exception": false,
     "start_time": "2022-11-25T05:01:13.297400",
     "status": "completed"
    },
    "tags": []
   },
   "source": [
    "## Output directory"
   ]
  },
  {
   "cell_type": "code",
   "execution_count": 19,
   "id": "fcaf3100",
   "metadata": {
    "execution": {
     "iopub.execute_input": "2022-11-25T05:01:13.319365Z",
     "iopub.status.busy": "2022-11-25T05:01:13.319074Z",
     "iopub.status.idle": "2022-11-25T05:01:13.332760Z",
     "shell.execute_reply": "2022-11-25T05:01:13.332395Z"
    },
    "papermill": {
     "duration": 0.02194,
     "end_time": "2022-11-25T05:01:13.333608",
     "exception": false,
     "start_time": "2022-11-25T05:01:13.311668",
     "status": "completed"
    },
    "tags": []
   },
   "outputs": [
    {
     "data": {
      "text/plain": [
       "PosixPath('/opt/data/results/clustering/null_sims/shuffle_genes/runs/umap-z_score_std-projection-smultixcan-efo_partial-mashr-zscores')"
      ]
     },
     "metadata": {},
     "output_type": "display_data"
    }
   ],
   "source": [
    "# output dir for this notebook\n",
    "RESULTS_DIR = Path(\n",
    "    NULL_DIR,\n",
    "    \"runs\",\n",
    "    f\"{INPUT_SUBSET}-{INPUT_STEM}\",\n",
    ").resolve()\n",
    "RESULTS_DIR.mkdir(parents=True, exist_ok=True)\n",
    "\n",
    "display(RESULTS_DIR)"
   ]
  },
  {
   "cell_type": "markdown",
   "id": "e91b7939",
   "metadata": {
    "papermill": {
     "duration": 0.007244,
     "end_time": "2022-11-25T05:01:13.348157",
     "exception": false,
     "start_time": "2022-11-25T05:01:13.340913",
     "status": "completed"
    },
    "tags": []
   },
   "source": [
    "# Load input file"
   ]
  },
  {
   "cell_type": "code",
   "execution_count": 20,
   "id": "70ed03b4",
   "metadata": {
    "execution": {
     "iopub.execute_input": "2022-11-25T05:01:13.362795Z",
     "iopub.status.busy": "2022-11-25T05:01:13.362573Z",
     "iopub.status.idle": "2022-11-25T05:01:13.376616Z",
     "shell.execute_reply": "2022-11-25T05:01:13.376293Z"
    },
    "papermill": {
     "duration": 0.022348,
     "end_time": "2022-11-25T05:01:13.377542",
     "exception": false,
     "start_time": "2022-11-25T05:01:13.355194",
     "status": "completed"
    },
    "tags": []
   },
   "outputs": [],
   "source": [
    "data = pd.read_pickle(input_filepath)"
   ]
  },
  {
   "cell_type": "code",
   "execution_count": 21,
   "id": "6eb4728e",
   "metadata": {
    "execution": {
     "iopub.execute_input": "2022-11-25T05:01:13.393191Z",
     "iopub.status.busy": "2022-11-25T05:01:13.392897Z",
     "iopub.status.idle": "2022-11-25T05:01:13.406234Z",
     "shell.execute_reply": "2022-11-25T05:01:13.405903Z"
    },
    "papermill": {
     "duration": 0.021795,
     "end_time": "2022-11-25T05:01:13.407067",
     "exception": false,
     "start_time": "2022-11-25T05:01:13.385272",
     "status": "completed"
    },
    "tags": []
   },
   "outputs": [
    {
     "data": {
      "text/plain": [
       "(3752, 50)"
      ]
     },
     "execution_count": 21,
     "metadata": {},
     "output_type": "execute_result"
    }
   ],
   "source": [
    "data.shape"
   ]
  },
  {
   "cell_type": "code",
   "execution_count": 22,
   "id": "cfb6497a",
   "metadata": {
    "execution": {
     "iopub.execute_input": "2022-11-25T05:01:13.422311Z",
     "iopub.status.busy": "2022-11-25T05:01:13.422024Z",
     "iopub.status.idle": "2022-11-25T05:01:13.444944Z",
     "shell.execute_reply": "2022-11-25T05:01:13.444595Z"
    },
    "papermill": {
     "duration": 0.031158,
     "end_time": "2022-11-25T05:01:13.445774",
     "exception": false,
     "start_time": "2022-11-25T05:01:13.414616",
     "status": "completed"
    },
    "tags": []
   },
   "outputs": [
    {
     "data": {
      "text/html": [
       "<div>\n",
       "<style scoped>\n",
       "    .dataframe tbody tr th:only-of-type {\n",
       "        vertical-align: middle;\n",
       "    }\n",
       "\n",
       "    .dataframe tbody tr th {\n",
       "        vertical-align: top;\n",
       "    }\n",
       "\n",
       "    .dataframe thead th {\n",
       "        text-align: right;\n",
       "    }\n",
       "</style>\n",
       "<table border=\"1\" class=\"dataframe\">\n",
       "  <thead>\n",
       "    <tr style=\"text-align: right;\">\n",
       "      <th></th>\n",
       "      <th>UMAP1</th>\n",
       "      <th>UMAP2</th>\n",
       "      <th>UMAP3</th>\n",
       "      <th>UMAP4</th>\n",
       "      <th>UMAP5</th>\n",
       "      <th>UMAP6</th>\n",
       "      <th>UMAP7</th>\n",
       "      <th>UMAP8</th>\n",
       "      <th>UMAP9</th>\n",
       "      <th>UMAP10</th>\n",
       "      <th>...</th>\n",
       "      <th>UMAP41</th>\n",
       "      <th>UMAP42</th>\n",
       "      <th>UMAP43</th>\n",
       "      <th>UMAP44</th>\n",
       "      <th>UMAP45</th>\n",
       "      <th>UMAP46</th>\n",
       "      <th>UMAP47</th>\n",
       "      <th>UMAP48</th>\n",
       "      <th>UMAP49</th>\n",
       "      <th>UMAP50</th>\n",
       "    </tr>\n",
       "  </thead>\n",
       "  <tbody>\n",
       "    <tr>\n",
       "      <th>100001_raw-Food_weight</th>\n",
       "      <td>3.507164</td>\n",
       "      <td>4.783988</td>\n",
       "      <td>2.721716</td>\n",
       "      <td>5.306452</td>\n",
       "      <td>3.881773</td>\n",
       "      <td>3.321169</td>\n",
       "      <td>4.960411</td>\n",
       "      <td>5.549141</td>\n",
       "      <td>4.841390</td>\n",
       "      <td>3.194715</td>\n",
       "      <td>...</td>\n",
       "      <td>9.187434</td>\n",
       "      <td>2.469095</td>\n",
       "      <td>1.234505</td>\n",
       "      <td>9.594598</td>\n",
       "      <td>0.333957</td>\n",
       "      <td>8.039461</td>\n",
       "      <td>5.482632</td>\n",
       "      <td>4.958725</td>\n",
       "      <td>2.801697</td>\n",
       "      <td>5.658304</td>\n",
       "    </tr>\n",
       "    <tr>\n",
       "      <th>100002_raw-Energy</th>\n",
       "      <td>3.606311</td>\n",
       "      <td>4.727725</td>\n",
       "      <td>2.704979</td>\n",
       "      <td>5.271563</td>\n",
       "      <td>3.724591</td>\n",
       "      <td>3.337485</td>\n",
       "      <td>4.781901</td>\n",
       "      <td>5.599291</td>\n",
       "      <td>4.791382</td>\n",
       "      <td>3.003243</td>\n",
       "      <td>...</td>\n",
       "      <td>9.121886</td>\n",
       "      <td>2.506307</td>\n",
       "      <td>1.227272</td>\n",
       "      <td>9.574743</td>\n",
       "      <td>0.344036</td>\n",
       "      <td>8.037237</td>\n",
       "      <td>5.477282</td>\n",
       "      <td>4.900286</td>\n",
       "      <td>2.729573</td>\n",
       "      <td>5.601664</td>\n",
       "    </tr>\n",
       "    <tr>\n",
       "      <th>100003_raw-Protein</th>\n",
       "      <td>3.594661</td>\n",
       "      <td>4.729409</td>\n",
       "      <td>2.682754</td>\n",
       "      <td>5.218021</td>\n",
       "      <td>3.652642</td>\n",
       "      <td>3.325793</td>\n",
       "      <td>4.771183</td>\n",
       "      <td>5.580573</td>\n",
       "      <td>4.820001</td>\n",
       "      <td>3.022622</td>\n",
       "      <td>...</td>\n",
       "      <td>9.097627</td>\n",
       "      <td>2.484138</td>\n",
       "      <td>1.221946</td>\n",
       "      <td>9.572356</td>\n",
       "      <td>0.339655</td>\n",
       "      <td>8.043584</td>\n",
       "      <td>5.472909</td>\n",
       "      <td>4.895183</td>\n",
       "      <td>2.765254</td>\n",
       "      <td>5.663905</td>\n",
       "    </tr>\n",
       "    <tr>\n",
       "      <th>100004_raw-Fat</th>\n",
       "      <td>3.459632</td>\n",
       "      <td>4.797582</td>\n",
       "      <td>2.755155</td>\n",
       "      <td>5.230875</td>\n",
       "      <td>3.784350</td>\n",
       "      <td>3.366962</td>\n",
       "      <td>4.942765</td>\n",
       "      <td>5.604582</td>\n",
       "      <td>4.731943</td>\n",
       "      <td>3.045358</td>\n",
       "      <td>...</td>\n",
       "      <td>9.124997</td>\n",
       "      <td>2.587374</td>\n",
       "      <td>1.199794</td>\n",
       "      <td>9.633430</td>\n",
       "      <td>0.286029</td>\n",
       "      <td>8.071218</td>\n",
       "      <td>5.476699</td>\n",
       "      <td>4.869335</td>\n",
       "      <td>2.766068</td>\n",
       "      <td>5.523112</td>\n",
       "    </tr>\n",
       "    <tr>\n",
       "      <th>100005_raw-Carbohydrate</th>\n",
       "      <td>3.436945</td>\n",
       "      <td>4.827942</td>\n",
       "      <td>2.761039</td>\n",
       "      <td>5.268426</td>\n",
       "      <td>4.005526</td>\n",
       "      <td>3.357875</td>\n",
       "      <td>5.036726</td>\n",
       "      <td>5.545567</td>\n",
       "      <td>4.842803</td>\n",
       "      <td>3.282768</td>\n",
       "      <td>...</td>\n",
       "      <td>9.181946</td>\n",
       "      <td>2.513265</td>\n",
       "      <td>1.200227</td>\n",
       "      <td>9.631493</td>\n",
       "      <td>0.349085</td>\n",
       "      <td>8.032649</td>\n",
       "      <td>5.486337</td>\n",
       "      <td>4.947569</td>\n",
       "      <td>2.811798</td>\n",
       "      <td>5.677997</td>\n",
       "    </tr>\n",
       "  </tbody>\n",
       "</table>\n",
       "<p>5 rows × 50 columns</p>\n",
       "</div>"
      ],
      "text/plain": [
       "                            UMAP1     UMAP2     UMAP3     UMAP4     UMAP5  \\\n",
       "100001_raw-Food_weight   3.507164  4.783988  2.721716  5.306452  3.881773   \n",
       "100002_raw-Energy        3.606311  4.727725  2.704979  5.271563  3.724591   \n",
       "100003_raw-Protein       3.594661  4.729409  2.682754  5.218021  3.652642   \n",
       "100004_raw-Fat           3.459632  4.797582  2.755155  5.230875  3.784350   \n",
       "100005_raw-Carbohydrate  3.436945  4.827942  2.761039  5.268426  4.005526   \n",
       "\n",
       "                            UMAP6     UMAP7     UMAP8     UMAP9    UMAP10  \\\n",
       "100001_raw-Food_weight   3.321169  4.960411  5.549141  4.841390  3.194715   \n",
       "100002_raw-Energy        3.337485  4.781901  5.599291  4.791382  3.003243   \n",
       "100003_raw-Protein       3.325793  4.771183  5.580573  4.820001  3.022622   \n",
       "100004_raw-Fat           3.366962  4.942765  5.604582  4.731943  3.045358   \n",
       "100005_raw-Carbohydrate  3.357875  5.036726  5.545567  4.842803  3.282768   \n",
       "\n",
       "                         ...    UMAP41    UMAP42    UMAP43    UMAP44  \\\n",
       "100001_raw-Food_weight   ...  9.187434  2.469095  1.234505  9.594598   \n",
       "100002_raw-Energy        ...  9.121886  2.506307  1.227272  9.574743   \n",
       "100003_raw-Protein       ...  9.097627  2.484138  1.221946  9.572356   \n",
       "100004_raw-Fat           ...  9.124997  2.587374  1.199794  9.633430   \n",
       "100005_raw-Carbohydrate  ...  9.181946  2.513265  1.200227  9.631493   \n",
       "\n",
       "                           UMAP45    UMAP46    UMAP47    UMAP48    UMAP49  \\\n",
       "100001_raw-Food_weight   0.333957  8.039461  5.482632  4.958725  2.801697   \n",
       "100002_raw-Energy        0.344036  8.037237  5.477282  4.900286  2.729573   \n",
       "100003_raw-Protein       0.339655  8.043584  5.472909  4.895183  2.765254   \n",
       "100004_raw-Fat           0.286029  8.071218  5.476699  4.869335  2.766068   \n",
       "100005_raw-Carbohydrate  0.349085  8.032649  5.486337  4.947569  2.811798   \n",
       "\n",
       "                           UMAP50  \n",
       "100001_raw-Food_weight   5.658304  \n",
       "100002_raw-Energy        5.601664  \n",
       "100003_raw-Protein       5.663905  \n",
       "100004_raw-Fat           5.523112  \n",
       "100005_raw-Carbohydrate  5.677997  \n",
       "\n",
       "[5 rows x 50 columns]"
      ]
     },
     "execution_count": 22,
     "metadata": {},
     "output_type": "execute_result"
    }
   ],
   "source": [
    "data.head()"
   ]
  },
  {
   "cell_type": "code",
   "execution_count": 23,
   "id": "c981f57a",
   "metadata": {
    "execution": {
     "iopub.execute_input": "2022-11-25T05:01:13.461906Z",
     "iopub.status.busy": "2022-11-25T05:01:13.461666Z",
     "iopub.status.idle": "2022-11-25T05:01:13.474913Z",
     "shell.execute_reply": "2022-11-25T05:01:13.474611Z"
    },
    "papermill": {
     "duration": 0.021869,
     "end_time": "2022-11-25T05:01:13.475813",
     "exception": false,
     "start_time": "2022-11-25T05:01:13.453944",
     "status": "completed"
    },
    "tags": []
   },
   "outputs": [],
   "source": [
    "assert not data.isna().any().any()"
   ]
  },
  {
   "cell_type": "markdown",
   "id": "294973b0",
   "metadata": {
    "papermill": {
     "duration": 0.007104,
     "end_time": "2022-11-25T05:01:13.490749",
     "exception": false,
     "start_time": "2022-11-25T05:01:13.483645",
     "status": "completed"
    },
    "tags": []
   },
   "source": [
    "# Clustering"
   ]
  },
  {
   "cell_type": "markdown",
   "id": "870e2e33",
   "metadata": {
    "papermill": {
     "duration": 0.007348,
     "end_time": "2022-11-25T05:01:13.505246",
     "exception": false,
     "start_time": "2022-11-25T05:01:13.497898",
     "status": "completed"
    },
    "tags": []
   },
   "source": [
    "## Generate ensemble"
   ]
  },
  {
   "cell_type": "code",
   "execution_count": 24,
   "id": "86b459ec",
   "metadata": {
    "execution": {
     "iopub.execute_input": "2022-11-25T05:01:13.520245Z",
     "iopub.status.busy": "2022-11-25T05:01:13.520107Z",
     "iopub.status.idle": "2022-11-25T05:01:13.535354Z",
     "shell.execute_reply": "2022-11-25T05:01:13.535049Z"
    },
    "papermill": {
     "duration": 0.023863,
     "end_time": "2022-11-25T05:01:13.536306",
     "exception": false,
     "start_time": "2022-11-25T05:01:13.512443",
     "status": "completed"
    },
    "tags": []
   },
   "outputs": [],
   "source": [
    "from clustering.ensembles.utils import generate_ensemble"
   ]
  },
  {
   "cell_type": "code",
   "execution_count": 25,
   "id": "b0aca632",
   "metadata": {
    "execution": {
     "iopub.execute_input": "2022-11-25T05:01:13.552097Z",
     "iopub.status.busy": "2022-11-25T05:01:13.551840Z",
     "iopub.status.idle": "2022-11-25T05:08:11.633674Z",
     "shell.execute_reply": "2022-11-25T05:08:11.633231Z"
    },
    "papermill": {
     "duration": 418.090878,
     "end_time": "2022-11-25T05:08:11.635014",
     "exception": false,
     "start_time": "2022-11-25T05:01:13.544136",
     "status": "completed"
    },
    "tags": []
   },
   "outputs": [
    {
     "name": "stderr",
     "output_type": "stream",
     "text": [
      "100%|██████████| 295/295 [06:58<00:00,  1.42s/it]\n"
     ]
    }
   ],
   "source": [
    "ensemble = generate_ensemble(\n",
    "    data,\n",
    "    CLUSTERERS,\n",
    "    attributes=CLUSTERING_ATTRIBUTES_TO_SAVE,\n",
    ")"
   ]
  },
  {
   "cell_type": "code",
   "execution_count": 26,
   "id": "132c1216",
   "metadata": {
    "execution": {
     "iopub.execute_input": "2022-11-25T05:08:11.698108Z",
     "iopub.status.busy": "2022-11-25T05:08:11.697882Z",
     "iopub.status.idle": "2022-11-25T05:08:11.711544Z",
     "shell.execute_reply": "2022-11-25T05:08:11.711168Z"
    },
    "papermill": {
     "duration": 0.046824,
     "end_time": "2022-11-25T05:08:11.712796",
     "exception": false,
     "start_time": "2022-11-25T05:08:11.665972",
     "status": "completed"
    },
    "tags": []
   },
   "outputs": [
    {
     "data": {
      "text/plain": [
       "(295, 3)"
      ]
     },
     "execution_count": 26,
     "metadata": {},
     "output_type": "execute_result"
    }
   ],
   "source": [
    "# the number should be close to 295 (the number of partitions generated by k-means/spectral clustering)\n",
    "ensemble.shape"
   ]
  },
  {
   "cell_type": "code",
   "execution_count": 27,
   "id": "7ef40555",
   "metadata": {
    "execution": {
     "iopub.execute_input": "2022-11-25T05:08:11.761381Z",
     "iopub.status.busy": "2022-11-25T05:08:11.761093Z",
     "iopub.status.idle": "2022-11-25T05:08:11.794315Z",
     "shell.execute_reply": "2022-11-25T05:08:11.793834Z"
    },
    "papermill": {
     "duration": 0.054665,
     "end_time": "2022-11-25T05:08:11.795150",
     "exception": false,
     "start_time": "2022-11-25T05:08:11.740485",
     "status": "completed"
    },
    "tags": []
   },
   "outputs": [
    {
     "data": {
      "text/html": [
       "<div>\n",
       "<style scoped>\n",
       "    .dataframe tbody tr th:only-of-type {\n",
       "        vertical-align: middle;\n",
       "    }\n",
       "\n",
       "    .dataframe tbody tr th {\n",
       "        vertical-align: top;\n",
       "    }\n",
       "\n",
       "    .dataframe thead th {\n",
       "        text-align: right;\n",
       "    }\n",
       "</style>\n",
       "<table border=\"1\" class=\"dataframe\">\n",
       "  <thead>\n",
       "    <tr style=\"text-align: right;\">\n",
       "      <th></th>\n",
       "      <th>clusterer_params</th>\n",
       "      <th>partition</th>\n",
       "      <th>n_clusters</th>\n",
       "    </tr>\n",
       "    <tr>\n",
       "      <th>clusterer_id</th>\n",
       "      <th></th>\n",
       "      <th></th>\n",
       "      <th></th>\n",
       "    </tr>\n",
       "  </thead>\n",
       "  <tbody>\n",
       "    <tr>\n",
       "      <th>SpectralClustering #0</th>\n",
       "      <td>{'affinity': 'rbf', 'assign_labels': 'kmeans',...</td>\n",
       "      <td>[1.0, 1.0, 1.0, 1.0, 1.0, 1.0, 1.0, 1.0, 1.0, ...</td>\n",
       "      <td>2</td>\n",
       "    </tr>\n",
       "    <tr>\n",
       "      <th>SpectralClustering #1</th>\n",
       "      <td>{'affinity': 'rbf', 'assign_labels': 'kmeans',...</td>\n",
       "      <td>[0.0, 0.0, 0.0, 0.0, 0.0, 0.0, 0.0, 0.0, 0.0, ...</td>\n",
       "      <td>2</td>\n",
       "    </tr>\n",
       "    <tr>\n",
       "      <th>SpectralClustering #2</th>\n",
       "      <td>{'affinity': 'rbf', 'assign_labels': 'kmeans',...</td>\n",
       "      <td>[1.0, 1.0, 1.0, 1.0, 1.0, 1.0, 1.0, 1.0, 1.0, ...</td>\n",
       "      <td>2</td>\n",
       "    </tr>\n",
       "    <tr>\n",
       "      <th>SpectralClustering #3</th>\n",
       "      <td>{'affinity': 'rbf', 'assign_labels': 'kmeans',...</td>\n",
       "      <td>[1.0, 1.0, 1.0, 1.0, 1.0, 1.0, 1.0, 1.0, 1.0, ...</td>\n",
       "      <td>2</td>\n",
       "    </tr>\n",
       "    <tr>\n",
       "      <th>SpectralClustering #4</th>\n",
       "      <td>{'affinity': 'rbf', 'assign_labels': 'kmeans',...</td>\n",
       "      <td>[1.0, 1.0, 1.0, 1.0, 1.0, 1.0, 1.0, 1.0, 1.0, ...</td>\n",
       "      <td>2</td>\n",
       "    </tr>\n",
       "  </tbody>\n",
       "</table>\n",
       "</div>"
      ],
      "text/plain": [
       "                                                        clusterer_params  \\\n",
       "clusterer_id                                                               \n",
       "SpectralClustering #0  {'affinity': 'rbf', 'assign_labels': 'kmeans',...   \n",
       "SpectralClustering #1  {'affinity': 'rbf', 'assign_labels': 'kmeans',...   \n",
       "SpectralClustering #2  {'affinity': 'rbf', 'assign_labels': 'kmeans',...   \n",
       "SpectralClustering #3  {'affinity': 'rbf', 'assign_labels': 'kmeans',...   \n",
       "SpectralClustering #4  {'affinity': 'rbf', 'assign_labels': 'kmeans',...   \n",
       "\n",
       "                                                               partition  \\\n",
       "clusterer_id                                                               \n",
       "SpectralClustering #0  [1.0, 1.0, 1.0, 1.0, 1.0, 1.0, 1.0, 1.0, 1.0, ...   \n",
       "SpectralClustering #1  [0.0, 0.0, 0.0, 0.0, 0.0, 0.0, 0.0, 0.0, 0.0, ...   \n",
       "SpectralClustering #2  [1.0, 1.0, 1.0, 1.0, 1.0, 1.0, 1.0, 1.0, 1.0, ...   \n",
       "SpectralClustering #3  [1.0, 1.0, 1.0, 1.0, 1.0, 1.0, 1.0, 1.0, 1.0, ...   \n",
       "SpectralClustering #4  [1.0, 1.0, 1.0, 1.0, 1.0, 1.0, 1.0, 1.0, 1.0, ...   \n",
       "\n",
       "                       n_clusters  \n",
       "clusterer_id                       \n",
       "SpectralClustering #0           2  \n",
       "SpectralClustering #1           2  \n",
       "SpectralClustering #2           2  \n",
       "SpectralClustering #3           2  \n",
       "SpectralClustering #4           2  "
      ]
     },
     "execution_count": 27,
     "metadata": {},
     "output_type": "execute_result"
    }
   ],
   "source": [
    "ensemble.head()"
   ]
  },
  {
   "cell_type": "code",
   "execution_count": 28,
   "id": "7b6c97d5",
   "metadata": {
    "execution": {
     "iopub.execute_input": "2022-11-25T05:08:11.826382Z",
     "iopub.status.busy": "2022-11-25T05:08:11.826038Z",
     "iopub.status.idle": "2022-11-25T05:08:11.849068Z",
     "shell.execute_reply": "2022-11-25T05:08:11.848573Z"
    },
    "papermill": {
     "duration": 0.03938,
     "end_time": "2022-11-25T05:08:11.849860",
     "exception": false,
     "start_time": "2022-11-25T05:08:11.810480",
     "status": "completed"
    },
    "tags": []
   },
   "outputs": [
    {
     "data": {
      "text/plain": [
       "60    5\n",
       "16    5\n",
       "28    5\n",
       "27    5\n",
       "26    5\n",
       "Name: n_clusters, dtype: int64"
      ]
     },
     "execution_count": 28,
     "metadata": {},
     "output_type": "execute_result"
    }
   ],
   "source": [
    "ensemble[\"n_clusters\"].value_counts().head()"
   ]
  },
  {
   "cell_type": "code",
   "execution_count": 29,
   "id": "0e4e84ea",
   "metadata": {
    "execution": {
     "iopub.execute_input": "2022-11-25T05:08:11.881293Z",
     "iopub.status.busy": "2022-11-25T05:08:11.881001Z",
     "iopub.status.idle": "2022-11-25T05:08:11.905500Z",
     "shell.execute_reply": "2022-11-25T05:08:11.905019Z"
    },
    "papermill": {
     "duration": 0.041099,
     "end_time": "2022-11-25T05:08:11.906333",
     "exception": false,
     "start_time": "2022-11-25T05:08:11.865234",
     "status": "completed"
    },
    "tags": []
   },
   "outputs": [
    {
     "data": {
      "text/plain": [
       "count    295.000000\n",
       "mean      31.000000\n",
       "std       17.058323\n",
       "min        2.000000\n",
       "25%       16.000000\n",
       "50%       31.000000\n",
       "75%       46.000000\n",
       "max       60.000000\n",
       "Name: n_clusters, dtype: float64"
      ]
     },
     "metadata": {},
     "output_type": "display_data"
    }
   ],
   "source": [
    "ensemble_stats = ensemble[\"n_clusters\"].describe()\n",
    "display(ensemble_stats)"
   ]
  },
  {
   "cell_type": "markdown",
   "id": "24e8dbbb",
   "metadata": {
    "papermill": {
     "duration": 0.015197,
     "end_time": "2022-11-25T05:08:11.936858",
     "exception": false,
     "start_time": "2022-11-25T05:08:11.921661",
     "status": "completed"
    },
    "tags": []
   },
   "source": [
    "## Testing"
   ]
  },
  {
   "cell_type": "code",
   "execution_count": 30,
   "id": "f528c0f6",
   "metadata": {
    "execution": {
     "iopub.execute_input": "2022-11-25T05:08:11.967872Z",
     "iopub.status.busy": "2022-11-25T05:08:11.967637Z",
     "iopub.status.idle": "2022-11-25T05:08:11.988874Z",
     "shell.execute_reply": "2022-11-25T05:08:11.988352Z"
    },
    "papermill": {
     "duration": 0.037669,
     "end_time": "2022-11-25T05:08:11.989681",
     "exception": false,
     "start_time": "2022-11-25T05:08:11.952012",
     "status": "completed"
    },
    "tags": []
   },
   "outputs": [],
   "source": [
    "assert ensemble_stats[\"min\"] > 1"
   ]
  },
  {
   "cell_type": "code",
   "execution_count": 31,
   "id": "29b09205",
   "metadata": {
    "execution": {
     "iopub.execute_input": "2022-11-25T05:08:12.021176Z",
     "iopub.status.busy": "2022-11-25T05:08:12.020810Z",
     "iopub.status.idle": "2022-11-25T05:08:12.041612Z",
     "shell.execute_reply": "2022-11-25T05:08:12.041133Z"
    },
    "papermill": {
     "duration": 0.037388,
     "end_time": "2022-11-25T05:08:12.042407",
     "exception": false,
     "start_time": "2022-11-25T05:08:12.005019",
     "status": "completed"
    },
    "tags": []
   },
   "outputs": [],
   "source": [
    "assert not ensemble[\"n_clusters\"].isna().any()"
   ]
  },
  {
   "cell_type": "code",
   "execution_count": 32,
   "id": "6f22fc63",
   "metadata": {
    "execution": {
     "iopub.execute_input": "2022-11-25T05:08:12.073701Z",
     "iopub.status.busy": "2022-11-25T05:08:12.073293Z",
     "iopub.status.idle": "2022-11-25T05:08:12.093830Z",
     "shell.execute_reply": "2022-11-25T05:08:12.093341Z"
    },
    "papermill": {
     "duration": 0.037125,
     "end_time": "2022-11-25T05:08:12.094615",
     "exception": false,
     "start_time": "2022-11-25T05:08:12.057490",
     "status": "completed"
    },
    "tags": []
   },
   "outputs": [],
   "source": [
    "assert ensemble.shape[0] == len(CLUSTERERS)"
   ]
  },
  {
   "cell_type": "code",
   "execution_count": 33,
   "id": "3cfa7a83",
   "metadata": {
    "execution": {
     "iopub.execute_input": "2022-11-25T05:08:12.125986Z",
     "iopub.status.busy": "2022-11-25T05:08:12.125687Z",
     "iopub.status.idle": "2022-11-25T05:08:12.171361Z",
     "shell.execute_reply": "2022-11-25T05:08:12.170885Z"
    },
    "papermill": {
     "duration": 0.062252,
     "end_time": "2022-11-25T05:08:12.172189",
     "exception": false,
     "start_time": "2022-11-25T05:08:12.109937",
     "status": "completed"
    },
    "tags": []
   },
   "outputs": [],
   "source": [
    "# all partitions have the right size\n",
    "assert np.all(\n",
    "    [part[\"partition\"].shape[0] == data.shape[0] for idx, part in ensemble.iterrows()]\n",
    ")"
   ]
  },
  {
   "cell_type": "code",
   "execution_count": 34,
   "id": "46dc8c14",
   "metadata": {
    "execution": {
     "iopub.execute_input": "2022-11-25T05:08:12.203568Z",
     "iopub.status.busy": "2022-11-25T05:08:12.203184Z",
     "iopub.status.idle": "2022-11-25T05:08:12.254485Z",
     "shell.execute_reply": "2022-11-25T05:08:12.253958Z"
    },
    "papermill": {
     "duration": 0.068125,
     "end_time": "2022-11-25T05:08:12.255484",
     "exception": false,
     "start_time": "2022-11-25T05:08:12.187359",
     "status": "completed"
    },
    "tags": []
   },
   "outputs": [],
   "source": [
    "# no partition has negative clusters (noisy points)\n",
    "assert not np.any([(part[\"partition\"] < 0).any() for idx, part in ensemble.iterrows()])"
   ]
  },
  {
   "cell_type": "markdown",
   "id": "0877c8d0",
   "metadata": {
    "papermill": {
     "duration": 0.014994,
     "end_time": "2022-11-25T05:08:12.286080",
     "exception": false,
     "start_time": "2022-11-25T05:08:12.271086",
     "status": "completed"
    },
    "tags": []
   },
   "source": [
    "## Add clustering quality measures"
   ]
  },
  {
   "cell_type": "code",
   "execution_count": 35,
   "id": "7d900f28",
   "metadata": {
    "execution": {
     "iopub.execute_input": "2022-11-25T05:08:12.317467Z",
     "iopub.status.busy": "2022-11-25T05:08:12.317066Z",
     "iopub.status.idle": "2022-11-25T05:08:12.338228Z",
     "shell.execute_reply": "2022-11-25T05:08:12.337747Z"
    },
    "papermill": {
     "duration": 0.037726,
     "end_time": "2022-11-25T05:08:12.339050",
     "exception": false,
     "start_time": "2022-11-25T05:08:12.301324",
     "status": "completed"
    },
    "tags": []
   },
   "outputs": [],
   "source": [
    "from sklearn.metrics import calinski_harabasz_score"
   ]
  },
  {
   "cell_type": "code",
   "execution_count": 36,
   "id": "1e5ddc43",
   "metadata": {
    "execution": {
     "iopub.execute_input": "2022-11-25T05:08:12.370288Z",
     "iopub.status.busy": "2022-11-25T05:08:12.369996Z",
     "iopub.status.idle": "2022-11-25T05:08:13.110659Z",
     "shell.execute_reply": "2022-11-25T05:08:13.110333Z"
    },
    "papermill": {
     "duration": 0.75804,
     "end_time": "2022-11-25T05:08:13.112223",
     "exception": false,
     "start_time": "2022-11-25T05:08:12.354183",
     "status": "completed"
    },
    "tags": []
   },
   "outputs": [],
   "source": [
    "ensemble = ensemble.assign(\n",
    "    ch_score=ensemble[\"partition\"].apply(lambda x: calinski_harabasz_score(data, x))\n",
    ")"
   ]
  },
  {
   "cell_type": "code",
   "execution_count": 37,
   "id": "930cbc1a",
   "metadata": {
    "execution": {
     "iopub.execute_input": "2022-11-25T05:08:13.173692Z",
     "iopub.status.busy": "2022-11-25T05:08:13.173476Z",
     "iopub.status.idle": "2022-11-25T05:08:13.186330Z",
     "shell.execute_reply": "2022-11-25T05:08:13.186052Z"
    },
    "papermill": {
     "duration": 0.044416,
     "end_time": "2022-11-25T05:08:13.187573",
     "exception": false,
     "start_time": "2022-11-25T05:08:13.143157",
     "status": "completed"
    },
    "tags": []
   },
   "outputs": [
    {
     "data": {
      "text/plain": [
       "(295, 4)"
      ]
     },
     "execution_count": 37,
     "metadata": {},
     "output_type": "execute_result"
    }
   ],
   "source": [
    "ensemble.shape"
   ]
  },
  {
   "cell_type": "code",
   "execution_count": 38,
   "id": "26edeaec",
   "metadata": {
    "execution": {
     "iopub.execute_input": "2022-11-25T05:08:13.238904Z",
     "iopub.status.busy": "2022-11-25T05:08:13.238768Z",
     "iopub.status.idle": "2022-11-25T05:08:13.267504Z",
     "shell.execute_reply": "2022-11-25T05:08:13.267100Z"
    },
    "papermill": {
     "duration": 0.049885,
     "end_time": "2022-11-25T05:08:13.268314",
     "exception": false,
     "start_time": "2022-11-25T05:08:13.218429",
     "status": "completed"
    },
    "tags": []
   },
   "outputs": [
    {
     "data": {
      "text/html": [
       "<div>\n",
       "<style scoped>\n",
       "    .dataframe tbody tr th:only-of-type {\n",
       "        vertical-align: middle;\n",
       "    }\n",
       "\n",
       "    .dataframe tbody tr th {\n",
       "        vertical-align: top;\n",
       "    }\n",
       "\n",
       "    .dataframe thead th {\n",
       "        text-align: right;\n",
       "    }\n",
       "</style>\n",
       "<table border=\"1\" class=\"dataframe\">\n",
       "  <thead>\n",
       "    <tr style=\"text-align: right;\">\n",
       "      <th></th>\n",
       "      <th>clusterer_params</th>\n",
       "      <th>partition</th>\n",
       "      <th>n_clusters</th>\n",
       "      <th>ch_score</th>\n",
       "    </tr>\n",
       "    <tr>\n",
       "      <th>clusterer_id</th>\n",
       "      <th></th>\n",
       "      <th></th>\n",
       "      <th></th>\n",
       "      <th></th>\n",
       "    </tr>\n",
       "  </thead>\n",
       "  <tbody>\n",
       "    <tr>\n",
       "      <th>SpectralClustering #0</th>\n",
       "      <td>{'affinity': 'rbf', 'assign_labels': 'kmeans',...</td>\n",
       "      <td>[1.0, 1.0, 1.0, 1.0, 1.0, 1.0, 1.0, 1.0, 1.0, ...</td>\n",
       "      <td>2</td>\n",
       "      <td>1851.436030</td>\n",
       "    </tr>\n",
       "    <tr>\n",
       "      <th>SpectralClustering #1</th>\n",
       "      <td>{'affinity': 'rbf', 'assign_labels': 'kmeans',...</td>\n",
       "      <td>[0.0, 0.0, 0.0, 0.0, 0.0, 0.0, 0.0, 0.0, 0.0, ...</td>\n",
       "      <td>2</td>\n",
       "      <td>1851.109102</td>\n",
       "    </tr>\n",
       "    <tr>\n",
       "      <th>SpectralClustering #2</th>\n",
       "      <td>{'affinity': 'rbf', 'assign_labels': 'kmeans',...</td>\n",
       "      <td>[1.0, 1.0, 1.0, 1.0, 1.0, 1.0, 1.0, 1.0, 1.0, ...</td>\n",
       "      <td>2</td>\n",
       "      <td>1851.436030</td>\n",
       "    </tr>\n",
       "    <tr>\n",
       "      <th>SpectralClustering #3</th>\n",
       "      <td>{'affinity': 'rbf', 'assign_labels': 'kmeans',...</td>\n",
       "      <td>[1.0, 1.0, 1.0, 1.0, 1.0, 1.0, 1.0, 1.0, 1.0, ...</td>\n",
       "      <td>2</td>\n",
       "      <td>1851.436030</td>\n",
       "    </tr>\n",
       "    <tr>\n",
       "      <th>SpectralClustering #4</th>\n",
       "      <td>{'affinity': 'rbf', 'assign_labels': 'kmeans',...</td>\n",
       "      <td>[1.0, 1.0, 1.0, 1.0, 1.0, 1.0, 1.0, 1.0, 1.0, ...</td>\n",
       "      <td>2</td>\n",
       "      <td>1851.021878</td>\n",
       "    </tr>\n",
       "  </tbody>\n",
       "</table>\n",
       "</div>"
      ],
      "text/plain": [
       "                                                        clusterer_params  \\\n",
       "clusterer_id                                                               \n",
       "SpectralClustering #0  {'affinity': 'rbf', 'assign_labels': 'kmeans',...   \n",
       "SpectralClustering #1  {'affinity': 'rbf', 'assign_labels': 'kmeans',...   \n",
       "SpectralClustering #2  {'affinity': 'rbf', 'assign_labels': 'kmeans',...   \n",
       "SpectralClustering #3  {'affinity': 'rbf', 'assign_labels': 'kmeans',...   \n",
       "SpectralClustering #4  {'affinity': 'rbf', 'assign_labels': 'kmeans',...   \n",
       "\n",
       "                                                               partition  \\\n",
       "clusterer_id                                                               \n",
       "SpectralClustering #0  [1.0, 1.0, 1.0, 1.0, 1.0, 1.0, 1.0, 1.0, 1.0, ...   \n",
       "SpectralClustering #1  [0.0, 0.0, 0.0, 0.0, 0.0, 0.0, 0.0, 0.0, 0.0, ...   \n",
       "SpectralClustering #2  [1.0, 1.0, 1.0, 1.0, 1.0, 1.0, 1.0, 1.0, 1.0, ...   \n",
       "SpectralClustering #3  [1.0, 1.0, 1.0, 1.0, 1.0, 1.0, 1.0, 1.0, 1.0, ...   \n",
       "SpectralClustering #4  [1.0, 1.0, 1.0, 1.0, 1.0, 1.0, 1.0, 1.0, 1.0, ...   \n",
       "\n",
       "                       n_clusters     ch_score  \n",
       "clusterer_id                                    \n",
       "SpectralClustering #0           2  1851.436030  \n",
       "SpectralClustering #1           2  1851.109102  \n",
       "SpectralClustering #2           2  1851.436030  \n",
       "SpectralClustering #3           2  1851.436030  \n",
       "SpectralClustering #4           2  1851.021878  "
      ]
     },
     "execution_count": 38,
     "metadata": {},
     "output_type": "execute_result"
    }
   ],
   "source": [
    "ensemble.head()"
   ]
  },
  {
   "cell_type": "markdown",
   "id": "b3a9e890",
   "metadata": {
    "papermill": {
     "duration": 0.015254,
     "end_time": "2022-11-25T05:08:13.299475",
     "exception": false,
     "start_time": "2022-11-25T05:08:13.284221",
     "status": "completed"
    },
    "tags": []
   },
   "source": [
    "## Save"
   ]
  },
  {
   "cell_type": "code",
   "execution_count": 39,
   "id": "97f89f7f",
   "metadata": {
    "execution": {
     "iopub.execute_input": "2022-11-25T05:08:13.331130Z",
     "iopub.status.busy": "2022-11-25T05:08:13.330932Z",
     "iopub.status.idle": "2022-11-25T05:08:13.354205Z",
     "shell.execute_reply": "2022-11-25T05:08:13.353677Z"
    },
    "papermill": {
     "duration": 0.040286,
     "end_time": "2022-11-25T05:08:13.355091",
     "exception": false,
     "start_time": "2022-11-25T05:08:13.314805",
     "status": "completed"
    },
    "tags": []
   },
   "outputs": [
    {
     "data": {
      "text/plain": [
       "PosixPath('/opt/data/results/clustering/null_sims/shuffle_genes/runs/umap-z_score_std-projection-smultixcan-efo_partial-mashr-zscores/SpectralClustering-AFFINITY_rbf-GAMMA_001-KMEANS_N_INIT_10-K_MAX_60-K_MIN_2-N_REPS_PER_K_5.pkl')"
      ]
     },
     "metadata": {},
     "output_type": "display_data"
    }
   ],
   "source": [
    "output_filename = Path(\n",
    "    RESULTS_DIR,\n",
    "    generate_result_set_name(\n",
    "        CLUSTERING_OPTIONS,\n",
    "        prefix=f\"{clustering_method_name}-\",\n",
    "        suffix=\".pkl\",\n",
    "    ),\n",
    ").resolve()\n",
    "display(output_filename)"
   ]
  },
  {
   "cell_type": "code",
   "execution_count": 40,
   "id": "479809e6",
   "metadata": {
    "execution": {
     "iopub.execute_input": "2022-11-25T05:08:13.387337Z",
     "iopub.status.busy": "2022-11-25T05:08:13.387091Z",
     "iopub.status.idle": "2022-11-25T05:08:13.422421Z",
     "shell.execute_reply": "2022-11-25T05:08:13.421849Z"
    },
    "papermill": {
     "duration": 0.052597,
     "end_time": "2022-11-25T05:08:13.423499",
     "exception": false,
     "start_time": "2022-11-25T05:08:13.370902",
     "status": "completed"
    },
    "tags": []
   },
   "outputs": [],
   "source": [
    "ensemble.to_pickle(output_filename)"
   ]
  },
  {
   "cell_type": "markdown",
   "id": "2c92bdc1",
   "metadata": {
    "papermill": {
     "duration": 0.015325,
     "end_time": "2022-11-25T05:08:13.454753",
     "exception": false,
     "start_time": "2022-11-25T05:08:13.439428",
     "status": "completed"
    },
    "tags": []
   },
   "source": [
    "# Cluster quality"
   ]
  },
  {
   "cell_type": "code",
   "execution_count": 41,
   "id": "2c67f40b",
   "metadata": {
    "execution": {
     "iopub.execute_input": "2022-11-25T05:08:13.486589Z",
     "iopub.status.busy": "2022-11-25T05:08:13.486217Z",
     "iopub.status.idle": "2022-11-25T05:08:13.515650Z",
     "shell.execute_reply": "2022-11-25T05:08:13.515132Z"
    },
    "papermill": {
     "duration": 0.04641,
     "end_time": "2022-11-25T05:08:13.516533",
     "exception": false,
     "start_time": "2022-11-25T05:08:13.470123",
     "status": "completed"
    },
    "tags": []
   },
   "outputs": [
    {
     "data": {
      "text/html": [
       "<div>\n",
       "<style scoped>\n",
       "    .dataframe tbody tr th:only-of-type {\n",
       "        vertical-align: middle;\n",
       "    }\n",
       "\n",
       "    .dataframe tbody tr th {\n",
       "        vertical-align: top;\n",
       "    }\n",
       "\n",
       "    .dataframe thead th {\n",
       "        text-align: right;\n",
       "    }\n",
       "</style>\n",
       "<table border=\"1\" class=\"dataframe\">\n",
       "  <thead>\n",
       "    <tr style=\"text-align: right;\">\n",
       "      <th></th>\n",
       "      <th>ch_score</th>\n",
       "    </tr>\n",
       "    <tr>\n",
       "      <th>n_clusters</th>\n",
       "      <th></th>\n",
       "    </tr>\n",
       "  </thead>\n",
       "  <tbody>\n",
       "    <tr>\n",
       "      <th>2</th>\n",
       "      <td>1851.287814</td>\n",
       "    </tr>\n",
       "    <tr>\n",
       "      <th>3</th>\n",
       "      <td>2571.628200</td>\n",
       "    </tr>\n",
       "    <tr>\n",
       "      <th>4</th>\n",
       "      <td>2624.687414</td>\n",
       "    </tr>\n",
       "    <tr>\n",
       "      <th>5</th>\n",
       "      <td>3001.611103</td>\n",
       "    </tr>\n",
       "    <tr>\n",
       "      <th>6</th>\n",
       "      <td>2869.195724</td>\n",
       "    </tr>\n",
       "    <tr>\n",
       "      <th>7</th>\n",
       "      <td>2887.704487</td>\n",
       "    </tr>\n",
       "    <tr>\n",
       "      <th>8</th>\n",
       "      <td>3124.262820</td>\n",
       "    </tr>\n",
       "    <tr>\n",
       "      <th>9</th>\n",
       "      <td>3129.606280</td>\n",
       "    </tr>\n",
       "    <tr>\n",
       "      <th>10</th>\n",
       "      <td>3113.920828</td>\n",
       "    </tr>\n",
       "    <tr>\n",
       "      <th>11</th>\n",
       "      <td>2957.728539</td>\n",
       "    </tr>\n",
       "    <tr>\n",
       "      <th>12</th>\n",
       "      <td>3144.780058</td>\n",
       "    </tr>\n",
       "    <tr>\n",
       "      <th>13</th>\n",
       "      <td>3083.168007</td>\n",
       "    </tr>\n",
       "    <tr>\n",
       "      <th>14</th>\n",
       "      <td>3166.342618</td>\n",
       "    </tr>\n",
       "    <tr>\n",
       "      <th>15</th>\n",
       "      <td>3260.590384</td>\n",
       "    </tr>\n",
       "    <tr>\n",
       "      <th>16</th>\n",
       "      <td>3266.722223</td>\n",
       "    </tr>\n",
       "    <tr>\n",
       "      <th>17</th>\n",
       "      <td>3398.655594</td>\n",
       "    </tr>\n",
       "    <tr>\n",
       "      <th>18</th>\n",
       "      <td>3471.379251</td>\n",
       "    </tr>\n",
       "    <tr>\n",
       "      <th>19</th>\n",
       "      <td>3496.114683</td>\n",
       "    </tr>\n",
       "    <tr>\n",
       "      <th>20</th>\n",
       "      <td>3440.801812</td>\n",
       "    </tr>\n",
       "    <tr>\n",
       "      <th>21</th>\n",
       "      <td>3480.052218</td>\n",
       "    </tr>\n",
       "    <tr>\n",
       "      <th>22</th>\n",
       "      <td>3531.115784</td>\n",
       "    </tr>\n",
       "    <tr>\n",
       "      <th>23</th>\n",
       "      <td>3557.124929</td>\n",
       "    </tr>\n",
       "    <tr>\n",
       "      <th>24</th>\n",
       "      <td>3559.706554</td>\n",
       "    </tr>\n",
       "    <tr>\n",
       "      <th>25</th>\n",
       "      <td>3716.567163</td>\n",
       "    </tr>\n",
       "    <tr>\n",
       "      <th>26</th>\n",
       "      <td>3868.808840</td>\n",
       "    </tr>\n",
       "    <tr>\n",
       "      <th>27</th>\n",
       "      <td>3742.393632</td>\n",
       "    </tr>\n",
       "    <tr>\n",
       "      <th>28</th>\n",
       "      <td>3880.777829</td>\n",
       "    </tr>\n",
       "    <tr>\n",
       "      <th>29</th>\n",
       "      <td>3886.882791</td>\n",
       "    </tr>\n",
       "    <tr>\n",
       "      <th>30</th>\n",
       "      <td>3807.313976</td>\n",
       "    </tr>\n",
       "    <tr>\n",
       "      <th>31</th>\n",
       "      <td>3709.477943</td>\n",
       "    </tr>\n",
       "    <tr>\n",
       "      <th>32</th>\n",
       "      <td>3567.615172</td>\n",
       "    </tr>\n",
       "    <tr>\n",
       "      <th>33</th>\n",
       "      <td>3456.619886</td>\n",
       "    </tr>\n",
       "    <tr>\n",
       "      <th>34</th>\n",
       "      <td>3244.519890</td>\n",
       "    </tr>\n",
       "    <tr>\n",
       "      <th>35</th>\n",
       "      <td>3074.173989</td>\n",
       "    </tr>\n",
       "    <tr>\n",
       "      <th>36</th>\n",
       "      <td>3023.219227</td>\n",
       "    </tr>\n",
       "    <tr>\n",
       "      <th>37</th>\n",
       "      <td>2994.164106</td>\n",
       "    </tr>\n",
       "    <tr>\n",
       "      <th>38</th>\n",
       "      <td>2864.184436</td>\n",
       "    </tr>\n",
       "    <tr>\n",
       "      <th>39</th>\n",
       "      <td>2816.381698</td>\n",
       "    </tr>\n",
       "    <tr>\n",
       "      <th>40</th>\n",
       "      <td>2758.696950</td>\n",
       "    </tr>\n",
       "    <tr>\n",
       "      <th>41</th>\n",
       "      <td>2723.494438</td>\n",
       "    </tr>\n",
       "    <tr>\n",
       "      <th>42</th>\n",
       "      <td>2606.356206</td>\n",
       "    </tr>\n",
       "    <tr>\n",
       "      <th>43</th>\n",
       "      <td>2567.769236</td>\n",
       "    </tr>\n",
       "    <tr>\n",
       "      <th>44</th>\n",
       "      <td>2539.083408</td>\n",
       "    </tr>\n",
       "    <tr>\n",
       "      <th>45</th>\n",
       "      <td>2440.032129</td>\n",
       "    </tr>\n",
       "    <tr>\n",
       "      <th>46</th>\n",
       "      <td>2428.934395</td>\n",
       "    </tr>\n",
       "    <tr>\n",
       "      <th>47</th>\n",
       "      <td>2406.345826</td>\n",
       "    </tr>\n",
       "    <tr>\n",
       "      <th>48</th>\n",
       "      <td>2360.336022</td>\n",
       "    </tr>\n",
       "    <tr>\n",
       "      <th>49</th>\n",
       "      <td>2312.802319</td>\n",
       "    </tr>\n",
       "    <tr>\n",
       "      <th>50</th>\n",
       "      <td>2292.609873</td>\n",
       "    </tr>\n",
       "    <tr>\n",
       "      <th>51</th>\n",
       "      <td>2244.680402</td>\n",
       "    </tr>\n",
       "    <tr>\n",
       "      <th>52</th>\n",
       "      <td>2252.735995</td>\n",
       "    </tr>\n",
       "    <tr>\n",
       "      <th>53</th>\n",
       "      <td>2217.021005</td>\n",
       "    </tr>\n",
       "    <tr>\n",
       "      <th>54</th>\n",
       "      <td>2249.018112</td>\n",
       "    </tr>\n",
       "    <tr>\n",
       "      <th>55</th>\n",
       "      <td>2244.460400</td>\n",
       "    </tr>\n",
       "    <tr>\n",
       "      <th>56</th>\n",
       "      <td>2267.207813</td>\n",
       "    </tr>\n",
       "    <tr>\n",
       "      <th>57</th>\n",
       "      <td>2280.190739</td>\n",
       "    </tr>\n",
       "    <tr>\n",
       "      <th>58</th>\n",
       "      <td>2174.915202</td>\n",
       "    </tr>\n",
       "    <tr>\n",
       "      <th>59</th>\n",
       "      <td>2202.037928</td>\n",
       "    </tr>\n",
       "    <tr>\n",
       "      <th>60</th>\n",
       "      <td>2111.773263</td>\n",
       "    </tr>\n",
       "  </tbody>\n",
       "</table>\n",
       "</div>"
      ],
      "text/plain": [
       "               ch_score\n",
       "n_clusters             \n",
       "2           1851.287814\n",
       "3           2571.628200\n",
       "4           2624.687414\n",
       "5           3001.611103\n",
       "6           2869.195724\n",
       "7           2887.704487\n",
       "8           3124.262820\n",
       "9           3129.606280\n",
       "10          3113.920828\n",
       "11          2957.728539\n",
       "12          3144.780058\n",
       "13          3083.168007\n",
       "14          3166.342618\n",
       "15          3260.590384\n",
       "16          3266.722223\n",
       "17          3398.655594\n",
       "18          3471.379251\n",
       "19          3496.114683\n",
       "20          3440.801812\n",
       "21          3480.052218\n",
       "22          3531.115784\n",
       "23          3557.124929\n",
       "24          3559.706554\n",
       "25          3716.567163\n",
       "26          3868.808840\n",
       "27          3742.393632\n",
       "28          3880.777829\n",
       "29          3886.882791\n",
       "30          3807.313976\n",
       "31          3709.477943\n",
       "32          3567.615172\n",
       "33          3456.619886\n",
       "34          3244.519890\n",
       "35          3074.173989\n",
       "36          3023.219227\n",
       "37          2994.164106\n",
       "38          2864.184436\n",
       "39          2816.381698\n",
       "40          2758.696950\n",
       "41          2723.494438\n",
       "42          2606.356206\n",
       "43          2567.769236\n",
       "44          2539.083408\n",
       "45          2440.032129\n",
       "46          2428.934395\n",
       "47          2406.345826\n",
       "48          2360.336022\n",
       "49          2312.802319\n",
       "50          2292.609873\n",
       "51          2244.680402\n",
       "52          2252.735995\n",
       "53          2217.021005\n",
       "54          2249.018112\n",
       "55          2244.460400\n",
       "56          2267.207813\n",
       "57          2280.190739\n",
       "58          2174.915202\n",
       "59          2202.037928\n",
       "60          2111.773263"
      ]
     },
     "metadata": {},
     "output_type": "display_data"
    }
   ],
   "source": [
    "with pd.option_context(\"display.max_rows\", None, \"display.max_columns\", None):\n",
    "    _df = ensemble.groupby([\"n_clusters\"]).mean()\n",
    "    display(_df)"
   ]
  },
  {
   "cell_type": "code",
   "execution_count": 42,
   "id": "983bb7f6",
   "metadata": {
    "execution": {
     "iopub.execute_input": "2022-11-25T05:08:13.549405Z",
     "iopub.status.busy": "2022-11-25T05:08:13.549055Z",
     "iopub.status.idle": "2022-11-25T05:08:15.677703Z",
     "shell.execute_reply": "2022-11-25T05:08:15.677400Z"
    },
    "papermill": {
     "duration": 2.146897,
     "end_time": "2022-11-25T05:08:15.679626",
     "exception": false,
     "start_time": "2022-11-25T05:08:13.532729",
     "status": "completed"
    },
    "tags": []
   },
   "outputs": [
    {
     "data": {
      "image/png": "[encoded data removed]",
      "text/plain": [
       "<Figure size 1008x432 with 1 Axes>"
      ]
     },
     "metadata": {},
     "output_type": "display_data"
    }
   ],
   "source": [
    "with sns.plotting_context(\"talk\", font_scale=0.75), sns.axes_style(\n",
    "    \"whitegrid\", {\"grid.linestyle\": \"--\"}\n",
    "):\n",
    "    fig = plt.figure(figsize=(14, 6))\n",
    "    ax = sns.pointplot(data=ensemble, x=\"n_clusters\", y=\"ch_score\")\n",
    "    ax.set_ylabel(\"Calinski-Harabasz index\")\n",
    "    ax.set_xlabel(\"Number of clusters ($k$)\")\n",
    "    ax.set_xticklabels(ax.get_xticklabels(), rotation=45)\n",
    "    plt.grid(True)\n",
    "    plt.tight_layout()"
   ]
  },
  {
   "cell_type": "markdown",
   "id": "604ad2fd",
   "metadata": {
    "papermill": {
     "duration": 0.032183,
     "end_time": "2022-11-25T05:08:15.745037",
     "exception": false,
     "start_time": "2022-11-25T05:08:15.712854",
     "status": "completed"
    },
    "tags": []
   },
   "source": [
    "# Stability"
   ]
  },
  {
   "cell_type": "markdown",
   "id": "e8a0f00c",
   "metadata": {
    "papermill": {
     "duration": 0.015981,
     "end_time": "2022-11-25T05:08:15.785098",
     "exception": false,
     "start_time": "2022-11-25T05:08:15.769117",
     "status": "completed"
    },
    "tags": []
   },
   "source": [
    "## Group ensemble by n_clusters"
   ]
  },
  {
   "cell_type": "code",
   "execution_count": 43,
   "id": "d8b43f90",
   "metadata": {
    "execution": {
     "iopub.execute_input": "2022-11-25T05:08:15.818628Z",
     "iopub.status.busy": "2022-11-25T05:08:15.818230Z",
     "iopub.status.idle": "2022-11-25T05:08:15.859126Z",
     "shell.execute_reply": "2022-11-25T05:08:15.858549Z"
    },
    "papermill": {
     "duration": 0.059004,
     "end_time": "2022-11-25T05:08:15.860241",
     "exception": false,
     "start_time": "2022-11-25T05:08:15.801237",
     "status": "completed"
    },
    "tags": []
   },
   "outputs": [],
   "source": [
    "parts = ensemble.groupby(\"n_clusters\").apply(\n",
    "    lambda x: np.concatenate(x[\"partition\"].apply(lambda x: x.reshape(1, -1)), axis=0)\n",
    ")"
   ]
  },
  {
   "cell_type": "code",
   "execution_count": 44,
   "id": "1205485e",
   "metadata": {
    "execution": {
     "iopub.execute_input": "2022-11-25T05:08:15.894727Z",
     "iopub.status.busy": "2022-11-25T05:08:15.894342Z",
     "iopub.status.idle": "2022-11-25T05:08:15.937202Z",
     "shell.execute_reply": "2022-11-25T05:08:15.936664Z"
    },
    "papermill": {
     "duration": 0.060717,
     "end_time": "2022-11-25T05:08:15.938072",
     "exception": false,
     "start_time": "2022-11-25T05:08:15.877355",
     "status": "completed"
    },
    "tags": []
   },
   "outputs": [
    {
     "data": {
      "text/plain": [
       "n_clusters\n",
       "2    [[1.0, 1.0, 1.0, 1.0, 1.0, 1.0, 1.0, 1.0, 1.0,...\n",
       "3    [[2.0, 2.0, 2.0, 2.0, 2.0, 2.0, 2.0, 2.0, 2.0,...\n",
       "4    [[3.0, 3.0, 3.0, 3.0, 3.0, 3.0, 3.0, 3.0, 3.0,...\n",
       "5    [[4.0, 4.0, 4.0, 4.0, 4.0, 4.0, 4.0, 4.0, 4.0,...\n",
       "6    [[2.0, 2.0, 2.0, 2.0, 2.0, 2.0, 2.0, 2.0, 2.0,...\n",
       "dtype: object"
      ]
     },
     "execution_count": 44,
     "metadata": {},
     "output_type": "execute_result"
    }
   ],
   "source": [
    "parts.head()"
   ]
  },
  {
   "cell_type": "code",
   "execution_count": 45,
   "id": "489fa18b",
   "metadata": {
    "execution": {
     "iopub.execute_input": "2022-11-25T05:08:15.972308Z",
     "iopub.status.busy": "2022-11-25T05:08:15.972038Z",
     "iopub.status.idle": "2022-11-25T05:08:15.994876Z",
     "shell.execute_reply": "2022-11-25T05:08:15.994345Z"
    },
    "papermill": {
     "duration": 0.040749,
     "end_time": "2022-11-25T05:08:15.995776",
     "exception": false,
     "start_time": "2022-11-25T05:08:15.955027",
     "status": "completed"
    },
    "tags": []
   },
   "outputs": [],
   "source": [
    "assert np.all(\n",
    "    [\n",
    "        parts.loc[k].shape == (CLUSTERING_OPTIONS[\"N_REPS_PER_K\"], data.shape[0])\n",
    "        for k in parts.index\n",
    "    ]\n",
    ")"
   ]
  },
  {
   "cell_type": "markdown",
   "id": "beefdfc5",
   "metadata": {
    "papermill": {
     "duration": 0.016556,
     "end_time": "2022-11-25T05:08:16.029214",
     "exception": false,
     "start_time": "2022-11-25T05:08:16.012658",
     "status": "completed"
    },
    "tags": []
   },
   "source": [
    "## Compute stability"
   ]
  },
  {
   "cell_type": "code",
   "execution_count": 46,
   "id": "5e98ebb9",
   "metadata": {
    "execution": {
     "iopub.execute_input": "2022-11-25T05:08:16.062850Z",
     "iopub.status.busy": "2022-11-25T05:08:16.062554Z",
     "iopub.status.idle": "2022-11-25T05:08:16.083996Z",
     "shell.execute_reply": "2022-11-25T05:08:16.083455Z"
    },
    "papermill": {
     "duration": 0.039472,
     "end_time": "2022-11-25T05:08:16.084957",
     "exception": false,
     "start_time": "2022-11-25T05:08:16.045485",
     "status": "completed"
    },
    "tags": []
   },
   "outputs": [],
   "source": [
    "from sklearn.metrics import adjusted_rand_score as ari\n",
    "from scipy.spatial.distance import pdist"
   ]
  },
  {
   "cell_type": "code",
   "execution_count": 47,
   "id": "1ba17dc6",
   "metadata": {
    "execution": {
     "iopub.execute_input": "2022-11-25T05:08:16.119290Z",
     "iopub.status.busy": "2022-11-25T05:08:16.118931Z",
     "iopub.status.idle": "2022-11-25T05:08:16.574036Z",
     "shell.execute_reply": "2022-11-25T05:08:16.573708Z"
    },
    "papermill": {
     "duration": 0.473446,
     "end_time": "2022-11-25T05:08:16.575431",
     "exception": false,
     "start_time": "2022-11-25T05:08:16.101985",
     "status": "completed"
    },
    "tags": []
   },
   "outputs": [],
   "source": [
    "parts_ari = pd.Series(\n",
    "    {k: pdist(parts.loc[k], metric=ari) for k in parts.index}, name=\"k\"\n",
    ")"
   ]
  },
  {
   "cell_type": "code",
   "execution_count": 48,
   "id": "e875b68d",
   "metadata": {
    "execution": {
     "iopub.execute_input": "2022-11-25T05:08:16.610154Z",
     "iopub.status.busy": "2022-11-25T05:08:16.609939Z",
     "iopub.status.idle": "2022-11-25T05:08:16.624274Z",
     "shell.execute_reply": "2022-11-25T05:08:16.623965Z"
    },
    "papermill": {
     "duration": 0.031904,
     "end_time": "2022-11-25T05:08:16.625033",
     "exception": false,
     "start_time": "2022-11-25T05:08:16.593129",
     "status": "completed"
    },
    "tags": []
   },
   "outputs": [
    {
     "data": {
      "text/plain": [
       "4     0.999733\n",
       "8     0.999708\n",
       "5     0.999328\n",
       "12    0.999034\n",
       "7     0.998473\n",
       "10    0.996399\n",
       "2     0.996381\n",
       "11    0.994218\n",
       "14    0.994180\n",
       "13    0.991866\n",
       "3     0.989041\n",
       "9     0.988370\n",
       "15    0.986881\n",
       "6     0.980272\n",
       "20    0.975697\n",
       "Name: k, dtype: float64"
      ]
     },
     "metadata": {},
     "output_type": "display_data"
    }
   ],
   "source": [
    "parts_ari_stability = parts_ari.apply(lambda x: x.mean())\n",
    "display(parts_ari_stability.sort_values(ascending=False).head(15))"
   ]
  },
  {
   "cell_type": "code",
   "execution_count": 49,
   "id": "988860d1",
   "metadata": {
    "execution": {
     "iopub.execute_input": "2022-11-25T05:08:16.658853Z",
     "iopub.status.busy": "2022-11-25T05:08:16.658720Z",
     "iopub.status.idle": "2022-11-25T05:08:16.672016Z",
     "shell.execute_reply": "2022-11-25T05:08:16.671714Z"
    },
    "papermill": {
     "duration": 0.03091,
     "end_time": "2022-11-25T05:08:16.672869",
     "exception": false,
     "start_time": "2022-11-25T05:08:16.641959",
     "status": "completed"
    },
    "tags": []
   },
   "outputs": [],
   "source": [
    "parts_ari_df = pd.DataFrame.from_records(parts_ari.tolist()).set_index(\n",
    "    parts_ari.index.copy()\n",
    ")"
   ]
  },
  {
   "cell_type": "code",
   "execution_count": 50,
   "id": "dbb0d2fe",
   "metadata": {
    "execution": {
     "iopub.execute_input": "2022-11-25T05:08:16.707041Z",
     "iopub.status.busy": "2022-11-25T05:08:16.706822Z",
     "iopub.status.idle": "2022-11-25T05:08:16.728221Z",
     "shell.execute_reply": "2022-11-25T05:08:16.727701Z"
    },
    "papermill": {
     "duration": 0.03921,
     "end_time": "2022-11-25T05:08:16.729102",
     "exception": false,
     "start_time": "2022-11-25T05:08:16.689892",
     "status": "completed"
    },
    "tags": []
   },
   "outputs": [
    {
     "data": {
      "text/plain": [
       "(59, 10)"
      ]
     },
     "execution_count": 50,
     "metadata": {},
     "output_type": "execute_result"
    }
   ],
   "source": [
    "parts_ari_df.shape"
   ]
  },
  {
   "cell_type": "code",
   "execution_count": 51,
   "id": "87bb17b8",
   "metadata": {
    "execution": {
     "iopub.execute_input": "2022-11-25T05:08:16.763392Z",
     "iopub.status.busy": "2022-11-25T05:08:16.763137Z",
     "iopub.status.idle": "2022-11-25T05:08:16.784314Z",
     "shell.execute_reply": "2022-11-25T05:08:16.783796Z"
    },
    "papermill": {
     "duration": 0.03908,
     "end_time": "2022-11-25T05:08:16.785195",
     "exception": false,
     "start_time": "2022-11-25T05:08:16.746115",
     "status": "completed"
    },
    "tags": []
   },
   "outputs": [],
   "source": [
    "assert (\n",
    "    int(\n",
    "        (CLUSTERING_OPTIONS[\"N_REPS_PER_K\"] * (CLUSTERING_OPTIONS[\"N_REPS_PER_K\"] - 1))\n",
    "        / 2\n",
    "    )\n",
    "    == parts_ari_df.shape[1]\n",
    ")"
   ]
  },
  {
   "cell_type": "code",
   "execution_count": 52,
   "id": "481c1b92",
   "metadata": {
    "execution": {
     "iopub.execute_input": "2022-11-25T05:08:16.819129Z",
     "iopub.status.busy": "2022-11-25T05:08:16.818852Z",
     "iopub.status.idle": "2022-11-25T05:08:16.848110Z",
     "shell.execute_reply": "2022-11-25T05:08:16.847592Z"
    },
    "papermill": {
     "duration": 0.046988,
     "end_time": "2022-11-25T05:08:16.848978",
     "exception": false,
     "start_time": "2022-11-25T05:08:16.801990",
     "status": "completed"
    },
    "tags": []
   },
   "outputs": [
    {
     "data": {
      "text/html": [
       "<div>\n",
       "<style scoped>\n",
       "    .dataframe tbody tr th:only-of-type {\n",
       "        vertical-align: middle;\n",
       "    }\n",
       "\n",
       "    .dataframe tbody tr th {\n",
       "        vertical-align: top;\n",
       "    }\n",
       "\n",
       "    .dataframe thead th {\n",
       "        text-align: right;\n",
       "    }\n",
       "</style>\n",
       "<table border=\"1\" class=\"dataframe\">\n",
       "  <thead>\n",
       "    <tr style=\"text-align: right;\">\n",
       "      <th></th>\n",
       "      <th>0</th>\n",
       "      <th>1</th>\n",
       "      <th>2</th>\n",
       "      <th>3</th>\n",
       "      <th>4</th>\n",
       "      <th>5</th>\n",
       "      <th>6</th>\n",
       "      <th>7</th>\n",
       "      <th>8</th>\n",
       "      <th>9</th>\n",
       "    </tr>\n",
       "  </thead>\n",
       "  <tbody>\n",
       "    <tr>\n",
       "      <th>2</th>\n",
       "      <td>0.998934</td>\n",
       "      <td>1.000000</td>\n",
       "      <td>1.000000</td>\n",
       "      <td>0.991487</td>\n",
       "      <td>0.998934</td>\n",
       "      <td>0.998934</td>\n",
       "      <td>0.992549</td>\n",
       "      <td>1.000000</td>\n",
       "      <td>0.991487</td>\n",
       "      <td>0.991487</td>\n",
       "    </tr>\n",
       "    <tr>\n",
       "      <th>3</th>\n",
       "      <td>0.999208</td>\n",
       "      <td>0.995699</td>\n",
       "      <td>1.000000</td>\n",
       "      <td>0.975206</td>\n",
       "      <td>0.996489</td>\n",
       "      <td>0.999208</td>\n",
       "      <td>0.975991</td>\n",
       "      <td>0.995699</td>\n",
       "      <td>0.977704</td>\n",
       "      <td>0.975206</td>\n",
       "    </tr>\n",
       "    <tr>\n",
       "      <th>4</th>\n",
       "      <td>0.999331</td>\n",
       "      <td>1.000000</td>\n",
       "      <td>1.000000</td>\n",
       "      <td>1.000000</td>\n",
       "      <td>0.999331</td>\n",
       "      <td>0.999331</td>\n",
       "      <td>0.999331</td>\n",
       "      <td>1.000000</td>\n",
       "      <td>1.000000</td>\n",
       "      <td>1.000000</td>\n",
       "    </tr>\n",
       "    <tr>\n",
       "      <th>5</th>\n",
       "      <td>0.998663</td>\n",
       "      <td>0.998663</td>\n",
       "      <td>0.999348</td>\n",
       "      <td>0.998663</td>\n",
       "      <td>1.000000</td>\n",
       "      <td>0.999314</td>\n",
       "      <td>1.000000</td>\n",
       "      <td>0.999314</td>\n",
       "      <td>1.000000</td>\n",
       "      <td>0.999314</td>\n",
       "    </tr>\n",
       "    <tr>\n",
       "      <th>6</th>\n",
       "      <td>1.000000</td>\n",
       "      <td>0.966673</td>\n",
       "      <td>0.968044</td>\n",
       "      <td>1.000000</td>\n",
       "      <td>0.966673</td>\n",
       "      <td>0.968044</td>\n",
       "      <td>1.000000</td>\n",
       "      <td>0.998571</td>\n",
       "      <td>0.966673</td>\n",
       "      <td>0.968044</td>\n",
       "    </tr>\n",
       "  </tbody>\n",
       "</table>\n",
       "</div>"
      ],
      "text/plain": [
       "          0         1         2         3         4         5         6  \\\n",
       "2  0.998934  1.000000  1.000000  0.991487  0.998934  0.998934  0.992549   \n",
       "3  0.999208  0.995699  1.000000  0.975206  0.996489  0.999208  0.975991   \n",
       "4  0.999331  1.000000  1.000000  1.000000  0.999331  0.999331  0.999331   \n",
       "5  0.998663  0.998663  0.999348  0.998663  1.000000  0.999314  1.000000   \n",
       "6  1.000000  0.966673  0.968044  1.000000  0.966673  0.968044  1.000000   \n",
       "\n",
       "          7         8         9  \n",
       "2  1.000000  0.991487  0.991487  \n",
       "3  0.995699  0.977704  0.975206  \n",
       "4  1.000000  1.000000  1.000000  \n",
       "5  0.999314  1.000000  0.999314  \n",
       "6  0.998571  0.966673  0.968044  "
      ]
     },
     "execution_count": 52,
     "metadata": {},
     "output_type": "execute_result"
    }
   ],
   "source": [
    "parts_ari_df.head()"
   ]
  },
  {
   "cell_type": "markdown",
   "id": "3a2d25e2",
   "metadata": {
    "papermill": {
     "duration": 0.016453,
     "end_time": "2022-11-25T05:08:16.882258",
     "exception": false,
     "start_time": "2022-11-25T05:08:16.865805",
     "status": "completed"
    },
    "tags": []
   },
   "source": [
    "## Save"
   ]
  },
  {
   "cell_type": "code",
   "execution_count": 53,
   "id": "18a2edc8",
   "metadata": {
    "execution": {
     "iopub.execute_input": "2022-11-25T05:08:16.916234Z",
     "iopub.status.busy": "2022-11-25T05:08:16.915880Z",
     "iopub.status.idle": "2022-11-25T05:08:16.938811Z",
     "shell.execute_reply": "2022-11-25T05:08:16.938292Z"
    },
    "papermill": {
     "duration": 0.040969,
     "end_time": "2022-11-25T05:08:16.939674",
     "exception": false,
     "start_time": "2022-11-25T05:08:16.898705",
     "status": "completed"
    },
    "tags": []
   },
   "outputs": [
    {
     "data": {
      "text/plain": [
       "PosixPath('/opt/data/results/clustering/null_sims/shuffle_genes/runs/umap-z_score_std-projection-smultixcan-efo_partial-mashr-zscores/SpectralClustering-stability-AFFINITY_rbf-GAMMA_001-KMEANS_N_INIT_10-K_MAX_60-K_MIN_2-N_REPS_PER_K_5.pkl')"
      ]
     },
     "metadata": {},
     "output_type": "display_data"
    }
   ],
   "source": [
    "output_filename = Path(\n",
    "    RESULTS_DIR,\n",
    "    generate_result_set_name(\n",
    "        CLUSTERING_OPTIONS,\n",
    "        prefix=f\"{clustering_method_name}-stability-\",\n",
    "        suffix=\".pkl\",\n",
    "    ),\n",
    ").resolve()\n",
    "display(output_filename)"
   ]
  },
  {
   "cell_type": "code",
   "execution_count": 54,
   "id": "5a077ef9",
   "metadata": {
    "execution": {
     "iopub.execute_input": "2022-11-25T05:08:16.974557Z",
     "iopub.status.busy": "2022-11-25T05:08:16.974297Z",
     "iopub.status.idle": "2022-11-25T05:08:16.996004Z",
     "shell.execute_reply": "2022-11-25T05:08:16.995468Z"
    },
    "papermill": {
     "duration": 0.039975,
     "end_time": "2022-11-25T05:08:16.996986",
     "exception": false,
     "start_time": "2022-11-25T05:08:16.957011",
     "status": "completed"
    },
    "tags": []
   },
   "outputs": [],
   "source": [
    "parts_ari_df.to_pickle(output_filename)"
   ]
  },
  {
   "cell_type": "markdown",
   "id": "facc867d",
   "metadata": {
    "papermill": {
     "duration": 0.01663,
     "end_time": "2022-11-25T05:08:17.030864",
     "exception": false,
     "start_time": "2022-11-25T05:08:17.014234",
     "status": "completed"
    },
    "tags": []
   },
   "source": [
    "## Stability plot"
   ]
  },
  {
   "cell_type": "code",
   "execution_count": 55,
   "id": "064086f4",
   "metadata": {
    "execution": {
     "iopub.execute_input": "2022-11-25T05:08:17.065134Z",
     "iopub.status.busy": "2022-11-25T05:08:17.064852Z",
     "iopub.status.idle": "2022-11-25T05:08:17.088333Z",
     "shell.execute_reply": "2022-11-25T05:08:17.087798Z"
    },
    "papermill": {
     "duration": 0.041737,
     "end_time": "2022-11-25T05:08:17.089296",
     "exception": false,
     "start_time": "2022-11-25T05:08:17.047559",
     "status": "completed"
    },
    "tags": []
   },
   "outputs": [],
   "source": [
    "parts_ari_df_plot = (\n",
    "    parts_ari_df.stack()\n",
    "    .reset_index()\n",
    "    .rename(columns={\"level_0\": \"k\", \"level_1\": \"idx\", 0: \"ari\"})\n",
    ")"
   ]
  },
  {
   "cell_type": "code",
   "execution_count": 56,
   "id": "f728d81d",
   "metadata": {
    "execution": {
     "iopub.execute_input": "2022-11-25T05:08:17.124220Z",
     "iopub.status.busy": "2022-11-25T05:08:17.123884Z",
     "iopub.status.idle": "2022-11-25T05:08:17.146535Z",
     "shell.execute_reply": "2022-11-25T05:08:17.146018Z"
    },
    "papermill": {
     "duration": 0.040801,
     "end_time": "2022-11-25T05:08:17.147378",
     "exception": false,
     "start_time": "2022-11-25T05:08:17.106577",
     "status": "completed"
    },
    "tags": []
   },
   "outputs": [
    {
     "data": {
      "text/plain": [
       "k        int64\n",
       "idx      int64\n",
       "ari    float64\n",
       "dtype: object"
      ]
     },
     "execution_count": 56,
     "metadata": {},
     "output_type": "execute_result"
    }
   ],
   "source": [
    "parts_ari_df_plot.dtypes"
   ]
  },
  {
   "cell_type": "code",
   "execution_count": 57,
   "id": "52b67ce9",
   "metadata": {
    "execution": {
     "iopub.execute_input": "2022-11-25T05:08:17.181785Z",
     "iopub.status.busy": "2022-11-25T05:08:17.181503Z",
     "iopub.status.idle": "2022-11-25T05:08:17.206374Z",
     "shell.execute_reply": "2022-11-25T05:08:17.205854Z"
    },
    "papermill": {
     "duration": 0.04282,
     "end_time": "2022-11-25T05:08:17.207223",
     "exception": false,
     "start_time": "2022-11-25T05:08:17.164403",
     "status": "completed"
    },
    "tags": []
   },
   "outputs": [
    {
     "data": {
      "text/html": [
       "<div>\n",
       "<style scoped>\n",
       "    .dataframe tbody tr th:only-of-type {\n",
       "        vertical-align: middle;\n",
       "    }\n",
       "\n",
       "    .dataframe tbody tr th {\n",
       "        vertical-align: top;\n",
       "    }\n",
       "\n",
       "    .dataframe thead th {\n",
       "        text-align: right;\n",
       "    }\n",
       "</style>\n",
       "<table border=\"1\" class=\"dataframe\">\n",
       "  <thead>\n",
       "    <tr style=\"text-align: right;\">\n",
       "      <th></th>\n",
       "      <th>k</th>\n",
       "      <th>idx</th>\n",
       "      <th>ari</th>\n",
       "    </tr>\n",
       "  </thead>\n",
       "  <tbody>\n",
       "    <tr>\n",
       "      <th>0</th>\n",
       "      <td>2</td>\n",
       "      <td>0</td>\n",
       "      <td>0.998934</td>\n",
       "    </tr>\n",
       "    <tr>\n",
       "      <th>1</th>\n",
       "      <td>2</td>\n",
       "      <td>1</td>\n",
       "      <td>1.000000</td>\n",
       "    </tr>\n",
       "    <tr>\n",
       "      <th>2</th>\n",
       "      <td>2</td>\n",
       "      <td>2</td>\n",
       "      <td>1.000000</td>\n",
       "    </tr>\n",
       "    <tr>\n",
       "      <th>3</th>\n",
       "      <td>2</td>\n",
       "      <td>3</td>\n",
       "      <td>0.991487</td>\n",
       "    </tr>\n",
       "    <tr>\n",
       "      <th>4</th>\n",
       "      <td>2</td>\n",
       "      <td>4</td>\n",
       "      <td>0.998934</td>\n",
       "    </tr>\n",
       "  </tbody>\n",
       "</table>\n",
       "</div>"
      ],
      "text/plain": [
       "   k  idx       ari\n",
       "0  2    0  0.998934\n",
       "1  2    1  1.000000\n",
       "2  2    2  1.000000\n",
       "3  2    3  0.991487\n",
       "4  2    4  0.998934"
      ]
     },
     "execution_count": 57,
     "metadata": {},
     "output_type": "execute_result"
    }
   ],
   "source": [
    "parts_ari_df_plot.head()"
   ]
  },
  {
   "cell_type": "code",
   "execution_count": 58,
   "id": "bf572c4e",
   "metadata": {
    "execution": {
     "iopub.execute_input": "2022-11-25T05:08:17.242179Z",
     "iopub.status.busy": "2022-11-25T05:08:17.241836Z",
     "iopub.status.idle": "2022-11-25T05:08:19.201492Z",
     "shell.execute_reply": "2022-11-25T05:08:19.201188Z"
    },
    "papermill": {
     "duration": 1.979227,
     "end_time": "2022-11-25T05:08:19.203656",
     "exception": false,
     "start_time": "2022-11-25T05:08:17.224429",
     "status": "completed"
    },
    "tags": []
   },
   "outputs": [
    {
     "data": {
      "image/png": "[encoded data removed]",
      "text/plain": [
       "<Figure size 1008x432 with 1 Axes>"
      ]
     },
     "metadata": {},
     "output_type": "display_data"
    }
   ],
   "source": [
    "# with sns.axes_style('whitegrid', {'grid.linestyle': '--'}):\n",
    "with sns.plotting_context(\"talk\", font_scale=0.75), sns.axes_style(\n",
    "    \"whitegrid\", {\"grid.linestyle\": \"--\"}\n",
    "):\n",
    "    fig = plt.figure(figsize=(14, 6))\n",
    "    ax = sns.pointplot(data=parts_ari_df_plot, x=\"k\", y=\"ari\")\n",
    "    ax.set_ylabel(\"Averange ARI\")\n",
    "    ax.set_xlabel(\"Number of clusters ($k$)\")\n",
    "    ax.set_xticklabels(ax.get_xticklabels(), rotation=45)\n",
    "    #     ax.set_ylim(0.0, 1.0)\n",
    "    #     ax.set_xlim(CLUSTERING_OPTIONS['K_MIN'], CLUSTERING_OPTIONS['K_MAX'])\n",
    "    plt.grid(True)\n",
    "    plt.tight_layout()"
   ]
  },
  {
   "cell_type": "code",
   "execution_count": null,
   "id": "f0833b76",
   "metadata": {
    "papermill": {
     "duration": 0.034749,
     "end_time": "2022-11-25T05:08:19.274257",
     "exception": false,
     "start_time": "2022-11-25T05:08:19.239508",
     "status": "completed"
    },
    "tags": []
   },
   "outputs": [],
   "source": []
  }
 ],
 "metadata": {
  "jupytext": {
   "cell_metadata_filter": "all,-execution,-papermill,-trusted",
   "formats": "ipynb,py//py:percent"
  },
  "kernelspec": {
   "display_name": "Python 3 (ipykernel)",
   "language": "python",
   "name": "python3"
  },
  "language_info": {
   "codemirror_mode": {
    "name": "ipython",
    "version": 3
   },
   "file_extension": ".py",
   "mimetype": "text/x-python",
   "name": "python",
   "nbconvert_exporter": "python",
   "pygments_lexer": "ipython3",
   "version": "3.8.13"
  },
  "papermill": {
   "default_parameters": {},
   "duration": 428.413659,
   "end_time": "2022-11-25T05:08:19.612854",
   "environment_variables": {},
   "exception": null,
   "input_path": "nbs/13.1_cluster_analysis_null/00-shuffle_genes/11_02-spectral-umap.ipynb",
   "output_path": "nbs/13.1_cluster_analysis_null/00-shuffle_genes/11_02-spectral-umap.run.ipynb",
   "parameters": {},
   "start_time": "2022-11-25T05:01:11.199195",
   "version": "2.2.2"
  },
  "toc-autonumbering": true,
  "toc-showcode": false,
  "toc-showmarkdowntxt": false,
  "toc-showtags": false
 },
 "nbformat": 4,
 "nbformat_minor": 5
}
