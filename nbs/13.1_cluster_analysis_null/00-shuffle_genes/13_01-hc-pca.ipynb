{
 "cells": [
  {
   "cell_type": "markdown",
   "id": "18079208",
   "metadata": {
    "papermill": {
     "duration": 0.011047,
     "end_time": "2022-09-13T19:28:10.302101",
     "exception": false,
     "start_time": "2022-09-13T19:28:10.291054",
     "status": "completed"
    },
    "tags": []
   },
   "source": [
    "# Description"
   ]
  },
  {
   "cell_type": "markdown",
   "id": "92119f64",
   "metadata": {
    "papermill": {
     "duration": 0.006808,
     "end_time": "2022-09-13T19:28:10.316117",
     "exception": false,
     "start_time": "2022-09-13T19:28:10.309309",
     "status": "completed"
    },
    "tags": []
   },
   "source": [
    "Runs hierarchical clustering on the pca version of the data."
   ]
  },
  {
   "cell_type": "markdown",
   "id": "8ea5c0d6",
   "metadata": {
    "papermill": {
     "duration": 0.006833,
     "end_time": "2022-09-13T19:28:10.331486",
     "exception": false,
     "start_time": "2022-09-13T19:28:10.324653",
     "status": "completed"
    },
    "tags": []
   },
   "source": [
    "# Environment variables"
   ]
  },
  {
   "cell_type": "code",
   "execution_count": 1,
   "id": "a6b4302f",
   "metadata": {
    "execution": {
     "iopub.execute_input": "2022-09-13T19:28:10.346382Z",
     "iopub.status.busy": "2022-09-13T19:28:10.346036Z",
     "iopub.status.idle": "2022-09-13T19:28:10.364705Z",
     "shell.execute_reply": "2022-09-13T19:28:10.364266Z"
    },
    "papermill": {
     "duration": 0.027939,
     "end_time": "2022-09-13T19:28:10.366263",
     "exception": false,
     "start_time": "2022-09-13T19:28:10.338324",
     "status": "completed"
    },
    "tags": []
   },
   "outputs": [
    {
     "data": {
      "text/plain": [
       "3"
      ]
     },
     "metadata": {},
     "output_type": "display_data"
    }
   ],
   "source": [
    "from IPython.display import display\n",
    "\n",
    "import conf\n",
    "\n",
    "N_JOBS = conf.GENERAL[\"N_JOBS\"]\n",
    "display(N_JOBS)"
   ]
  },
  {
   "cell_type": "code",
   "execution_count": 2,
   "id": "0f15653d",
   "metadata": {
    "execution": {
     "iopub.execute_input": "2022-09-13T19:28:10.383621Z",
     "iopub.status.busy": "2022-09-13T19:28:10.383455Z",
     "iopub.status.idle": "2022-09-13T19:28:10.390454Z",
     "shell.execute_reply": "2022-09-13T19:28:10.389882Z"
    },
    "papermill": {
     "duration": 0.017601,
     "end_time": "2022-09-13T19:28:10.391829",
     "exception": false,
     "start_time": "2022-09-13T19:28:10.374228",
     "status": "completed"
    },
    "tags": []
   },
   "outputs": [
    {
     "name": "stdout",
     "output_type": "stream",
     "text": [
      "env: MKL_NUM_THREADS=3\n",
      "env: OPEN_BLAS_NUM_THREADS=3\n",
      "env: NUMEXPR_NUM_THREADS=3\n",
      "env: OMP_NUM_THREADS=3\n"
     ]
    }
   ],
   "source": [
    "%env MKL_NUM_THREADS=$N_JOBS\n",
    "%env OPEN_BLAS_NUM_THREADS=$N_JOBS\n",
    "%env NUMEXPR_NUM_THREADS=$N_JOBS\n",
    "%env OMP_NUM_THREADS=$N_JOBS"
   ]
  },
  {
   "cell_type": "markdown",
   "id": "111f3992",
   "metadata": {
    "papermill": {
     "duration": 0.009652,
     "end_time": "2022-09-13T19:28:10.409595",
     "exception": false,
     "start_time": "2022-09-13T19:28:10.399943",
     "status": "completed"
    },
    "tags": []
   },
   "source": [
    "# Modules loading"
   ]
  },
  {
   "cell_type": "code",
   "execution_count": 3,
   "id": "a1140981",
   "metadata": {
    "execution": {
     "iopub.execute_input": "2022-09-13T19:28:10.441769Z",
     "iopub.status.busy": "2022-09-13T19:28:10.441605Z",
     "iopub.status.idle": "2022-09-13T19:28:10.464074Z",
     "shell.execute_reply": "2022-09-13T19:28:10.463631Z"
    },
    "papermill": {
     "duration": 0.040172,
     "end_time": "2022-09-13T19:28:10.465551",
     "exception": false,
     "start_time": "2022-09-13T19:28:10.425379",
     "status": "completed"
    },
    "tags": []
   },
   "outputs": [],
   "source": [
    "%load_ext autoreload\n",
    "%autoreload 2"
   ]
  },
  {
   "cell_type": "code",
   "execution_count": 4,
   "id": "28deaf49",
   "metadata": {
    "execution": {
     "iopub.execute_input": "2022-09-13T19:28:10.492972Z",
     "iopub.status.busy": "2022-09-13T19:28:10.492608Z",
     "iopub.status.idle": "2022-09-13T19:28:11.271455Z",
     "shell.execute_reply": "2022-09-13T19:28:11.270988Z"
    },
    "papermill": {
     "duration": 0.796205,
     "end_time": "2022-09-13T19:28:11.272841",
     "exception": false,
     "start_time": "2022-09-13T19:28:10.476636",
     "status": "completed"
    },
    "tags": []
   },
   "outputs": [],
   "source": [
    "from pathlib import Path\n",
    "\n",
    "import numpy as np\n",
    "import pandas as pd\n",
    "import matplotlib.pyplot as plt\n",
    "import seaborn as sns\n",
    "\n",
    "from utils import generate_result_set_name"
   ]
  },
  {
   "cell_type": "markdown",
   "id": "8310908a",
   "metadata": {
    "papermill": {
     "duration": 0.009392,
     "end_time": "2022-09-13T19:28:11.290173",
     "exception": false,
     "start_time": "2022-09-13T19:28:11.280781",
     "status": "completed"
    },
    "tags": []
   },
   "source": [
    "# Settings"
   ]
  },
  {
   "cell_type": "code",
   "execution_count": 5,
   "id": "9144be05",
   "metadata": {
    "execution": {
     "iopub.execute_input": "2022-09-13T19:28:11.307009Z",
     "iopub.status.busy": "2022-09-13T19:28:11.306681Z",
     "iopub.status.idle": "2022-09-13T19:28:11.326169Z",
     "shell.execute_reply": "2022-09-13T19:28:11.325548Z"
    },
    "papermill": {
     "duration": 0.030028,
     "end_time": "2022-09-13T19:28:11.327783",
     "exception": false,
     "start_time": "2022-09-13T19:28:11.297755",
     "status": "completed"
    },
    "tags": []
   },
   "outputs": [],
   "source": [
    "np.random.seed(0)"
   ]
  },
  {
   "cell_type": "code",
   "execution_count": null,
   "id": "10f6375d-04d2-4873-98e4-e5afdf9a79cd",
   "metadata": {},
   "outputs": [],
   "source": [
    "NULL_DIR = conf.RESULTS[\"CLUSTERING_NULL_DIR\"], \"shuffle_genes\""
   ]
  },
  {
   "cell_type": "markdown",
   "id": "54d1d37c",
   "metadata": {
    "papermill": {
     "duration": 0.008842,
     "end_time": "2022-09-13T19:28:11.345452",
     "exception": false,
     "start_time": "2022-09-13T19:28:11.336610",
     "status": "completed"
    },
    "tags": []
   },
   "source": [
    "## Input data"
   ]
  },
  {
   "cell_type": "code",
   "execution_count": 6,
   "id": "e8436e39",
   "metadata": {
    "execution": {
     "iopub.execute_input": "2022-09-13T19:28:11.364329Z",
     "iopub.status.busy": "2022-09-13T19:28:11.364134Z",
     "iopub.status.idle": "2022-09-13T19:28:11.384557Z",
     "shell.execute_reply": "2022-09-13T19:28:11.383914Z"
    },
    "papermill": {
     "duration": 0.031823,
     "end_time": "2022-09-13T19:28:11.386159",
     "exception": false,
     "start_time": "2022-09-13T19:28:11.354336",
     "status": "completed"
    },
    "tags": []
   },
   "outputs": [],
   "source": [
    "INPUT_SUBSET = \"pca\""
   ]
  },
  {
   "cell_type": "code",
   "execution_count": 7,
   "id": "033d2a57",
   "metadata": {
    "execution": {
     "iopub.execute_input": "2022-09-13T19:28:11.405555Z",
     "iopub.status.busy": "2022-09-13T19:28:11.405370Z",
     "iopub.status.idle": "2022-09-13T19:28:11.423704Z",
     "shell.execute_reply": "2022-09-13T19:28:11.422975Z"
    },
    "papermill": {
     "duration": 0.028776,
     "end_time": "2022-09-13T19:28:11.425145",
     "exception": false,
     "start_time": "2022-09-13T19:28:11.396369",
     "status": "completed"
    },
    "tags": []
   },
   "outputs": [],
   "source": [
    "INPUT_STEM = \"z_score_std-projection-smultixcan-efo_partial-mashr-zscores\""
   ]
  },
  {
   "cell_type": "code",
   "execution_count": 8,
   "id": "29886ee3",
   "metadata": {
    "execution": {
     "iopub.execute_input": "2022-09-13T19:28:11.473889Z",
     "iopub.status.busy": "2022-09-13T19:28:11.473689Z",
     "iopub.status.idle": "2022-09-13T19:28:11.493149Z",
     "shell.execute_reply": "2022-09-13T19:28:11.492470Z"
    },
    "papermill": {
     "duration": 0.030822,
     "end_time": "2022-09-13T19:28:11.494781",
     "exception": false,
     "start_time": "2022-09-13T19:28:11.463959",
     "status": "completed"
    },
    "tags": []
   },
   "outputs": [],
   "source": [
    "# parameters of the dimentionality reduction steps\n",
    "DR_OPTIONS = {\n",
    "    \"n_components\": 50,\n",
    "    \"svd_solver\": \"full\",\n",
    "    \"random_state\": 0,\n",
    "}"
   ]
  },
  {
   "cell_type": "code",
   "execution_count": 9,
   "id": "0db56678",
   "metadata": {
    "execution": {
     "iopub.execute_input": "2022-09-13T19:28:11.514115Z",
     "iopub.status.busy": "2022-09-13T19:28:11.513903Z",
     "iopub.status.idle": "2022-09-13T19:28:11.539135Z",
     "shell.execute_reply": "2022-09-13T19:28:11.538560Z"
    },
    "papermill": {
     "duration": 0.036314,
     "end_time": "2022-09-13T19:28:11.540630",
     "exception": false,
     "start_time": "2022-09-13T19:28:11.504316",
     "status": "completed"
    },
    "tags": []
   },
   "outputs": [
    {
     "data": {
      "text/plain": [
       "PosixPath('/opt/data/results/clustering/null_sims/data_transformations/pca/pca-z_score_std-projection-smultixcan-efo_partial-mashr-zscores-n_components_50-random_state_0-svd_solver_full.pkl')"
      ]
     },
     "metadata": {},
     "output_type": "display_data"
    },
    {
     "data": {
      "text/plain": [
       "'pca-z_score_std-projection-smultixcan-efo_partial-mashr-zscores-n_components_50-random_state_0-svd_solver_full'"
      ]
     },
     "metadata": {},
     "output_type": "display_data"
    }
   ],
   "source": [
    "input_filepath = Path(\n",
    "    NULL_DIR,\n",
    "    \"data_transformations\",\n",
    "    INPUT_SUBSET,\n",
    "    generate_result_set_name(\n",
    "        DR_OPTIONS, prefix=f\"{INPUT_SUBSET}-{INPUT_STEM}-\", suffix=\".pkl\"\n",
    "    ),\n",
    ").resolve()\n",
    "display(input_filepath)\n",
    "\n",
    "assert input_filepath.exists(), \"Input file does not exist\"\n",
    "\n",
    "input_filepath_stem = input_filepath.stem\n",
    "display(input_filepath_stem)"
   ]
  },
  {
   "cell_type": "markdown",
   "id": "b5ffb1a6",
   "metadata": {
    "papermill": {
     "duration": 0.008103,
     "end_time": "2022-09-13T19:28:11.572155",
     "exception": false,
     "start_time": "2022-09-13T19:28:11.564052",
     "status": "completed"
    },
    "tags": []
   },
   "source": [
    "## Clustering"
   ]
  },
  {
   "cell_type": "code",
   "execution_count": 10,
   "id": "bab5805f",
   "metadata": {
    "execution": {
     "iopub.execute_input": "2022-09-13T19:28:11.589595Z",
     "iopub.status.busy": "2022-09-13T19:28:11.589421Z",
     "iopub.status.idle": "2022-09-13T19:28:11.694192Z",
     "shell.execute_reply": "2022-09-13T19:28:11.693596Z"
    },
    "papermill": {
     "duration": 0.114718,
     "end_time": "2022-09-13T19:28:11.695565",
     "exception": false,
     "start_time": "2022-09-13T19:28:11.580847",
     "status": "completed"
    },
    "tags": []
   },
   "outputs": [],
   "source": [
    "from sklearn.cluster import AgglomerativeClustering"
   ]
  },
  {
   "cell_type": "code",
   "execution_count": 11,
   "id": "dd14e903",
   "metadata": {
    "execution": {
     "iopub.execute_input": "2022-09-13T19:28:11.712951Z",
     "iopub.status.busy": "2022-09-13T19:28:11.712760Z",
     "iopub.status.idle": "2022-09-13T19:28:11.732680Z",
     "shell.execute_reply": "2022-09-13T19:28:11.732165Z"
    },
    "papermill": {
     "duration": 0.030135,
     "end_time": "2022-09-13T19:28:11.734127",
     "exception": false,
     "start_time": "2022-09-13T19:28:11.703992",
     "status": "completed"
    },
    "tags": []
   },
   "outputs": [],
   "source": [
    "CLUSTERING_ATTRIBUTES_TO_SAVE = [\"n_clusters\"]"
   ]
  },
  {
   "cell_type": "code",
   "execution_count": 12,
   "id": "ff7bf878",
   "metadata": {
    "execution": {
     "iopub.execute_input": "2022-09-13T19:28:11.753154Z",
     "iopub.status.busy": "2022-09-13T19:28:11.752972Z",
     "iopub.status.idle": "2022-09-13T19:28:11.775635Z",
     "shell.execute_reply": "2022-09-13T19:28:11.774099Z"
    },
    "papermill": {
     "duration": 0.034091,
     "end_time": "2022-09-13T19:28:11.777051",
     "exception": false,
     "start_time": "2022-09-13T19:28:11.742960",
     "status": "completed"
    },
    "tags": []
   },
   "outputs": [
    {
     "data": {
      "text/plain": [
       "{'K_MIN': 2,\n",
       " 'K_MAX': 75,\n",
       " 'LINKAGE': {'average', 'complete', 'single', 'ward'},\n",
       " 'AFFINITY': 'euclidean'}"
      ]
     },
     "metadata": {},
     "output_type": "display_data"
    }
   ],
   "source": [
    "CLUSTERING_OPTIONS = {}\n",
    "\n",
    "CLUSTERING_OPTIONS[\"K_MIN\"] = 2\n",
    "CLUSTERING_OPTIONS[\"K_MAX\"] = 75  # sqrt(3749) + some more to get closer to 295\n",
    "CLUSTERING_OPTIONS[\"LINKAGE\"] = {\"ward\", \"complete\", \"average\", \"single\"}\n",
    "CLUSTERING_OPTIONS[\"AFFINITY\"] = \"euclidean\"\n",
    "\n",
    "display(CLUSTERING_OPTIONS)"
   ]
  },
  {
   "cell_type": "code",
   "execution_count": 13,
   "id": "fbb70ae2",
   "metadata": {
    "execution": {
     "iopub.execute_input": "2022-09-13T19:28:11.795582Z",
     "iopub.status.busy": "2022-09-13T19:28:11.795401Z",
     "iopub.status.idle": "2022-09-13T19:28:11.816740Z",
     "shell.execute_reply": "2022-09-13T19:28:11.816292Z"
    },
    "papermill": {
     "duration": 0.032574,
     "end_time": "2022-09-13T19:28:11.818208",
     "exception": false,
     "start_time": "2022-09-13T19:28:11.785634",
     "status": "completed"
    },
    "tags": []
   },
   "outputs": [],
   "source": [
    "CLUSTERERS = {}\n",
    "\n",
    "idx = 0\n",
    "\n",
    "for k in range(CLUSTERING_OPTIONS[\"K_MIN\"], CLUSTERING_OPTIONS[\"K_MAX\"] + 1):\n",
    "    for linkage in CLUSTERING_OPTIONS[\"LINKAGE\"]:\n",
    "        if linkage == \"ward\":\n",
    "            affinity = \"euclidean\"\n",
    "        else:\n",
    "            affinity = \"precomputed\"\n",
    "\n",
    "        clus = AgglomerativeClustering(\n",
    "            n_clusters=k,\n",
    "            affinity=affinity,\n",
    "            linkage=linkage,\n",
    "        )\n",
    "\n",
    "        method_name = type(clus).__name__\n",
    "        CLUSTERERS[f\"{method_name} #{idx}\"] = clus\n",
    "\n",
    "        idx = idx + 1"
   ]
  },
  {
   "cell_type": "code",
   "execution_count": 14,
   "id": "5511fb5f",
   "metadata": {
    "execution": {
     "iopub.execute_input": "2022-09-13T19:28:11.836539Z",
     "iopub.status.busy": "2022-09-13T19:28:11.836351Z",
     "iopub.status.idle": "2022-09-13T19:28:11.857420Z",
     "shell.execute_reply": "2022-09-13T19:28:11.856899Z"
    },
    "papermill": {
     "duration": 0.032282,
     "end_time": "2022-09-13T19:28:11.858831",
     "exception": false,
     "start_time": "2022-09-13T19:28:11.826549",
     "status": "completed"
    },
    "tags": []
   },
   "outputs": [
    {
     "data": {
      "text/plain": [
       "296"
      ]
     },
     "metadata": {},
     "output_type": "display_data"
    }
   ],
   "source": [
    "display(len(CLUSTERERS))"
   ]
  },
  {
   "cell_type": "code",
   "execution_count": 15,
   "id": "bfc324af",
   "metadata": {
    "execution": {
     "iopub.execute_input": "2022-09-13T19:28:11.877889Z",
     "iopub.status.busy": "2022-09-13T19:28:11.877325Z",
     "iopub.status.idle": "2022-09-13T19:28:11.898407Z",
     "shell.execute_reply": "2022-09-13T19:28:11.897877Z"
    },
    "papermill": {
     "duration": 0.031641,
     "end_time": "2022-09-13T19:28:11.899656",
     "exception": false,
     "start_time": "2022-09-13T19:28:11.868015",
     "status": "completed"
    },
    "tags": []
   },
   "outputs": [
    {
     "data": {
      "text/plain": [
       "('AgglomerativeClustering #0',\n",
       " AgglomerativeClustering(affinity='precomputed', linkage='single'))"
      ]
     },
     "metadata": {},
     "output_type": "display_data"
    },
    {
     "data": {
      "text/plain": [
       "('AgglomerativeClustering #1', AgglomerativeClustering())"
      ]
     },
     "metadata": {},
     "output_type": "display_data"
    }
   ],
   "source": [
    "_iter = iter(CLUSTERERS.items())\n",
    "display(next(_iter))\n",
    "display(next(_iter))"
   ]
  },
  {
   "cell_type": "code",
   "execution_count": 16,
   "id": "4b26ef27",
   "metadata": {
    "execution": {
     "iopub.execute_input": "2022-09-13T19:28:11.930268Z",
     "iopub.status.busy": "2022-09-13T19:28:11.930029Z",
     "iopub.status.idle": "2022-09-13T19:28:11.950157Z",
     "shell.execute_reply": "2022-09-13T19:28:11.949707Z"
    },
    "papermill": {
     "duration": 0.033895,
     "end_time": "2022-09-13T19:28:11.952423",
     "exception": false,
     "start_time": "2022-09-13T19:28:11.918528",
     "status": "completed"
    },
    "tags": []
   },
   "outputs": [
    {
     "data": {
      "text/plain": [
       "'AgglomerativeClustering'"
      ]
     },
     "metadata": {},
     "output_type": "display_data"
    }
   ],
   "source": [
    "clustering_method_name = method_name\n",
    "display(clustering_method_name)"
   ]
  },
  {
   "cell_type": "markdown",
   "id": "fc3853d7",
   "metadata": {
    "papermill": {
     "duration": 0.00989,
     "end_time": "2022-09-13T19:28:11.974804",
     "exception": false,
     "start_time": "2022-09-13T19:28:11.964914",
     "status": "completed"
    },
    "tags": []
   },
   "source": [
    "## Output directory"
   ]
  },
  {
   "cell_type": "code",
   "execution_count": 17,
   "id": "8a786027",
   "metadata": {
    "execution": {
     "iopub.execute_input": "2022-09-13T19:28:11.993621Z",
     "iopub.status.busy": "2022-09-13T19:28:11.993436Z",
     "iopub.status.idle": "2022-09-13T19:28:12.019167Z",
     "shell.execute_reply": "2022-09-13T19:28:12.018615Z"
    },
    "papermill": {
     "duration": 0.036787,
     "end_time": "2022-09-13T19:28:12.020625",
     "exception": false,
     "start_time": "2022-09-13T19:28:11.983838",
     "status": "completed"
    },
    "tags": []
   },
   "outputs": [
    {
     "data": {
      "text/plain": [
       "PosixPath('/opt/data/results/clustering/null_sims/runs/pca-z_score_std-projection-smultixcan-efo_partial-mashr-zscores')"
      ]
     },
     "metadata": {},
     "output_type": "display_data"
    }
   ],
   "source": [
    "# output dir for this notebook\n",
    "RESULTS_DIR = Path(\n",
    "    NULL_DIR,\n",
    "    \"runs\",\n",
    "    f\"{INPUT_SUBSET}-{INPUT_STEM}\",\n",
    ").resolve()\n",
    "RESULTS_DIR.mkdir(parents=True, exist_ok=True)\n",
    "\n",
    "display(RESULTS_DIR)"
   ]
  },
  {
   "cell_type": "markdown",
   "id": "6a9d2924",
   "metadata": {
    "papermill": {
     "duration": 0.008926,
     "end_time": "2022-09-13T19:28:12.039855",
     "exception": false,
     "start_time": "2022-09-13T19:28:12.030929",
     "status": "completed"
    },
    "tags": []
   },
   "source": [
    "# Load input file"
   ]
  },
  {
   "cell_type": "code",
   "execution_count": 18,
   "id": "90da4ce9",
   "metadata": {
    "execution": {
     "iopub.execute_input": "2022-09-13T19:28:12.059436Z",
     "iopub.status.busy": "2022-09-13T19:28:12.058899Z",
     "iopub.status.idle": "2022-09-13T19:28:12.086687Z",
     "shell.execute_reply": "2022-09-13T19:28:12.086218Z"
    },
    "papermill": {
     "duration": 0.039536,
     "end_time": "2022-09-13T19:28:12.088438",
     "exception": false,
     "start_time": "2022-09-13T19:28:12.048902",
     "status": "completed"
    },
    "tags": []
   },
   "outputs": [],
   "source": [
    "data = pd.read_pickle(input_filepath)"
   ]
  },
  {
   "cell_type": "code",
   "execution_count": 19,
   "id": "4d4abcd8",
   "metadata": {
    "execution": {
     "iopub.execute_input": "2022-09-13T19:28:12.108095Z",
     "iopub.status.busy": "2022-09-13T19:28:12.107914Z",
     "iopub.status.idle": "2022-09-13T19:28:12.127263Z",
     "shell.execute_reply": "2022-09-13T19:28:12.126750Z"
    },
    "papermill": {
     "duration": 0.03042,
     "end_time": "2022-09-13T19:28:12.128635",
     "exception": false,
     "start_time": "2022-09-13T19:28:12.098215",
     "status": "completed"
    },
    "tags": []
   },
   "outputs": [
    {
     "data": {
      "text/plain": [
       "(3752, 50)"
      ]
     },
     "execution_count": 19,
     "metadata": {},
     "output_type": "execute_result"
    }
   ],
   "source": [
    "data.shape"
   ]
  },
  {
   "cell_type": "code",
   "execution_count": 20,
   "id": "09327061",
   "metadata": {
    "execution": {
     "iopub.execute_input": "2022-09-13T19:28:12.146224Z",
     "iopub.status.busy": "2022-09-13T19:28:12.146033Z",
     "iopub.status.idle": "2022-09-13T19:28:12.181234Z",
     "shell.execute_reply": "2022-09-13T19:28:12.180743Z"
    },
    "papermill": {
     "duration": 0.045415,
     "end_time": "2022-09-13T19:28:12.182566",
     "exception": false,
     "start_time": "2022-09-13T19:28:12.137151",
     "status": "completed"
    },
    "tags": []
   },
   "outputs": [
    {
     "data": {
      "text/html": [
       "<div>\n",
       "<style scoped>\n",
       "    .dataframe tbody tr th:only-of-type {\n",
       "        vertical-align: middle;\n",
       "    }\n",
       "\n",
       "    .dataframe tbody tr th {\n",
       "        vertical-align: top;\n",
       "    }\n",
       "\n",
       "    .dataframe thead th {\n",
       "        text-align: right;\n",
       "    }\n",
       "</style>\n",
       "<table border=\"1\" class=\"dataframe\">\n",
       "  <thead>\n",
       "    <tr style=\"text-align: right;\">\n",
       "      <th></th>\n",
       "      <th>PCA1</th>\n",
       "      <th>PCA2</th>\n",
       "      <th>PCA3</th>\n",
       "      <th>PCA4</th>\n",
       "      <th>PCA5</th>\n",
       "      <th>PCA6</th>\n",
       "      <th>PCA7</th>\n",
       "      <th>PCA8</th>\n",
       "      <th>PCA9</th>\n",
       "      <th>PCA10</th>\n",
       "      <th>...</th>\n",
       "      <th>PCA41</th>\n",
       "      <th>PCA42</th>\n",
       "      <th>PCA43</th>\n",
       "      <th>PCA44</th>\n",
       "      <th>PCA45</th>\n",
       "      <th>PCA46</th>\n",
       "      <th>PCA47</th>\n",
       "      <th>PCA48</th>\n",
       "      <th>PCA49</th>\n",
       "      <th>PCA50</th>\n",
       "    </tr>\n",
       "  </thead>\n",
       "  <tbody>\n",
       "    <tr>\n",
       "      <th>100001_raw-Food_weight</th>\n",
       "      <td>-0.844744</td>\n",
       "      <td>3.134501</td>\n",
       "      <td>-1.885185</td>\n",
       "      <td>0.800877</td>\n",
       "      <td>-0.283830</td>\n",
       "      <td>0.027480</td>\n",
       "      <td>0.611143</td>\n",
       "      <td>1.485636</td>\n",
       "      <td>0.202757</td>\n",
       "      <td>0.450528</td>\n",
       "      <td>...</td>\n",
       "      <td>2.547792</td>\n",
       "      <td>-1.128343</td>\n",
       "      <td>-0.907277</td>\n",
       "      <td>-0.049764</td>\n",
       "      <td>-1.669310</td>\n",
       "      <td>-0.721449</td>\n",
       "      <td>2.077602</td>\n",
       "      <td>0.799708</td>\n",
       "      <td>1.271524</td>\n",
       "      <td>-1.871291</td>\n",
       "    </tr>\n",
       "    <tr>\n",
       "      <th>100002_raw-Energy</th>\n",
       "      <td>-0.078568</td>\n",
       "      <td>-1.675988</td>\n",
       "      <td>-0.826605</td>\n",
       "      <td>0.872125</td>\n",
       "      <td>-1.257784</td>\n",
       "      <td>0.276976</td>\n",
       "      <td>0.123534</td>\n",
       "      <td>-0.225430</td>\n",
       "      <td>1.291625</td>\n",
       "      <td>-0.406739</td>\n",
       "      <td>...</td>\n",
       "      <td>-1.595450</td>\n",
       "      <td>-0.979352</td>\n",
       "      <td>2.081672</td>\n",
       "      <td>-1.266333</td>\n",
       "      <td>-1.430714</td>\n",
       "      <td>2.733243</td>\n",
       "      <td>-0.293793</td>\n",
       "      <td>-1.427649</td>\n",
       "      <td>-1.315076</td>\n",
       "      <td>1.458368</td>\n",
       "    </tr>\n",
       "    <tr>\n",
       "      <th>100003_raw-Protein</th>\n",
       "      <td>-1.966843</td>\n",
       "      <td>-0.720839</td>\n",
       "      <td>-0.621370</td>\n",
       "      <td>1.066950</td>\n",
       "      <td>0.612613</td>\n",
       "      <td>-1.143542</td>\n",
       "      <td>-3.256801</td>\n",
       "      <td>0.637131</td>\n",
       "      <td>1.275239</td>\n",
       "      <td>-1.746677</td>\n",
       "      <td>...</td>\n",
       "      <td>-0.898644</td>\n",
       "      <td>1.423939</td>\n",
       "      <td>0.200717</td>\n",
       "      <td>0.080861</td>\n",
       "      <td>-0.910925</td>\n",
       "      <td>-0.266207</td>\n",
       "      <td>1.036173</td>\n",
       "      <td>0.326860</td>\n",
       "      <td>-0.197079</td>\n",
       "      <td>-0.322935</td>\n",
       "    </tr>\n",
       "    <tr>\n",
       "      <th>100004_raw-Fat</th>\n",
       "      <td>0.332482</td>\n",
       "      <td>-0.928841</td>\n",
       "      <td>-0.216911</td>\n",
       "      <td>0.486861</td>\n",
       "      <td>0.454021</td>\n",
       "      <td>-1.316312</td>\n",
       "      <td>0.226607</td>\n",
       "      <td>2.504342</td>\n",
       "      <td>-0.740799</td>\n",
       "      <td>-2.027466</td>\n",
       "      <td>...</td>\n",
       "      <td>0.101529</td>\n",
       "      <td>0.032200</td>\n",
       "      <td>-0.658490</td>\n",
       "      <td>-0.288036</td>\n",
       "      <td>1.399674</td>\n",
       "      <td>2.502066</td>\n",
       "      <td>1.872188</td>\n",
       "      <td>-0.239398</td>\n",
       "      <td>-1.349670</td>\n",
       "      <td>-0.457304</td>\n",
       "    </tr>\n",
       "    <tr>\n",
       "      <th>100005_raw-Carbohydrate</th>\n",
       "      <td>2.106644</td>\n",
       "      <td>1.025306</td>\n",
       "      <td>0.405959</td>\n",
       "      <td>2.645132</td>\n",
       "      <td>0.881081</td>\n",
       "      <td>-1.718546</td>\n",
       "      <td>0.693749</td>\n",
       "      <td>0.135447</td>\n",
       "      <td>-0.303163</td>\n",
       "      <td>-0.525056</td>\n",
       "      <td>...</td>\n",
       "      <td>0.612486</td>\n",
       "      <td>-0.769634</td>\n",
       "      <td>-0.264214</td>\n",
       "      <td>3.150728</td>\n",
       "      <td>-1.403396</td>\n",
       "      <td>2.893334</td>\n",
       "      <td>0.900700</td>\n",
       "      <td>0.200481</td>\n",
       "      <td>-2.369759</td>\n",
       "      <td>-0.348016</td>\n",
       "    </tr>\n",
       "  </tbody>\n",
       "</table>\n",
       "<p>5 rows × 50 columns</p>\n",
       "</div>"
      ],
      "text/plain": [
       "                             PCA1      PCA2      PCA3      PCA4      PCA5  \\\n",
       "100001_raw-Food_weight  -0.844744  3.134501 -1.885185  0.800877 -0.283830   \n",
       "100002_raw-Energy       -0.078568 -1.675988 -0.826605  0.872125 -1.257784   \n",
       "100003_raw-Protein      -1.966843 -0.720839 -0.621370  1.066950  0.612613   \n",
       "100004_raw-Fat           0.332482 -0.928841 -0.216911  0.486861  0.454021   \n",
       "100005_raw-Carbohydrate  2.106644  1.025306  0.405959  2.645132  0.881081   \n",
       "\n",
       "                             PCA6      PCA7      PCA8      PCA9     PCA10  \\\n",
       "100001_raw-Food_weight   0.027480  0.611143  1.485636  0.202757  0.450528   \n",
       "100002_raw-Energy        0.276976  0.123534 -0.225430  1.291625 -0.406739   \n",
       "100003_raw-Protein      -1.143542 -3.256801  0.637131  1.275239 -1.746677   \n",
       "100004_raw-Fat          -1.316312  0.226607  2.504342 -0.740799 -2.027466   \n",
       "100005_raw-Carbohydrate -1.718546  0.693749  0.135447 -0.303163 -0.525056   \n",
       "\n",
       "                         ...     PCA41     PCA42     PCA43     PCA44  \\\n",
       "100001_raw-Food_weight   ...  2.547792 -1.128343 -0.907277 -0.049764   \n",
       "100002_raw-Energy        ... -1.595450 -0.979352  2.081672 -1.266333   \n",
       "100003_raw-Protein       ... -0.898644  1.423939  0.200717  0.080861   \n",
       "100004_raw-Fat           ...  0.101529  0.032200 -0.658490 -0.288036   \n",
       "100005_raw-Carbohydrate  ...  0.612486 -0.769634 -0.264214  3.150728   \n",
       "\n",
       "                            PCA45     PCA46     PCA47     PCA48     PCA49  \\\n",
       "100001_raw-Food_weight  -1.669310 -0.721449  2.077602  0.799708  1.271524   \n",
       "100002_raw-Energy       -1.430714  2.733243 -0.293793 -1.427649 -1.315076   \n",
       "100003_raw-Protein      -0.910925 -0.266207  1.036173  0.326860 -0.197079   \n",
       "100004_raw-Fat           1.399674  2.502066  1.872188 -0.239398 -1.349670   \n",
       "100005_raw-Carbohydrate -1.403396  2.893334  0.900700  0.200481 -2.369759   \n",
       "\n",
       "                            PCA50  \n",
       "100001_raw-Food_weight  -1.871291  \n",
       "100002_raw-Energy        1.458368  \n",
       "100003_raw-Protein      -0.322935  \n",
       "100004_raw-Fat          -0.457304  \n",
       "100005_raw-Carbohydrate -0.348016  \n",
       "\n",
       "[5 rows x 50 columns]"
      ]
     },
     "execution_count": 20,
     "metadata": {},
     "output_type": "execute_result"
    }
   ],
   "source": [
    "data.head()"
   ]
  },
  {
   "cell_type": "code",
   "execution_count": 21,
   "id": "45dbd777",
   "metadata": {
    "execution": {
     "iopub.execute_input": "2022-09-13T19:28:12.202354Z",
     "iopub.status.busy": "2022-09-13T19:28:12.202100Z",
     "iopub.status.idle": "2022-09-13T19:28:12.224300Z",
     "shell.execute_reply": "2022-09-13T19:28:12.223791Z"
    },
    "papermill": {
     "duration": 0.033709,
     "end_time": "2022-09-13T19:28:12.226074",
     "exception": false,
     "start_time": "2022-09-13T19:28:12.192365",
     "status": "completed"
    },
    "tags": []
   },
   "outputs": [],
   "source": [
    "assert not data.isna().any().any()"
   ]
  },
  {
   "cell_type": "markdown",
   "id": "5065d6fe",
   "metadata": {
    "papermill": {
     "duration": 0.026106,
     "end_time": "2022-09-13T19:28:12.281257",
     "exception": false,
     "start_time": "2022-09-13T19:28:12.255151",
     "status": "completed"
    },
    "tags": []
   },
   "source": [
    "# Clustering"
   ]
  },
  {
   "cell_type": "markdown",
   "id": "13906733",
   "metadata": {
    "papermill": {
     "duration": 0.020814,
     "end_time": "2022-09-13T19:28:12.338196",
     "exception": false,
     "start_time": "2022-09-13T19:28:12.317382",
     "status": "completed"
    },
    "tags": []
   },
   "source": [
    "## Generate ensemble"
   ]
  },
  {
   "cell_type": "code",
   "execution_count": 22,
   "id": "652837ed",
   "metadata": {
    "execution": {
     "iopub.execute_input": "2022-09-13T19:28:12.381750Z",
     "iopub.status.busy": "2022-09-13T19:28:12.381573Z",
     "iopub.status.idle": "2022-09-13T19:28:12.422862Z",
     "shell.execute_reply": "2022-09-13T19:28:12.422400Z"
    },
    "papermill": {
     "duration": 0.065172,
     "end_time": "2022-09-13T19:28:12.424244",
     "exception": false,
     "start_time": "2022-09-13T19:28:12.359072",
     "status": "completed"
    },
    "tags": []
   },
   "outputs": [],
   "source": [
    "from sklearn.metrics import pairwise_distances\n",
    "from clustering.ensembles.utils import generate_ensemble"
   ]
  },
  {
   "cell_type": "code",
   "execution_count": 23,
   "id": "8a1b7d1b",
   "metadata": {
    "execution": {
     "iopub.execute_input": "2022-09-13T19:28:12.456046Z",
     "iopub.status.busy": "2022-09-13T19:28:12.455885Z",
     "iopub.status.idle": "2022-09-13T19:28:12.665136Z",
     "shell.execute_reply": "2022-09-13T19:28:12.664537Z"
    },
    "papermill": {
     "duration": 0.228428,
     "end_time": "2022-09-13T19:28:12.666904",
     "exception": false,
     "start_time": "2022-09-13T19:28:12.438476",
     "status": "completed"
    },
    "tags": []
   },
   "outputs": [],
   "source": [
    "data_dist = pairwise_distances(data, metric=CLUSTERING_OPTIONS[\"AFFINITY\"])"
   ]
  },
  {
   "cell_type": "code",
   "execution_count": 24,
   "id": "7cd0e1b9",
   "metadata": {
    "execution": {
     "iopub.execute_input": "2022-09-13T19:28:12.687674Z",
     "iopub.status.busy": "2022-09-13T19:28:12.687494Z",
     "iopub.status.idle": "2022-09-13T19:28:12.709748Z",
     "shell.execute_reply": "2022-09-13T19:28:12.709115Z"
    },
    "papermill": {
     "duration": 0.034561,
     "end_time": "2022-09-13T19:28:12.711335",
     "exception": false,
     "start_time": "2022-09-13T19:28:12.676774",
     "status": "completed"
    },
    "tags": []
   },
   "outputs": [
    {
     "data": {
      "text/plain": [
       "(3752, 3752)"
      ]
     },
     "execution_count": 24,
     "metadata": {},
     "output_type": "execute_result"
    }
   ],
   "source": [
    "data_dist.shape"
   ]
  },
  {
   "cell_type": "code",
   "execution_count": 25,
   "id": "9fdb9bb6",
   "metadata": {
    "execution": {
     "iopub.execute_input": "2022-09-13T19:28:12.732760Z",
     "iopub.status.busy": "2022-09-13T19:28:12.732161Z",
     "iopub.status.idle": "2022-09-13T19:28:13.436219Z",
     "shell.execute_reply": "2022-09-13T19:28:13.435557Z"
    },
    "papermill": {
     "duration": 0.716487,
     "end_time": "2022-09-13T19:28:13.438004",
     "exception": false,
     "start_time": "2022-09-13T19:28:12.721517",
     "status": "completed"
    },
    "tags": []
   },
   "outputs": [
    {
     "data": {
      "text/plain": [
       "count            14077504.0\n",
       "mean     14.299169630230853\n",
       "std       4.349193746189346\n",
       "min                     0.0\n",
       "25%      12.619931218292255\n",
       "50%       13.70111397559835\n",
       "75%      14.869804261378048\n",
       "max      107.58853103183318\n",
       "dtype: object"
      ]
     },
     "execution_count": 25,
     "metadata": {},
     "output_type": "execute_result"
    }
   ],
   "source": [
    "pd.Series(data_dist.flatten()).describe().apply(str)"
   ]
  },
  {
   "cell_type": "code",
   "execution_count": 26,
   "id": "41f4836c",
   "metadata": {
    "execution": {
     "iopub.execute_input": "2022-09-13T19:28:13.460353Z",
     "iopub.status.busy": "2022-09-13T19:28:13.460153Z",
     "iopub.status.idle": "2022-09-13T20:02:34.569664Z",
     "shell.execute_reply": "2022-09-13T20:02:34.568923Z"
    },
    "papermill": {
     "duration": 2061.122595,
     "end_time": "2022-09-13T20:02:34.571374",
     "exception": false,
     "start_time": "2022-09-13T19:28:13.448779",
     "status": "completed"
    },
    "tags": []
   },
   "outputs": [
    {
     "name": "stderr",
     "output_type": "stream",
     "text": [
      "100%|██████████| 296/296 [34:21<00:00,  6.96s/it]\n"
     ]
    }
   ],
   "source": [
    "ensemble = generate_ensemble(\n",
    "    data_dist,\n",
    "    CLUSTERERS,\n",
    "    attributes=CLUSTERING_ATTRIBUTES_TO_SAVE,\n",
    "    affinity_matrix=data_dist,\n",
    ")"
   ]
  },
  {
   "cell_type": "code",
   "execution_count": 27,
   "id": "9190fefb",
   "metadata": {
    "execution": {
     "iopub.execute_input": "2022-09-13T20:02:34.618459Z",
     "iopub.status.busy": "2022-09-13T20:02:34.617900Z",
     "iopub.status.idle": "2022-09-13T20:02:34.639898Z",
     "shell.execute_reply": "2022-09-13T20:02:34.639220Z"
    },
    "papermill": {
     "duration": 0.047324,
     "end_time": "2022-09-13T20:02:34.641443",
     "exception": false,
     "start_time": "2022-09-13T20:02:34.594119",
     "status": "completed"
    },
    "tags": []
   },
   "outputs": [
    {
     "data": {
      "text/plain": [
       "(296, 3)"
      ]
     },
     "execution_count": 27,
     "metadata": {},
     "output_type": "execute_result"
    }
   ],
   "source": [
    "# the number should be close to 295 (the number of partitions generated by k-means/spectral clustering)\n",
    "ensemble.shape"
   ]
  },
  {
   "cell_type": "code",
   "execution_count": 28,
   "id": "dd2403cc",
   "metadata": {
    "execution": {
     "iopub.execute_input": "2022-09-13T20:02:34.689276Z",
     "iopub.status.busy": "2022-09-13T20:02:34.689065Z",
     "iopub.status.idle": "2022-09-13T20:02:34.720362Z",
     "shell.execute_reply": "2022-09-13T20:02:34.719823Z"
    },
    "papermill": {
     "duration": 0.057415,
     "end_time": "2022-09-13T20:02:34.721923",
     "exception": false,
     "start_time": "2022-09-13T20:02:34.664508",
     "status": "completed"
    },
    "tags": []
   },
   "outputs": [
    {
     "data": {
      "text/html": [
       "<div>\n",
       "<style scoped>\n",
       "    .dataframe tbody tr th:only-of-type {\n",
       "        vertical-align: middle;\n",
       "    }\n",
       "\n",
       "    .dataframe tbody tr th {\n",
       "        vertical-align: top;\n",
       "    }\n",
       "\n",
       "    .dataframe thead th {\n",
       "        text-align: right;\n",
       "    }\n",
       "</style>\n",
       "<table border=\"1\" class=\"dataframe\">\n",
       "  <thead>\n",
       "    <tr style=\"text-align: right;\">\n",
       "      <th></th>\n",
       "      <th>clusterer_params</th>\n",
       "      <th>partition</th>\n",
       "      <th>n_clusters</th>\n",
       "    </tr>\n",
       "    <tr>\n",
       "      <th>clusterer_id</th>\n",
       "      <th></th>\n",
       "      <th></th>\n",
       "      <th></th>\n",
       "    </tr>\n",
       "  </thead>\n",
       "  <tbody>\n",
       "    <tr>\n",
       "      <th>AgglomerativeClustering #0</th>\n",
       "      <td>{'affinity': 'precomputed', 'compute_full_tree...</td>\n",
       "      <td>[0.0, 0.0, 0.0, 0.0, 0.0, 0.0, 0.0, 0.0, 0.0, ...</td>\n",
       "      <td>2</td>\n",
       "    </tr>\n",
       "    <tr>\n",
       "      <th>AgglomerativeClustering #1</th>\n",
       "      <td>{'affinity': 'euclidean', 'compute_full_tree':...</td>\n",
       "      <td>[1.0, 1.0, 1.0, 1.0, 1.0, 1.0, 1.0, 1.0, 1.0, ...</td>\n",
       "      <td>2</td>\n",
       "    </tr>\n",
       "    <tr>\n",
       "      <th>AgglomerativeClustering #2</th>\n",
       "      <td>{'affinity': 'precomputed', 'compute_full_tree...</td>\n",
       "      <td>[0.0, 0.0, 0.0, 0.0, 0.0, 0.0, 0.0, 0.0, 0.0, ...</td>\n",
       "      <td>2</td>\n",
       "    </tr>\n",
       "    <tr>\n",
       "      <th>AgglomerativeClustering #3</th>\n",
       "      <td>{'affinity': 'precomputed', 'compute_full_tree...</td>\n",
       "      <td>[0.0, 0.0, 0.0, 0.0, 0.0, 0.0, 0.0, 0.0, 0.0, ...</td>\n",
       "      <td>2</td>\n",
       "    </tr>\n",
       "    <tr>\n",
       "      <th>AgglomerativeClustering #4</th>\n",
       "      <td>{'affinity': 'precomputed', 'compute_full_tree...</td>\n",
       "      <td>[0.0, 0.0, 0.0, 0.0, 0.0, 0.0, 0.0, 0.0, 0.0, ...</td>\n",
       "      <td>3</td>\n",
       "    </tr>\n",
       "  </tbody>\n",
       "</table>\n",
       "</div>"
      ],
      "text/plain": [
       "                                                             clusterer_params  \\\n",
       "clusterer_id                                                                    \n",
       "AgglomerativeClustering #0  {'affinity': 'precomputed', 'compute_full_tree...   \n",
       "AgglomerativeClustering #1  {'affinity': 'euclidean', 'compute_full_tree':...   \n",
       "AgglomerativeClustering #2  {'affinity': 'precomputed', 'compute_full_tree...   \n",
       "AgglomerativeClustering #3  {'affinity': 'precomputed', 'compute_full_tree...   \n",
       "AgglomerativeClustering #4  {'affinity': 'precomputed', 'compute_full_tree...   \n",
       "\n",
       "                                                                    partition  \\\n",
       "clusterer_id                                                                    \n",
       "AgglomerativeClustering #0  [0.0, 0.0, 0.0, 0.0, 0.0, 0.0, 0.0, 0.0, 0.0, ...   \n",
       "AgglomerativeClustering #1  [1.0, 1.0, 1.0, 1.0, 1.0, 1.0, 1.0, 1.0, 1.0, ...   \n",
       "AgglomerativeClustering #2  [0.0, 0.0, 0.0, 0.0, 0.0, 0.0, 0.0, 0.0, 0.0, ...   \n",
       "AgglomerativeClustering #3  [0.0, 0.0, 0.0, 0.0, 0.0, 0.0, 0.0, 0.0, 0.0, ...   \n",
       "AgglomerativeClustering #4  [0.0, 0.0, 0.0, 0.0, 0.0, 0.0, 0.0, 0.0, 0.0, ...   \n",
       "\n",
       "                            n_clusters  \n",
       "clusterer_id                            \n",
       "AgglomerativeClustering #0           2  \n",
       "AgglomerativeClustering #1           2  \n",
       "AgglomerativeClustering #2           2  \n",
       "AgglomerativeClustering #3           2  \n",
       "AgglomerativeClustering #4           3  "
      ]
     },
     "execution_count": 28,
     "metadata": {},
     "output_type": "execute_result"
    }
   ],
   "source": [
    "ensemble.head()"
   ]
  },
  {
   "cell_type": "code",
   "execution_count": 29,
   "id": "3ba1e908",
   "metadata": {
    "execution": {
     "iopub.execute_input": "2022-09-13T20:02:34.768992Z",
     "iopub.status.busy": "2022-09-13T20:02:34.768454Z",
     "iopub.status.idle": "2022-09-13T20:02:34.792525Z",
     "shell.execute_reply": "2022-09-13T20:02:34.791997Z"
    },
    "papermill": {
     "duration": 0.049026,
     "end_time": "2022-09-13T20:02:34.794086",
     "exception": false,
     "start_time": "2022-09-13T20:02:34.745060",
     "status": "completed"
    },
    "tags": []
   },
   "outputs": [
    {
     "data": {
      "text/plain": [
       "75    4\n",
       "20    4\n",
       "22    4\n",
       "23    4\n",
       "24    4\n",
       "Name: n_clusters, dtype: int64"
      ]
     },
     "execution_count": 29,
     "metadata": {},
     "output_type": "execute_result"
    }
   ],
   "source": [
    "ensemble[\"n_clusters\"].value_counts().head()"
   ]
  },
  {
   "cell_type": "code",
   "execution_count": 30,
   "id": "0240c3b2",
   "metadata": {
    "execution": {
     "iopub.execute_input": "2022-09-13T20:02:34.845359Z",
     "iopub.status.busy": "2022-09-13T20:02:34.845141Z",
     "iopub.status.idle": "2022-09-13T20:02:34.870499Z",
     "shell.execute_reply": "2022-09-13T20:02:34.869935Z"
    },
    "papermill": {
     "duration": 0.051731,
     "end_time": "2022-09-13T20:02:34.872055",
     "exception": false,
     "start_time": "2022-09-13T20:02:34.820324",
     "status": "completed"
    },
    "tags": []
   },
   "outputs": [
    {
     "data": {
      "text/plain": [
       "count    296.000000\n",
       "mean      38.500000\n",
       "std       21.396182\n",
       "min        2.000000\n",
       "25%       20.000000\n",
       "50%       38.500000\n",
       "75%       57.000000\n",
       "max       75.000000\n",
       "Name: n_clusters, dtype: float64"
      ]
     },
     "metadata": {},
     "output_type": "display_data"
    }
   ],
   "source": [
    "ensemble_stats = ensemble[\"n_clusters\"].describe()\n",
    "display(ensemble_stats)"
   ]
  },
  {
   "cell_type": "markdown",
   "id": "0792f1fd",
   "metadata": {
    "papermill": {
     "duration": 0.023472,
     "end_time": "2022-09-13T20:02:34.919046",
     "exception": false,
     "start_time": "2022-09-13T20:02:34.895574",
     "status": "completed"
    },
    "tags": []
   },
   "source": [
    "## Testing"
   ]
  },
  {
   "cell_type": "code",
   "execution_count": 31,
   "id": "9d67e045",
   "metadata": {
    "execution": {
     "iopub.execute_input": "2022-09-13T20:02:34.966360Z",
     "iopub.status.busy": "2022-09-13T20:02:34.966153Z",
     "iopub.status.idle": "2022-09-13T20:02:34.988851Z",
     "shell.execute_reply": "2022-09-13T20:02:34.988328Z"
    },
    "papermill": {
     "duration": 0.048084,
     "end_time": "2022-09-13T20:02:34.990524",
     "exception": false,
     "start_time": "2022-09-13T20:02:34.942440",
     "status": "completed"
    },
    "tags": []
   },
   "outputs": [],
   "source": [
    "assert ensemble_stats[\"min\"] > 1"
   ]
  },
  {
   "cell_type": "code",
   "execution_count": 32,
   "id": "10c60382",
   "metadata": {
    "execution": {
     "iopub.execute_input": "2022-09-13T20:02:35.037650Z",
     "iopub.status.busy": "2022-09-13T20:02:35.037439Z",
     "iopub.status.idle": "2022-09-13T20:02:35.059145Z",
     "shell.execute_reply": "2022-09-13T20:02:35.058490Z"
    },
    "papermill": {
     "duration": 0.047435,
     "end_time": "2022-09-13T20:02:35.060886",
     "exception": false,
     "start_time": "2022-09-13T20:02:35.013451",
     "status": "completed"
    },
    "tags": []
   },
   "outputs": [],
   "source": [
    "assert not ensemble[\"n_clusters\"].isna().any()"
   ]
  },
  {
   "cell_type": "code",
   "execution_count": 33,
   "id": "cd88d917",
   "metadata": {
    "execution": {
     "iopub.execute_input": "2022-09-13T20:02:35.108375Z",
     "iopub.status.busy": "2022-09-13T20:02:35.108182Z",
     "iopub.status.idle": "2022-09-13T20:02:35.129758Z",
     "shell.execute_reply": "2022-09-13T20:02:35.129093Z"
    },
    "papermill": {
     "duration": 0.047431,
     "end_time": "2022-09-13T20:02:35.131459",
     "exception": false,
     "start_time": "2022-09-13T20:02:35.084028",
     "status": "completed"
    },
    "tags": []
   },
   "outputs": [],
   "source": [
    "assert ensemble.shape[0] == len(CLUSTERERS)"
   ]
  },
  {
   "cell_type": "code",
   "execution_count": 34,
   "id": "337fcbba",
   "metadata": {
    "execution": {
     "iopub.execute_input": "2022-09-13T20:02:35.179149Z",
     "iopub.status.busy": "2022-09-13T20:02:35.178954Z",
     "iopub.status.idle": "2022-09-13T20:02:35.222384Z",
     "shell.execute_reply": "2022-09-13T20:02:35.221735Z"
    },
    "papermill": {
     "duration": 0.069382,
     "end_time": "2022-09-13T20:02:35.224033",
     "exception": false,
     "start_time": "2022-09-13T20:02:35.154651",
     "status": "completed"
    },
    "tags": []
   },
   "outputs": [],
   "source": [
    "# all partitions have the right size\n",
    "assert np.all(\n",
    "    [part[\"partition\"].shape[0] == data.shape[0] for idx, part in ensemble.iterrows()]\n",
    ")"
   ]
  },
  {
   "cell_type": "code",
   "execution_count": 35,
   "id": "9669d7f4",
   "metadata": {
    "execution": {
     "iopub.execute_input": "2022-09-13T20:02:35.270767Z",
     "iopub.status.busy": "2022-09-13T20:02:35.270585Z",
     "iopub.status.idle": "2022-09-13T20:02:35.319338Z",
     "shell.execute_reply": "2022-09-13T20:02:35.318730Z"
    },
    "papermill": {
     "duration": 0.074165,
     "end_time": "2022-09-13T20:02:35.321039",
     "exception": false,
     "start_time": "2022-09-13T20:02:35.246874",
     "status": "completed"
    },
    "tags": []
   },
   "outputs": [],
   "source": [
    "# no partition has negative clusters (noisy points)\n",
    "assert not np.any([(part[\"partition\"] < 0).any() for idx, part in ensemble.iterrows()])"
   ]
  },
  {
   "cell_type": "markdown",
   "id": "56ec66a3",
   "metadata": {
    "papermill": {
     "duration": 0.023208,
     "end_time": "2022-09-13T20:02:35.367687",
     "exception": false,
     "start_time": "2022-09-13T20:02:35.344479",
     "status": "completed"
    },
    "tags": []
   },
   "source": [
    "## Add clustering quality measures"
   ]
  },
  {
   "cell_type": "code",
   "execution_count": 36,
   "id": "430d7093",
   "metadata": {
    "execution": {
     "iopub.execute_input": "2022-09-13T20:02:35.414368Z",
     "iopub.status.busy": "2022-09-13T20:02:35.414158Z",
     "iopub.status.idle": "2022-09-13T20:02:35.435938Z",
     "shell.execute_reply": "2022-09-13T20:02:35.435275Z"
    },
    "papermill": {
     "duration": 0.046962,
     "end_time": "2022-09-13T20:02:35.437622",
     "exception": false,
     "start_time": "2022-09-13T20:02:35.390660",
     "status": "completed"
    },
    "tags": []
   },
   "outputs": [],
   "source": [
    "from sklearn.metrics import calinski_harabasz_score"
   ]
  },
  {
   "cell_type": "code",
   "execution_count": 37,
   "id": "2987623f",
   "metadata": {
    "execution": {
     "iopub.execute_input": "2022-09-13T20:02:35.486198Z",
     "iopub.status.busy": "2022-09-13T20:02:35.485425Z",
     "iopub.status.idle": "2022-09-13T20:02:36.924151Z",
     "shell.execute_reply": "2022-09-13T20:02:36.923514Z"
    },
    "papermill": {
     "duration": 1.464706,
     "end_time": "2022-09-13T20:02:36.925741",
     "exception": false,
     "start_time": "2022-09-13T20:02:35.461035",
     "status": "completed"
    },
    "tags": []
   },
   "outputs": [],
   "source": [
    "ensemble = ensemble.assign(\n",
    "    ch_score=ensemble[\"partition\"].apply(lambda x: calinski_harabasz_score(data, x))\n",
    ")"
   ]
  },
  {
   "cell_type": "code",
   "execution_count": 38,
   "id": "70da485c",
   "metadata": {
    "execution": {
     "iopub.execute_input": "2022-09-13T20:02:36.974339Z",
     "iopub.status.busy": "2022-09-13T20:02:36.974128Z",
     "iopub.status.idle": "2022-09-13T20:02:36.997909Z",
     "shell.execute_reply": "2022-09-13T20:02:36.997273Z"
    },
    "papermill": {
     "duration": 0.04988,
     "end_time": "2022-09-13T20:02:36.999317",
     "exception": false,
     "start_time": "2022-09-13T20:02:36.949437",
     "status": "completed"
    },
    "tags": []
   },
   "outputs": [
    {
     "data": {
      "text/plain": [
       "(296, 4)"
      ]
     },
     "execution_count": 38,
     "metadata": {},
     "output_type": "execute_result"
    }
   ],
   "source": [
    "ensemble.shape"
   ]
  },
  {
   "cell_type": "code",
   "execution_count": 39,
   "id": "5e4038c0",
   "metadata": {
    "execution": {
     "iopub.execute_input": "2022-09-13T20:02:37.047559Z",
     "iopub.status.busy": "2022-09-13T20:02:37.047333Z",
     "iopub.status.idle": "2022-09-13T20:02:37.079408Z",
     "shell.execute_reply": "2022-09-13T20:02:37.078794Z"
    },
    "papermill": {
     "duration": 0.057936,
     "end_time": "2022-09-13T20:02:37.081016",
     "exception": false,
     "start_time": "2022-09-13T20:02:37.023080",
     "status": "completed"
    },
    "tags": []
   },
   "outputs": [
    {
     "data": {
      "text/html": [
       "<div>\n",
       "<style scoped>\n",
       "    .dataframe tbody tr th:only-of-type {\n",
       "        vertical-align: middle;\n",
       "    }\n",
       "\n",
       "    .dataframe tbody tr th {\n",
       "        vertical-align: top;\n",
       "    }\n",
       "\n",
       "    .dataframe thead th {\n",
       "        text-align: right;\n",
       "    }\n",
       "</style>\n",
       "<table border=\"1\" class=\"dataframe\">\n",
       "  <thead>\n",
       "    <tr style=\"text-align: right;\">\n",
       "      <th></th>\n",
       "      <th>clusterer_params</th>\n",
       "      <th>partition</th>\n",
       "      <th>n_clusters</th>\n",
       "      <th>ch_score</th>\n",
       "    </tr>\n",
       "    <tr>\n",
       "      <th>clusterer_id</th>\n",
       "      <th></th>\n",
       "      <th></th>\n",
       "      <th></th>\n",
       "      <th></th>\n",
       "    </tr>\n",
       "  </thead>\n",
       "  <tbody>\n",
       "    <tr>\n",
       "      <th>AgglomerativeClustering #0</th>\n",
       "      <td>{'affinity': 'precomputed', 'compute_full_tree...</td>\n",
       "      <td>[0.0, 0.0, 0.0, 0.0, 0.0, 0.0, 0.0, 0.0, 0.0, ...</td>\n",
       "      <td>2</td>\n",
       "      <td>67.888010</td>\n",
       "    </tr>\n",
       "    <tr>\n",
       "      <th>AgglomerativeClustering #1</th>\n",
       "      <td>{'affinity': 'euclidean', 'compute_full_tree':...</td>\n",
       "      <td>[1.0, 1.0, 1.0, 1.0, 1.0, 1.0, 1.0, 1.0, 1.0, ...</td>\n",
       "      <td>2</td>\n",
       "      <td>8.305414</td>\n",
       "    </tr>\n",
       "    <tr>\n",
       "      <th>AgglomerativeClustering #2</th>\n",
       "      <td>{'affinity': 'precomputed', 'compute_full_tree...</td>\n",
       "      <td>[0.0, 0.0, 0.0, 0.0, 0.0, 0.0, 0.0, 0.0, 0.0, ...</td>\n",
       "      <td>2</td>\n",
       "      <td>67.888010</td>\n",
       "    </tr>\n",
       "    <tr>\n",
       "      <th>AgglomerativeClustering #3</th>\n",
       "      <td>{'affinity': 'precomputed', 'compute_full_tree...</td>\n",
       "      <td>[0.0, 0.0, 0.0, 0.0, 0.0, 0.0, 0.0, 0.0, 0.0, ...</td>\n",
       "      <td>2</td>\n",
       "      <td>67.888010</td>\n",
       "    </tr>\n",
       "    <tr>\n",
       "      <th>AgglomerativeClustering #4</th>\n",
       "      <td>{'affinity': 'precomputed', 'compute_full_tree...</td>\n",
       "      <td>[0.0, 0.0, 0.0, 0.0, 0.0, 0.0, 0.0, 0.0, 0.0, ...</td>\n",
       "      <td>3</td>\n",
       "      <td>58.206427</td>\n",
       "    </tr>\n",
       "  </tbody>\n",
       "</table>\n",
       "</div>"
      ],
      "text/plain": [
       "                                                             clusterer_params  \\\n",
       "clusterer_id                                                                    \n",
       "AgglomerativeClustering #0  {'affinity': 'precomputed', 'compute_full_tree...   \n",
       "AgglomerativeClustering #1  {'affinity': 'euclidean', 'compute_full_tree':...   \n",
       "AgglomerativeClustering #2  {'affinity': 'precomputed', 'compute_full_tree...   \n",
       "AgglomerativeClustering #3  {'affinity': 'precomputed', 'compute_full_tree...   \n",
       "AgglomerativeClustering #4  {'affinity': 'precomputed', 'compute_full_tree...   \n",
       "\n",
       "                                                                    partition  \\\n",
       "clusterer_id                                                                    \n",
       "AgglomerativeClustering #0  [0.0, 0.0, 0.0, 0.0, 0.0, 0.0, 0.0, 0.0, 0.0, ...   \n",
       "AgglomerativeClustering #1  [1.0, 1.0, 1.0, 1.0, 1.0, 1.0, 1.0, 1.0, 1.0, ...   \n",
       "AgglomerativeClustering #2  [0.0, 0.0, 0.0, 0.0, 0.0, 0.0, 0.0, 0.0, 0.0, ...   \n",
       "AgglomerativeClustering #3  [0.0, 0.0, 0.0, 0.0, 0.0, 0.0, 0.0, 0.0, 0.0, ...   \n",
       "AgglomerativeClustering #4  [0.0, 0.0, 0.0, 0.0, 0.0, 0.0, 0.0, 0.0, 0.0, ...   \n",
       "\n",
       "                            n_clusters   ch_score  \n",
       "clusterer_id                                       \n",
       "AgglomerativeClustering #0           2  67.888010  \n",
       "AgglomerativeClustering #1           2   8.305414  \n",
       "AgglomerativeClustering #2           2  67.888010  \n",
       "AgglomerativeClustering #3           2  67.888010  \n",
       "AgglomerativeClustering #4           3  58.206427  "
      ]
     },
     "execution_count": 39,
     "metadata": {},
     "output_type": "execute_result"
    }
   ],
   "source": [
    "ensemble.head()"
   ]
  },
  {
   "cell_type": "markdown",
   "id": "63b6b02c",
   "metadata": {
    "papermill": {
     "duration": 0.023899,
     "end_time": "2022-09-13T20:02:37.129181",
     "exception": false,
     "start_time": "2022-09-13T20:02:37.105282",
     "status": "completed"
    },
    "tags": []
   },
   "source": [
    "## Save"
   ]
  },
  {
   "cell_type": "code",
   "execution_count": 40,
   "id": "a72940f8",
   "metadata": {
    "execution": {
     "iopub.execute_input": "2022-09-13T20:02:37.177717Z",
     "iopub.status.busy": "2022-09-13T20:02:37.177205Z",
     "iopub.status.idle": "2022-09-13T20:02:37.200467Z",
     "shell.execute_reply": "2022-09-13T20:02:37.199915Z"
    },
    "papermill": {
     "duration": 0.048996,
     "end_time": "2022-09-13T20:02:37.202115",
     "exception": false,
     "start_time": "2022-09-13T20:02:37.153119",
     "status": "completed"
    },
    "tags": []
   },
   "outputs": [
    {
     "data": {
      "text/plain": [
       "PosixPath('/opt/data/results/clustering/null_sims/runs/pca-z_score_std-projection-smultixcan-efo_partial-mashr-zscores/AgglomerativeClustering-AFFINITY_euclidean-K_MAX_75-K_MIN_2.pkl')"
      ]
     },
     "metadata": {},
     "output_type": "display_data"
    }
   ],
   "source": [
    "output_filename = Path(\n",
    "    RESULTS_DIR,\n",
    "    generate_result_set_name(\n",
    "        {k: v for k, v in CLUSTERING_OPTIONS.items() if k != \"LINKAGE\"},\n",
    "        prefix=f\"{clustering_method_name}-\",\n",
    "        suffix=\".pkl\",\n",
    "    ),\n",
    ").resolve()\n",
    "display(output_filename)"
   ]
  },
  {
   "cell_type": "code",
   "execution_count": 41,
   "id": "05399e7f",
   "metadata": {
    "execution": {
     "iopub.execute_input": "2022-09-13T20:02:37.279041Z",
     "iopub.status.busy": "2022-09-13T20:02:37.278847Z",
     "iopub.status.idle": "2022-09-13T20:02:37.327483Z",
     "shell.execute_reply": "2022-09-13T20:02:37.326869Z"
    },
    "papermill": {
     "duration": 0.075583,
     "end_time": "2022-09-13T20:02:37.329194",
     "exception": false,
     "start_time": "2022-09-13T20:02:37.253611",
     "status": "completed"
    },
    "tags": []
   },
   "outputs": [],
   "source": [
    "ensemble.to_pickle(output_filename)"
   ]
  },
  {
   "cell_type": "markdown",
   "id": "cdc3f143",
   "metadata": {
    "papermill": {
     "duration": 0.024113,
     "end_time": "2022-09-13T20:02:37.377237",
     "exception": false,
     "start_time": "2022-09-13T20:02:37.353124",
     "status": "completed"
    },
    "tags": []
   },
   "source": [
    "# Cluster quality"
   ]
  },
  {
   "cell_type": "code",
   "execution_count": 42,
   "id": "21f657a2",
   "metadata": {
    "execution": {
     "iopub.execute_input": "2022-09-13T20:02:37.426150Z",
     "iopub.status.busy": "2022-09-13T20:02:37.425945Z",
     "iopub.status.idle": "2022-09-13T20:02:37.455018Z",
     "shell.execute_reply": "2022-09-13T20:02:37.454445Z"
    },
    "papermill": {
     "duration": 0.055225,
     "end_time": "2022-09-13T20:02:37.456545",
     "exception": false,
     "start_time": "2022-09-13T20:02:37.401320",
     "status": "completed"
    },
    "tags": []
   },
   "outputs": [
    {
     "data": {
      "text/html": [
       "<div>\n",
       "<style scoped>\n",
       "    .dataframe tbody tr th:only-of-type {\n",
       "        vertical-align: middle;\n",
       "    }\n",
       "\n",
       "    .dataframe tbody tr th {\n",
       "        vertical-align: top;\n",
       "    }\n",
       "\n",
       "    .dataframe thead th {\n",
       "        text-align: right;\n",
       "    }\n",
       "</style>\n",
       "<table border=\"1\" class=\"dataframe\">\n",
       "  <thead>\n",
       "    <tr style=\"text-align: right;\">\n",
       "      <th></th>\n",
       "      <th>ch_score</th>\n",
       "    </tr>\n",
       "    <tr>\n",
       "      <th>n_clusters</th>\n",
       "      <th></th>\n",
       "    </tr>\n",
       "  </thead>\n",
       "  <tbody>\n",
       "    <tr>\n",
       "      <th>2</th>\n",
       "      <td>52.992361</td>\n",
       "    </tr>\n",
       "    <tr>\n",
       "      <th>3</th>\n",
       "      <td>49.046205</td>\n",
       "    </tr>\n",
       "    <tr>\n",
       "      <th>4</th>\n",
       "      <td>42.208669</td>\n",
       "    </tr>\n",
       "    <tr>\n",
       "      <th>5</th>\n",
       "      <td>37.379063</td>\n",
       "    </tr>\n",
       "    <tr>\n",
       "      <th>6</th>\n",
       "      <td>36.305113</td>\n",
       "    </tr>\n",
       "    <tr>\n",
       "      <th>7</th>\n",
       "      <td>33.462120</td>\n",
       "    </tr>\n",
       "    <tr>\n",
       "      <th>8</th>\n",
       "      <td>31.175337</td>\n",
       "    </tr>\n",
       "    <tr>\n",
       "      <th>9</th>\n",
       "      <td>29.190341</td>\n",
       "    </tr>\n",
       "    <tr>\n",
       "      <th>10</th>\n",
       "      <td>27.710220</td>\n",
       "    </tr>\n",
       "    <tr>\n",
       "      <th>11</th>\n",
       "      <td>26.312331</td>\n",
       "    </tr>\n",
       "    <tr>\n",
       "      <th>12</th>\n",
       "      <td>25.009476</td>\n",
       "    </tr>\n",
       "    <tr>\n",
       "      <th>13</th>\n",
       "      <td>25.039212</td>\n",
       "    </tr>\n",
       "    <tr>\n",
       "      <th>14</th>\n",
       "      <td>23.964020</td>\n",
       "    </tr>\n",
       "    <tr>\n",
       "      <th>15</th>\n",
       "      <td>23.558492</td>\n",
       "    </tr>\n",
       "    <tr>\n",
       "      <th>16</th>\n",
       "      <td>22.766768</td>\n",
       "    </tr>\n",
       "    <tr>\n",
       "      <th>17</th>\n",
       "      <td>22.224476</td>\n",
       "    </tr>\n",
       "    <tr>\n",
       "      <th>18</th>\n",
       "      <td>21.490475</td>\n",
       "    </tr>\n",
       "    <tr>\n",
       "      <th>19</th>\n",
       "      <td>20.795034</td>\n",
       "    </tr>\n",
       "    <tr>\n",
       "      <th>20</th>\n",
       "      <td>20.171313</td>\n",
       "    </tr>\n",
       "    <tr>\n",
       "      <th>21</th>\n",
       "      <td>19.602632</td>\n",
       "    </tr>\n",
       "    <tr>\n",
       "      <th>22</th>\n",
       "      <td>19.059940</td>\n",
       "    </tr>\n",
       "    <tr>\n",
       "      <th>23</th>\n",
       "      <td>18.636159</td>\n",
       "    </tr>\n",
       "    <tr>\n",
       "      <th>24</th>\n",
       "      <td>18.226957</td>\n",
       "    </tr>\n",
       "    <tr>\n",
       "      <th>25</th>\n",
       "      <td>18.119146</td>\n",
       "    </tr>\n",
       "    <tr>\n",
       "      <th>26</th>\n",
       "      <td>17.800287</td>\n",
       "    </tr>\n",
       "    <tr>\n",
       "      <th>27</th>\n",
       "      <td>17.401560</td>\n",
       "    </tr>\n",
       "    <tr>\n",
       "      <th>28</th>\n",
       "      <td>17.203594</td>\n",
       "    </tr>\n",
       "    <tr>\n",
       "      <th>29</th>\n",
       "      <td>16.828148</td>\n",
       "    </tr>\n",
       "    <tr>\n",
       "      <th>30</th>\n",
       "      <td>16.504030</td>\n",
       "    </tr>\n",
       "    <tr>\n",
       "      <th>31</th>\n",
       "      <td>16.149490</td>\n",
       "    </tr>\n",
       "    <tr>\n",
       "      <th>32</th>\n",
       "      <td>15.845923</td>\n",
       "    </tr>\n",
       "    <tr>\n",
       "      <th>33</th>\n",
       "      <td>15.577243</td>\n",
       "    </tr>\n",
       "    <tr>\n",
       "      <th>34</th>\n",
       "      <td>15.309439</td>\n",
       "    </tr>\n",
       "    <tr>\n",
       "      <th>35</th>\n",
       "      <td>15.072954</td>\n",
       "    </tr>\n",
       "    <tr>\n",
       "      <th>36</th>\n",
       "      <td>14.838789</td>\n",
       "    </tr>\n",
       "    <tr>\n",
       "      <th>37</th>\n",
       "      <td>14.628836</td>\n",
       "    </tr>\n",
       "    <tr>\n",
       "      <th>38</th>\n",
       "      <td>14.372071</td>\n",
       "    </tr>\n",
       "    <tr>\n",
       "      <th>39</th>\n",
       "      <td>14.151009</td>\n",
       "    </tr>\n",
       "    <tr>\n",
       "      <th>40</th>\n",
       "      <td>13.942020</td>\n",
       "    </tr>\n",
       "    <tr>\n",
       "      <th>41</th>\n",
       "      <td>13.745145</td>\n",
       "    </tr>\n",
       "    <tr>\n",
       "      <th>42</th>\n",
       "      <td>13.564394</td>\n",
       "    </tr>\n",
       "    <tr>\n",
       "      <th>43</th>\n",
       "      <td>13.382392</td>\n",
       "    </tr>\n",
       "    <tr>\n",
       "      <th>44</th>\n",
       "      <td>13.206265</td>\n",
       "    </tr>\n",
       "    <tr>\n",
       "      <th>45</th>\n",
       "      <td>13.041218</td>\n",
       "    </tr>\n",
       "    <tr>\n",
       "      <th>46</th>\n",
       "      <td>12.874682</td>\n",
       "    </tr>\n",
       "    <tr>\n",
       "      <th>47</th>\n",
       "      <td>12.708000</td>\n",
       "    </tr>\n",
       "    <tr>\n",
       "      <th>48</th>\n",
       "      <td>12.556002</td>\n",
       "    </tr>\n",
       "    <tr>\n",
       "      <th>49</th>\n",
       "      <td>12.421121</td>\n",
       "    </tr>\n",
       "    <tr>\n",
       "      <th>50</th>\n",
       "      <td>12.273887</td>\n",
       "    </tr>\n",
       "    <tr>\n",
       "      <th>51</th>\n",
       "      <td>12.139947</td>\n",
       "    </tr>\n",
       "    <tr>\n",
       "      <th>52</th>\n",
       "      <td>11.994931</td>\n",
       "    </tr>\n",
       "    <tr>\n",
       "      <th>53</th>\n",
       "      <td>11.859300</td>\n",
       "    </tr>\n",
       "    <tr>\n",
       "      <th>54</th>\n",
       "      <td>11.725157</td>\n",
       "    </tr>\n",
       "    <tr>\n",
       "      <th>55</th>\n",
       "      <td>11.590322</td>\n",
       "    </tr>\n",
       "    <tr>\n",
       "      <th>56</th>\n",
       "      <td>11.462384</td>\n",
       "    </tr>\n",
       "    <tr>\n",
       "      <th>57</th>\n",
       "      <td>11.338066</td>\n",
       "    </tr>\n",
       "    <tr>\n",
       "      <th>58</th>\n",
       "      <td>11.213078</td>\n",
       "    </tr>\n",
       "    <tr>\n",
       "      <th>59</th>\n",
       "      <td>11.093827</td>\n",
       "    </tr>\n",
       "    <tr>\n",
       "      <th>60</th>\n",
       "      <td>10.973984</td>\n",
       "    </tr>\n",
       "    <tr>\n",
       "      <th>61</th>\n",
       "      <td>10.855417</td>\n",
       "    </tr>\n",
       "    <tr>\n",
       "      <th>62</th>\n",
       "      <td>10.749786</td>\n",
       "    </tr>\n",
       "    <tr>\n",
       "      <th>63</th>\n",
       "      <td>10.647170</td>\n",
       "    </tr>\n",
       "    <tr>\n",
       "      <th>64</th>\n",
       "      <td>10.544461</td>\n",
       "    </tr>\n",
       "    <tr>\n",
       "      <th>65</th>\n",
       "      <td>10.450439</td>\n",
       "    </tr>\n",
       "    <tr>\n",
       "      <th>66</th>\n",
       "      <td>10.351839</td>\n",
       "    </tr>\n",
       "    <tr>\n",
       "      <th>67</th>\n",
       "      <td>10.253710</td>\n",
       "    </tr>\n",
       "    <tr>\n",
       "      <th>68</th>\n",
       "      <td>10.161450</td>\n",
       "    </tr>\n",
       "    <tr>\n",
       "      <th>69</th>\n",
       "      <td>10.078456</td>\n",
       "    </tr>\n",
       "    <tr>\n",
       "      <th>70</th>\n",
       "      <td>9.987334</td>\n",
       "    </tr>\n",
       "    <tr>\n",
       "      <th>71</th>\n",
       "      <td>9.902475</td>\n",
       "    </tr>\n",
       "    <tr>\n",
       "      <th>72</th>\n",
       "      <td>9.825873</td>\n",
       "    </tr>\n",
       "    <tr>\n",
       "      <th>73</th>\n",
       "      <td>9.744419</td>\n",
       "    </tr>\n",
       "    <tr>\n",
       "      <th>74</th>\n",
       "      <td>9.659541</td>\n",
       "    </tr>\n",
       "    <tr>\n",
       "      <th>75</th>\n",
       "      <td>9.584169</td>\n",
       "    </tr>\n",
       "  </tbody>\n",
       "</table>\n",
       "</div>"
      ],
      "text/plain": [
       "             ch_score\n",
       "n_clusters           \n",
       "2           52.992361\n",
       "3           49.046205\n",
       "4           42.208669\n",
       "5           37.379063\n",
       "6           36.305113\n",
       "7           33.462120\n",
       "8           31.175337\n",
       "9           29.190341\n",
       "10          27.710220\n",
       "11          26.312331\n",
       "12          25.009476\n",
       "13          25.039212\n",
       "14          23.964020\n",
       "15          23.558492\n",
       "16          22.766768\n",
       "17          22.224476\n",
       "18          21.490475\n",
       "19          20.795034\n",
       "20          20.171313\n",
       "21          19.602632\n",
       "22          19.059940\n",
       "23          18.636159\n",
       "24          18.226957\n",
       "25          18.119146\n",
       "26          17.800287\n",
       "27          17.401560\n",
       "28          17.203594\n",
       "29          16.828148\n",
       "30          16.504030\n",
       "31          16.149490\n",
       "32          15.845923\n",
       "33          15.577243\n",
       "34          15.309439\n",
       "35          15.072954\n",
       "36          14.838789\n",
       "37          14.628836\n",
       "38          14.372071\n",
       "39          14.151009\n",
       "40          13.942020\n",
       "41          13.745145\n",
       "42          13.564394\n",
       "43          13.382392\n",
       "44          13.206265\n",
       "45          13.041218\n",
       "46          12.874682\n",
       "47          12.708000\n",
       "48          12.556002\n",
       "49          12.421121\n",
       "50          12.273887\n",
       "51          12.139947\n",
       "52          11.994931\n",
       "53          11.859300\n",
       "54          11.725157\n",
       "55          11.590322\n",
       "56          11.462384\n",
       "57          11.338066\n",
       "58          11.213078\n",
       "59          11.093827\n",
       "60          10.973984\n",
       "61          10.855417\n",
       "62          10.749786\n",
       "63          10.647170\n",
       "64          10.544461\n",
       "65          10.450439\n",
       "66          10.351839\n",
       "67          10.253710\n",
       "68          10.161450\n",
       "69          10.078456\n",
       "70           9.987334\n",
       "71           9.902475\n",
       "72           9.825873\n",
       "73           9.744419\n",
       "74           9.659541\n",
       "75           9.584169"
      ]
     },
     "metadata": {},
     "output_type": "display_data"
    }
   ],
   "source": [
    "with pd.option_context(\"display.max_rows\", None, \"display.max_columns\", None):\n",
    "    _df = ensemble.groupby([\"n_clusters\"]).mean()\n",
    "    display(_df)"
   ]
  },
  {
   "cell_type": "code",
   "execution_count": 43,
   "id": "8a9db4cc",
   "metadata": {
    "execution": {
     "iopub.execute_input": "2022-09-13T20:02:37.506294Z",
     "iopub.status.busy": "2022-09-13T20:02:37.506089Z",
     "iopub.status.idle": "2022-09-13T20:02:42.237438Z",
     "shell.execute_reply": "2022-09-13T20:02:42.236781Z"
    },
    "papermill": {
     "duration": 4.758385,
     "end_time": "2022-09-13T20:02:42.239218",
     "exception": false,
     "start_time": "2022-09-13T20:02:37.480833",
     "status": "completed"
    },
    "tags": []
   },
   "outputs": [
    {
     "data": {
      "image/png": "[encoded data removed]",
      "text/plain": [
       "<Figure size 1008x432 with 1 Axes>"
      ]
     },
     "metadata": {},
     "output_type": "display_data"
    }
   ],
   "source": [
    "with sns.plotting_context(\"talk\", font_scale=0.75), sns.axes_style(\n",
    "    \"whitegrid\", {\"grid.linestyle\": \"--\"}\n",
    "):\n",
    "    fig = plt.figure(figsize=(14, 6))\n",
    "    ax = sns.pointplot(data=ensemble, x=\"n_clusters\", y=\"ch_score\")\n",
    "    ax.set_ylabel(\"Calinski-Harabasz index\")\n",
    "    ax.set_xlabel(\"Number of clusters ($k$)\")\n",
    "    ax.set_xticklabels(ax.get_xticklabels(), rotation=45)\n",
    "    plt.grid(True)\n",
    "    plt.tight_layout()"
   ]
  },
  {
   "cell_type": "markdown",
   "id": "aa7fc98e",
   "metadata": {
    "papermill": {
     "duration": 0.02478,
     "end_time": "2022-09-13T20:02:42.289358",
     "exception": false,
     "start_time": "2022-09-13T20:02:42.264578",
     "status": "completed"
    },
    "tags": []
   },
   "source": [
    "# Stability"
   ]
  },
  {
   "cell_type": "markdown",
   "id": "80defe36",
   "metadata": {
    "papermill": {
     "duration": 0.025651,
     "end_time": "2022-09-13T20:02:42.340987",
     "exception": false,
     "start_time": "2022-09-13T20:02:42.315336",
     "status": "completed"
    },
    "tags": []
   },
   "source": [
    "## Group ensemble by n_clusters"
   ]
  },
  {
   "cell_type": "code",
   "execution_count": 44,
   "id": "93245971",
   "metadata": {
    "execution": {
     "iopub.execute_input": "2022-09-13T20:02:42.392577Z",
     "iopub.status.busy": "2022-09-13T20:02:42.392360Z",
     "iopub.status.idle": "2022-09-13T20:02:42.435754Z",
     "shell.execute_reply": "2022-09-13T20:02:42.435103Z"
    },
    "papermill": {
     "duration": 0.070826,
     "end_time": "2022-09-13T20:02:42.437474",
     "exception": false,
     "start_time": "2022-09-13T20:02:42.366648",
     "status": "completed"
    },
    "tags": []
   },
   "outputs": [],
   "source": [
    "parts = ensemble.groupby(\"n_clusters\").apply(\n",
    "    lambda x: np.concatenate(x[\"partition\"].apply(lambda x: x.reshape(1, -1)), axis=0)\n",
    ")"
   ]
  },
  {
   "cell_type": "code",
   "execution_count": 45,
   "id": "286d45fc",
   "metadata": {
    "execution": {
     "iopub.execute_input": "2022-09-13T20:02:42.490400Z",
     "iopub.status.busy": "2022-09-13T20:02:42.490190Z",
     "iopub.status.idle": "2022-09-13T20:02:42.524101Z",
     "shell.execute_reply": "2022-09-13T20:02:42.523413Z"
    },
    "papermill": {
     "duration": 0.062035,
     "end_time": "2022-09-13T20:02:42.525600",
     "exception": false,
     "start_time": "2022-09-13T20:02:42.463565",
     "status": "completed"
    },
    "tags": []
   },
   "outputs": [
    {
     "data": {
      "text/plain": [
       "n_clusters\n",
       "2    [[0.0, 0.0, 0.0, 0.0, 0.0, 0.0, 0.0, 0.0, 0.0,...\n",
       "3    [[0.0, 0.0, 0.0, 0.0, 0.0, 0.0, 0.0, 0.0, 0.0,...\n",
       "4    [[0.0, 0.0, 0.0, 0.0, 0.0, 0.0, 0.0, 0.0, 0.0,...\n",
       "5    [[0.0, 0.0, 0.0, 0.0, 0.0, 0.0, 0.0, 0.0, 0.0,...\n",
       "6    [[0.0, 0.0, 0.0, 0.0, 0.0, 0.0, 0.0, 0.0, 0.0,...\n",
       "dtype: object"
      ]
     },
     "execution_count": 45,
     "metadata": {},
     "output_type": "execute_result"
    }
   ],
   "source": [
    "parts.head()"
   ]
  },
  {
   "cell_type": "code",
   "execution_count": 46,
   "id": "53259847",
   "metadata": {
    "execution": {
     "iopub.execute_input": "2022-09-13T20:02:42.577342Z",
     "iopub.status.busy": "2022-09-13T20:02:42.576800Z",
     "iopub.status.idle": "2022-09-13T20:02:42.600302Z",
     "shell.execute_reply": "2022-09-13T20:02:42.599638Z"
    },
    "papermill": {
     "duration": 0.050845,
     "end_time": "2022-09-13T20:02:42.602005",
     "exception": false,
     "start_time": "2022-09-13T20:02:42.551160",
     "status": "completed"
    },
    "tags": []
   },
   "outputs": [],
   "source": [
    "assert np.all(\n",
    "    [\n",
    "        parts.loc[k].shape == (len(CLUSTERING_OPTIONS[\"LINKAGE\"]), data.shape[0])\n",
    "        for k in parts.index\n",
    "    ]\n",
    ")"
   ]
  },
  {
   "cell_type": "markdown",
   "id": "da4afe8e",
   "metadata": {
    "papermill": {
     "duration": 0.025688,
     "end_time": "2022-09-13T20:02:42.654044",
     "exception": false,
     "start_time": "2022-09-13T20:02:42.628356",
     "status": "completed"
    },
    "tags": []
   },
   "source": [
    "## Compute stability"
   ]
  },
  {
   "cell_type": "code",
   "execution_count": 47,
   "id": "b36d34aa",
   "metadata": {
    "execution": {
     "iopub.execute_input": "2022-09-13T20:02:42.706079Z",
     "iopub.status.busy": "2022-09-13T20:02:42.705884Z",
     "iopub.status.idle": "2022-09-13T20:02:42.726767Z",
     "shell.execute_reply": "2022-09-13T20:02:42.726163Z"
    },
    "papermill": {
     "duration": 0.048644,
     "end_time": "2022-09-13T20:02:42.728418",
     "exception": false,
     "start_time": "2022-09-13T20:02:42.679774",
     "status": "completed"
    },
    "tags": []
   },
   "outputs": [],
   "source": [
    "from sklearn.metrics import adjusted_rand_score as ari\n",
    "from scipy.spatial.distance import pdist"
   ]
  },
  {
   "cell_type": "code",
   "execution_count": 48,
   "id": "9a345667",
   "metadata": {
    "execution": {
     "iopub.execute_input": "2022-09-13T20:02:42.782042Z",
     "iopub.status.busy": "2022-09-13T20:02:42.781828Z",
     "iopub.status.idle": "2022-09-13T20:02:43.358525Z",
     "shell.execute_reply": "2022-09-13T20:02:43.357887Z"
    },
    "papermill": {
     "duration": 0.605482,
     "end_time": "2022-09-13T20:02:43.360227",
     "exception": false,
     "start_time": "2022-09-13T20:02:42.754745",
     "status": "completed"
    },
    "tags": []
   },
   "outputs": [],
   "source": [
    "parts_ari = pd.Series(\n",
    "    {k: pdist(parts.loc[k], metric=ari) for k in parts.index}, name=\"k\"\n",
    ")"
   ]
  },
  {
   "cell_type": "code",
   "execution_count": 49,
   "id": "df258976",
   "metadata": {
    "execution": {
     "iopub.execute_input": "2022-09-13T20:02:43.413123Z",
     "iopub.status.busy": "2022-09-13T20:02:43.412925Z",
     "iopub.status.idle": "2022-09-13T20:02:43.437739Z",
     "shell.execute_reply": "2022-09-13T20:02:43.437027Z"
    },
    "papermill": {
     "duration": 0.053387,
     "end_time": "2022-09-13T20:02:43.439520",
     "exception": false,
     "start_time": "2022-09-13T20:02:43.386133",
     "status": "completed"
    },
    "tags": []
   },
   "outputs": [
    {
     "data": {
      "text/plain": [
       "4     0.532058\n",
       "3     0.521666\n",
       "2     0.510717\n",
       "9     0.502675\n",
       "6     0.502658\n",
       "18    0.502391\n",
       "5     0.502124\n",
       "17    0.492174\n",
       "7     0.476587\n",
       "16    0.470095\n",
       "32    0.463174\n",
       "12    0.461531\n",
       "41    0.459491\n",
       "15    0.457715\n",
       "33    0.456119\n",
       "Name: k, dtype: float64"
      ]
     },
     "metadata": {},
     "output_type": "display_data"
    }
   ],
   "source": [
    "parts_ari_stability = parts_ari.apply(lambda x: x.mean())\n",
    "display(parts_ari_stability.sort_values(ascending=False).head(15))"
   ]
  },
  {
   "cell_type": "code",
   "execution_count": 50,
   "id": "14f55da3",
   "metadata": {
    "execution": {
     "iopub.execute_input": "2022-09-13T20:02:43.487678Z",
     "iopub.status.busy": "2022-09-13T20:02:43.487509Z",
     "iopub.status.idle": "2022-09-13T20:02:43.506853Z",
     "shell.execute_reply": "2022-09-13T20:02:43.506250Z"
    },
    "papermill": {
     "duration": 0.043409,
     "end_time": "2022-09-13T20:02:43.508253",
     "exception": false,
     "start_time": "2022-09-13T20:02:43.464844",
     "status": "completed"
    },
    "tags": []
   },
   "outputs": [],
   "source": [
    "parts_ari_df = pd.DataFrame.from_records(parts_ari.tolist()).set_index(\n",
    "    parts_ari.index.copy()\n",
    ")"
   ]
  },
  {
   "cell_type": "code",
   "execution_count": 51,
   "id": "1841d33d",
   "metadata": {
    "execution": {
     "iopub.execute_input": "2022-09-13T20:02:43.556614Z",
     "iopub.status.busy": "2022-09-13T20:02:43.555865Z",
     "iopub.status.idle": "2022-09-13T20:02:43.575317Z",
     "shell.execute_reply": "2022-09-13T20:02:43.574886Z"
    },
    "papermill": {
     "duration": 0.042319,
     "end_time": "2022-09-13T20:02:43.576562",
     "exception": false,
     "start_time": "2022-09-13T20:02:43.534243",
     "status": "completed"
    },
    "tags": []
   },
   "outputs": [
    {
     "data": {
      "text/plain": [
       "(74, 6)"
      ]
     },
     "execution_count": 51,
     "metadata": {},
     "output_type": "execute_result"
    }
   ],
   "source": [
    "parts_ari_df.shape"
   ]
  },
  {
   "cell_type": "code",
   "execution_count": 52,
   "id": "52fab6d3",
   "metadata": {
    "execution": {
     "iopub.execute_input": "2022-09-13T20:02:43.620533Z",
     "iopub.status.busy": "2022-09-13T20:02:43.619661Z",
     "iopub.status.idle": "2022-09-13T20:02:43.638123Z",
     "shell.execute_reply": "2022-09-13T20:02:43.637591Z"
    },
    "papermill": {
     "duration": 0.041498,
     "end_time": "2022-09-13T20:02:43.639667",
     "exception": false,
     "start_time": "2022-09-13T20:02:43.598169",
     "status": "completed"
    },
    "tags": []
   },
   "outputs": [],
   "source": [
    "assert (\n",
    "    int(\n",
    "        (len(CLUSTERING_OPTIONS[\"LINKAGE\"]) * (len(CLUSTERING_OPTIONS[\"LINKAGE\"]) - 1))\n",
    "        / 2\n",
    "    )\n",
    "    == parts_ari_df.shape[1]\n",
    ")"
   ]
  },
  {
   "cell_type": "code",
   "execution_count": 53,
   "id": "eb2345f9",
   "metadata": {
    "execution": {
     "iopub.execute_input": "2022-09-13T20:02:43.683016Z",
     "iopub.status.busy": "2022-09-13T20:02:43.682774Z",
     "iopub.status.idle": "2022-09-13T20:02:43.706015Z",
     "shell.execute_reply": "2022-09-13T20:02:43.705460Z"
    },
    "papermill": {
     "duration": 0.047093,
     "end_time": "2022-09-13T20:02:43.707374",
     "exception": false,
     "start_time": "2022-09-13T20:02:43.660281",
     "status": "completed"
    },
    "tags": []
   },
   "outputs": [
    {
     "data": {
      "text/html": [
       "<div>\n",
       "<style scoped>\n",
       "    .dataframe tbody tr th:only-of-type {\n",
       "        vertical-align: middle;\n",
       "    }\n",
       "\n",
       "    .dataframe tbody tr th {\n",
       "        vertical-align: top;\n",
       "    }\n",
       "\n",
       "    .dataframe thead th {\n",
       "        text-align: right;\n",
       "    }\n",
       "</style>\n",
       "<table border=\"1\" class=\"dataframe\">\n",
       "  <thead>\n",
       "    <tr style=\"text-align: right;\">\n",
       "      <th></th>\n",
       "      <th>0</th>\n",
       "      <th>1</th>\n",
       "      <th>2</th>\n",
       "      <th>3</th>\n",
       "      <th>4</th>\n",
       "      <th>5</th>\n",
       "    </tr>\n",
       "  </thead>\n",
       "  <tbody>\n",
       "    <tr>\n",
       "      <th>2</th>\n",
       "      <td>0.021435</td>\n",
       "      <td>1.0</td>\n",
       "      <td>1.0</td>\n",
       "      <td>0.021435</td>\n",
       "      <td>0.021435</td>\n",
       "      <td>1.0</td>\n",
       "    </tr>\n",
       "    <tr>\n",
       "      <th>3</th>\n",
       "      <td>0.043332</td>\n",
       "      <td>1.0</td>\n",
       "      <td>1.0</td>\n",
       "      <td>0.043332</td>\n",
       "      <td>0.043332</td>\n",
       "      <td>1.0</td>\n",
       "    </tr>\n",
       "    <tr>\n",
       "      <th>4</th>\n",
       "      <td>0.064115</td>\n",
       "      <td>1.0</td>\n",
       "      <td>1.0</td>\n",
       "      <td>0.064115</td>\n",
       "      <td>0.064115</td>\n",
       "      <td>1.0</td>\n",
       "    </tr>\n",
       "    <tr>\n",
       "      <th>5</th>\n",
       "      <td>0.004248</td>\n",
       "      <td>1.0</td>\n",
       "      <td>1.0</td>\n",
       "      <td>0.004248</td>\n",
       "      <td>0.004248</td>\n",
       "      <td>1.0</td>\n",
       "    </tr>\n",
       "    <tr>\n",
       "      <th>6</th>\n",
       "      <td>0.005316</td>\n",
       "      <td>1.0</td>\n",
       "      <td>1.0</td>\n",
       "      <td>0.005316</td>\n",
       "      <td>0.005316</td>\n",
       "      <td>1.0</td>\n",
       "    </tr>\n",
       "  </tbody>\n",
       "</table>\n",
       "</div>"
      ],
      "text/plain": [
       "          0    1    2         3         4    5\n",
       "2  0.021435  1.0  1.0  0.021435  0.021435  1.0\n",
       "3  0.043332  1.0  1.0  0.043332  0.043332  1.0\n",
       "4  0.064115  1.0  1.0  0.064115  0.064115  1.0\n",
       "5  0.004248  1.0  1.0  0.004248  0.004248  1.0\n",
       "6  0.005316  1.0  1.0  0.005316  0.005316  1.0"
      ]
     },
     "execution_count": 53,
     "metadata": {},
     "output_type": "execute_result"
    }
   ],
   "source": [
    "parts_ari_df.head()"
   ]
  },
  {
   "cell_type": "markdown",
   "id": "260bb200",
   "metadata": {
    "papermill": {
     "duration": 0.021861,
     "end_time": "2022-09-13T20:02:43.751337",
     "exception": false,
     "start_time": "2022-09-13T20:02:43.729476",
     "status": "completed"
    },
    "tags": []
   },
   "source": [
    "## Save"
   ]
  },
  {
   "cell_type": "code",
   "execution_count": 54,
   "id": "c91ced4f",
   "metadata": {
    "execution": {
     "iopub.execute_input": "2022-09-13T20:02:43.795324Z",
     "iopub.status.busy": "2022-09-13T20:02:43.794741Z",
     "iopub.status.idle": "2022-09-13T20:02:43.813780Z",
     "shell.execute_reply": "2022-09-13T20:02:43.813339Z"
    },
    "papermill": {
     "duration": 0.042634,
     "end_time": "2022-09-13T20:02:43.815192",
     "exception": false,
     "start_time": "2022-09-13T20:02:43.772558",
     "status": "completed"
    },
    "tags": []
   },
   "outputs": [
    {
     "data": {
      "text/plain": [
       "PosixPath('/opt/data/results/clustering/null_sims/runs/pca-z_score_std-projection-smultixcan-efo_partial-mashr-zscores/AgglomerativeClustering-stability-AFFINITY_euclidean-K_MAX_75-K_MIN_2-LINKAGE_single_ward_average_complete.pkl')"
      ]
     },
     "metadata": {},
     "output_type": "display_data"
    }
   ],
   "source": [
    "output_filename = Path(\n",
    "    RESULTS_DIR,\n",
    "    generate_result_set_name(\n",
    "        CLUSTERING_OPTIONS,\n",
    "        prefix=f\"{clustering_method_name}-stability-\",\n",
    "        suffix=\".pkl\",\n",
    "    ),\n",
    ").resolve()\n",
    "display(output_filename)"
   ]
  },
  {
   "cell_type": "code",
   "execution_count": 55,
   "id": "eff628e7",
   "metadata": {
    "execution": {
     "iopub.execute_input": "2022-09-13T20:02:43.858787Z",
     "iopub.status.busy": "2022-09-13T20:02:43.858605Z",
     "iopub.status.idle": "2022-09-13T20:02:43.882351Z",
     "shell.execute_reply": "2022-09-13T20:02:43.881818Z"
    },
    "papermill": {
     "duration": 0.047548,
     "end_time": "2022-09-13T20:02:43.883928",
     "exception": false,
     "start_time": "2022-09-13T20:02:43.836380",
     "status": "completed"
    },
    "tags": []
   },
   "outputs": [],
   "source": [
    "parts_ari_df.to_pickle(output_filename)"
   ]
  },
  {
   "cell_type": "markdown",
   "id": "3382dcbc",
   "metadata": {
    "papermill": {
     "duration": 0.02347,
     "end_time": "2022-09-13T20:02:43.933247",
     "exception": false,
     "start_time": "2022-09-13T20:02:43.909777",
     "status": "completed"
    },
    "tags": []
   },
   "source": [
    "## Stability plot"
   ]
  },
  {
   "cell_type": "code",
   "execution_count": 56,
   "id": "1b15c162",
   "metadata": {
    "execution": {
     "iopub.execute_input": "2022-09-13T20:02:43.977532Z",
     "iopub.status.busy": "2022-09-13T20:02:43.977362Z",
     "iopub.status.idle": "2022-09-13T20:02:43.998068Z",
     "shell.execute_reply": "2022-09-13T20:02:43.997529Z"
    },
    "papermill": {
     "duration": 0.044808,
     "end_time": "2022-09-13T20:02:43.999508",
     "exception": false,
     "start_time": "2022-09-13T20:02:43.954700",
     "status": "completed"
    },
    "tags": []
   },
   "outputs": [],
   "source": [
    "parts_ari_df_plot = (\n",
    "    parts_ari_df.stack()\n",
    "    .reset_index()\n",
    "    .rename(columns={\"level_0\": \"k\", \"level_1\": \"idx\", 0: \"ari\"})\n",
    ")"
   ]
  },
  {
   "cell_type": "code",
   "execution_count": 57,
   "id": "9785d563",
   "metadata": {
    "execution": {
     "iopub.execute_input": "2022-09-13T20:02:44.043249Z",
     "iopub.status.busy": "2022-09-13T20:02:44.043044Z",
     "iopub.status.idle": "2022-09-13T20:02:44.062431Z",
     "shell.execute_reply": "2022-09-13T20:02:44.061857Z"
    },
    "papermill": {
     "duration": 0.04314,
     "end_time": "2022-09-13T20:02:44.063745",
     "exception": false,
     "start_time": "2022-09-13T20:02:44.020605",
     "status": "completed"
    },
    "tags": []
   },
   "outputs": [
    {
     "data": {
      "text/plain": [
       "k        int64\n",
       "idx      int64\n",
       "ari    float64\n",
       "dtype: object"
      ]
     },
     "execution_count": 57,
     "metadata": {},
     "output_type": "execute_result"
    }
   ],
   "source": [
    "parts_ari_df_plot.dtypes"
   ]
  },
  {
   "cell_type": "code",
   "execution_count": 58,
   "id": "d67712cc",
   "metadata": {
    "execution": {
     "iopub.execute_input": "2022-09-13T20:02:44.106987Z",
     "iopub.status.busy": "2022-09-13T20:02:44.106514Z",
     "iopub.status.idle": "2022-09-13T20:02:44.127764Z",
     "shell.execute_reply": "2022-09-13T20:02:44.127252Z"
    },
    "papermill": {
     "duration": 0.044396,
     "end_time": "2022-09-13T20:02:44.129034",
     "exception": false,
     "start_time": "2022-09-13T20:02:44.084638",
     "status": "completed"
    },
    "tags": []
   },
   "outputs": [
    {
     "data": {
      "text/html": [
       "<div>\n",
       "<style scoped>\n",
       "    .dataframe tbody tr th:only-of-type {\n",
       "        vertical-align: middle;\n",
       "    }\n",
       "\n",
       "    .dataframe tbody tr th {\n",
       "        vertical-align: top;\n",
       "    }\n",
       "\n",
       "    .dataframe thead th {\n",
       "        text-align: right;\n",
       "    }\n",
       "</style>\n",
       "<table border=\"1\" class=\"dataframe\">\n",
       "  <thead>\n",
       "    <tr style=\"text-align: right;\">\n",
       "      <th></th>\n",
       "      <th>k</th>\n",
       "      <th>idx</th>\n",
       "      <th>ari</th>\n",
       "    </tr>\n",
       "  </thead>\n",
       "  <tbody>\n",
       "    <tr>\n",
       "      <th>0</th>\n",
       "      <td>2</td>\n",
       "      <td>0</td>\n",
       "      <td>0.021435</td>\n",
       "    </tr>\n",
       "    <tr>\n",
       "      <th>1</th>\n",
       "      <td>2</td>\n",
       "      <td>1</td>\n",
       "      <td>1.000000</td>\n",
       "    </tr>\n",
       "    <tr>\n",
       "      <th>2</th>\n",
       "      <td>2</td>\n",
       "      <td>2</td>\n",
       "      <td>1.000000</td>\n",
       "    </tr>\n",
       "    <tr>\n",
       "      <th>3</th>\n",
       "      <td>2</td>\n",
       "      <td>3</td>\n",
       "      <td>0.021435</td>\n",
       "    </tr>\n",
       "    <tr>\n",
       "      <th>4</th>\n",
       "      <td>2</td>\n",
       "      <td>4</td>\n",
       "      <td>0.021435</td>\n",
       "    </tr>\n",
       "  </tbody>\n",
       "</table>\n",
       "</div>"
      ],
      "text/plain": [
       "   k  idx       ari\n",
       "0  2    0  0.021435\n",
       "1  2    1  1.000000\n",
       "2  2    2  1.000000\n",
       "3  2    3  0.021435\n",
       "4  2    4  0.021435"
      ]
     },
     "execution_count": 58,
     "metadata": {},
     "output_type": "execute_result"
    }
   ],
   "source": [
    "parts_ari_df_plot.head()"
   ]
  },
  {
   "cell_type": "code",
   "execution_count": 59,
   "id": "c95e503e",
   "metadata": {
    "execution": {
     "iopub.execute_input": "2022-09-13T20:02:44.172980Z",
     "iopub.status.busy": "2022-09-13T20:02:44.172393Z",
     "iopub.status.idle": "2022-09-13T20:02:47.884002Z",
     "shell.execute_reply": "2022-09-13T20:02:47.883383Z"
    },
    "papermill": {
     "duration": 3.735753,
     "end_time": "2022-09-13T20:02:47.886094",
     "exception": false,
     "start_time": "2022-09-13T20:02:44.150341",
     "status": "completed"
    },
    "tags": []
   },
   "outputs": [
    {
     "data": {
      "image/png": "[encoded data removed]",
      "text/plain": [
       "<Figure size 1008x432 with 1 Axes>"
      ]
     },
     "metadata": {},
     "output_type": "display_data"
    }
   ],
   "source": [
    "# with sns.axes_style('whitegrid', {'grid.linestyle': '--'}):\n",
    "with sns.plotting_context(\"talk\", font_scale=0.75), sns.axes_style(\n",
    "    \"whitegrid\", {\"grid.linestyle\": \"--\"}\n",
    "):\n",
    "    fig = plt.figure(figsize=(14, 6))\n",
    "    ax = sns.pointplot(data=parts_ari_df_plot, x=\"k\", y=\"ari\")\n",
    "    ax.set_ylabel(\"Averange ARI\")\n",
    "    ax.set_xlabel(\"Number of clusters ($k$)\")\n",
    "    ax.set_xticklabels(ax.get_xticklabels(), rotation=45)\n",
    "    #     ax.set_ylim(0.0, 1.0)\n",
    "    #     ax.set_xlim(CLUSTERING_OPTIONS['K_MIN'], CLUSTERING_OPTIONS['K_MAX'])\n",
    "    plt.grid(True)\n",
    "    plt.tight_layout()"
   ]
  },
  {
   "cell_type": "code",
   "execution_count": null,
   "id": "133599e4",
   "metadata": {
    "papermill": {
     "duration": 0.022404,
     "end_time": "2022-09-13T20:02:47.934231",
     "exception": false,
     "start_time": "2022-09-13T20:02:47.911827",
     "status": "completed"
    },
    "tags": []
   },
   "outputs": [],
   "source": []
  }
 ],
 "metadata": {
  "jupytext": {
   "cell_metadata_filter": "all,-execution,-papermill,-trusted",
   "formats": "ipynb,py//py:percent"
  },
  "kernelspec": {
   "display_name": "Python 3 (ipykernel)",
   "language": "python",
   "name": "python3"
  },
  "language_info": {
   "codemirror_mode": {
    "name": "ipython",
    "version": 3
   },
   "file_extension": ".py",
   "mimetype": "text/x-python",
   "name": "python",
   "nbconvert_exporter": "python",
   "pygments_lexer": "ipython3",
   "version": "3.8.13"
  },
  "papermill": {
   "default_parameters": {},
   "duration": 2079.42415,
   "end_time": "2022-09-13T20:02:48.275005",
   "environment_variables": {},
   "exception": null,
   "input_path": "nbs/13.1_cluster_analysis_null/13_01-hc-pca.ipynb",
   "output_path": "nbs/13.1_cluster_analysis_null/13_01-hc-pca.run.ipynb",
   "parameters": {},
   "start_time": "2022-09-13T19:28:08.850855",
   "version": "2.2.2"
  },
  "toc-autonumbering": true,
  "toc-showcode": false,
  "toc-showmarkdowntxt": false,
  "toc-showtags": false
 },
 "nbformat": 4,
 "nbformat_minor": 5
}
