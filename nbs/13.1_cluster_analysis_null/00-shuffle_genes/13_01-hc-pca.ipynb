{
 "cells": [
  {
   "cell_type": "markdown",
   "id": "18079208",
   "metadata": {
    "papermill": {
     "duration": 0.013375,
     "end_time": "2022-11-26T04:55:28.478364",
     "exception": false,
     "start_time": "2022-11-26T04:55:28.464989",
     "status": "completed"
    },
    "tags": []
   },
   "source": [
    "# Description"
   ]
  },
  {
   "cell_type": "markdown",
   "id": "92119f64",
   "metadata": {
    "papermill": {
     "duration": 0.012257,
     "end_time": "2022-11-26T04:55:28.503972",
     "exception": false,
     "start_time": "2022-11-26T04:55:28.491715",
     "status": "completed"
    },
    "tags": []
   },
   "source": [
    "Runs hierarchical clustering on the pca version of the data."
   ]
  },
  {
   "cell_type": "markdown",
   "id": "8ea5c0d6",
   "metadata": {
    "papermill": {
     "duration": 0.013845,
     "end_time": "2022-11-26T04:55:28.530272",
     "exception": false,
     "start_time": "2022-11-26T04:55:28.516427",
     "status": "completed"
    },
    "tags": []
   },
   "source": [
    "# Environment variables"
   ]
  },
  {
   "cell_type": "code",
   "execution_count": 1,
   "id": "a6b4302f",
   "metadata": {
    "execution": {
     "iopub.execute_input": "2022-11-26T04:55:28.552886Z",
     "iopub.status.busy": "2022-11-26T04:55:28.552556Z",
     "iopub.status.idle": "2022-11-26T04:55:28.570713Z",
     "shell.execute_reply": "2022-11-26T04:55:28.570339Z"
    },
    "papermill": {
     "duration": 0.028868,
     "end_time": "2022-11-26T04:55:28.571531",
     "exception": false,
     "start_time": "2022-11-26T04:55:28.542663",
     "status": "completed"
    },
    "tags": []
   },
   "outputs": [
    {
     "data": {
      "text/plain": [
       "10"
      ]
     },
     "metadata": {},
     "output_type": "display_data"
    }
   ],
   "source": [
    "from IPython.display import display\n",
    "\n",
    "import conf\n",
    "\n",
    "N_JOBS = conf.GENERAL[\"N_JOBS\"]\n",
    "display(N_JOBS)"
   ]
  },
  {
   "cell_type": "code",
   "execution_count": 2,
   "id": "0f15653d",
   "metadata": {
    "execution": {
     "iopub.execute_input": "2022-11-26T04:55:28.585829Z",
     "iopub.status.busy": "2022-11-26T04:55:28.585447Z",
     "iopub.status.idle": "2022-11-26T04:55:28.591027Z",
     "shell.execute_reply": "2022-11-26T04:55:28.590635Z"
    },
    "papermill": {
     "duration": 0.013705,
     "end_time": "2022-11-26T04:55:28.591815",
     "exception": false,
     "start_time": "2022-11-26T04:55:28.578110",
     "status": "completed"
    },
    "tags": []
   },
   "outputs": [
    {
     "name": "stdout",
     "output_type": "stream",
     "text": [
      "env: MKL_NUM_THREADS=10\n",
      "env: OPEN_BLAS_NUM_THREADS=10\n",
      "env: NUMEXPR_NUM_THREADS=10\n",
      "env: OMP_NUM_THREADS=10\n"
     ]
    }
   ],
   "source": [
    "%env MKL_NUM_THREADS=$N_JOBS\n",
    "%env OPEN_BLAS_NUM_THREADS=$N_JOBS\n",
    "%env NUMEXPR_NUM_THREADS=$N_JOBS\n",
    "%env OMP_NUM_THREADS=$N_JOBS"
   ]
  },
  {
   "cell_type": "markdown",
   "id": "111f3992",
   "metadata": {
    "papermill": {
     "duration": 0.006533,
     "end_time": "2022-11-26T04:55:28.605741",
     "exception": false,
     "start_time": "2022-11-26T04:55:28.599208",
     "status": "completed"
    },
    "tags": []
   },
   "source": [
    "# Modules loading"
   ]
  },
  {
   "cell_type": "code",
   "execution_count": 3,
   "id": "a1140981",
   "metadata": {
    "execution": {
     "iopub.execute_input": "2022-11-26T04:55:28.620232Z",
     "iopub.status.busy": "2022-11-26T04:55:28.619915Z",
     "iopub.status.idle": "2022-11-26T04:55:28.632472Z",
     "shell.execute_reply": "2022-11-26T04:55:28.632074Z"
    },
    "papermill": {
     "duration": 0.020476,
     "end_time": "2022-11-26T04:55:28.633288",
     "exception": false,
     "start_time": "2022-11-26T04:55:28.612812",
     "status": "completed"
    },
    "tags": []
   },
   "outputs": [],
   "source": [
    "%load_ext autoreload\n",
    "%autoreload 2"
   ]
  },
  {
   "cell_type": "code",
   "execution_count": 4,
   "id": "28deaf49",
   "metadata": {
    "execution": {
     "iopub.execute_input": "2022-11-26T04:55:28.647390Z",
     "iopub.status.busy": "2022-11-26T04:55:28.647086Z",
     "iopub.status.idle": "2022-11-26T04:55:29.102040Z",
     "shell.execute_reply": "2022-11-26T04:55:29.101709Z"
    },
    "papermill": {
     "duration": 0.463538,
     "end_time": "2022-11-26T04:55:29.103390",
     "exception": false,
     "start_time": "2022-11-26T04:55:28.639852",
     "status": "completed"
    },
    "tags": []
   },
   "outputs": [],
   "source": [
    "from pathlib import Path\n",
    "\n",
    "import numpy as np\n",
    "import pandas as pd\n",
    "import matplotlib.pyplot as plt\n",
    "import seaborn as sns\n",
    "\n",
    "from utils import generate_result_set_name"
   ]
  },
  {
   "cell_type": "markdown",
   "id": "8310908a",
   "metadata": {
    "papermill": {
     "duration": 0.012278,
     "end_time": "2022-11-26T04:55:29.153820",
     "exception": false,
     "start_time": "2022-11-26T04:55:29.141542",
     "status": "completed"
    },
    "tags": []
   },
   "source": [
    "# Settings"
   ]
  },
  {
   "cell_type": "code",
   "execution_count": 5,
   "id": "9144be05",
   "metadata": {
    "execution": {
     "iopub.execute_input": "2022-11-26T04:55:29.179538Z",
     "iopub.status.busy": "2022-11-26T04:55:29.179440Z",
     "iopub.status.idle": "2022-11-26T04:55:29.189814Z",
     "shell.execute_reply": "2022-11-26T04:55:29.189546Z"
    },
    "papermill": {
     "duration": 0.0244,
     "end_time": "2022-11-26T04:55:29.190969",
     "exception": false,
     "start_time": "2022-11-26T04:55:29.166569",
     "status": "completed"
    },
    "tags": []
   },
   "outputs": [],
   "source": [
    "np.random.seed(0)"
   ]
  },
  {
   "cell_type": "code",
   "execution_count": 6,
   "id": "10f6375d-04d2-4873-98e4-e5afdf9a79cd",
   "metadata": {
    "execution": {
     "iopub.execute_input": "2022-11-26T04:55:29.216391Z",
     "iopub.status.busy": "2022-11-26T04:55:29.216240Z",
     "iopub.status.idle": "2022-11-26T04:55:29.232133Z",
     "shell.execute_reply": "2022-11-26T04:55:29.231680Z"
    },
    "papermill": {
     "duration": 0.029906,
     "end_time": "2022-11-26T04:55:29.233403",
     "exception": false,
     "start_time": "2022-11-26T04:55:29.203497",
     "status": "completed"
    },
    "tags": []
   },
   "outputs": [],
   "source": [
    "NULL_DIR = conf.RESULTS[\"CLUSTERING_NULL_DIR\"] / \"shuffle_genes\""
   ]
  },
  {
   "cell_type": "markdown",
   "id": "54d1d37c",
   "metadata": {
    "papermill": {
     "duration": 0.012323,
     "end_time": "2022-11-26T04:55:29.258743",
     "exception": false,
     "start_time": "2022-11-26T04:55:29.246420",
     "status": "completed"
    },
    "tags": []
   },
   "source": [
    "## Input data"
   ]
  },
  {
   "cell_type": "code",
   "execution_count": 7,
   "id": "e8436e39",
   "metadata": {
    "execution": {
     "iopub.execute_input": "2022-11-26T04:55:29.278882Z",
     "iopub.status.busy": "2022-11-26T04:55:29.278581Z",
     "iopub.status.idle": "2022-11-26T04:55:29.294862Z",
     "shell.execute_reply": "2022-11-26T04:55:29.294478Z"
    },
    "papermill": {
     "duration": 0.024955,
     "end_time": "2022-11-26T04:55:29.295616",
     "exception": false,
     "start_time": "2022-11-26T04:55:29.270661",
     "status": "completed"
    },
    "tags": []
   },
   "outputs": [],
   "source": [
    "INPUT_SUBSET = \"pca\""
   ]
  },
  {
   "cell_type": "code",
   "execution_count": 8,
   "id": "033d2a57",
   "metadata": {
    "execution": {
     "iopub.execute_input": "2022-11-26T04:55:29.309454Z",
     "iopub.status.busy": "2022-11-26T04:55:29.309129Z",
     "iopub.status.idle": "2022-11-26T04:55:29.325492Z",
     "shell.execute_reply": "2022-11-26T04:55:29.325101Z"
    },
    "papermill": {
     "duration": 0.024169,
     "end_time": "2022-11-26T04:55:29.326333",
     "exception": false,
     "start_time": "2022-11-26T04:55:29.302164",
     "status": "completed"
    },
    "tags": []
   },
   "outputs": [],
   "source": [
    "INPUT_STEM = \"z_score_std-projection-smultixcan-efo_partial-mashr-zscores\""
   ]
  },
  {
   "cell_type": "code",
   "execution_count": 9,
   "id": "29886ee3",
   "metadata": {
    "execution": {
     "iopub.execute_input": "2022-11-26T04:55:29.340410Z",
     "iopub.status.busy": "2022-11-26T04:55:29.340112Z",
     "iopub.status.idle": "2022-11-26T04:55:29.356660Z",
     "shell.execute_reply": "2022-11-26T04:55:29.356253Z"
    },
    "papermill": {
     "duration": 0.024229,
     "end_time": "2022-11-26T04:55:29.357378",
     "exception": false,
     "start_time": "2022-11-26T04:55:29.333149",
     "status": "completed"
    },
    "tags": []
   },
   "outputs": [],
   "source": [
    "# parameters of the dimentionality reduction steps\n",
    "DR_OPTIONS = {\n",
    "    \"n_components\": 50,\n",
    "    \"svd_solver\": \"full\",\n",
    "    \"random_state\": 0,\n",
    "}"
   ]
  },
  {
   "cell_type": "code",
   "execution_count": 10,
   "id": "0db56678",
   "metadata": {
    "execution": {
     "iopub.execute_input": "2022-11-26T04:55:29.371397Z",
     "iopub.status.busy": "2022-11-26T04:55:29.371088Z",
     "iopub.status.idle": "2022-11-26T04:55:29.390022Z",
     "shell.execute_reply": "2022-11-26T04:55:29.389660Z"
    },
    "papermill": {
     "duration": 0.026841,
     "end_time": "2022-11-26T04:55:29.390738",
     "exception": false,
     "start_time": "2022-11-26T04:55:29.363897",
     "status": "completed"
    },
    "tags": []
   },
   "outputs": [
    {
     "data": {
      "text/plain": [
       "PosixPath('/opt/data/results/clustering/null_sims/shuffle_genes/data_transformations/pca/pca-z_score_std-projection-smultixcan-efo_partial-mashr-zscores-n_components_50-random_state_0-svd_solver_full.pkl')"
      ]
     },
     "metadata": {},
     "output_type": "display_data"
    },
    {
     "data": {
      "text/plain": [
       "'pca-z_score_std-projection-smultixcan-efo_partial-mashr-zscores-n_components_50-random_state_0-svd_solver_full'"
      ]
     },
     "metadata": {},
     "output_type": "display_data"
    }
   ],
   "source": [
    "input_filepath = Path(\n",
    "    NULL_DIR,\n",
    "    \"data_transformations\",\n",
    "    INPUT_SUBSET,\n",
    "    generate_result_set_name(\n",
    "        DR_OPTIONS, prefix=f\"{INPUT_SUBSET}-{INPUT_STEM}-\", suffix=\".pkl\"\n",
    "    ),\n",
    ").resolve()\n",
    "display(input_filepath)\n",
    "\n",
    "assert input_filepath.exists(), \"Input file does not exist\"\n",
    "\n",
    "input_filepath_stem = input_filepath.stem\n",
    "display(input_filepath_stem)"
   ]
  },
  {
   "cell_type": "markdown",
   "id": "b5ffb1a6",
   "metadata": {
    "papermill": {
     "duration": 0.006569,
     "end_time": "2022-11-26T04:55:29.403994",
     "exception": false,
     "start_time": "2022-11-26T04:55:29.397425",
     "status": "completed"
    },
    "tags": []
   },
   "source": [
    "## Clustering"
   ]
  },
  {
   "cell_type": "code",
   "execution_count": 11,
   "id": "bab5805f",
   "metadata": {
    "execution": {
     "iopub.execute_input": "2022-11-26T04:55:29.418318Z",
     "iopub.status.busy": "2022-11-26T04:55:29.418021Z",
     "iopub.status.idle": "2022-11-26T04:55:29.503781Z",
     "shell.execute_reply": "2022-11-26T04:55:29.503467Z"
    },
    "papermill": {
     "duration": 0.093835,
     "end_time": "2022-11-26T04:55:29.504504",
     "exception": false,
     "start_time": "2022-11-26T04:55:29.410669",
     "status": "completed"
    },
    "tags": []
   },
   "outputs": [],
   "source": [
    "from sklearn.cluster import AgglomerativeClustering"
   ]
  },
  {
   "cell_type": "code",
   "execution_count": 12,
   "id": "dd14e903",
   "metadata": {
    "execution": {
     "iopub.execute_input": "2022-11-26T04:55:29.518298Z",
     "iopub.status.busy": "2022-11-26T04:55:29.518162Z",
     "iopub.status.idle": "2022-11-26T04:55:29.529771Z",
     "shell.execute_reply": "2022-11-26T04:55:29.529511Z"
    },
    "papermill": {
     "duration": 0.019396,
     "end_time": "2022-11-26T04:55:29.530550",
     "exception": false,
     "start_time": "2022-11-26T04:55:29.511154",
     "status": "completed"
    },
    "tags": []
   },
   "outputs": [],
   "source": [
    "CLUSTERING_ATTRIBUTES_TO_SAVE = [\"n_clusters\"]"
   ]
  },
  {
   "cell_type": "code",
   "execution_count": 13,
   "id": "ff7bf878",
   "metadata": {
    "execution": {
     "iopub.execute_input": "2022-11-26T04:55:29.544707Z",
     "iopub.status.busy": "2022-11-26T04:55:29.544580Z",
     "iopub.status.idle": "2022-11-26T04:55:29.555916Z",
     "shell.execute_reply": "2022-11-26T04:55:29.555658Z"
    },
    "papermill": {
     "duration": 0.018967,
     "end_time": "2022-11-26T04:55:29.556603",
     "exception": false,
     "start_time": "2022-11-26T04:55:29.537636",
     "status": "completed"
    },
    "tags": []
   },
   "outputs": [
    {
     "data": {
      "text/plain": [
       "{'K_MIN': 2,\n",
       " 'K_MAX': 75,\n",
       " 'LINKAGE': {'average', 'complete', 'single', 'ward'},\n",
       " 'AFFINITY': 'euclidean'}"
      ]
     },
     "metadata": {},
     "output_type": "display_data"
    }
   ],
   "source": [
    "CLUSTERING_OPTIONS = {}\n",
    "\n",
    "CLUSTERING_OPTIONS[\"K_MIN\"] = 2\n",
    "CLUSTERING_OPTIONS[\"K_MAX\"] = 75  # sqrt(3749) + some more to get closer to 295\n",
    "CLUSTERING_OPTIONS[\"LINKAGE\"] = {\"ward\", \"complete\", \"average\", \"single\"}\n",
    "CLUSTERING_OPTIONS[\"AFFINITY\"] = \"euclidean\"\n",
    "\n",
    "display(CLUSTERING_OPTIONS)"
   ]
  },
  {
   "cell_type": "code",
   "execution_count": 14,
   "id": "fbb70ae2",
   "metadata": {
    "execution": {
     "iopub.execute_input": "2022-11-26T04:55:29.570805Z",
     "iopub.status.busy": "2022-11-26T04:55:29.570554Z",
     "iopub.status.idle": "2022-11-26T04:55:29.582461Z",
     "shell.execute_reply": "2022-11-26T04:55:29.582192Z"
    },
    "papermill": {
     "duration": 0.01988,
     "end_time": "2022-11-26T04:55:29.583199",
     "exception": false,
     "start_time": "2022-11-26T04:55:29.563319",
     "status": "completed"
    },
    "tags": []
   },
   "outputs": [],
   "source": [
    "CLUSTERERS = {}\n",
    "\n",
    "idx = 0\n",
    "\n",
    "for k in range(CLUSTERING_OPTIONS[\"K_MIN\"], CLUSTERING_OPTIONS[\"K_MAX\"] + 1):\n",
    "    for linkage in CLUSTERING_OPTIONS[\"LINKAGE\"]:\n",
    "        if linkage == \"ward\":\n",
    "            affinity = \"euclidean\"\n",
    "        else:\n",
    "            affinity = \"precomputed\"\n",
    "\n",
    "        clus = AgglomerativeClustering(\n",
    "            n_clusters=k,\n",
    "            affinity=affinity,\n",
    "            linkage=linkage,\n",
    "        )\n",
    "\n",
    "        method_name = type(clus).__name__\n",
    "        CLUSTERERS[f\"{method_name} #{idx}\"] = clus\n",
    "\n",
    "        idx = idx + 1"
   ]
  },
  {
   "cell_type": "code",
   "execution_count": 15,
   "id": "5511fb5f",
   "metadata": {
    "execution": {
     "iopub.execute_input": "2022-11-26T04:55:29.597079Z",
     "iopub.status.busy": "2022-11-26T04:55:29.596982Z",
     "iopub.status.idle": "2022-11-26T04:55:29.611630Z",
     "shell.execute_reply": "2022-11-26T04:55:29.611310Z"
    },
    "papermill": {
     "duration": 0.022391,
     "end_time": "2022-11-26T04:55:29.612350",
     "exception": false,
     "start_time": "2022-11-26T04:55:29.589959",
     "status": "completed"
    },
    "tags": []
   },
   "outputs": [
    {
     "data": {
      "text/plain": [
       "296"
      ]
     },
     "metadata": {},
     "output_type": "display_data"
    }
   ],
   "source": [
    "display(len(CLUSTERERS))"
   ]
  },
  {
   "cell_type": "code",
   "execution_count": 16,
   "id": "bfc324af",
   "metadata": {
    "execution": {
     "iopub.execute_input": "2022-11-26T04:55:29.626653Z",
     "iopub.status.busy": "2022-11-26T04:55:29.626404Z",
     "iopub.status.idle": "2022-11-26T04:55:29.642776Z",
     "shell.execute_reply": "2022-11-26T04:55:29.642457Z"
    },
    "papermill": {
     "duration": 0.024181,
     "end_time": "2022-11-26T04:55:29.643487",
     "exception": false,
     "start_time": "2022-11-26T04:55:29.619306",
     "status": "completed"
    },
    "tags": []
   },
   "outputs": [
    {
     "data": {
      "text/plain": [
       "('AgglomerativeClustering #0',\n",
       " AgglomerativeClustering(affinity='precomputed', linkage='average'))"
      ]
     },
     "metadata": {},
     "output_type": "display_data"
    },
    {
     "data": {
      "text/plain": [
       "('AgglomerativeClustering #1',\n",
       " AgglomerativeClustering(affinity='precomputed', linkage='single'))"
      ]
     },
     "metadata": {},
     "output_type": "display_data"
    }
   ],
   "source": [
    "_iter = iter(CLUSTERERS.items())\n",
    "display(next(_iter))\n",
    "display(next(_iter))"
   ]
  },
  {
   "cell_type": "code",
   "execution_count": 17,
   "id": "4b26ef27",
   "metadata": {
    "execution": {
     "iopub.execute_input": "2022-11-26T04:55:29.657872Z",
     "iopub.status.busy": "2022-11-26T04:55:29.657583Z",
     "iopub.status.idle": "2022-11-26T04:55:29.672486Z",
     "shell.execute_reply": "2022-11-26T04:55:29.672160Z"
    },
    "papermill": {
     "duration": 0.022825,
     "end_time": "2022-11-26T04:55:29.673166",
     "exception": false,
     "start_time": "2022-11-26T04:55:29.650341",
     "status": "completed"
    },
    "tags": []
   },
   "outputs": [
    {
     "data": {
      "text/plain": [
       "'AgglomerativeClustering'"
      ]
     },
     "metadata": {},
     "output_type": "display_data"
    }
   ],
   "source": [
    "clustering_method_name = method_name\n",
    "display(clustering_method_name)"
   ]
  },
  {
   "cell_type": "markdown",
   "id": "fc3853d7",
   "metadata": {
    "papermill": {
     "duration": 0.006819,
     "end_time": "2022-11-26T04:55:29.687095",
     "exception": false,
     "start_time": "2022-11-26T04:55:29.680276",
     "status": "completed"
    },
    "tags": []
   },
   "source": [
    "## Output directory"
   ]
  },
  {
   "cell_type": "code",
   "execution_count": 18,
   "id": "8a786027",
   "metadata": {
    "execution": {
     "iopub.execute_input": "2022-11-26T04:55:29.701743Z",
     "iopub.status.busy": "2022-11-26T04:55:29.701424Z",
     "iopub.status.idle": "2022-11-26T04:55:29.720788Z",
     "shell.execute_reply": "2022-11-26T04:55:29.720389Z"
    },
    "papermill": {
     "duration": 0.027529,
     "end_time": "2022-11-26T04:55:29.721534",
     "exception": false,
     "start_time": "2022-11-26T04:55:29.694005",
     "status": "completed"
    },
    "tags": []
   },
   "outputs": [
    {
     "data": {
      "text/plain": [
       "PosixPath('/opt/data/results/clustering/null_sims/shuffle_genes/runs/pca-z_score_std-projection-smultixcan-efo_partial-mashr-zscores')"
      ]
     },
     "metadata": {},
     "output_type": "display_data"
    }
   ],
   "source": [
    "# output dir for this notebook\n",
    "RESULTS_DIR = Path(\n",
    "    NULL_DIR,\n",
    "    \"runs\",\n",
    "    f\"{INPUT_SUBSET}-{INPUT_STEM}\",\n",
    ").resolve()\n",
    "RESULTS_DIR.mkdir(parents=True, exist_ok=True)\n",
    "\n",
    "display(RESULTS_DIR)"
   ]
  },
  {
   "cell_type": "markdown",
   "id": "6a9d2924",
   "metadata": {
    "papermill": {
     "duration": 0.006831,
     "end_time": "2022-11-26T04:55:29.735314",
     "exception": false,
     "start_time": "2022-11-26T04:55:29.728483",
     "status": "completed"
    },
    "tags": []
   },
   "source": [
    "# Load input file"
   ]
  },
  {
   "cell_type": "code",
   "execution_count": 19,
   "id": "90da4ce9",
   "metadata": {
    "execution": {
     "iopub.execute_input": "2022-11-26T04:55:29.750232Z",
     "iopub.status.busy": "2022-11-26T04:55:29.749853Z",
     "iopub.status.idle": "2022-11-26T04:55:29.770792Z",
     "shell.execute_reply": "2022-11-26T04:55:29.770396Z"
    },
    "papermill": {
     "duration": 0.029193,
     "end_time": "2022-11-26T04:55:29.771631",
     "exception": false,
     "start_time": "2022-11-26T04:55:29.742438",
     "status": "completed"
    },
    "tags": []
   },
   "outputs": [],
   "source": [
    "data = pd.read_pickle(input_filepath)"
   ]
  },
  {
   "cell_type": "code",
   "execution_count": 20,
   "id": "4d4abcd8",
   "metadata": {
    "execution": {
     "iopub.execute_input": "2022-11-26T04:55:29.786555Z",
     "iopub.status.busy": "2022-11-26T04:55:29.786193Z",
     "iopub.status.idle": "2022-11-26T04:55:29.805440Z",
     "shell.execute_reply": "2022-11-26T04:55:29.805056Z"
    },
    "papermill": {
     "duration": 0.027621,
     "end_time": "2022-11-26T04:55:29.806189",
     "exception": false,
     "start_time": "2022-11-26T04:55:29.778568",
     "status": "completed"
    },
    "tags": []
   },
   "outputs": [
    {
     "data": {
      "text/plain": [
       "(3752, 50)"
      ]
     },
     "execution_count": 20,
     "metadata": {},
     "output_type": "execute_result"
    }
   ],
   "source": [
    "data.shape"
   ]
  },
  {
   "cell_type": "code",
   "execution_count": 21,
   "id": "09327061",
   "metadata": {
    "execution": {
     "iopub.execute_input": "2022-11-26T04:55:29.820933Z",
     "iopub.status.busy": "2022-11-26T04:55:29.820645Z",
     "iopub.status.idle": "2022-11-26T04:55:29.855601Z",
     "shell.execute_reply": "2022-11-26T04:55:29.855221Z"
    },
    "papermill": {
     "duration": 0.043397,
     "end_time": "2022-11-26T04:55:29.856617",
     "exception": false,
     "start_time": "2022-11-26T04:55:29.813220",
     "status": "completed"
    },
    "tags": []
   },
   "outputs": [
    {
     "data": {
      "text/html": [
       "<div>\n",
       "<style scoped>\n",
       "    .dataframe tbody tr th:only-of-type {\n",
       "        vertical-align: middle;\n",
       "    }\n",
       "\n",
       "    .dataframe tbody tr th {\n",
       "        vertical-align: top;\n",
       "    }\n",
       "\n",
       "    .dataframe thead th {\n",
       "        text-align: right;\n",
       "    }\n",
       "</style>\n",
       "<table border=\"1\" class=\"dataframe\">\n",
       "  <thead>\n",
       "    <tr style=\"text-align: right;\">\n",
       "      <th></th>\n",
       "      <th>PCA1</th>\n",
       "      <th>PCA2</th>\n",
       "      <th>PCA3</th>\n",
       "      <th>PCA4</th>\n",
       "      <th>PCA5</th>\n",
       "      <th>PCA6</th>\n",
       "      <th>PCA7</th>\n",
       "      <th>PCA8</th>\n",
       "      <th>PCA9</th>\n",
       "      <th>PCA10</th>\n",
       "      <th>...</th>\n",
       "      <th>PCA41</th>\n",
       "      <th>PCA42</th>\n",
       "      <th>PCA43</th>\n",
       "      <th>PCA44</th>\n",
       "      <th>PCA45</th>\n",
       "      <th>PCA46</th>\n",
       "      <th>PCA47</th>\n",
       "      <th>PCA48</th>\n",
       "      <th>PCA49</th>\n",
       "      <th>PCA50</th>\n",
       "    </tr>\n",
       "  </thead>\n",
       "  <tbody>\n",
       "    <tr>\n",
       "      <th>100001_raw-Food_weight</th>\n",
       "      <td>-0.844744</td>\n",
       "      <td>3.134501</td>\n",
       "      <td>-1.885185</td>\n",
       "      <td>0.800877</td>\n",
       "      <td>-0.283830</td>\n",
       "      <td>0.027480</td>\n",
       "      <td>0.611143</td>\n",
       "      <td>1.485636</td>\n",
       "      <td>0.202757</td>\n",
       "      <td>0.450528</td>\n",
       "      <td>...</td>\n",
       "      <td>2.547792</td>\n",
       "      <td>-1.128343</td>\n",
       "      <td>-0.907277</td>\n",
       "      <td>-0.049764</td>\n",
       "      <td>-1.669310</td>\n",
       "      <td>-0.721449</td>\n",
       "      <td>2.077602</td>\n",
       "      <td>0.799708</td>\n",
       "      <td>1.271524</td>\n",
       "      <td>-1.871291</td>\n",
       "    </tr>\n",
       "    <tr>\n",
       "      <th>100002_raw-Energy</th>\n",
       "      <td>-0.078568</td>\n",
       "      <td>-1.675988</td>\n",
       "      <td>-0.826605</td>\n",
       "      <td>0.872125</td>\n",
       "      <td>-1.257784</td>\n",
       "      <td>0.276976</td>\n",
       "      <td>0.123534</td>\n",
       "      <td>-0.225430</td>\n",
       "      <td>1.291625</td>\n",
       "      <td>-0.406739</td>\n",
       "      <td>...</td>\n",
       "      <td>-1.595450</td>\n",
       "      <td>-0.979352</td>\n",
       "      <td>2.081672</td>\n",
       "      <td>-1.266333</td>\n",
       "      <td>-1.430714</td>\n",
       "      <td>2.733243</td>\n",
       "      <td>-0.293793</td>\n",
       "      <td>-1.427649</td>\n",
       "      <td>-1.315076</td>\n",
       "      <td>1.458368</td>\n",
       "    </tr>\n",
       "    <tr>\n",
       "      <th>100003_raw-Protein</th>\n",
       "      <td>-1.966843</td>\n",
       "      <td>-0.720839</td>\n",
       "      <td>-0.621370</td>\n",
       "      <td>1.066950</td>\n",
       "      <td>0.612613</td>\n",
       "      <td>-1.143542</td>\n",
       "      <td>-3.256801</td>\n",
       "      <td>0.637131</td>\n",
       "      <td>1.275239</td>\n",
       "      <td>-1.746677</td>\n",
       "      <td>...</td>\n",
       "      <td>-0.898644</td>\n",
       "      <td>1.423939</td>\n",
       "      <td>0.200717</td>\n",
       "      <td>0.080861</td>\n",
       "      <td>-0.910925</td>\n",
       "      <td>-0.266207</td>\n",
       "      <td>1.036173</td>\n",
       "      <td>0.326860</td>\n",
       "      <td>-0.197079</td>\n",
       "      <td>-0.322935</td>\n",
       "    </tr>\n",
       "    <tr>\n",
       "      <th>100004_raw-Fat</th>\n",
       "      <td>0.332482</td>\n",
       "      <td>-0.928841</td>\n",
       "      <td>-0.216911</td>\n",
       "      <td>0.486861</td>\n",
       "      <td>0.454021</td>\n",
       "      <td>-1.316312</td>\n",
       "      <td>0.226607</td>\n",
       "      <td>2.504342</td>\n",
       "      <td>-0.740799</td>\n",
       "      <td>-2.027466</td>\n",
       "      <td>...</td>\n",
       "      <td>0.101529</td>\n",
       "      <td>0.032200</td>\n",
       "      <td>-0.658490</td>\n",
       "      <td>-0.288036</td>\n",
       "      <td>1.399674</td>\n",
       "      <td>2.502066</td>\n",
       "      <td>1.872188</td>\n",
       "      <td>-0.239398</td>\n",
       "      <td>-1.349670</td>\n",
       "      <td>-0.457304</td>\n",
       "    </tr>\n",
       "    <tr>\n",
       "      <th>100005_raw-Carbohydrate</th>\n",
       "      <td>2.106644</td>\n",
       "      <td>1.025306</td>\n",
       "      <td>0.405959</td>\n",
       "      <td>2.645132</td>\n",
       "      <td>0.881081</td>\n",
       "      <td>-1.718546</td>\n",
       "      <td>0.693749</td>\n",
       "      <td>0.135447</td>\n",
       "      <td>-0.303163</td>\n",
       "      <td>-0.525056</td>\n",
       "      <td>...</td>\n",
       "      <td>0.612486</td>\n",
       "      <td>-0.769634</td>\n",
       "      <td>-0.264214</td>\n",
       "      <td>3.150728</td>\n",
       "      <td>-1.403396</td>\n",
       "      <td>2.893334</td>\n",
       "      <td>0.900700</td>\n",
       "      <td>0.200481</td>\n",
       "      <td>-2.369759</td>\n",
       "      <td>-0.348016</td>\n",
       "    </tr>\n",
       "  </tbody>\n",
       "</table>\n",
       "<p>5 rows × 50 columns</p>\n",
       "</div>"
      ],
      "text/plain": [
       "                             PCA1      PCA2      PCA3      PCA4      PCA5  \\\n",
       "100001_raw-Food_weight  -0.844744  3.134501 -1.885185  0.800877 -0.283830   \n",
       "100002_raw-Energy       -0.078568 -1.675988 -0.826605  0.872125 -1.257784   \n",
       "100003_raw-Protein      -1.966843 -0.720839 -0.621370  1.066950  0.612613   \n",
       "100004_raw-Fat           0.332482 -0.928841 -0.216911  0.486861  0.454021   \n",
       "100005_raw-Carbohydrate  2.106644  1.025306  0.405959  2.645132  0.881081   \n",
       "\n",
       "                             PCA6      PCA7      PCA8      PCA9     PCA10  \\\n",
       "100001_raw-Food_weight   0.027480  0.611143  1.485636  0.202757  0.450528   \n",
       "100002_raw-Energy        0.276976  0.123534 -0.225430  1.291625 -0.406739   \n",
       "100003_raw-Protein      -1.143542 -3.256801  0.637131  1.275239 -1.746677   \n",
       "100004_raw-Fat          -1.316312  0.226607  2.504342 -0.740799 -2.027466   \n",
       "100005_raw-Carbohydrate -1.718546  0.693749  0.135447 -0.303163 -0.525056   \n",
       "\n",
       "                         ...     PCA41     PCA42     PCA43     PCA44  \\\n",
       "100001_raw-Food_weight   ...  2.547792 -1.128343 -0.907277 -0.049764   \n",
       "100002_raw-Energy        ... -1.595450 -0.979352  2.081672 -1.266333   \n",
       "100003_raw-Protein       ... -0.898644  1.423939  0.200717  0.080861   \n",
       "100004_raw-Fat           ...  0.101529  0.032200 -0.658490 -0.288036   \n",
       "100005_raw-Carbohydrate  ...  0.612486 -0.769634 -0.264214  3.150728   \n",
       "\n",
       "                            PCA45     PCA46     PCA47     PCA48     PCA49  \\\n",
       "100001_raw-Food_weight  -1.669310 -0.721449  2.077602  0.799708  1.271524   \n",
       "100002_raw-Energy       -1.430714  2.733243 -0.293793 -1.427649 -1.315076   \n",
       "100003_raw-Protein      -0.910925 -0.266207  1.036173  0.326860 -0.197079   \n",
       "100004_raw-Fat           1.399674  2.502066  1.872188 -0.239398 -1.349670   \n",
       "100005_raw-Carbohydrate -1.403396  2.893334  0.900700  0.200481 -2.369759   \n",
       "\n",
       "                            PCA50  \n",
       "100001_raw-Food_weight  -1.871291  \n",
       "100002_raw-Energy        1.458368  \n",
       "100003_raw-Protein      -0.322935  \n",
       "100004_raw-Fat          -0.457304  \n",
       "100005_raw-Carbohydrate -0.348016  \n",
       "\n",
       "[5 rows x 50 columns]"
      ]
     },
     "execution_count": 21,
     "metadata": {},
     "output_type": "execute_result"
    }
   ],
   "source": [
    "data.head()"
   ]
  },
  {
   "cell_type": "code",
   "execution_count": 22,
   "id": "45dbd777",
   "metadata": {
    "execution": {
     "iopub.execute_input": "2022-11-26T04:55:29.885520Z",
     "iopub.status.busy": "2022-11-26T04:55:29.885123Z",
     "iopub.status.idle": "2022-11-26T04:55:29.904752Z",
     "shell.execute_reply": "2022-11-26T04:55:29.904335Z"
    },
    "papermill": {
     "duration": 0.035046,
     "end_time": "2022-11-26T04:55:29.905945",
     "exception": false,
     "start_time": "2022-11-26T04:55:29.870899",
     "status": "completed"
    },
    "tags": []
   },
   "outputs": [],
   "source": [
    "assert not data.isna().any().any()"
   ]
  },
  {
   "cell_type": "markdown",
   "id": "5065d6fe",
   "metadata": {
    "papermill": {
     "duration": 0.014591,
     "end_time": "2022-11-26T04:55:29.934399",
     "exception": false,
     "start_time": "2022-11-26T04:55:29.919808",
     "status": "completed"
    },
    "tags": []
   },
   "source": [
    "# Clustering"
   ]
  },
  {
   "cell_type": "markdown",
   "id": "13906733",
   "metadata": {
    "papermill": {
     "duration": 0.013736,
     "end_time": "2022-11-26T04:55:29.961920",
     "exception": false,
     "start_time": "2022-11-26T04:55:29.948184",
     "status": "completed"
    },
    "tags": []
   },
   "source": [
    "## Generate ensemble"
   ]
  },
  {
   "cell_type": "code",
   "execution_count": 23,
   "id": "652837ed",
   "metadata": {
    "execution": {
     "iopub.execute_input": "2022-11-26T04:55:29.978113Z",
     "iopub.status.busy": "2022-11-26T04:55:29.977856Z",
     "iopub.status.idle": "2022-11-26T04:55:30.001132Z",
     "shell.execute_reply": "2022-11-26T04:55:30.000739Z"
    },
    "papermill": {
     "duration": 0.031789,
     "end_time": "2022-11-26T04:55:30.001906",
     "exception": false,
     "start_time": "2022-11-26T04:55:29.970117",
     "status": "completed"
    },
    "tags": []
   },
   "outputs": [],
   "source": [
    "from sklearn.metrics import pairwise_distances\n",
    "from clustering.ensembles.utils import generate_ensemble"
   ]
  },
  {
   "cell_type": "code",
   "execution_count": 24,
   "id": "8a1b7d1b",
   "metadata": {
    "execution": {
     "iopub.execute_input": "2022-11-26T04:55:30.017356Z",
     "iopub.status.busy": "2022-11-26T04:55:30.016973Z",
     "iopub.status.idle": "2022-11-26T04:55:30.126095Z",
     "shell.execute_reply": "2022-11-26T04:55:30.125751Z"
    },
    "papermill": {
     "duration": 0.11785,
     "end_time": "2022-11-26T04:55:30.127183",
     "exception": false,
     "start_time": "2022-11-26T04:55:30.009333",
     "status": "completed"
    },
    "tags": []
   },
   "outputs": [],
   "source": [
    "data_dist = pairwise_distances(data, metric=CLUSTERING_OPTIONS[\"AFFINITY\"])"
   ]
  },
  {
   "cell_type": "code",
   "execution_count": 25,
   "id": "7cd0e1b9",
   "metadata": {
    "execution": {
     "iopub.execute_input": "2022-11-26T04:55:30.145903Z",
     "iopub.status.busy": "2022-11-26T04:55:30.145817Z",
     "iopub.status.idle": "2022-11-26T04:55:30.158420Z",
     "shell.execute_reply": "2022-11-26T04:55:30.158102Z"
    },
    "papermill": {
     "duration": 0.024069,
     "end_time": "2022-11-26T04:55:30.159137",
     "exception": false,
     "start_time": "2022-11-26T04:55:30.135068",
     "status": "completed"
    },
    "tags": []
   },
   "outputs": [
    {
     "data": {
      "text/plain": [
       "(3752, 3752)"
      ]
     },
     "execution_count": 25,
     "metadata": {},
     "output_type": "execute_result"
    }
   ],
   "source": [
    "data_dist.shape"
   ]
  },
  {
   "cell_type": "code",
   "execution_count": 26,
   "id": "9fdb9bb6",
   "metadata": {
    "execution": {
     "iopub.execute_input": "2022-11-26T04:55:30.174394Z",
     "iopub.status.busy": "2022-11-26T04:55:30.174176Z",
     "iopub.status.idle": "2022-11-26T04:55:30.643428Z",
     "shell.execute_reply": "2022-11-26T04:55:30.643079Z"
    },
    "papermill": {
     "duration": 0.478353,
     "end_time": "2022-11-26T04:55:30.644756",
     "exception": false,
     "start_time": "2022-11-26T04:55:30.166403",
     "status": "completed"
    },
    "tags": []
   },
   "outputs": [
    {
     "data": {
      "text/plain": [
       "count            14077504.0\n",
       "mean      14.29916963023133\n",
       "std       4.349193746187921\n",
       "min                     0.0\n",
       "25%      12.619931218292193\n",
       "50%      13.701113975598393\n",
       "75%      14.869804261377976\n",
       "max      107.58853103183307\n",
       "dtype: object"
      ]
     },
     "execution_count": 26,
     "metadata": {},
     "output_type": "execute_result"
    }
   ],
   "source": [
    "pd.Series(data_dist.flatten()).describe().apply(str)"
   ]
  },
  {
   "cell_type": "code",
   "execution_count": 27,
   "id": "41f4836c",
   "metadata": {
    "execution": {
     "iopub.execute_input": "2022-11-26T04:55:30.673778Z",
     "iopub.status.busy": "2022-11-26T04:55:30.673653Z",
     "iopub.status.idle": "2022-11-26T05:12:30.103748Z",
     "shell.execute_reply": "2022-11-26T05:12:30.103337Z"
    },
    "papermill": {
     "duration": 1019.445859,
     "end_time": "2022-11-26T05:12:30.105086",
     "exception": false,
     "start_time": "2022-11-26T04:55:30.659227",
     "status": "completed"
    },
    "tags": []
   },
   "outputs": [
    {
     "name": "stderr",
     "output_type": "stream",
     "text": [
      "100%|██████████| 296/296 [16:59<00:00,  3.44s/it]\n"
     ]
    }
   ],
   "source": [
    "ensemble = generate_ensemble(\n",
    "    data_dist,\n",
    "    CLUSTERERS,\n",
    "    attributes=CLUSTERING_ATTRIBUTES_TO_SAVE,\n",
    "    affinity_matrix=data_dist,\n",
    ")"
   ]
  },
  {
   "cell_type": "code",
   "execution_count": 28,
   "id": "9190fefb",
   "metadata": {
    "execution": {
     "iopub.execute_input": "2022-11-26T05:12:30.169139Z",
     "iopub.status.busy": "2022-11-26T05:12:30.168875Z",
     "iopub.status.idle": "2022-11-26T05:12:30.186565Z",
     "shell.execute_reply": "2022-11-26T05:12:30.185859Z"
    },
    "papermill": {
     "duration": 0.050334,
     "end_time": "2022-11-26T05:12:30.188220",
     "exception": false,
     "start_time": "2022-11-26T05:12:30.137886",
     "status": "completed"
    },
    "tags": []
   },
   "outputs": [
    {
     "data": {
      "text/plain": [
       "(296, 3)"
      ]
     },
     "execution_count": 28,
     "metadata": {},
     "output_type": "execute_result"
    }
   ],
   "source": [
    "# the number should be close to 295 (the number of partitions generated by k-means/spectral clustering)\n",
    "ensemble.shape"
   ]
  },
  {
   "cell_type": "code",
   "execution_count": 29,
   "id": "dd2403cc",
   "metadata": {
    "execution": {
     "iopub.execute_input": "2022-11-26T05:12:30.243848Z",
     "iopub.status.busy": "2022-11-26T05:12:30.243386Z",
     "iopub.status.idle": "2022-11-26T05:12:30.276254Z",
     "shell.execute_reply": "2022-11-26T05:12:30.275738Z"
    },
    "papermill": {
     "duration": 0.057843,
     "end_time": "2022-11-26T05:12:30.277258",
     "exception": false,
     "start_time": "2022-11-26T05:12:30.219415",
     "status": "completed"
    },
    "tags": []
   },
   "outputs": [
    {
     "data": {
      "text/html": [
       "<div>\n",
       "<style scoped>\n",
       "    .dataframe tbody tr th:only-of-type {\n",
       "        vertical-align: middle;\n",
       "    }\n",
       "\n",
       "    .dataframe tbody tr th {\n",
       "        vertical-align: top;\n",
       "    }\n",
       "\n",
       "    .dataframe thead th {\n",
       "        text-align: right;\n",
       "    }\n",
       "</style>\n",
       "<table border=\"1\" class=\"dataframe\">\n",
       "  <thead>\n",
       "    <tr style=\"text-align: right;\">\n",
       "      <th></th>\n",
       "      <th>clusterer_params</th>\n",
       "      <th>partition</th>\n",
       "      <th>n_clusters</th>\n",
       "    </tr>\n",
       "    <tr>\n",
       "      <th>clusterer_id</th>\n",
       "      <th></th>\n",
       "      <th></th>\n",
       "      <th></th>\n",
       "    </tr>\n",
       "  </thead>\n",
       "  <tbody>\n",
       "    <tr>\n",
       "      <th>AgglomerativeClustering #0</th>\n",
       "      <td>{'affinity': 'precomputed', 'compute_full_tree...</td>\n",
       "      <td>[0.0, 0.0, 0.0, 0.0, 0.0, 0.0, 0.0, 0.0, 0.0, ...</td>\n",
       "      <td>2</td>\n",
       "    </tr>\n",
       "    <tr>\n",
       "      <th>AgglomerativeClustering #1</th>\n",
       "      <td>{'affinity': 'precomputed', 'compute_full_tree...</td>\n",
       "      <td>[0.0, 0.0, 0.0, 0.0, 0.0, 0.0, 0.0, 0.0, 0.0, ...</td>\n",
       "      <td>2</td>\n",
       "    </tr>\n",
       "    <tr>\n",
       "      <th>AgglomerativeClustering #2</th>\n",
       "      <td>{'affinity': 'euclidean', 'compute_full_tree':...</td>\n",
       "      <td>[1.0, 1.0, 1.0, 1.0, 1.0, 1.0, 1.0, 1.0, 1.0, ...</td>\n",
       "      <td>2</td>\n",
       "    </tr>\n",
       "    <tr>\n",
       "      <th>AgglomerativeClustering #3</th>\n",
       "      <td>{'affinity': 'precomputed', 'compute_full_tree...</td>\n",
       "      <td>[0.0, 0.0, 0.0, 0.0, 0.0, 0.0, 0.0, 0.0, 0.0, ...</td>\n",
       "      <td>2</td>\n",
       "    </tr>\n",
       "    <tr>\n",
       "      <th>AgglomerativeClustering #4</th>\n",
       "      <td>{'affinity': 'precomputed', 'compute_full_tree...</td>\n",
       "      <td>[0.0, 0.0, 0.0, 0.0, 0.0, 0.0, 0.0, 0.0, 0.0, ...</td>\n",
       "      <td>3</td>\n",
       "    </tr>\n",
       "  </tbody>\n",
       "</table>\n",
       "</div>"
      ],
      "text/plain": [
       "                                                             clusterer_params  \\\n",
       "clusterer_id                                                                    \n",
       "AgglomerativeClustering #0  {'affinity': 'precomputed', 'compute_full_tree...   \n",
       "AgglomerativeClustering #1  {'affinity': 'precomputed', 'compute_full_tree...   \n",
       "AgglomerativeClustering #2  {'affinity': 'euclidean', 'compute_full_tree':...   \n",
       "AgglomerativeClustering #3  {'affinity': 'precomputed', 'compute_full_tree...   \n",
       "AgglomerativeClustering #4  {'affinity': 'precomputed', 'compute_full_tree...   \n",
       "\n",
       "                                                                    partition  \\\n",
       "clusterer_id                                                                    \n",
       "AgglomerativeClustering #0  [0.0, 0.0, 0.0, 0.0, 0.0, 0.0, 0.0, 0.0, 0.0, ...   \n",
       "AgglomerativeClustering #1  [0.0, 0.0, 0.0, 0.0, 0.0, 0.0, 0.0, 0.0, 0.0, ...   \n",
       "AgglomerativeClustering #2  [1.0, 1.0, 1.0, 1.0, 1.0, 1.0, 1.0, 1.0, 1.0, ...   \n",
       "AgglomerativeClustering #3  [0.0, 0.0, 0.0, 0.0, 0.0, 0.0, 0.0, 0.0, 0.0, ...   \n",
       "AgglomerativeClustering #4  [0.0, 0.0, 0.0, 0.0, 0.0, 0.0, 0.0, 0.0, 0.0, ...   \n",
       "\n",
       "                            n_clusters  \n",
       "clusterer_id                            \n",
       "AgglomerativeClustering #0           2  \n",
       "AgglomerativeClustering #1           2  \n",
       "AgglomerativeClustering #2           2  \n",
       "AgglomerativeClustering #3           2  \n",
       "AgglomerativeClustering #4           3  "
      ]
     },
     "execution_count": 29,
     "metadata": {},
     "output_type": "execute_result"
    }
   ],
   "source": [
    "ensemble.head()"
   ]
  },
  {
   "cell_type": "code",
   "execution_count": 30,
   "id": "3ba1e908",
   "metadata": {
    "execution": {
     "iopub.execute_input": "2022-11-26T05:12:30.311553Z",
     "iopub.status.busy": "2022-11-26T05:12:30.310991Z",
     "iopub.status.idle": "2022-11-26T05:12:30.334174Z",
     "shell.execute_reply": "2022-11-26T05:12:30.333788Z"
    },
    "papermill": {
     "duration": 0.041847,
     "end_time": "2022-11-26T05:12:30.334957",
     "exception": false,
     "start_time": "2022-11-26T05:12:30.293110",
     "status": "completed"
    },
    "tags": []
   },
   "outputs": [
    {
     "data": {
      "text/plain": [
       "75    4\n",
       "20    4\n",
       "22    4\n",
       "23    4\n",
       "24    4\n",
       "Name: n_clusters, dtype: int64"
      ]
     },
     "execution_count": 30,
     "metadata": {},
     "output_type": "execute_result"
    }
   ],
   "source": [
    "ensemble[\"n_clusters\"].value_counts().head()"
   ]
  },
  {
   "cell_type": "code",
   "execution_count": 31,
   "id": "0240c3b2",
   "metadata": {
    "execution": {
     "iopub.execute_input": "2022-11-26T05:12:30.369081Z",
     "iopub.status.busy": "2022-11-26T05:12:30.368635Z",
     "iopub.status.idle": "2022-11-26T05:12:30.392396Z",
     "shell.execute_reply": "2022-11-26T05:12:30.392000Z"
    },
    "papermill": {
     "duration": 0.041994,
     "end_time": "2022-11-26T05:12:30.393204",
     "exception": false,
     "start_time": "2022-11-26T05:12:30.351210",
     "status": "completed"
    },
    "tags": []
   },
   "outputs": [
    {
     "data": {
      "text/plain": [
       "count    296.000000\n",
       "mean      38.500000\n",
       "std       21.396182\n",
       "min        2.000000\n",
       "25%       20.000000\n",
       "50%       38.500000\n",
       "75%       57.000000\n",
       "max       75.000000\n",
       "Name: n_clusters, dtype: float64"
      ]
     },
     "metadata": {},
     "output_type": "display_data"
    }
   ],
   "source": [
    "ensemble_stats = ensemble[\"n_clusters\"].describe()\n",
    "display(ensemble_stats)"
   ]
  },
  {
   "cell_type": "markdown",
   "id": "0792f1fd",
   "metadata": {
    "papermill": {
     "duration": 0.01642,
     "end_time": "2022-11-26T05:12:30.425796",
     "exception": false,
     "start_time": "2022-11-26T05:12:30.409376",
     "status": "completed"
    },
    "tags": []
   },
   "source": [
    "## Testing"
   ]
  },
  {
   "cell_type": "code",
   "execution_count": 32,
   "id": "9d67e045",
   "metadata": {
    "execution": {
     "iopub.execute_input": "2022-11-26T05:12:30.459486Z",
     "iopub.status.busy": "2022-11-26T05:12:30.459069Z",
     "iopub.status.idle": "2022-11-26T05:12:30.479166Z",
     "shell.execute_reply": "2022-11-26T05:12:30.478756Z"
    },
    "papermill": {
     "duration": 0.037244,
     "end_time": "2022-11-26T05:12:30.480303",
     "exception": false,
     "start_time": "2022-11-26T05:12:30.443059",
     "status": "completed"
    },
    "tags": []
   },
   "outputs": [],
   "source": [
    "assert ensemble_stats[\"min\"] > 1"
   ]
  },
  {
   "cell_type": "code",
   "execution_count": 33,
   "id": "10c60382",
   "metadata": {
    "execution": {
     "iopub.execute_input": "2022-11-26T05:12:30.514101Z",
     "iopub.status.busy": "2022-11-26T05:12:30.513880Z",
     "iopub.status.idle": "2022-11-26T05:12:30.534188Z",
     "shell.execute_reply": "2022-11-26T05:12:30.533806Z"
    },
    "papermill": {
     "duration": 0.037805,
     "end_time": "2022-11-26T05:12:30.534985",
     "exception": false,
     "start_time": "2022-11-26T05:12:30.497180",
     "status": "completed"
    },
    "tags": []
   },
   "outputs": [],
   "source": [
    "assert not ensemble[\"n_clusters\"].isna().any()"
   ]
  },
  {
   "cell_type": "code",
   "execution_count": 34,
   "id": "cd88d917",
   "metadata": {
    "execution": {
     "iopub.execute_input": "2022-11-26T05:12:30.570781Z",
     "iopub.status.busy": "2022-11-26T05:12:30.570245Z",
     "iopub.status.idle": "2022-11-26T05:12:30.590713Z",
     "shell.execute_reply": "2022-11-26T05:12:30.590322Z"
    },
    "papermill": {
     "duration": 0.040308,
     "end_time": "2022-11-26T05:12:30.591760",
     "exception": false,
     "start_time": "2022-11-26T05:12:30.551452",
     "status": "completed"
    },
    "tags": []
   },
   "outputs": [],
   "source": [
    "assert ensemble.shape[0] == len(CLUSTERERS)"
   ]
  },
  {
   "cell_type": "code",
   "execution_count": 35,
   "id": "337fcbba",
   "metadata": {
    "execution": {
     "iopub.execute_input": "2022-11-26T05:12:30.624897Z",
     "iopub.status.busy": "2022-11-26T05:12:30.624745Z",
     "iopub.status.idle": "2022-11-26T05:12:30.669368Z",
     "shell.execute_reply": "2022-11-26T05:12:30.668915Z"
    },
    "papermill": {
     "duration": 0.062284,
     "end_time": "2022-11-26T05:12:30.670481",
     "exception": false,
     "start_time": "2022-11-26T05:12:30.608197",
     "status": "completed"
    },
    "tags": []
   },
   "outputs": [],
   "source": [
    "# all partitions have the right size\n",
    "assert np.all(\n",
    "    [part[\"partition\"].shape[0] == data.shape[0] for idx, part in ensemble.iterrows()]\n",
    ")"
   ]
  },
  {
   "cell_type": "code",
   "execution_count": 36,
   "id": "9669d7f4",
   "metadata": {
    "execution": {
     "iopub.execute_input": "2022-11-26T05:12:30.704101Z",
     "iopub.status.busy": "2022-11-26T05:12:30.703867Z",
     "iopub.status.idle": "2022-11-26T05:12:30.752467Z",
     "shell.execute_reply": "2022-11-26T05:12:30.752009Z"
    },
    "papermill": {
     "duration": 0.066797,
     "end_time": "2022-11-26T05:12:30.753594",
     "exception": false,
     "start_time": "2022-11-26T05:12:30.686797",
     "status": "completed"
    },
    "tags": []
   },
   "outputs": [],
   "source": [
    "# no partition has negative clusters (noisy points)\n",
    "assert not np.any([(part[\"partition\"] < 0).any() for idx, part in ensemble.iterrows()])"
   ]
  },
  {
   "cell_type": "markdown",
   "id": "56ec66a3",
   "metadata": {
    "papermill": {
     "duration": 0.01625,
     "end_time": "2022-11-26T05:12:30.786726",
     "exception": false,
     "start_time": "2022-11-26T05:12:30.770476",
     "status": "completed"
    },
    "tags": []
   },
   "source": [
    "## Add clustering quality measures"
   ]
  },
  {
   "cell_type": "code",
   "execution_count": 37,
   "id": "430d7093",
   "metadata": {
    "execution": {
     "iopub.execute_input": "2022-11-26T05:12:30.821363Z",
     "iopub.status.busy": "2022-11-26T05:12:30.821102Z",
     "iopub.status.idle": "2022-11-26T05:12:30.841307Z",
     "shell.execute_reply": "2022-11-26T05:12:30.840921Z"
    },
    "papermill": {
     "duration": 0.038699,
     "end_time": "2022-11-26T05:12:30.842439",
     "exception": false,
     "start_time": "2022-11-26T05:12:30.803740",
     "status": "completed"
    },
    "tags": []
   },
   "outputs": [],
   "source": [
    "from sklearn.metrics import calinski_harabasz_score"
   ]
  },
  {
   "cell_type": "code",
   "execution_count": 38,
   "id": "2987623f",
   "metadata": {
    "execution": {
     "iopub.execute_input": "2022-11-26T05:12:30.875881Z",
     "iopub.status.busy": "2022-11-26T05:12:30.875613Z",
     "iopub.status.idle": "2022-11-26T05:12:31.638081Z",
     "shell.execute_reply": "2022-11-26T05:12:31.637759Z"
    },
    "papermill": {
     "duration": 0.780689,
     "end_time": "2022-11-26T05:12:31.639670",
     "exception": false,
     "start_time": "2022-11-26T05:12:30.858981",
     "status": "completed"
    },
    "tags": []
   },
   "outputs": [],
   "source": [
    "ensemble = ensemble.assign(\n",
    "    ch_score=ensemble[\"partition\"].apply(lambda x: calinski_harabasz_score(data, x))\n",
    ")"
   ]
  },
  {
   "cell_type": "code",
   "execution_count": 39,
   "id": "70da485c",
   "metadata": {
    "execution": {
     "iopub.execute_input": "2022-11-26T05:12:31.703549Z",
     "iopub.status.busy": "2022-11-26T05:12:31.703306Z",
     "iopub.status.idle": "2022-11-26T05:12:31.720930Z",
     "shell.execute_reply": "2022-11-26T05:12:31.720601Z"
    },
    "papermill": {
     "duration": 0.049867,
     "end_time": "2022-11-26T05:12:31.722172",
     "exception": false,
     "start_time": "2022-11-26T05:12:31.672305",
     "status": "completed"
    },
    "tags": []
   },
   "outputs": [
    {
     "data": {
      "text/plain": [
       "(296, 4)"
      ]
     },
     "execution_count": 39,
     "metadata": {},
     "output_type": "execute_result"
    }
   ],
   "source": [
    "ensemble.shape"
   ]
  },
  {
   "cell_type": "code",
   "execution_count": 40,
   "id": "5e4038c0",
   "metadata": {
    "execution": {
     "iopub.execute_input": "2022-11-26T05:12:31.778500Z",
     "iopub.status.busy": "2022-11-26T05:12:31.778260Z",
     "iopub.status.idle": "2022-11-26T05:12:31.809357Z",
     "shell.execute_reply": "2022-11-26T05:12:31.808982Z"
    },
    "papermill": {
     "duration": 0.056157,
     "end_time": "2022-11-26T05:12:31.810151",
     "exception": false,
     "start_time": "2022-11-26T05:12:31.753994",
     "status": "completed"
    },
    "tags": []
   },
   "outputs": [
    {
     "data": {
      "text/html": [
       "<div>\n",
       "<style scoped>\n",
       "    .dataframe tbody tr th:only-of-type {\n",
       "        vertical-align: middle;\n",
       "    }\n",
       "\n",
       "    .dataframe tbody tr th {\n",
       "        vertical-align: top;\n",
       "    }\n",
       "\n",
       "    .dataframe thead th {\n",
       "        text-align: right;\n",
       "    }\n",
       "</style>\n",
       "<table border=\"1\" class=\"dataframe\">\n",
       "  <thead>\n",
       "    <tr style=\"text-align: right;\">\n",
       "      <th></th>\n",
       "      <th>clusterer_params</th>\n",
       "      <th>partition</th>\n",
       "      <th>n_clusters</th>\n",
       "      <th>ch_score</th>\n",
       "    </tr>\n",
       "    <tr>\n",
       "      <th>clusterer_id</th>\n",
       "      <th></th>\n",
       "      <th></th>\n",
       "      <th></th>\n",
       "      <th></th>\n",
       "    </tr>\n",
       "  </thead>\n",
       "  <tbody>\n",
       "    <tr>\n",
       "      <th>AgglomerativeClustering #0</th>\n",
       "      <td>{'affinity': 'precomputed', 'compute_full_tree...</td>\n",
       "      <td>[0.0, 0.0, 0.0, 0.0, 0.0, 0.0, 0.0, 0.0, 0.0, ...</td>\n",
       "      <td>2</td>\n",
       "      <td>67.888010</td>\n",
       "    </tr>\n",
       "    <tr>\n",
       "      <th>AgglomerativeClustering #1</th>\n",
       "      <td>{'affinity': 'precomputed', 'compute_full_tree...</td>\n",
       "      <td>[0.0, 0.0, 0.0, 0.0, 0.0, 0.0, 0.0, 0.0, 0.0, ...</td>\n",
       "      <td>2</td>\n",
       "      <td>67.888010</td>\n",
       "    </tr>\n",
       "    <tr>\n",
       "      <th>AgglomerativeClustering #2</th>\n",
       "      <td>{'affinity': 'euclidean', 'compute_full_tree':...</td>\n",
       "      <td>[1.0, 1.0, 1.0, 1.0, 1.0, 1.0, 1.0, 1.0, 1.0, ...</td>\n",
       "      <td>2</td>\n",
       "      <td>8.305414</td>\n",
       "    </tr>\n",
       "    <tr>\n",
       "      <th>AgglomerativeClustering #3</th>\n",
       "      <td>{'affinity': 'precomputed', 'compute_full_tree...</td>\n",
       "      <td>[0.0, 0.0, 0.0, 0.0, 0.0, 0.0, 0.0, 0.0, 0.0, ...</td>\n",
       "      <td>2</td>\n",
       "      <td>67.888010</td>\n",
       "    </tr>\n",
       "    <tr>\n",
       "      <th>AgglomerativeClustering #4</th>\n",
       "      <td>{'affinity': 'precomputed', 'compute_full_tree...</td>\n",
       "      <td>[0.0, 0.0, 0.0, 0.0, 0.0, 0.0, 0.0, 0.0, 0.0, ...</td>\n",
       "      <td>3</td>\n",
       "      <td>58.206427</td>\n",
       "    </tr>\n",
       "  </tbody>\n",
       "</table>\n",
       "</div>"
      ],
      "text/plain": [
       "                                                             clusterer_params  \\\n",
       "clusterer_id                                                                    \n",
       "AgglomerativeClustering #0  {'affinity': 'precomputed', 'compute_full_tree...   \n",
       "AgglomerativeClustering #1  {'affinity': 'precomputed', 'compute_full_tree...   \n",
       "AgglomerativeClustering #2  {'affinity': 'euclidean', 'compute_full_tree':...   \n",
       "AgglomerativeClustering #3  {'affinity': 'precomputed', 'compute_full_tree...   \n",
       "AgglomerativeClustering #4  {'affinity': 'precomputed', 'compute_full_tree...   \n",
       "\n",
       "                                                                    partition  \\\n",
       "clusterer_id                                                                    \n",
       "AgglomerativeClustering #0  [0.0, 0.0, 0.0, 0.0, 0.0, 0.0, 0.0, 0.0, 0.0, ...   \n",
       "AgglomerativeClustering #1  [0.0, 0.0, 0.0, 0.0, 0.0, 0.0, 0.0, 0.0, 0.0, ...   \n",
       "AgglomerativeClustering #2  [1.0, 1.0, 1.0, 1.0, 1.0, 1.0, 1.0, 1.0, 1.0, ...   \n",
       "AgglomerativeClustering #3  [0.0, 0.0, 0.0, 0.0, 0.0, 0.0, 0.0, 0.0, 0.0, ...   \n",
       "AgglomerativeClustering #4  [0.0, 0.0, 0.0, 0.0, 0.0, 0.0, 0.0, 0.0, 0.0, ...   \n",
       "\n",
       "                            n_clusters   ch_score  \n",
       "clusterer_id                                       \n",
       "AgglomerativeClustering #0           2  67.888010  \n",
       "AgglomerativeClustering #1           2  67.888010  \n",
       "AgglomerativeClustering #2           2   8.305414  \n",
       "AgglomerativeClustering #3           2  67.888010  \n",
       "AgglomerativeClustering #4           3  58.206427  "
      ]
     },
     "execution_count": 40,
     "metadata": {},
     "output_type": "execute_result"
    }
   ],
   "source": [
    "ensemble.head()"
   ]
  },
  {
   "cell_type": "markdown",
   "id": "63b6b02c",
   "metadata": {
    "papermill": {
     "duration": 0.015735,
     "end_time": "2022-11-26T05:12:31.842648",
     "exception": false,
     "start_time": "2022-11-26T05:12:31.826913",
     "status": "completed"
    },
    "tags": []
   },
   "source": [
    "## Save"
   ]
  },
  {
   "cell_type": "code",
   "execution_count": 41,
   "id": "a72940f8",
   "metadata": {
    "execution": {
     "iopub.execute_input": "2022-11-26T05:12:31.877706Z",
     "iopub.status.busy": "2022-11-26T05:12:31.877450Z",
     "iopub.status.idle": "2022-11-26T05:12:31.900951Z",
     "shell.execute_reply": "2022-11-26T05:12:31.900550Z"
    },
    "papermill": {
     "duration": 0.041832,
     "end_time": "2022-11-26T05:12:31.901769",
     "exception": false,
     "start_time": "2022-11-26T05:12:31.859937",
     "status": "completed"
    },
    "tags": []
   },
   "outputs": [
    {
     "data": {
      "text/plain": [
       "PosixPath('/opt/data/results/clustering/null_sims/shuffle_genes/runs/pca-z_score_std-projection-smultixcan-efo_partial-mashr-zscores/AgglomerativeClustering-AFFINITY_euclidean-K_MAX_75-K_MIN_2.pkl')"
      ]
     },
     "metadata": {},
     "output_type": "display_data"
    }
   ],
   "source": [
    "output_filename = Path(\n",
    "    RESULTS_DIR,\n",
    "    generate_result_set_name(\n",
    "        {k: v for k, v in CLUSTERING_OPTIONS.items() if k != \"LINKAGE\"},\n",
    "        prefix=f\"{clustering_method_name}-\",\n",
    "        suffix=\".pkl\",\n",
    "    ),\n",
    ").resolve()\n",
    "display(output_filename)"
   ]
  },
  {
   "cell_type": "code",
   "execution_count": 42,
   "id": "05399e7f",
   "metadata": {
    "execution": {
     "iopub.execute_input": "2022-11-26T05:12:31.934965Z",
     "iopub.status.busy": "2022-11-26T05:12:31.934558Z",
     "iopub.status.idle": "2022-11-26T05:12:31.971558Z",
     "shell.execute_reply": "2022-11-26T05:12:31.971113Z"
    },
    "papermill": {
     "duration": 0.054346,
     "end_time": "2022-11-26T05:12:31.972715",
     "exception": false,
     "start_time": "2022-11-26T05:12:31.918369",
     "status": "completed"
    },
    "tags": []
   },
   "outputs": [],
   "source": [
    "ensemble.to_pickle(output_filename)"
   ]
  },
  {
   "cell_type": "markdown",
   "id": "cdc3f143",
   "metadata": {
    "papermill": {
     "duration": 0.016694,
     "end_time": "2022-11-26T05:12:32.006419",
     "exception": false,
     "start_time": "2022-11-26T05:12:31.989725",
     "status": "completed"
    },
    "tags": []
   },
   "source": [
    "# Cluster quality"
   ]
  },
  {
   "cell_type": "code",
   "execution_count": 43,
   "id": "21f657a2",
   "metadata": {
    "execution": {
     "iopub.execute_input": "2022-11-26T05:12:32.040151Z",
     "iopub.status.busy": "2022-11-26T05:12:32.039908Z",
     "iopub.status.idle": "2022-11-26T05:12:32.069968Z",
     "shell.execute_reply": "2022-11-26T05:12:32.069575Z"
    },
    "papermill": {
     "duration": 0.049345,
     "end_time": "2022-11-26T05:12:32.071613",
     "exception": false,
     "start_time": "2022-11-26T05:12:32.022268",
     "status": "completed"
    },
    "tags": []
   },
   "outputs": [
    {
     "data": {
      "text/html": [
       "<div>\n",
       "<style scoped>\n",
       "    .dataframe tbody tr th:only-of-type {\n",
       "        vertical-align: middle;\n",
       "    }\n",
       "\n",
       "    .dataframe tbody tr th {\n",
       "        vertical-align: top;\n",
       "    }\n",
       "\n",
       "    .dataframe thead th {\n",
       "        text-align: right;\n",
       "    }\n",
       "</style>\n",
       "<table border=\"1\" class=\"dataframe\">\n",
       "  <thead>\n",
       "    <tr style=\"text-align: right;\">\n",
       "      <th></th>\n",
       "      <th>ch_score</th>\n",
       "    </tr>\n",
       "    <tr>\n",
       "      <th>n_clusters</th>\n",
       "      <th></th>\n",
       "    </tr>\n",
       "  </thead>\n",
       "  <tbody>\n",
       "    <tr>\n",
       "      <th>2</th>\n",
       "      <td>52.992361</td>\n",
       "    </tr>\n",
       "    <tr>\n",
       "      <th>3</th>\n",
       "      <td>49.046205</td>\n",
       "    </tr>\n",
       "    <tr>\n",
       "      <th>4</th>\n",
       "      <td>42.208669</td>\n",
       "    </tr>\n",
       "    <tr>\n",
       "      <th>5</th>\n",
       "      <td>37.379063</td>\n",
       "    </tr>\n",
       "    <tr>\n",
       "      <th>6</th>\n",
       "      <td>36.305113</td>\n",
       "    </tr>\n",
       "    <tr>\n",
       "      <th>7</th>\n",
       "      <td>33.462120</td>\n",
       "    </tr>\n",
       "    <tr>\n",
       "      <th>8</th>\n",
       "      <td>31.175337</td>\n",
       "    </tr>\n",
       "    <tr>\n",
       "      <th>9</th>\n",
       "      <td>29.190341</td>\n",
       "    </tr>\n",
       "    <tr>\n",
       "      <th>10</th>\n",
       "      <td>27.710220</td>\n",
       "    </tr>\n",
       "    <tr>\n",
       "      <th>11</th>\n",
       "      <td>26.312331</td>\n",
       "    </tr>\n",
       "    <tr>\n",
       "      <th>12</th>\n",
       "      <td>25.009476</td>\n",
       "    </tr>\n",
       "    <tr>\n",
       "      <th>13</th>\n",
       "      <td>25.039212</td>\n",
       "    </tr>\n",
       "    <tr>\n",
       "      <th>14</th>\n",
       "      <td>23.964020</td>\n",
       "    </tr>\n",
       "    <tr>\n",
       "      <th>15</th>\n",
       "      <td>23.558492</td>\n",
       "    </tr>\n",
       "    <tr>\n",
       "      <th>16</th>\n",
       "      <td>22.766768</td>\n",
       "    </tr>\n",
       "    <tr>\n",
       "      <th>17</th>\n",
       "      <td>22.224476</td>\n",
       "    </tr>\n",
       "    <tr>\n",
       "      <th>18</th>\n",
       "      <td>21.490475</td>\n",
       "    </tr>\n",
       "    <tr>\n",
       "      <th>19</th>\n",
       "      <td>20.795034</td>\n",
       "    </tr>\n",
       "    <tr>\n",
       "      <th>20</th>\n",
       "      <td>20.171313</td>\n",
       "    </tr>\n",
       "    <tr>\n",
       "      <th>21</th>\n",
       "      <td>19.602632</td>\n",
       "    </tr>\n",
       "    <tr>\n",
       "      <th>22</th>\n",
       "      <td>19.059940</td>\n",
       "    </tr>\n",
       "    <tr>\n",
       "      <th>23</th>\n",
       "      <td>18.636159</td>\n",
       "    </tr>\n",
       "    <tr>\n",
       "      <th>24</th>\n",
       "      <td>18.226957</td>\n",
       "    </tr>\n",
       "    <tr>\n",
       "      <th>25</th>\n",
       "      <td>18.119146</td>\n",
       "    </tr>\n",
       "    <tr>\n",
       "      <th>26</th>\n",
       "      <td>17.800287</td>\n",
       "    </tr>\n",
       "    <tr>\n",
       "      <th>27</th>\n",
       "      <td>17.401560</td>\n",
       "    </tr>\n",
       "    <tr>\n",
       "      <th>28</th>\n",
       "      <td>17.203594</td>\n",
       "    </tr>\n",
       "    <tr>\n",
       "      <th>29</th>\n",
       "      <td>16.828148</td>\n",
       "    </tr>\n",
       "    <tr>\n",
       "      <th>30</th>\n",
       "      <td>16.504030</td>\n",
       "    </tr>\n",
       "    <tr>\n",
       "      <th>31</th>\n",
       "      <td>16.149490</td>\n",
       "    </tr>\n",
       "    <tr>\n",
       "      <th>32</th>\n",
       "      <td>15.845923</td>\n",
       "    </tr>\n",
       "    <tr>\n",
       "      <th>33</th>\n",
       "      <td>15.577243</td>\n",
       "    </tr>\n",
       "    <tr>\n",
       "      <th>34</th>\n",
       "      <td>15.309439</td>\n",
       "    </tr>\n",
       "    <tr>\n",
       "      <th>35</th>\n",
       "      <td>15.072954</td>\n",
       "    </tr>\n",
       "    <tr>\n",
       "      <th>36</th>\n",
       "      <td>14.838789</td>\n",
       "    </tr>\n",
       "    <tr>\n",
       "      <th>37</th>\n",
       "      <td>14.628836</td>\n",
       "    </tr>\n",
       "    <tr>\n",
       "      <th>38</th>\n",
       "      <td>14.372071</td>\n",
       "    </tr>\n",
       "    <tr>\n",
       "      <th>39</th>\n",
       "      <td>14.151009</td>\n",
       "    </tr>\n",
       "    <tr>\n",
       "      <th>40</th>\n",
       "      <td>13.942020</td>\n",
       "    </tr>\n",
       "    <tr>\n",
       "      <th>41</th>\n",
       "      <td>13.745145</td>\n",
       "    </tr>\n",
       "    <tr>\n",
       "      <th>42</th>\n",
       "      <td>13.564394</td>\n",
       "    </tr>\n",
       "    <tr>\n",
       "      <th>43</th>\n",
       "      <td>13.382392</td>\n",
       "    </tr>\n",
       "    <tr>\n",
       "      <th>44</th>\n",
       "      <td>13.206265</td>\n",
       "    </tr>\n",
       "    <tr>\n",
       "      <th>45</th>\n",
       "      <td>13.041218</td>\n",
       "    </tr>\n",
       "    <tr>\n",
       "      <th>46</th>\n",
       "      <td>12.874682</td>\n",
       "    </tr>\n",
       "    <tr>\n",
       "      <th>47</th>\n",
       "      <td>12.708000</td>\n",
       "    </tr>\n",
       "    <tr>\n",
       "      <th>48</th>\n",
       "      <td>12.556002</td>\n",
       "    </tr>\n",
       "    <tr>\n",
       "      <th>49</th>\n",
       "      <td>12.421121</td>\n",
       "    </tr>\n",
       "    <tr>\n",
       "      <th>50</th>\n",
       "      <td>12.273887</td>\n",
       "    </tr>\n",
       "    <tr>\n",
       "      <th>51</th>\n",
       "      <td>12.139947</td>\n",
       "    </tr>\n",
       "    <tr>\n",
       "      <th>52</th>\n",
       "      <td>11.994931</td>\n",
       "    </tr>\n",
       "    <tr>\n",
       "      <th>53</th>\n",
       "      <td>11.859300</td>\n",
       "    </tr>\n",
       "    <tr>\n",
       "      <th>54</th>\n",
       "      <td>11.725157</td>\n",
       "    </tr>\n",
       "    <tr>\n",
       "      <th>55</th>\n",
       "      <td>11.590322</td>\n",
       "    </tr>\n",
       "    <tr>\n",
       "      <th>56</th>\n",
       "      <td>11.462384</td>\n",
       "    </tr>\n",
       "    <tr>\n",
       "      <th>57</th>\n",
       "      <td>11.338066</td>\n",
       "    </tr>\n",
       "    <tr>\n",
       "      <th>58</th>\n",
       "      <td>11.213078</td>\n",
       "    </tr>\n",
       "    <tr>\n",
       "      <th>59</th>\n",
       "      <td>11.093827</td>\n",
       "    </tr>\n",
       "    <tr>\n",
       "      <th>60</th>\n",
       "      <td>10.973984</td>\n",
       "    </tr>\n",
       "    <tr>\n",
       "      <th>61</th>\n",
       "      <td>10.855417</td>\n",
       "    </tr>\n",
       "    <tr>\n",
       "      <th>62</th>\n",
       "      <td>10.749786</td>\n",
       "    </tr>\n",
       "    <tr>\n",
       "      <th>63</th>\n",
       "      <td>10.647170</td>\n",
       "    </tr>\n",
       "    <tr>\n",
       "      <th>64</th>\n",
       "      <td>10.544461</td>\n",
       "    </tr>\n",
       "    <tr>\n",
       "      <th>65</th>\n",
       "      <td>10.450439</td>\n",
       "    </tr>\n",
       "    <tr>\n",
       "      <th>66</th>\n",
       "      <td>10.351839</td>\n",
       "    </tr>\n",
       "    <tr>\n",
       "      <th>67</th>\n",
       "      <td>10.253710</td>\n",
       "    </tr>\n",
       "    <tr>\n",
       "      <th>68</th>\n",
       "      <td>10.161450</td>\n",
       "    </tr>\n",
       "    <tr>\n",
       "      <th>69</th>\n",
       "      <td>10.078456</td>\n",
       "    </tr>\n",
       "    <tr>\n",
       "      <th>70</th>\n",
       "      <td>9.987334</td>\n",
       "    </tr>\n",
       "    <tr>\n",
       "      <th>71</th>\n",
       "      <td>9.902475</td>\n",
       "    </tr>\n",
       "    <tr>\n",
       "      <th>72</th>\n",
       "      <td>9.825873</td>\n",
       "    </tr>\n",
       "    <tr>\n",
       "      <th>73</th>\n",
       "      <td>9.744419</td>\n",
       "    </tr>\n",
       "    <tr>\n",
       "      <th>74</th>\n",
       "      <td>9.659541</td>\n",
       "    </tr>\n",
       "    <tr>\n",
       "      <th>75</th>\n",
       "      <td>9.584169</td>\n",
       "    </tr>\n",
       "  </tbody>\n",
       "</table>\n",
       "</div>"
      ],
      "text/plain": [
       "             ch_score\n",
       "n_clusters           \n",
       "2           52.992361\n",
       "3           49.046205\n",
       "4           42.208669\n",
       "5           37.379063\n",
       "6           36.305113\n",
       "7           33.462120\n",
       "8           31.175337\n",
       "9           29.190341\n",
       "10          27.710220\n",
       "11          26.312331\n",
       "12          25.009476\n",
       "13          25.039212\n",
       "14          23.964020\n",
       "15          23.558492\n",
       "16          22.766768\n",
       "17          22.224476\n",
       "18          21.490475\n",
       "19          20.795034\n",
       "20          20.171313\n",
       "21          19.602632\n",
       "22          19.059940\n",
       "23          18.636159\n",
       "24          18.226957\n",
       "25          18.119146\n",
       "26          17.800287\n",
       "27          17.401560\n",
       "28          17.203594\n",
       "29          16.828148\n",
       "30          16.504030\n",
       "31          16.149490\n",
       "32          15.845923\n",
       "33          15.577243\n",
       "34          15.309439\n",
       "35          15.072954\n",
       "36          14.838789\n",
       "37          14.628836\n",
       "38          14.372071\n",
       "39          14.151009\n",
       "40          13.942020\n",
       "41          13.745145\n",
       "42          13.564394\n",
       "43          13.382392\n",
       "44          13.206265\n",
       "45          13.041218\n",
       "46          12.874682\n",
       "47          12.708000\n",
       "48          12.556002\n",
       "49          12.421121\n",
       "50          12.273887\n",
       "51          12.139947\n",
       "52          11.994931\n",
       "53          11.859300\n",
       "54          11.725157\n",
       "55          11.590322\n",
       "56          11.462384\n",
       "57          11.338066\n",
       "58          11.213078\n",
       "59          11.093827\n",
       "60          10.973984\n",
       "61          10.855417\n",
       "62          10.749786\n",
       "63          10.647170\n",
       "64          10.544461\n",
       "65          10.450439\n",
       "66          10.351839\n",
       "67          10.253710\n",
       "68          10.161450\n",
       "69          10.078456\n",
       "70           9.987334\n",
       "71           9.902475\n",
       "72           9.825873\n",
       "73           9.744419\n",
       "74           9.659541\n",
       "75           9.584169"
      ]
     },
     "metadata": {},
     "output_type": "display_data"
    }
   ],
   "source": [
    "with pd.option_context(\"display.max_rows\", None, \"display.max_columns\", None):\n",
    "    _df = ensemble.groupby([\"n_clusters\"]).mean()\n",
    "    display(_df)"
   ]
  },
  {
   "cell_type": "code",
   "execution_count": 44,
   "id": "8a9db4cc",
   "metadata": {
    "execution": {
     "iopub.execute_input": "2022-11-26T05:12:32.122122Z",
     "iopub.status.busy": "2022-11-26T05:12:32.121884Z",
     "iopub.status.idle": "2022-11-26T05:12:34.733862Z",
     "shell.execute_reply": "2022-11-26T05:12:34.733548Z"
    },
    "papermill": {
     "duration": 2.633071,
     "end_time": "2022-11-26T05:12:34.735920",
     "exception": false,
     "start_time": "2022-11-26T05:12:32.102849",
     "status": "completed"
    },
    "tags": []
   },
   "outputs": [
    {
     "data": {
      "image/png": "[encoded data removed]",
      "text/plain": [
       "<Figure size 1008x432 with 1 Axes>"
      ]
     },
     "metadata": {},
     "output_type": "display_data"
    }
   ],
   "source": [
    "with sns.plotting_context(\"talk\", font_scale=0.75), sns.axes_style(\n",
    "    \"whitegrid\", {\"grid.linestyle\": \"--\"}\n",
    "):\n",
    "    fig = plt.figure(figsize=(14, 6))\n",
    "    ax = sns.pointplot(data=ensemble, x=\"n_clusters\", y=\"ch_score\")\n",
    "    ax.set_ylabel(\"Calinski-Harabasz index\")\n",
    "    ax.set_xlabel(\"Number of clusters ($k$)\")\n",
    "    ax.set_xticklabels(ax.get_xticklabels(), rotation=45)\n",
    "    plt.grid(True)\n",
    "    plt.tight_layout()"
   ]
  },
  {
   "cell_type": "markdown",
   "id": "aa7fc98e",
   "metadata": {
    "papermill": {
     "duration": 0.03221,
     "end_time": "2022-11-26T05:12:34.800658",
     "exception": false,
     "start_time": "2022-11-26T05:12:34.768448",
     "status": "completed"
    },
    "tags": []
   },
   "source": [
    "# Stability"
   ]
  },
  {
   "cell_type": "markdown",
   "id": "80defe36",
   "metadata": {
    "papermill": {
     "duration": 0.016336,
     "end_time": "2022-11-26T05:12:34.841277",
     "exception": false,
     "start_time": "2022-11-26T05:12:34.824941",
     "status": "completed"
    },
    "tags": []
   },
   "source": [
    "## Group ensemble by n_clusters"
   ]
  },
  {
   "cell_type": "code",
   "execution_count": 45,
   "id": "93245971",
   "metadata": {
    "execution": {
     "iopub.execute_input": "2022-11-26T05:12:34.876000Z",
     "iopub.status.busy": "2022-11-26T05:12:34.875679Z",
     "iopub.status.idle": "2022-11-26T05:12:34.918388Z",
     "shell.execute_reply": "2022-11-26T05:12:34.917946Z"
    },
    "papermill": {
     "duration": 0.061429,
     "end_time": "2022-11-26T05:12:34.919188",
     "exception": false,
     "start_time": "2022-11-26T05:12:34.857759",
     "status": "completed"
    },
    "tags": []
   },
   "outputs": [],
   "source": [
    "parts = ensemble.groupby(\"n_clusters\").apply(\n",
    "    lambda x: np.concatenate(x[\"partition\"].apply(lambda x: x.reshape(1, -1)), axis=0)\n",
    ")"
   ]
  },
  {
   "cell_type": "code",
   "execution_count": 46,
   "id": "286d45fc",
   "metadata": {
    "execution": {
     "iopub.execute_input": "2022-11-26T05:12:34.954047Z",
     "iopub.status.busy": "2022-11-26T05:12:34.953764Z",
     "iopub.status.idle": "2022-11-26T05:12:34.990188Z",
     "shell.execute_reply": "2022-11-26T05:12:34.989800Z"
    },
    "papermill": {
     "duration": 0.05448,
     "end_time": "2022-11-26T05:12:34.990934",
     "exception": false,
     "start_time": "2022-11-26T05:12:34.936454",
     "status": "completed"
    },
    "tags": []
   },
   "outputs": [
    {
     "data": {
      "text/plain": [
       "n_clusters\n",
       "2    [[0.0, 0.0, 0.0, 0.0, 0.0, 0.0, 0.0, 0.0, 0.0,...\n",
       "3    [[0.0, 0.0, 0.0, 0.0, 0.0, 0.0, 0.0, 0.0, 0.0,...\n",
       "4    [[0.0, 0.0, 0.0, 0.0, 0.0, 0.0, 0.0, 0.0, 0.0,...\n",
       "5    [[0.0, 0.0, 0.0, 0.0, 0.0, 0.0, 0.0, 0.0, 0.0,...\n",
       "6    [[0.0, 0.0, 0.0, 0.0, 0.0, 0.0, 0.0, 0.0, 0.0,...\n",
       "dtype: object"
      ]
     },
     "execution_count": 46,
     "metadata": {},
     "output_type": "execute_result"
    }
   ],
   "source": [
    "parts.head()"
   ]
  },
  {
   "cell_type": "code",
   "execution_count": 47,
   "id": "53259847",
   "metadata": {
    "execution": {
     "iopub.execute_input": "2022-11-26T05:12:35.025014Z",
     "iopub.status.busy": "2022-11-26T05:12:35.024731Z",
     "iopub.status.idle": "2022-11-26T05:12:35.047148Z",
     "shell.execute_reply": "2022-11-26T05:12:35.046752Z"
    },
    "papermill": {
     "duration": 0.040368,
     "end_time": "2022-11-26T05:12:35.047988",
     "exception": false,
     "start_time": "2022-11-26T05:12:35.007620",
     "status": "completed"
    },
    "tags": []
   },
   "outputs": [],
   "source": [
    "assert np.all(\n",
    "    [\n",
    "        parts.loc[k].shape == (len(CLUSTERING_OPTIONS[\"LINKAGE\"]), data.shape[0])\n",
    "        for k in parts.index\n",
    "    ]\n",
    ")"
   ]
  },
  {
   "cell_type": "markdown",
   "id": "da4afe8e",
   "metadata": {
    "papermill": {
     "duration": 0.016976,
     "end_time": "2022-11-26T05:12:35.082189",
     "exception": false,
     "start_time": "2022-11-26T05:12:35.065213",
     "status": "completed"
    },
    "tags": []
   },
   "source": [
    "## Compute stability"
   ]
  },
  {
   "cell_type": "code",
   "execution_count": 48,
   "id": "b36d34aa",
   "metadata": {
    "execution": {
     "iopub.execute_input": "2022-11-26T05:12:35.116766Z",
     "iopub.status.busy": "2022-11-26T05:12:35.116446Z",
     "iopub.status.idle": "2022-11-26T05:12:35.137253Z",
     "shell.execute_reply": "2022-11-26T05:12:35.136911Z"
    },
    "papermill": {
     "duration": 0.039299,
     "end_time": "2022-11-26T05:12:35.138020",
     "exception": false,
     "start_time": "2022-11-26T05:12:35.098721",
     "status": "completed"
    },
    "tags": []
   },
   "outputs": [],
   "source": [
    "from sklearn.metrics import adjusted_rand_score as ari\n",
    "from scipy.spatial.distance import pdist"
   ]
  },
  {
   "cell_type": "code",
   "execution_count": 49,
   "id": "9a345667",
   "metadata": {
    "execution": {
     "iopub.execute_input": "2022-11-26T05:12:35.171937Z",
     "iopub.status.busy": "2022-11-26T05:12:35.171709Z",
     "iopub.status.idle": "2022-11-26T05:12:35.537696Z",
     "shell.execute_reply": "2022-11-26T05:12:35.537371Z"
    },
    "papermill": {
     "duration": 0.38435,
     "end_time": "2022-11-26T05:12:35.539090",
     "exception": false,
     "start_time": "2022-11-26T05:12:35.154740",
     "status": "completed"
    },
    "tags": []
   },
   "outputs": [],
   "source": [
    "parts_ari = pd.Series(\n",
    "    {k: pdist(parts.loc[k], metric=ari) for k in parts.index}, name=\"k\"\n",
    ")"
   ]
  },
  {
   "cell_type": "code",
   "execution_count": 50,
   "id": "df258976",
   "metadata": {
    "execution": {
     "iopub.execute_input": "2022-11-26T05:12:35.576042Z",
     "iopub.status.busy": "2022-11-26T05:12:35.575772Z",
     "iopub.status.idle": "2022-11-26T05:12:35.591044Z",
     "shell.execute_reply": "2022-11-26T05:12:35.590755Z"
    },
    "papermill": {
     "duration": 0.034099,
     "end_time": "2022-11-26T05:12:35.591754",
     "exception": false,
     "start_time": "2022-11-26T05:12:35.557655",
     "status": "completed"
    },
    "tags": []
   },
   "outputs": [
    {
     "data": {
      "text/plain": [
       "4     0.532058\n",
       "3     0.521666\n",
       "2     0.510717\n",
       "9     0.502675\n",
       "6     0.502658\n",
       "18    0.502391\n",
       "5     0.502124\n",
       "17    0.492174\n",
       "7     0.476587\n",
       "16    0.470095\n",
       "32    0.463174\n",
       "12    0.461531\n",
       "41    0.459491\n",
       "15    0.457715\n",
       "33    0.456119\n",
       "Name: k, dtype: float64"
      ]
     },
     "metadata": {},
     "output_type": "display_data"
    }
   ],
   "source": [
    "parts_ari_stability = parts_ari.apply(lambda x: x.mean())\n",
    "display(parts_ari_stability.sort_values(ascending=False).head(15))"
   ]
  },
  {
   "cell_type": "code",
   "execution_count": 51,
   "id": "14f55da3",
   "metadata": {
    "execution": {
     "iopub.execute_input": "2022-11-26T05:12:35.626987Z",
     "iopub.status.busy": "2022-11-26T05:12:35.626806Z",
     "iopub.status.idle": "2022-11-26T05:12:35.640662Z",
     "shell.execute_reply": "2022-11-26T05:12:35.640347Z"
    },
    "papermill": {
     "duration": 0.032348,
     "end_time": "2022-11-26T05:12:35.641419",
     "exception": false,
     "start_time": "2022-11-26T05:12:35.609071",
     "status": "completed"
    },
    "tags": []
   },
   "outputs": [],
   "source": [
    "parts_ari_df = pd.DataFrame.from_records(parts_ari.tolist()).set_index(\n",
    "    parts_ari.index.copy()\n",
    ")"
   ]
  },
  {
   "cell_type": "code",
   "execution_count": 52,
   "id": "1841d33d",
   "metadata": {
    "execution": {
     "iopub.execute_input": "2022-11-26T05:12:35.679395Z",
     "iopub.status.busy": "2022-11-26T05:12:35.679291Z",
     "iopub.status.idle": "2022-11-26T05:12:35.692071Z",
     "shell.execute_reply": "2022-11-26T05:12:35.691805Z"
    },
    "papermill": {
     "duration": 0.033663,
     "end_time": "2022-11-26T05:12:35.692789",
     "exception": false,
     "start_time": "2022-11-26T05:12:35.659126",
     "status": "completed"
    },
    "tags": []
   },
   "outputs": [
    {
     "data": {
      "text/plain": [
       "(74, 6)"
      ]
     },
     "execution_count": 52,
     "metadata": {},
     "output_type": "execute_result"
    }
   ],
   "source": [
    "parts_ari_df.shape"
   ]
  },
  {
   "cell_type": "code",
   "execution_count": 53,
   "id": "52fab6d3",
   "metadata": {
    "execution": {
     "iopub.execute_input": "2022-11-26T05:12:35.750025Z",
     "iopub.status.busy": "2022-11-26T05:12:35.749850Z",
     "iopub.status.idle": "2022-11-26T05:12:35.762707Z",
     "shell.execute_reply": "2022-11-26T05:12:35.762421Z"
    },
    "papermill": {
     "duration": 0.053546,
     "end_time": "2022-11-26T05:12:35.763403",
     "exception": false,
     "start_time": "2022-11-26T05:12:35.709857",
     "status": "completed"
    },
    "tags": []
   },
   "outputs": [],
   "source": [
    "assert (\n",
    "    int(\n",
    "        (len(CLUSTERING_OPTIONS[\"LINKAGE\"]) * (len(CLUSTERING_OPTIONS[\"LINKAGE\"]) - 1))\n",
    "        / 2\n",
    "    )\n",
    "    == parts_ari_df.shape[1]\n",
    ")"
   ]
  },
  {
   "cell_type": "code",
   "execution_count": 54,
   "id": "eb2345f9",
   "metadata": {
    "execution": {
     "iopub.execute_input": "2022-11-26T05:12:35.797823Z",
     "iopub.status.busy": "2022-11-26T05:12:35.797739Z",
     "iopub.status.idle": "2022-11-26T05:12:35.813680Z",
     "shell.execute_reply": "2022-11-26T05:12:35.813399Z"
    },
    "papermill": {
     "duration": 0.034148,
     "end_time": "2022-11-26T05:12:35.814377",
     "exception": false,
     "start_time": "2022-11-26T05:12:35.780229",
     "status": "completed"
    },
    "tags": []
   },
   "outputs": [
    {
     "data": {
      "text/html": [
       "<div>\n",
       "<style scoped>\n",
       "    .dataframe tbody tr th:only-of-type {\n",
       "        vertical-align: middle;\n",
       "    }\n",
       "\n",
       "    .dataframe tbody tr th {\n",
       "        vertical-align: top;\n",
       "    }\n",
       "\n",
       "    .dataframe thead th {\n",
       "        text-align: right;\n",
       "    }\n",
       "</style>\n",
       "<table border=\"1\" class=\"dataframe\">\n",
       "  <thead>\n",
       "    <tr style=\"text-align: right;\">\n",
       "      <th></th>\n",
       "      <th>0</th>\n",
       "      <th>1</th>\n",
       "      <th>2</th>\n",
       "      <th>3</th>\n",
       "      <th>4</th>\n",
       "      <th>5</th>\n",
       "    </tr>\n",
       "  </thead>\n",
       "  <tbody>\n",
       "    <tr>\n",
       "      <th>2</th>\n",
       "      <td>1.0</td>\n",
       "      <td>0.021435</td>\n",
       "      <td>1.0</td>\n",
       "      <td>0.021435</td>\n",
       "      <td>1.0</td>\n",
       "      <td>0.021435</td>\n",
       "    </tr>\n",
       "    <tr>\n",
       "      <th>3</th>\n",
       "      <td>1.0</td>\n",
       "      <td>0.043332</td>\n",
       "      <td>1.0</td>\n",
       "      <td>0.043332</td>\n",
       "      <td>1.0</td>\n",
       "      <td>0.043332</td>\n",
       "    </tr>\n",
       "    <tr>\n",
       "      <th>4</th>\n",
       "      <td>1.0</td>\n",
       "      <td>0.064115</td>\n",
       "      <td>1.0</td>\n",
       "      <td>0.064115</td>\n",
       "      <td>1.0</td>\n",
       "      <td>0.064115</td>\n",
       "    </tr>\n",
       "    <tr>\n",
       "      <th>5</th>\n",
       "      <td>1.0</td>\n",
       "      <td>0.004248</td>\n",
       "      <td>1.0</td>\n",
       "      <td>0.004248</td>\n",
       "      <td>1.0</td>\n",
       "      <td>0.004248</td>\n",
       "    </tr>\n",
       "    <tr>\n",
       "      <th>6</th>\n",
       "      <td>1.0</td>\n",
       "      <td>0.005316</td>\n",
       "      <td>1.0</td>\n",
       "      <td>0.005316</td>\n",
       "      <td>1.0</td>\n",
       "      <td>0.005316</td>\n",
       "    </tr>\n",
       "  </tbody>\n",
       "</table>\n",
       "</div>"
      ],
      "text/plain": [
       "     0         1    2         3    4         5\n",
       "2  1.0  0.021435  1.0  0.021435  1.0  0.021435\n",
       "3  1.0  0.043332  1.0  0.043332  1.0  0.043332\n",
       "4  1.0  0.064115  1.0  0.064115  1.0  0.064115\n",
       "5  1.0  0.004248  1.0  0.004248  1.0  0.004248\n",
       "6  1.0  0.005316  1.0  0.005316  1.0  0.005316"
      ]
     },
     "execution_count": 54,
     "metadata": {},
     "output_type": "execute_result"
    }
   ],
   "source": [
    "parts_ari_df.head()"
   ]
  },
  {
   "cell_type": "markdown",
   "id": "260bb200",
   "metadata": {
    "papermill": {
     "duration": 0.017066,
     "end_time": "2022-11-26T05:12:35.848254",
     "exception": false,
     "start_time": "2022-11-26T05:12:35.831188",
     "status": "completed"
    },
    "tags": []
   },
   "source": [
    "## Save"
   ]
  },
  {
   "cell_type": "code",
   "execution_count": 55,
   "id": "c91ced4f",
   "metadata": {
    "execution": {
     "iopub.execute_input": "2022-11-26T05:12:35.883153Z",
     "iopub.status.busy": "2022-11-26T05:12:35.883012Z",
     "iopub.status.idle": "2022-11-26T05:12:35.896418Z",
     "shell.execute_reply": "2022-11-26T05:12:35.896137Z"
    },
    "papermill": {
     "duration": 0.031912,
     "end_time": "2022-11-26T05:12:35.897125",
     "exception": false,
     "start_time": "2022-11-26T05:12:35.865213",
     "status": "completed"
    },
    "tags": []
   },
   "outputs": [
    {
     "data": {
      "text/plain": [
       "PosixPath('/opt/data/results/clustering/null_sims/shuffle_genes/runs/pca-z_score_std-projection-smultixcan-efo_partial-mashr-zscores/AgglomerativeClustering-stability-AFFINITY_euclidean-K_MAX_75-K_MIN_2-LINKAGE_average_single_ward_complete.pkl')"
      ]
     },
     "metadata": {},
     "output_type": "display_data"
    }
   ],
   "source": [
    "output_filename = Path(\n",
    "    RESULTS_DIR,\n",
    "    generate_result_set_name(\n",
    "        CLUSTERING_OPTIONS,\n",
    "        prefix=f\"{clustering_method_name}-stability-\",\n",
    "        suffix=\".pkl\",\n",
    "    ),\n",
    ").resolve()\n",
    "display(output_filename)"
   ]
  },
  {
   "cell_type": "code",
   "execution_count": 56,
   "id": "eff628e7",
   "metadata": {
    "execution": {
     "iopub.execute_input": "2022-11-26T05:12:35.931710Z",
     "iopub.status.busy": "2022-11-26T05:12:35.931625Z",
     "iopub.status.idle": "2022-11-26T05:12:35.943635Z",
     "shell.execute_reply": "2022-11-26T05:12:35.943351Z"
    },
    "papermill": {
     "duration": 0.030233,
     "end_time": "2022-11-26T05:12:35.944343",
     "exception": false,
     "start_time": "2022-11-26T05:12:35.914110",
     "status": "completed"
    },
    "tags": []
   },
   "outputs": [],
   "source": [
    "parts_ari_df.to_pickle(output_filename)"
   ]
  },
  {
   "cell_type": "markdown",
   "id": "3382dcbc",
   "metadata": {
    "papermill": {
     "duration": 0.017218,
     "end_time": "2022-11-26T05:12:35.978532",
     "exception": false,
     "start_time": "2022-11-26T05:12:35.961314",
     "status": "completed"
    },
    "tags": []
   },
   "source": [
    "## Stability plot"
   ]
  },
  {
   "cell_type": "code",
   "execution_count": 57,
   "id": "1b15c162",
   "metadata": {
    "execution": {
     "iopub.execute_input": "2022-11-26T05:12:36.014053Z",
     "iopub.status.busy": "2022-11-26T05:12:36.013876Z",
     "iopub.status.idle": "2022-11-26T05:12:36.036866Z",
     "shell.execute_reply": "2022-11-26T05:12:36.036518Z"
    },
    "papermill": {
     "duration": 0.041829,
     "end_time": "2022-11-26T05:12:36.037690",
     "exception": false,
     "start_time": "2022-11-26T05:12:35.995861",
     "status": "completed"
    },
    "tags": []
   },
   "outputs": [],
   "source": [
    "parts_ari_df_plot = (\n",
    "    parts_ari_df.stack()\n",
    "    .reset_index()\n",
    "    .rename(columns={\"level_0\": \"k\", \"level_1\": \"idx\", 0: \"ari\"})\n",
    ")"
   ]
  },
  {
   "cell_type": "code",
   "execution_count": 58,
   "id": "9785d563",
   "metadata": {
    "execution": {
     "iopub.execute_input": "2022-11-26T05:12:36.073940Z",
     "iopub.status.busy": "2022-11-26T05:12:36.073569Z",
     "iopub.status.idle": "2022-11-26T05:12:36.096486Z",
     "shell.execute_reply": "2022-11-26T05:12:36.096140Z"
    },
    "papermill": {
     "duration": 0.042109,
     "end_time": "2022-11-26T05:12:36.097250",
     "exception": false,
     "start_time": "2022-11-26T05:12:36.055141",
     "status": "completed"
    },
    "tags": []
   },
   "outputs": [
    {
     "data": {
      "text/plain": [
       "k        int64\n",
       "idx      int64\n",
       "ari    float64\n",
       "dtype: object"
      ]
     },
     "execution_count": 58,
     "metadata": {},
     "output_type": "execute_result"
    }
   ],
   "source": [
    "parts_ari_df_plot.dtypes"
   ]
  },
  {
   "cell_type": "code",
   "execution_count": 59,
   "id": "d67712cc",
   "metadata": {
    "execution": {
     "iopub.execute_input": "2022-11-26T05:12:36.133252Z",
     "iopub.status.busy": "2022-11-26T05:12:36.133010Z",
     "iopub.status.idle": "2022-11-26T05:12:36.159070Z",
     "shell.execute_reply": "2022-11-26T05:12:36.158563Z"
    },
    "papermill": {
     "duration": 0.044804,
     "end_time": "2022-11-26T05:12:36.159932",
     "exception": false,
     "start_time": "2022-11-26T05:12:36.115128",
     "status": "completed"
    },
    "tags": []
   },
   "outputs": [
    {
     "data": {
      "text/html": [
       "<div>\n",
       "<style scoped>\n",
       "    .dataframe tbody tr th:only-of-type {\n",
       "        vertical-align: middle;\n",
       "    }\n",
       "\n",
       "    .dataframe tbody tr th {\n",
       "        vertical-align: top;\n",
       "    }\n",
       "\n",
       "    .dataframe thead th {\n",
       "        text-align: right;\n",
       "    }\n",
       "</style>\n",
       "<table border=\"1\" class=\"dataframe\">\n",
       "  <thead>\n",
       "    <tr style=\"text-align: right;\">\n",
       "      <th></th>\n",
       "      <th>k</th>\n",
       "      <th>idx</th>\n",
       "      <th>ari</th>\n",
       "    </tr>\n",
       "  </thead>\n",
       "  <tbody>\n",
       "    <tr>\n",
       "      <th>0</th>\n",
       "      <td>2</td>\n",
       "      <td>0</td>\n",
       "      <td>1.000000</td>\n",
       "    </tr>\n",
       "    <tr>\n",
       "      <th>1</th>\n",
       "      <td>2</td>\n",
       "      <td>1</td>\n",
       "      <td>0.021435</td>\n",
       "    </tr>\n",
       "    <tr>\n",
       "      <th>2</th>\n",
       "      <td>2</td>\n",
       "      <td>2</td>\n",
       "      <td>1.000000</td>\n",
       "    </tr>\n",
       "    <tr>\n",
       "      <th>3</th>\n",
       "      <td>2</td>\n",
       "      <td>3</td>\n",
       "      <td>0.021435</td>\n",
       "    </tr>\n",
       "    <tr>\n",
       "      <th>4</th>\n",
       "      <td>2</td>\n",
       "      <td>4</td>\n",
       "      <td>1.000000</td>\n",
       "    </tr>\n",
       "  </tbody>\n",
       "</table>\n",
       "</div>"
      ],
      "text/plain": [
       "   k  idx       ari\n",
       "0  2    0  1.000000\n",
       "1  2    1  0.021435\n",
       "2  2    2  1.000000\n",
       "3  2    3  0.021435\n",
       "4  2    4  1.000000"
      ]
     },
     "execution_count": 59,
     "metadata": {},
     "output_type": "execute_result"
    }
   ],
   "source": [
    "parts_ari_df_plot.head()"
   ]
  },
  {
   "cell_type": "code",
   "execution_count": 60,
   "id": "c95e503e",
   "metadata": {
    "execution": {
     "iopub.execute_input": "2022-11-26T05:12:36.197129Z",
     "iopub.status.busy": "2022-11-26T05:12:36.196870Z",
     "iopub.status.idle": "2022-11-26T05:12:38.527548Z",
     "shell.execute_reply": "2022-11-26T05:12:38.527262Z"
    },
    "papermill": {
     "duration": 2.351513,
     "end_time": "2022-11-26T05:12:38.529444",
     "exception": false,
     "start_time": "2022-11-26T05:12:36.177931",
     "status": "completed"
    },
    "tags": []
   },
   "outputs": [
    {
     "data": {
      "image/png": "[encoded data removed]",
      "text/plain": [
       "<Figure size 1008x432 with 1 Axes>"
      ]
     },
     "metadata": {},
     "output_type": "display_data"
    }
   ],
   "source": [
    "# with sns.axes_style('whitegrid', {'grid.linestyle': '--'}):\n",
    "with sns.plotting_context(\"talk\", font_scale=0.75), sns.axes_style(\n",
    "    \"whitegrid\", {\"grid.linestyle\": \"--\"}\n",
    "):\n",
    "    fig = plt.figure(figsize=(14, 6))\n",
    "    ax = sns.pointplot(data=parts_ari_df_plot, x=\"k\", y=\"ari\")\n",
    "    ax.set_ylabel(\"Averange ARI\")\n",
    "    ax.set_xlabel(\"Number of clusters ($k$)\")\n",
    "    ax.set_xticklabels(ax.get_xticklabels(), rotation=45)\n",
    "    #     ax.set_ylim(0.0, 1.0)\n",
    "    #     ax.set_xlim(CLUSTERING_OPTIONS['K_MIN'], CLUSTERING_OPTIONS['K_MAX'])\n",
    "    plt.grid(True)\n",
    "    plt.tight_layout()"
   ]
  },
  {
   "cell_type": "code",
   "execution_count": null,
   "id": "133599e4",
   "metadata": {
    "papermill": {
     "duration": 0.033752,
     "end_time": "2022-11-26T05:12:38.598673",
     "exception": false,
     "start_time": "2022-11-26T05:12:38.564921",
     "status": "completed"
    },
    "tags": []
   },
   "outputs": [],
   "source": []
  }
 ],
 "metadata": {
  "jupytext": {
   "cell_metadata_filter": "all,-execution,-papermill,-trusted",
   "formats": "ipynb,py//py:percent"
  },
  "kernelspec": {
   "display_name": "Python 3 (ipykernel)",
   "language": "python",
   "name": "python3"
  },
  "language_info": {
   "codemirror_mode": {
    "name": "ipython",
    "version": 3
   },
   "file_extension": ".py",
   "mimetype": "text/x-python",
   "name": "python",
   "nbconvert_exporter": "python",
   "pygments_lexer": "ipython3",
   "version": "3.8.13"
  },
  "papermill": {
   "default_parameters": {},
   "duration": 1031.350462,
   "end_time": "2022-11-26T05:12:38.939578",
   "environment_variables": {},
   "exception": null,
   "input_path": "nbs/13.1_cluster_analysis_null/00-shuffle_genes/13_01-hc-pca.ipynb",
   "output_path": "nbs/13.1_cluster_analysis_null/00-shuffle_genes/13_01-hc-pca.run.ipynb",
   "parameters": {},
   "start_time": "2022-11-26T04:55:27.589116",
   "version": "2.2.2"
  },
  "toc-autonumbering": true,
  "toc-showcode": false,
  "toc-showmarkdowntxt": false,
  "toc-showtags": false
 },
 "nbformat": 4,
 "nbformat_minor": 5
}
