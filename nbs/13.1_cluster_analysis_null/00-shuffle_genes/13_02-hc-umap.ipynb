{
 "cells": [
  {
   "cell_type": "markdown",
   "id": "ae9a0e5f",
   "metadata": {
    "papermill": {
     "duration": 0.036759,
     "end_time": "2022-09-13T19:28:10.175434",
     "exception": false,
     "start_time": "2022-09-13T19:28:10.138675",
     "status": "completed"
    },
    "tags": []
   },
   "source": [
    "# Description"
   ]
  },
  {
   "cell_type": "markdown",
   "id": "32ba4343",
   "metadata": {
    "papermill": {
     "duration": 0.027453,
     "end_time": "2022-09-13T19:28:10.231720",
     "exception": false,
     "start_time": "2022-09-13T19:28:10.204267",
     "status": "completed"
    },
    "tags": []
   },
   "source": [
    "Runs hierarchical clustering on the umap version of the data."
   ]
  },
  {
   "cell_type": "markdown",
   "id": "28cf7bb6",
   "metadata": {
    "papermill": {
     "duration": 0.012141,
     "end_time": "2022-09-13T19:28:10.264263",
     "exception": false,
     "start_time": "2022-09-13T19:28:10.252122",
     "status": "completed"
    },
    "tags": []
   },
   "source": [
    "# Environment variables"
   ]
  },
  {
   "cell_type": "code",
   "execution_count": 1,
   "id": "b5a5994e",
   "metadata": {
    "execution": {
     "iopub.execute_input": "2022-09-13T19:28:10.283289Z",
     "iopub.status.busy": "2022-09-13T19:28:10.283072Z",
     "iopub.status.idle": "2022-09-13T19:28:10.299369Z",
     "shell.execute_reply": "2022-09-13T19:28:10.298325Z"
    },
    "papermill": {
     "duration": 0.026626,
     "end_time": "2022-09-13T19:28:10.300730",
     "exception": false,
     "start_time": "2022-09-13T19:28:10.274104",
     "status": "completed"
    },
    "tags": []
   },
   "outputs": [
    {
     "data": {
      "text/plain": [
       "3"
      ]
     },
     "metadata": {},
     "output_type": "display_data"
    }
   ],
   "source": [
    "from IPython.display import display\n",
    "\n",
    "import conf\n",
    "\n",
    "N_JOBS = conf.GENERAL[\"N_JOBS\"]\n",
    "display(N_JOBS)"
   ]
  },
  {
   "cell_type": "code",
   "execution_count": 2,
   "id": "bc49fa4a",
   "metadata": {
    "execution": {
     "iopub.execute_input": "2022-09-13T19:28:10.317135Z",
     "iopub.status.busy": "2022-09-13T19:28:10.316940Z",
     "iopub.status.idle": "2022-09-13T19:28:10.322087Z",
     "shell.execute_reply": "2022-09-13T19:28:10.321533Z"
    },
    "papermill": {
     "duration": 0.014692,
     "end_time": "2022-09-13T19:28:10.323383",
     "exception": false,
     "start_time": "2022-09-13T19:28:10.308691",
     "status": "completed"
    },
    "tags": []
   },
   "outputs": [
    {
     "name": "stdout",
     "output_type": "stream",
     "text": [
      "env: MKL_NUM_THREADS=3\n",
      "env: OPEN_BLAS_NUM_THREADS=3\n",
      "env: NUMEXPR_NUM_THREADS=3\n",
      "env: OMP_NUM_THREADS=3\n"
     ]
    }
   ],
   "source": [
    "%env MKL_NUM_THREADS=$N_JOBS\n",
    "%env OPEN_BLAS_NUM_THREADS=$N_JOBS\n",
    "%env NUMEXPR_NUM_THREADS=$N_JOBS\n",
    "%env OMP_NUM_THREADS=$N_JOBS"
   ]
  },
  {
   "cell_type": "markdown",
   "id": "8d826e82",
   "metadata": {
    "papermill": {
     "duration": 0.007142,
     "end_time": "2022-09-13T19:28:10.337984",
     "exception": false,
     "start_time": "2022-09-13T19:28:10.330842",
     "status": "completed"
    },
    "tags": []
   },
   "source": [
    "# Modules loading"
   ]
  },
  {
   "cell_type": "code",
   "execution_count": 3,
   "id": "71babd34",
   "metadata": {
    "execution": {
     "iopub.execute_input": "2022-09-13T19:28:10.353972Z",
     "iopub.status.busy": "2022-09-13T19:28:10.353619Z",
     "iopub.status.idle": "2022-09-13T19:28:10.366974Z",
     "shell.execute_reply": "2022-09-13T19:28:10.366531Z"
    },
    "papermill": {
     "duration": 0.023026,
     "end_time": "2022-09-13T19:28:10.368310",
     "exception": false,
     "start_time": "2022-09-13T19:28:10.345284",
     "status": "completed"
    },
    "tags": []
   },
   "outputs": [],
   "source": [
    "%load_ext autoreload\n",
    "%autoreload 2"
   ]
  },
  {
   "cell_type": "code",
   "execution_count": 4,
   "id": "1c2cf43a",
   "metadata": {
    "execution": {
     "iopub.execute_input": "2022-09-13T19:28:10.384506Z",
     "iopub.status.busy": "2022-09-13T19:28:10.384346Z",
     "iopub.status.idle": "2022-09-13T19:28:11.153480Z",
     "shell.execute_reply": "2022-09-13T19:28:11.152935Z"
    },
    "papermill": {
     "duration": 0.778883,
     "end_time": "2022-09-13T19:28:11.155080",
     "exception": false,
     "start_time": "2022-09-13T19:28:10.376197",
     "status": "completed"
    },
    "tags": []
   },
   "outputs": [],
   "source": [
    "from pathlib import Path\n",
    "\n",
    "import numpy as np\n",
    "import pandas as pd\n",
    "import matplotlib.pyplot as plt\n",
    "import seaborn as sns\n",
    "\n",
    "from utils import generate_result_set_name"
   ]
  },
  {
   "cell_type": "markdown",
   "id": "be975805",
   "metadata": {
    "papermill": {
     "duration": 0.007047,
     "end_time": "2022-09-13T19:28:11.169424",
     "exception": false,
     "start_time": "2022-09-13T19:28:11.162377",
     "status": "completed"
    },
    "tags": []
   },
   "source": [
    "# Settings"
   ]
  },
  {
   "cell_type": "code",
   "execution_count": 5,
   "id": "714b28bc",
   "metadata": {
    "execution": {
     "iopub.execute_input": "2022-09-13T19:28:11.185608Z",
     "iopub.status.busy": "2022-09-13T19:28:11.185373Z",
     "iopub.status.idle": "2022-09-13T19:28:11.201910Z",
     "shell.execute_reply": "2022-09-13T19:28:11.201401Z"
    },
    "papermill": {
     "duration": 0.026905,
     "end_time": "2022-09-13T19:28:11.203488",
     "exception": false,
     "start_time": "2022-09-13T19:28:11.176583",
     "status": "completed"
    },
    "tags": []
   },
   "outputs": [],
   "source": [
    "np.random.seed(0)"
   ]
  },
  {
   "cell_type": "code",
   "execution_count": null,
   "id": "c3ed316d-1a52-4e4c-948b-b921dfefbf97",
   "metadata": {},
   "outputs": [],
   "source": [
    "NULL_DIR = conf.RESULTS[\"CLUSTERING_NULL_DIR\"] / \"shuffle_genes\""
   ]
  },
  {
   "cell_type": "markdown",
   "id": "1b987f0e",
   "metadata": {
    "papermill": {
     "duration": 0.008041,
     "end_time": "2022-09-13T19:28:11.218811",
     "exception": false,
     "start_time": "2022-09-13T19:28:11.210770",
     "status": "completed"
    },
    "tags": []
   },
   "source": [
    "## Input data"
   ]
  },
  {
   "cell_type": "code",
   "execution_count": 6,
   "id": "e5b7587a",
   "metadata": {
    "execution": {
     "iopub.execute_input": "2022-09-13T19:28:11.234393Z",
     "iopub.status.busy": "2022-09-13T19:28:11.234223Z",
     "iopub.status.idle": "2022-09-13T19:28:11.250287Z",
     "shell.execute_reply": "2022-09-13T19:28:11.249805Z"
    },
    "papermill": {
     "duration": 0.025513,
     "end_time": "2022-09-13T19:28:11.251699",
     "exception": false,
     "start_time": "2022-09-13T19:28:11.226186",
     "status": "completed"
    },
    "tags": []
   },
   "outputs": [],
   "source": [
    "INPUT_SUBSET = \"umap\""
   ]
  },
  {
   "cell_type": "code",
   "execution_count": 7,
   "id": "af75ae7c",
   "metadata": {
    "execution": {
     "iopub.execute_input": "2022-09-13T19:28:11.267763Z",
     "iopub.status.busy": "2022-09-13T19:28:11.267553Z",
     "iopub.status.idle": "2022-09-13T19:28:11.285888Z",
     "shell.execute_reply": "2022-09-13T19:28:11.284840Z"
    },
    "papermill": {
     "duration": 0.028371,
     "end_time": "2022-09-13T19:28:11.287308",
     "exception": false,
     "start_time": "2022-09-13T19:28:11.258937",
     "status": "completed"
    },
    "tags": []
   },
   "outputs": [],
   "source": [
    "INPUT_STEM = \"z_score_std-projection-smultixcan-efo_partial-mashr-zscores\""
   ]
  },
  {
   "cell_type": "code",
   "execution_count": 8,
   "id": "ae865775",
   "metadata": {
    "execution": {
     "iopub.execute_input": "2022-09-13T19:28:11.336298Z",
     "iopub.status.busy": "2022-09-13T19:28:11.336087Z",
     "iopub.status.idle": "2022-09-13T19:28:11.355995Z",
     "shell.execute_reply": "2022-09-13T19:28:11.355344Z"
    },
    "papermill": {
     "duration": 0.031196,
     "end_time": "2022-09-13T19:28:11.357543",
     "exception": false,
     "start_time": "2022-09-13T19:28:11.326347",
     "status": "completed"
    },
    "tags": []
   },
   "outputs": [],
   "source": [
    "# parameters of the dimentionality reduction steps\n",
    "DR_OPTIONS = {\n",
    "    \"n_components\": 50,\n",
    "    \"metric\": \"euclidean\",\n",
    "    \"n_neighbors\": 15,\n",
    "    \"random_state\": 0,\n",
    "}"
   ]
  },
  {
   "cell_type": "code",
   "execution_count": 9,
   "id": "067ad49d",
   "metadata": {
    "execution": {
     "iopub.execute_input": "2022-09-13T19:28:11.383466Z",
     "iopub.status.busy": "2022-09-13T19:28:11.378639Z",
     "iopub.status.idle": "2022-09-13T19:28:11.407507Z",
     "shell.execute_reply": "2022-09-13T19:28:11.406998Z"
    },
    "papermill": {
     "duration": 0.041806,
     "end_time": "2022-09-13T19:28:11.408953",
     "exception": false,
     "start_time": "2022-09-13T19:28:11.367147",
     "status": "completed"
    },
    "tags": []
   },
   "outputs": [
    {
     "data": {
      "text/plain": [
       "PosixPath('/opt/data/results/clustering/null_sims/data_transformations/umap/umap-z_score_std-projection-smultixcan-efo_partial-mashr-zscores-metric_euclidean-n_components_50-n_neighbors_15-random_state_0.pkl')"
      ]
     },
     "metadata": {},
     "output_type": "display_data"
    },
    {
     "data": {
      "text/plain": [
       "'umap-z_score_std-projection-smultixcan-efo_partial-mashr-zscores-metric_euclidean-n_components_50-n_neighbors_15-random_state_0'"
      ]
     },
     "metadata": {},
     "output_type": "display_data"
    }
   ],
   "source": [
    "input_filepath = Path(\n",
    "    NULL_DIR,\n",
    "    \"data_transformations\",\n",
    "    INPUT_SUBSET,\n",
    "    generate_result_set_name(\n",
    "        DR_OPTIONS, prefix=f\"{INPUT_SUBSET}-{INPUT_STEM}-\", suffix=\".pkl\"\n",
    "    ),\n",
    ").resolve()\n",
    "display(input_filepath)\n",
    "\n",
    "assert input_filepath.exists(), \"Input file does not exist\"\n",
    "\n",
    "input_filepath_stem = input_filepath.stem\n",
    "display(input_filepath_stem)"
   ]
  },
  {
   "cell_type": "markdown",
   "id": "16e6388b",
   "metadata": {
    "papermill": {
     "duration": 0.008257,
     "end_time": "2022-09-13T19:28:11.426255",
     "exception": false,
     "start_time": "2022-09-13T19:28:11.417998",
     "status": "completed"
    },
    "tags": []
   },
   "source": [
    "## Clustering"
   ]
  },
  {
   "cell_type": "code",
   "execution_count": 10,
   "id": "fb4c687e",
   "metadata": {
    "execution": {
     "iopub.execute_input": "2022-09-13T19:28:11.444330Z",
     "iopub.status.busy": "2022-09-13T19:28:11.444140Z",
     "iopub.status.idle": "2022-09-13T19:28:11.559154Z",
     "shell.execute_reply": "2022-09-13T19:28:11.558690Z"
    },
    "papermill": {
     "duration": 0.125761,
     "end_time": "2022-09-13T19:28:11.560658",
     "exception": false,
     "start_time": "2022-09-13T19:28:11.434897",
     "status": "completed"
    },
    "tags": []
   },
   "outputs": [],
   "source": [
    "from sklearn.cluster import AgglomerativeClustering"
   ]
  },
  {
   "cell_type": "code",
   "execution_count": 11,
   "id": "ee5d7198",
   "metadata": {
    "execution": {
     "iopub.execute_input": "2022-09-13T19:28:11.577645Z",
     "iopub.status.busy": "2022-09-13T19:28:11.577469Z",
     "iopub.status.idle": "2022-09-13T19:28:11.596826Z",
     "shell.execute_reply": "2022-09-13T19:28:11.596333Z"
    },
    "papermill": {
     "duration": 0.029365,
     "end_time": "2022-09-13T19:28:11.598266",
     "exception": false,
     "start_time": "2022-09-13T19:28:11.568901",
     "status": "completed"
    },
    "tags": []
   },
   "outputs": [],
   "source": [
    "CLUSTERING_ATTRIBUTES_TO_SAVE = [\"n_clusters\"]"
   ]
  },
  {
   "cell_type": "code",
   "execution_count": 12,
   "id": "52020ab9",
   "metadata": {
    "execution": {
     "iopub.execute_input": "2022-09-13T19:28:11.616341Z",
     "iopub.status.busy": "2022-09-13T19:28:11.616007Z",
     "iopub.status.idle": "2022-09-13T19:28:11.639675Z",
     "shell.execute_reply": "2022-09-13T19:28:11.639088Z"
    },
    "papermill": {
     "duration": 0.034464,
     "end_time": "2022-09-13T19:28:11.641040",
     "exception": false,
     "start_time": "2022-09-13T19:28:11.606576",
     "status": "completed"
    },
    "tags": []
   },
   "outputs": [
    {
     "data": {
      "text/plain": [
       "{'K_MIN': 2,\n",
       " 'K_MAX': 75,\n",
       " 'LINKAGE': {'average', 'complete', 'single', 'ward'},\n",
       " 'AFFINITY': 'euclidean'}"
      ]
     },
     "metadata": {},
     "output_type": "display_data"
    }
   ],
   "source": [
    "CLUSTERING_OPTIONS = {}\n",
    "\n",
    "CLUSTERING_OPTIONS[\"K_MIN\"] = 2\n",
    "CLUSTERING_OPTIONS[\"K_MAX\"] = 75  # sqrt(3749) + some more to get closer to 295\n",
    "CLUSTERING_OPTIONS[\"LINKAGE\"] = {\"ward\", \"complete\", \"average\", \"single\"}\n",
    "CLUSTERING_OPTIONS[\"AFFINITY\"] = \"euclidean\"\n",
    "\n",
    "display(CLUSTERING_OPTIONS)"
   ]
  },
  {
   "cell_type": "code",
   "execution_count": 13,
   "id": "2f4915e8",
   "metadata": {
    "execution": {
     "iopub.execute_input": "2022-09-13T19:28:11.659607Z",
     "iopub.status.busy": "2022-09-13T19:28:11.659426Z",
     "iopub.status.idle": "2022-09-13T19:28:11.681099Z",
     "shell.execute_reply": "2022-09-13T19:28:11.680571Z"
    },
    "papermill": {
     "duration": 0.032317,
     "end_time": "2022-09-13T19:28:11.682603",
     "exception": false,
     "start_time": "2022-09-13T19:28:11.650286",
     "status": "completed"
    },
    "tags": []
   },
   "outputs": [],
   "source": [
    "CLUSTERERS = {}\n",
    "\n",
    "idx = 0\n",
    "\n",
    "for k in range(CLUSTERING_OPTIONS[\"K_MIN\"], CLUSTERING_OPTIONS[\"K_MAX\"] + 1):\n",
    "    for linkage in CLUSTERING_OPTIONS[\"LINKAGE\"]:\n",
    "        if linkage == \"ward\":\n",
    "            affinity = \"euclidean\"\n",
    "        else:\n",
    "            affinity = \"precomputed\"\n",
    "\n",
    "        clus = AgglomerativeClustering(\n",
    "            n_clusters=k,\n",
    "            affinity=affinity,\n",
    "            linkage=linkage,\n",
    "        )\n",
    "\n",
    "        method_name = type(clus).__name__\n",
    "        CLUSTERERS[f\"{method_name} #{idx}\"] = clus\n",
    "\n",
    "        idx = idx + 1"
   ]
  },
  {
   "cell_type": "code",
   "execution_count": 14,
   "id": "a09cc90b",
   "metadata": {
    "execution": {
     "iopub.execute_input": "2022-09-13T19:28:11.701067Z",
     "iopub.status.busy": "2022-09-13T19:28:11.700649Z",
     "iopub.status.idle": "2022-09-13T19:28:11.720336Z",
     "shell.execute_reply": "2022-09-13T19:28:11.719800Z"
    },
    "papermill": {
     "duration": 0.030357,
     "end_time": "2022-09-13T19:28:11.721668",
     "exception": false,
     "start_time": "2022-09-13T19:28:11.691311",
     "status": "completed"
    },
    "tags": []
   },
   "outputs": [
    {
     "data": {
      "text/plain": [
       "296"
      ]
     },
     "metadata": {},
     "output_type": "display_data"
    }
   ],
   "source": [
    "display(len(CLUSTERERS))"
   ]
  },
  {
   "cell_type": "code",
   "execution_count": 15,
   "id": "cd588b58",
   "metadata": {
    "execution": {
     "iopub.execute_input": "2022-09-13T19:28:11.739414Z",
     "iopub.status.busy": "2022-09-13T19:28:11.739181Z",
     "iopub.status.idle": "2022-09-13T19:28:11.761744Z",
     "shell.execute_reply": "2022-09-13T19:28:11.761189Z"
    },
    "papermill": {
     "duration": 0.032957,
     "end_time": "2022-09-13T19:28:11.763142",
     "exception": false,
     "start_time": "2022-09-13T19:28:11.730185",
     "status": "completed"
    },
    "tags": []
   },
   "outputs": [
    {
     "data": {
      "text/plain": [
       "('AgglomerativeClustering #0',\n",
       " AgglomerativeClustering(affinity='precomputed', linkage='complete'))"
      ]
     },
     "metadata": {},
     "output_type": "display_data"
    },
    {
     "data": {
      "text/plain": [
       "('AgglomerativeClustering #1', AgglomerativeClustering())"
      ]
     },
     "metadata": {},
     "output_type": "display_data"
    }
   ],
   "source": [
    "_iter = iter(CLUSTERERS.items())\n",
    "display(next(_iter))\n",
    "display(next(_iter))"
   ]
  },
  {
   "cell_type": "code",
   "execution_count": 16,
   "id": "7e639782",
   "metadata": {
    "execution": {
     "iopub.execute_input": "2022-09-13T19:28:11.783978Z",
     "iopub.status.busy": "2022-09-13T19:28:11.783801Z",
     "iopub.status.idle": "2022-09-13T19:28:11.804699Z",
     "shell.execute_reply": "2022-09-13T19:28:11.804140Z"
    },
    "papermill": {
     "duration": 0.03316,
     "end_time": "2022-09-13T19:28:11.806033",
     "exception": false,
     "start_time": "2022-09-13T19:28:11.772873",
     "status": "completed"
    },
    "tags": []
   },
   "outputs": [
    {
     "data": {
      "text/plain": [
       "'AgglomerativeClustering'"
      ]
     },
     "metadata": {},
     "output_type": "display_data"
    }
   ],
   "source": [
    "clustering_method_name = method_name\n",
    "display(clustering_method_name)"
   ]
  },
  {
   "cell_type": "markdown",
   "id": "3828bec3",
   "metadata": {
    "papermill": {
     "duration": 0.008504,
     "end_time": "2022-09-13T19:28:11.827013",
     "exception": false,
     "start_time": "2022-09-13T19:28:11.818509",
     "status": "completed"
    },
    "tags": []
   },
   "source": [
    "## Output directory"
   ]
  },
  {
   "cell_type": "code",
   "execution_count": 17,
   "id": "0f10783b",
   "metadata": {
    "execution": {
     "iopub.execute_input": "2022-09-13T19:28:11.845806Z",
     "iopub.status.busy": "2022-09-13T19:28:11.845580Z",
     "iopub.status.idle": "2022-09-13T19:28:11.869290Z",
     "shell.execute_reply": "2022-09-13T19:28:11.868762Z"
    },
    "papermill": {
     "duration": 0.034183,
     "end_time": "2022-09-13T19:28:11.870678",
     "exception": false,
     "start_time": "2022-09-13T19:28:11.836495",
     "status": "completed"
    },
    "tags": []
   },
   "outputs": [
    {
     "data": {
      "text/plain": [
       "PosixPath('/opt/data/results/clustering/null_sims/runs/umap-z_score_std-projection-smultixcan-efo_partial-mashr-zscores')"
      ]
     },
     "metadata": {},
     "output_type": "display_data"
    }
   ],
   "source": [
    "# output dir for this notebook\n",
    "RESULTS_DIR = Path(\n",
    "    NULL_DIR,\n",
    "    \"runs\",\n",
    "    f\"{INPUT_SUBSET}-{INPUT_STEM}\",\n",
    ").resolve()\n",
    "RESULTS_DIR.mkdir(parents=True, exist_ok=True)\n",
    "\n",
    "display(RESULTS_DIR)"
   ]
  },
  {
   "cell_type": "markdown",
   "id": "80544686",
   "metadata": {
    "papermill": {
     "duration": 0.008261,
     "end_time": "2022-09-13T19:28:11.887689",
     "exception": false,
     "start_time": "2022-09-13T19:28:11.879428",
     "status": "completed"
    },
    "tags": []
   },
   "source": [
    "# Load input file"
   ]
  },
  {
   "cell_type": "code",
   "execution_count": 18,
   "id": "9a903efe",
   "metadata": {
    "execution": {
     "iopub.execute_input": "2022-09-13T19:28:11.905097Z",
     "iopub.status.busy": "2022-09-13T19:28:11.904921Z",
     "iopub.status.idle": "2022-09-13T19:28:11.924918Z",
     "shell.execute_reply": "2022-09-13T19:28:11.924408Z"
    },
    "papermill": {
     "duration": 0.030575,
     "end_time": "2022-09-13T19:28:11.926481",
     "exception": false,
     "start_time": "2022-09-13T19:28:11.895906",
     "status": "completed"
    },
    "tags": []
   },
   "outputs": [],
   "source": [
    "data = pd.read_pickle(input_filepath)"
   ]
  },
  {
   "cell_type": "code",
   "execution_count": 19,
   "id": "c8425bcd",
   "metadata": {
    "execution": {
     "iopub.execute_input": "2022-09-13T19:28:11.945687Z",
     "iopub.status.busy": "2022-09-13T19:28:11.945462Z",
     "iopub.status.idle": "2022-09-13T19:28:11.971109Z",
     "shell.execute_reply": "2022-09-13T19:28:11.970642Z"
    },
    "papermill": {
     "duration": 0.036813,
     "end_time": "2022-09-13T19:28:11.972536",
     "exception": false,
     "start_time": "2022-09-13T19:28:11.935723",
     "status": "completed"
    },
    "tags": []
   },
   "outputs": [
    {
     "data": {
      "text/plain": [
       "(3752, 50)"
      ]
     },
     "execution_count": 19,
     "metadata": {},
     "output_type": "execute_result"
    }
   ],
   "source": [
    "data.shape"
   ]
  },
  {
   "cell_type": "code",
   "execution_count": 20,
   "id": "9a7febac",
   "metadata": {
    "execution": {
     "iopub.execute_input": "2022-09-13T19:28:11.991926Z",
     "iopub.status.busy": "2022-09-13T19:28:11.991742Z",
     "iopub.status.idle": "2022-09-13T19:28:12.027542Z",
     "shell.execute_reply": "2022-09-13T19:28:12.027018Z"
    },
    "papermill": {
     "duration": 0.047127,
     "end_time": "2022-09-13T19:28:12.029041",
     "exception": false,
     "start_time": "2022-09-13T19:28:11.981914",
     "status": "completed"
    },
    "tags": []
   },
   "outputs": [
    {
     "data": {
      "text/html": [
       "<div>\n",
       "<style scoped>\n",
       "    .dataframe tbody tr th:only-of-type {\n",
       "        vertical-align: middle;\n",
       "    }\n",
       "\n",
       "    .dataframe tbody tr th {\n",
       "        vertical-align: top;\n",
       "    }\n",
       "\n",
       "    .dataframe thead th {\n",
       "        text-align: right;\n",
       "    }\n",
       "</style>\n",
       "<table border=\"1\" class=\"dataframe\">\n",
       "  <thead>\n",
       "    <tr style=\"text-align: right;\">\n",
       "      <th></th>\n",
       "      <th>UMAP1</th>\n",
       "      <th>UMAP2</th>\n",
       "      <th>UMAP3</th>\n",
       "      <th>UMAP4</th>\n",
       "      <th>UMAP5</th>\n",
       "      <th>UMAP6</th>\n",
       "      <th>UMAP7</th>\n",
       "      <th>UMAP8</th>\n",
       "      <th>UMAP9</th>\n",
       "      <th>UMAP10</th>\n",
       "      <th>...</th>\n",
       "      <th>UMAP41</th>\n",
       "      <th>UMAP42</th>\n",
       "      <th>UMAP43</th>\n",
       "      <th>UMAP44</th>\n",
       "      <th>UMAP45</th>\n",
       "      <th>UMAP46</th>\n",
       "      <th>UMAP47</th>\n",
       "      <th>UMAP48</th>\n",
       "      <th>UMAP49</th>\n",
       "      <th>UMAP50</th>\n",
       "    </tr>\n",
       "  </thead>\n",
       "  <tbody>\n",
       "    <tr>\n",
       "      <th>100001_raw-Food_weight</th>\n",
       "      <td>6.554080</td>\n",
       "      <td>5.281644</td>\n",
       "      <td>7.335147</td>\n",
       "      <td>4.784761</td>\n",
       "      <td>6.145352</td>\n",
       "      <td>6.611291</td>\n",
       "      <td>5.023619</td>\n",
       "      <td>4.358376</td>\n",
       "      <td>5.172933</td>\n",
       "      <td>6.731123</td>\n",
       "      <td>...</td>\n",
       "      <td>9.107204</td>\n",
       "      <td>7.465721</td>\n",
       "      <td>8.788528</td>\n",
       "      <td>9.572570</td>\n",
       "      <td>9.679030</td>\n",
       "      <td>1.911065</td>\n",
       "      <td>5.402421</td>\n",
       "      <td>5.005345</td>\n",
       "      <td>2.798605</td>\n",
       "      <td>5.674561</td>\n",
       "    </tr>\n",
       "    <tr>\n",
       "      <th>100002_raw-Energy</th>\n",
       "      <td>6.460916</td>\n",
       "      <td>5.505183</td>\n",
       "      <td>7.399599</td>\n",
       "      <td>4.883557</td>\n",
       "      <td>6.300282</td>\n",
       "      <td>6.617465</td>\n",
       "      <td>5.325193</td>\n",
       "      <td>4.325032</td>\n",
       "      <td>5.428046</td>\n",
       "      <td>7.023396</td>\n",
       "      <td>...</td>\n",
       "      <td>9.018374</td>\n",
       "      <td>7.488490</td>\n",
       "      <td>8.812325</td>\n",
       "      <td>9.568748</td>\n",
       "      <td>9.703897</td>\n",
       "      <td>1.830261</td>\n",
       "      <td>5.426361</td>\n",
       "      <td>4.880517</td>\n",
       "      <td>2.736183</td>\n",
       "      <td>5.691994</td>\n",
       "    </tr>\n",
       "    <tr>\n",
       "      <th>100003_raw-Protein</th>\n",
       "      <td>6.466805</td>\n",
       "      <td>5.458629</td>\n",
       "      <td>7.368454</td>\n",
       "      <td>4.923854</td>\n",
       "      <td>6.393869</td>\n",
       "      <td>6.636221</td>\n",
       "      <td>5.306796</td>\n",
       "      <td>4.363737</td>\n",
       "      <td>5.470543</td>\n",
       "      <td>7.056087</td>\n",
       "      <td>...</td>\n",
       "      <td>9.005486</td>\n",
       "      <td>7.504950</td>\n",
       "      <td>8.769291</td>\n",
       "      <td>9.523876</td>\n",
       "      <td>9.748778</td>\n",
       "      <td>1.860021</td>\n",
       "      <td>5.457011</td>\n",
       "      <td>4.862948</td>\n",
       "      <td>2.789229</td>\n",
       "      <td>5.680467</td>\n",
       "    </tr>\n",
       "    <tr>\n",
       "      <th>100004_raw-Fat</th>\n",
       "      <td>6.564027</td>\n",
       "      <td>5.311611</td>\n",
       "      <td>7.302944</td>\n",
       "      <td>4.877467</td>\n",
       "      <td>6.186177</td>\n",
       "      <td>6.692945</td>\n",
       "      <td>5.133474</td>\n",
       "      <td>4.370428</td>\n",
       "      <td>5.349103</td>\n",
       "      <td>6.923361</td>\n",
       "      <td>...</td>\n",
       "      <td>9.122827</td>\n",
       "      <td>7.386698</td>\n",
       "      <td>8.914087</td>\n",
       "      <td>9.622107</td>\n",
       "      <td>9.642089</td>\n",
       "      <td>1.847337</td>\n",
       "      <td>5.383461</td>\n",
       "      <td>4.924160</td>\n",
       "      <td>2.730383</td>\n",
       "      <td>5.653959</td>\n",
       "    </tr>\n",
       "    <tr>\n",
       "      <th>100005_raw-Carbohydrate</th>\n",
       "      <td>6.627501</td>\n",
       "      <td>5.250340</td>\n",
       "      <td>7.249473</td>\n",
       "      <td>4.796991</td>\n",
       "      <td>5.966265</td>\n",
       "      <td>6.625223</td>\n",
       "      <td>4.946440</td>\n",
       "      <td>4.482035</td>\n",
       "      <td>5.224523</td>\n",
       "      <td>6.724992</td>\n",
       "      <td>...</td>\n",
       "      <td>9.149892</td>\n",
       "      <td>7.443833</td>\n",
       "      <td>8.843749</td>\n",
       "      <td>9.623201</td>\n",
       "      <td>9.629378</td>\n",
       "      <td>1.898488</td>\n",
       "      <td>5.410903</td>\n",
       "      <td>4.978440</td>\n",
       "      <td>2.766205</td>\n",
       "      <td>5.652066</td>\n",
       "    </tr>\n",
       "  </tbody>\n",
       "</table>\n",
       "<p>5 rows × 50 columns</p>\n",
       "</div>"
      ],
      "text/plain": [
       "                            UMAP1     UMAP2     UMAP3     UMAP4     UMAP5  \\\n",
       "100001_raw-Food_weight   6.554080  5.281644  7.335147  4.784761  6.145352   \n",
       "100002_raw-Energy        6.460916  5.505183  7.399599  4.883557  6.300282   \n",
       "100003_raw-Protein       6.466805  5.458629  7.368454  4.923854  6.393869   \n",
       "100004_raw-Fat           6.564027  5.311611  7.302944  4.877467  6.186177   \n",
       "100005_raw-Carbohydrate  6.627501  5.250340  7.249473  4.796991  5.966265   \n",
       "\n",
       "                            UMAP6     UMAP7     UMAP8     UMAP9    UMAP10  \\\n",
       "100001_raw-Food_weight   6.611291  5.023619  4.358376  5.172933  6.731123   \n",
       "100002_raw-Energy        6.617465  5.325193  4.325032  5.428046  7.023396   \n",
       "100003_raw-Protein       6.636221  5.306796  4.363737  5.470543  7.056087   \n",
       "100004_raw-Fat           6.692945  5.133474  4.370428  5.349103  6.923361   \n",
       "100005_raw-Carbohydrate  6.625223  4.946440  4.482035  5.224523  6.724992   \n",
       "\n",
       "                         ...    UMAP41    UMAP42    UMAP43    UMAP44  \\\n",
       "100001_raw-Food_weight   ...  9.107204  7.465721  8.788528  9.572570   \n",
       "100002_raw-Energy        ...  9.018374  7.488490  8.812325  9.568748   \n",
       "100003_raw-Protein       ...  9.005486  7.504950  8.769291  9.523876   \n",
       "100004_raw-Fat           ...  9.122827  7.386698  8.914087  9.622107   \n",
       "100005_raw-Carbohydrate  ...  9.149892  7.443833  8.843749  9.623201   \n",
       "\n",
       "                           UMAP45    UMAP46    UMAP47    UMAP48    UMAP49  \\\n",
       "100001_raw-Food_weight   9.679030  1.911065  5.402421  5.005345  2.798605   \n",
       "100002_raw-Energy        9.703897  1.830261  5.426361  4.880517  2.736183   \n",
       "100003_raw-Protein       9.748778  1.860021  5.457011  4.862948  2.789229   \n",
       "100004_raw-Fat           9.642089  1.847337  5.383461  4.924160  2.730383   \n",
       "100005_raw-Carbohydrate  9.629378  1.898488  5.410903  4.978440  2.766205   \n",
       "\n",
       "                           UMAP50  \n",
       "100001_raw-Food_weight   5.674561  \n",
       "100002_raw-Energy        5.691994  \n",
       "100003_raw-Protein       5.680467  \n",
       "100004_raw-Fat           5.653959  \n",
       "100005_raw-Carbohydrate  5.652066  \n",
       "\n",
       "[5 rows x 50 columns]"
      ]
     },
     "execution_count": 20,
     "metadata": {},
     "output_type": "execute_result"
    }
   ],
   "source": [
    "data.head()"
   ]
  },
  {
   "cell_type": "code",
   "execution_count": 21,
   "id": "6d37c960",
   "metadata": {
    "execution": {
     "iopub.execute_input": "2022-09-13T19:28:12.050226Z",
     "iopub.status.busy": "2022-09-13T19:28:12.050040Z",
     "iopub.status.idle": "2022-09-13T19:28:12.081143Z",
     "shell.execute_reply": "2022-09-13T19:28:12.080659Z"
    },
    "papermill": {
     "duration": 0.045297,
     "end_time": "2022-09-13T19:28:12.084637",
     "exception": false,
     "start_time": "2022-09-13T19:28:12.039340",
     "status": "completed"
    },
    "tags": []
   },
   "outputs": [],
   "source": [
    "assert not data.isna().any().any()"
   ]
  },
  {
   "cell_type": "markdown",
   "id": "944f5879",
   "metadata": {
    "papermill": {
     "duration": 0.010592,
     "end_time": "2022-09-13T19:28:12.105147",
     "exception": false,
     "start_time": "2022-09-13T19:28:12.094555",
     "status": "completed"
    },
    "tags": []
   },
   "source": [
    "# Clustering"
   ]
  },
  {
   "cell_type": "markdown",
   "id": "9eb57569",
   "metadata": {
    "papermill": {
     "duration": 0.008881,
     "end_time": "2022-09-13T19:28:12.123399",
     "exception": false,
     "start_time": "2022-09-13T19:28:12.114518",
     "status": "completed"
    },
    "tags": []
   },
   "source": [
    "## Generate ensemble"
   ]
  },
  {
   "cell_type": "code",
   "execution_count": 22,
   "id": "bc9e7e9b",
   "metadata": {
    "execution": {
     "iopub.execute_input": "2022-09-13T19:28:12.141679Z",
     "iopub.status.busy": "2022-09-13T19:28:12.141514Z",
     "iopub.status.idle": "2022-09-13T19:28:12.163342Z",
     "shell.execute_reply": "2022-09-13T19:28:12.162848Z"
    },
    "papermill": {
     "duration": 0.032499,
     "end_time": "2022-09-13T19:28:12.164795",
     "exception": false,
     "start_time": "2022-09-13T19:28:12.132296",
     "status": "completed"
    },
    "tags": []
   },
   "outputs": [],
   "source": [
    "from sklearn.metrics import pairwise_distances\n",
    "from clustering.ensembles.utils import generate_ensemble"
   ]
  },
  {
   "cell_type": "code",
   "execution_count": 23,
   "id": "79f74deb",
   "metadata": {
    "execution": {
     "iopub.execute_input": "2022-09-13T19:28:12.184164Z",
     "iopub.status.busy": "2022-09-13T19:28:12.183844Z",
     "iopub.status.idle": "2022-09-13T19:28:12.456610Z",
     "shell.execute_reply": "2022-09-13T19:28:12.456163Z"
    },
    "papermill": {
     "duration": 0.284046,
     "end_time": "2022-09-13T19:28:12.458088",
     "exception": false,
     "start_time": "2022-09-13T19:28:12.174042",
     "status": "completed"
    },
    "tags": []
   },
   "outputs": [],
   "source": [
    "data_dist = pairwise_distances(data, metric=CLUSTERING_OPTIONS[\"AFFINITY\"])"
   ]
  },
  {
   "cell_type": "code",
   "execution_count": 24,
   "id": "86eb825d",
   "metadata": {
    "execution": {
     "iopub.execute_input": "2022-09-13T19:28:12.493405Z",
     "iopub.status.busy": "2022-09-13T19:28:12.493238Z",
     "iopub.status.idle": "2022-09-13T19:28:12.536693Z",
     "shell.execute_reply": "2022-09-13T19:28:12.536217Z"
    },
    "papermill": {
     "duration": 0.058805,
     "end_time": "2022-09-13T19:28:12.538237",
     "exception": false,
     "start_time": "2022-09-13T19:28:12.479432",
     "status": "completed"
    },
    "tags": []
   },
   "outputs": [
    {
     "data": {
      "text/plain": [
       "(3752, 3752)"
      ]
     },
     "execution_count": 24,
     "metadata": {},
     "output_type": "execute_result"
    }
   ],
   "source": [
    "data_dist.shape"
   ]
  },
  {
   "cell_type": "code",
   "execution_count": 25,
   "id": "a4c901ab",
   "metadata": {
    "execution": {
     "iopub.execute_input": "2022-09-13T19:28:12.578715Z",
     "iopub.status.busy": "2022-09-13T19:28:12.578522Z",
     "iopub.status.idle": "2022-09-13T19:28:13.121183Z",
     "shell.execute_reply": "2022-09-13T19:28:13.120595Z"
    },
    "papermill": {
     "duration": 0.562997,
     "end_time": "2022-09-13T19:28:13.123102",
     "exception": false,
     "start_time": "2022-09-13T19:28:12.560105",
     "status": "completed"
    },
    "tags": []
   },
   "outputs": [
    {
     "data": {
      "text/plain": [
       "count            14077504.0\n",
       "mean     3.0278100967407227\n",
       "std      1.1191624402999878\n",
       "min                     0.0\n",
       "25%       2.238104999065399\n",
       "50%      3.3084110021591187\n",
       "75%       3.960253953933716\n",
       "max       5.226503849029541\n",
       "dtype: object"
      ]
     },
     "execution_count": 25,
     "metadata": {},
     "output_type": "execute_result"
    }
   ],
   "source": [
    "pd.Series(data_dist.flatten()).describe().apply(str)"
   ]
  },
  {
   "cell_type": "code",
   "execution_count": 26,
   "id": "2c40884f",
   "metadata": {
    "execution": {
     "iopub.execute_input": "2022-09-13T19:28:13.151624Z",
     "iopub.status.busy": "2022-09-13T19:28:13.151008Z",
     "iopub.status.idle": "2022-09-13T20:01:53.930322Z",
     "shell.execute_reply": "2022-09-13T20:01:53.929212Z"
    },
    "papermill": {
     "duration": 2020.793094,
     "end_time": "2022-09-13T20:01:53.931902",
     "exception": false,
     "start_time": "2022-09-13T19:28:13.138808",
     "status": "completed"
    },
    "tags": []
   },
   "outputs": [
    {
     "name": "stderr",
     "output_type": "stream",
     "text": [
      "100%|██████████| 296/296 [33:40<00:00,  6.83s/it]\n"
     ]
    }
   ],
   "source": [
    "ensemble = generate_ensemble(\n",
    "    data_dist,\n",
    "    CLUSTERERS,\n",
    "    attributes=CLUSTERING_ATTRIBUTES_TO_SAVE,\n",
    "    affinity_matrix=data_dist,\n",
    ")"
   ]
  },
  {
   "cell_type": "code",
   "execution_count": 27,
   "id": "2b4fc727",
   "metadata": {
    "execution": {
     "iopub.execute_input": "2022-09-13T20:01:53.978930Z",
     "iopub.status.busy": "2022-09-13T20:01:53.978314Z",
     "iopub.status.idle": "2022-09-13T20:01:54.001931Z",
     "shell.execute_reply": "2022-09-13T20:01:54.001285Z"
    },
    "papermill": {
     "duration": 0.048355,
     "end_time": "2022-09-13T20:01:54.003672",
     "exception": false,
     "start_time": "2022-09-13T20:01:53.955317",
     "status": "completed"
    },
    "tags": []
   },
   "outputs": [
    {
     "data": {
      "text/plain": [
       "(296, 3)"
      ]
     },
     "execution_count": 27,
     "metadata": {},
     "output_type": "execute_result"
    }
   ],
   "source": [
    "# the number should be close to 295 (the number of partitions generated by k-means/spectral clustering)\n",
    "ensemble.shape"
   ]
  },
  {
   "cell_type": "code",
   "execution_count": 28,
   "id": "ab9d5285",
   "metadata": {
    "execution": {
     "iopub.execute_input": "2022-09-13T20:01:54.049883Z",
     "iopub.status.busy": "2022-09-13T20:01:54.049313Z",
     "iopub.status.idle": "2022-09-13T20:01:54.082185Z",
     "shell.execute_reply": "2022-09-13T20:01:54.081537Z"
    },
    "papermill": {
     "duration": 0.057486,
     "end_time": "2022-09-13T20:01:54.083871",
     "exception": false,
     "start_time": "2022-09-13T20:01:54.026385",
     "status": "completed"
    },
    "tags": []
   },
   "outputs": [
    {
     "data": {
      "text/html": [
       "<div>\n",
       "<style scoped>\n",
       "    .dataframe tbody tr th:only-of-type {\n",
       "        vertical-align: middle;\n",
       "    }\n",
       "\n",
       "    .dataframe tbody tr th {\n",
       "        vertical-align: top;\n",
       "    }\n",
       "\n",
       "    .dataframe thead th {\n",
       "        text-align: right;\n",
       "    }\n",
       "</style>\n",
       "<table border=\"1\" class=\"dataframe\">\n",
       "  <thead>\n",
       "    <tr style=\"text-align: right;\">\n",
       "      <th></th>\n",
       "      <th>clusterer_params</th>\n",
       "      <th>partition</th>\n",
       "      <th>n_clusters</th>\n",
       "    </tr>\n",
       "    <tr>\n",
       "      <th>clusterer_id</th>\n",
       "      <th></th>\n",
       "      <th></th>\n",
       "      <th></th>\n",
       "    </tr>\n",
       "  </thead>\n",
       "  <tbody>\n",
       "    <tr>\n",
       "      <th>AgglomerativeClustering #0</th>\n",
       "      <td>{'affinity': 'precomputed', 'compute_full_tree...</td>\n",
       "      <td>[1.0, 1.0, 1.0, 1.0, 1.0, 1.0, 1.0, 1.0, 1.0, ...</td>\n",
       "      <td>2</td>\n",
       "    </tr>\n",
       "    <tr>\n",
       "      <th>AgglomerativeClustering #1</th>\n",
       "      <td>{'affinity': 'euclidean', 'compute_full_tree':...</td>\n",
       "      <td>[0.0, 0.0, 0.0, 0.0, 0.0, 0.0, 0.0, 0.0, 0.0, ...</td>\n",
       "      <td>2</td>\n",
       "    </tr>\n",
       "    <tr>\n",
       "      <th>AgglomerativeClustering #2</th>\n",
       "      <td>{'affinity': 'precomputed', 'compute_full_tree...</td>\n",
       "      <td>[0.0, 0.0, 0.0, 0.0, 0.0, 0.0, 0.0, 0.0, 0.0, ...</td>\n",
       "      <td>2</td>\n",
       "    </tr>\n",
       "    <tr>\n",
       "      <th>AgglomerativeClustering #3</th>\n",
       "      <td>{'affinity': 'precomputed', 'compute_full_tree...</td>\n",
       "      <td>[0.0, 0.0, 0.0, 0.0, 0.0, 0.0, 0.0, 0.0, 0.0, ...</td>\n",
       "      <td>2</td>\n",
       "    </tr>\n",
       "    <tr>\n",
       "      <th>AgglomerativeClustering #4</th>\n",
       "      <td>{'affinity': 'precomputed', 'compute_full_tree...</td>\n",
       "      <td>[1.0, 1.0, 1.0, 1.0, 1.0, 1.0, 1.0, 1.0, 1.0, ...</td>\n",
       "      <td>3</td>\n",
       "    </tr>\n",
       "  </tbody>\n",
       "</table>\n",
       "</div>"
      ],
      "text/plain": [
       "                                                             clusterer_params  \\\n",
       "clusterer_id                                                                    \n",
       "AgglomerativeClustering #0  {'affinity': 'precomputed', 'compute_full_tree...   \n",
       "AgglomerativeClustering #1  {'affinity': 'euclidean', 'compute_full_tree':...   \n",
       "AgglomerativeClustering #2  {'affinity': 'precomputed', 'compute_full_tree...   \n",
       "AgglomerativeClustering #3  {'affinity': 'precomputed', 'compute_full_tree...   \n",
       "AgglomerativeClustering #4  {'affinity': 'precomputed', 'compute_full_tree...   \n",
       "\n",
       "                                                                    partition  \\\n",
       "clusterer_id                                                                    \n",
       "AgglomerativeClustering #0  [1.0, 1.0, 1.0, 1.0, 1.0, 1.0, 1.0, 1.0, 1.0, ...   \n",
       "AgglomerativeClustering #1  [0.0, 0.0, 0.0, 0.0, 0.0, 0.0, 0.0, 0.0, 0.0, ...   \n",
       "AgglomerativeClustering #2  [0.0, 0.0, 0.0, 0.0, 0.0, 0.0, 0.0, 0.0, 0.0, ...   \n",
       "AgglomerativeClustering #3  [0.0, 0.0, 0.0, 0.0, 0.0, 0.0, 0.0, 0.0, 0.0, ...   \n",
       "AgglomerativeClustering #4  [1.0, 1.0, 1.0, 1.0, 1.0, 1.0, 1.0, 1.0, 1.0, ...   \n",
       "\n",
       "                            n_clusters  \n",
       "clusterer_id                            \n",
       "AgglomerativeClustering #0           2  \n",
       "AgglomerativeClustering #1           2  \n",
       "AgglomerativeClustering #2           2  \n",
       "AgglomerativeClustering #3           2  \n",
       "AgglomerativeClustering #4           3  "
      ]
     },
     "execution_count": 28,
     "metadata": {},
     "output_type": "execute_result"
    }
   ],
   "source": [
    "ensemble.head()"
   ]
  },
  {
   "cell_type": "code",
   "execution_count": 29,
   "id": "709d0c3f",
   "metadata": {
    "execution": {
     "iopub.execute_input": "2022-09-13T20:01:54.130393Z",
     "iopub.status.busy": "2022-09-13T20:01:54.129824Z",
     "iopub.status.idle": "2022-09-13T20:01:54.155206Z",
     "shell.execute_reply": "2022-09-13T20:01:54.154537Z"
    },
    "papermill": {
     "duration": 0.050142,
     "end_time": "2022-09-13T20:01:54.156821",
     "exception": false,
     "start_time": "2022-09-13T20:01:54.106679",
     "status": "completed"
    },
    "tags": []
   },
   "outputs": [
    {
     "data": {
      "text/plain": [
       "75    4\n",
       "20    4\n",
       "22    4\n",
       "23    4\n",
       "24    4\n",
       "Name: n_clusters, dtype: int64"
      ]
     },
     "execution_count": 29,
     "metadata": {},
     "output_type": "execute_result"
    }
   ],
   "source": [
    "ensemble[\"n_clusters\"].value_counts().head()"
   ]
  },
  {
   "cell_type": "code",
   "execution_count": 30,
   "id": "b03ba404",
   "metadata": {
    "execution": {
     "iopub.execute_input": "2022-09-13T20:01:54.232188Z",
     "iopub.status.busy": "2022-09-13T20:01:54.231595Z",
     "iopub.status.idle": "2022-09-13T20:01:54.256978Z",
     "shell.execute_reply": "2022-09-13T20:01:54.256477Z"
    },
    "papermill": {
     "duration": 0.078691,
     "end_time": "2022-09-13T20:01:54.258540",
     "exception": false,
     "start_time": "2022-09-13T20:01:54.179849",
     "status": "completed"
    },
    "tags": []
   },
   "outputs": [
    {
     "data": {
      "text/plain": [
       "count    296.000000\n",
       "mean      38.500000\n",
       "std       21.396182\n",
       "min        2.000000\n",
       "25%       20.000000\n",
       "50%       38.500000\n",
       "75%       57.000000\n",
       "max       75.000000\n",
       "Name: n_clusters, dtype: float64"
      ]
     },
     "metadata": {},
     "output_type": "display_data"
    }
   ],
   "source": [
    "ensemble_stats = ensemble[\"n_clusters\"].describe()\n",
    "display(ensemble_stats)"
   ]
  },
  {
   "cell_type": "markdown",
   "id": "76310ab0",
   "metadata": {
    "papermill": {
     "duration": 0.022454,
     "end_time": "2022-09-13T20:01:54.304361",
     "exception": false,
     "start_time": "2022-09-13T20:01:54.281907",
     "status": "completed"
    },
    "tags": []
   },
   "source": [
    "## Testing"
   ]
  },
  {
   "cell_type": "code",
   "execution_count": 31,
   "id": "51b5f02f",
   "metadata": {
    "execution": {
     "iopub.execute_input": "2022-09-13T20:01:54.353079Z",
     "iopub.status.busy": "2022-09-13T20:01:54.349929Z",
     "iopub.status.idle": "2022-09-13T20:01:54.374141Z",
     "shell.execute_reply": "2022-09-13T20:01:54.373489Z"
    },
    "papermill": {
     "duration": 0.049079,
     "end_time": "2022-09-13T20:01:54.375797",
     "exception": false,
     "start_time": "2022-09-13T20:01:54.326718",
     "status": "completed"
    },
    "tags": []
   },
   "outputs": [],
   "source": [
    "assert ensemble_stats[\"min\"] > 1"
   ]
  },
  {
   "cell_type": "code",
   "execution_count": 32,
   "id": "cb389982",
   "metadata": {
    "execution": {
     "iopub.execute_input": "2022-09-13T20:01:54.423208Z",
     "iopub.status.busy": "2022-09-13T20:01:54.422555Z",
     "iopub.status.idle": "2022-09-13T20:01:54.444133Z",
     "shell.execute_reply": "2022-09-13T20:01:54.443477Z"
    },
    "papermill": {
     "duration": 0.046707,
     "end_time": "2022-09-13T20:01:54.445796",
     "exception": false,
     "start_time": "2022-09-13T20:01:54.399089",
     "status": "completed"
    },
    "tags": []
   },
   "outputs": [],
   "source": [
    "assert not ensemble[\"n_clusters\"].isna().any()"
   ]
  },
  {
   "cell_type": "code",
   "execution_count": 33,
   "id": "2f78b392",
   "metadata": {
    "execution": {
     "iopub.execute_input": "2022-09-13T20:01:54.492652Z",
     "iopub.status.busy": "2022-09-13T20:01:54.492100Z",
     "iopub.status.idle": "2022-09-13T20:01:54.513433Z",
     "shell.execute_reply": "2022-09-13T20:01:54.512786Z"
    },
    "papermill": {
     "duration": 0.046362,
     "end_time": "2022-09-13T20:01:54.515100",
     "exception": false,
     "start_time": "2022-09-13T20:01:54.468738",
     "status": "completed"
    },
    "tags": []
   },
   "outputs": [],
   "source": [
    "assert ensemble.shape[0] == len(CLUSTERERS)"
   ]
  },
  {
   "cell_type": "code",
   "execution_count": 34,
   "id": "9e9712b8",
   "metadata": {
    "execution": {
     "iopub.execute_input": "2022-09-13T20:01:54.562401Z",
     "iopub.status.busy": "2022-09-13T20:01:54.561743Z",
     "iopub.status.idle": "2022-09-13T20:01:54.610046Z",
     "shell.execute_reply": "2022-09-13T20:01:54.603981Z"
    },
    "papermill": {
     "duration": 0.07388,
     "end_time": "2022-09-13T20:01:54.612173",
     "exception": false,
     "start_time": "2022-09-13T20:01:54.538293",
     "status": "completed"
    },
    "tags": []
   },
   "outputs": [],
   "source": [
    "# all partitions have the right size\n",
    "assert np.all(\n",
    "    [part[\"partition\"].shape[0] == data.shape[0] for idx, part in ensemble.iterrows()]\n",
    ")"
   ]
  },
  {
   "cell_type": "code",
   "execution_count": 35,
   "id": "63053b05",
   "metadata": {
    "execution": {
     "iopub.execute_input": "2022-09-13T20:01:54.661408Z",
     "iopub.status.busy": "2022-09-13T20:01:54.661203Z",
     "iopub.status.idle": "2022-09-13T20:01:54.708637Z",
     "shell.execute_reply": "2022-09-13T20:01:54.708008Z"
    },
    "papermill": {
     "duration": 0.073256,
     "end_time": "2022-09-13T20:01:54.710428",
     "exception": false,
     "start_time": "2022-09-13T20:01:54.637172",
     "status": "completed"
    },
    "tags": []
   },
   "outputs": [],
   "source": [
    "# no partition has negative clusters (noisy points)\n",
    "assert not np.any([(part[\"partition\"] < 0).any() for idx, part in ensemble.iterrows()])"
   ]
  },
  {
   "cell_type": "markdown",
   "id": "362fc2a0",
   "metadata": {
    "papermill": {
     "duration": 0.022569,
     "end_time": "2022-09-13T20:01:54.755626",
     "exception": false,
     "start_time": "2022-09-13T20:01:54.733057",
     "status": "completed"
    },
    "tags": []
   },
   "source": [
    "## Add clustering quality measures"
   ]
  },
  {
   "cell_type": "code",
   "execution_count": 36,
   "id": "a315572d",
   "metadata": {
    "execution": {
     "iopub.execute_input": "2022-09-13T20:01:54.802074Z",
     "iopub.status.busy": "2022-09-13T20:01:54.801525Z",
     "iopub.status.idle": "2022-09-13T20:01:54.822520Z",
     "shell.execute_reply": "2022-09-13T20:01:54.821826Z"
    },
    "papermill": {
     "duration": 0.045965,
     "end_time": "2022-09-13T20:01:54.824157",
     "exception": false,
     "start_time": "2022-09-13T20:01:54.778192",
     "status": "completed"
    },
    "tags": []
   },
   "outputs": [],
   "source": [
    "from sklearn.metrics import calinski_harabasz_score"
   ]
  },
  {
   "cell_type": "code",
   "execution_count": 37,
   "id": "6e2fd078",
   "metadata": {
    "execution": {
     "iopub.execute_input": "2022-09-13T20:01:54.871720Z",
     "iopub.status.busy": "2022-09-13T20:01:54.871097Z",
     "iopub.status.idle": "2022-09-13T20:01:56.177103Z",
     "shell.execute_reply": "2022-09-13T20:01:56.176469Z"
    },
    "papermill": {
     "duration": 1.331486,
     "end_time": "2022-09-13T20:01:56.178862",
     "exception": false,
     "start_time": "2022-09-13T20:01:54.847376",
     "status": "completed"
    },
    "tags": []
   },
   "outputs": [],
   "source": [
    "ensemble = ensemble.assign(\n",
    "    ch_score=ensemble[\"partition\"].apply(lambda x: calinski_harabasz_score(data, x))\n",
    ")"
   ]
  },
  {
   "cell_type": "code",
   "execution_count": 38,
   "id": "39dc950a",
   "metadata": {
    "execution": {
     "iopub.execute_input": "2022-09-13T20:01:56.226973Z",
     "iopub.status.busy": "2022-09-13T20:01:56.226391Z",
     "iopub.status.idle": "2022-09-13T20:01:56.249293Z",
     "shell.execute_reply": "2022-09-13T20:01:56.248633Z"
    },
    "papermill": {
     "duration": 0.048841,
     "end_time": "2022-09-13T20:01:56.250839",
     "exception": false,
     "start_time": "2022-09-13T20:01:56.201998",
     "status": "completed"
    },
    "tags": []
   },
   "outputs": [
    {
     "data": {
      "text/plain": [
       "(296, 4)"
      ]
     },
     "execution_count": 38,
     "metadata": {},
     "output_type": "execute_result"
    }
   ],
   "source": [
    "ensemble.shape"
   ]
  },
  {
   "cell_type": "code",
   "execution_count": 39,
   "id": "e053b3f7",
   "metadata": {
    "execution": {
     "iopub.execute_input": "2022-09-13T20:01:56.299238Z",
     "iopub.status.busy": "2022-09-13T20:01:56.298838Z",
     "iopub.status.idle": "2022-09-13T20:01:56.332282Z",
     "shell.execute_reply": "2022-09-13T20:01:56.331615Z"
    },
    "papermill": {
     "duration": 0.059262,
     "end_time": "2022-09-13T20:01:56.333942",
     "exception": false,
     "start_time": "2022-09-13T20:01:56.274680",
     "status": "completed"
    },
    "tags": []
   },
   "outputs": [
    {
     "data": {
      "text/html": [
       "<div>\n",
       "<style scoped>\n",
       "    .dataframe tbody tr th:only-of-type {\n",
       "        vertical-align: middle;\n",
       "    }\n",
       "\n",
       "    .dataframe tbody tr th {\n",
       "        vertical-align: top;\n",
       "    }\n",
       "\n",
       "    .dataframe thead th {\n",
       "        text-align: right;\n",
       "    }\n",
       "</style>\n",
       "<table border=\"1\" class=\"dataframe\">\n",
       "  <thead>\n",
       "    <tr style=\"text-align: right;\">\n",
       "      <th></th>\n",
       "      <th>clusterer_params</th>\n",
       "      <th>partition</th>\n",
       "      <th>n_clusters</th>\n",
       "      <th>ch_score</th>\n",
       "    </tr>\n",
       "    <tr>\n",
       "      <th>clusterer_id</th>\n",
       "      <th></th>\n",
       "      <th></th>\n",
       "      <th></th>\n",
       "      <th></th>\n",
       "    </tr>\n",
       "  </thead>\n",
       "  <tbody>\n",
       "    <tr>\n",
       "      <th>AgglomerativeClustering #0</th>\n",
       "      <td>{'affinity': 'precomputed', 'compute_full_tree...</td>\n",
       "      <td>[1.0, 1.0, 1.0, 1.0, 1.0, 1.0, 1.0, 1.0, 1.0, ...</td>\n",
       "      <td>2</td>\n",
       "      <td>1396.028434</td>\n",
       "    </tr>\n",
       "    <tr>\n",
       "      <th>AgglomerativeClustering #1</th>\n",
       "      <td>{'affinity': 'euclidean', 'compute_full_tree':...</td>\n",
       "      <td>[0.0, 0.0, 0.0, 0.0, 0.0, 0.0, 0.0, 0.0, 0.0, ...</td>\n",
       "      <td>2</td>\n",
       "      <td>1957.685113</td>\n",
       "    </tr>\n",
       "    <tr>\n",
       "      <th>AgglomerativeClustering #2</th>\n",
       "      <td>{'affinity': 'precomputed', 'compute_full_tree...</td>\n",
       "      <td>[0.0, 0.0, 0.0, 0.0, 0.0, 0.0, 0.0, 0.0, 0.0, ...</td>\n",
       "      <td>2</td>\n",
       "      <td>0.208269</td>\n",
       "    </tr>\n",
       "    <tr>\n",
       "      <th>AgglomerativeClustering #3</th>\n",
       "      <td>{'affinity': 'precomputed', 'compute_full_tree...</td>\n",
       "      <td>[0.0, 0.0, 0.0, 0.0, 0.0, 0.0, 0.0, 0.0, 0.0, ...</td>\n",
       "      <td>2</td>\n",
       "      <td>1580.545976</td>\n",
       "    </tr>\n",
       "    <tr>\n",
       "      <th>AgglomerativeClustering #4</th>\n",
       "      <td>{'affinity': 'precomputed', 'compute_full_tree...</td>\n",
       "      <td>[1.0, 1.0, 1.0, 1.0, 1.0, 1.0, 1.0, 1.0, 1.0, ...</td>\n",
       "      <td>3</td>\n",
       "      <td>2079.636680</td>\n",
       "    </tr>\n",
       "  </tbody>\n",
       "</table>\n",
       "</div>"
      ],
      "text/plain": [
       "                                                             clusterer_params  \\\n",
       "clusterer_id                                                                    \n",
       "AgglomerativeClustering #0  {'affinity': 'precomputed', 'compute_full_tree...   \n",
       "AgglomerativeClustering #1  {'affinity': 'euclidean', 'compute_full_tree':...   \n",
       "AgglomerativeClustering #2  {'affinity': 'precomputed', 'compute_full_tree...   \n",
       "AgglomerativeClustering #3  {'affinity': 'precomputed', 'compute_full_tree...   \n",
       "AgglomerativeClustering #4  {'affinity': 'precomputed', 'compute_full_tree...   \n",
       "\n",
       "                                                                    partition  \\\n",
       "clusterer_id                                                                    \n",
       "AgglomerativeClustering #0  [1.0, 1.0, 1.0, 1.0, 1.0, 1.0, 1.0, 1.0, 1.0, ...   \n",
       "AgglomerativeClustering #1  [0.0, 0.0, 0.0, 0.0, 0.0, 0.0, 0.0, 0.0, 0.0, ...   \n",
       "AgglomerativeClustering #2  [0.0, 0.0, 0.0, 0.0, 0.0, 0.0, 0.0, 0.0, 0.0, ...   \n",
       "AgglomerativeClustering #3  [0.0, 0.0, 0.0, 0.0, 0.0, 0.0, 0.0, 0.0, 0.0, ...   \n",
       "AgglomerativeClustering #4  [1.0, 1.0, 1.0, 1.0, 1.0, 1.0, 1.0, 1.0, 1.0, ...   \n",
       "\n",
       "                            n_clusters     ch_score  \n",
       "clusterer_id                                         \n",
       "AgglomerativeClustering #0           2  1396.028434  \n",
       "AgglomerativeClustering #1           2  1957.685113  \n",
       "AgglomerativeClustering #2           2     0.208269  \n",
       "AgglomerativeClustering #3           2  1580.545976  \n",
       "AgglomerativeClustering #4           3  2079.636680  "
      ]
     },
     "execution_count": 39,
     "metadata": {},
     "output_type": "execute_result"
    }
   ],
   "source": [
    "ensemble.head()"
   ]
  },
  {
   "cell_type": "markdown",
   "id": "79245f64",
   "metadata": {
    "papermill": {
     "duration": 0.023592,
     "end_time": "2022-09-13T20:01:56.381709",
     "exception": false,
     "start_time": "2022-09-13T20:01:56.358117",
     "status": "completed"
    },
    "tags": []
   },
   "source": [
    "## Save"
   ]
  },
  {
   "cell_type": "code",
   "execution_count": 40,
   "id": "c3d7d186",
   "metadata": {
    "execution": {
     "iopub.execute_input": "2022-09-13T20:01:56.430317Z",
     "iopub.status.busy": "2022-09-13T20:01:56.429762Z",
     "iopub.status.idle": "2022-09-13T20:01:56.452688Z",
     "shell.execute_reply": "2022-09-13T20:01:56.452190Z"
    },
    "papermill": {
     "duration": 0.048768,
     "end_time": "2022-09-13T20:01:56.454267",
     "exception": false,
     "start_time": "2022-09-13T20:01:56.405499",
     "status": "completed"
    },
    "tags": []
   },
   "outputs": [
    {
     "data": {
      "text/plain": [
       "PosixPath('/opt/data/results/clustering/null_sims/runs/umap-z_score_std-projection-smultixcan-efo_partial-mashr-zscores/AgglomerativeClustering-AFFINITY_euclidean-K_MAX_75-K_MIN_2.pkl')"
      ]
     },
     "metadata": {},
     "output_type": "display_data"
    }
   ],
   "source": [
    "output_filename = Path(\n",
    "    RESULTS_DIR,\n",
    "    generate_result_set_name(\n",
    "        {k: v for k, v in CLUSTERING_OPTIONS.items() if k != \"LINKAGE\"},\n",
    "        prefix=f\"{clustering_method_name}-\",\n",
    "        suffix=\".pkl\",\n",
    "    ),\n",
    ").resolve()\n",
    "display(output_filename)"
   ]
  },
  {
   "cell_type": "code",
   "execution_count": 41,
   "id": "34b6c6a9",
   "metadata": {
    "execution": {
     "iopub.execute_input": "2022-09-13T20:01:56.501953Z",
     "iopub.status.busy": "2022-09-13T20:01:56.501287Z",
     "iopub.status.idle": "2022-09-13T20:01:56.533820Z",
     "shell.execute_reply": "2022-09-13T20:01:56.533143Z"
    },
    "papermill": {
     "duration": 0.058525,
     "end_time": "2022-09-13T20:01:56.535718",
     "exception": false,
     "start_time": "2022-09-13T20:01:56.477193",
     "status": "completed"
    },
    "tags": []
   },
   "outputs": [],
   "source": [
    "ensemble.to_pickle(output_filename)"
   ]
  },
  {
   "cell_type": "markdown",
   "id": "70cc7287",
   "metadata": {
    "papermill": {
     "duration": 0.022853,
     "end_time": "2022-09-13T20:01:56.582463",
     "exception": false,
     "start_time": "2022-09-13T20:01:56.559610",
     "status": "completed"
    },
    "tags": []
   },
   "source": [
    "# Cluster quality"
   ]
  },
  {
   "cell_type": "code",
   "execution_count": 42,
   "id": "92ccc7b6",
   "metadata": {
    "execution": {
     "iopub.execute_input": "2022-09-13T20:01:56.630391Z",
     "iopub.status.busy": "2022-09-13T20:01:56.630181Z",
     "iopub.status.idle": "2022-09-13T20:01:56.664003Z",
     "shell.execute_reply": "2022-09-13T20:01:56.663061Z"
    },
    "papermill": {
     "duration": 0.060174,
     "end_time": "2022-09-13T20:01:56.665751",
     "exception": false,
     "start_time": "2022-09-13T20:01:56.605577",
     "status": "completed"
    },
    "tags": []
   },
   "outputs": [
    {
     "data": {
      "text/html": [
       "<div>\n",
       "<style scoped>\n",
       "    .dataframe tbody tr th:only-of-type {\n",
       "        vertical-align: middle;\n",
       "    }\n",
       "\n",
       "    .dataframe tbody tr th {\n",
       "        vertical-align: top;\n",
       "    }\n",
       "\n",
       "    .dataframe thead th {\n",
       "        text-align: right;\n",
       "    }\n",
       "</style>\n",
       "<table border=\"1\" class=\"dataframe\">\n",
       "  <thead>\n",
       "    <tr style=\"text-align: right;\">\n",
       "      <th></th>\n",
       "      <th>ch_score</th>\n",
       "    </tr>\n",
       "    <tr>\n",
       "      <th>n_clusters</th>\n",
       "      <th></th>\n",
       "    </tr>\n",
       "  </thead>\n",
       "  <tbody>\n",
       "    <tr>\n",
       "      <th>2</th>\n",
       "      <td>1233.616948</td>\n",
       "    </tr>\n",
       "    <tr>\n",
       "      <th>3</th>\n",
       "      <td>1606.243797</td>\n",
       "    </tr>\n",
       "    <tr>\n",
       "      <th>4</th>\n",
       "      <td>1868.826293</td>\n",
       "    </tr>\n",
       "    <tr>\n",
       "      <th>5</th>\n",
       "      <td>2008.795452</td>\n",
       "    </tr>\n",
       "    <tr>\n",
       "      <th>6</th>\n",
       "      <td>2023.960802</td>\n",
       "    </tr>\n",
       "    <tr>\n",
       "      <th>7</th>\n",
       "      <td>2152.383507</td>\n",
       "    </tr>\n",
       "    <tr>\n",
       "      <th>8</th>\n",
       "      <td>2097.444314</td>\n",
       "    </tr>\n",
       "    <tr>\n",
       "      <th>9</th>\n",
       "      <td>2106.522084</td>\n",
       "    </tr>\n",
       "    <tr>\n",
       "      <th>10</th>\n",
       "      <td>2092.617938</td>\n",
       "    </tr>\n",
       "    <tr>\n",
       "      <th>11</th>\n",
       "      <td>2177.512419</td>\n",
       "    </tr>\n",
       "    <tr>\n",
       "      <th>12</th>\n",
       "      <td>2227.954603</td>\n",
       "    </tr>\n",
       "    <tr>\n",
       "      <th>13</th>\n",
       "      <td>2291.496334</td>\n",
       "    </tr>\n",
       "    <tr>\n",
       "      <th>14</th>\n",
       "      <td>2322.495229</td>\n",
       "    </tr>\n",
       "    <tr>\n",
       "      <th>15</th>\n",
       "      <td>2311.336043</td>\n",
       "    </tr>\n",
       "    <tr>\n",
       "      <th>16</th>\n",
       "      <td>2352.029602</td>\n",
       "    </tr>\n",
       "    <tr>\n",
       "      <th>17</th>\n",
       "      <td>2373.994958</td>\n",
       "    </tr>\n",
       "    <tr>\n",
       "      <th>18</th>\n",
       "      <td>2414.364788</td>\n",
       "    </tr>\n",
       "    <tr>\n",
       "      <th>19</th>\n",
       "      <td>2514.293057</td>\n",
       "    </tr>\n",
       "    <tr>\n",
       "      <th>20</th>\n",
       "      <td>2604.526846</td>\n",
       "    </tr>\n",
       "    <tr>\n",
       "      <th>21</th>\n",
       "      <td>2595.559094</td>\n",
       "    </tr>\n",
       "    <tr>\n",
       "      <th>22</th>\n",
       "      <td>2625.422655</td>\n",
       "    </tr>\n",
       "    <tr>\n",
       "      <th>23</th>\n",
       "      <td>2665.049918</td>\n",
       "    </tr>\n",
       "    <tr>\n",
       "      <th>24</th>\n",
       "      <td>2699.223550</td>\n",
       "    </tr>\n",
       "    <tr>\n",
       "      <th>25</th>\n",
       "      <td>2707.659088</td>\n",
       "    </tr>\n",
       "    <tr>\n",
       "      <th>26</th>\n",
       "      <td>2744.117290</td>\n",
       "    </tr>\n",
       "    <tr>\n",
       "      <th>27</th>\n",
       "      <td>2759.056910</td>\n",
       "    </tr>\n",
       "    <tr>\n",
       "      <th>28</th>\n",
       "      <td>2742.009987</td>\n",
       "    </tr>\n",
       "    <tr>\n",
       "      <th>29</th>\n",
       "      <td>2748.974082</td>\n",
       "    </tr>\n",
       "    <tr>\n",
       "      <th>30</th>\n",
       "      <td>2771.532710</td>\n",
       "    </tr>\n",
       "    <tr>\n",
       "      <th>31</th>\n",
       "      <td>2761.895222</td>\n",
       "    </tr>\n",
       "    <tr>\n",
       "      <th>32</th>\n",
       "      <td>2781.075656</td>\n",
       "    </tr>\n",
       "    <tr>\n",
       "      <th>33</th>\n",
       "      <td>2766.854293</td>\n",
       "    </tr>\n",
       "    <tr>\n",
       "      <th>34</th>\n",
       "      <td>2738.867575</td>\n",
       "    </tr>\n",
       "    <tr>\n",
       "      <th>35</th>\n",
       "      <td>2750.966711</td>\n",
       "    </tr>\n",
       "    <tr>\n",
       "      <th>36</th>\n",
       "      <td>2765.811635</td>\n",
       "    </tr>\n",
       "    <tr>\n",
       "      <th>37</th>\n",
       "      <td>2749.561720</td>\n",
       "    </tr>\n",
       "    <tr>\n",
       "      <th>38</th>\n",
       "      <td>2732.748956</td>\n",
       "    </tr>\n",
       "    <tr>\n",
       "      <th>39</th>\n",
       "      <td>2703.211617</td>\n",
       "    </tr>\n",
       "    <tr>\n",
       "      <th>40</th>\n",
       "      <td>2705.473303</td>\n",
       "    </tr>\n",
       "    <tr>\n",
       "      <th>41</th>\n",
       "      <td>2689.627162</td>\n",
       "    </tr>\n",
       "    <tr>\n",
       "      <th>42</th>\n",
       "      <td>2701.506873</td>\n",
       "    </tr>\n",
       "    <tr>\n",
       "      <th>43</th>\n",
       "      <td>2701.346142</td>\n",
       "    </tr>\n",
       "    <tr>\n",
       "      <th>44</th>\n",
       "      <td>2712.573765</td>\n",
       "    </tr>\n",
       "    <tr>\n",
       "      <th>45</th>\n",
       "      <td>2704.956513</td>\n",
       "    </tr>\n",
       "    <tr>\n",
       "      <th>46</th>\n",
       "      <td>2720.195924</td>\n",
       "    </tr>\n",
       "    <tr>\n",
       "      <th>47</th>\n",
       "      <td>2714.722933</td>\n",
       "    </tr>\n",
       "    <tr>\n",
       "      <th>48</th>\n",
       "      <td>2712.728865</td>\n",
       "    </tr>\n",
       "    <tr>\n",
       "      <th>49</th>\n",
       "      <td>2695.293016</td>\n",
       "    </tr>\n",
       "    <tr>\n",
       "      <th>50</th>\n",
       "      <td>2694.511120</td>\n",
       "    </tr>\n",
       "    <tr>\n",
       "      <th>51</th>\n",
       "      <td>2675.458591</td>\n",
       "    </tr>\n",
       "    <tr>\n",
       "      <th>52</th>\n",
       "      <td>2676.387084</td>\n",
       "    </tr>\n",
       "    <tr>\n",
       "      <th>53</th>\n",
       "      <td>2657.751018</td>\n",
       "    </tr>\n",
       "    <tr>\n",
       "      <th>54</th>\n",
       "      <td>2657.268949</td>\n",
       "    </tr>\n",
       "    <tr>\n",
       "      <th>55</th>\n",
       "      <td>2629.409786</td>\n",
       "    </tr>\n",
       "    <tr>\n",
       "      <th>56</th>\n",
       "      <td>2624.744490</td>\n",
       "    </tr>\n",
       "    <tr>\n",
       "      <th>57</th>\n",
       "      <td>2601.018565</td>\n",
       "    </tr>\n",
       "    <tr>\n",
       "      <th>58</th>\n",
       "      <td>2564.062120</td>\n",
       "    </tr>\n",
       "    <tr>\n",
       "      <th>59</th>\n",
       "      <td>2542.699194</td>\n",
       "    </tr>\n",
       "    <tr>\n",
       "      <th>60</th>\n",
       "      <td>2531.729459</td>\n",
       "    </tr>\n",
       "    <tr>\n",
       "      <th>61</th>\n",
       "      <td>2525.685656</td>\n",
       "    </tr>\n",
       "    <tr>\n",
       "      <th>62</th>\n",
       "      <td>2499.600077</td>\n",
       "    </tr>\n",
       "    <tr>\n",
       "      <th>63</th>\n",
       "      <td>2494.353891</td>\n",
       "    </tr>\n",
       "    <tr>\n",
       "      <th>64</th>\n",
       "      <td>2488.718655</td>\n",
       "    </tr>\n",
       "    <tr>\n",
       "      <th>65</th>\n",
       "      <td>2480.112115</td>\n",
       "    </tr>\n",
       "    <tr>\n",
       "      <th>66</th>\n",
       "      <td>2472.423660</td>\n",
       "    </tr>\n",
       "    <tr>\n",
       "      <th>67</th>\n",
       "      <td>2461.072821</td>\n",
       "    </tr>\n",
       "    <tr>\n",
       "      <th>68</th>\n",
       "      <td>2437.453505</td>\n",
       "    </tr>\n",
       "    <tr>\n",
       "      <th>69</th>\n",
       "      <td>2415.002626</td>\n",
       "    </tr>\n",
       "    <tr>\n",
       "      <th>70</th>\n",
       "      <td>2391.407118</td>\n",
       "    </tr>\n",
       "    <tr>\n",
       "      <th>71</th>\n",
       "      <td>2376.013617</td>\n",
       "    </tr>\n",
       "    <tr>\n",
       "      <th>72</th>\n",
       "      <td>2354.308392</td>\n",
       "    </tr>\n",
       "    <tr>\n",
       "      <th>73</th>\n",
       "      <td>2327.968796</td>\n",
       "    </tr>\n",
       "    <tr>\n",
       "      <th>74</th>\n",
       "      <td>2305.691823</td>\n",
       "    </tr>\n",
       "    <tr>\n",
       "      <th>75</th>\n",
       "      <td>2296.240244</td>\n",
       "    </tr>\n",
       "  </tbody>\n",
       "</table>\n",
       "</div>"
      ],
      "text/plain": [
       "               ch_score\n",
       "n_clusters             \n",
       "2           1233.616948\n",
       "3           1606.243797\n",
       "4           1868.826293\n",
       "5           2008.795452\n",
       "6           2023.960802\n",
       "7           2152.383507\n",
       "8           2097.444314\n",
       "9           2106.522084\n",
       "10          2092.617938\n",
       "11          2177.512419\n",
       "12          2227.954603\n",
       "13          2291.496334\n",
       "14          2322.495229\n",
       "15          2311.336043\n",
       "16          2352.029602\n",
       "17          2373.994958\n",
       "18          2414.364788\n",
       "19          2514.293057\n",
       "20          2604.526846\n",
       "21          2595.559094\n",
       "22          2625.422655\n",
       "23          2665.049918\n",
       "24          2699.223550\n",
       "25          2707.659088\n",
       "26          2744.117290\n",
       "27          2759.056910\n",
       "28          2742.009987\n",
       "29          2748.974082\n",
       "30          2771.532710\n",
       "31          2761.895222\n",
       "32          2781.075656\n",
       "33          2766.854293\n",
       "34          2738.867575\n",
       "35          2750.966711\n",
       "36          2765.811635\n",
       "37          2749.561720\n",
       "38          2732.748956\n",
       "39          2703.211617\n",
       "40          2705.473303\n",
       "41          2689.627162\n",
       "42          2701.506873\n",
       "43          2701.346142\n",
       "44          2712.573765\n",
       "45          2704.956513\n",
       "46          2720.195924\n",
       "47          2714.722933\n",
       "48          2712.728865\n",
       "49          2695.293016\n",
       "50          2694.511120\n",
       "51          2675.458591\n",
       "52          2676.387084\n",
       "53          2657.751018\n",
       "54          2657.268949\n",
       "55          2629.409786\n",
       "56          2624.744490\n",
       "57          2601.018565\n",
       "58          2564.062120\n",
       "59          2542.699194\n",
       "60          2531.729459\n",
       "61          2525.685656\n",
       "62          2499.600077\n",
       "63          2494.353891\n",
       "64          2488.718655\n",
       "65          2480.112115\n",
       "66          2472.423660\n",
       "67          2461.072821\n",
       "68          2437.453505\n",
       "69          2415.002626\n",
       "70          2391.407118\n",
       "71          2376.013617\n",
       "72          2354.308392\n",
       "73          2327.968796\n",
       "74          2305.691823\n",
       "75          2296.240244"
      ]
     },
     "metadata": {},
     "output_type": "display_data"
    }
   ],
   "source": [
    "with pd.option_context(\"display.max_rows\", None, \"display.max_columns\", None):\n",
    "    _df = ensemble.groupby([\"n_clusters\"]).mean()\n",
    "    display(_df)"
   ]
  },
  {
   "cell_type": "code",
   "execution_count": 43,
   "id": "19e282a7",
   "metadata": {
    "execution": {
     "iopub.execute_input": "2022-09-13T20:01:56.721943Z",
     "iopub.status.busy": "2022-09-13T20:01:56.720723Z",
     "iopub.status.idle": "2022-09-13T20:02:01.418412Z",
     "shell.execute_reply": "2022-09-13T20:02:01.417853Z"
    },
    "papermill": {
     "duration": 4.725351,
     "end_time": "2022-09-13T20:02:01.420649",
     "exception": false,
     "start_time": "2022-09-13T20:01:56.695298",
     "status": "completed"
    },
    "tags": []
   },
   "outputs": [
    {
     "data": {
      "image/png": "[encoded data removed]",
      "text/plain": [
       "<Figure size 1008x432 with 1 Axes>"
      ]
     },
     "metadata": {},
     "output_type": "display_data"
    }
   ],
   "source": [
    "with sns.plotting_context(\"talk\", font_scale=0.75), sns.axes_style(\n",
    "    \"whitegrid\", {\"grid.linestyle\": \"--\"}\n",
    "):\n",
    "    fig = plt.figure(figsize=(14, 6))\n",
    "    ax = sns.pointplot(data=ensemble, x=\"n_clusters\", y=\"ch_score\")\n",
    "    ax.set_ylabel(\"Calinski-Harabasz index\")\n",
    "    ax.set_xlabel(\"Number of clusters ($k$)\")\n",
    "    ax.set_xticklabels(ax.get_xticklabels(), rotation=45)\n",
    "    plt.grid(True)\n",
    "    plt.tight_layout()"
   ]
  },
  {
   "cell_type": "markdown",
   "id": "41db2122",
   "metadata": {
    "papermill": {
     "duration": 0.024816,
     "end_time": "2022-09-13T20:02:01.470740",
     "exception": false,
     "start_time": "2022-09-13T20:02:01.445924",
     "status": "completed"
    },
    "tags": []
   },
   "source": [
    "# Stability"
   ]
  },
  {
   "cell_type": "markdown",
   "id": "ab383419",
   "metadata": {
    "papermill": {
     "duration": 0.02464,
     "end_time": "2022-09-13T20:02:01.520250",
     "exception": false,
     "start_time": "2022-09-13T20:02:01.495610",
     "status": "completed"
    },
    "tags": []
   },
   "source": [
    "## Group ensemble by n_clusters"
   ]
  },
  {
   "cell_type": "code",
   "execution_count": 44,
   "id": "2eb6e423",
   "metadata": {
    "execution": {
     "iopub.execute_input": "2022-09-13T20:02:01.570353Z",
     "iopub.status.busy": "2022-09-13T20:02:01.570142Z",
     "iopub.status.idle": "2022-09-13T20:02:01.613341Z",
     "shell.execute_reply": "2022-09-13T20:02:01.612698Z"
    },
    "papermill": {
     "duration": 0.070256,
     "end_time": "2022-09-13T20:02:01.615048",
     "exception": false,
     "start_time": "2022-09-13T20:02:01.544792",
     "status": "completed"
    },
    "tags": []
   },
   "outputs": [],
   "source": [
    "parts = ensemble.groupby(\"n_clusters\").apply(\n",
    "    lambda x: np.concatenate(x[\"partition\"].apply(lambda x: x.reshape(1, -1)), axis=0)\n",
    ")"
   ]
  },
  {
   "cell_type": "code",
   "execution_count": 45,
   "id": "39b8e705",
   "metadata": {
    "execution": {
     "iopub.execute_input": "2022-09-13T20:02:01.671796Z",
     "iopub.status.busy": "2022-09-13T20:02:01.671589Z",
     "iopub.status.idle": "2022-09-13T20:02:01.707722Z",
     "shell.execute_reply": "2022-09-13T20:02:01.707181Z"
    },
    "papermill": {
     "duration": 0.069034,
     "end_time": "2022-09-13T20:02:01.709249",
     "exception": false,
     "start_time": "2022-09-13T20:02:01.640215",
     "status": "completed"
    },
    "tags": []
   },
   "outputs": [
    {
     "data": {
      "text/plain": [
       "n_clusters\n",
       "2    [[1.0, 1.0, 1.0, 1.0, 1.0, 1.0, 1.0, 1.0, 1.0,...\n",
       "3    [[1.0, 1.0, 1.0, 1.0, 1.0, 1.0, 1.0, 1.0, 1.0,...\n",
       "4    [[0.0, 0.0, 0.0, 0.0, 0.0, 0.0, 0.0, 0.0, 0.0,...\n",
       "5    [[2.0, 2.0, 2.0, 2.0, 2.0, 2.0, 2.0, 2.0, 2.0,...\n",
       "6    [[2.0, 2.0, 2.0, 2.0, 2.0, 2.0, 2.0, 2.0, 2.0,...\n",
       "dtype: object"
      ]
     },
     "execution_count": 45,
     "metadata": {},
     "output_type": "execute_result"
    }
   ],
   "source": [
    "parts.head()"
   ]
  },
  {
   "cell_type": "code",
   "execution_count": 46,
   "id": "e98606f7",
   "metadata": {
    "execution": {
     "iopub.execute_input": "2022-09-13T20:02:01.760879Z",
     "iopub.status.busy": "2022-09-13T20:02:01.760314Z",
     "iopub.status.idle": "2022-09-13T20:02:01.783206Z",
     "shell.execute_reply": "2022-09-13T20:02:01.782579Z"
    },
    "papermill": {
     "duration": 0.050642,
     "end_time": "2022-09-13T20:02:01.784920",
     "exception": false,
     "start_time": "2022-09-13T20:02:01.734278",
     "status": "completed"
    },
    "tags": []
   },
   "outputs": [],
   "source": [
    "assert np.all(\n",
    "    [\n",
    "        parts.loc[k].shape == (len(CLUSTERING_OPTIONS[\"LINKAGE\"]), data.shape[0])\n",
    "        for k in parts.index\n",
    "    ]\n",
    ")"
   ]
  },
  {
   "cell_type": "markdown",
   "id": "a151ade5",
   "metadata": {
    "papermill": {
     "duration": 0.024861,
     "end_time": "2022-09-13T20:02:01.835257",
     "exception": false,
     "start_time": "2022-09-13T20:02:01.810396",
     "status": "completed"
    },
    "tags": []
   },
   "source": [
    "## Compute stability"
   ]
  },
  {
   "cell_type": "code",
   "execution_count": 47,
   "id": "123e8ca2",
   "metadata": {
    "execution": {
     "iopub.execute_input": "2022-09-13T20:02:01.886447Z",
     "iopub.status.busy": "2022-09-13T20:02:01.885872Z",
     "iopub.status.idle": "2022-09-13T20:02:01.908274Z",
     "shell.execute_reply": "2022-09-13T20:02:01.907549Z"
    },
    "papermill": {
     "duration": 0.04971,
     "end_time": "2022-09-13T20:02:01.909913",
     "exception": false,
     "start_time": "2022-09-13T20:02:01.860203",
     "status": "completed"
    },
    "tags": []
   },
   "outputs": [],
   "source": [
    "from sklearn.metrics import adjusted_rand_score as ari\n",
    "from scipy.spatial.distance import pdist"
   ]
  },
  {
   "cell_type": "code",
   "execution_count": 48,
   "id": "50621970",
   "metadata": {
    "execution": {
     "iopub.execute_input": "2022-09-13T20:02:01.961259Z",
     "iopub.status.busy": "2022-09-13T20:02:01.960701Z",
     "iopub.status.idle": "2022-09-13T20:02:02.510931Z",
     "shell.execute_reply": "2022-09-13T20:02:02.510277Z"
    },
    "papermill": {
     "duration": 0.57799,
     "end_time": "2022-09-13T20:02:02.512734",
     "exception": false,
     "start_time": "2022-09-13T20:02:01.934744",
     "status": "completed"
    },
    "tags": []
   },
   "outputs": [],
   "source": [
    "parts_ari = pd.Series(\n",
    "    {k: pdist(parts.loc[k], metric=ari) for k in parts.index}, name=\"k\"\n",
    ")"
   ]
  },
  {
   "cell_type": "code",
   "execution_count": 49,
   "id": "e50b6456",
   "metadata": {
    "execution": {
     "iopub.execute_input": "2022-09-13T20:02:02.581598Z",
     "iopub.status.busy": "2022-09-13T20:02:02.581389Z",
     "iopub.status.idle": "2022-09-13T20:02:02.606589Z",
     "shell.execute_reply": "2022-09-13T20:02:02.606005Z"
    },
    "papermill": {
     "duration": 0.07015,
     "end_time": "2022-09-13T20:02:02.608135",
     "exception": false,
     "start_time": "2022-09-13T20:02:02.537985",
     "status": "completed"
    },
    "tags": []
   },
   "outputs": [
    {
     "data": {
      "text/plain": [
       "7     0.364870\n",
       "6     0.358172\n",
       "5     0.345385\n",
       "8     0.338628\n",
       "9     0.334421\n",
       "22    0.325451\n",
       "25    0.325318\n",
       "21    0.324930\n",
       "24    0.322379\n",
       "26    0.321834\n",
       "27    0.320870\n",
       "20    0.320089\n",
       "23    0.317254\n",
       "28    0.315458\n",
       "29    0.314220\n",
       "Name: k, dtype: float64"
      ]
     },
     "metadata": {},
     "output_type": "display_data"
    }
   ],
   "source": [
    "parts_ari_stability = parts_ari.apply(lambda x: x.mean())\n",
    "display(parts_ari_stability.sort_values(ascending=False).head(15))"
   ]
  },
  {
   "cell_type": "code",
   "execution_count": 50,
   "id": "cc12f649",
   "metadata": {
    "execution": {
     "iopub.execute_input": "2022-09-13T20:02:02.661260Z",
     "iopub.status.busy": "2022-09-13T20:02:02.660838Z",
     "iopub.status.idle": "2022-09-13T20:02:02.685408Z",
     "shell.execute_reply": "2022-09-13T20:02:02.684870Z"
    },
    "papermill": {
     "duration": 0.055575,
     "end_time": "2022-09-13T20:02:02.686992",
     "exception": false,
     "start_time": "2022-09-13T20:02:02.631417",
     "status": "completed"
    },
    "tags": []
   },
   "outputs": [],
   "source": [
    "parts_ari_df = pd.DataFrame.from_records(parts_ari.tolist()).set_index(\n",
    "    parts_ari.index.copy()\n",
    ")"
   ]
  },
  {
   "cell_type": "code",
   "execution_count": 51,
   "id": "c3279251",
   "metadata": {
    "execution": {
     "iopub.execute_input": "2022-09-13T20:02:02.740784Z",
     "iopub.status.busy": "2022-09-13T20:02:02.740189Z",
     "iopub.status.idle": "2022-09-13T20:02:02.762390Z",
     "shell.execute_reply": "2022-09-13T20:02:02.761894Z"
    },
    "papermill": {
     "duration": 0.049964,
     "end_time": "2022-09-13T20:02:02.763906",
     "exception": false,
     "start_time": "2022-09-13T20:02:02.713942",
     "status": "completed"
    },
    "tags": []
   },
   "outputs": [
    {
     "data": {
      "text/plain": [
       "(74, 6)"
      ]
     },
     "execution_count": 51,
     "metadata": {},
     "output_type": "execute_result"
    }
   ],
   "source": [
    "parts_ari_df.shape"
   ]
  },
  {
   "cell_type": "code",
   "execution_count": 52,
   "id": "e1e2f5e6",
   "metadata": {
    "execution": {
     "iopub.execute_input": "2022-09-13T20:02:02.816308Z",
     "iopub.status.busy": "2022-09-13T20:02:02.815758Z",
     "iopub.status.idle": "2022-09-13T20:02:02.837418Z",
     "shell.execute_reply": "2022-09-13T20:02:02.836786Z"
    },
    "papermill": {
     "duration": 0.04956,
     "end_time": "2022-09-13T20:02:02.839049",
     "exception": false,
     "start_time": "2022-09-13T20:02:02.789489",
     "status": "completed"
    },
    "tags": []
   },
   "outputs": [],
   "source": [
    "assert (\n",
    "    int(\n",
    "        (len(CLUSTERING_OPTIONS[\"LINKAGE\"]) * (len(CLUSTERING_OPTIONS[\"LINKAGE\"]) - 1))\n",
    "        / 2\n",
    "    )\n",
    "    == parts_ari_df.shape[1]\n",
    ")"
   ]
  },
  {
   "cell_type": "code",
   "execution_count": 53,
   "id": "9d8d058f",
   "metadata": {
    "execution": {
     "iopub.execute_input": "2022-09-13T20:02:02.891290Z",
     "iopub.status.busy": "2022-09-13T20:02:02.890882Z",
     "iopub.status.idle": "2022-09-13T20:02:02.918425Z",
     "shell.execute_reply": "2022-09-13T20:02:02.917926Z"
    },
    "papermill": {
     "duration": 0.055499,
     "end_time": "2022-09-13T20:02:02.920007",
     "exception": false,
     "start_time": "2022-09-13T20:02:02.864508",
     "status": "completed"
    },
    "tags": []
   },
   "outputs": [
    {
     "data": {
      "text/html": [
       "<div>\n",
       "<style scoped>\n",
       "    .dataframe tbody tr th:only-of-type {\n",
       "        vertical-align: middle;\n",
       "    }\n",
       "\n",
       "    .dataframe tbody tr th {\n",
       "        vertical-align: top;\n",
       "    }\n",
       "\n",
       "    .dataframe thead th {\n",
       "        text-align: right;\n",
       "    }\n",
       "</style>\n",
       "<table border=\"1\" class=\"dataframe\">\n",
       "  <thead>\n",
       "    <tr style=\"text-align: right;\">\n",
       "      <th></th>\n",
       "      <th>0</th>\n",
       "      <th>1</th>\n",
       "      <th>2</th>\n",
       "      <th>3</th>\n",
       "      <th>4</th>\n",
       "      <th>5</th>\n",
       "    </tr>\n",
       "  </thead>\n",
       "  <tbody>\n",
       "    <tr>\n",
       "      <th>2</th>\n",
       "      <td>0.218607</td>\n",
       "      <td>0.012125</td>\n",
       "      <td>-0.012448</td>\n",
       "      <td>-0.002940</td>\n",
       "      <td>0.262135</td>\n",
       "      <td>-0.006031</td>\n",
       "    </tr>\n",
       "    <tr>\n",
       "      <th>3</th>\n",
       "      <td>0.537559</td>\n",
       "      <td>0.000860</td>\n",
       "      <td>0.387719</td>\n",
       "      <td>0.001697</td>\n",
       "      <td>0.337414</td>\n",
       "      <td>-0.003021</td>\n",
       "    </tr>\n",
       "    <tr>\n",
       "      <th>4</th>\n",
       "      <td>0.718549</td>\n",
       "      <td>-0.002563</td>\n",
       "      <td>0.547873</td>\n",
       "      <td>-0.001708</td>\n",
       "      <td>0.400185</td>\n",
       "      <td>-0.004951</td>\n",
       "    </tr>\n",
       "    <tr>\n",
       "      <th>5</th>\n",
       "      <td>0.660800</td>\n",
       "      <td>-0.000923</td>\n",
       "      <td>0.814225</td>\n",
       "      <td>0.000456</td>\n",
       "      <td>0.598485</td>\n",
       "      <td>-0.000730</td>\n",
       "    </tr>\n",
       "    <tr>\n",
       "      <th>6</th>\n",
       "      <td>0.678693</td>\n",
       "      <td>-0.001772</td>\n",
       "      <td>0.829668</td>\n",
       "      <td>-0.000586</td>\n",
       "      <td>0.644369</td>\n",
       "      <td>-0.001341</td>\n",
       "    </tr>\n",
       "  </tbody>\n",
       "</table>\n",
       "</div>"
      ],
      "text/plain": [
       "          0         1         2         3         4         5\n",
       "2  0.218607  0.012125 -0.012448 -0.002940  0.262135 -0.006031\n",
       "3  0.537559  0.000860  0.387719  0.001697  0.337414 -0.003021\n",
       "4  0.718549 -0.002563  0.547873 -0.001708  0.400185 -0.004951\n",
       "5  0.660800 -0.000923  0.814225  0.000456  0.598485 -0.000730\n",
       "6  0.678693 -0.001772  0.829668 -0.000586  0.644369 -0.001341"
      ]
     },
     "execution_count": 53,
     "metadata": {},
     "output_type": "execute_result"
    }
   ],
   "source": [
    "parts_ari_df.head()"
   ]
  },
  {
   "cell_type": "markdown",
   "id": "0a7645f2",
   "metadata": {
    "papermill": {
     "duration": 0.025442,
     "end_time": "2022-09-13T20:02:02.971394",
     "exception": false,
     "start_time": "2022-09-13T20:02:02.945952",
     "status": "completed"
    },
    "tags": []
   },
   "source": [
    "## Save"
   ]
  },
  {
   "cell_type": "code",
   "execution_count": 54,
   "id": "0d5a3b1c",
   "metadata": {
    "execution": {
     "iopub.execute_input": "2022-09-13T20:02:03.024111Z",
     "iopub.status.busy": "2022-09-13T20:02:03.023900Z",
     "iopub.status.idle": "2022-09-13T20:02:03.046444Z",
     "shell.execute_reply": "2022-09-13T20:02:03.045962Z"
    },
    "papermill": {
     "duration": 0.050911,
     "end_time": "2022-09-13T20:02:03.047958",
     "exception": false,
     "start_time": "2022-09-13T20:02:02.997047",
     "status": "completed"
    },
    "tags": []
   },
   "outputs": [
    {
     "data": {
      "text/plain": [
       "PosixPath('/opt/data/results/clustering/null_sims/runs/umap-z_score_std-projection-smultixcan-efo_partial-mashr-zscores/AgglomerativeClustering-stability-AFFINITY_euclidean-K_MAX_75-K_MIN_2-LINKAGE_complete_ward_single_average.pkl')"
      ]
     },
     "metadata": {},
     "output_type": "display_data"
    }
   ],
   "source": [
    "output_filename = Path(\n",
    "    RESULTS_DIR,\n",
    "    generate_result_set_name(\n",
    "        CLUSTERING_OPTIONS,\n",
    "        prefix=f\"{clustering_method_name}-stability-\",\n",
    "        suffix=\".pkl\",\n",
    "    ),\n",
    ").resolve()\n",
    "display(output_filename)"
   ]
  },
  {
   "cell_type": "code",
   "execution_count": 55,
   "id": "1d4e3563",
   "metadata": {
    "execution": {
     "iopub.execute_input": "2022-09-13T20:02:03.100771Z",
     "iopub.status.busy": "2022-09-13T20:02:03.100564Z",
     "iopub.status.idle": "2022-09-13T20:02:03.122906Z",
     "shell.execute_reply": "2022-09-13T20:02:03.122053Z"
    },
    "papermill": {
     "duration": 0.050468,
     "end_time": "2022-09-13T20:02:03.124554",
     "exception": false,
     "start_time": "2022-09-13T20:02:03.074086",
     "status": "completed"
    },
    "tags": []
   },
   "outputs": [],
   "source": [
    "parts_ari_df.to_pickle(output_filename)"
   ]
  },
  {
   "cell_type": "markdown",
   "id": "37426bf6",
   "metadata": {
    "papermill": {
     "duration": 0.025574,
     "end_time": "2022-09-13T20:02:03.175844",
     "exception": false,
     "start_time": "2022-09-13T20:02:03.150270",
     "status": "completed"
    },
    "tags": []
   },
   "source": [
    "## Stability plot"
   ]
  },
  {
   "cell_type": "code",
   "execution_count": 56,
   "id": "145548e9",
   "metadata": {
    "execution": {
     "iopub.execute_input": "2022-09-13T20:02:03.227962Z",
     "iopub.status.busy": "2022-09-13T20:02:03.227428Z",
     "iopub.status.idle": "2022-09-13T20:02:03.250799Z",
     "shell.execute_reply": "2022-09-13T20:02:03.250165Z"
    },
    "papermill": {
     "duration": 0.051332,
     "end_time": "2022-09-13T20:02:03.252478",
     "exception": false,
     "start_time": "2022-09-13T20:02:03.201146",
     "status": "completed"
    },
    "tags": []
   },
   "outputs": [],
   "source": [
    "parts_ari_df_plot = (\n",
    "    parts_ari_df.stack()\n",
    "    .reset_index()\n",
    "    .rename(columns={\"level_0\": \"k\", \"level_1\": \"idx\", 0: \"ari\"})\n",
    ")"
   ]
  },
  {
   "cell_type": "code",
   "execution_count": 57,
   "id": "abb63903",
   "metadata": {
    "execution": {
     "iopub.execute_input": "2022-09-13T20:02:03.305637Z",
     "iopub.status.busy": "2022-09-13T20:02:03.305435Z",
     "iopub.status.idle": "2022-09-13T20:02:03.328547Z",
     "shell.execute_reply": "2022-09-13T20:02:03.328035Z"
    },
    "papermill": {
     "duration": 0.051554,
     "end_time": "2022-09-13T20:02:03.330162",
     "exception": false,
     "start_time": "2022-09-13T20:02:03.278608",
     "status": "completed"
    },
    "tags": []
   },
   "outputs": [
    {
     "data": {
      "text/plain": [
       "k        int64\n",
       "idx      int64\n",
       "ari    float64\n",
       "dtype: object"
      ]
     },
     "execution_count": 57,
     "metadata": {},
     "output_type": "execute_result"
    }
   ],
   "source": [
    "parts_ari_df_plot.dtypes"
   ]
  },
  {
   "cell_type": "code",
   "execution_count": 58,
   "id": "e1c79fa9",
   "metadata": {
    "execution": {
     "iopub.execute_input": "2022-09-13T20:02:03.383879Z",
     "iopub.status.busy": "2022-09-13T20:02:03.383195Z",
     "iopub.status.idle": "2022-09-13T20:02:03.408475Z",
     "shell.execute_reply": "2022-09-13T20:02:03.407970Z"
    },
    "papermill": {
     "duration": 0.053462,
     "end_time": "2022-09-13T20:02:03.409934",
     "exception": false,
     "start_time": "2022-09-13T20:02:03.356472",
     "status": "completed"
    },
    "tags": []
   },
   "outputs": [
    {
     "data": {
      "text/html": [
       "<div>\n",
       "<style scoped>\n",
       "    .dataframe tbody tr th:only-of-type {\n",
       "        vertical-align: middle;\n",
       "    }\n",
       "\n",
       "    .dataframe tbody tr th {\n",
       "        vertical-align: top;\n",
       "    }\n",
       "\n",
       "    .dataframe thead th {\n",
       "        text-align: right;\n",
       "    }\n",
       "</style>\n",
       "<table border=\"1\" class=\"dataframe\">\n",
       "  <thead>\n",
       "    <tr style=\"text-align: right;\">\n",
       "      <th></th>\n",
       "      <th>k</th>\n",
       "      <th>idx</th>\n",
       "      <th>ari</th>\n",
       "    </tr>\n",
       "  </thead>\n",
       "  <tbody>\n",
       "    <tr>\n",
       "      <th>0</th>\n",
       "      <td>2</td>\n",
       "      <td>0</td>\n",
       "      <td>0.218607</td>\n",
       "    </tr>\n",
       "    <tr>\n",
       "      <th>1</th>\n",
       "      <td>2</td>\n",
       "      <td>1</td>\n",
       "      <td>0.012125</td>\n",
       "    </tr>\n",
       "    <tr>\n",
       "      <th>2</th>\n",
       "      <td>2</td>\n",
       "      <td>2</td>\n",
       "      <td>-0.012448</td>\n",
       "    </tr>\n",
       "    <tr>\n",
       "      <th>3</th>\n",
       "      <td>2</td>\n",
       "      <td>3</td>\n",
       "      <td>-0.002940</td>\n",
       "    </tr>\n",
       "    <tr>\n",
       "      <th>4</th>\n",
       "      <td>2</td>\n",
       "      <td>4</td>\n",
       "      <td>0.262135</td>\n",
       "    </tr>\n",
       "  </tbody>\n",
       "</table>\n",
       "</div>"
      ],
      "text/plain": [
       "   k  idx       ari\n",
       "0  2    0  0.218607\n",
       "1  2    1  0.012125\n",
       "2  2    2 -0.012448\n",
       "3  2    3 -0.002940\n",
       "4  2    4  0.262135"
      ]
     },
     "execution_count": 58,
     "metadata": {},
     "output_type": "execute_result"
    }
   ],
   "source": [
    "parts_ari_df_plot.head()"
   ]
  },
  {
   "cell_type": "code",
   "execution_count": 59,
   "id": "2dbdce45",
   "metadata": {
    "execution": {
     "iopub.execute_input": "2022-09-13T20:02:03.464977Z",
     "iopub.status.busy": "2022-09-13T20:02:03.464409Z",
     "iopub.status.idle": "2022-09-13T20:02:07.894361Z",
     "shell.execute_reply": "2022-09-13T20:02:07.893799Z"
    },
    "papermill": {
     "duration": 4.458685,
     "end_time": "2022-09-13T20:02:07.896022",
     "exception": false,
     "start_time": "2022-09-13T20:02:03.437337",
     "status": "completed"
    },
    "tags": []
   },
   "outputs": [
    {
     "data": {
      "image/png": "[encoded data removed]",
      "text/plain": [
       "<Figure size 1008x432 with 1 Axes>"
      ]
     },
     "metadata": {},
     "output_type": "display_data"
    }
   ],
   "source": [
    "# with sns.axes_style('whitegrid', {'grid.linestyle': '--'}):\n",
    "with sns.plotting_context(\"talk\", font_scale=0.75), sns.axes_style(\n",
    "    \"whitegrid\", {\"grid.linestyle\": \"--\"}\n",
    "):\n",
    "    fig = plt.figure(figsize=(14, 6))\n",
    "    ax = sns.pointplot(data=parts_ari_df_plot, x=\"k\", y=\"ari\")\n",
    "    ax.set_ylabel(\"Averange ARI\")\n",
    "    ax.set_xlabel(\"Number of clusters ($k$)\")\n",
    "    ax.set_xticklabels(ax.get_xticklabels(), rotation=45)\n",
    "    #     ax.set_ylim(0.0, 1.0)\n",
    "    #     ax.set_xlim(CLUSTERING_OPTIONS['K_MIN'], CLUSTERING_OPTIONS['K_MAX'])\n",
    "    plt.grid(True)\n",
    "    plt.tight_layout()"
   ]
  },
  {
   "cell_type": "code",
   "execution_count": null,
   "id": "91cac478",
   "metadata": {
    "papermill": {
     "duration": 0.027355,
     "end_time": "2022-09-13T20:02:07.952328",
     "exception": false,
     "start_time": "2022-09-13T20:02:07.924973",
     "status": "completed"
    },
    "tags": []
   },
   "outputs": [],
   "source": []
  }
 ],
 "metadata": {
  "jupytext": {
   "cell_metadata_filter": "all,-execution,-papermill,-trusted",
   "formats": "ipynb,py//py:percent"
  },
  "kernelspec": {
   "display_name": "Python 3 (ipykernel)",
   "language": "python",
   "name": "python3"
  },
  "language_info": {
   "codemirror_mode": {
    "name": "ipython",
    "version": 3
   },
   "file_extension": ".py",
   "mimetype": "text/x-python",
   "name": "python",
   "nbconvert_exporter": "python",
   "pygments_lexer": "ipython3",
   "version": "3.8.13"
  },
  "papermill": {
   "default_parameters": {},
   "duration": 2039.549077,
   "end_time": "2022-09-13T20:02:08.400075",
   "environment_variables": {},
   "exception": null,
   "input_path": "nbs/13.1_cluster_analysis_null/13_02-hc-umap.ipynb",
   "output_path": "nbs/13.1_cluster_analysis_null/13_02-hc-umap.run.ipynb",
   "parameters": {},
   "start_time": "2022-09-13T19:28:08.850998",
   "version": "2.2.2"
  },
  "toc-autonumbering": true,
  "toc-showcode": false,
  "toc-showmarkdowntxt": false,
  "toc-showtags": false
 },
 "nbformat": 4,
 "nbformat_minor": 5
}
