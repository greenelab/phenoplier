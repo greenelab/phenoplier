{
 "cells": [
  {
   "cell_type": "markdown",
   "id": "ae9a0e5f",
   "metadata": {
    "papermill": {
     "duration": 0.01459,
     "end_time": "2022-11-26T05:12:41.481960",
     "exception": false,
     "start_time": "2022-11-26T05:12:41.467370",
     "status": "completed"
    },
    "tags": []
   },
   "source": [
    "# Description"
   ]
  },
  {
   "cell_type": "markdown",
   "id": "32ba4343",
   "metadata": {
    "papermill": {
     "duration": 0.012205,
     "end_time": "2022-11-26T05:12:41.506706",
     "exception": false,
     "start_time": "2022-11-26T05:12:41.494501",
     "status": "completed"
    },
    "tags": []
   },
   "source": [
    "Runs hierarchical clustering on the umap version of the data."
   ]
  },
  {
   "cell_type": "markdown",
   "id": "28cf7bb6",
   "metadata": {
    "papermill": {
     "duration": 0.012523,
     "end_time": "2022-11-26T05:12:41.532552",
     "exception": false,
     "start_time": "2022-11-26T05:12:41.520029",
     "status": "completed"
    },
    "tags": []
   },
   "source": [
    "# Environment variables"
   ]
  },
  {
   "cell_type": "code",
   "execution_count": 1,
   "id": "b5a5994e",
   "metadata": {
    "execution": {
     "iopub.execute_input": "2022-11-26T05:12:41.555634Z",
     "iopub.status.busy": "2022-11-26T05:12:41.555367Z",
     "iopub.status.idle": "2022-11-26T05:12:41.566767Z",
     "shell.execute_reply": "2022-11-26T05:12:41.566362Z"
    },
    "papermill": {
     "duration": 0.022714,
     "end_time": "2022-11-26T05:12:41.567689",
     "exception": false,
     "start_time": "2022-11-26T05:12:41.544975",
     "status": "completed"
    },
    "tags": []
   },
   "outputs": [
    {
     "data": {
      "text/plain": [
       "10"
      ]
     },
     "metadata": {},
     "output_type": "display_data"
    }
   ],
   "source": [
    "from IPython.display import display\n",
    "\n",
    "import conf\n",
    "\n",
    "N_JOBS = conf.GENERAL[\"N_JOBS\"]\n",
    "display(N_JOBS)"
   ]
  },
  {
   "cell_type": "code",
   "execution_count": 2,
   "id": "bc49fa4a",
   "metadata": {
    "execution": {
     "iopub.execute_input": "2022-11-26T05:12:41.582649Z",
     "iopub.status.busy": "2022-11-26T05:12:41.582464Z",
     "iopub.status.idle": "2022-11-26T05:12:41.586817Z",
     "shell.execute_reply": "2022-11-26T05:12:41.586446Z"
    },
    "papermill": {
     "duration": 0.012302,
     "end_time": "2022-11-26T05:12:41.587651",
     "exception": false,
     "start_time": "2022-11-26T05:12:41.575349",
     "status": "completed"
    },
    "tags": []
   },
   "outputs": [
    {
     "name": "stdout",
     "output_type": "stream",
     "text": [
      "env: MKL_NUM_THREADS=10\n",
      "env: OPEN_BLAS_NUM_THREADS=10\n",
      "env: NUMEXPR_NUM_THREADS=10\n",
      "env: OMP_NUM_THREADS=10\n"
     ]
    }
   ],
   "source": [
    "%env MKL_NUM_THREADS=$N_JOBS\n",
    "%env OPEN_BLAS_NUM_THREADS=$N_JOBS\n",
    "%env NUMEXPR_NUM_THREADS=$N_JOBS\n",
    "%env OMP_NUM_THREADS=$N_JOBS"
   ]
  },
  {
   "cell_type": "markdown",
   "id": "8d826e82",
   "metadata": {
    "papermill": {
     "duration": 0.009167,
     "end_time": "2022-11-26T05:12:41.604798",
     "exception": false,
     "start_time": "2022-11-26T05:12:41.595631",
     "status": "completed"
    },
    "tags": []
   },
   "source": [
    "# Modules loading"
   ]
  },
  {
   "cell_type": "code",
   "execution_count": 3,
   "id": "71babd34",
   "metadata": {
    "execution": {
     "iopub.execute_input": "2022-11-26T05:12:41.619344Z",
     "iopub.status.busy": "2022-11-26T05:12:41.619150Z",
     "iopub.status.idle": "2022-11-26T05:12:41.628092Z",
     "shell.execute_reply": "2022-11-26T05:12:41.627712Z"
    },
    "papermill": {
     "duration": 0.017074,
     "end_time": "2022-11-26T05:12:41.628980",
     "exception": false,
     "start_time": "2022-11-26T05:12:41.611906",
     "status": "completed"
    },
    "tags": []
   },
   "outputs": [],
   "source": [
    "%load_ext autoreload\n",
    "%autoreload 2"
   ]
  },
  {
   "cell_type": "code",
   "execution_count": 4,
   "id": "1c2cf43a",
   "metadata": {
    "execution": {
     "iopub.execute_input": "2022-11-26T05:12:41.643491Z",
     "iopub.status.busy": "2022-11-26T05:12:41.643322Z",
     "iopub.status.idle": "2022-11-26T05:12:42.098371Z",
     "shell.execute_reply": "2022-11-26T05:12:42.097958Z"
    },
    "papermill": {
     "duration": 0.46365,
     "end_time": "2022-11-26T05:12:42.099849",
     "exception": false,
     "start_time": "2022-11-26T05:12:41.636199",
     "status": "completed"
    },
    "tags": []
   },
   "outputs": [],
   "source": [
    "from pathlib import Path\n",
    "\n",
    "import numpy as np\n",
    "import pandas as pd\n",
    "import matplotlib.pyplot as plt\n",
    "import seaborn as sns\n",
    "\n",
    "from utils import generate_result_set_name"
   ]
  },
  {
   "cell_type": "markdown",
   "id": "be975805",
   "metadata": {
    "papermill": {
     "duration": 0.009548,
     "end_time": "2022-11-26T05:12:42.138814",
     "exception": false,
     "start_time": "2022-11-26T05:12:42.129266",
     "status": "completed"
    },
    "tags": []
   },
   "source": [
    "# Settings"
   ]
  },
  {
   "cell_type": "code",
   "execution_count": 5,
   "id": "714b28bc",
   "metadata": {
    "execution": {
     "iopub.execute_input": "2022-11-26T05:12:42.155268Z",
     "iopub.status.busy": "2022-11-26T05:12:42.154960Z",
     "iopub.status.idle": "2022-11-26T05:12:42.173442Z",
     "shell.execute_reply": "2022-11-26T05:12:42.172962Z"
    },
    "papermill": {
     "duration": 0.0272,
     "end_time": "2022-11-26T05:12:42.174368",
     "exception": false,
     "start_time": "2022-11-26T05:12:42.147168",
     "status": "completed"
    },
    "tags": []
   },
   "outputs": [],
   "source": [
    "np.random.seed(0)"
   ]
  },
  {
   "cell_type": "code",
   "execution_count": 6,
   "id": "c3ed316d-1a52-4e4c-948b-b921dfefbf97",
   "metadata": {
    "execution": {
     "iopub.execute_input": "2022-11-26T05:12:42.188868Z",
     "iopub.status.busy": "2022-11-26T05:12:42.188587Z",
     "iopub.status.idle": "2022-11-26T05:12:42.207682Z",
     "shell.execute_reply": "2022-11-26T05:12:42.207215Z"
    },
    "papermill": {
     "duration": 0.027108,
     "end_time": "2022-11-26T05:12:42.208619",
     "exception": false,
     "start_time": "2022-11-26T05:12:42.181511",
     "status": "completed"
    },
    "tags": []
   },
   "outputs": [],
   "source": [
    "NULL_DIR = conf.RESULTS[\"CLUSTERING_NULL_DIR\"] / \"shuffle_genes\""
   ]
  },
  {
   "cell_type": "markdown",
   "id": "1b987f0e",
   "metadata": {
    "papermill": {
     "duration": 0.006563,
     "end_time": "2022-11-26T05:12:42.222640",
     "exception": false,
     "start_time": "2022-11-26T05:12:42.216077",
     "status": "completed"
    },
    "tags": []
   },
   "source": [
    "## Input data"
   ]
  },
  {
   "cell_type": "code",
   "execution_count": 7,
   "id": "e5b7587a",
   "metadata": {
    "execution": {
     "iopub.execute_input": "2022-11-26T05:12:42.237285Z",
     "iopub.status.busy": "2022-11-26T05:12:42.237020Z",
     "iopub.status.idle": "2022-11-26T05:12:42.256793Z",
     "shell.execute_reply": "2022-11-26T05:12:42.256302Z"
    },
    "papermill": {
     "duration": 0.028357,
     "end_time": "2022-11-26T05:12:42.257664",
     "exception": false,
     "start_time": "2022-11-26T05:12:42.229307",
     "status": "completed"
    },
    "tags": []
   },
   "outputs": [],
   "source": [
    "INPUT_SUBSET = \"umap\""
   ]
  },
  {
   "cell_type": "code",
   "execution_count": 8,
   "id": "af75ae7c",
   "metadata": {
    "execution": {
     "iopub.execute_input": "2022-11-26T05:12:42.272368Z",
     "iopub.status.busy": "2022-11-26T05:12:42.271985Z",
     "iopub.status.idle": "2022-11-26T05:12:42.291366Z",
     "shell.execute_reply": "2022-11-26T05:12:42.290906Z"
    },
    "papermill": {
     "duration": 0.027783,
     "end_time": "2022-11-26T05:12:42.292336",
     "exception": false,
     "start_time": "2022-11-26T05:12:42.264553",
     "status": "completed"
    },
    "tags": []
   },
   "outputs": [],
   "source": [
    "INPUT_STEM = \"z_score_std-projection-smultixcan-efo_partial-mashr-zscores\""
   ]
  },
  {
   "cell_type": "code",
   "execution_count": 9,
   "id": "ae865775",
   "metadata": {
    "execution": {
     "iopub.execute_input": "2022-11-26T05:12:42.307845Z",
     "iopub.status.busy": "2022-11-26T05:12:42.307316Z",
     "iopub.status.idle": "2022-11-26T05:12:42.326975Z",
     "shell.execute_reply": "2022-11-26T05:12:42.326527Z"
    },
    "papermill": {
     "duration": 0.028318,
     "end_time": "2022-11-26T05:12:42.327893",
     "exception": false,
     "start_time": "2022-11-26T05:12:42.299575",
     "status": "completed"
    },
    "tags": []
   },
   "outputs": [],
   "source": [
    "# parameters of the dimentionality reduction steps\n",
    "DR_OPTIONS = {\n",
    "    \"n_components\": 50,\n",
    "    \"metric\": \"euclidean\",\n",
    "    \"n_neighbors\": 15,\n",
    "    \"random_state\": 0,\n",
    "}"
   ]
  },
  {
   "cell_type": "code",
   "execution_count": 10,
   "id": "067ad49d",
   "metadata": {
    "execution": {
     "iopub.execute_input": "2022-11-26T05:12:42.342728Z",
     "iopub.status.busy": "2022-11-26T05:12:42.342394Z",
     "iopub.status.idle": "2022-11-26T05:12:42.364701Z",
     "shell.execute_reply": "2022-11-26T05:12:42.364213Z"
    },
    "papermill": {
     "duration": 0.030385,
     "end_time": "2022-11-26T05:12:42.365551",
     "exception": false,
     "start_time": "2022-11-26T05:12:42.335166",
     "status": "completed"
    },
    "tags": []
   },
   "outputs": [
    {
     "data": {
      "text/plain": [
       "PosixPath('/opt/data/results/clustering/null_sims/shuffle_genes/data_transformations/umap/umap-z_score_std-projection-smultixcan-efo_partial-mashr-zscores-metric_euclidean-n_components_50-n_neighbors_15-random_state_0.pkl')"
      ]
     },
     "metadata": {},
     "output_type": "display_data"
    },
    {
     "data": {
      "text/plain": [
       "'umap-z_score_std-projection-smultixcan-efo_partial-mashr-zscores-metric_euclidean-n_components_50-n_neighbors_15-random_state_0'"
      ]
     },
     "metadata": {},
     "output_type": "display_data"
    }
   ],
   "source": [
    "input_filepath = Path(\n",
    "    NULL_DIR,\n",
    "    \"data_transformations\",\n",
    "    INPUT_SUBSET,\n",
    "    generate_result_set_name(\n",
    "        DR_OPTIONS, prefix=f\"{INPUT_SUBSET}-{INPUT_STEM}-\", suffix=\".pkl\"\n",
    "    ),\n",
    ").resolve()\n",
    "display(input_filepath)\n",
    "\n",
    "assert input_filepath.exists(), \"Input file does not exist\"\n",
    "\n",
    "input_filepath_stem = input_filepath.stem\n",
    "display(input_filepath_stem)"
   ]
  },
  {
   "cell_type": "markdown",
   "id": "16e6388b",
   "metadata": {
    "papermill": {
     "duration": 0.006696,
     "end_time": "2022-11-26T05:12:42.379721",
     "exception": false,
     "start_time": "2022-11-26T05:12:42.373025",
     "status": "completed"
    },
    "tags": []
   },
   "source": [
    "## Clustering"
   ]
  },
  {
   "cell_type": "code",
   "execution_count": 11,
   "id": "fb4c687e",
   "metadata": {
    "execution": {
     "iopub.execute_input": "2022-11-26T05:12:42.394457Z",
     "iopub.status.busy": "2022-11-26T05:12:42.393991Z",
     "iopub.status.idle": "2022-11-26T05:12:42.483284Z",
     "shell.execute_reply": "2022-11-26T05:12:42.482886Z"
    },
    "papermill": {
     "duration": 0.098476,
     "end_time": "2022-11-26T05:12:42.484896",
     "exception": false,
     "start_time": "2022-11-26T05:12:42.386420",
     "status": "completed"
    },
    "tags": []
   },
   "outputs": [],
   "source": [
    "from sklearn.cluster import AgglomerativeClustering"
   ]
  },
  {
   "cell_type": "code",
   "execution_count": 12,
   "id": "ee5d7198",
   "metadata": {
    "execution": {
     "iopub.execute_input": "2022-11-26T05:12:42.512917Z",
     "iopub.status.busy": "2022-11-26T05:12:42.512712Z",
     "iopub.status.idle": "2022-11-26T05:12:42.525262Z",
     "shell.execute_reply": "2022-11-26T05:12:42.524912Z"
    },
    "papermill": {
     "duration": 0.027909,
     "end_time": "2022-11-26T05:12:42.526693",
     "exception": false,
     "start_time": "2022-11-26T05:12:42.498784",
     "status": "completed"
    },
    "tags": []
   },
   "outputs": [],
   "source": [
    "CLUSTERING_ATTRIBUTES_TO_SAVE = [\"n_clusters\"]"
   ]
  },
  {
   "cell_type": "code",
   "execution_count": 13,
   "id": "52020ab9",
   "metadata": {
    "execution": {
     "iopub.execute_input": "2022-11-26T05:12:42.555516Z",
     "iopub.status.busy": "2022-11-26T05:12:42.555344Z",
     "iopub.status.idle": "2022-11-26T05:12:42.569036Z",
     "shell.execute_reply": "2022-11-26T05:12:42.568694Z"
    },
    "papermill": {
     "duration": 0.028921,
     "end_time": "2022-11-26T05:12:42.570302",
     "exception": false,
     "start_time": "2022-11-26T05:12:42.541381",
     "status": "completed"
    },
    "tags": []
   },
   "outputs": [
    {
     "data": {
      "text/plain": [
       "{'K_MIN': 2,\n",
       " 'K_MAX': 75,\n",
       " 'LINKAGE': {'average', 'complete', 'single', 'ward'},\n",
       " 'AFFINITY': 'euclidean'}"
      ]
     },
     "metadata": {},
     "output_type": "display_data"
    }
   ],
   "source": [
    "CLUSTERING_OPTIONS = {}\n",
    "\n",
    "CLUSTERING_OPTIONS[\"K_MIN\"] = 2\n",
    "CLUSTERING_OPTIONS[\"K_MAX\"] = 75  # sqrt(3749) + some more to get closer to 295\n",
    "CLUSTERING_OPTIONS[\"LINKAGE\"] = {\"ward\", \"complete\", \"average\", \"single\"}\n",
    "CLUSTERING_OPTIONS[\"AFFINITY\"] = \"euclidean\"\n",
    "\n",
    "display(CLUSTERING_OPTIONS)"
   ]
  },
  {
   "cell_type": "code",
   "execution_count": 14,
   "id": "2f4915e8",
   "metadata": {
    "execution": {
     "iopub.execute_input": "2022-11-26T05:12:42.598360Z",
     "iopub.status.busy": "2022-11-26T05:12:42.598092Z",
     "iopub.status.idle": "2022-11-26T05:12:42.621619Z",
     "shell.execute_reply": "2022-11-26T05:12:42.621020Z"
    },
    "papermill": {
     "duration": 0.039528,
     "end_time": "2022-11-26T05:12:42.623696",
     "exception": false,
     "start_time": "2022-11-26T05:12:42.584168",
     "status": "completed"
    },
    "tags": []
   },
   "outputs": [],
   "source": [
    "CLUSTERERS = {}\n",
    "\n",
    "idx = 0\n",
    "\n",
    "for k in range(CLUSTERING_OPTIONS[\"K_MIN\"], CLUSTERING_OPTIONS[\"K_MAX\"] + 1):\n",
    "    for linkage in CLUSTERING_OPTIONS[\"LINKAGE\"]:\n",
    "        if linkage == \"ward\":\n",
    "            affinity = \"euclidean\"\n",
    "        else:\n",
    "            affinity = \"precomputed\"\n",
    "\n",
    "        clus = AgglomerativeClustering(\n",
    "            n_clusters=k,\n",
    "            affinity=affinity,\n",
    "            linkage=linkage,\n",
    "        )\n",
    "\n",
    "        method_name = type(clus).__name__\n",
    "        CLUSTERERS[f\"{method_name} #{idx}\"] = clus\n",
    "\n",
    "        idx = idx + 1"
   ]
  },
  {
   "cell_type": "code",
   "execution_count": 15,
   "id": "a09cc90b",
   "metadata": {
    "execution": {
     "iopub.execute_input": "2022-11-26T05:12:42.654349Z",
     "iopub.status.busy": "2022-11-26T05:12:42.653653Z",
     "iopub.status.idle": "2022-11-26T05:12:42.675300Z",
     "shell.execute_reply": "2022-11-26T05:12:42.674855Z"
    },
    "papermill": {
     "duration": 0.036716,
     "end_time": "2022-11-26T05:12:42.676605",
     "exception": false,
     "start_time": "2022-11-26T05:12:42.639889",
     "status": "completed"
    },
    "tags": []
   },
   "outputs": [
    {
     "data": {
      "text/plain": [
       "296"
      ]
     },
     "metadata": {},
     "output_type": "display_data"
    }
   ],
   "source": [
    "display(len(CLUSTERERS))"
   ]
  },
  {
   "cell_type": "code",
   "execution_count": 16,
   "id": "cd588b58",
   "metadata": {
    "execution": {
     "iopub.execute_input": "2022-11-26T05:12:42.704466Z",
     "iopub.status.busy": "2022-11-26T05:12:42.704071Z",
     "iopub.status.idle": "2022-11-26T05:12:42.726275Z",
     "shell.execute_reply": "2022-11-26T05:12:42.725816Z"
    },
    "papermill": {
     "duration": 0.037777,
     "end_time": "2022-11-26T05:12:42.727561",
     "exception": false,
     "start_time": "2022-11-26T05:12:42.689784",
     "status": "completed"
    },
    "tags": []
   },
   "outputs": [
    {
     "data": {
      "text/plain": [
       "('AgglomerativeClustering #0', AgglomerativeClustering())"
      ]
     },
     "metadata": {},
     "output_type": "display_data"
    },
    {
     "data": {
      "text/plain": [
       "('AgglomerativeClustering #1',\n",
       " AgglomerativeClustering(affinity='precomputed', linkage='single'))"
      ]
     },
     "metadata": {},
     "output_type": "display_data"
    }
   ],
   "source": [
    "_iter = iter(CLUSTERERS.items())\n",
    "display(next(_iter))\n",
    "display(next(_iter))"
   ]
  },
  {
   "cell_type": "code",
   "execution_count": 17,
   "id": "7e639782",
   "metadata": {
    "execution": {
     "iopub.execute_input": "2022-11-26T05:12:42.755209Z",
     "iopub.status.busy": "2022-11-26T05:12:42.754866Z",
     "iopub.status.idle": "2022-11-26T05:12:42.775291Z",
     "shell.execute_reply": "2022-11-26T05:12:42.774857Z"
    },
    "papermill": {
     "duration": 0.035751,
     "end_time": "2022-11-26T05:12:42.776594",
     "exception": false,
     "start_time": "2022-11-26T05:12:42.740843",
     "status": "completed"
    },
    "tags": []
   },
   "outputs": [
    {
     "data": {
      "text/plain": [
       "'AgglomerativeClustering'"
      ]
     },
     "metadata": {},
     "output_type": "display_data"
    }
   ],
   "source": [
    "clustering_method_name = method_name\n",
    "display(clustering_method_name)"
   ]
  },
  {
   "cell_type": "markdown",
   "id": "3828bec3",
   "metadata": {
    "papermill": {
     "duration": 0.013365,
     "end_time": "2022-11-26T05:12:42.804050",
     "exception": false,
     "start_time": "2022-11-26T05:12:42.790685",
     "status": "completed"
    },
    "tags": []
   },
   "source": [
    "## Output directory"
   ]
  },
  {
   "cell_type": "code",
   "execution_count": 18,
   "id": "0f10783b",
   "metadata": {
    "execution": {
     "iopub.execute_input": "2022-11-26T05:12:42.830647Z",
     "iopub.status.busy": "2022-11-26T05:12:42.830289Z",
     "iopub.status.idle": "2022-11-26T05:12:42.853573Z",
     "shell.execute_reply": "2022-11-26T05:12:42.853124Z"
    },
    "papermill": {
     "duration": 0.037333,
     "end_time": "2022-11-26T05:12:42.854427",
     "exception": false,
     "start_time": "2022-11-26T05:12:42.817094",
     "status": "completed"
    },
    "tags": []
   },
   "outputs": [
    {
     "data": {
      "text/plain": [
       "PosixPath('/opt/data/results/clustering/null_sims/shuffle_genes/runs/umap-z_score_std-projection-smultixcan-efo_partial-mashr-zscores')"
      ]
     },
     "metadata": {},
     "output_type": "display_data"
    }
   ],
   "source": [
    "# output dir for this notebook\n",
    "RESULTS_DIR = Path(\n",
    "    NULL_DIR,\n",
    "    \"runs\",\n",
    "    f\"{INPUT_SUBSET}-{INPUT_STEM}\",\n",
    ").resolve()\n",
    "RESULTS_DIR.mkdir(parents=True, exist_ok=True)\n",
    "\n",
    "display(RESULTS_DIR)"
   ]
  },
  {
   "cell_type": "markdown",
   "id": "80544686",
   "metadata": {
    "papermill": {
     "duration": 0.007221,
     "end_time": "2022-11-26T05:12:42.868893",
     "exception": false,
     "start_time": "2022-11-26T05:12:42.861672",
     "status": "completed"
    },
    "tags": []
   },
   "source": [
    "# Load input file"
   ]
  },
  {
   "cell_type": "code",
   "execution_count": 19,
   "id": "9a903efe",
   "metadata": {
    "execution": {
     "iopub.execute_input": "2022-11-26T05:12:42.884245Z",
     "iopub.status.busy": "2022-11-26T05:12:42.883891Z",
     "iopub.status.idle": "2022-11-26T05:12:42.907445Z",
     "shell.execute_reply": "2022-11-26T05:12:42.906971Z"
    },
    "papermill": {
     "duration": 0.03218,
     "end_time": "2022-11-26T05:12:42.908471",
     "exception": false,
     "start_time": "2022-11-26T05:12:42.876291",
     "status": "completed"
    },
    "tags": []
   },
   "outputs": [],
   "source": [
    "data = pd.read_pickle(input_filepath)"
   ]
  },
  {
   "cell_type": "code",
   "execution_count": 20,
   "id": "c8425bcd",
   "metadata": {
    "execution": {
     "iopub.execute_input": "2022-11-26T05:12:42.923773Z",
     "iopub.status.busy": "2022-11-26T05:12:42.923371Z",
     "iopub.status.idle": "2022-11-26T05:12:42.944837Z",
     "shell.execute_reply": "2022-11-26T05:12:42.944366Z"
    },
    "papermill": {
     "duration": 0.030007,
     "end_time": "2022-11-26T05:12:42.945793",
     "exception": false,
     "start_time": "2022-11-26T05:12:42.915786",
     "status": "completed"
    },
    "tags": []
   },
   "outputs": [
    {
     "data": {
      "text/plain": [
       "(3752, 50)"
      ]
     },
     "execution_count": 20,
     "metadata": {},
     "output_type": "execute_result"
    }
   ],
   "source": [
    "data.shape"
   ]
  },
  {
   "cell_type": "code",
   "execution_count": 21,
   "id": "9a7febac",
   "metadata": {
    "execution": {
     "iopub.execute_input": "2022-11-26T05:12:42.962603Z",
     "iopub.status.busy": "2022-11-26T05:12:42.962231Z",
     "iopub.status.idle": "2022-11-26T05:12:43.001584Z",
     "shell.execute_reply": "2022-11-26T05:12:43.001121Z"
    },
    "papermill": {
     "duration": 0.04837,
     "end_time": "2022-11-26T05:12:43.002424",
     "exception": false,
     "start_time": "2022-11-26T05:12:42.954054",
     "status": "completed"
    },
    "tags": []
   },
   "outputs": [
    {
     "data": {
      "text/html": [
       "<div>\n",
       "<style scoped>\n",
       "    .dataframe tbody tr th:only-of-type {\n",
       "        vertical-align: middle;\n",
       "    }\n",
       "\n",
       "    .dataframe tbody tr th {\n",
       "        vertical-align: top;\n",
       "    }\n",
       "\n",
       "    .dataframe thead th {\n",
       "        text-align: right;\n",
       "    }\n",
       "</style>\n",
       "<table border=\"1\" class=\"dataframe\">\n",
       "  <thead>\n",
       "    <tr style=\"text-align: right;\">\n",
       "      <th></th>\n",
       "      <th>UMAP1</th>\n",
       "      <th>UMAP2</th>\n",
       "      <th>UMAP3</th>\n",
       "      <th>UMAP4</th>\n",
       "      <th>UMAP5</th>\n",
       "      <th>UMAP6</th>\n",
       "      <th>UMAP7</th>\n",
       "      <th>UMAP8</th>\n",
       "      <th>UMAP9</th>\n",
       "      <th>UMAP10</th>\n",
       "      <th>...</th>\n",
       "      <th>UMAP41</th>\n",
       "      <th>UMAP42</th>\n",
       "      <th>UMAP43</th>\n",
       "      <th>UMAP44</th>\n",
       "      <th>UMAP45</th>\n",
       "      <th>UMAP46</th>\n",
       "      <th>UMAP47</th>\n",
       "      <th>UMAP48</th>\n",
       "      <th>UMAP49</th>\n",
       "      <th>UMAP50</th>\n",
       "    </tr>\n",
       "  </thead>\n",
       "  <tbody>\n",
       "    <tr>\n",
       "      <th>100001_raw-Food_weight</th>\n",
       "      <td>3.507164</td>\n",
       "      <td>4.783988</td>\n",
       "      <td>2.721716</td>\n",
       "      <td>5.306452</td>\n",
       "      <td>3.881773</td>\n",
       "      <td>3.321169</td>\n",
       "      <td>4.960411</td>\n",
       "      <td>5.549141</td>\n",
       "      <td>4.841390</td>\n",
       "      <td>3.194715</td>\n",
       "      <td>...</td>\n",
       "      <td>9.187434</td>\n",
       "      <td>2.469095</td>\n",
       "      <td>1.234505</td>\n",
       "      <td>9.594598</td>\n",
       "      <td>0.333957</td>\n",
       "      <td>8.039461</td>\n",
       "      <td>5.482632</td>\n",
       "      <td>4.958725</td>\n",
       "      <td>2.801697</td>\n",
       "      <td>5.658304</td>\n",
       "    </tr>\n",
       "    <tr>\n",
       "      <th>100002_raw-Energy</th>\n",
       "      <td>3.606311</td>\n",
       "      <td>4.727725</td>\n",
       "      <td>2.704979</td>\n",
       "      <td>5.271563</td>\n",
       "      <td>3.724591</td>\n",
       "      <td>3.337485</td>\n",
       "      <td>4.781901</td>\n",
       "      <td>5.599291</td>\n",
       "      <td>4.791382</td>\n",
       "      <td>3.003243</td>\n",
       "      <td>...</td>\n",
       "      <td>9.121886</td>\n",
       "      <td>2.506307</td>\n",
       "      <td>1.227272</td>\n",
       "      <td>9.574743</td>\n",
       "      <td>0.344036</td>\n",
       "      <td>8.037237</td>\n",
       "      <td>5.477282</td>\n",
       "      <td>4.900286</td>\n",
       "      <td>2.729573</td>\n",
       "      <td>5.601664</td>\n",
       "    </tr>\n",
       "    <tr>\n",
       "      <th>100003_raw-Protein</th>\n",
       "      <td>3.594661</td>\n",
       "      <td>4.729409</td>\n",
       "      <td>2.682754</td>\n",
       "      <td>5.218021</td>\n",
       "      <td>3.652642</td>\n",
       "      <td>3.325793</td>\n",
       "      <td>4.771183</td>\n",
       "      <td>5.580573</td>\n",
       "      <td>4.820001</td>\n",
       "      <td>3.022622</td>\n",
       "      <td>...</td>\n",
       "      <td>9.097627</td>\n",
       "      <td>2.484138</td>\n",
       "      <td>1.221946</td>\n",
       "      <td>9.572356</td>\n",
       "      <td>0.339655</td>\n",
       "      <td>8.043584</td>\n",
       "      <td>5.472909</td>\n",
       "      <td>4.895183</td>\n",
       "      <td>2.765254</td>\n",
       "      <td>5.663905</td>\n",
       "    </tr>\n",
       "    <tr>\n",
       "      <th>100004_raw-Fat</th>\n",
       "      <td>3.459632</td>\n",
       "      <td>4.797582</td>\n",
       "      <td>2.755155</td>\n",
       "      <td>5.230875</td>\n",
       "      <td>3.784350</td>\n",
       "      <td>3.366962</td>\n",
       "      <td>4.942765</td>\n",
       "      <td>5.604582</td>\n",
       "      <td>4.731943</td>\n",
       "      <td>3.045358</td>\n",
       "      <td>...</td>\n",
       "      <td>9.124997</td>\n",
       "      <td>2.587374</td>\n",
       "      <td>1.199794</td>\n",
       "      <td>9.633430</td>\n",
       "      <td>0.286029</td>\n",
       "      <td>8.071218</td>\n",
       "      <td>5.476699</td>\n",
       "      <td>4.869335</td>\n",
       "      <td>2.766068</td>\n",
       "      <td>5.523112</td>\n",
       "    </tr>\n",
       "    <tr>\n",
       "      <th>100005_raw-Carbohydrate</th>\n",
       "      <td>3.436945</td>\n",
       "      <td>4.827942</td>\n",
       "      <td>2.761039</td>\n",
       "      <td>5.268426</td>\n",
       "      <td>4.005526</td>\n",
       "      <td>3.357875</td>\n",
       "      <td>5.036726</td>\n",
       "      <td>5.545567</td>\n",
       "      <td>4.842803</td>\n",
       "      <td>3.282768</td>\n",
       "      <td>...</td>\n",
       "      <td>9.181946</td>\n",
       "      <td>2.513265</td>\n",
       "      <td>1.200227</td>\n",
       "      <td>9.631493</td>\n",
       "      <td>0.349085</td>\n",
       "      <td>8.032649</td>\n",
       "      <td>5.486337</td>\n",
       "      <td>4.947569</td>\n",
       "      <td>2.811798</td>\n",
       "      <td>5.677997</td>\n",
       "    </tr>\n",
       "  </tbody>\n",
       "</table>\n",
       "<p>5 rows × 50 columns</p>\n",
       "</div>"
      ],
      "text/plain": [
       "                            UMAP1     UMAP2     UMAP3     UMAP4     UMAP5  \\\n",
       "100001_raw-Food_weight   3.507164  4.783988  2.721716  5.306452  3.881773   \n",
       "100002_raw-Energy        3.606311  4.727725  2.704979  5.271563  3.724591   \n",
       "100003_raw-Protein       3.594661  4.729409  2.682754  5.218021  3.652642   \n",
       "100004_raw-Fat           3.459632  4.797582  2.755155  5.230875  3.784350   \n",
       "100005_raw-Carbohydrate  3.436945  4.827942  2.761039  5.268426  4.005526   \n",
       "\n",
       "                            UMAP6     UMAP7     UMAP8     UMAP9    UMAP10  \\\n",
       "100001_raw-Food_weight   3.321169  4.960411  5.549141  4.841390  3.194715   \n",
       "100002_raw-Energy        3.337485  4.781901  5.599291  4.791382  3.003243   \n",
       "100003_raw-Protein       3.325793  4.771183  5.580573  4.820001  3.022622   \n",
       "100004_raw-Fat           3.366962  4.942765  5.604582  4.731943  3.045358   \n",
       "100005_raw-Carbohydrate  3.357875  5.036726  5.545567  4.842803  3.282768   \n",
       "\n",
       "                         ...    UMAP41    UMAP42    UMAP43    UMAP44  \\\n",
       "100001_raw-Food_weight   ...  9.187434  2.469095  1.234505  9.594598   \n",
       "100002_raw-Energy        ...  9.121886  2.506307  1.227272  9.574743   \n",
       "100003_raw-Protein       ...  9.097627  2.484138  1.221946  9.572356   \n",
       "100004_raw-Fat           ...  9.124997  2.587374  1.199794  9.633430   \n",
       "100005_raw-Carbohydrate  ...  9.181946  2.513265  1.200227  9.631493   \n",
       "\n",
       "                           UMAP45    UMAP46    UMAP47    UMAP48    UMAP49  \\\n",
       "100001_raw-Food_weight   0.333957  8.039461  5.482632  4.958725  2.801697   \n",
       "100002_raw-Energy        0.344036  8.037237  5.477282  4.900286  2.729573   \n",
       "100003_raw-Protein       0.339655  8.043584  5.472909  4.895183  2.765254   \n",
       "100004_raw-Fat           0.286029  8.071218  5.476699  4.869335  2.766068   \n",
       "100005_raw-Carbohydrate  0.349085  8.032649  5.486337  4.947569  2.811798   \n",
       "\n",
       "                           UMAP50  \n",
       "100001_raw-Food_weight   5.658304  \n",
       "100002_raw-Energy        5.601664  \n",
       "100003_raw-Protein       5.663905  \n",
       "100004_raw-Fat           5.523112  \n",
       "100005_raw-Carbohydrate  5.677997  \n",
       "\n",
       "[5 rows x 50 columns]"
      ]
     },
     "execution_count": 21,
     "metadata": {},
     "output_type": "execute_result"
    }
   ],
   "source": [
    "data.head()"
   ]
  },
  {
   "cell_type": "code",
   "execution_count": 22,
   "id": "6d37c960",
   "metadata": {
    "execution": {
     "iopub.execute_input": "2022-11-26T05:12:43.018805Z",
     "iopub.status.busy": "2022-11-26T05:12:43.018450Z",
     "iopub.status.idle": "2022-11-26T05:12:43.041278Z",
     "shell.execute_reply": "2022-11-26T05:12:43.040758Z"
    },
    "papermill": {
     "duration": 0.032368,
     "end_time": "2022-11-26T05:12:43.042333",
     "exception": false,
     "start_time": "2022-11-26T05:12:43.009965",
     "status": "completed"
    },
    "tags": []
   },
   "outputs": [],
   "source": [
    "assert not data.isna().any().any()"
   ]
  },
  {
   "cell_type": "markdown",
   "id": "944f5879",
   "metadata": {
    "papermill": {
     "duration": 0.0076,
     "end_time": "2022-11-26T05:12:43.057640",
     "exception": false,
     "start_time": "2022-11-26T05:12:43.050040",
     "status": "completed"
    },
    "tags": []
   },
   "source": [
    "# Clustering"
   ]
  },
  {
   "cell_type": "markdown",
   "id": "9eb57569",
   "metadata": {
    "papermill": {
     "duration": 0.007097,
     "end_time": "2022-11-26T05:12:43.071987",
     "exception": false,
     "start_time": "2022-11-26T05:12:43.064890",
     "status": "completed"
    },
    "tags": []
   },
   "source": [
    "## Generate ensemble"
   ]
  },
  {
   "cell_type": "code",
   "execution_count": 23,
   "id": "bc9e7e9b",
   "metadata": {
    "execution": {
     "iopub.execute_input": "2022-11-26T05:12:43.087843Z",
     "iopub.status.busy": "2022-11-26T05:12:43.087355Z",
     "iopub.status.idle": "2022-11-26T05:12:43.112872Z",
     "shell.execute_reply": "2022-11-26T05:12:43.112394Z"
    },
    "papermill": {
     "duration": 0.034198,
     "end_time": "2022-11-26T05:12:43.113840",
     "exception": false,
     "start_time": "2022-11-26T05:12:43.079642",
     "status": "completed"
    },
    "tags": []
   },
   "outputs": [],
   "source": [
    "from sklearn.metrics import pairwise_distances\n",
    "from clustering.ensembles.utils import generate_ensemble"
   ]
  },
  {
   "cell_type": "code",
   "execution_count": 24,
   "id": "79f74deb",
   "metadata": {
    "execution": {
     "iopub.execute_input": "2022-11-26T05:12:43.129900Z",
     "iopub.status.busy": "2022-11-26T05:12:43.129604Z",
     "iopub.status.idle": "2022-11-26T05:12:43.251484Z",
     "shell.execute_reply": "2022-11-26T05:12:43.251067Z"
    },
    "papermill": {
     "duration": 0.132138,
     "end_time": "2022-11-26T05:12:43.253413",
     "exception": false,
     "start_time": "2022-11-26T05:12:43.121275",
     "status": "completed"
    },
    "tags": []
   },
   "outputs": [],
   "source": [
    "data_dist = pairwise_distances(data, metric=CLUSTERING_OPTIONS[\"AFFINITY\"])"
   ]
  },
  {
   "cell_type": "code",
   "execution_count": 25,
   "id": "86eb825d",
   "metadata": {
    "execution": {
     "iopub.execute_input": "2022-11-26T05:12:43.283879Z",
     "iopub.status.busy": "2022-11-26T05:12:43.283738Z",
     "iopub.status.idle": "2022-11-26T05:12:43.297163Z",
     "shell.execute_reply": "2022-11-26T05:12:43.296815Z"
    },
    "papermill": {
     "duration": 0.030175,
     "end_time": "2022-11-26T05:12:43.298443",
     "exception": false,
     "start_time": "2022-11-26T05:12:43.268268",
     "status": "completed"
    },
    "tags": []
   },
   "outputs": [
    {
     "data": {
      "text/plain": [
       "(3752, 3752)"
      ]
     },
     "execution_count": 25,
     "metadata": {},
     "output_type": "execute_result"
    }
   ],
   "source": [
    "data_dist.shape"
   ]
  },
  {
   "cell_type": "code",
   "execution_count": 26,
   "id": "a4c901ab",
   "metadata": {
    "execution": {
     "iopub.execute_input": "2022-11-26T05:12:43.329168Z",
     "iopub.status.busy": "2022-11-26T05:12:43.328990Z",
     "iopub.status.idle": "2022-11-26T05:12:43.662246Z",
     "shell.execute_reply": "2022-11-26T05:12:43.661864Z"
    },
    "papermill": {
     "duration": 0.350229,
     "end_time": "2022-11-26T05:12:43.663575",
     "exception": false,
     "start_time": "2022-11-26T05:12:43.313346",
     "status": "completed"
    },
    "tags": []
   },
   "outputs": [
    {
     "data": {
      "text/plain": [
       "count            14077504.0\n",
       "mean     3.0258994102478027\n",
       "std       1.123066782951355\n",
       "min                     0.0\n",
       "25%      2.2383562326431274\n",
       "50%      3.2953301668167114\n",
       "75%      3.9533920884132385\n",
       "max       5.173931121826172\n",
       "dtype: object"
      ]
     },
     "execution_count": 26,
     "metadata": {},
     "output_type": "execute_result"
    }
   ],
   "source": [
    "pd.Series(data_dist.flatten()).describe().apply(str)"
   ]
  },
  {
   "cell_type": "code",
   "execution_count": 27,
   "id": "2c40884f",
   "metadata": {
    "execution": {
     "iopub.execute_input": "2022-11-26T05:12:43.693690Z",
     "iopub.status.busy": "2022-11-26T05:12:43.693562Z",
     "iopub.status.idle": "2022-11-26T05:29:39.170949Z",
     "shell.execute_reply": "2022-11-26T05:29:39.170527Z"
    },
    "papermill": {
     "duration": 1015.493812,
     "end_time": "2022-11-26T05:29:39.172307",
     "exception": false,
     "start_time": "2022-11-26T05:12:43.678495",
     "status": "completed"
    },
    "tags": []
   },
   "outputs": [
    {
     "name": "stderr",
     "output_type": "stream",
     "text": [
      "100%|██████████| 296/296 [16:55<00:00,  3.43s/it]\n"
     ]
    }
   ],
   "source": [
    "ensemble = generate_ensemble(\n",
    "    data_dist,\n",
    "    CLUSTERERS,\n",
    "    attributes=CLUSTERING_ATTRIBUTES_TO_SAVE,\n",
    "    affinity_matrix=data_dist,\n",
    ")"
   ]
  },
  {
   "cell_type": "code",
   "execution_count": 28,
   "id": "2b4fc727",
   "metadata": {
    "execution": {
     "iopub.execute_input": "2022-11-26T05:29:39.230179Z",
     "iopub.status.busy": "2022-11-26T05:29:39.230087Z",
     "iopub.status.idle": "2022-11-26T05:29:39.243071Z",
     "shell.execute_reply": "2022-11-26T05:29:39.242726Z"
    },
    "papermill": {
     "duration": 0.043034,
     "end_time": "2022-11-26T05:29:39.244296",
     "exception": false,
     "start_time": "2022-11-26T05:29:39.201262",
     "status": "completed"
    },
    "tags": []
   },
   "outputs": [
    {
     "data": {
      "text/plain": [
       "(296, 3)"
      ]
     },
     "execution_count": 28,
     "metadata": {},
     "output_type": "execute_result"
    }
   ],
   "source": [
    "# the number should be close to 295 (the number of partitions generated by k-means/spectral clustering)\n",
    "ensemble.shape"
   ]
  },
  {
   "cell_type": "code",
   "execution_count": 29,
   "id": "ab9d5285",
   "metadata": {
    "execution": {
     "iopub.execute_input": "2022-11-26T05:29:39.293389Z",
     "iopub.status.busy": "2022-11-26T05:29:39.293301Z",
     "iopub.status.idle": "2022-11-26T05:29:39.311163Z",
     "shell.execute_reply": "2022-11-26T05:29:39.310817Z"
    },
    "papermill": {
     "duration": 0.039126,
     "end_time": "2022-11-26T05:29:39.311933",
     "exception": false,
     "start_time": "2022-11-26T05:29:39.272807",
     "status": "completed"
    },
    "tags": []
   },
   "outputs": [
    {
     "data": {
      "text/html": [
       "<div>\n",
       "<style scoped>\n",
       "    .dataframe tbody tr th:only-of-type {\n",
       "        vertical-align: middle;\n",
       "    }\n",
       "\n",
       "    .dataframe tbody tr th {\n",
       "        vertical-align: top;\n",
       "    }\n",
       "\n",
       "    .dataframe thead th {\n",
       "        text-align: right;\n",
       "    }\n",
       "</style>\n",
       "<table border=\"1\" class=\"dataframe\">\n",
       "  <thead>\n",
       "    <tr style=\"text-align: right;\">\n",
       "      <th></th>\n",
       "      <th>clusterer_params</th>\n",
       "      <th>partition</th>\n",
       "      <th>n_clusters</th>\n",
       "    </tr>\n",
       "    <tr>\n",
       "      <th>clusterer_id</th>\n",
       "      <th></th>\n",
       "      <th></th>\n",
       "      <th></th>\n",
       "    </tr>\n",
       "  </thead>\n",
       "  <tbody>\n",
       "    <tr>\n",
       "      <th>AgglomerativeClustering #0</th>\n",
       "      <td>{'affinity': 'euclidean', 'compute_full_tree':...</td>\n",
       "      <td>[0.0, 0.0, 0.0, 0.0, 0.0, 0.0, 0.0, 0.0, 0.0, ...</td>\n",
       "      <td>2</td>\n",
       "    </tr>\n",
       "    <tr>\n",
       "      <th>AgglomerativeClustering #1</th>\n",
       "      <td>{'affinity': 'precomputed', 'compute_full_tree...</td>\n",
       "      <td>[0.0, 0.0, 0.0, 0.0, 0.0, 0.0, 0.0, 0.0, 0.0, ...</td>\n",
       "      <td>2</td>\n",
       "    </tr>\n",
       "    <tr>\n",
       "      <th>AgglomerativeClustering #2</th>\n",
       "      <td>{'affinity': 'precomputed', 'compute_full_tree...</td>\n",
       "      <td>[0.0, 0.0, 0.0, 0.0, 0.0, 0.0, 0.0, 0.0, 0.0, ...</td>\n",
       "      <td>2</td>\n",
       "    </tr>\n",
       "    <tr>\n",
       "      <th>AgglomerativeClustering #3</th>\n",
       "      <td>{'affinity': 'precomputed', 'compute_full_tree...</td>\n",
       "      <td>[0.0, 0.0, 0.0, 0.0, 0.0, 0.0, 0.0, 0.0, 0.0, ...</td>\n",
       "      <td>2</td>\n",
       "    </tr>\n",
       "    <tr>\n",
       "      <th>AgglomerativeClustering #4</th>\n",
       "      <td>{'affinity': 'euclidean', 'compute_full_tree':...</td>\n",
       "      <td>[0.0, 0.0, 0.0, 0.0, 0.0, 0.0, 0.0, 0.0, 0.0, ...</td>\n",
       "      <td>3</td>\n",
       "    </tr>\n",
       "  </tbody>\n",
       "</table>\n",
       "</div>"
      ],
      "text/plain": [
       "                                                             clusterer_params  \\\n",
       "clusterer_id                                                                    \n",
       "AgglomerativeClustering #0  {'affinity': 'euclidean', 'compute_full_tree':...   \n",
       "AgglomerativeClustering #1  {'affinity': 'precomputed', 'compute_full_tree...   \n",
       "AgglomerativeClustering #2  {'affinity': 'precomputed', 'compute_full_tree...   \n",
       "AgglomerativeClustering #3  {'affinity': 'precomputed', 'compute_full_tree...   \n",
       "AgglomerativeClustering #4  {'affinity': 'euclidean', 'compute_full_tree':...   \n",
       "\n",
       "                                                                    partition  \\\n",
       "clusterer_id                                                                    \n",
       "AgglomerativeClustering #0  [0.0, 0.0, 0.0, 0.0, 0.0, 0.0, 0.0, 0.0, 0.0, ...   \n",
       "AgglomerativeClustering #1  [0.0, 0.0, 0.0, 0.0, 0.0, 0.0, 0.0, 0.0, 0.0, ...   \n",
       "AgglomerativeClustering #2  [0.0, 0.0, 0.0, 0.0, 0.0, 0.0, 0.0, 0.0, 0.0, ...   \n",
       "AgglomerativeClustering #3  [0.0, 0.0, 0.0, 0.0, 0.0, 0.0, 0.0, 0.0, 0.0, ...   \n",
       "AgglomerativeClustering #4  [0.0, 0.0, 0.0, 0.0, 0.0, 0.0, 0.0, 0.0, 0.0, ...   \n",
       "\n",
       "                            n_clusters  \n",
       "clusterer_id                            \n",
       "AgglomerativeClustering #0           2  \n",
       "AgglomerativeClustering #1           2  \n",
       "AgglomerativeClustering #2           2  \n",
       "AgglomerativeClustering #3           2  \n",
       "AgglomerativeClustering #4           3  "
      ]
     },
     "execution_count": 29,
     "metadata": {},
     "output_type": "execute_result"
    }
   ],
   "source": [
    "ensemble.head()"
   ]
  },
  {
   "cell_type": "code",
   "execution_count": 30,
   "id": "709d0c3f",
   "metadata": {
    "execution": {
     "iopub.execute_input": "2022-11-26T05:29:39.342102Z",
     "iopub.status.busy": "2022-11-26T05:29:39.342016Z",
     "iopub.status.idle": "2022-11-26T05:29:39.354813Z",
     "shell.execute_reply": "2022-11-26T05:29:39.354455Z"
    },
    "papermill": {
     "duration": 0.0287,
     "end_time": "2022-11-26T05:29:39.355564",
     "exception": false,
     "start_time": "2022-11-26T05:29:39.326864",
     "status": "completed"
    },
    "tags": []
   },
   "outputs": [
    {
     "data": {
      "text/plain": [
       "75    4\n",
       "20    4\n",
       "22    4\n",
       "23    4\n",
       "24    4\n",
       "Name: n_clusters, dtype: int64"
      ]
     },
     "execution_count": 30,
     "metadata": {},
     "output_type": "execute_result"
    }
   ],
   "source": [
    "ensemble[\"n_clusters\"].value_counts().head()"
   ]
  },
  {
   "cell_type": "code",
   "execution_count": 31,
   "id": "b03ba404",
   "metadata": {
    "execution": {
     "iopub.execute_input": "2022-11-26T05:29:39.385672Z",
     "iopub.status.busy": "2022-11-26T05:29:39.385587Z",
     "iopub.status.idle": "2022-11-26T05:29:39.399267Z",
     "shell.execute_reply": "2022-11-26T05:29:39.398925Z"
    },
    "papermill": {
     "duration": 0.029585,
     "end_time": "2022-11-26T05:29:39.400009",
     "exception": false,
     "start_time": "2022-11-26T05:29:39.370424",
     "status": "completed"
    },
    "tags": []
   },
   "outputs": [
    {
     "data": {
      "text/plain": [
       "count    296.000000\n",
       "mean      38.500000\n",
       "std       21.396182\n",
       "min        2.000000\n",
       "25%       20.000000\n",
       "50%       38.500000\n",
       "75%       57.000000\n",
       "max       75.000000\n",
       "Name: n_clusters, dtype: float64"
      ]
     },
     "metadata": {},
     "output_type": "display_data"
    }
   ],
   "source": [
    "ensemble_stats = ensemble[\"n_clusters\"].describe()\n",
    "display(ensemble_stats)"
   ]
  },
  {
   "cell_type": "markdown",
   "id": "76310ab0",
   "metadata": {
    "papermill": {
     "duration": 0.014683,
     "end_time": "2022-11-26T05:29:39.429769",
     "exception": false,
     "start_time": "2022-11-26T05:29:39.415086",
     "status": "completed"
    },
    "tags": []
   },
   "source": [
    "## Testing"
   ]
  },
  {
   "cell_type": "code",
   "execution_count": 32,
   "id": "51b5f02f",
   "metadata": {
    "execution": {
     "iopub.execute_input": "2022-11-26T05:29:39.459991Z",
     "iopub.status.busy": "2022-11-26T05:29:39.459904Z",
     "iopub.status.idle": "2022-11-26T05:29:39.471329Z",
     "shell.execute_reply": "2022-11-26T05:29:39.470975Z"
    },
    "papermill": {
     "duration": 0.027451,
     "end_time": "2022-11-26T05:29:39.472160",
     "exception": false,
     "start_time": "2022-11-26T05:29:39.444709",
     "status": "completed"
    },
    "tags": []
   },
   "outputs": [],
   "source": [
    "assert ensemble_stats[\"min\"] > 1"
   ]
  },
  {
   "cell_type": "code",
   "execution_count": 33,
   "id": "cb389982",
   "metadata": {
    "execution": {
     "iopub.execute_input": "2022-11-26T05:29:39.502295Z",
     "iopub.status.busy": "2022-11-26T05:29:39.502211Z",
     "iopub.status.idle": "2022-11-26T05:29:39.513599Z",
     "shell.execute_reply": "2022-11-26T05:29:39.513249Z"
    },
    "papermill": {
     "duration": 0.027329,
     "end_time": "2022-11-26T05:29:39.514337",
     "exception": false,
     "start_time": "2022-11-26T05:29:39.487008",
     "status": "completed"
    },
    "tags": []
   },
   "outputs": [],
   "source": [
    "assert not ensemble[\"n_clusters\"].isna().any()"
   ]
  },
  {
   "cell_type": "code",
   "execution_count": 34,
   "id": "2f78b392",
   "metadata": {
    "execution": {
     "iopub.execute_input": "2022-11-26T05:29:39.544526Z",
     "iopub.status.busy": "2022-11-26T05:29:39.544424Z",
     "iopub.status.idle": "2022-11-26T05:29:39.555822Z",
     "shell.execute_reply": "2022-11-26T05:29:39.555470Z"
    },
    "papermill": {
     "duration": 0.027142,
     "end_time": "2022-11-26T05:29:39.556534",
     "exception": false,
     "start_time": "2022-11-26T05:29:39.529392",
     "status": "completed"
    },
    "tags": []
   },
   "outputs": [],
   "source": [
    "assert ensemble.shape[0] == len(CLUSTERERS)"
   ]
  },
  {
   "cell_type": "code",
   "execution_count": 35,
   "id": "9e9712b8",
   "metadata": {
    "execution": {
     "iopub.execute_input": "2022-11-26T05:29:39.586786Z",
     "iopub.status.busy": "2022-11-26T05:29:39.586701Z",
     "iopub.status.idle": "2022-11-26T05:29:39.610487Z",
     "shell.execute_reply": "2022-11-26T05:29:39.610130Z"
    },
    "papermill": {
     "duration": 0.039842,
     "end_time": "2022-11-26T05:29:39.611324",
     "exception": false,
     "start_time": "2022-11-26T05:29:39.571482",
     "status": "completed"
    },
    "tags": []
   },
   "outputs": [],
   "source": [
    "# all partitions have the right size\n",
    "assert np.all(\n",
    "    [part[\"partition\"].shape[0] == data.shape[0] for idx, part in ensemble.iterrows()]\n",
    ")"
   ]
  },
  {
   "cell_type": "code",
   "execution_count": 36,
   "id": "63053b05",
   "metadata": {
    "execution": {
     "iopub.execute_input": "2022-11-26T05:29:39.641660Z",
     "iopub.status.busy": "2022-11-26T05:29:39.641574Z",
     "iopub.status.idle": "2022-11-26T05:29:39.667593Z",
     "shell.execute_reply": "2022-11-26T05:29:39.667192Z"
    },
    "papermill": {
     "duration": 0.041825,
     "end_time": "2022-11-26T05:29:39.668341",
     "exception": false,
     "start_time": "2022-11-26T05:29:39.626516",
     "status": "completed"
    },
    "tags": []
   },
   "outputs": [],
   "source": [
    "# no partition has negative clusters (noisy points)\n",
    "assert not np.any([(part[\"partition\"] < 0).any() for idx, part in ensemble.iterrows()])"
   ]
  },
  {
   "cell_type": "markdown",
   "id": "362fc2a0",
   "metadata": {
    "papermill": {
     "duration": 0.014836,
     "end_time": "2022-11-26T05:29:39.698351",
     "exception": false,
     "start_time": "2022-11-26T05:29:39.683515",
     "status": "completed"
    },
    "tags": []
   },
   "source": [
    "## Add clustering quality measures"
   ]
  },
  {
   "cell_type": "code",
   "execution_count": 37,
   "id": "a315572d",
   "metadata": {
    "execution": {
     "iopub.execute_input": "2022-11-26T05:29:39.728514Z",
     "iopub.status.busy": "2022-11-26T05:29:39.728426Z",
     "iopub.status.idle": "2022-11-26T05:29:39.740523Z",
     "shell.execute_reply": "2022-11-26T05:29:39.740168Z"
    },
    "papermill": {
     "duration": 0.02812,
     "end_time": "2022-11-26T05:29:39.741274",
     "exception": false,
     "start_time": "2022-11-26T05:29:39.713154",
     "status": "completed"
    },
    "tags": []
   },
   "outputs": [],
   "source": [
    "from sklearn.metrics import calinski_harabasz_score"
   ]
  },
  {
   "cell_type": "code",
   "execution_count": 38,
   "id": "6e2fd078",
   "metadata": {
    "execution": {
     "iopub.execute_input": "2022-11-26T05:29:39.771431Z",
     "iopub.status.busy": "2022-11-26T05:29:39.771348Z",
     "iopub.status.idle": "2022-11-26T05:29:40.511874Z",
     "shell.execute_reply": "2022-11-26T05:29:40.511400Z"
    },
    "papermill": {
     "duration": 0.756862,
     "end_time": "2022-11-26T05:29:40.513181",
     "exception": false,
     "start_time": "2022-11-26T05:29:39.756319",
     "status": "completed"
    },
    "tags": []
   },
   "outputs": [],
   "source": [
    "ensemble = ensemble.assign(\n",
    "    ch_score=ensemble[\"partition\"].apply(lambda x: calinski_harabasz_score(data, x))\n",
    ")"
   ]
  },
  {
   "cell_type": "code",
   "execution_count": 39,
   "id": "39dc950a",
   "metadata": {
    "execution": {
     "iopub.execute_input": "2022-11-26T05:29:40.545801Z",
     "iopub.status.busy": "2022-11-26T05:29:40.545713Z",
     "iopub.status.idle": "2022-11-26T05:29:40.558617Z",
     "shell.execute_reply": "2022-11-26T05:29:40.558274Z"
    },
    "papermill": {
     "duration": 0.029068,
     "end_time": "2022-11-26T05:29:40.559336",
     "exception": false,
     "start_time": "2022-11-26T05:29:40.530268",
     "status": "completed"
    },
    "tags": []
   },
   "outputs": [
    {
     "data": {
      "text/plain": [
       "(296, 4)"
      ]
     },
     "execution_count": 39,
     "metadata": {},
     "output_type": "execute_result"
    }
   ],
   "source": [
    "ensemble.shape"
   ]
  },
  {
   "cell_type": "code",
   "execution_count": 40,
   "id": "e053b3f7",
   "metadata": {
    "execution": {
     "iopub.execute_input": "2022-11-26T05:29:40.589869Z",
     "iopub.status.busy": "2022-11-26T05:29:40.589578Z",
     "iopub.status.idle": "2022-11-26T05:29:40.606847Z",
     "shell.execute_reply": "2022-11-26T05:29:40.606439Z"
    },
    "papermill": {
     "duration": 0.033406,
     "end_time": "2022-11-26T05:29:40.607597",
     "exception": false,
     "start_time": "2022-11-26T05:29:40.574191",
     "status": "completed"
    },
    "tags": []
   },
   "outputs": [
    {
     "data": {
      "text/html": [
       "<div>\n",
       "<style scoped>\n",
       "    .dataframe tbody tr th:only-of-type {\n",
       "        vertical-align: middle;\n",
       "    }\n",
       "\n",
       "    .dataframe tbody tr th {\n",
       "        vertical-align: top;\n",
       "    }\n",
       "\n",
       "    .dataframe thead th {\n",
       "        text-align: right;\n",
       "    }\n",
       "</style>\n",
       "<table border=\"1\" class=\"dataframe\">\n",
       "  <thead>\n",
       "    <tr style=\"text-align: right;\">\n",
       "      <th></th>\n",
       "      <th>clusterer_params</th>\n",
       "      <th>partition</th>\n",
       "      <th>n_clusters</th>\n",
       "      <th>ch_score</th>\n",
       "    </tr>\n",
       "    <tr>\n",
       "      <th>clusterer_id</th>\n",
       "      <th></th>\n",
       "      <th></th>\n",
       "      <th></th>\n",
       "      <th></th>\n",
       "    </tr>\n",
       "  </thead>\n",
       "  <tbody>\n",
       "    <tr>\n",
       "      <th>AgglomerativeClustering #0</th>\n",
       "      <td>{'affinity': 'euclidean', 'compute_full_tree':...</td>\n",
       "      <td>[0.0, 0.0, 0.0, 0.0, 0.0, 0.0, 0.0, 0.0, 0.0, ...</td>\n",
       "      <td>2</td>\n",
       "      <td>1698.436795</td>\n",
       "    </tr>\n",
       "    <tr>\n",
       "      <th>AgglomerativeClustering #1</th>\n",
       "      <td>{'affinity': 'precomputed', 'compute_full_tree...</td>\n",
       "      <td>[0.0, 0.0, 0.0, 0.0, 0.0, 0.0, 0.0, 0.0, 0.0, ...</td>\n",
       "      <td>2</td>\n",
       "      <td>0.213999</td>\n",
       "    </tr>\n",
       "    <tr>\n",
       "      <th>AgglomerativeClustering #2</th>\n",
       "      <td>{'affinity': 'precomputed', 'compute_full_tree...</td>\n",
       "      <td>[0.0, 0.0, 0.0, 0.0, 0.0, 0.0, 0.0, 0.0, 0.0, ...</td>\n",
       "      <td>2</td>\n",
       "      <td>1465.542701</td>\n",
       "    </tr>\n",
       "    <tr>\n",
       "      <th>AgglomerativeClustering #3</th>\n",
       "      <td>{'affinity': 'precomputed', 'compute_full_tree...</td>\n",
       "      <td>[0.0, 0.0, 0.0, 0.0, 0.0, 0.0, 0.0, 0.0, 0.0, ...</td>\n",
       "      <td>2</td>\n",
       "      <td>1440.977424</td>\n",
       "    </tr>\n",
       "    <tr>\n",
       "      <th>AgglomerativeClustering #4</th>\n",
       "      <td>{'affinity': 'euclidean', 'compute_full_tree':...</td>\n",
       "      <td>[0.0, 0.0, 0.0, 0.0, 0.0, 0.0, 0.0, 0.0, 0.0, ...</td>\n",
       "      <td>3</td>\n",
       "      <td>2568.756279</td>\n",
       "    </tr>\n",
       "  </tbody>\n",
       "</table>\n",
       "</div>"
      ],
      "text/plain": [
       "                                                             clusterer_params  \\\n",
       "clusterer_id                                                                    \n",
       "AgglomerativeClustering #0  {'affinity': 'euclidean', 'compute_full_tree':...   \n",
       "AgglomerativeClustering #1  {'affinity': 'precomputed', 'compute_full_tree...   \n",
       "AgglomerativeClustering #2  {'affinity': 'precomputed', 'compute_full_tree...   \n",
       "AgglomerativeClustering #3  {'affinity': 'precomputed', 'compute_full_tree...   \n",
       "AgglomerativeClustering #4  {'affinity': 'euclidean', 'compute_full_tree':...   \n",
       "\n",
       "                                                                    partition  \\\n",
       "clusterer_id                                                                    \n",
       "AgglomerativeClustering #0  [0.0, 0.0, 0.0, 0.0, 0.0, 0.0, 0.0, 0.0, 0.0, ...   \n",
       "AgglomerativeClustering #1  [0.0, 0.0, 0.0, 0.0, 0.0, 0.0, 0.0, 0.0, 0.0, ...   \n",
       "AgglomerativeClustering #2  [0.0, 0.0, 0.0, 0.0, 0.0, 0.0, 0.0, 0.0, 0.0, ...   \n",
       "AgglomerativeClustering #3  [0.0, 0.0, 0.0, 0.0, 0.0, 0.0, 0.0, 0.0, 0.0, ...   \n",
       "AgglomerativeClustering #4  [0.0, 0.0, 0.0, 0.0, 0.0, 0.0, 0.0, 0.0, 0.0, ...   \n",
       "\n",
       "                            n_clusters     ch_score  \n",
       "clusterer_id                                         \n",
       "AgglomerativeClustering #0           2  1698.436795  \n",
       "AgglomerativeClustering #1           2     0.213999  \n",
       "AgglomerativeClustering #2           2  1465.542701  \n",
       "AgglomerativeClustering #3           2  1440.977424  \n",
       "AgglomerativeClustering #4           3  2568.756279  "
      ]
     },
     "execution_count": 40,
     "metadata": {},
     "output_type": "execute_result"
    }
   ],
   "source": [
    "ensemble.head()"
   ]
  },
  {
   "cell_type": "markdown",
   "id": "79245f64",
   "metadata": {
    "papermill": {
     "duration": 0.014892,
     "end_time": "2022-11-26T05:29:40.637760",
     "exception": false,
     "start_time": "2022-11-26T05:29:40.622868",
     "status": "completed"
    },
    "tags": []
   },
   "source": [
    "## Save"
   ]
  },
  {
   "cell_type": "code",
   "execution_count": 41,
   "id": "c3d7d186",
   "metadata": {
    "execution": {
     "iopub.execute_input": "2022-11-26T05:29:40.668449Z",
     "iopub.status.busy": "2022-11-26T05:29:40.668089Z",
     "iopub.status.idle": "2022-11-26T05:29:40.680587Z",
     "shell.execute_reply": "2022-11-26T05:29:40.680231Z"
    },
    "papermill": {
     "duration": 0.028633,
     "end_time": "2022-11-26T05:29:40.681292",
     "exception": false,
     "start_time": "2022-11-26T05:29:40.652659",
     "status": "completed"
    },
    "tags": []
   },
   "outputs": [
    {
     "data": {
      "text/plain": [
       "PosixPath('/opt/data/results/clustering/null_sims/shuffle_genes/runs/umap-z_score_std-projection-smultixcan-efo_partial-mashr-zscores/AgglomerativeClustering-AFFINITY_euclidean-K_MAX_75-K_MIN_2.pkl')"
      ]
     },
     "metadata": {},
     "output_type": "display_data"
    }
   ],
   "source": [
    "output_filename = Path(\n",
    "    RESULTS_DIR,\n",
    "    generate_result_set_name(\n",
    "        {k: v for k, v in CLUSTERING_OPTIONS.items() if k != \"LINKAGE\"},\n",
    "        prefix=f\"{clustering_method_name}-\",\n",
    "        suffix=\".pkl\",\n",
    "    ),\n",
    ").resolve()\n",
    "display(output_filename)"
   ]
  },
  {
   "cell_type": "code",
   "execution_count": 42,
   "id": "34b6c6a9",
   "metadata": {
    "execution": {
     "iopub.execute_input": "2022-11-26T05:29:40.712136Z",
     "iopub.status.busy": "2022-11-26T05:29:40.711991Z",
     "iopub.status.idle": "2022-11-26T05:29:40.731492Z",
     "shell.execute_reply": "2022-11-26T05:29:40.731068Z"
    },
    "papermill": {
     "duration": 0.035622,
     "end_time": "2022-11-26T05:29:40.732298",
     "exception": false,
     "start_time": "2022-11-26T05:29:40.696676",
     "status": "completed"
    },
    "tags": []
   },
   "outputs": [],
   "source": [
    "ensemble.to_pickle(output_filename)"
   ]
  },
  {
   "cell_type": "markdown",
   "id": "70cc7287",
   "metadata": {
    "papermill": {
     "duration": 0.015074,
     "end_time": "2022-11-26T05:29:40.762521",
     "exception": false,
     "start_time": "2022-11-26T05:29:40.747447",
     "status": "completed"
    },
    "tags": []
   },
   "source": [
    "# Cluster quality"
   ]
  },
  {
   "cell_type": "code",
   "execution_count": 43,
   "id": "92ccc7b6",
   "metadata": {
    "execution": {
     "iopub.execute_input": "2022-11-26T05:29:40.793202Z",
     "iopub.status.busy": "2022-11-26T05:29:40.792930Z",
     "iopub.status.idle": "2022-11-26T05:29:40.810033Z",
     "shell.execute_reply": "2022-11-26T05:29:40.809671Z"
    },
    "papermill": {
     "duration": 0.03318,
     "end_time": "2022-11-26T05:29:40.810780",
     "exception": false,
     "start_time": "2022-11-26T05:29:40.777600",
     "status": "completed"
    },
    "tags": []
   },
   "outputs": [
    {
     "data": {
      "text/html": [
       "<div>\n",
       "<style scoped>\n",
       "    .dataframe tbody tr th:only-of-type {\n",
       "        vertical-align: middle;\n",
       "    }\n",
       "\n",
       "    .dataframe tbody tr th {\n",
       "        vertical-align: top;\n",
       "    }\n",
       "\n",
       "    .dataframe thead th {\n",
       "        text-align: right;\n",
       "    }\n",
       "</style>\n",
       "<table border=\"1\" class=\"dataframe\">\n",
       "  <thead>\n",
       "    <tr style=\"text-align: right;\">\n",
       "      <th></th>\n",
       "      <th>ch_score</th>\n",
       "    </tr>\n",
       "    <tr>\n",
       "      <th>n_clusters</th>\n",
       "      <th></th>\n",
       "    </tr>\n",
       "  </thead>\n",
       "  <tbody>\n",
       "    <tr>\n",
       "      <th>2</th>\n",
       "      <td>1151.292730</td>\n",
       "    </tr>\n",
       "    <tr>\n",
       "      <th>3</th>\n",
       "      <td>1796.052242</td>\n",
       "    </tr>\n",
       "    <tr>\n",
       "      <th>4</th>\n",
       "      <td>1806.012778</td>\n",
       "    </tr>\n",
       "    <tr>\n",
       "      <th>5</th>\n",
       "      <td>1968.301829</td>\n",
       "    </tr>\n",
       "    <tr>\n",
       "      <th>6</th>\n",
       "      <td>2140.043906</td>\n",
       "    </tr>\n",
       "    <tr>\n",
       "      <th>7</th>\n",
       "      <td>2163.996282</td>\n",
       "    </tr>\n",
       "    <tr>\n",
       "      <th>8</th>\n",
       "      <td>2243.526218</td>\n",
       "    </tr>\n",
       "    <tr>\n",
       "      <th>9</th>\n",
       "      <td>2160.925646</td>\n",
       "    </tr>\n",
       "    <tr>\n",
       "      <th>10</th>\n",
       "      <td>2079.043246</td>\n",
       "    </tr>\n",
       "    <tr>\n",
       "      <th>11</th>\n",
       "      <td>2127.587348</td>\n",
       "    </tr>\n",
       "    <tr>\n",
       "      <th>12</th>\n",
       "      <td>2172.071880</td>\n",
       "    </tr>\n",
       "    <tr>\n",
       "      <th>13</th>\n",
       "      <td>2245.643631</td>\n",
       "    </tr>\n",
       "    <tr>\n",
       "      <th>14</th>\n",
       "      <td>2305.449323</td>\n",
       "    </tr>\n",
       "    <tr>\n",
       "      <th>15</th>\n",
       "      <td>2363.394588</td>\n",
       "    </tr>\n",
       "    <tr>\n",
       "      <th>16</th>\n",
       "      <td>2385.414556</td>\n",
       "    </tr>\n",
       "    <tr>\n",
       "      <th>17</th>\n",
       "      <td>2415.016674</td>\n",
       "    </tr>\n",
       "    <tr>\n",
       "      <th>18</th>\n",
       "      <td>2452.636279</td>\n",
       "    </tr>\n",
       "    <tr>\n",
       "      <th>19</th>\n",
       "      <td>2465.362862</td>\n",
       "    </tr>\n",
       "    <tr>\n",
       "      <th>20</th>\n",
       "      <td>2432.293677</td>\n",
       "    </tr>\n",
       "    <tr>\n",
       "      <th>21</th>\n",
       "      <td>2442.705729</td>\n",
       "    </tr>\n",
       "    <tr>\n",
       "      <th>22</th>\n",
       "      <td>2448.813691</td>\n",
       "    </tr>\n",
       "    <tr>\n",
       "      <th>23</th>\n",
       "      <td>2469.140786</td>\n",
       "    </tr>\n",
       "    <tr>\n",
       "      <th>24</th>\n",
       "      <td>2501.616542</td>\n",
       "    </tr>\n",
       "    <tr>\n",
       "      <th>25</th>\n",
       "      <td>2506.283733</td>\n",
       "    </tr>\n",
       "    <tr>\n",
       "      <th>26</th>\n",
       "      <td>2550.428294</td>\n",
       "    </tr>\n",
       "    <tr>\n",
       "      <th>27</th>\n",
       "      <td>2586.656236</td>\n",
       "    </tr>\n",
       "    <tr>\n",
       "      <th>28</th>\n",
       "      <td>2595.282843</td>\n",
       "    </tr>\n",
       "    <tr>\n",
       "      <th>29</th>\n",
       "      <td>2627.790618</td>\n",
       "    </tr>\n",
       "    <tr>\n",
       "      <th>30</th>\n",
       "      <td>2733.550622</td>\n",
       "    </tr>\n",
       "    <tr>\n",
       "      <th>31</th>\n",
       "      <td>2761.942043</td>\n",
       "    </tr>\n",
       "    <tr>\n",
       "      <th>32</th>\n",
       "      <td>2759.138751</td>\n",
       "    </tr>\n",
       "    <tr>\n",
       "      <th>33</th>\n",
       "      <td>2821.872668</td>\n",
       "    </tr>\n",
       "    <tr>\n",
       "      <th>34</th>\n",
       "      <td>2818.013400</td>\n",
       "    </tr>\n",
       "    <tr>\n",
       "      <th>35</th>\n",
       "      <td>2843.944407</td>\n",
       "    </tr>\n",
       "    <tr>\n",
       "      <th>36</th>\n",
       "      <td>2839.327213</td>\n",
       "    </tr>\n",
       "    <tr>\n",
       "      <th>37</th>\n",
       "      <td>2842.148889</td>\n",
       "    </tr>\n",
       "    <tr>\n",
       "      <th>38</th>\n",
       "      <td>2858.760556</td>\n",
       "    </tr>\n",
       "    <tr>\n",
       "      <th>39</th>\n",
       "      <td>2836.540881</td>\n",
       "    </tr>\n",
       "    <tr>\n",
       "      <th>40</th>\n",
       "      <td>2839.238282</td>\n",
       "    </tr>\n",
       "    <tr>\n",
       "      <th>41</th>\n",
       "      <td>2830.689159</td>\n",
       "    </tr>\n",
       "    <tr>\n",
       "      <th>42</th>\n",
       "      <td>2836.917055</td>\n",
       "    </tr>\n",
       "    <tr>\n",
       "      <th>43</th>\n",
       "      <td>2820.484603</td>\n",
       "    </tr>\n",
       "    <tr>\n",
       "      <th>44</th>\n",
       "      <td>2814.508188</td>\n",
       "    </tr>\n",
       "    <tr>\n",
       "      <th>45</th>\n",
       "      <td>2783.347420</td>\n",
       "    </tr>\n",
       "    <tr>\n",
       "      <th>46</th>\n",
       "      <td>2761.615119</td>\n",
       "    </tr>\n",
       "    <tr>\n",
       "      <th>47</th>\n",
       "      <td>2743.702735</td>\n",
       "    </tr>\n",
       "    <tr>\n",
       "      <th>48</th>\n",
       "      <td>2731.811251</td>\n",
       "    </tr>\n",
       "    <tr>\n",
       "      <th>49</th>\n",
       "      <td>2723.813202</td>\n",
       "    </tr>\n",
       "    <tr>\n",
       "      <th>50</th>\n",
       "      <td>2700.711925</td>\n",
       "    </tr>\n",
       "    <tr>\n",
       "      <th>51</th>\n",
       "      <td>2684.541034</td>\n",
       "    </tr>\n",
       "    <tr>\n",
       "      <th>52</th>\n",
       "      <td>2686.536437</td>\n",
       "    </tr>\n",
       "    <tr>\n",
       "      <th>53</th>\n",
       "      <td>2676.937505</td>\n",
       "    </tr>\n",
       "    <tr>\n",
       "      <th>54</th>\n",
       "      <td>2662.256902</td>\n",
       "    </tr>\n",
       "    <tr>\n",
       "      <th>55</th>\n",
       "      <td>2655.147002</td>\n",
       "    </tr>\n",
       "    <tr>\n",
       "      <th>56</th>\n",
       "      <td>2622.663532</td>\n",
       "    </tr>\n",
       "    <tr>\n",
       "      <th>57</th>\n",
       "      <td>2589.513255</td>\n",
       "    </tr>\n",
       "    <tr>\n",
       "      <th>58</th>\n",
       "      <td>2569.524130</td>\n",
       "    </tr>\n",
       "    <tr>\n",
       "      <th>59</th>\n",
       "      <td>2556.340378</td>\n",
       "    </tr>\n",
       "    <tr>\n",
       "      <th>60</th>\n",
       "      <td>2529.955664</td>\n",
       "    </tr>\n",
       "    <tr>\n",
       "      <th>61</th>\n",
       "      <td>2504.290866</td>\n",
       "    </tr>\n",
       "    <tr>\n",
       "      <th>62</th>\n",
       "      <td>2482.750296</td>\n",
       "    </tr>\n",
       "    <tr>\n",
       "      <th>63</th>\n",
       "      <td>2473.888488</td>\n",
       "    </tr>\n",
       "    <tr>\n",
       "      <th>64</th>\n",
       "      <td>2463.464987</td>\n",
       "    </tr>\n",
       "    <tr>\n",
       "      <th>65</th>\n",
       "      <td>2452.220923</td>\n",
       "    </tr>\n",
       "    <tr>\n",
       "      <th>66</th>\n",
       "      <td>2427.838655</td>\n",
       "    </tr>\n",
       "    <tr>\n",
       "      <th>67</th>\n",
       "      <td>2402.530646</td>\n",
       "    </tr>\n",
       "    <tr>\n",
       "      <th>68</th>\n",
       "      <td>2394.119496</td>\n",
       "    </tr>\n",
       "    <tr>\n",
       "      <th>69</th>\n",
       "      <td>2384.590973</td>\n",
       "    </tr>\n",
       "    <tr>\n",
       "      <th>70</th>\n",
       "      <td>2359.108853</td>\n",
       "    </tr>\n",
       "    <tr>\n",
       "      <th>71</th>\n",
       "      <td>2338.674037</td>\n",
       "    </tr>\n",
       "    <tr>\n",
       "      <th>72</th>\n",
       "      <td>2318.251323</td>\n",
       "    </tr>\n",
       "    <tr>\n",
       "      <th>73</th>\n",
       "      <td>2310.427967</td>\n",
       "    </tr>\n",
       "    <tr>\n",
       "      <th>74</th>\n",
       "      <td>2291.903685</td>\n",
       "    </tr>\n",
       "    <tr>\n",
       "      <th>75</th>\n",
       "      <td>2270.115078</td>\n",
       "    </tr>\n",
       "  </tbody>\n",
       "</table>\n",
       "</div>"
      ],
      "text/plain": [
       "               ch_score\n",
       "n_clusters             \n",
       "2           1151.292730\n",
       "3           1796.052242\n",
       "4           1806.012778\n",
       "5           1968.301829\n",
       "6           2140.043906\n",
       "7           2163.996282\n",
       "8           2243.526218\n",
       "9           2160.925646\n",
       "10          2079.043246\n",
       "11          2127.587348\n",
       "12          2172.071880\n",
       "13          2245.643631\n",
       "14          2305.449323\n",
       "15          2363.394588\n",
       "16          2385.414556\n",
       "17          2415.016674\n",
       "18          2452.636279\n",
       "19          2465.362862\n",
       "20          2432.293677\n",
       "21          2442.705729\n",
       "22          2448.813691\n",
       "23          2469.140786\n",
       "24          2501.616542\n",
       "25          2506.283733\n",
       "26          2550.428294\n",
       "27          2586.656236\n",
       "28          2595.282843\n",
       "29          2627.790618\n",
       "30          2733.550622\n",
       "31          2761.942043\n",
       "32          2759.138751\n",
       "33          2821.872668\n",
       "34          2818.013400\n",
       "35          2843.944407\n",
       "36          2839.327213\n",
       "37          2842.148889\n",
       "38          2858.760556\n",
       "39          2836.540881\n",
       "40          2839.238282\n",
       "41          2830.689159\n",
       "42          2836.917055\n",
       "43          2820.484603\n",
       "44          2814.508188\n",
       "45          2783.347420\n",
       "46          2761.615119\n",
       "47          2743.702735\n",
       "48          2731.811251\n",
       "49          2723.813202\n",
       "50          2700.711925\n",
       "51          2684.541034\n",
       "52          2686.536437\n",
       "53          2676.937505\n",
       "54          2662.256902\n",
       "55          2655.147002\n",
       "56          2622.663532\n",
       "57          2589.513255\n",
       "58          2569.524130\n",
       "59          2556.340378\n",
       "60          2529.955664\n",
       "61          2504.290866\n",
       "62          2482.750296\n",
       "63          2473.888488\n",
       "64          2463.464987\n",
       "65          2452.220923\n",
       "66          2427.838655\n",
       "67          2402.530646\n",
       "68          2394.119496\n",
       "69          2384.590973\n",
       "70          2359.108853\n",
       "71          2338.674037\n",
       "72          2318.251323\n",
       "73          2310.427967\n",
       "74          2291.903685\n",
       "75          2270.115078"
      ]
     },
     "metadata": {},
     "output_type": "display_data"
    }
   ],
   "source": [
    "with pd.option_context(\"display.max_rows\", None, \"display.max_columns\", None):\n",
    "    _df = ensemble.groupby([\"n_clusters\"]).mean()\n",
    "    display(_df)"
   ]
  },
  {
   "cell_type": "code",
   "execution_count": 44,
   "id": "19e282a7",
   "metadata": {
    "execution": {
     "iopub.execute_input": "2022-11-26T05:29:40.842090Z",
     "iopub.status.busy": "2022-11-26T05:29:40.841820Z",
     "iopub.status.idle": "2022-11-26T05:29:43.317851Z",
     "shell.execute_reply": "2022-11-26T05:29:43.317473Z"
    },
    "papermill": {
     "duration": 2.493646,
     "end_time": "2022-11-26T05:29:43.319733",
     "exception": false,
     "start_time": "2022-11-26T05:29:40.826087",
     "status": "completed"
    },
    "tags": []
   },
   "outputs": [
    {
     "data": {
      "image/png": "[encoded data removed]",
      "text/plain": [
       "<Figure size 1008x432 with 1 Axes>"
      ]
     },
     "metadata": {},
     "output_type": "display_data"
    }
   ],
   "source": [
    "with sns.plotting_context(\"talk\", font_scale=0.75), sns.axes_style(\n",
    "    \"whitegrid\", {\"grid.linestyle\": \"--\"}\n",
    "):\n",
    "    fig = plt.figure(figsize=(14, 6))\n",
    "    ax = sns.pointplot(data=ensemble, x=\"n_clusters\", y=\"ch_score\")\n",
    "    ax.set_ylabel(\"Calinski-Harabasz index\")\n",
    "    ax.set_xlabel(\"Number of clusters ($k$)\")\n",
    "    ax.set_xticklabels(ax.get_xticklabels(), rotation=45)\n",
    "    plt.grid(True)\n",
    "    plt.tight_layout()"
   ]
  },
  {
   "cell_type": "markdown",
   "id": "41db2122",
   "metadata": {
    "papermill": {
     "duration": 0.030692,
     "end_time": "2022-11-26T05:29:43.382982",
     "exception": false,
     "start_time": "2022-11-26T05:29:43.352290",
     "status": "completed"
    },
    "tags": []
   },
   "source": [
    "# Stability"
   ]
  },
  {
   "cell_type": "markdown",
   "id": "ab383419",
   "metadata": {
    "papermill": {
     "duration": 0.015836,
     "end_time": "2022-11-26T05:29:43.423058",
     "exception": false,
     "start_time": "2022-11-26T05:29:43.407222",
     "status": "completed"
    },
    "tags": []
   },
   "source": [
    "## Group ensemble by n_clusters"
   ]
  },
  {
   "cell_type": "code",
   "execution_count": 45,
   "id": "2eb6e423",
   "metadata": {
    "execution": {
     "iopub.execute_input": "2022-11-26T05:29:43.455684Z",
     "iopub.status.busy": "2022-11-26T05:29:43.455590Z",
     "iopub.status.idle": "2022-11-26T05:29:43.480207Z",
     "shell.execute_reply": "2022-11-26T05:29:43.479794Z"
    },
    "papermill": {
     "duration": 0.04192,
     "end_time": "2022-11-26T05:29:43.481038",
     "exception": false,
     "start_time": "2022-11-26T05:29:43.439118",
     "status": "completed"
    },
    "tags": []
   },
   "outputs": [],
   "source": [
    "parts = ensemble.groupby(\"n_clusters\").apply(\n",
    "    lambda x: np.concatenate(x[\"partition\"].apply(lambda x: x.reshape(1, -1)), axis=0)\n",
    ")"
   ]
  },
  {
   "cell_type": "code",
   "execution_count": 46,
   "id": "39b8e705",
   "metadata": {
    "execution": {
     "iopub.execute_input": "2022-11-26T05:29:43.513687Z",
     "iopub.status.busy": "2022-11-26T05:29:43.513598Z",
     "iopub.status.idle": "2022-11-26T05:29:43.533945Z",
     "shell.execute_reply": "2022-11-26T05:29:43.533562Z"
    },
    "papermill": {
     "duration": 0.037322,
     "end_time": "2022-11-26T05:29:43.534636",
     "exception": false,
     "start_time": "2022-11-26T05:29:43.497314",
     "status": "completed"
    },
    "tags": []
   },
   "outputs": [
    {
     "data": {
      "text/plain": [
       "n_clusters\n",
       "2    [[0.0, 0.0, 0.0, 0.0, 0.0, 0.0, 0.0, 0.0, 0.0,...\n",
       "3    [[0.0, 0.0, 0.0, 0.0, 0.0, 0.0, 0.0, 0.0, 0.0,...\n",
       "4    [[3.0, 3.0, 3.0, 3.0, 3.0, 3.0, 3.0, 3.0, 3.0,...\n",
       "5    [[3.0, 3.0, 3.0, 3.0, 3.0, 3.0, 3.0, 3.0, 3.0,...\n",
       "6    [[3.0, 3.0, 3.0, 3.0, 3.0, 3.0, 3.0, 3.0, 3.0,...\n",
       "dtype: object"
      ]
     },
     "execution_count": 46,
     "metadata": {},
     "output_type": "execute_result"
    }
   ],
   "source": [
    "parts.head()"
   ]
  },
  {
   "cell_type": "code",
   "execution_count": 47,
   "id": "e98606f7",
   "metadata": {
    "execution": {
     "iopub.execute_input": "2022-11-26T05:29:43.567877Z",
     "iopub.status.busy": "2022-11-26T05:29:43.567526Z",
     "iopub.status.idle": "2022-11-26T05:29:43.580752Z",
     "shell.execute_reply": "2022-11-26T05:29:43.580394Z"
    },
    "papermill": {
     "duration": 0.03052,
     "end_time": "2022-11-26T05:29:43.581565",
     "exception": false,
     "start_time": "2022-11-26T05:29:43.551045",
     "status": "completed"
    },
    "tags": []
   },
   "outputs": [],
   "source": [
    "assert np.all(\n",
    "    [\n",
    "        parts.loc[k].shape == (len(CLUSTERING_OPTIONS[\"LINKAGE\"]), data.shape[0])\n",
    "        for k in parts.index\n",
    "    ]\n",
    ")"
   ]
  },
  {
   "cell_type": "markdown",
   "id": "a151ade5",
   "metadata": {
    "papermill": {
     "duration": 0.015864,
     "end_time": "2022-11-26T05:29:43.613538",
     "exception": false,
     "start_time": "2022-11-26T05:29:43.597674",
     "status": "completed"
    },
    "tags": []
   },
   "source": [
    "## Compute stability"
   ]
  },
  {
   "cell_type": "code",
   "execution_count": 48,
   "id": "123e8ca2",
   "metadata": {
    "execution": {
     "iopub.execute_input": "2022-11-26T05:29:43.645815Z",
     "iopub.status.busy": "2022-11-26T05:29:43.645732Z",
     "iopub.status.idle": "2022-11-26T05:29:43.657763Z",
     "shell.execute_reply": "2022-11-26T05:29:43.657424Z"
    },
    "papermill": {
     "duration": 0.029018,
     "end_time": "2022-11-26T05:29:43.658476",
     "exception": false,
     "start_time": "2022-11-26T05:29:43.629458",
     "status": "completed"
    },
    "tags": []
   },
   "outputs": [],
   "source": [
    "from sklearn.metrics import adjusted_rand_score as ari\n",
    "from scipy.spatial.distance import pdist"
   ]
  },
  {
   "cell_type": "code",
   "execution_count": 49,
   "id": "50621970",
   "metadata": {
    "execution": {
     "iopub.execute_input": "2022-11-26T05:29:43.691198Z",
     "iopub.status.busy": "2022-11-26T05:29:43.691066Z",
     "iopub.status.idle": "2022-11-26T05:29:44.023470Z",
     "shell.execute_reply": "2022-11-26T05:29:44.023005Z"
    },
    "papermill": {
     "duration": 0.349946,
     "end_time": "2022-11-26T05:29:44.024726",
     "exception": false,
     "start_time": "2022-11-26T05:29:43.674780",
     "status": "completed"
    },
    "tags": []
   },
   "outputs": [],
   "source": [
    "parts_ari = pd.Series(\n",
    "    {k: pdist(parts.loc[k], metric=ari) for k in parts.index}, name=\"k\"\n",
    ")"
   ]
  },
  {
   "cell_type": "code",
   "execution_count": 50,
   "id": "e50b6456",
   "metadata": {
    "execution": {
     "iopub.execute_input": "2022-11-26T05:29:44.059218Z",
     "iopub.status.busy": "2022-11-26T05:29:44.059129Z",
     "iopub.status.idle": "2022-11-26T05:29:44.073523Z",
     "shell.execute_reply": "2022-11-26T05:29:44.073108Z"
    },
    "papermill": {
     "duration": 0.031446,
     "end_time": "2022-11-26T05:29:44.074234",
     "exception": false,
     "start_time": "2022-11-26T05:29:44.042788",
     "status": "completed"
    },
    "tags": []
   },
   "outputs": [
    {
     "data": {
      "text/plain": [
       "8     0.367637\n",
       "9     0.362386\n",
       "7     0.335029\n",
       "6     0.334901\n",
       "10    0.332670\n",
       "33    0.315127\n",
       "13    0.314501\n",
       "11    0.314057\n",
       "35    0.313803\n",
       "34    0.313478\n",
       "12    0.313088\n",
       "30    0.312312\n",
       "39    0.311620\n",
       "40    0.311558\n",
       "36    0.311225\n",
       "Name: k, dtype: float64"
      ]
     },
     "metadata": {},
     "output_type": "display_data"
    }
   ],
   "source": [
    "parts_ari_stability = parts_ari.apply(lambda x: x.mean())\n",
    "display(parts_ari_stability.sort_values(ascending=False).head(15))"
   ]
  },
  {
   "cell_type": "code",
   "execution_count": 51,
   "id": "cc12f649",
   "metadata": {
    "execution": {
     "iopub.execute_input": "2022-11-26T05:29:44.106917Z",
     "iopub.status.busy": "2022-11-26T05:29:44.106828Z",
     "iopub.status.idle": "2022-11-26T05:29:44.119463Z",
     "shell.execute_reply": "2022-11-26T05:29:44.119044Z"
    },
    "papermill": {
     "duration": 0.029766,
     "end_time": "2022-11-26T05:29:44.120250",
     "exception": false,
     "start_time": "2022-11-26T05:29:44.090484",
     "status": "completed"
    },
    "tags": []
   },
   "outputs": [],
   "source": [
    "parts_ari_df = pd.DataFrame.from_records(parts_ari.tolist()).set_index(\n",
    "    parts_ari.index.copy()\n",
    ")"
   ]
  },
  {
   "cell_type": "code",
   "execution_count": 52,
   "id": "c3279251",
   "metadata": {
    "execution": {
     "iopub.execute_input": "2022-11-26T05:29:44.153016Z",
     "iopub.status.busy": "2022-11-26T05:29:44.152931Z",
     "iopub.status.idle": "2022-11-26T05:29:44.164700Z",
     "shell.execute_reply": "2022-11-26T05:29:44.164349Z"
    },
    "papermill": {
     "duration": 0.02879,
     "end_time": "2022-11-26T05:29:44.165364",
     "exception": false,
     "start_time": "2022-11-26T05:29:44.136574",
     "status": "completed"
    },
    "tags": []
   },
   "outputs": [
    {
     "data": {
      "text/plain": [
       "(74, 6)"
      ]
     },
     "execution_count": 52,
     "metadata": {},
     "output_type": "execute_result"
    }
   ],
   "source": [
    "parts_ari_df.shape"
   ]
  },
  {
   "cell_type": "code",
   "execution_count": 53,
   "id": "e1e2f5e6",
   "metadata": {
    "execution": {
     "iopub.execute_input": "2022-11-26T05:29:44.217124Z",
     "iopub.status.busy": "2022-11-26T05:29:44.217037Z",
     "iopub.status.idle": "2022-11-26T05:29:44.228636Z",
     "shell.execute_reply": "2022-11-26T05:29:44.228277Z"
    },
    "papermill": {
     "duration": 0.047748,
     "end_time": "2022-11-26T05:29:44.229399",
     "exception": false,
     "start_time": "2022-11-26T05:29:44.181651",
     "status": "completed"
    },
    "tags": []
   },
   "outputs": [],
   "source": [
    "assert (\n",
    "    int(\n",
    "        (len(CLUSTERING_OPTIONS[\"LINKAGE\"]) * (len(CLUSTERING_OPTIONS[\"LINKAGE\"]) - 1))\n",
    "        / 2\n",
    "    )\n",
    "    == parts_ari_df.shape[1]\n",
    ")"
   ]
  },
  {
   "cell_type": "code",
   "execution_count": 54,
   "id": "9d8d058f",
   "metadata": {
    "execution": {
     "iopub.execute_input": "2022-11-26T05:29:44.262315Z",
     "iopub.status.busy": "2022-11-26T05:29:44.262230Z",
     "iopub.status.idle": "2022-11-26T05:29:44.276501Z",
     "shell.execute_reply": "2022-11-26T05:29:44.276151Z"
    },
    "papermill": {
     "duration": 0.031321,
     "end_time": "2022-11-26T05:29:44.277212",
     "exception": false,
     "start_time": "2022-11-26T05:29:44.245891",
     "status": "completed"
    },
    "tags": []
   },
   "outputs": [
    {
     "data": {
      "text/html": [
       "<div>\n",
       "<style scoped>\n",
       "    .dataframe tbody tr th:only-of-type {\n",
       "        vertical-align: middle;\n",
       "    }\n",
       "\n",
       "    .dataframe tbody tr th {\n",
       "        vertical-align: top;\n",
       "    }\n",
       "\n",
       "    .dataframe thead th {\n",
       "        text-align: right;\n",
       "    }\n",
       "</style>\n",
       "<table border=\"1\" class=\"dataframe\">\n",
       "  <thead>\n",
       "    <tr style=\"text-align: right;\">\n",
       "      <th></th>\n",
       "      <th>0</th>\n",
       "      <th>1</th>\n",
       "      <th>2</th>\n",
       "      <th>3</th>\n",
       "      <th>4</th>\n",
       "      <th>5</th>\n",
       "    </tr>\n",
       "  </thead>\n",
       "  <tbody>\n",
       "    <tr>\n",
       "      <th>2</th>\n",
       "      <td>-0.006024</td>\n",
       "      <td>0.195835</td>\n",
       "      <td>-0.011777</td>\n",
       "      <td>-0.005119</td>\n",
       "      <td>-0.007104</td>\n",
       "      <td>0.079460</td>\n",
       "    </tr>\n",
       "    <tr>\n",
       "      <th>3</th>\n",
       "      <td>-0.002559</td>\n",
       "      <td>0.374122</td>\n",
       "      <td>0.888254</td>\n",
       "      <td>0.001718</td>\n",
       "      <td>-0.002507</td>\n",
       "      <td>0.430757</td>\n",
       "    </tr>\n",
       "    <tr>\n",
       "      <th>4</th>\n",
       "      <td>0.001356</td>\n",
       "      <td>0.459332</td>\n",
       "      <td>0.637848</td>\n",
       "      <td>-0.000464</td>\n",
       "      <td>-0.004019</td>\n",
       "      <td>0.445960</td>\n",
       "    </tr>\n",
       "    <tr>\n",
       "      <th>5</th>\n",
       "      <td>-0.000437</td>\n",
       "      <td>0.687705</td>\n",
       "      <td>0.531198</td>\n",
       "      <td>-0.002635</td>\n",
       "      <td>-0.005338</td>\n",
       "      <td>0.526064</td>\n",
       "    </tr>\n",
       "    <tr>\n",
       "      <th>6</th>\n",
       "      <td>-0.001478</td>\n",
       "      <td>0.691392</td>\n",
       "      <td>0.717386</td>\n",
       "      <td>0.003993</td>\n",
       "      <td>-0.001549</td>\n",
       "      <td>0.599661</td>\n",
       "    </tr>\n",
       "  </tbody>\n",
       "</table>\n",
       "</div>"
      ],
      "text/plain": [
       "          0         1         2         3         4         5\n",
       "2 -0.006024  0.195835 -0.011777 -0.005119 -0.007104  0.079460\n",
       "3 -0.002559  0.374122  0.888254  0.001718 -0.002507  0.430757\n",
       "4  0.001356  0.459332  0.637848 -0.000464 -0.004019  0.445960\n",
       "5 -0.000437  0.687705  0.531198 -0.002635 -0.005338  0.526064\n",
       "6 -0.001478  0.691392  0.717386  0.003993 -0.001549  0.599661"
      ]
     },
     "execution_count": 54,
     "metadata": {},
     "output_type": "execute_result"
    }
   ],
   "source": [
    "parts_ari_df.head()"
   ]
  },
  {
   "cell_type": "markdown",
   "id": "0a7645f2",
   "metadata": {
    "papermill": {
     "duration": 0.015994,
     "end_time": "2022-11-26T05:29:44.309594",
     "exception": false,
     "start_time": "2022-11-26T05:29:44.293600",
     "status": "completed"
    },
    "tags": []
   },
   "source": [
    "## Save"
   ]
  },
  {
   "cell_type": "code",
   "execution_count": 55,
   "id": "0d5a3b1c",
   "metadata": {
    "execution": {
     "iopub.execute_input": "2022-11-26T05:29:44.342224Z",
     "iopub.status.busy": "2022-11-26T05:29:44.342138Z",
     "iopub.status.idle": "2022-11-26T05:29:44.354550Z",
     "shell.execute_reply": "2022-11-26T05:29:44.354213Z"
    },
    "papermill": {
     "duration": 0.029554,
     "end_time": "2022-11-26T05:29:44.355266",
     "exception": false,
     "start_time": "2022-11-26T05:29:44.325712",
     "status": "completed"
    },
    "tags": []
   },
   "outputs": [
    {
     "data": {
      "text/plain": [
       "PosixPath('/opt/data/results/clustering/null_sims/shuffle_genes/runs/umap-z_score_std-projection-smultixcan-efo_partial-mashr-zscores/AgglomerativeClustering-stability-AFFINITY_euclidean-K_MAX_75-K_MIN_2-LINKAGE_ward_single_complete_average.pkl')"
      ]
     },
     "metadata": {},
     "output_type": "display_data"
    }
   ],
   "source": [
    "output_filename = Path(\n",
    "    RESULTS_DIR,\n",
    "    generate_result_set_name(\n",
    "        CLUSTERING_OPTIONS,\n",
    "        prefix=f\"{clustering_method_name}-stability-\",\n",
    "        suffix=\".pkl\",\n",
    "    ),\n",
    ").resolve()\n",
    "display(output_filename)"
   ]
  },
  {
   "cell_type": "code",
   "execution_count": 56,
   "id": "1d4e3563",
   "metadata": {
    "execution": {
     "iopub.execute_input": "2022-11-26T05:29:44.388318Z",
     "iopub.status.busy": "2022-11-26T05:29:44.388037Z",
     "iopub.status.idle": "2022-11-26T05:29:44.399440Z",
     "shell.execute_reply": "2022-11-26T05:29:44.399089Z"
    },
    "papermill": {
     "duration": 0.028648,
     "end_time": "2022-11-26T05:29:44.400242",
     "exception": false,
     "start_time": "2022-11-26T05:29:44.371594",
     "status": "completed"
    },
    "tags": []
   },
   "outputs": [],
   "source": [
    "parts_ari_df.to_pickle(output_filename)"
   ]
  },
  {
   "cell_type": "markdown",
   "id": "37426bf6",
   "metadata": {
    "papermill": {
     "duration": 0.016081,
     "end_time": "2022-11-26T05:29:44.432650",
     "exception": false,
     "start_time": "2022-11-26T05:29:44.416569",
     "status": "completed"
    },
    "tags": []
   },
   "source": [
    "## Stability plot"
   ]
  },
  {
   "cell_type": "code",
   "execution_count": 57,
   "id": "145548e9",
   "metadata": {
    "execution": {
     "iopub.execute_input": "2022-11-26T05:29:44.465427Z",
     "iopub.status.busy": "2022-11-26T05:29:44.465289Z",
     "iopub.status.idle": "2022-11-26T05:29:44.477787Z",
     "shell.execute_reply": "2022-11-26T05:29:44.477434Z"
    },
    "papermill": {
     "duration": 0.029698,
     "end_time": "2022-11-26T05:29:44.478508",
     "exception": false,
     "start_time": "2022-11-26T05:29:44.448810",
     "status": "completed"
    },
    "tags": []
   },
   "outputs": [],
   "source": [
    "parts_ari_df_plot = (\n",
    "    parts_ari_df.stack()\n",
    "    .reset_index()\n",
    "    .rename(columns={\"level_0\": \"k\", \"level_1\": \"idx\", 0: \"ari\"})\n",
    ")"
   ]
  },
  {
   "cell_type": "code",
   "execution_count": 58,
   "id": "abb63903",
   "metadata": {
    "execution": {
     "iopub.execute_input": "2022-11-26T05:29:44.511513Z",
     "iopub.status.busy": "2022-11-26T05:29:44.511235Z",
     "iopub.status.idle": "2022-11-26T05:29:44.523941Z",
     "shell.execute_reply": "2022-11-26T05:29:44.523603Z"
    },
    "papermill": {
     "duration": 0.029701,
     "end_time": "2022-11-26T05:29:44.524613",
     "exception": false,
     "start_time": "2022-11-26T05:29:44.494912",
     "status": "completed"
    },
    "tags": []
   },
   "outputs": [
    {
     "data": {
      "text/plain": [
       "k        int64\n",
       "idx      int64\n",
       "ari    float64\n",
       "dtype: object"
      ]
     },
     "execution_count": 58,
     "metadata": {},
     "output_type": "execute_result"
    }
   ],
   "source": [
    "parts_ari_df_plot.dtypes"
   ]
  },
  {
   "cell_type": "code",
   "execution_count": 59,
   "id": "e1c79fa9",
   "metadata": {
    "execution": {
     "iopub.execute_input": "2022-11-26T05:29:44.557845Z",
     "iopub.status.busy": "2022-11-26T05:29:44.557757Z",
     "iopub.status.idle": "2022-11-26T05:29:44.571046Z",
     "shell.execute_reply": "2022-11-26T05:29:44.570693Z"
    },
    "papermill": {
     "duration": 0.030601,
     "end_time": "2022-11-26T05:29:44.571722",
     "exception": false,
     "start_time": "2022-11-26T05:29:44.541121",
     "status": "completed"
    },
    "tags": []
   },
   "outputs": [
    {
     "data": {
      "text/html": [
       "<div>\n",
       "<style scoped>\n",
       "    .dataframe tbody tr th:only-of-type {\n",
       "        vertical-align: middle;\n",
       "    }\n",
       "\n",
       "    .dataframe tbody tr th {\n",
       "        vertical-align: top;\n",
       "    }\n",
       "\n",
       "    .dataframe thead th {\n",
       "        text-align: right;\n",
       "    }\n",
       "</style>\n",
       "<table border=\"1\" class=\"dataframe\">\n",
       "  <thead>\n",
       "    <tr style=\"text-align: right;\">\n",
       "      <th></th>\n",
       "      <th>k</th>\n",
       "      <th>idx</th>\n",
       "      <th>ari</th>\n",
       "    </tr>\n",
       "  </thead>\n",
       "  <tbody>\n",
       "    <tr>\n",
       "      <th>0</th>\n",
       "      <td>2</td>\n",
       "      <td>0</td>\n",
       "      <td>-0.006024</td>\n",
       "    </tr>\n",
       "    <tr>\n",
       "      <th>1</th>\n",
       "      <td>2</td>\n",
       "      <td>1</td>\n",
       "      <td>0.195835</td>\n",
       "    </tr>\n",
       "    <tr>\n",
       "      <th>2</th>\n",
       "      <td>2</td>\n",
       "      <td>2</td>\n",
       "      <td>-0.011777</td>\n",
       "    </tr>\n",
       "    <tr>\n",
       "      <th>3</th>\n",
       "      <td>2</td>\n",
       "      <td>3</td>\n",
       "      <td>-0.005119</td>\n",
       "    </tr>\n",
       "    <tr>\n",
       "      <th>4</th>\n",
       "      <td>2</td>\n",
       "      <td>4</td>\n",
       "      <td>-0.007104</td>\n",
       "    </tr>\n",
       "  </tbody>\n",
       "</table>\n",
       "</div>"
      ],
      "text/plain": [
       "   k  idx       ari\n",
       "0  2    0 -0.006024\n",
       "1  2    1  0.195835\n",
       "2  2    2 -0.011777\n",
       "3  2    3 -0.005119\n",
       "4  2    4 -0.007104"
      ]
     },
     "execution_count": 59,
     "metadata": {},
     "output_type": "execute_result"
    }
   ],
   "source": [
    "parts_ari_df_plot.head()"
   ]
  },
  {
   "cell_type": "code",
   "execution_count": 60,
   "id": "2dbdce45",
   "metadata": {
    "execution": {
     "iopub.execute_input": "2022-11-26T05:29:44.604969Z",
     "iopub.status.busy": "2022-11-26T05:29:44.604870Z",
     "iopub.status.idle": "2022-11-26T05:29:46.930095Z",
     "shell.execute_reply": "2022-11-26T05:29:46.929649Z"
    },
    "papermill": {
     "duration": 2.343597,
     "end_time": "2022-11-26T05:29:46.931755",
     "exception": false,
     "start_time": "2022-11-26T05:29:44.588158",
     "status": "completed"
    },
    "tags": []
   },
   "outputs": [
    {
     "data": {
      "image/png": "[encoded data removed]",
      "text/plain": [
       "<Figure size 1008x432 with 1 Axes>"
      ]
     },
     "metadata": {},
     "output_type": "display_data"
    }
   ],
   "source": [
    "# with sns.axes_style('whitegrid', {'grid.linestyle': '--'}):\n",
    "with sns.plotting_context(\"talk\", font_scale=0.75), sns.axes_style(\n",
    "    \"whitegrid\", {\"grid.linestyle\": \"--\"}\n",
    "):\n",
    "    fig = plt.figure(figsize=(14, 6))\n",
    "    ax = sns.pointplot(data=parts_ari_df_plot, x=\"k\", y=\"ari\")\n",
    "    ax.set_ylabel(\"Averange ARI\")\n",
    "    ax.set_xlabel(\"Number of clusters ($k$)\")\n",
    "    ax.set_xticklabels(ax.get_xticklabels(), rotation=45)\n",
    "    #     ax.set_ylim(0.0, 1.0)\n",
    "    #     ax.set_xlim(CLUSTERING_OPTIONS['K_MIN'], CLUSTERING_OPTIONS['K_MAX'])\n",
    "    plt.grid(True)\n",
    "    plt.tight_layout()"
   ]
  },
  {
   "cell_type": "code",
   "execution_count": null,
   "id": "91cac478",
   "metadata": {
    "papermill": {
     "duration": 0.032431,
     "end_time": "2022-11-26T05:29:46.998418",
     "exception": false,
     "start_time": "2022-11-26T05:29:46.965987",
     "status": "completed"
    },
    "tags": []
   },
   "outputs": [],
   "source": []
  }
 ],
 "metadata": {
  "jupytext": {
   "cell_metadata_filter": "all,-execution,-papermill,-trusted",
   "formats": "ipynb,py//py:percent"
  },
  "kernelspec": {
   "display_name": "Python 3 (ipykernel)",
   "language": "python",
   "name": "python3"
  },
  "language_info": {
   "codemirror_mode": {
    "name": "ipython",
    "version": 3
   },
   "file_extension": ".py",
   "mimetype": "text/x-python",
   "name": "python",
   "nbconvert_exporter": "python",
   "pygments_lexer": "ipython3",
   "version": "3.8.13"
  },
  "papermill": {
   "default_parameters": {},
   "duration": 1026.761661,
   "end_time": "2022-11-26T05:29:47.338818",
   "environment_variables": {},
   "exception": null,
   "input_path": "nbs/13.1_cluster_analysis_null/00-shuffle_genes/13_02-hc-umap.ipynb",
   "output_path": "nbs/13.1_cluster_analysis_null/00-shuffle_genes/13_02-hc-umap.run.ipynb",
   "parameters": {},
   "start_time": "2022-11-26T05:12:40.577157",
   "version": "2.2.2"
  },
  "toc-autonumbering": true,
  "toc-showcode": false,
  "toc-showmarkdowntxt": false,
  "toc-showtags": false
 },
 "nbformat": 4,
 "nbformat_minor": 5
}
