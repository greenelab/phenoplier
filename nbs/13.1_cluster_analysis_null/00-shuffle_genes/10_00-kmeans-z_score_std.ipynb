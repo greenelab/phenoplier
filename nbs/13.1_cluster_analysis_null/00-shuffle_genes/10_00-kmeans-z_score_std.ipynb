{
 "cells": [
  {
   "cell_type": "markdown",
   "id": "66c94a85",
   "metadata": {
    "papermill": {
     "duration": 0.014806,
     "end_time": "2022-11-25T04:29:28.490758",
     "exception": false,
     "start_time": "2022-11-25T04:29:28.475952",
     "status": "completed"
    },
    "tags": []
   },
   "source": [
    "# Description"
   ]
  },
  {
   "cell_type": "markdown",
   "id": "3e1f0d84",
   "metadata": {
    "papermill": {
     "duration": 0.012113,
     "end_time": "2022-11-25T04:29:28.515243",
     "exception": false,
     "start_time": "2022-11-25T04:29:28.503130",
     "status": "completed"
    },
    "tags": []
   },
   "source": [
    "Runs k-means on the z_score_std version of the data."
   ]
  },
  {
   "cell_type": "markdown",
   "id": "a35cceef",
   "metadata": {
    "papermill": {
     "duration": 0.012589,
     "end_time": "2022-11-25T04:29:28.542740",
     "exception": false,
     "start_time": "2022-11-25T04:29:28.530151",
     "status": "completed"
    },
    "tags": []
   },
   "source": [
    "# Environment variables"
   ]
  },
  {
   "cell_type": "code",
   "execution_count": 1,
   "id": "5bfbc3a8",
   "metadata": {
    "execution": {
     "iopub.execute_input": "2022-11-25T04:29:28.565519Z",
     "iopub.status.busy": "2022-11-25T04:29:28.565263Z",
     "iopub.status.idle": "2022-11-25T04:29:28.576196Z",
     "shell.execute_reply": "2022-11-25T04:29:28.575880Z"
    },
    "papermill": {
     "duration": 0.021409,
     "end_time": "2022-11-25T04:29:28.577002",
     "exception": false,
     "start_time": "2022-11-25T04:29:28.555593",
     "status": "completed"
    },
    "tags": []
   },
   "outputs": [
    {
     "data": {
      "text/plain": [
       "10"
      ]
     },
     "metadata": {},
     "output_type": "display_data"
    }
   ],
   "source": [
    "from IPython.display import display\n",
    "\n",
    "import conf\n",
    "\n",
    "N_JOBS = conf.GENERAL[\"N_JOBS\"]\n",
    "display(N_JOBS)"
   ]
  },
  {
   "cell_type": "code",
   "execution_count": 2,
   "id": "fd08b2f5",
   "metadata": {
    "execution": {
     "iopub.execute_input": "2022-11-25T04:29:28.590437Z",
     "iopub.status.busy": "2022-11-25T04:29:28.590340Z",
     "iopub.status.idle": "2022-11-25T04:29:28.594495Z",
     "shell.execute_reply": "2022-11-25T04:29:28.594110Z"
    },
    "papermill": {
     "duration": 0.011513,
     "end_time": "2022-11-25T04:29:28.595213",
     "exception": false,
     "start_time": "2022-11-25T04:29:28.583700",
     "status": "completed"
    },
    "tags": []
   },
   "outputs": [
    {
     "name": "stdout",
     "output_type": "stream",
     "text": [
      "env: MKL_NUM_THREADS=10\n",
      "env: OPEN_BLAS_NUM_THREADS=10\n",
      "env: NUMEXPR_NUM_THREADS=10\n",
      "env: OMP_NUM_THREADS=10\n"
     ]
    }
   ],
   "source": [
    "%env MKL_NUM_THREADS=$N_JOBS\n",
    "%env OPEN_BLAS_NUM_THREADS=$N_JOBS\n",
    "%env NUMEXPR_NUM_THREADS=$N_JOBS\n",
    "%env OMP_NUM_THREADS=$N_JOBS"
   ]
  },
  {
   "cell_type": "markdown",
   "id": "f678aeb0",
   "metadata": {
    "papermill": {
     "duration": 0.006134,
     "end_time": "2022-11-25T04:29:28.607604",
     "exception": false,
     "start_time": "2022-11-25T04:29:28.601470",
     "status": "completed"
    },
    "tags": []
   },
   "source": [
    "# Modules loading"
   ]
  },
  {
   "cell_type": "code",
   "execution_count": 3,
   "id": "426b89ab",
   "metadata": {
    "execution": {
     "iopub.execute_input": "2022-11-25T04:29:28.621323Z",
     "iopub.status.busy": "2022-11-25T04:29:28.621138Z",
     "iopub.status.idle": "2022-11-25T04:29:28.629808Z",
     "shell.execute_reply": "2022-11-25T04:29:28.629448Z"
    },
    "papermill": {
     "duration": 0.016256,
     "end_time": "2022-11-25T04:29:28.630576",
     "exception": false,
     "start_time": "2022-11-25T04:29:28.614320",
     "status": "completed"
    },
    "tags": []
   },
   "outputs": [],
   "source": [
    "%load_ext autoreload\n",
    "%autoreload 2"
   ]
  },
  {
   "cell_type": "code",
   "execution_count": 4,
   "id": "be2e621b",
   "metadata": {
    "execution": {
     "iopub.execute_input": "2022-11-25T04:29:28.643906Z",
     "iopub.status.busy": "2022-11-25T04:29:28.643756Z",
     "iopub.status.idle": "2022-11-25T04:29:29.087001Z",
     "shell.execute_reply": "2022-11-25T04:29:29.086609Z"
    },
    "papermill": {
     "duration": 0.451868,
     "end_time": "2022-11-25T04:29:29.088638",
     "exception": false,
     "start_time": "2022-11-25T04:29:28.636770",
     "status": "completed"
    },
    "tags": []
   },
   "outputs": [],
   "source": [
    "from pathlib import Path\n",
    "\n",
    "import numpy as np\n",
    "import pandas as pd\n",
    "import matplotlib.pyplot as plt\n",
    "import seaborn as sns\n",
    "\n",
    "from utils import generate_result_set_name"
   ]
  },
  {
   "cell_type": "markdown",
   "id": "1afd3315",
   "metadata": {
    "papermill": {
     "duration": 0.013802,
     "end_time": "2022-11-25T04:29:29.115183",
     "exception": false,
     "start_time": "2022-11-25T04:29:29.101381",
     "status": "completed"
    },
    "tags": []
   },
   "source": [
    "# Settings"
   ]
  },
  {
   "cell_type": "code",
   "execution_count": 5,
   "id": "cf04fc00",
   "metadata": {
    "execution": {
     "iopub.execute_input": "2022-11-25T04:29:29.142002Z",
     "iopub.status.busy": "2022-11-25T04:29:29.141914Z",
     "iopub.status.idle": "2022-11-25T04:29:29.152778Z",
     "shell.execute_reply": "2022-11-25T04:29:29.152441Z"
    },
    "papermill": {
     "duration": 0.02592,
     "end_time": "2022-11-25T04:29:29.154033",
     "exception": false,
     "start_time": "2022-11-25T04:29:29.128113",
     "status": "completed"
    },
    "tags": []
   },
   "outputs": [],
   "source": [
    "np.random.seed(0)"
   ]
  },
  {
   "cell_type": "code",
   "execution_count": 6,
   "id": "cec0eb37",
   "metadata": {
    "execution": {
     "iopub.execute_input": "2022-11-25T04:29:29.201185Z",
     "iopub.status.busy": "2022-11-25T04:29:29.200831Z",
     "iopub.status.idle": "2022-11-25T04:29:29.210492Z",
     "shell.execute_reply": "2022-11-25T04:29:29.210163Z"
    },
    "papermill": {
     "duration": 0.01969,
     "end_time": "2022-11-25T04:29:29.211162",
     "exception": false,
     "start_time": "2022-11-25T04:29:29.191472",
     "status": "completed"
    },
    "tags": []
   },
   "outputs": [],
   "source": [
    "INITIAL_RANDOM_STATE = 0"
   ]
  },
  {
   "cell_type": "code",
   "execution_count": 7,
   "id": "f2c54434-a0b7-4e73-8d9e-f5d3844f72fc",
   "metadata": {
    "execution": {
     "iopub.execute_input": "2022-11-25T04:29:29.224490Z",
     "iopub.status.busy": "2022-11-25T04:29:29.224405Z",
     "iopub.status.idle": "2022-11-25T04:29:29.234133Z",
     "shell.execute_reply": "2022-11-25T04:29:29.233803Z"
    },
    "papermill": {
     "duration": 0.016951,
     "end_time": "2022-11-25T04:29:29.234812",
     "exception": false,
     "start_time": "2022-11-25T04:29:29.217861",
     "status": "completed"
    },
    "tags": []
   },
   "outputs": [],
   "source": [
    "NULL_DIR = conf.RESULTS[\"CLUSTERING_NULL_DIR\"] / \"shuffle_genes\""
   ]
  },
  {
   "cell_type": "markdown",
   "id": "e572a4bf",
   "metadata": {
    "papermill": {
     "duration": 0.006114,
     "end_time": "2022-11-25T04:29:29.247155",
     "exception": false,
     "start_time": "2022-11-25T04:29:29.241041",
     "status": "completed"
    },
    "tags": []
   },
   "source": [
    "## Input data"
   ]
  },
  {
   "cell_type": "code",
   "execution_count": 8,
   "id": "5f7a64c8",
   "metadata": {
    "execution": {
     "iopub.execute_input": "2022-11-25T04:29:29.260370Z",
     "iopub.status.busy": "2022-11-25T04:29:29.260231Z",
     "iopub.status.idle": "2022-11-25T04:29:29.269804Z",
     "shell.execute_reply": "2022-11-25T04:29:29.269463Z"
    },
    "papermill": {
     "duration": 0.016966,
     "end_time": "2022-11-25T04:29:29.270625",
     "exception": false,
     "start_time": "2022-11-25T04:29:29.253659",
     "status": "completed"
    },
    "tags": []
   },
   "outputs": [],
   "source": [
    "INPUT_SUBSET = \"z_score_std\""
   ]
  },
  {
   "cell_type": "code",
   "execution_count": 9,
   "id": "9da5bd24",
   "metadata": {
    "execution": {
     "iopub.execute_input": "2022-11-25T04:29:29.283714Z",
     "iopub.status.busy": "2022-11-25T04:29:29.283629Z",
     "iopub.status.idle": "2022-11-25T04:29:29.293231Z",
     "shell.execute_reply": "2022-11-25T04:29:29.292881Z"
    },
    "papermill": {
     "duration": 0.017018,
     "end_time": "2022-11-25T04:29:29.293941",
     "exception": false,
     "start_time": "2022-11-25T04:29:29.276923",
     "status": "completed"
    },
    "tags": []
   },
   "outputs": [],
   "source": [
    "INPUT_STEM = \"projection-smultixcan-efo_partial-mashr-zscores\""
   ]
  },
  {
   "cell_type": "code",
   "execution_count": 10,
   "id": "cd01420f",
   "metadata": {
    "execution": {
     "iopub.execute_input": "2022-11-25T04:29:29.306844Z",
     "iopub.status.busy": "2022-11-25T04:29:29.306709Z",
     "iopub.status.idle": "2022-11-25T04:29:29.317926Z",
     "shell.execute_reply": "2022-11-25T04:29:29.317598Z"
    },
    "papermill": {
     "duration": 0.018481,
     "end_time": "2022-11-25T04:29:29.318639",
     "exception": false,
     "start_time": "2022-11-25T04:29:29.300158",
     "status": "completed"
    },
    "tags": []
   },
   "outputs": [
    {
     "data": {
      "text/plain": [
       "PosixPath('/opt/data/results/clustering/null_sims/shuffle_genes/data_transformations/z_score_std/z_score_std-projection-smultixcan-efo_partial-mashr-zscores.pkl')"
      ]
     },
     "metadata": {},
     "output_type": "display_data"
    },
    {
     "data": {
      "text/plain": [
       "'z_score_std-projection-smultixcan-efo_partial-mashr-zscores'"
      ]
     },
     "metadata": {},
     "output_type": "display_data"
    }
   ],
   "source": [
    "input_filepath = Path(\n",
    "    NULL_DIR,\n",
    "    \"data_transformations\",\n",
    "    INPUT_SUBSET,\n",
    "    f\"{INPUT_SUBSET}-{INPUT_STEM}.pkl\",\n",
    ").resolve()\n",
    "display(input_filepath)\n",
    "\n",
    "assert input_filepath.exists(), \"Input file does not exist\"\n",
    "\n",
    "input_filepath_stem = input_filepath.stem\n",
    "display(input_filepath_stem)"
   ]
  },
  {
   "cell_type": "markdown",
   "id": "7f098ebe",
   "metadata": {
    "papermill": {
     "duration": 0.006424,
     "end_time": "2022-11-25T04:29:29.331396",
     "exception": false,
     "start_time": "2022-11-25T04:29:29.324972",
     "status": "completed"
    },
    "tags": []
   },
   "source": [
    "## Clustering"
   ]
  },
  {
   "cell_type": "code",
   "execution_count": 11,
   "id": "985066d7",
   "metadata": {
    "execution": {
     "iopub.execute_input": "2022-11-25T04:29:29.344536Z",
     "iopub.status.busy": "2022-11-25T04:29:29.344448Z",
     "iopub.status.idle": "2022-11-25T04:29:29.402366Z",
     "shell.execute_reply": "2022-11-25T04:29:29.401978Z"
    },
    "papermill": {
     "duration": 0.066126,
     "end_time": "2022-11-25T04:29:29.403875",
     "exception": false,
     "start_time": "2022-11-25T04:29:29.337749",
     "status": "completed"
    },
    "tags": []
   },
   "outputs": [],
   "source": [
    "from sklearn.cluster import KMeans"
   ]
  },
  {
   "cell_type": "code",
   "execution_count": 12,
   "id": "694048cb",
   "metadata": {
    "execution": {
     "iopub.execute_input": "2022-11-25T04:29:29.431037Z",
     "iopub.status.busy": "2022-11-25T04:29:29.430860Z",
     "iopub.status.idle": "2022-11-25T04:29:29.443675Z",
     "shell.execute_reply": "2022-11-25T04:29:29.443280Z"
    },
    "papermill": {
     "duration": 0.027366,
     "end_time": "2022-11-25T04:29:29.445033",
     "exception": false,
     "start_time": "2022-11-25T04:29:29.417667",
     "status": "completed"
    },
    "tags": []
   },
   "outputs": [],
   "source": [
    "CLUSTERING_ATTRIBUTES_TO_SAVE = [\"n_clusters\"]"
   ]
  },
  {
   "cell_type": "code",
   "execution_count": 13,
   "id": "7cca6d0c",
   "metadata": {
    "execution": {
     "iopub.execute_input": "2022-11-25T04:29:29.472466Z",
     "iopub.status.busy": "2022-11-25T04:29:29.472370Z",
     "iopub.status.idle": "2022-11-25T04:29:29.484721Z",
     "shell.execute_reply": "2022-11-25T04:29:29.484389Z"
    },
    "papermill": {
     "duration": 0.026883,
     "end_time": "2022-11-25T04:29:29.485901",
     "exception": false,
     "start_time": "2022-11-25T04:29:29.459018",
     "status": "completed"
    },
    "tags": []
   },
   "outputs": [
    {
     "data": {
      "text/plain": [
       "{'K_MIN': 2, 'K_MAX': 60, 'N_REPS_PER_K': 5, 'KMEANS_N_INIT': 10}"
      ]
     },
     "metadata": {},
     "output_type": "display_data"
    }
   ],
   "source": [
    "CLUSTERING_OPTIONS = {}\n",
    "\n",
    "CLUSTERING_OPTIONS[\"K_MIN\"] = 2\n",
    "CLUSTERING_OPTIONS[\"K_MAX\"] = 60  # sqrt(3749)\n",
    "CLUSTERING_OPTIONS[\"N_REPS_PER_K\"] = 5\n",
    "CLUSTERING_OPTIONS[\"KMEANS_N_INIT\"] = 10\n",
    "\n",
    "display(CLUSTERING_OPTIONS)"
   ]
  },
  {
   "cell_type": "code",
   "execution_count": 14,
   "id": "4eba8b8a",
   "metadata": {
    "execution": {
     "iopub.execute_input": "2022-11-25T04:29:29.512477Z",
     "iopub.status.busy": "2022-11-25T04:29:29.512394Z",
     "iopub.status.idle": "2022-11-25T04:29:29.524578Z",
     "shell.execute_reply": "2022-11-25T04:29:29.524231Z"
    },
    "papermill": {
     "duration": 0.027131,
     "end_time": "2022-11-25T04:29:29.525756",
     "exception": false,
     "start_time": "2022-11-25T04:29:29.498625",
     "status": "completed"
    },
    "tags": []
   },
   "outputs": [],
   "source": [
    "CLUSTERERS = {}\n",
    "\n",
    "idx = 0\n",
    "random_state = INITIAL_RANDOM_STATE\n",
    "\n",
    "for k in range(CLUSTERING_OPTIONS[\"K_MIN\"], CLUSTERING_OPTIONS[\"K_MAX\"] + 1):\n",
    "    for i in range(CLUSTERING_OPTIONS[\"N_REPS_PER_K\"]):\n",
    "        clus = KMeans(\n",
    "            n_clusters=k,\n",
    "            n_init=CLUSTERING_OPTIONS[\"KMEANS_N_INIT\"],\n",
    "            random_state=random_state,\n",
    "        )\n",
    "\n",
    "        method_name = type(clus).__name__\n",
    "        CLUSTERERS[f\"{method_name} #{idx}\"] = clus\n",
    "\n",
    "        random_state = random_state + 1\n",
    "        idx = idx + 1"
   ]
  },
  {
   "cell_type": "code",
   "execution_count": 15,
   "id": "7e8150ff",
   "metadata": {
    "execution": {
     "iopub.execute_input": "2022-11-25T04:29:29.553458Z",
     "iopub.status.busy": "2022-11-25T04:29:29.553375Z",
     "iopub.status.idle": "2022-11-25T04:29:29.564501Z",
     "shell.execute_reply": "2022-11-25T04:29:29.564146Z"
    },
    "papermill": {
     "duration": 0.026327,
     "end_time": "2022-11-25T04:29:29.565709",
     "exception": false,
     "start_time": "2022-11-25T04:29:29.539382",
     "status": "completed"
    },
    "tags": []
   },
   "outputs": [
    {
     "data": {
      "text/plain": [
       "295"
      ]
     },
     "metadata": {},
     "output_type": "display_data"
    }
   ],
   "source": [
    "display(len(CLUSTERERS))"
   ]
  },
  {
   "cell_type": "code",
   "execution_count": 16,
   "id": "1212a649",
   "metadata": {
    "execution": {
     "iopub.execute_input": "2022-11-25T04:29:29.592676Z",
     "iopub.status.busy": "2022-11-25T04:29:29.592595Z",
     "iopub.status.idle": "2022-11-25T04:29:29.604735Z",
     "shell.execute_reply": "2022-11-25T04:29:29.604388Z"
    },
    "papermill": {
     "duration": 0.026845,
     "end_time": "2022-11-25T04:29:29.606107",
     "exception": false,
     "start_time": "2022-11-25T04:29:29.579262",
     "status": "completed"
    },
    "tags": []
   },
   "outputs": [
    {
     "data": {
      "text/plain": [
       "('KMeans #0', KMeans(n_clusters=2, random_state=0))"
      ]
     },
     "metadata": {},
     "output_type": "display_data"
    },
    {
     "data": {
      "text/plain": [
       "('KMeans #1', KMeans(n_clusters=2, random_state=1))"
      ]
     },
     "metadata": {},
     "output_type": "display_data"
    }
   ],
   "source": [
    "_iter = iter(CLUSTERERS.items())\n",
    "display(next(_iter))\n",
    "display(next(_iter))"
   ]
  },
  {
   "cell_type": "code",
   "execution_count": 17,
   "id": "3f13d728",
   "metadata": {
    "execution": {
     "iopub.execute_input": "2022-11-25T04:29:29.635399Z",
     "iopub.status.busy": "2022-11-25T04:29:29.635255Z",
     "iopub.status.idle": "2022-11-25T04:29:29.647456Z",
     "shell.execute_reply": "2022-11-25T04:29:29.647130Z"
    },
    "papermill": {
     "duration": 0.027181,
     "end_time": "2022-11-25T04:29:29.648112",
     "exception": false,
     "start_time": "2022-11-25T04:29:29.620931",
     "status": "completed"
    },
    "tags": []
   },
   "outputs": [
    {
     "data": {
      "text/plain": [
       "'KMeans'"
      ]
     },
     "metadata": {},
     "output_type": "display_data"
    }
   ],
   "source": [
    "clustering_method_name = method_name\n",
    "display(clustering_method_name)"
   ]
  },
  {
   "cell_type": "markdown",
   "id": "675cc397",
   "metadata": {
    "papermill": {
     "duration": 0.006501,
     "end_time": "2022-11-25T04:29:29.661574",
     "exception": false,
     "start_time": "2022-11-25T04:29:29.655073",
     "status": "completed"
    },
    "tags": []
   },
   "source": [
    "## Output directory"
   ]
  },
  {
   "cell_type": "code",
   "execution_count": 18,
   "id": "2625738a",
   "metadata": {
    "execution": {
     "iopub.execute_input": "2022-11-25T04:29:29.675215Z",
     "iopub.status.busy": "2022-11-25T04:29:29.675130Z",
     "iopub.status.idle": "2022-11-25T04:29:29.686919Z",
     "shell.execute_reply": "2022-11-25T04:29:29.686592Z"
    },
    "papermill": {
     "duration": 0.019537,
     "end_time": "2022-11-25T04:29:29.687636",
     "exception": false,
     "start_time": "2022-11-25T04:29:29.668099",
     "status": "completed"
    },
    "tags": []
   },
   "outputs": [
    {
     "data": {
      "text/plain": [
       "PosixPath('/opt/data/results/clustering/null_sims/shuffle_genes/runs/z_score_std-projection-smultixcan-efo_partial-mashr-zscores')"
      ]
     },
     "metadata": {},
     "output_type": "display_data"
    }
   ],
   "source": [
    "# output dir for this notebook\n",
    "RESULTS_DIR = Path(\n",
    "    NULL_DIR,\n",
    "    \"runs\",\n",
    "    f\"{INPUT_SUBSET}-{INPUT_STEM}\",\n",
    ").resolve()\n",
    "RESULTS_DIR.mkdir(parents=True, exist_ok=True)\n",
    "\n",
    "display(RESULTS_DIR)"
   ]
  },
  {
   "cell_type": "markdown",
   "id": "ccd9f1b1",
   "metadata": {
    "papermill": {
     "duration": 0.006526,
     "end_time": "2022-11-25T04:29:29.700830",
     "exception": false,
     "start_time": "2022-11-25T04:29:29.694304",
     "status": "completed"
    },
    "tags": []
   },
   "source": [
    "# Load input file"
   ]
  },
  {
   "cell_type": "code",
   "execution_count": 19,
   "id": "692acecd",
   "metadata": {
    "execution": {
     "iopub.execute_input": "2022-11-25T04:29:29.714690Z",
     "iopub.status.busy": "2022-11-25T04:29:29.714605Z",
     "iopub.status.idle": "2022-11-25T04:29:29.736546Z",
     "shell.execute_reply": "2022-11-25T04:29:29.736214Z"
    },
    "papermill": {
     "duration": 0.029699,
     "end_time": "2022-11-25T04:29:29.737333",
     "exception": false,
     "start_time": "2022-11-25T04:29:29.707634",
     "status": "completed"
    },
    "tags": []
   },
   "outputs": [],
   "source": [
    "data = pd.read_pickle(input_filepath)"
   ]
  },
  {
   "cell_type": "code",
   "execution_count": 20,
   "id": "f899584d",
   "metadata": {
    "execution": {
     "iopub.execute_input": "2022-11-25T04:29:29.751388Z",
     "iopub.status.busy": "2022-11-25T04:29:29.751306Z",
     "iopub.status.idle": "2022-11-25T04:29:29.763555Z",
     "shell.execute_reply": "2022-11-25T04:29:29.763292Z"
    },
    "papermill": {
     "duration": 0.020171,
     "end_time": "2022-11-25T04:29:29.764212",
     "exception": false,
     "start_time": "2022-11-25T04:29:29.744041",
     "status": "completed"
    },
    "tags": []
   },
   "outputs": [
    {
     "data": {
      "text/plain": [
       "(3752, 987)"
      ]
     },
     "execution_count": 20,
     "metadata": {},
     "output_type": "execute_result"
    }
   ],
   "source": [
    "data.shape"
   ]
  },
  {
   "cell_type": "code",
   "execution_count": 21,
   "id": "70696d8c",
   "metadata": {
    "execution": {
     "iopub.execute_input": "2022-11-25T04:29:29.778035Z",
     "iopub.status.busy": "2022-11-25T04:29:29.777956Z",
     "iopub.status.idle": "2022-11-25T04:29:29.797647Z",
     "shell.execute_reply": "2022-11-25T04:29:29.797380Z"
    },
    "papermill": {
     "duration": 0.02738,
     "end_time": "2022-11-25T04:29:29.798331",
     "exception": false,
     "start_time": "2022-11-25T04:29:29.770951",
     "status": "completed"
    },
    "tags": []
   },
   "outputs": [
    {
     "data": {
      "text/html": [
       "<div>\n",
       "<style scoped>\n",
       "    .dataframe tbody tr th:only-of-type {\n",
       "        vertical-align: middle;\n",
       "    }\n",
       "\n",
       "    .dataframe tbody tr th {\n",
       "        vertical-align: top;\n",
       "    }\n",
       "\n",
       "    .dataframe thead th {\n",
       "        text-align: right;\n",
       "    }\n",
       "</style>\n",
       "<table border=\"1\" class=\"dataframe\">\n",
       "  <thead>\n",
       "    <tr style=\"text-align: right;\">\n",
       "      <th></th>\n",
       "      <th>LV1</th>\n",
       "      <th>LV2</th>\n",
       "      <th>LV3</th>\n",
       "      <th>LV4</th>\n",
       "      <th>LV5</th>\n",
       "      <th>LV6</th>\n",
       "      <th>LV7</th>\n",
       "      <th>LV8</th>\n",
       "      <th>LV9</th>\n",
       "      <th>LV10</th>\n",
       "      <th>...</th>\n",
       "      <th>LV978</th>\n",
       "      <th>LV979</th>\n",
       "      <th>LV980</th>\n",
       "      <th>LV981</th>\n",
       "      <th>LV982</th>\n",
       "      <th>LV983</th>\n",
       "      <th>LV984</th>\n",
       "      <th>LV985</th>\n",
       "      <th>LV986</th>\n",
       "      <th>LV987</th>\n",
       "    </tr>\n",
       "  </thead>\n",
       "  <tbody>\n",
       "    <tr>\n",
       "      <th>100001_raw-Food_weight</th>\n",
       "      <td>-0.175043</td>\n",
       "      <td>-0.710171</td>\n",
       "      <td>-1.000846</td>\n",
       "      <td>0.693026</td>\n",
       "      <td>0.409413</td>\n",
       "      <td>0.642958</td>\n",
       "      <td>1.767862</td>\n",
       "      <td>-1.070425</td>\n",
       "      <td>0.809395</td>\n",
       "      <td>-1.555050</td>\n",
       "      <td>...</td>\n",
       "      <td>-0.932802</td>\n",
       "      <td>0.371349</td>\n",
       "      <td>-0.521787</td>\n",
       "      <td>-0.881136</td>\n",
       "      <td>-1.193309</td>\n",
       "      <td>-0.257883</td>\n",
       "      <td>1.382268</td>\n",
       "      <td>0.066549</td>\n",
       "      <td>-0.866086</td>\n",
       "      <td>0.847997</td>\n",
       "    </tr>\n",
       "    <tr>\n",
       "      <th>100002_raw-Energy</th>\n",
       "      <td>0.531227</td>\n",
       "      <td>0.894062</td>\n",
       "      <td>1.191552</td>\n",
       "      <td>-0.143922</td>\n",
       "      <td>0.217867</td>\n",
       "      <td>0.529878</td>\n",
       "      <td>0.219561</td>\n",
       "      <td>-1.538143</td>\n",
       "      <td>-0.166704</td>\n",
       "      <td>1.042749</td>\n",
       "      <td>...</td>\n",
       "      <td>-0.601329</td>\n",
       "      <td>0.625139</td>\n",
       "      <td>-0.113048</td>\n",
       "      <td>-1.477163</td>\n",
       "      <td>0.746773</td>\n",
       "      <td>0.316892</td>\n",
       "      <td>-0.660407</td>\n",
       "      <td>1.501067</td>\n",
       "      <td>0.543744</td>\n",
       "      <td>1.094294</td>\n",
       "    </tr>\n",
       "    <tr>\n",
       "      <th>100003_raw-Protein</th>\n",
       "      <td>0.405395</td>\n",
       "      <td>0.925288</td>\n",
       "      <td>-0.339507</td>\n",
       "      <td>0.799476</td>\n",
       "      <td>-0.512075</td>\n",
       "      <td>0.586632</td>\n",
       "      <td>0.361706</td>\n",
       "      <td>0.226860</td>\n",
       "      <td>1.208289</td>\n",
       "      <td>-1.880931</td>\n",
       "      <td>...</td>\n",
       "      <td>-0.489171</td>\n",
       "      <td>0.276717</td>\n",
       "      <td>-0.159505</td>\n",
       "      <td>-1.271106</td>\n",
       "      <td>0.300351</td>\n",
       "      <td>0.595915</td>\n",
       "      <td>0.509020</td>\n",
       "      <td>-0.127540</td>\n",
       "      <td>-0.811987</td>\n",
       "      <td>-1.108812</td>\n",
       "    </tr>\n",
       "    <tr>\n",
       "      <th>100004_raw-Fat</th>\n",
       "      <td>-0.156230</td>\n",
       "      <td>0.881426</td>\n",
       "      <td>0.395527</td>\n",
       "      <td>-1.570256</td>\n",
       "      <td>1.240955</td>\n",
       "      <td>2.064595</td>\n",
       "      <td>-0.547373</td>\n",
       "      <td>-1.228389</td>\n",
       "      <td>0.319684</td>\n",
       "      <td>0.858253</td>\n",
       "      <td>...</td>\n",
       "      <td>-0.407151</td>\n",
       "      <td>-1.217662</td>\n",
       "      <td>-0.361052</td>\n",
       "      <td>0.813221</td>\n",
       "      <td>-0.692981</td>\n",
       "      <td>1.099523</td>\n",
       "      <td>-0.017366</td>\n",
       "      <td>0.361278</td>\n",
       "      <td>-0.017222</td>\n",
       "      <td>1.750511</td>\n",
       "    </tr>\n",
       "    <tr>\n",
       "      <th>100005_raw-Carbohydrate</th>\n",
       "      <td>-0.142531</td>\n",
       "      <td>-0.521907</td>\n",
       "      <td>1.069304</td>\n",
       "      <td>0.548122</td>\n",
       "      <td>-0.422146</td>\n",
       "      <td>-1.330718</td>\n",
       "      <td>-1.260872</td>\n",
       "      <td>1.003617</td>\n",
       "      <td>1.266289</td>\n",
       "      <td>0.065408</td>\n",
       "      <td>...</td>\n",
       "      <td>1.506698</td>\n",
       "      <td>-0.069854</td>\n",
       "      <td>-0.084662</td>\n",
       "      <td>-1.269536</td>\n",
       "      <td>-0.421185</td>\n",
       "      <td>0.431180</td>\n",
       "      <td>1.673162</td>\n",
       "      <td>-0.954336</td>\n",
       "      <td>0.026593</td>\n",
       "      <td>0.655359</td>\n",
       "    </tr>\n",
       "  </tbody>\n",
       "</table>\n",
       "<p>5 rows × 987 columns</p>\n",
       "</div>"
      ],
      "text/plain": [
       "                              LV1       LV2       LV3       LV4       LV5  \\\n",
       "100001_raw-Food_weight  -0.175043 -0.710171 -1.000846  0.693026  0.409413   \n",
       "100002_raw-Energy        0.531227  0.894062  1.191552 -0.143922  0.217867   \n",
       "100003_raw-Protein       0.405395  0.925288 -0.339507  0.799476 -0.512075   \n",
       "100004_raw-Fat          -0.156230  0.881426  0.395527 -1.570256  1.240955   \n",
       "100005_raw-Carbohydrate -0.142531 -0.521907  1.069304  0.548122 -0.422146   \n",
       "\n",
       "                              LV6       LV7       LV8       LV9      LV10  \\\n",
       "100001_raw-Food_weight   0.642958  1.767862 -1.070425  0.809395 -1.555050   \n",
       "100002_raw-Energy        0.529878  0.219561 -1.538143 -0.166704  1.042749   \n",
       "100003_raw-Protein       0.586632  0.361706  0.226860  1.208289 -1.880931   \n",
       "100004_raw-Fat           2.064595 -0.547373 -1.228389  0.319684  0.858253   \n",
       "100005_raw-Carbohydrate -1.330718 -1.260872  1.003617  1.266289  0.065408   \n",
       "\n",
       "                         ...     LV978     LV979     LV980     LV981  \\\n",
       "100001_raw-Food_weight   ... -0.932802  0.371349 -0.521787 -0.881136   \n",
       "100002_raw-Energy        ... -0.601329  0.625139 -0.113048 -1.477163   \n",
       "100003_raw-Protein       ... -0.489171  0.276717 -0.159505 -1.271106   \n",
       "100004_raw-Fat           ... -0.407151 -1.217662 -0.361052  0.813221   \n",
       "100005_raw-Carbohydrate  ...  1.506698 -0.069854 -0.084662 -1.269536   \n",
       "\n",
       "                            LV982     LV983     LV984     LV985     LV986  \\\n",
       "100001_raw-Food_weight  -1.193309 -0.257883  1.382268  0.066549 -0.866086   \n",
       "100002_raw-Energy        0.746773  0.316892 -0.660407  1.501067  0.543744   \n",
       "100003_raw-Protein       0.300351  0.595915  0.509020 -0.127540 -0.811987   \n",
       "100004_raw-Fat          -0.692981  1.099523 -0.017366  0.361278 -0.017222   \n",
       "100005_raw-Carbohydrate -0.421185  0.431180  1.673162 -0.954336  0.026593   \n",
       "\n",
       "                            LV987  \n",
       "100001_raw-Food_weight   0.847997  \n",
       "100002_raw-Energy        1.094294  \n",
       "100003_raw-Protein      -1.108812  \n",
       "100004_raw-Fat           1.750511  \n",
       "100005_raw-Carbohydrate  0.655359  \n",
       "\n",
       "[5 rows x 987 columns]"
      ]
     },
     "execution_count": 21,
     "metadata": {},
     "output_type": "execute_result"
    }
   ],
   "source": [
    "data.head()"
   ]
  },
  {
   "cell_type": "code",
   "execution_count": 22,
   "id": "5ee9a303",
   "metadata": {
    "execution": {
     "iopub.execute_input": "2022-11-25T04:29:29.812646Z",
     "iopub.status.busy": "2022-11-25T04:29:29.812564Z",
     "iopub.status.idle": "2022-11-25T04:29:29.828056Z",
     "shell.execute_reply": "2022-11-25T04:29:29.827740Z"
    },
    "papermill": {
     "duration": 0.023288,
     "end_time": "2022-11-25T04:29:29.828772",
     "exception": false,
     "start_time": "2022-11-25T04:29:29.805484",
     "status": "completed"
    },
    "tags": []
   },
   "outputs": [],
   "source": [
    "assert not data.isna().any().any()"
   ]
  },
  {
   "cell_type": "markdown",
   "id": "93d26b49",
   "metadata": {
    "papermill": {
     "duration": 0.006971,
     "end_time": "2022-11-25T04:29:29.842544",
     "exception": false,
     "start_time": "2022-11-25T04:29:29.835573",
     "status": "completed"
    },
    "tags": []
   },
   "source": [
    "# Clustering"
   ]
  },
  {
   "cell_type": "markdown",
   "id": "ffaba945",
   "metadata": {
    "papermill": {
     "duration": 0.006735,
     "end_time": "2022-11-25T04:29:29.856215",
     "exception": false,
     "start_time": "2022-11-25T04:29:29.849480",
     "status": "completed"
    },
    "tags": []
   },
   "source": [
    "## Generate ensemble"
   ]
  },
  {
   "cell_type": "code",
   "execution_count": 23,
   "id": "2343113e",
   "metadata": {
    "execution": {
     "iopub.execute_input": "2022-11-25T04:29:29.870463Z",
     "iopub.status.busy": "2022-11-25T04:29:29.870379Z",
     "iopub.status.idle": "2022-11-25T04:29:29.885488Z",
     "shell.execute_reply": "2022-11-25T04:29:29.885211Z"
    },
    "papermill": {
     "duration": 0.022963,
     "end_time": "2022-11-25T04:29:29.886181",
     "exception": false,
     "start_time": "2022-11-25T04:29:29.863218",
     "status": "completed"
    },
    "tags": []
   },
   "outputs": [],
   "source": [
    "from clustering.ensembles.utils import generate_ensemble"
   ]
  },
  {
   "cell_type": "code",
   "execution_count": 24,
   "id": "899ddf11",
   "metadata": {
    "execution": {
     "iopub.execute_input": "2022-11-25T04:29:29.900462Z",
     "iopub.status.busy": "2022-11-25T04:29:29.900356Z",
     "iopub.status.idle": "2022-11-25T04:37:31.289080Z",
     "shell.execute_reply": "2022-11-25T04:37:31.288793Z"
    },
    "papermill": {
     "duration": 481.397304,
     "end_time": "2022-11-25T04:37:31.290353",
     "exception": false,
     "start_time": "2022-11-25T04:29:29.893049",
     "status": "completed"
    },
    "tags": []
   },
   "outputs": [
    {
     "name": "stderr",
     "output_type": "stream",
     "text": [
      "100%|██████████| 295/295 [08:01<00:00,  1.63s/it]\n"
     ]
    }
   ],
   "source": [
    "ensemble = generate_ensemble(\n",
    "    data,\n",
    "    CLUSTERERS,\n",
    "    attributes=CLUSTERING_ATTRIBUTES_TO_SAVE,\n",
    ")"
   ]
  },
  {
   "cell_type": "code",
   "execution_count": 25,
   "id": "f04eae96",
   "metadata": {
    "execution": {
     "iopub.execute_input": "2022-11-25T04:37:31.349496Z",
     "iopub.status.busy": "2022-11-25T04:37:31.349407Z",
     "iopub.status.idle": "2022-11-25T04:37:31.361686Z",
     "shell.execute_reply": "2022-11-25T04:37:31.361416Z"
    },
    "papermill": {
     "duration": 0.043431,
     "end_time": "2022-11-25T04:37:31.362949",
     "exception": false,
     "start_time": "2022-11-25T04:37:31.319518",
     "status": "completed"
    },
    "tags": []
   },
   "outputs": [
    {
     "data": {
      "text/plain": [
       "(295, 3)"
      ]
     },
     "execution_count": 25,
     "metadata": {},
     "output_type": "execute_result"
    }
   ],
   "source": [
    "# the number should be close to 295 (the number of partitions generated by k-means/spectral clustering)\n",
    "ensemble.shape"
   ]
  },
  {
   "cell_type": "code",
   "execution_count": 26,
   "id": "4f54d2fc",
   "metadata": {
    "execution": {
     "iopub.execute_input": "2022-11-25T04:37:31.412957Z",
     "iopub.status.busy": "2022-11-25T04:37:31.412707Z",
     "iopub.status.idle": "2022-11-25T04:37:31.444131Z",
     "shell.execute_reply": "2022-11-25T04:37:31.443625Z"
    },
    "papermill": {
     "duration": 0.053,
     "end_time": "2022-11-25T04:37:31.444987",
     "exception": false,
     "start_time": "2022-11-25T04:37:31.391987",
     "status": "completed"
    },
    "tags": []
   },
   "outputs": [
    {
     "data": {
      "text/html": [
       "<div>\n",
       "<style scoped>\n",
       "    .dataframe tbody tr th:only-of-type {\n",
       "        vertical-align: middle;\n",
       "    }\n",
       "\n",
       "    .dataframe tbody tr th {\n",
       "        vertical-align: top;\n",
       "    }\n",
       "\n",
       "    .dataframe thead th {\n",
       "        text-align: right;\n",
       "    }\n",
       "</style>\n",
       "<table border=\"1\" class=\"dataframe\">\n",
       "  <thead>\n",
       "    <tr style=\"text-align: right;\">\n",
       "      <th></th>\n",
       "      <th>clusterer_params</th>\n",
       "      <th>partition</th>\n",
       "      <th>n_clusters</th>\n",
       "    </tr>\n",
       "    <tr>\n",
       "      <th>clusterer_id</th>\n",
       "      <th></th>\n",
       "      <th></th>\n",
       "      <th></th>\n",
       "    </tr>\n",
       "  </thead>\n",
       "  <tbody>\n",
       "    <tr>\n",
       "      <th>KMeans #0</th>\n",
       "      <td>{'algorithm': 'auto', 'copy_x': True, 'init': ...</td>\n",
       "      <td>[0.0, 0.0, 1.0, 0.0, 0.0, 0.0, 0.0, 0.0, 0.0, ...</td>\n",
       "      <td>2</td>\n",
       "    </tr>\n",
       "    <tr>\n",
       "      <th>KMeans #1</th>\n",
       "      <td>{'algorithm': 'auto', 'copy_x': True, 'init': ...</td>\n",
       "      <td>[1.0, 1.0, 1.0, 1.0, 0.0, 0.0, 0.0, 1.0, 0.0, ...</td>\n",
       "      <td>2</td>\n",
       "    </tr>\n",
       "    <tr>\n",
       "      <th>KMeans #2</th>\n",
       "      <td>{'algorithm': 'auto', 'copy_x': True, 'init': ...</td>\n",
       "      <td>[0.0, 0.0, 0.0, 0.0, 1.0, 1.0, 0.0, 0.0, 0.0, ...</td>\n",
       "      <td>2</td>\n",
       "    </tr>\n",
       "    <tr>\n",
       "      <th>KMeans #3</th>\n",
       "      <td>{'algorithm': 'auto', 'copy_x': True, 'init': ...</td>\n",
       "      <td>[1.0, 1.0, 0.0, 1.0, 0.0, 1.0, 0.0, 1.0, 1.0, ...</td>\n",
       "      <td>2</td>\n",
       "    </tr>\n",
       "    <tr>\n",
       "      <th>KMeans #4</th>\n",
       "      <td>{'algorithm': 'auto', 'copy_x': True, 'init': ...</td>\n",
       "      <td>[0.0, 0.0, 0.0, 0.0, 1.0, 0.0, 0.0, 0.0, 1.0, ...</td>\n",
       "      <td>2</td>\n",
       "    </tr>\n",
       "  </tbody>\n",
       "</table>\n",
       "</div>"
      ],
      "text/plain": [
       "                                               clusterer_params  \\\n",
       "clusterer_id                                                      \n",
       "KMeans #0     {'algorithm': 'auto', 'copy_x': True, 'init': ...   \n",
       "KMeans #1     {'algorithm': 'auto', 'copy_x': True, 'init': ...   \n",
       "KMeans #2     {'algorithm': 'auto', 'copy_x': True, 'init': ...   \n",
       "KMeans #3     {'algorithm': 'auto', 'copy_x': True, 'init': ...   \n",
       "KMeans #4     {'algorithm': 'auto', 'copy_x': True, 'init': ...   \n",
       "\n",
       "                                                      partition  n_clusters  \n",
       "clusterer_id                                                                 \n",
       "KMeans #0     [0.0, 0.0, 1.0, 0.0, 0.0, 0.0, 0.0, 0.0, 0.0, ...           2  \n",
       "KMeans #1     [1.0, 1.0, 1.0, 1.0, 0.0, 0.0, 0.0, 1.0, 0.0, ...           2  \n",
       "KMeans #2     [0.0, 0.0, 0.0, 0.0, 1.0, 1.0, 0.0, 0.0, 0.0, ...           2  \n",
       "KMeans #3     [1.0, 1.0, 0.0, 1.0, 0.0, 1.0, 0.0, 1.0, 1.0, ...           2  \n",
       "KMeans #4     [0.0, 0.0, 0.0, 0.0, 1.0, 0.0, 0.0, 0.0, 1.0, ...           2  "
      ]
     },
     "execution_count": 26,
     "metadata": {},
     "output_type": "execute_result"
    }
   ],
   "source": [
    "ensemble.head()"
   ]
  },
  {
   "cell_type": "code",
   "execution_count": 27,
   "id": "b03486bc",
   "metadata": {
    "execution": {
     "iopub.execute_input": "2022-11-25T04:37:31.475160Z",
     "iopub.status.busy": "2022-11-25T04:37:31.474757Z",
     "iopub.status.idle": "2022-11-25T04:37:31.496888Z",
     "shell.execute_reply": "2022-11-25T04:37:31.496400Z"
    },
    "papermill": {
     "duration": 0.037837,
     "end_time": "2022-11-25T04:37:31.497725",
     "exception": false,
     "start_time": "2022-11-25T04:37:31.459888",
     "status": "completed"
    },
    "tags": []
   },
   "outputs": [
    {
     "data": {
      "text/plain": [
       "60    5\n",
       "16    5\n",
       "28    5\n",
       "27    5\n",
       "26    5\n",
       "Name: n_clusters, dtype: int64"
      ]
     },
     "execution_count": 27,
     "metadata": {},
     "output_type": "execute_result"
    }
   ],
   "source": [
    "ensemble[\"n_clusters\"].value_counts().head()"
   ]
  },
  {
   "cell_type": "code",
   "execution_count": 28,
   "id": "acae8e2a",
   "metadata": {
    "execution": {
     "iopub.execute_input": "2022-11-25T04:37:31.527387Z",
     "iopub.status.busy": "2022-11-25T04:37:31.526913Z",
     "iopub.status.idle": "2022-11-25T04:37:31.550326Z",
     "shell.execute_reply": "2022-11-25T04:37:31.549836Z"
    },
    "papermill": {
     "duration": 0.039094,
     "end_time": "2022-11-25T04:37:31.551134",
     "exception": false,
     "start_time": "2022-11-25T04:37:31.512040",
     "status": "completed"
    },
    "tags": []
   },
   "outputs": [
    {
     "data": {
      "text/plain": [
       "count    295.000000\n",
       "mean      31.000000\n",
       "std       17.058323\n",
       "min        2.000000\n",
       "25%       16.000000\n",
       "50%       31.000000\n",
       "75%       46.000000\n",
       "max       60.000000\n",
       "Name: n_clusters, dtype: float64"
      ]
     },
     "metadata": {},
     "output_type": "display_data"
    }
   ],
   "source": [
    "ensemble_stats = ensemble[\"n_clusters\"].describe()\n",
    "display(ensemble_stats)"
   ]
  },
  {
   "cell_type": "markdown",
   "id": "6e19388b",
   "metadata": {
    "papermill": {
     "duration": 0.014004,
     "end_time": "2022-11-25T04:37:31.579690",
     "exception": false,
     "start_time": "2022-11-25T04:37:31.565686",
     "status": "completed"
    },
    "tags": []
   },
   "source": [
    "## Testing"
   ]
  },
  {
   "cell_type": "code",
   "execution_count": 29,
   "id": "bfc77e0e",
   "metadata": {
    "execution": {
     "iopub.execute_input": "2022-11-25T04:37:31.610626Z",
     "iopub.status.busy": "2022-11-25T04:37:31.610323Z",
     "iopub.status.idle": "2022-11-25T04:37:31.632019Z",
     "shell.execute_reply": "2022-11-25T04:37:31.631519Z"
    },
    "papermill": {
     "duration": 0.037848,
     "end_time": "2022-11-25T04:37:31.632932",
     "exception": false,
     "start_time": "2022-11-25T04:37:31.595084",
     "status": "completed"
    },
    "tags": []
   },
   "outputs": [],
   "source": [
    "assert ensemble_stats[\"min\"] > 1"
   ]
  },
  {
   "cell_type": "code",
   "execution_count": 30,
   "id": "9ab563a6",
   "metadata": {
    "execution": {
     "iopub.execute_input": "2022-11-25T04:37:31.662431Z",
     "iopub.status.busy": "2022-11-25T04:37:31.662045Z",
     "iopub.status.idle": "2022-11-25T04:37:31.682814Z",
     "shell.execute_reply": "2022-11-25T04:37:31.682247Z"
    },
    "papermill": {
     "duration": 0.036564,
     "end_time": "2022-11-25T04:37:31.683697",
     "exception": false,
     "start_time": "2022-11-25T04:37:31.647133",
     "status": "completed"
    },
    "tags": []
   },
   "outputs": [],
   "source": [
    "assert not ensemble[\"n_clusters\"].isna().any()"
   ]
  },
  {
   "cell_type": "code",
   "execution_count": 31,
   "id": "e6fba9fc",
   "metadata": {
    "execution": {
     "iopub.execute_input": "2022-11-25T04:37:31.713237Z",
     "iopub.status.busy": "2022-11-25T04:37:31.713078Z",
     "iopub.status.idle": "2022-11-25T04:37:31.733681Z",
     "shell.execute_reply": "2022-11-25T04:37:31.733187Z"
    },
    "papermill": {
     "duration": 0.036245,
     "end_time": "2022-11-25T04:37:31.734616",
     "exception": false,
     "start_time": "2022-11-25T04:37:31.698371",
     "status": "completed"
    },
    "tags": []
   },
   "outputs": [],
   "source": [
    "assert ensemble.shape[0] == len(CLUSTERERS)"
   ]
  },
  {
   "cell_type": "code",
   "execution_count": 32,
   "id": "215f06e4",
   "metadata": {
    "execution": {
     "iopub.execute_input": "2022-11-25T04:37:31.764518Z",
     "iopub.status.busy": "2022-11-25T04:37:31.764009Z",
     "iopub.status.idle": "2022-11-25T04:37:31.810729Z",
     "shell.execute_reply": "2022-11-25T04:37:31.810152Z"
    },
    "papermill": {
     "duration": 0.062924,
     "end_time": "2022-11-25T04:37:31.812110",
     "exception": false,
     "start_time": "2022-11-25T04:37:31.749186",
     "status": "completed"
    },
    "tags": []
   },
   "outputs": [],
   "source": [
    "# all partitions have the right size\n",
    "assert np.all(\n",
    "    [part[\"partition\"].shape[0] == data.shape[0] for idx, part in ensemble.iterrows()]\n",
    ")"
   ]
  },
  {
   "cell_type": "code",
   "execution_count": 33,
   "id": "e9ff921c",
   "metadata": {
    "execution": {
     "iopub.execute_input": "2022-11-25T04:37:31.868400Z",
     "iopub.status.busy": "2022-11-25T04:37:31.868150Z",
     "iopub.status.idle": "2022-11-25T04:37:31.918382Z",
     "shell.execute_reply": "2022-11-25T04:37:31.917786Z"
    },
    "papermill": {
     "duration": 0.079998,
     "end_time": "2022-11-25T04:37:31.919789",
     "exception": false,
     "start_time": "2022-11-25T04:37:31.839791",
     "status": "completed"
    },
    "tags": []
   },
   "outputs": [],
   "source": [
    "# no partition has negative clusters (noisy points)\n",
    "assert not np.any([(part[\"partition\"] < 0).any() for idx, part in ensemble.iterrows()])"
   ]
  },
  {
   "cell_type": "markdown",
   "id": "d8468470",
   "metadata": {
    "papermill": {
     "duration": 0.027543,
     "end_time": "2022-11-25T04:37:31.976923",
     "exception": false,
     "start_time": "2022-11-25T04:37:31.949380",
     "status": "completed"
    },
    "tags": []
   },
   "source": [
    "## Add clustering quality measures"
   ]
  },
  {
   "cell_type": "code",
   "execution_count": 34,
   "id": "b53f2c17",
   "metadata": {
    "execution": {
     "iopub.execute_input": "2022-11-25T04:37:32.012444Z",
     "iopub.status.busy": "2022-11-25T04:37:32.012171Z",
     "iopub.status.idle": "2022-11-25T04:37:32.032744Z",
     "shell.execute_reply": "2022-11-25T04:37:32.032237Z"
    },
    "papermill": {
     "duration": 0.036738,
     "end_time": "2022-11-25T04:37:32.033662",
     "exception": false,
     "start_time": "2022-11-25T04:37:31.996924",
     "status": "completed"
    },
    "tags": []
   },
   "outputs": [],
   "source": [
    "from sklearn.metrics import calinski_harabasz_score"
   ]
  },
  {
   "cell_type": "code",
   "execution_count": 35,
   "id": "1a17d7b7",
   "metadata": {
    "execution": {
     "iopub.execute_input": "2022-11-25T04:37:32.063612Z",
     "iopub.status.busy": "2022-11-25T04:37:32.063269Z",
     "iopub.status.idle": "2022-11-25T04:37:38.652220Z",
     "shell.execute_reply": "2022-11-25T04:37:38.651960Z"
    },
    "papermill": {
     "duration": 6.605667,
     "end_time": "2022-11-25T04:37:38.653778",
     "exception": false,
     "start_time": "2022-11-25T04:37:32.048111",
     "status": "completed"
    },
    "tags": []
   },
   "outputs": [],
   "source": [
    "ensemble = ensemble.assign(\n",
    "    ch_score=ensemble[\"partition\"].apply(lambda x: calinski_harabasz_score(data, x))\n",
    ")"
   ]
  },
  {
   "cell_type": "code",
   "execution_count": 36,
   "id": "52922d4b",
   "metadata": {
    "execution": {
     "iopub.execute_input": "2022-11-25T04:37:38.711457Z",
     "iopub.status.busy": "2022-11-25T04:37:38.711306Z",
     "iopub.status.idle": "2022-11-25T04:37:38.723822Z",
     "shell.execute_reply": "2022-11-25T04:37:38.723619Z"
    },
    "papermill": {
     "duration": 0.041942,
     "end_time": "2022-11-25T04:37:38.725029",
     "exception": false,
     "start_time": "2022-11-25T04:37:38.683087",
     "status": "completed"
    },
    "tags": []
   },
   "outputs": [
    {
     "data": {
      "text/plain": [
       "(295, 4)"
      ]
     },
     "execution_count": 36,
     "metadata": {},
     "output_type": "execute_result"
    }
   ],
   "source": [
    "ensemble.shape"
   ]
  },
  {
   "cell_type": "code",
   "execution_count": 37,
   "id": "4a8d48ac",
   "metadata": {
    "execution": {
     "iopub.execute_input": "2022-11-25T04:37:38.775829Z",
     "iopub.status.busy": "2022-11-25T04:37:38.775437Z",
     "iopub.status.idle": "2022-11-25T04:37:38.807049Z",
     "shell.execute_reply": "2022-11-25T04:37:38.806742Z"
    },
    "papermill": {
     "duration": 0.054837,
     "end_time": "2022-11-25T04:37:38.807813",
     "exception": false,
     "start_time": "2022-11-25T04:37:38.752976",
     "status": "completed"
    },
    "tags": []
   },
   "outputs": [
    {
     "data": {
      "text/html": [
       "<div>\n",
       "<style scoped>\n",
       "    .dataframe tbody tr th:only-of-type {\n",
       "        vertical-align: middle;\n",
       "    }\n",
       "\n",
       "    .dataframe tbody tr th {\n",
       "        vertical-align: top;\n",
       "    }\n",
       "\n",
       "    .dataframe thead th {\n",
       "        text-align: right;\n",
       "    }\n",
       "</style>\n",
       "<table border=\"1\" class=\"dataframe\">\n",
       "  <thead>\n",
       "    <tr style=\"text-align: right;\">\n",
       "      <th></th>\n",
       "      <th>clusterer_params</th>\n",
       "      <th>partition</th>\n",
       "      <th>n_clusters</th>\n",
       "      <th>ch_score</th>\n",
       "    </tr>\n",
       "    <tr>\n",
       "      <th>clusterer_id</th>\n",
       "      <th></th>\n",
       "      <th></th>\n",
       "      <th></th>\n",
       "      <th></th>\n",
       "    </tr>\n",
       "  </thead>\n",
       "  <tbody>\n",
       "    <tr>\n",
       "      <th>KMeans #0</th>\n",
       "      <td>{'algorithm': 'auto', 'copy_x': True, 'init': ...</td>\n",
       "      <td>[0.0, 0.0, 1.0, 0.0, 0.0, 0.0, 0.0, 0.0, 0.0, ...</td>\n",
       "      <td>2</td>\n",
       "      <td>5.604975</td>\n",
       "    </tr>\n",
       "    <tr>\n",
       "      <th>KMeans #1</th>\n",
       "      <td>{'algorithm': 'auto', 'copy_x': True, 'init': ...</td>\n",
       "      <td>[1.0, 1.0, 1.0, 1.0, 0.0, 0.0, 0.0, 1.0, 0.0, ...</td>\n",
       "      <td>2</td>\n",
       "      <td>5.670971</td>\n",
       "    </tr>\n",
       "    <tr>\n",
       "      <th>KMeans #2</th>\n",
       "      <td>{'algorithm': 'auto', 'copy_x': True, 'init': ...</td>\n",
       "      <td>[0.0, 0.0, 0.0, 0.0, 1.0, 1.0, 0.0, 0.0, 0.0, ...</td>\n",
       "      <td>2</td>\n",
       "      <td>5.611177</td>\n",
       "    </tr>\n",
       "    <tr>\n",
       "      <th>KMeans #3</th>\n",
       "      <td>{'algorithm': 'auto', 'copy_x': True, 'init': ...</td>\n",
       "      <td>[1.0, 1.0, 0.0, 1.0, 0.0, 1.0, 0.0, 1.0, 1.0, ...</td>\n",
       "      <td>2</td>\n",
       "      <td>5.541320</td>\n",
       "    </tr>\n",
       "    <tr>\n",
       "      <th>KMeans #4</th>\n",
       "      <td>{'algorithm': 'auto', 'copy_x': True, 'init': ...</td>\n",
       "      <td>[0.0, 0.0, 0.0, 0.0, 1.0, 0.0, 0.0, 0.0, 1.0, ...</td>\n",
       "      <td>2</td>\n",
       "      <td>5.627746</td>\n",
       "    </tr>\n",
       "  </tbody>\n",
       "</table>\n",
       "</div>"
      ],
      "text/plain": [
       "                                               clusterer_params  \\\n",
       "clusterer_id                                                      \n",
       "KMeans #0     {'algorithm': 'auto', 'copy_x': True, 'init': ...   \n",
       "KMeans #1     {'algorithm': 'auto', 'copy_x': True, 'init': ...   \n",
       "KMeans #2     {'algorithm': 'auto', 'copy_x': True, 'init': ...   \n",
       "KMeans #3     {'algorithm': 'auto', 'copy_x': True, 'init': ...   \n",
       "KMeans #4     {'algorithm': 'auto', 'copy_x': True, 'init': ...   \n",
       "\n",
       "                                                      partition  n_clusters  \\\n",
       "clusterer_id                                                                  \n",
       "KMeans #0     [0.0, 0.0, 1.0, 0.0, 0.0, 0.0, 0.0, 0.0, 0.0, ...           2   \n",
       "KMeans #1     [1.0, 1.0, 1.0, 1.0, 0.0, 0.0, 0.0, 1.0, 0.0, ...           2   \n",
       "KMeans #2     [0.0, 0.0, 0.0, 0.0, 1.0, 1.0, 0.0, 0.0, 0.0, ...           2   \n",
       "KMeans #3     [1.0, 1.0, 0.0, 1.0, 0.0, 1.0, 0.0, 1.0, 1.0, ...           2   \n",
       "KMeans #4     [0.0, 0.0, 0.0, 0.0, 1.0, 0.0, 0.0, 0.0, 1.0, ...           2   \n",
       "\n",
       "              ch_score  \n",
       "clusterer_id            \n",
       "KMeans #0     5.604975  \n",
       "KMeans #1     5.670971  \n",
       "KMeans #2     5.611177  \n",
       "KMeans #3     5.541320  \n",
       "KMeans #4     5.627746  "
      ]
     },
     "execution_count": 37,
     "metadata": {},
     "output_type": "execute_result"
    }
   ],
   "source": [
    "ensemble.head()"
   ]
  },
  {
   "cell_type": "markdown",
   "id": "442b5727",
   "metadata": {
    "papermill": {
     "duration": 0.014464,
     "end_time": "2022-11-25T04:37:38.836802",
     "exception": false,
     "start_time": "2022-11-25T04:37:38.822338",
     "status": "completed"
    },
    "tags": []
   },
   "source": [
    "## Save"
   ]
  },
  {
   "cell_type": "code",
   "execution_count": 38,
   "id": "eb9a43fc",
   "metadata": {
    "execution": {
     "iopub.execute_input": "2022-11-25T04:37:38.866499Z",
     "iopub.status.busy": "2022-11-25T04:37:38.866061Z",
     "iopub.status.idle": "2022-11-25T04:37:38.888008Z",
     "shell.execute_reply": "2022-11-25T04:37:38.887637Z"
    },
    "papermill": {
     "duration": 0.037666,
     "end_time": "2022-11-25T04:37:38.888820",
     "exception": false,
     "start_time": "2022-11-25T04:37:38.851154",
     "status": "completed"
    },
    "tags": []
   },
   "outputs": [
    {
     "data": {
      "text/plain": [
       "PosixPath('/opt/data/results/clustering/null_sims/shuffle_genes/runs/z_score_std-projection-smultixcan-efo_partial-mashr-zscores/KMeans-KMEANS_N_INIT_10-K_MAX_60-K_MIN_2-N_REPS_PER_K_5.pkl')"
      ]
     },
     "metadata": {},
     "output_type": "display_data"
    }
   ],
   "source": [
    "output_filename = Path(\n",
    "    RESULTS_DIR,\n",
    "    generate_result_set_name(\n",
    "        CLUSTERING_OPTIONS,\n",
    "        prefix=f\"{clustering_method_name}-\",\n",
    "        suffix=\".pkl\",\n",
    "    ),\n",
    ").resolve()\n",
    "display(output_filename)"
   ]
  },
  {
   "cell_type": "code",
   "execution_count": 39,
   "id": "cc452e68",
   "metadata": {
    "execution": {
     "iopub.execute_input": "2022-11-25T04:37:38.918784Z",
     "iopub.status.busy": "2022-11-25T04:37:38.918548Z",
     "iopub.status.idle": "2022-11-25T04:37:38.950984Z",
     "shell.execute_reply": "2022-11-25T04:37:38.950616Z"
    },
    "papermill": {
     "duration": 0.048433,
     "end_time": "2022-11-25T04:37:38.951801",
     "exception": false,
     "start_time": "2022-11-25T04:37:38.903368",
     "status": "completed"
    },
    "tags": []
   },
   "outputs": [],
   "source": [
    "ensemble.to_pickle(output_filename)"
   ]
  },
  {
   "cell_type": "markdown",
   "id": "0c21fea1",
   "metadata": {
    "papermill": {
     "duration": 0.014375,
     "end_time": "2022-11-25T04:37:38.980654",
     "exception": false,
     "start_time": "2022-11-25T04:37:38.966279",
     "status": "completed"
    },
    "tags": []
   },
   "source": [
    "# Cluster quality"
   ]
  },
  {
   "cell_type": "code",
   "execution_count": 40,
   "id": "48236231",
   "metadata": {
    "execution": {
     "iopub.execute_input": "2022-11-25T04:37:39.011029Z",
     "iopub.status.busy": "2022-11-25T04:37:39.010868Z",
     "iopub.status.idle": "2022-11-25T04:37:39.038868Z",
     "shell.execute_reply": "2022-11-25T04:37:39.038550Z"
    },
    "papermill": {
     "duration": 0.044486,
     "end_time": "2022-11-25T04:37:39.039650",
     "exception": false,
     "start_time": "2022-11-25T04:37:38.995164",
     "status": "completed"
    },
    "tags": []
   },
   "outputs": [
    {
     "data": {
      "text/html": [
       "<div>\n",
       "<style scoped>\n",
       "    .dataframe tbody tr th:only-of-type {\n",
       "        vertical-align: middle;\n",
       "    }\n",
       "\n",
       "    .dataframe tbody tr th {\n",
       "        vertical-align: top;\n",
       "    }\n",
       "\n",
       "    .dataframe thead th {\n",
       "        text-align: right;\n",
       "    }\n",
       "</style>\n",
       "<table border=\"1\" class=\"dataframe\">\n",
       "  <thead>\n",
       "    <tr style=\"text-align: right;\">\n",
       "      <th></th>\n",
       "      <th>ch_score</th>\n",
       "    </tr>\n",
       "    <tr>\n",
       "      <th>n_clusters</th>\n",
       "      <th></th>\n",
       "    </tr>\n",
       "  </thead>\n",
       "  <tbody>\n",
       "    <tr>\n",
       "      <th>2</th>\n",
       "      <td>5.611238</td>\n",
       "    </tr>\n",
       "    <tr>\n",
       "      <th>3</th>\n",
       "      <td>4.963542</td>\n",
       "    </tr>\n",
       "    <tr>\n",
       "      <th>4</th>\n",
       "      <td>4.368436</td>\n",
       "    </tr>\n",
       "    <tr>\n",
       "      <th>5</th>\n",
       "      <td>3.982326</td>\n",
       "    </tr>\n",
       "    <tr>\n",
       "      <th>6</th>\n",
       "      <td>3.678777</td>\n",
       "    </tr>\n",
       "    <tr>\n",
       "      <th>7</th>\n",
       "      <td>3.553118</td>\n",
       "    </tr>\n",
       "    <tr>\n",
       "      <th>8</th>\n",
       "      <td>3.192581</td>\n",
       "    </tr>\n",
       "    <tr>\n",
       "      <th>9</th>\n",
       "      <td>3.059508</td>\n",
       "    </tr>\n",
       "    <tr>\n",
       "      <th>10</th>\n",
       "      <td>2.908114</td>\n",
       "    </tr>\n",
       "    <tr>\n",
       "      <th>11</th>\n",
       "      <td>2.910372</td>\n",
       "    </tr>\n",
       "    <tr>\n",
       "      <th>12</th>\n",
       "      <td>2.656061</td>\n",
       "    </tr>\n",
       "    <tr>\n",
       "      <th>13</th>\n",
       "      <td>2.732341</td>\n",
       "    </tr>\n",
       "    <tr>\n",
       "      <th>14</th>\n",
       "      <td>2.648493</td>\n",
       "    </tr>\n",
       "    <tr>\n",
       "      <th>15</th>\n",
       "      <td>2.470685</td>\n",
       "    </tr>\n",
       "    <tr>\n",
       "      <th>16</th>\n",
       "      <td>2.352040</td>\n",
       "    </tr>\n",
       "    <tr>\n",
       "      <th>17</th>\n",
       "      <td>2.298857</td>\n",
       "    </tr>\n",
       "    <tr>\n",
       "      <th>18</th>\n",
       "      <td>2.293324</td>\n",
       "    </tr>\n",
       "    <tr>\n",
       "      <th>19</th>\n",
       "      <td>2.329974</td>\n",
       "    </tr>\n",
       "    <tr>\n",
       "      <th>20</th>\n",
       "      <td>2.240498</td>\n",
       "    </tr>\n",
       "    <tr>\n",
       "      <th>21</th>\n",
       "      <td>1.977507</td>\n",
       "    </tr>\n",
       "    <tr>\n",
       "      <th>22</th>\n",
       "      <td>2.125894</td>\n",
       "    </tr>\n",
       "    <tr>\n",
       "      <th>23</th>\n",
       "      <td>2.166131</td>\n",
       "    </tr>\n",
       "    <tr>\n",
       "      <th>24</th>\n",
       "      <td>1.863691</td>\n",
       "    </tr>\n",
       "    <tr>\n",
       "      <th>25</th>\n",
       "      <td>1.963763</td>\n",
       "    </tr>\n",
       "    <tr>\n",
       "      <th>26</th>\n",
       "      <td>1.921692</td>\n",
       "    </tr>\n",
       "    <tr>\n",
       "      <th>27</th>\n",
       "      <td>2.120312</td>\n",
       "    </tr>\n",
       "    <tr>\n",
       "      <th>28</th>\n",
       "      <td>1.820617</td>\n",
       "    </tr>\n",
       "    <tr>\n",
       "      <th>29</th>\n",
       "      <td>1.923277</td>\n",
       "    </tr>\n",
       "    <tr>\n",
       "      <th>30</th>\n",
       "      <td>1.867036</td>\n",
       "    </tr>\n",
       "    <tr>\n",
       "      <th>31</th>\n",
       "      <td>1.802081</td>\n",
       "    </tr>\n",
       "    <tr>\n",
       "      <th>32</th>\n",
       "      <td>1.796535</td>\n",
       "    </tr>\n",
       "    <tr>\n",
       "      <th>33</th>\n",
       "      <td>1.844109</td>\n",
       "    </tr>\n",
       "    <tr>\n",
       "      <th>34</th>\n",
       "      <td>1.800446</td>\n",
       "    </tr>\n",
       "    <tr>\n",
       "      <th>35</th>\n",
       "      <td>1.951823</td>\n",
       "    </tr>\n",
       "    <tr>\n",
       "      <th>36</th>\n",
       "      <td>1.877048</td>\n",
       "    </tr>\n",
       "    <tr>\n",
       "      <th>37</th>\n",
       "      <td>1.762863</td>\n",
       "    </tr>\n",
       "    <tr>\n",
       "      <th>38</th>\n",
       "      <td>1.864588</td>\n",
       "    </tr>\n",
       "    <tr>\n",
       "      <th>39</th>\n",
       "      <td>1.822471</td>\n",
       "    </tr>\n",
       "    <tr>\n",
       "      <th>40</th>\n",
       "      <td>1.769803</td>\n",
       "    </tr>\n",
       "    <tr>\n",
       "      <th>41</th>\n",
       "      <td>1.815676</td>\n",
       "    </tr>\n",
       "    <tr>\n",
       "      <th>42</th>\n",
       "      <td>1.743606</td>\n",
       "    </tr>\n",
       "    <tr>\n",
       "      <th>43</th>\n",
       "      <td>1.811473</td>\n",
       "    </tr>\n",
       "    <tr>\n",
       "      <th>44</th>\n",
       "      <td>1.719274</td>\n",
       "    </tr>\n",
       "    <tr>\n",
       "      <th>45</th>\n",
       "      <td>1.813855</td>\n",
       "    </tr>\n",
       "    <tr>\n",
       "      <th>46</th>\n",
       "      <td>1.724159</td>\n",
       "    </tr>\n",
       "    <tr>\n",
       "      <th>47</th>\n",
       "      <td>1.718350</td>\n",
       "    </tr>\n",
       "    <tr>\n",
       "      <th>48</th>\n",
       "      <td>1.680162</td>\n",
       "    </tr>\n",
       "    <tr>\n",
       "      <th>49</th>\n",
       "      <td>1.703495</td>\n",
       "    </tr>\n",
       "    <tr>\n",
       "      <th>50</th>\n",
       "      <td>1.680291</td>\n",
       "    </tr>\n",
       "    <tr>\n",
       "      <th>51</th>\n",
       "      <td>1.638426</td>\n",
       "    </tr>\n",
       "    <tr>\n",
       "      <th>52</th>\n",
       "      <td>1.689609</td>\n",
       "    </tr>\n",
       "    <tr>\n",
       "      <th>53</th>\n",
       "      <td>1.657112</td>\n",
       "    </tr>\n",
       "    <tr>\n",
       "      <th>54</th>\n",
       "      <td>1.722584</td>\n",
       "    </tr>\n",
       "    <tr>\n",
       "      <th>55</th>\n",
       "      <td>1.706739</td>\n",
       "    </tr>\n",
       "    <tr>\n",
       "      <th>56</th>\n",
       "      <td>1.682474</td>\n",
       "    </tr>\n",
       "    <tr>\n",
       "      <th>57</th>\n",
       "      <td>1.684462</td>\n",
       "    </tr>\n",
       "    <tr>\n",
       "      <th>58</th>\n",
       "      <td>1.721979</td>\n",
       "    </tr>\n",
       "    <tr>\n",
       "      <th>59</th>\n",
       "      <td>1.728992</td>\n",
       "    </tr>\n",
       "    <tr>\n",
       "      <th>60</th>\n",
       "      <td>1.752767</td>\n",
       "    </tr>\n",
       "  </tbody>\n",
       "</table>\n",
       "</div>"
      ],
      "text/plain": [
       "            ch_score\n",
       "n_clusters          \n",
       "2           5.611238\n",
       "3           4.963542\n",
       "4           4.368436\n",
       "5           3.982326\n",
       "6           3.678777\n",
       "7           3.553118\n",
       "8           3.192581\n",
       "9           3.059508\n",
       "10          2.908114\n",
       "11          2.910372\n",
       "12          2.656061\n",
       "13          2.732341\n",
       "14          2.648493\n",
       "15          2.470685\n",
       "16          2.352040\n",
       "17          2.298857\n",
       "18          2.293324\n",
       "19          2.329974\n",
       "20          2.240498\n",
       "21          1.977507\n",
       "22          2.125894\n",
       "23          2.166131\n",
       "24          1.863691\n",
       "25          1.963763\n",
       "26          1.921692\n",
       "27          2.120312\n",
       "28          1.820617\n",
       "29          1.923277\n",
       "30          1.867036\n",
       "31          1.802081\n",
       "32          1.796535\n",
       "33          1.844109\n",
       "34          1.800446\n",
       "35          1.951823\n",
       "36          1.877048\n",
       "37          1.762863\n",
       "38          1.864588\n",
       "39          1.822471\n",
       "40          1.769803\n",
       "41          1.815676\n",
       "42          1.743606\n",
       "43          1.811473\n",
       "44          1.719274\n",
       "45          1.813855\n",
       "46          1.724159\n",
       "47          1.718350\n",
       "48          1.680162\n",
       "49          1.703495\n",
       "50          1.680291\n",
       "51          1.638426\n",
       "52          1.689609\n",
       "53          1.657112\n",
       "54          1.722584\n",
       "55          1.706739\n",
       "56          1.682474\n",
       "57          1.684462\n",
       "58          1.721979\n",
       "59          1.728992\n",
       "60          1.752767"
      ]
     },
     "metadata": {},
     "output_type": "display_data"
    }
   ],
   "source": [
    "with pd.option_context(\"display.max_rows\", None, \"display.max_columns\", None):\n",
    "    _df = ensemble.groupby([\"n_clusters\"]).mean()\n",
    "    display(_df)"
   ]
  },
  {
   "cell_type": "code",
   "execution_count": 41,
   "id": "ff408360",
   "metadata": {
    "execution": {
     "iopub.execute_input": "2022-11-25T04:37:39.070167Z",
     "iopub.status.busy": "2022-11-25T04:37:39.069939Z",
     "iopub.status.idle": "2022-11-25T04:37:41.133563Z",
     "shell.execute_reply": "2022-11-25T04:37:41.133337Z"
    },
    "papermill": {
     "duration": 2.081728,
     "end_time": "2022-11-25T04:37:41.136533",
     "exception": false,
     "start_time": "2022-11-25T04:37:39.054805",
     "status": "completed"
    },
    "tags": []
   },
   "outputs": [
    {
     "data": {
      "image/png": "[encoded data removed]",
      "text/plain": [
       "<Figure size 1008x432 with 1 Axes>"
      ]
     },
     "metadata": {},
     "output_type": "display_data"
    }
   ],
   "source": [
    "with sns.plotting_context(\"talk\", font_scale=0.75), sns.axes_style(\n",
    "    \"whitegrid\", {\"grid.linestyle\": \"--\"}\n",
    "):\n",
    "    fig = plt.figure(figsize=(14, 6))\n",
    "    ax = sns.pointplot(data=ensemble, x=\"n_clusters\", y=\"ch_score\")\n",
    "    ax.set_ylabel(\"Calinski-Harabasz index\")\n",
    "    ax.set_xlabel(\"Number of clusters ($k$)\")\n",
    "    ax.set_xticklabels(ax.get_xticklabels(), rotation=45)\n",
    "    plt.grid(True)\n",
    "    plt.tight_layout()"
   ]
  },
  {
   "cell_type": "markdown",
   "id": "73ff0803",
   "metadata": {
    "papermill": {
     "duration": 0.02973,
     "end_time": "2022-11-25T04:37:41.198227",
     "exception": false,
     "start_time": "2022-11-25T04:37:41.168497",
     "status": "completed"
    },
    "tags": []
   },
   "source": [
    "# Stability"
   ]
  },
  {
   "cell_type": "markdown",
   "id": "a5be8ae2",
   "metadata": {
    "papermill": {
     "duration": 0.015455,
     "end_time": "2022-11-25T04:37:41.237881",
     "exception": false,
     "start_time": "2022-11-25T04:37:41.222426",
     "status": "completed"
    },
    "tags": []
   },
   "source": [
    "## Group ensemble by n_clusters"
   ]
  },
  {
   "cell_type": "code",
   "execution_count": 42,
   "id": "a6c3df9b",
   "metadata": {
    "execution": {
     "iopub.execute_input": "2022-11-25T04:37:41.269860Z",
     "iopub.status.busy": "2022-11-25T04:37:41.269572Z",
     "iopub.status.idle": "2022-11-25T04:37:41.309257Z",
     "shell.execute_reply": "2022-11-25T04:37:41.308863Z"
    },
    "papermill": {
     "duration": 0.056732,
     "end_time": "2022-11-25T04:37:41.310045",
     "exception": false,
     "start_time": "2022-11-25T04:37:41.253313",
     "status": "completed"
    },
    "tags": []
   },
   "outputs": [],
   "source": [
    "parts = ensemble.groupby(\"n_clusters\").apply(\n",
    "    lambda x: np.concatenate(x[\"partition\"].apply(lambda x: x.reshape(1, -1)), axis=0)\n",
    ")"
   ]
  },
  {
   "cell_type": "code",
   "execution_count": 43,
   "id": "2a394747",
   "metadata": {
    "execution": {
     "iopub.execute_input": "2022-11-25T04:37:41.341765Z",
     "iopub.status.busy": "2022-11-25T04:37:41.341539Z",
     "iopub.status.idle": "2022-11-25T04:37:41.366956Z",
     "shell.execute_reply": "2022-11-25T04:37:41.366679Z"
    },
    "papermill": {
     "duration": 0.041932,
     "end_time": "2022-11-25T04:37:41.367643",
     "exception": false,
     "start_time": "2022-11-25T04:37:41.325711",
     "status": "completed"
    },
    "tags": []
   },
   "outputs": [
    {
     "data": {
      "text/plain": [
       "n_clusters\n",
       "2    [[0.0, 0.0, 1.0, 0.0, 0.0, 0.0, 0.0, 0.0, 0.0,...\n",
       "3    [[0.0, 1.0, 0.0, 0.0, 0.0, 2.0, 2.0, 0.0, 2.0,...\n",
       "4    [[1.0, 3.0, 3.0, 2.0, 3.0, 3.0, 2.0, 1.0, 2.0,...\n",
       "5    [[2.0, 2.0, 1.0, 4.0, 4.0, 2.0, 3.0, 2.0, 1.0,...\n",
       "6    [[3.0, 5.0, 3.0, 2.0, 1.0, 2.0, 5.0, 3.0, 5.0,...\n",
       "dtype: object"
      ]
     },
     "execution_count": 43,
     "metadata": {},
     "output_type": "execute_result"
    }
   ],
   "source": [
    "parts.head()"
   ]
  },
  {
   "cell_type": "code",
   "execution_count": 44,
   "id": "a5ab1871",
   "metadata": {
    "execution": {
     "iopub.execute_input": "2022-11-25T04:37:41.399483Z",
     "iopub.status.busy": "2022-11-25T04:37:41.399359Z",
     "iopub.status.idle": "2022-11-25T04:37:41.421017Z",
     "shell.execute_reply": "2022-11-25T04:37:41.420597Z"
    },
    "papermill": {
     "duration": 0.038215,
     "end_time": "2022-11-25T04:37:41.421804",
     "exception": false,
     "start_time": "2022-11-25T04:37:41.383589",
     "status": "completed"
    },
    "tags": []
   },
   "outputs": [],
   "source": [
    "assert np.all(\n",
    "    [\n",
    "        parts.loc[k].shape == (CLUSTERING_OPTIONS[\"N_REPS_PER_K\"], data.shape[0])\n",
    "        for k in parts.index\n",
    "    ]\n",
    ")"
   ]
  },
  {
   "cell_type": "markdown",
   "id": "016ca2f8",
   "metadata": {
    "papermill": {
     "duration": 0.015809,
     "end_time": "2022-11-25T04:37:41.453124",
     "exception": false,
     "start_time": "2022-11-25T04:37:41.437315",
     "status": "completed"
    },
    "tags": []
   },
   "source": [
    "## Compute stability"
   ]
  },
  {
   "cell_type": "code",
   "execution_count": 45,
   "id": "998827ed",
   "metadata": {
    "execution": {
     "iopub.execute_input": "2022-11-25T04:37:41.489364Z",
     "iopub.status.busy": "2022-11-25T04:37:41.489106Z",
     "iopub.status.idle": "2022-11-25T04:37:41.510432Z",
     "shell.execute_reply": "2022-11-25T04:37:41.510037Z"
    },
    "papermill": {
     "duration": 0.039872,
     "end_time": "2022-11-25T04:37:41.511272",
     "exception": false,
     "start_time": "2022-11-25T04:37:41.471400",
     "status": "completed"
    },
    "tags": []
   },
   "outputs": [],
   "source": [
    "from sklearn.metrics import adjusted_rand_score as ari\n",
    "from scipy.spatial.distance import pdist"
   ]
  },
  {
   "cell_type": "code",
   "execution_count": 46,
   "id": "dac8f1ca",
   "metadata": {
    "execution": {
     "iopub.execute_input": "2022-11-25T04:37:41.543831Z",
     "iopub.status.busy": "2022-11-25T04:37:41.543457Z",
     "iopub.status.idle": "2022-11-25T04:37:42.055887Z",
     "shell.execute_reply": "2022-11-25T04:37:42.055574Z"
    },
    "papermill": {
     "duration": 0.529875,
     "end_time": "2022-11-25T04:37:42.057268",
     "exception": false,
     "start_time": "2022-11-25T04:37:41.527393",
     "status": "completed"
    },
    "tags": []
   },
   "outputs": [],
   "source": [
    "parts_ari = pd.Series(\n",
    "    {k: pdist(parts.loc[k], metric=ari) for k in parts.index}, name=\"k\"\n",
    ")"
   ]
  },
  {
   "cell_type": "code",
   "execution_count": 47,
   "id": "84419a75",
   "metadata": {
    "execution": {
     "iopub.execute_input": "2022-11-25T04:37:42.090683Z",
     "iopub.status.busy": "2022-11-25T04:37:42.090599Z",
     "iopub.status.idle": "2022-11-25T04:37:42.104324Z",
     "shell.execute_reply": "2022-11-25T04:37:42.104059Z"
    },
    "papermill": {
     "duration": 0.030255,
     "end_time": "2022-11-25T04:37:42.105032",
     "exception": false,
     "start_time": "2022-11-25T04:37:42.074777",
     "status": "completed"
    },
    "tags": []
   },
   "outputs": [
    {
     "data": {
      "text/plain": [
       "57    0.015649\n",
       "49    0.012569\n",
       "27    0.012475\n",
       "59    0.012106\n",
       "56    0.011622\n",
       "17    0.011603\n",
       "55    0.009326\n",
       "32    0.008810\n",
       "58    0.008311\n",
       "60    0.008230\n",
       "28    0.008159\n",
       "41    0.007934\n",
       "44    0.007624\n",
       "24    0.007321\n",
       "25    0.006842\n",
       "Name: k, dtype: float64"
      ]
     },
     "metadata": {},
     "output_type": "display_data"
    }
   ],
   "source": [
    "parts_ari_stability = parts_ari.apply(lambda x: x.mean())\n",
    "display(parts_ari_stability.sort_values(ascending=False).head(15))"
   ]
  },
  {
   "cell_type": "code",
   "execution_count": 48,
   "id": "47858bf6",
   "metadata": {
    "execution": {
     "iopub.execute_input": "2022-11-25T04:37:42.136762Z",
     "iopub.status.busy": "2022-11-25T04:37:42.136665Z",
     "iopub.status.idle": "2022-11-25T04:37:42.154474Z",
     "shell.execute_reply": "2022-11-25T04:37:42.154109Z"
    },
    "papermill": {
     "duration": 0.034481,
     "end_time": "2022-11-25T04:37:42.155231",
     "exception": false,
     "start_time": "2022-11-25T04:37:42.120750",
     "status": "completed"
    },
    "tags": []
   },
   "outputs": [],
   "source": [
    "parts_ari_df = pd.DataFrame.from_records(parts_ari.tolist()).set_index(\n",
    "    parts_ari.index.copy()\n",
    ")"
   ]
  },
  {
   "cell_type": "code",
   "execution_count": 49,
   "id": "ba200d26",
   "metadata": {
    "execution": {
     "iopub.execute_input": "2022-11-25T04:37:42.187286Z",
     "iopub.status.busy": "2022-11-25T04:37:42.186862Z",
     "iopub.status.idle": "2022-11-25T04:37:42.207031Z",
     "shell.execute_reply": "2022-11-25T04:37:42.206620Z"
    },
    "papermill": {
     "duration": 0.036906,
     "end_time": "2022-11-25T04:37:42.207832",
     "exception": false,
     "start_time": "2022-11-25T04:37:42.170926",
     "status": "completed"
    },
    "tags": []
   },
   "outputs": [
    {
     "data": {
      "text/plain": [
       "(59, 10)"
      ]
     },
     "execution_count": 49,
     "metadata": {},
     "output_type": "execute_result"
    }
   ],
   "source": [
    "parts_ari_df.shape"
   ]
  },
  {
   "cell_type": "code",
   "execution_count": 50,
   "id": "d30a7b2f",
   "metadata": {
    "execution": {
     "iopub.execute_input": "2022-11-25T04:37:42.239891Z",
     "iopub.status.busy": "2022-11-25T04:37:42.239661Z",
     "iopub.status.idle": "2022-11-25T04:37:42.259561Z",
     "shell.execute_reply": "2022-11-25T04:37:42.259122Z"
    },
    "papermill": {
     "duration": 0.036828,
     "end_time": "2022-11-25T04:37:42.260491",
     "exception": false,
     "start_time": "2022-11-25T04:37:42.223663",
     "status": "completed"
    },
    "tags": []
   },
   "outputs": [],
   "source": [
    "assert (\n",
    "    int(\n",
    "        (CLUSTERING_OPTIONS[\"N_REPS_PER_K\"] * (CLUSTERING_OPTIONS[\"N_REPS_PER_K\"] - 1))\n",
    "        / 2\n",
    "    )\n",
    "    == parts_ari_df.shape[1]\n",
    ")"
   ]
  },
  {
   "cell_type": "code",
   "execution_count": 51,
   "id": "e8d17b33",
   "metadata": {
    "execution": {
     "iopub.execute_input": "2022-11-25T04:37:42.292648Z",
     "iopub.status.busy": "2022-11-25T04:37:42.292151Z",
     "iopub.status.idle": "2022-11-25T04:37:42.319491Z",
     "shell.execute_reply": "2022-11-25T04:37:42.319094Z"
    },
    "papermill": {
     "duration": 0.044136,
     "end_time": "2022-11-25T04:37:42.320280",
     "exception": false,
     "start_time": "2022-11-25T04:37:42.276144",
     "status": "completed"
    },
    "tags": []
   },
   "outputs": [
    {
     "data": {
      "text/html": [
       "<div>\n",
       "<style scoped>\n",
       "    .dataframe tbody tr th:only-of-type {\n",
       "        vertical-align: middle;\n",
       "    }\n",
       "\n",
       "    .dataframe tbody tr th {\n",
       "        vertical-align: top;\n",
       "    }\n",
       "\n",
       "    .dataframe thead th {\n",
       "        text-align: right;\n",
       "    }\n",
       "</style>\n",
       "<table border=\"1\" class=\"dataframe\">\n",
       "  <thead>\n",
       "    <tr style=\"text-align: right;\">\n",
       "      <th></th>\n",
       "      <th>0</th>\n",
       "      <th>1</th>\n",
       "      <th>2</th>\n",
       "      <th>3</th>\n",
       "      <th>4</th>\n",
       "      <th>5</th>\n",
       "      <th>6</th>\n",
       "      <th>7</th>\n",
       "      <th>8</th>\n",
       "      <th>9</th>\n",
       "    </tr>\n",
       "  </thead>\n",
       "  <tbody>\n",
       "    <tr>\n",
       "      <th>2</th>\n",
       "      <td>0.004575</td>\n",
       "      <td>-0.001403</td>\n",
       "      <td>0.000872</td>\n",
       "      <td>-0.000229</td>\n",
       "      <td>0.012967</td>\n",
       "      <td>0.007184</td>\n",
       "      <td>0.003922</td>\n",
       "      <td>0.008123</td>\n",
       "      <td>0.011247</td>\n",
       "      <td>0.006925</td>\n",
       "    </tr>\n",
       "    <tr>\n",
       "      <th>3</th>\n",
       "      <td>0.007786</td>\n",
       "      <td>0.003076</td>\n",
       "      <td>0.003393</td>\n",
       "      <td>0.004426</td>\n",
       "      <td>0.003468</td>\n",
       "      <td>0.009116</td>\n",
       "      <td>0.003418</td>\n",
       "      <td>0.001460</td>\n",
       "      <td>0.011292</td>\n",
       "      <td>0.008124</td>\n",
       "    </tr>\n",
       "    <tr>\n",
       "      <th>4</th>\n",
       "      <td>0.003816</td>\n",
       "      <td>0.007899</td>\n",
       "      <td>0.006219</td>\n",
       "      <td>0.002371</td>\n",
       "      <td>0.001225</td>\n",
       "      <td>0.004297</td>\n",
       "      <td>0.006842</td>\n",
       "      <td>0.005462</td>\n",
       "      <td>0.000777</td>\n",
       "      <td>0.004344</td>\n",
       "    </tr>\n",
       "    <tr>\n",
       "      <th>5</th>\n",
       "      <td>0.007857</td>\n",
       "      <td>0.005604</td>\n",
       "      <td>0.004941</td>\n",
       "      <td>0.021931</td>\n",
       "      <td>0.001303</td>\n",
       "      <td>0.004390</td>\n",
       "      <td>0.003298</td>\n",
       "      <td>0.005266</td>\n",
       "      <td>0.005663</td>\n",
       "      <td>0.002131</td>\n",
       "    </tr>\n",
       "    <tr>\n",
       "      <th>6</th>\n",
       "      <td>0.002016</td>\n",
       "      <td>0.004917</td>\n",
       "      <td>0.018378</td>\n",
       "      <td>0.002093</td>\n",
       "      <td>0.008865</td>\n",
       "      <td>0.005421</td>\n",
       "      <td>0.003268</td>\n",
       "      <td>0.002995</td>\n",
       "      <td>0.004975</td>\n",
       "      <td>0.005909</td>\n",
       "    </tr>\n",
       "  </tbody>\n",
       "</table>\n",
       "</div>"
      ],
      "text/plain": [
       "          0         1         2         3         4         5         6  \\\n",
       "2  0.004575 -0.001403  0.000872 -0.000229  0.012967  0.007184  0.003922   \n",
       "3  0.007786  0.003076  0.003393  0.004426  0.003468  0.009116  0.003418   \n",
       "4  0.003816  0.007899  0.006219  0.002371  0.001225  0.004297  0.006842   \n",
       "5  0.007857  0.005604  0.004941  0.021931  0.001303  0.004390  0.003298   \n",
       "6  0.002016  0.004917  0.018378  0.002093  0.008865  0.005421  0.003268   \n",
       "\n",
       "          7         8         9  \n",
       "2  0.008123  0.011247  0.006925  \n",
       "3  0.001460  0.011292  0.008124  \n",
       "4  0.005462  0.000777  0.004344  \n",
       "5  0.005266  0.005663  0.002131  \n",
       "6  0.002995  0.004975  0.005909  "
      ]
     },
     "execution_count": 51,
     "metadata": {},
     "output_type": "execute_result"
    }
   ],
   "source": [
    "parts_ari_df.head()"
   ]
  },
  {
   "cell_type": "markdown",
   "id": "0f2ad37d",
   "metadata": {
    "papermill": {
     "duration": 0.019465,
     "end_time": "2022-11-25T04:37:42.355992",
     "exception": false,
     "start_time": "2022-11-25T04:37:42.336527",
     "status": "completed"
    },
    "tags": []
   },
   "source": [
    "## Save"
   ]
  },
  {
   "cell_type": "code",
   "execution_count": 52,
   "id": "4067f2f9",
   "metadata": {
    "execution": {
     "iopub.execute_input": "2022-11-25T04:37:42.390010Z",
     "iopub.status.busy": "2022-11-25T04:37:42.389761Z",
     "iopub.status.idle": "2022-11-25T04:37:42.411207Z",
     "shell.execute_reply": "2022-11-25T04:37:42.410845Z"
    },
    "papermill": {
     "duration": 0.038868,
     "end_time": "2022-11-25T04:37:42.411977",
     "exception": false,
     "start_time": "2022-11-25T04:37:42.373109",
     "status": "completed"
    },
    "tags": []
   },
   "outputs": [
    {
     "data": {
      "text/plain": [
       "PosixPath('/opt/data/results/clustering/null_sims/shuffle_genes/runs/z_score_std-projection-smultixcan-efo_partial-mashr-zscores/KMeans-stability-KMEANS_N_INIT_10-K_MAX_60-K_MIN_2-N_REPS_PER_K_5.pkl')"
      ]
     },
     "metadata": {},
     "output_type": "display_data"
    }
   ],
   "source": [
    "output_filename = Path(\n",
    "    RESULTS_DIR,\n",
    "    generate_result_set_name(\n",
    "        CLUSTERING_OPTIONS,\n",
    "        prefix=f\"{clustering_method_name}-stability-\",\n",
    "        suffix=\".pkl\",\n",
    "    ),\n",
    ").resolve()\n",
    "display(output_filename)"
   ]
  },
  {
   "cell_type": "code",
   "execution_count": 53,
   "id": "3eb1c18f",
   "metadata": {
    "execution": {
     "iopub.execute_input": "2022-11-25T04:37:42.444600Z",
     "iopub.status.busy": "2022-11-25T04:37:42.444353Z",
     "iopub.status.idle": "2022-11-25T04:37:42.464309Z",
     "shell.execute_reply": "2022-11-25T04:37:42.463928Z"
    },
    "papermill": {
     "duration": 0.037153,
     "end_time": "2022-11-25T04:37:42.465179",
     "exception": false,
     "start_time": "2022-11-25T04:37:42.428026",
     "status": "completed"
    },
    "tags": []
   },
   "outputs": [],
   "source": [
    "parts_ari_df.to_pickle(output_filename)"
   ]
  },
  {
   "cell_type": "markdown",
   "id": "ed3e8473",
   "metadata": {
    "papermill": {
     "duration": 0.016056,
     "end_time": "2022-11-25T04:37:42.497225",
     "exception": false,
     "start_time": "2022-11-25T04:37:42.481169",
     "status": "completed"
    },
    "tags": []
   },
   "source": [
    "## Stability plot"
   ]
  },
  {
   "cell_type": "code",
   "execution_count": 54,
   "id": "7979db7a",
   "metadata": {
    "execution": {
     "iopub.execute_input": "2022-11-25T04:37:42.533799Z",
     "iopub.status.busy": "2022-11-25T04:37:42.533647Z",
     "iopub.status.idle": "2022-11-25T04:37:42.556432Z",
     "shell.execute_reply": "2022-11-25T04:37:42.556013Z"
    },
    "papermill": {
     "duration": 0.043958,
     "end_time": "2022-11-25T04:37:42.557285",
     "exception": false,
     "start_time": "2022-11-25T04:37:42.513327",
     "status": "completed"
    },
    "tags": []
   },
   "outputs": [],
   "source": [
    "parts_ari_df_plot = (\n",
    "    parts_ari_df.stack()\n",
    "    .reset_index()\n",
    "    .rename(columns={\"level_0\": \"k\", \"level_1\": \"idx\", 0: \"ari\"})\n",
    ")"
   ]
  },
  {
   "cell_type": "code",
   "execution_count": 55,
   "id": "0c6dd8aa",
   "metadata": {
    "execution": {
     "iopub.execute_input": "2022-11-25T04:37:42.590361Z",
     "iopub.status.busy": "2022-11-25T04:37:42.590123Z",
     "iopub.status.idle": "2022-11-25T04:37:42.611569Z",
     "shell.execute_reply": "2022-11-25T04:37:42.611204Z"
    },
    "papermill": {
     "duration": 0.038569,
     "end_time": "2022-11-25T04:37:42.612338",
     "exception": false,
     "start_time": "2022-11-25T04:37:42.573769",
     "status": "completed"
    },
    "tags": []
   },
   "outputs": [
    {
     "data": {
      "text/plain": [
       "k        int64\n",
       "idx      int64\n",
       "ari    float64\n",
       "dtype: object"
      ]
     },
     "execution_count": 55,
     "metadata": {},
     "output_type": "execute_result"
    }
   ],
   "source": [
    "parts_ari_df_plot.dtypes"
   ]
  },
  {
   "cell_type": "code",
   "execution_count": 56,
   "id": "e8f841c8",
   "metadata": {
    "execution": {
     "iopub.execute_input": "2022-11-25T04:37:42.644892Z",
     "iopub.status.busy": "2022-11-25T04:37:42.644654Z",
     "iopub.status.idle": "2022-11-25T04:37:42.667941Z",
     "shell.execute_reply": "2022-11-25T04:37:42.667572Z"
    },
    "papermill": {
     "duration": 0.040336,
     "end_time": "2022-11-25T04:37:42.668689",
     "exception": false,
     "start_time": "2022-11-25T04:37:42.628353",
     "status": "completed"
    },
    "tags": []
   },
   "outputs": [
    {
     "data": {
      "text/html": [
       "<div>\n",
       "<style scoped>\n",
       "    .dataframe tbody tr th:only-of-type {\n",
       "        vertical-align: middle;\n",
       "    }\n",
       "\n",
       "    .dataframe tbody tr th {\n",
       "        vertical-align: top;\n",
       "    }\n",
       "\n",
       "    .dataframe thead th {\n",
       "        text-align: right;\n",
       "    }\n",
       "</style>\n",
       "<table border=\"1\" class=\"dataframe\">\n",
       "  <thead>\n",
       "    <tr style=\"text-align: right;\">\n",
       "      <th></th>\n",
       "      <th>k</th>\n",
       "      <th>idx</th>\n",
       "      <th>ari</th>\n",
       "    </tr>\n",
       "  </thead>\n",
       "  <tbody>\n",
       "    <tr>\n",
       "      <th>0</th>\n",
       "      <td>2</td>\n",
       "      <td>0</td>\n",
       "      <td>0.004575</td>\n",
       "    </tr>\n",
       "    <tr>\n",
       "      <th>1</th>\n",
       "      <td>2</td>\n",
       "      <td>1</td>\n",
       "      <td>-0.001403</td>\n",
       "    </tr>\n",
       "    <tr>\n",
       "      <th>2</th>\n",
       "      <td>2</td>\n",
       "      <td>2</td>\n",
       "      <td>0.000872</td>\n",
       "    </tr>\n",
       "    <tr>\n",
       "      <th>3</th>\n",
       "      <td>2</td>\n",
       "      <td>3</td>\n",
       "      <td>-0.000229</td>\n",
       "    </tr>\n",
       "    <tr>\n",
       "      <th>4</th>\n",
       "      <td>2</td>\n",
       "      <td>4</td>\n",
       "      <td>0.012967</td>\n",
       "    </tr>\n",
       "  </tbody>\n",
       "</table>\n",
       "</div>"
      ],
      "text/plain": [
       "   k  idx       ari\n",
       "0  2    0  0.004575\n",
       "1  2    1 -0.001403\n",
       "2  2    2  0.000872\n",
       "3  2    3 -0.000229\n",
       "4  2    4  0.012967"
      ]
     },
     "execution_count": 56,
     "metadata": {},
     "output_type": "execute_result"
    }
   ],
   "source": [
    "parts_ari_df_plot.head()"
   ]
  },
  {
   "cell_type": "code",
   "execution_count": 57,
   "id": "554b37cb",
   "metadata": {
    "execution": {
     "iopub.execute_input": "2022-11-25T04:37:42.701474Z",
     "iopub.status.busy": "2022-11-25T04:37:42.701254Z",
     "iopub.status.idle": "2022-11-25T04:37:44.601638Z",
     "shell.execute_reply": "2022-11-25T04:37:44.601285Z"
    },
    "papermill": {
     "duration": 1.918813,
     "end_time": "2022-11-25T04:37:44.603622",
     "exception": false,
     "start_time": "2022-11-25T04:37:42.684809",
     "status": "completed"
    },
    "tags": []
   },
   "outputs": [
    {
     "data": {
      "image/png": "[encoded data removed]",
      "text/plain": [
       "<Figure size 1008x432 with 1 Axes>"
      ]
     },
     "metadata": {},
     "output_type": "display_data"
    }
   ],
   "source": [
    "# with sns.axes_style('whitegrid', {'grid.linestyle': '--'}):\n",
    "with sns.plotting_context(\"talk\", font_scale=0.75), sns.axes_style(\n",
    "    \"whitegrid\", {\"grid.linestyle\": \"--\"}\n",
    "):\n",
    "    fig = plt.figure(figsize=(14, 6))\n",
    "    ax = sns.pointplot(data=parts_ari_df_plot, x=\"k\", y=\"ari\")\n",
    "    ax.set_ylabel(\"Averange ARI\")\n",
    "    ax.set_xlabel(\"Number of clusters ($k$)\")\n",
    "    ax.set_xticklabels(ax.get_xticklabels(), rotation=45)\n",
    "    #     ax.set_ylim(0.0, 1.0)\n",
    "    #     ax.set_xlim(CLUSTERING_OPTIONS['K_MIN'], CLUSTERING_OPTIONS['K_MAX'])\n",
    "    plt.grid(True)\n",
    "    plt.tight_layout()"
   ]
  },
  {
   "cell_type": "code",
   "execution_count": null,
   "id": "ca79492b",
   "metadata": {
    "papermill": {
     "duration": 0.032305,
     "end_time": "2022-11-25T04:37:44.669435",
     "exception": false,
     "start_time": "2022-11-25T04:37:44.637130",
     "status": "completed"
    },
    "tags": []
   },
   "outputs": [],
   "source": []
  }
 ],
 "metadata": {
  "jupytext": {
   "cell_metadata_filter": "all,-execution,-papermill,-trusted",
   "formats": "ipynb,py//py:percent"
  },
  "kernelspec": {
   "display_name": "Python 3 (ipykernel)",
   "language": "python",
   "name": "python3"
  },
  "language_info": {
   "codemirror_mode": {
    "name": "ipython",
    "version": 3
   },
   "file_extension": ".py",
   "mimetype": "text/x-python",
   "name": "python",
   "nbconvert_exporter": "python",
   "pygments_lexer": "ipython3",
   "version": "3.8.13"
  },
  "papermill": {
   "default_parameters": {},
   "duration": 497.408879,
   "end_time": "2022-11-25T04:37:45.009426",
   "environment_variables": {},
   "exception": null,
   "input_path": "nbs/13.1_cluster_analysis_null/00-shuffle_genes/10_00-kmeans-z_score_std.ipynb",
   "output_path": "nbs/13.1_cluster_analysis_null/00-shuffle_genes/10_00-kmeans-z_score_std.run.ipynb",
   "parameters": {},
   "start_time": "2022-11-25T04:29:27.600547",
   "version": "2.2.2"
  },
  "toc-autonumbering": true,
  "toc-showcode": false,
  "toc-showmarkdowntxt": false,
  "toc-showtags": false
 },
 "nbformat": 4,
 "nbformat_minor": 5
}
