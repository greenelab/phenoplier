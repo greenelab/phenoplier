{
 "cells": [
  {
   "cell_type": "markdown",
   "id": "66c94a85",
   "metadata": {
    "papermill": {
     "duration": 0.03302,
     "end_time": "2022-09-13T15:39:12.541094",
     "exception": false,
     "start_time": "2022-09-13T15:39:12.508074",
     "status": "completed"
    },
    "tags": []
   },
   "source": [
    "# Description"
   ]
  },
  {
   "cell_type": "markdown",
   "id": "3e1f0d84",
   "metadata": {
    "papermill": {
     "duration": 0.008869,
     "end_time": "2022-09-13T15:39:12.563210",
     "exception": false,
     "start_time": "2022-09-13T15:39:12.554341",
     "status": "completed"
    },
    "tags": []
   },
   "source": [
    "Runs k-means on the z_score_std version of the data."
   ]
  },
  {
   "cell_type": "markdown",
   "id": "a35cceef",
   "metadata": {
    "papermill": {
     "duration": 0.007436,
     "end_time": "2022-09-13T15:39:12.578134",
     "exception": false,
     "start_time": "2022-09-13T15:39:12.570698",
     "status": "completed"
    },
    "tags": []
   },
   "source": [
    "# Environment variables"
   ]
  },
  {
   "cell_type": "code",
   "execution_count": 1,
   "id": "5bfbc3a8",
   "metadata": {
    "execution": {
     "iopub.execute_input": "2022-09-13T15:39:12.594401Z",
     "iopub.status.busy": "2022-09-13T15:39:12.594151Z",
     "iopub.status.idle": "2022-09-13T15:39:12.609438Z",
     "shell.execute_reply": "2022-09-13T15:39:12.608882Z"
    },
    "papermill": {
     "duration": 0.02521,
     "end_time": "2022-09-13T15:39:12.610831",
     "exception": false,
     "start_time": "2022-09-13T15:39:12.585621",
     "status": "completed"
    },
    "tags": []
   },
   "outputs": [
    {
     "data": {
      "text/plain": [
       "3"
      ]
     },
     "metadata": {},
     "output_type": "display_data"
    }
   ],
   "source": [
    "from IPython.display import display\n",
    "\n",
    "import conf\n",
    "\n",
    "N_JOBS = conf.GENERAL[\"N_JOBS\"]\n",
    "display(N_JOBS)"
   ]
  },
  {
   "cell_type": "code",
   "execution_count": 2,
   "id": "fd08b2f5",
   "metadata": {
    "execution": {
     "iopub.execute_input": "2022-09-13T15:39:12.628068Z",
     "iopub.status.busy": "2022-09-13T15:39:12.627810Z",
     "iopub.status.idle": "2022-09-13T15:39:12.632595Z",
     "shell.execute_reply": "2022-09-13T15:39:12.632125Z"
    },
    "papermill": {
     "duration": 0.014538,
     "end_time": "2022-09-13T15:39:12.633785",
     "exception": false,
     "start_time": "2022-09-13T15:39:12.619247",
     "status": "completed"
    },
    "tags": []
   },
   "outputs": [
    {
     "name": "stdout",
     "output_type": "stream",
     "text": [
      "env: MKL_NUM_THREADS=3\n",
      "env: OPEN_BLAS_NUM_THREADS=3\n",
      "env: NUMEXPR_NUM_THREADS=3\n",
      "env: OMP_NUM_THREADS=3\n"
     ]
    }
   ],
   "source": [
    "%env MKL_NUM_THREADS=$N_JOBS\n",
    "%env OPEN_BLAS_NUM_THREADS=$N_JOBS\n",
    "%env NUMEXPR_NUM_THREADS=$N_JOBS\n",
    "%env OMP_NUM_THREADS=$N_JOBS"
   ]
  },
  {
   "cell_type": "markdown",
   "id": "f678aeb0",
   "metadata": {
    "papermill": {
     "duration": 0.007833,
     "end_time": "2022-09-13T15:39:12.649727",
     "exception": false,
     "start_time": "2022-09-13T15:39:12.641894",
     "status": "completed"
    },
    "tags": []
   },
   "source": [
    "# Modules loading"
   ]
  },
  {
   "cell_type": "code",
   "execution_count": 3,
   "id": "426b89ab",
   "metadata": {
    "execution": {
     "iopub.execute_input": "2022-09-13T15:39:12.665971Z",
     "iopub.status.busy": "2022-09-13T15:39:12.665761Z",
     "iopub.status.idle": "2022-09-13T15:39:12.679034Z",
     "shell.execute_reply": "2022-09-13T15:39:12.678507Z"
    },
    "papermill": {
     "duration": 0.02282,
     "end_time": "2022-09-13T15:39:12.680382",
     "exception": false,
     "start_time": "2022-09-13T15:39:12.657562",
     "status": "completed"
    },
    "tags": []
   },
   "outputs": [],
   "source": [
    "%load_ext autoreload\n",
    "%autoreload 2"
   ]
  },
  {
   "cell_type": "code",
   "execution_count": 4,
   "id": "be2e621b",
   "metadata": {
    "execution": {
     "iopub.execute_input": "2022-09-13T15:39:12.697013Z",
     "iopub.status.busy": "2022-09-13T15:39:12.696862Z",
     "iopub.status.idle": "2022-09-13T15:39:13.360087Z",
     "shell.execute_reply": "2022-09-13T15:39:13.359289Z"
    },
    "papermill": {
     "duration": 0.673194,
     "end_time": "2022-09-13T15:39:13.361553",
     "exception": false,
     "start_time": "2022-09-13T15:39:12.688359",
     "status": "completed"
    },
    "tags": []
   },
   "outputs": [],
   "source": [
    "from pathlib import Path\n",
    "\n",
    "import numpy as np\n",
    "import pandas as pd\n",
    "import matplotlib.pyplot as plt\n",
    "import seaborn as sns\n",
    "\n",
    "from utils import generate_result_set_name"
   ]
  },
  {
   "cell_type": "markdown",
   "id": "1afd3315",
   "metadata": {
    "papermill": {
     "duration": 0.007896,
     "end_time": "2022-09-13T15:39:13.377529",
     "exception": false,
     "start_time": "2022-09-13T15:39:13.369633",
     "status": "completed"
    },
    "tags": []
   },
   "source": [
    "# Settings"
   ]
  },
  {
   "cell_type": "code",
   "execution_count": 5,
   "id": "cf04fc00",
   "metadata": {
    "execution": {
     "iopub.execute_input": "2022-09-13T15:39:13.394850Z",
     "iopub.status.busy": "2022-09-13T15:39:13.394421Z",
     "iopub.status.idle": "2022-09-13T15:39:13.411048Z",
     "shell.execute_reply": "2022-09-13T15:39:13.410386Z"
    },
    "papermill": {
     "duration": 0.027279,
     "end_time": "2022-09-13T15:39:13.412522",
     "exception": false,
     "start_time": "2022-09-13T15:39:13.385243",
     "status": "completed"
    },
    "tags": []
   },
   "outputs": [],
   "source": [
    "np.random.seed(0)"
   ]
  },
  {
   "cell_type": "code",
   "execution_count": 6,
   "id": "cec0eb37",
   "metadata": {
    "execution": {
     "iopub.execute_input": "2022-09-13T15:39:13.458675Z",
     "iopub.status.busy": "2022-09-13T15:39:13.458471Z",
     "iopub.status.idle": "2022-09-13T15:39:13.477458Z",
     "shell.execute_reply": "2022-09-13T15:39:13.476711Z"
    },
    "papermill": {
     "duration": 0.058363,
     "end_time": "2022-09-13T15:39:13.479071",
     "exception": false,
     "start_time": "2022-09-13T15:39:13.420708",
     "status": "completed"
    },
    "tags": []
   },
   "outputs": [],
   "source": [
    "INITIAL_RANDOM_STATE = 0"
   ]
  },
  {
   "cell_type": "code",
   "execution_count": null,
   "id": "f2c54434-a0b7-4e73-8d9e-f5d3844f72fc",
   "metadata": {},
   "outputs": [],
   "source": [
    "NULL_DIR = conf.RESULTS[\"CLUSTERING_NULL_DIR\"], \"shuffle_genes\""
   ]
  },
  {
   "cell_type": "markdown",
   "id": "e572a4bf",
   "metadata": {
    "papermill": {
     "duration": 0.009669,
     "end_time": "2022-09-13T15:39:13.498611",
     "exception": false,
     "start_time": "2022-09-13T15:39:13.488942",
     "status": "completed"
    },
    "tags": []
   },
   "source": [
    "## Input data"
   ]
  },
  {
   "cell_type": "code",
   "execution_count": 7,
   "id": "5f7a64c8",
   "metadata": {
    "execution": {
     "iopub.execute_input": "2022-09-13T15:39:13.517124Z",
     "iopub.status.busy": "2022-09-13T15:39:13.516960Z",
     "iopub.status.idle": "2022-09-13T15:39:13.535461Z",
     "shell.execute_reply": "2022-09-13T15:39:13.534945Z"
    },
    "papermill": {
     "duration": 0.028918,
     "end_time": "2022-09-13T15:39:13.536936",
     "exception": false,
     "start_time": "2022-09-13T15:39:13.508018",
     "status": "completed"
    },
    "tags": []
   },
   "outputs": [],
   "source": [
    "INPUT_SUBSET = \"z_score_std\""
   ]
  },
  {
   "cell_type": "code",
   "execution_count": 8,
   "id": "9da5bd24",
   "metadata": {
    "execution": {
     "iopub.execute_input": "2022-09-13T15:39:13.554789Z",
     "iopub.status.busy": "2022-09-13T15:39:13.554624Z",
     "iopub.status.idle": "2022-09-13T15:39:13.570978Z",
     "shell.execute_reply": "2022-09-13T15:39:13.570405Z"
    },
    "papermill": {
     "duration": 0.02656,
     "end_time": "2022-09-13T15:39:13.572404",
     "exception": false,
     "start_time": "2022-09-13T15:39:13.545844",
     "status": "completed"
    },
    "tags": []
   },
   "outputs": [],
   "source": [
    "INPUT_STEM = \"projection-smultixcan-efo_partial-mashr-zscores\""
   ]
  },
  {
   "cell_type": "code",
   "execution_count": 9,
   "id": "cd01420f",
   "metadata": {
    "execution": {
     "iopub.execute_input": "2022-09-13T15:39:13.589691Z",
     "iopub.status.busy": "2022-09-13T15:39:13.589531Z",
     "iopub.status.idle": "2022-09-13T15:39:13.607763Z",
     "shell.execute_reply": "2022-09-13T15:39:13.607279Z"
    },
    "papermill": {
     "duration": 0.028003,
     "end_time": "2022-09-13T15:39:13.608968",
     "exception": false,
     "start_time": "2022-09-13T15:39:13.580965",
     "status": "completed"
    },
    "tags": []
   },
   "outputs": [
    {
     "data": {
      "text/plain": [
       "PosixPath('/opt/data/results/clustering/null_sims/data_transformations/z_score_std/z_score_std-projection-smultixcan-efo_partial-mashr-zscores.pkl')"
      ]
     },
     "metadata": {},
     "output_type": "display_data"
    },
    {
     "data": {
      "text/plain": [
       "'z_score_std-projection-smultixcan-efo_partial-mashr-zscores'"
      ]
     },
     "metadata": {},
     "output_type": "display_data"
    }
   ],
   "source": [
    "input_filepath = Path(\n",
    "    NULL_DIR,\n",
    "    \"data_transformations\",\n",
    "    INPUT_SUBSET,\n",
    "    f\"{INPUT_SUBSET}-{INPUT_STEM}.pkl\",\n",
    ").resolve()\n",
    "display(input_filepath)\n",
    "\n",
    "assert input_filepath.exists(), \"Input file does not exist\"\n",
    "\n",
    "input_filepath_stem = input_filepath.stem\n",
    "display(input_filepath_stem)"
   ]
  },
  {
   "cell_type": "markdown",
   "id": "7f098ebe",
   "metadata": {
    "papermill": {
     "duration": 0.008226,
     "end_time": "2022-09-13T15:39:13.625724",
     "exception": false,
     "start_time": "2022-09-13T15:39:13.617498",
     "status": "completed"
    },
    "tags": []
   },
   "source": [
    "## Clustering"
   ]
  },
  {
   "cell_type": "code",
   "execution_count": 10,
   "id": "985066d7",
   "metadata": {
    "execution": {
     "iopub.execute_input": "2022-09-13T15:39:13.642955Z",
     "iopub.status.busy": "2022-09-13T15:39:13.642746Z",
     "iopub.status.idle": "2022-09-13T15:39:13.735219Z",
     "shell.execute_reply": "2022-09-13T15:39:13.734670Z"
    },
    "papermill": {
     "duration": 0.102974,
     "end_time": "2022-09-13T15:39:13.736980",
     "exception": false,
     "start_time": "2022-09-13T15:39:13.634006",
     "status": "completed"
    },
    "tags": []
   },
   "outputs": [],
   "source": [
    "from sklearn.cluster import KMeans"
   ]
  },
  {
   "cell_type": "code",
   "execution_count": 11,
   "id": "694048cb",
   "metadata": {
    "execution": {
     "iopub.execute_input": "2022-09-13T15:39:13.753954Z",
     "iopub.status.busy": "2022-09-13T15:39:13.753745Z",
     "iopub.status.idle": "2022-09-13T15:39:13.771542Z",
     "shell.execute_reply": "2022-09-13T15:39:13.771022Z"
    },
    "papermill": {
     "duration": 0.027516,
     "end_time": "2022-09-13T15:39:13.772890",
     "exception": false,
     "start_time": "2022-09-13T15:39:13.745374",
     "status": "completed"
    },
    "tags": []
   },
   "outputs": [],
   "source": [
    "CLUSTERING_ATTRIBUTES_TO_SAVE = [\"n_clusters\"]"
   ]
  },
  {
   "cell_type": "code",
   "execution_count": 12,
   "id": "7cca6d0c",
   "metadata": {
    "execution": {
     "iopub.execute_input": "2022-09-13T15:39:13.789879Z",
     "iopub.status.busy": "2022-09-13T15:39:13.789717Z",
     "iopub.status.idle": "2022-09-13T15:39:13.808834Z",
     "shell.execute_reply": "2022-09-13T15:39:13.808199Z"
    },
    "papermill": {
     "duration": 0.029111,
     "end_time": "2022-09-13T15:39:13.810171",
     "exception": false,
     "start_time": "2022-09-13T15:39:13.781060",
     "status": "completed"
    },
    "tags": []
   },
   "outputs": [
    {
     "data": {
      "text/plain": [
       "{'K_MIN': 2, 'K_MAX': 60, 'N_REPS_PER_K': 5, 'KMEANS_N_INIT': 10}"
      ]
     },
     "metadata": {},
     "output_type": "display_data"
    }
   ],
   "source": [
    "CLUSTERING_OPTIONS = {}\n",
    "\n",
    "CLUSTERING_OPTIONS[\"K_MIN\"] = 2\n",
    "CLUSTERING_OPTIONS[\"K_MAX\"] = 60  # sqrt(3749)\n",
    "CLUSTERING_OPTIONS[\"N_REPS_PER_K\"] = 5\n",
    "CLUSTERING_OPTIONS[\"KMEANS_N_INIT\"] = 10\n",
    "\n",
    "display(CLUSTERING_OPTIONS)"
   ]
  },
  {
   "cell_type": "code",
   "execution_count": 13,
   "id": "4eba8b8a",
   "metadata": {
    "execution": {
     "iopub.execute_input": "2022-09-13T15:39:13.827537Z",
     "iopub.status.busy": "2022-09-13T15:39:13.827372Z",
     "iopub.status.idle": "2022-09-13T15:39:13.847243Z",
     "shell.execute_reply": "2022-09-13T15:39:13.846627Z"
    },
    "papermill": {
     "duration": 0.030168,
     "end_time": "2022-09-13T15:39:13.848634",
     "exception": false,
     "start_time": "2022-09-13T15:39:13.818466",
     "status": "completed"
    },
    "tags": []
   },
   "outputs": [],
   "source": [
    "CLUSTERERS = {}\n",
    "\n",
    "idx = 0\n",
    "random_state = INITIAL_RANDOM_STATE\n",
    "\n",
    "for k in range(CLUSTERING_OPTIONS[\"K_MIN\"], CLUSTERING_OPTIONS[\"K_MAX\"] + 1):\n",
    "    for i in range(CLUSTERING_OPTIONS[\"N_REPS_PER_K\"]):\n",
    "        clus = KMeans(\n",
    "            n_clusters=k,\n",
    "            n_init=CLUSTERING_OPTIONS[\"KMEANS_N_INIT\"],\n",
    "            random_state=random_state,\n",
    "        )\n",
    "\n",
    "        method_name = type(clus).__name__\n",
    "        CLUSTERERS[f\"{method_name} #{idx}\"] = clus\n",
    "\n",
    "        random_state = random_state + 1\n",
    "        idx = idx + 1"
   ]
  },
  {
   "cell_type": "code",
   "execution_count": 14,
   "id": "7e8150ff",
   "metadata": {
    "execution": {
     "iopub.execute_input": "2022-09-13T15:39:13.865977Z",
     "iopub.status.busy": "2022-09-13T15:39:13.865809Z",
     "iopub.status.idle": "2022-09-13T15:39:13.884182Z",
     "shell.execute_reply": "2022-09-13T15:39:13.883549Z"
    },
    "papermill": {
     "duration": 0.028508,
     "end_time": "2022-09-13T15:39:13.885426",
     "exception": false,
     "start_time": "2022-09-13T15:39:13.856918",
     "status": "completed"
    },
    "tags": []
   },
   "outputs": [
    {
     "data": {
      "text/plain": [
       "295"
      ]
     },
     "metadata": {},
     "output_type": "display_data"
    }
   ],
   "source": [
    "display(len(CLUSTERERS))"
   ]
  },
  {
   "cell_type": "code",
   "execution_count": 15,
   "id": "1212a649",
   "metadata": {
    "execution": {
     "iopub.execute_input": "2022-09-13T15:39:13.902906Z",
     "iopub.status.busy": "2022-09-13T15:39:13.902218Z",
     "iopub.status.idle": "2022-09-13T15:39:13.922471Z",
     "shell.execute_reply": "2022-09-13T15:39:13.921888Z"
    },
    "papermill": {
     "duration": 0.030041,
     "end_time": "2022-09-13T15:39:13.923781",
     "exception": false,
     "start_time": "2022-09-13T15:39:13.893740",
     "status": "completed"
    },
    "tags": []
   },
   "outputs": [
    {
     "data": {
      "text/plain": [
       "('KMeans #0', KMeans(n_clusters=2, random_state=0))"
      ]
     },
     "metadata": {},
     "output_type": "display_data"
    },
    {
     "data": {
      "text/plain": [
       "('KMeans #1', KMeans(n_clusters=2, random_state=1))"
      ]
     },
     "metadata": {},
     "output_type": "display_data"
    }
   ],
   "source": [
    "_iter = iter(CLUSTERERS.items())\n",
    "display(next(_iter))\n",
    "display(next(_iter))"
   ]
  },
  {
   "cell_type": "code",
   "execution_count": 16,
   "id": "3f13d728",
   "metadata": {
    "execution": {
     "iopub.execute_input": "2022-09-13T15:39:13.941943Z",
     "iopub.status.busy": "2022-09-13T15:39:13.941750Z",
     "iopub.status.idle": "2022-09-13T15:39:13.960101Z",
     "shell.execute_reply": "2022-09-13T15:39:13.959513Z"
    },
    "papermill": {
     "duration": 0.028779,
     "end_time": "2022-09-13T15:39:13.961396",
     "exception": false,
     "start_time": "2022-09-13T15:39:13.932617",
     "status": "completed"
    },
    "tags": []
   },
   "outputs": [
    {
     "data": {
      "text/plain": [
       "'KMeans'"
      ]
     },
     "metadata": {},
     "output_type": "display_data"
    }
   ],
   "source": [
    "clustering_method_name = method_name\n",
    "display(clustering_method_name)"
   ]
  },
  {
   "cell_type": "markdown",
   "id": "675cc397",
   "metadata": {
    "papermill": {
     "duration": 0.008461,
     "end_time": "2022-09-13T15:39:13.978587",
     "exception": false,
     "start_time": "2022-09-13T15:39:13.970126",
     "status": "completed"
    },
    "tags": []
   },
   "source": [
    "## Output directory"
   ]
  },
  {
   "cell_type": "code",
   "execution_count": 17,
   "id": "2625738a",
   "metadata": {
    "execution": {
     "iopub.execute_input": "2022-09-13T15:39:13.996158Z",
     "iopub.status.busy": "2022-09-13T15:39:13.995950Z",
     "iopub.status.idle": "2022-09-13T15:39:14.015294Z",
     "shell.execute_reply": "2022-09-13T15:39:14.014815Z"
    },
    "papermill": {
     "duration": 0.029319,
     "end_time": "2022-09-13T15:39:14.016497",
     "exception": false,
     "start_time": "2022-09-13T15:39:13.987178",
     "status": "completed"
    },
    "tags": []
   },
   "outputs": [
    {
     "data": {
      "text/plain": [
       "PosixPath('/opt/data/results/clustering/null_sims/runs/z_score_std-projection-smultixcan-efo_partial-mashr-zscores')"
      ]
     },
     "metadata": {},
     "output_type": "display_data"
    }
   ],
   "source": [
    "# output dir for this notebook\n",
    "RESULTS_DIR = Path(\n",
    "    NULL_DIR,\n",
    "    \"runs\",\n",
    "    f\"{INPUT_SUBSET}-{INPUT_STEM}\",\n",
    ").resolve()\n",
    "RESULTS_DIR.mkdir(parents=True, exist_ok=True)\n",
    "\n",
    "display(RESULTS_DIR)"
   ]
  },
  {
   "cell_type": "markdown",
   "id": "ccd9f1b1",
   "metadata": {
    "papermill": {
     "duration": 0.008127,
     "end_time": "2022-09-13T15:39:14.033283",
     "exception": false,
     "start_time": "2022-09-13T15:39:14.025156",
     "status": "completed"
    },
    "tags": []
   },
   "source": [
    "# Load input file"
   ]
  },
  {
   "cell_type": "code",
   "execution_count": 18,
   "id": "692acecd",
   "metadata": {
    "execution": {
     "iopub.execute_input": "2022-09-13T15:39:14.050357Z",
     "iopub.status.busy": "2022-09-13T15:39:14.050152Z",
     "iopub.status.idle": "2022-09-13T15:39:14.083051Z",
     "shell.execute_reply": "2022-09-13T15:39:14.082407Z"
    },
    "papermill": {
     "duration": 0.04309,
     "end_time": "2022-09-13T15:39:14.084567",
     "exception": false,
     "start_time": "2022-09-13T15:39:14.041477",
     "status": "completed"
    },
    "tags": []
   },
   "outputs": [],
   "source": [
    "data = pd.read_pickle(input_filepath)"
   ]
  },
  {
   "cell_type": "code",
   "execution_count": 19,
   "id": "f899584d",
   "metadata": {
    "execution": {
     "iopub.execute_input": "2022-09-13T15:39:14.104652Z",
     "iopub.status.busy": "2022-09-13T15:39:14.104076Z",
     "iopub.status.idle": "2022-09-13T15:39:14.123735Z",
     "shell.execute_reply": "2022-09-13T15:39:14.123198Z"
    },
    "papermill": {
     "duration": 0.031087,
     "end_time": "2022-09-13T15:39:14.125131",
     "exception": false,
     "start_time": "2022-09-13T15:39:14.094044",
     "status": "completed"
    },
    "tags": []
   },
   "outputs": [
    {
     "data": {
      "text/plain": [
       "(3752, 987)"
      ]
     },
     "execution_count": 19,
     "metadata": {},
     "output_type": "execute_result"
    }
   ],
   "source": [
    "data.shape"
   ]
  },
  {
   "cell_type": "code",
   "execution_count": 20,
   "id": "70696d8c",
   "metadata": {
    "execution": {
     "iopub.execute_input": "2022-09-13T15:39:14.144742Z",
     "iopub.status.busy": "2022-09-13T15:39:14.144566Z",
     "iopub.status.idle": "2022-09-13T15:39:14.176594Z",
     "shell.execute_reply": "2022-09-13T15:39:14.176059Z"
    },
    "papermill": {
     "duration": 0.043182,
     "end_time": "2022-09-13T15:39:14.177776",
     "exception": false,
     "start_time": "2022-09-13T15:39:14.134594",
     "status": "completed"
    },
    "tags": []
   },
   "outputs": [
    {
     "data": {
      "text/html": [
       "<div>\n",
       "<style scoped>\n",
       "    .dataframe tbody tr th:only-of-type {\n",
       "        vertical-align: middle;\n",
       "    }\n",
       "\n",
       "    .dataframe tbody tr th {\n",
       "        vertical-align: top;\n",
       "    }\n",
       "\n",
       "    .dataframe thead th {\n",
       "        text-align: right;\n",
       "    }\n",
       "</style>\n",
       "<table border=\"1\" class=\"dataframe\">\n",
       "  <thead>\n",
       "    <tr style=\"text-align: right;\">\n",
       "      <th></th>\n",
       "      <th>LV1</th>\n",
       "      <th>LV2</th>\n",
       "      <th>LV3</th>\n",
       "      <th>LV4</th>\n",
       "      <th>LV5</th>\n",
       "      <th>LV6</th>\n",
       "      <th>LV7</th>\n",
       "      <th>LV8</th>\n",
       "      <th>LV9</th>\n",
       "      <th>LV10</th>\n",
       "      <th>...</th>\n",
       "      <th>LV978</th>\n",
       "      <th>LV979</th>\n",
       "      <th>LV980</th>\n",
       "      <th>LV981</th>\n",
       "      <th>LV982</th>\n",
       "      <th>LV983</th>\n",
       "      <th>LV984</th>\n",
       "      <th>LV985</th>\n",
       "      <th>LV986</th>\n",
       "      <th>LV987</th>\n",
       "    </tr>\n",
       "  </thead>\n",
       "  <tbody>\n",
       "    <tr>\n",
       "      <th>100001_raw-Food_weight</th>\n",
       "      <td>-0.175043</td>\n",
       "      <td>-0.710171</td>\n",
       "      <td>-1.000846</td>\n",
       "      <td>0.693026</td>\n",
       "      <td>0.409413</td>\n",
       "      <td>0.642958</td>\n",
       "      <td>1.767862</td>\n",
       "      <td>-1.070425</td>\n",
       "      <td>0.809395</td>\n",
       "      <td>-1.555050</td>\n",
       "      <td>...</td>\n",
       "      <td>-0.932802</td>\n",
       "      <td>0.371349</td>\n",
       "      <td>-0.521787</td>\n",
       "      <td>-0.881136</td>\n",
       "      <td>-1.193309</td>\n",
       "      <td>-0.257883</td>\n",
       "      <td>1.382268</td>\n",
       "      <td>0.066549</td>\n",
       "      <td>-0.866086</td>\n",
       "      <td>0.847997</td>\n",
       "    </tr>\n",
       "    <tr>\n",
       "      <th>100002_raw-Energy</th>\n",
       "      <td>0.531227</td>\n",
       "      <td>0.894062</td>\n",
       "      <td>1.191552</td>\n",
       "      <td>-0.143922</td>\n",
       "      <td>0.217867</td>\n",
       "      <td>0.529878</td>\n",
       "      <td>0.219561</td>\n",
       "      <td>-1.538143</td>\n",
       "      <td>-0.166704</td>\n",
       "      <td>1.042749</td>\n",
       "      <td>...</td>\n",
       "      <td>-0.601329</td>\n",
       "      <td>0.625139</td>\n",
       "      <td>-0.113048</td>\n",
       "      <td>-1.477163</td>\n",
       "      <td>0.746773</td>\n",
       "      <td>0.316892</td>\n",
       "      <td>-0.660407</td>\n",
       "      <td>1.501067</td>\n",
       "      <td>0.543744</td>\n",
       "      <td>1.094294</td>\n",
       "    </tr>\n",
       "    <tr>\n",
       "      <th>100003_raw-Protein</th>\n",
       "      <td>0.405395</td>\n",
       "      <td>0.925288</td>\n",
       "      <td>-0.339507</td>\n",
       "      <td>0.799476</td>\n",
       "      <td>-0.512075</td>\n",
       "      <td>0.586632</td>\n",
       "      <td>0.361706</td>\n",
       "      <td>0.226860</td>\n",
       "      <td>1.208289</td>\n",
       "      <td>-1.880931</td>\n",
       "      <td>...</td>\n",
       "      <td>-0.489171</td>\n",
       "      <td>0.276717</td>\n",
       "      <td>-0.159505</td>\n",
       "      <td>-1.271106</td>\n",
       "      <td>0.300351</td>\n",
       "      <td>0.595915</td>\n",
       "      <td>0.509020</td>\n",
       "      <td>-0.127540</td>\n",
       "      <td>-0.811987</td>\n",
       "      <td>-1.108812</td>\n",
       "    </tr>\n",
       "    <tr>\n",
       "      <th>100004_raw-Fat</th>\n",
       "      <td>-0.156230</td>\n",
       "      <td>0.881426</td>\n",
       "      <td>0.395527</td>\n",
       "      <td>-1.570256</td>\n",
       "      <td>1.240955</td>\n",
       "      <td>2.064595</td>\n",
       "      <td>-0.547373</td>\n",
       "      <td>-1.228389</td>\n",
       "      <td>0.319684</td>\n",
       "      <td>0.858253</td>\n",
       "      <td>...</td>\n",
       "      <td>-0.407151</td>\n",
       "      <td>-1.217662</td>\n",
       "      <td>-0.361052</td>\n",
       "      <td>0.813221</td>\n",
       "      <td>-0.692981</td>\n",
       "      <td>1.099523</td>\n",
       "      <td>-0.017366</td>\n",
       "      <td>0.361278</td>\n",
       "      <td>-0.017222</td>\n",
       "      <td>1.750511</td>\n",
       "    </tr>\n",
       "    <tr>\n",
       "      <th>100005_raw-Carbohydrate</th>\n",
       "      <td>-0.142531</td>\n",
       "      <td>-0.521907</td>\n",
       "      <td>1.069304</td>\n",
       "      <td>0.548122</td>\n",
       "      <td>-0.422146</td>\n",
       "      <td>-1.330718</td>\n",
       "      <td>-1.260872</td>\n",
       "      <td>1.003617</td>\n",
       "      <td>1.266289</td>\n",
       "      <td>0.065408</td>\n",
       "      <td>...</td>\n",
       "      <td>1.506698</td>\n",
       "      <td>-0.069854</td>\n",
       "      <td>-0.084662</td>\n",
       "      <td>-1.269536</td>\n",
       "      <td>-0.421185</td>\n",
       "      <td>0.431180</td>\n",
       "      <td>1.673162</td>\n",
       "      <td>-0.954336</td>\n",
       "      <td>0.026593</td>\n",
       "      <td>0.655359</td>\n",
       "    </tr>\n",
       "  </tbody>\n",
       "</table>\n",
       "<p>5 rows × 987 columns</p>\n",
       "</div>"
      ],
      "text/plain": [
       "                              LV1       LV2       LV3       LV4       LV5  \\\n",
       "100001_raw-Food_weight  -0.175043 -0.710171 -1.000846  0.693026  0.409413   \n",
       "100002_raw-Energy        0.531227  0.894062  1.191552 -0.143922  0.217867   \n",
       "100003_raw-Protein       0.405395  0.925288 -0.339507  0.799476 -0.512075   \n",
       "100004_raw-Fat          -0.156230  0.881426  0.395527 -1.570256  1.240955   \n",
       "100005_raw-Carbohydrate -0.142531 -0.521907  1.069304  0.548122 -0.422146   \n",
       "\n",
       "                              LV6       LV7       LV8       LV9      LV10  \\\n",
       "100001_raw-Food_weight   0.642958  1.767862 -1.070425  0.809395 -1.555050   \n",
       "100002_raw-Energy        0.529878  0.219561 -1.538143 -0.166704  1.042749   \n",
       "100003_raw-Protein       0.586632  0.361706  0.226860  1.208289 -1.880931   \n",
       "100004_raw-Fat           2.064595 -0.547373 -1.228389  0.319684  0.858253   \n",
       "100005_raw-Carbohydrate -1.330718 -1.260872  1.003617  1.266289  0.065408   \n",
       "\n",
       "                         ...     LV978     LV979     LV980     LV981  \\\n",
       "100001_raw-Food_weight   ... -0.932802  0.371349 -0.521787 -0.881136   \n",
       "100002_raw-Energy        ... -0.601329  0.625139 -0.113048 -1.477163   \n",
       "100003_raw-Protein       ... -0.489171  0.276717 -0.159505 -1.271106   \n",
       "100004_raw-Fat           ... -0.407151 -1.217662 -0.361052  0.813221   \n",
       "100005_raw-Carbohydrate  ...  1.506698 -0.069854 -0.084662 -1.269536   \n",
       "\n",
       "                            LV982     LV983     LV984     LV985     LV986  \\\n",
       "100001_raw-Food_weight  -1.193309 -0.257883  1.382268  0.066549 -0.866086   \n",
       "100002_raw-Energy        0.746773  0.316892 -0.660407  1.501067  0.543744   \n",
       "100003_raw-Protein       0.300351  0.595915  0.509020 -0.127540 -0.811987   \n",
       "100004_raw-Fat          -0.692981  1.099523 -0.017366  0.361278 -0.017222   \n",
       "100005_raw-Carbohydrate -0.421185  0.431180  1.673162 -0.954336  0.026593   \n",
       "\n",
       "                            LV987  \n",
       "100001_raw-Food_weight   0.847997  \n",
       "100002_raw-Energy        1.094294  \n",
       "100003_raw-Protein      -1.108812  \n",
       "100004_raw-Fat           1.750511  \n",
       "100005_raw-Carbohydrate  0.655359  \n",
       "\n",
       "[5 rows x 987 columns]"
      ]
     },
     "execution_count": 20,
     "metadata": {},
     "output_type": "execute_result"
    }
   ],
   "source": [
    "data.head()"
   ]
  },
  {
   "cell_type": "code",
   "execution_count": 21,
   "id": "5ee9a303",
   "metadata": {
    "execution": {
     "iopub.execute_input": "2022-09-13T15:39:14.211168Z",
     "iopub.status.busy": "2022-09-13T15:39:14.211005Z",
     "iopub.status.idle": "2022-09-13T15:39:14.234925Z",
     "shell.execute_reply": "2022-09-13T15:39:14.234249Z"
    },
    "papermill": {
     "duration": 0.04966,
     "end_time": "2022-09-13T15:39:14.236344",
     "exception": false,
     "start_time": "2022-09-13T15:39:14.186684",
     "status": "completed"
    },
    "tags": []
   },
   "outputs": [],
   "source": [
    "assert not data.isna().any().any()"
   ]
  },
  {
   "cell_type": "markdown",
   "id": "93d26b49",
   "metadata": {
    "papermill": {
     "duration": 0.009118,
     "end_time": "2022-09-13T15:39:14.254984",
     "exception": false,
     "start_time": "2022-09-13T15:39:14.245866",
     "status": "completed"
    },
    "tags": []
   },
   "source": [
    "# Clustering"
   ]
  },
  {
   "cell_type": "markdown",
   "id": "ffaba945",
   "metadata": {
    "papermill": {
     "duration": 0.008535,
     "end_time": "2022-09-13T15:39:14.272807",
     "exception": false,
     "start_time": "2022-09-13T15:39:14.264272",
     "status": "completed"
    },
    "tags": []
   },
   "source": [
    "## Generate ensemble"
   ]
  },
  {
   "cell_type": "code",
   "execution_count": 22,
   "id": "2343113e",
   "metadata": {
    "execution": {
     "iopub.execute_input": "2022-09-13T15:39:14.292141Z",
     "iopub.status.busy": "2022-09-13T15:39:14.291978Z",
     "iopub.status.idle": "2022-09-13T15:39:14.322263Z",
     "shell.execute_reply": "2022-09-13T15:39:14.321758Z"
    },
    "papermill": {
     "duration": 0.042573,
     "end_time": "2022-09-13T15:39:14.323812",
     "exception": false,
     "start_time": "2022-09-13T15:39:14.281239",
     "status": "completed"
    },
    "tags": []
   },
   "outputs": [],
   "source": [
    "from clustering.ensembles.utils import generate_ensemble"
   ]
  },
  {
   "cell_type": "code",
   "execution_count": 23,
   "id": "899ddf11",
   "metadata": {
    "execution": {
     "iopub.execute_input": "2022-09-13T15:39:14.343172Z",
     "iopub.status.busy": "2022-09-13T15:39:14.343013Z",
     "iopub.status.idle": "2022-09-13T15:56:09.536683Z",
     "shell.execute_reply": "2022-09-13T15:56:09.536069Z"
    },
    "papermill": {
     "duration": 1015.204709,
     "end_time": "2022-09-13T15:56:09.537931",
     "exception": false,
     "start_time": "2022-09-13T15:39:14.333222",
     "status": "completed"
    },
    "tags": []
   },
   "outputs": [
    {
     "name": "stderr",
     "output_type": "stream",
     "text": [
      "100%|██████████| 295/295 [16:55<00:00,  3.44s/it]\n"
     ]
    }
   ],
   "source": [
    "ensemble = generate_ensemble(\n",
    "    data,\n",
    "    CLUSTERERS,\n",
    "    attributes=CLUSTERING_ATTRIBUTES_TO_SAVE,\n",
    ")"
   ]
  },
  {
   "cell_type": "code",
   "execution_count": 24,
   "id": "f04eae96",
   "metadata": {
    "execution": {
     "iopub.execute_input": "2022-09-13T15:56:09.575547Z",
     "iopub.status.busy": "2022-09-13T15:56:09.575286Z",
     "iopub.status.idle": "2022-09-13T15:56:09.593792Z",
     "shell.execute_reply": "2022-09-13T15:56:09.593340Z"
    },
    "papermill": {
     "duration": 0.038362,
     "end_time": "2022-09-13T15:56:09.595022",
     "exception": false,
     "start_time": "2022-09-13T15:56:09.556660",
     "status": "completed"
    },
    "tags": []
   },
   "outputs": [
    {
     "data": {
      "text/plain": [
       "(295, 3)"
      ]
     },
     "execution_count": 24,
     "metadata": {},
     "output_type": "execute_result"
    }
   ],
   "source": [
    "# the number should be close to 295 (the number of partitions generated by k-means/spectral clustering)\n",
    "ensemble.shape"
   ]
  },
  {
   "cell_type": "code",
   "execution_count": 25,
   "id": "4f54d2fc",
   "metadata": {
    "execution": {
     "iopub.execute_input": "2022-09-13T15:56:09.631999Z",
     "iopub.status.busy": "2022-09-13T15:56:09.631614Z",
     "iopub.status.idle": "2022-09-13T15:56:09.657711Z",
     "shell.execute_reply": "2022-09-13T15:56:09.657103Z"
    },
    "papermill": {
     "duration": 0.045954,
     "end_time": "2022-09-13T15:56:09.658967",
     "exception": false,
     "start_time": "2022-09-13T15:56:09.613013",
     "status": "completed"
    },
    "tags": []
   },
   "outputs": [
    {
     "data": {
      "text/html": [
       "<div>\n",
       "<style scoped>\n",
       "    .dataframe tbody tr th:only-of-type {\n",
       "        vertical-align: middle;\n",
       "    }\n",
       "\n",
       "    .dataframe tbody tr th {\n",
       "        vertical-align: top;\n",
       "    }\n",
       "\n",
       "    .dataframe thead th {\n",
       "        text-align: right;\n",
       "    }\n",
       "</style>\n",
       "<table border=\"1\" class=\"dataframe\">\n",
       "  <thead>\n",
       "    <tr style=\"text-align: right;\">\n",
       "      <th></th>\n",
       "      <th>clusterer_params</th>\n",
       "      <th>partition</th>\n",
       "      <th>n_clusters</th>\n",
       "    </tr>\n",
       "    <tr>\n",
       "      <th>clusterer_id</th>\n",
       "      <th></th>\n",
       "      <th></th>\n",
       "      <th></th>\n",
       "    </tr>\n",
       "  </thead>\n",
       "  <tbody>\n",
       "    <tr>\n",
       "      <th>KMeans #0</th>\n",
       "      <td>{'algorithm': 'auto', 'copy_x': True, 'init': ...</td>\n",
       "      <td>[0.0, 0.0, 1.0, 0.0, 0.0, 0.0, 0.0, 0.0, 0.0, ...</td>\n",
       "      <td>2</td>\n",
       "    </tr>\n",
       "    <tr>\n",
       "      <th>KMeans #1</th>\n",
       "      <td>{'algorithm': 'auto', 'copy_x': True, 'init': ...</td>\n",
       "      <td>[1.0, 1.0, 1.0, 1.0, 0.0, 0.0, 0.0, 1.0, 0.0, ...</td>\n",
       "      <td>2</td>\n",
       "    </tr>\n",
       "    <tr>\n",
       "      <th>KMeans #2</th>\n",
       "      <td>{'algorithm': 'auto', 'copy_x': True, 'init': ...</td>\n",
       "      <td>[0.0, 0.0, 0.0, 0.0, 1.0, 1.0, 0.0, 0.0, 0.0, ...</td>\n",
       "      <td>2</td>\n",
       "    </tr>\n",
       "    <tr>\n",
       "      <th>KMeans #3</th>\n",
       "      <td>{'algorithm': 'auto', 'copy_x': True, 'init': ...</td>\n",
       "      <td>[1.0, 1.0, 0.0, 1.0, 0.0, 1.0, 0.0, 1.0, 1.0, ...</td>\n",
       "      <td>2</td>\n",
       "    </tr>\n",
       "    <tr>\n",
       "      <th>KMeans #4</th>\n",
       "      <td>{'algorithm': 'auto', 'copy_x': True, 'init': ...</td>\n",
       "      <td>[0.0, 0.0, 0.0, 0.0, 1.0, 0.0, 0.0, 0.0, 1.0, ...</td>\n",
       "      <td>2</td>\n",
       "    </tr>\n",
       "  </tbody>\n",
       "</table>\n",
       "</div>"
      ],
      "text/plain": [
       "                                               clusterer_params  \\\n",
       "clusterer_id                                                      \n",
       "KMeans #0     {'algorithm': 'auto', 'copy_x': True, 'init': ...   \n",
       "KMeans #1     {'algorithm': 'auto', 'copy_x': True, 'init': ...   \n",
       "KMeans #2     {'algorithm': 'auto', 'copy_x': True, 'init': ...   \n",
       "KMeans #3     {'algorithm': 'auto', 'copy_x': True, 'init': ...   \n",
       "KMeans #4     {'algorithm': 'auto', 'copy_x': True, 'init': ...   \n",
       "\n",
       "                                                      partition  n_clusters  \n",
       "clusterer_id                                                                 \n",
       "KMeans #0     [0.0, 0.0, 1.0, 0.0, 0.0, 0.0, 0.0, 0.0, 0.0, ...           2  \n",
       "KMeans #1     [1.0, 1.0, 1.0, 1.0, 0.0, 0.0, 0.0, 1.0, 0.0, ...           2  \n",
       "KMeans #2     [0.0, 0.0, 0.0, 0.0, 1.0, 1.0, 0.0, 0.0, 0.0, ...           2  \n",
       "KMeans #3     [1.0, 1.0, 0.0, 1.0, 0.0, 1.0, 0.0, 1.0, 1.0, ...           2  \n",
       "KMeans #4     [0.0, 0.0, 0.0, 0.0, 1.0, 0.0, 0.0, 0.0, 1.0, ...           2  "
      ]
     },
     "execution_count": 25,
     "metadata": {},
     "output_type": "execute_result"
    }
   ],
   "source": [
    "ensemble.head()"
   ]
  },
  {
   "cell_type": "code",
   "execution_count": 26,
   "id": "b03486bc",
   "metadata": {
    "execution": {
     "iopub.execute_input": "2022-09-13T15:56:09.697617Z",
     "iopub.status.busy": "2022-09-13T15:56:09.697044Z",
     "iopub.status.idle": "2022-09-13T15:56:09.717884Z",
     "shell.execute_reply": "2022-09-13T15:56:09.717196Z"
    },
    "papermill": {
     "duration": 0.041398,
     "end_time": "2022-09-13T15:56:09.719184",
     "exception": false,
     "start_time": "2022-09-13T15:56:09.677786",
     "status": "completed"
    },
    "tags": []
   },
   "outputs": [
    {
     "data": {
      "text/plain": [
       "60    5\n",
       "16    5\n",
       "28    5\n",
       "27    5\n",
       "26    5\n",
       "Name: n_clusters, dtype: int64"
      ]
     },
     "execution_count": 26,
     "metadata": {},
     "output_type": "execute_result"
    }
   ],
   "source": [
    "ensemble[\"n_clusters\"].value_counts().head()"
   ]
  },
  {
   "cell_type": "code",
   "execution_count": 27,
   "id": "acae8e2a",
   "metadata": {
    "execution": {
     "iopub.execute_input": "2022-09-13T15:56:09.757303Z",
     "iopub.status.busy": "2022-09-13T15:56:09.757031Z",
     "iopub.status.idle": "2022-09-13T15:56:09.778000Z",
     "shell.execute_reply": "2022-09-13T15:56:09.777391Z"
    },
    "papermill": {
     "duration": 0.041189,
     "end_time": "2022-09-13T15:56:09.779277",
     "exception": false,
     "start_time": "2022-09-13T15:56:09.738088",
     "status": "completed"
    },
    "tags": []
   },
   "outputs": [
    {
     "data": {
      "text/plain": [
       "count    295.000000\n",
       "mean      31.000000\n",
       "std       17.058323\n",
       "min        2.000000\n",
       "25%       16.000000\n",
       "50%       31.000000\n",
       "75%       46.000000\n",
       "max       60.000000\n",
       "Name: n_clusters, dtype: float64"
      ]
     },
     "metadata": {},
     "output_type": "display_data"
    }
   ],
   "source": [
    "ensemble_stats = ensemble[\"n_clusters\"].describe()\n",
    "display(ensemble_stats)"
   ]
  },
  {
   "cell_type": "markdown",
   "id": "6e19388b",
   "metadata": {
    "papermill": {
     "duration": 0.018339,
     "end_time": "2022-09-13T15:56:09.817052",
     "exception": false,
     "start_time": "2022-09-13T15:56:09.798713",
     "status": "completed"
    },
    "tags": []
   },
   "source": [
    "## Testing"
   ]
  },
  {
   "cell_type": "code",
   "execution_count": 28,
   "id": "bfc77e0e",
   "metadata": {
    "execution": {
     "iopub.execute_input": "2022-09-13T15:56:09.854175Z",
     "iopub.status.busy": "2022-09-13T15:56:09.853953Z",
     "iopub.status.idle": "2022-09-13T15:56:09.872283Z",
     "shell.execute_reply": "2022-09-13T15:56:09.871591Z"
    },
    "papermill": {
     "duration": 0.038544,
     "end_time": "2022-09-13T15:56:09.873713",
     "exception": false,
     "start_time": "2022-09-13T15:56:09.835169",
     "status": "completed"
    },
    "tags": []
   },
   "outputs": [],
   "source": [
    "assert ensemble_stats[\"min\"] > 1"
   ]
  },
  {
   "cell_type": "code",
   "execution_count": 29,
   "id": "9ab563a6",
   "metadata": {
    "execution": {
     "iopub.execute_input": "2022-09-13T15:56:09.911405Z",
     "iopub.status.busy": "2022-09-13T15:56:09.911191Z",
     "iopub.status.idle": "2022-09-13T15:56:09.930024Z",
     "shell.execute_reply": "2022-09-13T15:56:09.929503Z"
    },
    "papermill": {
     "duration": 0.039114,
     "end_time": "2022-09-13T15:56:09.931381",
     "exception": false,
     "start_time": "2022-09-13T15:56:09.892267",
     "status": "completed"
    },
    "tags": []
   },
   "outputs": [],
   "source": [
    "assert not ensemble[\"n_clusters\"].isna().any()"
   ]
  },
  {
   "cell_type": "code",
   "execution_count": 30,
   "id": "e6fba9fc",
   "metadata": {
    "execution": {
     "iopub.execute_input": "2022-09-13T15:56:09.970106Z",
     "iopub.status.busy": "2022-09-13T15:56:09.969639Z",
     "iopub.status.idle": "2022-09-13T15:56:09.988296Z",
     "shell.execute_reply": "2022-09-13T15:56:09.987585Z"
    },
    "papermill": {
     "duration": 0.039235,
     "end_time": "2022-09-13T15:56:09.989647",
     "exception": false,
     "start_time": "2022-09-13T15:56:09.950412",
     "status": "completed"
    },
    "tags": []
   },
   "outputs": [],
   "source": [
    "assert ensemble.shape[0] == len(CLUSTERERS)"
   ]
  },
  {
   "cell_type": "code",
   "execution_count": 31,
   "id": "215f06e4",
   "metadata": {
    "execution": {
     "iopub.execute_input": "2022-09-13T15:56:10.028659Z",
     "iopub.status.busy": "2022-09-13T15:56:10.028449Z",
     "iopub.status.idle": "2022-09-13T15:56:10.063853Z",
     "shell.execute_reply": "2022-09-13T15:56:10.063209Z"
    },
    "papermill": {
     "duration": 0.056756,
     "end_time": "2022-09-13T15:56:10.065435",
     "exception": false,
     "start_time": "2022-09-13T15:56:10.008679",
     "status": "completed"
    },
    "tags": []
   },
   "outputs": [],
   "source": [
    "# all partitions have the right size\n",
    "assert np.all(\n",
    "    [part[\"partition\"].shape[0] == data.shape[0] for idx, part in ensemble.iterrows()]\n",
    ")"
   ]
  },
  {
   "cell_type": "code",
   "execution_count": 32,
   "id": "e9ff921c",
   "metadata": {
    "execution": {
     "iopub.execute_input": "2022-09-13T15:56:10.103322Z",
     "iopub.status.busy": "2022-09-13T15:56:10.102852Z",
     "iopub.status.idle": "2022-09-13T15:56:10.141344Z",
     "shell.execute_reply": "2022-09-13T15:56:10.140831Z"
    },
    "papermill": {
     "duration": 0.058778,
     "end_time": "2022-09-13T15:56:10.142748",
     "exception": false,
     "start_time": "2022-09-13T15:56:10.083970",
     "status": "completed"
    },
    "tags": []
   },
   "outputs": [],
   "source": [
    "# no partition has negative clusters (noisy points)\n",
    "assert not np.any([(part[\"partition\"] < 0).any() for idx, part in ensemble.iterrows()])"
   ]
  },
  {
   "cell_type": "markdown",
   "id": "d8468470",
   "metadata": {
    "papermill": {
     "duration": 0.01977,
     "end_time": "2022-09-13T15:56:10.181180",
     "exception": false,
     "start_time": "2022-09-13T15:56:10.161410",
     "status": "completed"
    },
    "tags": []
   },
   "source": [
    "## Add clustering quality measures"
   ]
  },
  {
   "cell_type": "code",
   "execution_count": 33,
   "id": "b53f2c17",
   "metadata": {
    "execution": {
     "iopub.execute_input": "2022-09-13T15:56:10.219720Z",
     "iopub.status.busy": "2022-09-13T15:56:10.219497Z",
     "iopub.status.idle": "2022-09-13T15:56:10.237423Z",
     "shell.execute_reply": "2022-09-13T15:56:10.236845Z"
    },
    "papermill": {
     "duration": 0.038322,
     "end_time": "2022-09-13T15:56:10.238806",
     "exception": false,
     "start_time": "2022-09-13T15:56:10.200484",
     "status": "completed"
    },
    "tags": []
   },
   "outputs": [],
   "source": [
    "from sklearn.metrics import calinski_harabasz_score"
   ]
  },
  {
   "cell_type": "code",
   "execution_count": 34,
   "id": "1a17d7b7",
   "metadata": {
    "execution": {
     "iopub.execute_input": "2022-09-13T15:56:10.276661Z",
     "iopub.status.busy": "2022-09-13T15:56:10.276454Z",
     "iopub.status.idle": "2022-09-13T15:56:21.934373Z",
     "shell.execute_reply": "2022-09-13T15:56:21.933622Z"
    },
    "papermill": {
     "duration": 11.678466,
     "end_time": "2022-09-13T15:56:21.936057",
     "exception": false,
     "start_time": "2022-09-13T15:56:10.257591",
     "status": "completed"
    },
    "tags": []
   },
   "outputs": [],
   "source": [
    "ensemble = ensemble.assign(\n",
    "    ch_score=ensemble[\"partition\"].apply(lambda x: calinski_harabasz_score(data, x))\n",
    ")"
   ]
  },
  {
   "cell_type": "code",
   "execution_count": 35,
   "id": "52922d4b",
   "metadata": {
    "execution": {
     "iopub.execute_input": "2022-09-13T15:56:21.981697Z",
     "iopub.status.busy": "2022-09-13T15:56:21.981526Z",
     "iopub.status.idle": "2022-09-13T15:56:22.000525Z",
     "shell.execute_reply": "2022-09-13T15:56:21.999977Z"
    },
    "papermill": {
     "duration": 0.042653,
     "end_time": "2022-09-13T15:56:22.001820",
     "exception": false,
     "start_time": "2022-09-13T15:56:21.959167",
     "status": "completed"
    },
    "tags": []
   },
   "outputs": [
    {
     "data": {
      "text/plain": [
       "(295, 4)"
      ]
     },
     "execution_count": 35,
     "metadata": {},
     "output_type": "execute_result"
    }
   ],
   "source": [
    "ensemble.shape"
   ]
  },
  {
   "cell_type": "code",
   "execution_count": 36,
   "id": "4a8d48ac",
   "metadata": {
    "execution": {
     "iopub.execute_input": "2022-09-13T15:56:22.040478Z",
     "iopub.status.busy": "2022-09-13T15:56:22.040259Z",
     "iopub.status.idle": "2022-09-13T15:56:22.066675Z",
     "shell.execute_reply": "2022-09-13T15:56:22.066174Z"
    },
    "papermill": {
     "duration": 0.046793,
     "end_time": "2022-09-13T15:56:22.067982",
     "exception": false,
     "start_time": "2022-09-13T15:56:22.021189",
     "status": "completed"
    },
    "tags": []
   },
   "outputs": [
    {
     "data": {
      "text/html": [
       "<div>\n",
       "<style scoped>\n",
       "    .dataframe tbody tr th:only-of-type {\n",
       "        vertical-align: middle;\n",
       "    }\n",
       "\n",
       "    .dataframe tbody tr th {\n",
       "        vertical-align: top;\n",
       "    }\n",
       "\n",
       "    .dataframe thead th {\n",
       "        text-align: right;\n",
       "    }\n",
       "</style>\n",
       "<table border=\"1\" class=\"dataframe\">\n",
       "  <thead>\n",
       "    <tr style=\"text-align: right;\">\n",
       "      <th></th>\n",
       "      <th>clusterer_params</th>\n",
       "      <th>partition</th>\n",
       "      <th>n_clusters</th>\n",
       "      <th>ch_score</th>\n",
       "    </tr>\n",
       "    <tr>\n",
       "      <th>clusterer_id</th>\n",
       "      <th></th>\n",
       "      <th></th>\n",
       "      <th></th>\n",
       "      <th></th>\n",
       "    </tr>\n",
       "  </thead>\n",
       "  <tbody>\n",
       "    <tr>\n",
       "      <th>KMeans #0</th>\n",
       "      <td>{'algorithm': 'auto', 'copy_x': True, 'init': ...</td>\n",
       "      <td>[0.0, 0.0, 1.0, 0.0, 0.0, 0.0, 0.0, 0.0, 0.0, ...</td>\n",
       "      <td>2</td>\n",
       "      <td>5.604975</td>\n",
       "    </tr>\n",
       "    <tr>\n",
       "      <th>KMeans #1</th>\n",
       "      <td>{'algorithm': 'auto', 'copy_x': True, 'init': ...</td>\n",
       "      <td>[1.0, 1.0, 1.0, 1.0, 0.0, 0.0, 0.0, 1.0, 0.0, ...</td>\n",
       "      <td>2</td>\n",
       "      <td>5.670971</td>\n",
       "    </tr>\n",
       "    <tr>\n",
       "      <th>KMeans #2</th>\n",
       "      <td>{'algorithm': 'auto', 'copy_x': True, 'init': ...</td>\n",
       "      <td>[0.0, 0.0, 0.0, 0.0, 1.0, 1.0, 0.0, 0.0, 0.0, ...</td>\n",
       "      <td>2</td>\n",
       "      <td>5.611177</td>\n",
       "    </tr>\n",
       "    <tr>\n",
       "      <th>KMeans #3</th>\n",
       "      <td>{'algorithm': 'auto', 'copy_x': True, 'init': ...</td>\n",
       "      <td>[1.0, 1.0, 0.0, 1.0, 0.0, 1.0, 0.0, 1.0, 1.0, ...</td>\n",
       "      <td>2</td>\n",
       "      <td>5.541320</td>\n",
       "    </tr>\n",
       "    <tr>\n",
       "      <th>KMeans #4</th>\n",
       "      <td>{'algorithm': 'auto', 'copy_x': True, 'init': ...</td>\n",
       "      <td>[0.0, 0.0, 0.0, 0.0, 1.0, 0.0, 0.0, 0.0, 1.0, ...</td>\n",
       "      <td>2</td>\n",
       "      <td>5.627746</td>\n",
       "    </tr>\n",
       "  </tbody>\n",
       "</table>\n",
       "</div>"
      ],
      "text/plain": [
       "                                               clusterer_params  \\\n",
       "clusterer_id                                                      \n",
       "KMeans #0     {'algorithm': 'auto', 'copy_x': True, 'init': ...   \n",
       "KMeans #1     {'algorithm': 'auto', 'copy_x': True, 'init': ...   \n",
       "KMeans #2     {'algorithm': 'auto', 'copy_x': True, 'init': ...   \n",
       "KMeans #3     {'algorithm': 'auto', 'copy_x': True, 'init': ...   \n",
       "KMeans #4     {'algorithm': 'auto', 'copy_x': True, 'init': ...   \n",
       "\n",
       "                                                      partition  n_clusters  \\\n",
       "clusterer_id                                                                  \n",
       "KMeans #0     [0.0, 0.0, 1.0, 0.0, 0.0, 0.0, 0.0, 0.0, 0.0, ...           2   \n",
       "KMeans #1     [1.0, 1.0, 1.0, 1.0, 0.0, 0.0, 0.0, 1.0, 0.0, ...           2   \n",
       "KMeans #2     [0.0, 0.0, 0.0, 0.0, 1.0, 1.0, 0.0, 0.0, 0.0, ...           2   \n",
       "KMeans #3     [1.0, 1.0, 0.0, 1.0, 0.0, 1.0, 0.0, 1.0, 1.0, ...           2   \n",
       "KMeans #4     [0.0, 0.0, 0.0, 0.0, 1.0, 0.0, 0.0, 0.0, 1.0, ...           2   \n",
       "\n",
       "              ch_score  \n",
       "clusterer_id            \n",
       "KMeans #0     5.604975  \n",
       "KMeans #1     5.670971  \n",
       "KMeans #2     5.611177  \n",
       "KMeans #3     5.541320  \n",
       "KMeans #4     5.627746  "
      ]
     },
     "execution_count": 36,
     "metadata": {},
     "output_type": "execute_result"
    }
   ],
   "source": [
    "ensemble.head()"
   ]
  },
  {
   "cell_type": "markdown",
   "id": "442b5727",
   "metadata": {
    "papermill": {
     "duration": 0.018398,
     "end_time": "2022-09-13T15:56:22.105509",
     "exception": false,
     "start_time": "2022-09-13T15:56:22.087111",
     "status": "completed"
    },
    "tags": []
   },
   "source": [
    "## Save"
   ]
  },
  {
   "cell_type": "code",
   "execution_count": 37,
   "id": "eb9a43fc",
   "metadata": {
    "execution": {
     "iopub.execute_input": "2022-09-13T15:56:22.142613Z",
     "iopub.status.busy": "2022-09-13T15:56:22.142405Z",
     "iopub.status.idle": "2022-09-13T15:56:22.161325Z",
     "shell.execute_reply": "2022-09-13T15:56:22.160831Z"
    },
    "papermill": {
     "duration": 0.038955,
     "end_time": "2022-09-13T15:56:22.162571",
     "exception": false,
     "start_time": "2022-09-13T15:56:22.123616",
     "status": "completed"
    },
    "tags": []
   },
   "outputs": [
    {
     "data": {
      "text/plain": [
       "PosixPath('/opt/data/results/clustering/null_sims/runs/z_score_std-projection-smultixcan-efo_partial-mashr-zscores/KMeans-KMEANS_N_INIT_10-K_MAX_60-K_MIN_2-N_REPS_PER_K_5.pkl')"
      ]
     },
     "metadata": {},
     "output_type": "display_data"
    }
   ],
   "source": [
    "output_filename = Path(\n",
    "    RESULTS_DIR,\n",
    "    generate_result_set_name(\n",
    "        CLUSTERING_OPTIONS,\n",
    "        prefix=f\"{clustering_method_name}-\",\n",
    "        suffix=\".pkl\",\n",
    "    ),\n",
    ").resolve()\n",
    "display(output_filename)"
   ]
  },
  {
   "cell_type": "code",
   "execution_count": 38,
   "id": "cc452e68",
   "metadata": {
    "execution": {
     "iopub.execute_input": "2022-09-13T15:56:22.200775Z",
     "iopub.status.busy": "2022-09-13T15:56:22.200556Z",
     "iopub.status.idle": "2022-09-13T15:56:22.227248Z",
     "shell.execute_reply": "2022-09-13T15:56:22.226738Z"
    },
    "papermill": {
     "duration": 0.047547,
     "end_time": "2022-09-13T15:56:22.229138",
     "exception": false,
     "start_time": "2022-09-13T15:56:22.181591",
     "status": "completed"
    },
    "tags": []
   },
   "outputs": [],
   "source": [
    "ensemble.to_pickle(output_filename)"
   ]
  },
  {
   "cell_type": "markdown",
   "id": "0c21fea1",
   "metadata": {
    "papermill": {
     "duration": 0.019458,
     "end_time": "2022-09-13T15:56:22.270678",
     "exception": false,
     "start_time": "2022-09-13T15:56:22.251220",
     "status": "completed"
    },
    "tags": []
   },
   "source": [
    "# Cluster quality"
   ]
  },
  {
   "cell_type": "code",
   "execution_count": 39,
   "id": "48236231",
   "metadata": {
    "execution": {
     "iopub.execute_input": "2022-09-13T15:56:22.308500Z",
     "iopub.status.busy": "2022-09-13T15:56:22.308039Z",
     "iopub.status.idle": "2022-09-13T15:56:22.331449Z",
     "shell.execute_reply": "2022-09-13T15:56:22.330959Z"
    },
    "papermill": {
     "duration": 0.043532,
     "end_time": "2022-09-13T15:56:22.332703",
     "exception": false,
     "start_time": "2022-09-13T15:56:22.289171",
     "status": "completed"
    },
    "tags": []
   },
   "outputs": [
    {
     "data": {
      "text/html": [
       "<div>\n",
       "<style scoped>\n",
       "    .dataframe tbody tr th:only-of-type {\n",
       "        vertical-align: middle;\n",
       "    }\n",
       "\n",
       "    .dataframe tbody tr th {\n",
       "        vertical-align: top;\n",
       "    }\n",
       "\n",
       "    .dataframe thead th {\n",
       "        text-align: right;\n",
       "    }\n",
       "</style>\n",
       "<table border=\"1\" class=\"dataframe\">\n",
       "  <thead>\n",
       "    <tr style=\"text-align: right;\">\n",
       "      <th></th>\n",
       "      <th>ch_score</th>\n",
       "    </tr>\n",
       "    <tr>\n",
       "      <th>n_clusters</th>\n",
       "      <th></th>\n",
       "    </tr>\n",
       "  </thead>\n",
       "  <tbody>\n",
       "    <tr>\n",
       "      <th>2</th>\n",
       "      <td>5.611238</td>\n",
       "    </tr>\n",
       "    <tr>\n",
       "      <th>3</th>\n",
       "      <td>4.963542</td>\n",
       "    </tr>\n",
       "    <tr>\n",
       "      <th>4</th>\n",
       "      <td>4.368436</td>\n",
       "    </tr>\n",
       "    <tr>\n",
       "      <th>5</th>\n",
       "      <td>3.982326</td>\n",
       "    </tr>\n",
       "    <tr>\n",
       "      <th>6</th>\n",
       "      <td>3.678777</td>\n",
       "    </tr>\n",
       "    <tr>\n",
       "      <th>7</th>\n",
       "      <td>3.553118</td>\n",
       "    </tr>\n",
       "    <tr>\n",
       "      <th>8</th>\n",
       "      <td>3.192581</td>\n",
       "    </tr>\n",
       "    <tr>\n",
       "      <th>9</th>\n",
       "      <td>3.059508</td>\n",
       "    </tr>\n",
       "    <tr>\n",
       "      <th>10</th>\n",
       "      <td>2.908114</td>\n",
       "    </tr>\n",
       "    <tr>\n",
       "      <th>11</th>\n",
       "      <td>2.910372</td>\n",
       "    </tr>\n",
       "    <tr>\n",
       "      <th>12</th>\n",
       "      <td>2.656061</td>\n",
       "    </tr>\n",
       "    <tr>\n",
       "      <th>13</th>\n",
       "      <td>2.732341</td>\n",
       "    </tr>\n",
       "    <tr>\n",
       "      <th>14</th>\n",
       "      <td>2.648493</td>\n",
       "    </tr>\n",
       "    <tr>\n",
       "      <th>15</th>\n",
       "      <td>2.470685</td>\n",
       "    </tr>\n",
       "    <tr>\n",
       "      <th>16</th>\n",
       "      <td>2.352040</td>\n",
       "    </tr>\n",
       "    <tr>\n",
       "      <th>17</th>\n",
       "      <td>2.298857</td>\n",
       "    </tr>\n",
       "    <tr>\n",
       "      <th>18</th>\n",
       "      <td>2.293324</td>\n",
       "    </tr>\n",
       "    <tr>\n",
       "      <th>19</th>\n",
       "      <td>2.329974</td>\n",
       "    </tr>\n",
       "    <tr>\n",
       "      <th>20</th>\n",
       "      <td>2.240498</td>\n",
       "    </tr>\n",
       "    <tr>\n",
       "      <th>21</th>\n",
       "      <td>1.977507</td>\n",
       "    </tr>\n",
       "    <tr>\n",
       "      <th>22</th>\n",
       "      <td>2.125894</td>\n",
       "    </tr>\n",
       "    <tr>\n",
       "      <th>23</th>\n",
       "      <td>2.166131</td>\n",
       "    </tr>\n",
       "    <tr>\n",
       "      <th>24</th>\n",
       "      <td>1.863691</td>\n",
       "    </tr>\n",
       "    <tr>\n",
       "      <th>25</th>\n",
       "      <td>1.963763</td>\n",
       "    </tr>\n",
       "    <tr>\n",
       "      <th>26</th>\n",
       "      <td>1.921692</td>\n",
       "    </tr>\n",
       "    <tr>\n",
       "      <th>27</th>\n",
       "      <td>2.120312</td>\n",
       "    </tr>\n",
       "    <tr>\n",
       "      <th>28</th>\n",
       "      <td>1.820617</td>\n",
       "    </tr>\n",
       "    <tr>\n",
       "      <th>29</th>\n",
       "      <td>1.923277</td>\n",
       "    </tr>\n",
       "    <tr>\n",
       "      <th>30</th>\n",
       "      <td>1.867036</td>\n",
       "    </tr>\n",
       "    <tr>\n",
       "      <th>31</th>\n",
       "      <td>1.802081</td>\n",
       "    </tr>\n",
       "    <tr>\n",
       "      <th>32</th>\n",
       "      <td>1.796535</td>\n",
       "    </tr>\n",
       "    <tr>\n",
       "      <th>33</th>\n",
       "      <td>1.844109</td>\n",
       "    </tr>\n",
       "    <tr>\n",
       "      <th>34</th>\n",
       "      <td>1.800446</td>\n",
       "    </tr>\n",
       "    <tr>\n",
       "      <th>35</th>\n",
       "      <td>1.951823</td>\n",
       "    </tr>\n",
       "    <tr>\n",
       "      <th>36</th>\n",
       "      <td>1.877048</td>\n",
       "    </tr>\n",
       "    <tr>\n",
       "      <th>37</th>\n",
       "      <td>1.762863</td>\n",
       "    </tr>\n",
       "    <tr>\n",
       "      <th>38</th>\n",
       "      <td>1.864588</td>\n",
       "    </tr>\n",
       "    <tr>\n",
       "      <th>39</th>\n",
       "      <td>1.822471</td>\n",
       "    </tr>\n",
       "    <tr>\n",
       "      <th>40</th>\n",
       "      <td>1.769803</td>\n",
       "    </tr>\n",
       "    <tr>\n",
       "      <th>41</th>\n",
       "      <td>1.815676</td>\n",
       "    </tr>\n",
       "    <tr>\n",
       "      <th>42</th>\n",
       "      <td>1.743606</td>\n",
       "    </tr>\n",
       "    <tr>\n",
       "      <th>43</th>\n",
       "      <td>1.811473</td>\n",
       "    </tr>\n",
       "    <tr>\n",
       "      <th>44</th>\n",
       "      <td>1.719274</td>\n",
       "    </tr>\n",
       "    <tr>\n",
       "      <th>45</th>\n",
       "      <td>1.813855</td>\n",
       "    </tr>\n",
       "    <tr>\n",
       "      <th>46</th>\n",
       "      <td>1.724159</td>\n",
       "    </tr>\n",
       "    <tr>\n",
       "      <th>47</th>\n",
       "      <td>1.718350</td>\n",
       "    </tr>\n",
       "    <tr>\n",
       "      <th>48</th>\n",
       "      <td>1.680162</td>\n",
       "    </tr>\n",
       "    <tr>\n",
       "      <th>49</th>\n",
       "      <td>1.703495</td>\n",
       "    </tr>\n",
       "    <tr>\n",
       "      <th>50</th>\n",
       "      <td>1.680291</td>\n",
       "    </tr>\n",
       "    <tr>\n",
       "      <th>51</th>\n",
       "      <td>1.638426</td>\n",
       "    </tr>\n",
       "    <tr>\n",
       "      <th>52</th>\n",
       "      <td>1.689609</td>\n",
       "    </tr>\n",
       "    <tr>\n",
       "      <th>53</th>\n",
       "      <td>1.657112</td>\n",
       "    </tr>\n",
       "    <tr>\n",
       "      <th>54</th>\n",
       "      <td>1.722584</td>\n",
       "    </tr>\n",
       "    <tr>\n",
       "      <th>55</th>\n",
       "      <td>1.706739</td>\n",
       "    </tr>\n",
       "    <tr>\n",
       "      <th>56</th>\n",
       "      <td>1.682474</td>\n",
       "    </tr>\n",
       "    <tr>\n",
       "      <th>57</th>\n",
       "      <td>1.684462</td>\n",
       "    </tr>\n",
       "    <tr>\n",
       "      <th>58</th>\n",
       "      <td>1.721979</td>\n",
       "    </tr>\n",
       "    <tr>\n",
       "      <th>59</th>\n",
       "      <td>1.728992</td>\n",
       "    </tr>\n",
       "    <tr>\n",
       "      <th>60</th>\n",
       "      <td>1.752767</td>\n",
       "    </tr>\n",
       "  </tbody>\n",
       "</table>\n",
       "</div>"
      ],
      "text/plain": [
       "            ch_score\n",
       "n_clusters          \n",
       "2           5.611238\n",
       "3           4.963542\n",
       "4           4.368436\n",
       "5           3.982326\n",
       "6           3.678777\n",
       "7           3.553118\n",
       "8           3.192581\n",
       "9           3.059508\n",
       "10          2.908114\n",
       "11          2.910372\n",
       "12          2.656061\n",
       "13          2.732341\n",
       "14          2.648493\n",
       "15          2.470685\n",
       "16          2.352040\n",
       "17          2.298857\n",
       "18          2.293324\n",
       "19          2.329974\n",
       "20          2.240498\n",
       "21          1.977507\n",
       "22          2.125894\n",
       "23          2.166131\n",
       "24          1.863691\n",
       "25          1.963763\n",
       "26          1.921692\n",
       "27          2.120312\n",
       "28          1.820617\n",
       "29          1.923277\n",
       "30          1.867036\n",
       "31          1.802081\n",
       "32          1.796535\n",
       "33          1.844109\n",
       "34          1.800446\n",
       "35          1.951823\n",
       "36          1.877048\n",
       "37          1.762863\n",
       "38          1.864588\n",
       "39          1.822471\n",
       "40          1.769803\n",
       "41          1.815676\n",
       "42          1.743606\n",
       "43          1.811473\n",
       "44          1.719274\n",
       "45          1.813855\n",
       "46          1.724159\n",
       "47          1.718350\n",
       "48          1.680162\n",
       "49          1.703495\n",
       "50          1.680291\n",
       "51          1.638426\n",
       "52          1.689609\n",
       "53          1.657112\n",
       "54          1.722584\n",
       "55          1.706739\n",
       "56          1.682474\n",
       "57          1.684462\n",
       "58          1.721979\n",
       "59          1.728992\n",
       "60          1.752767"
      ]
     },
     "metadata": {},
     "output_type": "display_data"
    }
   ],
   "source": [
    "with pd.option_context(\"display.max_rows\", None, \"display.max_columns\", None):\n",
    "    _df = ensemble.groupby([\"n_clusters\"]).mean()\n",
    "    display(_df)"
   ]
  },
  {
   "cell_type": "code",
   "execution_count": 40,
   "id": "ff408360",
   "metadata": {
    "execution": {
     "iopub.execute_input": "2022-09-13T15:56:22.372838Z",
     "iopub.status.busy": "2022-09-13T15:56:22.372630Z",
     "iopub.status.idle": "2022-09-13T15:56:25.381665Z",
     "shell.execute_reply": "2022-09-13T15:56:25.381158Z"
    },
    "papermill": {
     "duration": 3.030393,
     "end_time": "2022-09-13T15:56:25.383204",
     "exception": false,
     "start_time": "2022-09-13T15:56:22.352811",
     "status": "completed"
    },
    "tags": []
   },
   "outputs": [
    {
     "data": {
      "image/png": "[encoded data removed]",
      "text/plain": [
       "<Figure size 1008x432 with 1 Axes>"
      ]
     },
     "metadata": {},
     "output_type": "display_data"
    }
   ],
   "source": [
    "with sns.plotting_context(\"talk\", font_scale=0.75), sns.axes_style(\n",
    "    \"whitegrid\", {\"grid.linestyle\": \"--\"}\n",
    "):\n",
    "    fig = plt.figure(figsize=(14, 6))\n",
    "    ax = sns.pointplot(data=ensemble, x=\"n_clusters\", y=\"ch_score\")\n",
    "    ax.set_ylabel(\"Calinski-Harabasz index\")\n",
    "    ax.set_xlabel(\"Number of clusters ($k$)\")\n",
    "    ax.set_xticklabels(ax.get_xticklabels(), rotation=45)\n",
    "    plt.grid(True)\n",
    "    plt.tight_layout()"
   ]
  },
  {
   "cell_type": "markdown",
   "id": "73ff0803",
   "metadata": {
    "papermill": {
     "duration": 0.019777,
     "end_time": "2022-09-13T15:56:25.423449",
     "exception": false,
     "start_time": "2022-09-13T15:56:25.403672",
     "status": "completed"
    },
    "tags": []
   },
   "source": [
    "# Stability"
   ]
  },
  {
   "cell_type": "markdown",
   "id": "a5be8ae2",
   "metadata": {
    "papermill": {
     "duration": 0.018966,
     "end_time": "2022-09-13T15:56:25.461799",
     "exception": false,
     "start_time": "2022-09-13T15:56:25.442833",
     "status": "completed"
    },
    "tags": []
   },
   "source": [
    "## Group ensemble by n_clusters"
   ]
  },
  {
   "cell_type": "code",
   "execution_count": 41,
   "id": "a6c3df9b",
   "metadata": {
    "execution": {
     "iopub.execute_input": "2022-09-13T15:56:25.501482Z",
     "iopub.status.busy": "2022-09-13T15:56:25.501248Z",
     "iopub.status.idle": "2022-09-13T15:56:25.534649Z",
     "shell.execute_reply": "2022-09-13T15:56:25.533032Z"
    },
    "papermill": {
     "duration": 0.058218,
     "end_time": "2022-09-13T15:56:25.539338",
     "exception": false,
     "start_time": "2022-09-13T15:56:25.481120",
     "status": "completed"
    },
    "tags": []
   },
   "outputs": [],
   "source": [
    "parts = ensemble.groupby(\"n_clusters\").apply(\n",
    "    lambda x: np.concatenate(x[\"partition\"].apply(lambda x: x.reshape(1, -1)), axis=0)\n",
    ")"
   ]
  },
  {
   "cell_type": "code",
   "execution_count": 42,
   "id": "2a394747",
   "metadata": {
    "execution": {
     "iopub.execute_input": "2022-09-13T15:56:25.592604Z",
     "iopub.status.busy": "2022-09-13T15:56:25.592395Z",
     "iopub.status.idle": "2022-09-13T15:56:25.622486Z",
     "shell.execute_reply": "2022-09-13T15:56:25.622011Z"
    },
    "papermill": {
     "duration": 0.051425,
     "end_time": "2022-09-13T15:56:25.623824",
     "exception": false,
     "start_time": "2022-09-13T15:56:25.572399",
     "status": "completed"
    },
    "tags": []
   },
   "outputs": [
    {
     "data": {
      "text/plain": [
       "n_clusters\n",
       "2    [[0.0, 0.0, 1.0, 0.0, 0.0, 0.0, 0.0, 0.0, 0.0,...\n",
       "3    [[0.0, 1.0, 0.0, 0.0, 0.0, 2.0, 2.0, 0.0, 2.0,...\n",
       "4    [[1.0, 3.0, 3.0, 2.0, 3.0, 3.0, 2.0, 1.0, 2.0,...\n",
       "5    [[2.0, 2.0, 1.0, 4.0, 4.0, 2.0, 3.0, 2.0, 1.0,...\n",
       "6    [[3.0, 5.0, 3.0, 2.0, 1.0, 2.0, 5.0, 3.0, 5.0,...\n",
       "dtype: object"
      ]
     },
     "execution_count": 42,
     "metadata": {},
     "output_type": "execute_result"
    }
   ],
   "source": [
    "parts.head()"
   ]
  },
  {
   "cell_type": "code",
   "execution_count": 43,
   "id": "a5ab1871",
   "metadata": {
    "execution": {
     "iopub.execute_input": "2022-09-13T15:56:25.664630Z",
     "iopub.status.busy": "2022-09-13T15:56:25.664417Z",
     "iopub.status.idle": "2022-09-13T15:56:25.683342Z",
     "shell.execute_reply": "2022-09-13T15:56:25.682955Z"
    },
    "papermill": {
     "duration": 0.040719,
     "end_time": "2022-09-13T15:56:25.684676",
     "exception": false,
     "start_time": "2022-09-13T15:56:25.643957",
     "status": "completed"
    },
    "tags": []
   },
   "outputs": [],
   "source": [
    "assert np.all(\n",
    "    [\n",
    "        parts.loc[k].shape == (CLUSTERING_OPTIONS[\"N_REPS_PER_K\"], data.shape[0])\n",
    "        for k in parts.index\n",
    "    ]\n",
    ")"
   ]
  },
  {
   "cell_type": "markdown",
   "id": "016ca2f8",
   "metadata": {
    "papermill": {
     "duration": 0.019174,
     "end_time": "2022-09-13T15:56:25.723918",
     "exception": false,
     "start_time": "2022-09-13T15:56:25.704744",
     "status": "completed"
    },
    "tags": []
   },
   "source": [
    "## Compute stability"
   ]
  },
  {
   "cell_type": "code",
   "execution_count": 44,
   "id": "998827ed",
   "metadata": {
    "execution": {
     "iopub.execute_input": "2022-09-13T15:56:25.763945Z",
     "iopub.status.busy": "2022-09-13T15:56:25.763673Z",
     "iopub.status.idle": "2022-09-13T15:56:25.781632Z",
     "shell.execute_reply": "2022-09-13T15:56:25.781123Z"
    },
    "papermill": {
     "duration": 0.03972,
     "end_time": "2022-09-13T15:56:25.782904",
     "exception": false,
     "start_time": "2022-09-13T15:56:25.743184",
     "status": "completed"
    },
    "tags": []
   },
   "outputs": [],
   "source": [
    "from sklearn.metrics import adjusted_rand_score as ari\n",
    "from scipy.spatial.distance import pdist"
   ]
  },
  {
   "cell_type": "code",
   "execution_count": 45,
   "id": "dac8f1ca",
   "metadata": {
    "execution": {
     "iopub.execute_input": "2022-09-13T15:56:25.823178Z",
     "iopub.status.busy": "2022-09-13T15:56:25.822967Z",
     "iopub.status.idle": "2022-09-13T15:56:26.470101Z",
     "shell.execute_reply": "2022-09-13T15:56:26.469542Z"
    },
    "papermill": {
     "duration": 0.668833,
     "end_time": "2022-09-13T15:56:26.471696",
     "exception": false,
     "start_time": "2022-09-13T15:56:25.802863",
     "status": "completed"
    },
    "tags": []
   },
   "outputs": [],
   "source": [
    "parts_ari = pd.Series(\n",
    "    {k: pdist(parts.loc[k], metric=ari) for k in parts.index}, name=\"k\"\n",
    ")"
   ]
  },
  {
   "cell_type": "code",
   "execution_count": 46,
   "id": "84419a75",
   "metadata": {
    "execution": {
     "iopub.execute_input": "2022-09-13T15:56:26.511549Z",
     "iopub.status.busy": "2022-09-13T15:56:26.511279Z",
     "iopub.status.idle": "2022-09-13T15:56:26.531285Z",
     "shell.execute_reply": "2022-09-13T15:56:26.530807Z"
    },
    "papermill": {
     "duration": 0.041353,
     "end_time": "2022-09-13T15:56:26.532543",
     "exception": false,
     "start_time": "2022-09-13T15:56:26.491190",
     "status": "completed"
    },
    "tags": []
   },
   "outputs": [
    {
     "data": {
      "text/plain": [
       "57    0.015649\n",
       "49    0.012569\n",
       "27    0.012475\n",
       "59    0.012106\n",
       "56    0.011622\n",
       "17    0.011603\n",
       "55    0.009326\n",
       "32    0.008810\n",
       "58    0.008311\n",
       "60    0.008230\n",
       "28    0.008159\n",
       "41    0.007934\n",
       "44    0.007624\n",
       "24    0.007321\n",
       "25    0.006842\n",
       "Name: k, dtype: float64"
      ]
     },
     "metadata": {},
     "output_type": "display_data"
    }
   ],
   "source": [
    "parts_ari_stability = parts_ari.apply(lambda x: x.mean())\n",
    "display(parts_ari_stability.sort_values(ascending=False).head(15))"
   ]
  },
  {
   "cell_type": "code",
   "execution_count": 47,
   "id": "47858bf6",
   "metadata": {
    "execution": {
     "iopub.execute_input": "2022-09-13T15:56:26.574029Z",
     "iopub.status.busy": "2022-09-13T15:56:26.573823Z",
     "iopub.status.idle": "2022-09-13T15:56:26.592655Z",
     "shell.execute_reply": "2022-09-13T15:56:26.592220Z"
    },
    "papermill": {
     "duration": 0.040904,
     "end_time": "2022-09-13T15:56:26.593955",
     "exception": false,
     "start_time": "2022-09-13T15:56:26.553051",
     "status": "completed"
    },
    "tags": []
   },
   "outputs": [],
   "source": [
    "parts_ari_df = pd.DataFrame.from_records(parts_ari.tolist()).set_index(\n",
    "    parts_ari.index.copy()\n",
    ")"
   ]
  },
  {
   "cell_type": "code",
   "execution_count": 48,
   "id": "ba200d26",
   "metadata": {
    "execution": {
     "iopub.execute_input": "2022-09-13T15:56:26.635303Z",
     "iopub.status.busy": "2022-09-13T15:56:26.635118Z",
     "iopub.status.idle": "2022-09-13T15:56:26.653910Z",
     "shell.execute_reply": "2022-09-13T15:56:26.653419Z"
    },
    "papermill": {
     "duration": 0.040491,
     "end_time": "2022-09-13T15:56:26.655178",
     "exception": false,
     "start_time": "2022-09-13T15:56:26.614687",
     "status": "completed"
    },
    "tags": []
   },
   "outputs": [
    {
     "data": {
      "text/plain": [
       "(59, 10)"
      ]
     },
     "execution_count": 48,
     "metadata": {},
     "output_type": "execute_result"
    }
   ],
   "source": [
    "parts_ari_df.shape"
   ]
  },
  {
   "cell_type": "code",
   "execution_count": 49,
   "id": "d30a7b2f",
   "metadata": {
    "execution": {
     "iopub.execute_input": "2022-09-13T15:56:26.696829Z",
     "iopub.status.busy": "2022-09-13T15:56:26.696623Z",
     "iopub.status.idle": "2022-09-13T15:56:26.715115Z",
     "shell.execute_reply": "2022-09-13T15:56:26.714584Z"
    },
    "papermill": {
     "duration": 0.04058,
     "end_time": "2022-09-13T15:56:26.716430",
     "exception": false,
     "start_time": "2022-09-13T15:56:26.675850",
     "status": "completed"
    },
    "tags": []
   },
   "outputs": [],
   "source": [
    "assert (\n",
    "    int(\n",
    "        (CLUSTERING_OPTIONS[\"N_REPS_PER_K\"] * (CLUSTERING_OPTIONS[\"N_REPS_PER_K\"] - 1))\n",
    "        / 2\n",
    "    )\n",
    "    == parts_ari_df.shape[1]\n",
    ")"
   ]
  },
  {
   "cell_type": "code",
   "execution_count": 50,
   "id": "e8d17b33",
   "metadata": {
    "execution": {
     "iopub.execute_input": "2022-09-13T15:56:26.757860Z",
     "iopub.status.busy": "2022-09-13T15:56:26.757652Z",
     "iopub.status.idle": "2022-09-13T15:56:26.782636Z",
     "shell.execute_reply": "2022-09-13T15:56:26.782156Z"
    },
    "papermill": {
     "duration": 0.046871,
     "end_time": "2022-09-13T15:56:26.783923",
     "exception": false,
     "start_time": "2022-09-13T15:56:26.737052",
     "status": "completed"
    },
    "tags": []
   },
   "outputs": [
    {
     "data": {
      "text/html": [
       "<div>\n",
       "<style scoped>\n",
       "    .dataframe tbody tr th:only-of-type {\n",
       "        vertical-align: middle;\n",
       "    }\n",
       "\n",
       "    .dataframe tbody tr th {\n",
       "        vertical-align: top;\n",
       "    }\n",
       "\n",
       "    .dataframe thead th {\n",
       "        text-align: right;\n",
       "    }\n",
       "</style>\n",
       "<table border=\"1\" class=\"dataframe\">\n",
       "  <thead>\n",
       "    <tr style=\"text-align: right;\">\n",
       "      <th></th>\n",
       "      <th>0</th>\n",
       "      <th>1</th>\n",
       "      <th>2</th>\n",
       "      <th>3</th>\n",
       "      <th>4</th>\n",
       "      <th>5</th>\n",
       "      <th>6</th>\n",
       "      <th>7</th>\n",
       "      <th>8</th>\n",
       "      <th>9</th>\n",
       "    </tr>\n",
       "  </thead>\n",
       "  <tbody>\n",
       "    <tr>\n",
       "      <th>2</th>\n",
       "      <td>0.004575</td>\n",
       "      <td>-0.001403</td>\n",
       "      <td>0.000872</td>\n",
       "      <td>-0.000229</td>\n",
       "      <td>0.012967</td>\n",
       "      <td>0.007184</td>\n",
       "      <td>0.003922</td>\n",
       "      <td>0.008123</td>\n",
       "      <td>0.011247</td>\n",
       "      <td>0.006925</td>\n",
       "    </tr>\n",
       "    <tr>\n",
       "      <th>3</th>\n",
       "      <td>0.007786</td>\n",
       "      <td>0.003076</td>\n",
       "      <td>0.003393</td>\n",
       "      <td>0.004426</td>\n",
       "      <td>0.003468</td>\n",
       "      <td>0.009116</td>\n",
       "      <td>0.003418</td>\n",
       "      <td>0.001460</td>\n",
       "      <td>0.011292</td>\n",
       "      <td>0.008124</td>\n",
       "    </tr>\n",
       "    <tr>\n",
       "      <th>4</th>\n",
       "      <td>0.003816</td>\n",
       "      <td>0.007899</td>\n",
       "      <td>0.006219</td>\n",
       "      <td>0.002371</td>\n",
       "      <td>0.001225</td>\n",
       "      <td>0.004297</td>\n",
       "      <td>0.006842</td>\n",
       "      <td>0.005462</td>\n",
       "      <td>0.000777</td>\n",
       "      <td>0.004344</td>\n",
       "    </tr>\n",
       "    <tr>\n",
       "      <th>5</th>\n",
       "      <td>0.007857</td>\n",
       "      <td>0.005604</td>\n",
       "      <td>0.004941</td>\n",
       "      <td>0.021931</td>\n",
       "      <td>0.001303</td>\n",
       "      <td>0.004390</td>\n",
       "      <td>0.003298</td>\n",
       "      <td>0.005266</td>\n",
       "      <td>0.005663</td>\n",
       "      <td>0.002131</td>\n",
       "    </tr>\n",
       "    <tr>\n",
       "      <th>6</th>\n",
       "      <td>0.002016</td>\n",
       "      <td>0.004917</td>\n",
       "      <td>0.018378</td>\n",
       "      <td>0.002093</td>\n",
       "      <td>0.008865</td>\n",
       "      <td>0.005421</td>\n",
       "      <td>0.003268</td>\n",
       "      <td>0.002995</td>\n",
       "      <td>0.004975</td>\n",
       "      <td>0.005909</td>\n",
       "    </tr>\n",
       "  </tbody>\n",
       "</table>\n",
       "</div>"
      ],
      "text/plain": [
       "          0         1         2         3         4         5         6  \\\n",
       "2  0.004575 -0.001403  0.000872 -0.000229  0.012967  0.007184  0.003922   \n",
       "3  0.007786  0.003076  0.003393  0.004426  0.003468  0.009116  0.003418   \n",
       "4  0.003816  0.007899  0.006219  0.002371  0.001225  0.004297  0.006842   \n",
       "5  0.007857  0.005604  0.004941  0.021931  0.001303  0.004390  0.003298   \n",
       "6  0.002016  0.004917  0.018378  0.002093  0.008865  0.005421  0.003268   \n",
       "\n",
       "          7         8         9  \n",
       "2  0.008123  0.011247  0.006925  \n",
       "3  0.001460  0.011292  0.008124  \n",
       "4  0.005462  0.000777  0.004344  \n",
       "5  0.005266  0.005663  0.002131  \n",
       "6  0.002995  0.004975  0.005909  "
      ]
     },
     "execution_count": 50,
     "metadata": {},
     "output_type": "execute_result"
    }
   ],
   "source": [
    "parts_ari_df.head()"
   ]
  },
  {
   "cell_type": "markdown",
   "id": "0f2ad37d",
   "metadata": {
    "papermill": {
     "duration": 0.019929,
     "end_time": "2022-09-13T15:56:26.824725",
     "exception": false,
     "start_time": "2022-09-13T15:56:26.804796",
     "status": "completed"
    },
    "tags": []
   },
   "source": [
    "## Save"
   ]
  },
  {
   "cell_type": "code",
   "execution_count": 51,
   "id": "4067f2f9",
   "metadata": {
    "execution": {
     "iopub.execute_input": "2022-09-13T15:56:26.865151Z",
     "iopub.status.busy": "2022-09-13T15:56:26.864944Z",
     "iopub.status.idle": "2022-09-13T15:56:26.883587Z",
     "shell.execute_reply": "2022-09-13T15:56:26.883082Z"
    },
    "papermill": {
     "duration": 0.040565,
     "end_time": "2022-09-13T15:56:26.884889",
     "exception": false,
     "start_time": "2022-09-13T15:56:26.844324",
     "status": "completed"
    },
    "tags": []
   },
   "outputs": [
    {
     "data": {
      "text/plain": [
       "PosixPath('/opt/data/results/clustering/null_sims/runs/z_score_std-projection-smultixcan-efo_partial-mashr-zscores/KMeans-stability-KMEANS_N_INIT_10-K_MAX_60-K_MIN_2-N_REPS_PER_K_5.pkl')"
      ]
     },
     "metadata": {},
     "output_type": "display_data"
    }
   ],
   "source": [
    "output_filename = Path(\n",
    "    RESULTS_DIR,\n",
    "    generate_result_set_name(\n",
    "        CLUSTERING_OPTIONS,\n",
    "        prefix=f\"{clustering_method_name}-stability-\",\n",
    "        suffix=\".pkl\",\n",
    "    ),\n",
    ").resolve()\n",
    "display(output_filename)"
   ]
  },
  {
   "cell_type": "code",
   "execution_count": 52,
   "id": "3eb1c18f",
   "metadata": {
    "execution": {
     "iopub.execute_input": "2022-09-13T15:56:26.928055Z",
     "iopub.status.busy": "2022-09-13T15:56:26.927303Z",
     "iopub.status.idle": "2022-09-13T15:56:26.946660Z",
     "shell.execute_reply": "2022-09-13T15:56:26.946017Z"
    },
    "papermill": {
     "duration": 0.04242,
     "end_time": "2022-09-13T15:56:26.948094",
     "exception": false,
     "start_time": "2022-09-13T15:56:26.905674",
     "status": "completed"
    },
    "tags": []
   },
   "outputs": [],
   "source": [
    "parts_ari_df.to_pickle(output_filename)"
   ]
  },
  {
   "cell_type": "markdown",
   "id": "ed3e8473",
   "metadata": {
    "papermill": {
     "duration": 0.020794,
     "end_time": "2022-09-13T15:56:26.990006",
     "exception": false,
     "start_time": "2022-09-13T15:56:26.969212",
     "status": "completed"
    },
    "tags": []
   },
   "source": [
    "## Stability plot"
   ]
  },
  {
   "cell_type": "code",
   "execution_count": 53,
   "id": "7979db7a",
   "metadata": {
    "execution": {
     "iopub.execute_input": "2022-09-13T15:56:27.030757Z",
     "iopub.status.busy": "2022-09-13T15:56:27.030273Z",
     "iopub.status.idle": "2022-09-13T15:56:27.050036Z",
     "shell.execute_reply": "2022-09-13T15:56:27.049376Z"
    },
    "papermill": {
     "duration": 0.041805,
     "end_time": "2022-09-13T15:56:27.051410",
     "exception": false,
     "start_time": "2022-09-13T15:56:27.009605",
     "status": "completed"
    },
    "tags": []
   },
   "outputs": [],
   "source": [
    "parts_ari_df_plot = (\n",
    "    parts_ari_df.stack()\n",
    "    .reset_index()\n",
    "    .rename(columns={\"level_0\": \"k\", \"level_1\": \"idx\", 0: \"ari\"})\n",
    ")"
   ]
  },
  {
   "cell_type": "code",
   "execution_count": 54,
   "id": "0c6dd8aa",
   "metadata": {
    "execution": {
     "iopub.execute_input": "2022-09-13T15:56:27.092277Z",
     "iopub.status.busy": "2022-09-13T15:56:27.092067Z",
     "iopub.status.idle": "2022-09-13T15:56:27.112067Z",
     "shell.execute_reply": "2022-09-13T15:56:27.111545Z"
    },
    "papermill": {
     "duration": 0.041651,
     "end_time": "2022-09-13T15:56:27.113336",
     "exception": false,
     "start_time": "2022-09-13T15:56:27.071685",
     "status": "completed"
    },
    "tags": []
   },
   "outputs": [
    {
     "data": {
      "text/plain": [
       "k        int64\n",
       "idx      int64\n",
       "ari    float64\n",
       "dtype: object"
      ]
     },
     "execution_count": 54,
     "metadata": {},
     "output_type": "execute_result"
    }
   ],
   "source": [
    "parts_ari_df_plot.dtypes"
   ]
  },
  {
   "cell_type": "code",
   "execution_count": 55,
   "id": "e8f841c8",
   "metadata": {
    "execution": {
     "iopub.execute_input": "2022-09-13T15:56:27.155261Z",
     "iopub.status.busy": "2022-09-13T15:56:27.155039Z",
     "iopub.status.idle": "2022-09-13T15:56:27.175871Z",
     "shell.execute_reply": "2022-09-13T15:56:27.175383Z"
    },
    "papermill": {
     "duration": 0.042465,
     "end_time": "2022-09-13T15:56:27.177095",
     "exception": false,
     "start_time": "2022-09-13T15:56:27.134630",
     "status": "completed"
    },
    "tags": []
   },
   "outputs": [
    {
     "data": {
      "text/html": [
       "<div>\n",
       "<style scoped>\n",
       "    .dataframe tbody tr th:only-of-type {\n",
       "        vertical-align: middle;\n",
       "    }\n",
       "\n",
       "    .dataframe tbody tr th {\n",
       "        vertical-align: top;\n",
       "    }\n",
       "\n",
       "    .dataframe thead th {\n",
       "        text-align: right;\n",
       "    }\n",
       "</style>\n",
       "<table border=\"1\" class=\"dataframe\">\n",
       "  <thead>\n",
       "    <tr style=\"text-align: right;\">\n",
       "      <th></th>\n",
       "      <th>k</th>\n",
       "      <th>idx</th>\n",
       "      <th>ari</th>\n",
       "    </tr>\n",
       "  </thead>\n",
       "  <tbody>\n",
       "    <tr>\n",
       "      <th>0</th>\n",
       "      <td>2</td>\n",
       "      <td>0</td>\n",
       "      <td>0.004575</td>\n",
       "    </tr>\n",
       "    <tr>\n",
       "      <th>1</th>\n",
       "      <td>2</td>\n",
       "      <td>1</td>\n",
       "      <td>-0.001403</td>\n",
       "    </tr>\n",
       "    <tr>\n",
       "      <th>2</th>\n",
       "      <td>2</td>\n",
       "      <td>2</td>\n",
       "      <td>0.000872</td>\n",
       "    </tr>\n",
       "    <tr>\n",
       "      <th>3</th>\n",
       "      <td>2</td>\n",
       "      <td>3</td>\n",
       "      <td>-0.000229</td>\n",
       "    </tr>\n",
       "    <tr>\n",
       "      <th>4</th>\n",
       "      <td>2</td>\n",
       "      <td>4</td>\n",
       "      <td>0.012967</td>\n",
       "    </tr>\n",
       "  </tbody>\n",
       "</table>\n",
       "</div>"
      ],
      "text/plain": [
       "   k  idx       ari\n",
       "0  2    0  0.004575\n",
       "1  2    1 -0.001403\n",
       "2  2    2  0.000872\n",
       "3  2    3 -0.000229\n",
       "4  2    4  0.012967"
      ]
     },
     "execution_count": 55,
     "metadata": {},
     "output_type": "execute_result"
    }
   ],
   "source": [
    "parts_ari_df_plot.head()"
   ]
  },
  {
   "cell_type": "code",
   "execution_count": 56,
   "id": "554b37cb",
   "metadata": {
    "execution": {
     "iopub.execute_input": "2022-09-13T15:56:27.219374Z",
     "iopub.status.busy": "2022-09-13T15:56:27.219158Z",
     "iopub.status.idle": "2022-09-13T15:56:30.064477Z",
     "shell.execute_reply": "2022-09-13T15:56:30.063861Z"
    },
    "papermill": {
     "duration": 2.867766,
     "end_time": "2022-09-13T15:56:30.066147",
     "exception": false,
     "start_time": "2022-09-13T15:56:27.198381",
     "status": "completed"
    },
    "tags": []
   },
   "outputs": [
    {
     "data": {
      "image/png": "[encoded data removed]",
      "text/plain": [
       "<Figure size 1008x432 with 1 Axes>"
      ]
     },
     "metadata": {},
     "output_type": "display_data"
    }
   ],
   "source": [
    "# with sns.axes_style('whitegrid', {'grid.linestyle': '--'}):\n",
    "with sns.plotting_context(\"talk\", font_scale=0.75), sns.axes_style(\n",
    "    \"whitegrid\", {\"grid.linestyle\": \"--\"}\n",
    "):\n",
    "    fig = plt.figure(figsize=(14, 6))\n",
    "    ax = sns.pointplot(data=parts_ari_df_plot, x=\"k\", y=\"ari\")\n",
    "    ax.set_ylabel(\"Averange ARI\")\n",
    "    ax.set_xlabel(\"Number of clusters ($k$)\")\n",
    "    ax.set_xticklabels(ax.get_xticklabels(), rotation=45)\n",
    "    #     ax.set_ylim(0.0, 1.0)\n",
    "    #     ax.set_xlim(CLUSTERING_OPTIONS['K_MIN'], CLUSTERING_OPTIONS['K_MAX'])\n",
    "    plt.grid(True)\n",
    "    plt.tight_layout()"
   ]
  },
  {
   "cell_type": "code",
   "execution_count": null,
   "id": "ca79492b",
   "metadata": {
    "papermill": {
     "duration": 0.020838,
     "end_time": "2022-09-13T15:56:30.108048",
     "exception": false,
     "start_time": "2022-09-13T15:56:30.087210",
     "status": "completed"
    },
    "tags": []
   },
   "outputs": [],
   "source": []
  }
 ],
 "metadata": {
  "jupytext": {
   "cell_metadata_filter": "all,-execution,-papermill,-trusted",
   "formats": "ipynb,py//py:percent"
  },
  "kernelspec": {
   "display_name": "Python 3 (ipykernel)",
   "language": "python",
   "name": "python3"
  },
  "language_info": {
   "codemirror_mode": {
    "name": "ipython",
    "version": 3
   },
   "file_extension": ".py",
   "mimetype": "text/x-python",
   "name": "python",
   "nbconvert_exporter": "python",
   "pygments_lexer": "ipython3",
   "version": "3.8.13"
  },
  "papermill": {
   "default_parameters": {},
   "duration": 1039.15414,
   "end_time": "2022-09-13T15:56:30.451877",
   "environment_variables": {},
   "exception": null,
   "input_path": "nbs/13.1_cluster_analysis_null/10_00-kmeans-z_score_std.ipynb",
   "output_path": "nbs/13.1_cluster_analysis_null/10_00-kmeans-z_score_std.run.ipynb",
   "parameters": {},
   "start_time": "2022-09-13T15:39:11.297737",
   "version": "2.2.2"
  },
  "toc-autonumbering": true,
  "toc-showcode": false,
  "toc-showmarkdowntxt": false,
  "toc-showtags": false
 },
 "nbformat": 4,
 "nbformat_minor": 5
}
