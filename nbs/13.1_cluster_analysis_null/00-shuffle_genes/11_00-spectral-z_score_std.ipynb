{
 "cells": [
  {
   "cell_type": "markdown",
   "id": "e6114bcb",
   "metadata": {
    "papermill": {
     "duration": 0.013473,
     "end_time": "2022-11-25T04:42:02.150997",
     "exception": false,
     "start_time": "2022-11-25T04:42:02.137524",
     "status": "completed"
    },
    "tags": []
   },
   "source": [
    "# Description"
   ]
  },
  {
   "cell_type": "markdown",
   "id": "9e9a79a6",
   "metadata": {
    "papermill": {
     "duration": 0.011734,
     "end_time": "2022-11-25T04:42:02.174602",
     "exception": false,
     "start_time": "2022-11-25T04:42:02.162868",
     "status": "completed"
    },
    "tags": []
   },
   "source": [
    "Runs spectral clustering on the z_score_std version of the data."
   ]
  },
  {
   "cell_type": "markdown",
   "id": "f26d1044",
   "metadata": {
    "papermill": {
     "duration": 0.011694,
     "end_time": "2022-11-25T04:42:02.198300",
     "exception": false,
     "start_time": "2022-11-25T04:42:02.186606",
     "status": "completed"
    },
    "tags": []
   },
   "source": [
    "# Environment variables"
   ]
  },
  {
   "cell_type": "code",
   "execution_count": 1,
   "id": "2e3a323b",
   "metadata": {
    "execution": {
     "iopub.execute_input": "2022-11-25T04:42:02.222182Z",
     "iopub.status.busy": "2022-11-25T04:42:02.221995Z",
     "iopub.status.idle": "2022-11-25T04:42:02.240515Z",
     "shell.execute_reply": "2022-11-25T04:42:02.240074Z"
    },
    "papermill": {
     "duration": 0.031281,
     "end_time": "2022-11-25T04:42:02.241392",
     "exception": false,
     "start_time": "2022-11-25T04:42:02.210111",
     "status": "completed"
    },
    "tags": []
   },
   "outputs": [
    {
     "data": {
      "text/plain": [
       "10"
      ]
     },
     "metadata": {},
     "output_type": "display_data"
    }
   ],
   "source": [
    "from IPython.display import display\n",
    "\n",
    "import conf\n",
    "\n",
    "N_JOBS = conf.GENERAL[\"N_JOBS\"]\n",
    "display(N_JOBS)"
   ]
  },
  {
   "cell_type": "code",
   "execution_count": 2,
   "id": "8372510c",
   "metadata": {
    "execution": {
     "iopub.execute_input": "2022-11-25T04:42:02.254829Z",
     "iopub.status.busy": "2022-11-25T04:42:02.254678Z",
     "iopub.status.idle": "2022-11-25T04:42:02.260863Z",
     "shell.execute_reply": "2022-11-25T04:42:02.260395Z"
    },
    "papermill": {
     "duration": 0.013715,
     "end_time": "2022-11-25T04:42:02.261679",
     "exception": false,
     "start_time": "2022-11-25T04:42:02.247964",
     "status": "completed"
    },
    "tags": []
   },
   "outputs": [
    {
     "name": "stdout",
     "output_type": "stream",
     "text": [
      "env: MKL_NUM_THREADS=10\n",
      "env: OPEN_BLAS_NUM_THREADS=10\n",
      "env: NUMEXPR_NUM_THREADS=10\n",
      "env: OMP_NUM_THREADS=10\n"
     ]
    }
   ],
   "source": [
    "%env MKL_NUM_THREADS=$N_JOBS\n",
    "%env OPEN_BLAS_NUM_THREADS=$N_JOBS\n",
    "%env NUMEXPR_NUM_THREADS=$N_JOBS\n",
    "%env OMP_NUM_THREADS=$N_JOBS"
   ]
  },
  {
   "cell_type": "markdown",
   "id": "810b29c6",
   "metadata": {
    "papermill": {
     "duration": 0.006307,
     "end_time": "2022-11-25T04:42:02.274221",
     "exception": false,
     "start_time": "2022-11-25T04:42:02.267914",
     "status": "completed"
    },
    "tags": []
   },
   "source": [
    "# Modules loading"
   ]
  },
  {
   "cell_type": "code",
   "execution_count": 3,
   "id": "695a702f",
   "metadata": {
    "execution": {
     "iopub.execute_input": "2022-11-25T04:42:02.287363Z",
     "iopub.status.busy": "2022-11-25T04:42:02.287213Z",
     "iopub.status.idle": "2022-11-25T04:42:02.300172Z",
     "shell.execute_reply": "2022-11-25T04:42:02.299656Z"
    },
    "papermill": {
     "duration": 0.02061,
     "end_time": "2022-11-25T04:42:02.301061",
     "exception": false,
     "start_time": "2022-11-25T04:42:02.280451",
     "status": "completed"
    },
    "tags": []
   },
   "outputs": [],
   "source": [
    "%load_ext autoreload\n",
    "%autoreload 2"
   ]
  },
  {
   "cell_type": "code",
   "execution_count": 4,
   "id": "1fe8f458",
   "metadata": {
    "execution": {
     "iopub.execute_input": "2022-11-25T04:42:02.314258Z",
     "iopub.status.busy": "2022-11-25T04:42:02.314109Z",
     "iopub.status.idle": "2022-11-25T04:42:02.771863Z",
     "shell.execute_reply": "2022-11-25T04:42:02.771446Z"
    },
    "papermill": {
     "duration": 0.466278,
     "end_time": "2022-11-25T04:42:02.773521",
     "exception": false,
     "start_time": "2022-11-25T04:42:02.307243",
     "status": "completed"
    },
    "tags": []
   },
   "outputs": [],
   "source": [
    "from pathlib import Path\n",
    "\n",
    "import numpy as np\n",
    "import pandas as pd\n",
    "import matplotlib.pyplot as plt\n",
    "import seaborn as sns\n",
    "\n",
    "from utils import generate_result_set_name"
   ]
  },
  {
   "cell_type": "markdown",
   "id": "10f14cd6",
   "metadata": {
    "papermill": {
     "duration": 0.011648,
     "end_time": "2022-11-25T04:42:02.797338",
     "exception": false,
     "start_time": "2022-11-25T04:42:02.785690",
     "status": "completed"
    },
    "tags": []
   },
   "source": [
    "# Settings"
   ]
  },
  {
   "cell_type": "code",
   "execution_count": 5,
   "id": "6d7d50c8",
   "metadata": {
    "execution": {
     "iopub.execute_input": "2022-11-25T04:42:02.822417Z",
     "iopub.status.busy": "2022-11-25T04:42:02.822328Z",
     "iopub.status.idle": "2022-11-25T04:42:02.839428Z",
     "shell.execute_reply": "2022-11-25T04:42:02.838971Z"
    },
    "papermill": {
     "duration": 0.030751,
     "end_time": "2022-11-25T04:42:02.840718",
     "exception": false,
     "start_time": "2022-11-25T04:42:02.809967",
     "status": "completed"
    },
    "tags": []
   },
   "outputs": [],
   "source": [
    "np.random.seed(0)"
   ]
  },
  {
   "cell_type": "code",
   "execution_count": 6,
   "id": "dc7e4745",
   "metadata": {
    "execution": {
     "iopub.execute_input": "2022-11-25T04:42:02.890834Z",
     "iopub.status.busy": "2022-11-25T04:42:02.890413Z",
     "iopub.status.idle": "2022-11-25T04:42:02.907535Z",
     "shell.execute_reply": "2022-11-25T04:42:02.907096Z"
    },
    "papermill": {
     "duration": 0.030197,
     "end_time": "2022-11-25T04:42:02.908338",
     "exception": false,
     "start_time": "2022-11-25T04:42:02.878141",
     "status": "completed"
    },
    "tags": []
   },
   "outputs": [],
   "source": [
    "INITIAL_RANDOM_STATE = 30000"
   ]
  },
  {
   "cell_type": "code",
   "execution_count": 7,
   "id": "5f64fcf5-ebe4-45ed-949a-b961e25f546f",
   "metadata": {
    "execution": {
     "iopub.execute_input": "2022-11-25T04:42:02.921956Z",
     "iopub.status.busy": "2022-11-25T04:42:02.921601Z",
     "iopub.status.idle": "2022-11-25T04:42:02.938905Z",
     "shell.execute_reply": "2022-11-25T04:42:02.938461Z"
    },
    "papermill": {
     "duration": 0.025055,
     "end_time": "2022-11-25T04:42:02.939958",
     "exception": false,
     "start_time": "2022-11-25T04:42:02.914903",
     "status": "completed"
    },
    "tags": []
   },
   "outputs": [],
   "source": [
    "NULL_DIR = conf.RESULTS[\"CLUSTERING_NULL_DIR\"] / \"shuffle_genes\""
   ]
  },
  {
   "cell_type": "markdown",
   "id": "ffcbae0e",
   "metadata": {
    "papermill": {
     "duration": 0.0064,
     "end_time": "2022-11-25T04:42:02.952932",
     "exception": false,
     "start_time": "2022-11-25T04:42:02.946532",
     "status": "completed"
    },
    "tags": []
   },
   "source": [
    "## Input data"
   ]
  },
  {
   "cell_type": "code",
   "execution_count": 8,
   "id": "8e43efdd",
   "metadata": {
    "execution": {
     "iopub.execute_input": "2022-11-25T04:42:02.966084Z",
     "iopub.status.busy": "2022-11-25T04:42:02.965930Z",
     "iopub.status.idle": "2022-11-25T04:42:02.983072Z",
     "shell.execute_reply": "2022-11-25T04:42:02.982625Z"
    },
    "papermill": {
     "duration": 0.024741,
     "end_time": "2022-11-25T04:42:02.983901",
     "exception": false,
     "start_time": "2022-11-25T04:42:02.959160",
     "status": "completed"
    },
    "tags": []
   },
   "outputs": [],
   "source": [
    "INPUT_SUBSET = \"z_score_std\""
   ]
  },
  {
   "cell_type": "code",
   "execution_count": 9,
   "id": "249ac745",
   "metadata": {
    "execution": {
     "iopub.execute_input": "2022-11-25T04:42:02.997176Z",
     "iopub.status.busy": "2022-11-25T04:42:02.997020Z",
     "iopub.status.idle": "2022-11-25T04:42:03.014108Z",
     "shell.execute_reply": "2022-11-25T04:42:03.013659Z"
    },
    "papermill": {
     "duration": 0.024814,
     "end_time": "2022-11-25T04:42:03.014918",
     "exception": false,
     "start_time": "2022-11-25T04:42:02.990104",
     "status": "completed"
    },
    "tags": []
   },
   "outputs": [],
   "source": [
    "INPUT_STEM = \"projection-smultixcan-efo_partial-mashr-zscores\""
   ]
  },
  {
   "cell_type": "code",
   "execution_count": 10,
   "id": "e2284187",
   "metadata": {
    "execution": {
     "iopub.execute_input": "2022-11-25T04:42:03.028213Z",
     "iopub.status.busy": "2022-11-25T04:42:03.027892Z",
     "iopub.status.idle": "2022-11-25T04:42:03.047865Z",
     "shell.execute_reply": "2022-11-25T04:42:03.047416Z"
    },
    "papermill": {
     "duration": 0.027574,
     "end_time": "2022-11-25T04:42:03.048718",
     "exception": false,
     "start_time": "2022-11-25T04:42:03.021144",
     "status": "completed"
    },
    "tags": []
   },
   "outputs": [
    {
     "data": {
      "text/plain": [
       "PosixPath('/opt/data/results/clustering/null_sims/shuffle_genes/data_transformations/z_score_std/z_score_std-projection-smultixcan-efo_partial-mashr-zscores.pkl')"
      ]
     },
     "metadata": {},
     "output_type": "display_data"
    },
    {
     "data": {
      "text/plain": [
       "'z_score_std-projection-smultixcan-efo_partial-mashr-zscores'"
      ]
     },
     "metadata": {},
     "output_type": "display_data"
    }
   ],
   "source": [
    "input_filepath = Path(\n",
    "    NULL_DIR,\n",
    "    \"data_transformations\",\n",
    "    INPUT_SUBSET,\n",
    "    f\"{INPUT_SUBSET}-{INPUT_STEM}.pkl\",\n",
    ").resolve()\n",
    "display(input_filepath)\n",
    "\n",
    "assert input_filepath.exists(), \"Input file does not exist\"\n",
    "\n",
    "input_filepath_stem = input_filepath.stem\n",
    "display(input_filepath_stem)"
   ]
  },
  {
   "cell_type": "markdown",
   "id": "95134d20",
   "metadata": {
    "papermill": {
     "duration": 0.006207,
     "end_time": "2022-11-25T04:42:03.061493",
     "exception": false,
     "start_time": "2022-11-25T04:42:03.055286",
     "status": "completed"
    },
    "tags": []
   },
   "source": [
    "## Clustering"
   ]
  },
  {
   "cell_type": "code",
   "execution_count": 11,
   "id": "4a2e3595",
   "metadata": {
    "execution": {
     "iopub.execute_input": "2022-11-25T04:42:03.074898Z",
     "iopub.status.busy": "2022-11-25T04:42:03.074730Z",
     "iopub.status.idle": "2022-11-25T04:42:03.159781Z",
     "shell.execute_reply": "2022-11-25T04:42:03.159368Z"
    },
    "papermill": {
     "duration": 0.0933,
     "end_time": "2022-11-25T04:42:03.161088",
     "exception": false,
     "start_time": "2022-11-25T04:42:03.067788",
     "status": "completed"
    },
    "tags": []
   },
   "outputs": [],
   "source": [
    "from sklearn.cluster import SpectralClustering"
   ]
  },
  {
   "cell_type": "code",
   "execution_count": 12,
   "id": "2498716e",
   "metadata": {
    "execution": {
     "iopub.execute_input": "2022-11-25T04:42:03.186215Z",
     "iopub.status.busy": "2022-11-25T04:42:03.186107Z",
     "iopub.status.idle": "2022-11-25T04:42:03.198375Z",
     "shell.execute_reply": "2022-11-25T04:42:03.198013Z"
    },
    "papermill": {
     "duration": 0.025955,
     "end_time": "2022-11-25T04:42:03.199574",
     "exception": false,
     "start_time": "2022-11-25T04:42:03.173619",
     "status": "completed"
    },
    "tags": []
   },
   "outputs": [],
   "source": [
    "CLUSTERING_ATTRIBUTES_TO_SAVE = [\"n_clusters\"]"
   ]
  },
  {
   "cell_type": "code",
   "execution_count": 13,
   "id": "0769dc6f",
   "metadata": {
    "execution": {
     "iopub.execute_input": "2022-11-25T04:42:03.224767Z",
     "iopub.status.busy": "2022-11-25T04:42:03.224623Z",
     "iopub.status.idle": "2022-11-25T04:42:03.244748Z",
     "shell.execute_reply": "2022-11-25T04:42:03.244308Z"
    },
    "papermill": {
     "duration": 0.034414,
     "end_time": "2022-11-25T04:42:03.246059",
     "exception": false,
     "start_time": "2022-11-25T04:42:03.211645",
     "status": "completed"
    },
    "tags": []
   },
   "outputs": [
    {
     "data": {
      "text/plain": [
       "{'K_MIN': 2,\n",
       " 'K_MAX': 60,\n",
       " 'N_REPS_PER_K': 5,\n",
       " 'KMEANS_N_INIT': 10,\n",
       " 'GAMMA': 0.001,\n",
       " 'AFFINITY': 'rbf'}"
      ]
     },
     "metadata": {},
     "output_type": "display_data"
    }
   ],
   "source": [
    "CLUSTERING_OPTIONS = {}\n",
    "\n",
    "CLUSTERING_OPTIONS[\"K_MIN\"] = 2\n",
    "CLUSTERING_OPTIONS[\"K_MAX\"] = 60  # sqrt(3749)\n",
    "CLUSTERING_OPTIONS[\"N_REPS_PER_K\"] = 5\n",
    "CLUSTERING_OPTIONS[\"KMEANS_N_INIT\"] = 10\n",
    "CLUSTERING_OPTIONS[\"GAMMA\"] = 1.0e-03\n",
    "CLUSTERING_OPTIONS[\"AFFINITY\"] = \"rbf\"\n",
    "\n",
    "display(CLUSTERING_OPTIONS)"
   ]
  },
  {
   "cell_type": "code",
   "execution_count": 14,
   "id": "c1f431fb",
   "metadata": {
    "execution": {
     "iopub.execute_input": "2022-11-25T04:42:03.271278Z",
     "iopub.status.busy": "2022-11-25T04:42:03.271120Z",
     "iopub.status.idle": "2022-11-25T04:42:03.293644Z",
     "shell.execute_reply": "2022-11-25T04:42:03.293191Z"
    },
    "papermill": {
     "duration": 0.036579,
     "end_time": "2022-11-25T04:42:03.294969",
     "exception": false,
     "start_time": "2022-11-25T04:42:03.258390",
     "status": "completed"
    },
    "tags": []
   },
   "outputs": [],
   "source": [
    "CLUSTERERS = {}\n",
    "\n",
    "idx = 0\n",
    "random_state = INITIAL_RANDOM_STATE\n",
    "\n",
    "for k in range(CLUSTERING_OPTIONS[\"K_MIN\"], CLUSTERING_OPTIONS[\"K_MAX\"] + 1):\n",
    "    for i in range(CLUSTERING_OPTIONS[\"N_REPS_PER_K\"]):\n",
    "        clus = SpectralClustering(\n",
    "            eigen_solver=\"arpack\",\n",
    "            n_clusters=k,\n",
    "            n_init=CLUSTERING_OPTIONS[\"KMEANS_N_INIT\"],\n",
    "            affinity=CLUSTERING_OPTIONS[\"AFFINITY\"],\n",
    "            gamma=CLUSTERING_OPTIONS[\"GAMMA\"],\n",
    "            random_state=random_state,\n",
    "        )\n",
    "\n",
    "        method_name = type(clus).__name__\n",
    "        CLUSTERERS[f\"{method_name} #{idx}\"] = clus\n",
    "\n",
    "        random_state = random_state + 1\n",
    "        idx = idx + 1"
   ]
  },
  {
   "cell_type": "code",
   "execution_count": 15,
   "id": "d4834a14",
   "metadata": {
    "execution": {
     "iopub.execute_input": "2022-11-25T04:42:03.320583Z",
     "iopub.status.busy": "2022-11-25T04:42:03.320418Z",
     "iopub.status.idle": "2022-11-25T04:42:03.340098Z",
     "shell.execute_reply": "2022-11-25T04:42:03.339661Z"
    },
    "papermill": {
     "duration": 0.03384,
     "end_time": "2022-11-25T04:42:03.341495",
     "exception": false,
     "start_time": "2022-11-25T04:42:03.307655",
     "status": "completed"
    },
    "tags": []
   },
   "outputs": [
    {
     "data": {
      "text/plain": [
       "295"
      ]
     },
     "metadata": {},
     "output_type": "display_data"
    }
   ],
   "source": [
    "display(len(CLUSTERERS))"
   ]
  },
  {
   "cell_type": "code",
   "execution_count": 16,
   "id": "7bb148cc",
   "metadata": {
    "execution": {
     "iopub.execute_input": "2022-11-25T04:42:03.366694Z",
     "iopub.status.busy": "2022-11-25T04:42:03.366544Z",
     "iopub.status.idle": "2022-11-25T04:42:03.388668Z",
     "shell.execute_reply": "2022-11-25T04:42:03.388161Z"
    },
    "papermill": {
     "duration": 0.036184,
     "end_time": "2022-11-25T04:42:03.389962",
     "exception": false,
     "start_time": "2022-11-25T04:42:03.353778",
     "status": "completed"
    },
    "tags": []
   },
   "outputs": [
    {
     "data": {
      "text/plain": [
       "('SpectralClustering #0',\n",
       " SpectralClustering(eigen_solver='arpack', gamma=0.001, n_clusters=2,\n",
       "                    random_state=30000))"
      ]
     },
     "metadata": {},
     "output_type": "display_data"
    },
    {
     "data": {
      "text/plain": [
       "('SpectralClustering #1',\n",
       " SpectralClustering(eigen_solver='arpack', gamma=0.001, n_clusters=2,\n",
       "                    random_state=30001))"
      ]
     },
     "metadata": {},
     "output_type": "display_data"
    }
   ],
   "source": [
    "_iter = iter(CLUSTERERS.items())\n",
    "display(next(_iter))\n",
    "display(next(_iter))"
   ]
  },
  {
   "cell_type": "code",
   "execution_count": 17,
   "id": "92619f83",
   "metadata": {
    "execution": {
     "iopub.execute_input": "2022-11-25T04:42:03.416229Z",
     "iopub.status.busy": "2022-11-25T04:42:03.415870Z",
     "iopub.status.idle": "2022-11-25T04:42:03.435414Z",
     "shell.execute_reply": "2022-11-25T04:42:03.434985Z"
    },
    "papermill": {
     "duration": 0.033764,
     "end_time": "2022-11-25T04:42:03.436689",
     "exception": false,
     "start_time": "2022-11-25T04:42:03.402925",
     "status": "completed"
    },
    "tags": []
   },
   "outputs": [
    {
     "data": {
      "text/plain": [
       "'SpectralClustering'"
      ]
     },
     "metadata": {},
     "output_type": "display_data"
    }
   ],
   "source": [
    "clustering_method_name = method_name\n",
    "display(clustering_method_name)"
   ]
  },
  {
   "cell_type": "markdown",
   "id": "b0bc30ae",
   "metadata": {
    "papermill": {
     "duration": 0.012661,
     "end_time": "2022-11-25T04:42:03.462074",
     "exception": false,
     "start_time": "2022-11-25T04:42:03.449413",
     "status": "completed"
    },
    "tags": []
   },
   "source": [
    "## Output directory"
   ]
  },
  {
   "cell_type": "code",
   "execution_count": 18,
   "id": "1acd4fab",
   "metadata": {
    "execution": {
     "iopub.execute_input": "2022-11-25T04:42:03.487392Z",
     "iopub.status.busy": "2022-11-25T04:42:03.487243Z",
     "iopub.status.idle": "2022-11-25T04:42:03.507396Z",
     "shell.execute_reply": "2022-11-25T04:42:03.506963Z"
    },
    "papermill": {
     "duration": 0.033544,
     "end_time": "2022-11-25T04:42:03.508179",
     "exception": false,
     "start_time": "2022-11-25T04:42:03.474635",
     "status": "completed"
    },
    "tags": []
   },
   "outputs": [
    {
     "data": {
      "text/plain": [
       "PosixPath('/opt/data/results/clustering/null_sims/shuffle_genes/runs/z_score_std-projection-smultixcan-efo_partial-mashr-zscores')"
      ]
     },
     "metadata": {},
     "output_type": "display_data"
    }
   ],
   "source": [
    "# output dir for this notebook\n",
    "RESULTS_DIR = Path(\n",
    "    NULL_DIR,\n",
    "    \"runs\",\n",
    "    f\"{INPUT_SUBSET}-{INPUT_STEM}\",\n",
    ").resolve()\n",
    "RESULTS_DIR.mkdir(parents=True, exist_ok=True)\n",
    "\n",
    "display(RESULTS_DIR)"
   ]
  },
  {
   "cell_type": "markdown",
   "id": "93d0ea08",
   "metadata": {
    "papermill": {
     "duration": 0.0065,
     "end_time": "2022-11-25T04:42:03.521509",
     "exception": false,
     "start_time": "2022-11-25T04:42:03.515009",
     "status": "completed"
    },
    "tags": []
   },
   "source": [
    "# Load input file"
   ]
  },
  {
   "cell_type": "code",
   "execution_count": 19,
   "id": "1f832cf4",
   "metadata": {
    "execution": {
     "iopub.execute_input": "2022-11-25T04:42:03.535815Z",
     "iopub.status.busy": "2022-11-25T04:42:03.535415Z",
     "iopub.status.idle": "2022-11-25T04:42:03.571878Z",
     "shell.execute_reply": "2022-11-25T04:42:03.571353Z"
    },
    "papermill": {
     "duration": 0.044698,
     "end_time": "2022-11-25T04:42:03.572830",
     "exception": false,
     "start_time": "2022-11-25T04:42:03.528132",
     "status": "completed"
    },
    "tags": []
   },
   "outputs": [],
   "source": [
    "data = pd.read_pickle(input_filepath)"
   ]
  },
  {
   "cell_type": "code",
   "execution_count": 20,
   "id": "a4f834a9",
   "metadata": {
    "execution": {
     "iopub.execute_input": "2022-11-25T04:42:03.586771Z",
     "iopub.status.busy": "2022-11-25T04:42:03.586616Z",
     "iopub.status.idle": "2022-11-25T04:42:03.607334Z",
     "shell.execute_reply": "2022-11-25T04:42:03.606890Z"
    },
    "papermill": {
     "duration": 0.028672,
     "end_time": "2022-11-25T04:42:03.608125",
     "exception": false,
     "start_time": "2022-11-25T04:42:03.579453",
     "status": "completed"
    },
    "tags": []
   },
   "outputs": [
    {
     "data": {
      "text/plain": [
       "(3752, 987)"
      ]
     },
     "execution_count": 20,
     "metadata": {},
     "output_type": "execute_result"
    }
   ],
   "source": [
    "data.shape"
   ]
  },
  {
   "cell_type": "code",
   "execution_count": 21,
   "id": "f87fed6a",
   "metadata": {
    "execution": {
     "iopub.execute_input": "2022-11-25T04:42:03.622297Z",
     "iopub.status.busy": "2022-11-25T04:42:03.622140Z",
     "iopub.status.idle": "2022-11-25T04:42:03.658231Z",
     "shell.execute_reply": "2022-11-25T04:42:03.657784Z"
    },
    "papermill": {
     "duration": 0.044776,
     "end_time": "2022-11-25T04:42:03.659521",
     "exception": false,
     "start_time": "2022-11-25T04:42:03.614745",
     "status": "completed"
    },
    "tags": []
   },
   "outputs": [
    {
     "data": {
      "text/html": [
       "<div>\n",
       "<style scoped>\n",
       "    .dataframe tbody tr th:only-of-type {\n",
       "        vertical-align: middle;\n",
       "    }\n",
       "\n",
       "    .dataframe tbody tr th {\n",
       "        vertical-align: top;\n",
       "    }\n",
       "\n",
       "    .dataframe thead th {\n",
       "        text-align: right;\n",
       "    }\n",
       "</style>\n",
       "<table border=\"1\" class=\"dataframe\">\n",
       "  <thead>\n",
       "    <tr style=\"text-align: right;\">\n",
       "      <th></th>\n",
       "      <th>LV1</th>\n",
       "      <th>LV2</th>\n",
       "      <th>LV3</th>\n",
       "      <th>LV4</th>\n",
       "      <th>LV5</th>\n",
       "      <th>LV6</th>\n",
       "      <th>LV7</th>\n",
       "      <th>LV8</th>\n",
       "      <th>LV9</th>\n",
       "      <th>LV10</th>\n",
       "      <th>...</th>\n",
       "      <th>LV978</th>\n",
       "      <th>LV979</th>\n",
       "      <th>LV980</th>\n",
       "      <th>LV981</th>\n",
       "      <th>LV982</th>\n",
       "      <th>LV983</th>\n",
       "      <th>LV984</th>\n",
       "      <th>LV985</th>\n",
       "      <th>LV986</th>\n",
       "      <th>LV987</th>\n",
       "    </tr>\n",
       "  </thead>\n",
       "  <tbody>\n",
       "    <tr>\n",
       "      <th>100001_raw-Food_weight</th>\n",
       "      <td>-0.175043</td>\n",
       "      <td>-0.710171</td>\n",
       "      <td>-1.000846</td>\n",
       "      <td>0.693026</td>\n",
       "      <td>0.409413</td>\n",
       "      <td>0.642958</td>\n",
       "      <td>1.767862</td>\n",
       "      <td>-1.070425</td>\n",
       "      <td>0.809395</td>\n",
       "      <td>-1.555050</td>\n",
       "      <td>...</td>\n",
       "      <td>-0.932802</td>\n",
       "      <td>0.371349</td>\n",
       "      <td>-0.521787</td>\n",
       "      <td>-0.881136</td>\n",
       "      <td>-1.193309</td>\n",
       "      <td>-0.257883</td>\n",
       "      <td>1.382268</td>\n",
       "      <td>0.066549</td>\n",
       "      <td>-0.866086</td>\n",
       "      <td>0.847997</td>\n",
       "    </tr>\n",
       "    <tr>\n",
       "      <th>100002_raw-Energy</th>\n",
       "      <td>0.531227</td>\n",
       "      <td>0.894062</td>\n",
       "      <td>1.191552</td>\n",
       "      <td>-0.143922</td>\n",
       "      <td>0.217867</td>\n",
       "      <td>0.529878</td>\n",
       "      <td>0.219561</td>\n",
       "      <td>-1.538143</td>\n",
       "      <td>-0.166704</td>\n",
       "      <td>1.042749</td>\n",
       "      <td>...</td>\n",
       "      <td>-0.601329</td>\n",
       "      <td>0.625139</td>\n",
       "      <td>-0.113048</td>\n",
       "      <td>-1.477163</td>\n",
       "      <td>0.746773</td>\n",
       "      <td>0.316892</td>\n",
       "      <td>-0.660407</td>\n",
       "      <td>1.501067</td>\n",
       "      <td>0.543744</td>\n",
       "      <td>1.094294</td>\n",
       "    </tr>\n",
       "    <tr>\n",
       "      <th>100003_raw-Protein</th>\n",
       "      <td>0.405395</td>\n",
       "      <td>0.925288</td>\n",
       "      <td>-0.339507</td>\n",
       "      <td>0.799476</td>\n",
       "      <td>-0.512075</td>\n",
       "      <td>0.586632</td>\n",
       "      <td>0.361706</td>\n",
       "      <td>0.226860</td>\n",
       "      <td>1.208289</td>\n",
       "      <td>-1.880931</td>\n",
       "      <td>...</td>\n",
       "      <td>-0.489171</td>\n",
       "      <td>0.276717</td>\n",
       "      <td>-0.159505</td>\n",
       "      <td>-1.271106</td>\n",
       "      <td>0.300351</td>\n",
       "      <td>0.595915</td>\n",
       "      <td>0.509020</td>\n",
       "      <td>-0.127540</td>\n",
       "      <td>-0.811987</td>\n",
       "      <td>-1.108812</td>\n",
       "    </tr>\n",
       "    <tr>\n",
       "      <th>100004_raw-Fat</th>\n",
       "      <td>-0.156230</td>\n",
       "      <td>0.881426</td>\n",
       "      <td>0.395527</td>\n",
       "      <td>-1.570256</td>\n",
       "      <td>1.240955</td>\n",
       "      <td>2.064595</td>\n",
       "      <td>-0.547373</td>\n",
       "      <td>-1.228389</td>\n",
       "      <td>0.319684</td>\n",
       "      <td>0.858253</td>\n",
       "      <td>...</td>\n",
       "      <td>-0.407151</td>\n",
       "      <td>-1.217662</td>\n",
       "      <td>-0.361052</td>\n",
       "      <td>0.813221</td>\n",
       "      <td>-0.692981</td>\n",
       "      <td>1.099523</td>\n",
       "      <td>-0.017366</td>\n",
       "      <td>0.361278</td>\n",
       "      <td>-0.017222</td>\n",
       "      <td>1.750511</td>\n",
       "    </tr>\n",
       "    <tr>\n",
       "      <th>100005_raw-Carbohydrate</th>\n",
       "      <td>-0.142531</td>\n",
       "      <td>-0.521907</td>\n",
       "      <td>1.069304</td>\n",
       "      <td>0.548122</td>\n",
       "      <td>-0.422146</td>\n",
       "      <td>-1.330718</td>\n",
       "      <td>-1.260872</td>\n",
       "      <td>1.003617</td>\n",
       "      <td>1.266289</td>\n",
       "      <td>0.065408</td>\n",
       "      <td>...</td>\n",
       "      <td>1.506698</td>\n",
       "      <td>-0.069854</td>\n",
       "      <td>-0.084662</td>\n",
       "      <td>-1.269536</td>\n",
       "      <td>-0.421185</td>\n",
       "      <td>0.431180</td>\n",
       "      <td>1.673162</td>\n",
       "      <td>-0.954336</td>\n",
       "      <td>0.026593</td>\n",
       "      <td>0.655359</td>\n",
       "    </tr>\n",
       "  </tbody>\n",
       "</table>\n",
       "<p>5 rows × 987 columns</p>\n",
       "</div>"
      ],
      "text/plain": [
       "                              LV1       LV2       LV3       LV4       LV5  \\\n",
       "100001_raw-Food_weight  -0.175043 -0.710171 -1.000846  0.693026  0.409413   \n",
       "100002_raw-Energy        0.531227  0.894062  1.191552 -0.143922  0.217867   \n",
       "100003_raw-Protein       0.405395  0.925288 -0.339507  0.799476 -0.512075   \n",
       "100004_raw-Fat          -0.156230  0.881426  0.395527 -1.570256  1.240955   \n",
       "100005_raw-Carbohydrate -0.142531 -0.521907  1.069304  0.548122 -0.422146   \n",
       "\n",
       "                              LV6       LV7       LV8       LV9      LV10  \\\n",
       "100001_raw-Food_weight   0.642958  1.767862 -1.070425  0.809395 -1.555050   \n",
       "100002_raw-Energy        0.529878  0.219561 -1.538143 -0.166704  1.042749   \n",
       "100003_raw-Protein       0.586632  0.361706  0.226860  1.208289 -1.880931   \n",
       "100004_raw-Fat           2.064595 -0.547373 -1.228389  0.319684  0.858253   \n",
       "100005_raw-Carbohydrate -1.330718 -1.260872  1.003617  1.266289  0.065408   \n",
       "\n",
       "                         ...     LV978     LV979     LV980     LV981  \\\n",
       "100001_raw-Food_weight   ... -0.932802  0.371349 -0.521787 -0.881136   \n",
       "100002_raw-Energy        ... -0.601329  0.625139 -0.113048 -1.477163   \n",
       "100003_raw-Protein       ... -0.489171  0.276717 -0.159505 -1.271106   \n",
       "100004_raw-Fat           ... -0.407151 -1.217662 -0.361052  0.813221   \n",
       "100005_raw-Carbohydrate  ...  1.506698 -0.069854 -0.084662 -1.269536   \n",
       "\n",
       "                            LV982     LV983     LV984     LV985     LV986  \\\n",
       "100001_raw-Food_weight  -1.193309 -0.257883  1.382268  0.066549 -0.866086   \n",
       "100002_raw-Energy        0.746773  0.316892 -0.660407  1.501067  0.543744   \n",
       "100003_raw-Protein       0.300351  0.595915  0.509020 -0.127540 -0.811987   \n",
       "100004_raw-Fat          -0.692981  1.099523 -0.017366  0.361278 -0.017222   \n",
       "100005_raw-Carbohydrate -0.421185  0.431180  1.673162 -0.954336  0.026593   \n",
       "\n",
       "                            LV987  \n",
       "100001_raw-Food_weight   0.847997  \n",
       "100002_raw-Energy        1.094294  \n",
       "100003_raw-Protein      -1.108812  \n",
       "100004_raw-Fat           1.750511  \n",
       "100005_raw-Carbohydrate  0.655359  \n",
       "\n",
       "[5 rows x 987 columns]"
      ]
     },
     "execution_count": 21,
     "metadata": {},
     "output_type": "execute_result"
    }
   ],
   "source": [
    "data.head()"
   ]
  },
  {
   "cell_type": "code",
   "execution_count": 22,
   "id": "a293936e",
   "metadata": {
    "execution": {
     "iopub.execute_input": "2022-11-25T04:42:03.686804Z",
     "iopub.status.busy": "2022-11-25T04:42:03.686650Z",
     "iopub.status.idle": "2022-11-25T04:42:03.713305Z",
     "shell.execute_reply": "2022-11-25T04:42:03.712795Z"
    },
    "papermill": {
     "duration": 0.041938,
     "end_time": "2022-11-25T04:42:03.714621",
     "exception": false,
     "start_time": "2022-11-25T04:42:03.672683",
     "status": "completed"
    },
    "tags": []
   },
   "outputs": [],
   "source": [
    "assert not data.isna().any().any()"
   ]
  },
  {
   "cell_type": "markdown",
   "id": "3226dada",
   "metadata": {
    "papermill": {
     "duration": 0.01285,
     "end_time": "2022-11-25T04:42:03.740541",
     "exception": false,
     "start_time": "2022-11-25T04:42:03.727691",
     "status": "completed"
    },
    "tags": []
   },
   "source": [
    "# Clustering"
   ]
  },
  {
   "cell_type": "markdown",
   "id": "cc6d4b0b",
   "metadata": {
    "papermill": {
     "duration": 0.013496,
     "end_time": "2022-11-25T04:42:03.767396",
     "exception": false,
     "start_time": "2022-11-25T04:42:03.753900",
     "status": "completed"
    },
    "tags": []
   },
   "source": [
    "## Generate ensemble"
   ]
  },
  {
   "cell_type": "code",
   "execution_count": 23,
   "id": "228c0041",
   "metadata": {
    "execution": {
     "iopub.execute_input": "2022-11-25T04:42:03.786724Z",
     "iopub.status.busy": "2022-11-25T04:42:03.786281Z",
     "iopub.status.idle": "2022-11-25T04:42:03.810779Z",
     "shell.execute_reply": "2022-11-25T04:42:03.810320Z"
    },
    "papermill": {
     "duration": 0.033031,
     "end_time": "2022-11-25T04:42:03.811602",
     "exception": false,
     "start_time": "2022-11-25T04:42:03.778571",
     "status": "completed"
    },
    "tags": []
   },
   "outputs": [],
   "source": [
    "from clustering.ensembles.utils import generate_ensemble"
   ]
  },
  {
   "cell_type": "code",
   "execution_count": 24,
   "id": "cf4263e9",
   "metadata": {
    "execution": {
     "iopub.execute_input": "2022-11-25T04:42:03.826102Z",
     "iopub.status.busy": "2022-11-25T04:42:03.825748Z",
     "iopub.status.idle": "2022-11-25T04:53:14.020807Z",
     "shell.execute_reply": "2022-11-25T04:53:14.020541Z"
    },
    "papermill": {
     "duration": 670.203678,
     "end_time": "2022-11-25T04:53:14.022074",
     "exception": false,
     "start_time": "2022-11-25T04:42:03.818396",
     "status": "completed"
    },
    "tags": []
   },
   "outputs": [
    {
     "name": "stderr",
     "output_type": "stream",
     "text": [
      "100%|██████████| 295/295 [11:10<00:00,  2.27s/it]\n"
     ]
    }
   ],
   "source": [
    "ensemble = generate_ensemble(\n",
    "    data,\n",
    "    CLUSTERERS,\n",
    "    attributes=CLUSTERING_ATTRIBUTES_TO_SAVE,\n",
    ")"
   ]
  },
  {
   "cell_type": "code",
   "execution_count": 25,
   "id": "b6e54451",
   "metadata": {
    "execution": {
     "iopub.execute_input": "2022-11-25T04:53:14.082876Z",
     "iopub.status.busy": "2022-11-25T04:53:14.082615Z",
     "iopub.status.idle": "2022-11-25T04:53:14.101348Z",
     "shell.execute_reply": "2022-11-25T04:53:14.101048Z"
    },
    "papermill": {
     "duration": 0.049794,
     "end_time": "2022-11-25T04:53:14.102584",
     "exception": false,
     "start_time": "2022-11-25T04:53:14.052790",
     "status": "completed"
    },
    "tags": []
   },
   "outputs": [
    {
     "data": {
      "text/plain": [
       "(295, 3)"
      ]
     },
     "execution_count": 25,
     "metadata": {},
     "output_type": "execute_result"
    }
   ],
   "source": [
    "# the number should be close to 295 (the number of partitions generated by k-means/spectral clustering)\n",
    "ensemble.shape"
   ]
  },
  {
   "cell_type": "code",
   "execution_count": 26,
   "id": "09393ac6",
   "metadata": {
    "execution": {
     "iopub.execute_input": "2022-11-25T04:53:14.155287Z",
     "iopub.status.busy": "2022-11-25T04:53:14.154942Z",
     "iopub.status.idle": "2022-11-25T04:53:14.185147Z",
     "shell.execute_reply": "2022-11-25T04:53:14.184830Z"
    },
    "papermill": {
     "duration": 0.05362,
     "end_time": "2022-11-25T04:53:14.185874",
     "exception": false,
     "start_time": "2022-11-25T04:53:14.132254",
     "status": "completed"
    },
    "tags": []
   },
   "outputs": [
    {
     "data": {
      "text/html": [
       "<div>\n",
       "<style scoped>\n",
       "    .dataframe tbody tr th:only-of-type {\n",
       "        vertical-align: middle;\n",
       "    }\n",
       "\n",
       "    .dataframe tbody tr th {\n",
       "        vertical-align: top;\n",
       "    }\n",
       "\n",
       "    .dataframe thead th {\n",
       "        text-align: right;\n",
       "    }\n",
       "</style>\n",
       "<table border=\"1\" class=\"dataframe\">\n",
       "  <thead>\n",
       "    <tr style=\"text-align: right;\">\n",
       "      <th></th>\n",
       "      <th>clusterer_params</th>\n",
       "      <th>partition</th>\n",
       "      <th>n_clusters</th>\n",
       "    </tr>\n",
       "    <tr>\n",
       "      <th>clusterer_id</th>\n",
       "      <th></th>\n",
       "      <th></th>\n",
       "      <th></th>\n",
       "    </tr>\n",
       "  </thead>\n",
       "  <tbody>\n",
       "    <tr>\n",
       "      <th>SpectralClustering #0</th>\n",
       "      <td>{'affinity': 'rbf', 'assign_labels': 'kmeans',...</td>\n",
       "      <td>[1.0, 1.0, 1.0, 0.0, 0.0, 0.0, 0.0, 0.0, 0.0, ...</td>\n",
       "      <td>2</td>\n",
       "    </tr>\n",
       "    <tr>\n",
       "      <th>SpectralClustering #1</th>\n",
       "      <td>{'affinity': 'rbf', 'assign_labels': 'kmeans',...</td>\n",
       "      <td>[0.0, 0.0, 0.0, 1.0, 1.0, 1.0, 1.0, 1.0, 1.0, ...</td>\n",
       "      <td>2</td>\n",
       "    </tr>\n",
       "    <tr>\n",
       "      <th>SpectralClustering #2</th>\n",
       "      <td>{'affinity': 'rbf', 'assign_labels': 'kmeans',...</td>\n",
       "      <td>[0.0, 0.0, 0.0, 1.0, 1.0, 1.0, 1.0, 1.0, 1.0, ...</td>\n",
       "      <td>2</td>\n",
       "    </tr>\n",
       "    <tr>\n",
       "      <th>SpectralClustering #3</th>\n",
       "      <td>{'affinity': 'rbf', 'assign_labels': 'kmeans',...</td>\n",
       "      <td>[0.0, 0.0, 0.0, 1.0, 1.0, 1.0, 1.0, 1.0, 1.0, ...</td>\n",
       "      <td>2</td>\n",
       "    </tr>\n",
       "    <tr>\n",
       "      <th>SpectralClustering #4</th>\n",
       "      <td>{'affinity': 'rbf', 'assign_labels': 'kmeans',...</td>\n",
       "      <td>[0.0, 0.0, 0.0, 1.0, 1.0, 1.0, 1.0, 1.0, 1.0, ...</td>\n",
       "      <td>2</td>\n",
       "    </tr>\n",
       "  </tbody>\n",
       "</table>\n",
       "</div>"
      ],
      "text/plain": [
       "                                                        clusterer_params  \\\n",
       "clusterer_id                                                               \n",
       "SpectralClustering #0  {'affinity': 'rbf', 'assign_labels': 'kmeans',...   \n",
       "SpectralClustering #1  {'affinity': 'rbf', 'assign_labels': 'kmeans',...   \n",
       "SpectralClustering #2  {'affinity': 'rbf', 'assign_labels': 'kmeans',...   \n",
       "SpectralClustering #3  {'affinity': 'rbf', 'assign_labels': 'kmeans',...   \n",
       "SpectralClustering #4  {'affinity': 'rbf', 'assign_labels': 'kmeans',...   \n",
       "\n",
       "                                                               partition  \\\n",
       "clusterer_id                                                               \n",
       "SpectralClustering #0  [1.0, 1.0, 1.0, 0.0, 0.0, 0.0, 0.0, 0.0, 0.0, ...   \n",
       "SpectralClustering #1  [0.0, 0.0, 0.0, 1.0, 1.0, 1.0, 1.0, 1.0, 1.0, ...   \n",
       "SpectralClustering #2  [0.0, 0.0, 0.0, 1.0, 1.0, 1.0, 1.0, 1.0, 1.0, ...   \n",
       "SpectralClustering #3  [0.0, 0.0, 0.0, 1.0, 1.0, 1.0, 1.0, 1.0, 1.0, ...   \n",
       "SpectralClustering #4  [0.0, 0.0, 0.0, 1.0, 1.0, 1.0, 1.0, 1.0, 1.0, ...   \n",
       "\n",
       "                       n_clusters  \n",
       "clusterer_id                       \n",
       "SpectralClustering #0           2  \n",
       "SpectralClustering #1           2  \n",
       "SpectralClustering #2           2  \n",
       "SpectralClustering #3           2  \n",
       "SpectralClustering #4           2  "
      ]
     },
     "execution_count": 26,
     "metadata": {},
     "output_type": "execute_result"
    }
   ],
   "source": [
    "ensemble.head()"
   ]
  },
  {
   "cell_type": "code",
   "execution_count": 27,
   "id": "5dc7ef62",
   "metadata": {
    "execution": {
     "iopub.execute_input": "2022-11-25T04:53:14.215594Z",
     "iopub.status.busy": "2022-11-25T04:53:14.215243Z",
     "iopub.status.idle": "2022-11-25T04:53:14.236094Z",
     "shell.execute_reply": "2022-11-25T04:53:14.235787Z"
    },
    "papermill": {
     "duration": 0.036506,
     "end_time": "2022-11-25T04:53:14.236817",
     "exception": false,
     "start_time": "2022-11-25T04:53:14.200311",
     "status": "completed"
    },
    "tags": []
   },
   "outputs": [
    {
     "data": {
      "text/plain": [
       "60    5\n",
       "16    5\n",
       "28    5\n",
       "27    5\n",
       "26    5\n",
       "Name: n_clusters, dtype: int64"
      ]
     },
     "execution_count": 27,
     "metadata": {},
     "output_type": "execute_result"
    }
   ],
   "source": [
    "ensemble[\"n_clusters\"].value_counts().head()"
   ]
  },
  {
   "cell_type": "code",
   "execution_count": 28,
   "id": "b950b179",
   "metadata": {
    "execution": {
     "iopub.execute_input": "2022-11-25T04:53:14.266295Z",
     "iopub.status.busy": "2022-11-25T04:53:14.265994Z",
     "iopub.status.idle": "2022-11-25T04:53:14.288186Z",
     "shell.execute_reply": "2022-11-25T04:53:14.287870Z"
    },
    "papermill": {
     "duration": 0.037832,
     "end_time": "2022-11-25T04:53:14.288907",
     "exception": false,
     "start_time": "2022-11-25T04:53:14.251075",
     "status": "completed"
    },
    "tags": []
   },
   "outputs": [
    {
     "data": {
      "text/plain": [
       "count    295.000000\n",
       "mean      31.000000\n",
       "std       17.058323\n",
       "min        2.000000\n",
       "25%       16.000000\n",
       "50%       31.000000\n",
       "75%       46.000000\n",
       "max       60.000000\n",
       "Name: n_clusters, dtype: float64"
      ]
     },
     "metadata": {},
     "output_type": "display_data"
    }
   ],
   "source": [
    "ensemble_stats = ensemble[\"n_clusters\"].describe()\n",
    "display(ensemble_stats)"
   ]
  },
  {
   "cell_type": "markdown",
   "id": "db1f5758",
   "metadata": {
    "papermill": {
     "duration": 0.014487,
     "end_time": "2022-11-25T04:53:14.317936",
     "exception": false,
     "start_time": "2022-11-25T04:53:14.303449",
     "status": "completed"
    },
    "tags": []
   },
   "source": [
    "## Testing"
   ]
  },
  {
   "cell_type": "code",
   "execution_count": 29,
   "id": "fb13f8e0",
   "metadata": {
    "execution": {
     "iopub.execute_input": "2022-11-25T04:53:14.350460Z",
     "iopub.status.busy": "2022-11-25T04:53:14.350109Z",
     "iopub.status.idle": "2022-11-25T04:53:14.369277Z",
     "shell.execute_reply": "2022-11-25T04:53:14.368958Z"
    },
    "papermill": {
     "duration": 0.036083,
     "end_time": "2022-11-25T04:53:14.370091",
     "exception": false,
     "start_time": "2022-11-25T04:53:14.334008",
     "status": "completed"
    },
    "tags": []
   },
   "outputs": [],
   "source": [
    "assert ensemble_stats[\"min\"] > 1"
   ]
  },
  {
   "cell_type": "code",
   "execution_count": 30,
   "id": "6088526f",
   "metadata": {
    "execution": {
     "iopub.execute_input": "2022-11-25T04:53:14.402630Z",
     "iopub.status.busy": "2022-11-25T04:53:14.402275Z",
     "iopub.status.idle": "2022-11-25T04:53:14.422617Z",
     "shell.execute_reply": "2022-11-25T04:53:14.422300Z"
    },
    "papermill": {
     "duration": 0.037169,
     "end_time": "2022-11-25T04:53:14.423463",
     "exception": false,
     "start_time": "2022-11-25T04:53:14.386294",
     "status": "completed"
    },
    "tags": []
   },
   "outputs": [],
   "source": [
    "assert not ensemble[\"n_clusters\"].isna().any()"
   ]
  },
  {
   "cell_type": "code",
   "execution_count": 31,
   "id": "ca073971",
   "metadata": {
    "execution": {
     "iopub.execute_input": "2022-11-25T04:53:14.455765Z",
     "iopub.status.busy": "2022-11-25T04:53:14.455612Z",
     "iopub.status.idle": "2022-11-25T04:53:14.475757Z",
     "shell.execute_reply": "2022-11-25T04:53:14.475319Z"
    },
    "papermill": {
     "duration": 0.03713,
     "end_time": "2022-11-25T04:53:14.476735",
     "exception": false,
     "start_time": "2022-11-25T04:53:14.439605",
     "status": "completed"
    },
    "tags": []
   },
   "outputs": [],
   "source": [
    "assert ensemble.shape[0] == len(CLUSTERERS)"
   ]
  },
  {
   "cell_type": "code",
   "execution_count": 32,
   "id": "0229cdc5",
   "metadata": {
    "execution": {
     "iopub.execute_input": "2022-11-25T04:53:14.509280Z",
     "iopub.status.busy": "2022-11-25T04:53:14.509011Z",
     "iopub.status.idle": "2022-11-25T04:53:14.553964Z",
     "shell.execute_reply": "2022-11-25T04:53:14.553544Z"
    },
    "papermill": {
     "duration": 0.06308,
     "end_time": "2022-11-25T04:53:14.555635",
     "exception": false,
     "start_time": "2022-11-25T04:53:14.492555",
     "status": "completed"
    },
    "tags": []
   },
   "outputs": [],
   "source": [
    "# all partitions have the right size\n",
    "assert np.all(\n",
    "    [part[\"partition\"].shape[0] == data.shape[0] for idx, part in ensemble.iterrows()]\n",
    ")"
   ]
  },
  {
   "cell_type": "code",
   "execution_count": 33,
   "id": "78af0a18",
   "metadata": {
    "execution": {
     "iopub.execute_input": "2022-11-25T04:53:14.616040Z",
     "iopub.status.busy": "2022-11-25T04:53:14.615796Z",
     "iopub.status.idle": "2022-11-25T04:53:14.665817Z",
     "shell.execute_reply": "2022-11-25T04:53:14.665370Z"
    },
    "papermill": {
     "duration": 0.080133,
     "end_time": "2022-11-25T04:53:14.666711",
     "exception": false,
     "start_time": "2022-11-25T04:53:14.586578",
     "status": "completed"
    },
    "tags": []
   },
   "outputs": [],
   "source": [
    "# no partition has negative clusters (noisy points)\n",
    "assert not np.any([(part[\"partition\"] < 0).any() for idx, part in ensemble.iterrows()])"
   ]
  },
  {
   "cell_type": "markdown",
   "id": "a3bb54b4",
   "metadata": {
    "papermill": {
     "duration": 0.015298,
     "end_time": "2022-11-25T04:53:14.697756",
     "exception": false,
     "start_time": "2022-11-25T04:53:14.682458",
     "status": "completed"
    },
    "tags": []
   },
   "source": [
    "## Add clustering quality measures"
   ]
  },
  {
   "cell_type": "code",
   "execution_count": 34,
   "id": "98237d43",
   "metadata": {
    "execution": {
     "iopub.execute_input": "2022-11-25T04:53:14.728997Z",
     "iopub.status.busy": "2022-11-25T04:53:14.728695Z",
     "iopub.status.idle": "2022-11-25T04:53:14.749813Z",
     "shell.execute_reply": "2022-11-25T04:53:14.749411Z"
    },
    "papermill": {
     "duration": 0.037751,
     "end_time": "2022-11-25T04:53:14.750800",
     "exception": false,
     "start_time": "2022-11-25T04:53:14.713049",
     "status": "completed"
    },
    "tags": []
   },
   "outputs": [],
   "source": [
    "from sklearn.metrics import calinski_harabasz_score"
   ]
  },
  {
   "cell_type": "code",
   "execution_count": 35,
   "id": "cf71c996",
   "metadata": {
    "execution": {
     "iopub.execute_input": "2022-11-25T04:53:14.782048Z",
     "iopub.status.busy": "2022-11-25T04:53:14.781781Z",
     "iopub.status.idle": "2022-11-25T04:53:22.805949Z",
     "shell.execute_reply": "2022-11-25T04:53:22.805627Z"
    },
    "papermill": {
     "duration": 8.041436,
     "end_time": "2022-11-25T04:53:22.807492",
     "exception": false,
     "start_time": "2022-11-25T04:53:14.766056",
     "status": "completed"
    },
    "tags": []
   },
   "outputs": [],
   "source": [
    "ensemble = ensemble.assign(\n",
    "    ch_score=ensemble[\"partition\"].apply(lambda x: calinski_harabasz_score(data, x))\n",
    ")"
   ]
  },
  {
   "cell_type": "code",
   "execution_count": 36,
   "id": "735ab2f4",
   "metadata": {
    "execution": {
     "iopub.execute_input": "2022-11-25T04:53:22.864813Z",
     "iopub.status.busy": "2022-11-25T04:53:22.864714Z",
     "iopub.status.idle": "2022-11-25T04:53:22.877190Z",
     "shell.execute_reply": "2022-11-25T04:53:22.876916Z"
    },
    "papermill": {
     "duration": 0.042657,
     "end_time": "2022-11-25T04:53:22.878389",
     "exception": false,
     "start_time": "2022-11-25T04:53:22.835732",
     "status": "completed"
    },
    "tags": []
   },
   "outputs": [
    {
     "data": {
      "text/plain": [
       "(295, 4)"
      ]
     },
     "execution_count": 36,
     "metadata": {},
     "output_type": "execute_result"
    }
   ],
   "source": [
    "ensemble.shape"
   ]
  },
  {
   "cell_type": "code",
   "execution_count": 37,
   "id": "d3c18721",
   "metadata": {
    "execution": {
     "iopub.execute_input": "2022-11-25T04:53:22.927704Z",
     "iopub.status.busy": "2022-11-25T04:53:22.927606Z",
     "iopub.status.idle": "2022-11-25T04:53:22.957971Z",
     "shell.execute_reply": "2022-11-25T04:53:22.957606Z"
    },
    "papermill": {
     "duration": 0.052134,
     "end_time": "2022-11-25T04:53:22.958726",
     "exception": false,
     "start_time": "2022-11-25T04:53:22.906592",
     "status": "completed"
    },
    "tags": []
   },
   "outputs": [
    {
     "data": {
      "text/html": [
       "<div>\n",
       "<style scoped>\n",
       "    .dataframe tbody tr th:only-of-type {\n",
       "        vertical-align: middle;\n",
       "    }\n",
       "\n",
       "    .dataframe tbody tr th {\n",
       "        vertical-align: top;\n",
       "    }\n",
       "\n",
       "    .dataframe thead th {\n",
       "        text-align: right;\n",
       "    }\n",
       "</style>\n",
       "<table border=\"1\" class=\"dataframe\">\n",
       "  <thead>\n",
       "    <tr style=\"text-align: right;\">\n",
       "      <th></th>\n",
       "      <th>clusterer_params</th>\n",
       "      <th>partition</th>\n",
       "      <th>n_clusters</th>\n",
       "      <th>ch_score</th>\n",
       "    </tr>\n",
       "    <tr>\n",
       "      <th>clusterer_id</th>\n",
       "      <th></th>\n",
       "      <th></th>\n",
       "      <th></th>\n",
       "      <th></th>\n",
       "    </tr>\n",
       "  </thead>\n",
       "  <tbody>\n",
       "    <tr>\n",
       "      <th>SpectralClustering #0</th>\n",
       "      <td>{'affinity': 'rbf', 'assign_labels': 'kmeans',...</td>\n",
       "      <td>[1.0, 1.0, 1.0, 0.0, 0.0, 0.0, 0.0, 0.0, 0.0, ...</td>\n",
       "      <td>2</td>\n",
       "      <td>5.973352</td>\n",
       "    </tr>\n",
       "    <tr>\n",
       "      <th>SpectralClustering #1</th>\n",
       "      <td>{'affinity': 'rbf', 'assign_labels': 'kmeans',...</td>\n",
       "      <td>[0.0, 0.0, 0.0, 1.0, 1.0, 1.0, 1.0, 1.0, 1.0, ...</td>\n",
       "      <td>2</td>\n",
       "      <td>5.973352</td>\n",
       "    </tr>\n",
       "    <tr>\n",
       "      <th>SpectralClustering #2</th>\n",
       "      <td>{'affinity': 'rbf', 'assign_labels': 'kmeans',...</td>\n",
       "      <td>[0.0, 0.0, 0.0, 1.0, 1.0, 1.0, 1.0, 1.0, 1.0, ...</td>\n",
       "      <td>2</td>\n",
       "      <td>5.968104</td>\n",
       "    </tr>\n",
       "    <tr>\n",
       "      <th>SpectralClustering #3</th>\n",
       "      <td>{'affinity': 'rbf', 'assign_labels': 'kmeans',...</td>\n",
       "      <td>[0.0, 0.0, 0.0, 1.0, 1.0, 1.0, 1.0, 1.0, 1.0, ...</td>\n",
       "      <td>2</td>\n",
       "      <td>5.973352</td>\n",
       "    </tr>\n",
       "    <tr>\n",
       "      <th>SpectralClustering #4</th>\n",
       "      <td>{'affinity': 'rbf', 'assign_labels': 'kmeans',...</td>\n",
       "      <td>[0.0, 0.0, 0.0, 1.0, 1.0, 1.0, 1.0, 1.0, 1.0, ...</td>\n",
       "      <td>2</td>\n",
       "      <td>5.973352</td>\n",
       "    </tr>\n",
       "  </tbody>\n",
       "</table>\n",
       "</div>"
      ],
      "text/plain": [
       "                                                        clusterer_params  \\\n",
       "clusterer_id                                                               \n",
       "SpectralClustering #0  {'affinity': 'rbf', 'assign_labels': 'kmeans',...   \n",
       "SpectralClustering #1  {'affinity': 'rbf', 'assign_labels': 'kmeans',...   \n",
       "SpectralClustering #2  {'affinity': 'rbf', 'assign_labels': 'kmeans',...   \n",
       "SpectralClustering #3  {'affinity': 'rbf', 'assign_labels': 'kmeans',...   \n",
       "SpectralClustering #4  {'affinity': 'rbf', 'assign_labels': 'kmeans',...   \n",
       "\n",
       "                                                               partition  \\\n",
       "clusterer_id                                                               \n",
       "SpectralClustering #0  [1.0, 1.0, 1.0, 0.0, 0.0, 0.0, 0.0, 0.0, 0.0, ...   \n",
       "SpectralClustering #1  [0.0, 0.0, 0.0, 1.0, 1.0, 1.0, 1.0, 1.0, 1.0, ...   \n",
       "SpectralClustering #2  [0.0, 0.0, 0.0, 1.0, 1.0, 1.0, 1.0, 1.0, 1.0, ...   \n",
       "SpectralClustering #3  [0.0, 0.0, 0.0, 1.0, 1.0, 1.0, 1.0, 1.0, 1.0, ...   \n",
       "SpectralClustering #4  [0.0, 0.0, 0.0, 1.0, 1.0, 1.0, 1.0, 1.0, 1.0, ...   \n",
       "\n",
       "                       n_clusters  ch_score  \n",
       "clusterer_id                                 \n",
       "SpectralClustering #0           2  5.973352  \n",
       "SpectralClustering #1           2  5.973352  \n",
       "SpectralClustering #2           2  5.968104  \n",
       "SpectralClustering #3           2  5.973352  \n",
       "SpectralClustering #4           2  5.973352  "
      ]
     },
     "execution_count": 37,
     "metadata": {},
     "output_type": "execute_result"
    }
   ],
   "source": [
    "ensemble.head()"
   ]
  },
  {
   "cell_type": "markdown",
   "id": "4396b3e8",
   "metadata": {
    "papermill": {
     "duration": 0.022101,
     "end_time": "2022-11-25T04:53:23.003187",
     "exception": false,
     "start_time": "2022-11-25T04:53:22.981086",
     "status": "completed"
    },
    "tags": []
   },
   "source": [
    "## Save"
   ]
  },
  {
   "cell_type": "code",
   "execution_count": 38,
   "id": "f511de0b",
   "metadata": {
    "execution": {
     "iopub.execute_input": "2022-11-25T04:53:23.034711Z",
     "iopub.status.busy": "2022-11-25T04:53:23.034282Z",
     "iopub.status.idle": "2022-11-25T04:53:23.055655Z",
     "shell.execute_reply": "2022-11-25T04:53:23.055295Z"
    },
    "papermill": {
     "duration": 0.036956,
     "end_time": "2022-11-25T04:53:23.056414",
     "exception": false,
     "start_time": "2022-11-25T04:53:23.019458",
     "status": "completed"
    },
    "tags": []
   },
   "outputs": [
    {
     "data": {
      "text/plain": [
       "PosixPath('/opt/data/results/clustering/null_sims/shuffle_genes/runs/z_score_std-projection-smultixcan-efo_partial-mashr-zscores/SpectralClustering-AFFINITY_rbf-GAMMA_0001-KMEANS_N_INIT_10-K_MAX_60-K_MIN_2-N_REPS_PER_K_5.pkl')"
      ]
     },
     "metadata": {},
     "output_type": "display_data"
    }
   ],
   "source": [
    "output_filename = Path(\n",
    "    RESULTS_DIR,\n",
    "    generate_result_set_name(\n",
    "        CLUSTERING_OPTIONS,\n",
    "        prefix=f\"{clustering_method_name}-\",\n",
    "        suffix=\".pkl\",\n",
    "    ),\n",
    ").resolve()\n",
    "display(output_filename)"
   ]
  },
  {
   "cell_type": "code",
   "execution_count": 39,
   "id": "cdaaf970",
   "metadata": {
    "execution": {
     "iopub.execute_input": "2022-11-25T04:53:23.086329Z",
     "iopub.status.busy": "2022-11-25T04:53:23.086010Z",
     "iopub.status.idle": "2022-11-25T04:53:23.117531Z",
     "shell.execute_reply": "2022-11-25T04:53:23.117101Z"
    },
    "papermill": {
     "duration": 0.047372,
     "end_time": "2022-11-25T04:53:23.118386",
     "exception": false,
     "start_time": "2022-11-25T04:53:23.071014",
     "status": "completed"
    },
    "tags": []
   },
   "outputs": [],
   "source": [
    "ensemble.to_pickle(output_filename)"
   ]
  },
  {
   "cell_type": "markdown",
   "id": "c357d2f8",
   "metadata": {
    "papermill": {
     "duration": 0.014446,
     "end_time": "2022-11-25T04:53:23.147357",
     "exception": false,
     "start_time": "2022-11-25T04:53:23.132911",
     "status": "completed"
    },
    "tags": []
   },
   "source": [
    "# Cluster quality"
   ]
  },
  {
   "cell_type": "code",
   "execution_count": 40,
   "id": "f1cd37d2",
   "metadata": {
    "execution": {
     "iopub.execute_input": "2022-11-25T04:53:23.177135Z",
     "iopub.status.busy": "2022-11-25T04:53:23.176978Z",
     "iopub.status.idle": "2022-11-25T04:53:23.204739Z",
     "shell.execute_reply": "2022-11-25T04:53:23.204360Z"
    },
    "papermill": {
     "duration": 0.043621,
     "end_time": "2022-11-25T04:53:23.205528",
     "exception": false,
     "start_time": "2022-11-25T04:53:23.161907",
     "status": "completed"
    },
    "tags": []
   },
   "outputs": [
    {
     "data": {
      "text/html": [
       "<div>\n",
       "<style scoped>\n",
       "    .dataframe tbody tr th:only-of-type {\n",
       "        vertical-align: middle;\n",
       "    }\n",
       "\n",
       "    .dataframe tbody tr th {\n",
       "        vertical-align: top;\n",
       "    }\n",
       "\n",
       "    .dataframe thead th {\n",
       "        text-align: right;\n",
       "    }\n",
       "</style>\n",
       "<table border=\"1\" class=\"dataframe\">\n",
       "  <thead>\n",
       "    <tr style=\"text-align: right;\">\n",
       "      <th></th>\n",
       "      <th>ch_score</th>\n",
       "    </tr>\n",
       "    <tr>\n",
       "      <th>n_clusters</th>\n",
       "      <th></th>\n",
       "    </tr>\n",
       "  </thead>\n",
       "  <tbody>\n",
       "    <tr>\n",
       "      <th>2</th>\n",
       "      <td>5.972303</td>\n",
       "    </tr>\n",
       "    <tr>\n",
       "      <th>3</th>\n",
       "      <td>5.197549</td>\n",
       "    </tr>\n",
       "    <tr>\n",
       "      <th>4</th>\n",
       "      <td>4.680952</td>\n",
       "    </tr>\n",
       "    <tr>\n",
       "      <th>5</th>\n",
       "      <td>4.306444</td>\n",
       "    </tr>\n",
       "    <tr>\n",
       "      <th>6</th>\n",
       "      <td>4.047402</td>\n",
       "    </tr>\n",
       "    <tr>\n",
       "      <th>7</th>\n",
       "      <td>3.804730</td>\n",
       "    </tr>\n",
       "    <tr>\n",
       "      <th>8</th>\n",
       "      <td>3.633031</td>\n",
       "    </tr>\n",
       "    <tr>\n",
       "      <th>9</th>\n",
       "      <td>3.478585</td>\n",
       "    </tr>\n",
       "    <tr>\n",
       "      <th>10</th>\n",
       "      <td>3.358170</td>\n",
       "    </tr>\n",
       "    <tr>\n",
       "      <th>11</th>\n",
       "      <td>3.235374</td>\n",
       "    </tr>\n",
       "    <tr>\n",
       "      <th>12</th>\n",
       "      <td>3.129290</td>\n",
       "    </tr>\n",
       "    <tr>\n",
       "      <th>13</th>\n",
       "      <td>3.042105</td>\n",
       "    </tr>\n",
       "    <tr>\n",
       "      <th>14</th>\n",
       "      <td>2.954046</td>\n",
       "    </tr>\n",
       "    <tr>\n",
       "      <th>15</th>\n",
       "      <td>2.873811</td>\n",
       "    </tr>\n",
       "    <tr>\n",
       "      <th>16</th>\n",
       "      <td>2.817048</td>\n",
       "    </tr>\n",
       "    <tr>\n",
       "      <th>17</th>\n",
       "      <td>2.762772</td>\n",
       "    </tr>\n",
       "    <tr>\n",
       "      <th>18</th>\n",
       "      <td>2.705333</td>\n",
       "    </tr>\n",
       "    <tr>\n",
       "      <th>19</th>\n",
       "      <td>2.661307</td>\n",
       "    </tr>\n",
       "    <tr>\n",
       "      <th>20</th>\n",
       "      <td>2.602791</td>\n",
       "    </tr>\n",
       "    <tr>\n",
       "      <th>21</th>\n",
       "      <td>2.567889</td>\n",
       "    </tr>\n",
       "    <tr>\n",
       "      <th>22</th>\n",
       "      <td>2.530393</td>\n",
       "    </tr>\n",
       "    <tr>\n",
       "      <th>23</th>\n",
       "      <td>2.494879</td>\n",
       "    </tr>\n",
       "    <tr>\n",
       "      <th>24</th>\n",
       "      <td>2.451168</td>\n",
       "    </tr>\n",
       "    <tr>\n",
       "      <th>25</th>\n",
       "      <td>2.426031</td>\n",
       "    </tr>\n",
       "    <tr>\n",
       "      <th>26</th>\n",
       "      <td>2.395109</td>\n",
       "    </tr>\n",
       "    <tr>\n",
       "      <th>27</th>\n",
       "      <td>2.364034</td>\n",
       "    </tr>\n",
       "    <tr>\n",
       "      <th>28</th>\n",
       "      <td>2.337197</td>\n",
       "    </tr>\n",
       "    <tr>\n",
       "      <th>29</th>\n",
       "      <td>2.309886</td>\n",
       "    </tr>\n",
       "    <tr>\n",
       "      <th>30</th>\n",
       "      <td>2.283379</td>\n",
       "    </tr>\n",
       "    <tr>\n",
       "      <th>31</th>\n",
       "      <td>2.253897</td>\n",
       "    </tr>\n",
       "    <tr>\n",
       "      <th>32</th>\n",
       "      <td>2.235065</td>\n",
       "    </tr>\n",
       "    <tr>\n",
       "      <th>33</th>\n",
       "      <td>2.209478</td>\n",
       "    </tr>\n",
       "    <tr>\n",
       "      <th>34</th>\n",
       "      <td>2.197943</td>\n",
       "    </tr>\n",
       "    <tr>\n",
       "      <th>35</th>\n",
       "      <td>2.178147</td>\n",
       "    </tr>\n",
       "    <tr>\n",
       "      <th>36</th>\n",
       "      <td>2.158189</td>\n",
       "    </tr>\n",
       "    <tr>\n",
       "      <th>37</th>\n",
       "      <td>2.139566</td>\n",
       "    </tr>\n",
       "    <tr>\n",
       "      <th>38</th>\n",
       "      <td>2.126279</td>\n",
       "    </tr>\n",
       "    <tr>\n",
       "      <th>39</th>\n",
       "      <td>2.104397</td>\n",
       "    </tr>\n",
       "    <tr>\n",
       "      <th>40</th>\n",
       "      <td>2.082648</td>\n",
       "    </tr>\n",
       "    <tr>\n",
       "      <th>41</th>\n",
       "      <td>2.069191</td>\n",
       "    </tr>\n",
       "    <tr>\n",
       "      <th>42</th>\n",
       "      <td>2.061910</td>\n",
       "    </tr>\n",
       "    <tr>\n",
       "      <th>43</th>\n",
       "      <td>2.099640</td>\n",
       "    </tr>\n",
       "    <tr>\n",
       "      <th>44</th>\n",
       "      <td>2.025423</td>\n",
       "    </tr>\n",
       "    <tr>\n",
       "      <th>45</th>\n",
       "      <td>2.017430</td>\n",
       "    </tr>\n",
       "    <tr>\n",
       "      <th>46</th>\n",
       "      <td>2.000155</td>\n",
       "    </tr>\n",
       "    <tr>\n",
       "      <th>47</th>\n",
       "      <td>2.006938</td>\n",
       "    </tr>\n",
       "    <tr>\n",
       "      <th>48</th>\n",
       "      <td>1.995256</td>\n",
       "    </tr>\n",
       "    <tr>\n",
       "      <th>49</th>\n",
       "      <td>1.996049</td>\n",
       "    </tr>\n",
       "    <tr>\n",
       "      <th>50</th>\n",
       "      <td>1.971738</td>\n",
       "    </tr>\n",
       "    <tr>\n",
       "      <th>51</th>\n",
       "      <td>1.951680</td>\n",
       "    </tr>\n",
       "    <tr>\n",
       "      <th>52</th>\n",
       "      <td>1.955005</td>\n",
       "    </tr>\n",
       "    <tr>\n",
       "      <th>53</th>\n",
       "      <td>1.937867</td>\n",
       "    </tr>\n",
       "    <tr>\n",
       "      <th>54</th>\n",
       "      <td>1.939389</td>\n",
       "    </tr>\n",
       "    <tr>\n",
       "      <th>55</th>\n",
       "      <td>1.986876</td>\n",
       "    </tr>\n",
       "    <tr>\n",
       "      <th>56</th>\n",
       "      <td>1.999999</td>\n",
       "    </tr>\n",
       "    <tr>\n",
       "      <th>57</th>\n",
       "      <td>1.954064</td>\n",
       "    </tr>\n",
       "    <tr>\n",
       "      <th>58</th>\n",
       "      <td>1.930327</td>\n",
       "    </tr>\n",
       "    <tr>\n",
       "      <th>59</th>\n",
       "      <td>1.935029</td>\n",
       "    </tr>\n",
       "    <tr>\n",
       "      <th>60</th>\n",
       "      <td>1.888514</td>\n",
       "    </tr>\n",
       "  </tbody>\n",
       "</table>\n",
       "</div>"
      ],
      "text/plain": [
       "            ch_score\n",
       "n_clusters          \n",
       "2           5.972303\n",
       "3           5.197549\n",
       "4           4.680952\n",
       "5           4.306444\n",
       "6           4.047402\n",
       "7           3.804730\n",
       "8           3.633031\n",
       "9           3.478585\n",
       "10          3.358170\n",
       "11          3.235374\n",
       "12          3.129290\n",
       "13          3.042105\n",
       "14          2.954046\n",
       "15          2.873811\n",
       "16          2.817048\n",
       "17          2.762772\n",
       "18          2.705333\n",
       "19          2.661307\n",
       "20          2.602791\n",
       "21          2.567889\n",
       "22          2.530393\n",
       "23          2.494879\n",
       "24          2.451168\n",
       "25          2.426031\n",
       "26          2.395109\n",
       "27          2.364034\n",
       "28          2.337197\n",
       "29          2.309886\n",
       "30          2.283379\n",
       "31          2.253897\n",
       "32          2.235065\n",
       "33          2.209478\n",
       "34          2.197943\n",
       "35          2.178147\n",
       "36          2.158189\n",
       "37          2.139566\n",
       "38          2.126279\n",
       "39          2.104397\n",
       "40          2.082648\n",
       "41          2.069191\n",
       "42          2.061910\n",
       "43          2.099640\n",
       "44          2.025423\n",
       "45          2.017430\n",
       "46          2.000155\n",
       "47          2.006938\n",
       "48          1.995256\n",
       "49          1.996049\n",
       "50          1.971738\n",
       "51          1.951680\n",
       "52          1.955005\n",
       "53          1.937867\n",
       "54          1.939389\n",
       "55          1.986876\n",
       "56          1.999999\n",
       "57          1.954064\n",
       "58          1.930327\n",
       "59          1.935029\n",
       "60          1.888514"
      ]
     },
     "metadata": {},
     "output_type": "display_data"
    }
   ],
   "source": [
    "with pd.option_context(\"display.max_rows\", None, \"display.max_columns\", None):\n",
    "    _df = ensemble.groupby([\"n_clusters\"]).mean()\n",
    "    display(_df)"
   ]
  },
  {
   "cell_type": "code",
   "execution_count": 41,
   "id": "4dd8e721",
   "metadata": {
    "execution": {
     "iopub.execute_input": "2022-11-25T04:53:23.235548Z",
     "iopub.status.busy": "2022-11-25T04:53:23.235402Z",
     "iopub.status.idle": "2022-11-25T04:53:25.265747Z",
     "shell.execute_reply": "2022-11-25T04:53:25.265444Z"
    },
    "papermill": {
     "duration": 2.047431,
     "end_time": "2022-11-25T04:53:25.267555",
     "exception": false,
     "start_time": "2022-11-25T04:53:23.220124",
     "status": "completed"
    },
    "tags": []
   },
   "outputs": [
    {
     "data": {
      "image/png": "[encoded data removed]",
      "text/plain": [
       "<Figure size 1008x432 with 1 Axes>"
      ]
     },
     "metadata": {},
     "output_type": "display_data"
    }
   ],
   "source": [
    "with sns.plotting_context(\"talk\", font_scale=0.75), sns.axes_style(\n",
    "    \"whitegrid\", {\"grid.linestyle\": \"--\"}\n",
    "):\n",
    "    fig = plt.figure(figsize=(14, 6))\n",
    "    ax = sns.pointplot(data=ensemble, x=\"n_clusters\", y=\"ch_score\")\n",
    "    ax.set_ylabel(\"Calinski-Harabasz index\")\n",
    "    ax.set_xlabel(\"Number of clusters ($k$)\")\n",
    "    ax.set_xticklabels(ax.get_xticklabels(), rotation=45)\n",
    "    plt.grid(True)\n",
    "    plt.tight_layout()"
   ]
  },
  {
   "cell_type": "markdown",
   "id": "c09625a6",
   "metadata": {
    "papermill": {
     "duration": 0.030071,
     "end_time": "2022-11-25T04:53:25.328988",
     "exception": false,
     "start_time": "2022-11-25T04:53:25.298917",
     "status": "completed"
    },
    "tags": []
   },
   "source": [
    "# Stability"
   ]
  },
  {
   "cell_type": "markdown",
   "id": "c70994d2",
   "metadata": {
    "papermill": {
     "duration": 0.015796,
     "end_time": "2022-11-25T04:53:25.369862",
     "exception": false,
     "start_time": "2022-11-25T04:53:25.354066",
     "status": "completed"
    },
    "tags": []
   },
   "source": [
    "## Group ensemble by n_clusters"
   ]
  },
  {
   "cell_type": "code",
   "execution_count": 42,
   "id": "3aa1711c",
   "metadata": {
    "execution": {
     "iopub.execute_input": "2022-11-25T04:53:25.402530Z",
     "iopub.status.busy": "2022-11-25T04:53:25.402211Z",
     "iopub.status.idle": "2022-11-25T04:53:25.436788Z",
     "shell.execute_reply": "2022-11-25T04:53:25.436381Z"
    },
    "papermill": {
     "duration": 0.052078,
     "end_time": "2022-11-25T04:53:25.437627",
     "exception": false,
     "start_time": "2022-11-25T04:53:25.385549",
     "status": "completed"
    },
    "tags": []
   },
   "outputs": [],
   "source": [
    "parts = ensemble.groupby(\"n_clusters\").apply(\n",
    "    lambda x: np.concatenate(x[\"partition\"].apply(lambda x: x.reshape(1, -1)), axis=0)\n",
    ")"
   ]
  },
  {
   "cell_type": "code",
   "execution_count": 43,
   "id": "0fb0b446",
   "metadata": {
    "execution": {
     "iopub.execute_input": "2022-11-25T04:53:25.470668Z",
     "iopub.status.busy": "2022-11-25T04:53:25.470176Z",
     "iopub.status.idle": "2022-11-25T04:53:25.510393Z",
     "shell.execute_reply": "2022-11-25T04:53:25.510011Z"
    },
    "papermill": {
     "duration": 0.057392,
     "end_time": "2022-11-25T04:53:25.511125",
     "exception": false,
     "start_time": "2022-11-25T04:53:25.453733",
     "status": "completed"
    },
    "tags": []
   },
   "outputs": [
    {
     "data": {
      "text/plain": [
       "n_clusters\n",
       "2    [[1.0, 1.0, 1.0, 0.0, 0.0, 0.0, 0.0, 0.0, 0.0,...\n",
       "3    [[2.0, 2.0, 2.0, 0.0, 0.0, 1.0, 1.0, 0.0, 0.0,...\n",
       "4    [[0.0, 0.0, 2.0, 1.0, 1.0, 2.0, 2.0, 1.0, 1.0,...\n",
       "5    [[1.0, 2.0, 2.0, 0.0, 0.0, 1.0, 3.0, 2.0, 0.0,...\n",
       "6    [[3.0, 4.0, 5.0, 0.0, 0.0, 3.0, 5.0, 4.0, 0.0,...\n",
       "dtype: object"
      ]
     },
     "execution_count": 43,
     "metadata": {},
     "output_type": "execute_result"
    }
   ],
   "source": [
    "parts.head()"
   ]
  },
  {
   "cell_type": "code",
   "execution_count": 44,
   "id": "56948378",
   "metadata": {
    "execution": {
     "iopub.execute_input": "2022-11-25T04:53:25.544614Z",
     "iopub.status.busy": "2022-11-25T04:53:25.544234Z",
     "iopub.status.idle": "2022-11-25T04:53:25.566755Z",
     "shell.execute_reply": "2022-11-25T04:53:25.566347Z"
    },
    "papermill": {
     "duration": 0.040514,
     "end_time": "2022-11-25T04:53:25.567615",
     "exception": false,
     "start_time": "2022-11-25T04:53:25.527101",
     "status": "completed"
    },
    "tags": []
   },
   "outputs": [],
   "source": [
    "assert np.all(\n",
    "    [\n",
    "        parts.loc[k].shape == (CLUSTERING_OPTIONS[\"N_REPS_PER_K\"], data.shape[0])\n",
    "        for k in parts.index\n",
    "    ]\n",
    ")"
   ]
  },
  {
   "cell_type": "markdown",
   "id": "69b93bcd",
   "metadata": {
    "papermill": {
     "duration": 0.015554,
     "end_time": "2022-11-25T04:53:25.599571",
     "exception": false,
     "start_time": "2022-11-25T04:53:25.584017",
     "status": "completed"
    },
    "tags": []
   },
   "source": [
    "## Compute stability"
   ]
  },
  {
   "cell_type": "code",
   "execution_count": 45,
   "id": "8f57bd9b",
   "metadata": {
    "execution": {
     "iopub.execute_input": "2022-11-25T04:53:25.632954Z",
     "iopub.status.busy": "2022-11-25T04:53:25.632654Z",
     "iopub.status.idle": "2022-11-25T04:53:25.646080Z",
     "shell.execute_reply": "2022-11-25T04:53:25.645765Z"
    },
    "papermill": {
     "duration": 0.031027,
     "end_time": "2022-11-25T04:53:25.646889",
     "exception": false,
     "start_time": "2022-11-25T04:53:25.615862",
     "status": "completed"
    },
    "tags": []
   },
   "outputs": [],
   "source": [
    "from sklearn.metrics import adjusted_rand_score as ari\n",
    "from scipy.spatial.distance import pdist"
   ]
  },
  {
   "cell_type": "code",
   "execution_count": 46,
   "id": "8a7485af",
   "metadata": {
    "execution": {
     "iopub.execute_input": "2022-11-25T04:53:25.679084Z",
     "iopub.status.busy": "2022-11-25T04:53:25.678906Z",
     "iopub.status.idle": "2022-11-25T04:53:26.390111Z",
     "shell.execute_reply": "2022-11-25T04:53:26.389793Z"
    },
    "papermill": {
     "duration": 0.729108,
     "end_time": "2022-11-25T04:53:26.391676",
     "exception": false,
     "start_time": "2022-11-25T04:53:25.662568",
     "status": "completed"
    },
    "tags": []
   },
   "outputs": [],
   "source": [
    "parts_ari = pd.Series(\n",
    "    {k: pdist(parts.loc[k], metric=ari) for k in parts.index}, name=\"k\"\n",
    ")"
   ]
  },
  {
   "cell_type": "code",
   "execution_count": 47,
   "id": "412edc9b",
   "metadata": {
    "execution": {
     "iopub.execute_input": "2022-11-25T04:53:26.424517Z",
     "iopub.status.busy": "2022-11-25T04:53:26.424432Z",
     "iopub.status.idle": "2022-11-25T04:53:26.439099Z",
     "shell.execute_reply": "2022-11-25T04:53:26.438828Z"
    },
    "papermill": {
     "duration": 0.03121,
     "end_time": "2022-11-25T04:53:26.439843",
     "exception": false,
     "start_time": "2022-11-25T04:53:26.408633",
     "status": "completed"
    },
    "tags": []
   },
   "outputs": [
    {
     "data": {
      "text/plain": [
       "2     0.998721\n",
       "3     0.766956\n",
       "5     0.605466\n",
       "4     0.598211\n",
       "6     0.566244\n",
       "7     0.350067\n",
       "8     0.323139\n",
       "9     0.299910\n",
       "10    0.270599\n",
       "11    0.233588\n",
       "12    0.173780\n",
       "13    0.159292\n",
       "14    0.152239\n",
       "15    0.140358\n",
       "16    0.135340\n",
       "Name: k, dtype: float64"
      ]
     },
     "metadata": {},
     "output_type": "display_data"
    }
   ],
   "source": [
    "parts_ari_stability = parts_ari.apply(lambda x: x.mean())\n",
    "display(parts_ari_stability.sort_values(ascending=False).head(15))"
   ]
  },
  {
   "cell_type": "code",
   "execution_count": 48,
   "id": "7727b8d3",
   "metadata": {
    "execution": {
     "iopub.execute_input": "2022-11-25T04:53:26.472018Z",
     "iopub.status.busy": "2022-11-25T04:53:26.471921Z",
     "iopub.status.idle": "2022-11-25T04:53:26.484163Z",
     "shell.execute_reply": "2022-11-25T04:53:26.483882Z"
    },
    "papermill": {
     "duration": 0.028867,
     "end_time": "2022-11-25T04:53:26.484972",
     "exception": false,
     "start_time": "2022-11-25T04:53:26.456105",
     "status": "completed"
    },
    "tags": []
   },
   "outputs": [],
   "source": [
    "parts_ari_df = pd.DataFrame.from_records(parts_ari.tolist()).set_index(\n",
    "    parts_ari.index.copy()\n",
    ")"
   ]
  },
  {
   "cell_type": "code",
   "execution_count": 49,
   "id": "946310a9",
   "metadata": {
    "execution": {
     "iopub.execute_input": "2022-11-25T04:53:26.516559Z",
     "iopub.status.busy": "2022-11-25T04:53:26.516472Z",
     "iopub.status.idle": "2022-11-25T04:53:26.528146Z",
     "shell.execute_reply": "2022-11-25T04:53:26.527871Z"
    },
    "papermill": {
     "duration": 0.028217,
     "end_time": "2022-11-25T04:53:26.528919",
     "exception": false,
     "start_time": "2022-11-25T04:53:26.500702",
     "status": "completed"
    },
    "tags": []
   },
   "outputs": [
    {
     "data": {
      "text/plain": [
       "(59, 10)"
      ]
     },
     "execution_count": 49,
     "metadata": {},
     "output_type": "execute_result"
    }
   ],
   "source": [
    "parts_ari_df.shape"
   ]
  },
  {
   "cell_type": "code",
   "execution_count": 50,
   "id": "e59fce10",
   "metadata": {
    "execution": {
     "iopub.execute_input": "2022-11-25T04:53:26.560365Z",
     "iopub.status.busy": "2022-11-25T04:53:26.560281Z",
     "iopub.status.idle": "2022-11-25T04:53:26.571359Z",
     "shell.execute_reply": "2022-11-25T04:53:26.571088Z"
    },
    "papermill": {
     "duration": 0.027621,
     "end_time": "2022-11-25T04:53:26.572155",
     "exception": false,
     "start_time": "2022-11-25T04:53:26.544534",
     "status": "completed"
    },
    "tags": []
   },
   "outputs": [],
   "source": [
    "assert (\n",
    "    int(\n",
    "        (CLUSTERING_OPTIONS[\"N_REPS_PER_K\"] * (CLUSTERING_OPTIONS[\"N_REPS_PER_K\"] - 1))\n",
    "        / 2\n",
    "    )\n",
    "    == parts_ari_df.shape[1]\n",
    ")"
   ]
  },
  {
   "cell_type": "code",
   "execution_count": 51,
   "id": "0d668875",
   "metadata": {
    "execution": {
     "iopub.execute_input": "2022-11-25T04:53:26.603891Z",
     "iopub.status.busy": "2022-11-25T04:53:26.603657Z",
     "iopub.status.idle": "2022-11-25T04:53:26.618797Z",
     "shell.execute_reply": "2022-11-25T04:53:26.618518Z"
    },
    "papermill": {
     "duration": 0.031695,
     "end_time": "2022-11-25T04:53:26.619532",
     "exception": false,
     "start_time": "2022-11-25T04:53:26.587837",
     "status": "completed"
    },
    "tags": []
   },
   "outputs": [
    {
     "data": {
      "text/html": [
       "<div>\n",
       "<style scoped>\n",
       "    .dataframe tbody tr th:only-of-type {\n",
       "        vertical-align: middle;\n",
       "    }\n",
       "\n",
       "    .dataframe tbody tr th {\n",
       "        vertical-align: top;\n",
       "    }\n",
       "\n",
       "    .dataframe thead th {\n",
       "        text-align: right;\n",
       "    }\n",
       "</style>\n",
       "<table border=\"1\" class=\"dataframe\">\n",
       "  <thead>\n",
       "    <tr style=\"text-align: right;\">\n",
       "      <th></th>\n",
       "      <th>0</th>\n",
       "      <th>1</th>\n",
       "      <th>2</th>\n",
       "      <th>3</th>\n",
       "      <th>4</th>\n",
       "      <th>5</th>\n",
       "      <th>6</th>\n",
       "      <th>7</th>\n",
       "      <th>8</th>\n",
       "      <th>9</th>\n",
       "    </tr>\n",
       "  </thead>\n",
       "  <tbody>\n",
       "    <tr>\n",
       "      <th>2</th>\n",
       "      <td>1.000000</td>\n",
       "      <td>0.996803</td>\n",
       "      <td>1.000000</td>\n",
       "      <td>1.000000</td>\n",
       "      <td>0.996803</td>\n",
       "      <td>1.000000</td>\n",
       "      <td>1.000000</td>\n",
       "      <td>0.996803</td>\n",
       "      <td>0.996803</td>\n",
       "      <td>1.000000</td>\n",
       "    </tr>\n",
       "    <tr>\n",
       "      <th>3</th>\n",
       "      <td>0.637492</td>\n",
       "      <td>0.558774</td>\n",
       "      <td>0.563567</td>\n",
       "      <td>0.750629</td>\n",
       "      <td>0.887538</td>\n",
       "      <td>0.895706</td>\n",
       "      <td>0.859927</td>\n",
       "      <td>0.989645</td>\n",
       "      <td>0.760112</td>\n",
       "      <td>0.766170</td>\n",
       "    </tr>\n",
       "    <tr>\n",
       "      <th>4</th>\n",
       "      <td>0.417564</td>\n",
       "      <td>0.491618</td>\n",
       "      <td>0.528769</td>\n",
       "      <td>0.595251</td>\n",
       "      <td>0.642395</td>\n",
       "      <td>0.607462</td>\n",
       "      <td>0.464428</td>\n",
       "      <td>0.932647</td>\n",
       "      <td>0.643218</td>\n",
       "      <td>0.658755</td>\n",
       "    </tr>\n",
       "    <tr>\n",
       "      <th>5</th>\n",
       "      <td>0.627761</td>\n",
       "      <td>0.525006</td>\n",
       "      <td>0.630751</td>\n",
       "      <td>0.546233</td>\n",
       "      <td>0.616730</td>\n",
       "      <td>0.677939</td>\n",
       "      <td>0.564864</td>\n",
       "      <td>0.584032</td>\n",
       "      <td>0.496410</td>\n",
       "      <td>0.784933</td>\n",
       "    </tr>\n",
       "    <tr>\n",
       "      <th>6</th>\n",
       "      <td>0.461822</td>\n",
       "      <td>0.490568</td>\n",
       "      <td>0.420407</td>\n",
       "      <td>0.856422</td>\n",
       "      <td>0.670325</td>\n",
       "      <td>0.708640</td>\n",
       "      <td>0.495453</td>\n",
       "      <td>0.578410</td>\n",
       "      <td>0.542599</td>\n",
       "      <td>0.437791</td>\n",
       "    </tr>\n",
       "  </tbody>\n",
       "</table>\n",
       "</div>"
      ],
      "text/plain": [
       "          0         1         2         3         4         5         6  \\\n",
       "2  1.000000  0.996803  1.000000  1.000000  0.996803  1.000000  1.000000   \n",
       "3  0.637492  0.558774  0.563567  0.750629  0.887538  0.895706  0.859927   \n",
       "4  0.417564  0.491618  0.528769  0.595251  0.642395  0.607462  0.464428   \n",
       "5  0.627761  0.525006  0.630751  0.546233  0.616730  0.677939  0.564864   \n",
       "6  0.461822  0.490568  0.420407  0.856422  0.670325  0.708640  0.495453   \n",
       "\n",
       "          7         8         9  \n",
       "2  0.996803  0.996803  1.000000  \n",
       "3  0.989645  0.760112  0.766170  \n",
       "4  0.932647  0.643218  0.658755  \n",
       "5  0.584032  0.496410  0.784933  \n",
       "6  0.578410  0.542599  0.437791  "
      ]
     },
     "execution_count": 51,
     "metadata": {},
     "output_type": "execute_result"
    }
   ],
   "source": [
    "parts_ari_df.head()"
   ]
  },
  {
   "cell_type": "markdown",
   "id": "f2e14e72",
   "metadata": {
    "papermill": {
     "duration": 0.015306,
     "end_time": "2022-11-25T04:53:26.650517",
     "exception": false,
     "start_time": "2022-11-25T04:53:26.635211",
     "status": "completed"
    },
    "tags": []
   },
   "source": [
    "## Save"
   ]
  },
  {
   "cell_type": "code",
   "execution_count": 52,
   "id": "b1241e70",
   "metadata": {
    "execution": {
     "iopub.execute_input": "2022-11-25T04:53:26.681962Z",
     "iopub.status.busy": "2022-11-25T04:53:26.681716Z",
     "iopub.status.idle": "2022-11-25T04:53:26.693746Z",
     "shell.execute_reply": "2022-11-25T04:53:26.693483Z"
    },
    "papermill": {
     "duration": 0.028468,
     "end_time": "2022-11-25T04:53:26.694474",
     "exception": false,
     "start_time": "2022-11-25T04:53:26.666006",
     "status": "completed"
    },
    "tags": []
   },
   "outputs": [
    {
     "data": {
      "text/plain": [
       "PosixPath('/opt/data/results/clustering/null_sims/shuffle_genes/runs/z_score_std-projection-smultixcan-efo_partial-mashr-zscores/SpectralClustering-stability-AFFINITY_rbf-GAMMA_0001-KMEANS_N_INIT_10-K_MAX_60-K_MIN_2-N_REPS_PER_K_5.pkl')"
      ]
     },
     "metadata": {},
     "output_type": "display_data"
    }
   ],
   "source": [
    "output_filename = Path(\n",
    "    RESULTS_DIR,\n",
    "    generate_result_set_name(\n",
    "        CLUSTERING_OPTIONS,\n",
    "        prefix=f\"{clustering_method_name}-stability-\",\n",
    "        suffix=\".pkl\",\n",
    "    ),\n",
    ").resolve()\n",
    "display(output_filename)"
   ]
  },
  {
   "cell_type": "code",
   "execution_count": 53,
   "id": "c8995ca8",
   "metadata": {
    "execution": {
     "iopub.execute_input": "2022-11-25T04:53:26.726017Z",
     "iopub.status.busy": "2022-11-25T04:53:26.725933Z",
     "iopub.status.idle": "2022-11-25T04:53:26.737069Z",
     "shell.execute_reply": "2022-11-25T04:53:26.736800Z"
    },
    "papermill": {
     "duration": 0.027781,
     "end_time": "2022-11-25T04:53:26.737879",
     "exception": false,
     "start_time": "2022-11-25T04:53:26.710098",
     "status": "completed"
    },
    "tags": []
   },
   "outputs": [],
   "source": [
    "parts_ari_df.to_pickle(output_filename)"
   ]
  },
  {
   "cell_type": "markdown",
   "id": "789417b1",
   "metadata": {
    "papermill": {
     "duration": 0.015502,
     "end_time": "2022-11-25T04:53:26.768978",
     "exception": false,
     "start_time": "2022-11-25T04:53:26.753476",
     "status": "completed"
    },
    "tags": []
   },
   "source": [
    "## Stability plot"
   ]
  },
  {
   "cell_type": "code",
   "execution_count": 54,
   "id": "d4da6b21",
   "metadata": {
    "execution": {
     "iopub.execute_input": "2022-11-25T04:53:26.800622Z",
     "iopub.status.busy": "2022-11-25T04:53:26.800351Z",
     "iopub.status.idle": "2022-11-25T04:53:26.812666Z",
     "shell.execute_reply": "2022-11-25T04:53:26.812388Z"
    },
    "papermill": {
     "duration": 0.028951,
     "end_time": "2022-11-25T04:53:26.813474",
     "exception": false,
     "start_time": "2022-11-25T04:53:26.784523",
     "status": "completed"
    },
    "tags": []
   },
   "outputs": [],
   "source": [
    "parts_ari_df_plot = (\n",
    "    parts_ari_df.stack()\n",
    "    .reset_index()\n",
    "    .rename(columns={\"level_0\": \"k\", \"level_1\": \"idx\", 0: \"ari\"})\n",
    ")"
   ]
  },
  {
   "cell_type": "code",
   "execution_count": 55,
   "id": "a273a1ca",
   "metadata": {
    "execution": {
     "iopub.execute_input": "2022-11-25T04:53:26.845184Z",
     "iopub.status.busy": "2022-11-25T04:53:26.845101Z",
     "iopub.status.idle": "2022-11-25T04:53:26.857311Z",
     "shell.execute_reply": "2022-11-25T04:53:26.857046Z"
    },
    "papermill": {
     "duration": 0.028819,
     "end_time": "2022-11-25T04:53:26.858026",
     "exception": false,
     "start_time": "2022-11-25T04:53:26.829207",
     "status": "completed"
    },
    "tags": []
   },
   "outputs": [
    {
     "data": {
      "text/plain": [
       "k        int64\n",
       "idx      int64\n",
       "ari    float64\n",
       "dtype: object"
      ]
     },
     "execution_count": 55,
     "metadata": {},
     "output_type": "execute_result"
    }
   ],
   "source": [
    "parts_ari_df_plot.dtypes"
   ]
  },
  {
   "cell_type": "code",
   "execution_count": 56,
   "id": "0525e33d",
   "metadata": {
    "execution": {
     "iopub.execute_input": "2022-11-25T04:53:26.889759Z",
     "iopub.status.busy": "2022-11-25T04:53:26.889677Z",
     "iopub.status.idle": "2022-11-25T04:53:26.902665Z",
     "shell.execute_reply": "2022-11-25T04:53:26.902405Z"
    },
    "papermill": {
     "duration": 0.029656,
     "end_time": "2022-11-25T04:53:26.903384",
     "exception": false,
     "start_time": "2022-11-25T04:53:26.873728",
     "status": "completed"
    },
    "tags": []
   },
   "outputs": [
    {
     "data": {
      "text/html": [
       "<div>\n",
       "<style scoped>\n",
       "    .dataframe tbody tr th:only-of-type {\n",
       "        vertical-align: middle;\n",
       "    }\n",
       "\n",
       "    .dataframe tbody tr th {\n",
       "        vertical-align: top;\n",
       "    }\n",
       "\n",
       "    .dataframe thead th {\n",
       "        text-align: right;\n",
       "    }\n",
       "</style>\n",
       "<table border=\"1\" class=\"dataframe\">\n",
       "  <thead>\n",
       "    <tr style=\"text-align: right;\">\n",
       "      <th></th>\n",
       "      <th>k</th>\n",
       "      <th>idx</th>\n",
       "      <th>ari</th>\n",
       "    </tr>\n",
       "  </thead>\n",
       "  <tbody>\n",
       "    <tr>\n",
       "      <th>0</th>\n",
       "      <td>2</td>\n",
       "      <td>0</td>\n",
       "      <td>1.000000</td>\n",
       "    </tr>\n",
       "    <tr>\n",
       "      <th>1</th>\n",
       "      <td>2</td>\n",
       "      <td>1</td>\n",
       "      <td>0.996803</td>\n",
       "    </tr>\n",
       "    <tr>\n",
       "      <th>2</th>\n",
       "      <td>2</td>\n",
       "      <td>2</td>\n",
       "      <td>1.000000</td>\n",
       "    </tr>\n",
       "    <tr>\n",
       "      <th>3</th>\n",
       "      <td>2</td>\n",
       "      <td>3</td>\n",
       "      <td>1.000000</td>\n",
       "    </tr>\n",
       "    <tr>\n",
       "      <th>4</th>\n",
       "      <td>2</td>\n",
       "      <td>4</td>\n",
       "      <td>0.996803</td>\n",
       "    </tr>\n",
       "  </tbody>\n",
       "</table>\n",
       "</div>"
      ],
      "text/plain": [
       "   k  idx       ari\n",
       "0  2    0  1.000000\n",
       "1  2    1  0.996803\n",
       "2  2    2  1.000000\n",
       "3  2    3  1.000000\n",
       "4  2    4  0.996803"
      ]
     },
     "execution_count": 56,
     "metadata": {},
     "output_type": "execute_result"
    }
   ],
   "source": [
    "parts_ari_df_plot.head()"
   ]
  },
  {
   "cell_type": "code",
   "execution_count": 57,
   "id": "d029cbd9",
   "metadata": {
    "execution": {
     "iopub.execute_input": "2022-11-25T04:53:26.935203Z",
     "iopub.status.busy": "2022-11-25T04:53:26.935121Z",
     "iopub.status.idle": "2022-11-25T04:53:28.818810Z",
     "shell.execute_reply": "2022-11-25T04:53:28.818526Z"
    },
    "papermill": {
     "duration": 1.901645,
     "end_time": "2022-11-25T04:53:28.820798",
     "exception": false,
     "start_time": "2022-11-25T04:53:26.919153",
     "status": "completed"
    },
    "tags": []
   },
   "outputs": [
    {
     "data": {
      "image/png": "[encoded data removed]",
      "text/plain": [
       "<Figure size 1008x432 with 1 Axes>"
      ]
     },
     "metadata": {},
     "output_type": "display_data"
    }
   ],
   "source": [
    "# with sns.axes_style('whitegrid', {'grid.linestyle': '--'}):\n",
    "with sns.plotting_context(\"talk\", font_scale=0.75), sns.axes_style(\n",
    "    \"whitegrid\", {\"grid.linestyle\": \"--\"}\n",
    "):\n",
    "    fig = plt.figure(figsize=(14, 6))\n",
    "    ax = sns.pointplot(data=parts_ari_df_plot, x=\"k\", y=\"ari\")\n",
    "    ax.set_ylabel(\"Averange ARI\")\n",
    "    ax.set_xlabel(\"Number of clusters ($k$)\")\n",
    "    ax.set_xticklabels(ax.get_xticklabels(), rotation=45)\n",
    "    #     ax.set_ylim(0.0, 1.0)\n",
    "    #     ax.set_xlim(CLUSTERING_OPTIONS['K_MIN'], CLUSTERING_OPTIONS['K_MAX'])\n",
    "    plt.grid(True)\n",
    "    plt.tight_layout()"
   ]
  },
  {
   "cell_type": "code",
   "execution_count": null,
   "id": "ba2aaa43",
   "metadata": {
    "papermill": {
     "duration": 0.031302,
     "end_time": "2022-11-25T04:53:28.884909",
     "exception": false,
     "start_time": "2022-11-25T04:53:28.853607",
     "status": "completed"
    },
    "tags": []
   },
   "outputs": [],
   "source": []
  }
 ],
 "metadata": {
  "jupytext": {
   "cell_metadata_filter": "all,-execution,-papermill,-trusted",
   "formats": "ipynb,py//py:percent"
  },
  "kernelspec": {
   "display_name": "Python 3 (ipykernel)",
   "language": "python",
   "name": "python3"
  },
  "language_info": {
   "codemirror_mode": {
    "name": "ipython",
    "version": 3
   },
   "file_extension": ".py",
   "mimetype": "text/x-python",
   "name": "python",
   "nbconvert_exporter": "python",
   "pygments_lexer": "ipython3",
   "version": "3.8.13"
  },
  "papermill": {
   "default_parameters": {},
   "duration": 687.959215,
   "end_time": "2022-11-25T04:53:29.224522",
   "environment_variables": {},
   "exception": null,
   "input_path": "nbs/13.1_cluster_analysis_null/00-shuffle_genes/11_00-spectral-z_score_std.ipynb",
   "output_path": "nbs/13.1_cluster_analysis_null/00-shuffle_genes/11_00-spectral-z_score_std.run.ipynb",
   "parameters": {},
   "start_time": "2022-11-25T04:42:01.265307",
   "version": "2.2.2"
  },
  "toc-autonumbering": true,
  "toc-showcode": false,
  "toc-showmarkdowntxt": false,
  "toc-showtags": false
 },
 "nbformat": 4,
 "nbformat_minor": 5
}
