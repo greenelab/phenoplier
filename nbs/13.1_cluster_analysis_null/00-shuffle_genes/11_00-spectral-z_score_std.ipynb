{
 "cells": [
  {
   "cell_type": "markdown",
   "id": "e6114bcb",
   "metadata": {
    "papermill": {
     "duration": 0.035541,
     "end_time": "2022-09-13T16:08:29.414091",
     "exception": false,
     "start_time": "2022-09-13T16:08:29.378550",
     "status": "completed"
    },
    "tags": []
   },
   "source": [
    "# Description"
   ]
  },
  {
   "cell_type": "markdown",
   "id": "9e9a79a6",
   "metadata": {
    "papermill": {
     "duration": 0.008481,
     "end_time": "2022-09-13T16:08:29.434232",
     "exception": false,
     "start_time": "2022-09-13T16:08:29.425751",
     "status": "completed"
    },
    "tags": []
   },
   "source": [
    "Runs spectral clustering on the z_score_std version of the data."
   ]
  },
  {
   "cell_type": "markdown",
   "id": "f26d1044",
   "metadata": {
    "papermill": {
     "duration": 0.007905,
     "end_time": "2022-09-13T16:08:29.450325",
     "exception": false,
     "start_time": "2022-09-13T16:08:29.442420",
     "status": "completed"
    },
    "tags": []
   },
   "source": [
    "# Environment variables"
   ]
  },
  {
   "cell_type": "code",
   "execution_count": 1,
   "id": "2e3a323b",
   "metadata": {
    "execution": {
     "iopub.execute_input": "2022-09-13T16:08:29.466992Z",
     "iopub.status.busy": "2022-09-13T16:08:29.466773Z",
     "iopub.status.idle": "2022-09-13T16:08:29.481582Z",
     "shell.execute_reply": "2022-09-13T16:08:29.481082Z"
    },
    "papermill": {
     "duration": 0.024825,
     "end_time": "2022-09-13T16:08:29.482919",
     "exception": false,
     "start_time": "2022-09-13T16:08:29.458094",
     "status": "completed"
    },
    "tags": []
   },
   "outputs": [
    {
     "data": {
      "text/plain": [
       "3"
      ]
     },
     "metadata": {},
     "output_type": "display_data"
    }
   ],
   "source": [
    "from IPython.display import display\n",
    "\n",
    "import conf\n",
    "\n",
    "N_JOBS = conf.GENERAL[\"N_JOBS\"]\n",
    "display(N_JOBS)"
   ]
  },
  {
   "cell_type": "code",
   "execution_count": 2,
   "id": "8372510c",
   "metadata": {
    "execution": {
     "iopub.execute_input": "2022-09-13T16:08:29.499941Z",
     "iopub.status.busy": "2022-09-13T16:08:29.499779Z",
     "iopub.status.idle": "2022-09-13T16:08:29.504504Z",
     "shell.execute_reply": "2022-09-13T16:08:29.504062Z"
    },
    "papermill": {
     "duration": 0.014469,
     "end_time": "2022-09-13T16:08:29.505742",
     "exception": false,
     "start_time": "2022-09-13T16:08:29.491273",
     "status": "completed"
    },
    "tags": []
   },
   "outputs": [
    {
     "name": "stdout",
     "output_type": "stream",
     "text": [
      "env: MKL_NUM_THREADS=3\n",
      "env: OPEN_BLAS_NUM_THREADS=3\n",
      "env: NUMEXPR_NUM_THREADS=3\n",
      "env: OMP_NUM_THREADS=3\n"
     ]
    }
   ],
   "source": [
    "%env MKL_NUM_THREADS=$N_JOBS\n",
    "%env OPEN_BLAS_NUM_THREADS=$N_JOBS\n",
    "%env NUMEXPR_NUM_THREADS=$N_JOBS\n",
    "%env OMP_NUM_THREADS=$N_JOBS"
   ]
  },
  {
   "cell_type": "markdown",
   "id": "810b29c6",
   "metadata": {
    "papermill": {
     "duration": 0.007808,
     "end_time": "2022-09-13T16:08:29.521819",
     "exception": false,
     "start_time": "2022-09-13T16:08:29.514011",
     "status": "completed"
    },
    "tags": []
   },
   "source": [
    "# Modules loading"
   ]
  },
  {
   "cell_type": "code",
   "execution_count": 3,
   "id": "695a702f",
   "metadata": {
    "execution": {
     "iopub.execute_input": "2022-09-13T16:08:29.538936Z",
     "iopub.status.busy": "2022-09-13T16:08:29.538730Z",
     "iopub.status.idle": "2022-09-13T16:08:29.551852Z",
     "shell.execute_reply": "2022-09-13T16:08:29.551358Z"
    },
    "papermill": {
     "duration": 0.023455,
     "end_time": "2022-09-13T16:08:29.553235",
     "exception": false,
     "start_time": "2022-09-13T16:08:29.529780",
     "status": "completed"
    },
    "tags": []
   },
   "outputs": [],
   "source": [
    "%load_ext autoreload\n",
    "%autoreload 2"
   ]
  },
  {
   "cell_type": "code",
   "execution_count": 4,
   "id": "1fe8f458",
   "metadata": {
    "execution": {
     "iopub.execute_input": "2022-09-13T16:08:29.573096Z",
     "iopub.status.busy": "2022-09-13T16:08:29.572938Z",
     "iopub.status.idle": "2022-09-13T16:08:30.220980Z",
     "shell.execute_reply": "2022-09-13T16:08:30.220449Z"
    },
    "papermill": {
     "duration": 0.658214,
     "end_time": "2022-09-13T16:08:30.222497",
     "exception": false,
     "start_time": "2022-09-13T16:08:29.564283",
     "status": "completed"
    },
    "tags": []
   },
   "outputs": [],
   "source": [
    "from pathlib import Path\n",
    "\n",
    "import numpy as np\n",
    "import pandas as pd\n",
    "import matplotlib.pyplot as plt\n",
    "import seaborn as sns\n",
    "\n",
    "from utils import generate_result_set_name"
   ]
  },
  {
   "cell_type": "markdown",
   "id": "10f14cd6",
   "metadata": {
    "papermill": {
     "duration": 0.007524,
     "end_time": "2022-09-13T16:08:30.238287",
     "exception": false,
     "start_time": "2022-09-13T16:08:30.230763",
     "status": "completed"
    },
    "tags": []
   },
   "source": [
    "# Settings"
   ]
  },
  {
   "cell_type": "code",
   "execution_count": 5,
   "id": "6d7d50c8",
   "metadata": {
    "execution": {
     "iopub.execute_input": "2022-09-13T16:08:30.254358Z",
     "iopub.status.busy": "2022-09-13T16:08:30.254149Z",
     "iopub.status.idle": "2022-09-13T16:08:30.270850Z",
     "shell.execute_reply": "2022-09-13T16:08:30.270325Z"
    },
    "papermill": {
     "duration": 0.026256,
     "end_time": "2022-09-13T16:08:30.272200",
     "exception": false,
     "start_time": "2022-09-13T16:08:30.245944",
     "status": "completed"
    },
    "tags": []
   },
   "outputs": [],
   "source": [
    "np.random.seed(0)"
   ]
  },
  {
   "cell_type": "code",
   "execution_count": 6,
   "id": "dc7e4745",
   "metadata": {
    "execution": {
     "iopub.execute_input": "2022-09-13T16:08:30.318032Z",
     "iopub.status.busy": "2022-09-13T16:08:30.317829Z",
     "iopub.status.idle": "2022-09-13T16:08:30.336953Z",
     "shell.execute_reply": "2022-09-13T16:08:30.336278Z"
    },
    "papermill": {
     "duration": 0.058072,
     "end_time": "2022-09-13T16:08:30.338526",
     "exception": false,
     "start_time": "2022-09-13T16:08:30.280454",
     "status": "completed"
    },
    "tags": []
   },
   "outputs": [],
   "source": [
    "INITIAL_RANDOM_STATE = 30000"
   ]
  },
  {
   "cell_type": "code",
   "execution_count": null,
   "id": "5f64fcf5-ebe4-45ed-949a-b961e25f546f",
   "metadata": {},
   "outputs": [],
   "source": [
    "NULL_DIR = conf.RESULTS[\"CLUSTERING_NULL_DIR\"], \"shuffle_genes\""
   ]
  },
  {
   "cell_type": "markdown",
   "id": "ffcbae0e",
   "metadata": {
    "papermill": {
     "duration": 0.009212,
     "end_time": "2022-09-13T16:08:30.357495",
     "exception": false,
     "start_time": "2022-09-13T16:08:30.348283",
     "status": "completed"
    },
    "tags": []
   },
   "source": [
    "## Input data"
   ]
  },
  {
   "cell_type": "code",
   "execution_count": 7,
   "id": "8e43efdd",
   "metadata": {
    "execution": {
     "iopub.execute_input": "2022-09-13T16:08:30.375599Z",
     "iopub.status.busy": "2022-09-13T16:08:30.375426Z",
     "iopub.status.idle": "2022-09-13T16:08:30.392394Z",
     "shell.execute_reply": "2022-09-13T16:08:30.391795Z"
    },
    "papermill": {
     "duration": 0.027509,
     "end_time": "2022-09-13T16:08:30.393858",
     "exception": false,
     "start_time": "2022-09-13T16:08:30.366349",
     "status": "completed"
    },
    "tags": []
   },
   "outputs": [],
   "source": [
    "INPUT_SUBSET = \"z_score_std\""
   ]
  },
  {
   "cell_type": "code",
   "execution_count": 8,
   "id": "249ac745",
   "metadata": {
    "execution": {
     "iopub.execute_input": "2022-09-13T16:08:30.411615Z",
     "iopub.status.busy": "2022-09-13T16:08:30.411453Z",
     "iopub.status.idle": "2022-09-13T16:08:30.429610Z",
     "shell.execute_reply": "2022-09-13T16:08:30.429033Z"
    },
    "papermill": {
     "duration": 0.028746,
     "end_time": "2022-09-13T16:08:30.431173",
     "exception": false,
     "start_time": "2022-09-13T16:08:30.402427",
     "status": "completed"
    },
    "tags": []
   },
   "outputs": [],
   "source": [
    "INPUT_STEM = \"projection-smultixcan-efo_partial-mashr-zscores\""
   ]
  },
  {
   "cell_type": "code",
   "execution_count": 9,
   "id": "e2284187",
   "metadata": {
    "execution": {
     "iopub.execute_input": "2022-09-13T16:08:30.449497Z",
     "iopub.status.busy": "2022-09-13T16:08:30.449321Z",
     "iopub.status.idle": "2022-09-13T16:08:30.469241Z",
     "shell.execute_reply": "2022-09-13T16:08:30.468719Z"
    },
    "papermill": {
     "duration": 0.030638,
     "end_time": "2022-09-13T16:08:30.470567",
     "exception": false,
     "start_time": "2022-09-13T16:08:30.439929",
     "status": "completed"
    },
    "tags": []
   },
   "outputs": [
    {
     "data": {
      "text/plain": [
       "PosixPath('/opt/data/results/clustering/null_sims/data_transformations/z_score_std/z_score_std-projection-smultixcan-efo_partial-mashr-zscores.pkl')"
      ]
     },
     "metadata": {},
     "output_type": "display_data"
    },
    {
     "data": {
      "text/plain": [
       "'z_score_std-projection-smultixcan-efo_partial-mashr-zscores'"
      ]
     },
     "metadata": {},
     "output_type": "display_data"
    }
   ],
   "source": [
    "input_filepath = Path(\n",
    "    NULL_DIR,\n",
    "    \"data_transformations\",\n",
    "    INPUT_SUBSET,\n",
    "    f\"{INPUT_SUBSET}-{INPUT_STEM}.pkl\",\n",
    ").resolve()\n",
    "display(input_filepath)\n",
    "\n",
    "assert input_filepath.exists(), \"Input file does not exist\"\n",
    "\n",
    "input_filepath_stem = input_filepath.stem\n",
    "display(input_filepath_stem)"
   ]
  },
  {
   "cell_type": "markdown",
   "id": "95134d20",
   "metadata": {
    "papermill": {
     "duration": 0.008234,
     "end_time": "2022-09-13T16:08:30.487867",
     "exception": false,
     "start_time": "2022-09-13T16:08:30.479633",
     "status": "completed"
    },
    "tags": []
   },
   "source": [
    "## Clustering"
   ]
  },
  {
   "cell_type": "code",
   "execution_count": 10,
   "id": "4a2e3595",
   "metadata": {
    "execution": {
     "iopub.execute_input": "2022-09-13T16:08:30.504641Z",
     "iopub.status.busy": "2022-09-13T16:08:30.504448Z",
     "iopub.status.idle": "2022-09-13T16:08:30.594965Z",
     "shell.execute_reply": "2022-09-13T16:08:30.594415Z"
    },
    "papermill": {
     "duration": 0.100513,
     "end_time": "2022-09-13T16:08:30.596383",
     "exception": false,
     "start_time": "2022-09-13T16:08:30.495870",
     "status": "completed"
    },
    "tags": []
   },
   "outputs": [],
   "source": [
    "from sklearn.cluster import SpectralClustering"
   ]
  },
  {
   "cell_type": "code",
   "execution_count": 11,
   "id": "2498716e",
   "metadata": {
    "execution": {
     "iopub.execute_input": "2022-09-13T16:08:30.613574Z",
     "iopub.status.busy": "2022-09-13T16:08:30.613355Z",
     "iopub.status.idle": "2022-09-13T16:08:30.630974Z",
     "shell.execute_reply": "2022-09-13T16:08:30.630450Z"
    },
    "papermill": {
     "duration": 0.027744,
     "end_time": "2022-09-13T16:08:30.632359",
     "exception": false,
     "start_time": "2022-09-13T16:08:30.604615",
     "status": "completed"
    },
    "tags": []
   },
   "outputs": [],
   "source": [
    "CLUSTERING_ATTRIBUTES_TO_SAVE = [\"n_clusters\"]"
   ]
  },
  {
   "cell_type": "code",
   "execution_count": 12,
   "id": "0769dc6f",
   "metadata": {
    "execution": {
     "iopub.execute_input": "2022-09-13T16:08:30.649989Z",
     "iopub.status.busy": "2022-09-13T16:08:30.649821Z",
     "iopub.status.idle": "2022-09-13T16:08:30.669325Z",
     "shell.execute_reply": "2022-09-13T16:08:30.668829Z"
    },
    "papermill": {
     "duration": 0.02981,
     "end_time": "2022-09-13T16:08:30.670605",
     "exception": false,
     "start_time": "2022-09-13T16:08:30.640795",
     "status": "completed"
    },
    "tags": []
   },
   "outputs": [
    {
     "data": {
      "text/plain": [
       "{'K_MIN': 2,\n",
       " 'K_MAX': 60,\n",
       " 'N_REPS_PER_K': 5,\n",
       " 'KMEANS_N_INIT': 10,\n",
       " 'GAMMA': 0.001,\n",
       " 'AFFINITY': 'rbf'}"
      ]
     },
     "metadata": {},
     "output_type": "display_data"
    }
   ],
   "source": [
    "CLUSTERING_OPTIONS = {}\n",
    "\n",
    "CLUSTERING_OPTIONS[\"K_MIN\"] = 2\n",
    "CLUSTERING_OPTIONS[\"K_MAX\"] = 60  # sqrt(3749)\n",
    "CLUSTERING_OPTIONS[\"N_REPS_PER_K\"] = 5\n",
    "CLUSTERING_OPTIONS[\"KMEANS_N_INIT\"] = 10\n",
    "CLUSTERING_OPTIONS[\"GAMMA\"] = 1.0e-03\n",
    "CLUSTERING_OPTIONS[\"AFFINITY\"] = \"rbf\"\n",
    "\n",
    "display(CLUSTERING_OPTIONS)"
   ]
  },
  {
   "cell_type": "code",
   "execution_count": 13,
   "id": "c1f431fb",
   "metadata": {
    "execution": {
     "iopub.execute_input": "2022-09-13T16:08:30.687842Z",
     "iopub.status.busy": "2022-09-13T16:08:30.687682Z",
     "iopub.status.idle": "2022-09-13T16:08:30.707934Z",
     "shell.execute_reply": "2022-09-13T16:08:30.707373Z"
    },
    "papermill": {
     "duration": 0.030386,
     "end_time": "2022-09-13T16:08:30.709402",
     "exception": false,
     "start_time": "2022-09-13T16:08:30.679016",
     "status": "completed"
    },
    "tags": []
   },
   "outputs": [],
   "source": [
    "CLUSTERERS = {}\n",
    "\n",
    "idx = 0\n",
    "random_state = INITIAL_RANDOM_STATE\n",
    "\n",
    "for k in range(CLUSTERING_OPTIONS[\"K_MIN\"], CLUSTERING_OPTIONS[\"K_MAX\"] + 1):\n",
    "    for i in range(CLUSTERING_OPTIONS[\"N_REPS_PER_K\"]):\n",
    "        clus = SpectralClustering(\n",
    "            eigen_solver=\"arpack\",\n",
    "            n_clusters=k,\n",
    "            n_init=CLUSTERING_OPTIONS[\"KMEANS_N_INIT\"],\n",
    "            affinity=CLUSTERING_OPTIONS[\"AFFINITY\"],\n",
    "            gamma=CLUSTERING_OPTIONS[\"GAMMA\"],\n",
    "            random_state=random_state,\n",
    "        )\n",
    "\n",
    "        method_name = type(clus).__name__\n",
    "        CLUSTERERS[f\"{method_name} #{idx}\"] = clus\n",
    "\n",
    "        random_state = random_state + 1\n",
    "        idx = idx + 1"
   ]
  },
  {
   "cell_type": "code",
   "execution_count": 14,
   "id": "d4834a14",
   "metadata": {
    "execution": {
     "iopub.execute_input": "2022-09-13T16:08:30.727321Z",
     "iopub.status.busy": "2022-09-13T16:08:30.727113Z",
     "iopub.status.idle": "2022-09-13T16:08:30.745887Z",
     "shell.execute_reply": "2022-09-13T16:08:30.745378Z"
    },
    "papermill": {
     "duration": 0.029304,
     "end_time": "2022-09-13T16:08:30.747202",
     "exception": false,
     "start_time": "2022-09-13T16:08:30.717898",
     "status": "completed"
    },
    "tags": []
   },
   "outputs": [
    {
     "data": {
      "text/plain": [
       "295"
      ]
     },
     "metadata": {},
     "output_type": "display_data"
    }
   ],
   "source": [
    "display(len(CLUSTERERS))"
   ]
  },
  {
   "cell_type": "code",
   "execution_count": 15,
   "id": "7bb148cc",
   "metadata": {
    "execution": {
     "iopub.execute_input": "2022-09-13T16:08:30.764530Z",
     "iopub.status.busy": "2022-09-13T16:08:30.764372Z",
     "iopub.status.idle": "2022-09-13T16:08:30.785105Z",
     "shell.execute_reply": "2022-09-13T16:08:30.784675Z"
    },
    "papermill": {
     "duration": 0.030602,
     "end_time": "2022-09-13T16:08:30.786337",
     "exception": false,
     "start_time": "2022-09-13T16:08:30.755735",
     "status": "completed"
    },
    "tags": []
   },
   "outputs": [
    {
     "data": {
      "text/plain": [
       "('SpectralClustering #0',\n",
       " SpectralClustering(eigen_solver='arpack', gamma=0.001, n_clusters=2,\n",
       "                    random_state=30000))"
      ]
     },
     "metadata": {},
     "output_type": "display_data"
    },
    {
     "data": {
      "text/plain": [
       "('SpectralClustering #1',\n",
       " SpectralClustering(eigen_solver='arpack', gamma=0.001, n_clusters=2,\n",
       "                    random_state=30001))"
      ]
     },
     "metadata": {},
     "output_type": "display_data"
    }
   ],
   "source": [
    "_iter = iter(CLUSTERERS.items())\n",
    "display(next(_iter))\n",
    "display(next(_iter))"
   ]
  },
  {
   "cell_type": "code",
   "execution_count": 16,
   "id": "92619f83",
   "metadata": {
    "execution": {
     "iopub.execute_input": "2022-09-13T16:08:30.804464Z",
     "iopub.status.busy": "2022-09-13T16:08:30.804299Z",
     "iopub.status.idle": "2022-09-13T16:08:30.823181Z",
     "shell.execute_reply": "2022-09-13T16:08:30.822738Z"
    },
    "papermill": {
     "duration": 0.029315,
     "end_time": "2022-09-13T16:08:30.824427",
     "exception": false,
     "start_time": "2022-09-13T16:08:30.795112",
     "status": "completed"
    },
    "tags": []
   },
   "outputs": [
    {
     "data": {
      "text/plain": [
       "'SpectralClustering'"
      ]
     },
     "metadata": {},
     "output_type": "display_data"
    }
   ],
   "source": [
    "clustering_method_name = method_name\n",
    "display(clustering_method_name)"
   ]
  },
  {
   "cell_type": "markdown",
   "id": "b0bc30ae",
   "metadata": {
    "papermill": {
     "duration": 0.008428,
     "end_time": "2022-09-13T16:08:30.841677",
     "exception": false,
     "start_time": "2022-09-13T16:08:30.833249",
     "status": "completed"
    },
    "tags": []
   },
   "source": [
    "## Output directory"
   ]
  },
  {
   "cell_type": "code",
   "execution_count": 17,
   "id": "1acd4fab",
   "metadata": {
    "execution": {
     "iopub.execute_input": "2022-09-13T16:08:30.859103Z",
     "iopub.status.busy": "2022-09-13T16:08:30.858907Z",
     "iopub.status.idle": "2022-09-13T16:08:30.879004Z",
     "shell.execute_reply": "2022-09-13T16:08:30.878487Z"
    },
    "papermill": {
     "duration": 0.02997,
     "end_time": "2022-09-13T16:08:30.880226",
     "exception": false,
     "start_time": "2022-09-13T16:08:30.850256",
     "status": "completed"
    },
    "tags": []
   },
   "outputs": [
    {
     "data": {
      "text/plain": [
       "PosixPath('/opt/data/results/clustering/null_sims/runs/z_score_std-projection-smultixcan-efo_partial-mashr-zscores')"
      ]
     },
     "metadata": {},
     "output_type": "display_data"
    }
   ],
   "source": [
    "# output dir for this notebook\n",
    "RESULTS_DIR = Path(\n",
    "    NULL_DIR,\n",
    "    \"runs\",\n",
    "    f\"{INPUT_SUBSET}-{INPUT_STEM}\",\n",
    ").resolve()\n",
    "RESULTS_DIR.mkdir(parents=True, exist_ok=True)\n",
    "\n",
    "display(RESULTS_DIR)"
   ]
  },
  {
   "cell_type": "markdown",
   "id": "93d0ea08",
   "metadata": {
    "papermill": {
     "duration": 0.008518,
     "end_time": "2022-09-13T16:08:30.897534",
     "exception": false,
     "start_time": "2022-09-13T16:08:30.889016",
     "status": "completed"
    },
    "tags": []
   },
   "source": [
    "# Load input file"
   ]
  },
  {
   "cell_type": "code",
   "execution_count": 18,
   "id": "1f832cf4",
   "metadata": {
    "execution": {
     "iopub.execute_input": "2022-09-13T16:08:30.932010Z",
     "iopub.status.busy": "2022-09-13T16:08:30.931835Z",
     "iopub.status.idle": "2022-09-13T16:08:30.966841Z",
     "shell.execute_reply": "2022-09-13T16:08:30.966321Z"
    },
    "papermill": {
     "duration": 0.062203,
     "end_time": "2022-09-13T16:08:30.968353",
     "exception": false,
     "start_time": "2022-09-13T16:08:30.906150",
     "status": "completed"
    },
    "tags": []
   },
   "outputs": [],
   "source": [
    "data = pd.read_pickle(input_filepath)"
   ]
  },
  {
   "cell_type": "code",
   "execution_count": 19,
   "id": "a4f834a9",
   "metadata": {
    "execution": {
     "iopub.execute_input": "2022-09-13T16:08:30.988690Z",
     "iopub.status.busy": "2022-09-13T16:08:30.988510Z",
     "iopub.status.idle": "2022-09-13T16:08:31.008928Z",
     "shell.execute_reply": "2022-09-13T16:08:31.008439Z"
    },
    "papermill": {
     "duration": 0.032173,
     "end_time": "2022-09-13T16:08:31.010374",
     "exception": false,
     "start_time": "2022-09-13T16:08:30.978201",
     "status": "completed"
    },
    "tags": []
   },
   "outputs": [
    {
     "data": {
      "text/plain": [
       "(3752, 987)"
      ]
     },
     "execution_count": 19,
     "metadata": {},
     "output_type": "execute_result"
    }
   ],
   "source": [
    "data.shape"
   ]
  },
  {
   "cell_type": "code",
   "execution_count": 20,
   "id": "f87fed6a",
   "metadata": {
    "execution": {
     "iopub.execute_input": "2022-09-13T16:08:31.030681Z",
     "iopub.status.busy": "2022-09-13T16:08:31.030497Z",
     "iopub.status.idle": "2022-09-13T16:08:31.065158Z",
     "shell.execute_reply": "2022-09-13T16:08:31.064694Z"
    },
    "papermill": {
     "duration": 0.046204,
     "end_time": "2022-09-13T16:08:31.066351",
     "exception": false,
     "start_time": "2022-09-13T16:08:31.020147",
     "status": "completed"
    },
    "tags": []
   },
   "outputs": [
    {
     "data": {
      "text/html": [
       "<div>\n",
       "<style scoped>\n",
       "    .dataframe tbody tr th:only-of-type {\n",
       "        vertical-align: middle;\n",
       "    }\n",
       "\n",
       "    .dataframe tbody tr th {\n",
       "        vertical-align: top;\n",
       "    }\n",
       "\n",
       "    .dataframe thead th {\n",
       "        text-align: right;\n",
       "    }\n",
       "</style>\n",
       "<table border=\"1\" class=\"dataframe\">\n",
       "  <thead>\n",
       "    <tr style=\"text-align: right;\">\n",
       "      <th></th>\n",
       "      <th>LV1</th>\n",
       "      <th>LV2</th>\n",
       "      <th>LV3</th>\n",
       "      <th>LV4</th>\n",
       "      <th>LV5</th>\n",
       "      <th>LV6</th>\n",
       "      <th>LV7</th>\n",
       "      <th>LV8</th>\n",
       "      <th>LV9</th>\n",
       "      <th>LV10</th>\n",
       "      <th>...</th>\n",
       "      <th>LV978</th>\n",
       "      <th>LV979</th>\n",
       "      <th>LV980</th>\n",
       "      <th>LV981</th>\n",
       "      <th>LV982</th>\n",
       "      <th>LV983</th>\n",
       "      <th>LV984</th>\n",
       "      <th>LV985</th>\n",
       "      <th>LV986</th>\n",
       "      <th>LV987</th>\n",
       "    </tr>\n",
       "  </thead>\n",
       "  <tbody>\n",
       "    <tr>\n",
       "      <th>100001_raw-Food_weight</th>\n",
       "      <td>-0.175043</td>\n",
       "      <td>-0.710171</td>\n",
       "      <td>-1.000846</td>\n",
       "      <td>0.693026</td>\n",
       "      <td>0.409413</td>\n",
       "      <td>0.642958</td>\n",
       "      <td>1.767862</td>\n",
       "      <td>-1.070425</td>\n",
       "      <td>0.809395</td>\n",
       "      <td>-1.555050</td>\n",
       "      <td>...</td>\n",
       "      <td>-0.932802</td>\n",
       "      <td>0.371349</td>\n",
       "      <td>-0.521787</td>\n",
       "      <td>-0.881136</td>\n",
       "      <td>-1.193309</td>\n",
       "      <td>-0.257883</td>\n",
       "      <td>1.382268</td>\n",
       "      <td>0.066549</td>\n",
       "      <td>-0.866086</td>\n",
       "      <td>0.847997</td>\n",
       "    </tr>\n",
       "    <tr>\n",
       "      <th>100002_raw-Energy</th>\n",
       "      <td>0.531227</td>\n",
       "      <td>0.894062</td>\n",
       "      <td>1.191552</td>\n",
       "      <td>-0.143922</td>\n",
       "      <td>0.217867</td>\n",
       "      <td>0.529878</td>\n",
       "      <td>0.219561</td>\n",
       "      <td>-1.538143</td>\n",
       "      <td>-0.166704</td>\n",
       "      <td>1.042749</td>\n",
       "      <td>...</td>\n",
       "      <td>-0.601329</td>\n",
       "      <td>0.625139</td>\n",
       "      <td>-0.113048</td>\n",
       "      <td>-1.477163</td>\n",
       "      <td>0.746773</td>\n",
       "      <td>0.316892</td>\n",
       "      <td>-0.660407</td>\n",
       "      <td>1.501067</td>\n",
       "      <td>0.543744</td>\n",
       "      <td>1.094294</td>\n",
       "    </tr>\n",
       "    <tr>\n",
       "      <th>100003_raw-Protein</th>\n",
       "      <td>0.405395</td>\n",
       "      <td>0.925288</td>\n",
       "      <td>-0.339507</td>\n",
       "      <td>0.799476</td>\n",
       "      <td>-0.512075</td>\n",
       "      <td>0.586632</td>\n",
       "      <td>0.361706</td>\n",
       "      <td>0.226860</td>\n",
       "      <td>1.208289</td>\n",
       "      <td>-1.880931</td>\n",
       "      <td>...</td>\n",
       "      <td>-0.489171</td>\n",
       "      <td>0.276717</td>\n",
       "      <td>-0.159505</td>\n",
       "      <td>-1.271106</td>\n",
       "      <td>0.300351</td>\n",
       "      <td>0.595915</td>\n",
       "      <td>0.509020</td>\n",
       "      <td>-0.127540</td>\n",
       "      <td>-0.811987</td>\n",
       "      <td>-1.108812</td>\n",
       "    </tr>\n",
       "    <tr>\n",
       "      <th>100004_raw-Fat</th>\n",
       "      <td>-0.156230</td>\n",
       "      <td>0.881426</td>\n",
       "      <td>0.395527</td>\n",
       "      <td>-1.570256</td>\n",
       "      <td>1.240955</td>\n",
       "      <td>2.064595</td>\n",
       "      <td>-0.547373</td>\n",
       "      <td>-1.228389</td>\n",
       "      <td>0.319684</td>\n",
       "      <td>0.858253</td>\n",
       "      <td>...</td>\n",
       "      <td>-0.407151</td>\n",
       "      <td>-1.217662</td>\n",
       "      <td>-0.361052</td>\n",
       "      <td>0.813221</td>\n",
       "      <td>-0.692981</td>\n",
       "      <td>1.099523</td>\n",
       "      <td>-0.017366</td>\n",
       "      <td>0.361278</td>\n",
       "      <td>-0.017222</td>\n",
       "      <td>1.750511</td>\n",
       "    </tr>\n",
       "    <tr>\n",
       "      <th>100005_raw-Carbohydrate</th>\n",
       "      <td>-0.142531</td>\n",
       "      <td>-0.521907</td>\n",
       "      <td>1.069304</td>\n",
       "      <td>0.548122</td>\n",
       "      <td>-0.422146</td>\n",
       "      <td>-1.330718</td>\n",
       "      <td>-1.260872</td>\n",
       "      <td>1.003617</td>\n",
       "      <td>1.266289</td>\n",
       "      <td>0.065408</td>\n",
       "      <td>...</td>\n",
       "      <td>1.506698</td>\n",
       "      <td>-0.069854</td>\n",
       "      <td>-0.084662</td>\n",
       "      <td>-1.269536</td>\n",
       "      <td>-0.421185</td>\n",
       "      <td>0.431180</td>\n",
       "      <td>1.673162</td>\n",
       "      <td>-0.954336</td>\n",
       "      <td>0.026593</td>\n",
       "      <td>0.655359</td>\n",
       "    </tr>\n",
       "  </tbody>\n",
       "</table>\n",
       "<p>5 rows × 987 columns</p>\n",
       "</div>"
      ],
      "text/plain": [
       "                              LV1       LV2       LV3       LV4       LV5  \\\n",
       "100001_raw-Food_weight  -0.175043 -0.710171 -1.000846  0.693026  0.409413   \n",
       "100002_raw-Energy        0.531227  0.894062  1.191552 -0.143922  0.217867   \n",
       "100003_raw-Protein       0.405395  0.925288 -0.339507  0.799476 -0.512075   \n",
       "100004_raw-Fat          -0.156230  0.881426  0.395527 -1.570256  1.240955   \n",
       "100005_raw-Carbohydrate -0.142531 -0.521907  1.069304  0.548122 -0.422146   \n",
       "\n",
       "                              LV6       LV7       LV8       LV9      LV10  \\\n",
       "100001_raw-Food_weight   0.642958  1.767862 -1.070425  0.809395 -1.555050   \n",
       "100002_raw-Energy        0.529878  0.219561 -1.538143 -0.166704  1.042749   \n",
       "100003_raw-Protein       0.586632  0.361706  0.226860  1.208289 -1.880931   \n",
       "100004_raw-Fat           2.064595 -0.547373 -1.228389  0.319684  0.858253   \n",
       "100005_raw-Carbohydrate -1.330718 -1.260872  1.003617  1.266289  0.065408   \n",
       "\n",
       "                         ...     LV978     LV979     LV980     LV981  \\\n",
       "100001_raw-Food_weight   ... -0.932802  0.371349 -0.521787 -0.881136   \n",
       "100002_raw-Energy        ... -0.601329  0.625139 -0.113048 -1.477163   \n",
       "100003_raw-Protein       ... -0.489171  0.276717 -0.159505 -1.271106   \n",
       "100004_raw-Fat           ... -0.407151 -1.217662 -0.361052  0.813221   \n",
       "100005_raw-Carbohydrate  ...  1.506698 -0.069854 -0.084662 -1.269536   \n",
       "\n",
       "                            LV982     LV983     LV984     LV985     LV986  \\\n",
       "100001_raw-Food_weight  -1.193309 -0.257883  1.382268  0.066549 -0.866086   \n",
       "100002_raw-Energy        0.746773  0.316892 -0.660407  1.501067  0.543744   \n",
       "100003_raw-Protein       0.300351  0.595915  0.509020 -0.127540 -0.811987   \n",
       "100004_raw-Fat          -0.692981  1.099523 -0.017366  0.361278 -0.017222   \n",
       "100005_raw-Carbohydrate -0.421185  0.431180  1.673162 -0.954336  0.026593   \n",
       "\n",
       "                            LV987  \n",
       "100001_raw-Food_weight   0.847997  \n",
       "100002_raw-Energy        1.094294  \n",
       "100003_raw-Protein      -1.108812  \n",
       "100004_raw-Fat           1.750511  \n",
       "100005_raw-Carbohydrate  0.655359  \n",
       "\n",
       "[5 rows x 987 columns]"
      ]
     },
     "execution_count": 20,
     "metadata": {},
     "output_type": "execute_result"
    }
   ],
   "source": [
    "data.head()"
   ]
  },
  {
   "cell_type": "code",
   "execution_count": 21,
   "id": "a293936e",
   "metadata": {
    "execution": {
     "iopub.execute_input": "2022-09-13T16:08:31.084887Z",
     "iopub.status.busy": "2022-09-13T16:08:31.084722Z",
     "iopub.status.idle": "2022-09-13T16:08:31.109215Z",
     "shell.execute_reply": "2022-09-13T16:08:31.108528Z"
    },
    "papermill": {
     "duration": 0.035427,
     "end_time": "2022-09-13T16:08:31.110665",
     "exception": false,
     "start_time": "2022-09-13T16:08:31.075238",
     "status": "completed"
    },
    "tags": []
   },
   "outputs": [],
   "source": [
    "assert not data.isna().any().any()"
   ]
  },
  {
   "cell_type": "markdown",
   "id": "3226dada",
   "metadata": {
    "papermill": {
     "duration": 0.009458,
     "end_time": "2022-09-13T16:08:31.129875",
     "exception": false,
     "start_time": "2022-09-13T16:08:31.120417",
     "status": "completed"
    },
    "tags": []
   },
   "source": [
    "# Clustering"
   ]
  },
  {
   "cell_type": "markdown",
   "id": "cc6d4b0b",
   "metadata": {
    "papermill": {
     "duration": 0.008338,
     "end_time": "2022-09-13T16:08:31.147757",
     "exception": false,
     "start_time": "2022-09-13T16:08:31.139419",
     "status": "completed"
    },
    "tags": []
   },
   "source": [
    "## Generate ensemble"
   ]
  },
  {
   "cell_type": "code",
   "execution_count": 22,
   "id": "228c0041",
   "metadata": {
    "execution": {
     "iopub.execute_input": "2022-09-13T16:08:31.165513Z",
     "iopub.status.busy": "2022-09-13T16:08:31.165292Z",
     "iopub.status.idle": "2022-09-13T16:08:31.187174Z",
     "shell.execute_reply": "2022-09-13T16:08:31.186598Z"
    },
    "papermill": {
     "duration": 0.032624,
     "end_time": "2022-09-13T16:08:31.188622",
     "exception": false,
     "start_time": "2022-09-13T16:08:31.155998",
     "status": "completed"
    },
    "tags": []
   },
   "outputs": [],
   "source": [
    "from clustering.ensembles.utils import generate_ensemble"
   ]
  },
  {
   "cell_type": "code",
   "execution_count": 23,
   "id": "cf4263e9",
   "metadata": {
    "execution": {
     "iopub.execute_input": "2022-09-13T16:08:31.207423Z",
     "iopub.status.busy": "2022-09-13T16:08:31.207183Z",
     "iopub.status.idle": "2022-09-13T16:27:17.633141Z",
     "shell.execute_reply": "2022-09-13T16:27:17.632581Z"
    },
    "papermill": {
     "duration": 1126.436652,
     "end_time": "2022-09-13T16:27:17.634422",
     "exception": false,
     "start_time": "2022-09-13T16:08:31.197770",
     "status": "completed"
    },
    "tags": []
   },
   "outputs": [
    {
     "name": "stderr",
     "output_type": "stream",
     "text": [
      "100%|██████████| 295/295 [18:46<00:00,  3.82s/it]\n"
     ]
    }
   ],
   "source": [
    "ensemble = generate_ensemble(\n",
    "    data,\n",
    "    CLUSTERERS,\n",
    "    attributes=CLUSTERING_ATTRIBUTES_TO_SAVE,\n",
    ")"
   ]
  },
  {
   "cell_type": "code",
   "execution_count": 24,
   "id": "b6e54451",
   "metadata": {
    "execution": {
     "iopub.execute_input": "2022-09-13T16:27:17.671524Z",
     "iopub.status.busy": "2022-09-13T16:27:17.671274Z",
     "iopub.status.idle": "2022-09-13T16:27:17.690087Z",
     "shell.execute_reply": "2022-09-13T16:27:17.689606Z"
    },
    "papermill": {
     "duration": 0.038896,
     "end_time": "2022-09-13T16:27:17.691281",
     "exception": false,
     "start_time": "2022-09-13T16:27:17.652385",
     "status": "completed"
    },
    "tags": []
   },
   "outputs": [
    {
     "data": {
      "text/plain": [
       "(295, 3)"
      ]
     },
     "execution_count": 24,
     "metadata": {},
     "output_type": "execute_result"
    }
   ],
   "source": [
    "# the number should be close to 295 (the number of partitions generated by k-means/spectral clustering)\n",
    "ensemble.shape"
   ]
  },
  {
   "cell_type": "code",
   "execution_count": 25,
   "id": "09393ac6",
   "metadata": {
    "execution": {
     "iopub.execute_input": "2022-09-13T16:27:17.729057Z",
     "iopub.status.busy": "2022-09-13T16:27:17.728890Z",
     "iopub.status.idle": "2022-09-13T16:27:17.755090Z",
     "shell.execute_reply": "2022-09-13T16:27:17.754531Z"
    },
    "papermill": {
     "duration": 0.046422,
     "end_time": "2022-09-13T16:27:17.756286",
     "exception": false,
     "start_time": "2022-09-13T16:27:17.709864",
     "status": "completed"
    },
    "tags": []
   },
   "outputs": [
    {
     "data": {
      "text/html": [
       "<div>\n",
       "<style scoped>\n",
       "    .dataframe tbody tr th:only-of-type {\n",
       "        vertical-align: middle;\n",
       "    }\n",
       "\n",
       "    .dataframe tbody tr th {\n",
       "        vertical-align: top;\n",
       "    }\n",
       "\n",
       "    .dataframe thead th {\n",
       "        text-align: right;\n",
       "    }\n",
       "</style>\n",
       "<table border=\"1\" class=\"dataframe\">\n",
       "  <thead>\n",
       "    <tr style=\"text-align: right;\">\n",
       "      <th></th>\n",
       "      <th>clusterer_params</th>\n",
       "      <th>partition</th>\n",
       "      <th>n_clusters</th>\n",
       "    </tr>\n",
       "    <tr>\n",
       "      <th>clusterer_id</th>\n",
       "      <th></th>\n",
       "      <th></th>\n",
       "      <th></th>\n",
       "    </tr>\n",
       "  </thead>\n",
       "  <tbody>\n",
       "    <tr>\n",
       "      <th>SpectralClustering #0</th>\n",
       "      <td>{'affinity': 'rbf', 'assign_labels': 'kmeans',...</td>\n",
       "      <td>[1.0, 1.0, 1.0, 0.0, 0.0, 0.0, 0.0, 0.0, 0.0, ...</td>\n",
       "      <td>2</td>\n",
       "    </tr>\n",
       "    <tr>\n",
       "      <th>SpectralClustering #1</th>\n",
       "      <td>{'affinity': 'rbf', 'assign_labels': 'kmeans',...</td>\n",
       "      <td>[0.0, 0.0, 0.0, 1.0, 1.0, 1.0, 1.0, 1.0, 1.0, ...</td>\n",
       "      <td>2</td>\n",
       "    </tr>\n",
       "    <tr>\n",
       "      <th>SpectralClustering #2</th>\n",
       "      <td>{'affinity': 'rbf', 'assign_labels': 'kmeans',...</td>\n",
       "      <td>[0.0, 0.0, 0.0, 1.0, 1.0, 1.0, 1.0, 1.0, 1.0, ...</td>\n",
       "      <td>2</td>\n",
       "    </tr>\n",
       "    <tr>\n",
       "      <th>SpectralClustering #3</th>\n",
       "      <td>{'affinity': 'rbf', 'assign_labels': 'kmeans',...</td>\n",
       "      <td>[0.0, 0.0, 0.0, 1.0, 1.0, 1.0, 1.0, 1.0, 1.0, ...</td>\n",
       "      <td>2</td>\n",
       "    </tr>\n",
       "    <tr>\n",
       "      <th>SpectralClustering #4</th>\n",
       "      <td>{'affinity': 'rbf', 'assign_labels': 'kmeans',...</td>\n",
       "      <td>[0.0, 0.0, 0.0, 1.0, 1.0, 1.0, 1.0, 1.0, 1.0, ...</td>\n",
       "      <td>2</td>\n",
       "    </tr>\n",
       "  </tbody>\n",
       "</table>\n",
       "</div>"
      ],
      "text/plain": [
       "                                                        clusterer_params  \\\n",
       "clusterer_id                                                               \n",
       "SpectralClustering #0  {'affinity': 'rbf', 'assign_labels': 'kmeans',...   \n",
       "SpectralClustering #1  {'affinity': 'rbf', 'assign_labels': 'kmeans',...   \n",
       "SpectralClustering #2  {'affinity': 'rbf', 'assign_labels': 'kmeans',...   \n",
       "SpectralClustering #3  {'affinity': 'rbf', 'assign_labels': 'kmeans',...   \n",
       "SpectralClustering #4  {'affinity': 'rbf', 'assign_labels': 'kmeans',...   \n",
       "\n",
       "                                                               partition  \\\n",
       "clusterer_id                                                               \n",
       "SpectralClustering #0  [1.0, 1.0, 1.0, 0.0, 0.0, 0.0, 0.0, 0.0, 0.0, ...   \n",
       "SpectralClustering #1  [0.0, 0.0, 0.0, 1.0, 1.0, 1.0, 1.0, 1.0, 1.0, ...   \n",
       "SpectralClustering #2  [0.0, 0.0, 0.0, 1.0, 1.0, 1.0, 1.0, 1.0, 1.0, ...   \n",
       "SpectralClustering #3  [0.0, 0.0, 0.0, 1.0, 1.0, 1.0, 1.0, 1.0, 1.0, ...   \n",
       "SpectralClustering #4  [0.0, 0.0, 0.0, 1.0, 1.0, 1.0, 1.0, 1.0, 1.0, ...   \n",
       "\n",
       "                       n_clusters  \n",
       "clusterer_id                       \n",
       "SpectralClustering #0           2  \n",
       "SpectralClustering #1           2  \n",
       "SpectralClustering #2           2  \n",
       "SpectralClustering #3           2  \n",
       "SpectralClustering #4           2  "
      ]
     },
     "execution_count": 25,
     "metadata": {},
     "output_type": "execute_result"
    }
   ],
   "source": [
    "ensemble.head()"
   ]
  },
  {
   "cell_type": "code",
   "execution_count": 26,
   "id": "5dc7ef62",
   "metadata": {
    "execution": {
     "iopub.execute_input": "2022-09-13T16:27:17.793633Z",
     "iopub.status.busy": "2022-09-13T16:27:17.792850Z",
     "iopub.status.idle": "2022-09-13T16:27:17.812428Z",
     "shell.execute_reply": "2022-09-13T16:27:17.811819Z"
    },
    "papermill": {
     "duration": 0.039412,
     "end_time": "2022-09-13T16:27:17.813765",
     "exception": false,
     "start_time": "2022-09-13T16:27:17.774353",
     "status": "completed"
    },
    "tags": []
   },
   "outputs": [
    {
     "data": {
      "text/plain": [
       "60    5\n",
       "16    5\n",
       "28    5\n",
       "27    5\n",
       "26    5\n",
       "Name: n_clusters, dtype: int64"
      ]
     },
     "execution_count": 26,
     "metadata": {},
     "output_type": "execute_result"
    }
   ],
   "source": [
    "ensemble[\"n_clusters\"].value_counts().head()"
   ]
  },
  {
   "cell_type": "code",
   "execution_count": 27,
   "id": "b950b179",
   "metadata": {
    "execution": {
     "iopub.execute_input": "2022-09-13T16:27:17.851903Z",
     "iopub.status.busy": "2022-09-13T16:27:17.851694Z",
     "iopub.status.idle": "2022-09-13T16:27:17.872976Z",
     "shell.execute_reply": "2022-09-13T16:27:17.872537Z"
    },
    "papermill": {
     "duration": 0.041815,
     "end_time": "2022-09-13T16:27:17.874307",
     "exception": false,
     "start_time": "2022-09-13T16:27:17.832492",
     "status": "completed"
    },
    "tags": []
   },
   "outputs": [
    {
     "data": {
      "text/plain": [
       "count    295.000000\n",
       "mean      31.000000\n",
       "std       17.058323\n",
       "min        2.000000\n",
       "25%       16.000000\n",
       "50%       31.000000\n",
       "75%       46.000000\n",
       "max       60.000000\n",
       "Name: n_clusters, dtype: float64"
      ]
     },
     "metadata": {},
     "output_type": "display_data"
    }
   ],
   "source": [
    "ensemble_stats = ensemble[\"n_clusters\"].describe()\n",
    "display(ensemble_stats)"
   ]
  },
  {
   "cell_type": "markdown",
   "id": "db1f5758",
   "metadata": {
    "papermill": {
     "duration": 0.018483,
     "end_time": "2022-09-13T16:27:17.911546",
     "exception": false,
     "start_time": "2022-09-13T16:27:17.893063",
     "status": "completed"
    },
    "tags": []
   },
   "source": [
    "## Testing"
   ]
  },
  {
   "cell_type": "code",
   "execution_count": 28,
   "id": "fb13f8e0",
   "metadata": {
    "execution": {
     "iopub.execute_input": "2022-09-13T16:27:17.948355Z",
     "iopub.status.busy": "2022-09-13T16:27:17.947724Z",
     "iopub.status.idle": "2022-09-13T16:27:17.967056Z",
     "shell.execute_reply": "2022-09-13T16:27:17.966481Z"
    },
    "papermill": {
     "duration": 0.039247,
     "end_time": "2022-09-13T16:27:17.968467",
     "exception": false,
     "start_time": "2022-09-13T16:27:17.929220",
     "status": "completed"
    },
    "tags": []
   },
   "outputs": [],
   "source": [
    "assert ensemble_stats[\"min\"] > 1"
   ]
  },
  {
   "cell_type": "code",
   "execution_count": 29,
   "id": "6088526f",
   "metadata": {
    "execution": {
     "iopub.execute_input": "2022-09-13T16:27:18.006370Z",
     "iopub.status.busy": "2022-09-13T16:27:18.006159Z",
     "iopub.status.idle": "2022-09-13T16:27:18.024403Z",
     "shell.execute_reply": "2022-09-13T16:27:18.023836Z"
    },
    "papermill": {
     "duration": 0.038412,
     "end_time": "2022-09-13T16:27:18.025807",
     "exception": false,
     "start_time": "2022-09-13T16:27:17.987395",
     "status": "completed"
    },
    "tags": []
   },
   "outputs": [],
   "source": [
    "assert not ensemble[\"n_clusters\"].isna().any()"
   ]
  },
  {
   "cell_type": "code",
   "execution_count": 30,
   "id": "ca073971",
   "metadata": {
    "execution": {
     "iopub.execute_input": "2022-09-13T16:27:18.063569Z",
     "iopub.status.busy": "2022-09-13T16:27:18.063337Z",
     "iopub.status.idle": "2022-09-13T16:27:18.081795Z",
     "shell.execute_reply": "2022-09-13T16:27:18.081153Z"
    },
    "papermill": {
     "duration": 0.038311,
     "end_time": "2022-09-13T16:27:18.083179",
     "exception": false,
     "start_time": "2022-09-13T16:27:18.044868",
     "status": "completed"
    },
    "tags": []
   },
   "outputs": [],
   "source": [
    "assert ensemble.shape[0] == len(CLUSTERERS)"
   ]
  },
  {
   "cell_type": "code",
   "execution_count": 31,
   "id": "0229cdc5",
   "metadata": {
    "execution": {
     "iopub.execute_input": "2022-09-13T16:27:18.121171Z",
     "iopub.status.busy": "2022-09-13T16:27:18.120641Z",
     "iopub.status.idle": "2022-09-13T16:27:18.156390Z",
     "shell.execute_reply": "2022-09-13T16:27:18.155865Z"
    },
    "papermill": {
     "duration": 0.055937,
     "end_time": "2022-09-13T16:27:18.157898",
     "exception": false,
     "start_time": "2022-09-13T16:27:18.101961",
     "status": "completed"
    },
    "tags": []
   },
   "outputs": [],
   "source": [
    "# all partitions have the right size\n",
    "assert np.all(\n",
    "    [part[\"partition\"].shape[0] == data.shape[0] for idx, part in ensemble.iterrows()]\n",
    ")"
   ]
  },
  {
   "cell_type": "code",
   "execution_count": 32,
   "id": "78af0a18",
   "metadata": {
    "execution": {
     "iopub.execute_input": "2022-09-13T16:27:18.194681Z",
     "iopub.status.busy": "2022-09-13T16:27:18.194472Z",
     "iopub.status.idle": "2022-09-13T16:27:18.233449Z",
     "shell.execute_reply": "2022-09-13T16:27:18.232958Z"
    },
    "papermill": {
     "duration": 0.059088,
     "end_time": "2022-09-13T16:27:18.234981",
     "exception": false,
     "start_time": "2022-09-13T16:27:18.175893",
     "status": "completed"
    },
    "tags": []
   },
   "outputs": [],
   "source": [
    "# no partition has negative clusters (noisy points)\n",
    "assert not np.any([(part[\"partition\"] < 0).any() for idx, part in ensemble.iterrows()])"
   ]
  },
  {
   "cell_type": "markdown",
   "id": "a3bb54b4",
   "metadata": {
    "papermill": {
     "duration": 0.017711,
     "end_time": "2022-09-13T16:27:18.270948",
     "exception": false,
     "start_time": "2022-09-13T16:27:18.253237",
     "status": "completed"
    },
    "tags": []
   },
   "source": [
    "## Add clustering quality measures"
   ]
  },
  {
   "cell_type": "code",
   "execution_count": 33,
   "id": "98237d43",
   "metadata": {
    "execution": {
     "iopub.execute_input": "2022-09-13T16:27:18.307226Z",
     "iopub.status.busy": "2022-09-13T16:27:18.306995Z",
     "iopub.status.idle": "2022-09-13T16:27:18.324921Z",
     "shell.execute_reply": "2022-09-13T16:27:18.324356Z"
    },
    "papermill": {
     "duration": 0.037862,
     "end_time": "2022-09-13T16:27:18.326519",
     "exception": false,
     "start_time": "2022-09-13T16:27:18.288657",
     "status": "completed"
    },
    "tags": []
   },
   "outputs": [],
   "source": [
    "from sklearn.metrics import calinski_harabasz_score"
   ]
  },
  {
   "cell_type": "code",
   "execution_count": 34,
   "id": "cf71c996",
   "metadata": {
    "execution": {
     "iopub.execute_input": "2022-09-13T16:27:18.364270Z",
     "iopub.status.busy": "2022-09-13T16:27:18.363638Z",
     "iopub.status.idle": "2022-09-13T16:27:34.105754Z",
     "shell.execute_reply": "2022-09-13T16:27:34.105084Z"
    },
    "papermill": {
     "duration": 15.762473,
     "end_time": "2022-09-13T16:27:34.107511",
     "exception": false,
     "start_time": "2022-09-13T16:27:18.345038",
     "status": "completed"
    },
    "tags": []
   },
   "outputs": [],
   "source": [
    "ensemble = ensemble.assign(\n",
    "    ch_score=ensemble[\"partition\"].apply(lambda x: calinski_harabasz_score(data, x))\n",
    ")"
   ]
  },
  {
   "cell_type": "code",
   "execution_count": 35,
   "id": "735ab2f4",
   "metadata": {
    "execution": {
     "iopub.execute_input": "2022-09-13T16:27:34.154810Z",
     "iopub.status.busy": "2022-09-13T16:27:34.154633Z",
     "iopub.status.idle": "2022-09-13T16:27:34.174941Z",
     "shell.execute_reply": "2022-09-13T16:27:34.174387Z"
    },
    "papermill": {
     "duration": 0.044922,
     "end_time": "2022-09-13T16:27:34.176256",
     "exception": false,
     "start_time": "2022-09-13T16:27:34.131334",
     "status": "completed"
    },
    "tags": []
   },
   "outputs": [
    {
     "data": {
      "text/plain": [
       "(295, 4)"
      ]
     },
     "execution_count": 35,
     "metadata": {},
     "output_type": "execute_result"
    }
   ],
   "source": [
    "ensemble.shape"
   ]
  },
  {
   "cell_type": "code",
   "execution_count": 36,
   "id": "d3c18721",
   "metadata": {
    "execution": {
     "iopub.execute_input": "2022-09-13T16:27:34.215141Z",
     "iopub.status.busy": "2022-09-13T16:27:34.214518Z",
     "iopub.status.idle": "2022-09-13T16:27:34.240769Z",
     "shell.execute_reply": "2022-09-13T16:27:34.240257Z"
    },
    "papermill": {
     "duration": 0.046127,
     "end_time": "2022-09-13T16:27:34.241964",
     "exception": false,
     "start_time": "2022-09-13T16:27:34.195837",
     "status": "completed"
    },
    "tags": []
   },
   "outputs": [
    {
     "data": {
      "text/html": [
       "<div>\n",
       "<style scoped>\n",
       "    .dataframe tbody tr th:only-of-type {\n",
       "        vertical-align: middle;\n",
       "    }\n",
       "\n",
       "    .dataframe tbody tr th {\n",
       "        vertical-align: top;\n",
       "    }\n",
       "\n",
       "    .dataframe thead th {\n",
       "        text-align: right;\n",
       "    }\n",
       "</style>\n",
       "<table border=\"1\" class=\"dataframe\">\n",
       "  <thead>\n",
       "    <tr style=\"text-align: right;\">\n",
       "      <th></th>\n",
       "      <th>clusterer_params</th>\n",
       "      <th>partition</th>\n",
       "      <th>n_clusters</th>\n",
       "      <th>ch_score</th>\n",
       "    </tr>\n",
       "    <tr>\n",
       "      <th>clusterer_id</th>\n",
       "      <th></th>\n",
       "      <th></th>\n",
       "      <th></th>\n",
       "      <th></th>\n",
       "    </tr>\n",
       "  </thead>\n",
       "  <tbody>\n",
       "    <tr>\n",
       "      <th>SpectralClustering #0</th>\n",
       "      <td>{'affinity': 'rbf', 'assign_labels': 'kmeans',...</td>\n",
       "      <td>[1.0, 1.0, 1.0, 0.0, 0.0, 0.0, 0.0, 0.0, 0.0, ...</td>\n",
       "      <td>2</td>\n",
       "      <td>5.973352</td>\n",
       "    </tr>\n",
       "    <tr>\n",
       "      <th>SpectralClustering #1</th>\n",
       "      <td>{'affinity': 'rbf', 'assign_labels': 'kmeans',...</td>\n",
       "      <td>[0.0, 0.0, 0.0, 1.0, 1.0, 1.0, 1.0, 1.0, 1.0, ...</td>\n",
       "      <td>2</td>\n",
       "      <td>5.973352</td>\n",
       "    </tr>\n",
       "    <tr>\n",
       "      <th>SpectralClustering #2</th>\n",
       "      <td>{'affinity': 'rbf', 'assign_labels': 'kmeans',...</td>\n",
       "      <td>[0.0, 0.0, 0.0, 1.0, 1.0, 1.0, 1.0, 1.0, 1.0, ...</td>\n",
       "      <td>2</td>\n",
       "      <td>5.968104</td>\n",
       "    </tr>\n",
       "    <tr>\n",
       "      <th>SpectralClustering #3</th>\n",
       "      <td>{'affinity': 'rbf', 'assign_labels': 'kmeans',...</td>\n",
       "      <td>[0.0, 0.0, 0.0, 1.0, 1.0, 1.0, 1.0, 1.0, 1.0, ...</td>\n",
       "      <td>2</td>\n",
       "      <td>5.973352</td>\n",
       "    </tr>\n",
       "    <tr>\n",
       "      <th>SpectralClustering #4</th>\n",
       "      <td>{'affinity': 'rbf', 'assign_labels': 'kmeans',...</td>\n",
       "      <td>[0.0, 0.0, 0.0, 1.0, 1.0, 1.0, 1.0, 1.0, 1.0, ...</td>\n",
       "      <td>2</td>\n",
       "      <td>5.973352</td>\n",
       "    </tr>\n",
       "  </tbody>\n",
       "</table>\n",
       "</div>"
      ],
      "text/plain": [
       "                                                        clusterer_params  \\\n",
       "clusterer_id                                                               \n",
       "SpectralClustering #0  {'affinity': 'rbf', 'assign_labels': 'kmeans',...   \n",
       "SpectralClustering #1  {'affinity': 'rbf', 'assign_labels': 'kmeans',...   \n",
       "SpectralClustering #2  {'affinity': 'rbf', 'assign_labels': 'kmeans',...   \n",
       "SpectralClustering #3  {'affinity': 'rbf', 'assign_labels': 'kmeans',...   \n",
       "SpectralClustering #4  {'affinity': 'rbf', 'assign_labels': 'kmeans',...   \n",
       "\n",
       "                                                               partition  \\\n",
       "clusterer_id                                                               \n",
       "SpectralClustering #0  [1.0, 1.0, 1.0, 0.0, 0.0, 0.0, 0.0, 0.0, 0.0, ...   \n",
       "SpectralClustering #1  [0.0, 0.0, 0.0, 1.0, 1.0, 1.0, 1.0, 1.0, 1.0, ...   \n",
       "SpectralClustering #2  [0.0, 0.0, 0.0, 1.0, 1.0, 1.0, 1.0, 1.0, 1.0, ...   \n",
       "SpectralClustering #3  [0.0, 0.0, 0.0, 1.0, 1.0, 1.0, 1.0, 1.0, 1.0, ...   \n",
       "SpectralClustering #4  [0.0, 0.0, 0.0, 1.0, 1.0, 1.0, 1.0, 1.0, 1.0, ...   \n",
       "\n",
       "                       n_clusters  ch_score  \n",
       "clusterer_id                                 \n",
       "SpectralClustering #0           2  5.973352  \n",
       "SpectralClustering #1           2  5.973352  \n",
       "SpectralClustering #2           2  5.968104  \n",
       "SpectralClustering #3           2  5.973352  \n",
       "SpectralClustering #4           2  5.973352  "
      ]
     },
     "execution_count": 36,
     "metadata": {},
     "output_type": "execute_result"
    }
   ],
   "source": [
    "ensemble.head()"
   ]
  },
  {
   "cell_type": "markdown",
   "id": "4396b3e8",
   "metadata": {
    "papermill": {
     "duration": 0.018015,
     "end_time": "2022-09-13T16:27:34.279284",
     "exception": false,
     "start_time": "2022-09-13T16:27:34.261269",
     "status": "completed"
    },
    "tags": []
   },
   "source": [
    "## Save"
   ]
  },
  {
   "cell_type": "code",
   "execution_count": 37,
   "id": "f511de0b",
   "metadata": {
    "execution": {
     "iopub.execute_input": "2022-09-13T16:27:34.316477Z",
     "iopub.status.busy": "2022-09-13T16:27:34.316128Z",
     "iopub.status.idle": "2022-09-13T16:27:34.335574Z",
     "shell.execute_reply": "2022-09-13T16:27:34.335076Z"
    },
    "papermill": {
     "duration": 0.039515,
     "end_time": "2022-09-13T16:27:34.336874",
     "exception": false,
     "start_time": "2022-09-13T16:27:34.297359",
     "status": "completed"
    },
    "tags": []
   },
   "outputs": [
    {
     "data": {
      "text/plain": [
       "PosixPath('/opt/data/results/clustering/null_sims/runs/z_score_std-projection-smultixcan-efo_partial-mashr-zscores/SpectralClustering-AFFINITY_rbf-GAMMA_0001-KMEANS_N_INIT_10-K_MAX_60-K_MIN_2-N_REPS_PER_K_5.pkl')"
      ]
     },
     "metadata": {},
     "output_type": "display_data"
    }
   ],
   "source": [
    "output_filename = Path(\n",
    "    RESULTS_DIR,\n",
    "    generate_result_set_name(\n",
    "        CLUSTERING_OPTIONS,\n",
    "        prefix=f\"{clustering_method_name}-\",\n",
    "        suffix=\".pkl\",\n",
    "    ),\n",
    ").resolve()\n",
    "display(output_filename)"
   ]
  },
  {
   "cell_type": "code",
   "execution_count": 38,
   "id": "cdaaf970",
   "metadata": {
    "execution": {
     "iopub.execute_input": "2022-09-13T16:27:34.374957Z",
     "iopub.status.busy": "2022-09-13T16:27:34.374748Z",
     "iopub.status.idle": "2022-09-13T16:27:34.401500Z",
     "shell.execute_reply": "2022-09-13T16:27:34.401005Z"
    },
    "papermill": {
     "duration": 0.047168,
     "end_time": "2022-09-13T16:27:34.402974",
     "exception": false,
     "start_time": "2022-09-13T16:27:34.355806",
     "status": "completed"
    },
    "tags": []
   },
   "outputs": [],
   "source": [
    "ensemble.to_pickle(output_filename)"
   ]
  },
  {
   "cell_type": "markdown",
   "id": "c357d2f8",
   "metadata": {
    "papermill": {
     "duration": 0.018839,
     "end_time": "2022-09-13T16:27:34.442172",
     "exception": false,
     "start_time": "2022-09-13T16:27:34.423333",
     "status": "completed"
    },
    "tags": []
   },
   "source": [
    "# Cluster quality"
   ]
  },
  {
   "cell_type": "code",
   "execution_count": 39,
   "id": "f1cd37d2",
   "metadata": {
    "execution": {
     "iopub.execute_input": "2022-09-13T16:27:34.479345Z",
     "iopub.status.busy": "2022-09-13T16:27:34.479147Z",
     "iopub.status.idle": "2022-09-13T16:27:34.502592Z",
     "shell.execute_reply": "2022-09-13T16:27:34.502003Z"
    },
    "papermill": {
     "duration": 0.043743,
     "end_time": "2022-09-13T16:27:34.503992",
     "exception": false,
     "start_time": "2022-09-13T16:27:34.460249",
     "status": "completed"
    },
    "tags": []
   },
   "outputs": [
    {
     "data": {
      "text/html": [
       "<div>\n",
       "<style scoped>\n",
       "    .dataframe tbody tr th:only-of-type {\n",
       "        vertical-align: middle;\n",
       "    }\n",
       "\n",
       "    .dataframe tbody tr th {\n",
       "        vertical-align: top;\n",
       "    }\n",
       "\n",
       "    .dataframe thead th {\n",
       "        text-align: right;\n",
       "    }\n",
       "</style>\n",
       "<table border=\"1\" class=\"dataframe\">\n",
       "  <thead>\n",
       "    <tr style=\"text-align: right;\">\n",
       "      <th></th>\n",
       "      <th>ch_score</th>\n",
       "    </tr>\n",
       "    <tr>\n",
       "      <th>n_clusters</th>\n",
       "      <th></th>\n",
       "    </tr>\n",
       "  </thead>\n",
       "  <tbody>\n",
       "    <tr>\n",
       "      <th>2</th>\n",
       "      <td>5.972303</td>\n",
       "    </tr>\n",
       "    <tr>\n",
       "      <th>3</th>\n",
       "      <td>5.197549</td>\n",
       "    </tr>\n",
       "    <tr>\n",
       "      <th>4</th>\n",
       "      <td>4.680952</td>\n",
       "    </tr>\n",
       "    <tr>\n",
       "      <th>5</th>\n",
       "      <td>4.306444</td>\n",
       "    </tr>\n",
       "    <tr>\n",
       "      <th>6</th>\n",
       "      <td>4.047402</td>\n",
       "    </tr>\n",
       "    <tr>\n",
       "      <th>7</th>\n",
       "      <td>3.804730</td>\n",
       "    </tr>\n",
       "    <tr>\n",
       "      <th>8</th>\n",
       "      <td>3.633031</td>\n",
       "    </tr>\n",
       "    <tr>\n",
       "      <th>9</th>\n",
       "      <td>3.478585</td>\n",
       "    </tr>\n",
       "    <tr>\n",
       "      <th>10</th>\n",
       "      <td>3.358170</td>\n",
       "    </tr>\n",
       "    <tr>\n",
       "      <th>11</th>\n",
       "      <td>3.235374</td>\n",
       "    </tr>\n",
       "    <tr>\n",
       "      <th>12</th>\n",
       "      <td>3.129290</td>\n",
       "    </tr>\n",
       "    <tr>\n",
       "      <th>13</th>\n",
       "      <td>3.042105</td>\n",
       "    </tr>\n",
       "    <tr>\n",
       "      <th>14</th>\n",
       "      <td>2.954046</td>\n",
       "    </tr>\n",
       "    <tr>\n",
       "      <th>15</th>\n",
       "      <td>2.873811</td>\n",
       "    </tr>\n",
       "    <tr>\n",
       "      <th>16</th>\n",
       "      <td>2.817048</td>\n",
       "    </tr>\n",
       "    <tr>\n",
       "      <th>17</th>\n",
       "      <td>2.762772</td>\n",
       "    </tr>\n",
       "    <tr>\n",
       "      <th>18</th>\n",
       "      <td>2.705333</td>\n",
       "    </tr>\n",
       "    <tr>\n",
       "      <th>19</th>\n",
       "      <td>2.661307</td>\n",
       "    </tr>\n",
       "    <tr>\n",
       "      <th>20</th>\n",
       "      <td>2.602791</td>\n",
       "    </tr>\n",
       "    <tr>\n",
       "      <th>21</th>\n",
       "      <td>2.567889</td>\n",
       "    </tr>\n",
       "    <tr>\n",
       "      <th>22</th>\n",
       "      <td>2.530393</td>\n",
       "    </tr>\n",
       "    <tr>\n",
       "      <th>23</th>\n",
       "      <td>2.494879</td>\n",
       "    </tr>\n",
       "    <tr>\n",
       "      <th>24</th>\n",
       "      <td>2.451168</td>\n",
       "    </tr>\n",
       "    <tr>\n",
       "      <th>25</th>\n",
       "      <td>2.426031</td>\n",
       "    </tr>\n",
       "    <tr>\n",
       "      <th>26</th>\n",
       "      <td>2.395109</td>\n",
       "    </tr>\n",
       "    <tr>\n",
       "      <th>27</th>\n",
       "      <td>2.364034</td>\n",
       "    </tr>\n",
       "    <tr>\n",
       "      <th>28</th>\n",
       "      <td>2.337197</td>\n",
       "    </tr>\n",
       "    <tr>\n",
       "      <th>29</th>\n",
       "      <td>2.309886</td>\n",
       "    </tr>\n",
       "    <tr>\n",
       "      <th>30</th>\n",
       "      <td>2.283379</td>\n",
       "    </tr>\n",
       "    <tr>\n",
       "      <th>31</th>\n",
       "      <td>2.253897</td>\n",
       "    </tr>\n",
       "    <tr>\n",
       "      <th>32</th>\n",
       "      <td>2.235065</td>\n",
       "    </tr>\n",
       "    <tr>\n",
       "      <th>33</th>\n",
       "      <td>2.209478</td>\n",
       "    </tr>\n",
       "    <tr>\n",
       "      <th>34</th>\n",
       "      <td>2.197943</td>\n",
       "    </tr>\n",
       "    <tr>\n",
       "      <th>35</th>\n",
       "      <td>2.178147</td>\n",
       "    </tr>\n",
       "    <tr>\n",
       "      <th>36</th>\n",
       "      <td>2.158189</td>\n",
       "    </tr>\n",
       "    <tr>\n",
       "      <th>37</th>\n",
       "      <td>2.139566</td>\n",
       "    </tr>\n",
       "    <tr>\n",
       "      <th>38</th>\n",
       "      <td>2.126279</td>\n",
       "    </tr>\n",
       "    <tr>\n",
       "      <th>39</th>\n",
       "      <td>2.104397</td>\n",
       "    </tr>\n",
       "    <tr>\n",
       "      <th>40</th>\n",
       "      <td>2.082648</td>\n",
       "    </tr>\n",
       "    <tr>\n",
       "      <th>41</th>\n",
       "      <td>2.069191</td>\n",
       "    </tr>\n",
       "    <tr>\n",
       "      <th>42</th>\n",
       "      <td>2.061910</td>\n",
       "    </tr>\n",
       "    <tr>\n",
       "      <th>43</th>\n",
       "      <td>2.099640</td>\n",
       "    </tr>\n",
       "    <tr>\n",
       "      <th>44</th>\n",
       "      <td>2.025423</td>\n",
       "    </tr>\n",
       "    <tr>\n",
       "      <th>45</th>\n",
       "      <td>2.017430</td>\n",
       "    </tr>\n",
       "    <tr>\n",
       "      <th>46</th>\n",
       "      <td>2.000155</td>\n",
       "    </tr>\n",
       "    <tr>\n",
       "      <th>47</th>\n",
       "      <td>2.006938</td>\n",
       "    </tr>\n",
       "    <tr>\n",
       "      <th>48</th>\n",
       "      <td>1.995256</td>\n",
       "    </tr>\n",
       "    <tr>\n",
       "      <th>49</th>\n",
       "      <td>1.996049</td>\n",
       "    </tr>\n",
       "    <tr>\n",
       "      <th>50</th>\n",
       "      <td>1.971738</td>\n",
       "    </tr>\n",
       "    <tr>\n",
       "      <th>51</th>\n",
       "      <td>1.951680</td>\n",
       "    </tr>\n",
       "    <tr>\n",
       "      <th>52</th>\n",
       "      <td>1.955005</td>\n",
       "    </tr>\n",
       "    <tr>\n",
       "      <th>53</th>\n",
       "      <td>1.937867</td>\n",
       "    </tr>\n",
       "    <tr>\n",
       "      <th>54</th>\n",
       "      <td>1.939389</td>\n",
       "    </tr>\n",
       "    <tr>\n",
       "      <th>55</th>\n",
       "      <td>1.986876</td>\n",
       "    </tr>\n",
       "    <tr>\n",
       "      <th>56</th>\n",
       "      <td>1.999999</td>\n",
       "    </tr>\n",
       "    <tr>\n",
       "      <th>57</th>\n",
       "      <td>1.954064</td>\n",
       "    </tr>\n",
       "    <tr>\n",
       "      <th>58</th>\n",
       "      <td>1.930327</td>\n",
       "    </tr>\n",
       "    <tr>\n",
       "      <th>59</th>\n",
       "      <td>1.935029</td>\n",
       "    </tr>\n",
       "    <tr>\n",
       "      <th>60</th>\n",
       "      <td>1.888514</td>\n",
       "    </tr>\n",
       "  </tbody>\n",
       "</table>\n",
       "</div>"
      ],
      "text/plain": [
       "            ch_score\n",
       "n_clusters          \n",
       "2           5.972303\n",
       "3           5.197549\n",
       "4           4.680952\n",
       "5           4.306444\n",
       "6           4.047402\n",
       "7           3.804730\n",
       "8           3.633031\n",
       "9           3.478585\n",
       "10          3.358170\n",
       "11          3.235374\n",
       "12          3.129290\n",
       "13          3.042105\n",
       "14          2.954046\n",
       "15          2.873811\n",
       "16          2.817048\n",
       "17          2.762772\n",
       "18          2.705333\n",
       "19          2.661307\n",
       "20          2.602791\n",
       "21          2.567889\n",
       "22          2.530393\n",
       "23          2.494879\n",
       "24          2.451168\n",
       "25          2.426031\n",
       "26          2.395109\n",
       "27          2.364034\n",
       "28          2.337197\n",
       "29          2.309886\n",
       "30          2.283379\n",
       "31          2.253897\n",
       "32          2.235065\n",
       "33          2.209478\n",
       "34          2.197943\n",
       "35          2.178147\n",
       "36          2.158189\n",
       "37          2.139566\n",
       "38          2.126279\n",
       "39          2.104397\n",
       "40          2.082648\n",
       "41          2.069191\n",
       "42          2.061910\n",
       "43          2.099640\n",
       "44          2.025423\n",
       "45          2.017430\n",
       "46          2.000155\n",
       "47          2.006938\n",
       "48          1.995256\n",
       "49          1.996049\n",
       "50          1.971738\n",
       "51          1.951680\n",
       "52          1.955005\n",
       "53          1.937867\n",
       "54          1.939389\n",
       "55          1.986876\n",
       "56          1.999999\n",
       "57          1.954064\n",
       "58          1.930327\n",
       "59          1.935029\n",
       "60          1.888514"
      ]
     },
     "metadata": {},
     "output_type": "display_data"
    }
   ],
   "source": [
    "with pd.option_context(\"display.max_rows\", None, \"display.max_columns\", None):\n",
    "    _df = ensemble.groupby([\"n_clusters\"]).mean()\n",
    "    display(_df)"
   ]
  },
  {
   "cell_type": "code",
   "execution_count": 40,
   "id": "4dd8e721",
   "metadata": {
    "execution": {
     "iopub.execute_input": "2022-09-13T16:27:34.541742Z",
     "iopub.status.busy": "2022-09-13T16:27:34.541532Z",
     "iopub.status.idle": "2022-09-13T16:27:37.537626Z",
     "shell.execute_reply": "2022-09-13T16:27:37.537113Z"
    },
    "papermill": {
     "duration": 3.01666,
     "end_time": "2022-09-13T16:27:37.539118",
     "exception": false,
     "start_time": "2022-09-13T16:27:34.522458",
     "status": "completed"
    },
    "tags": []
   },
   "outputs": [
    {
     "data": {
      "image/png": "[encoded data removed]",
      "text/plain": [
       "<Figure size 1008x432 with 1 Axes>"
      ]
     },
     "metadata": {},
     "output_type": "display_data"
    }
   ],
   "source": [
    "with sns.plotting_context(\"talk\", font_scale=0.75), sns.axes_style(\n",
    "    \"whitegrid\", {\"grid.linestyle\": \"--\"}\n",
    "):\n",
    "    fig = plt.figure(figsize=(14, 6))\n",
    "    ax = sns.pointplot(data=ensemble, x=\"n_clusters\", y=\"ch_score\")\n",
    "    ax.set_ylabel(\"Calinski-Harabasz index\")\n",
    "    ax.set_xlabel(\"Number of clusters ($k$)\")\n",
    "    ax.set_xticklabels(ax.get_xticklabels(), rotation=45)\n",
    "    plt.grid(True)\n",
    "    plt.tight_layout()"
   ]
  },
  {
   "cell_type": "markdown",
   "id": "c09625a6",
   "metadata": {
    "papermill": {
     "duration": 0.019317,
     "end_time": "2022-09-13T16:27:37.577898",
     "exception": false,
     "start_time": "2022-09-13T16:27:37.558581",
     "status": "completed"
    },
    "tags": []
   },
   "source": [
    "# Stability"
   ]
  },
  {
   "cell_type": "markdown",
   "id": "c70994d2",
   "metadata": {
    "papermill": {
     "duration": 0.019526,
     "end_time": "2022-09-13T16:27:37.617099",
     "exception": false,
     "start_time": "2022-09-13T16:27:37.597573",
     "status": "completed"
    },
    "tags": []
   },
   "source": [
    "## Group ensemble by n_clusters"
   ]
  },
  {
   "cell_type": "code",
   "execution_count": 41,
   "id": "3aa1711c",
   "metadata": {
    "execution": {
     "iopub.execute_input": "2022-09-13T16:27:37.656919Z",
     "iopub.status.busy": "2022-09-13T16:27:37.656665Z",
     "iopub.status.idle": "2022-09-13T16:27:37.689333Z",
     "shell.execute_reply": "2022-09-13T16:27:37.688874Z"
    },
    "papermill": {
     "duration": 0.054288,
     "end_time": "2022-09-13T16:27:37.690733",
     "exception": false,
     "start_time": "2022-09-13T16:27:37.636445",
     "status": "completed"
    },
    "tags": []
   },
   "outputs": [],
   "source": [
    "parts = ensemble.groupby(\"n_clusters\").apply(\n",
    "    lambda x: np.concatenate(x[\"partition\"].apply(lambda x: x.reshape(1, -1)), axis=0)\n",
    ")"
   ]
  },
  {
   "cell_type": "code",
   "execution_count": 42,
   "id": "0fb0b446",
   "metadata": {
    "execution": {
     "iopub.execute_input": "2022-09-13T16:27:37.731574Z",
     "iopub.status.busy": "2022-09-13T16:27:37.731309Z",
     "iopub.status.idle": "2022-09-13T16:27:37.761922Z",
     "shell.execute_reply": "2022-09-13T16:27:37.761417Z"
    },
    "papermill": {
     "duration": 0.052208,
     "end_time": "2022-09-13T16:27:37.763203",
     "exception": false,
     "start_time": "2022-09-13T16:27:37.710995",
     "status": "completed"
    },
    "tags": []
   },
   "outputs": [
    {
     "data": {
      "text/plain": [
       "n_clusters\n",
       "2    [[1.0, 1.0, 1.0, 0.0, 0.0, 0.0, 0.0, 0.0, 0.0,...\n",
       "3    [[2.0, 2.0, 2.0, 0.0, 0.0, 1.0, 1.0, 0.0, 0.0,...\n",
       "4    [[0.0, 0.0, 2.0, 1.0, 1.0, 2.0, 2.0, 1.0, 1.0,...\n",
       "5    [[1.0, 2.0, 2.0, 0.0, 0.0, 1.0, 3.0, 2.0, 0.0,...\n",
       "6    [[3.0, 4.0, 5.0, 0.0, 0.0, 3.0, 5.0, 4.0, 0.0,...\n",
       "dtype: object"
      ]
     },
     "execution_count": 42,
     "metadata": {},
     "output_type": "execute_result"
    }
   ],
   "source": [
    "parts.head()"
   ]
  },
  {
   "cell_type": "code",
   "execution_count": 43,
   "id": "56948378",
   "metadata": {
    "execution": {
     "iopub.execute_input": "2022-09-13T16:27:37.803855Z",
     "iopub.status.busy": "2022-09-13T16:27:37.803642Z",
     "iopub.status.idle": "2022-09-13T16:27:37.822854Z",
     "shell.execute_reply": "2022-09-13T16:27:37.822316Z"
    },
    "papermill": {
     "duration": 0.040976,
     "end_time": "2022-09-13T16:27:37.824215",
     "exception": false,
     "start_time": "2022-09-13T16:27:37.783239",
     "status": "completed"
    },
    "tags": []
   },
   "outputs": [],
   "source": [
    "assert np.all(\n",
    "    [\n",
    "        parts.loc[k].shape == (CLUSTERING_OPTIONS[\"N_REPS_PER_K\"], data.shape[0])\n",
    "        for k in parts.index\n",
    "    ]\n",
    ")"
   ]
  },
  {
   "cell_type": "markdown",
   "id": "69b93bcd",
   "metadata": {
    "papermill": {
     "duration": 0.019146,
     "end_time": "2022-09-13T16:27:37.863448",
     "exception": false,
     "start_time": "2022-09-13T16:27:37.844302",
     "status": "completed"
    },
    "tags": []
   },
   "source": [
    "## Compute stability"
   ]
  },
  {
   "cell_type": "code",
   "execution_count": 44,
   "id": "8f57bd9b",
   "metadata": {
    "execution": {
     "iopub.execute_input": "2022-09-13T16:27:37.904140Z",
     "iopub.status.busy": "2022-09-13T16:27:37.903927Z",
     "iopub.status.idle": "2022-09-13T16:27:37.922547Z",
     "shell.execute_reply": "2022-09-13T16:27:37.922009Z"
    },
    "papermill": {
     "duration": 0.039976,
     "end_time": "2022-09-13T16:27:37.923906",
     "exception": false,
     "start_time": "2022-09-13T16:27:37.883930",
     "status": "completed"
    },
    "tags": []
   },
   "outputs": [],
   "source": [
    "from sklearn.metrics import adjusted_rand_score as ari\n",
    "from scipy.spatial.distance import pdist"
   ]
  },
  {
   "cell_type": "code",
   "execution_count": 45,
   "id": "8a7485af",
   "metadata": {
    "execution": {
     "iopub.execute_input": "2022-09-13T16:27:37.963848Z",
     "iopub.status.busy": "2022-09-13T16:27:37.963634Z",
     "iopub.status.idle": "2022-09-13T16:27:38.854908Z",
     "shell.execute_reply": "2022-09-13T16:27:38.854442Z"
    },
    "papermill": {
     "duration": 0.912913,
     "end_time": "2022-09-13T16:27:38.856495",
     "exception": false,
     "start_time": "2022-09-13T16:27:37.943582",
     "status": "completed"
    },
    "tags": []
   },
   "outputs": [],
   "source": [
    "parts_ari = pd.Series(\n",
    "    {k: pdist(parts.loc[k], metric=ari) for k in parts.index}, name=\"k\"\n",
    ")"
   ]
  },
  {
   "cell_type": "code",
   "execution_count": 46,
   "id": "412edc9b",
   "metadata": {
    "execution": {
     "iopub.execute_input": "2022-09-13T16:27:38.897448Z",
     "iopub.status.busy": "2022-09-13T16:27:38.897227Z",
     "iopub.status.idle": "2022-09-13T16:27:38.917500Z",
     "shell.execute_reply": "2022-09-13T16:27:38.916907Z"
    },
    "papermill": {
     "duration": 0.042141,
     "end_time": "2022-09-13T16:27:38.918776",
     "exception": false,
     "start_time": "2022-09-13T16:27:38.876635",
     "status": "completed"
    },
    "tags": []
   },
   "outputs": [
    {
     "data": {
      "text/plain": [
       "2     0.998721\n",
       "3     0.766956\n",
       "5     0.605466\n",
       "4     0.598211\n",
       "6     0.566244\n",
       "7     0.350067\n",
       "8     0.323139\n",
       "9     0.299910\n",
       "10    0.270599\n",
       "11    0.233588\n",
       "12    0.173780\n",
       "13    0.159292\n",
       "14    0.152239\n",
       "15    0.140358\n",
       "16    0.135340\n",
       "Name: k, dtype: float64"
      ]
     },
     "metadata": {},
     "output_type": "display_data"
    }
   ],
   "source": [
    "parts_ari_stability = parts_ari.apply(lambda x: x.mean())\n",
    "display(parts_ari_stability.sort_values(ascending=False).head(15))"
   ]
  },
  {
   "cell_type": "code",
   "execution_count": 47,
   "id": "7727b8d3",
   "metadata": {
    "execution": {
     "iopub.execute_input": "2022-09-13T16:27:38.959361Z",
     "iopub.status.busy": "2022-09-13T16:27:38.959164Z",
     "iopub.status.idle": "2022-09-13T16:27:38.978820Z",
     "shell.execute_reply": "2022-09-13T16:27:38.978197Z"
    },
    "papermill": {
     "duration": 0.041467,
     "end_time": "2022-09-13T16:27:38.980254",
     "exception": false,
     "start_time": "2022-09-13T16:27:38.938787",
     "status": "completed"
    },
    "tags": []
   },
   "outputs": [],
   "source": [
    "parts_ari_df = pd.DataFrame.from_records(parts_ari.tolist()).set_index(\n",
    "    parts_ari.index.copy()\n",
    ")"
   ]
  },
  {
   "cell_type": "code",
   "execution_count": 48,
   "id": "946310a9",
   "metadata": {
    "execution": {
     "iopub.execute_input": "2022-09-13T16:27:39.022021Z",
     "iopub.status.busy": "2022-09-13T16:27:39.021463Z",
     "iopub.status.idle": "2022-09-13T16:27:39.040220Z",
     "shell.execute_reply": "2022-09-13T16:27:39.039658Z"
    },
    "papermill": {
     "duration": 0.040811,
     "end_time": "2022-09-13T16:27:39.041432",
     "exception": false,
     "start_time": "2022-09-13T16:27:39.000621",
     "status": "completed"
    },
    "tags": []
   },
   "outputs": [
    {
     "data": {
      "text/plain": [
       "(59, 10)"
      ]
     },
     "execution_count": 48,
     "metadata": {},
     "output_type": "execute_result"
    }
   ],
   "source": [
    "parts_ari_df.shape"
   ]
  },
  {
   "cell_type": "code",
   "execution_count": 49,
   "id": "e59fce10",
   "metadata": {
    "execution": {
     "iopub.execute_input": "2022-09-13T16:27:39.083958Z",
     "iopub.status.busy": "2022-09-13T16:27:39.083755Z",
     "iopub.status.idle": "2022-09-13T16:27:39.102126Z",
     "shell.execute_reply": "2022-09-13T16:27:39.101640Z"
    },
    "papermill": {
     "duration": 0.04194,
     "end_time": "2022-09-13T16:27:39.103508",
     "exception": false,
     "start_time": "2022-09-13T16:27:39.061568",
     "status": "completed"
    },
    "tags": []
   },
   "outputs": [],
   "source": [
    "assert (\n",
    "    int(\n",
    "        (CLUSTERING_OPTIONS[\"N_REPS_PER_K\"] * (CLUSTERING_OPTIONS[\"N_REPS_PER_K\"] - 1))\n",
    "        / 2\n",
    "    )\n",
    "    == parts_ari_df.shape[1]\n",
    ")"
   ]
  },
  {
   "cell_type": "code",
   "execution_count": 50,
   "id": "0d668875",
   "metadata": {
    "execution": {
     "iopub.execute_input": "2022-09-13T16:27:39.145249Z",
     "iopub.status.busy": "2022-09-13T16:27:39.145025Z",
     "iopub.status.idle": "2022-09-13T16:27:39.170053Z",
     "shell.execute_reply": "2022-09-13T16:27:39.169567Z"
    },
    "papermill": {
     "duration": 0.046608,
     "end_time": "2022-09-13T16:27:39.171334",
     "exception": false,
     "start_time": "2022-09-13T16:27:39.124726",
     "status": "completed"
    },
    "tags": []
   },
   "outputs": [
    {
     "data": {
      "text/html": [
       "<div>\n",
       "<style scoped>\n",
       "    .dataframe tbody tr th:only-of-type {\n",
       "        vertical-align: middle;\n",
       "    }\n",
       "\n",
       "    .dataframe tbody tr th {\n",
       "        vertical-align: top;\n",
       "    }\n",
       "\n",
       "    .dataframe thead th {\n",
       "        text-align: right;\n",
       "    }\n",
       "</style>\n",
       "<table border=\"1\" class=\"dataframe\">\n",
       "  <thead>\n",
       "    <tr style=\"text-align: right;\">\n",
       "      <th></th>\n",
       "      <th>0</th>\n",
       "      <th>1</th>\n",
       "      <th>2</th>\n",
       "      <th>3</th>\n",
       "      <th>4</th>\n",
       "      <th>5</th>\n",
       "      <th>6</th>\n",
       "      <th>7</th>\n",
       "      <th>8</th>\n",
       "      <th>9</th>\n",
       "    </tr>\n",
       "  </thead>\n",
       "  <tbody>\n",
       "    <tr>\n",
       "      <th>2</th>\n",
       "      <td>1.000000</td>\n",
       "      <td>0.996803</td>\n",
       "      <td>1.000000</td>\n",
       "      <td>1.000000</td>\n",
       "      <td>0.996803</td>\n",
       "      <td>1.000000</td>\n",
       "      <td>1.000000</td>\n",
       "      <td>0.996803</td>\n",
       "      <td>0.996803</td>\n",
       "      <td>1.000000</td>\n",
       "    </tr>\n",
       "    <tr>\n",
       "      <th>3</th>\n",
       "      <td>0.637492</td>\n",
       "      <td>0.558774</td>\n",
       "      <td>0.563567</td>\n",
       "      <td>0.750629</td>\n",
       "      <td>0.887538</td>\n",
       "      <td>0.895706</td>\n",
       "      <td>0.859927</td>\n",
       "      <td>0.989645</td>\n",
       "      <td>0.760112</td>\n",
       "      <td>0.766170</td>\n",
       "    </tr>\n",
       "    <tr>\n",
       "      <th>4</th>\n",
       "      <td>0.417564</td>\n",
       "      <td>0.491618</td>\n",
       "      <td>0.528769</td>\n",
       "      <td>0.595251</td>\n",
       "      <td>0.642395</td>\n",
       "      <td>0.607462</td>\n",
       "      <td>0.464428</td>\n",
       "      <td>0.932647</td>\n",
       "      <td>0.643218</td>\n",
       "      <td>0.658755</td>\n",
       "    </tr>\n",
       "    <tr>\n",
       "      <th>5</th>\n",
       "      <td>0.627761</td>\n",
       "      <td>0.525006</td>\n",
       "      <td>0.630751</td>\n",
       "      <td>0.546233</td>\n",
       "      <td>0.616730</td>\n",
       "      <td>0.677939</td>\n",
       "      <td>0.564864</td>\n",
       "      <td>0.584032</td>\n",
       "      <td>0.496410</td>\n",
       "      <td>0.784933</td>\n",
       "    </tr>\n",
       "    <tr>\n",
       "      <th>6</th>\n",
       "      <td>0.461822</td>\n",
       "      <td>0.490568</td>\n",
       "      <td>0.420407</td>\n",
       "      <td>0.856422</td>\n",
       "      <td>0.670325</td>\n",
       "      <td>0.708640</td>\n",
       "      <td>0.495453</td>\n",
       "      <td>0.578410</td>\n",
       "      <td>0.542599</td>\n",
       "      <td>0.437791</td>\n",
       "    </tr>\n",
       "  </tbody>\n",
       "</table>\n",
       "</div>"
      ],
      "text/plain": [
       "          0         1         2         3         4         5         6  \\\n",
       "2  1.000000  0.996803  1.000000  1.000000  0.996803  1.000000  1.000000   \n",
       "3  0.637492  0.558774  0.563567  0.750629  0.887538  0.895706  0.859927   \n",
       "4  0.417564  0.491618  0.528769  0.595251  0.642395  0.607462  0.464428   \n",
       "5  0.627761  0.525006  0.630751  0.546233  0.616730  0.677939  0.564864   \n",
       "6  0.461822  0.490568  0.420407  0.856422  0.670325  0.708640  0.495453   \n",
       "\n",
       "          7         8         9  \n",
       "2  0.996803  0.996803  1.000000  \n",
       "3  0.989645  0.760112  0.766170  \n",
       "4  0.932647  0.643218  0.658755  \n",
       "5  0.584032  0.496410  0.784933  \n",
       "6  0.578410  0.542599  0.437791  "
      ]
     },
     "execution_count": 50,
     "metadata": {},
     "output_type": "execute_result"
    }
   ],
   "source": [
    "parts_ari_df.head()"
   ]
  },
  {
   "cell_type": "markdown",
   "id": "f2e14e72",
   "metadata": {
    "papermill": {
     "duration": 0.01926,
     "end_time": "2022-09-13T16:27:39.210645",
     "exception": false,
     "start_time": "2022-09-13T16:27:39.191385",
     "status": "completed"
    },
    "tags": []
   },
   "source": [
    "## Save"
   ]
  },
  {
   "cell_type": "code",
   "execution_count": 51,
   "id": "b1241e70",
   "metadata": {
    "execution": {
     "iopub.execute_input": "2022-09-13T16:27:39.251242Z",
     "iopub.status.busy": "2022-09-13T16:27:39.251044Z",
     "iopub.status.idle": "2022-09-13T16:27:39.270870Z",
     "shell.execute_reply": "2022-09-13T16:27:39.270428Z"
    },
    "papermill": {
     "duration": 0.041748,
     "end_time": "2022-09-13T16:27:39.272098",
     "exception": false,
     "start_time": "2022-09-13T16:27:39.230350",
     "status": "completed"
    },
    "tags": []
   },
   "outputs": [
    {
     "data": {
      "text/plain": [
       "PosixPath('/opt/data/results/clustering/null_sims/runs/z_score_std-projection-smultixcan-efo_partial-mashr-zscores/SpectralClustering-stability-AFFINITY_rbf-GAMMA_0001-KMEANS_N_INIT_10-K_MAX_60-K_MIN_2-N_REPS_PER_K_5.pkl')"
      ]
     },
     "metadata": {},
     "output_type": "display_data"
    }
   ],
   "source": [
    "output_filename = Path(\n",
    "    RESULTS_DIR,\n",
    "    generate_result_set_name(\n",
    "        CLUSTERING_OPTIONS,\n",
    "        prefix=f\"{clustering_method_name}-stability-\",\n",
    "        suffix=\".pkl\",\n",
    "    ),\n",
    ").resolve()\n",
    "display(output_filename)"
   ]
  },
  {
   "cell_type": "code",
   "execution_count": 52,
   "id": "c8995ca8",
   "metadata": {
    "execution": {
     "iopub.execute_input": "2022-09-13T16:27:39.312492Z",
     "iopub.status.busy": "2022-09-13T16:27:39.312270Z",
     "iopub.status.idle": "2022-09-13T16:27:39.330724Z",
     "shell.execute_reply": "2022-09-13T16:27:39.330195Z"
    },
    "papermill": {
     "duration": 0.040083,
     "end_time": "2022-09-13T16:27:39.332136",
     "exception": false,
     "start_time": "2022-09-13T16:27:39.292053",
     "status": "completed"
    },
    "tags": []
   },
   "outputs": [],
   "source": [
    "parts_ari_df.to_pickle(output_filename)"
   ]
  },
  {
   "cell_type": "markdown",
   "id": "789417b1",
   "metadata": {
    "papermill": {
     "duration": 0.020288,
     "end_time": "2022-09-13T16:27:39.373273",
     "exception": false,
     "start_time": "2022-09-13T16:27:39.352985",
     "status": "completed"
    },
    "tags": []
   },
   "source": [
    "## Stability plot"
   ]
  },
  {
   "cell_type": "code",
   "execution_count": 53,
   "id": "d4da6b21",
   "metadata": {
    "execution": {
     "iopub.execute_input": "2022-09-13T16:27:39.413368Z",
     "iopub.status.busy": "2022-09-13T16:27:39.413158Z",
     "iopub.status.idle": "2022-09-13T16:27:39.433299Z",
     "shell.execute_reply": "2022-09-13T16:27:39.432599Z"
    },
    "papermill": {
     "duration": 0.041821,
     "end_time": "2022-09-13T16:27:39.434661",
     "exception": false,
     "start_time": "2022-09-13T16:27:39.392840",
     "status": "completed"
    },
    "tags": []
   },
   "outputs": [],
   "source": [
    "parts_ari_df_plot = (\n",
    "    parts_ari_df.stack()\n",
    "    .reset_index()\n",
    "    .rename(columns={\"level_0\": \"k\", \"level_1\": \"idx\", 0: \"ari\"})\n",
    ")"
   ]
  },
  {
   "cell_type": "code",
   "execution_count": 54,
   "id": "a273a1ca",
   "metadata": {
    "execution": {
     "iopub.execute_input": "2022-09-13T16:27:39.476306Z",
     "iopub.status.busy": "2022-09-13T16:27:39.476081Z",
     "iopub.status.idle": "2022-09-13T16:27:39.496414Z",
     "shell.execute_reply": "2022-09-13T16:27:39.495732Z"
    },
    "papermill": {
     "duration": 0.042332,
     "end_time": "2022-09-13T16:27:39.497645",
     "exception": false,
     "start_time": "2022-09-13T16:27:39.455313",
     "status": "completed"
    },
    "tags": []
   },
   "outputs": [
    {
     "data": {
      "text/plain": [
       "k        int64\n",
       "idx      int64\n",
       "ari    float64\n",
       "dtype: object"
      ]
     },
     "execution_count": 54,
     "metadata": {},
     "output_type": "execute_result"
    }
   ],
   "source": [
    "parts_ari_df_plot.dtypes"
   ]
  },
  {
   "cell_type": "code",
   "execution_count": 55,
   "id": "0525e33d",
   "metadata": {
    "execution": {
     "iopub.execute_input": "2022-09-13T16:27:39.539121Z",
     "iopub.status.busy": "2022-09-13T16:27:39.538913Z",
     "iopub.status.idle": "2022-09-13T16:27:39.560466Z",
     "shell.execute_reply": "2022-09-13T16:27:39.559973Z"
    },
    "papermill": {
     "duration": 0.043549,
     "end_time": "2022-09-13T16:27:39.561740",
     "exception": false,
     "start_time": "2022-09-13T16:27:39.518191",
     "status": "completed"
    },
    "tags": []
   },
   "outputs": [
    {
     "data": {
      "text/html": [
       "<div>\n",
       "<style scoped>\n",
       "    .dataframe tbody tr th:only-of-type {\n",
       "        vertical-align: middle;\n",
       "    }\n",
       "\n",
       "    .dataframe tbody tr th {\n",
       "        vertical-align: top;\n",
       "    }\n",
       "\n",
       "    .dataframe thead th {\n",
       "        text-align: right;\n",
       "    }\n",
       "</style>\n",
       "<table border=\"1\" class=\"dataframe\">\n",
       "  <thead>\n",
       "    <tr style=\"text-align: right;\">\n",
       "      <th></th>\n",
       "      <th>k</th>\n",
       "      <th>idx</th>\n",
       "      <th>ari</th>\n",
       "    </tr>\n",
       "  </thead>\n",
       "  <tbody>\n",
       "    <tr>\n",
       "      <th>0</th>\n",
       "      <td>2</td>\n",
       "      <td>0</td>\n",
       "      <td>1.000000</td>\n",
       "    </tr>\n",
       "    <tr>\n",
       "      <th>1</th>\n",
       "      <td>2</td>\n",
       "      <td>1</td>\n",
       "      <td>0.996803</td>\n",
       "    </tr>\n",
       "    <tr>\n",
       "      <th>2</th>\n",
       "      <td>2</td>\n",
       "      <td>2</td>\n",
       "      <td>1.000000</td>\n",
       "    </tr>\n",
       "    <tr>\n",
       "      <th>3</th>\n",
       "      <td>2</td>\n",
       "      <td>3</td>\n",
       "      <td>1.000000</td>\n",
       "    </tr>\n",
       "    <tr>\n",
       "      <th>4</th>\n",
       "      <td>2</td>\n",
       "      <td>4</td>\n",
       "      <td>0.996803</td>\n",
       "    </tr>\n",
       "  </tbody>\n",
       "</table>\n",
       "</div>"
      ],
      "text/plain": [
       "   k  idx       ari\n",
       "0  2    0  1.000000\n",
       "1  2    1  0.996803\n",
       "2  2    2  1.000000\n",
       "3  2    3  1.000000\n",
       "4  2    4  0.996803"
      ]
     },
     "execution_count": 55,
     "metadata": {},
     "output_type": "execute_result"
    }
   ],
   "source": [
    "parts_ari_df_plot.head()"
   ]
  },
  {
   "cell_type": "code",
   "execution_count": 56,
   "id": "d029cbd9",
   "metadata": {
    "execution": {
     "iopub.execute_input": "2022-09-13T16:27:39.603675Z",
     "iopub.status.busy": "2022-09-13T16:27:39.603467Z",
     "iopub.status.idle": "2022-09-13T16:27:42.486122Z",
     "shell.execute_reply": "2022-09-13T16:27:42.485151Z"
    },
    "papermill": {
     "duration": 2.906645,
     "end_time": "2022-09-13T16:27:42.488837",
     "exception": false,
     "start_time": "2022-09-13T16:27:39.582192",
     "status": "completed"
    },
    "tags": []
   },
   "outputs": [
    {
     "data": {
      "image/png": "[encoded data removed]",
      "text/plain": [
       "<Figure size 1008x432 with 1 Axes>"
      ]
     },
     "metadata": {},
     "output_type": "display_data"
    }
   ],
   "source": [
    "# with sns.axes_style('whitegrid', {'grid.linestyle': '--'}):\n",
    "with sns.plotting_context(\"talk\", font_scale=0.75), sns.axes_style(\n",
    "    \"whitegrid\", {\"grid.linestyle\": \"--\"}\n",
    "):\n",
    "    fig = plt.figure(figsize=(14, 6))\n",
    "    ax = sns.pointplot(data=parts_ari_df_plot, x=\"k\", y=\"ari\")\n",
    "    ax.set_ylabel(\"Averange ARI\")\n",
    "    ax.set_xlabel(\"Number of clusters ($k$)\")\n",
    "    ax.set_xticklabels(ax.get_xticklabels(), rotation=45)\n",
    "    #     ax.set_ylim(0.0, 1.0)\n",
    "    #     ax.set_xlim(CLUSTERING_OPTIONS['K_MIN'], CLUSTERING_OPTIONS['K_MAX'])\n",
    "    plt.grid(True)\n",
    "    plt.tight_layout()"
   ]
  },
  {
   "cell_type": "code",
   "execution_count": null,
   "id": "ba2aaa43",
   "metadata": {
    "papermill": {
     "duration": 0.020343,
     "end_time": "2022-09-13T16:27:42.539060",
     "exception": false,
     "start_time": "2022-09-13T16:27:42.518717",
     "status": "completed"
    },
    "tags": []
   },
   "outputs": [],
   "source": []
  }
 ],
 "metadata": {
  "jupytext": {
   "cell_metadata_filter": "all,-execution,-papermill,-trusted",
   "formats": "ipynb,py//py:percent"
  },
  "kernelspec": {
   "display_name": "Python 3 (ipykernel)",
   "language": "python",
   "name": "python3"
  },
  "language_info": {
   "codemirror_mode": {
    "name": "ipython",
    "version": 3
   },
   "file_extension": ".py",
   "mimetype": "text/x-python",
   "name": "python",
   "nbconvert_exporter": "python",
   "pygments_lexer": "ipython3",
   "version": "3.8.13"
  },
  "papermill": {
   "default_parameters": {},
   "duration": 1154.721576,
   "end_time": "2022-09-13T16:27:42.883702",
   "environment_variables": {},
   "exception": null,
   "input_path": "nbs/13.1_cluster_analysis_null/11_00-spectral-z_score_std.ipynb",
   "output_path": "nbs/13.1_cluster_analysis_null/11_00-spectral-z_score_std.run.ipynb",
   "parameters": {},
   "start_time": "2022-09-13T16:08:28.162126",
   "version": "2.2.2"
  },
  "toc-autonumbering": true,
  "toc-showcode": false,
  "toc-showmarkdowntxt": false,
  "toc-showtags": false
 },
 "nbformat": 4,
 "nbformat_minor": 5
}
