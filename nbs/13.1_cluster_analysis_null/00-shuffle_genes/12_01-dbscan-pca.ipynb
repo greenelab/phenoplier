{
 "cells": [
  {
   "cell_type": "markdown",
   "id": "e228da09",
   "metadata": {
    "papermill": {
     "duration": 0.009238,
     "end_time": "2022-11-26T00:38:30.679319",
     "exception": false,
     "start_time": "2022-11-26T00:38:30.670081",
     "status": "completed"
    },
    "tags": []
   },
   "source": [
    "# Description"
   ]
  },
  {
   "cell_type": "markdown",
   "id": "4a619567",
   "metadata": {
    "papermill": {
     "duration": 0.008157,
     "end_time": "2022-11-26T00:38:30.697721",
     "exception": false,
     "start_time": "2022-11-26T00:38:30.689564",
     "status": "completed"
    },
    "tags": []
   },
   "source": [
    "It runs DBSCAN on the `pca` version of the data.\n",
    "\n",
    "The notebook explores different values for `min_samples` and `eps` (the main parameters of DBSCAN)."
   ]
  },
  {
   "cell_type": "markdown",
   "id": "dc36a13e",
   "metadata": {
    "papermill": {
     "duration": 0.008158,
     "end_time": "2022-11-26T00:38:30.714318",
     "exception": false,
     "start_time": "2022-11-26T00:38:30.706160",
     "status": "completed"
    },
    "tags": []
   },
   "source": [
    "# Environment variables"
   ]
  },
  {
   "cell_type": "code",
   "execution_count": 1,
   "id": "a78ef632",
   "metadata": {
    "execution": {
     "iopub.execute_input": "2022-11-26T00:38:30.732540Z",
     "iopub.status.busy": "2022-11-26T00:38:30.732183Z",
     "iopub.status.idle": "2022-11-26T00:38:30.750744Z",
     "shell.execute_reply": "2022-11-26T00:38:30.750230Z"
    },
    "papermill": {
     "duration": 0.029568,
     "end_time": "2022-11-26T00:38:30.752190",
     "exception": false,
     "start_time": "2022-11-26T00:38:30.722622",
     "status": "completed"
    },
    "tags": []
   },
   "outputs": [
    {
     "data": {
      "text/plain": [
       "10"
      ]
     },
     "metadata": {},
     "output_type": "display_data"
    }
   ],
   "source": [
    "from IPython.display import display\n",
    "\n",
    "import conf\n",
    "\n",
    "N_JOBS = conf.GENERAL[\"N_JOBS\"]\n",
    "display(N_JOBS)"
   ]
  },
  {
   "cell_type": "code",
   "execution_count": 2,
   "id": "f93855a7",
   "metadata": {
    "execution": {
     "iopub.execute_input": "2022-11-26T00:38:30.770700Z",
     "iopub.status.busy": "2022-11-26T00:38:30.770443Z",
     "iopub.status.idle": "2022-11-26T00:38:30.776623Z",
     "shell.execute_reply": "2022-11-26T00:38:30.776134Z"
    },
    "papermill": {
     "duration": 0.017136,
     "end_time": "2022-11-26T00:38:30.777897",
     "exception": false,
     "start_time": "2022-11-26T00:38:30.760761",
     "status": "completed"
    },
    "tags": []
   },
   "outputs": [
    {
     "name": "stdout",
     "output_type": "stream",
     "text": [
      "env: MKL_NUM_THREADS=10\n",
      "env: OPEN_BLAS_NUM_THREADS=10\n",
      "env: NUMEXPR_NUM_THREADS=10\n",
      "env: OMP_NUM_THREADS=10\n"
     ]
    }
   ],
   "source": [
    "%env MKL_NUM_THREADS=$N_JOBS\n",
    "%env OPEN_BLAS_NUM_THREADS=$N_JOBS\n",
    "%env NUMEXPR_NUM_THREADS=$N_JOBS\n",
    "%env OMP_NUM_THREADS=$N_JOBS"
   ]
  },
  {
   "cell_type": "markdown",
   "id": "7e400e8b",
   "metadata": {
    "papermill": {
     "duration": 0.008205,
     "end_time": "2022-11-26T00:38:30.794475",
     "exception": false,
     "start_time": "2022-11-26T00:38:30.786270",
     "status": "completed"
    },
    "tags": []
   },
   "source": [
    "# Modules loading"
   ]
  },
  {
   "cell_type": "code",
   "execution_count": 3,
   "id": "2d57cf4d",
   "metadata": {
    "execution": {
     "iopub.execute_input": "2022-11-26T00:38:30.812286Z",
     "iopub.status.busy": "2022-11-26T00:38:30.811938Z",
     "iopub.status.idle": "2022-11-26T00:38:30.824731Z",
     "shell.execute_reply": "2022-11-26T00:38:30.824264Z"
    },
    "papermill": {
     "duration": 0.021985,
     "end_time": "2022-11-26T00:38:30.825533",
     "exception": false,
     "start_time": "2022-11-26T00:38:30.803548",
     "status": "completed"
    },
    "tags": []
   },
   "outputs": [],
   "source": [
    "%load_ext autoreload\n",
    "%autoreload 2"
   ]
  },
  {
   "cell_type": "code",
   "execution_count": 4,
   "id": "cd0adcf2",
   "metadata": {
    "execution": {
     "iopub.execute_input": "2022-11-26T00:38:30.835166Z",
     "iopub.status.busy": "2022-11-26T00:38:30.834800Z",
     "iopub.status.idle": "2022-11-26T00:38:31.314593Z",
     "shell.execute_reply": "2022-11-26T00:38:31.314198Z"
    },
    "papermill": {
     "duration": 0.486288,
     "end_time": "2022-11-26T00:38:31.316201",
     "exception": false,
     "start_time": "2022-11-26T00:38:30.829913",
     "status": "completed"
    },
    "tags": []
   },
   "outputs": [],
   "source": [
    "from pathlib import Path\n",
    "\n",
    "import numpy as np\n",
    "import pandas as pd\n",
    "from sklearn.neighbors import NearestNeighbors\n",
    "from sklearn.metrics import pairwise_distances\n",
    "from sklearn.cluster import DBSCAN\n",
    "import matplotlib.pyplot as plt\n",
    "\n",
    "from utils import generate_result_set_name\n",
    "from clustering.ensembles.utils import generate_ensemble"
   ]
  },
  {
   "cell_type": "markdown",
   "id": "d22a7bbd",
   "metadata": {
    "papermill": {
     "duration": 0.010406,
     "end_time": "2022-11-26T00:38:31.335490",
     "exception": false,
     "start_time": "2022-11-26T00:38:31.325084",
     "status": "completed"
    },
    "tags": []
   },
   "source": [
    "# Global settings"
   ]
  },
  {
   "cell_type": "code",
   "execution_count": 5,
   "id": "69cc230a",
   "metadata": {
    "execution": {
     "iopub.execute_input": "2022-11-26T00:38:31.353005Z",
     "iopub.status.busy": "2022-11-26T00:38:31.352918Z",
     "iopub.status.idle": "2022-11-26T00:38:31.370732Z",
     "shell.execute_reply": "2022-11-26T00:38:31.370276Z"
    },
    "papermill": {
     "duration": 0.027953,
     "end_time": "2022-11-26T00:38:31.371994",
     "exception": false,
     "start_time": "2022-11-26T00:38:31.344041",
     "status": "completed"
    },
    "tags": []
   },
   "outputs": [],
   "source": [
    "np.random.seed(0)"
   ]
  },
  {
   "cell_type": "code",
   "execution_count": 6,
   "id": "535b5d88",
   "metadata": {
    "execution": {
     "iopub.execute_input": "2022-11-26T00:38:31.389788Z",
     "iopub.status.busy": "2022-11-26T00:38:31.389448Z",
     "iopub.status.idle": "2022-11-26T00:38:31.407031Z",
     "shell.execute_reply": "2022-11-26T00:38:31.406584Z"
    },
    "papermill": {
     "duration": 0.027853,
     "end_time": "2022-11-26T00:38:31.408352",
     "exception": false,
     "start_time": "2022-11-26T00:38:31.380499",
     "status": "completed"
    },
    "tags": []
   },
   "outputs": [],
   "source": [
    "CLUSTERING_ATTRIBUTES_TO_SAVE = [\"n_clusters\"]"
   ]
  },
  {
   "cell_type": "code",
   "execution_count": 7,
   "id": "8de6c8e2-98f2-45b3-9062-d7b00b007b22",
   "metadata": {
    "execution": {
     "iopub.execute_input": "2022-11-26T00:38:31.426688Z",
     "iopub.status.busy": "2022-11-26T00:38:31.426266Z",
     "iopub.status.idle": "2022-11-26T00:38:31.443956Z",
     "shell.execute_reply": "2022-11-26T00:38:31.443506Z"
    },
    "papermill": {
     "duration": 0.0279,
     "end_time": "2022-11-26T00:38:31.445206",
     "exception": false,
     "start_time": "2022-11-26T00:38:31.417306",
     "status": "completed"
    },
    "tags": []
   },
   "outputs": [],
   "source": [
    "NULL_DIR = conf.RESULTS[\"CLUSTERING_NULL_DIR\"] / \"shuffle_genes\""
   ]
  },
  {
   "cell_type": "markdown",
   "id": "ca3232af",
   "metadata": {
    "papermill": {
     "duration": 0.008674,
     "end_time": "2022-11-26T00:38:31.462436",
     "exception": false,
     "start_time": "2022-11-26T00:38:31.453762",
     "status": "completed"
    },
    "tags": []
   },
   "source": [
    "# Settings"
   ]
  },
  {
   "cell_type": "code",
   "execution_count": 8,
   "id": "9255164b",
   "metadata": {
    "execution": {
     "iopub.execute_input": "2022-11-26T00:38:31.504185Z",
     "iopub.status.busy": "2022-11-26T00:38:31.503805Z",
     "iopub.status.idle": "2022-11-26T00:38:31.524605Z",
     "shell.execute_reply": "2022-11-26T00:38:31.524140Z"
    },
    "papermill": {
     "duration": 0.054697,
     "end_time": "2022-11-26T00:38:31.525470",
     "exception": false,
     "start_time": "2022-11-26T00:38:31.470773",
     "status": "completed"
    },
    "tags": []
   },
   "outputs": [],
   "source": [
    "# these parameter values are taken from the pre-analysis notebook for this clustering method and data version\n",
    "k_values = np.arange(2, 125 + 1, 1)\n",
    "\n",
    "eps_range_per_k = {\n",
    "    k: (10, 20)\n",
    "    if k < 5\n",
    "    else (11, 25)\n",
    "    if k < 10\n",
    "    else (12, 30)\n",
    "    if k < 15\n",
    "    else (13, 35)\n",
    "    if k < 20\n",
    "    else (14, 40)\n",
    "    for k in k_values\n",
    "}"
   ]
  },
  {
   "cell_type": "markdown",
   "id": "81ee2c29",
   "metadata": {
    "papermill": {
     "duration": 0.004281,
     "end_time": "2022-11-26T00:38:31.534201",
     "exception": false,
     "start_time": "2022-11-26T00:38:31.529920",
     "status": "completed"
    },
    "tags": []
   },
   "source": [
    "# Data version: pca"
   ]
  },
  {
   "cell_type": "markdown",
   "id": "c5bc3e25",
   "metadata": {
    "papermill": {
     "duration": 0.004545,
     "end_time": "2022-11-26T00:38:31.543094",
     "exception": false,
     "start_time": "2022-11-26T00:38:31.538549",
     "status": "completed"
    },
    "tags": []
   },
   "source": [
    "## Settings"
   ]
  },
  {
   "cell_type": "code",
   "execution_count": 9,
   "id": "e36f811b",
   "metadata": {
    "execution": {
     "iopub.execute_input": "2022-11-26T00:38:31.553217Z",
     "iopub.status.busy": "2022-11-26T00:38:31.552770Z",
     "iopub.status.idle": "2022-11-26T00:38:31.571434Z",
     "shell.execute_reply": "2022-11-26T00:38:31.570992Z"
    },
    "papermill": {
     "duration": 0.024355,
     "end_time": "2022-11-26T00:38:31.572233",
     "exception": false,
     "start_time": "2022-11-26T00:38:31.547878",
     "status": "completed"
    },
    "tags": []
   },
   "outputs": [],
   "source": [
    "INPUT_SUBSET = \"pca\""
   ]
  },
  {
   "cell_type": "code",
   "execution_count": 10,
   "id": "ab42356f",
   "metadata": {
    "execution": {
     "iopub.execute_input": "2022-11-26T00:38:31.581666Z",
     "iopub.status.busy": "2022-11-26T00:38:31.581291Z",
     "iopub.status.idle": "2022-11-26T00:38:31.598600Z",
     "shell.execute_reply": "2022-11-26T00:38:31.598173Z"
    },
    "papermill": {
     "duration": 0.02287,
     "end_time": "2022-11-26T00:38:31.599391",
     "exception": false,
     "start_time": "2022-11-26T00:38:31.576521",
     "status": "completed"
    },
    "tags": []
   },
   "outputs": [],
   "source": [
    "INPUT_STEM = \"z_score_std-projection-smultixcan-efo_partial-mashr-zscores\""
   ]
  },
  {
   "cell_type": "code",
   "execution_count": 11,
   "id": "12ff12d9",
   "metadata": {
    "execution": {
     "iopub.execute_input": "2022-11-26T00:38:31.609194Z",
     "iopub.status.busy": "2022-11-26T00:38:31.608912Z",
     "iopub.status.idle": "2022-11-26T00:38:31.626346Z",
     "shell.execute_reply": "2022-11-26T00:38:31.625917Z"
    },
    "papermill": {
     "duration": 0.023082,
     "end_time": "2022-11-26T00:38:31.627137",
     "exception": false,
     "start_time": "2022-11-26T00:38:31.604055",
     "status": "completed"
    },
    "tags": []
   },
   "outputs": [],
   "source": [
    "# parameters of the dimentionality reduction steps\n",
    "DR_OPTIONS = {\n",
    "    \"n_components\": 50,\n",
    "    \"svd_solver\": \"full\",\n",
    "    \"random_state\": 0,\n",
    "}"
   ]
  },
  {
   "cell_type": "code",
   "execution_count": 12,
   "id": "4bdcae74",
   "metadata": {
    "execution": {
     "iopub.execute_input": "2022-11-26T00:38:31.636713Z",
     "iopub.status.busy": "2022-11-26T00:38:31.636340Z",
     "iopub.status.idle": "2022-11-26T00:38:31.656406Z",
     "shell.execute_reply": "2022-11-26T00:38:31.655969Z"
    },
    "papermill": {
     "duration": 0.025659,
     "end_time": "2022-11-26T00:38:31.657167",
     "exception": false,
     "start_time": "2022-11-26T00:38:31.631508",
     "status": "completed"
    },
    "tags": []
   },
   "outputs": [
    {
     "data": {
      "text/plain": [
       "PosixPath('/opt/data/results/clustering/null_sims/shuffle_genes/data_transformations/pca/pca-z_score_std-projection-smultixcan-efo_partial-mashr-zscores-n_components_50-random_state_0-svd_solver_full.pkl')"
      ]
     },
     "metadata": {},
     "output_type": "display_data"
    },
    {
     "data": {
      "text/plain": [
       "'pca-z_score_std-projection-smultixcan-efo_partial-mashr-zscores-n_components_50-random_state_0-svd_solver_full'"
      ]
     },
     "metadata": {},
     "output_type": "display_data"
    }
   ],
   "source": [
    "input_filepath = Path(\n",
    "    NULL_DIR,\n",
    "    \"data_transformations\",\n",
    "    INPUT_SUBSET,\n",
    "    generate_result_set_name(\n",
    "        DR_OPTIONS, prefix=f\"{INPUT_SUBSET}-{INPUT_STEM}-\", suffix=\".pkl\"\n",
    "    ),\n",
    ").resolve()\n",
    "display(input_filepath)\n",
    "\n",
    "assert input_filepath.exists(), \"Input file does not exist\"\n",
    "\n",
    "input_filepath_stem = input_filepath.stem\n",
    "display(input_filepath_stem)"
   ]
  },
  {
   "cell_type": "code",
   "execution_count": 13,
   "id": "05d25510",
   "metadata": {
    "execution": {
     "iopub.execute_input": "2022-11-26T00:38:31.667116Z",
     "iopub.status.busy": "2022-11-26T00:38:31.666811Z",
     "iopub.status.idle": "2022-11-26T00:38:31.685741Z",
     "shell.execute_reply": "2022-11-26T00:38:31.685315Z"
    },
    "papermill": {
     "duration": 0.024843,
     "end_time": "2022-11-26T00:38:31.686452",
     "exception": false,
     "start_time": "2022-11-26T00:38:31.661609",
     "status": "completed"
    },
    "tags": []
   },
   "outputs": [
    {
     "data": {
      "text/plain": [
       "PosixPath('/opt/data/results/clustering/null_sims/shuffle_genes/runs/pca-z_score_std-projection-smultixcan-efo_partial-mashr-zscores')"
      ]
     },
     "metadata": {},
     "output_type": "display_data"
    }
   ],
   "source": [
    "# output dir for this notebook\n",
    "RESULTS_DIR = Path(\n",
    "    NULL_DIR,\n",
    "    \"runs\",\n",
    "    f\"{INPUT_SUBSET}-{INPUT_STEM}\",\n",
    ").resolve()\n",
    "RESULTS_DIR.mkdir(parents=True, exist_ok=True)\n",
    "\n",
    "display(RESULTS_DIR)"
   ]
  },
  {
   "cell_type": "markdown",
   "id": "03894166",
   "metadata": {
    "papermill": {
     "duration": 0.004464,
     "end_time": "2022-11-26T00:38:31.695463",
     "exception": false,
     "start_time": "2022-11-26T00:38:31.690999",
     "status": "completed"
    },
    "tags": []
   },
   "source": [
    "## Load input file"
   ]
  },
  {
   "cell_type": "code",
   "execution_count": 14,
   "id": "d886fbca",
   "metadata": {
    "execution": {
     "iopub.execute_input": "2022-11-26T00:38:31.705568Z",
     "iopub.status.busy": "2022-11-26T00:38:31.705263Z",
     "iopub.status.idle": "2022-11-26T00:38:31.725137Z",
     "shell.execute_reply": "2022-11-26T00:38:31.724677Z"
    },
    "papermill": {
     "duration": 0.025939,
     "end_time": "2022-11-26T00:38:31.725967",
     "exception": false,
     "start_time": "2022-11-26T00:38:31.700028",
     "status": "completed"
    },
    "tags": []
   },
   "outputs": [],
   "source": [
    "data = pd.read_pickle(input_filepath)"
   ]
  },
  {
   "cell_type": "code",
   "execution_count": 15,
   "id": "2b49f668",
   "metadata": {
    "execution": {
     "iopub.execute_input": "2022-11-26T00:38:31.735843Z",
     "iopub.status.busy": "2022-11-26T00:38:31.735543Z",
     "iopub.status.idle": "2022-11-26T00:38:31.754370Z",
     "shell.execute_reply": "2022-11-26T00:38:31.753938Z"
    },
    "papermill": {
     "duration": 0.024629,
     "end_time": "2022-11-26T00:38:31.755141",
     "exception": false,
     "start_time": "2022-11-26T00:38:31.730512",
     "status": "completed"
    },
    "tags": []
   },
   "outputs": [
    {
     "data": {
      "text/plain": [
       "(3752, 50)"
      ]
     },
     "execution_count": 15,
     "metadata": {},
     "output_type": "execute_result"
    }
   ],
   "source": [
    "data.shape"
   ]
  },
  {
   "cell_type": "code",
   "execution_count": 16,
   "id": "aab573c6",
   "metadata": {
    "execution": {
     "iopub.execute_input": "2022-11-26T00:38:31.765100Z",
     "iopub.status.busy": "2022-11-26T00:38:31.764801Z",
     "iopub.status.idle": "2022-11-26T00:38:31.799360Z",
     "shell.execute_reply": "2022-11-26T00:38:31.798910Z"
    },
    "papermill": {
     "duration": 0.04039,
     "end_time": "2022-11-26T00:38:31.800124",
     "exception": false,
     "start_time": "2022-11-26T00:38:31.759734",
     "status": "completed"
    },
    "tags": []
   },
   "outputs": [
    {
     "data": {
      "text/html": [
       "<div>\n",
       "<style scoped>\n",
       "    .dataframe tbody tr th:only-of-type {\n",
       "        vertical-align: middle;\n",
       "    }\n",
       "\n",
       "    .dataframe tbody tr th {\n",
       "        vertical-align: top;\n",
       "    }\n",
       "\n",
       "    .dataframe thead th {\n",
       "        text-align: right;\n",
       "    }\n",
       "</style>\n",
       "<table border=\"1\" class=\"dataframe\">\n",
       "  <thead>\n",
       "    <tr style=\"text-align: right;\">\n",
       "      <th></th>\n",
       "      <th>PCA1</th>\n",
       "      <th>PCA2</th>\n",
       "      <th>PCA3</th>\n",
       "      <th>PCA4</th>\n",
       "      <th>PCA5</th>\n",
       "      <th>PCA6</th>\n",
       "      <th>PCA7</th>\n",
       "      <th>PCA8</th>\n",
       "      <th>PCA9</th>\n",
       "      <th>PCA10</th>\n",
       "      <th>...</th>\n",
       "      <th>PCA41</th>\n",
       "      <th>PCA42</th>\n",
       "      <th>PCA43</th>\n",
       "      <th>PCA44</th>\n",
       "      <th>PCA45</th>\n",
       "      <th>PCA46</th>\n",
       "      <th>PCA47</th>\n",
       "      <th>PCA48</th>\n",
       "      <th>PCA49</th>\n",
       "      <th>PCA50</th>\n",
       "    </tr>\n",
       "  </thead>\n",
       "  <tbody>\n",
       "    <tr>\n",
       "      <th>100001_raw-Food_weight</th>\n",
       "      <td>-0.844744</td>\n",
       "      <td>3.134501</td>\n",
       "      <td>-1.885185</td>\n",
       "      <td>0.800877</td>\n",
       "      <td>-0.283830</td>\n",
       "      <td>0.027480</td>\n",
       "      <td>0.611143</td>\n",
       "      <td>1.485636</td>\n",
       "      <td>0.202757</td>\n",
       "      <td>0.450528</td>\n",
       "      <td>...</td>\n",
       "      <td>2.547792</td>\n",
       "      <td>-1.128343</td>\n",
       "      <td>-0.907277</td>\n",
       "      <td>-0.049764</td>\n",
       "      <td>-1.669310</td>\n",
       "      <td>-0.721449</td>\n",
       "      <td>2.077602</td>\n",
       "      <td>0.799708</td>\n",
       "      <td>1.271524</td>\n",
       "      <td>-1.871291</td>\n",
       "    </tr>\n",
       "    <tr>\n",
       "      <th>100002_raw-Energy</th>\n",
       "      <td>-0.078568</td>\n",
       "      <td>-1.675988</td>\n",
       "      <td>-0.826605</td>\n",
       "      <td>0.872125</td>\n",
       "      <td>-1.257784</td>\n",
       "      <td>0.276976</td>\n",
       "      <td>0.123534</td>\n",
       "      <td>-0.225430</td>\n",
       "      <td>1.291625</td>\n",
       "      <td>-0.406739</td>\n",
       "      <td>...</td>\n",
       "      <td>-1.595450</td>\n",
       "      <td>-0.979352</td>\n",
       "      <td>2.081672</td>\n",
       "      <td>-1.266333</td>\n",
       "      <td>-1.430714</td>\n",
       "      <td>2.733243</td>\n",
       "      <td>-0.293793</td>\n",
       "      <td>-1.427649</td>\n",
       "      <td>-1.315076</td>\n",
       "      <td>1.458368</td>\n",
       "    </tr>\n",
       "    <tr>\n",
       "      <th>100003_raw-Protein</th>\n",
       "      <td>-1.966843</td>\n",
       "      <td>-0.720839</td>\n",
       "      <td>-0.621370</td>\n",
       "      <td>1.066950</td>\n",
       "      <td>0.612613</td>\n",
       "      <td>-1.143542</td>\n",
       "      <td>-3.256801</td>\n",
       "      <td>0.637131</td>\n",
       "      <td>1.275239</td>\n",
       "      <td>-1.746677</td>\n",
       "      <td>...</td>\n",
       "      <td>-0.898644</td>\n",
       "      <td>1.423939</td>\n",
       "      <td>0.200717</td>\n",
       "      <td>0.080861</td>\n",
       "      <td>-0.910925</td>\n",
       "      <td>-0.266207</td>\n",
       "      <td>1.036173</td>\n",
       "      <td>0.326860</td>\n",
       "      <td>-0.197079</td>\n",
       "      <td>-0.322935</td>\n",
       "    </tr>\n",
       "    <tr>\n",
       "      <th>100004_raw-Fat</th>\n",
       "      <td>0.332482</td>\n",
       "      <td>-0.928841</td>\n",
       "      <td>-0.216911</td>\n",
       "      <td>0.486861</td>\n",
       "      <td>0.454021</td>\n",
       "      <td>-1.316312</td>\n",
       "      <td>0.226607</td>\n",
       "      <td>2.504342</td>\n",
       "      <td>-0.740799</td>\n",
       "      <td>-2.027466</td>\n",
       "      <td>...</td>\n",
       "      <td>0.101529</td>\n",
       "      <td>0.032200</td>\n",
       "      <td>-0.658490</td>\n",
       "      <td>-0.288036</td>\n",
       "      <td>1.399674</td>\n",
       "      <td>2.502066</td>\n",
       "      <td>1.872188</td>\n",
       "      <td>-0.239398</td>\n",
       "      <td>-1.349670</td>\n",
       "      <td>-0.457304</td>\n",
       "    </tr>\n",
       "    <tr>\n",
       "      <th>100005_raw-Carbohydrate</th>\n",
       "      <td>2.106644</td>\n",
       "      <td>1.025306</td>\n",
       "      <td>0.405959</td>\n",
       "      <td>2.645132</td>\n",
       "      <td>0.881081</td>\n",
       "      <td>-1.718546</td>\n",
       "      <td>0.693749</td>\n",
       "      <td>0.135447</td>\n",
       "      <td>-0.303163</td>\n",
       "      <td>-0.525056</td>\n",
       "      <td>...</td>\n",
       "      <td>0.612486</td>\n",
       "      <td>-0.769634</td>\n",
       "      <td>-0.264214</td>\n",
       "      <td>3.150728</td>\n",
       "      <td>-1.403396</td>\n",
       "      <td>2.893334</td>\n",
       "      <td>0.900700</td>\n",
       "      <td>0.200481</td>\n",
       "      <td>-2.369759</td>\n",
       "      <td>-0.348016</td>\n",
       "    </tr>\n",
       "  </tbody>\n",
       "</table>\n",
       "<p>5 rows × 50 columns</p>\n",
       "</div>"
      ],
      "text/plain": [
       "                             PCA1      PCA2      PCA3      PCA4      PCA5  \\\n",
       "100001_raw-Food_weight  -0.844744  3.134501 -1.885185  0.800877 -0.283830   \n",
       "100002_raw-Energy       -0.078568 -1.675988 -0.826605  0.872125 -1.257784   \n",
       "100003_raw-Protein      -1.966843 -0.720839 -0.621370  1.066950  0.612613   \n",
       "100004_raw-Fat           0.332482 -0.928841 -0.216911  0.486861  0.454021   \n",
       "100005_raw-Carbohydrate  2.106644  1.025306  0.405959  2.645132  0.881081   \n",
       "\n",
       "                             PCA6      PCA7      PCA8      PCA9     PCA10  \\\n",
       "100001_raw-Food_weight   0.027480  0.611143  1.485636  0.202757  0.450528   \n",
       "100002_raw-Energy        0.276976  0.123534 -0.225430  1.291625 -0.406739   \n",
       "100003_raw-Protein      -1.143542 -3.256801  0.637131  1.275239 -1.746677   \n",
       "100004_raw-Fat          -1.316312  0.226607  2.504342 -0.740799 -2.027466   \n",
       "100005_raw-Carbohydrate -1.718546  0.693749  0.135447 -0.303163 -0.525056   \n",
       "\n",
       "                         ...     PCA41     PCA42     PCA43     PCA44  \\\n",
       "100001_raw-Food_weight   ...  2.547792 -1.128343 -0.907277 -0.049764   \n",
       "100002_raw-Energy        ... -1.595450 -0.979352  2.081672 -1.266333   \n",
       "100003_raw-Protein       ... -0.898644  1.423939  0.200717  0.080861   \n",
       "100004_raw-Fat           ...  0.101529  0.032200 -0.658490 -0.288036   \n",
       "100005_raw-Carbohydrate  ...  0.612486 -0.769634 -0.264214  3.150728   \n",
       "\n",
       "                            PCA45     PCA46     PCA47     PCA48     PCA49  \\\n",
       "100001_raw-Food_weight  -1.669310 -0.721449  2.077602  0.799708  1.271524   \n",
       "100002_raw-Energy       -1.430714  2.733243 -0.293793 -1.427649 -1.315076   \n",
       "100003_raw-Protein      -0.910925 -0.266207  1.036173  0.326860 -0.197079   \n",
       "100004_raw-Fat           1.399674  2.502066  1.872188 -0.239398 -1.349670   \n",
       "100005_raw-Carbohydrate -1.403396  2.893334  0.900700  0.200481 -2.369759   \n",
       "\n",
       "                            PCA50  \n",
       "100001_raw-Food_weight  -1.871291  \n",
       "100002_raw-Energy        1.458368  \n",
       "100003_raw-Protein      -0.322935  \n",
       "100004_raw-Fat          -0.457304  \n",
       "100005_raw-Carbohydrate -0.348016  \n",
       "\n",
       "[5 rows x 50 columns]"
      ]
     },
     "execution_count": 16,
     "metadata": {},
     "output_type": "execute_result"
    }
   ],
   "source": [
    "data.head()"
   ]
  },
  {
   "cell_type": "code",
   "execution_count": 17,
   "id": "281e0668",
   "metadata": {
    "execution": {
     "iopub.execute_input": "2022-11-26T00:38:31.810829Z",
     "iopub.status.busy": "2022-11-26T00:38:31.810516Z",
     "iopub.status.idle": "2022-11-26T00:38:31.835670Z",
     "shell.execute_reply": "2022-11-26T00:38:31.830406Z"
    },
    "papermill": {
     "duration": 0.031877,
     "end_time": "2022-11-26T00:38:31.837132",
     "exception": false,
     "start_time": "2022-11-26T00:38:31.805255",
     "status": "completed"
    },
    "tags": []
   },
   "outputs": [],
   "source": [
    "assert not data.isna().any().any()"
   ]
  },
  {
   "cell_type": "markdown",
   "id": "1151daad",
   "metadata": {
    "papermill": {
     "duration": 0.004687,
     "end_time": "2022-11-26T00:38:31.846906",
     "exception": false,
     "start_time": "2022-11-26T00:38:31.842219",
     "status": "completed"
    },
    "tags": []
   },
   "source": [
    "## Clustering"
   ]
  },
  {
   "cell_type": "markdown",
   "id": "be317922",
   "metadata": {
    "papermill": {
     "duration": 0.004714,
     "end_time": "2022-11-26T00:38:31.857339",
     "exception": false,
     "start_time": "2022-11-26T00:38:31.852625",
     "status": "completed"
    },
    "tags": []
   },
   "source": [
    "### Generate clusterers"
   ]
  },
  {
   "cell_type": "code",
   "execution_count": 18,
   "id": "e7fb55aa",
   "metadata": {
    "execution": {
     "iopub.execute_input": "2022-11-26T00:38:31.868089Z",
     "iopub.status.busy": "2022-11-26T00:38:31.867823Z",
     "iopub.status.idle": "2022-11-26T00:38:31.895629Z",
     "shell.execute_reply": "2022-11-26T00:38:31.895254Z"
    },
    "papermill": {
     "duration": 0.034223,
     "end_time": "2022-11-26T00:38:31.896388",
     "exception": false,
     "start_time": "2022-11-26T00:38:31.862165",
     "status": "completed"
    },
    "tags": []
   },
   "outputs": [
    {
     "data": {
      "text/plain": [
       "{'K_RANGE': array([  2,   3,   4,   5,   6,   7,   8,   9,  10,  11,  12,  13,  14,\n",
       "         15,  16,  17,  18,  19,  20,  21,  22,  23,  24,  25,  26,  27,\n",
       "         28,  29,  30,  31,  32,  33,  34,  35,  36,  37,  38,  39,  40,\n",
       "         41,  42,  43,  44,  45,  46,  47,  48,  49,  50,  51,  52,  53,\n",
       "         54,  55,  56,  57,  58,  59,  60,  61,  62,  63,  64,  65,  66,\n",
       "         67,  68,  69,  70,  71,  72,  73,  74,  75,  76,  77,  78,  79,\n",
       "         80,  81,  82,  83,  84,  85,  86,  87,  88,  89,  90,  91,  92,\n",
       "         93,  94,  95,  96,  97,  98,  99, 100, 101, 102, 103, 104, 105,\n",
       "        106, 107, 108, 109, 110, 111, 112, 113, 114, 115, 116, 117, 118,\n",
       "        119, 120, 121, 122, 123, 124, 125]),\n",
       " 'EPS_RANGE_PER_K': {2: (10, 20),\n",
       "  3: (10, 20),\n",
       "  4: (10, 20),\n",
       "  5: (11, 25),\n",
       "  6: (11, 25),\n",
       "  7: (11, 25),\n",
       "  8: (11, 25),\n",
       "  9: (11, 25),\n",
       "  10: (12, 30),\n",
       "  11: (12, 30),\n",
       "  12: (12, 30),\n",
       "  13: (12, 30),\n",
       "  14: (12, 30),\n",
       "  15: (13, 35),\n",
       "  16: (13, 35),\n",
       "  17: (13, 35),\n",
       "  18: (13, 35),\n",
       "  19: (13, 35),\n",
       "  20: (14, 40),\n",
       "  21: (14, 40),\n",
       "  22: (14, 40),\n",
       "  23: (14, 40),\n",
       "  24: (14, 40),\n",
       "  25: (14, 40),\n",
       "  26: (14, 40),\n",
       "  27: (14, 40),\n",
       "  28: (14, 40),\n",
       "  29: (14, 40),\n",
       "  30: (14, 40),\n",
       "  31: (14, 40),\n",
       "  32: (14, 40),\n",
       "  33: (14, 40),\n",
       "  34: (14, 40),\n",
       "  35: (14, 40),\n",
       "  36: (14, 40),\n",
       "  37: (14, 40),\n",
       "  38: (14, 40),\n",
       "  39: (14, 40),\n",
       "  40: (14, 40),\n",
       "  41: (14, 40),\n",
       "  42: (14, 40),\n",
       "  43: (14, 40),\n",
       "  44: (14, 40),\n",
       "  45: (14, 40),\n",
       "  46: (14, 40),\n",
       "  47: (14, 40),\n",
       "  48: (14, 40),\n",
       "  49: (14, 40),\n",
       "  50: (14, 40),\n",
       "  51: (14, 40),\n",
       "  52: (14, 40),\n",
       "  53: (14, 40),\n",
       "  54: (14, 40),\n",
       "  55: (14, 40),\n",
       "  56: (14, 40),\n",
       "  57: (14, 40),\n",
       "  58: (14, 40),\n",
       "  59: (14, 40),\n",
       "  60: (14, 40),\n",
       "  61: (14, 40),\n",
       "  62: (14, 40),\n",
       "  63: (14, 40),\n",
       "  64: (14, 40),\n",
       "  65: (14, 40),\n",
       "  66: (14, 40),\n",
       "  67: (14, 40),\n",
       "  68: (14, 40),\n",
       "  69: (14, 40),\n",
       "  70: (14, 40),\n",
       "  71: (14, 40),\n",
       "  72: (14, 40),\n",
       "  73: (14, 40),\n",
       "  74: (14, 40),\n",
       "  75: (14, 40),\n",
       "  76: (14, 40),\n",
       "  77: (14, 40),\n",
       "  78: (14, 40),\n",
       "  79: (14, 40),\n",
       "  80: (14, 40),\n",
       "  81: (14, 40),\n",
       "  82: (14, 40),\n",
       "  83: (14, 40),\n",
       "  84: (14, 40),\n",
       "  85: (14, 40),\n",
       "  86: (14, 40),\n",
       "  87: (14, 40),\n",
       "  88: (14, 40),\n",
       "  89: (14, 40),\n",
       "  90: (14, 40),\n",
       "  91: (14, 40),\n",
       "  92: (14, 40),\n",
       "  93: (14, 40),\n",
       "  94: (14, 40),\n",
       "  95: (14, 40),\n",
       "  96: (14, 40),\n",
       "  97: (14, 40),\n",
       "  98: (14, 40),\n",
       "  99: (14, 40),\n",
       "  100: (14, 40),\n",
       "  101: (14, 40),\n",
       "  102: (14, 40),\n",
       "  103: (14, 40),\n",
       "  104: (14, 40),\n",
       "  105: (14, 40),\n",
       "  106: (14, 40),\n",
       "  107: (14, 40),\n",
       "  108: (14, 40),\n",
       "  109: (14, 40),\n",
       "  110: (14, 40),\n",
       "  111: (14, 40),\n",
       "  112: (14, 40),\n",
       "  113: (14, 40),\n",
       "  114: (14, 40),\n",
       "  115: (14, 40),\n",
       "  116: (14, 40),\n",
       "  117: (14, 40),\n",
       "  118: (14, 40),\n",
       "  119: (14, 40),\n",
       "  120: (14, 40),\n",
       "  121: (14, 40),\n",
       "  122: (14, 40),\n",
       "  123: (14, 40),\n",
       "  124: (14, 40),\n",
       "  125: (14, 40)},\n",
       " 'EPS_STEP': 33,\n",
       " 'METRIC': 'euclidean'}"
      ]
     },
     "metadata": {},
     "output_type": "display_data"
    }
   ],
   "source": [
    "CLUSTERING_OPTIONS = {}\n",
    "\n",
    "# K_RANGE is the min_samples parameter in DBSCAN (sklearn)\n",
    "CLUSTERING_OPTIONS[\"K_RANGE\"] = k_values\n",
    "CLUSTERING_OPTIONS[\"EPS_RANGE_PER_K\"] = eps_range_per_k\n",
    "CLUSTERING_OPTIONS[\"EPS_STEP\"] = 33\n",
    "CLUSTERING_OPTIONS[\"METRIC\"] = \"euclidean\"\n",
    "\n",
    "display(CLUSTERING_OPTIONS)"
   ]
  },
  {
   "cell_type": "code",
   "execution_count": 19,
   "id": "215059b1",
   "metadata": {
    "execution": {
     "iopub.execute_input": "2022-11-26T00:38:31.906877Z",
     "iopub.status.busy": "2022-11-26T00:38:31.906607Z",
     "iopub.status.idle": "2022-11-26T00:38:31.946391Z",
     "shell.execute_reply": "2022-11-26T00:38:31.945993Z"
    },
    "papermill": {
     "duration": 0.046001,
     "end_time": "2022-11-26T00:38:31.947262",
     "exception": false,
     "start_time": "2022-11-26T00:38:31.901261",
     "status": "completed"
    },
    "tags": []
   },
   "outputs": [],
   "source": [
    "CLUSTERERS = {}\n",
    "\n",
    "idx = 0\n",
    "\n",
    "for k in CLUSTERING_OPTIONS[\"K_RANGE\"]:\n",
    "    eps_range = CLUSTERING_OPTIONS[\"EPS_RANGE_PER_K\"][k]\n",
    "    eps_values = np.linspace(eps_range[0], eps_range[1], CLUSTERING_OPTIONS[\"EPS_STEP\"])\n",
    "\n",
    "    for eps in eps_values:\n",
    "        clus = DBSCAN(min_samples=k, eps=eps, metric=\"precomputed\", n_jobs=N_JOBS)\n",
    "\n",
    "        method_name = type(clus).__name__\n",
    "        CLUSTERERS[f\"{method_name} #{idx}\"] = clus\n",
    "\n",
    "        idx = idx + 1"
   ]
  },
  {
   "cell_type": "code",
   "execution_count": 20,
   "id": "41fecacf",
   "metadata": {
    "execution": {
     "iopub.execute_input": "2022-11-26T00:38:31.958377Z",
     "iopub.status.busy": "2022-11-26T00:38:31.957979Z",
     "iopub.status.idle": "2022-11-26T00:38:31.978325Z",
     "shell.execute_reply": "2022-11-26T00:38:31.977801Z"
    },
    "papermill": {
     "duration": 0.026936,
     "end_time": "2022-11-26T00:38:31.979140",
     "exception": false,
     "start_time": "2022-11-26T00:38:31.952204",
     "status": "completed"
    },
    "tags": []
   },
   "outputs": [
    {
     "data": {
      "text/plain": [
       "4092"
      ]
     },
     "metadata": {},
     "output_type": "display_data"
    }
   ],
   "source": [
    "display(len(CLUSTERERS))"
   ]
  },
  {
   "cell_type": "code",
   "execution_count": 21,
   "id": "1ca2bd25",
   "metadata": {
    "execution": {
     "iopub.execute_input": "2022-11-26T00:38:31.990464Z",
     "iopub.status.busy": "2022-11-26T00:38:31.990249Z",
     "iopub.status.idle": "2022-11-26T00:38:32.012509Z",
     "shell.execute_reply": "2022-11-26T00:38:32.012003Z"
    },
    "papermill": {
     "duration": 0.02908,
     "end_time": "2022-11-26T00:38:32.013326",
     "exception": false,
     "start_time": "2022-11-26T00:38:31.984246",
     "status": "completed"
    },
    "tags": []
   },
   "outputs": [
    {
     "data": {
      "text/plain": [
       "('DBSCAN #0', DBSCAN(eps=10.0, metric='precomputed', min_samples=2, n_jobs=10))"
      ]
     },
     "metadata": {},
     "output_type": "display_data"
    },
    {
     "data": {
      "text/plain": [
       "('DBSCAN #1',\n",
       " DBSCAN(eps=10.3125, metric='precomputed', min_samples=2, n_jobs=10))"
      ]
     },
     "metadata": {},
     "output_type": "display_data"
    }
   ],
   "source": [
    "_iter = iter(CLUSTERERS.items())\n",
    "display(next(_iter))\n",
    "display(next(_iter))"
   ]
  },
  {
   "cell_type": "code",
   "execution_count": 22,
   "id": "933bfb2e",
   "metadata": {
    "execution": {
     "iopub.execute_input": "2022-11-26T00:38:32.025046Z",
     "iopub.status.busy": "2022-11-26T00:38:32.024681Z",
     "iopub.status.idle": "2022-11-26T00:38:32.043284Z",
     "shell.execute_reply": "2022-11-26T00:38:32.042804Z"
    },
    "papermill": {
     "duration": 0.024865,
     "end_time": "2022-11-26T00:38:32.044041",
     "exception": false,
     "start_time": "2022-11-26T00:38:32.019176",
     "status": "completed"
    },
    "tags": []
   },
   "outputs": [
    {
     "data": {
      "text/plain": [
       "'DBSCAN'"
      ]
     },
     "metadata": {},
     "output_type": "display_data"
    }
   ],
   "source": [
    "clustering_method_name = method_name\n",
    "display(clustering_method_name)"
   ]
  },
  {
   "cell_type": "markdown",
   "id": "46618e8d",
   "metadata": {
    "papermill": {
     "duration": 0.004947,
     "end_time": "2022-11-26T00:38:32.054039",
     "exception": false,
     "start_time": "2022-11-26T00:38:32.049092",
     "status": "completed"
    },
    "tags": []
   },
   "source": [
    "### Generate ensemble"
   ]
  },
  {
   "cell_type": "code",
   "execution_count": 23,
   "id": "60660b30",
   "metadata": {
    "execution": {
     "iopub.execute_input": "2022-11-26T00:38:32.065247Z",
     "iopub.status.busy": "2022-11-26T00:38:32.064919Z",
     "iopub.status.idle": "2022-11-26T00:38:32.178759Z",
     "shell.execute_reply": "2022-11-26T00:38:32.178444Z"
    },
    "papermill": {
     "duration": 0.120975,
     "end_time": "2022-11-26T00:38:32.180237",
     "exception": false,
     "start_time": "2022-11-26T00:38:32.059262",
     "status": "completed"
    },
    "tags": []
   },
   "outputs": [],
   "source": [
    "data_dist = pairwise_distances(data, metric=CLUSTERING_OPTIONS[\"METRIC\"])"
   ]
  },
  {
   "cell_type": "code",
   "execution_count": 24,
   "id": "e1b802a3",
   "metadata": {
    "execution": {
     "iopub.execute_input": "2022-11-26T00:38:32.202266Z",
     "iopub.status.busy": "2022-11-26T00:38:32.202181Z",
     "iopub.status.idle": "2022-11-26T00:38:32.213769Z",
     "shell.execute_reply": "2022-11-26T00:38:32.213519Z"
    },
    "papermill": {
     "duration": 0.024081,
     "end_time": "2022-11-26T00:38:32.214927",
     "exception": false,
     "start_time": "2022-11-26T00:38:32.190846",
     "status": "completed"
    },
    "tags": []
   },
   "outputs": [
    {
     "data": {
      "text/plain": [
       "(3752, 3752)"
      ]
     },
     "execution_count": 24,
     "metadata": {},
     "output_type": "execute_result"
    }
   ],
   "source": [
    "data_dist.shape"
   ]
  },
  {
   "cell_type": "code",
   "execution_count": 25,
   "id": "08a2b671",
   "metadata": {
    "execution": {
     "iopub.execute_input": "2022-11-26T00:38:32.234942Z",
     "iopub.status.busy": "2022-11-26T00:38:32.234820Z",
     "iopub.status.idle": "2022-11-26T00:38:32.696365Z",
     "shell.execute_reply": "2022-11-26T00:38:32.696093Z"
    },
    "papermill": {
     "duration": 0.472945,
     "end_time": "2022-11-26T00:38:32.697730",
     "exception": false,
     "start_time": "2022-11-26T00:38:32.224785",
     "status": "completed"
    },
    "tags": []
   },
   "outputs": [
    {
     "data": {
      "text/plain": [
       "count            14077504.0\n",
       "mean      14.29916963023133\n",
       "std       4.349193746187921\n",
       "min                     0.0\n",
       "25%      12.619931218292193\n",
       "50%      13.701113975598393\n",
       "75%      14.869804261377976\n",
       "max      107.58853103183307\n",
       "dtype: object"
      ]
     },
     "execution_count": 25,
     "metadata": {},
     "output_type": "execute_result"
    }
   ],
   "source": [
    "pd.Series(data_dist.flatten()).describe().apply(str)"
   ]
  },
  {
   "cell_type": "code",
   "execution_count": 26,
   "id": "183513e3",
   "metadata": {
    "execution": {
     "iopub.execute_input": "2022-11-26T00:38:32.718805Z",
     "iopub.status.busy": "2022-11-26T00:38:32.718721Z",
     "iopub.status.idle": "2022-11-26T00:48:41.602496Z",
     "shell.execute_reply": "2022-11-26T00:48:41.602070Z"
    },
    "papermill": {
     "duration": 608.895886,
     "end_time": "2022-11-26T00:48:41.603805",
     "exception": false,
     "start_time": "2022-11-26T00:38:32.707919",
     "status": "completed"
    },
    "tags": []
   },
   "outputs": [
    {
     "name": "stderr",
     "output_type": "stream",
     "text": [
      "100%|██████████| 4092/4092 [10:08<00:00,  6.72it/s]\n"
     ]
    }
   ],
   "source": [
    "ensemble = generate_ensemble(\n",
    "    data_dist,\n",
    "    CLUSTERERS,\n",
    "    attributes=CLUSTERING_ATTRIBUTES_TO_SAVE,\n",
    ")"
   ]
  },
  {
   "cell_type": "code",
   "execution_count": 27,
   "id": "4cab4b7d",
   "metadata": {
    "execution": {
     "iopub.execute_input": "2022-11-26T00:48:41.857786Z",
     "iopub.status.busy": "2022-11-26T00:48:41.857603Z",
     "iopub.status.idle": "2022-11-26T00:48:41.878114Z",
     "shell.execute_reply": "2022-11-26T00:48:41.877660Z"
    },
    "papermill": {
     "duration": 0.129289,
     "end_time": "2022-11-26T00:48:41.878925",
     "exception": false,
     "start_time": "2022-11-26T00:48:41.749636",
     "status": "completed"
    },
    "tags": []
   },
   "outputs": [
    {
     "data": {
      "text/plain": [
       "(2, 3)"
      ]
     },
     "execution_count": 27,
     "metadata": {},
     "output_type": "execute_result"
    }
   ],
   "source": [
    "ensemble.shape"
   ]
  },
  {
   "cell_type": "code",
   "execution_count": 28,
   "id": "3a7de57b",
   "metadata": {
    "execution": {
     "iopub.execute_input": "2022-11-26T00:48:42.094530Z",
     "iopub.status.busy": "2022-11-26T00:48:42.094331Z",
     "iopub.status.idle": "2022-11-26T00:48:42.122235Z",
     "shell.execute_reply": "2022-11-26T00:48:42.121772Z"
    },
    "papermill": {
     "duration": 0.136534,
     "end_time": "2022-11-26T00:48:42.123055",
     "exception": false,
     "start_time": "2022-11-26T00:48:41.986521",
     "status": "completed"
    },
    "tags": []
   },
   "outputs": [
    {
     "data": {
      "text/html": [
       "<div>\n",
       "<style scoped>\n",
       "    .dataframe tbody tr th:only-of-type {\n",
       "        vertical-align: middle;\n",
       "    }\n",
       "\n",
       "    .dataframe tbody tr th {\n",
       "        vertical-align: top;\n",
       "    }\n",
       "\n",
       "    .dataframe thead th {\n",
       "        text-align: right;\n",
       "    }\n",
       "</style>\n",
       "<table border=\"1\" class=\"dataframe\">\n",
       "  <thead>\n",
       "    <tr style=\"text-align: right;\">\n",
       "      <th></th>\n",
       "      <th>clusterer_params</th>\n",
       "      <th>partition</th>\n",
       "      <th>n_clusters</th>\n",
       "    </tr>\n",
       "    <tr>\n",
       "      <th>clusterer_id</th>\n",
       "      <th></th>\n",
       "      <th></th>\n",
       "      <th></th>\n",
       "    </tr>\n",
       "  </thead>\n",
       "  <tbody>\n",
       "    <tr>\n",
       "      <th>DBSCAN #0</th>\n",
       "      <td>{'algorithm': 'auto', 'eps': 10.0, 'leaf_size'...</td>\n",
       "      <td>[0.0, 0.0, 0.0, 0.0, 0.0, 0.0, 0.0, nan, 0.0, ...</td>\n",
       "      <td>4</td>\n",
       "    </tr>\n",
       "    <tr>\n",
       "      <th>DBSCAN #1</th>\n",
       "      <td>{'algorithm': 'auto', 'eps': 10.3125, 'leaf_si...</td>\n",
       "      <td>[0.0, 0.0, 0.0, 0.0, 0.0, 0.0, 0.0, 0.0, 0.0, ...</td>\n",
       "      <td>2</td>\n",
       "    </tr>\n",
       "  </tbody>\n",
       "</table>\n",
       "</div>"
      ],
      "text/plain": [
       "                                               clusterer_params  \\\n",
       "clusterer_id                                                      \n",
       "DBSCAN #0     {'algorithm': 'auto', 'eps': 10.0, 'leaf_size'...   \n",
       "DBSCAN #1     {'algorithm': 'auto', 'eps': 10.3125, 'leaf_si...   \n",
       "\n",
       "                                                      partition  n_clusters  \n",
       "clusterer_id                                                                 \n",
       "DBSCAN #0     [0.0, 0.0, 0.0, 0.0, 0.0, 0.0, 0.0, nan, 0.0, ...           4  \n",
       "DBSCAN #1     [0.0, 0.0, 0.0, 0.0, 0.0, 0.0, 0.0, 0.0, 0.0, ...           2  "
      ]
     },
     "execution_count": 28,
     "metadata": {},
     "output_type": "execute_result"
    }
   ],
   "source": [
    "ensemble.head()"
   ]
  },
  {
   "cell_type": "code",
   "execution_count": 29,
   "id": "e23a2583",
   "metadata": {
    "execution": {
     "iopub.execute_input": "2022-11-26T00:48:42.361541Z",
     "iopub.status.busy": "2022-11-26T00:48:42.361383Z",
     "iopub.status.idle": "2022-11-26T00:48:42.383713Z",
     "shell.execute_reply": "2022-11-26T00:48:42.383157Z"
    },
    "papermill": {
     "duration": 0.152267,
     "end_time": "2022-11-26T00:48:42.384571",
     "exception": false,
     "start_time": "2022-11-26T00:48:42.232304",
     "status": "completed"
    },
    "tags": []
   },
   "outputs": [
    {
     "data": {
      "text/plain": [
       "2    1\n",
       "4    1\n",
       "Name: n_clusters, dtype: int64"
      ]
     },
     "execution_count": 29,
     "metadata": {},
     "output_type": "execute_result"
    }
   ],
   "source": [
    "ensemble[\"n_clusters\"].value_counts().head()"
   ]
  },
  {
   "cell_type": "code",
   "execution_count": 30,
   "id": "ef6a6969",
   "metadata": {
    "execution": {
     "iopub.execute_input": "2022-11-26T00:48:42.602755Z",
     "iopub.status.busy": "2022-11-26T00:48:42.602371Z",
     "iopub.status.idle": "2022-11-26T00:48:42.625639Z",
     "shell.execute_reply": "2022-11-26T00:48:42.625138Z"
    },
    "papermill": {
     "duration": 0.133002,
     "end_time": "2022-11-26T00:48:42.626439",
     "exception": false,
     "start_time": "2022-11-26T00:48:42.493437",
     "status": "completed"
    },
    "tags": []
   },
   "outputs": [
    {
     "data": {
      "text/plain": [
       "count    2.000000\n",
       "mean     3.000000\n",
       "std      1.414214\n",
       "min      2.000000\n",
       "25%      2.500000\n",
       "50%      3.000000\n",
       "75%      3.500000\n",
       "max      4.000000\n",
       "Name: n_clusters, dtype: float64"
      ]
     },
     "metadata": {},
     "output_type": "display_data"
    }
   ],
   "source": [
    "ensemble_stats = ensemble[\"n_clusters\"].describe()\n",
    "display(ensemble_stats)"
   ]
  },
  {
   "cell_type": "code",
   "execution_count": 31,
   "id": "572f8940",
   "metadata": {
    "execution": {
     "iopub.execute_input": "2022-11-26T00:48:42.845093Z",
     "iopub.status.busy": "2022-11-26T00:48:42.844916Z",
     "iopub.status.idle": "2022-11-26T00:48:42.867048Z",
     "shell.execute_reply": "2022-11-26T00:48:42.866381Z"
    },
    "papermill": {
     "duration": 0.133745,
     "end_time": "2022-11-26T00:48:42.868323",
     "exception": false,
     "start_time": "2022-11-26T00:48:42.734578",
     "status": "completed"
    },
    "tags": []
   },
   "outputs": [],
   "source": [
    "assert (\n",
    "    ensemble.shape[0] > 0\n",
    "), \"Ensemble is empty, stopping here (this is not actually an error if running null simulations)\""
   ]
  },
  {
   "cell_type": "markdown",
   "id": "52c416fb",
   "metadata": {
    "papermill": {
     "duration": 0.106817,
     "end_time": "2022-11-26T00:48:43.103890",
     "exception": false,
     "start_time": "2022-11-26T00:48:42.997073",
     "status": "completed"
    },
    "tags": []
   },
   "source": [
    "### Testing"
   ]
  },
  {
   "cell_type": "code",
   "execution_count": 32,
   "id": "1b683f7d",
   "metadata": {
    "execution": {
     "iopub.execute_input": "2022-11-26T00:48:43.319813Z",
     "iopub.status.busy": "2022-11-26T00:48:43.319625Z",
     "iopub.status.idle": "2022-11-26T00:48:43.340084Z",
     "shell.execute_reply": "2022-11-26T00:48:43.339580Z"
    },
    "papermill": {
     "duration": 0.129324,
     "end_time": "2022-11-26T00:48:43.340914",
     "exception": false,
     "start_time": "2022-11-26T00:48:43.211590",
     "status": "completed"
    },
    "tags": []
   },
   "outputs": [],
   "source": [
    "assert ensemble_stats[\"min\"] > 1"
   ]
  },
  {
   "cell_type": "code",
   "execution_count": 33,
   "id": "a633efef",
   "metadata": {
    "execution": {
     "iopub.execute_input": "2022-11-26T00:48:43.556292Z",
     "iopub.status.busy": "2022-11-26T00:48:43.555925Z",
     "iopub.status.idle": "2022-11-26T00:48:43.575660Z",
     "shell.execute_reply": "2022-11-26T00:48:43.575194Z"
    },
    "papermill": {
     "duration": 0.1283,
     "end_time": "2022-11-26T00:48:43.576548",
     "exception": false,
     "start_time": "2022-11-26T00:48:43.448248",
     "status": "completed"
    },
    "tags": []
   },
   "outputs": [],
   "source": [
    "assert not ensemble[\"n_clusters\"].isna().any()"
   ]
  },
  {
   "cell_type": "code",
   "execution_count": 34,
   "id": "15957519",
   "metadata": {
    "execution": {
     "iopub.execute_input": "2022-11-26T00:48:43.814122Z",
     "iopub.status.busy": "2022-11-26T00:48:43.813614Z",
     "iopub.status.idle": "2022-11-26T00:48:43.832620Z",
     "shell.execute_reply": "2022-11-26T00:48:43.832161Z"
    },
    "papermill": {
     "duration": 0.12751,
     "end_time": "2022-11-26T00:48:43.833411",
     "exception": false,
     "start_time": "2022-11-26T00:48:43.705901",
     "status": "completed"
    },
    "tags": []
   },
   "outputs": [],
   "source": [
    "# assert ensemble.shape[0] == len(CLUSTERERS)"
   ]
  },
  {
   "cell_type": "code",
   "execution_count": 35,
   "id": "dddbbb82",
   "metadata": {
    "execution": {
     "iopub.execute_input": "2022-11-26T00:48:44.048708Z",
     "iopub.status.busy": "2022-11-26T00:48:44.048413Z",
     "iopub.status.idle": "2022-11-26T00:48:44.069268Z",
     "shell.execute_reply": "2022-11-26T00:48:44.068761Z"
    },
    "papermill": {
     "duration": 0.12974,
     "end_time": "2022-11-26T00:48:44.070207",
     "exception": false,
     "start_time": "2022-11-26T00:48:43.940467",
     "status": "completed"
    },
    "tags": []
   },
   "outputs": [],
   "source": [
    "# all partitions have the right size\n",
    "assert np.all(\n",
    "    [part[\"partition\"].shape[0] == data.shape[0] for idx, part in ensemble.iterrows()]\n",
    ")"
   ]
  },
  {
   "cell_type": "code",
   "execution_count": 36,
   "id": "5fd6233c",
   "metadata": {
    "execution": {
     "iopub.execute_input": "2022-11-26T00:48:44.308297Z",
     "iopub.status.busy": "2022-11-26T00:48:44.307938Z",
     "iopub.status.idle": "2022-11-26T00:48:44.328382Z",
     "shell.execute_reply": "2022-11-26T00:48:44.327870Z"
    },
    "papermill": {
     "duration": 0.151433,
     "end_time": "2022-11-26T00:48:44.329199",
     "exception": false,
     "start_time": "2022-11-26T00:48:44.177766",
     "status": "completed"
    },
    "tags": []
   },
   "outputs": [],
   "source": [
    "# no partition has negative clusters (noisy points)\n",
    "assert not np.any([(part[\"partition\"] < 0).any() for idx, part in ensemble.iterrows()])"
   ]
  },
  {
   "cell_type": "markdown",
   "id": "92be62a2",
   "metadata": {
    "papermill": {
     "duration": 0.107544,
     "end_time": "2022-11-26T00:48:44.544088",
     "exception": false,
     "start_time": "2022-11-26T00:48:44.436544",
     "status": "completed"
    },
    "tags": []
   },
   "source": [
    "### Save"
   ]
  },
  {
   "cell_type": "code",
   "execution_count": 37,
   "id": "aa126bc3",
   "metadata": {
    "execution": {
     "iopub.execute_input": "2022-11-26T00:48:44.760121Z",
     "iopub.status.busy": "2022-11-26T00:48:44.759897Z",
     "iopub.status.idle": "2022-11-26T00:48:44.781199Z",
     "shell.execute_reply": "2022-11-26T00:48:44.780702Z"
    },
    "papermill": {
     "duration": 0.129851,
     "end_time": "2022-11-26T00:48:44.782042",
     "exception": false,
     "start_time": "2022-11-26T00:48:44.652191",
     "status": "completed"
    },
    "tags": []
   },
   "outputs": [
    {
     "data": {
      "text/plain": [
       "PosixPath('/opt/data/results/clustering/null_sims/shuffle_genes/runs/pca-z_score_std-projection-smultixcan-efo_partial-mashr-zscores/DBSCAN.pkl')"
      ]
     },
     "metadata": {},
     "output_type": "display_data"
    }
   ],
   "source": [
    "output_filename = Path(\n",
    "    RESULTS_DIR,\n",
    "    generate_result_set_name(\n",
    "        {},\n",
    "        #         CLUSTERING_OPTIONS,\n",
    "        prefix=f\"{clustering_method_name}\",\n",
    "        suffix=\".pkl\",\n",
    "    ),\n",
    ").resolve()\n",
    "display(output_filename)"
   ]
  },
  {
   "cell_type": "code",
   "execution_count": 38,
   "id": "91116287",
   "metadata": {
    "execution": {
     "iopub.execute_input": "2022-11-26T00:48:45.020748Z",
     "iopub.status.busy": "2022-11-26T00:48:45.020275Z",
     "iopub.status.idle": "2022-11-26T00:48:45.041187Z",
     "shell.execute_reply": "2022-11-26T00:48:45.040618Z"
    },
    "papermill": {
     "duration": 0.150904,
     "end_time": "2022-11-26T00:48:45.042010",
     "exception": false,
     "start_time": "2022-11-26T00:48:44.891106",
     "status": "completed"
    },
    "tags": []
   },
   "outputs": [],
   "source": [
    "ensemble.to_pickle(output_filename)"
   ]
  },
  {
   "cell_type": "code",
   "execution_count": null,
   "id": "fdaba467",
   "metadata": {
    "papermill": {
     "duration": 0.107275,
     "end_time": "2022-11-26T00:48:45.257842",
     "exception": false,
     "start_time": "2022-11-26T00:48:45.150567",
     "status": "completed"
    },
    "tags": []
   },
   "outputs": [],
   "source": []
  }
 ],
 "metadata": {
  "jupytext": {
   "cell_metadata_filter": "all,-execution,-papermill,-trusted",
   "formats": "ipynb,py//py:percent"
  },
  "kernelspec": {
   "display_name": "Python 3 (ipykernel)",
   "language": "python",
   "name": "python3"
  },
  "language_info": {
   "codemirror_mode": {
    "name": "ipython",
    "version": 3
   },
   "file_extension": ".py",
   "mimetype": "text/x-python",
   "name": "python",
   "nbconvert_exporter": "python",
   "pygments_lexer": "ipython3",
   "version": "3.8.13"
  },
  "papermill": {
   "default_parameters": {},
   "duration": 615.886568,
   "end_time": "2022-11-26T00:48:45.682883",
   "environment_variables": {},
   "exception": null,
   "input_path": "nbs/13.1_cluster_analysis_null/00-shuffle_genes/12_01-dbscan-pca.ipynb",
   "output_path": "nbs/13.1_cluster_analysis_null/00-shuffle_genes/12_01-dbscan-pca.run.ipynb",
   "parameters": {},
   "start_time": "2022-11-26T00:38:29.796315",
   "version": "2.2.2"
  },
  "toc-autonumbering": true,
  "toc-showcode": false,
  "toc-showmarkdowntxt": false,
  "toc-showtags": false
 },
 "nbformat": 4,
 "nbformat_minor": 5
}
