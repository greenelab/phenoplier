{
 "cells": [
  {
   "cell_type": "markdown",
   "id": "2404a903",
   "metadata": {
    "papermill": {
     "duration": 0.006321,
     "end_time": "2022-09-14T13:42:01.536534",
     "exception": false,
     "start_time": "2022-09-14T13:42:01.530213",
     "status": "completed"
    },
    "tags": []
   },
   "source": [
    "# Description"
   ]
  },
  {
   "cell_type": "markdown",
   "id": "388dd933",
   "metadata": {
    "papermill": {
     "duration": 0.005281,
     "end_time": "2022-09-14T13:42:01.548821",
     "exception": false,
     "start_time": "2022-09-14T13:42:01.543540",
     "status": "completed"
    },
    "tags": []
   },
   "source": [
    "It reads all the clustering partitions obtained with different algorithms, and generates the ensemble by putting it into a numpy array. Then it obtains the coassociation matrix from the ensemble (see more details below)."
   ]
  },
  {
   "cell_type": "markdown",
   "id": "7715551a",
   "metadata": {
    "papermill": {
     "duration": 0.004753,
     "end_time": "2022-09-14T13:42:01.558689",
     "exception": false,
     "start_time": "2022-09-14T13:42:01.553936",
     "status": "completed"
    },
    "tags": []
   },
   "source": [
    "# Environment variables"
   ]
  },
  {
   "cell_type": "code",
   "execution_count": 1,
   "id": "dad995e0",
   "metadata": {
    "execution": {
     "iopub.execute_input": "2022-09-14T13:42:01.569358Z",
     "iopub.status.busy": "2022-09-14T13:42:01.569160Z",
     "iopub.status.idle": "2022-09-14T13:42:01.584641Z",
     "shell.execute_reply": "2022-09-14T13:42:01.584122Z"
    },
    "papermill": {
     "duration": 0.022442,
     "end_time": "2022-09-14T13:42:01.586024",
     "exception": false,
     "start_time": "2022-09-14T13:42:01.563582",
     "status": "completed"
    },
    "tags": []
   },
   "outputs": [
    {
     "data": {
      "text/plain": [
       "3"
      ]
     },
     "metadata": {},
     "output_type": "display_data"
    }
   ],
   "source": [
    "from IPython.display import display\n",
    "\n",
    "import conf\n",
    "\n",
    "N_JOBS = conf.GENERAL[\"N_JOBS\"]\n",
    "display(N_JOBS)"
   ]
  },
  {
   "cell_type": "code",
   "execution_count": 2,
   "id": "f568f855",
   "metadata": {
    "execution": {
     "iopub.execute_input": "2022-09-14T13:42:01.596696Z",
     "iopub.status.busy": "2022-09-14T13:42:01.596535Z",
     "iopub.status.idle": "2022-09-14T13:42:01.601509Z",
     "shell.execute_reply": "2022-09-14T13:42:01.600991Z"
    },
    "papermill": {
     "duration": 0.01177,
     "end_time": "2022-09-14T13:42:01.602756",
     "exception": false,
     "start_time": "2022-09-14T13:42:01.590986",
     "status": "completed"
    },
    "tags": []
   },
   "outputs": [
    {
     "name": "stdout",
     "output_type": "stream",
     "text": [
      "env: MKL_NUM_THREADS=3\n",
      "env: OPEN_BLAS_NUM_THREADS=3\n",
      "env: NUMEXPR_NUM_THREADS=3\n",
      "env: OMP_NUM_THREADS=3\n"
     ]
    }
   ],
   "source": [
    "%env MKL_NUM_THREADS=$N_JOBS\n",
    "%env OPEN_BLAS_NUM_THREADS=$N_JOBS\n",
    "%env NUMEXPR_NUM_THREADS=$N_JOBS\n",
    "%env OMP_NUM_THREADS=$N_JOBS"
   ]
  },
  {
   "cell_type": "markdown",
   "id": "f5cc7ac1",
   "metadata": {
    "papermill": {
     "duration": 0.004742,
     "end_time": "2022-09-14T13:42:01.612433",
     "exception": false,
     "start_time": "2022-09-14T13:42:01.607691",
     "status": "completed"
    },
    "tags": []
   },
   "source": [
    "# Modules loading"
   ]
  },
  {
   "cell_type": "code",
   "execution_count": 3,
   "id": "a9aa94a8",
   "metadata": {
    "execution": {
     "iopub.execute_input": "2022-09-14T13:42:01.622892Z",
     "iopub.status.busy": "2022-09-14T13:42:01.622729Z",
     "iopub.status.idle": "2022-09-14T13:42:01.635990Z",
     "shell.execute_reply": "2022-09-14T13:42:01.635549Z"
    },
    "papermill": {
     "duration": 0.020103,
     "end_time": "2022-09-14T13:42:01.637363",
     "exception": false,
     "start_time": "2022-09-14T13:42:01.617260",
     "status": "completed"
    },
    "tags": []
   },
   "outputs": [],
   "source": [
    "%load_ext autoreload\n",
    "%autoreload 2"
   ]
  },
  {
   "cell_type": "code",
   "execution_count": 4,
   "id": "f0d16b99",
   "metadata": {
    "execution": {
     "iopub.execute_input": "2022-09-14T13:42:01.648147Z",
     "iopub.status.busy": "2022-09-14T13:42:01.647986Z",
     "iopub.status.idle": "2022-09-14T13:42:01.885260Z",
     "shell.execute_reply": "2022-09-14T13:42:01.884764Z"
    },
    "papermill": {
     "duration": 0.244198,
     "end_time": "2022-09-14T13:42:01.886634",
     "exception": false,
     "start_time": "2022-09-14T13:42:01.642436",
     "status": "completed"
    },
    "tags": []
   },
   "outputs": [],
   "source": [
    "from pathlib import Path\n",
    "\n",
    "import numpy as np\n",
    "import pandas as pd"
   ]
  },
  {
   "cell_type": "markdown",
   "id": "c3351607",
   "metadata": {
    "papermill": {
     "duration": 0.004558,
     "end_time": "2022-09-14T13:42:01.896178",
     "exception": false,
     "start_time": "2022-09-14T13:42:01.891620",
     "status": "completed"
    },
    "tags": []
   },
   "source": [
    "# Settings"
   ]
  },
  {
   "cell_type": "code",
   "execution_count": 5,
   "id": "3e477376",
   "metadata": {
    "execution": {
     "iopub.execute_input": "2022-09-14T13:42:01.906187Z",
     "iopub.status.busy": "2022-09-14T13:42:01.906027Z",
     "iopub.status.idle": "2022-09-14T13:42:01.918553Z",
     "shell.execute_reply": "2022-09-14T13:42:01.918030Z"
    },
    "papermill": {
     "duration": 0.019015,
     "end_time": "2022-09-14T13:42:01.919861",
     "exception": false,
     "start_time": "2022-09-14T13:42:01.900846",
     "status": "completed"
    },
    "tags": []
   },
   "outputs": [],
   "source": [
    "RANDOM_GENERATOR = np.random.default_rng(12345)"
   ]
  },
  {
   "cell_type": "markdown",
   "id": "06e56028",
   "metadata": {
    "papermill": {
     "duration": 0.004589,
     "end_time": "2022-09-14T13:42:01.929364",
     "exception": false,
     "start_time": "2022-09-14T13:42:01.924775",
     "status": "completed"
    },
    "tags": []
   },
   "source": [
    "## Ensemble size"
   ]
  },
  {
   "cell_type": "markdown",
   "id": "5c9d752f",
   "metadata": {
    "papermill": {
     "duration": 0.004485,
     "end_time": "2022-09-14T13:42:01.938709",
     "exception": false,
     "start_time": "2022-09-14T13:42:01.934224",
     "status": "completed"
    },
    "tags": []
   },
   "source": [
    "For some clustering algorithms it is easy to control the number of final partitions to generate: for instance, for k-means, you can generate partitions from k=2 to k=20 (19 partitions with different number of clusters). However, with algorithms such as DBSCAN this is not very easy to achieve, since for some parameter combinations (`eps` and `min_samples`) it generates partitions with one cluster (which is not an actual partition of the data) that are not included here.\n",
    "\n",
    "The parameters below specify the expected number of partitions for each clustering algorithm, and a range of allowed sizes. Then, the code below checks that each algorithm has the same representation in the ensemble. For example, if `EXPECTED_ENSEMBLE_SIZE=50`, `MIN_ENSEMBLE_SIZE=45` and `MAX_ENSEMBLE_SIZE=55`, the code below will check that k-means, spectral clustering, DBSCAN, etc, generated between 45 and 55 partitions. If not, it resamples the generated partitions to get 50 (the value specified by `EXPECTED_ENSEMBLE_SIZE`), so each algorithm has approximately the same representation in the full ensemble."
   ]
  },
  {
   "cell_type": "code",
   "execution_count": 6,
   "id": "491c096b",
   "metadata": {
    "execution": {
     "iopub.execute_input": "2022-09-14T13:42:01.948870Z",
     "iopub.status.busy": "2022-09-14T13:42:01.948659Z",
     "iopub.status.idle": "2022-09-14T13:42:01.961321Z",
     "shell.execute_reply": "2022-09-14T13:42:01.960786Z"
    },
    "papermill": {
     "duration": 0.01952,
     "end_time": "2022-09-14T13:42:01.962722",
     "exception": false,
     "start_time": "2022-09-14T13:42:01.943202",
     "status": "completed"
    },
    "tags": []
   },
   "outputs": [],
   "source": [
    "# EXPECTED_ENSEMBLE_SIZE = 295\n",
    "\n",
    "# MIN_ENSEMBLE_SIZE = 290\n",
    "# MAX_ENSEMBLE_SIZE = 300"
   ]
  },
  {
   "cell_type": "markdown",
   "id": "1759e0ea",
   "metadata": {
    "papermill": {
     "duration": 0.004509,
     "end_time": "2022-09-14T13:42:01.972122",
     "exception": false,
     "start_time": "2022-09-14T13:42:01.967613",
     "status": "completed"
    },
    "tags": []
   },
   "source": [
    "## Consensus clustering"
   ]
  },
  {
   "cell_type": "code",
   "execution_count": 7,
   "id": "8020ce25",
   "metadata": {
    "execution": {
     "iopub.execute_input": "2022-09-14T13:42:01.997683Z",
     "iopub.status.busy": "2022-09-14T13:42:01.997519Z",
     "iopub.status.idle": "2022-09-14T13:42:02.010887Z",
     "shell.execute_reply": "2022-09-14T13:42:02.010497Z"
    },
    "papermill": {
     "duration": 0.019917,
     "end_time": "2022-09-14T13:42:02.012094",
     "exception": false,
     "start_time": "2022-09-14T13:42:01.992177",
     "status": "completed"
    },
    "tags": []
   },
   "outputs": [
    {
     "data": {
      "text/plain": [
       "PosixPath('/opt/data/results/clustering/null_sims/consensus_clustering')"
      ]
     },
     "metadata": {},
     "output_type": "display_data"
    }
   ],
   "source": [
    "# output dir for this notebook\n",
    "RESULTS_DIR = Path(\n",
    "    conf.RESULTS[\"CLUSTERING_NULL_DIR\"], \"consensus_clustering\"\n",
    ").resolve()\n",
    "RESULTS_DIR.mkdir(parents=True, exist_ok=True)\n",
    "\n",
    "display(RESULTS_DIR)"
   ]
  },
  {
   "cell_type": "markdown",
   "id": "1aef6ece",
   "metadata": {
    "papermill": {
     "duration": 0.004581,
     "end_time": "2022-09-14T13:42:02.021587",
     "exception": false,
     "start_time": "2022-09-14T13:42:02.017006",
     "status": "completed"
    },
    "tags": []
   },
   "source": [
    "# Get ensemble"
   ]
  },
  {
   "cell_type": "markdown",
   "id": "83db7dfb",
   "metadata": {
    "papermill": {
     "duration": 0.004631,
     "end_time": "2022-09-14T13:42:02.030970",
     "exception": false,
     "start_time": "2022-09-14T13:42:02.026339",
     "status": "completed"
    },
    "tags": []
   },
   "source": [
    "## Load partition files"
   ]
  },
  {
   "cell_type": "code",
   "execution_count": 8,
   "id": "3bb26fc4",
   "metadata": {
    "execution": {
     "iopub.execute_input": "2022-09-14T13:42:02.041530Z",
     "iopub.status.busy": "2022-09-14T13:42:02.041324Z",
     "iopub.status.idle": "2022-09-14T13:42:02.054850Z",
     "shell.execute_reply": "2022-09-14T13:42:02.054410Z"
    },
    "papermill": {
     "duration": 0.019955,
     "end_time": "2022-09-14T13:42:02.056099",
     "exception": false,
     "start_time": "2022-09-14T13:42:02.036144",
     "status": "completed"
    },
    "tags": []
   },
   "outputs": [
    {
     "data": {
      "text/plain": [
       "PosixPath('/opt/data/results/clustering/null_sims/runs')"
      ]
     },
     "metadata": {},
     "output_type": "display_data"
    }
   ],
   "source": [
    "input_dir = Path(\n",
    "    conf.RESULTS[\"CLUSTERING_NULL_DIR\"],\n",
    "    \"runs\",\n",
    ").resolve()\n",
    "display(input_dir)"
   ]
  },
  {
   "cell_type": "code",
   "execution_count": 9,
   "id": "fac3e759",
   "metadata": {
    "execution": {
     "iopub.execute_input": "2022-09-14T13:42:02.066545Z",
     "iopub.status.busy": "2022-09-14T13:42:02.066391Z",
     "iopub.status.idle": "2022-09-14T13:42:02.079417Z",
     "shell.execute_reply": "2022-09-14T13:42:02.078949Z"
    },
    "papermill": {
     "duration": 0.019732,
     "end_time": "2022-09-14T13:42:02.080735",
     "exception": false,
     "start_time": "2022-09-14T13:42:02.061003",
     "status": "completed"
    },
    "tags": []
   },
   "outputs": [],
   "source": [
    "included_pkl_files = []\n",
    "\n",
    "for pkl_file in input_dir.rglob(\"*.pkl\"):\n",
    "    pkl_file_str = str(pkl_file)\n",
    "\n",
    "    # skip stability pkl files\n",
    "    if \"-stability-\" in pkl_file_str:\n",
    "        continue\n",
    "\n",
    "    included_pkl_files.append(pkl_file)"
   ]
  },
  {
   "cell_type": "code",
   "execution_count": 10,
   "id": "088574d5",
   "metadata": {
    "execution": {
     "iopub.execute_input": "2022-09-14T13:42:02.091308Z",
     "iopub.status.busy": "2022-09-14T13:42:02.091150Z",
     "iopub.status.idle": "2022-09-14T13:42:02.104497Z",
     "shell.execute_reply": "2022-09-14T13:42:02.103986Z"
    },
    "papermill": {
     "duration": 0.019999,
     "end_time": "2022-09-14T13:42:02.105771",
     "exception": false,
     "start_time": "2022-09-14T13:42:02.085772",
     "status": "completed"
    },
    "tags": []
   },
   "outputs": [
    {
     "data": {
      "text/plain": [
       "14"
      ]
     },
     "metadata": {},
     "output_type": "display_data"
    }
   ],
   "source": [
    "display(len(included_pkl_files))\n",
    "\n",
    "# 5 algorithms, 3 dataset versions\n",
    "assert len(included_pkl_files) == (5 * 3) - 1  # because dbscan on z-scores fails here"
   ]
  },
  {
   "cell_type": "markdown",
   "id": "01ae6977",
   "metadata": {
    "papermill": {
     "duration": 0.004902,
     "end_time": "2022-09-14T13:42:02.115882",
     "exception": false,
     "start_time": "2022-09-14T13:42:02.110980",
     "status": "completed"
    },
    "tags": []
   },
   "source": [
    "## Combine partition files to get final ensemble"
   ]
  },
  {
   "cell_type": "code",
   "execution_count": 11,
   "id": "11c225b6",
   "metadata": {
    "execution": {
     "iopub.execute_input": "2022-09-14T13:42:02.126192Z",
     "iopub.status.busy": "2022-09-14T13:42:02.125969Z",
     "iopub.status.idle": "2022-09-14T13:42:02.138148Z",
     "shell.execute_reply": "2022-09-14T13:42:02.137675Z"
    },
    "papermill": {
     "duration": 0.018932,
     "end_time": "2022-09-14T13:42:02.139559",
     "exception": false,
     "start_time": "2022-09-14T13:42:02.120627",
     "status": "completed"
    },
    "tags": []
   },
   "outputs": [],
   "source": [
    "n_partitions = 0"
   ]
  },
  {
   "cell_type": "code",
   "execution_count": 12,
   "id": "e20707ed",
   "metadata": {
    "execution": {
     "iopub.execute_input": "2022-09-14T13:42:02.150582Z",
     "iopub.status.busy": "2022-09-14T13:42:02.150413Z",
     "iopub.status.idle": "2022-09-14T13:42:02.162804Z",
     "shell.execute_reply": "2022-09-14T13:42:02.162143Z"
    },
    "papermill": {
     "duration": 0.01942,
     "end_time": "2022-09-14T13:42:02.164185",
     "exception": false,
     "start_time": "2022-09-14T13:42:02.144765",
     "status": "completed"
    },
    "tags": []
   },
   "outputs": [],
   "source": [
    "ensembles_list = []"
   ]
  },
  {
   "cell_type": "code",
   "execution_count": 13,
   "id": "dd633192",
   "metadata": {
    "execution": {
     "iopub.execute_input": "2022-09-14T13:42:02.175233Z",
     "iopub.status.busy": "2022-09-14T13:42:02.175071Z",
     "iopub.status.idle": "2022-09-14T13:42:02.720297Z",
     "shell.execute_reply": "2022-09-14T13:42:02.719582Z"
    },
    "papermill": {
     "duration": 0.552482,
     "end_time": "2022-09-14T13:42:02.721885",
     "exception": false,
     "start_time": "2022-09-14T13:42:02.169403",
     "status": "completed"
    },
    "tags": []
   },
   "outputs": [],
   "source": [
    "for ens_file in included_pkl_files:\n",
    "    ens = pd.read_pickle(ens_file)\n",
    "\n",
    "    #     short_file_path = Path(*ens_file.parts[-2:])\n",
    "\n",
    "    #     if ens.shape[0] < MIN_ENSEMBLE_SIZE:\n",
    "    #         print(f\"Less partitions than expected in {short_file_path}\")\n",
    "\n",
    "    #         # if less partitions than expected, resample with replacement\n",
    "    #         ens = ens.sample(\n",
    "    #             n=EXPECTED_ENSEMBLE_SIZE,\n",
    "    #             replace=True,\n",
    "    #             random_state=RANDOM_GENERATOR.bit_generator,\n",
    "    #         )\n",
    "    #         assert ens.shape[0] == EXPECTED_ENSEMBLE_SIZE\n",
    "\n",
    "    #     elif ens.shape[0] > MAX_ENSEMBLE_SIZE:\n",
    "    #         print(f\"More partitions than expected in {short_file_path}\")\n",
    "\n",
    "    #         # if more partitions than expected, take a smaller sample\n",
    "    #         ens = ens.sample(\n",
    "    #             n=EXPECTED_ENSEMBLE_SIZE, random_state=RANDOM_GENERATOR.bit_generator\n",
    "    #         )\n",
    "    #         assert ens.shape[0] == EXPECTED_ENSEMBLE_SIZE\n",
    "\n",
    "    ens_full_format = np.concatenate(\n",
    "        ens[\"partition\"].apply(lambda x: x.reshape(1, -1)), axis=0\n",
    "    )\n",
    "\n",
    "    n_partitions += ens_full_format.shape[0]\n",
    "\n",
    "    ensembles_list.append(ens_full_format)"
   ]
  },
  {
   "cell_type": "code",
   "execution_count": 14,
   "id": "0a6938c2",
   "metadata": {
    "execution": {
     "iopub.execute_input": "2022-09-14T13:42:02.763510Z",
     "iopub.status.busy": "2022-09-14T13:42:02.763294Z",
     "iopub.status.idle": "2022-09-14T13:42:02.778512Z",
     "shell.execute_reply": "2022-09-14T13:42:02.777895Z"
    },
    "papermill": {
     "duration": 0.023779,
     "end_time": "2022-09-14T13:42:02.780051",
     "exception": false,
     "start_time": "2022-09-14T13:42:02.756272",
     "status": "completed"
    },
    "tags": []
   },
   "outputs": [
    {
     "data": {
      "text/plain": [
       "14"
      ]
     },
     "metadata": {},
     "output_type": "display_data"
    }
   ],
   "source": [
    "display(len(ensembles_list))\n",
    "assert len(ensembles_list) == len(included_pkl_files)"
   ]
  },
  {
   "cell_type": "code",
   "execution_count": 15,
   "id": "63bb156b",
   "metadata": {
    "execution": {
     "iopub.execute_input": "2022-09-14T13:42:02.793355Z",
     "iopub.status.busy": "2022-09-14T13:42:02.792890Z",
     "iopub.status.idle": "2022-09-14T13:42:02.807794Z",
     "shell.execute_reply": "2022-09-14T13:42:02.807170Z"
    },
    "papermill": {
     "duration": 0.023096,
     "end_time": "2022-09-14T13:42:02.809275",
     "exception": false,
     "start_time": "2022-09-14T13:42:02.786179",
     "status": "completed"
    },
    "tags": []
   },
   "outputs": [
    {
     "data": {
      "text/plain": [
       "3752"
      ]
     },
     "metadata": {},
     "output_type": "display_data"
    }
   ],
   "source": [
    "n_data_objects = ensembles_list[0].shape[1]\n",
    "display(n_data_objects)"
   ]
  },
  {
   "cell_type": "code",
   "execution_count": 16,
   "id": "2b227120",
   "metadata": {
    "execution": {
     "iopub.execute_input": "2022-09-14T13:42:02.822555Z",
     "iopub.status.busy": "2022-09-14T13:42:02.822324Z",
     "iopub.status.idle": "2022-09-14T13:42:02.837277Z",
     "shell.execute_reply": "2022-09-14T13:42:02.836768Z"
    },
    "papermill": {
     "duration": 0.023319,
     "end_time": "2022-09-14T13:42:02.838806",
     "exception": false,
     "start_time": "2022-09-14T13:42:02.815487",
     "status": "completed"
    },
    "tags": []
   },
   "outputs": [
    {
     "data": {
      "text/plain": [
       "3833"
      ]
     },
     "metadata": {},
     "output_type": "display_data"
    }
   ],
   "source": [
    "display(n_partitions)"
   ]
  },
  {
   "cell_type": "code",
   "execution_count": 17,
   "id": "9d5cacb5",
   "metadata": {
    "execution": {
     "iopub.execute_input": "2022-09-14T13:42:02.852494Z",
     "iopub.status.busy": "2022-09-14T13:42:02.852301Z",
     "iopub.status.idle": "2022-09-14T13:42:03.056647Z",
     "shell.execute_reply": "2022-09-14T13:42:03.055875Z"
    },
    "papermill": {
     "duration": 0.213064,
     "end_time": "2022-09-14T13:42:03.058185",
     "exception": false,
     "start_time": "2022-09-14T13:42:02.845121",
     "status": "completed"
    },
    "tags": []
   },
   "outputs": [],
   "source": [
    "full_ensemble = ensembles_list[0]\n",
    "for ens in ensembles_list[1:]:\n",
    "    full_ensemble = np.concatenate((full_ensemble, ens), axis=0)"
   ]
  },
  {
   "cell_type": "code",
   "execution_count": 18,
   "id": "d40548c3",
   "metadata": {
    "execution": {
     "iopub.execute_input": "2022-09-14T13:42:03.070620Z",
     "iopub.status.busy": "2022-09-14T13:42:03.070450Z",
     "iopub.status.idle": "2022-09-14T13:42:03.084349Z",
     "shell.execute_reply": "2022-09-14T13:42:03.083853Z"
    },
    "papermill": {
     "duration": 0.021483,
     "end_time": "2022-09-14T13:42:03.085676",
     "exception": false,
     "start_time": "2022-09-14T13:42:03.064193",
     "status": "completed"
    },
    "tags": []
   },
   "outputs": [
    {
     "data": {
      "text/plain": [
       "(3833, 3752)"
      ]
     },
     "metadata": {},
     "output_type": "display_data"
    }
   ],
   "source": [
    "display(full_ensemble.shape)\n",
    "assert full_ensemble.shape == (n_partitions, n_data_objects)"
   ]
  },
  {
   "cell_type": "markdown",
   "id": "07bf26f1",
   "metadata": {
    "papermill": {
     "duration": 0.005303,
     "end_time": "2022-09-14T13:42:03.096642",
     "exception": false,
     "start_time": "2022-09-14T13:42:03.091339",
     "status": "completed"
    },
    "tags": []
   },
   "source": [
    "## Save"
   ]
  },
  {
   "cell_type": "code",
   "execution_count": 19,
   "id": "74e79279",
   "metadata": {
    "execution": {
     "iopub.execute_input": "2022-09-14T13:42:03.135803Z",
     "iopub.status.busy": "2022-09-14T13:42:03.135398Z",
     "iopub.status.idle": "2022-09-14T13:42:03.167259Z",
     "shell.execute_reply": "2022-09-14T13:42:03.166323Z"
    },
    "papermill": {
     "duration": 0.057469,
     "end_time": "2022-09-14T13:42:03.169718",
     "exception": false,
     "start_time": "2022-09-14T13:42:03.112249",
     "status": "completed"
    },
    "tags": []
   },
   "outputs": [
    {
     "data": {
      "text/plain": [
       "PosixPath('/opt/data/results/clustering/null_sims/consensus_clustering/ensemble.npy')"
      ]
     },
     "metadata": {},
     "output_type": "display_data"
    }
   ],
   "source": [
    "output_file = Path(RESULTS_DIR, \"ensemble.npy\").resolve()\n",
    "display(output_file)"
   ]
  },
  {
   "cell_type": "code",
   "execution_count": 20,
   "id": "18c3c78c",
   "metadata": {
    "execution": {
     "iopub.execute_input": "2022-09-14T13:42:03.185108Z",
     "iopub.status.busy": "2022-09-14T13:42:03.184946Z",
     "iopub.status.idle": "2022-09-14T13:42:03.198606Z",
     "shell.execute_reply": "2022-09-14T13:42:03.198195Z"
    },
    "papermill": {
     "duration": 0.022208,
     "end_time": "2022-09-14T13:42:03.199944",
     "exception": false,
     "start_time": "2022-09-14T13:42:03.177736",
     "status": "completed"
    },
    "tags": []
   },
   "outputs": [
    {
     "data": {
      "text/plain": [
       "array([[ 0.,  0.,  0., ...,  0.,  0.,  0.],\n",
       "       [ 0.,  0.,  0., ...,  0.,  0.,  0.],\n",
       "       [ 0.,  0.,  0., ...,  0.,  0.,  0.],\n",
       "       ...,\n",
       "       [52., 56., 24., ...,  5., 24., 59.],\n",
       "       [ 0.,  0.,  0., ...,  0.,  0.,  0.],\n",
       "       [ 0.,  0.,  0., ...,  0.,  0.,  0.]])"
      ]
     },
     "execution_count": 20,
     "metadata": {},
     "output_type": "execute_result"
    }
   ],
   "source": [
    "full_ensemble"
   ]
  },
  {
   "cell_type": "code",
   "execution_count": 21,
   "id": "daaa724d",
   "metadata": {
    "execution": {
     "iopub.execute_input": "2022-09-14T13:42:03.212248Z",
     "iopub.status.busy": "2022-09-14T13:42:03.212082Z",
     "iopub.status.idle": "2022-09-14T13:42:03.294695Z",
     "shell.execute_reply": "2022-09-14T13:42:03.294111Z"
    },
    "papermill": {
     "duration": 0.090428,
     "end_time": "2022-09-14T13:42:03.296195",
     "exception": false,
     "start_time": "2022-09-14T13:42:03.205767",
     "status": "completed"
    },
    "tags": []
   },
   "outputs": [],
   "source": [
    "np.save(output_file, full_ensemble)"
   ]
  },
  {
   "cell_type": "markdown",
   "id": "41cb00f2",
   "metadata": {
    "papermill": {
     "duration": 0.005308,
     "end_time": "2022-09-14T13:42:03.307294",
     "exception": false,
     "start_time": "2022-09-14T13:42:03.301986",
     "status": "completed"
    },
    "tags": []
   },
   "source": [
    "# Get coassociation matrix from ensemble"
   ]
  },
  {
   "cell_type": "markdown",
   "id": "f2807741",
   "metadata": {
    "papermill": {
     "duration": 0.005056,
     "end_time": "2022-09-14T13:42:03.317522",
     "exception": false,
     "start_time": "2022-09-14T13:42:03.312466",
     "status": "completed"
    },
    "tags": []
   },
   "source": [
    "The coassociation matrix is a distance matrix derived from the ensemble, where each cell represents the percentage of times a pair of objects (traits and diseases in this case) were not clustered together. It serves as an input for any consensus function (basically, another clustering algorithm) to derive a consensus partition."
   ]
  },
  {
   "cell_type": "code",
   "execution_count": 22,
   "id": "2ccb6b52",
   "metadata": {
    "execution": {
     "iopub.execute_input": "2022-09-14T13:42:03.328467Z",
     "iopub.status.busy": "2022-09-14T13:42:03.328249Z",
     "iopub.status.idle": "2022-09-14T13:42:03.545129Z",
     "shell.execute_reply": "2022-09-14T13:42:03.544565Z"
    },
    "papermill": {
     "duration": 0.224369,
     "end_time": "2022-09-14T13:42:03.546900",
     "exception": false,
     "start_time": "2022-09-14T13:42:03.322531",
     "status": "completed"
    },
    "tags": []
   },
   "outputs": [],
   "source": [
    "from clustering.ensembles.utils import get_ensemble_distance_matrix"
   ]
  },
  {
   "cell_type": "code",
   "execution_count": 23,
   "id": "f0765ad5",
   "metadata": {
    "execution": {
     "iopub.execute_input": "2022-09-14T13:42:03.559334Z",
     "iopub.status.busy": "2022-09-14T13:42:03.559019Z",
     "iopub.status.idle": "2022-09-14T14:00:27.186185Z",
     "shell.execute_reply": "2022-09-14T14:00:27.185664Z"
    },
    "papermill": {
     "duration": 1103.634867,
     "end_time": "2022-09-14T14:00:27.187786",
     "exception": false,
     "start_time": "2022-09-14T13:42:03.552919",
     "status": "completed"
    },
    "tags": []
   },
   "outputs": [],
   "source": [
    "ensemble_coassoc_matrix = get_ensemble_distance_matrix(\n",
    "    full_ensemble,\n",
    "    n_jobs=conf.GENERAL[\"N_JOBS\"],\n",
    ")"
   ]
  },
  {
   "cell_type": "code",
   "execution_count": 24,
   "id": "3fb74d3d",
   "metadata": {
    "execution": {
     "iopub.execute_input": "2022-09-14T14:00:27.201793Z",
     "iopub.status.busy": "2022-09-14T14:00:27.201604Z",
     "iopub.status.idle": "2022-09-14T14:00:27.219599Z",
     "shell.execute_reply": "2022-09-14T14:00:27.219075Z"
    },
    "papermill": {
     "duration": 0.026396,
     "end_time": "2022-09-14T14:00:27.220963",
     "exception": false,
     "start_time": "2022-09-14T14:00:27.194567",
     "status": "completed"
    },
    "tags": []
   },
   "outputs": [
    {
     "data": {
      "text/plain": [
       "(3752, 3752)"
      ]
     },
     "execution_count": 24,
     "metadata": {},
     "output_type": "execute_result"
    }
   ],
   "source": [
    "ensemble_coassoc_matrix.shape"
   ]
  },
  {
   "cell_type": "code",
   "execution_count": 25,
   "id": "754800fa",
   "metadata": {
    "execution": {
     "iopub.execute_input": "2022-09-14T14:00:27.234062Z",
     "iopub.status.busy": "2022-09-14T14:00:27.233883Z",
     "iopub.status.idle": "2022-09-14T14:00:27.251599Z",
     "shell.execute_reply": "2022-09-14T14:00:27.251045Z"
    },
    "papermill": {
     "duration": 0.02585,
     "end_time": "2022-09-14T14:00:27.252941",
     "exception": false,
     "start_time": "2022-09-14T14:00:27.227091",
     "status": "completed"
    },
    "tags": []
   },
   "outputs": [
    {
     "data": {
      "text/plain": [
       "array([[0.        , 0.47733899, 0.57453581, ..., 0.59867374, 0.62867745,\n",
       "        0.7500664 ],\n",
       "       [0.47733899, 0.        , 0.51951477, ..., 0.53243671, 0.60115911,\n",
       "        0.7232638 ],\n",
       "       [0.57453581, 0.51951477, 0.        , ..., 0.44330169, 0.46017932,\n",
       "        0.71719039],\n",
       "       ...,\n",
       "       [0.59867374, 0.53243671, 0.44330169, ..., 0.        , 0.41824895,\n",
       "        0.73725904],\n",
       "       [0.62867745, 0.60115911, 0.46017932, ..., 0.41824895, 0.        ,\n",
       "        0.74121996],\n",
       "       [0.7500664 , 0.7232638 , 0.71719039, ..., 0.73725904, 0.74121996,\n",
       "        0.        ]])"
      ]
     },
     "execution_count": 25,
     "metadata": {},
     "output_type": "execute_result"
    }
   ],
   "source": [
    "ensemble_coassoc_matrix"
   ]
  },
  {
   "cell_type": "markdown",
   "id": "01809abc",
   "metadata": {
    "papermill": {
     "duration": 0.005485,
     "end_time": "2022-09-14T14:00:27.264175",
     "exception": false,
     "start_time": "2022-09-14T14:00:27.258690",
     "status": "completed"
    },
    "tags": []
   },
   "source": [
    "## Save"
   ]
  },
  {
   "cell_type": "code",
   "execution_count": 26,
   "id": "66d5710f",
   "metadata": {
    "execution": {
     "iopub.execute_input": "2022-09-14T14:00:27.276075Z",
     "iopub.status.busy": "2022-09-14T14:00:27.275907Z",
     "iopub.status.idle": "2022-09-14T14:00:27.292303Z",
     "shell.execute_reply": "2022-09-14T14:00:27.291760Z"
    },
    "papermill": {
     "duration": 0.023819,
     "end_time": "2022-09-14T14:00:27.293546",
     "exception": false,
     "start_time": "2022-09-14T14:00:27.269727",
     "status": "completed"
    },
    "tags": []
   },
   "outputs": [
    {
     "data": {
      "text/plain": [
       "PosixPath('/opt/data/results/clustering/null_sims/consensus_clustering/ensemble_coassoc_matrix.npy')"
      ]
     },
     "metadata": {},
     "output_type": "display_data"
    }
   ],
   "source": [
    "output_file = Path(RESULTS_DIR, \"ensemble_coassoc_matrix.npy\").resolve()\n",
    "display(output_file)"
   ]
  },
  {
   "cell_type": "code",
   "execution_count": 27,
   "id": "d425aaf1",
   "metadata": {
    "execution": {
     "iopub.execute_input": "2022-09-14T14:00:27.305900Z",
     "iopub.status.busy": "2022-09-14T14:00:27.305735Z",
     "iopub.status.idle": "2022-09-14T14:00:27.391274Z",
     "shell.execute_reply": "2022-09-14T14:00:27.390773Z"
    },
    "papermill": {
     "duration": 0.093452,
     "end_time": "2022-09-14T14:00:27.392746",
     "exception": false,
     "start_time": "2022-09-14T14:00:27.299294",
     "status": "completed"
    },
    "tags": []
   },
   "outputs": [],
   "source": [
    "np.save(output_file, ensemble_coassoc_matrix)"
   ]
  },
  {
   "cell_type": "code",
   "execution_count": null,
   "id": "5cff8c44",
   "metadata": {
    "papermill": {
     "duration": 0.005465,
     "end_time": "2022-09-14T14:00:27.404090",
     "exception": false,
     "start_time": "2022-09-14T14:00:27.398625",
     "status": "completed"
    },
    "tags": []
   },
   "outputs": [],
   "source": []
  }
 ],
 "metadata": {
  "jupytext": {
   "cell_metadata_filter": "all,-execution,-papermill,-trusted",
   "formats": "ipynb,py//py:percent"
  },
  "kernelspec": {
   "display_name": "Python 3 (ipykernel)",
   "language": "python",
   "name": "python3"
  },
  "language_info": {
   "codemirror_mode": {
    "name": "ipython",
    "version": 3
   },
   "file_extension": ".py",
   "mimetype": "text/x-python",
   "name": "python",
   "nbconvert_exporter": "python",
   "pygments_lexer": "ipython3",
   "version": "3.8.13"
  },
  "papermill": {
   "default_parameters": {},
   "duration": 1107.317434,
   "end_time": "2022-09-14T14:00:27.627241",
   "environment_variables": {},
   "exception": null,
   "input_path": "nbs/13.1_cluster_analysis_null/20_00-generate_ensemble.ipynb",
   "output_path": "nbs/13.1_cluster_analysis_null/20_00-generate_ensemble.run.ipynb",
   "parameters": {},
   "start_time": "2022-09-14T13:42:00.309807",
   "version": "2.2.2"
  },
  "toc-autonumbering": true,
  "toc-showcode": false,
  "toc-showmarkdowntxt": false,
  "toc-showtags": false
 },
 "nbformat": 4,
 "nbformat_minor": 5
}
