{
 "cells": [
  {
   "cell_type": "markdown",
   "id": "2404a903",
   "metadata": {
    "papermill": {
     "duration": 0.007662,
     "end_time": "2022-11-27T02:34:08.980199",
     "exception": false,
     "start_time": "2022-11-27T02:34:08.972537",
     "status": "completed"
    },
    "tags": []
   },
   "source": [
    "# Description"
   ]
  },
  {
   "cell_type": "markdown",
   "id": "388dd933",
   "metadata": {
    "papermill": {
     "duration": 0.00766,
     "end_time": "2022-11-27T02:34:08.997454",
     "exception": false,
     "start_time": "2022-11-27T02:34:08.989794",
     "status": "completed"
    },
    "tags": []
   },
   "source": [
    "It reads all the clustering partitions obtained with different algorithms, and generates the ensemble by putting it into a numpy array. Then it obtains the coassociation matrix from the ensemble (see more details below)."
   ]
  },
  {
   "cell_type": "markdown",
   "id": "7715551a",
   "metadata": {
    "papermill": {
     "duration": 0.006707,
     "end_time": "2022-11-27T02:34:09.011048",
     "exception": false,
     "start_time": "2022-11-27T02:34:09.004341",
     "status": "completed"
    },
    "tags": []
   },
   "source": [
    "# Environment variables"
   ]
  },
  {
   "cell_type": "code",
   "execution_count": 1,
   "id": "dad995e0",
   "metadata": {
    "execution": {
     "iopub.execute_input": "2022-11-27T02:34:09.026058Z",
     "iopub.status.busy": "2022-11-27T02:34:09.025645Z",
     "iopub.status.idle": "2022-11-27T02:34:09.044055Z",
     "shell.execute_reply": "2022-11-27T02:34:09.043545Z"
    },
    "papermill": {
     "duration": 0.027502,
     "end_time": "2022-11-27T02:34:09.045440",
     "exception": false,
     "start_time": "2022-11-27T02:34:09.017938",
     "status": "completed"
    },
    "tags": []
   },
   "outputs": [
    {
     "data": {
      "text/plain": [
       "10"
      ]
     },
     "metadata": {},
     "output_type": "display_data"
    }
   ],
   "source": [
    "from IPython.display import display\n",
    "\n",
    "import conf\n",
    "\n",
    "N_JOBS = conf.GENERAL[\"N_JOBS\"]\n",
    "display(N_JOBS)"
   ]
  },
  {
   "cell_type": "code",
   "execution_count": 2,
   "id": "f568f855",
   "metadata": {
    "execution": {
     "iopub.execute_input": "2022-11-27T02:34:09.061193Z",
     "iopub.status.busy": "2022-11-27T02:34:09.060769Z",
     "iopub.status.idle": "2022-11-27T02:34:09.066762Z",
     "shell.execute_reply": "2022-11-27T02:34:09.066242Z"
    },
    "papermill": {
     "duration": 0.01544,
     "end_time": "2022-11-27T02:34:09.068086",
     "exception": false,
     "start_time": "2022-11-27T02:34:09.052646",
     "status": "completed"
    },
    "tags": []
   },
   "outputs": [
    {
     "name": "stdout",
     "output_type": "stream",
     "text": [
      "env: MKL_NUM_THREADS=10\n",
      "env: OPEN_BLAS_NUM_THREADS=10\n",
      "env: NUMEXPR_NUM_THREADS=10\n",
      "env: OMP_NUM_THREADS=10\n"
     ]
    }
   ],
   "source": [
    "%env MKL_NUM_THREADS=$N_JOBS\n",
    "%env OPEN_BLAS_NUM_THREADS=$N_JOBS\n",
    "%env NUMEXPR_NUM_THREADS=$N_JOBS\n",
    "%env OMP_NUM_THREADS=$N_JOBS"
   ]
  },
  {
   "cell_type": "markdown",
   "id": "f5cc7ac1",
   "metadata": {
    "papermill": {
     "duration": 0.006729,
     "end_time": "2022-11-27T02:34:09.081874",
     "exception": false,
     "start_time": "2022-11-27T02:34:09.075145",
     "status": "completed"
    },
    "tags": []
   },
   "source": [
    "# Modules loading"
   ]
  },
  {
   "cell_type": "code",
   "execution_count": 3,
   "id": "a9aa94a8",
   "metadata": {
    "execution": {
     "iopub.execute_input": "2022-11-27T02:34:09.096976Z",
     "iopub.status.busy": "2022-11-27T02:34:09.096580Z",
     "iopub.status.idle": "2022-11-27T02:34:09.109760Z",
     "shell.execute_reply": "2022-11-27T02:34:09.109243Z"
    },
    "papermill": {
     "duration": 0.022138,
     "end_time": "2022-11-27T02:34:09.111030",
     "exception": false,
     "start_time": "2022-11-27T02:34:09.088892",
     "status": "completed"
    },
    "tags": []
   },
   "outputs": [],
   "source": [
    "%load_ext autoreload\n",
    "%autoreload 2"
   ]
  },
  {
   "cell_type": "code",
   "execution_count": 4,
   "id": "f0d16b99",
   "metadata": {
    "execution": {
     "iopub.execute_input": "2022-11-27T02:34:09.126652Z",
     "iopub.status.busy": "2022-11-27T02:34:09.126302Z",
     "iopub.status.idle": "2022-11-27T02:34:09.305301Z",
     "shell.execute_reply": "2022-11-27T02:34:09.304908Z"
    },
    "papermill": {
     "duration": 0.188798,
     "end_time": "2022-11-27T02:34:09.306764",
     "exception": false,
     "start_time": "2022-11-27T02:34:09.117966",
     "status": "completed"
    },
    "tags": []
   },
   "outputs": [],
   "source": [
    "from pathlib import Path\n",
    "\n",
    "import numpy as np\n",
    "import pandas as pd"
   ]
  },
  {
   "cell_type": "markdown",
   "id": "c3351607",
   "metadata": {
    "papermill": {
     "duration": 0.009556,
     "end_time": "2022-11-27T02:34:09.324557",
     "exception": false,
     "start_time": "2022-11-27T02:34:09.315001",
     "status": "completed"
    },
    "tags": []
   },
   "source": [
    "# Settings"
   ]
  },
  {
   "cell_type": "code",
   "execution_count": 5,
   "id": "3e477376",
   "metadata": {
    "execution": {
     "iopub.execute_input": "2022-11-27T02:34:09.340969Z",
     "iopub.status.busy": "2022-11-27T02:34:09.340862Z",
     "iopub.status.idle": "2022-11-27T02:34:09.349430Z",
     "shell.execute_reply": "2022-11-27T02:34:09.349100Z"
    },
    "papermill": {
     "duration": 0.017448,
     "end_time": "2022-11-27T02:34:09.350618",
     "exception": false,
     "start_time": "2022-11-27T02:34:09.333170",
     "status": "completed"
    },
    "tags": []
   },
   "outputs": [],
   "source": [
    "RANDOM_GENERATOR = np.random.default_rng(12345)"
   ]
  },
  {
   "cell_type": "code",
   "execution_count": 6,
   "id": "e8e94454-25ca-483a-86fb-bed1d889ccf8",
   "metadata": {
    "execution": {
     "iopub.execute_input": "2022-11-27T02:34:09.365591Z",
     "iopub.status.busy": "2022-11-27T02:34:09.365506Z",
     "iopub.status.idle": "2022-11-27T02:34:09.372585Z",
     "shell.execute_reply": "2022-11-27T02:34:09.372263Z"
    },
    "papermill": {
     "duration": 0.01633,
     "end_time": "2022-11-27T02:34:09.373784",
     "exception": false,
     "start_time": "2022-11-27T02:34:09.357454",
     "status": "completed"
    },
    "tags": []
   },
   "outputs": [],
   "source": [
    "NULL_DIR = conf.RESULTS[\"CLUSTERING_NULL_DIR\"] / \"shuffle_genes\""
   ]
  },
  {
   "cell_type": "markdown",
   "id": "06e56028",
   "metadata": {
    "papermill": {
     "duration": 0.006918,
     "end_time": "2022-11-27T02:34:09.387745",
     "exception": false,
     "start_time": "2022-11-27T02:34:09.380827",
     "status": "completed"
    },
    "tags": []
   },
   "source": [
    "## Ensemble size"
   ]
  },
  {
   "cell_type": "markdown",
   "id": "5c9d752f",
   "metadata": {
    "papermill": {
     "duration": 0.007095,
     "end_time": "2022-11-27T02:34:09.401767",
     "exception": false,
     "start_time": "2022-11-27T02:34:09.394672",
     "status": "completed"
    },
    "tags": []
   },
   "source": [
    "For some clustering algorithms it is easy to control the number of final partitions to generate: for instance, for k-means, you can generate partitions from k=2 to k=20 (19 partitions with different number of clusters). However, with algorithms such as DBSCAN this is not very easy to achieve, since for some parameter combinations (`eps` and `min_samples`) it generates partitions with one cluster (which is not an actual partition of the data) that are not included here.\n",
    "\n",
    "The parameters below specify the expected number of partitions for each clustering algorithm, and a range of allowed sizes. Then, the code below checks that each algorithm has the same representation in the ensemble. For example, if `EXPECTED_ENSEMBLE_SIZE=50`, `MIN_ENSEMBLE_SIZE=45` and `MAX_ENSEMBLE_SIZE=55`, the code below will check that k-means, spectral clustering, DBSCAN, etc, generated between 45 and 55 partitions. If not, it resamples the generated partitions to get 50 (the value specified by `EXPECTED_ENSEMBLE_SIZE`), so each algorithm has approximately the same representation in the full ensemble."
   ]
  },
  {
   "cell_type": "code",
   "execution_count": 7,
   "id": "491c096b",
   "metadata": {
    "execution": {
     "iopub.execute_input": "2022-11-27T02:34:09.416500Z",
     "iopub.status.busy": "2022-11-27T02:34:09.416405Z",
     "iopub.status.idle": "2022-11-27T02:34:09.427928Z",
     "shell.execute_reply": "2022-11-27T02:34:09.427502Z"
    },
    "papermill": {
     "duration": 0.020128,
     "end_time": "2022-11-27T02:34:09.428798",
     "exception": false,
     "start_time": "2022-11-27T02:34:09.408670",
     "status": "completed"
    },
    "tags": []
   },
   "outputs": [],
   "source": [
    "# EXPECTED_ENSEMBLE_SIZE = 295\n",
    "\n",
    "# MIN_ENSEMBLE_SIZE = 290\n",
    "# MAX_ENSEMBLE_SIZE = 300"
   ]
  },
  {
   "cell_type": "markdown",
   "id": "1759e0ea",
   "metadata": {
    "papermill": {
     "duration": 0.003551,
     "end_time": "2022-11-27T02:34:09.435909",
     "exception": false,
     "start_time": "2022-11-27T02:34:09.432358",
     "status": "completed"
    },
    "tags": []
   },
   "source": [
    "## Consensus clustering"
   ]
  },
  {
   "cell_type": "code",
   "execution_count": 8,
   "id": "8020ce25",
   "metadata": {
    "execution": {
     "iopub.execute_input": "2022-11-27T02:34:09.444045Z",
     "iopub.status.busy": "2022-11-27T02:34:09.443672Z",
     "iopub.status.idle": "2022-11-27T02:34:09.457253Z",
     "shell.execute_reply": "2022-11-27T02:34:09.456834Z"
    },
    "papermill": {
     "duration": 0.018534,
     "end_time": "2022-11-27T02:34:09.458028",
     "exception": false,
     "start_time": "2022-11-27T02:34:09.439494",
     "status": "completed"
    },
    "tags": []
   },
   "outputs": [
    {
     "data": {
      "text/plain": [
       "PosixPath('/opt/data/results/clustering/null_sims/shuffle_genes/consensus_clustering')"
      ]
     },
     "metadata": {},
     "output_type": "display_data"
    }
   ],
   "source": [
    "# output dir for this notebook\n",
    "RESULTS_DIR = Path(NULL_DIR, \"consensus_clustering\").resolve()\n",
    "RESULTS_DIR.mkdir(parents=True, exist_ok=True)\n",
    "\n",
    "display(RESULTS_DIR)"
   ]
  },
  {
   "cell_type": "markdown",
   "id": "1aef6ece",
   "metadata": {
    "papermill": {
     "duration": 0.003911,
     "end_time": "2022-11-27T02:34:09.465566",
     "exception": false,
     "start_time": "2022-11-27T02:34:09.461655",
     "status": "completed"
    },
    "tags": []
   },
   "source": [
    "# Get ensemble"
   ]
  },
  {
   "cell_type": "markdown",
   "id": "83db7dfb",
   "metadata": {
    "papermill": {
     "duration": 0.003582,
     "end_time": "2022-11-27T02:34:09.472763",
     "exception": false,
     "start_time": "2022-11-27T02:34:09.469181",
     "status": "completed"
    },
    "tags": []
   },
   "source": [
    "## Load partition files"
   ]
  },
  {
   "cell_type": "code",
   "execution_count": 9,
   "id": "3bb26fc4",
   "metadata": {
    "execution": {
     "iopub.execute_input": "2022-11-27T02:34:09.480976Z",
     "iopub.status.busy": "2022-11-27T02:34:09.480583Z",
     "iopub.status.idle": "2022-11-27T02:34:09.494045Z",
     "shell.execute_reply": "2022-11-27T02:34:09.493621Z"
    },
    "papermill": {
     "duration": 0.018383,
     "end_time": "2022-11-27T02:34:09.494816",
     "exception": false,
     "start_time": "2022-11-27T02:34:09.476433",
     "status": "completed"
    },
    "tags": []
   },
   "outputs": [
    {
     "data": {
      "text/plain": [
       "PosixPath('/opt/data/results/clustering/null_sims/shuffle_genes/runs')"
      ]
     },
     "metadata": {},
     "output_type": "display_data"
    }
   ],
   "source": [
    "input_dir = Path(\n",
    "    NULL_DIR,\n",
    "    \"runs\",\n",
    ").resolve()\n",
    "display(input_dir)"
   ]
  },
  {
   "cell_type": "code",
   "execution_count": 10,
   "id": "fac3e759",
   "metadata": {
    "execution": {
     "iopub.execute_input": "2022-11-27T02:34:09.503404Z",
     "iopub.status.busy": "2022-11-27T02:34:09.503100Z",
     "iopub.status.idle": "2022-11-27T02:34:09.516594Z",
     "shell.execute_reply": "2022-11-27T02:34:09.516158Z"
    },
    "papermill": {
     "duration": 0.018669,
     "end_time": "2022-11-27T02:34:09.517450",
     "exception": false,
     "start_time": "2022-11-27T02:34:09.498781",
     "status": "completed"
    },
    "tags": []
   },
   "outputs": [],
   "source": [
    "included_pkl_files = []\n",
    "\n",
    "for pkl_file in input_dir.rglob(\"*.pkl\"):\n",
    "    pkl_file_str = str(pkl_file)\n",
    "\n",
    "    # skip stability pkl files\n",
    "    if \"-stability-\" in pkl_file_str:\n",
    "        continue\n",
    "\n",
    "    included_pkl_files.append(pkl_file)"
   ]
  },
  {
   "cell_type": "code",
   "execution_count": 11,
   "id": "088574d5",
   "metadata": {
    "execution": {
     "iopub.execute_input": "2022-11-27T02:34:09.525705Z",
     "iopub.status.busy": "2022-11-27T02:34:09.525367Z",
     "iopub.status.idle": "2022-11-27T02:34:09.538327Z",
     "shell.execute_reply": "2022-11-27T02:34:09.537912Z"
    },
    "papermill": {
     "duration": 0.017864,
     "end_time": "2022-11-27T02:34:09.539045",
     "exception": false,
     "start_time": "2022-11-27T02:34:09.521181",
     "status": "completed"
    },
    "tags": []
   },
   "outputs": [
    {
     "data": {
      "text/plain": [
       "14"
      ]
     },
     "metadata": {},
     "output_type": "display_data"
    }
   ],
   "source": [
    "display(len(included_pkl_files))\n",
    "\n",
    "# 5 algorithms, 3 dataset versions\n",
    "assert len(included_pkl_files) == (5 * 3) - 1  # because dbscan on z-scores fails here"
   ]
  },
  {
   "cell_type": "markdown",
   "id": "01ae6977",
   "metadata": {
    "papermill": {
     "duration": 0.022593,
     "end_time": "2022-11-27T02:34:09.565364",
     "exception": false,
     "start_time": "2022-11-27T02:34:09.542771",
     "status": "completed"
    },
    "tags": []
   },
   "source": [
    "## Combine partition files to get final ensemble"
   ]
  },
  {
   "cell_type": "code",
   "execution_count": 12,
   "id": "11c225b6",
   "metadata": {
    "execution": {
     "iopub.execute_input": "2022-11-27T02:34:09.573905Z",
     "iopub.status.busy": "2022-11-27T02:34:09.573520Z",
     "iopub.status.idle": "2022-11-27T02:34:09.585740Z",
     "shell.execute_reply": "2022-11-27T02:34:09.585311Z"
    },
    "papermill": {
     "duration": 0.017295,
     "end_time": "2022-11-27T02:34:09.586520",
     "exception": false,
     "start_time": "2022-11-27T02:34:09.569225",
     "status": "completed"
    },
    "tags": []
   },
   "outputs": [],
   "source": [
    "n_partitions = 0"
   ]
  },
  {
   "cell_type": "code",
   "execution_count": 13,
   "id": "e20707ed",
   "metadata": {
    "execution": {
     "iopub.execute_input": "2022-11-27T02:34:09.594920Z",
     "iopub.status.busy": "2022-11-27T02:34:09.594554Z",
     "iopub.status.idle": "2022-11-27T02:34:09.606569Z",
     "shell.execute_reply": "2022-11-27T02:34:09.606141Z"
    },
    "papermill": {
     "duration": 0.017115,
     "end_time": "2022-11-27T02:34:09.607423",
     "exception": false,
     "start_time": "2022-11-27T02:34:09.590308",
     "status": "completed"
    },
    "tags": []
   },
   "outputs": [],
   "source": [
    "ensembles_list = []"
   ]
  },
  {
   "cell_type": "code",
   "execution_count": 14,
   "id": "dd633192",
   "metadata": {
    "execution": {
     "iopub.execute_input": "2022-11-27T02:34:09.616230Z",
     "iopub.status.busy": "2022-11-27T02:34:09.615887Z",
     "iopub.status.idle": "2022-11-27T02:34:09.717568Z",
     "shell.execute_reply": "2022-11-27T02:34:09.717162Z"
    },
    "papermill": {
     "duration": 0.107242,
     "end_time": "2022-11-27T02:34:09.718874",
     "exception": false,
     "start_time": "2022-11-27T02:34:09.611632",
     "status": "completed"
    },
    "tags": []
   },
   "outputs": [],
   "source": [
    "for ens_file in included_pkl_files:\n",
    "    ens = pd.read_pickle(ens_file)\n",
    "\n",
    "    #     short_file_path = Path(*ens_file.parts[-2:])\n",
    "\n",
    "    #     if ens.shape[0] < MIN_ENSEMBLE_SIZE:\n",
    "    #         print(f\"Less partitions than expected in {short_file_path}\")\n",
    "\n",
    "    #         # if less partitions than expected, resample with replacement\n",
    "    #         ens = ens.sample(\n",
    "    #             n=EXPECTED_ENSEMBLE_SIZE,\n",
    "    #             replace=True,\n",
    "    #             random_state=RANDOM_GENERATOR.bit_generator,\n",
    "    #         )\n",
    "    #         assert ens.shape[0] == EXPECTED_ENSEMBLE_SIZE\n",
    "\n",
    "    #     elif ens.shape[0] > MAX_ENSEMBLE_SIZE:\n",
    "    #         print(f\"More partitions than expected in {short_file_path}\")\n",
    "\n",
    "    #         # if more partitions than expected, take a smaller sample\n",
    "    #         ens = ens.sample(\n",
    "    #             n=EXPECTED_ENSEMBLE_SIZE, random_state=RANDOM_GENERATOR.bit_generator\n",
    "    #         )\n",
    "    #         assert ens.shape[0] == EXPECTED_ENSEMBLE_SIZE\n",
    "\n",
    "    ens_full_format = np.concatenate(\n",
    "        ens[\"partition\"].apply(lambda x: x.reshape(1, -1)), axis=0\n",
    "    )\n",
    "\n",
    "    n_partitions += ens_full_format.shape[0]\n",
    "\n",
    "    ensembles_list.append(ens_full_format)"
   ]
  },
  {
   "cell_type": "code",
   "execution_count": 15,
   "id": "0a6938c2",
   "metadata": {
    "execution": {
     "iopub.execute_input": "2022-11-27T02:34:09.736482Z",
     "iopub.status.busy": "2022-11-27T02:34:09.736397Z",
     "iopub.status.idle": "2022-11-27T02:34:09.745288Z",
     "shell.execute_reply": "2022-11-27T02:34:09.744971Z"
    },
    "papermill": {
     "duration": 0.020157,
     "end_time": "2022-11-27T02:34:09.746508",
     "exception": false,
     "start_time": "2022-11-27T02:34:09.726351",
     "status": "completed"
    },
    "tags": []
   },
   "outputs": [
    {
     "data": {
      "text/plain": [
       "14"
      ]
     },
     "metadata": {},
     "output_type": "display_data"
    }
   ],
   "source": [
    "display(len(ensembles_list))\n",
    "assert len(ensembles_list) == len(included_pkl_files)"
   ]
  },
  {
   "cell_type": "code",
   "execution_count": 16,
   "id": "63bb156b",
   "metadata": {
    "execution": {
     "iopub.execute_input": "2022-11-27T02:34:09.761886Z",
     "iopub.status.busy": "2022-11-27T02:34:09.761677Z",
     "iopub.status.idle": "2022-11-27T02:34:09.769053Z",
     "shell.execute_reply": "2022-11-27T02:34:09.768749Z"
    },
    "papermill": {
     "duration": 0.01621,
     "end_time": "2022-11-27T02:34:09.770190",
     "exception": false,
     "start_time": "2022-11-27T02:34:09.753980",
     "status": "completed"
    },
    "tags": []
   },
   "outputs": [
    {
     "data": {
      "text/plain": [
       "3752"
      ]
     },
     "metadata": {},
     "output_type": "display_data"
    }
   ],
   "source": [
    "n_data_objects = ensembles_list[0].shape[1]\n",
    "display(n_data_objects)"
   ]
  },
  {
   "cell_type": "code",
   "execution_count": 17,
   "id": "2b227120",
   "metadata": {
    "execution": {
     "iopub.execute_input": "2022-11-27T02:34:09.786870Z",
     "iopub.status.busy": "2022-11-27T02:34:09.786519Z",
     "iopub.status.idle": "2022-11-27T02:34:09.799300Z",
     "shell.execute_reply": "2022-11-27T02:34:09.798890Z"
    },
    "papermill": {
     "duration": 0.022022,
     "end_time": "2022-11-27T02:34:09.800586",
     "exception": false,
     "start_time": "2022-11-27T02:34:09.778564",
     "status": "completed"
    },
    "tags": []
   },
   "outputs": [
    {
     "data": {
      "text/plain": [
       "3844"
      ]
     },
     "metadata": {},
     "output_type": "display_data"
    }
   ],
   "source": [
    "display(n_partitions)"
   ]
  },
  {
   "cell_type": "code",
   "execution_count": 18,
   "id": "9d5cacb5",
   "metadata": {
    "execution": {
     "iopub.execute_input": "2022-11-27T02:34:09.816899Z",
     "iopub.status.busy": "2022-11-27T02:34:09.816643Z",
     "iopub.status.idle": "2022-11-27T02:34:09.944743Z",
     "shell.execute_reply": "2022-11-27T02:34:09.944326Z"
    },
    "papermill": {
     "duration": 0.137521,
     "end_time": "2022-11-27T02:34:09.946020",
     "exception": false,
     "start_time": "2022-11-27T02:34:09.808499",
     "status": "completed"
    },
    "tags": []
   },
   "outputs": [],
   "source": [
    "full_ensemble = ensembles_list[0]\n",
    "for ens in ensembles_list[1:]:\n",
    "    full_ensemble = np.concatenate((full_ensemble, ens), axis=0)"
   ]
  },
  {
   "cell_type": "code",
   "execution_count": 19,
   "id": "d40548c3",
   "metadata": {
    "execution": {
     "iopub.execute_input": "2022-11-27T02:34:09.964638Z",
     "iopub.status.busy": "2022-11-27T02:34:09.964540Z",
     "iopub.status.idle": "2022-11-27T02:34:09.973464Z",
     "shell.execute_reply": "2022-11-27T02:34:09.973146Z"
    },
    "papermill": {
     "duration": 0.020938,
     "end_time": "2022-11-27T02:34:09.974629",
     "exception": false,
     "start_time": "2022-11-27T02:34:09.953691",
     "status": "completed"
    },
    "tags": []
   },
   "outputs": [
    {
     "data": {
      "text/plain": [
       "(3844, 3752)"
      ]
     },
     "metadata": {},
     "output_type": "display_data"
    }
   ],
   "source": [
    "display(full_ensemble.shape)\n",
    "assert full_ensemble.shape == (n_partitions, n_data_objects)"
   ]
  },
  {
   "cell_type": "markdown",
   "id": "07bf26f1",
   "metadata": {
    "papermill": {
     "duration": 0.007514,
     "end_time": "2022-11-27T02:34:09.989876",
     "exception": false,
     "start_time": "2022-11-27T02:34:09.982362",
     "status": "completed"
    },
    "tags": []
   },
   "source": [
    "## Save"
   ]
  },
  {
   "cell_type": "code",
   "execution_count": 20,
   "id": "74e79279",
   "metadata": {
    "execution": {
     "iopub.execute_input": "2022-11-27T02:34:10.007184Z",
     "iopub.status.busy": "2022-11-27T02:34:10.006780Z",
     "iopub.status.idle": "2022-11-27T02:34:10.021286Z",
     "shell.execute_reply": "2022-11-27T02:34:10.020854Z"
    },
    "papermill": {
     "duration": 0.024954,
     "end_time": "2022-11-27T02:34:10.022568",
     "exception": false,
     "start_time": "2022-11-27T02:34:09.997614",
     "status": "completed"
    },
    "tags": []
   },
   "outputs": [
    {
     "data": {
      "text/plain": [
       "PosixPath('/opt/data/results/clustering/null_sims/shuffle_genes/consensus_clustering/ensemble.npy')"
      ]
     },
     "metadata": {},
     "output_type": "display_data"
    }
   ],
   "source": [
    "output_file = Path(RESULTS_DIR, \"ensemble.npy\").resolve()\n",
    "display(output_file)"
   ]
  },
  {
   "cell_type": "code",
   "execution_count": 21,
   "id": "18c3c78c",
   "metadata": {
    "execution": {
     "iopub.execute_input": "2022-11-27T02:34:10.040065Z",
     "iopub.status.busy": "2022-11-27T02:34:10.039723Z",
     "iopub.status.idle": "2022-11-27T02:34:10.053670Z",
     "shell.execute_reply": "2022-11-27T02:34:10.053252Z"
    },
    "papermill": {
     "duration": 0.023556,
     "end_time": "2022-11-27T02:34:10.054920",
     "exception": false,
     "start_time": "2022-11-27T02:34:10.031364",
     "status": "completed"
    },
    "tags": []
   },
   "outputs": [
    {
     "data": {
      "text/plain": [
       "array([[ 1.,  1.,  1., ...,  1.,  0.,  1.],\n",
       "       [ 0.,  1.,  1., ...,  0.,  0.,  1.],\n",
       "       [ 0.,  0.,  0., ...,  1.,  0.,  0.],\n",
       "       ...,\n",
       "       [ 0.,  0.,  0., ...,  0.,  0.,  1.],\n",
       "       [64., 27., 27., ..., 27., 27., 62.],\n",
       "       [ 9.,  9.,  9., ...,  9.,  9., 28.]])"
      ]
     },
     "execution_count": 21,
     "metadata": {},
     "output_type": "execute_result"
    }
   ],
   "source": [
    "full_ensemble"
   ]
  },
  {
   "cell_type": "code",
   "execution_count": 22,
   "id": "daaa724d",
   "metadata": {
    "execution": {
     "iopub.execute_input": "2022-11-27T02:34:10.071480Z",
     "iopub.status.busy": "2022-11-27T02:34:10.071169Z",
     "iopub.status.idle": "2022-11-27T02:34:10.166019Z",
     "shell.execute_reply": "2022-11-27T02:34:10.165611Z"
    },
    "papermill": {
     "duration": 0.104421,
     "end_time": "2022-11-27T02:34:10.167298",
     "exception": false,
     "start_time": "2022-11-27T02:34:10.062877",
     "status": "completed"
    },
    "tags": []
   },
   "outputs": [],
   "source": [
    "np.save(output_file, full_ensemble)"
   ]
  },
  {
   "cell_type": "markdown",
   "id": "41cb00f2",
   "metadata": {
    "papermill": {
     "duration": 0.009675,
     "end_time": "2022-11-27T02:34:10.184903",
     "exception": false,
     "start_time": "2022-11-27T02:34:10.175228",
     "status": "completed"
    },
    "tags": []
   },
   "source": [
    "# Get coassociation matrix from ensemble"
   ]
  },
  {
   "cell_type": "markdown",
   "id": "f2807741",
   "metadata": {
    "papermill": {
     "duration": 0.007634,
     "end_time": "2022-11-27T02:34:10.200484",
     "exception": false,
     "start_time": "2022-11-27T02:34:10.192850",
     "status": "completed"
    },
    "tags": []
   },
   "source": [
    "The coassociation matrix is a distance matrix derived from the ensemble, where each cell represents the percentage of times a pair of objects (traits and diseases in this case) were not clustered together. It serves as an input for any consensus function (basically, another clustering algorithm) to derive a consensus partition."
   ]
  },
  {
   "cell_type": "code",
   "execution_count": 23,
   "id": "2ccb6b52",
   "metadata": {
    "execution": {
     "iopub.execute_input": "2022-11-27T02:34:10.218007Z",
     "iopub.status.busy": "2022-11-27T02:34:10.217532Z",
     "iopub.status.idle": "2022-11-27T02:34:10.382462Z",
     "shell.execute_reply": "2022-11-27T02:34:10.382073Z"
    },
    "papermill": {
     "duration": 0.174929,
     "end_time": "2022-11-27T02:34:10.383775",
     "exception": false,
     "start_time": "2022-11-27T02:34:10.208846",
     "status": "completed"
    },
    "tags": []
   },
   "outputs": [],
   "source": [
    "from clustering.ensembles.utils import get_ensemble_distance_matrix"
   ]
  },
  {
   "cell_type": "code",
   "execution_count": 24,
   "id": "f0765ad5",
   "metadata": {
    "execution": {
     "iopub.execute_input": "2022-11-27T02:34:10.402549Z",
     "iopub.status.busy": "2022-11-27T02:34:10.402458Z",
     "iopub.status.idle": "2022-11-27T02:57:07.262358Z",
     "shell.execute_reply": "2022-11-27T02:57:07.261797Z"
    },
    "papermill": {
     "duration": 1376.872377,
     "end_time": "2022-11-27T02:57:07.264162",
     "exception": false,
     "start_time": "2022-11-27T02:34:10.391785",
     "status": "completed"
    },
    "tags": []
   },
   "outputs": [],
   "source": [
    "ensemble_coassoc_matrix = get_ensemble_distance_matrix(\n",
    "    full_ensemble,\n",
    "    n_jobs=conf.GENERAL[\"N_JOBS\"],\n",
    ")"
   ]
  },
  {
   "cell_type": "code",
   "execution_count": 25,
   "id": "3fb74d3d",
   "metadata": {
    "execution": {
     "iopub.execute_input": "2022-11-27T02:57:07.283936Z",
     "iopub.status.busy": "2022-11-27T02:57:07.283686Z",
     "iopub.status.idle": "2022-11-27T02:57:07.301775Z",
     "shell.execute_reply": "2022-11-27T02:57:07.301321Z"
    },
    "papermill": {
     "duration": 0.029753,
     "end_time": "2022-11-27T02:57:07.303102",
     "exception": false,
     "start_time": "2022-11-27T02:57:07.273349",
     "status": "completed"
    },
    "tags": []
   },
   "outputs": [
    {
     "data": {
      "text/plain": [
       "(3752, 3752)"
      ]
     },
     "execution_count": 25,
     "metadata": {},
     "output_type": "execute_result"
    }
   ],
   "source": [
    "ensemble_coassoc_matrix.shape"
   ]
  },
  {
   "cell_type": "code",
   "execution_count": 26,
   "id": "754800fa",
   "metadata": {
    "execution": {
     "iopub.execute_input": "2022-11-27T02:57:07.320387Z",
     "iopub.status.busy": "2022-11-27T02:57:07.320090Z",
     "iopub.status.idle": "2022-11-27T02:57:07.337821Z",
     "shell.execute_reply": "2022-11-27T02:57:07.337379Z"
    },
    "papermill": {
     "duration": 0.027973,
     "end_time": "2022-11-27T02:57:07.339120",
     "exception": false,
     "start_time": "2022-11-27T02:57:07.311147",
     "status": "completed"
    },
    "tags": []
   },
   "outputs": [
    {
     "data": {
      "text/plain": [
       "array([[0.        , 0.43731932, 0.45571616, ..., 0.49618922, 0.50591327,\n",
       "        0.76722777],\n",
       "       [0.43731932, 0.        , 0.41721333, ..., 0.44581475, 0.48517449,\n",
       "        0.73476891],\n",
       "       [0.45571616, 0.41721333, 0.        , ..., 0.45683548, 0.44502755,\n",
       "        0.72689076],\n",
       "       ...,\n",
       "       [0.49618922, 0.44581475, 0.45683548, ..., 0.        , 0.38998164,\n",
       "        0.74816176],\n",
       "       [0.50591327, 0.48517449, 0.44502755, ..., 0.38998164, 0.        ,\n",
       "        0.75157563],\n",
       "       [0.76722777, 0.73476891, 0.72689076, ..., 0.74816176, 0.75157563,\n",
       "        0.        ]])"
      ]
     },
     "execution_count": 26,
     "metadata": {},
     "output_type": "execute_result"
    }
   ],
   "source": [
    "ensemble_coassoc_matrix"
   ]
  },
  {
   "cell_type": "markdown",
   "id": "01809abc",
   "metadata": {
    "papermill": {
     "duration": 0.008353,
     "end_time": "2022-11-27T02:57:07.355608",
     "exception": false,
     "start_time": "2022-11-27T02:57:07.347255",
     "status": "completed"
    },
    "tags": []
   },
   "source": [
    "## Save"
   ]
  },
  {
   "cell_type": "code",
   "execution_count": 27,
   "id": "66d5710f",
   "metadata": {
    "execution": {
     "iopub.execute_input": "2022-11-27T02:57:07.372813Z",
     "iopub.status.busy": "2022-11-27T02:57:07.372411Z",
     "iopub.status.idle": "2022-11-27T02:57:07.390048Z",
     "shell.execute_reply": "2022-11-27T02:57:07.389609Z"
    },
    "papermill": {
     "duration": 0.027624,
     "end_time": "2022-11-27T02:57:07.391356",
     "exception": false,
     "start_time": "2022-11-27T02:57:07.363732",
     "status": "completed"
    },
    "tags": []
   },
   "outputs": [
    {
     "data": {
      "text/plain": [
       "PosixPath('/opt/data/results/clustering/null_sims/shuffle_genes/consensus_clustering/ensemble_coassoc_matrix.npy')"
      ]
     },
     "metadata": {},
     "output_type": "display_data"
    }
   ],
   "source": [
    "output_file = Path(RESULTS_DIR, \"ensemble_coassoc_matrix.npy\").resolve()\n",
    "display(output_file)"
   ]
  },
  {
   "cell_type": "code",
   "execution_count": 28,
   "id": "d425aaf1",
   "metadata": {
    "execution": {
     "iopub.execute_input": "2022-11-27T02:57:07.408746Z",
     "iopub.status.busy": "2022-11-27T02:57:07.408462Z",
     "iopub.status.idle": "2022-11-27T02:57:07.521127Z",
     "shell.execute_reply": "2022-11-27T02:57:07.520715Z"
    },
    "papermill": {
     "duration": 0.122714,
     "end_time": "2022-11-27T02:57:07.522382",
     "exception": false,
     "start_time": "2022-11-27T02:57:07.399668",
     "status": "completed"
    },
    "tags": []
   },
   "outputs": [],
   "source": [
    "np.save(output_file, ensemble_coassoc_matrix)"
   ]
  },
  {
   "cell_type": "code",
   "execution_count": null,
   "id": "5cff8c44",
   "metadata": {
    "papermill": {
     "duration": 0.009556,
     "end_time": "2022-11-27T02:57:07.540425",
     "exception": false,
     "start_time": "2022-11-27T02:57:07.530869",
     "status": "completed"
    },
    "tags": []
   },
   "outputs": [],
   "source": []
  }
 ],
 "metadata": {
  "jupytext": {
   "cell_metadata_filter": "all,-execution,-papermill,-trusted",
   "formats": "ipynb,py//py:percent"
  },
  "kernelspec": {
   "display_name": "Python 3 (ipykernel)",
   "language": "python",
   "name": "python3"
  },
  "language_info": {
   "codemirror_mode": {
    "name": "ipython",
    "version": 3
   },
   "file_extension": ".py",
   "mimetype": "text/x-python",
   "name": "python",
   "nbconvert_exporter": "python",
   "pygments_lexer": "ipython3",
   "version": "3.8.13"
  },
  "papermill": {
   "default_parameters": {},
   "duration": 1379.766021,
   "end_time": "2022-11-27T02:57:07.764854",
   "environment_variables": {},
   "exception": null,
   "input_path": "nbs/13.1_cluster_analysis_null/00-shuffle_genes/20_00-generate_ensemble.ipynb",
   "output_path": "nbs/13.1_cluster_analysis_null/00-shuffle_genes/20_00-generate_ensemble.run.ipynb",
   "parameters": {},
   "start_time": "2022-11-27T02:34:07.998833",
   "version": "2.2.2"
  },
  "toc-autonumbering": true,
  "toc-showcode": false,
  "toc-showmarkdowntxt": false,
  "toc-showtags": false
 },
 "nbformat": 4,
 "nbformat_minor": 5
}
