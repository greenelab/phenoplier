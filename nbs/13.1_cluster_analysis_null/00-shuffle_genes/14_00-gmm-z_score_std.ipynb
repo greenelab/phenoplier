{
 "cells": [
  {
   "cell_type": "markdown",
   "id": "ddf3ec3c",
   "metadata": {
    "papermill": {
     "duration": 0.03577,
     "end_time": "2022-09-13T20:29:51.354959",
     "exception": false,
     "start_time": "2022-09-13T20:29:51.319189",
     "status": "completed"
    },
    "tags": []
   },
   "source": [
    "# Description"
   ]
  },
  {
   "cell_type": "markdown",
   "id": "dce28cad",
   "metadata": {
    "papermill": {
     "duration": 0.007962,
     "end_time": "2022-09-13T20:29:51.376750",
     "exception": false,
     "start_time": "2022-09-13T20:29:51.368788",
     "status": "completed"
    },
    "tags": []
   },
   "source": [
    "Runs gaussian mixture model on the z_score_std version of the data."
   ]
  },
  {
   "cell_type": "markdown",
   "id": "0504ed4d",
   "metadata": {
    "papermill": {
     "duration": 0.017041,
     "end_time": "2022-09-13T20:29:51.401619",
     "exception": false,
     "start_time": "2022-09-13T20:29:51.384578",
     "status": "completed"
    },
    "tags": []
   },
   "source": [
    "# Environment variables"
   ]
  },
  {
   "cell_type": "code",
   "execution_count": 1,
   "id": "bf14cc7a",
   "metadata": {
    "execution": {
     "iopub.execute_input": "2022-09-13T20:29:51.418712Z",
     "iopub.status.busy": "2022-09-13T20:29:51.418465Z",
     "iopub.status.idle": "2022-09-13T20:29:51.433382Z",
     "shell.execute_reply": "2022-09-13T20:29:51.432941Z"
    },
    "papermill": {
     "duration": 0.024959,
     "end_time": "2022-09-13T20:29:51.434723",
     "exception": false,
     "start_time": "2022-09-13T20:29:51.409764",
     "status": "completed"
    },
    "tags": []
   },
   "outputs": [
    {
     "data": {
      "text/plain": [
       "3"
      ]
     },
     "metadata": {},
     "output_type": "display_data"
    }
   ],
   "source": [
    "from IPython.display import display\n",
    "\n",
    "import conf\n",
    "\n",
    "N_JOBS = conf.GENERAL[\"N_JOBS\"]\n",
    "display(N_JOBS)"
   ]
  },
  {
   "cell_type": "code",
   "execution_count": 2,
   "id": "8aff8fbf",
   "metadata": {
    "execution": {
     "iopub.execute_input": "2022-09-13T20:29:51.451997Z",
     "iopub.status.busy": "2022-09-13T20:29:51.451845Z",
     "iopub.status.idle": "2022-09-13T20:29:51.457051Z",
     "shell.execute_reply": "2022-09-13T20:29:51.456593Z"
    },
    "papermill": {
     "duration": 0.015111,
     "end_time": "2022-09-13T20:29:51.458320",
     "exception": false,
     "start_time": "2022-09-13T20:29:51.443209",
     "status": "completed"
    },
    "tags": []
   },
   "outputs": [
    {
     "name": "stdout",
     "output_type": "stream",
     "text": [
      "env: MKL_NUM_THREADS=3\n",
      "env: OPEN_BLAS_NUM_THREADS=3\n",
      "env: NUMEXPR_NUM_THREADS=3\n",
      "env: OMP_NUM_THREADS=3\n"
     ]
    }
   ],
   "source": [
    "%env MKL_NUM_THREADS=$N_JOBS\n",
    "%env OPEN_BLAS_NUM_THREADS=$N_JOBS\n",
    "%env NUMEXPR_NUM_THREADS=$N_JOBS\n",
    "%env OMP_NUM_THREADS=$N_JOBS"
   ]
  },
  {
   "cell_type": "markdown",
   "id": "33f4c54c",
   "metadata": {
    "papermill": {
     "duration": 0.008246,
     "end_time": "2022-09-13T20:29:51.474912",
     "exception": false,
     "start_time": "2022-09-13T20:29:51.466666",
     "status": "completed"
    },
    "tags": []
   },
   "source": [
    "# Modules loading"
   ]
  },
  {
   "cell_type": "code",
   "execution_count": 3,
   "id": "01612083",
   "metadata": {
    "execution": {
     "iopub.execute_input": "2022-09-13T20:29:51.492292Z",
     "iopub.status.busy": "2022-09-13T20:29:51.491850Z",
     "iopub.status.idle": "2022-09-13T20:29:51.504911Z",
     "shell.execute_reply": "2022-09-13T20:29:51.504300Z"
    },
    "papermill": {
     "duration": 0.023079,
     "end_time": "2022-09-13T20:29:51.506218",
     "exception": false,
     "start_time": "2022-09-13T20:29:51.483139",
     "status": "completed"
    },
    "tags": []
   },
   "outputs": [],
   "source": [
    "%load_ext autoreload\n",
    "%autoreload 2"
   ]
  },
  {
   "cell_type": "code",
   "execution_count": 4,
   "id": "4f28f7d0",
   "metadata": {
    "execution": {
     "iopub.execute_input": "2022-09-13T20:29:51.523098Z",
     "iopub.status.busy": "2022-09-13T20:29:51.522897Z",
     "iopub.status.idle": "2022-09-13T20:29:52.193996Z",
     "shell.execute_reply": "2022-09-13T20:29:52.193402Z"
    },
    "papermill": {
     "duration": 0.681262,
     "end_time": "2022-09-13T20:29:52.195554",
     "exception": false,
     "start_time": "2022-09-13T20:29:51.514292",
     "status": "completed"
    },
    "tags": []
   },
   "outputs": [],
   "source": [
    "from pathlib import Path\n",
    "\n",
    "import numpy as np\n",
    "import pandas as pd\n",
    "import matplotlib.pyplot as plt\n",
    "import seaborn as sns\n",
    "\n",
    "from utils import generate_result_set_name"
   ]
  },
  {
   "cell_type": "markdown",
   "id": "77b279ca",
   "metadata": {
    "papermill": {
     "duration": 0.007811,
     "end_time": "2022-09-13T20:29:52.211120",
     "exception": false,
     "start_time": "2022-09-13T20:29:52.203309",
     "status": "completed"
    },
    "tags": []
   },
   "source": [
    "# Settings"
   ]
  },
  {
   "cell_type": "code",
   "execution_count": 5,
   "id": "e0d6f321",
   "metadata": {
    "execution": {
     "iopub.execute_input": "2022-09-13T20:29:52.227476Z",
     "iopub.status.busy": "2022-09-13T20:29:52.227236Z",
     "iopub.status.idle": "2022-09-13T20:29:52.244165Z",
     "shell.execute_reply": "2022-09-13T20:29:52.243606Z"
    },
    "papermill": {
     "duration": 0.026817,
     "end_time": "2022-09-13T20:29:52.245478",
     "exception": false,
     "start_time": "2022-09-13T20:29:52.218661",
     "status": "completed"
    },
    "tags": []
   },
   "outputs": [],
   "source": [
    "np.random.seed(0)"
   ]
  },
  {
   "cell_type": "code",
   "execution_count": 6,
   "id": "e0b29143",
   "metadata": {
    "execution": {
     "iopub.execute_input": "2022-09-13T20:29:52.297680Z",
     "iopub.status.busy": "2022-09-13T20:29:52.297173Z",
     "iopub.status.idle": "2022-09-13T20:29:52.315845Z",
     "shell.execute_reply": "2022-09-13T20:29:52.315254Z"
    },
    "papermill": {
     "duration": 0.057593,
     "end_time": "2022-09-13T20:29:52.317438",
     "exception": false,
     "start_time": "2022-09-13T20:29:52.259845",
     "status": "completed"
    },
    "tags": []
   },
   "outputs": [],
   "source": [
    "INITIAL_RANDOM_STATE = 60000"
   ]
  },
  {
   "cell_type": "code",
   "execution_count": null,
   "id": "654eecf2-2078-46c6-838b-2762b82f9fbc",
   "metadata": {},
   "outputs": [],
   "source": [
    "NULL_DIR = conf.RESULTS[\"CLUSTERING_NULL_DIR\"] / \"shuffle_genes\""
   ]
  },
  {
   "cell_type": "markdown",
   "id": "c43db9e4",
   "metadata": {
    "papermill": {
     "duration": 0.009394,
     "end_time": "2022-09-13T20:29:52.336770",
     "exception": false,
     "start_time": "2022-09-13T20:29:52.327376",
     "status": "completed"
    },
    "tags": []
   },
   "source": [
    "## Input data"
   ]
  },
  {
   "cell_type": "code",
   "execution_count": 7,
   "id": "97121761",
   "metadata": {
    "execution": {
     "iopub.execute_input": "2022-09-13T20:29:52.354625Z",
     "iopub.status.busy": "2022-09-13T20:29:52.354465Z",
     "iopub.status.idle": "2022-09-13T20:29:52.372663Z",
     "shell.execute_reply": "2022-09-13T20:29:52.372031Z"
    },
    "papermill": {
     "duration": 0.028497,
     "end_time": "2022-09-13T20:29:52.374124",
     "exception": false,
     "start_time": "2022-09-13T20:29:52.345627",
     "status": "completed"
    },
    "tags": []
   },
   "outputs": [],
   "source": [
    "INPUT_SUBSET = \"z_score_std\""
   ]
  },
  {
   "cell_type": "code",
   "execution_count": 8,
   "id": "68e6dd38",
   "metadata": {
    "execution": {
     "iopub.execute_input": "2022-09-13T20:29:52.392536Z",
     "iopub.status.busy": "2022-09-13T20:29:52.392365Z",
     "iopub.status.idle": "2022-09-13T20:29:52.408845Z",
     "shell.execute_reply": "2022-09-13T20:29:52.408341Z"
    },
    "papermill": {
     "duration": 0.027125,
     "end_time": "2022-09-13T20:29:52.410240",
     "exception": false,
     "start_time": "2022-09-13T20:29:52.383115",
     "status": "completed"
    },
    "tags": []
   },
   "outputs": [],
   "source": [
    "INPUT_STEM = \"projection-smultixcan-efo_partial-mashr-zscores\""
   ]
  },
  {
   "cell_type": "code",
   "execution_count": 9,
   "id": "dd6320a6",
   "metadata": {
    "execution": {
     "iopub.execute_input": "2022-09-13T20:29:52.427789Z",
     "iopub.status.busy": "2022-09-13T20:29:52.427618Z",
     "iopub.status.idle": "2022-09-13T20:29:52.445901Z",
     "shell.execute_reply": "2022-09-13T20:29:52.445435Z"
    },
    "papermill": {
     "duration": 0.02845,
     "end_time": "2022-09-13T20:29:52.447177",
     "exception": false,
     "start_time": "2022-09-13T20:29:52.418727",
     "status": "completed"
    },
    "tags": []
   },
   "outputs": [
    {
     "data": {
      "text/plain": [
       "PosixPath('/opt/data/results/clustering/null_sims/data_transformations/z_score_std/z_score_std-projection-smultixcan-efo_partial-mashr-zscores.pkl')"
      ]
     },
     "metadata": {},
     "output_type": "display_data"
    },
    {
     "data": {
      "text/plain": [
       "'z_score_std-projection-smultixcan-efo_partial-mashr-zscores'"
      ]
     },
     "metadata": {},
     "output_type": "display_data"
    }
   ],
   "source": [
    "input_filepath = Path(\n",
    "    NULL_DIR,\n",
    "    \"data_transformations\",\n",
    "    INPUT_SUBSET,\n",
    "    f\"{INPUT_SUBSET}-{INPUT_STEM}.pkl\",\n",
    ").resolve()\n",
    "display(input_filepath)\n",
    "\n",
    "assert input_filepath.exists(), \"Input file does not exist\"\n",
    "\n",
    "input_filepath_stem = input_filepath.stem\n",
    "display(input_filepath_stem)"
   ]
  },
  {
   "cell_type": "markdown",
   "id": "f7e9946e",
   "metadata": {
    "papermill": {
     "duration": 0.008294,
     "end_time": "2022-09-13T20:29:52.464188",
     "exception": false,
     "start_time": "2022-09-13T20:29:52.455894",
     "status": "completed"
    },
    "tags": []
   },
   "source": [
    "## Clustering"
   ]
  },
  {
   "cell_type": "code",
   "execution_count": 10,
   "id": "83aaf504",
   "metadata": {
    "execution": {
     "iopub.execute_input": "2022-09-13T20:29:52.481196Z",
     "iopub.status.busy": "2022-09-13T20:29:52.480988Z",
     "iopub.status.idle": "2022-09-13T20:29:52.611278Z",
     "shell.execute_reply": "2022-09-13T20:29:52.610707Z"
    },
    "papermill": {
     "duration": 0.140455,
     "end_time": "2022-09-13T20:29:52.612684",
     "exception": false,
     "start_time": "2022-09-13T20:29:52.472229",
     "status": "completed"
    },
    "tags": []
   },
   "outputs": [],
   "source": [
    "from sklearn.mixture import GaussianMixture"
   ]
  },
  {
   "cell_type": "code",
   "execution_count": 11,
   "id": "d0154046",
   "metadata": {
    "execution": {
     "iopub.execute_input": "2022-09-13T20:29:52.630409Z",
     "iopub.status.busy": "2022-09-13T20:29:52.630249Z",
     "iopub.status.idle": "2022-09-13T20:29:52.647516Z",
     "shell.execute_reply": "2022-09-13T20:29:52.647001Z"
    },
    "papermill": {
     "duration": 0.027787,
     "end_time": "2022-09-13T20:29:52.648936",
     "exception": false,
     "start_time": "2022-09-13T20:29:52.621149",
     "status": "completed"
    },
    "tags": []
   },
   "outputs": [],
   "source": [
    "CLUSTERING_ATTRIBUTES_TO_SAVE = [\"n_clusters\"]"
   ]
  },
  {
   "cell_type": "code",
   "execution_count": 12,
   "id": "79c52fa6",
   "metadata": {
    "execution": {
     "iopub.execute_input": "2022-09-13T20:29:52.666831Z",
     "iopub.status.busy": "2022-09-13T20:29:52.666668Z",
     "iopub.status.idle": "2022-09-13T20:29:52.686027Z",
     "shell.execute_reply": "2022-09-13T20:29:52.685569Z"
    },
    "papermill": {
     "duration": 0.029791,
     "end_time": "2022-09-13T20:29:52.687358",
     "exception": false,
     "start_time": "2022-09-13T20:29:52.657567",
     "status": "completed"
    },
    "tags": []
   },
   "outputs": [
    {
     "data": {
      "text/plain": [
       "{'K_MIN': 2,\n",
       " 'K_MAX': 60,\n",
       " 'N_REPS_PER_K': 5,\n",
       " 'N_INIT': 10,\n",
       " 'COVARIANCE_TYPE': 'full'}"
      ]
     },
     "metadata": {},
     "output_type": "display_data"
    }
   ],
   "source": [
    "CLUSTERING_OPTIONS = {}\n",
    "\n",
    "CLUSTERING_OPTIONS[\"K_MIN\"] = 2\n",
    "CLUSTERING_OPTIONS[\"K_MAX\"] = 60  # sqrt(3749)\n",
    "CLUSTERING_OPTIONS[\"N_REPS_PER_K\"] = 5\n",
    "CLUSTERING_OPTIONS[\"N_INIT\"] = 10\n",
    "CLUSTERING_OPTIONS[\"COVARIANCE_TYPE\"] = \"full\"\n",
    "\n",
    "display(CLUSTERING_OPTIONS)"
   ]
  },
  {
   "cell_type": "code",
   "execution_count": 13,
   "id": "3fa83082",
   "metadata": {
    "execution": {
     "iopub.execute_input": "2022-09-13T20:29:52.705198Z",
     "iopub.status.busy": "2022-09-13T20:29:52.705030Z",
     "iopub.status.idle": "2022-09-13T20:29:52.725202Z",
     "shell.execute_reply": "2022-09-13T20:29:52.724655Z"
    },
    "papermill": {
     "duration": 0.030613,
     "end_time": "2022-09-13T20:29:52.726591",
     "exception": false,
     "start_time": "2022-09-13T20:29:52.695978",
     "status": "completed"
    },
    "tags": []
   },
   "outputs": [],
   "source": [
    "CLUSTERERS = {}\n",
    "\n",
    "idx = 0\n",
    "random_state = INITIAL_RANDOM_STATE\n",
    "\n",
    "for k in range(CLUSTERING_OPTIONS[\"K_MIN\"], CLUSTERING_OPTIONS[\"K_MAX\"] + 1):\n",
    "    for i in range(CLUSTERING_OPTIONS[\"N_REPS_PER_K\"]):\n",
    "        clus = GaussianMixture(\n",
    "            n_components=k,\n",
    "            n_init=CLUSTERING_OPTIONS[\"N_INIT\"],\n",
    "            covariance_type=CLUSTERING_OPTIONS[\"COVARIANCE_TYPE\"],\n",
    "            random_state=random_state,\n",
    "        )\n",
    "\n",
    "        method_name = type(clus).__name__\n",
    "        CLUSTERERS[f\"{method_name} #{idx}\"] = clus\n",
    "\n",
    "        random_state = random_state + 1\n",
    "        idx = idx + 1"
   ]
  },
  {
   "cell_type": "code",
   "execution_count": 14,
   "id": "864864fb",
   "metadata": {
    "execution": {
     "iopub.execute_input": "2022-09-13T20:29:52.744068Z",
     "iopub.status.busy": "2022-09-13T20:29:52.743909Z",
     "iopub.status.idle": "2022-09-13T20:29:52.762180Z",
     "shell.execute_reply": "2022-09-13T20:29:52.761716Z"
    },
    "papermill": {
     "duration": 0.028567,
     "end_time": "2022-09-13T20:29:52.763500",
     "exception": false,
     "start_time": "2022-09-13T20:29:52.734933",
     "status": "completed"
    },
    "tags": []
   },
   "outputs": [
    {
     "data": {
      "text/plain": [
       "295"
      ]
     },
     "metadata": {},
     "output_type": "display_data"
    }
   ],
   "source": [
    "display(len(CLUSTERERS))"
   ]
  },
  {
   "cell_type": "code",
   "execution_count": 15,
   "id": "1fa9c278",
   "metadata": {
    "execution": {
     "iopub.execute_input": "2022-09-13T20:29:52.781659Z",
     "iopub.status.busy": "2022-09-13T20:29:52.781494Z",
     "iopub.status.idle": "2022-09-13T20:29:52.801719Z",
     "shell.execute_reply": "2022-09-13T20:29:52.801325Z"
    },
    "papermill": {
     "duration": 0.030749,
     "end_time": "2022-09-13T20:29:52.802956",
     "exception": false,
     "start_time": "2022-09-13T20:29:52.772207",
     "status": "completed"
    },
    "tags": []
   },
   "outputs": [
    {
     "data": {
      "text/plain": [
       "('GaussianMixture #0',\n",
       " GaussianMixture(n_components=2, n_init=10, random_state=60000))"
      ]
     },
     "metadata": {},
     "output_type": "display_data"
    },
    {
     "data": {
      "text/plain": [
       "('GaussianMixture #1',\n",
       " GaussianMixture(n_components=2, n_init=10, random_state=60001))"
      ]
     },
     "metadata": {},
     "output_type": "display_data"
    }
   ],
   "source": [
    "_iter = iter(CLUSTERERS.items())\n",
    "display(next(_iter))\n",
    "display(next(_iter))"
   ]
  },
  {
   "cell_type": "code",
   "execution_count": 16,
   "id": "67376c18",
   "metadata": {
    "execution": {
     "iopub.execute_input": "2022-09-13T20:29:52.821376Z",
     "iopub.status.busy": "2022-09-13T20:29:52.821215Z",
     "iopub.status.idle": "2022-09-13T20:29:52.840079Z",
     "shell.execute_reply": "2022-09-13T20:29:52.839521Z"
    },
    "papermill": {
     "duration": 0.029481,
     "end_time": "2022-09-13T20:29:52.841391",
     "exception": false,
     "start_time": "2022-09-13T20:29:52.811910",
     "status": "completed"
    },
    "tags": []
   },
   "outputs": [
    {
     "data": {
      "text/plain": [
       "'GaussianMixture'"
      ]
     },
     "metadata": {},
     "output_type": "display_data"
    }
   ],
   "source": [
    "clustering_method_name = method_name\n",
    "display(clustering_method_name)"
   ]
  },
  {
   "cell_type": "markdown",
   "id": "58dca7c9",
   "metadata": {
    "papermill": {
     "duration": 0.008717,
     "end_time": "2022-09-13T20:29:52.859098",
     "exception": false,
     "start_time": "2022-09-13T20:29:52.850381",
     "status": "completed"
    },
    "tags": []
   },
   "source": [
    "## Output directory"
   ]
  },
  {
   "cell_type": "code",
   "execution_count": 17,
   "id": "4295d14a",
   "metadata": {
    "execution": {
     "iopub.execute_input": "2022-09-13T20:29:52.877813Z",
     "iopub.status.busy": "2022-09-13T20:29:52.877607Z",
     "iopub.status.idle": "2022-09-13T20:29:52.896422Z",
     "shell.execute_reply": "2022-09-13T20:29:52.895832Z"
    },
    "papermill": {
     "duration": 0.029104,
     "end_time": "2022-09-13T20:29:52.897694",
     "exception": false,
     "start_time": "2022-09-13T20:29:52.868590",
     "status": "completed"
    },
    "tags": []
   },
   "outputs": [
    {
     "data": {
      "text/plain": [
       "PosixPath('/opt/data/results/clustering/null_sims/runs/z_score_std-projection-smultixcan-efo_partial-mashr-zscores')"
      ]
     },
     "metadata": {},
     "output_type": "display_data"
    }
   ],
   "source": [
    "# output dir for this notebook\n",
    "RESULTS_DIR = Path(\n",
    "    NULL_DIR,\n",
    "    \"runs\",\n",
    "    f\"{INPUT_SUBSET}-{INPUT_STEM}\",\n",
    ").resolve()\n",
    "RESULTS_DIR.mkdir(parents=True, exist_ok=True)\n",
    "\n",
    "display(RESULTS_DIR)"
   ]
  },
  {
   "cell_type": "markdown",
   "id": "b842ec3c",
   "metadata": {
    "papermill": {
     "duration": 0.008378,
     "end_time": "2022-09-13T20:29:52.914792",
     "exception": false,
     "start_time": "2022-09-13T20:29:52.906414",
     "status": "completed"
    },
    "tags": []
   },
   "source": [
    "# Load input file"
   ]
  },
  {
   "cell_type": "code",
   "execution_count": 18,
   "id": "1a603523",
   "metadata": {
    "execution": {
     "iopub.execute_input": "2022-09-13T20:29:52.932009Z",
     "iopub.status.busy": "2022-09-13T20:29:52.931804Z",
     "iopub.status.idle": "2022-09-13T20:29:52.985304Z",
     "shell.execute_reply": "2022-09-13T20:29:52.984732Z"
    },
    "papermill": {
     "duration": 0.06371,
     "end_time": "2022-09-13T20:29:52.986731",
     "exception": false,
     "start_time": "2022-09-13T20:29:52.923021",
     "status": "completed"
    },
    "tags": []
   },
   "outputs": [],
   "source": [
    "data = pd.read_pickle(input_filepath)"
   ]
  },
  {
   "cell_type": "code",
   "execution_count": 19,
   "id": "e1351fc7",
   "metadata": {
    "execution": {
     "iopub.execute_input": "2022-09-13T20:29:53.006335Z",
     "iopub.status.busy": "2022-09-13T20:29:53.006163Z",
     "iopub.status.idle": "2022-09-13T20:29:53.025288Z",
     "shell.execute_reply": "2022-09-13T20:29:53.024705Z"
    },
    "papermill": {
     "duration": 0.029867,
     "end_time": "2022-09-13T20:29:53.026578",
     "exception": false,
     "start_time": "2022-09-13T20:29:52.996711",
     "status": "completed"
    },
    "tags": []
   },
   "outputs": [
    {
     "data": {
      "text/plain": [
       "(3752, 987)"
      ]
     },
     "execution_count": 19,
     "metadata": {},
     "output_type": "execute_result"
    }
   ],
   "source": [
    "data.shape"
   ]
  },
  {
   "cell_type": "code",
   "execution_count": 20,
   "id": "326db1d5",
   "metadata": {
    "execution": {
     "iopub.execute_input": "2022-09-13T20:29:53.046600Z",
     "iopub.status.busy": "2022-09-13T20:29:53.046425Z",
     "iopub.status.idle": "2022-09-13T20:29:53.079820Z",
     "shell.execute_reply": "2022-09-13T20:29:53.079232Z"
    },
    "papermill": {
     "duration": 0.044886,
     "end_time": "2022-09-13T20:29:53.081066",
     "exception": false,
     "start_time": "2022-09-13T20:29:53.036180",
     "status": "completed"
    },
    "tags": []
   },
   "outputs": [
    {
     "data": {
      "text/html": [
       "<div>\n",
       "<style scoped>\n",
       "    .dataframe tbody tr th:only-of-type {\n",
       "        vertical-align: middle;\n",
       "    }\n",
       "\n",
       "    .dataframe tbody tr th {\n",
       "        vertical-align: top;\n",
       "    }\n",
       "\n",
       "    .dataframe thead th {\n",
       "        text-align: right;\n",
       "    }\n",
       "</style>\n",
       "<table border=\"1\" class=\"dataframe\">\n",
       "  <thead>\n",
       "    <tr style=\"text-align: right;\">\n",
       "      <th></th>\n",
       "      <th>LV1</th>\n",
       "      <th>LV2</th>\n",
       "      <th>LV3</th>\n",
       "      <th>LV4</th>\n",
       "      <th>LV5</th>\n",
       "      <th>LV6</th>\n",
       "      <th>LV7</th>\n",
       "      <th>LV8</th>\n",
       "      <th>LV9</th>\n",
       "      <th>LV10</th>\n",
       "      <th>...</th>\n",
       "      <th>LV978</th>\n",
       "      <th>LV979</th>\n",
       "      <th>LV980</th>\n",
       "      <th>LV981</th>\n",
       "      <th>LV982</th>\n",
       "      <th>LV983</th>\n",
       "      <th>LV984</th>\n",
       "      <th>LV985</th>\n",
       "      <th>LV986</th>\n",
       "      <th>LV987</th>\n",
       "    </tr>\n",
       "  </thead>\n",
       "  <tbody>\n",
       "    <tr>\n",
       "      <th>100001_raw-Food_weight</th>\n",
       "      <td>-0.175043</td>\n",
       "      <td>-0.710171</td>\n",
       "      <td>-1.000846</td>\n",
       "      <td>0.693026</td>\n",
       "      <td>0.409413</td>\n",
       "      <td>0.642958</td>\n",
       "      <td>1.767862</td>\n",
       "      <td>-1.070425</td>\n",
       "      <td>0.809395</td>\n",
       "      <td>-1.555050</td>\n",
       "      <td>...</td>\n",
       "      <td>-0.932802</td>\n",
       "      <td>0.371349</td>\n",
       "      <td>-0.521787</td>\n",
       "      <td>-0.881136</td>\n",
       "      <td>-1.193309</td>\n",
       "      <td>-0.257883</td>\n",
       "      <td>1.382268</td>\n",
       "      <td>0.066549</td>\n",
       "      <td>-0.866086</td>\n",
       "      <td>0.847997</td>\n",
       "    </tr>\n",
       "    <tr>\n",
       "      <th>100002_raw-Energy</th>\n",
       "      <td>0.531227</td>\n",
       "      <td>0.894062</td>\n",
       "      <td>1.191552</td>\n",
       "      <td>-0.143922</td>\n",
       "      <td>0.217867</td>\n",
       "      <td>0.529878</td>\n",
       "      <td>0.219561</td>\n",
       "      <td>-1.538143</td>\n",
       "      <td>-0.166704</td>\n",
       "      <td>1.042749</td>\n",
       "      <td>...</td>\n",
       "      <td>-0.601329</td>\n",
       "      <td>0.625139</td>\n",
       "      <td>-0.113048</td>\n",
       "      <td>-1.477163</td>\n",
       "      <td>0.746773</td>\n",
       "      <td>0.316892</td>\n",
       "      <td>-0.660407</td>\n",
       "      <td>1.501067</td>\n",
       "      <td>0.543744</td>\n",
       "      <td>1.094294</td>\n",
       "    </tr>\n",
       "    <tr>\n",
       "      <th>100003_raw-Protein</th>\n",
       "      <td>0.405395</td>\n",
       "      <td>0.925288</td>\n",
       "      <td>-0.339507</td>\n",
       "      <td>0.799476</td>\n",
       "      <td>-0.512075</td>\n",
       "      <td>0.586632</td>\n",
       "      <td>0.361706</td>\n",
       "      <td>0.226860</td>\n",
       "      <td>1.208289</td>\n",
       "      <td>-1.880931</td>\n",
       "      <td>...</td>\n",
       "      <td>-0.489171</td>\n",
       "      <td>0.276717</td>\n",
       "      <td>-0.159505</td>\n",
       "      <td>-1.271106</td>\n",
       "      <td>0.300351</td>\n",
       "      <td>0.595915</td>\n",
       "      <td>0.509020</td>\n",
       "      <td>-0.127540</td>\n",
       "      <td>-0.811987</td>\n",
       "      <td>-1.108812</td>\n",
       "    </tr>\n",
       "    <tr>\n",
       "      <th>100004_raw-Fat</th>\n",
       "      <td>-0.156230</td>\n",
       "      <td>0.881426</td>\n",
       "      <td>0.395527</td>\n",
       "      <td>-1.570256</td>\n",
       "      <td>1.240955</td>\n",
       "      <td>2.064595</td>\n",
       "      <td>-0.547373</td>\n",
       "      <td>-1.228389</td>\n",
       "      <td>0.319684</td>\n",
       "      <td>0.858253</td>\n",
       "      <td>...</td>\n",
       "      <td>-0.407151</td>\n",
       "      <td>-1.217662</td>\n",
       "      <td>-0.361052</td>\n",
       "      <td>0.813221</td>\n",
       "      <td>-0.692981</td>\n",
       "      <td>1.099523</td>\n",
       "      <td>-0.017366</td>\n",
       "      <td>0.361278</td>\n",
       "      <td>-0.017222</td>\n",
       "      <td>1.750511</td>\n",
       "    </tr>\n",
       "    <tr>\n",
       "      <th>100005_raw-Carbohydrate</th>\n",
       "      <td>-0.142531</td>\n",
       "      <td>-0.521907</td>\n",
       "      <td>1.069304</td>\n",
       "      <td>0.548122</td>\n",
       "      <td>-0.422146</td>\n",
       "      <td>-1.330718</td>\n",
       "      <td>-1.260872</td>\n",
       "      <td>1.003617</td>\n",
       "      <td>1.266289</td>\n",
       "      <td>0.065408</td>\n",
       "      <td>...</td>\n",
       "      <td>1.506698</td>\n",
       "      <td>-0.069854</td>\n",
       "      <td>-0.084662</td>\n",
       "      <td>-1.269536</td>\n",
       "      <td>-0.421185</td>\n",
       "      <td>0.431180</td>\n",
       "      <td>1.673162</td>\n",
       "      <td>-0.954336</td>\n",
       "      <td>0.026593</td>\n",
       "      <td>0.655359</td>\n",
       "    </tr>\n",
       "  </tbody>\n",
       "</table>\n",
       "<p>5 rows × 987 columns</p>\n",
       "</div>"
      ],
      "text/plain": [
       "                              LV1       LV2       LV3       LV4       LV5  \\\n",
       "100001_raw-Food_weight  -0.175043 -0.710171 -1.000846  0.693026  0.409413   \n",
       "100002_raw-Energy        0.531227  0.894062  1.191552 -0.143922  0.217867   \n",
       "100003_raw-Protein       0.405395  0.925288 -0.339507  0.799476 -0.512075   \n",
       "100004_raw-Fat          -0.156230  0.881426  0.395527 -1.570256  1.240955   \n",
       "100005_raw-Carbohydrate -0.142531 -0.521907  1.069304  0.548122 -0.422146   \n",
       "\n",
       "                              LV6       LV7       LV8       LV9      LV10  \\\n",
       "100001_raw-Food_weight   0.642958  1.767862 -1.070425  0.809395 -1.555050   \n",
       "100002_raw-Energy        0.529878  0.219561 -1.538143 -0.166704  1.042749   \n",
       "100003_raw-Protein       0.586632  0.361706  0.226860  1.208289 -1.880931   \n",
       "100004_raw-Fat           2.064595 -0.547373 -1.228389  0.319684  0.858253   \n",
       "100005_raw-Carbohydrate -1.330718 -1.260872  1.003617  1.266289  0.065408   \n",
       "\n",
       "                         ...     LV978     LV979     LV980     LV981  \\\n",
       "100001_raw-Food_weight   ... -0.932802  0.371349 -0.521787 -0.881136   \n",
       "100002_raw-Energy        ... -0.601329  0.625139 -0.113048 -1.477163   \n",
       "100003_raw-Protein       ... -0.489171  0.276717 -0.159505 -1.271106   \n",
       "100004_raw-Fat           ... -0.407151 -1.217662 -0.361052  0.813221   \n",
       "100005_raw-Carbohydrate  ...  1.506698 -0.069854 -0.084662 -1.269536   \n",
       "\n",
       "                            LV982     LV983     LV984     LV985     LV986  \\\n",
       "100001_raw-Food_weight  -1.193309 -0.257883  1.382268  0.066549 -0.866086   \n",
       "100002_raw-Energy        0.746773  0.316892 -0.660407  1.501067  0.543744   \n",
       "100003_raw-Protein       0.300351  0.595915  0.509020 -0.127540 -0.811987   \n",
       "100004_raw-Fat          -0.692981  1.099523 -0.017366  0.361278 -0.017222   \n",
       "100005_raw-Carbohydrate -0.421185  0.431180  1.673162 -0.954336  0.026593   \n",
       "\n",
       "                            LV987  \n",
       "100001_raw-Food_weight   0.847997  \n",
       "100002_raw-Energy        1.094294  \n",
       "100003_raw-Protein      -1.108812  \n",
       "100004_raw-Fat           1.750511  \n",
       "100005_raw-Carbohydrate  0.655359  \n",
       "\n",
       "[5 rows x 987 columns]"
      ]
     },
     "execution_count": 20,
     "metadata": {},
     "output_type": "execute_result"
    }
   ],
   "source": [
    "data.head()"
   ]
  },
  {
   "cell_type": "code",
   "execution_count": 21,
   "id": "b38dd9d1",
   "metadata": {
    "execution": {
     "iopub.execute_input": "2022-09-13T20:29:53.099430Z",
     "iopub.status.busy": "2022-09-13T20:29:53.099233Z",
     "iopub.status.idle": "2022-09-13T20:29:53.123477Z",
     "shell.execute_reply": "2022-09-13T20:29:53.122872Z"
    },
    "papermill": {
     "duration": 0.034962,
     "end_time": "2022-09-13T20:29:53.124961",
     "exception": false,
     "start_time": "2022-09-13T20:29:53.089999",
     "status": "completed"
    },
    "tags": []
   },
   "outputs": [],
   "source": [
    "assert not data.isna().any().any()"
   ]
  },
  {
   "cell_type": "markdown",
   "id": "3bfb7eef",
   "metadata": {
    "papermill": {
     "duration": 0.009009,
     "end_time": "2022-09-13T20:29:53.143344",
     "exception": false,
     "start_time": "2022-09-13T20:29:53.134335",
     "status": "completed"
    },
    "tags": []
   },
   "source": [
    "# Clustering"
   ]
  },
  {
   "cell_type": "markdown",
   "id": "8a11fe22",
   "metadata": {
    "papermill": {
     "duration": 0.008471,
     "end_time": "2022-09-13T20:29:53.160949",
     "exception": false,
     "start_time": "2022-09-13T20:29:53.152478",
     "status": "completed"
    },
    "tags": []
   },
   "source": [
    "## Generate ensemble"
   ]
  },
  {
   "cell_type": "code",
   "execution_count": 22,
   "id": "77768dbf",
   "metadata": {
    "execution": {
     "iopub.execute_input": "2022-09-13T20:29:53.178609Z",
     "iopub.status.busy": "2022-09-13T20:29:53.178398Z",
     "iopub.status.idle": "2022-09-13T20:29:53.205617Z",
     "shell.execute_reply": "2022-09-13T20:29:53.205099Z"
    },
    "papermill": {
     "duration": 0.037835,
     "end_time": "2022-09-13T20:29:53.207012",
     "exception": false,
     "start_time": "2022-09-13T20:29:53.169177",
     "status": "completed"
    },
    "tags": []
   },
   "outputs": [],
   "source": [
    "from clustering.ensembles.utils import generate_ensemble"
   ]
  },
  {
   "cell_type": "code",
   "execution_count": 23,
   "id": "f62d3c53",
   "metadata": {
    "execution": {
     "iopub.execute_input": "2022-09-13T20:29:53.226311Z",
     "iopub.status.busy": "2022-09-13T20:29:53.226144Z",
     "iopub.status.idle": "2022-09-14T08:15:49.641428Z",
     "shell.execute_reply": "2022-09-14T08:15:49.640866Z"
    },
    "papermill": {
     "duration": 42356.426368,
     "end_time": "2022-09-14T08:15:49.642663",
     "exception": false,
     "start_time": "2022-09-13T20:29:53.216295",
     "status": "completed"
    },
    "tags": []
   },
   "outputs": [
    {
     "name": "stderr",
     "output_type": "stream",
     "text": [
      "100%|██████████| 295/295 [11:45:56<00:00, 143.58s/it]\n"
     ]
    }
   ],
   "source": [
    "ensemble = generate_ensemble(\n",
    "    data,\n",
    "    CLUSTERERS,\n",
    "    attributes=CLUSTERING_ATTRIBUTES_TO_SAVE,\n",
    ")"
   ]
  },
  {
   "cell_type": "code",
   "execution_count": 24,
   "id": "e555bea6",
   "metadata": {
    "execution": {
     "iopub.execute_input": "2022-09-14T08:15:49.681513Z",
     "iopub.status.busy": "2022-09-14T08:15:49.681013Z",
     "iopub.status.idle": "2022-09-14T08:15:49.699372Z",
     "shell.execute_reply": "2022-09-14T08:15:49.698868Z"
    },
    "papermill": {
     "duration": 0.039143,
     "end_time": "2022-09-14T08:15:49.700687",
     "exception": false,
     "start_time": "2022-09-14T08:15:49.661544",
     "status": "completed"
    },
    "tags": []
   },
   "outputs": [
    {
     "data": {
      "text/plain": [
       "(295, 3)"
      ]
     },
     "execution_count": 24,
     "metadata": {},
     "output_type": "execute_result"
    }
   ],
   "source": [
    "# the number should be close to 295 (the number of partitions generated by k-means/spectral clustering)\n",
    "ensemble.shape"
   ]
  },
  {
   "cell_type": "code",
   "execution_count": 25,
   "id": "a0fd5d64",
   "metadata": {
    "execution": {
     "iopub.execute_input": "2022-09-14T08:15:49.742872Z",
     "iopub.status.busy": "2022-09-14T08:15:49.742085Z",
     "iopub.status.idle": "2022-09-14T08:15:49.768154Z",
     "shell.execute_reply": "2022-09-14T08:15:49.767590Z"
    },
    "papermill": {
     "duration": 0.047313,
     "end_time": "2022-09-14T08:15:49.769364",
     "exception": false,
     "start_time": "2022-09-14T08:15:49.722051",
     "status": "completed"
    },
    "tags": []
   },
   "outputs": [
    {
     "data": {
      "text/html": [
       "<div>\n",
       "<style scoped>\n",
       "    .dataframe tbody tr th:only-of-type {\n",
       "        vertical-align: middle;\n",
       "    }\n",
       "\n",
       "    .dataframe tbody tr th {\n",
       "        vertical-align: top;\n",
       "    }\n",
       "\n",
       "    .dataframe thead th {\n",
       "        text-align: right;\n",
       "    }\n",
       "</style>\n",
       "<table border=\"1\" class=\"dataframe\">\n",
       "  <thead>\n",
       "    <tr style=\"text-align: right;\">\n",
       "      <th></th>\n",
       "      <th>clusterer_params</th>\n",
       "      <th>partition</th>\n",
       "      <th>n_clusters</th>\n",
       "    </tr>\n",
       "    <tr>\n",
       "      <th>clusterer_id</th>\n",
       "      <th></th>\n",
       "      <th></th>\n",
       "      <th></th>\n",
       "    </tr>\n",
       "  </thead>\n",
       "  <tbody>\n",
       "    <tr>\n",
       "      <th>GaussianMixture #0</th>\n",
       "      <td>{'covariance_type': 'full', 'init_params': 'km...</td>\n",
       "      <td>[1.0, 1.0, 1.0, 0.0, 0.0, 1.0, 1.0, 1.0, 1.0, ...</td>\n",
       "      <td>2</td>\n",
       "    </tr>\n",
       "    <tr>\n",
       "      <th>GaussianMixture #1</th>\n",
       "      <td>{'covariance_type': 'full', 'init_params': 'km...</td>\n",
       "      <td>[0.0, 1.0, 1.0, 1.0, 1.0, 1.0, 1.0, 1.0, 0.0, ...</td>\n",
       "      <td>2</td>\n",
       "    </tr>\n",
       "    <tr>\n",
       "      <th>GaussianMixture #2</th>\n",
       "      <td>{'covariance_type': 'full', 'init_params': 'km...</td>\n",
       "      <td>[0.0, 0.0, 0.0, 0.0, 0.0, 0.0, 0.0, 0.0, 1.0, ...</td>\n",
       "      <td>2</td>\n",
       "    </tr>\n",
       "    <tr>\n",
       "      <th>GaussianMixture #3</th>\n",
       "      <td>{'covariance_type': 'full', 'init_params': 'km...</td>\n",
       "      <td>[1.0, 1.0, 1.0, 0.0, 0.0, 1.0, 1.0, 1.0, 0.0, ...</td>\n",
       "      <td>2</td>\n",
       "    </tr>\n",
       "    <tr>\n",
       "      <th>GaussianMixture #4</th>\n",
       "      <td>{'covariance_type': 'full', 'init_params': 'km...</td>\n",
       "      <td>[0.0, 1.0, 1.0, 1.0, 1.0, 1.0, 1.0, 0.0, 1.0, ...</td>\n",
       "      <td>2</td>\n",
       "    </tr>\n",
       "  </tbody>\n",
       "</table>\n",
       "</div>"
      ],
      "text/plain": [
       "                                                     clusterer_params  \\\n",
       "clusterer_id                                                            \n",
       "GaussianMixture #0  {'covariance_type': 'full', 'init_params': 'km...   \n",
       "GaussianMixture #1  {'covariance_type': 'full', 'init_params': 'km...   \n",
       "GaussianMixture #2  {'covariance_type': 'full', 'init_params': 'km...   \n",
       "GaussianMixture #3  {'covariance_type': 'full', 'init_params': 'km...   \n",
       "GaussianMixture #4  {'covariance_type': 'full', 'init_params': 'km...   \n",
       "\n",
       "                                                            partition  \\\n",
       "clusterer_id                                                            \n",
       "GaussianMixture #0  [1.0, 1.0, 1.0, 0.0, 0.0, 1.0, 1.0, 1.0, 1.0, ...   \n",
       "GaussianMixture #1  [0.0, 1.0, 1.0, 1.0, 1.0, 1.0, 1.0, 1.0, 0.0, ...   \n",
       "GaussianMixture #2  [0.0, 0.0, 0.0, 0.0, 0.0, 0.0, 0.0, 0.0, 1.0, ...   \n",
       "GaussianMixture #3  [1.0, 1.0, 1.0, 0.0, 0.0, 1.0, 1.0, 1.0, 0.0, ...   \n",
       "GaussianMixture #4  [0.0, 1.0, 1.0, 1.0, 1.0, 1.0, 1.0, 0.0, 1.0, ...   \n",
       "\n",
       "                    n_clusters  \n",
       "clusterer_id                    \n",
       "GaussianMixture #0           2  \n",
       "GaussianMixture #1           2  \n",
       "GaussianMixture #2           2  \n",
       "GaussianMixture #3           2  \n",
       "GaussianMixture #4           2  "
      ]
     },
     "execution_count": 25,
     "metadata": {},
     "output_type": "execute_result"
    }
   ],
   "source": [
    "ensemble.head()"
   ]
  },
  {
   "cell_type": "code",
   "execution_count": 26,
   "id": "0e0a3687",
   "metadata": {
    "execution": {
     "iopub.execute_input": "2022-09-14T08:15:49.808495Z",
     "iopub.status.busy": "2022-09-14T08:15:49.808290Z",
     "iopub.status.idle": "2022-09-14T08:15:49.828323Z",
     "shell.execute_reply": "2022-09-14T08:15:49.827831Z"
    },
    "papermill": {
     "duration": 0.041168,
     "end_time": "2022-09-14T08:15:49.829629",
     "exception": false,
     "start_time": "2022-09-14T08:15:49.788461",
     "status": "completed"
    },
    "tags": []
   },
   "outputs": [
    {
     "data": {
      "text/plain": [
       "60    5\n",
       "16    5\n",
       "28    5\n",
       "27    5\n",
       "26    5\n",
       "Name: n_clusters, dtype: int64"
      ]
     },
     "execution_count": 26,
     "metadata": {},
     "output_type": "execute_result"
    }
   ],
   "source": [
    "ensemble[\"n_clusters\"].value_counts().head()"
   ]
  },
  {
   "cell_type": "code",
   "execution_count": 27,
   "id": "7672d8e1",
   "metadata": {
    "execution": {
     "iopub.execute_input": "2022-09-14T08:15:49.867930Z",
     "iopub.status.busy": "2022-09-14T08:15:49.867713Z",
     "iopub.status.idle": "2022-09-14T08:15:49.888395Z",
     "shell.execute_reply": "2022-09-14T08:15:49.887885Z"
    },
    "papermill": {
     "duration": 0.041089,
     "end_time": "2022-09-14T08:15:49.889696",
     "exception": false,
     "start_time": "2022-09-14T08:15:49.848607",
     "status": "completed"
    },
    "tags": []
   },
   "outputs": [
    {
     "data": {
      "text/plain": [
       "count    295.000000\n",
       "mean      31.000000\n",
       "std       17.058323\n",
       "min        2.000000\n",
       "25%       16.000000\n",
       "50%       31.000000\n",
       "75%       46.000000\n",
       "max       60.000000\n",
       "Name: n_clusters, dtype: float64"
      ]
     },
     "metadata": {},
     "output_type": "display_data"
    }
   ],
   "source": [
    "ensemble_stats = ensemble[\"n_clusters\"].describe()\n",
    "display(ensemble_stats)"
   ]
  },
  {
   "cell_type": "markdown",
   "id": "4ff7f7e1",
   "metadata": {
    "papermill": {
     "duration": 0.01898,
     "end_time": "2022-09-14T08:15:49.928424",
     "exception": false,
     "start_time": "2022-09-14T08:15:49.909444",
     "status": "completed"
    },
    "tags": []
   },
   "source": [
    "## Testing"
   ]
  },
  {
   "cell_type": "code",
   "execution_count": 28,
   "id": "356a52a9",
   "metadata": {
    "execution": {
     "iopub.execute_input": "2022-09-14T08:15:49.966052Z",
     "iopub.status.busy": "2022-09-14T08:15:49.965529Z",
     "iopub.status.idle": "2022-09-14T08:15:49.982844Z",
     "shell.execute_reply": "2022-09-14T08:15:49.982388Z"
    },
    "papermill": {
     "duration": 0.037619,
     "end_time": "2022-09-14T08:15:49.984191",
     "exception": false,
     "start_time": "2022-09-14T08:15:49.946572",
     "status": "completed"
    },
    "tags": []
   },
   "outputs": [],
   "source": [
    "assert ensemble_stats[\"min\"] > 1"
   ]
  },
  {
   "cell_type": "code",
   "execution_count": 29,
   "id": "c07c1d15",
   "metadata": {
    "execution": {
     "iopub.execute_input": "2022-09-14T08:15:50.022711Z",
     "iopub.status.busy": "2022-09-14T08:15:50.022508Z",
     "iopub.status.idle": "2022-09-14T08:15:50.040818Z",
     "shell.execute_reply": "2022-09-14T08:15:50.040311Z"
    },
    "papermill": {
     "duration": 0.038765,
     "end_time": "2022-09-14T08:15:50.042218",
     "exception": false,
     "start_time": "2022-09-14T08:15:50.003453",
     "status": "completed"
    },
    "tags": []
   },
   "outputs": [],
   "source": [
    "assert not ensemble[\"n_clusters\"].isna().any()"
   ]
  },
  {
   "cell_type": "code",
   "execution_count": 30,
   "id": "18ad9a84",
   "metadata": {
    "execution": {
     "iopub.execute_input": "2022-09-14T08:15:50.081219Z",
     "iopub.status.busy": "2022-09-14T08:15:50.081014Z",
     "iopub.status.idle": "2022-09-14T08:15:50.098879Z",
     "shell.execute_reply": "2022-09-14T08:15:50.098356Z"
    },
    "papermill": {
     "duration": 0.038498,
     "end_time": "2022-09-14T08:15:50.100261",
     "exception": false,
     "start_time": "2022-09-14T08:15:50.061763",
     "status": "completed"
    },
    "tags": []
   },
   "outputs": [],
   "source": [
    "assert ensemble.shape[0] == len(CLUSTERERS)"
   ]
  },
  {
   "cell_type": "code",
   "execution_count": 31,
   "id": "d9b49ac6",
   "metadata": {
    "execution": {
     "iopub.execute_input": "2022-09-14T08:15:50.139312Z",
     "iopub.status.busy": "2022-09-14T08:15:50.139107Z",
     "iopub.status.idle": "2022-09-14T08:15:50.174780Z",
     "shell.execute_reply": "2022-09-14T08:15:50.174217Z"
    },
    "papermill": {
     "duration": 0.056735,
     "end_time": "2022-09-14T08:15:50.176256",
     "exception": false,
     "start_time": "2022-09-14T08:15:50.119521",
     "status": "completed"
    },
    "tags": []
   },
   "outputs": [],
   "source": [
    "# all partitions have the right size\n",
    "assert np.all(\n",
    "    [part[\"partition\"].shape[0] == data.shape[0] for idx, part in ensemble.iterrows()]\n",
    ")"
   ]
  },
  {
   "cell_type": "code",
   "execution_count": 32,
   "id": "af5e1c1f",
   "metadata": {
    "execution": {
     "iopub.execute_input": "2022-09-14T08:15:50.214249Z",
     "iopub.status.busy": "2022-09-14T08:15:50.214043Z",
     "iopub.status.idle": "2022-09-14T08:15:50.252332Z",
     "shell.execute_reply": "2022-09-14T08:15:50.251713Z"
    },
    "papermill": {
     "duration": 0.058672,
     "end_time": "2022-09-14T08:15:50.253886",
     "exception": false,
     "start_time": "2022-09-14T08:15:50.195214",
     "status": "completed"
    },
    "tags": []
   },
   "outputs": [],
   "source": [
    "# no partition has negative clusters (noisy points)\n",
    "assert not np.any([(part[\"partition\"] < 0).any() for idx, part in ensemble.iterrows()])"
   ]
  },
  {
   "cell_type": "markdown",
   "id": "66ed7ea8",
   "metadata": {
    "papermill": {
     "duration": 0.01836,
     "end_time": "2022-09-14T08:15:50.291270",
     "exception": false,
     "start_time": "2022-09-14T08:15:50.272910",
     "status": "completed"
    },
    "tags": []
   },
   "source": [
    "## Add clustering quality measures"
   ]
  },
  {
   "cell_type": "code",
   "execution_count": 33,
   "id": "06c5b8c8",
   "metadata": {
    "execution": {
     "iopub.execute_input": "2022-09-14T08:15:50.328646Z",
     "iopub.status.busy": "2022-09-14T08:15:50.328441Z",
     "iopub.status.idle": "2022-09-14T08:15:50.346546Z",
     "shell.execute_reply": "2022-09-14T08:15:50.345907Z"
    },
    "papermill": {
     "duration": 0.03862,
     "end_time": "2022-09-14T08:15:50.347959",
     "exception": false,
     "start_time": "2022-09-14T08:15:50.309339",
     "status": "completed"
    },
    "tags": []
   },
   "outputs": [],
   "source": [
    "from sklearn.metrics import calinski_harabasz_score"
   ]
  },
  {
   "cell_type": "code",
   "execution_count": 34,
   "id": "e21f55d5",
   "metadata": {
    "execution": {
     "iopub.execute_input": "2022-09-14T08:15:50.386735Z",
     "iopub.status.busy": "2022-09-14T08:15:50.386529Z",
     "iopub.status.idle": "2022-09-14T08:16:02.744852Z",
     "shell.execute_reply": "2022-09-14T08:16:02.744038Z"
    },
    "papermill": {
     "duration": 12.37975,
     "end_time": "2022-09-14T08:16:02.746664",
     "exception": false,
     "start_time": "2022-09-14T08:15:50.366914",
     "status": "completed"
    },
    "tags": []
   },
   "outputs": [],
   "source": [
    "ensemble = ensemble.assign(\n",
    "    ch_score=ensemble[\"partition\"].apply(lambda x: calinski_harabasz_score(data, x))\n",
    ")"
   ]
  },
  {
   "cell_type": "code",
   "execution_count": 35,
   "id": "512c482a",
   "metadata": {
    "execution": {
     "iopub.execute_input": "2022-09-14T08:16:02.795048Z",
     "iopub.status.busy": "2022-09-14T08:16:02.794871Z",
     "iopub.status.idle": "2022-09-14T08:16:02.814887Z",
     "shell.execute_reply": "2022-09-14T08:16:02.814397Z"
    },
    "papermill": {
     "duration": 0.045168,
     "end_time": "2022-09-14T08:16:02.816294",
     "exception": false,
     "start_time": "2022-09-14T08:16:02.771126",
     "status": "completed"
    },
    "tags": []
   },
   "outputs": [
    {
     "data": {
      "text/plain": [
       "(295, 4)"
      ]
     },
     "execution_count": 35,
     "metadata": {},
     "output_type": "execute_result"
    }
   ],
   "source": [
    "ensemble.shape"
   ]
  },
  {
   "cell_type": "code",
   "execution_count": 36,
   "id": "e4ec0cdb",
   "metadata": {
    "execution": {
     "iopub.execute_input": "2022-09-14T08:16:02.856410Z",
     "iopub.status.busy": "2022-09-14T08:16:02.856192Z",
     "iopub.status.idle": "2022-09-14T08:16:02.882128Z",
     "shell.execute_reply": "2022-09-14T08:16:02.881672Z"
    },
    "papermill": {
     "duration": 0.046718,
     "end_time": "2022-09-14T08:16:02.883428",
     "exception": false,
     "start_time": "2022-09-14T08:16:02.836710",
     "status": "completed"
    },
    "tags": []
   },
   "outputs": [
    {
     "data": {
      "text/html": [
       "<div>\n",
       "<style scoped>\n",
       "    .dataframe tbody tr th:only-of-type {\n",
       "        vertical-align: middle;\n",
       "    }\n",
       "\n",
       "    .dataframe tbody tr th {\n",
       "        vertical-align: top;\n",
       "    }\n",
       "\n",
       "    .dataframe thead th {\n",
       "        text-align: right;\n",
       "    }\n",
       "</style>\n",
       "<table border=\"1\" class=\"dataframe\">\n",
       "  <thead>\n",
       "    <tr style=\"text-align: right;\">\n",
       "      <th></th>\n",
       "      <th>clusterer_params</th>\n",
       "      <th>partition</th>\n",
       "      <th>n_clusters</th>\n",
       "      <th>ch_score</th>\n",
       "    </tr>\n",
       "    <tr>\n",
       "      <th>clusterer_id</th>\n",
       "      <th></th>\n",
       "      <th></th>\n",
       "      <th></th>\n",
       "      <th></th>\n",
       "    </tr>\n",
       "  </thead>\n",
       "  <tbody>\n",
       "    <tr>\n",
       "      <th>GaussianMixture #0</th>\n",
       "      <td>{'covariance_type': 'full', 'init_params': 'km...</td>\n",
       "      <td>[1.0, 1.0, 1.0, 0.0, 0.0, 1.0, 1.0, 1.0, 1.0, ...</td>\n",
       "      <td>2</td>\n",
       "      <td>5.171445</td>\n",
       "    </tr>\n",
       "    <tr>\n",
       "      <th>GaussianMixture #1</th>\n",
       "      <td>{'covariance_type': 'full', 'init_params': 'km...</td>\n",
       "      <td>[0.0, 1.0, 1.0, 1.0, 1.0, 1.0, 1.0, 1.0, 0.0, ...</td>\n",
       "      <td>2</td>\n",
       "      <td>5.253047</td>\n",
       "    </tr>\n",
       "    <tr>\n",
       "      <th>GaussianMixture #2</th>\n",
       "      <td>{'covariance_type': 'full', 'init_params': 'km...</td>\n",
       "      <td>[0.0, 0.0, 0.0, 0.0, 0.0, 0.0, 0.0, 0.0, 1.0, ...</td>\n",
       "      <td>2</td>\n",
       "      <td>5.427720</td>\n",
       "    </tr>\n",
       "    <tr>\n",
       "      <th>GaussianMixture #3</th>\n",
       "      <td>{'covariance_type': 'full', 'init_params': 'km...</td>\n",
       "      <td>[1.0, 1.0, 1.0, 0.0, 0.0, 1.0, 1.0, 1.0, 0.0, ...</td>\n",
       "      <td>2</td>\n",
       "      <td>5.221262</td>\n",
       "    </tr>\n",
       "    <tr>\n",
       "      <th>GaussianMixture #4</th>\n",
       "      <td>{'covariance_type': 'full', 'init_params': 'km...</td>\n",
       "      <td>[0.0, 1.0, 1.0, 1.0, 1.0, 1.0, 1.0, 0.0, 1.0, ...</td>\n",
       "      <td>2</td>\n",
       "      <td>5.545600</td>\n",
       "    </tr>\n",
       "  </tbody>\n",
       "</table>\n",
       "</div>"
      ],
      "text/plain": [
       "                                                     clusterer_params  \\\n",
       "clusterer_id                                                            \n",
       "GaussianMixture #0  {'covariance_type': 'full', 'init_params': 'km...   \n",
       "GaussianMixture #1  {'covariance_type': 'full', 'init_params': 'km...   \n",
       "GaussianMixture #2  {'covariance_type': 'full', 'init_params': 'km...   \n",
       "GaussianMixture #3  {'covariance_type': 'full', 'init_params': 'km...   \n",
       "GaussianMixture #4  {'covariance_type': 'full', 'init_params': 'km...   \n",
       "\n",
       "                                                            partition  \\\n",
       "clusterer_id                                                            \n",
       "GaussianMixture #0  [1.0, 1.0, 1.0, 0.0, 0.0, 1.0, 1.0, 1.0, 1.0, ...   \n",
       "GaussianMixture #1  [0.0, 1.0, 1.0, 1.0, 1.0, 1.0, 1.0, 1.0, 0.0, ...   \n",
       "GaussianMixture #2  [0.0, 0.0, 0.0, 0.0, 0.0, 0.0, 0.0, 0.0, 1.0, ...   \n",
       "GaussianMixture #3  [1.0, 1.0, 1.0, 0.0, 0.0, 1.0, 1.0, 1.0, 0.0, ...   \n",
       "GaussianMixture #4  [0.0, 1.0, 1.0, 1.0, 1.0, 1.0, 1.0, 0.0, 1.0, ...   \n",
       "\n",
       "                    n_clusters  ch_score  \n",
       "clusterer_id                              \n",
       "GaussianMixture #0           2  5.171445  \n",
       "GaussianMixture #1           2  5.253047  \n",
       "GaussianMixture #2           2  5.427720  \n",
       "GaussianMixture #3           2  5.221262  \n",
       "GaussianMixture #4           2  5.545600  "
      ]
     },
     "execution_count": 36,
     "metadata": {},
     "output_type": "execute_result"
    }
   ],
   "source": [
    "ensemble.head()"
   ]
  },
  {
   "cell_type": "markdown",
   "id": "d8e6338c",
   "metadata": {
    "papermill": {
     "duration": 0.018643,
     "end_time": "2022-09-14T08:16:02.920874",
     "exception": false,
     "start_time": "2022-09-14T08:16:02.902231",
     "status": "completed"
    },
    "tags": []
   },
   "source": [
    "## Save"
   ]
  },
  {
   "cell_type": "code",
   "execution_count": 37,
   "id": "0d669ad1",
   "metadata": {
    "execution": {
     "iopub.execute_input": "2022-09-14T08:16:02.959013Z",
     "iopub.status.busy": "2022-09-14T08:16:02.958373Z",
     "iopub.status.idle": "2022-09-14T08:16:02.977072Z",
     "shell.execute_reply": "2022-09-14T08:16:02.976480Z"
    },
    "papermill": {
     "duration": 0.039283,
     "end_time": "2022-09-14T08:16:02.978326",
     "exception": false,
     "start_time": "2022-09-14T08:16:02.939043",
     "status": "completed"
    },
    "tags": []
   },
   "outputs": [
    {
     "data": {
      "text/plain": [
       "PosixPath('/opt/data/results/clustering/null_sims/runs/z_score_std-projection-smultixcan-efo_partial-mashr-zscores/GaussianMixture-COVARIANCE_TYPE_full-K_MAX_60-K_MIN_2-N_INIT_10-N_REPS_PER_K_5.pkl')"
      ]
     },
     "metadata": {},
     "output_type": "display_data"
    }
   ],
   "source": [
    "output_filename = Path(\n",
    "    RESULTS_DIR,\n",
    "    generate_result_set_name(\n",
    "        CLUSTERING_OPTIONS,\n",
    "        prefix=f\"{clustering_method_name}-\",\n",
    "        suffix=\".pkl\",\n",
    "    ),\n",
    ").resolve()\n",
    "display(output_filename)"
   ]
  },
  {
   "cell_type": "code",
   "execution_count": 38,
   "id": "18060adc",
   "metadata": {
    "execution": {
     "iopub.execute_input": "2022-09-14T08:16:03.016761Z",
     "iopub.status.busy": "2022-09-14T08:16:03.016220Z",
     "iopub.status.idle": "2022-09-14T08:16:03.049668Z",
     "shell.execute_reply": "2022-09-14T08:16:03.049071Z"
    },
    "papermill": {
     "duration": 0.054053,
     "end_time": "2022-09-14T08:16:03.051185",
     "exception": false,
     "start_time": "2022-09-14T08:16:02.997132",
     "status": "completed"
    },
    "tags": []
   },
   "outputs": [],
   "source": [
    "ensemble.to_pickle(output_filename)"
   ]
  },
  {
   "cell_type": "markdown",
   "id": "4936a3df",
   "metadata": {
    "papermill": {
     "duration": 0.018819,
     "end_time": "2022-09-14T08:16:03.090259",
     "exception": false,
     "start_time": "2022-09-14T08:16:03.071440",
     "status": "completed"
    },
    "tags": []
   },
   "source": [
    "# Cluster quality"
   ]
  },
  {
   "cell_type": "code",
   "execution_count": 39,
   "id": "0d2e3f1f",
   "metadata": {
    "execution": {
     "iopub.execute_input": "2022-09-14T08:16:03.128181Z",
     "iopub.status.busy": "2022-09-14T08:16:03.127971Z",
     "iopub.status.idle": "2022-09-14T08:16:03.151461Z",
     "shell.execute_reply": "2022-09-14T08:16:03.150942Z"
    },
    "papermill": {
     "duration": 0.043919,
     "end_time": "2022-09-14T08:16:03.152718",
     "exception": false,
     "start_time": "2022-09-14T08:16:03.108799",
     "status": "completed"
    },
    "tags": []
   },
   "outputs": [
    {
     "data": {
      "text/html": [
       "<div>\n",
       "<style scoped>\n",
       "    .dataframe tbody tr th:only-of-type {\n",
       "        vertical-align: middle;\n",
       "    }\n",
       "\n",
       "    .dataframe tbody tr th {\n",
       "        vertical-align: top;\n",
       "    }\n",
       "\n",
       "    .dataframe thead th {\n",
       "        text-align: right;\n",
       "    }\n",
       "</style>\n",
       "<table border=\"1\" class=\"dataframe\">\n",
       "  <thead>\n",
       "    <tr style=\"text-align: right;\">\n",
       "      <th></th>\n",
       "      <th>ch_score</th>\n",
       "    </tr>\n",
       "    <tr>\n",
       "      <th>n_clusters</th>\n",
       "      <th></th>\n",
       "    </tr>\n",
       "  </thead>\n",
       "  <tbody>\n",
       "    <tr>\n",
       "      <th>2</th>\n",
       "      <td>5.323815</td>\n",
       "    </tr>\n",
       "    <tr>\n",
       "      <th>3</th>\n",
       "      <td>4.673590</td>\n",
       "    </tr>\n",
       "    <tr>\n",
       "      <th>4</th>\n",
       "      <td>4.283252</td>\n",
       "    </tr>\n",
       "    <tr>\n",
       "      <th>5</th>\n",
       "      <td>3.940764</td>\n",
       "    </tr>\n",
       "    <tr>\n",
       "      <th>6</th>\n",
       "      <td>3.690891</td>\n",
       "    </tr>\n",
       "    <tr>\n",
       "      <th>7</th>\n",
       "      <td>3.451407</td>\n",
       "    </tr>\n",
       "    <tr>\n",
       "      <th>8</th>\n",
       "      <td>3.298140</td>\n",
       "    </tr>\n",
       "    <tr>\n",
       "      <th>9</th>\n",
       "      <td>3.080865</td>\n",
       "    </tr>\n",
       "    <tr>\n",
       "      <th>10</th>\n",
       "      <td>2.825167</td>\n",
       "    </tr>\n",
       "    <tr>\n",
       "      <th>11</th>\n",
       "      <td>2.497623</td>\n",
       "    </tr>\n",
       "    <tr>\n",
       "      <th>12</th>\n",
       "      <td>2.421127</td>\n",
       "    </tr>\n",
       "    <tr>\n",
       "      <th>13</th>\n",
       "      <td>2.648374</td>\n",
       "    </tr>\n",
       "    <tr>\n",
       "      <th>14</th>\n",
       "      <td>2.563216</td>\n",
       "    </tr>\n",
       "    <tr>\n",
       "      <th>15</th>\n",
       "      <td>2.288863</td>\n",
       "    </tr>\n",
       "    <tr>\n",
       "      <th>16</th>\n",
       "      <td>2.355963</td>\n",
       "    </tr>\n",
       "    <tr>\n",
       "      <th>17</th>\n",
       "      <td>1.950936</td>\n",
       "    </tr>\n",
       "    <tr>\n",
       "      <th>18</th>\n",
       "      <td>2.090686</td>\n",
       "    </tr>\n",
       "    <tr>\n",
       "      <th>19</th>\n",
       "      <td>2.206753</td>\n",
       "    </tr>\n",
       "    <tr>\n",
       "      <th>20</th>\n",
       "      <td>2.060477</td>\n",
       "    </tr>\n",
       "    <tr>\n",
       "      <th>21</th>\n",
       "      <td>1.779936</td>\n",
       "    </tr>\n",
       "    <tr>\n",
       "      <th>22</th>\n",
       "      <td>1.988412</td>\n",
       "    </tr>\n",
       "    <tr>\n",
       "      <th>23</th>\n",
       "      <td>1.945660</td>\n",
       "    </tr>\n",
       "    <tr>\n",
       "      <th>24</th>\n",
       "      <td>1.958389</td>\n",
       "    </tr>\n",
       "    <tr>\n",
       "      <th>25</th>\n",
       "      <td>1.845003</td>\n",
       "    </tr>\n",
       "    <tr>\n",
       "      <th>26</th>\n",
       "      <td>1.748930</td>\n",
       "    </tr>\n",
       "    <tr>\n",
       "      <th>27</th>\n",
       "      <td>1.818221</td>\n",
       "    </tr>\n",
       "    <tr>\n",
       "      <th>28</th>\n",
       "      <td>1.850858</td>\n",
       "    </tr>\n",
       "    <tr>\n",
       "      <th>29</th>\n",
       "      <td>1.645453</td>\n",
       "    </tr>\n",
       "    <tr>\n",
       "      <th>30</th>\n",
       "      <td>1.648538</td>\n",
       "    </tr>\n",
       "    <tr>\n",
       "      <th>31</th>\n",
       "      <td>1.617703</td>\n",
       "    </tr>\n",
       "    <tr>\n",
       "      <th>32</th>\n",
       "      <td>1.660042</td>\n",
       "    </tr>\n",
       "    <tr>\n",
       "      <th>33</th>\n",
       "      <td>1.562410</td>\n",
       "    </tr>\n",
       "    <tr>\n",
       "      <th>34</th>\n",
       "      <td>1.643139</td>\n",
       "    </tr>\n",
       "    <tr>\n",
       "      <th>35</th>\n",
       "      <td>1.593438</td>\n",
       "    </tr>\n",
       "    <tr>\n",
       "      <th>36</th>\n",
       "      <td>1.639394</td>\n",
       "    </tr>\n",
       "    <tr>\n",
       "      <th>37</th>\n",
       "      <td>1.561045</td>\n",
       "    </tr>\n",
       "    <tr>\n",
       "      <th>38</th>\n",
       "      <td>1.629514</td>\n",
       "    </tr>\n",
       "    <tr>\n",
       "      <th>39</th>\n",
       "      <td>1.605623</td>\n",
       "    </tr>\n",
       "    <tr>\n",
       "      <th>40</th>\n",
       "      <td>1.603407</td>\n",
       "    </tr>\n",
       "    <tr>\n",
       "      <th>41</th>\n",
       "      <td>1.752686</td>\n",
       "    </tr>\n",
       "    <tr>\n",
       "      <th>42</th>\n",
       "      <td>1.708785</td>\n",
       "    </tr>\n",
       "    <tr>\n",
       "      <th>43</th>\n",
       "      <td>1.631993</td>\n",
       "    </tr>\n",
       "    <tr>\n",
       "      <th>44</th>\n",
       "      <td>1.540546</td>\n",
       "    </tr>\n",
       "    <tr>\n",
       "      <th>45</th>\n",
       "      <td>1.486128</td>\n",
       "    </tr>\n",
       "    <tr>\n",
       "      <th>46</th>\n",
       "      <td>1.715096</td>\n",
       "    </tr>\n",
       "    <tr>\n",
       "      <th>47</th>\n",
       "      <td>1.582658</td>\n",
       "    </tr>\n",
       "    <tr>\n",
       "      <th>48</th>\n",
       "      <td>1.521368</td>\n",
       "    </tr>\n",
       "    <tr>\n",
       "      <th>49</th>\n",
       "      <td>1.511302</td>\n",
       "    </tr>\n",
       "    <tr>\n",
       "      <th>50</th>\n",
       "      <td>1.546773</td>\n",
       "    </tr>\n",
       "    <tr>\n",
       "      <th>51</th>\n",
       "      <td>1.600621</td>\n",
       "    </tr>\n",
       "    <tr>\n",
       "      <th>52</th>\n",
       "      <td>1.553057</td>\n",
       "    </tr>\n",
       "    <tr>\n",
       "      <th>53</th>\n",
       "      <td>1.600647</td>\n",
       "    </tr>\n",
       "    <tr>\n",
       "      <th>54</th>\n",
       "      <td>1.510872</td>\n",
       "    </tr>\n",
       "    <tr>\n",
       "      <th>55</th>\n",
       "      <td>1.651254</td>\n",
       "    </tr>\n",
       "    <tr>\n",
       "      <th>56</th>\n",
       "      <td>1.643850</td>\n",
       "    </tr>\n",
       "    <tr>\n",
       "      <th>57</th>\n",
       "      <td>1.724719</td>\n",
       "    </tr>\n",
       "    <tr>\n",
       "      <th>58</th>\n",
       "      <td>1.656653</td>\n",
       "    </tr>\n",
       "    <tr>\n",
       "      <th>59</th>\n",
       "      <td>1.595454</td>\n",
       "    </tr>\n",
       "    <tr>\n",
       "      <th>60</th>\n",
       "      <td>1.646372</td>\n",
       "    </tr>\n",
       "  </tbody>\n",
       "</table>\n",
       "</div>"
      ],
      "text/plain": [
       "            ch_score\n",
       "n_clusters          \n",
       "2           5.323815\n",
       "3           4.673590\n",
       "4           4.283252\n",
       "5           3.940764\n",
       "6           3.690891\n",
       "7           3.451407\n",
       "8           3.298140\n",
       "9           3.080865\n",
       "10          2.825167\n",
       "11          2.497623\n",
       "12          2.421127\n",
       "13          2.648374\n",
       "14          2.563216\n",
       "15          2.288863\n",
       "16          2.355963\n",
       "17          1.950936\n",
       "18          2.090686\n",
       "19          2.206753\n",
       "20          2.060477\n",
       "21          1.779936\n",
       "22          1.988412\n",
       "23          1.945660\n",
       "24          1.958389\n",
       "25          1.845003\n",
       "26          1.748930\n",
       "27          1.818221\n",
       "28          1.850858\n",
       "29          1.645453\n",
       "30          1.648538\n",
       "31          1.617703\n",
       "32          1.660042\n",
       "33          1.562410\n",
       "34          1.643139\n",
       "35          1.593438\n",
       "36          1.639394\n",
       "37          1.561045\n",
       "38          1.629514\n",
       "39          1.605623\n",
       "40          1.603407\n",
       "41          1.752686\n",
       "42          1.708785\n",
       "43          1.631993\n",
       "44          1.540546\n",
       "45          1.486128\n",
       "46          1.715096\n",
       "47          1.582658\n",
       "48          1.521368\n",
       "49          1.511302\n",
       "50          1.546773\n",
       "51          1.600621\n",
       "52          1.553057\n",
       "53          1.600647\n",
       "54          1.510872\n",
       "55          1.651254\n",
       "56          1.643850\n",
       "57          1.724719\n",
       "58          1.656653\n",
       "59          1.595454\n",
       "60          1.646372"
      ]
     },
     "metadata": {},
     "output_type": "display_data"
    }
   ],
   "source": [
    "with pd.option_context(\"display.max_rows\", None, \"display.max_columns\", None):\n",
    "    _df = ensemble.groupby([\"n_clusters\"]).mean()\n",
    "    display(_df)"
   ]
  },
  {
   "cell_type": "code",
   "execution_count": 40,
   "id": "b5c32f06",
   "metadata": {
    "execution": {
     "iopub.execute_input": "2022-09-14T08:16:03.193025Z",
     "iopub.status.busy": "2022-09-14T08:16:03.192803Z",
     "iopub.status.idle": "2022-09-14T08:16:06.182940Z",
     "shell.execute_reply": "2022-09-14T08:16:06.181578Z"
    },
    "papermill": {
     "duration": 3.014059,
     "end_time": "2022-09-14T08:16:06.186565",
     "exception": false,
     "start_time": "2022-09-14T08:16:03.172506",
     "status": "completed"
    },
    "tags": []
   },
   "outputs": [
    {
     "data": {
      "image/png": "[encoded data removed]",
      "text/plain": [
       "<Figure size 1008x432 with 1 Axes>"
      ]
     },
     "metadata": {},
     "output_type": "display_data"
    }
   ],
   "source": [
    "with sns.plotting_context(\"talk\", font_scale=0.75), sns.axes_style(\n",
    "    \"whitegrid\", {\"grid.linestyle\": \"--\"}\n",
    "):\n",
    "    fig = plt.figure(figsize=(14, 6))\n",
    "    ax = sns.pointplot(data=ensemble, x=\"n_clusters\", y=\"ch_score\")\n",
    "    ax.set_ylabel(\"Calinski-Harabasz index\")\n",
    "    ax.set_xlabel(\"Number of clusters ($k$)\")\n",
    "    ax.set_xticklabels(ax.get_xticklabels(), rotation=45)\n",
    "    plt.grid(True)\n",
    "    plt.tight_layout()"
   ]
  },
  {
   "cell_type": "markdown",
   "id": "2b647848",
   "metadata": {
    "papermill": {
     "duration": 0.019826,
     "end_time": "2022-09-14T08:16:06.243872",
     "exception": false,
     "start_time": "2022-09-14T08:16:06.224046",
     "status": "completed"
    },
    "tags": []
   },
   "source": [
    "# Stability"
   ]
  },
  {
   "cell_type": "markdown",
   "id": "79e1e04a",
   "metadata": {
    "papermill": {
     "duration": 0.019972,
     "end_time": "2022-09-14T08:16:06.283570",
     "exception": false,
     "start_time": "2022-09-14T08:16:06.263598",
     "status": "completed"
    },
    "tags": []
   },
   "source": [
    "## Group ensemble by n_clusters"
   ]
  },
  {
   "cell_type": "code",
   "execution_count": 41,
   "id": "171802e3",
   "metadata": {
    "execution": {
     "iopub.execute_input": "2022-09-14T08:16:06.324327Z",
     "iopub.status.busy": "2022-09-14T08:16:06.324118Z",
     "iopub.status.idle": "2022-09-14T08:16:06.356462Z",
     "shell.execute_reply": "2022-09-14T08:16:06.355908Z"
    },
    "papermill": {
     "duration": 0.054508,
     "end_time": "2022-09-14T08:16:06.357840",
     "exception": false,
     "start_time": "2022-09-14T08:16:06.303332",
     "status": "completed"
    },
    "tags": []
   },
   "outputs": [],
   "source": [
    "parts = ensemble.groupby(\"n_clusters\").apply(\n",
    "    lambda x: np.concatenate(x[\"partition\"].apply(lambda x: x.reshape(1, -1)), axis=0)\n",
    ")"
   ]
  },
  {
   "cell_type": "code",
   "execution_count": 42,
   "id": "8ed815d2",
   "metadata": {
    "execution": {
     "iopub.execute_input": "2022-09-14T08:16:06.399194Z",
     "iopub.status.busy": "2022-09-14T08:16:06.398985Z",
     "iopub.status.idle": "2022-09-14T08:16:06.429919Z",
     "shell.execute_reply": "2022-09-14T08:16:06.429305Z"
    },
    "papermill": {
     "duration": 0.052941,
     "end_time": "2022-09-14T08:16:06.431203",
     "exception": false,
     "start_time": "2022-09-14T08:16:06.378262",
     "status": "completed"
    },
    "tags": []
   },
   "outputs": [
    {
     "data": {
      "text/plain": [
       "n_clusters\n",
       "2    [[1.0, 1.0, 1.0, 0.0, 0.0, 1.0, 1.0, 1.0, 1.0,...\n",
       "3    [[1.0, 2.0, 1.0, 1.0, 1.0, 1.0, 2.0, 1.0, 1.0,...\n",
       "4    [[2.0, 2.0, 1.0, 1.0, 1.0, 3.0, 1.0, 3.0, 2.0,...\n",
       "5    [[4.0, 2.0, 2.0, 4.0, 3.0, 4.0, 0.0, 1.0, 4.0,...\n",
       "6    [[0.0, 4.0, 4.0, 3.0, 1.0, 0.0, 2.0, 1.0, 3.0,...\n",
       "dtype: object"
      ]
     },
     "execution_count": 42,
     "metadata": {},
     "output_type": "execute_result"
    }
   ],
   "source": [
    "parts.head()"
   ]
  },
  {
   "cell_type": "code",
   "execution_count": 43,
   "id": "fde0863b",
   "metadata": {
    "execution": {
     "iopub.execute_input": "2022-09-14T08:16:06.472374Z",
     "iopub.status.busy": "2022-09-14T08:16:06.471947Z",
     "iopub.status.idle": "2022-09-14T08:16:06.490868Z",
     "shell.execute_reply": "2022-09-14T08:16:06.490247Z"
    },
    "papermill": {
     "duration": 0.041015,
     "end_time": "2022-09-14T08:16:06.492223",
     "exception": false,
     "start_time": "2022-09-14T08:16:06.451208",
     "status": "completed"
    },
    "tags": []
   },
   "outputs": [],
   "source": [
    "assert np.all(\n",
    "    [\n",
    "        parts.loc[k].shape == (CLUSTERING_OPTIONS[\"N_REPS_PER_K\"], data.shape[0])\n",
    "        for k in parts.index\n",
    "    ]\n",
    ")"
   ]
  },
  {
   "cell_type": "markdown",
   "id": "490cde94",
   "metadata": {
    "papermill": {
     "duration": 0.019529,
     "end_time": "2022-09-14T08:16:06.532339",
     "exception": false,
     "start_time": "2022-09-14T08:16:06.512810",
     "status": "completed"
    },
    "tags": []
   },
   "source": [
    "## Compute stability"
   ]
  },
  {
   "cell_type": "code",
   "execution_count": 44,
   "id": "9e228d9d",
   "metadata": {
    "execution": {
     "iopub.execute_input": "2022-09-14T08:16:06.572971Z",
     "iopub.status.busy": "2022-09-14T08:16:06.572406Z",
     "iopub.status.idle": "2022-09-14T08:16:06.590006Z",
     "shell.execute_reply": "2022-09-14T08:16:06.589422Z"
    },
    "papermill": {
     "duration": 0.039341,
     "end_time": "2022-09-14T08:16:06.591363",
     "exception": false,
     "start_time": "2022-09-14T08:16:06.552022",
     "status": "completed"
    },
    "tags": []
   },
   "outputs": [],
   "source": [
    "from sklearn.metrics import adjusted_rand_score as ari\n",
    "from scipy.spatial.distance import pdist"
   ]
  },
  {
   "cell_type": "code",
   "execution_count": 45,
   "id": "f01b01d6",
   "metadata": {
    "execution": {
     "iopub.execute_input": "2022-09-14T08:16:06.633092Z",
     "iopub.status.busy": "2022-09-14T08:16:06.632464Z",
     "iopub.status.idle": "2022-09-14T08:16:07.302715Z",
     "shell.execute_reply": "2022-09-14T08:16:07.302096Z"
    },
    "papermill": {
     "duration": 0.692495,
     "end_time": "2022-09-14T08:16:07.304292",
     "exception": false,
     "start_time": "2022-09-14T08:16:06.611797",
     "status": "completed"
    },
    "tags": []
   },
   "outputs": [],
   "source": [
    "parts_ari = pd.Series(\n",
    "    {k: pdist(parts.loc[k], metric=ari) for k in parts.index}, name=\"k\"\n",
    ")"
   ]
  },
  {
   "cell_type": "code",
   "execution_count": 46,
   "id": "52f03a58",
   "metadata": {
    "execution": {
     "iopub.execute_input": "2022-09-14T08:16:07.346275Z",
     "iopub.status.busy": "2022-09-14T08:16:07.345563Z",
     "iopub.status.idle": "2022-09-14T08:16:07.366167Z",
     "shell.execute_reply": "2022-09-14T08:16:07.365542Z"
    },
    "papermill": {
     "duration": 0.042914,
     "end_time": "2022-09-14T08:16:07.367431",
     "exception": false,
     "start_time": "2022-09-14T08:16:07.324517",
     "status": "completed"
    },
    "tags": []
   },
   "outputs": [
    {
     "data": {
      "text/plain": [
       "50    0.020362\n",
       "2     0.020215\n",
       "46    0.018269\n",
       "33    0.016378\n",
       "47    0.014575\n",
       "39    0.014077\n",
       "53    0.014008\n",
       "42    0.013653\n",
       "37    0.013139\n",
       "49    0.012742\n",
       "40    0.012649\n",
       "58    0.011528\n",
       "35    0.011301\n",
       "48    0.010740\n",
       "55    0.009952\n",
       "Name: k, dtype: float64"
      ]
     },
     "metadata": {},
     "output_type": "display_data"
    }
   ],
   "source": [
    "parts_ari_stability = parts_ari.apply(lambda x: x.mean())\n",
    "display(parts_ari_stability.sort_values(ascending=False).head(15))"
   ]
  },
  {
   "cell_type": "code",
   "execution_count": 47,
   "id": "7207b041",
   "metadata": {
    "execution": {
     "iopub.execute_input": "2022-09-14T08:16:07.422871Z",
     "iopub.status.busy": "2022-09-14T08:16:07.422620Z",
     "iopub.status.idle": "2022-09-14T08:16:07.448243Z",
     "shell.execute_reply": "2022-09-14T08:16:07.447787Z"
    },
    "papermill": {
     "duration": 0.061425,
     "end_time": "2022-09-14T08:16:07.449615",
     "exception": false,
     "start_time": "2022-09-14T08:16:07.388190",
     "status": "completed"
    },
    "tags": []
   },
   "outputs": [],
   "source": [
    "parts_ari_df = pd.DataFrame.from_records(parts_ari.tolist()).set_index(\n",
    "    parts_ari.index.copy()\n",
    ")"
   ]
  },
  {
   "cell_type": "code",
   "execution_count": 48,
   "id": "c0a164c4",
   "metadata": {
    "execution": {
     "iopub.execute_input": "2022-09-14T08:16:07.492317Z",
     "iopub.status.busy": "2022-09-14T08:16:07.492109Z",
     "iopub.status.idle": "2022-09-14T08:16:07.511327Z",
     "shell.execute_reply": "2022-09-14T08:16:07.510758Z"
    },
    "papermill": {
     "duration": 0.041975,
     "end_time": "2022-09-14T08:16:07.512699",
     "exception": false,
     "start_time": "2022-09-14T08:16:07.470724",
     "status": "completed"
    },
    "tags": []
   },
   "outputs": [
    {
     "data": {
      "text/plain": [
       "(59, 10)"
      ]
     },
     "execution_count": 48,
     "metadata": {},
     "output_type": "execute_result"
    }
   ],
   "source": [
    "parts_ari_df.shape"
   ]
  },
  {
   "cell_type": "code",
   "execution_count": 49,
   "id": "da0f97ff",
   "metadata": {
    "execution": {
     "iopub.execute_input": "2022-09-14T08:16:07.557031Z",
     "iopub.status.busy": "2022-09-14T08:16:07.556822Z",
     "iopub.status.idle": "2022-09-14T08:16:07.575339Z",
     "shell.execute_reply": "2022-09-14T08:16:07.574896Z"
    },
    "papermill": {
     "duration": 0.041615,
     "end_time": "2022-09-14T08:16:07.576744",
     "exception": false,
     "start_time": "2022-09-14T08:16:07.535129",
     "status": "completed"
    },
    "tags": []
   },
   "outputs": [],
   "source": [
    "assert (\n",
    "    int(\n",
    "        (CLUSTERING_OPTIONS[\"N_REPS_PER_K\"] * (CLUSTERING_OPTIONS[\"N_REPS_PER_K\"] - 1))\n",
    "        / 2\n",
    "    )\n",
    "    == parts_ari_df.shape[1]\n",
    ")"
   ]
  },
  {
   "cell_type": "code",
   "execution_count": 50,
   "id": "99f5d721",
   "metadata": {
    "execution": {
     "iopub.execute_input": "2022-09-14T08:16:07.618804Z",
     "iopub.status.busy": "2022-09-14T08:16:07.618597Z",
     "iopub.status.idle": "2022-09-14T08:16:07.643265Z",
     "shell.execute_reply": "2022-09-14T08:16:07.642654Z"
    },
    "papermill": {
     "duration": 0.04664,
     "end_time": "2022-09-14T08:16:07.644563",
     "exception": false,
     "start_time": "2022-09-14T08:16:07.597923",
     "status": "completed"
    },
    "tags": []
   },
   "outputs": [
    {
     "data": {
      "text/html": [
       "<div>\n",
       "<style scoped>\n",
       "    .dataframe tbody tr th:only-of-type {\n",
       "        vertical-align: middle;\n",
       "    }\n",
       "\n",
       "    .dataframe tbody tr th {\n",
       "        vertical-align: top;\n",
       "    }\n",
       "\n",
       "    .dataframe thead th {\n",
       "        text-align: right;\n",
       "    }\n",
       "</style>\n",
       "<table border=\"1\" class=\"dataframe\">\n",
       "  <thead>\n",
       "    <tr style=\"text-align: right;\">\n",
       "      <th></th>\n",
       "      <th>0</th>\n",
       "      <th>1</th>\n",
       "      <th>2</th>\n",
       "      <th>3</th>\n",
       "      <th>4</th>\n",
       "      <th>5</th>\n",
       "      <th>6</th>\n",
       "      <th>7</th>\n",
       "      <th>8</th>\n",
       "      <th>9</th>\n",
       "    </tr>\n",
       "  </thead>\n",
       "  <tbody>\n",
       "    <tr>\n",
       "      <th>2</th>\n",
       "      <td>0.023600</td>\n",
       "      <td>0.011686</td>\n",
       "      <td>0.073978</td>\n",
       "      <td>0.033220</td>\n",
       "      <td>0.018449</td>\n",
       "      <td>0.018879</td>\n",
       "      <td>-0.004915</td>\n",
       "      <td>0.008126</td>\n",
       "      <td>0.013207</td>\n",
       "      <td>0.005923</td>\n",
       "    </tr>\n",
       "    <tr>\n",
       "      <th>3</th>\n",
       "      <td>-0.007323</td>\n",
       "      <td>-0.017102</td>\n",
       "      <td>0.040987</td>\n",
       "      <td>-0.022372</td>\n",
       "      <td>0.006059</td>\n",
       "      <td>-0.000385</td>\n",
       "      <td>0.019656</td>\n",
       "      <td>0.013527</td>\n",
       "      <td>0.019867</td>\n",
       "      <td>-0.002898</td>\n",
       "    </tr>\n",
       "    <tr>\n",
       "      <th>4</th>\n",
       "      <td>0.002315</td>\n",
       "      <td>0.015621</td>\n",
       "      <td>0.001425</td>\n",
       "      <td>0.002654</td>\n",
       "      <td>0.004973</td>\n",
       "      <td>0.003465</td>\n",
       "      <td>0.019070</td>\n",
       "      <td>0.001787</td>\n",
       "      <td>0.008388</td>\n",
       "      <td>0.003347</td>\n",
       "    </tr>\n",
       "    <tr>\n",
       "      <th>5</th>\n",
       "      <td>0.004651</td>\n",
       "      <td>0.009170</td>\n",
       "      <td>0.005866</td>\n",
       "      <td>0.004205</td>\n",
       "      <td>-0.000701</td>\n",
       "      <td>0.002551</td>\n",
       "      <td>0.000405</td>\n",
       "      <td>0.006680</td>\n",
       "      <td>0.006520</td>\n",
       "      <td>0.003494</td>\n",
       "    </tr>\n",
       "    <tr>\n",
       "      <th>6</th>\n",
       "      <td>0.005068</td>\n",
       "      <td>0.003808</td>\n",
       "      <td>0.003079</td>\n",
       "      <td>0.005115</td>\n",
       "      <td>0.003862</td>\n",
       "      <td>0.003029</td>\n",
       "      <td>0.005383</td>\n",
       "      <td>0.001780</td>\n",
       "      <td>0.002753</td>\n",
       "      <td>0.004627</td>\n",
       "    </tr>\n",
       "  </tbody>\n",
       "</table>\n",
       "</div>"
      ],
      "text/plain": [
       "          0         1         2         3         4         5         6  \\\n",
       "2  0.023600  0.011686  0.073978  0.033220  0.018449  0.018879 -0.004915   \n",
       "3 -0.007323 -0.017102  0.040987 -0.022372  0.006059 -0.000385  0.019656   \n",
       "4  0.002315  0.015621  0.001425  0.002654  0.004973  0.003465  0.019070   \n",
       "5  0.004651  0.009170  0.005866  0.004205 -0.000701  0.002551  0.000405   \n",
       "6  0.005068  0.003808  0.003079  0.005115  0.003862  0.003029  0.005383   \n",
       "\n",
       "          7         8         9  \n",
       "2  0.008126  0.013207  0.005923  \n",
       "3  0.013527  0.019867 -0.002898  \n",
       "4  0.001787  0.008388  0.003347  \n",
       "5  0.006680  0.006520  0.003494  \n",
       "6  0.001780  0.002753  0.004627  "
      ]
     },
     "execution_count": 50,
     "metadata": {},
     "output_type": "execute_result"
    }
   ],
   "source": [
    "parts_ari_df.head()"
   ]
  },
  {
   "cell_type": "markdown",
   "id": "45761c33",
   "metadata": {
    "papermill": {
     "duration": 0.019738,
     "end_time": "2022-09-14T08:16:07.685815",
     "exception": false,
     "start_time": "2022-09-14T08:16:07.666077",
     "status": "completed"
    },
    "tags": []
   },
   "source": [
    "## Save"
   ]
  },
  {
   "cell_type": "code",
   "execution_count": 51,
   "id": "13a3e1ef",
   "metadata": {
    "execution": {
     "iopub.execute_input": "2022-09-14T08:16:07.726759Z",
     "iopub.status.busy": "2022-09-14T08:16:07.726549Z",
     "iopub.status.idle": "2022-09-14T08:16:07.745898Z",
     "shell.execute_reply": "2022-09-14T08:16:07.745385Z"
    },
    "papermill": {
     "duration": 0.0415,
     "end_time": "2022-09-14T08:16:07.747188",
     "exception": false,
     "start_time": "2022-09-14T08:16:07.705688",
     "status": "completed"
    },
    "tags": []
   },
   "outputs": [
    {
     "data": {
      "text/plain": [
       "PosixPath('/opt/data/results/clustering/null_sims/runs/z_score_std-projection-smultixcan-efo_partial-mashr-zscores/GaussianMixture-stability-COVARIANCE_TYPE_full-K_MAX_60-K_MIN_2-N_INIT_10-N_REPS_PER_K_5.pkl')"
      ]
     },
     "metadata": {},
     "output_type": "display_data"
    }
   ],
   "source": [
    "output_filename = Path(\n",
    "    RESULTS_DIR,\n",
    "    generate_result_set_name(\n",
    "        CLUSTERING_OPTIONS,\n",
    "        prefix=f\"{clustering_method_name}-stability-\",\n",
    "        suffix=\".pkl\",\n",
    "    ),\n",
    ").resolve()\n",
    "display(output_filename)"
   ]
  },
  {
   "cell_type": "code",
   "execution_count": 52,
   "id": "2aca0e7f",
   "metadata": {
    "execution": {
     "iopub.execute_input": "2022-09-14T08:16:07.808680Z",
     "iopub.status.busy": "2022-09-14T08:16:07.808521Z",
     "iopub.status.idle": "2022-09-14T08:16:07.827064Z",
     "shell.execute_reply": "2022-09-14T08:16:07.826338Z"
    },
    "papermill": {
     "duration": 0.059706,
     "end_time": "2022-09-14T08:16:07.828540",
     "exception": false,
     "start_time": "2022-09-14T08:16:07.768834",
     "status": "completed"
    },
    "tags": []
   },
   "outputs": [],
   "source": [
    "parts_ari_df.to_pickle(output_filename)"
   ]
  },
  {
   "cell_type": "markdown",
   "id": "9037a642",
   "metadata": {
    "papermill": {
     "duration": 0.020215,
     "end_time": "2022-09-14T08:16:07.871137",
     "exception": false,
     "start_time": "2022-09-14T08:16:07.850922",
     "status": "completed"
    },
    "tags": []
   },
   "source": [
    "## Stability plot"
   ]
  },
  {
   "cell_type": "code",
   "execution_count": 53,
   "id": "e2233568",
   "metadata": {
    "execution": {
     "iopub.execute_input": "2022-09-14T08:16:07.912039Z",
     "iopub.status.busy": "2022-09-14T08:16:07.911820Z",
     "iopub.status.idle": "2022-09-14T08:16:07.931795Z",
     "shell.execute_reply": "2022-09-14T08:16:07.931108Z"
    },
    "papermill": {
     "duration": 0.042045,
     "end_time": "2022-09-14T08:16:07.933230",
     "exception": false,
     "start_time": "2022-09-14T08:16:07.891185",
     "status": "completed"
    },
    "tags": []
   },
   "outputs": [],
   "source": [
    "parts_ari_df_plot = (\n",
    "    parts_ari_df.stack()\n",
    "    .reset_index()\n",
    "    .rename(columns={\"level_0\": \"k\", \"level_1\": \"idx\", 0: \"ari\"})\n",
    ")"
   ]
  },
  {
   "cell_type": "code",
   "execution_count": 54,
   "id": "cc47125c",
   "metadata": {
    "execution": {
     "iopub.execute_input": "2022-09-14T08:16:07.975838Z",
     "iopub.status.busy": "2022-09-14T08:16:07.975282Z",
     "iopub.status.idle": "2022-09-14T08:16:07.994739Z",
     "shell.execute_reply": "2022-09-14T08:16:07.994285Z"
    },
    "papermill": {
     "duration": 0.041712,
     "end_time": "2022-09-14T08:16:07.996060",
     "exception": false,
     "start_time": "2022-09-14T08:16:07.954348",
     "status": "completed"
    },
    "tags": []
   },
   "outputs": [
    {
     "data": {
      "text/plain": [
       "k        int64\n",
       "idx      int64\n",
       "ari    float64\n",
       "dtype: object"
      ]
     },
     "execution_count": 54,
     "metadata": {},
     "output_type": "execute_result"
    }
   ],
   "source": [
    "parts_ari_df_plot.dtypes"
   ]
  },
  {
   "cell_type": "code",
   "execution_count": 55,
   "id": "f632f6a6",
   "metadata": {
    "execution": {
     "iopub.execute_input": "2022-09-14T08:16:08.040925Z",
     "iopub.status.busy": "2022-09-14T08:16:08.040484Z",
     "iopub.status.idle": "2022-09-14T08:16:08.062057Z",
     "shell.execute_reply": "2022-09-14T08:16:08.061439Z"
    },
    "papermill": {
     "duration": 0.044762,
     "end_time": "2022-09-14T08:16:08.063311",
     "exception": false,
     "start_time": "2022-09-14T08:16:08.018549",
     "status": "completed"
    },
    "tags": []
   },
   "outputs": [
    {
     "data": {
      "text/html": [
       "<div>\n",
       "<style scoped>\n",
       "    .dataframe tbody tr th:only-of-type {\n",
       "        vertical-align: middle;\n",
       "    }\n",
       "\n",
       "    .dataframe tbody tr th {\n",
       "        vertical-align: top;\n",
       "    }\n",
       "\n",
       "    .dataframe thead th {\n",
       "        text-align: right;\n",
       "    }\n",
       "</style>\n",
       "<table border=\"1\" class=\"dataframe\">\n",
       "  <thead>\n",
       "    <tr style=\"text-align: right;\">\n",
       "      <th></th>\n",
       "      <th>k</th>\n",
       "      <th>idx</th>\n",
       "      <th>ari</th>\n",
       "    </tr>\n",
       "  </thead>\n",
       "  <tbody>\n",
       "    <tr>\n",
       "      <th>0</th>\n",
       "      <td>2</td>\n",
       "      <td>0</td>\n",
       "      <td>0.023600</td>\n",
       "    </tr>\n",
       "    <tr>\n",
       "      <th>1</th>\n",
       "      <td>2</td>\n",
       "      <td>1</td>\n",
       "      <td>0.011686</td>\n",
       "    </tr>\n",
       "    <tr>\n",
       "      <th>2</th>\n",
       "      <td>2</td>\n",
       "      <td>2</td>\n",
       "      <td>0.073978</td>\n",
       "    </tr>\n",
       "    <tr>\n",
       "      <th>3</th>\n",
       "      <td>2</td>\n",
       "      <td>3</td>\n",
       "      <td>0.033220</td>\n",
       "    </tr>\n",
       "    <tr>\n",
       "      <th>4</th>\n",
       "      <td>2</td>\n",
       "      <td>4</td>\n",
       "      <td>0.018449</td>\n",
       "    </tr>\n",
       "  </tbody>\n",
       "</table>\n",
       "</div>"
      ],
      "text/plain": [
       "   k  idx       ari\n",
       "0  2    0  0.023600\n",
       "1  2    1  0.011686\n",
       "2  2    2  0.073978\n",
       "3  2    3  0.033220\n",
       "4  2    4  0.018449"
      ]
     },
     "execution_count": 55,
     "metadata": {},
     "output_type": "execute_result"
    }
   ],
   "source": [
    "parts_ari_df_plot.head()"
   ]
  },
  {
   "cell_type": "code",
   "execution_count": 56,
   "id": "75660a85",
   "metadata": {
    "execution": {
     "iopub.execute_input": "2022-09-14T08:16:08.108259Z",
     "iopub.status.busy": "2022-09-14T08:16:08.108034Z",
     "iopub.status.idle": "2022-09-14T08:16:10.946083Z",
     "shell.execute_reply": "2022-09-14T08:16:10.945393Z"
    },
    "papermill": {
     "duration": 2.861632,
     "end_time": "2022-09-14T08:16:10.947493",
     "exception": false,
     "start_time": "2022-09-14T08:16:08.085861",
     "status": "completed"
    },
    "tags": []
   },
   "outputs": [
    {
     "data": {
      "image/png": "[encoded data removed]",
      "text/plain": [
       "<Figure size 1008x432 with 1 Axes>"
      ]
     },
     "metadata": {},
     "output_type": "display_data"
    }
   ],
   "source": [
    "# with sns.axes_style('whitegrid', {'grid.linestyle': '--'}):\n",
    "with sns.plotting_context(\"talk\", font_scale=0.75), sns.axes_style(\n",
    "    \"whitegrid\", {\"grid.linestyle\": \"--\"}\n",
    "):\n",
    "    fig = plt.figure(figsize=(14, 6))\n",
    "    ax = sns.pointplot(data=parts_ari_df_plot, x=\"k\", y=\"ari\")\n",
    "    ax.set_ylabel(\"Averange ARI\")\n",
    "    ax.set_xlabel(\"Number of clusters ($k$)\")\n",
    "    ax.set_xticklabels(ax.get_xticklabels(), rotation=45)\n",
    "    #     ax.set_ylim(0.0, 1.0)\n",
    "    #     ax.set_xlim(CLUSTERING_OPTIONS['K_MIN'], CLUSTERING_OPTIONS['K_MAX'])\n",
    "    plt.grid(True)\n",
    "    plt.tight_layout()"
   ]
  },
  {
   "cell_type": "code",
   "execution_count": null,
   "id": "e43f0e92",
   "metadata": {
    "papermill": {
     "duration": 0.021163,
     "end_time": "2022-09-14T08:16:10.990386",
     "exception": false,
     "start_time": "2022-09-14T08:16:10.969223",
     "status": "completed"
    },
    "tags": []
   },
   "outputs": [],
   "source": []
  }
 ],
 "metadata": {
  "jupytext": {
   "cell_metadata_filter": "all,-execution,-papermill,-trusted",
   "formats": "ipynb,py//py:percent"
  },
  "kernelspec": {
   "display_name": "Python 3 (ipykernel)",
   "language": "python",
   "name": "python3"
  },
  "language_info": {
   "codemirror_mode": {
    "name": "ipython",
    "version": 3
   },
   "file_extension": ".py",
   "mimetype": "text/x-python",
   "name": "python",
   "nbconvert_exporter": "python",
   "pygments_lexer": "ipython3",
   "version": "3.8.13"
  },
  "papermill": {
   "default_parameters": {},
   "duration": 42381.287614,
   "end_time": "2022-09-14T08:16:11.384519",
   "environment_variables": {},
   "exception": null,
   "input_path": "nbs/13.1_cluster_analysis_null/14_00-gmm-z_score_std.ipynb",
   "output_path": "nbs/13.1_cluster_analysis_null/14_00-gmm-z_score_std.run.ipynb",
   "parameters": {},
   "start_time": "2022-09-13T20:29:50.096905",
   "version": "2.2.2"
  },
  "toc-autonumbering": true,
  "toc-showcode": false,
  "toc-showmarkdowntxt": false,
  "toc-showtags": false
 },
 "nbformat": 4,
 "nbformat_minor": 5
}
