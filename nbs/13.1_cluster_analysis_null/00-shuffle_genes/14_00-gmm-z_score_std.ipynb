{
 "cells": [
  {
   "cell_type": "markdown",
   "id": "ddf3ec3c",
   "metadata": {
    "papermill": {
     "duration": 0.01398,
     "end_time": "2022-11-26T05:30:59.084898",
     "exception": false,
     "start_time": "2022-11-26T05:30:59.070918",
     "status": "completed"
    },
    "tags": []
   },
   "source": [
    "# Description"
   ]
  },
  {
   "cell_type": "markdown",
   "id": "dce28cad",
   "metadata": {
    "papermill": {
     "duration": 0.012429,
     "end_time": "2022-11-26T05:30:59.110110",
     "exception": false,
     "start_time": "2022-11-26T05:30:59.097681",
     "status": "completed"
    },
    "tags": []
   },
   "source": [
    "Runs gaussian mixture model on the z_score_std version of the data."
   ]
  },
  {
   "cell_type": "markdown",
   "id": "0504ed4d",
   "metadata": {
    "papermill": {
     "duration": 0.013504,
     "end_time": "2022-11-26T05:30:59.136489",
     "exception": false,
     "start_time": "2022-11-26T05:30:59.122985",
     "status": "completed"
    },
    "tags": []
   },
   "source": [
    "# Environment variables"
   ]
  },
  {
   "cell_type": "code",
   "execution_count": 1,
   "id": "bf14cc7a",
   "metadata": {
    "execution": {
     "iopub.execute_input": "2022-11-26T05:30:59.159324Z",
     "iopub.status.busy": "2022-11-26T05:30:59.159021Z",
     "iopub.status.idle": "2022-11-26T05:30:59.178292Z",
     "shell.execute_reply": "2022-11-26T05:30:59.177947Z"
    },
    "papermill": {
     "duration": 0.029996,
     "end_time": "2022-11-26T05:30:59.179400",
     "exception": false,
     "start_time": "2022-11-26T05:30:59.149404",
     "status": "completed"
    },
    "tags": []
   },
   "outputs": [
    {
     "data": {
      "text/plain": [
       "10"
      ]
     },
     "metadata": {},
     "output_type": "display_data"
    }
   ],
   "source": [
    "from IPython.display import display\n",
    "\n",
    "import conf\n",
    "\n",
    "N_JOBS = conf.GENERAL[\"N_JOBS\"]\n",
    "display(N_JOBS)"
   ]
  },
  {
   "cell_type": "code",
   "execution_count": 2,
   "id": "8aff8fbf",
   "metadata": {
    "execution": {
     "iopub.execute_input": "2022-11-26T05:30:59.195588Z",
     "iopub.status.busy": "2022-11-26T05:30:59.195392Z",
     "iopub.status.idle": "2022-11-26T05:30:59.201413Z",
     "shell.execute_reply": "2022-11-26T05:30:59.201055Z"
    },
    "papermill": {
     "duration": 0.014234,
     "end_time": "2022-11-26T05:30:59.202213",
     "exception": false,
     "start_time": "2022-11-26T05:30:59.187979",
     "status": "completed"
    },
    "tags": []
   },
   "outputs": [
    {
     "name": "stdout",
     "output_type": "stream",
     "text": [
      "env: MKL_NUM_THREADS=10\n",
      "env: OPEN_BLAS_NUM_THREADS=10\n",
      "env: NUMEXPR_NUM_THREADS=10\n",
      "env: OMP_NUM_THREADS=10\n"
     ]
    }
   ],
   "source": [
    "%env MKL_NUM_THREADS=$N_JOBS\n",
    "%env OPEN_BLAS_NUM_THREADS=$N_JOBS\n",
    "%env NUMEXPR_NUM_THREADS=$N_JOBS\n",
    "%env OMP_NUM_THREADS=$N_JOBS"
   ]
  },
  {
   "cell_type": "markdown",
   "id": "33f4c54c",
   "metadata": {
    "papermill": {
     "duration": 0.007015,
     "end_time": "2022-11-26T05:30:59.216541",
     "exception": false,
     "start_time": "2022-11-26T05:30:59.209526",
     "status": "completed"
    },
    "tags": []
   },
   "source": [
    "# Modules loading"
   ]
  },
  {
   "cell_type": "code",
   "execution_count": 3,
   "id": "01612083",
   "metadata": {
    "execution": {
     "iopub.execute_input": "2022-11-26T05:30:59.231476Z",
     "iopub.status.busy": "2022-11-26T05:30:59.231247Z",
     "iopub.status.idle": "2022-11-26T05:30:59.244970Z",
     "shell.execute_reply": "2022-11-26T05:30:59.244555Z"
    },
    "papermill": {
     "duration": 0.022093,
     "end_time": "2022-11-26T05:30:59.245850",
     "exception": false,
     "start_time": "2022-11-26T05:30:59.223757",
     "status": "completed"
    },
    "tags": []
   },
   "outputs": [],
   "source": [
    "%load_ext autoreload\n",
    "%autoreload 2"
   ]
  },
  {
   "cell_type": "code",
   "execution_count": 4,
   "id": "4f28f7d0",
   "metadata": {
    "execution": {
     "iopub.execute_input": "2022-11-26T05:30:59.261305Z",
     "iopub.status.busy": "2022-11-26T05:30:59.261080Z",
     "iopub.status.idle": "2022-11-26T05:30:59.765874Z",
     "shell.execute_reply": "2022-11-26T05:30:59.765560Z"
    },
    "papermill": {
     "duration": 0.514651,
     "end_time": "2022-11-26T05:30:59.767535",
     "exception": false,
     "start_time": "2022-11-26T05:30:59.252884",
     "status": "completed"
    },
    "tags": []
   },
   "outputs": [],
   "source": [
    "from pathlib import Path\n",
    "\n",
    "import numpy as np\n",
    "import pandas as pd\n",
    "import matplotlib.pyplot as plt\n",
    "import seaborn as sns\n",
    "\n",
    "from utils import generate_result_set_name"
   ]
  },
  {
   "cell_type": "markdown",
   "id": "77b279ca",
   "metadata": {
    "papermill": {
     "duration": 0.012467,
     "end_time": "2022-11-26T05:30:59.793050",
     "exception": false,
     "start_time": "2022-11-26T05:30:59.780583",
     "status": "completed"
    },
    "tags": []
   },
   "source": [
    "# Settings"
   ]
  },
  {
   "cell_type": "code",
   "execution_count": 5,
   "id": "e0d6f321",
   "metadata": {
    "execution": {
     "iopub.execute_input": "2022-11-26T05:30:59.819857Z",
     "iopub.status.busy": "2022-11-26T05:30:59.819717Z",
     "iopub.status.idle": "2022-11-26T05:30:59.831507Z",
     "shell.execute_reply": "2022-11-26T05:30:59.831231Z"
    },
    "papermill": {
     "duration": 0.02697,
     "end_time": "2022-11-26T05:30:59.832831",
     "exception": false,
     "start_time": "2022-11-26T05:30:59.805861",
     "status": "completed"
    },
    "tags": []
   },
   "outputs": [],
   "source": [
    "np.random.seed(0)"
   ]
  },
  {
   "cell_type": "code",
   "execution_count": 6,
   "id": "e0b29143",
   "metadata": {
    "execution": {
     "iopub.execute_input": "2022-11-26T05:30:59.883789Z",
     "iopub.status.busy": "2022-11-26T05:30:59.883363Z",
     "iopub.status.idle": "2022-11-26T05:30:59.902429Z",
     "shell.execute_reply": "2022-11-26T05:30:59.902052Z"
    },
    "papermill": {
     "duration": 0.028089,
     "end_time": "2022-11-26T05:30:59.903405",
     "exception": false,
     "start_time": "2022-11-26T05:30:59.875316",
     "status": "completed"
    },
    "tags": []
   },
   "outputs": [],
   "source": [
    "INITIAL_RANDOM_STATE = 60000"
   ]
  },
  {
   "cell_type": "code",
   "execution_count": 7,
   "id": "654eecf2-2078-46c6-838b-2762b82f9fbc",
   "metadata": {
    "execution": {
     "iopub.execute_input": "2022-11-26T05:30:59.919304Z",
     "iopub.status.busy": "2022-11-26T05:30:59.918893Z",
     "iopub.status.idle": "2022-11-26T05:30:59.938162Z",
     "shell.execute_reply": "2022-11-26T05:30:59.937784Z"
    },
    "papermill": {
     "duration": 0.028296,
     "end_time": "2022-11-26T05:30:59.939090",
     "exception": false,
     "start_time": "2022-11-26T05:30:59.910794",
     "status": "completed"
    },
    "tags": []
   },
   "outputs": [],
   "source": [
    "NULL_DIR = conf.RESULTS[\"CLUSTERING_NULL_DIR\"] / \"shuffle_genes\""
   ]
  },
  {
   "cell_type": "markdown",
   "id": "c43db9e4",
   "metadata": {
    "papermill": {
     "duration": 0.007135,
     "end_time": "2022-11-26T05:30:59.953278",
     "exception": false,
     "start_time": "2022-11-26T05:30:59.946143",
     "status": "completed"
    },
    "tags": []
   },
   "source": [
    "## Input data"
   ]
  },
  {
   "cell_type": "code",
   "execution_count": 8,
   "id": "97121761",
   "metadata": {
    "execution": {
     "iopub.execute_input": "2022-11-26T05:30:59.969495Z",
     "iopub.status.busy": "2022-11-26T05:30:59.969127Z",
     "iopub.status.idle": "2022-11-26T05:30:59.988608Z",
     "shell.execute_reply": "2022-11-26T05:30:59.988205Z"
    },
    "papermill": {
     "duration": 0.028657,
     "end_time": "2022-11-26T05:30:59.989776",
     "exception": false,
     "start_time": "2022-11-26T05:30:59.961119",
     "status": "completed"
    },
    "tags": []
   },
   "outputs": [],
   "source": [
    "INPUT_SUBSET = \"z_score_std\""
   ]
  },
  {
   "cell_type": "code",
   "execution_count": 9,
   "id": "68e6dd38",
   "metadata": {
    "execution": {
     "iopub.execute_input": "2022-11-26T05:31:00.007364Z",
     "iopub.status.busy": "2022-11-26T05:31:00.006931Z",
     "iopub.status.idle": "2022-11-26T05:31:00.027130Z",
     "shell.execute_reply": "2022-11-26T05:31:00.026728Z"
    },
    "papermill": {
     "duration": 0.031735,
     "end_time": "2022-11-26T05:31:00.028341",
     "exception": false,
     "start_time": "2022-11-26T05:30:59.996606",
     "status": "completed"
    },
    "tags": []
   },
   "outputs": [],
   "source": [
    "INPUT_STEM = \"projection-smultixcan-efo_partial-mashr-zscores\""
   ]
  },
  {
   "cell_type": "code",
   "execution_count": 10,
   "id": "dd6320a6",
   "metadata": {
    "execution": {
     "iopub.execute_input": "2022-11-26T05:31:00.043873Z",
     "iopub.status.busy": "2022-11-26T05:31:00.043544Z",
     "iopub.status.idle": "2022-11-26T05:31:00.061865Z",
     "shell.execute_reply": "2022-11-26T05:31:00.061520Z"
    },
    "papermill": {
     "duration": 0.027052,
     "end_time": "2022-11-26T05:31:00.062631",
     "exception": false,
     "start_time": "2022-11-26T05:31:00.035579",
     "status": "completed"
    },
    "tags": []
   },
   "outputs": [
    {
     "data": {
      "text/plain": [
       "PosixPath('/opt/data/results/clustering/null_sims/shuffle_genes/data_transformations/z_score_std/z_score_std-projection-smultixcan-efo_partial-mashr-zscores.pkl')"
      ]
     },
     "metadata": {},
     "output_type": "display_data"
    },
    {
     "data": {
      "text/plain": [
       "'z_score_std-projection-smultixcan-efo_partial-mashr-zscores'"
      ]
     },
     "metadata": {},
     "output_type": "display_data"
    }
   ],
   "source": [
    "input_filepath = Path(\n",
    "    NULL_DIR,\n",
    "    \"data_transformations\",\n",
    "    INPUT_SUBSET,\n",
    "    f\"{INPUT_SUBSET}-{INPUT_STEM}.pkl\",\n",
    ").resolve()\n",
    "display(input_filepath)\n",
    "\n",
    "assert input_filepath.exists(), \"Input file does not exist\"\n",
    "\n",
    "input_filepath_stem = input_filepath.stem\n",
    "display(input_filepath_stem)"
   ]
  },
  {
   "cell_type": "markdown",
   "id": "f7e9946e",
   "metadata": {
    "papermill": {
     "duration": 0.007018,
     "end_time": "2022-11-26T05:31:00.076451",
     "exception": false,
     "start_time": "2022-11-26T05:31:00.069433",
     "status": "completed"
    },
    "tags": []
   },
   "source": [
    "## Clustering"
   ]
  },
  {
   "cell_type": "code",
   "execution_count": 11,
   "id": "83aaf504",
   "metadata": {
    "execution": {
     "iopub.execute_input": "2022-11-26T05:31:00.090463Z",
     "iopub.status.busy": "2022-11-26T05:31:00.090231Z",
     "iopub.status.idle": "2022-11-26T05:31:00.164016Z",
     "shell.execute_reply": "2022-11-26T05:31:00.163722Z"
    },
    "papermill": {
     "duration": 0.082619,
     "end_time": "2022-11-26T05:31:00.165629",
     "exception": false,
     "start_time": "2022-11-26T05:31:00.083010",
     "status": "completed"
    },
    "tags": []
   },
   "outputs": [],
   "source": [
    "from sklearn.mixture import GaussianMixture"
   ]
  },
  {
   "cell_type": "code",
   "execution_count": 12,
   "id": "d0154046",
   "metadata": {
    "execution": {
     "iopub.execute_input": "2022-11-26T05:31:00.193652Z",
     "iopub.status.busy": "2022-11-26T05:31:00.193482Z",
     "iopub.status.idle": "2022-11-26T05:31:00.213344Z",
     "shell.execute_reply": "2022-11-26T05:31:00.212842Z"
    },
    "papermill": {
     "duration": 0.035076,
     "end_time": "2022-11-26T05:31:00.214762",
     "exception": false,
     "start_time": "2022-11-26T05:31:00.179686",
     "status": "completed"
    },
    "tags": []
   },
   "outputs": [],
   "source": [
    "CLUSTERING_ATTRIBUTES_TO_SAVE = [\"n_clusters\"]"
   ]
  },
  {
   "cell_type": "code",
   "execution_count": 13,
   "id": "79c52fa6",
   "metadata": {
    "execution": {
     "iopub.execute_input": "2022-11-26T05:31:00.242117Z",
     "iopub.status.busy": "2022-11-26T05:31:00.241573Z",
     "iopub.status.idle": "2022-11-26T05:31:00.264523Z",
     "shell.execute_reply": "2022-11-26T05:31:00.264061Z"
    },
    "papermill": {
     "duration": 0.037812,
     "end_time": "2022-11-26T05:31:00.265854",
     "exception": false,
     "start_time": "2022-11-26T05:31:00.228042",
     "status": "completed"
    },
    "tags": []
   },
   "outputs": [
    {
     "data": {
      "text/plain": [
       "{'K_MIN': 2,\n",
       " 'K_MAX': 60,\n",
       " 'N_REPS_PER_K': 5,\n",
       " 'N_INIT': 10,\n",
       " 'COVARIANCE_TYPE': 'full'}"
      ]
     },
     "metadata": {},
     "output_type": "display_data"
    }
   ],
   "source": [
    "CLUSTERING_OPTIONS = {}\n",
    "\n",
    "CLUSTERING_OPTIONS[\"K_MIN\"] = 2\n",
    "CLUSTERING_OPTIONS[\"K_MAX\"] = 60  # sqrt(3749)\n",
    "CLUSTERING_OPTIONS[\"N_REPS_PER_K\"] = 5\n",
    "CLUSTERING_OPTIONS[\"N_INIT\"] = 10\n",
    "CLUSTERING_OPTIONS[\"COVARIANCE_TYPE\"] = \"full\"\n",
    "\n",
    "display(CLUSTERING_OPTIONS)"
   ]
  },
  {
   "cell_type": "code",
   "execution_count": 14,
   "id": "3fa83082",
   "metadata": {
    "execution": {
     "iopub.execute_input": "2022-11-26T05:31:00.293486Z",
     "iopub.status.busy": "2022-11-26T05:31:00.293213Z",
     "iopub.status.idle": "2022-11-26T05:31:00.317547Z",
     "shell.execute_reply": "2022-11-26T05:31:00.317111Z"
    },
    "papermill": {
     "duration": 0.039463,
     "end_time": "2022-11-26T05:31:00.318936",
     "exception": false,
     "start_time": "2022-11-26T05:31:00.279473",
     "status": "completed"
    },
    "tags": []
   },
   "outputs": [],
   "source": [
    "CLUSTERERS = {}\n",
    "\n",
    "idx = 0\n",
    "random_state = INITIAL_RANDOM_STATE\n",
    "\n",
    "for k in range(CLUSTERING_OPTIONS[\"K_MIN\"], CLUSTERING_OPTIONS[\"K_MAX\"] + 1):\n",
    "    for i in range(CLUSTERING_OPTIONS[\"N_REPS_PER_K\"]):\n",
    "        clus = GaussianMixture(\n",
    "            n_components=k,\n",
    "            n_init=CLUSTERING_OPTIONS[\"N_INIT\"],\n",
    "            covariance_type=CLUSTERING_OPTIONS[\"COVARIANCE_TYPE\"],\n",
    "            random_state=random_state,\n",
    "        )\n",
    "\n",
    "        method_name = type(clus).__name__\n",
    "        CLUSTERERS[f\"{method_name} #{idx}\"] = clus\n",
    "\n",
    "        random_state = random_state + 1\n",
    "        idx = idx + 1"
   ]
  },
  {
   "cell_type": "code",
   "execution_count": 15,
   "id": "864864fb",
   "metadata": {
    "execution": {
     "iopub.execute_input": "2022-11-26T05:31:00.346577Z",
     "iopub.status.busy": "2022-11-26T05:31:00.346230Z",
     "iopub.status.idle": "2022-11-26T05:31:00.371573Z",
     "shell.execute_reply": "2022-11-26T05:31:00.371131Z"
    },
    "papermill": {
     "duration": 0.040794,
     "end_time": "2022-11-26T05:31:00.372908",
     "exception": false,
     "start_time": "2022-11-26T05:31:00.332114",
     "status": "completed"
    },
    "tags": []
   },
   "outputs": [
    {
     "data": {
      "text/plain": [
       "295"
      ]
     },
     "metadata": {},
     "output_type": "display_data"
    }
   ],
   "source": [
    "display(len(CLUSTERERS))"
   ]
  },
  {
   "cell_type": "code",
   "execution_count": 16,
   "id": "1fa9c278",
   "metadata": {
    "execution": {
     "iopub.execute_input": "2022-11-26T05:31:00.400509Z",
     "iopub.status.busy": "2022-11-26T05:31:00.400234Z",
     "iopub.status.idle": "2022-11-26T05:31:00.424789Z",
     "shell.execute_reply": "2022-11-26T05:31:00.424232Z"
    },
    "papermill": {
     "duration": 0.039885,
     "end_time": "2022-11-26T05:31:00.426185",
     "exception": false,
     "start_time": "2022-11-26T05:31:00.386300",
     "status": "completed"
    },
    "tags": []
   },
   "outputs": [
    {
     "data": {
      "text/plain": [
       "('GaussianMixture #0',\n",
       " GaussianMixture(n_components=2, n_init=10, random_state=60000))"
      ]
     },
     "metadata": {},
     "output_type": "display_data"
    },
    {
     "data": {
      "text/plain": [
       "('GaussianMixture #1',\n",
       " GaussianMixture(n_components=2, n_init=10, random_state=60001))"
      ]
     },
     "metadata": {},
     "output_type": "display_data"
    }
   ],
   "source": [
    "_iter = iter(CLUSTERERS.items())\n",
    "display(next(_iter))\n",
    "display(next(_iter))"
   ]
  },
  {
   "cell_type": "code",
   "execution_count": 17,
   "id": "67376c18",
   "metadata": {
    "execution": {
     "iopub.execute_input": "2022-11-26T05:31:00.455112Z",
     "iopub.status.busy": "2022-11-26T05:31:00.454611Z",
     "iopub.status.idle": "2022-11-26T05:31:00.476824Z",
     "shell.execute_reply": "2022-11-26T05:31:00.476352Z"
    },
    "papermill": {
     "duration": 0.037539,
     "end_time": "2022-11-26T05:31:00.478191",
     "exception": false,
     "start_time": "2022-11-26T05:31:00.440652",
     "status": "completed"
    },
    "tags": []
   },
   "outputs": [
    {
     "data": {
      "text/plain": [
       "'GaussianMixture'"
      ]
     },
     "metadata": {},
     "output_type": "display_data"
    }
   ],
   "source": [
    "clustering_method_name = method_name\n",
    "display(clustering_method_name)"
   ]
  },
  {
   "cell_type": "markdown",
   "id": "58dca7c9",
   "metadata": {
    "papermill": {
     "duration": 0.013196,
     "end_time": "2022-11-26T05:31:00.505029",
     "exception": false,
     "start_time": "2022-11-26T05:31:00.491833",
     "status": "completed"
    },
    "tags": []
   },
   "source": [
    "## Output directory"
   ]
  },
  {
   "cell_type": "code",
   "execution_count": 18,
   "id": "4295d14a",
   "metadata": {
    "execution": {
     "iopub.execute_input": "2022-11-26T05:31:00.531575Z",
     "iopub.status.busy": "2022-11-26T05:31:00.531062Z",
     "iopub.status.idle": "2022-11-26T05:31:00.554928Z",
     "shell.execute_reply": "2022-11-26T05:31:00.554462Z"
    },
    "papermill": {
     "duration": 0.036801,
     "end_time": "2022-11-26T05:31:00.555786",
     "exception": false,
     "start_time": "2022-11-26T05:31:00.518985",
     "status": "completed"
    },
    "tags": []
   },
   "outputs": [
    {
     "data": {
      "text/plain": [
       "PosixPath('/opt/data/results/clustering/null_sims/shuffle_genes/runs/z_score_std-projection-smultixcan-efo_partial-mashr-zscores')"
      ]
     },
     "metadata": {},
     "output_type": "display_data"
    }
   ],
   "source": [
    "# output dir for this notebook\n",
    "RESULTS_DIR = Path(\n",
    "    NULL_DIR,\n",
    "    \"runs\",\n",
    "    f\"{INPUT_SUBSET}-{INPUT_STEM}\",\n",
    ").resolve()\n",
    "RESULTS_DIR.mkdir(parents=True, exist_ok=True)\n",
    "\n",
    "display(RESULTS_DIR)"
   ]
  },
  {
   "cell_type": "markdown",
   "id": "b842ec3c",
   "metadata": {
    "papermill": {
     "duration": 0.007216,
     "end_time": "2022-11-26T05:31:00.570151",
     "exception": false,
     "start_time": "2022-11-26T05:31:00.562935",
     "status": "completed"
    },
    "tags": []
   },
   "source": [
    "# Load input file"
   ]
  },
  {
   "cell_type": "code",
   "execution_count": 19,
   "id": "1a603523",
   "metadata": {
    "execution": {
     "iopub.execute_input": "2022-11-26T05:31:00.584711Z",
     "iopub.status.busy": "2022-11-26T05:31:00.584425Z",
     "iopub.status.idle": "2022-11-26T05:31:00.624232Z",
     "shell.execute_reply": "2022-11-26T05:31:00.623686Z"
    },
    "papermill": {
     "duration": 0.048459,
     "end_time": "2022-11-26T05:31:00.625392",
     "exception": false,
     "start_time": "2022-11-26T05:31:00.576933",
     "status": "completed"
    },
    "tags": []
   },
   "outputs": [],
   "source": [
    "data = pd.read_pickle(input_filepath)"
   ]
  },
  {
   "cell_type": "code",
   "execution_count": 20,
   "id": "e1351fc7",
   "metadata": {
    "execution": {
     "iopub.execute_input": "2022-11-26T05:31:00.641237Z",
     "iopub.status.busy": "2022-11-26T05:31:00.640765Z",
     "iopub.status.idle": "2022-11-26T05:31:00.663230Z",
     "shell.execute_reply": "2022-11-26T05:31:00.662789Z"
    },
    "papermill": {
     "duration": 0.03082,
     "end_time": "2022-11-26T05:31:00.664069",
     "exception": false,
     "start_time": "2022-11-26T05:31:00.633249",
     "status": "completed"
    },
    "tags": []
   },
   "outputs": [
    {
     "data": {
      "text/plain": [
       "(3752, 987)"
      ]
     },
     "execution_count": 20,
     "metadata": {},
     "output_type": "execute_result"
    }
   ],
   "source": [
    "data.shape"
   ]
  },
  {
   "cell_type": "code",
   "execution_count": 21,
   "id": "326db1d5",
   "metadata": {
    "execution": {
     "iopub.execute_input": "2022-11-26T05:31:00.679943Z",
     "iopub.status.busy": "2022-11-26T05:31:00.679362Z",
     "iopub.status.idle": "2022-11-26T05:31:00.718738Z",
     "shell.execute_reply": "2022-11-26T05:31:00.718251Z"
    },
    "papermill": {
     "duration": 0.048615,
     "end_time": "2022-11-26T05:31:00.719842",
     "exception": false,
     "start_time": "2022-11-26T05:31:00.671227",
     "status": "completed"
    },
    "tags": []
   },
   "outputs": [
    {
     "data": {
      "text/html": [
       "<div>\n",
       "<style scoped>\n",
       "    .dataframe tbody tr th:only-of-type {\n",
       "        vertical-align: middle;\n",
       "    }\n",
       "\n",
       "    .dataframe tbody tr th {\n",
       "        vertical-align: top;\n",
       "    }\n",
       "\n",
       "    .dataframe thead th {\n",
       "        text-align: right;\n",
       "    }\n",
       "</style>\n",
       "<table border=\"1\" class=\"dataframe\">\n",
       "  <thead>\n",
       "    <tr style=\"text-align: right;\">\n",
       "      <th></th>\n",
       "      <th>LV1</th>\n",
       "      <th>LV2</th>\n",
       "      <th>LV3</th>\n",
       "      <th>LV4</th>\n",
       "      <th>LV5</th>\n",
       "      <th>LV6</th>\n",
       "      <th>LV7</th>\n",
       "      <th>LV8</th>\n",
       "      <th>LV9</th>\n",
       "      <th>LV10</th>\n",
       "      <th>...</th>\n",
       "      <th>LV978</th>\n",
       "      <th>LV979</th>\n",
       "      <th>LV980</th>\n",
       "      <th>LV981</th>\n",
       "      <th>LV982</th>\n",
       "      <th>LV983</th>\n",
       "      <th>LV984</th>\n",
       "      <th>LV985</th>\n",
       "      <th>LV986</th>\n",
       "      <th>LV987</th>\n",
       "    </tr>\n",
       "  </thead>\n",
       "  <tbody>\n",
       "    <tr>\n",
       "      <th>100001_raw-Food_weight</th>\n",
       "      <td>-0.175043</td>\n",
       "      <td>-0.710171</td>\n",
       "      <td>-1.000846</td>\n",
       "      <td>0.693026</td>\n",
       "      <td>0.409413</td>\n",
       "      <td>0.642958</td>\n",
       "      <td>1.767862</td>\n",
       "      <td>-1.070425</td>\n",
       "      <td>0.809395</td>\n",
       "      <td>-1.555050</td>\n",
       "      <td>...</td>\n",
       "      <td>-0.932802</td>\n",
       "      <td>0.371349</td>\n",
       "      <td>-0.521787</td>\n",
       "      <td>-0.881136</td>\n",
       "      <td>-1.193309</td>\n",
       "      <td>-0.257883</td>\n",
       "      <td>1.382268</td>\n",
       "      <td>0.066549</td>\n",
       "      <td>-0.866086</td>\n",
       "      <td>0.847997</td>\n",
       "    </tr>\n",
       "    <tr>\n",
       "      <th>100002_raw-Energy</th>\n",
       "      <td>0.531227</td>\n",
       "      <td>0.894062</td>\n",
       "      <td>1.191552</td>\n",
       "      <td>-0.143922</td>\n",
       "      <td>0.217867</td>\n",
       "      <td>0.529878</td>\n",
       "      <td>0.219561</td>\n",
       "      <td>-1.538143</td>\n",
       "      <td>-0.166704</td>\n",
       "      <td>1.042749</td>\n",
       "      <td>...</td>\n",
       "      <td>-0.601329</td>\n",
       "      <td>0.625139</td>\n",
       "      <td>-0.113048</td>\n",
       "      <td>-1.477163</td>\n",
       "      <td>0.746773</td>\n",
       "      <td>0.316892</td>\n",
       "      <td>-0.660407</td>\n",
       "      <td>1.501067</td>\n",
       "      <td>0.543744</td>\n",
       "      <td>1.094294</td>\n",
       "    </tr>\n",
       "    <tr>\n",
       "      <th>100003_raw-Protein</th>\n",
       "      <td>0.405395</td>\n",
       "      <td>0.925288</td>\n",
       "      <td>-0.339507</td>\n",
       "      <td>0.799476</td>\n",
       "      <td>-0.512075</td>\n",
       "      <td>0.586632</td>\n",
       "      <td>0.361706</td>\n",
       "      <td>0.226860</td>\n",
       "      <td>1.208289</td>\n",
       "      <td>-1.880931</td>\n",
       "      <td>...</td>\n",
       "      <td>-0.489171</td>\n",
       "      <td>0.276717</td>\n",
       "      <td>-0.159505</td>\n",
       "      <td>-1.271106</td>\n",
       "      <td>0.300351</td>\n",
       "      <td>0.595915</td>\n",
       "      <td>0.509020</td>\n",
       "      <td>-0.127540</td>\n",
       "      <td>-0.811987</td>\n",
       "      <td>-1.108812</td>\n",
       "    </tr>\n",
       "    <tr>\n",
       "      <th>100004_raw-Fat</th>\n",
       "      <td>-0.156230</td>\n",
       "      <td>0.881426</td>\n",
       "      <td>0.395527</td>\n",
       "      <td>-1.570256</td>\n",
       "      <td>1.240955</td>\n",
       "      <td>2.064595</td>\n",
       "      <td>-0.547373</td>\n",
       "      <td>-1.228389</td>\n",
       "      <td>0.319684</td>\n",
       "      <td>0.858253</td>\n",
       "      <td>...</td>\n",
       "      <td>-0.407151</td>\n",
       "      <td>-1.217662</td>\n",
       "      <td>-0.361052</td>\n",
       "      <td>0.813221</td>\n",
       "      <td>-0.692981</td>\n",
       "      <td>1.099523</td>\n",
       "      <td>-0.017366</td>\n",
       "      <td>0.361278</td>\n",
       "      <td>-0.017222</td>\n",
       "      <td>1.750511</td>\n",
       "    </tr>\n",
       "    <tr>\n",
       "      <th>100005_raw-Carbohydrate</th>\n",
       "      <td>-0.142531</td>\n",
       "      <td>-0.521907</td>\n",
       "      <td>1.069304</td>\n",
       "      <td>0.548122</td>\n",
       "      <td>-0.422146</td>\n",
       "      <td>-1.330718</td>\n",
       "      <td>-1.260872</td>\n",
       "      <td>1.003617</td>\n",
       "      <td>1.266289</td>\n",
       "      <td>0.065408</td>\n",
       "      <td>...</td>\n",
       "      <td>1.506698</td>\n",
       "      <td>-0.069854</td>\n",
       "      <td>-0.084662</td>\n",
       "      <td>-1.269536</td>\n",
       "      <td>-0.421185</td>\n",
       "      <td>0.431180</td>\n",
       "      <td>1.673162</td>\n",
       "      <td>-0.954336</td>\n",
       "      <td>0.026593</td>\n",
       "      <td>0.655359</td>\n",
       "    </tr>\n",
       "  </tbody>\n",
       "</table>\n",
       "<p>5 rows × 987 columns</p>\n",
       "</div>"
      ],
      "text/plain": [
       "                              LV1       LV2       LV3       LV4       LV5  \\\n",
       "100001_raw-Food_weight  -0.175043 -0.710171 -1.000846  0.693026  0.409413   \n",
       "100002_raw-Energy        0.531227  0.894062  1.191552 -0.143922  0.217867   \n",
       "100003_raw-Protein       0.405395  0.925288 -0.339507  0.799476 -0.512075   \n",
       "100004_raw-Fat          -0.156230  0.881426  0.395527 -1.570256  1.240955   \n",
       "100005_raw-Carbohydrate -0.142531 -0.521907  1.069304  0.548122 -0.422146   \n",
       "\n",
       "                              LV6       LV7       LV8       LV9      LV10  \\\n",
       "100001_raw-Food_weight   0.642958  1.767862 -1.070425  0.809395 -1.555050   \n",
       "100002_raw-Energy        0.529878  0.219561 -1.538143 -0.166704  1.042749   \n",
       "100003_raw-Protein       0.586632  0.361706  0.226860  1.208289 -1.880931   \n",
       "100004_raw-Fat           2.064595 -0.547373 -1.228389  0.319684  0.858253   \n",
       "100005_raw-Carbohydrate -1.330718 -1.260872  1.003617  1.266289  0.065408   \n",
       "\n",
       "                         ...     LV978     LV979     LV980     LV981  \\\n",
       "100001_raw-Food_weight   ... -0.932802  0.371349 -0.521787 -0.881136   \n",
       "100002_raw-Energy        ... -0.601329  0.625139 -0.113048 -1.477163   \n",
       "100003_raw-Protein       ... -0.489171  0.276717 -0.159505 -1.271106   \n",
       "100004_raw-Fat           ... -0.407151 -1.217662 -0.361052  0.813221   \n",
       "100005_raw-Carbohydrate  ...  1.506698 -0.069854 -0.084662 -1.269536   \n",
       "\n",
       "                            LV982     LV983     LV984     LV985     LV986  \\\n",
       "100001_raw-Food_weight  -1.193309 -0.257883  1.382268  0.066549 -0.866086   \n",
       "100002_raw-Energy        0.746773  0.316892 -0.660407  1.501067  0.543744   \n",
       "100003_raw-Protein       0.300351  0.595915  0.509020 -0.127540 -0.811987   \n",
       "100004_raw-Fat          -0.692981  1.099523 -0.017366  0.361278 -0.017222   \n",
       "100005_raw-Carbohydrate -0.421185  0.431180  1.673162 -0.954336  0.026593   \n",
       "\n",
       "                            LV987  \n",
       "100001_raw-Food_weight   0.847997  \n",
       "100002_raw-Energy        1.094294  \n",
       "100003_raw-Protein      -1.108812  \n",
       "100004_raw-Fat           1.750511  \n",
       "100005_raw-Carbohydrate  0.655359  \n",
       "\n",
       "[5 rows x 987 columns]"
      ]
     },
     "execution_count": 21,
     "metadata": {},
     "output_type": "execute_result"
    }
   ],
   "source": [
    "data.head()"
   ]
  },
  {
   "cell_type": "code",
   "execution_count": 22,
   "id": "b38dd9d1",
   "metadata": {
    "execution": {
     "iopub.execute_input": "2022-11-26T05:31:00.742705Z",
     "iopub.status.busy": "2022-11-26T05:31:00.742229Z",
     "iopub.status.idle": "2022-11-26T05:31:00.771440Z",
     "shell.execute_reply": "2022-11-26T05:31:00.770919Z"
    },
    "papermill": {
     "duration": 0.041899,
     "end_time": "2022-11-26T05:31:00.772870",
     "exception": false,
     "start_time": "2022-11-26T05:31:00.730971",
     "status": "completed"
    },
    "tags": []
   },
   "outputs": [],
   "source": [
    "assert not data.isna().any().any()"
   ]
  },
  {
   "cell_type": "markdown",
   "id": "3bfb7eef",
   "metadata": {
    "papermill": {
     "duration": 0.010552,
     "end_time": "2022-11-26T05:31:00.795173",
     "exception": false,
     "start_time": "2022-11-26T05:31:00.784621",
     "status": "completed"
    },
    "tags": []
   },
   "source": [
    "# Clustering"
   ]
  },
  {
   "cell_type": "markdown",
   "id": "8a11fe22",
   "metadata": {
    "papermill": {
     "duration": 0.010665,
     "end_time": "2022-11-26T05:31:00.816364",
     "exception": false,
     "start_time": "2022-11-26T05:31:00.805699",
     "status": "completed"
    },
    "tags": []
   },
   "source": [
    "## Generate ensemble"
   ]
  },
  {
   "cell_type": "code",
   "execution_count": 23,
   "id": "77768dbf",
   "metadata": {
    "execution": {
     "iopub.execute_input": "2022-11-26T05:31:00.839976Z",
     "iopub.status.busy": "2022-11-26T05:31:00.839661Z",
     "iopub.status.idle": "2022-11-26T05:31:00.866804Z",
     "shell.execute_reply": "2022-11-26T05:31:00.866322Z"
    },
    "papermill": {
     "duration": 0.041225,
     "end_time": "2022-11-26T05:31:00.867880",
     "exception": false,
     "start_time": "2022-11-26T05:31:00.826655",
     "status": "completed"
    },
    "tags": []
   },
   "outputs": [],
   "source": [
    "from clustering.ensembles.utils import generate_ensemble"
   ]
  },
  {
   "cell_type": "code",
   "execution_count": 24,
   "id": "f62d3c53",
   "metadata": {
    "execution": {
     "iopub.execute_input": "2022-11-26T05:31:00.884324Z",
     "iopub.status.busy": "2022-11-26T05:31:00.883985Z",
     "iopub.status.idle": "2022-11-26T11:37:48.838628Z",
     "shell.execute_reply": "2022-11-26T11:37:48.838346Z"
    },
    "papermill": {
     "duration": 22007.981145,
     "end_time": "2022-11-26T11:37:48.857253",
     "exception": false,
     "start_time": "2022-11-26T05:31:00.876108",
     "status": "completed"
    },
    "tags": []
   },
   "outputs": [
    {
     "name": "stderr",
     "output_type": "stream",
     "text": [
      "100%|██████████| 295/295 [6:06:47<00:00, 74.60s/it] \n"
     ]
    }
   ],
   "source": [
    "ensemble = generate_ensemble(\n",
    "    data,\n",
    "    CLUSTERERS,\n",
    "    attributes=CLUSTERING_ATTRIBUTES_TO_SAVE,\n",
    ")"
   ]
  },
  {
   "cell_type": "code",
   "execution_count": 25,
   "id": "e555bea6",
   "metadata": {
    "execution": {
     "iopub.execute_input": "2022-11-26T11:37:48.912557Z",
     "iopub.status.busy": "2022-11-26T11:37:48.912408Z",
     "iopub.status.idle": "2022-11-26T11:37:48.929762Z",
     "shell.execute_reply": "2022-11-26T11:37:48.929489Z"
    },
    "papermill": {
     "duration": 0.042789,
     "end_time": "2022-11-26T11:37:48.930504",
     "exception": false,
     "start_time": "2022-11-26T11:37:48.887715",
     "status": "completed"
    },
    "tags": []
   },
   "outputs": [
    {
     "data": {
      "text/plain": [
       "(295, 3)"
      ]
     },
     "execution_count": 25,
     "metadata": {},
     "output_type": "execute_result"
    }
   ],
   "source": [
    "# the number should be close to 295 (the number of partitions generated by k-means/spectral clustering)\n",
    "ensemble.shape"
   ]
  },
  {
   "cell_type": "code",
   "execution_count": 26,
   "id": "a0fd5d64",
   "metadata": {
    "execution": {
     "iopub.execute_input": "2022-11-26T11:37:48.962632Z",
     "iopub.status.busy": "2022-11-26T11:37:48.962338Z",
     "iopub.status.idle": "2022-11-26T11:37:48.993975Z",
     "shell.execute_reply": "2022-11-26T11:37:48.993642Z"
    },
    "papermill": {
     "duration": 0.048556,
     "end_time": "2022-11-26T11:37:48.994945",
     "exception": false,
     "start_time": "2022-11-26T11:37:48.946389",
     "status": "completed"
    },
    "tags": []
   },
   "outputs": [
    {
     "data": {
      "text/html": [
       "<div>\n",
       "<style scoped>\n",
       "    .dataframe tbody tr th:only-of-type {\n",
       "        vertical-align: middle;\n",
       "    }\n",
       "\n",
       "    .dataframe tbody tr th {\n",
       "        vertical-align: top;\n",
       "    }\n",
       "\n",
       "    .dataframe thead th {\n",
       "        text-align: right;\n",
       "    }\n",
       "</style>\n",
       "<table border=\"1\" class=\"dataframe\">\n",
       "  <thead>\n",
       "    <tr style=\"text-align: right;\">\n",
       "      <th></th>\n",
       "      <th>clusterer_params</th>\n",
       "      <th>partition</th>\n",
       "      <th>n_clusters</th>\n",
       "    </tr>\n",
       "    <tr>\n",
       "      <th>clusterer_id</th>\n",
       "      <th></th>\n",
       "      <th></th>\n",
       "      <th></th>\n",
       "    </tr>\n",
       "  </thead>\n",
       "  <tbody>\n",
       "    <tr>\n",
       "      <th>GaussianMixture #0</th>\n",
       "      <td>{'covariance_type': 'full', 'init_params': 'km...</td>\n",
       "      <td>[1.0, 1.0, 1.0, 0.0, 0.0, 1.0, 1.0, 1.0, 1.0, ...</td>\n",
       "      <td>2</td>\n",
       "    </tr>\n",
       "    <tr>\n",
       "      <th>GaussianMixture #1</th>\n",
       "      <td>{'covariance_type': 'full', 'init_params': 'km...</td>\n",
       "      <td>[0.0, 1.0, 1.0, 1.0, 1.0, 1.0, 1.0, 1.0, 0.0, ...</td>\n",
       "      <td>2</td>\n",
       "    </tr>\n",
       "    <tr>\n",
       "      <th>GaussianMixture #2</th>\n",
       "      <td>{'covariance_type': 'full', 'init_params': 'km...</td>\n",
       "      <td>[0.0, 0.0, 0.0, 0.0, 0.0, 0.0, 0.0, 0.0, 1.0, ...</td>\n",
       "      <td>2</td>\n",
       "    </tr>\n",
       "    <tr>\n",
       "      <th>GaussianMixture #3</th>\n",
       "      <td>{'covariance_type': 'full', 'init_params': 'km...</td>\n",
       "      <td>[1.0, 1.0, 1.0, 0.0, 0.0, 1.0, 1.0, 1.0, 0.0, ...</td>\n",
       "      <td>2</td>\n",
       "    </tr>\n",
       "    <tr>\n",
       "      <th>GaussianMixture #4</th>\n",
       "      <td>{'covariance_type': 'full', 'init_params': 'km...</td>\n",
       "      <td>[0.0, 1.0, 1.0, 1.0, 1.0, 1.0, 1.0, 0.0, 1.0, ...</td>\n",
       "      <td>2</td>\n",
       "    </tr>\n",
       "  </tbody>\n",
       "</table>\n",
       "</div>"
      ],
      "text/plain": [
       "                                                     clusterer_params  \\\n",
       "clusterer_id                                                            \n",
       "GaussianMixture #0  {'covariance_type': 'full', 'init_params': 'km...   \n",
       "GaussianMixture #1  {'covariance_type': 'full', 'init_params': 'km...   \n",
       "GaussianMixture #2  {'covariance_type': 'full', 'init_params': 'km...   \n",
       "GaussianMixture #3  {'covariance_type': 'full', 'init_params': 'km...   \n",
       "GaussianMixture #4  {'covariance_type': 'full', 'init_params': 'km...   \n",
       "\n",
       "                                                            partition  \\\n",
       "clusterer_id                                                            \n",
       "GaussianMixture #0  [1.0, 1.0, 1.0, 0.0, 0.0, 1.0, 1.0, 1.0, 1.0, ...   \n",
       "GaussianMixture #1  [0.0, 1.0, 1.0, 1.0, 1.0, 1.0, 1.0, 1.0, 0.0, ...   \n",
       "GaussianMixture #2  [0.0, 0.0, 0.0, 0.0, 0.0, 0.0, 0.0, 0.0, 1.0, ...   \n",
       "GaussianMixture #3  [1.0, 1.0, 1.0, 0.0, 0.0, 1.0, 1.0, 1.0, 0.0, ...   \n",
       "GaussianMixture #4  [0.0, 1.0, 1.0, 1.0, 1.0, 1.0, 1.0, 0.0, 1.0, ...   \n",
       "\n",
       "                    n_clusters  \n",
       "clusterer_id                    \n",
       "GaussianMixture #0           2  \n",
       "GaussianMixture #1           2  \n",
       "GaussianMixture #2           2  \n",
       "GaussianMixture #3           2  \n",
       "GaussianMixture #4           2  "
      ]
     },
     "execution_count": 26,
     "metadata": {},
     "output_type": "execute_result"
    }
   ],
   "source": [
    "ensemble.head()"
   ]
  },
  {
   "cell_type": "code",
   "execution_count": 27,
   "id": "0e0a3687",
   "metadata": {
    "execution": {
     "iopub.execute_input": "2022-11-26T11:37:49.055393Z",
     "iopub.status.busy": "2022-11-26T11:37:49.055079Z",
     "iopub.status.idle": "2022-11-26T11:37:49.077106Z",
     "shell.execute_reply": "2022-11-26T11:37:49.076780Z"
    },
    "papermill": {
     "duration": 0.051845,
     "end_time": "2022-11-26T11:37:49.077920",
     "exception": false,
     "start_time": "2022-11-26T11:37:49.026075",
     "status": "completed"
    },
    "tags": []
   },
   "outputs": [
    {
     "data": {
      "text/plain": [
       "60    5\n",
       "16    5\n",
       "28    5\n",
       "27    5\n",
       "26    5\n",
       "Name: n_clusters, dtype: int64"
      ]
     },
     "execution_count": 27,
     "metadata": {},
     "output_type": "execute_result"
    }
   ],
   "source": [
    "ensemble[\"n_clusters\"].value_counts().head()"
   ]
  },
  {
   "cell_type": "code",
   "execution_count": 28,
   "id": "7672d8e1",
   "metadata": {
    "execution": {
     "iopub.execute_input": "2022-11-26T11:37:49.109863Z",
     "iopub.status.busy": "2022-11-26T11:37:49.109552Z",
     "iopub.status.idle": "2022-11-26T11:37:49.132810Z",
     "shell.execute_reply": "2022-11-26T11:37:49.132484Z"
    },
    "papermill": {
     "duration": 0.039893,
     "end_time": "2022-11-26T11:37:49.133542",
     "exception": false,
     "start_time": "2022-11-26T11:37:49.093649",
     "status": "completed"
    },
    "tags": []
   },
   "outputs": [
    {
     "data": {
      "text/plain": [
       "count    295.000000\n",
       "mean      31.000000\n",
       "std       17.058323\n",
       "min        2.000000\n",
       "25%       16.000000\n",
       "50%       31.000000\n",
       "75%       46.000000\n",
       "max       60.000000\n",
       "Name: n_clusters, dtype: float64"
      ]
     },
     "metadata": {},
     "output_type": "display_data"
    }
   ],
   "source": [
    "ensemble_stats = ensemble[\"n_clusters\"].describe()\n",
    "display(ensemble_stats)"
   ]
  },
  {
   "cell_type": "markdown",
   "id": "4ff7f7e1",
   "metadata": {
    "papermill": {
     "duration": 0.015102,
     "end_time": "2022-11-26T11:37:49.163999",
     "exception": false,
     "start_time": "2022-11-26T11:37:49.148897",
     "status": "completed"
    },
    "tags": []
   },
   "source": [
    "## Testing"
   ]
  },
  {
   "cell_type": "code",
   "execution_count": 29,
   "id": "356a52a9",
   "metadata": {
    "execution": {
     "iopub.execute_input": "2022-11-26T11:37:49.195349Z",
     "iopub.status.busy": "2022-11-26T11:37:49.194894Z",
     "iopub.status.idle": "2022-11-26T11:37:49.214943Z",
     "shell.execute_reply": "2022-11-26T11:37:49.214613Z"
    },
    "papermill": {
     "duration": 0.03645,
     "end_time": "2022-11-26T11:37:49.215811",
     "exception": false,
     "start_time": "2022-11-26T11:37:49.179361",
     "status": "completed"
    },
    "tags": []
   },
   "outputs": [],
   "source": [
    "assert ensemble_stats[\"min\"] > 1"
   ]
  },
  {
   "cell_type": "code",
   "execution_count": 30,
   "id": "c07c1d15",
   "metadata": {
    "execution": {
     "iopub.execute_input": "2022-11-26T11:37:49.246743Z",
     "iopub.status.busy": "2022-11-26T11:37:49.246317Z",
     "iopub.status.idle": "2022-11-26T11:37:49.266557Z",
     "shell.execute_reply": "2022-11-26T11:37:49.266226Z"
    },
    "papermill": {
     "duration": 0.036379,
     "end_time": "2022-11-26T11:37:49.267288",
     "exception": false,
     "start_time": "2022-11-26T11:37:49.230909",
     "status": "completed"
    },
    "tags": []
   },
   "outputs": [],
   "source": [
    "assert not ensemble[\"n_clusters\"].isna().any()"
   ]
  },
  {
   "cell_type": "code",
   "execution_count": 31,
   "id": "18ad9a84",
   "metadata": {
    "execution": {
     "iopub.execute_input": "2022-11-26T11:37:49.298362Z",
     "iopub.status.busy": "2022-11-26T11:37:49.297911Z",
     "iopub.status.idle": "2022-11-26T11:37:49.317712Z",
     "shell.execute_reply": "2022-11-26T11:37:49.317382Z"
    },
    "papermill": {
     "duration": 0.036091,
     "end_time": "2022-11-26T11:37:49.318448",
     "exception": false,
     "start_time": "2022-11-26T11:37:49.282357",
     "status": "completed"
    },
    "tags": []
   },
   "outputs": [],
   "source": [
    "assert ensemble.shape[0] == len(CLUSTERERS)"
   ]
  },
  {
   "cell_type": "code",
   "execution_count": 32,
   "id": "d9b49ac6",
   "metadata": {
    "execution": {
     "iopub.execute_input": "2022-11-26T11:37:49.349363Z",
     "iopub.status.busy": "2022-11-26T11:37:49.348950Z",
     "iopub.status.idle": "2022-11-26T11:37:49.392202Z",
     "shell.execute_reply": "2022-11-26T11:37:49.391878Z"
    },
    "papermill": {
     "duration": 0.060249,
     "end_time": "2022-11-26T11:37:49.393637",
     "exception": false,
     "start_time": "2022-11-26T11:37:49.333388",
     "status": "completed"
    },
    "tags": []
   },
   "outputs": [],
   "source": [
    "# all partitions have the right size\n",
    "assert np.all(\n",
    "    [part[\"partition\"].shape[0] == data.shape[0] for idx, part in ensemble.iterrows()]\n",
    ")"
   ]
  },
  {
   "cell_type": "code",
   "execution_count": 33,
   "id": "af5e1c1f",
   "metadata": {
    "execution": {
     "iopub.execute_input": "2022-11-26T11:37:49.455410Z",
     "iopub.status.busy": "2022-11-26T11:37:49.454939Z",
     "iopub.status.idle": "2022-11-26T11:37:49.503584Z",
     "shell.execute_reply": "2022-11-26T11:37:49.503217Z"
    },
    "papermill": {
     "duration": 0.07982,
     "end_time": "2022-11-26T11:37:49.504601",
     "exception": false,
     "start_time": "2022-11-26T11:37:49.424781",
     "status": "completed"
    },
    "tags": []
   },
   "outputs": [],
   "source": [
    "# no partition has negative clusters (noisy points)\n",
    "assert not np.any([(part[\"partition\"] < 0).any() for idx, part in ensemble.iterrows()])"
   ]
  },
  {
   "cell_type": "markdown",
   "id": "66ed7ea8",
   "metadata": {
    "papermill": {
     "duration": 0.022692,
     "end_time": "2022-11-26T11:37:49.550082",
     "exception": false,
     "start_time": "2022-11-26T11:37:49.527390",
     "status": "completed"
    },
    "tags": []
   },
   "source": [
    "## Add clustering quality measures"
   ]
  },
  {
   "cell_type": "code",
   "execution_count": 34,
   "id": "06c5b8c8",
   "metadata": {
    "execution": {
     "iopub.execute_input": "2022-11-26T11:37:49.633824Z",
     "iopub.status.busy": "2022-11-26T11:37:49.633576Z",
     "iopub.status.idle": "2022-11-26T11:37:49.654163Z",
     "shell.execute_reply": "2022-11-26T11:37:49.653833Z"
    },
    "papermill": {
     "duration": 0.083571,
     "end_time": "2022-11-26T11:37:49.654926",
     "exception": false,
     "start_time": "2022-11-26T11:37:49.571355",
     "status": "completed"
    },
    "tags": []
   },
   "outputs": [],
   "source": [
    "from sklearn.metrics import calinski_harabasz_score"
   ]
  },
  {
   "cell_type": "code",
   "execution_count": 35,
   "id": "e21f55d5",
   "metadata": {
    "execution": {
     "iopub.execute_input": "2022-11-26T11:37:49.686385Z",
     "iopub.status.busy": "2022-11-26T11:37:49.686060Z",
     "iopub.status.idle": "2022-11-26T11:37:57.281999Z",
     "shell.execute_reply": "2022-11-26T11:37:57.281659Z"
    },
    "papermill": {
     "duration": 7.613064,
     "end_time": "2022-11-26T11:37:57.283576",
     "exception": false,
     "start_time": "2022-11-26T11:37:49.670512",
     "status": "completed"
    },
    "tags": []
   },
   "outputs": [],
   "source": [
    "ensemble = ensemble.assign(\n",
    "    ch_score=ensemble[\"partition\"].apply(lambda x: calinski_harabasz_score(data, x))\n",
    ")"
   ]
  },
  {
   "cell_type": "code",
   "execution_count": 36,
   "id": "512c482a",
   "metadata": {
    "execution": {
     "iopub.execute_input": "2022-11-26T11:37:57.345193Z",
     "iopub.status.busy": "2022-11-26T11:37:57.344968Z",
     "iopub.status.idle": "2022-11-26T11:37:57.366432Z",
     "shell.execute_reply": "2022-11-26T11:37:57.366052Z"
    },
    "papermill": {
     "duration": 0.053539,
     "end_time": "2022-11-26T11:37:57.367682",
     "exception": false,
     "start_time": "2022-11-26T11:37:57.314143",
     "status": "completed"
    },
    "tags": []
   },
   "outputs": [
    {
     "data": {
      "text/plain": [
       "(295, 4)"
      ]
     },
     "execution_count": 36,
     "metadata": {},
     "output_type": "execute_result"
    }
   ],
   "source": [
    "ensemble.shape"
   ]
  },
  {
   "cell_type": "code",
   "execution_count": 37,
   "id": "e4ec0cdb",
   "metadata": {
    "execution": {
     "iopub.execute_input": "2022-11-26T11:37:57.422536Z",
     "iopub.status.busy": "2022-11-26T11:37:57.422304Z",
     "iopub.status.idle": "2022-11-26T11:37:57.454177Z",
     "shell.execute_reply": "2022-11-26T11:37:57.453791Z"
    },
    "papermill": {
     "duration": 0.056841,
     "end_time": "2022-11-26T11:37:57.455033",
     "exception": false,
     "start_time": "2022-11-26T11:37:57.398192",
     "status": "completed"
    },
    "tags": []
   },
   "outputs": [
    {
     "data": {
      "text/html": [
       "<div>\n",
       "<style scoped>\n",
       "    .dataframe tbody tr th:only-of-type {\n",
       "        vertical-align: middle;\n",
       "    }\n",
       "\n",
       "    .dataframe tbody tr th {\n",
       "        vertical-align: top;\n",
       "    }\n",
       "\n",
       "    .dataframe thead th {\n",
       "        text-align: right;\n",
       "    }\n",
       "</style>\n",
       "<table border=\"1\" class=\"dataframe\">\n",
       "  <thead>\n",
       "    <tr style=\"text-align: right;\">\n",
       "      <th></th>\n",
       "      <th>clusterer_params</th>\n",
       "      <th>partition</th>\n",
       "      <th>n_clusters</th>\n",
       "      <th>ch_score</th>\n",
       "    </tr>\n",
       "    <tr>\n",
       "      <th>clusterer_id</th>\n",
       "      <th></th>\n",
       "      <th></th>\n",
       "      <th></th>\n",
       "      <th></th>\n",
       "    </tr>\n",
       "  </thead>\n",
       "  <tbody>\n",
       "    <tr>\n",
       "      <th>GaussianMixture #0</th>\n",
       "      <td>{'covariance_type': 'full', 'init_params': 'km...</td>\n",
       "      <td>[1.0, 1.0, 1.0, 0.0, 0.0, 1.0, 1.0, 1.0, 1.0, ...</td>\n",
       "      <td>2</td>\n",
       "      <td>5.171445</td>\n",
       "    </tr>\n",
       "    <tr>\n",
       "      <th>GaussianMixture #1</th>\n",
       "      <td>{'covariance_type': 'full', 'init_params': 'km...</td>\n",
       "      <td>[0.0, 1.0, 1.0, 1.0, 1.0, 1.0, 1.0, 1.0, 0.0, ...</td>\n",
       "      <td>2</td>\n",
       "      <td>5.253047</td>\n",
       "    </tr>\n",
       "    <tr>\n",
       "      <th>GaussianMixture #2</th>\n",
       "      <td>{'covariance_type': 'full', 'init_params': 'km...</td>\n",
       "      <td>[0.0, 0.0, 0.0, 0.0, 0.0, 0.0, 0.0, 0.0, 1.0, ...</td>\n",
       "      <td>2</td>\n",
       "      <td>5.427720</td>\n",
       "    </tr>\n",
       "    <tr>\n",
       "      <th>GaussianMixture #3</th>\n",
       "      <td>{'covariance_type': 'full', 'init_params': 'km...</td>\n",
       "      <td>[1.0, 1.0, 1.0, 0.0, 0.0, 1.0, 1.0, 1.0, 0.0, ...</td>\n",
       "      <td>2</td>\n",
       "      <td>5.221262</td>\n",
       "    </tr>\n",
       "    <tr>\n",
       "      <th>GaussianMixture #4</th>\n",
       "      <td>{'covariance_type': 'full', 'init_params': 'km...</td>\n",
       "      <td>[0.0, 1.0, 1.0, 1.0, 1.0, 1.0, 1.0, 0.0, 1.0, ...</td>\n",
       "      <td>2</td>\n",
       "      <td>5.545600</td>\n",
       "    </tr>\n",
       "  </tbody>\n",
       "</table>\n",
       "</div>"
      ],
      "text/plain": [
       "                                                     clusterer_params  \\\n",
       "clusterer_id                                                            \n",
       "GaussianMixture #0  {'covariance_type': 'full', 'init_params': 'km...   \n",
       "GaussianMixture #1  {'covariance_type': 'full', 'init_params': 'km...   \n",
       "GaussianMixture #2  {'covariance_type': 'full', 'init_params': 'km...   \n",
       "GaussianMixture #3  {'covariance_type': 'full', 'init_params': 'km...   \n",
       "GaussianMixture #4  {'covariance_type': 'full', 'init_params': 'km...   \n",
       "\n",
       "                                                            partition  \\\n",
       "clusterer_id                                                            \n",
       "GaussianMixture #0  [1.0, 1.0, 1.0, 0.0, 0.0, 1.0, 1.0, 1.0, 1.0, ...   \n",
       "GaussianMixture #1  [0.0, 1.0, 1.0, 1.0, 1.0, 1.0, 1.0, 1.0, 0.0, ...   \n",
       "GaussianMixture #2  [0.0, 0.0, 0.0, 0.0, 0.0, 0.0, 0.0, 0.0, 1.0, ...   \n",
       "GaussianMixture #3  [1.0, 1.0, 1.0, 0.0, 0.0, 1.0, 1.0, 1.0, 0.0, ...   \n",
       "GaussianMixture #4  [0.0, 1.0, 1.0, 1.0, 1.0, 1.0, 1.0, 0.0, 1.0, ...   \n",
       "\n",
       "                    n_clusters  ch_score  \n",
       "clusterer_id                              \n",
       "GaussianMixture #0           2  5.171445  \n",
       "GaussianMixture #1           2  5.253047  \n",
       "GaussianMixture #2           2  5.427720  \n",
       "GaussianMixture #3           2  5.221262  \n",
       "GaussianMixture #4           2  5.545600  "
      ]
     },
     "execution_count": 37,
     "metadata": {},
     "output_type": "execute_result"
    }
   ],
   "source": [
    "ensemble.head()"
   ]
  },
  {
   "cell_type": "markdown",
   "id": "d8e6338c",
   "metadata": {
    "papermill": {
     "duration": 0.025834,
     "end_time": "2022-11-26T11:37:57.511947",
     "exception": false,
     "start_time": "2022-11-26T11:37:57.486113",
     "status": "completed"
    },
    "tags": []
   },
   "source": [
    "## Save"
   ]
  },
  {
   "cell_type": "code",
   "execution_count": 38,
   "id": "0d669ad1",
   "metadata": {
    "execution": {
     "iopub.execute_input": "2022-11-26T11:37:57.542772Z",
     "iopub.status.busy": "2022-11-26T11:37:57.542514Z",
     "iopub.status.idle": "2022-11-26T11:37:57.564695Z",
     "shell.execute_reply": "2022-11-26T11:37:57.564261Z"
    },
    "papermill": {
     "duration": 0.038484,
     "end_time": "2022-11-26T11:37:57.565458",
     "exception": false,
     "start_time": "2022-11-26T11:37:57.526974",
     "status": "completed"
    },
    "tags": []
   },
   "outputs": [
    {
     "data": {
      "text/plain": [
       "PosixPath('/opt/data/results/clustering/null_sims/shuffle_genes/runs/z_score_std-projection-smultixcan-efo_partial-mashr-zscores/GaussianMixture-COVARIANCE_TYPE_full-K_MAX_60-K_MIN_2-N_INIT_10-N_REPS_PER_K_5.pkl')"
      ]
     },
     "metadata": {},
     "output_type": "display_data"
    }
   ],
   "source": [
    "output_filename = Path(\n",
    "    RESULTS_DIR,\n",
    "    generate_result_set_name(\n",
    "        CLUSTERING_OPTIONS,\n",
    "        prefix=f\"{clustering_method_name}-\",\n",
    "        suffix=\".pkl\",\n",
    "    ),\n",
    ").resolve()\n",
    "display(output_filename)"
   ]
  },
  {
   "cell_type": "code",
   "execution_count": 39,
   "id": "18060adc",
   "metadata": {
    "execution": {
     "iopub.execute_input": "2022-11-26T11:37:57.597139Z",
     "iopub.status.busy": "2022-11-26T11:37:57.596899Z",
     "iopub.status.idle": "2022-11-26T11:37:57.631052Z",
     "shell.execute_reply": "2022-11-26T11:37:57.630608Z"
    },
    "papermill": {
     "duration": 0.050891,
     "end_time": "2022-11-26T11:37:57.631943",
     "exception": false,
     "start_time": "2022-11-26T11:37:57.581052",
     "status": "completed"
    },
    "tags": []
   },
   "outputs": [],
   "source": [
    "ensemble.to_pickle(output_filename)"
   ]
  },
  {
   "cell_type": "markdown",
   "id": "4936a3df",
   "metadata": {
    "papermill": {
     "duration": 0.015101,
     "end_time": "2022-11-26T11:37:57.662198",
     "exception": false,
     "start_time": "2022-11-26T11:37:57.647097",
     "status": "completed"
    },
    "tags": []
   },
   "source": [
    "# Cluster quality"
   ]
  },
  {
   "cell_type": "code",
   "execution_count": 40,
   "id": "0d2e3f1f",
   "metadata": {
    "execution": {
     "iopub.execute_input": "2022-11-26T11:37:57.693408Z",
     "iopub.status.busy": "2022-11-26T11:37:57.693248Z",
     "iopub.status.idle": "2022-11-26T11:37:57.722171Z",
     "shell.execute_reply": "2022-11-26T11:37:57.721783Z"
    },
    "papermill": {
     "duration": 0.045317,
     "end_time": "2022-11-26T11:37:57.722928",
     "exception": false,
     "start_time": "2022-11-26T11:37:57.677611",
     "status": "completed"
    },
    "tags": []
   },
   "outputs": [
    {
     "data": {
      "text/html": [
       "<div>\n",
       "<style scoped>\n",
       "    .dataframe tbody tr th:only-of-type {\n",
       "        vertical-align: middle;\n",
       "    }\n",
       "\n",
       "    .dataframe tbody tr th {\n",
       "        vertical-align: top;\n",
       "    }\n",
       "\n",
       "    .dataframe thead th {\n",
       "        text-align: right;\n",
       "    }\n",
       "</style>\n",
       "<table border=\"1\" class=\"dataframe\">\n",
       "  <thead>\n",
       "    <tr style=\"text-align: right;\">\n",
       "      <th></th>\n",
       "      <th>ch_score</th>\n",
       "    </tr>\n",
       "    <tr>\n",
       "      <th>n_clusters</th>\n",
       "      <th></th>\n",
       "    </tr>\n",
       "  </thead>\n",
       "  <tbody>\n",
       "    <tr>\n",
       "      <th>2</th>\n",
       "      <td>5.323815</td>\n",
       "    </tr>\n",
       "    <tr>\n",
       "      <th>3</th>\n",
       "      <td>4.673590</td>\n",
       "    </tr>\n",
       "    <tr>\n",
       "      <th>4</th>\n",
       "      <td>4.283252</td>\n",
       "    </tr>\n",
       "    <tr>\n",
       "      <th>5</th>\n",
       "      <td>3.940764</td>\n",
       "    </tr>\n",
       "    <tr>\n",
       "      <th>6</th>\n",
       "      <td>3.690891</td>\n",
       "    </tr>\n",
       "    <tr>\n",
       "      <th>7</th>\n",
       "      <td>3.451407</td>\n",
       "    </tr>\n",
       "    <tr>\n",
       "      <th>8</th>\n",
       "      <td>3.298140</td>\n",
       "    </tr>\n",
       "    <tr>\n",
       "      <th>9</th>\n",
       "      <td>3.080865</td>\n",
       "    </tr>\n",
       "    <tr>\n",
       "      <th>10</th>\n",
       "      <td>2.825167</td>\n",
       "    </tr>\n",
       "    <tr>\n",
       "      <th>11</th>\n",
       "      <td>2.497623</td>\n",
       "    </tr>\n",
       "    <tr>\n",
       "      <th>12</th>\n",
       "      <td>2.421127</td>\n",
       "    </tr>\n",
       "    <tr>\n",
       "      <th>13</th>\n",
       "      <td>2.648374</td>\n",
       "    </tr>\n",
       "    <tr>\n",
       "      <th>14</th>\n",
       "      <td>2.563216</td>\n",
       "    </tr>\n",
       "    <tr>\n",
       "      <th>15</th>\n",
       "      <td>2.288863</td>\n",
       "    </tr>\n",
       "    <tr>\n",
       "      <th>16</th>\n",
       "      <td>2.355963</td>\n",
       "    </tr>\n",
       "    <tr>\n",
       "      <th>17</th>\n",
       "      <td>1.950936</td>\n",
       "    </tr>\n",
       "    <tr>\n",
       "      <th>18</th>\n",
       "      <td>2.090686</td>\n",
       "    </tr>\n",
       "    <tr>\n",
       "      <th>19</th>\n",
       "      <td>2.206753</td>\n",
       "    </tr>\n",
       "    <tr>\n",
       "      <th>20</th>\n",
       "      <td>2.060477</td>\n",
       "    </tr>\n",
       "    <tr>\n",
       "      <th>21</th>\n",
       "      <td>1.779936</td>\n",
       "    </tr>\n",
       "    <tr>\n",
       "      <th>22</th>\n",
       "      <td>1.988412</td>\n",
       "    </tr>\n",
       "    <tr>\n",
       "      <th>23</th>\n",
       "      <td>1.945660</td>\n",
       "    </tr>\n",
       "    <tr>\n",
       "      <th>24</th>\n",
       "      <td>1.958389</td>\n",
       "    </tr>\n",
       "    <tr>\n",
       "      <th>25</th>\n",
       "      <td>1.845003</td>\n",
       "    </tr>\n",
       "    <tr>\n",
       "      <th>26</th>\n",
       "      <td>1.748930</td>\n",
       "    </tr>\n",
       "    <tr>\n",
       "      <th>27</th>\n",
       "      <td>1.818221</td>\n",
       "    </tr>\n",
       "    <tr>\n",
       "      <th>28</th>\n",
       "      <td>1.850858</td>\n",
       "    </tr>\n",
       "    <tr>\n",
       "      <th>29</th>\n",
       "      <td>1.645453</td>\n",
       "    </tr>\n",
       "    <tr>\n",
       "      <th>30</th>\n",
       "      <td>1.648538</td>\n",
       "    </tr>\n",
       "    <tr>\n",
       "      <th>31</th>\n",
       "      <td>1.617703</td>\n",
       "    </tr>\n",
       "    <tr>\n",
       "      <th>32</th>\n",
       "      <td>1.660042</td>\n",
       "    </tr>\n",
       "    <tr>\n",
       "      <th>33</th>\n",
       "      <td>1.562410</td>\n",
       "    </tr>\n",
       "    <tr>\n",
       "      <th>34</th>\n",
       "      <td>1.643139</td>\n",
       "    </tr>\n",
       "    <tr>\n",
       "      <th>35</th>\n",
       "      <td>1.593438</td>\n",
       "    </tr>\n",
       "    <tr>\n",
       "      <th>36</th>\n",
       "      <td>1.639394</td>\n",
       "    </tr>\n",
       "    <tr>\n",
       "      <th>37</th>\n",
       "      <td>1.561045</td>\n",
       "    </tr>\n",
       "    <tr>\n",
       "      <th>38</th>\n",
       "      <td>1.629514</td>\n",
       "    </tr>\n",
       "    <tr>\n",
       "      <th>39</th>\n",
       "      <td>1.605623</td>\n",
       "    </tr>\n",
       "    <tr>\n",
       "      <th>40</th>\n",
       "      <td>1.603407</td>\n",
       "    </tr>\n",
       "    <tr>\n",
       "      <th>41</th>\n",
       "      <td>1.752686</td>\n",
       "    </tr>\n",
       "    <tr>\n",
       "      <th>42</th>\n",
       "      <td>1.708785</td>\n",
       "    </tr>\n",
       "    <tr>\n",
       "      <th>43</th>\n",
       "      <td>1.631993</td>\n",
       "    </tr>\n",
       "    <tr>\n",
       "      <th>44</th>\n",
       "      <td>1.540546</td>\n",
       "    </tr>\n",
       "    <tr>\n",
       "      <th>45</th>\n",
       "      <td>1.486128</td>\n",
       "    </tr>\n",
       "    <tr>\n",
       "      <th>46</th>\n",
       "      <td>1.715096</td>\n",
       "    </tr>\n",
       "    <tr>\n",
       "      <th>47</th>\n",
       "      <td>1.582658</td>\n",
       "    </tr>\n",
       "    <tr>\n",
       "      <th>48</th>\n",
       "      <td>1.521368</td>\n",
       "    </tr>\n",
       "    <tr>\n",
       "      <th>49</th>\n",
       "      <td>1.511302</td>\n",
       "    </tr>\n",
       "    <tr>\n",
       "      <th>50</th>\n",
       "      <td>1.546773</td>\n",
       "    </tr>\n",
       "    <tr>\n",
       "      <th>51</th>\n",
       "      <td>1.600621</td>\n",
       "    </tr>\n",
       "    <tr>\n",
       "      <th>52</th>\n",
       "      <td>1.553057</td>\n",
       "    </tr>\n",
       "    <tr>\n",
       "      <th>53</th>\n",
       "      <td>1.600647</td>\n",
       "    </tr>\n",
       "    <tr>\n",
       "      <th>54</th>\n",
       "      <td>1.510872</td>\n",
       "    </tr>\n",
       "    <tr>\n",
       "      <th>55</th>\n",
       "      <td>1.651254</td>\n",
       "    </tr>\n",
       "    <tr>\n",
       "      <th>56</th>\n",
       "      <td>1.643850</td>\n",
       "    </tr>\n",
       "    <tr>\n",
       "      <th>57</th>\n",
       "      <td>1.724719</td>\n",
       "    </tr>\n",
       "    <tr>\n",
       "      <th>58</th>\n",
       "      <td>1.656653</td>\n",
       "    </tr>\n",
       "    <tr>\n",
       "      <th>59</th>\n",
       "      <td>1.595454</td>\n",
       "    </tr>\n",
       "    <tr>\n",
       "      <th>60</th>\n",
       "      <td>1.646372</td>\n",
       "    </tr>\n",
       "  </tbody>\n",
       "</table>\n",
       "</div>"
      ],
      "text/plain": [
       "            ch_score\n",
       "n_clusters          \n",
       "2           5.323815\n",
       "3           4.673590\n",
       "4           4.283252\n",
       "5           3.940764\n",
       "6           3.690891\n",
       "7           3.451407\n",
       "8           3.298140\n",
       "9           3.080865\n",
       "10          2.825167\n",
       "11          2.497623\n",
       "12          2.421127\n",
       "13          2.648374\n",
       "14          2.563216\n",
       "15          2.288863\n",
       "16          2.355963\n",
       "17          1.950936\n",
       "18          2.090686\n",
       "19          2.206753\n",
       "20          2.060477\n",
       "21          1.779936\n",
       "22          1.988412\n",
       "23          1.945660\n",
       "24          1.958389\n",
       "25          1.845003\n",
       "26          1.748930\n",
       "27          1.818221\n",
       "28          1.850858\n",
       "29          1.645453\n",
       "30          1.648538\n",
       "31          1.617703\n",
       "32          1.660042\n",
       "33          1.562410\n",
       "34          1.643139\n",
       "35          1.593438\n",
       "36          1.639394\n",
       "37          1.561045\n",
       "38          1.629514\n",
       "39          1.605623\n",
       "40          1.603407\n",
       "41          1.752686\n",
       "42          1.708785\n",
       "43          1.631993\n",
       "44          1.540546\n",
       "45          1.486128\n",
       "46          1.715096\n",
       "47          1.582658\n",
       "48          1.521368\n",
       "49          1.511302\n",
       "50          1.546773\n",
       "51          1.600621\n",
       "52          1.553057\n",
       "53          1.600647\n",
       "54          1.510872\n",
       "55          1.651254\n",
       "56          1.643850\n",
       "57          1.724719\n",
       "58          1.656653\n",
       "59          1.595454\n",
       "60          1.646372"
      ]
     },
     "metadata": {},
     "output_type": "display_data"
    }
   ],
   "source": [
    "with pd.option_context(\"display.max_rows\", None, \"display.max_columns\", None):\n",
    "    _df = ensemble.groupby([\"n_clusters\"]).mean()\n",
    "    display(_df)"
   ]
  },
  {
   "cell_type": "code",
   "execution_count": 41,
   "id": "b5c32f06",
   "metadata": {
    "execution": {
     "iopub.execute_input": "2022-11-26T11:37:57.754251Z",
     "iopub.status.busy": "2022-11-26T11:37:57.754025Z",
     "iopub.status.idle": "2022-11-26T11:37:59.817875Z",
     "shell.execute_reply": "2022-11-26T11:37:59.817508Z"
    },
    "papermill": {
     "duration": 2.081437,
     "end_time": "2022-11-26T11:37:59.819632",
     "exception": false,
     "start_time": "2022-11-26T11:37:57.738195",
     "status": "completed"
    },
    "tags": []
   },
   "outputs": [
    {
     "data": {
      "image/png": "[encoded data removed]",
      "text/plain": [
       "<Figure size 1008x432 with 1 Axes>"
      ]
     },
     "metadata": {},
     "output_type": "display_data"
    }
   ],
   "source": [
    "with sns.plotting_context(\"talk\", font_scale=0.75), sns.axes_style(\n",
    "    \"whitegrid\", {\"grid.linestyle\": \"--\"}\n",
    "):\n",
    "    fig = plt.figure(figsize=(14, 6))\n",
    "    ax = sns.pointplot(data=ensemble, x=\"n_clusters\", y=\"ch_score\")\n",
    "    ax.set_ylabel(\"Calinski-Harabasz index\")\n",
    "    ax.set_xlabel(\"Number of clusters ($k$)\")\n",
    "    ax.set_xticklabels(ax.get_xticklabels(), rotation=45)\n",
    "    plt.grid(True)\n",
    "    plt.tight_layout()"
   ]
  },
  {
   "cell_type": "markdown",
   "id": "2b647848",
   "metadata": {
    "papermill": {
     "duration": 0.032197,
     "end_time": "2022-11-26T11:37:59.885191",
     "exception": false,
     "start_time": "2022-11-26T11:37:59.852994",
     "status": "completed"
    },
    "tags": []
   },
   "source": [
    "# Stability"
   ]
  },
  {
   "cell_type": "markdown",
   "id": "79e1e04a",
   "metadata": {
    "papermill": {
     "duration": 0.016185,
     "end_time": "2022-11-26T11:37:59.925196",
     "exception": false,
     "start_time": "2022-11-26T11:37:59.909011",
     "status": "completed"
    },
    "tags": []
   },
   "source": [
    "## Group ensemble by n_clusters"
   ]
  },
  {
   "cell_type": "code",
   "execution_count": 42,
   "id": "171802e3",
   "metadata": {
    "execution": {
     "iopub.execute_input": "2022-11-26T11:37:59.957721Z",
     "iopub.status.busy": "2022-11-26T11:37:59.957620Z",
     "iopub.status.idle": "2022-11-26T11:37:59.996476Z",
     "shell.execute_reply": "2022-11-26T11:37:59.995957Z"
    },
    "papermill": {
     "duration": 0.05616,
     "end_time": "2022-11-26T11:37:59.997312",
     "exception": false,
     "start_time": "2022-11-26T11:37:59.941152",
     "status": "completed"
    },
    "tags": []
   },
   "outputs": [],
   "source": [
    "parts = ensemble.groupby(\"n_clusters\").apply(\n",
    "    lambda x: np.concatenate(x[\"partition\"].apply(lambda x: x.reshape(1, -1)), axis=0)\n",
    ")"
   ]
  },
  {
   "cell_type": "code",
   "execution_count": 43,
   "id": "8ed815d2",
   "metadata": {
    "execution": {
     "iopub.execute_input": "2022-11-26T11:38:00.031008Z",
     "iopub.status.busy": "2022-11-26T11:38:00.030760Z",
     "iopub.status.idle": "2022-11-26T11:38:00.071187Z",
     "shell.execute_reply": "2022-11-26T11:38:00.070803Z"
    },
    "papermill": {
     "duration": 0.058121,
     "end_time": "2022-11-26T11:38:00.071967",
     "exception": false,
     "start_time": "2022-11-26T11:38:00.013846",
     "status": "completed"
    },
    "tags": []
   },
   "outputs": [
    {
     "data": {
      "text/plain": [
       "n_clusters\n",
       "2    [[1.0, 1.0, 1.0, 0.0, 0.0, 1.0, 1.0, 1.0, 1.0,...\n",
       "3    [[1.0, 2.0, 1.0, 1.0, 1.0, 1.0, 2.0, 1.0, 1.0,...\n",
       "4    [[2.0, 2.0, 1.0, 1.0, 1.0, 3.0, 1.0, 3.0, 2.0,...\n",
       "5    [[4.0, 2.0, 2.0, 4.0, 3.0, 4.0, 0.0, 1.0, 4.0,...\n",
       "6    [[0.0, 4.0, 4.0, 3.0, 1.0, 0.0, 2.0, 1.0, 3.0,...\n",
       "dtype: object"
      ]
     },
     "execution_count": 43,
     "metadata": {},
     "output_type": "execute_result"
    }
   ],
   "source": [
    "parts.head()"
   ]
  },
  {
   "cell_type": "code",
   "execution_count": 44,
   "id": "fde0863b",
   "metadata": {
    "execution": {
     "iopub.execute_input": "2022-11-26T11:38:00.105280Z",
     "iopub.status.busy": "2022-11-26T11:38:00.105122Z",
     "iopub.status.idle": "2022-11-26T11:38:00.127247Z",
     "shell.execute_reply": "2022-11-26T11:38:00.126783Z"
    },
    "papermill": {
     "duration": 0.03962,
     "end_time": "2022-11-26T11:38:00.128034",
     "exception": false,
     "start_time": "2022-11-26T11:38:00.088414",
     "status": "completed"
    },
    "tags": []
   },
   "outputs": [],
   "source": [
    "assert np.all(\n",
    "    [\n",
    "        parts.loc[k].shape == (CLUSTERING_OPTIONS[\"N_REPS_PER_K\"], data.shape[0])\n",
    "        for k in parts.index\n",
    "    ]\n",
    ")"
   ]
  },
  {
   "cell_type": "markdown",
   "id": "490cde94",
   "metadata": {
    "papermill": {
     "duration": 0.015899,
     "end_time": "2022-11-26T11:38:00.160076",
     "exception": false,
     "start_time": "2022-11-26T11:38:00.144177",
     "status": "completed"
    },
    "tags": []
   },
   "source": [
    "## Compute stability"
   ]
  },
  {
   "cell_type": "code",
   "execution_count": 45,
   "id": "9e228d9d",
   "metadata": {
    "execution": {
     "iopub.execute_input": "2022-11-26T11:38:00.192802Z",
     "iopub.status.busy": "2022-11-26T11:38:00.192545Z",
     "iopub.status.idle": "2022-11-26T11:38:00.212780Z",
     "shell.execute_reply": "2022-11-26T11:38:00.212386Z"
    },
    "papermill": {
     "duration": 0.038172,
     "end_time": "2022-11-26T11:38:00.214198",
     "exception": false,
     "start_time": "2022-11-26T11:38:00.176026",
     "status": "completed"
    },
    "tags": []
   },
   "outputs": [],
   "source": [
    "from sklearn.metrics import adjusted_rand_score as ari\n",
    "from scipy.spatial.distance import pdist"
   ]
  },
  {
   "cell_type": "code",
   "execution_count": 46,
   "id": "f01b01d6",
   "metadata": {
    "execution": {
     "iopub.execute_input": "2022-11-26T11:38:00.248262Z",
     "iopub.status.busy": "2022-11-26T11:38:00.248008Z",
     "iopub.status.idle": "2022-11-26T11:38:00.790710Z",
     "shell.execute_reply": "2022-11-26T11:38:00.790304Z"
    },
    "papermill": {
     "duration": 0.560333,
     "end_time": "2022-11-26T11:38:00.791863",
     "exception": false,
     "start_time": "2022-11-26T11:38:00.231530",
     "status": "completed"
    },
    "tags": []
   },
   "outputs": [],
   "source": [
    "parts_ari = pd.Series(\n",
    "    {k: pdist(parts.loc[k], metric=ari) for k in parts.index}, name=\"k\"\n",
    ")"
   ]
  },
  {
   "cell_type": "code",
   "execution_count": 47,
   "id": "52f03a58",
   "metadata": {
    "execution": {
     "iopub.execute_input": "2022-11-26T11:38:00.825553Z",
     "iopub.status.busy": "2022-11-26T11:38:00.825467Z",
     "iopub.status.idle": "2022-11-26T11:38:00.840268Z",
     "shell.execute_reply": "2022-11-26T11:38:00.839913Z"
    },
    "papermill": {
     "duration": 0.032072,
     "end_time": "2022-11-26T11:38:00.841001",
     "exception": false,
     "start_time": "2022-11-26T11:38:00.808929",
     "status": "completed"
    },
    "tags": []
   },
   "outputs": [
    {
     "data": {
      "text/plain": [
       "50    0.020362\n",
       "2     0.020215\n",
       "46    0.018269\n",
       "33    0.016378\n",
       "47    0.014575\n",
       "39    0.014077\n",
       "53    0.014008\n",
       "42    0.013653\n",
       "37    0.013139\n",
       "49    0.012742\n",
       "40    0.012649\n",
       "58    0.011528\n",
       "35    0.011301\n",
       "48    0.010740\n",
       "55    0.009952\n",
       "Name: k, dtype: float64"
      ]
     },
     "metadata": {},
     "output_type": "display_data"
    }
   ],
   "source": [
    "parts_ari_stability = parts_ari.apply(lambda x: x.mean())\n",
    "display(parts_ari_stability.sort_values(ascending=False).head(15))"
   ]
  },
  {
   "cell_type": "code",
   "execution_count": 48,
   "id": "7207b041",
   "metadata": {
    "execution": {
     "iopub.execute_input": "2022-11-26T11:38:00.874550Z",
     "iopub.status.busy": "2022-11-26T11:38:00.874165Z",
     "iopub.status.idle": "2022-11-26T11:38:00.895886Z",
     "shell.execute_reply": "2022-11-26T11:38:00.895422Z"
    },
    "papermill": {
     "duration": 0.039406,
     "end_time": "2022-11-26T11:38:00.896752",
     "exception": false,
     "start_time": "2022-11-26T11:38:00.857346",
     "status": "completed"
    },
    "tags": []
   },
   "outputs": [],
   "source": [
    "parts_ari_df = pd.DataFrame.from_records(parts_ari.tolist()).set_index(\n",
    "    parts_ari.index.copy()\n",
    ")"
   ]
  },
  {
   "cell_type": "code",
   "execution_count": 49,
   "id": "c0a164c4",
   "metadata": {
    "execution": {
     "iopub.execute_input": "2022-11-26T11:38:00.930720Z",
     "iopub.status.busy": "2022-11-26T11:38:00.930367Z",
     "iopub.status.idle": "2022-11-26T11:38:00.951275Z",
     "shell.execute_reply": "2022-11-26T11:38:00.950897Z"
    },
    "papermill": {
     "duration": 0.038553,
     "end_time": "2022-11-26T11:38:00.952069",
     "exception": false,
     "start_time": "2022-11-26T11:38:00.913516",
     "status": "completed"
    },
    "tags": []
   },
   "outputs": [
    {
     "data": {
      "text/plain": [
       "(59, 10)"
      ]
     },
     "execution_count": 49,
     "metadata": {},
     "output_type": "execute_result"
    }
   ],
   "source": [
    "parts_ari_df.shape"
   ]
  },
  {
   "cell_type": "code",
   "execution_count": 50,
   "id": "da0f97ff",
   "metadata": {
    "execution": {
     "iopub.execute_input": "2022-11-26T11:38:00.986081Z",
     "iopub.status.busy": "2022-11-26T11:38:00.985756Z",
     "iopub.status.idle": "2022-11-26T11:38:01.005892Z",
     "shell.execute_reply": "2022-11-26T11:38:01.005444Z"
    },
    "papermill": {
     "duration": 0.037929,
     "end_time": "2022-11-26T11:38:01.006683",
     "exception": false,
     "start_time": "2022-11-26T11:38:00.968754",
     "status": "completed"
    },
    "tags": []
   },
   "outputs": [],
   "source": [
    "assert (\n",
    "    int(\n",
    "        (CLUSTERING_OPTIONS[\"N_REPS_PER_K\"] * (CLUSTERING_OPTIONS[\"N_REPS_PER_K\"] - 1))\n",
    "        / 2\n",
    "    )\n",
    "    == parts_ari_df.shape[1]\n",
    ")"
   ]
  },
  {
   "cell_type": "code",
   "execution_count": 51,
   "id": "99f5d721",
   "metadata": {
    "execution": {
     "iopub.execute_input": "2022-11-26T11:38:01.040654Z",
     "iopub.status.busy": "2022-11-26T11:38:01.040409Z",
     "iopub.status.idle": "2022-11-26T11:38:01.068559Z",
     "shell.execute_reply": "2022-11-26T11:38:01.068094Z"
    },
    "papermill": {
     "duration": 0.045844,
     "end_time": "2022-11-26T11:38:01.069325",
     "exception": false,
     "start_time": "2022-11-26T11:38:01.023481",
     "status": "completed"
    },
    "tags": []
   },
   "outputs": [
    {
     "data": {
      "text/html": [
       "<div>\n",
       "<style scoped>\n",
       "    .dataframe tbody tr th:only-of-type {\n",
       "        vertical-align: middle;\n",
       "    }\n",
       "\n",
       "    .dataframe tbody tr th {\n",
       "        vertical-align: top;\n",
       "    }\n",
       "\n",
       "    .dataframe thead th {\n",
       "        text-align: right;\n",
       "    }\n",
       "</style>\n",
       "<table border=\"1\" class=\"dataframe\">\n",
       "  <thead>\n",
       "    <tr style=\"text-align: right;\">\n",
       "      <th></th>\n",
       "      <th>0</th>\n",
       "      <th>1</th>\n",
       "      <th>2</th>\n",
       "      <th>3</th>\n",
       "      <th>4</th>\n",
       "      <th>5</th>\n",
       "      <th>6</th>\n",
       "      <th>7</th>\n",
       "      <th>8</th>\n",
       "      <th>9</th>\n",
       "    </tr>\n",
       "  </thead>\n",
       "  <tbody>\n",
       "    <tr>\n",
       "      <th>2</th>\n",
       "      <td>0.023600</td>\n",
       "      <td>0.011686</td>\n",
       "      <td>0.073978</td>\n",
       "      <td>0.033220</td>\n",
       "      <td>0.018449</td>\n",
       "      <td>0.018879</td>\n",
       "      <td>-0.004915</td>\n",
       "      <td>0.008126</td>\n",
       "      <td>0.013207</td>\n",
       "      <td>0.005923</td>\n",
       "    </tr>\n",
       "    <tr>\n",
       "      <th>3</th>\n",
       "      <td>-0.007323</td>\n",
       "      <td>-0.017102</td>\n",
       "      <td>0.040987</td>\n",
       "      <td>-0.022372</td>\n",
       "      <td>0.006059</td>\n",
       "      <td>-0.000385</td>\n",
       "      <td>0.019656</td>\n",
       "      <td>0.013527</td>\n",
       "      <td>0.019867</td>\n",
       "      <td>-0.002898</td>\n",
       "    </tr>\n",
       "    <tr>\n",
       "      <th>4</th>\n",
       "      <td>0.002315</td>\n",
       "      <td>0.015621</td>\n",
       "      <td>0.001425</td>\n",
       "      <td>0.002654</td>\n",
       "      <td>0.004973</td>\n",
       "      <td>0.003465</td>\n",
       "      <td>0.019070</td>\n",
       "      <td>0.001787</td>\n",
       "      <td>0.008388</td>\n",
       "      <td>0.003347</td>\n",
       "    </tr>\n",
       "    <tr>\n",
       "      <th>5</th>\n",
       "      <td>0.004651</td>\n",
       "      <td>0.009170</td>\n",
       "      <td>0.005866</td>\n",
       "      <td>0.004205</td>\n",
       "      <td>-0.000701</td>\n",
       "      <td>0.002551</td>\n",
       "      <td>0.000405</td>\n",
       "      <td>0.006680</td>\n",
       "      <td>0.006520</td>\n",
       "      <td>0.003494</td>\n",
       "    </tr>\n",
       "    <tr>\n",
       "      <th>6</th>\n",
       "      <td>0.005068</td>\n",
       "      <td>0.003808</td>\n",
       "      <td>0.003079</td>\n",
       "      <td>0.005115</td>\n",
       "      <td>0.003862</td>\n",
       "      <td>0.003029</td>\n",
       "      <td>0.005383</td>\n",
       "      <td>0.001780</td>\n",
       "      <td>0.002753</td>\n",
       "      <td>0.004627</td>\n",
       "    </tr>\n",
       "  </tbody>\n",
       "</table>\n",
       "</div>"
      ],
      "text/plain": [
       "          0         1         2         3         4         5         6  \\\n",
       "2  0.023600  0.011686  0.073978  0.033220  0.018449  0.018879 -0.004915   \n",
       "3 -0.007323 -0.017102  0.040987 -0.022372  0.006059 -0.000385  0.019656   \n",
       "4  0.002315  0.015621  0.001425  0.002654  0.004973  0.003465  0.019070   \n",
       "5  0.004651  0.009170  0.005866  0.004205 -0.000701  0.002551  0.000405   \n",
       "6  0.005068  0.003808  0.003079  0.005115  0.003862  0.003029  0.005383   \n",
       "\n",
       "          7         8         9  \n",
       "2  0.008126  0.013207  0.005923  \n",
       "3  0.013527  0.019867 -0.002898  \n",
       "4  0.001787  0.008388  0.003347  \n",
       "5  0.006680  0.006520  0.003494  \n",
       "6  0.001780  0.002753  0.004627  "
      ]
     },
     "execution_count": 51,
     "metadata": {},
     "output_type": "execute_result"
    }
   ],
   "source": [
    "parts_ari_df.head()"
   ]
  },
  {
   "cell_type": "markdown",
   "id": "45761c33",
   "metadata": {
    "papermill": {
     "duration": 0.016222,
     "end_time": "2022-11-26T11:38:01.101929",
     "exception": false,
     "start_time": "2022-11-26T11:38:01.085707",
     "status": "completed"
    },
    "tags": []
   },
   "source": [
    "## Save"
   ]
  },
  {
   "cell_type": "code",
   "execution_count": 52,
   "id": "13a3e1ef",
   "metadata": {
    "execution": {
     "iopub.execute_input": "2022-11-26T11:38:01.135290Z",
     "iopub.status.busy": "2022-11-26T11:38:01.135050Z",
     "iopub.status.idle": "2022-11-26T11:38:01.157027Z",
     "shell.execute_reply": "2022-11-26T11:38:01.156651Z"
    },
    "papermill": {
     "duration": 0.039576,
     "end_time": "2022-11-26T11:38:01.157779",
     "exception": false,
     "start_time": "2022-11-26T11:38:01.118203",
     "status": "completed"
    },
    "tags": []
   },
   "outputs": [
    {
     "data": {
      "text/plain": [
       "PosixPath('/opt/data/results/clustering/null_sims/shuffle_genes/runs/z_score_std-projection-smultixcan-efo_partial-mashr-zscores/GaussianMixture-stability-COVARIANCE_TYPE_full-K_MAX_60-K_MIN_2-N_INIT_10-N_REPS_PER_K_5.pkl')"
      ]
     },
     "metadata": {},
     "output_type": "display_data"
    }
   ],
   "source": [
    "output_filename = Path(\n",
    "    RESULTS_DIR,\n",
    "    generate_result_set_name(\n",
    "        CLUSTERING_OPTIONS,\n",
    "        prefix=f\"{clustering_method_name}-stability-\",\n",
    "        suffix=\".pkl\",\n",
    "    ),\n",
    ").resolve()\n",
    "display(output_filename)"
   ]
  },
  {
   "cell_type": "code",
   "execution_count": 53,
   "id": "2aca0e7f",
   "metadata": {
    "execution": {
     "iopub.execute_input": "2022-11-26T11:38:01.191794Z",
     "iopub.status.busy": "2022-11-26T11:38:01.191362Z",
     "iopub.status.idle": "2022-11-26T11:38:01.211548Z",
     "shell.execute_reply": "2022-11-26T11:38:01.211158Z"
    },
    "papermill": {
     "duration": 0.038182,
     "end_time": "2022-11-26T11:38:01.212362",
     "exception": false,
     "start_time": "2022-11-26T11:38:01.174180",
     "status": "completed"
    },
    "tags": []
   },
   "outputs": [],
   "source": [
    "parts_ari_df.to_pickle(output_filename)"
   ]
  },
  {
   "cell_type": "markdown",
   "id": "9037a642",
   "metadata": {
    "papermill": {
     "duration": 0.016155,
     "end_time": "2022-11-26T11:38:01.245480",
     "exception": false,
     "start_time": "2022-11-26T11:38:01.229325",
     "status": "completed"
    },
    "tags": []
   },
   "source": [
    "## Stability plot"
   ]
  },
  {
   "cell_type": "code",
   "execution_count": 54,
   "id": "e2233568",
   "metadata": {
    "execution": {
     "iopub.execute_input": "2022-11-26T11:38:01.278856Z",
     "iopub.status.busy": "2022-11-26T11:38:01.278412Z",
     "iopub.status.idle": "2022-11-26T11:38:01.301126Z",
     "shell.execute_reply": "2022-11-26T11:38:01.300647Z"
    },
    "papermill": {
     "duration": 0.040213,
     "end_time": "2022-11-26T11:38:01.301916",
     "exception": false,
     "start_time": "2022-11-26T11:38:01.261703",
     "status": "completed"
    },
    "tags": []
   },
   "outputs": [],
   "source": [
    "parts_ari_df_plot = (\n",
    "    parts_ari_df.stack()\n",
    "    .reset_index()\n",
    "    .rename(columns={\"level_0\": \"k\", \"level_1\": \"idx\", 0: \"ari\"})\n",
    ")"
   ]
  },
  {
   "cell_type": "code",
   "execution_count": 55,
   "id": "cc47125c",
   "metadata": {
    "execution": {
     "iopub.execute_input": "2022-11-26T11:38:01.335816Z",
     "iopub.status.busy": "2022-11-26T11:38:01.335342Z",
     "iopub.status.idle": "2022-11-26T11:38:01.357033Z",
     "shell.execute_reply": "2022-11-26T11:38:01.356657Z"
    },
    "papermill": {
     "duration": 0.039332,
     "end_time": "2022-11-26T11:38:01.357792",
     "exception": false,
     "start_time": "2022-11-26T11:38:01.318460",
     "status": "completed"
    },
    "tags": []
   },
   "outputs": [
    {
     "data": {
      "text/plain": [
       "k        int64\n",
       "idx      int64\n",
       "ari    float64\n",
       "dtype: object"
      ]
     },
     "execution_count": 55,
     "metadata": {},
     "output_type": "execute_result"
    }
   ],
   "source": [
    "parts_ari_df_plot.dtypes"
   ]
  },
  {
   "cell_type": "code",
   "execution_count": 56,
   "id": "f632f6a6",
   "metadata": {
    "execution": {
     "iopub.execute_input": "2022-11-26T11:38:01.391590Z",
     "iopub.status.busy": "2022-11-26T11:38:01.391354Z",
     "iopub.status.idle": "2022-11-26T11:38:01.415098Z",
     "shell.execute_reply": "2022-11-26T11:38:01.414716Z"
    },
    "papermill": {
     "duration": 0.041543,
     "end_time": "2022-11-26T11:38:01.415877",
     "exception": false,
     "start_time": "2022-11-26T11:38:01.374334",
     "status": "completed"
    },
    "tags": []
   },
   "outputs": [
    {
     "data": {
      "text/html": [
       "<div>\n",
       "<style scoped>\n",
       "    .dataframe tbody tr th:only-of-type {\n",
       "        vertical-align: middle;\n",
       "    }\n",
       "\n",
       "    .dataframe tbody tr th {\n",
       "        vertical-align: top;\n",
       "    }\n",
       "\n",
       "    .dataframe thead th {\n",
       "        text-align: right;\n",
       "    }\n",
       "</style>\n",
       "<table border=\"1\" class=\"dataframe\">\n",
       "  <thead>\n",
       "    <tr style=\"text-align: right;\">\n",
       "      <th></th>\n",
       "      <th>k</th>\n",
       "      <th>idx</th>\n",
       "      <th>ari</th>\n",
       "    </tr>\n",
       "  </thead>\n",
       "  <tbody>\n",
       "    <tr>\n",
       "      <th>0</th>\n",
       "      <td>2</td>\n",
       "      <td>0</td>\n",
       "      <td>0.023600</td>\n",
       "    </tr>\n",
       "    <tr>\n",
       "      <th>1</th>\n",
       "      <td>2</td>\n",
       "      <td>1</td>\n",
       "      <td>0.011686</td>\n",
       "    </tr>\n",
       "    <tr>\n",
       "      <th>2</th>\n",
       "      <td>2</td>\n",
       "      <td>2</td>\n",
       "      <td>0.073978</td>\n",
       "    </tr>\n",
       "    <tr>\n",
       "      <th>3</th>\n",
       "      <td>2</td>\n",
       "      <td>3</td>\n",
       "      <td>0.033220</td>\n",
       "    </tr>\n",
       "    <tr>\n",
       "      <th>4</th>\n",
       "      <td>2</td>\n",
       "      <td>4</td>\n",
       "      <td>0.018449</td>\n",
       "    </tr>\n",
       "  </tbody>\n",
       "</table>\n",
       "</div>"
      ],
      "text/plain": [
       "   k  idx       ari\n",
       "0  2    0  0.023600\n",
       "1  2    1  0.011686\n",
       "2  2    2  0.073978\n",
       "3  2    3  0.033220\n",
       "4  2    4  0.018449"
      ]
     },
     "execution_count": 56,
     "metadata": {},
     "output_type": "execute_result"
    }
   ],
   "source": [
    "parts_ari_df_plot.head()"
   ]
  },
  {
   "cell_type": "code",
   "execution_count": 57,
   "id": "75660a85",
   "metadata": {
    "execution": {
     "iopub.execute_input": "2022-11-26T11:38:01.450106Z",
     "iopub.status.busy": "2022-11-26T11:38:01.449632Z",
     "iopub.status.idle": "2022-11-26T11:38:03.356247Z",
     "shell.execute_reply": "2022-11-26T11:38:03.355888Z"
    },
    "papermill": {
     "duration": 1.925507,
     "end_time": "2022-11-26T11:38:03.358189",
     "exception": false,
     "start_time": "2022-11-26T11:38:01.432682",
     "status": "completed"
    },
    "tags": []
   },
   "outputs": [
    {
     "data": {
      "image/png": "[encoded data removed]",
      "text/plain": [
       "<Figure size 1008x432 with 1 Axes>"
      ]
     },
     "metadata": {},
     "output_type": "display_data"
    }
   ],
   "source": [
    "# with sns.axes_style('whitegrid', {'grid.linestyle': '--'}):\n",
    "with sns.plotting_context(\"talk\", font_scale=0.75), sns.axes_style(\n",
    "    \"whitegrid\", {\"grid.linestyle\": \"--\"}\n",
    "):\n",
    "    fig = plt.figure(figsize=(14, 6))\n",
    "    ax = sns.pointplot(data=parts_ari_df_plot, x=\"k\", y=\"ari\")\n",
    "    ax.set_ylabel(\"Averange ARI\")\n",
    "    ax.set_xlabel(\"Number of clusters ($k$)\")\n",
    "    ax.set_xticklabels(ax.get_xticklabels(), rotation=45)\n",
    "    #     ax.set_ylim(0.0, 1.0)\n",
    "    #     ax.set_xlim(CLUSTERING_OPTIONS['K_MIN'], CLUSTERING_OPTIONS['K_MAX'])\n",
    "    plt.grid(True)\n",
    "    plt.tight_layout()"
   ]
  },
  {
   "cell_type": "code",
   "execution_count": null,
   "id": "e43f0e92",
   "metadata": {
    "papermill": {
     "duration": 0.034669,
     "end_time": "2022-11-26T11:38:03.428765",
     "exception": false,
     "start_time": "2022-11-26T11:38:03.394096",
     "status": "completed"
    },
    "tags": []
   },
   "outputs": [],
   "source": []
  }
 ],
 "metadata": {
  "jupytext": {
   "cell_metadata_filter": "all,-execution,-papermill,-trusted",
   "formats": "ipynb,py//py:percent"
  },
  "kernelspec": {
   "display_name": "Python 3 (ipykernel)",
   "language": "python",
   "name": "python3"
  },
  "language_info": {
   "codemirror_mode": {
    "name": "ipython",
    "version": 3
   },
   "file_extension": ".py",
   "mimetype": "text/x-python",
   "name": "python",
   "nbconvert_exporter": "python",
   "pygments_lexer": "ipython3",
   "version": "3.8.13"
  },
  "papermill": {
   "default_parameters": {},
   "duration": 22025.599211,
   "end_time": "2022-11-26T11:38:03.774882",
   "environment_variables": {},
   "exception": null,
   "input_path": "nbs/13.1_cluster_analysis_null/00-shuffle_genes/14_00-gmm-z_score_std.ipynb",
   "output_path": "nbs/13.1_cluster_analysis_null/00-shuffle_genes/14_00-gmm-z_score_std.run.ipynb",
   "parameters": {},
   "start_time": "2022-11-26T05:30:58.175671",
   "version": "2.2.2"
  },
  "toc-autonumbering": true,
  "toc-showcode": false,
  "toc-showmarkdowntxt": false,
  "toc-showtags": false
 },
 "nbformat": 4,
 "nbformat_minor": 5
}
