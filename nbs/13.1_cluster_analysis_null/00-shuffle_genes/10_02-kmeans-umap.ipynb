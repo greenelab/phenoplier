{
 "cells": [
  {
   "cell_type": "markdown",
   "id": "27827a0d",
   "metadata": {
    "papermill": {
     "duration": 0.045344,
     "end_time": "2022-09-13T16:02:34.297009",
     "exception": false,
     "start_time": "2022-09-13T16:02:34.251665",
     "status": "completed"
    },
    "tags": []
   },
   "source": [
    "# Description"
   ]
  },
  {
   "cell_type": "markdown",
   "id": "ae81824d",
   "metadata": {
    "papermill": {
     "duration": 0.011009,
     "end_time": "2022-09-13T16:02:34.327828",
     "exception": false,
     "start_time": "2022-09-13T16:02:34.316819",
     "status": "completed"
    },
    "tags": []
   },
   "source": [
    "Runs k-means on the umap version of the data."
   ]
  },
  {
   "cell_type": "markdown",
   "id": "3f39f9a3",
   "metadata": {
    "papermill": {
     "duration": 0.007702,
     "end_time": "2022-09-13T16:02:34.344028",
     "exception": false,
     "start_time": "2022-09-13T16:02:34.336326",
     "status": "completed"
    },
    "tags": []
   },
   "source": [
    "# Environment variables"
   ]
  },
  {
   "cell_type": "code",
   "execution_count": 1,
   "id": "44df7394",
   "metadata": {
    "execution": {
     "iopub.execute_input": "2022-09-13T16:02:34.360486Z",
     "iopub.status.busy": "2022-09-13T16:02:34.360220Z",
     "iopub.status.idle": "2022-09-13T16:02:34.375819Z",
     "shell.execute_reply": "2022-09-13T16:02:34.374935Z"
    },
    "papermill": {
     "duration": 0.025769,
     "end_time": "2022-09-13T16:02:34.377371",
     "exception": false,
     "start_time": "2022-09-13T16:02:34.351602",
     "status": "completed"
    },
    "tags": []
   },
   "outputs": [
    {
     "data": {
      "text/plain": [
       "3"
      ]
     },
     "metadata": {},
     "output_type": "display_data"
    }
   ],
   "source": [
    "from IPython.display import display\n",
    "\n",
    "import conf\n",
    "\n",
    "N_JOBS = conf.GENERAL[\"N_JOBS\"]\n",
    "display(N_JOBS)"
   ]
  },
  {
   "cell_type": "code",
   "execution_count": 2,
   "id": "0b4cb365",
   "metadata": {
    "execution": {
     "iopub.execute_input": "2022-09-13T16:02:34.394658Z",
     "iopub.status.busy": "2022-09-13T16:02:34.394454Z",
     "iopub.status.idle": "2022-09-13T16:02:34.399731Z",
     "shell.execute_reply": "2022-09-13T16:02:34.399139Z"
    },
    "papermill": {
     "duration": 0.015295,
     "end_time": "2022-09-13T16:02:34.401008",
     "exception": false,
     "start_time": "2022-09-13T16:02:34.385713",
     "status": "completed"
    },
    "tags": []
   },
   "outputs": [
    {
     "name": "stdout",
     "output_type": "stream",
     "text": [
      "env: MKL_NUM_THREADS=3\n",
      "env: OPEN_BLAS_NUM_THREADS=3\n",
      "env: NUMEXPR_NUM_THREADS=3\n",
      "env: OMP_NUM_THREADS=3\n"
     ]
    }
   ],
   "source": [
    "%env MKL_NUM_THREADS=$N_JOBS\n",
    "%env OPEN_BLAS_NUM_THREADS=$N_JOBS\n",
    "%env NUMEXPR_NUM_THREADS=$N_JOBS\n",
    "%env OMP_NUM_THREADS=$N_JOBS"
   ]
  },
  {
   "cell_type": "markdown",
   "id": "4dcb69b8",
   "metadata": {
    "papermill": {
     "duration": 0.007927,
     "end_time": "2022-09-13T16:02:34.417324",
     "exception": false,
     "start_time": "2022-09-13T16:02:34.409397",
     "status": "completed"
    },
    "tags": []
   },
   "source": [
    "# Modules loading"
   ]
  },
  {
   "cell_type": "code",
   "execution_count": 3,
   "id": "7a0727cc",
   "metadata": {
    "execution": {
     "iopub.execute_input": "2022-09-13T16:02:34.434368Z",
     "iopub.status.busy": "2022-09-13T16:02:34.434157Z",
     "iopub.status.idle": "2022-09-13T16:02:34.448053Z",
     "shell.execute_reply": "2022-09-13T16:02:34.447452Z"
    },
    "papermill": {
     "duration": 0.024265,
     "end_time": "2022-09-13T16:02:34.449448",
     "exception": false,
     "start_time": "2022-09-13T16:02:34.425183",
     "status": "completed"
    },
    "tags": []
   },
   "outputs": [],
   "source": [
    "%load_ext autoreload\n",
    "%autoreload 2"
   ]
  },
  {
   "cell_type": "code",
   "execution_count": 4,
   "id": "961395dd",
   "metadata": {
    "execution": {
     "iopub.execute_input": "2022-09-13T16:02:34.472294Z",
     "iopub.status.busy": "2022-09-13T16:02:34.472132Z",
     "iopub.status.idle": "2022-09-13T16:02:35.120392Z",
     "shell.execute_reply": "2022-09-13T16:02:35.119859Z"
    },
    "papermill": {
     "duration": 0.658728,
     "end_time": "2022-09-13T16:02:35.121907",
     "exception": false,
     "start_time": "2022-09-13T16:02:34.463179",
     "status": "completed"
    },
    "tags": []
   },
   "outputs": [],
   "source": [
    "from pathlib import Path\n",
    "\n",
    "import numpy as np\n",
    "import pandas as pd\n",
    "import matplotlib.pyplot as plt\n",
    "import seaborn as sns\n",
    "\n",
    "from utils import generate_result_set_name"
   ]
  },
  {
   "cell_type": "markdown",
   "id": "ba5f9c3f",
   "metadata": {
    "papermill": {
     "duration": 0.007618,
     "end_time": "2022-09-13T16:02:35.138053",
     "exception": false,
     "start_time": "2022-09-13T16:02:35.130435",
     "status": "completed"
    },
    "tags": []
   },
   "source": [
    "# Settings"
   ]
  },
  {
   "cell_type": "code",
   "execution_count": 5,
   "id": "56ceb768",
   "metadata": {
    "execution": {
     "iopub.execute_input": "2022-09-13T16:02:35.154834Z",
     "iopub.status.busy": "2022-09-13T16:02:35.154621Z",
     "iopub.status.idle": "2022-09-13T16:02:35.171883Z",
     "shell.execute_reply": "2022-09-13T16:02:35.171164Z"
    },
    "papermill": {
     "duration": 0.027214,
     "end_time": "2022-09-13T16:02:35.173277",
     "exception": false,
     "start_time": "2022-09-13T16:02:35.146063",
     "status": "completed"
    },
    "tags": []
   },
   "outputs": [],
   "source": [
    "np.random.seed(0)"
   ]
  },
  {
   "cell_type": "code",
   "execution_count": 6,
   "id": "42c52f9a",
   "metadata": {
    "execution": {
     "iopub.execute_input": "2022-09-13T16:02:35.219100Z",
     "iopub.status.busy": "2022-09-13T16:02:35.218896Z",
     "iopub.status.idle": "2022-09-13T16:02:35.237576Z",
     "shell.execute_reply": "2022-09-13T16:02:35.237014Z"
    },
    "papermill": {
     "duration": 0.057594,
     "end_time": "2022-09-13T16:02:35.239156",
     "exception": false,
     "start_time": "2022-09-13T16:02:35.181562",
     "status": "completed"
    },
    "tags": []
   },
   "outputs": [],
   "source": [
    "INITIAL_RANDOM_STATE = 20000"
   ]
  },
  {
   "cell_type": "code",
   "execution_count": null,
   "id": "9e5c3cde-ffc0-4355-848e-dbbbfa14a7e2",
   "metadata": {},
   "outputs": [],
   "source": [
    "NULL_DIR = conf.RESULTS[\"CLUSTERING_NULL_DIR\"], \"shuffle_genes\""
   ]
  },
  {
   "cell_type": "markdown",
   "id": "91600e69",
   "metadata": {
    "papermill": {
     "duration": 0.009423,
     "end_time": "2022-09-13T16:02:35.259675",
     "exception": false,
     "start_time": "2022-09-13T16:02:35.250252",
     "status": "completed"
    },
    "tags": []
   },
   "source": [
    "## Input data"
   ]
  },
  {
   "cell_type": "code",
   "execution_count": 7,
   "id": "d2e6efba",
   "metadata": {
    "execution": {
     "iopub.execute_input": "2022-09-13T16:02:35.277571Z",
     "iopub.status.busy": "2022-09-13T16:02:35.277405Z",
     "iopub.status.idle": "2022-09-13T16:02:35.293518Z",
     "shell.execute_reply": "2022-09-13T16:02:35.293063Z"
    },
    "papermill": {
     "duration": 0.026453,
     "end_time": "2022-09-13T16:02:35.294929",
     "exception": false,
     "start_time": "2022-09-13T16:02:35.268476",
     "status": "completed"
    },
    "tags": []
   },
   "outputs": [],
   "source": [
    "INPUT_SUBSET = \"umap\""
   ]
  },
  {
   "cell_type": "code",
   "execution_count": 8,
   "id": "08caa708",
   "metadata": {
    "execution": {
     "iopub.execute_input": "2022-09-13T16:02:35.312278Z",
     "iopub.status.busy": "2022-09-13T16:02:35.312117Z",
     "iopub.status.idle": "2022-09-13T16:02:35.328391Z",
     "shell.execute_reply": "2022-09-13T16:02:35.327909Z"
    },
    "papermill": {
     "duration": 0.026341,
     "end_time": "2022-09-13T16:02:35.329793",
     "exception": false,
     "start_time": "2022-09-13T16:02:35.303452",
     "status": "completed"
    },
    "tags": []
   },
   "outputs": [],
   "source": [
    "INPUT_STEM = \"z_score_std-projection-smultixcan-efo_partial-mashr-zscores\""
   ]
  },
  {
   "cell_type": "code",
   "execution_count": 9,
   "id": "05db4f1f",
   "metadata": {
    "execution": {
     "iopub.execute_input": "2022-09-13T16:02:35.347672Z",
     "iopub.status.busy": "2022-09-13T16:02:35.347139Z",
     "iopub.status.idle": "2022-09-13T16:02:35.363602Z",
     "shell.execute_reply": "2022-09-13T16:02:35.363106Z"
    },
    "papermill": {
     "duration": 0.0267,
     "end_time": "2022-09-13T16:02:35.364936",
     "exception": false,
     "start_time": "2022-09-13T16:02:35.338236",
     "status": "completed"
    },
    "tags": []
   },
   "outputs": [],
   "source": [
    "DR_OPTIONS = {\n",
    "    \"n_components\": 50,\n",
    "    \"metric\": \"euclidean\",\n",
    "    \"n_neighbors\": 15,\n",
    "    \"random_state\": 0,\n",
    "}"
   ]
  },
  {
   "cell_type": "code",
   "execution_count": 10,
   "id": "a84334bb",
   "metadata": {
    "execution": {
     "iopub.execute_input": "2022-09-13T16:02:35.382481Z",
     "iopub.status.busy": "2022-09-13T16:02:35.382309Z",
     "iopub.status.idle": "2022-09-13T16:02:35.401325Z",
     "shell.execute_reply": "2022-09-13T16:02:35.400788Z"
    },
    "papermill": {
     "duration": 0.029272,
     "end_time": "2022-09-13T16:02:35.402643",
     "exception": false,
     "start_time": "2022-09-13T16:02:35.373371",
     "status": "completed"
    },
    "tags": []
   },
   "outputs": [
    {
     "data": {
      "text/plain": [
       "PosixPath('/opt/data/results/clustering/null_sims/data_transformations/umap/umap-z_score_std-projection-smultixcan-efo_partial-mashr-zscores-metric_euclidean-n_components_50-n_neighbors_15-random_state_0.pkl')"
      ]
     },
     "metadata": {},
     "output_type": "display_data"
    },
    {
     "data": {
      "text/plain": [
       "'umap-z_score_std-projection-smultixcan-efo_partial-mashr-zscores-metric_euclidean-n_components_50-n_neighbors_15-random_state_0'"
      ]
     },
     "metadata": {},
     "output_type": "display_data"
    }
   ],
   "source": [
    "input_filepath = Path(\n",
    "    NULL_DIR,\n",
    "    \"data_transformations\",\n",
    "    INPUT_SUBSET,\n",
    "    generate_result_set_name(\n",
    "        DR_OPTIONS, prefix=f\"{INPUT_SUBSET}-{INPUT_STEM}-\", suffix=\".pkl\"\n",
    "    ),\n",
    ").resolve()\n",
    "display(input_filepath)\n",
    "\n",
    "assert input_filepath.exists(), \"Input file does not exist\"\n",
    "\n",
    "input_filepath_stem = input_filepath.stem\n",
    "display(input_filepath_stem)"
   ]
  },
  {
   "cell_type": "markdown",
   "id": "345790ea",
   "metadata": {
    "papermill": {
     "duration": 0.008345,
     "end_time": "2022-09-13T16:02:35.419734",
     "exception": false,
     "start_time": "2022-09-13T16:02:35.411389",
     "status": "completed"
    },
    "tags": []
   },
   "source": [
    "## Clustering"
   ]
  },
  {
   "cell_type": "code",
   "execution_count": 11,
   "id": "597e8cea",
   "metadata": {
    "execution": {
     "iopub.execute_input": "2022-09-13T16:02:35.436969Z",
     "iopub.status.busy": "2022-09-13T16:02:35.436745Z",
     "iopub.status.idle": "2022-09-13T16:02:35.527607Z",
     "shell.execute_reply": "2022-09-13T16:02:35.526938Z"
    },
    "papermill": {
     "duration": 0.10073,
     "end_time": "2022-09-13T16:02:35.528966",
     "exception": false,
     "start_time": "2022-09-13T16:02:35.428236",
     "status": "completed"
    },
    "tags": []
   },
   "outputs": [],
   "source": [
    "from sklearn.cluster import KMeans"
   ]
  },
  {
   "cell_type": "code",
   "execution_count": 12,
   "id": "a11913bd",
   "metadata": {
    "execution": {
     "iopub.execute_input": "2022-09-13T16:02:35.548317Z",
     "iopub.status.busy": "2022-09-13T16:02:35.548156Z",
     "iopub.status.idle": "2022-09-13T16:02:35.565721Z",
     "shell.execute_reply": "2022-09-13T16:02:35.565076Z"
    },
    "papermill": {
     "duration": 0.029179,
     "end_time": "2022-09-13T16:02:35.567122",
     "exception": false,
     "start_time": "2022-09-13T16:02:35.537943",
     "status": "completed"
    },
    "tags": []
   },
   "outputs": [],
   "source": [
    "CLUSTERING_ATTRIBUTES_TO_SAVE = [\"n_clusters\"]"
   ]
  },
  {
   "cell_type": "code",
   "execution_count": 13,
   "id": "67d5520e",
   "metadata": {
    "execution": {
     "iopub.execute_input": "2022-09-13T16:02:35.584962Z",
     "iopub.status.busy": "2022-09-13T16:02:35.584795Z",
     "iopub.status.idle": "2022-09-13T16:02:35.604496Z",
     "shell.execute_reply": "2022-09-13T16:02:35.603980Z"
    },
    "papermill": {
     "duration": 0.030176,
     "end_time": "2022-09-13T16:02:35.605853",
     "exception": false,
     "start_time": "2022-09-13T16:02:35.575677",
     "status": "completed"
    },
    "tags": []
   },
   "outputs": [
    {
     "data": {
      "text/plain": [
       "{'K_MIN': 2, 'K_MAX': 60, 'N_REPS_PER_K': 5, 'KMEANS_N_INIT': 10}"
      ]
     },
     "metadata": {},
     "output_type": "display_data"
    }
   ],
   "source": [
    "CLUSTERING_OPTIONS = {}\n",
    "\n",
    "CLUSTERING_OPTIONS[\"K_MIN\"] = 2\n",
    "CLUSTERING_OPTIONS[\"K_MAX\"] = 60  # sqrt(3749)\n",
    "CLUSTERING_OPTIONS[\"N_REPS_PER_K\"] = 5\n",
    "CLUSTERING_OPTIONS[\"KMEANS_N_INIT\"] = 10\n",
    "\n",
    "display(CLUSTERING_OPTIONS)"
   ]
  },
  {
   "cell_type": "code",
   "execution_count": 14,
   "id": "e2966d1d",
   "metadata": {
    "execution": {
     "iopub.execute_input": "2022-09-13T16:02:35.623480Z",
     "iopub.status.busy": "2022-09-13T16:02:35.623308Z",
     "iopub.status.idle": "2022-09-13T16:02:35.643334Z",
     "shell.execute_reply": "2022-09-13T16:02:35.642844Z"
    },
    "papermill": {
     "duration": 0.030307,
     "end_time": "2022-09-13T16:02:35.644758",
     "exception": false,
     "start_time": "2022-09-13T16:02:35.614451",
     "status": "completed"
    },
    "tags": []
   },
   "outputs": [],
   "source": [
    "CLUSTERERS = {}\n",
    "\n",
    "idx = 0\n",
    "random_state = INITIAL_RANDOM_STATE\n",
    "\n",
    "for k in range(CLUSTERING_OPTIONS[\"K_MIN\"], CLUSTERING_OPTIONS[\"K_MAX\"] + 1):\n",
    "    for i in range(CLUSTERING_OPTIONS[\"N_REPS_PER_K\"]):\n",
    "        clus = KMeans(\n",
    "            n_clusters=k,\n",
    "            n_init=CLUSTERING_OPTIONS[\"KMEANS_N_INIT\"],\n",
    "            random_state=random_state,\n",
    "        )\n",
    "\n",
    "        method_name = type(clus).__name__\n",
    "        CLUSTERERS[f\"{method_name} #{idx}\"] = clus\n",
    "\n",
    "        random_state = random_state + 1\n",
    "        idx = idx + 1"
   ]
  },
  {
   "cell_type": "code",
   "execution_count": 15,
   "id": "8304e53c",
   "metadata": {
    "execution": {
     "iopub.execute_input": "2022-09-13T16:02:35.662698Z",
     "iopub.status.busy": "2022-09-13T16:02:35.662525Z",
     "iopub.status.idle": "2022-09-13T16:02:35.681227Z",
     "shell.execute_reply": "2022-09-13T16:02:35.680660Z"
    },
    "papermill": {
     "duration": 0.029144,
     "end_time": "2022-09-13T16:02:35.682498",
     "exception": false,
     "start_time": "2022-09-13T16:02:35.653354",
     "status": "completed"
    },
    "tags": []
   },
   "outputs": [
    {
     "data": {
      "text/plain": [
       "295"
      ]
     },
     "metadata": {},
     "output_type": "display_data"
    }
   ],
   "source": [
    "display(len(CLUSTERERS))"
   ]
  },
  {
   "cell_type": "code",
   "execution_count": 16,
   "id": "7d7fccb2",
   "metadata": {
    "execution": {
     "iopub.execute_input": "2022-09-13T16:02:35.700030Z",
     "iopub.status.busy": "2022-09-13T16:02:35.699759Z",
     "iopub.status.idle": "2022-09-13T16:02:35.719671Z",
     "shell.execute_reply": "2022-09-13T16:02:35.719119Z"
    },
    "papermill": {
     "duration": 0.029877,
     "end_time": "2022-09-13T16:02:35.720893",
     "exception": false,
     "start_time": "2022-09-13T16:02:35.691016",
     "status": "completed"
    },
    "tags": []
   },
   "outputs": [
    {
     "data": {
      "text/plain": [
       "('KMeans #0', KMeans(n_clusters=2, random_state=20000))"
      ]
     },
     "metadata": {},
     "output_type": "display_data"
    },
    {
     "data": {
      "text/plain": [
       "('KMeans #1', KMeans(n_clusters=2, random_state=20001))"
      ]
     },
     "metadata": {},
     "output_type": "display_data"
    }
   ],
   "source": [
    "_iter = iter(CLUSTERERS.items())\n",
    "display(next(_iter))\n",
    "display(next(_iter))"
   ]
  },
  {
   "cell_type": "code",
   "execution_count": 17,
   "id": "cac9cd6d",
   "metadata": {
    "execution": {
     "iopub.execute_input": "2022-09-13T16:02:35.739067Z",
     "iopub.status.busy": "2022-09-13T16:02:35.738908Z",
     "iopub.status.idle": "2022-09-13T16:02:35.757330Z",
     "shell.execute_reply": "2022-09-13T16:02:35.756891Z"
    },
    "papermill": {
     "duration": 0.028912,
     "end_time": "2022-09-13T16:02:35.758612",
     "exception": false,
     "start_time": "2022-09-13T16:02:35.729700",
     "status": "completed"
    },
    "tags": []
   },
   "outputs": [
    {
     "data": {
      "text/plain": [
       "'KMeans'"
      ]
     },
     "metadata": {},
     "output_type": "display_data"
    }
   ],
   "source": [
    "clustering_method_name = method_name\n",
    "display(clustering_method_name)"
   ]
  },
  {
   "cell_type": "markdown",
   "id": "1078d26d",
   "metadata": {
    "papermill": {
     "duration": 0.008494,
     "end_time": "2022-09-13T16:02:35.776012",
     "exception": false,
     "start_time": "2022-09-13T16:02:35.767518",
     "status": "completed"
    },
    "tags": []
   },
   "source": [
    "## Output directory"
   ]
  },
  {
   "cell_type": "code",
   "execution_count": 18,
   "id": "c9e38445",
   "metadata": {
    "execution": {
     "iopub.execute_input": "2022-09-13T16:02:35.793004Z",
     "iopub.status.busy": "2022-09-13T16:02:35.792766Z",
     "iopub.status.idle": "2022-09-13T16:02:35.812126Z",
     "shell.execute_reply": "2022-09-13T16:02:35.811579Z"
    },
    "papermill": {
     "duration": 0.029205,
     "end_time": "2022-09-13T16:02:35.813387",
     "exception": false,
     "start_time": "2022-09-13T16:02:35.784182",
     "status": "completed"
    },
    "tags": []
   },
   "outputs": [
    {
     "data": {
      "text/plain": [
       "PosixPath('/opt/data/results/clustering/null_sims/runs/umap-z_score_std-projection-smultixcan-efo_partial-mashr-zscores')"
      ]
     },
     "metadata": {},
     "output_type": "display_data"
    }
   ],
   "source": [
    "# output dir for this notebook\n",
    "RESULTS_DIR = Path(\n",
    "    NULL_DIR,\n",
    "    \"runs\",\n",
    "    f\"{INPUT_SUBSET}-{INPUT_STEM}\",\n",
    ").resolve()\n",
    "RESULTS_DIR.mkdir(parents=True, exist_ok=True)\n",
    "\n",
    "display(RESULTS_DIR)"
   ]
  },
  {
   "cell_type": "markdown",
   "id": "6df10d47",
   "metadata": {
    "papermill": {
     "duration": 0.008375,
     "end_time": "2022-09-13T16:02:35.830401",
     "exception": false,
     "start_time": "2022-09-13T16:02:35.822026",
     "status": "completed"
    },
    "tags": []
   },
   "source": [
    "# Load input file"
   ]
  },
  {
   "cell_type": "code",
   "execution_count": 19,
   "id": "fe6a9f23",
   "metadata": {
    "execution": {
     "iopub.execute_input": "2022-09-13T16:02:35.848271Z",
     "iopub.status.busy": "2022-09-13T16:02:35.848033Z",
     "iopub.status.idle": "2022-09-13T16:02:35.867656Z",
     "shell.execute_reply": "2022-09-13T16:02:35.867151Z"
    },
    "papermill": {
     "duration": 0.030211,
     "end_time": "2022-09-13T16:02:35.869069",
     "exception": false,
     "start_time": "2022-09-13T16:02:35.838858",
     "status": "completed"
    },
    "tags": []
   },
   "outputs": [],
   "source": [
    "data = pd.read_pickle(input_filepath)"
   ]
  },
  {
   "cell_type": "code",
   "execution_count": 20,
   "id": "3d76cff9",
   "metadata": {
    "execution": {
     "iopub.execute_input": "2022-09-13T16:02:35.888129Z",
     "iopub.status.busy": "2022-09-13T16:02:35.887952Z",
     "iopub.status.idle": "2022-09-13T16:02:35.907273Z",
     "shell.execute_reply": "2022-09-13T16:02:35.906743Z"
    },
    "papermill": {
     "duration": 0.030654,
     "end_time": "2022-09-13T16:02:35.908658",
     "exception": false,
     "start_time": "2022-09-13T16:02:35.878004",
     "status": "completed"
    },
    "tags": []
   },
   "outputs": [
    {
     "data": {
      "text/plain": [
       "(3752, 50)"
      ]
     },
     "execution_count": 20,
     "metadata": {},
     "output_type": "execute_result"
    }
   ],
   "source": [
    "data.shape"
   ]
  },
  {
   "cell_type": "code",
   "execution_count": 21,
   "id": "8c3d3cbe",
   "metadata": {
    "execution": {
     "iopub.execute_input": "2022-09-13T16:02:35.928018Z",
     "iopub.status.busy": "2022-09-13T16:02:35.927847Z",
     "iopub.status.idle": "2022-09-13T16:02:35.961300Z",
     "shell.execute_reply": "2022-09-13T16:02:35.960777Z"
    },
    "papermill": {
     "duration": 0.04427,
     "end_time": "2022-09-13T16:02:35.962538",
     "exception": false,
     "start_time": "2022-09-13T16:02:35.918268",
     "status": "completed"
    },
    "tags": []
   },
   "outputs": [
    {
     "data": {
      "text/html": [
       "<div>\n",
       "<style scoped>\n",
       "    .dataframe tbody tr th:only-of-type {\n",
       "        vertical-align: middle;\n",
       "    }\n",
       "\n",
       "    .dataframe tbody tr th {\n",
       "        vertical-align: top;\n",
       "    }\n",
       "\n",
       "    .dataframe thead th {\n",
       "        text-align: right;\n",
       "    }\n",
       "</style>\n",
       "<table border=\"1\" class=\"dataframe\">\n",
       "  <thead>\n",
       "    <tr style=\"text-align: right;\">\n",
       "      <th></th>\n",
       "      <th>UMAP1</th>\n",
       "      <th>UMAP2</th>\n",
       "      <th>UMAP3</th>\n",
       "      <th>UMAP4</th>\n",
       "      <th>UMAP5</th>\n",
       "      <th>UMAP6</th>\n",
       "      <th>UMAP7</th>\n",
       "      <th>UMAP8</th>\n",
       "      <th>UMAP9</th>\n",
       "      <th>UMAP10</th>\n",
       "      <th>...</th>\n",
       "      <th>UMAP41</th>\n",
       "      <th>UMAP42</th>\n",
       "      <th>UMAP43</th>\n",
       "      <th>UMAP44</th>\n",
       "      <th>UMAP45</th>\n",
       "      <th>UMAP46</th>\n",
       "      <th>UMAP47</th>\n",
       "      <th>UMAP48</th>\n",
       "      <th>UMAP49</th>\n",
       "      <th>UMAP50</th>\n",
       "    </tr>\n",
       "  </thead>\n",
       "  <tbody>\n",
       "    <tr>\n",
       "      <th>100001_raw-Food_weight</th>\n",
       "      <td>6.554080</td>\n",
       "      <td>5.281644</td>\n",
       "      <td>7.335147</td>\n",
       "      <td>4.784761</td>\n",
       "      <td>6.145352</td>\n",
       "      <td>6.611291</td>\n",
       "      <td>5.023619</td>\n",
       "      <td>4.358376</td>\n",
       "      <td>5.172933</td>\n",
       "      <td>6.731123</td>\n",
       "      <td>...</td>\n",
       "      <td>9.107204</td>\n",
       "      <td>7.465721</td>\n",
       "      <td>8.788528</td>\n",
       "      <td>9.572570</td>\n",
       "      <td>9.679030</td>\n",
       "      <td>1.911065</td>\n",
       "      <td>5.402421</td>\n",
       "      <td>5.005345</td>\n",
       "      <td>2.798605</td>\n",
       "      <td>5.674561</td>\n",
       "    </tr>\n",
       "    <tr>\n",
       "      <th>100002_raw-Energy</th>\n",
       "      <td>6.460916</td>\n",
       "      <td>5.505183</td>\n",
       "      <td>7.399599</td>\n",
       "      <td>4.883557</td>\n",
       "      <td>6.300282</td>\n",
       "      <td>6.617465</td>\n",
       "      <td>5.325193</td>\n",
       "      <td>4.325032</td>\n",
       "      <td>5.428046</td>\n",
       "      <td>7.023396</td>\n",
       "      <td>...</td>\n",
       "      <td>9.018374</td>\n",
       "      <td>7.488490</td>\n",
       "      <td>8.812325</td>\n",
       "      <td>9.568748</td>\n",
       "      <td>9.703897</td>\n",
       "      <td>1.830261</td>\n",
       "      <td>5.426361</td>\n",
       "      <td>4.880517</td>\n",
       "      <td>2.736183</td>\n",
       "      <td>5.691994</td>\n",
       "    </tr>\n",
       "    <tr>\n",
       "      <th>100003_raw-Protein</th>\n",
       "      <td>6.466805</td>\n",
       "      <td>5.458629</td>\n",
       "      <td>7.368454</td>\n",
       "      <td>4.923854</td>\n",
       "      <td>6.393869</td>\n",
       "      <td>6.636221</td>\n",
       "      <td>5.306796</td>\n",
       "      <td>4.363737</td>\n",
       "      <td>5.470543</td>\n",
       "      <td>7.056087</td>\n",
       "      <td>...</td>\n",
       "      <td>9.005486</td>\n",
       "      <td>7.504950</td>\n",
       "      <td>8.769291</td>\n",
       "      <td>9.523876</td>\n",
       "      <td>9.748778</td>\n",
       "      <td>1.860021</td>\n",
       "      <td>5.457011</td>\n",
       "      <td>4.862948</td>\n",
       "      <td>2.789229</td>\n",
       "      <td>5.680467</td>\n",
       "    </tr>\n",
       "    <tr>\n",
       "      <th>100004_raw-Fat</th>\n",
       "      <td>6.564027</td>\n",
       "      <td>5.311611</td>\n",
       "      <td>7.302944</td>\n",
       "      <td>4.877467</td>\n",
       "      <td>6.186177</td>\n",
       "      <td>6.692945</td>\n",
       "      <td>5.133474</td>\n",
       "      <td>4.370428</td>\n",
       "      <td>5.349103</td>\n",
       "      <td>6.923361</td>\n",
       "      <td>...</td>\n",
       "      <td>9.122827</td>\n",
       "      <td>7.386698</td>\n",
       "      <td>8.914087</td>\n",
       "      <td>9.622107</td>\n",
       "      <td>9.642089</td>\n",
       "      <td>1.847337</td>\n",
       "      <td>5.383461</td>\n",
       "      <td>4.924160</td>\n",
       "      <td>2.730383</td>\n",
       "      <td>5.653959</td>\n",
       "    </tr>\n",
       "    <tr>\n",
       "      <th>100005_raw-Carbohydrate</th>\n",
       "      <td>6.627501</td>\n",
       "      <td>5.250340</td>\n",
       "      <td>7.249473</td>\n",
       "      <td>4.796991</td>\n",
       "      <td>5.966265</td>\n",
       "      <td>6.625223</td>\n",
       "      <td>4.946440</td>\n",
       "      <td>4.482035</td>\n",
       "      <td>5.224523</td>\n",
       "      <td>6.724992</td>\n",
       "      <td>...</td>\n",
       "      <td>9.149892</td>\n",
       "      <td>7.443833</td>\n",
       "      <td>8.843749</td>\n",
       "      <td>9.623201</td>\n",
       "      <td>9.629378</td>\n",
       "      <td>1.898488</td>\n",
       "      <td>5.410903</td>\n",
       "      <td>4.978440</td>\n",
       "      <td>2.766205</td>\n",
       "      <td>5.652066</td>\n",
       "    </tr>\n",
       "  </tbody>\n",
       "</table>\n",
       "<p>5 rows × 50 columns</p>\n",
       "</div>"
      ],
      "text/plain": [
       "                            UMAP1     UMAP2     UMAP3     UMAP4     UMAP5  \\\n",
       "100001_raw-Food_weight   6.554080  5.281644  7.335147  4.784761  6.145352   \n",
       "100002_raw-Energy        6.460916  5.505183  7.399599  4.883557  6.300282   \n",
       "100003_raw-Protein       6.466805  5.458629  7.368454  4.923854  6.393869   \n",
       "100004_raw-Fat           6.564027  5.311611  7.302944  4.877467  6.186177   \n",
       "100005_raw-Carbohydrate  6.627501  5.250340  7.249473  4.796991  5.966265   \n",
       "\n",
       "                            UMAP6     UMAP7     UMAP8     UMAP9    UMAP10  \\\n",
       "100001_raw-Food_weight   6.611291  5.023619  4.358376  5.172933  6.731123   \n",
       "100002_raw-Energy        6.617465  5.325193  4.325032  5.428046  7.023396   \n",
       "100003_raw-Protein       6.636221  5.306796  4.363737  5.470543  7.056087   \n",
       "100004_raw-Fat           6.692945  5.133474  4.370428  5.349103  6.923361   \n",
       "100005_raw-Carbohydrate  6.625223  4.946440  4.482035  5.224523  6.724992   \n",
       "\n",
       "                         ...    UMAP41    UMAP42    UMAP43    UMAP44  \\\n",
       "100001_raw-Food_weight   ...  9.107204  7.465721  8.788528  9.572570   \n",
       "100002_raw-Energy        ...  9.018374  7.488490  8.812325  9.568748   \n",
       "100003_raw-Protein       ...  9.005486  7.504950  8.769291  9.523876   \n",
       "100004_raw-Fat           ...  9.122827  7.386698  8.914087  9.622107   \n",
       "100005_raw-Carbohydrate  ...  9.149892  7.443833  8.843749  9.623201   \n",
       "\n",
       "                           UMAP45    UMAP46    UMAP47    UMAP48    UMAP49  \\\n",
       "100001_raw-Food_weight   9.679030  1.911065  5.402421  5.005345  2.798605   \n",
       "100002_raw-Energy        9.703897  1.830261  5.426361  4.880517  2.736183   \n",
       "100003_raw-Protein       9.748778  1.860021  5.457011  4.862948  2.789229   \n",
       "100004_raw-Fat           9.642089  1.847337  5.383461  4.924160  2.730383   \n",
       "100005_raw-Carbohydrate  9.629378  1.898488  5.410903  4.978440  2.766205   \n",
       "\n",
       "                           UMAP50  \n",
       "100001_raw-Food_weight   5.674561  \n",
       "100002_raw-Energy        5.691994  \n",
       "100003_raw-Protein       5.680467  \n",
       "100004_raw-Fat           5.653959  \n",
       "100005_raw-Carbohydrate  5.652066  \n",
       "\n",
       "[5 rows x 50 columns]"
      ]
     },
     "execution_count": 21,
     "metadata": {},
     "output_type": "execute_result"
    }
   ],
   "source": [
    "data.head()"
   ]
  },
  {
   "cell_type": "code",
   "execution_count": 22,
   "id": "a2404790",
   "metadata": {
    "execution": {
     "iopub.execute_input": "2022-09-13T16:02:35.981061Z",
     "iopub.status.busy": "2022-09-13T16:02:35.980849Z",
     "iopub.status.idle": "2022-09-13T16:02:35.999659Z",
     "shell.execute_reply": "2022-09-13T16:02:35.999157Z"
    },
    "papermill": {
     "duration": 0.029646,
     "end_time": "2022-09-13T16:02:36.001135",
     "exception": false,
     "start_time": "2022-09-13T16:02:35.971489",
     "status": "completed"
    },
    "tags": []
   },
   "outputs": [],
   "source": [
    "assert not data.isna().any().any()"
   ]
  },
  {
   "cell_type": "markdown",
   "id": "21a4325b",
   "metadata": {
    "papermill": {
     "duration": 0.008961,
     "end_time": "2022-09-13T16:02:36.019675",
     "exception": false,
     "start_time": "2022-09-13T16:02:36.010714",
     "status": "completed"
    },
    "tags": []
   },
   "source": [
    "# Clustering"
   ]
  },
  {
   "cell_type": "markdown",
   "id": "20830bc5",
   "metadata": {
    "papermill": {
     "duration": 0.00806,
     "end_time": "2022-09-13T16:02:36.036361",
     "exception": false,
     "start_time": "2022-09-13T16:02:36.028301",
     "status": "completed"
    },
    "tags": []
   },
   "source": [
    "## Generate ensemble"
   ]
  },
  {
   "cell_type": "code",
   "execution_count": 23,
   "id": "ebc23812",
   "metadata": {
    "execution": {
     "iopub.execute_input": "2022-09-13T16:02:36.054137Z",
     "iopub.status.busy": "2022-09-13T16:02:36.053925Z",
     "iopub.status.idle": "2022-09-13T16:02:36.075130Z",
     "shell.execute_reply": "2022-09-13T16:02:36.074579Z"
    },
    "papermill": {
     "duration": 0.031632,
     "end_time": "2022-09-13T16:02:36.076524",
     "exception": false,
     "start_time": "2022-09-13T16:02:36.044892",
     "status": "completed"
    },
    "tags": []
   },
   "outputs": [],
   "source": [
    "from clustering.ensembles.utils import generate_ensemble"
   ]
  },
  {
   "cell_type": "code",
   "execution_count": 24,
   "id": "2bdd8139",
   "metadata": {
    "execution": {
     "iopub.execute_input": "2022-09-13T16:02:36.095056Z",
     "iopub.status.busy": "2022-09-13T16:02:36.094891Z",
     "iopub.status.idle": "2022-09-13T16:08:15.721981Z",
     "shell.execute_reply": "2022-09-13T16:08:15.721482Z"
    },
    "papermill": {
     "duration": 339.637674,
     "end_time": "2022-09-13T16:08:15.723213",
     "exception": false,
     "start_time": "2022-09-13T16:02:36.085539",
     "status": "completed"
    },
    "tags": []
   },
   "outputs": [
    {
     "name": "stderr",
     "output_type": "stream",
     "text": [
      "100%|██████████| 295/295 [05:39<00:00,  1.15s/it]\n"
     ]
    }
   ],
   "source": [
    "ensemble = generate_ensemble(\n",
    "    data,\n",
    "    CLUSTERERS,\n",
    "    attributes=CLUSTERING_ATTRIBUTES_TO_SAVE,\n",
    ")"
   ]
  },
  {
   "cell_type": "code",
   "execution_count": 25,
   "id": "17b0af54",
   "metadata": {
    "execution": {
     "iopub.execute_input": "2022-09-13T16:08:15.758944Z",
     "iopub.status.busy": "2022-09-13T16:08:15.758730Z",
     "iopub.status.idle": "2022-09-13T16:08:15.777309Z",
     "shell.execute_reply": "2022-09-13T16:08:15.776858Z"
    },
    "papermill": {
     "duration": 0.037856,
     "end_time": "2022-09-13T16:08:15.778583",
     "exception": false,
     "start_time": "2022-09-13T16:08:15.740727",
     "status": "completed"
    },
    "tags": []
   },
   "outputs": [
    {
     "data": {
      "text/plain": [
       "(295, 3)"
      ]
     },
     "execution_count": 25,
     "metadata": {},
     "output_type": "execute_result"
    }
   ],
   "source": [
    "# the number should be close to 295 (the number of partitions generated by k-means/spectral clustering)\n",
    "ensemble.shape"
   ]
  },
  {
   "cell_type": "code",
   "execution_count": 26,
   "id": "32420cf6",
   "metadata": {
    "execution": {
     "iopub.execute_input": "2022-09-13T16:08:15.815656Z",
     "iopub.status.busy": "2022-09-13T16:08:15.815494Z",
     "iopub.status.idle": "2022-09-13T16:08:15.840879Z",
     "shell.execute_reply": "2022-09-13T16:08:15.840427Z"
    },
    "papermill": {
     "duration": 0.045365,
     "end_time": "2022-09-13T16:08:15.842160",
     "exception": false,
     "start_time": "2022-09-13T16:08:15.796795",
     "status": "completed"
    },
    "tags": []
   },
   "outputs": [
    {
     "data": {
      "text/html": [
       "<div>\n",
       "<style scoped>\n",
       "    .dataframe tbody tr th:only-of-type {\n",
       "        vertical-align: middle;\n",
       "    }\n",
       "\n",
       "    .dataframe tbody tr th {\n",
       "        vertical-align: top;\n",
       "    }\n",
       "\n",
       "    .dataframe thead th {\n",
       "        text-align: right;\n",
       "    }\n",
       "</style>\n",
       "<table border=\"1\" class=\"dataframe\">\n",
       "  <thead>\n",
       "    <tr style=\"text-align: right;\">\n",
       "      <th></th>\n",
       "      <th>clusterer_params</th>\n",
       "      <th>partition</th>\n",
       "      <th>n_clusters</th>\n",
       "    </tr>\n",
       "    <tr>\n",
       "      <th>clusterer_id</th>\n",
       "      <th></th>\n",
       "      <th></th>\n",
       "      <th></th>\n",
       "    </tr>\n",
       "  </thead>\n",
       "  <tbody>\n",
       "    <tr>\n",
       "      <th>KMeans #0</th>\n",
       "      <td>{'algorithm': 'auto', 'copy_x': True, 'init': ...</td>\n",
       "      <td>[0.0, 0.0, 0.0, 0.0, 0.0, 0.0, 0.0, 0.0, 0.0, ...</td>\n",
       "      <td>2</td>\n",
       "    </tr>\n",
       "    <tr>\n",
       "      <th>KMeans #1</th>\n",
       "      <td>{'algorithm': 'auto', 'copy_x': True, 'init': ...</td>\n",
       "      <td>[0.0, 0.0, 0.0, 0.0, 0.0, 0.0, 0.0, 0.0, 0.0, ...</td>\n",
       "      <td>2</td>\n",
       "    </tr>\n",
       "    <tr>\n",
       "      <th>KMeans #2</th>\n",
       "      <td>{'algorithm': 'auto', 'copy_x': True, 'init': ...</td>\n",
       "      <td>[0.0, 0.0, 0.0, 0.0, 0.0, 0.0, 0.0, 0.0, 0.0, ...</td>\n",
       "      <td>2</td>\n",
       "    </tr>\n",
       "    <tr>\n",
       "      <th>KMeans #3</th>\n",
       "      <td>{'algorithm': 'auto', 'copy_x': True, 'init': ...</td>\n",
       "      <td>[0.0, 0.0, 0.0, 0.0, 0.0, 0.0, 0.0, 0.0, 0.0, ...</td>\n",
       "      <td>2</td>\n",
       "    </tr>\n",
       "    <tr>\n",
       "      <th>KMeans #4</th>\n",
       "      <td>{'algorithm': 'auto', 'copy_x': True, 'init': ...</td>\n",
       "      <td>[0.0, 0.0, 0.0, 0.0, 0.0, 0.0, 0.0, 0.0, 0.0, ...</td>\n",
       "      <td>2</td>\n",
       "    </tr>\n",
       "  </tbody>\n",
       "</table>\n",
       "</div>"
      ],
      "text/plain": [
       "                                               clusterer_params  \\\n",
       "clusterer_id                                                      \n",
       "KMeans #0     {'algorithm': 'auto', 'copy_x': True, 'init': ...   \n",
       "KMeans #1     {'algorithm': 'auto', 'copy_x': True, 'init': ...   \n",
       "KMeans #2     {'algorithm': 'auto', 'copy_x': True, 'init': ...   \n",
       "KMeans #3     {'algorithm': 'auto', 'copy_x': True, 'init': ...   \n",
       "KMeans #4     {'algorithm': 'auto', 'copy_x': True, 'init': ...   \n",
       "\n",
       "                                                      partition  n_clusters  \n",
       "clusterer_id                                                                 \n",
       "KMeans #0     [0.0, 0.0, 0.0, 0.0, 0.0, 0.0, 0.0, 0.0, 0.0, ...           2  \n",
       "KMeans #1     [0.0, 0.0, 0.0, 0.0, 0.0, 0.0, 0.0, 0.0, 0.0, ...           2  \n",
       "KMeans #2     [0.0, 0.0, 0.0, 0.0, 0.0, 0.0, 0.0, 0.0, 0.0, ...           2  \n",
       "KMeans #3     [0.0, 0.0, 0.0, 0.0, 0.0, 0.0, 0.0, 0.0, 0.0, ...           2  \n",
       "KMeans #4     [0.0, 0.0, 0.0, 0.0, 0.0, 0.0, 0.0, 0.0, 0.0, ...           2  "
      ]
     },
     "execution_count": 26,
     "metadata": {},
     "output_type": "execute_result"
    }
   ],
   "source": [
    "ensemble.head()"
   ]
  },
  {
   "cell_type": "code",
   "execution_count": 27,
   "id": "696995b0",
   "metadata": {
    "execution": {
     "iopub.execute_input": "2022-09-13T16:08:15.879918Z",
     "iopub.status.busy": "2022-09-13T16:08:15.879720Z",
     "iopub.status.idle": "2022-09-13T16:08:15.899651Z",
     "shell.execute_reply": "2022-09-13T16:08:15.899175Z"
    },
    "papermill": {
     "duration": 0.040056,
     "end_time": "2022-09-13T16:08:15.900875",
     "exception": false,
     "start_time": "2022-09-13T16:08:15.860819",
     "status": "completed"
    },
    "tags": []
   },
   "outputs": [
    {
     "data": {
      "text/plain": [
       "60    5\n",
       "16    5\n",
       "28    5\n",
       "27    5\n",
       "26    5\n",
       "Name: n_clusters, dtype: int64"
      ]
     },
     "execution_count": 27,
     "metadata": {},
     "output_type": "execute_result"
    }
   ],
   "source": [
    "ensemble[\"n_clusters\"].value_counts().head()"
   ]
  },
  {
   "cell_type": "code",
   "execution_count": 28,
   "id": "1d6548d0",
   "metadata": {
    "execution": {
     "iopub.execute_input": "2022-09-13T16:08:15.938161Z",
     "iopub.status.busy": "2022-09-13T16:08:15.937947Z",
     "iopub.status.idle": "2022-09-13T16:08:15.958438Z",
     "shell.execute_reply": "2022-09-13T16:08:15.957936Z"
    },
    "papermill": {
     "duration": 0.040406,
     "end_time": "2022-09-13T16:08:15.959714",
     "exception": false,
     "start_time": "2022-09-13T16:08:15.919308",
     "status": "completed"
    },
    "tags": []
   },
   "outputs": [
    {
     "data": {
      "text/plain": [
       "count    295.000000\n",
       "mean      31.000000\n",
       "std       17.058323\n",
       "min        2.000000\n",
       "25%       16.000000\n",
       "50%       31.000000\n",
       "75%       46.000000\n",
       "max       60.000000\n",
       "Name: n_clusters, dtype: float64"
      ]
     },
     "metadata": {},
     "output_type": "display_data"
    }
   ],
   "source": [
    "ensemble_stats = ensemble[\"n_clusters\"].describe()\n",
    "display(ensemble_stats)"
   ]
  },
  {
   "cell_type": "markdown",
   "id": "8380f197",
   "metadata": {
    "papermill": {
     "duration": 0.017648,
     "end_time": "2022-09-13T16:08:15.995918",
     "exception": false,
     "start_time": "2022-09-13T16:08:15.978270",
     "status": "completed"
    },
    "tags": []
   },
   "source": [
    "## Testing"
   ]
  },
  {
   "cell_type": "code",
   "execution_count": 29,
   "id": "6ae54bae",
   "metadata": {
    "execution": {
     "iopub.execute_input": "2022-09-13T16:08:16.032274Z",
     "iopub.status.busy": "2022-09-13T16:08:16.032062Z",
     "iopub.status.idle": "2022-09-13T16:08:16.050295Z",
     "shell.execute_reply": "2022-09-13T16:08:16.049770Z"
    },
    "papermill": {
     "duration": 0.038082,
     "end_time": "2022-09-13T16:08:16.051687",
     "exception": false,
     "start_time": "2022-09-13T16:08:16.013605",
     "status": "completed"
    },
    "tags": []
   },
   "outputs": [],
   "source": [
    "assert ensemble_stats[\"min\"] > 1"
   ]
  },
  {
   "cell_type": "code",
   "execution_count": 30,
   "id": "5fa39227",
   "metadata": {
    "execution": {
     "iopub.execute_input": "2022-09-13T16:08:16.090113Z",
     "iopub.status.busy": "2022-09-13T16:08:16.089890Z",
     "iopub.status.idle": "2022-09-13T16:08:16.107942Z",
     "shell.execute_reply": "2022-09-13T16:08:16.107298Z"
    },
    "papermill": {
     "duration": 0.038897,
     "end_time": "2022-09-13T16:08:16.109348",
     "exception": false,
     "start_time": "2022-09-13T16:08:16.070451",
     "status": "completed"
    },
    "tags": []
   },
   "outputs": [],
   "source": [
    "assert not ensemble[\"n_clusters\"].isna().any()"
   ]
  },
  {
   "cell_type": "code",
   "execution_count": 31,
   "id": "77e95a6a",
   "metadata": {
    "execution": {
     "iopub.execute_input": "2022-09-13T16:08:16.147157Z",
     "iopub.status.busy": "2022-09-13T16:08:16.146944Z",
     "iopub.status.idle": "2022-09-13T16:08:16.165173Z",
     "shell.execute_reply": "2022-09-13T16:08:16.164580Z"
    },
    "papermill": {
     "duration": 0.03805,
     "end_time": "2022-09-13T16:08:16.166556",
     "exception": false,
     "start_time": "2022-09-13T16:08:16.128506",
     "status": "completed"
    },
    "tags": []
   },
   "outputs": [],
   "source": [
    "assert ensemble.shape[0] == len(CLUSTERERS)"
   ]
  },
  {
   "cell_type": "code",
   "execution_count": 32,
   "id": "259b8e40",
   "metadata": {
    "execution": {
     "iopub.execute_input": "2022-09-13T16:08:16.205500Z",
     "iopub.status.busy": "2022-09-13T16:08:16.205292Z",
     "iopub.status.idle": "2022-09-13T16:08:16.241296Z",
     "shell.execute_reply": "2022-09-13T16:08:16.240667Z"
    },
    "papermill": {
     "duration": 0.057028,
     "end_time": "2022-09-13T16:08:16.242856",
     "exception": false,
     "start_time": "2022-09-13T16:08:16.185828",
     "status": "completed"
    },
    "tags": []
   },
   "outputs": [],
   "source": [
    "# all partitions have the right size\n",
    "assert np.all(\n",
    "    [part[\"partition\"].shape[0] == data.shape[0] for idx, part in ensemble.iterrows()]\n",
    ")"
   ]
  },
  {
   "cell_type": "code",
   "execution_count": 33,
   "id": "da8eb843",
   "metadata": {
    "execution": {
     "iopub.execute_input": "2022-09-13T16:08:16.279783Z",
     "iopub.status.busy": "2022-09-13T16:08:16.279573Z",
     "iopub.status.idle": "2022-09-13T16:08:16.317984Z",
     "shell.execute_reply": "2022-09-13T16:08:16.317373Z"
    },
    "papermill": {
     "duration": 0.058653,
     "end_time": "2022-09-13T16:08:16.319546",
     "exception": false,
     "start_time": "2022-09-13T16:08:16.260893",
     "status": "completed"
    },
    "tags": []
   },
   "outputs": [],
   "source": [
    "# no partition has negative clusters (noisy points)\n",
    "assert not np.any([(part[\"partition\"] < 0).any() for idx, part in ensemble.iterrows()])"
   ]
  },
  {
   "cell_type": "markdown",
   "id": "fc74a4e6",
   "metadata": {
    "papermill": {
     "duration": 0.019166,
     "end_time": "2022-09-13T16:08:16.357378",
     "exception": false,
     "start_time": "2022-09-13T16:08:16.338212",
     "status": "completed"
    },
    "tags": []
   },
   "source": [
    "## Add clustering quality measures"
   ]
  },
  {
   "cell_type": "code",
   "execution_count": 34,
   "id": "67a882b7",
   "metadata": {
    "execution": {
     "iopub.execute_input": "2022-09-13T16:08:16.394839Z",
     "iopub.status.busy": "2022-09-13T16:08:16.394625Z",
     "iopub.status.idle": "2022-09-13T16:08:16.412752Z",
     "shell.execute_reply": "2022-09-13T16:08:16.412329Z"
    },
    "papermill": {
     "duration": 0.038018,
     "end_time": "2022-09-13T16:08:16.414053",
     "exception": false,
     "start_time": "2022-09-13T16:08:16.376035",
     "status": "completed"
    },
    "tags": []
   },
   "outputs": [],
   "source": [
    "from sklearn.metrics import calinski_harabasz_score"
   ]
  },
  {
   "cell_type": "code",
   "execution_count": 35,
   "id": "6030929b",
   "metadata": {
    "execution": {
     "iopub.execute_input": "2022-09-13T16:08:16.451614Z",
     "iopub.status.busy": "2022-09-13T16:08:16.451193Z",
     "iopub.status.idle": "2022-09-13T16:08:17.384242Z",
     "shell.execute_reply": "2022-09-13T16:08:17.383590Z"
    },
    "papermill": {
     "duration": 0.952965,
     "end_time": "2022-09-13T16:08:17.385753",
     "exception": false,
     "start_time": "2022-09-13T16:08:16.432788",
     "status": "completed"
    },
    "tags": []
   },
   "outputs": [],
   "source": [
    "ensemble = ensemble.assign(\n",
    "    ch_score=ensemble[\"partition\"].apply(lambda x: calinski_harabasz_score(data, x))\n",
    ")"
   ]
  },
  {
   "cell_type": "code",
   "execution_count": 36,
   "id": "8f570f7f",
   "metadata": {
    "execution": {
     "iopub.execute_input": "2022-09-13T16:08:17.424487Z",
     "iopub.status.busy": "2022-09-13T16:08:17.424276Z",
     "iopub.status.idle": "2022-09-13T16:08:17.442922Z",
     "shell.execute_reply": "2022-09-13T16:08:17.442343Z"
    },
    "papermill": {
     "duration": 0.039459,
     "end_time": "2022-09-13T16:08:17.444255",
     "exception": false,
     "start_time": "2022-09-13T16:08:17.404796",
     "status": "completed"
    },
    "tags": []
   },
   "outputs": [
    {
     "data": {
      "text/plain": [
       "(295, 4)"
      ]
     },
     "execution_count": 36,
     "metadata": {},
     "output_type": "execute_result"
    }
   ],
   "source": [
    "ensemble.shape"
   ]
  },
  {
   "cell_type": "code",
   "execution_count": 37,
   "id": "6f56e75a",
   "metadata": {
    "execution": {
     "iopub.execute_input": "2022-09-13T16:08:17.481742Z",
     "iopub.status.busy": "2022-09-13T16:08:17.481529Z",
     "iopub.status.idle": "2022-09-13T16:08:17.508099Z",
     "shell.execute_reply": "2022-09-13T16:08:17.507581Z"
    },
    "papermill": {
     "duration": 0.046349,
     "end_time": "2022-09-13T16:08:17.509408",
     "exception": false,
     "start_time": "2022-09-13T16:08:17.463059",
     "status": "completed"
    },
    "tags": []
   },
   "outputs": [
    {
     "data": {
      "text/html": [
       "<div>\n",
       "<style scoped>\n",
       "    .dataframe tbody tr th:only-of-type {\n",
       "        vertical-align: middle;\n",
       "    }\n",
       "\n",
       "    .dataframe tbody tr th {\n",
       "        vertical-align: top;\n",
       "    }\n",
       "\n",
       "    .dataframe thead th {\n",
       "        text-align: right;\n",
       "    }\n",
       "</style>\n",
       "<table border=\"1\" class=\"dataframe\">\n",
       "  <thead>\n",
       "    <tr style=\"text-align: right;\">\n",
       "      <th></th>\n",
       "      <th>clusterer_params</th>\n",
       "      <th>partition</th>\n",
       "      <th>n_clusters</th>\n",
       "      <th>ch_score</th>\n",
       "    </tr>\n",
       "    <tr>\n",
       "      <th>clusterer_id</th>\n",
       "      <th></th>\n",
       "      <th></th>\n",
       "      <th></th>\n",
       "      <th></th>\n",
       "    </tr>\n",
       "  </thead>\n",
       "  <tbody>\n",
       "    <tr>\n",
       "      <th>KMeans #0</th>\n",
       "      <td>{'algorithm': 'auto', 'copy_x': True, 'init': ...</td>\n",
       "      <td>[0.0, 0.0, 0.0, 0.0, 0.0, 0.0, 0.0, 0.0, 0.0, ...</td>\n",
       "      <td>2</td>\n",
       "      <td>2006.89765</td>\n",
       "    </tr>\n",
       "    <tr>\n",
       "      <th>KMeans #1</th>\n",
       "      <td>{'algorithm': 'auto', 'copy_x': True, 'init': ...</td>\n",
       "      <td>[0.0, 0.0, 0.0, 0.0, 0.0, 0.0, 0.0, 0.0, 0.0, ...</td>\n",
       "      <td>2</td>\n",
       "      <td>2006.89765</td>\n",
       "    </tr>\n",
       "    <tr>\n",
       "      <th>KMeans #2</th>\n",
       "      <td>{'algorithm': 'auto', 'copy_x': True, 'init': ...</td>\n",
       "      <td>[0.0, 0.0, 0.0, 0.0, 0.0, 0.0, 0.0, 0.0, 0.0, ...</td>\n",
       "      <td>2</td>\n",
       "      <td>2006.89765</td>\n",
       "    </tr>\n",
       "    <tr>\n",
       "      <th>KMeans #3</th>\n",
       "      <td>{'algorithm': 'auto', 'copy_x': True, 'init': ...</td>\n",
       "      <td>[0.0, 0.0, 0.0, 0.0, 0.0, 0.0, 0.0, 0.0, 0.0, ...</td>\n",
       "      <td>2</td>\n",
       "      <td>2006.89765</td>\n",
       "    </tr>\n",
       "    <tr>\n",
       "      <th>KMeans #4</th>\n",
       "      <td>{'algorithm': 'auto', 'copy_x': True, 'init': ...</td>\n",
       "      <td>[0.0, 0.0, 0.0, 0.0, 0.0, 0.0, 0.0, 0.0, 0.0, ...</td>\n",
       "      <td>2</td>\n",
       "      <td>2006.89765</td>\n",
       "    </tr>\n",
       "  </tbody>\n",
       "</table>\n",
       "</div>"
      ],
      "text/plain": [
       "                                               clusterer_params  \\\n",
       "clusterer_id                                                      \n",
       "KMeans #0     {'algorithm': 'auto', 'copy_x': True, 'init': ...   \n",
       "KMeans #1     {'algorithm': 'auto', 'copy_x': True, 'init': ...   \n",
       "KMeans #2     {'algorithm': 'auto', 'copy_x': True, 'init': ...   \n",
       "KMeans #3     {'algorithm': 'auto', 'copy_x': True, 'init': ...   \n",
       "KMeans #4     {'algorithm': 'auto', 'copy_x': True, 'init': ...   \n",
       "\n",
       "                                                      partition  n_clusters  \\\n",
       "clusterer_id                                                                  \n",
       "KMeans #0     [0.0, 0.0, 0.0, 0.0, 0.0, 0.0, 0.0, 0.0, 0.0, ...           2   \n",
       "KMeans #1     [0.0, 0.0, 0.0, 0.0, 0.0, 0.0, 0.0, 0.0, 0.0, ...           2   \n",
       "KMeans #2     [0.0, 0.0, 0.0, 0.0, 0.0, 0.0, 0.0, 0.0, 0.0, ...           2   \n",
       "KMeans #3     [0.0, 0.0, 0.0, 0.0, 0.0, 0.0, 0.0, 0.0, 0.0, ...           2   \n",
       "KMeans #4     [0.0, 0.0, 0.0, 0.0, 0.0, 0.0, 0.0, 0.0, 0.0, ...           2   \n",
       "\n",
       "                ch_score  \n",
       "clusterer_id              \n",
       "KMeans #0     2006.89765  \n",
       "KMeans #1     2006.89765  \n",
       "KMeans #2     2006.89765  \n",
       "KMeans #3     2006.89765  \n",
       "KMeans #4     2006.89765  "
      ]
     },
     "execution_count": 37,
     "metadata": {},
     "output_type": "execute_result"
    }
   ],
   "source": [
    "ensemble.head()"
   ]
  },
  {
   "cell_type": "markdown",
   "id": "88a8adfc",
   "metadata": {
    "papermill": {
     "duration": 0.018168,
     "end_time": "2022-09-13T16:08:17.547218",
     "exception": false,
     "start_time": "2022-09-13T16:08:17.529050",
     "status": "completed"
    },
    "tags": []
   },
   "source": [
    "## Save"
   ]
  },
  {
   "cell_type": "code",
   "execution_count": 38,
   "id": "8c66e926",
   "metadata": {
    "execution": {
     "iopub.execute_input": "2022-09-13T16:08:17.583663Z",
     "iopub.status.busy": "2022-09-13T16:08:17.583450Z",
     "iopub.status.idle": "2022-09-13T16:08:17.601990Z",
     "shell.execute_reply": "2022-09-13T16:08:17.601471Z"
    },
    "papermill": {
     "duration": 0.038316,
     "end_time": "2022-09-13T16:08:17.603219",
     "exception": false,
     "start_time": "2022-09-13T16:08:17.564903",
     "status": "completed"
    },
    "tags": []
   },
   "outputs": [
    {
     "data": {
      "text/plain": [
       "PosixPath('/opt/data/results/clustering/null_sims/runs/umap-z_score_std-projection-smultixcan-efo_partial-mashr-zscores/KMeans-KMEANS_N_INIT_10-K_MAX_60-K_MIN_2-N_REPS_PER_K_5.pkl')"
      ]
     },
     "metadata": {},
     "output_type": "display_data"
    }
   ],
   "source": [
    "output_filename = Path(\n",
    "    RESULTS_DIR,\n",
    "    generate_result_set_name(\n",
    "        CLUSTERING_OPTIONS,\n",
    "        prefix=f\"{clustering_method_name}-\",\n",
    "        suffix=\".pkl\",\n",
    "    ),\n",
    ").resolve()\n",
    "display(output_filename)"
   ]
  },
  {
   "cell_type": "code",
   "execution_count": 39,
   "id": "ba16adf4",
   "metadata": {
    "execution": {
     "iopub.execute_input": "2022-09-13T16:08:17.641388Z",
     "iopub.status.busy": "2022-09-13T16:08:17.641165Z",
     "iopub.status.idle": "2022-09-13T16:08:17.673427Z",
     "shell.execute_reply": "2022-09-13T16:08:17.672893Z"
    },
    "papermill": {
     "duration": 0.052972,
     "end_time": "2022-09-13T16:08:17.674870",
     "exception": false,
     "start_time": "2022-09-13T16:08:17.621898",
     "status": "completed"
    },
    "tags": []
   },
   "outputs": [],
   "source": [
    "ensemble.to_pickle(output_filename)"
   ]
  },
  {
   "cell_type": "markdown",
   "id": "6eccf176",
   "metadata": {
    "papermill": {
     "duration": 0.018242,
     "end_time": "2022-09-13T16:08:17.712350",
     "exception": false,
     "start_time": "2022-09-13T16:08:17.694108",
     "status": "completed"
    },
    "tags": []
   },
   "source": [
    "# Cluster quality"
   ]
  },
  {
   "cell_type": "code",
   "execution_count": 40,
   "id": "3ad672e1",
   "metadata": {
    "execution": {
     "iopub.execute_input": "2022-09-13T16:08:17.749348Z",
     "iopub.status.busy": "2022-09-13T16:08:17.749139Z",
     "iopub.status.idle": "2022-09-13T16:08:17.772707Z",
     "shell.execute_reply": "2022-09-13T16:08:17.772176Z"
    },
    "papermill": {
     "duration": 0.043553,
     "end_time": "2022-09-13T16:08:17.774027",
     "exception": false,
     "start_time": "2022-09-13T16:08:17.730474",
     "status": "completed"
    },
    "tags": []
   },
   "outputs": [
    {
     "data": {
      "text/html": [
       "<div>\n",
       "<style scoped>\n",
       "    .dataframe tbody tr th:only-of-type {\n",
       "        vertical-align: middle;\n",
       "    }\n",
       "\n",
       "    .dataframe tbody tr th {\n",
       "        vertical-align: top;\n",
       "    }\n",
       "\n",
       "    .dataframe thead th {\n",
       "        text-align: right;\n",
       "    }\n",
       "</style>\n",
       "<table border=\"1\" class=\"dataframe\">\n",
       "  <thead>\n",
       "    <tr style=\"text-align: right;\">\n",
       "      <th></th>\n",
       "      <th>ch_score</th>\n",
       "    </tr>\n",
       "    <tr>\n",
       "      <th>n_clusters</th>\n",
       "      <th></th>\n",
       "    </tr>\n",
       "  </thead>\n",
       "  <tbody>\n",
       "    <tr>\n",
       "      <th>2</th>\n",
       "      <td>2006.897650</td>\n",
       "    </tr>\n",
       "    <tr>\n",
       "      <th>3</th>\n",
       "      <td>2514.604289</td>\n",
       "    </tr>\n",
       "    <tr>\n",
       "      <th>4</th>\n",
       "      <td>2742.484627</td>\n",
       "    </tr>\n",
       "    <tr>\n",
       "      <th>5</th>\n",
       "      <td>2941.860756</td>\n",
       "    </tr>\n",
       "    <tr>\n",
       "      <th>6</th>\n",
       "      <td>3075.009849</td>\n",
       "    </tr>\n",
       "    <tr>\n",
       "      <th>7</th>\n",
       "      <td>3131.528801</td>\n",
       "    </tr>\n",
       "    <tr>\n",
       "      <th>8</th>\n",
       "      <td>3173.206979</td>\n",
       "    </tr>\n",
       "    <tr>\n",
       "      <th>9</th>\n",
       "      <td>3228.104012</td>\n",
       "    </tr>\n",
       "    <tr>\n",
       "      <th>10</th>\n",
       "      <td>3316.255531</td>\n",
       "    </tr>\n",
       "    <tr>\n",
       "      <th>11</th>\n",
       "      <td>3399.386806</td>\n",
       "    </tr>\n",
       "    <tr>\n",
       "      <th>12</th>\n",
       "      <td>3418.663457</td>\n",
       "    </tr>\n",
       "    <tr>\n",
       "      <th>13</th>\n",
       "      <td>3455.435581</td>\n",
       "    </tr>\n",
       "    <tr>\n",
       "      <th>14</th>\n",
       "      <td>3526.670247</td>\n",
       "    </tr>\n",
       "    <tr>\n",
       "      <th>15</th>\n",
       "      <td>3638.112987</td>\n",
       "    </tr>\n",
       "    <tr>\n",
       "      <th>16</th>\n",
       "      <td>3739.883366</td>\n",
       "    </tr>\n",
       "    <tr>\n",
       "      <th>17</th>\n",
       "      <td>3769.281367</td>\n",
       "    </tr>\n",
       "    <tr>\n",
       "      <th>18</th>\n",
       "      <td>3811.652973</td>\n",
       "    </tr>\n",
       "    <tr>\n",
       "      <th>19</th>\n",
       "      <td>3873.432799</td>\n",
       "    </tr>\n",
       "    <tr>\n",
       "      <th>20</th>\n",
       "      <td>3888.288158</td>\n",
       "    </tr>\n",
       "    <tr>\n",
       "      <th>21</th>\n",
       "      <td>3923.048558</td>\n",
       "    </tr>\n",
       "    <tr>\n",
       "      <th>22</th>\n",
       "      <td>3975.536462</td>\n",
       "    </tr>\n",
       "    <tr>\n",
       "      <th>23</th>\n",
       "      <td>4052.726121</td>\n",
       "    </tr>\n",
       "    <tr>\n",
       "      <th>24</th>\n",
       "      <td>4081.204200</td>\n",
       "    </tr>\n",
       "    <tr>\n",
       "      <th>25</th>\n",
       "      <td>4134.224811</td>\n",
       "    </tr>\n",
       "    <tr>\n",
       "      <th>26</th>\n",
       "      <td>4181.004584</td>\n",
       "    </tr>\n",
       "    <tr>\n",
       "      <th>27</th>\n",
       "      <td>4217.886957</td>\n",
       "    </tr>\n",
       "    <tr>\n",
       "      <th>28</th>\n",
       "      <td>4255.153690</td>\n",
       "    </tr>\n",
       "    <tr>\n",
       "      <th>29</th>\n",
       "      <td>4285.218651</td>\n",
       "    </tr>\n",
       "    <tr>\n",
       "      <th>30</th>\n",
       "      <td>4324.056546</td>\n",
       "    </tr>\n",
       "    <tr>\n",
       "      <th>31</th>\n",
       "      <td>4339.903042</td>\n",
       "    </tr>\n",
       "    <tr>\n",
       "      <th>32</th>\n",
       "      <td>4353.497575</td>\n",
       "    </tr>\n",
       "    <tr>\n",
       "      <th>33</th>\n",
       "      <td>4372.439100</td>\n",
       "    </tr>\n",
       "    <tr>\n",
       "      <th>34</th>\n",
       "      <td>4388.193727</td>\n",
       "    </tr>\n",
       "    <tr>\n",
       "      <th>35</th>\n",
       "      <td>4397.077625</td>\n",
       "    </tr>\n",
       "    <tr>\n",
       "      <th>36</th>\n",
       "      <td>4420.416718</td>\n",
       "    </tr>\n",
       "    <tr>\n",
       "      <th>37</th>\n",
       "      <td>4438.777508</td>\n",
       "    </tr>\n",
       "    <tr>\n",
       "      <th>38</th>\n",
       "      <td>4434.164896</td>\n",
       "    </tr>\n",
       "    <tr>\n",
       "      <th>39</th>\n",
       "      <td>4461.431577</td>\n",
       "    </tr>\n",
       "    <tr>\n",
       "      <th>40</th>\n",
       "      <td>4463.740372</td>\n",
       "    </tr>\n",
       "    <tr>\n",
       "      <th>41</th>\n",
       "      <td>4466.922125</td>\n",
       "    </tr>\n",
       "    <tr>\n",
       "      <th>42</th>\n",
       "      <td>4440.465772</td>\n",
       "    </tr>\n",
       "    <tr>\n",
       "      <th>43</th>\n",
       "      <td>4430.143119</td>\n",
       "    </tr>\n",
       "    <tr>\n",
       "      <th>44</th>\n",
       "      <td>4434.103326</td>\n",
       "    </tr>\n",
       "    <tr>\n",
       "      <th>45</th>\n",
       "      <td>4419.242447</td>\n",
       "    </tr>\n",
       "    <tr>\n",
       "      <th>46</th>\n",
       "      <td>4405.385890</td>\n",
       "    </tr>\n",
       "    <tr>\n",
       "      <th>47</th>\n",
       "      <td>4411.911781</td>\n",
       "    </tr>\n",
       "    <tr>\n",
       "      <th>48</th>\n",
       "      <td>4381.094088</td>\n",
       "    </tr>\n",
       "    <tr>\n",
       "      <th>49</th>\n",
       "      <td>4364.141329</td>\n",
       "    </tr>\n",
       "    <tr>\n",
       "      <th>50</th>\n",
       "      <td>4341.247051</td>\n",
       "    </tr>\n",
       "    <tr>\n",
       "      <th>51</th>\n",
       "      <td>4319.843615</td>\n",
       "    </tr>\n",
       "    <tr>\n",
       "      <th>52</th>\n",
       "      <td>4305.133352</td>\n",
       "    </tr>\n",
       "    <tr>\n",
       "      <th>53</th>\n",
       "      <td>4285.394862</td>\n",
       "    </tr>\n",
       "    <tr>\n",
       "      <th>54</th>\n",
       "      <td>4274.503899</td>\n",
       "    </tr>\n",
       "    <tr>\n",
       "      <th>55</th>\n",
       "      <td>4244.678994</td>\n",
       "    </tr>\n",
       "    <tr>\n",
       "      <th>56</th>\n",
       "      <td>4227.325298</td>\n",
       "    </tr>\n",
       "    <tr>\n",
       "      <th>57</th>\n",
       "      <td>4189.968561</td>\n",
       "    </tr>\n",
       "    <tr>\n",
       "      <th>58</th>\n",
       "      <td>4182.428946</td>\n",
       "    </tr>\n",
       "    <tr>\n",
       "      <th>59</th>\n",
       "      <td>4148.260897</td>\n",
       "    </tr>\n",
       "    <tr>\n",
       "      <th>60</th>\n",
       "      <td>4146.775780</td>\n",
       "    </tr>\n",
       "  </tbody>\n",
       "</table>\n",
       "</div>"
      ],
      "text/plain": [
       "               ch_score\n",
       "n_clusters             \n",
       "2           2006.897650\n",
       "3           2514.604289\n",
       "4           2742.484627\n",
       "5           2941.860756\n",
       "6           3075.009849\n",
       "7           3131.528801\n",
       "8           3173.206979\n",
       "9           3228.104012\n",
       "10          3316.255531\n",
       "11          3399.386806\n",
       "12          3418.663457\n",
       "13          3455.435581\n",
       "14          3526.670247\n",
       "15          3638.112987\n",
       "16          3739.883366\n",
       "17          3769.281367\n",
       "18          3811.652973\n",
       "19          3873.432799\n",
       "20          3888.288158\n",
       "21          3923.048558\n",
       "22          3975.536462\n",
       "23          4052.726121\n",
       "24          4081.204200\n",
       "25          4134.224811\n",
       "26          4181.004584\n",
       "27          4217.886957\n",
       "28          4255.153690\n",
       "29          4285.218651\n",
       "30          4324.056546\n",
       "31          4339.903042\n",
       "32          4353.497575\n",
       "33          4372.439100\n",
       "34          4388.193727\n",
       "35          4397.077625\n",
       "36          4420.416718\n",
       "37          4438.777508\n",
       "38          4434.164896\n",
       "39          4461.431577\n",
       "40          4463.740372\n",
       "41          4466.922125\n",
       "42          4440.465772\n",
       "43          4430.143119\n",
       "44          4434.103326\n",
       "45          4419.242447\n",
       "46          4405.385890\n",
       "47          4411.911781\n",
       "48          4381.094088\n",
       "49          4364.141329\n",
       "50          4341.247051\n",
       "51          4319.843615\n",
       "52          4305.133352\n",
       "53          4285.394862\n",
       "54          4274.503899\n",
       "55          4244.678994\n",
       "56          4227.325298\n",
       "57          4189.968561\n",
       "58          4182.428946\n",
       "59          4148.260897\n",
       "60          4146.775780"
      ]
     },
     "metadata": {},
     "output_type": "display_data"
    }
   ],
   "source": [
    "with pd.option_context(\"display.max_rows\", None, \"display.max_columns\", None):\n",
    "    _df = ensemble.groupby([\"n_clusters\"]).mean()\n",
    "    display(_df)"
   ]
  },
  {
   "cell_type": "code",
   "execution_count": 41,
   "id": "f01c322d",
   "metadata": {
    "execution": {
     "iopub.execute_input": "2022-09-13T16:08:17.812558Z",
     "iopub.status.busy": "2022-09-13T16:08:17.812347Z",
     "iopub.status.idle": "2022-09-13T16:08:20.889567Z",
     "shell.execute_reply": "2022-09-13T16:08:20.888866Z"
    },
    "papermill": {
     "duration": 3.097659,
     "end_time": "2022-09-13T16:08:20.890848",
     "exception": false,
     "start_time": "2022-09-13T16:08:17.793189",
     "status": "completed"
    },
    "tags": []
   },
   "outputs": [
    {
     "data": {
      "image/png": "[encoded data removed]",
      "text/plain": [
       "<Figure size 1008x432 with 1 Axes>"
      ]
     },
     "metadata": {},
     "output_type": "display_data"
    }
   ],
   "source": [
    "with sns.plotting_context(\"talk\", font_scale=0.75), sns.axes_style(\n",
    "    \"whitegrid\", {\"grid.linestyle\": \"--\"}\n",
    "):\n",
    "    fig = plt.figure(figsize=(14, 6))\n",
    "    ax = sns.pointplot(data=ensemble, x=\"n_clusters\", y=\"ch_score\")\n",
    "    ax.set_ylabel(\"Calinski-Harabasz index\")\n",
    "    ax.set_xlabel(\"Number of clusters ($k$)\")\n",
    "    ax.set_xticklabels(ax.get_xticklabels(), rotation=45)\n",
    "    plt.grid(True)\n",
    "    plt.tight_layout()"
   ]
  },
  {
   "cell_type": "markdown",
   "id": "fa2fb866",
   "metadata": {
    "papermill": {
     "duration": 0.018837,
     "end_time": "2022-09-13T16:08:20.929381",
     "exception": false,
     "start_time": "2022-09-13T16:08:20.910544",
     "status": "completed"
    },
    "tags": []
   },
   "source": [
    "# Stability"
   ]
  },
  {
   "cell_type": "markdown",
   "id": "42e9d423",
   "metadata": {
    "papermill": {
     "duration": 0.018888,
     "end_time": "2022-09-13T16:08:20.967243",
     "exception": false,
     "start_time": "2022-09-13T16:08:20.948355",
     "status": "completed"
    },
    "tags": []
   },
   "source": [
    "## Group ensemble by n_clusters"
   ]
  },
  {
   "cell_type": "code",
   "execution_count": 42,
   "id": "55a76123",
   "metadata": {
    "execution": {
     "iopub.execute_input": "2022-09-13T16:08:21.007158Z",
     "iopub.status.busy": "2022-09-13T16:08:21.006497Z",
     "iopub.status.idle": "2022-09-13T16:08:21.042497Z",
     "shell.execute_reply": "2022-09-13T16:08:21.041855Z"
    },
    "papermill": {
     "duration": 0.057478,
     "end_time": "2022-09-13T16:08:21.043944",
     "exception": false,
     "start_time": "2022-09-13T16:08:20.986466",
     "status": "completed"
    },
    "tags": []
   },
   "outputs": [],
   "source": [
    "parts = ensemble.groupby(\"n_clusters\").apply(\n",
    "    lambda x: np.concatenate(x[\"partition\"].apply(lambda x: x.reshape(1, -1)), axis=0)\n",
    ")"
   ]
  },
  {
   "cell_type": "code",
   "execution_count": 43,
   "id": "ab89be08",
   "metadata": {
    "execution": {
     "iopub.execute_input": "2022-09-13T16:08:21.083939Z",
     "iopub.status.busy": "2022-09-13T16:08:21.083726Z",
     "iopub.status.idle": "2022-09-13T16:08:21.114460Z",
     "shell.execute_reply": "2022-09-13T16:08:21.114025Z"
    },
    "papermill": {
     "duration": 0.052103,
     "end_time": "2022-09-13T16:08:21.115742",
     "exception": false,
     "start_time": "2022-09-13T16:08:21.063639",
     "status": "completed"
    },
    "tags": []
   },
   "outputs": [
    {
     "data": {
      "text/plain": [
       "n_clusters\n",
       "2    [[0.0, 0.0, 0.0, 0.0, 0.0, 0.0, 0.0, 0.0, 0.0,...\n",
       "3    [[0.0, 0.0, 0.0, 0.0, 0.0, 0.0, 0.0, 0.0, 0.0,...\n",
       "4    [[1.0, 1.0, 1.0, 1.0, 1.0, 1.0, 1.0, 1.0, 1.0,...\n",
       "5    [[0.0, 0.0, 0.0, 0.0, 0.0, 0.0, 0.0, 0.0, 0.0,...\n",
       "6    [[0.0, 0.0, 0.0, 0.0, 0.0, 0.0, 0.0, 0.0, 0.0,...\n",
       "dtype: object"
      ]
     },
     "execution_count": 43,
     "metadata": {},
     "output_type": "execute_result"
    }
   ],
   "source": [
    "parts.head()"
   ]
  },
  {
   "cell_type": "code",
   "execution_count": 44,
   "id": "19768613",
   "metadata": {
    "execution": {
     "iopub.execute_input": "2022-09-13T16:08:21.155718Z",
     "iopub.status.busy": "2022-09-13T16:08:21.155504Z",
     "iopub.status.idle": "2022-09-13T16:08:21.174878Z",
     "shell.execute_reply": "2022-09-13T16:08:21.174344Z"
    },
    "papermill": {
     "duration": 0.040681,
     "end_time": "2022-09-13T16:08:21.176267",
     "exception": false,
     "start_time": "2022-09-13T16:08:21.135586",
     "status": "completed"
    },
    "tags": []
   },
   "outputs": [],
   "source": [
    "assert np.all(\n",
    "    [\n",
    "        parts.loc[k].shape == (CLUSTERING_OPTIONS[\"N_REPS_PER_K\"], data.shape[0])\n",
    "        for k in parts.index\n",
    "    ]\n",
    ")"
   ]
  },
  {
   "cell_type": "markdown",
   "id": "dee96e91",
   "metadata": {
    "papermill": {
     "duration": 0.019379,
     "end_time": "2022-09-13T16:08:21.215506",
     "exception": false,
     "start_time": "2022-09-13T16:08:21.196127",
     "status": "completed"
    },
    "tags": []
   },
   "source": [
    "## Compute stability"
   ]
  },
  {
   "cell_type": "code",
   "execution_count": 45,
   "id": "f1b876ea",
   "metadata": {
    "execution": {
     "iopub.execute_input": "2022-09-13T16:08:21.255152Z",
     "iopub.status.busy": "2022-09-13T16:08:21.254858Z",
     "iopub.status.idle": "2022-09-13T16:08:21.272737Z",
     "shell.execute_reply": "2022-09-13T16:08:21.272212Z"
    },
    "papermill": {
     "duration": 0.039378,
     "end_time": "2022-09-13T16:08:21.274037",
     "exception": false,
     "start_time": "2022-09-13T16:08:21.234659",
     "status": "completed"
    },
    "tags": []
   },
   "outputs": [],
   "source": [
    "from sklearn.metrics import adjusted_rand_score as ari\n",
    "from scipy.spatial.distance import pdist"
   ]
  },
  {
   "cell_type": "code",
   "execution_count": 46,
   "id": "9d5f7f69",
   "metadata": {
    "execution": {
     "iopub.execute_input": "2022-09-13T16:08:21.315360Z",
     "iopub.status.busy": "2022-09-13T16:08:21.315150Z",
     "iopub.status.idle": "2022-09-13T16:08:21.894617Z",
     "shell.execute_reply": "2022-09-13T16:08:21.894091Z"
    },
    "papermill": {
     "duration": 0.601739,
     "end_time": "2022-09-13T16:08:21.896270",
     "exception": false,
     "start_time": "2022-09-13T16:08:21.294531",
     "status": "completed"
    },
    "tags": []
   },
   "outputs": [],
   "source": [
    "parts_ari = pd.Series(\n",
    "    {k: pdist(parts.loc[k], metric=ari) for k in parts.index}, name=\"k\"\n",
    ")"
   ]
  },
  {
   "cell_type": "code",
   "execution_count": 47,
   "id": "c69b72e3",
   "metadata": {
    "execution": {
     "iopub.execute_input": "2022-09-13T16:08:21.936097Z",
     "iopub.status.busy": "2022-09-13T16:08:21.935884Z",
     "iopub.status.idle": "2022-09-13T16:08:21.956359Z",
     "shell.execute_reply": "2022-09-13T16:08:21.955814Z"
    },
    "papermill": {
     "duration": 0.041715,
     "end_time": "2022-09-13T16:08:21.957628",
     "exception": false,
     "start_time": "2022-09-13T16:08:21.915913",
     "status": "completed"
    },
    "tags": []
   },
   "outputs": [
    {
     "data": {
      "text/plain": [
       "2     1.000000\n",
       "4     1.000000\n",
       "8     1.000000\n",
       "3     1.000000\n",
       "10    0.993880\n",
       "5     0.990642\n",
       "11    0.989025\n",
       "6     0.988333\n",
       "7     0.988306\n",
       "9     0.968590\n",
       "16    0.955209\n",
       "12    0.931213\n",
       "15    0.914394\n",
       "19    0.907586\n",
       "13    0.905206\n",
       "Name: k, dtype: float64"
      ]
     },
     "metadata": {},
     "output_type": "display_data"
    }
   ],
   "source": [
    "parts_ari_stability = parts_ari.apply(lambda x: x.mean())\n",
    "display(parts_ari_stability.sort_values(ascending=False).head(15))"
   ]
  },
  {
   "cell_type": "code",
   "execution_count": 48,
   "id": "0eed5ee2",
   "metadata": {
    "execution": {
     "iopub.execute_input": "2022-09-13T16:08:21.998661Z",
     "iopub.status.busy": "2022-09-13T16:08:21.997944Z",
     "iopub.status.idle": "2022-09-13T16:08:22.017163Z",
     "shell.execute_reply": "2022-09-13T16:08:22.016612Z"
    },
    "papermill": {
     "duration": 0.040744,
     "end_time": "2022-09-13T16:08:22.018528",
     "exception": false,
     "start_time": "2022-09-13T16:08:21.977784",
     "status": "completed"
    },
    "tags": []
   },
   "outputs": [],
   "source": [
    "parts_ari_df = pd.DataFrame.from_records(parts_ari.tolist()).set_index(\n",
    "    parts_ari.index.copy()\n",
    ")"
   ]
  },
  {
   "cell_type": "code",
   "execution_count": 49,
   "id": "92040d8b",
   "metadata": {
    "execution": {
     "iopub.execute_input": "2022-09-13T16:08:22.060345Z",
     "iopub.status.busy": "2022-09-13T16:08:22.060118Z",
     "iopub.status.idle": "2022-09-13T16:08:22.078984Z",
     "shell.execute_reply": "2022-09-13T16:08:22.078507Z"
    },
    "papermill": {
     "duration": 0.041027,
     "end_time": "2022-09-13T16:08:22.080256",
     "exception": false,
     "start_time": "2022-09-13T16:08:22.039229",
     "status": "completed"
    },
    "tags": []
   },
   "outputs": [
    {
     "data": {
      "text/plain": [
       "(59, 10)"
      ]
     },
     "execution_count": 49,
     "metadata": {},
     "output_type": "execute_result"
    }
   ],
   "source": [
    "parts_ari_df.shape"
   ]
  },
  {
   "cell_type": "code",
   "execution_count": 50,
   "id": "a913ca22",
   "metadata": {
    "execution": {
     "iopub.execute_input": "2022-09-13T16:08:22.120869Z",
     "iopub.status.busy": "2022-09-13T16:08:22.120643Z",
     "iopub.status.idle": "2022-09-13T16:08:22.139258Z",
     "shell.execute_reply": "2022-09-13T16:08:22.138541Z"
    },
    "papermill": {
     "duration": 0.04021,
     "end_time": "2022-09-13T16:08:22.140624",
     "exception": false,
     "start_time": "2022-09-13T16:08:22.100414",
     "status": "completed"
    },
    "tags": []
   },
   "outputs": [],
   "source": [
    "assert (\n",
    "    int(\n",
    "        (CLUSTERING_OPTIONS[\"N_REPS_PER_K\"] * (CLUSTERING_OPTIONS[\"N_REPS_PER_K\"] - 1))\n",
    "        / 2\n",
    "    )\n",
    "    == parts_ari_df.shape[1]\n",
    ")"
   ]
  },
  {
   "cell_type": "code",
   "execution_count": 51,
   "id": "feeac650",
   "metadata": {
    "execution": {
     "iopub.execute_input": "2022-09-13T16:08:22.183051Z",
     "iopub.status.busy": "2022-09-13T16:08:22.182828Z",
     "iopub.status.idle": "2022-09-13T16:08:22.207466Z",
     "shell.execute_reply": "2022-09-13T16:08:22.206935Z"
    },
    "papermill": {
     "duration": 0.046849,
     "end_time": "2022-09-13T16:08:22.208739",
     "exception": false,
     "start_time": "2022-09-13T16:08:22.161890",
     "status": "completed"
    },
    "tags": []
   },
   "outputs": [
    {
     "data": {
      "text/html": [
       "<div>\n",
       "<style scoped>\n",
       "    .dataframe tbody tr th:only-of-type {\n",
       "        vertical-align: middle;\n",
       "    }\n",
       "\n",
       "    .dataframe tbody tr th {\n",
       "        vertical-align: top;\n",
       "    }\n",
       "\n",
       "    .dataframe thead th {\n",
       "        text-align: right;\n",
       "    }\n",
       "</style>\n",
       "<table border=\"1\" class=\"dataframe\">\n",
       "  <thead>\n",
       "    <tr style=\"text-align: right;\">\n",
       "      <th></th>\n",
       "      <th>0</th>\n",
       "      <th>1</th>\n",
       "      <th>2</th>\n",
       "      <th>3</th>\n",
       "      <th>4</th>\n",
       "      <th>5</th>\n",
       "      <th>6</th>\n",
       "      <th>7</th>\n",
       "      <th>8</th>\n",
       "      <th>9</th>\n",
       "    </tr>\n",
       "  </thead>\n",
       "  <tbody>\n",
       "    <tr>\n",
       "      <th>2</th>\n",
       "      <td>1.000000</td>\n",
       "      <td>1.000000</td>\n",
       "      <td>1.000000</td>\n",
       "      <td>1.000000</td>\n",
       "      <td>1.000000</td>\n",
       "      <td>1.000000</td>\n",
       "      <td>1.000000</td>\n",
       "      <td>1.000000</td>\n",
       "      <td>1.000000</td>\n",
       "      <td>1.000000</td>\n",
       "    </tr>\n",
       "    <tr>\n",
       "      <th>3</th>\n",
       "      <td>1.000000</td>\n",
       "      <td>1.000000</td>\n",
       "      <td>1.000000</td>\n",
       "      <td>1.000000</td>\n",
       "      <td>1.000000</td>\n",
       "      <td>1.000000</td>\n",
       "      <td>1.000000</td>\n",
       "      <td>1.000000</td>\n",
       "      <td>1.000000</td>\n",
       "      <td>1.000000</td>\n",
       "    </tr>\n",
       "    <tr>\n",
       "      <th>4</th>\n",
       "      <td>1.000000</td>\n",
       "      <td>1.000000</td>\n",
       "      <td>1.000000</td>\n",
       "      <td>1.000000</td>\n",
       "      <td>1.000000</td>\n",
       "      <td>1.000000</td>\n",
       "      <td>1.000000</td>\n",
       "      <td>1.000000</td>\n",
       "      <td>1.000000</td>\n",
       "      <td>1.000000</td>\n",
       "    </tr>\n",
       "    <tr>\n",
       "      <th>5</th>\n",
       "      <td>0.986135</td>\n",
       "      <td>0.999232</td>\n",
       "      <td>0.990327</td>\n",
       "      <td>0.984698</td>\n",
       "      <td>0.985379</td>\n",
       "      <td>0.994254</td>\n",
       "      <td>0.998552</td>\n",
       "      <td>0.991093</td>\n",
       "      <td>0.983942</td>\n",
       "      <td>0.992811</td>\n",
       "    </tr>\n",
       "    <tr>\n",
       "      <th>6</th>\n",
       "      <td>0.979412</td>\n",
       "      <td>0.979412</td>\n",
       "      <td>0.973711</td>\n",
       "      <td>0.984827</td>\n",
       "      <td>1.000000</td>\n",
       "      <td>0.994153</td>\n",
       "      <td>0.994490</td>\n",
       "      <td>0.994153</td>\n",
       "      <td>0.994490</td>\n",
       "      <td>0.988680</td>\n",
       "    </tr>\n",
       "  </tbody>\n",
       "</table>\n",
       "</div>"
      ],
      "text/plain": [
       "          0         1         2         3         4         5         6  \\\n",
       "2  1.000000  1.000000  1.000000  1.000000  1.000000  1.000000  1.000000   \n",
       "3  1.000000  1.000000  1.000000  1.000000  1.000000  1.000000  1.000000   \n",
       "4  1.000000  1.000000  1.000000  1.000000  1.000000  1.000000  1.000000   \n",
       "5  0.986135  0.999232  0.990327  0.984698  0.985379  0.994254  0.998552   \n",
       "6  0.979412  0.979412  0.973711  0.984827  1.000000  0.994153  0.994490   \n",
       "\n",
       "          7         8         9  \n",
       "2  1.000000  1.000000  1.000000  \n",
       "3  1.000000  1.000000  1.000000  \n",
       "4  1.000000  1.000000  1.000000  \n",
       "5  0.991093  0.983942  0.992811  \n",
       "6  0.994153  0.994490  0.988680  "
      ]
     },
     "execution_count": 51,
     "metadata": {},
     "output_type": "execute_result"
    }
   ],
   "source": [
    "parts_ari_df.head()"
   ]
  },
  {
   "cell_type": "markdown",
   "id": "28530a7c",
   "metadata": {
    "papermill": {
     "duration": 0.019683,
     "end_time": "2022-09-13T16:08:22.249155",
     "exception": false,
     "start_time": "2022-09-13T16:08:22.229472",
     "status": "completed"
    },
    "tags": []
   },
   "source": [
    "## Save"
   ]
  },
  {
   "cell_type": "code",
   "execution_count": 52,
   "id": "b76bfb10",
   "metadata": {
    "execution": {
     "iopub.execute_input": "2022-09-13T16:08:22.295708Z",
     "iopub.status.busy": "2022-09-13T16:08:22.295497Z",
     "iopub.status.idle": "2022-09-13T16:08:22.314791Z",
     "shell.execute_reply": "2022-09-13T16:08:22.314337Z"
    },
    "papermill": {
     "duration": 0.041202,
     "end_time": "2022-09-13T16:08:22.316068",
     "exception": false,
     "start_time": "2022-09-13T16:08:22.274866",
     "status": "completed"
    },
    "tags": []
   },
   "outputs": [
    {
     "data": {
      "text/plain": [
       "PosixPath('/opt/data/results/clustering/null_sims/runs/umap-z_score_std-projection-smultixcan-efo_partial-mashr-zscores/KMeans-stability-KMEANS_N_INIT_10-K_MAX_60-K_MIN_2-N_REPS_PER_K_5.pkl')"
      ]
     },
     "metadata": {},
     "output_type": "display_data"
    }
   ],
   "source": [
    "output_filename = Path(\n",
    "    RESULTS_DIR,\n",
    "    generate_result_set_name(\n",
    "        CLUSTERING_OPTIONS,\n",
    "        prefix=f\"{clustering_method_name}-stability-\",\n",
    "        suffix=\".pkl\",\n",
    "    ),\n",
    ").resolve()\n",
    "display(output_filename)"
   ]
  },
  {
   "cell_type": "code",
   "execution_count": 53,
   "id": "9afe9f4c",
   "metadata": {
    "execution": {
     "iopub.execute_input": "2022-09-13T16:08:22.357830Z",
     "iopub.status.busy": "2022-09-13T16:08:22.357618Z",
     "iopub.status.idle": "2022-09-13T16:08:22.377140Z",
     "shell.execute_reply": "2022-09-13T16:08:22.376545Z"
    },
    "papermill": {
     "duration": 0.042252,
     "end_time": "2022-09-13T16:08:22.379029",
     "exception": false,
     "start_time": "2022-09-13T16:08:22.336777",
     "status": "completed"
    },
    "tags": []
   },
   "outputs": [],
   "source": [
    "parts_ari_df.to_pickle(output_filename)"
   ]
  },
  {
   "cell_type": "markdown",
   "id": "593d018f",
   "metadata": {
    "papermill": {
     "duration": 0.019814,
     "end_time": "2022-09-13T16:08:22.421687",
     "exception": false,
     "start_time": "2022-09-13T16:08:22.401873",
     "status": "completed"
    },
    "tags": []
   },
   "source": [
    "## Stability plot"
   ]
  },
  {
   "cell_type": "code",
   "execution_count": 54,
   "id": "d25d02ef",
   "metadata": {
    "execution": {
     "iopub.execute_input": "2022-09-13T16:08:22.462308Z",
     "iopub.status.busy": "2022-09-13T16:08:22.462092Z",
     "iopub.status.idle": "2022-09-13T16:08:22.482059Z",
     "shell.execute_reply": "2022-09-13T16:08:22.481527Z"
    },
    "papermill": {
     "duration": 0.041811,
     "end_time": "2022-09-13T16:08:22.483461",
     "exception": false,
     "start_time": "2022-09-13T16:08:22.441650",
     "status": "completed"
    },
    "tags": []
   },
   "outputs": [],
   "source": [
    "parts_ari_df_plot = (\n",
    "    parts_ari_df.stack()\n",
    "    .reset_index()\n",
    "    .rename(columns={\"level_0\": \"k\", \"level_1\": \"idx\", 0: \"ari\"})\n",
    ")"
   ]
  },
  {
   "cell_type": "code",
   "execution_count": 55,
   "id": "57e2e785",
   "metadata": {
    "execution": {
     "iopub.execute_input": "2022-09-13T16:08:22.525438Z",
     "iopub.status.busy": "2022-09-13T16:08:22.525226Z",
     "iopub.status.idle": "2022-09-13T16:08:22.545534Z",
     "shell.execute_reply": "2022-09-13T16:08:22.545071Z"
    },
    "papermill": {
     "duration": 0.042369,
     "end_time": "2022-09-13T16:08:22.546858",
     "exception": false,
     "start_time": "2022-09-13T16:08:22.504489",
     "status": "completed"
    },
    "tags": []
   },
   "outputs": [
    {
     "data": {
      "text/plain": [
       "k        int64\n",
       "idx      int64\n",
       "ari    float64\n",
       "dtype: object"
      ]
     },
     "execution_count": 55,
     "metadata": {},
     "output_type": "execute_result"
    }
   ],
   "source": [
    "parts_ari_df_plot.dtypes"
   ]
  },
  {
   "cell_type": "code",
   "execution_count": 56,
   "id": "aef12776",
   "metadata": {
    "execution": {
     "iopub.execute_input": "2022-09-13T16:08:22.590072Z",
     "iopub.status.busy": "2022-09-13T16:08:22.589912Z",
     "iopub.status.idle": "2022-09-13T16:08:22.610380Z",
     "shell.execute_reply": "2022-09-13T16:08:22.609853Z"
    },
    "papermill": {
     "duration": 0.043247,
     "end_time": "2022-09-13T16:08:22.611648",
     "exception": false,
     "start_time": "2022-09-13T16:08:22.568401",
     "status": "completed"
    },
    "tags": []
   },
   "outputs": [
    {
     "data": {
      "text/html": [
       "<div>\n",
       "<style scoped>\n",
       "    .dataframe tbody tr th:only-of-type {\n",
       "        vertical-align: middle;\n",
       "    }\n",
       "\n",
       "    .dataframe tbody tr th {\n",
       "        vertical-align: top;\n",
       "    }\n",
       "\n",
       "    .dataframe thead th {\n",
       "        text-align: right;\n",
       "    }\n",
       "</style>\n",
       "<table border=\"1\" class=\"dataframe\">\n",
       "  <thead>\n",
       "    <tr style=\"text-align: right;\">\n",
       "      <th></th>\n",
       "      <th>k</th>\n",
       "      <th>idx</th>\n",
       "      <th>ari</th>\n",
       "    </tr>\n",
       "  </thead>\n",
       "  <tbody>\n",
       "    <tr>\n",
       "      <th>0</th>\n",
       "      <td>2</td>\n",
       "      <td>0</td>\n",
       "      <td>1.0</td>\n",
       "    </tr>\n",
       "    <tr>\n",
       "      <th>1</th>\n",
       "      <td>2</td>\n",
       "      <td>1</td>\n",
       "      <td>1.0</td>\n",
       "    </tr>\n",
       "    <tr>\n",
       "      <th>2</th>\n",
       "      <td>2</td>\n",
       "      <td>2</td>\n",
       "      <td>1.0</td>\n",
       "    </tr>\n",
       "    <tr>\n",
       "      <th>3</th>\n",
       "      <td>2</td>\n",
       "      <td>3</td>\n",
       "      <td>1.0</td>\n",
       "    </tr>\n",
       "    <tr>\n",
       "      <th>4</th>\n",
       "      <td>2</td>\n",
       "      <td>4</td>\n",
       "      <td>1.0</td>\n",
       "    </tr>\n",
       "  </tbody>\n",
       "</table>\n",
       "</div>"
      ],
      "text/plain": [
       "   k  idx  ari\n",
       "0  2    0  1.0\n",
       "1  2    1  1.0\n",
       "2  2    2  1.0\n",
       "3  2    3  1.0\n",
       "4  2    4  1.0"
      ]
     },
     "execution_count": 56,
     "metadata": {},
     "output_type": "execute_result"
    }
   ],
   "source": [
    "parts_ari_df_plot.head()"
   ]
  },
  {
   "cell_type": "code",
   "execution_count": 57,
   "id": "db7ada4b",
   "metadata": {
    "execution": {
     "iopub.execute_input": "2022-09-13T16:08:22.653509Z",
     "iopub.status.busy": "2022-09-13T16:08:22.653286Z",
     "iopub.status.idle": "2022-09-13T16:08:25.582069Z",
     "shell.execute_reply": "2022-09-13T16:08:25.581511Z"
    },
    "papermill": {
     "duration": 2.950894,
     "end_time": "2022-09-13T16:08:25.583620",
     "exception": false,
     "start_time": "2022-09-13T16:08:22.632726",
     "status": "completed"
    },
    "tags": []
   },
   "outputs": [
    {
     "data": {
      "image/png": "[encoded data removed]",
      "text/plain": [
       "<Figure size 1008x432 with 1 Axes>"
      ]
     },
     "metadata": {},
     "output_type": "display_data"
    }
   ],
   "source": [
    "# with sns.axes_style('whitegrid', {'grid.linestyle': '--'}):\n",
    "with sns.plotting_context(\"talk\", font_scale=0.75), sns.axes_style(\n",
    "    \"whitegrid\", {\"grid.linestyle\": \"--\"}\n",
    "):\n",
    "    fig = plt.figure(figsize=(14, 6))\n",
    "    ax = sns.pointplot(data=parts_ari_df_plot, x=\"k\", y=\"ari\")\n",
    "    ax.set_ylabel(\"Averange ARI\")\n",
    "    ax.set_xlabel(\"Number of clusters ($k$)\")\n",
    "    ax.set_xticklabels(ax.get_xticklabels(), rotation=45)\n",
    "    #     ax.set_ylim(0.0, 1.0)\n",
    "    #     ax.set_xlim(CLUSTERING_OPTIONS['K_MIN'], CLUSTERING_OPTIONS['K_MAX'])\n",
    "    plt.grid(True)\n",
    "    plt.tight_layout()"
   ]
  },
  {
   "cell_type": "code",
   "execution_count": null,
   "id": "2ef7b813",
   "metadata": {
    "papermill": {
     "duration": 0.021286,
     "end_time": "2022-09-13T16:08:25.626233",
     "exception": false,
     "start_time": "2022-09-13T16:08:25.604947",
     "status": "completed"
    },
    "tags": []
   },
   "outputs": [],
   "source": []
  }
 ],
 "metadata": {
  "jupytext": {
   "cell_metadata_filter": "all,-execution,-papermill,-trusted",
   "formats": "ipynb,py//py:percent"
  },
  "kernelspec": {
   "display_name": "Python 3 (ipykernel)",
   "language": "python",
   "name": "python3"
  },
  "language_info": {
   "codemirror_mode": {
    "name": "ipython",
    "version": 3
   },
   "file_extension": ".py",
   "mimetype": "text/x-python",
   "name": "python",
   "nbconvert_exporter": "python",
   "pygments_lexer": "ipython3",
   "version": "3.8.13"
  },
  "papermill": {
   "default_parameters": {},
   "duration": 352.92698,
   "end_time": "2022-09-13T16:08:25.967263",
   "environment_variables": {},
   "exception": null,
   "input_path": "nbs/13.1_cluster_analysis_null/10_02-kmeans-umap.ipynb",
   "output_path": "nbs/13.1_cluster_analysis_null/10_02-kmeans-umap.run.ipynb",
   "parameters": {},
   "start_time": "2022-09-13T16:02:33.040283",
   "version": "2.2.2"
  },
  "toc-autonumbering": true,
  "toc-showcode": false,
  "toc-showmarkdowntxt": false,
  "toc-showtags": false
 },
 "nbformat": 4,
 "nbformat_minor": 5
}
