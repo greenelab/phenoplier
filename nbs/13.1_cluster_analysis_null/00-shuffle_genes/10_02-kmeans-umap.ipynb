{
 "cells": [
  {
   "cell_type": "markdown",
   "id": "27827a0d",
   "metadata": {
    "papermill": {
     "duration": 0.007485,
     "end_time": "2022-11-25T04:39:49.241418",
     "exception": false,
     "start_time": "2022-11-25T04:39:49.233933",
     "status": "completed"
    },
    "tags": []
   },
   "source": [
    "# Description"
   ]
  },
  {
   "cell_type": "markdown",
   "id": "ae81824d",
   "metadata": {
    "papermill": {
     "duration": 0.006305,
     "end_time": "2022-11-25T04:39:49.257244",
     "exception": false,
     "start_time": "2022-11-25T04:39:49.250939",
     "status": "completed"
    },
    "tags": []
   },
   "source": [
    "Runs k-means on the umap version of the data."
   ]
  },
  {
   "cell_type": "markdown",
   "id": "3f39f9a3",
   "metadata": {
    "papermill": {
     "duration": 0.006449,
     "end_time": "2022-11-25T04:39:49.269940",
     "exception": false,
     "start_time": "2022-11-25T04:39:49.263491",
     "status": "completed"
    },
    "tags": []
   },
   "source": [
    "# Environment variables"
   ]
  },
  {
   "cell_type": "code",
   "execution_count": 1,
   "id": "44df7394",
   "metadata": {
    "execution": {
     "iopub.execute_input": "2022-11-25T04:39:49.283567Z",
     "iopub.status.busy": "2022-11-25T04:39:49.283198Z",
     "iopub.status.idle": "2022-11-25T04:39:49.301408Z",
     "shell.execute_reply": "2022-11-25T04:39:49.300822Z"
    },
    "papermill": {
     "duration": 0.02668,
     "end_time": "2022-11-25T04:39:49.302886",
     "exception": false,
     "start_time": "2022-11-25T04:39:49.276206",
     "status": "completed"
    },
    "tags": []
   },
   "outputs": [
    {
     "data": {
      "text/plain": [
       "10"
      ]
     },
     "metadata": {},
     "output_type": "display_data"
    }
   ],
   "source": [
    "from IPython.display import display\n",
    "\n",
    "import conf\n",
    "\n",
    "N_JOBS = conf.GENERAL[\"N_JOBS\"]\n",
    "display(N_JOBS)"
   ]
  },
  {
   "cell_type": "code",
   "execution_count": 2,
   "id": "0b4cb365",
   "metadata": {
    "execution": {
     "iopub.execute_input": "2022-11-25T04:39:49.322816Z",
     "iopub.status.busy": "2022-11-25T04:39:49.322476Z",
     "iopub.status.idle": "2022-11-25T04:39:49.328932Z",
     "shell.execute_reply": "2022-11-25T04:39:49.328310Z"
    },
    "papermill": {
     "duration": 0.01688,
     "end_time": "2022-11-25T04:39:49.330303",
     "exception": false,
     "start_time": "2022-11-25T04:39:49.313423",
     "status": "completed"
    },
    "tags": []
   },
   "outputs": [
    {
     "name": "stdout",
     "output_type": "stream",
     "text": [
      "env: MKL_NUM_THREADS=10\n",
      "env: OPEN_BLAS_NUM_THREADS=10\n",
      "env: NUMEXPR_NUM_THREADS=10\n",
      "env: OMP_NUM_THREADS=10\n"
     ]
    }
   ],
   "source": [
    "%env MKL_NUM_THREADS=$N_JOBS\n",
    "%env OPEN_BLAS_NUM_THREADS=$N_JOBS\n",
    "%env NUMEXPR_NUM_THREADS=$N_JOBS\n",
    "%env OMP_NUM_THREADS=$N_JOBS"
   ]
  },
  {
   "cell_type": "markdown",
   "id": "4dcb69b8",
   "metadata": {
    "papermill": {
     "duration": 0.009485,
     "end_time": "2022-11-25T04:39:49.350663",
     "exception": false,
     "start_time": "2022-11-25T04:39:49.341178",
     "status": "completed"
    },
    "tags": []
   },
   "source": [
    "# Modules loading"
   ]
  },
  {
   "cell_type": "code",
   "execution_count": 3,
   "id": "7a0727cc",
   "metadata": {
    "execution": {
     "iopub.execute_input": "2022-11-25T04:39:49.365331Z",
     "iopub.status.busy": "2022-11-25T04:39:49.364889Z",
     "iopub.status.idle": "2022-11-25T04:39:49.377400Z",
     "shell.execute_reply": "2022-11-25T04:39:49.377010Z"
    },
    "papermill": {
     "duration": 0.020275,
     "end_time": "2022-11-25T04:39:49.378264",
     "exception": false,
     "start_time": "2022-11-25T04:39:49.357989",
     "status": "completed"
    },
    "tags": []
   },
   "outputs": [],
   "source": [
    "%load_ext autoreload\n",
    "%autoreload 2"
   ]
  },
  {
   "cell_type": "code",
   "execution_count": 4,
   "id": "961395dd",
   "metadata": {
    "execution": {
     "iopub.execute_input": "2022-11-25T04:39:49.392019Z",
     "iopub.status.busy": "2022-11-25T04:39:49.391690Z",
     "iopub.status.idle": "2022-11-25T04:39:49.847155Z",
     "shell.execute_reply": "2022-11-25T04:39:49.846740Z"
    },
    "papermill": {
     "duration": 0.463884,
     "end_time": "2022-11-25T04:39:49.848509",
     "exception": false,
     "start_time": "2022-11-25T04:39:49.384625",
     "status": "completed"
    },
    "tags": []
   },
   "outputs": [],
   "source": [
    "from pathlib import Path\n",
    "\n",
    "import numpy as np\n",
    "import pandas as pd\n",
    "import matplotlib.pyplot as plt\n",
    "import seaborn as sns\n",
    "\n",
    "from utils import generate_result_set_name"
   ]
  },
  {
   "cell_type": "markdown",
   "id": "ba5f9c3f",
   "metadata": {
    "papermill": {
     "duration": 0.012028,
     "end_time": "2022-11-25T04:39:49.869823",
     "exception": false,
     "start_time": "2022-11-25T04:39:49.857795",
     "status": "completed"
    },
    "tags": []
   },
   "source": [
    "# Settings"
   ]
  },
  {
   "cell_type": "code",
   "execution_count": 5,
   "id": "56ceb768",
   "metadata": {
    "execution": {
     "iopub.execute_input": "2022-11-25T04:39:49.889337Z",
     "iopub.status.busy": "2022-11-25T04:39:49.888880Z",
     "iopub.status.idle": "2022-11-25T04:39:49.907575Z",
     "shell.execute_reply": "2022-11-25T04:39:49.906724Z"
    },
    "papermill": {
     "duration": 0.029862,
     "end_time": "2022-11-25T04:39:49.908985",
     "exception": false,
     "start_time": "2022-11-25T04:39:49.879123",
     "status": "completed"
    },
    "tags": []
   },
   "outputs": [],
   "source": [
    "np.random.seed(0)"
   ]
  },
  {
   "cell_type": "code",
   "execution_count": 6,
   "id": "42c52f9a",
   "metadata": {
    "execution": {
     "iopub.execute_input": "2022-11-25T04:39:49.945805Z",
     "iopub.status.busy": "2022-11-25T04:39:49.945405Z",
     "iopub.status.idle": "2022-11-25T04:39:49.962475Z",
     "shell.execute_reply": "2022-11-25T04:39:49.962022Z"
    },
    "papermill": {
     "duration": 0.02542,
     "end_time": "2022-11-25T04:39:49.963857",
     "exception": false,
     "start_time": "2022-11-25T04:39:49.938437",
     "status": "completed"
    },
    "tags": []
   },
   "outputs": [],
   "source": [
    "INITIAL_RANDOM_STATE = 20000"
   ]
  },
  {
   "cell_type": "code",
   "execution_count": 7,
   "id": "9e5c3cde-ffc0-4355-848e-dbbbfa14a7e2",
   "metadata": {
    "execution": {
     "iopub.execute_input": "2022-11-25T04:39:49.985745Z",
     "iopub.status.busy": "2022-11-25T04:39:49.985403Z",
     "iopub.status.idle": "2022-11-25T04:39:50.002159Z",
     "shell.execute_reply": "2022-11-25T04:39:50.001581Z"
    },
    "papermill": {
     "duration": 0.027971,
     "end_time": "2022-11-25T04:39:50.003379",
     "exception": false,
     "start_time": "2022-11-25T04:39:49.975408",
     "status": "completed"
    },
    "tags": []
   },
   "outputs": [],
   "source": [
    "NULL_DIR = conf.RESULTS[\"CLUSTERING_NULL_DIR\"] / \"shuffle_genes\""
   ]
  },
  {
   "cell_type": "markdown",
   "id": "91600e69",
   "metadata": {
    "papermill": {
     "duration": 0.008391,
     "end_time": "2022-11-25T04:39:50.021281",
     "exception": false,
     "start_time": "2022-11-25T04:39:50.012890",
     "status": "completed"
    },
    "tags": []
   },
   "source": [
    "## Input data"
   ]
  },
  {
   "cell_type": "code",
   "execution_count": 8,
   "id": "d2e6efba",
   "metadata": {
    "execution": {
     "iopub.execute_input": "2022-11-25T04:39:50.035050Z",
     "iopub.status.busy": "2022-11-25T04:39:50.034714Z",
     "iopub.status.idle": "2022-11-25T04:39:50.051449Z",
     "shell.execute_reply": "2022-11-25T04:39:50.050993Z"
    },
    "papermill": {
     "duration": 0.024964,
     "end_time": "2022-11-25T04:39:50.052818",
     "exception": false,
     "start_time": "2022-11-25T04:39:50.027854",
     "status": "completed"
    },
    "tags": []
   },
   "outputs": [],
   "source": [
    "INPUT_SUBSET = \"umap\""
   ]
  },
  {
   "cell_type": "code",
   "execution_count": 9,
   "id": "08caa708",
   "metadata": {
    "execution": {
     "iopub.execute_input": "2022-11-25T04:39:50.075684Z",
     "iopub.status.busy": "2022-11-25T04:39:50.075336Z",
     "iopub.status.idle": "2022-11-25T04:39:50.092048Z",
     "shell.execute_reply": "2022-11-25T04:39:50.091592Z"
    },
    "papermill": {
     "duration": 0.029519,
     "end_time": "2022-11-25T04:39:50.093442",
     "exception": false,
     "start_time": "2022-11-25T04:39:50.063923",
     "status": "completed"
    },
    "tags": []
   },
   "outputs": [],
   "source": [
    "INPUT_STEM = \"z_score_std-projection-smultixcan-efo_partial-mashr-zscores\""
   ]
  },
  {
   "cell_type": "code",
   "execution_count": 10,
   "id": "05db4f1f",
   "metadata": {
    "execution": {
     "iopub.execute_input": "2022-11-25T04:39:50.115527Z",
     "iopub.status.busy": "2022-11-25T04:39:50.115186Z",
     "iopub.status.idle": "2022-11-25T04:39:50.132155Z",
     "shell.execute_reply": "2022-11-25T04:39:50.131702Z"
    },
    "papermill": {
     "duration": 0.028379,
     "end_time": "2022-11-25T04:39:50.133523",
     "exception": false,
     "start_time": "2022-11-25T04:39:50.105144",
     "status": "completed"
    },
    "tags": []
   },
   "outputs": [],
   "source": [
    "DR_OPTIONS = {\n",
    "    \"n_components\": 50,\n",
    "    \"metric\": \"euclidean\",\n",
    "    \"n_neighbors\": 15,\n",
    "    \"random_state\": 0,\n",
    "}"
   ]
  },
  {
   "cell_type": "code",
   "execution_count": 11,
   "id": "a84334bb",
   "metadata": {
    "execution": {
     "iopub.execute_input": "2022-11-25T04:39:50.154394Z",
     "iopub.status.busy": "2022-11-25T04:39:50.154072Z",
     "iopub.status.idle": "2022-11-25T04:39:50.173754Z",
     "shell.execute_reply": "2022-11-25T04:39:50.173271Z"
    },
    "papermill": {
     "duration": 0.031316,
     "end_time": "2022-11-25T04:39:50.175058",
     "exception": false,
     "start_time": "2022-11-25T04:39:50.143742",
     "status": "completed"
    },
    "tags": []
   },
   "outputs": [
    {
     "data": {
      "text/plain": [
       "PosixPath('/opt/data/results/clustering/null_sims/shuffle_genes/data_transformations/umap/umap-z_score_std-projection-smultixcan-efo_partial-mashr-zscores-metric_euclidean-n_components_50-n_neighbors_15-random_state_0.pkl')"
      ]
     },
     "metadata": {},
     "output_type": "display_data"
    },
    {
     "data": {
      "text/plain": [
       "'umap-z_score_std-projection-smultixcan-efo_partial-mashr-zscores-metric_euclidean-n_components_50-n_neighbors_15-random_state_0'"
      ]
     },
     "metadata": {},
     "output_type": "display_data"
    }
   ],
   "source": [
    "input_filepath = Path(\n",
    "    NULL_DIR,\n",
    "    \"data_transformations\",\n",
    "    INPUT_SUBSET,\n",
    "    generate_result_set_name(\n",
    "        DR_OPTIONS, prefix=f\"{INPUT_SUBSET}-{INPUT_STEM}-\", suffix=\".pkl\"\n",
    "    ),\n",
    ").resolve()\n",
    "display(input_filepath)\n",
    "\n",
    "assert input_filepath.exists(), \"Input file does not exist\"\n",
    "\n",
    "input_filepath_stem = input_filepath.stem\n",
    "display(input_filepath_stem)"
   ]
  },
  {
   "cell_type": "markdown",
   "id": "345790ea",
   "metadata": {
    "papermill": {
     "duration": 0.009575,
     "end_time": "2022-11-25T04:39:50.196896",
     "exception": false,
     "start_time": "2022-11-25T04:39:50.187321",
     "status": "completed"
    },
    "tags": []
   },
   "source": [
    "## Clustering"
   ]
  },
  {
   "cell_type": "code",
   "execution_count": 12,
   "id": "597e8cea",
   "metadata": {
    "execution": {
     "iopub.execute_input": "2022-11-25T04:39:50.212797Z",
     "iopub.status.busy": "2022-11-25T04:39:50.212446Z",
     "iopub.status.idle": "2022-11-25T04:39:50.301420Z",
     "shell.execute_reply": "2022-11-25T04:39:50.301012Z"
    },
    "papermill": {
     "duration": 0.097277,
     "end_time": "2022-11-25T04:39:50.302742",
     "exception": false,
     "start_time": "2022-11-25T04:39:50.205465",
     "status": "completed"
    },
    "tags": []
   },
   "outputs": [],
   "source": [
    "from sklearn.cluster import KMeans"
   ]
  },
  {
   "cell_type": "code",
   "execution_count": 13,
   "id": "a11913bd",
   "metadata": {
    "execution": {
     "iopub.execute_input": "2022-11-25T04:39:50.322169Z",
     "iopub.status.busy": "2022-11-25T04:39:50.322018Z",
     "iopub.status.idle": "2022-11-25T04:39:50.334083Z",
     "shell.execute_reply": "2022-11-25T04:39:50.333744Z"
    },
    "papermill": {
     "duration": 0.02293,
     "end_time": "2022-11-25T04:39:50.335340",
     "exception": false,
     "start_time": "2022-11-25T04:39:50.312410",
     "status": "completed"
    },
    "tags": []
   },
   "outputs": [],
   "source": [
    "CLUSTERING_ATTRIBUTES_TO_SAVE = [\"n_clusters\"]"
   ]
  },
  {
   "cell_type": "code",
   "execution_count": 14,
   "id": "67d5520e",
   "metadata": {
    "execution": {
     "iopub.execute_input": "2022-11-25T04:39:50.355071Z",
     "iopub.status.busy": "2022-11-25T04:39:50.354690Z",
     "iopub.status.idle": "2022-11-25T04:39:50.374575Z",
     "shell.execute_reply": "2022-11-25T04:39:50.374091Z"
    },
    "papermill": {
     "duration": 0.030508,
     "end_time": "2022-11-25T04:39:50.375882",
     "exception": false,
     "start_time": "2022-11-25T04:39:50.345374",
     "status": "completed"
    },
    "tags": []
   },
   "outputs": [
    {
     "data": {
      "text/plain": [
       "{'K_MIN': 2, 'K_MAX': 60, 'N_REPS_PER_K': 5, 'KMEANS_N_INIT': 10}"
      ]
     },
     "metadata": {},
     "output_type": "display_data"
    }
   ],
   "source": [
    "CLUSTERING_OPTIONS = {}\n",
    "\n",
    "CLUSTERING_OPTIONS[\"K_MIN\"] = 2\n",
    "CLUSTERING_OPTIONS[\"K_MAX\"] = 60  # sqrt(3749)\n",
    "CLUSTERING_OPTIONS[\"N_REPS_PER_K\"] = 5\n",
    "CLUSTERING_OPTIONS[\"KMEANS_N_INIT\"] = 10\n",
    "\n",
    "display(CLUSTERING_OPTIONS)"
   ]
  },
  {
   "cell_type": "code",
   "execution_count": 15,
   "id": "e2966d1d",
   "metadata": {
    "execution": {
     "iopub.execute_input": "2022-11-25T04:39:50.398860Z",
     "iopub.status.busy": "2022-11-25T04:39:50.398514Z",
     "iopub.status.idle": "2022-11-25T04:39:50.419940Z",
     "shell.execute_reply": "2022-11-25T04:39:50.419474Z"
    },
    "papermill": {
     "duration": 0.033432,
     "end_time": "2022-11-25T04:39:50.421307",
     "exception": false,
     "start_time": "2022-11-25T04:39:50.387875",
     "status": "completed"
    },
    "tags": []
   },
   "outputs": [],
   "source": [
    "CLUSTERERS = {}\n",
    "\n",
    "idx = 0\n",
    "random_state = INITIAL_RANDOM_STATE\n",
    "\n",
    "for k in range(CLUSTERING_OPTIONS[\"K_MIN\"], CLUSTERING_OPTIONS[\"K_MAX\"] + 1):\n",
    "    for i in range(CLUSTERING_OPTIONS[\"N_REPS_PER_K\"]):\n",
    "        clus = KMeans(\n",
    "            n_clusters=k,\n",
    "            n_init=CLUSTERING_OPTIONS[\"KMEANS_N_INIT\"],\n",
    "            random_state=random_state,\n",
    "        )\n",
    "\n",
    "        method_name = type(clus).__name__\n",
    "        CLUSTERERS[f\"{method_name} #{idx}\"] = clus\n",
    "\n",
    "        random_state = random_state + 1\n",
    "        idx = idx + 1"
   ]
  },
  {
   "cell_type": "code",
   "execution_count": 16,
   "id": "8304e53c",
   "metadata": {
    "execution": {
     "iopub.execute_input": "2022-11-25T04:39:50.444921Z",
     "iopub.status.busy": "2022-11-25T04:39:50.444567Z",
     "iopub.status.idle": "2022-11-25T04:39:50.464540Z",
     "shell.execute_reply": "2022-11-25T04:39:50.464040Z"
    },
    "papermill": {
     "duration": 0.032163,
     "end_time": "2022-11-25T04:39:50.465927",
     "exception": false,
     "start_time": "2022-11-25T04:39:50.433764",
     "status": "completed"
    },
    "tags": []
   },
   "outputs": [
    {
     "data": {
      "text/plain": [
       "295"
      ]
     },
     "metadata": {},
     "output_type": "display_data"
    }
   ],
   "source": [
    "display(len(CLUSTERERS))"
   ]
  },
  {
   "cell_type": "code",
   "execution_count": 17,
   "id": "7d7fccb2",
   "metadata": {
    "execution": {
     "iopub.execute_input": "2022-11-25T04:39:50.487506Z",
     "iopub.status.busy": "2022-11-25T04:39:50.487168Z",
     "iopub.status.idle": "2022-11-25T04:39:50.508865Z",
     "shell.execute_reply": "2022-11-25T04:39:50.508403Z"
    },
    "papermill": {
     "duration": 0.033117,
     "end_time": "2022-11-25T04:39:50.510203",
     "exception": false,
     "start_time": "2022-11-25T04:39:50.477086",
     "status": "completed"
    },
    "tags": []
   },
   "outputs": [
    {
     "data": {
      "text/plain": [
       "('KMeans #0', KMeans(n_clusters=2, random_state=20000))"
      ]
     },
     "metadata": {},
     "output_type": "display_data"
    },
    {
     "data": {
      "text/plain": [
       "('KMeans #1', KMeans(n_clusters=2, random_state=20001))"
      ]
     },
     "metadata": {},
     "output_type": "display_data"
    }
   ],
   "source": [
    "_iter = iter(CLUSTERERS.items())\n",
    "display(next(_iter))\n",
    "display(next(_iter))"
   ]
  },
  {
   "cell_type": "code",
   "execution_count": 18,
   "id": "cac9cd6d",
   "metadata": {
    "execution": {
     "iopub.execute_input": "2022-11-25T04:39:50.540069Z",
     "iopub.status.busy": "2022-11-25T04:39:50.539693Z",
     "iopub.status.idle": "2022-11-25T04:39:50.560305Z",
     "shell.execute_reply": "2022-11-25T04:39:50.559854Z"
    },
    "papermill": {
     "duration": 0.037297,
     "end_time": "2022-11-25T04:39:50.561600",
     "exception": false,
     "start_time": "2022-11-25T04:39:50.524303",
     "status": "completed"
    },
    "tags": []
   },
   "outputs": [
    {
     "data": {
      "text/plain": [
       "'KMeans'"
      ]
     },
     "metadata": {},
     "output_type": "display_data"
    }
   ],
   "source": [
    "clustering_method_name = method_name\n",
    "display(clustering_method_name)"
   ]
  },
  {
   "cell_type": "markdown",
   "id": "1078d26d",
   "metadata": {
    "papermill": {
     "duration": 0.014031,
     "end_time": "2022-11-25T04:39:50.589665",
     "exception": false,
     "start_time": "2022-11-25T04:39:50.575634",
     "status": "completed"
    },
    "tags": []
   },
   "source": [
    "## Output directory"
   ]
  },
  {
   "cell_type": "code",
   "execution_count": 19,
   "id": "c9e38445",
   "metadata": {
    "execution": {
     "iopub.execute_input": "2022-11-25T04:39:50.615774Z",
     "iopub.status.busy": "2022-11-25T04:39:50.615351Z",
     "iopub.status.idle": "2022-11-25T04:39:50.635988Z",
     "shell.execute_reply": "2022-11-25T04:39:50.635543Z"
    },
    "papermill": {
     "duration": 0.033309,
     "end_time": "2022-11-25T04:39:50.636765",
     "exception": false,
     "start_time": "2022-11-25T04:39:50.603456",
     "status": "completed"
    },
    "tags": []
   },
   "outputs": [
    {
     "data": {
      "text/plain": [
       "PosixPath('/opt/data/results/clustering/null_sims/shuffle_genes/runs/umap-z_score_std-projection-smultixcan-efo_partial-mashr-zscores')"
      ]
     },
     "metadata": {},
     "output_type": "display_data"
    }
   ],
   "source": [
    "# output dir for this notebook\n",
    "RESULTS_DIR = Path(\n",
    "    NULL_DIR,\n",
    "    \"runs\",\n",
    "    f\"{INPUT_SUBSET}-{INPUT_STEM}\",\n",
    ").resolve()\n",
    "RESULTS_DIR.mkdir(parents=True, exist_ok=True)\n",
    "\n",
    "display(RESULTS_DIR)"
   ]
  },
  {
   "cell_type": "markdown",
   "id": "6df10d47",
   "metadata": {
    "papermill": {
     "duration": 0.006939,
     "end_time": "2022-11-25T04:39:50.650415",
     "exception": false,
     "start_time": "2022-11-25T04:39:50.643476",
     "status": "completed"
    },
    "tags": []
   },
   "source": [
    "# Load input file"
   ]
  },
  {
   "cell_type": "code",
   "execution_count": 20,
   "id": "fe6a9f23",
   "metadata": {
    "execution": {
     "iopub.execute_input": "2022-11-25T04:39:50.664888Z",
     "iopub.status.busy": "2022-11-25T04:39:50.664551Z",
     "iopub.status.idle": "2022-11-25T04:39:50.685228Z",
     "shell.execute_reply": "2022-11-25T04:39:50.684760Z"
    },
    "papermill": {
     "duration": 0.028913,
     "end_time": "2022-11-25T04:39:50.686152",
     "exception": false,
     "start_time": "2022-11-25T04:39:50.657239",
     "status": "completed"
    },
    "tags": []
   },
   "outputs": [],
   "source": [
    "data = pd.read_pickle(input_filepath)"
   ]
  },
  {
   "cell_type": "code",
   "execution_count": 21,
   "id": "3d76cff9",
   "metadata": {
    "execution": {
     "iopub.execute_input": "2022-11-25T04:39:50.700802Z",
     "iopub.status.busy": "2022-11-25T04:39:50.700440Z",
     "iopub.status.idle": "2022-11-25T04:39:50.719977Z",
     "shell.execute_reply": "2022-11-25T04:39:50.719540Z"
    },
    "papermill": {
     "duration": 0.027625,
     "end_time": "2022-11-25T04:39:50.720765",
     "exception": false,
     "start_time": "2022-11-25T04:39:50.693140",
     "status": "completed"
    },
    "tags": []
   },
   "outputs": [
    {
     "data": {
      "text/plain": [
       "(3752, 50)"
      ]
     },
     "execution_count": 21,
     "metadata": {},
     "output_type": "execute_result"
    }
   ],
   "source": [
    "data.shape"
   ]
  },
  {
   "cell_type": "code",
   "execution_count": 22,
   "id": "8c3d3cbe",
   "metadata": {
    "execution": {
     "iopub.execute_input": "2022-11-25T04:39:50.735408Z",
     "iopub.status.busy": "2022-11-25T04:39:50.735071Z",
     "iopub.status.idle": "2022-11-25T04:39:50.770360Z",
     "shell.execute_reply": "2022-11-25T04:39:50.769963Z"
    },
    "papermill": {
     "duration": 0.043901,
     "end_time": "2022-11-25T04:39:50.771448",
     "exception": false,
     "start_time": "2022-11-25T04:39:50.727547",
     "status": "completed"
    },
    "tags": []
   },
   "outputs": [
    {
     "data": {
      "text/html": [
       "<div>\n",
       "<style scoped>\n",
       "    .dataframe tbody tr th:only-of-type {\n",
       "        vertical-align: middle;\n",
       "    }\n",
       "\n",
       "    .dataframe tbody tr th {\n",
       "        vertical-align: top;\n",
       "    }\n",
       "\n",
       "    .dataframe thead th {\n",
       "        text-align: right;\n",
       "    }\n",
       "</style>\n",
       "<table border=\"1\" class=\"dataframe\">\n",
       "  <thead>\n",
       "    <tr style=\"text-align: right;\">\n",
       "      <th></th>\n",
       "      <th>UMAP1</th>\n",
       "      <th>UMAP2</th>\n",
       "      <th>UMAP3</th>\n",
       "      <th>UMAP4</th>\n",
       "      <th>UMAP5</th>\n",
       "      <th>UMAP6</th>\n",
       "      <th>UMAP7</th>\n",
       "      <th>UMAP8</th>\n",
       "      <th>UMAP9</th>\n",
       "      <th>UMAP10</th>\n",
       "      <th>...</th>\n",
       "      <th>UMAP41</th>\n",
       "      <th>UMAP42</th>\n",
       "      <th>UMAP43</th>\n",
       "      <th>UMAP44</th>\n",
       "      <th>UMAP45</th>\n",
       "      <th>UMAP46</th>\n",
       "      <th>UMAP47</th>\n",
       "      <th>UMAP48</th>\n",
       "      <th>UMAP49</th>\n",
       "      <th>UMAP50</th>\n",
       "    </tr>\n",
       "  </thead>\n",
       "  <tbody>\n",
       "    <tr>\n",
       "      <th>100001_raw-Food_weight</th>\n",
       "      <td>3.507164</td>\n",
       "      <td>4.783988</td>\n",
       "      <td>2.721716</td>\n",
       "      <td>5.306452</td>\n",
       "      <td>3.881773</td>\n",
       "      <td>3.321169</td>\n",
       "      <td>4.960411</td>\n",
       "      <td>5.549141</td>\n",
       "      <td>4.841390</td>\n",
       "      <td>3.194715</td>\n",
       "      <td>...</td>\n",
       "      <td>9.187434</td>\n",
       "      <td>2.469095</td>\n",
       "      <td>1.234505</td>\n",
       "      <td>9.594598</td>\n",
       "      <td>0.333957</td>\n",
       "      <td>8.039461</td>\n",
       "      <td>5.482632</td>\n",
       "      <td>4.958725</td>\n",
       "      <td>2.801697</td>\n",
       "      <td>5.658304</td>\n",
       "    </tr>\n",
       "    <tr>\n",
       "      <th>100002_raw-Energy</th>\n",
       "      <td>3.606311</td>\n",
       "      <td>4.727725</td>\n",
       "      <td>2.704979</td>\n",
       "      <td>5.271563</td>\n",
       "      <td>3.724591</td>\n",
       "      <td>3.337485</td>\n",
       "      <td>4.781901</td>\n",
       "      <td>5.599291</td>\n",
       "      <td>4.791382</td>\n",
       "      <td>3.003243</td>\n",
       "      <td>...</td>\n",
       "      <td>9.121886</td>\n",
       "      <td>2.506307</td>\n",
       "      <td>1.227272</td>\n",
       "      <td>9.574743</td>\n",
       "      <td>0.344036</td>\n",
       "      <td>8.037237</td>\n",
       "      <td>5.477282</td>\n",
       "      <td>4.900286</td>\n",
       "      <td>2.729573</td>\n",
       "      <td>5.601664</td>\n",
       "    </tr>\n",
       "    <tr>\n",
       "      <th>100003_raw-Protein</th>\n",
       "      <td>3.594661</td>\n",
       "      <td>4.729409</td>\n",
       "      <td>2.682754</td>\n",
       "      <td>5.218021</td>\n",
       "      <td>3.652642</td>\n",
       "      <td>3.325793</td>\n",
       "      <td>4.771183</td>\n",
       "      <td>5.580573</td>\n",
       "      <td>4.820001</td>\n",
       "      <td>3.022622</td>\n",
       "      <td>...</td>\n",
       "      <td>9.097627</td>\n",
       "      <td>2.484138</td>\n",
       "      <td>1.221946</td>\n",
       "      <td>9.572356</td>\n",
       "      <td>0.339655</td>\n",
       "      <td>8.043584</td>\n",
       "      <td>5.472909</td>\n",
       "      <td>4.895183</td>\n",
       "      <td>2.765254</td>\n",
       "      <td>5.663905</td>\n",
       "    </tr>\n",
       "    <tr>\n",
       "      <th>100004_raw-Fat</th>\n",
       "      <td>3.459632</td>\n",
       "      <td>4.797582</td>\n",
       "      <td>2.755155</td>\n",
       "      <td>5.230875</td>\n",
       "      <td>3.784350</td>\n",
       "      <td>3.366962</td>\n",
       "      <td>4.942765</td>\n",
       "      <td>5.604582</td>\n",
       "      <td>4.731943</td>\n",
       "      <td>3.045358</td>\n",
       "      <td>...</td>\n",
       "      <td>9.124997</td>\n",
       "      <td>2.587374</td>\n",
       "      <td>1.199794</td>\n",
       "      <td>9.633430</td>\n",
       "      <td>0.286029</td>\n",
       "      <td>8.071218</td>\n",
       "      <td>5.476699</td>\n",
       "      <td>4.869335</td>\n",
       "      <td>2.766068</td>\n",
       "      <td>5.523112</td>\n",
       "    </tr>\n",
       "    <tr>\n",
       "      <th>100005_raw-Carbohydrate</th>\n",
       "      <td>3.436945</td>\n",
       "      <td>4.827942</td>\n",
       "      <td>2.761039</td>\n",
       "      <td>5.268426</td>\n",
       "      <td>4.005526</td>\n",
       "      <td>3.357875</td>\n",
       "      <td>5.036726</td>\n",
       "      <td>5.545567</td>\n",
       "      <td>4.842803</td>\n",
       "      <td>3.282768</td>\n",
       "      <td>...</td>\n",
       "      <td>9.181946</td>\n",
       "      <td>2.513265</td>\n",
       "      <td>1.200227</td>\n",
       "      <td>9.631493</td>\n",
       "      <td>0.349085</td>\n",
       "      <td>8.032649</td>\n",
       "      <td>5.486337</td>\n",
       "      <td>4.947569</td>\n",
       "      <td>2.811798</td>\n",
       "      <td>5.677997</td>\n",
       "    </tr>\n",
       "  </tbody>\n",
       "</table>\n",
       "<p>5 rows × 50 columns</p>\n",
       "</div>"
      ],
      "text/plain": [
       "                            UMAP1     UMAP2     UMAP3     UMAP4     UMAP5  \\\n",
       "100001_raw-Food_weight   3.507164  4.783988  2.721716  5.306452  3.881773   \n",
       "100002_raw-Energy        3.606311  4.727725  2.704979  5.271563  3.724591   \n",
       "100003_raw-Protein       3.594661  4.729409  2.682754  5.218021  3.652642   \n",
       "100004_raw-Fat           3.459632  4.797582  2.755155  5.230875  3.784350   \n",
       "100005_raw-Carbohydrate  3.436945  4.827942  2.761039  5.268426  4.005526   \n",
       "\n",
       "                            UMAP6     UMAP7     UMAP8     UMAP9    UMAP10  \\\n",
       "100001_raw-Food_weight   3.321169  4.960411  5.549141  4.841390  3.194715   \n",
       "100002_raw-Energy        3.337485  4.781901  5.599291  4.791382  3.003243   \n",
       "100003_raw-Protein       3.325793  4.771183  5.580573  4.820001  3.022622   \n",
       "100004_raw-Fat           3.366962  4.942765  5.604582  4.731943  3.045358   \n",
       "100005_raw-Carbohydrate  3.357875  5.036726  5.545567  4.842803  3.282768   \n",
       "\n",
       "                         ...    UMAP41    UMAP42    UMAP43    UMAP44  \\\n",
       "100001_raw-Food_weight   ...  9.187434  2.469095  1.234505  9.594598   \n",
       "100002_raw-Energy        ...  9.121886  2.506307  1.227272  9.574743   \n",
       "100003_raw-Protein       ...  9.097627  2.484138  1.221946  9.572356   \n",
       "100004_raw-Fat           ...  9.124997  2.587374  1.199794  9.633430   \n",
       "100005_raw-Carbohydrate  ...  9.181946  2.513265  1.200227  9.631493   \n",
       "\n",
       "                           UMAP45    UMAP46    UMAP47    UMAP48    UMAP49  \\\n",
       "100001_raw-Food_weight   0.333957  8.039461  5.482632  4.958725  2.801697   \n",
       "100002_raw-Energy        0.344036  8.037237  5.477282  4.900286  2.729573   \n",
       "100003_raw-Protein       0.339655  8.043584  5.472909  4.895183  2.765254   \n",
       "100004_raw-Fat           0.286029  8.071218  5.476699  4.869335  2.766068   \n",
       "100005_raw-Carbohydrate  0.349085  8.032649  5.486337  4.947569  2.811798   \n",
       "\n",
       "                           UMAP50  \n",
       "100001_raw-Food_weight   5.658304  \n",
       "100002_raw-Energy        5.601664  \n",
       "100003_raw-Protein       5.663905  \n",
       "100004_raw-Fat           5.523112  \n",
       "100005_raw-Carbohydrate  5.677997  \n",
       "\n",
       "[5 rows x 50 columns]"
      ]
     },
     "execution_count": 22,
     "metadata": {},
     "output_type": "execute_result"
    }
   ],
   "source": [
    "data.head()"
   ]
  },
  {
   "cell_type": "code",
   "execution_count": 23,
   "id": "a2404790",
   "metadata": {
    "execution": {
     "iopub.execute_input": "2022-11-25T04:39:50.800426Z",
     "iopub.status.busy": "2022-11-25T04:39:50.800095Z",
     "iopub.status.idle": "2022-11-25T04:39:50.819946Z",
     "shell.execute_reply": "2022-11-25T04:39:50.819542Z"
    },
    "papermill": {
     "duration": 0.035534,
     "end_time": "2022-11-25T04:39:50.821181",
     "exception": false,
     "start_time": "2022-11-25T04:39:50.785647",
     "status": "completed"
    },
    "tags": []
   },
   "outputs": [],
   "source": [
    "assert not data.isna().any().any()"
   ]
  },
  {
   "cell_type": "markdown",
   "id": "21a4325b",
   "metadata": {
    "papermill": {
     "duration": 0.013978,
     "end_time": "2022-11-25T04:39:50.849584",
     "exception": false,
     "start_time": "2022-11-25T04:39:50.835606",
     "status": "completed"
    },
    "tags": []
   },
   "source": [
    "# Clustering"
   ]
  },
  {
   "cell_type": "markdown",
   "id": "20830bc5",
   "metadata": {
    "papermill": {
     "duration": 0.013393,
     "end_time": "2022-11-25T04:39:50.877001",
     "exception": false,
     "start_time": "2022-11-25T04:39:50.863608",
     "status": "completed"
    },
    "tags": []
   },
   "source": [
    "## Generate ensemble"
   ]
  },
  {
   "cell_type": "code",
   "execution_count": 24,
   "id": "ebc23812",
   "metadata": {
    "execution": {
     "iopub.execute_input": "2022-11-25T04:39:50.891845Z",
     "iopub.status.busy": "2022-11-25T04:39:50.891485Z",
     "iopub.status.idle": "2022-11-25T04:39:50.914476Z",
     "shell.execute_reply": "2022-11-25T04:39:50.914010Z"
    },
    "papermill": {
     "duration": 0.031396,
     "end_time": "2022-11-25T04:39:50.915345",
     "exception": false,
     "start_time": "2022-11-25T04:39:50.883949",
     "status": "completed"
    },
    "tags": []
   },
   "outputs": [],
   "source": [
    "from clustering.ensembles.utils import generate_ensemble"
   ]
  },
  {
   "cell_type": "code",
   "execution_count": 25,
   "id": "2bdd8139",
   "metadata": {
    "execution": {
     "iopub.execute_input": "2022-11-25T04:39:50.930368Z",
     "iopub.status.busy": "2022-11-25T04:39:50.930044Z",
     "iopub.status.idle": "2022-11-25T04:41:52.101300Z",
     "shell.execute_reply": "2022-11-25T04:41:52.100882Z"
    },
    "papermill": {
     "duration": 121.18035,
     "end_time": "2022-11-25T04:41:52.102924",
     "exception": false,
     "start_time": "2022-11-25T04:39:50.922574",
     "status": "completed"
    },
    "tags": []
   },
   "outputs": [
    {
     "name": "stderr",
     "output_type": "stream",
     "text": [
      "100%|██████████| 295/295 [02:01<00:00,  2.44it/s]\n"
     ]
    }
   ],
   "source": [
    "ensemble = generate_ensemble(\n",
    "    data,\n",
    "    CLUSTERERS,\n",
    "    attributes=CLUSTERING_ATTRIBUTES_TO_SAVE,\n",
    ")"
   ]
  },
  {
   "cell_type": "code",
   "execution_count": 26,
   "id": "17b0af54",
   "metadata": {
    "execution": {
     "iopub.execute_input": "2022-11-25T04:41:52.170454Z",
     "iopub.status.busy": "2022-11-25T04:41:52.170356Z",
     "iopub.status.idle": "2022-11-25T04:41:52.191167Z",
     "shell.execute_reply": "2022-11-25T04:41:52.190732Z"
    },
    "papermill": {
     "duration": 0.056163,
     "end_time": "2022-11-25T04:41:52.192491",
     "exception": false,
     "start_time": "2022-11-25T04:41:52.136328",
     "status": "completed"
    },
    "tags": []
   },
   "outputs": [
    {
     "data": {
      "text/plain": [
       "(295, 3)"
      ]
     },
     "execution_count": 26,
     "metadata": {},
     "output_type": "execute_result"
    }
   ],
   "source": [
    "# the number should be close to 295 (the number of partitions generated by k-means/spectral clustering)\n",
    "ensemble.shape"
   ]
  },
  {
   "cell_type": "code",
   "execution_count": 27,
   "id": "32420cf6",
   "metadata": {
    "execution": {
     "iopub.execute_input": "2022-11-25T04:41:52.250654Z",
     "iopub.status.busy": "2022-11-25T04:41:52.250206Z",
     "iopub.status.idle": "2022-11-25T04:41:52.282100Z",
     "shell.execute_reply": "2022-11-25T04:41:52.281649Z"
    },
    "papermill": {
     "duration": 0.056672,
     "end_time": "2022-11-25T04:41:52.282885",
     "exception": false,
     "start_time": "2022-11-25T04:41:52.226213",
     "status": "completed"
    },
    "tags": []
   },
   "outputs": [
    {
     "data": {
      "text/html": [
       "<div>\n",
       "<style scoped>\n",
       "    .dataframe tbody tr th:only-of-type {\n",
       "        vertical-align: middle;\n",
       "    }\n",
       "\n",
       "    .dataframe tbody tr th {\n",
       "        vertical-align: top;\n",
       "    }\n",
       "\n",
       "    .dataframe thead th {\n",
       "        text-align: right;\n",
       "    }\n",
       "</style>\n",
       "<table border=\"1\" class=\"dataframe\">\n",
       "  <thead>\n",
       "    <tr style=\"text-align: right;\">\n",
       "      <th></th>\n",
       "      <th>clusterer_params</th>\n",
       "      <th>partition</th>\n",
       "      <th>n_clusters</th>\n",
       "    </tr>\n",
       "    <tr>\n",
       "      <th>clusterer_id</th>\n",
       "      <th></th>\n",
       "      <th></th>\n",
       "      <th></th>\n",
       "    </tr>\n",
       "  </thead>\n",
       "  <tbody>\n",
       "    <tr>\n",
       "      <th>KMeans #0</th>\n",
       "      <td>{'algorithm': 'auto', 'copy_x': True, 'init': ...</td>\n",
       "      <td>[0.0, 0.0, 0.0, 0.0, 0.0, 0.0, 0.0, 0.0, 0.0, ...</td>\n",
       "      <td>2</td>\n",
       "    </tr>\n",
       "    <tr>\n",
       "      <th>KMeans #1</th>\n",
       "      <td>{'algorithm': 'auto', 'copy_x': True, 'init': ...</td>\n",
       "      <td>[0.0, 0.0, 0.0, 0.0, 0.0, 0.0, 0.0, 0.0, 0.0, ...</td>\n",
       "      <td>2</td>\n",
       "    </tr>\n",
       "    <tr>\n",
       "      <th>KMeans #2</th>\n",
       "      <td>{'algorithm': 'auto', 'copy_x': True, 'init': ...</td>\n",
       "      <td>[1.0, 1.0, 1.0, 1.0, 1.0, 1.0, 1.0, 1.0, 1.0, ...</td>\n",
       "      <td>2</td>\n",
       "    </tr>\n",
       "    <tr>\n",
       "      <th>KMeans #3</th>\n",
       "      <td>{'algorithm': 'auto', 'copy_x': True, 'init': ...</td>\n",
       "      <td>[1.0, 1.0, 1.0, 1.0, 1.0, 1.0, 1.0, 1.0, 1.0, ...</td>\n",
       "      <td>2</td>\n",
       "    </tr>\n",
       "    <tr>\n",
       "      <th>KMeans #4</th>\n",
       "      <td>{'algorithm': 'auto', 'copy_x': True, 'init': ...</td>\n",
       "      <td>[1.0, 1.0, 1.0, 1.0, 1.0, 1.0, 1.0, 1.0, 1.0, ...</td>\n",
       "      <td>2</td>\n",
       "    </tr>\n",
       "  </tbody>\n",
       "</table>\n",
       "</div>"
      ],
      "text/plain": [
       "                                               clusterer_params  \\\n",
       "clusterer_id                                                      \n",
       "KMeans #0     {'algorithm': 'auto', 'copy_x': True, 'init': ...   \n",
       "KMeans #1     {'algorithm': 'auto', 'copy_x': True, 'init': ...   \n",
       "KMeans #2     {'algorithm': 'auto', 'copy_x': True, 'init': ...   \n",
       "KMeans #3     {'algorithm': 'auto', 'copy_x': True, 'init': ...   \n",
       "KMeans #4     {'algorithm': 'auto', 'copy_x': True, 'init': ...   \n",
       "\n",
       "                                                      partition  n_clusters  \n",
       "clusterer_id                                                                 \n",
       "KMeans #0     [0.0, 0.0, 0.0, 0.0, 0.0, 0.0, 0.0, 0.0, 0.0, ...           2  \n",
       "KMeans #1     [0.0, 0.0, 0.0, 0.0, 0.0, 0.0, 0.0, 0.0, 0.0, ...           2  \n",
       "KMeans #2     [1.0, 1.0, 1.0, 1.0, 1.0, 1.0, 1.0, 1.0, 1.0, ...           2  \n",
       "KMeans #3     [1.0, 1.0, 1.0, 1.0, 1.0, 1.0, 1.0, 1.0, 1.0, ...           2  \n",
       "KMeans #4     [1.0, 1.0, 1.0, 1.0, 1.0, 1.0, 1.0, 1.0, 1.0, ...           2  "
      ]
     },
     "execution_count": 27,
     "metadata": {},
     "output_type": "execute_result"
    }
   ],
   "source": [
    "ensemble.head()"
   ]
  },
  {
   "cell_type": "code",
   "execution_count": 28,
   "id": "696995b0",
   "metadata": {
    "execution": {
     "iopub.execute_input": "2022-11-25T04:41:52.315303Z",
     "iopub.status.busy": "2022-11-25T04:41:52.315030Z",
     "iopub.status.idle": "2022-11-25T04:41:52.337238Z",
     "shell.execute_reply": "2022-11-25T04:41:52.336838Z"
    },
    "papermill": {
     "duration": 0.039204,
     "end_time": "2022-11-25T04:41:52.338058",
     "exception": false,
     "start_time": "2022-11-25T04:41:52.298854",
     "status": "completed"
    },
    "tags": []
   },
   "outputs": [
    {
     "data": {
      "text/plain": [
       "60    5\n",
       "16    5\n",
       "28    5\n",
       "27    5\n",
       "26    5\n",
       "Name: n_clusters, dtype: int64"
      ]
     },
     "execution_count": 28,
     "metadata": {},
     "output_type": "execute_result"
    }
   ],
   "source": [
    "ensemble[\"n_clusters\"].value_counts().head()"
   ]
  },
  {
   "cell_type": "code",
   "execution_count": 29,
   "id": "1d6548d0",
   "metadata": {
    "execution": {
     "iopub.execute_input": "2022-11-25T04:41:52.370081Z",
     "iopub.status.busy": "2022-11-25T04:41:52.369689Z",
     "iopub.status.idle": "2022-11-25T04:41:52.393190Z",
     "shell.execute_reply": "2022-11-25T04:41:52.392765Z"
    },
    "papermill": {
     "duration": 0.04075,
     "end_time": "2022-11-25T04:41:52.394023",
     "exception": false,
     "start_time": "2022-11-25T04:41:52.353273",
     "status": "completed"
    },
    "tags": []
   },
   "outputs": [
    {
     "data": {
      "text/plain": [
       "count    295.000000\n",
       "mean      31.000000\n",
       "std       17.058323\n",
       "min        2.000000\n",
       "25%       16.000000\n",
       "50%       31.000000\n",
       "75%       46.000000\n",
       "max       60.000000\n",
       "Name: n_clusters, dtype: float64"
      ]
     },
     "metadata": {},
     "output_type": "display_data"
    }
   ],
   "source": [
    "ensemble_stats = ensemble[\"n_clusters\"].describe()\n",
    "display(ensemble_stats)"
   ]
  },
  {
   "cell_type": "markdown",
   "id": "8380f197",
   "metadata": {
    "papermill": {
     "duration": 0.015287,
     "end_time": "2022-11-25T04:41:52.424620",
     "exception": false,
     "start_time": "2022-11-25T04:41:52.409333",
     "status": "completed"
    },
    "tags": []
   },
   "source": [
    "## Testing"
   ]
  },
  {
   "cell_type": "code",
   "execution_count": 30,
   "id": "6ae54bae",
   "metadata": {
    "execution": {
     "iopub.execute_input": "2022-11-25T04:41:52.459154Z",
     "iopub.status.busy": "2022-11-25T04:41:52.458707Z",
     "iopub.status.idle": "2022-11-25T04:41:52.479073Z",
     "shell.execute_reply": "2022-11-25T04:41:52.478690Z"
    },
    "papermill": {
     "duration": 0.037403,
     "end_time": "2022-11-25T04:41:52.479906",
     "exception": false,
     "start_time": "2022-11-25T04:41:52.442503",
     "status": "completed"
    },
    "tags": []
   },
   "outputs": [],
   "source": [
    "assert ensemble_stats[\"min\"] > 1"
   ]
  },
  {
   "cell_type": "code",
   "execution_count": 31,
   "id": "5fa39227",
   "metadata": {
    "execution": {
     "iopub.execute_input": "2022-11-25T04:41:52.510560Z",
     "iopub.status.busy": "2022-11-25T04:41:52.510193Z",
     "iopub.status.idle": "2022-11-25T04:41:52.530084Z",
     "shell.execute_reply": "2022-11-25T04:41:52.529696Z"
    },
    "papermill": {
     "duration": 0.036168,
     "end_time": "2022-11-25T04:41:52.530875",
     "exception": false,
     "start_time": "2022-11-25T04:41:52.494707",
     "status": "completed"
    },
    "tags": []
   },
   "outputs": [],
   "source": [
    "assert not ensemble[\"n_clusters\"].isna().any()"
   ]
  },
  {
   "cell_type": "code",
   "execution_count": 32,
   "id": "77e95a6a",
   "metadata": {
    "execution": {
     "iopub.execute_input": "2022-11-25T04:41:52.561171Z",
     "iopub.status.busy": "2022-11-25T04:41:52.560828Z",
     "iopub.status.idle": "2022-11-25T04:41:52.579980Z",
     "shell.execute_reply": "2022-11-25T04:41:52.579508Z"
    },
    "papermill": {
     "duration": 0.035167,
     "end_time": "2022-11-25T04:41:52.580821",
     "exception": false,
     "start_time": "2022-11-25T04:41:52.545654",
     "status": "completed"
    },
    "tags": []
   },
   "outputs": [],
   "source": [
    "assert ensemble.shape[0] == len(CLUSTERERS)"
   ]
  },
  {
   "cell_type": "code",
   "execution_count": 33,
   "id": "259b8e40",
   "metadata": {
    "execution": {
     "iopub.execute_input": "2022-11-25T04:41:52.611424Z",
     "iopub.status.busy": "2022-11-25T04:41:52.611131Z",
     "iopub.status.idle": "2022-11-25T04:41:52.653704Z",
     "shell.execute_reply": "2022-11-25T04:41:52.653220Z"
    },
    "papermill": {
     "duration": 0.05925,
     "end_time": "2022-11-25T04:41:52.654885",
     "exception": false,
     "start_time": "2022-11-25T04:41:52.595635",
     "status": "completed"
    },
    "tags": []
   },
   "outputs": [],
   "source": [
    "# all partitions have the right size\n",
    "assert np.all(\n",
    "    [part[\"partition\"].shape[0] == data.shape[0] for idx, part in ensemble.iterrows()]\n",
    ")"
   ]
  },
  {
   "cell_type": "code",
   "execution_count": 34,
   "id": "da8eb843",
   "metadata": {
    "execution": {
     "iopub.execute_input": "2022-11-25T04:41:52.685642Z",
     "iopub.status.busy": "2022-11-25T04:41:52.685252Z",
     "iopub.status.idle": "2022-11-25T04:41:52.733745Z",
     "shell.execute_reply": "2022-11-25T04:41:52.733267Z"
    },
    "papermill": {
     "duration": 0.06485,
     "end_time": "2022-11-25T04:41:52.734553",
     "exception": false,
     "start_time": "2022-11-25T04:41:52.669703",
     "status": "completed"
    },
    "tags": []
   },
   "outputs": [],
   "source": [
    "# no partition has negative clusters (noisy points)\n",
    "assert not np.any([(part[\"partition\"] < 0).any() for idx, part in ensemble.iterrows()])"
   ]
  },
  {
   "cell_type": "markdown",
   "id": "fc74a4e6",
   "metadata": {
    "papermill": {
     "duration": 0.014374,
     "end_time": "2022-11-25T04:41:52.763592",
     "exception": false,
     "start_time": "2022-11-25T04:41:52.749218",
     "status": "completed"
    },
    "tags": []
   },
   "source": [
    "## Add clustering quality measures"
   ]
  },
  {
   "cell_type": "code",
   "execution_count": 35,
   "id": "67a882b7",
   "metadata": {
    "execution": {
     "iopub.execute_input": "2022-11-25T04:41:52.793716Z",
     "iopub.status.busy": "2022-11-25T04:41:52.793298Z",
     "iopub.status.idle": "2022-11-25T04:41:52.813581Z",
     "shell.execute_reply": "2022-11-25T04:41:52.813123Z"
    },
    "papermill": {
     "duration": 0.036138,
     "end_time": "2022-11-25T04:41:52.814337",
     "exception": false,
     "start_time": "2022-11-25T04:41:52.778199",
     "status": "completed"
    },
    "tags": []
   },
   "outputs": [],
   "source": [
    "from sklearn.metrics import calinski_harabasz_score"
   ]
  },
  {
   "cell_type": "code",
   "execution_count": 36,
   "id": "6030929b",
   "metadata": {
    "execution": {
     "iopub.execute_input": "2022-11-25T04:41:52.844232Z",
     "iopub.status.busy": "2022-11-25T04:41:52.843890Z",
     "iopub.status.idle": "2022-11-25T04:41:53.545465Z",
     "shell.execute_reply": "2022-11-25T04:41:53.545054Z"
    },
    "papermill": {
     "duration": 0.718283,
     "end_time": "2022-11-25T04:41:53.547036",
     "exception": false,
     "start_time": "2022-11-25T04:41:52.828753",
     "status": "completed"
    },
    "tags": []
   },
   "outputs": [],
   "source": [
    "ensemble = ensemble.assign(\n",
    "    ch_score=ensemble[\"partition\"].apply(lambda x: calinski_harabasz_score(data, x))\n",
    ")"
   ]
  },
  {
   "cell_type": "code",
   "execution_count": 37,
   "id": "8f570f7f",
   "metadata": {
    "execution": {
     "iopub.execute_input": "2022-11-25T04:41:53.604462Z",
     "iopub.status.busy": "2022-11-25T04:41:53.604356Z",
     "iopub.status.idle": "2022-11-25T04:41:53.617399Z",
     "shell.execute_reply": "2022-11-25T04:41:53.616980Z"
    },
    "papermill": {
     "duration": 0.042459,
     "end_time": "2022-11-25T04:41:53.618722",
     "exception": false,
     "start_time": "2022-11-25T04:41:53.576263",
     "status": "completed"
    },
    "tags": []
   },
   "outputs": [
    {
     "data": {
      "text/plain": [
       "(295, 4)"
      ]
     },
     "execution_count": 37,
     "metadata": {},
     "output_type": "execute_result"
    }
   ],
   "source": [
    "ensemble.shape"
   ]
  },
  {
   "cell_type": "code",
   "execution_count": 38,
   "id": "6f56e75a",
   "metadata": {
    "execution": {
     "iopub.execute_input": "2022-11-25T04:41:53.668962Z",
     "iopub.status.busy": "2022-11-25T04:41:53.668605Z",
     "iopub.status.idle": "2022-11-25T04:41:53.700514Z",
     "shell.execute_reply": "2022-11-25T04:41:53.700124Z"
    },
    "papermill": {
     "duration": 0.054123,
     "end_time": "2022-11-25T04:41:53.701306",
     "exception": false,
     "start_time": "2022-11-25T04:41:53.647183",
     "status": "completed"
    },
    "tags": []
   },
   "outputs": [
    {
     "data": {
      "text/html": [
       "<div>\n",
       "<style scoped>\n",
       "    .dataframe tbody tr th:only-of-type {\n",
       "        vertical-align: middle;\n",
       "    }\n",
       "\n",
       "    .dataframe tbody tr th {\n",
       "        vertical-align: top;\n",
       "    }\n",
       "\n",
       "    .dataframe thead th {\n",
       "        text-align: right;\n",
       "    }\n",
       "</style>\n",
       "<table border=\"1\" class=\"dataframe\">\n",
       "  <thead>\n",
       "    <tr style=\"text-align: right;\">\n",
       "      <th></th>\n",
       "      <th>clusterer_params</th>\n",
       "      <th>partition</th>\n",
       "      <th>n_clusters</th>\n",
       "      <th>ch_score</th>\n",
       "    </tr>\n",
       "    <tr>\n",
       "      <th>clusterer_id</th>\n",
       "      <th></th>\n",
       "      <th></th>\n",
       "      <th></th>\n",
       "      <th></th>\n",
       "    </tr>\n",
       "  </thead>\n",
       "  <tbody>\n",
       "    <tr>\n",
       "      <th>KMeans #0</th>\n",
       "      <td>{'algorithm': 'auto', 'copy_x': True, 'init': ...</td>\n",
       "      <td>[0.0, 0.0, 0.0, 0.0, 0.0, 0.0, 0.0, 0.0, 0.0, ...</td>\n",
       "      <td>2</td>\n",
       "      <td>1881.320428</td>\n",
       "    </tr>\n",
       "    <tr>\n",
       "      <th>KMeans #1</th>\n",
       "      <td>{'algorithm': 'auto', 'copy_x': True, 'init': ...</td>\n",
       "      <td>[0.0, 0.0, 0.0, 0.0, 0.0, 0.0, 0.0, 0.0, 0.0, ...</td>\n",
       "      <td>2</td>\n",
       "      <td>1881.320428</td>\n",
       "    </tr>\n",
       "    <tr>\n",
       "      <th>KMeans #2</th>\n",
       "      <td>{'algorithm': 'auto', 'copy_x': True, 'init': ...</td>\n",
       "      <td>[1.0, 1.0, 1.0, 1.0, 1.0, 1.0, 1.0, 1.0, 1.0, ...</td>\n",
       "      <td>2</td>\n",
       "      <td>1881.320428</td>\n",
       "    </tr>\n",
       "    <tr>\n",
       "      <th>KMeans #3</th>\n",
       "      <td>{'algorithm': 'auto', 'copy_x': True, 'init': ...</td>\n",
       "      <td>[1.0, 1.0, 1.0, 1.0, 1.0, 1.0, 1.0, 1.0, 1.0, ...</td>\n",
       "      <td>2</td>\n",
       "      <td>1881.320428</td>\n",
       "    </tr>\n",
       "    <tr>\n",
       "      <th>KMeans #4</th>\n",
       "      <td>{'algorithm': 'auto', 'copy_x': True, 'init': ...</td>\n",
       "      <td>[1.0, 1.0, 1.0, 1.0, 1.0, 1.0, 1.0, 1.0, 1.0, ...</td>\n",
       "      <td>2</td>\n",
       "      <td>1881.320428</td>\n",
       "    </tr>\n",
       "  </tbody>\n",
       "</table>\n",
       "</div>"
      ],
      "text/plain": [
       "                                               clusterer_params  \\\n",
       "clusterer_id                                                      \n",
       "KMeans #0     {'algorithm': 'auto', 'copy_x': True, 'init': ...   \n",
       "KMeans #1     {'algorithm': 'auto', 'copy_x': True, 'init': ...   \n",
       "KMeans #2     {'algorithm': 'auto', 'copy_x': True, 'init': ...   \n",
       "KMeans #3     {'algorithm': 'auto', 'copy_x': True, 'init': ...   \n",
       "KMeans #4     {'algorithm': 'auto', 'copy_x': True, 'init': ...   \n",
       "\n",
       "                                                      partition  n_clusters  \\\n",
       "clusterer_id                                                                  \n",
       "KMeans #0     [0.0, 0.0, 0.0, 0.0, 0.0, 0.0, 0.0, 0.0, 0.0, ...           2   \n",
       "KMeans #1     [0.0, 0.0, 0.0, 0.0, 0.0, 0.0, 0.0, 0.0, 0.0, ...           2   \n",
       "KMeans #2     [1.0, 1.0, 1.0, 1.0, 1.0, 1.0, 1.0, 1.0, 1.0, ...           2   \n",
       "KMeans #3     [1.0, 1.0, 1.0, 1.0, 1.0, 1.0, 1.0, 1.0, 1.0, ...           2   \n",
       "KMeans #4     [1.0, 1.0, 1.0, 1.0, 1.0, 1.0, 1.0, 1.0, 1.0, ...           2   \n",
       "\n",
       "                 ch_score  \n",
       "clusterer_id               \n",
       "KMeans #0     1881.320428  \n",
       "KMeans #1     1881.320428  \n",
       "KMeans #2     1881.320428  \n",
       "KMeans #3     1881.320428  \n",
       "KMeans #4     1881.320428  "
      ]
     },
     "execution_count": 38,
     "metadata": {},
     "output_type": "execute_result"
    }
   ],
   "source": [
    "ensemble.head()"
   ]
  },
  {
   "cell_type": "markdown",
   "id": "88a8adfc",
   "metadata": {
    "papermill": {
     "duration": 0.014864,
     "end_time": "2022-11-25T04:41:53.731025",
     "exception": false,
     "start_time": "2022-11-25T04:41:53.716161",
     "status": "completed"
    },
    "tags": []
   },
   "source": [
    "## Save"
   ]
  },
  {
   "cell_type": "code",
   "execution_count": 39,
   "id": "8c66e926",
   "metadata": {
    "execution": {
     "iopub.execute_input": "2022-11-25T04:41:53.761659Z",
     "iopub.status.busy": "2022-11-25T04:41:53.761300Z",
     "iopub.status.idle": "2022-11-25T04:41:53.782602Z",
     "shell.execute_reply": "2022-11-25T04:41:53.782210Z"
    },
    "papermill": {
     "duration": 0.037492,
     "end_time": "2022-11-25T04:41:53.783376",
     "exception": false,
     "start_time": "2022-11-25T04:41:53.745884",
     "status": "completed"
    },
    "tags": []
   },
   "outputs": [
    {
     "data": {
      "text/plain": [
       "PosixPath('/opt/data/results/clustering/null_sims/shuffle_genes/runs/umap-z_score_std-projection-smultixcan-efo_partial-mashr-zscores/KMeans-KMEANS_N_INIT_10-K_MAX_60-K_MIN_2-N_REPS_PER_K_5.pkl')"
      ]
     },
     "metadata": {},
     "output_type": "display_data"
    }
   ],
   "source": [
    "output_filename = Path(\n",
    "    RESULTS_DIR,\n",
    "    generate_result_set_name(\n",
    "        CLUSTERING_OPTIONS,\n",
    "        prefix=f\"{clustering_method_name}-\",\n",
    "        suffix=\".pkl\",\n",
    "    ),\n",
    ").resolve()\n",
    "display(output_filename)"
   ]
  },
  {
   "cell_type": "code",
   "execution_count": 40,
   "id": "ba16adf4",
   "metadata": {
    "execution": {
     "iopub.execute_input": "2022-11-25T04:41:53.814096Z",
     "iopub.status.busy": "2022-11-25T04:41:53.813731Z",
     "iopub.status.idle": "2022-11-25T04:41:53.852560Z",
     "shell.execute_reply": "2022-11-25T04:41:53.852084Z"
    },
    "papermill": {
     "duration": 0.055493,
     "end_time": "2022-11-25T04:41:53.853718",
     "exception": false,
     "start_time": "2022-11-25T04:41:53.798225",
     "status": "completed"
    },
    "tags": []
   },
   "outputs": [],
   "source": [
    "ensemble.to_pickle(output_filename)"
   ]
  },
  {
   "cell_type": "markdown",
   "id": "6eccf176",
   "metadata": {
    "papermill": {
     "duration": 0.014637,
     "end_time": "2022-11-25T04:41:53.883829",
     "exception": false,
     "start_time": "2022-11-25T04:41:53.869192",
     "status": "completed"
    },
    "tags": []
   },
   "source": [
    "# Cluster quality"
   ]
  },
  {
   "cell_type": "code",
   "execution_count": 41,
   "id": "3ad672e1",
   "metadata": {
    "execution": {
     "iopub.execute_input": "2022-11-25T04:41:53.914863Z",
     "iopub.status.busy": "2022-11-25T04:41:53.914380Z",
     "iopub.status.idle": "2022-11-25T04:41:53.943152Z",
     "shell.execute_reply": "2022-11-25T04:41:53.942728Z"
    },
    "papermill": {
     "duration": 0.045199,
     "end_time": "2022-11-25T04:41:53.944038",
     "exception": false,
     "start_time": "2022-11-25T04:41:53.898839",
     "status": "completed"
    },
    "tags": []
   },
   "outputs": [
    {
     "data": {
      "text/html": [
       "<div>\n",
       "<style scoped>\n",
       "    .dataframe tbody tr th:only-of-type {\n",
       "        vertical-align: middle;\n",
       "    }\n",
       "\n",
       "    .dataframe tbody tr th {\n",
       "        vertical-align: top;\n",
       "    }\n",
       "\n",
       "    .dataframe thead th {\n",
       "        text-align: right;\n",
       "    }\n",
       "</style>\n",
       "<table border=\"1\" class=\"dataframe\">\n",
       "  <thead>\n",
       "    <tr style=\"text-align: right;\">\n",
       "      <th></th>\n",
       "      <th>ch_score</th>\n",
       "    </tr>\n",
       "    <tr>\n",
       "      <th>n_clusters</th>\n",
       "      <th></th>\n",
       "    </tr>\n",
       "  </thead>\n",
       "  <tbody>\n",
       "    <tr>\n",
       "      <th>2</th>\n",
       "      <td>1881.320428</td>\n",
       "    </tr>\n",
       "    <tr>\n",
       "      <th>3</th>\n",
       "      <td>2575.901695</td>\n",
       "    </tr>\n",
       "    <tr>\n",
       "      <th>4</th>\n",
       "      <td>2775.642591</td>\n",
       "    </tr>\n",
       "    <tr>\n",
       "      <th>5</th>\n",
       "      <td>3024.354618</td>\n",
       "    </tr>\n",
       "    <tr>\n",
       "      <th>6</th>\n",
       "      <td>3126.186134</td>\n",
       "    </tr>\n",
       "    <tr>\n",
       "      <th>7</th>\n",
       "      <td>3149.852313</td>\n",
       "    </tr>\n",
       "    <tr>\n",
       "      <th>8</th>\n",
       "      <td>3262.135892</td>\n",
       "    </tr>\n",
       "    <tr>\n",
       "      <th>9</th>\n",
       "      <td>3253.554391</td>\n",
       "    </tr>\n",
       "    <tr>\n",
       "      <th>10</th>\n",
       "      <td>3298.367425</td>\n",
       "    </tr>\n",
       "    <tr>\n",
       "      <th>11</th>\n",
       "      <td>3325.321548</td>\n",
       "    </tr>\n",
       "    <tr>\n",
       "      <th>12</th>\n",
       "      <td>3383.226903</td>\n",
       "    </tr>\n",
       "    <tr>\n",
       "      <th>13</th>\n",
       "      <td>3473.430661</td>\n",
       "    </tr>\n",
       "    <tr>\n",
       "      <th>14</th>\n",
       "      <td>3515.610911</td>\n",
       "    </tr>\n",
       "    <tr>\n",
       "      <th>15</th>\n",
       "      <td>3609.130354</td>\n",
       "    </tr>\n",
       "    <tr>\n",
       "      <th>16</th>\n",
       "      <td>3709.963628</td>\n",
       "    </tr>\n",
       "    <tr>\n",
       "      <th>17</th>\n",
       "      <td>3770.448225</td>\n",
       "    </tr>\n",
       "    <tr>\n",
       "      <th>18</th>\n",
       "      <td>3797.097105</td>\n",
       "    </tr>\n",
       "    <tr>\n",
       "      <th>19</th>\n",
       "      <td>3835.048315</td>\n",
       "    </tr>\n",
       "    <tr>\n",
       "      <th>20</th>\n",
       "      <td>3865.637382</td>\n",
       "    </tr>\n",
       "    <tr>\n",
       "      <th>21</th>\n",
       "      <td>3919.909058</td>\n",
       "    </tr>\n",
       "    <tr>\n",
       "      <th>22</th>\n",
       "      <td>3971.171037</td>\n",
       "    </tr>\n",
       "    <tr>\n",
       "      <th>23</th>\n",
       "      <td>4011.485725</td>\n",
       "    </tr>\n",
       "    <tr>\n",
       "      <th>24</th>\n",
       "      <td>4041.079266</td>\n",
       "    </tr>\n",
       "    <tr>\n",
       "      <th>25</th>\n",
       "      <td>4105.760351</td>\n",
       "    </tr>\n",
       "    <tr>\n",
       "      <th>26</th>\n",
       "      <td>4158.409639</td>\n",
       "    </tr>\n",
       "    <tr>\n",
       "      <th>27</th>\n",
       "      <td>4222.835403</td>\n",
       "    </tr>\n",
       "    <tr>\n",
       "      <th>28</th>\n",
       "      <td>4276.699059</td>\n",
       "    </tr>\n",
       "    <tr>\n",
       "      <th>29</th>\n",
       "      <td>4293.379962</td>\n",
       "    </tr>\n",
       "    <tr>\n",
       "      <th>30</th>\n",
       "      <td>4334.177897</td>\n",
       "    </tr>\n",
       "    <tr>\n",
       "      <th>31</th>\n",
       "      <td>4343.019723</td>\n",
       "    </tr>\n",
       "    <tr>\n",
       "      <th>32</th>\n",
       "      <td>4365.160153</td>\n",
       "    </tr>\n",
       "    <tr>\n",
       "      <th>33</th>\n",
       "      <td>4388.797564</td>\n",
       "    </tr>\n",
       "    <tr>\n",
       "      <th>34</th>\n",
       "      <td>4430.051968</td>\n",
       "    </tr>\n",
       "    <tr>\n",
       "      <th>35</th>\n",
       "      <td>4429.642973</td>\n",
       "    </tr>\n",
       "    <tr>\n",
       "      <th>36</th>\n",
       "      <td>4461.337748</td>\n",
       "    </tr>\n",
       "    <tr>\n",
       "      <th>37</th>\n",
       "      <td>4459.095131</td>\n",
       "    </tr>\n",
       "    <tr>\n",
       "      <th>38</th>\n",
       "      <td>4480.102038</td>\n",
       "    </tr>\n",
       "    <tr>\n",
       "      <th>39</th>\n",
       "      <td>4461.177590</td>\n",
       "    </tr>\n",
       "    <tr>\n",
       "      <th>40</th>\n",
       "      <td>4449.641408</td>\n",
       "    </tr>\n",
       "    <tr>\n",
       "      <th>41</th>\n",
       "      <td>4454.749232</td>\n",
       "    </tr>\n",
       "    <tr>\n",
       "      <th>42</th>\n",
       "      <td>4462.344222</td>\n",
       "    </tr>\n",
       "    <tr>\n",
       "      <th>43</th>\n",
       "      <td>4432.122651</td>\n",
       "    </tr>\n",
       "    <tr>\n",
       "      <th>44</th>\n",
       "      <td>4448.857497</td>\n",
       "    </tr>\n",
       "    <tr>\n",
       "      <th>45</th>\n",
       "      <td>4419.840168</td>\n",
       "    </tr>\n",
       "    <tr>\n",
       "      <th>46</th>\n",
       "      <td>4417.150030</td>\n",
       "    </tr>\n",
       "    <tr>\n",
       "      <th>47</th>\n",
       "      <td>4388.643122</td>\n",
       "    </tr>\n",
       "    <tr>\n",
       "      <th>48</th>\n",
       "      <td>4380.358031</td>\n",
       "    </tr>\n",
       "    <tr>\n",
       "      <th>49</th>\n",
       "      <td>4377.238632</td>\n",
       "    </tr>\n",
       "    <tr>\n",
       "      <th>50</th>\n",
       "      <td>4351.605115</td>\n",
       "    </tr>\n",
       "    <tr>\n",
       "      <th>51</th>\n",
       "      <td>4328.316142</td>\n",
       "    </tr>\n",
       "    <tr>\n",
       "      <th>52</th>\n",
       "      <td>4324.937846</td>\n",
       "    </tr>\n",
       "    <tr>\n",
       "      <th>53</th>\n",
       "      <td>4301.883872</td>\n",
       "    </tr>\n",
       "    <tr>\n",
       "      <th>54</th>\n",
       "      <td>4289.960375</td>\n",
       "    </tr>\n",
       "    <tr>\n",
       "      <th>55</th>\n",
       "      <td>4264.640412</td>\n",
       "    </tr>\n",
       "    <tr>\n",
       "      <th>56</th>\n",
       "      <td>4241.222576</td>\n",
       "    </tr>\n",
       "    <tr>\n",
       "      <th>57</th>\n",
       "      <td>4215.351594</td>\n",
       "    </tr>\n",
       "    <tr>\n",
       "      <th>58</th>\n",
       "      <td>4189.447403</td>\n",
       "    </tr>\n",
       "    <tr>\n",
       "      <th>59</th>\n",
       "      <td>4176.207594</td>\n",
       "    </tr>\n",
       "    <tr>\n",
       "      <th>60</th>\n",
       "      <td>4148.231862</td>\n",
       "    </tr>\n",
       "  </tbody>\n",
       "</table>\n",
       "</div>"
      ],
      "text/plain": [
       "               ch_score\n",
       "n_clusters             \n",
       "2           1881.320428\n",
       "3           2575.901695\n",
       "4           2775.642591\n",
       "5           3024.354618\n",
       "6           3126.186134\n",
       "7           3149.852313\n",
       "8           3262.135892\n",
       "9           3253.554391\n",
       "10          3298.367425\n",
       "11          3325.321548\n",
       "12          3383.226903\n",
       "13          3473.430661\n",
       "14          3515.610911\n",
       "15          3609.130354\n",
       "16          3709.963628\n",
       "17          3770.448225\n",
       "18          3797.097105\n",
       "19          3835.048315\n",
       "20          3865.637382\n",
       "21          3919.909058\n",
       "22          3971.171037\n",
       "23          4011.485725\n",
       "24          4041.079266\n",
       "25          4105.760351\n",
       "26          4158.409639\n",
       "27          4222.835403\n",
       "28          4276.699059\n",
       "29          4293.379962\n",
       "30          4334.177897\n",
       "31          4343.019723\n",
       "32          4365.160153\n",
       "33          4388.797564\n",
       "34          4430.051968\n",
       "35          4429.642973\n",
       "36          4461.337748\n",
       "37          4459.095131\n",
       "38          4480.102038\n",
       "39          4461.177590\n",
       "40          4449.641408\n",
       "41          4454.749232\n",
       "42          4462.344222\n",
       "43          4432.122651\n",
       "44          4448.857497\n",
       "45          4419.840168\n",
       "46          4417.150030\n",
       "47          4388.643122\n",
       "48          4380.358031\n",
       "49          4377.238632\n",
       "50          4351.605115\n",
       "51          4328.316142\n",
       "52          4324.937846\n",
       "53          4301.883872\n",
       "54          4289.960375\n",
       "55          4264.640412\n",
       "56          4241.222576\n",
       "57          4215.351594\n",
       "58          4189.447403\n",
       "59          4176.207594\n",
       "60          4148.231862"
      ]
     },
     "metadata": {},
     "output_type": "display_data"
    }
   ],
   "source": [
    "with pd.option_context(\"display.max_rows\", None, \"display.max_columns\", None):\n",
    "    _df = ensemble.groupby([\"n_clusters\"]).mean()\n",
    "    display(_df)"
   ]
  },
  {
   "cell_type": "code",
   "execution_count": 42,
   "id": "f01c322d",
   "metadata": {
    "execution": {
     "iopub.execute_input": "2022-11-25T04:41:53.976479Z",
     "iopub.status.busy": "2022-11-25T04:41:53.976067Z",
     "iopub.status.idle": "2022-11-25T04:41:56.014096Z",
     "shell.execute_reply": "2022-11-25T04:41:56.013641Z"
    },
    "papermill": {
     "duration": 2.054564,
     "end_time": "2022-11-25T04:41:56.014917",
     "exception": false,
     "start_time": "2022-11-25T04:41:53.960353",
     "status": "completed"
    },
    "tags": []
   },
   "outputs": [
    {
     "data": {
      "image/png": "[encoded data removed]",
      "text/plain": [
       "<Figure size 1008x432 with 1 Axes>"
      ]
     },
     "metadata": {},
     "output_type": "display_data"
    }
   ],
   "source": [
    "with sns.plotting_context(\"talk\", font_scale=0.75), sns.axes_style(\n",
    "    \"whitegrid\", {\"grid.linestyle\": \"--\"}\n",
    "):\n",
    "    fig = plt.figure(figsize=(14, 6))\n",
    "    ax = sns.pointplot(data=ensemble, x=\"n_clusters\", y=\"ch_score\")\n",
    "    ax.set_ylabel(\"Calinski-Harabasz index\")\n",
    "    ax.set_xlabel(\"Number of clusters ($k$)\")\n",
    "    ax.set_xticklabels(ax.get_xticklabels(), rotation=45)\n",
    "    plt.grid(True)\n",
    "    plt.tight_layout()"
   ]
  },
  {
   "cell_type": "markdown",
   "id": "fa2fb866",
   "metadata": {
    "papermill": {
     "duration": 0.016014,
     "end_time": "2022-11-25T04:41:56.051549",
     "exception": false,
     "start_time": "2022-11-25T04:41:56.035535",
     "status": "completed"
    },
    "tags": []
   },
   "source": [
    "# Stability"
   ]
  },
  {
   "cell_type": "markdown",
   "id": "42e9d423",
   "metadata": {
    "papermill": {
     "duration": 0.015703,
     "end_time": "2022-11-25T04:41:56.083001",
     "exception": false,
     "start_time": "2022-11-25T04:41:56.067298",
     "status": "completed"
    },
    "tags": []
   },
   "source": [
    "## Group ensemble by n_clusters"
   ]
  },
  {
   "cell_type": "code",
   "execution_count": 43,
   "id": "55a76123",
   "metadata": {
    "execution": {
     "iopub.execute_input": "2022-11-25T04:41:56.115403Z",
     "iopub.status.busy": "2022-11-25T04:41:56.115230Z",
     "iopub.status.idle": "2022-11-25T04:41:56.157769Z",
     "shell.execute_reply": "2022-11-25T04:41:56.157209Z"
    },
    "papermill": {
     "duration": 0.05986,
     "end_time": "2022-11-25T04:41:56.158641",
     "exception": false,
     "start_time": "2022-11-25T04:41:56.098781",
     "status": "completed"
    },
    "tags": []
   },
   "outputs": [],
   "source": [
    "parts = ensemble.groupby(\"n_clusters\").apply(\n",
    "    lambda x: np.concatenate(x[\"partition\"].apply(lambda x: x.reshape(1, -1)), axis=0)\n",
    ")"
   ]
  },
  {
   "cell_type": "code",
   "execution_count": 44,
   "id": "ab89be08",
   "metadata": {
    "execution": {
     "iopub.execute_input": "2022-11-25T04:41:56.190892Z",
     "iopub.status.busy": "2022-11-25T04:41:56.190734Z",
     "iopub.status.idle": "2022-11-25T04:41:56.230973Z",
     "shell.execute_reply": "2022-11-25T04:41:56.230473Z"
    },
    "papermill": {
     "duration": 0.057403,
     "end_time": "2022-11-25T04:41:56.231821",
     "exception": false,
     "start_time": "2022-11-25T04:41:56.174418",
     "status": "completed"
    },
    "tags": []
   },
   "outputs": [
    {
     "data": {
      "text/plain": [
       "n_clusters\n",
       "2    [[0.0, 0.0, 0.0, 0.0, 0.0, 0.0, 0.0, 0.0, 0.0,...\n",
       "3    [[2.0, 2.0, 2.0, 2.0, 2.0, 2.0, 2.0, 2.0, 2.0,...\n",
       "4    [[1.0, 1.0, 1.0, 1.0, 1.0, 1.0, 1.0, 1.0, 1.0,...\n",
       "5    [[3.0, 3.0, 3.0, 3.0, 3.0, 3.0, 3.0, 3.0, 3.0,...\n",
       "6    [[1.0, 1.0, 1.0, 1.0, 1.0, 1.0, 1.0, 1.0, 1.0,...\n",
       "dtype: object"
      ]
     },
     "execution_count": 44,
     "metadata": {},
     "output_type": "execute_result"
    }
   ],
   "source": [
    "parts.head()"
   ]
  },
  {
   "cell_type": "code",
   "execution_count": 45,
   "id": "19768613",
   "metadata": {
    "execution": {
     "iopub.execute_input": "2022-11-25T04:41:56.264603Z",
     "iopub.status.busy": "2022-11-25T04:41:56.264450Z",
     "iopub.status.idle": "2022-11-25T04:41:56.286283Z",
     "shell.execute_reply": "2022-11-25T04:41:56.285792Z"
    },
    "papermill": {
     "duration": 0.039014,
     "end_time": "2022-11-25T04:41:56.287092",
     "exception": false,
     "start_time": "2022-11-25T04:41:56.248078",
     "status": "completed"
    },
    "tags": []
   },
   "outputs": [],
   "source": [
    "assert np.all(\n",
    "    [\n",
    "        parts.loc[k].shape == (CLUSTERING_OPTIONS[\"N_REPS_PER_K\"], data.shape[0])\n",
    "        for k in parts.index\n",
    "    ]\n",
    ")"
   ]
  },
  {
   "cell_type": "markdown",
   "id": "dee96e91",
   "metadata": {
    "papermill": {
     "duration": 0.015733,
     "end_time": "2022-11-25T04:41:56.318640",
     "exception": false,
     "start_time": "2022-11-25T04:41:56.302907",
     "status": "completed"
    },
    "tags": []
   },
   "source": [
    "## Compute stability"
   ]
  },
  {
   "cell_type": "code",
   "execution_count": 46,
   "id": "f1b876ea",
   "metadata": {
    "execution": {
     "iopub.execute_input": "2022-11-25T04:41:56.350997Z",
     "iopub.status.busy": "2022-11-25T04:41:56.350625Z",
     "iopub.status.idle": "2022-11-25T04:41:56.370590Z",
     "shell.execute_reply": "2022-11-25T04:41:56.370086Z"
    },
    "papermill": {
     "duration": 0.037027,
     "end_time": "2022-11-25T04:41:56.371435",
     "exception": false,
     "start_time": "2022-11-25T04:41:56.334408",
     "status": "completed"
    },
    "tags": []
   },
   "outputs": [],
   "source": [
    "from sklearn.metrics import adjusted_rand_score as ari\n",
    "from scipy.spatial.distance import pdist"
   ]
  },
  {
   "cell_type": "code",
   "execution_count": 47,
   "id": "9d5f7f69",
   "metadata": {
    "execution": {
     "iopub.execute_input": "2022-11-25T04:41:56.403803Z",
     "iopub.status.busy": "2022-11-25T04:41:56.403444Z",
     "iopub.status.idle": "2022-11-25T04:41:56.848052Z",
     "shell.execute_reply": "2022-11-25T04:41:56.847589Z"
    },
    "papermill": {
     "duration": 0.461769,
     "end_time": "2022-11-25T04:41:56.849017",
     "exception": false,
     "start_time": "2022-11-25T04:41:56.387248",
     "status": "completed"
    },
    "tags": []
   },
   "outputs": [],
   "source": [
    "parts_ari = pd.Series(\n",
    "    {k: pdist(parts.loc[k], metric=ari) for k in parts.index}, name=\"k\"\n",
    ")"
   ]
  },
  {
   "cell_type": "code",
   "execution_count": 48,
   "id": "c69b72e3",
   "metadata": {
    "execution": {
     "iopub.execute_input": "2022-11-25T04:41:56.881981Z",
     "iopub.status.busy": "2022-11-25T04:41:56.881881Z",
     "iopub.status.idle": "2022-11-25T04:41:56.896191Z",
     "shell.execute_reply": "2022-11-25T04:41:56.895793Z"
    },
    "papermill": {
     "duration": 0.031339,
     "end_time": "2022-11-25T04:41:56.896927",
     "exception": false,
     "start_time": "2022-11-25T04:41:56.865588",
     "status": "completed"
    },
    "tags": []
   },
   "outputs": [
    {
     "data": {
      "text/plain": [
       "2     1.000000\n",
       "3     1.000000\n",
       "8     0.998437\n",
       "7     0.997387\n",
       "4     0.994418\n",
       "9     0.992426\n",
       "6     0.988569\n",
       "5     0.985572\n",
       "15    0.953946\n",
       "16    0.952171\n",
       "11    0.950397\n",
       "13    0.941776\n",
       "10    0.917277\n",
       "17    0.894053\n",
       "12    0.863518\n",
       "Name: k, dtype: float64"
      ]
     },
     "metadata": {},
     "output_type": "display_data"
    }
   ],
   "source": [
    "parts_ari_stability = parts_ari.apply(lambda x: x.mean())\n",
    "display(parts_ari_stability.sort_values(ascending=False).head(15))"
   ]
  },
  {
   "cell_type": "code",
   "execution_count": 49,
   "id": "0eed5ee2",
   "metadata": {
    "execution": {
     "iopub.execute_input": "2022-11-25T04:41:56.929232Z",
     "iopub.status.busy": "2022-11-25T04:41:56.929067Z",
     "iopub.status.idle": "2022-11-25T04:41:56.950159Z",
     "shell.execute_reply": "2022-11-25T04:41:56.949654Z"
    },
    "papermill": {
     "duration": 0.038065,
     "end_time": "2022-11-25T04:41:56.950924",
     "exception": false,
     "start_time": "2022-11-25T04:41:56.912859",
     "status": "completed"
    },
    "tags": []
   },
   "outputs": [],
   "source": [
    "parts_ari_df = pd.DataFrame.from_records(parts_ari.tolist()).set_index(\n",
    "    parts_ari.index.copy()\n",
    ")"
   ]
  },
  {
   "cell_type": "code",
   "execution_count": 50,
   "id": "92040d8b",
   "metadata": {
    "execution": {
     "iopub.execute_input": "2022-11-25T04:41:56.983411Z",
     "iopub.status.busy": "2022-11-25T04:41:56.983083Z",
     "iopub.status.idle": "2022-11-25T04:41:57.003996Z",
     "shell.execute_reply": "2022-11-25T04:41:57.003558Z"
    },
    "papermill": {
     "duration": 0.038047,
     "end_time": "2022-11-25T04:41:57.004835",
     "exception": false,
     "start_time": "2022-11-25T04:41:56.966788",
     "status": "completed"
    },
    "tags": []
   },
   "outputs": [
    {
     "data": {
      "text/plain": [
       "(59, 10)"
      ]
     },
     "execution_count": 50,
     "metadata": {},
     "output_type": "execute_result"
    }
   ],
   "source": [
    "parts_ari_df.shape"
   ]
  },
  {
   "cell_type": "code",
   "execution_count": 51,
   "id": "a913ca22",
   "metadata": {
    "execution": {
     "iopub.execute_input": "2022-11-25T04:41:57.037543Z",
     "iopub.status.busy": "2022-11-25T04:41:57.037098Z",
     "iopub.status.idle": "2022-11-25T04:41:57.057110Z",
     "shell.execute_reply": "2022-11-25T04:41:57.056569Z"
    },
    "papermill": {
     "duration": 0.037237,
     "end_time": "2022-11-25T04:41:57.057936",
     "exception": false,
     "start_time": "2022-11-25T04:41:57.020699",
     "status": "completed"
    },
    "tags": []
   },
   "outputs": [],
   "source": [
    "assert (\n",
    "    int(\n",
    "        (CLUSTERING_OPTIONS[\"N_REPS_PER_K\"] * (CLUSTERING_OPTIONS[\"N_REPS_PER_K\"] - 1))\n",
    "        / 2\n",
    "    )\n",
    "    == parts_ari_df.shape[1]\n",
    ")"
   ]
  },
  {
   "cell_type": "code",
   "execution_count": 52,
   "id": "feeac650",
   "metadata": {
    "execution": {
     "iopub.execute_input": "2022-11-25T04:41:57.090696Z",
     "iopub.status.busy": "2022-11-25T04:41:57.090212Z",
     "iopub.status.idle": "2022-11-25T04:41:57.118279Z",
     "shell.execute_reply": "2022-11-25T04:41:57.117777Z"
    },
    "papermill": {
     "duration": 0.04524,
     "end_time": "2022-11-25T04:41:57.119080",
     "exception": false,
     "start_time": "2022-11-25T04:41:57.073840",
     "status": "completed"
    },
    "tags": []
   },
   "outputs": [
    {
     "data": {
      "text/html": [
       "<div>\n",
       "<style scoped>\n",
       "    .dataframe tbody tr th:only-of-type {\n",
       "        vertical-align: middle;\n",
       "    }\n",
       "\n",
       "    .dataframe tbody tr th {\n",
       "        vertical-align: top;\n",
       "    }\n",
       "\n",
       "    .dataframe thead th {\n",
       "        text-align: right;\n",
       "    }\n",
       "</style>\n",
       "<table border=\"1\" class=\"dataframe\">\n",
       "  <thead>\n",
       "    <tr style=\"text-align: right;\">\n",
       "      <th></th>\n",
       "      <th>0</th>\n",
       "      <th>1</th>\n",
       "      <th>2</th>\n",
       "      <th>3</th>\n",
       "      <th>4</th>\n",
       "      <th>5</th>\n",
       "      <th>6</th>\n",
       "      <th>7</th>\n",
       "      <th>8</th>\n",
       "      <th>9</th>\n",
       "    </tr>\n",
       "  </thead>\n",
       "  <tbody>\n",
       "    <tr>\n",
       "      <th>2</th>\n",
       "      <td>1.000000</td>\n",
       "      <td>1.000000</td>\n",
       "      <td>1.000000</td>\n",
       "      <td>1.000000</td>\n",
       "      <td>1.000000</td>\n",
       "      <td>1.000000</td>\n",
       "      <td>1.000000</td>\n",
       "      <td>1.000000</td>\n",
       "      <td>1.000000</td>\n",
       "      <td>1.000000</td>\n",
       "    </tr>\n",
       "    <tr>\n",
       "      <th>3</th>\n",
       "      <td>1.000000</td>\n",
       "      <td>1.000000</td>\n",
       "      <td>1.000000</td>\n",
       "      <td>1.000000</td>\n",
       "      <td>1.000000</td>\n",
       "      <td>1.000000</td>\n",
       "      <td>1.000000</td>\n",
       "      <td>1.000000</td>\n",
       "      <td>1.000000</td>\n",
       "      <td>1.000000</td>\n",
       "    </tr>\n",
       "    <tr>\n",
       "      <th>4</th>\n",
       "      <td>1.000000</td>\n",
       "      <td>1.000000</td>\n",
       "      <td>0.986045</td>\n",
       "      <td>1.000000</td>\n",
       "      <td>1.000000</td>\n",
       "      <td>0.986045</td>\n",
       "      <td>1.000000</td>\n",
       "      <td>0.986045</td>\n",
       "      <td>1.000000</td>\n",
       "      <td>0.986045</td>\n",
       "    </tr>\n",
       "    <tr>\n",
       "      <th>5</th>\n",
       "      <td>0.975076</td>\n",
       "      <td>0.985595</td>\n",
       "      <td>0.975798</td>\n",
       "      <td>0.969342</td>\n",
       "      <td>0.989297</td>\n",
       "      <td>0.999247</td>\n",
       "      <td>0.994262</td>\n",
       "      <td>0.990037</td>\n",
       "      <td>0.983558</td>\n",
       "      <td>0.993509</td>\n",
       "    </tr>\n",
       "    <tr>\n",
       "      <th>6</th>\n",
       "      <td>0.978396</td>\n",
       "      <td>1.000000</td>\n",
       "      <td>1.000000</td>\n",
       "      <td>0.986049</td>\n",
       "      <td>0.978396</td>\n",
       "      <td>0.978396</td>\n",
       "      <td>0.992351</td>\n",
       "      <td>1.000000</td>\n",
       "      <td>0.986049</td>\n",
       "      <td>0.986049</td>\n",
       "    </tr>\n",
       "  </tbody>\n",
       "</table>\n",
       "</div>"
      ],
      "text/plain": [
       "          0         1         2         3         4         5         6  \\\n",
       "2  1.000000  1.000000  1.000000  1.000000  1.000000  1.000000  1.000000   \n",
       "3  1.000000  1.000000  1.000000  1.000000  1.000000  1.000000  1.000000   \n",
       "4  1.000000  1.000000  0.986045  1.000000  1.000000  0.986045  1.000000   \n",
       "5  0.975076  0.985595  0.975798  0.969342  0.989297  0.999247  0.994262   \n",
       "6  0.978396  1.000000  1.000000  0.986049  0.978396  0.978396  0.992351   \n",
       "\n",
       "          7         8         9  \n",
       "2  1.000000  1.000000  1.000000  \n",
       "3  1.000000  1.000000  1.000000  \n",
       "4  0.986045  1.000000  0.986045  \n",
       "5  0.990037  0.983558  0.993509  \n",
       "6  1.000000  0.986049  0.986049  "
      ]
     },
     "execution_count": 52,
     "metadata": {},
     "output_type": "execute_result"
    }
   ],
   "source": [
    "parts_ari_df.head()"
   ]
  },
  {
   "cell_type": "markdown",
   "id": "28530a7c",
   "metadata": {
    "papermill": {
     "duration": 0.015912,
     "end_time": "2022-11-25T04:41:57.151062",
     "exception": false,
     "start_time": "2022-11-25T04:41:57.135150",
     "status": "completed"
    },
    "tags": []
   },
   "source": [
    "## Save"
   ]
  },
  {
   "cell_type": "code",
   "execution_count": 53,
   "id": "b76bfb10",
   "metadata": {
    "execution": {
     "iopub.execute_input": "2022-11-25T04:41:57.184020Z",
     "iopub.status.busy": "2022-11-25T04:41:57.183565Z",
     "iopub.status.idle": "2022-11-25T04:41:57.204965Z",
     "shell.execute_reply": "2022-11-25T04:41:57.204470Z"
    },
    "papermill": {
     "duration": 0.038714,
     "end_time": "2022-11-25T04:41:57.205765",
     "exception": false,
     "start_time": "2022-11-25T04:41:57.167051",
     "status": "completed"
    },
    "tags": []
   },
   "outputs": [
    {
     "data": {
      "text/plain": [
       "PosixPath('/opt/data/results/clustering/null_sims/shuffle_genes/runs/umap-z_score_std-projection-smultixcan-efo_partial-mashr-zscores/KMeans-stability-KMEANS_N_INIT_10-K_MAX_60-K_MIN_2-N_REPS_PER_K_5.pkl')"
      ]
     },
     "metadata": {},
     "output_type": "display_data"
    }
   ],
   "source": [
    "output_filename = Path(\n",
    "    RESULTS_DIR,\n",
    "    generate_result_set_name(\n",
    "        CLUSTERING_OPTIONS,\n",
    "        prefix=f\"{clustering_method_name}-stability-\",\n",
    "        suffix=\".pkl\",\n",
    "    ),\n",
    ").resolve()\n",
    "display(output_filename)"
   ]
  },
  {
   "cell_type": "code",
   "execution_count": 54,
   "id": "9afe9f4c",
   "metadata": {
    "execution": {
     "iopub.execute_input": "2022-11-25T04:41:57.238742Z",
     "iopub.status.busy": "2022-11-25T04:41:57.238297Z",
     "iopub.status.idle": "2022-11-25T04:41:57.258174Z",
     "shell.execute_reply": "2022-11-25T04:41:57.257638Z"
    },
    "papermill": {
     "duration": 0.037187,
     "end_time": "2022-11-25T04:41:57.259016",
     "exception": false,
     "start_time": "2022-11-25T04:41:57.221829",
     "status": "completed"
    },
    "tags": []
   },
   "outputs": [],
   "source": [
    "parts_ari_df.to_pickle(output_filename)"
   ]
  },
  {
   "cell_type": "markdown",
   "id": "593d018f",
   "metadata": {
    "papermill": {
     "duration": 0.015985,
     "end_time": "2022-11-25T04:41:57.291032",
     "exception": false,
     "start_time": "2022-11-25T04:41:57.275047",
     "status": "completed"
    },
    "tags": []
   },
   "source": [
    "## Stability plot"
   ]
  },
  {
   "cell_type": "code",
   "execution_count": 55,
   "id": "d25d02ef",
   "metadata": {
    "execution": {
     "iopub.execute_input": "2022-11-25T04:41:57.323831Z",
     "iopub.status.busy": "2022-11-25T04:41:57.323508Z",
     "iopub.status.idle": "2022-11-25T04:41:57.345754Z",
     "shell.execute_reply": "2022-11-25T04:41:57.345211Z"
    },
    "papermill": {
     "duration": 0.039576,
     "end_time": "2022-11-25T04:41:57.346605",
     "exception": false,
     "start_time": "2022-11-25T04:41:57.307029",
     "status": "completed"
    },
    "tags": []
   },
   "outputs": [],
   "source": [
    "parts_ari_df_plot = (\n",
    "    parts_ari_df.stack()\n",
    "    .reset_index()\n",
    "    .rename(columns={\"level_0\": \"k\", \"level_1\": \"idx\", 0: \"ari\"})\n",
    ")"
   ]
  },
  {
   "cell_type": "code",
   "execution_count": 56,
   "id": "57e2e785",
   "metadata": {
    "execution": {
     "iopub.execute_input": "2022-11-25T04:41:57.379414Z",
     "iopub.status.busy": "2022-11-25T04:41:57.379263Z",
     "iopub.status.idle": "2022-11-25T04:41:57.400992Z",
     "shell.execute_reply": "2022-11-25T04:41:57.400536Z"
    },
    "papermill": {
     "duration": 0.039056,
     "end_time": "2022-11-25T04:41:57.401777",
     "exception": false,
     "start_time": "2022-11-25T04:41:57.362721",
     "status": "completed"
    },
    "tags": []
   },
   "outputs": [
    {
     "data": {
      "text/plain": [
       "k        int64\n",
       "idx      int64\n",
       "ari    float64\n",
       "dtype: object"
      ]
     },
     "execution_count": 56,
     "metadata": {},
     "output_type": "execute_result"
    }
   ],
   "source": [
    "parts_ari_df_plot.dtypes"
   ]
  },
  {
   "cell_type": "code",
   "execution_count": 57,
   "id": "aef12776",
   "metadata": {
    "execution": {
     "iopub.execute_input": "2022-11-25T04:41:57.434968Z",
     "iopub.status.busy": "2022-11-25T04:41:57.434546Z",
     "iopub.status.idle": "2022-11-25T04:41:57.458499Z",
     "shell.execute_reply": "2022-11-25T04:41:57.458032Z"
    },
    "papermill": {
     "duration": 0.041393,
     "end_time": "2022-11-25T04:41:57.459329",
     "exception": false,
     "start_time": "2022-11-25T04:41:57.417936",
     "status": "completed"
    },
    "tags": []
   },
   "outputs": [
    {
     "data": {
      "text/html": [
       "<div>\n",
       "<style scoped>\n",
       "    .dataframe tbody tr th:only-of-type {\n",
       "        vertical-align: middle;\n",
       "    }\n",
       "\n",
       "    .dataframe tbody tr th {\n",
       "        vertical-align: top;\n",
       "    }\n",
       "\n",
       "    .dataframe thead th {\n",
       "        text-align: right;\n",
       "    }\n",
       "</style>\n",
       "<table border=\"1\" class=\"dataframe\">\n",
       "  <thead>\n",
       "    <tr style=\"text-align: right;\">\n",
       "      <th></th>\n",
       "      <th>k</th>\n",
       "      <th>idx</th>\n",
       "      <th>ari</th>\n",
       "    </tr>\n",
       "  </thead>\n",
       "  <tbody>\n",
       "    <tr>\n",
       "      <th>0</th>\n",
       "      <td>2</td>\n",
       "      <td>0</td>\n",
       "      <td>1.0</td>\n",
       "    </tr>\n",
       "    <tr>\n",
       "      <th>1</th>\n",
       "      <td>2</td>\n",
       "      <td>1</td>\n",
       "      <td>1.0</td>\n",
       "    </tr>\n",
       "    <tr>\n",
       "      <th>2</th>\n",
       "      <td>2</td>\n",
       "      <td>2</td>\n",
       "      <td>1.0</td>\n",
       "    </tr>\n",
       "    <tr>\n",
       "      <th>3</th>\n",
       "      <td>2</td>\n",
       "      <td>3</td>\n",
       "      <td>1.0</td>\n",
       "    </tr>\n",
       "    <tr>\n",
       "      <th>4</th>\n",
       "      <td>2</td>\n",
       "      <td>4</td>\n",
       "      <td>1.0</td>\n",
       "    </tr>\n",
       "  </tbody>\n",
       "</table>\n",
       "</div>"
      ],
      "text/plain": [
       "   k  idx  ari\n",
       "0  2    0  1.0\n",
       "1  2    1  1.0\n",
       "2  2    2  1.0\n",
       "3  2    3  1.0\n",
       "4  2    4  1.0"
      ]
     },
     "execution_count": 57,
     "metadata": {},
     "output_type": "execute_result"
    }
   ],
   "source": [
    "parts_ari_df_plot.head()"
   ]
  },
  {
   "cell_type": "code",
   "execution_count": 58,
   "id": "db7ada4b",
   "metadata": {
    "execution": {
     "iopub.execute_input": "2022-11-25T04:41:57.492760Z",
     "iopub.status.busy": "2022-11-25T04:41:57.492608Z",
     "iopub.status.idle": "2022-11-25T04:41:59.393138Z",
     "shell.execute_reply": "2022-11-25T04:41:59.392767Z"
    },
    "papermill": {
     "duration": 1.918138,
     "end_time": "2022-11-25T04:41:59.393927",
     "exception": false,
     "start_time": "2022-11-25T04:41:57.475789",
     "status": "completed"
    },
    "tags": []
   },
   "outputs": [
    {
     "data": {
      "image/png": "[encoded data removed]",
      "text/plain": [
       "<Figure size 1008x432 with 1 Axes>"
      ]
     },
     "metadata": {},
     "output_type": "display_data"
    }
   ],
   "source": [
    "# with sns.axes_style('whitegrid', {'grid.linestyle': '--'}):\n",
    "with sns.plotting_context(\"talk\", font_scale=0.75), sns.axes_style(\n",
    "    \"whitegrid\", {\"grid.linestyle\": \"--\"}\n",
    "):\n",
    "    fig = plt.figure(figsize=(14, 6))\n",
    "    ax = sns.pointplot(data=parts_ari_df_plot, x=\"k\", y=\"ari\")\n",
    "    ax.set_ylabel(\"Averange ARI\")\n",
    "    ax.set_xlabel(\"Number of clusters ($k$)\")\n",
    "    ax.set_xticklabels(ax.get_xticklabels(), rotation=45)\n",
    "    #     ax.set_ylim(0.0, 1.0)\n",
    "    #     ax.set_xlim(CLUSTERING_OPTIONS['K_MIN'], CLUSTERING_OPTIONS['K_MAX'])\n",
    "    plt.grid(True)\n",
    "    plt.tight_layout()"
   ]
  },
  {
   "cell_type": "code",
   "execution_count": null,
   "id": "2ef7b813",
   "metadata": {
    "papermill": {
     "duration": 0.016923,
     "end_time": "2022-11-25T04:41:59.428676",
     "exception": false,
     "start_time": "2022-11-25T04:41:59.411753",
     "status": "completed"
    },
    "tags": []
   },
   "outputs": [],
   "source": []
  }
 ],
 "metadata": {
  "jupytext": {
   "cell_metadata_filter": "all,-execution,-papermill,-trusted",
   "formats": "ipynb,py//py:percent"
  },
  "kernelspec": {
   "display_name": "Python 3 (ipykernel)",
   "language": "python",
   "name": "python3"
  },
  "language_info": {
   "codemirror_mode": {
    "name": "ipython",
    "version": 3
   },
   "file_extension": ".py",
   "mimetype": "text/x-python",
   "name": "python",
   "nbconvert_exporter": "python",
   "pygments_lexer": "ipython3",
   "version": "3.8.13"
  },
  "papermill": {
   "default_parameters": {},
   "duration": 131.488405,
   "end_time": "2022-11-25T04:41:59.760986",
   "environment_variables": {},
   "exception": null,
   "input_path": "nbs/13.1_cluster_analysis_null/00-shuffle_genes/10_02-kmeans-umap.ipynb",
   "output_path": "nbs/13.1_cluster_analysis_null/00-shuffle_genes/10_02-kmeans-umap.run.ipynb",
   "parameters": {},
   "start_time": "2022-11-25T04:39:48.272581",
   "version": "2.2.2"
  },
  "toc-autonumbering": true,
  "toc-showcode": false,
  "toc-showmarkdowntxt": false,
  "toc-showtags": false
 },
 "nbformat": 4,
 "nbformat_minor": 5
}
