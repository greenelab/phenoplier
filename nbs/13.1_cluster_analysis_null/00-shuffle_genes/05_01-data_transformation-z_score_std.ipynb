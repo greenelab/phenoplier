{
 "cells": [
  {
   "cell_type": "markdown",
   "id": "6a37bdb1",
   "metadata": {
    "papermill": {
     "duration": 0.0054,
     "end_time": "2022-11-25T04:26:51.705427",
     "exception": false,
     "start_time": "2022-11-25T04:26:51.700027",
     "status": "completed"
    },
    "tags": []
   },
   "source": [
    "# Description"
   ]
  },
  {
   "cell_type": "markdown",
   "id": "56e3f5fe",
   "metadata": {
    "papermill": {
     "duration": 0.004614,
     "end_time": "2022-11-25T04:26:51.719533",
     "exception": false,
     "start_time": "2022-11-25T04:26:51.714919",
     "status": "completed"
    },
    "tags": []
   },
   "source": [
    "It standardize (z-score) S-MultiXcan results projected into the MultiPLIER latent space."
   ]
  },
  {
   "cell_type": "markdown",
   "id": "126ee613",
   "metadata": {
    "papermill": {
     "duration": 0.004546,
     "end_time": "2022-11-25T04:26:51.728793",
     "exception": false,
     "start_time": "2022-11-25T04:26:51.724247",
     "status": "completed"
    },
    "tags": []
   },
   "source": [
    "# Modules loading"
   ]
  },
  {
   "cell_type": "code",
   "execution_count": 1,
   "id": "652e2dd2",
   "metadata": {
    "execution": {
     "iopub.execute_input": "2022-11-25T04:26:51.740547Z",
     "iopub.status.busy": "2022-11-25T04:26:51.740006Z",
     "iopub.status.idle": "2022-11-25T04:26:51.757797Z",
     "shell.execute_reply": "2022-11-25T04:26:51.757283Z"
    },
    "papermill": {
     "duration": 0.025642,
     "end_time": "2022-11-25T04:26:51.759199",
     "exception": false,
     "start_time": "2022-11-25T04:26:51.733557",
     "status": "completed"
    },
    "tags": []
   },
   "outputs": [],
   "source": [
    "%load_ext autoreload\n",
    "%autoreload 2"
   ]
  },
  {
   "cell_type": "code",
   "execution_count": 2,
   "id": "c3c27a69",
   "metadata": {
    "execution": {
     "iopub.execute_input": "2022-11-25T04:26:51.769622Z",
     "iopub.status.busy": "2022-11-25T04:26:51.769318Z",
     "iopub.status.idle": "2022-11-25T04:26:52.082904Z",
     "shell.execute_reply": "2022-11-25T04:26:52.082487Z"
    },
    "papermill": {
     "duration": 0.3197,
     "end_time": "2022-11-25T04:26:52.083797",
     "exception": false,
     "start_time": "2022-11-25T04:26:51.764097",
     "status": "completed"
    },
    "tags": []
   },
   "outputs": [],
   "source": [
    "from pathlib import Path\n",
    "from IPython.display import display\n",
    "\n",
    "import numpy as np\n",
    "import pandas as pd\n",
    "from sklearn.preprocessing import scale\n",
    "\n",
    "import conf"
   ]
  },
  {
   "cell_type": "markdown",
   "id": "7f5ea10a",
   "metadata": {
    "papermill": {
     "duration": 0.00932,
     "end_time": "2022-11-25T04:26:52.097377",
     "exception": false,
     "start_time": "2022-11-25T04:26:52.088057",
     "status": "completed"
    },
    "tags": []
   },
   "source": [
    "# Settings"
   ]
  },
  {
   "cell_type": "code",
   "execution_count": 3,
   "id": "690ffd30",
   "metadata": {
    "execution": {
     "iopub.execute_input": "2022-11-25T04:26:52.105386Z",
     "iopub.status.busy": "2022-11-25T04:26:52.105184Z",
     "iopub.status.idle": "2022-11-25T04:26:52.115704Z",
     "shell.execute_reply": "2022-11-25T04:26:52.115337Z"
    },
    "papermill": {
     "duration": 0.015656,
     "end_time": "2022-11-25T04:26:52.116684",
     "exception": false,
     "start_time": "2022-11-25T04:26:52.101028",
     "status": "completed"
    },
    "tags": []
   },
   "outputs": [],
   "source": [
    "np.random.seed(0)"
   ]
  },
  {
   "cell_type": "code",
   "execution_count": 4,
   "id": "a725aebd-cefd-415a-b472-b0d298dc23c9",
   "metadata": {
    "execution": {
     "iopub.execute_input": "2022-11-25T04:26:52.125386Z",
     "iopub.status.busy": "2022-11-25T04:26:52.125069Z",
     "iopub.status.idle": "2022-11-25T04:26:52.134043Z",
     "shell.execute_reply": "2022-11-25T04:26:52.133693Z"
    },
    "papermill": {
     "duration": 0.014494,
     "end_time": "2022-11-25T04:26:52.134980",
     "exception": false,
     "start_time": "2022-11-25T04:26:52.120486",
     "status": "completed"
    },
    "tags": []
   },
   "outputs": [],
   "source": [
    "NULL_DIR = conf.RESULTS[\"CLUSTERING_NULL_DIR\"] / \"shuffle_genes\""
   ]
  },
  {
   "cell_type": "markdown",
   "id": "ac65b58a",
   "metadata": {
    "papermill": {
     "duration": 0.003761,
     "end_time": "2022-11-25T04:26:52.142535",
     "exception": false,
     "start_time": "2022-11-25T04:26:52.138774",
     "status": "completed"
    },
    "tags": []
   },
   "source": [
    "## Input data"
   ]
  },
  {
   "cell_type": "code",
   "execution_count": 5,
   "id": "fb520da1",
   "metadata": {
    "execution": {
     "iopub.execute_input": "2022-11-25T04:26:52.150429Z",
     "iopub.status.busy": "2022-11-25T04:26:52.150345Z",
     "iopub.status.idle": "2022-11-25T04:26:52.169287Z",
     "shell.execute_reply": "2022-11-25T04:26:52.168872Z"
    },
    "papermill": {
     "duration": 0.024033,
     "end_time": "2022-11-25T04:26:52.170327",
     "exception": false,
     "start_time": "2022-11-25T04:26:52.146294",
     "status": "completed"
    },
    "tags": []
   },
   "outputs": [
    {
     "data": {
      "text/plain": [
       "PosixPath('/opt/data/results/clustering/null_sims/shuffle_genes/projections/projection-smultixcan-efo_partial-mashr-zscores.pkl')"
      ]
     },
     "metadata": {},
     "output_type": "display_data"
    },
    {
     "data": {
      "text/plain": [
       "'projection-smultixcan-efo_partial-mashr-zscores'"
      ]
     },
     "metadata": {},
     "output_type": "display_data"
    }
   ],
   "source": [
    "INPUT_FILEPATH = Path(\n",
    "    NULL_DIR,\n",
    "    \"projections\",\n",
    "    \"projection-smultixcan-efo_partial-mashr-zscores.pkl\",\n",
    ").resolve()\n",
    "display(INPUT_FILEPATH)\n",
    "\n",
    "input_filepath_stem = INPUT_FILEPATH.stem\n",
    "display(input_filepath_stem)"
   ]
  },
  {
   "cell_type": "markdown",
   "id": "c761e63a",
   "metadata": {
    "papermill": {
     "duration": 0.003772,
     "end_time": "2022-11-25T04:26:52.178142",
     "exception": false,
     "start_time": "2022-11-25T04:26:52.174370",
     "status": "completed"
    },
    "tags": []
   },
   "source": [
    "## Output folder"
   ]
  },
  {
   "cell_type": "code",
   "execution_count": 6,
   "id": "f497395d",
   "metadata": {
    "execution": {
     "iopub.execute_input": "2022-11-25T04:26:52.187113Z",
     "iopub.status.busy": "2022-11-25T04:26:52.186753Z",
     "iopub.status.idle": "2022-11-25T04:26:52.202037Z",
     "shell.execute_reply": "2022-11-25T04:26:52.201622Z"
    },
    "papermill": {
     "duration": 0.021044,
     "end_time": "2022-11-25T04:26:52.203077",
     "exception": false,
     "start_time": "2022-11-25T04:26:52.182033",
     "status": "completed"
    },
    "tags": []
   },
   "outputs": [
    {
     "data": {
      "text/plain": [
       "PosixPath('/opt/data/results/clustering/null_sims/shuffle_genes/data_transformations/z_score_std')"
      ]
     },
     "metadata": {},
     "output_type": "display_data"
    }
   ],
   "source": [
    "# output dir for this notebook\n",
    "RESULTS_DIR = Path(NULL_DIR, \"data_transformations\", \"z_score_std\").resolve()\n",
    "RESULTS_DIR.mkdir(parents=True, exist_ok=True)\n",
    "\n",
    "display(RESULTS_DIR)"
   ]
  },
  {
   "cell_type": "markdown",
   "id": "cebf3259",
   "metadata": {
    "papermill": {
     "duration": 0.003855,
     "end_time": "2022-11-25T04:26:52.211035",
     "exception": false,
     "start_time": "2022-11-25T04:26:52.207180",
     "status": "completed"
    },
    "tags": []
   },
   "source": [
    "# Load input file"
   ]
  },
  {
   "cell_type": "code",
   "execution_count": 7,
   "id": "825a4888",
   "metadata": {
    "execution": {
     "iopub.execute_input": "2022-11-25T04:26:52.219731Z",
     "iopub.status.busy": "2022-11-25T04:26:52.219406Z",
     "iopub.status.idle": "2022-11-25T04:26:52.253662Z",
     "shell.execute_reply": "2022-11-25T04:26:52.253131Z"
    },
    "papermill": {
     "duration": 0.039821,
     "end_time": "2022-11-25T04:26:52.254817",
     "exception": false,
     "start_time": "2022-11-25T04:26:52.214996",
     "status": "completed"
    },
    "tags": []
   },
   "outputs": [],
   "source": [
    "data = pd.read_pickle(INPUT_FILEPATH).T"
   ]
  },
  {
   "cell_type": "code",
   "execution_count": 8,
   "id": "d8d12fe6",
   "metadata": {
    "execution": {
     "iopub.execute_input": "2022-11-25T04:26:52.266025Z",
     "iopub.status.busy": "2022-11-25T04:26:52.265644Z",
     "iopub.status.idle": "2022-11-25T04:26:52.283197Z",
     "shell.execute_reply": "2022-11-25T04:26:52.282754Z"
    },
    "papermill": {
     "duration": 0.024444,
     "end_time": "2022-11-25T04:26:52.284458",
     "exception": false,
     "start_time": "2022-11-25T04:26:52.260014",
     "status": "completed"
    },
    "tags": []
   },
   "outputs": [
    {
     "data": {
      "text/plain": [
       "(3752, 987)"
      ]
     },
     "metadata": {},
     "output_type": "display_data"
    }
   ],
   "source": [
    "display(data.shape)"
   ]
  },
  {
   "cell_type": "code",
   "execution_count": 9,
   "id": "9a6ff5bf",
   "metadata": {
    "execution": {
     "iopub.execute_input": "2022-11-25T04:26:52.295681Z",
     "iopub.status.busy": "2022-11-25T04:26:52.295273Z",
     "iopub.status.idle": "2022-11-25T04:26:52.328104Z",
     "shell.execute_reply": "2022-11-25T04:26:52.327644Z"
    },
    "papermill": {
     "duration": 0.039824,
     "end_time": "2022-11-25T04:26:52.329466",
     "exception": false,
     "start_time": "2022-11-25T04:26:52.289642",
     "status": "completed"
    },
    "tags": []
   },
   "outputs": [
    {
     "data": {
      "text/html": [
       "<div>\n",
       "<style scoped>\n",
       "    .dataframe tbody tr th:only-of-type {\n",
       "        vertical-align: middle;\n",
       "    }\n",
       "\n",
       "    .dataframe tbody tr th {\n",
       "        vertical-align: top;\n",
       "    }\n",
       "\n",
       "    .dataframe thead th {\n",
       "        text-align: right;\n",
       "    }\n",
       "</style>\n",
       "<table border=\"1\" class=\"dataframe\">\n",
       "  <thead>\n",
       "    <tr style=\"text-align: right;\">\n",
       "      <th></th>\n",
       "      <th>LV1</th>\n",
       "      <th>LV2</th>\n",
       "      <th>LV3</th>\n",
       "      <th>LV4</th>\n",
       "      <th>LV5</th>\n",
       "      <th>LV6</th>\n",
       "      <th>LV7</th>\n",
       "      <th>LV8</th>\n",
       "      <th>LV9</th>\n",
       "      <th>LV10</th>\n",
       "      <th>...</th>\n",
       "      <th>LV978</th>\n",
       "      <th>LV979</th>\n",
       "      <th>LV980</th>\n",
       "      <th>LV981</th>\n",
       "      <th>LV982</th>\n",
       "      <th>LV983</th>\n",
       "      <th>LV984</th>\n",
       "      <th>LV985</th>\n",
       "      <th>LV986</th>\n",
       "      <th>LV987</th>\n",
       "    </tr>\n",
       "  </thead>\n",
       "  <tbody>\n",
       "    <tr>\n",
       "      <th>100001_raw-Food_weight</th>\n",
       "      <td>-0.004991</td>\n",
       "      <td>-0.020160</td>\n",
       "      <td>-0.026030</td>\n",
       "      <td>0.020068</td>\n",
       "      <td>0.011753</td>\n",
       "      <td>0.017012</td>\n",
       "      <td>0.049228</td>\n",
       "      <td>-0.027804</td>\n",
       "      <td>0.020122</td>\n",
       "      <td>-0.043951</td>\n",
       "      <td>...</td>\n",
       "      <td>-0.027612</td>\n",
       "      <td>0.011046</td>\n",
       "      <td>-0.014123</td>\n",
       "      <td>-0.026495</td>\n",
       "      <td>-0.034632</td>\n",
       "      <td>-0.007654</td>\n",
       "      <td>0.039811</td>\n",
       "      <td>0.001866</td>\n",
       "      <td>-0.026045</td>\n",
       "      <td>0.024954</td>\n",
       "    </tr>\n",
       "    <tr>\n",
       "      <th>100002_raw-Energy</th>\n",
       "      <td>0.015146</td>\n",
       "      <td>0.025381</td>\n",
       "      <td>0.030990</td>\n",
       "      <td>-0.004168</td>\n",
       "      <td>0.006254</td>\n",
       "      <td>0.014020</td>\n",
       "      <td>0.006114</td>\n",
       "      <td>-0.039952</td>\n",
       "      <td>-0.004144</td>\n",
       "      <td>0.029471</td>\n",
       "      <td>...</td>\n",
       "      <td>-0.017800</td>\n",
       "      <td>0.018595</td>\n",
       "      <td>-0.003060</td>\n",
       "      <td>-0.044417</td>\n",
       "      <td>0.021673</td>\n",
       "      <td>0.009405</td>\n",
       "      <td>-0.019020</td>\n",
       "      <td>0.042079</td>\n",
       "      <td>0.016351</td>\n",
       "      <td>0.032201</td>\n",
       "    </tr>\n",
       "    <tr>\n",
       "      <th>100003_raw-Protein</th>\n",
       "      <td>0.011558</td>\n",
       "      <td>0.026267</td>\n",
       "      <td>-0.008830</td>\n",
       "      <td>0.023151</td>\n",
       "      <td>-0.014700</td>\n",
       "      <td>0.015522</td>\n",
       "      <td>0.010072</td>\n",
       "      <td>0.005893</td>\n",
       "      <td>0.030038</td>\n",
       "      <td>-0.053161</td>\n",
       "      <td>...</td>\n",
       "      <td>-0.014480</td>\n",
       "      <td>0.008231</td>\n",
       "      <td>-0.004317</td>\n",
       "      <td>-0.038221</td>\n",
       "      <td>0.008717</td>\n",
       "      <td>0.017687</td>\n",
       "      <td>0.014660</td>\n",
       "      <td>-0.003575</td>\n",
       "      <td>-0.024418</td>\n",
       "      <td>-0.032628</td>\n",
       "    </tr>\n",
       "    <tr>\n",
       "      <th>100004_raw-Fat</th>\n",
       "      <td>-0.004454</td>\n",
       "      <td>0.025022</td>\n",
       "      <td>0.010287</td>\n",
       "      <td>-0.045471</td>\n",
       "      <td>0.035624</td>\n",
       "      <td>0.054628</td>\n",
       "      <td>-0.015242</td>\n",
       "      <td>-0.031907</td>\n",
       "      <td>0.007947</td>\n",
       "      <td>0.024257</td>\n",
       "      <td>...</td>\n",
       "      <td>-0.012052</td>\n",
       "      <td>-0.036220</td>\n",
       "      <td>-0.009773</td>\n",
       "      <td>0.024453</td>\n",
       "      <td>-0.020112</td>\n",
       "      <td>0.032634</td>\n",
       "      <td>-0.000500</td>\n",
       "      <td>0.010128</td>\n",
       "      <td>-0.000518</td>\n",
       "      <td>0.051511</td>\n",
       "    </tr>\n",
       "    <tr>\n",
       "      <th>100005_raw-Carbohydrate</th>\n",
       "      <td>-0.004064</td>\n",
       "      <td>-0.014816</td>\n",
       "      <td>0.027811</td>\n",
       "      <td>0.015872</td>\n",
       "      <td>-0.012119</td>\n",
       "      <td>-0.035210</td>\n",
       "      <td>-0.035111</td>\n",
       "      <td>0.026068</td>\n",
       "      <td>0.031480</td>\n",
       "      <td>0.001849</td>\n",
       "      <td>...</td>\n",
       "      <td>0.044601</td>\n",
       "      <td>-0.002078</td>\n",
       "      <td>-0.002292</td>\n",
       "      <td>-0.038174</td>\n",
       "      <td>-0.012224</td>\n",
       "      <td>0.012797</td>\n",
       "      <td>0.048189</td>\n",
       "      <td>-0.026752</td>\n",
       "      <td>0.000800</td>\n",
       "      <td>0.019285</td>\n",
       "    </tr>\n",
       "  </tbody>\n",
       "</table>\n",
       "<p>5 rows × 987 columns</p>\n",
       "</div>"
      ],
      "text/plain": [
       "                              LV1       LV2       LV3       LV4       LV5  \\\n",
       "100001_raw-Food_weight  -0.004991 -0.020160 -0.026030  0.020068  0.011753   \n",
       "100002_raw-Energy        0.015146  0.025381  0.030990 -0.004168  0.006254   \n",
       "100003_raw-Protein       0.011558  0.026267 -0.008830  0.023151 -0.014700   \n",
       "100004_raw-Fat          -0.004454  0.025022  0.010287 -0.045471  0.035624   \n",
       "100005_raw-Carbohydrate -0.004064 -0.014816  0.027811  0.015872 -0.012119   \n",
       "\n",
       "                              LV6       LV7       LV8       LV9      LV10  \\\n",
       "100001_raw-Food_weight   0.017012  0.049228 -0.027804  0.020122 -0.043951   \n",
       "100002_raw-Energy        0.014020  0.006114 -0.039952 -0.004144  0.029471   \n",
       "100003_raw-Protein       0.015522  0.010072  0.005893  0.030038 -0.053161   \n",
       "100004_raw-Fat           0.054628 -0.015242 -0.031907  0.007947  0.024257   \n",
       "100005_raw-Carbohydrate -0.035210 -0.035111  0.026068  0.031480  0.001849   \n",
       "\n",
       "                         ...     LV978     LV979     LV980     LV981  \\\n",
       "100001_raw-Food_weight   ... -0.027612  0.011046 -0.014123 -0.026495   \n",
       "100002_raw-Energy        ... -0.017800  0.018595 -0.003060 -0.044417   \n",
       "100003_raw-Protein       ... -0.014480  0.008231 -0.004317 -0.038221   \n",
       "100004_raw-Fat           ... -0.012052 -0.036220 -0.009773  0.024453   \n",
       "100005_raw-Carbohydrate  ...  0.044601 -0.002078 -0.002292 -0.038174   \n",
       "\n",
       "                            LV982     LV983     LV984     LV985     LV986  \\\n",
       "100001_raw-Food_weight  -0.034632 -0.007654  0.039811  0.001866 -0.026045   \n",
       "100002_raw-Energy        0.021673  0.009405 -0.019020  0.042079  0.016351   \n",
       "100003_raw-Protein       0.008717  0.017687  0.014660 -0.003575 -0.024418   \n",
       "100004_raw-Fat          -0.020112  0.032634 -0.000500  0.010128 -0.000518   \n",
       "100005_raw-Carbohydrate -0.012224  0.012797  0.048189 -0.026752  0.000800   \n",
       "\n",
       "                            LV987  \n",
       "100001_raw-Food_weight   0.024954  \n",
       "100002_raw-Energy        0.032201  \n",
       "100003_raw-Protein      -0.032628  \n",
       "100004_raw-Fat           0.051511  \n",
       "100005_raw-Carbohydrate  0.019285  \n",
       "\n",
       "[5 rows x 987 columns]"
      ]
     },
     "metadata": {},
     "output_type": "display_data"
    }
   ],
   "source": [
    "display(data.head())"
   ]
  },
  {
   "cell_type": "markdown",
   "id": "e85f6f5c",
   "metadata": {
    "papermill": {
     "duration": 0.005352,
     "end_time": "2022-11-25T04:26:52.341076",
     "exception": false,
     "start_time": "2022-11-25T04:26:52.335724",
     "status": "completed"
    },
    "tags": []
   },
   "source": [
    "# z-score standardization"
   ]
  },
  {
   "cell_type": "code",
   "execution_count": 10,
   "id": "fb150ab7",
   "metadata": {
    "execution": {
     "iopub.execute_input": "2022-11-25T04:26:52.352985Z",
     "iopub.status.busy": "2022-11-25T04:26:52.352582Z",
     "iopub.status.idle": "2022-11-25T04:26:52.404574Z",
     "shell.execute_reply": "2022-11-25T04:26:52.404051Z"
    },
    "papermill": {
     "duration": 0.05925,
     "end_time": "2022-11-25T04:26:52.405812",
     "exception": false,
     "start_time": "2022-11-25T04:26:52.346562",
     "status": "completed"
    },
    "tags": []
   },
   "outputs": [
    {
     "data": {
      "text/html": [
       "<div>\n",
       "<style scoped>\n",
       "    .dataframe tbody tr th:only-of-type {\n",
       "        vertical-align: middle;\n",
       "    }\n",
       "\n",
       "    .dataframe tbody tr th {\n",
       "        vertical-align: top;\n",
       "    }\n",
       "\n",
       "    .dataframe thead th {\n",
       "        text-align: right;\n",
       "    }\n",
       "</style>\n",
       "<table border=\"1\" class=\"dataframe\">\n",
       "  <thead>\n",
       "    <tr style=\"text-align: right;\">\n",
       "      <th></th>\n",
       "      <th>LV1</th>\n",
       "      <th>LV2</th>\n",
       "      <th>LV3</th>\n",
       "      <th>LV4</th>\n",
       "      <th>LV5</th>\n",
       "      <th>LV6</th>\n",
       "      <th>LV7</th>\n",
       "      <th>LV8</th>\n",
       "      <th>LV9</th>\n",
       "      <th>LV10</th>\n",
       "    </tr>\n",
       "  </thead>\n",
       "  <tbody>\n",
       "    <tr>\n",
       "      <th>count</th>\n",
       "      <td>3.752000e+03</td>\n",
       "      <td>3.752000e+03</td>\n",
       "      <td>3.752000e+03</td>\n",
       "      <td>3.752000e+03</td>\n",
       "      <td>3.752000e+03</td>\n",
       "      <td>3.752000e+03</td>\n",
       "      <td>3.752000e+03</td>\n",
       "      <td>3.752000e+03</td>\n",
       "      <td>3.752000e+03</td>\n",
       "      <td>3.752000e+03</td>\n",
       "    </tr>\n",
       "    <tr>\n",
       "      <th>mean</th>\n",
       "      <td>4.260984e-18</td>\n",
       "      <td>2.130492e-18</td>\n",
       "      <td>-1.006066e-18</td>\n",
       "      <td>2.308033e-18</td>\n",
       "      <td>-3.550820e-19</td>\n",
       "      <td>-1.242787e-18</td>\n",
       "      <td>4.231394e-18</td>\n",
       "      <td>3.402869e-18</td>\n",
       "      <td>-4.438525e-19</td>\n",
       "      <td>-2.441189e-18</td>\n",
       "    </tr>\n",
       "    <tr>\n",
       "      <th>std</th>\n",
       "      <td>2.851547e-02</td>\n",
       "      <td>2.839185e-02</td>\n",
       "      <td>2.601169e-02</td>\n",
       "      <td>2.896133e-02</td>\n",
       "      <td>2.871084e-02</td>\n",
       "      <td>2.646271e-02</td>\n",
       "      <td>2.785000e-02</td>\n",
       "      <td>2.597797e-02</td>\n",
       "      <td>2.486356e-02</td>\n",
       "      <td>2.826685e-02</td>\n",
       "    </tr>\n",
       "    <tr>\n",
       "      <th>min</th>\n",
       "      <td>-1.120355e-01</td>\n",
       "      <td>-1.015075e-01</td>\n",
       "      <td>-8.524020e-02</td>\n",
       "      <td>-1.071991e-01</td>\n",
       "      <td>-8.668615e-02</td>\n",
       "      <td>-1.215630e-01</td>\n",
       "      <td>-9.090851e-02</td>\n",
       "      <td>-8.776256e-02</td>\n",
       "      <td>-9.062002e-02</td>\n",
       "      <td>-8.284056e-02</td>\n",
       "    </tr>\n",
       "    <tr>\n",
       "      <th>25%</th>\n",
       "      <td>-1.855408e-02</td>\n",
       "      <td>-1.926075e-02</td>\n",
       "      <td>-1.722247e-02</td>\n",
       "      <td>-1.968283e-02</td>\n",
       "      <td>-2.006003e-02</td>\n",
       "      <td>-1.810400e-02</td>\n",
       "      <td>-1.863630e-02</td>\n",
       "      <td>-1.769060e-02</td>\n",
       "      <td>-1.649458e-02</td>\n",
       "      <td>-1.952048e-02</td>\n",
       "    </tr>\n",
       "    <tr>\n",
       "      <th>50%</th>\n",
       "      <td>-8.137997e-04</td>\n",
       "      <td>-8.927103e-04</td>\n",
       "      <td>-1.458560e-04</td>\n",
       "      <td>-1.200660e-04</td>\n",
       "      <td>-1.103916e-03</td>\n",
       "      <td>1.469371e-04</td>\n",
       "      <td>-1.021344e-03</td>\n",
       "      <td>-9.058482e-04</td>\n",
       "      <td>-7.845392e-05</td>\n",
       "      <td>-2.889262e-04</td>\n",
       "    </tr>\n",
       "    <tr>\n",
       "      <th>75%</th>\n",
       "      <td>1.803097e-02</td>\n",
       "      <td>1.816413e-02</td>\n",
       "      <td>1.684615e-02</td>\n",
       "      <td>1.861076e-02</td>\n",
       "      <td>1.829824e-02</td>\n",
       "      <td>1.733025e-02</td>\n",
       "      <td>1.766101e-02</td>\n",
       "      <td>1.689003e-02</td>\n",
       "      <td>1.608497e-02</td>\n",
       "      <td>1.776515e-02</td>\n",
       "    </tr>\n",
       "    <tr>\n",
       "      <th>max</th>\n",
       "      <td>1.318461e-01</td>\n",
       "      <td>1.379319e-01</td>\n",
       "      <td>2.187188e-01</td>\n",
       "      <td>1.073417e-01</td>\n",
       "      <td>1.785174e-01</td>\n",
       "      <td>1.469357e-01</td>\n",
       "      <td>1.004747e-01</td>\n",
       "      <td>1.862624e-01</td>\n",
       "      <td>1.982892e-01</td>\n",
       "      <td>1.460073e-01</td>\n",
       "    </tr>\n",
       "  </tbody>\n",
       "</table>\n",
       "</div>"
      ],
      "text/plain": [
       "                LV1           LV2           LV3           LV4           LV5  \\\n",
       "count  3.752000e+03  3.752000e+03  3.752000e+03  3.752000e+03  3.752000e+03   \n",
       "mean   4.260984e-18  2.130492e-18 -1.006066e-18  2.308033e-18 -3.550820e-19   \n",
       "std    2.851547e-02  2.839185e-02  2.601169e-02  2.896133e-02  2.871084e-02   \n",
       "min   -1.120355e-01 -1.015075e-01 -8.524020e-02 -1.071991e-01 -8.668615e-02   \n",
       "25%   -1.855408e-02 -1.926075e-02 -1.722247e-02 -1.968283e-02 -2.006003e-02   \n",
       "50%   -8.137997e-04 -8.927103e-04 -1.458560e-04 -1.200660e-04 -1.103916e-03   \n",
       "75%    1.803097e-02  1.816413e-02  1.684615e-02  1.861076e-02  1.829824e-02   \n",
       "max    1.318461e-01  1.379319e-01  2.187188e-01  1.073417e-01  1.785174e-01   \n",
       "\n",
       "                LV6           LV7           LV8           LV9          LV10  \n",
       "count  3.752000e+03  3.752000e+03  3.752000e+03  3.752000e+03  3.752000e+03  \n",
       "mean  -1.242787e-18  4.231394e-18  3.402869e-18 -4.438525e-19 -2.441189e-18  \n",
       "std    2.646271e-02  2.785000e-02  2.597797e-02  2.486356e-02  2.826685e-02  \n",
       "min   -1.215630e-01 -9.090851e-02 -8.776256e-02 -9.062002e-02 -8.284056e-02  \n",
       "25%   -1.810400e-02 -1.863630e-02 -1.769060e-02 -1.649458e-02 -1.952048e-02  \n",
       "50%    1.469371e-04 -1.021344e-03 -9.058482e-04 -7.845392e-05 -2.889262e-04  \n",
       "75%    1.733025e-02  1.766101e-02  1.689003e-02  1.608497e-02  1.776515e-02  \n",
       "max    1.469357e-01  1.004747e-01  1.862624e-01  1.982892e-01  1.460073e-01  "
      ]
     },
     "metadata": {},
     "output_type": "display_data"
    }
   ],
   "source": [
    "data_stats = data.iloc[:, :10].describe()\n",
    "display(data_stats)"
   ]
  },
  {
   "cell_type": "code",
   "execution_count": 11,
   "id": "ed154348",
   "metadata": {
    "execution": {
     "iopub.execute_input": "2022-11-25T04:26:52.419070Z",
     "iopub.status.busy": "2022-11-25T04:26:52.418905Z",
     "iopub.status.idle": "2022-11-25T04:26:52.487421Z",
     "shell.execute_reply": "2022-11-25T04:26:52.486984Z"
    },
    "papermill": {
     "duration": 0.077041,
     "end_time": "2022-11-25T04:26:52.488629",
     "exception": false,
     "start_time": "2022-11-25T04:26:52.411588",
     "status": "completed"
    },
    "tags": []
   },
   "outputs": [],
   "source": [
    "scaled_data = pd.DataFrame(\n",
    "    data=scale(data), index=data.index.copy(), columns=data.columns.copy()\n",
    ")"
   ]
  },
  {
   "cell_type": "code",
   "execution_count": 12,
   "id": "9007e814",
   "metadata": {
    "execution": {
     "iopub.execute_input": "2022-11-25T04:26:52.500500Z",
     "iopub.status.busy": "2022-11-25T04:26:52.500379Z",
     "iopub.status.idle": "2022-11-25T04:26:52.511313Z",
     "shell.execute_reply": "2022-11-25T04:26:52.510975Z"
    },
    "papermill": {
     "duration": 0.018145,
     "end_time": "2022-11-25T04:26:52.512465",
     "exception": false,
     "start_time": "2022-11-25T04:26:52.494320",
     "status": "completed"
    },
    "tags": []
   },
   "outputs": [
    {
     "data": {
      "text/plain": [
       "(3752, 987)"
      ]
     },
     "metadata": {},
     "output_type": "display_data"
    }
   ],
   "source": [
    "display(scaled_data.shape)"
   ]
  },
  {
   "cell_type": "code",
   "execution_count": 13,
   "id": "0c8c415a",
   "metadata": {
    "execution": {
     "iopub.execute_input": "2022-11-25T04:26:52.524758Z",
     "iopub.status.busy": "2022-11-25T04:26:52.524423Z",
     "iopub.status.idle": "2022-11-25T04:26:52.542759Z",
     "shell.execute_reply": "2022-11-25T04:26:52.542419Z"
    },
    "papermill": {
     "duration": 0.02555,
     "end_time": "2022-11-25T04:26:52.543885",
     "exception": false,
     "start_time": "2022-11-25T04:26:52.518335",
     "status": "completed"
    },
    "tags": []
   },
   "outputs": [
    {
     "data": {
      "text/html": [
       "<div>\n",
       "<style scoped>\n",
       "    .dataframe tbody tr th:only-of-type {\n",
       "        vertical-align: middle;\n",
       "    }\n",
       "\n",
       "    .dataframe tbody tr th {\n",
       "        vertical-align: top;\n",
       "    }\n",
       "\n",
       "    .dataframe thead th {\n",
       "        text-align: right;\n",
       "    }\n",
       "</style>\n",
       "<table border=\"1\" class=\"dataframe\">\n",
       "  <thead>\n",
       "    <tr style=\"text-align: right;\">\n",
       "      <th></th>\n",
       "      <th>LV1</th>\n",
       "      <th>LV2</th>\n",
       "      <th>LV3</th>\n",
       "      <th>LV4</th>\n",
       "      <th>LV5</th>\n",
       "      <th>LV6</th>\n",
       "      <th>LV7</th>\n",
       "      <th>LV8</th>\n",
       "      <th>LV9</th>\n",
       "      <th>LV10</th>\n",
       "      <th>...</th>\n",
       "      <th>LV978</th>\n",
       "      <th>LV979</th>\n",
       "      <th>LV980</th>\n",
       "      <th>LV981</th>\n",
       "      <th>LV982</th>\n",
       "      <th>LV983</th>\n",
       "      <th>LV984</th>\n",
       "      <th>LV985</th>\n",
       "      <th>LV986</th>\n",
       "      <th>LV987</th>\n",
       "    </tr>\n",
       "  </thead>\n",
       "  <tbody>\n",
       "    <tr>\n",
       "      <th>100001_raw-Food_weight</th>\n",
       "      <td>-0.175043</td>\n",
       "      <td>-0.710171</td>\n",
       "      <td>-1.000846</td>\n",
       "      <td>0.693026</td>\n",
       "      <td>0.409413</td>\n",
       "      <td>0.642958</td>\n",
       "      <td>1.767862</td>\n",
       "      <td>-1.070425</td>\n",
       "      <td>0.809395</td>\n",
       "      <td>-1.555050</td>\n",
       "      <td>...</td>\n",
       "      <td>-0.932802</td>\n",
       "      <td>0.371349</td>\n",
       "      <td>-0.521787</td>\n",
       "      <td>-0.881136</td>\n",
       "      <td>-1.193309</td>\n",
       "      <td>-0.257883</td>\n",
       "      <td>1.382268</td>\n",
       "      <td>0.066549</td>\n",
       "      <td>-0.866086</td>\n",
       "      <td>0.847997</td>\n",
       "    </tr>\n",
       "    <tr>\n",
       "      <th>100002_raw-Energy</th>\n",
       "      <td>0.531227</td>\n",
       "      <td>0.894062</td>\n",
       "      <td>1.191552</td>\n",
       "      <td>-0.143922</td>\n",
       "      <td>0.217867</td>\n",
       "      <td>0.529878</td>\n",
       "      <td>0.219561</td>\n",
       "      <td>-1.538143</td>\n",
       "      <td>-0.166704</td>\n",
       "      <td>1.042749</td>\n",
       "      <td>...</td>\n",
       "      <td>-0.601329</td>\n",
       "      <td>0.625139</td>\n",
       "      <td>-0.113048</td>\n",
       "      <td>-1.477163</td>\n",
       "      <td>0.746773</td>\n",
       "      <td>0.316892</td>\n",
       "      <td>-0.660407</td>\n",
       "      <td>1.501067</td>\n",
       "      <td>0.543744</td>\n",
       "      <td>1.094294</td>\n",
       "    </tr>\n",
       "    <tr>\n",
       "      <th>100003_raw-Protein</th>\n",
       "      <td>0.405395</td>\n",
       "      <td>0.925288</td>\n",
       "      <td>-0.339507</td>\n",
       "      <td>0.799476</td>\n",
       "      <td>-0.512075</td>\n",
       "      <td>0.586632</td>\n",
       "      <td>0.361706</td>\n",
       "      <td>0.226860</td>\n",
       "      <td>1.208289</td>\n",
       "      <td>-1.880931</td>\n",
       "      <td>...</td>\n",
       "      <td>-0.489171</td>\n",
       "      <td>0.276717</td>\n",
       "      <td>-0.159505</td>\n",
       "      <td>-1.271106</td>\n",
       "      <td>0.300351</td>\n",
       "      <td>0.595915</td>\n",
       "      <td>0.509020</td>\n",
       "      <td>-0.127540</td>\n",
       "      <td>-0.811987</td>\n",
       "      <td>-1.108812</td>\n",
       "    </tr>\n",
       "    <tr>\n",
       "      <th>100004_raw-Fat</th>\n",
       "      <td>-0.156230</td>\n",
       "      <td>0.881426</td>\n",
       "      <td>0.395527</td>\n",
       "      <td>-1.570256</td>\n",
       "      <td>1.240955</td>\n",
       "      <td>2.064595</td>\n",
       "      <td>-0.547373</td>\n",
       "      <td>-1.228389</td>\n",
       "      <td>0.319684</td>\n",
       "      <td>0.858253</td>\n",
       "      <td>...</td>\n",
       "      <td>-0.407151</td>\n",
       "      <td>-1.217662</td>\n",
       "      <td>-0.361052</td>\n",
       "      <td>0.813221</td>\n",
       "      <td>-0.692981</td>\n",
       "      <td>1.099523</td>\n",
       "      <td>-0.017366</td>\n",
       "      <td>0.361278</td>\n",
       "      <td>-0.017222</td>\n",
       "      <td>1.750511</td>\n",
       "    </tr>\n",
       "    <tr>\n",
       "      <th>100005_raw-Carbohydrate</th>\n",
       "      <td>-0.142531</td>\n",
       "      <td>-0.521907</td>\n",
       "      <td>1.069304</td>\n",
       "      <td>0.548122</td>\n",
       "      <td>-0.422146</td>\n",
       "      <td>-1.330718</td>\n",
       "      <td>-1.260872</td>\n",
       "      <td>1.003617</td>\n",
       "      <td>1.266289</td>\n",
       "      <td>0.065408</td>\n",
       "      <td>...</td>\n",
       "      <td>1.506698</td>\n",
       "      <td>-0.069854</td>\n",
       "      <td>-0.084662</td>\n",
       "      <td>-1.269536</td>\n",
       "      <td>-0.421185</td>\n",
       "      <td>0.431180</td>\n",
       "      <td>1.673162</td>\n",
       "      <td>-0.954336</td>\n",
       "      <td>0.026593</td>\n",
       "      <td>0.655359</td>\n",
       "    </tr>\n",
       "  </tbody>\n",
       "</table>\n",
       "<p>5 rows × 987 columns</p>\n",
       "</div>"
      ],
      "text/plain": [
       "                              LV1       LV2       LV3       LV4       LV5  \\\n",
       "100001_raw-Food_weight  -0.175043 -0.710171 -1.000846  0.693026  0.409413   \n",
       "100002_raw-Energy        0.531227  0.894062  1.191552 -0.143922  0.217867   \n",
       "100003_raw-Protein       0.405395  0.925288 -0.339507  0.799476 -0.512075   \n",
       "100004_raw-Fat          -0.156230  0.881426  0.395527 -1.570256  1.240955   \n",
       "100005_raw-Carbohydrate -0.142531 -0.521907  1.069304  0.548122 -0.422146   \n",
       "\n",
       "                              LV6       LV7       LV8       LV9      LV10  \\\n",
       "100001_raw-Food_weight   0.642958  1.767862 -1.070425  0.809395 -1.555050   \n",
       "100002_raw-Energy        0.529878  0.219561 -1.538143 -0.166704  1.042749   \n",
       "100003_raw-Protein       0.586632  0.361706  0.226860  1.208289 -1.880931   \n",
       "100004_raw-Fat           2.064595 -0.547373 -1.228389  0.319684  0.858253   \n",
       "100005_raw-Carbohydrate -1.330718 -1.260872  1.003617  1.266289  0.065408   \n",
       "\n",
       "                         ...     LV978     LV979     LV980     LV981  \\\n",
       "100001_raw-Food_weight   ... -0.932802  0.371349 -0.521787 -0.881136   \n",
       "100002_raw-Energy        ... -0.601329  0.625139 -0.113048 -1.477163   \n",
       "100003_raw-Protein       ... -0.489171  0.276717 -0.159505 -1.271106   \n",
       "100004_raw-Fat           ... -0.407151 -1.217662 -0.361052  0.813221   \n",
       "100005_raw-Carbohydrate  ...  1.506698 -0.069854 -0.084662 -1.269536   \n",
       "\n",
       "                            LV982     LV983     LV984     LV985     LV986  \\\n",
       "100001_raw-Food_weight  -1.193309 -0.257883  1.382268  0.066549 -0.866086   \n",
       "100002_raw-Energy        0.746773  0.316892 -0.660407  1.501067  0.543744   \n",
       "100003_raw-Protein       0.300351  0.595915  0.509020 -0.127540 -0.811987   \n",
       "100004_raw-Fat          -0.692981  1.099523 -0.017366  0.361278 -0.017222   \n",
       "100005_raw-Carbohydrate -0.421185  0.431180  1.673162 -0.954336  0.026593   \n",
       "\n",
       "                            LV987  \n",
       "100001_raw-Food_weight   0.847997  \n",
       "100002_raw-Energy        1.094294  \n",
       "100003_raw-Protein      -1.108812  \n",
       "100004_raw-Fat           1.750511  \n",
       "100005_raw-Carbohydrate  0.655359  \n",
       "\n",
       "[5 rows x 987 columns]"
      ]
     },
     "metadata": {},
     "output_type": "display_data"
    }
   ],
   "source": [
    "display(scaled_data.head())"
   ]
  },
  {
   "cell_type": "code",
   "execution_count": 14,
   "id": "3b226860",
   "metadata": {
    "execution": {
     "iopub.execute_input": "2022-11-25T04:26:52.557311Z",
     "iopub.status.busy": "2022-11-25T04:26:52.557158Z",
     "iopub.status.idle": "2022-11-25T04:26:52.584321Z",
     "shell.execute_reply": "2022-11-25T04:26:52.583953Z"
    },
    "papermill": {
     "duration": 0.034843,
     "end_time": "2022-11-25T04:26:52.585503",
     "exception": false,
     "start_time": "2022-11-25T04:26:52.550660",
     "status": "completed"
    },
    "tags": []
   },
   "outputs": [
    {
     "data": {
      "text/html": [
       "<div>\n",
       "<style scoped>\n",
       "    .dataframe tbody tr th:only-of-type {\n",
       "        vertical-align: middle;\n",
       "    }\n",
       "\n",
       "    .dataframe tbody tr th {\n",
       "        vertical-align: top;\n",
       "    }\n",
       "\n",
       "    .dataframe thead th {\n",
       "        text-align: right;\n",
       "    }\n",
       "</style>\n",
       "<table border=\"1\" class=\"dataframe\">\n",
       "  <thead>\n",
       "    <tr style=\"text-align: right;\">\n",
       "      <th></th>\n",
       "      <th>LV1</th>\n",
       "      <th>LV2</th>\n",
       "      <th>LV3</th>\n",
       "      <th>LV4</th>\n",
       "      <th>LV5</th>\n",
       "      <th>LV6</th>\n",
       "      <th>LV7</th>\n",
       "      <th>LV8</th>\n",
       "      <th>LV9</th>\n",
       "      <th>LV10</th>\n",
       "    </tr>\n",
       "  </thead>\n",
       "  <tbody>\n",
       "    <tr>\n",
       "      <th>count</th>\n",
       "      <td>3.752000e+03</td>\n",
       "      <td>3.752000e+03</td>\n",
       "      <td>3.752000e+03</td>\n",
       "      <td>3.752000e+03</td>\n",
       "      <td>3.752000e+03</td>\n",
       "      <td>3.752000e+03</td>\n",
       "      <td>3.752000e+03</td>\n",
       "      <td>3.752000e+03</td>\n",
       "      <td>3.752000e+03</td>\n",
       "      <td>3.752000e+03</td>\n",
       "    </tr>\n",
       "    <tr>\n",
       "      <th>mean</th>\n",
       "      <td>1.893771e-18</td>\n",
       "      <td>1.041574e-17</td>\n",
       "      <td>-1.515016e-17</td>\n",
       "      <td>2.272525e-17</td>\n",
       "      <td>-1.041574e-17</td>\n",
       "      <td>-1.893771e-17</td>\n",
       "      <td>-8.995410e-18</td>\n",
       "      <td>2.177836e-17</td>\n",
       "      <td>-1.420328e-17</td>\n",
       "      <td>-1.230951e-17</td>\n",
       "    </tr>\n",
       "    <tr>\n",
       "      <th>std</th>\n",
       "      <td>1.000133e+00</td>\n",
       "      <td>1.000133e+00</td>\n",
       "      <td>1.000133e+00</td>\n",
       "      <td>1.000133e+00</td>\n",
       "      <td>1.000133e+00</td>\n",
       "      <td>1.000133e+00</td>\n",
       "      <td>1.000133e+00</td>\n",
       "      <td>1.000133e+00</td>\n",
       "      <td>1.000133e+00</td>\n",
       "      <td>1.000133e+00</td>\n",
       "    </tr>\n",
       "    <tr>\n",
       "      <th>min</th>\n",
       "      <td>-3.929463e+00</td>\n",
       "      <td>-3.575712e+00</td>\n",
       "      <td>-3.277433e+00</td>\n",
       "      <td>-3.701949e+00</td>\n",
       "      <td>-3.019686e+00</td>\n",
       "      <td>-4.594361e+00</td>\n",
       "      <td>-3.264654e+00</td>\n",
       "      <td>-3.378796e+00</td>\n",
       "      <td>-3.645178e+00</td>\n",
       "      <td>-2.931052e+00</td>\n",
       "    </tr>\n",
       "    <tr>\n",
       "      <th>25%</th>\n",
       "      <td>-6.507538e-01</td>\n",
       "      <td>-6.784805e-01</td>\n",
       "      <td>-6.621935e-01</td>\n",
       "      <td>-6.797152e-01</td>\n",
       "      <td>-6.987850e-01</td>\n",
       "      <td>-6.842237e-01</td>\n",
       "      <td>-6.692562e-01</td>\n",
       "      <td>-6.810757e-01</td>\n",
       "      <td>-6.634920e-01</td>\n",
       "      <td>-6.906704e-01</td>\n",
       "    </tr>\n",
       "    <tr>\n",
       "      <th>50%</th>\n",
       "      <td>-2.854269e-02</td>\n",
       "      <td>-3.144668e-02</td>\n",
       "      <td>-5.608072e-03</td>\n",
       "      <td>-4.146288e-03</td>\n",
       "      <td>-3.845457e-02</td>\n",
       "      <td>5.553349e-03</td>\n",
       "      <td>-3.667792e-02</td>\n",
       "      <td>-3.487451e-02</td>\n",
       "      <td>-3.155798e-03</td>\n",
       "      <td>-1.022274e-02</td>\n",
       "    </tr>\n",
       "    <tr>\n",
       "      <th>75%</th>\n",
       "      <td>6.324069e-01</td>\n",
       "      <td>6.398510e-01</td>\n",
       "      <td>6.477239e-01</td>\n",
       "      <td>6.426929e-01</td>\n",
       "      <td>6.374135e-01</td>\n",
       "      <td>6.549806e-01</td>\n",
       "      <td>6.342319e-01</td>\n",
       "      <td>6.502541e-01</td>\n",
       "      <td>6.470156e-01</td>\n",
       "      <td>6.285638e-01</td>\n",
       "    </tr>\n",
       "    <tr>\n",
       "      <th>max</th>\n",
       "      <td>4.624285e+00</td>\n",
       "      <td>4.858798e+00</td>\n",
       "      <td>8.409602e+00</td>\n",
       "      <td>3.706873e+00</td>\n",
       "      <td>6.218598e+00</td>\n",
       "      <td>5.553296e+00</td>\n",
       "      <td>3.608190e+00</td>\n",
       "      <td>7.170969e+00</td>\n",
       "      <td>7.976157e+00</td>\n",
       "      <td>5.166008e+00</td>\n",
       "    </tr>\n",
       "  </tbody>\n",
       "</table>\n",
       "</div>"
      ],
      "text/plain": [
       "                LV1           LV2           LV3           LV4           LV5  \\\n",
       "count  3.752000e+03  3.752000e+03  3.752000e+03  3.752000e+03  3.752000e+03   \n",
       "mean   1.893771e-18  1.041574e-17 -1.515016e-17  2.272525e-17 -1.041574e-17   \n",
       "std    1.000133e+00  1.000133e+00  1.000133e+00  1.000133e+00  1.000133e+00   \n",
       "min   -3.929463e+00 -3.575712e+00 -3.277433e+00 -3.701949e+00 -3.019686e+00   \n",
       "25%   -6.507538e-01 -6.784805e-01 -6.621935e-01 -6.797152e-01 -6.987850e-01   \n",
       "50%   -2.854269e-02 -3.144668e-02 -5.608072e-03 -4.146288e-03 -3.845457e-02   \n",
       "75%    6.324069e-01  6.398510e-01  6.477239e-01  6.426929e-01  6.374135e-01   \n",
       "max    4.624285e+00  4.858798e+00  8.409602e+00  3.706873e+00  6.218598e+00   \n",
       "\n",
       "                LV6           LV7           LV8           LV9          LV10  \n",
       "count  3.752000e+03  3.752000e+03  3.752000e+03  3.752000e+03  3.752000e+03  \n",
       "mean  -1.893771e-17 -8.995410e-18  2.177836e-17 -1.420328e-17 -1.230951e-17  \n",
       "std    1.000133e+00  1.000133e+00  1.000133e+00  1.000133e+00  1.000133e+00  \n",
       "min   -4.594361e+00 -3.264654e+00 -3.378796e+00 -3.645178e+00 -2.931052e+00  \n",
       "25%   -6.842237e-01 -6.692562e-01 -6.810757e-01 -6.634920e-01 -6.906704e-01  \n",
       "50%    5.553349e-03 -3.667792e-02 -3.487451e-02 -3.155798e-03 -1.022274e-02  \n",
       "75%    6.549806e-01  6.342319e-01  6.502541e-01  6.470156e-01  6.285638e-01  \n",
       "max    5.553296e+00  3.608190e+00  7.170969e+00  7.976157e+00  5.166008e+00  "
      ]
     },
     "metadata": {},
     "output_type": "display_data"
    }
   ],
   "source": [
    "scaled_data_stats = scaled_data.iloc[:, :10].describe()\n",
    "display(scaled_data_stats)"
   ]
  },
  {
   "cell_type": "markdown",
   "id": "857fde27",
   "metadata": {
    "papermill": {
     "duration": 0.00652,
     "end_time": "2022-11-25T04:26:52.598226",
     "exception": false,
     "start_time": "2022-11-25T04:26:52.591706",
     "status": "completed"
    },
    "tags": []
   },
   "source": [
    "## Testing"
   ]
  },
  {
   "cell_type": "code",
   "execution_count": 15,
   "id": "3e288084",
   "metadata": {
    "execution": {
     "iopub.execute_input": "2022-11-25T04:26:52.611271Z",
     "iopub.status.busy": "2022-11-25T04:26:52.611174Z",
     "iopub.status.idle": "2022-11-25T04:26:52.621879Z",
     "shell.execute_reply": "2022-11-25T04:26:52.621530Z"
    },
    "papermill": {
     "duration": 0.018437,
     "end_time": "2022-11-25T04:26:52.623036",
     "exception": false,
     "start_time": "2022-11-25T04:26:52.604599",
     "status": "completed"
    },
    "tags": []
   },
   "outputs": [],
   "source": [
    "assert np.all(\n",
    "    [\n",
    "        np.isclose(scaled_data_stats.loc[\"mean\", c], 0.0)\n",
    "        for c in scaled_data_stats.columns\n",
    "    ]\n",
    ")"
   ]
  },
  {
   "cell_type": "code",
   "execution_count": 16,
   "id": "2eab5981",
   "metadata": {
    "execution": {
     "iopub.execute_input": "2022-11-25T04:26:52.636435Z",
     "iopub.status.busy": "2022-11-25T04:26:52.636325Z",
     "iopub.status.idle": "2022-11-25T04:26:52.652333Z",
     "shell.execute_reply": "2022-11-25T04:26:52.651897Z"
    },
    "papermill": {
     "duration": 0.024265,
     "end_time": "2022-11-25T04:26:52.653586",
     "exception": false,
     "start_time": "2022-11-25T04:26:52.629321",
     "status": "completed"
    },
    "tags": []
   },
   "outputs": [],
   "source": [
    "assert np.all(\n",
    "    [\n",
    "        np.isclose(scaled_data_stats.loc[\"std\", c], 1.0, atol=1e-03)\n",
    "        for c in scaled_data_stats.columns\n",
    "    ]\n",
    ")"
   ]
  },
  {
   "cell_type": "markdown",
   "id": "d62e7769",
   "metadata": {
    "papermill": {
     "duration": 0.006121,
     "end_time": "2022-11-25T04:26:52.665989",
     "exception": false,
     "start_time": "2022-11-25T04:26:52.659868",
     "status": "completed"
    },
    "tags": []
   },
   "source": [
    "# Save"
   ]
  },
  {
   "cell_type": "code",
   "execution_count": 17,
   "id": "65086bbb",
   "metadata": {
    "execution": {
     "iopub.execute_input": "2022-11-25T04:26:52.679664Z",
     "iopub.status.busy": "2022-11-25T04:26:52.679327Z",
     "iopub.status.idle": "2022-11-25T04:26:52.696123Z",
     "shell.execute_reply": "2022-11-25T04:26:52.695699Z"
    },
    "papermill": {
     "duration": 0.024745,
     "end_time": "2022-11-25T04:26:52.697387",
     "exception": false,
     "start_time": "2022-11-25T04:26:52.672642",
     "status": "completed"
    },
    "tags": []
   },
   "outputs": [
    {
     "data": {
      "text/plain": [
       "PosixPath('/opt/data/results/clustering/null_sims/shuffle_genes/data_transformations/z_score_std/z_score_std-projection-smultixcan-efo_partial-mashr-zscores.pkl')"
      ]
     },
     "metadata": {},
     "output_type": "display_data"
    }
   ],
   "source": [
    "output_file = Path(\n",
    "    RESULTS_DIR,\n",
    "    f\"z_score_std-{input_filepath_stem}.pkl\",\n",
    ").resolve()\n",
    "\n",
    "display(output_file)"
   ]
  },
  {
   "cell_type": "code",
   "execution_count": 18,
   "id": "21cafb39",
   "metadata": {
    "execution": {
     "iopub.execute_input": "2022-11-25T04:26:52.710957Z",
     "iopub.status.busy": "2022-11-25T04:26:52.710661Z",
     "iopub.status.idle": "2022-11-25T04:26:52.771458Z",
     "shell.execute_reply": "2022-11-25T04:26:52.770965Z"
    },
    "papermill": {
     "duration": 0.068874,
     "end_time": "2022-11-25T04:26:52.772633",
     "exception": false,
     "start_time": "2022-11-25T04:26:52.703759",
     "status": "completed"
    },
    "tags": []
   },
   "outputs": [],
   "source": [
    "scaled_data.to_pickle(output_file)"
   ]
  },
  {
   "cell_type": "code",
   "execution_count": null,
   "id": "9a99ecca",
   "metadata": {
    "papermill": {
     "duration": 0.006186,
     "end_time": "2022-11-25T04:26:52.785362",
     "exception": false,
     "start_time": "2022-11-25T04:26:52.779176",
     "status": "completed"
    },
    "tags": []
   },
   "outputs": [],
   "source": []
  }
 ],
 "metadata": {
  "jupytext": {
   "cell_metadata_filter": "all,-execution,-papermill,-trusted",
   "formats": "ipynb,py//py:percent"
  },
  "kernelspec": {
   "display_name": "Python 3 (ipykernel)",
   "language": "python",
   "name": "python3"
  },
  "language_info": {
   "codemirror_mode": {
    "name": "ipython",
    "version": 3
   },
   "file_extension": ".py",
   "mimetype": "text/x-python",
   "name": "python",
   "nbconvert_exporter": "python",
   "pygments_lexer": "ipython3",
   "version": "3.8.13"
  },
  "papermill": {
   "default_parameters": {},
   "duration": 2.175902,
   "end_time": "2022-11-25T04:26:53.007075",
   "environment_variables": {},
   "exception": null,
   "input_path": "nbs/13.1_cluster_analysis_null/00-shuffle_genes/05_01-data_transformation-z_score_std.ipynb",
   "output_path": "nbs/13.1_cluster_analysis_null/00-shuffle_genes/05_01-data_transformation-z_score_std.run.ipynb",
   "parameters": {},
   "start_time": "2022-11-25T04:26:50.831173",
   "version": "2.2.2"
  },
  "toc-autonumbering": true,
  "toc-showcode": false,
  "toc-showmarkdowntxt": false,
  "toc-showtags": false
 },
 "nbformat": 4,
 "nbformat_minor": 5
}
