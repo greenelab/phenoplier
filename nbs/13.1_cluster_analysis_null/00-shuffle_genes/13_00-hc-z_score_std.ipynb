{
 "cells": [
  {
   "cell_type": "markdown",
   "id": "68fbe0d0",
   "metadata": {
    "papermill": {
     "duration": 0.037039,
     "end_time": "2022-09-13T19:28:10.176246",
     "exception": false,
     "start_time": "2022-09-13T19:28:10.139207",
     "status": "completed"
    },
    "tags": []
   },
   "source": [
    "# Description"
   ]
  },
  {
   "cell_type": "markdown",
   "id": "a8bfa51b",
   "metadata": {
    "papermill": {
     "duration": 0.027352,
     "end_time": "2022-09-13T19:28:10.231669",
     "exception": false,
     "start_time": "2022-09-13T19:28:10.204317",
     "status": "completed"
    },
    "tags": []
   },
   "source": [
    "Runs hierarchical clustering on the z_score_std version of the data."
   ]
  },
  {
   "cell_type": "markdown",
   "id": "2215b13c",
   "metadata": {
    "papermill": {
     "duration": 0.012226,
     "end_time": "2022-09-13T19:28:10.264287",
     "exception": false,
     "start_time": "2022-09-13T19:28:10.252061",
     "status": "completed"
    },
    "tags": []
   },
   "source": [
    "# Environment variables"
   ]
  },
  {
   "cell_type": "code",
   "execution_count": 1,
   "id": "ba7c8bd5",
   "metadata": {
    "execution": {
     "iopub.execute_input": "2022-09-13T19:28:10.283294Z",
     "iopub.status.busy": "2022-09-13T19:28:10.283077Z",
     "iopub.status.idle": "2022-09-13T19:28:10.301641Z",
     "shell.execute_reply": "2022-09-13T19:28:10.299160Z"
    },
    "papermill": {
     "duration": 0.029034,
     "end_time": "2022-09-13T19:28:10.303177",
     "exception": false,
     "start_time": "2022-09-13T19:28:10.274143",
     "status": "completed"
    },
    "tags": []
   },
   "outputs": [
    {
     "data": {
      "text/plain": [
       "3"
      ]
     },
     "metadata": {},
     "output_type": "display_data"
    }
   ],
   "source": [
    "from IPython.display import display\n",
    "\n",
    "import conf\n",
    "\n",
    "N_JOBS = conf.GENERAL[\"N_JOBS\"]\n",
    "display(N_JOBS)"
   ]
  },
  {
   "cell_type": "code",
   "execution_count": 2,
   "id": "6e9e2996",
   "metadata": {
    "execution": {
     "iopub.execute_input": "2022-09-13T19:28:10.318442Z",
     "iopub.status.busy": "2022-09-13T19:28:10.318018Z",
     "iopub.status.idle": "2022-09-13T19:28:10.323206Z",
     "shell.execute_reply": "2022-09-13T19:28:10.322703Z"
    },
    "papermill": {
     "duration": 0.01412,
     "end_time": "2022-09-13T19:28:10.324446",
     "exception": false,
     "start_time": "2022-09-13T19:28:10.310326",
     "status": "completed"
    },
    "tags": []
   },
   "outputs": [
    {
     "name": "stdout",
     "output_type": "stream",
     "text": [
      "env: MKL_NUM_THREADS=3\n",
      "env: OPEN_BLAS_NUM_THREADS=3\n",
      "env: NUMEXPR_NUM_THREADS=3\n",
      "env: OMP_NUM_THREADS=3\n"
     ]
    }
   ],
   "source": [
    "%env MKL_NUM_THREADS=$N_JOBS\n",
    "%env OPEN_BLAS_NUM_THREADS=$N_JOBS\n",
    "%env NUMEXPR_NUM_THREADS=$N_JOBS\n",
    "%env OMP_NUM_THREADS=$N_JOBS"
   ]
  },
  {
   "cell_type": "markdown",
   "id": "e4902098",
   "metadata": {
    "papermill": {
     "duration": 0.006913,
     "end_time": "2022-09-13T19:28:10.338774",
     "exception": false,
     "start_time": "2022-09-13T19:28:10.331861",
     "status": "completed"
    },
    "tags": []
   },
   "source": [
    "# Modules loading"
   ]
  },
  {
   "cell_type": "code",
   "execution_count": 3,
   "id": "ff49a3fd",
   "metadata": {
    "execution": {
     "iopub.execute_input": "2022-09-13T19:28:10.354116Z",
     "iopub.status.busy": "2022-09-13T19:28:10.353894Z",
     "iopub.status.idle": "2022-09-13T19:28:10.368203Z",
     "shell.execute_reply": "2022-09-13T19:28:10.367713Z"
    },
    "papermill": {
     "duration": 0.024056,
     "end_time": "2022-09-13T19:28:10.369755",
     "exception": false,
     "start_time": "2022-09-13T19:28:10.345699",
     "status": "completed"
    },
    "tags": []
   },
   "outputs": [],
   "source": [
    "%load_ext autoreload\n",
    "%autoreload 2"
   ]
  },
  {
   "cell_type": "code",
   "execution_count": 4,
   "id": "b6179936",
   "metadata": {
    "execution": {
     "iopub.execute_input": "2022-09-13T19:28:10.386269Z",
     "iopub.status.busy": "2022-09-13T19:28:10.386093Z",
     "iopub.status.idle": "2022-09-13T19:28:11.183712Z",
     "shell.execute_reply": "2022-09-13T19:28:11.183030Z"
    },
    "papermill": {
     "duration": 0.808155,
     "end_time": "2022-09-13T19:28:11.185389",
     "exception": false,
     "start_time": "2022-09-13T19:28:10.377234",
     "status": "completed"
    },
    "tags": []
   },
   "outputs": [],
   "source": [
    "from pathlib import Path\n",
    "\n",
    "import numpy as np\n",
    "import pandas as pd\n",
    "import matplotlib.pyplot as plt\n",
    "import seaborn as sns\n",
    "\n",
    "from utils import generate_result_set_name"
   ]
  },
  {
   "cell_type": "markdown",
   "id": "8bb5b886",
   "metadata": {
    "papermill": {
     "duration": 0.00711,
     "end_time": "2022-09-13T19:28:11.199984",
     "exception": false,
     "start_time": "2022-09-13T19:28:11.192874",
     "status": "completed"
    },
    "tags": []
   },
   "source": [
    "# Settings"
   ]
  },
  {
   "cell_type": "code",
   "execution_count": 5,
   "id": "998be2be",
   "metadata": {
    "execution": {
     "iopub.execute_input": "2022-09-13T19:28:11.215343Z",
     "iopub.status.busy": "2022-09-13T19:28:11.215170Z",
     "iopub.status.idle": "2022-09-13T19:28:11.231831Z",
     "shell.execute_reply": "2022-09-13T19:28:11.231308Z"
    },
    "papermill": {
     "duration": 0.025976,
     "end_time": "2022-09-13T19:28:11.233301",
     "exception": false,
     "start_time": "2022-09-13T19:28:11.207325",
     "status": "completed"
    },
    "tags": []
   },
   "outputs": [],
   "source": [
    "np.random.seed(0)"
   ]
  },
  {
   "cell_type": "code",
   "execution_count": null,
   "id": "29730a5e-744e-4e72-86c5-143628265ad4",
   "metadata": {},
   "outputs": [],
   "source": [
    "NULL_DIR = conf.RESULTS[\"CLUSTERING_NULL_DIR\"] / \"shuffle_genes\""
   ]
  },
  {
   "cell_type": "markdown",
   "id": "ab0c12ad",
   "metadata": {
    "papermill": {
     "duration": 0.007189,
     "end_time": "2022-09-13T19:28:11.247880",
     "exception": false,
     "start_time": "2022-09-13T19:28:11.240691",
     "status": "completed"
    },
    "tags": []
   },
   "source": [
    "## Input data"
   ]
  },
  {
   "cell_type": "code",
   "execution_count": 6,
   "id": "486fc495",
   "metadata": {
    "execution": {
     "iopub.execute_input": "2022-09-13T19:28:11.262981Z",
     "iopub.status.busy": "2022-09-13T19:28:11.262807Z",
     "iopub.status.idle": "2022-09-13T19:28:11.281412Z",
     "shell.execute_reply": "2022-09-13T19:28:11.280920Z"
    },
    "papermill": {
     "duration": 0.02776,
     "end_time": "2022-09-13T19:28:11.282860",
     "exception": false,
     "start_time": "2022-09-13T19:28:11.255100",
     "status": "completed"
    },
    "tags": []
   },
   "outputs": [],
   "source": [
    "INPUT_SUBSET = \"z_score_std\""
   ]
  },
  {
   "cell_type": "code",
   "execution_count": 7,
   "id": "708d3403",
   "metadata": {
    "execution": {
     "iopub.execute_input": "2022-09-13T19:28:11.299299Z",
     "iopub.status.busy": "2022-09-13T19:28:11.299082Z",
     "iopub.status.idle": "2022-09-13T19:28:11.317844Z",
     "shell.execute_reply": "2022-09-13T19:28:11.317259Z"
    },
    "papermill": {
     "duration": 0.02854,
     "end_time": "2022-09-13T19:28:11.319345",
     "exception": false,
     "start_time": "2022-09-13T19:28:11.290805",
     "status": "completed"
    },
    "tags": []
   },
   "outputs": [],
   "source": [
    "INPUT_STEM = \"projection-smultixcan-efo_partial-mashr-zscores\""
   ]
  },
  {
   "cell_type": "code",
   "execution_count": 8,
   "id": "5efd00a3",
   "metadata": {
    "execution": {
     "iopub.execute_input": "2022-09-13T19:28:11.368116Z",
     "iopub.status.busy": "2022-09-13T19:28:11.367904Z",
     "iopub.status.idle": "2022-09-13T19:28:11.391289Z",
     "shell.execute_reply": "2022-09-13T19:28:11.390815Z"
    },
    "papermill": {
     "duration": 0.036665,
     "end_time": "2022-09-13T19:28:11.394780",
     "exception": false,
     "start_time": "2022-09-13T19:28:11.358115",
     "status": "completed"
    },
    "tags": []
   },
   "outputs": [
    {
     "data": {
      "text/plain": [
       "PosixPath('/opt/data/results/clustering/null_sims/data_transformations/z_score_std/z_score_std-projection-smultixcan-efo_partial-mashr-zscores.pkl')"
      ]
     },
     "metadata": {},
     "output_type": "display_data"
    },
    {
     "data": {
      "text/plain": [
       "'z_score_std-projection-smultixcan-efo_partial-mashr-zscores'"
      ]
     },
     "metadata": {},
     "output_type": "display_data"
    }
   ],
   "source": [
    "input_filepath = Path(\n",
    "    NULL_DIR,\n",
    "    \"data_transformations\",\n",
    "    INPUT_SUBSET,\n",
    "    f\"{INPUT_SUBSET}-{INPUT_STEM}.pkl\",\n",
    ").resolve()\n",
    "display(input_filepath)\n",
    "\n",
    "assert input_filepath.exists(), \"Input file does not exist\"\n",
    "\n",
    "input_filepath_stem = input_filepath.stem\n",
    "display(input_filepath_stem)"
   ]
  },
  {
   "cell_type": "markdown",
   "id": "f380a980",
   "metadata": {
    "papermill": {
     "duration": 0.008232,
     "end_time": "2022-09-13T19:28:11.411919",
     "exception": false,
     "start_time": "2022-09-13T19:28:11.403687",
     "status": "completed"
    },
    "tags": []
   },
   "source": [
    "## Clustering"
   ]
  },
  {
   "cell_type": "code",
   "execution_count": 9,
   "id": "87788b76",
   "metadata": {
    "execution": {
     "iopub.execute_input": "2022-09-13T19:28:11.429075Z",
     "iopub.status.busy": "2022-09-13T19:28:11.428896Z",
     "iopub.status.idle": "2022-09-13T19:28:11.546156Z",
     "shell.execute_reply": "2022-09-13T19:28:11.545602Z"
    },
    "papermill": {
     "duration": 0.127992,
     "end_time": "2022-09-13T19:28:11.548139",
     "exception": false,
     "start_time": "2022-09-13T19:28:11.420147",
     "status": "completed"
    },
    "tags": []
   },
   "outputs": [],
   "source": [
    "from sklearn.cluster import AgglomerativeClustering"
   ]
  },
  {
   "cell_type": "code",
   "execution_count": 10,
   "id": "62e7aa53",
   "metadata": {
    "execution": {
     "iopub.execute_input": "2022-09-13T19:28:11.565672Z",
     "iopub.status.busy": "2022-09-13T19:28:11.565489Z",
     "iopub.status.idle": "2022-09-13T19:28:11.584313Z",
     "shell.execute_reply": "2022-09-13T19:28:11.583746Z"
    },
    "papermill": {
     "duration": 0.029025,
     "end_time": "2022-09-13T19:28:11.585734",
     "exception": false,
     "start_time": "2022-09-13T19:28:11.556709",
     "status": "completed"
    },
    "tags": []
   },
   "outputs": [],
   "source": [
    "CLUSTERING_ATTRIBUTES_TO_SAVE = [\"n_clusters\"]"
   ]
  },
  {
   "cell_type": "code",
   "execution_count": 11,
   "id": "1f6bc16f",
   "metadata": {
    "execution": {
     "iopub.execute_input": "2022-09-13T19:28:11.603004Z",
     "iopub.status.busy": "2022-09-13T19:28:11.602823Z",
     "iopub.status.idle": "2022-09-13T19:28:11.623896Z",
     "shell.execute_reply": "2022-09-13T19:28:11.623278Z"
    },
    "papermill": {
     "duration": 0.031569,
     "end_time": "2022-09-13T19:28:11.625507",
     "exception": false,
     "start_time": "2022-09-13T19:28:11.593938",
     "status": "completed"
    },
    "tags": []
   },
   "outputs": [
    {
     "data": {
      "text/plain": [
       "{'K_MIN': 2,\n",
       " 'K_MAX': 75,\n",
       " 'LINKAGE': {'average', 'complete', 'single', 'ward'},\n",
       " 'AFFINITY': 'euclidean'}"
      ]
     },
     "metadata": {},
     "output_type": "display_data"
    }
   ],
   "source": [
    "CLUSTERING_OPTIONS = {}\n",
    "\n",
    "CLUSTERING_OPTIONS[\"K_MIN\"] = 2\n",
    "CLUSTERING_OPTIONS[\"K_MAX\"] = 75  # sqrt(3749) + some more to get closer to 295\n",
    "CLUSTERING_OPTIONS[\"LINKAGE\"] = {\"ward\", \"complete\", \"average\", \"single\"}\n",
    "CLUSTERING_OPTIONS[\"AFFINITY\"] = \"euclidean\"\n",
    "\n",
    "display(CLUSTERING_OPTIONS)"
   ]
  },
  {
   "cell_type": "code",
   "execution_count": 12,
   "id": "315c78ec",
   "metadata": {
    "execution": {
     "iopub.execute_input": "2022-09-13T19:28:11.644243Z",
     "iopub.status.busy": "2022-09-13T19:28:11.643895Z",
     "iopub.status.idle": "2022-09-13T19:28:11.667402Z",
     "shell.execute_reply": "2022-09-13T19:28:11.666914Z"
    },
    "papermill": {
     "duration": 0.034356,
     "end_time": "2022-09-13T19:28:11.669049",
     "exception": false,
     "start_time": "2022-09-13T19:28:11.634693",
     "status": "completed"
    },
    "tags": []
   },
   "outputs": [],
   "source": [
    "CLUSTERERS = {}\n",
    "\n",
    "idx = 0\n",
    "\n",
    "for k in range(CLUSTERING_OPTIONS[\"K_MIN\"], CLUSTERING_OPTIONS[\"K_MAX\"] + 1):\n",
    "    for linkage in CLUSTERING_OPTIONS[\"LINKAGE\"]:\n",
    "        if linkage == \"ward\":\n",
    "            affinity = \"euclidean\"\n",
    "        else:\n",
    "            affinity = \"precomputed\"\n",
    "\n",
    "        clus = AgglomerativeClustering(\n",
    "            n_clusters=k,\n",
    "            affinity=affinity,\n",
    "            linkage=linkage,\n",
    "        )\n",
    "\n",
    "        method_name = type(clus).__name__\n",
    "        CLUSTERERS[f\"{method_name} #{idx}\"] = clus\n",
    "\n",
    "        idx = idx + 1"
   ]
  },
  {
   "cell_type": "code",
   "execution_count": 13,
   "id": "60d8d262",
   "metadata": {
    "execution": {
     "iopub.execute_input": "2022-09-13T19:28:11.687400Z",
     "iopub.status.busy": "2022-09-13T19:28:11.687202Z",
     "iopub.status.idle": "2022-09-13T19:28:11.708245Z",
     "shell.execute_reply": "2022-09-13T19:28:11.707669Z"
    },
    "papermill": {
     "duration": 0.031919,
     "end_time": "2022-09-13T19:28:11.709541",
     "exception": false,
     "start_time": "2022-09-13T19:28:11.677622",
     "status": "completed"
    },
    "tags": []
   },
   "outputs": [
    {
     "data": {
      "text/plain": [
       "296"
      ]
     },
     "metadata": {},
     "output_type": "display_data"
    }
   ],
   "source": [
    "display(len(CLUSTERERS))"
   ]
  },
  {
   "cell_type": "code",
   "execution_count": 14,
   "id": "6fb8a132",
   "metadata": {
    "execution": {
     "iopub.execute_input": "2022-09-13T19:28:11.729394Z",
     "iopub.status.busy": "2022-09-13T19:28:11.728055Z",
     "iopub.status.idle": "2022-09-13T19:28:11.750400Z",
     "shell.execute_reply": "2022-09-13T19:28:11.749915Z"
    },
    "papermill": {
     "duration": 0.033904,
     "end_time": "2022-09-13T19:28:11.751828",
     "exception": false,
     "start_time": "2022-09-13T19:28:11.717924",
     "status": "completed"
    },
    "tags": []
   },
   "outputs": [
    {
     "data": {
      "text/plain": [
       "('AgglomerativeClustering #0', AgglomerativeClustering())"
      ]
     },
     "metadata": {},
     "output_type": "display_data"
    },
    {
     "data": {
      "text/plain": [
       "('AgglomerativeClustering #1',\n",
       " AgglomerativeClustering(affinity='precomputed', linkage='complete'))"
      ]
     },
     "metadata": {},
     "output_type": "display_data"
    }
   ],
   "source": [
    "_iter = iter(CLUSTERERS.items())\n",
    "display(next(_iter))\n",
    "display(next(_iter))"
   ]
  },
  {
   "cell_type": "code",
   "execution_count": 15,
   "id": "bb2626f1",
   "metadata": {
    "execution": {
     "iopub.execute_input": "2022-09-13T19:28:11.770438Z",
     "iopub.status.busy": "2022-09-13T19:28:11.770111Z",
     "iopub.status.idle": "2022-09-13T19:28:11.790225Z",
     "shell.execute_reply": "2022-09-13T19:28:11.789718Z"
    },
    "papermill": {
     "duration": 0.030984,
     "end_time": "2022-09-13T19:28:11.791568",
     "exception": false,
     "start_time": "2022-09-13T19:28:11.760584",
     "status": "completed"
    },
    "tags": []
   },
   "outputs": [
    {
     "data": {
      "text/plain": [
       "'AgglomerativeClustering'"
      ]
     },
     "metadata": {},
     "output_type": "display_data"
    }
   ],
   "source": [
    "clustering_method_name = method_name\n",
    "display(clustering_method_name)"
   ]
  },
  {
   "cell_type": "markdown",
   "id": "f4af2a9c",
   "metadata": {
    "papermill": {
     "duration": 0.008363,
     "end_time": "2022-09-13T19:28:11.808575",
     "exception": false,
     "start_time": "2022-09-13T19:28:11.800212",
     "status": "completed"
    },
    "tags": []
   },
   "source": [
    "## Output directory"
   ]
  },
  {
   "cell_type": "code",
   "execution_count": 16,
   "id": "1aedeed4",
   "metadata": {
    "execution": {
     "iopub.execute_input": "2022-09-13T19:28:11.826461Z",
     "iopub.status.busy": "2022-09-13T19:28:11.826234Z",
     "iopub.status.idle": "2022-09-13T19:28:11.847806Z",
     "shell.execute_reply": "2022-09-13T19:28:11.847288Z"
    },
    "papermill": {
     "duration": 0.03212,
     "end_time": "2022-09-13T19:28:11.849182",
     "exception": false,
     "start_time": "2022-09-13T19:28:11.817062",
     "status": "completed"
    },
    "tags": []
   },
   "outputs": [
    {
     "data": {
      "text/plain": [
       "PosixPath('/opt/data/results/clustering/null_sims/runs/z_score_std-projection-smultixcan-efo_partial-mashr-zscores')"
      ]
     },
     "metadata": {},
     "output_type": "display_data"
    }
   ],
   "source": [
    "# output dir for this notebook\n",
    "RESULTS_DIR = Path(\n",
    "    NULL_DIR,\n",
    "    \"runs\",\n",
    "    f\"{INPUT_SUBSET}-{INPUT_STEM}\",\n",
    ").resolve()\n",
    "RESULTS_DIR.mkdir(parents=True, exist_ok=True)\n",
    "\n",
    "display(RESULTS_DIR)"
   ]
  },
  {
   "cell_type": "markdown",
   "id": "fc9025a8",
   "metadata": {
    "papermill": {
     "duration": 0.027524,
     "end_time": "2022-09-13T19:28:11.885255",
     "exception": false,
     "start_time": "2022-09-13T19:28:11.857731",
     "status": "completed"
    },
    "tags": []
   },
   "source": [
    "# Load input file"
   ]
  },
  {
   "cell_type": "code",
   "execution_count": 17,
   "id": "beb21224",
   "metadata": {
    "execution": {
     "iopub.execute_input": "2022-09-13T19:28:11.903609Z",
     "iopub.status.busy": "2022-09-13T19:28:11.903437Z",
     "iopub.status.idle": "2022-09-13T19:28:11.938330Z",
     "shell.execute_reply": "2022-09-13T19:28:11.937796Z"
    },
    "papermill": {
     "duration": 0.046251,
     "end_time": "2022-09-13T19:28:11.940017",
     "exception": false,
     "start_time": "2022-09-13T19:28:11.893766",
     "status": "completed"
    },
    "tags": []
   },
   "outputs": [],
   "source": [
    "data = pd.read_pickle(input_filepath)"
   ]
  },
  {
   "cell_type": "code",
   "execution_count": 18,
   "id": "82d7cb7b",
   "metadata": {
    "execution": {
     "iopub.execute_input": "2022-09-13T19:28:11.958770Z",
     "iopub.status.busy": "2022-09-13T19:28:11.958483Z",
     "iopub.status.idle": "2022-09-13T19:28:11.979005Z",
     "shell.execute_reply": "2022-09-13T19:28:11.978524Z"
    },
    "papermill": {
     "duration": 0.031643,
     "end_time": "2022-09-13T19:28:11.980639",
     "exception": false,
     "start_time": "2022-09-13T19:28:11.948996",
     "status": "completed"
    },
    "tags": []
   },
   "outputs": [
    {
     "data": {
      "text/plain": [
       "(3752, 987)"
      ]
     },
     "execution_count": 18,
     "metadata": {},
     "output_type": "execute_result"
    }
   ],
   "source": [
    "data.shape"
   ]
  },
  {
   "cell_type": "code",
   "execution_count": 19,
   "id": "81a72af1",
   "metadata": {
    "execution": {
     "iopub.execute_input": "2022-09-13T19:28:11.999828Z",
     "iopub.status.busy": "2022-09-13T19:28:11.999639Z",
     "iopub.status.idle": "2022-09-13T19:28:12.039516Z",
     "shell.execute_reply": "2022-09-13T19:28:12.038963Z"
    },
    "papermill": {
     "duration": 0.05124,
     "end_time": "2022-09-13T19:28:12.040983",
     "exception": false,
     "start_time": "2022-09-13T19:28:11.989743",
     "status": "completed"
    },
    "tags": []
   },
   "outputs": [
    {
     "data": {
      "text/html": [
       "<div>\n",
       "<style scoped>\n",
       "    .dataframe tbody tr th:only-of-type {\n",
       "        vertical-align: middle;\n",
       "    }\n",
       "\n",
       "    .dataframe tbody tr th {\n",
       "        vertical-align: top;\n",
       "    }\n",
       "\n",
       "    .dataframe thead th {\n",
       "        text-align: right;\n",
       "    }\n",
       "</style>\n",
       "<table border=\"1\" class=\"dataframe\">\n",
       "  <thead>\n",
       "    <tr style=\"text-align: right;\">\n",
       "      <th></th>\n",
       "      <th>LV1</th>\n",
       "      <th>LV2</th>\n",
       "      <th>LV3</th>\n",
       "      <th>LV4</th>\n",
       "      <th>LV5</th>\n",
       "      <th>LV6</th>\n",
       "      <th>LV7</th>\n",
       "      <th>LV8</th>\n",
       "      <th>LV9</th>\n",
       "      <th>LV10</th>\n",
       "      <th>...</th>\n",
       "      <th>LV978</th>\n",
       "      <th>LV979</th>\n",
       "      <th>LV980</th>\n",
       "      <th>LV981</th>\n",
       "      <th>LV982</th>\n",
       "      <th>LV983</th>\n",
       "      <th>LV984</th>\n",
       "      <th>LV985</th>\n",
       "      <th>LV986</th>\n",
       "      <th>LV987</th>\n",
       "    </tr>\n",
       "  </thead>\n",
       "  <tbody>\n",
       "    <tr>\n",
       "      <th>100001_raw-Food_weight</th>\n",
       "      <td>-0.175043</td>\n",
       "      <td>-0.710171</td>\n",
       "      <td>-1.000846</td>\n",
       "      <td>0.693026</td>\n",
       "      <td>0.409413</td>\n",
       "      <td>0.642958</td>\n",
       "      <td>1.767862</td>\n",
       "      <td>-1.070425</td>\n",
       "      <td>0.809395</td>\n",
       "      <td>-1.555050</td>\n",
       "      <td>...</td>\n",
       "      <td>-0.932802</td>\n",
       "      <td>0.371349</td>\n",
       "      <td>-0.521787</td>\n",
       "      <td>-0.881136</td>\n",
       "      <td>-1.193309</td>\n",
       "      <td>-0.257883</td>\n",
       "      <td>1.382268</td>\n",
       "      <td>0.066549</td>\n",
       "      <td>-0.866086</td>\n",
       "      <td>0.847997</td>\n",
       "    </tr>\n",
       "    <tr>\n",
       "      <th>100002_raw-Energy</th>\n",
       "      <td>0.531227</td>\n",
       "      <td>0.894062</td>\n",
       "      <td>1.191552</td>\n",
       "      <td>-0.143922</td>\n",
       "      <td>0.217867</td>\n",
       "      <td>0.529878</td>\n",
       "      <td>0.219561</td>\n",
       "      <td>-1.538143</td>\n",
       "      <td>-0.166704</td>\n",
       "      <td>1.042749</td>\n",
       "      <td>...</td>\n",
       "      <td>-0.601329</td>\n",
       "      <td>0.625139</td>\n",
       "      <td>-0.113048</td>\n",
       "      <td>-1.477163</td>\n",
       "      <td>0.746773</td>\n",
       "      <td>0.316892</td>\n",
       "      <td>-0.660407</td>\n",
       "      <td>1.501067</td>\n",
       "      <td>0.543744</td>\n",
       "      <td>1.094294</td>\n",
       "    </tr>\n",
       "    <tr>\n",
       "      <th>100003_raw-Protein</th>\n",
       "      <td>0.405395</td>\n",
       "      <td>0.925288</td>\n",
       "      <td>-0.339507</td>\n",
       "      <td>0.799476</td>\n",
       "      <td>-0.512075</td>\n",
       "      <td>0.586632</td>\n",
       "      <td>0.361706</td>\n",
       "      <td>0.226860</td>\n",
       "      <td>1.208289</td>\n",
       "      <td>-1.880931</td>\n",
       "      <td>...</td>\n",
       "      <td>-0.489171</td>\n",
       "      <td>0.276717</td>\n",
       "      <td>-0.159505</td>\n",
       "      <td>-1.271106</td>\n",
       "      <td>0.300351</td>\n",
       "      <td>0.595915</td>\n",
       "      <td>0.509020</td>\n",
       "      <td>-0.127540</td>\n",
       "      <td>-0.811987</td>\n",
       "      <td>-1.108812</td>\n",
       "    </tr>\n",
       "    <tr>\n",
       "      <th>100004_raw-Fat</th>\n",
       "      <td>-0.156230</td>\n",
       "      <td>0.881426</td>\n",
       "      <td>0.395527</td>\n",
       "      <td>-1.570256</td>\n",
       "      <td>1.240955</td>\n",
       "      <td>2.064595</td>\n",
       "      <td>-0.547373</td>\n",
       "      <td>-1.228389</td>\n",
       "      <td>0.319684</td>\n",
       "      <td>0.858253</td>\n",
       "      <td>...</td>\n",
       "      <td>-0.407151</td>\n",
       "      <td>-1.217662</td>\n",
       "      <td>-0.361052</td>\n",
       "      <td>0.813221</td>\n",
       "      <td>-0.692981</td>\n",
       "      <td>1.099523</td>\n",
       "      <td>-0.017366</td>\n",
       "      <td>0.361278</td>\n",
       "      <td>-0.017222</td>\n",
       "      <td>1.750511</td>\n",
       "    </tr>\n",
       "    <tr>\n",
       "      <th>100005_raw-Carbohydrate</th>\n",
       "      <td>-0.142531</td>\n",
       "      <td>-0.521907</td>\n",
       "      <td>1.069304</td>\n",
       "      <td>0.548122</td>\n",
       "      <td>-0.422146</td>\n",
       "      <td>-1.330718</td>\n",
       "      <td>-1.260872</td>\n",
       "      <td>1.003617</td>\n",
       "      <td>1.266289</td>\n",
       "      <td>0.065408</td>\n",
       "      <td>...</td>\n",
       "      <td>1.506698</td>\n",
       "      <td>-0.069854</td>\n",
       "      <td>-0.084662</td>\n",
       "      <td>-1.269536</td>\n",
       "      <td>-0.421185</td>\n",
       "      <td>0.431180</td>\n",
       "      <td>1.673162</td>\n",
       "      <td>-0.954336</td>\n",
       "      <td>0.026593</td>\n",
       "      <td>0.655359</td>\n",
       "    </tr>\n",
       "  </tbody>\n",
       "</table>\n",
       "<p>5 rows × 987 columns</p>\n",
       "</div>"
      ],
      "text/plain": [
       "                              LV1       LV2       LV3       LV4       LV5  \\\n",
       "100001_raw-Food_weight  -0.175043 -0.710171 -1.000846  0.693026  0.409413   \n",
       "100002_raw-Energy        0.531227  0.894062  1.191552 -0.143922  0.217867   \n",
       "100003_raw-Protein       0.405395  0.925288 -0.339507  0.799476 -0.512075   \n",
       "100004_raw-Fat          -0.156230  0.881426  0.395527 -1.570256  1.240955   \n",
       "100005_raw-Carbohydrate -0.142531 -0.521907  1.069304  0.548122 -0.422146   \n",
       "\n",
       "                              LV6       LV7       LV8       LV9      LV10  \\\n",
       "100001_raw-Food_weight   0.642958  1.767862 -1.070425  0.809395 -1.555050   \n",
       "100002_raw-Energy        0.529878  0.219561 -1.538143 -0.166704  1.042749   \n",
       "100003_raw-Protein       0.586632  0.361706  0.226860  1.208289 -1.880931   \n",
       "100004_raw-Fat           2.064595 -0.547373 -1.228389  0.319684  0.858253   \n",
       "100005_raw-Carbohydrate -1.330718 -1.260872  1.003617  1.266289  0.065408   \n",
       "\n",
       "                         ...     LV978     LV979     LV980     LV981  \\\n",
       "100001_raw-Food_weight   ... -0.932802  0.371349 -0.521787 -0.881136   \n",
       "100002_raw-Energy        ... -0.601329  0.625139 -0.113048 -1.477163   \n",
       "100003_raw-Protein       ... -0.489171  0.276717 -0.159505 -1.271106   \n",
       "100004_raw-Fat           ... -0.407151 -1.217662 -0.361052  0.813221   \n",
       "100005_raw-Carbohydrate  ...  1.506698 -0.069854 -0.084662 -1.269536   \n",
       "\n",
       "                            LV982     LV983     LV984     LV985     LV986  \\\n",
       "100001_raw-Food_weight  -1.193309 -0.257883  1.382268  0.066549 -0.866086   \n",
       "100002_raw-Energy        0.746773  0.316892 -0.660407  1.501067  0.543744   \n",
       "100003_raw-Protein       0.300351  0.595915  0.509020 -0.127540 -0.811987   \n",
       "100004_raw-Fat          -0.692981  1.099523 -0.017366  0.361278 -0.017222   \n",
       "100005_raw-Carbohydrate -0.421185  0.431180  1.673162 -0.954336  0.026593   \n",
       "\n",
       "                            LV987  \n",
       "100001_raw-Food_weight   0.847997  \n",
       "100002_raw-Energy        1.094294  \n",
       "100003_raw-Protein      -1.108812  \n",
       "100004_raw-Fat           1.750511  \n",
       "100005_raw-Carbohydrate  0.655359  \n",
       "\n",
       "[5 rows x 987 columns]"
      ]
     },
     "execution_count": 19,
     "metadata": {},
     "output_type": "execute_result"
    }
   ],
   "source": [
    "data.head()"
   ]
  },
  {
   "cell_type": "code",
   "execution_count": 20,
   "id": "8beca865",
   "metadata": {
    "execution": {
     "iopub.execute_input": "2022-09-13T19:28:12.065877Z",
     "iopub.status.busy": "2022-09-13T19:28:12.065688Z",
     "iopub.status.idle": "2022-09-13T19:28:12.094705Z",
     "shell.execute_reply": "2022-09-13T19:28:12.094180Z"
    },
    "papermill": {
     "duration": 0.04572,
     "end_time": "2022-09-13T19:28:12.096227",
     "exception": false,
     "start_time": "2022-09-13T19:28:12.050507",
     "status": "completed"
    },
    "tags": []
   },
   "outputs": [],
   "source": [
    "assert not data.isna().any().any()"
   ]
  },
  {
   "cell_type": "markdown",
   "id": "be43b722",
   "metadata": {
    "papermill": {
     "duration": 0.008999,
     "end_time": "2022-09-13T19:28:12.114638",
     "exception": false,
     "start_time": "2022-09-13T19:28:12.105639",
     "status": "completed"
    },
    "tags": []
   },
   "source": [
    "# Clustering"
   ]
  },
  {
   "cell_type": "markdown",
   "id": "7a99e047",
   "metadata": {
    "papermill": {
     "duration": 0.008698,
     "end_time": "2022-09-13T19:28:12.132298",
     "exception": false,
     "start_time": "2022-09-13T19:28:12.123600",
     "status": "completed"
    },
    "tags": []
   },
   "source": [
    "## Generate ensemble"
   ]
  },
  {
   "cell_type": "code",
   "execution_count": 21,
   "id": "1baf0a35",
   "metadata": {
    "execution": {
     "iopub.execute_input": "2022-09-13T19:28:12.150938Z",
     "iopub.status.busy": "2022-09-13T19:28:12.150764Z",
     "iopub.status.idle": "2022-09-13T19:28:12.177387Z",
     "shell.execute_reply": "2022-09-13T19:28:12.176826Z"
    },
    "papermill": {
     "duration": 0.038056,
     "end_time": "2022-09-13T19:28:12.178846",
     "exception": false,
     "start_time": "2022-09-13T19:28:12.140790",
     "status": "completed"
    },
    "tags": []
   },
   "outputs": [],
   "source": [
    "from sklearn.metrics import pairwise_distances\n",
    "from clustering.ensembles.utils import generate_ensemble"
   ]
  },
  {
   "cell_type": "code",
   "execution_count": 22,
   "id": "79c7fe87",
   "metadata": {
    "execution": {
     "iopub.execute_input": "2022-09-13T19:28:12.198311Z",
     "iopub.status.busy": "2022-09-13T19:28:12.198140Z",
     "iopub.status.idle": "2022-09-13T19:28:12.634358Z",
     "shell.execute_reply": "2022-09-13T19:28:12.633614Z"
    },
    "papermill": {
     "duration": 0.447772,
     "end_time": "2022-09-13T19:28:12.636105",
     "exception": false,
     "start_time": "2022-09-13T19:28:12.188333",
     "status": "completed"
    },
    "tags": []
   },
   "outputs": [],
   "source": [
    "data_dist = pairwise_distances(data, metric=CLUSTERING_OPTIONS[\"AFFINITY\"])"
   ]
  },
  {
   "cell_type": "code",
   "execution_count": 23,
   "id": "d2a6d0b8",
   "metadata": {
    "execution": {
     "iopub.execute_input": "2022-09-13T19:28:12.657482Z",
     "iopub.status.busy": "2022-09-13T19:28:12.656927Z",
     "iopub.status.idle": "2022-09-13T19:28:12.679829Z",
     "shell.execute_reply": "2022-09-13T19:28:12.679191Z"
    },
    "papermill": {
     "duration": 0.034846,
     "end_time": "2022-09-13T19:28:12.681727",
     "exception": false,
     "start_time": "2022-09-13T19:28:12.646881",
     "status": "completed"
    },
    "tags": []
   },
   "outputs": [
    {
     "data": {
      "text/plain": [
       "(3752, 3752)"
      ]
     },
     "execution_count": 23,
     "metadata": {},
     "output_type": "execute_result"
    }
   ],
   "source": [
    "data_dist.shape"
   ]
  },
  {
   "cell_type": "code",
   "execution_count": 24,
   "id": "c2008ceb",
   "metadata": {
    "execution": {
     "iopub.execute_input": "2022-09-13T19:28:12.702273Z",
     "iopub.status.busy": "2022-09-13T19:28:12.701747Z",
     "iopub.status.idle": "2022-09-13T19:28:13.427879Z",
     "shell.execute_reply": "2022-09-13T19:28:13.426905Z"
    },
    "papermill": {
     "duration": 0.738311,
     "end_time": "2022-09-13T19:28:13.429771",
     "exception": false,
     "start_time": "2022-09-13T19:28:12.691460",
     "status": "completed"
    },
    "tags": []
   },
   "outputs": [
    {
     "data": {
      "text/plain": [
       "count            14077504.0\n",
       "mean     44.253032582493354\n",
       "std       3.958422459243249\n",
       "min                     0.0\n",
       "25%       42.96210983704978\n",
       "50%       43.88530887125711\n",
       "75%       44.85928523200602\n",
       "max      114.65122575216462\n",
       "dtype: object"
      ]
     },
     "execution_count": 24,
     "metadata": {},
     "output_type": "execute_result"
    }
   ],
   "source": [
    "pd.Series(data_dist.flatten()).describe().apply(str)"
   ]
  },
  {
   "cell_type": "code",
   "execution_count": 25,
   "id": "e2e59656",
   "metadata": {
    "execution": {
     "iopub.execute_input": "2022-09-13T19:28:13.452157Z",
     "iopub.status.busy": "2022-09-13T19:28:13.451966Z",
     "iopub.status.idle": "2022-09-13T20:02:32.095196Z",
     "shell.execute_reply": "2022-09-13T20:02:32.094611Z"
    },
    "papermill": {
     "duration": 2058.655995,
     "end_time": "2022-09-13T20:02:32.096691",
     "exception": false,
     "start_time": "2022-09-13T19:28:13.440696",
     "status": "completed"
    },
    "tags": []
   },
   "outputs": [
    {
     "name": "stderr",
     "output_type": "stream",
     "text": [
      "100%|██████████| 296/296 [34:18<00:00,  6.95s/it]\n"
     ]
    }
   ],
   "source": [
    "ensemble = generate_ensemble(\n",
    "    data_dist,\n",
    "    CLUSTERERS,\n",
    "    attributes=CLUSTERING_ATTRIBUTES_TO_SAVE,\n",
    "    affinity_matrix=data_dist,\n",
    ")"
   ]
  },
  {
   "cell_type": "code",
   "execution_count": 26,
   "id": "0c3cba03",
   "metadata": {
    "execution": {
     "iopub.execute_input": "2022-09-13T20:02:32.140523Z",
     "iopub.status.busy": "2022-09-13T20:02:32.140333Z",
     "iopub.status.idle": "2022-09-13T20:02:32.161240Z",
     "shell.execute_reply": "2022-09-13T20:02:32.160611Z"
    },
    "papermill": {
     "duration": 0.043799,
     "end_time": "2022-09-13T20:02:32.162698",
     "exception": false,
     "start_time": "2022-09-13T20:02:32.118899",
     "status": "completed"
    },
    "tags": []
   },
   "outputs": [
    {
     "data": {
      "text/plain": [
       "(296, 3)"
      ]
     },
     "execution_count": 26,
     "metadata": {},
     "output_type": "execute_result"
    }
   ],
   "source": [
    "# the number should be close to 295 (the number of partitions generated by k-means/spectral clustering)\n",
    "ensemble.shape"
   ]
  },
  {
   "cell_type": "code",
   "execution_count": 27,
   "id": "fb85ab52",
   "metadata": {
    "execution": {
     "iopub.execute_input": "2022-09-13T20:02:32.204949Z",
     "iopub.status.busy": "2022-09-13T20:02:32.204762Z",
     "iopub.status.idle": "2022-09-13T20:02:32.234166Z",
     "shell.execute_reply": "2022-09-13T20:02:32.233576Z"
    },
    "papermill": {
     "duration": 0.051988,
     "end_time": "2022-09-13T20:02:32.235635",
     "exception": false,
     "start_time": "2022-09-13T20:02:32.183647",
     "status": "completed"
    },
    "tags": []
   },
   "outputs": [
    {
     "data": {
      "text/html": [
       "<div>\n",
       "<style scoped>\n",
       "    .dataframe tbody tr th:only-of-type {\n",
       "        vertical-align: middle;\n",
       "    }\n",
       "\n",
       "    .dataframe tbody tr th {\n",
       "        vertical-align: top;\n",
       "    }\n",
       "\n",
       "    .dataframe thead th {\n",
       "        text-align: right;\n",
       "    }\n",
       "</style>\n",
       "<table border=\"1\" class=\"dataframe\">\n",
       "  <thead>\n",
       "    <tr style=\"text-align: right;\">\n",
       "      <th></th>\n",
       "      <th>clusterer_params</th>\n",
       "      <th>partition</th>\n",
       "      <th>n_clusters</th>\n",
       "    </tr>\n",
       "    <tr>\n",
       "      <th>clusterer_id</th>\n",
       "      <th></th>\n",
       "      <th></th>\n",
       "      <th></th>\n",
       "    </tr>\n",
       "  </thead>\n",
       "  <tbody>\n",
       "    <tr>\n",
       "      <th>AgglomerativeClustering #0</th>\n",
       "      <td>{'affinity': 'euclidean', 'compute_full_tree':...</td>\n",
       "      <td>[1.0, 1.0, 1.0, 1.0, 1.0, 1.0, 1.0, 1.0, 1.0, ...</td>\n",
       "      <td>2</td>\n",
       "    </tr>\n",
       "    <tr>\n",
       "      <th>AgglomerativeClustering #1</th>\n",
       "      <td>{'affinity': 'precomputed', 'compute_full_tree...</td>\n",
       "      <td>[0.0, 0.0, 0.0, 0.0, 0.0, 0.0, 0.0, 0.0, 0.0, ...</td>\n",
       "      <td>2</td>\n",
       "    </tr>\n",
       "    <tr>\n",
       "      <th>AgglomerativeClustering #2</th>\n",
       "      <td>{'affinity': 'precomputed', 'compute_full_tree...</td>\n",
       "      <td>[0.0, 0.0, 0.0, 0.0, 0.0, 0.0, 0.0, 0.0, 0.0, ...</td>\n",
       "      <td>2</td>\n",
       "    </tr>\n",
       "    <tr>\n",
       "      <th>AgglomerativeClustering #3</th>\n",
       "      <td>{'affinity': 'precomputed', 'compute_full_tree...</td>\n",
       "      <td>[0.0, 0.0, 0.0, 0.0, 0.0, 0.0, 0.0, 0.0, 0.0, ...</td>\n",
       "      <td>2</td>\n",
       "    </tr>\n",
       "    <tr>\n",
       "      <th>AgglomerativeClustering #4</th>\n",
       "      <td>{'affinity': 'euclidean', 'compute_full_tree':...</td>\n",
       "      <td>[0.0, 0.0, 0.0, 0.0, 0.0, 0.0, 0.0, 0.0, 0.0, ...</td>\n",
       "      <td>3</td>\n",
       "    </tr>\n",
       "  </tbody>\n",
       "</table>\n",
       "</div>"
      ],
      "text/plain": [
       "                                                             clusterer_params  \\\n",
       "clusterer_id                                                                    \n",
       "AgglomerativeClustering #0  {'affinity': 'euclidean', 'compute_full_tree':...   \n",
       "AgglomerativeClustering #1  {'affinity': 'precomputed', 'compute_full_tree...   \n",
       "AgglomerativeClustering #2  {'affinity': 'precomputed', 'compute_full_tree...   \n",
       "AgglomerativeClustering #3  {'affinity': 'precomputed', 'compute_full_tree...   \n",
       "AgglomerativeClustering #4  {'affinity': 'euclidean', 'compute_full_tree':...   \n",
       "\n",
       "                                                                    partition  \\\n",
       "clusterer_id                                                                    \n",
       "AgglomerativeClustering #0  [1.0, 1.0, 1.0, 1.0, 1.0, 1.0, 1.0, 1.0, 1.0, ...   \n",
       "AgglomerativeClustering #1  [0.0, 0.0, 0.0, 0.0, 0.0, 0.0, 0.0, 0.0, 0.0, ...   \n",
       "AgglomerativeClustering #2  [0.0, 0.0, 0.0, 0.0, 0.0, 0.0, 0.0, 0.0, 0.0, ...   \n",
       "AgglomerativeClustering #3  [0.0, 0.0, 0.0, 0.0, 0.0, 0.0, 0.0, 0.0, 0.0, ...   \n",
       "AgglomerativeClustering #4  [0.0, 0.0, 0.0, 0.0, 0.0, 0.0, 0.0, 0.0, 0.0, ...   \n",
       "\n",
       "                            n_clusters  \n",
       "clusterer_id                            \n",
       "AgglomerativeClustering #0           2  \n",
       "AgglomerativeClustering #1           2  \n",
       "AgglomerativeClustering #2           2  \n",
       "AgglomerativeClustering #3           2  \n",
       "AgglomerativeClustering #4           3  "
      ]
     },
     "execution_count": 27,
     "metadata": {},
     "output_type": "execute_result"
    }
   ],
   "source": [
    "ensemble.head()"
   ]
  },
  {
   "cell_type": "code",
   "execution_count": 28,
   "id": "3918f066",
   "metadata": {
    "execution": {
     "iopub.execute_input": "2022-09-13T20:02:32.277859Z",
     "iopub.status.busy": "2022-09-13T20:02:32.277673Z",
     "iopub.status.idle": "2022-09-13T20:02:32.299425Z",
     "shell.execute_reply": "2022-09-13T20:02:32.298801Z"
    },
    "papermill": {
     "duration": 0.044574,
     "end_time": "2022-09-13T20:02:32.300931",
     "exception": false,
     "start_time": "2022-09-13T20:02:32.256357",
     "status": "completed"
    },
    "tags": []
   },
   "outputs": [
    {
     "data": {
      "text/plain": [
       "75    4\n",
       "20    4\n",
       "22    4\n",
       "23    4\n",
       "24    4\n",
       "Name: n_clusters, dtype: int64"
      ]
     },
     "execution_count": 28,
     "metadata": {},
     "output_type": "execute_result"
    }
   ],
   "source": [
    "ensemble[\"n_clusters\"].value_counts().head()"
   ]
  },
  {
   "cell_type": "code",
   "execution_count": 29,
   "id": "10139d3e",
   "metadata": {
    "execution": {
     "iopub.execute_input": "2022-09-13T20:02:32.344036Z",
     "iopub.status.busy": "2022-09-13T20:02:32.343476Z",
     "iopub.status.idle": "2022-09-13T20:02:32.366401Z",
     "shell.execute_reply": "2022-09-13T20:02:32.365799Z"
    },
    "papermill": {
     "duration": 0.04591,
     "end_time": "2022-09-13T20:02:32.367915",
     "exception": false,
     "start_time": "2022-09-13T20:02:32.322005",
     "status": "completed"
    },
    "tags": []
   },
   "outputs": [
    {
     "data": {
      "text/plain": [
       "count    296.000000\n",
       "mean      38.500000\n",
       "std       21.396182\n",
       "min        2.000000\n",
       "25%       20.000000\n",
       "50%       38.500000\n",
       "75%       57.000000\n",
       "max       75.000000\n",
       "Name: n_clusters, dtype: float64"
      ]
     },
     "metadata": {},
     "output_type": "display_data"
    }
   ],
   "source": [
    "ensemble_stats = ensemble[\"n_clusters\"].describe()\n",
    "display(ensemble_stats)"
   ]
  },
  {
   "cell_type": "markdown",
   "id": "f0e0e4ff",
   "metadata": {
    "papermill": {
     "duration": 0.020335,
     "end_time": "2022-09-13T20:02:32.409497",
     "exception": false,
     "start_time": "2022-09-13T20:02:32.389162",
     "status": "completed"
    },
    "tags": []
   },
   "source": [
    "## Testing"
   ]
  },
  {
   "cell_type": "code",
   "execution_count": 30,
   "id": "761ee0a2",
   "metadata": {
    "execution": {
     "iopub.execute_input": "2022-09-13T20:02:32.451094Z",
     "iopub.status.busy": "2022-09-13T20:02:32.450903Z",
     "iopub.status.idle": "2022-09-13T20:02:32.470388Z",
     "shell.execute_reply": "2022-09-13T20:02:32.469803Z"
    },
    "papermill": {
     "duration": 0.041939,
     "end_time": "2022-09-13T20:02:32.472001",
     "exception": false,
     "start_time": "2022-09-13T20:02:32.430062",
     "status": "completed"
    },
    "tags": []
   },
   "outputs": [],
   "source": [
    "assert ensemble_stats[\"min\"] > 1"
   ]
  },
  {
   "cell_type": "code",
   "execution_count": 31,
   "id": "f66f0512",
   "metadata": {
    "execution": {
     "iopub.execute_input": "2022-09-13T20:02:32.514795Z",
     "iopub.status.busy": "2022-09-13T20:02:32.514607Z",
     "iopub.status.idle": "2022-09-13T20:02:32.534396Z",
     "shell.execute_reply": "2022-09-13T20:02:32.533812Z"
    },
    "papermill": {
     "duration": 0.042717,
     "end_time": "2022-09-13T20:02:32.535952",
     "exception": false,
     "start_time": "2022-09-13T20:02:32.493235",
     "status": "completed"
    },
    "tags": []
   },
   "outputs": [],
   "source": [
    "assert not ensemble[\"n_clusters\"].isna().any()"
   ]
  },
  {
   "cell_type": "code",
   "execution_count": 32,
   "id": "bbe90764",
   "metadata": {
    "execution": {
     "iopub.execute_input": "2022-09-13T20:02:32.579007Z",
     "iopub.status.busy": "2022-09-13T20:02:32.578823Z",
     "iopub.status.idle": "2022-09-13T20:02:32.598521Z",
     "shell.execute_reply": "2022-09-13T20:02:32.597925Z"
    },
    "papermill": {
     "duration": 0.042732,
     "end_time": "2022-09-13T20:02:32.600084",
     "exception": false,
     "start_time": "2022-09-13T20:02:32.557352",
     "status": "completed"
    },
    "tags": []
   },
   "outputs": [],
   "source": [
    "assert ensemble.shape[0] == len(CLUSTERERS)"
   ]
  },
  {
   "cell_type": "code",
   "execution_count": 33,
   "id": "8d8de903",
   "metadata": {
    "execution": {
     "iopub.execute_input": "2022-09-13T20:02:32.642708Z",
     "iopub.status.busy": "2022-09-13T20:02:32.642524Z",
     "iopub.status.idle": "2022-09-13T20:02:32.681407Z",
     "shell.execute_reply": "2022-09-13T20:02:32.680874Z"
    },
    "papermill": {
     "duration": 0.061783,
     "end_time": "2022-09-13T20:02:32.682962",
     "exception": false,
     "start_time": "2022-09-13T20:02:32.621179",
     "status": "completed"
    },
    "tags": []
   },
   "outputs": [],
   "source": [
    "# all partitions have the right size\n",
    "assert np.all(\n",
    "    [part[\"partition\"].shape[0] == data.shape[0] for idx, part in ensemble.iterrows()]\n",
    ")"
   ]
  },
  {
   "cell_type": "code",
   "execution_count": 34,
   "id": "cb4156be",
   "metadata": {
    "execution": {
     "iopub.execute_input": "2022-09-13T20:02:32.725192Z",
     "iopub.status.busy": "2022-09-13T20:02:32.725010Z",
     "iopub.status.idle": "2022-09-13T20:02:32.767158Z",
     "shell.execute_reply": "2022-09-13T20:02:32.766619Z"
    },
    "papermill": {
     "duration": 0.065148,
     "end_time": "2022-09-13T20:02:32.768827",
     "exception": false,
     "start_time": "2022-09-13T20:02:32.703679",
     "status": "completed"
    },
    "tags": []
   },
   "outputs": [],
   "source": [
    "# no partition has negative clusters (noisy points)\n",
    "assert not np.any([(part[\"partition\"] < 0).any() for idx, part in ensemble.iterrows()])"
   ]
  },
  {
   "cell_type": "markdown",
   "id": "328d1bce-1a66-45c7-96ce-43378be06284",
   "metadata": {
    "papermill": {
     "duration": 0.02172,
     "end_time": "2022-09-13T20:02:32.811319",
     "exception": false,
     "start_time": "2022-09-13T20:02:32.789599",
     "status": "completed"
    },
    "tags": []
   },
   "source": [
    "## Add clustering quality measures"
   ]
  },
  {
   "cell_type": "code",
   "execution_count": 35,
   "id": "159e339e-14e3-4bb9-8ab4-f71e166678eb",
   "metadata": {
    "execution": {
     "iopub.execute_input": "2022-09-13T20:02:32.856101Z",
     "iopub.status.busy": "2022-09-13T20:02:32.855920Z",
     "iopub.status.idle": "2022-09-13T20:02:32.874296Z",
     "shell.execute_reply": "2022-09-13T20:02:32.873791Z"
    },
    "papermill": {
     "duration": 0.041581,
     "end_time": "2022-09-13T20:02:32.875751",
     "exception": false,
     "start_time": "2022-09-13T20:02:32.834170",
     "status": "completed"
    },
    "tags": []
   },
   "outputs": [],
   "source": [
    "from sklearn.metrics import calinski_harabasz_score"
   ]
  },
  {
   "cell_type": "code",
   "execution_count": 36,
   "id": "f9e9a3f0-751a-498c-ae20-65cac607d783",
   "metadata": {
    "execution": {
     "iopub.execute_input": "2022-09-13T20:02:32.915212Z",
     "iopub.status.busy": "2022-09-13T20:02:32.914521Z",
     "iopub.status.idle": "2022-09-13T20:02:43.452835Z",
     "shell.execute_reply": "2022-09-13T20:02:43.452239Z"
    },
    "papermill": {
     "duration": 10.559091,
     "end_time": "2022-09-13T20:02:43.454514",
     "exception": false,
     "start_time": "2022-09-13T20:02:32.895423",
     "status": "completed"
    },
    "tags": []
   },
   "outputs": [],
   "source": [
    "ensemble = ensemble.assign(\n",
    "    ch_score=ensemble[\"partition\"].apply(lambda x: calinski_harabasz_score(data, x))\n",
    ")"
   ]
  },
  {
   "cell_type": "code",
   "execution_count": 37,
   "id": "21539397-cc67-45e0-b8ed-ca5810bde593",
   "metadata": {
    "execution": {
     "iopub.execute_input": "2022-09-13T20:02:43.495768Z",
     "iopub.status.busy": "2022-09-13T20:02:43.495602Z",
     "iopub.status.idle": "2022-09-13T20:02:43.519047Z",
     "shell.execute_reply": "2022-09-13T20:02:43.518512Z"
    },
    "papermill": {
     "duration": 0.044702,
     "end_time": "2022-09-13T20:02:43.520397",
     "exception": false,
     "start_time": "2022-09-13T20:02:43.475695",
     "status": "completed"
    },
    "tags": []
   },
   "outputs": [
    {
     "data": {
      "text/plain": [
       "(296, 4)"
      ]
     },
     "execution_count": 37,
     "metadata": {},
     "output_type": "execute_result"
    }
   ],
   "source": [
    "ensemble.shape"
   ]
  },
  {
   "cell_type": "code",
   "execution_count": 38,
   "id": "555a166b-1aec-4c86-8769-d37cd7386706",
   "metadata": {
    "execution": {
     "iopub.execute_input": "2022-09-13T20:02:43.560134Z",
     "iopub.status.busy": "2022-09-13T20:02:43.559523Z",
     "iopub.status.idle": "2022-09-13T20:02:43.585929Z",
     "shell.execute_reply": "2022-09-13T20:02:43.585511Z"
    },
    "papermill": {
     "duration": 0.04743,
     "end_time": "2022-09-13T20:02:43.587221",
     "exception": false,
     "start_time": "2022-09-13T20:02:43.539791",
     "status": "completed"
    },
    "tags": []
   },
   "outputs": [
    {
     "data": {
      "text/html": [
       "<div>\n",
       "<style scoped>\n",
       "    .dataframe tbody tr th:only-of-type {\n",
       "        vertical-align: middle;\n",
       "    }\n",
       "\n",
       "    .dataframe tbody tr th {\n",
       "        vertical-align: top;\n",
       "    }\n",
       "\n",
       "    .dataframe thead th {\n",
       "        text-align: right;\n",
       "    }\n",
       "</style>\n",
       "<table border=\"1\" class=\"dataframe\">\n",
       "  <thead>\n",
       "    <tr style=\"text-align: right;\">\n",
       "      <th></th>\n",
       "      <th>clusterer_params</th>\n",
       "      <th>partition</th>\n",
       "      <th>n_clusters</th>\n",
       "      <th>ch_score</th>\n",
       "    </tr>\n",
       "    <tr>\n",
       "      <th>clusterer_id</th>\n",
       "      <th></th>\n",
       "      <th></th>\n",
       "      <th></th>\n",
       "      <th></th>\n",
       "    </tr>\n",
       "  </thead>\n",
       "  <tbody>\n",
       "    <tr>\n",
       "      <th>AgglomerativeClustering #0</th>\n",
       "      <td>{'affinity': 'euclidean', 'compute_full_tree':...</td>\n",
       "      <td>[1.0, 1.0, 1.0, 1.0, 1.0, 1.0, 1.0, 1.0, 1.0, ...</td>\n",
       "      <td>2</td>\n",
       "      <td>1.953260</td>\n",
       "    </tr>\n",
       "    <tr>\n",
       "      <th>AgglomerativeClustering #1</th>\n",
       "      <td>{'affinity': 'precomputed', 'compute_full_tree...</td>\n",
       "      <td>[0.0, 0.0, 0.0, 0.0, 0.0, 0.0, 0.0, 0.0, 0.0, ...</td>\n",
       "      <td>2</td>\n",
       "      <td>8.158193</td>\n",
       "    </tr>\n",
       "    <tr>\n",
       "      <th>AgglomerativeClustering #2</th>\n",
       "      <td>{'affinity': 'precomputed', 'compute_full_tree...</td>\n",
       "      <td>[0.0, 0.0, 0.0, 0.0, 0.0, 0.0, 0.0, 0.0, 0.0, ...</td>\n",
       "      <td>2</td>\n",
       "      <td>8.158193</td>\n",
       "    </tr>\n",
       "    <tr>\n",
       "      <th>AgglomerativeClustering #3</th>\n",
       "      <td>{'affinity': 'precomputed', 'compute_full_tree...</td>\n",
       "      <td>[0.0, 0.0, 0.0, 0.0, 0.0, 0.0, 0.0, 0.0, 0.0, ...</td>\n",
       "      <td>2</td>\n",
       "      <td>8.158193</td>\n",
       "    </tr>\n",
       "    <tr>\n",
       "      <th>AgglomerativeClustering #4</th>\n",
       "      <td>{'affinity': 'euclidean', 'compute_full_tree':...</td>\n",
       "      <td>[0.0, 0.0, 0.0, 0.0, 0.0, 0.0, 0.0, 0.0, 0.0, ...</td>\n",
       "      <td>3</td>\n",
       "      <td>2.813778</td>\n",
       "    </tr>\n",
       "  </tbody>\n",
       "</table>\n",
       "</div>"
      ],
      "text/plain": [
       "                                                             clusterer_params  \\\n",
       "clusterer_id                                                                    \n",
       "AgglomerativeClustering #0  {'affinity': 'euclidean', 'compute_full_tree':...   \n",
       "AgglomerativeClustering #1  {'affinity': 'precomputed', 'compute_full_tree...   \n",
       "AgglomerativeClustering #2  {'affinity': 'precomputed', 'compute_full_tree...   \n",
       "AgglomerativeClustering #3  {'affinity': 'precomputed', 'compute_full_tree...   \n",
       "AgglomerativeClustering #4  {'affinity': 'euclidean', 'compute_full_tree':...   \n",
       "\n",
       "                                                                    partition  \\\n",
       "clusterer_id                                                                    \n",
       "AgglomerativeClustering #0  [1.0, 1.0, 1.0, 1.0, 1.0, 1.0, 1.0, 1.0, 1.0, ...   \n",
       "AgglomerativeClustering #1  [0.0, 0.0, 0.0, 0.0, 0.0, 0.0, 0.0, 0.0, 0.0, ...   \n",
       "AgglomerativeClustering #2  [0.0, 0.0, 0.0, 0.0, 0.0, 0.0, 0.0, 0.0, 0.0, ...   \n",
       "AgglomerativeClustering #3  [0.0, 0.0, 0.0, 0.0, 0.0, 0.0, 0.0, 0.0, 0.0, ...   \n",
       "AgglomerativeClustering #4  [0.0, 0.0, 0.0, 0.0, 0.0, 0.0, 0.0, 0.0, 0.0, ...   \n",
       "\n",
       "                            n_clusters  ch_score  \n",
       "clusterer_id                                      \n",
       "AgglomerativeClustering #0           2  1.953260  \n",
       "AgglomerativeClustering #1           2  8.158193  \n",
       "AgglomerativeClustering #2           2  8.158193  \n",
       "AgglomerativeClustering #3           2  8.158193  \n",
       "AgglomerativeClustering #4           3  2.813778  "
      ]
     },
     "execution_count": 38,
     "metadata": {},
     "output_type": "execute_result"
    }
   ],
   "source": [
    "ensemble.head()"
   ]
  },
  {
   "cell_type": "markdown",
   "id": "d1571fcd",
   "metadata": {
    "papermill": {
     "duration": 0.019189,
     "end_time": "2022-09-13T20:02:43.625854",
     "exception": false,
     "start_time": "2022-09-13T20:02:43.606665",
     "status": "completed"
    },
    "tags": []
   },
   "source": [
    "## Save"
   ]
  },
  {
   "cell_type": "code",
   "execution_count": 39,
   "id": "1eac08b4",
   "metadata": {
    "execution": {
     "iopub.execute_input": "2022-09-13T20:02:43.665137Z",
     "iopub.status.busy": "2022-09-13T20:02:43.664438Z",
     "iopub.status.idle": "2022-09-13T20:02:43.685588Z",
     "shell.execute_reply": "2022-09-13T20:02:43.684327Z"
    },
    "papermill": {
     "duration": 0.041783,
     "end_time": "2022-09-13T20:02:43.686820",
     "exception": false,
     "start_time": "2022-09-13T20:02:43.645037",
     "status": "completed"
    },
    "tags": []
   },
   "outputs": [
    {
     "data": {
      "text/plain": [
       "PosixPath('/opt/data/results/clustering/null_sims/runs/z_score_std-projection-smultixcan-efo_partial-mashr-zscores/AgglomerativeClustering-AFFINITY_euclidean-K_MAX_75-K_MIN_2.pkl')"
      ]
     },
     "metadata": {},
     "output_type": "display_data"
    }
   ],
   "source": [
    "output_filename = Path(\n",
    "    RESULTS_DIR,\n",
    "    generate_result_set_name(\n",
    "        {k: v for k, v in CLUSTERING_OPTIONS.items() if k != \"LINKAGE\"},\n",
    "        prefix=f\"{clustering_method_name}-\",\n",
    "        suffix=\".pkl\",\n",
    "    ),\n",
    ").resolve()\n",
    "display(output_filename)"
   ]
  },
  {
   "cell_type": "code",
   "execution_count": 40,
   "id": "f5e2c9ac",
   "metadata": {
    "execution": {
     "iopub.execute_input": "2022-09-13T20:02:43.726934Z",
     "iopub.status.busy": "2022-09-13T20:02:43.726492Z",
     "iopub.status.idle": "2022-09-13T20:02:43.789202Z",
     "shell.execute_reply": "2022-09-13T20:02:43.788583Z"
    },
    "papermill": {
     "duration": 0.084367,
     "end_time": "2022-09-13T20:02:43.790779",
     "exception": false,
     "start_time": "2022-09-13T20:02:43.706412",
     "status": "completed"
    },
    "tags": []
   },
   "outputs": [],
   "source": [
    "ensemble.to_pickle(output_filename)"
   ]
  },
  {
   "cell_type": "markdown",
   "id": "89f0c69b-2db4-487c-9966-6448c13c097e",
   "metadata": {
    "papermill": {
     "duration": 0.019312,
     "end_time": "2022-09-13T20:02:43.829728",
     "exception": false,
     "start_time": "2022-09-13T20:02:43.810416",
     "status": "completed"
    },
    "tags": []
   },
   "source": [
    "# Cluster quality"
   ]
  },
  {
   "cell_type": "code",
   "execution_count": 41,
   "id": "8441d1a4-f48a-4cf3-9b12-8adf1989c959",
   "metadata": {
    "execution": {
     "iopub.execute_input": "2022-09-13T20:02:43.895216Z",
     "iopub.status.busy": "2022-09-13T20:02:43.894753Z",
     "iopub.status.idle": "2022-09-13T20:02:43.922094Z",
     "shell.execute_reply": "2022-09-13T20:02:43.921584Z"
    },
    "papermill": {
     "duration": 0.074893,
     "end_time": "2022-09-13T20:02:43.923464",
     "exception": false,
     "start_time": "2022-09-13T20:02:43.848571",
     "status": "completed"
    },
    "tags": []
   },
   "outputs": [
    {
     "data": {
      "text/html": [
       "<div>\n",
       "<style scoped>\n",
       "    .dataframe tbody tr th:only-of-type {\n",
       "        vertical-align: middle;\n",
       "    }\n",
       "\n",
       "    .dataframe tbody tr th {\n",
       "        vertical-align: top;\n",
       "    }\n",
       "\n",
       "    .dataframe thead th {\n",
       "        text-align: right;\n",
       "    }\n",
       "</style>\n",
       "<table border=\"1\" class=\"dataframe\">\n",
       "  <thead>\n",
       "    <tr style=\"text-align: right;\">\n",
       "      <th></th>\n",
       "      <th>ch_score</th>\n",
       "    </tr>\n",
       "    <tr>\n",
       "      <th>n_clusters</th>\n",
       "      <th></th>\n",
       "    </tr>\n",
       "  </thead>\n",
       "  <tbody>\n",
       "    <tr>\n",
       "      <th>2</th>\n",
       "      <td>6.606960</td>\n",
       "    </tr>\n",
       "    <tr>\n",
       "      <th>3</th>\n",
       "      <td>6.063295</td>\n",
       "    </tr>\n",
       "    <tr>\n",
       "      <th>4</th>\n",
       "      <td>5.310389</td>\n",
       "    </tr>\n",
       "    <tr>\n",
       "      <th>5</th>\n",
       "      <td>4.928258</td>\n",
       "    </tr>\n",
       "    <tr>\n",
       "      <th>6</th>\n",
       "      <td>4.895411</td>\n",
       "    </tr>\n",
       "    <tr>\n",
       "      <th>7</th>\n",
       "      <td>4.628418</td>\n",
       "    </tr>\n",
       "    <tr>\n",
       "      <th>8</th>\n",
       "      <td>4.419210</td>\n",
       "    </tr>\n",
       "    <tr>\n",
       "      <th>9</th>\n",
       "      <td>4.335187</td>\n",
       "    </tr>\n",
       "    <tr>\n",
       "      <th>10</th>\n",
       "      <td>4.158273</td>\n",
       "    </tr>\n",
       "    <tr>\n",
       "      <th>11</th>\n",
       "      <td>4.023788</td>\n",
       "    </tr>\n",
       "    <tr>\n",
       "      <th>12</th>\n",
       "      <td>3.933157</td>\n",
       "    </tr>\n",
       "    <tr>\n",
       "      <th>13</th>\n",
       "      <td>3.802608</td>\n",
       "    </tr>\n",
       "    <tr>\n",
       "      <th>14</th>\n",
       "      <td>3.709691</td>\n",
       "    </tr>\n",
       "    <tr>\n",
       "      <th>15</th>\n",
       "      <td>3.633875</td>\n",
       "    </tr>\n",
       "    <tr>\n",
       "      <th>16</th>\n",
       "      <td>3.596930</td>\n",
       "    </tr>\n",
       "    <tr>\n",
       "      <th>17</th>\n",
       "      <td>3.615342</td>\n",
       "    </tr>\n",
       "    <tr>\n",
       "      <th>18</th>\n",
       "      <td>3.547893</td>\n",
       "    </tr>\n",
       "    <tr>\n",
       "      <th>19</th>\n",
       "      <td>3.504964</td>\n",
       "    </tr>\n",
       "    <tr>\n",
       "      <th>20</th>\n",
       "      <td>3.444807</td>\n",
       "    </tr>\n",
       "    <tr>\n",
       "      <th>21</th>\n",
       "      <td>3.394936</td>\n",
       "    </tr>\n",
       "    <tr>\n",
       "      <th>22</th>\n",
       "      <td>3.393169</td>\n",
       "    </tr>\n",
       "    <tr>\n",
       "      <th>23</th>\n",
       "      <td>3.337726</td>\n",
       "    </tr>\n",
       "    <tr>\n",
       "      <th>24</th>\n",
       "      <td>3.293775</td>\n",
       "    </tr>\n",
       "    <tr>\n",
       "      <th>25</th>\n",
       "      <td>3.241999</td>\n",
       "    </tr>\n",
       "    <tr>\n",
       "      <th>26</th>\n",
       "      <td>3.201729</td>\n",
       "    </tr>\n",
       "    <tr>\n",
       "      <th>27</th>\n",
       "      <td>3.170595</td>\n",
       "    </tr>\n",
       "    <tr>\n",
       "      <th>28</th>\n",
       "      <td>3.137619</td>\n",
       "    </tr>\n",
       "    <tr>\n",
       "      <th>29</th>\n",
       "      <td>3.103090</td>\n",
       "    </tr>\n",
       "    <tr>\n",
       "      <th>30</th>\n",
       "      <td>3.071126</td>\n",
       "    </tr>\n",
       "    <tr>\n",
       "      <th>31</th>\n",
       "      <td>3.037842</td>\n",
       "    </tr>\n",
       "    <tr>\n",
       "      <th>32</th>\n",
       "      <td>3.014131</td>\n",
       "    </tr>\n",
       "    <tr>\n",
       "      <th>33</th>\n",
       "      <td>3.000658</td>\n",
       "    </tr>\n",
       "    <tr>\n",
       "      <th>34</th>\n",
       "      <td>2.969473</td>\n",
       "    </tr>\n",
       "    <tr>\n",
       "      <th>35</th>\n",
       "      <td>2.962332</td>\n",
       "    </tr>\n",
       "    <tr>\n",
       "      <th>36</th>\n",
       "      <td>2.959138</td>\n",
       "    </tr>\n",
       "    <tr>\n",
       "      <th>37</th>\n",
       "      <td>2.934218</td>\n",
       "    </tr>\n",
       "    <tr>\n",
       "      <th>38</th>\n",
       "      <td>2.911089</td>\n",
       "    </tr>\n",
       "    <tr>\n",
       "      <th>39</th>\n",
       "      <td>2.883441</td>\n",
       "    </tr>\n",
       "    <tr>\n",
       "      <th>40</th>\n",
       "      <td>2.861164</td>\n",
       "    </tr>\n",
       "    <tr>\n",
       "      <th>41</th>\n",
       "      <td>2.846755</td>\n",
       "    </tr>\n",
       "    <tr>\n",
       "      <th>42</th>\n",
       "      <td>2.824298</td>\n",
       "    </tr>\n",
       "    <tr>\n",
       "      <th>43</th>\n",
       "      <td>2.819568</td>\n",
       "    </tr>\n",
       "    <tr>\n",
       "      <th>44</th>\n",
       "      <td>2.802520</td>\n",
       "    </tr>\n",
       "    <tr>\n",
       "      <th>45</th>\n",
       "      <td>2.789631</td>\n",
       "    </tr>\n",
       "    <tr>\n",
       "      <th>46</th>\n",
       "      <td>2.770366</td>\n",
       "    </tr>\n",
       "    <tr>\n",
       "      <th>47</th>\n",
       "      <td>2.752816</td>\n",
       "    </tr>\n",
       "    <tr>\n",
       "      <th>48</th>\n",
       "      <td>2.743752</td>\n",
       "    </tr>\n",
       "    <tr>\n",
       "      <th>49</th>\n",
       "      <td>2.720874</td>\n",
       "    </tr>\n",
       "    <tr>\n",
       "      <th>50</th>\n",
       "      <td>2.699490</td>\n",
       "    </tr>\n",
       "    <tr>\n",
       "      <th>51</th>\n",
       "      <td>2.683477</td>\n",
       "    </tr>\n",
       "    <tr>\n",
       "      <th>52</th>\n",
       "      <td>2.681091</td>\n",
       "    </tr>\n",
       "    <tr>\n",
       "      <th>53</th>\n",
       "      <td>2.665785</td>\n",
       "    </tr>\n",
       "    <tr>\n",
       "      <th>54</th>\n",
       "      <td>2.660382</td>\n",
       "    </tr>\n",
       "    <tr>\n",
       "      <th>55</th>\n",
       "      <td>2.654002</td>\n",
       "    </tr>\n",
       "    <tr>\n",
       "      <th>56</th>\n",
       "      <td>2.640423</td>\n",
       "    </tr>\n",
       "    <tr>\n",
       "      <th>57</th>\n",
       "      <td>2.623306</td>\n",
       "    </tr>\n",
       "    <tr>\n",
       "      <th>58</th>\n",
       "      <td>2.618428</td>\n",
       "    </tr>\n",
       "    <tr>\n",
       "      <th>59</th>\n",
       "      <td>2.609615</td>\n",
       "    </tr>\n",
       "    <tr>\n",
       "      <th>60</th>\n",
       "      <td>2.597777</td>\n",
       "    </tr>\n",
       "    <tr>\n",
       "      <th>61</th>\n",
       "      <td>2.587269</td>\n",
       "    </tr>\n",
       "    <tr>\n",
       "      <th>62</th>\n",
       "      <td>2.581342</td>\n",
       "    </tr>\n",
       "    <tr>\n",
       "      <th>63</th>\n",
       "      <td>2.567287</td>\n",
       "    </tr>\n",
       "    <tr>\n",
       "      <th>64</th>\n",
       "      <td>2.560253</td>\n",
       "    </tr>\n",
       "    <tr>\n",
       "      <th>65</th>\n",
       "      <td>2.549776</td>\n",
       "    </tr>\n",
       "    <tr>\n",
       "      <th>66</th>\n",
       "      <td>2.544094</td>\n",
       "    </tr>\n",
       "    <tr>\n",
       "      <th>67</th>\n",
       "      <td>2.538015</td>\n",
       "    </tr>\n",
       "    <tr>\n",
       "      <th>68</th>\n",
       "      <td>2.525222</td>\n",
       "    </tr>\n",
       "    <tr>\n",
       "      <th>69</th>\n",
       "      <td>2.511460</td>\n",
       "    </tr>\n",
       "    <tr>\n",
       "      <th>70</th>\n",
       "      <td>2.500221</td>\n",
       "    </tr>\n",
       "    <tr>\n",
       "      <th>71</th>\n",
       "      <td>2.494450</td>\n",
       "    </tr>\n",
       "    <tr>\n",
       "      <th>72</th>\n",
       "      <td>2.488121</td>\n",
       "    </tr>\n",
       "    <tr>\n",
       "      <th>73</th>\n",
       "      <td>2.481890</td>\n",
       "    </tr>\n",
       "    <tr>\n",
       "      <th>74</th>\n",
       "      <td>2.471117</td>\n",
       "    </tr>\n",
       "    <tr>\n",
       "      <th>75</th>\n",
       "      <td>2.463192</td>\n",
       "    </tr>\n",
       "  </tbody>\n",
       "</table>\n",
       "</div>"
      ],
      "text/plain": [
       "            ch_score\n",
       "n_clusters          \n",
       "2           6.606960\n",
       "3           6.063295\n",
       "4           5.310389\n",
       "5           4.928258\n",
       "6           4.895411\n",
       "7           4.628418\n",
       "8           4.419210\n",
       "9           4.335187\n",
       "10          4.158273\n",
       "11          4.023788\n",
       "12          3.933157\n",
       "13          3.802608\n",
       "14          3.709691\n",
       "15          3.633875\n",
       "16          3.596930\n",
       "17          3.615342\n",
       "18          3.547893\n",
       "19          3.504964\n",
       "20          3.444807\n",
       "21          3.394936\n",
       "22          3.393169\n",
       "23          3.337726\n",
       "24          3.293775\n",
       "25          3.241999\n",
       "26          3.201729\n",
       "27          3.170595\n",
       "28          3.137619\n",
       "29          3.103090\n",
       "30          3.071126\n",
       "31          3.037842\n",
       "32          3.014131\n",
       "33          3.000658\n",
       "34          2.969473\n",
       "35          2.962332\n",
       "36          2.959138\n",
       "37          2.934218\n",
       "38          2.911089\n",
       "39          2.883441\n",
       "40          2.861164\n",
       "41          2.846755\n",
       "42          2.824298\n",
       "43          2.819568\n",
       "44          2.802520\n",
       "45          2.789631\n",
       "46          2.770366\n",
       "47          2.752816\n",
       "48          2.743752\n",
       "49          2.720874\n",
       "50          2.699490\n",
       "51          2.683477\n",
       "52          2.681091\n",
       "53          2.665785\n",
       "54          2.660382\n",
       "55          2.654002\n",
       "56          2.640423\n",
       "57          2.623306\n",
       "58          2.618428\n",
       "59          2.609615\n",
       "60          2.597777\n",
       "61          2.587269\n",
       "62          2.581342\n",
       "63          2.567287\n",
       "64          2.560253\n",
       "65          2.549776\n",
       "66          2.544094\n",
       "67          2.538015\n",
       "68          2.525222\n",
       "69          2.511460\n",
       "70          2.500221\n",
       "71          2.494450\n",
       "72          2.488121\n",
       "73          2.481890\n",
       "74          2.471117\n",
       "75          2.463192"
      ]
     },
     "metadata": {},
     "output_type": "display_data"
    }
   ],
   "source": [
    "with pd.option_context(\"display.max_rows\", None, \"display.max_columns\", None):\n",
    "    _df = ensemble.groupby([\"n_clusters\"]).mean()\n",
    "    display(_df)"
   ]
  },
  {
   "cell_type": "code",
   "execution_count": 42,
   "id": "e500c731-76e0-4474-b265-7a688b47d23e",
   "metadata": {
    "execution": {
     "iopub.execute_input": "2022-09-13T20:02:43.964336Z",
     "iopub.status.busy": "2022-09-13T20:02:43.963855Z",
     "iopub.status.idle": "2022-09-13T20:02:47.761345Z",
     "shell.execute_reply": "2022-09-13T20:02:47.760833Z"
    },
    "papermill": {
     "duration": 3.819252,
     "end_time": "2022-09-13T20:02:47.762885",
     "exception": false,
     "start_time": "2022-09-13T20:02:43.943633",
     "status": "completed"
    },
    "tags": []
   },
   "outputs": [
    {
     "data": {
      "image/png": "[encoded data removed]",
      "text/plain": [
       "<Figure size 1008x432 with 1 Axes>"
      ]
     },
     "metadata": {},
     "output_type": "display_data"
    }
   ],
   "source": [
    "with sns.plotting_context(\"talk\", font_scale=0.75), sns.axes_style(\n",
    "    \"whitegrid\", {\"grid.linestyle\": \"--\"}\n",
    "):\n",
    "    fig = plt.figure(figsize=(14, 6))\n",
    "    ax = sns.pointplot(data=ensemble, x=\"n_clusters\", y=\"ch_score\")\n",
    "    ax.set_ylabel(\"Calinski-Harabasz index\")\n",
    "    ax.set_xlabel(\"Number of clusters ($k$)\")\n",
    "    ax.set_xticklabels(ax.get_xticklabels(), rotation=45)\n",
    "    plt.grid(True)\n",
    "    plt.tight_layout()"
   ]
  },
  {
   "cell_type": "markdown",
   "id": "07d30580-9ff5-4276-a0a6-edd157f18ce5",
   "metadata": {
    "papermill": {
     "duration": 0.01987,
     "end_time": "2022-09-13T20:02:47.803034",
     "exception": false,
     "start_time": "2022-09-13T20:02:47.783164",
     "status": "completed"
    },
    "tags": []
   },
   "source": [
    "# Stability"
   ]
  },
  {
   "cell_type": "markdown",
   "id": "ec541c9a-d0f6-492b-a217-0c9e720cd700",
   "metadata": {
    "papermill": {
     "duration": 0.019751,
     "end_time": "2022-09-13T20:02:47.843259",
     "exception": false,
     "start_time": "2022-09-13T20:02:47.823508",
     "status": "completed"
    },
    "tags": []
   },
   "source": [
    "## Group ensemble by n_clusters"
   ]
  },
  {
   "cell_type": "code",
   "execution_count": 43,
   "id": "be312999-42d5-458e-9ac8-4db0be07f260",
   "metadata": {
    "execution": {
     "iopub.execute_input": "2022-09-13T20:02:47.885530Z",
     "iopub.status.busy": "2022-09-13T20:02:47.885347Z",
     "iopub.status.idle": "2022-09-13T20:02:47.921905Z",
     "shell.execute_reply": "2022-09-13T20:02:47.921423Z"
    },
    "papermill": {
     "duration": 0.059953,
     "end_time": "2022-09-13T20:02:47.923441",
     "exception": false,
     "start_time": "2022-09-13T20:02:47.863488",
     "status": "completed"
    },
    "tags": []
   },
   "outputs": [],
   "source": [
    "parts = ensemble.groupby(\"n_clusters\").apply(\n",
    "    lambda x: np.concatenate(x[\"partition\"].apply(lambda x: x.reshape(1, -1)), axis=0)\n",
    ")"
   ]
  },
  {
   "cell_type": "code",
   "execution_count": 44,
   "id": "28c175e2-ac09-465e-b2af-6872e50f22c5",
   "metadata": {
    "execution": {
     "iopub.execute_input": "2022-09-13T20:02:47.966246Z",
     "iopub.status.busy": "2022-09-13T20:02:47.966060Z",
     "iopub.status.idle": "2022-09-13T20:02:47.999876Z",
     "shell.execute_reply": "2022-09-13T20:02:47.999257Z"
    },
    "papermill": {
     "duration": 0.05768,
     "end_time": "2022-09-13T20:02:48.001404",
     "exception": false,
     "start_time": "2022-09-13T20:02:47.943724",
     "status": "completed"
    },
    "tags": []
   },
   "outputs": [
    {
     "data": {
      "text/plain": [
       "n_clusters\n",
       "2    [[1.0, 1.0, 1.0, 1.0, 1.0, 1.0, 1.0, 1.0, 1.0,...\n",
       "3    [[0.0, 0.0, 0.0, 0.0, 0.0, 0.0, 0.0, 0.0, 0.0,...\n",
       "4    [[1.0, 1.0, 1.0, 1.0, 1.0, 1.0, 1.0, 1.0, 1.0,...\n",
       "5    [[1.0, 1.0, 1.0, 1.0, 1.0, 1.0, 1.0, 1.0, 1.0,...\n",
       "6    [[0.0, 0.0, 0.0, 0.0, 0.0, 0.0, 0.0, 0.0, 0.0,...\n",
       "dtype: object"
      ]
     },
     "execution_count": 44,
     "metadata": {},
     "output_type": "execute_result"
    }
   ],
   "source": [
    "parts.head()"
   ]
  },
  {
   "cell_type": "code",
   "execution_count": 45,
   "id": "6462ff3f-ce3e-4a62-8ba7-21f8744a4b3f",
   "metadata": {
    "execution": {
     "iopub.execute_input": "2022-09-13T20:02:48.055284Z",
     "iopub.status.busy": "2022-09-13T20:02:48.055082Z",
     "iopub.status.idle": "2022-09-13T20:02:48.079089Z",
     "shell.execute_reply": "2022-09-13T20:02:48.078352Z"
    },
    "papermill": {
     "duration": 0.052715,
     "end_time": "2022-09-13T20:02:48.080837",
     "exception": false,
     "start_time": "2022-09-13T20:02:48.028122",
     "status": "completed"
    },
    "tags": []
   },
   "outputs": [],
   "source": [
    "assert np.all(\n",
    "    [\n",
    "        parts.loc[k].shape == (len(CLUSTERING_OPTIONS[\"LINKAGE\"]), data.shape[0])\n",
    "        for k in parts.index\n",
    "    ]\n",
    ")"
   ]
  },
  {
   "cell_type": "markdown",
   "id": "b2c5f0d2-6f10-460d-9caa-09517a2a6819",
   "metadata": {
    "papermill": {
     "duration": 0.026529,
     "end_time": "2022-09-13T20:02:48.134545",
     "exception": false,
     "start_time": "2022-09-13T20:02:48.108016",
     "status": "completed"
    },
    "tags": []
   },
   "source": [
    "## Compute stability"
   ]
  },
  {
   "cell_type": "code",
   "execution_count": 46,
   "id": "9d1325b0-c35d-4bd8-bf89-01dd4d2cc7a9",
   "metadata": {
    "execution": {
     "iopub.execute_input": "2022-09-13T20:02:48.189337Z",
     "iopub.status.busy": "2022-09-13T20:02:48.189124Z",
     "iopub.status.idle": "2022-09-13T20:02:48.211292Z",
     "shell.execute_reply": "2022-09-13T20:02:48.210673Z"
    },
    "papermill": {
     "duration": 0.051923,
     "end_time": "2022-09-13T20:02:48.213028",
     "exception": false,
     "start_time": "2022-09-13T20:02:48.161105",
     "status": "completed"
    },
    "tags": []
   },
   "outputs": [],
   "source": [
    "from sklearn.metrics import adjusted_rand_score as ari\n",
    "from scipy.spatial.distance import pdist"
   ]
  },
  {
   "cell_type": "code",
   "execution_count": 47,
   "id": "bd4dbefe-6935-4443-9880-7881f5ecaa56",
   "metadata": {
    "execution": {
     "iopub.execute_input": "2022-09-13T20:02:48.262535Z",
     "iopub.status.busy": "2022-09-13T20:02:48.262360Z",
     "iopub.status.idle": "2022-09-13T20:02:48.735794Z",
     "shell.execute_reply": "2022-09-13T20:02:48.735091Z"
    },
    "papermill": {
     "duration": 0.499029,
     "end_time": "2022-09-13T20:02:48.737312",
     "exception": false,
     "start_time": "2022-09-13T20:02:48.238283",
     "status": "completed"
    },
    "tags": []
   },
   "outputs": [],
   "source": [
    "parts_ari = pd.Series(\n",
    "    {k: pdist(parts.loc[k], metric=ari) for k in parts.index}, name=\"k\"\n",
    ")"
   ]
  },
  {
   "cell_type": "code",
   "execution_count": 48,
   "id": "1cda5ab7-3ddd-4e92-9b1f-fd50cc11217f",
   "metadata": {
    "execution": {
     "iopub.execute_input": "2022-09-13T20:02:48.780482Z",
     "iopub.status.busy": "2022-09-13T20:02:48.780293Z",
     "iopub.status.idle": "2022-09-13T20:02:48.803273Z",
     "shell.execute_reply": "2022-09-13T20:02:48.802746Z"
    },
    "papermill": {
     "duration": 0.046295,
     "end_time": "2022-09-13T20:02:48.804713",
     "exception": false,
     "start_time": "2022-09-13T20:02:48.758418",
     "status": "completed"
    },
    "tags": []
   },
   "outputs": [
    {
     "data": {
      "text/plain": [
       "3     0.512616\n",
       "5     0.511281\n",
       "4     0.508515\n",
       "2     0.506142\n",
       "12    0.502786\n",
       "8     0.502636\n",
       "10    0.485902\n",
       "9     0.483473\n",
       "7     0.476849\n",
       "11    0.469071\n",
       "23    0.468118\n",
       "74    0.460525\n",
       "63    0.460259\n",
       "75    0.458492\n",
       "22    0.458478\n",
       "Name: k, dtype: float64"
      ]
     },
     "metadata": {},
     "output_type": "display_data"
    }
   ],
   "source": [
    "parts_ari_stability = parts_ari.apply(lambda x: x.mean())\n",
    "display(parts_ari_stability.sort_values(ascending=False).head(15))"
   ]
  },
  {
   "cell_type": "code",
   "execution_count": 49,
   "id": "76d4edf3-18ef-44be-9f2e-2674a201a6f8",
   "metadata": {
    "execution": {
     "iopub.execute_input": "2022-09-13T20:02:48.850491Z",
     "iopub.status.busy": "2022-09-13T20:02:48.849766Z",
     "iopub.status.idle": "2022-09-13T20:02:48.868844Z",
     "shell.execute_reply": "2022-09-13T20:02:48.868335Z"
    },
    "papermill": {
     "duration": 0.042154,
     "end_time": "2022-09-13T20:02:48.870263",
     "exception": false,
     "start_time": "2022-09-13T20:02:48.828109",
     "status": "completed"
    },
    "tags": []
   },
   "outputs": [],
   "source": [
    "parts_ari_df = pd.DataFrame.from_records(parts_ari.tolist()).set_index(\n",
    "    parts_ari.index.copy()\n",
    ")"
   ]
  },
  {
   "cell_type": "code",
   "execution_count": 50,
   "id": "8ed06986-00ae-4748-95ac-e22d40854d79",
   "metadata": {
    "execution": {
     "iopub.execute_input": "2022-09-13T20:02:48.916410Z",
     "iopub.status.busy": "2022-09-13T20:02:48.916243Z",
     "iopub.status.idle": "2022-09-13T20:02:48.934917Z",
     "shell.execute_reply": "2022-09-13T20:02:48.934435Z"
    },
    "papermill": {
     "duration": 0.042258,
     "end_time": "2022-09-13T20:02:48.936163",
     "exception": false,
     "start_time": "2022-09-13T20:02:48.893905",
     "status": "completed"
    },
    "tags": []
   },
   "outputs": [
    {
     "data": {
      "text/plain": [
       "(74, 6)"
      ]
     },
     "execution_count": 50,
     "metadata": {},
     "output_type": "execute_result"
    }
   ],
   "source": [
    "parts_ari_df.shape"
   ]
  },
  {
   "cell_type": "code",
   "execution_count": 51,
   "id": "e7c90e3c-e1e2-45e4-b774-6b3d03f25454",
   "metadata": {
    "execution": {
     "iopub.execute_input": "2022-09-13T20:02:48.979208Z",
     "iopub.status.busy": "2022-09-13T20:02:48.978907Z",
     "iopub.status.idle": "2022-09-13T20:02:48.997227Z",
     "shell.execute_reply": "2022-09-13T20:02:48.996605Z"
    },
    "papermill": {
     "duration": 0.04157,
     "end_time": "2022-09-13T20:02:48.998645",
     "exception": false,
     "start_time": "2022-09-13T20:02:48.957075",
     "status": "completed"
    },
    "tags": []
   },
   "outputs": [],
   "source": [
    "assert (\n",
    "    int(\n",
    "        (len(CLUSTERING_OPTIONS[\"LINKAGE\"]) * (len(CLUSTERING_OPTIONS[\"LINKAGE\"]) - 1))\n",
    "        / 2\n",
    "    )\n",
    "    == parts_ari_df.shape[1]\n",
    ")"
   ]
  },
  {
   "cell_type": "code",
   "execution_count": 52,
   "id": "baeadcc4-4179-42ce-9b80-6a89b2544d0d",
   "metadata": {
    "execution": {
     "iopub.execute_input": "2022-09-13T20:02:49.042110Z",
     "iopub.status.busy": "2022-09-13T20:02:49.041771Z",
     "iopub.status.idle": "2022-09-13T20:02:49.065056Z",
     "shell.execute_reply": "2022-09-13T20:02:49.064355Z"
    },
    "papermill": {
     "duration": 0.046582,
     "end_time": "2022-09-13T20:02:49.066355",
     "exception": false,
     "start_time": "2022-09-13T20:02:49.019773",
     "status": "completed"
    },
    "tags": []
   },
   "outputs": [
    {
     "data": {
      "text/html": [
       "<div>\n",
       "<style scoped>\n",
       "    .dataframe tbody tr th:only-of-type {\n",
       "        vertical-align: middle;\n",
       "    }\n",
       "\n",
       "    .dataframe tbody tr th {\n",
       "        vertical-align: top;\n",
       "    }\n",
       "\n",
       "    .dataframe thead th {\n",
       "        text-align: right;\n",
       "    }\n",
       "</style>\n",
       "<table border=\"1\" class=\"dataframe\">\n",
       "  <thead>\n",
       "    <tr style=\"text-align: right;\">\n",
       "      <th></th>\n",
       "      <th>0</th>\n",
       "      <th>1</th>\n",
       "      <th>2</th>\n",
       "      <th>3</th>\n",
       "      <th>4</th>\n",
       "      <th>5</th>\n",
       "    </tr>\n",
       "  </thead>\n",
       "  <tbody>\n",
       "    <tr>\n",
       "      <th>2</th>\n",
       "      <td>0.012284</td>\n",
       "      <td>0.012284</td>\n",
       "      <td>0.012284</td>\n",
       "      <td>1.0</td>\n",
       "      <td>1.000000</td>\n",
       "      <td>1.000000</td>\n",
       "    </tr>\n",
       "    <tr>\n",
       "      <th>3</th>\n",
       "      <td>0.025232</td>\n",
       "      <td>0.025232</td>\n",
       "      <td>0.025232</td>\n",
       "      <td>1.0</td>\n",
       "      <td>1.000000</td>\n",
       "      <td>1.000000</td>\n",
       "    </tr>\n",
       "    <tr>\n",
       "      <th>4</th>\n",
       "      <td>0.017029</td>\n",
       "      <td>0.017029</td>\n",
       "      <td>0.017029</td>\n",
       "      <td>1.0</td>\n",
       "      <td>1.000000</td>\n",
       "      <td>1.000000</td>\n",
       "    </tr>\n",
       "    <tr>\n",
       "      <th>5</th>\n",
       "      <td>0.022563</td>\n",
       "      <td>0.022563</td>\n",
       "      <td>0.022563</td>\n",
       "      <td>1.0</td>\n",
       "      <td>1.000000</td>\n",
       "      <td>1.000000</td>\n",
       "    </tr>\n",
       "    <tr>\n",
       "      <th>6</th>\n",
       "      <td>0.028206</td>\n",
       "      <td>0.028206</td>\n",
       "      <td>0.028206</td>\n",
       "      <td>1.0</td>\n",
       "      <td>0.799626</td>\n",
       "      <td>0.799626</td>\n",
       "    </tr>\n",
       "  </tbody>\n",
       "</table>\n",
       "</div>"
      ],
      "text/plain": [
       "          0         1         2    3         4         5\n",
       "2  0.012284  0.012284  0.012284  1.0  1.000000  1.000000\n",
       "3  0.025232  0.025232  0.025232  1.0  1.000000  1.000000\n",
       "4  0.017029  0.017029  0.017029  1.0  1.000000  1.000000\n",
       "5  0.022563  0.022563  0.022563  1.0  1.000000  1.000000\n",
       "6  0.028206  0.028206  0.028206  1.0  0.799626  0.799626"
      ]
     },
     "execution_count": 52,
     "metadata": {},
     "output_type": "execute_result"
    }
   ],
   "source": [
    "parts_ari_df.head()"
   ]
  },
  {
   "cell_type": "markdown",
   "id": "24bf3dd6-1b53-4452-9596-a97ed469d0bd",
   "metadata": {
    "papermill": {
     "duration": 0.021057,
     "end_time": "2022-09-13T20:02:49.109310",
     "exception": false,
     "start_time": "2022-09-13T20:02:49.088253",
     "status": "completed"
    },
    "tags": []
   },
   "source": [
    "## Save"
   ]
  },
  {
   "cell_type": "code",
   "execution_count": 53,
   "id": "b353c6e9-dabf-4511-8138-152d98ef3c12",
   "metadata": {
    "execution": {
     "iopub.execute_input": "2022-09-13T20:02:49.153031Z",
     "iopub.status.busy": "2022-09-13T20:02:49.152186Z",
     "iopub.status.idle": "2022-09-13T20:02:49.171935Z",
     "shell.execute_reply": "2022-09-13T20:02:49.171376Z"
    },
    "papermill": {
     "duration": 0.042847,
     "end_time": "2022-09-13T20:02:49.173304",
     "exception": false,
     "start_time": "2022-09-13T20:02:49.130457",
     "status": "completed"
    },
    "tags": []
   },
   "outputs": [
    {
     "data": {
      "text/plain": [
       "PosixPath('/opt/data/results/clustering/null_sims/runs/z_score_std-projection-smultixcan-efo_partial-mashr-zscores/AgglomerativeClustering-stability-AFFINITY_euclidean-K_MAX_75-K_MIN_2-LINKAGE_ward_complete_average_single.pkl')"
      ]
     },
     "metadata": {},
     "output_type": "display_data"
    }
   ],
   "source": [
    "output_filename = Path(\n",
    "    RESULTS_DIR,\n",
    "    generate_result_set_name(\n",
    "        CLUSTERING_OPTIONS,\n",
    "        prefix=f\"{clustering_method_name}-stability-\",\n",
    "        suffix=\".pkl\",\n",
    "    ),\n",
    ").resolve()\n",
    "display(output_filename)"
   ]
  },
  {
   "cell_type": "code",
   "execution_count": 54,
   "id": "95ea3201-bf46-441f-9bc3-fb0957261bf3",
   "metadata": {
    "execution": {
     "iopub.execute_input": "2022-09-13T20:02:49.217167Z",
     "iopub.status.busy": "2022-09-13T20:02:49.216965Z",
     "iopub.status.idle": "2022-09-13T20:02:49.235595Z",
     "shell.execute_reply": "2022-09-13T20:02:49.235075Z"
    },
    "papermill": {
     "duration": 0.042054,
     "end_time": "2022-09-13T20:02:49.236997",
     "exception": false,
     "start_time": "2022-09-13T20:02:49.194943",
     "status": "completed"
    },
    "tags": []
   },
   "outputs": [],
   "source": [
    "parts_ari_df.to_pickle(output_filename)"
   ]
  },
  {
   "cell_type": "markdown",
   "id": "484d7192-d088-4981-b3f6-14ae4a1fafc7",
   "metadata": {
    "papermill": {
     "duration": 0.021253,
     "end_time": "2022-09-13T20:02:49.280119",
     "exception": false,
     "start_time": "2022-09-13T20:02:49.258866",
     "status": "completed"
    },
    "tags": []
   },
   "source": [
    "## Stability plot"
   ]
  },
  {
   "cell_type": "code",
   "execution_count": 55,
   "id": "1b441002-3ca4-4235-96a4-a17fa0b4a649",
   "metadata": {
    "execution": {
     "iopub.execute_input": "2022-09-13T20:02:49.323494Z",
     "iopub.status.busy": "2022-09-13T20:02:49.322728Z",
     "iopub.status.idle": "2022-09-13T20:02:49.343924Z",
     "shell.execute_reply": "2022-09-13T20:02:49.343382Z"
    },
    "papermill": {
     "duration": 0.044211,
     "end_time": "2022-09-13T20:02:49.345285",
     "exception": false,
     "start_time": "2022-09-13T20:02:49.301074",
     "status": "completed"
    },
    "tags": []
   },
   "outputs": [],
   "source": [
    "parts_ari_df_plot = (\n",
    "    parts_ari_df.stack()\n",
    "    .reset_index()\n",
    "    .rename(columns={\"level_0\": \"k\", \"level_1\": \"idx\", 0: \"ari\"})\n",
    ")"
   ]
  },
  {
   "cell_type": "code",
   "execution_count": 56,
   "id": "fecfabbc-0639-467a-a87b-6547c2920ec5",
   "metadata": {
    "execution": {
     "iopub.execute_input": "2022-09-13T20:02:49.394516Z",
     "iopub.status.busy": "2022-09-13T20:02:49.394332Z",
     "iopub.status.idle": "2022-09-13T20:02:49.416918Z",
     "shell.execute_reply": "2022-09-13T20:02:49.416327Z"
    },
    "papermill": {
     "duration": 0.05028,
     "end_time": "2022-09-13T20:02:49.418499",
     "exception": false,
     "start_time": "2022-09-13T20:02:49.368219",
     "status": "completed"
    },
    "tags": []
   },
   "outputs": [
    {
     "data": {
      "text/plain": [
       "k        int64\n",
       "idx      int64\n",
       "ari    float64\n",
       "dtype: object"
      ]
     },
     "execution_count": 56,
     "metadata": {},
     "output_type": "execute_result"
    }
   ],
   "source": [
    "parts_ari_df_plot.dtypes"
   ]
  },
  {
   "cell_type": "code",
   "execution_count": 57,
   "id": "922c2b02-0b98-4fff-8f8e-164b40335aa2",
   "metadata": {
    "execution": {
     "iopub.execute_input": "2022-09-13T20:02:49.466777Z",
     "iopub.status.busy": "2022-09-13T20:02:49.466608Z",
     "iopub.status.idle": "2022-09-13T20:02:49.489139Z",
     "shell.execute_reply": "2022-09-13T20:02:49.488607Z"
    },
    "papermill": {
     "duration": 0.047044,
     "end_time": "2022-09-13T20:02:49.490459",
     "exception": false,
     "start_time": "2022-09-13T20:02:49.443415",
     "status": "completed"
    },
    "tags": []
   },
   "outputs": [
    {
     "data": {
      "text/html": [
       "<div>\n",
       "<style scoped>\n",
       "    .dataframe tbody tr th:only-of-type {\n",
       "        vertical-align: middle;\n",
       "    }\n",
       "\n",
       "    .dataframe tbody tr th {\n",
       "        vertical-align: top;\n",
       "    }\n",
       "\n",
       "    .dataframe thead th {\n",
       "        text-align: right;\n",
       "    }\n",
       "</style>\n",
       "<table border=\"1\" class=\"dataframe\">\n",
       "  <thead>\n",
       "    <tr style=\"text-align: right;\">\n",
       "      <th></th>\n",
       "      <th>k</th>\n",
       "      <th>idx</th>\n",
       "      <th>ari</th>\n",
       "    </tr>\n",
       "  </thead>\n",
       "  <tbody>\n",
       "    <tr>\n",
       "      <th>0</th>\n",
       "      <td>2</td>\n",
       "      <td>0</td>\n",
       "      <td>0.012284</td>\n",
       "    </tr>\n",
       "    <tr>\n",
       "      <th>1</th>\n",
       "      <td>2</td>\n",
       "      <td>1</td>\n",
       "      <td>0.012284</td>\n",
       "    </tr>\n",
       "    <tr>\n",
       "      <th>2</th>\n",
       "      <td>2</td>\n",
       "      <td>2</td>\n",
       "      <td>0.012284</td>\n",
       "    </tr>\n",
       "    <tr>\n",
       "      <th>3</th>\n",
       "      <td>2</td>\n",
       "      <td>3</td>\n",
       "      <td>1.000000</td>\n",
       "    </tr>\n",
       "    <tr>\n",
       "      <th>4</th>\n",
       "      <td>2</td>\n",
       "      <td>4</td>\n",
       "      <td>1.000000</td>\n",
       "    </tr>\n",
       "  </tbody>\n",
       "</table>\n",
       "</div>"
      ],
      "text/plain": [
       "   k  idx       ari\n",
       "0  2    0  0.012284\n",
       "1  2    1  0.012284\n",
       "2  2    2  0.012284\n",
       "3  2    3  1.000000\n",
       "4  2    4  1.000000"
      ]
     },
     "execution_count": 57,
     "metadata": {},
     "output_type": "execute_result"
    }
   ],
   "source": [
    "parts_ari_df_plot.head()"
   ]
  },
  {
   "cell_type": "code",
   "execution_count": 58,
   "id": "bb3fa2e6-205a-4d72-a1ad-3b9072fcfe73",
   "metadata": {
    "execution": {
     "iopub.execute_input": "2022-09-13T20:02:49.535301Z",
     "iopub.status.busy": "2022-09-13T20:02:49.535029Z",
     "iopub.status.idle": "2022-09-13T20:02:53.062920Z",
     "shell.execute_reply": "2022-09-13T20:02:53.062390Z"
    },
    "papermill": {
     "duration": 3.551639,
     "end_time": "2022-09-13T20:02:53.064218",
     "exception": false,
     "start_time": "2022-09-13T20:02:49.512579",
     "status": "completed"
    },
    "tags": []
   },
   "outputs": [
    {
     "data": {
      "image/png": "[encoded data removed]",
      "text/plain": [
       "<Figure size 1008x432 with 1 Axes>"
      ]
     },
     "metadata": {},
     "output_type": "display_data"
    }
   ],
   "source": [
    "# with sns.axes_style('whitegrid', {'grid.linestyle': '--'}):\n",
    "with sns.plotting_context(\"talk\", font_scale=0.75), sns.axes_style(\n",
    "    \"whitegrid\", {\"grid.linestyle\": \"--\"}\n",
    "):\n",
    "    fig = plt.figure(figsize=(14, 6))\n",
    "    ax = sns.pointplot(data=parts_ari_df_plot, x=\"k\", y=\"ari\")\n",
    "    ax.set_ylabel(\"Averange ARI\")\n",
    "    ax.set_xlabel(\"Number of clusters ($k$)\")\n",
    "    ax.set_xticklabels(ax.get_xticklabels(), rotation=45)\n",
    "    #     ax.set_ylim(0.0, 1.0)\n",
    "    #     ax.set_xlim(CLUSTERING_OPTIONS['K_MIN'], CLUSTERING_OPTIONS['K_MAX'])\n",
    "    plt.grid(True)\n",
    "    plt.tight_layout()"
   ]
  },
  {
   "cell_type": "code",
   "execution_count": null,
   "id": "e59b0b69",
   "metadata": {
    "papermill": {
     "duration": 0.020776,
     "end_time": "2022-09-13T20:02:53.106579",
     "exception": false,
     "start_time": "2022-09-13T20:02:53.085803",
     "status": "completed"
    },
    "tags": []
   },
   "outputs": [],
   "source": []
  }
 ],
 "metadata": {
  "jupytext": {
   "cell_metadata_filter": "all,-execution,-papermill,-trusted",
   "formats": "ipynb,py//py:percent"
  },
  "kernelspec": {
   "display_name": "Python 3 (ipykernel)",
   "language": "python",
   "name": "python3"
  },
  "language_info": {
   "codemirror_mode": {
    "name": "ipython",
    "version": 3
   },
   "file_extension": ".py",
   "mimetype": "text/x-python",
   "name": "python",
   "nbconvert_exporter": "python",
   "pygments_lexer": "ipython3",
   "version": "3.8.13"
  },
  "papermill": {
   "default_parameters": {},
   "duration": 2084.598674,
   "end_time": "2022-09-13T20:02:53.449951",
   "environment_variables": {},
   "exception": null,
   "input_path": "nbs/13.1_cluster_analysis_null/13_00-hc-z_score_std.ipynb",
   "output_path": "nbs/13.1_cluster_analysis_null/13_00-hc-z_score_std.run.ipynb",
   "parameters": {},
   "start_time": "2022-09-13T19:28:08.851277",
   "version": "2.2.2"
  },
  "toc-autonumbering": true,
  "toc-showcode": false,
  "toc-showmarkdowntxt": false,
  "toc-showtags": false
 },
 "nbformat": 4,
 "nbformat_minor": 5
}
