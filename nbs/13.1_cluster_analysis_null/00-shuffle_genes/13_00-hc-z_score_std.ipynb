{
 "cells": [
  {
   "cell_type": "markdown",
   "id": "68fbe0d0",
   "metadata": {
    "papermill": {
     "duration": 0.013416,
     "end_time": "2022-11-26T04:38:24.206406",
     "exception": false,
     "start_time": "2022-11-26T04:38:24.192990",
     "status": "completed"
    },
    "tags": []
   },
   "source": [
    "# Description"
   ]
  },
  {
   "cell_type": "markdown",
   "id": "a8bfa51b",
   "metadata": {
    "papermill": {
     "duration": 0.01213,
     "end_time": "2022-11-26T04:38:24.231611",
     "exception": false,
     "start_time": "2022-11-26T04:38:24.219481",
     "status": "completed"
    },
    "tags": []
   },
   "source": [
    "Runs hierarchical clustering on the z_score_std version of the data."
   ]
  },
  {
   "cell_type": "markdown",
   "id": "2215b13c",
   "metadata": {
    "papermill": {
     "duration": 0.01284,
     "end_time": "2022-11-26T04:38:24.256865",
     "exception": false,
     "start_time": "2022-11-26T04:38:24.244025",
     "status": "completed"
    },
    "tags": []
   },
   "source": [
    "# Environment variables"
   ]
  },
  {
   "cell_type": "code",
   "execution_count": 1,
   "id": "ba7c8bd5",
   "metadata": {
    "execution": {
     "iopub.execute_input": "2022-11-26T04:38:24.280181Z",
     "iopub.status.busy": "2022-11-26T04:38:24.279927Z",
     "iopub.status.idle": "2022-11-26T04:38:24.298586Z",
     "shell.execute_reply": "2022-11-26T04:38:24.298114Z"
    },
    "papermill": {
     "duration": 0.030268,
     "end_time": "2022-11-26T04:38:24.299471",
     "exception": false,
     "start_time": "2022-11-26T04:38:24.269203",
     "status": "completed"
    },
    "tags": []
   },
   "outputs": [
    {
     "data": {
      "text/plain": [
       "10"
      ]
     },
     "metadata": {},
     "output_type": "display_data"
    }
   ],
   "source": [
    "from IPython.display import display\n",
    "\n",
    "import conf\n",
    "\n",
    "N_JOBS = conf.GENERAL[\"N_JOBS\"]\n",
    "display(N_JOBS)"
   ]
  },
  {
   "cell_type": "code",
   "execution_count": 2,
   "id": "6e9e2996",
   "metadata": {
    "execution": {
     "iopub.execute_input": "2022-11-26T04:38:24.313808Z",
     "iopub.status.busy": "2022-11-26T04:38:24.313647Z",
     "iopub.status.idle": "2022-11-26T04:38:24.319688Z",
     "shell.execute_reply": "2022-11-26T04:38:24.319172Z"
    },
    "papermill": {
     "duration": 0.014277,
     "end_time": "2022-11-26T04:38:24.320528",
     "exception": false,
     "start_time": "2022-11-26T04:38:24.306251",
     "status": "completed"
    },
    "tags": []
   },
   "outputs": [
    {
     "name": "stdout",
     "output_type": "stream",
     "text": [
      "env: MKL_NUM_THREADS=10\n",
      "env: OPEN_BLAS_NUM_THREADS=10\n",
      "env: NUMEXPR_NUM_THREADS=10\n",
      "env: OMP_NUM_THREADS=10\n"
     ]
    }
   ],
   "source": [
    "%env MKL_NUM_THREADS=$N_JOBS\n",
    "%env OPEN_BLAS_NUM_THREADS=$N_JOBS\n",
    "%env NUMEXPR_NUM_THREADS=$N_JOBS\n",
    "%env OMP_NUM_THREADS=$N_JOBS"
   ]
  },
  {
   "cell_type": "markdown",
   "id": "e4902098",
   "metadata": {
    "papermill": {
     "duration": 0.00647,
     "end_time": "2022-11-26T04:38:24.333602",
     "exception": false,
     "start_time": "2022-11-26T04:38:24.327132",
     "status": "completed"
    },
    "tags": []
   },
   "source": [
    "# Modules loading"
   ]
  },
  {
   "cell_type": "code",
   "execution_count": 3,
   "id": "ff49a3fd",
   "metadata": {
    "execution": {
     "iopub.execute_input": "2022-11-26T04:38:24.347568Z",
     "iopub.status.busy": "2022-11-26T04:38:24.347409Z",
     "iopub.status.idle": "2022-11-26T04:38:24.360226Z",
     "shell.execute_reply": "2022-11-26T04:38:24.359776Z"
    },
    "papermill": {
     "duration": 0.02073,
     "end_time": "2022-11-26T04:38:24.361083",
     "exception": false,
     "start_time": "2022-11-26T04:38:24.340353",
     "status": "completed"
    },
    "tags": []
   },
   "outputs": [],
   "source": [
    "%load_ext autoreload\n",
    "%autoreload 2"
   ]
  },
  {
   "cell_type": "code",
   "execution_count": 4,
   "id": "b6179936",
   "metadata": {
    "execution": {
     "iopub.execute_input": "2022-11-26T04:38:24.375266Z",
     "iopub.status.busy": "2022-11-26T04:38:24.374901Z",
     "iopub.status.idle": "2022-11-26T04:38:24.837927Z",
     "shell.execute_reply": "2022-11-26T04:38:24.837533Z"
    },
    "papermill": {
     "duration": 0.47187,
     "end_time": "2022-11-26T04:38:24.839580",
     "exception": false,
     "start_time": "2022-11-26T04:38:24.367710",
     "status": "completed"
    },
    "tags": []
   },
   "outputs": [],
   "source": [
    "from pathlib import Path\n",
    "\n",
    "import numpy as np\n",
    "import pandas as pd\n",
    "import matplotlib.pyplot as plt\n",
    "import seaborn as sns\n",
    "\n",
    "from utils import generate_result_set_name"
   ]
  },
  {
   "cell_type": "markdown",
   "id": "8bb5b886",
   "metadata": {
    "papermill": {
     "duration": 0.013229,
     "end_time": "2022-11-26T04:38:24.890624",
     "exception": false,
     "start_time": "2022-11-26T04:38:24.877395",
     "status": "completed"
    },
    "tags": []
   },
   "source": [
    "# Settings"
   ]
  },
  {
   "cell_type": "code",
   "execution_count": 5,
   "id": "998be2be",
   "metadata": {
    "execution": {
     "iopub.execute_input": "2022-11-26T04:38:24.916502Z",
     "iopub.status.busy": "2022-11-26T04:38:24.916107Z",
     "iopub.status.idle": "2022-11-26T04:38:24.933860Z",
     "shell.execute_reply": "2022-11-26T04:38:24.933385Z"
    },
    "papermill": {
     "duration": 0.032148,
     "end_time": "2022-11-26T04:38:24.935196",
     "exception": false,
     "start_time": "2022-11-26T04:38:24.903048",
     "status": "completed"
    },
    "tags": []
   },
   "outputs": [],
   "source": [
    "np.random.seed(0)"
   ]
  },
  {
   "cell_type": "code",
   "execution_count": 6,
   "id": "29730a5e-744e-4e72-86c5-143628265ad4",
   "metadata": {
    "execution": {
     "iopub.execute_input": "2022-11-26T04:38:24.961592Z",
     "iopub.status.busy": "2022-11-26T04:38:24.961243Z",
     "iopub.status.idle": "2022-11-26T04:38:24.981101Z",
     "shell.execute_reply": "2022-11-26T04:38:24.980423Z"
    },
    "papermill": {
     "duration": 0.03505,
     "end_time": "2022-11-26T04:38:24.982715",
     "exception": false,
     "start_time": "2022-11-26T04:38:24.947665",
     "status": "completed"
    },
    "tags": []
   },
   "outputs": [],
   "source": [
    "NULL_DIR = conf.RESULTS[\"CLUSTERING_NULL_DIR\"] / \"shuffle_genes\""
   ]
  },
  {
   "cell_type": "markdown",
   "id": "ab0c12ad",
   "metadata": {
    "papermill": {
     "duration": 0.01227,
     "end_time": "2022-11-26T04:38:25.007680",
     "exception": false,
     "start_time": "2022-11-26T04:38:24.995410",
     "status": "completed"
    },
    "tags": []
   },
   "source": [
    "## Input data"
   ]
  },
  {
   "cell_type": "code",
   "execution_count": 7,
   "id": "486fc495",
   "metadata": {
    "execution": {
     "iopub.execute_input": "2022-11-26T04:38:25.031640Z",
     "iopub.status.busy": "2022-11-26T04:38:25.031279Z",
     "iopub.status.idle": "2022-11-26T04:38:25.049672Z",
     "shell.execute_reply": "2022-11-26T04:38:25.049163Z"
    },
    "papermill": {
     "duration": 0.029746,
     "end_time": "2022-11-26T04:38:25.050596",
     "exception": false,
     "start_time": "2022-11-26T04:38:25.020850",
     "status": "completed"
    },
    "tags": []
   },
   "outputs": [],
   "source": [
    "INPUT_SUBSET = \"z_score_std\""
   ]
  },
  {
   "cell_type": "code",
   "execution_count": 8,
   "id": "708d3403",
   "metadata": {
    "execution": {
     "iopub.execute_input": "2022-11-26T04:38:25.065201Z",
     "iopub.status.busy": "2022-11-26T04:38:25.064881Z",
     "iopub.status.idle": "2022-11-26T04:38:25.081908Z",
     "shell.execute_reply": "2022-11-26T04:38:25.081441Z"
    },
    "papermill": {
     "duration": 0.025605,
     "end_time": "2022-11-26T04:38:25.082841",
     "exception": false,
     "start_time": "2022-11-26T04:38:25.057236",
     "status": "completed"
    },
    "tags": []
   },
   "outputs": [],
   "source": [
    "INPUT_STEM = \"projection-smultixcan-efo_partial-mashr-zscores\""
   ]
  },
  {
   "cell_type": "code",
   "execution_count": 9,
   "id": "5efd00a3",
   "metadata": {
    "execution": {
     "iopub.execute_input": "2022-11-26T04:38:25.096854Z",
     "iopub.status.busy": "2022-11-26T04:38:25.096499Z",
     "iopub.status.idle": "2022-11-26T04:38:25.115913Z",
     "shell.execute_reply": "2022-11-26T04:38:25.115449Z"
    },
    "papermill": {
     "duration": 0.027307,
     "end_time": "2022-11-26T04:38:25.116757",
     "exception": false,
     "start_time": "2022-11-26T04:38:25.089450",
     "status": "completed"
    },
    "tags": []
   },
   "outputs": [
    {
     "data": {
      "text/plain": [
       "PosixPath('/opt/data/results/clustering/null_sims/shuffle_genes/data_transformations/z_score_std/z_score_std-projection-smultixcan-efo_partial-mashr-zscores.pkl')"
      ]
     },
     "metadata": {},
     "output_type": "display_data"
    },
    {
     "data": {
      "text/plain": [
       "'z_score_std-projection-smultixcan-efo_partial-mashr-zscores'"
      ]
     },
     "metadata": {},
     "output_type": "display_data"
    }
   ],
   "source": [
    "input_filepath = Path(\n",
    "    NULL_DIR,\n",
    "    \"data_transformations\",\n",
    "    INPUT_SUBSET,\n",
    "    f\"{INPUT_SUBSET}-{INPUT_STEM}.pkl\",\n",
    ").resolve()\n",
    "display(input_filepath)\n",
    "\n",
    "assert input_filepath.exists(), \"Input file does not exist\"\n",
    "\n",
    "input_filepath_stem = input_filepath.stem\n",
    "display(input_filepath_stem)"
   ]
  },
  {
   "cell_type": "markdown",
   "id": "f380a980",
   "metadata": {
    "papermill": {
     "duration": 0.006654,
     "end_time": "2022-11-26T04:38:25.130440",
     "exception": false,
     "start_time": "2022-11-26T04:38:25.123786",
     "status": "completed"
    },
    "tags": []
   },
   "source": [
    "## Clustering"
   ]
  },
  {
   "cell_type": "code",
   "execution_count": 10,
   "id": "87788b76",
   "metadata": {
    "execution": {
     "iopub.execute_input": "2022-11-26T04:38:25.144620Z",
     "iopub.status.busy": "2022-11-26T04:38:25.144271Z",
     "iopub.status.idle": "2022-11-26T04:38:25.230680Z",
     "shell.execute_reply": "2022-11-26T04:38:25.230290Z"
    },
    "papermill": {
     "duration": 0.094391,
     "end_time": "2022-11-26T04:38:25.231493",
     "exception": false,
     "start_time": "2022-11-26T04:38:25.137102",
     "status": "completed"
    },
    "tags": []
   },
   "outputs": [],
   "source": [
    "from sklearn.cluster import AgglomerativeClustering"
   ]
  },
  {
   "cell_type": "code",
   "execution_count": 11,
   "id": "62e7aa53",
   "metadata": {
    "execution": {
     "iopub.execute_input": "2022-11-26T04:38:25.245640Z",
     "iopub.status.busy": "2022-11-26T04:38:25.245419Z",
     "iopub.status.idle": "2022-11-26T04:38:25.257350Z",
     "shell.execute_reply": "2022-11-26T04:38:25.257000Z"
    },
    "papermill": {
     "duration": 0.019666,
     "end_time": "2022-11-26T04:38:25.258106",
     "exception": false,
     "start_time": "2022-11-26T04:38:25.238440",
     "status": "completed"
    },
    "tags": []
   },
   "outputs": [],
   "source": [
    "CLUSTERING_ATTRIBUTES_TO_SAVE = [\"n_clusters\"]"
   ]
  },
  {
   "cell_type": "code",
   "execution_count": 12,
   "id": "1f6bc16f",
   "metadata": {
    "execution": {
     "iopub.execute_input": "2022-11-26T04:38:25.272098Z",
     "iopub.status.busy": "2022-11-26T04:38:25.271868Z",
     "iopub.status.idle": "2022-11-26T04:38:25.283668Z",
     "shell.execute_reply": "2022-11-26T04:38:25.283306Z"
    },
    "papermill": {
     "duration": 0.019633,
     "end_time": "2022-11-26T04:38:25.284364",
     "exception": false,
     "start_time": "2022-11-26T04:38:25.264731",
     "status": "completed"
    },
    "tags": []
   },
   "outputs": [
    {
     "data": {
      "text/plain": [
       "{'K_MIN': 2,\n",
       " 'K_MAX': 75,\n",
       " 'LINKAGE': {'average', 'complete', 'single', 'ward'},\n",
       " 'AFFINITY': 'euclidean'}"
      ]
     },
     "metadata": {},
     "output_type": "display_data"
    }
   ],
   "source": [
    "CLUSTERING_OPTIONS = {}\n",
    "\n",
    "CLUSTERING_OPTIONS[\"K_MIN\"] = 2\n",
    "CLUSTERING_OPTIONS[\"K_MAX\"] = 75  # sqrt(3749) + some more to get closer to 295\n",
    "CLUSTERING_OPTIONS[\"LINKAGE\"] = {\"ward\", \"complete\", \"average\", \"single\"}\n",
    "CLUSTERING_OPTIONS[\"AFFINITY\"] = \"euclidean\"\n",
    "\n",
    "display(CLUSTERING_OPTIONS)"
   ]
  },
  {
   "cell_type": "code",
   "execution_count": 13,
   "id": "315c78ec",
   "metadata": {
    "execution": {
     "iopub.execute_input": "2022-11-26T04:38:25.298347Z",
     "iopub.status.busy": "2022-11-26T04:38:25.298124Z",
     "iopub.status.idle": "2022-11-26T04:38:25.310538Z",
     "shell.execute_reply": "2022-11-26T04:38:25.310162Z"
    },
    "papermill": {
     "duration": 0.020324,
     "end_time": "2022-11-26T04:38:25.311380",
     "exception": false,
     "start_time": "2022-11-26T04:38:25.291056",
     "status": "completed"
    },
    "tags": []
   },
   "outputs": [],
   "source": [
    "CLUSTERERS = {}\n",
    "\n",
    "idx = 0\n",
    "\n",
    "for k in range(CLUSTERING_OPTIONS[\"K_MIN\"], CLUSTERING_OPTIONS[\"K_MAX\"] + 1):\n",
    "    for linkage in CLUSTERING_OPTIONS[\"LINKAGE\"]:\n",
    "        if linkage == \"ward\":\n",
    "            affinity = \"euclidean\"\n",
    "        else:\n",
    "            affinity = \"precomputed\"\n",
    "\n",
    "        clus = AgglomerativeClustering(\n",
    "            n_clusters=k,\n",
    "            affinity=affinity,\n",
    "            linkage=linkage,\n",
    "        )\n",
    "\n",
    "        method_name = type(clus).__name__\n",
    "        CLUSTERERS[f\"{method_name} #{idx}\"] = clus\n",
    "\n",
    "        idx = idx + 1"
   ]
  },
  {
   "cell_type": "code",
   "execution_count": 14,
   "id": "60d8d262",
   "metadata": {
    "execution": {
     "iopub.execute_input": "2022-11-26T04:38:25.325522Z",
     "iopub.status.busy": "2022-11-26T04:38:25.325309Z",
     "iopub.status.idle": "2022-11-26T04:38:25.336279Z",
     "shell.execute_reply": "2022-11-26T04:38:25.335936Z"
    },
    "papermill": {
     "duration": 0.018738,
     "end_time": "2022-11-26T04:38:25.336991",
     "exception": false,
     "start_time": "2022-11-26T04:38:25.318253",
     "status": "completed"
    },
    "tags": []
   },
   "outputs": [
    {
     "data": {
      "text/plain": [
       "296"
      ]
     },
     "metadata": {},
     "output_type": "display_data"
    }
   ],
   "source": [
    "display(len(CLUSTERERS))"
   ]
  },
  {
   "cell_type": "code",
   "execution_count": 15,
   "id": "6fb8a132",
   "metadata": {
    "execution": {
     "iopub.execute_input": "2022-11-26T04:38:25.351219Z",
     "iopub.status.busy": "2022-11-26T04:38:25.351015Z",
     "iopub.status.idle": "2022-11-26T04:38:25.363154Z",
     "shell.execute_reply": "2022-11-26T04:38:25.362801Z"
    },
    "papermill": {
     "duration": 0.020091,
     "end_time": "2022-11-26T04:38:25.363901",
     "exception": false,
     "start_time": "2022-11-26T04:38:25.343810",
     "status": "completed"
    },
    "tags": []
   },
   "outputs": [
    {
     "data": {
      "text/plain": [
       "('AgglomerativeClustering #0', AgglomerativeClustering())"
      ]
     },
     "metadata": {},
     "output_type": "display_data"
    },
    {
     "data": {
      "text/plain": [
       "('AgglomerativeClustering #1',\n",
       " AgglomerativeClustering(affinity='precomputed', linkage='complete'))"
      ]
     },
     "metadata": {},
     "output_type": "display_data"
    }
   ],
   "source": [
    "_iter = iter(CLUSTERERS.items())\n",
    "display(next(_iter))\n",
    "display(next(_iter))"
   ]
  },
  {
   "cell_type": "code",
   "execution_count": 16,
   "id": "bb2626f1",
   "metadata": {
    "execution": {
     "iopub.execute_input": "2022-11-26T04:38:25.378125Z",
     "iopub.status.busy": "2022-11-26T04:38:25.377895Z",
     "iopub.status.idle": "2022-11-26T04:38:25.388768Z",
     "shell.execute_reply": "2022-11-26T04:38:25.388435Z"
    },
    "papermill": {
     "duration": 0.01874,
     "end_time": "2022-11-26T04:38:25.389508",
     "exception": false,
     "start_time": "2022-11-26T04:38:25.370768",
     "status": "completed"
    },
    "tags": []
   },
   "outputs": [
    {
     "data": {
      "text/plain": [
       "'AgglomerativeClustering'"
      ]
     },
     "metadata": {},
     "output_type": "display_data"
    }
   ],
   "source": [
    "clustering_method_name = method_name\n",
    "display(clustering_method_name)"
   ]
  },
  {
   "cell_type": "markdown",
   "id": "f4af2a9c",
   "metadata": {
    "papermill": {
     "duration": 0.007036,
     "end_time": "2022-11-26T04:38:25.403499",
     "exception": false,
     "start_time": "2022-11-26T04:38:25.396463",
     "status": "completed"
    },
    "tags": []
   },
   "source": [
    "## Output directory"
   ]
  },
  {
   "cell_type": "code",
   "execution_count": 17,
   "id": "1aedeed4",
   "metadata": {
    "execution": {
     "iopub.execute_input": "2022-11-26T04:38:25.417864Z",
     "iopub.status.busy": "2022-11-26T04:38:25.417666Z",
     "iopub.status.idle": "2022-11-26T04:38:25.429357Z",
     "shell.execute_reply": "2022-11-26T04:38:25.429004Z"
    },
    "papermill": {
     "duration": 0.019698,
     "end_time": "2022-11-26T04:38:25.430107",
     "exception": false,
     "start_time": "2022-11-26T04:38:25.410409",
     "status": "completed"
    },
    "tags": []
   },
   "outputs": [
    {
     "data": {
      "text/plain": [
       "PosixPath('/opt/data/results/clustering/null_sims/shuffle_genes/runs/z_score_std-projection-smultixcan-efo_partial-mashr-zscores')"
      ]
     },
     "metadata": {},
     "output_type": "display_data"
    }
   ],
   "source": [
    "# output dir for this notebook\n",
    "RESULTS_DIR = Path(\n",
    "    NULL_DIR,\n",
    "    \"runs\",\n",
    "    f\"{INPUT_SUBSET}-{INPUT_STEM}\",\n",
    ").resolve()\n",
    "RESULTS_DIR.mkdir(parents=True, exist_ok=True)\n",
    "\n",
    "display(RESULTS_DIR)"
   ]
  },
  {
   "cell_type": "markdown",
   "id": "fc9025a8",
   "metadata": {
    "papermill": {
     "duration": 0.006861,
     "end_time": "2022-11-26T04:38:25.444113",
     "exception": false,
     "start_time": "2022-11-26T04:38:25.437252",
     "status": "completed"
    },
    "tags": []
   },
   "source": [
    "# Load input file"
   ]
  },
  {
   "cell_type": "code",
   "execution_count": 18,
   "id": "beb21224",
   "metadata": {
    "execution": {
     "iopub.execute_input": "2022-11-26T04:38:25.459001Z",
     "iopub.status.busy": "2022-11-26T04:38:25.458745Z",
     "iopub.status.idle": "2022-11-26T04:38:25.493108Z",
     "shell.execute_reply": "2022-11-26T04:38:25.492574Z"
    },
    "papermill": {
     "duration": 0.042859,
     "end_time": "2022-11-26T04:38:25.493954",
     "exception": false,
     "start_time": "2022-11-26T04:38:25.451095",
     "status": "completed"
    },
    "tags": []
   },
   "outputs": [],
   "source": [
    "data = pd.read_pickle(input_filepath)"
   ]
  },
  {
   "cell_type": "code",
   "execution_count": 19,
   "id": "82d7cb7b",
   "metadata": {
    "execution": {
     "iopub.execute_input": "2022-11-26T04:38:25.508794Z",
     "iopub.status.busy": "2022-11-26T04:38:25.508402Z",
     "iopub.status.idle": "2022-11-26T04:38:25.528642Z",
     "shell.execute_reply": "2022-11-26T04:38:25.528194Z"
    },
    "papermill": {
     "duration": 0.028554,
     "end_time": "2022-11-26T04:38:25.529463",
     "exception": false,
     "start_time": "2022-11-26T04:38:25.500909",
     "status": "completed"
    },
    "tags": []
   },
   "outputs": [
    {
     "data": {
      "text/plain": [
       "(3752, 987)"
      ]
     },
     "execution_count": 19,
     "metadata": {},
     "output_type": "execute_result"
    }
   ],
   "source": [
    "data.shape"
   ]
  },
  {
   "cell_type": "code",
   "execution_count": 20,
   "id": "81a72af1",
   "metadata": {
    "execution": {
     "iopub.execute_input": "2022-11-26T04:38:25.544525Z",
     "iopub.status.busy": "2022-11-26T04:38:25.544251Z",
     "iopub.status.idle": "2022-11-26T04:38:25.580654Z",
     "shell.execute_reply": "2022-11-26T04:38:25.580131Z"
    },
    "papermill": {
     "duration": 0.044699,
     "end_time": "2022-11-26T04:38:25.581484",
     "exception": false,
     "start_time": "2022-11-26T04:38:25.536785",
     "status": "completed"
    },
    "tags": []
   },
   "outputs": [
    {
     "data": {
      "text/html": [
       "<div>\n",
       "<style scoped>\n",
       "    .dataframe tbody tr th:only-of-type {\n",
       "        vertical-align: middle;\n",
       "    }\n",
       "\n",
       "    .dataframe tbody tr th {\n",
       "        vertical-align: top;\n",
       "    }\n",
       "\n",
       "    .dataframe thead th {\n",
       "        text-align: right;\n",
       "    }\n",
       "</style>\n",
       "<table border=\"1\" class=\"dataframe\">\n",
       "  <thead>\n",
       "    <tr style=\"text-align: right;\">\n",
       "      <th></th>\n",
       "      <th>LV1</th>\n",
       "      <th>LV2</th>\n",
       "      <th>LV3</th>\n",
       "      <th>LV4</th>\n",
       "      <th>LV5</th>\n",
       "      <th>LV6</th>\n",
       "      <th>LV7</th>\n",
       "      <th>LV8</th>\n",
       "      <th>LV9</th>\n",
       "      <th>LV10</th>\n",
       "      <th>...</th>\n",
       "      <th>LV978</th>\n",
       "      <th>LV979</th>\n",
       "      <th>LV980</th>\n",
       "      <th>LV981</th>\n",
       "      <th>LV982</th>\n",
       "      <th>LV983</th>\n",
       "      <th>LV984</th>\n",
       "      <th>LV985</th>\n",
       "      <th>LV986</th>\n",
       "      <th>LV987</th>\n",
       "    </tr>\n",
       "  </thead>\n",
       "  <tbody>\n",
       "    <tr>\n",
       "      <th>100001_raw-Food_weight</th>\n",
       "      <td>-0.175043</td>\n",
       "      <td>-0.710171</td>\n",
       "      <td>-1.000846</td>\n",
       "      <td>0.693026</td>\n",
       "      <td>0.409413</td>\n",
       "      <td>0.642958</td>\n",
       "      <td>1.767862</td>\n",
       "      <td>-1.070425</td>\n",
       "      <td>0.809395</td>\n",
       "      <td>-1.555050</td>\n",
       "      <td>...</td>\n",
       "      <td>-0.932802</td>\n",
       "      <td>0.371349</td>\n",
       "      <td>-0.521787</td>\n",
       "      <td>-0.881136</td>\n",
       "      <td>-1.193309</td>\n",
       "      <td>-0.257883</td>\n",
       "      <td>1.382268</td>\n",
       "      <td>0.066549</td>\n",
       "      <td>-0.866086</td>\n",
       "      <td>0.847997</td>\n",
       "    </tr>\n",
       "    <tr>\n",
       "      <th>100002_raw-Energy</th>\n",
       "      <td>0.531227</td>\n",
       "      <td>0.894062</td>\n",
       "      <td>1.191552</td>\n",
       "      <td>-0.143922</td>\n",
       "      <td>0.217867</td>\n",
       "      <td>0.529878</td>\n",
       "      <td>0.219561</td>\n",
       "      <td>-1.538143</td>\n",
       "      <td>-0.166704</td>\n",
       "      <td>1.042749</td>\n",
       "      <td>...</td>\n",
       "      <td>-0.601329</td>\n",
       "      <td>0.625139</td>\n",
       "      <td>-0.113048</td>\n",
       "      <td>-1.477163</td>\n",
       "      <td>0.746773</td>\n",
       "      <td>0.316892</td>\n",
       "      <td>-0.660407</td>\n",
       "      <td>1.501067</td>\n",
       "      <td>0.543744</td>\n",
       "      <td>1.094294</td>\n",
       "    </tr>\n",
       "    <tr>\n",
       "      <th>100003_raw-Protein</th>\n",
       "      <td>0.405395</td>\n",
       "      <td>0.925288</td>\n",
       "      <td>-0.339507</td>\n",
       "      <td>0.799476</td>\n",
       "      <td>-0.512075</td>\n",
       "      <td>0.586632</td>\n",
       "      <td>0.361706</td>\n",
       "      <td>0.226860</td>\n",
       "      <td>1.208289</td>\n",
       "      <td>-1.880931</td>\n",
       "      <td>...</td>\n",
       "      <td>-0.489171</td>\n",
       "      <td>0.276717</td>\n",
       "      <td>-0.159505</td>\n",
       "      <td>-1.271106</td>\n",
       "      <td>0.300351</td>\n",
       "      <td>0.595915</td>\n",
       "      <td>0.509020</td>\n",
       "      <td>-0.127540</td>\n",
       "      <td>-0.811987</td>\n",
       "      <td>-1.108812</td>\n",
       "    </tr>\n",
       "    <tr>\n",
       "      <th>100004_raw-Fat</th>\n",
       "      <td>-0.156230</td>\n",
       "      <td>0.881426</td>\n",
       "      <td>0.395527</td>\n",
       "      <td>-1.570256</td>\n",
       "      <td>1.240955</td>\n",
       "      <td>2.064595</td>\n",
       "      <td>-0.547373</td>\n",
       "      <td>-1.228389</td>\n",
       "      <td>0.319684</td>\n",
       "      <td>0.858253</td>\n",
       "      <td>...</td>\n",
       "      <td>-0.407151</td>\n",
       "      <td>-1.217662</td>\n",
       "      <td>-0.361052</td>\n",
       "      <td>0.813221</td>\n",
       "      <td>-0.692981</td>\n",
       "      <td>1.099523</td>\n",
       "      <td>-0.017366</td>\n",
       "      <td>0.361278</td>\n",
       "      <td>-0.017222</td>\n",
       "      <td>1.750511</td>\n",
       "    </tr>\n",
       "    <tr>\n",
       "      <th>100005_raw-Carbohydrate</th>\n",
       "      <td>-0.142531</td>\n",
       "      <td>-0.521907</td>\n",
       "      <td>1.069304</td>\n",
       "      <td>0.548122</td>\n",
       "      <td>-0.422146</td>\n",
       "      <td>-1.330718</td>\n",
       "      <td>-1.260872</td>\n",
       "      <td>1.003617</td>\n",
       "      <td>1.266289</td>\n",
       "      <td>0.065408</td>\n",
       "      <td>...</td>\n",
       "      <td>1.506698</td>\n",
       "      <td>-0.069854</td>\n",
       "      <td>-0.084662</td>\n",
       "      <td>-1.269536</td>\n",
       "      <td>-0.421185</td>\n",
       "      <td>0.431180</td>\n",
       "      <td>1.673162</td>\n",
       "      <td>-0.954336</td>\n",
       "      <td>0.026593</td>\n",
       "      <td>0.655359</td>\n",
       "    </tr>\n",
       "  </tbody>\n",
       "</table>\n",
       "<p>5 rows × 987 columns</p>\n",
       "</div>"
      ],
      "text/plain": [
       "                              LV1       LV2       LV3       LV4       LV5  \\\n",
       "100001_raw-Food_weight  -0.175043 -0.710171 -1.000846  0.693026  0.409413   \n",
       "100002_raw-Energy        0.531227  0.894062  1.191552 -0.143922  0.217867   \n",
       "100003_raw-Protein       0.405395  0.925288 -0.339507  0.799476 -0.512075   \n",
       "100004_raw-Fat          -0.156230  0.881426  0.395527 -1.570256  1.240955   \n",
       "100005_raw-Carbohydrate -0.142531 -0.521907  1.069304  0.548122 -0.422146   \n",
       "\n",
       "                              LV6       LV7       LV8       LV9      LV10  \\\n",
       "100001_raw-Food_weight   0.642958  1.767862 -1.070425  0.809395 -1.555050   \n",
       "100002_raw-Energy        0.529878  0.219561 -1.538143 -0.166704  1.042749   \n",
       "100003_raw-Protein       0.586632  0.361706  0.226860  1.208289 -1.880931   \n",
       "100004_raw-Fat           2.064595 -0.547373 -1.228389  0.319684  0.858253   \n",
       "100005_raw-Carbohydrate -1.330718 -1.260872  1.003617  1.266289  0.065408   \n",
       "\n",
       "                         ...     LV978     LV979     LV980     LV981  \\\n",
       "100001_raw-Food_weight   ... -0.932802  0.371349 -0.521787 -0.881136   \n",
       "100002_raw-Energy        ... -0.601329  0.625139 -0.113048 -1.477163   \n",
       "100003_raw-Protein       ... -0.489171  0.276717 -0.159505 -1.271106   \n",
       "100004_raw-Fat           ... -0.407151 -1.217662 -0.361052  0.813221   \n",
       "100005_raw-Carbohydrate  ...  1.506698 -0.069854 -0.084662 -1.269536   \n",
       "\n",
       "                            LV982     LV983     LV984     LV985     LV986  \\\n",
       "100001_raw-Food_weight  -1.193309 -0.257883  1.382268  0.066549 -0.866086   \n",
       "100002_raw-Energy        0.746773  0.316892 -0.660407  1.501067  0.543744   \n",
       "100003_raw-Protein       0.300351  0.595915  0.509020 -0.127540 -0.811987   \n",
       "100004_raw-Fat          -0.692981  1.099523 -0.017366  0.361278 -0.017222   \n",
       "100005_raw-Carbohydrate -0.421185  0.431180  1.673162 -0.954336  0.026593   \n",
       "\n",
       "                            LV987  \n",
       "100001_raw-Food_weight   0.847997  \n",
       "100002_raw-Energy        1.094294  \n",
       "100003_raw-Protein      -1.108812  \n",
       "100004_raw-Fat           1.750511  \n",
       "100005_raw-Carbohydrate  0.655359  \n",
       "\n",
       "[5 rows x 987 columns]"
      ]
     },
     "execution_count": 20,
     "metadata": {},
     "output_type": "execute_result"
    }
   ],
   "source": [
    "data.head()"
   ]
  },
  {
   "cell_type": "code",
   "execution_count": 21,
   "id": "8beca865",
   "metadata": {
    "execution": {
     "iopub.execute_input": "2022-11-26T04:38:25.597859Z",
     "iopub.status.busy": "2022-11-26T04:38:25.597452Z",
     "iopub.status.idle": "2022-11-26T04:38:25.624607Z",
     "shell.execute_reply": "2022-11-26T04:38:25.624061Z"
    },
    "papermill": {
     "duration": 0.036958,
     "end_time": "2022-11-26T04:38:25.625620",
     "exception": false,
     "start_time": "2022-11-26T04:38:25.588662",
     "status": "completed"
    },
    "tags": []
   },
   "outputs": [],
   "source": [
    "assert not data.isna().any().any()"
   ]
  },
  {
   "cell_type": "markdown",
   "id": "be43b722",
   "metadata": {
    "papermill": {
     "duration": 0.007032,
     "end_time": "2022-11-26T04:38:25.640469",
     "exception": false,
     "start_time": "2022-11-26T04:38:25.633437",
     "status": "completed"
    },
    "tags": []
   },
   "source": [
    "# Clustering"
   ]
  },
  {
   "cell_type": "markdown",
   "id": "7a99e047",
   "metadata": {
    "papermill": {
     "duration": 0.00702,
     "end_time": "2022-11-26T04:38:25.655202",
     "exception": false,
     "start_time": "2022-11-26T04:38:25.648182",
     "status": "completed"
    },
    "tags": []
   },
   "source": [
    "## Generate ensemble"
   ]
  },
  {
   "cell_type": "code",
   "execution_count": 22,
   "id": "1baf0a35",
   "metadata": {
    "execution": {
     "iopub.execute_input": "2022-11-26T04:38:25.670794Z",
     "iopub.status.busy": "2022-11-26T04:38:25.670479Z",
     "iopub.status.idle": "2022-11-26T04:38:25.694655Z",
     "shell.execute_reply": "2022-11-26T04:38:25.694181Z"
    },
    "papermill": {
     "duration": 0.03315,
     "end_time": "2022-11-26T04:38:25.695562",
     "exception": false,
     "start_time": "2022-11-26T04:38:25.662412",
     "status": "completed"
    },
    "tags": []
   },
   "outputs": [],
   "source": [
    "from sklearn.metrics import pairwise_distances\n",
    "from clustering.ensembles.utils import generate_ensemble"
   ]
  },
  {
   "cell_type": "code",
   "execution_count": 23,
   "id": "79c7fe87",
   "metadata": {
    "execution": {
     "iopub.execute_input": "2022-11-26T04:38:25.710939Z",
     "iopub.status.busy": "2022-11-26T04:38:25.710636Z",
     "iopub.status.idle": "2022-11-26T04:38:25.863510Z",
     "shell.execute_reply": "2022-11-26T04:38:25.863067Z"
    },
    "papermill": {
     "duration": 0.161822,
     "end_time": "2022-11-26T04:38:25.864626",
     "exception": false,
     "start_time": "2022-11-26T04:38:25.702804",
     "status": "completed"
    },
    "tags": []
   },
   "outputs": [],
   "source": [
    "data_dist = pairwise_distances(data, metric=CLUSTERING_OPTIONS[\"AFFINITY\"])"
   ]
  },
  {
   "cell_type": "code",
   "execution_count": 24,
   "id": "d2a6d0b8",
   "metadata": {
    "execution": {
     "iopub.execute_input": "2022-11-26T04:38:25.882516Z",
     "iopub.status.busy": "2022-11-26T04:38:25.882211Z",
     "iopub.status.idle": "2022-11-26T04:38:25.894939Z",
     "shell.execute_reply": "2022-11-26T04:38:25.894607Z"
    },
    "papermill": {
     "duration": 0.023579,
     "end_time": "2022-11-26T04:38:25.895691",
     "exception": false,
     "start_time": "2022-11-26T04:38:25.872112",
     "status": "completed"
    },
    "tags": []
   },
   "outputs": [
    {
     "data": {
      "text/plain": [
       "(3752, 3752)"
      ]
     },
     "execution_count": 24,
     "metadata": {},
     "output_type": "execute_result"
    }
   ],
   "source": [
    "data_dist.shape"
   ]
  },
  {
   "cell_type": "code",
   "execution_count": 25,
   "id": "c2008ceb",
   "metadata": {
    "execution": {
     "iopub.execute_input": "2022-11-26T04:38:25.911389Z",
     "iopub.status.busy": "2022-11-26T04:38:25.911126Z",
     "iopub.status.idle": "2022-11-26T04:38:26.360787Z",
     "shell.execute_reply": "2022-11-26T04:38:26.360338Z"
    },
    "papermill": {
     "duration": 0.458647,
     "end_time": "2022-11-26T04:38:26.362178",
     "exception": false,
     "start_time": "2022-11-26T04:38:25.903531",
     "status": "completed"
    },
    "tags": []
   },
   "outputs": [
    {
     "data": {
      "text/plain": [
       "count            14077504.0\n",
       "mean     44.253032582492736\n",
       "std      3.9584224592510227\n",
       "min                     0.0\n",
       "25%      42.962109837049766\n",
       "50%       43.88530887125711\n",
       "75%       44.85928523200603\n",
       "max      114.65122575216458\n",
       "dtype: object"
      ]
     },
     "execution_count": 25,
     "metadata": {},
     "output_type": "execute_result"
    }
   ],
   "source": [
    "pd.Series(data_dist.flatten()).describe().apply(str)"
   ]
  },
  {
   "cell_type": "code",
   "execution_count": 26,
   "id": "e2e59656",
   "metadata": {
    "execution": {
     "iopub.execute_input": "2022-11-26T04:38:26.391473Z",
     "iopub.status.busy": "2022-11-26T04:38:26.391374Z",
     "iopub.status.idle": "2022-11-26T04:55:11.636036Z",
     "shell.execute_reply": "2022-11-26T04:55:11.635618Z"
    },
    "papermill": {
     "duration": 1005.260262,
     "end_time": "2022-11-26T04:55:11.637371",
     "exception": false,
     "start_time": "2022-11-26T04:38:26.377109",
     "status": "completed"
    },
    "tags": []
   },
   "outputs": [
    {
     "name": "stderr",
     "output_type": "stream",
     "text": [
      "100%|██████████| 296/296 [16:45<00:00,  3.40s/it]\n"
     ]
    }
   ],
   "source": [
    "ensemble = generate_ensemble(\n",
    "    data_dist,\n",
    "    CLUSTERERS,\n",
    "    attributes=CLUSTERING_ATTRIBUTES_TO_SAVE,\n",
    "    affinity_matrix=data_dist,\n",
    ")"
   ]
  },
  {
   "cell_type": "code",
   "execution_count": 27,
   "id": "0c3cba03",
   "metadata": {
    "execution": {
     "iopub.execute_input": "2022-11-26T04:55:11.697742Z",
     "iopub.status.busy": "2022-11-26T04:55:11.697476Z",
     "iopub.status.idle": "2022-11-26T04:55:11.714424Z",
     "shell.execute_reply": "2022-11-26T04:55:11.714005Z"
    },
    "papermill": {
     "duration": 0.048053,
     "end_time": "2022-11-26T04:55:11.715725",
     "exception": false,
     "start_time": "2022-11-26T04:55:11.667672",
     "status": "completed"
    },
    "tags": []
   },
   "outputs": [
    {
     "data": {
      "text/plain": [
       "(296, 3)"
      ]
     },
     "execution_count": 27,
     "metadata": {},
     "output_type": "execute_result"
    }
   ],
   "source": [
    "# the number should be close to 295 (the number of partitions generated by k-means/spectral clustering)\n",
    "ensemble.shape"
   ]
  },
  {
   "cell_type": "code",
   "execution_count": 28,
   "id": "fb85ab52",
   "metadata": {
    "execution": {
     "iopub.execute_input": "2022-11-26T04:55:11.768803Z",
     "iopub.status.busy": "2022-11-26T04:55:11.768408Z",
     "iopub.status.idle": "2022-11-26T04:55:11.798548Z",
     "shell.execute_reply": "2022-11-26T04:55:11.798083Z"
    },
    "papermill": {
     "duration": 0.05358,
     "end_time": "2022-11-26T04:55:11.799392",
     "exception": false,
     "start_time": "2022-11-26T04:55:11.745812",
     "status": "completed"
    },
    "tags": []
   },
   "outputs": [
    {
     "data": {
      "text/html": [
       "<div>\n",
       "<style scoped>\n",
       "    .dataframe tbody tr th:only-of-type {\n",
       "        vertical-align: middle;\n",
       "    }\n",
       "\n",
       "    .dataframe tbody tr th {\n",
       "        vertical-align: top;\n",
       "    }\n",
       "\n",
       "    .dataframe thead th {\n",
       "        text-align: right;\n",
       "    }\n",
       "</style>\n",
       "<table border=\"1\" class=\"dataframe\">\n",
       "  <thead>\n",
       "    <tr style=\"text-align: right;\">\n",
       "      <th></th>\n",
       "      <th>clusterer_params</th>\n",
       "      <th>partition</th>\n",
       "      <th>n_clusters</th>\n",
       "    </tr>\n",
       "    <tr>\n",
       "      <th>clusterer_id</th>\n",
       "      <th></th>\n",
       "      <th></th>\n",
       "      <th></th>\n",
       "    </tr>\n",
       "  </thead>\n",
       "  <tbody>\n",
       "    <tr>\n",
       "      <th>AgglomerativeClustering #0</th>\n",
       "      <td>{'affinity': 'euclidean', 'compute_full_tree':...</td>\n",
       "      <td>[1.0, 1.0, 1.0, 1.0, 1.0, 1.0, 1.0, 1.0, 1.0, ...</td>\n",
       "      <td>2</td>\n",
       "    </tr>\n",
       "    <tr>\n",
       "      <th>AgglomerativeClustering #1</th>\n",
       "      <td>{'affinity': 'precomputed', 'compute_full_tree...</td>\n",
       "      <td>[0.0, 0.0, 0.0, 0.0, 0.0, 0.0, 0.0, 0.0, 0.0, ...</td>\n",
       "      <td>2</td>\n",
       "    </tr>\n",
       "    <tr>\n",
       "      <th>AgglomerativeClustering #2</th>\n",
       "      <td>{'affinity': 'precomputed', 'compute_full_tree...</td>\n",
       "      <td>[0.0, 0.0, 0.0, 0.0, 0.0, 0.0, 0.0, 0.0, 0.0, ...</td>\n",
       "      <td>2</td>\n",
       "    </tr>\n",
       "    <tr>\n",
       "      <th>AgglomerativeClustering #3</th>\n",
       "      <td>{'affinity': 'precomputed', 'compute_full_tree...</td>\n",
       "      <td>[0.0, 0.0, 0.0, 0.0, 0.0, 0.0, 0.0, 0.0, 0.0, ...</td>\n",
       "      <td>2</td>\n",
       "    </tr>\n",
       "    <tr>\n",
       "      <th>AgglomerativeClustering #4</th>\n",
       "      <td>{'affinity': 'euclidean', 'compute_full_tree':...</td>\n",
       "      <td>[0.0, 0.0, 0.0, 0.0, 0.0, 0.0, 0.0, 0.0, 0.0, ...</td>\n",
       "      <td>3</td>\n",
       "    </tr>\n",
       "  </tbody>\n",
       "</table>\n",
       "</div>"
      ],
      "text/plain": [
       "                                                             clusterer_params  \\\n",
       "clusterer_id                                                                    \n",
       "AgglomerativeClustering #0  {'affinity': 'euclidean', 'compute_full_tree':...   \n",
       "AgglomerativeClustering #1  {'affinity': 'precomputed', 'compute_full_tree...   \n",
       "AgglomerativeClustering #2  {'affinity': 'precomputed', 'compute_full_tree...   \n",
       "AgglomerativeClustering #3  {'affinity': 'precomputed', 'compute_full_tree...   \n",
       "AgglomerativeClustering #4  {'affinity': 'euclidean', 'compute_full_tree':...   \n",
       "\n",
       "                                                                    partition  \\\n",
       "clusterer_id                                                                    \n",
       "AgglomerativeClustering #0  [1.0, 1.0, 1.0, 1.0, 1.0, 1.0, 1.0, 1.0, 1.0, ...   \n",
       "AgglomerativeClustering #1  [0.0, 0.0, 0.0, 0.0, 0.0, 0.0, 0.0, 0.0, 0.0, ...   \n",
       "AgglomerativeClustering #2  [0.0, 0.0, 0.0, 0.0, 0.0, 0.0, 0.0, 0.0, 0.0, ...   \n",
       "AgglomerativeClustering #3  [0.0, 0.0, 0.0, 0.0, 0.0, 0.0, 0.0, 0.0, 0.0, ...   \n",
       "AgglomerativeClustering #4  [0.0, 0.0, 0.0, 0.0, 0.0, 0.0, 0.0, 0.0, 0.0, ...   \n",
       "\n",
       "                            n_clusters  \n",
       "clusterer_id                            \n",
       "AgglomerativeClustering #0           2  \n",
       "AgglomerativeClustering #1           2  \n",
       "AgglomerativeClustering #2           2  \n",
       "AgglomerativeClustering #3           2  \n",
       "AgglomerativeClustering #4           3  "
      ]
     },
     "execution_count": 28,
     "metadata": {},
     "output_type": "execute_result"
    }
   ],
   "source": [
    "ensemble.head()"
   ]
  },
  {
   "cell_type": "code",
   "execution_count": 29,
   "id": "3918f066",
   "metadata": {
    "execution": {
     "iopub.execute_input": "2022-11-26T04:55:11.830539Z",
     "iopub.status.busy": "2022-11-26T04:55:11.830223Z",
     "iopub.status.idle": "2022-11-26T04:55:11.851345Z",
     "shell.execute_reply": "2022-11-26T04:55:11.850889Z"
    },
    "papermill": {
     "duration": 0.037708,
     "end_time": "2022-11-26T04:55:11.852194",
     "exception": false,
     "start_time": "2022-11-26T04:55:11.814486",
     "status": "completed"
    },
    "tags": []
   },
   "outputs": [
    {
     "data": {
      "text/plain": [
       "75    4\n",
       "20    4\n",
       "22    4\n",
       "23    4\n",
       "24    4\n",
       "Name: n_clusters, dtype: int64"
      ]
     },
     "execution_count": 29,
     "metadata": {},
     "output_type": "execute_result"
    }
   ],
   "source": [
    "ensemble[\"n_clusters\"].value_counts().head()"
   ]
  },
  {
   "cell_type": "code",
   "execution_count": 30,
   "id": "10139d3e",
   "metadata": {
    "execution": {
     "iopub.execute_input": "2022-11-26T04:55:11.883530Z",
     "iopub.status.busy": "2022-11-26T04:55:11.883164Z",
     "iopub.status.idle": "2022-11-26T04:55:11.906253Z",
     "shell.execute_reply": "2022-11-26T04:55:11.905809Z"
    },
    "papermill": {
     "duration": 0.039641,
     "end_time": "2022-11-26T04:55:11.907077",
     "exception": false,
     "start_time": "2022-11-26T04:55:11.867436",
     "status": "completed"
    },
    "tags": []
   },
   "outputs": [
    {
     "data": {
      "text/plain": [
       "count    296.000000\n",
       "mean      38.500000\n",
       "std       21.396182\n",
       "min        2.000000\n",
       "25%       20.000000\n",
       "50%       38.500000\n",
       "75%       57.000000\n",
       "max       75.000000\n",
       "Name: n_clusters, dtype: float64"
      ]
     },
     "metadata": {},
     "output_type": "display_data"
    }
   ],
   "source": [
    "ensemble_stats = ensemble[\"n_clusters\"].describe()\n",
    "display(ensemble_stats)"
   ]
  },
  {
   "cell_type": "markdown",
   "id": "f0e0e4ff",
   "metadata": {
    "papermill": {
     "duration": 0.015405,
     "end_time": "2022-11-26T04:55:11.937695",
     "exception": false,
     "start_time": "2022-11-26T04:55:11.922290",
     "status": "completed"
    },
    "tags": []
   },
   "source": [
    "## Testing"
   ]
  },
  {
   "cell_type": "code",
   "execution_count": 31,
   "id": "761ee0a2",
   "metadata": {
    "execution": {
     "iopub.execute_input": "2022-11-26T04:55:11.969188Z",
     "iopub.status.busy": "2022-11-26T04:55:11.968762Z",
     "iopub.status.idle": "2022-11-26T04:55:11.988631Z",
     "shell.execute_reply": "2022-11-26T04:55:11.988219Z"
    },
    "papermill": {
     "duration": 0.036508,
     "end_time": "2022-11-26T04:55:11.989443",
     "exception": false,
     "start_time": "2022-11-26T04:55:11.952935",
     "status": "completed"
    },
    "tags": []
   },
   "outputs": [],
   "source": [
    "assert ensemble_stats[\"min\"] > 1"
   ]
  },
  {
   "cell_type": "code",
   "execution_count": 32,
   "id": "f66f0512",
   "metadata": {
    "execution": {
     "iopub.execute_input": "2022-11-26T04:55:12.020759Z",
     "iopub.status.busy": "2022-11-26T04:55:12.020442Z",
     "iopub.status.idle": "2022-11-26T04:55:12.039530Z",
     "shell.execute_reply": "2022-11-26T04:55:12.039143Z"
    },
    "papermill": {
     "duration": 0.035506,
     "end_time": "2022-11-26T04:55:12.040318",
     "exception": false,
     "start_time": "2022-11-26T04:55:12.004812",
     "status": "completed"
    },
    "tags": []
   },
   "outputs": [],
   "source": [
    "assert not ensemble[\"n_clusters\"].isna().any()"
   ]
  },
  {
   "cell_type": "code",
   "execution_count": 33,
   "id": "bbe90764",
   "metadata": {
    "execution": {
     "iopub.execute_input": "2022-11-26T04:55:12.071565Z",
     "iopub.status.busy": "2022-11-26T04:55:12.071197Z",
     "iopub.status.idle": "2022-11-26T04:55:12.089800Z",
     "shell.execute_reply": "2022-11-26T04:55:12.089422Z"
    },
    "papermill": {
     "duration": 0.035252,
     "end_time": "2022-11-26T04:55:12.090632",
     "exception": false,
     "start_time": "2022-11-26T04:55:12.055380",
     "status": "completed"
    },
    "tags": []
   },
   "outputs": [],
   "source": [
    "assert ensemble.shape[0] == len(CLUSTERERS)"
   ]
  },
  {
   "cell_type": "code",
   "execution_count": 34,
   "id": "8d8de903",
   "metadata": {
    "execution": {
     "iopub.execute_input": "2022-11-26T04:55:12.121637Z",
     "iopub.status.busy": "2022-11-26T04:55:12.121282Z",
     "iopub.status.idle": "2022-11-26T04:55:12.164009Z",
     "shell.execute_reply": "2022-11-26T04:55:12.163606Z"
    },
    "papermill": {
     "duration": 0.059024,
     "end_time": "2022-11-26T04:55:12.164916",
     "exception": false,
     "start_time": "2022-11-26T04:55:12.105892",
     "status": "completed"
    },
    "tags": []
   },
   "outputs": [],
   "source": [
    "# all partitions have the right size\n",
    "assert np.all(\n",
    "    [part[\"partition\"].shape[0] == data.shape[0] for idx, part in ensemble.iterrows()]\n",
    ")"
   ]
  },
  {
   "cell_type": "code",
   "execution_count": 35,
   "id": "cb4156be",
   "metadata": {
    "execution": {
     "iopub.execute_input": "2022-11-26T04:55:12.196295Z",
     "iopub.status.busy": "2022-11-26T04:55:12.195920Z",
     "iopub.status.idle": "2022-11-26T04:55:12.242624Z",
     "shell.execute_reply": "2022-11-26T04:55:12.242190Z"
    },
    "papermill": {
     "duration": 0.063825,
     "end_time": "2022-11-26T04:55:12.244057",
     "exception": false,
     "start_time": "2022-11-26T04:55:12.180232",
     "status": "completed"
    },
    "tags": []
   },
   "outputs": [],
   "source": [
    "# no partition has negative clusters (noisy points)\n",
    "assert not np.any([(part[\"partition\"] < 0).any() for idx, part in ensemble.iterrows()])"
   ]
  },
  {
   "cell_type": "markdown",
   "id": "328d1bce-1a66-45c7-96ce-43378be06284",
   "metadata": {
    "papermill": {
     "duration": 0.029565,
     "end_time": "2022-11-26T04:55:12.304291",
     "exception": false,
     "start_time": "2022-11-26T04:55:12.274726",
     "status": "completed"
    },
    "tags": []
   },
   "source": [
    "## Add clustering quality measures"
   ]
  },
  {
   "cell_type": "code",
   "execution_count": 36,
   "id": "159e339e-14e3-4bb9-8ab4-f71e166678eb",
   "metadata": {
    "execution": {
     "iopub.execute_input": "2022-11-26T04:55:12.339233Z",
     "iopub.status.busy": "2022-11-26T04:55:12.339078Z",
     "iopub.status.idle": "2022-11-26T04:55:12.358663Z",
     "shell.execute_reply": "2022-11-26T04:55:12.358277Z"
    },
    "papermill": {
     "duration": 0.036333,
     "end_time": "2022-11-26T04:55:12.359621",
     "exception": false,
     "start_time": "2022-11-26T04:55:12.323288",
     "status": "completed"
    },
    "tags": []
   },
   "outputs": [],
   "source": [
    "from sklearn.metrics import calinski_harabasz_score"
   ]
  },
  {
   "cell_type": "code",
   "execution_count": 37,
   "id": "f9e9a3f0-751a-498c-ae20-65cac607d783",
   "metadata": {
    "execution": {
     "iopub.execute_input": "2022-11-26T04:55:12.390521Z",
     "iopub.status.busy": "2022-11-26T04:55:12.390375Z",
     "iopub.status.idle": "2022-11-26T04:55:18.779183Z",
     "shell.execute_reply": "2022-11-26T04:55:18.778862Z"
    },
    "papermill": {
     "duration": 6.406524,
     "end_time": "2022-11-26T04:55:18.781266",
     "exception": false,
     "start_time": "2022-11-26T04:55:12.374742",
     "status": "completed"
    },
    "tags": []
   },
   "outputs": [],
   "source": [
    "ensemble = ensemble.assign(\n",
    "    ch_score=ensemble[\"partition\"].apply(lambda x: calinski_harabasz_score(data, x))\n",
    ")"
   ]
  },
  {
   "cell_type": "code",
   "execution_count": 38,
   "id": "21539397-cc67-45e0-b8ed-ca5810bde593",
   "metadata": {
    "execution": {
     "iopub.execute_input": "2022-11-26T04:55:18.840588Z",
     "iopub.status.busy": "2022-11-26T04:55:18.840276Z",
     "iopub.status.idle": "2022-11-26T04:55:18.857614Z",
     "shell.execute_reply": "2022-11-26T04:55:18.857255Z"
    },
    "papermill": {
     "duration": 0.046504,
     "end_time": "2022-11-26T04:55:18.858726",
     "exception": false,
     "start_time": "2022-11-26T04:55:18.812222",
     "status": "completed"
    },
    "tags": []
   },
   "outputs": [
    {
     "data": {
      "text/plain": [
       "(296, 4)"
      ]
     },
     "execution_count": 38,
     "metadata": {},
     "output_type": "execute_result"
    }
   ],
   "source": [
    "ensemble.shape"
   ]
  },
  {
   "cell_type": "code",
   "execution_count": 39,
   "id": "555a166b-1aec-4c86-8769-d37cd7386706",
   "metadata": {
    "execution": {
     "iopub.execute_input": "2022-11-26T04:55:18.907023Z",
     "iopub.status.busy": "2022-11-26T04:55:18.906713Z",
     "iopub.status.idle": "2022-11-26T04:55:18.941970Z",
     "shell.execute_reply": "2022-11-26T04:55:18.941484Z"
    },
    "papermill": {
     "duration": 0.059554,
     "end_time": "2022-11-26T04:55:18.942845",
     "exception": false,
     "start_time": "2022-11-26T04:55:18.883291",
     "status": "completed"
    },
    "tags": []
   },
   "outputs": [
    {
     "data": {
      "text/html": [
       "<div>\n",
       "<style scoped>\n",
       "    .dataframe tbody tr th:only-of-type {\n",
       "        vertical-align: middle;\n",
       "    }\n",
       "\n",
       "    .dataframe tbody tr th {\n",
       "        vertical-align: top;\n",
       "    }\n",
       "\n",
       "    .dataframe thead th {\n",
       "        text-align: right;\n",
       "    }\n",
       "</style>\n",
       "<table border=\"1\" class=\"dataframe\">\n",
       "  <thead>\n",
       "    <tr style=\"text-align: right;\">\n",
       "      <th></th>\n",
       "      <th>clusterer_params</th>\n",
       "      <th>partition</th>\n",
       "      <th>n_clusters</th>\n",
       "      <th>ch_score</th>\n",
       "    </tr>\n",
       "    <tr>\n",
       "      <th>clusterer_id</th>\n",
       "      <th></th>\n",
       "      <th></th>\n",
       "      <th></th>\n",
       "      <th></th>\n",
       "    </tr>\n",
       "  </thead>\n",
       "  <tbody>\n",
       "    <tr>\n",
       "      <th>AgglomerativeClustering #0</th>\n",
       "      <td>{'affinity': 'euclidean', 'compute_full_tree':...</td>\n",
       "      <td>[1.0, 1.0, 1.0, 1.0, 1.0, 1.0, 1.0, 1.0, 1.0, ...</td>\n",
       "      <td>2</td>\n",
       "      <td>1.953260</td>\n",
       "    </tr>\n",
       "    <tr>\n",
       "      <th>AgglomerativeClustering #1</th>\n",
       "      <td>{'affinity': 'precomputed', 'compute_full_tree...</td>\n",
       "      <td>[0.0, 0.0, 0.0, 0.0, 0.0, 0.0, 0.0, 0.0, 0.0, ...</td>\n",
       "      <td>2</td>\n",
       "      <td>8.158193</td>\n",
       "    </tr>\n",
       "    <tr>\n",
       "      <th>AgglomerativeClustering #2</th>\n",
       "      <td>{'affinity': 'precomputed', 'compute_full_tree...</td>\n",
       "      <td>[0.0, 0.0, 0.0, 0.0, 0.0, 0.0, 0.0, 0.0, 0.0, ...</td>\n",
       "      <td>2</td>\n",
       "      <td>8.158193</td>\n",
       "    </tr>\n",
       "    <tr>\n",
       "      <th>AgglomerativeClustering #3</th>\n",
       "      <td>{'affinity': 'precomputed', 'compute_full_tree...</td>\n",
       "      <td>[0.0, 0.0, 0.0, 0.0, 0.0, 0.0, 0.0, 0.0, 0.0, ...</td>\n",
       "      <td>2</td>\n",
       "      <td>8.158193</td>\n",
       "    </tr>\n",
       "    <tr>\n",
       "      <th>AgglomerativeClustering #4</th>\n",
       "      <td>{'affinity': 'euclidean', 'compute_full_tree':...</td>\n",
       "      <td>[0.0, 0.0, 0.0, 0.0, 0.0, 0.0, 0.0, 0.0, 0.0, ...</td>\n",
       "      <td>3</td>\n",
       "      <td>2.813778</td>\n",
       "    </tr>\n",
       "  </tbody>\n",
       "</table>\n",
       "</div>"
      ],
      "text/plain": [
       "                                                             clusterer_params  \\\n",
       "clusterer_id                                                                    \n",
       "AgglomerativeClustering #0  {'affinity': 'euclidean', 'compute_full_tree':...   \n",
       "AgglomerativeClustering #1  {'affinity': 'precomputed', 'compute_full_tree...   \n",
       "AgglomerativeClustering #2  {'affinity': 'precomputed', 'compute_full_tree...   \n",
       "AgglomerativeClustering #3  {'affinity': 'precomputed', 'compute_full_tree...   \n",
       "AgglomerativeClustering #4  {'affinity': 'euclidean', 'compute_full_tree':...   \n",
       "\n",
       "                                                                    partition  \\\n",
       "clusterer_id                                                                    \n",
       "AgglomerativeClustering #0  [1.0, 1.0, 1.0, 1.0, 1.0, 1.0, 1.0, 1.0, 1.0, ...   \n",
       "AgglomerativeClustering #1  [0.0, 0.0, 0.0, 0.0, 0.0, 0.0, 0.0, 0.0, 0.0, ...   \n",
       "AgglomerativeClustering #2  [0.0, 0.0, 0.0, 0.0, 0.0, 0.0, 0.0, 0.0, 0.0, ...   \n",
       "AgglomerativeClustering #3  [0.0, 0.0, 0.0, 0.0, 0.0, 0.0, 0.0, 0.0, 0.0, ...   \n",
       "AgglomerativeClustering #4  [0.0, 0.0, 0.0, 0.0, 0.0, 0.0, 0.0, 0.0, 0.0, ...   \n",
       "\n",
       "                            n_clusters  ch_score  \n",
       "clusterer_id                                      \n",
       "AgglomerativeClustering #0           2  1.953260  \n",
       "AgglomerativeClustering #1           2  8.158193  \n",
       "AgglomerativeClustering #2           2  8.158193  \n",
       "AgglomerativeClustering #3           2  8.158193  \n",
       "AgglomerativeClustering #4           3  2.813778  "
      ]
     },
     "execution_count": 39,
     "metadata": {},
     "output_type": "execute_result"
    }
   ],
   "source": [
    "ensemble.head()"
   ]
  },
  {
   "cell_type": "markdown",
   "id": "d1571fcd",
   "metadata": {
    "papermill": {
     "duration": 0.019175,
     "end_time": "2022-11-26T04:55:18.981562",
     "exception": false,
     "start_time": "2022-11-26T04:55:18.962387",
     "status": "completed"
    },
    "tags": []
   },
   "source": [
    "## Save"
   ]
  },
  {
   "cell_type": "code",
   "execution_count": 40,
   "id": "1eac08b4",
   "metadata": {
    "execution": {
     "iopub.execute_input": "2022-11-26T04:55:19.022898Z",
     "iopub.status.busy": "2022-11-26T04:55:19.022586Z",
     "iopub.status.idle": "2022-11-26T04:55:19.045610Z",
     "shell.execute_reply": "2022-11-26T04:55:19.045133Z"
    },
    "papermill": {
     "duration": 0.04607,
     "end_time": "2022-11-26T04:55:19.046482",
     "exception": false,
     "start_time": "2022-11-26T04:55:19.000412",
     "status": "completed"
    },
    "tags": []
   },
   "outputs": [
    {
     "data": {
      "text/plain": [
       "PosixPath('/opt/data/results/clustering/null_sims/shuffle_genes/runs/z_score_std-projection-smultixcan-efo_partial-mashr-zscores/AgglomerativeClustering-AFFINITY_euclidean-K_MAX_75-K_MIN_2.pkl')"
      ]
     },
     "metadata": {},
     "output_type": "display_data"
    }
   ],
   "source": [
    "output_filename = Path(\n",
    "    RESULTS_DIR,\n",
    "    generate_result_set_name(\n",
    "        {k: v for k, v in CLUSTERING_OPTIONS.items() if k != \"LINKAGE\"},\n",
    "        prefix=f\"{clustering_method_name}-\",\n",
    "        suffix=\".pkl\",\n",
    "    ),\n",
    ").resolve()\n",
    "display(output_filename)"
   ]
  },
  {
   "cell_type": "code",
   "execution_count": 41,
   "id": "f5e2c9ac",
   "metadata": {
    "execution": {
     "iopub.execute_input": "2022-11-26T04:55:19.083627Z",
     "iopub.status.busy": "2022-11-26T04:55:19.083392Z",
     "iopub.status.idle": "2022-11-26T04:55:19.116956Z",
     "shell.execute_reply": "2022-11-26T04:55:19.116415Z"
    },
    "papermill": {
     "duration": 0.054258,
     "end_time": "2022-11-26T04:55:19.117955",
     "exception": false,
     "start_time": "2022-11-26T04:55:19.063697",
     "status": "completed"
    },
    "tags": []
   },
   "outputs": [],
   "source": [
    "ensemble.to_pickle(output_filename)"
   ]
  },
  {
   "cell_type": "markdown",
   "id": "89f0c69b-2db4-487c-9966-6448c13c097e",
   "metadata": {
    "papermill": {
     "duration": 0.0154,
     "end_time": "2022-11-26T04:55:19.149186",
     "exception": false,
     "start_time": "2022-11-26T04:55:19.133786",
     "status": "completed"
    },
    "tags": []
   },
   "source": [
    "# Cluster quality"
   ]
  },
  {
   "cell_type": "code",
   "execution_count": 42,
   "id": "8441d1a4-f48a-4cf3-9b12-8adf1989c959",
   "metadata": {
    "execution": {
     "iopub.execute_input": "2022-11-26T04:55:19.181248Z",
     "iopub.status.busy": "2022-11-26T04:55:19.180922Z",
     "iopub.status.idle": "2022-11-26T04:55:19.209533Z",
     "shell.execute_reply": "2022-11-26T04:55:19.209043Z"
    },
    "papermill": {
     "duration": 0.045747,
     "end_time": "2022-11-26T04:55:19.210374",
     "exception": false,
     "start_time": "2022-11-26T04:55:19.164627",
     "status": "completed"
    },
    "tags": []
   },
   "outputs": [
    {
     "data": {
      "text/html": [
       "<div>\n",
       "<style scoped>\n",
       "    .dataframe tbody tr th:only-of-type {\n",
       "        vertical-align: middle;\n",
       "    }\n",
       "\n",
       "    .dataframe tbody tr th {\n",
       "        vertical-align: top;\n",
       "    }\n",
       "\n",
       "    .dataframe thead th {\n",
       "        text-align: right;\n",
       "    }\n",
       "</style>\n",
       "<table border=\"1\" class=\"dataframe\">\n",
       "  <thead>\n",
       "    <tr style=\"text-align: right;\">\n",
       "      <th></th>\n",
       "      <th>ch_score</th>\n",
       "    </tr>\n",
       "    <tr>\n",
       "      <th>n_clusters</th>\n",
       "      <th></th>\n",
       "    </tr>\n",
       "  </thead>\n",
       "  <tbody>\n",
       "    <tr>\n",
       "      <th>2</th>\n",
       "      <td>6.606960</td>\n",
       "    </tr>\n",
       "    <tr>\n",
       "      <th>3</th>\n",
       "      <td>6.063295</td>\n",
       "    </tr>\n",
       "    <tr>\n",
       "      <th>4</th>\n",
       "      <td>5.310389</td>\n",
       "    </tr>\n",
       "    <tr>\n",
       "      <th>5</th>\n",
       "      <td>4.928258</td>\n",
       "    </tr>\n",
       "    <tr>\n",
       "      <th>6</th>\n",
       "      <td>4.895411</td>\n",
       "    </tr>\n",
       "    <tr>\n",
       "      <th>7</th>\n",
       "      <td>4.628418</td>\n",
       "    </tr>\n",
       "    <tr>\n",
       "      <th>8</th>\n",
       "      <td>4.419210</td>\n",
       "    </tr>\n",
       "    <tr>\n",
       "      <th>9</th>\n",
       "      <td>4.335187</td>\n",
       "    </tr>\n",
       "    <tr>\n",
       "      <th>10</th>\n",
       "      <td>4.158273</td>\n",
       "    </tr>\n",
       "    <tr>\n",
       "      <th>11</th>\n",
       "      <td>4.023788</td>\n",
       "    </tr>\n",
       "    <tr>\n",
       "      <th>12</th>\n",
       "      <td>3.933157</td>\n",
       "    </tr>\n",
       "    <tr>\n",
       "      <th>13</th>\n",
       "      <td>3.802608</td>\n",
       "    </tr>\n",
       "    <tr>\n",
       "      <th>14</th>\n",
       "      <td>3.709691</td>\n",
       "    </tr>\n",
       "    <tr>\n",
       "      <th>15</th>\n",
       "      <td>3.633875</td>\n",
       "    </tr>\n",
       "    <tr>\n",
       "      <th>16</th>\n",
       "      <td>3.596930</td>\n",
       "    </tr>\n",
       "    <tr>\n",
       "      <th>17</th>\n",
       "      <td>3.615342</td>\n",
       "    </tr>\n",
       "    <tr>\n",
       "      <th>18</th>\n",
       "      <td>3.547893</td>\n",
       "    </tr>\n",
       "    <tr>\n",
       "      <th>19</th>\n",
       "      <td>3.504964</td>\n",
       "    </tr>\n",
       "    <tr>\n",
       "      <th>20</th>\n",
       "      <td>3.444807</td>\n",
       "    </tr>\n",
       "    <tr>\n",
       "      <th>21</th>\n",
       "      <td>3.394936</td>\n",
       "    </tr>\n",
       "    <tr>\n",
       "      <th>22</th>\n",
       "      <td>3.393169</td>\n",
       "    </tr>\n",
       "    <tr>\n",
       "      <th>23</th>\n",
       "      <td>3.337726</td>\n",
       "    </tr>\n",
       "    <tr>\n",
       "      <th>24</th>\n",
       "      <td>3.293775</td>\n",
       "    </tr>\n",
       "    <tr>\n",
       "      <th>25</th>\n",
       "      <td>3.241999</td>\n",
       "    </tr>\n",
       "    <tr>\n",
       "      <th>26</th>\n",
       "      <td>3.201729</td>\n",
       "    </tr>\n",
       "    <tr>\n",
       "      <th>27</th>\n",
       "      <td>3.170595</td>\n",
       "    </tr>\n",
       "    <tr>\n",
       "      <th>28</th>\n",
       "      <td>3.137619</td>\n",
       "    </tr>\n",
       "    <tr>\n",
       "      <th>29</th>\n",
       "      <td>3.103090</td>\n",
       "    </tr>\n",
       "    <tr>\n",
       "      <th>30</th>\n",
       "      <td>3.071126</td>\n",
       "    </tr>\n",
       "    <tr>\n",
       "      <th>31</th>\n",
       "      <td>3.037842</td>\n",
       "    </tr>\n",
       "    <tr>\n",
       "      <th>32</th>\n",
       "      <td>3.014131</td>\n",
       "    </tr>\n",
       "    <tr>\n",
       "      <th>33</th>\n",
       "      <td>3.000658</td>\n",
       "    </tr>\n",
       "    <tr>\n",
       "      <th>34</th>\n",
       "      <td>2.969473</td>\n",
       "    </tr>\n",
       "    <tr>\n",
       "      <th>35</th>\n",
       "      <td>2.962332</td>\n",
       "    </tr>\n",
       "    <tr>\n",
       "      <th>36</th>\n",
       "      <td>2.959138</td>\n",
       "    </tr>\n",
       "    <tr>\n",
       "      <th>37</th>\n",
       "      <td>2.934218</td>\n",
       "    </tr>\n",
       "    <tr>\n",
       "      <th>38</th>\n",
       "      <td>2.911089</td>\n",
       "    </tr>\n",
       "    <tr>\n",
       "      <th>39</th>\n",
       "      <td>2.883441</td>\n",
       "    </tr>\n",
       "    <tr>\n",
       "      <th>40</th>\n",
       "      <td>2.861164</td>\n",
       "    </tr>\n",
       "    <tr>\n",
       "      <th>41</th>\n",
       "      <td>2.846755</td>\n",
       "    </tr>\n",
       "    <tr>\n",
       "      <th>42</th>\n",
       "      <td>2.824298</td>\n",
       "    </tr>\n",
       "    <tr>\n",
       "      <th>43</th>\n",
       "      <td>2.819568</td>\n",
       "    </tr>\n",
       "    <tr>\n",
       "      <th>44</th>\n",
       "      <td>2.802520</td>\n",
       "    </tr>\n",
       "    <tr>\n",
       "      <th>45</th>\n",
       "      <td>2.789631</td>\n",
       "    </tr>\n",
       "    <tr>\n",
       "      <th>46</th>\n",
       "      <td>2.770366</td>\n",
       "    </tr>\n",
       "    <tr>\n",
       "      <th>47</th>\n",
       "      <td>2.752816</td>\n",
       "    </tr>\n",
       "    <tr>\n",
       "      <th>48</th>\n",
       "      <td>2.743752</td>\n",
       "    </tr>\n",
       "    <tr>\n",
       "      <th>49</th>\n",
       "      <td>2.720874</td>\n",
       "    </tr>\n",
       "    <tr>\n",
       "      <th>50</th>\n",
       "      <td>2.699490</td>\n",
       "    </tr>\n",
       "    <tr>\n",
       "      <th>51</th>\n",
       "      <td>2.683477</td>\n",
       "    </tr>\n",
       "    <tr>\n",
       "      <th>52</th>\n",
       "      <td>2.681091</td>\n",
       "    </tr>\n",
       "    <tr>\n",
       "      <th>53</th>\n",
       "      <td>2.665785</td>\n",
       "    </tr>\n",
       "    <tr>\n",
       "      <th>54</th>\n",
       "      <td>2.660382</td>\n",
       "    </tr>\n",
       "    <tr>\n",
       "      <th>55</th>\n",
       "      <td>2.654002</td>\n",
       "    </tr>\n",
       "    <tr>\n",
       "      <th>56</th>\n",
       "      <td>2.640423</td>\n",
       "    </tr>\n",
       "    <tr>\n",
       "      <th>57</th>\n",
       "      <td>2.623306</td>\n",
       "    </tr>\n",
       "    <tr>\n",
       "      <th>58</th>\n",
       "      <td>2.618428</td>\n",
       "    </tr>\n",
       "    <tr>\n",
       "      <th>59</th>\n",
       "      <td>2.609615</td>\n",
       "    </tr>\n",
       "    <tr>\n",
       "      <th>60</th>\n",
       "      <td>2.597777</td>\n",
       "    </tr>\n",
       "    <tr>\n",
       "      <th>61</th>\n",
       "      <td>2.587269</td>\n",
       "    </tr>\n",
       "    <tr>\n",
       "      <th>62</th>\n",
       "      <td>2.581342</td>\n",
       "    </tr>\n",
       "    <tr>\n",
       "      <th>63</th>\n",
       "      <td>2.567287</td>\n",
       "    </tr>\n",
       "    <tr>\n",
       "      <th>64</th>\n",
       "      <td>2.560253</td>\n",
       "    </tr>\n",
       "    <tr>\n",
       "      <th>65</th>\n",
       "      <td>2.549776</td>\n",
       "    </tr>\n",
       "    <tr>\n",
       "      <th>66</th>\n",
       "      <td>2.544094</td>\n",
       "    </tr>\n",
       "    <tr>\n",
       "      <th>67</th>\n",
       "      <td>2.538015</td>\n",
       "    </tr>\n",
       "    <tr>\n",
       "      <th>68</th>\n",
       "      <td>2.525222</td>\n",
       "    </tr>\n",
       "    <tr>\n",
       "      <th>69</th>\n",
       "      <td>2.511460</td>\n",
       "    </tr>\n",
       "    <tr>\n",
       "      <th>70</th>\n",
       "      <td>2.500221</td>\n",
       "    </tr>\n",
       "    <tr>\n",
       "      <th>71</th>\n",
       "      <td>2.494450</td>\n",
       "    </tr>\n",
       "    <tr>\n",
       "      <th>72</th>\n",
       "      <td>2.488121</td>\n",
       "    </tr>\n",
       "    <tr>\n",
       "      <th>73</th>\n",
       "      <td>2.481890</td>\n",
       "    </tr>\n",
       "    <tr>\n",
       "      <th>74</th>\n",
       "      <td>2.471117</td>\n",
       "    </tr>\n",
       "    <tr>\n",
       "      <th>75</th>\n",
       "      <td>2.463192</td>\n",
       "    </tr>\n",
       "  </tbody>\n",
       "</table>\n",
       "</div>"
      ],
      "text/plain": [
       "            ch_score\n",
       "n_clusters          \n",
       "2           6.606960\n",
       "3           6.063295\n",
       "4           5.310389\n",
       "5           4.928258\n",
       "6           4.895411\n",
       "7           4.628418\n",
       "8           4.419210\n",
       "9           4.335187\n",
       "10          4.158273\n",
       "11          4.023788\n",
       "12          3.933157\n",
       "13          3.802608\n",
       "14          3.709691\n",
       "15          3.633875\n",
       "16          3.596930\n",
       "17          3.615342\n",
       "18          3.547893\n",
       "19          3.504964\n",
       "20          3.444807\n",
       "21          3.394936\n",
       "22          3.393169\n",
       "23          3.337726\n",
       "24          3.293775\n",
       "25          3.241999\n",
       "26          3.201729\n",
       "27          3.170595\n",
       "28          3.137619\n",
       "29          3.103090\n",
       "30          3.071126\n",
       "31          3.037842\n",
       "32          3.014131\n",
       "33          3.000658\n",
       "34          2.969473\n",
       "35          2.962332\n",
       "36          2.959138\n",
       "37          2.934218\n",
       "38          2.911089\n",
       "39          2.883441\n",
       "40          2.861164\n",
       "41          2.846755\n",
       "42          2.824298\n",
       "43          2.819568\n",
       "44          2.802520\n",
       "45          2.789631\n",
       "46          2.770366\n",
       "47          2.752816\n",
       "48          2.743752\n",
       "49          2.720874\n",
       "50          2.699490\n",
       "51          2.683477\n",
       "52          2.681091\n",
       "53          2.665785\n",
       "54          2.660382\n",
       "55          2.654002\n",
       "56          2.640423\n",
       "57          2.623306\n",
       "58          2.618428\n",
       "59          2.609615\n",
       "60          2.597777\n",
       "61          2.587269\n",
       "62          2.581342\n",
       "63          2.567287\n",
       "64          2.560253\n",
       "65          2.549776\n",
       "66          2.544094\n",
       "67          2.538015\n",
       "68          2.525222\n",
       "69          2.511460\n",
       "70          2.500221\n",
       "71          2.494450\n",
       "72          2.488121\n",
       "73          2.481890\n",
       "74          2.471117\n",
       "75          2.463192"
      ]
     },
     "metadata": {},
     "output_type": "display_data"
    }
   ],
   "source": [
    "with pd.option_context(\"display.max_rows\", None, \"display.max_columns\", None):\n",
    "    _df = ensemble.groupby([\"n_clusters\"]).mean()\n",
    "    display(_df)"
   ]
  },
  {
   "cell_type": "code",
   "execution_count": 43,
   "id": "e500c731-76e0-4474-b265-7a688b47d23e",
   "metadata": {
    "execution": {
     "iopub.execute_input": "2022-11-26T04:55:19.245361Z",
     "iopub.status.busy": "2022-11-26T04:55:19.245004Z",
     "iopub.status.idle": "2022-11-26T04:55:21.762175Z",
     "shell.execute_reply": "2022-11-26T04:55:21.761595Z"
    },
    "papermill": {
     "duration": 2.537383,
     "end_time": "2022-11-26T04:55:21.763766",
     "exception": false,
     "start_time": "2022-11-26T04:55:19.226383",
     "status": "completed"
    },
    "tags": []
   },
   "outputs": [
    {
     "data": {
      "image/png": "[encoded data removed]",
      "text/plain": [
       "<Figure size 1008x432 with 1 Axes>"
      ]
     },
     "metadata": {},
     "output_type": "display_data"
    }
   ],
   "source": [
    "with sns.plotting_context(\"talk\", font_scale=0.75), sns.axes_style(\n",
    "    \"whitegrid\", {\"grid.linestyle\": \"--\"}\n",
    "):\n",
    "    fig = plt.figure(figsize=(14, 6))\n",
    "    ax = sns.pointplot(data=ensemble, x=\"n_clusters\", y=\"ch_score\")\n",
    "    ax.set_ylabel(\"Calinski-Harabasz index\")\n",
    "    ax.set_xlabel(\"Number of clusters ($k$)\")\n",
    "    ax.set_xticklabels(ax.get_xticklabels(), rotation=45)\n",
    "    plt.grid(True)\n",
    "    plt.tight_layout()"
   ]
  },
  {
   "cell_type": "markdown",
   "id": "07d30580-9ff5-4276-a0a6-edd157f18ce5",
   "metadata": {
    "papermill": {
     "duration": 0.034016,
     "end_time": "2022-11-26T04:55:21.831550",
     "exception": false,
     "start_time": "2022-11-26T04:55:21.797534",
     "status": "completed"
    },
    "tags": []
   },
   "source": [
    "# Stability"
   ]
  },
  {
   "cell_type": "markdown",
   "id": "ec541c9a-d0f6-492b-a217-0c9e720cd700",
   "metadata": {
    "papermill": {
     "duration": 0.016174,
     "end_time": "2022-11-26T04:55:21.888012",
     "exception": false,
     "start_time": "2022-11-26T04:55:21.871838",
     "status": "completed"
    },
    "tags": []
   },
   "source": [
    "## Group ensemble by n_clusters"
   ]
  },
  {
   "cell_type": "code",
   "execution_count": 44,
   "id": "be312999-42d5-458e-9ac8-4db0be07f260",
   "metadata": {
    "execution": {
     "iopub.execute_input": "2022-11-26T04:55:21.921857Z",
     "iopub.status.busy": "2022-11-26T04:55:21.921426Z",
     "iopub.status.idle": "2022-11-26T04:55:21.963204Z",
     "shell.execute_reply": "2022-11-26T04:55:21.962688Z"
    },
    "papermill": {
     "duration": 0.059802,
     "end_time": "2022-11-26T04:55:21.964144",
     "exception": false,
     "start_time": "2022-11-26T04:55:21.904342",
     "status": "completed"
    },
    "tags": []
   },
   "outputs": [],
   "source": [
    "parts = ensemble.groupby(\"n_clusters\").apply(\n",
    "    lambda x: np.concatenate(x[\"partition\"].apply(lambda x: x.reshape(1, -1)), axis=0)\n",
    ")"
   ]
  },
  {
   "cell_type": "code",
   "execution_count": 45,
   "id": "28c175e2-ac09-465e-b2af-6872e50f22c5",
   "metadata": {
    "execution": {
     "iopub.execute_input": "2022-11-26T04:55:21.997404Z",
     "iopub.status.busy": "2022-11-26T04:55:21.997067Z",
     "iopub.status.idle": "2022-11-26T04:55:22.031443Z",
     "shell.execute_reply": "2022-11-26T04:55:22.031003Z"
    },
    "papermill": {
     "duration": 0.052177,
     "end_time": "2022-11-26T04:55:22.032521",
     "exception": false,
     "start_time": "2022-11-26T04:55:21.980344",
     "status": "completed"
    },
    "tags": []
   },
   "outputs": [
    {
     "data": {
      "text/plain": [
       "n_clusters\n",
       "2    [[1.0, 1.0, 1.0, 1.0, 1.0, 1.0, 1.0, 1.0, 1.0,...\n",
       "3    [[0.0, 0.0, 0.0, 0.0, 0.0, 0.0, 0.0, 0.0, 0.0,...\n",
       "4    [[1.0, 1.0, 1.0, 1.0, 1.0, 1.0, 1.0, 1.0, 1.0,...\n",
       "5    [[1.0, 1.0, 1.0, 1.0, 1.0, 1.0, 1.0, 1.0, 1.0,...\n",
       "6    [[0.0, 0.0, 0.0, 0.0, 0.0, 0.0, 0.0, 0.0, 0.0,...\n",
       "dtype: object"
      ]
     },
     "execution_count": 45,
     "metadata": {},
     "output_type": "execute_result"
    }
   ],
   "source": [
    "parts.head()"
   ]
  },
  {
   "cell_type": "code",
   "execution_count": 46,
   "id": "6462ff3f-ce3e-4a62-8ba7-21f8744a4b3f",
   "metadata": {
    "execution": {
     "iopub.execute_input": "2022-11-26T04:55:22.082168Z",
     "iopub.status.busy": "2022-11-26T04:55:22.081894Z",
     "iopub.status.idle": "2022-11-26T04:55:22.102665Z",
     "shell.execute_reply": "2022-11-26T04:55:22.102187Z"
    },
    "papermill": {
     "duration": 0.046841,
     "end_time": "2022-11-26T04:55:22.103855",
     "exception": false,
     "start_time": "2022-11-26T04:55:22.057014",
     "status": "completed"
    },
    "tags": []
   },
   "outputs": [],
   "source": [
    "assert np.all(\n",
    "    [\n",
    "        parts.loc[k].shape == (len(CLUSTERING_OPTIONS[\"LINKAGE\"]), data.shape[0])\n",
    "        for k in parts.index\n",
    "    ]\n",
    ")"
   ]
  },
  {
   "cell_type": "markdown",
   "id": "b2c5f0d2-6f10-460d-9caa-09517a2a6819",
   "metadata": {
    "papermill": {
     "duration": 0.022212,
     "end_time": "2022-11-26T04:55:22.154871",
     "exception": false,
     "start_time": "2022-11-26T04:55:22.132659",
     "status": "completed"
    },
    "tags": []
   },
   "source": [
    "## Compute stability"
   ]
  },
  {
   "cell_type": "code",
   "execution_count": 47,
   "id": "9d1325b0-c35d-4bd8-bf89-01dd4d2cc7a9",
   "metadata": {
    "execution": {
     "iopub.execute_input": "2022-11-26T04:55:22.188529Z",
     "iopub.status.busy": "2022-11-26T04:55:22.188267Z",
     "iopub.status.idle": "2022-11-26T04:55:22.208052Z",
     "shell.execute_reply": "2022-11-26T04:55:22.207582Z"
    },
    "papermill": {
     "duration": 0.037648,
     "end_time": "2022-11-26T04:55:22.208954",
     "exception": false,
     "start_time": "2022-11-26T04:55:22.171306",
     "status": "completed"
    },
    "tags": []
   },
   "outputs": [],
   "source": [
    "from sklearn.metrics import adjusted_rand_score as ari\n",
    "from scipy.spatial.distance import pdist"
   ]
  },
  {
   "cell_type": "code",
   "execution_count": 48,
   "id": "bd4dbefe-6935-4443-9880-7881f5ecaa56",
   "metadata": {
    "execution": {
     "iopub.execute_input": "2022-11-26T04:55:22.242515Z",
     "iopub.status.busy": "2022-11-26T04:55:22.242188Z",
     "iopub.status.idle": "2022-11-26T04:55:22.579728Z",
     "shell.execute_reply": "2022-11-26T04:55:22.579322Z"
    },
    "papermill": {
     "duration": 0.35562,
     "end_time": "2022-11-26T04:55:22.581021",
     "exception": false,
     "start_time": "2022-11-26T04:55:22.225401",
     "status": "completed"
    },
    "tags": []
   },
   "outputs": [],
   "source": [
    "parts_ari = pd.Series(\n",
    "    {k: pdist(parts.loc[k], metric=ari) for k in parts.index}, name=\"k\"\n",
    ")"
   ]
  },
  {
   "cell_type": "code",
   "execution_count": 49,
   "id": "1cda5ab7-3ddd-4e92-9b1f-fd50cc11217f",
   "metadata": {
    "execution": {
     "iopub.execute_input": "2022-11-26T04:55:22.615840Z",
     "iopub.status.busy": "2022-11-26T04:55:22.615533Z",
     "iopub.status.idle": "2022-11-26T04:55:22.629629Z",
     "shell.execute_reply": "2022-11-26T04:55:22.629257Z"
    },
    "papermill": {
     "duration": 0.031524,
     "end_time": "2022-11-26T04:55:22.630321",
     "exception": false,
     "start_time": "2022-11-26T04:55:22.598797",
     "status": "completed"
    },
    "tags": []
   },
   "outputs": [
    {
     "data": {
      "text/plain": [
       "3     0.512616\n",
       "5     0.511281\n",
       "4     0.508515\n",
       "2     0.506142\n",
       "12    0.502786\n",
       "8     0.502636\n",
       "10    0.485902\n",
       "9     0.483473\n",
       "7     0.476849\n",
       "11    0.469071\n",
       "23    0.468118\n",
       "74    0.460525\n",
       "63    0.460259\n",
       "75    0.458492\n",
       "22    0.458478\n",
       "Name: k, dtype: float64"
      ]
     },
     "metadata": {},
     "output_type": "display_data"
    }
   ],
   "source": [
    "parts_ari_stability = parts_ari.apply(lambda x: x.mean())\n",
    "display(parts_ari_stability.sort_values(ascending=False).head(15))"
   ]
  },
  {
   "cell_type": "code",
   "execution_count": 50,
   "id": "76d4edf3-18ef-44be-9f2e-2674a201a6f8",
   "metadata": {
    "execution": {
     "iopub.execute_input": "2022-11-26T04:55:22.663719Z",
     "iopub.status.busy": "2022-11-26T04:55:22.663622Z",
     "iopub.status.idle": "2022-11-26T04:55:22.680017Z",
     "shell.execute_reply": "2022-11-26T04:55:22.679590Z"
    },
    "papermill": {
     "duration": 0.034015,
     "end_time": "2022-11-26T04:55:22.680797",
     "exception": false,
     "start_time": "2022-11-26T04:55:22.646782",
     "status": "completed"
    },
    "tags": []
   },
   "outputs": [],
   "source": [
    "parts_ari_df = pd.DataFrame.from_records(parts_ari.tolist()).set_index(\n",
    "    parts_ari.index.copy()\n",
    ")"
   ]
  },
  {
   "cell_type": "code",
   "execution_count": 51,
   "id": "8ed06986-00ae-4748-95ac-e22d40854d79",
   "metadata": {
    "execution": {
     "iopub.execute_input": "2022-11-26T04:55:22.714102Z",
     "iopub.status.busy": "2022-11-26T04:55:22.713893Z",
     "iopub.status.idle": "2022-11-26T04:55:22.733759Z",
     "shell.execute_reply": "2022-11-26T04:55:22.733299Z"
    },
    "papermill": {
     "duration": 0.037437,
     "end_time": "2022-11-26T04:55:22.734560",
     "exception": false,
     "start_time": "2022-11-26T04:55:22.697123",
     "status": "completed"
    },
    "tags": []
   },
   "outputs": [
    {
     "data": {
      "text/plain": [
       "(74, 6)"
      ]
     },
     "execution_count": 51,
     "metadata": {},
     "output_type": "execute_result"
    }
   ],
   "source": [
    "parts_ari_df.shape"
   ]
  },
  {
   "cell_type": "code",
   "execution_count": 52,
   "id": "e7c90e3c-e1e2-45e4-b774-6b3d03f25454",
   "metadata": {
    "execution": {
     "iopub.execute_input": "2022-11-26T04:55:22.768485Z",
     "iopub.status.busy": "2022-11-26T04:55:22.768061Z",
     "iopub.status.idle": "2022-11-26T04:55:22.787368Z",
     "shell.execute_reply": "2022-11-26T04:55:22.786900Z"
    },
    "papermill": {
     "duration": 0.037159,
     "end_time": "2022-11-26T04:55:22.788267",
     "exception": false,
     "start_time": "2022-11-26T04:55:22.751108",
     "status": "completed"
    },
    "tags": []
   },
   "outputs": [],
   "source": [
    "assert (\n",
    "    int(\n",
    "        (len(CLUSTERING_OPTIONS[\"LINKAGE\"]) * (len(CLUSTERING_OPTIONS[\"LINKAGE\"]) - 1))\n",
    "        / 2\n",
    "    )\n",
    "    == parts_ari_df.shape[1]\n",
    ")"
   ]
  },
  {
   "cell_type": "code",
   "execution_count": 53,
   "id": "baeadcc4-4179-42ce-9b80-6a89b2544d0d",
   "metadata": {
    "execution": {
     "iopub.execute_input": "2022-11-26T04:55:22.821958Z",
     "iopub.status.busy": "2022-11-26T04:55:22.821807Z",
     "iopub.status.idle": "2022-11-26T04:55:22.847413Z",
     "shell.execute_reply": "2022-11-26T04:55:22.846948Z"
    },
    "papermill": {
     "duration": 0.043328,
     "end_time": "2022-11-26T04:55:22.848203",
     "exception": false,
     "start_time": "2022-11-26T04:55:22.804875",
     "status": "completed"
    },
    "tags": []
   },
   "outputs": [
    {
     "data": {
      "text/html": [
       "<div>\n",
       "<style scoped>\n",
       "    .dataframe tbody tr th:only-of-type {\n",
       "        vertical-align: middle;\n",
       "    }\n",
       "\n",
       "    .dataframe tbody tr th {\n",
       "        vertical-align: top;\n",
       "    }\n",
       "\n",
       "    .dataframe thead th {\n",
       "        text-align: right;\n",
       "    }\n",
       "</style>\n",
       "<table border=\"1\" class=\"dataframe\">\n",
       "  <thead>\n",
       "    <tr style=\"text-align: right;\">\n",
       "      <th></th>\n",
       "      <th>0</th>\n",
       "      <th>1</th>\n",
       "      <th>2</th>\n",
       "      <th>3</th>\n",
       "      <th>4</th>\n",
       "      <th>5</th>\n",
       "    </tr>\n",
       "  </thead>\n",
       "  <tbody>\n",
       "    <tr>\n",
       "      <th>2</th>\n",
       "      <td>0.012284</td>\n",
       "      <td>0.012284</td>\n",
       "      <td>0.012284</td>\n",
       "      <td>1.0</td>\n",
       "      <td>1.000000</td>\n",
       "      <td>1.000000</td>\n",
       "    </tr>\n",
       "    <tr>\n",
       "      <th>3</th>\n",
       "      <td>0.025232</td>\n",
       "      <td>0.025232</td>\n",
       "      <td>0.025232</td>\n",
       "      <td>1.0</td>\n",
       "      <td>1.000000</td>\n",
       "      <td>1.000000</td>\n",
       "    </tr>\n",
       "    <tr>\n",
       "      <th>4</th>\n",
       "      <td>0.017029</td>\n",
       "      <td>0.017029</td>\n",
       "      <td>0.017029</td>\n",
       "      <td>1.0</td>\n",
       "      <td>1.000000</td>\n",
       "      <td>1.000000</td>\n",
       "    </tr>\n",
       "    <tr>\n",
       "      <th>5</th>\n",
       "      <td>0.022563</td>\n",
       "      <td>0.022563</td>\n",
       "      <td>0.022563</td>\n",
       "      <td>1.0</td>\n",
       "      <td>1.000000</td>\n",
       "      <td>1.000000</td>\n",
       "    </tr>\n",
       "    <tr>\n",
       "      <th>6</th>\n",
       "      <td>0.028206</td>\n",
       "      <td>0.028206</td>\n",
       "      <td>0.028206</td>\n",
       "      <td>1.0</td>\n",
       "      <td>0.799626</td>\n",
       "      <td>0.799626</td>\n",
       "    </tr>\n",
       "  </tbody>\n",
       "</table>\n",
       "</div>"
      ],
      "text/plain": [
       "          0         1         2    3         4         5\n",
       "2  0.012284  0.012284  0.012284  1.0  1.000000  1.000000\n",
       "3  0.025232  0.025232  0.025232  1.0  1.000000  1.000000\n",
       "4  0.017029  0.017029  0.017029  1.0  1.000000  1.000000\n",
       "5  0.022563  0.022563  0.022563  1.0  1.000000  1.000000\n",
       "6  0.028206  0.028206  0.028206  1.0  0.799626  0.799626"
      ]
     },
     "execution_count": 53,
     "metadata": {},
     "output_type": "execute_result"
    }
   ],
   "source": [
    "parts_ari_df.head()"
   ]
  },
  {
   "cell_type": "markdown",
   "id": "24bf3dd6-1b53-4452-9596-a97ed469d0bd",
   "metadata": {
    "papermill": {
     "duration": 0.016294,
     "end_time": "2022-11-26T04:55:22.881104",
     "exception": false,
     "start_time": "2022-11-26T04:55:22.864810",
     "status": "completed"
    },
    "tags": []
   },
   "source": [
    "## Save"
   ]
  },
  {
   "cell_type": "code",
   "execution_count": 54,
   "id": "b353c6e9-dabf-4511-8138-152d98ef3c12",
   "metadata": {
    "execution": {
     "iopub.execute_input": "2022-11-26T04:55:22.914948Z",
     "iopub.status.busy": "2022-11-26T04:55:22.914564Z",
     "iopub.status.idle": "2022-11-26T04:55:22.944015Z",
     "shell.execute_reply": "2022-11-26T04:55:22.943552Z"
    },
    "papermill": {
     "duration": 0.047238,
     "end_time": "2022-11-26T04:55:22.944820",
     "exception": false,
     "start_time": "2022-11-26T04:55:22.897582",
     "status": "completed"
    },
    "tags": []
   },
   "outputs": [
    {
     "data": {
      "text/plain": [
       "PosixPath('/opt/data/results/clustering/null_sims/shuffle_genes/runs/z_score_std-projection-smultixcan-efo_partial-mashr-zscores/AgglomerativeClustering-stability-AFFINITY_euclidean-K_MAX_75-K_MIN_2-LINKAGE_ward_complete_average_single.pkl')"
      ]
     },
     "metadata": {},
     "output_type": "display_data"
    }
   ],
   "source": [
    "output_filename = Path(\n",
    "    RESULTS_DIR,\n",
    "    generate_result_set_name(\n",
    "        CLUSTERING_OPTIONS,\n",
    "        prefix=f\"{clustering_method_name}-stability-\",\n",
    "        suffix=\".pkl\",\n",
    "    ),\n",
    ").resolve()\n",
    "display(output_filename)"
   ]
  },
  {
   "cell_type": "code",
   "execution_count": 55,
   "id": "95ea3201-bf46-441f-9bc3-fb0957261bf3",
   "metadata": {
    "execution": {
     "iopub.execute_input": "2022-11-26T04:55:22.978909Z",
     "iopub.status.busy": "2022-11-26T04:55:22.978465Z",
     "iopub.status.idle": "2022-11-26T04:55:22.997943Z",
     "shell.execute_reply": "2022-11-26T04:55:22.997466Z"
    },
    "papermill": {
     "duration": 0.037338,
     "end_time": "2022-11-26T04:55:22.998795",
     "exception": false,
     "start_time": "2022-11-26T04:55:22.961457",
     "status": "completed"
    },
    "tags": []
   },
   "outputs": [],
   "source": [
    "parts_ari_df.to_pickle(output_filename)"
   ]
  },
  {
   "cell_type": "markdown",
   "id": "484d7192-d088-4981-b3f6-14ae4a1fafc7",
   "metadata": {
    "papermill": {
     "duration": 0.016182,
     "end_time": "2022-11-26T04:55:23.031570",
     "exception": false,
     "start_time": "2022-11-26T04:55:23.015388",
     "status": "completed"
    },
    "tags": []
   },
   "source": [
    "## Stability plot"
   ]
  },
  {
   "cell_type": "code",
   "execution_count": 56,
   "id": "1b441002-3ca4-4235-96a4-a17fa0b4a649",
   "metadata": {
    "execution": {
     "iopub.execute_input": "2022-11-26T04:55:23.065094Z",
     "iopub.status.busy": "2022-11-26T04:55:23.064783Z",
     "iopub.status.idle": "2022-11-26T04:55:23.086981Z",
     "shell.execute_reply": "2022-11-26T04:55:23.086504Z"
    },
    "papermill": {
     "duration": 0.039956,
     "end_time": "2022-11-26T04:55:23.087862",
     "exception": false,
     "start_time": "2022-11-26T04:55:23.047906",
     "status": "completed"
    },
    "tags": []
   },
   "outputs": [],
   "source": [
    "parts_ari_df_plot = (\n",
    "    parts_ari_df.stack()\n",
    "    .reset_index()\n",
    "    .rename(columns={\"level_0\": \"k\", \"level_1\": \"idx\", 0: \"ari\"})\n",
    ")"
   ]
  },
  {
   "cell_type": "code",
   "execution_count": 57,
   "id": "fecfabbc-0639-467a-a87b-6547c2920ec5",
   "metadata": {
    "execution": {
     "iopub.execute_input": "2022-11-26T04:55:23.121734Z",
     "iopub.status.busy": "2022-11-26T04:55:23.121387Z",
     "iopub.status.idle": "2022-11-26T04:55:23.141921Z",
     "shell.execute_reply": "2022-11-26T04:55:23.141454Z"
    },
    "papermill": {
     "duration": 0.038283,
     "end_time": "2022-11-26T04:55:23.142718",
     "exception": false,
     "start_time": "2022-11-26T04:55:23.104435",
     "status": "completed"
    },
    "tags": []
   },
   "outputs": [
    {
     "data": {
      "text/plain": [
       "k        int64\n",
       "idx      int64\n",
       "ari    float64\n",
       "dtype: object"
      ]
     },
     "execution_count": 57,
     "metadata": {},
     "output_type": "execute_result"
    }
   ],
   "source": [
    "parts_ari_df_plot.dtypes"
   ]
  },
  {
   "cell_type": "code",
   "execution_count": 58,
   "id": "922c2b02-0b98-4fff-8f8e-164b40335aa2",
   "metadata": {
    "execution": {
     "iopub.execute_input": "2022-11-26T04:55:23.178905Z",
     "iopub.status.busy": "2022-11-26T04:55:23.178753Z",
     "iopub.status.idle": "2022-11-26T04:55:23.201326Z",
     "shell.execute_reply": "2022-11-26T04:55:23.200854Z"
    },
    "papermill": {
     "duration": 0.042858,
     "end_time": "2022-11-26T04:55:23.202339",
     "exception": false,
     "start_time": "2022-11-26T04:55:23.159481",
     "status": "completed"
    },
    "tags": []
   },
   "outputs": [
    {
     "data": {
      "text/html": [
       "<div>\n",
       "<style scoped>\n",
       "    .dataframe tbody tr th:only-of-type {\n",
       "        vertical-align: middle;\n",
       "    }\n",
       "\n",
       "    .dataframe tbody tr th {\n",
       "        vertical-align: top;\n",
       "    }\n",
       "\n",
       "    .dataframe thead th {\n",
       "        text-align: right;\n",
       "    }\n",
       "</style>\n",
       "<table border=\"1\" class=\"dataframe\">\n",
       "  <thead>\n",
       "    <tr style=\"text-align: right;\">\n",
       "      <th></th>\n",
       "      <th>k</th>\n",
       "      <th>idx</th>\n",
       "      <th>ari</th>\n",
       "    </tr>\n",
       "  </thead>\n",
       "  <tbody>\n",
       "    <tr>\n",
       "      <th>0</th>\n",
       "      <td>2</td>\n",
       "      <td>0</td>\n",
       "      <td>0.012284</td>\n",
       "    </tr>\n",
       "    <tr>\n",
       "      <th>1</th>\n",
       "      <td>2</td>\n",
       "      <td>1</td>\n",
       "      <td>0.012284</td>\n",
       "    </tr>\n",
       "    <tr>\n",
       "      <th>2</th>\n",
       "      <td>2</td>\n",
       "      <td>2</td>\n",
       "      <td>0.012284</td>\n",
       "    </tr>\n",
       "    <tr>\n",
       "      <th>3</th>\n",
       "      <td>2</td>\n",
       "      <td>3</td>\n",
       "      <td>1.000000</td>\n",
       "    </tr>\n",
       "    <tr>\n",
       "      <th>4</th>\n",
       "      <td>2</td>\n",
       "      <td>4</td>\n",
       "      <td>1.000000</td>\n",
       "    </tr>\n",
       "  </tbody>\n",
       "</table>\n",
       "</div>"
      ],
      "text/plain": [
       "   k  idx       ari\n",
       "0  2    0  0.012284\n",
       "1  2    1  0.012284\n",
       "2  2    2  0.012284\n",
       "3  2    3  1.000000\n",
       "4  2    4  1.000000"
      ]
     },
     "execution_count": 58,
     "metadata": {},
     "output_type": "execute_result"
    }
   ],
   "source": [
    "parts_ari_df_plot.head()"
   ]
  },
  {
   "cell_type": "code",
   "execution_count": 59,
   "id": "bb3fa2e6-205a-4d72-a1ad-3b9072fcfe73",
   "metadata": {
    "execution": {
     "iopub.execute_input": "2022-11-26T04:55:23.240449Z",
     "iopub.status.busy": "2022-11-26T04:55:23.240179Z",
     "iopub.status.idle": "2022-11-26T04:55:25.592909Z",
     "shell.execute_reply": "2022-11-26T04:55:25.592523Z"
    },
    "papermill": {
     "duration": 2.372361,
     "end_time": "2022-11-26T04:55:25.594681",
     "exception": false,
     "start_time": "2022-11-26T04:55:23.222320",
     "status": "completed"
    },
    "tags": []
   },
   "outputs": [
    {
     "data": {
      "image/png": "[encoded data removed]",
      "text/plain": [
       "<Figure size 1008x432 with 1 Axes>"
      ]
     },
     "metadata": {},
     "output_type": "display_data"
    }
   ],
   "source": [
    "# with sns.axes_style('whitegrid', {'grid.linestyle': '--'}):\n",
    "with sns.plotting_context(\"talk\", font_scale=0.75), sns.axes_style(\n",
    "    \"whitegrid\", {\"grid.linestyle\": \"--\"}\n",
    "):\n",
    "    fig = plt.figure(figsize=(14, 6))\n",
    "    ax = sns.pointplot(data=parts_ari_df_plot, x=\"k\", y=\"ari\")\n",
    "    ax.set_ylabel(\"Averange ARI\")\n",
    "    ax.set_xlabel(\"Number of clusters ($k$)\")\n",
    "    ax.set_xticklabels(ax.get_xticklabels(), rotation=45)\n",
    "    #     ax.set_ylim(0.0, 1.0)\n",
    "    #     ax.set_xlim(CLUSTERING_OPTIONS['K_MIN'], CLUSTERING_OPTIONS['K_MAX'])\n",
    "    plt.grid(True)\n",
    "    plt.tight_layout()"
   ]
  },
  {
   "cell_type": "code",
   "execution_count": null,
   "id": "e59b0b69",
   "metadata": {
    "papermill": {
     "duration": 0.032595,
     "end_time": "2022-11-26T04:55:25.661294",
     "exception": false,
     "start_time": "2022-11-26T04:55:25.628699",
     "status": "completed"
    },
    "tags": []
   },
   "outputs": [],
   "source": []
  }
 ],
 "metadata": {
  "jupytext": {
   "cell_metadata_filter": "all,-execution,-papermill,-trusted",
   "formats": "ipynb,py//py:percent"
  },
  "kernelspec": {
   "display_name": "Python 3 (ipykernel)",
   "language": "python",
   "name": "python3"
  },
  "language_info": {
   "codemirror_mode": {
    "name": "ipython",
    "version": 3
   },
   "file_extension": ".py",
   "mimetype": "text/x-python",
   "name": "python",
   "nbconvert_exporter": "python",
   "pygments_lexer": "ipython3",
   "version": "3.8.13"
  },
  "papermill": {
   "default_parameters": {},
   "duration": 1022.683477,
   "end_time": "2022-11-26T04:55:26.002078",
   "environment_variables": {},
   "exception": null,
   "input_path": "nbs/13.1_cluster_analysis_null/00-shuffle_genes/13_00-hc-z_score_std.ipynb",
   "output_path": "nbs/13.1_cluster_analysis_null/00-shuffle_genes/13_00-hc-z_score_std.run.ipynb",
   "parameters": {},
   "start_time": "2022-11-26T04:38:23.318601",
   "version": "2.2.2"
  },
  "toc-autonumbering": true,
  "toc-showcode": false,
  "toc-showmarkdowntxt": false,
  "toc-showtags": false
 },
 "nbformat": 4,
 "nbformat_minor": 5
}
