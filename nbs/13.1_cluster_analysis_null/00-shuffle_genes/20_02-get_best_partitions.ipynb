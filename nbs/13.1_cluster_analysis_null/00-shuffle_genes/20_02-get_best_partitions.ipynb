{
 "cells": [
  {
   "cell_type": "markdown",
   "id": "d323644a",
   "metadata": {
    "papermill": {
     "duration": 0.032372,
     "end_time": "2022-09-14T17:04:26.579337",
     "exception": false,
     "start_time": "2022-09-14T17:04:26.546965",
     "status": "completed"
    },
    "tags": []
   },
   "source": [
    "# Description"
   ]
  },
  {
   "cell_type": "markdown",
   "id": "edf982cc",
   "metadata": {
    "papermill": {
     "duration": 0.008031,
     "end_time": "2022-09-14T17:04:26.600344",
     "exception": false,
     "start_time": "2022-09-14T17:04:26.592313",
     "status": "completed"
    },
    "tags": []
   },
   "source": [
    "It analyzes how consensus partitions generated before agree with the ensemble, and selects the best ones for downstream analyses."
   ]
  },
  {
   "cell_type": "markdown",
   "id": "072e1ea6",
   "metadata": {
    "papermill": {
     "duration": 0.005671,
     "end_time": "2022-09-14T17:04:26.612604",
     "exception": false,
     "start_time": "2022-09-14T17:04:26.606933",
     "status": "completed"
    },
    "tags": []
   },
   "source": [
    "# Modules loading"
   ]
  },
  {
   "cell_type": "code",
   "execution_count": 1,
   "id": "98449f60",
   "metadata": {
    "execution": {
     "iopub.execute_input": "2022-09-14T17:04:26.625294Z",
     "iopub.status.busy": "2022-09-14T17:04:26.625048Z",
     "iopub.status.idle": "2022-09-14T17:04:26.641166Z",
     "shell.execute_reply": "2022-09-14T17:04:26.640703Z"
    },
    "papermill": {
     "duration": 0.02447,
     "end_time": "2022-09-14T17:04:26.642641",
     "exception": false,
     "start_time": "2022-09-14T17:04:26.618171",
     "status": "completed"
    },
    "tags": []
   },
   "outputs": [],
   "source": [
    "%load_ext autoreload\n",
    "%autoreload 2"
   ]
  },
  {
   "cell_type": "code",
   "execution_count": 2,
   "id": "cb11ab4f",
   "metadata": {
    "execution": {
     "iopub.execute_input": "2022-09-14T17:04:26.656017Z",
     "iopub.status.busy": "2022-09-14T17:04:26.655189Z",
     "iopub.status.idle": "2022-09-14T17:04:27.298472Z",
     "shell.execute_reply": "2022-09-14T17:04:27.297947Z"
    },
    "papermill": {
     "duration": 0.651102,
     "end_time": "2022-09-14T17:04:27.299821",
     "exception": false,
     "start_time": "2022-09-14T17:04:26.648719",
     "status": "completed"
    },
    "tags": []
   },
   "outputs": [],
   "source": [
    "from pathlib import Path\n",
    "from IPython.display import display\n",
    "\n",
    "import pandas as pd\n",
    "import matplotlib.pyplot as plt\n",
    "import seaborn as sns\n",
    "\n",
    "import conf"
   ]
  },
  {
   "cell_type": "markdown",
   "id": "0b2fcc60",
   "metadata": {
    "papermill": {
     "duration": 0.005807,
     "end_time": "2022-09-14T17:04:27.311890",
     "exception": false,
     "start_time": "2022-09-14T17:04:27.306083",
     "status": "completed"
    },
    "tags": []
   },
   "source": [
    "# Load consensus clustering results"
   ]
  },
  {
   "cell_type": "code",
   "execution_count": null,
   "id": "1cc9f4db-5c4f-4485-a9ff-17f270cdbfc5",
   "metadata": {},
   "outputs": [],
   "source": [
    "NULL_DIR = conf.RESULTS[\"CLUSTERING_NULL_DIR\"], \"shuffle_genes\""
   ]
  },
  {
   "cell_type": "code",
   "execution_count": 3,
   "id": "2fb67b26",
   "metadata": {
    "execution": {
     "iopub.execute_input": "2022-09-14T17:04:27.324561Z",
     "iopub.status.busy": "2022-09-14T17:04:27.324401Z",
     "iopub.status.idle": "2022-09-14T17:04:27.341766Z",
     "shell.execute_reply": "2022-09-14T17:04:27.341304Z"
    },
    "papermill": {
     "duration": 0.025416,
     "end_time": "2022-09-14T17:04:27.342990",
     "exception": false,
     "start_time": "2022-09-14T17:04:27.317574",
     "status": "completed"
    },
    "tags": []
   },
   "outputs": [
    {
     "data": {
      "text/plain": [
       "PosixPath('/opt/data/results/clustering/null_sims/consensus_clustering')"
      ]
     },
     "metadata": {},
     "output_type": "display_data"
    }
   ],
   "source": [
    "CONSENSUS_CLUSTERING_DIR = Path(\n",
    "    NULL_DIR, \"consensus_clustering\"\n",
    ").resolve()\n",
    "\n",
    "display(CONSENSUS_CLUSTERING_DIR)"
   ]
  },
  {
   "cell_type": "code",
   "execution_count": 4,
   "id": "74226d69",
   "metadata": {
    "execution": {
     "iopub.execute_input": "2022-09-14T17:04:27.356679Z",
     "iopub.status.busy": "2022-09-14T17:04:27.356093Z",
     "iopub.status.idle": "2022-09-14T17:04:27.373313Z",
     "shell.execute_reply": "2022-09-14T17:04:27.372751Z"
    },
    "papermill": {
     "duration": 0.025352,
     "end_time": "2022-09-14T17:04:27.374696",
     "exception": false,
     "start_time": "2022-09-14T17:04:27.349344",
     "status": "completed"
    },
    "tags": []
   },
   "outputs": [
    {
     "data": {
      "text/plain": [
       "PosixPath('/opt/data/results/clustering/null_sims/consensus_clustering/consensus_clustering_runs.pkl')"
      ]
     },
     "metadata": {},
     "output_type": "display_data"
    }
   ],
   "source": [
    "input_file = Path(CONSENSUS_CLUSTERING_DIR, \"consensus_clustering_runs.pkl\").resolve()\n",
    "display(input_file)"
   ]
  },
  {
   "cell_type": "code",
   "execution_count": 5,
   "id": "1b601aa2",
   "metadata": {
    "execution": {
     "iopub.execute_input": "2022-09-14T17:04:27.388766Z",
     "iopub.status.busy": "2022-09-14T17:04:27.388602Z",
     "iopub.status.idle": "2022-09-14T17:04:27.413600Z",
     "shell.execute_reply": "2022-09-14T17:04:27.413046Z"
    },
    "papermill": {
     "duration": 0.033578,
     "end_time": "2022-09-14T17:04:27.415103",
     "exception": false,
     "start_time": "2022-09-14T17:04:27.381525",
     "status": "completed"
    },
    "tags": []
   },
   "outputs": [],
   "source": [
    "consensus_clustering_results = pd.read_pickle(input_file)"
   ]
  },
  {
   "cell_type": "code",
   "execution_count": 6,
   "id": "f13715cf",
   "metadata": {
    "execution": {
     "iopub.execute_input": "2022-09-14T17:04:27.429493Z",
     "iopub.status.busy": "2022-09-14T17:04:27.429320Z",
     "iopub.status.idle": "2022-09-14T17:04:27.446646Z",
     "shell.execute_reply": "2022-09-14T17:04:27.446133Z"
    },
    "papermill": {
     "duration": 0.026063,
     "end_time": "2022-09-14T17:04:27.447974",
     "exception": false,
     "start_time": "2022-09-14T17:04:27.421911",
     "status": "completed"
    },
    "tags": []
   },
   "outputs": [
    {
     "data": {
      "text/plain": [
       "(413, 12)"
      ]
     },
     "execution_count": 6,
     "metadata": {},
     "output_type": "execute_result"
    }
   ],
   "source": [
    "consensus_clustering_results.shape"
   ]
  },
  {
   "cell_type": "code",
   "execution_count": 7,
   "id": "85e33247",
   "metadata": {
    "execution": {
     "iopub.execute_input": "2022-09-14T17:04:27.462576Z",
     "iopub.status.busy": "2022-09-14T17:04:27.462404Z",
     "iopub.status.idle": "2022-09-14T17:04:27.493581Z",
     "shell.execute_reply": "2022-09-14T17:04:27.493065Z"
    },
    "papermill": {
     "duration": 0.040064,
     "end_time": "2022-09-14T17:04:27.494877",
     "exception": false,
     "start_time": "2022-09-14T17:04:27.454813",
     "status": "completed"
    },
    "tags": []
   },
   "outputs": [
    {
     "data": {
      "text/html": [
       "<div>\n",
       "<style scoped>\n",
       "    .dataframe tbody tr th:only-of-type {\n",
       "        vertical-align: middle;\n",
       "    }\n",
       "\n",
       "    .dataframe tbody tr th {\n",
       "        vertical-align: top;\n",
       "    }\n",
       "\n",
       "    .dataframe thead th {\n",
       "        text-align: right;\n",
       "    }\n",
       "</style>\n",
       "<table border=\"1\" class=\"dataframe\">\n",
       "  <thead>\n",
       "    <tr style=\"text-align: right;\">\n",
       "      <th></th>\n",
       "      <th>method</th>\n",
       "      <th>partition</th>\n",
       "      <th>k</th>\n",
       "      <th>ari_mean</th>\n",
       "      <th>ari_median</th>\n",
       "      <th>ari_std</th>\n",
       "      <th>ami_mean</th>\n",
       "      <th>ami_median</th>\n",
       "      <th>ami_std</th>\n",
       "      <th>nmi_mean</th>\n",
       "      <th>nmi_median</th>\n",
       "      <th>nmi_std</th>\n",
       "    </tr>\n",
       "  </thead>\n",
       "  <tbody>\n",
       "    <tr>\n",
       "      <th>0</th>\n",
       "      <td>scc_030</td>\n",
       "      <td>[0, 0, 0, 0, 0, 0, 0, 0, 0, 0, 0, 0, 0, 0, 0, ...</td>\n",
       "      <td>2</td>\n",
       "      <td>0.032836</td>\n",
       "      <td>0.000759</td>\n",
       "      <td>0.079661</td>\n",
       "      <td>0.103021</td>\n",
       "      <td>0.000885</td>\n",
       "      <td>0.158743</td>\n",
       "      <td>0.107238</td>\n",
       "      <td>0.011330</td>\n",
       "      <td>0.156970</td>\n",
       "    </tr>\n",
       "    <tr>\n",
       "      <th>1</th>\n",
       "      <td>scc_030</td>\n",
       "      <td>[2, 2, 2, 2, 2, 2, 2, 2, 2, 2, 2, 2, 2, 2, 2, ...</td>\n",
       "      <td>3</td>\n",
       "      <td>0.046161</td>\n",
       "      <td>0.000639</td>\n",
       "      <td>0.096002</td>\n",
       "      <td>0.138659</td>\n",
       "      <td>0.001607</td>\n",
       "      <td>0.210192</td>\n",
       "      <td>0.144101</td>\n",
       "      <td>0.014974</td>\n",
       "      <td>0.208010</td>\n",
       "    </tr>\n",
       "    <tr>\n",
       "      <th>2</th>\n",
       "      <td>scc_030</td>\n",
       "      <td>[3, 3, 3, 3, 3, 3, 3, 3, 3, 3, 3, 3, 3, 3, 3, ...</td>\n",
       "      <td>4</td>\n",
       "      <td>0.074265</td>\n",
       "      <td>0.000290</td>\n",
       "      <td>0.144091</td>\n",
       "      <td>0.170631</td>\n",
       "      <td>0.001316</td>\n",
       "      <td>0.260114</td>\n",
       "      <td>0.176943</td>\n",
       "      <td>0.012918</td>\n",
       "      <td>0.257522</td>\n",
       "    </tr>\n",
       "    <tr>\n",
       "      <th>3</th>\n",
       "      <td>scc_030</td>\n",
       "      <td>[2, 2, 2, 2, 2, 2, 2, 2, 2, 2, 2, 2, 2, 2, 2, ...</td>\n",
       "      <td>5</td>\n",
       "      <td>0.088752</td>\n",
       "      <td>0.000292</td>\n",
       "      <td>0.164617</td>\n",
       "      <td>0.186808</td>\n",
       "      <td>0.001294</td>\n",
       "      <td>0.285126</td>\n",
       "      <td>0.193837</td>\n",
       "      <td>0.012199</td>\n",
       "      <td>0.282227</td>\n",
       "    </tr>\n",
       "    <tr>\n",
       "      <th>4</th>\n",
       "      <td>scc_030</td>\n",
       "      <td>[1, 1, 1, 1, 1, 1, 1, 1, 1, 1, 1, 1, 1, 1, 1, ...</td>\n",
       "      <td>6</td>\n",
       "      <td>0.094984</td>\n",
       "      <td>0.000917</td>\n",
       "      <td>0.172872</td>\n",
       "      <td>0.194309</td>\n",
       "      <td>0.002086</td>\n",
       "      <td>0.296132</td>\n",
       "      <td>0.202020</td>\n",
       "      <td>0.013793</td>\n",
       "      <td>0.293024</td>\n",
       "    </tr>\n",
       "  </tbody>\n",
       "</table>\n",
       "</div>"
      ],
      "text/plain": [
       "    method                                          partition  k  ari_mean  \\\n",
       "0  scc_030  [0, 0, 0, 0, 0, 0, 0, 0, 0, 0, 0, 0, 0, 0, 0, ...  2  0.032836   \n",
       "1  scc_030  [2, 2, 2, 2, 2, 2, 2, 2, 2, 2, 2, 2, 2, 2, 2, ...  3  0.046161   \n",
       "2  scc_030  [3, 3, 3, 3, 3, 3, 3, 3, 3, 3, 3, 3, 3, 3, 3, ...  4  0.074265   \n",
       "3  scc_030  [2, 2, 2, 2, 2, 2, 2, 2, 2, 2, 2, 2, 2, 2, 2, ...  5  0.088752   \n",
       "4  scc_030  [1, 1, 1, 1, 1, 1, 1, 1, 1, 1, 1, 1, 1, 1, 1, ...  6  0.094984   \n",
       "\n",
       "   ari_median   ari_std  ami_mean  ami_median   ami_std  nmi_mean  nmi_median  \\\n",
       "0    0.000759  0.079661  0.103021    0.000885  0.158743  0.107238    0.011330   \n",
       "1    0.000639  0.096002  0.138659    0.001607  0.210192  0.144101    0.014974   \n",
       "2    0.000290  0.144091  0.170631    0.001316  0.260114  0.176943    0.012918   \n",
       "3    0.000292  0.164617  0.186808    0.001294  0.285126  0.193837    0.012199   \n",
       "4    0.000917  0.172872  0.194309    0.002086  0.296132  0.202020    0.013793   \n",
       "\n",
       "    nmi_std  \n",
       "0  0.156970  \n",
       "1  0.208010  \n",
       "2  0.257522  \n",
       "3  0.282227  \n",
       "4  0.293024  "
      ]
     },
     "execution_count": 7,
     "metadata": {},
     "output_type": "execute_result"
    }
   ],
   "source": [
    "consensus_clustering_results.head()"
   ]
  },
  {
   "cell_type": "markdown",
   "id": "d0bb472d",
   "metadata": {
    "papermill": {
     "duration": 0.006698,
     "end_time": "2022-09-14T17:04:27.508652",
     "exception": false,
     "start_time": "2022-09-14T17:04:27.501954",
     "status": "completed"
    },
    "tags": []
   },
   "source": [
    "# Explore clustering indexes"
   ]
  },
  {
   "cell_type": "code",
   "execution_count": 8,
   "id": "bc6cc016",
   "metadata": {
    "execution": {
     "iopub.execute_input": "2022-09-14T17:04:27.525532Z",
     "iopub.status.busy": "2022-09-14T17:04:27.525011Z",
     "iopub.status.idle": "2022-09-14T17:04:27.601575Z",
     "shell.execute_reply": "2022-09-14T17:04:27.600892Z"
    },
    "papermill": {
     "duration": 0.088045,
     "end_time": "2022-09-14T17:04:27.603160",
     "exception": false,
     "start_time": "2022-09-14T17:04:27.515115",
     "status": "completed"
    },
    "tags": []
   },
   "outputs": [],
   "source": [
    "_col = \"ari_mean\"\n",
    "\n",
    "_best_parts_by_ari = (\n",
    "    consensus_clustering_results.groupby(\"k\")\n",
    "    .apply(lambda x: x.sort_values(_col, ascending=False).head(1))\n",
    "    .sort_values(_col, ascending=False)[[\"method\", \"k\", _col]]\n",
    "    .rename(columns={_col: \"index_value\"})\n",
    ")"
   ]
  },
  {
   "cell_type": "code",
   "execution_count": 9,
   "id": "964a75d6",
   "metadata": {
    "execution": {
     "iopub.execute_input": "2022-09-14T17:04:27.645407Z",
     "iopub.status.busy": "2022-09-14T17:04:27.645213Z",
     "iopub.status.idle": "2022-09-14T17:04:27.709463Z",
     "shell.execute_reply": "2022-09-14T17:04:27.708797Z"
    },
    "papermill": {
     "duration": 0.074284,
     "end_time": "2022-09-14T17:04:27.710882",
     "exception": false,
     "start_time": "2022-09-14T17:04:27.636598",
     "status": "completed"
    },
    "tags": []
   },
   "outputs": [],
   "source": [
    "_col = \"ami_mean\"\n",
    "\n",
    "_best_parts_by_ami = (\n",
    "    consensus_clustering_results.groupby(\"k\")\n",
    "    .apply(lambda x: x.sort_values(_col, ascending=False).head(1))\n",
    "    .sort_values(_col, ascending=False)[[\"method\", \"k\", _col]]\n",
    "    .rename(columns={_col: \"index_value\"})\n",
    ")"
   ]
  },
  {
   "cell_type": "code",
   "execution_count": 10,
   "id": "66d3c71a",
   "metadata": {
    "execution": {
     "iopub.execute_input": "2022-09-14T17:04:27.724368Z",
     "iopub.status.busy": "2022-09-14T17:04:27.724209Z",
     "iopub.status.idle": "2022-09-14T17:04:27.780503Z",
     "shell.execute_reply": "2022-09-14T17:04:27.779846Z"
    },
    "papermill": {
     "duration": 0.06462,
     "end_time": "2022-09-14T17:04:27.782030",
     "exception": false,
     "start_time": "2022-09-14T17:04:27.717410",
     "status": "completed"
    },
    "tags": []
   },
   "outputs": [],
   "source": [
    "_col = \"nmi_mean\"\n",
    "\n",
    "_best_parts_by_nmi = (\n",
    "    consensus_clustering_results.groupby(\"k\")\n",
    "    .apply(lambda x: x.sort_values(_col, ascending=False).head(1))\n",
    "    .sort_values(_col, ascending=False)[[\"method\", \"k\", _col]]\n",
    "    .rename(columns={_col: \"index_value\"})\n",
    ")"
   ]
  },
  {
   "cell_type": "code",
   "execution_count": 11,
   "id": "eb927a75",
   "metadata": {
    "execution": {
     "iopub.execute_input": "2022-09-14T17:04:27.795678Z",
     "iopub.status.busy": "2022-09-14T17:04:27.795473Z",
     "iopub.status.idle": "2022-09-14T17:04:27.813253Z",
     "shell.execute_reply": "2022-09-14T17:04:27.812771Z"
    },
    "papermill": {
     "duration": 0.026202,
     "end_time": "2022-09-14T17:04:27.814456",
     "exception": false,
     "start_time": "2022-09-14T17:04:27.788254",
     "status": "completed"
    },
    "tags": []
   },
   "outputs": [
    {
     "data": {
      "text/html": [
       "<svg  width=\"165\" height=\"55\"><rect x=\"0\" y=\"0\" width=\"55\" height=\"55\" style=\"fill:#0173b2;stroke-width:2;stroke:rgb(255,255,255)\"/><rect x=\"55\" y=\"0\" width=\"55\" height=\"55\" style=\"fill:#de8f05;stroke-width:2;stroke:rgb(255,255,255)\"/><rect x=\"110\" y=\"0\" width=\"55\" height=\"55\" style=\"fill:#029e73;stroke-width:2;stroke:rgb(255,255,255)\"/></svg>"
      ],
      "text/plain": [
       "[(0.00392156862745098, 0.45098039215686275, 0.6980392156862745),\n",
       " (0.8705882352941177, 0.5607843137254902, 0.0196078431372549),\n",
       " (0.00784313725490196, 0.6196078431372549, 0.45098039215686275)]"
      ]
     },
     "metadata": {},
     "output_type": "display_data"
    }
   ],
   "source": [
    "_indexes_colors = sns.color_palette(\"colorblind\", 3)\n",
    "display(_indexes_colors)"
   ]
  },
  {
   "cell_type": "code",
   "execution_count": 12,
   "id": "96937023",
   "metadata": {
    "execution": {
     "iopub.execute_input": "2022-09-14T17:04:27.828082Z",
     "iopub.status.busy": "2022-09-14T17:04:27.827892Z",
     "iopub.status.idle": "2022-09-14T17:04:29.941378Z",
     "shell.execute_reply": "2022-09-14T17:04:29.940723Z"
    },
    "papermill": {
     "duration": 2.122198,
     "end_time": "2022-09-14T17:04:29.943140",
     "exception": false,
     "start_time": "2022-09-14T17:04:27.820942",
     "status": "completed"
    },
    "tags": []
   },
   "outputs": [
    {
     "data": {
      "image/png": "[encoded data removed]",
      "text/plain": [
       "<Figure size 864x432 with 1 Axes>"
      ]
     },
     "metadata": {},
     "output_type": "display_data"
    }
   ],
   "source": [
    "with sns.plotting_context(\"talk\", font_scale=0.75), sns.axes_style(\n",
    "    \"whitegrid\", {\"grid.linestyle\": \"--\"}\n",
    "):\n",
    "    fig, ax = plt.subplots(figsize=(12, 6))\n",
    "\n",
    "    ax = sns.pointplot(\n",
    "        data=_best_parts_by_ari,\n",
    "        x=\"k\",\n",
    "        y=\"index_value\",\n",
    "        color=_indexes_colors[0],\n",
    "        ci=None,\n",
    "    )\n",
    "    ax = sns.pointplot(\n",
    "        data=_best_parts_by_ami,\n",
    "        x=\"k\",\n",
    "        y=\"index_value\",\n",
    "        color=_indexes_colors[1],\n",
    "        ci=None,\n",
    "    )\n",
    "    ax = sns.pointplot(\n",
    "        data=_best_parts_by_nmi,\n",
    "        x=\"k\",\n",
    "        y=\"index_value\",\n",
    "        color=_indexes_colors[2],\n",
    "        ci=None,\n",
    "    )\n",
    "\n",
    "    ax.set_ylabel(f\"Agreement with ensemble\")\n",
    "    ax.set_xlabel(\"Number of clusters ($k$)\")\n",
    "    ax.set_xticklabels(ax.get_xticklabels(), rotation=45)\n",
    "    plt.legend(labels=[\"ARI\", \"AMI\", \"NMI\"])\n",
    "    plt.grid(True)\n",
    "    plt.tight_layout()"
   ]
  },
  {
   "cell_type": "markdown",
   "id": "0aa6a0e0",
   "metadata": {
    "papermill": {
     "duration": 0.007399,
     "end_time": "2022-09-14T17:04:29.958121",
     "exception": false,
     "start_time": "2022-09-14T17:04:29.950722",
     "status": "completed"
    },
    "tags": []
   },
   "source": [
    "AMI and NMI show the same trend for higher `k`. That's surprising. I would have expected that AMI has the same pattern as ARI, since both are adjusted-for-chance, and should not show higher values for higher `k` as it is expected for a not adjusted-for-chance index as NMI.\n",
    "\n",
    "**CONCLUSION:** I will pick ARI for the follow up analysis."
   ]
  },
  {
   "cell_type": "markdown",
   "id": "6b314bea",
   "metadata": {
    "papermill": {
     "duration": 0.006924,
     "end_time": "2022-09-14T17:04:29.972117",
     "exception": false,
     "start_time": "2022-09-14T17:04:29.965193",
     "status": "completed"
    },
    "tags": []
   },
   "source": [
    "# Explore best partition per k"
   ]
  },
  {
   "cell_type": "code",
   "execution_count": 13,
   "id": "4996defe",
   "metadata": {
    "execution": {
     "iopub.execute_input": "2022-09-14T17:04:29.987343Z",
     "iopub.status.busy": "2022-09-14T17:04:29.987161Z",
     "iopub.status.idle": "2022-09-14T17:04:30.003892Z",
     "shell.execute_reply": "2022-09-14T17:04:30.003222Z"
    },
    "papermill": {
     "duration": 0.025885,
     "end_time": "2022-09-14T17:04:30.005212",
     "exception": false,
     "start_time": "2022-09-14T17:04:29.979327",
     "status": "completed"
    },
    "tags": []
   },
   "outputs": [],
   "source": [
    "_selected_measure = \"ARI\"\n",
    "_mean_column, _median_column = \"ari_mean\", \"ari_median\""
   ]
  },
  {
   "cell_type": "code",
   "execution_count": 14,
   "id": "fc30cd3d",
   "metadata": {
    "execution": {
     "iopub.execute_input": "2022-09-14T17:04:30.020766Z",
     "iopub.status.busy": "2022-09-14T17:04:30.020575Z",
     "iopub.status.idle": "2022-09-14T17:04:30.132559Z",
     "shell.execute_reply": "2022-09-14T17:04:30.131898Z"
    },
    "papermill": {
     "duration": 0.121344,
     "end_time": "2022-09-14T17:04:30.134013",
     "exception": false,
     "start_time": "2022-09-14T17:04:30.012669",
     "status": "completed"
    },
    "tags": []
   },
   "outputs": [
    {
     "data": {
      "text/html": [
       "<div>\n",
       "<style scoped>\n",
       "    .dataframe tbody tr th:only-of-type {\n",
       "        vertical-align: middle;\n",
       "    }\n",
       "\n",
       "    .dataframe tbody tr th {\n",
       "        vertical-align: top;\n",
       "    }\n",
       "\n",
       "    .dataframe thead th {\n",
       "        text-align: right;\n",
       "    }\n",
       "</style>\n",
       "<table border=\"1\" class=\"dataframe\">\n",
       "  <thead>\n",
       "    <tr style=\"text-align: right;\">\n",
       "      <th></th>\n",
       "      <th></th>\n",
       "      <th>method</th>\n",
       "      <th>k</th>\n",
       "      <th>ari_mean</th>\n",
       "    </tr>\n",
       "    <tr>\n",
       "      <th>k</th>\n",
       "      <th></th>\n",
       "      <th></th>\n",
       "      <th></th>\n",
       "      <th></th>\n",
       "    </tr>\n",
       "  </thead>\n",
       "  <tbody>\n",
       "    <tr>\n",
       "      <th>30</th>\n",
       "      <th>28</th>\n",
       "      <td>scc_030</td>\n",
       "      <td>30</td>\n",
       "      <td>0.170077</td>\n",
       "    </tr>\n",
       "    <tr>\n",
       "      <th>29</th>\n",
       "      <th>145</th>\n",
       "      <td>scc_025</td>\n",
       "      <td>29</td>\n",
       "      <td>0.170064</td>\n",
       "    </tr>\n",
       "    <tr>\n",
       "      <th>27</th>\n",
       "      <th>143</th>\n",
       "      <td>scc_025</td>\n",
       "      <td>27</td>\n",
       "      <td>0.169939</td>\n",
       "    </tr>\n",
       "    <tr>\n",
       "      <th>28</th>\n",
       "      <th>144</th>\n",
       "      <td>scc_025</td>\n",
       "      <td>28</td>\n",
       "      <td>0.169740</td>\n",
       "    </tr>\n",
       "    <tr>\n",
       "      <th>31</th>\n",
       "      <th>147</th>\n",
       "      <td>scc_025</td>\n",
       "      <td>31</td>\n",
       "      <td>0.169343</td>\n",
       "    </tr>\n",
       "    <tr>\n",
       "      <th>26</th>\n",
       "      <th>260</th>\n",
       "      <td>scc_050</td>\n",
       "      <td>26</td>\n",
       "      <td>0.169153</td>\n",
       "    </tr>\n",
       "    <tr>\n",
       "      <th>32</th>\n",
       "      <th>266</th>\n",
       "      <td>scc_050</td>\n",
       "      <td>32</td>\n",
       "      <td>0.169142</td>\n",
       "    </tr>\n",
       "    <tr>\n",
       "      <th>33</th>\n",
       "      <th>267</th>\n",
       "      <td>scc_050</td>\n",
       "      <td>33</td>\n",
       "      <td>0.168859</td>\n",
       "    </tr>\n",
       "    <tr>\n",
       "      <th>34</th>\n",
       "      <th>268</th>\n",
       "      <td>scc_050</td>\n",
       "      <td>34</td>\n",
       "      <td>0.168648</td>\n",
       "    </tr>\n",
       "    <tr>\n",
       "      <th>25</th>\n",
       "      <th>259</th>\n",
       "      <td>scc_050</td>\n",
       "      <td>25</td>\n",
       "      <td>0.168439</td>\n",
       "    </tr>\n",
       "  </tbody>\n",
       "</table>\n",
       "</div>"
      ],
      "text/plain": [
       "         method   k  ari_mean\n",
       "k                            \n",
       "30 28   scc_030  30  0.170077\n",
       "29 145  scc_025  29  0.170064\n",
       "27 143  scc_025  27  0.169939\n",
       "28 144  scc_025  28  0.169740\n",
       "31 147  scc_025  31  0.169343\n",
       "26 260  scc_050  26  0.169153\n",
       "32 266  scc_050  32  0.169142\n",
       "33 267  scc_050  33  0.168859\n",
       "34 268  scc_050  34  0.168648\n",
       "25 259  scc_050  25  0.168439"
      ]
     },
     "metadata": {},
     "output_type": "display_data"
    }
   ],
   "source": [
    "best_parts_by_mean = (\n",
    "    consensus_clustering_results.groupby(\"k\")\n",
    "    .apply(lambda x: x.sort_values(_mean_column, ascending=False).head(1))\n",
    "    .sort_values(_mean_column, ascending=False)[[\"method\", \"k\", _mean_column]]\n",
    ")\n",
    "display(best_parts_by_mean.head(10))"
   ]
  },
  {
   "cell_type": "code",
   "execution_count": 15,
   "id": "122bb205",
   "metadata": {
    "execution": {
     "iopub.execute_input": "2022-09-14T17:04:30.152012Z",
     "iopub.status.busy": "2022-09-14T17:04:30.151840Z",
     "iopub.status.idle": "2022-09-14T17:04:30.214713Z",
     "shell.execute_reply": "2022-09-14T17:04:30.214049Z"
    },
    "papermill": {
     "duration": 0.073296,
     "end_time": "2022-09-14T17:04:30.216223",
     "exception": false,
     "start_time": "2022-09-14T17:04:30.142927",
     "status": "completed"
    },
    "tags": []
   },
   "outputs": [
    {
     "data": {
      "text/html": [
       "<div>\n",
       "<style scoped>\n",
       "    .dataframe tbody tr th:only-of-type {\n",
       "        vertical-align: middle;\n",
       "    }\n",
       "\n",
       "    .dataframe tbody tr th {\n",
       "        vertical-align: top;\n",
       "    }\n",
       "\n",
       "    .dataframe thead th {\n",
       "        text-align: right;\n",
       "    }\n",
       "</style>\n",
       "<table border=\"1\" class=\"dataframe\">\n",
       "  <thead>\n",
       "    <tr style=\"text-align: right;\">\n",
       "      <th></th>\n",
       "      <th></th>\n",
       "      <th>method</th>\n",
       "      <th>k</th>\n",
       "      <th>ari_median</th>\n",
       "    </tr>\n",
       "    <tr>\n",
       "      <th>k</th>\n",
       "      <th></th>\n",
       "      <th></th>\n",
       "      <th></th>\n",
       "      <th></th>\n",
       "    </tr>\n",
       "  </thead>\n",
       "  <tbody>\n",
       "    <tr>\n",
       "      <th>9</th>\n",
       "      <th>361</th>\n",
       "      <td>eac_complete_coassoc_matrix</td>\n",
       "      <td>9</td>\n",
       "      <td>0.018457</td>\n",
       "    </tr>\n",
       "    <tr>\n",
       "      <th>8</th>\n",
       "      <th>360</th>\n",
       "      <td>eac_complete_coassoc_matrix</td>\n",
       "      <td>8</td>\n",
       "      <td>0.018031</td>\n",
       "    </tr>\n",
       "    <tr>\n",
       "      <th>7</th>\n",
       "      <th>359</th>\n",
       "      <td>eac_complete_coassoc_matrix</td>\n",
       "      <td>7</td>\n",
       "      <td>0.018015</td>\n",
       "    </tr>\n",
       "    <tr>\n",
       "      <th>6</th>\n",
       "      <th>358</th>\n",
       "      <td>eac_complete_coassoc_matrix</td>\n",
       "      <td>6</td>\n",
       "      <td>0.017854</td>\n",
       "    </tr>\n",
       "    <tr>\n",
       "      <th>10</th>\n",
       "      <th>362</th>\n",
       "      <td>eac_complete_coassoc_matrix</td>\n",
       "      <td>10</td>\n",
       "      <td>0.017032</td>\n",
       "    </tr>\n",
       "    <tr>\n",
       "      <th>12</th>\n",
       "      <th>364</th>\n",
       "      <td>eac_complete_coassoc_matrix</td>\n",
       "      <td>12</td>\n",
       "      <td>0.013556</td>\n",
       "    </tr>\n",
       "    <tr>\n",
       "      <th>11</th>\n",
       "      <th>363</th>\n",
       "      <td>eac_complete_coassoc_matrix</td>\n",
       "      <td>11</td>\n",
       "      <td>0.013367</td>\n",
       "    </tr>\n",
       "    <tr>\n",
       "      <th>13</th>\n",
       "      <th>365</th>\n",
       "      <td>eac_complete_coassoc_matrix</td>\n",
       "      <td>13</td>\n",
       "      <td>0.008930</td>\n",
       "    </tr>\n",
       "    <tr>\n",
       "      <th>14</th>\n",
       "      <th>366</th>\n",
       "      <td>eac_complete_coassoc_matrix</td>\n",
       "      <td>14</td>\n",
       "      <td>0.004427</td>\n",
       "    </tr>\n",
       "    <tr>\n",
       "      <th>5</th>\n",
       "      <th>357</th>\n",
       "      <td>eac_complete_coassoc_matrix</td>\n",
       "      <td>5</td>\n",
       "      <td>0.003580</td>\n",
       "    </tr>\n",
       "  </tbody>\n",
       "</table>\n",
       "</div>"
      ],
      "text/plain": [
       "                             method   k  ari_median\n",
       "k                                                  \n",
       "9  361  eac_complete_coassoc_matrix   9    0.018457\n",
       "8  360  eac_complete_coassoc_matrix   8    0.018031\n",
       "7  359  eac_complete_coassoc_matrix   7    0.018015\n",
       "6  358  eac_complete_coassoc_matrix   6    0.017854\n",
       "10 362  eac_complete_coassoc_matrix  10    0.017032\n",
       "12 364  eac_complete_coassoc_matrix  12    0.013556\n",
       "11 363  eac_complete_coassoc_matrix  11    0.013367\n",
       "13 365  eac_complete_coassoc_matrix  13    0.008930\n",
       "14 366  eac_complete_coassoc_matrix  14    0.004427\n",
       "5  357  eac_complete_coassoc_matrix   5    0.003580"
      ]
     },
     "metadata": {},
     "output_type": "display_data"
    }
   ],
   "source": [
    "best_parts_by_median = (\n",
    "    consensus_clustering_results.groupby(\"k\")\n",
    "    .apply(lambda x: x.sort_values(_median_column, ascending=False).head(1))\n",
    "    .sort_values(_median_column, ascending=False)[[\"method\", \"k\", _median_column]]\n",
    ")\n",
    "display(best_parts_by_median.head(10))"
   ]
  },
  {
   "cell_type": "code",
   "execution_count": 16,
   "id": "016d57e3",
   "metadata": {
    "execution": {
     "iopub.execute_input": "2022-09-14T17:04:30.234111Z",
     "iopub.status.busy": "2022-09-14T17:04:30.233942Z",
     "iopub.status.idle": "2022-09-14T17:04:32.149624Z",
     "shell.execute_reply": "2022-09-14T17:04:32.149041Z"
    },
    "papermill": {
     "duration": 1.926126,
     "end_time": "2022-09-14T17:04:32.151020",
     "exception": false,
     "start_time": "2022-09-14T17:04:30.224894",
     "status": "completed"
    },
    "tags": []
   },
   "outputs": [
    {
     "data": {
      "image/png": "[encoded data removed]",
      "text/plain": [
       "<Figure size 864x432 with 1 Axes>"
      ]
     },
     "metadata": {},
     "output_type": "display_data"
    }
   ],
   "source": [
    "with sns.plotting_context(\"talk\", font_scale=0.75), sns.axes_style(\n",
    "    \"whitegrid\", {\"grid.linestyle\": \"--\"}\n",
    "):\n",
    "    fig, ax = plt.subplots(figsize=(12, 6))\n",
    "\n",
    "    ax = sns.pointplot(\n",
    "        data=best_parts_by_mean,\n",
    "        x=\"k\",\n",
    "        y=_mean_column,\n",
    "        ci=None,\n",
    "        color=_indexes_colors[0],\n",
    "        label=\"Mean\",\n",
    "    )\n",
    "    ax = sns.pointplot(\n",
    "        data=best_parts_by_median,\n",
    "        x=\"k\",\n",
    "        y=_median_column,\n",
    "        ci=None,\n",
    "        color=_indexes_colors[1],\n",
    "        label=\"Median\",\n",
    "        ax=ax,\n",
    "    )\n",
    "    ax.set_ylabel(f\"Agreement with ensemble ({_selected_measure})\")\n",
    "    ax.set_xlabel(\"Number of clusters ($k$)\")\n",
    "    ax.set_xticklabels(ax.get_xticklabels(), rotation=45)\n",
    "    plt.legend(labels=[\"Mean\", \"Median\"])\n",
    "    plt.grid(True)\n",
    "    plt.tight_layout()"
   ]
  },
  {
   "cell_type": "markdown",
   "id": "d22c9c1c",
   "metadata": {
    "papermill": {
     "duration": 0.008267,
     "end_time": "2022-09-14T17:04:32.168081",
     "exception": false,
     "start_time": "2022-09-14T17:04:32.159814",
     "status": "completed"
    },
    "tags": []
   },
   "source": [
    "Both central tendency measures (the mean and the median) have the same behevior: higher agreement on lower/medium k values, and lower agreement on higher k values."
   ]
  },
  {
   "cell_type": "markdown",
   "id": "e9b797d6",
   "metadata": {
    "papermill": {
     "duration": 0.007954,
     "end_time": "2022-09-14T17:04:32.184495",
     "exception": false,
     "start_time": "2022-09-14T17:04:32.176541",
     "status": "completed"
    },
    "tags": []
   },
   "source": [
    "# Which consensus method performs better?"
   ]
  },
  {
   "cell_type": "markdown",
   "id": "940d6ad5",
   "metadata": {
    "papermill": {
     "duration": 0.007958,
     "end_time": "2022-09-14T17:04:32.200823",
     "exception": false,
     "start_time": "2022-09-14T17:04:32.192865",
     "status": "completed"
    },
    "tags": []
   },
   "source": [
    "For this comparison, I take the partitions with an agreement higher than the 75th percentile. From this set, I count how many times each method won."
   ]
  },
  {
   "cell_type": "markdown",
   "id": "5a4cdc1e",
   "metadata": {
    "papermill": {
     "duration": 0.009424,
     "end_time": "2022-09-14T17:04:32.228764",
     "exception": false,
     "start_time": "2022-09-14T17:04:32.219340",
     "status": "completed"
    },
    "tags": []
   },
   "source": [
    "## Using best by mean"
   ]
  },
  {
   "cell_type": "code",
   "execution_count": 17,
   "id": "c510f8cc",
   "metadata": {
    "execution": {
     "iopub.execute_input": "2022-09-14T17:04:32.249434Z",
     "iopub.status.busy": "2022-09-14T17:04:32.248797Z",
     "iopub.status.idle": "2022-09-14T17:04:32.269266Z",
     "shell.execute_reply": "2022-09-14T17:04:32.268805Z"
    },
    "papermill": {
     "duration": 0.032172,
     "end_time": "2022-09-14T17:04:32.270587",
     "exception": false,
     "start_time": "2022-09-14T17:04:32.238415",
     "status": "completed"
    },
    "tags": []
   },
   "outputs": [
    {
     "data": {
      "text/plain": [
       "count    59.000000\n",
       "mean      0.153270\n",
       "std       0.028026\n",
       "min       0.046386\n",
       "25%       0.155213\n",
       "50%       0.166114\n",
       "75%       0.167471\n",
       "max       0.170077\n",
       "Name: ari_mean, dtype: float64"
      ]
     },
     "metadata": {},
     "output_type": "display_data"
    }
   ],
   "source": [
    "_stats_data = best_parts_by_mean[_mean_column].describe()\n",
    "display(_stats_data)"
   ]
  },
  {
   "cell_type": "code",
   "execution_count": 18,
   "id": "fbe3c58a",
   "metadata": {
    "execution": {
     "iopub.execute_input": "2022-09-14T17:04:32.289316Z",
     "iopub.status.busy": "2022-09-14T17:04:32.289124Z",
     "iopub.status.idle": "2022-09-14T17:04:32.308381Z",
     "shell.execute_reply": "2022-09-14T17:04:32.307757Z"
    },
    "papermill": {
     "duration": 0.030015,
     "end_time": "2022-09-14T17:04:32.309654",
     "exception": false,
     "start_time": "2022-09-14T17:04:32.279639",
     "status": "completed"
    },
    "tags": []
   },
   "outputs": [
    {
     "data": {
      "text/plain": [
       "scc_050                       7\n",
       "scc_025                       4\n",
       "eac_average_coassoc_matrix    3\n",
       "scc_030                       1\n",
       "Name: method, dtype: int64"
      ]
     },
     "execution_count": 18,
     "metadata": {},
     "output_type": "execute_result"
    }
   ],
   "source": [
    "best_parts_by_mean[best_parts_by_mean[_mean_column] > _stats_data[\"75%\"]][\n",
    "    \"method\"\n",
    "].value_counts()"
   ]
  },
  {
   "cell_type": "markdown",
   "id": "abaf7152",
   "metadata": {
    "papermill": {
     "duration": 0.008955,
     "end_time": "2022-09-14T17:04:32.327808",
     "exception": false,
     "start_time": "2022-09-14T17:04:32.318853",
     "status": "completed"
    },
    "tags": []
   },
   "source": [
    "SCC picked the \"best partition\" 14 times, whereas EAC (hierarhical clustering) did it only once."
   ]
  },
  {
   "cell_type": "markdown",
   "id": "c88678af",
   "metadata": {
    "papermill": {
     "duration": 0.008467,
     "end_time": "2022-09-14T17:04:32.344555",
     "exception": false,
     "start_time": "2022-09-14T17:04:32.336088",
     "status": "completed"
    },
    "tags": []
   },
   "source": [
    "## Using best by median"
   ]
  },
  {
   "cell_type": "code",
   "execution_count": 19,
   "id": "cacac7e7",
   "metadata": {
    "execution": {
     "iopub.execute_input": "2022-09-14T17:04:32.363123Z",
     "iopub.status.busy": "2022-09-14T17:04:32.362935Z",
     "iopub.status.idle": "2022-09-14T17:04:32.383477Z",
     "shell.execute_reply": "2022-09-14T17:04:32.382943Z"
    },
    "papermill": {
     "duration": 0.031936,
     "end_time": "2022-09-14T17:04:32.384896",
     "exception": false,
     "start_time": "2022-09-14T17:04:32.352960",
     "status": "completed"
    },
    "tags": []
   },
   "outputs": [
    {
     "data": {
      "text/plain": [
       "count    59.000000\n",
       "mean      0.003423\n",
       "std       0.005103\n",
       "min       0.000831\n",
       "25%       0.000887\n",
       "50%       0.001050\n",
       "75%       0.003065\n",
       "max       0.018457\n",
       "Name: ari_median, dtype: float64"
      ]
     },
     "metadata": {},
     "output_type": "display_data"
    }
   ],
   "source": [
    "_stats_data = best_parts_by_median[_median_column].describe()\n",
    "display(_stats_data)"
   ]
  },
  {
   "cell_type": "code",
   "execution_count": 20,
   "id": "a0d116dd",
   "metadata": {
    "execution": {
     "iopub.execute_input": "2022-09-14T17:04:32.404895Z",
     "iopub.status.busy": "2022-09-14T17:04:32.404727Z",
     "iopub.status.idle": "2022-09-14T17:04:32.424321Z",
     "shell.execute_reply": "2022-09-14T17:04:32.423799Z"
    },
    "papermill": {
     "duration": 0.030772,
     "end_time": "2022-09-14T17:04:32.425619",
     "exception": false,
     "start_time": "2022-09-14T17:04:32.394847",
     "status": "completed"
    },
    "tags": []
   },
   "outputs": [
    {
     "data": {
      "text/plain": [
       "eac_complete_coassoc_matrix    15\n",
       "Name: method, dtype: int64"
      ]
     },
     "execution_count": 20,
     "metadata": {},
     "output_type": "execute_result"
    }
   ],
   "source": [
    "best_parts_by_median[best_parts_by_median[_median_column] > _stats_data[\"75%\"]][\n",
    "    \"method\"\n",
    "].value_counts()"
   ]
  },
  {
   "cell_type": "markdown",
   "id": "a42d7b35",
   "metadata": {
    "papermill": {
     "duration": 0.008643,
     "end_time": "2022-09-14T17:04:32.443655",
     "exception": false,
     "start_time": "2022-09-14T17:04:32.435012",
     "status": "completed"
    },
    "tags": []
   },
   "source": [
    "If we use the \"best partitions by median\", EAC (HC) picked the best one 5 times, whereas SCC did it 10 times."
   ]
  },
  {
   "cell_type": "markdown",
   "id": "1d6bcaa8",
   "metadata": {
    "papermill": {
     "duration": 0.008507,
     "end_time": "2022-09-14T17:04:32.460616",
     "exception": false,
     "start_time": "2022-09-14T17:04:32.452109",
     "status": "completed"
    },
    "tags": []
   },
   "source": [
    "**CONCLUSION:** we select SCC as the method for follow up analysis."
   ]
  },
  {
   "cell_type": "markdown",
   "id": "6ae2234f",
   "metadata": {
    "papermill": {
     "duration": 0.008784,
     "end_time": "2022-09-14T17:04:32.477797",
     "exception": false,
     "start_time": "2022-09-14T17:04:32.469013",
     "status": "completed"
    },
    "tags": []
   },
   "source": [
    "# Select best partition per k"
   ]
  },
  {
   "cell_type": "code",
   "execution_count": 21,
   "id": "c0250a74",
   "metadata": {
    "execution": {
     "iopub.execute_input": "2022-09-14T17:04:32.496158Z",
     "iopub.status.busy": "2022-09-14T17:04:32.495633Z",
     "iopub.status.idle": "2022-09-14T17:04:32.511815Z",
     "shell.execute_reply": "2022-09-14T17:04:32.511173Z"
    },
    "papermill": {
     "duration": 0.026984,
     "end_time": "2022-09-14T17:04:32.513162",
     "exception": false,
     "start_time": "2022-09-14T17:04:32.486178",
     "status": "completed"
    },
    "tags": []
   },
   "outputs": [],
   "source": [
    "_selected_stat = \"Median\"\n",
    "_measure_col = _median_column"
   ]
  },
  {
   "cell_type": "code",
   "execution_count": 22,
   "id": "dffc41bf",
   "metadata": {
    "execution": {
     "iopub.execute_input": "2022-09-14T17:04:32.532108Z",
     "iopub.status.busy": "2022-09-14T17:04:32.531886Z",
     "iopub.status.idle": "2022-09-14T17:04:32.587929Z",
     "shell.execute_reply": "2022-09-14T17:04:32.587277Z"
    },
    "papermill": {
     "duration": 0.067299,
     "end_time": "2022-09-14T17:04:32.589578",
     "exception": false,
     "start_time": "2022-09-14T17:04:32.522279",
     "status": "completed"
    },
    "tags": []
   },
   "outputs": [],
   "source": [
    "best_parts = (\n",
    "    consensus_clustering_results[\n",
    "        consensus_clustering_results[\"method\"].str.startswith(\"scc_\")\n",
    "    ]\n",
    "    .groupby(\"k\")\n",
    "    .apply(lambda x: x.sort_values(_measure_col, ascending=False).head(1))\n",
    "    .sort_values(_measure_col, ascending=False)[\n",
    "        [\"method\", \"k\", \"partition\", _measure_col]\n",
    "    ]\n",
    ")"
   ]
  },
  {
   "cell_type": "code",
   "execution_count": 23,
   "id": "156e0fad",
   "metadata": {
    "execution": {
     "iopub.execute_input": "2022-09-14T17:04:32.607945Z",
     "iopub.status.busy": "2022-09-14T17:04:32.607721Z",
     "iopub.status.idle": "2022-09-14T17:04:32.624489Z",
     "shell.execute_reply": "2022-09-14T17:04:32.624061Z"
    },
    "papermill": {
     "duration": 0.027447,
     "end_time": "2022-09-14T17:04:32.625844",
     "exception": false,
     "start_time": "2022-09-14T17:04:32.598397",
     "status": "completed"
    },
    "tags": []
   },
   "outputs": [],
   "source": [
    "best_parts = best_parts.set_index(\"k\")"
   ]
  },
  {
   "cell_type": "code",
   "execution_count": 24,
   "id": "92944fc9",
   "metadata": {
    "execution": {
     "iopub.execute_input": "2022-09-14T17:04:32.644810Z",
     "iopub.status.busy": "2022-09-14T17:04:32.644504Z",
     "iopub.status.idle": "2022-09-14T17:04:32.661569Z",
     "shell.execute_reply": "2022-09-14T17:04:32.661075Z"
    },
    "papermill": {
     "duration": 0.027806,
     "end_time": "2022-09-14T17:04:32.662774",
     "exception": false,
     "start_time": "2022-09-14T17:04:32.634968",
     "status": "completed"
    },
    "tags": []
   },
   "outputs": [
    {
     "data": {
      "text/plain": [
       "(59, 3)"
      ]
     },
     "execution_count": 24,
     "metadata": {},
     "output_type": "execute_result"
    }
   ],
   "source": [
    "best_parts.shape"
   ]
  },
  {
   "cell_type": "code",
   "execution_count": 25,
   "id": "d4b6880f",
   "metadata": {
    "execution": {
     "iopub.execute_input": "2022-09-14T17:04:32.681833Z",
     "iopub.status.busy": "2022-09-14T17:04:32.681671Z",
     "iopub.status.idle": "2022-09-14T17:04:32.711768Z",
     "shell.execute_reply": "2022-09-14T17:04:32.711197Z"
    },
    "papermill": {
     "duration": 0.041141,
     "end_time": "2022-09-14T17:04:32.713103",
     "exception": false,
     "start_time": "2022-09-14T17:04:32.671962",
     "status": "completed"
    },
    "tags": []
   },
   "outputs": [
    {
     "data": {
      "text/html": [
       "<div>\n",
       "<style scoped>\n",
       "    .dataframe tbody tr th:only-of-type {\n",
       "        vertical-align: middle;\n",
       "    }\n",
       "\n",
       "    .dataframe tbody tr th {\n",
       "        vertical-align: top;\n",
       "    }\n",
       "\n",
       "    .dataframe thead th {\n",
       "        text-align: right;\n",
       "    }\n",
       "</style>\n",
       "<table border=\"1\" class=\"dataframe\">\n",
       "  <thead>\n",
       "    <tr style=\"text-align: right;\">\n",
       "      <th></th>\n",
       "      <th>method</th>\n",
       "      <th>partition</th>\n",
       "      <th>ari_median</th>\n",
       "    </tr>\n",
       "    <tr>\n",
       "      <th>k</th>\n",
       "      <th></th>\n",
       "      <th></th>\n",
       "      <th></th>\n",
       "    </tr>\n",
       "  </thead>\n",
       "  <tbody>\n",
       "    <tr>\n",
       "      <th>6</th>\n",
       "      <td>scc_050</td>\n",
       "      <td>[2, 2, 2, 2, 2, 2, 2, 2, 2, 2, 2, 2, 2, 2, 2, ...</td>\n",
       "      <td>0.000946</td>\n",
       "    </tr>\n",
       "    <tr>\n",
       "      <th>2</th>\n",
       "      <td>scc_030</td>\n",
       "      <td>[0, 0, 0, 0, 0, 0, 0, 0, 0, 0, 0, 0, 0, 0, 0, ...</td>\n",
       "      <td>0.000759</td>\n",
       "    </tr>\n",
       "    <tr>\n",
       "      <th>3</th>\n",
       "      <td>scc_025</td>\n",
       "      <td>[2, 2, 2, 2, 2, 2, 2, 2, 2, 2, 2, 2, 2, 2, 2, ...</td>\n",
       "      <td>0.000726</td>\n",
       "    </tr>\n",
       "    <tr>\n",
       "      <th>7</th>\n",
       "      <td>scc_020</td>\n",
       "      <td>[1, 1, 1, 1, 1, 1, 1, 1, 1, 1, 1, 1, 1, 1, 1, ...</td>\n",
       "      <td>0.000703</td>\n",
       "    </tr>\n",
       "    <tr>\n",
       "      <th>8</th>\n",
       "      <td>scc_050</td>\n",
       "      <td>[1, 1, 2, 1, 1, 1, 1, 1, 1, 1, 1, 1, 1, 1, 1, ...</td>\n",
       "      <td>0.000605</td>\n",
       "    </tr>\n",
       "    <tr>\n",
       "      <th>45</th>\n",
       "      <td>scc_025</td>\n",
       "      <td>[27, 27, 11, 27, 27, 27, 27, 27, 27, 27, 27, 2...</td>\n",
       "      <td>0.000553</td>\n",
       "    </tr>\n",
       "    <tr>\n",
       "      <th>31</th>\n",
       "      <td>scc_050</td>\n",
       "      <td>[21, 21, 18, 21, 21, 21, 21, 21, 21, 21, 21, 2...</td>\n",
       "      <td>0.000549</td>\n",
       "    </tr>\n",
       "    <tr>\n",
       "      <th>33</th>\n",
       "      <td>scc_050</td>\n",
       "      <td>[11, 11, 24, 11, 11, 11, 11, 11, 11, 11, 11, 1...</td>\n",
       "      <td>0.000540</td>\n",
       "    </tr>\n",
       "    <tr>\n",
       "      <th>36</th>\n",
       "      <td>scc_050</td>\n",
       "      <td>[28, 28, 13, 28, 28, 28, 28, 28, 28, 28, 28, 2...</td>\n",
       "      <td>0.000531</td>\n",
       "    </tr>\n",
       "    <tr>\n",
       "      <th>20</th>\n",
       "      <td>scc_025</td>\n",
       "      <td>[0, 0, 0, 9, 9, 0, 0, 0, 0, 0, 0, 0, 0, 0, 0, ...</td>\n",
       "      <td>0.000521</td>\n",
       "    </tr>\n",
       "  </tbody>\n",
       "</table>\n",
       "</div>"
      ],
      "text/plain": [
       "     method                                          partition  ari_median\n",
       "k                                                                         \n",
       "6   scc_050  [2, 2, 2, 2, 2, 2, 2, 2, 2, 2, 2, 2, 2, 2, 2, ...    0.000946\n",
       "2   scc_030  [0, 0, 0, 0, 0, 0, 0, 0, 0, 0, 0, 0, 0, 0, 0, ...    0.000759\n",
       "3   scc_025  [2, 2, 2, 2, 2, 2, 2, 2, 2, 2, 2, 2, 2, 2, 2, ...    0.000726\n",
       "7   scc_020  [1, 1, 1, 1, 1, 1, 1, 1, 1, 1, 1, 1, 1, 1, 1, ...    0.000703\n",
       "8   scc_050  [1, 1, 2, 1, 1, 1, 1, 1, 1, 1, 1, 1, 1, 1, 1, ...    0.000605\n",
       "45  scc_025  [27, 27, 11, 27, 27, 27, 27, 27, 27, 27, 27, 2...    0.000553\n",
       "31  scc_050  [21, 21, 18, 21, 21, 21, 21, 21, 21, 21, 21, 2...    0.000549\n",
       "33  scc_050  [11, 11, 24, 11, 11, 11, 11, 11, 11, 11, 11, 1...    0.000540\n",
       "36  scc_050  [28, 28, 13, 28, 28, 28, 28, 28, 28, 28, 28, 2...    0.000531\n",
       "20  scc_025  [0, 0, 0, 9, 9, 0, 0, 0, 0, 0, 0, 0, 0, 0, 0, ...    0.000521"
      ]
     },
     "execution_count": 25,
     "metadata": {},
     "output_type": "execute_result"
    }
   ],
   "source": [
    "# show partitions with top values\n",
    "best_parts.head(10)"
   ]
  },
  {
   "cell_type": "code",
   "execution_count": 26,
   "id": "3c3fe720",
   "metadata": {
    "execution": {
     "iopub.execute_input": "2022-09-14T17:04:32.732370Z",
     "iopub.status.busy": "2022-09-14T17:04:32.732154Z",
     "iopub.status.idle": "2022-09-14T17:04:32.811183Z",
     "shell.execute_reply": "2022-09-14T17:04:32.810506Z"
    },
    "papermill": {
     "duration": 0.090266,
     "end_time": "2022-09-14T17:04:32.812654",
     "exception": false,
     "start_time": "2022-09-14T17:04:32.722388",
     "status": "completed"
    },
    "tags": []
   },
   "outputs": [
    {
     "data": {
      "text/html": [
       "<div>\n",
       "<style scoped>\n",
       "    .dataframe tbody tr th:only-of-type {\n",
       "        vertical-align: middle;\n",
       "    }\n",
       "\n",
       "    .dataframe tbody tr th {\n",
       "        vertical-align: top;\n",
       "    }\n",
       "\n",
       "    .dataframe thead th {\n",
       "        text-align: right;\n",
       "    }\n",
       "</style>\n",
       "<table border=\"1\" class=\"dataframe\">\n",
       "  <thead>\n",
       "    <tr style=\"text-align: right;\">\n",
       "      <th></th>\n",
       "      <th>method</th>\n",
       "      <th>partition</th>\n",
       "      <th>ari_median</th>\n",
       "    </tr>\n",
       "    <tr>\n",
       "      <th>k</th>\n",
       "      <th></th>\n",
       "      <th></th>\n",
       "      <th></th>\n",
       "    </tr>\n",
       "  </thead>\n",
       "  <tbody>\n",
       "    <tr>\n",
       "      <th>2</th>\n",
       "      <td>scc_030</td>\n",
       "      <td>[0, 0, 0, 0, 0, 0, 0, 0, 0, 0, 0, 0, 0, 0, 0, ...</td>\n",
       "      <td>0.000759</td>\n",
       "    </tr>\n",
       "    <tr>\n",
       "      <th>3</th>\n",
       "      <td>scc_025</td>\n",
       "      <td>[2, 2, 2, 2, 2, 2, 2, 2, 2, 2, 2, 2, 2, 2, 2, ...</td>\n",
       "      <td>0.000726</td>\n",
       "    </tr>\n",
       "    <tr>\n",
       "      <th>4</th>\n",
       "      <td>scc_020</td>\n",
       "      <td>[3, 3, 3, 3, 3, 3, 3, 3, 3, 3, 3, 3, 3, 3, 3, ...</td>\n",
       "      <td>0.000374</td>\n",
       "    </tr>\n",
       "    <tr>\n",
       "      <th>5</th>\n",
       "      <td>scc_025</td>\n",
       "      <td>[3, 3, 3, 3, 3, 3, 3, 3, 3, 3, 3, 3, 3, 3, 3, ...</td>\n",
       "      <td>0.000300</td>\n",
       "    </tr>\n",
       "    <tr>\n",
       "      <th>6</th>\n",
       "      <td>scc_050</td>\n",
       "      <td>[2, 2, 2, 2, 2, 2, 2, 2, 2, 2, 2, 2, 2, 2, 2, ...</td>\n",
       "      <td>0.000946</td>\n",
       "    </tr>\n",
       "    <tr>\n",
       "      <th>7</th>\n",
       "      <td>scc_020</td>\n",
       "      <td>[1, 1, 1, 1, 1, 1, 1, 1, 1, 1, 1, 1, 1, 1, 1, ...</td>\n",
       "      <td>0.000703</td>\n",
       "    </tr>\n",
       "    <tr>\n",
       "      <th>8</th>\n",
       "      <td>scc_050</td>\n",
       "      <td>[1, 1, 2, 1, 1, 1, 1, 1, 1, 1, 1, 1, 1, 1, 1, ...</td>\n",
       "      <td>0.000605</td>\n",
       "    </tr>\n",
       "    <tr>\n",
       "      <th>9</th>\n",
       "      <td>scc_020</td>\n",
       "      <td>[4, 4, 4, 7, 7, 4, 4, 4, 4, 4, 4, 4, 4, 4, 4, ...</td>\n",
       "      <td>0.000328</td>\n",
       "    </tr>\n",
       "    <tr>\n",
       "      <th>10</th>\n",
       "      <td>scc_050</td>\n",
       "      <td>[6, 6, 1, 6, 6, 6, 6, 6, 6, 6, 6, 6, 6, 6, 6, ...</td>\n",
       "      <td>0.000460</td>\n",
       "    </tr>\n",
       "    <tr>\n",
       "      <th>11</th>\n",
       "      <td>scc_050</td>\n",
       "      <td>[1, 1, 2, 1, 1, 1, 1, 1, 1, 1, 1, 1, 1, 1, 1, ...</td>\n",
       "      <td>0.000339</td>\n",
       "    </tr>\n",
       "    <tr>\n",
       "      <th>12</th>\n",
       "      <td>scc_020</td>\n",
       "      <td>[4, 4, 4, 4, 4, 4, 4, 4, 4, 4, 4, 4, 4, 4, 4, ...</td>\n",
       "      <td>0.000462</td>\n",
       "    </tr>\n",
       "    <tr>\n",
       "      <th>13</th>\n",
       "      <td>scc_020</td>\n",
       "      <td>[1, 1, 1, 2, 2, 1, 1, 1, 1, 1, 1, 1, 1, 1, 1, ...</td>\n",
       "      <td>0.000512</td>\n",
       "    </tr>\n",
       "    <tr>\n",
       "      <th>14</th>\n",
       "      <td>scc_020</td>\n",
       "      <td>[11, 11, 11, 10, 10, 10, 11, 11, 11, 11, 10, 1...</td>\n",
       "      <td>0.000380</td>\n",
       "    </tr>\n",
       "    <tr>\n",
       "      <th>15</th>\n",
       "      <td>scc_020</td>\n",
       "      <td>[12, 12, 12, 7, 7, 12, 12, 12, 12, 12, 7, 12, ...</td>\n",
       "      <td>0.000341</td>\n",
       "    </tr>\n",
       "    <tr>\n",
       "      <th>16</th>\n",
       "      <td>scc_020</td>\n",
       "      <td>[8, 8, 8, 5, 5, 8, 8, 8, 8, 8, 5, 8, 8, 8, 5, ...</td>\n",
       "      <td>0.000270</td>\n",
       "    </tr>\n",
       "    <tr>\n",
       "      <th>17</th>\n",
       "      <td>scc_020</td>\n",
       "      <td>[7, 7, 7, 6, 6, 7, 7, 7, 7, 7, 7, 7, 7, 7, 7, ...</td>\n",
       "      <td>0.000251</td>\n",
       "    </tr>\n",
       "    <tr>\n",
       "      <th>18</th>\n",
       "      <td>scc_050</td>\n",
       "      <td>[6, 6, 6, 6, 13, 6, 6, 6, 6, 6, 6, 6, 6, 6, 6,...</td>\n",
       "      <td>0.000396</td>\n",
       "    </tr>\n",
       "    <tr>\n",
       "      <th>19</th>\n",
       "      <td>scc_030</td>\n",
       "      <td>[12, 12, 12, 9, 9, 12, 12, 12, 12, 12, 12, 12,...</td>\n",
       "      <td>0.000310</td>\n",
       "    </tr>\n",
       "    <tr>\n",
       "      <th>20</th>\n",
       "      <td>scc_025</td>\n",
       "      <td>[0, 0, 0, 9, 9, 0, 0, 0, 0, 0, 0, 0, 0, 0, 0, ...</td>\n",
       "      <td>0.000521</td>\n",
       "    </tr>\n",
       "    <tr>\n",
       "      <th>21</th>\n",
       "      <td>scc_020</td>\n",
       "      <td>[9, 9, 9, 19, 19, 19, 9, 9, 9, 9, 19, 9, 9, 9,...</td>\n",
       "      <td>0.000432</td>\n",
       "    </tr>\n",
       "    <tr>\n",
       "      <th>22</th>\n",
       "      <td>scc_020</td>\n",
       "      <td>[4, 4, 1, 4, 4, 4, 4, 4, 4, 4, 4, 4, 4, 4, 4, ...</td>\n",
       "      <td>0.000410</td>\n",
       "    </tr>\n",
       "    <tr>\n",
       "      <th>23</th>\n",
       "      <td>scc_025</td>\n",
       "      <td>[19, 19, 0, 19, 19, 19, 19, 19, 19, 19, 19, 19...</td>\n",
       "      <td>0.000462</td>\n",
       "    </tr>\n",
       "    <tr>\n",
       "      <th>24</th>\n",
       "      <td>scc_030</td>\n",
       "      <td>[4, 4, 4, 8, 8, 4, 4, 4, 4, 4, 4, 4, 4, 4, 4, ...</td>\n",
       "      <td>0.000458</td>\n",
       "    </tr>\n",
       "    <tr>\n",
       "      <th>25</th>\n",
       "      <td>scc_025</td>\n",
       "      <td>[0, 0, 0, 0, 0, 0, 0, 0, 0, 0, 0, 0, 0, 0, 0, ...</td>\n",
       "      <td>0.000379</td>\n",
       "    </tr>\n",
       "    <tr>\n",
       "      <th>26</th>\n",
       "      <td>scc_030</td>\n",
       "      <td>[6, 6, 6, 6, 6, 6, 6, 6, 6, 6, 6, 6, 6, 6, 6, ...</td>\n",
       "      <td>0.000491</td>\n",
       "    </tr>\n",
       "    <tr>\n",
       "      <th>27</th>\n",
       "      <td>scc_030</td>\n",
       "      <td>[4, 4, 14, 4, 4, 4, 4, 4, 4, 4, 4, 4, 4, 4, 4,...</td>\n",
       "      <td>0.000435</td>\n",
       "    </tr>\n",
       "    <tr>\n",
       "      <th>28</th>\n",
       "      <td>scc_050</td>\n",
       "      <td>[27, 27, 25, 27, 27, 27, 27, 27, 27, 27, 27, 2...</td>\n",
       "      <td>0.000450</td>\n",
       "    </tr>\n",
       "    <tr>\n",
       "      <th>29</th>\n",
       "      <td>scc_030</td>\n",
       "      <td>[17, 17, 8, 17, 17, 17, 17, 17, 17, 17, 17, 17...</td>\n",
       "      <td>0.000438</td>\n",
       "    </tr>\n",
       "    <tr>\n",
       "      <th>30</th>\n",
       "      <td>scc_030</td>\n",
       "      <td>[8, 8, 15, 8, 8, 8, 8, 8, 8, 8, 8, 8, 8, 8, 8,...</td>\n",
       "      <td>0.000414</td>\n",
       "    </tr>\n",
       "    <tr>\n",
       "      <th>31</th>\n",
       "      <td>scc_050</td>\n",
       "      <td>[21, 21, 18, 21, 21, 21, 21, 21, 21, 21, 21, 2...</td>\n",
       "      <td>0.000549</td>\n",
       "    </tr>\n",
       "    <tr>\n",
       "      <th>32</th>\n",
       "      <td>scc_050</td>\n",
       "      <td>[17, 17, 26, 17, 17, 17, 17, 17, 17, 17, 17, 1...</td>\n",
       "      <td>0.000519</td>\n",
       "    </tr>\n",
       "    <tr>\n",
       "      <th>33</th>\n",
       "      <td>scc_050</td>\n",
       "      <td>[11, 11, 24, 11, 11, 11, 11, 11, 11, 11, 11, 1...</td>\n",
       "      <td>0.000540</td>\n",
       "    </tr>\n",
       "    <tr>\n",
       "      <th>34</th>\n",
       "      <td>scc_050</td>\n",
       "      <td>[33, 33, 18, 33, 33, 33, 33, 33, 33, 33, 33, 3...</td>\n",
       "      <td>0.000516</td>\n",
       "    </tr>\n",
       "    <tr>\n",
       "      <th>35</th>\n",
       "      <td>scc_050</td>\n",
       "      <td>[31, 31, 25, 31, 31, 31, 31, 31, 31, 31, 31, 3...</td>\n",
       "      <td>0.000479</td>\n",
       "    </tr>\n",
       "    <tr>\n",
       "      <th>36</th>\n",
       "      <td>scc_050</td>\n",
       "      <td>[28, 28, 13, 28, 28, 28, 28, 28, 28, 28, 28, 2...</td>\n",
       "      <td>0.000531</td>\n",
       "    </tr>\n",
       "    <tr>\n",
       "      <th>37</th>\n",
       "      <td>scc_050</td>\n",
       "      <td>[9, 9, 35, 9, 9, 9, 9, 9, 9, 9, 9, 9, 9, 9, 9,...</td>\n",
       "      <td>0.000426</td>\n",
       "    </tr>\n",
       "    <tr>\n",
       "      <th>38</th>\n",
       "      <td>scc_050</td>\n",
       "      <td>[17, 17, 23, 17, 17, 17, 17, 17, 17, 17, 17, 1...</td>\n",
       "      <td>0.000484</td>\n",
       "    </tr>\n",
       "    <tr>\n",
       "      <th>39</th>\n",
       "      <td>scc_050</td>\n",
       "      <td>[28, 28, 2, 28, 28, 28, 28, 28, 28, 28, 28, 28...</td>\n",
       "      <td>0.000439</td>\n",
       "    </tr>\n",
       "    <tr>\n",
       "      <th>40</th>\n",
       "      <td>scc_050</td>\n",
       "      <td>[5, 5, 18, 5, 5, 5, 5, 5, 5, 5, 5, 5, 5, 5, 5,...</td>\n",
       "      <td>0.000480</td>\n",
       "    </tr>\n",
       "    <tr>\n",
       "      <th>41</th>\n",
       "      <td>scc_050</td>\n",
       "      <td>[10, 10, 7, 10, 10, 10, 10, 10, 10, 10, 10, 10...</td>\n",
       "      <td>0.000478</td>\n",
       "    </tr>\n",
       "    <tr>\n",
       "      <th>42</th>\n",
       "      <td>scc_050</td>\n",
       "      <td>[18, 18, 4, 18, 18, 18, 18, 18, 18, 18, 18, 18...</td>\n",
       "      <td>0.000388</td>\n",
       "    </tr>\n",
       "    <tr>\n",
       "      <th>43</th>\n",
       "      <td>scc_030</td>\n",
       "      <td>[27, 27, 31, 27, 27, 27, 27, 27, 27, 27, 27, 2...</td>\n",
       "      <td>0.000455</td>\n",
       "    </tr>\n",
       "    <tr>\n",
       "      <th>44</th>\n",
       "      <td>scc_050</td>\n",
       "      <td>[10, 10, 28, 10, 10, 10, 10, 10, 10, 10, 10, 1...</td>\n",
       "      <td>0.000361</td>\n",
       "    </tr>\n",
       "    <tr>\n",
       "      <th>45</th>\n",
       "      <td>scc_025</td>\n",
       "      <td>[27, 27, 11, 27, 27, 27, 27, 27, 27, 27, 27, 2...</td>\n",
       "      <td>0.000553</td>\n",
       "    </tr>\n",
       "    <tr>\n",
       "      <th>46</th>\n",
       "      <td>scc_050</td>\n",
       "      <td>[8, 8, 30, 8, 8, 8, 8, 8, 8, 8, 8, 8, 8, 8, 8,...</td>\n",
       "      <td>0.000513</td>\n",
       "    </tr>\n",
       "    <tr>\n",
       "      <th>47</th>\n",
       "      <td>scc_050</td>\n",
       "      <td>[3, 3, 16, 3, 3, 3, 3, 3, 3, 3, 3, 3, 3, 3, 3,...</td>\n",
       "      <td>0.000444</td>\n",
       "    </tr>\n",
       "    <tr>\n",
       "      <th>48</th>\n",
       "      <td>scc_030</td>\n",
       "      <td>[44, 44, 21, 44, 44, 44, 44, 44, 44, 44, 44, 4...</td>\n",
       "      <td>0.000463</td>\n",
       "    </tr>\n",
       "    <tr>\n",
       "      <th>49</th>\n",
       "      <td>scc_025</td>\n",
       "      <td>[17, 17, 42, 17, 17, 17, 17, 17, 17, 17, 17, 1...</td>\n",
       "      <td>0.000499</td>\n",
       "    </tr>\n",
       "    <tr>\n",
       "      <th>50</th>\n",
       "      <td>scc_050</td>\n",
       "      <td>[1, 1, 27, 1, 1, 1, 1, 1, 1, 1, 1, 1, 1, 1, 1,...</td>\n",
       "      <td>0.000479</td>\n",
       "    </tr>\n",
       "    <tr>\n",
       "      <th>51</th>\n",
       "      <td>scc_050</td>\n",
       "      <td>[12, 12, 33, 12, 12, 12, 12, 12, 12, 12, 12, 1...</td>\n",
       "      <td>0.000482</td>\n",
       "    </tr>\n",
       "    <tr>\n",
       "      <th>52</th>\n",
       "      <td>scc_025</td>\n",
       "      <td>[28, 28, 7, 28, 38, 28, 28, 28, 28, 28, 28, 28...</td>\n",
       "      <td>0.000482</td>\n",
       "    </tr>\n",
       "    <tr>\n",
       "      <th>53</th>\n",
       "      <td>scc_025</td>\n",
       "      <td>[42, 42, 29, 42, 40, 42, 42, 42, 42, 42, 42, 4...</td>\n",
       "      <td>0.000481</td>\n",
       "    </tr>\n",
       "    <tr>\n",
       "      <th>54</th>\n",
       "      <td>scc_030</td>\n",
       "      <td>[5, 5, 12, 5, 5, 5, 5, 5, 5, 5, 5, 5, 5, 5, 5,...</td>\n",
       "      <td>0.000466</td>\n",
       "    </tr>\n",
       "    <tr>\n",
       "      <th>55</th>\n",
       "      <td>scc_030</td>\n",
       "      <td>[42, 42, 17, 42, 42, 42, 42, 42, 42, 42, 42, 4...</td>\n",
       "      <td>0.000466</td>\n",
       "    </tr>\n",
       "    <tr>\n",
       "      <th>56</th>\n",
       "      <td>scc_050</td>\n",
       "      <td>[37, 37, 49, 37, 37, 37, 37, 37, 37, 37, 37, 3...</td>\n",
       "      <td>0.000459</td>\n",
       "    </tr>\n",
       "    <tr>\n",
       "      <th>57</th>\n",
       "      <td>scc_025</td>\n",
       "      <td>[51, 51, 44, 51, 18, 51, 51, 51, 51, 51, 51, 5...</td>\n",
       "      <td>0.000462</td>\n",
       "    </tr>\n",
       "    <tr>\n",
       "      <th>58</th>\n",
       "      <td>scc_030</td>\n",
       "      <td>[53, 53, 16, 53, 53, 53, 53, 53, 53, 53, 53, 5...</td>\n",
       "      <td>0.000451</td>\n",
       "    </tr>\n",
       "    <tr>\n",
       "      <th>59</th>\n",
       "      <td>scc_050</td>\n",
       "      <td>[20, 20, 48, 20, 20, 20, 20, 20, 20, 20, 20, 2...</td>\n",
       "      <td>0.000446</td>\n",
       "    </tr>\n",
       "    <tr>\n",
       "      <th>60</th>\n",
       "      <td>scc_050</td>\n",
       "      <td>[38, 38, 3, 38, 38, 38, 38, 38, 38, 38, 38, 38...</td>\n",
       "      <td>0.000439</td>\n",
       "    </tr>\n",
       "  </tbody>\n",
       "</table>\n",
       "</div>"
      ],
      "text/plain": [
       "     method                                          partition  ari_median\n",
       "k                                                                         \n",
       "2   scc_030  [0, 0, 0, 0, 0, 0, 0, 0, 0, 0, 0, 0, 0, 0, 0, ...    0.000759\n",
       "3   scc_025  [2, 2, 2, 2, 2, 2, 2, 2, 2, 2, 2, 2, 2, 2, 2, ...    0.000726\n",
       "4   scc_020  [3, 3, 3, 3, 3, 3, 3, 3, 3, 3, 3, 3, 3, 3, 3, ...    0.000374\n",
       "5   scc_025  [3, 3, 3, 3, 3, 3, 3, 3, 3, 3, 3, 3, 3, 3, 3, ...    0.000300\n",
       "6   scc_050  [2, 2, 2, 2, 2, 2, 2, 2, 2, 2, 2, 2, 2, 2, 2, ...    0.000946\n",
       "7   scc_020  [1, 1, 1, 1, 1, 1, 1, 1, 1, 1, 1, 1, 1, 1, 1, ...    0.000703\n",
       "8   scc_050  [1, 1, 2, 1, 1, 1, 1, 1, 1, 1, 1, 1, 1, 1, 1, ...    0.000605\n",
       "9   scc_020  [4, 4, 4, 7, 7, 4, 4, 4, 4, 4, 4, 4, 4, 4, 4, ...    0.000328\n",
       "10  scc_050  [6, 6, 1, 6, 6, 6, 6, 6, 6, 6, 6, 6, 6, 6, 6, ...    0.000460\n",
       "11  scc_050  [1, 1, 2, 1, 1, 1, 1, 1, 1, 1, 1, 1, 1, 1, 1, ...    0.000339\n",
       "12  scc_020  [4, 4, 4, 4, 4, 4, 4, 4, 4, 4, 4, 4, 4, 4, 4, ...    0.000462\n",
       "13  scc_020  [1, 1, 1, 2, 2, 1, 1, 1, 1, 1, 1, 1, 1, 1, 1, ...    0.000512\n",
       "14  scc_020  [11, 11, 11, 10, 10, 10, 11, 11, 11, 11, 10, 1...    0.000380\n",
       "15  scc_020  [12, 12, 12, 7, 7, 12, 12, 12, 12, 12, 7, 12, ...    0.000341\n",
       "16  scc_020  [8, 8, 8, 5, 5, 8, 8, 8, 8, 8, 5, 8, 8, 8, 5, ...    0.000270\n",
       "17  scc_020  [7, 7, 7, 6, 6, 7, 7, 7, 7, 7, 7, 7, 7, 7, 7, ...    0.000251\n",
       "18  scc_050  [6, 6, 6, 6, 13, 6, 6, 6, 6, 6, 6, 6, 6, 6, 6,...    0.000396\n",
       "19  scc_030  [12, 12, 12, 9, 9, 12, 12, 12, 12, 12, 12, 12,...    0.000310\n",
       "20  scc_025  [0, 0, 0, 9, 9, 0, 0, 0, 0, 0, 0, 0, 0, 0, 0, ...    0.000521\n",
       "21  scc_020  [9, 9, 9, 19, 19, 19, 9, 9, 9, 9, 19, 9, 9, 9,...    0.000432\n",
       "22  scc_020  [4, 4, 1, 4, 4, 4, 4, 4, 4, 4, 4, 4, 4, 4, 4, ...    0.000410\n",
       "23  scc_025  [19, 19, 0, 19, 19, 19, 19, 19, 19, 19, 19, 19...    0.000462\n",
       "24  scc_030  [4, 4, 4, 8, 8, 4, 4, 4, 4, 4, 4, 4, 4, 4, 4, ...    0.000458\n",
       "25  scc_025  [0, 0, 0, 0, 0, 0, 0, 0, 0, 0, 0, 0, 0, 0, 0, ...    0.000379\n",
       "26  scc_030  [6, 6, 6, 6, 6, 6, 6, 6, 6, 6, 6, 6, 6, 6, 6, ...    0.000491\n",
       "27  scc_030  [4, 4, 14, 4, 4, 4, 4, 4, 4, 4, 4, 4, 4, 4, 4,...    0.000435\n",
       "28  scc_050  [27, 27, 25, 27, 27, 27, 27, 27, 27, 27, 27, 2...    0.000450\n",
       "29  scc_030  [17, 17, 8, 17, 17, 17, 17, 17, 17, 17, 17, 17...    0.000438\n",
       "30  scc_030  [8, 8, 15, 8, 8, 8, 8, 8, 8, 8, 8, 8, 8, 8, 8,...    0.000414\n",
       "31  scc_050  [21, 21, 18, 21, 21, 21, 21, 21, 21, 21, 21, 2...    0.000549\n",
       "32  scc_050  [17, 17, 26, 17, 17, 17, 17, 17, 17, 17, 17, 1...    0.000519\n",
       "33  scc_050  [11, 11, 24, 11, 11, 11, 11, 11, 11, 11, 11, 1...    0.000540\n",
       "34  scc_050  [33, 33, 18, 33, 33, 33, 33, 33, 33, 33, 33, 3...    0.000516\n",
       "35  scc_050  [31, 31, 25, 31, 31, 31, 31, 31, 31, 31, 31, 3...    0.000479\n",
       "36  scc_050  [28, 28, 13, 28, 28, 28, 28, 28, 28, 28, 28, 2...    0.000531\n",
       "37  scc_050  [9, 9, 35, 9, 9, 9, 9, 9, 9, 9, 9, 9, 9, 9, 9,...    0.000426\n",
       "38  scc_050  [17, 17, 23, 17, 17, 17, 17, 17, 17, 17, 17, 1...    0.000484\n",
       "39  scc_050  [28, 28, 2, 28, 28, 28, 28, 28, 28, 28, 28, 28...    0.000439\n",
       "40  scc_050  [5, 5, 18, 5, 5, 5, 5, 5, 5, 5, 5, 5, 5, 5, 5,...    0.000480\n",
       "41  scc_050  [10, 10, 7, 10, 10, 10, 10, 10, 10, 10, 10, 10...    0.000478\n",
       "42  scc_050  [18, 18, 4, 18, 18, 18, 18, 18, 18, 18, 18, 18...    0.000388\n",
       "43  scc_030  [27, 27, 31, 27, 27, 27, 27, 27, 27, 27, 27, 2...    0.000455\n",
       "44  scc_050  [10, 10, 28, 10, 10, 10, 10, 10, 10, 10, 10, 1...    0.000361\n",
       "45  scc_025  [27, 27, 11, 27, 27, 27, 27, 27, 27, 27, 27, 2...    0.000553\n",
       "46  scc_050  [8, 8, 30, 8, 8, 8, 8, 8, 8, 8, 8, 8, 8, 8, 8,...    0.000513\n",
       "47  scc_050  [3, 3, 16, 3, 3, 3, 3, 3, 3, 3, 3, 3, 3, 3, 3,...    0.000444\n",
       "48  scc_030  [44, 44, 21, 44, 44, 44, 44, 44, 44, 44, 44, 4...    0.000463\n",
       "49  scc_025  [17, 17, 42, 17, 17, 17, 17, 17, 17, 17, 17, 1...    0.000499\n",
       "50  scc_050  [1, 1, 27, 1, 1, 1, 1, 1, 1, 1, 1, 1, 1, 1, 1,...    0.000479\n",
       "51  scc_050  [12, 12, 33, 12, 12, 12, 12, 12, 12, 12, 12, 1...    0.000482\n",
       "52  scc_025  [28, 28, 7, 28, 38, 28, 28, 28, 28, 28, 28, 28...    0.000482\n",
       "53  scc_025  [42, 42, 29, 42, 40, 42, 42, 42, 42, 42, 42, 4...    0.000481\n",
       "54  scc_030  [5, 5, 12, 5, 5, 5, 5, 5, 5, 5, 5, 5, 5, 5, 5,...    0.000466\n",
       "55  scc_030  [42, 42, 17, 42, 42, 42, 42, 42, 42, 42, 42, 4...    0.000466\n",
       "56  scc_050  [37, 37, 49, 37, 37, 37, 37, 37, 37, 37, 37, 3...    0.000459\n",
       "57  scc_025  [51, 51, 44, 51, 18, 51, 51, 51, 51, 51, 51, 5...    0.000462\n",
       "58  scc_030  [53, 53, 16, 53, 53, 53, 53, 53, 53, 53, 53, 5...    0.000451\n",
       "59  scc_050  [20, 20, 48, 20, 20, 20, 20, 20, 20, 20, 20, 2...    0.000446\n",
       "60  scc_050  [38, 38, 3, 38, 38, 38, 38, 38, 38, 38, 38, 38...    0.000439"
      ]
     },
     "execution_count": 26,
     "metadata": {},
     "output_type": "execute_result"
    }
   ],
   "source": [
    "best_parts.sort_values(\"k\")"
   ]
  },
  {
   "cell_type": "markdown",
   "id": "0f126fac",
   "metadata": {
    "papermill": {
     "duration": 0.009362,
     "end_time": "2022-09-14T17:04:32.831549",
     "exception": false,
     "start_time": "2022-09-14T17:04:32.822187",
     "status": "completed"
    },
    "tags": []
   },
   "source": [
    "## Select partitions with highest agreement"
   ]
  },
  {
   "cell_type": "markdown",
   "id": "76158b88",
   "metadata": {
    "papermill": {
     "duration": 0.009259,
     "end_time": "2022-09-14T17:04:32.849886",
     "exception": false,
     "start_time": "2022-09-14T17:04:32.840627",
     "status": "completed"
    },
    "tags": []
   },
   "source": [
    "We do not expect all partitions with different `k` to be good ones. Thus, here I select the partitions with an ensemble agreement that pass a relative high threshold (75th percentile)."
   ]
  },
  {
   "cell_type": "code",
   "execution_count": 27,
   "id": "85412401",
   "metadata": {
    "execution": {
     "iopub.execute_input": "2022-09-14T17:04:32.869521Z",
     "iopub.status.busy": "2022-09-14T17:04:32.869302Z",
     "iopub.status.idle": "2022-09-14T17:04:32.889117Z",
     "shell.execute_reply": "2022-09-14T17:04:32.888587Z"
    },
    "papermill": {
     "duration": 0.031109,
     "end_time": "2022-09-14T17:04:32.890439",
     "exception": false,
     "start_time": "2022-09-14T17:04:32.859330",
     "status": "completed"
    },
    "tags": []
   },
   "outputs": [
    {
     "data": {
      "text/plain": [
       "count    59.000000\n",
       "mean      0.000468\n",
       "std       0.000113\n",
       "min       0.000251\n",
       "25%       0.000420\n",
       "50%       0.000462\n",
       "75%       0.000495\n",
       "max       0.000946\n",
       "Name: ari_median, dtype: float64"
      ]
     },
     "metadata": {},
     "output_type": "display_data"
    }
   ],
   "source": [
    "best_parts_stats = best_parts[_measure_col].describe()\n",
    "display(best_parts_stats)"
   ]
  },
  {
   "cell_type": "code",
   "execution_count": 28,
   "id": "63ee5ba4",
   "metadata": {
    "execution": {
     "iopub.execute_input": "2022-09-14T17:04:32.911110Z",
     "iopub.status.busy": "2022-09-14T17:04:32.910945Z",
     "iopub.status.idle": "2022-09-14T17:04:32.929510Z",
     "shell.execute_reply": "2022-09-14T17:04:32.929057Z"
    },
    "papermill": {
     "duration": 0.030357,
     "end_time": "2022-09-14T17:04:32.930856",
     "exception": false,
     "start_time": "2022-09-14T17:04:32.900499",
     "status": "completed"
    },
    "tags": []
   },
   "outputs": [
    {
     "data": {
      "text/plain": [
       "0.0004953979853009125"
      ]
     },
     "metadata": {},
     "output_type": "display_data"
    }
   ],
   "source": [
    "best_threshold = best_parts_stats[\"75%\"]\n",
    "best_threshold_description = \"75th percentile\"\n",
    "display(best_threshold)\n",
    "\n",
    "best_parts = best_parts.assign(\n",
    "    selected=best_parts[_measure_col].apply(lambda x: x >= best_threshold)\n",
    ")"
   ]
  },
  {
   "cell_type": "code",
   "execution_count": 29,
   "id": "b4a7cc09",
   "metadata": {
    "execution": {
     "iopub.execute_input": "2022-09-14T17:04:32.952539Z",
     "iopub.status.busy": "2022-09-14T17:04:32.951873Z",
     "iopub.status.idle": "2022-09-14T17:04:32.969224Z",
     "shell.execute_reply": "2022-09-14T17:04:32.968766Z"
    },
    "papermill": {
     "duration": 0.02945,
     "end_time": "2022-09-14T17:04:32.970488",
     "exception": false,
     "start_time": "2022-09-14T17:04:32.941038",
     "status": "completed"
    },
    "tags": []
   },
   "outputs": [
    {
     "data": {
      "text/plain": [
       "(59, 4)"
      ]
     },
     "execution_count": 29,
     "metadata": {},
     "output_type": "execute_result"
    }
   ],
   "source": [
    "best_parts.shape"
   ]
  },
  {
   "cell_type": "code",
   "execution_count": 30,
   "id": "b55298ec",
   "metadata": {
    "execution": {
     "iopub.execute_input": "2022-09-14T17:04:32.991559Z",
     "iopub.status.busy": "2022-09-14T17:04:32.991399Z",
     "iopub.status.idle": "2022-09-14T17:04:33.016733Z",
     "shell.execute_reply": "2022-09-14T17:04:33.016294Z"
    },
    "papermill": {
     "duration": 0.036955,
     "end_time": "2022-09-14T17:04:33.017965",
     "exception": false,
     "start_time": "2022-09-14T17:04:32.981010",
     "status": "completed"
    },
    "tags": []
   },
   "outputs": [
    {
     "data": {
      "text/html": [
       "<div>\n",
       "<style scoped>\n",
       "    .dataframe tbody tr th:only-of-type {\n",
       "        vertical-align: middle;\n",
       "    }\n",
       "\n",
       "    .dataframe tbody tr th {\n",
       "        vertical-align: top;\n",
       "    }\n",
       "\n",
       "    .dataframe thead th {\n",
       "        text-align: right;\n",
       "    }\n",
       "</style>\n",
       "<table border=\"1\" class=\"dataframe\">\n",
       "  <thead>\n",
       "    <tr style=\"text-align: right;\">\n",
       "      <th></th>\n",
       "      <th>method</th>\n",
       "      <th>partition</th>\n",
       "      <th>ari_median</th>\n",
       "      <th>selected</th>\n",
       "    </tr>\n",
       "    <tr>\n",
       "      <th>k</th>\n",
       "      <th></th>\n",
       "      <th></th>\n",
       "      <th></th>\n",
       "      <th></th>\n",
       "    </tr>\n",
       "  </thead>\n",
       "  <tbody>\n",
       "    <tr>\n",
       "      <th>6</th>\n",
       "      <td>scc_050</td>\n",
       "      <td>[2, 2, 2, 2, 2, 2, 2, 2, 2, 2, 2, 2, 2, 2, 2, ...</td>\n",
       "      <td>0.000946</td>\n",
       "      <td>True</td>\n",
       "    </tr>\n",
       "    <tr>\n",
       "      <th>2</th>\n",
       "      <td>scc_030</td>\n",
       "      <td>[0, 0, 0, 0, 0, 0, 0, 0, 0, 0, 0, 0, 0, 0, 0, ...</td>\n",
       "      <td>0.000759</td>\n",
       "      <td>True</td>\n",
       "    </tr>\n",
       "    <tr>\n",
       "      <th>3</th>\n",
       "      <td>scc_025</td>\n",
       "      <td>[2, 2, 2, 2, 2, 2, 2, 2, 2, 2, 2, 2, 2, 2, 2, ...</td>\n",
       "      <td>0.000726</td>\n",
       "      <td>True</td>\n",
       "    </tr>\n",
       "    <tr>\n",
       "      <th>7</th>\n",
       "      <td>scc_020</td>\n",
       "      <td>[1, 1, 1, 1, 1, 1, 1, 1, 1, 1, 1, 1, 1, 1, 1, ...</td>\n",
       "      <td>0.000703</td>\n",
       "      <td>True</td>\n",
       "    </tr>\n",
       "    <tr>\n",
       "      <th>8</th>\n",
       "      <td>scc_050</td>\n",
       "      <td>[1, 1, 2, 1, 1, 1, 1, 1, 1, 1, 1, 1, 1, 1, 1, ...</td>\n",
       "      <td>0.000605</td>\n",
       "      <td>True</td>\n",
       "    </tr>\n",
       "  </tbody>\n",
       "</table>\n",
       "</div>"
      ],
      "text/plain": [
       "    method                                          partition  ari_median  \\\n",
       "k                                                                           \n",
       "6  scc_050  [2, 2, 2, 2, 2, 2, 2, 2, 2, 2, 2, 2, 2, 2, 2, ...    0.000946   \n",
       "2  scc_030  [0, 0, 0, 0, 0, 0, 0, 0, 0, 0, 0, 0, 0, 0, 0, ...    0.000759   \n",
       "3  scc_025  [2, 2, 2, 2, 2, 2, 2, 2, 2, 2, 2, 2, 2, 2, 2, ...    0.000726   \n",
       "7  scc_020  [1, 1, 1, 1, 1, 1, 1, 1, 1, 1, 1, 1, 1, 1, 1, ...    0.000703   \n",
       "8  scc_050  [1, 1, 2, 1, 1, 1, 1, 1, 1, 1, 1, 1, 1, 1, 1, ...    0.000605   \n",
       "\n",
       "   selected  \n",
       "k            \n",
       "6      True  \n",
       "2      True  \n",
       "3      True  \n",
       "7      True  \n",
       "8      True  "
      ]
     },
     "execution_count": 30,
     "metadata": {},
     "output_type": "execute_result"
    }
   ],
   "source": [
    "best_parts.head()"
   ]
  },
  {
   "cell_type": "markdown",
   "id": "0469ff1e",
   "metadata": {
    "papermill": {
     "duration": 0.009838,
     "end_time": "2022-09-14T17:04:33.037880",
     "exception": false,
     "start_time": "2022-09-14T17:04:33.028042",
     "status": "completed"
    },
    "tags": []
   },
   "source": [
    "## Save best partitions per k"
   ]
  },
  {
   "cell_type": "code",
   "execution_count": 31,
   "id": "28b07ee0",
   "metadata": {
    "execution": {
     "iopub.execute_input": "2022-09-14T17:04:33.058227Z",
     "iopub.status.busy": "2022-09-14T17:04:33.057937Z",
     "iopub.status.idle": "2022-09-14T17:04:33.076410Z",
     "shell.execute_reply": "2022-09-14T17:04:33.075899Z"
    },
    "papermill": {
     "duration": 0.029903,
     "end_time": "2022-09-14T17:04:33.077709",
     "exception": false,
     "start_time": "2022-09-14T17:04:33.047806",
     "status": "completed"
    },
    "tags": []
   },
   "outputs": [
    {
     "data": {
      "text/plain": [
       "PosixPath('/opt/data/results/clustering/null_sims/consensus_clustering/best_partitions_by_k.pkl')"
      ]
     },
     "metadata": {},
     "output_type": "display_data"
    }
   ],
   "source": [
    "output_file = Path(CONSENSUS_CLUSTERING_DIR, \"best_partitions_by_k.pkl\").resolve()\n",
    "display(output_file)"
   ]
  },
  {
   "cell_type": "code",
   "execution_count": 32,
   "id": "1a314210",
   "metadata": {
    "execution": {
     "iopub.execute_input": "2022-09-14T17:04:33.098761Z",
     "iopub.status.busy": "2022-09-14T17:04:33.098597Z",
     "iopub.status.idle": "2022-09-14T17:04:33.116917Z",
     "shell.execute_reply": "2022-09-14T17:04:33.116345Z"
    },
    "papermill": {
     "duration": 0.030424,
     "end_time": "2022-09-14T17:04:33.118318",
     "exception": false,
     "start_time": "2022-09-14T17:04:33.087894",
     "status": "completed"
    },
    "tags": []
   },
   "outputs": [],
   "source": [
    "best_parts.to_pickle(output_file)"
   ]
  },
  {
   "cell_type": "markdown",
   "id": "9bc2f328",
   "metadata": {
    "papermill": {
     "duration": 0.010144,
     "end_time": "2022-09-14T17:04:33.138936",
     "exception": false,
     "start_time": "2022-09-14T17:04:33.128792",
     "status": "completed"
    },
    "tags": []
   },
   "source": [
    "# Plot of selected best partitions"
   ]
  },
  {
   "cell_type": "code",
   "execution_count": 33,
   "id": "854b2bfd",
   "metadata": {
    "execution": {
     "iopub.execute_input": "2022-09-14T17:04:33.160154Z",
     "iopub.status.busy": "2022-09-14T17:04:33.159960Z",
     "iopub.status.idle": "2022-09-14T17:04:33.186135Z",
     "shell.execute_reply": "2022-09-14T17:04:33.185691Z"
    },
    "papermill": {
     "duration": 0.038197,
     "end_time": "2022-09-14T17:04:33.187405",
     "exception": false,
     "start_time": "2022-09-14T17:04:33.149208",
     "status": "completed"
    },
    "tags": []
   },
   "outputs": [
    {
     "data": {
      "text/html": [
       "<div>\n",
       "<style scoped>\n",
       "    .dataframe tbody tr th:only-of-type {\n",
       "        vertical-align: middle;\n",
       "    }\n",
       "\n",
       "    .dataframe tbody tr th {\n",
       "        vertical-align: top;\n",
       "    }\n",
       "\n",
       "    .dataframe thead th {\n",
       "        text-align: right;\n",
       "    }\n",
       "</style>\n",
       "<table border=\"1\" class=\"dataframe\">\n",
       "  <thead>\n",
       "    <tr style=\"text-align: right;\">\n",
       "      <th></th>\n",
       "      <th>k</th>\n",
       "      <th>method</th>\n",
       "      <th>partition</th>\n",
       "      <th>ari_median</th>\n",
       "      <th>selected</th>\n",
       "    </tr>\n",
       "  </thead>\n",
       "  <tbody>\n",
       "    <tr>\n",
       "      <th>0</th>\n",
       "      <td>6</td>\n",
       "      <td>scc_050</td>\n",
       "      <td>[2, 2, 2, 2, 2, 2, 2, 2, 2, 2, 2, 2, 2, 2, 2, ...</td>\n",
       "      <td>0.000946</td>\n",
       "      <td>True</td>\n",
       "    </tr>\n",
       "    <tr>\n",
       "      <th>1</th>\n",
       "      <td>2</td>\n",
       "      <td>scc_030</td>\n",
       "      <td>[0, 0, 0, 0, 0, 0, 0, 0, 0, 0, 0, 0, 0, 0, 0, ...</td>\n",
       "      <td>0.000759</td>\n",
       "      <td>True</td>\n",
       "    </tr>\n",
       "    <tr>\n",
       "      <th>2</th>\n",
       "      <td>3</td>\n",
       "      <td>scc_025</td>\n",
       "      <td>[2, 2, 2, 2, 2, 2, 2, 2, 2, 2, 2, 2, 2, 2, 2, ...</td>\n",
       "      <td>0.000726</td>\n",
       "      <td>True</td>\n",
       "    </tr>\n",
       "    <tr>\n",
       "      <th>3</th>\n",
       "      <td>7</td>\n",
       "      <td>scc_020</td>\n",
       "      <td>[1, 1, 1, 1, 1, 1, 1, 1, 1, 1, 1, 1, 1, 1, 1, ...</td>\n",
       "      <td>0.000703</td>\n",
       "      <td>True</td>\n",
       "    </tr>\n",
       "    <tr>\n",
       "      <th>4</th>\n",
       "      <td>8</td>\n",
       "      <td>scc_050</td>\n",
       "      <td>[1, 1, 2, 1, 1, 1, 1, 1, 1, 1, 1, 1, 1, 1, 1, ...</td>\n",
       "      <td>0.000605</td>\n",
       "      <td>True</td>\n",
       "    </tr>\n",
       "  </tbody>\n",
       "</table>\n",
       "</div>"
      ],
      "text/plain": [
       "   k   method                                          partition  ari_median  \\\n",
       "0  6  scc_050  [2, 2, 2, 2, 2, 2, 2, 2, 2, 2, 2, 2, 2, 2, 2, ...    0.000946   \n",
       "1  2  scc_030  [0, 0, 0, 0, 0, 0, 0, 0, 0, 0, 0, 0, 0, 0, 0, ...    0.000759   \n",
       "2  3  scc_025  [2, 2, 2, 2, 2, 2, 2, 2, 2, 2, 2, 2, 2, 2, 2, ...    0.000726   \n",
       "3  7  scc_020  [1, 1, 1, 1, 1, 1, 1, 1, 1, 1, 1, 1, 1, 1, 1, ...    0.000703   \n",
       "4  8  scc_050  [1, 1, 2, 1, 1, 1, 1, 1, 1, 1, 1, 1, 1, 1, 1, ...    0.000605   \n",
       "\n",
       "   selected  \n",
       "0      True  \n",
       "1      True  \n",
       "2      True  \n",
       "3      True  \n",
       "4      True  "
      ]
     },
     "metadata": {},
     "output_type": "display_data"
    }
   ],
   "source": [
    "plot_data = best_parts.reset_index()\n",
    "display(plot_data.head(5))"
   ]
  },
  {
   "cell_type": "code",
   "execution_count": 34,
   "id": "1ee1a588",
   "metadata": {
    "execution": {
     "iopub.execute_input": "2022-09-14T17:04:33.208374Z",
     "iopub.status.busy": "2022-09-14T17:04:33.208089Z",
     "iopub.status.idle": "2022-09-14T17:04:35.146722Z",
     "shell.execute_reply": "2022-09-14T17:04:35.146049Z"
    },
    "papermill": {
     "duration": 1.950713,
     "end_time": "2022-09-14T17:04:35.148270",
     "exception": false,
     "start_time": "2022-09-14T17:04:33.197557",
     "status": "completed"
    },
    "tags": []
   },
   "outputs": [
    {
     "data": {
      "image/png": "[encoded data removed]",
      "text/plain": [
       "<Figure size 864x432 with 1 Axes>"
      ]
     },
     "metadata": {},
     "output_type": "display_data"
    }
   ],
   "source": [
    "with sns.plotting_context(\"talk\", font_scale=0.75), sns.axes_style(\n",
    "    \"whitegrid\", {\"grid.linestyle\": \"--\"}\n",
    "), sns.color_palette(\"muted\"):\n",
    "    current_palette = iter(sns.color_palette())\n",
    "\n",
    "    fig, ax = plt.subplots(figsize=(12, 6))\n",
    "    ax = sns.pointplot(\n",
    "        data=plot_data, x=\"k\", y=_measure_col, color=next(current_palette)\n",
    "    )\n",
    "    ax.axhline(\n",
    "        best_threshold,\n",
    "        ls=\"--\",\n",
    "        color=next(current_palette),\n",
    "        label=best_threshold_description,\n",
    "    )\n",
    "    ax.set_ylabel(f\"Agreement with ensemble\\n({_selected_stat} {_selected_measure})\")\n",
    "    ax.set_xlabel(\"Number of clusters ($k$)\")\n",
    "    ax.set_xticklabels(ax.get_xticklabels(), rotation=45)\n",
    "    plt.legend()\n",
    "    plt.grid(True)\n",
    "    plt.tight_layout()"
   ]
  },
  {
   "cell_type": "markdown",
   "id": "b9b3ca3a",
   "metadata": {
    "papermill": {
     "duration": 0.010651,
     "end_time": "2022-09-14T17:04:35.169984",
     "exception": false,
     "start_time": "2022-09-14T17:04:35.159333",
     "status": "completed"
    },
    "tags": []
   },
   "source": [
    "The horizontal line in the plot is the median of the average agreement value; partitions above that line are marked as selected for downstream analysis"
   ]
  },
  {
   "cell_type": "code",
   "execution_count": 35,
   "id": "dfae640f",
   "metadata": {
    "execution": {
     "iopub.execute_input": "2022-09-14T17:04:35.192762Z",
     "iopub.status.busy": "2022-09-14T17:04:35.192541Z",
     "iopub.status.idle": "2022-09-14T17:04:35.229579Z",
     "shell.execute_reply": "2022-09-14T17:04:35.229009Z"
    },
    "papermill": {
     "duration": 0.049853,
     "end_time": "2022-09-14T17:04:35.230779",
     "exception": false,
     "start_time": "2022-09-14T17:04:35.180926",
     "status": "completed"
    },
    "tags": []
   },
   "outputs": [
    {
     "data": {
      "text/html": [
       "<div>\n",
       "<style scoped>\n",
       "    .dataframe tbody tr th:only-of-type {\n",
       "        vertical-align: middle;\n",
       "    }\n",
       "\n",
       "    .dataframe tbody tr th {\n",
       "        vertical-align: top;\n",
       "    }\n",
       "\n",
       "    .dataframe thead th {\n",
       "        text-align: right;\n",
       "    }\n",
       "</style>\n",
       "<table border=\"1\" class=\"dataframe\">\n",
       "  <thead>\n",
       "    <tr style=\"text-align: right;\">\n",
       "      <th></th>\n",
       "      <th>k</th>\n",
       "      <th>method</th>\n",
       "      <th>partition</th>\n",
       "      <th>ari_median</th>\n",
       "      <th>selected</th>\n",
       "    </tr>\n",
       "  </thead>\n",
       "  <tbody>\n",
       "    <tr>\n",
       "      <th>1</th>\n",
       "      <td>2</td>\n",
       "      <td>scc_030</td>\n",
       "      <td>[0, 0, 0, 0, 0, 0, 0, 0, 0, 0, 0, 0, 0, 0, 0, ...</td>\n",
       "      <td>0.000759</td>\n",
       "      <td>True</td>\n",
       "    </tr>\n",
       "    <tr>\n",
       "      <th>2</th>\n",
       "      <td>3</td>\n",
       "      <td>scc_025</td>\n",
       "      <td>[2, 2, 2, 2, 2, 2, 2, 2, 2, 2, 2, 2, 2, 2, 2, ...</td>\n",
       "      <td>0.000726</td>\n",
       "      <td>True</td>\n",
       "    </tr>\n",
       "    <tr>\n",
       "      <th>0</th>\n",
       "      <td>6</td>\n",
       "      <td>scc_050</td>\n",
       "      <td>[2, 2, 2, 2, 2, 2, 2, 2, 2, 2, 2, 2, 2, 2, 2, ...</td>\n",
       "      <td>0.000946</td>\n",
       "      <td>True</td>\n",
       "    </tr>\n",
       "    <tr>\n",
       "      <th>3</th>\n",
       "      <td>7</td>\n",
       "      <td>scc_020</td>\n",
       "      <td>[1, 1, 1, 1, 1, 1, 1, 1, 1, 1, 1, 1, 1, 1, 1, ...</td>\n",
       "      <td>0.000703</td>\n",
       "      <td>True</td>\n",
       "    </tr>\n",
       "    <tr>\n",
       "      <th>4</th>\n",
       "      <td>8</td>\n",
       "      <td>scc_050</td>\n",
       "      <td>[1, 1, 2, 1, 1, 1, 1, 1, 1, 1, 1, 1, 1, 1, 1, ...</td>\n",
       "      <td>0.000605</td>\n",
       "      <td>True</td>\n",
       "    </tr>\n",
       "    <tr>\n",
       "      <th>13</th>\n",
       "      <td>13</td>\n",
       "      <td>scc_020</td>\n",
       "      <td>[1, 1, 1, 2, 2, 1, 1, 1, 1, 1, 1, 1, 1, 1, 1, ...</td>\n",
       "      <td>0.000512</td>\n",
       "      <td>True</td>\n",
       "    </tr>\n",
       "    <tr>\n",
       "      <th>9</th>\n",
       "      <td>20</td>\n",
       "      <td>scc_025</td>\n",
       "      <td>[0, 0, 0, 9, 9, 0, 0, 0, 0, 0, 0, 0, 0, 0, 0, ...</td>\n",
       "      <td>0.000521</td>\n",
       "      <td>True</td>\n",
       "    </tr>\n",
       "    <tr>\n",
       "      <th>6</th>\n",
       "      <td>31</td>\n",
       "      <td>scc_050</td>\n",
       "      <td>[21, 21, 18, 21, 21, 21, 21, 21, 21, 21, 21, 2...</td>\n",
       "      <td>0.000549</td>\n",
       "      <td>True</td>\n",
       "    </tr>\n",
       "    <tr>\n",
       "      <th>10</th>\n",
       "      <td>32</td>\n",
       "      <td>scc_050</td>\n",
       "      <td>[17, 17, 26, 17, 17, 17, 17, 17, 17, 17, 17, 1...</td>\n",
       "      <td>0.000519</td>\n",
       "      <td>True</td>\n",
       "    </tr>\n",
       "    <tr>\n",
       "      <th>7</th>\n",
       "      <td>33</td>\n",
       "      <td>scc_050</td>\n",
       "      <td>[11, 11, 24, 11, 11, 11, 11, 11, 11, 11, 11, 1...</td>\n",
       "      <td>0.000540</td>\n",
       "      <td>True</td>\n",
       "    </tr>\n",
       "    <tr>\n",
       "      <th>11</th>\n",
       "      <td>34</td>\n",
       "      <td>scc_050</td>\n",
       "      <td>[33, 33, 18, 33, 33, 33, 33, 33, 33, 33, 33, 3...</td>\n",
       "      <td>0.000516</td>\n",
       "      <td>True</td>\n",
       "    </tr>\n",
       "    <tr>\n",
       "      <th>8</th>\n",
       "      <td>36</td>\n",
       "      <td>scc_050</td>\n",
       "      <td>[28, 28, 13, 28, 28, 28, 28, 28, 28, 28, 28, 2...</td>\n",
       "      <td>0.000531</td>\n",
       "      <td>True</td>\n",
       "    </tr>\n",
       "    <tr>\n",
       "      <th>5</th>\n",
       "      <td>45</td>\n",
       "      <td>scc_025</td>\n",
       "      <td>[27, 27, 11, 27, 27, 27, 27, 27, 27, 27, 27, 2...</td>\n",
       "      <td>0.000553</td>\n",
       "      <td>True</td>\n",
       "    </tr>\n",
       "    <tr>\n",
       "      <th>12</th>\n",
       "      <td>46</td>\n",
       "      <td>scc_050</td>\n",
       "      <td>[8, 8, 30, 8, 8, 8, 8, 8, 8, 8, 8, 8, 8, 8, 8,...</td>\n",
       "      <td>0.000513</td>\n",
       "      <td>True</td>\n",
       "    </tr>\n",
       "    <tr>\n",
       "      <th>14</th>\n",
       "      <td>49</td>\n",
       "      <td>scc_025</td>\n",
       "      <td>[17, 17, 42, 17, 17, 17, 17, 17, 17, 17, 17, 1...</td>\n",
       "      <td>0.000499</td>\n",
       "      <td>True</td>\n",
       "    </tr>\n",
       "  </tbody>\n",
       "</table>\n",
       "</div>"
      ],
      "text/plain": [
       "     k   method                                          partition  \\\n",
       "1    2  scc_030  [0, 0, 0, 0, 0, 0, 0, 0, 0, 0, 0, 0, 0, 0, 0, ...   \n",
       "2    3  scc_025  [2, 2, 2, 2, 2, 2, 2, 2, 2, 2, 2, 2, 2, 2, 2, ...   \n",
       "0    6  scc_050  [2, 2, 2, 2, 2, 2, 2, 2, 2, 2, 2, 2, 2, 2, 2, ...   \n",
       "3    7  scc_020  [1, 1, 1, 1, 1, 1, 1, 1, 1, 1, 1, 1, 1, 1, 1, ...   \n",
       "4    8  scc_050  [1, 1, 2, 1, 1, 1, 1, 1, 1, 1, 1, 1, 1, 1, 1, ...   \n",
       "13  13  scc_020  [1, 1, 1, 2, 2, 1, 1, 1, 1, 1, 1, 1, 1, 1, 1, ...   \n",
       "9   20  scc_025  [0, 0, 0, 9, 9, 0, 0, 0, 0, 0, 0, 0, 0, 0, 0, ...   \n",
       "6   31  scc_050  [21, 21, 18, 21, 21, 21, 21, 21, 21, 21, 21, 2...   \n",
       "10  32  scc_050  [17, 17, 26, 17, 17, 17, 17, 17, 17, 17, 17, 1...   \n",
       "7   33  scc_050  [11, 11, 24, 11, 11, 11, 11, 11, 11, 11, 11, 1...   \n",
       "11  34  scc_050  [33, 33, 18, 33, 33, 33, 33, 33, 33, 33, 33, 3...   \n",
       "8   36  scc_050  [28, 28, 13, 28, 28, 28, 28, 28, 28, 28, 28, 2...   \n",
       "5   45  scc_025  [27, 27, 11, 27, 27, 27, 27, 27, 27, 27, 27, 2...   \n",
       "12  46  scc_050  [8, 8, 30, 8, 8, 8, 8, 8, 8, 8, 8, 8, 8, 8, 8,...   \n",
       "14  49  scc_025  [17, 17, 42, 17, 17, 17, 17, 17, 17, 17, 17, 1...   \n",
       "\n",
       "    ari_median  selected  \n",
       "1     0.000759      True  \n",
       "2     0.000726      True  \n",
       "0     0.000946      True  \n",
       "3     0.000703      True  \n",
       "4     0.000605      True  \n",
       "13    0.000512      True  \n",
       "9     0.000521      True  \n",
       "6     0.000549      True  \n",
       "10    0.000519      True  \n",
       "7     0.000540      True  \n",
       "11    0.000516      True  \n",
       "8     0.000531      True  \n",
       "5     0.000553      True  \n",
       "12    0.000513      True  \n",
       "14    0.000499      True  "
      ]
     },
     "execution_count": 35,
     "metadata": {},
     "output_type": "execute_result"
    }
   ],
   "source": [
    "# this list shows the selected final partitions, and which methods achieved the highest agreement\n",
    "plot_data[plot_data[\"selected\"]].sort_values(\"k\")"
   ]
  },
  {
   "cell_type": "markdown",
   "id": "bbad5687",
   "metadata": {
    "papermill": {
     "duration": 0.011657,
     "end_time": "2022-09-14T17:04:35.254691",
     "exception": false,
     "start_time": "2022-09-14T17:04:35.243034",
     "status": "completed"
    },
    "tags": []
   },
   "source": [
    "From the two evidence accumulation approaches (EAC) we are using, the spectral clustering based one does it better for almost all `k` values, whereas the hierarchical clustering based approach seems to do a little bit better for lower `k`."
   ]
  },
  {
   "cell_type": "code",
   "execution_count": null,
   "id": "fa99f669",
   "metadata": {
    "papermill": {
     "duration": 0.011784,
     "end_time": "2022-09-14T17:04:35.278658",
     "exception": false,
     "start_time": "2022-09-14T17:04:35.266874",
     "status": "completed"
    },
    "tags": []
   },
   "outputs": [],
   "source": []
  }
 ],
 "metadata": {
  "jupytext": {
   "cell_metadata_filter": "all,-execution,-papermill,-trusted",
   "formats": "ipynb,py//py:percent"
  },
  "kernelspec": {
   "display_name": "Python 3 (ipykernel)",
   "language": "python",
   "name": "python3"
  },
  "language_info": {
   "codemirror_mode": {
    "name": "ipython",
    "version": 3
   },
   "file_extension": ".py",
   "mimetype": "text/x-python",
   "name": "python",
   "nbconvert_exporter": "python",
   "pygments_lexer": "ipython3",
   "version": "3.8.13"
  },
  "papermill": {
   "default_parameters": {},
   "duration": 10.275699,
   "end_time": "2022-09-14T17:04:35.609996",
   "environment_variables": {},
   "exception": null,
   "input_path": "nbs/13.1_cluster_analysis_null/20_02-get_best_partitions.ipynb",
   "output_path": "nbs/13.1_cluster_analysis_null/20_02-get_best_partitions.run.ipynb",
   "parameters": {},
   "start_time": "2022-09-14T17:04:25.334297",
   "version": "2.2.2"
  },
  "toc-autonumbering": true,
  "toc-showcode": false,
  "toc-showmarkdowntxt": false,
  "toc-showtags": false
 },
 "nbformat": 4,
 "nbformat_minor": 5
}
