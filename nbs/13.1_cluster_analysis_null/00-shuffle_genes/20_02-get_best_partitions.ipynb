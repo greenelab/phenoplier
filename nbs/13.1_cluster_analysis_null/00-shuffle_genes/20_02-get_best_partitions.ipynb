{
 "cells": [
  {
   "cell_type": "markdown",
   "id": "d323644a",
   "metadata": {
    "papermill": {
     "duration": 0.00986,
     "end_time": "2022-11-27T03:20:07.297758",
     "exception": false,
     "start_time": "2022-11-27T03:20:07.287898",
     "status": "completed"
    },
    "tags": []
   },
   "source": [
    "# Description"
   ]
  },
  {
   "cell_type": "markdown",
   "id": "edf982cc",
   "metadata": {
    "papermill": {
     "duration": 0.008763,
     "end_time": "2022-11-27T03:20:07.316432",
     "exception": false,
     "start_time": "2022-11-27T03:20:07.307669",
     "status": "completed"
    },
    "tags": []
   },
   "source": [
    "It analyzes how consensus partitions generated before agree with the ensemble, and selects the best ones for downstream analyses."
   ]
  },
  {
   "cell_type": "markdown",
   "id": "072e1ea6",
   "metadata": {
    "papermill": {
     "duration": 0.008999,
     "end_time": "2022-11-27T03:20:07.334232",
     "exception": false,
     "start_time": "2022-11-27T03:20:07.325233",
     "status": "completed"
    },
    "tags": []
   },
   "source": [
    "# Modules loading"
   ]
  },
  {
   "cell_type": "code",
   "execution_count": 1,
   "id": "98449f60",
   "metadata": {
    "execution": {
     "iopub.execute_input": "2022-11-27T03:20:07.352690Z",
     "iopub.status.busy": "2022-11-27T03:20:07.352511Z",
     "iopub.status.idle": "2022-11-27T03:20:07.371600Z",
     "shell.execute_reply": "2022-11-27T03:20:07.371091Z"
    },
    "papermill": {
     "duration": 0.029902,
     "end_time": "2022-11-27T03:20:07.372959",
     "exception": false,
     "start_time": "2022-11-27T03:20:07.343057",
     "status": "completed"
    },
    "tags": []
   },
   "outputs": [],
   "source": [
    "%load_ext autoreload\n",
    "%autoreload 2"
   ]
  },
  {
   "cell_type": "code",
   "execution_count": 2,
   "id": "cb11ab4f",
   "metadata": {
    "execution": {
     "iopub.execute_input": "2022-11-27T03:20:07.391813Z",
     "iopub.status.busy": "2022-11-27T03:20:07.391663Z",
     "iopub.status.idle": "2022-11-27T03:20:07.868266Z",
     "shell.execute_reply": "2022-11-27T03:20:07.867854Z"
    },
    "papermill": {
     "duration": 0.487568,
     "end_time": "2022-11-27T03:20:07.869478",
     "exception": false,
     "start_time": "2022-11-27T03:20:07.381910",
     "status": "completed"
    },
    "tags": []
   },
   "outputs": [],
   "source": [
    "from pathlib import Path\n",
    "from IPython.display import display\n",
    "\n",
    "import pandas as pd\n",
    "import matplotlib.pyplot as plt\n",
    "import seaborn as sns\n",
    "\n",
    "import conf"
   ]
  },
  {
   "cell_type": "markdown",
   "id": "0b2fcc60",
   "metadata": {
    "papermill": {
     "duration": 0.009541,
     "end_time": "2022-11-27T03:20:07.885591",
     "exception": false,
     "start_time": "2022-11-27T03:20:07.876050",
     "status": "completed"
    },
    "tags": []
   },
   "source": [
    "# Load consensus clustering results"
   ]
  },
  {
   "cell_type": "code",
   "execution_count": 3,
   "id": "1cc9f4db-5c4f-4485-a9ff-17f270cdbfc5",
   "metadata": {
    "execution": {
     "iopub.execute_input": "2022-11-27T03:20:07.905639Z",
     "iopub.status.busy": "2022-11-27T03:20:07.905541Z",
     "iopub.status.idle": "2022-11-27T03:20:07.920544Z",
     "shell.execute_reply": "2022-11-27T03:20:07.920039Z"
    },
    "papermill": {
     "duration": 0.027454,
     "end_time": "2022-11-27T03:20:07.921944",
     "exception": false,
     "start_time": "2022-11-27T03:20:07.894490",
     "status": "completed"
    },
    "tags": []
   },
   "outputs": [],
   "source": [
    "NULL_DIR = conf.RESULTS[\"CLUSTERING_NULL_DIR\"] / \"shuffle_genes\""
   ]
  },
  {
   "cell_type": "code",
   "execution_count": 4,
   "id": "2fb67b26",
   "metadata": {
    "execution": {
     "iopub.execute_input": "2022-11-27T03:20:07.942020Z",
     "iopub.status.busy": "2022-11-27T03:20:07.941859Z",
     "iopub.status.idle": "2022-11-27T03:20:07.963228Z",
     "shell.execute_reply": "2022-11-27T03:20:07.962728Z"
    },
    "papermill": {
     "duration": 0.032963,
     "end_time": "2022-11-27T03:20:07.964674",
     "exception": false,
     "start_time": "2022-11-27T03:20:07.931711",
     "status": "completed"
    },
    "tags": []
   },
   "outputs": [
    {
     "data": {
      "text/plain": [
       "PosixPath('/opt/data/results/clustering/null_sims/shuffle_genes/consensus_clustering')"
      ]
     },
     "metadata": {},
     "output_type": "display_data"
    }
   ],
   "source": [
    "CONSENSUS_CLUSTERING_DIR = Path(NULL_DIR, \"consensus_clustering\").resolve()\n",
    "\n",
    "display(CONSENSUS_CLUSTERING_DIR)"
   ]
  },
  {
   "cell_type": "code",
   "execution_count": 5,
   "id": "74226d69",
   "metadata": {
    "execution": {
     "iopub.execute_input": "2022-11-27T03:20:07.984893Z",
     "iopub.status.busy": "2022-11-27T03:20:07.984683Z",
     "iopub.status.idle": "2022-11-27T03:20:08.003647Z",
     "shell.execute_reply": "2022-11-27T03:20:08.003156Z"
    },
    "papermill": {
     "duration": 0.030553,
     "end_time": "2022-11-27T03:20:08.005047",
     "exception": false,
     "start_time": "2022-11-27T03:20:07.974494",
     "status": "completed"
    },
    "tags": []
   },
   "outputs": [
    {
     "data": {
      "text/plain": [
       "PosixPath('/opt/data/results/clustering/null_sims/shuffle_genes/consensus_clustering/consensus_clustering_runs.pkl')"
      ]
     },
     "metadata": {},
     "output_type": "display_data"
    }
   ],
   "source": [
    "input_file = Path(CONSENSUS_CLUSTERING_DIR, \"consensus_clustering_runs.pkl\").resolve()\n",
    "display(input_file)"
   ]
  },
  {
   "cell_type": "code",
   "execution_count": 6,
   "id": "1b601aa2",
   "metadata": {
    "execution": {
     "iopub.execute_input": "2022-11-27T03:20:08.025665Z",
     "iopub.status.busy": "2022-11-27T03:20:08.025353Z",
     "iopub.status.idle": "2022-11-27T03:20:08.052637Z",
     "shell.execute_reply": "2022-11-27T03:20:08.052114Z"
    },
    "papermill": {
     "duration": 0.038932,
     "end_time": "2022-11-27T03:20:08.054092",
     "exception": false,
     "start_time": "2022-11-27T03:20:08.015160",
     "status": "completed"
    },
    "tags": []
   },
   "outputs": [],
   "source": [
    "consensus_clustering_results = pd.read_pickle(input_file)"
   ]
  },
  {
   "cell_type": "code",
   "execution_count": 7,
   "id": "f13715cf",
   "metadata": {
    "execution": {
     "iopub.execute_input": "2022-11-27T03:20:08.073301Z",
     "iopub.status.busy": "2022-11-27T03:20:08.073124Z",
     "iopub.status.idle": "2022-11-27T03:20:08.092914Z",
     "shell.execute_reply": "2022-11-27T03:20:08.092471Z"
    },
    "papermill": {
     "duration": 0.030766,
     "end_time": "2022-11-27T03:20:08.094179",
     "exception": false,
     "start_time": "2022-11-27T03:20:08.063413",
     "status": "completed"
    },
    "tags": []
   },
   "outputs": [
    {
     "data": {
      "text/plain": [
       "(413, 12)"
      ]
     },
     "execution_count": 7,
     "metadata": {},
     "output_type": "execute_result"
    }
   ],
   "source": [
    "consensus_clustering_results.shape"
   ]
  },
  {
   "cell_type": "code",
   "execution_count": 8,
   "id": "85e33247",
   "metadata": {
    "execution": {
     "iopub.execute_input": "2022-11-27T03:20:08.113541Z",
     "iopub.status.busy": "2022-11-27T03:20:08.113383Z",
     "iopub.status.idle": "2022-11-27T03:20:08.151005Z",
     "shell.execute_reply": "2022-11-27T03:20:08.150547Z"
    },
    "papermill": {
     "duration": 0.048673,
     "end_time": "2022-11-27T03:20:08.152294",
     "exception": false,
     "start_time": "2022-11-27T03:20:08.103621",
     "status": "completed"
    },
    "tags": []
   },
   "outputs": [
    {
     "data": {
      "text/html": [
       "<div>\n",
       "<style scoped>\n",
       "    .dataframe tbody tr th:only-of-type {\n",
       "        vertical-align: middle;\n",
       "    }\n",
       "\n",
       "    .dataframe tbody tr th {\n",
       "        vertical-align: top;\n",
       "    }\n",
       "\n",
       "    .dataframe thead th {\n",
       "        text-align: right;\n",
       "    }\n",
       "</style>\n",
       "<table border=\"1\" class=\"dataframe\">\n",
       "  <thead>\n",
       "    <tr style=\"text-align: right;\">\n",
       "      <th></th>\n",
       "      <th>method</th>\n",
       "      <th>partition</th>\n",
       "      <th>k</th>\n",
       "      <th>ari_mean</th>\n",
       "      <th>ari_median</th>\n",
       "      <th>ari_std</th>\n",
       "      <th>ami_mean</th>\n",
       "      <th>ami_median</th>\n",
       "      <th>ami_std</th>\n",
       "      <th>nmi_mean</th>\n",
       "      <th>nmi_median</th>\n",
       "      <th>nmi_std</th>\n",
       "    </tr>\n",
       "  </thead>\n",
       "  <tbody>\n",
       "    <tr>\n",
       "      <th>0</th>\n",
       "      <td>eac_single_coassoc_matrix</td>\n",
       "      <td>[0, 0, 0, 0, 0, 0, 0, 0, 0, 0, 0, 0, 0, 0, 0, ...</td>\n",
       "      <td>2</td>\n",
       "      <td>0.011734</td>\n",
       "      <td>0.000020</td>\n",
       "      <td>0.061126</td>\n",
       "      <td>0.012274</td>\n",
       "      <td>0.000044</td>\n",
       "      <td>0.061146</td>\n",
       "      <td>0.012796</td>\n",
       "      <td>0.000577</td>\n",
       "      <td>0.061114</td>\n",
       "    </tr>\n",
       "    <tr>\n",
       "      <th>1</th>\n",
       "      <td>eac_single_coassoc_matrix</td>\n",
       "      <td>[0, 0, 0, 0, 0, 0, 0, 0, 0, 0, 0, 0, 0, 0, 0, ...</td>\n",
       "      <td>3</td>\n",
       "      <td>0.019360</td>\n",
       "      <td>0.000021</td>\n",
       "      <td>0.082619</td>\n",
       "      <td>0.020361</td>\n",
       "      <td>0.000059</td>\n",
       "      <td>0.082742</td>\n",
       "      <td>0.021393</td>\n",
       "      <td>0.001123</td>\n",
       "      <td>0.082651</td>\n",
       "    </tr>\n",
       "    <tr>\n",
       "      <th>2</th>\n",
       "      <td>eac_single_coassoc_matrix</td>\n",
       "      <td>[0, 0, 0, 0, 0, 0, 0, 0, 0, 0, 0, 0, 0, 0, 0, ...</td>\n",
       "      <td>4</td>\n",
       "      <td>0.024839</td>\n",
       "      <td>0.000017</td>\n",
       "      <td>0.093988</td>\n",
       "      <td>0.026178</td>\n",
       "      <td>0.000070</td>\n",
       "      <td>0.094141</td>\n",
       "      <td>0.027706</td>\n",
       "      <td>0.001662</td>\n",
       "      <td>0.093979</td>\n",
       "    </tr>\n",
       "    <tr>\n",
       "      <th>3</th>\n",
       "      <td>eac_single_coassoc_matrix</td>\n",
       "      <td>[0, 0, 0, 0, 0, 0, 0, 0, 0, 0, 0, 0, 0, 0, 0, ...</td>\n",
       "      <td>5</td>\n",
       "      <td>0.085062</td>\n",
       "      <td>0.000115</td>\n",
       "      <td>0.244193</td>\n",
       "      <td>0.090376</td>\n",
       "      <td>0.009544</td>\n",
       "      <td>0.232588</td>\n",
       "      <td>0.093898</td>\n",
       "      <td>0.012819</td>\n",
       "      <td>0.231762</td>\n",
       "    </tr>\n",
       "    <tr>\n",
       "      <th>4</th>\n",
       "      <td>eac_single_coassoc_matrix</td>\n",
       "      <td>[0, 0, 0, 0, 0, 0, 0, 0, 0, 0, 0, 0, 0, 0, 0, ...</td>\n",
       "      <td>6</td>\n",
       "      <td>0.085796</td>\n",
       "      <td>0.000142</td>\n",
       "      <td>0.239327</td>\n",
       "      <td>0.090903</td>\n",
       "      <td>0.009718</td>\n",
       "      <td>0.225980</td>\n",
       "      <td>0.094851</td>\n",
       "      <td>0.013543</td>\n",
       "      <td>0.225064</td>\n",
       "    </tr>\n",
       "  </tbody>\n",
       "</table>\n",
       "</div>"
      ],
      "text/plain": [
       "                      method  \\\n",
       "0  eac_single_coassoc_matrix   \n",
       "1  eac_single_coassoc_matrix   \n",
       "2  eac_single_coassoc_matrix   \n",
       "3  eac_single_coassoc_matrix   \n",
       "4  eac_single_coassoc_matrix   \n",
       "\n",
       "                                           partition  k  ari_mean  ari_median  \\\n",
       "0  [0, 0, 0, 0, 0, 0, 0, 0, 0, 0, 0, 0, 0, 0, 0, ...  2  0.011734    0.000020   \n",
       "1  [0, 0, 0, 0, 0, 0, 0, 0, 0, 0, 0, 0, 0, 0, 0, ...  3  0.019360    0.000021   \n",
       "2  [0, 0, 0, 0, 0, 0, 0, 0, 0, 0, 0, 0, 0, 0, 0, ...  4  0.024839    0.000017   \n",
       "3  [0, 0, 0, 0, 0, 0, 0, 0, 0, 0, 0, 0, 0, 0, 0, ...  5  0.085062    0.000115   \n",
       "4  [0, 0, 0, 0, 0, 0, 0, 0, 0, 0, 0, 0, 0, 0, 0, ...  6  0.085796    0.000142   \n",
       "\n",
       "    ari_std  ami_mean  ami_median   ami_std  nmi_mean  nmi_median   nmi_std  \n",
       "0  0.061126  0.012274    0.000044  0.061146  0.012796    0.000577  0.061114  \n",
       "1  0.082619  0.020361    0.000059  0.082742  0.021393    0.001123  0.082651  \n",
       "2  0.093988  0.026178    0.000070  0.094141  0.027706    0.001662  0.093979  \n",
       "3  0.244193  0.090376    0.009544  0.232588  0.093898    0.012819  0.231762  \n",
       "4  0.239327  0.090903    0.009718  0.225980  0.094851    0.013543  0.225064  "
      ]
     },
     "execution_count": 8,
     "metadata": {},
     "output_type": "execute_result"
    }
   ],
   "source": [
    "consensus_clustering_results.head()"
   ]
  },
  {
   "cell_type": "markdown",
   "id": "d0bb472d",
   "metadata": {
    "papermill": {
     "duration": 0.009299,
     "end_time": "2022-11-27T03:20:08.171303",
     "exception": false,
     "start_time": "2022-11-27T03:20:08.162004",
     "status": "completed"
    },
    "tags": []
   },
   "source": [
    "# Explore clustering indexes"
   ]
  },
  {
   "cell_type": "code",
   "execution_count": 9,
   "id": "bc6cc016",
   "metadata": {
    "execution": {
     "iopub.execute_input": "2022-11-27T03:20:08.216521Z",
     "iopub.status.busy": "2022-11-27T03:20:08.216342Z",
     "iopub.status.idle": "2022-11-27T03:20:08.300919Z",
     "shell.execute_reply": "2022-11-27T03:20:08.300520Z"
    },
    "papermill": {
     "duration": 0.120688,
     "end_time": "2022-11-27T03:20:08.301805",
     "exception": false,
     "start_time": "2022-11-27T03:20:08.181117",
     "status": "completed"
    },
    "tags": []
   },
   "outputs": [],
   "source": [
    "_col = \"ari_mean\"\n",
    "\n",
    "_best_parts_by_ari = (\n",
    "    consensus_clustering_results.groupby(\"k\")\n",
    "    .apply(lambda x: x.sort_values(_col, ascending=False).head(1))\n",
    "    .sort_values(_col, ascending=False)[[\"method\", \"k\", _col]]\n",
    "    .rename(columns={_col: \"index_value\"})\n",
    ")"
   ]
  },
  {
   "cell_type": "code",
   "execution_count": 10,
   "id": "964a75d6",
   "metadata": {
    "execution": {
     "iopub.execute_input": "2022-11-27T03:20:08.312905Z",
     "iopub.status.busy": "2022-11-27T03:20:08.312805Z",
     "iopub.status.idle": "2022-11-27T03:20:08.351145Z",
     "shell.execute_reply": "2022-11-27T03:20:08.350763Z"
    },
    "papermill": {
     "duration": 0.044899,
     "end_time": "2022-11-27T03:20:08.351924",
     "exception": false,
     "start_time": "2022-11-27T03:20:08.307025",
     "status": "completed"
    },
    "tags": []
   },
   "outputs": [],
   "source": [
    "_col = \"ami_mean\"\n",
    "\n",
    "_best_parts_by_ami = (\n",
    "    consensus_clustering_results.groupby(\"k\")\n",
    "    .apply(lambda x: x.sort_values(_col, ascending=False).head(1))\n",
    "    .sort_values(_col, ascending=False)[[\"method\", \"k\", _col]]\n",
    "    .rename(columns={_col: \"index_value\"})\n",
    ")"
   ]
  },
  {
   "cell_type": "code",
   "execution_count": 11,
   "id": "66d3c71a",
   "metadata": {
    "execution": {
     "iopub.execute_input": "2022-11-27T03:20:08.362787Z",
     "iopub.status.busy": "2022-11-27T03:20:08.362686Z",
     "iopub.status.idle": "2022-11-27T03:20:08.399906Z",
     "shell.execute_reply": "2022-11-27T03:20:08.399539Z"
    },
    "papermill": {
     "duration": 0.043635,
     "end_time": "2022-11-27T03:20:08.400848",
     "exception": false,
     "start_time": "2022-11-27T03:20:08.357213",
     "status": "completed"
    },
    "tags": []
   },
   "outputs": [],
   "source": [
    "_col = \"nmi_mean\"\n",
    "\n",
    "_best_parts_by_nmi = (\n",
    "    consensus_clustering_results.groupby(\"k\")\n",
    "    .apply(lambda x: x.sort_values(_col, ascending=False).head(1))\n",
    "    .sort_values(_col, ascending=False)[[\"method\", \"k\", _col]]\n",
    "    .rename(columns={_col: \"index_value\"})\n",
    ")"
   ]
  },
  {
   "cell_type": "code",
   "execution_count": 12,
   "id": "eb927a75",
   "metadata": {
    "execution": {
     "iopub.execute_input": "2022-11-27T03:20:08.411733Z",
     "iopub.status.busy": "2022-11-27T03:20:08.411634Z",
     "iopub.status.idle": "2022-11-27T03:20:08.423477Z",
     "shell.execute_reply": "2022-11-27T03:20:08.423132Z"
    },
    "papermill": {
     "duration": 0.018022,
     "end_time": "2022-11-27T03:20:08.424176",
     "exception": false,
     "start_time": "2022-11-27T03:20:08.406154",
     "status": "completed"
    },
    "tags": []
   },
   "outputs": [
    {
     "data": {
      "text/html": [
       "<svg  width=\"165\" height=\"55\"><rect x=\"0\" y=\"0\" width=\"55\" height=\"55\" style=\"fill:#0173b2;stroke-width:2;stroke:rgb(255,255,255)\"/><rect x=\"55\" y=\"0\" width=\"55\" height=\"55\" style=\"fill:#de8f05;stroke-width:2;stroke:rgb(255,255,255)\"/><rect x=\"110\" y=\"0\" width=\"55\" height=\"55\" style=\"fill:#029e73;stroke-width:2;stroke:rgb(255,255,255)\"/></svg>"
      ],
      "text/plain": [
       "[(0.00392156862745098, 0.45098039215686275, 0.6980392156862745),\n",
       " (0.8705882352941177, 0.5607843137254902, 0.0196078431372549),\n",
       " (0.00784313725490196, 0.6196078431372549, 0.45098039215686275)]"
      ]
     },
     "metadata": {},
     "output_type": "display_data"
    }
   ],
   "source": [
    "_indexes_colors = sns.color_palette(\"colorblind\", 3)\n",
    "display(_indexes_colors)"
   ]
  },
  {
   "cell_type": "code",
   "execution_count": 13,
   "id": "96937023",
   "metadata": {
    "execution": {
     "iopub.execute_input": "2022-11-27T03:20:08.435334Z",
     "iopub.status.busy": "2022-11-27T03:20:08.435247Z",
     "iopub.status.idle": "2022-11-27T03:20:09.789808Z",
     "shell.execute_reply": "2022-11-27T03:20:09.789360Z"
    },
    "papermill": {
     "duration": 1.36222,
     "end_time": "2022-11-27T03:20:09.791894",
     "exception": false,
     "start_time": "2022-11-27T03:20:08.429674",
     "status": "completed"
    },
    "tags": []
   },
   "outputs": [
    {
     "data": {
      "image/png": "[encoded data removed]",
      "text/plain": [
       "<Figure size 864x432 with 1 Axes>"
      ]
     },
     "metadata": {},
     "output_type": "display_data"
    }
   ],
   "source": [
    "with sns.plotting_context(\"talk\", font_scale=0.75), sns.axes_style(\n",
    "    \"whitegrid\", {\"grid.linestyle\": \"--\"}\n",
    "):\n",
    "    fig, ax = plt.subplots(figsize=(12, 6))\n",
    "\n",
    "    ax = sns.pointplot(\n",
    "        data=_best_parts_by_ari,\n",
    "        x=\"k\",\n",
    "        y=\"index_value\",\n",
    "        color=_indexes_colors[0],\n",
    "        ci=None,\n",
    "    )\n",
    "    ax = sns.pointplot(\n",
    "        data=_best_parts_by_ami,\n",
    "        x=\"k\",\n",
    "        y=\"index_value\",\n",
    "        color=_indexes_colors[1],\n",
    "        ci=None,\n",
    "    )\n",
    "    ax = sns.pointplot(\n",
    "        data=_best_parts_by_nmi,\n",
    "        x=\"k\",\n",
    "        y=\"index_value\",\n",
    "        color=_indexes_colors[2],\n",
    "        ci=None,\n",
    "    )\n",
    "\n",
    "    ax.set_ylabel(f\"Agreement with ensemble\")\n",
    "    ax.set_xlabel(\"Number of clusters ($k$)\")\n",
    "    ax.set_xticklabels(ax.get_xticklabels(), rotation=45)\n",
    "    plt.legend(labels=[\"ARI\", \"AMI\", \"NMI\"])\n",
    "    plt.grid(True)\n",
    "    plt.tight_layout()"
   ]
  },
  {
   "cell_type": "markdown",
   "id": "0aa6a0e0",
   "metadata": {
    "papermill": {
     "duration": 0.01167,
     "end_time": "2022-11-27T03:20:09.816048",
     "exception": false,
     "start_time": "2022-11-27T03:20:09.804378",
     "status": "completed"
    },
    "tags": []
   },
   "source": [
    "AMI and NMI show the same trend for higher `k`. That's surprising. I would have expected that AMI has the same pattern as ARI, since both are adjusted-for-chance, and should not show higher values for higher `k` as it is expected for a not adjusted-for-chance index as NMI.\n",
    "\n",
    "**CONCLUSION:** I will pick ARI for the follow up analysis."
   ]
  },
  {
   "cell_type": "markdown",
   "id": "6b314bea",
   "metadata": {
    "papermill": {
     "duration": 0.01166,
     "end_time": "2022-11-27T03:20:09.839458",
     "exception": false,
     "start_time": "2022-11-27T03:20:09.827798",
     "status": "completed"
    },
    "tags": []
   },
   "source": [
    "# Explore best partition per k"
   ]
  },
  {
   "cell_type": "code",
   "execution_count": 14,
   "id": "4996defe",
   "metadata": {
    "execution": {
     "iopub.execute_input": "2022-11-27T03:20:09.863315Z",
     "iopub.status.busy": "2022-11-27T03:20:09.863225Z",
     "iopub.status.idle": "2022-11-27T03:20:09.881539Z",
     "shell.execute_reply": "2022-11-27T03:20:09.881026Z"
    },
    "papermill": {
     "duration": 0.031677,
     "end_time": "2022-11-27T03:20:09.882846",
     "exception": false,
     "start_time": "2022-11-27T03:20:09.851169",
     "status": "completed"
    },
    "tags": []
   },
   "outputs": [],
   "source": [
    "_selected_measure = \"ARI\"\n",
    "_mean_column, _median_column = \"ari_mean\", \"ari_median\""
   ]
  },
  {
   "cell_type": "code",
   "execution_count": 15,
   "id": "fc30cd3d",
   "metadata": {
    "execution": {
     "iopub.execute_input": "2022-11-27T03:20:09.906945Z",
     "iopub.status.busy": "2022-11-27T03:20:09.906786Z",
     "iopub.status.idle": "2022-11-27T03:20:10.007913Z",
     "shell.execute_reply": "2022-11-27T03:20:10.007480Z"
    },
    "papermill": {
     "duration": 0.114818,
     "end_time": "2022-11-27T03:20:10.009155",
     "exception": false,
     "start_time": "2022-11-27T03:20:09.894337",
     "status": "completed"
    },
    "tags": []
   },
   "outputs": [
    {
     "data": {
      "text/html": [
       "<div>\n",
       "<style scoped>\n",
       "    .dataframe tbody tr th:only-of-type {\n",
       "        vertical-align: middle;\n",
       "    }\n",
       "\n",
       "    .dataframe tbody tr th {\n",
       "        vertical-align: top;\n",
       "    }\n",
       "\n",
       "    .dataframe thead th {\n",
       "        text-align: right;\n",
       "    }\n",
       "</style>\n",
       "<table border=\"1\" class=\"dataframe\">\n",
       "  <thead>\n",
       "    <tr style=\"text-align: right;\">\n",
       "      <th></th>\n",
       "      <th></th>\n",
       "      <th>method</th>\n",
       "      <th>k</th>\n",
       "      <th>ari_mean</th>\n",
       "    </tr>\n",
       "    <tr>\n",
       "      <th>k</th>\n",
       "      <th></th>\n",
       "      <th></th>\n",
       "      <th></th>\n",
       "      <th></th>\n",
       "    </tr>\n",
       "  </thead>\n",
       "  <tbody>\n",
       "    <tr>\n",
       "      <th>31</th>\n",
       "      <th>324</th>\n",
       "      <td>scc_030</td>\n",
       "      <td>31</td>\n",
       "      <td>0.170038</td>\n",
       "    </tr>\n",
       "    <tr>\n",
       "      <th>30</th>\n",
       "      <th>323</th>\n",
       "      <td>scc_030</td>\n",
       "      <td>30</td>\n",
       "      <td>0.169957</td>\n",
       "    </tr>\n",
       "    <tr>\n",
       "      <th>29</th>\n",
       "      <th>322</th>\n",
       "      <td>scc_030</td>\n",
       "      <td>29</td>\n",
       "      <td>0.169943</td>\n",
       "    </tr>\n",
       "    <tr>\n",
       "      <th>32</th>\n",
       "      <th>325</th>\n",
       "      <td>scc_030</td>\n",
       "      <td>32</td>\n",
       "      <td>0.169788</td>\n",
       "    </tr>\n",
       "    <tr>\n",
       "      <th>33</th>\n",
       "      <th>149</th>\n",
       "      <td>scc_020</td>\n",
       "      <td>33</td>\n",
       "      <td>0.169496</td>\n",
       "    </tr>\n",
       "    <tr>\n",
       "      <th>28</th>\n",
       "      <th>380</th>\n",
       "      <td>scc_025</td>\n",
       "      <td>28</td>\n",
       "      <td>0.169183</td>\n",
       "    </tr>\n",
       "    <tr>\n",
       "      <th>34</th>\n",
       "      <th>386</th>\n",
       "      <td>scc_025</td>\n",
       "      <td>34</td>\n",
       "      <td>0.168832</td>\n",
       "    </tr>\n",
       "    <tr>\n",
       "      <th>27</th>\n",
       "      <th>202</th>\n",
       "      <td>scc_050</td>\n",
       "      <td>27</td>\n",
       "      <td>0.168717</td>\n",
       "    </tr>\n",
       "    <tr>\n",
       "      <th>35</th>\n",
       "      <th>328</th>\n",
       "      <td>scc_030</td>\n",
       "      <td>35</td>\n",
       "      <td>0.168371</td>\n",
       "    </tr>\n",
       "    <tr>\n",
       "      <th>36</th>\n",
       "      <th>329</th>\n",
       "      <td>scc_030</td>\n",
       "      <td>36</td>\n",
       "      <td>0.167981</td>\n",
       "    </tr>\n",
       "  </tbody>\n",
       "</table>\n",
       "</div>"
      ],
      "text/plain": [
       "         method   k  ari_mean\n",
       "k                            \n",
       "31 324  scc_030  31  0.170038\n",
       "30 323  scc_030  30  0.169957\n",
       "29 322  scc_030  29  0.169943\n",
       "32 325  scc_030  32  0.169788\n",
       "33 149  scc_020  33  0.169496\n",
       "28 380  scc_025  28  0.169183\n",
       "34 386  scc_025  34  0.168832\n",
       "27 202  scc_050  27  0.168717\n",
       "35 328  scc_030  35  0.168371\n",
       "36 329  scc_030  36  0.167981"
      ]
     },
     "metadata": {},
     "output_type": "display_data"
    }
   ],
   "source": [
    "best_parts_by_mean = (\n",
    "    consensus_clustering_results.groupby(\"k\")\n",
    "    .apply(lambda x: x.sort_values(_mean_column, ascending=False).head(1))\n",
    "    .sort_values(_mean_column, ascending=False)[[\"method\", \"k\", _mean_column]]\n",
    ")\n",
    "display(best_parts_by_mean.head(10))"
   ]
  },
  {
   "cell_type": "code",
   "execution_count": 16,
   "id": "122bb205",
   "metadata": {
    "execution": {
     "iopub.execute_input": "2022-11-27T03:20:10.032666Z",
     "iopub.status.busy": "2022-11-27T03:20:10.032566Z",
     "iopub.status.idle": "2022-11-27T03:20:10.072699Z",
     "shell.execute_reply": "2022-11-27T03:20:10.072270Z"
    },
    "papermill": {
     "duration": 0.052953,
     "end_time": "2022-11-27T03:20:10.073904",
     "exception": false,
     "start_time": "2022-11-27T03:20:10.020951",
     "status": "completed"
    },
    "tags": []
   },
   "outputs": [
    {
     "data": {
      "text/html": [
       "<div>\n",
       "<style scoped>\n",
       "    .dataframe tbody tr th:only-of-type {\n",
       "        vertical-align: middle;\n",
       "    }\n",
       "\n",
       "    .dataframe tbody tr th {\n",
       "        vertical-align: top;\n",
       "    }\n",
       "\n",
       "    .dataframe thead th {\n",
       "        text-align: right;\n",
       "    }\n",
       "</style>\n",
       "<table border=\"1\" class=\"dataframe\">\n",
       "  <thead>\n",
       "    <tr style=\"text-align: right;\">\n",
       "      <th></th>\n",
       "      <th></th>\n",
       "      <th>method</th>\n",
       "      <th>k</th>\n",
       "      <th>ari_median</th>\n",
       "    </tr>\n",
       "    <tr>\n",
       "      <th>k</th>\n",
       "      <th></th>\n",
       "      <th></th>\n",
       "      <th></th>\n",
       "      <th></th>\n",
       "    </tr>\n",
       "  </thead>\n",
       "  <tbody>\n",
       "    <tr>\n",
       "      <th>8</th>\n",
       "      <th>241</th>\n",
       "      <td>eac_complete_coassoc_matrix</td>\n",
       "      <td>8</td>\n",
       "      <td>0.018103</td>\n",
       "    </tr>\n",
       "    <tr>\n",
       "      <th>7</th>\n",
       "      <th>240</th>\n",
       "      <td>eac_complete_coassoc_matrix</td>\n",
       "      <td>7</td>\n",
       "      <td>0.018067</td>\n",
       "    </tr>\n",
       "    <tr>\n",
       "      <th>9</th>\n",
       "      <th>242</th>\n",
       "      <td>eac_complete_coassoc_matrix</td>\n",
       "      <td>9</td>\n",
       "      <td>0.018054</td>\n",
       "    </tr>\n",
       "    <tr>\n",
       "      <th>6</th>\n",
       "      <th>238</th>\n",
       "      <td>eac_complete_coassoc_matrix</td>\n",
       "      <td>6</td>\n",
       "      <td>0.017908</td>\n",
       "    </tr>\n",
       "    <tr>\n",
       "      <th>5</th>\n",
       "      <th>236</th>\n",
       "      <td>eac_complete_coassoc_matrix</td>\n",
       "      <td>5</td>\n",
       "      <td>0.017467</td>\n",
       "    </tr>\n",
       "    <tr>\n",
       "      <th>11</th>\n",
       "      <th>245</th>\n",
       "      <td>eac_complete_coassoc_matrix</td>\n",
       "      <td>11</td>\n",
       "      <td>0.012041</td>\n",
       "    </tr>\n",
       "    <tr>\n",
       "      <th>10</th>\n",
       "      <th>243</th>\n",
       "      <td>eac_complete_coassoc_matrix</td>\n",
       "      <td>10</td>\n",
       "      <td>0.011943</td>\n",
       "    </tr>\n",
       "    <tr>\n",
       "      <th>12</th>\n",
       "      <th>246</th>\n",
       "      <td>eac_complete_coassoc_matrix</td>\n",
       "      <td>12</td>\n",
       "      <td>0.011788</td>\n",
       "    </tr>\n",
       "    <tr>\n",
       "      <th>13</th>\n",
       "      <th>247</th>\n",
       "      <td>eac_complete_coassoc_matrix</td>\n",
       "      <td>13</td>\n",
       "      <td>0.006294</td>\n",
       "    </tr>\n",
       "    <tr>\n",
       "      <th>2</th>\n",
       "      <th>290</th>\n",
       "      <td>scc_030</td>\n",
       "      <td>2</td>\n",
       "      <td>0.005624</td>\n",
       "    </tr>\n",
       "  </tbody>\n",
       "</table>\n",
       "</div>"
      ],
      "text/plain": [
       "                             method   k  ari_median\n",
       "k                                                  \n",
       "8  241  eac_complete_coassoc_matrix   8    0.018103\n",
       "7  240  eac_complete_coassoc_matrix   7    0.018067\n",
       "9  242  eac_complete_coassoc_matrix   9    0.018054\n",
       "6  238  eac_complete_coassoc_matrix   6    0.017908\n",
       "5  236  eac_complete_coassoc_matrix   5    0.017467\n",
       "11 245  eac_complete_coassoc_matrix  11    0.012041\n",
       "10 243  eac_complete_coassoc_matrix  10    0.011943\n",
       "12 246  eac_complete_coassoc_matrix  12    0.011788\n",
       "13 247  eac_complete_coassoc_matrix  13    0.006294\n",
       "2  290                      scc_030   2    0.005624"
      ]
     },
     "metadata": {},
     "output_type": "display_data"
    }
   ],
   "source": [
    "best_parts_by_median = (\n",
    "    consensus_clustering_results.groupby(\"k\")\n",
    "    .apply(lambda x: x.sort_values(_median_column, ascending=False).head(1))\n",
    "    .sort_values(_median_column, ascending=False)[[\"method\", \"k\", _median_column]]\n",
    ")\n",
    "display(best_parts_by_median.head(10))"
   ]
  },
  {
   "cell_type": "code",
   "execution_count": 17,
   "id": "016d57e3",
   "metadata": {
    "execution": {
     "iopub.execute_input": "2022-11-27T03:20:10.097465Z",
     "iopub.status.busy": "2022-11-27T03:20:10.097378Z",
     "iopub.status.idle": "2022-11-27T03:20:11.359363Z",
     "shell.execute_reply": "2022-11-27T03:20:11.358986Z"
    },
    "papermill": {
     "duration": 1.27452,
     "end_time": "2022-11-27T03:20:11.360114",
     "exception": false,
     "start_time": "2022-11-27T03:20:10.085594",
     "status": "completed"
    },
    "tags": []
   },
   "outputs": [
    {
     "data": {
      "image/png": "[encoded data removed]",
      "text/plain": [
       "<Figure size 864x432 with 1 Axes>"
      ]
     },
     "metadata": {},
     "output_type": "display_data"
    }
   ],
   "source": [
    "with sns.plotting_context(\"talk\", font_scale=0.75), sns.axes_style(\n",
    "    \"whitegrid\", {\"grid.linestyle\": \"--\"}\n",
    "):\n",
    "    fig, ax = plt.subplots(figsize=(12, 6))\n",
    "\n",
    "    ax = sns.pointplot(\n",
    "        data=best_parts_by_mean,\n",
    "        x=\"k\",\n",
    "        y=_mean_column,\n",
    "        ci=None,\n",
    "        color=_indexes_colors[0],\n",
    "        label=\"Mean\",\n",
    "    )\n",
    "    ax = sns.pointplot(\n",
    "        data=best_parts_by_median,\n",
    "        x=\"k\",\n",
    "        y=_median_column,\n",
    "        ci=None,\n",
    "        color=_indexes_colors[1],\n",
    "        label=\"Median\",\n",
    "        ax=ax,\n",
    "    )\n",
    "    ax.set_ylabel(f\"Agreement with ensemble ({_selected_measure})\")\n",
    "    ax.set_xlabel(\"Number of clusters ($k$)\")\n",
    "    ax.set_xticklabels(ax.get_xticklabels(), rotation=45)\n",
    "    plt.legend(labels=[\"Mean\", \"Median\"])\n",
    "    plt.grid(True)\n",
    "    plt.tight_layout()"
   ]
  },
  {
   "cell_type": "markdown",
   "id": "d22c9c1c",
   "metadata": {
    "papermill": {
     "duration": 0.010142,
     "end_time": "2022-11-27T03:20:11.377669",
     "exception": false,
     "start_time": "2022-11-27T03:20:11.367527",
     "status": "completed"
    },
    "tags": []
   },
   "source": [
    "Both central tendency measures (the mean and the median) have the same behevior: higher agreement on lower/medium k values, and lower agreement on higher k values."
   ]
  },
  {
   "cell_type": "markdown",
   "id": "e9b797d6",
   "metadata": {
    "papermill": {
     "duration": 0.00667,
     "end_time": "2022-11-27T03:20:11.391129",
     "exception": false,
     "start_time": "2022-11-27T03:20:11.384459",
     "status": "completed"
    },
    "tags": []
   },
   "source": [
    "# Which consensus method performs better?"
   ]
  },
  {
   "cell_type": "markdown",
   "id": "940d6ad5",
   "metadata": {
    "papermill": {
     "duration": 0.006665,
     "end_time": "2022-11-27T03:20:11.404543",
     "exception": false,
     "start_time": "2022-11-27T03:20:11.397878",
     "status": "completed"
    },
    "tags": []
   },
   "source": [
    "For this comparison, I take the partitions with an agreement higher than the 75th percentile. From this set, I count how many times each method won."
   ]
  },
  {
   "cell_type": "markdown",
   "id": "5a4cdc1e",
   "metadata": {
    "papermill": {
     "duration": 0.012585,
     "end_time": "2022-11-27T03:20:11.427978",
     "exception": false,
     "start_time": "2022-11-27T03:20:11.415393",
     "status": "completed"
    },
    "tags": []
   },
   "source": [
    "## Using best by mean"
   ]
  },
  {
   "cell_type": "code",
   "execution_count": 18,
   "id": "c510f8cc",
   "metadata": {
    "execution": {
     "iopub.execute_input": "2022-11-27T03:20:11.447805Z",
     "iopub.status.busy": "2022-11-27T03:20:11.447585Z",
     "iopub.status.idle": "2022-11-27T03:20:11.466399Z",
     "shell.execute_reply": "2022-11-27T03:20:11.466000Z"
    },
    "papermill": {
     "duration": 0.027213,
     "end_time": "2022-11-27T03:20:11.467113",
     "exception": false,
     "start_time": "2022-11-27T03:20:11.439900",
     "status": "completed"
    },
    "tags": []
   },
   "outputs": [
    {
     "data": {
      "text/plain": [
       "count    59.000000\n",
       "mean      0.153185\n",
       "std       0.028035\n",
       "min       0.046547\n",
       "25%       0.154094\n",
       "50%       0.166655\n",
       "75%       0.167587\n",
       "max       0.170038\n",
       "Name: ari_mean, dtype: float64"
      ]
     },
     "metadata": {},
     "output_type": "display_data"
    }
   ],
   "source": [
    "_stats_data = best_parts_by_mean[_mean_column].describe()\n",
    "display(_stats_data)"
   ]
  },
  {
   "cell_type": "code",
   "execution_count": 19,
   "id": "fbe3c58a",
   "metadata": {
    "execution": {
     "iopub.execute_input": "2022-11-27T03:20:11.481648Z",
     "iopub.status.busy": "2022-11-27T03:20:11.481327Z",
     "iopub.status.idle": "2022-11-27T03:20:11.498925Z",
     "shell.execute_reply": "2022-11-27T03:20:11.498528Z"
    },
    "papermill": {
     "duration": 0.025581,
     "end_time": "2022-11-27T03:20:11.499675",
     "exception": false,
     "start_time": "2022-11-27T03:20:11.474094",
     "status": "completed"
    },
    "tags": []
   },
   "outputs": [
    {
     "data": {
      "text/plain": [
       "scc_030                       6\n",
       "eac_average_coassoc_matrix    4\n",
       "scc_050                       2\n",
       "scc_025                       2\n",
       "scc_020                       1\n",
       "Name: method, dtype: int64"
      ]
     },
     "execution_count": 19,
     "metadata": {},
     "output_type": "execute_result"
    }
   ],
   "source": [
    "best_parts_by_mean[best_parts_by_mean[_mean_column] > _stats_data[\"75%\"]][\n",
    "    \"method\"\n",
    "].value_counts()"
   ]
  },
  {
   "cell_type": "markdown",
   "id": "abaf7152",
   "metadata": {
    "papermill": {
     "duration": 0.006714,
     "end_time": "2022-11-27T03:20:11.513361",
     "exception": false,
     "start_time": "2022-11-27T03:20:11.506647",
     "status": "completed"
    },
    "tags": []
   },
   "source": [
    "SCC picked the \"best partition\" 14 times, whereas EAC (hierarhical clustering) did it only once."
   ]
  },
  {
   "cell_type": "markdown",
   "id": "c88678af",
   "metadata": {
    "papermill": {
     "duration": 0.006746,
     "end_time": "2022-11-27T03:20:11.526935",
     "exception": false,
     "start_time": "2022-11-27T03:20:11.520189",
     "status": "completed"
    },
    "tags": []
   },
   "source": [
    "## Using best by median"
   ]
  },
  {
   "cell_type": "code",
   "execution_count": 20,
   "id": "cacac7e7",
   "metadata": {
    "execution": {
     "iopub.execute_input": "2022-11-27T03:20:11.541451Z",
     "iopub.status.busy": "2022-11-27T03:20:11.541075Z",
     "iopub.status.idle": "2022-11-27T03:20:11.563549Z",
     "shell.execute_reply": "2022-11-27T03:20:11.563089Z"
    },
    "papermill": {
     "duration": 0.030553,
     "end_time": "2022-11-27T03:20:11.564335",
     "exception": false,
     "start_time": "2022-11-27T03:20:11.533782",
     "status": "completed"
    },
    "tags": []
   },
   "outputs": [
    {
     "data": {
      "text/plain": [
       "count    59.000000\n",
       "mean      0.003554\n",
       "std       0.005126\n",
       "min       0.000817\n",
       "25%       0.000883\n",
       "50%       0.001099\n",
       "75%       0.003204\n",
       "max       0.018103\n",
       "Name: ari_median, dtype: float64"
      ]
     },
     "metadata": {},
     "output_type": "display_data"
    }
   ],
   "source": [
    "_stats_data = best_parts_by_median[_median_column].describe()\n",
    "display(_stats_data)"
   ]
  },
  {
   "cell_type": "code",
   "execution_count": 21,
   "id": "a0d116dd",
   "metadata": {
    "execution": {
     "iopub.execute_input": "2022-11-27T03:20:11.579140Z",
     "iopub.status.busy": "2022-11-27T03:20:11.578827Z",
     "iopub.status.idle": "2022-11-27T03:20:11.600058Z",
     "shell.execute_reply": "2022-11-27T03:20:11.599609Z"
    },
    "papermill": {
     "duration": 0.029465,
     "end_time": "2022-11-27T03:20:11.600845",
     "exception": false,
     "start_time": "2022-11-27T03:20:11.571380",
     "status": "completed"
    },
    "tags": []
   },
   "outputs": [
    {
     "data": {
      "text/plain": [
       "eac_complete_coassoc_matrix    13\n",
       "scc_020                         1\n",
       "scc_030                         1\n",
       "Name: method, dtype: int64"
      ]
     },
     "execution_count": 21,
     "metadata": {},
     "output_type": "execute_result"
    }
   ],
   "source": [
    "best_parts_by_median[best_parts_by_median[_median_column] > _stats_data[\"75%\"]][\n",
    "    \"method\"\n",
    "].value_counts()"
   ]
  },
  {
   "cell_type": "markdown",
   "id": "a42d7b35",
   "metadata": {
    "papermill": {
     "duration": 0.006958,
     "end_time": "2022-11-27T03:20:11.614960",
     "exception": false,
     "start_time": "2022-11-27T03:20:11.608002",
     "status": "completed"
    },
    "tags": []
   },
   "source": [
    "If we use the \"best partitions by median\", EAC (HC) picked the best one 5 times, whereas SCC did it 10 times."
   ]
  },
  {
   "cell_type": "markdown",
   "id": "1d6bcaa8",
   "metadata": {
    "papermill": {
     "duration": 0.006928,
     "end_time": "2022-11-27T03:20:11.628873",
     "exception": false,
     "start_time": "2022-11-27T03:20:11.621945",
     "status": "completed"
    },
    "tags": []
   },
   "source": [
    "**CONCLUSION:** we select SCC as the method for follow up analysis."
   ]
  },
  {
   "cell_type": "markdown",
   "id": "6ae2234f",
   "metadata": {
    "papermill": {
     "duration": 0.006848,
     "end_time": "2022-11-27T03:20:11.642673",
     "exception": false,
     "start_time": "2022-11-27T03:20:11.635825",
     "status": "completed"
    },
    "tags": []
   },
   "source": [
    "# Select best partition per k"
   ]
  },
  {
   "cell_type": "code",
   "execution_count": 22,
   "id": "c0250a74",
   "metadata": {
    "execution": {
     "iopub.execute_input": "2022-11-27T03:20:11.657755Z",
     "iopub.status.busy": "2022-11-27T03:20:11.657365Z",
     "iopub.status.idle": "2022-11-27T03:20:11.675974Z",
     "shell.execute_reply": "2022-11-27T03:20:11.675516Z"
    },
    "papermill": {
     "duration": 0.027205,
     "end_time": "2022-11-27T03:20:11.676867",
     "exception": false,
     "start_time": "2022-11-27T03:20:11.649662",
     "status": "completed"
    },
    "tags": []
   },
   "outputs": [],
   "source": [
    "_selected_stat = \"Median\"\n",
    "_measure_col = _median_column"
   ]
  },
  {
   "cell_type": "code",
   "execution_count": 23,
   "id": "dffc41bf",
   "metadata": {
    "execution": {
     "iopub.execute_input": "2022-11-27T03:20:11.691849Z",
     "iopub.status.busy": "2022-11-27T03:20:11.691519Z",
     "iopub.status.idle": "2022-11-27T03:20:11.759709Z",
     "shell.execute_reply": "2022-11-27T03:20:11.759335Z"
    },
    "papermill": {
     "duration": 0.076405,
     "end_time": "2022-11-27T03:20:11.760413",
     "exception": false,
     "start_time": "2022-11-27T03:20:11.684008",
     "status": "completed"
    },
    "tags": []
   },
   "outputs": [],
   "source": [
    "best_parts = (\n",
    "    consensus_clustering_results[\n",
    "        consensus_clustering_results[\"method\"].str.startswith(\"scc_\")\n",
    "    ]\n",
    "    .groupby(\"k\")\n",
    "    .apply(lambda x: x.sort_values(_measure_col, ascending=False).head(1))\n",
    "    .sort_values(_measure_col, ascending=False)[\n",
    "        [\"method\", \"k\", \"partition\", _measure_col]\n",
    "    ]\n",
    ")"
   ]
  },
  {
   "cell_type": "code",
   "execution_count": 24,
   "id": "156e0fad",
   "metadata": {
    "execution": {
     "iopub.execute_input": "2022-11-27T03:20:11.775146Z",
     "iopub.status.busy": "2022-11-27T03:20:11.774862Z",
     "iopub.status.idle": "2022-11-27T03:20:11.786904Z",
     "shell.execute_reply": "2022-11-27T03:20:11.786555Z"
    },
    "papermill": {
     "duration": 0.020166,
     "end_time": "2022-11-27T03:20:11.787686",
     "exception": false,
     "start_time": "2022-11-27T03:20:11.767520",
     "status": "completed"
    },
    "tags": []
   },
   "outputs": [],
   "source": [
    "best_parts = best_parts.set_index(\"k\")"
   ]
  },
  {
   "cell_type": "code",
   "execution_count": 25,
   "id": "92944fc9",
   "metadata": {
    "execution": {
     "iopub.execute_input": "2022-11-27T03:20:11.802061Z",
     "iopub.status.busy": "2022-11-27T03:20:11.801974Z",
     "iopub.status.idle": "2022-11-27T03:20:11.813644Z",
     "shell.execute_reply": "2022-11-27T03:20:11.813280Z"
    },
    "papermill": {
     "duration": 0.019594,
     "end_time": "2022-11-27T03:20:11.814352",
     "exception": false,
     "start_time": "2022-11-27T03:20:11.794758",
     "status": "completed"
    },
    "tags": []
   },
   "outputs": [
    {
     "data": {
      "text/plain": [
       "(59, 3)"
      ]
     },
     "execution_count": 25,
     "metadata": {},
     "output_type": "execute_result"
    }
   ],
   "source": [
    "best_parts.shape"
   ]
  },
  {
   "cell_type": "code",
   "execution_count": 26,
   "id": "d4b6880f",
   "metadata": {
    "execution": {
     "iopub.execute_input": "2022-11-27T03:20:11.829237Z",
     "iopub.status.busy": "2022-11-27T03:20:11.828906Z",
     "iopub.status.idle": "2022-11-27T03:20:11.868128Z",
     "shell.execute_reply": "2022-11-27T03:20:11.867679Z"
    },
    "papermill": {
     "duration": 0.047835,
     "end_time": "2022-11-27T03:20:11.869317",
     "exception": false,
     "start_time": "2022-11-27T03:20:11.821482",
     "status": "completed"
    },
    "tags": []
   },
   "outputs": [
    {
     "data": {
      "text/html": [
       "<div>\n",
       "<style scoped>\n",
       "    .dataframe tbody tr th:only-of-type {\n",
       "        vertical-align: middle;\n",
       "    }\n",
       "\n",
       "    .dataframe tbody tr th {\n",
       "        vertical-align: top;\n",
       "    }\n",
       "\n",
       "    .dataframe thead th {\n",
       "        text-align: right;\n",
       "    }\n",
       "</style>\n",
       "<table border=\"1\" class=\"dataframe\">\n",
       "  <thead>\n",
       "    <tr style=\"text-align: right;\">\n",
       "      <th></th>\n",
       "      <th>method</th>\n",
       "      <th>partition</th>\n",
       "      <th>ari_median</th>\n",
       "    </tr>\n",
       "    <tr>\n",
       "      <th>k</th>\n",
       "      <th></th>\n",
       "      <th></th>\n",
       "      <th></th>\n",
       "    </tr>\n",
       "  </thead>\n",
       "  <tbody>\n",
       "    <tr>\n",
       "      <th>2</th>\n",
       "      <td>scc_030</td>\n",
       "      <td>[1, 1, 1, 1, 1, 1, 1, 1, 1, 1, 1, 1, 1, 1, 1, ...</td>\n",
       "      <td>0.005624</td>\n",
       "    </tr>\n",
       "    <tr>\n",
       "      <th>3</th>\n",
       "      <td>scc_020</td>\n",
       "      <td>[2, 2, 2, 2, 2, 2, 2, 2, 2, 2, 2, 2, 2, 2, 2, ...</td>\n",
       "      <td>0.005506</td>\n",
       "    </tr>\n",
       "    <tr>\n",
       "      <th>6</th>\n",
       "      <td>scc_020</td>\n",
       "      <td>[3, 3, 3, 3, 3, 3, 3, 3, 3, 3, 3, 3, 3, 3, 3, ...</td>\n",
       "      <td>0.001511</td>\n",
       "    </tr>\n",
       "    <tr>\n",
       "      <th>5</th>\n",
       "      <td>scc_025</td>\n",
       "      <td>[3, 3, 3, 3, 3, 3, 3, 3, 3, 3, 3, 3, 3, 3, 3, ...</td>\n",
       "      <td>0.000945</td>\n",
       "    </tr>\n",
       "    <tr>\n",
       "      <th>7</th>\n",
       "      <td>scc_020</td>\n",
       "      <td>[4, 4, 4, 4, 4, 4, 4, 4, 4, 4, 4, 4, 4, 4, 4, ...</td>\n",
       "      <td>0.000921</td>\n",
       "    </tr>\n",
       "    <tr>\n",
       "      <th>9</th>\n",
       "      <td>scc_020</td>\n",
       "      <td>[4, 4, 4, 4, 4, 4, 4, 4, 4, 4, 4, 4, 4, 4, 4, ...</td>\n",
       "      <td>0.000758</td>\n",
       "    </tr>\n",
       "    <tr>\n",
       "      <th>8</th>\n",
       "      <td>scc_020</td>\n",
       "      <td>[2, 2, 2, 2, 2, 2, 2, 2, 2, 2, 2, 2, 2, 2, 2, ...</td>\n",
       "      <td>0.000716</td>\n",
       "    </tr>\n",
       "    <tr>\n",
       "      <th>39</th>\n",
       "      <td>scc_050</td>\n",
       "      <td>[15, 15, 15, 15, 15, 15, 15, 15, 15, 15, 15, 1...</td>\n",
       "      <td>0.000639</td>\n",
       "    </tr>\n",
       "    <tr>\n",
       "      <th>36</th>\n",
       "      <td>scc_050</td>\n",
       "      <td>[17, 17, 17, 17, 17, 17, 17, 17, 17, 17, 17, 1...</td>\n",
       "      <td>0.000630</td>\n",
       "    </tr>\n",
       "    <tr>\n",
       "      <th>37</th>\n",
       "      <td>scc_050</td>\n",
       "      <td>[29, 29, 29, 29, 29, 29, 29, 29, 29, 29, 29, 2...</td>\n",
       "      <td>0.000624</td>\n",
       "    </tr>\n",
       "  </tbody>\n",
       "</table>\n",
       "</div>"
      ],
      "text/plain": [
       "     method                                          partition  ari_median\n",
       "k                                                                         \n",
       "2   scc_030  [1, 1, 1, 1, 1, 1, 1, 1, 1, 1, 1, 1, 1, 1, 1, ...    0.005624\n",
       "3   scc_020  [2, 2, 2, 2, 2, 2, 2, 2, 2, 2, 2, 2, 2, 2, 2, ...    0.005506\n",
       "6   scc_020  [3, 3, 3, 3, 3, 3, 3, 3, 3, 3, 3, 3, 3, 3, 3, ...    0.001511\n",
       "5   scc_025  [3, 3, 3, 3, 3, 3, 3, 3, 3, 3, 3, 3, 3, 3, 3, ...    0.000945\n",
       "7   scc_020  [4, 4, 4, 4, 4, 4, 4, 4, 4, 4, 4, 4, 4, 4, 4, ...    0.000921\n",
       "9   scc_020  [4, 4, 4, 4, 4, 4, 4, 4, 4, 4, 4, 4, 4, 4, 4, ...    0.000758\n",
       "8   scc_020  [2, 2, 2, 2, 2, 2, 2, 2, 2, 2, 2, 2, 2, 2, 2, ...    0.000716\n",
       "39  scc_050  [15, 15, 15, 15, 15, 15, 15, 15, 15, 15, 15, 1...    0.000639\n",
       "36  scc_050  [17, 17, 17, 17, 17, 17, 17, 17, 17, 17, 17, 1...    0.000630\n",
       "37  scc_050  [29, 29, 29, 29, 29, 29, 29, 29, 29, 29, 29, 2...    0.000624"
      ]
     },
     "execution_count": 26,
     "metadata": {},
     "output_type": "execute_result"
    }
   ],
   "source": [
    "# show partitions with top values\n",
    "best_parts.head(10)"
   ]
  },
  {
   "cell_type": "code",
   "execution_count": 27,
   "id": "3c3fe720",
   "metadata": {
    "execution": {
     "iopub.execute_input": "2022-11-27T03:20:11.897265Z",
     "iopub.status.busy": "2022-11-27T03:20:11.896815Z",
     "iopub.status.idle": "2022-11-27T03:20:11.987105Z",
     "shell.execute_reply": "2022-11-27T03:20:11.986739Z"
    },
    "papermill": {
     "duration": 0.105361,
     "end_time": "2022-11-27T03:20:11.988253",
     "exception": false,
     "start_time": "2022-11-27T03:20:11.882892",
     "status": "completed"
    },
    "tags": []
   },
   "outputs": [
    {
     "data": {
      "text/html": [
       "<div>\n",
       "<style scoped>\n",
       "    .dataframe tbody tr th:only-of-type {\n",
       "        vertical-align: middle;\n",
       "    }\n",
       "\n",
       "    .dataframe tbody tr th {\n",
       "        vertical-align: top;\n",
       "    }\n",
       "\n",
       "    .dataframe thead th {\n",
       "        text-align: right;\n",
       "    }\n",
       "</style>\n",
       "<table border=\"1\" class=\"dataframe\">\n",
       "  <thead>\n",
       "    <tr style=\"text-align: right;\">\n",
       "      <th></th>\n",
       "      <th>method</th>\n",
       "      <th>partition</th>\n",
       "      <th>ari_median</th>\n",
       "    </tr>\n",
       "    <tr>\n",
       "      <th>k</th>\n",
       "      <th></th>\n",
       "      <th></th>\n",
       "      <th></th>\n",
       "    </tr>\n",
       "  </thead>\n",
       "  <tbody>\n",
       "    <tr>\n",
       "      <th>2</th>\n",
       "      <td>scc_030</td>\n",
       "      <td>[1, 1, 1, 1, 1, 1, 1, 1, 1, 1, 1, 1, 1, 1, 1, ...</td>\n",
       "      <td>0.005624</td>\n",
       "    </tr>\n",
       "    <tr>\n",
       "      <th>3</th>\n",
       "      <td>scc_020</td>\n",
       "      <td>[2, 2, 2, 2, 2, 2, 2, 2, 2, 2, 2, 2, 2, 2, 2, ...</td>\n",
       "      <td>0.005506</td>\n",
       "    </tr>\n",
       "    <tr>\n",
       "      <th>4</th>\n",
       "      <td>scc_025</td>\n",
       "      <td>[0, 0, 0, 0, 0, 0, 0, 0, 0, 0, 0, 0, 0, 0, 0, ...</td>\n",
       "      <td>0.000294</td>\n",
       "    </tr>\n",
       "    <tr>\n",
       "      <th>5</th>\n",
       "      <td>scc_025</td>\n",
       "      <td>[3, 3, 3, 3, 3, 3, 3, 3, 3, 3, 3, 3, 3, 3, 3, ...</td>\n",
       "      <td>0.000945</td>\n",
       "    </tr>\n",
       "    <tr>\n",
       "      <th>6</th>\n",
       "      <td>scc_020</td>\n",
       "      <td>[3, 3, 3, 3, 3, 3, 3, 3, 3, 3, 3, 3, 3, 3, 3, ...</td>\n",
       "      <td>0.001511</td>\n",
       "    </tr>\n",
       "    <tr>\n",
       "      <th>7</th>\n",
       "      <td>scc_020</td>\n",
       "      <td>[4, 4, 4, 4, 4, 4, 4, 4, 4, 4, 4, 4, 4, 4, 4, ...</td>\n",
       "      <td>0.000921</td>\n",
       "    </tr>\n",
       "    <tr>\n",
       "      <th>8</th>\n",
       "      <td>scc_020</td>\n",
       "      <td>[2, 2, 2, 2, 2, 2, 2, 2, 2, 2, 2, 2, 2, 2, 2, ...</td>\n",
       "      <td>0.000716</td>\n",
       "    </tr>\n",
       "    <tr>\n",
       "      <th>9</th>\n",
       "      <td>scc_020</td>\n",
       "      <td>[4, 4, 4, 4, 4, 4, 4, 4, 4, 4, 4, 4, 4, 4, 4, ...</td>\n",
       "      <td>0.000758</td>\n",
       "    </tr>\n",
       "    <tr>\n",
       "      <th>10</th>\n",
       "      <td>scc_020</td>\n",
       "      <td>[7, 7, 7, 7, 7, 7, 7, 7, 7, 7, 7, 7, 7, 7, 7, ...</td>\n",
       "      <td>0.000483</td>\n",
       "    </tr>\n",
       "    <tr>\n",
       "      <th>11</th>\n",
       "      <td>scc_020</td>\n",
       "      <td>[4, 4, 4, 4, 4, 4, 4, 4, 4, 4, 4, 4, 4, 4, 4, ...</td>\n",
       "      <td>0.000469</td>\n",
       "    </tr>\n",
       "    <tr>\n",
       "      <th>12</th>\n",
       "      <td>scc_020</td>\n",
       "      <td>[2, 2, 2, 2, 2, 2, 2, 2, 2, 2, 2, 2, 2, 2, 2, ...</td>\n",
       "      <td>0.000590</td>\n",
       "    </tr>\n",
       "    <tr>\n",
       "      <th>13</th>\n",
       "      <td>scc_020</td>\n",
       "      <td>[2, 2, 2, 2, 2, 2, 2, 2, 2, 2, 2, 2, 2, 2, 2, ...</td>\n",
       "      <td>0.000268</td>\n",
       "    </tr>\n",
       "    <tr>\n",
       "      <th>14</th>\n",
       "      <td>scc_020</td>\n",
       "      <td>[10, 10, 10, 10, 10, 10, 10, 10, 10, 10, 10, 1...</td>\n",
       "      <td>0.000233</td>\n",
       "    </tr>\n",
       "    <tr>\n",
       "      <th>15</th>\n",
       "      <td>scc_020</td>\n",
       "      <td>[12, 12, 12, 12, 12, 12, 12, 12, 12, 12, 12, 1...</td>\n",
       "      <td>0.000249</td>\n",
       "    </tr>\n",
       "    <tr>\n",
       "      <th>16</th>\n",
       "      <td>scc_025</td>\n",
       "      <td>[14, 14, 14, 14, 14, 14, 14, 14, 14, 14, 14, 1...</td>\n",
       "      <td>0.000332</td>\n",
       "    </tr>\n",
       "    <tr>\n",
       "      <th>17</th>\n",
       "      <td>scc_050</td>\n",
       "      <td>[5, 5, 5, 5, 5, 5, 5, 5, 5, 5, 5, 5, 5, 5, 5, ...</td>\n",
       "      <td>0.000298</td>\n",
       "    </tr>\n",
       "    <tr>\n",
       "      <th>18</th>\n",
       "      <td>scc_020</td>\n",
       "      <td>[5, 5, 5, 5, 5, 5, 5, 5, 5, 5, 5, 5, 5, 5, 5, ...</td>\n",
       "      <td>0.000425</td>\n",
       "    </tr>\n",
       "    <tr>\n",
       "      <th>19</th>\n",
       "      <td>scc_025</td>\n",
       "      <td>[3, 3, 3, 3, 3, 3, 3, 3, 3, 3, 3, 3, 3, 3, 3, ...</td>\n",
       "      <td>0.000419</td>\n",
       "    </tr>\n",
       "    <tr>\n",
       "      <th>20</th>\n",
       "      <td>scc_025</td>\n",
       "      <td>[14, 14, 14, 14, 14, 14, 14, 14, 14, 14, 14, 1...</td>\n",
       "      <td>0.000379</td>\n",
       "    </tr>\n",
       "    <tr>\n",
       "      <th>21</th>\n",
       "      <td>scc_025</td>\n",
       "      <td>[2, 2, 2, 2, 2, 2, 2, 2, 2, 2, 2, 2, 2, 2, 2, ...</td>\n",
       "      <td>0.000363</td>\n",
       "    </tr>\n",
       "    <tr>\n",
       "      <th>22</th>\n",
       "      <td>scc_020</td>\n",
       "      <td>[10, 10, 10, 10, 10, 10, 10, 10, 10, 10, 10, 1...</td>\n",
       "      <td>0.000380</td>\n",
       "    </tr>\n",
       "    <tr>\n",
       "      <th>23</th>\n",
       "      <td>scc_025</td>\n",
       "      <td>[20, 20, 20, 20, 20, 20, 20, 20, 20, 20, 20, 2...</td>\n",
       "      <td>0.000307</td>\n",
       "    </tr>\n",
       "    <tr>\n",
       "      <th>24</th>\n",
       "      <td>scc_025</td>\n",
       "      <td>[8, 8, 8, 8, 8, 8, 8, 8, 8, 8, 8, 8, 8, 8, 8, ...</td>\n",
       "      <td>0.000290</td>\n",
       "    </tr>\n",
       "    <tr>\n",
       "      <th>25</th>\n",
       "      <td>scc_050</td>\n",
       "      <td>[21, 21, 21, 21, 21, 21, 21, 21, 21, 21, 21, 2...</td>\n",
       "      <td>0.000396</td>\n",
       "    </tr>\n",
       "    <tr>\n",
       "      <th>26</th>\n",
       "      <td>scc_030</td>\n",
       "      <td>[4, 4, 4, 4, 4, 4, 4, 4, 4, 4, 4, 4, 4, 4, 4, ...</td>\n",
       "      <td>0.000363</td>\n",
       "    </tr>\n",
       "    <tr>\n",
       "      <th>27</th>\n",
       "      <td>scc_030</td>\n",
       "      <td>[8, 8, 8, 8, 8, 8, 8, 8, 8, 8, 8, 8, 8, 8, 8, ...</td>\n",
       "      <td>0.000357</td>\n",
       "    </tr>\n",
       "    <tr>\n",
       "      <th>28</th>\n",
       "      <td>scc_050</td>\n",
       "      <td>[11, 11, 11, 11, 11, 11, 11, 11, 11, 11, 11, 1...</td>\n",
       "      <td>0.000405</td>\n",
       "    </tr>\n",
       "    <tr>\n",
       "      <th>29</th>\n",
       "      <td>scc_020</td>\n",
       "      <td>[27, 27, 27, 27, 27, 27, 27, 27, 27, 27, 27, 2...</td>\n",
       "      <td>0.000551</td>\n",
       "    </tr>\n",
       "    <tr>\n",
       "      <th>30</th>\n",
       "      <td>scc_030</td>\n",
       "      <td>[26, 26, 26, 26, 26, 26, 26, 26, 26, 26, 26, 2...</td>\n",
       "      <td>0.000538</td>\n",
       "    </tr>\n",
       "    <tr>\n",
       "      <th>31</th>\n",
       "      <td>scc_050</td>\n",
       "      <td>[18, 18, 18, 18, 18, 18, 18, 18, 18, 18, 18, 1...</td>\n",
       "      <td>0.000551</td>\n",
       "    </tr>\n",
       "    <tr>\n",
       "      <th>32</th>\n",
       "      <td>scc_020</td>\n",
       "      <td>[25, 25, 25, 25, 25, 25, 25, 25, 25, 25, 25, 2...</td>\n",
       "      <td>0.000533</td>\n",
       "    </tr>\n",
       "    <tr>\n",
       "      <th>33</th>\n",
       "      <td>scc_030</td>\n",
       "      <td>[25, 25, 25, 25, 25, 25, 25, 25, 25, 25, 25, 2...</td>\n",
       "      <td>0.000512</td>\n",
       "    </tr>\n",
       "    <tr>\n",
       "      <th>34</th>\n",
       "      <td>scc_050</td>\n",
       "      <td>[31, 31, 31, 31, 31, 31, 31, 31, 31, 31, 31, 3...</td>\n",
       "      <td>0.000560</td>\n",
       "    </tr>\n",
       "    <tr>\n",
       "      <th>35</th>\n",
       "      <td>scc_050</td>\n",
       "      <td>[31, 31, 31, 31, 31, 31, 31, 31, 31, 31, 31, 3...</td>\n",
       "      <td>0.000486</td>\n",
       "    </tr>\n",
       "    <tr>\n",
       "      <th>36</th>\n",
       "      <td>scc_050</td>\n",
       "      <td>[17, 17, 17, 17, 17, 17, 17, 17, 17, 17, 17, 1...</td>\n",
       "      <td>0.000630</td>\n",
       "    </tr>\n",
       "    <tr>\n",
       "      <th>37</th>\n",
       "      <td>scc_050</td>\n",
       "      <td>[29, 29, 29, 29, 29, 29, 29, 29, 29, 29, 29, 2...</td>\n",
       "      <td>0.000624</td>\n",
       "    </tr>\n",
       "    <tr>\n",
       "      <th>38</th>\n",
       "      <td>scc_050</td>\n",
       "      <td>[15, 15, 15, 15, 15, 15, 15, 15, 15, 15, 15, 1...</td>\n",
       "      <td>0.000605</td>\n",
       "    </tr>\n",
       "    <tr>\n",
       "      <th>39</th>\n",
       "      <td>scc_050</td>\n",
       "      <td>[15, 15, 15, 15, 15, 15, 15, 15, 15, 15, 15, 1...</td>\n",
       "      <td>0.000639</td>\n",
       "    </tr>\n",
       "    <tr>\n",
       "      <th>40</th>\n",
       "      <td>scc_050</td>\n",
       "      <td>[21, 21, 21, 21, 21, 21, 21, 21, 21, 21, 21, 2...</td>\n",
       "      <td>0.000506</td>\n",
       "    </tr>\n",
       "    <tr>\n",
       "      <th>41</th>\n",
       "      <td>scc_050</td>\n",
       "      <td>[16, 16, 16, 16, 16, 16, 16, 16, 16, 16, 16, 1...</td>\n",
       "      <td>0.000486</td>\n",
       "    </tr>\n",
       "    <tr>\n",
       "      <th>42</th>\n",
       "      <td>scc_050</td>\n",
       "      <td>[15, 15, 15, 15, 15, 15, 15, 15, 15, 15, 15, 1...</td>\n",
       "      <td>0.000438</td>\n",
       "    </tr>\n",
       "    <tr>\n",
       "      <th>43</th>\n",
       "      <td>scc_050</td>\n",
       "      <td>[33, 33, 33, 33, 33, 33, 33, 33, 33, 33, 33, 3...</td>\n",
       "      <td>0.000531</td>\n",
       "    </tr>\n",
       "    <tr>\n",
       "      <th>44</th>\n",
       "      <td>scc_030</td>\n",
       "      <td>[26, 26, 26, 26, 26, 26, 26, 26, 26, 26, 26, 2...</td>\n",
       "      <td>0.000503</td>\n",
       "    </tr>\n",
       "    <tr>\n",
       "      <th>45</th>\n",
       "      <td>scc_050</td>\n",
       "      <td>[31, 31, 31, 31, 31, 31, 31, 31, 31, 31, 31, 3...</td>\n",
       "      <td>0.000545</td>\n",
       "    </tr>\n",
       "    <tr>\n",
       "      <th>46</th>\n",
       "      <td>scc_030</td>\n",
       "      <td>[42, 42, 42, 42, 42, 42, 42, 42, 42, 42, 42, 4...</td>\n",
       "      <td>0.000516</td>\n",
       "    </tr>\n",
       "    <tr>\n",
       "      <th>47</th>\n",
       "      <td>scc_050</td>\n",
       "      <td>[38, 38, 38, 38, 38, 38, 38, 38, 38, 38, 38, 3...</td>\n",
       "      <td>0.000506</td>\n",
       "    </tr>\n",
       "    <tr>\n",
       "      <th>48</th>\n",
       "      <td>scc_025</td>\n",
       "      <td>[29, 29, 29, 29, 29, 29, 29, 29, 29, 29, 29, 2...</td>\n",
       "      <td>0.000535</td>\n",
       "    </tr>\n",
       "    <tr>\n",
       "      <th>49</th>\n",
       "      <td>scc_050</td>\n",
       "      <td>[30, 30, 30, 30, 30, 30, 30, 30, 30, 30, 30, 3...</td>\n",
       "      <td>0.000500</td>\n",
       "    </tr>\n",
       "    <tr>\n",
       "      <th>50</th>\n",
       "      <td>scc_025</td>\n",
       "      <td>[3, 3, 3, 3, 3, 3, 3, 3, 3, 3, 3, 3, 3, 3, 3, ...</td>\n",
       "      <td>0.000499</td>\n",
       "    </tr>\n",
       "    <tr>\n",
       "      <th>51</th>\n",
       "      <td>scc_050</td>\n",
       "      <td>[20, 20, 20, 20, 20, 20, 20, 20, 20, 20, 20, 2...</td>\n",
       "      <td>0.000474</td>\n",
       "    </tr>\n",
       "    <tr>\n",
       "      <th>52</th>\n",
       "      <td>scc_050</td>\n",
       "      <td>[18, 18, 18, 18, 18, 18, 18, 18, 18, 18, 18, 1...</td>\n",
       "      <td>0.000534</td>\n",
       "    </tr>\n",
       "    <tr>\n",
       "      <th>53</th>\n",
       "      <td>scc_050</td>\n",
       "      <td>[19, 19, 19, 19, 19, 19, 19, 19, 19, 19, 19, 1...</td>\n",
       "      <td>0.000488</td>\n",
       "    </tr>\n",
       "    <tr>\n",
       "      <th>54</th>\n",
       "      <td>scc_050</td>\n",
       "      <td>[28, 28, 28, 28, 28, 28, 28, 28, 28, 28, 28, 2...</td>\n",
       "      <td>0.000490</td>\n",
       "    </tr>\n",
       "    <tr>\n",
       "      <th>55</th>\n",
       "      <td>scc_050</td>\n",
       "      <td>[17, 17, 17, 17, 17, 17, 17, 17, 17, 17, 17, 1...</td>\n",
       "      <td>0.000466</td>\n",
       "    </tr>\n",
       "    <tr>\n",
       "      <th>56</th>\n",
       "      <td>scc_050</td>\n",
       "      <td>[14, 14, 14, 14, 14, 14, 14, 14, 14, 14, 14, 1...</td>\n",
       "      <td>0.000488</td>\n",
       "    </tr>\n",
       "    <tr>\n",
       "      <th>57</th>\n",
       "      <td>scc_050</td>\n",
       "      <td>[29, 29, 29, 29, 29, 29, 29, 29, 29, 29, 29, 2...</td>\n",
       "      <td>0.000470</td>\n",
       "    </tr>\n",
       "    <tr>\n",
       "      <th>58</th>\n",
       "      <td>scc_030</td>\n",
       "      <td>[19, 19, 19, 19, 19, 19, 19, 19, 19, 19, 19, 1...</td>\n",
       "      <td>0.000460</td>\n",
       "    </tr>\n",
       "    <tr>\n",
       "      <th>59</th>\n",
       "      <td>scc_050</td>\n",
       "      <td>[21, 21, 21, 21, 21, 21, 21, 21, 21, 21, 21, 2...</td>\n",
       "      <td>0.000451</td>\n",
       "    </tr>\n",
       "    <tr>\n",
       "      <th>60</th>\n",
       "      <td>scc_050</td>\n",
       "      <td>[18, 18, 18, 18, 18, 18, 18, 18, 18, 18, 18, 1...</td>\n",
       "      <td>0.000443</td>\n",
       "    </tr>\n",
       "  </tbody>\n",
       "</table>\n",
       "</div>"
      ],
      "text/plain": [
       "     method                                          partition  ari_median\n",
       "k                                                                         \n",
       "2   scc_030  [1, 1, 1, 1, 1, 1, 1, 1, 1, 1, 1, 1, 1, 1, 1, ...    0.005624\n",
       "3   scc_020  [2, 2, 2, 2, 2, 2, 2, 2, 2, 2, 2, 2, 2, 2, 2, ...    0.005506\n",
       "4   scc_025  [0, 0, 0, 0, 0, 0, 0, 0, 0, 0, 0, 0, 0, 0, 0, ...    0.000294\n",
       "5   scc_025  [3, 3, 3, 3, 3, 3, 3, 3, 3, 3, 3, 3, 3, 3, 3, ...    0.000945\n",
       "6   scc_020  [3, 3, 3, 3, 3, 3, 3, 3, 3, 3, 3, 3, 3, 3, 3, ...    0.001511\n",
       "7   scc_020  [4, 4, 4, 4, 4, 4, 4, 4, 4, 4, 4, 4, 4, 4, 4, ...    0.000921\n",
       "8   scc_020  [2, 2, 2, 2, 2, 2, 2, 2, 2, 2, 2, 2, 2, 2, 2, ...    0.000716\n",
       "9   scc_020  [4, 4, 4, 4, 4, 4, 4, 4, 4, 4, 4, 4, 4, 4, 4, ...    0.000758\n",
       "10  scc_020  [7, 7, 7, 7, 7, 7, 7, 7, 7, 7, 7, 7, 7, 7, 7, ...    0.000483\n",
       "11  scc_020  [4, 4, 4, 4, 4, 4, 4, 4, 4, 4, 4, 4, 4, 4, 4, ...    0.000469\n",
       "12  scc_020  [2, 2, 2, 2, 2, 2, 2, 2, 2, 2, 2, 2, 2, 2, 2, ...    0.000590\n",
       "13  scc_020  [2, 2, 2, 2, 2, 2, 2, 2, 2, 2, 2, 2, 2, 2, 2, ...    0.000268\n",
       "14  scc_020  [10, 10, 10, 10, 10, 10, 10, 10, 10, 10, 10, 1...    0.000233\n",
       "15  scc_020  [12, 12, 12, 12, 12, 12, 12, 12, 12, 12, 12, 1...    0.000249\n",
       "16  scc_025  [14, 14, 14, 14, 14, 14, 14, 14, 14, 14, 14, 1...    0.000332\n",
       "17  scc_050  [5, 5, 5, 5, 5, 5, 5, 5, 5, 5, 5, 5, 5, 5, 5, ...    0.000298\n",
       "18  scc_020  [5, 5, 5, 5, 5, 5, 5, 5, 5, 5, 5, 5, 5, 5, 5, ...    0.000425\n",
       "19  scc_025  [3, 3, 3, 3, 3, 3, 3, 3, 3, 3, 3, 3, 3, 3, 3, ...    0.000419\n",
       "20  scc_025  [14, 14, 14, 14, 14, 14, 14, 14, 14, 14, 14, 1...    0.000379\n",
       "21  scc_025  [2, 2, 2, 2, 2, 2, 2, 2, 2, 2, 2, 2, 2, 2, 2, ...    0.000363\n",
       "22  scc_020  [10, 10, 10, 10, 10, 10, 10, 10, 10, 10, 10, 1...    0.000380\n",
       "23  scc_025  [20, 20, 20, 20, 20, 20, 20, 20, 20, 20, 20, 2...    0.000307\n",
       "24  scc_025  [8, 8, 8, 8, 8, 8, 8, 8, 8, 8, 8, 8, 8, 8, 8, ...    0.000290\n",
       "25  scc_050  [21, 21, 21, 21, 21, 21, 21, 21, 21, 21, 21, 2...    0.000396\n",
       "26  scc_030  [4, 4, 4, 4, 4, 4, 4, 4, 4, 4, 4, 4, 4, 4, 4, ...    0.000363\n",
       "27  scc_030  [8, 8, 8, 8, 8, 8, 8, 8, 8, 8, 8, 8, 8, 8, 8, ...    0.000357\n",
       "28  scc_050  [11, 11, 11, 11, 11, 11, 11, 11, 11, 11, 11, 1...    0.000405\n",
       "29  scc_020  [27, 27, 27, 27, 27, 27, 27, 27, 27, 27, 27, 2...    0.000551\n",
       "30  scc_030  [26, 26, 26, 26, 26, 26, 26, 26, 26, 26, 26, 2...    0.000538\n",
       "31  scc_050  [18, 18, 18, 18, 18, 18, 18, 18, 18, 18, 18, 1...    0.000551\n",
       "32  scc_020  [25, 25, 25, 25, 25, 25, 25, 25, 25, 25, 25, 2...    0.000533\n",
       "33  scc_030  [25, 25, 25, 25, 25, 25, 25, 25, 25, 25, 25, 2...    0.000512\n",
       "34  scc_050  [31, 31, 31, 31, 31, 31, 31, 31, 31, 31, 31, 3...    0.000560\n",
       "35  scc_050  [31, 31, 31, 31, 31, 31, 31, 31, 31, 31, 31, 3...    0.000486\n",
       "36  scc_050  [17, 17, 17, 17, 17, 17, 17, 17, 17, 17, 17, 1...    0.000630\n",
       "37  scc_050  [29, 29, 29, 29, 29, 29, 29, 29, 29, 29, 29, 2...    0.000624\n",
       "38  scc_050  [15, 15, 15, 15, 15, 15, 15, 15, 15, 15, 15, 1...    0.000605\n",
       "39  scc_050  [15, 15, 15, 15, 15, 15, 15, 15, 15, 15, 15, 1...    0.000639\n",
       "40  scc_050  [21, 21, 21, 21, 21, 21, 21, 21, 21, 21, 21, 2...    0.000506\n",
       "41  scc_050  [16, 16, 16, 16, 16, 16, 16, 16, 16, 16, 16, 1...    0.000486\n",
       "42  scc_050  [15, 15, 15, 15, 15, 15, 15, 15, 15, 15, 15, 1...    0.000438\n",
       "43  scc_050  [33, 33, 33, 33, 33, 33, 33, 33, 33, 33, 33, 3...    0.000531\n",
       "44  scc_030  [26, 26, 26, 26, 26, 26, 26, 26, 26, 26, 26, 2...    0.000503\n",
       "45  scc_050  [31, 31, 31, 31, 31, 31, 31, 31, 31, 31, 31, 3...    0.000545\n",
       "46  scc_030  [42, 42, 42, 42, 42, 42, 42, 42, 42, 42, 42, 4...    0.000516\n",
       "47  scc_050  [38, 38, 38, 38, 38, 38, 38, 38, 38, 38, 38, 3...    0.000506\n",
       "48  scc_025  [29, 29, 29, 29, 29, 29, 29, 29, 29, 29, 29, 2...    0.000535\n",
       "49  scc_050  [30, 30, 30, 30, 30, 30, 30, 30, 30, 30, 30, 3...    0.000500\n",
       "50  scc_025  [3, 3, 3, 3, 3, 3, 3, 3, 3, 3, 3, 3, 3, 3, 3, ...    0.000499\n",
       "51  scc_050  [20, 20, 20, 20, 20, 20, 20, 20, 20, 20, 20, 2...    0.000474\n",
       "52  scc_050  [18, 18, 18, 18, 18, 18, 18, 18, 18, 18, 18, 1...    0.000534\n",
       "53  scc_050  [19, 19, 19, 19, 19, 19, 19, 19, 19, 19, 19, 1...    0.000488\n",
       "54  scc_050  [28, 28, 28, 28, 28, 28, 28, 28, 28, 28, 28, 2...    0.000490\n",
       "55  scc_050  [17, 17, 17, 17, 17, 17, 17, 17, 17, 17, 17, 1...    0.000466\n",
       "56  scc_050  [14, 14, 14, 14, 14, 14, 14, 14, 14, 14, 14, 1...    0.000488\n",
       "57  scc_050  [29, 29, 29, 29, 29, 29, 29, 29, 29, 29, 29, 2...    0.000470\n",
       "58  scc_030  [19, 19, 19, 19, 19, 19, 19, 19, 19, 19, 19, 1...    0.000460\n",
       "59  scc_050  [21, 21, 21, 21, 21, 21, 21, 21, 21, 21, 21, 2...    0.000451\n",
       "60  scc_050  [18, 18, 18, 18, 18, 18, 18, 18, 18, 18, 18, 1...    0.000443"
      ]
     },
     "execution_count": 27,
     "metadata": {},
     "output_type": "execute_result"
    }
   ],
   "source": [
    "best_parts.sort_values(\"k\")"
   ]
  },
  {
   "cell_type": "markdown",
   "id": "0f126fac",
   "metadata": {
    "papermill": {
     "duration": 0.013771,
     "end_time": "2022-11-27T03:20:12.016210",
     "exception": false,
     "start_time": "2022-11-27T03:20:12.002439",
     "status": "completed"
    },
    "tags": []
   },
   "source": [
    "## Select partitions with highest agreement"
   ]
  },
  {
   "cell_type": "markdown",
   "id": "76158b88",
   "metadata": {
    "papermill": {
     "duration": 0.013828,
     "end_time": "2022-11-27T03:20:12.044073",
     "exception": false,
     "start_time": "2022-11-27T03:20:12.030245",
     "status": "completed"
    },
    "tags": []
   },
   "source": [
    "We do not expect all partitions with different `k` to be good ones. Thus, here I select the partitions with an ensemble agreement that pass a relative high threshold (75th percentile)."
   ]
  },
  {
   "cell_type": "code",
   "execution_count": 28,
   "id": "85412401",
   "metadata": {
    "execution": {
     "iopub.execute_input": "2022-11-27T03:20:12.068885Z",
     "iopub.status.busy": "2022-11-27T03:20:12.068727Z",
     "iopub.status.idle": "2022-11-27T03:20:12.090795Z",
     "shell.execute_reply": "2022-11-27T03:20:12.090343Z"
    },
    "papermill": {
     "duration": 0.033616,
     "end_time": "2022-11-27T03:20:12.091576",
     "exception": false,
     "start_time": "2022-11-27T03:20:12.057960",
     "status": "completed"
    },
    "tags": []
   },
   "outputs": [
    {
     "data": {
      "text/plain": [
       "count    59.000000\n",
       "mean      0.000675\n",
       "std       0.000943\n",
       "min       0.000233\n",
       "25%       0.000412\n",
       "50%       0.000488\n",
       "75%       0.000548\n",
       "max       0.005624\n",
       "Name: ari_median, dtype: float64"
      ]
     },
     "metadata": {},
     "output_type": "display_data"
    }
   ],
   "source": [
    "best_parts_stats = best_parts[_measure_col].describe()\n",
    "display(best_parts_stats)"
   ]
  },
  {
   "cell_type": "code",
   "execution_count": 29,
   "id": "63ee5ba4",
   "metadata": {
    "execution": {
     "iopub.execute_input": "2022-11-27T03:20:12.107525Z",
     "iopub.status.busy": "2022-11-27T03:20:12.107201Z",
     "iopub.status.idle": "2022-11-27T03:20:12.128413Z",
     "shell.execute_reply": "2022-11-27T03:20:12.127953Z"
    },
    "papermill": {
     "duration": 0.030052,
     "end_time": "2022-11-27T03:20:12.129198",
     "exception": false,
     "start_time": "2022-11-27T03:20:12.099146",
     "status": "completed"
    },
    "tags": []
   },
   "outputs": [
    {
     "data": {
      "text/plain": [
       "0.0005481487894466959"
      ]
     },
     "metadata": {},
     "output_type": "display_data"
    }
   ],
   "source": [
    "best_threshold = best_parts_stats[\"75%\"]\n",
    "best_threshold_description = \"75th percentile\"\n",
    "display(best_threshold)\n",
    "\n",
    "best_parts = best_parts.assign(\n",
    "    selected=best_parts[_measure_col].apply(lambda x: x >= best_threshold)\n",
    ")"
   ]
  },
  {
   "cell_type": "code",
   "execution_count": 30,
   "id": "b4a7cc09",
   "metadata": {
    "execution": {
     "iopub.execute_input": "2022-11-27T03:20:12.145158Z",
     "iopub.status.busy": "2022-11-27T03:20:12.144745Z",
     "iopub.status.idle": "2022-11-27T03:20:12.163644Z",
     "shell.execute_reply": "2022-11-27T03:20:12.163177Z"
    },
    "papermill": {
     "duration": 0.027696,
     "end_time": "2022-11-27T03:20:12.164473",
     "exception": false,
     "start_time": "2022-11-27T03:20:12.136777",
     "status": "completed"
    },
    "tags": []
   },
   "outputs": [
    {
     "data": {
      "text/plain": [
       "(59, 4)"
      ]
     },
     "execution_count": 30,
     "metadata": {},
     "output_type": "execute_result"
    }
   ],
   "source": [
    "best_parts.shape"
   ]
  },
  {
   "cell_type": "code",
   "execution_count": 31,
   "id": "b55298ec",
   "metadata": {
    "execution": {
     "iopub.execute_input": "2022-11-27T03:20:12.180849Z",
     "iopub.status.busy": "2022-11-27T03:20:12.180403Z",
     "iopub.status.idle": "2022-11-27T03:20:12.211350Z",
     "shell.execute_reply": "2022-11-27T03:20:12.210903Z"
    },
    "papermill": {
     "duration": 0.040171,
     "end_time": "2022-11-27T03:20:12.212402",
     "exception": false,
     "start_time": "2022-11-27T03:20:12.172231",
     "status": "completed"
    },
    "tags": []
   },
   "outputs": [
    {
     "data": {
      "text/html": [
       "<div>\n",
       "<style scoped>\n",
       "    .dataframe tbody tr th:only-of-type {\n",
       "        vertical-align: middle;\n",
       "    }\n",
       "\n",
       "    .dataframe tbody tr th {\n",
       "        vertical-align: top;\n",
       "    }\n",
       "\n",
       "    .dataframe thead th {\n",
       "        text-align: right;\n",
       "    }\n",
       "</style>\n",
       "<table border=\"1\" class=\"dataframe\">\n",
       "  <thead>\n",
       "    <tr style=\"text-align: right;\">\n",
       "      <th></th>\n",
       "      <th>method</th>\n",
       "      <th>partition</th>\n",
       "      <th>ari_median</th>\n",
       "      <th>selected</th>\n",
       "    </tr>\n",
       "    <tr>\n",
       "      <th>k</th>\n",
       "      <th></th>\n",
       "      <th></th>\n",
       "      <th></th>\n",
       "      <th></th>\n",
       "    </tr>\n",
       "  </thead>\n",
       "  <tbody>\n",
       "    <tr>\n",
       "      <th>2</th>\n",
       "      <td>scc_030</td>\n",
       "      <td>[1, 1, 1, 1, 1, 1, 1, 1, 1, 1, 1, 1, 1, 1, 1, ...</td>\n",
       "      <td>0.005624</td>\n",
       "      <td>True</td>\n",
       "    </tr>\n",
       "    <tr>\n",
       "      <th>3</th>\n",
       "      <td>scc_020</td>\n",
       "      <td>[2, 2, 2, 2, 2, 2, 2, 2, 2, 2, 2, 2, 2, 2, 2, ...</td>\n",
       "      <td>0.005506</td>\n",
       "      <td>True</td>\n",
       "    </tr>\n",
       "    <tr>\n",
       "      <th>6</th>\n",
       "      <td>scc_020</td>\n",
       "      <td>[3, 3, 3, 3, 3, 3, 3, 3, 3, 3, 3, 3, 3, 3, 3, ...</td>\n",
       "      <td>0.001511</td>\n",
       "      <td>True</td>\n",
       "    </tr>\n",
       "    <tr>\n",
       "      <th>5</th>\n",
       "      <td>scc_025</td>\n",
       "      <td>[3, 3, 3, 3, 3, 3, 3, 3, 3, 3, 3, 3, 3, 3, 3, ...</td>\n",
       "      <td>0.000945</td>\n",
       "      <td>True</td>\n",
       "    </tr>\n",
       "    <tr>\n",
       "      <th>7</th>\n",
       "      <td>scc_020</td>\n",
       "      <td>[4, 4, 4, 4, 4, 4, 4, 4, 4, 4, 4, 4, 4, 4, 4, ...</td>\n",
       "      <td>0.000921</td>\n",
       "      <td>True</td>\n",
       "    </tr>\n",
       "  </tbody>\n",
       "</table>\n",
       "</div>"
      ],
      "text/plain": [
       "    method                                          partition  ari_median  \\\n",
       "k                                                                           \n",
       "2  scc_030  [1, 1, 1, 1, 1, 1, 1, 1, 1, 1, 1, 1, 1, 1, 1, ...    0.005624   \n",
       "3  scc_020  [2, 2, 2, 2, 2, 2, 2, 2, 2, 2, 2, 2, 2, 2, 2, ...    0.005506   \n",
       "6  scc_020  [3, 3, 3, 3, 3, 3, 3, 3, 3, 3, 3, 3, 3, 3, 3, ...    0.001511   \n",
       "5  scc_025  [3, 3, 3, 3, 3, 3, 3, 3, 3, 3, 3, 3, 3, 3, 3, ...    0.000945   \n",
       "7  scc_020  [4, 4, 4, 4, 4, 4, 4, 4, 4, 4, 4, 4, 4, 4, 4, ...    0.000921   \n",
       "\n",
       "   selected  \n",
       "k            \n",
       "2      True  \n",
       "3      True  \n",
       "6      True  \n",
       "5      True  \n",
       "7      True  "
      ]
     },
     "execution_count": 31,
     "metadata": {},
     "output_type": "execute_result"
    }
   ],
   "source": [
    "best_parts.head()"
   ]
  },
  {
   "cell_type": "markdown",
   "id": "0469ff1e",
   "metadata": {
    "papermill": {
     "duration": 0.014458,
     "end_time": "2022-11-27T03:20:12.241431",
     "exception": false,
     "start_time": "2022-11-27T03:20:12.226973",
     "status": "completed"
    },
    "tags": []
   },
   "source": [
    "## Save best partitions per k"
   ]
  },
  {
   "cell_type": "code",
   "execution_count": 32,
   "id": "28b07ee0",
   "metadata": {
    "execution": {
     "iopub.execute_input": "2022-11-27T03:20:12.271113Z",
     "iopub.status.busy": "2022-11-27T03:20:12.270761Z",
     "iopub.status.idle": "2022-11-27T03:20:12.290883Z",
     "shell.execute_reply": "2022-11-27T03:20:12.290431Z"
    },
    "papermill": {
     "duration": 0.036323,
     "end_time": "2022-11-27T03:20:12.292101",
     "exception": false,
     "start_time": "2022-11-27T03:20:12.255778",
     "status": "completed"
    },
    "tags": []
   },
   "outputs": [
    {
     "data": {
      "text/plain": [
       "PosixPath('/opt/data/results/clustering/null_sims/shuffle_genes/consensus_clustering/best_partitions_by_k.pkl')"
      ]
     },
     "metadata": {},
     "output_type": "display_data"
    }
   ],
   "source": [
    "output_file = Path(CONSENSUS_CLUSTERING_DIR, \"best_partitions_by_k.pkl\").resolve()\n",
    "display(output_file)"
   ]
  },
  {
   "cell_type": "code",
   "execution_count": 33,
   "id": "1a314210",
   "metadata": {
    "execution": {
     "iopub.execute_input": "2022-11-27T03:20:12.322220Z",
     "iopub.status.busy": "2022-11-27T03:20:12.321914Z",
     "iopub.status.idle": "2022-11-27T03:20:12.342767Z",
     "shell.execute_reply": "2022-11-27T03:20:12.342296Z"
    },
    "papermill": {
     "duration": 0.037225,
     "end_time": "2022-11-27T03:20:12.344045",
     "exception": false,
     "start_time": "2022-11-27T03:20:12.306820",
     "status": "completed"
    },
    "tags": []
   },
   "outputs": [],
   "source": [
    "best_parts.to_pickle(output_file)"
   ]
  },
  {
   "cell_type": "markdown",
   "id": "9bc2f328",
   "metadata": {
    "papermill": {
     "duration": 0.01433,
     "end_time": "2022-11-27T03:20:12.372900",
     "exception": false,
     "start_time": "2022-11-27T03:20:12.358570",
     "status": "completed"
    },
    "tags": []
   },
   "source": [
    "# Plot of selected best partitions"
   ]
  },
  {
   "cell_type": "code",
   "execution_count": 34,
   "id": "854b2bfd",
   "metadata": {
    "execution": {
     "iopub.execute_input": "2022-11-27T03:20:12.397888Z",
     "iopub.status.busy": "2022-11-27T03:20:12.397555Z",
     "iopub.status.idle": "2022-11-27T03:20:12.429985Z",
     "shell.execute_reply": "2022-11-27T03:20:12.429538Z"
    },
    "papermill": {
     "duration": 0.043519,
     "end_time": "2022-11-27T03:20:12.430803",
     "exception": false,
     "start_time": "2022-11-27T03:20:12.387284",
     "status": "completed"
    },
    "tags": []
   },
   "outputs": [
    {
     "data": {
      "text/html": [
       "<div>\n",
       "<style scoped>\n",
       "    .dataframe tbody tr th:only-of-type {\n",
       "        vertical-align: middle;\n",
       "    }\n",
       "\n",
       "    .dataframe tbody tr th {\n",
       "        vertical-align: top;\n",
       "    }\n",
       "\n",
       "    .dataframe thead th {\n",
       "        text-align: right;\n",
       "    }\n",
       "</style>\n",
       "<table border=\"1\" class=\"dataframe\">\n",
       "  <thead>\n",
       "    <tr style=\"text-align: right;\">\n",
       "      <th></th>\n",
       "      <th>k</th>\n",
       "      <th>method</th>\n",
       "      <th>partition</th>\n",
       "      <th>ari_median</th>\n",
       "      <th>selected</th>\n",
       "    </tr>\n",
       "  </thead>\n",
       "  <tbody>\n",
       "    <tr>\n",
       "      <th>0</th>\n",
       "      <td>2</td>\n",
       "      <td>scc_030</td>\n",
       "      <td>[1, 1, 1, 1, 1, 1, 1, 1, 1, 1, 1, 1, 1, 1, 1, ...</td>\n",
       "      <td>0.005624</td>\n",
       "      <td>True</td>\n",
       "    </tr>\n",
       "    <tr>\n",
       "      <th>1</th>\n",
       "      <td>3</td>\n",
       "      <td>scc_020</td>\n",
       "      <td>[2, 2, 2, 2, 2, 2, 2, 2, 2, 2, 2, 2, 2, 2, 2, ...</td>\n",
       "      <td>0.005506</td>\n",
       "      <td>True</td>\n",
       "    </tr>\n",
       "    <tr>\n",
       "      <th>2</th>\n",
       "      <td>6</td>\n",
       "      <td>scc_020</td>\n",
       "      <td>[3, 3, 3, 3, 3, 3, 3, 3, 3, 3, 3, 3, 3, 3, 3, ...</td>\n",
       "      <td>0.001511</td>\n",
       "      <td>True</td>\n",
       "    </tr>\n",
       "    <tr>\n",
       "      <th>3</th>\n",
       "      <td>5</td>\n",
       "      <td>scc_025</td>\n",
       "      <td>[3, 3, 3, 3, 3, 3, 3, 3, 3, 3, 3, 3, 3, 3, 3, ...</td>\n",
       "      <td>0.000945</td>\n",
       "      <td>True</td>\n",
       "    </tr>\n",
       "    <tr>\n",
       "      <th>4</th>\n",
       "      <td>7</td>\n",
       "      <td>scc_020</td>\n",
       "      <td>[4, 4, 4, 4, 4, 4, 4, 4, 4, 4, 4, 4, 4, 4, 4, ...</td>\n",
       "      <td>0.000921</td>\n",
       "      <td>True</td>\n",
       "    </tr>\n",
       "  </tbody>\n",
       "</table>\n",
       "</div>"
      ],
      "text/plain": [
       "   k   method                                          partition  ari_median  \\\n",
       "0  2  scc_030  [1, 1, 1, 1, 1, 1, 1, 1, 1, 1, 1, 1, 1, 1, 1, ...    0.005624   \n",
       "1  3  scc_020  [2, 2, 2, 2, 2, 2, 2, 2, 2, 2, 2, 2, 2, 2, 2, ...    0.005506   \n",
       "2  6  scc_020  [3, 3, 3, 3, 3, 3, 3, 3, 3, 3, 3, 3, 3, 3, 3, ...    0.001511   \n",
       "3  5  scc_025  [3, 3, 3, 3, 3, 3, 3, 3, 3, 3, 3, 3, 3, 3, 3, ...    0.000945   \n",
       "4  7  scc_020  [4, 4, 4, 4, 4, 4, 4, 4, 4, 4, 4, 4, 4, 4, 4, ...    0.000921   \n",
       "\n",
       "   selected  \n",
       "0      True  \n",
       "1      True  \n",
       "2      True  \n",
       "3      True  \n",
       "4      True  "
      ]
     },
     "metadata": {},
     "output_type": "display_data"
    }
   ],
   "source": [
    "plot_data = best_parts.reset_index()\n",
    "display(plot_data.head(5))"
   ]
  },
  {
   "cell_type": "code",
   "execution_count": 35,
   "id": "1ee1a588",
   "metadata": {
    "execution": {
     "iopub.execute_input": "2022-11-27T03:20:12.447361Z",
     "iopub.status.busy": "2022-11-27T03:20:12.447074Z",
     "iopub.status.idle": "2022-11-27T03:20:13.717263Z",
     "shell.execute_reply": "2022-11-27T03:20:13.716867Z"
    },
    "papermill": {
     "duration": 1.280108,
     "end_time": "2022-11-27T03:20:13.718790",
     "exception": false,
     "start_time": "2022-11-27T03:20:12.438682",
     "status": "completed"
    },
    "tags": []
   },
   "outputs": [
    {
     "data": {
      "image/png": "[encoded data removed]",
      "text/plain": [
       "<Figure size 864x432 with 1 Axes>"
      ]
     },
     "metadata": {},
     "output_type": "display_data"
    }
   ],
   "source": [
    "with sns.plotting_context(\"talk\", font_scale=0.75), sns.axes_style(\n",
    "    \"whitegrid\", {\"grid.linestyle\": \"--\"}\n",
    "), sns.color_palette(\"muted\"):\n",
    "    current_palette = iter(sns.color_palette())\n",
    "\n",
    "    fig, ax = plt.subplots(figsize=(12, 6))\n",
    "    ax = sns.pointplot(\n",
    "        data=plot_data, x=\"k\", y=_measure_col, color=next(current_palette)\n",
    "    )\n",
    "    ax.axhline(\n",
    "        best_threshold,\n",
    "        ls=\"--\",\n",
    "        color=next(current_palette),\n",
    "        label=best_threshold_description,\n",
    "    )\n",
    "    ax.set_ylabel(f\"Agreement with ensemble\\n({_selected_stat} {_selected_measure})\")\n",
    "    ax.set_xlabel(\"Number of clusters ($k$)\")\n",
    "    ax.set_xticklabels(ax.get_xticklabels(), rotation=45)\n",
    "    plt.legend()\n",
    "    plt.grid(True)\n",
    "    plt.tight_layout()"
   ]
  },
  {
   "cell_type": "markdown",
   "id": "b9b3ca3a",
   "metadata": {
    "papermill": {
     "duration": 0.015684,
     "end_time": "2022-11-27T03:20:13.750674",
     "exception": false,
     "start_time": "2022-11-27T03:20:13.734990",
     "status": "completed"
    },
    "tags": []
   },
   "source": [
    "The horizontal line in the plot is the median of the average agreement value; partitions above that line are marked as selected for downstream analysis"
   ]
  },
  {
   "cell_type": "code",
   "execution_count": 36,
   "id": "dfae640f",
   "metadata": {
    "execution": {
     "iopub.execute_input": "2022-11-27T03:20:13.782889Z",
     "iopub.status.busy": "2022-11-27T03:20:13.782568Z",
     "iopub.status.idle": "2022-11-27T03:20:13.810356Z",
     "shell.execute_reply": "2022-11-27T03:20:13.809931Z"
    },
    "papermill": {
     "duration": 0.045137,
     "end_time": "2022-11-27T03:20:13.811574",
     "exception": false,
     "start_time": "2022-11-27T03:20:13.766437",
     "status": "completed"
    },
    "tags": []
   },
   "outputs": [
    {
     "data": {
      "text/html": [
       "<div>\n",
       "<style scoped>\n",
       "    .dataframe tbody tr th:only-of-type {\n",
       "        vertical-align: middle;\n",
       "    }\n",
       "\n",
       "    .dataframe tbody tr th {\n",
       "        vertical-align: top;\n",
       "    }\n",
       "\n",
       "    .dataframe thead th {\n",
       "        text-align: right;\n",
       "    }\n",
       "</style>\n",
       "<table border=\"1\" class=\"dataframe\">\n",
       "  <thead>\n",
       "    <tr style=\"text-align: right;\">\n",
       "      <th></th>\n",
       "      <th>k</th>\n",
       "      <th>method</th>\n",
       "      <th>partition</th>\n",
       "      <th>ari_median</th>\n",
       "      <th>selected</th>\n",
       "    </tr>\n",
       "  </thead>\n",
       "  <tbody>\n",
       "    <tr>\n",
       "      <th>0</th>\n",
       "      <td>2</td>\n",
       "      <td>scc_030</td>\n",
       "      <td>[1, 1, 1, 1, 1, 1, 1, 1, 1, 1, 1, 1, 1, 1, 1, ...</td>\n",
       "      <td>0.005624</td>\n",
       "      <td>True</td>\n",
       "    </tr>\n",
       "    <tr>\n",
       "      <th>1</th>\n",
       "      <td>3</td>\n",
       "      <td>scc_020</td>\n",
       "      <td>[2, 2, 2, 2, 2, 2, 2, 2, 2, 2, 2, 2, 2, 2, 2, ...</td>\n",
       "      <td>0.005506</td>\n",
       "      <td>True</td>\n",
       "    </tr>\n",
       "    <tr>\n",
       "      <th>3</th>\n",
       "      <td>5</td>\n",
       "      <td>scc_025</td>\n",
       "      <td>[3, 3, 3, 3, 3, 3, 3, 3, 3, 3, 3, 3, 3, 3, 3, ...</td>\n",
       "      <td>0.000945</td>\n",
       "      <td>True</td>\n",
       "    </tr>\n",
       "    <tr>\n",
       "      <th>2</th>\n",
       "      <td>6</td>\n",
       "      <td>scc_020</td>\n",
       "      <td>[3, 3, 3, 3, 3, 3, 3, 3, 3, 3, 3, 3, 3, 3, 3, ...</td>\n",
       "      <td>0.001511</td>\n",
       "      <td>True</td>\n",
       "    </tr>\n",
       "    <tr>\n",
       "      <th>4</th>\n",
       "      <td>7</td>\n",
       "      <td>scc_020</td>\n",
       "      <td>[4, 4, 4, 4, 4, 4, 4, 4, 4, 4, 4, 4, 4, 4, 4, ...</td>\n",
       "      <td>0.000921</td>\n",
       "      <td>True</td>\n",
       "    </tr>\n",
       "    <tr>\n",
       "      <th>6</th>\n",
       "      <td>8</td>\n",
       "      <td>scc_020</td>\n",
       "      <td>[2, 2, 2, 2, 2, 2, 2, 2, 2, 2, 2, 2, 2, 2, 2, ...</td>\n",
       "      <td>0.000716</td>\n",
       "      <td>True</td>\n",
       "    </tr>\n",
       "    <tr>\n",
       "      <th>5</th>\n",
       "      <td>9</td>\n",
       "      <td>scc_020</td>\n",
       "      <td>[4, 4, 4, 4, 4, 4, 4, 4, 4, 4, 4, 4, 4, 4, 4, ...</td>\n",
       "      <td>0.000758</td>\n",
       "      <td>True</td>\n",
       "    </tr>\n",
       "    <tr>\n",
       "      <th>11</th>\n",
       "      <td>12</td>\n",
       "      <td>scc_020</td>\n",
       "      <td>[2, 2, 2, 2, 2, 2, 2, 2, 2, 2, 2, 2, 2, 2, 2, ...</td>\n",
       "      <td>0.000590</td>\n",
       "      <td>True</td>\n",
       "    </tr>\n",
       "    <tr>\n",
       "      <th>14</th>\n",
       "      <td>29</td>\n",
       "      <td>scc_020</td>\n",
       "      <td>[27, 27, 27, 27, 27, 27, 27, 27, 27, 27, 27, 2...</td>\n",
       "      <td>0.000551</td>\n",
       "      <td>True</td>\n",
       "    </tr>\n",
       "    <tr>\n",
       "      <th>13</th>\n",
       "      <td>31</td>\n",
       "      <td>scc_050</td>\n",
       "      <td>[18, 18, 18, 18, 18, 18, 18, 18, 18, 18, 18, 1...</td>\n",
       "      <td>0.000551</td>\n",
       "      <td>True</td>\n",
       "    </tr>\n",
       "    <tr>\n",
       "      <th>12</th>\n",
       "      <td>34</td>\n",
       "      <td>scc_050</td>\n",
       "      <td>[31, 31, 31, 31, 31, 31, 31, 31, 31, 31, 31, 3...</td>\n",
       "      <td>0.000560</td>\n",
       "      <td>True</td>\n",
       "    </tr>\n",
       "    <tr>\n",
       "      <th>8</th>\n",
       "      <td>36</td>\n",
       "      <td>scc_050</td>\n",
       "      <td>[17, 17, 17, 17, 17, 17, 17, 17, 17, 17, 17, 1...</td>\n",
       "      <td>0.000630</td>\n",
       "      <td>True</td>\n",
       "    </tr>\n",
       "    <tr>\n",
       "      <th>9</th>\n",
       "      <td>37</td>\n",
       "      <td>scc_050</td>\n",
       "      <td>[29, 29, 29, 29, 29, 29, 29, 29, 29, 29, 29, 2...</td>\n",
       "      <td>0.000624</td>\n",
       "      <td>True</td>\n",
       "    </tr>\n",
       "    <tr>\n",
       "      <th>10</th>\n",
       "      <td>38</td>\n",
       "      <td>scc_050</td>\n",
       "      <td>[15, 15, 15, 15, 15, 15, 15, 15, 15, 15, 15, 1...</td>\n",
       "      <td>0.000605</td>\n",
       "      <td>True</td>\n",
       "    </tr>\n",
       "    <tr>\n",
       "      <th>7</th>\n",
       "      <td>39</td>\n",
       "      <td>scc_050</td>\n",
       "      <td>[15, 15, 15, 15, 15, 15, 15, 15, 15, 15, 15, 1...</td>\n",
       "      <td>0.000639</td>\n",
       "      <td>True</td>\n",
       "    </tr>\n",
       "  </tbody>\n",
       "</table>\n",
       "</div>"
      ],
      "text/plain": [
       "     k   method                                          partition  \\\n",
       "0    2  scc_030  [1, 1, 1, 1, 1, 1, 1, 1, 1, 1, 1, 1, 1, 1, 1, ...   \n",
       "1    3  scc_020  [2, 2, 2, 2, 2, 2, 2, 2, 2, 2, 2, 2, 2, 2, 2, ...   \n",
       "3    5  scc_025  [3, 3, 3, 3, 3, 3, 3, 3, 3, 3, 3, 3, 3, 3, 3, ...   \n",
       "2    6  scc_020  [3, 3, 3, 3, 3, 3, 3, 3, 3, 3, 3, 3, 3, 3, 3, ...   \n",
       "4    7  scc_020  [4, 4, 4, 4, 4, 4, 4, 4, 4, 4, 4, 4, 4, 4, 4, ...   \n",
       "6    8  scc_020  [2, 2, 2, 2, 2, 2, 2, 2, 2, 2, 2, 2, 2, 2, 2, ...   \n",
       "5    9  scc_020  [4, 4, 4, 4, 4, 4, 4, 4, 4, 4, 4, 4, 4, 4, 4, ...   \n",
       "11  12  scc_020  [2, 2, 2, 2, 2, 2, 2, 2, 2, 2, 2, 2, 2, 2, 2, ...   \n",
       "14  29  scc_020  [27, 27, 27, 27, 27, 27, 27, 27, 27, 27, 27, 2...   \n",
       "13  31  scc_050  [18, 18, 18, 18, 18, 18, 18, 18, 18, 18, 18, 1...   \n",
       "12  34  scc_050  [31, 31, 31, 31, 31, 31, 31, 31, 31, 31, 31, 3...   \n",
       "8   36  scc_050  [17, 17, 17, 17, 17, 17, 17, 17, 17, 17, 17, 1...   \n",
       "9   37  scc_050  [29, 29, 29, 29, 29, 29, 29, 29, 29, 29, 29, 2...   \n",
       "10  38  scc_050  [15, 15, 15, 15, 15, 15, 15, 15, 15, 15, 15, 1...   \n",
       "7   39  scc_050  [15, 15, 15, 15, 15, 15, 15, 15, 15, 15, 15, 1...   \n",
       "\n",
       "    ari_median  selected  \n",
       "0     0.005624      True  \n",
       "1     0.005506      True  \n",
       "3     0.000945      True  \n",
       "2     0.001511      True  \n",
       "4     0.000921      True  \n",
       "6     0.000716      True  \n",
       "5     0.000758      True  \n",
       "11    0.000590      True  \n",
       "14    0.000551      True  \n",
       "13    0.000551      True  \n",
       "12    0.000560      True  \n",
       "8     0.000630      True  \n",
       "9     0.000624      True  \n",
       "10    0.000605      True  \n",
       "7     0.000639      True  "
      ]
     },
     "execution_count": 36,
     "metadata": {},
     "output_type": "execute_result"
    }
   ],
   "source": [
    "# this list shows the selected final partitions, and which methods achieved the highest agreement\n",
    "plot_data[plot_data[\"selected\"]].sort_values(\"k\")"
   ]
  },
  {
   "cell_type": "markdown",
   "id": "bbad5687",
   "metadata": {
    "papermill": {
     "duration": 0.015776,
     "end_time": "2022-11-27T03:20:13.843479",
     "exception": false,
     "start_time": "2022-11-27T03:20:13.827703",
     "status": "completed"
    },
    "tags": []
   },
   "source": [
    "From the two evidence accumulation approaches (EAC) we are using, the spectral clustering based one does it better for almost all `k` values, whereas the hierarchical clustering based approach seems to do a little bit better for lower `k`."
   ]
  },
  {
   "cell_type": "code",
   "execution_count": null,
   "id": "fa99f669",
   "metadata": {
    "papermill": {
     "duration": 0.010684,
     "end_time": "2022-11-27T03:20:13.870246",
     "exception": false,
     "start_time": "2022-11-27T03:20:13.859562",
     "status": "completed"
    },
    "tags": []
   },
   "outputs": [],
   "source": []
  }
 ],
 "metadata": {
  "jupytext": {
   "cell_metadata_filter": "all,-execution,-papermill,-trusted",
   "formats": "ipynb,py//py:percent"
  },
  "kernelspec": {
   "display_name": "Python 3 (ipykernel)",
   "language": "python",
   "name": "python3"
  },
  "language_info": {
   "codemirror_mode": {
    "name": "ipython",
    "version": 3
   },
   "file_extension": ".py",
   "mimetype": "text/x-python",
   "name": "python",
   "nbconvert_exporter": "python",
   "pygments_lexer": "ipython3",
   "version": "3.8.13"
  },
  "papermill": {
   "default_parameters": {},
   "duration": 7.777343,
   "end_time": "2022-11-27T03:20:14.194070",
   "environment_variables": {},
   "exception": null,
   "input_path": "nbs/13.1_cluster_analysis_null/00-shuffle_genes/20_02-get_best_partitions.ipynb",
   "output_path": "nbs/13.1_cluster_analysis_null/00-shuffle_genes/20_02-get_best_partitions.run.ipynb",
   "parameters": {},
   "start_time": "2022-11-27T03:20:06.416727",
   "version": "2.2.2"
  },
  "toc-autonumbering": true,
  "toc-showcode": false,
  "toc-showmarkdowntxt": false,
  "toc-showtags": false
 },
 "nbformat": 4,
 "nbformat_minor": 5
}
