{
 "cells": [
  {
   "cell_type": "markdown",
   "id": "585254ef",
   "metadata": {
    "papermill": {
     "duration": 0.009667,
     "end_time": "2022-11-25T04:26:40.325869",
     "exception": false,
     "start_time": "2022-11-25T04:26:40.316202",
     "status": "completed"
    },
    "tags": []
   },
   "source": [
    "# Description"
   ]
  },
  {
   "cell_type": "markdown",
   "id": "db1a91ab",
   "metadata": {
    "papermill": {
     "duration": 0.006983,
     "end_time": "2022-11-25T04:26:40.342856",
     "exception": false,
     "start_time": "2022-11-25T04:26:40.335873",
     "status": "completed"
    },
    "tags": []
   },
   "source": [
    "This notebook implements one of the strategies (one out of two) to generate a null distribution for clustering results.\n",
    "This strategy is referred to as \"Null #1\" in the manuscript. It takes the input data for clustering (matrix **M** with gene-trait pvalues converted to z-scores, with 22k genes and 4k traits) and shuffles genes' pvalues for each trait. Then this shuffled version of matrix M is projected into the latent space. Finally, this projected matrix is used in the clustering pipeline (rest of the notebooks in this folder) to get the results."
   ]
  },
  {
   "cell_type": "markdown",
   "id": "f0beeea1",
   "metadata": {
    "papermill": {
     "duration": 0.004534,
     "end_time": "2022-11-25T04:26:40.352613",
     "exception": false,
     "start_time": "2022-11-25T04:26:40.348079",
     "status": "completed"
    },
    "tags": []
   },
   "source": [
    "# Modules loading"
   ]
  },
  {
   "cell_type": "code",
   "execution_count": 1,
   "id": "cf7dac43",
   "metadata": {
    "execution": {
     "iopub.execute_input": "2022-11-25T04:26:40.362935Z",
     "iopub.status.busy": "2022-11-25T04:26:40.362751Z",
     "iopub.status.idle": "2022-11-25T04:26:40.380214Z",
     "shell.execute_reply": "2022-11-25T04:26:40.379824Z"
    },
    "papermill": {
     "duration": 0.023809,
     "end_time": "2022-11-25T04:26:40.381194",
     "exception": false,
     "start_time": "2022-11-25T04:26:40.357385",
     "status": "completed"
    },
    "tags": []
   },
   "outputs": [],
   "source": [
    "%load_ext autoreload\n",
    "%autoreload 2"
   ]
  },
  {
   "cell_type": "code",
   "execution_count": 2,
   "id": "8a71f25a",
   "metadata": {
    "execution": {
     "iopub.execute_input": "2022-11-25T04:26:40.391377Z",
     "iopub.status.busy": "2022-11-25T04:26:40.391156Z",
     "iopub.status.idle": "2022-11-25T04:26:40.867161Z",
     "shell.execute_reply": "2022-11-25T04:26:40.866821Z"
    },
    "papermill": {
     "duration": 0.482398,
     "end_time": "2022-11-25T04:26:40.868353",
     "exception": false,
     "start_time": "2022-11-25T04:26:40.385955",
     "status": "completed"
    },
    "tags": []
   },
   "outputs": [],
   "source": [
    "from pathlib import Path\n",
    "\n",
    "from IPython.display import display\n",
    "import numpy as np\n",
    "from scipy import stats\n",
    "import pandas as pd\n",
    "import pytest\n",
    "\n",
    "import conf\n",
    "from entity import Gene\n",
    "\n",
    "from multiplier import MultiplierProjection"
   ]
  },
  {
   "cell_type": "markdown",
   "id": "e4af0eab",
   "metadata": {
    "papermill": {
     "duration": 0.010396,
     "end_time": "2022-11-25T04:26:40.885756",
     "exception": false,
     "start_time": "2022-11-25T04:26:40.875360",
     "status": "completed"
    },
    "tags": []
   },
   "source": [
    "# Settings"
   ]
  },
  {
   "cell_type": "code",
   "execution_count": 3,
   "id": "16648fe8-64ee-4f81-893b-f6c3102725b1",
   "metadata": {
    "execution": {
     "iopub.execute_input": "2022-11-25T04:26:40.895756Z",
     "iopub.status.busy": "2022-11-25T04:26:40.895669Z",
     "iopub.status.idle": "2022-11-25T04:26:40.905420Z",
     "shell.execute_reply": "2022-11-25T04:26:40.905137Z"
    },
    "papermill": {
     "duration": 0.015702,
     "end_time": "2022-11-25T04:26:40.906159",
     "exception": false,
     "start_time": "2022-11-25T04:26:40.890457",
     "status": "completed"
    },
    "tags": []
   },
   "outputs": [],
   "source": [
    "NULL_DIR = conf.RESULTS[\"CLUSTERING_NULL_DIR\"] / \"shuffle_genes\""
   ]
  },
  {
   "cell_type": "code",
   "execution_count": 4,
   "id": "cf93b4c6",
   "metadata": {
    "execution": {
     "iopub.execute_input": "2022-11-25T04:26:40.916098Z",
     "iopub.status.busy": "2022-11-25T04:26:40.915992Z",
     "iopub.status.idle": "2022-11-25T04:26:40.928236Z",
     "shell.execute_reply": "2022-11-25T04:26:40.927945Z"
    },
    "papermill": {
     "duration": 0.017962,
     "end_time": "2022-11-25T04:26:40.928977",
     "exception": false,
     "start_time": "2022-11-25T04:26:40.911015",
     "status": "completed"
    },
    "tags": []
   },
   "outputs": [
    {
     "data": {
      "text/plain": [
       "PosixPath('/opt/data/results/clustering/null_sims/shuffle_genes/projections')"
      ]
     },
     "metadata": {},
     "output_type": "display_data"
    }
   ],
   "source": [
    "RESULTS_PROJ_OUTPUT_DIR = Path(\n",
    "    NULL_DIR,\n",
    "    \"projections\",\n",
    ").resolve()\n",
    "RESULTS_PROJ_OUTPUT_DIR.mkdir(parents=True, exist_ok=True)\n",
    "\n",
    "display(RESULTS_PROJ_OUTPUT_DIR)"
   ]
  },
  {
   "cell_type": "code",
   "execution_count": 5,
   "id": "6f40817a",
   "metadata": {
    "execution": {
     "iopub.execute_input": "2022-11-25T04:26:40.939211Z",
     "iopub.status.busy": "2022-11-25T04:26:40.939132Z",
     "iopub.status.idle": "2022-11-25T04:26:40.948338Z",
     "shell.execute_reply": "2022-11-25T04:26:40.948067Z"
    },
    "papermill": {
     "duration": 0.01513,
     "end_time": "2022-11-25T04:26:40.949179",
     "exception": false,
     "start_time": "2022-11-25T04:26:40.934049",
     "status": "completed"
    },
    "tags": []
   },
   "outputs": [],
   "source": [
    "rs = np.random.RandomState(0)"
   ]
  },
  {
   "cell_type": "markdown",
   "id": "5b5410b9",
   "metadata": {
    "papermill": {
     "duration": 0.004678,
     "end_time": "2022-11-25T04:26:40.958663",
     "exception": false,
     "start_time": "2022-11-25T04:26:40.953985",
     "status": "completed"
    },
    "tags": []
   },
   "source": [
    "# Load PhenomeXcan data (S-MultiXcan)"
   ]
  },
  {
   "cell_type": "code",
   "execution_count": 6,
   "id": "a3980135",
   "metadata": {
    "execution": {
     "iopub.execute_input": "2022-11-25T04:26:40.968973Z",
     "iopub.status.busy": "2022-11-25T04:26:40.968857Z",
     "iopub.status.idle": "2022-11-25T04:26:40.980120Z",
     "shell.execute_reply": "2022-11-25T04:26:40.979835Z"
    },
    "papermill": {
     "duration": 0.017052,
     "end_time": "2022-11-25T04:26:40.980845",
     "exception": false,
     "start_time": "2022-11-25T04:26:40.963793",
     "status": "completed"
    },
    "tags": []
   },
   "outputs": [
    {
     "data": {
      "text/plain": [
       "PosixPath('/opt/data/data/phenomexcan/gene_assoc/smultixcan-efo_partial-mashr-zscores.pkl')"
      ]
     },
     "metadata": {},
     "output_type": "display_data"
    }
   ],
   "source": [
    "smultixcan_results_filename = conf.PHENOMEXCAN[\n",
    "    \"SMULTIXCAN_EFO_PARTIAL_MASHR_ZSCORES_FILE\"\n",
    "]\n",
    "\n",
    "display(smultixcan_results_filename)"
   ]
  },
  {
   "cell_type": "code",
   "execution_count": 7,
   "id": "34a57c8e",
   "metadata": {
    "execution": {
     "iopub.execute_input": "2022-11-25T04:26:40.990789Z",
     "iopub.status.busy": "2022-11-25T04:26:40.990655Z",
     "iopub.status.idle": "2022-11-25T04:26:41.000239Z",
     "shell.execute_reply": "2022-11-25T04:26:40.999987Z"
    },
    "papermill": {
     "duration": 0.015274,
     "end_time": "2022-11-25T04:26:41.000928",
     "exception": false,
     "start_time": "2022-11-25T04:26:40.985654",
     "status": "completed"
    },
    "tags": []
   },
   "outputs": [
    {
     "data": {
      "text/plain": [
       "'smultixcan-efo_partial-mashr-zscores'"
      ]
     },
     "metadata": {},
     "output_type": "display_data"
    }
   ],
   "source": [
    "results_filename_stem = smultixcan_results_filename.stem\n",
    "display(results_filename_stem)"
   ]
  },
  {
   "cell_type": "code",
   "execution_count": 8,
   "id": "a4142da4",
   "metadata": {
    "execution": {
     "iopub.execute_input": "2022-11-25T04:26:41.011477Z",
     "iopub.status.busy": "2022-11-25T04:26:41.011373Z",
     "iopub.status.idle": "2022-11-25T04:26:41.209173Z",
     "shell.execute_reply": "2022-11-25T04:26:41.208844Z"
    },
    "papermill": {
     "duration": 0.204679,
     "end_time": "2022-11-25T04:26:41.210340",
     "exception": false,
     "start_time": "2022-11-25T04:26:41.005661",
     "status": "completed"
    },
    "tags": []
   },
   "outputs": [],
   "source": [
    "smultixcan_results = pd.read_pickle(smultixcan_results_filename)"
   ]
  },
  {
   "cell_type": "code",
   "execution_count": 9,
   "id": "b1462283",
   "metadata": {
    "execution": {
     "iopub.execute_input": "2022-11-25T04:26:41.239416Z",
     "iopub.status.busy": "2022-11-25T04:26:41.239297Z",
     "iopub.status.idle": "2022-11-25T04:26:41.250122Z",
     "shell.execute_reply": "2022-11-25T04:26:41.249624Z"
    },
    "papermill": {
     "duration": 0.035522,
     "end_time": "2022-11-25T04:26:41.250941",
     "exception": false,
     "start_time": "2022-11-25T04:26:41.215419",
     "status": "completed"
    },
    "tags": []
   },
   "outputs": [
    {
     "data": {
      "text/plain": [
       "(22515, 3752)"
      ]
     },
     "execution_count": 9,
     "metadata": {},
     "output_type": "execute_result"
    }
   ],
   "source": [
    "smultixcan_results.shape"
   ]
  },
  {
   "cell_type": "code",
   "execution_count": 10,
   "id": "e36aab89",
   "metadata": {
    "execution": {
     "iopub.execute_input": "2022-11-25T04:26:41.261644Z",
     "iopub.status.busy": "2022-11-25T04:26:41.261272Z",
     "iopub.status.idle": "2022-11-25T04:26:41.296551Z",
     "shell.execute_reply": "2022-11-25T04:26:41.296047Z"
    },
    "papermill": {
     "duration": 0.041544,
     "end_time": "2022-11-25T04:26:41.297375",
     "exception": false,
     "start_time": "2022-11-25T04:26:41.255831",
     "status": "completed"
    },
    "tags": []
   },
   "outputs": [
    {
     "data": {
      "text/html": [
       "<div>\n",
       "<style scoped>\n",
       "    .dataframe tbody tr th:only-of-type {\n",
       "        vertical-align: middle;\n",
       "    }\n",
       "\n",
       "    .dataframe tbody tr th {\n",
       "        vertical-align: top;\n",
       "    }\n",
       "\n",
       "    .dataframe thead th {\n",
       "        text-align: right;\n",
       "    }\n",
       "</style>\n",
       "<table border=\"1\" class=\"dataframe\">\n",
       "  <thead>\n",
       "    <tr style=\"text-align: right;\">\n",
       "      <th></th>\n",
       "      <th>100001_raw-Food_weight</th>\n",
       "      <th>100002_raw-Energy</th>\n",
       "      <th>100003_raw-Protein</th>\n",
       "      <th>100004_raw-Fat</th>\n",
       "      <th>100005_raw-Carbohydrate</th>\n",
       "      <th>100006_raw-Saturated_fat</th>\n",
       "      <th>100007_raw-Polyunsaturated_fat</th>\n",
       "      <th>100008_raw-Total_sugars</th>\n",
       "      <th>100009_raw-Englyst_dietary_fibre</th>\n",
       "      <th>100010-Portion_size</th>\n",
       "      <th>...</th>\n",
       "      <th>visual impairment</th>\n",
       "      <th>vitiligo</th>\n",
       "      <th>vitreous body disease</th>\n",
       "      <th>vocal cord polyp</th>\n",
       "      <th>voice disorders</th>\n",
       "      <th>wellbeing measurement AND family relationship</th>\n",
       "      <th>wheezing</th>\n",
       "      <th>whooping cough</th>\n",
       "      <th>worry measurement</th>\n",
       "      <th>wrist fracture</th>\n",
       "    </tr>\n",
       "    <tr>\n",
       "      <th>gene_name</th>\n",
       "      <th></th>\n",
       "      <th></th>\n",
       "      <th></th>\n",
       "      <th></th>\n",
       "      <th></th>\n",
       "      <th></th>\n",
       "      <th></th>\n",
       "      <th></th>\n",
       "      <th></th>\n",
       "      <th></th>\n",
       "      <th></th>\n",
       "      <th></th>\n",
       "      <th></th>\n",
       "      <th></th>\n",
       "      <th></th>\n",
       "      <th></th>\n",
       "      <th></th>\n",
       "      <th></th>\n",
       "      <th></th>\n",
       "      <th></th>\n",
       "      <th></th>\n",
       "    </tr>\n",
       "  </thead>\n",
       "  <tbody>\n",
       "    <tr>\n",
       "      <th>ENSG00000000419</th>\n",
       "      <td>1.145442</td>\n",
       "      <td>0.724557</td>\n",
       "      <td>0.090876</td>\n",
       "      <td>0.298165</td>\n",
       "      <td>1.134347</td>\n",
       "      <td>1.371138</td>\n",
       "      <td>0.065718</td>\n",
       "      <td>0.794317</td>\n",
       "      <td>0.600342</td>\n",
       "      <td>0.317652</td>\n",
       "      <td>...</td>\n",
       "      <td>0.360518</td>\n",
       "      <td>1.351624</td>\n",
       "      <td>1.157695</td>\n",
       "      <td>0.835289</td>\n",
       "      <td>1.173072</td>\n",
       "      <td>1.337280</td>\n",
       "      <td>1.743822</td>\n",
       "      <td>1.017226</td>\n",
       "      <td>1.512184</td>\n",
       "      <td>0.972241</td>\n",
       "    </tr>\n",
       "    <tr>\n",
       "      <th>ENSG00000000457</th>\n",
       "      <td>0.618066</td>\n",
       "      <td>1.028131</td>\n",
       "      <td>2.218420</td>\n",
       "      <td>0.762584</td>\n",
       "      <td>0.934418</td>\n",
       "      <td>0.192993</td>\n",
       "      <td>1.080230</td>\n",
       "      <td>0.765997</td>\n",
       "      <td>0.375898</td>\n",
       "      <td>0.678731</td>\n",
       "      <td>...</td>\n",
       "      <td>2.134504</td>\n",
       "      <td>0.127830</td>\n",
       "      <td>0.534690</td>\n",
       "      <td>0.120516</td>\n",
       "      <td>0.517464</td>\n",
       "      <td>2.545363</td>\n",
       "      <td>0.673331</td>\n",
       "      <td>2.003092</td>\n",
       "      <td>0.344000</td>\n",
       "      <td>2.033122</td>\n",
       "    </tr>\n",
       "    <tr>\n",
       "      <th>ENSG00000000460</th>\n",
       "      <td>0.515724</td>\n",
       "      <td>0.403596</td>\n",
       "      <td>1.251359</td>\n",
       "      <td>0.433091</td>\n",
       "      <td>0.413466</td>\n",
       "      <td>0.246261</td>\n",
       "      <td>1.236151</td>\n",
       "      <td>0.827430</td>\n",
       "      <td>0.571985</td>\n",
       "      <td>0.782174</td>\n",
       "      <td>...</td>\n",
       "      <td>1.768905</td>\n",
       "      <td>0.992408</td>\n",
       "      <td>0.548215</td>\n",
       "      <td>0.412341</td>\n",
       "      <td>1.499415</td>\n",
       "      <td>1.366780</td>\n",
       "      <td>0.443318</td>\n",
       "      <td>0.417630</td>\n",
       "      <td>0.225934</td>\n",
       "      <td>1.613246</td>\n",
       "    </tr>\n",
       "    <tr>\n",
       "      <th>ENSG00000000938</th>\n",
       "      <td>0.280781</td>\n",
       "      <td>0.253910</td>\n",
       "      <td>0.879148</td>\n",
       "      <td>0.352705</td>\n",
       "      <td>0.051846</td>\n",
       "      <td>0.184212</td>\n",
       "      <td>0.148566</td>\n",
       "      <td>0.009989</td>\n",
       "      <td>0.363751</td>\n",
       "      <td>0.374514</td>\n",
       "      <td>...</td>\n",
       "      <td>0.656552</td>\n",
       "      <td>2.046041</td>\n",
       "      <td>2.746832</td>\n",
       "      <td>0.108211</td>\n",
       "      <td>1.008258</td>\n",
       "      <td>0.755695</td>\n",
       "      <td>0.896228</td>\n",
       "      <td>0.875047</td>\n",
       "      <td>0.476405</td>\n",
       "      <td>1.693057</td>\n",
       "    </tr>\n",
       "    <tr>\n",
       "      <th>ENSG00000000971</th>\n",
       "      <td>0.548127</td>\n",
       "      <td>0.389877</td>\n",
       "      <td>0.723469</td>\n",
       "      <td>1.167250</td>\n",
       "      <td>0.315952</td>\n",
       "      <td>0.324939</td>\n",
       "      <td>1.613932</td>\n",
       "      <td>0.311432</td>\n",
       "      <td>0.333548</td>\n",
       "      <td>1.807243</td>\n",
       "      <td>...</td>\n",
       "      <td>0.260482</td>\n",
       "      <td>0.646204</td>\n",
       "      <td>1.080240</td>\n",
       "      <td>0.678330</td>\n",
       "      <td>1.465358</td>\n",
       "      <td>0.307672</td>\n",
       "      <td>0.118376</td>\n",
       "      <td>1.419812</td>\n",
       "      <td>0.000002</td>\n",
       "      <td>1.040737</td>\n",
       "    </tr>\n",
       "  </tbody>\n",
       "</table>\n",
       "<p>5 rows × 3752 columns</p>\n",
       "</div>"
      ],
      "text/plain": [
       "                 100001_raw-Food_weight  100002_raw-Energy  \\\n",
       "gene_name                                                    \n",
       "ENSG00000000419                1.145442           0.724557   \n",
       "ENSG00000000457                0.618066           1.028131   \n",
       "ENSG00000000460                0.515724           0.403596   \n",
       "ENSG00000000938                0.280781           0.253910   \n",
       "ENSG00000000971                0.548127           0.389877   \n",
       "\n",
       "                 100003_raw-Protein  100004_raw-Fat  100005_raw-Carbohydrate  \\\n",
       "gene_name                                                                      \n",
       "ENSG00000000419            0.090876        0.298165                 1.134347   \n",
       "ENSG00000000457            2.218420        0.762584                 0.934418   \n",
       "ENSG00000000460            1.251359        0.433091                 0.413466   \n",
       "ENSG00000000938            0.879148        0.352705                 0.051846   \n",
       "ENSG00000000971            0.723469        1.167250                 0.315952   \n",
       "\n",
       "                 100006_raw-Saturated_fat  100007_raw-Polyunsaturated_fat  \\\n",
       "gene_name                                                                   \n",
       "ENSG00000000419                  1.371138                        0.065718   \n",
       "ENSG00000000457                  0.192993                        1.080230   \n",
       "ENSG00000000460                  0.246261                        1.236151   \n",
       "ENSG00000000938                  0.184212                        0.148566   \n",
       "ENSG00000000971                  0.324939                        1.613932   \n",
       "\n",
       "                 100008_raw-Total_sugars  100009_raw-Englyst_dietary_fibre  \\\n",
       "gene_name                                                                    \n",
       "ENSG00000000419                 0.794317                          0.600342   \n",
       "ENSG00000000457                 0.765997                          0.375898   \n",
       "ENSG00000000460                 0.827430                          0.571985   \n",
       "ENSG00000000938                 0.009989                          0.363751   \n",
       "ENSG00000000971                 0.311432                          0.333548   \n",
       "\n",
       "                 100010-Portion_size  ...  visual impairment  vitiligo  \\\n",
       "gene_name                             ...                                \n",
       "ENSG00000000419             0.317652  ...           0.360518  1.351624   \n",
       "ENSG00000000457             0.678731  ...           2.134504  0.127830   \n",
       "ENSG00000000460             0.782174  ...           1.768905  0.992408   \n",
       "ENSG00000000938             0.374514  ...           0.656552  2.046041   \n",
       "ENSG00000000971             1.807243  ...           0.260482  0.646204   \n",
       "\n",
       "                 vitreous body disease  vocal cord polyp  voice disorders  \\\n",
       "gene_name                                                                   \n",
       "ENSG00000000419               1.157695          0.835289         1.173072   \n",
       "ENSG00000000457               0.534690          0.120516         0.517464   \n",
       "ENSG00000000460               0.548215          0.412341         1.499415   \n",
       "ENSG00000000938               2.746832          0.108211         1.008258   \n",
       "ENSG00000000971               1.080240          0.678330         1.465358   \n",
       "\n",
       "                 wellbeing measurement AND family relationship  wheezing  \\\n",
       "gene_name                                                                  \n",
       "ENSG00000000419                                       1.337280  1.743822   \n",
       "ENSG00000000457                                       2.545363  0.673331   \n",
       "ENSG00000000460                                       1.366780  0.443318   \n",
       "ENSG00000000938                                       0.755695  0.896228   \n",
       "ENSG00000000971                                       0.307672  0.118376   \n",
       "\n",
       "                 whooping cough  worry measurement  wrist fracture  \n",
       "gene_name                                                           \n",
       "ENSG00000000419        1.017226           1.512184        0.972241  \n",
       "ENSG00000000457        2.003092           0.344000        2.033122  \n",
       "ENSG00000000460        0.417630           0.225934        1.613246  \n",
       "ENSG00000000938        0.875047           0.476405        1.693057  \n",
       "ENSG00000000971        1.419812           0.000002        1.040737  \n",
       "\n",
       "[5 rows x 3752 columns]"
      ]
     },
     "execution_count": 10,
     "metadata": {},
     "output_type": "execute_result"
    }
   ],
   "source": [
    "smultixcan_results.head()"
   ]
  },
  {
   "cell_type": "markdown",
   "id": "e491a261",
   "metadata": {
    "papermill": {
     "duration": 0.004933,
     "end_time": "2022-11-25T04:26:41.307794",
     "exception": false,
     "start_time": "2022-11-25T04:26:41.302861",
     "status": "completed"
    },
    "tags": []
   },
   "source": [
    "## Gene IDs to Gene names"
   ]
  },
  {
   "cell_type": "code",
   "execution_count": 11,
   "id": "43700082",
   "metadata": {
    "execution": {
     "iopub.execute_input": "2022-11-25T04:26:41.319017Z",
     "iopub.status.busy": "2022-11-25T04:26:41.318698Z",
     "iopub.status.idle": "2022-11-25T04:26:41.431531Z",
     "shell.execute_reply": "2022-11-25T04:26:41.431197Z"
    },
    "papermill": {
     "duration": 0.119459,
     "end_time": "2022-11-25T04:26:41.432440",
     "exception": false,
     "start_time": "2022-11-25T04:26:41.312981",
     "status": "completed"
    },
    "tags": []
   },
   "outputs": [],
   "source": [
    "smultixcan_results = smultixcan_results.rename(index=Gene.GENE_ID_TO_NAME_MAP)"
   ]
  },
  {
   "cell_type": "code",
   "execution_count": 12,
   "id": "ff720aae",
   "metadata": {
    "execution": {
     "iopub.execute_input": "2022-11-25T04:26:41.450240Z",
     "iopub.status.busy": "2022-11-25T04:26:41.450125Z",
     "iopub.status.idle": "2022-11-25T04:26:41.460274Z",
     "shell.execute_reply": "2022-11-25T04:26:41.460076Z"
    },
    "papermill": {
     "duration": 0.020776,
     "end_time": "2022-11-25T04:26:41.460965",
     "exception": false,
     "start_time": "2022-11-25T04:26:41.440189",
     "status": "completed"
    },
    "tags": []
   },
   "outputs": [
    {
     "data": {
      "text/plain": [
       "(22515, 3752)"
      ]
     },
     "execution_count": 12,
     "metadata": {},
     "output_type": "execute_result"
    }
   ],
   "source": [
    "smultixcan_results.shape"
   ]
  },
  {
   "cell_type": "code",
   "execution_count": 13,
   "id": "c7933f36",
   "metadata": {
    "execution": {
     "iopub.execute_input": "2022-11-25T04:26:41.472297Z",
     "iopub.status.busy": "2022-11-25T04:26:41.472166Z",
     "iopub.status.idle": "2022-11-25T04:26:41.489563Z",
     "shell.execute_reply": "2022-11-25T04:26:41.489362Z"
    },
    "papermill": {
     "duration": 0.024101,
     "end_time": "2022-11-25T04:26:41.490221",
     "exception": false,
     "start_time": "2022-11-25T04:26:41.466120",
     "status": "completed"
    },
    "tags": []
   },
   "outputs": [
    {
     "data": {
      "text/html": [
       "<div>\n",
       "<style scoped>\n",
       "    .dataframe tbody tr th:only-of-type {\n",
       "        vertical-align: middle;\n",
       "    }\n",
       "\n",
       "    .dataframe tbody tr th {\n",
       "        vertical-align: top;\n",
       "    }\n",
       "\n",
       "    .dataframe thead th {\n",
       "        text-align: right;\n",
       "    }\n",
       "</style>\n",
       "<table border=\"1\" class=\"dataframe\">\n",
       "  <thead>\n",
       "    <tr style=\"text-align: right;\">\n",
       "      <th></th>\n",
       "      <th>100001_raw-Food_weight</th>\n",
       "      <th>100002_raw-Energy</th>\n",
       "      <th>100003_raw-Protein</th>\n",
       "      <th>100004_raw-Fat</th>\n",
       "      <th>100005_raw-Carbohydrate</th>\n",
       "      <th>100006_raw-Saturated_fat</th>\n",
       "      <th>100007_raw-Polyunsaturated_fat</th>\n",
       "      <th>100008_raw-Total_sugars</th>\n",
       "      <th>100009_raw-Englyst_dietary_fibre</th>\n",
       "      <th>100010-Portion_size</th>\n",
       "      <th>...</th>\n",
       "      <th>visual impairment</th>\n",
       "      <th>vitiligo</th>\n",
       "      <th>vitreous body disease</th>\n",
       "      <th>vocal cord polyp</th>\n",
       "      <th>voice disorders</th>\n",
       "      <th>wellbeing measurement AND family relationship</th>\n",
       "      <th>wheezing</th>\n",
       "      <th>whooping cough</th>\n",
       "      <th>worry measurement</th>\n",
       "      <th>wrist fracture</th>\n",
       "    </tr>\n",
       "    <tr>\n",
       "      <th>gene_name</th>\n",
       "      <th></th>\n",
       "      <th></th>\n",
       "      <th></th>\n",
       "      <th></th>\n",
       "      <th></th>\n",
       "      <th></th>\n",
       "      <th></th>\n",
       "      <th></th>\n",
       "      <th></th>\n",
       "      <th></th>\n",
       "      <th></th>\n",
       "      <th></th>\n",
       "      <th></th>\n",
       "      <th></th>\n",
       "      <th></th>\n",
       "      <th></th>\n",
       "      <th></th>\n",
       "      <th></th>\n",
       "      <th></th>\n",
       "      <th></th>\n",
       "      <th></th>\n",
       "    </tr>\n",
       "  </thead>\n",
       "  <tbody>\n",
       "    <tr>\n",
       "      <th>DPM1</th>\n",
       "      <td>1.145442</td>\n",
       "      <td>0.724557</td>\n",
       "      <td>0.090876</td>\n",
       "      <td>0.298165</td>\n",
       "      <td>1.134347</td>\n",
       "      <td>1.371138</td>\n",
       "      <td>0.065718</td>\n",
       "      <td>0.794317</td>\n",
       "      <td>0.600342</td>\n",
       "      <td>0.317652</td>\n",
       "      <td>...</td>\n",
       "      <td>0.360518</td>\n",
       "      <td>1.351624</td>\n",
       "      <td>1.157695</td>\n",
       "      <td>0.835289</td>\n",
       "      <td>1.173072</td>\n",
       "      <td>1.337280</td>\n",
       "      <td>1.743822</td>\n",
       "      <td>1.017226</td>\n",
       "      <td>1.512184</td>\n",
       "      <td>0.972241</td>\n",
       "    </tr>\n",
       "    <tr>\n",
       "      <th>SCYL3</th>\n",
       "      <td>0.618066</td>\n",
       "      <td>1.028131</td>\n",
       "      <td>2.218420</td>\n",
       "      <td>0.762584</td>\n",
       "      <td>0.934418</td>\n",
       "      <td>0.192993</td>\n",
       "      <td>1.080230</td>\n",
       "      <td>0.765997</td>\n",
       "      <td>0.375898</td>\n",
       "      <td>0.678731</td>\n",
       "      <td>...</td>\n",
       "      <td>2.134504</td>\n",
       "      <td>0.127830</td>\n",
       "      <td>0.534690</td>\n",
       "      <td>0.120516</td>\n",
       "      <td>0.517464</td>\n",
       "      <td>2.545363</td>\n",
       "      <td>0.673331</td>\n",
       "      <td>2.003092</td>\n",
       "      <td>0.344000</td>\n",
       "      <td>2.033122</td>\n",
       "    </tr>\n",
       "    <tr>\n",
       "      <th>C1orf112</th>\n",
       "      <td>0.515724</td>\n",
       "      <td>0.403596</td>\n",
       "      <td>1.251359</td>\n",
       "      <td>0.433091</td>\n",
       "      <td>0.413466</td>\n",
       "      <td>0.246261</td>\n",
       "      <td>1.236151</td>\n",
       "      <td>0.827430</td>\n",
       "      <td>0.571985</td>\n",
       "      <td>0.782174</td>\n",
       "      <td>...</td>\n",
       "      <td>1.768905</td>\n",
       "      <td>0.992408</td>\n",
       "      <td>0.548215</td>\n",
       "      <td>0.412341</td>\n",
       "      <td>1.499415</td>\n",
       "      <td>1.366780</td>\n",
       "      <td>0.443318</td>\n",
       "      <td>0.417630</td>\n",
       "      <td>0.225934</td>\n",
       "      <td>1.613246</td>\n",
       "    </tr>\n",
       "    <tr>\n",
       "      <th>FGR</th>\n",
       "      <td>0.280781</td>\n",
       "      <td>0.253910</td>\n",
       "      <td>0.879148</td>\n",
       "      <td>0.352705</td>\n",
       "      <td>0.051846</td>\n",
       "      <td>0.184212</td>\n",
       "      <td>0.148566</td>\n",
       "      <td>0.009989</td>\n",
       "      <td>0.363751</td>\n",
       "      <td>0.374514</td>\n",
       "      <td>...</td>\n",
       "      <td>0.656552</td>\n",
       "      <td>2.046041</td>\n",
       "      <td>2.746832</td>\n",
       "      <td>0.108211</td>\n",
       "      <td>1.008258</td>\n",
       "      <td>0.755695</td>\n",
       "      <td>0.896228</td>\n",
       "      <td>0.875047</td>\n",
       "      <td>0.476405</td>\n",
       "      <td>1.693057</td>\n",
       "    </tr>\n",
       "    <tr>\n",
       "      <th>CFH</th>\n",
       "      <td>0.548127</td>\n",
       "      <td>0.389877</td>\n",
       "      <td>0.723469</td>\n",
       "      <td>1.167250</td>\n",
       "      <td>0.315952</td>\n",
       "      <td>0.324939</td>\n",
       "      <td>1.613932</td>\n",
       "      <td>0.311432</td>\n",
       "      <td>0.333548</td>\n",
       "      <td>1.807243</td>\n",
       "      <td>...</td>\n",
       "      <td>0.260482</td>\n",
       "      <td>0.646204</td>\n",
       "      <td>1.080240</td>\n",
       "      <td>0.678330</td>\n",
       "      <td>1.465358</td>\n",
       "      <td>0.307672</td>\n",
       "      <td>0.118376</td>\n",
       "      <td>1.419812</td>\n",
       "      <td>0.000002</td>\n",
       "      <td>1.040737</td>\n",
       "    </tr>\n",
       "  </tbody>\n",
       "</table>\n",
       "<p>5 rows × 3752 columns</p>\n",
       "</div>"
      ],
      "text/plain": [
       "           100001_raw-Food_weight  100002_raw-Energy  100003_raw-Protein  \\\n",
       "gene_name                                                                  \n",
       "DPM1                     1.145442           0.724557            0.090876   \n",
       "SCYL3                    0.618066           1.028131            2.218420   \n",
       "C1orf112                 0.515724           0.403596            1.251359   \n",
       "FGR                      0.280781           0.253910            0.879148   \n",
       "CFH                      0.548127           0.389877            0.723469   \n",
       "\n",
       "           100004_raw-Fat  100005_raw-Carbohydrate  100006_raw-Saturated_fat  \\\n",
       "gene_name                                                                      \n",
       "DPM1             0.298165                 1.134347                  1.371138   \n",
       "SCYL3            0.762584                 0.934418                  0.192993   \n",
       "C1orf112         0.433091                 0.413466                  0.246261   \n",
       "FGR              0.352705                 0.051846                  0.184212   \n",
       "CFH              1.167250                 0.315952                  0.324939   \n",
       "\n",
       "           100007_raw-Polyunsaturated_fat  100008_raw-Total_sugars  \\\n",
       "gene_name                                                            \n",
       "DPM1                             0.065718                 0.794317   \n",
       "SCYL3                            1.080230                 0.765997   \n",
       "C1orf112                         1.236151                 0.827430   \n",
       "FGR                              0.148566                 0.009989   \n",
       "CFH                              1.613932                 0.311432   \n",
       "\n",
       "           100009_raw-Englyst_dietary_fibre  100010-Portion_size  ...  \\\n",
       "gene_name                                                         ...   \n",
       "DPM1                               0.600342             0.317652  ...   \n",
       "SCYL3                              0.375898             0.678731  ...   \n",
       "C1orf112                           0.571985             0.782174  ...   \n",
       "FGR                                0.363751             0.374514  ...   \n",
       "CFH                                0.333548             1.807243  ...   \n",
       "\n",
       "           visual impairment  vitiligo  vitreous body disease  \\\n",
       "gene_name                                                       \n",
       "DPM1                0.360518  1.351624               1.157695   \n",
       "SCYL3               2.134504  0.127830               0.534690   \n",
       "C1orf112            1.768905  0.992408               0.548215   \n",
       "FGR                 0.656552  2.046041               2.746832   \n",
       "CFH                 0.260482  0.646204               1.080240   \n",
       "\n",
       "           vocal cord polyp  voice disorders  \\\n",
       "gene_name                                      \n",
       "DPM1               0.835289         1.173072   \n",
       "SCYL3              0.120516         0.517464   \n",
       "C1orf112           0.412341         1.499415   \n",
       "FGR                0.108211         1.008258   \n",
       "CFH                0.678330         1.465358   \n",
       "\n",
       "           wellbeing measurement AND family relationship  wheezing  \\\n",
       "gene_name                                                            \n",
       "DPM1                                            1.337280  1.743822   \n",
       "SCYL3                                           2.545363  0.673331   \n",
       "C1orf112                                        1.366780  0.443318   \n",
       "FGR                                             0.755695  0.896228   \n",
       "CFH                                             0.307672  0.118376   \n",
       "\n",
       "           whooping cough  worry measurement  wrist fracture  \n",
       "gene_name                                                     \n",
       "DPM1             1.017226           1.512184        0.972241  \n",
       "SCYL3            2.003092           0.344000        2.033122  \n",
       "C1orf112         0.417630           0.225934        1.613246  \n",
       "FGR              0.875047           0.476405        1.693057  \n",
       "CFH              1.419812           0.000002        1.040737  \n",
       "\n",
       "[5 rows x 3752 columns]"
      ]
     },
     "execution_count": 13,
     "metadata": {},
     "output_type": "execute_result"
    }
   ],
   "source": [
    "smultixcan_results.head()"
   ]
  },
  {
   "cell_type": "markdown",
   "id": "d59b9406",
   "metadata": {
    "papermill": {
     "duration": 0.005347,
     "end_time": "2022-11-25T04:26:41.501039",
     "exception": false,
     "start_time": "2022-11-25T04:26:41.495692",
     "status": "completed"
    },
    "tags": []
   },
   "source": [
    "## Remove duplicated gene entries"
   ]
  },
  {
   "cell_type": "code",
   "execution_count": 14,
   "id": "718e4686",
   "metadata": {
    "execution": {
     "iopub.execute_input": "2022-11-25T04:26:41.512687Z",
     "iopub.status.busy": "2022-11-25T04:26:41.512488Z",
     "iopub.status.idle": "2022-11-25T04:26:41.524314Z",
     "shell.execute_reply": "2022-11-25T04:26:41.524109Z"
    },
    "papermill": {
     "duration": 0.018376,
     "end_time": "2022-11-25T04:26:41.524990",
     "exception": false,
     "start_time": "2022-11-25T04:26:41.506614",
     "status": "completed"
    },
    "tags": []
   },
   "outputs": [
    {
     "data": {
      "text/plain": [
       "Index(['SPATA13', 'LINC01422', 'LINC00484', 'MAL2', 'GOLGA8M', 'LINC01115',\n",
       "       'LYNX1'],\n",
       "      dtype='object', name='gene_name')"
      ]
     },
     "execution_count": 14,
     "metadata": {},
     "output_type": "execute_result"
    }
   ],
   "source": [
    "smultixcan_results.index[smultixcan_results.index.duplicated(keep=\"first\")]"
   ]
  },
  {
   "cell_type": "code",
   "execution_count": 15,
   "id": "3dc9d2ee",
   "metadata": {
    "execution": {
     "iopub.execute_input": "2022-11-25T04:26:41.536667Z",
     "iopub.status.busy": "2022-11-25T04:26:41.536442Z",
     "iopub.status.idle": "2022-11-25T04:26:41.655850Z",
     "shell.execute_reply": "2022-11-25T04:26:41.655522Z"
    },
    "papermill": {
     "duration": 0.126103,
     "end_time": "2022-11-25T04:26:41.656832",
     "exception": false,
     "start_time": "2022-11-25T04:26:41.530729",
     "status": "completed"
    },
    "tags": []
   },
   "outputs": [],
   "source": [
    "smultixcan_results = smultixcan_results.loc[\n",
    "    ~smultixcan_results.index.duplicated(keep=\"first\")\n",
    "]"
   ]
  },
  {
   "cell_type": "code",
   "execution_count": 16,
   "id": "6c474494",
   "metadata": {
    "execution": {
     "iopub.execute_input": "2022-11-25T04:26:41.674495Z",
     "iopub.status.busy": "2022-11-25T04:26:41.674391Z",
     "iopub.status.idle": "2022-11-25T04:26:41.685378Z",
     "shell.execute_reply": "2022-11-25T04:26:41.685103Z"
    },
    "papermill": {
     "duration": 0.022357,
     "end_time": "2022-11-25T04:26:41.686085",
     "exception": false,
     "start_time": "2022-11-25T04:26:41.663728",
     "status": "completed"
    },
    "tags": []
   },
   "outputs": [
    {
     "data": {
      "text/plain": [
       "(22508, 3752)"
      ]
     },
     "execution_count": 16,
     "metadata": {},
     "output_type": "execute_result"
    }
   ],
   "source": [
    "smultixcan_results.shape"
   ]
  },
  {
   "cell_type": "markdown",
   "id": "467a4acf",
   "metadata": {
    "papermill": {
     "duration": 0.005419,
     "end_time": "2022-11-25T04:26:41.696969",
     "exception": false,
     "start_time": "2022-11-25T04:26:41.691550",
     "status": "completed"
    },
    "tags": []
   },
   "source": [
    "## Some checks"
   ]
  },
  {
   "cell_type": "code",
   "execution_count": 17,
   "id": "52eca2c0",
   "metadata": {
    "execution": {
     "iopub.execute_input": "2022-11-25T04:26:41.708539Z",
     "iopub.status.busy": "2022-11-25T04:26:41.708399Z",
     "iopub.status.idle": "2022-11-25T04:26:41.929872Z",
     "shell.execute_reply": "2022-11-25T04:26:41.929546Z"
    },
    "papermill": {
     "duration": 0.228668,
     "end_time": "2022-11-25T04:26:41.931291",
     "exception": false,
     "start_time": "2022-11-25T04:26:41.702623",
     "status": "completed"
    },
    "tags": []
   },
   "outputs": [],
   "source": [
    "# the data should have no NaN values\n",
    "assert smultixcan_results.shape == smultixcan_results.dropna(how=\"any\").shape"
   ]
  },
  {
   "cell_type": "markdown",
   "id": "c215a3e5",
   "metadata": {
    "papermill": {
     "duration": 0.010151,
     "end_time": "2022-11-25T04:26:41.949864",
     "exception": false,
     "start_time": "2022-11-25T04:26:41.939713",
     "status": "completed"
    },
    "tags": []
   },
   "source": [
    "# Standardize S-MultiXcan results"
   ]
  },
  {
   "cell_type": "markdown",
   "id": "ec3ebde7",
   "metadata": {
    "papermill": {
     "duration": 0.005407,
     "end_time": "2022-11-25T04:26:41.960667",
     "exception": false,
     "start_time": "2022-11-25T04:26:41.955260",
     "status": "completed"
    },
    "tags": []
   },
   "source": [
    "Here we adjust for highly polygenic traits (see notebook `005_00-data_analysis.ipynb`): we penalize those traits that have large effect sizes across several genes, such as antropometric traits."
   ]
  },
  {
   "cell_type": "code",
   "execution_count": 18,
   "id": "cc318c5b",
   "metadata": {
    "execution": {
     "iopub.execute_input": "2022-11-25T04:26:41.972272Z",
     "iopub.status.busy": "2022-11-25T04:26:41.972132Z",
     "iopub.status.idle": "2022-11-25T04:26:43.129869Z",
     "shell.execute_reply": "2022-11-25T04:26:43.129542Z"
    },
    "papermill": {
     "duration": 1.165027,
     "end_time": "2022-11-25T04:26:43.131274",
     "exception": false,
     "start_time": "2022-11-25T04:26:41.966247",
     "status": "completed"
    },
    "tags": []
   },
   "outputs": [],
   "source": [
    "_tmp = smultixcan_results.apply(lambda x: x / x.sum())"
   ]
  },
  {
   "cell_type": "code",
   "execution_count": 19,
   "id": "218b29e6",
   "metadata": {
    "execution": {
     "iopub.execute_input": "2022-11-25T04:26:43.153444Z",
     "iopub.status.busy": "2022-11-25T04:26:43.153320Z",
     "iopub.status.idle": "2022-11-25T04:26:43.163909Z",
     "shell.execute_reply": "2022-11-25T04:26:43.163652Z"
    },
    "papermill": {
     "duration": 0.021521,
     "end_time": "2022-11-25T04:26:43.164608",
     "exception": false,
     "start_time": "2022-11-25T04:26:43.143087",
     "status": "completed"
    },
    "tags": []
   },
   "outputs": [
    {
     "data": {
      "text/plain": [
       "(22508, 3752)"
      ]
     },
     "execution_count": 19,
     "metadata": {},
     "output_type": "execute_result"
    }
   ],
   "source": [
    "_tmp.shape"
   ]
  },
  {
   "cell_type": "code",
   "execution_count": 20,
   "id": "6236e6e5",
   "metadata": {
    "execution": {
     "iopub.execute_input": "2022-11-25T04:26:43.176426Z",
     "iopub.status.busy": "2022-11-25T04:26:43.176215Z",
     "iopub.status.idle": "2022-11-25T04:26:43.185171Z",
     "shell.execute_reply": "2022-11-25T04:26:43.184905Z"
    },
    "papermill": {
     "duration": 0.015781,
     "end_time": "2022-11-25T04:26:43.185857",
     "exception": false,
     "start_time": "2022-11-25T04:26:43.170076",
     "status": "completed"
    },
    "tags": []
   },
   "outputs": [],
   "source": [
    "assert _tmp.shape == smultixcan_results.shape"
   ]
  },
  {
   "cell_type": "code",
   "execution_count": 21,
   "id": "559fe6ce",
   "metadata": {
    "execution": {
     "iopub.execute_input": "2022-11-25T04:26:43.197384Z",
     "iopub.status.busy": "2022-11-25T04:26:43.197280Z",
     "iopub.status.idle": "2022-11-25T04:26:43.209407Z",
     "shell.execute_reply": "2022-11-25T04:26:43.209113Z"
    },
    "papermill": {
     "duration": 0.018735,
     "end_time": "2022-11-25T04:26:43.210114",
     "exception": false,
     "start_time": "2022-11-25T04:26:43.191379",
     "status": "completed"
    },
    "tags": []
   },
   "outputs": [],
   "source": [
    "# some testing\n",
    "_trait = \"body height\"\n",
    "_gene = \"SCYL3\"\n",
    "assert (\n",
    "    _tmp.loc[_gene, _trait]\n",
    "    == smultixcan_results.loc[_gene, _trait] / smultixcan_results[_trait].sum()\n",
    ")\n",
    "\n",
    "_trait = \"100001_raw-Food_weight\"\n",
    "_gene = \"DPM1\"\n",
    "assert (\n",
    "    _tmp.loc[_gene, _trait]\n",
    "    == smultixcan_results.loc[_gene, _trait] / smultixcan_results[_trait].sum()\n",
    ")\n",
    "\n",
    "_trait = \"estrogen-receptor negative breast cancer\"\n",
    "_gene = \"CFH\"\n",
    "assert (\n",
    "    _tmp.loc[_gene, _trait]\n",
    "    == smultixcan_results.loc[_gene, _trait] / smultixcan_results[_trait].sum()\n",
    ")\n",
    "\n",
    "_trait = \"asthma\"\n",
    "_gene = \"C1orf112\"\n",
    "assert (\n",
    "    _tmp.loc[_gene, _trait]\n",
    "    == smultixcan_results.loc[_gene, _trait] / smultixcan_results[_trait].sum()\n",
    ")"
   ]
  },
  {
   "cell_type": "code",
   "execution_count": 22,
   "id": "2c15bdb1",
   "metadata": {
    "execution": {
     "iopub.execute_input": "2022-11-25T04:26:43.221928Z",
     "iopub.status.busy": "2022-11-25T04:26:43.221795Z",
     "iopub.status.idle": "2022-11-25T04:26:43.237809Z",
     "shell.execute_reply": "2022-11-25T04:26:43.237341Z"
    },
    "papermill": {
     "duration": 0.022759,
     "end_time": "2022-11-25T04:26:43.238710",
     "exception": false,
     "start_time": "2022-11-25T04:26:43.215951",
     "status": "completed"
    },
    "tags": []
   },
   "outputs": [],
   "source": [
    "smultixcan_results = _tmp"
   ]
  },
  {
   "cell_type": "code",
   "execution_count": 23,
   "id": "8b7c3ac1",
   "metadata": {
    "execution": {
     "iopub.execute_input": "2022-11-25T04:26:43.250616Z",
     "iopub.status.busy": "2022-11-25T04:26:43.250394Z",
     "iopub.status.idle": "2022-11-25T04:26:43.279756Z",
     "shell.execute_reply": "2022-11-25T04:26:43.279332Z"
    },
    "papermill": {
     "duration": 0.036515,
     "end_time": "2022-11-25T04:26:43.280805",
     "exception": false,
     "start_time": "2022-11-25T04:26:43.244290",
     "status": "completed"
    },
    "tags": []
   },
   "outputs": [
    {
     "data": {
      "text/html": [
       "<div>\n",
       "<style scoped>\n",
       "    .dataframe tbody tr th:only-of-type {\n",
       "        vertical-align: middle;\n",
       "    }\n",
       "\n",
       "    .dataframe tbody tr th {\n",
       "        vertical-align: top;\n",
       "    }\n",
       "\n",
       "    .dataframe thead th {\n",
       "        text-align: right;\n",
       "    }\n",
       "</style>\n",
       "<table border=\"1\" class=\"dataframe\">\n",
       "  <thead>\n",
       "    <tr style=\"text-align: right;\">\n",
       "      <th></th>\n",
       "      <th>100001_raw-Food_weight</th>\n",
       "      <th>100002_raw-Energy</th>\n",
       "      <th>100003_raw-Protein</th>\n",
       "      <th>100004_raw-Fat</th>\n",
       "      <th>100005_raw-Carbohydrate</th>\n",
       "      <th>100006_raw-Saturated_fat</th>\n",
       "      <th>100007_raw-Polyunsaturated_fat</th>\n",
       "      <th>100008_raw-Total_sugars</th>\n",
       "      <th>100009_raw-Englyst_dietary_fibre</th>\n",
       "      <th>100010-Portion_size</th>\n",
       "      <th>...</th>\n",
       "      <th>visual impairment</th>\n",
       "      <th>vitiligo</th>\n",
       "      <th>vitreous body disease</th>\n",
       "      <th>vocal cord polyp</th>\n",
       "      <th>voice disorders</th>\n",
       "      <th>wellbeing measurement AND family relationship</th>\n",
       "      <th>wheezing</th>\n",
       "      <th>whooping cough</th>\n",
       "      <th>worry measurement</th>\n",
       "      <th>wrist fracture</th>\n",
       "    </tr>\n",
       "    <tr>\n",
       "      <th>gene_name</th>\n",
       "      <th></th>\n",
       "      <th></th>\n",
       "      <th></th>\n",
       "      <th></th>\n",
       "      <th></th>\n",
       "      <th></th>\n",
       "      <th></th>\n",
       "      <th></th>\n",
       "      <th></th>\n",
       "      <th></th>\n",
       "      <th></th>\n",
       "      <th></th>\n",
       "      <th></th>\n",
       "      <th></th>\n",
       "      <th></th>\n",
       "      <th></th>\n",
       "      <th></th>\n",
       "      <th></th>\n",
       "      <th></th>\n",
       "      <th></th>\n",
       "      <th></th>\n",
       "    </tr>\n",
       "  </thead>\n",
       "  <tbody>\n",
       "    <tr>\n",
       "      <th>DPM1</th>\n",
       "      <td>0.000060</td>\n",
       "      <td>0.000039</td>\n",
       "      <td>0.000005</td>\n",
       "      <td>0.000016</td>\n",
       "      <td>0.000061</td>\n",
       "      <td>0.000075</td>\n",
       "      <td>0.000004</td>\n",
       "      <td>4.254814e-05</td>\n",
       "      <td>0.000031</td>\n",
       "      <td>0.000017</td>\n",
       "      <td>...</td>\n",
       "      <td>0.000020</td>\n",
       "      <td>0.000075</td>\n",
       "      <td>0.000064</td>\n",
       "      <td>0.000047</td>\n",
       "      <td>0.000066</td>\n",
       "      <td>0.000066</td>\n",
       "      <td>0.000069</td>\n",
       "      <td>0.000058</td>\n",
       "      <td>6.250232e-05</td>\n",
       "      <td>0.000034</td>\n",
       "    </tr>\n",
       "    <tr>\n",
       "      <th>SCYL3</th>\n",
       "      <td>0.000033</td>\n",
       "      <td>0.000055</td>\n",
       "      <td>0.000119</td>\n",
       "      <td>0.000041</td>\n",
       "      <td>0.000050</td>\n",
       "      <td>0.000011</td>\n",
       "      <td>0.000059</td>\n",
       "      <td>4.103114e-05</td>\n",
       "      <td>0.000020</td>\n",
       "      <td>0.000036</td>\n",
       "      <td>...</td>\n",
       "      <td>0.000118</td>\n",
       "      <td>0.000007</td>\n",
       "      <td>0.000030</td>\n",
       "      <td>0.000007</td>\n",
       "      <td>0.000029</td>\n",
       "      <td>0.000126</td>\n",
       "      <td>0.000027</td>\n",
       "      <td>0.000114</td>\n",
       "      <td>1.421837e-05</td>\n",
       "      <td>0.000070</td>\n",
       "    </tr>\n",
       "    <tr>\n",
       "      <th>C1orf112</th>\n",
       "      <td>0.000027</td>\n",
       "      <td>0.000022</td>\n",
       "      <td>0.000067</td>\n",
       "      <td>0.000023</td>\n",
       "      <td>0.000022</td>\n",
       "      <td>0.000014</td>\n",
       "      <td>0.000067</td>\n",
       "      <td>4.432186e-05</td>\n",
       "      <td>0.000030</td>\n",
       "      <td>0.000041</td>\n",
       "      <td>...</td>\n",
       "      <td>0.000098</td>\n",
       "      <td>0.000055</td>\n",
       "      <td>0.000030</td>\n",
       "      <td>0.000023</td>\n",
       "      <td>0.000084</td>\n",
       "      <td>0.000068</td>\n",
       "      <td>0.000018</td>\n",
       "      <td>0.000024</td>\n",
       "      <td>9.338414e-06</td>\n",
       "      <td>0.000056</td>\n",
       "    </tr>\n",
       "    <tr>\n",
       "      <th>FGR</th>\n",
       "      <td>0.000015</td>\n",
       "      <td>0.000014</td>\n",
       "      <td>0.000047</td>\n",
       "      <td>0.000019</td>\n",
       "      <td>0.000003</td>\n",
       "      <td>0.000010</td>\n",
       "      <td>0.000008</td>\n",
       "      <td>5.350929e-07</td>\n",
       "      <td>0.000019</td>\n",
       "      <td>0.000020</td>\n",
       "      <td>...</td>\n",
       "      <td>0.000036</td>\n",
       "      <td>0.000114</td>\n",
       "      <td>0.000152</td>\n",
       "      <td>0.000006</td>\n",
       "      <td>0.000057</td>\n",
       "      <td>0.000038</td>\n",
       "      <td>0.000035</td>\n",
       "      <td>0.000050</td>\n",
       "      <td>1.969101e-05</td>\n",
       "      <td>0.000058</td>\n",
       "    </tr>\n",
       "    <tr>\n",
       "      <th>CFH</th>\n",
       "      <td>0.000029</td>\n",
       "      <td>0.000021</td>\n",
       "      <td>0.000039</td>\n",
       "      <td>0.000063</td>\n",
       "      <td>0.000017</td>\n",
       "      <td>0.000018</td>\n",
       "      <td>0.000088</td>\n",
       "      <td>1.668206e-05</td>\n",
       "      <td>0.000017</td>\n",
       "      <td>0.000095</td>\n",
       "      <td>...</td>\n",
       "      <td>0.000014</td>\n",
       "      <td>0.000036</td>\n",
       "      <td>0.000060</td>\n",
       "      <td>0.000038</td>\n",
       "      <td>0.000083</td>\n",
       "      <td>0.000015</td>\n",
       "      <td>0.000005</td>\n",
       "      <td>0.000081</td>\n",
       "      <td>8.895497e-11</td>\n",
       "      <td>0.000036</td>\n",
       "    </tr>\n",
       "  </tbody>\n",
       "</table>\n",
       "<p>5 rows × 3752 columns</p>\n",
       "</div>"
      ],
      "text/plain": [
       "           100001_raw-Food_weight  100002_raw-Energy  100003_raw-Protein  \\\n",
       "gene_name                                                                  \n",
       "DPM1                     0.000060           0.000039            0.000005   \n",
       "SCYL3                    0.000033           0.000055            0.000119   \n",
       "C1orf112                 0.000027           0.000022            0.000067   \n",
       "FGR                      0.000015           0.000014            0.000047   \n",
       "CFH                      0.000029           0.000021            0.000039   \n",
       "\n",
       "           100004_raw-Fat  100005_raw-Carbohydrate  100006_raw-Saturated_fat  \\\n",
       "gene_name                                                                      \n",
       "DPM1             0.000016                 0.000061                  0.000075   \n",
       "SCYL3            0.000041                 0.000050                  0.000011   \n",
       "C1orf112         0.000023                 0.000022                  0.000014   \n",
       "FGR              0.000019                 0.000003                  0.000010   \n",
       "CFH              0.000063                 0.000017                  0.000018   \n",
       "\n",
       "           100007_raw-Polyunsaturated_fat  100008_raw-Total_sugars  \\\n",
       "gene_name                                                            \n",
       "DPM1                             0.000004             4.254814e-05   \n",
       "SCYL3                            0.000059             4.103114e-05   \n",
       "C1orf112                         0.000067             4.432186e-05   \n",
       "FGR                              0.000008             5.350929e-07   \n",
       "CFH                              0.000088             1.668206e-05   \n",
       "\n",
       "           100009_raw-Englyst_dietary_fibre  100010-Portion_size  ...  \\\n",
       "gene_name                                                         ...   \n",
       "DPM1                               0.000031             0.000017  ...   \n",
       "SCYL3                              0.000020             0.000036  ...   \n",
       "C1orf112                           0.000030             0.000041  ...   \n",
       "FGR                                0.000019             0.000020  ...   \n",
       "CFH                                0.000017             0.000095  ...   \n",
       "\n",
       "           visual impairment  vitiligo  vitreous body disease  \\\n",
       "gene_name                                                       \n",
       "DPM1                0.000020  0.000075               0.000064   \n",
       "SCYL3               0.000118  0.000007               0.000030   \n",
       "C1orf112            0.000098  0.000055               0.000030   \n",
       "FGR                 0.000036  0.000114               0.000152   \n",
       "CFH                 0.000014  0.000036               0.000060   \n",
       "\n",
       "           vocal cord polyp  voice disorders  \\\n",
       "gene_name                                      \n",
       "DPM1               0.000047         0.000066   \n",
       "SCYL3              0.000007         0.000029   \n",
       "C1orf112           0.000023         0.000084   \n",
       "FGR                0.000006         0.000057   \n",
       "CFH                0.000038         0.000083   \n",
       "\n",
       "           wellbeing measurement AND family relationship  wheezing  \\\n",
       "gene_name                                                            \n",
       "DPM1                                            0.000066  0.000069   \n",
       "SCYL3                                           0.000126  0.000027   \n",
       "C1orf112                                        0.000068  0.000018   \n",
       "FGR                                             0.000038  0.000035   \n",
       "CFH                                             0.000015  0.000005   \n",
       "\n",
       "           whooping cough  worry measurement  wrist fracture  \n",
       "gene_name                                                     \n",
       "DPM1             0.000058       6.250232e-05        0.000034  \n",
       "SCYL3            0.000114       1.421837e-05        0.000070  \n",
       "C1orf112         0.000024       9.338414e-06        0.000056  \n",
       "FGR              0.000050       1.969101e-05        0.000058  \n",
       "CFH              0.000081       8.895497e-11        0.000036  \n",
       "\n",
       "[5 rows x 3752 columns]"
      ]
     },
     "execution_count": 23,
     "metadata": {},
     "output_type": "execute_result"
    }
   ],
   "source": [
    "smultixcan_results.head()"
   ]
  },
  {
   "cell_type": "markdown",
   "id": "e4ffb4e5",
   "metadata": {
    "papermill": {
     "duration": 0.009628,
     "end_time": "2022-11-25T04:26:43.301324",
     "exception": false,
     "start_time": "2022-11-25T04:26:43.291696",
     "status": "completed"
    },
    "tags": []
   },
   "source": [
    "# Shuffle genes within traits"
   ]
  },
  {
   "cell_type": "code",
   "execution_count": 24,
   "id": "67b59965",
   "metadata": {
    "execution": {
     "iopub.execute_input": "2022-11-25T04:26:43.316854Z",
     "iopub.status.busy": "2022-11-25T04:26:43.316633Z",
     "iopub.status.idle": "2022-11-25T04:26:46.057573Z",
     "shell.execute_reply": "2022-11-25T04:26:46.057296Z"
    },
    "papermill": {
     "duration": 2.749074,
     "end_time": "2022-11-25T04:26:46.058901",
     "exception": false,
     "start_time": "2022-11-25T04:26:43.309827",
     "status": "completed"
    },
    "tags": []
   },
   "outputs": [],
   "source": [
    "shuffled_smultixcan_results = smultixcan_results.apply(\n",
    "    lambda x: x.sample(frac=1, random_state=rs).to_numpy()\n",
    ")"
   ]
  },
  {
   "cell_type": "code",
   "execution_count": 25,
   "id": "ad7ee65a",
   "metadata": {
    "execution": {
     "iopub.execute_input": "2022-11-25T04:26:46.079146Z",
     "iopub.status.busy": "2022-11-25T04:26:46.078912Z",
     "iopub.status.idle": "2022-11-25T04:26:46.090037Z",
     "shell.execute_reply": "2022-11-25T04:26:46.089830Z"
    },
    "papermill": {
     "duration": 0.022307,
     "end_time": "2022-11-25T04:26:46.090701",
     "exception": false,
     "start_time": "2022-11-25T04:26:46.068394",
     "status": "completed"
    },
    "tags": []
   },
   "outputs": [
    {
     "data": {
      "text/plain": [
       "(22508, 3752)"
      ]
     },
     "execution_count": 25,
     "metadata": {},
     "output_type": "execute_result"
    }
   ],
   "source": [
    "shuffled_smultixcan_results.shape"
   ]
  },
  {
   "cell_type": "code",
   "execution_count": 26,
   "id": "d68e86a4",
   "metadata": {
    "execution": {
     "iopub.execute_input": "2022-11-25T04:26:46.103062Z",
     "iopub.status.busy": "2022-11-25T04:26:46.102957Z",
     "iopub.status.idle": "2022-11-25T04:26:46.120676Z",
     "shell.execute_reply": "2022-11-25T04:26:46.120459Z"
    },
    "papermill": {
     "duration": 0.024361,
     "end_time": "2022-11-25T04:26:46.121346",
     "exception": false,
     "start_time": "2022-11-25T04:26:46.096985",
     "status": "completed"
    },
    "tags": []
   },
   "outputs": [
    {
     "data": {
      "text/html": [
       "<div>\n",
       "<style scoped>\n",
       "    .dataframe tbody tr th:only-of-type {\n",
       "        vertical-align: middle;\n",
       "    }\n",
       "\n",
       "    .dataframe tbody tr th {\n",
       "        vertical-align: top;\n",
       "    }\n",
       "\n",
       "    .dataframe thead th {\n",
       "        text-align: right;\n",
       "    }\n",
       "</style>\n",
       "<table border=\"1\" class=\"dataframe\">\n",
       "  <thead>\n",
       "    <tr style=\"text-align: right;\">\n",
       "      <th></th>\n",
       "      <th>100001_raw-Food_weight</th>\n",
       "      <th>100002_raw-Energy</th>\n",
       "      <th>100003_raw-Protein</th>\n",
       "      <th>100004_raw-Fat</th>\n",
       "      <th>100005_raw-Carbohydrate</th>\n",
       "      <th>100006_raw-Saturated_fat</th>\n",
       "      <th>100007_raw-Polyunsaturated_fat</th>\n",
       "      <th>100008_raw-Total_sugars</th>\n",
       "      <th>100009_raw-Englyst_dietary_fibre</th>\n",
       "      <th>100010-Portion_size</th>\n",
       "      <th>...</th>\n",
       "      <th>visual impairment</th>\n",
       "      <th>vitiligo</th>\n",
       "      <th>vitreous body disease</th>\n",
       "      <th>vocal cord polyp</th>\n",
       "      <th>voice disorders</th>\n",
       "      <th>wellbeing measurement AND family relationship</th>\n",
       "      <th>wheezing</th>\n",
       "      <th>whooping cough</th>\n",
       "      <th>worry measurement</th>\n",
       "      <th>wrist fracture</th>\n",
       "    </tr>\n",
       "    <tr>\n",
       "      <th>gene_name</th>\n",
       "      <th></th>\n",
       "      <th></th>\n",
       "      <th></th>\n",
       "      <th></th>\n",
       "      <th></th>\n",
       "      <th></th>\n",
       "      <th></th>\n",
       "      <th></th>\n",
       "      <th></th>\n",
       "      <th></th>\n",
       "      <th></th>\n",
       "      <th></th>\n",
       "      <th></th>\n",
       "      <th></th>\n",
       "      <th></th>\n",
       "      <th></th>\n",
       "      <th></th>\n",
       "      <th></th>\n",
       "      <th></th>\n",
       "      <th></th>\n",
       "      <th></th>\n",
       "    </tr>\n",
       "  </thead>\n",
       "  <tbody>\n",
       "    <tr>\n",
       "      <th>DPM1</th>\n",
       "      <td>0.000051</td>\n",
       "      <td>0.000031</td>\n",
       "      <td>0.000065</td>\n",
       "      <td>0.000138</td>\n",
       "      <td>0.000041</td>\n",
       "      <td>0.000005</td>\n",
       "      <td>0.000002</td>\n",
       "      <td>0.000033</td>\n",
       "      <td>0.000022</td>\n",
       "      <td>0.000033</td>\n",
       "      <td>...</td>\n",
       "      <td>0.000111</td>\n",
       "      <td>0.000012</td>\n",
       "      <td>0.000029</td>\n",
       "      <td>0.000039</td>\n",
       "      <td>0.000049</td>\n",
       "      <td>0.000061</td>\n",
       "      <td>0.000014</td>\n",
       "      <td>6.922541e-05</td>\n",
       "      <td>0.000056</td>\n",
       "      <td>0.000050</td>\n",
       "    </tr>\n",
       "    <tr>\n",
       "      <th>SCYL3</th>\n",
       "      <td>0.000060</td>\n",
       "      <td>0.000065</td>\n",
       "      <td>0.000045</td>\n",
       "      <td>0.000039</td>\n",
       "      <td>0.000030</td>\n",
       "      <td>0.000056</td>\n",
       "      <td>0.000100</td>\n",
       "      <td>0.000052</td>\n",
       "      <td>0.000067</td>\n",
       "      <td>0.000054</td>\n",
       "      <td>...</td>\n",
       "      <td>0.000057</td>\n",
       "      <td>0.000053</td>\n",
       "      <td>0.000107</td>\n",
       "      <td>0.000006</td>\n",
       "      <td>0.000035</td>\n",
       "      <td>0.000044</td>\n",
       "      <td>0.000083</td>\n",
       "      <td>3.265571e-07</td>\n",
       "      <td>0.000004</td>\n",
       "      <td>0.000048</td>\n",
       "    </tr>\n",
       "    <tr>\n",
       "      <th>C1orf112</th>\n",
       "      <td>0.000065</td>\n",
       "      <td>0.000040</td>\n",
       "      <td>0.000004</td>\n",
       "      <td>0.000119</td>\n",
       "      <td>0.000004</td>\n",
       "      <td>0.000028</td>\n",
       "      <td>0.000034</td>\n",
       "      <td>0.000015</td>\n",
       "      <td>0.000022</td>\n",
       "      <td>0.000014</td>\n",
       "      <td>...</td>\n",
       "      <td>0.000008</td>\n",
       "      <td>0.000008</td>\n",
       "      <td>0.000083</td>\n",
       "      <td>0.000041</td>\n",
       "      <td>0.000038</td>\n",
       "      <td>0.000002</td>\n",
       "      <td>0.000064</td>\n",
       "      <td>9.720101e-05</td>\n",
       "      <td>0.000023</td>\n",
       "      <td>0.000101</td>\n",
       "    </tr>\n",
       "    <tr>\n",
       "      <th>FGR</th>\n",
       "      <td>0.000008</td>\n",
       "      <td>0.000045</td>\n",
       "      <td>0.000021</td>\n",
       "      <td>0.000005</td>\n",
       "      <td>0.000020</td>\n",
       "      <td>0.000036</td>\n",
       "      <td>0.000003</td>\n",
       "      <td>0.000027</td>\n",
       "      <td>0.000016</td>\n",
       "      <td>0.000049</td>\n",
       "      <td>...</td>\n",
       "      <td>0.000055</td>\n",
       "      <td>0.000061</td>\n",
       "      <td>0.000010</td>\n",
       "      <td>0.000066</td>\n",
       "      <td>0.000053</td>\n",
       "      <td>0.000025</td>\n",
       "      <td>0.000048</td>\n",
       "      <td>2.945239e-05</td>\n",
       "      <td>0.000078</td>\n",
       "      <td>0.000036</td>\n",
       "    </tr>\n",
       "    <tr>\n",
       "      <th>CFH</th>\n",
       "      <td>0.000039</td>\n",
       "      <td>0.000030</td>\n",
       "      <td>0.000009</td>\n",
       "      <td>0.000003</td>\n",
       "      <td>0.000023</td>\n",
       "      <td>0.000011</td>\n",
       "      <td>0.000132</td>\n",
       "      <td>0.000055</td>\n",
       "      <td>0.000042</td>\n",
       "      <td>0.000032</td>\n",
       "      <td>...</td>\n",
       "      <td>0.000020</td>\n",
       "      <td>0.000003</td>\n",
       "      <td>0.000067</td>\n",
       "      <td>0.000078</td>\n",
       "      <td>0.000007</td>\n",
       "      <td>0.000126</td>\n",
       "      <td>0.000005</td>\n",
       "      <td>3.174253e-05</td>\n",
       "      <td>0.000039</td>\n",
       "      <td>0.000083</td>\n",
       "    </tr>\n",
       "  </tbody>\n",
       "</table>\n",
       "<p>5 rows × 3752 columns</p>\n",
       "</div>"
      ],
      "text/plain": [
       "           100001_raw-Food_weight  100002_raw-Energy  100003_raw-Protein  \\\n",
       "gene_name                                                                  \n",
       "DPM1                     0.000051           0.000031            0.000065   \n",
       "SCYL3                    0.000060           0.000065            0.000045   \n",
       "C1orf112                 0.000065           0.000040            0.000004   \n",
       "FGR                      0.000008           0.000045            0.000021   \n",
       "CFH                      0.000039           0.000030            0.000009   \n",
       "\n",
       "           100004_raw-Fat  100005_raw-Carbohydrate  100006_raw-Saturated_fat  \\\n",
       "gene_name                                                                      \n",
       "DPM1             0.000138                 0.000041                  0.000005   \n",
       "SCYL3            0.000039                 0.000030                  0.000056   \n",
       "C1orf112         0.000119                 0.000004                  0.000028   \n",
       "FGR              0.000005                 0.000020                  0.000036   \n",
       "CFH              0.000003                 0.000023                  0.000011   \n",
       "\n",
       "           100007_raw-Polyunsaturated_fat  100008_raw-Total_sugars  \\\n",
       "gene_name                                                            \n",
       "DPM1                             0.000002                 0.000033   \n",
       "SCYL3                            0.000100                 0.000052   \n",
       "C1orf112                         0.000034                 0.000015   \n",
       "FGR                              0.000003                 0.000027   \n",
       "CFH                              0.000132                 0.000055   \n",
       "\n",
       "           100009_raw-Englyst_dietary_fibre  100010-Portion_size  ...  \\\n",
       "gene_name                                                         ...   \n",
       "DPM1                               0.000022             0.000033  ...   \n",
       "SCYL3                              0.000067             0.000054  ...   \n",
       "C1orf112                           0.000022             0.000014  ...   \n",
       "FGR                                0.000016             0.000049  ...   \n",
       "CFH                                0.000042             0.000032  ...   \n",
       "\n",
       "           visual impairment  vitiligo  vitreous body disease  \\\n",
       "gene_name                                                       \n",
       "DPM1                0.000111  0.000012               0.000029   \n",
       "SCYL3               0.000057  0.000053               0.000107   \n",
       "C1orf112            0.000008  0.000008               0.000083   \n",
       "FGR                 0.000055  0.000061               0.000010   \n",
       "CFH                 0.000020  0.000003               0.000067   \n",
       "\n",
       "           vocal cord polyp  voice disorders  \\\n",
       "gene_name                                      \n",
       "DPM1               0.000039         0.000049   \n",
       "SCYL3              0.000006         0.000035   \n",
       "C1orf112           0.000041         0.000038   \n",
       "FGR                0.000066         0.000053   \n",
       "CFH                0.000078         0.000007   \n",
       "\n",
       "           wellbeing measurement AND family relationship  wheezing  \\\n",
       "gene_name                                                            \n",
       "DPM1                                            0.000061  0.000014   \n",
       "SCYL3                                           0.000044  0.000083   \n",
       "C1orf112                                        0.000002  0.000064   \n",
       "FGR                                             0.000025  0.000048   \n",
       "CFH                                             0.000126  0.000005   \n",
       "\n",
       "           whooping cough  worry measurement  wrist fracture  \n",
       "gene_name                                                     \n",
       "DPM1         6.922541e-05           0.000056        0.000050  \n",
       "SCYL3        3.265571e-07           0.000004        0.000048  \n",
       "C1orf112     9.720101e-05           0.000023        0.000101  \n",
       "FGR          2.945239e-05           0.000078        0.000036  \n",
       "CFH          3.174253e-05           0.000039        0.000083  \n",
       "\n",
       "[5 rows x 3752 columns]"
      ]
     },
     "execution_count": 26,
     "metadata": {},
     "output_type": "execute_result"
    }
   ],
   "source": [
    "shuffled_smultixcan_results.head()"
   ]
  },
  {
   "cell_type": "markdown",
   "id": "92788722",
   "metadata": {
    "papermill": {
     "duration": 0.005819,
     "end_time": "2022-11-25T04:26:46.133431",
     "exception": false,
     "start_time": "2022-11-25T04:26:46.127612",
     "status": "completed"
    },
    "tags": []
   },
   "source": [
    "## Testing"
   ]
  },
  {
   "cell_type": "code",
   "execution_count": 27,
   "id": "73d1e9ba-8574-4a72-bb06-72f5a26d5bb8",
   "metadata": {
    "execution": {
     "iopub.execute_input": "2022-11-25T04:26:46.145886Z",
     "iopub.status.busy": "2022-11-25T04:26:46.145806Z",
     "iopub.status.idle": "2022-11-25T04:26:46.156878Z",
     "shell.execute_reply": "2022-11-25T04:26:46.156652Z"
    },
    "papermill": {
     "duration": 0.018188,
     "end_time": "2022-11-25T04:26:46.157646",
     "exception": false,
     "start_time": "2022-11-25T04:26:46.139458",
     "status": "completed"
    },
    "tags": []
   },
   "outputs": [],
   "source": [
    "assert stats.pearsonr(smultixcan_results.loc[\"DPM1\"], smultixcan_results.loc[\"DPM1\"])[\n",
    "    0\n",
    "] == pytest.approx(1.0)\n",
    "assert stats.pearsonr(\n",
    "    shuffled_smultixcan_results.loc[\"DPM1\"], shuffled_smultixcan_results.loc[\"DPM1\"]\n",
    ")[0] == pytest.approx(1.0)"
   ]
  },
  {
   "cell_type": "code",
   "execution_count": 28,
   "id": "484a32e6",
   "metadata": {
    "execution": {
     "iopub.execute_input": "2022-11-25T04:26:46.170113Z",
     "iopub.status.busy": "2022-11-25T04:26:46.170006Z",
     "iopub.status.idle": "2022-11-25T04:26:46.180421Z",
     "shell.execute_reply": "2022-11-25T04:26:46.180220Z"
    },
    "papermill": {
     "duration": 0.017273,
     "end_time": "2022-11-25T04:26:46.181090",
     "exception": false,
     "start_time": "2022-11-25T04:26:46.163817",
     "status": "completed"
    },
    "tags": []
   },
   "outputs": [
    {
     "data": {
      "text/plain": [
       "(0.015004459012860445, 0.3581885908075809)"
      ]
     },
     "metadata": {},
     "output_type": "display_data"
    }
   ],
   "source": [
    "_tmp = stats.pearsonr(\n",
    "    smultixcan_results.loc[\"DPM1\"], shuffled_smultixcan_results.loc[\"DPM1\"]\n",
    ")\n",
    "display(_tmp)\n",
    "assert _tmp[0] == pytest.approx(0.0, rel=0, abs=0.02)"
   ]
  },
  {
   "cell_type": "code",
   "execution_count": 29,
   "id": "2ee78553-3d37-48a4-85a1-757cbc4133ff",
   "metadata": {
    "execution": {
     "iopub.execute_input": "2022-11-25T04:26:46.193745Z",
     "iopub.status.busy": "2022-11-25T04:26:46.193553Z",
     "iopub.status.idle": "2022-11-25T04:26:46.209915Z",
     "shell.execute_reply": "2022-11-25T04:26:46.209634Z"
    },
    "papermill": {
     "duration": 0.023669,
     "end_time": "2022-11-25T04:26:46.210928",
     "exception": false,
     "start_time": "2022-11-25T04:26:46.187259",
     "status": "completed"
    },
    "tags": []
   },
   "outputs": [],
   "source": [
    "assert stats.pearsonr(\n",
    "    smultixcan_results[\"100001_raw-Food_weight\"],\n",
    "    smultixcan_results[\"100001_raw-Food_weight\"],\n",
    ")[0] == pytest.approx(1.0)\n",
    "assert stats.pearsonr(\n",
    "    shuffled_smultixcan_results[\"100001_raw-Food_weight\"],\n",
    "    shuffled_smultixcan_results[\"100001_raw-Food_weight\"],\n",
    ")[0] == pytest.approx(1.0)"
   ]
  },
  {
   "cell_type": "code",
   "execution_count": 30,
   "id": "0d492467-9ded-4179-8df6-e23b392d447a",
   "metadata": {
    "execution": {
     "iopub.execute_input": "2022-11-25T04:26:46.230540Z",
     "iopub.status.busy": "2022-11-25T04:26:46.230411Z",
     "iopub.status.idle": "2022-11-25T04:26:46.250239Z",
     "shell.execute_reply": "2022-11-25T04:26:46.249966Z"
    },
    "papermill": {
     "duration": 0.030522,
     "end_time": "2022-11-25T04:26:46.251143",
     "exception": false,
     "start_time": "2022-11-25T04:26:46.220621",
     "status": "completed"
    },
    "tags": []
   },
   "outputs": [
    {
     "data": {
      "text/plain": [
       "(-0.004639833221574795, 0.48638888315567747)"
      ]
     },
     "metadata": {},
     "output_type": "display_data"
    }
   ],
   "source": [
    "_tmp = stats.pearsonr(\n",
    "    smultixcan_results[\"100001_raw-Food_weight\"],\n",
    "    shuffled_smultixcan_results[\"100001_raw-Food_weight\"],\n",
    ")\n",
    "display(_tmp)\n",
    "assert _tmp[0] == pytest.approx(0.0, rel=0, abs=0.02)"
   ]
  },
  {
   "cell_type": "code",
   "execution_count": 31,
   "id": "8abc91af",
   "metadata": {
    "execution": {
     "iopub.execute_input": "2022-11-25T04:26:46.271322Z",
     "iopub.status.busy": "2022-11-25T04:26:46.271192Z",
     "iopub.status.idle": "2022-11-25T04:26:46.315599Z",
     "shell.execute_reply": "2022-11-25T04:26:46.315257Z"
    },
    "papermill": {
     "duration": 0.055293,
     "end_time": "2022-11-25T04:26:46.316539",
     "exception": false,
     "start_time": "2022-11-25T04:26:46.261246",
     "status": "completed"
    },
    "tags": []
   },
   "outputs": [],
   "source": [
    "del smultixcan_results"
   ]
  },
  {
   "cell_type": "markdown",
   "id": "81634d77",
   "metadata": {
    "papermill": {
     "duration": 0.006218,
     "end_time": "2022-11-25T04:26:46.329364",
     "exception": false,
     "start_time": "2022-11-25T04:26:46.323146",
     "status": "completed"
    },
    "tags": []
   },
   "source": [
    "# Project S-MultiXcan data into MultiPLIER latent space"
   ]
  },
  {
   "cell_type": "code",
   "execution_count": 32,
   "id": "4a4c4d78",
   "metadata": {
    "execution": {
     "iopub.execute_input": "2022-11-25T04:26:46.342338Z",
     "iopub.status.busy": "2022-11-25T04:26:46.342134Z",
     "iopub.status.idle": "2022-11-25T04:26:46.352217Z",
     "shell.execute_reply": "2022-11-25T04:26:46.351952Z"
    },
    "papermill": {
     "duration": 0.0174,
     "end_time": "2022-11-25T04:26:46.353001",
     "exception": false,
     "start_time": "2022-11-25T04:26:46.335601",
     "status": "completed"
    },
    "tags": []
   },
   "outputs": [],
   "source": [
    "mproj = MultiplierProjection()"
   ]
  },
  {
   "cell_type": "code",
   "execution_count": 33,
   "id": "000807d0",
   "metadata": {
    "execution": {
     "iopub.execute_input": "2022-11-25T04:26:46.366158Z",
     "iopub.status.busy": "2022-11-25T04:26:46.365991Z",
     "iopub.status.idle": "2022-11-25T04:26:48.650368Z",
     "shell.execute_reply": "2022-11-25T04:26:48.650011Z"
    },
    "papermill": {
     "duration": 2.292382,
     "end_time": "2022-11-25T04:26:48.651744",
     "exception": false,
     "start_time": "2022-11-25T04:26:46.359362",
     "status": "completed"
    },
    "tags": []
   },
   "outputs": [],
   "source": [
    "smultixcan_into_multiplier = mproj.transform(shuffled_smultixcan_results)"
   ]
  },
  {
   "cell_type": "code",
   "execution_count": 34,
   "id": "8c33eada",
   "metadata": {
    "execution": {
     "iopub.execute_input": "2022-11-25T04:26:48.682658Z",
     "iopub.status.busy": "2022-11-25T04:26:48.682507Z",
     "iopub.status.idle": "2022-11-25T04:26:48.700198Z",
     "shell.execute_reply": "2022-11-25T04:26:48.699903Z"
    },
    "papermill": {
     "duration": 0.035051,
     "end_time": "2022-11-25T04:26:48.701269",
     "exception": false,
     "start_time": "2022-11-25T04:26:48.666218",
     "status": "completed"
    },
    "tags": []
   },
   "outputs": [
    {
     "data": {
      "text/plain": [
       "(987, 3752)"
      ]
     },
     "execution_count": 34,
     "metadata": {},
     "output_type": "execute_result"
    }
   ],
   "source": [
    "smultixcan_into_multiplier.shape"
   ]
  },
  {
   "cell_type": "code",
   "execution_count": 35,
   "id": "18a57f88",
   "metadata": {
    "execution": {
     "iopub.execute_input": "2022-11-25T04:26:48.721658Z",
     "iopub.status.busy": "2022-11-25T04:26:48.721528Z",
     "iopub.status.idle": "2022-11-25T04:26:48.740917Z",
     "shell.execute_reply": "2022-11-25T04:26:48.740695Z"
    },
    "papermill": {
     "duration": 0.02844,
     "end_time": "2022-11-25T04:26:48.741654",
     "exception": false,
     "start_time": "2022-11-25T04:26:48.713214",
     "status": "completed"
    },
    "tags": []
   },
   "outputs": [
    {
     "data": {
      "text/html": [
       "<div>\n",
       "<style scoped>\n",
       "    .dataframe tbody tr th:only-of-type {\n",
       "        vertical-align: middle;\n",
       "    }\n",
       "\n",
       "    .dataframe tbody tr th {\n",
       "        vertical-align: top;\n",
       "    }\n",
       "\n",
       "    .dataframe thead th {\n",
       "        text-align: right;\n",
       "    }\n",
       "</style>\n",
       "<table border=\"1\" class=\"dataframe\">\n",
       "  <thead>\n",
       "    <tr style=\"text-align: right;\">\n",
       "      <th></th>\n",
       "      <th>100001_raw-Food_weight</th>\n",
       "      <th>100002_raw-Energy</th>\n",
       "      <th>100003_raw-Protein</th>\n",
       "      <th>100004_raw-Fat</th>\n",
       "      <th>100005_raw-Carbohydrate</th>\n",
       "      <th>100006_raw-Saturated_fat</th>\n",
       "      <th>100007_raw-Polyunsaturated_fat</th>\n",
       "      <th>100008_raw-Total_sugars</th>\n",
       "      <th>100009_raw-Englyst_dietary_fibre</th>\n",
       "      <th>100010-Portion_size</th>\n",
       "      <th>...</th>\n",
       "      <th>visual impairment</th>\n",
       "      <th>vitiligo</th>\n",
       "      <th>vitreous body disease</th>\n",
       "      <th>vocal cord polyp</th>\n",
       "      <th>voice disorders</th>\n",
       "      <th>wellbeing measurement AND family relationship</th>\n",
       "      <th>wheezing</th>\n",
       "      <th>whooping cough</th>\n",
       "      <th>worry measurement</th>\n",
       "      <th>wrist fracture</th>\n",
       "    </tr>\n",
       "  </thead>\n",
       "  <tbody>\n",
       "    <tr>\n",
       "      <th>LV1</th>\n",
       "      <td>-0.004991</td>\n",
       "      <td>0.015146</td>\n",
       "      <td>0.011558</td>\n",
       "      <td>-0.004454</td>\n",
       "      <td>-0.004064</td>\n",
       "      <td>0.019181</td>\n",
       "      <td>-0.006774</td>\n",
       "      <td>-0.000993</td>\n",
       "      <td>-0.051895</td>\n",
       "      <td>0.006165</td>\n",
       "      <td>...</td>\n",
       "      <td>0.011411</td>\n",
       "      <td>0.007752</td>\n",
       "      <td>-0.007232</td>\n",
       "      <td>-0.012486</td>\n",
       "      <td>-0.019609</td>\n",
       "      <td>0.001056</td>\n",
       "      <td>-0.068064</td>\n",
       "      <td>-0.067764</td>\n",
       "      <td>0.027634</td>\n",
       "      <td>0.009072</td>\n",
       "    </tr>\n",
       "    <tr>\n",
       "      <th>LV2</th>\n",
       "      <td>-0.020160</td>\n",
       "      <td>0.025381</td>\n",
       "      <td>0.026267</td>\n",
       "      <td>0.025022</td>\n",
       "      <td>-0.014816</td>\n",
       "      <td>0.001336</td>\n",
       "      <td>-0.025144</td>\n",
       "      <td>-0.006939</td>\n",
       "      <td>0.031557</td>\n",
       "      <td>-0.006765</td>\n",
       "      <td>...</td>\n",
       "      <td>0.045494</td>\n",
       "      <td>0.054857</td>\n",
       "      <td>0.014009</td>\n",
       "      <td>0.010356</td>\n",
       "      <td>-0.028176</td>\n",
       "      <td>0.014216</td>\n",
       "      <td>0.051512</td>\n",
       "      <td>-0.012968</td>\n",
       "      <td>-0.009068</td>\n",
       "      <td>-0.022579</td>\n",
       "    </tr>\n",
       "    <tr>\n",
       "      <th>LV3</th>\n",
       "      <td>-0.026030</td>\n",
       "      <td>0.030990</td>\n",
       "      <td>-0.008830</td>\n",
       "      <td>0.010287</td>\n",
       "      <td>0.027811</td>\n",
       "      <td>-0.024533</td>\n",
       "      <td>0.028973</td>\n",
       "      <td>-0.004228</td>\n",
       "      <td>-0.022456</td>\n",
       "      <td>-0.009028</td>\n",
       "      <td>...</td>\n",
       "      <td>-0.022074</td>\n",
       "      <td>0.001223</td>\n",
       "      <td>-0.040340</td>\n",
       "      <td>0.033154</td>\n",
       "      <td>0.015559</td>\n",
       "      <td>-0.027344</td>\n",
       "      <td>0.028957</td>\n",
       "      <td>0.047436</td>\n",
       "      <td>-0.013414</td>\n",
       "      <td>-0.014697</td>\n",
       "    </tr>\n",
       "    <tr>\n",
       "      <th>LV4</th>\n",
       "      <td>0.020068</td>\n",
       "      <td>-0.004168</td>\n",
       "      <td>0.023151</td>\n",
       "      <td>-0.045471</td>\n",
       "      <td>0.015872</td>\n",
       "      <td>-0.016416</td>\n",
       "      <td>-0.041916</td>\n",
       "      <td>-0.042642</td>\n",
       "      <td>0.039436</td>\n",
       "      <td>-0.029249</td>\n",
       "      <td>...</td>\n",
       "      <td>-0.001791</td>\n",
       "      <td>0.013281</td>\n",
       "      <td>0.072869</td>\n",
       "      <td>0.075342</td>\n",
       "      <td>0.019810</td>\n",
       "      <td>-0.009894</td>\n",
       "      <td>-0.037994</td>\n",
       "      <td>-0.013222</td>\n",
       "      <td>0.012071</td>\n",
       "      <td>-0.005580</td>\n",
       "    </tr>\n",
       "    <tr>\n",
       "      <th>LV5</th>\n",
       "      <td>0.011753</td>\n",
       "      <td>0.006254</td>\n",
       "      <td>-0.014700</td>\n",
       "      <td>0.035624</td>\n",
       "      <td>-0.012119</td>\n",
       "      <td>0.001753</td>\n",
       "      <td>0.016450</td>\n",
       "      <td>0.005870</td>\n",
       "      <td>-0.026259</td>\n",
       "      <td>-0.032612</td>\n",
       "      <td>...</td>\n",
       "      <td>-0.048864</td>\n",
       "      <td>0.002043</td>\n",
       "      <td>-0.020228</td>\n",
       "      <td>-0.016124</td>\n",
       "      <td>0.019393</td>\n",
       "      <td>0.042040</td>\n",
       "      <td>0.060709</td>\n",
       "      <td>-0.041390</td>\n",
       "      <td>-0.039641</td>\n",
       "      <td>0.016831</td>\n",
       "    </tr>\n",
       "  </tbody>\n",
       "</table>\n",
       "<p>5 rows × 3752 columns</p>\n",
       "</div>"
      ],
      "text/plain": [
       "     100001_raw-Food_weight  100002_raw-Energy  100003_raw-Protein  \\\n",
       "LV1               -0.004991           0.015146            0.011558   \n",
       "LV2               -0.020160           0.025381            0.026267   \n",
       "LV3               -0.026030           0.030990           -0.008830   \n",
       "LV4                0.020068          -0.004168            0.023151   \n",
       "LV5                0.011753           0.006254           -0.014700   \n",
       "\n",
       "     100004_raw-Fat  100005_raw-Carbohydrate  100006_raw-Saturated_fat  \\\n",
       "LV1       -0.004454                -0.004064                  0.019181   \n",
       "LV2        0.025022                -0.014816                  0.001336   \n",
       "LV3        0.010287                 0.027811                 -0.024533   \n",
       "LV4       -0.045471                 0.015872                 -0.016416   \n",
       "LV5        0.035624                -0.012119                  0.001753   \n",
       "\n",
       "     100007_raw-Polyunsaturated_fat  100008_raw-Total_sugars  \\\n",
       "LV1                       -0.006774                -0.000993   \n",
       "LV2                       -0.025144                -0.006939   \n",
       "LV3                        0.028973                -0.004228   \n",
       "LV4                       -0.041916                -0.042642   \n",
       "LV5                        0.016450                 0.005870   \n",
       "\n",
       "     100009_raw-Englyst_dietary_fibre  100010-Portion_size  ...  \\\n",
       "LV1                         -0.051895             0.006165  ...   \n",
       "LV2                          0.031557            -0.006765  ...   \n",
       "LV3                         -0.022456            -0.009028  ...   \n",
       "LV4                          0.039436            -0.029249  ...   \n",
       "LV5                         -0.026259            -0.032612  ...   \n",
       "\n",
       "     visual impairment  vitiligo  vitreous body disease  vocal cord polyp  \\\n",
       "LV1           0.011411  0.007752              -0.007232         -0.012486   \n",
       "LV2           0.045494  0.054857               0.014009          0.010356   \n",
       "LV3          -0.022074  0.001223              -0.040340          0.033154   \n",
       "LV4          -0.001791  0.013281               0.072869          0.075342   \n",
       "LV5          -0.048864  0.002043              -0.020228         -0.016124   \n",
       "\n",
       "     voice disorders  wellbeing measurement AND family relationship  wheezing  \\\n",
       "LV1        -0.019609                                       0.001056 -0.068064   \n",
       "LV2        -0.028176                                       0.014216  0.051512   \n",
       "LV3         0.015559                                      -0.027344  0.028957   \n",
       "LV4         0.019810                                      -0.009894 -0.037994   \n",
       "LV5         0.019393                                       0.042040  0.060709   \n",
       "\n",
       "     whooping cough  worry measurement  wrist fracture  \n",
       "LV1       -0.067764           0.027634        0.009072  \n",
       "LV2       -0.012968          -0.009068       -0.022579  \n",
       "LV3        0.047436          -0.013414       -0.014697  \n",
       "LV4       -0.013222           0.012071       -0.005580  \n",
       "LV5       -0.041390          -0.039641        0.016831  \n",
       "\n",
       "[5 rows x 3752 columns]"
      ]
     },
     "execution_count": 35,
     "metadata": {},
     "output_type": "execute_result"
    }
   ],
   "source": [
    "smultixcan_into_multiplier.head()"
   ]
  },
  {
   "cell_type": "markdown",
   "id": "a52a02e2",
   "metadata": {
    "papermill": {
     "duration": 0.007371,
     "end_time": "2022-11-25T04:26:48.755927",
     "exception": false,
     "start_time": "2022-11-25T04:26:48.748556",
     "status": "completed"
    },
    "tags": []
   },
   "source": [
    "# Quick analysis"
   ]
  },
  {
   "cell_type": "code",
   "execution_count": 36,
   "id": "c9625531",
   "metadata": {
    "execution": {
     "iopub.execute_input": "2022-11-25T04:26:48.769451Z",
     "iopub.status.busy": "2022-11-25T04:26:48.769257Z",
     "iopub.status.idle": "2022-11-25T04:26:48.788614Z",
     "shell.execute_reply": "2022-11-25T04:26:48.788228Z"
    },
    "papermill": {
     "duration": 0.02693,
     "end_time": "2022-11-25T04:26:48.789379",
     "exception": false,
     "start_time": "2022-11-25T04:26:48.762449",
     "status": "completed"
    },
    "tags": []
   },
   "outputs": [
    {
     "data": {
      "text/plain": [
       "5099_raw-3mm_weak_meridian_right                                                           0.156829\n",
       "30130_raw-Monocyte_count                                                                   0.133407\n",
       "J10_ASTHMA-Asthma                                                                          0.103145\n",
       "20003_1141194386-Treatmentmedication_code_telfast_30_tablet                                0.088224\n",
       "23124_raw-Arm_fat_mass_left                                                                0.082922\n",
       "20003_1140888366-Treatmentmedication_code_thiamine_preparation                             0.081478\n",
       "leukocyte count                                                                            0.080619\n",
       "20003_1140888092-Treatmentmedication_code_elocon_cream                                     0.079712\n",
       "pancreatitis                                                                               0.076367\n",
       "22174-Recent_medication_for_bronchiectasis                                                 0.076257\n",
       "22614_0-Worked_with_pesticides_Rarelynever                                                 0.075817\n",
       "seeing a general practitioner for nerves, anxiety, tension or depression, self-reported    0.071615\n",
       "24024_raw-Average_24hour_sound_level_of_noise_pollution                                    0.071490\n",
       "30030_raw-Haematocrit_percentage                                                           0.070564\n",
       "102930-Egg_consumers                                                                       0.070088\n",
       "1130-Handsfree_devicespeakerphone_use_with_mobile_phone_in_last_3_month                    0.069287\n",
       "22617_2314-Job_SOC_coding_Secondary_education_teaching_professionals                       0.068399\n",
       "20554_6-Actions_taken_following_selfharm_Receive_help_from_friends_family_neighbours       0.066933\n",
       "H8_OTHHEARINGLOSS-Other_hearing_loss                                                       0.066572\n",
       "family history of breast cancer                                                            0.065660\n",
       "Name: LV603, dtype: float64"
      ]
     },
     "execution_count": 36,
     "metadata": {},
     "output_type": "execute_result"
    }
   ],
   "source": [
    "(smultixcan_into_multiplier.loc[\"LV603\"].sort_values(ascending=False).head(20))"
   ]
  },
  {
   "cell_type": "code",
   "execution_count": 37,
   "id": "d71e4c3e",
   "metadata": {
    "execution": {
     "iopub.execute_input": "2022-11-25T04:26:48.803171Z",
     "iopub.status.busy": "2022-11-25T04:26:48.802902Z",
     "iopub.status.idle": "2022-11-25T04:26:48.822206Z",
     "shell.execute_reply": "2022-11-25T04:26:48.821833Z"
    },
    "papermill": {
     "duration": 0.026961,
     "end_time": "2022-11-25T04:26:48.822961",
     "exception": false,
     "start_time": "2022-11-25T04:26:48.796000",
     "status": "completed"
    },
    "tags": []
   },
   "outputs": [
    {
     "data": {
      "text/plain": [
       "1747_1-Hair_colour_natural_before_greying_Blonde                                                               0.293540\n",
       "celiac disease                                                                                                 0.156183\n",
       "fallopian tube disease                                                                                         0.100879\n",
       "30020_raw-Haemoglobin_concentration                                                                            0.097562\n",
       "1488_raw-Tea_intake                                                                                            0.095025\n",
       "20548_1-Manifestations_of_mania_or_irritability_I_was_more_talkative_than_usual                                0.094591\n",
       "22170-Recent_medication_for_COPD_Chronic_Obstructive_Pulmonary_Disease                                         0.093176\n",
       "22601_35633214-Job_coding_vocational_or_industrial_trainerinstructor_craft_instructor_apprentice_instructor    0.092978\n",
       "22601_52443062-Job_coding_television_video_audio_or_radio_engineerrepairerinstallertechnician                  0.091871\n",
       "L12_NAIL_INGROW-Ingrowing_nail                                                                                 0.091158\n",
       "20003_1140884516-Treatmentmedication_code_thyroxine_product                                                    0.089577\n",
       "24016_raw-Nitrogen_dioxide_air_pollution_2005                                                                  0.089343\n",
       "atherosclerosis                                                                                                0.089272\n",
       "K11_COELIAC-Coeliac_disease                                                                                    0.086635\n",
       "tympanic membrane perforation                                                                                  0.085383\n",
       "H7_DIPLOPIA-Diplopia                                                                                           0.084729\n",
       "100670-White_wine_intake                                                                                       0.082636\n",
       "41248_7001-Destinations_on_discharge_from_hospital_recoded_Nursing_residential_care_group_home_NHS             0.082049\n",
       "23109_raw-Impedance_of_arm_right                                                                               0.082040\n",
       "6179_1-Mineral_and_other_dietary_supplements_Fish_oil_including_cod_liver_oil                                  0.081774\n",
       "Name: LV136, dtype: float64"
      ]
     },
     "execution_count": 37,
     "metadata": {},
     "output_type": "execute_result"
    }
   ],
   "source": [
    "(smultixcan_into_multiplier.loc[\"LV136\"].sort_values(ascending=False).head(20))"
   ]
  },
  {
   "cell_type": "code",
   "execution_count": 38,
   "id": "d4173a4f",
   "metadata": {
    "execution": {
     "iopub.execute_input": "2022-11-25T04:26:48.836831Z",
     "iopub.status.busy": "2022-11-25T04:26:48.836567Z",
     "iopub.status.idle": "2022-11-25T04:26:48.856000Z",
     "shell.execute_reply": "2022-11-25T04:26:48.855637Z"
    },
    "papermill": {
     "duration": 0.027209,
     "end_time": "2022-11-25T04:26:48.856748",
     "exception": false,
     "start_time": "2022-11-25T04:26:48.829539",
     "status": "completed"
    },
    "tags": []
   },
   "outputs": [
    {
     "data": {
      "text/plain": [
       "type i diabetes mellitus                                                                                                     0.193646\n",
       "30040_raw-Mean_corpuscular_volume                                                                                            0.185107\n",
       "K11_COELIAC-Coeliac_disease                                                                                                  0.145886\n",
       "20406-Ever_addicted_to_alcohol                                                                                               0.134645\n",
       "22601_41363318-Job_coding_database_assistantclerk_computer_clerk_data_entry_clerkprocessor_book_keepingaccounts_machinist    0.133810\n",
       "22617_9149-Job_SOC_coding_Other_goods_handling_and_storage_occupations_nec                                                   0.122899\n",
       "22611_1-Workplace_had_a_lot_of_cigarette_smoke_from_other_people_smoking_Sometimes                                           0.116214\n",
       "22617_1136-Job_SOC_coding_Information_and_communication_technology_managers                                                  0.114579\n",
       "40001_C64-Underlying_primary_cause_of_death_ICD10_C64_Malignant_neoplasm_of_kidney_except_renal_pelvis                       0.113403\n",
       "M13_OLECRANONBURSITIS-Olecranon_bursitis                                                                                     0.111002\n",
       "leukocyte count                                                                                                              0.108460\n",
       "H8_OTIMEDNAS-Otitis_media_unspecified                                                                                        0.105480\n",
       "6177_3-Medication_for_cholesterol_blood_pressure_or_diabetes_Insulin                                                         0.099626\n",
       "806-Job_involves_mainly_walking_or_standing                                                                                  0.099236\n",
       "20544_11-Mental_health_problems_ever_diagnosed_by_a_professional_Depression                                                  0.098962\n",
       "alzheimer's disease                                                                                                          0.098569\n",
       "XV_PREGNANCY_BIRTH-Pregnancy_childbirth_and_the_puerperium                                                                   0.097380\n",
       "20408-Frequency_of_memory_loss_due_to_drinking_alcohol_in_last_year                                                          0.097210\n",
       "K11_BARRET-Barret_oesophagus                                                                                                 0.096995\n",
       "mood swings                                                                                                                  0.096633\n",
       "Name: LV844, dtype: float64"
      ]
     },
     "execution_count": 38,
     "metadata": {},
     "output_type": "execute_result"
    }
   ],
   "source": [
    "(smultixcan_into_multiplier.loc[\"LV844\"].sort_values(ascending=False).head(20))"
   ]
  },
  {
   "cell_type": "code",
   "execution_count": 39,
   "id": "d305288c",
   "metadata": {
    "execution": {
     "iopub.execute_input": "2022-11-25T04:26:48.870775Z",
     "iopub.status.busy": "2022-11-25T04:26:48.870510Z",
     "iopub.status.idle": "2022-11-25T04:26:48.889795Z",
     "shell.execute_reply": "2022-11-25T04:26:48.889419Z"
    },
    "papermill": {
     "duration": 0.027273,
     "end_time": "2022-11-25T04:26:48.890539",
     "exception": false,
     "start_time": "2022-11-25T04:26:48.863266",
     "status": "completed"
    },
    "tags": []
   },
   "outputs": [
    {
     "data": {
      "text/plain": [
       "6144_3-Never_eat_eggs_dairy_wheat_sugar_Wheat_products                                           0.340213\n",
       "20003_1140883066-Treatmentmedication_code_insulin_product                                        0.233553\n",
       "hyperthyroidism AND thyrotoxicosis                                                               0.193569\n",
       "30150-Eosinophill_count                                                                          0.147097\n",
       "K11_GASTRODUOULC-Gastroduodenal_ulcer                                                            0.119671\n",
       "30040_raw-Mean_corpuscular_volume                                                                0.115193\n",
       "5182_1-Both_eyes_present_Yes                                                                     0.113313\n",
       "20003_1140888092-Treatmentmedication_code_elocon_cream                                           0.112417\n",
       "2267-Use_of_sunuv_protection                                                                     0.110457\n",
       "20407-Frequency_of_failure_to_fulfil_normal_expectations_due_to_drinking_alcohol_in_last_year    0.107549\n",
       "22617_3544-Job_SOC_coding_Estate_agents_auctioneers                                              0.103278\n",
       "41248_1000-Destinations_on_discharge_from_hospital_recoded_Usual_Place_of_residence              0.097864\n",
       "20003_1140881856-Treatmentmedication_code_salbutamol                                             0.097824\n",
       "SSGAC_Education_Years_Pooled                                                                     0.094936\n",
       "reticulocyte count                                                                               0.094459\n",
       "burn                                                                                             0.093344\n",
       "20003_1141168590-Treatmentmedication_code_pariet_10mg_ec_tablet                                  0.092926\n",
       "6179_4-Mineral_and_other_dietary_supplements_Zinc                                                0.090098\n",
       "4106_raw-Heel_bone_mineral_density_BMD_Tscore_automated_left                                     0.089154\n",
       "100920_0-Type_milk_consumed_did_not_have_milk                                                    0.089147\n",
       "Name: LV246, dtype: float64"
      ]
     },
     "execution_count": 39,
     "metadata": {},
     "output_type": "execute_result"
    }
   ],
   "source": [
    "(smultixcan_into_multiplier.loc[\"LV246\"].sort_values(ascending=False).head(20))"
   ]
  },
  {
   "cell_type": "markdown",
   "id": "a3165c17",
   "metadata": {
    "papermill": {
     "duration": 0.006659,
     "end_time": "2022-11-25T04:26:48.903753",
     "exception": false,
     "start_time": "2022-11-25T04:26:48.897094",
     "status": "completed"
    },
    "tags": []
   },
   "source": [
    "# Save"
   ]
  },
  {
   "cell_type": "code",
   "execution_count": 40,
   "id": "5f545533",
   "metadata": {
    "execution": {
     "iopub.execute_input": "2022-11-25T04:26:48.917695Z",
     "iopub.status.busy": "2022-11-25T04:26:48.917452Z",
     "iopub.status.idle": "2022-11-25T04:26:48.934768Z",
     "shell.execute_reply": "2022-11-25T04:26:48.934410Z"
    },
    "papermill": {
     "duration": 0.025101,
     "end_time": "2022-11-25T04:26:48.935491",
     "exception": false,
     "start_time": "2022-11-25T04:26:48.910390",
     "status": "completed"
    },
    "tags": []
   },
   "outputs": [
    {
     "data": {
      "text/plain": [
       "PosixPath('/opt/data/results/clustering/null_sims/shuffle_genes/projections/projection-smultixcan-efo_partial-mashr-zscores.pkl')"
      ]
     },
     "metadata": {},
     "output_type": "display_data"
    }
   ],
   "source": [
    "output_file = Path(\n",
    "    RESULTS_PROJ_OUTPUT_DIR, f\"projection-{results_filename_stem}.pkl\"\n",
    ").resolve()\n",
    "\n",
    "display(output_file)"
   ]
  },
  {
   "cell_type": "code",
   "execution_count": 41,
   "id": "621490ee",
   "metadata": {
    "execution": {
     "iopub.execute_input": "2022-11-25T04:26:48.949543Z",
     "iopub.status.busy": "2022-11-25T04:26:48.949297Z",
     "iopub.status.idle": "2022-11-25T04:26:49.009361Z",
     "shell.execute_reply": "2022-11-25T04:26:49.008928Z"
    },
    "papermill": {
     "duration": 0.068578,
     "end_time": "2022-11-25T04:26:49.010869",
     "exception": false,
     "start_time": "2022-11-25T04:26:48.942291",
     "status": "completed"
    },
    "tags": []
   },
   "outputs": [],
   "source": [
    "smultixcan_into_multiplier.to_pickle(output_file)"
   ]
  },
  {
   "cell_type": "code",
   "execution_count": null,
   "id": "00f245c6",
   "metadata": {
    "papermill": {
     "duration": 0.012499,
     "end_time": "2022-11-25T04:26:49.037421",
     "exception": false,
     "start_time": "2022-11-25T04:26:49.024922",
     "status": "completed"
    },
    "tags": []
   },
   "outputs": [],
   "source": []
  }
 ],
 "metadata": {
  "jupytext": {
   "cell_metadata_filter": "all,-execution,-papermill,-trusted",
   "formats": "ipynb,py//py:percent"
  },
  "kernelspec": {
   "display_name": "Python 3 (ipykernel)",
   "language": "python",
   "name": "python3"
  },
  "language_info": {
   "codemirror_mode": {
    "name": "ipython",
    "version": 3
   },
   "file_extension": ".py",
   "mimetype": "text/x-python",
   "name": "python",
   "nbconvert_exporter": "python",
   "pygments_lexer": "ipython3",
   "version": "3.8.13"
  },
  "papermill": {
   "default_parameters": {},
   "duration": 10.020566,
   "end_time": "2022-11-25T04:26:49.366985",
   "environment_variables": {},
   "exception": null,
   "input_path": "nbs/13.1_cluster_analysis_null/00-shuffle_genes/00_00-shuffle_genes.ipynb",
   "output_path": "nbs/13.1_cluster_analysis_null/00-shuffle_genes/00_00-shuffle_genes.run.ipynb",
   "parameters": {},
   "start_time": "2022-11-25T04:26:39.346419",
   "version": "2.2.2"
  },
  "toc-autonumbering": true
 },
 "nbformat": 4,
 "nbformat_minor": 5
}
