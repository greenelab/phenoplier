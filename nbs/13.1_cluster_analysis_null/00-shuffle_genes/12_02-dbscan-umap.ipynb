{
 "cells": [
  {
   "cell_type": "markdown",
   "id": "80589afc",
   "metadata": {
    "papermill": {
     "duration": 0.026649,
     "end_time": "2022-09-13T17:21:48.171810",
     "exception": false,
     "start_time": "2022-09-13T17:21:48.145161",
     "status": "completed"
    },
    "tags": []
   },
   "source": [
    "# Description"
   ]
  },
  {
   "cell_type": "markdown",
   "id": "f6fbffad",
   "metadata": {
    "papermill": {
     "duration": 0.007778,
     "end_time": "2022-09-13T17:21:48.196242",
     "exception": false,
     "start_time": "2022-09-13T17:21:48.188464",
     "status": "completed"
    },
    "tags": []
   },
   "source": [
    "It runs DBSCAN on the `umap` version of the data.\n",
    "\n",
    "The notebook explores different values for `min_samples` and `eps` (the main parameters of DBSCAN)."
   ]
  },
  {
   "cell_type": "markdown",
   "id": "cf697dfd",
   "metadata": {
    "papermill": {
     "duration": 0.005397,
     "end_time": "2022-09-13T17:21:48.207939",
     "exception": false,
     "start_time": "2022-09-13T17:21:48.202542",
     "status": "completed"
    },
    "tags": []
   },
   "source": [
    "# Environment variables"
   ]
  },
  {
   "cell_type": "code",
   "execution_count": 1,
   "id": "b38f0174",
   "metadata": {
    "execution": {
     "iopub.execute_input": "2022-09-13T17:21:48.219577Z",
     "iopub.status.busy": "2022-09-13T17:21:48.219286Z",
     "iopub.status.idle": "2022-09-13T17:21:48.234421Z",
     "shell.execute_reply": "2022-09-13T17:21:48.233921Z"
    },
    "papermill": {
     "duration": 0.022907,
     "end_time": "2022-09-13T17:21:48.235948",
     "exception": false,
     "start_time": "2022-09-13T17:21:48.213041",
     "status": "completed"
    },
    "tags": []
   },
   "outputs": [
    {
     "data": {
      "text/plain": [
       "3"
      ]
     },
     "metadata": {},
     "output_type": "display_data"
    }
   ],
   "source": [
    "from IPython.display import display\n",
    "\n",
    "import conf\n",
    "\n",
    "N_JOBS = conf.GENERAL[\"N_JOBS\"]\n",
    "display(N_JOBS)"
   ]
  },
  {
   "cell_type": "code",
   "execution_count": 2,
   "id": "4d043e0e",
   "metadata": {
    "execution": {
     "iopub.execute_input": "2022-09-13T17:21:48.247662Z",
     "iopub.status.busy": "2022-09-13T17:21:48.247433Z",
     "iopub.status.idle": "2022-09-13T17:21:48.252608Z",
     "shell.execute_reply": "2022-09-13T17:21:48.252219Z"
    },
    "papermill": {
     "duration": 0.012375,
     "end_time": "2022-09-13T17:21:48.253799",
     "exception": false,
     "start_time": "2022-09-13T17:21:48.241424",
     "status": "completed"
    },
    "tags": []
   },
   "outputs": [
    {
     "name": "stdout",
     "output_type": "stream",
     "text": [
      "env: MKL_NUM_THREADS=3\n",
      "env: OPEN_BLAS_NUM_THREADS=3\n",
      "env: NUMEXPR_NUM_THREADS=3\n",
      "env: OMP_NUM_THREADS=3\n"
     ]
    }
   ],
   "source": [
    "%env MKL_NUM_THREADS=$N_JOBS\n",
    "%env OPEN_BLAS_NUM_THREADS=$N_JOBS\n",
    "%env NUMEXPR_NUM_THREADS=$N_JOBS\n",
    "%env OMP_NUM_THREADS=$N_JOBS"
   ]
  },
  {
   "cell_type": "markdown",
   "id": "fc1eccf7",
   "metadata": {
    "papermill": {
     "duration": 0.005389,
     "end_time": "2022-09-13T17:21:48.264931",
     "exception": false,
     "start_time": "2022-09-13T17:21:48.259542",
     "status": "completed"
    },
    "tags": []
   },
   "source": [
    "# Modules loading"
   ]
  },
  {
   "cell_type": "code",
   "execution_count": 3,
   "id": "1717be8c",
   "metadata": {
    "execution": {
     "iopub.execute_input": "2022-09-13T17:21:48.277369Z",
     "iopub.status.busy": "2022-09-13T17:21:48.276784Z",
     "iopub.status.idle": "2022-09-13T17:21:48.290225Z",
     "shell.execute_reply": "2022-09-13T17:21:48.289651Z"
    },
    "papermill": {
     "duration": 0.021119,
     "end_time": "2022-09-13T17:21:48.291631",
     "exception": false,
     "start_time": "2022-09-13T17:21:48.270512",
     "status": "completed"
    },
    "tags": []
   },
   "outputs": [],
   "source": [
    "%load_ext autoreload\n",
    "%autoreload 2"
   ]
  },
  {
   "cell_type": "code",
   "execution_count": 4,
   "id": "895656d4",
   "metadata": {
    "execution": {
     "iopub.execute_input": "2022-09-13T17:21:48.303851Z",
     "iopub.status.busy": "2022-09-13T17:21:48.303697Z",
     "iopub.status.idle": "2022-09-13T17:21:48.990010Z",
     "shell.execute_reply": "2022-09-13T17:21:48.989539Z"
    },
    "papermill": {
     "duration": 0.694033,
     "end_time": "2022-09-13T17:21:48.991416",
     "exception": false,
     "start_time": "2022-09-13T17:21:48.297383",
     "status": "completed"
    },
    "tags": []
   },
   "outputs": [],
   "source": [
    "from pathlib import Path\n",
    "\n",
    "import numpy as np\n",
    "import pandas as pd\n",
    "from sklearn.neighbors import NearestNeighbors\n",
    "from sklearn.metrics import pairwise_distances\n",
    "from sklearn.cluster import DBSCAN\n",
    "import matplotlib.pyplot as plt\n",
    "\n",
    "from utils import generate_result_set_name\n",
    "from clustering.ensembles.utils import generate_ensemble"
   ]
  },
  {
   "cell_type": "markdown",
   "id": "417425a2",
   "metadata": {
    "papermill": {
     "duration": 0.005477,
     "end_time": "2022-09-13T17:21:49.002716",
     "exception": false,
     "start_time": "2022-09-13T17:21:48.997239",
     "status": "completed"
    },
    "tags": []
   },
   "source": [
    "# Global settings"
   ]
  },
  {
   "cell_type": "code",
   "execution_count": 5,
   "id": "34ea787d",
   "metadata": {
    "execution": {
     "iopub.execute_input": "2022-09-13T17:21:49.014469Z",
     "iopub.status.busy": "2022-09-13T17:21:49.014260Z",
     "iopub.status.idle": "2022-09-13T17:21:49.031713Z",
     "shell.execute_reply": "2022-09-13T17:21:49.031089Z"
    },
    "papermill": {
     "duration": 0.024853,
     "end_time": "2022-09-13T17:21:49.033080",
     "exception": false,
     "start_time": "2022-09-13T17:21:49.008227",
     "status": "completed"
    },
    "tags": []
   },
   "outputs": [],
   "source": [
    "np.random.seed(0)"
   ]
  },
  {
   "cell_type": "code",
   "execution_count": 6,
   "id": "e756c5da",
   "metadata": {
    "execution": {
     "iopub.execute_input": "2022-09-13T17:21:49.045797Z",
     "iopub.status.busy": "2022-09-13T17:21:49.045627Z",
     "iopub.status.idle": "2022-09-13T17:21:49.063103Z",
     "shell.execute_reply": "2022-09-13T17:21:49.062527Z"
    },
    "papermill": {
     "duration": 0.025424,
     "end_time": "2022-09-13T17:21:49.064517",
     "exception": false,
     "start_time": "2022-09-13T17:21:49.039093",
     "status": "completed"
    },
    "tags": []
   },
   "outputs": [],
   "source": [
    "CLUSTERING_ATTRIBUTES_TO_SAVE = [\"n_clusters\"]"
   ]
  },
  {
   "cell_type": "markdown",
   "id": "8f15357f",
   "metadata": {
    "papermill": {
     "duration": 0.012272,
     "end_time": "2022-09-13T17:21:49.082985",
     "exception": false,
     "start_time": "2022-09-13T17:21:49.070713",
     "status": "completed"
    },
    "tags": []
   },
   "source": [
    "# Settings"
   ]
  },
  {
   "cell_type": "code",
   "execution_count": 7,
   "id": "750092ae",
   "metadata": {
    "execution": {
     "iopub.execute_input": "2022-09-13T17:21:49.096017Z",
     "iopub.status.busy": "2022-09-13T17:21:49.095844Z",
     "iopub.status.idle": "2022-09-13T17:21:49.114936Z",
     "shell.execute_reply": "2022-09-13T17:21:49.114329Z"
    },
    "papermill": {
     "duration": 0.027352,
     "end_time": "2022-09-13T17:21:49.116448",
     "exception": false,
     "start_time": "2022-09-13T17:21:49.089096",
     "status": "completed"
    },
    "tags": []
   },
   "outputs": [],
   "source": [
    "# these parameter values are taken from the pre-analysis notebook for this clustering method and data version\n",
    "k_values = np.arange(2, 125 + 1, 1)\n",
    "\n",
    "eps_range_per_k = {\n",
    "    k: (0.23, 0.80)\n",
    "    if k < 5\n",
    "    else (0.30, 0.80)\n",
    "    if k < 10\n",
    "    else (0.40, 2.50)\n",
    "    if k < 20\n",
    "    else (0.40, 7.00)\n",
    "    if k < 50\n",
    "    else (0.50, 10.00)\n",
    "    for k in k_values\n",
    "}"
   ]
  },
  {
   "cell_type": "markdown",
   "id": "27d596ba",
   "metadata": {
    "papermill": {
     "duration": 0.033633,
     "end_time": "2022-09-13T17:21:49.156735",
     "exception": false,
     "start_time": "2022-09-13T17:21:49.123102",
     "status": "completed"
    },
    "tags": []
   },
   "source": [
    "# Data version: umap"
   ]
  },
  {
   "cell_type": "markdown",
   "id": "33e28553",
   "metadata": {
    "papermill": {
     "duration": 0.006649,
     "end_time": "2022-09-13T17:21:49.170426",
     "exception": false,
     "start_time": "2022-09-13T17:21:49.163777",
     "status": "completed"
    },
    "tags": []
   },
   "source": [
    "## Settings"
   ]
  },
  {
   "cell_type": "code",
   "execution_count": 8,
   "id": "0254cfcd",
   "metadata": {
    "execution": {
     "iopub.execute_input": "2022-09-13T17:21:49.184935Z",
     "iopub.status.busy": "2022-09-13T17:21:49.184742Z",
     "iopub.status.idle": "2022-09-13T17:21:49.204423Z",
     "shell.execute_reply": "2022-09-13T17:21:49.203778Z"
    },
    "papermill": {
     "duration": 0.02873,
     "end_time": "2022-09-13T17:21:49.205934",
     "exception": false,
     "start_time": "2022-09-13T17:21:49.177204",
     "status": "completed"
    },
    "tags": []
   },
   "outputs": [],
   "source": [
    "INPUT_SUBSET = \"umap\""
   ]
  },
  {
   "cell_type": "code",
   "execution_count": 9,
   "id": "acd1436b",
   "metadata": {
    "execution": {
     "iopub.execute_input": "2022-09-13T17:21:49.219665Z",
     "iopub.status.busy": "2022-09-13T17:21:49.219489Z",
     "iopub.status.idle": "2022-09-13T17:21:49.237594Z",
     "shell.execute_reply": "2022-09-13T17:21:49.237098Z"
    },
    "papermill": {
     "duration": 0.02639,
     "end_time": "2022-09-13T17:21:49.239036",
     "exception": false,
     "start_time": "2022-09-13T17:21:49.212646",
     "status": "completed"
    },
    "tags": []
   },
   "outputs": [],
   "source": [
    "INPUT_STEM = \"z_score_std-projection-smultixcan-efo_partial-mashr-zscores\""
   ]
  },
  {
   "cell_type": "code",
   "execution_count": 10,
   "id": "9e49e98c",
   "metadata": {
    "execution": {
     "iopub.execute_input": "2022-09-13T17:21:49.252355Z",
     "iopub.status.busy": "2022-09-13T17:21:49.252180Z",
     "iopub.status.idle": "2022-09-13T17:21:49.270719Z",
     "shell.execute_reply": "2022-09-13T17:21:49.270014Z"
    },
    "papermill": {
     "duration": 0.026828,
     "end_time": "2022-09-13T17:21:49.272166",
     "exception": false,
     "start_time": "2022-09-13T17:21:49.245338",
     "status": "completed"
    },
    "tags": []
   },
   "outputs": [],
   "source": [
    "# parameters of the dimentionality reduction steps\n",
    "DR_OPTIONS = {\n",
    "    \"n_components\": 50,\n",
    "    \"metric\": \"euclidean\",\n",
    "    \"n_neighbors\": 15,\n",
    "    \"random_state\": 0,\n",
    "}"
   ]
  },
  {
   "cell_type": "code",
   "execution_count": 11,
   "id": "e1c15698",
   "metadata": {
    "execution": {
     "iopub.execute_input": "2022-09-13T17:21:49.285483Z",
     "iopub.status.busy": "2022-09-13T17:21:49.285310Z",
     "iopub.status.idle": "2022-09-13T17:21:49.306145Z",
     "shell.execute_reply": "2022-09-13T17:21:49.305623Z"
    },
    "papermill": {
     "duration": 0.029132,
     "end_time": "2022-09-13T17:21:49.307580",
     "exception": false,
     "start_time": "2022-09-13T17:21:49.278448",
     "status": "completed"
    },
    "tags": []
   },
   "outputs": [
    {
     "data": {
      "text/plain": [
       "PosixPath('/opt/data/results/clustering/null_sims/data_transformations/umap/umap-z_score_std-projection-smultixcan-efo_partial-mashr-zscores-metric_euclidean-n_components_50-n_neighbors_15-random_state_0.pkl')"
      ]
     },
     "metadata": {},
     "output_type": "display_data"
    },
    {
     "data": {
      "text/plain": [
       "'umap-z_score_std-projection-smultixcan-efo_partial-mashr-zscores-metric_euclidean-n_components_50-n_neighbors_15-random_state_0'"
      ]
     },
     "metadata": {},
     "output_type": "display_data"
    }
   ],
   "source": [
    "input_filepath = Path(\n",
    "    conf.RESULTS[\"CLUSTERING_NULL_DIR\"],\n",
    "    \"data_transformations\",\n",
    "    INPUT_SUBSET,\n",
    "    generate_result_set_name(\n",
    "        DR_OPTIONS, prefix=f\"{INPUT_SUBSET}-{INPUT_STEM}-\", suffix=\".pkl\"\n",
    "    ),\n",
    ").resolve()\n",
    "display(input_filepath)\n",
    "\n",
    "assert input_filepath.exists(), \"Input file does not exist\"\n",
    "\n",
    "input_filepath_stem = input_filepath.stem\n",
    "display(input_filepath_stem)"
   ]
  },
  {
   "cell_type": "code",
   "execution_count": 12,
   "id": "a0f32d44",
   "metadata": {
    "execution": {
     "iopub.execute_input": "2022-09-13T17:21:49.321187Z",
     "iopub.status.busy": "2022-09-13T17:21:49.321012Z",
     "iopub.status.idle": "2022-09-13T17:21:49.340816Z",
     "shell.execute_reply": "2022-09-13T17:21:49.340243Z"
    },
    "papermill": {
     "duration": 0.028205,
     "end_time": "2022-09-13T17:21:49.342182",
     "exception": false,
     "start_time": "2022-09-13T17:21:49.313977",
     "status": "completed"
    },
    "tags": []
   },
   "outputs": [
    {
     "data": {
      "text/plain": [
       "PosixPath('/opt/data/results/clustering/null_sims/runs/umap-z_score_std-projection-smultixcan-efo_partial-mashr-zscores')"
      ]
     },
     "metadata": {},
     "output_type": "display_data"
    }
   ],
   "source": [
    "# output dir for this notebook\n",
    "RESULTS_DIR = Path(\n",
    "    conf.RESULTS[\"CLUSTERING_NULL_DIR\"],\n",
    "    \"runs\",\n",
    "    f\"{INPUT_SUBSET}-{INPUT_STEM}\",\n",
    ").resolve()\n",
    "RESULTS_DIR.mkdir(parents=True, exist_ok=True)\n",
    "\n",
    "display(RESULTS_DIR)"
   ]
  },
  {
   "cell_type": "markdown",
   "id": "39b97d01",
   "metadata": {
    "papermill": {
     "duration": 0.00582,
     "end_time": "2022-09-13T17:21:49.354324",
     "exception": false,
     "start_time": "2022-09-13T17:21:49.348504",
     "status": "completed"
    },
    "tags": []
   },
   "source": [
    "## Load input file"
   ]
  },
  {
   "cell_type": "code",
   "execution_count": 13,
   "id": "9d7fa587",
   "metadata": {
    "execution": {
     "iopub.execute_input": "2022-09-13T17:21:49.367011Z",
     "iopub.status.busy": "2022-09-13T17:21:49.366535Z",
     "iopub.status.idle": "2022-09-13T17:21:49.385624Z",
     "shell.execute_reply": "2022-09-13T17:21:49.385143Z"
    },
    "papermill": {
     "duration": 0.026974,
     "end_time": "2022-09-13T17:21:49.387086",
     "exception": false,
     "start_time": "2022-09-13T17:21:49.360112",
     "status": "completed"
    },
    "tags": []
   },
   "outputs": [],
   "source": [
    "data = pd.read_pickle(input_filepath)"
   ]
  },
  {
   "cell_type": "code",
   "execution_count": 14,
   "id": "97513d49",
   "metadata": {
    "execution": {
     "iopub.execute_input": "2022-09-13T17:21:49.400448Z",
     "iopub.status.busy": "2022-09-13T17:21:49.400276Z",
     "iopub.status.idle": "2022-09-13T17:21:49.418831Z",
     "shell.execute_reply": "2022-09-13T17:21:49.418298Z"
    },
    "papermill": {
     "duration": 0.026763,
     "end_time": "2022-09-13T17:21:49.420145",
     "exception": false,
     "start_time": "2022-09-13T17:21:49.393382",
     "status": "completed"
    },
    "tags": []
   },
   "outputs": [
    {
     "data": {
      "text/plain": [
       "(3752, 50)"
      ]
     },
     "execution_count": 14,
     "metadata": {},
     "output_type": "execute_result"
    }
   ],
   "source": [
    "data.shape"
   ]
  },
  {
   "cell_type": "code",
   "execution_count": 15,
   "id": "b7946d13",
   "metadata": {
    "execution": {
     "iopub.execute_input": "2022-09-13T17:21:49.433698Z",
     "iopub.status.busy": "2022-09-13T17:21:49.433529Z",
     "iopub.status.idle": "2022-09-13T17:21:49.465881Z",
     "shell.execute_reply": "2022-09-13T17:21:49.465252Z"
    },
    "papermill": {
     "duration": 0.04066,
     "end_time": "2022-09-13T17:21:49.467150",
     "exception": false,
     "start_time": "2022-09-13T17:21:49.426490",
     "status": "completed"
    },
    "tags": []
   },
   "outputs": [
    {
     "data": {
      "text/html": [
       "<div>\n",
       "<style scoped>\n",
       "    .dataframe tbody tr th:only-of-type {\n",
       "        vertical-align: middle;\n",
       "    }\n",
       "\n",
       "    .dataframe tbody tr th {\n",
       "        vertical-align: top;\n",
       "    }\n",
       "\n",
       "    .dataframe thead th {\n",
       "        text-align: right;\n",
       "    }\n",
       "</style>\n",
       "<table border=\"1\" class=\"dataframe\">\n",
       "  <thead>\n",
       "    <tr style=\"text-align: right;\">\n",
       "      <th></th>\n",
       "      <th>UMAP1</th>\n",
       "      <th>UMAP2</th>\n",
       "      <th>UMAP3</th>\n",
       "      <th>UMAP4</th>\n",
       "      <th>UMAP5</th>\n",
       "      <th>UMAP6</th>\n",
       "      <th>UMAP7</th>\n",
       "      <th>UMAP8</th>\n",
       "      <th>UMAP9</th>\n",
       "      <th>UMAP10</th>\n",
       "      <th>...</th>\n",
       "      <th>UMAP41</th>\n",
       "      <th>UMAP42</th>\n",
       "      <th>UMAP43</th>\n",
       "      <th>UMAP44</th>\n",
       "      <th>UMAP45</th>\n",
       "      <th>UMAP46</th>\n",
       "      <th>UMAP47</th>\n",
       "      <th>UMAP48</th>\n",
       "      <th>UMAP49</th>\n",
       "      <th>UMAP50</th>\n",
       "    </tr>\n",
       "  </thead>\n",
       "  <tbody>\n",
       "    <tr>\n",
       "      <th>100001_raw-Food_weight</th>\n",
       "      <td>6.554080</td>\n",
       "      <td>5.281644</td>\n",
       "      <td>7.335147</td>\n",
       "      <td>4.784761</td>\n",
       "      <td>6.145352</td>\n",
       "      <td>6.611291</td>\n",
       "      <td>5.023619</td>\n",
       "      <td>4.358376</td>\n",
       "      <td>5.172933</td>\n",
       "      <td>6.731123</td>\n",
       "      <td>...</td>\n",
       "      <td>9.107204</td>\n",
       "      <td>7.465721</td>\n",
       "      <td>8.788528</td>\n",
       "      <td>9.572570</td>\n",
       "      <td>9.679030</td>\n",
       "      <td>1.911065</td>\n",
       "      <td>5.402421</td>\n",
       "      <td>5.005345</td>\n",
       "      <td>2.798605</td>\n",
       "      <td>5.674561</td>\n",
       "    </tr>\n",
       "    <tr>\n",
       "      <th>100002_raw-Energy</th>\n",
       "      <td>6.460916</td>\n",
       "      <td>5.505183</td>\n",
       "      <td>7.399599</td>\n",
       "      <td>4.883557</td>\n",
       "      <td>6.300282</td>\n",
       "      <td>6.617465</td>\n",
       "      <td>5.325193</td>\n",
       "      <td>4.325032</td>\n",
       "      <td>5.428046</td>\n",
       "      <td>7.023396</td>\n",
       "      <td>...</td>\n",
       "      <td>9.018374</td>\n",
       "      <td>7.488490</td>\n",
       "      <td>8.812325</td>\n",
       "      <td>9.568748</td>\n",
       "      <td>9.703897</td>\n",
       "      <td>1.830261</td>\n",
       "      <td>5.426361</td>\n",
       "      <td>4.880517</td>\n",
       "      <td>2.736183</td>\n",
       "      <td>5.691994</td>\n",
       "    </tr>\n",
       "    <tr>\n",
       "      <th>100003_raw-Protein</th>\n",
       "      <td>6.466805</td>\n",
       "      <td>5.458629</td>\n",
       "      <td>7.368454</td>\n",
       "      <td>4.923854</td>\n",
       "      <td>6.393869</td>\n",
       "      <td>6.636221</td>\n",
       "      <td>5.306796</td>\n",
       "      <td>4.363737</td>\n",
       "      <td>5.470543</td>\n",
       "      <td>7.056087</td>\n",
       "      <td>...</td>\n",
       "      <td>9.005486</td>\n",
       "      <td>7.504950</td>\n",
       "      <td>8.769291</td>\n",
       "      <td>9.523876</td>\n",
       "      <td>9.748778</td>\n",
       "      <td>1.860021</td>\n",
       "      <td>5.457011</td>\n",
       "      <td>4.862948</td>\n",
       "      <td>2.789229</td>\n",
       "      <td>5.680467</td>\n",
       "    </tr>\n",
       "    <tr>\n",
       "      <th>100004_raw-Fat</th>\n",
       "      <td>6.564027</td>\n",
       "      <td>5.311611</td>\n",
       "      <td>7.302944</td>\n",
       "      <td>4.877467</td>\n",
       "      <td>6.186177</td>\n",
       "      <td>6.692945</td>\n",
       "      <td>5.133474</td>\n",
       "      <td>4.370428</td>\n",
       "      <td>5.349103</td>\n",
       "      <td>6.923361</td>\n",
       "      <td>...</td>\n",
       "      <td>9.122827</td>\n",
       "      <td>7.386698</td>\n",
       "      <td>8.914087</td>\n",
       "      <td>9.622107</td>\n",
       "      <td>9.642089</td>\n",
       "      <td>1.847337</td>\n",
       "      <td>5.383461</td>\n",
       "      <td>4.924160</td>\n",
       "      <td>2.730383</td>\n",
       "      <td>5.653959</td>\n",
       "    </tr>\n",
       "    <tr>\n",
       "      <th>100005_raw-Carbohydrate</th>\n",
       "      <td>6.627501</td>\n",
       "      <td>5.250340</td>\n",
       "      <td>7.249473</td>\n",
       "      <td>4.796991</td>\n",
       "      <td>5.966265</td>\n",
       "      <td>6.625223</td>\n",
       "      <td>4.946440</td>\n",
       "      <td>4.482035</td>\n",
       "      <td>5.224523</td>\n",
       "      <td>6.724992</td>\n",
       "      <td>...</td>\n",
       "      <td>9.149892</td>\n",
       "      <td>7.443833</td>\n",
       "      <td>8.843749</td>\n",
       "      <td>9.623201</td>\n",
       "      <td>9.629378</td>\n",
       "      <td>1.898488</td>\n",
       "      <td>5.410903</td>\n",
       "      <td>4.978440</td>\n",
       "      <td>2.766205</td>\n",
       "      <td>5.652066</td>\n",
       "    </tr>\n",
       "  </tbody>\n",
       "</table>\n",
       "<p>5 rows × 50 columns</p>\n",
       "</div>"
      ],
      "text/plain": [
       "                            UMAP1     UMAP2     UMAP3     UMAP4     UMAP5  \\\n",
       "100001_raw-Food_weight   6.554080  5.281644  7.335147  4.784761  6.145352   \n",
       "100002_raw-Energy        6.460916  5.505183  7.399599  4.883557  6.300282   \n",
       "100003_raw-Protein       6.466805  5.458629  7.368454  4.923854  6.393869   \n",
       "100004_raw-Fat           6.564027  5.311611  7.302944  4.877467  6.186177   \n",
       "100005_raw-Carbohydrate  6.627501  5.250340  7.249473  4.796991  5.966265   \n",
       "\n",
       "                            UMAP6     UMAP7     UMAP8     UMAP9    UMAP10  \\\n",
       "100001_raw-Food_weight   6.611291  5.023619  4.358376  5.172933  6.731123   \n",
       "100002_raw-Energy        6.617465  5.325193  4.325032  5.428046  7.023396   \n",
       "100003_raw-Protein       6.636221  5.306796  4.363737  5.470543  7.056087   \n",
       "100004_raw-Fat           6.692945  5.133474  4.370428  5.349103  6.923361   \n",
       "100005_raw-Carbohydrate  6.625223  4.946440  4.482035  5.224523  6.724992   \n",
       "\n",
       "                         ...    UMAP41    UMAP42    UMAP43    UMAP44  \\\n",
       "100001_raw-Food_weight   ...  9.107204  7.465721  8.788528  9.572570   \n",
       "100002_raw-Energy        ...  9.018374  7.488490  8.812325  9.568748   \n",
       "100003_raw-Protein       ...  9.005486  7.504950  8.769291  9.523876   \n",
       "100004_raw-Fat           ...  9.122827  7.386698  8.914087  9.622107   \n",
       "100005_raw-Carbohydrate  ...  9.149892  7.443833  8.843749  9.623201   \n",
       "\n",
       "                           UMAP45    UMAP46    UMAP47    UMAP48    UMAP49  \\\n",
       "100001_raw-Food_weight   9.679030  1.911065  5.402421  5.005345  2.798605   \n",
       "100002_raw-Energy        9.703897  1.830261  5.426361  4.880517  2.736183   \n",
       "100003_raw-Protein       9.748778  1.860021  5.457011  4.862948  2.789229   \n",
       "100004_raw-Fat           9.642089  1.847337  5.383461  4.924160  2.730383   \n",
       "100005_raw-Carbohydrate  9.629378  1.898488  5.410903  4.978440  2.766205   \n",
       "\n",
       "                           UMAP50  \n",
       "100001_raw-Food_weight   5.674561  \n",
       "100002_raw-Energy        5.691994  \n",
       "100003_raw-Protein       5.680467  \n",
       "100004_raw-Fat           5.653959  \n",
       "100005_raw-Carbohydrate  5.652066  \n",
       "\n",
       "[5 rows x 50 columns]"
      ]
     },
     "execution_count": 15,
     "metadata": {},
     "output_type": "execute_result"
    }
   ],
   "source": [
    "data.head()"
   ]
  },
  {
   "cell_type": "code",
   "execution_count": 16,
   "id": "d1c24e81",
   "metadata": {
    "execution": {
     "iopub.execute_input": "2022-09-13T17:21:49.480231Z",
     "iopub.status.busy": "2022-09-13T17:21:49.480072Z",
     "iopub.status.idle": "2022-09-13T17:21:49.497806Z",
     "shell.execute_reply": "2022-09-13T17:21:49.497286Z"
    },
    "papermill": {
     "duration": 0.025758,
     "end_time": "2022-09-13T17:21:49.499171",
     "exception": false,
     "start_time": "2022-09-13T17:21:49.473413",
     "status": "completed"
    },
    "tags": []
   },
   "outputs": [],
   "source": [
    "assert not data.isna().any().any()"
   ]
  },
  {
   "cell_type": "markdown",
   "id": "a7e58baf",
   "metadata": {
    "papermill": {
     "duration": 0.006106,
     "end_time": "2022-09-13T17:21:49.511760",
     "exception": false,
     "start_time": "2022-09-13T17:21:49.505654",
     "status": "completed"
    },
    "tags": []
   },
   "source": [
    "## Clustering"
   ]
  },
  {
   "cell_type": "markdown",
   "id": "bde20f6e",
   "metadata": {
    "papermill": {
     "duration": 0.005647,
     "end_time": "2022-09-13T17:21:49.523674",
     "exception": false,
     "start_time": "2022-09-13T17:21:49.518027",
     "status": "completed"
    },
    "tags": []
   },
   "source": [
    "### Generate clusterers"
   ]
  },
  {
   "cell_type": "code",
   "execution_count": 17,
   "id": "62d4d79d",
   "metadata": {
    "execution": {
     "iopub.execute_input": "2022-09-13T17:21:49.536773Z",
     "iopub.status.busy": "2022-09-13T17:21:49.536164Z",
     "iopub.status.idle": "2022-09-13T17:21:49.559111Z",
     "shell.execute_reply": "2022-09-13T17:21:49.558593Z"
    },
    "papermill": {
     "duration": 0.03098,
     "end_time": "2022-09-13T17:21:49.560282",
     "exception": false,
     "start_time": "2022-09-13T17:21:49.529302",
     "status": "completed"
    },
    "tags": []
   },
   "outputs": [
    {
     "data": {
      "text/plain": [
       "{'K_RANGE': array([  2,   3,   4,   5,   6,   7,   8,   9,  10,  11,  12,  13,  14,\n",
       "         15,  16,  17,  18,  19,  20,  21,  22,  23,  24,  25,  26,  27,\n",
       "         28,  29,  30,  31,  32,  33,  34,  35,  36,  37,  38,  39,  40,\n",
       "         41,  42,  43,  44,  45,  46,  47,  48,  49,  50,  51,  52,  53,\n",
       "         54,  55,  56,  57,  58,  59,  60,  61,  62,  63,  64,  65,  66,\n",
       "         67,  68,  69,  70,  71,  72,  73,  74,  75,  76,  77,  78,  79,\n",
       "         80,  81,  82,  83,  84,  85,  86,  87,  88,  89,  90,  91,  92,\n",
       "         93,  94,  95,  96,  97,  98,  99, 100, 101, 102, 103, 104, 105,\n",
       "        106, 107, 108, 109, 110, 111, 112, 113, 114, 115, 116, 117, 118,\n",
       "        119, 120, 121, 122, 123, 124, 125]),\n",
       " 'EPS_RANGE_PER_K': {2: (0.23, 0.8),\n",
       "  3: (0.23, 0.8),\n",
       "  4: (0.23, 0.8),\n",
       "  5: (0.3, 0.8),\n",
       "  6: (0.3, 0.8),\n",
       "  7: (0.3, 0.8),\n",
       "  8: (0.3, 0.8),\n",
       "  9: (0.3, 0.8),\n",
       "  10: (0.4, 2.5),\n",
       "  11: (0.4, 2.5),\n",
       "  12: (0.4, 2.5),\n",
       "  13: (0.4, 2.5),\n",
       "  14: (0.4, 2.5),\n",
       "  15: (0.4, 2.5),\n",
       "  16: (0.4, 2.5),\n",
       "  17: (0.4, 2.5),\n",
       "  18: (0.4, 2.5),\n",
       "  19: (0.4, 2.5),\n",
       "  20: (0.4, 7.0),\n",
       "  21: (0.4, 7.0),\n",
       "  22: (0.4, 7.0),\n",
       "  23: (0.4, 7.0),\n",
       "  24: (0.4, 7.0),\n",
       "  25: (0.4, 7.0),\n",
       "  26: (0.4, 7.0),\n",
       "  27: (0.4, 7.0),\n",
       "  28: (0.4, 7.0),\n",
       "  29: (0.4, 7.0),\n",
       "  30: (0.4, 7.0),\n",
       "  31: (0.4, 7.0),\n",
       "  32: (0.4, 7.0),\n",
       "  33: (0.4, 7.0),\n",
       "  34: (0.4, 7.0),\n",
       "  35: (0.4, 7.0),\n",
       "  36: (0.4, 7.0),\n",
       "  37: (0.4, 7.0),\n",
       "  38: (0.4, 7.0),\n",
       "  39: (0.4, 7.0),\n",
       "  40: (0.4, 7.0),\n",
       "  41: (0.4, 7.0),\n",
       "  42: (0.4, 7.0),\n",
       "  43: (0.4, 7.0),\n",
       "  44: (0.4, 7.0),\n",
       "  45: (0.4, 7.0),\n",
       "  46: (0.4, 7.0),\n",
       "  47: (0.4, 7.0),\n",
       "  48: (0.4, 7.0),\n",
       "  49: (0.4, 7.0),\n",
       "  50: (0.5, 10.0),\n",
       "  51: (0.5, 10.0),\n",
       "  52: (0.5, 10.0),\n",
       "  53: (0.5, 10.0),\n",
       "  54: (0.5, 10.0),\n",
       "  55: (0.5, 10.0),\n",
       "  56: (0.5, 10.0),\n",
       "  57: (0.5, 10.0),\n",
       "  58: (0.5, 10.0),\n",
       "  59: (0.5, 10.0),\n",
       "  60: (0.5, 10.0),\n",
       "  61: (0.5, 10.0),\n",
       "  62: (0.5, 10.0),\n",
       "  63: (0.5, 10.0),\n",
       "  64: (0.5, 10.0),\n",
       "  65: (0.5, 10.0),\n",
       "  66: (0.5, 10.0),\n",
       "  67: (0.5, 10.0),\n",
       "  68: (0.5, 10.0),\n",
       "  69: (0.5, 10.0),\n",
       "  70: (0.5, 10.0),\n",
       "  71: (0.5, 10.0),\n",
       "  72: (0.5, 10.0),\n",
       "  73: (0.5, 10.0),\n",
       "  74: (0.5, 10.0),\n",
       "  75: (0.5, 10.0),\n",
       "  76: (0.5, 10.0),\n",
       "  77: (0.5, 10.0),\n",
       "  78: (0.5, 10.0),\n",
       "  79: (0.5, 10.0),\n",
       "  80: (0.5, 10.0),\n",
       "  81: (0.5, 10.0),\n",
       "  82: (0.5, 10.0),\n",
       "  83: (0.5, 10.0),\n",
       "  84: (0.5, 10.0),\n",
       "  85: (0.5, 10.0),\n",
       "  86: (0.5, 10.0),\n",
       "  87: (0.5, 10.0),\n",
       "  88: (0.5, 10.0),\n",
       "  89: (0.5, 10.0),\n",
       "  90: (0.5, 10.0),\n",
       "  91: (0.5, 10.0),\n",
       "  92: (0.5, 10.0),\n",
       "  93: (0.5, 10.0),\n",
       "  94: (0.5, 10.0),\n",
       "  95: (0.5, 10.0),\n",
       "  96: (0.5, 10.0),\n",
       "  97: (0.5, 10.0),\n",
       "  98: (0.5, 10.0),\n",
       "  99: (0.5, 10.0),\n",
       "  100: (0.5, 10.0),\n",
       "  101: (0.5, 10.0),\n",
       "  102: (0.5, 10.0),\n",
       "  103: (0.5, 10.0),\n",
       "  104: (0.5, 10.0),\n",
       "  105: (0.5, 10.0),\n",
       "  106: (0.5, 10.0),\n",
       "  107: (0.5, 10.0),\n",
       "  108: (0.5, 10.0),\n",
       "  109: (0.5, 10.0),\n",
       "  110: (0.5, 10.0),\n",
       "  111: (0.5, 10.0),\n",
       "  112: (0.5, 10.0),\n",
       "  113: (0.5, 10.0),\n",
       "  114: (0.5, 10.0),\n",
       "  115: (0.5, 10.0),\n",
       "  116: (0.5, 10.0),\n",
       "  117: (0.5, 10.0),\n",
       "  118: (0.5, 10.0),\n",
       "  119: (0.5, 10.0),\n",
       "  120: (0.5, 10.0),\n",
       "  121: (0.5, 10.0),\n",
       "  122: (0.5, 10.0),\n",
       "  123: (0.5, 10.0),\n",
       "  124: (0.5, 10.0),\n",
       "  125: (0.5, 10.0)},\n",
       " 'EPS_STEP': 33,\n",
       " 'METRIC': 'euclidean'}"
      ]
     },
     "metadata": {},
     "output_type": "display_data"
    }
   ],
   "source": [
    "CLUSTERING_OPTIONS = {}\n",
    "\n",
    "# K_RANGE is the min_samples parameter in DBSCAN (sklearn)\n",
    "CLUSTERING_OPTIONS[\"K_RANGE\"] = k_values\n",
    "CLUSTERING_OPTIONS[\"EPS_RANGE_PER_K\"] = eps_range_per_k\n",
    "CLUSTERING_OPTIONS[\"EPS_STEP\"] = 33\n",
    "CLUSTERING_OPTIONS[\"METRIC\"] = \"euclidean\"\n",
    "\n",
    "display(CLUSTERING_OPTIONS)"
   ]
  },
  {
   "cell_type": "code",
   "execution_count": 18,
   "id": "f84cdcfc",
   "metadata": {
    "execution": {
     "iopub.execute_input": "2022-09-13T17:21:49.573764Z",
     "iopub.status.busy": "2022-09-13T17:21:49.573568Z",
     "iopub.status.idle": "2022-09-13T17:21:49.606464Z",
     "shell.execute_reply": "2022-09-13T17:21:49.605940Z"
    },
    "papermill": {
     "duration": 0.041211,
     "end_time": "2022-09-13T17:21:49.607904",
     "exception": false,
     "start_time": "2022-09-13T17:21:49.566693",
     "status": "completed"
    },
    "tags": []
   },
   "outputs": [],
   "source": [
    "CLUSTERERS = {}\n",
    "\n",
    "idx = 0\n",
    "\n",
    "for k in CLUSTERING_OPTIONS[\"K_RANGE\"]:\n",
    "    eps_range = CLUSTERING_OPTIONS[\"EPS_RANGE_PER_K\"][k]\n",
    "    eps_values = np.linspace(eps_range[0], eps_range[1], CLUSTERING_OPTIONS[\"EPS_STEP\"])\n",
    "\n",
    "    for eps in eps_values:\n",
    "        clus = DBSCAN(min_samples=k, eps=eps, metric=\"precomputed\", n_jobs=N_JOBS)\n",
    "\n",
    "        method_name = type(clus).__name__\n",
    "        CLUSTERERS[f\"{method_name} #{idx}\"] = clus\n",
    "\n",
    "        idx = idx + 1"
   ]
  },
  {
   "cell_type": "code",
   "execution_count": 19,
   "id": "d2096f2f",
   "metadata": {
    "execution": {
     "iopub.execute_input": "2022-09-13T17:21:49.631962Z",
     "iopub.status.busy": "2022-09-13T17:21:49.631794Z",
     "iopub.status.idle": "2022-09-13T17:21:49.650063Z",
     "shell.execute_reply": "2022-09-13T17:21:49.649538Z"
    },
    "papermill": {
     "duration": 0.026773,
     "end_time": "2022-09-13T17:21:49.651396",
     "exception": false,
     "start_time": "2022-09-13T17:21:49.624623",
     "status": "completed"
    },
    "tags": []
   },
   "outputs": [
    {
     "data": {
      "text/plain": [
       "4092"
      ]
     },
     "metadata": {},
     "output_type": "display_data"
    }
   ],
   "source": [
    "display(len(CLUSTERERS))"
   ]
  },
  {
   "cell_type": "code",
   "execution_count": 20,
   "id": "ebdbd9fc",
   "metadata": {
    "execution": {
     "iopub.execute_input": "2022-09-13T17:21:49.665663Z",
     "iopub.status.busy": "2022-09-13T17:21:49.665490Z",
     "iopub.status.idle": "2022-09-13T17:21:49.685834Z",
     "shell.execute_reply": "2022-09-13T17:21:49.685347Z"
    },
    "papermill": {
     "duration": 0.02883,
     "end_time": "2022-09-13T17:21:49.687034",
     "exception": false,
     "start_time": "2022-09-13T17:21:49.658204",
     "status": "completed"
    },
    "tags": []
   },
   "outputs": [
    {
     "data": {
      "text/plain": [
       "('DBSCAN #0', DBSCAN(eps=0.23, metric='precomputed', min_samples=2, n_jobs=3))"
      ]
     },
     "metadata": {},
     "output_type": "display_data"
    },
    {
     "data": {
      "text/plain": [
       "('DBSCAN #1',\n",
       " DBSCAN(eps=0.24781250000000002, metric='precomputed', min_samples=2, n_jobs=3))"
      ]
     },
     "metadata": {},
     "output_type": "display_data"
    }
   ],
   "source": [
    "_iter = iter(CLUSTERERS.items())\n",
    "display(next(_iter))\n",
    "display(next(_iter))"
   ]
  },
  {
   "cell_type": "code",
   "execution_count": 21,
   "id": "5327f6bb",
   "metadata": {
    "execution": {
     "iopub.execute_input": "2022-09-13T17:21:49.703089Z",
     "iopub.status.busy": "2022-09-13T17:21:49.702910Z",
     "iopub.status.idle": "2022-09-13T17:21:49.722864Z",
     "shell.execute_reply": "2022-09-13T17:21:49.722357Z"
    },
    "papermill": {
     "duration": 0.029371,
     "end_time": "2022-09-13T17:21:49.724113",
     "exception": false,
     "start_time": "2022-09-13T17:21:49.694742",
     "status": "completed"
    },
    "tags": []
   },
   "outputs": [
    {
     "data": {
      "text/plain": [
       "'DBSCAN'"
      ]
     },
     "metadata": {},
     "output_type": "display_data"
    }
   ],
   "source": [
    "clustering_method_name = method_name\n",
    "display(clustering_method_name)"
   ]
  },
  {
   "cell_type": "markdown",
   "id": "c461a442",
   "metadata": {
    "papermill": {
     "duration": 0.006668,
     "end_time": "2022-09-13T17:21:49.737752",
     "exception": false,
     "start_time": "2022-09-13T17:21:49.731084",
     "status": "completed"
    },
    "tags": []
   },
   "source": [
    "### Generate ensemble"
   ]
  },
  {
   "cell_type": "code",
   "execution_count": 22,
   "id": "5db582ca",
   "metadata": {
    "execution": {
     "iopub.execute_input": "2022-09-13T17:21:49.751731Z",
     "iopub.status.busy": "2022-09-13T17:21:49.751333Z",
     "iopub.status.idle": "2022-09-13T17:21:49.878217Z",
     "shell.execute_reply": "2022-09-13T17:21:49.877638Z"
    },
    "papermill": {
     "duration": 0.135448,
     "end_time": "2022-09-13T17:21:49.879593",
     "exception": false,
     "start_time": "2022-09-13T17:21:49.744145",
     "status": "completed"
    },
    "tags": []
   },
   "outputs": [],
   "source": [
    "data_dist = pairwise_distances(data, metric=CLUSTERING_OPTIONS[\"METRIC\"])"
   ]
  },
  {
   "cell_type": "code",
   "execution_count": 23,
   "id": "4f7a25d5",
   "metadata": {
    "execution": {
     "iopub.execute_input": "2022-09-13T17:21:49.909027Z",
     "iopub.status.busy": "2022-09-13T17:21:49.908611Z",
     "iopub.status.idle": "2022-09-13T17:21:49.927389Z",
     "shell.execute_reply": "2022-09-13T17:21:49.926861Z"
    },
    "papermill": {
     "duration": 0.043479,
     "end_time": "2022-09-13T17:21:49.929641",
     "exception": false,
     "start_time": "2022-09-13T17:21:49.886162",
     "status": "completed"
    },
    "tags": []
   },
   "outputs": [
    {
     "data": {
      "text/plain": [
       "(3752, 3752)"
      ]
     },
     "execution_count": 23,
     "metadata": {},
     "output_type": "execute_result"
    }
   ],
   "source": [
    "data_dist.shape"
   ]
  },
  {
   "cell_type": "code",
   "execution_count": 24,
   "id": "2da87d4a",
   "metadata": {
    "execution": {
     "iopub.execute_input": "2022-09-13T17:21:49.944654Z",
     "iopub.status.busy": "2022-09-13T17:21:49.943853Z",
     "iopub.status.idle": "2022-09-13T17:21:50.357383Z",
     "shell.execute_reply": "2022-09-13T17:21:50.356862Z"
    },
    "papermill": {
     "duration": 0.421744,
     "end_time": "2022-09-13T17:21:50.358705",
     "exception": false,
     "start_time": "2022-09-13T17:21:49.936961",
     "status": "completed"
    },
    "tags": []
   },
   "outputs": [
    {
     "data": {
      "text/plain": [
       "count            14077504.0\n",
       "mean     3.0278100967407227\n",
       "std      1.1191624402999878\n",
       "min                     0.0\n",
       "25%       2.238104999065399\n",
       "50%      3.3084110021591187\n",
       "75%       3.960253953933716\n",
       "max       5.226503849029541\n",
       "dtype: object"
      ]
     },
     "execution_count": 24,
     "metadata": {},
     "output_type": "execute_result"
    }
   ],
   "source": [
    "pd.Series(data_dist.flatten()).describe().apply(str)"
   ]
  },
  {
   "cell_type": "code",
   "execution_count": 25,
   "id": "354f27d5",
   "metadata": {
    "execution": {
     "iopub.execute_input": "2022-09-13T17:21:50.372761Z",
     "iopub.status.busy": "2022-09-13T17:21:50.372574Z",
     "iopub.status.idle": "2022-09-13T17:33:04.948104Z",
     "shell.execute_reply": "2022-09-13T17:33:04.947382Z"
    },
    "papermill": {
     "duration": 674.584151,
     "end_time": "2022-09-13T17:33:04.949563",
     "exception": false,
     "start_time": "2022-09-13T17:21:50.365412",
     "status": "completed"
    },
    "tags": []
   },
   "outputs": [
    {
     "name": "stderr",
     "output_type": "stream",
     "text": [
      "100%|██████████| 4092/4092 [11:14<00:00,  6.07it/s]\n"
     ]
    }
   ],
   "source": [
    "ensemble = generate_ensemble(\n",
    "    data_dist,\n",
    "    CLUSTERERS,\n",
    "    attributes=CLUSTERING_ATTRIBUTES_TO_SAVE,\n",
    ")"
   ]
  },
  {
   "cell_type": "code",
   "execution_count": 26,
   "id": "743a7ac4",
   "metadata": {
    "execution": {
     "iopub.execute_input": "2022-09-13T17:33:05.204241Z",
     "iopub.status.busy": "2022-09-13T17:33:05.203666Z",
     "iopub.status.idle": "2022-09-13T17:33:05.222151Z",
     "shell.execute_reply": "2022-09-13T17:33:05.221663Z"
    },
    "papermill": {
     "duration": 0.145946,
     "end_time": "2022-09-13T17:33:05.223414",
     "exception": false,
     "start_time": "2022-09-13T17:33:05.077468",
     "status": "completed"
    },
    "tags": []
   },
   "outputs": [
    {
     "data": {
      "text/plain": [
       "(288, 3)"
      ]
     },
     "execution_count": 26,
     "metadata": {},
     "output_type": "execute_result"
    }
   ],
   "source": [
    "ensemble.shape"
   ]
  },
  {
   "cell_type": "code",
   "execution_count": 27,
   "id": "67ae0a58",
   "metadata": {
    "execution": {
     "iopub.execute_input": "2022-09-13T17:33:05.507972Z",
     "iopub.status.busy": "2022-09-13T17:33:05.507789Z",
     "iopub.status.idle": "2022-09-13T17:33:05.534420Z",
     "shell.execute_reply": "2022-09-13T17:33:05.533869Z"
    },
    "papermill": {
     "duration": 0.187757,
     "end_time": "2022-09-13T17:33:05.535760",
     "exception": false,
     "start_time": "2022-09-13T17:33:05.348003",
     "status": "completed"
    },
    "tags": []
   },
   "outputs": [
    {
     "data": {
      "text/html": [
       "<div>\n",
       "<style scoped>\n",
       "    .dataframe tbody tr th:only-of-type {\n",
       "        vertical-align: middle;\n",
       "    }\n",
       "\n",
       "    .dataframe tbody tr th {\n",
       "        vertical-align: top;\n",
       "    }\n",
       "\n",
       "    .dataframe thead th {\n",
       "        text-align: right;\n",
       "    }\n",
       "</style>\n",
       "<table border=\"1\" class=\"dataframe\">\n",
       "  <thead>\n",
       "    <tr style=\"text-align: right;\">\n",
       "      <th></th>\n",
       "      <th>clusterer_params</th>\n",
       "      <th>partition</th>\n",
       "      <th>n_clusters</th>\n",
       "    </tr>\n",
       "    <tr>\n",
       "      <th>clusterer_id</th>\n",
       "      <th></th>\n",
       "      <th></th>\n",
       "      <th></th>\n",
       "    </tr>\n",
       "  </thead>\n",
       "  <tbody>\n",
       "    <tr>\n",
       "      <th>DBSCAN #0</th>\n",
       "      <td>{'algorithm': 'auto', 'eps': 0.23, 'leaf_size'...</td>\n",
       "      <td>[nan, 0.0, 0.0, nan, nan, 0.0, 0.0, 0.0, nan, ...</td>\n",
       "      <td>22</td>\n",
       "    </tr>\n",
       "    <tr>\n",
       "      <th>DBSCAN #1</th>\n",
       "      <td>{'algorithm': 'auto', 'eps': 0.247812500000000...</td>\n",
       "      <td>[nan, 0.0, 0.0, nan, nan, 0.0, 0.0, 0.0, nan, ...</td>\n",
       "      <td>17</td>\n",
       "    </tr>\n",
       "    <tr>\n",
       "      <th>DBSCAN #2</th>\n",
       "      <td>{'algorithm': 'auto', 'eps': 0.265625, 'leaf_s...</td>\n",
       "      <td>[nan, 0.0, 0.0, nan, nan, 0.0, 0.0, 0.0, 0.0, ...</td>\n",
       "      <td>12</td>\n",
       "    </tr>\n",
       "    <tr>\n",
       "      <th>DBSCAN #3</th>\n",
       "      <td>{'algorithm': 'auto', 'eps': 0.2834375, 'leaf_...</td>\n",
       "      <td>[nan, 0.0, 0.0, nan, nan, 0.0, 0.0, 0.0, 0.0, ...</td>\n",
       "      <td>7</td>\n",
       "    </tr>\n",
       "    <tr>\n",
       "      <th>DBSCAN #4</th>\n",
       "      <td>{'algorithm': 'auto', 'eps': 0.30125, 'leaf_si...</td>\n",
       "      <td>[0.0, 0.0, 0.0, 0.0, nan, 0.0, 0.0, 0.0, 0.0, ...</td>\n",
       "      <td>5</td>\n",
       "    </tr>\n",
       "  </tbody>\n",
       "</table>\n",
       "</div>"
      ],
      "text/plain": [
       "                                               clusterer_params  \\\n",
       "clusterer_id                                                      \n",
       "DBSCAN #0     {'algorithm': 'auto', 'eps': 0.23, 'leaf_size'...   \n",
       "DBSCAN #1     {'algorithm': 'auto', 'eps': 0.247812500000000...   \n",
       "DBSCAN #2     {'algorithm': 'auto', 'eps': 0.265625, 'leaf_s...   \n",
       "DBSCAN #3     {'algorithm': 'auto', 'eps': 0.2834375, 'leaf_...   \n",
       "DBSCAN #4     {'algorithm': 'auto', 'eps': 0.30125, 'leaf_si...   \n",
       "\n",
       "                                                      partition  n_clusters  \n",
       "clusterer_id                                                                 \n",
       "DBSCAN #0     [nan, 0.0, 0.0, nan, nan, 0.0, 0.0, 0.0, nan, ...          22  \n",
       "DBSCAN #1     [nan, 0.0, 0.0, nan, nan, 0.0, 0.0, 0.0, nan, ...          17  \n",
       "DBSCAN #2     [nan, 0.0, 0.0, nan, nan, 0.0, 0.0, 0.0, 0.0, ...          12  \n",
       "DBSCAN #3     [nan, 0.0, 0.0, nan, nan, 0.0, 0.0, 0.0, 0.0, ...           7  \n",
       "DBSCAN #4     [0.0, 0.0, 0.0, 0.0, nan, 0.0, 0.0, 0.0, 0.0, ...           5  "
      ]
     },
     "execution_count": 27,
     "metadata": {},
     "output_type": "execute_result"
    }
   ],
   "source": [
    "ensemble.head()"
   ]
  },
  {
   "cell_type": "code",
   "execution_count": 28,
   "id": "6d4a10cc",
   "metadata": {
    "execution": {
     "iopub.execute_input": "2022-09-13T17:33:05.788579Z",
     "iopub.status.busy": "2022-09-13T17:33:05.788369Z",
     "iopub.status.idle": "2022-09-13T17:33:05.807966Z",
     "shell.execute_reply": "2022-09-13T17:33:05.807454Z"
    },
    "papermill": {
     "duration": 0.147005,
     "end_time": "2022-09-13T17:33:05.809296",
     "exception": false,
     "start_time": "2022-09-13T17:33:05.662291",
     "status": "completed"
    },
    "tags": []
   },
   "outputs": [
    {
     "data": {
      "text/plain": [
       "2    239\n",
       "8      9\n",
       "7      9\n",
       "6      7\n",
       "4      6\n",
       "Name: n_clusters, dtype: int64"
      ]
     },
     "execution_count": 28,
     "metadata": {},
     "output_type": "execute_result"
    }
   ],
   "source": [
    "ensemble[\"n_clusters\"].value_counts().head()"
   ]
  },
  {
   "cell_type": "code",
   "execution_count": 29,
   "id": "386fc623",
   "metadata": {
    "execution": {
     "iopub.execute_input": "2022-09-13T17:33:06.062619Z",
     "iopub.status.busy": "2022-09-13T17:33:06.062188Z",
     "iopub.status.idle": "2022-09-13T17:33:06.082513Z",
     "shell.execute_reply": "2022-09-13T17:33:06.082063Z"
    },
    "papermill": {
     "duration": 0.148225,
     "end_time": "2022-09-13T17:33:06.083794",
     "exception": false,
     "start_time": "2022-09-13T17:33:05.935569",
     "status": "completed"
    },
    "tags": []
   },
   "outputs": [
    {
     "data": {
      "text/plain": [
       "count    288.000000\n",
       "mean       2.840278\n",
       "std        2.339371\n",
       "min        2.000000\n",
       "25%        2.000000\n",
       "50%        2.000000\n",
       "75%        2.000000\n",
       "max       22.000000\n",
       "Name: n_clusters, dtype: float64"
      ]
     },
     "metadata": {},
     "output_type": "display_data"
    }
   ],
   "source": [
    "ensemble_stats = ensemble[\"n_clusters\"].describe()\n",
    "display(ensemble_stats)"
   ]
  },
  {
   "cell_type": "code",
   "execution_count": 30,
   "id": "cef9fa77",
   "metadata": {
    "execution": {
     "iopub.execute_input": "2022-09-13T17:33:06.368984Z",
     "iopub.status.busy": "2022-09-13T17:33:06.368822Z",
     "iopub.status.idle": "2022-09-13T17:33:06.386318Z",
     "shell.execute_reply": "2022-09-13T17:33:06.385777Z"
    },
    "papermill": {
     "duration": 0.177684,
     "end_time": "2022-09-13T17:33:06.387703",
     "exception": false,
     "start_time": "2022-09-13T17:33:06.210019",
     "status": "completed"
    },
    "tags": []
   },
   "outputs": [],
   "source": [
    "assert (\n",
    "    ensemble.shape[0] > 0\n",
    "), \"Ensemble is empty, stopping here (this is not actually an error if running null simulations)\""
   ]
  },
  {
   "cell_type": "markdown",
   "id": "df03398a",
   "metadata": {
    "papermill": {
     "duration": 0.126305,
     "end_time": "2022-09-13T17:33:06.645918",
     "exception": false,
     "start_time": "2022-09-13T17:33:06.519613",
     "status": "completed"
    },
    "tags": []
   },
   "source": [
    "### Testing"
   ]
  },
  {
   "cell_type": "code",
   "execution_count": 31,
   "id": "6bbebef5",
   "metadata": {
    "execution": {
     "iopub.execute_input": "2022-09-13T17:33:06.897340Z",
     "iopub.status.busy": "2022-09-13T17:33:06.897130Z",
     "iopub.status.idle": "2022-09-13T17:33:06.914489Z",
     "shell.execute_reply": "2022-09-13T17:33:06.914032Z"
    },
    "papermill": {
     "duration": 0.144984,
     "end_time": "2022-09-13T17:33:06.915854",
     "exception": false,
     "start_time": "2022-09-13T17:33:06.770870",
     "status": "completed"
    },
    "tags": []
   },
   "outputs": [],
   "source": [
    "assert ensemble_stats[\"min\"] > 1"
   ]
  },
  {
   "cell_type": "code",
   "execution_count": 32,
   "id": "13bfd3fd",
   "metadata": {
    "execution": {
     "iopub.execute_input": "2022-09-13T17:33:07.201396Z",
     "iopub.status.busy": "2022-09-13T17:33:07.201184Z",
     "iopub.status.idle": "2022-09-13T17:33:07.218796Z",
     "shell.execute_reply": "2022-09-13T17:33:07.218237Z"
    },
    "papermill": {
     "duration": 0.179037,
     "end_time": "2022-09-13T17:33:07.220184",
     "exception": false,
     "start_time": "2022-09-13T17:33:07.041147",
     "status": "completed"
    },
    "tags": []
   },
   "outputs": [],
   "source": [
    "assert not ensemble[\"n_clusters\"].isna().any()"
   ]
  },
  {
   "cell_type": "code",
   "execution_count": 33,
   "id": "f3ececba",
   "metadata": {
    "execution": {
     "iopub.execute_input": "2022-09-13T17:33:07.475582Z",
     "iopub.status.busy": "2022-09-13T17:33:07.475418Z",
     "iopub.status.idle": "2022-09-13T17:33:07.492599Z",
     "shell.execute_reply": "2022-09-13T17:33:07.492109Z"
    },
    "papermill": {
     "duration": 0.147182,
     "end_time": "2022-09-13T17:33:07.494023",
     "exception": false,
     "start_time": "2022-09-13T17:33:07.346841",
     "status": "completed"
    },
    "tags": []
   },
   "outputs": [],
   "source": [
    "# assert ensemble.shape[0] == len(CLUSTERERS)"
   ]
  },
  {
   "cell_type": "code",
   "execution_count": 34,
   "id": "db86bded",
   "metadata": {
    "execution": {
     "iopub.execute_input": "2022-09-13T17:33:07.748289Z",
     "iopub.status.busy": "2022-09-13T17:33:07.748095Z",
     "iopub.status.idle": "2022-09-13T17:33:07.782899Z",
     "shell.execute_reply": "2022-09-13T17:33:07.782232Z"
    },
    "papermill": {
     "duration": 0.163449,
     "end_time": "2022-09-13T17:33:07.784299",
     "exception": false,
     "start_time": "2022-09-13T17:33:07.620850",
     "status": "completed"
    },
    "tags": []
   },
   "outputs": [],
   "source": [
    "# all partitions have the right size\n",
    "assert np.all(\n",
    "    [part[\"partition\"].shape[0] == data.shape[0] for idx, part in ensemble.iterrows()]\n",
    ")"
   ]
  },
  {
   "cell_type": "code",
   "execution_count": 35,
   "id": "e0663b13",
   "metadata": {
    "execution": {
     "iopub.execute_input": "2022-09-13T17:33:08.070485Z",
     "iopub.status.busy": "2022-09-13T17:33:08.070309Z",
     "iopub.status.idle": "2022-09-13T17:33:08.107959Z",
     "shell.execute_reply": "2022-09-13T17:33:08.107342Z"
    },
    "papermill": {
     "duration": 0.198488,
     "end_time": "2022-09-13T17:33:08.109605",
     "exception": false,
     "start_time": "2022-09-13T17:33:07.911117",
     "status": "completed"
    },
    "tags": []
   },
   "outputs": [],
   "source": [
    "# no partition has negative clusters (noisy points)\n",
    "assert not np.any([(part[\"partition\"] < 0).any() for idx, part in ensemble.iterrows()])"
   ]
  },
  {
   "cell_type": "markdown",
   "id": "a39424f4",
   "metadata": {
    "papermill": {
     "duration": 0.125715,
     "end_time": "2022-09-13T17:33:08.360265",
     "exception": false,
     "start_time": "2022-09-13T17:33:08.234550",
     "status": "completed"
    },
    "tags": []
   },
   "source": [
    "### Save"
   ]
  },
  {
   "cell_type": "code",
   "execution_count": 36,
   "id": "7b804a12",
   "metadata": {
    "execution": {
     "iopub.execute_input": "2022-09-13T17:33:08.616198Z",
     "iopub.status.busy": "2022-09-13T17:33:08.615988Z",
     "iopub.status.idle": "2022-09-13T17:33:08.634372Z",
     "shell.execute_reply": "2022-09-13T17:33:08.633855Z"
    },
    "papermill": {
     "duration": 0.147409,
     "end_time": "2022-09-13T17:33:08.635723",
     "exception": false,
     "start_time": "2022-09-13T17:33:08.488314",
     "status": "completed"
    },
    "tags": []
   },
   "outputs": [
    {
     "data": {
      "text/plain": [
       "PosixPath('/opt/data/results/clustering/null_sims/runs/umap-z_score_std-projection-smultixcan-efo_partial-mashr-zscores/DBSCAN.pkl')"
      ]
     },
     "metadata": {},
     "output_type": "display_data"
    }
   ],
   "source": [
    "output_filename = Path(\n",
    "    RESULTS_DIR,\n",
    "    generate_result_set_name(\n",
    "        {},\n",
    "        #         CLUSTERING_OPTIONS,\n",
    "        prefix=f\"{clustering_method_name}\",\n",
    "        suffix=\".pkl\",\n",
    "    ),\n",
    ").resolve()\n",
    "display(output_filename)"
   ]
  },
  {
   "cell_type": "code",
   "execution_count": 37,
   "id": "45336963",
   "metadata": {
    "execution": {
     "iopub.execute_input": "2022-09-13T17:33:08.918642Z",
     "iopub.status.busy": "2022-09-13T17:33:08.917895Z",
     "iopub.status.idle": "2022-09-13T17:33:08.944137Z",
     "shell.execute_reply": "2022-09-13T17:33:08.943509Z"
    },
    "papermill": {
     "duration": 0.184594,
     "end_time": "2022-09-13T17:33:08.945584",
     "exception": false,
     "start_time": "2022-09-13T17:33:08.760990",
     "status": "completed"
    },
    "tags": []
   },
   "outputs": [],
   "source": [
    "ensemble.to_pickle(output_filename)"
   ]
  },
  {
   "cell_type": "code",
   "execution_count": null,
   "id": "33572324",
   "metadata": {
    "papermill": {
     "duration": 0.124379,
     "end_time": "2022-09-13T17:33:09.198237",
     "exception": false,
     "start_time": "2022-09-13T17:33:09.073858",
     "status": "completed"
    },
    "tags": []
   },
   "outputs": [],
   "source": []
  }
 ],
 "metadata": {
  "jupytext": {
   "cell_metadata_filter": "all,-execution,-papermill,-trusted",
   "formats": "ipynb,py//py:percent"
  },
  "kernelspec": {
   "display_name": "Python 3 (ipykernel)",
   "language": "python",
   "name": "python3"
  },
  "language_info": {
   "codemirror_mode": {
    "name": "ipython",
    "version": 3
   },
   "file_extension": ".py",
   "mimetype": "text/x-python",
   "name": "python",
   "nbconvert_exporter": "python",
   "pygments_lexer": "ipython3",
   "version": "3.8.13"
  },
  "papermill": {
   "default_parameters": {},
   "duration": 682.707477,
   "end_time": "2022-09-13T17:33:09.646647",
   "environment_variables": {},
   "exception": null,
   "input_path": "nbs/13.1_cluster_analysis_null/12_02-dbscan-umap.ipynb",
   "output_path": "nbs/13.1_cluster_analysis_null/12_02-dbscan-umap.run.ipynb",
   "parameters": {},
   "start_time": "2022-09-13T17:21:46.939170",
   "version": "2.2.2"
  },
  "toc-autonumbering": true,
  "toc-showcode": false,
  "toc-showmarkdowntxt": false,
  "toc-showtags": false
 },
 "nbformat": 4,
 "nbformat_minor": 5
}
