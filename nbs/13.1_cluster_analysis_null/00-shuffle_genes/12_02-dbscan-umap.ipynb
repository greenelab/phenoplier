{
 "cells": [
  {
   "cell_type": "markdown",
   "id": "80589afc",
   "metadata": {
    "papermill": {
     "duration": 0.009114,
     "end_time": "2022-11-26T03:08:46.545319",
     "exception": false,
     "start_time": "2022-11-26T03:08:46.536205",
     "status": "completed"
    },
    "tags": []
   },
   "source": [
    "# Description"
   ]
  },
  {
   "cell_type": "markdown",
   "id": "f6fbffad",
   "metadata": {
    "papermill": {
     "duration": 0.009087,
     "end_time": "2022-11-26T03:08:46.565188",
     "exception": false,
     "start_time": "2022-11-26T03:08:46.556101",
     "status": "completed"
    },
    "tags": []
   },
   "source": [
    "It runs DBSCAN on the `umap` version of the data.\n",
    "\n",
    "The notebook explores different values for `min_samples` and `eps` (the main parameters of DBSCAN)."
   ]
  },
  {
   "cell_type": "markdown",
   "id": "cf697dfd",
   "metadata": {
    "papermill": {
     "duration": 0.008028,
     "end_time": "2022-11-26T03:08:46.581534",
     "exception": false,
     "start_time": "2022-11-26T03:08:46.573506",
     "status": "completed"
    },
    "tags": []
   },
   "source": [
    "# Environment variables"
   ]
  },
  {
   "cell_type": "code",
   "execution_count": 1,
   "id": "b38f0174",
   "metadata": {
    "execution": {
     "iopub.execute_input": "2022-11-26T03:08:46.598775Z",
     "iopub.status.busy": "2022-11-26T03:08:46.598584Z",
     "iopub.status.idle": "2022-11-26T03:08:46.616672Z",
     "shell.execute_reply": "2022-11-26T03:08:46.616282Z"
    },
    "papermill": {
     "duration": 0.028239,
     "end_time": "2022-11-26T03:08:46.618003",
     "exception": false,
     "start_time": "2022-11-26T03:08:46.589764",
     "status": "completed"
    },
    "tags": []
   },
   "outputs": [
    {
     "data": {
      "text/plain": [
       "10"
      ]
     },
     "metadata": {},
     "output_type": "display_data"
    }
   ],
   "source": [
    "from IPython.display import display\n",
    "\n",
    "import conf\n",
    "\n",
    "N_JOBS = conf.GENERAL[\"N_JOBS\"]\n",
    "display(N_JOBS)"
   ]
  },
  {
   "cell_type": "code",
   "execution_count": 2,
   "id": "4d043e0e",
   "metadata": {
    "execution": {
     "iopub.execute_input": "2022-11-26T03:08:46.636199Z",
     "iopub.status.busy": "2022-11-26T03:08:46.635864Z",
     "iopub.status.idle": "2022-11-26T03:08:46.641780Z",
     "shell.execute_reply": "2022-11-26T03:08:46.641392Z"
    },
    "papermill": {
     "duration": 0.016023,
     "end_time": "2022-11-26T03:08:46.643033",
     "exception": false,
     "start_time": "2022-11-26T03:08:46.627010",
     "status": "completed"
    },
    "tags": []
   },
   "outputs": [
    {
     "name": "stdout",
     "output_type": "stream",
     "text": [
      "env: MKL_NUM_THREADS=10\n",
      "env: OPEN_BLAS_NUM_THREADS=10\n",
      "env: NUMEXPR_NUM_THREADS=10\n",
      "env: OMP_NUM_THREADS=10\n"
     ]
    }
   ],
   "source": [
    "%env MKL_NUM_THREADS=$N_JOBS\n",
    "%env OPEN_BLAS_NUM_THREADS=$N_JOBS\n",
    "%env NUMEXPR_NUM_THREADS=$N_JOBS\n",
    "%env OMP_NUM_THREADS=$N_JOBS"
   ]
  },
  {
   "cell_type": "markdown",
   "id": "fc1eccf7",
   "metadata": {
    "papermill": {
     "duration": 0.008267,
     "end_time": "2022-11-26T03:08:46.660200",
     "exception": false,
     "start_time": "2022-11-26T03:08:46.651933",
     "status": "completed"
    },
    "tags": []
   },
   "source": [
    "# Modules loading"
   ]
  },
  {
   "cell_type": "code",
   "execution_count": 3,
   "id": "1717be8c",
   "metadata": {
    "execution": {
     "iopub.execute_input": "2022-11-26T03:08:46.677485Z",
     "iopub.status.busy": "2022-11-26T03:08:46.677016Z",
     "iopub.status.idle": "2022-11-26T03:08:46.689531Z",
     "shell.execute_reply": "2022-11-26T03:08:46.689149Z"
    },
    "papermill": {
     "duration": 0.021752,
     "end_time": "2022-11-26T03:08:46.690392",
     "exception": false,
     "start_time": "2022-11-26T03:08:46.668640",
     "status": "completed"
    },
    "tags": []
   },
   "outputs": [],
   "source": [
    "%load_ext autoreload\n",
    "%autoreload 2"
   ]
  },
  {
   "cell_type": "code",
   "execution_count": 4,
   "id": "895656d4",
   "metadata": {
    "execution": {
     "iopub.execute_input": "2022-11-26T03:08:46.700003Z",
     "iopub.status.busy": "2022-11-26T03:08:46.699679Z",
     "iopub.status.idle": "2022-11-26T03:08:47.179942Z",
     "shell.execute_reply": "2022-11-26T03:08:47.179609Z"
    },
    "papermill": {
     "duration": 0.486718,
     "end_time": "2022-11-26T03:08:47.181548",
     "exception": false,
     "start_time": "2022-11-26T03:08:46.694830",
     "status": "completed"
    },
    "tags": []
   },
   "outputs": [],
   "source": [
    "from pathlib import Path\n",
    "\n",
    "import numpy as np\n",
    "import pandas as pd\n",
    "from sklearn.neighbors import NearestNeighbors\n",
    "from sklearn.metrics import pairwise_distances\n",
    "from sklearn.cluster import DBSCAN\n",
    "import matplotlib.pyplot as plt\n",
    "\n",
    "from utils import generate_result_set_name\n",
    "from clustering.ensembles.utils import generate_ensemble"
   ]
  },
  {
   "cell_type": "markdown",
   "id": "417425a2",
   "metadata": {
    "papermill": {
     "duration": 0.009588,
     "end_time": "2022-11-26T03:08:47.199892",
     "exception": false,
     "start_time": "2022-11-26T03:08:47.190304",
     "status": "completed"
    },
    "tags": []
   },
   "source": [
    "# Global settings"
   ]
  },
  {
   "cell_type": "code",
   "execution_count": 5,
   "id": "34ea787d",
   "metadata": {
    "execution": {
     "iopub.execute_input": "2022-11-26T03:08:47.217762Z",
     "iopub.status.busy": "2022-11-26T03:08:47.217513Z",
     "iopub.status.idle": "2022-11-26T03:08:47.236592Z",
     "shell.execute_reply": "2022-11-26T03:08:47.236201Z"
    },
    "papermill": {
     "duration": 0.029073,
     "end_time": "2022-11-26T03:08:47.237782",
     "exception": false,
     "start_time": "2022-11-26T03:08:47.208709",
     "status": "completed"
    },
    "tags": []
   },
   "outputs": [],
   "source": [
    "np.random.seed(0)"
   ]
  },
  {
   "cell_type": "code",
   "execution_count": 6,
   "id": "e756c5da",
   "metadata": {
    "execution": {
     "iopub.execute_input": "2022-11-26T03:08:47.255016Z",
     "iopub.status.busy": "2022-11-26T03:08:47.254703Z",
     "iopub.status.idle": "2022-11-26T03:08:47.272596Z",
     "shell.execute_reply": "2022-11-26T03:08:47.272177Z"
    },
    "papermill": {
     "duration": 0.027797,
     "end_time": "2022-11-26T03:08:47.273827",
     "exception": false,
     "start_time": "2022-11-26T03:08:47.246030",
     "status": "completed"
    },
    "tags": []
   },
   "outputs": [],
   "source": [
    "CLUSTERING_ATTRIBUTES_TO_SAVE = [\"n_clusters\"]"
   ]
  },
  {
   "cell_type": "code",
   "execution_count": 7,
   "id": "af603d64-0744-40f1-bc64-8d578c178a16",
   "metadata": {
    "execution": {
     "iopub.execute_input": "2022-11-26T03:08:47.291806Z",
     "iopub.status.busy": "2022-11-26T03:08:47.291494Z",
     "iopub.status.idle": "2022-11-26T03:08:47.309144Z",
     "shell.execute_reply": "2022-11-26T03:08:47.308760Z"
    },
    "papermill": {
     "duration": 0.027728,
     "end_time": "2022-11-26T03:08:47.310365",
     "exception": false,
     "start_time": "2022-11-26T03:08:47.282637",
     "status": "completed"
    },
    "tags": []
   },
   "outputs": [],
   "source": [
    "NULL_DIR = conf.RESULTS[\"CLUSTERING_NULL_DIR\"] / \"shuffle_genes\""
   ]
  },
  {
   "cell_type": "markdown",
   "id": "8f15357f",
   "metadata": {
    "papermill": {
     "duration": 0.008255,
     "end_time": "2022-11-26T03:08:47.327118",
     "exception": false,
     "start_time": "2022-11-26T03:08:47.318863",
     "status": "completed"
    },
    "tags": []
   },
   "source": [
    "# Settings"
   ]
  },
  {
   "cell_type": "code",
   "execution_count": 8,
   "id": "750092ae",
   "metadata": {
    "execution": {
     "iopub.execute_input": "2022-11-26T03:08:47.369321Z",
     "iopub.status.busy": "2022-11-26T03:08:47.368966Z",
     "iopub.status.idle": "2022-11-26T03:08:47.387981Z",
     "shell.execute_reply": "2022-11-26T03:08:47.387600Z"
    },
    "papermill": {
     "duration": 0.053223,
     "end_time": "2022-11-26T03:08:47.388772",
     "exception": false,
     "start_time": "2022-11-26T03:08:47.335549",
     "status": "completed"
    },
    "tags": []
   },
   "outputs": [],
   "source": [
    "# these parameter values are taken from the pre-analysis notebook for this clustering method and data version\n",
    "k_values = np.arange(2, 125 + 1, 1)\n",
    "\n",
    "eps_range_per_k = {\n",
    "    k: (0.23, 0.80)\n",
    "    if k < 5\n",
    "    else (0.30, 0.80)\n",
    "    if k < 10\n",
    "    else (0.40, 2.50)\n",
    "    if k < 20\n",
    "    else (0.40, 7.00)\n",
    "    if k < 50\n",
    "    else (0.50, 10.00)\n",
    "    for k in k_values\n",
    "}"
   ]
  },
  {
   "cell_type": "markdown",
   "id": "27d596ba",
   "metadata": {
    "papermill": {
     "duration": 0.00426,
     "end_time": "2022-11-26T03:08:47.397431",
     "exception": false,
     "start_time": "2022-11-26T03:08:47.393171",
     "status": "completed"
    },
    "tags": []
   },
   "source": [
    "# Data version: umap"
   ]
  },
  {
   "cell_type": "markdown",
   "id": "33e28553",
   "metadata": {
    "papermill": {
     "duration": 0.004274,
     "end_time": "2022-11-26T03:08:47.406067",
     "exception": false,
     "start_time": "2022-11-26T03:08:47.401793",
     "status": "completed"
    },
    "tags": []
   },
   "source": [
    "## Settings"
   ]
  },
  {
   "cell_type": "code",
   "execution_count": 9,
   "id": "0254cfcd",
   "metadata": {
    "execution": {
     "iopub.execute_input": "2022-11-26T03:08:47.415829Z",
     "iopub.status.busy": "2022-11-26T03:08:47.415519Z",
     "iopub.status.idle": "2022-11-26T03:08:47.433045Z",
     "shell.execute_reply": "2022-11-26T03:08:47.432669Z"
    },
    "papermill": {
     "duration": 0.023095,
     "end_time": "2022-11-26T03:08:47.433777",
     "exception": false,
     "start_time": "2022-11-26T03:08:47.410682",
     "status": "completed"
    },
    "tags": []
   },
   "outputs": [],
   "source": [
    "INPUT_SUBSET = \"umap\""
   ]
  },
  {
   "cell_type": "code",
   "execution_count": 10,
   "id": "acd1436b",
   "metadata": {
    "execution": {
     "iopub.execute_input": "2022-11-26T03:08:47.443234Z",
     "iopub.status.busy": "2022-11-26T03:08:47.442936Z",
     "iopub.status.idle": "2022-11-26T03:08:47.460486Z",
     "shell.execute_reply": "2022-11-26T03:08:47.460098Z"
    },
    "papermill": {
     "duration": 0.023118,
     "end_time": "2022-11-26T03:08:47.461227",
     "exception": false,
     "start_time": "2022-11-26T03:08:47.438109",
     "status": "completed"
    },
    "tags": []
   },
   "outputs": [],
   "source": [
    "INPUT_STEM = \"z_score_std-projection-smultixcan-efo_partial-mashr-zscores\""
   ]
  },
  {
   "cell_type": "code",
   "execution_count": 11,
   "id": "9e49e98c",
   "metadata": {
    "execution": {
     "iopub.execute_input": "2022-11-26T03:08:47.470934Z",
     "iopub.status.busy": "2022-11-26T03:08:47.470641Z",
     "iopub.status.idle": "2022-11-26T03:08:47.488454Z",
     "shell.execute_reply": "2022-11-26T03:08:47.488058Z"
    },
    "papermill": {
     "duration": 0.02344,
     "end_time": "2022-11-26T03:08:47.489218",
     "exception": false,
     "start_time": "2022-11-26T03:08:47.465778",
     "status": "completed"
    },
    "tags": []
   },
   "outputs": [],
   "source": [
    "# parameters of the dimentionality reduction steps\n",
    "DR_OPTIONS = {\n",
    "    \"n_components\": 50,\n",
    "    \"metric\": \"euclidean\",\n",
    "    \"n_neighbors\": 15,\n",
    "    \"random_state\": 0,\n",
    "}"
   ]
  },
  {
   "cell_type": "code",
   "execution_count": 12,
   "id": "e1c15698",
   "metadata": {
    "execution": {
     "iopub.execute_input": "2022-11-26T03:08:47.498739Z",
     "iopub.status.busy": "2022-11-26T03:08:47.498429Z",
     "iopub.status.idle": "2022-11-26T03:08:47.518598Z",
     "shell.execute_reply": "2022-11-26T03:08:47.518231Z"
    },
    "papermill": {
     "duration": 0.025726,
     "end_time": "2022-11-26T03:08:47.519309",
     "exception": false,
     "start_time": "2022-11-26T03:08:47.493583",
     "status": "completed"
    },
    "tags": []
   },
   "outputs": [
    {
     "data": {
      "text/plain": [
       "PosixPath('/opt/data/results/clustering/null_sims/shuffle_genes/data_transformations/umap/umap-z_score_std-projection-smultixcan-efo_partial-mashr-zscores-metric_euclidean-n_components_50-n_neighbors_15-random_state_0.pkl')"
      ]
     },
     "metadata": {},
     "output_type": "display_data"
    },
    {
     "data": {
      "text/plain": [
       "'umap-z_score_std-projection-smultixcan-efo_partial-mashr-zscores-metric_euclidean-n_components_50-n_neighbors_15-random_state_0'"
      ]
     },
     "metadata": {},
     "output_type": "display_data"
    }
   ],
   "source": [
    "input_filepath = Path(\n",
    "    NULL_DIR,\n",
    "    \"data_transformations\",\n",
    "    INPUT_SUBSET,\n",
    "    generate_result_set_name(\n",
    "        DR_OPTIONS, prefix=f\"{INPUT_SUBSET}-{INPUT_STEM}-\", suffix=\".pkl\"\n",
    "    ),\n",
    ").resolve()\n",
    "display(input_filepath)\n",
    "\n",
    "assert input_filepath.exists(), \"Input file does not exist\"\n",
    "\n",
    "input_filepath_stem = input_filepath.stem\n",
    "display(input_filepath_stem)"
   ]
  },
  {
   "cell_type": "code",
   "execution_count": 13,
   "id": "a0f32d44",
   "metadata": {
    "execution": {
     "iopub.execute_input": "2022-11-26T03:08:47.529233Z",
     "iopub.status.busy": "2022-11-26T03:08:47.528934Z",
     "iopub.status.idle": "2022-11-26T03:08:47.547736Z",
     "shell.execute_reply": "2022-11-26T03:08:47.547367Z"
    },
    "papermill": {
     "duration": 0.024716,
     "end_time": "2022-11-26T03:08:47.548472",
     "exception": false,
     "start_time": "2022-11-26T03:08:47.523756",
     "status": "completed"
    },
    "tags": []
   },
   "outputs": [
    {
     "data": {
      "text/plain": [
       "PosixPath('/opt/data/results/clustering/null_sims/shuffle_genes/runs/umap-z_score_std-projection-smultixcan-efo_partial-mashr-zscores')"
      ]
     },
     "metadata": {},
     "output_type": "display_data"
    }
   ],
   "source": [
    "# output dir for this notebook\n",
    "RESULTS_DIR = Path(\n",
    "    NULL_DIR,\n",
    "    \"runs\",\n",
    "    f\"{INPUT_SUBSET}-{INPUT_STEM}\",\n",
    ").resolve()\n",
    "RESULTS_DIR.mkdir(parents=True, exist_ok=True)\n",
    "\n",
    "display(RESULTS_DIR)"
   ]
  },
  {
   "cell_type": "markdown",
   "id": "39b97d01",
   "metadata": {
    "papermill": {
     "duration": 0.00442,
     "end_time": "2022-11-26T03:08:47.557391",
     "exception": false,
     "start_time": "2022-11-26T03:08:47.552971",
     "status": "completed"
    },
    "tags": []
   },
   "source": [
    "## Load input file"
   ]
  },
  {
   "cell_type": "code",
   "execution_count": 14,
   "id": "9d7fa587",
   "metadata": {
    "execution": {
     "iopub.execute_input": "2022-11-26T03:08:47.567309Z",
     "iopub.status.busy": "2022-11-26T03:08:47.566902Z",
     "iopub.status.idle": "2022-11-26T03:08:47.586655Z",
     "shell.execute_reply": "2022-11-26T03:08:47.586249Z"
    },
    "papermill": {
     "duration": 0.025599,
     "end_time": "2022-11-26T03:08:47.587503",
     "exception": false,
     "start_time": "2022-11-26T03:08:47.561904",
     "status": "completed"
    },
    "tags": []
   },
   "outputs": [],
   "source": [
    "data = pd.read_pickle(input_filepath)"
   ]
  },
  {
   "cell_type": "code",
   "execution_count": 15,
   "id": "97513d49",
   "metadata": {
    "execution": {
     "iopub.execute_input": "2022-11-26T03:08:47.597574Z",
     "iopub.status.busy": "2022-11-26T03:08:47.597258Z",
     "iopub.status.idle": "2022-11-26T03:08:47.616001Z",
     "shell.execute_reply": "2022-11-26T03:08:47.615629Z"
    },
    "papermill": {
     "duration": 0.024499,
     "end_time": "2022-11-26T03:08:47.616752",
     "exception": false,
     "start_time": "2022-11-26T03:08:47.592253",
     "status": "completed"
    },
    "tags": []
   },
   "outputs": [
    {
     "data": {
      "text/plain": [
       "(3752, 50)"
      ]
     },
     "execution_count": 15,
     "metadata": {},
     "output_type": "execute_result"
    }
   ],
   "source": [
    "data.shape"
   ]
  },
  {
   "cell_type": "code",
   "execution_count": 16,
   "id": "b7946d13",
   "metadata": {
    "execution": {
     "iopub.execute_input": "2022-11-26T03:08:47.626705Z",
     "iopub.status.busy": "2022-11-26T03:08:47.626331Z",
     "iopub.status.idle": "2022-11-26T03:08:47.661513Z",
     "shell.execute_reply": "2022-11-26T03:08:47.661078Z"
    },
    "papermill": {
     "duration": 0.04098,
     "end_time": "2022-11-26T03:08:47.662275",
     "exception": false,
     "start_time": "2022-11-26T03:08:47.621295",
     "status": "completed"
    },
    "tags": []
   },
   "outputs": [
    {
     "data": {
      "text/html": [
       "<div>\n",
       "<style scoped>\n",
       "    .dataframe tbody tr th:only-of-type {\n",
       "        vertical-align: middle;\n",
       "    }\n",
       "\n",
       "    .dataframe tbody tr th {\n",
       "        vertical-align: top;\n",
       "    }\n",
       "\n",
       "    .dataframe thead th {\n",
       "        text-align: right;\n",
       "    }\n",
       "</style>\n",
       "<table border=\"1\" class=\"dataframe\">\n",
       "  <thead>\n",
       "    <tr style=\"text-align: right;\">\n",
       "      <th></th>\n",
       "      <th>UMAP1</th>\n",
       "      <th>UMAP2</th>\n",
       "      <th>UMAP3</th>\n",
       "      <th>UMAP4</th>\n",
       "      <th>UMAP5</th>\n",
       "      <th>UMAP6</th>\n",
       "      <th>UMAP7</th>\n",
       "      <th>UMAP8</th>\n",
       "      <th>UMAP9</th>\n",
       "      <th>UMAP10</th>\n",
       "      <th>...</th>\n",
       "      <th>UMAP41</th>\n",
       "      <th>UMAP42</th>\n",
       "      <th>UMAP43</th>\n",
       "      <th>UMAP44</th>\n",
       "      <th>UMAP45</th>\n",
       "      <th>UMAP46</th>\n",
       "      <th>UMAP47</th>\n",
       "      <th>UMAP48</th>\n",
       "      <th>UMAP49</th>\n",
       "      <th>UMAP50</th>\n",
       "    </tr>\n",
       "  </thead>\n",
       "  <tbody>\n",
       "    <tr>\n",
       "      <th>100001_raw-Food_weight</th>\n",
       "      <td>3.507164</td>\n",
       "      <td>4.783988</td>\n",
       "      <td>2.721716</td>\n",
       "      <td>5.306452</td>\n",
       "      <td>3.881773</td>\n",
       "      <td>3.321169</td>\n",
       "      <td>4.960411</td>\n",
       "      <td>5.549141</td>\n",
       "      <td>4.841390</td>\n",
       "      <td>3.194715</td>\n",
       "      <td>...</td>\n",
       "      <td>9.187434</td>\n",
       "      <td>2.469095</td>\n",
       "      <td>1.234505</td>\n",
       "      <td>9.594598</td>\n",
       "      <td>0.333957</td>\n",
       "      <td>8.039461</td>\n",
       "      <td>5.482632</td>\n",
       "      <td>4.958725</td>\n",
       "      <td>2.801697</td>\n",
       "      <td>5.658304</td>\n",
       "    </tr>\n",
       "    <tr>\n",
       "      <th>100002_raw-Energy</th>\n",
       "      <td>3.606311</td>\n",
       "      <td>4.727725</td>\n",
       "      <td>2.704979</td>\n",
       "      <td>5.271563</td>\n",
       "      <td>3.724591</td>\n",
       "      <td>3.337485</td>\n",
       "      <td>4.781901</td>\n",
       "      <td>5.599291</td>\n",
       "      <td>4.791382</td>\n",
       "      <td>3.003243</td>\n",
       "      <td>...</td>\n",
       "      <td>9.121886</td>\n",
       "      <td>2.506307</td>\n",
       "      <td>1.227272</td>\n",
       "      <td>9.574743</td>\n",
       "      <td>0.344036</td>\n",
       "      <td>8.037237</td>\n",
       "      <td>5.477282</td>\n",
       "      <td>4.900286</td>\n",
       "      <td>2.729573</td>\n",
       "      <td>5.601664</td>\n",
       "    </tr>\n",
       "    <tr>\n",
       "      <th>100003_raw-Protein</th>\n",
       "      <td>3.594661</td>\n",
       "      <td>4.729409</td>\n",
       "      <td>2.682754</td>\n",
       "      <td>5.218021</td>\n",
       "      <td>3.652642</td>\n",
       "      <td>3.325793</td>\n",
       "      <td>4.771183</td>\n",
       "      <td>5.580573</td>\n",
       "      <td>4.820001</td>\n",
       "      <td>3.022622</td>\n",
       "      <td>...</td>\n",
       "      <td>9.097627</td>\n",
       "      <td>2.484138</td>\n",
       "      <td>1.221946</td>\n",
       "      <td>9.572356</td>\n",
       "      <td>0.339655</td>\n",
       "      <td>8.043584</td>\n",
       "      <td>5.472909</td>\n",
       "      <td>4.895183</td>\n",
       "      <td>2.765254</td>\n",
       "      <td>5.663905</td>\n",
       "    </tr>\n",
       "    <tr>\n",
       "      <th>100004_raw-Fat</th>\n",
       "      <td>3.459632</td>\n",
       "      <td>4.797582</td>\n",
       "      <td>2.755155</td>\n",
       "      <td>5.230875</td>\n",
       "      <td>3.784350</td>\n",
       "      <td>3.366962</td>\n",
       "      <td>4.942765</td>\n",
       "      <td>5.604582</td>\n",
       "      <td>4.731943</td>\n",
       "      <td>3.045358</td>\n",
       "      <td>...</td>\n",
       "      <td>9.124997</td>\n",
       "      <td>2.587374</td>\n",
       "      <td>1.199794</td>\n",
       "      <td>9.633430</td>\n",
       "      <td>0.286029</td>\n",
       "      <td>8.071218</td>\n",
       "      <td>5.476699</td>\n",
       "      <td>4.869335</td>\n",
       "      <td>2.766068</td>\n",
       "      <td>5.523112</td>\n",
       "    </tr>\n",
       "    <tr>\n",
       "      <th>100005_raw-Carbohydrate</th>\n",
       "      <td>3.436945</td>\n",
       "      <td>4.827942</td>\n",
       "      <td>2.761039</td>\n",
       "      <td>5.268426</td>\n",
       "      <td>4.005526</td>\n",
       "      <td>3.357875</td>\n",
       "      <td>5.036726</td>\n",
       "      <td>5.545567</td>\n",
       "      <td>4.842803</td>\n",
       "      <td>3.282768</td>\n",
       "      <td>...</td>\n",
       "      <td>9.181946</td>\n",
       "      <td>2.513265</td>\n",
       "      <td>1.200227</td>\n",
       "      <td>9.631493</td>\n",
       "      <td>0.349085</td>\n",
       "      <td>8.032649</td>\n",
       "      <td>5.486337</td>\n",
       "      <td>4.947569</td>\n",
       "      <td>2.811798</td>\n",
       "      <td>5.677997</td>\n",
       "    </tr>\n",
       "  </tbody>\n",
       "</table>\n",
       "<p>5 rows × 50 columns</p>\n",
       "</div>"
      ],
      "text/plain": [
       "                            UMAP1     UMAP2     UMAP3     UMAP4     UMAP5  \\\n",
       "100001_raw-Food_weight   3.507164  4.783988  2.721716  5.306452  3.881773   \n",
       "100002_raw-Energy        3.606311  4.727725  2.704979  5.271563  3.724591   \n",
       "100003_raw-Protein       3.594661  4.729409  2.682754  5.218021  3.652642   \n",
       "100004_raw-Fat           3.459632  4.797582  2.755155  5.230875  3.784350   \n",
       "100005_raw-Carbohydrate  3.436945  4.827942  2.761039  5.268426  4.005526   \n",
       "\n",
       "                            UMAP6     UMAP7     UMAP8     UMAP9    UMAP10  \\\n",
       "100001_raw-Food_weight   3.321169  4.960411  5.549141  4.841390  3.194715   \n",
       "100002_raw-Energy        3.337485  4.781901  5.599291  4.791382  3.003243   \n",
       "100003_raw-Protein       3.325793  4.771183  5.580573  4.820001  3.022622   \n",
       "100004_raw-Fat           3.366962  4.942765  5.604582  4.731943  3.045358   \n",
       "100005_raw-Carbohydrate  3.357875  5.036726  5.545567  4.842803  3.282768   \n",
       "\n",
       "                         ...    UMAP41    UMAP42    UMAP43    UMAP44  \\\n",
       "100001_raw-Food_weight   ...  9.187434  2.469095  1.234505  9.594598   \n",
       "100002_raw-Energy        ...  9.121886  2.506307  1.227272  9.574743   \n",
       "100003_raw-Protein       ...  9.097627  2.484138  1.221946  9.572356   \n",
       "100004_raw-Fat           ...  9.124997  2.587374  1.199794  9.633430   \n",
       "100005_raw-Carbohydrate  ...  9.181946  2.513265  1.200227  9.631493   \n",
       "\n",
       "                           UMAP45    UMAP46    UMAP47    UMAP48    UMAP49  \\\n",
       "100001_raw-Food_weight   0.333957  8.039461  5.482632  4.958725  2.801697   \n",
       "100002_raw-Energy        0.344036  8.037237  5.477282  4.900286  2.729573   \n",
       "100003_raw-Protein       0.339655  8.043584  5.472909  4.895183  2.765254   \n",
       "100004_raw-Fat           0.286029  8.071218  5.476699  4.869335  2.766068   \n",
       "100005_raw-Carbohydrate  0.349085  8.032649  5.486337  4.947569  2.811798   \n",
       "\n",
       "                           UMAP50  \n",
       "100001_raw-Food_weight   5.658304  \n",
       "100002_raw-Energy        5.601664  \n",
       "100003_raw-Protein       5.663905  \n",
       "100004_raw-Fat           5.523112  \n",
       "100005_raw-Carbohydrate  5.677997  \n",
       "\n",
       "[5 rows x 50 columns]"
      ]
     },
     "execution_count": 16,
     "metadata": {},
     "output_type": "execute_result"
    }
   ],
   "source": [
    "data.head()"
   ]
  },
  {
   "cell_type": "code",
   "execution_count": 17,
   "id": "d1c24e81",
   "metadata": {
    "execution": {
     "iopub.execute_input": "2022-11-26T03:08:47.672841Z",
     "iopub.status.busy": "2022-11-26T03:08:47.672510Z",
     "iopub.status.idle": "2022-11-26T03:08:47.691897Z",
     "shell.execute_reply": "2022-11-26T03:08:47.691453Z"
    },
    "papermill": {
     "duration": 0.025534,
     "end_time": "2022-11-26T03:08:47.692813",
     "exception": false,
     "start_time": "2022-11-26T03:08:47.667279",
     "status": "completed"
    },
    "tags": []
   },
   "outputs": [],
   "source": [
    "assert not data.isna().any().any()"
   ]
  },
  {
   "cell_type": "markdown",
   "id": "a7e58baf",
   "metadata": {
    "papermill": {
     "duration": 0.004644,
     "end_time": "2022-11-26T03:08:47.702150",
     "exception": false,
     "start_time": "2022-11-26T03:08:47.697506",
     "status": "completed"
    },
    "tags": []
   },
   "source": [
    "## Clustering"
   ]
  },
  {
   "cell_type": "markdown",
   "id": "bde20f6e",
   "metadata": {
    "papermill": {
     "duration": 0.004659,
     "end_time": "2022-11-26T03:08:47.711781",
     "exception": false,
     "start_time": "2022-11-26T03:08:47.707122",
     "status": "completed"
    },
    "tags": []
   },
   "source": [
    "### Generate clusterers"
   ]
  },
  {
   "cell_type": "code",
   "execution_count": 18,
   "id": "62d4d79d",
   "metadata": {
    "execution": {
     "iopub.execute_input": "2022-11-26T03:08:47.722048Z",
     "iopub.status.busy": "2022-11-26T03:08:47.721735Z",
     "iopub.status.idle": "2022-11-26T03:08:47.747818Z",
     "shell.execute_reply": "2022-11-26T03:08:47.747452Z"
    },
    "papermill": {
     "duration": 0.032095,
     "end_time": "2022-11-26T03:08:47.748586",
     "exception": false,
     "start_time": "2022-11-26T03:08:47.716491",
     "status": "completed"
    },
    "tags": []
   },
   "outputs": [
    {
     "data": {
      "text/plain": [
       "{'K_RANGE': array([  2,   3,   4,   5,   6,   7,   8,   9,  10,  11,  12,  13,  14,\n",
       "         15,  16,  17,  18,  19,  20,  21,  22,  23,  24,  25,  26,  27,\n",
       "         28,  29,  30,  31,  32,  33,  34,  35,  36,  37,  38,  39,  40,\n",
       "         41,  42,  43,  44,  45,  46,  47,  48,  49,  50,  51,  52,  53,\n",
       "         54,  55,  56,  57,  58,  59,  60,  61,  62,  63,  64,  65,  66,\n",
       "         67,  68,  69,  70,  71,  72,  73,  74,  75,  76,  77,  78,  79,\n",
       "         80,  81,  82,  83,  84,  85,  86,  87,  88,  89,  90,  91,  92,\n",
       "         93,  94,  95,  96,  97,  98,  99, 100, 101, 102, 103, 104, 105,\n",
       "        106, 107, 108, 109, 110, 111, 112, 113, 114, 115, 116, 117, 118,\n",
       "        119, 120, 121, 122, 123, 124, 125]),\n",
       " 'EPS_RANGE_PER_K': {2: (0.23, 0.8),\n",
       "  3: (0.23, 0.8),\n",
       "  4: (0.23, 0.8),\n",
       "  5: (0.3, 0.8),\n",
       "  6: (0.3, 0.8),\n",
       "  7: (0.3, 0.8),\n",
       "  8: (0.3, 0.8),\n",
       "  9: (0.3, 0.8),\n",
       "  10: (0.4, 2.5),\n",
       "  11: (0.4, 2.5),\n",
       "  12: (0.4, 2.5),\n",
       "  13: (0.4, 2.5),\n",
       "  14: (0.4, 2.5),\n",
       "  15: (0.4, 2.5),\n",
       "  16: (0.4, 2.5),\n",
       "  17: (0.4, 2.5),\n",
       "  18: (0.4, 2.5),\n",
       "  19: (0.4, 2.5),\n",
       "  20: (0.4, 7.0),\n",
       "  21: (0.4, 7.0),\n",
       "  22: (0.4, 7.0),\n",
       "  23: (0.4, 7.0),\n",
       "  24: (0.4, 7.0),\n",
       "  25: (0.4, 7.0),\n",
       "  26: (0.4, 7.0),\n",
       "  27: (0.4, 7.0),\n",
       "  28: (0.4, 7.0),\n",
       "  29: (0.4, 7.0),\n",
       "  30: (0.4, 7.0),\n",
       "  31: (0.4, 7.0),\n",
       "  32: (0.4, 7.0),\n",
       "  33: (0.4, 7.0),\n",
       "  34: (0.4, 7.0),\n",
       "  35: (0.4, 7.0),\n",
       "  36: (0.4, 7.0),\n",
       "  37: (0.4, 7.0),\n",
       "  38: (0.4, 7.0),\n",
       "  39: (0.4, 7.0),\n",
       "  40: (0.4, 7.0),\n",
       "  41: (0.4, 7.0),\n",
       "  42: (0.4, 7.0),\n",
       "  43: (0.4, 7.0),\n",
       "  44: (0.4, 7.0),\n",
       "  45: (0.4, 7.0),\n",
       "  46: (0.4, 7.0),\n",
       "  47: (0.4, 7.0),\n",
       "  48: (0.4, 7.0),\n",
       "  49: (0.4, 7.0),\n",
       "  50: (0.5, 10.0),\n",
       "  51: (0.5, 10.0),\n",
       "  52: (0.5, 10.0),\n",
       "  53: (0.5, 10.0),\n",
       "  54: (0.5, 10.0),\n",
       "  55: (0.5, 10.0),\n",
       "  56: (0.5, 10.0),\n",
       "  57: (0.5, 10.0),\n",
       "  58: (0.5, 10.0),\n",
       "  59: (0.5, 10.0),\n",
       "  60: (0.5, 10.0),\n",
       "  61: (0.5, 10.0),\n",
       "  62: (0.5, 10.0),\n",
       "  63: (0.5, 10.0),\n",
       "  64: (0.5, 10.0),\n",
       "  65: (0.5, 10.0),\n",
       "  66: (0.5, 10.0),\n",
       "  67: (0.5, 10.0),\n",
       "  68: (0.5, 10.0),\n",
       "  69: (0.5, 10.0),\n",
       "  70: (0.5, 10.0),\n",
       "  71: (0.5, 10.0),\n",
       "  72: (0.5, 10.0),\n",
       "  73: (0.5, 10.0),\n",
       "  74: (0.5, 10.0),\n",
       "  75: (0.5, 10.0),\n",
       "  76: (0.5, 10.0),\n",
       "  77: (0.5, 10.0),\n",
       "  78: (0.5, 10.0),\n",
       "  79: (0.5, 10.0),\n",
       "  80: (0.5, 10.0),\n",
       "  81: (0.5, 10.0),\n",
       "  82: (0.5, 10.0),\n",
       "  83: (0.5, 10.0),\n",
       "  84: (0.5, 10.0),\n",
       "  85: (0.5, 10.0),\n",
       "  86: (0.5, 10.0),\n",
       "  87: (0.5, 10.0),\n",
       "  88: (0.5, 10.0),\n",
       "  89: (0.5, 10.0),\n",
       "  90: (0.5, 10.0),\n",
       "  91: (0.5, 10.0),\n",
       "  92: (0.5, 10.0),\n",
       "  93: (0.5, 10.0),\n",
       "  94: (0.5, 10.0),\n",
       "  95: (0.5, 10.0),\n",
       "  96: (0.5, 10.0),\n",
       "  97: (0.5, 10.0),\n",
       "  98: (0.5, 10.0),\n",
       "  99: (0.5, 10.0),\n",
       "  100: (0.5, 10.0),\n",
       "  101: (0.5, 10.0),\n",
       "  102: (0.5, 10.0),\n",
       "  103: (0.5, 10.0),\n",
       "  104: (0.5, 10.0),\n",
       "  105: (0.5, 10.0),\n",
       "  106: (0.5, 10.0),\n",
       "  107: (0.5, 10.0),\n",
       "  108: (0.5, 10.0),\n",
       "  109: (0.5, 10.0),\n",
       "  110: (0.5, 10.0),\n",
       "  111: (0.5, 10.0),\n",
       "  112: (0.5, 10.0),\n",
       "  113: (0.5, 10.0),\n",
       "  114: (0.5, 10.0),\n",
       "  115: (0.5, 10.0),\n",
       "  116: (0.5, 10.0),\n",
       "  117: (0.5, 10.0),\n",
       "  118: (0.5, 10.0),\n",
       "  119: (0.5, 10.0),\n",
       "  120: (0.5, 10.0),\n",
       "  121: (0.5, 10.0),\n",
       "  122: (0.5, 10.0),\n",
       "  123: (0.5, 10.0),\n",
       "  124: (0.5, 10.0),\n",
       "  125: (0.5, 10.0)},\n",
       " 'EPS_STEP': 33,\n",
       " 'METRIC': 'euclidean'}"
      ]
     },
     "metadata": {},
     "output_type": "display_data"
    }
   ],
   "source": [
    "CLUSTERING_OPTIONS = {}\n",
    "\n",
    "# K_RANGE is the min_samples parameter in DBSCAN (sklearn)\n",
    "CLUSTERING_OPTIONS[\"K_RANGE\"] = k_values\n",
    "CLUSTERING_OPTIONS[\"EPS_RANGE_PER_K\"] = eps_range_per_k\n",
    "CLUSTERING_OPTIONS[\"EPS_STEP\"] = 33\n",
    "CLUSTERING_OPTIONS[\"METRIC\"] = \"euclidean\"\n",
    "\n",
    "display(CLUSTERING_OPTIONS)"
   ]
  },
  {
   "cell_type": "code",
   "execution_count": 19,
   "id": "f84cdcfc",
   "metadata": {
    "execution": {
     "iopub.execute_input": "2022-11-26T03:08:47.759354Z",
     "iopub.status.busy": "2022-11-26T03:08:47.759037Z",
     "iopub.status.idle": "2022-11-26T03:08:47.799208Z",
     "shell.execute_reply": "2022-11-26T03:08:47.798806Z"
    },
    "papermill": {
     "duration": 0.046896,
     "end_time": "2022-11-26T03:08:47.800591",
     "exception": false,
     "start_time": "2022-11-26T03:08:47.753695",
     "status": "completed"
    },
    "tags": []
   },
   "outputs": [],
   "source": [
    "CLUSTERERS = {}\n",
    "\n",
    "idx = 0\n",
    "\n",
    "for k in CLUSTERING_OPTIONS[\"K_RANGE\"]:\n",
    "    eps_range = CLUSTERING_OPTIONS[\"EPS_RANGE_PER_K\"][k]\n",
    "    eps_values = np.linspace(eps_range[0], eps_range[1], CLUSTERING_OPTIONS[\"EPS_STEP\"])\n",
    "\n",
    "    for eps in eps_values:\n",
    "        clus = DBSCAN(min_samples=k, eps=eps, metric=\"precomputed\", n_jobs=N_JOBS)\n",
    "\n",
    "        method_name = type(clus).__name__\n",
    "        CLUSTERERS[f\"{method_name} #{idx}\"] = clus\n",
    "\n",
    "        idx = idx + 1"
   ]
  },
  {
   "cell_type": "code",
   "execution_count": 20,
   "id": "d2096f2f",
   "metadata": {
    "execution": {
     "iopub.execute_input": "2022-11-26T03:08:47.820452Z",
     "iopub.status.busy": "2022-11-26T03:08:47.820127Z",
     "iopub.status.idle": "2022-11-26T03:08:47.841849Z",
     "shell.execute_reply": "2022-11-26T03:08:47.841488Z"
    },
    "papermill": {
     "duration": 0.033141,
     "end_time": "2022-11-26T03:08:47.843087",
     "exception": false,
     "start_time": "2022-11-26T03:08:47.809946",
     "status": "completed"
    },
    "tags": []
   },
   "outputs": [
    {
     "data": {
      "text/plain": [
       "4092"
      ]
     },
     "metadata": {},
     "output_type": "display_data"
    }
   ],
   "source": [
    "display(len(CLUSTERERS))"
   ]
  },
  {
   "cell_type": "code",
   "execution_count": 21,
   "id": "ebdbd9fc",
   "metadata": {
    "execution": {
     "iopub.execute_input": "2022-11-26T03:08:47.863088Z",
     "iopub.status.busy": "2022-11-26T03:08:47.862872Z",
     "iopub.status.idle": "2022-11-26T03:08:47.881744Z",
     "shell.execute_reply": "2022-11-26T03:08:47.881426Z"
    },
    "papermill": {
     "duration": 0.029865,
     "end_time": "2022-11-26T03:08:47.882905",
     "exception": false,
     "start_time": "2022-11-26T03:08:47.853040",
     "status": "completed"
    },
    "tags": []
   },
   "outputs": [
    {
     "data": {
      "text/plain": [
       "('DBSCAN #0', DBSCAN(eps=0.23, metric='precomputed', min_samples=2, n_jobs=10))"
      ]
     },
     "metadata": {},
     "output_type": "display_data"
    },
    {
     "data": {
      "text/plain": [
       "('DBSCAN #1',\n",
       " DBSCAN(eps=0.24781250000000002, metric='precomputed', min_samples=2, n_jobs=10))"
      ]
     },
     "metadata": {},
     "output_type": "display_data"
    }
   ],
   "source": [
    "_iter = iter(CLUSTERERS.items())\n",
    "display(next(_iter))\n",
    "display(next(_iter))"
   ]
  },
  {
   "cell_type": "code",
   "execution_count": 22,
   "id": "5327f6bb",
   "metadata": {
    "execution": {
     "iopub.execute_input": "2022-11-26T03:08:47.902697Z",
     "iopub.status.busy": "2022-11-26T03:08:47.902304Z",
     "iopub.status.idle": "2022-11-26T03:08:47.923447Z",
     "shell.execute_reply": "2022-11-26T03:08:47.923055Z"
    },
    "papermill": {
     "duration": 0.032249,
     "end_time": "2022-11-26T03:08:47.924679",
     "exception": false,
     "start_time": "2022-11-26T03:08:47.892430",
     "status": "completed"
    },
    "tags": []
   },
   "outputs": [
    {
     "data": {
      "text/plain": [
       "'DBSCAN'"
      ]
     },
     "metadata": {},
     "output_type": "display_data"
    }
   ],
   "source": [
    "clustering_method_name = method_name\n",
    "display(clustering_method_name)"
   ]
  },
  {
   "cell_type": "markdown",
   "id": "c461a442",
   "metadata": {
    "papermill": {
     "duration": 0.009476,
     "end_time": "2022-11-26T03:08:47.944604",
     "exception": false,
     "start_time": "2022-11-26T03:08:47.935128",
     "status": "completed"
    },
    "tags": []
   },
   "source": [
    "### Generate ensemble"
   ]
  },
  {
   "cell_type": "code",
   "execution_count": 23,
   "id": "5db582ca",
   "metadata": {
    "execution": {
     "iopub.execute_input": "2022-11-26T03:08:47.965130Z",
     "iopub.status.busy": "2022-11-26T03:08:47.964702Z",
     "iopub.status.idle": "2022-11-26T03:08:48.083372Z",
     "shell.execute_reply": "2022-11-26T03:08:48.082989Z"
    },
    "papermill": {
     "duration": 0.130609,
     "end_time": "2022-11-26T03:08:48.084855",
     "exception": false,
     "start_time": "2022-11-26T03:08:47.954246",
     "status": "completed"
    },
    "tags": []
   },
   "outputs": [],
   "source": [
    "data_dist = pairwise_distances(data, metric=CLUSTERING_OPTIONS[\"METRIC\"])"
   ]
  },
  {
   "cell_type": "code",
   "execution_count": 24,
   "id": "4f7a25d5",
   "metadata": {
    "execution": {
     "iopub.execute_input": "2022-11-26T03:08:48.105725Z",
     "iopub.status.busy": "2022-11-26T03:08:48.105638Z",
     "iopub.status.idle": "2022-11-26T03:08:48.117945Z",
     "shell.execute_reply": "2022-11-26T03:08:48.117657Z"
    },
    "papermill": {
     "duration": 0.023971,
     "end_time": "2022-11-26T03:08:48.119120",
     "exception": false,
     "start_time": "2022-11-26T03:08:48.095149",
     "status": "completed"
    },
    "tags": []
   },
   "outputs": [
    {
     "data": {
      "text/plain": [
       "(3752, 3752)"
      ]
     },
     "execution_count": 24,
     "metadata": {},
     "output_type": "execute_result"
    }
   ],
   "source": [
    "data_dist.shape"
   ]
  },
  {
   "cell_type": "code",
   "execution_count": 25,
   "id": "2da87d4a",
   "metadata": {
    "execution": {
     "iopub.execute_input": "2022-11-26T03:08:48.140919Z",
     "iopub.status.busy": "2022-11-26T03:08:48.140721Z",
     "iopub.status.idle": "2022-11-26T03:08:48.448924Z",
     "shell.execute_reply": "2022-11-26T03:08:48.448636Z"
    },
    "papermill": {
     "duration": 0.32071,
     "end_time": "2022-11-26T03:08:48.450090",
     "exception": false,
     "start_time": "2022-11-26T03:08:48.129380",
     "status": "completed"
    },
    "tags": []
   },
   "outputs": [
    {
     "data": {
      "text/plain": [
       "count            14077504.0\n",
       "mean     3.0258994102478027\n",
       "std       1.123066782951355\n",
       "min                     0.0\n",
       "25%      2.2383562326431274\n",
       "50%      3.2953301668167114\n",
       "75%      3.9533920884132385\n",
       "max       5.173931121826172\n",
       "dtype: object"
      ]
     },
     "execution_count": 25,
     "metadata": {},
     "output_type": "execute_result"
    }
   ],
   "source": [
    "pd.Series(data_dist.flatten()).describe().apply(str)"
   ]
  },
  {
   "cell_type": "code",
   "execution_count": 26,
   "id": "354f27d5",
   "metadata": {
    "execution": {
     "iopub.execute_input": "2022-11-26T03:08:48.470043Z",
     "iopub.status.busy": "2022-11-26T03:08:48.469945Z",
     "iopub.status.idle": "2022-11-26T03:16:09.324113Z",
     "shell.execute_reply": "2022-11-26T03:16:09.323706Z"
    },
    "papermill": {
     "duration": 440.865706,
     "end_time": "2022-11-26T03:16:09.325485",
     "exception": false,
     "start_time": "2022-11-26T03:08:48.459779",
     "status": "completed"
    },
    "tags": []
   },
   "outputs": [
    {
     "name": "stderr",
     "output_type": "stream",
     "text": [
      "100%|██████████| 4092/4092 [07:20<00:00,  9.28it/s]\n"
     ]
    }
   ],
   "source": [
    "ensemble = generate_ensemble(\n",
    "    data_dist,\n",
    "    CLUSTERERS,\n",
    "    attributes=CLUSTERING_ATTRIBUTES_TO_SAVE,\n",
    ")"
   ]
  },
  {
   "cell_type": "code",
   "execution_count": 27,
   "id": "743a7ac4",
   "metadata": {
    "execution": {
     "iopub.execute_input": "2022-11-26T03:16:09.519964Z",
     "iopub.status.busy": "2022-11-26T03:16:09.519805Z",
     "iopub.status.idle": "2022-11-26T03:16:09.532662Z",
     "shell.execute_reply": "2022-11-26T03:16:09.532330Z"
    },
    "papermill": {
     "duration": 0.091244,
     "end_time": "2022-11-26T03:16:09.533339",
     "exception": false,
     "start_time": "2022-11-26T03:16:09.442095",
     "status": "completed"
    },
    "tags": []
   },
   "outputs": [
    {
     "data": {
      "text/plain": [
       "(299, 3)"
      ]
     },
     "execution_count": 27,
     "metadata": {},
     "output_type": "execute_result"
    }
   ],
   "source": [
    "ensemble.shape"
   ]
  },
  {
   "cell_type": "code",
   "execution_count": 28,
   "id": "67ae0a58",
   "metadata": {
    "execution": {
     "iopub.execute_input": "2022-11-26T03:16:09.689305Z",
     "iopub.status.busy": "2022-11-26T03:16:09.688921Z",
     "iopub.status.idle": "2022-11-26T03:16:09.719552Z",
     "shell.execute_reply": "2022-11-26T03:16:09.719107Z"
    },
    "papermill": {
     "duration": 0.110245,
     "end_time": "2022-11-26T03:16:09.720332",
     "exception": false,
     "start_time": "2022-11-26T03:16:09.610087",
     "status": "completed"
    },
    "tags": []
   },
   "outputs": [
    {
     "data": {
      "text/html": [
       "<div>\n",
       "<style scoped>\n",
       "    .dataframe tbody tr th:only-of-type {\n",
       "        vertical-align: middle;\n",
       "    }\n",
       "\n",
       "    .dataframe tbody tr th {\n",
       "        vertical-align: top;\n",
       "    }\n",
       "\n",
       "    .dataframe thead th {\n",
       "        text-align: right;\n",
       "    }\n",
       "</style>\n",
       "<table border=\"1\" class=\"dataframe\">\n",
       "  <thead>\n",
       "    <tr style=\"text-align: right;\">\n",
       "      <th></th>\n",
       "      <th>clusterer_params</th>\n",
       "      <th>partition</th>\n",
       "      <th>n_clusters</th>\n",
       "    </tr>\n",
       "    <tr>\n",
       "      <th>clusterer_id</th>\n",
       "      <th></th>\n",
       "      <th></th>\n",
       "      <th></th>\n",
       "    </tr>\n",
       "  </thead>\n",
       "  <tbody>\n",
       "    <tr>\n",
       "      <th>DBSCAN #0</th>\n",
       "      <td>{'algorithm': 'auto', 'eps': 0.23, 'leaf_size'...</td>\n",
       "      <td>[nan, 0.0, 0.0, nan, nan, 0.0, 0.0, 0.0, 0.0, ...</td>\n",
       "      <td>18</td>\n",
       "    </tr>\n",
       "    <tr>\n",
       "      <th>DBSCAN #1</th>\n",
       "      <td>{'algorithm': 'auto', 'eps': 0.247812500000000...</td>\n",
       "      <td>[nan, 0.0, 0.0, nan, nan, 0.0, 0.0, 0.0, 0.0, ...</td>\n",
       "      <td>15</td>\n",
       "    </tr>\n",
       "    <tr>\n",
       "      <th>DBSCAN #2</th>\n",
       "      <td>{'algorithm': 'auto', 'eps': 0.265625, 'leaf_s...</td>\n",
       "      <td>[0.0, 0.0, 0.0, nan, nan, 0.0, 0.0, 0.0, 0.0, ...</td>\n",
       "      <td>8</td>\n",
       "    </tr>\n",
       "    <tr>\n",
       "      <th>DBSCAN #3</th>\n",
       "      <td>{'algorithm': 'auto', 'eps': 0.2834375, 'leaf_...</td>\n",
       "      <td>[0.0, 0.0, 0.0, nan, nan, 0.0, 0.0, 0.0, 0.0, ...</td>\n",
       "      <td>2</td>\n",
       "    </tr>\n",
       "    <tr>\n",
       "      <th>DBSCAN #4</th>\n",
       "      <td>{'algorithm': 'auto', 'eps': 0.30125, 'leaf_si...</td>\n",
       "      <td>[0.0, 0.0, 0.0, nan, nan, 0.0, 0.0, 0.0, 0.0, ...</td>\n",
       "      <td>2</td>\n",
       "    </tr>\n",
       "  </tbody>\n",
       "</table>\n",
       "</div>"
      ],
      "text/plain": [
       "                                               clusterer_params  \\\n",
       "clusterer_id                                                      \n",
       "DBSCAN #0     {'algorithm': 'auto', 'eps': 0.23, 'leaf_size'...   \n",
       "DBSCAN #1     {'algorithm': 'auto', 'eps': 0.247812500000000...   \n",
       "DBSCAN #2     {'algorithm': 'auto', 'eps': 0.265625, 'leaf_s...   \n",
       "DBSCAN #3     {'algorithm': 'auto', 'eps': 0.2834375, 'leaf_...   \n",
       "DBSCAN #4     {'algorithm': 'auto', 'eps': 0.30125, 'leaf_si...   \n",
       "\n",
       "                                                      partition  n_clusters  \n",
       "clusterer_id                                                                 \n",
       "DBSCAN #0     [nan, 0.0, 0.0, nan, nan, 0.0, 0.0, 0.0, 0.0, ...          18  \n",
       "DBSCAN #1     [nan, 0.0, 0.0, nan, nan, 0.0, 0.0, 0.0, 0.0, ...          15  \n",
       "DBSCAN #2     [0.0, 0.0, 0.0, nan, nan, 0.0, 0.0, 0.0, 0.0, ...           8  \n",
       "DBSCAN #3     [0.0, 0.0, 0.0, nan, nan, 0.0, 0.0, 0.0, 0.0, ...           2  \n",
       "DBSCAN #4     [0.0, 0.0, 0.0, nan, nan, 0.0, 0.0, 0.0, 0.0, ...           2  "
      ]
     },
     "execution_count": 28,
     "metadata": {},
     "output_type": "execute_result"
    }
   ],
   "source": [
    "ensemble.head()"
   ]
  },
  {
   "cell_type": "code",
   "execution_count": 29,
   "id": "6d4a10cc",
   "metadata": {
    "execution": {
     "iopub.execute_input": "2022-11-26T03:16:09.876440Z",
     "iopub.status.busy": "2022-11-26T03:16:09.876067Z",
     "iopub.status.idle": "2022-11-26T03:16:09.896776Z",
     "shell.execute_reply": "2022-11-26T03:16:09.896302Z"
    },
    "papermill": {
     "duration": 0.099766,
     "end_time": "2022-11-26T03:16:09.897588",
     "exception": false,
     "start_time": "2022-11-26T03:16:09.797822",
     "status": "completed"
    },
    "tags": []
   },
   "outputs": [
    {
     "data": {
      "text/plain": [
       "2    255\n",
       "5      9\n",
       "3      8\n",
       "6      6\n",
       "9      5\n",
       "Name: n_clusters, dtype: int64"
      ]
     },
     "execution_count": 29,
     "metadata": {},
     "output_type": "execute_result"
    }
   ],
   "source": [
    "ensemble[\"n_clusters\"].value_counts().head()"
   ]
  },
  {
   "cell_type": "code",
   "execution_count": 30,
   "id": "386fc623",
   "metadata": {
    "execution": {
     "iopub.execute_input": "2022-11-26T03:16:10.073262Z",
     "iopub.status.busy": "2022-11-26T03:16:10.073112Z",
     "iopub.status.idle": "2022-11-26T03:16:10.095003Z",
     "shell.execute_reply": "2022-11-26T03:16:10.094571Z"
    },
    "papermill": {
     "duration": 0.100725,
     "end_time": "2022-11-26T03:16:10.095802",
     "exception": false,
     "start_time": "2022-11-26T03:16:09.995077",
     "status": "completed"
    },
    "tags": []
   },
   "outputs": [
    {
     "data": {
      "text/plain": [
       "count    299.000000\n",
       "mean       2.612040\n",
       "std        1.870826\n",
       "min        2.000000\n",
       "25%        2.000000\n",
       "50%        2.000000\n",
       "75%        2.000000\n",
       "max       18.000000\n",
       "Name: n_clusters, dtype: float64"
      ]
     },
     "metadata": {},
     "output_type": "display_data"
    }
   ],
   "source": [
    "ensemble_stats = ensemble[\"n_clusters\"].describe()\n",
    "display(ensemble_stats)"
   ]
  },
  {
   "cell_type": "code",
   "execution_count": 31,
   "id": "cef9fa77",
   "metadata": {
    "execution": {
     "iopub.execute_input": "2022-11-26T03:16:10.254327Z",
     "iopub.status.busy": "2022-11-26T03:16:10.253464Z",
     "iopub.status.idle": "2022-11-26T03:16:10.273248Z",
     "shell.execute_reply": "2022-11-26T03:16:10.272808Z"
    },
    "papermill": {
     "duration": 0.099585,
     "end_time": "2022-11-26T03:16:10.274063",
     "exception": false,
     "start_time": "2022-11-26T03:16:10.174478",
     "status": "completed"
    },
    "tags": []
   },
   "outputs": [],
   "source": [
    "assert (\n",
    "    ensemble.shape[0] > 0\n",
    "), \"Ensemble is empty, stopping here (this is not actually an error if running null simulations)\""
   ]
  },
  {
   "cell_type": "markdown",
   "id": "df03398a",
   "metadata": {
    "papermill": {
     "duration": 0.07722,
     "end_time": "2022-11-26T03:16:10.428882",
     "exception": false,
     "start_time": "2022-11-26T03:16:10.351662",
     "status": "completed"
    },
    "tags": []
   },
   "source": [
    "### Testing"
   ]
  },
  {
   "cell_type": "code",
   "execution_count": 32,
   "id": "6bbebef5",
   "metadata": {
    "execution": {
     "iopub.execute_input": "2022-11-26T03:16:10.605109Z",
     "iopub.status.busy": "2022-11-26T03:16:10.604950Z",
     "iopub.status.idle": "2022-11-26T03:16:10.623299Z",
     "shell.execute_reply": "2022-11-26T03:16:10.622844Z"
    },
    "papermill": {
     "duration": 0.117164,
     "end_time": "2022-11-26T03:16:10.624112",
     "exception": false,
     "start_time": "2022-11-26T03:16:10.506948",
     "status": "completed"
    },
    "tags": []
   },
   "outputs": [],
   "source": [
    "assert ensemble_stats[\"min\"] > 1"
   ]
  },
  {
   "cell_type": "code",
   "execution_count": 33,
   "id": "13bfd3fd",
   "metadata": {
    "execution": {
     "iopub.execute_input": "2022-11-26T03:16:10.781805Z",
     "iopub.status.busy": "2022-11-26T03:16:10.781382Z",
     "iopub.status.idle": "2022-11-26T03:16:10.799571Z",
     "shell.execute_reply": "2022-11-26T03:16:10.799130Z"
    },
    "papermill": {
     "duration": 0.098079,
     "end_time": "2022-11-26T03:16:10.800461",
     "exception": false,
     "start_time": "2022-11-26T03:16:10.702382",
     "status": "completed"
    },
    "tags": []
   },
   "outputs": [],
   "source": [
    "assert not ensemble[\"n_clusters\"].isna().any()"
   ]
  },
  {
   "cell_type": "code",
   "execution_count": 34,
   "id": "f3ececba",
   "metadata": {
    "execution": {
     "iopub.execute_input": "2022-11-26T03:16:10.957796Z",
     "iopub.status.busy": "2022-11-26T03:16:10.957436Z",
     "iopub.status.idle": "2022-11-26T03:16:10.975550Z",
     "shell.execute_reply": "2022-11-26T03:16:10.975123Z"
    },
    "papermill": {
     "duration": 0.09728,
     "end_time": "2022-11-26T03:16:10.976436",
     "exception": false,
     "start_time": "2022-11-26T03:16:10.879156",
     "status": "completed"
    },
    "tags": []
   },
   "outputs": [],
   "source": [
    "# assert ensemble.shape[0] == len(CLUSTERERS)"
   ]
  },
  {
   "cell_type": "code",
   "execution_count": 35,
   "id": "db86bded",
   "metadata": {
    "execution": {
     "iopub.execute_input": "2022-11-26T03:16:11.132631Z",
     "iopub.status.busy": "2022-11-26T03:16:11.132299Z",
     "iopub.status.idle": "2022-11-26T03:16:11.174907Z",
     "shell.execute_reply": "2022-11-26T03:16:11.174467Z"
    },
    "papermill": {
     "duration": 0.121841,
     "end_time": "2022-11-26T03:16:11.175750",
     "exception": false,
     "start_time": "2022-11-26T03:16:11.053909",
     "status": "completed"
    },
    "tags": []
   },
   "outputs": [],
   "source": [
    "# all partitions have the right size\n",
    "assert np.all(\n",
    "    [part[\"partition\"].shape[0] == data.shape[0] for idx, part in ensemble.iterrows()]\n",
    ")"
   ]
  },
  {
   "cell_type": "code",
   "execution_count": 36,
   "id": "e0663b13",
   "metadata": {
    "execution": {
     "iopub.execute_input": "2022-11-26T03:16:11.331548Z",
     "iopub.status.busy": "2022-11-26T03:16:11.331399Z",
     "iopub.status.idle": "2022-11-26T03:16:11.377187Z",
     "shell.execute_reply": "2022-11-26T03:16:11.376693Z"
    },
    "papermill": {
     "duration": 0.124704,
     "end_time": "2022-11-26T03:16:11.378189",
     "exception": false,
     "start_time": "2022-11-26T03:16:11.253485",
     "status": "completed"
    },
    "tags": []
   },
   "outputs": [],
   "source": [
    "# no partition has negative clusters (noisy points)\n",
    "assert not np.any([(part[\"partition\"] < 0).any() for idx, part in ensemble.iterrows()])"
   ]
  },
  {
   "cell_type": "markdown",
   "id": "a39424f4",
   "metadata": {
    "papermill": {
     "duration": 0.077558,
     "end_time": "2022-11-26T03:16:11.555009",
     "exception": false,
     "start_time": "2022-11-26T03:16:11.477451",
     "status": "completed"
    },
    "tags": []
   },
   "source": [
    "### Save"
   ]
  },
  {
   "cell_type": "code",
   "execution_count": 37,
   "id": "7b804a12",
   "metadata": {
    "execution": {
     "iopub.execute_input": "2022-11-26T03:16:11.710286Z",
     "iopub.status.busy": "2022-11-26T03:16:11.710135Z",
     "iopub.status.idle": "2022-11-26T03:16:11.730894Z",
     "shell.execute_reply": "2022-11-26T03:16:11.730459Z"
    },
    "papermill": {
     "duration": 0.099287,
     "end_time": "2022-11-26T03:16:11.731692",
     "exception": false,
     "start_time": "2022-11-26T03:16:11.632405",
     "status": "completed"
    },
    "tags": []
   },
   "outputs": [
    {
     "data": {
      "text/plain": [
       "PosixPath('/opt/data/results/clustering/null_sims/shuffle_genes/runs/umap-z_score_std-projection-smultixcan-efo_partial-mashr-zscores/DBSCAN.pkl')"
      ]
     },
     "metadata": {},
     "output_type": "display_data"
    }
   ],
   "source": [
    "output_filename = Path(\n",
    "    RESULTS_DIR,\n",
    "    generate_result_set_name(\n",
    "        {},\n",
    "        #         CLUSTERING_OPTIONS,\n",
    "        prefix=f\"{clustering_method_name}\",\n",
    "        suffix=\".pkl\",\n",
    "    ),\n",
    ").resolve()\n",
    "display(output_filename)"
   ]
  },
  {
   "cell_type": "code",
   "execution_count": 38,
   "id": "45336963",
   "metadata": {
    "execution": {
     "iopub.execute_input": "2022-11-26T03:16:11.887304Z",
     "iopub.status.busy": "2022-11-26T03:16:11.886953Z",
     "iopub.status.idle": "2022-11-26T03:16:11.918933Z",
     "shell.execute_reply": "2022-11-26T03:16:11.918400Z"
    },
    "papermill": {
     "duration": 0.110903,
     "end_time": "2022-11-26T03:16:11.919761",
     "exception": false,
     "start_time": "2022-11-26T03:16:11.808858",
     "status": "completed"
    },
    "tags": []
   },
   "outputs": [],
   "source": [
    "ensemble.to_pickle(output_filename)"
   ]
  },
  {
   "cell_type": "code",
   "execution_count": null,
   "id": "33572324",
   "metadata": {
    "papermill": {
     "duration": 0.081149,
     "end_time": "2022-11-26T03:16:12.078841",
     "exception": false,
     "start_time": "2022-11-26T03:16:11.997692",
     "status": "completed"
    },
    "tags": []
   },
   "outputs": [],
   "source": []
  }
 ],
 "metadata": {
  "jupytext": {
   "cell_metadata_filter": "all,-execution,-papermill,-trusted",
   "formats": "ipynb,py//py:percent"
  },
  "kernelspec": {
   "display_name": "Python 3 (ipykernel)",
   "language": "python",
   "name": "python3"
  },
  "language_info": {
   "codemirror_mode": {
    "name": "ipython",
    "version": 3
   },
   "file_extension": ".py",
   "mimetype": "text/x-python",
   "name": "python",
   "nbconvert_exporter": "python",
   "pygments_lexer": "ipython3",
   "version": "3.8.13"
  },
  "papermill": {
   "default_parameters": {},
   "duration": 446.911209,
   "end_time": "2022-11-26T03:16:12.473802",
   "environment_variables": {},
   "exception": null,
   "input_path": "nbs/13.1_cluster_analysis_null/00-shuffle_genes/12_02-dbscan-umap.ipynb",
   "output_path": "nbs/13.1_cluster_analysis_null/00-shuffle_genes/12_02-dbscan-umap.run.ipynb",
   "parameters": {},
   "start_time": "2022-11-26T03:08:45.562593",
   "version": "2.2.2"
  },
  "toc-autonumbering": true,
  "toc-showcode": false,
  "toc-showmarkdowntxt": false,
  "toc-showtags": false
 },
 "nbformat": 4,
 "nbformat_minor": 5
}
