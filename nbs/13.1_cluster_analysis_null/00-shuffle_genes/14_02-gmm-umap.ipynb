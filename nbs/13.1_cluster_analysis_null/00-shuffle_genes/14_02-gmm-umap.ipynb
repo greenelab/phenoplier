{
 "cells": [
  {
   "cell_type": "markdown",
   "id": "f8d8dc7d",
   "metadata": {
    "papermill": {
     "duration": 0.035396,
     "end_time": "2022-09-14T10:09:39.328662",
     "exception": false,
     "start_time": "2022-09-14T10:09:39.293266",
     "status": "completed"
    },
    "tags": []
   },
   "source": [
    "# Description"
   ]
  },
  {
   "cell_type": "markdown",
   "id": "165a1531",
   "metadata": {
    "papermill": {
     "duration": 0.009406,
     "end_time": "2022-09-14T10:09:39.352435",
     "exception": false,
     "start_time": "2022-09-14T10:09:39.343029",
     "status": "completed"
    },
    "tags": []
   },
   "source": [
    "Runs gaussian mixture model on the umap version of the data."
   ]
  },
  {
   "cell_type": "markdown",
   "id": "8ccb6232",
   "metadata": {
    "papermill": {
     "duration": 0.007715,
     "end_time": "2022-09-14T10:09:39.368256",
     "exception": false,
     "start_time": "2022-09-14T10:09:39.360541",
     "status": "completed"
    },
    "tags": []
   },
   "source": [
    "# Environment variables"
   ]
  },
  {
   "cell_type": "code",
   "execution_count": 1,
   "id": "2f07b8ce",
   "metadata": {
    "execution": {
     "iopub.execute_input": "2022-09-14T10:09:39.384975Z",
     "iopub.status.busy": "2022-09-14T10:09:39.384731Z",
     "iopub.status.idle": "2022-09-14T10:09:39.399710Z",
     "shell.execute_reply": "2022-09-14T10:09:39.399133Z"
    },
    "papermill": {
     "duration": 0.025187,
     "end_time": "2022-09-14T10:09:39.401052",
     "exception": false,
     "start_time": "2022-09-14T10:09:39.375865",
     "status": "completed"
    },
    "tags": []
   },
   "outputs": [
    {
     "data": {
      "text/plain": [
       "3"
      ]
     },
     "metadata": {},
     "output_type": "display_data"
    }
   ],
   "source": [
    "from IPython.display import display\n",
    "\n",
    "import conf\n",
    "\n",
    "N_JOBS = conf.GENERAL[\"N_JOBS\"]\n",
    "display(N_JOBS)"
   ]
  },
  {
   "cell_type": "code",
   "execution_count": 2,
   "id": "b0e90b22",
   "metadata": {
    "execution": {
     "iopub.execute_input": "2022-09-14T10:09:39.418577Z",
     "iopub.status.busy": "2022-09-14T10:09:39.418422Z",
     "iopub.status.idle": "2022-09-14T10:09:39.423221Z",
     "shell.execute_reply": "2022-09-14T10:09:39.422764Z"
    },
    "papermill": {
     "duration": 0.014853,
     "end_time": "2022-09-14T10:09:39.424449",
     "exception": false,
     "start_time": "2022-09-14T10:09:39.409596",
     "status": "completed"
    },
    "tags": []
   },
   "outputs": [
    {
     "name": "stdout",
     "output_type": "stream",
     "text": [
      "env: MKL_NUM_THREADS=3\n",
      "env: OPEN_BLAS_NUM_THREADS=3\n",
      "env: NUMEXPR_NUM_THREADS=3\n",
      "env: OMP_NUM_THREADS=3\n"
     ]
    }
   ],
   "source": [
    "%env MKL_NUM_THREADS=$N_JOBS\n",
    "%env OPEN_BLAS_NUM_THREADS=$N_JOBS\n",
    "%env NUMEXPR_NUM_THREADS=$N_JOBS\n",
    "%env OMP_NUM_THREADS=$N_JOBS"
   ]
  },
  {
   "cell_type": "markdown",
   "id": "50c90694",
   "metadata": {
    "papermill": {
     "duration": 0.007944,
     "end_time": "2022-09-14T10:09:39.440796",
     "exception": false,
     "start_time": "2022-09-14T10:09:39.432852",
     "status": "completed"
    },
    "tags": []
   },
   "source": [
    "# Modules loading"
   ]
  },
  {
   "cell_type": "code",
   "execution_count": 3,
   "id": "9c7f9159",
   "metadata": {
    "execution": {
     "iopub.execute_input": "2022-09-14T10:09:39.457916Z",
     "iopub.status.busy": "2022-09-14T10:09:39.457714Z",
     "iopub.status.idle": "2022-09-14T10:09:39.470738Z",
     "shell.execute_reply": "2022-09-14T10:09:39.470235Z"
    },
    "papermill": {
     "duration": 0.022859,
     "end_time": "2022-09-14T10:09:39.472054",
     "exception": false,
     "start_time": "2022-09-14T10:09:39.449195",
     "status": "completed"
    },
    "tags": []
   },
   "outputs": [],
   "source": [
    "%load_ext autoreload\n",
    "%autoreload 2"
   ]
  },
  {
   "cell_type": "code",
   "execution_count": 4,
   "id": "ac743c8e",
   "metadata": {
    "execution": {
     "iopub.execute_input": "2022-09-14T10:09:39.489313Z",
     "iopub.status.busy": "2022-09-14T10:09:39.489101Z",
     "iopub.status.idle": "2022-09-14T10:09:40.136826Z",
     "shell.execute_reply": "2022-09-14T10:09:40.136259Z"
    },
    "papermill": {
     "duration": 0.657694,
     "end_time": "2022-09-14T10:09:40.138251",
     "exception": false,
     "start_time": "2022-09-14T10:09:39.480557",
     "status": "completed"
    },
    "tags": []
   },
   "outputs": [],
   "source": [
    "from pathlib import Path\n",
    "\n",
    "import numpy as np\n",
    "import pandas as pd\n",
    "import matplotlib.pyplot as plt\n",
    "import seaborn as sns\n",
    "\n",
    "from utils import generate_result_set_name"
   ]
  },
  {
   "cell_type": "markdown",
   "id": "7d5a2193",
   "metadata": {
    "papermill": {
     "duration": 0.007734,
     "end_time": "2022-09-14T10:09:40.154481",
     "exception": false,
     "start_time": "2022-09-14T10:09:40.146747",
     "status": "completed"
    },
    "tags": []
   },
   "source": [
    "# Settings"
   ]
  },
  {
   "cell_type": "code",
   "execution_count": 5,
   "id": "d4b2dcdb",
   "metadata": {
    "execution": {
     "iopub.execute_input": "2022-09-14T10:09:40.171330Z",
     "iopub.status.busy": "2022-09-14T10:09:40.171135Z",
     "iopub.status.idle": "2022-09-14T10:09:40.188257Z",
     "shell.execute_reply": "2022-09-14T10:09:40.187541Z"
    },
    "papermill": {
     "duration": 0.027122,
     "end_time": "2022-09-14T10:09:40.189619",
     "exception": false,
     "start_time": "2022-09-14T10:09:40.162497",
     "status": "completed"
    },
    "tags": []
   },
   "outputs": [],
   "source": [
    "np.random.seed(0)"
   ]
  },
  {
   "cell_type": "code",
   "execution_count": 6,
   "id": "247617a0",
   "metadata": {
    "execution": {
     "iopub.execute_input": "2022-09-14T10:09:40.236130Z",
     "iopub.status.busy": "2022-09-14T10:09:40.235936Z",
     "iopub.status.idle": "2022-09-14T10:09:40.254731Z",
     "shell.execute_reply": "2022-09-14T10:09:40.254040Z"
    },
    "papermill": {
     "duration": 0.057962,
     "end_time": "2022-09-14T10:09:40.256317",
     "exception": false,
     "start_time": "2022-09-14T10:09:40.198355",
     "status": "completed"
    },
    "tags": []
   },
   "outputs": [],
   "source": [
    "INITIAL_RANDOM_STATE = 80000"
   ]
  },
  {
   "cell_type": "code",
   "execution_count": null,
   "id": "382af8c5-681a-4716-b432-fb7781b7ca9f",
   "metadata": {},
   "outputs": [],
   "source": [
    "NULL_DIR = conf.RESULTS[\"CLUSTERING_NULL_DIR\"], \"shuffle_genes\""
   ]
  },
  {
   "cell_type": "markdown",
   "id": "b366f01b",
   "metadata": {
    "papermill": {
     "duration": 0.009786,
     "end_time": "2022-09-14T10:09:40.276241",
     "exception": false,
     "start_time": "2022-09-14T10:09:40.266455",
     "status": "completed"
    },
    "tags": []
   },
   "source": [
    "## Input data"
   ]
  },
  {
   "cell_type": "code",
   "execution_count": 7,
   "id": "336323cb",
   "metadata": {
    "execution": {
     "iopub.execute_input": "2022-09-14T10:09:40.295180Z",
     "iopub.status.busy": "2022-09-14T10:09:40.295014Z",
     "iopub.status.idle": "2022-09-14T10:09:40.311236Z",
     "shell.execute_reply": "2022-09-14T10:09:40.310627Z"
    },
    "papermill": {
     "duration": 0.026621,
     "end_time": "2022-09-14T10:09:40.312580",
     "exception": false,
     "start_time": "2022-09-14T10:09:40.285959",
     "status": "completed"
    },
    "tags": []
   },
   "outputs": [],
   "source": [
    "INPUT_SUBSET = \"umap\""
   ]
  },
  {
   "cell_type": "code",
   "execution_count": 8,
   "id": "ef1f9044",
   "metadata": {
    "execution": {
     "iopub.execute_input": "2022-09-14T10:09:40.330424Z",
     "iopub.status.busy": "2022-09-14T10:09:40.329996Z",
     "iopub.status.idle": "2022-09-14T10:09:40.346308Z",
     "shell.execute_reply": "2022-09-14T10:09:40.345868Z"
    },
    "papermill": {
     "duration": 0.026577,
     "end_time": "2022-09-14T10:09:40.347746",
     "exception": false,
     "start_time": "2022-09-14T10:09:40.321169",
     "status": "completed"
    },
    "tags": []
   },
   "outputs": [],
   "source": [
    "INPUT_STEM = \"z_score_std-projection-smultixcan-efo_partial-mashr-zscores\""
   ]
  },
  {
   "cell_type": "code",
   "execution_count": 9,
   "id": "cd37efc2",
   "metadata": {
    "execution": {
     "iopub.execute_input": "2022-09-14T10:09:40.365322Z",
     "iopub.status.busy": "2022-09-14T10:09:40.365160Z",
     "iopub.status.idle": "2022-09-14T10:09:40.381888Z",
     "shell.execute_reply": "2022-09-14T10:09:40.381248Z"
    },
    "papermill": {
     "duration": 0.027015,
     "end_time": "2022-09-14T10:09:40.383280",
     "exception": false,
     "start_time": "2022-09-14T10:09:40.356265",
     "status": "completed"
    },
    "tags": []
   },
   "outputs": [],
   "source": [
    "DR_OPTIONS = {\n",
    "    \"n_components\": 50,\n",
    "    \"metric\": \"euclidean\",\n",
    "    \"n_neighbors\": 15,\n",
    "    \"random_state\": 0,\n",
    "}"
   ]
  },
  {
   "cell_type": "code",
   "execution_count": 10,
   "id": "dd942eae",
   "metadata": {
    "execution": {
     "iopub.execute_input": "2022-09-14T10:09:40.401139Z",
     "iopub.status.busy": "2022-09-14T10:09:40.400970Z",
     "iopub.status.idle": "2022-09-14T10:09:40.420004Z",
     "shell.execute_reply": "2022-09-14T10:09:40.419560Z"
    },
    "papermill": {
     "duration": 0.029474,
     "end_time": "2022-09-14T10:09:40.421347",
     "exception": false,
     "start_time": "2022-09-14T10:09:40.391873",
     "status": "completed"
    },
    "tags": []
   },
   "outputs": [
    {
     "data": {
      "text/plain": [
       "PosixPath('/opt/data/results/clustering/null_sims/data_transformations/umap/umap-z_score_std-projection-smultixcan-efo_partial-mashr-zscores-metric_euclidean-n_components_50-n_neighbors_15-random_state_0.pkl')"
      ]
     },
     "metadata": {},
     "output_type": "display_data"
    },
    {
     "data": {
      "text/plain": [
       "'umap-z_score_std-projection-smultixcan-efo_partial-mashr-zscores-metric_euclidean-n_components_50-n_neighbors_15-random_state_0'"
      ]
     },
     "metadata": {},
     "output_type": "display_data"
    }
   ],
   "source": [
    "input_filepath = Path(\n",
    "    NULL_DIR,\n",
    "    \"data_transformations\",\n",
    "    INPUT_SUBSET,\n",
    "    generate_result_set_name(\n",
    "        DR_OPTIONS, prefix=f\"{INPUT_SUBSET}-{INPUT_STEM}-\", suffix=\".pkl\"\n",
    "    ),\n",
    ").resolve()\n",
    "display(input_filepath)\n",
    "\n",
    "assert input_filepath.exists(), \"Input file does not exist\"\n",
    "\n",
    "input_filepath_stem = input_filepath.stem\n",
    "display(input_filepath_stem)"
   ]
  },
  {
   "cell_type": "markdown",
   "id": "44054e0b",
   "metadata": {
    "papermill": {
     "duration": 0.008505,
     "end_time": "2022-09-14T10:09:40.438647",
     "exception": false,
     "start_time": "2022-09-14T10:09:40.430142",
     "status": "completed"
    },
    "tags": []
   },
   "source": [
    "## Clustering"
   ]
  },
  {
   "cell_type": "code",
   "execution_count": 11,
   "id": "b41607ca",
   "metadata": {
    "execution": {
     "iopub.execute_input": "2022-09-14T10:09:40.456614Z",
     "iopub.status.busy": "2022-09-14T10:09:40.456404Z",
     "iopub.status.idle": "2022-09-14T10:09:40.548737Z",
     "shell.execute_reply": "2022-09-14T10:09:40.548183Z"
    },
    "papermill": {
     "duration": 0.103146,
     "end_time": "2022-09-14T10:09:40.550330",
     "exception": false,
     "start_time": "2022-09-14T10:09:40.447184",
     "status": "completed"
    },
    "tags": []
   },
   "outputs": [],
   "source": [
    "from sklearn.mixture import GaussianMixture"
   ]
  },
  {
   "cell_type": "code",
   "execution_count": 12,
   "id": "1dbc8573",
   "metadata": {
    "execution": {
     "iopub.execute_input": "2022-09-14T10:09:40.567748Z",
     "iopub.status.busy": "2022-09-14T10:09:40.567586Z",
     "iopub.status.idle": "2022-09-14T10:09:40.585541Z",
     "shell.execute_reply": "2022-09-14T10:09:40.584917Z"
    },
    "papermill": {
     "duration": 0.028259,
     "end_time": "2022-09-14T10:09:40.586983",
     "exception": false,
     "start_time": "2022-09-14T10:09:40.558724",
     "status": "completed"
    },
    "tags": []
   },
   "outputs": [],
   "source": [
    "CLUSTERING_ATTRIBUTES_TO_SAVE = [\"n_clusters\"]"
   ]
  },
  {
   "cell_type": "code",
   "execution_count": 13,
   "id": "c37726d0",
   "metadata": {
    "execution": {
     "iopub.execute_input": "2022-09-14T10:09:40.605707Z",
     "iopub.status.busy": "2022-09-14T10:09:40.605535Z",
     "iopub.status.idle": "2022-09-14T10:09:40.625526Z",
     "shell.execute_reply": "2022-09-14T10:09:40.625060Z"
    },
    "papermill": {
     "duration": 0.030848,
     "end_time": "2022-09-14T10:09:40.626853",
     "exception": false,
     "start_time": "2022-09-14T10:09:40.596005",
     "status": "completed"
    },
    "tags": []
   },
   "outputs": [
    {
     "data": {
      "text/plain": [
       "{'K_MIN': 2,\n",
       " 'K_MAX': 60,\n",
       " 'N_REPS_PER_K': 5,\n",
       " 'N_INIT': 10,\n",
       " 'COVARIANCE_TYPE': 'full'}"
      ]
     },
     "metadata": {},
     "output_type": "display_data"
    }
   ],
   "source": [
    "CLUSTERING_OPTIONS = {}\n",
    "\n",
    "CLUSTERING_OPTIONS[\"K_MIN\"] = 2\n",
    "CLUSTERING_OPTIONS[\"K_MAX\"] = 60  # sqrt(3749)\n",
    "CLUSTERING_OPTIONS[\"N_REPS_PER_K\"] = 5\n",
    "CLUSTERING_OPTIONS[\"N_INIT\"] = 10\n",
    "CLUSTERING_OPTIONS[\"COVARIANCE_TYPE\"] = \"full\"\n",
    "\n",
    "display(CLUSTERING_OPTIONS)"
   ]
  },
  {
   "cell_type": "code",
   "execution_count": 14,
   "id": "6554dcb5",
   "metadata": {
    "execution": {
     "iopub.execute_input": "2022-09-14T10:09:40.645771Z",
     "iopub.status.busy": "2022-09-14T10:09:40.645594Z",
     "iopub.status.idle": "2022-09-14T10:09:40.666655Z",
     "shell.execute_reply": "2022-09-14T10:09:40.666013Z"
    },
    "papermill": {
     "duration": 0.032199,
     "end_time": "2022-09-14T10:09:40.668126",
     "exception": false,
     "start_time": "2022-09-14T10:09:40.635927",
     "status": "completed"
    },
    "tags": []
   },
   "outputs": [],
   "source": [
    "CLUSTERERS = {}\n",
    "\n",
    "idx = 0\n",
    "random_state = INITIAL_RANDOM_STATE\n",
    "\n",
    "for k in range(CLUSTERING_OPTIONS[\"K_MIN\"], CLUSTERING_OPTIONS[\"K_MAX\"] + 1):\n",
    "    for i in range(CLUSTERING_OPTIONS[\"N_REPS_PER_K\"]):\n",
    "        clus = GaussianMixture(\n",
    "            n_components=k,\n",
    "            n_init=CLUSTERING_OPTIONS[\"N_INIT\"],\n",
    "            covariance_type=CLUSTERING_OPTIONS[\"COVARIANCE_TYPE\"],\n",
    "            random_state=random_state,\n",
    "        )\n",
    "\n",
    "        method_name = type(clus).__name__\n",
    "        CLUSTERERS[f\"{method_name} #{idx}\"] = clus\n",
    "\n",
    "        random_state = random_state + 1\n",
    "        idx = idx + 1"
   ]
  },
  {
   "cell_type": "code",
   "execution_count": 15,
   "id": "f1fd2292",
   "metadata": {
    "execution": {
     "iopub.execute_input": "2022-09-14T10:09:40.686936Z",
     "iopub.status.busy": "2022-09-14T10:09:40.686760Z",
     "iopub.status.idle": "2022-09-14T10:09:40.705824Z",
     "shell.execute_reply": "2022-09-14T10:09:40.705367Z"
    },
    "papermill": {
     "duration": 0.030009,
     "end_time": "2022-09-14T10:09:40.707164",
     "exception": false,
     "start_time": "2022-09-14T10:09:40.677155",
     "status": "completed"
    },
    "tags": []
   },
   "outputs": [
    {
     "data": {
      "text/plain": [
       "295"
      ]
     },
     "metadata": {},
     "output_type": "display_data"
    }
   ],
   "source": [
    "display(len(CLUSTERERS))"
   ]
  },
  {
   "cell_type": "code",
   "execution_count": 16,
   "id": "41e8f0e1",
   "metadata": {
    "execution": {
     "iopub.execute_input": "2022-09-14T10:09:40.726106Z",
     "iopub.status.busy": "2022-09-14T10:09:40.725933Z",
     "iopub.status.idle": "2022-09-14T10:09:40.746935Z",
     "shell.execute_reply": "2022-09-14T10:09:40.746395Z"
    },
    "papermill": {
     "duration": 0.031883,
     "end_time": "2022-09-14T10:09:40.748172",
     "exception": false,
     "start_time": "2022-09-14T10:09:40.716289",
     "status": "completed"
    },
    "tags": []
   },
   "outputs": [
    {
     "data": {
      "text/plain": [
       "('GaussianMixture #0',\n",
       " GaussianMixture(n_components=2, n_init=10, random_state=80000))"
      ]
     },
     "metadata": {},
     "output_type": "display_data"
    },
    {
     "data": {
      "text/plain": [
       "('GaussianMixture #1',\n",
       " GaussianMixture(n_components=2, n_init=10, random_state=80001))"
      ]
     },
     "metadata": {},
     "output_type": "display_data"
    }
   ],
   "source": [
    "_iter = iter(CLUSTERERS.items())\n",
    "display(next(_iter))\n",
    "display(next(_iter))"
   ]
  },
  {
   "cell_type": "code",
   "execution_count": 17,
   "id": "0e51a2c9",
   "metadata": {
    "execution": {
     "iopub.execute_input": "2022-09-14T10:09:40.767436Z",
     "iopub.status.busy": "2022-09-14T10:09:40.767252Z",
     "iopub.status.idle": "2022-09-14T10:09:40.786497Z",
     "shell.execute_reply": "2022-09-14T10:09:40.785946Z"
    },
    "papermill": {
     "duration": 0.030458,
     "end_time": "2022-09-14T10:09:40.787877",
     "exception": false,
     "start_time": "2022-09-14T10:09:40.757419",
     "status": "completed"
    },
    "tags": []
   },
   "outputs": [
    {
     "data": {
      "text/plain": [
       "'GaussianMixture'"
      ]
     },
     "metadata": {},
     "output_type": "display_data"
    }
   ],
   "source": [
    "clustering_method_name = method_name\n",
    "display(clustering_method_name)"
   ]
  },
  {
   "cell_type": "markdown",
   "id": "8fd89c0d",
   "metadata": {
    "papermill": {
     "duration": 0.009031,
     "end_time": "2022-09-14T10:09:40.806412",
     "exception": false,
     "start_time": "2022-09-14T10:09:40.797381",
     "status": "completed"
    },
    "tags": []
   },
   "source": [
    "## Output directory"
   ]
  },
  {
   "cell_type": "code",
   "execution_count": 18,
   "id": "a073be42",
   "metadata": {
    "execution": {
     "iopub.execute_input": "2022-09-14T10:09:40.824636Z",
     "iopub.status.busy": "2022-09-14T10:09:40.824427Z",
     "iopub.status.idle": "2022-09-14T10:09:40.843775Z",
     "shell.execute_reply": "2022-09-14T10:09:40.843202Z"
    },
    "papermill": {
     "duration": 0.029611,
     "end_time": "2022-09-14T10:09:40.845076",
     "exception": false,
     "start_time": "2022-09-14T10:09:40.815465",
     "status": "completed"
    },
    "tags": []
   },
   "outputs": [
    {
     "data": {
      "text/plain": [
       "PosixPath('/opt/data/results/clustering/null_sims/runs/umap-z_score_std-projection-smultixcan-efo_partial-mashr-zscores')"
      ]
     },
     "metadata": {},
     "output_type": "display_data"
    }
   ],
   "source": [
    "# output dir for this notebook\n",
    "RESULTS_DIR = Path(\n",
    "    NULL_DIR,\n",
    "    \"runs\",\n",
    "    f\"{INPUT_SUBSET}-{INPUT_STEM}\",\n",
    ").resolve()\n",
    "RESULTS_DIR.mkdir(parents=True, exist_ok=True)\n",
    "\n",
    "display(RESULTS_DIR)"
   ]
  },
  {
   "cell_type": "markdown",
   "id": "12437872",
   "metadata": {
    "papermill": {
     "duration": 0.008808,
     "end_time": "2022-09-14T10:09:40.862991",
     "exception": false,
     "start_time": "2022-09-14T10:09:40.854183",
     "status": "completed"
    },
    "tags": []
   },
   "source": [
    "# Load input file"
   ]
  },
  {
   "cell_type": "code",
   "execution_count": 19,
   "id": "75e511b2",
   "metadata": {
    "execution": {
     "iopub.execute_input": "2022-09-14T10:09:40.881572Z",
     "iopub.status.busy": "2022-09-14T10:09:40.881363Z",
     "iopub.status.idle": "2022-09-14T10:09:40.900813Z",
     "shell.execute_reply": "2022-09-14T10:09:40.900296Z"
    },
    "papermill": {
     "duration": 0.030328,
     "end_time": "2022-09-14T10:09:40.902234",
     "exception": false,
     "start_time": "2022-09-14T10:09:40.871906",
     "status": "completed"
    },
    "tags": []
   },
   "outputs": [],
   "source": [
    "data = pd.read_pickle(input_filepath)"
   ]
  },
  {
   "cell_type": "code",
   "execution_count": 20,
   "id": "3e20d8ef",
   "metadata": {
    "execution": {
     "iopub.execute_input": "2022-09-14T10:09:40.921156Z",
     "iopub.status.busy": "2022-09-14T10:09:40.920987Z",
     "iopub.status.idle": "2022-09-14T10:09:40.939640Z",
     "shell.execute_reply": "2022-09-14T10:09:40.939084Z"
    },
    "papermill": {
     "duration": 0.029655,
     "end_time": "2022-09-14T10:09:40.940984",
     "exception": false,
     "start_time": "2022-09-14T10:09:40.911329",
     "status": "completed"
    },
    "tags": []
   },
   "outputs": [
    {
     "data": {
      "text/plain": [
       "(3752, 50)"
      ]
     },
     "execution_count": 20,
     "metadata": {},
     "output_type": "execute_result"
    }
   ],
   "source": [
    "data.shape"
   ]
  },
  {
   "cell_type": "code",
   "execution_count": 21,
   "id": "1c9da2db",
   "metadata": {
    "execution": {
     "iopub.execute_input": "2022-09-14T10:09:40.960026Z",
     "iopub.status.busy": "2022-09-14T10:09:40.959853Z",
     "iopub.status.idle": "2022-09-14T10:09:40.992116Z",
     "shell.execute_reply": "2022-09-14T10:09:40.991570Z"
    },
    "papermill": {
     "duration": 0.043197,
     "end_time": "2022-09-14T10:09:40.993373",
     "exception": false,
     "start_time": "2022-09-14T10:09:40.950176",
     "status": "completed"
    },
    "tags": []
   },
   "outputs": [
    {
     "data": {
      "text/html": [
       "<div>\n",
       "<style scoped>\n",
       "    .dataframe tbody tr th:only-of-type {\n",
       "        vertical-align: middle;\n",
       "    }\n",
       "\n",
       "    .dataframe tbody tr th {\n",
       "        vertical-align: top;\n",
       "    }\n",
       "\n",
       "    .dataframe thead th {\n",
       "        text-align: right;\n",
       "    }\n",
       "</style>\n",
       "<table border=\"1\" class=\"dataframe\">\n",
       "  <thead>\n",
       "    <tr style=\"text-align: right;\">\n",
       "      <th></th>\n",
       "      <th>UMAP1</th>\n",
       "      <th>UMAP2</th>\n",
       "      <th>UMAP3</th>\n",
       "      <th>UMAP4</th>\n",
       "      <th>UMAP5</th>\n",
       "      <th>UMAP6</th>\n",
       "      <th>UMAP7</th>\n",
       "      <th>UMAP8</th>\n",
       "      <th>UMAP9</th>\n",
       "      <th>UMAP10</th>\n",
       "      <th>...</th>\n",
       "      <th>UMAP41</th>\n",
       "      <th>UMAP42</th>\n",
       "      <th>UMAP43</th>\n",
       "      <th>UMAP44</th>\n",
       "      <th>UMAP45</th>\n",
       "      <th>UMAP46</th>\n",
       "      <th>UMAP47</th>\n",
       "      <th>UMAP48</th>\n",
       "      <th>UMAP49</th>\n",
       "      <th>UMAP50</th>\n",
       "    </tr>\n",
       "  </thead>\n",
       "  <tbody>\n",
       "    <tr>\n",
       "      <th>100001_raw-Food_weight</th>\n",
       "      <td>6.554080</td>\n",
       "      <td>5.281644</td>\n",
       "      <td>7.335147</td>\n",
       "      <td>4.784761</td>\n",
       "      <td>6.145352</td>\n",
       "      <td>6.611291</td>\n",
       "      <td>5.023619</td>\n",
       "      <td>4.358376</td>\n",
       "      <td>5.172933</td>\n",
       "      <td>6.731123</td>\n",
       "      <td>...</td>\n",
       "      <td>9.107204</td>\n",
       "      <td>7.465721</td>\n",
       "      <td>8.788528</td>\n",
       "      <td>9.572570</td>\n",
       "      <td>9.679030</td>\n",
       "      <td>1.911065</td>\n",
       "      <td>5.402421</td>\n",
       "      <td>5.005345</td>\n",
       "      <td>2.798605</td>\n",
       "      <td>5.674561</td>\n",
       "    </tr>\n",
       "    <tr>\n",
       "      <th>100002_raw-Energy</th>\n",
       "      <td>6.460916</td>\n",
       "      <td>5.505183</td>\n",
       "      <td>7.399599</td>\n",
       "      <td>4.883557</td>\n",
       "      <td>6.300282</td>\n",
       "      <td>6.617465</td>\n",
       "      <td>5.325193</td>\n",
       "      <td>4.325032</td>\n",
       "      <td>5.428046</td>\n",
       "      <td>7.023396</td>\n",
       "      <td>...</td>\n",
       "      <td>9.018374</td>\n",
       "      <td>7.488490</td>\n",
       "      <td>8.812325</td>\n",
       "      <td>9.568748</td>\n",
       "      <td>9.703897</td>\n",
       "      <td>1.830261</td>\n",
       "      <td>5.426361</td>\n",
       "      <td>4.880517</td>\n",
       "      <td>2.736183</td>\n",
       "      <td>5.691994</td>\n",
       "    </tr>\n",
       "    <tr>\n",
       "      <th>100003_raw-Protein</th>\n",
       "      <td>6.466805</td>\n",
       "      <td>5.458629</td>\n",
       "      <td>7.368454</td>\n",
       "      <td>4.923854</td>\n",
       "      <td>6.393869</td>\n",
       "      <td>6.636221</td>\n",
       "      <td>5.306796</td>\n",
       "      <td>4.363737</td>\n",
       "      <td>5.470543</td>\n",
       "      <td>7.056087</td>\n",
       "      <td>...</td>\n",
       "      <td>9.005486</td>\n",
       "      <td>7.504950</td>\n",
       "      <td>8.769291</td>\n",
       "      <td>9.523876</td>\n",
       "      <td>9.748778</td>\n",
       "      <td>1.860021</td>\n",
       "      <td>5.457011</td>\n",
       "      <td>4.862948</td>\n",
       "      <td>2.789229</td>\n",
       "      <td>5.680467</td>\n",
       "    </tr>\n",
       "    <tr>\n",
       "      <th>100004_raw-Fat</th>\n",
       "      <td>6.564027</td>\n",
       "      <td>5.311611</td>\n",
       "      <td>7.302944</td>\n",
       "      <td>4.877467</td>\n",
       "      <td>6.186177</td>\n",
       "      <td>6.692945</td>\n",
       "      <td>5.133474</td>\n",
       "      <td>4.370428</td>\n",
       "      <td>5.349103</td>\n",
       "      <td>6.923361</td>\n",
       "      <td>...</td>\n",
       "      <td>9.122827</td>\n",
       "      <td>7.386698</td>\n",
       "      <td>8.914087</td>\n",
       "      <td>9.622107</td>\n",
       "      <td>9.642089</td>\n",
       "      <td>1.847337</td>\n",
       "      <td>5.383461</td>\n",
       "      <td>4.924160</td>\n",
       "      <td>2.730383</td>\n",
       "      <td>5.653959</td>\n",
       "    </tr>\n",
       "    <tr>\n",
       "      <th>100005_raw-Carbohydrate</th>\n",
       "      <td>6.627501</td>\n",
       "      <td>5.250340</td>\n",
       "      <td>7.249473</td>\n",
       "      <td>4.796991</td>\n",
       "      <td>5.966265</td>\n",
       "      <td>6.625223</td>\n",
       "      <td>4.946440</td>\n",
       "      <td>4.482035</td>\n",
       "      <td>5.224523</td>\n",
       "      <td>6.724992</td>\n",
       "      <td>...</td>\n",
       "      <td>9.149892</td>\n",
       "      <td>7.443833</td>\n",
       "      <td>8.843749</td>\n",
       "      <td>9.623201</td>\n",
       "      <td>9.629378</td>\n",
       "      <td>1.898488</td>\n",
       "      <td>5.410903</td>\n",
       "      <td>4.978440</td>\n",
       "      <td>2.766205</td>\n",
       "      <td>5.652066</td>\n",
       "    </tr>\n",
       "  </tbody>\n",
       "</table>\n",
       "<p>5 rows × 50 columns</p>\n",
       "</div>"
      ],
      "text/plain": [
       "                            UMAP1     UMAP2     UMAP3     UMAP4     UMAP5  \\\n",
       "100001_raw-Food_weight   6.554080  5.281644  7.335147  4.784761  6.145352   \n",
       "100002_raw-Energy        6.460916  5.505183  7.399599  4.883557  6.300282   \n",
       "100003_raw-Protein       6.466805  5.458629  7.368454  4.923854  6.393869   \n",
       "100004_raw-Fat           6.564027  5.311611  7.302944  4.877467  6.186177   \n",
       "100005_raw-Carbohydrate  6.627501  5.250340  7.249473  4.796991  5.966265   \n",
       "\n",
       "                            UMAP6     UMAP7     UMAP8     UMAP9    UMAP10  \\\n",
       "100001_raw-Food_weight   6.611291  5.023619  4.358376  5.172933  6.731123   \n",
       "100002_raw-Energy        6.617465  5.325193  4.325032  5.428046  7.023396   \n",
       "100003_raw-Protein       6.636221  5.306796  4.363737  5.470543  7.056087   \n",
       "100004_raw-Fat           6.692945  5.133474  4.370428  5.349103  6.923361   \n",
       "100005_raw-Carbohydrate  6.625223  4.946440  4.482035  5.224523  6.724992   \n",
       "\n",
       "                         ...    UMAP41    UMAP42    UMAP43    UMAP44  \\\n",
       "100001_raw-Food_weight   ...  9.107204  7.465721  8.788528  9.572570   \n",
       "100002_raw-Energy        ...  9.018374  7.488490  8.812325  9.568748   \n",
       "100003_raw-Protein       ...  9.005486  7.504950  8.769291  9.523876   \n",
       "100004_raw-Fat           ...  9.122827  7.386698  8.914087  9.622107   \n",
       "100005_raw-Carbohydrate  ...  9.149892  7.443833  8.843749  9.623201   \n",
       "\n",
       "                           UMAP45    UMAP46    UMAP47    UMAP48    UMAP49  \\\n",
       "100001_raw-Food_weight   9.679030  1.911065  5.402421  5.005345  2.798605   \n",
       "100002_raw-Energy        9.703897  1.830261  5.426361  4.880517  2.736183   \n",
       "100003_raw-Protein       9.748778  1.860021  5.457011  4.862948  2.789229   \n",
       "100004_raw-Fat           9.642089  1.847337  5.383461  4.924160  2.730383   \n",
       "100005_raw-Carbohydrate  9.629378  1.898488  5.410903  4.978440  2.766205   \n",
       "\n",
       "                           UMAP50  \n",
       "100001_raw-Food_weight   5.674561  \n",
       "100002_raw-Energy        5.691994  \n",
       "100003_raw-Protein       5.680467  \n",
       "100004_raw-Fat           5.653959  \n",
       "100005_raw-Carbohydrate  5.652066  \n",
       "\n",
       "[5 rows x 50 columns]"
      ]
     },
     "execution_count": 21,
     "metadata": {},
     "output_type": "execute_result"
    }
   ],
   "source": [
    "data.head()"
   ]
  },
  {
   "cell_type": "code",
   "execution_count": 22,
   "id": "cb9ef077",
   "metadata": {
    "execution": {
     "iopub.execute_input": "2022-09-14T10:09:41.012229Z",
     "iopub.status.busy": "2022-09-14T10:09:41.012070Z",
     "iopub.status.idle": "2022-09-14T10:09:41.031433Z",
     "shell.execute_reply": "2022-09-14T10:09:41.030879Z"
    },
    "papermill": {
     "duration": 0.030323,
     "end_time": "2022-09-14T10:09:41.032862",
     "exception": false,
     "start_time": "2022-09-14T10:09:41.002539",
     "status": "completed"
    },
    "tags": []
   },
   "outputs": [],
   "source": [
    "assert not data.isna().any().any()"
   ]
  },
  {
   "cell_type": "markdown",
   "id": "5d241f55",
   "metadata": {
    "papermill": {
     "duration": 0.008547,
     "end_time": "2022-09-14T10:09:41.050678",
     "exception": false,
     "start_time": "2022-09-14T10:09:41.042131",
     "status": "completed"
    },
    "tags": []
   },
   "source": [
    "# Clustering"
   ]
  },
  {
   "cell_type": "markdown",
   "id": "218c37c6",
   "metadata": {
    "papermill": {
     "duration": 0.008602,
     "end_time": "2022-09-14T10:09:41.067770",
     "exception": false,
     "start_time": "2022-09-14T10:09:41.059168",
     "status": "completed"
    },
    "tags": []
   },
   "source": [
    "## Generate ensemble"
   ]
  },
  {
   "cell_type": "code",
   "execution_count": 23,
   "id": "6580ed0f",
   "metadata": {
    "execution": {
     "iopub.execute_input": "2022-09-14T10:09:41.086136Z",
     "iopub.status.busy": "2022-09-14T10:09:41.085548Z",
     "iopub.status.idle": "2022-09-14T10:09:41.107420Z",
     "shell.execute_reply": "2022-09-14T10:09:41.106942Z"
    },
    "papermill": {
     "duration": 0.032678,
     "end_time": "2022-09-14T10:09:41.108859",
     "exception": false,
     "start_time": "2022-09-14T10:09:41.076181",
     "status": "completed"
    },
    "tags": []
   },
   "outputs": [],
   "source": [
    "from clustering.ensembles.utils import generate_ensemble"
   ]
  },
  {
   "cell_type": "code",
   "execution_count": 24,
   "id": "e952262e",
   "metadata": {
    "execution": {
     "iopub.execute_input": "2022-09-14T10:09:41.128582Z",
     "iopub.status.busy": "2022-09-14T10:09:41.128388Z",
     "iopub.status.idle": "2022-09-14T10:59:38.107173Z",
     "shell.execute_reply": "2022-09-14T10:59:38.106753Z"
    },
    "papermill": {
     "duration": 2996.990046,
     "end_time": "2022-09-14T10:59:38.108389",
     "exception": false,
     "start_time": "2022-09-14T10:09:41.118343",
     "status": "completed"
    },
    "tags": []
   },
   "outputs": [
    {
     "name": "stderr",
     "output_type": "stream",
     "text": [
      "100%|██████████| 295/295 [49:56<00:00, 10.16s/it]\n"
     ]
    }
   ],
   "source": [
    "ensemble = generate_ensemble(\n",
    "    data,\n",
    "    CLUSTERERS,\n",
    "    attributes=CLUSTERING_ATTRIBUTES_TO_SAVE,\n",
    ")"
   ]
  },
  {
   "cell_type": "code",
   "execution_count": 25,
   "id": "7fb8e659",
   "metadata": {
    "execution": {
     "iopub.execute_input": "2022-09-14T10:59:38.147025Z",
     "iopub.status.busy": "2022-09-14T10:59:38.146728Z",
     "iopub.status.idle": "2022-09-14T10:59:38.165256Z",
     "shell.execute_reply": "2022-09-14T10:59:38.164812Z"
    },
    "papermill": {
     "duration": 0.039257,
     "end_time": "2022-09-14T10:59:38.166491",
     "exception": false,
     "start_time": "2022-09-14T10:59:38.127234",
     "status": "completed"
    },
    "tags": []
   },
   "outputs": [
    {
     "data": {
      "text/plain": [
       "(295, 3)"
      ]
     },
     "execution_count": 25,
     "metadata": {},
     "output_type": "execute_result"
    }
   ],
   "source": [
    "# the number should be close to 295 (the number of partitions generated by k-means/spectral clustering)\n",
    "ensemble.shape"
   ]
  },
  {
   "cell_type": "code",
   "execution_count": 26,
   "id": "b58e9215",
   "metadata": {
    "execution": {
     "iopub.execute_input": "2022-09-14T10:59:38.203949Z",
     "iopub.status.busy": "2022-09-14T10:59:38.203759Z",
     "iopub.status.idle": "2022-09-14T10:59:38.230047Z",
     "shell.execute_reply": "2022-09-14T10:59:38.229504Z"
    },
    "papermill": {
     "duration": 0.046384,
     "end_time": "2022-09-14T10:59:38.231335",
     "exception": false,
     "start_time": "2022-09-14T10:59:38.184951",
     "status": "completed"
    },
    "tags": []
   },
   "outputs": [
    {
     "data": {
      "text/html": [
       "<div>\n",
       "<style scoped>\n",
       "    .dataframe tbody tr th:only-of-type {\n",
       "        vertical-align: middle;\n",
       "    }\n",
       "\n",
       "    .dataframe tbody tr th {\n",
       "        vertical-align: top;\n",
       "    }\n",
       "\n",
       "    .dataframe thead th {\n",
       "        text-align: right;\n",
       "    }\n",
       "</style>\n",
       "<table border=\"1\" class=\"dataframe\">\n",
       "  <thead>\n",
       "    <tr style=\"text-align: right;\">\n",
       "      <th></th>\n",
       "      <th>clusterer_params</th>\n",
       "      <th>partition</th>\n",
       "      <th>n_clusters</th>\n",
       "    </tr>\n",
       "    <tr>\n",
       "      <th>clusterer_id</th>\n",
       "      <th></th>\n",
       "      <th></th>\n",
       "      <th></th>\n",
       "    </tr>\n",
       "  </thead>\n",
       "  <tbody>\n",
       "    <tr>\n",
       "      <th>GaussianMixture #0</th>\n",
       "      <td>{'covariance_type': 'full', 'init_params': 'km...</td>\n",
       "      <td>[1.0, 1.0, 1.0, 1.0, 1.0, 1.0, 1.0, 1.0, 1.0, ...</td>\n",
       "      <td>2</td>\n",
       "    </tr>\n",
       "    <tr>\n",
       "      <th>GaussianMixture #1</th>\n",
       "      <td>{'covariance_type': 'full', 'init_params': 'km...</td>\n",
       "      <td>[1.0, 1.0, 1.0, 1.0, 1.0, 1.0, 1.0, 1.0, 1.0, ...</td>\n",
       "      <td>2</td>\n",
       "    </tr>\n",
       "    <tr>\n",
       "      <th>GaussianMixture #2</th>\n",
       "      <td>{'covariance_type': 'full', 'init_params': 'km...</td>\n",
       "      <td>[0.0, 0.0, 0.0, 0.0, 0.0, 0.0, 0.0, 0.0, 0.0, ...</td>\n",
       "      <td>2</td>\n",
       "    </tr>\n",
       "    <tr>\n",
       "      <th>GaussianMixture #3</th>\n",
       "      <td>{'covariance_type': 'full', 'init_params': 'km...</td>\n",
       "      <td>[0.0, 0.0, 0.0, 0.0, 0.0, 0.0, 0.0, 0.0, 0.0, ...</td>\n",
       "      <td>2</td>\n",
       "    </tr>\n",
       "    <tr>\n",
       "      <th>GaussianMixture #4</th>\n",
       "      <td>{'covariance_type': 'full', 'init_params': 'km...</td>\n",
       "      <td>[1.0, 1.0, 1.0, 1.0, 1.0, 1.0, 1.0, 1.0, 1.0, ...</td>\n",
       "      <td>2</td>\n",
       "    </tr>\n",
       "  </tbody>\n",
       "</table>\n",
       "</div>"
      ],
      "text/plain": [
       "                                                     clusterer_params  \\\n",
       "clusterer_id                                                            \n",
       "GaussianMixture #0  {'covariance_type': 'full', 'init_params': 'km...   \n",
       "GaussianMixture #1  {'covariance_type': 'full', 'init_params': 'km...   \n",
       "GaussianMixture #2  {'covariance_type': 'full', 'init_params': 'km...   \n",
       "GaussianMixture #3  {'covariance_type': 'full', 'init_params': 'km...   \n",
       "GaussianMixture #4  {'covariance_type': 'full', 'init_params': 'km...   \n",
       "\n",
       "                                                            partition  \\\n",
       "clusterer_id                                                            \n",
       "GaussianMixture #0  [1.0, 1.0, 1.0, 1.0, 1.0, 1.0, 1.0, 1.0, 1.0, ...   \n",
       "GaussianMixture #1  [1.0, 1.0, 1.0, 1.0, 1.0, 1.0, 1.0, 1.0, 1.0, ...   \n",
       "GaussianMixture #2  [0.0, 0.0, 0.0, 0.0, 0.0, 0.0, 0.0, 0.0, 0.0, ...   \n",
       "GaussianMixture #3  [0.0, 0.0, 0.0, 0.0, 0.0, 0.0, 0.0, 0.0, 0.0, ...   \n",
       "GaussianMixture #4  [1.0, 1.0, 1.0, 1.0, 1.0, 1.0, 1.0, 1.0, 1.0, ...   \n",
       "\n",
       "                    n_clusters  \n",
       "clusterer_id                    \n",
       "GaussianMixture #0           2  \n",
       "GaussianMixture #1           2  \n",
       "GaussianMixture #2           2  \n",
       "GaussianMixture #3           2  \n",
       "GaussianMixture #4           2  "
      ]
     },
     "execution_count": 26,
     "metadata": {},
     "output_type": "execute_result"
    }
   ],
   "source": [
    "ensemble.head()"
   ]
  },
  {
   "cell_type": "code",
   "execution_count": 27,
   "id": "64471fed",
   "metadata": {
    "execution": {
     "iopub.execute_input": "2022-09-14T10:59:38.269966Z",
     "iopub.status.busy": "2022-09-14T10:59:38.269754Z",
     "iopub.status.idle": "2022-09-14T10:59:38.289447Z",
     "shell.execute_reply": "2022-09-14T10:59:38.288989Z"
    },
    "papermill": {
     "duration": 0.040425,
     "end_time": "2022-09-14T10:59:38.290732",
     "exception": false,
     "start_time": "2022-09-14T10:59:38.250307",
     "status": "completed"
    },
    "tags": []
   },
   "outputs": [
    {
     "data": {
      "text/plain": [
       "60    5\n",
       "16    5\n",
       "28    5\n",
       "27    5\n",
       "26    5\n",
       "Name: n_clusters, dtype: int64"
      ]
     },
     "execution_count": 27,
     "metadata": {},
     "output_type": "execute_result"
    }
   ],
   "source": [
    "ensemble[\"n_clusters\"].value_counts().head()"
   ]
  },
  {
   "cell_type": "code",
   "execution_count": 28,
   "id": "1042cc8f",
   "metadata": {
    "execution": {
     "iopub.execute_input": "2022-09-14T10:59:38.329905Z",
     "iopub.status.busy": "2022-09-14T10:59:38.329627Z",
     "iopub.status.idle": "2022-09-14T10:59:38.350548Z",
     "shell.execute_reply": "2022-09-14T10:59:38.350054Z"
    },
    "papermill": {
     "duration": 0.041614,
     "end_time": "2022-09-14T10:59:38.351816",
     "exception": false,
     "start_time": "2022-09-14T10:59:38.310202",
     "status": "completed"
    },
    "tags": []
   },
   "outputs": [
    {
     "data": {
      "text/plain": [
       "count    295.000000\n",
       "mean      31.000000\n",
       "std       17.058323\n",
       "min        2.000000\n",
       "25%       16.000000\n",
       "50%       31.000000\n",
       "75%       46.000000\n",
       "max       60.000000\n",
       "Name: n_clusters, dtype: float64"
      ]
     },
     "metadata": {},
     "output_type": "display_data"
    }
   ],
   "source": [
    "ensemble_stats = ensemble[\"n_clusters\"].describe()\n",
    "display(ensemble_stats)"
   ]
  },
  {
   "cell_type": "markdown",
   "id": "13772ff4",
   "metadata": {
    "papermill": {
     "duration": 0.018272,
     "end_time": "2022-09-14T10:59:38.389246",
     "exception": false,
     "start_time": "2022-09-14T10:59:38.370974",
     "status": "completed"
    },
    "tags": []
   },
   "source": [
    "## Testing"
   ]
  },
  {
   "cell_type": "code",
   "execution_count": 29,
   "id": "985f813c",
   "metadata": {
    "execution": {
     "iopub.execute_input": "2022-09-14T10:59:38.427560Z",
     "iopub.status.busy": "2022-09-14T10:59:38.427295Z",
     "iopub.status.idle": "2022-09-14T10:59:38.445124Z",
     "shell.execute_reply": "2022-09-14T10:59:38.444568Z"
    },
    "papermill": {
     "duration": 0.03845,
     "end_time": "2022-09-14T10:59:38.446492",
     "exception": false,
     "start_time": "2022-09-14T10:59:38.408042",
     "status": "completed"
    },
    "tags": []
   },
   "outputs": [],
   "source": [
    "assert ensemble_stats[\"min\"] > 1"
   ]
  },
  {
   "cell_type": "code",
   "execution_count": 30,
   "id": "9a90a7b1",
   "metadata": {
    "execution": {
     "iopub.execute_input": "2022-09-14T10:59:38.486422Z",
     "iopub.status.busy": "2022-09-14T10:59:38.485734Z",
     "iopub.status.idle": "2022-09-14T10:59:38.503873Z",
     "shell.execute_reply": "2022-09-14T10:59:38.503318Z"
    },
    "papermill": {
     "duration": 0.039263,
     "end_time": "2022-09-14T10:59:38.505226",
     "exception": false,
     "start_time": "2022-09-14T10:59:38.465963",
     "status": "completed"
    },
    "tags": []
   },
   "outputs": [],
   "source": [
    "assert not ensemble[\"n_clusters\"].isna().any()"
   ]
  },
  {
   "cell_type": "code",
   "execution_count": 31,
   "id": "22e96604",
   "metadata": {
    "execution": {
     "iopub.execute_input": "2022-09-14T10:59:38.543746Z",
     "iopub.status.busy": "2022-09-14T10:59:38.543537Z",
     "iopub.status.idle": "2022-09-14T10:59:38.561425Z",
     "shell.execute_reply": "2022-09-14T10:59:38.560910Z"
    },
    "papermill": {
     "duration": 0.038469,
     "end_time": "2022-09-14T10:59:38.562787",
     "exception": false,
     "start_time": "2022-09-14T10:59:38.524318",
     "status": "completed"
    },
    "tags": []
   },
   "outputs": [],
   "source": [
    "assert ensemble.shape[0] == len(CLUSTERERS)"
   ]
  },
  {
   "cell_type": "code",
   "execution_count": 32,
   "id": "d6a54942",
   "metadata": {
    "execution": {
     "iopub.execute_input": "2022-09-14T10:59:38.602735Z",
     "iopub.status.busy": "2022-09-14T10:59:38.602527Z",
     "iopub.status.idle": "2022-09-14T10:59:38.638644Z",
     "shell.execute_reply": "2022-09-14T10:59:38.638063Z"
    },
    "papermill": {
     "duration": 0.057478,
     "end_time": "2022-09-14T10:59:38.640072",
     "exception": false,
     "start_time": "2022-09-14T10:59:38.582594",
     "status": "completed"
    },
    "tags": []
   },
   "outputs": [],
   "source": [
    "# all partitions have the right size\n",
    "assert np.all(\n",
    "    [part[\"partition\"].shape[0] == data.shape[0] for idx, part in ensemble.iterrows()]\n",
    ")"
   ]
  },
  {
   "cell_type": "code",
   "execution_count": 33,
   "id": "6d9809b4",
   "metadata": {
    "execution": {
     "iopub.execute_input": "2022-09-14T10:59:38.681537Z",
     "iopub.status.busy": "2022-09-14T10:59:38.681344Z",
     "iopub.status.idle": "2022-09-14T10:59:38.720499Z",
     "shell.execute_reply": "2022-09-14T10:59:38.719810Z"
    },
    "papermill": {
     "duration": 0.062279,
     "end_time": "2022-09-14T10:59:38.721889",
     "exception": false,
     "start_time": "2022-09-14T10:59:38.659610",
     "status": "completed"
    },
    "tags": []
   },
   "outputs": [],
   "source": [
    "# no partition has negative clusters (noisy points)\n",
    "assert not np.any([(part[\"partition\"] < 0).any() for idx, part in ensemble.iterrows()])"
   ]
  },
  {
   "cell_type": "markdown",
   "id": "be56bd86",
   "metadata": {
    "papermill": {
     "duration": 0.019176,
     "end_time": "2022-09-14T10:59:38.760311",
     "exception": false,
     "start_time": "2022-09-14T10:59:38.741135",
     "status": "completed"
    },
    "tags": []
   },
   "source": [
    "## Add clustering quality measures"
   ]
  },
  {
   "cell_type": "code",
   "execution_count": 34,
   "id": "3789c847",
   "metadata": {
    "execution": {
     "iopub.execute_input": "2022-09-14T10:59:38.800117Z",
     "iopub.status.busy": "2022-09-14T10:59:38.799540Z",
     "iopub.status.idle": "2022-09-14T10:59:38.817453Z",
     "shell.execute_reply": "2022-09-14T10:59:38.816832Z"
    },
    "papermill": {
     "duration": 0.03836,
     "end_time": "2022-09-14T10:59:38.818835",
     "exception": false,
     "start_time": "2022-09-14T10:59:38.780475",
     "status": "completed"
    },
    "tags": []
   },
   "outputs": [],
   "source": [
    "from sklearn.metrics import calinski_harabasz_score"
   ]
  },
  {
   "cell_type": "code",
   "execution_count": 35,
   "id": "20a6e027",
   "metadata": {
    "execution": {
     "iopub.execute_input": "2022-09-14T10:59:38.858226Z",
     "iopub.status.busy": "2022-09-14T10:59:38.858016Z",
     "iopub.status.idle": "2022-09-14T10:59:39.784423Z",
     "shell.execute_reply": "2022-09-14T10:59:39.783822Z"
    },
    "papermill": {
     "duration": 0.947718,
     "end_time": "2022-09-14T10:59:39.786020",
     "exception": false,
     "start_time": "2022-09-14T10:59:38.838302",
     "status": "completed"
    },
    "tags": []
   },
   "outputs": [],
   "source": [
    "ensemble = ensemble.assign(\n",
    "    ch_score=ensemble[\"partition\"].apply(lambda x: calinski_harabasz_score(data, x))\n",
    ")"
   ]
  },
  {
   "cell_type": "code",
   "execution_count": 36,
   "id": "dbb85abc",
   "metadata": {
    "execution": {
     "iopub.execute_input": "2022-09-14T10:59:39.824324Z",
     "iopub.status.busy": "2022-09-14T10:59:39.823869Z",
     "iopub.status.idle": "2022-09-14T10:59:39.842504Z",
     "shell.execute_reply": "2022-09-14T10:59:39.842025Z"
    },
    "papermill": {
     "duration": 0.03923,
     "end_time": "2022-09-14T10:59:39.843783",
     "exception": false,
     "start_time": "2022-09-14T10:59:39.804553",
     "status": "completed"
    },
    "tags": []
   },
   "outputs": [
    {
     "data": {
      "text/plain": [
       "(295, 4)"
      ]
     },
     "execution_count": 36,
     "metadata": {},
     "output_type": "execute_result"
    }
   ],
   "source": [
    "ensemble.shape"
   ]
  },
  {
   "cell_type": "code",
   "execution_count": 37,
   "id": "3bb3b1bd",
   "metadata": {
    "execution": {
     "iopub.execute_input": "2022-09-14T10:59:39.882255Z",
     "iopub.status.busy": "2022-09-14T10:59:39.882046Z",
     "iopub.status.idle": "2022-09-14T10:59:39.908233Z",
     "shell.execute_reply": "2022-09-14T10:59:39.907775Z"
    },
    "papermill": {
     "duration": 0.046568,
     "end_time": "2022-09-14T10:59:39.909433",
     "exception": false,
     "start_time": "2022-09-14T10:59:39.862865",
     "status": "completed"
    },
    "tags": []
   },
   "outputs": [
    {
     "data": {
      "text/html": [
       "<div>\n",
       "<style scoped>\n",
       "    .dataframe tbody tr th:only-of-type {\n",
       "        vertical-align: middle;\n",
       "    }\n",
       "\n",
       "    .dataframe tbody tr th {\n",
       "        vertical-align: top;\n",
       "    }\n",
       "\n",
       "    .dataframe thead th {\n",
       "        text-align: right;\n",
       "    }\n",
       "</style>\n",
       "<table border=\"1\" class=\"dataframe\">\n",
       "  <thead>\n",
       "    <tr style=\"text-align: right;\">\n",
       "      <th></th>\n",
       "      <th>clusterer_params</th>\n",
       "      <th>partition</th>\n",
       "      <th>n_clusters</th>\n",
       "      <th>ch_score</th>\n",
       "    </tr>\n",
       "    <tr>\n",
       "      <th>clusterer_id</th>\n",
       "      <th></th>\n",
       "      <th></th>\n",
       "      <th></th>\n",
       "      <th></th>\n",
       "    </tr>\n",
       "  </thead>\n",
       "  <tbody>\n",
       "    <tr>\n",
       "      <th>GaussianMixture #0</th>\n",
       "      <td>{'covariance_type': 'full', 'init_params': 'km...</td>\n",
       "      <td>[1.0, 1.0, 1.0, 1.0, 1.0, 1.0, 1.0, 1.0, 1.0, ...</td>\n",
       "      <td>2</td>\n",
       "      <td>1965.095074</td>\n",
       "    </tr>\n",
       "    <tr>\n",
       "      <th>GaussianMixture #1</th>\n",
       "      <td>{'covariance_type': 'full', 'init_params': 'km...</td>\n",
       "      <td>[1.0, 1.0, 1.0, 1.0, 1.0, 1.0, 1.0, 1.0, 1.0, ...</td>\n",
       "      <td>2</td>\n",
       "      <td>1965.095074</td>\n",
       "    </tr>\n",
       "    <tr>\n",
       "      <th>GaussianMixture #2</th>\n",
       "      <td>{'covariance_type': 'full', 'init_params': 'km...</td>\n",
       "      <td>[0.0, 0.0, 0.0, 0.0, 0.0, 0.0, 0.0, 0.0, 0.0, ...</td>\n",
       "      <td>2</td>\n",
       "      <td>1965.095074</td>\n",
       "    </tr>\n",
       "    <tr>\n",
       "      <th>GaussianMixture #3</th>\n",
       "      <td>{'covariance_type': 'full', 'init_params': 'km...</td>\n",
       "      <td>[0.0, 0.0, 0.0, 0.0, 0.0, 0.0, 0.0, 0.0, 0.0, ...</td>\n",
       "      <td>2</td>\n",
       "      <td>1965.095074</td>\n",
       "    </tr>\n",
       "    <tr>\n",
       "      <th>GaussianMixture #4</th>\n",
       "      <td>{'covariance_type': 'full', 'init_params': 'km...</td>\n",
       "      <td>[1.0, 1.0, 1.0, 1.0, 1.0, 1.0, 1.0, 1.0, 1.0, ...</td>\n",
       "      <td>2</td>\n",
       "      <td>1965.095074</td>\n",
       "    </tr>\n",
       "  </tbody>\n",
       "</table>\n",
       "</div>"
      ],
      "text/plain": [
       "                                                     clusterer_params  \\\n",
       "clusterer_id                                                            \n",
       "GaussianMixture #0  {'covariance_type': 'full', 'init_params': 'km...   \n",
       "GaussianMixture #1  {'covariance_type': 'full', 'init_params': 'km...   \n",
       "GaussianMixture #2  {'covariance_type': 'full', 'init_params': 'km...   \n",
       "GaussianMixture #3  {'covariance_type': 'full', 'init_params': 'km...   \n",
       "GaussianMixture #4  {'covariance_type': 'full', 'init_params': 'km...   \n",
       "\n",
       "                                                            partition  \\\n",
       "clusterer_id                                                            \n",
       "GaussianMixture #0  [1.0, 1.0, 1.0, 1.0, 1.0, 1.0, 1.0, 1.0, 1.0, ...   \n",
       "GaussianMixture #1  [1.0, 1.0, 1.0, 1.0, 1.0, 1.0, 1.0, 1.0, 1.0, ...   \n",
       "GaussianMixture #2  [0.0, 0.0, 0.0, 0.0, 0.0, 0.0, 0.0, 0.0, 0.0, ...   \n",
       "GaussianMixture #3  [0.0, 0.0, 0.0, 0.0, 0.0, 0.0, 0.0, 0.0, 0.0, ...   \n",
       "GaussianMixture #4  [1.0, 1.0, 1.0, 1.0, 1.0, 1.0, 1.0, 1.0, 1.0, ...   \n",
       "\n",
       "                    n_clusters     ch_score  \n",
       "clusterer_id                                 \n",
       "GaussianMixture #0           2  1965.095074  \n",
       "GaussianMixture #1           2  1965.095074  \n",
       "GaussianMixture #2           2  1965.095074  \n",
       "GaussianMixture #3           2  1965.095074  \n",
       "GaussianMixture #4           2  1965.095074  "
      ]
     },
     "execution_count": 37,
     "metadata": {},
     "output_type": "execute_result"
    }
   ],
   "source": [
    "ensemble.head()"
   ]
  },
  {
   "cell_type": "markdown",
   "id": "d5672a74",
   "metadata": {
    "papermill": {
     "duration": 0.018442,
     "end_time": "2022-09-14T10:59:39.947441",
     "exception": false,
     "start_time": "2022-09-14T10:59:39.928999",
     "status": "completed"
    },
    "tags": []
   },
   "source": [
    "## Save"
   ]
  },
  {
   "cell_type": "code",
   "execution_count": 38,
   "id": "08fa1af0",
   "metadata": {
    "execution": {
     "iopub.execute_input": "2022-09-14T10:59:39.985378Z",
     "iopub.status.busy": "2022-09-14T10:59:39.985172Z",
     "iopub.status.idle": "2022-09-14T10:59:40.004475Z",
     "shell.execute_reply": "2022-09-14T10:59:40.003976Z"
    },
    "papermill": {
     "duration": 0.03972,
     "end_time": "2022-09-14T10:59:40.005730",
     "exception": false,
     "start_time": "2022-09-14T10:59:39.966010",
     "status": "completed"
    },
    "tags": []
   },
   "outputs": [
    {
     "data": {
      "text/plain": [
       "PosixPath('/opt/data/results/clustering/null_sims/runs/umap-z_score_std-projection-smultixcan-efo_partial-mashr-zscores/GaussianMixture-COVARIANCE_TYPE_full-K_MAX_60-K_MIN_2-N_INIT_10-N_REPS_PER_K_5.pkl')"
      ]
     },
     "metadata": {},
     "output_type": "display_data"
    }
   ],
   "source": [
    "output_filename = Path(\n",
    "    RESULTS_DIR,\n",
    "    generate_result_set_name(\n",
    "        CLUSTERING_OPTIONS,\n",
    "        prefix=f\"{clustering_method_name}-\",\n",
    "        suffix=\".pkl\",\n",
    "    ),\n",
    ").resolve()\n",
    "display(output_filename)"
   ]
  },
  {
   "cell_type": "code",
   "execution_count": 39,
   "id": "7c4c78e7",
   "metadata": {
    "execution": {
     "iopub.execute_input": "2022-09-14T10:59:40.045196Z",
     "iopub.status.busy": "2022-09-14T10:59:40.044959Z",
     "iopub.status.idle": "2022-09-14T10:59:40.076779Z",
     "shell.execute_reply": "2022-09-14T10:59:40.076147Z"
    },
    "papermill": {
     "duration": 0.053025,
     "end_time": "2022-09-14T10:59:40.078229",
     "exception": false,
     "start_time": "2022-09-14T10:59:40.025204",
     "status": "completed"
    },
    "tags": []
   },
   "outputs": [],
   "source": [
    "ensemble.to_pickle(output_filename)"
   ]
  },
  {
   "cell_type": "markdown",
   "id": "15a3be9a",
   "metadata": {
    "papermill": {
     "duration": 0.01951,
     "end_time": "2022-09-14T10:59:40.118124",
     "exception": false,
     "start_time": "2022-09-14T10:59:40.098614",
     "status": "completed"
    },
    "tags": []
   },
   "source": [
    "# Cluster quality"
   ]
  },
  {
   "cell_type": "code",
   "execution_count": 40,
   "id": "d889f4a4",
   "metadata": {
    "execution": {
     "iopub.execute_input": "2022-09-14T10:59:40.156668Z",
     "iopub.status.busy": "2022-09-14T10:59:40.156460Z",
     "iopub.status.idle": "2022-09-14T10:59:40.180053Z",
     "shell.execute_reply": "2022-09-14T10:59:40.179370Z"
    },
    "papermill": {
     "duration": 0.044462,
     "end_time": "2022-09-14T10:59:40.181402",
     "exception": false,
     "start_time": "2022-09-14T10:59:40.136940",
     "status": "completed"
    },
    "tags": []
   },
   "outputs": [
    {
     "data": {
      "text/html": [
       "<div>\n",
       "<style scoped>\n",
       "    .dataframe tbody tr th:only-of-type {\n",
       "        vertical-align: middle;\n",
       "    }\n",
       "\n",
       "    .dataframe tbody tr th {\n",
       "        vertical-align: top;\n",
       "    }\n",
       "\n",
       "    .dataframe thead th {\n",
       "        text-align: right;\n",
       "    }\n",
       "</style>\n",
       "<table border=\"1\" class=\"dataframe\">\n",
       "  <thead>\n",
       "    <tr style=\"text-align: right;\">\n",
       "      <th></th>\n",
       "      <th>ch_score</th>\n",
       "    </tr>\n",
       "    <tr>\n",
       "      <th>n_clusters</th>\n",
       "      <th></th>\n",
       "    </tr>\n",
       "  </thead>\n",
       "  <tbody>\n",
       "    <tr>\n",
       "      <th>2</th>\n",
       "      <td>1965.095074</td>\n",
       "    </tr>\n",
       "    <tr>\n",
       "      <th>3</th>\n",
       "      <td>2475.053916</td>\n",
       "    </tr>\n",
       "    <tr>\n",
       "      <th>4</th>\n",
       "      <td>2725.080528</td>\n",
       "    </tr>\n",
       "    <tr>\n",
       "      <th>5</th>\n",
       "      <td>2914.088450</td>\n",
       "    </tr>\n",
       "    <tr>\n",
       "      <th>6</th>\n",
       "      <td>2796.765415</td>\n",
       "    </tr>\n",
       "    <tr>\n",
       "      <th>7</th>\n",
       "      <td>3086.225629</td>\n",
       "    </tr>\n",
       "    <tr>\n",
       "      <th>8</th>\n",
       "      <td>3037.837178</td>\n",
       "    </tr>\n",
       "    <tr>\n",
       "      <th>9</th>\n",
       "      <td>3149.471208</td>\n",
       "    </tr>\n",
       "    <tr>\n",
       "      <th>10</th>\n",
       "      <td>3231.081853</td>\n",
       "    </tr>\n",
       "    <tr>\n",
       "      <th>11</th>\n",
       "      <td>3272.124306</td>\n",
       "    </tr>\n",
       "    <tr>\n",
       "      <th>12</th>\n",
       "      <td>3331.712666</td>\n",
       "    </tr>\n",
       "    <tr>\n",
       "      <th>13</th>\n",
       "      <td>3356.041489</td>\n",
       "    </tr>\n",
       "    <tr>\n",
       "      <th>14</th>\n",
       "      <td>3445.087518</td>\n",
       "    </tr>\n",
       "    <tr>\n",
       "      <th>15</th>\n",
       "      <td>3533.126280</td>\n",
       "    </tr>\n",
       "    <tr>\n",
       "      <th>16</th>\n",
       "      <td>3680.118137</td>\n",
       "    </tr>\n",
       "    <tr>\n",
       "      <th>17</th>\n",
       "      <td>3706.351622</td>\n",
       "    </tr>\n",
       "    <tr>\n",
       "      <th>18</th>\n",
       "      <td>3728.226862</td>\n",
       "    </tr>\n",
       "    <tr>\n",
       "      <th>19</th>\n",
       "      <td>3790.933880</td>\n",
       "    </tr>\n",
       "    <tr>\n",
       "      <th>20</th>\n",
       "      <td>3817.708921</td>\n",
       "    </tr>\n",
       "    <tr>\n",
       "      <th>21</th>\n",
       "      <td>3838.311244</td>\n",
       "    </tr>\n",
       "    <tr>\n",
       "      <th>22</th>\n",
       "      <td>3856.429734</td>\n",
       "    </tr>\n",
       "    <tr>\n",
       "      <th>23</th>\n",
       "      <td>3884.981626</td>\n",
       "    </tr>\n",
       "    <tr>\n",
       "      <th>24</th>\n",
       "      <td>3892.940803</td>\n",
       "    </tr>\n",
       "    <tr>\n",
       "      <th>25</th>\n",
       "      <td>3941.397199</td>\n",
       "    </tr>\n",
       "    <tr>\n",
       "      <th>26</th>\n",
       "      <td>3929.002235</td>\n",
       "    </tr>\n",
       "    <tr>\n",
       "      <th>27</th>\n",
       "      <td>3987.592950</td>\n",
       "    </tr>\n",
       "    <tr>\n",
       "      <th>28</th>\n",
       "      <td>4077.315671</td>\n",
       "    </tr>\n",
       "    <tr>\n",
       "      <th>29</th>\n",
       "      <td>4081.060543</td>\n",
       "    </tr>\n",
       "    <tr>\n",
       "      <th>30</th>\n",
       "      <td>4137.171486</td>\n",
       "    </tr>\n",
       "    <tr>\n",
       "      <th>31</th>\n",
       "      <td>4228.178124</td>\n",
       "    </tr>\n",
       "    <tr>\n",
       "      <th>32</th>\n",
       "      <td>4237.554616</td>\n",
       "    </tr>\n",
       "    <tr>\n",
       "      <th>33</th>\n",
       "      <td>4258.108901</td>\n",
       "    </tr>\n",
       "    <tr>\n",
       "      <th>34</th>\n",
       "      <td>4294.976032</td>\n",
       "    </tr>\n",
       "    <tr>\n",
       "      <th>35</th>\n",
       "      <td>4307.310503</td>\n",
       "    </tr>\n",
       "    <tr>\n",
       "      <th>36</th>\n",
       "      <td>4337.195210</td>\n",
       "    </tr>\n",
       "    <tr>\n",
       "      <th>37</th>\n",
       "      <td>4353.846811</td>\n",
       "    </tr>\n",
       "    <tr>\n",
       "      <th>38</th>\n",
       "      <td>4369.009135</td>\n",
       "    </tr>\n",
       "    <tr>\n",
       "      <th>39</th>\n",
       "      <td>4361.436916</td>\n",
       "    </tr>\n",
       "    <tr>\n",
       "      <th>40</th>\n",
       "      <td>4397.232179</td>\n",
       "    </tr>\n",
       "    <tr>\n",
       "      <th>41</th>\n",
       "      <td>4388.876085</td>\n",
       "    </tr>\n",
       "    <tr>\n",
       "      <th>42</th>\n",
       "      <td>4390.576081</td>\n",
       "    </tr>\n",
       "    <tr>\n",
       "      <th>43</th>\n",
       "      <td>4350.473946</td>\n",
       "    </tr>\n",
       "    <tr>\n",
       "      <th>44</th>\n",
       "      <td>4338.584736</td>\n",
       "    </tr>\n",
       "    <tr>\n",
       "      <th>45</th>\n",
       "      <td>4338.984099</td>\n",
       "    </tr>\n",
       "    <tr>\n",
       "      <th>46</th>\n",
       "      <td>4347.479688</td>\n",
       "    </tr>\n",
       "    <tr>\n",
       "      <th>47</th>\n",
       "      <td>4340.523625</td>\n",
       "    </tr>\n",
       "    <tr>\n",
       "      <th>48</th>\n",
       "      <td>4282.324784</td>\n",
       "    </tr>\n",
       "    <tr>\n",
       "      <th>49</th>\n",
       "      <td>4241.177410</td>\n",
       "    </tr>\n",
       "    <tr>\n",
       "      <th>50</th>\n",
       "      <td>4252.425184</td>\n",
       "    </tr>\n",
       "    <tr>\n",
       "      <th>51</th>\n",
       "      <td>4241.188244</td>\n",
       "    </tr>\n",
       "    <tr>\n",
       "      <th>52</th>\n",
       "      <td>4221.105343</td>\n",
       "    </tr>\n",
       "    <tr>\n",
       "      <th>53</th>\n",
       "      <td>4205.236301</td>\n",
       "    </tr>\n",
       "    <tr>\n",
       "      <th>54</th>\n",
       "      <td>4172.284457</td>\n",
       "    </tr>\n",
       "    <tr>\n",
       "      <th>55</th>\n",
       "      <td>4188.304235</td>\n",
       "    </tr>\n",
       "    <tr>\n",
       "      <th>56</th>\n",
       "      <td>4178.884288</td>\n",
       "    </tr>\n",
       "    <tr>\n",
       "      <th>57</th>\n",
       "      <td>4150.905370</td>\n",
       "    </tr>\n",
       "    <tr>\n",
       "      <th>58</th>\n",
       "      <td>4113.216329</td>\n",
       "    </tr>\n",
       "    <tr>\n",
       "      <th>59</th>\n",
       "      <td>4110.799327</td>\n",
       "    </tr>\n",
       "    <tr>\n",
       "      <th>60</th>\n",
       "      <td>4085.057535</td>\n",
       "    </tr>\n",
       "  </tbody>\n",
       "</table>\n",
       "</div>"
      ],
      "text/plain": [
       "               ch_score\n",
       "n_clusters             \n",
       "2           1965.095074\n",
       "3           2475.053916\n",
       "4           2725.080528\n",
       "5           2914.088450\n",
       "6           2796.765415\n",
       "7           3086.225629\n",
       "8           3037.837178\n",
       "9           3149.471208\n",
       "10          3231.081853\n",
       "11          3272.124306\n",
       "12          3331.712666\n",
       "13          3356.041489\n",
       "14          3445.087518\n",
       "15          3533.126280\n",
       "16          3680.118137\n",
       "17          3706.351622\n",
       "18          3728.226862\n",
       "19          3790.933880\n",
       "20          3817.708921\n",
       "21          3838.311244\n",
       "22          3856.429734\n",
       "23          3884.981626\n",
       "24          3892.940803\n",
       "25          3941.397199\n",
       "26          3929.002235\n",
       "27          3987.592950\n",
       "28          4077.315671\n",
       "29          4081.060543\n",
       "30          4137.171486\n",
       "31          4228.178124\n",
       "32          4237.554616\n",
       "33          4258.108901\n",
       "34          4294.976032\n",
       "35          4307.310503\n",
       "36          4337.195210\n",
       "37          4353.846811\n",
       "38          4369.009135\n",
       "39          4361.436916\n",
       "40          4397.232179\n",
       "41          4388.876085\n",
       "42          4390.576081\n",
       "43          4350.473946\n",
       "44          4338.584736\n",
       "45          4338.984099\n",
       "46          4347.479688\n",
       "47          4340.523625\n",
       "48          4282.324784\n",
       "49          4241.177410\n",
       "50          4252.425184\n",
       "51          4241.188244\n",
       "52          4221.105343\n",
       "53          4205.236301\n",
       "54          4172.284457\n",
       "55          4188.304235\n",
       "56          4178.884288\n",
       "57          4150.905370\n",
       "58          4113.216329\n",
       "59          4110.799327\n",
       "60          4085.057535"
      ]
     },
     "metadata": {},
     "output_type": "display_data"
    }
   ],
   "source": [
    "with pd.option_context(\"display.max_rows\", None, \"display.max_columns\", None):\n",
    "    _df = ensemble.groupby([\"n_clusters\"]).mean()\n",
    "    display(_df)"
   ]
  },
  {
   "cell_type": "code",
   "execution_count": 41,
   "id": "e348f467",
   "metadata": {
    "execution": {
     "iopub.execute_input": "2022-09-14T10:59:40.222051Z",
     "iopub.status.busy": "2022-09-14T10:59:40.221830Z",
     "iopub.status.idle": "2022-09-14T10:59:43.245240Z",
     "shell.execute_reply": "2022-09-14T10:59:43.244737Z"
    },
    "papermill": {
     "duration": 3.045024,
     "end_time": "2022-09-14T10:59:43.246513",
     "exception": false,
     "start_time": "2022-09-14T10:59:40.201489",
     "status": "completed"
    },
    "tags": []
   },
   "outputs": [
    {
     "data": {
      "image/png": "[encoded data removed]",
      "text/plain": [
       "<Figure size 1008x432 with 1 Axes>"
      ]
     },
     "metadata": {},
     "output_type": "display_data"
    }
   ],
   "source": [
    "with sns.plotting_context(\"talk\", font_scale=0.75), sns.axes_style(\n",
    "    \"whitegrid\", {\"grid.linestyle\": \"--\"}\n",
    "):\n",
    "    fig = plt.figure(figsize=(14, 6))\n",
    "    ax = sns.pointplot(data=ensemble, x=\"n_clusters\", y=\"ch_score\")\n",
    "    ax.set_ylabel(\"Calinski-Harabasz index\")\n",
    "    ax.set_xlabel(\"Number of clusters ($k$)\")\n",
    "    ax.set_xticklabels(ax.get_xticklabels(), rotation=45)\n",
    "    plt.grid(True)\n",
    "    plt.tight_layout()"
   ]
  },
  {
   "cell_type": "markdown",
   "id": "1a8318c4",
   "metadata": {
    "papermill": {
     "duration": 0.019879,
     "end_time": "2022-09-14T10:59:43.287617",
     "exception": false,
     "start_time": "2022-09-14T10:59:43.267738",
     "status": "completed"
    },
    "tags": []
   },
   "source": [
    "# Stability"
   ]
  },
  {
   "cell_type": "markdown",
   "id": "b6e9954d",
   "metadata": {
    "papermill": {
     "duration": 0.019606,
     "end_time": "2022-09-14T10:59:43.327015",
     "exception": false,
     "start_time": "2022-09-14T10:59:43.307409",
     "status": "completed"
    },
    "tags": []
   },
   "source": [
    "## Group ensemble by n_clusters"
   ]
  },
  {
   "cell_type": "code",
   "execution_count": 42,
   "id": "1db60b69",
   "metadata": {
    "execution": {
     "iopub.execute_input": "2022-09-14T10:59:43.368346Z",
     "iopub.status.busy": "2022-09-14T10:59:43.367775Z",
     "iopub.status.idle": "2022-09-14T10:59:43.403334Z",
     "shell.execute_reply": "2022-09-14T10:59:43.402769Z"
    },
    "papermill": {
     "duration": 0.057839,
     "end_time": "2022-09-14T10:59:43.404720",
     "exception": false,
     "start_time": "2022-09-14T10:59:43.346881",
     "status": "completed"
    },
    "tags": []
   },
   "outputs": [],
   "source": [
    "parts = ensemble.groupby(\"n_clusters\").apply(\n",
    "    lambda x: np.concatenate(x[\"partition\"].apply(lambda x: x.reshape(1, -1)), axis=0)\n",
    ")"
   ]
  },
  {
   "cell_type": "code",
   "execution_count": 43,
   "id": "bbce47da",
   "metadata": {
    "execution": {
     "iopub.execute_input": "2022-09-14T10:59:43.446302Z",
     "iopub.status.busy": "2022-09-14T10:59:43.446079Z",
     "iopub.status.idle": "2022-09-14T10:59:43.476263Z",
     "shell.execute_reply": "2022-09-14T10:59:43.475724Z"
    },
    "papermill": {
     "duration": 0.052236,
     "end_time": "2022-09-14T10:59:43.477521",
     "exception": false,
     "start_time": "2022-09-14T10:59:43.425285",
     "status": "completed"
    },
    "tags": []
   },
   "outputs": [
    {
     "data": {
      "text/plain": [
       "n_clusters\n",
       "2    [[1.0, 1.0, 1.0, 1.0, 1.0, 1.0, 1.0, 1.0, 1.0,...\n",
       "3    [[1.0, 1.0, 1.0, 1.0, 1.0, 1.0, 1.0, 1.0, 1.0,...\n",
       "4    [[0.0, 0.0, 0.0, 0.0, 0.0, 0.0, 0.0, 0.0, 0.0,...\n",
       "5    [[3.0, 3.0, 3.0, 3.0, 3.0, 3.0, 3.0, 3.0, 3.0,...\n",
       "6    [[1.0, 1.0, 1.0, 1.0, 1.0, 1.0, 1.0, 1.0, 1.0,...\n",
       "dtype: object"
      ]
     },
     "execution_count": 43,
     "metadata": {},
     "output_type": "execute_result"
    }
   ],
   "source": [
    "parts.head()"
   ]
  },
  {
   "cell_type": "code",
   "execution_count": 44,
   "id": "eac62cb4",
   "metadata": {
    "execution": {
     "iopub.execute_input": "2022-09-14T10:59:43.519169Z",
     "iopub.status.busy": "2022-09-14T10:59:43.518931Z",
     "iopub.status.idle": "2022-09-14T10:59:43.538151Z",
     "shell.execute_reply": "2022-09-14T10:59:43.537505Z"
    },
    "papermill": {
     "duration": 0.041389,
     "end_time": "2022-09-14T10:59:43.539573",
     "exception": false,
     "start_time": "2022-09-14T10:59:43.498184",
     "status": "completed"
    },
    "tags": []
   },
   "outputs": [],
   "source": [
    "assert np.all(\n",
    "    [\n",
    "        parts.loc[k].shape == (CLUSTERING_OPTIONS[\"N_REPS_PER_K\"], data.shape[0])\n",
    "        for k in parts.index\n",
    "    ]\n",
    ")"
   ]
  },
  {
   "cell_type": "markdown",
   "id": "cae052c7",
   "metadata": {
    "papermill": {
     "duration": 0.01983,
     "end_time": "2022-09-14T10:59:43.580520",
     "exception": false,
     "start_time": "2022-09-14T10:59:43.560690",
     "status": "completed"
    },
    "tags": []
   },
   "source": [
    "## Compute stability"
   ]
  },
  {
   "cell_type": "code",
   "execution_count": 45,
   "id": "518567a5",
   "metadata": {
    "execution": {
     "iopub.execute_input": "2022-09-14T10:59:43.621121Z",
     "iopub.status.busy": "2022-09-14T10:59:43.620899Z",
     "iopub.status.idle": "2022-09-14T10:59:43.639651Z",
     "shell.execute_reply": "2022-09-14T10:59:43.639122Z"
    },
    "papermill": {
     "duration": 0.04067,
     "end_time": "2022-09-14T10:59:43.641055",
     "exception": false,
     "start_time": "2022-09-14T10:59:43.600385",
     "status": "completed"
    },
    "tags": []
   },
   "outputs": [],
   "source": [
    "from sklearn.metrics import adjusted_rand_score as ari\n",
    "from scipy.spatial.distance import pdist"
   ]
  },
  {
   "cell_type": "code",
   "execution_count": 46,
   "id": "75c9cf56",
   "metadata": {
    "execution": {
     "iopub.execute_input": "2022-09-14T10:59:43.683746Z",
     "iopub.status.busy": "2022-09-14T10:59:43.683511Z",
     "iopub.status.idle": "2022-09-14T10:59:44.256225Z",
     "shell.execute_reply": "2022-09-14T10:59:44.255557Z"
    },
    "papermill": {
     "duration": 0.595736,
     "end_time": "2022-09-14T10:59:44.257723",
     "exception": false,
     "start_time": "2022-09-14T10:59:43.661987",
     "status": "completed"
    },
    "tags": []
   },
   "outputs": [],
   "source": [
    "parts_ari = pd.Series(\n",
    "    {k: pdist(parts.loc[k], metric=ari) for k in parts.index}, name=\"k\"\n",
    ")"
   ]
  },
  {
   "cell_type": "code",
   "execution_count": 47,
   "id": "7236a9fb",
   "metadata": {
    "execution": {
     "iopub.execute_input": "2022-09-14T10:59:44.299428Z",
     "iopub.status.busy": "2022-09-14T10:59:44.299181Z",
     "iopub.status.idle": "2022-09-14T10:59:44.319536Z",
     "shell.execute_reply": "2022-09-14T10:59:44.319010Z"
    },
    "papermill": {
     "duration": 0.042493,
     "end_time": "2022-09-14T10:59:44.320778",
     "exception": false,
     "start_time": "2022-09-14T10:59:44.278285",
     "status": "completed"
    },
    "tags": []
   },
   "outputs": [
    {
     "data": {
      "text/plain": [
       "2     1.000000\n",
       "3     1.000000\n",
       "4     0.993662\n",
       "7     0.992395\n",
       "5     0.988899\n",
       "6     0.959225\n",
       "16    0.939788\n",
       "9     0.886497\n",
       "8     0.876174\n",
       "11    0.856568\n",
       "17    0.855955\n",
       "19    0.839325\n",
       "40    0.819214\n",
       "12    0.795060\n",
       "10    0.794782\n",
       "Name: k, dtype: float64"
      ]
     },
     "metadata": {},
     "output_type": "display_data"
    }
   ],
   "source": [
    "parts_ari_stability = parts_ari.apply(lambda x: x.mean())\n",
    "display(parts_ari_stability.sort_values(ascending=False).head(15))"
   ]
  },
  {
   "cell_type": "code",
   "execution_count": 48,
   "id": "7ee84b0f",
   "metadata": {
    "execution": {
     "iopub.execute_input": "2022-09-14T10:59:44.362151Z",
     "iopub.status.busy": "2022-09-14T10:59:44.361941Z",
     "iopub.status.idle": "2022-09-14T10:59:44.381159Z",
     "shell.execute_reply": "2022-09-14T10:59:44.380604Z"
    },
    "papermill": {
     "duration": 0.041207,
     "end_time": "2022-09-14T10:59:44.382563",
     "exception": false,
     "start_time": "2022-09-14T10:59:44.341356",
     "status": "completed"
    },
    "tags": []
   },
   "outputs": [],
   "source": [
    "parts_ari_df = pd.DataFrame.from_records(parts_ari.tolist()).set_index(\n",
    "    parts_ari.index.copy()\n",
    ")"
   ]
  },
  {
   "cell_type": "code",
   "execution_count": 49,
   "id": "7b368012",
   "metadata": {
    "execution": {
     "iopub.execute_input": "2022-09-14T10:59:44.424398Z",
     "iopub.status.busy": "2022-09-14T10:59:44.424173Z",
     "iopub.status.idle": "2022-09-14T10:59:44.443475Z",
     "shell.execute_reply": "2022-09-14T10:59:44.442927Z"
    },
    "papermill": {
     "duration": 0.041451,
     "end_time": "2022-09-14T10:59:44.444774",
     "exception": false,
     "start_time": "2022-09-14T10:59:44.403323",
     "status": "completed"
    },
    "tags": []
   },
   "outputs": [
    {
     "data": {
      "text/plain": [
       "(59, 10)"
      ]
     },
     "execution_count": 49,
     "metadata": {},
     "output_type": "execute_result"
    }
   ],
   "source": [
    "parts_ari_df.shape"
   ]
  },
  {
   "cell_type": "code",
   "execution_count": 50,
   "id": "dfab87b1",
   "metadata": {
    "execution": {
     "iopub.execute_input": "2022-09-14T10:59:44.486973Z",
     "iopub.status.busy": "2022-09-14T10:59:44.486763Z",
     "iopub.status.idle": "2022-09-14T10:59:44.504981Z",
     "shell.execute_reply": "2022-09-14T10:59:44.504446Z"
    },
    "papermill": {
     "duration": 0.040215,
     "end_time": "2022-09-14T10:59:44.506333",
     "exception": false,
     "start_time": "2022-09-14T10:59:44.466118",
     "status": "completed"
    },
    "tags": []
   },
   "outputs": [],
   "source": [
    "assert (\n",
    "    int(\n",
    "        (CLUSTERING_OPTIONS[\"N_REPS_PER_K\"] * (CLUSTERING_OPTIONS[\"N_REPS_PER_K\"] - 1))\n",
    "        / 2\n",
    "    )\n",
    "    == parts_ari_df.shape[1]\n",
    ")"
   ]
  },
  {
   "cell_type": "code",
   "execution_count": 51,
   "id": "389ab608",
   "metadata": {
    "execution": {
     "iopub.execute_input": "2022-09-14T10:59:44.549010Z",
     "iopub.status.busy": "2022-09-14T10:59:44.548364Z",
     "iopub.status.idle": "2022-09-14T10:59:44.584844Z",
     "shell.execute_reply": "2022-09-14T10:59:44.584251Z"
    },
    "papermill": {
     "duration": 0.059197,
     "end_time": "2022-09-14T10:59:44.586383",
     "exception": false,
     "start_time": "2022-09-14T10:59:44.527186",
     "status": "completed"
    },
    "tags": []
   },
   "outputs": [
    {
     "data": {
      "text/html": [
       "<div>\n",
       "<style scoped>\n",
       "    .dataframe tbody tr th:only-of-type {\n",
       "        vertical-align: middle;\n",
       "    }\n",
       "\n",
       "    .dataframe tbody tr th {\n",
       "        vertical-align: top;\n",
       "    }\n",
       "\n",
       "    .dataframe thead th {\n",
       "        text-align: right;\n",
       "    }\n",
       "</style>\n",
       "<table border=\"1\" class=\"dataframe\">\n",
       "  <thead>\n",
       "    <tr style=\"text-align: right;\">\n",
       "      <th></th>\n",
       "      <th>0</th>\n",
       "      <th>1</th>\n",
       "      <th>2</th>\n",
       "      <th>3</th>\n",
       "      <th>4</th>\n",
       "      <th>5</th>\n",
       "      <th>6</th>\n",
       "      <th>7</th>\n",
       "      <th>8</th>\n",
       "      <th>9</th>\n",
       "    </tr>\n",
       "  </thead>\n",
       "  <tbody>\n",
       "    <tr>\n",
       "      <th>2</th>\n",
       "      <td>1.000000</td>\n",
       "      <td>1.0</td>\n",
       "      <td>1.000000</td>\n",
       "      <td>1.000000</td>\n",
       "      <td>1.000000</td>\n",
       "      <td>1.000000</td>\n",
       "      <td>1.000000</td>\n",
       "      <td>1.000000</td>\n",
       "      <td>1.000000</td>\n",
       "      <td>1.000000</td>\n",
       "    </tr>\n",
       "    <tr>\n",
       "      <th>3</th>\n",
       "      <td>1.000000</td>\n",
       "      <td>1.0</td>\n",
       "      <td>1.000000</td>\n",
       "      <td>1.000000</td>\n",
       "      <td>1.000000</td>\n",
       "      <td>1.000000</td>\n",
       "      <td>1.000000</td>\n",
       "      <td>1.000000</td>\n",
       "      <td>1.000000</td>\n",
       "      <td>1.000000</td>\n",
       "    </tr>\n",
       "    <tr>\n",
       "      <th>4</th>\n",
       "      <td>1.000000</td>\n",
       "      <td>1.0</td>\n",
       "      <td>0.984155</td>\n",
       "      <td>1.000000</td>\n",
       "      <td>1.000000</td>\n",
       "      <td>0.984155</td>\n",
       "      <td>1.000000</td>\n",
       "      <td>0.984155</td>\n",
       "      <td>1.000000</td>\n",
       "      <td>0.984155</td>\n",
       "    </tr>\n",
       "    <tr>\n",
       "      <th>5</th>\n",
       "      <td>0.989371</td>\n",
       "      <td>1.0</td>\n",
       "      <td>0.977595</td>\n",
       "      <td>1.000000</td>\n",
       "      <td>0.989371</td>\n",
       "      <td>0.988089</td>\n",
       "      <td>0.989371</td>\n",
       "      <td>0.977595</td>\n",
       "      <td>1.000000</td>\n",
       "      <td>0.977595</td>\n",
       "    </tr>\n",
       "    <tr>\n",
       "      <th>6</th>\n",
       "      <td>0.931905</td>\n",
       "      <td>1.0</td>\n",
       "      <td>1.000000</td>\n",
       "      <td>0.932374</td>\n",
       "      <td>0.931905</td>\n",
       "      <td>0.931905</td>\n",
       "      <td>0.999410</td>\n",
       "      <td>1.000000</td>\n",
       "      <td>0.932374</td>\n",
       "      <td>0.932374</td>\n",
       "    </tr>\n",
       "  </tbody>\n",
       "</table>\n",
       "</div>"
      ],
      "text/plain": [
       "          0    1         2         3         4         5         6         7  \\\n",
       "2  1.000000  1.0  1.000000  1.000000  1.000000  1.000000  1.000000  1.000000   \n",
       "3  1.000000  1.0  1.000000  1.000000  1.000000  1.000000  1.000000  1.000000   \n",
       "4  1.000000  1.0  0.984155  1.000000  1.000000  0.984155  1.000000  0.984155   \n",
       "5  0.989371  1.0  0.977595  1.000000  0.989371  0.988089  0.989371  0.977595   \n",
       "6  0.931905  1.0  1.000000  0.932374  0.931905  0.931905  0.999410  1.000000   \n",
       "\n",
       "          8         9  \n",
       "2  1.000000  1.000000  \n",
       "3  1.000000  1.000000  \n",
       "4  1.000000  0.984155  \n",
       "5  1.000000  0.977595  \n",
       "6  0.932374  0.932374  "
      ]
     },
     "execution_count": 51,
     "metadata": {},
     "output_type": "execute_result"
    }
   ],
   "source": [
    "parts_ari_df.head()"
   ]
  },
  {
   "cell_type": "markdown",
   "id": "a4edf5c1",
   "metadata": {
    "papermill": {
     "duration": 0.022802,
     "end_time": "2022-09-14T10:59:44.637565",
     "exception": false,
     "start_time": "2022-09-14T10:59:44.614763",
     "status": "completed"
    },
    "tags": []
   },
   "source": [
    "## Save"
   ]
  },
  {
   "cell_type": "code",
   "execution_count": 52,
   "id": "c0451c36",
   "metadata": {
    "execution": {
     "iopub.execute_input": "2022-09-14T10:59:44.679233Z",
     "iopub.status.busy": "2022-09-14T10:59:44.678783Z",
     "iopub.status.idle": "2022-09-14T10:59:44.698058Z",
     "shell.execute_reply": "2022-09-14T10:59:44.697463Z"
    },
    "papermill": {
     "duration": 0.041325,
     "end_time": "2022-09-14T10:59:44.699406",
     "exception": false,
     "start_time": "2022-09-14T10:59:44.658081",
     "status": "completed"
    },
    "tags": []
   },
   "outputs": [
    {
     "data": {
      "text/plain": [
       "PosixPath('/opt/data/results/clustering/null_sims/runs/umap-z_score_std-projection-smultixcan-efo_partial-mashr-zscores/GaussianMixture-stability-COVARIANCE_TYPE_full-K_MAX_60-K_MIN_2-N_INIT_10-N_REPS_PER_K_5.pkl')"
      ]
     },
     "metadata": {},
     "output_type": "display_data"
    }
   ],
   "source": [
    "output_filename = Path(\n",
    "    RESULTS_DIR,\n",
    "    generate_result_set_name(\n",
    "        CLUSTERING_OPTIONS,\n",
    "        prefix=f\"{clustering_method_name}-stability-\",\n",
    "        suffix=\".pkl\",\n",
    "    ),\n",
    ").resolve()\n",
    "display(output_filename)"
   ]
  },
  {
   "cell_type": "code",
   "execution_count": 53,
   "id": "93c7c0c4",
   "metadata": {
    "execution": {
     "iopub.execute_input": "2022-09-14T10:59:44.743227Z",
     "iopub.status.busy": "2022-09-14T10:59:44.743044Z",
     "iopub.status.idle": "2022-09-14T10:59:44.761484Z",
     "shell.execute_reply": "2022-09-14T10:59:44.761036Z"
    },
    "papermill": {
     "duration": 0.041424,
     "end_time": "2022-09-14T10:59:44.762847",
     "exception": false,
     "start_time": "2022-09-14T10:59:44.721423",
     "status": "completed"
    },
    "tags": []
   },
   "outputs": [],
   "source": [
    "parts_ari_df.to_pickle(output_filename)"
   ]
  },
  {
   "cell_type": "markdown",
   "id": "f0c802eb",
   "metadata": {
    "papermill": {
     "duration": 0.019864,
     "end_time": "2022-09-14T10:59:44.804510",
     "exception": false,
     "start_time": "2022-09-14T10:59:44.784646",
     "status": "completed"
    },
    "tags": []
   },
   "source": [
    "## Stability plot"
   ]
  },
  {
   "cell_type": "code",
   "execution_count": 54,
   "id": "e21a1797",
   "metadata": {
    "execution": {
     "iopub.execute_input": "2022-09-14T10:59:44.846196Z",
     "iopub.status.busy": "2022-09-14T10:59:44.845988Z",
     "iopub.status.idle": "2022-09-14T10:59:44.865726Z",
     "shell.execute_reply": "2022-09-14T10:59:44.865178Z"
    },
    "papermill": {
     "duration": 0.042283,
     "end_time": "2022-09-14T10:59:44.867105",
     "exception": false,
     "start_time": "2022-09-14T10:59:44.824822",
     "status": "completed"
    },
    "tags": []
   },
   "outputs": [],
   "source": [
    "parts_ari_df_plot = (\n",
    "    parts_ari_df.stack()\n",
    "    .reset_index()\n",
    "    .rename(columns={\"level_0\": \"k\", \"level_1\": \"idx\", 0: \"ari\"})\n",
    ")"
   ]
  },
  {
   "cell_type": "code",
   "execution_count": 55,
   "id": "b65cbe48",
   "metadata": {
    "execution": {
     "iopub.execute_input": "2022-09-14T10:59:44.909933Z",
     "iopub.status.busy": "2022-09-14T10:59:44.909706Z",
     "iopub.status.idle": "2022-09-14T10:59:44.929589Z",
     "shell.execute_reply": "2022-09-14T10:59:44.929076Z"
    },
    "papermill": {
     "duration": 0.042346,
     "end_time": "2022-09-14T10:59:44.930823",
     "exception": false,
     "start_time": "2022-09-14T10:59:44.888477",
     "status": "completed"
    },
    "tags": []
   },
   "outputs": [
    {
     "data": {
      "text/plain": [
       "k        int64\n",
       "idx      int64\n",
       "ari    float64\n",
       "dtype: object"
      ]
     },
     "execution_count": 55,
     "metadata": {},
     "output_type": "execute_result"
    }
   ],
   "source": [
    "parts_ari_df_plot.dtypes"
   ]
  },
  {
   "cell_type": "code",
   "execution_count": 56,
   "id": "fe79fb67",
   "metadata": {
    "execution": {
     "iopub.execute_input": "2022-09-14T10:59:44.973461Z",
     "iopub.status.busy": "2022-09-14T10:59:44.973254Z",
     "iopub.status.idle": "2022-09-14T10:59:44.994586Z",
     "shell.execute_reply": "2022-09-14T10:59:44.993972Z"
    },
    "papermill": {
     "duration": 0.04347,
     "end_time": "2022-09-14T10:59:44.995889",
     "exception": false,
     "start_time": "2022-09-14T10:59:44.952419",
     "status": "completed"
    },
    "tags": []
   },
   "outputs": [
    {
     "data": {
      "text/html": [
       "<div>\n",
       "<style scoped>\n",
       "    .dataframe tbody tr th:only-of-type {\n",
       "        vertical-align: middle;\n",
       "    }\n",
       "\n",
       "    .dataframe tbody tr th {\n",
       "        vertical-align: top;\n",
       "    }\n",
       "\n",
       "    .dataframe thead th {\n",
       "        text-align: right;\n",
       "    }\n",
       "</style>\n",
       "<table border=\"1\" class=\"dataframe\">\n",
       "  <thead>\n",
       "    <tr style=\"text-align: right;\">\n",
       "      <th></th>\n",
       "      <th>k</th>\n",
       "      <th>idx</th>\n",
       "      <th>ari</th>\n",
       "    </tr>\n",
       "  </thead>\n",
       "  <tbody>\n",
       "    <tr>\n",
       "      <th>0</th>\n",
       "      <td>2</td>\n",
       "      <td>0</td>\n",
       "      <td>1.0</td>\n",
       "    </tr>\n",
       "    <tr>\n",
       "      <th>1</th>\n",
       "      <td>2</td>\n",
       "      <td>1</td>\n",
       "      <td>1.0</td>\n",
       "    </tr>\n",
       "    <tr>\n",
       "      <th>2</th>\n",
       "      <td>2</td>\n",
       "      <td>2</td>\n",
       "      <td>1.0</td>\n",
       "    </tr>\n",
       "    <tr>\n",
       "      <th>3</th>\n",
       "      <td>2</td>\n",
       "      <td>3</td>\n",
       "      <td>1.0</td>\n",
       "    </tr>\n",
       "    <tr>\n",
       "      <th>4</th>\n",
       "      <td>2</td>\n",
       "      <td>4</td>\n",
       "      <td>1.0</td>\n",
       "    </tr>\n",
       "  </tbody>\n",
       "</table>\n",
       "</div>"
      ],
      "text/plain": [
       "   k  idx  ari\n",
       "0  2    0  1.0\n",
       "1  2    1  1.0\n",
       "2  2    2  1.0\n",
       "3  2    3  1.0\n",
       "4  2    4  1.0"
      ]
     },
     "execution_count": 56,
     "metadata": {},
     "output_type": "execute_result"
    }
   ],
   "source": [
    "parts_ari_df_plot.head()"
   ]
  },
  {
   "cell_type": "code",
   "execution_count": 57,
   "id": "8221e03b",
   "metadata": {
    "execution": {
     "iopub.execute_input": "2022-09-14T10:59:45.040316Z",
     "iopub.status.busy": "2022-09-14T10:59:45.040092Z",
     "iopub.status.idle": "2022-09-14T10:59:47.921879Z",
     "shell.execute_reply": "2022-09-14T10:59:47.921231Z"
    },
    "papermill": {
     "duration": 2.904861,
     "end_time": "2022-09-14T10:59:47.923344",
     "exception": false,
     "start_time": "2022-09-14T10:59:45.018483",
     "status": "completed"
    },
    "tags": []
   },
   "outputs": [
    {
     "data": {
      "image/png": "[encoded data removed]",
      "text/plain": [
       "<Figure size 1008x432 with 1 Axes>"
      ]
     },
     "metadata": {},
     "output_type": "display_data"
    }
   ],
   "source": [
    "# with sns.axes_style('whitegrid', {'grid.linestyle': '--'}):\n",
    "with sns.plotting_context(\"talk\", font_scale=0.75), sns.axes_style(\n",
    "    \"whitegrid\", {\"grid.linestyle\": \"--\"}\n",
    "):\n",
    "    fig = plt.figure(figsize=(14, 6))\n",
    "    ax = sns.pointplot(data=parts_ari_df_plot, x=\"k\", y=\"ari\")\n",
    "    ax.set_ylabel(\"Averange ARI\")\n",
    "    ax.set_xlabel(\"Number of clusters ($k$)\")\n",
    "    ax.set_xticklabels(ax.get_xticklabels(), rotation=45)\n",
    "    #     ax.set_ylim(0.0, 1.0)\n",
    "    #     ax.set_xlim(CLUSTERING_OPTIONS['K_MIN'], CLUSTERING_OPTIONS['K_MAX'])\n",
    "    plt.grid(True)\n",
    "    plt.tight_layout()"
   ]
  },
  {
   "cell_type": "code",
   "execution_count": null,
   "id": "9d303339",
   "metadata": {
    "papermill": {
     "duration": 0.02135,
     "end_time": "2022-09-14T10:59:47.966770",
     "exception": false,
     "start_time": "2022-09-14T10:59:47.945420",
     "status": "completed"
    },
    "tags": []
   },
   "outputs": [],
   "source": []
  }
 ],
 "metadata": {
  "jupytext": {
   "cell_metadata_filter": "all,-execution,-papermill,-trusted",
   "formats": "ipynb,py//py:percent"
  },
  "kernelspec": {
   "display_name": "Python 3 (ipykernel)",
   "language": "python",
   "name": "python3"
  },
  "language_info": {
   "codemirror_mode": {
    "name": "ipython",
    "version": 3
   },
   "file_extension": ".py",
   "mimetype": "text/x-python",
   "name": "python",
   "nbconvert_exporter": "python",
   "pygments_lexer": "ipython3",
   "version": "3.8.13"
  },
  "papermill": {
   "default_parameters": {},
   "duration": 3010.231343,
   "end_time": "2022-09-14T10:59:48.313189",
   "environment_variables": {},
   "exception": null,
   "input_path": "nbs/13.1_cluster_analysis_null/14_02-gmm-umap.ipynb",
   "output_path": "nbs/13.1_cluster_analysis_null/14_02-gmm-umap.run.ipynb",
   "parameters": {},
   "start_time": "2022-09-14T10:09:38.081846",
   "version": "2.2.2"
  },
  "toc-autonumbering": true,
  "toc-showcode": false,
  "toc-showmarkdowntxt": false,
  "toc-showtags": false
 },
 "nbformat": 4,
 "nbformat_minor": 5
}
