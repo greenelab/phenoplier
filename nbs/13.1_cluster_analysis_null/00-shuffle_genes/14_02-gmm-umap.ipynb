{
 "cells": [
  {
   "cell_type": "markdown",
   "id": "f8d8dc7d",
   "metadata": {
    "papermill": {
     "duration": 0.013549,
     "end_time": "2022-11-26T13:58:36.665244",
     "exception": false,
     "start_time": "2022-11-26T13:58:36.651695",
     "status": "completed"
    },
    "tags": []
   },
   "source": [
    "# Description"
   ]
  },
  {
   "cell_type": "markdown",
   "id": "165a1531",
   "metadata": {
    "papermill": {
     "duration": 0.012293,
     "end_time": "2022-11-26T13:58:36.690144",
     "exception": false,
     "start_time": "2022-11-26T13:58:36.677851",
     "status": "completed"
    },
    "tags": []
   },
   "source": [
    "Runs gaussian mixture model on the umap version of the data."
   ]
  },
  {
   "cell_type": "markdown",
   "id": "8ccb6232",
   "metadata": {
    "papermill": {
     "duration": 0.012576,
     "end_time": "2022-11-26T13:58:36.715673",
     "exception": false,
     "start_time": "2022-11-26T13:58:36.703097",
     "status": "completed"
    },
    "tags": []
   },
   "source": [
    "# Environment variables"
   ]
  },
  {
   "cell_type": "code",
   "execution_count": 1,
   "id": "2f07b8ce",
   "metadata": {
    "execution": {
     "iopub.execute_input": "2022-11-26T13:58:36.739298Z",
     "iopub.status.busy": "2022-11-26T13:58:36.739119Z",
     "iopub.status.idle": "2022-11-26T13:58:36.749921Z",
     "shell.execute_reply": "2022-11-26T13:58:36.749516Z"
    },
    "papermill": {
     "duration": 0.022588,
     "end_time": "2022-11-26T13:58:36.750766",
     "exception": false,
     "start_time": "2022-11-26T13:58:36.728178",
     "status": "completed"
    },
    "tags": []
   },
   "outputs": [
    {
     "data": {
      "text/plain": [
       "10"
      ]
     },
     "metadata": {},
     "output_type": "display_data"
    }
   ],
   "source": [
    "from IPython.display import display\n",
    "\n",
    "import conf\n",
    "\n",
    "N_JOBS = conf.GENERAL[\"N_JOBS\"]\n",
    "display(N_JOBS)"
   ]
  },
  {
   "cell_type": "code",
   "execution_count": 2,
   "id": "b0e90b22",
   "metadata": {
    "execution": {
     "iopub.execute_input": "2022-11-26T13:58:36.764229Z",
     "iopub.status.busy": "2022-11-26T13:58:36.763947Z",
     "iopub.status.idle": "2022-11-26T13:58:36.768145Z",
     "shell.execute_reply": "2022-11-26T13:58:36.767781Z"
    },
    "papermill": {
     "duration": 0.011761,
     "end_time": "2022-11-26T13:58:36.768927",
     "exception": false,
     "start_time": "2022-11-26T13:58:36.757166",
     "status": "completed"
    },
    "tags": []
   },
   "outputs": [
    {
     "name": "stdout",
     "output_type": "stream",
     "text": [
      "env: MKL_NUM_THREADS=10\n",
      "env: OPEN_BLAS_NUM_THREADS=10\n",
      "env: NUMEXPR_NUM_THREADS=10\n",
      "env: OMP_NUM_THREADS=10\n"
     ]
    }
   ],
   "source": [
    "%env MKL_NUM_THREADS=$N_JOBS\n",
    "%env OPEN_BLAS_NUM_THREADS=$N_JOBS\n",
    "%env NUMEXPR_NUM_THREADS=$N_JOBS\n",
    "%env OMP_NUM_THREADS=$N_JOBS"
   ]
  },
  {
   "cell_type": "markdown",
   "id": "50c90694",
   "metadata": {
    "papermill": {
     "duration": 0.006587,
     "end_time": "2022-11-26T13:58:36.782060",
     "exception": false,
     "start_time": "2022-11-26T13:58:36.775473",
     "status": "completed"
    },
    "tags": []
   },
   "source": [
    "# Modules loading"
   ]
  },
  {
   "cell_type": "code",
   "execution_count": 3,
   "id": "9c7f9159",
   "metadata": {
    "execution": {
     "iopub.execute_input": "2022-11-26T13:58:36.795561Z",
     "iopub.status.busy": "2022-11-26T13:58:36.795274Z",
     "iopub.status.idle": "2022-11-26T13:58:36.803414Z",
     "shell.execute_reply": "2022-11-26T13:58:36.803084Z"
    },
    "papermill": {
     "duration": 0.015755,
     "end_time": "2022-11-26T13:58:36.804178",
     "exception": false,
     "start_time": "2022-11-26T13:58:36.788423",
     "status": "completed"
    },
    "tags": []
   },
   "outputs": [],
   "source": [
    "%load_ext autoreload\n",
    "%autoreload 2"
   ]
  },
  {
   "cell_type": "code",
   "execution_count": 4,
   "id": "ac743c8e",
   "metadata": {
    "execution": {
     "iopub.execute_input": "2022-11-26T13:58:36.817519Z",
     "iopub.status.busy": "2022-11-26T13:58:36.817432Z",
     "iopub.status.idle": "2022-11-26T13:58:37.258944Z",
     "shell.execute_reply": "2022-11-26T13:58:37.258528Z"
    },
    "papermill": {
     "duration": 0.449543,
     "end_time": "2022-11-26T13:58:37.260357",
     "exception": false,
     "start_time": "2022-11-26T13:58:36.810814",
     "status": "completed"
    },
    "tags": []
   },
   "outputs": [],
   "source": [
    "from pathlib import Path\n",
    "\n",
    "import numpy as np\n",
    "import pandas as pd\n",
    "import matplotlib.pyplot as plt\n",
    "import seaborn as sns\n",
    "\n",
    "from utils import generate_result_set_name"
   ]
  },
  {
   "cell_type": "markdown",
   "id": "7d5a2193",
   "metadata": {
    "papermill": {
     "duration": 0.012304,
     "end_time": "2022-11-26T13:58:37.285341",
     "exception": false,
     "start_time": "2022-11-26T13:58:37.273037",
     "status": "completed"
    },
    "tags": []
   },
   "source": [
    "# Settings"
   ]
  },
  {
   "cell_type": "code",
   "execution_count": 5,
   "id": "d4b2dcdb",
   "metadata": {
    "execution": {
     "iopub.execute_input": "2022-11-26T13:58:37.311247Z",
     "iopub.status.busy": "2022-11-26T13:58:37.311138Z",
     "iopub.status.idle": "2022-11-26T13:58:37.322401Z",
     "shell.execute_reply": "2022-11-26T13:58:37.322048Z"
    },
    "papermill": {
     "duration": 0.02546,
     "end_time": "2022-11-26T13:58:37.323643",
     "exception": false,
     "start_time": "2022-11-26T13:58:37.298183",
     "status": "completed"
    },
    "tags": []
   },
   "outputs": [],
   "source": [
    "np.random.seed(0)"
   ]
  },
  {
   "cell_type": "code",
   "execution_count": 6,
   "id": "247617a0",
   "metadata": {
    "execution": {
     "iopub.execute_input": "2022-11-26T13:58:37.373504Z",
     "iopub.status.busy": "2022-11-26T13:58:37.373345Z",
     "iopub.status.idle": "2022-11-26T13:58:37.383691Z",
     "shell.execute_reply": "2022-11-26T13:58:37.383322Z"
    },
    "papermill": {
     "duration": 0.020365,
     "end_time": "2022-11-26T13:58:37.384453",
     "exception": false,
     "start_time": "2022-11-26T13:58:37.364088",
     "status": "completed"
    },
    "tags": []
   },
   "outputs": [],
   "source": [
    "INITIAL_RANDOM_STATE = 80000"
   ]
  },
  {
   "cell_type": "code",
   "execution_count": 7,
   "id": "382af8c5-681a-4716-b432-fb7781b7ca9f",
   "metadata": {
    "execution": {
     "iopub.execute_input": "2022-11-26T13:58:37.397753Z",
     "iopub.status.busy": "2022-11-26T13:58:37.397669Z",
     "iopub.status.idle": "2022-11-26T13:58:37.414149Z",
     "shell.execute_reply": "2022-11-26T13:58:37.413703Z"
    },
    "papermill": {
     "duration": 0.02412,
     "end_time": "2022-11-26T13:58:37.414996",
     "exception": false,
     "start_time": "2022-11-26T13:58:37.390876",
     "status": "completed"
    },
    "tags": []
   },
   "outputs": [],
   "source": [
    "NULL_DIR = conf.RESULTS[\"CLUSTERING_NULL_DIR\"] / \"shuffle_genes\""
   ]
  },
  {
   "cell_type": "markdown",
   "id": "b366f01b",
   "metadata": {
    "papermill": {
     "duration": 0.00662,
     "end_time": "2022-11-26T13:58:37.428111",
     "exception": false,
     "start_time": "2022-11-26T13:58:37.421491",
     "status": "completed"
    },
    "tags": []
   },
   "source": [
    "## Input data"
   ]
  },
  {
   "cell_type": "code",
   "execution_count": 8,
   "id": "336323cb",
   "metadata": {
    "execution": {
     "iopub.execute_input": "2022-11-26T13:58:37.441731Z",
     "iopub.status.busy": "2022-11-26T13:58:37.441409Z",
     "iopub.status.idle": "2022-11-26T13:58:37.458645Z",
     "shell.execute_reply": "2022-11-26T13:58:37.458188Z"
    },
    "papermill": {
     "duration": 0.025076,
     "end_time": "2022-11-26T13:58:37.459615",
     "exception": false,
     "start_time": "2022-11-26T13:58:37.434539",
     "status": "completed"
    },
    "tags": []
   },
   "outputs": [],
   "source": [
    "INPUT_SUBSET = \"umap\""
   ]
  },
  {
   "cell_type": "code",
   "execution_count": 9,
   "id": "ef1f9044",
   "metadata": {
    "execution": {
     "iopub.execute_input": "2022-11-26T13:58:37.473302Z",
     "iopub.status.busy": "2022-11-26T13:58:37.473151Z",
     "iopub.status.idle": "2022-11-26T13:58:37.490718Z",
     "shell.execute_reply": "2022-11-26T13:58:37.490231Z"
    },
    "papermill": {
     "duration": 0.025356,
     "end_time": "2022-11-26T13:58:37.491668",
     "exception": false,
     "start_time": "2022-11-26T13:58:37.466312",
     "status": "completed"
    },
    "tags": []
   },
   "outputs": [],
   "source": [
    "INPUT_STEM = \"z_score_std-projection-smultixcan-efo_partial-mashr-zscores\""
   ]
  },
  {
   "cell_type": "code",
   "execution_count": 10,
   "id": "cd37efc2",
   "metadata": {
    "execution": {
     "iopub.execute_input": "2022-11-26T13:58:37.505253Z",
     "iopub.status.busy": "2022-11-26T13:58:37.504909Z",
     "iopub.status.idle": "2022-11-26T13:58:37.522637Z",
     "shell.execute_reply": "2022-11-26T13:58:37.522198Z"
    },
    "papermill": {
     "duration": 0.025523,
     "end_time": "2022-11-26T13:58:37.523583",
     "exception": false,
     "start_time": "2022-11-26T13:58:37.498060",
     "status": "completed"
    },
    "tags": []
   },
   "outputs": [],
   "source": [
    "DR_OPTIONS = {\n",
    "    \"n_components\": 50,\n",
    "    \"metric\": \"euclidean\",\n",
    "    \"n_neighbors\": 15,\n",
    "    \"random_state\": 0,\n",
    "}"
   ]
  },
  {
   "cell_type": "code",
   "execution_count": 11,
   "id": "dd942eae",
   "metadata": {
    "execution": {
     "iopub.execute_input": "2022-11-26T13:58:37.537380Z",
     "iopub.status.busy": "2022-11-26T13:58:37.537058Z",
     "iopub.status.idle": "2022-11-26T13:58:37.557600Z",
     "shell.execute_reply": "2022-11-26T13:58:37.557164Z"
    },
    "papermill": {
     "duration": 0.02822,
     "end_time": "2022-11-26T13:58:37.558426",
     "exception": false,
     "start_time": "2022-11-26T13:58:37.530206",
     "status": "completed"
    },
    "tags": []
   },
   "outputs": [
    {
     "data": {
      "text/plain": [
       "PosixPath('/opt/data/results/clustering/null_sims/shuffle_genes/data_transformations/umap/umap-z_score_std-projection-smultixcan-efo_partial-mashr-zscores-metric_euclidean-n_components_50-n_neighbors_15-random_state_0.pkl')"
      ]
     },
     "metadata": {},
     "output_type": "display_data"
    },
    {
     "data": {
      "text/plain": [
       "'umap-z_score_std-projection-smultixcan-efo_partial-mashr-zscores-metric_euclidean-n_components_50-n_neighbors_15-random_state_0'"
      ]
     },
     "metadata": {},
     "output_type": "display_data"
    }
   ],
   "source": [
    "input_filepath = Path(\n",
    "    NULL_DIR,\n",
    "    \"data_transformations\",\n",
    "    INPUT_SUBSET,\n",
    "    generate_result_set_name(\n",
    "        DR_OPTIONS, prefix=f\"{INPUT_SUBSET}-{INPUT_STEM}-\", suffix=\".pkl\"\n",
    "    ),\n",
    ").resolve()\n",
    "display(input_filepath)\n",
    "\n",
    "assert input_filepath.exists(), \"Input file does not exist\"\n",
    "\n",
    "input_filepath_stem = input_filepath.stem\n",
    "display(input_filepath_stem)"
   ]
  },
  {
   "cell_type": "markdown",
   "id": "44054e0b",
   "metadata": {
    "papermill": {
     "duration": 0.0065,
     "end_time": "2022-11-26T13:58:37.571455",
     "exception": false,
     "start_time": "2022-11-26T13:58:37.564955",
     "status": "completed"
    },
    "tags": []
   },
   "source": [
    "## Clustering"
   ]
  },
  {
   "cell_type": "code",
   "execution_count": 12,
   "id": "b41607ca",
   "metadata": {
    "execution": {
     "iopub.execute_input": "2022-11-26T13:58:37.585058Z",
     "iopub.status.busy": "2022-11-26T13:58:37.584904Z",
     "iopub.status.idle": "2022-11-26T13:58:37.672723Z",
     "shell.execute_reply": "2022-11-26T13:58:37.672310Z"
    },
    "papermill": {
     "duration": 0.095656,
     "end_time": "2022-11-26T13:58:37.673577",
     "exception": false,
     "start_time": "2022-11-26T13:58:37.577921",
     "status": "completed"
    },
    "tags": []
   },
   "outputs": [],
   "source": [
    "from sklearn.mixture import GaussianMixture"
   ]
  },
  {
   "cell_type": "code",
   "execution_count": 13,
   "id": "1dbc8573",
   "metadata": {
    "execution": {
     "iopub.execute_input": "2022-11-26T13:58:37.687446Z",
     "iopub.status.busy": "2022-11-26T13:58:37.687277Z",
     "iopub.status.idle": "2022-11-26T13:58:37.699690Z",
     "shell.execute_reply": "2022-11-26T13:58:37.699358Z"
    },
    "papermill": {
     "duration": 0.020205,
     "end_time": "2022-11-26T13:58:37.700575",
     "exception": false,
     "start_time": "2022-11-26T13:58:37.680370",
     "status": "completed"
    },
    "tags": []
   },
   "outputs": [],
   "source": [
    "CLUSTERING_ATTRIBUTES_TO_SAVE = [\"n_clusters\"]"
   ]
  },
  {
   "cell_type": "code",
   "execution_count": 14,
   "id": "c37726d0",
   "metadata": {
    "execution": {
     "iopub.execute_input": "2022-11-26T13:58:37.714034Z",
     "iopub.status.busy": "2022-11-26T13:58:37.713949Z",
     "iopub.status.idle": "2022-11-26T13:58:37.726150Z",
     "shell.execute_reply": "2022-11-26T13:58:37.725791Z"
    },
    "papermill": {
     "duration": 0.019731,
     "end_time": "2022-11-26T13:58:37.726918",
     "exception": false,
     "start_time": "2022-11-26T13:58:37.707187",
     "status": "completed"
    },
    "tags": []
   },
   "outputs": [
    {
     "data": {
      "text/plain": [
       "{'K_MIN': 2,\n",
       " 'K_MAX': 60,\n",
       " 'N_REPS_PER_K': 5,\n",
       " 'N_INIT': 10,\n",
       " 'COVARIANCE_TYPE': 'full'}"
      ]
     },
     "metadata": {},
     "output_type": "display_data"
    }
   ],
   "source": [
    "CLUSTERING_OPTIONS = {}\n",
    "\n",
    "CLUSTERING_OPTIONS[\"K_MIN\"] = 2\n",
    "CLUSTERING_OPTIONS[\"K_MAX\"] = 60  # sqrt(3749)\n",
    "CLUSTERING_OPTIONS[\"N_REPS_PER_K\"] = 5\n",
    "CLUSTERING_OPTIONS[\"N_INIT\"] = 10\n",
    "CLUSTERING_OPTIONS[\"COVARIANCE_TYPE\"] = \"full\"\n",
    "\n",
    "display(CLUSTERING_OPTIONS)"
   ]
  },
  {
   "cell_type": "code",
   "execution_count": 15,
   "id": "6554dcb5",
   "metadata": {
    "execution": {
     "iopub.execute_input": "2022-11-26T13:58:37.741014Z",
     "iopub.status.busy": "2022-11-26T13:58:37.740577Z",
     "iopub.status.idle": "2022-11-26T13:58:37.757358Z",
     "shell.execute_reply": "2022-11-26T13:58:37.756984Z"
    },
    "papermill": {
     "duration": 0.024499,
     "end_time": "2022-11-26T13:58:37.758168",
     "exception": false,
     "start_time": "2022-11-26T13:58:37.733669",
     "status": "completed"
    },
    "tags": []
   },
   "outputs": [],
   "source": [
    "CLUSTERERS = {}\n",
    "\n",
    "idx = 0\n",
    "random_state = INITIAL_RANDOM_STATE\n",
    "\n",
    "for k in range(CLUSTERING_OPTIONS[\"K_MIN\"], CLUSTERING_OPTIONS[\"K_MAX\"] + 1):\n",
    "    for i in range(CLUSTERING_OPTIONS[\"N_REPS_PER_K\"]):\n",
    "        clus = GaussianMixture(\n",
    "            n_components=k,\n",
    "            n_init=CLUSTERING_OPTIONS[\"N_INIT\"],\n",
    "            covariance_type=CLUSTERING_OPTIONS[\"COVARIANCE_TYPE\"],\n",
    "            random_state=random_state,\n",
    "        )\n",
    "\n",
    "        method_name = type(clus).__name__\n",
    "        CLUSTERERS[f\"{method_name} #{idx}\"] = clus\n",
    "\n",
    "        random_state = random_state + 1\n",
    "        idx = idx + 1"
   ]
  },
  {
   "cell_type": "code",
   "execution_count": 16,
   "id": "f1fd2292",
   "metadata": {
    "execution": {
     "iopub.execute_input": "2022-11-26T13:58:37.772092Z",
     "iopub.status.busy": "2022-11-26T13:58:37.771702Z",
     "iopub.status.idle": "2022-11-26T13:58:37.791060Z",
     "shell.execute_reply": "2022-11-26T13:58:37.790662Z"
    },
    "papermill": {
     "duration": 0.027152,
     "end_time": "2022-11-26T13:58:37.791846",
     "exception": false,
     "start_time": "2022-11-26T13:58:37.764694",
     "status": "completed"
    },
    "tags": []
   },
   "outputs": [
    {
     "data": {
      "text/plain": [
       "295"
      ]
     },
     "metadata": {},
     "output_type": "display_data"
    }
   ],
   "source": [
    "display(len(CLUSTERERS))"
   ]
  },
  {
   "cell_type": "code",
   "execution_count": 17,
   "id": "41e8f0e1",
   "metadata": {
    "execution": {
     "iopub.execute_input": "2022-11-26T13:58:37.805941Z",
     "iopub.status.busy": "2022-11-26T13:58:37.805532Z",
     "iopub.status.idle": "2022-11-26T13:58:37.828329Z",
     "shell.execute_reply": "2022-11-26T13:58:37.827892Z"
    },
    "papermill": {
     "duration": 0.030687,
     "end_time": "2022-11-26T13:58:37.829149",
     "exception": false,
     "start_time": "2022-11-26T13:58:37.798462",
     "status": "completed"
    },
    "tags": []
   },
   "outputs": [
    {
     "data": {
      "text/plain": [
       "('GaussianMixture #0',\n",
       " GaussianMixture(n_components=2, n_init=10, random_state=80000))"
      ]
     },
     "metadata": {},
     "output_type": "display_data"
    },
    {
     "data": {
      "text/plain": [
       "('GaussianMixture #1',\n",
       " GaussianMixture(n_components=2, n_init=10, random_state=80001))"
      ]
     },
     "metadata": {},
     "output_type": "display_data"
    }
   ],
   "source": [
    "_iter = iter(CLUSTERERS.items())\n",
    "display(next(_iter))\n",
    "display(next(_iter))"
   ]
  },
  {
   "cell_type": "code",
   "execution_count": 18,
   "id": "0e51a2c9",
   "metadata": {
    "execution": {
     "iopub.execute_input": "2022-11-26T13:58:37.843632Z",
     "iopub.status.busy": "2022-11-26T13:58:37.843266Z",
     "iopub.status.idle": "2022-11-26T13:58:37.863299Z",
     "shell.execute_reply": "2022-11-26T13:58:37.862899Z"
    },
    "papermill": {
     "duration": 0.028012,
     "end_time": "2022-11-26T13:58:37.864090",
     "exception": false,
     "start_time": "2022-11-26T13:58:37.836078",
     "status": "completed"
    },
    "tags": []
   },
   "outputs": [
    {
     "data": {
      "text/plain": [
       "'GaussianMixture'"
      ]
     },
     "metadata": {},
     "output_type": "display_data"
    }
   ],
   "source": [
    "clustering_method_name = method_name\n",
    "display(clustering_method_name)"
   ]
  },
  {
   "cell_type": "markdown",
   "id": "8fd89c0d",
   "metadata": {
    "papermill": {
     "duration": 0.006752,
     "end_time": "2022-11-26T13:58:37.877614",
     "exception": false,
     "start_time": "2022-11-26T13:58:37.870862",
     "status": "completed"
    },
    "tags": []
   },
   "source": [
    "## Output directory"
   ]
  },
  {
   "cell_type": "code",
   "execution_count": 19,
   "id": "a073be42",
   "metadata": {
    "execution": {
     "iopub.execute_input": "2022-11-26T13:58:37.891891Z",
     "iopub.status.busy": "2022-11-26T13:58:37.891568Z",
     "iopub.status.idle": "2022-11-26T13:58:37.912418Z",
     "shell.execute_reply": "2022-11-26T13:58:37.911976Z"
    },
    "papermill": {
     "duration": 0.028904,
     "end_time": "2022-11-26T13:58:37.913227",
     "exception": false,
     "start_time": "2022-11-26T13:58:37.884323",
     "status": "completed"
    },
    "tags": []
   },
   "outputs": [
    {
     "data": {
      "text/plain": [
       "PosixPath('/opt/data/results/clustering/null_sims/shuffle_genes/runs/umap-z_score_std-projection-smultixcan-efo_partial-mashr-zscores')"
      ]
     },
     "metadata": {},
     "output_type": "display_data"
    }
   ],
   "source": [
    "# output dir for this notebook\n",
    "RESULTS_DIR = Path(\n",
    "    NULL_DIR,\n",
    "    \"runs\",\n",
    "    f\"{INPUT_SUBSET}-{INPUT_STEM}\",\n",
    ").resolve()\n",
    "RESULTS_DIR.mkdir(parents=True, exist_ok=True)\n",
    "\n",
    "display(RESULTS_DIR)"
   ]
  },
  {
   "cell_type": "markdown",
   "id": "12437872",
   "metadata": {
    "papermill": {
     "duration": 0.006671,
     "end_time": "2022-11-26T13:58:37.926857",
     "exception": false,
     "start_time": "2022-11-26T13:58:37.920186",
     "status": "completed"
    },
    "tags": []
   },
   "source": [
    "# Load input file"
   ]
  },
  {
   "cell_type": "code",
   "execution_count": 20,
   "id": "75e511b2",
   "metadata": {
    "execution": {
     "iopub.execute_input": "2022-11-26T13:58:37.941251Z",
     "iopub.status.busy": "2022-11-26T13:58:37.940929Z",
     "iopub.status.idle": "2022-11-26T13:58:37.962816Z",
     "shell.execute_reply": "2022-11-26T13:58:37.962339Z"
    },
    "papermill": {
     "duration": 0.029997,
     "end_time": "2022-11-26T13:58:37.963627",
     "exception": false,
     "start_time": "2022-11-26T13:58:37.933630",
     "status": "completed"
    },
    "tags": []
   },
   "outputs": [],
   "source": [
    "data = pd.read_pickle(input_filepath)"
   ]
  },
  {
   "cell_type": "code",
   "execution_count": 21,
   "id": "3e20d8ef",
   "metadata": {
    "execution": {
     "iopub.execute_input": "2022-11-26T13:58:37.978094Z",
     "iopub.status.busy": "2022-11-26T13:58:37.977787Z",
     "iopub.status.idle": "2022-11-26T13:58:37.998600Z",
     "shell.execute_reply": "2022-11-26T13:58:37.998100Z"
    },
    "papermill": {
     "duration": 0.02889,
     "end_time": "2022-11-26T13:58:37.999398",
     "exception": false,
     "start_time": "2022-11-26T13:58:37.970508",
     "status": "completed"
    },
    "tags": []
   },
   "outputs": [
    {
     "data": {
      "text/plain": [
       "(3752, 50)"
      ]
     },
     "execution_count": 21,
     "metadata": {},
     "output_type": "execute_result"
    }
   ],
   "source": [
    "data.shape"
   ]
  },
  {
   "cell_type": "code",
   "execution_count": 22,
   "id": "1c9da2db",
   "metadata": {
    "execution": {
     "iopub.execute_input": "2022-11-26T13:58:38.014256Z",
     "iopub.status.busy": "2022-11-26T13:58:38.013899Z",
     "iopub.status.idle": "2022-11-26T13:58:38.051319Z",
     "shell.execute_reply": "2022-11-26T13:58:38.050868Z"
    },
    "papermill": {
     "duration": 0.045833,
     "end_time": "2022-11-26T13:58:38.052145",
     "exception": false,
     "start_time": "2022-11-26T13:58:38.006312",
     "status": "completed"
    },
    "tags": []
   },
   "outputs": [
    {
     "data": {
      "text/html": [
       "<div>\n",
       "<style scoped>\n",
       "    .dataframe tbody tr th:only-of-type {\n",
       "        vertical-align: middle;\n",
       "    }\n",
       "\n",
       "    .dataframe tbody tr th {\n",
       "        vertical-align: top;\n",
       "    }\n",
       "\n",
       "    .dataframe thead th {\n",
       "        text-align: right;\n",
       "    }\n",
       "</style>\n",
       "<table border=\"1\" class=\"dataframe\">\n",
       "  <thead>\n",
       "    <tr style=\"text-align: right;\">\n",
       "      <th></th>\n",
       "      <th>UMAP1</th>\n",
       "      <th>UMAP2</th>\n",
       "      <th>UMAP3</th>\n",
       "      <th>UMAP4</th>\n",
       "      <th>UMAP5</th>\n",
       "      <th>UMAP6</th>\n",
       "      <th>UMAP7</th>\n",
       "      <th>UMAP8</th>\n",
       "      <th>UMAP9</th>\n",
       "      <th>UMAP10</th>\n",
       "      <th>...</th>\n",
       "      <th>UMAP41</th>\n",
       "      <th>UMAP42</th>\n",
       "      <th>UMAP43</th>\n",
       "      <th>UMAP44</th>\n",
       "      <th>UMAP45</th>\n",
       "      <th>UMAP46</th>\n",
       "      <th>UMAP47</th>\n",
       "      <th>UMAP48</th>\n",
       "      <th>UMAP49</th>\n",
       "      <th>UMAP50</th>\n",
       "    </tr>\n",
       "  </thead>\n",
       "  <tbody>\n",
       "    <tr>\n",
       "      <th>100001_raw-Food_weight</th>\n",
       "      <td>3.507164</td>\n",
       "      <td>4.783988</td>\n",
       "      <td>2.721716</td>\n",
       "      <td>5.306452</td>\n",
       "      <td>3.881773</td>\n",
       "      <td>3.321169</td>\n",
       "      <td>4.960411</td>\n",
       "      <td>5.549141</td>\n",
       "      <td>4.841390</td>\n",
       "      <td>3.194715</td>\n",
       "      <td>...</td>\n",
       "      <td>9.187434</td>\n",
       "      <td>2.469095</td>\n",
       "      <td>1.234505</td>\n",
       "      <td>9.594598</td>\n",
       "      <td>0.333957</td>\n",
       "      <td>8.039461</td>\n",
       "      <td>5.482632</td>\n",
       "      <td>4.958725</td>\n",
       "      <td>2.801697</td>\n",
       "      <td>5.658304</td>\n",
       "    </tr>\n",
       "    <tr>\n",
       "      <th>100002_raw-Energy</th>\n",
       "      <td>3.606311</td>\n",
       "      <td>4.727725</td>\n",
       "      <td>2.704979</td>\n",
       "      <td>5.271563</td>\n",
       "      <td>3.724591</td>\n",
       "      <td>3.337485</td>\n",
       "      <td>4.781901</td>\n",
       "      <td>5.599291</td>\n",
       "      <td>4.791382</td>\n",
       "      <td>3.003243</td>\n",
       "      <td>...</td>\n",
       "      <td>9.121886</td>\n",
       "      <td>2.506307</td>\n",
       "      <td>1.227272</td>\n",
       "      <td>9.574743</td>\n",
       "      <td>0.344036</td>\n",
       "      <td>8.037237</td>\n",
       "      <td>5.477282</td>\n",
       "      <td>4.900286</td>\n",
       "      <td>2.729573</td>\n",
       "      <td>5.601664</td>\n",
       "    </tr>\n",
       "    <tr>\n",
       "      <th>100003_raw-Protein</th>\n",
       "      <td>3.594661</td>\n",
       "      <td>4.729409</td>\n",
       "      <td>2.682754</td>\n",
       "      <td>5.218021</td>\n",
       "      <td>3.652642</td>\n",
       "      <td>3.325793</td>\n",
       "      <td>4.771183</td>\n",
       "      <td>5.580573</td>\n",
       "      <td>4.820001</td>\n",
       "      <td>3.022622</td>\n",
       "      <td>...</td>\n",
       "      <td>9.097627</td>\n",
       "      <td>2.484138</td>\n",
       "      <td>1.221946</td>\n",
       "      <td>9.572356</td>\n",
       "      <td>0.339655</td>\n",
       "      <td>8.043584</td>\n",
       "      <td>5.472909</td>\n",
       "      <td>4.895183</td>\n",
       "      <td>2.765254</td>\n",
       "      <td>5.663905</td>\n",
       "    </tr>\n",
       "    <tr>\n",
       "      <th>100004_raw-Fat</th>\n",
       "      <td>3.459632</td>\n",
       "      <td>4.797582</td>\n",
       "      <td>2.755155</td>\n",
       "      <td>5.230875</td>\n",
       "      <td>3.784350</td>\n",
       "      <td>3.366962</td>\n",
       "      <td>4.942765</td>\n",
       "      <td>5.604582</td>\n",
       "      <td>4.731943</td>\n",
       "      <td>3.045358</td>\n",
       "      <td>...</td>\n",
       "      <td>9.124997</td>\n",
       "      <td>2.587374</td>\n",
       "      <td>1.199794</td>\n",
       "      <td>9.633430</td>\n",
       "      <td>0.286029</td>\n",
       "      <td>8.071218</td>\n",
       "      <td>5.476699</td>\n",
       "      <td>4.869335</td>\n",
       "      <td>2.766068</td>\n",
       "      <td>5.523112</td>\n",
       "    </tr>\n",
       "    <tr>\n",
       "      <th>100005_raw-Carbohydrate</th>\n",
       "      <td>3.436945</td>\n",
       "      <td>4.827942</td>\n",
       "      <td>2.761039</td>\n",
       "      <td>5.268426</td>\n",
       "      <td>4.005526</td>\n",
       "      <td>3.357875</td>\n",
       "      <td>5.036726</td>\n",
       "      <td>5.545567</td>\n",
       "      <td>4.842803</td>\n",
       "      <td>3.282768</td>\n",
       "      <td>...</td>\n",
       "      <td>9.181946</td>\n",
       "      <td>2.513265</td>\n",
       "      <td>1.200227</td>\n",
       "      <td>9.631493</td>\n",
       "      <td>0.349085</td>\n",
       "      <td>8.032649</td>\n",
       "      <td>5.486337</td>\n",
       "      <td>4.947569</td>\n",
       "      <td>2.811798</td>\n",
       "      <td>5.677997</td>\n",
       "    </tr>\n",
       "  </tbody>\n",
       "</table>\n",
       "<p>5 rows × 50 columns</p>\n",
       "</div>"
      ],
      "text/plain": [
       "                            UMAP1     UMAP2     UMAP3     UMAP4     UMAP5  \\\n",
       "100001_raw-Food_weight   3.507164  4.783988  2.721716  5.306452  3.881773   \n",
       "100002_raw-Energy        3.606311  4.727725  2.704979  5.271563  3.724591   \n",
       "100003_raw-Protein       3.594661  4.729409  2.682754  5.218021  3.652642   \n",
       "100004_raw-Fat           3.459632  4.797582  2.755155  5.230875  3.784350   \n",
       "100005_raw-Carbohydrate  3.436945  4.827942  2.761039  5.268426  4.005526   \n",
       "\n",
       "                            UMAP6     UMAP7     UMAP8     UMAP9    UMAP10  \\\n",
       "100001_raw-Food_weight   3.321169  4.960411  5.549141  4.841390  3.194715   \n",
       "100002_raw-Energy        3.337485  4.781901  5.599291  4.791382  3.003243   \n",
       "100003_raw-Protein       3.325793  4.771183  5.580573  4.820001  3.022622   \n",
       "100004_raw-Fat           3.366962  4.942765  5.604582  4.731943  3.045358   \n",
       "100005_raw-Carbohydrate  3.357875  5.036726  5.545567  4.842803  3.282768   \n",
       "\n",
       "                         ...    UMAP41    UMAP42    UMAP43    UMAP44  \\\n",
       "100001_raw-Food_weight   ...  9.187434  2.469095  1.234505  9.594598   \n",
       "100002_raw-Energy        ...  9.121886  2.506307  1.227272  9.574743   \n",
       "100003_raw-Protein       ...  9.097627  2.484138  1.221946  9.572356   \n",
       "100004_raw-Fat           ...  9.124997  2.587374  1.199794  9.633430   \n",
       "100005_raw-Carbohydrate  ...  9.181946  2.513265  1.200227  9.631493   \n",
       "\n",
       "                           UMAP45    UMAP46    UMAP47    UMAP48    UMAP49  \\\n",
       "100001_raw-Food_weight   0.333957  8.039461  5.482632  4.958725  2.801697   \n",
       "100002_raw-Energy        0.344036  8.037237  5.477282  4.900286  2.729573   \n",
       "100003_raw-Protein       0.339655  8.043584  5.472909  4.895183  2.765254   \n",
       "100004_raw-Fat           0.286029  8.071218  5.476699  4.869335  2.766068   \n",
       "100005_raw-Carbohydrate  0.349085  8.032649  5.486337  4.947569  2.811798   \n",
       "\n",
       "                           UMAP50  \n",
       "100001_raw-Food_weight   5.658304  \n",
       "100002_raw-Energy        5.601664  \n",
       "100003_raw-Protein       5.663905  \n",
       "100004_raw-Fat           5.523112  \n",
       "100005_raw-Carbohydrate  5.677997  \n",
       "\n",
       "[5 rows x 50 columns]"
      ]
     },
     "execution_count": 22,
     "metadata": {},
     "output_type": "execute_result"
    }
   ],
   "source": [
    "data.head()"
   ]
  },
  {
   "cell_type": "code",
   "execution_count": 23,
   "id": "cb9ef077",
   "metadata": {
    "execution": {
     "iopub.execute_input": "2022-11-26T13:58:38.067008Z",
     "iopub.status.busy": "2022-11-26T13:58:38.066677Z",
     "iopub.status.idle": "2022-11-26T13:58:38.087523Z",
     "shell.execute_reply": "2022-11-26T13:58:38.087077Z"
    },
    "papermill": {
     "duration": 0.029306,
     "end_time": "2022-11-26T13:58:38.088490",
     "exception": false,
     "start_time": "2022-11-26T13:58:38.059184",
     "status": "completed"
    },
    "tags": []
   },
   "outputs": [],
   "source": [
    "assert not data.isna().any().any()"
   ]
  },
  {
   "cell_type": "markdown",
   "id": "5d241f55",
   "metadata": {
    "papermill": {
     "duration": 0.006858,
     "end_time": "2022-11-26T13:58:38.102669",
     "exception": false,
     "start_time": "2022-11-26T13:58:38.095811",
     "status": "completed"
    },
    "tags": []
   },
   "source": [
    "# Clustering"
   ]
  },
  {
   "cell_type": "markdown",
   "id": "218c37c6",
   "metadata": {
    "papermill": {
     "duration": 0.00701,
     "end_time": "2022-11-26T13:58:38.116646",
     "exception": false,
     "start_time": "2022-11-26T13:58:38.109636",
     "status": "completed"
    },
    "tags": []
   },
   "source": [
    "## Generate ensemble"
   ]
  },
  {
   "cell_type": "code",
   "execution_count": 24,
   "id": "6580ed0f",
   "metadata": {
    "execution": {
     "iopub.execute_input": "2022-11-26T13:58:38.131549Z",
     "iopub.status.busy": "2022-11-26T13:58:38.131208Z",
     "iopub.status.idle": "2022-11-26T13:58:38.156023Z",
     "shell.execute_reply": "2022-11-26T13:58:38.155553Z"
    },
    "papermill": {
     "duration": 0.033231,
     "end_time": "2022-11-26T13:58:38.156846",
     "exception": false,
     "start_time": "2022-11-26T13:58:38.123615",
     "status": "completed"
    },
    "tags": []
   },
   "outputs": [],
   "source": [
    "from clustering.ensembles.utils import generate_ensemble"
   ]
  },
  {
   "cell_type": "code",
   "execution_count": 25,
   "id": "e952262e",
   "metadata": {
    "execution": {
     "iopub.execute_input": "2022-11-26T13:58:38.171603Z",
     "iopub.status.busy": "2022-11-26T13:58:38.171281Z",
     "iopub.status.idle": "2022-11-26T14:48:14.009580Z",
     "shell.execute_reply": "2022-11-26T14:48:14.009278Z"
    },
    "papermill": {
     "duration": 2975.847036,
     "end_time": "2022-11-26T14:48:14.010824",
     "exception": false,
     "start_time": "2022-11-26T13:58:38.163788",
     "status": "completed"
    },
    "tags": []
   },
   "outputs": [
    {
     "name": "stderr",
     "output_type": "stream",
     "text": [
      "100%|██████████| 295/295 [49:35<00:00, 10.09s/it]\n"
     ]
    }
   ],
   "source": [
    "ensemble = generate_ensemble(\n",
    "    data,\n",
    "    CLUSTERERS,\n",
    "    attributes=CLUSTERING_ATTRIBUTES_TO_SAVE,\n",
    ")"
   ]
  },
  {
   "cell_type": "code",
   "execution_count": 26,
   "id": "7fb8e659",
   "metadata": {
    "execution": {
     "iopub.execute_input": "2022-11-26T14:48:14.069753Z",
     "iopub.status.busy": "2022-11-26T14:48:14.069655Z",
     "iopub.status.idle": "2022-11-26T14:48:14.082105Z",
     "shell.execute_reply": "2022-11-26T14:48:14.081831Z"
    },
    "papermill": {
     "duration": 0.04286,
     "end_time": "2022-11-26T14:48:14.083317",
     "exception": false,
     "start_time": "2022-11-26T14:48:14.040457",
     "status": "completed"
    },
    "tags": []
   },
   "outputs": [
    {
     "data": {
      "text/plain": [
       "(295, 3)"
      ]
     },
     "execution_count": 26,
     "metadata": {},
     "output_type": "execute_result"
    }
   ],
   "source": [
    "# the number should be close to 295 (the number of partitions generated by k-means/spectral clustering)\n",
    "ensemble.shape"
   ]
  },
  {
   "cell_type": "code",
   "execution_count": 27,
   "id": "b58e9215",
   "metadata": {
    "execution": {
     "iopub.execute_input": "2022-11-26T14:48:14.133518Z",
     "iopub.status.busy": "2022-11-26T14:48:14.133439Z",
     "iopub.status.idle": "2022-11-26T14:48:14.163242Z",
     "shell.execute_reply": "2022-11-26T14:48:14.162835Z"
    },
    "papermill": {
     "duration": 0.051218,
     "end_time": "2022-11-26T14:48:14.164009",
     "exception": false,
     "start_time": "2022-11-26T14:48:14.112791",
     "status": "completed"
    },
    "tags": []
   },
   "outputs": [
    {
     "data": {
      "text/html": [
       "<div>\n",
       "<style scoped>\n",
       "    .dataframe tbody tr th:only-of-type {\n",
       "        vertical-align: middle;\n",
       "    }\n",
       "\n",
       "    .dataframe tbody tr th {\n",
       "        vertical-align: top;\n",
       "    }\n",
       "\n",
       "    .dataframe thead th {\n",
       "        text-align: right;\n",
       "    }\n",
       "</style>\n",
       "<table border=\"1\" class=\"dataframe\">\n",
       "  <thead>\n",
       "    <tr style=\"text-align: right;\">\n",
       "      <th></th>\n",
       "      <th>clusterer_params</th>\n",
       "      <th>partition</th>\n",
       "      <th>n_clusters</th>\n",
       "    </tr>\n",
       "    <tr>\n",
       "      <th>clusterer_id</th>\n",
       "      <th></th>\n",
       "      <th></th>\n",
       "      <th></th>\n",
       "    </tr>\n",
       "  </thead>\n",
       "  <tbody>\n",
       "    <tr>\n",
       "      <th>GaussianMixture #0</th>\n",
       "      <td>{'covariance_type': 'full', 'init_params': 'km...</td>\n",
       "      <td>[1.0, 1.0, 1.0, 1.0, 1.0, 1.0, 1.0, 1.0, 1.0, ...</td>\n",
       "      <td>2</td>\n",
       "    </tr>\n",
       "    <tr>\n",
       "      <th>GaussianMixture #1</th>\n",
       "      <td>{'covariance_type': 'full', 'init_params': 'km...</td>\n",
       "      <td>[1.0, 1.0, 1.0, 1.0, 1.0, 1.0, 1.0, 1.0, 1.0, ...</td>\n",
       "      <td>2</td>\n",
       "    </tr>\n",
       "    <tr>\n",
       "      <th>GaussianMixture #2</th>\n",
       "      <td>{'covariance_type': 'full', 'init_params': 'km...</td>\n",
       "      <td>[1.0, 1.0, 1.0, 1.0, 1.0, 1.0, 1.0, 1.0, 1.0, ...</td>\n",
       "      <td>2</td>\n",
       "    </tr>\n",
       "    <tr>\n",
       "      <th>GaussianMixture #3</th>\n",
       "      <td>{'covariance_type': 'full', 'init_params': 'km...</td>\n",
       "      <td>[1.0, 1.0, 1.0, 1.0, 1.0, 1.0, 1.0, 1.0, 1.0, ...</td>\n",
       "      <td>2</td>\n",
       "    </tr>\n",
       "    <tr>\n",
       "      <th>GaussianMixture #4</th>\n",
       "      <td>{'covariance_type': 'full', 'init_params': 'km...</td>\n",
       "      <td>[1.0, 1.0, 1.0, 1.0, 1.0, 1.0, 1.0, 1.0, 1.0, ...</td>\n",
       "      <td>2</td>\n",
       "    </tr>\n",
       "  </tbody>\n",
       "</table>\n",
       "</div>"
      ],
      "text/plain": [
       "                                                     clusterer_params  \\\n",
       "clusterer_id                                                            \n",
       "GaussianMixture #0  {'covariance_type': 'full', 'init_params': 'km...   \n",
       "GaussianMixture #1  {'covariance_type': 'full', 'init_params': 'km...   \n",
       "GaussianMixture #2  {'covariance_type': 'full', 'init_params': 'km...   \n",
       "GaussianMixture #3  {'covariance_type': 'full', 'init_params': 'km...   \n",
       "GaussianMixture #4  {'covariance_type': 'full', 'init_params': 'km...   \n",
       "\n",
       "                                                            partition  \\\n",
       "clusterer_id                                                            \n",
       "GaussianMixture #0  [1.0, 1.0, 1.0, 1.0, 1.0, 1.0, 1.0, 1.0, 1.0, ...   \n",
       "GaussianMixture #1  [1.0, 1.0, 1.0, 1.0, 1.0, 1.0, 1.0, 1.0, 1.0, ...   \n",
       "GaussianMixture #2  [1.0, 1.0, 1.0, 1.0, 1.0, 1.0, 1.0, 1.0, 1.0, ...   \n",
       "GaussianMixture #3  [1.0, 1.0, 1.0, 1.0, 1.0, 1.0, 1.0, 1.0, 1.0, ...   \n",
       "GaussianMixture #4  [1.0, 1.0, 1.0, 1.0, 1.0, 1.0, 1.0, 1.0, 1.0, ...   \n",
       "\n",
       "                    n_clusters  \n",
       "clusterer_id                    \n",
       "GaussianMixture #0           2  \n",
       "GaussianMixture #1           2  \n",
       "GaussianMixture #2           2  \n",
       "GaussianMixture #3           2  \n",
       "GaussianMixture #4           2  "
      ]
     },
     "execution_count": 27,
     "metadata": {},
     "output_type": "execute_result"
    }
   ],
   "source": [
    "ensemble.head()"
   ]
  },
  {
   "cell_type": "code",
   "execution_count": 28,
   "id": "64471fed",
   "metadata": {
    "execution": {
     "iopub.execute_input": "2022-11-26T14:48:14.193740Z",
     "iopub.status.busy": "2022-11-26T14:48:14.193589Z",
     "iopub.status.idle": "2022-11-26T14:48:14.215179Z",
     "shell.execute_reply": "2022-11-26T14:48:14.214816Z"
    },
    "papermill": {
     "duration": 0.037467,
     "end_time": "2022-11-26T14:48:14.215949",
     "exception": false,
     "start_time": "2022-11-26T14:48:14.178482",
     "status": "completed"
    },
    "tags": []
   },
   "outputs": [
    {
     "data": {
      "text/plain": [
       "60    5\n",
       "16    5\n",
       "28    5\n",
       "27    5\n",
       "26    5\n",
       "Name: n_clusters, dtype: int64"
      ]
     },
     "execution_count": 28,
     "metadata": {},
     "output_type": "execute_result"
    }
   ],
   "source": [
    "ensemble[\"n_clusters\"].value_counts().head()"
   ]
  },
  {
   "cell_type": "code",
   "execution_count": 29,
   "id": "1042cc8f",
   "metadata": {
    "execution": {
     "iopub.execute_input": "2022-11-26T14:48:14.245880Z",
     "iopub.status.busy": "2022-11-26T14:48:14.245475Z",
     "iopub.status.idle": "2022-11-26T14:48:14.268123Z",
     "shell.execute_reply": "2022-11-26T14:48:14.267755Z"
    },
    "papermill": {
     "duration": 0.038381,
     "end_time": "2022-11-26T14:48:14.268896",
     "exception": false,
     "start_time": "2022-11-26T14:48:14.230515",
     "status": "completed"
    },
    "tags": []
   },
   "outputs": [
    {
     "data": {
      "text/plain": [
       "count    295.000000\n",
       "mean      31.000000\n",
       "std       17.058323\n",
       "min        2.000000\n",
       "25%       16.000000\n",
       "50%       31.000000\n",
       "75%       46.000000\n",
       "max       60.000000\n",
       "Name: n_clusters, dtype: float64"
      ]
     },
     "metadata": {},
     "output_type": "display_data"
    }
   ],
   "source": [
    "ensemble_stats = ensemble[\"n_clusters\"].describe()\n",
    "display(ensemble_stats)"
   ]
  },
  {
   "cell_type": "markdown",
   "id": "13772ff4",
   "metadata": {
    "papermill": {
     "duration": 0.014448,
     "end_time": "2022-11-26T14:48:14.298122",
     "exception": false,
     "start_time": "2022-11-26T14:48:14.283674",
     "status": "completed"
    },
    "tags": []
   },
   "source": [
    "## Testing"
   ]
  },
  {
   "cell_type": "code",
   "execution_count": 30,
   "id": "985f813c",
   "metadata": {
    "execution": {
     "iopub.execute_input": "2022-11-26T14:48:14.328235Z",
     "iopub.status.busy": "2022-11-26T14:48:14.327892Z",
     "iopub.status.idle": "2022-11-26T14:48:14.347449Z",
     "shell.execute_reply": "2022-11-26T14:48:14.347062Z"
    },
    "papermill": {
     "duration": 0.035646,
     "end_time": "2022-11-26T14:48:14.348321",
     "exception": false,
     "start_time": "2022-11-26T14:48:14.312675",
     "status": "completed"
    },
    "tags": []
   },
   "outputs": [],
   "source": [
    "assert ensemble_stats[\"min\"] > 1"
   ]
  },
  {
   "cell_type": "code",
   "execution_count": 31,
   "id": "9a90a7b1",
   "metadata": {
    "execution": {
     "iopub.execute_input": "2022-11-26T14:48:14.378468Z",
     "iopub.status.busy": "2022-11-26T14:48:14.378319Z",
     "iopub.status.idle": "2022-11-26T14:48:14.397721Z",
     "shell.execute_reply": "2022-11-26T14:48:14.397339Z"
    },
    "papermill": {
     "duration": 0.035549,
     "end_time": "2022-11-26T14:48:14.398594",
     "exception": false,
     "start_time": "2022-11-26T14:48:14.363045",
     "status": "completed"
    },
    "tags": []
   },
   "outputs": [],
   "source": [
    "assert not ensemble[\"n_clusters\"].isna().any()"
   ]
  },
  {
   "cell_type": "code",
   "execution_count": 32,
   "id": "22e96604",
   "metadata": {
    "execution": {
     "iopub.execute_input": "2022-11-26T14:48:14.428491Z",
     "iopub.status.busy": "2022-11-26T14:48:14.428320Z",
     "iopub.status.idle": "2022-11-26T14:48:14.447421Z",
     "shell.execute_reply": "2022-11-26T14:48:14.447040Z"
    },
    "papermill": {
     "duration": 0.035044,
     "end_time": "2022-11-26T14:48:14.448287",
     "exception": false,
     "start_time": "2022-11-26T14:48:14.413243",
     "status": "completed"
    },
    "tags": []
   },
   "outputs": [],
   "source": [
    "assert ensemble.shape[0] == len(CLUSTERERS)"
   ]
  },
  {
   "cell_type": "code",
   "execution_count": 33,
   "id": "d6a54942",
   "metadata": {
    "execution": {
     "iopub.execute_input": "2022-11-26T14:48:14.478188Z",
     "iopub.status.busy": "2022-11-26T14:48:14.478040Z",
     "iopub.status.idle": "2022-11-26T14:48:14.521741Z",
     "shell.execute_reply": "2022-11-26T14:48:14.521347Z"
    },
    "papermill": {
     "duration": 0.059658,
     "end_time": "2022-11-26T14:48:14.522614",
     "exception": false,
     "start_time": "2022-11-26T14:48:14.462956",
     "status": "completed"
    },
    "tags": []
   },
   "outputs": [],
   "source": [
    "# all partitions have the right size\n",
    "assert np.all(\n",
    "    [part[\"partition\"].shape[0] == data.shape[0] for idx, part in ensemble.iterrows()]\n",
    ")"
   ]
  },
  {
   "cell_type": "code",
   "execution_count": 34,
   "id": "6d9809b4",
   "metadata": {
    "execution": {
     "iopub.execute_input": "2022-11-26T14:48:14.552653Z",
     "iopub.status.busy": "2022-11-26T14:48:14.552289Z",
     "iopub.status.idle": "2022-11-26T14:48:14.599328Z",
     "shell.execute_reply": "2022-11-26T14:48:14.598918Z"
    },
    "papermill": {
     "duration": 0.062873,
     "end_time": "2022-11-26T14:48:14.600106",
     "exception": false,
     "start_time": "2022-11-26T14:48:14.537233",
     "status": "completed"
    },
    "tags": []
   },
   "outputs": [],
   "source": [
    "# no partition has negative clusters (noisy points)\n",
    "assert not np.any([(part[\"partition\"] < 0).any() for idx, part in ensemble.iterrows()])"
   ]
  },
  {
   "cell_type": "markdown",
   "id": "be56bd86",
   "metadata": {
    "papermill": {
     "duration": 0.014682,
     "end_time": "2022-11-26T14:48:14.629182",
     "exception": false,
     "start_time": "2022-11-26T14:48:14.614500",
     "status": "completed"
    },
    "tags": []
   },
   "source": [
    "## Add clustering quality measures"
   ]
  },
  {
   "cell_type": "code",
   "execution_count": 35,
   "id": "3789c847",
   "metadata": {
    "execution": {
     "iopub.execute_input": "2022-11-26T14:48:14.659055Z",
     "iopub.status.busy": "2022-11-26T14:48:14.658900Z",
     "iopub.status.idle": "2022-11-26T14:48:14.679173Z",
     "shell.execute_reply": "2022-11-26T14:48:14.678759Z"
    },
    "papermill": {
     "duration": 0.036511,
     "end_time": "2022-11-26T14:48:14.680324",
     "exception": false,
     "start_time": "2022-11-26T14:48:14.643813",
     "status": "completed"
    },
    "tags": []
   },
   "outputs": [],
   "source": [
    "from sklearn.metrics import calinski_harabasz_score"
   ]
  },
  {
   "cell_type": "code",
   "execution_count": 36,
   "id": "20a6e027",
   "metadata": {
    "execution": {
     "iopub.execute_input": "2022-11-26T14:48:14.729523Z",
     "iopub.status.busy": "2022-11-26T14:48:14.729371Z",
     "iopub.status.idle": "2022-11-26T14:48:15.440480Z",
     "shell.execute_reply": "2022-11-26T14:48:15.440053Z"
    },
    "papermill": {
     "duration": 0.735954,
     "end_time": "2022-11-26T14:48:15.441851",
     "exception": false,
     "start_time": "2022-11-26T14:48:14.705897",
     "status": "completed"
    },
    "tags": []
   },
   "outputs": [],
   "source": [
    "ensemble = ensemble.assign(\n",
    "    ch_score=ensemble[\"partition\"].apply(lambda x: calinski_harabasz_score(data, x))\n",
    ")"
   ]
  },
  {
   "cell_type": "code",
   "execution_count": 37,
   "id": "dbb85abc",
   "metadata": {
    "execution": {
     "iopub.execute_input": "2022-11-26T14:48:15.472923Z",
     "iopub.status.busy": "2022-11-26T14:48:15.472835Z",
     "iopub.status.idle": "2022-11-26T14:48:15.485225Z",
     "shell.execute_reply": "2022-11-26T14:48:15.484895Z"
    },
    "papermill": {
     "duration": 0.028218,
     "end_time": "2022-11-26T14:48:15.485893",
     "exception": false,
     "start_time": "2022-11-26T14:48:15.457675",
     "status": "completed"
    },
    "tags": []
   },
   "outputs": [
    {
     "data": {
      "text/plain": [
       "(295, 4)"
      ]
     },
     "execution_count": 37,
     "metadata": {},
     "output_type": "execute_result"
    }
   ],
   "source": [
    "ensemble.shape"
   ]
  },
  {
   "cell_type": "code",
   "execution_count": 38,
   "id": "3bb3b1bd",
   "metadata": {
    "execution": {
     "iopub.execute_input": "2022-11-26T14:48:15.515869Z",
     "iopub.status.busy": "2022-11-26T14:48:15.515778Z",
     "iopub.status.idle": "2022-11-26T14:48:15.546484Z",
     "shell.execute_reply": "2022-11-26T14:48:15.546112Z"
    },
    "papermill": {
     "duration": 0.046538,
     "end_time": "2022-11-26T14:48:15.547258",
     "exception": false,
     "start_time": "2022-11-26T14:48:15.500720",
     "status": "completed"
    },
    "tags": []
   },
   "outputs": [
    {
     "data": {
      "text/html": [
       "<div>\n",
       "<style scoped>\n",
       "    .dataframe tbody tr th:only-of-type {\n",
       "        vertical-align: middle;\n",
       "    }\n",
       "\n",
       "    .dataframe tbody tr th {\n",
       "        vertical-align: top;\n",
       "    }\n",
       "\n",
       "    .dataframe thead th {\n",
       "        text-align: right;\n",
       "    }\n",
       "</style>\n",
       "<table border=\"1\" class=\"dataframe\">\n",
       "  <thead>\n",
       "    <tr style=\"text-align: right;\">\n",
       "      <th></th>\n",
       "      <th>clusterer_params</th>\n",
       "      <th>partition</th>\n",
       "      <th>n_clusters</th>\n",
       "      <th>ch_score</th>\n",
       "    </tr>\n",
       "    <tr>\n",
       "      <th>clusterer_id</th>\n",
       "      <th></th>\n",
       "      <th></th>\n",
       "      <th></th>\n",
       "      <th></th>\n",
       "    </tr>\n",
       "  </thead>\n",
       "  <tbody>\n",
       "    <tr>\n",
       "      <th>GaussianMixture #0</th>\n",
       "      <td>{'covariance_type': 'full', 'init_params': 'km...</td>\n",
       "      <td>[1.0, 1.0, 1.0, 1.0, 1.0, 1.0, 1.0, 1.0, 1.0, ...</td>\n",
       "      <td>2</td>\n",
       "      <td>1640.599602</td>\n",
       "    </tr>\n",
       "    <tr>\n",
       "      <th>GaussianMixture #1</th>\n",
       "      <td>{'covariance_type': 'full', 'init_params': 'km...</td>\n",
       "      <td>[1.0, 1.0, 1.0, 1.0, 1.0, 1.0, 1.0, 1.0, 1.0, ...</td>\n",
       "      <td>2</td>\n",
       "      <td>1640.599602</td>\n",
       "    </tr>\n",
       "    <tr>\n",
       "      <th>GaussianMixture #2</th>\n",
       "      <td>{'covariance_type': 'full', 'init_params': 'km...</td>\n",
       "      <td>[1.0, 1.0, 1.0, 1.0, 1.0, 1.0, 1.0, 1.0, 1.0, ...</td>\n",
       "      <td>2</td>\n",
       "      <td>1640.726868</td>\n",
       "    </tr>\n",
       "    <tr>\n",
       "      <th>GaussianMixture #3</th>\n",
       "      <td>{'covariance_type': 'full', 'init_params': 'km...</td>\n",
       "      <td>[1.0, 1.0, 1.0, 1.0, 1.0, 1.0, 1.0, 1.0, 1.0, ...</td>\n",
       "      <td>2</td>\n",
       "      <td>1640.599602</td>\n",
       "    </tr>\n",
       "    <tr>\n",
       "      <th>GaussianMixture #4</th>\n",
       "      <td>{'covariance_type': 'full', 'init_params': 'km...</td>\n",
       "      <td>[1.0, 1.0, 1.0, 1.0, 1.0, 1.0, 1.0, 1.0, 1.0, ...</td>\n",
       "      <td>2</td>\n",
       "      <td>1640.726868</td>\n",
       "    </tr>\n",
       "  </tbody>\n",
       "</table>\n",
       "</div>"
      ],
      "text/plain": [
       "                                                     clusterer_params  \\\n",
       "clusterer_id                                                            \n",
       "GaussianMixture #0  {'covariance_type': 'full', 'init_params': 'km...   \n",
       "GaussianMixture #1  {'covariance_type': 'full', 'init_params': 'km...   \n",
       "GaussianMixture #2  {'covariance_type': 'full', 'init_params': 'km...   \n",
       "GaussianMixture #3  {'covariance_type': 'full', 'init_params': 'km...   \n",
       "GaussianMixture #4  {'covariance_type': 'full', 'init_params': 'km...   \n",
       "\n",
       "                                                            partition  \\\n",
       "clusterer_id                                                            \n",
       "GaussianMixture #0  [1.0, 1.0, 1.0, 1.0, 1.0, 1.0, 1.0, 1.0, 1.0, ...   \n",
       "GaussianMixture #1  [1.0, 1.0, 1.0, 1.0, 1.0, 1.0, 1.0, 1.0, 1.0, ...   \n",
       "GaussianMixture #2  [1.0, 1.0, 1.0, 1.0, 1.0, 1.0, 1.0, 1.0, 1.0, ...   \n",
       "GaussianMixture #3  [1.0, 1.0, 1.0, 1.0, 1.0, 1.0, 1.0, 1.0, 1.0, ...   \n",
       "GaussianMixture #4  [1.0, 1.0, 1.0, 1.0, 1.0, 1.0, 1.0, 1.0, 1.0, ...   \n",
       "\n",
       "                    n_clusters     ch_score  \n",
       "clusterer_id                                 \n",
       "GaussianMixture #0           2  1640.599602  \n",
       "GaussianMixture #1           2  1640.599602  \n",
       "GaussianMixture #2           2  1640.726868  \n",
       "GaussianMixture #3           2  1640.599602  \n",
       "GaussianMixture #4           2  1640.726868  "
      ]
     },
     "execution_count": 38,
     "metadata": {},
     "output_type": "execute_result"
    }
   ],
   "source": [
    "ensemble.head()"
   ]
  },
  {
   "cell_type": "markdown",
   "id": "d5672a74",
   "metadata": {
    "papermill": {
     "duration": 0.014972,
     "end_time": "2022-11-26T14:48:15.577019",
     "exception": false,
     "start_time": "2022-11-26T14:48:15.562047",
     "status": "completed"
    },
    "tags": []
   },
   "source": [
    "## Save"
   ]
  },
  {
   "cell_type": "code",
   "execution_count": 39,
   "id": "08fa1af0",
   "metadata": {
    "execution": {
     "iopub.execute_input": "2022-11-26T14:48:15.607571Z",
     "iopub.status.busy": "2022-11-26T14:48:15.607420Z",
     "iopub.status.idle": "2022-11-26T14:48:15.627357Z",
     "shell.execute_reply": "2022-11-26T14:48:15.626990Z"
    },
    "papermill": {
     "duration": 0.036136,
     "end_time": "2022-11-26T14:48:15.628118",
     "exception": false,
     "start_time": "2022-11-26T14:48:15.591982",
     "status": "completed"
    },
    "tags": []
   },
   "outputs": [
    {
     "data": {
      "text/plain": [
       "PosixPath('/opt/data/results/clustering/null_sims/shuffle_genes/runs/umap-z_score_std-projection-smultixcan-efo_partial-mashr-zscores/GaussianMixture-COVARIANCE_TYPE_full-K_MAX_60-K_MIN_2-N_INIT_10-N_REPS_PER_K_5.pkl')"
      ]
     },
     "metadata": {},
     "output_type": "display_data"
    }
   ],
   "source": [
    "output_filename = Path(\n",
    "    RESULTS_DIR,\n",
    "    generate_result_set_name(\n",
    "        CLUSTERING_OPTIONS,\n",
    "        prefix=f\"{clustering_method_name}-\",\n",
    "        suffix=\".pkl\",\n",
    "    ),\n",
    ").resolve()\n",
    "display(output_filename)"
   ]
  },
  {
   "cell_type": "code",
   "execution_count": 40,
   "id": "7c4c78e7",
   "metadata": {
    "execution": {
     "iopub.execute_input": "2022-11-26T14:48:15.658940Z",
     "iopub.status.busy": "2022-11-26T14:48:15.658792Z",
     "iopub.status.idle": "2022-11-26T14:48:15.694805Z",
     "shell.execute_reply": "2022-11-26T14:48:15.694307Z"
    },
    "papermill": {
     "duration": 0.052527,
     "end_time": "2022-11-26T14:48:15.695706",
     "exception": false,
     "start_time": "2022-11-26T14:48:15.643179",
     "status": "completed"
    },
    "tags": []
   },
   "outputs": [],
   "source": [
    "ensemble.to_pickle(output_filename)"
   ]
  },
  {
   "cell_type": "markdown",
   "id": "15a3be9a",
   "metadata": {
    "papermill": {
     "duration": 0.014769,
     "end_time": "2022-11-26T14:48:15.725553",
     "exception": false,
     "start_time": "2022-11-26T14:48:15.710784",
     "status": "completed"
    },
    "tags": []
   },
   "source": [
    "# Cluster quality"
   ]
  },
  {
   "cell_type": "code",
   "execution_count": 41,
   "id": "d889f4a4",
   "metadata": {
    "execution": {
     "iopub.execute_input": "2022-11-26T14:48:15.756664Z",
     "iopub.status.busy": "2022-11-26T14:48:15.756294Z",
     "iopub.status.idle": "2022-11-26T14:48:15.783668Z",
     "shell.execute_reply": "2022-11-26T14:48:15.783231Z"
    },
    "papermill": {
     "duration": 0.043736,
     "end_time": "2022-11-26T14:48:15.784453",
     "exception": false,
     "start_time": "2022-11-26T14:48:15.740717",
     "status": "completed"
    },
    "tags": []
   },
   "outputs": [
    {
     "data": {
      "text/html": [
       "<div>\n",
       "<style scoped>\n",
       "    .dataframe tbody tr th:only-of-type {\n",
       "        vertical-align: middle;\n",
       "    }\n",
       "\n",
       "    .dataframe tbody tr th {\n",
       "        vertical-align: top;\n",
       "    }\n",
       "\n",
       "    .dataframe thead th {\n",
       "        text-align: right;\n",
       "    }\n",
       "</style>\n",
       "<table border=\"1\" class=\"dataframe\">\n",
       "  <thead>\n",
       "    <tr style=\"text-align: right;\">\n",
       "      <th></th>\n",
       "      <th>ch_score</th>\n",
       "    </tr>\n",
       "    <tr>\n",
       "      <th>n_clusters</th>\n",
       "      <th></th>\n",
       "    </tr>\n",
       "  </thead>\n",
       "  <tbody>\n",
       "    <tr>\n",
       "      <th>2</th>\n",
       "      <td>1640.650509</td>\n",
       "    </tr>\n",
       "    <tr>\n",
       "      <th>3</th>\n",
       "      <td>2546.262135</td>\n",
       "    </tr>\n",
       "    <tr>\n",
       "      <th>4</th>\n",
       "      <td>2753.406769</td>\n",
       "    </tr>\n",
       "    <tr>\n",
       "      <th>5</th>\n",
       "      <td>2993.507110</td>\n",
       "    </tr>\n",
       "    <tr>\n",
       "      <th>6</th>\n",
       "      <td>3107.410024</td>\n",
       "    </tr>\n",
       "    <tr>\n",
       "      <th>7</th>\n",
       "      <td>3116.400910</td>\n",
       "    </tr>\n",
       "    <tr>\n",
       "      <th>8</th>\n",
       "      <td>2999.238504</td>\n",
       "    </tr>\n",
       "    <tr>\n",
       "      <th>9</th>\n",
       "      <td>3182.983473</td>\n",
       "    </tr>\n",
       "    <tr>\n",
       "      <th>10</th>\n",
       "      <td>3223.884993</td>\n",
       "    </tr>\n",
       "    <tr>\n",
       "      <th>11</th>\n",
       "      <td>3267.394469</td>\n",
       "    </tr>\n",
       "    <tr>\n",
       "      <th>12</th>\n",
       "      <td>3359.847721</td>\n",
       "    </tr>\n",
       "    <tr>\n",
       "      <th>13</th>\n",
       "      <td>3366.960720</td>\n",
       "    </tr>\n",
       "    <tr>\n",
       "      <th>14</th>\n",
       "      <td>3436.253446</td>\n",
       "    </tr>\n",
       "    <tr>\n",
       "      <th>15</th>\n",
       "      <td>3517.530496</td>\n",
       "    </tr>\n",
       "    <tr>\n",
       "      <th>16</th>\n",
       "      <td>3615.192460</td>\n",
       "    </tr>\n",
       "    <tr>\n",
       "      <th>17</th>\n",
       "      <td>3694.980938</td>\n",
       "    </tr>\n",
       "    <tr>\n",
       "      <th>18</th>\n",
       "      <td>3702.502413</td>\n",
       "    </tr>\n",
       "    <tr>\n",
       "      <th>19</th>\n",
       "      <td>3719.936926</td>\n",
       "    </tr>\n",
       "    <tr>\n",
       "      <th>20</th>\n",
       "      <td>3771.357466</td>\n",
       "    </tr>\n",
       "    <tr>\n",
       "      <th>21</th>\n",
       "      <td>3834.547729</td>\n",
       "    </tr>\n",
       "    <tr>\n",
       "      <th>22</th>\n",
       "      <td>3839.406518</td>\n",
       "    </tr>\n",
       "    <tr>\n",
       "      <th>23</th>\n",
       "      <td>3867.743598</td>\n",
       "    </tr>\n",
       "    <tr>\n",
       "      <th>24</th>\n",
       "      <td>3901.877402</td>\n",
       "    </tr>\n",
       "    <tr>\n",
       "      <th>25</th>\n",
       "      <td>3936.750333</td>\n",
       "    </tr>\n",
       "    <tr>\n",
       "      <th>26</th>\n",
       "      <td>3965.274964</td>\n",
       "    </tr>\n",
       "    <tr>\n",
       "      <th>27</th>\n",
       "      <td>4034.852744</td>\n",
       "    </tr>\n",
       "    <tr>\n",
       "      <th>28</th>\n",
       "      <td>4035.075025</td>\n",
       "    </tr>\n",
       "    <tr>\n",
       "      <th>29</th>\n",
       "      <td>4051.501464</td>\n",
       "    </tr>\n",
       "    <tr>\n",
       "      <th>30</th>\n",
       "      <td>4131.749729</td>\n",
       "    </tr>\n",
       "    <tr>\n",
       "      <th>31</th>\n",
       "      <td>4205.554912</td>\n",
       "    </tr>\n",
       "    <tr>\n",
       "      <th>32</th>\n",
       "      <td>4233.185156</td>\n",
       "    </tr>\n",
       "    <tr>\n",
       "      <th>33</th>\n",
       "      <td>4281.085542</td>\n",
       "    </tr>\n",
       "    <tr>\n",
       "      <th>34</th>\n",
       "      <td>4288.953147</td>\n",
       "    </tr>\n",
       "    <tr>\n",
       "      <th>35</th>\n",
       "      <td>4290.438409</td>\n",
       "    </tr>\n",
       "    <tr>\n",
       "      <th>36</th>\n",
       "      <td>4350.706591</td>\n",
       "    </tr>\n",
       "    <tr>\n",
       "      <th>37</th>\n",
       "      <td>4344.301316</td>\n",
       "    </tr>\n",
       "    <tr>\n",
       "      <th>38</th>\n",
       "      <td>4314.221044</td>\n",
       "    </tr>\n",
       "    <tr>\n",
       "      <th>39</th>\n",
       "      <td>4374.812545</td>\n",
       "    </tr>\n",
       "    <tr>\n",
       "      <th>40</th>\n",
       "      <td>4351.645015</td>\n",
       "    </tr>\n",
       "    <tr>\n",
       "      <th>41</th>\n",
       "      <td>4352.776856</td>\n",
       "    </tr>\n",
       "    <tr>\n",
       "      <th>42</th>\n",
       "      <td>4353.801224</td>\n",
       "    </tr>\n",
       "    <tr>\n",
       "      <th>43</th>\n",
       "      <td>4354.144277</td>\n",
       "    </tr>\n",
       "    <tr>\n",
       "      <th>44</th>\n",
       "      <td>4321.274439</td>\n",
       "    </tr>\n",
       "    <tr>\n",
       "      <th>45</th>\n",
       "      <td>4314.405513</td>\n",
       "    </tr>\n",
       "    <tr>\n",
       "      <th>46</th>\n",
       "      <td>4308.565701</td>\n",
       "    </tr>\n",
       "    <tr>\n",
       "      <th>47</th>\n",
       "      <td>4306.449594</td>\n",
       "    </tr>\n",
       "    <tr>\n",
       "      <th>48</th>\n",
       "      <td>4274.617480</td>\n",
       "    </tr>\n",
       "    <tr>\n",
       "      <th>49</th>\n",
       "      <td>4292.317048</td>\n",
       "    </tr>\n",
       "    <tr>\n",
       "      <th>50</th>\n",
       "      <td>4262.308568</td>\n",
       "    </tr>\n",
       "    <tr>\n",
       "      <th>51</th>\n",
       "      <td>4261.039287</td>\n",
       "    </tr>\n",
       "    <tr>\n",
       "      <th>52</th>\n",
       "      <td>4211.399037</td>\n",
       "    </tr>\n",
       "    <tr>\n",
       "      <th>53</th>\n",
       "      <td>4205.707630</td>\n",
       "    </tr>\n",
       "    <tr>\n",
       "      <th>54</th>\n",
       "      <td>4195.729936</td>\n",
       "    </tr>\n",
       "    <tr>\n",
       "      <th>55</th>\n",
       "      <td>4188.556294</td>\n",
       "    </tr>\n",
       "    <tr>\n",
       "      <th>56</th>\n",
       "      <td>4165.596334</td>\n",
       "    </tr>\n",
       "    <tr>\n",
       "      <th>57</th>\n",
       "      <td>4141.134824</td>\n",
       "    </tr>\n",
       "    <tr>\n",
       "      <th>58</th>\n",
       "      <td>4147.880709</td>\n",
       "    </tr>\n",
       "    <tr>\n",
       "      <th>59</th>\n",
       "      <td>4111.518010</td>\n",
       "    </tr>\n",
       "    <tr>\n",
       "      <th>60</th>\n",
       "      <td>4050.224660</td>\n",
       "    </tr>\n",
       "  </tbody>\n",
       "</table>\n",
       "</div>"
      ],
      "text/plain": [
       "               ch_score\n",
       "n_clusters             \n",
       "2           1640.650509\n",
       "3           2546.262135\n",
       "4           2753.406769\n",
       "5           2993.507110\n",
       "6           3107.410024\n",
       "7           3116.400910\n",
       "8           2999.238504\n",
       "9           3182.983473\n",
       "10          3223.884993\n",
       "11          3267.394469\n",
       "12          3359.847721\n",
       "13          3366.960720\n",
       "14          3436.253446\n",
       "15          3517.530496\n",
       "16          3615.192460\n",
       "17          3694.980938\n",
       "18          3702.502413\n",
       "19          3719.936926\n",
       "20          3771.357466\n",
       "21          3834.547729\n",
       "22          3839.406518\n",
       "23          3867.743598\n",
       "24          3901.877402\n",
       "25          3936.750333\n",
       "26          3965.274964\n",
       "27          4034.852744\n",
       "28          4035.075025\n",
       "29          4051.501464\n",
       "30          4131.749729\n",
       "31          4205.554912\n",
       "32          4233.185156\n",
       "33          4281.085542\n",
       "34          4288.953147\n",
       "35          4290.438409\n",
       "36          4350.706591\n",
       "37          4344.301316\n",
       "38          4314.221044\n",
       "39          4374.812545\n",
       "40          4351.645015\n",
       "41          4352.776856\n",
       "42          4353.801224\n",
       "43          4354.144277\n",
       "44          4321.274439\n",
       "45          4314.405513\n",
       "46          4308.565701\n",
       "47          4306.449594\n",
       "48          4274.617480\n",
       "49          4292.317048\n",
       "50          4262.308568\n",
       "51          4261.039287\n",
       "52          4211.399037\n",
       "53          4205.707630\n",
       "54          4195.729936\n",
       "55          4188.556294\n",
       "56          4165.596334\n",
       "57          4141.134824\n",
       "58          4147.880709\n",
       "59          4111.518010\n",
       "60          4050.224660"
      ]
     },
     "metadata": {},
     "output_type": "display_data"
    }
   ],
   "source": [
    "with pd.option_context(\"display.max_rows\", None, \"display.max_columns\", None):\n",
    "    _df = ensemble.groupby([\"n_clusters\"]).mean()\n",
    "    display(_df)"
   ]
  },
  {
   "cell_type": "code",
   "execution_count": 42,
   "id": "e348f467",
   "metadata": {
    "execution": {
     "iopub.execute_input": "2022-11-26T14:48:15.815450Z",
     "iopub.status.busy": "2022-11-26T14:48:15.815301Z",
     "iopub.status.idle": "2022-11-26T14:48:17.858049Z",
     "shell.execute_reply": "2022-11-26T14:48:17.857593Z"
    },
    "papermill": {
     "duration": 2.060061,
     "end_time": "2022-11-26T14:48:17.859555",
     "exception": false,
     "start_time": "2022-11-26T14:48:15.799494",
     "status": "completed"
    },
    "tags": []
   },
   "outputs": [
    {
     "data": {
      "image/png": "[encoded data removed]",
      "text/plain": [
       "<Figure size 1008x432 with 1 Axes>"
      ]
     },
     "metadata": {},
     "output_type": "display_data"
    }
   ],
   "source": [
    "with sns.plotting_context(\"talk\", font_scale=0.75), sns.axes_style(\n",
    "    \"whitegrid\", {\"grid.linestyle\": \"--\"}\n",
    "):\n",
    "    fig = plt.figure(figsize=(14, 6))\n",
    "    ax = sns.pointplot(data=ensemble, x=\"n_clusters\", y=\"ch_score\")\n",
    "    ax.set_ylabel(\"Calinski-Harabasz index\")\n",
    "    ax.set_xlabel(\"Number of clusters ($k$)\")\n",
    "    ax.set_xticklabels(ax.get_xticklabels(), rotation=45)\n",
    "    plt.grid(True)\n",
    "    plt.tight_layout()"
   ]
  },
  {
   "cell_type": "markdown",
   "id": "1a8318c4",
   "metadata": {
    "papermill": {
     "duration": 0.031812,
     "end_time": "2022-11-26T14:48:17.923999",
     "exception": false,
     "start_time": "2022-11-26T14:48:17.892187",
     "status": "completed"
    },
    "tags": []
   },
   "source": [
    "# Stability"
   ]
  },
  {
   "cell_type": "markdown",
   "id": "b6e9954d",
   "metadata": {
    "papermill": {
     "duration": 0.015544,
     "end_time": "2022-11-26T14:48:17.963760",
     "exception": false,
     "start_time": "2022-11-26T14:48:17.948216",
     "status": "completed"
    },
    "tags": []
   },
   "source": [
    "## Group ensemble by n_clusters"
   ]
  },
  {
   "cell_type": "code",
   "execution_count": 43,
   "id": "1db60b69",
   "metadata": {
    "execution": {
     "iopub.execute_input": "2022-11-26T14:48:17.995908Z",
     "iopub.status.busy": "2022-11-26T14:48:17.995756Z",
     "iopub.status.idle": "2022-11-26T14:48:18.019118Z",
     "shell.execute_reply": "2022-11-26T14:48:18.018803Z"
    },
    "papermill": {
     "duration": 0.040266,
     "end_time": "2022-11-26T14:48:18.019826",
     "exception": false,
     "start_time": "2022-11-26T14:48:17.979560",
     "status": "completed"
    },
    "tags": []
   },
   "outputs": [],
   "source": [
    "parts = ensemble.groupby(\"n_clusters\").apply(\n",
    "    lambda x: np.concatenate(x[\"partition\"].apply(lambda x: x.reshape(1, -1)), axis=0)\n",
    ")"
   ]
  },
  {
   "cell_type": "code",
   "execution_count": 44,
   "id": "bbce47da",
   "metadata": {
    "execution": {
     "iopub.execute_input": "2022-11-26T14:48:18.051747Z",
     "iopub.status.busy": "2022-11-26T14:48:18.051646Z",
     "iopub.status.idle": "2022-11-26T14:48:18.090843Z",
     "shell.execute_reply": "2022-11-26T14:48:18.090332Z"
    },
    "papermill": {
     "duration": 0.056121,
     "end_time": "2022-11-26T14:48:18.091625",
     "exception": false,
     "start_time": "2022-11-26T14:48:18.035504",
     "status": "completed"
    },
    "tags": []
   },
   "outputs": [
    {
     "data": {
      "text/plain": [
       "n_clusters\n",
       "2    [[1.0, 1.0, 1.0, 1.0, 1.0, 1.0, 1.0, 1.0, 1.0,...\n",
       "3    [[2.0, 2.0, 2.0, 2.0, 2.0, 2.0, 2.0, 2.0, 2.0,...\n",
       "4    [[1.0, 1.0, 1.0, 1.0, 1.0, 1.0, 1.0, 1.0, 1.0,...\n",
       "5    [[3.0, 3.0, 3.0, 3.0, 3.0, 3.0, 3.0, 3.0, 3.0,...\n",
       "6    [[1.0, 1.0, 1.0, 1.0, 1.0, 1.0, 1.0, 1.0, 1.0,...\n",
       "dtype: object"
      ]
     },
     "execution_count": 44,
     "metadata": {},
     "output_type": "execute_result"
    }
   ],
   "source": [
    "parts.head()"
   ]
  },
  {
   "cell_type": "code",
   "execution_count": 45,
   "id": "eac62cb4",
   "metadata": {
    "execution": {
     "iopub.execute_input": "2022-11-26T14:48:18.123815Z",
     "iopub.status.busy": "2022-11-26T14:48:18.123653Z",
     "iopub.status.idle": "2022-11-26T14:48:18.145307Z",
     "shell.execute_reply": "2022-11-26T14:48:18.144789Z"
    },
    "papermill": {
     "duration": 0.038722,
     "end_time": "2022-11-26T14:48:18.146098",
     "exception": false,
     "start_time": "2022-11-26T14:48:18.107376",
     "status": "completed"
    },
    "tags": []
   },
   "outputs": [],
   "source": [
    "assert np.all(\n",
    "    [\n",
    "        parts.loc[k].shape == (CLUSTERING_OPTIONS[\"N_REPS_PER_K\"], data.shape[0])\n",
    "        for k in parts.index\n",
    "    ]\n",
    ")"
   ]
  },
  {
   "cell_type": "markdown",
   "id": "cae052c7",
   "metadata": {
    "papermill": {
     "duration": 0.015664,
     "end_time": "2022-11-26T14:48:18.178383",
     "exception": false,
     "start_time": "2022-11-26T14:48:18.162719",
     "status": "completed"
    },
    "tags": []
   },
   "source": [
    "## Compute stability"
   ]
  },
  {
   "cell_type": "code",
   "execution_count": 46,
   "id": "518567a5",
   "metadata": {
    "execution": {
     "iopub.execute_input": "2022-11-26T14:48:18.210525Z",
     "iopub.status.busy": "2022-11-26T14:48:18.210363Z",
     "iopub.status.idle": "2022-11-26T14:48:18.230253Z",
     "shell.execute_reply": "2022-11-26T14:48:18.229748Z"
    },
    "papermill": {
     "duration": 0.036918,
     "end_time": "2022-11-26T14:48:18.231053",
     "exception": false,
     "start_time": "2022-11-26T14:48:18.194135",
     "status": "completed"
    },
    "tags": []
   },
   "outputs": [],
   "source": [
    "from sklearn.metrics import adjusted_rand_score as ari\n",
    "from scipy.spatial.distance import pdist"
   ]
  },
  {
   "cell_type": "code",
   "execution_count": 47,
   "id": "75c9cf56",
   "metadata": {
    "execution": {
     "iopub.execute_input": "2022-11-26T14:48:18.263417Z",
     "iopub.status.busy": "2022-11-26T14:48:18.263098Z",
     "iopub.status.idle": "2022-11-26T14:48:18.697420Z",
     "shell.execute_reply": "2022-11-26T14:48:18.697109Z"
    },
    "papermill": {
     "duration": 0.451941,
     "end_time": "2022-11-26T14:48:18.698688",
     "exception": false,
     "start_time": "2022-11-26T14:48:18.246747",
     "status": "completed"
    },
    "tags": []
   },
   "outputs": [],
   "source": [
    "parts_ari = pd.Series(\n",
    "    {k: pdist(parts.loc[k], metric=ari) for k in parts.index}, name=\"k\"\n",
    ")"
   ]
  },
  {
   "cell_type": "code",
   "execution_count": 48,
   "id": "7236a9fb",
   "metadata": {
    "execution": {
     "iopub.execute_input": "2022-11-26T14:48:18.731892Z",
     "iopub.status.busy": "2022-11-26T14:48:18.731792Z",
     "iopub.status.idle": "2022-11-26T14:48:18.752452Z",
     "shell.execute_reply": "2022-11-26T14:48:18.752002Z"
    },
    "papermill": {
     "duration": 0.037588,
     "end_time": "2022-11-26T14:48:18.753271",
     "exception": false,
     "start_time": "2022-11-26T14:48:18.715683",
     "status": "completed"
    },
    "tags": []
   },
   "outputs": [
    {
     "data": {
      "text/plain": [
       "3     1.000000\n",
       "5     1.000000\n",
       "7     1.000000\n",
       "4     0.999433\n",
       "2     0.999360\n",
       "6     0.989047\n",
       "9     0.938877\n",
       "12    0.922124\n",
       "16    0.852462\n",
       "11    0.834426\n",
       "17    0.832337\n",
       "10    0.804215\n",
       "8     0.781702\n",
       "19    0.761623\n",
       "14    0.757100\n",
       "Name: k, dtype: float64"
      ]
     },
     "metadata": {},
     "output_type": "display_data"
    }
   ],
   "source": [
    "parts_ari_stability = parts_ari.apply(lambda x: x.mean())\n",
    "display(parts_ari_stability.sort_values(ascending=False).head(15))"
   ]
  },
  {
   "cell_type": "code",
   "execution_count": 49,
   "id": "7ee84b0f",
   "metadata": {
    "execution": {
     "iopub.execute_input": "2022-11-26T14:48:18.785504Z",
     "iopub.status.busy": "2022-11-26T14:48:18.785365Z",
     "iopub.status.idle": "2022-11-26T14:48:18.807146Z",
     "shell.execute_reply": "2022-11-26T14:48:18.806630Z"
    },
    "papermill": {
     "duration": 0.03893,
     "end_time": "2022-11-26T14:48:18.807985",
     "exception": false,
     "start_time": "2022-11-26T14:48:18.769055",
     "status": "completed"
    },
    "tags": []
   },
   "outputs": [],
   "source": [
    "parts_ari_df = pd.DataFrame.from_records(parts_ari.tolist()).set_index(\n",
    "    parts_ari.index.copy()\n",
    ")"
   ]
  },
  {
   "cell_type": "code",
   "execution_count": 50,
   "id": "7b368012",
   "metadata": {
    "execution": {
     "iopub.execute_input": "2022-11-26T14:48:18.840487Z",
     "iopub.status.busy": "2022-11-26T14:48:18.840056Z",
     "iopub.status.idle": "2022-11-26T14:48:18.860745Z",
     "shell.execute_reply": "2022-11-26T14:48:18.860229Z"
    },
    "papermill": {
     "duration": 0.037847,
     "end_time": "2022-11-26T14:48:18.861589",
     "exception": false,
     "start_time": "2022-11-26T14:48:18.823742",
     "status": "completed"
    },
    "tags": []
   },
   "outputs": [
    {
     "data": {
      "text/plain": [
       "(59, 10)"
      ]
     },
     "execution_count": 50,
     "metadata": {},
     "output_type": "execute_result"
    }
   ],
   "source": [
    "parts_ari_df.shape"
   ]
  },
  {
   "cell_type": "code",
   "execution_count": 51,
   "id": "dfab87b1",
   "metadata": {
    "execution": {
     "iopub.execute_input": "2022-11-26T14:48:18.894304Z",
     "iopub.status.busy": "2022-11-26T14:48:18.893867Z",
     "iopub.status.idle": "2022-11-26T14:48:18.913741Z",
     "shell.execute_reply": "2022-11-26T14:48:18.913246Z"
    },
    "papermill": {
     "duration": 0.037046,
     "end_time": "2022-11-26T14:48:18.914584",
     "exception": false,
     "start_time": "2022-11-26T14:48:18.877538",
     "status": "completed"
    },
    "tags": []
   },
   "outputs": [],
   "source": [
    "assert (\n",
    "    int(\n",
    "        (CLUSTERING_OPTIONS[\"N_REPS_PER_K\"] * (CLUSTERING_OPTIONS[\"N_REPS_PER_K\"] - 1))\n",
    "        / 2\n",
    "    )\n",
    "    == parts_ari_df.shape[1]\n",
    ")"
   ]
  },
  {
   "cell_type": "code",
   "execution_count": 52,
   "id": "389ab608",
   "metadata": {
    "execution": {
     "iopub.execute_input": "2022-11-26T14:48:18.947060Z",
     "iopub.status.busy": "2022-11-26T14:48:18.946907Z",
     "iopub.status.idle": "2022-11-26T14:48:18.973753Z",
     "shell.execute_reply": "2022-11-26T14:48:18.973266Z"
    },
    "papermill": {
     "duration": 0.044037,
     "end_time": "2022-11-26T14:48:18.974579",
     "exception": false,
     "start_time": "2022-11-26T14:48:18.930542",
     "status": "completed"
    },
    "tags": []
   },
   "outputs": [
    {
     "data": {
      "text/html": [
       "<div>\n",
       "<style scoped>\n",
       "    .dataframe tbody tr th:only-of-type {\n",
       "        vertical-align: middle;\n",
       "    }\n",
       "\n",
       "    .dataframe tbody tr th {\n",
       "        vertical-align: top;\n",
       "    }\n",
       "\n",
       "    .dataframe thead th {\n",
       "        text-align: right;\n",
       "    }\n",
       "</style>\n",
       "<table border=\"1\" class=\"dataframe\">\n",
       "  <thead>\n",
       "    <tr style=\"text-align: right;\">\n",
       "      <th></th>\n",
       "      <th>0</th>\n",
       "      <th>1</th>\n",
       "      <th>2</th>\n",
       "      <th>3</th>\n",
       "      <th>4</th>\n",
       "      <th>5</th>\n",
       "      <th>6</th>\n",
       "      <th>7</th>\n",
       "      <th>8</th>\n",
       "      <th>9</th>\n",
       "    </tr>\n",
       "  </thead>\n",
       "  <tbody>\n",
       "    <tr>\n",
       "      <th>2</th>\n",
       "      <td>1.000000</td>\n",
       "      <td>0.998933</td>\n",
       "      <td>1.0</td>\n",
       "      <td>0.998933</td>\n",
       "      <td>0.998933</td>\n",
       "      <td>1.000000</td>\n",
       "      <td>0.998933</td>\n",
       "      <td>0.998933</td>\n",
       "      <td>1.000000</td>\n",
       "      <td>0.998933</td>\n",
       "    </tr>\n",
       "    <tr>\n",
       "      <th>3</th>\n",
       "      <td>1.000000</td>\n",
       "      <td>1.000000</td>\n",
       "      <td>1.0</td>\n",
       "      <td>1.000000</td>\n",
       "      <td>1.000000</td>\n",
       "      <td>1.000000</td>\n",
       "      <td>1.000000</td>\n",
       "      <td>1.000000</td>\n",
       "      <td>1.000000</td>\n",
       "      <td>1.000000</td>\n",
       "    </tr>\n",
       "    <tr>\n",
       "      <th>4</th>\n",
       "      <td>1.000000</td>\n",
       "      <td>1.000000</td>\n",
       "      <td>1.0</td>\n",
       "      <td>0.998583</td>\n",
       "      <td>1.000000</td>\n",
       "      <td>1.000000</td>\n",
       "      <td>0.998583</td>\n",
       "      <td>1.000000</td>\n",
       "      <td>0.998583</td>\n",
       "      <td>0.998583</td>\n",
       "    </tr>\n",
       "    <tr>\n",
       "      <th>5</th>\n",
       "      <td>1.000000</td>\n",
       "      <td>1.000000</td>\n",
       "      <td>1.0</td>\n",
       "      <td>1.000000</td>\n",
       "      <td>1.000000</td>\n",
       "      <td>1.000000</td>\n",
       "      <td>1.000000</td>\n",
       "      <td>1.000000</td>\n",
       "      <td>1.000000</td>\n",
       "      <td>1.000000</td>\n",
       "    </tr>\n",
       "    <tr>\n",
       "      <th>6</th>\n",
       "      <td>0.976452</td>\n",
       "      <td>0.995781</td>\n",
       "      <td>1.0</td>\n",
       "      <td>1.000000</td>\n",
       "      <td>0.973774</td>\n",
       "      <td>0.976452</td>\n",
       "      <td>0.976452</td>\n",
       "      <td>0.995781</td>\n",
       "      <td>0.995781</td>\n",
       "      <td>1.000000</td>\n",
       "    </tr>\n",
       "  </tbody>\n",
       "</table>\n",
       "</div>"
      ],
      "text/plain": [
       "          0         1    2         3         4         5         6         7  \\\n",
       "2  1.000000  0.998933  1.0  0.998933  0.998933  1.000000  0.998933  0.998933   \n",
       "3  1.000000  1.000000  1.0  1.000000  1.000000  1.000000  1.000000  1.000000   \n",
       "4  1.000000  1.000000  1.0  0.998583  1.000000  1.000000  0.998583  1.000000   \n",
       "5  1.000000  1.000000  1.0  1.000000  1.000000  1.000000  1.000000  1.000000   \n",
       "6  0.976452  0.995781  1.0  1.000000  0.973774  0.976452  0.976452  0.995781   \n",
       "\n",
       "          8         9  \n",
       "2  1.000000  0.998933  \n",
       "3  1.000000  1.000000  \n",
       "4  0.998583  0.998583  \n",
       "5  1.000000  1.000000  \n",
       "6  0.995781  1.000000  "
      ]
     },
     "execution_count": 52,
     "metadata": {},
     "output_type": "execute_result"
    }
   ],
   "source": [
    "parts_ari_df.head()"
   ]
  },
  {
   "cell_type": "markdown",
   "id": "a4edf5c1",
   "metadata": {
    "papermill": {
     "duration": 0.015898,
     "end_time": "2022-11-26T14:48:19.006688",
     "exception": false,
     "start_time": "2022-11-26T14:48:18.990790",
     "status": "completed"
    },
    "tags": []
   },
   "source": [
    "## Save"
   ]
  },
  {
   "cell_type": "code",
   "execution_count": 53,
   "id": "c0451c36",
   "metadata": {
    "execution": {
     "iopub.execute_input": "2022-11-26T14:48:19.039471Z",
     "iopub.status.busy": "2022-11-26T14:48:19.039315Z",
     "iopub.status.idle": "2022-11-26T14:48:19.059796Z",
     "shell.execute_reply": "2022-11-26T14:48:19.059311Z"
    },
    "papermill": {
     "duration": 0.037833,
     "end_time": "2022-11-26T14:48:19.060602",
     "exception": false,
     "start_time": "2022-11-26T14:48:19.022769",
     "status": "completed"
    },
    "tags": []
   },
   "outputs": [
    {
     "data": {
      "text/plain": [
       "PosixPath('/opt/data/results/clustering/null_sims/shuffle_genes/runs/umap-z_score_std-projection-smultixcan-efo_partial-mashr-zscores/GaussianMixture-stability-COVARIANCE_TYPE_full-K_MAX_60-K_MIN_2-N_INIT_10-N_REPS_PER_K_5.pkl')"
      ]
     },
     "metadata": {},
     "output_type": "display_data"
    }
   ],
   "source": [
    "output_filename = Path(\n",
    "    RESULTS_DIR,\n",
    "    generate_result_set_name(\n",
    "        CLUSTERING_OPTIONS,\n",
    "        prefix=f\"{clustering_method_name}-stability-\",\n",
    "        suffix=\".pkl\",\n",
    "    ),\n",
    ").resolve()\n",
    "display(output_filename)"
   ]
  },
  {
   "cell_type": "code",
   "execution_count": 54,
   "id": "93c7c0c4",
   "metadata": {
    "execution": {
     "iopub.execute_input": "2022-11-26T14:48:19.093589Z",
     "iopub.status.busy": "2022-11-26T14:48:19.093436Z",
     "iopub.status.idle": "2022-11-26T14:48:19.112668Z",
     "shell.execute_reply": "2022-11-26T14:48:19.112149Z"
    },
    "papermill": {
     "duration": 0.036722,
     "end_time": "2022-11-26T14:48:19.113500",
     "exception": false,
     "start_time": "2022-11-26T14:48:19.076778",
     "status": "completed"
    },
    "tags": []
   },
   "outputs": [],
   "source": [
    "parts_ari_df.to_pickle(output_filename)"
   ]
  },
  {
   "cell_type": "markdown",
   "id": "f0c802eb",
   "metadata": {
    "papermill": {
     "duration": 0.01592,
     "end_time": "2022-11-26T14:48:19.145419",
     "exception": false,
     "start_time": "2022-11-26T14:48:19.129499",
     "status": "completed"
    },
    "tags": []
   },
   "source": [
    "## Stability plot"
   ]
  },
  {
   "cell_type": "code",
   "execution_count": 55,
   "id": "e21a1797",
   "metadata": {
    "execution": {
     "iopub.execute_input": "2022-11-26T14:48:19.178097Z",
     "iopub.status.busy": "2022-11-26T14:48:19.177943Z",
     "iopub.status.idle": "2022-11-26T14:48:19.199172Z",
     "shell.execute_reply": "2022-11-26T14:48:19.198672Z"
    },
    "papermill": {
     "duration": 0.038531,
     "end_time": "2022-11-26T14:48:19.199967",
     "exception": false,
     "start_time": "2022-11-26T14:48:19.161436",
     "status": "completed"
    },
    "tags": []
   },
   "outputs": [],
   "source": [
    "parts_ari_df_plot = (\n",
    "    parts_ari_df.stack()\n",
    "    .reset_index()\n",
    "    .rename(columns={\"level_0\": \"k\", \"level_1\": \"idx\", 0: \"ari\"})\n",
    ")"
   ]
  },
  {
   "cell_type": "code",
   "execution_count": 56,
   "id": "b65cbe48",
   "metadata": {
    "execution": {
     "iopub.execute_input": "2022-11-26T14:48:19.232728Z",
     "iopub.status.busy": "2022-11-26T14:48:19.232571Z",
     "iopub.status.idle": "2022-11-26T14:48:19.253201Z",
     "shell.execute_reply": "2022-11-26T14:48:19.252709Z"
    },
    "papermill": {
     "duration": 0.038042,
     "end_time": "2022-11-26T14:48:19.254021",
     "exception": false,
     "start_time": "2022-11-26T14:48:19.215979",
     "status": "completed"
    },
    "tags": []
   },
   "outputs": [
    {
     "data": {
      "text/plain": [
       "k        int64\n",
       "idx      int64\n",
       "ari    float64\n",
       "dtype: object"
      ]
     },
     "execution_count": 56,
     "metadata": {},
     "output_type": "execute_result"
    }
   ],
   "source": [
    "parts_ari_df_plot.dtypes"
   ]
  },
  {
   "cell_type": "code",
   "execution_count": 57,
   "id": "fe79fb67",
   "metadata": {
    "execution": {
     "iopub.execute_input": "2022-11-26T14:48:19.286945Z",
     "iopub.status.busy": "2022-11-26T14:48:19.286792Z",
     "iopub.status.idle": "2022-11-26T14:48:19.309151Z",
     "shell.execute_reply": "2022-11-26T14:48:19.308654Z"
    },
    "papermill": {
     "duration": 0.039773,
     "end_time": "2022-11-26T14:48:19.309970",
     "exception": false,
     "start_time": "2022-11-26T14:48:19.270197",
     "status": "completed"
    },
    "tags": []
   },
   "outputs": [
    {
     "data": {
      "text/html": [
       "<div>\n",
       "<style scoped>\n",
       "    .dataframe tbody tr th:only-of-type {\n",
       "        vertical-align: middle;\n",
       "    }\n",
       "\n",
       "    .dataframe tbody tr th {\n",
       "        vertical-align: top;\n",
       "    }\n",
       "\n",
       "    .dataframe thead th {\n",
       "        text-align: right;\n",
       "    }\n",
       "</style>\n",
       "<table border=\"1\" class=\"dataframe\">\n",
       "  <thead>\n",
       "    <tr style=\"text-align: right;\">\n",
       "      <th></th>\n",
       "      <th>k</th>\n",
       "      <th>idx</th>\n",
       "      <th>ari</th>\n",
       "    </tr>\n",
       "  </thead>\n",
       "  <tbody>\n",
       "    <tr>\n",
       "      <th>0</th>\n",
       "      <td>2</td>\n",
       "      <td>0</td>\n",
       "      <td>1.000000</td>\n",
       "    </tr>\n",
       "    <tr>\n",
       "      <th>1</th>\n",
       "      <td>2</td>\n",
       "      <td>1</td>\n",
       "      <td>0.998933</td>\n",
       "    </tr>\n",
       "    <tr>\n",
       "      <th>2</th>\n",
       "      <td>2</td>\n",
       "      <td>2</td>\n",
       "      <td>1.000000</td>\n",
       "    </tr>\n",
       "    <tr>\n",
       "      <th>3</th>\n",
       "      <td>2</td>\n",
       "      <td>3</td>\n",
       "      <td>0.998933</td>\n",
       "    </tr>\n",
       "    <tr>\n",
       "      <th>4</th>\n",
       "      <td>2</td>\n",
       "      <td>4</td>\n",
       "      <td>0.998933</td>\n",
       "    </tr>\n",
       "  </tbody>\n",
       "</table>\n",
       "</div>"
      ],
      "text/plain": [
       "   k  idx       ari\n",
       "0  2    0  1.000000\n",
       "1  2    1  0.998933\n",
       "2  2    2  1.000000\n",
       "3  2    3  0.998933\n",
       "4  2    4  0.998933"
      ]
     },
     "execution_count": 57,
     "metadata": {},
     "output_type": "execute_result"
    }
   ],
   "source": [
    "parts_ari_df_plot.head()"
   ]
  },
  {
   "cell_type": "code",
   "execution_count": 58,
   "id": "8221e03b",
   "metadata": {
    "execution": {
     "iopub.execute_input": "2022-11-26T14:48:19.342951Z",
     "iopub.status.busy": "2022-11-26T14:48:19.342795Z",
     "iopub.status.idle": "2022-11-26T14:48:21.217565Z",
     "shell.execute_reply": "2022-11-26T14:48:21.217276Z"
    },
    "papermill": {
     "duration": 1.893502,
     "end_time": "2022-11-26T14:48:21.219581",
     "exception": false,
     "start_time": "2022-11-26T14:48:19.326079",
     "status": "completed"
    },
    "tags": []
   },
   "outputs": [
    {
     "data": {
      "image/png": "[encoded data removed]",
      "text/plain": [
       "<Figure size 1008x432 with 1 Axes>"
      ]
     },
     "metadata": {},
     "output_type": "display_data"
    }
   ],
   "source": [
    "# with sns.axes_style('whitegrid', {'grid.linestyle': '--'}):\n",
    "with sns.plotting_context(\"talk\", font_scale=0.75), sns.axes_style(\n",
    "    \"whitegrid\", {\"grid.linestyle\": \"--\"}\n",
    "):\n",
    "    fig = plt.figure(figsize=(14, 6))\n",
    "    ax = sns.pointplot(data=parts_ari_df_plot, x=\"k\", y=\"ari\")\n",
    "    ax.set_ylabel(\"Averange ARI\")\n",
    "    ax.set_xlabel(\"Number of clusters ($k$)\")\n",
    "    ax.set_xticklabels(ax.get_xticklabels(), rotation=45)\n",
    "    #     ax.set_ylim(0.0, 1.0)\n",
    "    #     ax.set_xlim(CLUSTERING_OPTIONS['K_MIN'], CLUSTERING_OPTIONS['K_MAX'])\n",
    "    plt.grid(True)\n",
    "    plt.tight_layout()"
   ]
  },
  {
   "cell_type": "code",
   "execution_count": null,
   "id": "9d303339",
   "metadata": {
    "papermill": {
     "duration": 0.034184,
     "end_time": "2022-11-26T14:48:21.289170",
     "exception": false,
     "start_time": "2022-11-26T14:48:21.254986",
     "status": "completed"
    },
    "tags": []
   },
   "outputs": [],
   "source": []
  }
 ],
 "metadata": {
  "jupytext": {
   "cell_metadata_filter": "all,-execution,-papermill,-trusted",
   "formats": "ipynb,py//py:percent"
  },
  "kernelspec": {
   "display_name": "Python 3 (ipykernel)",
   "language": "python",
   "name": "python3"
  },
  "language_info": {
   "codemirror_mode": {
    "name": "ipython",
    "version": 3
   },
   "file_extension": ".py",
   "mimetype": "text/x-python",
   "name": "python",
   "nbconvert_exporter": "python",
   "pygments_lexer": "ipython3",
   "version": "3.8.13"
  },
  "papermill": {
   "default_parameters": {},
   "duration": 2985.858841,
   "end_time": "2022-11-26T14:48:21.628873",
   "environment_variables": {},
   "exception": null,
   "input_path": "nbs/13.1_cluster_analysis_null/00-shuffle_genes/14_02-gmm-umap.ipynb",
   "output_path": "nbs/13.1_cluster_analysis_null/00-shuffle_genes/14_02-gmm-umap.run.ipynb",
   "parameters": {},
   "start_time": "2022-11-26T13:58:35.770032",
   "version": "2.2.2"
  },
  "toc-autonumbering": true,
  "toc-showcode": false,
  "toc-showmarkdowntxt": false,
  "toc-showtags": false
 },
 "nbformat": 4,
 "nbformat_minor": 5
}
