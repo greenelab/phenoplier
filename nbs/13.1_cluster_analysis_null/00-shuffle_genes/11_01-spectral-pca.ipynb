{
 "cells": [
  {
   "cell_type": "markdown",
   "id": "2065cfdc",
   "metadata": {
    "papermill": {
     "duration": 0.012889,
     "end_time": "2022-11-25T04:53:31.762545",
     "exception": false,
     "start_time": "2022-11-25T04:53:31.749656",
     "status": "completed"
    },
    "tags": []
   },
   "source": [
    "# Description"
   ]
  },
  {
   "cell_type": "markdown",
   "id": "e6e35f42",
   "metadata": {
    "papermill": {
     "duration": 0.011878,
     "end_time": "2022-11-25T04:53:31.787054",
     "exception": false,
     "start_time": "2022-11-25T04:53:31.775176",
     "status": "completed"
    },
    "tags": []
   },
   "source": [
    "Runs spectral clustering on the pca version of the data."
   ]
  },
  {
   "cell_type": "markdown",
   "id": "1219e9ee",
   "metadata": {
    "papermill": {
     "duration": 0.012019,
     "end_time": "2022-11-25T04:53:31.811093",
     "exception": false,
     "start_time": "2022-11-25T04:53:31.799074",
     "status": "completed"
    },
    "tags": []
   },
   "source": [
    "# Environment variables"
   ]
  },
  {
   "cell_type": "code",
   "execution_count": 1,
   "id": "bdb960bb",
   "metadata": {
    "execution": {
     "iopub.execute_input": "2022-11-25T04:53:31.834474Z",
     "iopub.status.busy": "2022-11-25T04:53:31.834271Z",
     "iopub.status.idle": "2022-11-25T04:53:31.853453Z",
     "shell.execute_reply": "2022-11-25T04:53:31.852926Z"
    },
    "papermill": {
     "duration": 0.031264,
     "end_time": "2022-11-25T04:53:31.854342",
     "exception": false,
     "start_time": "2022-11-25T04:53:31.823078",
     "status": "completed"
    },
    "tags": []
   },
   "outputs": [
    {
     "data": {
      "text/plain": [
       "10"
      ]
     },
     "metadata": {},
     "output_type": "display_data"
    }
   ],
   "source": [
    "from IPython.display import display\n",
    "\n",
    "import conf\n",
    "\n",
    "N_JOBS = conf.GENERAL[\"N_JOBS\"]\n",
    "display(N_JOBS)"
   ]
  },
  {
   "cell_type": "code",
   "execution_count": 2,
   "id": "9daddbef",
   "metadata": {
    "execution": {
     "iopub.execute_input": "2022-11-25T04:53:31.868141Z",
     "iopub.status.busy": "2022-11-25T04:53:31.867733Z",
     "iopub.status.idle": "2022-11-25T04:53:31.874492Z",
     "shell.execute_reply": "2022-11-25T04:53:31.873982Z"
    },
    "papermill": {
     "duration": 0.014683,
     "end_time": "2022-11-25T04:53:31.875334",
     "exception": false,
     "start_time": "2022-11-25T04:53:31.860651",
     "status": "completed"
    },
    "tags": []
   },
   "outputs": [
    {
     "name": "stdout",
     "output_type": "stream",
     "text": [
      "env: MKL_NUM_THREADS=10\n",
      "env: OPEN_BLAS_NUM_THREADS=10\n",
      "env: NUMEXPR_NUM_THREADS=10\n",
      "env: OMP_NUM_THREADS=10\n"
     ]
    }
   ],
   "source": [
    "%env MKL_NUM_THREADS=$N_JOBS\n",
    "%env OPEN_BLAS_NUM_THREADS=$N_JOBS\n",
    "%env NUMEXPR_NUM_THREADS=$N_JOBS\n",
    "%env OMP_NUM_THREADS=$N_JOBS"
   ]
  },
  {
   "cell_type": "markdown",
   "id": "138c544f",
   "metadata": {
    "papermill": {
     "duration": 0.006259,
     "end_time": "2022-11-25T04:53:31.887949",
     "exception": false,
     "start_time": "2022-11-25T04:53:31.881690",
     "status": "completed"
    },
    "tags": []
   },
   "source": [
    "# Modules loading"
   ]
  },
  {
   "cell_type": "code",
   "execution_count": 3,
   "id": "bc86a631",
   "metadata": {
    "execution": {
     "iopub.execute_input": "2022-11-25T04:53:31.901449Z",
     "iopub.status.busy": "2022-11-25T04:53:31.901278Z",
     "iopub.status.idle": "2022-11-25T04:53:31.915767Z",
     "shell.execute_reply": "2022-11-25T04:53:31.915274Z"
    },
    "papermill": {
     "duration": 0.02234,
     "end_time": "2022-11-25T04:53:31.916718",
     "exception": false,
     "start_time": "2022-11-25T04:53:31.894378",
     "status": "completed"
    },
    "tags": []
   },
   "outputs": [],
   "source": [
    "%load_ext autoreload\n",
    "%autoreload 2"
   ]
  },
  {
   "cell_type": "code",
   "execution_count": 4,
   "id": "4f66b083",
   "metadata": {
    "execution": {
     "iopub.execute_input": "2022-11-25T04:53:31.930228Z",
     "iopub.status.busy": "2022-11-25T04:53:31.929862Z",
     "iopub.status.idle": "2022-11-25T04:53:32.388790Z",
     "shell.execute_reply": "2022-11-25T04:53:32.388309Z"
    },
    "papermill": {
     "duration": 0.467138,
     "end_time": "2022-11-25T04:53:32.390201",
     "exception": false,
     "start_time": "2022-11-25T04:53:31.923063",
     "status": "completed"
    },
    "tags": []
   },
   "outputs": [],
   "source": [
    "from pathlib import Path\n",
    "\n",
    "import numpy as np\n",
    "import pandas as pd\n",
    "import matplotlib.pyplot as plt\n",
    "import seaborn as sns\n",
    "\n",
    "from utils import generate_result_set_name"
   ]
  },
  {
   "cell_type": "markdown",
   "id": "6236d93a",
   "metadata": {
    "papermill": {
     "duration": 0.011836,
     "end_time": "2022-11-25T04:53:32.414709",
     "exception": false,
     "start_time": "2022-11-25T04:53:32.402873",
     "status": "completed"
    },
    "tags": []
   },
   "source": [
    "# Settings"
   ]
  },
  {
   "cell_type": "code",
   "execution_count": 5,
   "id": "c2edf997",
   "metadata": {
    "execution": {
     "iopub.execute_input": "2022-11-25T04:53:32.439562Z",
     "iopub.status.busy": "2022-11-25T04:53:32.439471Z",
     "iopub.status.idle": "2022-11-25T04:53:32.450608Z",
     "shell.execute_reply": "2022-11-25T04:53:32.450188Z"
    },
    "papermill": {
     "duration": 0.0251,
     "end_time": "2022-11-25T04:53:32.451847",
     "exception": false,
     "start_time": "2022-11-25T04:53:32.426747",
     "status": "completed"
    },
    "tags": []
   },
   "outputs": [],
   "source": [
    "np.random.seed(0)"
   ]
  },
  {
   "cell_type": "code",
   "execution_count": 6,
   "id": "6b33e68b",
   "metadata": {
    "execution": {
     "iopub.execute_input": "2022-11-25T04:53:32.501202Z",
     "iopub.status.busy": "2022-11-25T04:53:32.501095Z",
     "iopub.status.idle": "2022-11-25T04:53:32.519287Z",
     "shell.execute_reply": "2022-11-25T04:53:32.518830Z"
    },
    "papermill": {
     "duration": 0.030784,
     "end_time": "2022-11-25T04:53:32.520242",
     "exception": false,
     "start_time": "2022-11-25T04:53:32.489458",
     "status": "completed"
    },
    "tags": []
   },
   "outputs": [],
   "source": [
    "INITIAL_RANDOM_STATE = 40000"
   ]
  },
  {
   "cell_type": "code",
   "execution_count": 7,
   "id": "09b644f4-737a-40f0-8078-ec2118ae2326",
   "metadata": {
    "execution": {
     "iopub.execute_input": "2022-11-25T04:53:32.534201Z",
     "iopub.status.busy": "2022-11-25T04:53:32.533846Z",
     "iopub.status.idle": "2022-11-25T04:53:32.552541Z",
     "shell.execute_reply": "2022-11-25T04:53:32.551995Z"
    },
    "papermill": {
     "duration": 0.026874,
     "end_time": "2022-11-25T04:53:32.553385",
     "exception": false,
     "start_time": "2022-11-25T04:53:32.526511",
     "status": "completed"
    },
    "tags": []
   },
   "outputs": [],
   "source": [
    "NULL_DIR = conf.RESULTS[\"CLUSTERING_NULL_DIR\"] / \"shuffle_genes\""
   ]
  },
  {
   "cell_type": "markdown",
   "id": "0eac3da0",
   "metadata": {
    "papermill": {
     "duration": 0.006189,
     "end_time": "2022-11-25T04:53:32.565862",
     "exception": false,
     "start_time": "2022-11-25T04:53:32.559673",
     "status": "completed"
    },
    "tags": []
   },
   "source": [
    "## Input data"
   ]
  },
  {
   "cell_type": "code",
   "execution_count": 8,
   "id": "8b00ad9f",
   "metadata": {
    "execution": {
     "iopub.execute_input": "2022-11-25T04:53:32.579550Z",
     "iopub.status.busy": "2022-11-25T04:53:32.579174Z",
     "iopub.status.idle": "2022-11-25T04:53:32.597916Z",
     "shell.execute_reply": "2022-11-25T04:53:32.597473Z"
    },
    "papermill": {
     "duration": 0.02645,
     "end_time": "2022-11-25T04:53:32.598812",
     "exception": false,
     "start_time": "2022-11-25T04:53:32.572362",
     "status": "completed"
    },
    "tags": []
   },
   "outputs": [],
   "source": [
    "INPUT_SUBSET = \"pca\""
   ]
  },
  {
   "cell_type": "code",
   "execution_count": 9,
   "id": "7b2c33b9",
   "metadata": {
    "execution": {
     "iopub.execute_input": "2022-11-25T04:53:32.612338Z",
     "iopub.status.busy": "2022-11-25T04:53:32.612052Z",
     "iopub.status.idle": "2022-11-25T04:53:32.629052Z",
     "shell.execute_reply": "2022-11-25T04:53:32.628593Z"
    },
    "papermill": {
     "duration": 0.024635,
     "end_time": "2022-11-25T04:53:32.629833",
     "exception": false,
     "start_time": "2022-11-25T04:53:32.605198",
     "status": "completed"
    },
    "tags": []
   },
   "outputs": [],
   "source": [
    "INPUT_STEM = \"z_score_std-projection-smultixcan-efo_partial-mashr-zscores\""
   ]
  },
  {
   "cell_type": "code",
   "execution_count": 10,
   "id": "4bce3734",
   "metadata": {
    "execution": {
     "iopub.execute_input": "2022-11-25T04:53:32.643651Z",
     "iopub.status.busy": "2022-11-25T04:53:32.643342Z",
     "iopub.status.idle": "2022-11-25T04:53:32.661107Z",
     "shell.execute_reply": "2022-11-25T04:53:32.660643Z"
    },
    "papermill": {
     "duration": 0.025598,
     "end_time": "2022-11-25T04:53:32.661946",
     "exception": false,
     "start_time": "2022-11-25T04:53:32.636348",
     "status": "completed"
    },
    "tags": []
   },
   "outputs": [],
   "source": [
    "DR_OPTIONS = {\n",
    "    \"n_components\": 50,\n",
    "    \"svd_solver\": \"full\",\n",
    "    \"random_state\": 0,\n",
    "}"
   ]
  },
  {
   "cell_type": "code",
   "execution_count": 11,
   "id": "7bd761ff",
   "metadata": {
    "execution": {
     "iopub.execute_input": "2022-11-25T04:53:32.675640Z",
     "iopub.status.busy": "2022-11-25T04:53:32.675300Z",
     "iopub.status.idle": "2022-11-25T04:53:32.696757Z",
     "shell.execute_reply": "2022-11-25T04:53:32.696298Z"
    },
    "papermill": {
     "duration": 0.02935,
     "end_time": "2022-11-25T04:53:32.697573",
     "exception": false,
     "start_time": "2022-11-25T04:53:32.668223",
     "status": "completed"
    },
    "tags": []
   },
   "outputs": [
    {
     "data": {
      "text/plain": [
       "PosixPath('/opt/data/results/clustering/null_sims/shuffle_genes/data_transformations/pca/pca-z_score_std-projection-smultixcan-efo_partial-mashr-zscores-n_components_50-random_state_0-svd_solver_full.pkl')"
      ]
     },
     "metadata": {},
     "output_type": "display_data"
    },
    {
     "data": {
      "text/plain": [
       "'pca-z_score_std-projection-smultixcan-efo_partial-mashr-zscores-n_components_50-random_state_0-svd_solver_full'"
      ]
     },
     "metadata": {},
     "output_type": "display_data"
    }
   ],
   "source": [
    "input_filepath = Path(\n",
    "    NULL_DIR,\n",
    "    \"data_transformations\",\n",
    "    INPUT_SUBSET,\n",
    "    generate_result_set_name(\n",
    "        DR_OPTIONS, prefix=f\"{INPUT_SUBSET}-{INPUT_STEM}-\", suffix=\".pkl\"\n",
    "    ),\n",
    ").resolve()\n",
    "display(input_filepath)\n",
    "\n",
    "assert input_filepath.exists(), \"Input file does not exist\"\n",
    "\n",
    "input_filepath_stem = input_filepath.stem\n",
    "display(input_filepath_stem)"
   ]
  },
  {
   "cell_type": "markdown",
   "id": "242b949d",
   "metadata": {
    "papermill": {
     "duration": 0.006339,
     "end_time": "2022-11-25T04:53:32.710329",
     "exception": false,
     "start_time": "2022-11-25T04:53:32.703990",
     "status": "completed"
    },
    "tags": []
   },
   "source": [
    "## Clustering"
   ]
  },
  {
   "cell_type": "code",
   "execution_count": 12,
   "id": "f85e6054",
   "metadata": {
    "execution": {
     "iopub.execute_input": "2022-11-25T04:53:32.724247Z",
     "iopub.status.busy": "2022-11-25T04:53:32.723966Z",
     "iopub.status.idle": "2022-11-25T04:53:32.811452Z",
     "shell.execute_reply": "2022-11-25T04:53:32.811028Z"
    },
    "papermill": {
     "duration": 0.095532,
     "end_time": "2022-11-25T04:53:32.812268",
     "exception": false,
     "start_time": "2022-11-25T04:53:32.716736",
     "status": "completed"
    },
    "tags": []
   },
   "outputs": [],
   "source": [
    "from sklearn.cluster import SpectralClustering"
   ]
  },
  {
   "cell_type": "code",
   "execution_count": 13,
   "id": "bb190c70",
   "metadata": {
    "execution": {
     "iopub.execute_input": "2022-11-25T04:53:32.825586Z",
     "iopub.status.busy": "2022-11-25T04:53:32.825483Z",
     "iopub.status.idle": "2022-11-25T04:53:32.837629Z",
     "shell.execute_reply": "2022-11-25T04:53:32.837281Z"
    },
    "papermill": {
     "duration": 0.019699,
     "end_time": "2022-11-25T04:53:32.838395",
     "exception": false,
     "start_time": "2022-11-25T04:53:32.818696",
     "status": "completed"
    },
    "tags": []
   },
   "outputs": [],
   "source": [
    "CLUSTERING_ATTRIBUTES_TO_SAVE = [\"n_clusters\"]"
   ]
  },
  {
   "cell_type": "code",
   "execution_count": 14,
   "id": "9a265d53",
   "metadata": {
    "execution": {
     "iopub.execute_input": "2022-11-25T04:53:32.852115Z",
     "iopub.status.busy": "2022-11-25T04:53:32.851904Z",
     "iopub.status.idle": "2022-11-25T04:53:32.863716Z",
     "shell.execute_reply": "2022-11-25T04:53:32.863371Z"
    },
    "papermill": {
     "duration": 0.019374,
     "end_time": "2022-11-25T04:53:32.864496",
     "exception": false,
     "start_time": "2022-11-25T04:53:32.845122",
     "status": "completed"
    },
    "tags": []
   },
   "outputs": [
    {
     "data": {
      "text/plain": [
       "{'K_MIN': 2,\n",
       " 'K_MAX': 60,\n",
       " 'N_REPS_PER_K': 5,\n",
       " 'KMEANS_N_INIT': 10,\n",
       " 'GAMMA': 0.001,\n",
       " 'AFFINITY': 'rbf'}"
      ]
     },
     "metadata": {},
     "output_type": "display_data"
    }
   ],
   "source": [
    "CLUSTERING_OPTIONS = {}\n",
    "\n",
    "CLUSTERING_OPTIONS[\"K_MIN\"] = 2\n",
    "CLUSTERING_OPTIONS[\"K_MAX\"] = 60  # sqrt(3749)\n",
    "CLUSTERING_OPTIONS[\"N_REPS_PER_K\"] = 5\n",
    "CLUSTERING_OPTIONS[\"KMEANS_N_INIT\"] = 10\n",
    "CLUSTERING_OPTIONS[\"GAMMA\"] = 1.0e-03\n",
    "CLUSTERING_OPTIONS[\"AFFINITY\"] = \"rbf\"\n",
    "\n",
    "display(CLUSTERING_OPTIONS)"
   ]
  },
  {
   "cell_type": "code",
   "execution_count": 15,
   "id": "5eb9a470",
   "metadata": {
    "execution": {
     "iopub.execute_input": "2022-11-25T04:53:32.878250Z",
     "iopub.status.busy": "2022-11-25T04:53:32.878020Z",
     "iopub.status.idle": "2022-11-25T04:53:32.890618Z",
     "shell.execute_reply": "2022-11-25T04:53:32.890266Z"
    },
    "papermill": {
     "duration": 0.020487,
     "end_time": "2022-11-25T04:53:32.891471",
     "exception": false,
     "start_time": "2022-11-25T04:53:32.870984",
     "status": "completed"
    },
    "tags": []
   },
   "outputs": [],
   "source": [
    "CLUSTERERS = {}\n",
    "\n",
    "idx = 0\n",
    "random_state = INITIAL_RANDOM_STATE\n",
    "\n",
    "for k in range(CLUSTERING_OPTIONS[\"K_MIN\"], CLUSTERING_OPTIONS[\"K_MAX\"] + 1):\n",
    "    for i in range(CLUSTERING_OPTIONS[\"N_REPS_PER_K\"]):\n",
    "        clus = SpectralClustering(\n",
    "            eigen_solver=\"arpack\",\n",
    "            n_clusters=k,\n",
    "            n_init=CLUSTERING_OPTIONS[\"KMEANS_N_INIT\"],\n",
    "            affinity=CLUSTERING_OPTIONS[\"AFFINITY\"],\n",
    "            gamma=CLUSTERING_OPTIONS[\"GAMMA\"],\n",
    "            random_state=random_state,\n",
    "        )\n",
    "\n",
    "        method_name = type(clus).__name__\n",
    "        CLUSTERERS[f\"{method_name} #{idx}\"] = clus\n",
    "\n",
    "        random_state = random_state + 1\n",
    "        idx = idx + 1"
   ]
  },
  {
   "cell_type": "code",
   "execution_count": 16,
   "id": "76ffed7a",
   "metadata": {
    "execution": {
     "iopub.execute_input": "2022-11-25T04:53:32.905112Z",
     "iopub.status.busy": "2022-11-25T04:53:32.904898Z",
     "iopub.status.idle": "2022-11-25T04:53:32.916005Z",
     "shell.execute_reply": "2022-11-25T04:53:32.915673Z"
    },
    "papermill": {
     "duration": 0.018733,
     "end_time": "2022-11-25T04:53:32.916780",
     "exception": false,
     "start_time": "2022-11-25T04:53:32.898047",
     "status": "completed"
    },
    "tags": []
   },
   "outputs": [
    {
     "data": {
      "text/plain": [
       "295"
      ]
     },
     "metadata": {},
     "output_type": "display_data"
    }
   ],
   "source": [
    "display(len(CLUSTERERS))"
   ]
  },
  {
   "cell_type": "code",
   "execution_count": 17,
   "id": "2cc3a286",
   "metadata": {
    "execution": {
     "iopub.execute_input": "2022-11-25T04:53:32.930631Z",
     "iopub.status.busy": "2022-11-25T04:53:32.930413Z",
     "iopub.status.idle": "2022-11-25T04:53:32.943060Z",
     "shell.execute_reply": "2022-11-25T04:53:32.942724Z"
    },
    "papermill": {
     "duration": 0.020298,
     "end_time": "2022-11-25T04:53:32.943817",
     "exception": false,
     "start_time": "2022-11-25T04:53:32.923519",
     "status": "completed"
    },
    "tags": []
   },
   "outputs": [
    {
     "data": {
      "text/plain": [
       "('SpectralClustering #0',\n",
       " SpectralClustering(eigen_solver='arpack', gamma=0.001, n_clusters=2,\n",
       "                    random_state=40000))"
      ]
     },
     "metadata": {},
     "output_type": "display_data"
    },
    {
     "data": {
      "text/plain": [
       "('SpectralClustering #1',\n",
       " SpectralClustering(eigen_solver='arpack', gamma=0.001, n_clusters=2,\n",
       "                    random_state=40001))"
      ]
     },
     "metadata": {},
     "output_type": "display_data"
    }
   ],
   "source": [
    "_iter = iter(CLUSTERERS.items())\n",
    "display(next(_iter))\n",
    "display(next(_iter))"
   ]
  },
  {
   "cell_type": "code",
   "execution_count": 18,
   "id": "c4c88ee6",
   "metadata": {
    "execution": {
     "iopub.execute_input": "2022-11-25T04:53:32.957711Z",
     "iopub.status.busy": "2022-11-25T04:53:32.957484Z",
     "iopub.status.idle": "2022-11-25T04:53:32.968477Z",
     "shell.execute_reply": "2022-11-25T04:53:32.968135Z"
    },
    "papermill": {
     "duration": 0.018667,
     "end_time": "2022-11-25T04:53:32.969184",
     "exception": false,
     "start_time": "2022-11-25T04:53:32.950517",
     "status": "completed"
    },
    "tags": []
   },
   "outputs": [
    {
     "data": {
      "text/plain": [
       "'SpectralClustering'"
      ]
     },
     "metadata": {},
     "output_type": "display_data"
    }
   ],
   "source": [
    "clustering_method_name = method_name\n",
    "display(clustering_method_name)"
   ]
  },
  {
   "cell_type": "markdown",
   "id": "7cac8aa4",
   "metadata": {
    "papermill": {
     "duration": 0.006621,
     "end_time": "2022-11-25T04:53:32.982706",
     "exception": false,
     "start_time": "2022-11-25T04:53:32.976085",
     "status": "completed"
    },
    "tags": []
   },
   "source": [
    "## Output directory"
   ]
  },
  {
   "cell_type": "code",
   "execution_count": 19,
   "id": "3574d510",
   "metadata": {
    "execution": {
     "iopub.execute_input": "2022-11-25T04:53:32.996932Z",
     "iopub.status.busy": "2022-11-25T04:53:32.996691Z",
     "iopub.status.idle": "2022-11-25T04:53:33.014898Z",
     "shell.execute_reply": "2022-11-25T04:53:33.014491Z"
    },
    "papermill": {
     "duration": 0.02629,
     "end_time": "2022-11-25T04:53:33.015742",
     "exception": false,
     "start_time": "2022-11-25T04:53:32.989452",
     "status": "completed"
    },
    "tags": []
   },
   "outputs": [
    {
     "data": {
      "text/plain": [
       "PosixPath('/opt/data/results/clustering/null_sims/shuffle_genes/runs/pca-z_score_std-projection-smultixcan-efo_partial-mashr-zscores')"
      ]
     },
     "metadata": {},
     "output_type": "display_data"
    }
   ],
   "source": [
    "# output dir for this notebook\n",
    "RESULTS_DIR = Path(\n",
    "    NULL_DIR,\n",
    "    \"runs\",\n",
    "    f\"{INPUT_SUBSET}-{INPUT_STEM}\",\n",
    ").resolve()\n",
    "RESULTS_DIR.mkdir(parents=True, exist_ok=True)\n",
    "\n",
    "display(RESULTS_DIR)"
   ]
  },
  {
   "cell_type": "markdown",
   "id": "7ba656f8",
   "metadata": {
    "papermill": {
     "duration": 0.006637,
     "end_time": "2022-11-25T04:53:33.029140",
     "exception": false,
     "start_time": "2022-11-25T04:53:33.022503",
     "status": "completed"
    },
    "tags": []
   },
   "source": [
    "# Load input file"
   ]
  },
  {
   "cell_type": "code",
   "execution_count": 20,
   "id": "5511350e",
   "metadata": {
    "execution": {
     "iopub.execute_input": "2022-11-25T04:53:33.043433Z",
     "iopub.status.busy": "2022-11-25T04:53:33.043160Z",
     "iopub.status.idle": "2022-11-25T04:53:33.066283Z",
     "shell.execute_reply": "2022-11-25T04:53:33.065813Z"
    },
    "papermill": {
     "duration": 0.031133,
     "end_time": "2022-11-25T04:53:33.067120",
     "exception": false,
     "start_time": "2022-11-25T04:53:33.035987",
     "status": "completed"
    },
    "tags": []
   },
   "outputs": [],
   "source": [
    "data = pd.read_pickle(input_filepath)"
   ]
  },
  {
   "cell_type": "code",
   "execution_count": 21,
   "id": "4c1765aa",
   "metadata": {
    "execution": {
     "iopub.execute_input": "2022-11-25T04:53:33.081760Z",
     "iopub.status.busy": "2022-11-25T04:53:33.081366Z",
     "iopub.status.idle": "2022-11-25T04:53:33.103347Z",
     "shell.execute_reply": "2022-11-25T04:53:33.102872Z"
    },
    "papermill": {
     "duration": 0.030381,
     "end_time": "2022-11-25T04:53:33.104202",
     "exception": false,
     "start_time": "2022-11-25T04:53:33.073821",
     "status": "completed"
    },
    "tags": []
   },
   "outputs": [
    {
     "data": {
      "text/plain": [
       "(3752, 50)"
      ]
     },
     "execution_count": 21,
     "metadata": {},
     "output_type": "execute_result"
    }
   ],
   "source": [
    "data.shape"
   ]
  },
  {
   "cell_type": "code",
   "execution_count": 22,
   "id": "a77fcc28",
   "metadata": {
    "execution": {
     "iopub.execute_input": "2022-11-25T04:53:33.118528Z",
     "iopub.status.busy": "2022-11-25T04:53:33.118244Z",
     "iopub.status.idle": "2022-11-25T04:53:33.155341Z",
     "shell.execute_reply": "2022-11-25T04:53:33.154891Z"
    },
    "papermill": {
     "duration": 0.045197,
     "end_time": "2022-11-25T04:53:33.156169",
     "exception": false,
     "start_time": "2022-11-25T04:53:33.110972",
     "status": "completed"
    },
    "tags": []
   },
   "outputs": [
    {
     "data": {
      "text/html": [
       "<div>\n",
       "<style scoped>\n",
       "    .dataframe tbody tr th:only-of-type {\n",
       "        vertical-align: middle;\n",
       "    }\n",
       "\n",
       "    .dataframe tbody tr th {\n",
       "        vertical-align: top;\n",
       "    }\n",
       "\n",
       "    .dataframe thead th {\n",
       "        text-align: right;\n",
       "    }\n",
       "</style>\n",
       "<table border=\"1\" class=\"dataframe\">\n",
       "  <thead>\n",
       "    <tr style=\"text-align: right;\">\n",
       "      <th></th>\n",
       "      <th>PCA1</th>\n",
       "      <th>PCA2</th>\n",
       "      <th>PCA3</th>\n",
       "      <th>PCA4</th>\n",
       "      <th>PCA5</th>\n",
       "      <th>PCA6</th>\n",
       "      <th>PCA7</th>\n",
       "      <th>PCA8</th>\n",
       "      <th>PCA9</th>\n",
       "      <th>PCA10</th>\n",
       "      <th>...</th>\n",
       "      <th>PCA41</th>\n",
       "      <th>PCA42</th>\n",
       "      <th>PCA43</th>\n",
       "      <th>PCA44</th>\n",
       "      <th>PCA45</th>\n",
       "      <th>PCA46</th>\n",
       "      <th>PCA47</th>\n",
       "      <th>PCA48</th>\n",
       "      <th>PCA49</th>\n",
       "      <th>PCA50</th>\n",
       "    </tr>\n",
       "  </thead>\n",
       "  <tbody>\n",
       "    <tr>\n",
       "      <th>100001_raw-Food_weight</th>\n",
       "      <td>-0.844744</td>\n",
       "      <td>3.134501</td>\n",
       "      <td>-1.885185</td>\n",
       "      <td>0.800877</td>\n",
       "      <td>-0.283830</td>\n",
       "      <td>0.027480</td>\n",
       "      <td>0.611143</td>\n",
       "      <td>1.485636</td>\n",
       "      <td>0.202757</td>\n",
       "      <td>0.450528</td>\n",
       "      <td>...</td>\n",
       "      <td>2.547792</td>\n",
       "      <td>-1.128343</td>\n",
       "      <td>-0.907277</td>\n",
       "      <td>-0.049764</td>\n",
       "      <td>-1.669310</td>\n",
       "      <td>-0.721449</td>\n",
       "      <td>2.077602</td>\n",
       "      <td>0.799708</td>\n",
       "      <td>1.271524</td>\n",
       "      <td>-1.871291</td>\n",
       "    </tr>\n",
       "    <tr>\n",
       "      <th>100002_raw-Energy</th>\n",
       "      <td>-0.078568</td>\n",
       "      <td>-1.675988</td>\n",
       "      <td>-0.826605</td>\n",
       "      <td>0.872125</td>\n",
       "      <td>-1.257784</td>\n",
       "      <td>0.276976</td>\n",
       "      <td>0.123534</td>\n",
       "      <td>-0.225430</td>\n",
       "      <td>1.291625</td>\n",
       "      <td>-0.406739</td>\n",
       "      <td>...</td>\n",
       "      <td>-1.595450</td>\n",
       "      <td>-0.979352</td>\n",
       "      <td>2.081672</td>\n",
       "      <td>-1.266333</td>\n",
       "      <td>-1.430714</td>\n",
       "      <td>2.733243</td>\n",
       "      <td>-0.293793</td>\n",
       "      <td>-1.427649</td>\n",
       "      <td>-1.315076</td>\n",
       "      <td>1.458368</td>\n",
       "    </tr>\n",
       "    <tr>\n",
       "      <th>100003_raw-Protein</th>\n",
       "      <td>-1.966843</td>\n",
       "      <td>-0.720839</td>\n",
       "      <td>-0.621370</td>\n",
       "      <td>1.066950</td>\n",
       "      <td>0.612613</td>\n",
       "      <td>-1.143542</td>\n",
       "      <td>-3.256801</td>\n",
       "      <td>0.637131</td>\n",
       "      <td>1.275239</td>\n",
       "      <td>-1.746677</td>\n",
       "      <td>...</td>\n",
       "      <td>-0.898644</td>\n",
       "      <td>1.423939</td>\n",
       "      <td>0.200717</td>\n",
       "      <td>0.080861</td>\n",
       "      <td>-0.910925</td>\n",
       "      <td>-0.266207</td>\n",
       "      <td>1.036173</td>\n",
       "      <td>0.326860</td>\n",
       "      <td>-0.197079</td>\n",
       "      <td>-0.322935</td>\n",
       "    </tr>\n",
       "    <tr>\n",
       "      <th>100004_raw-Fat</th>\n",
       "      <td>0.332482</td>\n",
       "      <td>-0.928841</td>\n",
       "      <td>-0.216911</td>\n",
       "      <td>0.486861</td>\n",
       "      <td>0.454021</td>\n",
       "      <td>-1.316312</td>\n",
       "      <td>0.226607</td>\n",
       "      <td>2.504342</td>\n",
       "      <td>-0.740799</td>\n",
       "      <td>-2.027466</td>\n",
       "      <td>...</td>\n",
       "      <td>0.101529</td>\n",
       "      <td>0.032200</td>\n",
       "      <td>-0.658490</td>\n",
       "      <td>-0.288036</td>\n",
       "      <td>1.399674</td>\n",
       "      <td>2.502066</td>\n",
       "      <td>1.872188</td>\n",
       "      <td>-0.239398</td>\n",
       "      <td>-1.349670</td>\n",
       "      <td>-0.457304</td>\n",
       "    </tr>\n",
       "    <tr>\n",
       "      <th>100005_raw-Carbohydrate</th>\n",
       "      <td>2.106644</td>\n",
       "      <td>1.025306</td>\n",
       "      <td>0.405959</td>\n",
       "      <td>2.645132</td>\n",
       "      <td>0.881081</td>\n",
       "      <td>-1.718546</td>\n",
       "      <td>0.693749</td>\n",
       "      <td>0.135447</td>\n",
       "      <td>-0.303163</td>\n",
       "      <td>-0.525056</td>\n",
       "      <td>...</td>\n",
       "      <td>0.612486</td>\n",
       "      <td>-0.769634</td>\n",
       "      <td>-0.264214</td>\n",
       "      <td>3.150728</td>\n",
       "      <td>-1.403396</td>\n",
       "      <td>2.893334</td>\n",
       "      <td>0.900700</td>\n",
       "      <td>0.200481</td>\n",
       "      <td>-2.369759</td>\n",
       "      <td>-0.348016</td>\n",
       "    </tr>\n",
       "  </tbody>\n",
       "</table>\n",
       "<p>5 rows × 50 columns</p>\n",
       "</div>"
      ],
      "text/plain": [
       "                             PCA1      PCA2      PCA3      PCA4      PCA5  \\\n",
       "100001_raw-Food_weight  -0.844744  3.134501 -1.885185  0.800877 -0.283830   \n",
       "100002_raw-Energy       -0.078568 -1.675988 -0.826605  0.872125 -1.257784   \n",
       "100003_raw-Protein      -1.966843 -0.720839 -0.621370  1.066950  0.612613   \n",
       "100004_raw-Fat           0.332482 -0.928841 -0.216911  0.486861  0.454021   \n",
       "100005_raw-Carbohydrate  2.106644  1.025306  0.405959  2.645132  0.881081   \n",
       "\n",
       "                             PCA6      PCA7      PCA8      PCA9     PCA10  \\\n",
       "100001_raw-Food_weight   0.027480  0.611143  1.485636  0.202757  0.450528   \n",
       "100002_raw-Energy        0.276976  0.123534 -0.225430  1.291625 -0.406739   \n",
       "100003_raw-Protein      -1.143542 -3.256801  0.637131  1.275239 -1.746677   \n",
       "100004_raw-Fat          -1.316312  0.226607  2.504342 -0.740799 -2.027466   \n",
       "100005_raw-Carbohydrate -1.718546  0.693749  0.135447 -0.303163 -0.525056   \n",
       "\n",
       "                         ...     PCA41     PCA42     PCA43     PCA44  \\\n",
       "100001_raw-Food_weight   ...  2.547792 -1.128343 -0.907277 -0.049764   \n",
       "100002_raw-Energy        ... -1.595450 -0.979352  2.081672 -1.266333   \n",
       "100003_raw-Protein       ... -0.898644  1.423939  0.200717  0.080861   \n",
       "100004_raw-Fat           ...  0.101529  0.032200 -0.658490 -0.288036   \n",
       "100005_raw-Carbohydrate  ...  0.612486 -0.769634 -0.264214  3.150728   \n",
       "\n",
       "                            PCA45     PCA46     PCA47     PCA48     PCA49  \\\n",
       "100001_raw-Food_weight  -1.669310 -0.721449  2.077602  0.799708  1.271524   \n",
       "100002_raw-Energy       -1.430714  2.733243 -0.293793 -1.427649 -1.315076   \n",
       "100003_raw-Protein      -0.910925 -0.266207  1.036173  0.326860 -0.197079   \n",
       "100004_raw-Fat           1.399674  2.502066  1.872188 -0.239398 -1.349670   \n",
       "100005_raw-Carbohydrate -1.403396  2.893334  0.900700  0.200481 -2.369759   \n",
       "\n",
       "                            PCA50  \n",
       "100001_raw-Food_weight  -1.871291  \n",
       "100002_raw-Energy        1.458368  \n",
       "100003_raw-Protein      -0.322935  \n",
       "100004_raw-Fat          -0.457304  \n",
       "100005_raw-Carbohydrate -0.348016  \n",
       "\n",
       "[5 rows x 50 columns]"
      ]
     },
     "execution_count": 22,
     "metadata": {},
     "output_type": "execute_result"
    }
   ],
   "source": [
    "data.head()"
   ]
  },
  {
   "cell_type": "code",
   "execution_count": 23,
   "id": "164c4f7a",
   "metadata": {
    "execution": {
     "iopub.execute_input": "2022-11-25T04:53:33.171230Z",
     "iopub.status.busy": "2022-11-25T04:53:33.170868Z",
     "iopub.status.idle": "2022-11-25T04:53:33.192370Z",
     "shell.execute_reply": "2022-11-25T04:53:33.191861Z"
    },
    "papermill": {
     "duration": 0.029966,
     "end_time": "2022-11-25T04:53:33.193337",
     "exception": false,
     "start_time": "2022-11-25T04:53:33.163371",
     "status": "completed"
    },
    "tags": []
   },
   "outputs": [],
   "source": [
    "assert not data.isna().any().any()"
   ]
  },
  {
   "cell_type": "markdown",
   "id": "8457283e",
   "metadata": {
    "papermill": {
     "duration": 0.007025,
     "end_time": "2022-11-25T04:53:33.207291",
     "exception": false,
     "start_time": "2022-11-25T04:53:33.200266",
     "status": "completed"
    },
    "tags": []
   },
   "source": [
    "# Clustering"
   ]
  },
  {
   "cell_type": "markdown",
   "id": "0b9c63c1",
   "metadata": {
    "papermill": {
     "duration": 0.006835,
     "end_time": "2022-11-25T04:53:33.221034",
     "exception": false,
     "start_time": "2022-11-25T04:53:33.214199",
     "status": "completed"
    },
    "tags": []
   },
   "source": [
    "## Generate ensemble"
   ]
  },
  {
   "cell_type": "code",
   "execution_count": 24,
   "id": "ad23ebb6",
   "metadata": {
    "execution": {
     "iopub.execute_input": "2022-11-25T04:53:33.236120Z",
     "iopub.status.busy": "2022-11-25T04:53:33.235733Z",
     "iopub.status.idle": "2022-11-25T04:53:33.260864Z",
     "shell.execute_reply": "2022-11-25T04:53:33.260395Z"
    },
    "papermill": {
     "duration": 0.033653,
     "end_time": "2022-11-25T04:53:33.261767",
     "exception": false,
     "start_time": "2022-11-25T04:53:33.228114",
     "status": "completed"
    },
    "tags": []
   },
   "outputs": [],
   "source": [
    "from clustering.ensembles.utils import generate_ensemble"
   ]
  },
  {
   "cell_type": "code",
   "execution_count": 25,
   "id": "e803fee6",
   "metadata": {
    "execution": {
     "iopub.execute_input": "2022-11-25T04:53:33.276741Z",
     "iopub.status.busy": "2022-11-25T04:53:33.276353Z",
     "iopub.status.idle": "2022-11-25T05:01:01.334866Z",
     "shell.execute_reply": "2022-11-25T05:01:01.334586Z"
    },
    "papermill": {
     "duration": 448.067245,
     "end_time": "2022-11-25T05:01:01.335939",
     "exception": false,
     "start_time": "2022-11-25T04:53:33.268694",
     "status": "completed"
    },
    "tags": []
   },
   "outputs": [
    {
     "name": "stderr",
     "output_type": "stream",
     "text": [
      "100%|██████████| 295/295 [07:28<00:00,  1.52s/it]\n"
     ]
    }
   ],
   "source": [
    "ensemble = generate_ensemble(\n",
    "    data,\n",
    "    CLUSTERERS,\n",
    "    attributes=CLUSTERING_ATTRIBUTES_TO_SAVE,\n",
    ")"
   ]
  },
  {
   "cell_type": "code",
   "execution_count": 26,
   "id": "e26876ad",
   "metadata": {
    "execution": {
     "iopub.execute_input": "2022-11-25T05:01:01.378388Z",
     "iopub.status.busy": "2022-11-25T05:01:01.378177Z",
     "iopub.status.idle": "2022-11-25T05:01:01.391402Z",
     "shell.execute_reply": "2022-11-25T05:01:01.391144Z"
    },
    "papermill": {
     "duration": 0.031958,
     "end_time": "2022-11-25T05:01:01.392394",
     "exception": false,
     "start_time": "2022-11-25T05:01:01.360436",
     "status": "completed"
    },
    "tags": []
   },
   "outputs": [
    {
     "data": {
      "text/plain": [
       "(295, 3)"
      ]
     },
     "execution_count": 26,
     "metadata": {},
     "output_type": "execute_result"
    }
   ],
   "source": [
    "# the number should be close to 295 (the number of partitions generated by k-means/spectral clustering)\n",
    "ensemble.shape"
   ]
  },
  {
   "cell_type": "code",
   "execution_count": 27,
   "id": "4b18215d",
   "metadata": {
    "execution": {
     "iopub.execute_input": "2022-11-25T05:01:01.433009Z",
     "iopub.status.busy": "2022-11-25T05:01:01.432798Z",
     "iopub.status.idle": "2022-11-25T05:01:01.451893Z",
     "shell.execute_reply": "2022-11-25T05:01:01.451633Z"
    },
    "papermill": {
     "duration": 0.03598,
     "end_time": "2022-11-25T05:01:01.452871",
     "exception": false,
     "start_time": "2022-11-25T05:01:01.416891",
     "status": "completed"
    },
    "tags": []
   },
   "outputs": [
    {
     "data": {
      "text/html": [
       "<div>\n",
       "<style scoped>\n",
       "    .dataframe tbody tr th:only-of-type {\n",
       "        vertical-align: middle;\n",
       "    }\n",
       "\n",
       "    .dataframe tbody tr th {\n",
       "        vertical-align: top;\n",
       "    }\n",
       "\n",
       "    .dataframe thead th {\n",
       "        text-align: right;\n",
       "    }\n",
       "</style>\n",
       "<table border=\"1\" class=\"dataframe\">\n",
       "  <thead>\n",
       "    <tr style=\"text-align: right;\">\n",
       "      <th></th>\n",
       "      <th>clusterer_params</th>\n",
       "      <th>partition</th>\n",
       "      <th>n_clusters</th>\n",
       "    </tr>\n",
       "    <tr>\n",
       "      <th>clusterer_id</th>\n",
       "      <th></th>\n",
       "      <th></th>\n",
       "      <th></th>\n",
       "    </tr>\n",
       "  </thead>\n",
       "  <tbody>\n",
       "    <tr>\n",
       "      <th>SpectralClustering #0</th>\n",
       "      <td>{'affinity': 'rbf', 'assign_labels': 'kmeans',...</td>\n",
       "      <td>[1.0, 1.0, 1.0, 0.0, 1.0, 0.0, 0.0, 1.0, 0.0, ...</td>\n",
       "      <td>2</td>\n",
       "    </tr>\n",
       "    <tr>\n",
       "      <th>SpectralClustering #1</th>\n",
       "      <td>{'affinity': 'rbf', 'assign_labels': 'kmeans',...</td>\n",
       "      <td>[1.0, 1.0, 1.0, 0.0, 1.0, 0.0, 0.0, 1.0, 0.0, ...</td>\n",
       "      <td>2</td>\n",
       "    </tr>\n",
       "    <tr>\n",
       "      <th>SpectralClustering #2</th>\n",
       "      <td>{'affinity': 'rbf', 'assign_labels': 'kmeans',...</td>\n",
       "      <td>[0.0, 0.0, 0.0, 1.0, 0.0, 1.0, 1.0, 0.0, 1.0, ...</td>\n",
       "      <td>2</td>\n",
       "    </tr>\n",
       "    <tr>\n",
       "      <th>SpectralClustering #3</th>\n",
       "      <td>{'affinity': 'rbf', 'assign_labels': 'kmeans',...</td>\n",
       "      <td>[1.0, 1.0, 1.0, 0.0, 1.0, 0.0, 0.0, 1.0, 0.0, ...</td>\n",
       "      <td>2</td>\n",
       "    </tr>\n",
       "    <tr>\n",
       "      <th>SpectralClustering #4</th>\n",
       "      <td>{'affinity': 'rbf', 'assign_labels': 'kmeans',...</td>\n",
       "      <td>[1.0, 1.0, 1.0, 0.0, 1.0, 0.0, 0.0, 1.0, 0.0, ...</td>\n",
       "      <td>2</td>\n",
       "    </tr>\n",
       "  </tbody>\n",
       "</table>\n",
       "</div>"
      ],
      "text/plain": [
       "                                                        clusterer_params  \\\n",
       "clusterer_id                                                               \n",
       "SpectralClustering #0  {'affinity': 'rbf', 'assign_labels': 'kmeans',...   \n",
       "SpectralClustering #1  {'affinity': 'rbf', 'assign_labels': 'kmeans',...   \n",
       "SpectralClustering #2  {'affinity': 'rbf', 'assign_labels': 'kmeans',...   \n",
       "SpectralClustering #3  {'affinity': 'rbf', 'assign_labels': 'kmeans',...   \n",
       "SpectralClustering #4  {'affinity': 'rbf', 'assign_labels': 'kmeans',...   \n",
       "\n",
       "                                                               partition  \\\n",
       "clusterer_id                                                               \n",
       "SpectralClustering #0  [1.0, 1.0, 1.0, 0.0, 1.0, 0.0, 0.0, 1.0, 0.0, ...   \n",
       "SpectralClustering #1  [1.0, 1.0, 1.0, 0.0, 1.0, 0.0, 0.0, 1.0, 0.0, ...   \n",
       "SpectralClustering #2  [0.0, 0.0, 0.0, 1.0, 0.0, 1.0, 1.0, 0.0, 1.0, ...   \n",
       "SpectralClustering #3  [1.0, 1.0, 1.0, 0.0, 1.0, 0.0, 0.0, 1.0, 0.0, ...   \n",
       "SpectralClustering #4  [1.0, 1.0, 1.0, 0.0, 1.0, 0.0, 0.0, 1.0, 0.0, ...   \n",
       "\n",
       "                       n_clusters  \n",
       "clusterer_id                       \n",
       "SpectralClustering #0           2  \n",
       "SpectralClustering #1           2  \n",
       "SpectralClustering #2           2  \n",
       "SpectralClustering #3           2  \n",
       "SpectralClustering #4           2  "
      ]
     },
     "execution_count": 27,
     "metadata": {},
     "output_type": "execute_result"
    }
   ],
   "source": [
    "ensemble.head()"
   ]
  },
  {
   "cell_type": "code",
   "execution_count": 28,
   "id": "3c8603a4",
   "metadata": {
    "execution": {
     "iopub.execute_input": "2022-11-25T05:01:01.490727Z",
     "iopub.status.busy": "2022-11-25T05:01:01.490351Z",
     "iopub.status.idle": "2022-11-25T05:01:01.513708Z",
     "shell.execute_reply": "2022-11-25T05:01:01.513256Z"
    },
    "papermill": {
     "duration": 0.040729,
     "end_time": "2022-11-25T05:01:01.515261",
     "exception": false,
     "start_time": "2022-11-25T05:01:01.474532",
     "status": "completed"
    },
    "tags": []
   },
   "outputs": [
    {
     "data": {
      "text/plain": [
       "60    5\n",
       "16    5\n",
       "28    5\n",
       "27    5\n",
       "26    5\n",
       "Name: n_clusters, dtype: int64"
      ]
     },
     "execution_count": 28,
     "metadata": {},
     "output_type": "execute_result"
    }
   ],
   "source": [
    "ensemble[\"n_clusters\"].value_counts().head()"
   ]
  },
  {
   "cell_type": "code",
   "execution_count": 29,
   "id": "7d05d5f7",
   "metadata": {
    "execution": {
     "iopub.execute_input": "2022-11-25T05:01:01.568744Z",
     "iopub.status.busy": "2022-11-25T05:01:01.568483Z",
     "iopub.status.idle": "2022-11-25T05:01:01.583464Z",
     "shell.execute_reply": "2022-11-25T05:01:01.583208Z"
    },
    "papermill": {
     "duration": 0.038686,
     "end_time": "2022-11-25T05:01:01.584424",
     "exception": false,
     "start_time": "2022-11-25T05:01:01.545738",
     "status": "completed"
    },
    "tags": []
   },
   "outputs": [
    {
     "data": {
      "text/plain": [
       "count    295.000000\n",
       "mean      31.000000\n",
       "std       17.058323\n",
       "min        2.000000\n",
       "25%       16.000000\n",
       "50%       31.000000\n",
       "75%       46.000000\n",
       "max       60.000000\n",
       "Name: n_clusters, dtype: float64"
      ]
     },
     "metadata": {},
     "output_type": "display_data"
    }
   ],
   "source": [
    "ensemble_stats = ensemble[\"n_clusters\"].describe()\n",
    "display(ensemble_stats)"
   ]
  },
  {
   "cell_type": "markdown",
   "id": "bd42d0f1",
   "metadata": {
    "papermill": {
     "duration": 0.015384,
     "end_time": "2022-11-25T05:01:01.624451",
     "exception": false,
     "start_time": "2022-11-25T05:01:01.609067",
     "status": "completed"
    },
    "tags": []
   },
   "source": [
    "## Testing"
   ]
  },
  {
   "cell_type": "code",
   "execution_count": 30,
   "id": "741faa02",
   "metadata": {
    "execution": {
     "iopub.execute_input": "2022-11-25T05:01:01.655995Z",
     "iopub.status.busy": "2022-11-25T05:01:01.655671Z",
     "iopub.status.idle": "2022-11-25T05:01:01.674248Z",
     "shell.execute_reply": "2022-11-25T05:01:01.673835Z"
    },
    "papermill": {
     "duration": 0.035283,
     "end_time": "2022-11-25T05:01:01.675092",
     "exception": false,
     "start_time": "2022-11-25T05:01:01.639809",
     "status": "completed"
    },
    "tags": []
   },
   "outputs": [],
   "source": [
    "assert ensemble_stats[\"min\"] > 1"
   ]
  },
  {
   "cell_type": "code",
   "execution_count": 31,
   "id": "9e963c53",
   "metadata": {
    "execution": {
     "iopub.execute_input": "2022-11-25T05:01:01.706842Z",
     "iopub.status.busy": "2022-11-25T05:01:01.706543Z",
     "iopub.status.idle": "2022-11-25T05:01:01.722287Z",
     "shell.execute_reply": "2022-11-25T05:01:01.721986Z"
    },
    "papermill": {
     "duration": 0.032253,
     "end_time": "2022-11-25T05:01:01.723094",
     "exception": false,
     "start_time": "2022-11-25T05:01:01.690841",
     "status": "completed"
    },
    "tags": []
   },
   "outputs": [],
   "source": [
    "assert not ensemble[\"n_clusters\"].isna().any()"
   ]
  },
  {
   "cell_type": "code",
   "execution_count": 32,
   "id": "5c3b15ab",
   "metadata": {
    "execution": {
     "iopub.execute_input": "2022-11-25T05:01:01.754988Z",
     "iopub.status.busy": "2022-11-25T05:01:01.754733Z",
     "iopub.status.idle": "2022-11-25T05:01:01.768170Z",
     "shell.execute_reply": "2022-11-25T05:01:01.767854Z"
    },
    "papermill": {
     "duration": 0.030136,
     "end_time": "2022-11-25T05:01:01.769095",
     "exception": false,
     "start_time": "2022-11-25T05:01:01.738959",
     "status": "completed"
    },
    "tags": []
   },
   "outputs": [],
   "source": [
    "assert ensemble.shape[0] == len(CLUSTERERS)"
   ]
  },
  {
   "cell_type": "code",
   "execution_count": 33,
   "id": "0ef6e3ba",
   "metadata": {
    "execution": {
     "iopub.execute_input": "2022-11-25T05:01:01.801637Z",
     "iopub.status.busy": "2022-11-25T05:01:01.801470Z",
     "iopub.status.idle": "2022-11-25T05:01:01.838875Z",
     "shell.execute_reply": "2022-11-25T05:01:01.838577Z"
    },
    "papermill": {
     "duration": 0.054076,
     "end_time": "2022-11-25T05:01:01.839691",
     "exception": false,
     "start_time": "2022-11-25T05:01:01.785615",
     "status": "completed"
    },
    "tags": []
   },
   "outputs": [],
   "source": [
    "# all partitions have the right size\n",
    "assert np.all(\n",
    "    [part[\"partition\"].shape[0] == data.shape[0] for idx, part in ensemble.iterrows()]\n",
    ")"
   ]
  },
  {
   "cell_type": "code",
   "execution_count": 34,
   "id": "eb89ef4f",
   "metadata": {
    "execution": {
     "iopub.execute_input": "2022-11-25T05:01:01.871787Z",
     "iopub.status.busy": "2022-11-25T05:01:01.871494Z",
     "iopub.status.idle": "2022-11-25T05:01:01.909224Z",
     "shell.execute_reply": "2022-11-25T05:01:01.908906Z"
    },
    "papermill": {
     "duration": 0.054663,
     "end_time": "2022-11-25T05:01:01.910190",
     "exception": false,
     "start_time": "2022-11-25T05:01:01.855527",
     "status": "completed"
    },
    "tags": []
   },
   "outputs": [],
   "source": [
    "# no partition has negative clusters (noisy points)\n",
    "assert not np.any([(part[\"partition\"] < 0).any() for idx, part in ensemble.iterrows()])"
   ]
  },
  {
   "cell_type": "markdown",
   "id": "a74f582f",
   "metadata": {
    "papermill": {
     "duration": 0.015112,
     "end_time": "2022-11-25T05:01:01.941287",
     "exception": false,
     "start_time": "2022-11-25T05:01:01.926175",
     "status": "completed"
    },
    "tags": []
   },
   "source": [
    "## Add clustering quality measures"
   ]
  },
  {
   "cell_type": "code",
   "execution_count": 35,
   "id": "ee567e46",
   "metadata": {
    "execution": {
     "iopub.execute_input": "2022-11-25T05:01:01.972885Z",
     "iopub.status.busy": "2022-11-25T05:01:01.972604Z",
     "iopub.status.idle": "2022-11-25T05:01:01.987645Z",
     "shell.execute_reply": "2022-11-25T05:01:01.987356Z"
    },
    "papermill": {
     "duration": 0.031651,
     "end_time": "2022-11-25T05:01:01.988410",
     "exception": false,
     "start_time": "2022-11-25T05:01:01.956759",
     "status": "completed"
    },
    "tags": []
   },
   "outputs": [],
   "source": [
    "from sklearn.metrics import calinski_harabasz_score"
   ]
  },
  {
   "cell_type": "code",
   "execution_count": 36,
   "id": "39fbde7a",
   "metadata": {
    "execution": {
     "iopub.execute_input": "2022-11-25T05:01:02.020085Z",
     "iopub.status.busy": "2022-11-25T05:01:02.019837Z",
     "iopub.status.idle": "2022-11-25T05:01:02.767889Z",
     "shell.execute_reply": "2022-11-25T05:01:02.767565Z"
    },
    "papermill": {
     "duration": 0.765599,
     "end_time": "2022-11-25T05:01:02.769537",
     "exception": false,
     "start_time": "2022-11-25T05:01:02.003938",
     "status": "completed"
    },
    "tags": []
   },
   "outputs": [],
   "source": [
    "ensemble = ensemble.assign(\n",
    "    ch_score=ensemble[\"partition\"].apply(lambda x: calinski_harabasz_score(data, x))\n",
    ")"
   ]
  },
  {
   "cell_type": "code",
   "execution_count": 37,
   "id": "e7944f4b",
   "metadata": {
    "execution": {
     "iopub.execute_input": "2022-11-25T05:01:02.833568Z",
     "iopub.status.busy": "2022-11-25T05:01:02.833351Z",
     "iopub.status.idle": "2022-11-25T05:01:02.846708Z",
     "shell.execute_reply": "2022-11-25T05:01:02.846314Z"
    },
    "papermill": {
     "duration": 0.046362,
     "end_time": "2022-11-25T05:01:02.848025",
     "exception": false,
     "start_time": "2022-11-25T05:01:02.801663",
     "status": "completed"
    },
    "tags": []
   },
   "outputs": [
    {
     "data": {
      "text/plain": [
       "(295, 4)"
      ]
     },
     "execution_count": 37,
     "metadata": {},
     "output_type": "execute_result"
    }
   ],
   "source": [
    "ensemble.shape"
   ]
  },
  {
   "cell_type": "code",
   "execution_count": 38,
   "id": "89ae696d",
   "metadata": {
    "execution": {
     "iopub.execute_input": "2022-11-25T05:01:02.899814Z",
     "iopub.status.busy": "2022-11-25T05:01:02.899540Z",
     "iopub.status.idle": "2022-11-25T05:01:02.922633Z",
     "shell.execute_reply": "2022-11-25T05:01:02.922336Z"
    },
    "papermill": {
     "duration": 0.044666,
     "end_time": "2022-11-25T05:01:02.923376",
     "exception": false,
     "start_time": "2022-11-25T05:01:02.878710",
     "status": "completed"
    },
    "tags": []
   },
   "outputs": [
    {
     "data": {
      "text/html": [
       "<div>\n",
       "<style scoped>\n",
       "    .dataframe tbody tr th:only-of-type {\n",
       "        vertical-align: middle;\n",
       "    }\n",
       "\n",
       "    .dataframe tbody tr th {\n",
       "        vertical-align: top;\n",
       "    }\n",
       "\n",
       "    .dataframe thead th {\n",
       "        text-align: right;\n",
       "    }\n",
       "</style>\n",
       "<table border=\"1\" class=\"dataframe\">\n",
       "  <thead>\n",
       "    <tr style=\"text-align: right;\">\n",
       "      <th></th>\n",
       "      <th>clusterer_params</th>\n",
       "      <th>partition</th>\n",
       "      <th>n_clusters</th>\n",
       "      <th>ch_score</th>\n",
       "    </tr>\n",
       "    <tr>\n",
       "      <th>clusterer_id</th>\n",
       "      <th></th>\n",
       "      <th></th>\n",
       "      <th></th>\n",
       "      <th></th>\n",
       "    </tr>\n",
       "  </thead>\n",
       "  <tbody>\n",
       "    <tr>\n",
       "      <th>SpectralClustering #0</th>\n",
       "      <td>{'affinity': 'rbf', 'assign_labels': 'kmeans',...</td>\n",
       "      <td>[1.0, 1.0, 1.0, 0.0, 1.0, 0.0, 0.0, 1.0, 0.0, ...</td>\n",
       "      <td>2</td>\n",
       "      <td>49.811877</td>\n",
       "    </tr>\n",
       "    <tr>\n",
       "      <th>SpectralClustering #1</th>\n",
       "      <td>{'affinity': 'rbf', 'assign_labels': 'kmeans',...</td>\n",
       "      <td>[1.0, 1.0, 1.0, 0.0, 1.0, 0.0, 0.0, 1.0, 0.0, ...</td>\n",
       "      <td>2</td>\n",
       "      <td>49.811877</td>\n",
       "    </tr>\n",
       "    <tr>\n",
       "      <th>SpectralClustering #2</th>\n",
       "      <td>{'affinity': 'rbf', 'assign_labels': 'kmeans',...</td>\n",
       "      <td>[0.0, 0.0, 0.0, 1.0, 0.0, 1.0, 1.0, 0.0, 1.0, ...</td>\n",
       "      <td>2</td>\n",
       "      <td>49.792536</td>\n",
       "    </tr>\n",
       "    <tr>\n",
       "      <th>SpectralClustering #3</th>\n",
       "      <td>{'affinity': 'rbf', 'assign_labels': 'kmeans',...</td>\n",
       "      <td>[1.0, 1.0, 1.0, 0.0, 1.0, 0.0, 0.0, 1.0, 0.0, ...</td>\n",
       "      <td>2</td>\n",
       "      <td>49.811877</td>\n",
       "    </tr>\n",
       "    <tr>\n",
       "      <th>SpectralClustering #4</th>\n",
       "      <td>{'affinity': 'rbf', 'assign_labels': 'kmeans',...</td>\n",
       "      <td>[1.0, 1.0, 1.0, 0.0, 1.0, 0.0, 0.0, 1.0, 0.0, ...</td>\n",
       "      <td>2</td>\n",
       "      <td>49.797765</td>\n",
       "    </tr>\n",
       "  </tbody>\n",
       "</table>\n",
       "</div>"
      ],
      "text/plain": [
       "                                                        clusterer_params  \\\n",
       "clusterer_id                                                               \n",
       "SpectralClustering #0  {'affinity': 'rbf', 'assign_labels': 'kmeans',...   \n",
       "SpectralClustering #1  {'affinity': 'rbf', 'assign_labels': 'kmeans',...   \n",
       "SpectralClustering #2  {'affinity': 'rbf', 'assign_labels': 'kmeans',...   \n",
       "SpectralClustering #3  {'affinity': 'rbf', 'assign_labels': 'kmeans',...   \n",
       "SpectralClustering #4  {'affinity': 'rbf', 'assign_labels': 'kmeans',...   \n",
       "\n",
       "                                                               partition  \\\n",
       "clusterer_id                                                               \n",
       "SpectralClustering #0  [1.0, 1.0, 1.0, 0.0, 1.0, 0.0, 0.0, 1.0, 0.0, ...   \n",
       "SpectralClustering #1  [1.0, 1.0, 1.0, 0.0, 1.0, 0.0, 0.0, 1.0, 0.0, ...   \n",
       "SpectralClustering #2  [0.0, 0.0, 0.0, 1.0, 0.0, 1.0, 1.0, 0.0, 1.0, ...   \n",
       "SpectralClustering #3  [1.0, 1.0, 1.0, 0.0, 1.0, 0.0, 0.0, 1.0, 0.0, ...   \n",
       "SpectralClustering #4  [1.0, 1.0, 1.0, 0.0, 1.0, 0.0, 0.0, 1.0, 0.0, ...   \n",
       "\n",
       "                       n_clusters   ch_score  \n",
       "clusterer_id                                  \n",
       "SpectralClustering #0           2  49.811877  \n",
       "SpectralClustering #1           2  49.811877  \n",
       "SpectralClustering #2           2  49.792536  \n",
       "SpectralClustering #3           2  49.811877  \n",
       "SpectralClustering #4           2  49.797765  "
      ]
     },
     "execution_count": 38,
     "metadata": {},
     "output_type": "execute_result"
    }
   ],
   "source": [
    "ensemble.head()"
   ]
  },
  {
   "cell_type": "markdown",
   "id": "729b4986",
   "metadata": {
    "papermill": {
     "duration": 0.015244,
     "end_time": "2022-11-25T05:01:02.954620",
     "exception": false,
     "start_time": "2022-11-25T05:01:02.939376",
     "status": "completed"
    },
    "tags": []
   },
   "source": [
    "## Save"
   ]
  },
  {
   "cell_type": "code",
   "execution_count": 39,
   "id": "8d1318c4",
   "metadata": {
    "execution": {
     "iopub.execute_input": "2022-11-25T05:01:02.986264Z",
     "iopub.status.busy": "2022-11-25T05:01:02.986035Z",
     "iopub.status.idle": "2022-11-25T05:01:02.999158Z",
     "shell.execute_reply": "2022-11-25T05:01:02.998914Z"
    },
    "papermill": {
     "duration": 0.029785,
     "end_time": "2022-11-25T05:01:02.999909",
     "exception": false,
     "start_time": "2022-11-25T05:01:02.970124",
     "status": "completed"
    },
    "tags": []
   },
   "outputs": [
    {
     "data": {
      "text/plain": [
       "PosixPath('/opt/data/results/clustering/null_sims/shuffle_genes/runs/pca-z_score_std-projection-smultixcan-efo_partial-mashr-zscores/SpectralClustering-AFFINITY_rbf-GAMMA_0001-KMEANS_N_INIT_10-K_MAX_60-K_MIN_2-N_REPS_PER_K_5.pkl')"
      ]
     },
     "metadata": {},
     "output_type": "display_data"
    }
   ],
   "source": [
    "output_filename = Path(\n",
    "    RESULTS_DIR,\n",
    "    generate_result_set_name(\n",
    "        CLUSTERING_OPTIONS,\n",
    "        prefix=f\"{clustering_method_name}-\",\n",
    "        suffix=\".pkl\",\n",
    "    ),\n",
    ").resolve()\n",
    "display(output_filename)"
   ]
  },
  {
   "cell_type": "code",
   "execution_count": 40,
   "id": "f68c903c",
   "metadata": {
    "execution": {
     "iopub.execute_input": "2022-11-25T05:01:03.033449Z",
     "iopub.status.busy": "2022-11-25T05:01:03.033036Z",
     "iopub.status.idle": "2022-11-25T05:01:03.068185Z",
     "shell.execute_reply": "2022-11-25T05:01:03.067813Z"
    },
    "papermill": {
     "duration": 0.052964,
     "end_time": "2022-11-25T05:01:03.069185",
     "exception": false,
     "start_time": "2022-11-25T05:01:03.016221",
     "status": "completed"
    },
    "tags": []
   },
   "outputs": [],
   "source": [
    "ensemble.to_pickle(output_filename)"
   ]
  },
  {
   "cell_type": "markdown",
   "id": "79eb62c9",
   "metadata": {
    "papermill": {
     "duration": 0.015455,
     "end_time": "2022-11-25T05:01:03.100603",
     "exception": false,
     "start_time": "2022-11-25T05:01:03.085148",
     "status": "completed"
    },
    "tags": []
   },
   "source": [
    "# Cluster quality"
   ]
  },
  {
   "cell_type": "code",
   "execution_count": 41,
   "id": "3a4e2b22",
   "metadata": {
    "execution": {
     "iopub.execute_input": "2022-11-25T05:01:03.132474Z",
     "iopub.status.busy": "2022-11-25T05:01:03.132211Z",
     "iopub.status.idle": "2022-11-25T05:01:03.160800Z",
     "shell.execute_reply": "2022-11-25T05:01:03.160464Z"
    },
    "papermill": {
     "duration": 0.045742,
     "end_time": "2022-11-25T05:01:03.161628",
     "exception": false,
     "start_time": "2022-11-25T05:01:03.115886",
     "status": "completed"
    },
    "tags": []
   },
   "outputs": [
    {
     "data": {
      "text/html": [
       "<div>\n",
       "<style scoped>\n",
       "    .dataframe tbody tr th:only-of-type {\n",
       "        vertical-align: middle;\n",
       "    }\n",
       "\n",
       "    .dataframe tbody tr th {\n",
       "        vertical-align: top;\n",
       "    }\n",
       "\n",
       "    .dataframe thead th {\n",
       "        text-align: right;\n",
       "    }\n",
       "</style>\n",
       "<table border=\"1\" class=\"dataframe\">\n",
       "  <thead>\n",
       "    <tr style=\"text-align: right;\">\n",
       "      <th></th>\n",
       "      <th>ch_score</th>\n",
       "    </tr>\n",
       "    <tr>\n",
       "      <th>n_clusters</th>\n",
       "      <th></th>\n",
       "    </tr>\n",
       "  </thead>\n",
       "  <tbody>\n",
       "    <tr>\n",
       "      <th>2</th>\n",
       "      <td>49.805186</td>\n",
       "    </tr>\n",
       "    <tr>\n",
       "      <th>3</th>\n",
       "      <td>42.738359</td>\n",
       "    </tr>\n",
       "    <tr>\n",
       "      <th>4</th>\n",
       "      <td>37.944816</td>\n",
       "    </tr>\n",
       "    <tr>\n",
       "      <th>5</th>\n",
       "      <td>34.502887</td>\n",
       "    </tr>\n",
       "    <tr>\n",
       "      <th>6</th>\n",
       "      <td>31.818528</td>\n",
       "    </tr>\n",
       "    <tr>\n",
       "      <th>7</th>\n",
       "      <td>29.726554</td>\n",
       "    </tr>\n",
       "    <tr>\n",
       "      <th>8</th>\n",
       "      <td>27.813234</td>\n",
       "    </tr>\n",
       "    <tr>\n",
       "      <th>9</th>\n",
       "      <td>26.395828</td>\n",
       "    </tr>\n",
       "    <tr>\n",
       "      <th>10</th>\n",
       "      <td>25.069538</td>\n",
       "    </tr>\n",
       "    <tr>\n",
       "      <th>11</th>\n",
       "      <td>23.999828</td>\n",
       "    </tr>\n",
       "    <tr>\n",
       "      <th>12</th>\n",
       "      <td>22.989248</td>\n",
       "    </tr>\n",
       "    <tr>\n",
       "      <th>13</th>\n",
       "      <td>22.188886</td>\n",
       "    </tr>\n",
       "    <tr>\n",
       "      <th>14</th>\n",
       "      <td>21.324916</td>\n",
       "    </tr>\n",
       "    <tr>\n",
       "      <th>15</th>\n",
       "      <td>20.619704</td>\n",
       "    </tr>\n",
       "    <tr>\n",
       "      <th>16</th>\n",
       "      <td>20.007504</td>\n",
       "    </tr>\n",
       "    <tr>\n",
       "      <th>17</th>\n",
       "      <td>19.367638</td>\n",
       "    </tr>\n",
       "    <tr>\n",
       "      <th>18</th>\n",
       "      <td>18.830785</td>\n",
       "    </tr>\n",
       "    <tr>\n",
       "      <th>19</th>\n",
       "      <td>18.328596</td>\n",
       "    </tr>\n",
       "    <tr>\n",
       "      <th>20</th>\n",
       "      <td>17.885357</td>\n",
       "    </tr>\n",
       "    <tr>\n",
       "      <th>21</th>\n",
       "      <td>17.508634</td>\n",
       "    </tr>\n",
       "    <tr>\n",
       "      <th>22</th>\n",
       "      <td>17.033047</td>\n",
       "    </tr>\n",
       "    <tr>\n",
       "      <th>23</th>\n",
       "      <td>16.726255</td>\n",
       "    </tr>\n",
       "    <tr>\n",
       "      <th>24</th>\n",
       "      <td>16.438972</td>\n",
       "    </tr>\n",
       "    <tr>\n",
       "      <th>25</th>\n",
       "      <td>16.092913</td>\n",
       "    </tr>\n",
       "    <tr>\n",
       "      <th>26</th>\n",
       "      <td>15.765114</td>\n",
       "    </tr>\n",
       "    <tr>\n",
       "      <th>27</th>\n",
       "      <td>15.478588</td>\n",
       "    </tr>\n",
       "    <tr>\n",
       "      <th>28</th>\n",
       "      <td>15.230352</td>\n",
       "    </tr>\n",
       "    <tr>\n",
       "      <th>29</th>\n",
       "      <td>14.903139</td>\n",
       "    </tr>\n",
       "    <tr>\n",
       "      <th>30</th>\n",
       "      <td>14.723037</td>\n",
       "    </tr>\n",
       "    <tr>\n",
       "      <th>31</th>\n",
       "      <td>14.424590</td>\n",
       "    </tr>\n",
       "    <tr>\n",
       "      <th>32</th>\n",
       "      <td>14.251872</td>\n",
       "    </tr>\n",
       "    <tr>\n",
       "      <th>33</th>\n",
       "      <td>14.060076</td>\n",
       "    </tr>\n",
       "    <tr>\n",
       "      <th>34</th>\n",
       "      <td>13.810175</td>\n",
       "    </tr>\n",
       "    <tr>\n",
       "      <th>35</th>\n",
       "      <td>13.750807</td>\n",
       "    </tr>\n",
       "    <tr>\n",
       "      <th>36</th>\n",
       "      <td>13.628305</td>\n",
       "    </tr>\n",
       "    <tr>\n",
       "      <th>37</th>\n",
       "      <td>13.504608</td>\n",
       "    </tr>\n",
       "    <tr>\n",
       "      <th>38</th>\n",
       "      <td>13.453775</td>\n",
       "    </tr>\n",
       "    <tr>\n",
       "      <th>39</th>\n",
       "      <td>13.703831</td>\n",
       "    </tr>\n",
       "    <tr>\n",
       "      <th>40</th>\n",
       "      <td>13.414651</td>\n",
       "    </tr>\n",
       "    <tr>\n",
       "      <th>41</th>\n",
       "      <td>13.432494</td>\n",
       "    </tr>\n",
       "    <tr>\n",
       "      <th>42</th>\n",
       "      <td>13.657576</td>\n",
       "    </tr>\n",
       "    <tr>\n",
       "      <th>43</th>\n",
       "      <td>13.752865</td>\n",
       "    </tr>\n",
       "    <tr>\n",
       "      <th>44</th>\n",
       "      <td>13.891650</td>\n",
       "    </tr>\n",
       "    <tr>\n",
       "      <th>45</th>\n",
       "      <td>14.182185</td>\n",
       "    </tr>\n",
       "    <tr>\n",
       "      <th>46</th>\n",
       "      <td>14.468495</td>\n",
       "    </tr>\n",
       "    <tr>\n",
       "      <th>47</th>\n",
       "      <td>14.776398</td>\n",
       "    </tr>\n",
       "    <tr>\n",
       "      <th>48</th>\n",
       "      <td>15.685586</td>\n",
       "    </tr>\n",
       "    <tr>\n",
       "      <th>49</th>\n",
       "      <td>16.484199</td>\n",
       "    </tr>\n",
       "    <tr>\n",
       "      <th>50</th>\n",
       "      <td>17.408651</td>\n",
       "    </tr>\n",
       "    <tr>\n",
       "      <th>51</th>\n",
       "      <td>18.394948</td>\n",
       "    </tr>\n",
       "    <tr>\n",
       "      <th>52</th>\n",
       "      <td>18.259175</td>\n",
       "    </tr>\n",
       "    <tr>\n",
       "      <th>53</th>\n",
       "      <td>17.953140</td>\n",
       "    </tr>\n",
       "    <tr>\n",
       "      <th>54</th>\n",
       "      <td>17.804138</td>\n",
       "    </tr>\n",
       "    <tr>\n",
       "      <th>55</th>\n",
       "      <td>17.693034</td>\n",
       "    </tr>\n",
       "    <tr>\n",
       "      <th>56</th>\n",
       "      <td>17.629340</td>\n",
       "    </tr>\n",
       "    <tr>\n",
       "      <th>57</th>\n",
       "      <td>17.424446</td>\n",
       "    </tr>\n",
       "    <tr>\n",
       "      <th>58</th>\n",
       "      <td>17.275332</td>\n",
       "    </tr>\n",
       "    <tr>\n",
       "      <th>59</th>\n",
       "      <td>17.238476</td>\n",
       "    </tr>\n",
       "    <tr>\n",
       "      <th>60</th>\n",
       "      <td>17.002380</td>\n",
       "    </tr>\n",
       "  </tbody>\n",
       "</table>\n",
       "</div>"
      ],
      "text/plain": [
       "             ch_score\n",
       "n_clusters           \n",
       "2           49.805186\n",
       "3           42.738359\n",
       "4           37.944816\n",
       "5           34.502887\n",
       "6           31.818528\n",
       "7           29.726554\n",
       "8           27.813234\n",
       "9           26.395828\n",
       "10          25.069538\n",
       "11          23.999828\n",
       "12          22.989248\n",
       "13          22.188886\n",
       "14          21.324916\n",
       "15          20.619704\n",
       "16          20.007504\n",
       "17          19.367638\n",
       "18          18.830785\n",
       "19          18.328596\n",
       "20          17.885357\n",
       "21          17.508634\n",
       "22          17.033047\n",
       "23          16.726255\n",
       "24          16.438972\n",
       "25          16.092913\n",
       "26          15.765114\n",
       "27          15.478588\n",
       "28          15.230352\n",
       "29          14.903139\n",
       "30          14.723037\n",
       "31          14.424590\n",
       "32          14.251872\n",
       "33          14.060076\n",
       "34          13.810175\n",
       "35          13.750807\n",
       "36          13.628305\n",
       "37          13.504608\n",
       "38          13.453775\n",
       "39          13.703831\n",
       "40          13.414651\n",
       "41          13.432494\n",
       "42          13.657576\n",
       "43          13.752865\n",
       "44          13.891650\n",
       "45          14.182185\n",
       "46          14.468495\n",
       "47          14.776398\n",
       "48          15.685586\n",
       "49          16.484199\n",
       "50          17.408651\n",
       "51          18.394948\n",
       "52          18.259175\n",
       "53          17.953140\n",
       "54          17.804138\n",
       "55          17.693034\n",
       "56          17.629340\n",
       "57          17.424446\n",
       "58          17.275332\n",
       "59          17.238476\n",
       "60          17.002380"
      ]
     },
     "metadata": {},
     "output_type": "display_data"
    }
   ],
   "source": [
    "with pd.option_context(\"display.max_rows\", None, \"display.max_columns\", None):\n",
    "    _df = ensemble.groupby([\"n_clusters\"]).mean()\n",
    "    display(_df)"
   ]
  },
  {
   "cell_type": "code",
   "execution_count": 42,
   "id": "19621c68",
   "metadata": {
    "execution": {
     "iopub.execute_input": "2022-11-25T05:01:03.195353Z",
     "iopub.status.busy": "2022-11-25T05:01:03.194939Z",
     "iopub.status.idle": "2022-11-25T05:01:05.305504Z",
     "shell.execute_reply": "2022-11-25T05:01:05.305268Z"
    },
    "papermill": {
     "duration": 2.129244,
     "end_time": "2022-11-25T05:01:05.307540",
     "exception": false,
     "start_time": "2022-11-25T05:01:03.178296",
     "status": "completed"
    },
    "tags": []
   },
   "outputs": [
    {
     "data": {
      "image/png": "[encoded data removed]",
      "text/plain": [
       "<Figure size 1008x432 with 1 Axes>"
      ]
     },
     "metadata": {},
     "output_type": "display_data"
    }
   ],
   "source": [
    "with sns.plotting_context(\"talk\", font_scale=0.75), sns.axes_style(\n",
    "    \"whitegrid\", {\"grid.linestyle\": \"--\"}\n",
    "):\n",
    "    fig = plt.figure(figsize=(14, 6))\n",
    "    ax = sns.pointplot(data=ensemble, x=\"n_clusters\", y=\"ch_score\")\n",
    "    ax.set_ylabel(\"Calinski-Harabasz index\")\n",
    "    ax.set_xlabel(\"Number of clusters ($k$)\")\n",
    "    ax.set_xticklabels(ax.get_xticklabels(), rotation=45)\n",
    "    plt.grid(True)\n",
    "    plt.tight_layout()"
   ]
  },
  {
   "cell_type": "markdown",
   "id": "6040cd8c",
   "metadata": {
    "papermill": {
     "duration": 0.032493,
     "end_time": "2022-11-25T05:01:05.372957",
     "exception": false,
     "start_time": "2022-11-25T05:01:05.340464",
     "status": "completed"
    },
    "tags": []
   },
   "source": [
    "# Stability"
   ]
  },
  {
   "cell_type": "markdown",
   "id": "e8a9fe1b",
   "metadata": {
    "papermill": {
     "duration": 0.016242,
     "end_time": "2022-11-25T05:01:05.413208",
     "exception": false,
     "start_time": "2022-11-25T05:01:05.396966",
     "status": "completed"
    },
    "tags": []
   },
   "source": [
    "## Group ensemble by n_clusters"
   ]
  },
  {
   "cell_type": "code",
   "execution_count": 43,
   "id": "64ab9570",
   "metadata": {
    "execution": {
     "iopub.execute_input": "2022-11-25T05:01:05.446908Z",
     "iopub.status.busy": "2022-11-25T05:01:05.446580Z",
     "iopub.status.idle": "2022-11-25T05:01:05.486303Z",
     "shell.execute_reply": "2022-11-25T05:01:05.485855Z"
    },
    "papermill": {
     "duration": 0.057939,
     "end_time": "2022-11-25T05:01:05.487346",
     "exception": false,
     "start_time": "2022-11-25T05:01:05.429407",
     "status": "completed"
    },
    "tags": []
   },
   "outputs": [],
   "source": [
    "parts = ensemble.groupby(\"n_clusters\").apply(\n",
    "    lambda x: np.concatenate(x[\"partition\"].apply(lambda x: x.reshape(1, -1)), axis=0)\n",
    ")"
   ]
  },
  {
   "cell_type": "code",
   "execution_count": 44,
   "id": "aeed73a9",
   "metadata": {
    "execution": {
     "iopub.execute_input": "2022-11-25T05:01:05.521343Z",
     "iopub.status.busy": "2022-11-25T05:01:05.521092Z",
     "iopub.status.idle": "2022-11-25T05:01:05.561436Z",
     "shell.execute_reply": "2022-11-25T05:01:05.561037Z"
    },
    "papermill": {
     "duration": 0.058043,
     "end_time": "2022-11-25T05:01:05.562244",
     "exception": false,
     "start_time": "2022-11-25T05:01:05.504201",
     "status": "completed"
    },
    "tags": []
   },
   "outputs": [
    {
     "data": {
      "text/plain": [
       "n_clusters\n",
       "2    [[1.0, 1.0, 1.0, 0.0, 1.0, 0.0, 0.0, 1.0, 0.0,...\n",
       "3    [[0.0, 1.0, 1.0, 0.0, 0.0, 2.0, 2.0, 1.0, 0.0,...\n",
       "4    [[3.0, 1.0, 1.0, 3.0, 3.0, 0.0, 2.0, 0.0, 3.0,...\n",
       "5    [[0.0, 1.0, 1.0, 3.0, 3.0, 0.0, 2.0, 4.0, 3.0,...\n",
       "6    [[1.0, 5.0, 5.0, 1.0, 1.0, 2.0, 0.0, 5.0, 1.0,...\n",
       "dtype: object"
      ]
     },
     "execution_count": 44,
     "metadata": {},
     "output_type": "execute_result"
    }
   ],
   "source": [
    "parts.head()"
   ]
  },
  {
   "cell_type": "code",
   "execution_count": 45,
   "id": "726119ef",
   "metadata": {
    "execution": {
     "iopub.execute_input": "2022-11-25T05:01:05.596208Z",
     "iopub.status.busy": "2022-11-25T05:01:05.595968Z",
     "iopub.status.idle": "2022-11-25T05:01:05.618394Z",
     "shell.execute_reply": "2022-11-25T05:01:05.618051Z"
    },
    "papermill": {
     "duration": 0.04009,
     "end_time": "2022-11-25T05:01:05.619206",
     "exception": false,
     "start_time": "2022-11-25T05:01:05.579116",
     "status": "completed"
    },
    "tags": []
   },
   "outputs": [],
   "source": [
    "assert np.all(\n",
    "    [\n",
    "        parts.loc[k].shape == (CLUSTERING_OPTIONS[\"N_REPS_PER_K\"], data.shape[0])\n",
    "        for k in parts.index\n",
    "    ]\n",
    ")"
   ]
  },
  {
   "cell_type": "markdown",
   "id": "1836d675",
   "metadata": {
    "papermill": {
     "duration": 0.016301,
     "end_time": "2022-11-25T05:01:05.652402",
     "exception": false,
     "start_time": "2022-11-25T05:01:05.636101",
     "status": "completed"
    },
    "tags": []
   },
   "source": [
    "## Compute stability"
   ]
  },
  {
   "cell_type": "code",
   "execution_count": 46,
   "id": "4f941487",
   "metadata": {
    "execution": {
     "iopub.execute_input": "2022-11-25T05:01:05.685840Z",
     "iopub.status.busy": "2022-11-25T05:01:05.685517Z",
     "iopub.status.idle": "2022-11-25T05:01:05.706287Z",
     "shell.execute_reply": "2022-11-25T05:01:05.705886Z"
    },
    "papermill": {
     "duration": 0.038413,
     "end_time": "2022-11-25T05:01:05.707091",
     "exception": false,
     "start_time": "2022-11-25T05:01:05.668678",
     "status": "completed"
    },
    "tags": []
   },
   "outputs": [],
   "source": [
    "from sklearn.metrics import adjusted_rand_score as ari\n",
    "from scipy.spatial.distance import pdist"
   ]
  },
  {
   "cell_type": "code",
   "execution_count": 47,
   "id": "8e8eeaae",
   "metadata": {
    "execution": {
     "iopub.execute_input": "2022-11-25T05:01:05.741291Z",
     "iopub.status.busy": "2022-11-25T05:01:05.741049Z",
     "iopub.status.idle": "2022-11-25T05:01:06.454728Z",
     "shell.execute_reply": "2022-11-25T05:01:06.454409Z"
    },
    "papermill": {
     "duration": 0.732145,
     "end_time": "2022-11-25T05:01:06.456240",
     "exception": false,
     "start_time": "2022-11-25T05:01:05.724095",
     "status": "completed"
    },
    "tags": []
   },
   "outputs": [],
   "source": [
    "parts_ari = pd.Series(\n",
    "    {k: pdist(parts.loc[k], metric=ari) for k in parts.index}, name=\"k\"\n",
    ")"
   ]
  },
  {
   "cell_type": "code",
   "execution_count": 48,
   "id": "1447cfaf",
   "metadata": {
    "execution": {
     "iopub.execute_input": "2022-11-25T05:01:06.502569Z",
     "iopub.status.busy": "2022-11-25T05:01:06.502335Z",
     "iopub.status.idle": "2022-11-25T05:01:06.521610Z",
     "shell.execute_reply": "2022-11-25T05:01:06.521214Z"
    },
    "papermill": {
     "duration": 0.038921,
     "end_time": "2022-11-25T05:01:06.522433",
     "exception": false,
     "start_time": "2022-11-25T05:01:06.483512",
     "status": "completed"
    },
    "tags": []
   },
   "outputs": [
    {
     "data": {
      "text/plain": [
       "2     0.995957\n",
       "3     0.951423\n",
       "4     0.882787\n",
       "5     0.487031\n",
       "6     0.454455\n",
       "7     0.386800\n",
       "10    0.247877\n",
       "9     0.221988\n",
       "8     0.211205\n",
       "11    0.186940\n",
       "12    0.183601\n",
       "13    0.166122\n",
       "14    0.157233\n",
       "15    0.130341\n",
       "16    0.124906\n",
       "Name: k, dtype: float64"
      ]
     },
     "metadata": {},
     "output_type": "display_data"
    }
   ],
   "source": [
    "parts_ari_stability = parts_ari.apply(lambda x: x.mean())\n",
    "display(parts_ari_stability.sort_values(ascending=False).head(15))"
   ]
  },
  {
   "cell_type": "code",
   "execution_count": 49,
   "id": "d2395eae",
   "metadata": {
    "execution": {
     "iopub.execute_input": "2022-11-25T05:01:06.556944Z",
     "iopub.status.busy": "2022-11-25T05:01:06.556608Z",
     "iopub.status.idle": "2022-11-25T05:01:06.579539Z",
     "shell.execute_reply": "2022-11-25T05:01:06.579004Z"
    },
    "papermill": {
     "duration": 0.041028,
     "end_time": "2022-11-25T05:01:06.580530",
     "exception": false,
     "start_time": "2022-11-25T05:01:06.539502",
     "status": "completed"
    },
    "tags": []
   },
   "outputs": [],
   "source": [
    "parts_ari_df = pd.DataFrame.from_records(parts_ari.tolist()).set_index(\n",
    "    parts_ari.index.copy()\n",
    ")"
   ]
  },
  {
   "cell_type": "code",
   "execution_count": 50,
   "id": "ecbe0693",
   "metadata": {
    "execution": {
     "iopub.execute_input": "2022-11-25T05:01:06.615052Z",
     "iopub.status.busy": "2022-11-25T05:01:06.614698Z",
     "iopub.status.idle": "2022-11-25T05:01:06.636768Z",
     "shell.execute_reply": "2022-11-25T05:01:06.636243Z"
    },
    "papermill": {
     "duration": 0.040063,
     "end_time": "2022-11-25T05:01:06.637613",
     "exception": false,
     "start_time": "2022-11-25T05:01:06.597550",
     "status": "completed"
    },
    "tags": []
   },
   "outputs": [
    {
     "data": {
      "text/plain": [
       "(59, 10)"
      ]
     },
     "execution_count": 50,
     "metadata": {},
     "output_type": "execute_result"
    }
   ],
   "source": [
    "parts_ari_df.shape"
   ]
  },
  {
   "cell_type": "code",
   "execution_count": 51,
   "id": "06d97557",
   "metadata": {
    "execution": {
     "iopub.execute_input": "2022-11-25T05:01:06.672245Z",
     "iopub.status.busy": "2022-11-25T05:01:06.671909Z",
     "iopub.status.idle": "2022-11-25T05:01:06.693447Z",
     "shell.execute_reply": "2022-11-25T05:01:06.692921Z"
    },
    "papermill": {
     "duration": 0.039614,
     "end_time": "2022-11-25T05:01:06.694369",
     "exception": false,
     "start_time": "2022-11-25T05:01:06.654755",
     "status": "completed"
    },
    "tags": []
   },
   "outputs": [],
   "source": [
    "assert (\n",
    "    int(\n",
    "        (CLUSTERING_OPTIONS[\"N_REPS_PER_K\"] * (CLUSTERING_OPTIONS[\"N_REPS_PER_K\"] - 1))\n",
    "        / 2\n",
    "    )\n",
    "    == parts_ari_df.shape[1]\n",
    ")"
   ]
  },
  {
   "cell_type": "code",
   "execution_count": 52,
   "id": "ddbe48b5",
   "metadata": {
    "execution": {
     "iopub.execute_input": "2022-11-25T05:01:06.729014Z",
     "iopub.status.busy": "2022-11-25T05:01:06.728747Z",
     "iopub.status.idle": "2022-11-25T05:01:06.758337Z",
     "shell.execute_reply": "2022-11-25T05:01:06.757821Z"
    },
    "papermill": {
     "duration": 0.047639,
     "end_time": "2022-11-25T05:01:06.759200",
     "exception": false,
     "start_time": "2022-11-25T05:01:06.711561",
     "status": "completed"
    },
    "tags": []
   },
   "outputs": [
    {
     "data": {
      "text/html": [
       "<div>\n",
       "<style scoped>\n",
       "    .dataframe tbody tr th:only-of-type {\n",
       "        vertical-align: middle;\n",
       "    }\n",
       "\n",
       "    .dataframe tbody tr th {\n",
       "        vertical-align: top;\n",
       "    }\n",
       "\n",
       "    .dataframe thead th {\n",
       "        text-align: right;\n",
       "    }\n",
       "</style>\n",
       "<table border=\"1\" class=\"dataframe\">\n",
       "  <thead>\n",
       "    <tr style=\"text-align: right;\">\n",
       "      <th></th>\n",
       "      <th>0</th>\n",
       "      <th>1</th>\n",
       "      <th>2</th>\n",
       "      <th>3</th>\n",
       "      <th>4</th>\n",
       "      <th>5</th>\n",
       "      <th>6</th>\n",
       "      <th>7</th>\n",
       "      <th>8</th>\n",
       "      <th>9</th>\n",
       "    </tr>\n",
       "  </thead>\n",
       "  <tbody>\n",
       "    <tr>\n",
       "      <th>2</th>\n",
       "      <td>1.000000</td>\n",
       "      <td>0.990426</td>\n",
       "      <td>1.000000</td>\n",
       "      <td>0.998934</td>\n",
       "      <td>0.990426</td>\n",
       "      <td>1.000000</td>\n",
       "      <td>0.998934</td>\n",
       "      <td>0.990426</td>\n",
       "      <td>0.991487</td>\n",
       "      <td>0.998934</td>\n",
       "    </tr>\n",
       "    <tr>\n",
       "      <th>3</th>\n",
       "      <td>0.979217</td>\n",
       "      <td>0.906965</td>\n",
       "      <td>0.982572</td>\n",
       "      <td>0.983394</td>\n",
       "      <td>0.891681</td>\n",
       "      <td>0.976198</td>\n",
       "      <td>0.975394</td>\n",
       "      <td>0.909486</td>\n",
       "      <td>0.911786</td>\n",
       "      <td>0.997536</td>\n",
       "    </tr>\n",
       "    <tr>\n",
       "      <th>4</th>\n",
       "      <td>0.882076</td>\n",
       "      <td>0.864467</td>\n",
       "      <td>0.904767</td>\n",
       "      <td>0.907024</td>\n",
       "      <td>0.960742</td>\n",
       "      <td>0.813579</td>\n",
       "      <td>0.903678</td>\n",
       "      <td>0.801395</td>\n",
       "      <td>0.914084</td>\n",
       "      <td>0.876057</td>\n",
       "    </tr>\n",
       "    <tr>\n",
       "      <th>5</th>\n",
       "      <td>0.268892</td>\n",
       "      <td>0.410204</td>\n",
       "      <td>0.243914</td>\n",
       "      <td>0.245994</td>\n",
       "      <td>0.427534</td>\n",
       "      <td>0.747547</td>\n",
       "      <td>0.768413</td>\n",
       "      <td>0.430069</td>\n",
       "      <td>0.416241</td>\n",
       "      <td>0.911500</td>\n",
       "    </tr>\n",
       "    <tr>\n",
       "      <th>6</th>\n",
       "      <td>0.373545</td>\n",
       "      <td>0.743119</td>\n",
       "      <td>0.417188</td>\n",
       "      <td>0.533315</td>\n",
       "      <td>0.367280</td>\n",
       "      <td>0.434514</td>\n",
       "      <td>0.426211</td>\n",
       "      <td>0.497043</td>\n",
       "      <td>0.464930</td>\n",
       "      <td>0.287402</td>\n",
       "    </tr>\n",
       "  </tbody>\n",
       "</table>\n",
       "</div>"
      ],
      "text/plain": [
       "          0         1         2         3         4         5         6  \\\n",
       "2  1.000000  0.990426  1.000000  0.998934  0.990426  1.000000  0.998934   \n",
       "3  0.979217  0.906965  0.982572  0.983394  0.891681  0.976198  0.975394   \n",
       "4  0.882076  0.864467  0.904767  0.907024  0.960742  0.813579  0.903678   \n",
       "5  0.268892  0.410204  0.243914  0.245994  0.427534  0.747547  0.768413   \n",
       "6  0.373545  0.743119  0.417188  0.533315  0.367280  0.434514  0.426211   \n",
       "\n",
       "          7         8         9  \n",
       "2  0.990426  0.991487  0.998934  \n",
       "3  0.909486  0.911786  0.997536  \n",
       "4  0.801395  0.914084  0.876057  \n",
       "5  0.430069  0.416241  0.911500  \n",
       "6  0.497043  0.464930  0.287402  "
      ]
     },
     "execution_count": 52,
     "metadata": {},
     "output_type": "execute_result"
    }
   ],
   "source": [
    "parts_ari_df.head()"
   ]
  },
  {
   "cell_type": "markdown",
   "id": "be97dd13",
   "metadata": {
    "papermill": {
     "duration": 0.016582,
     "end_time": "2022-11-25T05:01:06.793029",
     "exception": false,
     "start_time": "2022-11-25T05:01:06.776447",
     "status": "completed"
    },
    "tags": []
   },
   "source": [
    "## Save"
   ]
  },
  {
   "cell_type": "code",
   "execution_count": 53,
   "id": "e6cb39de",
   "metadata": {
    "execution": {
     "iopub.execute_input": "2022-11-25T05:01:06.847462Z",
     "iopub.status.busy": "2022-11-25T05:01:06.847230Z",
     "iopub.status.idle": "2022-11-25T05:01:06.865508Z",
     "shell.execute_reply": "2022-11-25T05:01:06.865183Z"
    },
    "papermill": {
     "duration": 0.036258,
     "end_time": "2022-11-25T05:01:06.866271",
     "exception": false,
     "start_time": "2022-11-25T05:01:06.830013",
     "status": "completed"
    },
    "tags": []
   },
   "outputs": [
    {
     "data": {
      "text/plain": [
       "PosixPath('/opt/data/results/clustering/null_sims/shuffle_genes/runs/pca-z_score_std-projection-smultixcan-efo_partial-mashr-zscores/SpectralClustering-stability-AFFINITY_rbf-GAMMA_0001-KMEANS_N_INIT_10-K_MAX_60-K_MIN_2-N_REPS_PER_K_5.pkl')"
      ]
     },
     "metadata": {},
     "output_type": "display_data"
    }
   ],
   "source": [
    "output_filename = Path(\n",
    "    RESULTS_DIR,\n",
    "    generate_result_set_name(\n",
    "        CLUSTERING_OPTIONS,\n",
    "        prefix=f\"{clustering_method_name}-stability-\",\n",
    "        suffix=\".pkl\",\n",
    "    ),\n",
    ").resolve()\n",
    "display(output_filename)"
   ]
  },
  {
   "cell_type": "code",
   "execution_count": 54,
   "id": "73837c3f",
   "metadata": {
    "execution": {
     "iopub.execute_input": "2022-11-25T05:01:06.901249Z",
     "iopub.status.busy": "2022-11-25T05:01:06.901044Z",
     "iopub.status.idle": "2022-11-25T05:01:06.918508Z",
     "shell.execute_reply": "2022-11-25T05:01:06.918172Z"
    },
    "papermill": {
     "duration": 0.035651,
     "end_time": "2022-11-25T05:01:06.919353",
     "exception": false,
     "start_time": "2022-11-25T05:01:06.883702",
     "status": "completed"
    },
    "tags": []
   },
   "outputs": [],
   "source": [
    "parts_ari_df.to_pickle(output_filename)"
   ]
  },
  {
   "cell_type": "markdown",
   "id": "04c37cb4",
   "metadata": {
    "papermill": {
     "duration": 0.016557,
     "end_time": "2022-11-25T05:01:06.953052",
     "exception": false,
     "start_time": "2022-11-25T05:01:06.936495",
     "status": "completed"
    },
    "tags": []
   },
   "source": [
    "## Stability plot"
   ]
  },
  {
   "cell_type": "code",
   "execution_count": 55,
   "id": "bc1a39ab",
   "metadata": {
    "execution": {
     "iopub.execute_input": "2022-11-25T05:01:06.987277Z",
     "iopub.status.busy": "2022-11-25T05:01:06.987105Z",
     "iopub.status.idle": "2022-11-25T05:01:07.006565Z",
     "shell.execute_reply": "2022-11-25T05:01:07.006265Z"
    },
    "papermill": {
     "duration": 0.037844,
     "end_time": "2022-11-25T05:01:07.007621",
     "exception": false,
     "start_time": "2022-11-25T05:01:06.969777",
     "status": "completed"
    },
    "tags": []
   },
   "outputs": [],
   "source": [
    "parts_ari_df_plot = (\n",
    "    parts_ari_df.stack()\n",
    "    .reset_index()\n",
    "    .rename(columns={\"level_0\": \"k\", \"level_1\": \"idx\", 0: \"ari\"})\n",
    ")"
   ]
  },
  {
   "cell_type": "code",
   "execution_count": 56,
   "id": "ddd54521",
   "metadata": {
    "execution": {
     "iopub.execute_input": "2022-11-25T05:01:07.043887Z",
     "iopub.status.busy": "2022-11-25T05:01:07.043707Z",
     "iopub.status.idle": "2022-11-25T05:01:07.060608Z",
     "shell.execute_reply": "2022-11-25T05:01:07.060207Z"
    },
    "papermill": {
     "duration": 0.035973,
     "end_time": "2022-11-25T05:01:07.061497",
     "exception": false,
     "start_time": "2022-11-25T05:01:07.025524",
     "status": "completed"
    },
    "tags": []
   },
   "outputs": [
    {
     "data": {
      "text/plain": [
       "k        int64\n",
       "idx      int64\n",
       "ari    float64\n",
       "dtype: object"
      ]
     },
     "execution_count": 56,
     "metadata": {},
     "output_type": "execute_result"
    }
   ],
   "source": [
    "parts_ari_df_plot.dtypes"
   ]
  },
  {
   "cell_type": "code",
   "execution_count": 57,
   "id": "05e6d56f",
   "metadata": {
    "execution": {
     "iopub.execute_input": "2022-11-25T05:01:07.096680Z",
     "iopub.status.busy": "2022-11-25T05:01:07.096342Z",
     "iopub.status.idle": "2022-11-25T05:01:07.120643Z",
     "shell.execute_reply": "2022-11-25T05:01:07.120260Z"
    },
    "papermill": {
     "duration": 0.042571,
     "end_time": "2022-11-25T05:01:07.121474",
     "exception": false,
     "start_time": "2022-11-25T05:01:07.078903",
     "status": "completed"
    },
    "tags": []
   },
   "outputs": [
    {
     "data": {
      "text/html": [
       "<div>\n",
       "<style scoped>\n",
       "    .dataframe tbody tr th:only-of-type {\n",
       "        vertical-align: middle;\n",
       "    }\n",
       "\n",
       "    .dataframe tbody tr th {\n",
       "        vertical-align: top;\n",
       "    }\n",
       "\n",
       "    .dataframe thead th {\n",
       "        text-align: right;\n",
       "    }\n",
       "</style>\n",
       "<table border=\"1\" class=\"dataframe\">\n",
       "  <thead>\n",
       "    <tr style=\"text-align: right;\">\n",
       "      <th></th>\n",
       "      <th>k</th>\n",
       "      <th>idx</th>\n",
       "      <th>ari</th>\n",
       "    </tr>\n",
       "  </thead>\n",
       "  <tbody>\n",
       "    <tr>\n",
       "      <th>0</th>\n",
       "      <td>2</td>\n",
       "      <td>0</td>\n",
       "      <td>1.000000</td>\n",
       "    </tr>\n",
       "    <tr>\n",
       "      <th>1</th>\n",
       "      <td>2</td>\n",
       "      <td>1</td>\n",
       "      <td>0.990426</td>\n",
       "    </tr>\n",
       "    <tr>\n",
       "      <th>2</th>\n",
       "      <td>2</td>\n",
       "      <td>2</td>\n",
       "      <td>1.000000</td>\n",
       "    </tr>\n",
       "    <tr>\n",
       "      <th>3</th>\n",
       "      <td>2</td>\n",
       "      <td>3</td>\n",
       "      <td>0.998934</td>\n",
       "    </tr>\n",
       "    <tr>\n",
       "      <th>4</th>\n",
       "      <td>2</td>\n",
       "      <td>4</td>\n",
       "      <td>0.990426</td>\n",
       "    </tr>\n",
       "  </tbody>\n",
       "</table>\n",
       "</div>"
      ],
      "text/plain": [
       "   k  idx       ari\n",
       "0  2    0  1.000000\n",
       "1  2    1  0.990426\n",
       "2  2    2  1.000000\n",
       "3  2    3  0.998934\n",
       "4  2    4  0.990426"
      ]
     },
     "execution_count": 57,
     "metadata": {},
     "output_type": "execute_result"
    }
   ],
   "source": [
    "parts_ari_df_plot.head()"
   ]
  },
  {
   "cell_type": "code",
   "execution_count": 58,
   "id": "54bbdf33",
   "metadata": {
    "execution": {
     "iopub.execute_input": "2022-11-25T05:01:07.157218Z",
     "iopub.status.busy": "2022-11-25T05:01:07.156903Z",
     "iopub.status.idle": "2022-11-25T05:01:09.098059Z",
     "shell.execute_reply": "2022-11-25T05:01:09.097641Z"
    },
    "papermill": {
     "duration": 1.960635,
     "end_time": "2022-11-25T05:01:09.100028",
     "exception": false,
     "start_time": "2022-11-25T05:01:07.139393",
     "status": "completed"
    },
    "tags": []
   },
   "outputs": [
    {
     "data": {
      "image/png": "[encoded data removed]",
      "text/plain": [
       "<Figure size 1008x432 with 1 Axes>"
      ]
     },
     "metadata": {},
     "output_type": "display_data"
    }
   ],
   "source": [
    "# with sns.axes_style('whitegrid', {'grid.linestyle': '--'}):\n",
    "with sns.plotting_context(\"talk\", font_scale=0.75), sns.axes_style(\n",
    "    \"whitegrid\", {\"grid.linestyle\": \"--\"}\n",
    "):\n",
    "    fig = plt.figure(figsize=(14, 6))\n",
    "    ax = sns.pointplot(data=parts_ari_df_plot, x=\"k\", y=\"ari\")\n",
    "    ax.set_ylabel(\"Averange ARI\")\n",
    "    ax.set_xlabel(\"Number of clusters ($k$)\")\n",
    "    ax.set_xticklabels(ax.get_xticklabels(), rotation=45)\n",
    "    #     ax.set_ylim(0.0, 1.0)\n",
    "    #     ax.set_xlim(CLUSTERING_OPTIONS['K_MIN'], CLUSTERING_OPTIONS['K_MAX'])\n",
    "    plt.grid(True)\n",
    "    plt.tight_layout()"
   ]
  },
  {
   "cell_type": "code",
   "execution_count": null,
   "id": "8a9a3216",
   "metadata": {
    "papermill": {
     "duration": 0.035817,
     "end_time": "2022-11-25T05:01:09.172215",
     "exception": false,
     "start_time": "2022-11-25T05:01:09.136398",
     "status": "completed"
    },
    "tags": []
   },
   "outputs": [],
   "source": []
  }
 ],
 "metadata": {
  "jupytext": {
   "cell_metadata_filter": "all,-execution,-papermill,-trusted",
   "formats": "ipynb,py//py:percent"
  },
  "kernelspec": {
   "display_name": "Python 3 (ipykernel)",
   "language": "python",
   "name": "python3"
  },
  "language_info": {
   "codemirror_mode": {
    "name": "ipython",
    "version": 3
   },
   "file_extension": ".py",
   "mimetype": "text/x-python",
   "name": "python",
   "nbconvert_exporter": "python",
   "pygments_lexer": "ipython3",
   "version": "3.8.13"
  },
  "papermill": {
   "default_parameters": {},
   "duration": 458.733393,
   "end_time": "2022-11-25T05:01:09.510907",
   "environment_variables": {},
   "exception": null,
   "input_path": "nbs/13.1_cluster_analysis_null/00-shuffle_genes/11_01-spectral-pca.ipynb",
   "output_path": "nbs/13.1_cluster_analysis_null/00-shuffle_genes/11_01-spectral-pca.run.ipynb",
   "parameters": {},
   "start_time": "2022-11-25T04:53:30.777514",
   "version": "2.2.2"
  },
  "toc-autonumbering": true,
  "toc-showcode": false,
  "toc-showmarkdowntxt": false,
  "toc-showtags": false
 },
 "nbformat": 4,
 "nbformat_minor": 5
}
