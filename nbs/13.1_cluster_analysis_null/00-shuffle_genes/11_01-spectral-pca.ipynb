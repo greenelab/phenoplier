{
 "cells": [
  {
   "cell_type": "markdown",
   "id": "2065cfdc",
   "metadata": {
    "papermill": {
     "duration": 0.03475,
     "end_time": "2022-09-13T16:27:46.335052",
     "exception": false,
     "start_time": "2022-09-13T16:27:46.300302",
     "status": "completed"
    },
    "tags": []
   },
   "source": [
    "# Description"
   ]
  },
  {
   "cell_type": "markdown",
   "id": "e6e35f42",
   "metadata": {
    "papermill": {
     "duration": 0.009253,
     "end_time": "2022-09-13T16:27:46.358433",
     "exception": false,
     "start_time": "2022-09-13T16:27:46.349180",
     "status": "completed"
    },
    "tags": []
   },
   "source": [
    "Runs spectral clustering on the pca version of the data."
   ]
  },
  {
   "cell_type": "markdown",
   "id": "1219e9ee",
   "metadata": {
    "papermill": {
     "duration": 0.007895,
     "end_time": "2022-09-13T16:27:46.374047",
     "exception": false,
     "start_time": "2022-09-13T16:27:46.366152",
     "status": "completed"
    },
    "tags": []
   },
   "source": [
    "# Environment variables"
   ]
  },
  {
   "cell_type": "code",
   "execution_count": 1,
   "id": "bdb960bb",
   "metadata": {
    "execution": {
     "iopub.execute_input": "2022-09-13T16:27:46.390925Z",
     "iopub.status.busy": "2022-09-13T16:27:46.390681Z",
     "iopub.status.idle": "2022-09-13T16:27:46.405762Z",
     "shell.execute_reply": "2022-09-13T16:27:46.405118Z"
    },
    "papermill": {
     "duration": 0.025377,
     "end_time": "2022-09-13T16:27:46.407232",
     "exception": false,
     "start_time": "2022-09-13T16:27:46.381855",
     "status": "completed"
    },
    "tags": []
   },
   "outputs": [
    {
     "data": {
      "text/plain": [
       "3"
      ]
     },
     "metadata": {},
     "output_type": "display_data"
    }
   ],
   "source": [
    "from IPython.display import display\n",
    "\n",
    "import conf\n",
    "\n",
    "N_JOBS = conf.GENERAL[\"N_JOBS\"]\n",
    "display(N_JOBS)"
   ]
  },
  {
   "cell_type": "code",
   "execution_count": 2,
   "id": "9daddbef",
   "metadata": {
    "execution": {
     "iopub.execute_input": "2022-09-13T16:27:46.424840Z",
     "iopub.status.busy": "2022-09-13T16:27:46.424636Z",
     "iopub.status.idle": "2022-09-13T16:27:46.429467Z",
     "shell.execute_reply": "2022-09-13T16:27:46.429085Z"
    },
    "papermill": {
     "duration": 0.015117,
     "end_time": "2022-09-13T16:27:46.430665",
     "exception": false,
     "start_time": "2022-09-13T16:27:46.415548",
     "status": "completed"
    },
    "tags": []
   },
   "outputs": [
    {
     "name": "stdout",
     "output_type": "stream",
     "text": [
      "env: MKL_NUM_THREADS=3\n",
      "env: OPEN_BLAS_NUM_THREADS=3\n",
      "env: NUMEXPR_NUM_THREADS=3\n",
      "env: OMP_NUM_THREADS=3\n"
     ]
    }
   ],
   "source": [
    "%env MKL_NUM_THREADS=$N_JOBS\n",
    "%env OPEN_BLAS_NUM_THREADS=$N_JOBS\n",
    "%env NUMEXPR_NUM_THREADS=$N_JOBS\n",
    "%env OMP_NUM_THREADS=$N_JOBS"
   ]
  },
  {
   "cell_type": "markdown",
   "id": "138c544f",
   "metadata": {
    "papermill": {
     "duration": 0.00813,
     "end_time": "2022-09-13T16:27:46.457636",
     "exception": false,
     "start_time": "2022-09-13T16:27:46.449506",
     "status": "completed"
    },
    "tags": []
   },
   "source": [
    "# Modules loading"
   ]
  },
  {
   "cell_type": "code",
   "execution_count": 3,
   "id": "bc86a631",
   "metadata": {
    "execution": {
     "iopub.execute_input": "2022-09-13T16:27:46.474890Z",
     "iopub.status.busy": "2022-09-13T16:27:46.474689Z",
     "iopub.status.idle": "2022-09-13T16:27:46.487522Z",
     "shell.execute_reply": "2022-09-13T16:27:46.486983Z"
    },
    "papermill": {
     "duration": 0.023379,
     "end_time": "2022-09-13T16:27:46.488921",
     "exception": false,
     "start_time": "2022-09-13T16:27:46.465542",
     "status": "completed"
    },
    "tags": []
   },
   "outputs": [],
   "source": [
    "%load_ext autoreload\n",
    "%autoreload 2"
   ]
  },
  {
   "cell_type": "code",
   "execution_count": 4,
   "id": "4f66b083",
   "metadata": {
    "execution": {
     "iopub.execute_input": "2022-09-13T16:27:46.510940Z",
     "iopub.status.busy": "2022-09-13T16:27:46.510784Z",
     "iopub.status.idle": "2022-09-13T16:27:47.166316Z",
     "shell.execute_reply": "2022-09-13T16:27:47.165872Z"
    },
    "papermill": {
     "duration": 0.670434,
     "end_time": "2022-09-13T16:27:47.167781",
     "exception": false,
     "start_time": "2022-09-13T16:27:46.497347",
     "status": "completed"
    },
    "tags": []
   },
   "outputs": [],
   "source": [
    "from pathlib import Path\n",
    "\n",
    "import numpy as np\n",
    "import pandas as pd\n",
    "import matplotlib.pyplot as plt\n",
    "import seaborn as sns\n",
    "\n",
    "from utils import generate_result_set_name"
   ]
  },
  {
   "cell_type": "markdown",
   "id": "6236d93a",
   "metadata": {
    "papermill": {
     "duration": 0.007633,
     "end_time": "2022-09-13T16:27:47.183635",
     "exception": false,
     "start_time": "2022-09-13T16:27:47.176002",
     "status": "completed"
    },
    "tags": []
   },
   "source": [
    "# Settings"
   ]
  },
  {
   "cell_type": "code",
   "execution_count": 5,
   "id": "c2edf997",
   "metadata": {
    "execution": {
     "iopub.execute_input": "2022-09-13T16:27:47.200132Z",
     "iopub.status.busy": "2022-09-13T16:27:47.199937Z",
     "iopub.status.idle": "2022-09-13T16:27:47.216251Z",
     "shell.execute_reply": "2022-09-13T16:27:47.215540Z"
    },
    "papermill": {
     "duration": 0.026067,
     "end_time": "2022-09-13T16:27:47.217624",
     "exception": false,
     "start_time": "2022-09-13T16:27:47.191557",
     "status": "completed"
    },
    "tags": []
   },
   "outputs": [],
   "source": [
    "np.random.seed(0)"
   ]
  },
  {
   "cell_type": "code",
   "execution_count": 6,
   "id": "6b33e68b",
   "metadata": {
    "execution": {
     "iopub.execute_input": "2022-09-13T16:27:47.264333Z",
     "iopub.status.busy": "2022-09-13T16:27:47.264134Z",
     "iopub.status.idle": "2022-09-13T16:27:47.283083Z",
     "shell.execute_reply": "2022-09-13T16:27:47.282383Z"
    },
    "papermill": {
     "duration": 0.058538,
     "end_time": "2022-09-13T16:27:47.284701",
     "exception": false,
     "start_time": "2022-09-13T16:27:47.226163",
     "status": "completed"
    },
    "tags": []
   },
   "outputs": [],
   "source": [
    "INITIAL_RANDOM_STATE = 40000"
   ]
  },
  {
   "cell_type": "code",
   "execution_count": null,
   "id": "09b644f4-737a-40f0-8078-ec2118ae2326",
   "metadata": {},
   "outputs": [],
   "source": [
    "NULL_DIR = conf.RESULTS[\"CLUSTERING_NULL_DIR\"] / \"shuffle_genes\""
   ]
  },
  {
   "cell_type": "markdown",
   "id": "0eac3da0",
   "metadata": {
    "papermill": {
     "duration": 0.009689,
     "end_time": "2022-09-13T16:27:47.304360",
     "exception": false,
     "start_time": "2022-09-13T16:27:47.294671",
     "status": "completed"
    },
    "tags": []
   },
   "source": [
    "## Input data"
   ]
  },
  {
   "cell_type": "code",
   "execution_count": 7,
   "id": "8b00ad9f",
   "metadata": {
    "execution": {
     "iopub.execute_input": "2022-09-13T16:27:47.322871Z",
     "iopub.status.busy": "2022-09-13T16:27:47.322701Z",
     "iopub.status.idle": "2022-09-13T16:27:47.339004Z",
     "shell.execute_reply": "2022-09-13T16:27:47.338459Z"
    },
    "papermill": {
     "duration": 0.026814,
     "end_time": "2022-09-13T16:27:47.340344",
     "exception": false,
     "start_time": "2022-09-13T16:27:47.313530",
     "status": "completed"
    },
    "tags": []
   },
   "outputs": [],
   "source": [
    "INPUT_SUBSET = \"pca\""
   ]
  },
  {
   "cell_type": "code",
   "execution_count": 8,
   "id": "7b2c33b9",
   "metadata": {
    "execution": {
     "iopub.execute_input": "2022-09-13T16:27:47.357600Z",
     "iopub.status.busy": "2022-09-13T16:27:47.357434Z",
     "iopub.status.idle": "2022-09-13T16:27:47.373676Z",
     "shell.execute_reply": "2022-09-13T16:27:47.373109Z"
    },
    "papermill": {
     "duration": 0.026266,
     "end_time": "2022-09-13T16:27:47.375059",
     "exception": false,
     "start_time": "2022-09-13T16:27:47.348793",
     "status": "completed"
    },
    "tags": []
   },
   "outputs": [],
   "source": [
    "INPUT_STEM = \"z_score_std-projection-smultixcan-efo_partial-mashr-zscores\""
   ]
  },
  {
   "cell_type": "code",
   "execution_count": 9,
   "id": "4bce3734",
   "metadata": {
    "execution": {
     "iopub.execute_input": "2022-09-13T16:27:47.392612Z",
     "iopub.status.busy": "2022-09-13T16:27:47.392446Z",
     "iopub.status.idle": "2022-09-13T16:27:47.409044Z",
     "shell.execute_reply": "2022-09-13T16:27:47.408402Z"
    },
    "papermill": {
     "duration": 0.026908,
     "end_time": "2022-09-13T16:27:47.410432",
     "exception": false,
     "start_time": "2022-09-13T16:27:47.383524",
     "status": "completed"
    },
    "tags": []
   },
   "outputs": [],
   "source": [
    "DR_OPTIONS = {\n",
    "    \"n_components\": 50,\n",
    "    \"svd_solver\": \"full\",\n",
    "    \"random_state\": 0,\n",
    "}"
   ]
  },
  {
   "cell_type": "code",
   "execution_count": 10,
   "id": "7bd761ff",
   "metadata": {
    "execution": {
     "iopub.execute_input": "2022-09-13T16:27:47.427983Z",
     "iopub.status.busy": "2022-09-13T16:27:47.427773Z",
     "iopub.status.idle": "2022-09-13T16:27:47.446571Z",
     "shell.execute_reply": "2022-09-13T16:27:47.446100Z"
    },
    "papermill": {
     "duration": 0.02899,
     "end_time": "2022-09-13T16:27:47.447841",
     "exception": false,
     "start_time": "2022-09-13T16:27:47.418851",
     "status": "completed"
    },
    "tags": []
   },
   "outputs": [
    {
     "data": {
      "text/plain": [
       "PosixPath('/opt/data/results/clustering/null_sims/data_transformations/pca/pca-z_score_std-projection-smultixcan-efo_partial-mashr-zscores-n_components_50-random_state_0-svd_solver_full.pkl')"
      ]
     },
     "metadata": {},
     "output_type": "display_data"
    },
    {
     "data": {
      "text/plain": [
       "'pca-z_score_std-projection-smultixcan-efo_partial-mashr-zscores-n_components_50-random_state_0-svd_solver_full'"
      ]
     },
     "metadata": {},
     "output_type": "display_data"
    }
   ],
   "source": [
    "input_filepath = Path(\n",
    "    NULL_DIR,\n",
    "    \"data_transformations\",\n",
    "    INPUT_SUBSET,\n",
    "    generate_result_set_name(\n",
    "        DR_OPTIONS, prefix=f\"{INPUT_SUBSET}-{INPUT_STEM}-\", suffix=\".pkl\"\n",
    "    ),\n",
    ").resolve()\n",
    "display(input_filepath)\n",
    "\n",
    "assert input_filepath.exists(), \"Input file does not exist\"\n",
    "\n",
    "input_filepath_stem = input_filepath.stem\n",
    "display(input_filepath_stem)"
   ]
  },
  {
   "cell_type": "markdown",
   "id": "242b949d",
   "metadata": {
    "papermill": {
     "duration": 0.008424,
     "end_time": "2022-09-13T16:27:47.464884",
     "exception": false,
     "start_time": "2022-09-13T16:27:47.456460",
     "status": "completed"
    },
    "tags": []
   },
   "source": [
    "## Clustering"
   ]
  },
  {
   "cell_type": "code",
   "execution_count": 11,
   "id": "f85e6054",
   "metadata": {
    "execution": {
     "iopub.execute_input": "2022-09-13T16:27:47.492343Z",
     "iopub.status.busy": "2022-09-13T16:27:47.492137Z",
     "iopub.status.idle": "2022-09-13T16:27:47.582884Z",
     "shell.execute_reply": "2022-09-13T16:27:47.582219Z"
    },
    "papermill": {
     "duration": 0.110845,
     "end_time": "2022-09-13T16:27:47.584299",
     "exception": false,
     "start_time": "2022-09-13T16:27:47.473454",
     "status": "completed"
    },
    "tags": []
   },
   "outputs": [],
   "source": [
    "from sklearn.cluster import SpectralClustering"
   ]
  },
  {
   "cell_type": "code",
   "execution_count": 12,
   "id": "bb190c70",
   "metadata": {
    "execution": {
     "iopub.execute_input": "2022-09-13T16:27:47.601497Z",
     "iopub.status.busy": "2022-09-13T16:27:47.601334Z",
     "iopub.status.idle": "2022-09-13T16:27:47.619083Z",
     "shell.execute_reply": "2022-09-13T16:27:47.618440Z"
    },
    "papermill": {
     "duration": 0.027815,
     "end_time": "2022-09-13T16:27:47.620434",
     "exception": false,
     "start_time": "2022-09-13T16:27:47.592619",
     "status": "completed"
    },
    "tags": []
   },
   "outputs": [],
   "source": [
    "CLUSTERING_ATTRIBUTES_TO_SAVE = [\"n_clusters\"]"
   ]
  },
  {
   "cell_type": "code",
   "execution_count": 13,
   "id": "9a265d53",
   "metadata": {
    "execution": {
     "iopub.execute_input": "2022-09-13T16:27:47.638348Z",
     "iopub.status.busy": "2022-09-13T16:27:47.638182Z",
     "iopub.status.idle": "2022-09-13T16:27:47.657729Z",
     "shell.execute_reply": "2022-09-13T16:27:47.657279Z"
    },
    "papermill": {
     "duration": 0.030002,
     "end_time": "2022-09-13T16:27:47.659021",
     "exception": false,
     "start_time": "2022-09-13T16:27:47.629019",
     "status": "completed"
    },
    "tags": []
   },
   "outputs": [
    {
     "data": {
      "text/plain": [
       "{'K_MIN': 2,\n",
       " 'K_MAX': 60,\n",
       " 'N_REPS_PER_K': 5,\n",
       " 'KMEANS_N_INIT': 10,\n",
       " 'GAMMA': 0.001,\n",
       " 'AFFINITY': 'rbf'}"
      ]
     },
     "metadata": {},
     "output_type": "display_data"
    }
   ],
   "source": [
    "CLUSTERING_OPTIONS = {}\n",
    "\n",
    "CLUSTERING_OPTIONS[\"K_MIN\"] = 2\n",
    "CLUSTERING_OPTIONS[\"K_MAX\"] = 60  # sqrt(3749)\n",
    "CLUSTERING_OPTIONS[\"N_REPS_PER_K\"] = 5\n",
    "CLUSTERING_OPTIONS[\"KMEANS_N_INIT\"] = 10\n",
    "CLUSTERING_OPTIONS[\"GAMMA\"] = 1.0e-03\n",
    "CLUSTERING_OPTIONS[\"AFFINITY\"] = \"rbf\"\n",
    "\n",
    "display(CLUSTERING_OPTIONS)"
   ]
  },
  {
   "cell_type": "code",
   "execution_count": 14,
   "id": "5eb9a470",
   "metadata": {
    "execution": {
     "iopub.execute_input": "2022-09-13T16:27:47.677053Z",
     "iopub.status.busy": "2022-09-13T16:27:47.676887Z",
     "iopub.status.idle": "2022-09-13T16:27:47.697408Z",
     "shell.execute_reply": "2022-09-13T16:27:47.696837Z"
    },
    "papermill": {
     "duration": 0.031131,
     "end_time": "2022-09-13T16:27:47.698782",
     "exception": false,
     "start_time": "2022-09-13T16:27:47.667651",
     "status": "completed"
    },
    "tags": []
   },
   "outputs": [],
   "source": [
    "CLUSTERERS = {}\n",
    "\n",
    "idx = 0\n",
    "random_state = INITIAL_RANDOM_STATE\n",
    "\n",
    "for k in range(CLUSTERING_OPTIONS[\"K_MIN\"], CLUSTERING_OPTIONS[\"K_MAX\"] + 1):\n",
    "    for i in range(CLUSTERING_OPTIONS[\"N_REPS_PER_K\"]):\n",
    "        clus = SpectralClustering(\n",
    "            eigen_solver=\"arpack\",\n",
    "            n_clusters=k,\n",
    "            n_init=CLUSTERING_OPTIONS[\"KMEANS_N_INIT\"],\n",
    "            affinity=CLUSTERING_OPTIONS[\"AFFINITY\"],\n",
    "            gamma=CLUSTERING_OPTIONS[\"GAMMA\"],\n",
    "            random_state=random_state,\n",
    "        )\n",
    "\n",
    "        method_name = type(clus).__name__\n",
    "        CLUSTERERS[f\"{method_name} #{idx}\"] = clus\n",
    "\n",
    "        random_state = random_state + 1\n",
    "        idx = idx + 1"
   ]
  },
  {
   "cell_type": "code",
   "execution_count": 15,
   "id": "76ffed7a",
   "metadata": {
    "execution": {
     "iopub.execute_input": "2022-09-13T16:27:47.716790Z",
     "iopub.status.busy": "2022-09-13T16:27:47.716624Z",
     "iopub.status.idle": "2022-09-13T16:27:47.735451Z",
     "shell.execute_reply": "2022-09-13T16:27:47.734945Z"
    },
    "papermill": {
     "duration": 0.0293,
     "end_time": "2022-09-13T16:27:47.736794",
     "exception": false,
     "start_time": "2022-09-13T16:27:47.707494",
     "status": "completed"
    },
    "tags": []
   },
   "outputs": [
    {
     "data": {
      "text/plain": [
       "295"
      ]
     },
     "metadata": {},
     "output_type": "display_data"
    }
   ],
   "source": [
    "display(len(CLUSTERERS))"
   ]
  },
  {
   "cell_type": "code",
   "execution_count": 16,
   "id": "2cc3a286",
   "metadata": {
    "execution": {
     "iopub.execute_input": "2022-09-13T16:27:47.754980Z",
     "iopub.status.busy": "2022-09-13T16:27:47.754815Z",
     "iopub.status.idle": "2022-09-13T16:27:47.775501Z",
     "shell.execute_reply": "2022-09-13T16:27:47.774969Z"
    },
    "papermill": {
     "duration": 0.031251,
     "end_time": "2022-09-13T16:27:47.776852",
     "exception": false,
     "start_time": "2022-09-13T16:27:47.745601",
     "status": "completed"
    },
    "tags": []
   },
   "outputs": [
    {
     "data": {
      "text/plain": [
       "('SpectralClustering #0',\n",
       " SpectralClustering(eigen_solver='arpack', gamma=0.001, n_clusters=2,\n",
       "                    random_state=40000))"
      ]
     },
     "metadata": {},
     "output_type": "display_data"
    },
    {
     "data": {
      "text/plain": [
       "('SpectralClustering #1',\n",
       " SpectralClustering(eigen_solver='arpack', gamma=0.001, n_clusters=2,\n",
       "                    random_state=40001))"
      ]
     },
     "metadata": {},
     "output_type": "display_data"
    }
   ],
   "source": [
    "_iter = iter(CLUSTERERS.items())\n",
    "display(next(_iter))\n",
    "display(next(_iter))"
   ]
  },
  {
   "cell_type": "code",
   "execution_count": 17,
   "id": "c4c88ee6",
   "metadata": {
    "execution": {
     "iopub.execute_input": "2022-09-13T16:27:47.795259Z",
     "iopub.status.busy": "2022-09-13T16:27:47.795094Z",
     "iopub.status.idle": "2022-09-13T16:27:47.813873Z",
     "shell.execute_reply": "2022-09-13T16:27:47.813282Z"
    },
    "papermill": {
     "duration": 0.029505,
     "end_time": "2022-09-13T16:27:47.815182",
     "exception": false,
     "start_time": "2022-09-13T16:27:47.785677",
     "status": "completed"
    },
    "tags": []
   },
   "outputs": [
    {
     "data": {
      "text/plain": [
       "'SpectralClustering'"
      ]
     },
     "metadata": {},
     "output_type": "display_data"
    }
   ],
   "source": [
    "clustering_method_name = method_name\n",
    "display(clustering_method_name)"
   ]
  },
  {
   "cell_type": "markdown",
   "id": "7cac8aa4",
   "metadata": {
    "papermill": {
     "duration": 0.008594,
     "end_time": "2022-09-13T16:27:47.832772",
     "exception": false,
     "start_time": "2022-09-13T16:27:47.824178",
     "status": "completed"
    },
    "tags": []
   },
   "source": [
    "## Output directory"
   ]
  },
  {
   "cell_type": "code",
   "execution_count": 18,
   "id": "3574d510",
   "metadata": {
    "execution": {
     "iopub.execute_input": "2022-09-13T16:27:47.849954Z",
     "iopub.status.busy": "2022-09-13T16:27:47.849747Z",
     "iopub.status.idle": "2022-09-13T16:27:47.868569Z",
     "shell.execute_reply": "2022-09-13T16:27:47.868015Z"
    },
    "papermill": {
     "duration": 0.02877,
     "end_time": "2022-09-13T16:27:47.869850",
     "exception": false,
     "start_time": "2022-09-13T16:27:47.841080",
     "status": "completed"
    },
    "tags": []
   },
   "outputs": [
    {
     "data": {
      "text/plain": [
       "PosixPath('/opt/data/results/clustering/null_sims/runs/pca-z_score_std-projection-smultixcan-efo_partial-mashr-zscores')"
      ]
     },
     "metadata": {},
     "output_type": "display_data"
    }
   ],
   "source": [
    "# output dir for this notebook\n",
    "RESULTS_DIR = Path(\n",
    "    NULL_DIR,\n",
    "    \"runs\",\n",
    "    f\"{INPUT_SUBSET}-{INPUT_STEM}\",\n",
    ").resolve()\n",
    "RESULTS_DIR.mkdir(parents=True, exist_ok=True)\n",
    "\n",
    "display(RESULTS_DIR)"
   ]
  },
  {
   "cell_type": "markdown",
   "id": "7ba656f8",
   "metadata": {
    "papermill": {
     "duration": 0.008433,
     "end_time": "2022-09-13T16:27:47.887024",
     "exception": false,
     "start_time": "2022-09-13T16:27:47.878591",
     "status": "completed"
    },
    "tags": []
   },
   "source": [
    "# Load input file"
   ]
  },
  {
   "cell_type": "code",
   "execution_count": 19,
   "id": "5511350e",
   "metadata": {
    "execution": {
     "iopub.execute_input": "2022-09-13T16:27:47.905161Z",
     "iopub.status.busy": "2022-09-13T16:27:47.904956Z",
     "iopub.status.idle": "2022-09-13T16:27:47.924899Z",
     "shell.execute_reply": "2022-09-13T16:27:47.924422Z"
    },
    "papermill": {
     "duration": 0.030709,
     "end_time": "2022-09-13T16:27:47.926351",
     "exception": false,
     "start_time": "2022-09-13T16:27:47.895642",
     "status": "completed"
    },
    "tags": []
   },
   "outputs": [],
   "source": [
    "data = pd.read_pickle(input_filepath)"
   ]
  },
  {
   "cell_type": "code",
   "execution_count": 20,
   "id": "4c1765aa",
   "metadata": {
    "execution": {
     "iopub.execute_input": "2022-09-13T16:27:47.944576Z",
     "iopub.status.busy": "2022-09-13T16:27:47.944416Z",
     "iopub.status.idle": "2022-09-13T16:27:47.962964Z",
     "shell.execute_reply": "2022-09-13T16:27:47.962506Z"
    },
    "papermill": {
     "duration": 0.029065,
     "end_time": "2022-09-13T16:27:47.964249",
     "exception": false,
     "start_time": "2022-09-13T16:27:47.935184",
     "status": "completed"
    },
    "tags": []
   },
   "outputs": [
    {
     "data": {
      "text/plain": [
       "(3752, 50)"
      ]
     },
     "execution_count": 20,
     "metadata": {},
     "output_type": "execute_result"
    }
   ],
   "source": [
    "data.shape"
   ]
  },
  {
   "cell_type": "code",
   "execution_count": 21,
   "id": "a77fcc28",
   "metadata": {
    "execution": {
     "iopub.execute_input": "2022-09-13T16:27:47.983060Z",
     "iopub.status.busy": "2022-09-13T16:27:47.982846Z",
     "iopub.status.idle": "2022-09-13T16:27:48.015229Z",
     "shell.execute_reply": "2022-09-13T16:27:48.014619Z"
    },
    "papermill": {
     "duration": 0.043222,
     "end_time": "2022-09-13T16:27:48.016523",
     "exception": false,
     "start_time": "2022-09-13T16:27:47.973301",
     "status": "completed"
    },
    "tags": []
   },
   "outputs": [
    {
     "data": {
      "text/html": [
       "<div>\n",
       "<style scoped>\n",
       "    .dataframe tbody tr th:only-of-type {\n",
       "        vertical-align: middle;\n",
       "    }\n",
       "\n",
       "    .dataframe tbody tr th {\n",
       "        vertical-align: top;\n",
       "    }\n",
       "\n",
       "    .dataframe thead th {\n",
       "        text-align: right;\n",
       "    }\n",
       "</style>\n",
       "<table border=\"1\" class=\"dataframe\">\n",
       "  <thead>\n",
       "    <tr style=\"text-align: right;\">\n",
       "      <th></th>\n",
       "      <th>PCA1</th>\n",
       "      <th>PCA2</th>\n",
       "      <th>PCA3</th>\n",
       "      <th>PCA4</th>\n",
       "      <th>PCA5</th>\n",
       "      <th>PCA6</th>\n",
       "      <th>PCA7</th>\n",
       "      <th>PCA8</th>\n",
       "      <th>PCA9</th>\n",
       "      <th>PCA10</th>\n",
       "      <th>...</th>\n",
       "      <th>PCA41</th>\n",
       "      <th>PCA42</th>\n",
       "      <th>PCA43</th>\n",
       "      <th>PCA44</th>\n",
       "      <th>PCA45</th>\n",
       "      <th>PCA46</th>\n",
       "      <th>PCA47</th>\n",
       "      <th>PCA48</th>\n",
       "      <th>PCA49</th>\n",
       "      <th>PCA50</th>\n",
       "    </tr>\n",
       "  </thead>\n",
       "  <tbody>\n",
       "    <tr>\n",
       "      <th>100001_raw-Food_weight</th>\n",
       "      <td>-0.844744</td>\n",
       "      <td>3.134501</td>\n",
       "      <td>-1.885185</td>\n",
       "      <td>0.800877</td>\n",
       "      <td>-0.283830</td>\n",
       "      <td>0.027480</td>\n",
       "      <td>0.611143</td>\n",
       "      <td>1.485636</td>\n",
       "      <td>0.202757</td>\n",
       "      <td>0.450528</td>\n",
       "      <td>...</td>\n",
       "      <td>2.547792</td>\n",
       "      <td>-1.128343</td>\n",
       "      <td>-0.907277</td>\n",
       "      <td>-0.049764</td>\n",
       "      <td>-1.669310</td>\n",
       "      <td>-0.721449</td>\n",
       "      <td>2.077602</td>\n",
       "      <td>0.799708</td>\n",
       "      <td>1.271524</td>\n",
       "      <td>-1.871291</td>\n",
       "    </tr>\n",
       "    <tr>\n",
       "      <th>100002_raw-Energy</th>\n",
       "      <td>-0.078568</td>\n",
       "      <td>-1.675988</td>\n",
       "      <td>-0.826605</td>\n",
       "      <td>0.872125</td>\n",
       "      <td>-1.257784</td>\n",
       "      <td>0.276976</td>\n",
       "      <td>0.123534</td>\n",
       "      <td>-0.225430</td>\n",
       "      <td>1.291625</td>\n",
       "      <td>-0.406739</td>\n",
       "      <td>...</td>\n",
       "      <td>-1.595450</td>\n",
       "      <td>-0.979352</td>\n",
       "      <td>2.081672</td>\n",
       "      <td>-1.266333</td>\n",
       "      <td>-1.430714</td>\n",
       "      <td>2.733243</td>\n",
       "      <td>-0.293793</td>\n",
       "      <td>-1.427649</td>\n",
       "      <td>-1.315076</td>\n",
       "      <td>1.458368</td>\n",
       "    </tr>\n",
       "    <tr>\n",
       "      <th>100003_raw-Protein</th>\n",
       "      <td>-1.966843</td>\n",
       "      <td>-0.720839</td>\n",
       "      <td>-0.621370</td>\n",
       "      <td>1.066950</td>\n",
       "      <td>0.612613</td>\n",
       "      <td>-1.143542</td>\n",
       "      <td>-3.256801</td>\n",
       "      <td>0.637131</td>\n",
       "      <td>1.275239</td>\n",
       "      <td>-1.746677</td>\n",
       "      <td>...</td>\n",
       "      <td>-0.898644</td>\n",
       "      <td>1.423939</td>\n",
       "      <td>0.200717</td>\n",
       "      <td>0.080861</td>\n",
       "      <td>-0.910925</td>\n",
       "      <td>-0.266207</td>\n",
       "      <td>1.036173</td>\n",
       "      <td>0.326860</td>\n",
       "      <td>-0.197079</td>\n",
       "      <td>-0.322935</td>\n",
       "    </tr>\n",
       "    <tr>\n",
       "      <th>100004_raw-Fat</th>\n",
       "      <td>0.332482</td>\n",
       "      <td>-0.928841</td>\n",
       "      <td>-0.216911</td>\n",
       "      <td>0.486861</td>\n",
       "      <td>0.454021</td>\n",
       "      <td>-1.316312</td>\n",
       "      <td>0.226607</td>\n",
       "      <td>2.504342</td>\n",
       "      <td>-0.740799</td>\n",
       "      <td>-2.027466</td>\n",
       "      <td>...</td>\n",
       "      <td>0.101529</td>\n",
       "      <td>0.032200</td>\n",
       "      <td>-0.658490</td>\n",
       "      <td>-0.288036</td>\n",
       "      <td>1.399674</td>\n",
       "      <td>2.502066</td>\n",
       "      <td>1.872188</td>\n",
       "      <td>-0.239398</td>\n",
       "      <td>-1.349670</td>\n",
       "      <td>-0.457304</td>\n",
       "    </tr>\n",
       "    <tr>\n",
       "      <th>100005_raw-Carbohydrate</th>\n",
       "      <td>2.106644</td>\n",
       "      <td>1.025306</td>\n",
       "      <td>0.405959</td>\n",
       "      <td>2.645132</td>\n",
       "      <td>0.881081</td>\n",
       "      <td>-1.718546</td>\n",
       "      <td>0.693749</td>\n",
       "      <td>0.135447</td>\n",
       "      <td>-0.303163</td>\n",
       "      <td>-0.525056</td>\n",
       "      <td>...</td>\n",
       "      <td>0.612486</td>\n",
       "      <td>-0.769634</td>\n",
       "      <td>-0.264214</td>\n",
       "      <td>3.150728</td>\n",
       "      <td>-1.403396</td>\n",
       "      <td>2.893334</td>\n",
       "      <td>0.900700</td>\n",
       "      <td>0.200481</td>\n",
       "      <td>-2.369759</td>\n",
       "      <td>-0.348016</td>\n",
       "    </tr>\n",
       "  </tbody>\n",
       "</table>\n",
       "<p>5 rows × 50 columns</p>\n",
       "</div>"
      ],
      "text/plain": [
       "                             PCA1      PCA2      PCA3      PCA4      PCA5  \\\n",
       "100001_raw-Food_weight  -0.844744  3.134501 -1.885185  0.800877 -0.283830   \n",
       "100002_raw-Energy       -0.078568 -1.675988 -0.826605  0.872125 -1.257784   \n",
       "100003_raw-Protein      -1.966843 -0.720839 -0.621370  1.066950  0.612613   \n",
       "100004_raw-Fat           0.332482 -0.928841 -0.216911  0.486861  0.454021   \n",
       "100005_raw-Carbohydrate  2.106644  1.025306  0.405959  2.645132  0.881081   \n",
       "\n",
       "                             PCA6      PCA7      PCA8      PCA9     PCA10  \\\n",
       "100001_raw-Food_weight   0.027480  0.611143  1.485636  0.202757  0.450528   \n",
       "100002_raw-Energy        0.276976  0.123534 -0.225430  1.291625 -0.406739   \n",
       "100003_raw-Protein      -1.143542 -3.256801  0.637131  1.275239 -1.746677   \n",
       "100004_raw-Fat          -1.316312  0.226607  2.504342 -0.740799 -2.027466   \n",
       "100005_raw-Carbohydrate -1.718546  0.693749  0.135447 -0.303163 -0.525056   \n",
       "\n",
       "                         ...     PCA41     PCA42     PCA43     PCA44  \\\n",
       "100001_raw-Food_weight   ...  2.547792 -1.128343 -0.907277 -0.049764   \n",
       "100002_raw-Energy        ... -1.595450 -0.979352  2.081672 -1.266333   \n",
       "100003_raw-Protein       ... -0.898644  1.423939  0.200717  0.080861   \n",
       "100004_raw-Fat           ...  0.101529  0.032200 -0.658490 -0.288036   \n",
       "100005_raw-Carbohydrate  ...  0.612486 -0.769634 -0.264214  3.150728   \n",
       "\n",
       "                            PCA45     PCA46     PCA47     PCA48     PCA49  \\\n",
       "100001_raw-Food_weight  -1.669310 -0.721449  2.077602  0.799708  1.271524   \n",
       "100002_raw-Energy       -1.430714  2.733243 -0.293793 -1.427649 -1.315076   \n",
       "100003_raw-Protein      -0.910925 -0.266207  1.036173  0.326860 -0.197079   \n",
       "100004_raw-Fat           1.399674  2.502066  1.872188 -0.239398 -1.349670   \n",
       "100005_raw-Carbohydrate -1.403396  2.893334  0.900700  0.200481 -2.369759   \n",
       "\n",
       "                            PCA50  \n",
       "100001_raw-Food_weight  -1.871291  \n",
       "100002_raw-Energy        1.458368  \n",
       "100003_raw-Protein      -0.322935  \n",
       "100004_raw-Fat          -0.457304  \n",
       "100005_raw-Carbohydrate -0.348016  \n",
       "\n",
       "[5 rows x 50 columns]"
      ]
     },
     "execution_count": 21,
     "metadata": {},
     "output_type": "execute_result"
    }
   ],
   "source": [
    "data.head()"
   ]
  },
  {
   "cell_type": "code",
   "execution_count": 22,
   "id": "164c4f7a",
   "metadata": {
    "execution": {
     "iopub.execute_input": "2022-09-13T16:27:48.035287Z",
     "iopub.status.busy": "2022-09-13T16:27:48.035123Z",
     "iopub.status.idle": "2022-09-13T16:27:48.053479Z",
     "shell.execute_reply": "2022-09-13T16:27:48.052838Z"
    },
    "papermill": {
     "duration": 0.029255,
     "end_time": "2022-09-13T16:27:48.054943",
     "exception": false,
     "start_time": "2022-09-13T16:27:48.025688",
     "status": "completed"
    },
    "tags": []
   },
   "outputs": [],
   "source": [
    "assert not data.isna().any().any()"
   ]
  },
  {
   "cell_type": "markdown",
   "id": "8457283e",
   "metadata": {
    "papermill": {
     "duration": 0.016824,
     "end_time": "2022-09-13T16:27:48.081060",
     "exception": false,
     "start_time": "2022-09-13T16:27:48.064236",
     "status": "completed"
    },
    "tags": []
   },
   "source": [
    "# Clustering"
   ]
  },
  {
   "cell_type": "markdown",
   "id": "0b9c63c1",
   "metadata": {
    "papermill": {
     "duration": 0.009029,
     "end_time": "2022-09-13T16:27:48.099286",
     "exception": false,
     "start_time": "2022-09-13T16:27:48.090257",
     "status": "completed"
    },
    "tags": []
   },
   "source": [
    "## Generate ensemble"
   ]
  },
  {
   "cell_type": "code",
   "execution_count": 23,
   "id": "ad23ebb6",
   "metadata": {
    "execution": {
     "iopub.execute_input": "2022-09-13T16:27:48.119116Z",
     "iopub.status.busy": "2022-09-13T16:27:48.118933Z",
     "iopub.status.idle": "2022-09-13T16:27:48.140664Z",
     "shell.execute_reply": "2022-09-13T16:27:48.140135Z"
    },
    "papermill": {
     "duration": 0.033387,
     "end_time": "2022-09-13T16:27:48.142149",
     "exception": false,
     "start_time": "2022-09-13T16:27:48.108762",
     "status": "completed"
    },
    "tags": []
   },
   "outputs": [],
   "source": [
    "from clustering.ensembles.utils import generate_ensemble"
   ]
  },
  {
   "cell_type": "code",
   "execution_count": 24,
   "id": "e803fee6",
   "metadata": {
    "execution": {
     "iopub.execute_input": "2022-09-13T16:27:48.161407Z",
     "iopub.status.busy": "2022-09-13T16:27:48.161215Z",
     "iopub.status.idle": "2022-09-13T16:41:14.064825Z",
     "shell.execute_reply": "2022-09-13T16:41:14.064119Z"
    },
    "papermill": {
     "duration": 805.914401,
     "end_time": "2022-09-13T16:41:14.066135",
     "exception": false,
     "start_time": "2022-09-13T16:27:48.151734",
     "status": "completed"
    },
    "tags": []
   },
   "outputs": [
    {
     "name": "stderr",
     "output_type": "stream",
     "text": [
      "100%|██████████| 295/295 [13:25<00:00,  2.73s/it]\n"
     ]
    }
   ],
   "source": [
    "ensemble = generate_ensemble(\n",
    "    data,\n",
    "    CLUSTERERS,\n",
    "    attributes=CLUSTERING_ATTRIBUTES_TO_SAVE,\n",
    ")"
   ]
  },
  {
   "cell_type": "code",
   "execution_count": 25,
   "id": "e26876ad",
   "metadata": {
    "execution": {
     "iopub.execute_input": "2022-09-13T16:41:14.103072Z",
     "iopub.status.busy": "2022-09-13T16:41:14.102860Z",
     "iopub.status.idle": "2022-09-13T16:41:14.121551Z",
     "shell.execute_reply": "2022-09-13T16:41:14.120963Z"
    },
    "papermill": {
     "duration": 0.038464,
     "end_time": "2022-09-13T16:41:14.122796",
     "exception": false,
     "start_time": "2022-09-13T16:41:14.084332",
     "status": "completed"
    },
    "tags": []
   },
   "outputs": [
    {
     "data": {
      "text/plain": [
       "(295, 3)"
      ]
     },
     "execution_count": 25,
     "metadata": {},
     "output_type": "execute_result"
    }
   ],
   "source": [
    "# the number should be close to 295 (the number of partitions generated by k-means/spectral clustering)\n",
    "ensemble.shape"
   ]
  },
  {
   "cell_type": "code",
   "execution_count": 26,
   "id": "4b18215d",
   "metadata": {
    "execution": {
     "iopub.execute_input": "2022-09-13T16:41:14.160944Z",
     "iopub.status.busy": "2022-09-13T16:41:14.160735Z",
     "iopub.status.idle": "2022-09-13T16:41:14.187064Z",
     "shell.execute_reply": "2022-09-13T16:41:14.186580Z"
    },
    "papermill": {
     "duration": 0.046824,
     "end_time": "2022-09-13T16:41:14.188291",
     "exception": false,
     "start_time": "2022-09-13T16:41:14.141467",
     "status": "completed"
    },
    "tags": []
   },
   "outputs": [
    {
     "data": {
      "text/html": [
       "<div>\n",
       "<style scoped>\n",
       "    .dataframe tbody tr th:only-of-type {\n",
       "        vertical-align: middle;\n",
       "    }\n",
       "\n",
       "    .dataframe tbody tr th {\n",
       "        vertical-align: top;\n",
       "    }\n",
       "\n",
       "    .dataframe thead th {\n",
       "        text-align: right;\n",
       "    }\n",
       "</style>\n",
       "<table border=\"1\" class=\"dataframe\">\n",
       "  <thead>\n",
       "    <tr style=\"text-align: right;\">\n",
       "      <th></th>\n",
       "      <th>clusterer_params</th>\n",
       "      <th>partition</th>\n",
       "      <th>n_clusters</th>\n",
       "    </tr>\n",
       "    <tr>\n",
       "      <th>clusterer_id</th>\n",
       "      <th></th>\n",
       "      <th></th>\n",
       "      <th></th>\n",
       "    </tr>\n",
       "  </thead>\n",
       "  <tbody>\n",
       "    <tr>\n",
       "      <th>SpectralClustering #0</th>\n",
       "      <td>{'affinity': 'rbf', 'assign_labels': 'kmeans',...</td>\n",
       "      <td>[1.0, 1.0, 1.0, 0.0, 1.0, 0.0, 0.0, 1.0, 0.0, ...</td>\n",
       "      <td>2</td>\n",
       "    </tr>\n",
       "    <tr>\n",
       "      <th>SpectralClustering #1</th>\n",
       "      <td>{'affinity': 'rbf', 'assign_labels': 'kmeans',...</td>\n",
       "      <td>[1.0, 1.0, 1.0, 0.0, 1.0, 0.0, 0.0, 1.0, 0.0, ...</td>\n",
       "      <td>2</td>\n",
       "    </tr>\n",
       "    <tr>\n",
       "      <th>SpectralClustering #2</th>\n",
       "      <td>{'affinity': 'rbf', 'assign_labels': 'kmeans',...</td>\n",
       "      <td>[0.0, 0.0, 0.0, 1.0, 0.0, 1.0, 1.0, 0.0, 1.0, ...</td>\n",
       "      <td>2</td>\n",
       "    </tr>\n",
       "    <tr>\n",
       "      <th>SpectralClustering #3</th>\n",
       "      <td>{'affinity': 'rbf', 'assign_labels': 'kmeans',...</td>\n",
       "      <td>[1.0, 1.0, 1.0, 0.0, 1.0, 0.0, 0.0, 1.0, 0.0, ...</td>\n",
       "      <td>2</td>\n",
       "    </tr>\n",
       "    <tr>\n",
       "      <th>SpectralClustering #4</th>\n",
       "      <td>{'affinity': 'rbf', 'assign_labels': 'kmeans',...</td>\n",
       "      <td>[1.0, 1.0, 1.0, 0.0, 1.0, 0.0, 0.0, 1.0, 0.0, ...</td>\n",
       "      <td>2</td>\n",
       "    </tr>\n",
       "  </tbody>\n",
       "</table>\n",
       "</div>"
      ],
      "text/plain": [
       "                                                        clusterer_params  \\\n",
       "clusterer_id                                                               \n",
       "SpectralClustering #0  {'affinity': 'rbf', 'assign_labels': 'kmeans',...   \n",
       "SpectralClustering #1  {'affinity': 'rbf', 'assign_labels': 'kmeans',...   \n",
       "SpectralClustering #2  {'affinity': 'rbf', 'assign_labels': 'kmeans',...   \n",
       "SpectralClustering #3  {'affinity': 'rbf', 'assign_labels': 'kmeans',...   \n",
       "SpectralClustering #4  {'affinity': 'rbf', 'assign_labels': 'kmeans',...   \n",
       "\n",
       "                                                               partition  \\\n",
       "clusterer_id                                                               \n",
       "SpectralClustering #0  [1.0, 1.0, 1.0, 0.0, 1.0, 0.0, 0.0, 1.0, 0.0, ...   \n",
       "SpectralClustering #1  [1.0, 1.0, 1.0, 0.0, 1.0, 0.0, 0.0, 1.0, 0.0, ...   \n",
       "SpectralClustering #2  [0.0, 0.0, 0.0, 1.0, 0.0, 1.0, 1.0, 0.0, 1.0, ...   \n",
       "SpectralClustering #3  [1.0, 1.0, 1.0, 0.0, 1.0, 0.0, 0.0, 1.0, 0.0, ...   \n",
       "SpectralClustering #4  [1.0, 1.0, 1.0, 0.0, 1.0, 0.0, 0.0, 1.0, 0.0, ...   \n",
       "\n",
       "                       n_clusters  \n",
       "clusterer_id                       \n",
       "SpectralClustering #0           2  \n",
       "SpectralClustering #1           2  \n",
       "SpectralClustering #2           2  \n",
       "SpectralClustering #3           2  \n",
       "SpectralClustering #4           2  "
      ]
     },
     "execution_count": 26,
     "metadata": {},
     "output_type": "execute_result"
    }
   ],
   "source": [
    "ensemble.head()"
   ]
  },
  {
   "cell_type": "code",
   "execution_count": 27,
   "id": "3c8603a4",
   "metadata": {
    "execution": {
     "iopub.execute_input": "2022-09-13T16:41:14.225432Z",
     "iopub.status.busy": "2022-09-13T16:41:14.225221Z",
     "iopub.status.idle": "2022-09-13T16:41:14.245378Z",
     "shell.execute_reply": "2022-09-13T16:41:14.244813Z"
    },
    "papermill": {
     "duration": 0.040013,
     "end_time": "2022-09-13T16:41:14.246659",
     "exception": false,
     "start_time": "2022-09-13T16:41:14.206646",
     "status": "completed"
    },
    "tags": []
   },
   "outputs": [
    {
     "data": {
      "text/plain": [
       "60    5\n",
       "16    5\n",
       "28    5\n",
       "27    5\n",
       "26    5\n",
       "Name: n_clusters, dtype: int64"
      ]
     },
     "execution_count": 27,
     "metadata": {},
     "output_type": "execute_result"
    }
   ],
   "source": [
    "ensemble[\"n_clusters\"].value_counts().head()"
   ]
  },
  {
   "cell_type": "code",
   "execution_count": 28,
   "id": "7d05d5f7",
   "metadata": {
    "execution": {
     "iopub.execute_input": "2022-09-13T16:41:14.284640Z",
     "iopub.status.busy": "2022-09-13T16:41:14.284416Z",
     "iopub.status.idle": "2022-09-13T16:41:14.305128Z",
     "shell.execute_reply": "2022-09-13T16:41:14.304664Z"
    },
    "papermill": {
     "duration": 0.040682,
     "end_time": "2022-09-13T16:41:14.306412",
     "exception": false,
     "start_time": "2022-09-13T16:41:14.265730",
     "status": "completed"
    },
    "tags": []
   },
   "outputs": [
    {
     "data": {
      "text/plain": [
       "count    295.000000\n",
       "mean      31.000000\n",
       "std       17.058323\n",
       "min        2.000000\n",
       "25%       16.000000\n",
       "50%       31.000000\n",
       "75%       46.000000\n",
       "max       60.000000\n",
       "Name: n_clusters, dtype: float64"
      ]
     },
     "metadata": {},
     "output_type": "display_data"
    }
   ],
   "source": [
    "ensemble_stats = ensemble[\"n_clusters\"].describe()\n",
    "display(ensemble_stats)"
   ]
  },
  {
   "cell_type": "markdown",
   "id": "bd42d0f1",
   "metadata": {
    "papermill": {
     "duration": 0.018332,
     "end_time": "2022-09-13T16:41:14.344437",
     "exception": false,
     "start_time": "2022-09-13T16:41:14.326105",
     "status": "completed"
    },
    "tags": []
   },
   "source": [
    "## Testing"
   ]
  },
  {
   "cell_type": "code",
   "execution_count": 29,
   "id": "741faa02",
   "metadata": {
    "execution": {
     "iopub.execute_input": "2022-09-13T16:41:14.381252Z",
     "iopub.status.busy": "2022-09-13T16:41:14.381044Z",
     "iopub.status.idle": "2022-09-13T16:41:14.399146Z",
     "shell.execute_reply": "2022-09-13T16:41:14.398522Z"
    },
    "papermill": {
     "duration": 0.038337,
     "end_time": "2022-09-13T16:41:14.400535",
     "exception": false,
     "start_time": "2022-09-13T16:41:14.362198",
     "status": "completed"
    },
    "tags": []
   },
   "outputs": [],
   "source": [
    "assert ensemble_stats[\"min\"] > 1"
   ]
  },
  {
   "cell_type": "code",
   "execution_count": 30,
   "id": "9e963c53",
   "metadata": {
    "execution": {
     "iopub.execute_input": "2022-09-13T16:41:14.439181Z",
     "iopub.status.busy": "2022-09-13T16:41:14.438964Z",
     "iopub.status.idle": "2022-09-13T16:41:14.457354Z",
     "shell.execute_reply": "2022-09-13T16:41:14.456702Z"
    },
    "papermill": {
     "duration": 0.038817,
     "end_time": "2022-09-13T16:41:14.458769",
     "exception": false,
     "start_time": "2022-09-13T16:41:14.419952",
     "status": "completed"
    },
    "tags": []
   },
   "outputs": [],
   "source": [
    "assert not ensemble[\"n_clusters\"].isna().any()"
   ]
  },
  {
   "cell_type": "code",
   "execution_count": 31,
   "id": "5c3b15ab",
   "metadata": {
    "execution": {
     "iopub.execute_input": "2022-09-13T16:41:14.496504Z",
     "iopub.status.busy": "2022-09-13T16:41:14.496296Z",
     "iopub.status.idle": "2022-09-13T16:41:14.514482Z",
     "shell.execute_reply": "2022-09-13T16:41:14.513883Z"
    },
    "papermill": {
     "duration": 0.038315,
     "end_time": "2022-09-13T16:41:14.515961",
     "exception": false,
     "start_time": "2022-09-13T16:41:14.477646",
     "status": "completed"
    },
    "tags": []
   },
   "outputs": [],
   "source": [
    "assert ensemble.shape[0] == len(CLUSTERERS)"
   ]
  },
  {
   "cell_type": "code",
   "execution_count": 32,
   "id": "0ef6e3ba",
   "metadata": {
    "execution": {
     "iopub.execute_input": "2022-09-13T16:41:14.554106Z",
     "iopub.status.busy": "2022-09-13T16:41:14.553898Z",
     "iopub.status.idle": "2022-09-13T16:41:14.588945Z",
     "shell.execute_reply": "2022-09-13T16:41:14.588480Z"
    },
    "papermill": {
     "duration": 0.055746,
     "end_time": "2022-09-13T16:41:14.590500",
     "exception": false,
     "start_time": "2022-09-13T16:41:14.534754",
     "status": "completed"
    },
    "tags": []
   },
   "outputs": [],
   "source": [
    "# all partitions have the right size\n",
    "assert np.all(\n",
    "    [part[\"partition\"].shape[0] == data.shape[0] for idx, part in ensemble.iterrows()]\n",
    ")"
   ]
  },
  {
   "cell_type": "code",
   "execution_count": 33,
   "id": "eb89ef4f",
   "metadata": {
    "execution": {
     "iopub.execute_input": "2022-09-13T16:41:14.627941Z",
     "iopub.status.busy": "2022-09-13T16:41:14.627721Z",
     "iopub.status.idle": "2022-09-13T16:41:14.667066Z",
     "shell.execute_reply": "2022-09-13T16:41:14.666172Z"
    },
    "papermill": {
     "duration": 0.059662,
     "end_time": "2022-09-13T16:41:14.668651",
     "exception": false,
     "start_time": "2022-09-13T16:41:14.608989",
     "status": "completed"
    },
    "tags": []
   },
   "outputs": [],
   "source": [
    "# no partition has negative clusters (noisy points)\n",
    "assert not np.any([(part[\"partition\"] < 0).any() for idx, part in ensemble.iterrows()])"
   ]
  },
  {
   "cell_type": "markdown",
   "id": "a74f582f",
   "metadata": {
    "papermill": {
     "duration": 0.017988,
     "end_time": "2022-09-13T16:41:14.705183",
     "exception": false,
     "start_time": "2022-09-13T16:41:14.687195",
     "status": "completed"
    },
    "tags": []
   },
   "source": [
    "## Add clustering quality measures"
   ]
  },
  {
   "cell_type": "code",
   "execution_count": 34,
   "id": "ee567e46",
   "metadata": {
    "execution": {
     "iopub.execute_input": "2022-09-13T16:41:14.743405Z",
     "iopub.status.busy": "2022-09-13T16:41:14.742738Z",
     "iopub.status.idle": "2022-09-13T16:41:14.760323Z",
     "shell.execute_reply": "2022-09-13T16:41:14.759734Z"
    },
    "papermill": {
     "duration": 0.037551,
     "end_time": "2022-09-13T16:41:14.761654",
     "exception": false,
     "start_time": "2022-09-13T16:41:14.724103",
     "status": "completed"
    },
    "tags": []
   },
   "outputs": [],
   "source": [
    "from sklearn.metrics import calinski_harabasz_score"
   ]
  },
  {
   "cell_type": "code",
   "execution_count": 35,
   "id": "39fbde7a",
   "metadata": {
    "execution": {
     "iopub.execute_input": "2022-09-13T16:41:14.798866Z",
     "iopub.status.busy": "2022-09-13T16:41:14.798645Z",
     "iopub.status.idle": "2022-09-13T16:41:15.780539Z",
     "shell.execute_reply": "2022-09-13T16:41:15.780046Z"
    },
    "papermill": {
     "duration": 1.001881,
     "end_time": "2022-09-13T16:41:15.781928",
     "exception": false,
     "start_time": "2022-09-13T16:41:14.780047",
     "status": "completed"
    },
    "tags": []
   },
   "outputs": [],
   "source": [
    "ensemble = ensemble.assign(\n",
    "    ch_score=ensemble[\"partition\"].apply(lambda x: calinski_harabasz_score(data, x))\n",
    ")"
   ]
  },
  {
   "cell_type": "code",
   "execution_count": 36,
   "id": "e7944f4b",
   "metadata": {
    "execution": {
     "iopub.execute_input": "2022-09-13T16:41:15.819729Z",
     "iopub.status.busy": "2022-09-13T16:41:15.819507Z",
     "iopub.status.idle": "2022-09-13T16:41:15.838510Z",
     "shell.execute_reply": "2022-09-13T16:41:15.837961Z"
    },
    "papermill": {
     "duration": 0.039447,
     "end_time": "2022-09-13T16:41:15.839708",
     "exception": false,
     "start_time": "2022-09-13T16:41:15.800261",
     "status": "completed"
    },
    "tags": []
   },
   "outputs": [
    {
     "data": {
      "text/plain": [
       "(295, 4)"
      ]
     },
     "execution_count": 36,
     "metadata": {},
     "output_type": "execute_result"
    }
   ],
   "source": [
    "ensemble.shape"
   ]
  },
  {
   "cell_type": "code",
   "execution_count": 37,
   "id": "89ae696d",
   "metadata": {
    "execution": {
     "iopub.execute_input": "2022-09-13T16:41:15.877958Z",
     "iopub.status.busy": "2022-09-13T16:41:15.877245Z",
     "iopub.status.idle": "2022-09-13T16:41:15.903456Z",
     "shell.execute_reply": "2022-09-13T16:41:15.902969Z"
    },
    "papermill": {
     "duration": 0.046254,
     "end_time": "2022-09-13T16:41:15.904711",
     "exception": false,
     "start_time": "2022-09-13T16:41:15.858457",
     "status": "completed"
    },
    "tags": []
   },
   "outputs": [
    {
     "data": {
      "text/html": [
       "<div>\n",
       "<style scoped>\n",
       "    .dataframe tbody tr th:only-of-type {\n",
       "        vertical-align: middle;\n",
       "    }\n",
       "\n",
       "    .dataframe tbody tr th {\n",
       "        vertical-align: top;\n",
       "    }\n",
       "\n",
       "    .dataframe thead th {\n",
       "        text-align: right;\n",
       "    }\n",
       "</style>\n",
       "<table border=\"1\" class=\"dataframe\">\n",
       "  <thead>\n",
       "    <tr style=\"text-align: right;\">\n",
       "      <th></th>\n",
       "      <th>clusterer_params</th>\n",
       "      <th>partition</th>\n",
       "      <th>n_clusters</th>\n",
       "      <th>ch_score</th>\n",
       "    </tr>\n",
       "    <tr>\n",
       "      <th>clusterer_id</th>\n",
       "      <th></th>\n",
       "      <th></th>\n",
       "      <th></th>\n",
       "      <th></th>\n",
       "    </tr>\n",
       "  </thead>\n",
       "  <tbody>\n",
       "    <tr>\n",
       "      <th>SpectralClustering #0</th>\n",
       "      <td>{'affinity': 'rbf', 'assign_labels': 'kmeans',...</td>\n",
       "      <td>[1.0, 1.0, 1.0, 0.0, 1.0, 0.0, 0.0, 1.0, 0.0, ...</td>\n",
       "      <td>2</td>\n",
       "      <td>49.811877</td>\n",
       "    </tr>\n",
       "    <tr>\n",
       "      <th>SpectralClustering #1</th>\n",
       "      <td>{'affinity': 'rbf', 'assign_labels': 'kmeans',...</td>\n",
       "      <td>[1.0, 1.0, 1.0, 0.0, 1.0, 0.0, 0.0, 1.0, 0.0, ...</td>\n",
       "      <td>2</td>\n",
       "      <td>49.811877</td>\n",
       "    </tr>\n",
       "    <tr>\n",
       "      <th>SpectralClustering #2</th>\n",
       "      <td>{'affinity': 'rbf', 'assign_labels': 'kmeans',...</td>\n",
       "      <td>[0.0, 0.0, 0.0, 1.0, 0.0, 1.0, 1.0, 0.0, 1.0, ...</td>\n",
       "      <td>2</td>\n",
       "      <td>49.792536</td>\n",
       "    </tr>\n",
       "    <tr>\n",
       "      <th>SpectralClustering #3</th>\n",
       "      <td>{'affinity': 'rbf', 'assign_labels': 'kmeans',...</td>\n",
       "      <td>[1.0, 1.0, 1.0, 0.0, 1.0, 0.0, 0.0, 1.0, 0.0, ...</td>\n",
       "      <td>2</td>\n",
       "      <td>49.811877</td>\n",
       "    </tr>\n",
       "    <tr>\n",
       "      <th>SpectralClustering #4</th>\n",
       "      <td>{'affinity': 'rbf', 'assign_labels': 'kmeans',...</td>\n",
       "      <td>[1.0, 1.0, 1.0, 0.0, 1.0, 0.0, 0.0, 1.0, 0.0, ...</td>\n",
       "      <td>2</td>\n",
       "      <td>49.797765</td>\n",
       "    </tr>\n",
       "  </tbody>\n",
       "</table>\n",
       "</div>"
      ],
      "text/plain": [
       "                                                        clusterer_params  \\\n",
       "clusterer_id                                                               \n",
       "SpectralClustering #0  {'affinity': 'rbf', 'assign_labels': 'kmeans',...   \n",
       "SpectralClustering #1  {'affinity': 'rbf', 'assign_labels': 'kmeans',...   \n",
       "SpectralClustering #2  {'affinity': 'rbf', 'assign_labels': 'kmeans',...   \n",
       "SpectralClustering #3  {'affinity': 'rbf', 'assign_labels': 'kmeans',...   \n",
       "SpectralClustering #4  {'affinity': 'rbf', 'assign_labels': 'kmeans',...   \n",
       "\n",
       "                                                               partition  \\\n",
       "clusterer_id                                                               \n",
       "SpectralClustering #0  [1.0, 1.0, 1.0, 0.0, 1.0, 0.0, 0.0, 1.0, 0.0, ...   \n",
       "SpectralClustering #1  [1.0, 1.0, 1.0, 0.0, 1.0, 0.0, 0.0, 1.0, 0.0, ...   \n",
       "SpectralClustering #2  [0.0, 0.0, 0.0, 1.0, 0.0, 1.0, 1.0, 0.0, 1.0, ...   \n",
       "SpectralClustering #3  [1.0, 1.0, 1.0, 0.0, 1.0, 0.0, 0.0, 1.0, 0.0, ...   \n",
       "SpectralClustering #4  [1.0, 1.0, 1.0, 0.0, 1.0, 0.0, 0.0, 1.0, 0.0, ...   \n",
       "\n",
       "                       n_clusters   ch_score  \n",
       "clusterer_id                                  \n",
       "SpectralClustering #0           2  49.811877  \n",
       "SpectralClustering #1           2  49.811877  \n",
       "SpectralClustering #2           2  49.792536  \n",
       "SpectralClustering #3           2  49.811877  \n",
       "SpectralClustering #4           2  49.797765  "
      ]
     },
     "execution_count": 37,
     "metadata": {},
     "output_type": "execute_result"
    }
   ],
   "source": [
    "ensemble.head()"
   ]
  },
  {
   "cell_type": "markdown",
   "id": "729b4986",
   "metadata": {
    "papermill": {
     "duration": 0.018159,
     "end_time": "2022-09-13T16:41:15.941851",
     "exception": false,
     "start_time": "2022-09-13T16:41:15.923692",
     "status": "completed"
    },
    "tags": []
   },
   "source": [
    "## Save"
   ]
  },
  {
   "cell_type": "code",
   "execution_count": 38,
   "id": "8d1318c4",
   "metadata": {
    "execution": {
     "iopub.execute_input": "2022-09-13T16:41:15.979209Z",
     "iopub.status.busy": "2022-09-13T16:41:15.978988Z",
     "iopub.status.idle": "2022-09-13T16:41:15.999827Z",
     "shell.execute_reply": "2022-09-13T16:41:15.999322Z"
    },
    "papermill": {
     "duration": 0.04102,
     "end_time": "2022-09-13T16:41:16.001094",
     "exception": false,
     "start_time": "2022-09-13T16:41:15.960074",
     "status": "completed"
    },
    "tags": []
   },
   "outputs": [
    {
     "data": {
      "text/plain": [
       "PosixPath('/opt/data/results/clustering/null_sims/runs/pca-z_score_std-projection-smultixcan-efo_partial-mashr-zscores/SpectralClustering-AFFINITY_rbf-GAMMA_0001-KMEANS_N_INIT_10-K_MAX_60-K_MIN_2-N_REPS_PER_K_5.pkl')"
      ]
     },
     "metadata": {},
     "output_type": "display_data"
    }
   ],
   "source": [
    "output_filename = Path(\n",
    "    RESULTS_DIR,\n",
    "    generate_result_set_name(\n",
    "        CLUSTERING_OPTIONS,\n",
    "        prefix=f\"{clustering_method_name}-\",\n",
    "        suffix=\".pkl\",\n",
    "    ),\n",
    ").resolve()\n",
    "display(output_filename)"
   ]
  },
  {
   "cell_type": "code",
   "execution_count": 39,
   "id": "f68c903c",
   "metadata": {
    "execution": {
     "iopub.execute_input": "2022-09-13T16:41:16.042702Z",
     "iopub.status.busy": "2022-09-13T16:41:16.042538Z",
     "iopub.status.idle": "2022-09-13T16:41:16.069334Z",
     "shell.execute_reply": "2022-09-13T16:41:16.068827Z"
    },
    "papermill": {
     "duration": 0.048624,
     "end_time": "2022-09-13T16:41:16.070806",
     "exception": false,
     "start_time": "2022-09-13T16:41:16.022182",
     "status": "completed"
    },
    "tags": []
   },
   "outputs": [],
   "source": [
    "ensemble.to_pickle(output_filename)"
   ]
  },
  {
   "cell_type": "markdown",
   "id": "79eb62c9",
   "metadata": {
    "papermill": {
     "duration": 0.01839,
     "end_time": "2022-09-13T16:41:16.109774",
     "exception": false,
     "start_time": "2022-09-13T16:41:16.091384",
     "status": "completed"
    },
    "tags": []
   },
   "source": [
    "# Cluster quality"
   ]
  },
  {
   "cell_type": "code",
   "execution_count": 40,
   "id": "3a4e2b22",
   "metadata": {
    "execution": {
     "iopub.execute_input": "2022-09-13T16:41:16.147443Z",
     "iopub.status.busy": "2022-09-13T16:41:16.147217Z",
     "iopub.status.idle": "2022-09-13T16:41:16.170581Z",
     "shell.execute_reply": "2022-09-13T16:41:16.170139Z"
    },
    "papermill": {
     "duration": 0.043775,
     "end_time": "2022-09-13T16:41:16.171839",
     "exception": false,
     "start_time": "2022-09-13T16:41:16.128064",
     "status": "completed"
    },
    "tags": []
   },
   "outputs": [
    {
     "data": {
      "text/html": [
       "<div>\n",
       "<style scoped>\n",
       "    .dataframe tbody tr th:only-of-type {\n",
       "        vertical-align: middle;\n",
       "    }\n",
       "\n",
       "    .dataframe tbody tr th {\n",
       "        vertical-align: top;\n",
       "    }\n",
       "\n",
       "    .dataframe thead th {\n",
       "        text-align: right;\n",
       "    }\n",
       "</style>\n",
       "<table border=\"1\" class=\"dataframe\">\n",
       "  <thead>\n",
       "    <tr style=\"text-align: right;\">\n",
       "      <th></th>\n",
       "      <th>ch_score</th>\n",
       "    </tr>\n",
       "    <tr>\n",
       "      <th>n_clusters</th>\n",
       "      <th></th>\n",
       "    </tr>\n",
       "  </thead>\n",
       "  <tbody>\n",
       "    <tr>\n",
       "      <th>2</th>\n",
       "      <td>49.805186</td>\n",
       "    </tr>\n",
       "    <tr>\n",
       "      <th>3</th>\n",
       "      <td>42.738359</td>\n",
       "    </tr>\n",
       "    <tr>\n",
       "      <th>4</th>\n",
       "      <td>37.944816</td>\n",
       "    </tr>\n",
       "    <tr>\n",
       "      <th>5</th>\n",
       "      <td>34.502887</td>\n",
       "    </tr>\n",
       "    <tr>\n",
       "      <th>6</th>\n",
       "      <td>31.818528</td>\n",
       "    </tr>\n",
       "    <tr>\n",
       "      <th>7</th>\n",
       "      <td>29.726554</td>\n",
       "    </tr>\n",
       "    <tr>\n",
       "      <th>8</th>\n",
       "      <td>27.813234</td>\n",
       "    </tr>\n",
       "    <tr>\n",
       "      <th>9</th>\n",
       "      <td>26.395828</td>\n",
       "    </tr>\n",
       "    <tr>\n",
       "      <th>10</th>\n",
       "      <td>25.069538</td>\n",
       "    </tr>\n",
       "    <tr>\n",
       "      <th>11</th>\n",
       "      <td>23.999828</td>\n",
       "    </tr>\n",
       "    <tr>\n",
       "      <th>12</th>\n",
       "      <td>22.989248</td>\n",
       "    </tr>\n",
       "    <tr>\n",
       "      <th>13</th>\n",
       "      <td>22.188886</td>\n",
       "    </tr>\n",
       "    <tr>\n",
       "      <th>14</th>\n",
       "      <td>21.324916</td>\n",
       "    </tr>\n",
       "    <tr>\n",
       "      <th>15</th>\n",
       "      <td>20.619704</td>\n",
       "    </tr>\n",
       "    <tr>\n",
       "      <th>16</th>\n",
       "      <td>20.007504</td>\n",
       "    </tr>\n",
       "    <tr>\n",
       "      <th>17</th>\n",
       "      <td>19.367638</td>\n",
       "    </tr>\n",
       "    <tr>\n",
       "      <th>18</th>\n",
       "      <td>18.830785</td>\n",
       "    </tr>\n",
       "    <tr>\n",
       "      <th>19</th>\n",
       "      <td>18.328596</td>\n",
       "    </tr>\n",
       "    <tr>\n",
       "      <th>20</th>\n",
       "      <td>17.885357</td>\n",
       "    </tr>\n",
       "    <tr>\n",
       "      <th>21</th>\n",
       "      <td>17.508634</td>\n",
       "    </tr>\n",
       "    <tr>\n",
       "      <th>22</th>\n",
       "      <td>17.033047</td>\n",
       "    </tr>\n",
       "    <tr>\n",
       "      <th>23</th>\n",
       "      <td>16.726255</td>\n",
       "    </tr>\n",
       "    <tr>\n",
       "      <th>24</th>\n",
       "      <td>16.438972</td>\n",
       "    </tr>\n",
       "    <tr>\n",
       "      <th>25</th>\n",
       "      <td>16.092913</td>\n",
       "    </tr>\n",
       "    <tr>\n",
       "      <th>26</th>\n",
       "      <td>15.765114</td>\n",
       "    </tr>\n",
       "    <tr>\n",
       "      <th>27</th>\n",
       "      <td>15.478588</td>\n",
       "    </tr>\n",
       "    <tr>\n",
       "      <th>28</th>\n",
       "      <td>15.230352</td>\n",
       "    </tr>\n",
       "    <tr>\n",
       "      <th>29</th>\n",
       "      <td>14.903139</td>\n",
       "    </tr>\n",
       "    <tr>\n",
       "      <th>30</th>\n",
       "      <td>14.723037</td>\n",
       "    </tr>\n",
       "    <tr>\n",
       "      <th>31</th>\n",
       "      <td>14.424590</td>\n",
       "    </tr>\n",
       "    <tr>\n",
       "      <th>32</th>\n",
       "      <td>14.251872</td>\n",
       "    </tr>\n",
       "    <tr>\n",
       "      <th>33</th>\n",
       "      <td>14.060076</td>\n",
       "    </tr>\n",
       "    <tr>\n",
       "      <th>34</th>\n",
       "      <td>13.810175</td>\n",
       "    </tr>\n",
       "    <tr>\n",
       "      <th>35</th>\n",
       "      <td>13.750807</td>\n",
       "    </tr>\n",
       "    <tr>\n",
       "      <th>36</th>\n",
       "      <td>13.628305</td>\n",
       "    </tr>\n",
       "    <tr>\n",
       "      <th>37</th>\n",
       "      <td>13.504608</td>\n",
       "    </tr>\n",
       "    <tr>\n",
       "      <th>38</th>\n",
       "      <td>13.453775</td>\n",
       "    </tr>\n",
       "    <tr>\n",
       "      <th>39</th>\n",
       "      <td>13.703831</td>\n",
       "    </tr>\n",
       "    <tr>\n",
       "      <th>40</th>\n",
       "      <td>13.414651</td>\n",
       "    </tr>\n",
       "    <tr>\n",
       "      <th>41</th>\n",
       "      <td>13.432494</td>\n",
       "    </tr>\n",
       "    <tr>\n",
       "      <th>42</th>\n",
       "      <td>13.657576</td>\n",
       "    </tr>\n",
       "    <tr>\n",
       "      <th>43</th>\n",
       "      <td>13.752865</td>\n",
       "    </tr>\n",
       "    <tr>\n",
       "      <th>44</th>\n",
       "      <td>13.891650</td>\n",
       "    </tr>\n",
       "    <tr>\n",
       "      <th>45</th>\n",
       "      <td>14.182185</td>\n",
       "    </tr>\n",
       "    <tr>\n",
       "      <th>46</th>\n",
       "      <td>14.468495</td>\n",
       "    </tr>\n",
       "    <tr>\n",
       "      <th>47</th>\n",
       "      <td>14.776398</td>\n",
       "    </tr>\n",
       "    <tr>\n",
       "      <th>48</th>\n",
       "      <td>15.685586</td>\n",
       "    </tr>\n",
       "    <tr>\n",
       "      <th>49</th>\n",
       "      <td>16.484199</td>\n",
       "    </tr>\n",
       "    <tr>\n",
       "      <th>50</th>\n",
       "      <td>17.408651</td>\n",
       "    </tr>\n",
       "    <tr>\n",
       "      <th>51</th>\n",
       "      <td>18.394948</td>\n",
       "    </tr>\n",
       "    <tr>\n",
       "      <th>52</th>\n",
       "      <td>18.259175</td>\n",
       "    </tr>\n",
       "    <tr>\n",
       "      <th>53</th>\n",
       "      <td>17.953140</td>\n",
       "    </tr>\n",
       "    <tr>\n",
       "      <th>54</th>\n",
       "      <td>17.804138</td>\n",
       "    </tr>\n",
       "    <tr>\n",
       "      <th>55</th>\n",
       "      <td>17.693034</td>\n",
       "    </tr>\n",
       "    <tr>\n",
       "      <th>56</th>\n",
       "      <td>17.629340</td>\n",
       "    </tr>\n",
       "    <tr>\n",
       "      <th>57</th>\n",
       "      <td>17.424446</td>\n",
       "    </tr>\n",
       "    <tr>\n",
       "      <th>58</th>\n",
       "      <td>17.275332</td>\n",
       "    </tr>\n",
       "    <tr>\n",
       "      <th>59</th>\n",
       "      <td>17.238476</td>\n",
       "    </tr>\n",
       "    <tr>\n",
       "      <th>60</th>\n",
       "      <td>17.002380</td>\n",
       "    </tr>\n",
       "  </tbody>\n",
       "</table>\n",
       "</div>"
      ],
      "text/plain": [
       "             ch_score\n",
       "n_clusters           \n",
       "2           49.805186\n",
       "3           42.738359\n",
       "4           37.944816\n",
       "5           34.502887\n",
       "6           31.818528\n",
       "7           29.726554\n",
       "8           27.813234\n",
       "9           26.395828\n",
       "10          25.069538\n",
       "11          23.999828\n",
       "12          22.989248\n",
       "13          22.188886\n",
       "14          21.324916\n",
       "15          20.619704\n",
       "16          20.007504\n",
       "17          19.367638\n",
       "18          18.830785\n",
       "19          18.328596\n",
       "20          17.885357\n",
       "21          17.508634\n",
       "22          17.033047\n",
       "23          16.726255\n",
       "24          16.438972\n",
       "25          16.092913\n",
       "26          15.765114\n",
       "27          15.478588\n",
       "28          15.230352\n",
       "29          14.903139\n",
       "30          14.723037\n",
       "31          14.424590\n",
       "32          14.251872\n",
       "33          14.060076\n",
       "34          13.810175\n",
       "35          13.750807\n",
       "36          13.628305\n",
       "37          13.504608\n",
       "38          13.453775\n",
       "39          13.703831\n",
       "40          13.414651\n",
       "41          13.432494\n",
       "42          13.657576\n",
       "43          13.752865\n",
       "44          13.891650\n",
       "45          14.182185\n",
       "46          14.468495\n",
       "47          14.776398\n",
       "48          15.685586\n",
       "49          16.484199\n",
       "50          17.408651\n",
       "51          18.394948\n",
       "52          18.259175\n",
       "53          17.953140\n",
       "54          17.804138\n",
       "55          17.693034\n",
       "56          17.629340\n",
       "57          17.424446\n",
       "58          17.275332\n",
       "59          17.238476\n",
       "60          17.002380"
      ]
     },
     "metadata": {},
     "output_type": "display_data"
    }
   ],
   "source": [
    "with pd.option_context(\"display.max_rows\", None, \"display.max_columns\", None):\n",
    "    _df = ensemble.groupby([\"n_clusters\"]).mean()\n",
    "    display(_df)"
   ]
  },
  {
   "cell_type": "code",
   "execution_count": 41,
   "id": "19621c68",
   "metadata": {
    "execution": {
     "iopub.execute_input": "2022-09-13T16:41:16.210385Z",
     "iopub.status.busy": "2022-09-13T16:41:16.210179Z",
     "iopub.status.idle": "2022-09-13T16:41:19.185881Z",
     "shell.execute_reply": "2022-09-13T16:41:19.184982Z"
    },
    "papermill": {
     "duration": 2.997217,
     "end_time": "2022-09-13T16:41:19.188159",
     "exception": false,
     "start_time": "2022-09-13T16:41:16.190942",
     "status": "completed"
    },
    "tags": []
   },
   "outputs": [
    {
     "data": {
      "image/png": "[encoded data removed]",
      "text/plain": [
       "<Figure size 1008x432 with 1 Axes>"
      ]
     },
     "metadata": {},
     "output_type": "display_data"
    }
   ],
   "source": [
    "with sns.plotting_context(\"talk\", font_scale=0.75), sns.axes_style(\n",
    "    \"whitegrid\", {\"grid.linestyle\": \"--\"}\n",
    "):\n",
    "    fig = plt.figure(figsize=(14, 6))\n",
    "    ax = sns.pointplot(data=ensemble, x=\"n_clusters\", y=\"ch_score\")\n",
    "    ax.set_ylabel(\"Calinski-Harabasz index\")\n",
    "    ax.set_xlabel(\"Number of clusters ($k$)\")\n",
    "    ax.set_xticklabels(ax.get_xticklabels(), rotation=45)\n",
    "    plt.grid(True)\n",
    "    plt.tight_layout()"
   ]
  },
  {
   "cell_type": "markdown",
   "id": "6040cd8c",
   "metadata": {
    "papermill": {
     "duration": 0.019693,
     "end_time": "2022-09-13T16:41:19.228340",
     "exception": false,
     "start_time": "2022-09-13T16:41:19.208647",
     "status": "completed"
    },
    "tags": []
   },
   "source": [
    "# Stability"
   ]
  },
  {
   "cell_type": "markdown",
   "id": "e8a9fe1b",
   "metadata": {
    "papermill": {
     "duration": 0.019235,
     "end_time": "2022-09-13T16:41:19.266940",
     "exception": false,
     "start_time": "2022-09-13T16:41:19.247705",
     "status": "completed"
    },
    "tags": []
   },
   "source": [
    "## Group ensemble by n_clusters"
   ]
  },
  {
   "cell_type": "code",
   "execution_count": 42,
   "id": "64ab9570",
   "metadata": {
    "execution": {
     "iopub.execute_input": "2022-09-13T16:41:19.307478Z",
     "iopub.status.busy": "2022-09-13T16:41:19.307246Z",
     "iopub.status.idle": "2022-09-13T16:41:19.340466Z",
     "shell.execute_reply": "2022-09-13T16:41:19.339823Z"
    },
    "papermill": {
     "duration": 0.0552,
     "end_time": "2022-09-13T16:41:19.341935",
     "exception": false,
     "start_time": "2022-09-13T16:41:19.286735",
     "status": "completed"
    },
    "tags": []
   },
   "outputs": [],
   "source": [
    "parts = ensemble.groupby(\"n_clusters\").apply(\n",
    "    lambda x: np.concatenate(x[\"partition\"].apply(lambda x: x.reshape(1, -1)), axis=0)\n",
    ")"
   ]
  },
  {
   "cell_type": "code",
   "execution_count": 43,
   "id": "aeed73a9",
   "metadata": {
    "execution": {
     "iopub.execute_input": "2022-09-13T16:41:19.382910Z",
     "iopub.status.busy": "2022-09-13T16:41:19.382701Z",
     "iopub.status.idle": "2022-09-13T16:41:19.412753Z",
     "shell.execute_reply": "2022-09-13T16:41:19.412329Z"
    },
    "papermill": {
     "duration": 0.051837,
     "end_time": "2022-09-13T16:41:19.414024",
     "exception": false,
     "start_time": "2022-09-13T16:41:19.362187",
     "status": "completed"
    },
    "tags": []
   },
   "outputs": [
    {
     "data": {
      "text/plain": [
       "n_clusters\n",
       "2    [[1.0, 1.0, 1.0, 0.0, 1.0, 0.0, 0.0, 1.0, 0.0,...\n",
       "3    [[0.0, 1.0, 1.0, 0.0, 0.0, 2.0, 2.0, 1.0, 0.0,...\n",
       "4    [[3.0, 1.0, 1.0, 3.0, 3.0, 0.0, 2.0, 0.0, 3.0,...\n",
       "5    [[0.0, 1.0, 1.0, 3.0, 3.0, 0.0, 2.0, 4.0, 3.0,...\n",
       "6    [[1.0, 5.0, 5.0, 1.0, 1.0, 2.0, 0.0, 5.0, 1.0,...\n",
       "dtype: object"
      ]
     },
     "execution_count": 43,
     "metadata": {},
     "output_type": "execute_result"
    }
   ],
   "source": [
    "parts.head()"
   ]
  },
  {
   "cell_type": "code",
   "execution_count": 44,
   "id": "726119ef",
   "metadata": {
    "execution": {
     "iopub.execute_input": "2022-09-13T16:41:19.455324Z",
     "iopub.status.busy": "2022-09-13T16:41:19.455101Z",
     "iopub.status.idle": "2022-09-13T16:41:19.474208Z",
     "shell.execute_reply": "2022-09-13T16:41:19.473659Z"
    },
    "papermill": {
     "duration": 0.041415,
     "end_time": "2022-09-13T16:41:19.475640",
     "exception": false,
     "start_time": "2022-09-13T16:41:19.434225",
     "status": "completed"
    },
    "tags": []
   },
   "outputs": [],
   "source": [
    "assert np.all(\n",
    "    [\n",
    "        parts.loc[k].shape == (CLUSTERING_OPTIONS[\"N_REPS_PER_K\"], data.shape[0])\n",
    "        for k in parts.index\n",
    "    ]\n",
    ")"
   ]
  },
  {
   "cell_type": "markdown",
   "id": "1836d675",
   "metadata": {
    "papermill": {
     "duration": 0.019518,
     "end_time": "2022-09-13T16:41:19.515822",
     "exception": false,
     "start_time": "2022-09-13T16:41:19.496304",
     "status": "completed"
    },
    "tags": []
   },
   "source": [
    "## Compute stability"
   ]
  },
  {
   "cell_type": "code",
   "execution_count": 45,
   "id": "4f941487",
   "metadata": {
    "execution": {
     "iopub.execute_input": "2022-09-13T16:41:19.555915Z",
     "iopub.status.busy": "2022-09-13T16:41:19.555708Z",
     "iopub.status.idle": "2022-09-13T16:41:19.574019Z",
     "shell.execute_reply": "2022-09-13T16:41:19.573336Z"
    },
    "papermill": {
     "duration": 0.039935,
     "end_time": "2022-09-13T16:41:19.575420",
     "exception": false,
     "start_time": "2022-09-13T16:41:19.535485",
     "status": "completed"
    },
    "tags": []
   },
   "outputs": [],
   "source": [
    "from sklearn.metrics import adjusted_rand_score as ari\n",
    "from scipy.spatial.distance import pdist"
   ]
  },
  {
   "cell_type": "code",
   "execution_count": 46,
   "id": "8e8eeaae",
   "metadata": {
    "execution": {
     "iopub.execute_input": "2022-09-13T16:41:19.617406Z",
     "iopub.status.busy": "2022-09-13T16:41:19.617200Z",
     "iopub.status.idle": "2022-09-13T16:41:20.461392Z",
     "shell.execute_reply": "2022-09-13T16:41:20.460837Z"
    },
    "papermill": {
     "duration": 0.866757,
     "end_time": "2022-09-13T16:41:20.462971",
     "exception": false,
     "start_time": "2022-09-13T16:41:19.596214",
     "status": "completed"
    },
    "tags": []
   },
   "outputs": [],
   "source": [
    "parts_ari = pd.Series(\n",
    "    {k: pdist(parts.loc[k], metric=ari) for k in parts.index}, name=\"k\"\n",
    ")"
   ]
  },
  {
   "cell_type": "code",
   "execution_count": 47,
   "id": "1447cfaf",
   "metadata": {
    "execution": {
     "iopub.execute_input": "2022-09-13T16:41:20.503740Z",
     "iopub.status.busy": "2022-09-13T16:41:20.503542Z",
     "iopub.status.idle": "2022-09-13T16:41:20.525232Z",
     "shell.execute_reply": "2022-09-13T16:41:20.524670Z"
    },
    "papermill": {
     "duration": 0.043826,
     "end_time": "2022-09-13T16:41:20.526497",
     "exception": false,
     "start_time": "2022-09-13T16:41:20.482671",
     "status": "completed"
    },
    "tags": []
   },
   "outputs": [
    {
     "data": {
      "text/plain": [
       "2     0.995957\n",
       "3     0.951423\n",
       "4     0.882787\n",
       "5     0.487031\n",
       "6     0.454455\n",
       "7     0.386800\n",
       "10    0.247877\n",
       "9     0.221988\n",
       "8     0.211205\n",
       "11    0.186940\n",
       "12    0.183601\n",
       "13    0.166122\n",
       "14    0.157233\n",
       "15    0.130341\n",
       "16    0.124906\n",
       "Name: k, dtype: float64"
      ]
     },
     "metadata": {},
     "output_type": "display_data"
    }
   ],
   "source": [
    "parts_ari_stability = parts_ari.apply(lambda x: x.mean())\n",
    "display(parts_ari_stability.sort_values(ascending=False).head(15))"
   ]
  },
  {
   "cell_type": "code",
   "execution_count": 48,
   "id": "d2395eae",
   "metadata": {
    "execution": {
     "iopub.execute_input": "2022-09-13T16:41:20.567700Z",
     "iopub.status.busy": "2022-09-13T16:41:20.567491Z",
     "iopub.status.idle": "2022-09-13T16:41:20.586730Z",
     "shell.execute_reply": "2022-09-13T16:41:20.586261Z"
    },
    "papermill": {
     "duration": 0.041141,
     "end_time": "2022-09-13T16:41:20.588124",
     "exception": false,
     "start_time": "2022-09-13T16:41:20.546983",
     "status": "completed"
    },
    "tags": []
   },
   "outputs": [],
   "source": [
    "parts_ari_df = pd.DataFrame.from_records(parts_ari.tolist()).set_index(\n",
    "    parts_ari.index.copy()\n",
    ")"
   ]
  },
  {
   "cell_type": "code",
   "execution_count": 49,
   "id": "ecbe0693",
   "metadata": {
    "execution": {
     "iopub.execute_input": "2022-09-13T16:41:20.630900Z",
     "iopub.status.busy": "2022-09-13T16:41:20.630688Z",
     "iopub.status.idle": "2022-09-13T16:41:20.649624Z",
     "shell.execute_reply": "2022-09-13T16:41:20.649050Z"
    },
    "papermill": {
     "duration": 0.041236,
     "end_time": "2022-09-13T16:41:20.650888",
     "exception": false,
     "start_time": "2022-09-13T16:41:20.609652",
     "status": "completed"
    },
    "tags": []
   },
   "outputs": [
    {
     "data": {
      "text/plain": [
       "(59, 10)"
      ]
     },
     "execution_count": 49,
     "metadata": {},
     "output_type": "execute_result"
    }
   ],
   "source": [
    "parts_ari_df.shape"
   ]
  },
  {
   "cell_type": "code",
   "execution_count": 50,
   "id": "06d97557",
   "metadata": {
    "execution": {
     "iopub.execute_input": "2022-09-13T16:41:20.693123Z",
     "iopub.status.busy": "2022-09-13T16:41:20.692910Z",
     "iopub.status.idle": "2022-09-13T16:41:20.710867Z",
     "shell.execute_reply": "2022-09-13T16:41:20.710411Z"
    },
    "papermill": {
     "duration": 0.040537,
     "end_time": "2022-09-13T16:41:20.712227",
     "exception": false,
     "start_time": "2022-09-13T16:41:20.671690",
     "status": "completed"
    },
    "tags": []
   },
   "outputs": [],
   "source": [
    "assert (\n",
    "    int(\n",
    "        (CLUSTERING_OPTIONS[\"N_REPS_PER_K\"] * (CLUSTERING_OPTIONS[\"N_REPS_PER_K\"] - 1))\n",
    "        / 2\n",
    "    )\n",
    "    == parts_ari_df.shape[1]\n",
    ")"
   ]
  },
  {
   "cell_type": "code",
   "execution_count": 51,
   "id": "ddbe48b5",
   "metadata": {
    "execution": {
     "iopub.execute_input": "2022-09-13T16:41:20.754571Z",
     "iopub.status.busy": "2022-09-13T16:41:20.754363Z",
     "iopub.status.idle": "2022-09-13T16:41:20.779009Z",
     "shell.execute_reply": "2022-09-13T16:41:20.778503Z"
    },
    "papermill": {
     "duration": 0.046876,
     "end_time": "2022-09-13T16:41:20.780245",
     "exception": false,
     "start_time": "2022-09-13T16:41:20.733369",
     "status": "completed"
    },
    "tags": []
   },
   "outputs": [
    {
     "data": {
      "text/html": [
       "<div>\n",
       "<style scoped>\n",
       "    .dataframe tbody tr th:only-of-type {\n",
       "        vertical-align: middle;\n",
       "    }\n",
       "\n",
       "    .dataframe tbody tr th {\n",
       "        vertical-align: top;\n",
       "    }\n",
       "\n",
       "    .dataframe thead th {\n",
       "        text-align: right;\n",
       "    }\n",
       "</style>\n",
       "<table border=\"1\" class=\"dataframe\">\n",
       "  <thead>\n",
       "    <tr style=\"text-align: right;\">\n",
       "      <th></th>\n",
       "      <th>0</th>\n",
       "      <th>1</th>\n",
       "      <th>2</th>\n",
       "      <th>3</th>\n",
       "      <th>4</th>\n",
       "      <th>5</th>\n",
       "      <th>6</th>\n",
       "      <th>7</th>\n",
       "      <th>8</th>\n",
       "      <th>9</th>\n",
       "    </tr>\n",
       "  </thead>\n",
       "  <tbody>\n",
       "    <tr>\n",
       "      <th>2</th>\n",
       "      <td>1.000000</td>\n",
       "      <td>0.990426</td>\n",
       "      <td>1.000000</td>\n",
       "      <td>0.998934</td>\n",
       "      <td>0.990426</td>\n",
       "      <td>1.000000</td>\n",
       "      <td>0.998934</td>\n",
       "      <td>0.990426</td>\n",
       "      <td>0.991487</td>\n",
       "      <td>0.998934</td>\n",
       "    </tr>\n",
       "    <tr>\n",
       "      <th>3</th>\n",
       "      <td>0.979217</td>\n",
       "      <td>0.906965</td>\n",
       "      <td>0.982572</td>\n",
       "      <td>0.983394</td>\n",
       "      <td>0.891681</td>\n",
       "      <td>0.976198</td>\n",
       "      <td>0.975394</td>\n",
       "      <td>0.909486</td>\n",
       "      <td>0.911786</td>\n",
       "      <td>0.997536</td>\n",
       "    </tr>\n",
       "    <tr>\n",
       "      <th>4</th>\n",
       "      <td>0.882076</td>\n",
       "      <td>0.864467</td>\n",
       "      <td>0.904767</td>\n",
       "      <td>0.907024</td>\n",
       "      <td>0.960742</td>\n",
       "      <td>0.813579</td>\n",
       "      <td>0.903678</td>\n",
       "      <td>0.801395</td>\n",
       "      <td>0.914084</td>\n",
       "      <td>0.876057</td>\n",
       "    </tr>\n",
       "    <tr>\n",
       "      <th>5</th>\n",
       "      <td>0.268892</td>\n",
       "      <td>0.410204</td>\n",
       "      <td>0.243914</td>\n",
       "      <td>0.245994</td>\n",
       "      <td>0.427534</td>\n",
       "      <td>0.747547</td>\n",
       "      <td>0.768413</td>\n",
       "      <td>0.430069</td>\n",
       "      <td>0.416241</td>\n",
       "      <td>0.911500</td>\n",
       "    </tr>\n",
       "    <tr>\n",
       "      <th>6</th>\n",
       "      <td>0.373545</td>\n",
       "      <td>0.743119</td>\n",
       "      <td>0.417188</td>\n",
       "      <td>0.533315</td>\n",
       "      <td>0.367280</td>\n",
       "      <td>0.434514</td>\n",
       "      <td>0.426211</td>\n",
       "      <td>0.497043</td>\n",
       "      <td>0.464930</td>\n",
       "      <td>0.287402</td>\n",
       "    </tr>\n",
       "  </tbody>\n",
       "</table>\n",
       "</div>"
      ],
      "text/plain": [
       "          0         1         2         3         4         5         6  \\\n",
       "2  1.000000  0.990426  1.000000  0.998934  0.990426  1.000000  0.998934   \n",
       "3  0.979217  0.906965  0.982572  0.983394  0.891681  0.976198  0.975394   \n",
       "4  0.882076  0.864467  0.904767  0.907024  0.960742  0.813579  0.903678   \n",
       "5  0.268892  0.410204  0.243914  0.245994  0.427534  0.747547  0.768413   \n",
       "6  0.373545  0.743119  0.417188  0.533315  0.367280  0.434514  0.426211   \n",
       "\n",
       "          7         8         9  \n",
       "2  0.990426  0.991487  0.998934  \n",
       "3  0.909486  0.911786  0.997536  \n",
       "4  0.801395  0.914084  0.876057  \n",
       "5  0.430069  0.416241  0.911500  \n",
       "6  0.497043  0.464930  0.287402  "
      ]
     },
     "execution_count": 51,
     "metadata": {},
     "output_type": "execute_result"
    }
   ],
   "source": [
    "parts_ari_df.head()"
   ]
  },
  {
   "cell_type": "markdown",
   "id": "be97dd13",
   "metadata": {
    "papermill": {
     "duration": 0.020209,
     "end_time": "2022-09-13T16:41:20.821442",
     "exception": false,
     "start_time": "2022-09-13T16:41:20.801233",
     "status": "completed"
    },
    "tags": []
   },
   "source": [
    "## Save"
   ]
  },
  {
   "cell_type": "code",
   "execution_count": 52,
   "id": "e6cb39de",
   "metadata": {
    "execution": {
     "iopub.execute_input": "2022-09-13T16:41:20.862445Z",
     "iopub.status.busy": "2022-09-13T16:41:20.862239Z",
     "iopub.status.idle": "2022-09-13T16:41:20.881679Z",
     "shell.execute_reply": "2022-09-13T16:41:20.881104Z"
    },
    "papermill": {
     "duration": 0.04152,
     "end_time": "2022-09-13T16:41:20.882964",
     "exception": false,
     "start_time": "2022-09-13T16:41:20.841444",
     "status": "completed"
    },
    "tags": []
   },
   "outputs": [
    {
     "data": {
      "text/plain": [
       "PosixPath('/opt/data/results/clustering/null_sims/runs/pca-z_score_std-projection-smultixcan-efo_partial-mashr-zscores/SpectralClustering-stability-AFFINITY_rbf-GAMMA_0001-KMEANS_N_INIT_10-K_MAX_60-K_MIN_2-N_REPS_PER_K_5.pkl')"
      ]
     },
     "metadata": {},
     "output_type": "display_data"
    }
   ],
   "source": [
    "output_filename = Path(\n",
    "    RESULTS_DIR,\n",
    "    generate_result_set_name(\n",
    "        CLUSTERING_OPTIONS,\n",
    "        prefix=f\"{clustering_method_name}-stability-\",\n",
    "        suffix=\".pkl\",\n",
    "    ),\n",
    ").resolve()\n",
    "display(output_filename)"
   ]
  },
  {
   "cell_type": "code",
   "execution_count": 53,
   "id": "73837c3f",
   "metadata": {
    "execution": {
     "iopub.execute_input": "2022-09-13T16:41:20.925593Z",
     "iopub.status.busy": "2022-09-13T16:41:20.925383Z",
     "iopub.status.idle": "2022-09-13T16:41:20.943647Z",
     "shell.execute_reply": "2022-09-13T16:41:20.943119Z"
    },
    "papermill": {
     "duration": 0.040951,
     "end_time": "2022-09-13T16:41:20.945044",
     "exception": false,
     "start_time": "2022-09-13T16:41:20.904093",
     "status": "completed"
    },
    "tags": []
   },
   "outputs": [],
   "source": [
    "parts_ari_df.to_pickle(output_filename)"
   ]
  },
  {
   "cell_type": "markdown",
   "id": "04c37cb4",
   "metadata": {
    "papermill": {
     "duration": 0.020672,
     "end_time": "2022-09-13T16:41:20.986843",
     "exception": false,
     "start_time": "2022-09-13T16:41:20.966171",
     "status": "completed"
    },
    "tags": []
   },
   "source": [
    "## Stability plot"
   ]
  },
  {
   "cell_type": "code",
   "execution_count": 54,
   "id": "bc1a39ab",
   "metadata": {
    "execution": {
     "iopub.execute_input": "2022-09-13T16:41:21.027809Z",
     "iopub.status.busy": "2022-09-13T16:41:21.027589Z",
     "iopub.status.idle": "2022-09-13T16:41:21.048187Z",
     "shell.execute_reply": "2022-09-13T16:41:21.047502Z"
    },
    "papermill": {
     "duration": 0.042843,
     "end_time": "2022-09-13T16:41:21.049599",
     "exception": false,
     "start_time": "2022-09-13T16:41:21.006756",
     "status": "completed"
    },
    "tags": []
   },
   "outputs": [],
   "source": [
    "parts_ari_df_plot = (\n",
    "    parts_ari_df.stack()\n",
    "    .reset_index()\n",
    "    .rename(columns={\"level_0\": \"k\", \"level_1\": \"idx\", 0: \"ari\"})\n",
    ")"
   ]
  },
  {
   "cell_type": "code",
   "execution_count": 55,
   "id": "ddd54521",
   "metadata": {
    "execution": {
     "iopub.execute_input": "2022-09-13T16:41:21.091620Z",
     "iopub.status.busy": "2022-09-13T16:41:21.091346Z",
     "iopub.status.idle": "2022-09-13T16:41:21.110994Z",
     "shell.execute_reply": "2022-09-13T16:41:21.110395Z"
    },
    "papermill": {
     "duration": 0.041726,
     "end_time": "2022-09-13T16:41:21.112301",
     "exception": false,
     "start_time": "2022-09-13T16:41:21.070575",
     "status": "completed"
    },
    "tags": []
   },
   "outputs": [
    {
     "data": {
      "text/plain": [
       "k        int64\n",
       "idx      int64\n",
       "ari    float64\n",
       "dtype: object"
      ]
     },
     "execution_count": 55,
     "metadata": {},
     "output_type": "execute_result"
    }
   ],
   "source": [
    "parts_ari_df_plot.dtypes"
   ]
  },
  {
   "cell_type": "code",
   "execution_count": 56,
   "id": "05e6d56f",
   "metadata": {
    "execution": {
     "iopub.execute_input": "2022-09-13T16:41:21.154553Z",
     "iopub.status.busy": "2022-09-13T16:41:21.154344Z",
     "iopub.status.idle": "2022-09-13T16:41:21.175223Z",
     "shell.execute_reply": "2022-09-13T16:41:21.174678Z"
    },
    "papermill": {
     "duration": 0.043197,
     "end_time": "2022-09-13T16:41:21.176539",
     "exception": false,
     "start_time": "2022-09-13T16:41:21.133342",
     "status": "completed"
    },
    "tags": []
   },
   "outputs": [
    {
     "data": {
      "text/html": [
       "<div>\n",
       "<style scoped>\n",
       "    .dataframe tbody tr th:only-of-type {\n",
       "        vertical-align: middle;\n",
       "    }\n",
       "\n",
       "    .dataframe tbody tr th {\n",
       "        vertical-align: top;\n",
       "    }\n",
       "\n",
       "    .dataframe thead th {\n",
       "        text-align: right;\n",
       "    }\n",
       "</style>\n",
       "<table border=\"1\" class=\"dataframe\">\n",
       "  <thead>\n",
       "    <tr style=\"text-align: right;\">\n",
       "      <th></th>\n",
       "      <th>k</th>\n",
       "      <th>idx</th>\n",
       "      <th>ari</th>\n",
       "    </tr>\n",
       "  </thead>\n",
       "  <tbody>\n",
       "    <tr>\n",
       "      <th>0</th>\n",
       "      <td>2</td>\n",
       "      <td>0</td>\n",
       "      <td>1.000000</td>\n",
       "    </tr>\n",
       "    <tr>\n",
       "      <th>1</th>\n",
       "      <td>2</td>\n",
       "      <td>1</td>\n",
       "      <td>0.990426</td>\n",
       "    </tr>\n",
       "    <tr>\n",
       "      <th>2</th>\n",
       "      <td>2</td>\n",
       "      <td>2</td>\n",
       "      <td>1.000000</td>\n",
       "    </tr>\n",
       "    <tr>\n",
       "      <th>3</th>\n",
       "      <td>2</td>\n",
       "      <td>3</td>\n",
       "      <td>0.998934</td>\n",
       "    </tr>\n",
       "    <tr>\n",
       "      <th>4</th>\n",
       "      <td>2</td>\n",
       "      <td>4</td>\n",
       "      <td>0.990426</td>\n",
       "    </tr>\n",
       "  </tbody>\n",
       "</table>\n",
       "</div>"
      ],
      "text/plain": [
       "   k  idx       ari\n",
       "0  2    0  1.000000\n",
       "1  2    1  0.990426\n",
       "2  2    2  1.000000\n",
       "3  2    3  0.998934\n",
       "4  2    4  0.990426"
      ]
     },
     "execution_count": 56,
     "metadata": {},
     "output_type": "execute_result"
    }
   ],
   "source": [
    "parts_ari_df_plot.head()"
   ]
  },
  {
   "cell_type": "code",
   "execution_count": 57,
   "id": "54bbdf33",
   "metadata": {
    "execution": {
     "iopub.execute_input": "2022-09-13T16:41:21.218759Z",
     "iopub.status.busy": "2022-09-13T16:41:21.218547Z",
     "iopub.status.idle": "2022-09-13T16:41:24.057767Z",
     "shell.execute_reply": "2022-09-13T16:41:24.057198Z"
    },
    "papermill": {
     "duration": 2.861549,
     "end_time": "2022-09-13T16:41:24.059029",
     "exception": false,
     "start_time": "2022-09-13T16:41:21.197480",
     "status": "completed"
    },
    "tags": []
   },
   "outputs": [
    {
     "data": {
      "image/png": "[encoded data removed]",
      "text/plain": [
       "<Figure size 1008x432 with 1 Axes>"
      ]
     },
     "metadata": {},
     "output_type": "display_data"
    }
   ],
   "source": [
    "# with sns.axes_style('whitegrid', {'grid.linestyle': '--'}):\n",
    "with sns.plotting_context(\"talk\", font_scale=0.75), sns.axes_style(\n",
    "    \"whitegrid\", {\"grid.linestyle\": \"--\"}\n",
    "):\n",
    "    fig = plt.figure(figsize=(14, 6))\n",
    "    ax = sns.pointplot(data=parts_ari_df_plot, x=\"k\", y=\"ari\")\n",
    "    ax.set_ylabel(\"Averange ARI\")\n",
    "    ax.set_xlabel(\"Number of clusters ($k$)\")\n",
    "    ax.set_xticklabels(ax.get_xticklabels(), rotation=45)\n",
    "    #     ax.set_ylim(0.0, 1.0)\n",
    "    #     ax.set_xlim(CLUSTERING_OPTIONS['K_MIN'], CLUSTERING_OPTIONS['K_MAX'])\n",
    "    plt.grid(True)\n",
    "    plt.tight_layout()"
   ]
  },
  {
   "cell_type": "code",
   "execution_count": null,
   "id": "8a9a3216",
   "metadata": {
    "papermill": {
     "duration": 0.020675,
     "end_time": "2022-09-13T16:41:24.101239",
     "exception": false,
     "start_time": "2022-09-13T16:41:24.080564",
     "status": "completed"
    },
    "tags": []
   },
   "outputs": [],
   "source": []
  }
 ],
 "metadata": {
  "jupytext": {
   "cell_metadata_filter": "all,-execution,-papermill,-trusted",
   "formats": "ipynb,py//py:percent"
  },
  "kernelspec": {
   "display_name": "Python 3 (ipykernel)",
   "language": "python",
   "name": "python3"
  },
  "language_info": {
   "codemirror_mode": {
    "name": "ipython",
    "version": 3
   },
   "file_extension": ".py",
   "mimetype": "text/x-python",
   "name": "python",
   "nbconvert_exporter": "python",
   "pygments_lexer": "ipython3",
   "version": "3.8.13"
  },
  "papermill": {
   "default_parameters": {},
   "duration": 819.365649,
   "end_time": "2022-09-13T16:41:24.443617",
   "environment_variables": {},
   "exception": null,
   "input_path": "nbs/13.1_cluster_analysis_null/11_01-spectral-pca.ipynb",
   "output_path": "nbs/13.1_cluster_analysis_null/11_01-spectral-pca.run.ipynb",
   "parameters": {},
   "start_time": "2022-09-13T16:27:45.077968",
   "version": "2.2.2"
  },
  "toc-autonumbering": true,
  "toc-showcode": false,
  "toc-showmarkdowntxt": false,
  "toc-showtags": false
 },
 "nbformat": 4,
 "nbformat_minor": 5
}
