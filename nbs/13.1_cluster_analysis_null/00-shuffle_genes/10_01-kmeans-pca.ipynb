{
 "cells": [
  {
   "cell_type": "markdown",
   "id": "e71ee967",
   "metadata": {
    "papermill": {
     "duration": 0.034065,
     "end_time": "2022-09-13T15:56:33.893214",
     "exception": false,
     "start_time": "2022-09-13T15:56:33.859149",
     "status": "completed"
    },
    "tags": []
   },
   "source": [
    "# Description"
   ]
  },
  {
   "cell_type": "markdown",
   "id": "cd9e93fb",
   "metadata": {
    "papermill": {
     "duration": 0.009077,
     "end_time": "2022-09-13T15:56:33.916011",
     "exception": false,
     "start_time": "2022-09-13T15:56:33.906934",
     "status": "completed"
    },
    "tags": []
   },
   "source": [
    "Runs k-means on the pca version of the data."
   ]
  },
  {
   "cell_type": "markdown",
   "id": "638c5907",
   "metadata": {
    "papermill": {
     "duration": 0.007359,
     "end_time": "2022-09-13T15:56:33.931117",
     "exception": false,
     "start_time": "2022-09-13T15:56:33.923758",
     "status": "completed"
    },
    "tags": []
   },
   "source": [
    "# Environment variables"
   ]
  },
  {
   "cell_type": "code",
   "execution_count": 1,
   "id": "c8441309",
   "metadata": {
    "execution": {
     "iopub.execute_input": "2022-09-13T15:56:33.947670Z",
     "iopub.status.busy": "2022-09-13T15:56:33.947386Z",
     "iopub.status.idle": "2022-09-13T15:56:33.963667Z",
     "shell.execute_reply": "2022-09-13T15:56:33.963115Z"
    },
    "papermill": {
     "duration": 0.026153,
     "end_time": "2022-09-13T15:56:33.965084",
     "exception": false,
     "start_time": "2022-09-13T15:56:33.938931",
     "status": "completed"
    },
    "tags": []
   },
   "outputs": [
    {
     "data": {
      "text/plain": [
       "3"
      ]
     },
     "metadata": {},
     "output_type": "display_data"
    }
   ],
   "source": [
    "from IPython.display import display\n",
    "\n",
    "import conf\n",
    "\n",
    "N_JOBS = conf.GENERAL[\"N_JOBS\"]\n",
    "display(N_JOBS)"
   ]
  },
  {
   "cell_type": "code",
   "execution_count": 2,
   "id": "6e89cc66",
   "metadata": {
    "execution": {
     "iopub.execute_input": "2022-09-13T15:56:33.982621Z",
     "iopub.status.busy": "2022-09-13T15:56:33.982155Z",
     "iopub.status.idle": "2022-09-13T15:56:33.987785Z",
     "shell.execute_reply": "2022-09-13T15:56:33.987204Z"
    },
    "papermill": {
     "duration": 0.015396,
     "end_time": "2022-09-13T15:56:33.989064",
     "exception": false,
     "start_time": "2022-09-13T15:56:33.973668",
     "status": "completed"
    },
    "tags": []
   },
   "outputs": [
    {
     "name": "stdout",
     "output_type": "stream",
     "text": [
      "env: MKL_NUM_THREADS=3\n",
      "env: OPEN_BLAS_NUM_THREADS=3\n",
      "env: NUMEXPR_NUM_THREADS=3\n",
      "env: OMP_NUM_THREADS=3\n"
     ]
    }
   ],
   "source": [
    "%env MKL_NUM_THREADS=$N_JOBS\n",
    "%env OPEN_BLAS_NUM_THREADS=$N_JOBS\n",
    "%env NUMEXPR_NUM_THREADS=$N_JOBS\n",
    "%env OMP_NUM_THREADS=$N_JOBS"
   ]
  },
  {
   "cell_type": "markdown",
   "id": "b658ea16",
   "metadata": {
    "papermill": {
     "duration": 0.007985,
     "end_time": "2022-09-13T15:56:34.005244",
     "exception": false,
     "start_time": "2022-09-13T15:56:33.997259",
     "status": "completed"
    },
    "tags": []
   },
   "source": [
    "# Modules loading"
   ]
  },
  {
   "cell_type": "code",
   "execution_count": 3,
   "id": "519e4227",
   "metadata": {
    "execution": {
     "iopub.execute_input": "2022-09-13T15:56:34.022688Z",
     "iopub.status.busy": "2022-09-13T15:56:34.022103Z",
     "iopub.status.idle": "2022-09-13T15:56:34.035375Z",
     "shell.execute_reply": "2022-09-13T15:56:34.034850Z"
    },
    "papermill": {
     "duration": 0.023757,
     "end_time": "2022-09-13T15:56:34.036721",
     "exception": false,
     "start_time": "2022-09-13T15:56:34.012964",
     "status": "completed"
    },
    "tags": []
   },
   "outputs": [],
   "source": [
    "%load_ext autoreload\n",
    "%autoreload 2"
   ]
  },
  {
   "cell_type": "code",
   "execution_count": 4,
   "id": "99bbf452",
   "metadata": {
    "execution": {
     "iopub.execute_input": "2022-09-13T15:56:34.053957Z",
     "iopub.status.busy": "2022-09-13T15:56:34.053797Z",
     "iopub.status.idle": "2022-09-13T15:56:34.712156Z",
     "shell.execute_reply": "2022-09-13T15:56:34.711461Z"
    },
    "papermill": {
     "duration": 0.668857,
     "end_time": "2022-09-13T15:56:34.713778",
     "exception": false,
     "start_time": "2022-09-13T15:56:34.044921",
     "status": "completed"
    },
    "tags": []
   },
   "outputs": [],
   "source": [
    "from pathlib import Path\n",
    "\n",
    "import numpy as np\n",
    "import pandas as pd\n",
    "import matplotlib.pyplot as plt\n",
    "import seaborn as sns\n",
    "\n",
    "from utils import generate_result_set_name"
   ]
  },
  {
   "cell_type": "markdown",
   "id": "4451e170",
   "metadata": {
    "papermill": {
     "duration": 0.007582,
     "end_time": "2022-09-13T15:56:34.729532",
     "exception": false,
     "start_time": "2022-09-13T15:56:34.721950",
     "status": "completed"
    },
    "tags": []
   },
   "source": [
    "# Settings"
   ]
  },
  {
   "cell_type": "code",
   "execution_count": 5,
   "id": "cbd29695",
   "metadata": {
    "execution": {
     "iopub.execute_input": "2022-09-13T15:56:34.746366Z",
     "iopub.status.busy": "2022-09-13T15:56:34.746206Z",
     "iopub.status.idle": "2022-09-13T15:56:34.762306Z",
     "shell.execute_reply": "2022-09-13T15:56:34.761841Z"
    },
    "papermill": {
     "duration": 0.026098,
     "end_time": "2022-09-13T15:56:34.763658",
     "exception": false,
     "start_time": "2022-09-13T15:56:34.737560",
     "status": "completed"
    },
    "tags": []
   },
   "outputs": [],
   "source": [
    "np.random.seed(0)"
   ]
  },
  {
   "cell_type": "code",
   "execution_count": 6,
   "id": "e72261a9",
   "metadata": {
    "execution": {
     "iopub.execute_input": "2022-09-13T15:56:34.810357Z",
     "iopub.status.busy": "2022-09-13T15:56:34.810154Z",
     "iopub.status.idle": "2022-09-13T15:56:34.829206Z",
     "shell.execute_reply": "2022-09-13T15:56:34.828703Z"
    },
    "papermill": {
     "duration": 0.058596,
     "end_time": "2022-09-13T15:56:34.830786",
     "exception": false,
     "start_time": "2022-09-13T15:56:34.772190",
     "status": "completed"
    },
    "tags": []
   },
   "outputs": [],
   "source": [
    "INITIAL_RANDOM_STATE = 10000"
   ]
  },
  {
   "cell_type": "code",
   "execution_count": null,
   "id": "6455048d-87cb-4815-ba25-50e80d77baf1",
   "metadata": {},
   "outputs": [],
   "source": [
    "NULL_DIR = conf.RESULTS[\"CLUSTERING_NULL_DIR\"] / \"shuffle_genes\""
   ]
  },
  {
   "cell_type": "markdown",
   "id": "9e113ab5",
   "metadata": {
    "papermill": {
     "duration": 0.009777,
     "end_time": "2022-09-13T15:56:34.850638",
     "exception": false,
     "start_time": "2022-09-13T15:56:34.840861",
     "status": "completed"
    },
    "tags": []
   },
   "source": [
    "## Input data"
   ]
  },
  {
   "cell_type": "code",
   "execution_count": 7,
   "id": "d8100884",
   "metadata": {
    "execution": {
     "iopub.execute_input": "2022-09-13T15:56:34.870173Z",
     "iopub.status.busy": "2022-09-13T15:56:34.870002Z",
     "iopub.status.idle": "2022-09-13T15:56:34.886519Z",
     "shell.execute_reply": "2022-09-13T15:56:34.885881Z"
    },
    "papermill": {
     "duration": 0.027447,
     "end_time": "2022-09-13T15:56:34.887915",
     "exception": false,
     "start_time": "2022-09-13T15:56:34.860468",
     "status": "completed"
    },
    "tags": []
   },
   "outputs": [],
   "source": [
    "INPUT_SUBSET = \"pca\""
   ]
  },
  {
   "cell_type": "code",
   "execution_count": 8,
   "id": "e6b9b65e",
   "metadata": {
    "execution": {
     "iopub.execute_input": "2022-09-13T15:56:34.905956Z",
     "iopub.status.busy": "2022-09-13T15:56:34.905782Z",
     "iopub.status.idle": "2022-09-13T15:56:34.922245Z",
     "shell.execute_reply": "2022-09-13T15:56:34.921652Z"
    },
    "papermill": {
     "duration": 0.02698,
     "end_time": "2022-09-13T15:56:34.923658",
     "exception": false,
     "start_time": "2022-09-13T15:56:34.896678",
     "status": "completed"
    },
    "tags": []
   },
   "outputs": [],
   "source": [
    "INPUT_STEM = \"z_score_std-projection-smultixcan-efo_partial-mashr-zscores\""
   ]
  },
  {
   "cell_type": "code",
   "execution_count": 9,
   "id": "6bef7988",
   "metadata": {
    "execution": {
     "iopub.execute_input": "2022-09-13T15:56:34.941206Z",
     "iopub.status.busy": "2022-09-13T15:56:34.941046Z",
     "iopub.status.idle": "2022-09-13T15:56:34.957314Z",
     "shell.execute_reply": "2022-09-13T15:56:34.956783Z"
    },
    "papermill": {
     "duration": 0.026569,
     "end_time": "2022-09-13T15:56:34.958713",
     "exception": false,
     "start_time": "2022-09-13T15:56:34.932144",
     "status": "completed"
    },
    "tags": []
   },
   "outputs": [],
   "source": [
    "DR_OPTIONS = {\n",
    "    \"n_components\": 50,\n",
    "    \"svd_solver\": \"full\",\n",
    "    \"random_state\": 0,\n",
    "}"
   ]
  },
  {
   "cell_type": "code",
   "execution_count": 10,
   "id": "f04af988",
   "metadata": {
    "execution": {
     "iopub.execute_input": "2022-09-13T15:56:34.976469Z",
     "iopub.status.busy": "2022-09-13T15:56:34.976302Z",
     "iopub.status.idle": "2022-09-13T15:56:34.995441Z",
     "shell.execute_reply": "2022-09-13T15:56:34.994930Z"
    },
    "papermill": {
     "duration": 0.029442,
     "end_time": "2022-09-13T15:56:34.996746",
     "exception": false,
     "start_time": "2022-09-13T15:56:34.967304",
     "status": "completed"
    },
    "tags": []
   },
   "outputs": [
    {
     "data": {
      "text/plain": [
       "PosixPath('/opt/data/results/clustering/null_sims/data_transformations/pca/pca-z_score_std-projection-smultixcan-efo_partial-mashr-zscores-n_components_50-random_state_0-svd_solver_full.pkl')"
      ]
     },
     "metadata": {},
     "output_type": "display_data"
    },
    {
     "data": {
      "text/plain": [
       "'pca-z_score_std-projection-smultixcan-efo_partial-mashr-zscores-n_components_50-random_state_0-svd_solver_full'"
      ]
     },
     "metadata": {},
     "output_type": "display_data"
    }
   ],
   "source": [
    "input_filepath = Path(\n",
    "    NULL_DIR,\n",
    "    \"data_transformations\",\n",
    "    INPUT_SUBSET,\n",
    "    generate_result_set_name(\n",
    "        DR_OPTIONS, prefix=f\"{INPUT_SUBSET}-{INPUT_STEM}-\", suffix=\".pkl\"\n",
    "    ),\n",
    ").resolve()\n",
    "display(input_filepath)\n",
    "\n",
    "assert input_filepath.exists(), \"Input file does not exist\"\n",
    "\n",
    "input_filepath_stem = input_filepath.stem\n",
    "display(input_filepath_stem)"
   ]
  },
  {
   "cell_type": "markdown",
   "id": "d2d7b6ef",
   "metadata": {
    "papermill": {
     "duration": 0.00831,
     "end_time": "2022-09-13T15:56:35.013756",
     "exception": false,
     "start_time": "2022-09-13T15:56:35.005446",
     "status": "completed"
    },
    "tags": []
   },
   "source": [
    "## Clustering"
   ]
  },
  {
   "cell_type": "code",
   "execution_count": 11,
   "id": "80fcaa15",
   "metadata": {
    "execution": {
     "iopub.execute_input": "2022-09-13T15:56:35.031887Z",
     "iopub.status.busy": "2022-09-13T15:56:35.031677Z",
     "iopub.status.idle": "2022-09-13T15:56:35.129252Z",
     "shell.execute_reply": "2022-09-13T15:56:35.128561Z"
    },
    "papermill": {
     "duration": 0.108259,
     "end_time": "2022-09-13T15:56:35.130737",
     "exception": false,
     "start_time": "2022-09-13T15:56:35.022478",
     "status": "completed"
    },
    "tags": []
   },
   "outputs": [],
   "source": [
    "from sklearn.cluster import KMeans"
   ]
  },
  {
   "cell_type": "code",
   "execution_count": 12,
   "id": "a137f2ae",
   "metadata": {
    "execution": {
     "iopub.execute_input": "2022-09-13T15:56:35.148041Z",
     "iopub.status.busy": "2022-09-13T15:56:35.147877Z",
     "iopub.status.idle": "2022-09-13T15:56:35.165821Z",
     "shell.execute_reply": "2022-09-13T15:56:35.165318Z"
    },
    "papermill": {
     "duration": 0.028102,
     "end_time": "2022-09-13T15:56:35.167259",
     "exception": false,
     "start_time": "2022-09-13T15:56:35.139157",
     "status": "completed"
    },
    "tags": []
   },
   "outputs": [],
   "source": [
    "CLUSTERING_ATTRIBUTES_TO_SAVE = [\"n_clusters\"]"
   ]
  },
  {
   "cell_type": "code",
   "execution_count": 13,
   "id": "4e41a04e",
   "metadata": {
    "execution": {
     "iopub.execute_input": "2022-09-13T15:56:35.185864Z",
     "iopub.status.busy": "2022-09-13T15:56:35.185691Z",
     "iopub.status.idle": "2022-09-13T15:56:35.206215Z",
     "shell.execute_reply": "2022-09-13T15:56:35.205689Z"
    },
    "papermill": {
     "duration": 0.031324,
     "end_time": "2022-09-13T15:56:35.207519",
     "exception": false,
     "start_time": "2022-09-13T15:56:35.176195",
     "status": "completed"
    },
    "tags": []
   },
   "outputs": [
    {
     "data": {
      "text/plain": [
       "{'K_MIN': 2, 'K_MAX': 60, 'N_REPS_PER_K': 5, 'KMEANS_N_INIT': 10}"
      ]
     },
     "metadata": {},
     "output_type": "display_data"
    }
   ],
   "source": [
    "CLUSTERING_OPTIONS = {}\n",
    "\n",
    "CLUSTERING_OPTIONS[\"K_MIN\"] = 2\n",
    "CLUSTERING_OPTIONS[\"K_MAX\"] = 60  # sqrt(3749)\n",
    "CLUSTERING_OPTIONS[\"N_REPS_PER_K\"] = 5\n",
    "CLUSTERING_OPTIONS[\"KMEANS_N_INIT\"] = 10\n",
    "\n",
    "display(CLUSTERING_OPTIONS)"
   ]
  },
  {
   "cell_type": "code",
   "execution_count": 14,
   "id": "616ff051",
   "metadata": {
    "execution": {
     "iopub.execute_input": "2022-09-13T15:56:35.225569Z",
     "iopub.status.busy": "2022-09-13T15:56:35.225403Z",
     "iopub.status.idle": "2022-09-13T15:56:35.245694Z",
     "shell.execute_reply": "2022-09-13T15:56:35.245065Z"
    },
    "papermill": {
     "duration": 0.030958,
     "end_time": "2022-09-13T15:56:35.247132",
     "exception": false,
     "start_time": "2022-09-13T15:56:35.216174",
     "status": "completed"
    },
    "tags": []
   },
   "outputs": [],
   "source": [
    "CLUSTERERS = {}\n",
    "\n",
    "idx = 0\n",
    "random_state = INITIAL_RANDOM_STATE\n",
    "\n",
    "for k in range(CLUSTERING_OPTIONS[\"K_MIN\"], CLUSTERING_OPTIONS[\"K_MAX\"] + 1):\n",
    "    for i in range(CLUSTERING_OPTIONS[\"N_REPS_PER_K\"]):\n",
    "        clus = KMeans(\n",
    "            n_clusters=k,\n",
    "            n_init=CLUSTERING_OPTIONS[\"KMEANS_N_INIT\"],\n",
    "            random_state=random_state,\n",
    "        )\n",
    "\n",
    "        method_name = type(clus).__name__\n",
    "        CLUSTERERS[f\"{method_name} #{idx}\"] = clus\n",
    "\n",
    "        random_state = random_state + 1\n",
    "        idx = idx + 1"
   ]
  },
  {
   "cell_type": "code",
   "execution_count": 15,
   "id": "088d29fe",
   "metadata": {
    "execution": {
     "iopub.execute_input": "2022-09-13T15:56:35.265221Z",
     "iopub.status.busy": "2022-09-13T15:56:35.265056Z",
     "iopub.status.idle": "2022-09-13T15:56:35.283700Z",
     "shell.execute_reply": "2022-09-13T15:56:35.283147Z"
    },
    "papermill": {
     "duration": 0.029145,
     "end_time": "2022-09-13T15:56:35.285014",
     "exception": false,
     "start_time": "2022-09-13T15:56:35.255869",
     "status": "completed"
    },
    "tags": []
   },
   "outputs": [
    {
     "data": {
      "text/plain": [
       "295"
      ]
     },
     "metadata": {},
     "output_type": "display_data"
    }
   ],
   "source": [
    "display(len(CLUSTERERS))"
   ]
  },
  {
   "cell_type": "code",
   "execution_count": 16,
   "id": "377df6e8",
   "metadata": {
    "execution": {
     "iopub.execute_input": "2022-09-13T15:56:35.303236Z",
     "iopub.status.busy": "2022-09-13T15:56:35.303068Z",
     "iopub.status.idle": "2022-09-13T15:56:35.323521Z",
     "shell.execute_reply": "2022-09-13T15:56:35.322977Z"
    },
    "papermill": {
     "duration": 0.03105,
     "end_time": "2022-09-13T15:56:35.324885",
     "exception": false,
     "start_time": "2022-09-13T15:56:35.293835",
     "status": "completed"
    },
    "tags": []
   },
   "outputs": [
    {
     "data": {
      "text/plain": [
       "('KMeans #0', KMeans(n_clusters=2, random_state=10000))"
      ]
     },
     "metadata": {},
     "output_type": "display_data"
    },
    {
     "data": {
      "text/plain": [
       "('KMeans #1', KMeans(n_clusters=2, random_state=10001))"
      ]
     },
     "metadata": {},
     "output_type": "display_data"
    }
   ],
   "source": [
    "_iter = iter(CLUSTERERS.items())\n",
    "display(next(_iter))\n",
    "display(next(_iter))"
   ]
  },
  {
   "cell_type": "code",
   "execution_count": 17,
   "id": "98b8c7c7",
   "metadata": {
    "execution": {
     "iopub.execute_input": "2022-09-13T15:56:35.343803Z",
     "iopub.status.busy": "2022-09-13T15:56:35.343634Z",
     "iopub.status.idle": "2022-09-13T15:56:35.363227Z",
     "shell.execute_reply": "2022-09-13T15:56:35.362654Z"
    },
    "papermill": {
     "duration": 0.03051,
     "end_time": "2022-09-13T15:56:35.364542",
     "exception": false,
     "start_time": "2022-09-13T15:56:35.334032",
     "status": "completed"
    },
    "tags": []
   },
   "outputs": [
    {
     "data": {
      "text/plain": [
       "'KMeans'"
      ]
     },
     "metadata": {},
     "output_type": "display_data"
    }
   ],
   "source": [
    "clustering_method_name = method_name\n",
    "display(clustering_method_name)"
   ]
  },
  {
   "cell_type": "markdown",
   "id": "3fa1ee07",
   "metadata": {
    "papermill": {
     "duration": 0.008459,
     "end_time": "2022-09-13T15:56:35.382290",
     "exception": false,
     "start_time": "2022-09-13T15:56:35.373831",
     "status": "completed"
    },
    "tags": []
   },
   "source": [
    "## Output directory"
   ]
  },
  {
   "cell_type": "code",
   "execution_count": 18,
   "id": "d2d66b9d",
   "metadata": {
    "execution": {
     "iopub.execute_input": "2022-09-13T15:56:35.399660Z",
     "iopub.status.busy": "2022-09-13T15:56:35.399410Z",
     "iopub.status.idle": "2022-09-13T15:56:35.418818Z",
     "shell.execute_reply": "2022-09-13T15:56:35.418125Z"
    },
    "papermill": {
     "duration": 0.029499,
     "end_time": "2022-09-13T15:56:35.420112",
     "exception": false,
     "start_time": "2022-09-13T15:56:35.390613",
     "status": "completed"
    },
    "tags": []
   },
   "outputs": [
    {
     "data": {
      "text/plain": [
       "PosixPath('/opt/data/results/clustering/null_sims/runs/pca-z_score_std-projection-smultixcan-efo_partial-mashr-zscores')"
      ]
     },
     "metadata": {},
     "output_type": "display_data"
    }
   ],
   "source": [
    "# output dir for this notebook\n",
    "RESULTS_DIR = Path(\n",
    "    NULL_DIR,\n",
    "    \"runs\",\n",
    "    f\"{INPUT_SUBSET}-{INPUT_STEM}\",\n",
    ").resolve()\n",
    "RESULTS_DIR.mkdir(parents=True, exist_ok=True)\n",
    "\n",
    "display(RESULTS_DIR)"
   ]
  },
  {
   "cell_type": "markdown",
   "id": "fbf76441",
   "metadata": {
    "papermill": {
     "duration": 0.008458,
     "end_time": "2022-09-13T15:56:35.437274",
     "exception": false,
     "start_time": "2022-09-13T15:56:35.428816",
     "status": "completed"
    },
    "tags": []
   },
   "source": [
    "# Load input file"
   ]
  },
  {
   "cell_type": "code",
   "execution_count": 19,
   "id": "85006b99",
   "metadata": {
    "execution": {
     "iopub.execute_input": "2022-09-13T15:56:35.454915Z",
     "iopub.status.busy": "2022-09-13T15:56:35.454451Z",
     "iopub.status.idle": "2022-09-13T15:56:35.474643Z",
     "shell.execute_reply": "2022-09-13T15:56:35.474095Z"
    },
    "papermill": {
     "duration": 0.03078,
     "end_time": "2022-09-13T15:56:35.476128",
     "exception": false,
     "start_time": "2022-09-13T15:56:35.445348",
     "status": "completed"
    },
    "tags": []
   },
   "outputs": [],
   "source": [
    "data = pd.read_pickle(input_filepath)"
   ]
  },
  {
   "cell_type": "code",
   "execution_count": 20,
   "id": "d69519b4",
   "metadata": {
    "execution": {
     "iopub.execute_input": "2022-09-13T15:56:35.496280Z",
     "iopub.status.busy": "2022-09-13T15:56:35.496088Z",
     "iopub.status.idle": "2022-09-13T15:56:35.514814Z",
     "shell.execute_reply": "2022-09-13T15:56:35.514208Z"
    },
    "papermill": {
     "duration": 0.030108,
     "end_time": "2022-09-13T15:56:35.516127",
     "exception": false,
     "start_time": "2022-09-13T15:56:35.486019",
     "status": "completed"
    },
    "tags": []
   },
   "outputs": [
    {
     "data": {
      "text/plain": [
       "(3752, 50)"
      ]
     },
     "execution_count": 20,
     "metadata": {},
     "output_type": "execute_result"
    }
   ],
   "source": [
    "data.shape"
   ]
  },
  {
   "cell_type": "code",
   "execution_count": 21,
   "id": "be5c4d9f",
   "metadata": {
    "execution": {
     "iopub.execute_input": "2022-09-13T15:56:35.535131Z",
     "iopub.status.busy": "2022-09-13T15:56:35.534942Z",
     "iopub.status.idle": "2022-09-13T15:56:35.567423Z",
     "shell.execute_reply": "2022-09-13T15:56:35.566936Z"
    },
    "papermill": {
     "duration": 0.043537,
     "end_time": "2022-09-13T15:56:35.568685",
     "exception": false,
     "start_time": "2022-09-13T15:56:35.525148",
     "status": "completed"
    },
    "tags": []
   },
   "outputs": [
    {
     "data": {
      "text/html": [
       "<div>\n",
       "<style scoped>\n",
       "    .dataframe tbody tr th:only-of-type {\n",
       "        vertical-align: middle;\n",
       "    }\n",
       "\n",
       "    .dataframe tbody tr th {\n",
       "        vertical-align: top;\n",
       "    }\n",
       "\n",
       "    .dataframe thead th {\n",
       "        text-align: right;\n",
       "    }\n",
       "</style>\n",
       "<table border=\"1\" class=\"dataframe\">\n",
       "  <thead>\n",
       "    <tr style=\"text-align: right;\">\n",
       "      <th></th>\n",
       "      <th>PCA1</th>\n",
       "      <th>PCA2</th>\n",
       "      <th>PCA3</th>\n",
       "      <th>PCA4</th>\n",
       "      <th>PCA5</th>\n",
       "      <th>PCA6</th>\n",
       "      <th>PCA7</th>\n",
       "      <th>PCA8</th>\n",
       "      <th>PCA9</th>\n",
       "      <th>PCA10</th>\n",
       "      <th>...</th>\n",
       "      <th>PCA41</th>\n",
       "      <th>PCA42</th>\n",
       "      <th>PCA43</th>\n",
       "      <th>PCA44</th>\n",
       "      <th>PCA45</th>\n",
       "      <th>PCA46</th>\n",
       "      <th>PCA47</th>\n",
       "      <th>PCA48</th>\n",
       "      <th>PCA49</th>\n",
       "      <th>PCA50</th>\n",
       "    </tr>\n",
       "  </thead>\n",
       "  <tbody>\n",
       "    <tr>\n",
       "      <th>100001_raw-Food_weight</th>\n",
       "      <td>-0.844744</td>\n",
       "      <td>3.134501</td>\n",
       "      <td>-1.885185</td>\n",
       "      <td>0.800877</td>\n",
       "      <td>-0.283830</td>\n",
       "      <td>0.027480</td>\n",
       "      <td>0.611143</td>\n",
       "      <td>1.485636</td>\n",
       "      <td>0.202757</td>\n",
       "      <td>0.450528</td>\n",
       "      <td>...</td>\n",
       "      <td>2.547792</td>\n",
       "      <td>-1.128343</td>\n",
       "      <td>-0.907277</td>\n",
       "      <td>-0.049764</td>\n",
       "      <td>-1.669310</td>\n",
       "      <td>-0.721449</td>\n",
       "      <td>2.077602</td>\n",
       "      <td>0.799708</td>\n",
       "      <td>1.271524</td>\n",
       "      <td>-1.871291</td>\n",
       "    </tr>\n",
       "    <tr>\n",
       "      <th>100002_raw-Energy</th>\n",
       "      <td>-0.078568</td>\n",
       "      <td>-1.675988</td>\n",
       "      <td>-0.826605</td>\n",
       "      <td>0.872125</td>\n",
       "      <td>-1.257784</td>\n",
       "      <td>0.276976</td>\n",
       "      <td>0.123534</td>\n",
       "      <td>-0.225430</td>\n",
       "      <td>1.291625</td>\n",
       "      <td>-0.406739</td>\n",
       "      <td>...</td>\n",
       "      <td>-1.595450</td>\n",
       "      <td>-0.979352</td>\n",
       "      <td>2.081672</td>\n",
       "      <td>-1.266333</td>\n",
       "      <td>-1.430714</td>\n",
       "      <td>2.733243</td>\n",
       "      <td>-0.293793</td>\n",
       "      <td>-1.427649</td>\n",
       "      <td>-1.315076</td>\n",
       "      <td>1.458368</td>\n",
       "    </tr>\n",
       "    <tr>\n",
       "      <th>100003_raw-Protein</th>\n",
       "      <td>-1.966843</td>\n",
       "      <td>-0.720839</td>\n",
       "      <td>-0.621370</td>\n",
       "      <td>1.066950</td>\n",
       "      <td>0.612613</td>\n",
       "      <td>-1.143542</td>\n",
       "      <td>-3.256801</td>\n",
       "      <td>0.637131</td>\n",
       "      <td>1.275239</td>\n",
       "      <td>-1.746677</td>\n",
       "      <td>...</td>\n",
       "      <td>-0.898644</td>\n",
       "      <td>1.423939</td>\n",
       "      <td>0.200717</td>\n",
       "      <td>0.080861</td>\n",
       "      <td>-0.910925</td>\n",
       "      <td>-0.266207</td>\n",
       "      <td>1.036173</td>\n",
       "      <td>0.326860</td>\n",
       "      <td>-0.197079</td>\n",
       "      <td>-0.322935</td>\n",
       "    </tr>\n",
       "    <tr>\n",
       "      <th>100004_raw-Fat</th>\n",
       "      <td>0.332482</td>\n",
       "      <td>-0.928841</td>\n",
       "      <td>-0.216911</td>\n",
       "      <td>0.486861</td>\n",
       "      <td>0.454021</td>\n",
       "      <td>-1.316312</td>\n",
       "      <td>0.226607</td>\n",
       "      <td>2.504342</td>\n",
       "      <td>-0.740799</td>\n",
       "      <td>-2.027466</td>\n",
       "      <td>...</td>\n",
       "      <td>0.101529</td>\n",
       "      <td>0.032200</td>\n",
       "      <td>-0.658490</td>\n",
       "      <td>-0.288036</td>\n",
       "      <td>1.399674</td>\n",
       "      <td>2.502066</td>\n",
       "      <td>1.872188</td>\n",
       "      <td>-0.239398</td>\n",
       "      <td>-1.349670</td>\n",
       "      <td>-0.457304</td>\n",
       "    </tr>\n",
       "    <tr>\n",
       "      <th>100005_raw-Carbohydrate</th>\n",
       "      <td>2.106644</td>\n",
       "      <td>1.025306</td>\n",
       "      <td>0.405959</td>\n",
       "      <td>2.645132</td>\n",
       "      <td>0.881081</td>\n",
       "      <td>-1.718546</td>\n",
       "      <td>0.693749</td>\n",
       "      <td>0.135447</td>\n",
       "      <td>-0.303163</td>\n",
       "      <td>-0.525056</td>\n",
       "      <td>...</td>\n",
       "      <td>0.612486</td>\n",
       "      <td>-0.769634</td>\n",
       "      <td>-0.264214</td>\n",
       "      <td>3.150728</td>\n",
       "      <td>-1.403396</td>\n",
       "      <td>2.893334</td>\n",
       "      <td>0.900700</td>\n",
       "      <td>0.200481</td>\n",
       "      <td>-2.369759</td>\n",
       "      <td>-0.348016</td>\n",
       "    </tr>\n",
       "  </tbody>\n",
       "</table>\n",
       "<p>5 rows × 50 columns</p>\n",
       "</div>"
      ],
      "text/plain": [
       "                             PCA1      PCA2      PCA3      PCA4      PCA5  \\\n",
       "100001_raw-Food_weight  -0.844744  3.134501 -1.885185  0.800877 -0.283830   \n",
       "100002_raw-Energy       -0.078568 -1.675988 -0.826605  0.872125 -1.257784   \n",
       "100003_raw-Protein      -1.966843 -0.720839 -0.621370  1.066950  0.612613   \n",
       "100004_raw-Fat           0.332482 -0.928841 -0.216911  0.486861  0.454021   \n",
       "100005_raw-Carbohydrate  2.106644  1.025306  0.405959  2.645132  0.881081   \n",
       "\n",
       "                             PCA6      PCA7      PCA8      PCA9     PCA10  \\\n",
       "100001_raw-Food_weight   0.027480  0.611143  1.485636  0.202757  0.450528   \n",
       "100002_raw-Energy        0.276976  0.123534 -0.225430  1.291625 -0.406739   \n",
       "100003_raw-Protein      -1.143542 -3.256801  0.637131  1.275239 -1.746677   \n",
       "100004_raw-Fat          -1.316312  0.226607  2.504342 -0.740799 -2.027466   \n",
       "100005_raw-Carbohydrate -1.718546  0.693749  0.135447 -0.303163 -0.525056   \n",
       "\n",
       "                         ...     PCA41     PCA42     PCA43     PCA44  \\\n",
       "100001_raw-Food_weight   ...  2.547792 -1.128343 -0.907277 -0.049764   \n",
       "100002_raw-Energy        ... -1.595450 -0.979352  2.081672 -1.266333   \n",
       "100003_raw-Protein       ... -0.898644  1.423939  0.200717  0.080861   \n",
       "100004_raw-Fat           ...  0.101529  0.032200 -0.658490 -0.288036   \n",
       "100005_raw-Carbohydrate  ...  0.612486 -0.769634 -0.264214  3.150728   \n",
       "\n",
       "                            PCA45     PCA46     PCA47     PCA48     PCA49  \\\n",
       "100001_raw-Food_weight  -1.669310 -0.721449  2.077602  0.799708  1.271524   \n",
       "100002_raw-Energy       -1.430714  2.733243 -0.293793 -1.427649 -1.315076   \n",
       "100003_raw-Protein      -0.910925 -0.266207  1.036173  0.326860 -0.197079   \n",
       "100004_raw-Fat           1.399674  2.502066  1.872188 -0.239398 -1.349670   \n",
       "100005_raw-Carbohydrate -1.403396  2.893334  0.900700  0.200481 -2.369759   \n",
       "\n",
       "                            PCA50  \n",
       "100001_raw-Food_weight  -1.871291  \n",
       "100002_raw-Energy        1.458368  \n",
       "100003_raw-Protein      -0.322935  \n",
       "100004_raw-Fat          -0.457304  \n",
       "100005_raw-Carbohydrate -0.348016  \n",
       "\n",
       "[5 rows x 50 columns]"
      ]
     },
     "execution_count": 21,
     "metadata": {},
     "output_type": "execute_result"
    }
   ],
   "source": [
    "data.head()"
   ]
  },
  {
   "cell_type": "code",
   "execution_count": 22,
   "id": "9b0d0bcd",
   "metadata": {
    "execution": {
     "iopub.execute_input": "2022-09-13T15:56:35.587495Z",
     "iopub.status.busy": "2022-09-13T15:56:35.587322Z",
     "iopub.status.idle": "2022-09-13T15:56:35.605662Z",
     "shell.execute_reply": "2022-09-13T15:56:35.605114Z"
    },
    "papermill": {
     "duration": 0.029283,
     "end_time": "2022-09-13T15:56:35.607055",
     "exception": false,
     "start_time": "2022-09-13T15:56:35.577772",
     "status": "completed"
    },
    "tags": []
   },
   "outputs": [],
   "source": [
    "assert not data.isna().any().any()"
   ]
  },
  {
   "cell_type": "markdown",
   "id": "65f9120b",
   "metadata": {
    "papermill": {
     "duration": 0.00907,
     "end_time": "2022-09-13T15:56:35.625638",
     "exception": false,
     "start_time": "2022-09-13T15:56:35.616568",
     "status": "completed"
    },
    "tags": []
   },
   "source": [
    "# Clustering"
   ]
  },
  {
   "cell_type": "markdown",
   "id": "2bbb49c1",
   "metadata": {
    "papermill": {
     "duration": 0.00829,
     "end_time": "2022-09-13T15:56:35.642796",
     "exception": false,
     "start_time": "2022-09-13T15:56:35.634506",
     "status": "completed"
    },
    "tags": []
   },
   "source": [
    "## Generate ensemble"
   ]
  },
  {
   "cell_type": "code",
   "execution_count": 23,
   "id": "9146201c",
   "metadata": {
    "execution": {
     "iopub.execute_input": "2022-09-13T15:56:35.661074Z",
     "iopub.status.busy": "2022-09-13T15:56:35.660539Z",
     "iopub.status.idle": "2022-09-13T15:56:35.681659Z",
     "shell.execute_reply": "2022-09-13T15:56:35.681189Z"
    },
    "papermill": {
     "duration": 0.03156,
     "end_time": "2022-09-13T15:56:35.683056",
     "exception": false,
     "start_time": "2022-09-13T15:56:35.651496",
     "status": "completed"
    },
    "tags": []
   },
   "outputs": [],
   "source": [
    "from clustering.ensembles.utils import generate_ensemble"
   ]
  },
  {
   "cell_type": "code",
   "execution_count": 24,
   "id": "e9959143",
   "metadata": {
    "execution": {
     "iopub.execute_input": "2022-09-13T15:56:35.702921Z",
     "iopub.status.busy": "2022-09-13T15:56:35.702756Z",
     "iopub.status.idle": "2022-09-13T16:02:20.466411Z",
     "shell.execute_reply": "2022-09-13T16:02:20.465920Z"
    },
    "papermill": {
     "duration": 344.775452,
     "end_time": "2022-09-13T16:02:20.467782",
     "exception": false,
     "start_time": "2022-09-13T15:56:35.692330",
     "status": "completed"
    },
    "tags": []
   },
   "outputs": [
    {
     "name": "stderr",
     "output_type": "stream",
     "text": [
      "100%|██████████| 295/295 [05:44<00:00,  1.17s/it]\n"
     ]
    }
   ],
   "source": [
    "ensemble = generate_ensemble(\n",
    "    data,\n",
    "    CLUSTERERS,\n",
    "    attributes=CLUSTERING_ATTRIBUTES_TO_SAVE,\n",
    ")"
   ]
  },
  {
   "cell_type": "code",
   "execution_count": 25,
   "id": "fd5e787c",
   "metadata": {
    "execution": {
     "iopub.execute_input": "2022-09-13T16:02:20.503974Z",
     "iopub.status.busy": "2022-09-13T16:02:20.503776Z",
     "iopub.status.idle": "2022-09-13T16:02:20.522508Z",
     "shell.execute_reply": "2022-09-13T16:02:20.521952Z"
    },
    "papermill": {
     "duration": 0.038381,
     "end_time": "2022-09-13T16:02:20.523793",
     "exception": false,
     "start_time": "2022-09-13T16:02:20.485412",
     "status": "completed"
    },
    "tags": []
   },
   "outputs": [
    {
     "data": {
      "text/plain": [
       "(295, 3)"
      ]
     },
     "execution_count": 25,
     "metadata": {},
     "output_type": "execute_result"
    }
   ],
   "source": [
    "# the number should be close to 295 (the number of partitions generated by k-means/spectral clustering)\n",
    "ensemble.shape"
   ]
  },
  {
   "cell_type": "code",
   "execution_count": 26,
   "id": "c839ebe8",
   "metadata": {
    "execution": {
     "iopub.execute_input": "2022-09-13T16:02:20.560961Z",
     "iopub.status.busy": "2022-09-13T16:02:20.560801Z",
     "iopub.status.idle": "2022-09-13T16:02:20.586457Z",
     "shell.execute_reply": "2022-09-13T16:02:20.585995Z"
    },
    "papermill": {
     "duration": 0.045552,
     "end_time": "2022-09-13T16:02:20.587711",
     "exception": false,
     "start_time": "2022-09-13T16:02:20.542159",
     "status": "completed"
    },
    "tags": []
   },
   "outputs": [
    {
     "data": {
      "text/html": [
       "<div>\n",
       "<style scoped>\n",
       "    .dataframe tbody tr th:only-of-type {\n",
       "        vertical-align: middle;\n",
       "    }\n",
       "\n",
       "    .dataframe tbody tr th {\n",
       "        vertical-align: top;\n",
       "    }\n",
       "\n",
       "    .dataframe thead th {\n",
       "        text-align: right;\n",
       "    }\n",
       "</style>\n",
       "<table border=\"1\" class=\"dataframe\">\n",
       "  <thead>\n",
       "    <tr style=\"text-align: right;\">\n",
       "      <th></th>\n",
       "      <th>clusterer_params</th>\n",
       "      <th>partition</th>\n",
       "      <th>n_clusters</th>\n",
       "    </tr>\n",
       "    <tr>\n",
       "      <th>clusterer_id</th>\n",
       "      <th></th>\n",
       "      <th></th>\n",
       "      <th></th>\n",
       "    </tr>\n",
       "  </thead>\n",
       "  <tbody>\n",
       "    <tr>\n",
       "      <th>KMeans #0</th>\n",
       "      <td>{'algorithm': 'auto', 'copy_x': True, 'init': ...</td>\n",
       "      <td>[0.0, 0.0, 0.0, 1.0, 0.0, 0.0, 1.0, 0.0, 1.0, ...</td>\n",
       "      <td>2</td>\n",
       "    </tr>\n",
       "    <tr>\n",
       "      <th>KMeans #1</th>\n",
       "      <td>{'algorithm': 'auto', 'copy_x': True, 'init': ...</td>\n",
       "      <td>[1.0, 0.0, 1.0, 1.0, 1.0, 1.0, 0.0, 0.0, 1.0, ...</td>\n",
       "      <td>2</td>\n",
       "    </tr>\n",
       "    <tr>\n",
       "      <th>KMeans #2</th>\n",
       "      <td>{'algorithm': 'auto', 'copy_x': True, 'init': ...</td>\n",
       "      <td>[0.0, 0.0, 1.0, 1.0, 0.0, 0.0, 0.0, 0.0, 1.0, ...</td>\n",
       "      <td>2</td>\n",
       "    </tr>\n",
       "    <tr>\n",
       "      <th>KMeans #3</th>\n",
       "      <td>{'algorithm': 'auto', 'copy_x': True, 'init': ...</td>\n",
       "      <td>[0.0, 1.0, 1.0, 0.0, 0.0, 0.0, 1.0, 0.0, 0.0, ...</td>\n",
       "      <td>2</td>\n",
       "    </tr>\n",
       "    <tr>\n",
       "      <th>KMeans #4</th>\n",
       "      <td>{'algorithm': 'auto', 'copy_x': True, 'init': ...</td>\n",
       "      <td>[1.0, 0.0, 0.0, 1.0, 1.0, 1.0, 0.0, 1.0, 1.0, ...</td>\n",
       "      <td>2</td>\n",
       "    </tr>\n",
       "  </tbody>\n",
       "</table>\n",
       "</div>"
      ],
      "text/plain": [
       "                                               clusterer_params  \\\n",
       "clusterer_id                                                      \n",
       "KMeans #0     {'algorithm': 'auto', 'copy_x': True, 'init': ...   \n",
       "KMeans #1     {'algorithm': 'auto', 'copy_x': True, 'init': ...   \n",
       "KMeans #2     {'algorithm': 'auto', 'copy_x': True, 'init': ...   \n",
       "KMeans #3     {'algorithm': 'auto', 'copy_x': True, 'init': ...   \n",
       "KMeans #4     {'algorithm': 'auto', 'copy_x': True, 'init': ...   \n",
       "\n",
       "                                                      partition  n_clusters  \n",
       "clusterer_id                                                                 \n",
       "KMeans #0     [0.0, 0.0, 0.0, 1.0, 0.0, 0.0, 1.0, 0.0, 1.0, ...           2  \n",
       "KMeans #1     [1.0, 0.0, 1.0, 1.0, 1.0, 1.0, 0.0, 0.0, 1.0, ...           2  \n",
       "KMeans #2     [0.0, 0.0, 1.0, 1.0, 0.0, 0.0, 0.0, 0.0, 1.0, ...           2  \n",
       "KMeans #3     [0.0, 1.0, 1.0, 0.0, 0.0, 0.0, 1.0, 0.0, 0.0, ...           2  \n",
       "KMeans #4     [1.0, 0.0, 0.0, 1.0, 1.0, 1.0, 0.0, 1.0, 1.0, ...           2  "
      ]
     },
     "execution_count": 26,
     "metadata": {},
     "output_type": "execute_result"
    }
   ],
   "source": [
    "ensemble.head()"
   ]
  },
  {
   "cell_type": "code",
   "execution_count": 27,
   "id": "a2475d87",
   "metadata": {
    "execution": {
     "iopub.execute_input": "2022-09-13T16:02:20.625335Z",
     "iopub.status.busy": "2022-09-13T16:02:20.625121Z",
     "iopub.status.idle": "2022-09-13T16:02:20.645285Z",
     "shell.execute_reply": "2022-09-13T16:02:20.644789Z"
    },
    "papermill": {
     "duration": 0.039985,
     "end_time": "2022-09-13T16:02:20.646482",
     "exception": false,
     "start_time": "2022-09-13T16:02:20.606497",
     "status": "completed"
    },
    "tags": []
   },
   "outputs": [
    {
     "data": {
      "text/plain": [
       "60    5\n",
       "16    5\n",
       "28    5\n",
       "27    5\n",
       "26    5\n",
       "Name: n_clusters, dtype: int64"
      ]
     },
     "execution_count": 27,
     "metadata": {},
     "output_type": "execute_result"
    }
   ],
   "source": [
    "ensemble[\"n_clusters\"].value_counts().head()"
   ]
  },
  {
   "cell_type": "code",
   "execution_count": 28,
   "id": "a72c16b4",
   "metadata": {
    "execution": {
     "iopub.execute_input": "2022-09-13T16:02:20.683842Z",
     "iopub.status.busy": "2022-09-13T16:02:20.683604Z",
     "iopub.status.idle": "2022-09-13T16:02:20.704987Z",
     "shell.execute_reply": "2022-09-13T16:02:20.704213Z"
    },
    "papermill": {
     "duration": 0.041194,
     "end_time": "2022-09-13T16:02:20.706290",
     "exception": false,
     "start_time": "2022-09-13T16:02:20.665096",
     "status": "completed"
    },
    "tags": []
   },
   "outputs": [
    {
     "data": {
      "text/plain": [
       "count    295.000000\n",
       "mean      31.000000\n",
       "std       17.058323\n",
       "min        2.000000\n",
       "25%       16.000000\n",
       "50%       31.000000\n",
       "75%       46.000000\n",
       "max       60.000000\n",
       "Name: n_clusters, dtype: float64"
      ]
     },
     "metadata": {},
     "output_type": "display_data"
    }
   ],
   "source": [
    "ensemble_stats = ensemble[\"n_clusters\"].describe()\n",
    "display(ensemble_stats)"
   ]
  },
  {
   "cell_type": "markdown",
   "id": "9b65c295",
   "metadata": {
    "papermill": {
     "duration": 0.01798,
     "end_time": "2022-09-13T16:02:20.742815",
     "exception": false,
     "start_time": "2022-09-13T16:02:20.724835",
     "status": "completed"
    },
    "tags": []
   },
   "source": [
    "## Testing"
   ]
  },
  {
   "cell_type": "code",
   "execution_count": 29,
   "id": "fdac9c23",
   "metadata": {
    "execution": {
     "iopub.execute_input": "2022-09-13T16:02:20.779910Z",
     "iopub.status.busy": "2022-09-13T16:02:20.779698Z",
     "iopub.status.idle": "2022-09-13T16:02:20.798078Z",
     "shell.execute_reply": "2022-09-13T16:02:20.797543Z"
    },
    "papermill": {
     "duration": 0.03839,
     "end_time": "2022-09-13T16:02:20.799495",
     "exception": false,
     "start_time": "2022-09-13T16:02:20.761105",
     "status": "completed"
    },
    "tags": []
   },
   "outputs": [],
   "source": [
    "assert ensemble_stats[\"min\"] > 1"
   ]
  },
  {
   "cell_type": "code",
   "execution_count": 30,
   "id": "198b7396",
   "metadata": {
    "execution": {
     "iopub.execute_input": "2022-09-13T16:02:20.839131Z",
     "iopub.status.busy": "2022-09-13T16:02:20.838965Z",
     "iopub.status.idle": "2022-09-13T16:02:20.857516Z",
     "shell.execute_reply": "2022-09-13T16:02:20.857032Z"
    },
    "papermill": {
     "duration": 0.040922,
     "end_time": "2022-09-13T16:02:20.858970",
     "exception": false,
     "start_time": "2022-09-13T16:02:20.818048",
     "status": "completed"
    },
    "tags": []
   },
   "outputs": [],
   "source": [
    "assert not ensemble[\"n_clusters\"].isna().any()"
   ]
  },
  {
   "cell_type": "code",
   "execution_count": 31,
   "id": "d6710aa4",
   "metadata": {
    "execution": {
     "iopub.execute_input": "2022-09-13T16:02:20.897198Z",
     "iopub.status.busy": "2022-09-13T16:02:20.896987Z",
     "iopub.status.idle": "2022-09-13T16:02:20.915103Z",
     "shell.execute_reply": "2022-09-13T16:02:20.914569Z"
    },
    "papermill": {
     "duration": 0.038292,
     "end_time": "2022-09-13T16:02:20.916499",
     "exception": false,
     "start_time": "2022-09-13T16:02:20.878207",
     "status": "completed"
    },
    "tags": []
   },
   "outputs": [],
   "source": [
    "assert ensemble.shape[0] == len(CLUSTERERS)"
   ]
  },
  {
   "cell_type": "code",
   "execution_count": 32,
   "id": "e1cb24aa",
   "metadata": {
    "execution": {
     "iopub.execute_input": "2022-09-13T16:02:20.954749Z",
     "iopub.status.busy": "2022-09-13T16:02:20.954491Z",
     "iopub.status.idle": "2022-09-13T16:02:20.989986Z",
     "shell.execute_reply": "2022-09-13T16:02:20.989452Z"
    },
    "papermill": {
     "duration": 0.055973,
     "end_time": "2022-09-13T16:02:20.991408",
     "exception": false,
     "start_time": "2022-09-13T16:02:20.935435",
     "status": "completed"
    },
    "tags": []
   },
   "outputs": [],
   "source": [
    "# all partitions have the right size\n",
    "assert np.all(\n",
    "    [part[\"partition\"].shape[0] == data.shape[0] for idx, part in ensemble.iterrows()]\n",
    ")"
   ]
  },
  {
   "cell_type": "code",
   "execution_count": 33,
   "id": "216b0629",
   "metadata": {
    "execution": {
     "iopub.execute_input": "2022-09-13T16:02:21.029026Z",
     "iopub.status.busy": "2022-09-13T16:02:21.028510Z",
     "iopub.status.idle": "2022-09-13T16:02:21.066453Z",
     "shell.execute_reply": "2022-09-13T16:02:21.065879Z"
    },
    "papermill": {
     "duration": 0.058309,
     "end_time": "2022-09-13T16:02:21.067966",
     "exception": false,
     "start_time": "2022-09-13T16:02:21.009657",
     "status": "completed"
    },
    "tags": []
   },
   "outputs": [],
   "source": [
    "# no partition has negative clusters (noisy points)\n",
    "assert not np.any([(part[\"partition\"] < 0).any() for idx, part in ensemble.iterrows()])"
   ]
  },
  {
   "cell_type": "markdown",
   "id": "499154ca",
   "metadata": {
    "papermill": {
     "duration": 0.018351,
     "end_time": "2022-09-13T16:02:21.104731",
     "exception": false,
     "start_time": "2022-09-13T16:02:21.086380",
     "status": "completed"
    },
    "tags": []
   },
   "source": [
    "## Add clustering quality measures"
   ]
  },
  {
   "cell_type": "code",
   "execution_count": 34,
   "id": "c36107cb",
   "metadata": {
    "execution": {
     "iopub.execute_input": "2022-09-13T16:02:21.142509Z",
     "iopub.status.busy": "2022-09-13T16:02:21.142297Z",
     "iopub.status.idle": "2022-09-13T16:02:21.160017Z",
     "shell.execute_reply": "2022-09-13T16:02:21.159321Z"
    },
    "papermill": {
     "duration": 0.037655,
     "end_time": "2022-09-13T16:02:21.161325",
     "exception": false,
     "start_time": "2022-09-13T16:02:21.123670",
     "status": "completed"
    },
    "tags": []
   },
   "outputs": [],
   "source": [
    "from sklearn.metrics import calinski_harabasz_score"
   ]
  },
  {
   "cell_type": "code",
   "execution_count": 35,
   "id": "bb66ab4c",
   "metadata": {
    "execution": {
     "iopub.execute_input": "2022-09-13T16:02:21.199616Z",
     "iopub.status.busy": "2022-09-13T16:02:21.199341Z",
     "iopub.status.idle": "2022-09-13T16:02:22.180077Z",
     "shell.execute_reply": "2022-09-13T16:02:22.179446Z"
    },
    "papermill": {
     "duration": 1.001368,
     "end_time": "2022-09-13T16:02:22.181618",
     "exception": false,
     "start_time": "2022-09-13T16:02:21.180250",
     "status": "completed"
    },
    "tags": []
   },
   "outputs": [],
   "source": [
    "ensemble = ensemble.assign(\n",
    "    ch_score=ensemble[\"partition\"].apply(lambda x: calinski_harabasz_score(data, x))\n",
    ")"
   ]
  },
  {
   "cell_type": "code",
   "execution_count": 36,
   "id": "7df25ca8",
   "metadata": {
    "execution": {
     "iopub.execute_input": "2022-09-13T16:02:22.218909Z",
     "iopub.status.busy": "2022-09-13T16:02:22.218698Z",
     "iopub.status.idle": "2022-09-13T16:02:22.237843Z",
     "shell.execute_reply": "2022-09-13T16:02:22.237356Z"
    },
    "papermill": {
     "duration": 0.039338,
     "end_time": "2022-09-13T16:02:22.239147",
     "exception": false,
     "start_time": "2022-09-13T16:02:22.199809",
     "status": "completed"
    },
    "tags": []
   },
   "outputs": [
    {
     "data": {
      "text/plain": [
       "(295, 4)"
      ]
     },
     "execution_count": 36,
     "metadata": {},
     "output_type": "execute_result"
    }
   ],
   "source": [
    "ensemble.shape"
   ]
  },
  {
   "cell_type": "code",
   "execution_count": 37,
   "id": "7de636fe",
   "metadata": {
    "execution": {
     "iopub.execute_input": "2022-09-13T16:02:22.278023Z",
     "iopub.status.busy": "2022-09-13T16:02:22.277801Z",
     "iopub.status.idle": "2022-09-13T16:02:22.304201Z",
     "shell.execute_reply": "2022-09-13T16:02:22.303673Z"
    },
    "papermill": {
     "duration": 0.047447,
     "end_time": "2022-09-13T16:02:22.305510",
     "exception": false,
     "start_time": "2022-09-13T16:02:22.258063",
     "status": "completed"
    },
    "tags": []
   },
   "outputs": [
    {
     "data": {
      "text/html": [
       "<div>\n",
       "<style scoped>\n",
       "    .dataframe tbody tr th:only-of-type {\n",
       "        vertical-align: middle;\n",
       "    }\n",
       "\n",
       "    .dataframe tbody tr th {\n",
       "        vertical-align: top;\n",
       "    }\n",
       "\n",
       "    .dataframe thead th {\n",
       "        text-align: right;\n",
       "    }\n",
       "</style>\n",
       "<table border=\"1\" class=\"dataframe\">\n",
       "  <thead>\n",
       "    <tr style=\"text-align: right;\">\n",
       "      <th></th>\n",
       "      <th>clusterer_params</th>\n",
       "      <th>partition</th>\n",
       "      <th>n_clusters</th>\n",
       "      <th>ch_score</th>\n",
       "    </tr>\n",
       "    <tr>\n",
       "      <th>clusterer_id</th>\n",
       "      <th></th>\n",
       "      <th></th>\n",
       "      <th></th>\n",
       "      <th></th>\n",
       "    </tr>\n",
       "  </thead>\n",
       "  <tbody>\n",
       "    <tr>\n",
       "      <th>KMeans #0</th>\n",
       "      <td>{'algorithm': 'auto', 'copy_x': True, 'init': ...</td>\n",
       "      <td>[0.0, 0.0, 0.0, 1.0, 0.0, 0.0, 1.0, 0.0, 1.0, ...</td>\n",
       "      <td>2</td>\n",
       "      <td>51.229626</td>\n",
       "    </tr>\n",
       "    <tr>\n",
       "      <th>KMeans #1</th>\n",
       "      <td>{'algorithm': 'auto', 'copy_x': True, 'init': ...</td>\n",
       "      <td>[1.0, 0.0, 1.0, 1.0, 1.0, 1.0, 0.0, 0.0, 1.0, ...</td>\n",
       "      <td>2</td>\n",
       "      <td>52.039714</td>\n",
       "    </tr>\n",
       "    <tr>\n",
       "      <th>KMeans #2</th>\n",
       "      <td>{'algorithm': 'auto', 'copy_x': True, 'init': ...</td>\n",
       "      <td>[0.0, 0.0, 1.0, 1.0, 0.0, 0.0, 0.0, 0.0, 1.0, ...</td>\n",
       "      <td>2</td>\n",
       "      <td>51.047860</td>\n",
       "    </tr>\n",
       "    <tr>\n",
       "      <th>KMeans #3</th>\n",
       "      <td>{'algorithm': 'auto', 'copy_x': True, 'init': ...</td>\n",
       "      <td>[0.0, 1.0, 1.0, 0.0, 0.0, 0.0, 1.0, 0.0, 0.0, ...</td>\n",
       "      <td>2</td>\n",
       "      <td>51.437600</td>\n",
       "    </tr>\n",
       "    <tr>\n",
       "      <th>KMeans #4</th>\n",
       "      <td>{'algorithm': 'auto', 'copy_x': True, 'init': ...</td>\n",
       "      <td>[1.0, 0.0, 0.0, 1.0, 1.0, 1.0, 0.0, 1.0, 1.0, ...</td>\n",
       "      <td>2</td>\n",
       "      <td>51.197315</td>\n",
       "    </tr>\n",
       "  </tbody>\n",
       "</table>\n",
       "</div>"
      ],
      "text/plain": [
       "                                               clusterer_params  \\\n",
       "clusterer_id                                                      \n",
       "KMeans #0     {'algorithm': 'auto', 'copy_x': True, 'init': ...   \n",
       "KMeans #1     {'algorithm': 'auto', 'copy_x': True, 'init': ...   \n",
       "KMeans #2     {'algorithm': 'auto', 'copy_x': True, 'init': ...   \n",
       "KMeans #3     {'algorithm': 'auto', 'copy_x': True, 'init': ...   \n",
       "KMeans #4     {'algorithm': 'auto', 'copy_x': True, 'init': ...   \n",
       "\n",
       "                                                      partition  n_clusters  \\\n",
       "clusterer_id                                                                  \n",
       "KMeans #0     [0.0, 0.0, 0.0, 1.0, 0.0, 0.0, 1.0, 0.0, 1.0, ...           2   \n",
       "KMeans #1     [1.0, 0.0, 1.0, 1.0, 1.0, 1.0, 0.0, 0.0, 1.0, ...           2   \n",
       "KMeans #2     [0.0, 0.0, 1.0, 1.0, 0.0, 0.0, 0.0, 0.0, 1.0, ...           2   \n",
       "KMeans #3     [0.0, 1.0, 1.0, 0.0, 0.0, 0.0, 1.0, 0.0, 0.0, ...           2   \n",
       "KMeans #4     [1.0, 0.0, 0.0, 1.0, 1.0, 1.0, 0.0, 1.0, 1.0, ...           2   \n",
       "\n",
       "               ch_score  \n",
       "clusterer_id             \n",
       "KMeans #0     51.229626  \n",
       "KMeans #1     52.039714  \n",
       "KMeans #2     51.047860  \n",
       "KMeans #3     51.437600  \n",
       "KMeans #4     51.197315  "
      ]
     },
     "execution_count": 37,
     "metadata": {},
     "output_type": "execute_result"
    }
   ],
   "source": [
    "ensemble.head()"
   ]
  },
  {
   "cell_type": "markdown",
   "id": "63bef39c",
   "metadata": {
    "papermill": {
     "duration": 0.018069,
     "end_time": "2022-09-13T16:02:22.342849",
     "exception": false,
     "start_time": "2022-09-13T16:02:22.324780",
     "status": "completed"
    },
    "tags": []
   },
   "source": [
    "## Save"
   ]
  },
  {
   "cell_type": "code",
   "execution_count": 38,
   "id": "219dec0f",
   "metadata": {
    "execution": {
     "iopub.execute_input": "2022-09-13T16:02:22.380255Z",
     "iopub.status.busy": "2022-09-13T16:02:22.380044Z",
     "iopub.status.idle": "2022-09-13T16:02:22.399273Z",
     "shell.execute_reply": "2022-09-13T16:02:22.398821Z"
    },
    "papermill": {
     "duration": 0.039402,
     "end_time": "2022-09-13T16:02:22.400483",
     "exception": false,
     "start_time": "2022-09-13T16:02:22.361081",
     "status": "completed"
    },
    "tags": []
   },
   "outputs": [
    {
     "data": {
      "text/plain": [
       "PosixPath('/opt/data/results/clustering/null_sims/runs/pca-z_score_std-projection-smultixcan-efo_partial-mashr-zscores/KMeans-KMEANS_N_INIT_10-K_MAX_60-K_MIN_2-N_REPS_PER_K_5.pkl')"
      ]
     },
     "metadata": {},
     "output_type": "display_data"
    }
   ],
   "source": [
    "output_filename = Path(\n",
    "    RESULTS_DIR,\n",
    "    generate_result_set_name(\n",
    "        CLUSTERING_OPTIONS,\n",
    "        prefix=f\"{clustering_method_name}-\",\n",
    "        suffix=\".pkl\",\n",
    "    ),\n",
    ").resolve()\n",
    "display(output_filename)"
   ]
  },
  {
   "cell_type": "code",
   "execution_count": 39,
   "id": "912a8627",
   "metadata": {
    "execution": {
     "iopub.execute_input": "2022-09-13T16:02:22.439704Z",
     "iopub.status.busy": "2022-09-13T16:02:22.439496Z",
     "iopub.status.idle": "2022-09-13T16:02:22.471660Z",
     "shell.execute_reply": "2022-09-13T16:02:22.471117Z"
    },
    "papermill": {
     "duration": 0.053387,
     "end_time": "2022-09-13T16:02:22.473089",
     "exception": false,
     "start_time": "2022-09-13T16:02:22.419702",
     "status": "completed"
    },
    "tags": []
   },
   "outputs": [],
   "source": [
    "ensemble.to_pickle(output_filename)"
   ]
  },
  {
   "cell_type": "markdown",
   "id": "46fbc530",
   "metadata": {
    "papermill": {
     "duration": 0.018857,
     "end_time": "2022-09-13T16:02:22.511851",
     "exception": false,
     "start_time": "2022-09-13T16:02:22.492994",
     "status": "completed"
    },
    "tags": []
   },
   "source": [
    "# Cluster quality"
   ]
  },
  {
   "cell_type": "code",
   "execution_count": 40,
   "id": "fd1115b0",
   "metadata": {
    "execution": {
     "iopub.execute_input": "2022-09-13T16:02:22.549144Z",
     "iopub.status.busy": "2022-09-13T16:02:22.548933Z",
     "iopub.status.idle": "2022-09-13T16:02:22.573206Z",
     "shell.execute_reply": "2022-09-13T16:02:22.572689Z"
    },
    "papermill": {
     "duration": 0.04449,
     "end_time": "2022-09-13T16:02:22.574528",
     "exception": false,
     "start_time": "2022-09-13T16:02:22.530038",
     "status": "completed"
    },
    "tags": []
   },
   "outputs": [
    {
     "data": {
      "text/html": [
       "<div>\n",
       "<style scoped>\n",
       "    .dataframe tbody tr th:only-of-type {\n",
       "        vertical-align: middle;\n",
       "    }\n",
       "\n",
       "    .dataframe tbody tr th {\n",
       "        vertical-align: top;\n",
       "    }\n",
       "\n",
       "    .dataframe thead th {\n",
       "        text-align: right;\n",
       "    }\n",
       "</style>\n",
       "<table border=\"1\" class=\"dataframe\">\n",
       "  <thead>\n",
       "    <tr style=\"text-align: right;\">\n",
       "      <th></th>\n",
       "      <th>ch_score</th>\n",
       "    </tr>\n",
       "    <tr>\n",
       "      <th>n_clusters</th>\n",
       "      <th></th>\n",
       "    </tr>\n",
       "  </thead>\n",
       "  <tbody>\n",
       "    <tr>\n",
       "      <th>2</th>\n",
       "      <td>51.390423</td>\n",
       "    </tr>\n",
       "    <tr>\n",
       "      <th>3</th>\n",
       "      <td>44.642754</td>\n",
       "    </tr>\n",
       "    <tr>\n",
       "      <th>4</th>\n",
       "      <td>44.847006</td>\n",
       "    </tr>\n",
       "    <tr>\n",
       "      <th>5</th>\n",
       "      <td>41.890963</td>\n",
       "    </tr>\n",
       "    <tr>\n",
       "      <th>6</th>\n",
       "      <td>41.279753</td>\n",
       "    </tr>\n",
       "    <tr>\n",
       "      <th>7</th>\n",
       "      <td>40.453813</td>\n",
       "    </tr>\n",
       "    <tr>\n",
       "      <th>8</th>\n",
       "      <td>37.076377</td>\n",
       "    </tr>\n",
       "    <tr>\n",
       "      <th>9</th>\n",
       "      <td>37.052797</td>\n",
       "    </tr>\n",
       "    <tr>\n",
       "      <th>10</th>\n",
       "      <td>35.414470</td>\n",
       "    </tr>\n",
       "    <tr>\n",
       "      <th>11</th>\n",
       "      <td>34.686767</td>\n",
       "    </tr>\n",
       "    <tr>\n",
       "      <th>12</th>\n",
       "      <td>33.242519</td>\n",
       "    </tr>\n",
       "    <tr>\n",
       "      <th>13</th>\n",
       "      <td>33.181142</td>\n",
       "    </tr>\n",
       "    <tr>\n",
       "      <th>14</th>\n",
       "      <td>31.502896</td>\n",
       "    </tr>\n",
       "    <tr>\n",
       "      <th>15</th>\n",
       "      <td>31.456259</td>\n",
       "    </tr>\n",
       "    <tr>\n",
       "      <th>16</th>\n",
       "      <td>29.511632</td>\n",
       "    </tr>\n",
       "    <tr>\n",
       "      <th>17</th>\n",
       "      <td>29.076867</td>\n",
       "    </tr>\n",
       "    <tr>\n",
       "      <th>18</th>\n",
       "      <td>28.902466</td>\n",
       "    </tr>\n",
       "    <tr>\n",
       "      <th>19</th>\n",
       "      <td>28.451333</td>\n",
       "    </tr>\n",
       "    <tr>\n",
       "      <th>20</th>\n",
       "      <td>27.104382</td>\n",
       "    </tr>\n",
       "    <tr>\n",
       "      <th>21</th>\n",
       "      <td>27.324415</td>\n",
       "    </tr>\n",
       "    <tr>\n",
       "      <th>22</th>\n",
       "      <td>26.036500</td>\n",
       "    </tr>\n",
       "    <tr>\n",
       "      <th>23</th>\n",
       "      <td>26.018490</td>\n",
       "    </tr>\n",
       "    <tr>\n",
       "      <th>24</th>\n",
       "      <td>25.662934</td>\n",
       "    </tr>\n",
       "    <tr>\n",
       "      <th>25</th>\n",
       "      <td>25.574735</td>\n",
       "    </tr>\n",
       "    <tr>\n",
       "      <th>26</th>\n",
       "      <td>25.001938</td>\n",
       "    </tr>\n",
       "    <tr>\n",
       "      <th>27</th>\n",
       "      <td>24.142176</td>\n",
       "    </tr>\n",
       "    <tr>\n",
       "      <th>28</th>\n",
       "      <td>24.148534</td>\n",
       "    </tr>\n",
       "    <tr>\n",
       "      <th>29</th>\n",
       "      <td>23.887593</td>\n",
       "    </tr>\n",
       "    <tr>\n",
       "      <th>30</th>\n",
       "      <td>23.011260</td>\n",
       "    </tr>\n",
       "    <tr>\n",
       "      <th>31</th>\n",
       "      <td>23.264132</td>\n",
       "    </tr>\n",
       "    <tr>\n",
       "      <th>32</th>\n",
       "      <td>22.614817</td>\n",
       "    </tr>\n",
       "    <tr>\n",
       "      <th>33</th>\n",
       "      <td>22.698949</td>\n",
       "    </tr>\n",
       "    <tr>\n",
       "      <th>34</th>\n",
       "      <td>22.046242</td>\n",
       "    </tr>\n",
       "    <tr>\n",
       "      <th>35</th>\n",
       "      <td>21.468385</td>\n",
       "    </tr>\n",
       "    <tr>\n",
       "      <th>36</th>\n",
       "      <td>21.765195</td>\n",
       "    </tr>\n",
       "    <tr>\n",
       "      <th>37</th>\n",
       "      <td>21.491108</td>\n",
       "    </tr>\n",
       "    <tr>\n",
       "      <th>38</th>\n",
       "      <td>21.295769</td>\n",
       "    </tr>\n",
       "    <tr>\n",
       "      <th>39</th>\n",
       "      <td>20.910216</td>\n",
       "    </tr>\n",
       "    <tr>\n",
       "      <th>40</th>\n",
       "      <td>20.590381</td>\n",
       "    </tr>\n",
       "    <tr>\n",
       "      <th>41</th>\n",
       "      <td>20.222396</td>\n",
       "    </tr>\n",
       "    <tr>\n",
       "      <th>42</th>\n",
       "      <td>20.330478</td>\n",
       "    </tr>\n",
       "    <tr>\n",
       "      <th>43</th>\n",
       "      <td>20.092384</td>\n",
       "    </tr>\n",
       "    <tr>\n",
       "      <th>44</th>\n",
       "      <td>19.596772</td>\n",
       "    </tr>\n",
       "    <tr>\n",
       "      <th>45</th>\n",
       "      <td>19.648158</td>\n",
       "    </tr>\n",
       "    <tr>\n",
       "      <th>46</th>\n",
       "      <td>19.299890</td>\n",
       "    </tr>\n",
       "    <tr>\n",
       "      <th>47</th>\n",
       "      <td>19.025201</td>\n",
       "    </tr>\n",
       "    <tr>\n",
       "      <th>48</th>\n",
       "      <td>18.922040</td>\n",
       "    </tr>\n",
       "    <tr>\n",
       "      <th>49</th>\n",
       "      <td>18.781690</td>\n",
       "    </tr>\n",
       "    <tr>\n",
       "      <th>50</th>\n",
       "      <td>18.714911</td>\n",
       "    </tr>\n",
       "    <tr>\n",
       "      <th>51</th>\n",
       "      <td>18.374379</td>\n",
       "    </tr>\n",
       "    <tr>\n",
       "      <th>52</th>\n",
       "      <td>18.295490</td>\n",
       "    </tr>\n",
       "    <tr>\n",
       "      <th>53</th>\n",
       "      <td>18.262530</td>\n",
       "    </tr>\n",
       "    <tr>\n",
       "      <th>54</th>\n",
       "      <td>18.012071</td>\n",
       "    </tr>\n",
       "    <tr>\n",
       "      <th>55</th>\n",
       "      <td>17.771982</td>\n",
       "    </tr>\n",
       "    <tr>\n",
       "      <th>56</th>\n",
       "      <td>17.913704</td>\n",
       "    </tr>\n",
       "    <tr>\n",
       "      <th>57</th>\n",
       "      <td>17.646668</td>\n",
       "    </tr>\n",
       "    <tr>\n",
       "      <th>58</th>\n",
       "      <td>17.420338</td>\n",
       "    </tr>\n",
       "    <tr>\n",
       "      <th>59</th>\n",
       "      <td>17.082594</td>\n",
       "    </tr>\n",
       "    <tr>\n",
       "      <th>60</th>\n",
       "      <td>17.160116</td>\n",
       "    </tr>\n",
       "  </tbody>\n",
       "</table>\n",
       "</div>"
      ],
      "text/plain": [
       "             ch_score\n",
       "n_clusters           \n",
       "2           51.390423\n",
       "3           44.642754\n",
       "4           44.847006\n",
       "5           41.890963\n",
       "6           41.279753\n",
       "7           40.453813\n",
       "8           37.076377\n",
       "9           37.052797\n",
       "10          35.414470\n",
       "11          34.686767\n",
       "12          33.242519\n",
       "13          33.181142\n",
       "14          31.502896\n",
       "15          31.456259\n",
       "16          29.511632\n",
       "17          29.076867\n",
       "18          28.902466\n",
       "19          28.451333\n",
       "20          27.104382\n",
       "21          27.324415\n",
       "22          26.036500\n",
       "23          26.018490\n",
       "24          25.662934\n",
       "25          25.574735\n",
       "26          25.001938\n",
       "27          24.142176\n",
       "28          24.148534\n",
       "29          23.887593\n",
       "30          23.011260\n",
       "31          23.264132\n",
       "32          22.614817\n",
       "33          22.698949\n",
       "34          22.046242\n",
       "35          21.468385\n",
       "36          21.765195\n",
       "37          21.491108\n",
       "38          21.295769\n",
       "39          20.910216\n",
       "40          20.590381\n",
       "41          20.222396\n",
       "42          20.330478\n",
       "43          20.092384\n",
       "44          19.596772\n",
       "45          19.648158\n",
       "46          19.299890\n",
       "47          19.025201\n",
       "48          18.922040\n",
       "49          18.781690\n",
       "50          18.714911\n",
       "51          18.374379\n",
       "52          18.295490\n",
       "53          18.262530\n",
       "54          18.012071\n",
       "55          17.771982\n",
       "56          17.913704\n",
       "57          17.646668\n",
       "58          17.420338\n",
       "59          17.082594\n",
       "60          17.160116"
      ]
     },
     "metadata": {},
     "output_type": "display_data"
    }
   ],
   "source": [
    "with pd.option_context(\"display.max_rows\", None, \"display.max_columns\", None):\n",
    "    _df = ensemble.groupby([\"n_clusters\"]).mean()\n",
    "    display(_df)"
   ]
  },
  {
   "cell_type": "code",
   "execution_count": 41,
   "id": "2e8401f9",
   "metadata": {
    "execution": {
     "iopub.execute_input": "2022-09-13T16:02:22.613491Z",
     "iopub.status.busy": "2022-09-13T16:02:22.613271Z",
     "iopub.status.idle": "2022-09-13T16:02:25.626673Z",
     "shell.execute_reply": "2022-09-13T16:02:25.625518Z"
    },
    "papermill": {
     "duration": 3.036213,
     "end_time": "2022-09-13T16:02:25.630165",
     "exception": false,
     "start_time": "2022-09-13T16:02:22.593952",
     "status": "completed"
    },
    "tags": []
   },
   "outputs": [
    {
     "data": {
      "image/png": "[encoded data removed]",
      "text/plain": [
       "<Figure size 1008x432 with 1 Axes>"
      ]
     },
     "metadata": {},
     "output_type": "display_data"
    }
   ],
   "source": [
    "with sns.plotting_context(\"talk\", font_scale=0.75), sns.axes_style(\n",
    "    \"whitegrid\", {\"grid.linestyle\": \"--\"}\n",
    "):\n",
    "    fig = plt.figure(figsize=(14, 6))\n",
    "    ax = sns.pointplot(data=ensemble, x=\"n_clusters\", y=\"ch_score\")\n",
    "    ax.set_ylabel(\"Calinski-Harabasz index\")\n",
    "    ax.set_xlabel(\"Number of clusters ($k$)\")\n",
    "    ax.set_xticklabels(ax.get_xticklabels(), rotation=45)\n",
    "    plt.grid(True)\n",
    "    plt.tight_layout()"
   ]
  },
  {
   "cell_type": "markdown",
   "id": "ad96a6f7",
   "metadata": {
    "papermill": {
     "duration": 0.019131,
     "end_time": "2022-09-13T16:02:25.669620",
     "exception": false,
     "start_time": "2022-09-13T16:02:25.650489",
     "status": "completed"
    },
    "tags": []
   },
   "source": [
    "# Stability"
   ]
  },
  {
   "cell_type": "markdown",
   "id": "ebda34fb",
   "metadata": {
    "papermill": {
     "duration": 0.019487,
     "end_time": "2022-09-13T16:02:25.708290",
     "exception": false,
     "start_time": "2022-09-13T16:02:25.688803",
     "status": "completed"
    },
    "tags": []
   },
   "source": [
    "## Group ensemble by n_clusters"
   ]
  },
  {
   "cell_type": "code",
   "execution_count": 42,
   "id": "dcb3f072",
   "metadata": {
    "execution": {
     "iopub.execute_input": "2022-09-13T16:02:25.747875Z",
     "iopub.status.busy": "2022-09-13T16:02:25.747645Z",
     "iopub.status.idle": "2022-09-13T16:02:25.784447Z",
     "shell.execute_reply": "2022-09-13T16:02:25.783746Z"
    },
    "papermill": {
     "duration": 0.058178,
     "end_time": "2022-09-13T16:02:25.785801",
     "exception": false,
     "start_time": "2022-09-13T16:02:25.727623",
     "status": "completed"
    },
    "tags": []
   },
   "outputs": [],
   "source": [
    "parts = ensemble.groupby(\"n_clusters\").apply(\n",
    "    lambda x: np.concatenate(x[\"partition\"].apply(lambda x: x.reshape(1, -1)), axis=0)\n",
    ")"
   ]
  },
  {
   "cell_type": "code",
   "execution_count": 43,
   "id": "2c092de9",
   "metadata": {
    "execution": {
     "iopub.execute_input": "2022-09-13T16:02:25.826404Z",
     "iopub.status.busy": "2022-09-13T16:02:25.826197Z",
     "iopub.status.idle": "2022-09-13T16:02:25.858504Z",
     "shell.execute_reply": "2022-09-13T16:02:25.858069Z"
    },
    "papermill": {
     "duration": 0.05382,
     "end_time": "2022-09-13T16:02:25.859774",
     "exception": false,
     "start_time": "2022-09-13T16:02:25.805954",
     "status": "completed"
    },
    "tags": []
   },
   "outputs": [
    {
     "data": {
      "text/plain": [
       "n_clusters\n",
       "2    [[0.0, 0.0, 0.0, 1.0, 0.0, 0.0, 1.0, 0.0, 1.0,...\n",
       "3    [[0.0, 2.0, 0.0, 1.0, 0.0, 2.0, 2.0, 1.0, 1.0,...\n",
       "4    [[2.0, 1.0, 1.0, 0.0, 2.0, 0.0, 1.0, 2.0, 0.0,...\n",
       "5    [[1.0, 2.0, 3.0, 2.0, 2.0, 2.0, 4.0, 3.0, 4.0,...\n",
       "6    [[3.0, 3.0, 1.0, 0.0, 5.0, 0.0, 5.0, 3.0, 1.0,...\n",
       "dtype: object"
      ]
     },
     "execution_count": 43,
     "metadata": {},
     "output_type": "execute_result"
    }
   ],
   "source": [
    "parts.head()"
   ]
  },
  {
   "cell_type": "code",
   "execution_count": 44,
   "id": "333b00e2",
   "metadata": {
    "execution": {
     "iopub.execute_input": "2022-09-13T16:02:25.902041Z",
     "iopub.status.busy": "2022-09-13T16:02:25.901831Z",
     "iopub.status.idle": "2022-09-13T16:02:25.921096Z",
     "shell.execute_reply": "2022-09-13T16:02:25.920525Z"
    },
    "papermill": {
     "duration": 0.041405,
     "end_time": "2022-09-13T16:02:25.922410",
     "exception": false,
     "start_time": "2022-09-13T16:02:25.881005",
     "status": "completed"
    },
    "tags": []
   },
   "outputs": [],
   "source": [
    "assert np.all(\n",
    "    [\n",
    "        parts.loc[k].shape == (CLUSTERING_OPTIONS[\"N_REPS_PER_K\"], data.shape[0])\n",
    "        for k in parts.index\n",
    "    ]\n",
    ")"
   ]
  },
  {
   "cell_type": "markdown",
   "id": "095d2636",
   "metadata": {
    "papermill": {
     "duration": 0.019743,
     "end_time": "2022-09-13T16:02:25.963629",
     "exception": false,
     "start_time": "2022-09-13T16:02:25.943886",
     "status": "completed"
    },
    "tags": []
   },
   "source": [
    "## Compute stability"
   ]
  },
  {
   "cell_type": "code",
   "execution_count": 45,
   "id": "3d445916",
   "metadata": {
    "execution": {
     "iopub.execute_input": "2022-09-13T16:02:26.004010Z",
     "iopub.status.busy": "2022-09-13T16:02:26.003525Z",
     "iopub.status.idle": "2022-09-13T16:02:26.021738Z",
     "shell.execute_reply": "2022-09-13T16:02:26.021277Z"
    },
    "papermill": {
     "duration": 0.040109,
     "end_time": "2022-09-13T16:02:26.023089",
     "exception": false,
     "start_time": "2022-09-13T16:02:25.982980",
     "status": "completed"
    },
    "tags": []
   },
   "outputs": [],
   "source": [
    "from sklearn.metrics import adjusted_rand_score as ari\n",
    "from scipy.spatial.distance import pdist"
   ]
  },
  {
   "cell_type": "code",
   "execution_count": 46,
   "id": "811147a2",
   "metadata": {
    "execution": {
     "iopub.execute_input": "2022-09-13T16:02:26.064866Z",
     "iopub.status.busy": "2022-09-13T16:02:26.064655Z",
     "iopub.status.idle": "2022-09-13T16:02:26.866126Z",
     "shell.execute_reply": "2022-09-13T16:02:26.865552Z"
    },
    "papermill": {
     "duration": 0.823892,
     "end_time": "2022-09-13T16:02:26.867660",
     "exception": false,
     "start_time": "2022-09-13T16:02:26.043768",
     "status": "completed"
    },
    "tags": []
   },
   "outputs": [],
   "source": [
    "parts_ari = pd.Series(\n",
    "    {k: pdist(parts.loc[k], metric=ari) for k in parts.index}, name=\"k\"\n",
    ")"
   ]
  },
  {
   "cell_type": "code",
   "execution_count": 47,
   "id": "ed8f6763",
   "metadata": {
    "execution": {
     "iopub.execute_input": "2022-09-13T16:02:26.911535Z",
     "iopub.status.busy": "2022-09-13T16:02:26.911245Z",
     "iopub.status.idle": "2022-09-13T16:02:26.932060Z",
     "shell.execute_reply": "2022-09-13T16:02:26.931511Z"
    },
    "papermill": {
     "duration": 0.042681,
     "end_time": "2022-09-13T16:02:26.933284",
     "exception": false,
     "start_time": "2022-09-13T16:02:26.890603",
     "status": "completed"
    },
    "tags": []
   },
   "outputs": [
    {
     "data": {
      "text/plain": [
       "2     0.058175\n",
       "6     0.041535\n",
       "5     0.040252\n",
       "43    0.039635\n",
       "39    0.039365\n",
       "47    0.038922\n",
       "50    0.038796\n",
       "55    0.037913\n",
       "51    0.037884\n",
       "42    0.037654\n",
       "32    0.037452\n",
       "28    0.037416\n",
       "52    0.037280\n",
       "45    0.036823\n",
       "49    0.036749\n",
       "Name: k, dtype: float64"
      ]
     },
     "metadata": {},
     "output_type": "display_data"
    }
   ],
   "source": [
    "parts_ari_stability = parts_ari.apply(lambda x: x.mean())\n",
    "display(parts_ari_stability.sort_values(ascending=False).head(15))"
   ]
  },
  {
   "cell_type": "code",
   "execution_count": 48,
   "id": "b82588a0",
   "metadata": {
    "execution": {
     "iopub.execute_input": "2022-09-13T16:02:26.974639Z",
     "iopub.status.busy": "2022-09-13T16:02:26.974373Z",
     "iopub.status.idle": "2022-09-13T16:02:26.993350Z",
     "shell.execute_reply": "2022-09-13T16:02:26.992694Z"
    },
    "papermill": {
     "duration": 0.040871,
     "end_time": "2022-09-13T16:02:26.994775",
     "exception": false,
     "start_time": "2022-09-13T16:02:26.953904",
     "status": "completed"
    },
    "tags": []
   },
   "outputs": [],
   "source": [
    "parts_ari_df = pd.DataFrame.from_records(parts_ari.tolist()).set_index(\n",
    "    parts_ari.index.copy()\n",
    ")"
   ]
  },
  {
   "cell_type": "code",
   "execution_count": 49,
   "id": "d13e8ba5",
   "metadata": {
    "execution": {
     "iopub.execute_input": "2022-09-13T16:02:27.036485Z",
     "iopub.status.busy": "2022-09-13T16:02:27.036272Z",
     "iopub.status.idle": "2022-09-13T16:02:27.055389Z",
     "shell.execute_reply": "2022-09-13T16:02:27.054906Z"
    },
    "papermill": {
     "duration": 0.041109,
     "end_time": "2022-09-13T16:02:27.056660",
     "exception": false,
     "start_time": "2022-09-13T16:02:27.015551",
     "status": "completed"
    },
    "tags": []
   },
   "outputs": [
    {
     "data": {
      "text/plain": [
       "(59, 10)"
      ]
     },
     "execution_count": 49,
     "metadata": {},
     "output_type": "execute_result"
    }
   ],
   "source": [
    "parts_ari_df.shape"
   ]
  },
  {
   "cell_type": "code",
   "execution_count": 50,
   "id": "d399ee5e",
   "metadata": {
    "execution": {
     "iopub.execute_input": "2022-09-13T16:02:27.098220Z",
     "iopub.status.busy": "2022-09-13T16:02:27.098009Z",
     "iopub.status.idle": "2022-09-13T16:02:27.116541Z",
     "shell.execute_reply": "2022-09-13T16:02:27.115971Z"
    },
    "papermill": {
     "duration": 0.040503,
     "end_time": "2022-09-13T16:02:27.117819",
     "exception": false,
     "start_time": "2022-09-13T16:02:27.077316",
     "status": "completed"
    },
    "tags": []
   },
   "outputs": [],
   "source": [
    "assert (\n",
    "    int(\n",
    "        (CLUSTERING_OPTIONS[\"N_REPS_PER_K\"] * (CLUSTERING_OPTIONS[\"N_REPS_PER_K\"] - 1))\n",
    "        / 2\n",
    "    )\n",
    "    == parts_ari_df.shape[1]\n",
    ")"
   ]
  },
  {
   "cell_type": "code",
   "execution_count": 51,
   "id": "413bb5c4",
   "metadata": {
    "execution": {
     "iopub.execute_input": "2022-09-13T16:02:27.159732Z",
     "iopub.status.busy": "2022-09-13T16:02:27.159523Z",
     "iopub.status.idle": "2022-09-13T16:02:27.184102Z",
     "shell.execute_reply": "2022-09-13T16:02:27.183491Z"
    },
    "papermill": {
     "duration": 0.046628,
     "end_time": "2022-09-13T16:02:27.185375",
     "exception": false,
     "start_time": "2022-09-13T16:02:27.138747",
     "status": "completed"
    },
    "tags": []
   },
   "outputs": [
    {
     "data": {
      "text/html": [
       "<div>\n",
       "<style scoped>\n",
       "    .dataframe tbody tr th:only-of-type {\n",
       "        vertical-align: middle;\n",
       "    }\n",
       "\n",
       "    .dataframe tbody tr th {\n",
       "        vertical-align: top;\n",
       "    }\n",
       "\n",
       "    .dataframe thead th {\n",
       "        text-align: right;\n",
       "    }\n",
       "</style>\n",
       "<table border=\"1\" class=\"dataframe\">\n",
       "  <thead>\n",
       "    <tr style=\"text-align: right;\">\n",
       "      <th></th>\n",
       "      <th>0</th>\n",
       "      <th>1</th>\n",
       "      <th>2</th>\n",
       "      <th>3</th>\n",
       "      <th>4</th>\n",
       "      <th>5</th>\n",
       "      <th>6</th>\n",
       "      <th>7</th>\n",
       "      <th>8</th>\n",
       "      <th>9</th>\n",
       "    </tr>\n",
       "  </thead>\n",
       "  <tbody>\n",
       "    <tr>\n",
       "      <th>2</th>\n",
       "      <td>0.032396</td>\n",
       "      <td>0.019392</td>\n",
       "      <td>0.039701</td>\n",
       "      <td>0.000532</td>\n",
       "      <td>0.152857</td>\n",
       "      <td>0.128846</td>\n",
       "      <td>0.036568</td>\n",
       "      <td>0.008142</td>\n",
       "      <td>0.007947</td>\n",
       "      <td>0.155371</td>\n",
       "    </tr>\n",
       "    <tr>\n",
       "      <th>3</th>\n",
       "      <td>0.014301</td>\n",
       "      <td>0.021429</td>\n",
       "      <td>0.000044</td>\n",
       "      <td>0.045033</td>\n",
       "      <td>0.062288</td>\n",
       "      <td>0.005403</td>\n",
       "      <td>0.023166</td>\n",
       "      <td>0.000077</td>\n",
       "      <td>0.007844</td>\n",
       "      <td>-0.000082</td>\n",
       "    </tr>\n",
       "    <tr>\n",
       "      <th>4</th>\n",
       "      <td>0.026625</td>\n",
       "      <td>0.005191</td>\n",
       "      <td>0.028640</td>\n",
       "      <td>0.011491</td>\n",
       "      <td>0.053738</td>\n",
       "      <td>0.032759</td>\n",
       "      <td>0.032008</td>\n",
       "      <td>0.023144</td>\n",
       "      <td>0.017340</td>\n",
       "      <td>0.029470</td>\n",
       "    </tr>\n",
       "    <tr>\n",
       "      <th>5</th>\n",
       "      <td>0.011703</td>\n",
       "      <td>0.055995</td>\n",
       "      <td>0.091938</td>\n",
       "      <td>0.044711</td>\n",
       "      <td>0.023122</td>\n",
       "      <td>0.019280</td>\n",
       "      <td>0.036836</td>\n",
       "      <td>0.031537</td>\n",
       "      <td>0.050287</td>\n",
       "      <td>0.037106</td>\n",
       "    </tr>\n",
       "    <tr>\n",
       "      <th>6</th>\n",
       "      <td>0.045270</td>\n",
       "      <td>0.023900</td>\n",
       "      <td>0.025620</td>\n",
       "      <td>0.040671</td>\n",
       "      <td>0.041400</td>\n",
       "      <td>0.016478</td>\n",
       "      <td>0.063322</td>\n",
       "      <td>0.072750</td>\n",
       "      <td>0.045915</td>\n",
       "      <td>0.040021</td>\n",
       "    </tr>\n",
       "  </tbody>\n",
       "</table>\n",
       "</div>"
      ],
      "text/plain": [
       "          0         1         2         3         4         5         6  \\\n",
       "2  0.032396  0.019392  0.039701  0.000532  0.152857  0.128846  0.036568   \n",
       "3  0.014301  0.021429  0.000044  0.045033  0.062288  0.005403  0.023166   \n",
       "4  0.026625  0.005191  0.028640  0.011491  0.053738  0.032759  0.032008   \n",
       "5  0.011703  0.055995  0.091938  0.044711  0.023122  0.019280  0.036836   \n",
       "6  0.045270  0.023900  0.025620  0.040671  0.041400  0.016478  0.063322   \n",
       "\n",
       "          7         8         9  \n",
       "2  0.008142  0.007947  0.155371  \n",
       "3  0.000077  0.007844 -0.000082  \n",
       "4  0.023144  0.017340  0.029470  \n",
       "5  0.031537  0.050287  0.037106  \n",
       "6  0.072750  0.045915  0.040021  "
      ]
     },
     "execution_count": 51,
     "metadata": {},
     "output_type": "execute_result"
    }
   ],
   "source": [
    "parts_ari_df.head()"
   ]
  },
  {
   "cell_type": "markdown",
   "id": "11a377d6",
   "metadata": {
    "papermill": {
     "duration": 0.020391,
     "end_time": "2022-09-13T16:02:27.226545",
     "exception": false,
     "start_time": "2022-09-13T16:02:27.206154",
     "status": "completed"
    },
    "tags": []
   },
   "source": [
    "## Save"
   ]
  },
  {
   "cell_type": "code",
   "execution_count": 52,
   "id": "651dd5d8",
   "metadata": {
    "execution": {
     "iopub.execute_input": "2022-09-13T16:02:27.266622Z",
     "iopub.status.busy": "2022-09-13T16:02:27.266410Z",
     "iopub.status.idle": "2022-09-13T16:02:27.286117Z",
     "shell.execute_reply": "2022-09-13T16:02:27.285633Z"
    },
    "papermill": {
     "duration": 0.041104,
     "end_time": "2022-09-13T16:02:27.287311",
     "exception": false,
     "start_time": "2022-09-13T16:02:27.246207",
     "status": "completed"
    },
    "tags": []
   },
   "outputs": [
    {
     "data": {
      "text/plain": [
       "PosixPath('/opt/data/results/clustering/null_sims/runs/pca-z_score_std-projection-smultixcan-efo_partial-mashr-zscores/KMeans-stability-KMEANS_N_INIT_10-K_MAX_60-K_MIN_2-N_REPS_PER_K_5.pkl')"
      ]
     },
     "metadata": {},
     "output_type": "display_data"
    }
   ],
   "source": [
    "output_filename = Path(\n",
    "    RESULTS_DIR,\n",
    "    generate_result_set_name(\n",
    "        CLUSTERING_OPTIONS,\n",
    "        prefix=f\"{clustering_method_name}-stability-\",\n",
    "        suffix=\".pkl\",\n",
    "    ),\n",
    ").resolve()\n",
    "display(output_filename)"
   ]
  },
  {
   "cell_type": "code",
   "execution_count": 53,
   "id": "b86f406a",
   "metadata": {
    "execution": {
     "iopub.execute_input": "2022-09-13T16:02:27.329294Z",
     "iopub.status.busy": "2022-09-13T16:02:27.328460Z",
     "iopub.status.idle": "2022-09-13T16:02:27.347036Z",
     "shell.execute_reply": "2022-09-13T16:02:27.346497Z"
    },
    "papermill": {
     "duration": 0.040737,
     "end_time": "2022-09-13T16:02:27.348431",
     "exception": false,
     "start_time": "2022-09-13T16:02:27.307694",
     "status": "completed"
    },
    "tags": []
   },
   "outputs": [],
   "source": [
    "parts_ari_df.to_pickle(output_filename)"
   ]
  },
  {
   "cell_type": "markdown",
   "id": "24eab686",
   "metadata": {
    "papermill": {
     "duration": 0.020431,
     "end_time": "2022-09-13T16:02:27.390492",
     "exception": false,
     "start_time": "2022-09-13T16:02:27.370061",
     "status": "completed"
    },
    "tags": []
   },
   "source": [
    "## Stability plot"
   ]
  },
  {
   "cell_type": "code",
   "execution_count": 54,
   "id": "a4c60d16",
   "metadata": {
    "execution": {
     "iopub.execute_input": "2022-09-13T16:02:27.431196Z",
     "iopub.status.busy": "2022-09-13T16:02:27.430986Z",
     "iopub.status.idle": "2022-09-13T16:02:27.452532Z",
     "shell.execute_reply": "2022-09-13T16:02:27.450914Z"
    },
    "papermill": {
     "duration": 0.046779,
     "end_time": "2022-09-13T16:02:27.457161",
     "exception": false,
     "start_time": "2022-09-13T16:02:27.410382",
     "status": "completed"
    },
    "tags": []
   },
   "outputs": [],
   "source": [
    "parts_ari_df_plot = (\n",
    "    parts_ari_df.stack()\n",
    "    .reset_index()\n",
    "    .rename(columns={\"level_0\": \"k\", \"level_1\": \"idx\", 0: \"ari\"})\n",
    ")"
   ]
  },
  {
   "cell_type": "code",
   "execution_count": 55,
   "id": "22d4eedd",
   "metadata": {
    "execution": {
     "iopub.execute_input": "2022-09-13T16:02:27.515227Z",
     "iopub.status.busy": "2022-09-13T16:02:27.515005Z",
     "iopub.status.idle": "2022-09-13T16:02:27.537576Z",
     "shell.execute_reply": "2022-09-13T16:02:27.536944Z"
    },
    "papermill": {
     "duration": 0.044334,
     "end_time": "2022-09-13T16:02:27.538930",
     "exception": false,
     "start_time": "2022-09-13T16:02:27.494596",
     "status": "completed"
    },
    "tags": []
   },
   "outputs": [
    {
     "data": {
      "text/plain": [
       "k        int64\n",
       "idx      int64\n",
       "ari    float64\n",
       "dtype: object"
      ]
     },
     "execution_count": 55,
     "metadata": {},
     "output_type": "execute_result"
    }
   ],
   "source": [
    "parts_ari_df_plot.dtypes"
   ]
  },
  {
   "cell_type": "code",
   "execution_count": 56,
   "id": "b61db861",
   "metadata": {
    "execution": {
     "iopub.execute_input": "2022-09-13T16:02:27.582556Z",
     "iopub.status.busy": "2022-09-13T16:02:27.582336Z",
     "iopub.status.idle": "2022-09-13T16:02:27.604142Z",
     "shell.execute_reply": "2022-09-13T16:02:27.603528Z"
    },
    "papermill": {
     "duration": 0.044731,
     "end_time": "2022-09-13T16:02:27.605481",
     "exception": false,
     "start_time": "2022-09-13T16:02:27.560750",
     "status": "completed"
    },
    "tags": []
   },
   "outputs": [
    {
     "data": {
      "text/html": [
       "<div>\n",
       "<style scoped>\n",
       "    .dataframe tbody tr th:only-of-type {\n",
       "        vertical-align: middle;\n",
       "    }\n",
       "\n",
       "    .dataframe tbody tr th {\n",
       "        vertical-align: top;\n",
       "    }\n",
       "\n",
       "    .dataframe thead th {\n",
       "        text-align: right;\n",
       "    }\n",
       "</style>\n",
       "<table border=\"1\" class=\"dataframe\">\n",
       "  <thead>\n",
       "    <tr style=\"text-align: right;\">\n",
       "      <th></th>\n",
       "      <th>k</th>\n",
       "      <th>idx</th>\n",
       "      <th>ari</th>\n",
       "    </tr>\n",
       "  </thead>\n",
       "  <tbody>\n",
       "    <tr>\n",
       "      <th>0</th>\n",
       "      <td>2</td>\n",
       "      <td>0</td>\n",
       "      <td>0.032396</td>\n",
       "    </tr>\n",
       "    <tr>\n",
       "      <th>1</th>\n",
       "      <td>2</td>\n",
       "      <td>1</td>\n",
       "      <td>0.019392</td>\n",
       "    </tr>\n",
       "    <tr>\n",
       "      <th>2</th>\n",
       "      <td>2</td>\n",
       "      <td>2</td>\n",
       "      <td>0.039701</td>\n",
       "    </tr>\n",
       "    <tr>\n",
       "      <th>3</th>\n",
       "      <td>2</td>\n",
       "      <td>3</td>\n",
       "      <td>0.000532</td>\n",
       "    </tr>\n",
       "    <tr>\n",
       "      <th>4</th>\n",
       "      <td>2</td>\n",
       "      <td>4</td>\n",
       "      <td>0.152857</td>\n",
       "    </tr>\n",
       "  </tbody>\n",
       "</table>\n",
       "</div>"
      ],
      "text/plain": [
       "   k  idx       ari\n",
       "0  2    0  0.032396\n",
       "1  2    1  0.019392\n",
       "2  2    2  0.039701\n",
       "3  2    3  0.000532\n",
       "4  2    4  0.152857"
      ]
     },
     "execution_count": 56,
     "metadata": {},
     "output_type": "execute_result"
    }
   ],
   "source": [
    "parts_ari_df_plot.head()"
   ]
  },
  {
   "cell_type": "code",
   "execution_count": 57,
   "id": "31bbf280",
   "metadata": {
    "execution": {
     "iopub.execute_input": "2022-09-13T16:02:27.648223Z",
     "iopub.status.busy": "2022-09-13T16:02:27.648014Z",
     "iopub.status.idle": "2022-09-13T16:02:30.467950Z",
     "shell.execute_reply": "2022-09-13T16:02:30.467328Z"
    },
    "papermill": {
     "duration": 2.842293,
     "end_time": "2022-09-13T16:02:30.469389",
     "exception": false,
     "start_time": "2022-09-13T16:02:27.627096",
     "status": "completed"
    },
    "tags": []
   },
   "outputs": [
    {
     "data": {
      "image/png": "[encoded data removed]",
      "text/plain": [
       "<Figure size 1008x432 with 1 Axes>"
      ]
     },
     "metadata": {},
     "output_type": "display_data"
    }
   ],
   "source": [
    "# with sns.axes_style('whitegrid', {'grid.linestyle': '--'}):\n",
    "with sns.plotting_context(\"talk\", font_scale=0.75), sns.axes_style(\n",
    "    \"whitegrid\", {\"grid.linestyle\": \"--\"}\n",
    "):\n",
    "    fig = plt.figure(figsize=(14, 6))\n",
    "    ax = sns.pointplot(data=parts_ari_df_plot, x=\"k\", y=\"ari\")\n",
    "    ax.set_ylabel(\"Averange ARI\")\n",
    "    ax.set_xlabel(\"Number of clusters ($k$)\")\n",
    "    ax.set_xticklabels(ax.get_xticklabels(), rotation=45)\n",
    "    #     ax.set_ylim(0.0, 1.0)\n",
    "    #     ax.set_xlim(CLUSTERING_OPTIONS['K_MIN'], CLUSTERING_OPTIONS['K_MAX'])\n",
    "    plt.grid(True)\n",
    "    plt.tight_layout()"
   ]
  },
  {
   "cell_type": "code",
   "execution_count": null,
   "id": "c6919485",
   "metadata": {
    "papermill": {
     "duration": 0.021281,
     "end_time": "2022-09-13T16:02:30.511806",
     "exception": false,
     "start_time": "2022-09-13T16:02:30.490525",
     "status": "completed"
    },
    "tags": []
   },
   "outputs": [],
   "source": []
  }
 ],
 "metadata": {
  "jupytext": {
   "cell_metadata_filter": "all,-execution,-papermill,-trusted",
   "formats": "ipynb,py//py:percent"
  },
  "kernelspec": {
   "display_name": "Python 3 (ipykernel)",
   "language": "python",
   "name": "python3"
  },
  "language_info": {
   "codemirror_mode": {
    "name": "ipython",
    "version": 3
   },
   "file_extension": ".py",
   "mimetype": "text/x-python",
   "name": "python",
   "nbconvert_exporter": "python",
   "pygments_lexer": "ipython3",
   "version": "3.8.13"
  },
  "papermill": {
   "default_parameters": {},
   "duration": 358.200967,
   "end_time": "2022-09-13T16:02:30.851291",
   "environment_variables": {},
   "exception": null,
   "input_path": "nbs/13.1_cluster_analysis_null/10_01-kmeans-pca.ipynb",
   "output_path": "nbs/13.1_cluster_analysis_null/10_01-kmeans-pca.run.ipynb",
   "parameters": {},
   "start_time": "2022-09-13T15:56:32.650324",
   "version": "2.2.2"
  },
  "toc-autonumbering": true,
  "toc-showcode": false,
  "toc-showmarkdowntxt": false,
  "toc-showtags": false
 },
 "nbformat": 4,
 "nbformat_minor": 5
}
