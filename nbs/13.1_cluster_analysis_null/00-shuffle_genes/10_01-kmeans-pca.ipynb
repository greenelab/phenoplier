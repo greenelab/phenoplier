{
 "cells": [
  {
   "cell_type": "markdown",
   "id": "e71ee967",
   "metadata": {
    "papermill": {
     "duration": 0.013418,
     "end_time": "2022-11-25T04:37:47.547925",
     "exception": false,
     "start_time": "2022-11-25T04:37:47.534507",
     "status": "completed"
    },
    "tags": []
   },
   "source": [
    "# Description"
   ]
  },
  {
   "cell_type": "markdown",
   "id": "cd9e93fb",
   "metadata": {
    "papermill": {
     "duration": 0.012004,
     "end_time": "2022-11-25T04:37:47.572076",
     "exception": false,
     "start_time": "2022-11-25T04:37:47.560072",
     "status": "completed"
    },
    "tags": []
   },
   "source": [
    "Runs k-means on the pca version of the data."
   ]
  },
  {
   "cell_type": "markdown",
   "id": "638c5907",
   "metadata": {
    "papermill": {
     "duration": 0.012129,
     "end_time": "2022-11-25T04:37:47.596234",
     "exception": false,
     "start_time": "2022-11-25T04:37:47.584105",
     "status": "completed"
    },
    "tags": []
   },
   "source": [
    "# Environment variables"
   ]
  },
  {
   "cell_type": "code",
   "execution_count": 1,
   "id": "c8441309",
   "metadata": {
    "execution": {
     "iopub.execute_input": "2022-11-25T04:37:47.619692Z",
     "iopub.status.busy": "2022-11-25T04:37:47.619457Z",
     "iopub.status.idle": "2022-11-25T04:37:47.637692Z",
     "shell.execute_reply": "2022-11-25T04:37:47.637253Z"
    },
    "papermill": {
     "duration": 0.030244,
     "end_time": "2022-11-25T04:37:47.638526",
     "exception": false,
     "start_time": "2022-11-25T04:37:47.608282",
     "status": "completed"
    },
    "tags": []
   },
   "outputs": [
    {
     "data": {
      "text/plain": [
       "10"
      ]
     },
     "metadata": {},
     "output_type": "display_data"
    }
   ],
   "source": [
    "from IPython.display import display\n",
    "\n",
    "import conf\n",
    "\n",
    "N_JOBS = conf.GENERAL[\"N_JOBS\"]\n",
    "display(N_JOBS)"
   ]
  },
  {
   "cell_type": "code",
   "execution_count": 2,
   "id": "6e89cc66",
   "metadata": {
    "execution": {
     "iopub.execute_input": "2022-11-25T04:37:47.652267Z",
     "iopub.status.busy": "2022-11-25T04:37:47.651912Z",
     "iopub.status.idle": "2022-11-25T04:37:47.658030Z",
     "shell.execute_reply": "2022-11-25T04:37:47.657569Z"
    },
    "papermill": {
     "duration": 0.013696,
     "end_time": "2022-11-25T04:37:47.658806",
     "exception": false,
     "start_time": "2022-11-25T04:37:47.645110",
     "status": "completed"
    },
    "tags": []
   },
   "outputs": [
    {
     "name": "stdout",
     "output_type": "stream",
     "text": [
      "env: MKL_NUM_THREADS=10\n",
      "env: OPEN_BLAS_NUM_THREADS=10\n",
      "env: NUMEXPR_NUM_THREADS=10\n",
      "env: OMP_NUM_THREADS=10\n"
     ]
    }
   ],
   "source": [
    "%env MKL_NUM_THREADS=$N_JOBS\n",
    "%env OPEN_BLAS_NUM_THREADS=$N_JOBS\n",
    "%env NUMEXPR_NUM_THREADS=$N_JOBS\n",
    "%env OMP_NUM_THREADS=$N_JOBS"
   ]
  },
  {
   "cell_type": "markdown",
   "id": "b658ea16",
   "metadata": {
    "papermill": {
     "duration": 0.006312,
     "end_time": "2022-11-25T04:37:47.671498",
     "exception": false,
     "start_time": "2022-11-25T04:37:47.665186",
     "status": "completed"
    },
    "tags": []
   },
   "source": [
    "# Modules loading"
   ]
  },
  {
   "cell_type": "code",
   "execution_count": 3,
   "id": "519e4227",
   "metadata": {
    "execution": {
     "iopub.execute_input": "2022-11-25T04:37:47.684979Z",
     "iopub.status.busy": "2022-11-25T04:37:47.684832Z",
     "iopub.status.idle": "2022-11-25T04:37:47.697720Z",
     "shell.execute_reply": "2022-11-25T04:37:47.697203Z"
    },
    "papermill": {
     "duration": 0.02044,
     "end_time": "2022-11-25T04:37:47.698493",
     "exception": false,
     "start_time": "2022-11-25T04:37:47.678053",
     "status": "completed"
    },
    "tags": []
   },
   "outputs": [],
   "source": [
    "%load_ext autoreload\n",
    "%autoreload 2"
   ]
  },
  {
   "cell_type": "code",
   "execution_count": 4,
   "id": "99bbf452",
   "metadata": {
    "execution": {
     "iopub.execute_input": "2022-11-25T04:37:47.712039Z",
     "iopub.status.busy": "2022-11-25T04:37:47.711683Z",
     "iopub.status.idle": "2022-11-25T04:37:48.168845Z",
     "shell.execute_reply": "2022-11-25T04:37:48.168458Z"
    },
    "papermill": {
     "duration": 0.465607,
     "end_time": "2022-11-25T04:37:48.170357",
     "exception": false,
     "start_time": "2022-11-25T04:37:47.704750",
     "status": "completed"
    },
    "tags": []
   },
   "outputs": [],
   "source": [
    "from pathlib import Path\n",
    "\n",
    "import numpy as np\n",
    "import pandas as pd\n",
    "import matplotlib.pyplot as plt\n",
    "import seaborn as sns\n",
    "\n",
    "from utils import generate_result_set_name"
   ]
  },
  {
   "cell_type": "markdown",
   "id": "4451e170",
   "metadata": {
    "papermill": {
     "duration": 0.012237,
     "end_time": "2022-11-25T04:37:48.194993",
     "exception": false,
     "start_time": "2022-11-25T04:37:48.182756",
     "status": "completed"
    },
    "tags": []
   },
   "source": [
    "# Settings"
   ]
  },
  {
   "cell_type": "code",
   "execution_count": 5,
   "id": "cbd29695",
   "metadata": {
    "execution": {
     "iopub.execute_input": "2022-11-25T04:37:48.220799Z",
     "iopub.status.busy": "2022-11-25T04:37:48.220656Z",
     "iopub.status.idle": "2022-11-25T04:37:48.232265Z",
     "shell.execute_reply": "2022-11-25T04:37:48.231918Z"
    },
    "papermill": {
     "duration": 0.026352,
     "end_time": "2022-11-25T04:37:48.233451",
     "exception": false,
     "start_time": "2022-11-25T04:37:48.207099",
     "status": "completed"
    },
    "tags": []
   },
   "outputs": [],
   "source": [
    "np.random.seed(0)"
   ]
  },
  {
   "cell_type": "code",
   "execution_count": 6,
   "id": "e72261a9",
   "metadata": {
    "execution": {
     "iopub.execute_input": "2022-11-25T04:37:48.281931Z",
     "iopub.status.busy": "2022-11-25T04:37:48.281841Z",
     "iopub.status.idle": "2022-11-25T04:37:48.298864Z",
     "shell.execute_reply": "2022-11-25T04:37:48.298429Z"
    },
    "papermill": {
     "duration": 0.028806,
     "end_time": "2022-11-25T04:37:48.299636",
     "exception": false,
     "start_time": "2022-11-25T04:37:48.270830",
     "status": "completed"
    },
    "tags": []
   },
   "outputs": [],
   "source": [
    "INITIAL_RANDOM_STATE = 10000"
   ]
  },
  {
   "cell_type": "code",
   "execution_count": 7,
   "id": "6455048d-87cb-4815-ba25-50e80d77baf1",
   "metadata": {
    "execution": {
     "iopub.execute_input": "2022-11-25T04:37:48.313599Z",
     "iopub.status.busy": "2022-11-25T04:37:48.313156Z",
     "iopub.status.idle": "2022-11-25T04:37:48.329990Z",
     "shell.execute_reply": "2022-11-25T04:37:48.329554Z"
    },
    "papermill": {
     "duration": 0.024416,
     "end_time": "2022-11-25T04:37:48.330833",
     "exception": false,
     "start_time": "2022-11-25T04:37:48.306417",
     "status": "completed"
    },
    "tags": []
   },
   "outputs": [],
   "source": [
    "NULL_DIR = conf.RESULTS[\"CLUSTERING_NULL_DIR\"] / \"shuffle_genes\""
   ]
  },
  {
   "cell_type": "markdown",
   "id": "9e113ab5",
   "metadata": {
    "papermill": {
     "duration": 0.006194,
     "end_time": "2022-11-25T04:37:48.343355",
     "exception": false,
     "start_time": "2022-11-25T04:37:48.337161",
     "status": "completed"
    },
    "tags": []
   },
   "source": [
    "## Input data"
   ]
  },
  {
   "cell_type": "code",
   "execution_count": 8,
   "id": "d8100884",
   "metadata": {
    "execution": {
     "iopub.execute_input": "2022-11-25T04:37:48.357222Z",
     "iopub.status.busy": "2022-11-25T04:37:48.356869Z",
     "iopub.status.idle": "2022-11-25T04:37:48.374195Z",
     "shell.execute_reply": "2022-11-25T04:37:48.373735Z"
    },
    "papermill": {
     "duration": 0.025037,
     "end_time": "2022-11-25T04:37:48.375069",
     "exception": false,
     "start_time": "2022-11-25T04:37:48.350032",
     "status": "completed"
    },
    "tags": []
   },
   "outputs": [],
   "source": [
    "INPUT_SUBSET = \"pca\""
   ]
  },
  {
   "cell_type": "code",
   "execution_count": 9,
   "id": "e6b9b65e",
   "metadata": {
    "execution": {
     "iopub.execute_input": "2022-11-25T04:37:48.388953Z",
     "iopub.status.busy": "2022-11-25T04:37:48.388518Z",
     "iopub.status.idle": "2022-11-25T04:37:48.404835Z",
     "shell.execute_reply": "2022-11-25T04:37:48.404398Z"
    },
    "papermill": {
     "duration": 0.024302,
     "end_time": "2022-11-25T04:37:48.405599",
     "exception": false,
     "start_time": "2022-11-25T04:37:48.381297",
     "status": "completed"
    },
    "tags": []
   },
   "outputs": [],
   "source": [
    "INPUT_STEM = \"z_score_std-projection-smultixcan-efo_partial-mashr-zscores\""
   ]
  },
  {
   "cell_type": "code",
   "execution_count": 10,
   "id": "6bef7988",
   "metadata": {
    "execution": {
     "iopub.execute_input": "2022-11-25T04:37:48.419107Z",
     "iopub.status.busy": "2022-11-25T04:37:48.418743Z",
     "iopub.status.idle": "2022-11-25T04:37:48.435363Z",
     "shell.execute_reply": "2022-11-25T04:37:48.434919Z"
    },
    "papermill": {
     "duration": 0.02425,
     "end_time": "2022-11-25T04:37:48.436154",
     "exception": false,
     "start_time": "2022-11-25T04:37:48.411904",
     "status": "completed"
    },
    "tags": []
   },
   "outputs": [],
   "source": [
    "DR_OPTIONS = {\n",
    "    \"n_components\": 50,\n",
    "    \"svd_solver\": \"full\",\n",
    "    \"random_state\": 0,\n",
    "}"
   ]
  },
  {
   "cell_type": "code",
   "execution_count": 11,
   "id": "f04af988",
   "metadata": {
    "execution": {
     "iopub.execute_input": "2022-11-25T04:37:48.449878Z",
     "iopub.status.busy": "2022-11-25T04:37:48.449581Z",
     "iopub.status.idle": "2022-11-25T04:37:48.469175Z",
     "shell.execute_reply": "2022-11-25T04:37:48.468742Z"
    },
    "papermill": {
     "duration": 0.027426,
     "end_time": "2022-11-25T04:37:48.469926",
     "exception": false,
     "start_time": "2022-11-25T04:37:48.442500",
     "status": "completed"
    },
    "tags": []
   },
   "outputs": [
    {
     "data": {
      "text/plain": [
       "PosixPath('/opt/data/results/clustering/null_sims/shuffle_genes/data_transformations/pca/pca-z_score_std-projection-smultixcan-efo_partial-mashr-zscores-n_components_50-random_state_0-svd_solver_full.pkl')"
      ]
     },
     "metadata": {},
     "output_type": "display_data"
    },
    {
     "data": {
      "text/plain": [
       "'pca-z_score_std-projection-smultixcan-efo_partial-mashr-zscores-n_components_50-random_state_0-svd_solver_full'"
      ]
     },
     "metadata": {},
     "output_type": "display_data"
    }
   ],
   "source": [
    "input_filepath = Path(\n",
    "    NULL_DIR,\n",
    "    \"data_transformations\",\n",
    "    INPUT_SUBSET,\n",
    "    generate_result_set_name(\n",
    "        DR_OPTIONS, prefix=f\"{INPUT_SUBSET}-{INPUT_STEM}-\", suffix=\".pkl\"\n",
    "    ),\n",
    ").resolve()\n",
    "display(input_filepath)\n",
    "\n",
    "assert input_filepath.exists(), \"Input file does not exist\"\n",
    "\n",
    "input_filepath_stem = input_filepath.stem\n",
    "display(input_filepath_stem)"
   ]
  },
  {
   "cell_type": "markdown",
   "id": "d2d7b6ef",
   "metadata": {
    "papermill": {
     "duration": 0.006337,
     "end_time": "2022-11-25T04:37:48.482690",
     "exception": false,
     "start_time": "2022-11-25T04:37:48.476353",
     "status": "completed"
    },
    "tags": []
   },
   "source": [
    "## Clustering"
   ]
  },
  {
   "cell_type": "code",
   "execution_count": 12,
   "id": "80fcaa15",
   "metadata": {
    "execution": {
     "iopub.execute_input": "2022-11-25T04:37:48.496477Z",
     "iopub.status.busy": "2022-11-25T04:37:48.496179Z",
     "iopub.status.idle": "2022-11-25T04:37:48.581879Z",
     "shell.execute_reply": "2022-11-25T04:37:48.581491Z"
    },
    "papermill": {
     "duration": 0.093827,
     "end_time": "2022-11-25T04:37:48.583126",
     "exception": false,
     "start_time": "2022-11-25T04:37:48.489299",
     "status": "completed"
    },
    "tags": []
   },
   "outputs": [],
   "source": [
    "from sklearn.cluster import KMeans"
   ]
  },
  {
   "cell_type": "code",
   "execution_count": 13,
   "id": "a137f2ae",
   "metadata": {
    "execution": {
     "iopub.execute_input": "2022-11-25T04:37:48.608665Z",
     "iopub.status.busy": "2022-11-25T04:37:48.608578Z",
     "iopub.status.idle": "2022-11-25T04:37:48.620362Z",
     "shell.execute_reply": "2022-11-25T04:37:48.620036Z"
    },
    "papermill": {
     "duration": 0.025975,
     "end_time": "2022-11-25T04:37:48.621538",
     "exception": false,
     "start_time": "2022-11-25T04:37:48.595563",
     "status": "completed"
    },
    "tags": []
   },
   "outputs": [],
   "source": [
    "CLUSTERING_ATTRIBUTES_TO_SAVE = [\"n_clusters\"]"
   ]
  },
  {
   "cell_type": "code",
   "execution_count": 14,
   "id": "4e41a04e",
   "metadata": {
    "execution": {
     "iopub.execute_input": "2022-11-25T04:37:48.646490Z",
     "iopub.status.busy": "2022-11-25T04:37:48.646407Z",
     "iopub.status.idle": "2022-11-25T04:37:48.662106Z",
     "shell.execute_reply": "2022-11-25T04:37:48.661736Z"
    },
    "papermill": {
     "duration": 0.029401,
     "end_time": "2022-11-25T04:37:48.663267",
     "exception": false,
     "start_time": "2022-11-25T04:37:48.633866",
     "status": "completed"
    },
    "tags": []
   },
   "outputs": [
    {
     "data": {
      "text/plain": [
       "{'K_MIN': 2, 'K_MAX': 60, 'N_REPS_PER_K': 5, 'KMEANS_N_INIT': 10}"
      ]
     },
     "metadata": {},
     "output_type": "display_data"
    }
   ],
   "source": [
    "CLUSTERING_OPTIONS = {}\n",
    "\n",
    "CLUSTERING_OPTIONS[\"K_MIN\"] = 2\n",
    "CLUSTERING_OPTIONS[\"K_MAX\"] = 60  # sqrt(3749)\n",
    "CLUSTERING_OPTIONS[\"N_REPS_PER_K\"] = 5\n",
    "CLUSTERING_OPTIONS[\"KMEANS_N_INIT\"] = 10\n",
    "\n",
    "display(CLUSTERING_OPTIONS)"
   ]
  },
  {
   "cell_type": "code",
   "execution_count": 15,
   "id": "616ff051",
   "metadata": {
    "execution": {
     "iopub.execute_input": "2022-11-25T04:37:48.689250Z",
     "iopub.status.busy": "2022-11-25T04:37:48.688997Z",
     "iopub.status.idle": "2022-11-25T04:37:48.706386Z",
     "shell.execute_reply": "2022-11-25T04:37:48.705995Z"
    },
    "papermill": {
     "duration": 0.031475,
     "end_time": "2022-11-25T04:37:48.707554",
     "exception": false,
     "start_time": "2022-11-25T04:37:48.676079",
     "status": "completed"
    },
    "tags": []
   },
   "outputs": [],
   "source": [
    "CLUSTERERS = {}\n",
    "\n",
    "idx = 0\n",
    "random_state = INITIAL_RANDOM_STATE\n",
    "\n",
    "for k in range(CLUSTERING_OPTIONS[\"K_MIN\"], CLUSTERING_OPTIONS[\"K_MAX\"] + 1):\n",
    "    for i in range(CLUSTERING_OPTIONS[\"N_REPS_PER_K\"]):\n",
    "        clus = KMeans(\n",
    "            n_clusters=k,\n",
    "            n_init=CLUSTERING_OPTIONS[\"KMEANS_N_INIT\"],\n",
    "            random_state=random_state,\n",
    "        )\n",
    "\n",
    "        method_name = type(clus).__name__\n",
    "        CLUSTERERS[f\"{method_name} #{idx}\"] = clus\n",
    "\n",
    "        random_state = random_state + 1\n",
    "        idx = idx + 1"
   ]
  },
  {
   "cell_type": "code",
   "execution_count": 16,
   "id": "088d29fe",
   "metadata": {
    "execution": {
     "iopub.execute_input": "2022-11-25T04:37:48.733095Z",
     "iopub.status.busy": "2022-11-25T04:37:48.732841Z",
     "iopub.status.idle": "2022-11-25T04:37:48.748237Z",
     "shell.execute_reply": "2022-11-25T04:37:48.747867Z"
    },
    "papermill": {
     "duration": 0.029466,
     "end_time": "2022-11-25T04:37:48.749406",
     "exception": false,
     "start_time": "2022-11-25T04:37:48.719940",
     "status": "completed"
    },
    "tags": []
   },
   "outputs": [
    {
     "data": {
      "text/plain": [
       "295"
      ]
     },
     "metadata": {},
     "output_type": "display_data"
    }
   ],
   "source": [
    "display(len(CLUSTERERS))"
   ]
  },
  {
   "cell_type": "code",
   "execution_count": 17,
   "id": "377df6e8",
   "metadata": {
    "execution": {
     "iopub.execute_input": "2022-11-25T04:37:48.775688Z",
     "iopub.status.busy": "2022-11-25T04:37:48.775315Z",
     "iopub.status.idle": "2022-11-25T04:37:48.796474Z",
     "shell.execute_reply": "2022-11-25T04:37:48.796041Z"
    },
    "papermill": {
     "duration": 0.035353,
     "end_time": "2022-11-25T04:37:48.797702",
     "exception": false,
     "start_time": "2022-11-25T04:37:48.762349",
     "status": "completed"
    },
    "tags": []
   },
   "outputs": [
    {
     "data": {
      "text/plain": [
       "('KMeans #0', KMeans(n_clusters=2, random_state=10000))"
      ]
     },
     "metadata": {},
     "output_type": "display_data"
    },
    {
     "data": {
      "text/plain": [
       "('KMeans #1', KMeans(n_clusters=2, random_state=10001))"
      ]
     },
     "metadata": {},
     "output_type": "display_data"
    }
   ],
   "source": [
    "_iter = iter(CLUSTERERS.items())\n",
    "display(next(_iter))\n",
    "display(next(_iter))"
   ]
  },
  {
   "cell_type": "code",
   "execution_count": 18,
   "id": "98b8c7c7",
   "metadata": {
    "execution": {
     "iopub.execute_input": "2022-11-25T04:37:48.824538Z",
     "iopub.status.busy": "2022-11-25T04:37:48.824228Z",
     "iopub.status.idle": "2022-11-25T04:37:48.843784Z",
     "shell.execute_reply": "2022-11-25T04:37:48.843410Z"
    },
    "papermill": {
     "duration": 0.034427,
     "end_time": "2022-11-25T04:37:48.844988",
     "exception": false,
     "start_time": "2022-11-25T04:37:48.810561",
     "status": "completed"
    },
    "tags": []
   },
   "outputs": [
    {
     "data": {
      "text/plain": [
       "'KMeans'"
      ]
     },
     "metadata": {},
     "output_type": "display_data"
    }
   ],
   "source": [
    "clustering_method_name = method_name\n",
    "display(clustering_method_name)"
   ]
  },
  {
   "cell_type": "markdown",
   "id": "3fa1ee07",
   "metadata": {
    "papermill": {
     "duration": 0.012517,
     "end_time": "2022-11-25T04:37:48.870252",
     "exception": false,
     "start_time": "2022-11-25T04:37:48.857735",
     "status": "completed"
    },
    "tags": []
   },
   "source": [
    "## Output directory"
   ]
  },
  {
   "cell_type": "code",
   "execution_count": 19,
   "id": "d2d66b9d",
   "metadata": {
    "execution": {
     "iopub.execute_input": "2022-11-25T04:37:48.895597Z",
     "iopub.status.busy": "2022-11-25T04:37:48.895106Z",
     "iopub.status.idle": "2022-11-25T04:37:48.915888Z",
     "shell.execute_reply": "2022-11-25T04:37:48.915516Z"
    },
    "papermill": {
     "duration": 0.033212,
     "end_time": "2022-11-25T04:37:48.916639",
     "exception": false,
     "start_time": "2022-11-25T04:37:48.883427",
     "status": "completed"
    },
    "tags": []
   },
   "outputs": [
    {
     "data": {
      "text/plain": [
       "PosixPath('/opt/data/results/clustering/null_sims/shuffle_genes/runs/pca-z_score_std-projection-smultixcan-efo_partial-mashr-zscores')"
      ]
     },
     "metadata": {},
     "output_type": "display_data"
    }
   ],
   "source": [
    "# output dir for this notebook\n",
    "RESULTS_DIR = Path(\n",
    "    NULL_DIR,\n",
    "    \"runs\",\n",
    "    f\"{INPUT_SUBSET}-{INPUT_STEM}\",\n",
    ").resolve()\n",
    "RESULTS_DIR.mkdir(parents=True, exist_ok=True)\n",
    "\n",
    "display(RESULTS_DIR)"
   ]
  },
  {
   "cell_type": "markdown",
   "id": "fbf76441",
   "metadata": {
    "papermill": {
     "duration": 0.007023,
     "end_time": "2022-11-25T04:37:48.930310",
     "exception": false,
     "start_time": "2022-11-25T04:37:48.923287",
     "status": "completed"
    },
    "tags": []
   },
   "source": [
    "# Load input file"
   ]
  },
  {
   "cell_type": "code",
   "execution_count": 20,
   "id": "85006b99",
   "metadata": {
    "execution": {
     "iopub.execute_input": "2022-11-25T04:37:48.944569Z",
     "iopub.status.busy": "2022-11-25T04:37:48.944182Z",
     "iopub.status.idle": "2022-11-25T04:37:48.965445Z",
     "shell.execute_reply": "2022-11-25T04:37:48.964976Z"
    },
    "papermill": {
     "duration": 0.029179,
     "end_time": "2022-11-25T04:37:48.966162",
     "exception": false,
     "start_time": "2022-11-25T04:37:48.936983",
     "status": "completed"
    },
    "tags": []
   },
   "outputs": [],
   "source": [
    "data = pd.read_pickle(input_filepath)"
   ]
  },
  {
   "cell_type": "code",
   "execution_count": 21,
   "id": "d69519b4",
   "metadata": {
    "execution": {
     "iopub.execute_input": "2022-11-25T04:37:48.980985Z",
     "iopub.status.busy": "2022-11-25T04:37:48.980505Z",
     "iopub.status.idle": "2022-11-25T04:37:49.000739Z",
     "shell.execute_reply": "2022-11-25T04:37:49.000310Z"
    },
    "papermill": {
     "duration": 0.028567,
     "end_time": "2022-11-25T04:37:49.001502",
     "exception": false,
     "start_time": "2022-11-25T04:37:48.972935",
     "status": "completed"
    },
    "tags": []
   },
   "outputs": [
    {
     "data": {
      "text/plain": [
       "(3752, 50)"
      ]
     },
     "execution_count": 21,
     "metadata": {},
     "output_type": "execute_result"
    }
   ],
   "source": [
    "data.shape"
   ]
  },
  {
   "cell_type": "code",
   "execution_count": 22,
   "id": "be5c4d9f",
   "metadata": {
    "execution": {
     "iopub.execute_input": "2022-11-25T04:37:49.015812Z",
     "iopub.status.busy": "2022-11-25T04:37:49.015410Z",
     "iopub.status.idle": "2022-11-25T04:37:49.050898Z",
     "shell.execute_reply": "2022-11-25T04:37:49.050508Z"
    },
    "papermill": {
     "duration": 0.043688,
     "end_time": "2022-11-25T04:37:49.051904",
     "exception": false,
     "start_time": "2022-11-25T04:37:49.008216",
     "status": "completed"
    },
    "tags": []
   },
   "outputs": [
    {
     "data": {
      "text/html": [
       "<div>\n",
       "<style scoped>\n",
       "    .dataframe tbody tr th:only-of-type {\n",
       "        vertical-align: middle;\n",
       "    }\n",
       "\n",
       "    .dataframe tbody tr th {\n",
       "        vertical-align: top;\n",
       "    }\n",
       "\n",
       "    .dataframe thead th {\n",
       "        text-align: right;\n",
       "    }\n",
       "</style>\n",
       "<table border=\"1\" class=\"dataframe\">\n",
       "  <thead>\n",
       "    <tr style=\"text-align: right;\">\n",
       "      <th></th>\n",
       "      <th>PCA1</th>\n",
       "      <th>PCA2</th>\n",
       "      <th>PCA3</th>\n",
       "      <th>PCA4</th>\n",
       "      <th>PCA5</th>\n",
       "      <th>PCA6</th>\n",
       "      <th>PCA7</th>\n",
       "      <th>PCA8</th>\n",
       "      <th>PCA9</th>\n",
       "      <th>PCA10</th>\n",
       "      <th>...</th>\n",
       "      <th>PCA41</th>\n",
       "      <th>PCA42</th>\n",
       "      <th>PCA43</th>\n",
       "      <th>PCA44</th>\n",
       "      <th>PCA45</th>\n",
       "      <th>PCA46</th>\n",
       "      <th>PCA47</th>\n",
       "      <th>PCA48</th>\n",
       "      <th>PCA49</th>\n",
       "      <th>PCA50</th>\n",
       "    </tr>\n",
       "  </thead>\n",
       "  <tbody>\n",
       "    <tr>\n",
       "      <th>100001_raw-Food_weight</th>\n",
       "      <td>-0.844744</td>\n",
       "      <td>3.134501</td>\n",
       "      <td>-1.885185</td>\n",
       "      <td>0.800877</td>\n",
       "      <td>-0.283830</td>\n",
       "      <td>0.027480</td>\n",
       "      <td>0.611143</td>\n",
       "      <td>1.485636</td>\n",
       "      <td>0.202757</td>\n",
       "      <td>0.450528</td>\n",
       "      <td>...</td>\n",
       "      <td>2.547792</td>\n",
       "      <td>-1.128343</td>\n",
       "      <td>-0.907277</td>\n",
       "      <td>-0.049764</td>\n",
       "      <td>-1.669310</td>\n",
       "      <td>-0.721449</td>\n",
       "      <td>2.077602</td>\n",
       "      <td>0.799708</td>\n",
       "      <td>1.271524</td>\n",
       "      <td>-1.871291</td>\n",
       "    </tr>\n",
       "    <tr>\n",
       "      <th>100002_raw-Energy</th>\n",
       "      <td>-0.078568</td>\n",
       "      <td>-1.675988</td>\n",
       "      <td>-0.826605</td>\n",
       "      <td>0.872125</td>\n",
       "      <td>-1.257784</td>\n",
       "      <td>0.276976</td>\n",
       "      <td>0.123534</td>\n",
       "      <td>-0.225430</td>\n",
       "      <td>1.291625</td>\n",
       "      <td>-0.406739</td>\n",
       "      <td>...</td>\n",
       "      <td>-1.595450</td>\n",
       "      <td>-0.979352</td>\n",
       "      <td>2.081672</td>\n",
       "      <td>-1.266333</td>\n",
       "      <td>-1.430714</td>\n",
       "      <td>2.733243</td>\n",
       "      <td>-0.293793</td>\n",
       "      <td>-1.427649</td>\n",
       "      <td>-1.315076</td>\n",
       "      <td>1.458368</td>\n",
       "    </tr>\n",
       "    <tr>\n",
       "      <th>100003_raw-Protein</th>\n",
       "      <td>-1.966843</td>\n",
       "      <td>-0.720839</td>\n",
       "      <td>-0.621370</td>\n",
       "      <td>1.066950</td>\n",
       "      <td>0.612613</td>\n",
       "      <td>-1.143542</td>\n",
       "      <td>-3.256801</td>\n",
       "      <td>0.637131</td>\n",
       "      <td>1.275239</td>\n",
       "      <td>-1.746677</td>\n",
       "      <td>...</td>\n",
       "      <td>-0.898644</td>\n",
       "      <td>1.423939</td>\n",
       "      <td>0.200717</td>\n",
       "      <td>0.080861</td>\n",
       "      <td>-0.910925</td>\n",
       "      <td>-0.266207</td>\n",
       "      <td>1.036173</td>\n",
       "      <td>0.326860</td>\n",
       "      <td>-0.197079</td>\n",
       "      <td>-0.322935</td>\n",
       "    </tr>\n",
       "    <tr>\n",
       "      <th>100004_raw-Fat</th>\n",
       "      <td>0.332482</td>\n",
       "      <td>-0.928841</td>\n",
       "      <td>-0.216911</td>\n",
       "      <td>0.486861</td>\n",
       "      <td>0.454021</td>\n",
       "      <td>-1.316312</td>\n",
       "      <td>0.226607</td>\n",
       "      <td>2.504342</td>\n",
       "      <td>-0.740799</td>\n",
       "      <td>-2.027466</td>\n",
       "      <td>...</td>\n",
       "      <td>0.101529</td>\n",
       "      <td>0.032200</td>\n",
       "      <td>-0.658490</td>\n",
       "      <td>-0.288036</td>\n",
       "      <td>1.399674</td>\n",
       "      <td>2.502066</td>\n",
       "      <td>1.872188</td>\n",
       "      <td>-0.239398</td>\n",
       "      <td>-1.349670</td>\n",
       "      <td>-0.457304</td>\n",
       "    </tr>\n",
       "    <tr>\n",
       "      <th>100005_raw-Carbohydrate</th>\n",
       "      <td>2.106644</td>\n",
       "      <td>1.025306</td>\n",
       "      <td>0.405959</td>\n",
       "      <td>2.645132</td>\n",
       "      <td>0.881081</td>\n",
       "      <td>-1.718546</td>\n",
       "      <td>0.693749</td>\n",
       "      <td>0.135447</td>\n",
       "      <td>-0.303163</td>\n",
       "      <td>-0.525056</td>\n",
       "      <td>...</td>\n",
       "      <td>0.612486</td>\n",
       "      <td>-0.769634</td>\n",
       "      <td>-0.264214</td>\n",
       "      <td>3.150728</td>\n",
       "      <td>-1.403396</td>\n",
       "      <td>2.893334</td>\n",
       "      <td>0.900700</td>\n",
       "      <td>0.200481</td>\n",
       "      <td>-2.369759</td>\n",
       "      <td>-0.348016</td>\n",
       "    </tr>\n",
       "  </tbody>\n",
       "</table>\n",
       "<p>5 rows × 50 columns</p>\n",
       "</div>"
      ],
      "text/plain": [
       "                             PCA1      PCA2      PCA3      PCA4      PCA5  \\\n",
       "100001_raw-Food_weight  -0.844744  3.134501 -1.885185  0.800877 -0.283830   \n",
       "100002_raw-Energy       -0.078568 -1.675988 -0.826605  0.872125 -1.257784   \n",
       "100003_raw-Protein      -1.966843 -0.720839 -0.621370  1.066950  0.612613   \n",
       "100004_raw-Fat           0.332482 -0.928841 -0.216911  0.486861  0.454021   \n",
       "100005_raw-Carbohydrate  2.106644  1.025306  0.405959  2.645132  0.881081   \n",
       "\n",
       "                             PCA6      PCA7      PCA8      PCA9     PCA10  \\\n",
       "100001_raw-Food_weight   0.027480  0.611143  1.485636  0.202757  0.450528   \n",
       "100002_raw-Energy        0.276976  0.123534 -0.225430  1.291625 -0.406739   \n",
       "100003_raw-Protein      -1.143542 -3.256801  0.637131  1.275239 -1.746677   \n",
       "100004_raw-Fat          -1.316312  0.226607  2.504342 -0.740799 -2.027466   \n",
       "100005_raw-Carbohydrate -1.718546  0.693749  0.135447 -0.303163 -0.525056   \n",
       "\n",
       "                         ...     PCA41     PCA42     PCA43     PCA44  \\\n",
       "100001_raw-Food_weight   ...  2.547792 -1.128343 -0.907277 -0.049764   \n",
       "100002_raw-Energy        ... -1.595450 -0.979352  2.081672 -1.266333   \n",
       "100003_raw-Protein       ... -0.898644  1.423939  0.200717  0.080861   \n",
       "100004_raw-Fat           ...  0.101529  0.032200 -0.658490 -0.288036   \n",
       "100005_raw-Carbohydrate  ...  0.612486 -0.769634 -0.264214  3.150728   \n",
       "\n",
       "                            PCA45     PCA46     PCA47     PCA48     PCA49  \\\n",
       "100001_raw-Food_weight  -1.669310 -0.721449  2.077602  0.799708  1.271524   \n",
       "100002_raw-Energy       -1.430714  2.733243 -0.293793 -1.427649 -1.315076   \n",
       "100003_raw-Protein      -0.910925 -0.266207  1.036173  0.326860 -0.197079   \n",
       "100004_raw-Fat           1.399674  2.502066  1.872188 -0.239398 -1.349670   \n",
       "100005_raw-Carbohydrate -1.403396  2.893334  0.900700  0.200481 -2.369759   \n",
       "\n",
       "                            PCA50  \n",
       "100001_raw-Food_weight  -1.871291  \n",
       "100002_raw-Energy        1.458368  \n",
       "100003_raw-Protein      -0.322935  \n",
       "100004_raw-Fat          -0.457304  \n",
       "100005_raw-Carbohydrate -0.348016  \n",
       "\n",
       "[5 rows x 50 columns]"
      ]
     },
     "execution_count": 22,
     "metadata": {},
     "output_type": "execute_result"
    }
   ],
   "source": [
    "data.head()"
   ]
  },
  {
   "cell_type": "code",
   "execution_count": 23,
   "id": "9b0d0bcd",
   "metadata": {
    "execution": {
     "iopub.execute_input": "2022-11-25T04:37:49.073994Z",
     "iopub.status.busy": "2022-11-25T04:37:49.073660Z",
     "iopub.status.idle": "2022-11-25T04:37:49.093701Z",
     "shell.execute_reply": "2022-11-25T04:37:49.093294Z"
    },
    "papermill": {
     "duration": 0.031967,
     "end_time": "2022-11-25T04:37:49.094706",
     "exception": false,
     "start_time": "2022-11-25T04:37:49.062739",
     "status": "completed"
    },
    "tags": []
   },
   "outputs": [],
   "source": [
    "assert not data.isna().any().any()"
   ]
  },
  {
   "cell_type": "markdown",
   "id": "65f9120b",
   "metadata": {
    "papermill": {
     "duration": 0.010474,
     "end_time": "2022-11-25T04:37:49.115568",
     "exception": false,
     "start_time": "2022-11-25T04:37:49.105094",
     "status": "completed"
    },
    "tags": []
   },
   "source": [
    "# Clustering"
   ]
  },
  {
   "cell_type": "markdown",
   "id": "2bbb49c1",
   "metadata": {
    "papermill": {
     "duration": 0.010338,
     "end_time": "2022-11-25T04:37:49.136262",
     "exception": false,
     "start_time": "2022-11-25T04:37:49.125924",
     "status": "completed"
    },
    "tags": []
   },
   "source": [
    "## Generate ensemble"
   ]
  },
  {
   "cell_type": "code",
   "execution_count": 24,
   "id": "9146201c",
   "metadata": {
    "execution": {
     "iopub.execute_input": "2022-11-25T04:37:49.156508Z",
     "iopub.status.busy": "2022-11-25T04:37:49.156345Z",
     "iopub.status.idle": "2022-11-25T04:37:49.179595Z",
     "shell.execute_reply": "2022-11-25T04:37:49.179124Z"
    },
    "papermill": {
     "duration": 0.033866,
     "end_time": "2022-11-25T04:37:49.180478",
     "exception": false,
     "start_time": "2022-11-25T04:37:49.146612",
     "status": "completed"
    },
    "tags": []
   },
   "outputs": [],
   "source": [
    "from clustering.ensembles.utils import generate_ensemble"
   ]
  },
  {
   "cell_type": "code",
   "execution_count": 25,
   "id": "e9959143",
   "metadata": {
    "execution": {
     "iopub.execute_input": "2022-11-25T04:37:49.195333Z",
     "iopub.status.busy": "2022-11-25T04:37:49.195016Z",
     "iopub.status.idle": "2022-11-25T04:39:38.768678Z",
     "shell.execute_reply": "2022-11-25T04:39:38.768439Z"
    },
    "papermill": {
     "duration": 109.582253,
     "end_time": "2022-11-25T04:39:38.769877",
     "exception": false,
     "start_time": "2022-11-25T04:37:49.187624",
     "status": "completed"
    },
    "tags": []
   },
   "outputs": [
    {
     "name": "stderr",
     "output_type": "stream",
     "text": [
      "100%|██████████| 295/295 [01:49<00:00,  2.69it/s]\n"
     ]
    }
   ],
   "source": [
    "ensemble = generate_ensemble(\n",
    "    data,\n",
    "    CLUSTERERS,\n",
    "    attributes=CLUSTERING_ATTRIBUTES_TO_SAVE,\n",
    ")"
   ]
  },
  {
   "cell_type": "code",
   "execution_count": 26,
   "id": "fd5e787c",
   "metadata": {
    "execution": {
     "iopub.execute_input": "2022-11-25T04:39:38.830472Z",
     "iopub.status.busy": "2022-11-25T04:39:38.830275Z",
     "iopub.status.idle": "2022-11-25T04:39:38.843167Z",
     "shell.execute_reply": "2022-11-25T04:39:38.842878Z"
    },
    "papermill": {
     "duration": 0.044096,
     "end_time": "2022-11-25T04:39:38.844361",
     "exception": false,
     "start_time": "2022-11-25T04:39:38.800265",
     "status": "completed"
    },
    "tags": []
   },
   "outputs": [
    {
     "data": {
      "text/plain": [
       "(295, 3)"
      ]
     },
     "execution_count": 26,
     "metadata": {},
     "output_type": "execute_result"
    }
   ],
   "source": [
    "# the number should be close to 295 (the number of partitions generated by k-means/spectral clustering)\n",
    "ensemble.shape"
   ]
  },
  {
   "cell_type": "code",
   "execution_count": 27,
   "id": "c839ebe8",
   "metadata": {
    "execution": {
     "iopub.execute_input": "2022-11-25T04:39:38.894570Z",
     "iopub.status.busy": "2022-11-25T04:39:38.894420Z",
     "iopub.status.idle": "2022-11-25T04:39:38.921445Z",
     "shell.execute_reply": "2022-11-25T04:39:38.921083Z"
    },
    "papermill": {
     "duration": 0.048579,
     "end_time": "2022-11-25T04:39:38.922212",
     "exception": false,
     "start_time": "2022-11-25T04:39:38.873633",
     "status": "completed"
    },
    "tags": []
   },
   "outputs": [
    {
     "data": {
      "text/html": [
       "<div>\n",
       "<style scoped>\n",
       "    .dataframe tbody tr th:only-of-type {\n",
       "        vertical-align: middle;\n",
       "    }\n",
       "\n",
       "    .dataframe tbody tr th {\n",
       "        vertical-align: top;\n",
       "    }\n",
       "\n",
       "    .dataframe thead th {\n",
       "        text-align: right;\n",
       "    }\n",
       "</style>\n",
       "<table border=\"1\" class=\"dataframe\">\n",
       "  <thead>\n",
       "    <tr style=\"text-align: right;\">\n",
       "      <th></th>\n",
       "      <th>clusterer_params</th>\n",
       "      <th>partition</th>\n",
       "      <th>n_clusters</th>\n",
       "    </tr>\n",
       "    <tr>\n",
       "      <th>clusterer_id</th>\n",
       "      <th></th>\n",
       "      <th></th>\n",
       "      <th></th>\n",
       "    </tr>\n",
       "  </thead>\n",
       "  <tbody>\n",
       "    <tr>\n",
       "      <th>KMeans #0</th>\n",
       "      <td>{'algorithm': 'auto', 'copy_x': True, 'init': ...</td>\n",
       "      <td>[0.0, 0.0, 0.0, 1.0, 0.0, 0.0, 1.0, 0.0, 1.0, ...</td>\n",
       "      <td>2</td>\n",
       "    </tr>\n",
       "    <tr>\n",
       "      <th>KMeans #1</th>\n",
       "      <td>{'algorithm': 'auto', 'copy_x': True, 'init': ...</td>\n",
       "      <td>[1.0, 0.0, 1.0, 1.0, 1.0, 1.0, 0.0, 0.0, 1.0, ...</td>\n",
       "      <td>2</td>\n",
       "    </tr>\n",
       "    <tr>\n",
       "      <th>KMeans #2</th>\n",
       "      <td>{'algorithm': 'auto', 'copy_x': True, 'init': ...</td>\n",
       "      <td>[0.0, 0.0, 1.0, 1.0, 0.0, 0.0, 0.0, 0.0, 1.0, ...</td>\n",
       "      <td>2</td>\n",
       "    </tr>\n",
       "    <tr>\n",
       "      <th>KMeans #3</th>\n",
       "      <td>{'algorithm': 'auto', 'copy_x': True, 'init': ...</td>\n",
       "      <td>[0.0, 1.0, 1.0, 0.0, 0.0, 0.0, 1.0, 0.0, 0.0, ...</td>\n",
       "      <td>2</td>\n",
       "    </tr>\n",
       "    <tr>\n",
       "      <th>KMeans #4</th>\n",
       "      <td>{'algorithm': 'auto', 'copy_x': True, 'init': ...</td>\n",
       "      <td>[1.0, 0.0, 0.0, 1.0, 1.0, 1.0, 0.0, 1.0, 1.0, ...</td>\n",
       "      <td>2</td>\n",
       "    </tr>\n",
       "  </tbody>\n",
       "</table>\n",
       "</div>"
      ],
      "text/plain": [
       "                                               clusterer_params  \\\n",
       "clusterer_id                                                      \n",
       "KMeans #0     {'algorithm': 'auto', 'copy_x': True, 'init': ...   \n",
       "KMeans #1     {'algorithm': 'auto', 'copy_x': True, 'init': ...   \n",
       "KMeans #2     {'algorithm': 'auto', 'copy_x': True, 'init': ...   \n",
       "KMeans #3     {'algorithm': 'auto', 'copy_x': True, 'init': ...   \n",
       "KMeans #4     {'algorithm': 'auto', 'copy_x': True, 'init': ...   \n",
       "\n",
       "                                                      partition  n_clusters  \n",
       "clusterer_id                                                                 \n",
       "KMeans #0     [0.0, 0.0, 0.0, 1.0, 0.0, 0.0, 1.0, 0.0, 1.0, ...           2  \n",
       "KMeans #1     [1.0, 0.0, 1.0, 1.0, 1.0, 1.0, 0.0, 0.0, 1.0, ...           2  \n",
       "KMeans #2     [0.0, 0.0, 1.0, 1.0, 0.0, 0.0, 0.0, 0.0, 1.0, ...           2  \n",
       "KMeans #3     [0.0, 1.0, 1.0, 0.0, 0.0, 0.0, 1.0, 0.0, 0.0, ...           2  \n",
       "KMeans #4     [1.0, 0.0, 0.0, 1.0, 1.0, 1.0, 0.0, 1.0, 1.0, ...           2  "
      ]
     },
     "execution_count": 27,
     "metadata": {},
     "output_type": "execute_result"
    }
   ],
   "source": [
    "ensemble.head()"
   ]
  },
  {
   "cell_type": "code",
   "execution_count": 28,
   "id": "a2475d87",
   "metadata": {
    "execution": {
     "iopub.execute_input": "2022-11-25T04:39:38.952173Z",
     "iopub.status.busy": "2022-11-25T04:39:38.951915Z",
     "iopub.status.idle": "2022-11-25T04:39:38.973478Z",
     "shell.execute_reply": "2022-11-25T04:39:38.973099Z"
    },
    "papermill": {
     "duration": 0.0373,
     "end_time": "2022-11-25T04:39:38.974250",
     "exception": false,
     "start_time": "2022-11-25T04:39:38.936950",
     "status": "completed"
    },
    "tags": []
   },
   "outputs": [
    {
     "data": {
      "text/plain": [
       "60    5\n",
       "16    5\n",
       "28    5\n",
       "27    5\n",
       "26    5\n",
       "Name: n_clusters, dtype: int64"
      ]
     },
     "execution_count": 28,
     "metadata": {},
     "output_type": "execute_result"
    }
   ],
   "source": [
    "ensemble[\"n_clusters\"].value_counts().head()"
   ]
  },
  {
   "cell_type": "code",
   "execution_count": 29,
   "id": "a72c16b4",
   "metadata": {
    "execution": {
     "iopub.execute_input": "2022-11-25T04:39:39.004574Z",
     "iopub.status.busy": "2022-11-25T04:39:39.004192Z",
     "iopub.status.idle": "2022-11-25T04:39:39.027255Z",
     "shell.execute_reply": "2022-11-25T04:39:39.026875Z"
    },
    "papermill": {
     "duration": 0.039007,
     "end_time": "2022-11-25T04:39:39.027999",
     "exception": false,
     "start_time": "2022-11-25T04:39:38.988992",
     "status": "completed"
    },
    "tags": []
   },
   "outputs": [
    {
     "data": {
      "text/plain": [
       "count    295.000000\n",
       "mean      31.000000\n",
       "std       17.058323\n",
       "min        2.000000\n",
       "25%       16.000000\n",
       "50%       31.000000\n",
       "75%       46.000000\n",
       "max       60.000000\n",
       "Name: n_clusters, dtype: float64"
      ]
     },
     "metadata": {},
     "output_type": "display_data"
    }
   ],
   "source": [
    "ensemble_stats = ensemble[\"n_clusters\"].describe()\n",
    "display(ensemble_stats)"
   ]
  },
  {
   "cell_type": "markdown",
   "id": "9b65c295",
   "metadata": {
    "papermill": {
     "duration": 0.014746,
     "end_time": "2022-11-25T04:39:39.057370",
     "exception": false,
     "start_time": "2022-11-25T04:39:39.042624",
     "status": "completed"
    },
    "tags": []
   },
   "source": [
    "## Testing"
   ]
  },
  {
   "cell_type": "code",
   "execution_count": 30,
   "id": "fdac9c23",
   "metadata": {
    "execution": {
     "iopub.execute_input": "2022-11-25T04:39:39.089145Z",
     "iopub.status.busy": "2022-11-25T04:39:39.088683Z",
     "iopub.status.idle": "2022-11-25T04:39:39.109306Z",
     "shell.execute_reply": "2022-11-25T04:39:39.108866Z"
    },
    "papermill": {
     "duration": 0.03798,
     "end_time": "2022-11-25T04:39:39.110128",
     "exception": false,
     "start_time": "2022-11-25T04:39:39.072148",
     "status": "completed"
    },
    "tags": []
   },
   "outputs": [],
   "source": [
    "assert ensemble_stats[\"min\"] > 1"
   ]
  },
  {
   "cell_type": "code",
   "execution_count": 31,
   "id": "198b7396",
   "metadata": {
    "execution": {
     "iopub.execute_input": "2022-11-25T04:39:39.141089Z",
     "iopub.status.busy": "2022-11-25T04:39:39.140652Z",
     "iopub.status.idle": "2022-11-25T04:39:39.160838Z",
     "shell.execute_reply": "2022-11-25T04:39:39.160400Z"
    },
    "papermill": {
     "duration": 0.036561,
     "end_time": "2022-11-25T04:39:39.161612",
     "exception": false,
     "start_time": "2022-11-25T04:39:39.125051",
     "status": "completed"
    },
    "tags": []
   },
   "outputs": [],
   "source": [
    "assert not ensemble[\"n_clusters\"].isna().any()"
   ]
  },
  {
   "cell_type": "code",
   "execution_count": 32,
   "id": "d6710aa4",
   "metadata": {
    "execution": {
     "iopub.execute_input": "2022-11-25T04:39:39.192076Z",
     "iopub.status.busy": "2022-11-25T04:39:39.191653Z",
     "iopub.status.idle": "2022-11-25T04:39:39.211690Z",
     "shell.execute_reply": "2022-11-25T04:39:39.211318Z"
    },
    "papermill": {
     "duration": 0.036016,
     "end_time": "2022-11-25T04:39:39.212521",
     "exception": false,
     "start_time": "2022-11-25T04:39:39.176505",
     "status": "completed"
    },
    "tags": []
   },
   "outputs": [],
   "source": [
    "assert ensemble.shape[0] == len(CLUSTERERS)"
   ]
  },
  {
   "cell_type": "code",
   "execution_count": 33,
   "id": "e1cb24aa",
   "metadata": {
    "execution": {
     "iopub.execute_input": "2022-11-25T04:39:39.243033Z",
     "iopub.status.busy": "2022-11-25T04:39:39.242735Z",
     "iopub.status.idle": "2022-11-25T04:39:39.289126Z",
     "shell.execute_reply": "2022-11-25T04:39:39.288734Z"
    },
    "papermill": {
     "duration": 0.062629,
     "end_time": "2022-11-25T04:39:39.289959",
     "exception": false,
     "start_time": "2022-11-25T04:39:39.227330",
     "status": "completed"
    },
    "tags": []
   },
   "outputs": [],
   "source": [
    "# all partitions have the right size\n",
    "assert np.all(\n",
    "    [part[\"partition\"].shape[0] == data.shape[0] for idx, part in ensemble.iterrows()]\n",
    ")"
   ]
  },
  {
   "cell_type": "code",
   "execution_count": 34,
   "id": "216b0629",
   "metadata": {
    "execution": {
     "iopub.execute_input": "2022-11-25T04:39:39.320246Z",
     "iopub.status.busy": "2022-11-25T04:39:39.319912Z",
     "iopub.status.idle": "2022-11-25T04:39:39.370443Z",
     "shell.execute_reply": "2022-11-25T04:39:39.370010Z"
    },
    "papermill": {
     "duration": 0.067134,
     "end_time": "2022-11-25T04:39:39.371725",
     "exception": false,
     "start_time": "2022-11-25T04:39:39.304591",
     "status": "completed"
    },
    "tags": []
   },
   "outputs": [],
   "source": [
    "# no partition has negative clusters (noisy points)\n",
    "assert not np.any([(part[\"partition\"] < 0).any() for idx, part in ensemble.iterrows()])"
   ]
  },
  {
   "cell_type": "markdown",
   "id": "499154ca",
   "metadata": {
    "papermill": {
     "duration": 0.02774,
     "end_time": "2022-11-25T04:39:39.427709",
     "exception": false,
     "start_time": "2022-11-25T04:39:39.399969",
     "status": "completed"
    },
    "tags": []
   },
   "source": [
    "## Add clustering quality measures"
   ]
  },
  {
   "cell_type": "code",
   "execution_count": 35,
   "id": "c36107cb",
   "metadata": {
    "execution": {
     "iopub.execute_input": "2022-11-25T04:39:39.465494Z",
     "iopub.status.busy": "2022-11-25T04:39:39.465138Z",
     "iopub.status.idle": "2022-11-25T04:39:39.485347Z",
     "shell.execute_reply": "2022-11-25T04:39:39.484964Z"
    },
    "papermill": {
     "duration": 0.036151,
     "end_time": "2022-11-25T04:39:39.486091",
     "exception": false,
     "start_time": "2022-11-25T04:39:39.449940",
     "status": "completed"
    },
    "tags": []
   },
   "outputs": [],
   "source": [
    "from sklearn.metrics import calinski_harabasz_score"
   ]
  },
  {
   "cell_type": "code",
   "execution_count": 36,
   "id": "bb66ab4c",
   "metadata": {
    "execution": {
     "iopub.execute_input": "2022-11-25T04:39:39.516286Z",
     "iopub.status.busy": "2022-11-25T04:39:39.515916Z",
     "iopub.status.idle": "2022-11-25T04:39:40.262588Z",
     "shell.execute_reply": "2022-11-25T04:39:40.262263Z"
    },
    "papermill": {
     "duration": 0.763382,
     "end_time": "2022-11-25T04:39:40.264042",
     "exception": false,
     "start_time": "2022-11-25T04:39:39.500660",
     "status": "completed"
    },
    "tags": []
   },
   "outputs": [],
   "source": [
    "ensemble = ensemble.assign(\n",
    "    ch_score=ensemble[\"partition\"].apply(lambda x: calinski_harabasz_score(data, x))\n",
    ")"
   ]
  },
  {
   "cell_type": "code",
   "execution_count": 37,
   "id": "7df25ca8",
   "metadata": {
    "execution": {
     "iopub.execute_input": "2022-11-25T04:39:40.295741Z",
     "iopub.status.busy": "2022-11-25T04:39:40.295612Z",
     "iopub.status.idle": "2022-11-25T04:39:40.308538Z",
     "shell.execute_reply": "2022-11-25T04:39:40.308186Z"
    },
    "papermill": {
     "duration": 0.029334,
     "end_time": "2022-11-25T04:39:40.309244",
     "exception": false,
     "start_time": "2022-11-25T04:39:40.279910",
     "status": "completed"
    },
    "tags": []
   },
   "outputs": [
    {
     "data": {
      "text/plain": [
       "(295, 4)"
      ]
     },
     "execution_count": 37,
     "metadata": {},
     "output_type": "execute_result"
    }
   ],
   "source": [
    "ensemble.shape"
   ]
  },
  {
   "cell_type": "code",
   "execution_count": 38,
   "id": "7de636fe",
   "metadata": {
    "execution": {
     "iopub.execute_input": "2022-11-25T04:39:40.339198Z",
     "iopub.status.busy": "2022-11-25T04:39:40.339106Z",
     "iopub.status.idle": "2022-11-25T04:39:40.363272Z",
     "shell.execute_reply": "2022-11-25T04:39:40.362929Z"
    },
    "papermill": {
     "duration": 0.040118,
     "end_time": "2022-11-25T04:39:40.364006",
     "exception": false,
     "start_time": "2022-11-25T04:39:40.323888",
     "status": "completed"
    },
    "tags": []
   },
   "outputs": [
    {
     "data": {
      "text/html": [
       "<div>\n",
       "<style scoped>\n",
       "    .dataframe tbody tr th:only-of-type {\n",
       "        vertical-align: middle;\n",
       "    }\n",
       "\n",
       "    .dataframe tbody tr th {\n",
       "        vertical-align: top;\n",
       "    }\n",
       "\n",
       "    .dataframe thead th {\n",
       "        text-align: right;\n",
       "    }\n",
       "</style>\n",
       "<table border=\"1\" class=\"dataframe\">\n",
       "  <thead>\n",
       "    <tr style=\"text-align: right;\">\n",
       "      <th></th>\n",
       "      <th>clusterer_params</th>\n",
       "      <th>partition</th>\n",
       "      <th>n_clusters</th>\n",
       "      <th>ch_score</th>\n",
       "    </tr>\n",
       "    <tr>\n",
       "      <th>clusterer_id</th>\n",
       "      <th></th>\n",
       "      <th></th>\n",
       "      <th></th>\n",
       "      <th></th>\n",
       "    </tr>\n",
       "  </thead>\n",
       "  <tbody>\n",
       "    <tr>\n",
       "      <th>KMeans #0</th>\n",
       "      <td>{'algorithm': 'auto', 'copy_x': True, 'init': ...</td>\n",
       "      <td>[0.0, 0.0, 0.0, 1.0, 0.0, 0.0, 1.0, 0.0, 1.0, ...</td>\n",
       "      <td>2</td>\n",
       "      <td>51.229626</td>\n",
       "    </tr>\n",
       "    <tr>\n",
       "      <th>KMeans #1</th>\n",
       "      <td>{'algorithm': 'auto', 'copy_x': True, 'init': ...</td>\n",
       "      <td>[1.0, 0.0, 1.0, 1.0, 1.0, 1.0, 0.0, 0.0, 1.0, ...</td>\n",
       "      <td>2</td>\n",
       "      <td>52.039714</td>\n",
       "    </tr>\n",
       "    <tr>\n",
       "      <th>KMeans #2</th>\n",
       "      <td>{'algorithm': 'auto', 'copy_x': True, 'init': ...</td>\n",
       "      <td>[0.0, 0.0, 1.0, 1.0, 0.0, 0.0, 0.0, 0.0, 1.0, ...</td>\n",
       "      <td>2</td>\n",
       "      <td>51.047860</td>\n",
       "    </tr>\n",
       "    <tr>\n",
       "      <th>KMeans #3</th>\n",
       "      <td>{'algorithm': 'auto', 'copy_x': True, 'init': ...</td>\n",
       "      <td>[0.0, 1.0, 1.0, 0.0, 0.0, 0.0, 1.0, 0.0, 0.0, ...</td>\n",
       "      <td>2</td>\n",
       "      <td>51.437600</td>\n",
       "    </tr>\n",
       "    <tr>\n",
       "      <th>KMeans #4</th>\n",
       "      <td>{'algorithm': 'auto', 'copy_x': True, 'init': ...</td>\n",
       "      <td>[1.0, 0.0, 0.0, 1.0, 1.0, 1.0, 0.0, 1.0, 1.0, ...</td>\n",
       "      <td>2</td>\n",
       "      <td>51.197315</td>\n",
       "    </tr>\n",
       "  </tbody>\n",
       "</table>\n",
       "</div>"
      ],
      "text/plain": [
       "                                               clusterer_params  \\\n",
       "clusterer_id                                                      \n",
       "KMeans #0     {'algorithm': 'auto', 'copy_x': True, 'init': ...   \n",
       "KMeans #1     {'algorithm': 'auto', 'copy_x': True, 'init': ...   \n",
       "KMeans #2     {'algorithm': 'auto', 'copy_x': True, 'init': ...   \n",
       "KMeans #3     {'algorithm': 'auto', 'copy_x': True, 'init': ...   \n",
       "KMeans #4     {'algorithm': 'auto', 'copy_x': True, 'init': ...   \n",
       "\n",
       "                                                      partition  n_clusters  \\\n",
       "clusterer_id                                                                  \n",
       "KMeans #0     [0.0, 0.0, 0.0, 1.0, 0.0, 0.0, 1.0, 0.0, 1.0, ...           2   \n",
       "KMeans #1     [1.0, 0.0, 1.0, 1.0, 1.0, 1.0, 0.0, 0.0, 1.0, ...           2   \n",
       "KMeans #2     [0.0, 0.0, 1.0, 1.0, 0.0, 0.0, 0.0, 0.0, 1.0, ...           2   \n",
       "KMeans #3     [0.0, 1.0, 1.0, 0.0, 0.0, 0.0, 1.0, 0.0, 0.0, ...           2   \n",
       "KMeans #4     [1.0, 0.0, 0.0, 1.0, 1.0, 1.0, 0.0, 1.0, 1.0, ...           2   \n",
       "\n",
       "               ch_score  \n",
       "clusterer_id             \n",
       "KMeans #0     51.229626  \n",
       "KMeans #1     52.039714  \n",
       "KMeans #2     51.047860  \n",
       "KMeans #3     51.437600  \n",
       "KMeans #4     51.197315  "
      ]
     },
     "execution_count": 38,
     "metadata": {},
     "output_type": "execute_result"
    }
   ],
   "source": [
    "ensemble.head()"
   ]
  },
  {
   "cell_type": "markdown",
   "id": "63bef39c",
   "metadata": {
    "papermill": {
     "duration": 0.014806,
     "end_time": "2022-11-25T04:39:40.393710",
     "exception": false,
     "start_time": "2022-11-25T04:39:40.378904",
     "status": "completed"
    },
    "tags": []
   },
   "source": [
    "## Save"
   ]
  },
  {
   "cell_type": "code",
   "execution_count": 39,
   "id": "219dec0f",
   "metadata": {
    "execution": {
     "iopub.execute_input": "2022-11-25T04:39:40.424339Z",
     "iopub.status.busy": "2022-11-25T04:39:40.423935Z",
     "iopub.status.idle": "2022-11-25T04:39:40.445922Z",
     "shell.execute_reply": "2022-11-25T04:39:40.445413Z"
    },
    "papermill": {
     "duration": 0.038184,
     "end_time": "2022-11-25T04:39:40.446695",
     "exception": false,
     "start_time": "2022-11-25T04:39:40.408511",
     "status": "completed"
    },
    "tags": []
   },
   "outputs": [
    {
     "data": {
      "text/plain": [
       "PosixPath('/opt/data/results/clustering/null_sims/shuffle_genes/runs/pca-z_score_std-projection-smultixcan-efo_partial-mashr-zscores/KMeans-KMEANS_N_INIT_10-K_MAX_60-K_MIN_2-N_REPS_PER_K_5.pkl')"
      ]
     },
     "metadata": {},
     "output_type": "display_data"
    }
   ],
   "source": [
    "output_filename = Path(\n",
    "    RESULTS_DIR,\n",
    "    generate_result_set_name(\n",
    "        CLUSTERING_OPTIONS,\n",
    "        prefix=f\"{clustering_method_name}-\",\n",
    "        suffix=\".pkl\",\n",
    "    ),\n",
    ").resolve()\n",
    "display(output_filename)"
   ]
  },
  {
   "cell_type": "code",
   "execution_count": 40,
   "id": "912a8627",
   "metadata": {
    "execution": {
     "iopub.execute_input": "2022-11-25T04:39:40.477088Z",
     "iopub.status.busy": "2022-11-25T04:39:40.476937Z",
     "iopub.status.idle": "2022-11-25T04:39:40.514628Z",
     "shell.execute_reply": "2022-11-25T04:39:40.514128Z"
    },
    "papermill": {
     "duration": 0.053857,
     "end_time": "2022-11-25T04:39:40.515525",
     "exception": false,
     "start_time": "2022-11-25T04:39:40.461668",
     "status": "completed"
    },
    "tags": []
   },
   "outputs": [],
   "source": [
    "ensemble.to_pickle(output_filename)"
   ]
  },
  {
   "cell_type": "markdown",
   "id": "46fbc530",
   "metadata": {
    "papermill": {
     "duration": 0.014975,
     "end_time": "2022-11-25T04:39:40.545357",
     "exception": false,
     "start_time": "2022-11-25T04:39:40.530382",
     "status": "completed"
    },
    "tags": []
   },
   "source": [
    "# Cluster quality"
   ]
  },
  {
   "cell_type": "code",
   "execution_count": 41,
   "id": "fd1115b0",
   "metadata": {
    "execution": {
     "iopub.execute_input": "2022-11-25T04:39:40.576308Z",
     "iopub.status.busy": "2022-11-25T04:39:40.575867Z",
     "iopub.status.idle": "2022-11-25T04:39:40.604059Z",
     "shell.execute_reply": "2022-11-25T04:39:40.603560Z"
    },
    "papermill": {
     "duration": 0.04463,
     "end_time": "2022-11-25T04:39:40.604875",
     "exception": false,
     "start_time": "2022-11-25T04:39:40.560245",
     "status": "completed"
    },
    "tags": []
   },
   "outputs": [
    {
     "data": {
      "text/html": [
       "<div>\n",
       "<style scoped>\n",
       "    .dataframe tbody tr th:only-of-type {\n",
       "        vertical-align: middle;\n",
       "    }\n",
       "\n",
       "    .dataframe tbody tr th {\n",
       "        vertical-align: top;\n",
       "    }\n",
       "\n",
       "    .dataframe thead th {\n",
       "        text-align: right;\n",
       "    }\n",
       "</style>\n",
       "<table border=\"1\" class=\"dataframe\">\n",
       "  <thead>\n",
       "    <tr style=\"text-align: right;\">\n",
       "      <th></th>\n",
       "      <th>ch_score</th>\n",
       "    </tr>\n",
       "    <tr>\n",
       "      <th>n_clusters</th>\n",
       "      <th></th>\n",
       "    </tr>\n",
       "  </thead>\n",
       "  <tbody>\n",
       "    <tr>\n",
       "      <th>2</th>\n",
       "      <td>51.390423</td>\n",
       "    </tr>\n",
       "    <tr>\n",
       "      <th>3</th>\n",
       "      <td>44.642754</td>\n",
       "    </tr>\n",
       "    <tr>\n",
       "      <th>4</th>\n",
       "      <td>44.847006</td>\n",
       "    </tr>\n",
       "    <tr>\n",
       "      <th>5</th>\n",
       "      <td>41.890963</td>\n",
       "    </tr>\n",
       "    <tr>\n",
       "      <th>6</th>\n",
       "      <td>41.279753</td>\n",
       "    </tr>\n",
       "    <tr>\n",
       "      <th>7</th>\n",
       "      <td>40.453813</td>\n",
       "    </tr>\n",
       "    <tr>\n",
       "      <th>8</th>\n",
       "      <td>37.076377</td>\n",
       "    </tr>\n",
       "    <tr>\n",
       "      <th>9</th>\n",
       "      <td>37.052797</td>\n",
       "    </tr>\n",
       "    <tr>\n",
       "      <th>10</th>\n",
       "      <td>35.414470</td>\n",
       "    </tr>\n",
       "    <tr>\n",
       "      <th>11</th>\n",
       "      <td>34.686767</td>\n",
       "    </tr>\n",
       "    <tr>\n",
       "      <th>12</th>\n",
       "      <td>33.242519</td>\n",
       "    </tr>\n",
       "    <tr>\n",
       "      <th>13</th>\n",
       "      <td>33.181142</td>\n",
       "    </tr>\n",
       "    <tr>\n",
       "      <th>14</th>\n",
       "      <td>31.502896</td>\n",
       "    </tr>\n",
       "    <tr>\n",
       "      <th>15</th>\n",
       "      <td>31.456259</td>\n",
       "    </tr>\n",
       "    <tr>\n",
       "      <th>16</th>\n",
       "      <td>29.511632</td>\n",
       "    </tr>\n",
       "    <tr>\n",
       "      <th>17</th>\n",
       "      <td>29.076867</td>\n",
       "    </tr>\n",
       "    <tr>\n",
       "      <th>18</th>\n",
       "      <td>28.902466</td>\n",
       "    </tr>\n",
       "    <tr>\n",
       "      <th>19</th>\n",
       "      <td>28.451333</td>\n",
       "    </tr>\n",
       "    <tr>\n",
       "      <th>20</th>\n",
       "      <td>27.104382</td>\n",
       "    </tr>\n",
       "    <tr>\n",
       "      <th>21</th>\n",
       "      <td>27.324415</td>\n",
       "    </tr>\n",
       "    <tr>\n",
       "      <th>22</th>\n",
       "      <td>26.036500</td>\n",
       "    </tr>\n",
       "    <tr>\n",
       "      <th>23</th>\n",
       "      <td>26.018490</td>\n",
       "    </tr>\n",
       "    <tr>\n",
       "      <th>24</th>\n",
       "      <td>25.662934</td>\n",
       "    </tr>\n",
       "    <tr>\n",
       "      <th>25</th>\n",
       "      <td>25.574735</td>\n",
       "    </tr>\n",
       "    <tr>\n",
       "      <th>26</th>\n",
       "      <td>25.001938</td>\n",
       "    </tr>\n",
       "    <tr>\n",
       "      <th>27</th>\n",
       "      <td>24.142176</td>\n",
       "    </tr>\n",
       "    <tr>\n",
       "      <th>28</th>\n",
       "      <td>24.148534</td>\n",
       "    </tr>\n",
       "    <tr>\n",
       "      <th>29</th>\n",
       "      <td>23.887593</td>\n",
       "    </tr>\n",
       "    <tr>\n",
       "      <th>30</th>\n",
       "      <td>23.011260</td>\n",
       "    </tr>\n",
       "    <tr>\n",
       "      <th>31</th>\n",
       "      <td>23.264132</td>\n",
       "    </tr>\n",
       "    <tr>\n",
       "      <th>32</th>\n",
       "      <td>22.614817</td>\n",
       "    </tr>\n",
       "    <tr>\n",
       "      <th>33</th>\n",
       "      <td>22.698949</td>\n",
       "    </tr>\n",
       "    <tr>\n",
       "      <th>34</th>\n",
       "      <td>22.046242</td>\n",
       "    </tr>\n",
       "    <tr>\n",
       "      <th>35</th>\n",
       "      <td>21.468385</td>\n",
       "    </tr>\n",
       "    <tr>\n",
       "      <th>36</th>\n",
       "      <td>21.765195</td>\n",
       "    </tr>\n",
       "    <tr>\n",
       "      <th>37</th>\n",
       "      <td>21.491108</td>\n",
       "    </tr>\n",
       "    <tr>\n",
       "      <th>38</th>\n",
       "      <td>21.295769</td>\n",
       "    </tr>\n",
       "    <tr>\n",
       "      <th>39</th>\n",
       "      <td>20.910216</td>\n",
       "    </tr>\n",
       "    <tr>\n",
       "      <th>40</th>\n",
       "      <td>20.590381</td>\n",
       "    </tr>\n",
       "    <tr>\n",
       "      <th>41</th>\n",
       "      <td>20.222396</td>\n",
       "    </tr>\n",
       "    <tr>\n",
       "      <th>42</th>\n",
       "      <td>20.330478</td>\n",
       "    </tr>\n",
       "    <tr>\n",
       "      <th>43</th>\n",
       "      <td>20.092384</td>\n",
       "    </tr>\n",
       "    <tr>\n",
       "      <th>44</th>\n",
       "      <td>19.596772</td>\n",
       "    </tr>\n",
       "    <tr>\n",
       "      <th>45</th>\n",
       "      <td>19.648158</td>\n",
       "    </tr>\n",
       "    <tr>\n",
       "      <th>46</th>\n",
       "      <td>19.299890</td>\n",
       "    </tr>\n",
       "    <tr>\n",
       "      <th>47</th>\n",
       "      <td>19.025201</td>\n",
       "    </tr>\n",
       "    <tr>\n",
       "      <th>48</th>\n",
       "      <td>18.922040</td>\n",
       "    </tr>\n",
       "    <tr>\n",
       "      <th>49</th>\n",
       "      <td>18.781690</td>\n",
       "    </tr>\n",
       "    <tr>\n",
       "      <th>50</th>\n",
       "      <td>18.714911</td>\n",
       "    </tr>\n",
       "    <tr>\n",
       "      <th>51</th>\n",
       "      <td>18.374379</td>\n",
       "    </tr>\n",
       "    <tr>\n",
       "      <th>52</th>\n",
       "      <td>18.295490</td>\n",
       "    </tr>\n",
       "    <tr>\n",
       "      <th>53</th>\n",
       "      <td>18.262530</td>\n",
       "    </tr>\n",
       "    <tr>\n",
       "      <th>54</th>\n",
       "      <td>18.012071</td>\n",
       "    </tr>\n",
       "    <tr>\n",
       "      <th>55</th>\n",
       "      <td>17.771982</td>\n",
       "    </tr>\n",
       "    <tr>\n",
       "      <th>56</th>\n",
       "      <td>17.913704</td>\n",
       "    </tr>\n",
       "    <tr>\n",
       "      <th>57</th>\n",
       "      <td>17.646668</td>\n",
       "    </tr>\n",
       "    <tr>\n",
       "      <th>58</th>\n",
       "      <td>17.420338</td>\n",
       "    </tr>\n",
       "    <tr>\n",
       "      <th>59</th>\n",
       "      <td>17.082594</td>\n",
       "    </tr>\n",
       "    <tr>\n",
       "      <th>60</th>\n",
       "      <td>17.160116</td>\n",
       "    </tr>\n",
       "  </tbody>\n",
       "</table>\n",
       "</div>"
      ],
      "text/plain": [
       "             ch_score\n",
       "n_clusters           \n",
       "2           51.390423\n",
       "3           44.642754\n",
       "4           44.847006\n",
       "5           41.890963\n",
       "6           41.279753\n",
       "7           40.453813\n",
       "8           37.076377\n",
       "9           37.052797\n",
       "10          35.414470\n",
       "11          34.686767\n",
       "12          33.242519\n",
       "13          33.181142\n",
       "14          31.502896\n",
       "15          31.456259\n",
       "16          29.511632\n",
       "17          29.076867\n",
       "18          28.902466\n",
       "19          28.451333\n",
       "20          27.104382\n",
       "21          27.324415\n",
       "22          26.036500\n",
       "23          26.018490\n",
       "24          25.662934\n",
       "25          25.574735\n",
       "26          25.001938\n",
       "27          24.142176\n",
       "28          24.148534\n",
       "29          23.887593\n",
       "30          23.011260\n",
       "31          23.264132\n",
       "32          22.614817\n",
       "33          22.698949\n",
       "34          22.046242\n",
       "35          21.468385\n",
       "36          21.765195\n",
       "37          21.491108\n",
       "38          21.295769\n",
       "39          20.910216\n",
       "40          20.590381\n",
       "41          20.222396\n",
       "42          20.330478\n",
       "43          20.092384\n",
       "44          19.596772\n",
       "45          19.648158\n",
       "46          19.299890\n",
       "47          19.025201\n",
       "48          18.922040\n",
       "49          18.781690\n",
       "50          18.714911\n",
       "51          18.374379\n",
       "52          18.295490\n",
       "53          18.262530\n",
       "54          18.012071\n",
       "55          17.771982\n",
       "56          17.913704\n",
       "57          17.646668\n",
       "58          17.420338\n",
       "59          17.082594\n",
       "60          17.160116"
      ]
     },
     "metadata": {},
     "output_type": "display_data"
    }
   ],
   "source": [
    "with pd.option_context(\"display.max_rows\", None, \"display.max_columns\", None):\n",
    "    _df = ensemble.groupby([\"n_clusters\"]).mean()\n",
    "    display(_df)"
   ]
  },
  {
   "cell_type": "code",
   "execution_count": 42,
   "id": "2e8401f9",
   "metadata": {
    "execution": {
     "iopub.execute_input": "2022-11-25T04:39:40.636119Z",
     "iopub.status.busy": "2022-11-25T04:39:40.635802Z",
     "iopub.status.idle": "2022-11-25T04:39:42.693884Z",
     "shell.execute_reply": "2022-11-25T04:39:42.693504Z"
    },
    "papermill": {
     "duration": 2.075488,
     "end_time": "2022-11-25T04:39:42.695604",
     "exception": false,
     "start_time": "2022-11-25T04:39:40.620116",
     "status": "completed"
    },
    "tags": []
   },
   "outputs": [
    {
     "data": {
      "image/png": "[encoded data removed]",
      "text/plain": [
       "<Figure size 1008x432 with 1 Axes>"
      ]
     },
     "metadata": {},
     "output_type": "display_data"
    }
   ],
   "source": [
    "with sns.plotting_context(\"talk\", font_scale=0.75), sns.axes_style(\n",
    "    \"whitegrid\", {\"grid.linestyle\": \"--\"}\n",
    "):\n",
    "    fig = plt.figure(figsize=(14, 6))\n",
    "    ax = sns.pointplot(data=ensemble, x=\"n_clusters\", y=\"ch_score\")\n",
    "    ax.set_ylabel(\"Calinski-Harabasz index\")\n",
    "    ax.set_xlabel(\"Number of clusters ($k$)\")\n",
    "    ax.set_xticklabels(ax.get_xticklabels(), rotation=45)\n",
    "    plt.grid(True)\n",
    "    plt.tight_layout()"
   ]
  },
  {
   "cell_type": "markdown",
   "id": "ad96a6f7",
   "metadata": {
    "papermill": {
     "duration": 0.029868,
     "end_time": "2022-11-25T04:39:42.756747",
     "exception": false,
     "start_time": "2022-11-25T04:39:42.726879",
     "status": "completed"
    },
    "tags": []
   },
   "source": [
    "# Stability"
   ]
  },
  {
   "cell_type": "markdown",
   "id": "ebda34fb",
   "metadata": {
    "papermill": {
     "duration": 0.015557,
     "end_time": "2022-11-25T04:39:42.797131",
     "exception": false,
     "start_time": "2022-11-25T04:39:42.781574",
     "status": "completed"
    },
    "tags": []
   },
   "source": [
    "## Group ensemble by n_clusters"
   ]
  },
  {
   "cell_type": "code",
   "execution_count": 43,
   "id": "dcb3f072",
   "metadata": {
    "execution": {
     "iopub.execute_input": "2022-11-25T04:39:42.829152Z",
     "iopub.status.busy": "2022-11-25T04:39:42.829045Z",
     "iopub.status.idle": "2022-11-25T04:39:42.862246Z",
     "shell.execute_reply": "2022-11-25T04:39:42.861841Z"
    },
    "papermill": {
     "duration": 0.050085,
     "end_time": "2022-11-25T04:39:42.862999",
     "exception": false,
     "start_time": "2022-11-25T04:39:42.812914",
     "status": "completed"
    },
    "tags": []
   },
   "outputs": [],
   "source": [
    "parts = ensemble.groupby(\"n_clusters\").apply(\n",
    "    lambda x: np.concatenate(x[\"partition\"].apply(lambda x: x.reshape(1, -1)), axis=0)\n",
    ")"
   ]
  },
  {
   "cell_type": "code",
   "execution_count": 44,
   "id": "2c092de9",
   "metadata": {
    "execution": {
     "iopub.execute_input": "2022-11-25T04:39:42.895179Z",
     "iopub.status.busy": "2022-11-25T04:39:42.894839Z",
     "iopub.status.idle": "2022-11-25T04:39:42.934913Z",
     "shell.execute_reply": "2022-11-25T04:39:42.934464Z"
    },
    "papermill": {
     "duration": 0.056971,
     "end_time": "2022-11-25T04:39:42.935663",
     "exception": false,
     "start_time": "2022-11-25T04:39:42.878692",
     "status": "completed"
    },
    "tags": []
   },
   "outputs": [
    {
     "data": {
      "text/plain": [
       "n_clusters\n",
       "2    [[0.0, 0.0, 0.0, 1.0, 0.0, 0.0, 1.0, 0.0, 1.0,...\n",
       "3    [[0.0, 2.0, 0.0, 1.0, 0.0, 2.0, 2.0, 1.0, 1.0,...\n",
       "4    [[2.0, 1.0, 1.0, 0.0, 2.0, 0.0, 1.0, 2.0, 0.0,...\n",
       "5    [[1.0, 2.0, 3.0, 2.0, 2.0, 2.0, 4.0, 3.0, 4.0,...\n",
       "6    [[3.0, 3.0, 1.0, 0.0, 5.0, 0.0, 5.0, 3.0, 1.0,...\n",
       "dtype: object"
      ]
     },
     "execution_count": 44,
     "metadata": {},
     "output_type": "execute_result"
    }
   ],
   "source": [
    "parts.head()"
   ]
  },
  {
   "cell_type": "code",
   "execution_count": 45,
   "id": "333b00e2",
   "metadata": {
    "execution": {
     "iopub.execute_input": "2022-11-25T04:39:42.968404Z",
     "iopub.status.busy": "2022-11-25T04:39:42.967992Z",
     "iopub.status.idle": "2022-11-25T04:39:42.989504Z",
     "shell.execute_reply": "2022-11-25T04:39:42.989103Z"
    },
    "papermill": {
     "duration": 0.038703,
     "end_time": "2022-11-25T04:39:42.990283",
     "exception": false,
     "start_time": "2022-11-25T04:39:42.951580",
     "status": "completed"
    },
    "tags": []
   },
   "outputs": [],
   "source": [
    "assert np.all(\n",
    "    [\n",
    "        parts.loc[k].shape == (CLUSTERING_OPTIONS[\"N_REPS_PER_K\"], data.shape[0])\n",
    "        for k in parts.index\n",
    "    ]\n",
    ")"
   ]
  },
  {
   "cell_type": "markdown",
   "id": "095d2636",
   "metadata": {
    "papermill": {
     "duration": 0.015672,
     "end_time": "2022-11-25T04:39:43.021745",
     "exception": false,
     "start_time": "2022-11-25T04:39:43.006073",
     "status": "completed"
    },
    "tags": []
   },
   "source": [
    "## Compute stability"
   ]
  },
  {
   "cell_type": "code",
   "execution_count": 46,
   "id": "3d445916",
   "metadata": {
    "execution": {
     "iopub.execute_input": "2022-11-25T04:39:43.054074Z",
     "iopub.status.busy": "2022-11-25T04:39:43.053921Z",
     "iopub.status.idle": "2022-11-25T04:39:43.073405Z",
     "shell.execute_reply": "2022-11-25T04:39:43.072960Z"
    },
    "papermill": {
     "duration": 0.03668,
     "end_time": "2022-11-25T04:39:43.074163",
     "exception": false,
     "start_time": "2022-11-25T04:39:43.037483",
     "status": "completed"
    },
    "tags": []
   },
   "outputs": [],
   "source": [
    "from sklearn.metrics import adjusted_rand_score as ari\n",
    "from scipy.spatial.distance import pdist"
   ]
  },
  {
   "cell_type": "code",
   "execution_count": 47,
   "id": "811147a2",
   "metadata": {
    "execution": {
     "iopub.execute_input": "2022-11-25T04:39:43.106833Z",
     "iopub.status.busy": "2022-11-25T04:39:43.106411Z",
     "iopub.status.idle": "2022-11-25T04:39:43.764152Z",
     "shell.execute_reply": "2022-11-25T04:39:43.763764Z"
    },
    "papermill": {
     "duration": 0.675396,
     "end_time": "2022-11-25T04:39:43.765431",
     "exception": false,
     "start_time": "2022-11-25T04:39:43.090035",
     "status": "completed"
    },
    "tags": []
   },
   "outputs": [],
   "source": [
    "parts_ari = pd.Series(\n",
    "    {k: pdist(parts.loc[k], metric=ari) for k in parts.index}, name=\"k\"\n",
    ")"
   ]
  },
  {
   "cell_type": "code",
   "execution_count": 48,
   "id": "ed8f6763",
   "metadata": {
    "execution": {
     "iopub.execute_input": "2022-11-25T04:39:43.800448Z",
     "iopub.status.busy": "2022-11-25T04:39:43.800211Z",
     "iopub.status.idle": "2022-11-25T04:39:43.814408Z",
     "shell.execute_reply": "2022-11-25T04:39:43.814129Z"
    },
    "papermill": {
     "duration": 0.031279,
     "end_time": "2022-11-25T04:39:43.815103",
     "exception": false,
     "start_time": "2022-11-25T04:39:43.783824",
     "status": "completed"
    },
    "tags": []
   },
   "outputs": [
    {
     "data": {
      "text/plain": [
       "2     0.058175\n",
       "6     0.041535\n",
       "5     0.040252\n",
       "43    0.039635\n",
       "39    0.039365\n",
       "47    0.038922\n",
       "50    0.038796\n",
       "55    0.037913\n",
       "51    0.037884\n",
       "42    0.037654\n",
       "32    0.037452\n",
       "28    0.037416\n",
       "52    0.037280\n",
       "45    0.036823\n",
       "49    0.036749\n",
       "Name: k, dtype: float64"
      ]
     },
     "metadata": {},
     "output_type": "display_data"
    }
   ],
   "source": [
    "parts_ari_stability = parts_ari.apply(lambda x: x.mean())\n",
    "display(parts_ari_stability.sort_values(ascending=False).head(15))"
   ]
  },
  {
   "cell_type": "code",
   "execution_count": 49,
   "id": "b82588a0",
   "metadata": {
    "execution": {
     "iopub.execute_input": "2022-11-25T04:39:43.848230Z",
     "iopub.status.busy": "2022-11-25T04:39:43.847717Z",
     "iopub.status.idle": "2022-11-25T04:39:43.869603Z",
     "shell.execute_reply": "2022-11-25T04:39:43.869214Z"
    },
    "papermill": {
     "duration": 0.039291,
     "end_time": "2022-11-25T04:39:43.870336",
     "exception": false,
     "start_time": "2022-11-25T04:39:43.831045",
     "status": "completed"
    },
    "tags": []
   },
   "outputs": [],
   "source": [
    "parts_ari_df = pd.DataFrame.from_records(parts_ari.tolist()).set_index(\n",
    "    parts_ari.index.copy()\n",
    ")"
   ]
  },
  {
   "cell_type": "code",
   "execution_count": 50,
   "id": "d13e8ba5",
   "metadata": {
    "execution": {
     "iopub.execute_input": "2022-11-25T04:39:43.903927Z",
     "iopub.status.busy": "2022-11-25T04:39:43.903509Z",
     "iopub.status.idle": "2022-11-25T04:39:43.923802Z",
     "shell.execute_reply": "2022-11-25T04:39:43.923432Z"
    },
    "papermill": {
     "duration": 0.037374,
     "end_time": "2022-11-25T04:39:43.924543",
     "exception": false,
     "start_time": "2022-11-25T04:39:43.887169",
     "status": "completed"
    },
    "tags": []
   },
   "outputs": [
    {
     "data": {
      "text/plain": [
       "(59, 10)"
      ]
     },
     "execution_count": 50,
     "metadata": {},
     "output_type": "execute_result"
    }
   ],
   "source": [
    "parts_ari_df.shape"
   ]
  },
  {
   "cell_type": "code",
   "execution_count": 51,
   "id": "d399ee5e",
   "metadata": {
    "execution": {
     "iopub.execute_input": "2022-11-25T04:39:43.957214Z",
     "iopub.status.busy": "2022-11-25T04:39:43.956823Z",
     "iopub.status.idle": "2022-11-25T04:39:43.976592Z",
     "shell.execute_reply": "2022-11-25T04:39:43.976208Z"
    },
    "papermill": {
     "duration": 0.036966,
     "end_time": "2022-11-25T04:39:43.977426",
     "exception": false,
     "start_time": "2022-11-25T04:39:43.940460",
     "status": "completed"
    },
    "tags": []
   },
   "outputs": [],
   "source": [
    "assert (\n",
    "    int(\n",
    "        (CLUSTERING_OPTIONS[\"N_REPS_PER_K\"] * (CLUSTERING_OPTIONS[\"N_REPS_PER_K\"] - 1))\n",
    "        / 2\n",
    "    )\n",
    "    == parts_ari_df.shape[1]\n",
    ")"
   ]
  },
  {
   "cell_type": "code",
   "execution_count": 52,
   "id": "413bb5c4",
   "metadata": {
    "execution": {
     "iopub.execute_input": "2022-11-25T04:39:44.010085Z",
     "iopub.status.busy": "2022-11-25T04:39:44.009738Z",
     "iopub.status.idle": "2022-11-25T04:39:44.038006Z",
     "shell.execute_reply": "2022-11-25T04:39:44.037571Z"
    },
    "papermill": {
     "duration": 0.04566,
     "end_time": "2022-11-25T04:39:44.039045",
     "exception": false,
     "start_time": "2022-11-25T04:39:43.993385",
     "status": "completed"
    },
    "tags": []
   },
   "outputs": [
    {
     "data": {
      "text/html": [
       "<div>\n",
       "<style scoped>\n",
       "    .dataframe tbody tr th:only-of-type {\n",
       "        vertical-align: middle;\n",
       "    }\n",
       "\n",
       "    .dataframe tbody tr th {\n",
       "        vertical-align: top;\n",
       "    }\n",
       "\n",
       "    .dataframe thead th {\n",
       "        text-align: right;\n",
       "    }\n",
       "</style>\n",
       "<table border=\"1\" class=\"dataframe\">\n",
       "  <thead>\n",
       "    <tr style=\"text-align: right;\">\n",
       "      <th></th>\n",
       "      <th>0</th>\n",
       "      <th>1</th>\n",
       "      <th>2</th>\n",
       "      <th>3</th>\n",
       "      <th>4</th>\n",
       "      <th>5</th>\n",
       "      <th>6</th>\n",
       "      <th>7</th>\n",
       "      <th>8</th>\n",
       "      <th>9</th>\n",
       "    </tr>\n",
       "  </thead>\n",
       "  <tbody>\n",
       "    <tr>\n",
       "      <th>2</th>\n",
       "      <td>0.032396</td>\n",
       "      <td>0.019392</td>\n",
       "      <td>0.039701</td>\n",
       "      <td>0.000532</td>\n",
       "      <td>0.152857</td>\n",
       "      <td>0.128846</td>\n",
       "      <td>0.036568</td>\n",
       "      <td>0.008142</td>\n",
       "      <td>0.007947</td>\n",
       "      <td>0.155371</td>\n",
       "    </tr>\n",
       "    <tr>\n",
       "      <th>3</th>\n",
       "      <td>0.014301</td>\n",
       "      <td>0.021429</td>\n",
       "      <td>0.000044</td>\n",
       "      <td>0.045033</td>\n",
       "      <td>0.062288</td>\n",
       "      <td>0.005403</td>\n",
       "      <td>0.023166</td>\n",
       "      <td>0.000077</td>\n",
       "      <td>0.007844</td>\n",
       "      <td>-0.000082</td>\n",
       "    </tr>\n",
       "    <tr>\n",
       "      <th>4</th>\n",
       "      <td>0.026625</td>\n",
       "      <td>0.005191</td>\n",
       "      <td>0.028640</td>\n",
       "      <td>0.011491</td>\n",
       "      <td>0.053738</td>\n",
       "      <td>0.032759</td>\n",
       "      <td>0.032008</td>\n",
       "      <td>0.023144</td>\n",
       "      <td>0.017340</td>\n",
       "      <td>0.029470</td>\n",
       "    </tr>\n",
       "    <tr>\n",
       "      <th>5</th>\n",
       "      <td>0.011703</td>\n",
       "      <td>0.055995</td>\n",
       "      <td>0.091938</td>\n",
       "      <td>0.044711</td>\n",
       "      <td>0.023122</td>\n",
       "      <td>0.019280</td>\n",
       "      <td>0.036836</td>\n",
       "      <td>0.031537</td>\n",
       "      <td>0.050287</td>\n",
       "      <td>0.037106</td>\n",
       "    </tr>\n",
       "    <tr>\n",
       "      <th>6</th>\n",
       "      <td>0.045270</td>\n",
       "      <td>0.023900</td>\n",
       "      <td>0.025620</td>\n",
       "      <td>0.040671</td>\n",
       "      <td>0.041400</td>\n",
       "      <td>0.016478</td>\n",
       "      <td>0.063322</td>\n",
       "      <td>0.072750</td>\n",
       "      <td>0.045915</td>\n",
       "      <td>0.040021</td>\n",
       "    </tr>\n",
       "  </tbody>\n",
       "</table>\n",
       "</div>"
      ],
      "text/plain": [
       "          0         1         2         3         4         5         6  \\\n",
       "2  0.032396  0.019392  0.039701  0.000532  0.152857  0.128846  0.036568   \n",
       "3  0.014301  0.021429  0.000044  0.045033  0.062288  0.005403  0.023166   \n",
       "4  0.026625  0.005191  0.028640  0.011491  0.053738  0.032759  0.032008   \n",
       "5  0.011703  0.055995  0.091938  0.044711  0.023122  0.019280  0.036836   \n",
       "6  0.045270  0.023900  0.025620  0.040671  0.041400  0.016478  0.063322   \n",
       "\n",
       "          7         8         9  \n",
       "2  0.008142  0.007947  0.155371  \n",
       "3  0.000077  0.007844 -0.000082  \n",
       "4  0.023144  0.017340  0.029470  \n",
       "5  0.031537  0.050287  0.037106  \n",
       "6  0.072750  0.045915  0.040021  "
      ]
     },
     "execution_count": 52,
     "metadata": {},
     "output_type": "execute_result"
    }
   ],
   "source": [
    "parts_ari_df.head()"
   ]
  },
  {
   "cell_type": "markdown",
   "id": "11a377d6",
   "metadata": {
    "papermill": {
     "duration": 0.028122,
     "end_time": "2022-11-25T04:39:44.097801",
     "exception": false,
     "start_time": "2022-11-25T04:39:44.069679",
     "status": "completed"
    },
    "tags": []
   },
   "source": [
    "## Save"
   ]
  },
  {
   "cell_type": "code",
   "execution_count": 53,
   "id": "651dd5d8",
   "metadata": {
    "execution": {
     "iopub.execute_input": "2022-11-25T04:39:44.130547Z",
     "iopub.status.busy": "2022-11-25T04:39:44.130125Z",
     "iopub.status.idle": "2022-11-25T04:39:44.151033Z",
     "shell.execute_reply": "2022-11-25T04:39:44.150656Z"
    },
    "papermill": {
     "duration": 0.038041,
     "end_time": "2022-11-25T04:39:44.151759",
     "exception": false,
     "start_time": "2022-11-25T04:39:44.113718",
     "status": "completed"
    },
    "tags": []
   },
   "outputs": [
    {
     "data": {
      "text/plain": [
       "PosixPath('/opt/data/results/clustering/null_sims/shuffle_genes/runs/pca-z_score_std-projection-smultixcan-efo_partial-mashr-zscores/KMeans-stability-KMEANS_N_INIT_10-K_MAX_60-K_MIN_2-N_REPS_PER_K_5.pkl')"
      ]
     },
     "metadata": {},
     "output_type": "display_data"
    }
   ],
   "source": [
    "output_filename = Path(\n",
    "    RESULTS_DIR,\n",
    "    generate_result_set_name(\n",
    "        CLUSTERING_OPTIONS,\n",
    "        prefix=f\"{clustering_method_name}-stability-\",\n",
    "        suffix=\".pkl\",\n",
    "    ),\n",
    ").resolve()\n",
    "display(output_filename)"
   ]
  },
  {
   "cell_type": "code",
   "execution_count": 54,
   "id": "b86f406a",
   "metadata": {
    "execution": {
     "iopub.execute_input": "2022-11-25T04:39:44.184494Z",
     "iopub.status.busy": "2022-11-25T04:39:44.184329Z",
     "iopub.status.idle": "2022-11-25T04:39:44.204279Z",
     "shell.execute_reply": "2022-11-25T04:39:44.203899Z"
    },
    "papermill": {
     "duration": 0.037301,
     "end_time": "2022-11-25T04:39:44.205045",
     "exception": false,
     "start_time": "2022-11-25T04:39:44.167744",
     "status": "completed"
    },
    "tags": []
   },
   "outputs": [],
   "source": [
    "parts_ari_df.to_pickle(output_filename)"
   ]
  },
  {
   "cell_type": "markdown",
   "id": "24eab686",
   "metadata": {
    "papermill": {
     "duration": 0.015916,
     "end_time": "2022-11-25T04:39:44.236998",
     "exception": false,
     "start_time": "2022-11-25T04:39:44.221082",
     "status": "completed"
    },
    "tags": []
   },
   "source": [
    "## Stability plot"
   ]
  },
  {
   "cell_type": "code",
   "execution_count": 55,
   "id": "a4c60d16",
   "metadata": {
    "execution": {
     "iopub.execute_input": "2022-11-25T04:39:44.269731Z",
     "iopub.status.busy": "2022-11-25T04:39:44.269409Z",
     "iopub.status.idle": "2022-11-25T04:39:44.291244Z",
     "shell.execute_reply": "2022-11-25T04:39:44.290848Z"
    },
    "papermill": {
     "duration": 0.039029,
     "end_time": "2022-11-25T04:39:44.291974",
     "exception": false,
     "start_time": "2022-11-25T04:39:44.252945",
     "status": "completed"
    },
    "tags": []
   },
   "outputs": [],
   "source": [
    "parts_ari_df_plot = (\n",
    "    parts_ari_df.stack()\n",
    "    .reset_index()\n",
    "    .rename(columns={\"level_0\": \"k\", \"level_1\": \"idx\", 0: \"ari\"})\n",
    ")"
   ]
  },
  {
   "cell_type": "code",
   "execution_count": 56,
   "id": "22d4eedd",
   "metadata": {
    "execution": {
     "iopub.execute_input": "2022-11-25T04:39:44.324790Z",
     "iopub.status.busy": "2022-11-25T04:39:44.324620Z",
     "iopub.status.idle": "2022-11-25T04:39:44.346761Z",
     "shell.execute_reply": "2022-11-25T04:39:44.346390Z"
    },
    "papermill": {
     "duration": 0.039424,
     "end_time": "2022-11-25T04:39:44.347521",
     "exception": false,
     "start_time": "2022-11-25T04:39:44.308097",
     "status": "completed"
    },
    "tags": []
   },
   "outputs": [
    {
     "data": {
      "text/plain": [
       "k        int64\n",
       "idx      int64\n",
       "ari    float64\n",
       "dtype: object"
      ]
     },
     "execution_count": 56,
     "metadata": {},
     "output_type": "execute_result"
    }
   ],
   "source": [
    "parts_ari_df_plot.dtypes"
   ]
  },
  {
   "cell_type": "code",
   "execution_count": 57,
   "id": "b61db861",
   "metadata": {
    "execution": {
     "iopub.execute_input": "2022-11-25T04:39:44.380697Z",
     "iopub.status.busy": "2022-11-25T04:39:44.380267Z",
     "iopub.status.idle": "2022-11-25T04:39:44.403181Z",
     "shell.execute_reply": "2022-11-25T04:39:44.402750Z"
    },
    "papermill": {
     "duration": 0.040285,
     "end_time": "2022-11-25T04:39:44.403937",
     "exception": false,
     "start_time": "2022-11-25T04:39:44.363652",
     "status": "completed"
    },
    "tags": []
   },
   "outputs": [
    {
     "data": {
      "text/html": [
       "<div>\n",
       "<style scoped>\n",
       "    .dataframe tbody tr th:only-of-type {\n",
       "        vertical-align: middle;\n",
       "    }\n",
       "\n",
       "    .dataframe tbody tr th {\n",
       "        vertical-align: top;\n",
       "    }\n",
       "\n",
       "    .dataframe thead th {\n",
       "        text-align: right;\n",
       "    }\n",
       "</style>\n",
       "<table border=\"1\" class=\"dataframe\">\n",
       "  <thead>\n",
       "    <tr style=\"text-align: right;\">\n",
       "      <th></th>\n",
       "      <th>k</th>\n",
       "      <th>idx</th>\n",
       "      <th>ari</th>\n",
       "    </tr>\n",
       "  </thead>\n",
       "  <tbody>\n",
       "    <tr>\n",
       "      <th>0</th>\n",
       "      <td>2</td>\n",
       "      <td>0</td>\n",
       "      <td>0.032396</td>\n",
       "    </tr>\n",
       "    <tr>\n",
       "      <th>1</th>\n",
       "      <td>2</td>\n",
       "      <td>1</td>\n",
       "      <td>0.019392</td>\n",
       "    </tr>\n",
       "    <tr>\n",
       "      <th>2</th>\n",
       "      <td>2</td>\n",
       "      <td>2</td>\n",
       "      <td>0.039701</td>\n",
       "    </tr>\n",
       "    <tr>\n",
       "      <th>3</th>\n",
       "      <td>2</td>\n",
       "      <td>3</td>\n",
       "      <td>0.000532</td>\n",
       "    </tr>\n",
       "    <tr>\n",
       "      <th>4</th>\n",
       "      <td>2</td>\n",
       "      <td>4</td>\n",
       "      <td>0.152857</td>\n",
       "    </tr>\n",
       "  </tbody>\n",
       "</table>\n",
       "</div>"
      ],
      "text/plain": [
       "   k  idx       ari\n",
       "0  2    0  0.032396\n",
       "1  2    1  0.019392\n",
       "2  2    2  0.039701\n",
       "3  2    3  0.000532\n",
       "4  2    4  0.152857"
      ]
     },
     "execution_count": 57,
     "metadata": {},
     "output_type": "execute_result"
    }
   ],
   "source": [
    "parts_ari_df_plot.head()"
   ]
  },
  {
   "cell_type": "code",
   "execution_count": 58,
   "id": "31bbf280",
   "metadata": {
    "execution": {
     "iopub.execute_input": "2022-11-25T04:39:44.437082Z",
     "iopub.status.busy": "2022-11-25T04:39:44.436911Z",
     "iopub.status.idle": "2022-11-25T04:39:46.329169Z",
     "shell.execute_reply": "2022-11-25T04:39:46.328807Z"
    },
    "papermill": {
     "duration": 1.910856,
     "end_time": "2022-11-25T04:39:46.330971",
     "exception": false,
     "start_time": "2022-11-25T04:39:44.420115",
     "status": "completed"
    },
    "tags": []
   },
   "outputs": [
    {
     "data": {
      "image/png": "[encoded data removed]",
      "text/plain": [
       "<Figure size 1008x432 with 1 Axes>"
      ]
     },
     "metadata": {},
     "output_type": "display_data"
    }
   ],
   "source": [
    "# with sns.axes_style('whitegrid', {'grid.linestyle': '--'}):\n",
    "with sns.plotting_context(\"talk\", font_scale=0.75), sns.axes_style(\n",
    "    \"whitegrid\", {\"grid.linestyle\": \"--\"}\n",
    "):\n",
    "    fig = plt.figure(figsize=(14, 6))\n",
    "    ax = sns.pointplot(data=parts_ari_df_plot, x=\"k\", y=\"ari\")\n",
    "    ax.set_ylabel(\"Averange ARI\")\n",
    "    ax.set_xlabel(\"Number of clusters ($k$)\")\n",
    "    ax.set_xticklabels(ax.get_xticklabels(), rotation=45)\n",
    "    #     ax.set_ylim(0.0, 1.0)\n",
    "    #     ax.set_xlim(CLUSTERING_OPTIONS['K_MIN'], CLUSTERING_OPTIONS['K_MAX'])\n",
    "    plt.grid(True)\n",
    "    plt.tight_layout()"
   ]
  },
  {
   "cell_type": "code",
   "execution_count": null,
   "id": "c6919485",
   "metadata": {
    "papermill": {
     "duration": 0.031916,
     "end_time": "2022-11-25T04:39:46.395815",
     "exception": false,
     "start_time": "2022-11-25T04:39:46.363899",
     "status": "completed"
    },
    "tags": []
   },
   "outputs": [],
   "source": []
  }
 ],
 "metadata": {
  "jupytext": {
   "cell_metadata_filter": "all,-execution,-papermill,-trusted",
   "formats": "ipynb,py//py:percent"
  },
  "kernelspec": {
   "display_name": "Python 3 (ipykernel)",
   "language": "python",
   "name": "python3"
  },
  "language_info": {
   "codemirror_mode": {
    "name": "ipython",
    "version": 3
   },
   "file_extension": ".py",
   "mimetype": "text/x-python",
   "name": "python",
   "nbconvert_exporter": "python",
   "pygments_lexer": "ipython3",
   "version": "3.8.13"
  },
  "papermill": {
   "default_parameters": {},
   "duration": 120.166105,
   "end_time": "2022-11-25T04:39:46.735985",
   "environment_variables": {},
   "exception": null,
   "input_path": "nbs/13.1_cluster_analysis_null/00-shuffle_genes/10_01-kmeans-pca.ipynb",
   "output_path": "nbs/13.1_cluster_analysis_null/00-shuffle_genes/10_01-kmeans-pca.run.ipynb",
   "parameters": {},
   "start_time": "2022-11-25T04:37:46.569880",
   "version": "2.2.2"
  },
  "toc-autonumbering": true,
  "toc-showcode": false,
  "toc-showmarkdowntxt": false,
  "toc-showtags": false
 },
 "nbformat": 4,
 "nbformat_minor": 5
}
