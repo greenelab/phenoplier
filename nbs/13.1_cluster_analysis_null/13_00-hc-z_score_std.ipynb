{
 "cells": [
  {
   "cell_type": "markdown",
   "id": "68fbe0d0",
   "metadata": {
    "papermill": {
     "duration": 0.021587,
     "end_time": "2022-09-12T10:32:30.722624",
     "exception": false,
     "start_time": "2022-09-12T10:32:30.701037",
     "status": "completed"
    },
    "tags": []
   },
   "source": [
    "# Description"
   ]
  },
  {
   "cell_type": "markdown",
   "id": "a8bfa51b",
   "metadata": {
    "papermill": {
     "duration": 0.007806,
     "end_time": "2022-09-12T10:32:30.745103",
     "exception": false,
     "start_time": "2022-09-12T10:32:30.737297",
     "status": "completed"
    },
    "tags": []
   },
   "source": [
    "Runs hierarchical clustering on the z_score_std version of the data."
   ]
  },
  {
   "cell_type": "markdown",
   "id": "2215b13c",
   "metadata": {
    "papermill": {
     "duration": 0.004867,
     "end_time": "2022-09-12T10:32:30.757512",
     "exception": false,
     "start_time": "2022-09-12T10:32:30.752645",
     "status": "completed"
    },
    "tags": []
   },
   "source": [
    "# Environment variables"
   ]
  },
  {
   "cell_type": "code",
   "execution_count": 1,
   "id": "ba7c8bd5",
   "metadata": {
    "execution": {
     "iopub.execute_input": "2022-09-12T10:32:30.767318Z",
     "iopub.status.busy": "2022-09-12T10:32:30.767064Z",
     "iopub.status.idle": "2022-09-12T10:32:30.782333Z",
     "shell.execute_reply": "2022-09-12T10:32:30.781750Z"
    },
    "papermill": {
     "duration": 0.021832,
     "end_time": "2022-09-12T10:32:30.783827",
     "exception": false,
     "start_time": "2022-09-12T10:32:30.761995",
     "status": "completed"
    },
    "tags": []
   },
   "outputs": [
    {
     "data": {
      "text/plain": [
       "3"
      ]
     },
     "metadata": {},
     "output_type": "display_data"
    }
   ],
   "source": [
    "from IPython.display import display\n",
    "\n",
    "import conf\n",
    "\n",
    "N_JOBS = conf.GENERAL[\"N_JOBS\"]\n",
    "display(N_JOBS)"
   ]
  },
  {
   "cell_type": "code",
   "execution_count": 2,
   "id": "6e9e2996",
   "metadata": {
    "execution": {
     "iopub.execute_input": "2022-09-12T10:32:30.793969Z",
     "iopub.status.busy": "2022-09-12T10:32:30.793789Z",
     "iopub.status.idle": "2022-09-12T10:32:30.799105Z",
     "shell.execute_reply": "2022-09-12T10:32:30.798718Z"
    },
    "papermill": {
     "duration": 0.011781,
     "end_time": "2022-09-12T10:32:30.800344",
     "exception": false,
     "start_time": "2022-09-12T10:32:30.788563",
     "status": "completed"
    },
    "tags": []
   },
   "outputs": [
    {
     "name": "stdout",
     "output_type": "stream",
     "text": [
      "env: MKL_NUM_THREADS=3\n",
      "env: OPEN_BLAS_NUM_THREADS=3\n",
      "env: NUMEXPR_NUM_THREADS=3\n",
      "env: OMP_NUM_THREADS=3\n"
     ]
    }
   ],
   "source": [
    "%env MKL_NUM_THREADS=$N_JOBS\n",
    "%env OPEN_BLAS_NUM_THREADS=$N_JOBS\n",
    "%env NUMEXPR_NUM_THREADS=$N_JOBS\n",
    "%env OMP_NUM_THREADS=$N_JOBS"
   ]
  },
  {
   "cell_type": "markdown",
   "id": "e4902098",
   "metadata": {
    "papermill": {
     "duration": 0.004477,
     "end_time": "2022-09-12T10:32:30.809634",
     "exception": false,
     "start_time": "2022-09-12T10:32:30.805157",
     "status": "completed"
    },
    "tags": []
   },
   "source": [
    "# Modules loading"
   ]
  },
  {
   "cell_type": "code",
   "execution_count": 3,
   "id": "ff49a3fd",
   "metadata": {
    "execution": {
     "iopub.execute_input": "2022-09-12T10:32:30.819685Z",
     "iopub.status.busy": "2022-09-12T10:32:30.819527Z",
     "iopub.status.idle": "2022-09-12T10:32:30.832560Z",
     "shell.execute_reply": "2022-09-12T10:32:30.832061Z"
    },
    "papermill": {
     "duration": 0.019688,
     "end_time": "2022-09-12T10:32:30.833868",
     "exception": false,
     "start_time": "2022-09-12T10:32:30.814180",
     "status": "completed"
    },
    "tags": []
   },
   "outputs": [],
   "source": [
    "%load_ext autoreload\n",
    "%autoreload 2"
   ]
  },
  {
   "cell_type": "code",
   "execution_count": 4,
   "id": "b6179936",
   "metadata": {
    "execution": {
     "iopub.execute_input": "2022-09-12T10:32:30.844430Z",
     "iopub.status.busy": "2022-09-12T10:32:30.844268Z",
     "iopub.status.idle": "2022-09-12T10:32:31.097908Z",
     "shell.execute_reply": "2022-09-12T10:32:31.097456Z"
    },
    "papermill": {
     "duration": 0.260566,
     "end_time": "2022-09-12T10:32:31.099298",
     "exception": false,
     "start_time": "2022-09-12T10:32:30.838732",
     "status": "completed"
    },
    "tags": []
   },
   "outputs": [],
   "source": [
    "from pathlib import Path\n",
    "\n",
    "import numpy as np\n",
    "import pandas as pd\n",
    "\n",
    "from utils import generate_result_set_name"
   ]
  },
  {
   "cell_type": "markdown",
   "id": "8bb5b886",
   "metadata": {
    "papermill": {
     "duration": 0.004768,
     "end_time": "2022-09-12T10:32:31.109176",
     "exception": false,
     "start_time": "2022-09-12T10:32:31.104408",
     "status": "completed"
    },
    "tags": []
   },
   "source": [
    "# Settings"
   ]
  },
  {
   "cell_type": "code",
   "execution_count": 5,
   "id": "998be2be",
   "metadata": {
    "execution": {
     "iopub.execute_input": "2022-09-12T10:32:31.119421Z",
     "iopub.status.busy": "2022-09-12T10:32:31.119166Z",
     "iopub.status.idle": "2022-09-12T10:32:31.131608Z",
     "shell.execute_reply": "2022-09-12T10:32:31.131127Z"
    },
    "papermill": {
     "duration": 0.018996,
     "end_time": "2022-09-12T10:32:31.132868",
     "exception": false,
     "start_time": "2022-09-12T10:32:31.113872",
     "status": "completed"
    },
    "tags": []
   },
   "outputs": [],
   "source": [
    "np.random.seed(0)"
   ]
  },
  {
   "cell_type": "markdown",
   "id": "ab0c12ad",
   "metadata": {
    "papermill": {
     "duration": 0.004602,
     "end_time": "2022-09-12T10:32:31.142496",
     "exception": false,
     "start_time": "2022-09-12T10:32:31.137894",
     "status": "completed"
    },
    "tags": []
   },
   "source": [
    "## Input data"
   ]
  },
  {
   "cell_type": "code",
   "execution_count": 6,
   "id": "486fc495",
   "metadata": {
    "execution": {
     "iopub.execute_input": "2022-09-12T10:32:31.153105Z",
     "iopub.status.busy": "2022-09-12T10:32:31.152636Z",
     "iopub.status.idle": "2022-09-12T10:32:31.164981Z",
     "shell.execute_reply": "2022-09-12T10:32:31.164361Z"
    },
    "papermill": {
     "duration": 0.018998,
     "end_time": "2022-09-12T10:32:31.166244",
     "exception": false,
     "start_time": "2022-09-12T10:32:31.147246",
     "status": "completed"
    },
    "tags": []
   },
   "outputs": [],
   "source": [
    "INPUT_SUBSET = \"z_score_std\""
   ]
  },
  {
   "cell_type": "code",
   "execution_count": 7,
   "id": "708d3403",
   "metadata": {
    "execution": {
     "iopub.execute_input": "2022-09-12T10:32:31.176829Z",
     "iopub.status.busy": "2022-09-12T10:32:31.176663Z",
     "iopub.status.idle": "2022-09-12T10:32:31.189564Z",
     "shell.execute_reply": "2022-09-12T10:32:31.188901Z"
    },
    "papermill": {
     "duration": 0.019706,
     "end_time": "2022-09-12T10:32:31.190942",
     "exception": false,
     "start_time": "2022-09-12T10:32:31.171236",
     "status": "completed"
    },
    "tags": []
   },
   "outputs": [],
   "source": [
    "INPUT_STEM = \"projection-smultixcan-efo_partial-mashr-zscores\""
   ]
  },
  {
   "cell_type": "code",
   "execution_count": 8,
   "id": "5efd00a3",
   "metadata": {
    "execution": {
     "iopub.execute_input": "2022-09-12T10:32:31.201796Z",
     "iopub.status.busy": "2022-09-12T10:32:31.201632Z",
     "iopub.status.idle": "2022-09-12T10:32:31.216593Z",
     "shell.execute_reply": "2022-09-12T10:32:31.216044Z"
    },
    "papermill": {
     "duration": 0.021716,
     "end_time": "2022-09-12T10:32:31.217798",
     "exception": false,
     "start_time": "2022-09-12T10:32:31.196082",
     "status": "completed"
    },
    "tags": []
   },
   "outputs": [
    {
     "data": {
      "text/plain": [
       "PosixPath('/opt/data/results/clustering/null_sims/data_transformations/z_score_std/z_score_std-projection-smultixcan-efo_partial-mashr-zscores.pkl')"
      ]
     },
     "metadata": {},
     "output_type": "display_data"
    },
    {
     "data": {
      "text/plain": [
       "'z_score_std-projection-smultixcan-efo_partial-mashr-zscores'"
      ]
     },
     "metadata": {},
     "output_type": "display_data"
    }
   ],
   "source": [
    "input_filepath = Path(\n",
    "    conf.RESULTS[\"CLUSTERING_NULL_DIR\"],\n",
    "    \"data_transformations\",\n",
    "    INPUT_SUBSET,\n",
    "    f\"{INPUT_SUBSET}-{INPUT_STEM}.pkl\",\n",
    ").resolve()\n",
    "display(input_filepath)\n",
    "\n",
    "assert input_filepath.exists(), \"Input file does not exist\"\n",
    "\n",
    "input_filepath_stem = input_filepath.stem\n",
    "display(input_filepath_stem)"
   ]
  },
  {
   "cell_type": "markdown",
   "id": "f380a980",
   "metadata": {
    "papermill": {
     "duration": 0.004999,
     "end_time": "2022-09-12T10:32:31.228094",
     "exception": false,
     "start_time": "2022-09-12T10:32:31.223095",
     "status": "completed"
    },
    "tags": []
   },
   "source": [
    "## Clustering"
   ]
  },
  {
   "cell_type": "code",
   "execution_count": 9,
   "id": "87788b76",
   "metadata": {
    "execution": {
     "iopub.execute_input": "2022-09-12T10:32:31.239258Z",
     "iopub.status.busy": "2022-09-12T10:32:31.239060Z",
     "iopub.status.idle": "2022-09-12T10:32:31.533761Z",
     "shell.execute_reply": "2022-09-12T10:32:31.533166Z"
    },
    "papermill": {
     "duration": 0.302122,
     "end_time": "2022-09-12T10:32:31.535332",
     "exception": false,
     "start_time": "2022-09-12T10:32:31.233210",
     "status": "completed"
    },
    "tags": []
   },
   "outputs": [],
   "source": [
    "from sklearn.cluster import AgglomerativeClustering"
   ]
  },
  {
   "cell_type": "code",
   "execution_count": 10,
   "id": "62e7aa53",
   "metadata": {
    "execution": {
     "iopub.execute_input": "2022-09-12T10:32:31.548863Z",
     "iopub.status.busy": "2022-09-12T10:32:31.548665Z",
     "iopub.status.idle": "2022-09-12T10:32:31.568430Z",
     "shell.execute_reply": "2022-09-12T10:32:31.567758Z"
    },
    "papermill": {
     "duration": 0.028327,
     "end_time": "2022-09-12T10:32:31.569982",
     "exception": false,
     "start_time": "2022-09-12T10:32:31.541655",
     "status": "completed"
    },
    "tags": []
   },
   "outputs": [],
   "source": [
    "CLUSTERING_ATTRIBUTES_TO_SAVE = [\"n_clusters\"]"
   ]
  },
  {
   "cell_type": "code",
   "execution_count": 11,
   "id": "1f6bc16f",
   "metadata": {
    "execution": {
     "iopub.execute_input": "2022-09-12T10:32:31.582991Z",
     "iopub.status.busy": "2022-09-12T10:32:31.582804Z",
     "iopub.status.idle": "2022-09-12T10:32:31.602927Z",
     "shell.execute_reply": "2022-09-12T10:32:31.602330Z"
    },
    "papermill": {
     "duration": 0.028166,
     "end_time": "2022-09-12T10:32:31.604324",
     "exception": false,
     "start_time": "2022-09-12T10:32:31.576158",
     "status": "completed"
    },
    "tags": []
   },
   "outputs": [
    {
     "data": {
      "text/plain": [
       "{'K_MIN': 2,\n",
       " 'K_MAX': 75,\n",
       " 'LINKAGE': {'average', 'complete', 'single', 'ward'},\n",
       " 'AFFINITY': 'euclidean'}"
      ]
     },
     "metadata": {},
     "output_type": "display_data"
    }
   ],
   "source": [
    "CLUSTERING_OPTIONS = {}\n",
    "\n",
    "CLUSTERING_OPTIONS[\"K_MIN\"] = 2\n",
    "CLUSTERING_OPTIONS[\"K_MAX\"] = 75  # sqrt(3749) + some more to get closer to 295\n",
    "CLUSTERING_OPTIONS[\"LINKAGE\"] = {\"ward\", \"complete\", \"average\", \"single\"}\n",
    "CLUSTERING_OPTIONS[\"AFFINITY\"] = \"euclidean\"\n",
    "\n",
    "display(CLUSTERING_OPTIONS)"
   ]
  },
  {
   "cell_type": "code",
   "execution_count": 12,
   "id": "315c78ec",
   "metadata": {
    "execution": {
     "iopub.execute_input": "2022-09-12T10:32:31.616644Z",
     "iopub.status.busy": "2022-09-12T10:32:31.616470Z",
     "iopub.status.idle": "2022-09-12T10:32:31.636193Z",
     "shell.execute_reply": "2022-09-12T10:32:31.635510Z"
    },
    "papermill": {
     "duration": 0.027401,
     "end_time": "2022-09-12T10:32:31.637607",
     "exception": false,
     "start_time": "2022-09-12T10:32:31.610206",
     "status": "completed"
    },
    "tags": []
   },
   "outputs": [],
   "source": [
    "CLUSTERERS = {}\n",
    "\n",
    "idx = 0\n",
    "\n",
    "for k in range(CLUSTERING_OPTIONS[\"K_MIN\"], CLUSTERING_OPTIONS[\"K_MAX\"] + 1):\n",
    "    for linkage in CLUSTERING_OPTIONS[\"LINKAGE\"]:\n",
    "        if linkage == \"ward\":\n",
    "            affinity = \"euclidean\"\n",
    "        else:\n",
    "            affinity = \"precomputed\"\n",
    "\n",
    "        clus = AgglomerativeClustering(\n",
    "            n_clusters=k,\n",
    "            affinity=affinity,\n",
    "            linkage=linkage,\n",
    "        )\n",
    "\n",
    "        method_name = type(clus).__name__\n",
    "        CLUSTERERS[f\"{method_name} #{idx}\"] = clus\n",
    "\n",
    "        idx = idx + 1"
   ]
  },
  {
   "cell_type": "code",
   "execution_count": 13,
   "id": "60d8d262",
   "metadata": {
    "execution": {
     "iopub.execute_input": "2022-09-12T10:32:31.668958Z",
     "iopub.status.busy": "2022-09-12T10:32:31.668550Z",
     "iopub.status.idle": "2022-09-12T10:32:31.705729Z",
     "shell.execute_reply": "2022-09-12T10:32:31.704991Z"
    },
    "papermill": {
     "duration": 0.060717,
     "end_time": "2022-09-12T10:32:31.707401",
     "exception": false,
     "start_time": "2022-09-12T10:32:31.646684",
     "status": "completed"
    },
    "tags": []
   },
   "outputs": [
    {
     "data": {
      "text/plain": [
       "296"
      ]
     },
     "metadata": {},
     "output_type": "display_data"
    }
   ],
   "source": [
    "display(len(CLUSTERERS))"
   ]
  },
  {
   "cell_type": "code",
   "execution_count": 14,
   "id": "6fb8a132",
   "metadata": {
    "execution": {
     "iopub.execute_input": "2022-09-12T10:32:31.723002Z",
     "iopub.status.busy": "2022-09-12T10:32:31.722794Z",
     "iopub.status.idle": "2022-09-12T10:32:31.746428Z",
     "shell.execute_reply": "2022-09-12T10:32:31.745915Z"
    },
    "papermill": {
     "duration": 0.03297,
     "end_time": "2022-09-12T10:32:31.747683",
     "exception": false,
     "start_time": "2022-09-12T10:32:31.714713",
     "status": "completed"
    },
    "tags": []
   },
   "outputs": [
    {
     "data": {
      "text/plain": [
       "('AgglomerativeClustering #0', AgglomerativeClustering())"
      ]
     },
     "metadata": {},
     "output_type": "display_data"
    },
    {
     "data": {
      "text/plain": [
       "('AgglomerativeClustering #1',\n",
       " AgglomerativeClustering(affinity='precomputed', linkage='single'))"
      ]
     },
     "metadata": {},
     "output_type": "display_data"
    }
   ],
   "source": [
    "_iter = iter(CLUSTERERS.items())\n",
    "display(next(_iter))\n",
    "display(next(_iter))"
   ]
  },
  {
   "cell_type": "code",
   "execution_count": 15,
   "id": "bb2626f1",
   "metadata": {
    "execution": {
     "iopub.execute_input": "2022-09-12T10:32:31.759452Z",
     "iopub.status.busy": "2022-09-12T10:32:31.759282Z",
     "iopub.status.idle": "2022-09-12T10:32:31.776610Z",
     "shell.execute_reply": "2022-09-12T10:32:31.776052Z"
    },
    "papermill": {
     "duration": 0.024585,
     "end_time": "2022-09-12T10:32:31.777896",
     "exception": false,
     "start_time": "2022-09-12T10:32:31.753311",
     "status": "completed"
    },
    "tags": []
   },
   "outputs": [
    {
     "data": {
      "text/plain": [
       "'AgglomerativeClustering'"
      ]
     },
     "metadata": {},
     "output_type": "display_data"
    }
   ],
   "source": [
    "clustering_method_name = method_name\n",
    "display(clustering_method_name)"
   ]
  },
  {
   "cell_type": "markdown",
   "id": "f4af2a9c",
   "metadata": {
    "papermill": {
     "duration": 0.005468,
     "end_time": "2022-09-12T10:32:31.789161",
     "exception": false,
     "start_time": "2022-09-12T10:32:31.783693",
     "status": "completed"
    },
    "tags": []
   },
   "source": [
    "## Output directory"
   ]
  },
  {
   "cell_type": "code",
   "execution_count": 16,
   "id": "1aedeed4",
   "metadata": {
    "execution": {
     "iopub.execute_input": "2022-09-12T10:32:31.828430Z",
     "iopub.status.busy": "2022-09-12T10:32:31.828229Z",
     "iopub.status.idle": "2022-09-12T10:32:31.849110Z",
     "shell.execute_reply": "2022-09-12T10:32:31.848544Z"
    },
    "papermill": {
     "duration": 0.055946,
     "end_time": "2022-09-12T10:32:31.850638",
     "exception": false,
     "start_time": "2022-09-12T10:32:31.794692",
     "status": "completed"
    },
    "tags": []
   },
   "outputs": [
    {
     "data": {
      "text/plain": [
       "PosixPath('/opt/data/results/clustering/null_sims/runs/z_score_std-projection-smultixcan-efo_partial-mashr-zscores')"
      ]
     },
     "metadata": {},
     "output_type": "display_data"
    }
   ],
   "source": [
    "# output dir for this notebook\n",
    "RESULTS_DIR = Path(\n",
    "    conf.RESULTS[\"CLUSTERING_NULL_DIR\"],\n",
    "    \"runs\",\n",
    "    f\"{INPUT_SUBSET}-{INPUT_STEM}\",\n",
    ").resolve()\n",
    "RESULTS_DIR.mkdir(parents=True, exist_ok=True)\n",
    "\n",
    "display(RESULTS_DIR)"
   ]
  },
  {
   "cell_type": "markdown",
   "id": "fc9025a8",
   "metadata": {
    "papermill": {
     "duration": 0.00654,
     "end_time": "2022-09-12T10:32:31.864129",
     "exception": false,
     "start_time": "2022-09-12T10:32:31.857589",
     "status": "completed"
    },
    "tags": []
   },
   "source": [
    "# Load input file"
   ]
  },
  {
   "cell_type": "code",
   "execution_count": 17,
   "id": "beb21224",
   "metadata": {
    "execution": {
     "iopub.execute_input": "2022-09-12T10:32:31.877485Z",
     "iopub.status.busy": "2022-09-12T10:32:31.877310Z",
     "iopub.status.idle": "2022-09-12T10:32:31.910691Z",
     "shell.execute_reply": "2022-09-12T10:32:31.910099Z"
    },
    "papermill": {
     "duration": 0.041781,
     "end_time": "2022-09-12T10:32:31.912274",
     "exception": false,
     "start_time": "2022-09-12T10:32:31.870493",
     "status": "completed"
    },
    "tags": []
   },
   "outputs": [],
   "source": [
    "data = pd.read_pickle(input_filepath)"
   ]
  },
  {
   "cell_type": "code",
   "execution_count": 18,
   "id": "82d7cb7b",
   "metadata": {
    "execution": {
     "iopub.execute_input": "2022-09-12T10:32:31.925779Z",
     "iopub.status.busy": "2022-09-12T10:32:31.925598Z",
     "iopub.status.idle": "2022-09-12T10:32:31.944138Z",
     "shell.execute_reply": "2022-09-12T10:32:31.943565Z"
    },
    "papermill": {
     "duration": 0.026822,
     "end_time": "2022-09-12T10:32:31.945470",
     "exception": false,
     "start_time": "2022-09-12T10:32:31.918648",
     "status": "completed"
    },
    "tags": []
   },
   "outputs": [
    {
     "data": {
      "text/plain": [
       "(3752, 987)"
      ]
     },
     "execution_count": 18,
     "metadata": {},
     "output_type": "execute_result"
    }
   ],
   "source": [
    "data.shape"
   ]
  },
  {
   "cell_type": "code",
   "execution_count": 19,
   "id": "81a72af1",
   "metadata": {
    "execution": {
     "iopub.execute_input": "2022-09-12T10:32:31.958367Z",
     "iopub.status.busy": "2022-09-12T10:32:31.958199Z",
     "iopub.status.idle": "2022-09-12T10:32:31.989589Z",
     "shell.execute_reply": "2022-09-12T10:32:31.989097Z"
    },
    "papermill": {
     "duration": 0.039369,
     "end_time": "2022-09-12T10:32:31.990916",
     "exception": false,
     "start_time": "2022-09-12T10:32:31.951547",
     "status": "completed"
    },
    "tags": []
   },
   "outputs": [
    {
     "data": {
      "text/html": [
       "<div>\n",
       "<style scoped>\n",
       "    .dataframe tbody tr th:only-of-type {\n",
       "        vertical-align: middle;\n",
       "    }\n",
       "\n",
       "    .dataframe tbody tr th {\n",
       "        vertical-align: top;\n",
       "    }\n",
       "\n",
       "    .dataframe thead th {\n",
       "        text-align: right;\n",
       "    }\n",
       "</style>\n",
       "<table border=\"1\" class=\"dataframe\">\n",
       "  <thead>\n",
       "    <tr style=\"text-align: right;\">\n",
       "      <th></th>\n",
       "      <th>LV1</th>\n",
       "      <th>LV2</th>\n",
       "      <th>LV3</th>\n",
       "      <th>LV4</th>\n",
       "      <th>LV5</th>\n",
       "      <th>LV6</th>\n",
       "      <th>LV7</th>\n",
       "      <th>LV8</th>\n",
       "      <th>LV9</th>\n",
       "      <th>LV10</th>\n",
       "      <th>...</th>\n",
       "      <th>LV978</th>\n",
       "      <th>LV979</th>\n",
       "      <th>LV980</th>\n",
       "      <th>LV981</th>\n",
       "      <th>LV982</th>\n",
       "      <th>LV983</th>\n",
       "      <th>LV984</th>\n",
       "      <th>LV985</th>\n",
       "      <th>LV986</th>\n",
       "      <th>LV987</th>\n",
       "    </tr>\n",
       "  </thead>\n",
       "  <tbody>\n",
       "    <tr>\n",
       "      <th>100001_raw-Food_weight</th>\n",
       "      <td>-2.408007</td>\n",
       "      <td>-1.745911</td>\n",
       "      <td>1.383013</td>\n",
       "      <td>0.158718</td>\n",
       "      <td>-0.240933</td>\n",
       "      <td>-0.304911</td>\n",
       "      <td>1.823117</td>\n",
       "      <td>-0.716278</td>\n",
       "      <td>-1.769346</td>\n",
       "      <td>-0.043794</td>\n",
       "      <td>...</td>\n",
       "      <td>0.399227</td>\n",
       "      <td>0.849885</td>\n",
       "      <td>-0.593292</td>\n",
       "      <td>0.636568</td>\n",
       "      <td>0.409726</td>\n",
       "      <td>-0.871713</td>\n",
       "      <td>1.638770</td>\n",
       "      <td>0.285165</td>\n",
       "      <td>0.585307</td>\n",
       "      <td>0.592347</td>\n",
       "    </tr>\n",
       "    <tr>\n",
       "      <th>100002_raw-Energy</th>\n",
       "      <td>-0.508508</td>\n",
       "      <td>0.514427</td>\n",
       "      <td>-0.792865</td>\n",
       "      <td>-0.091775</td>\n",
       "      <td>-0.013409</td>\n",
       "      <td>0.194047</td>\n",
       "      <td>1.353713</td>\n",
       "      <td>0.117286</td>\n",
       "      <td>-0.323516</td>\n",
       "      <td>-1.641116</td>\n",
       "      <td>...</td>\n",
       "      <td>-0.038535</td>\n",
       "      <td>-1.139394</td>\n",
       "      <td>-0.951591</td>\n",
       "      <td>1.197872</td>\n",
       "      <td>0.893819</td>\n",
       "      <td>-0.820655</td>\n",
       "      <td>0.928634</td>\n",
       "      <td>-0.716778</td>\n",
       "      <td>-0.085735</td>\n",
       "      <td>-1.208965</td>\n",
       "    </tr>\n",
       "    <tr>\n",
       "      <th>100003_raw-Protein</th>\n",
       "      <td>-0.284597</td>\n",
       "      <td>-0.325076</td>\n",
       "      <td>-1.412980</td>\n",
       "      <td>1.255510</td>\n",
       "      <td>0.343603</td>\n",
       "      <td>-2.471878</td>\n",
       "      <td>-0.149640</td>\n",
       "      <td>-0.715178</td>\n",
       "      <td>-0.548948</td>\n",
       "      <td>1.210352</td>\n",
       "      <td>...</td>\n",
       "      <td>1.006094</td>\n",
       "      <td>0.595064</td>\n",
       "      <td>1.774559</td>\n",
       "      <td>-0.335165</td>\n",
       "      <td>0.394177</td>\n",
       "      <td>-0.188345</td>\n",
       "      <td>-1.864716</td>\n",
       "      <td>-0.124875</td>\n",
       "      <td>1.253625</td>\n",
       "      <td>0.804944</td>\n",
       "    </tr>\n",
       "    <tr>\n",
       "      <th>100004_raw-Fat</th>\n",
       "      <td>-0.427503</td>\n",
       "      <td>-0.096524</td>\n",
       "      <td>-0.348654</td>\n",
       "      <td>-1.250087</td>\n",
       "      <td>-0.253145</td>\n",
       "      <td>-0.236606</td>\n",
       "      <td>-0.600627</td>\n",
       "      <td>0.277239</td>\n",
       "      <td>-0.844748</td>\n",
       "      <td>-0.998437</td>\n",
       "      <td>...</td>\n",
       "      <td>0.249993</td>\n",
       "      <td>-1.520660</td>\n",
       "      <td>0.037241</td>\n",
       "      <td>0.514992</td>\n",
       "      <td>0.512538</td>\n",
       "      <td>-1.083619</td>\n",
       "      <td>0.310643</td>\n",
       "      <td>-1.719033</td>\n",
       "      <td>-0.970770</td>\n",
       "      <td>-2.628077</td>\n",
       "    </tr>\n",
       "    <tr>\n",
       "      <th>100005_raw-Carbohydrate</th>\n",
       "      <td>-1.502621</td>\n",
       "      <td>-1.083034</td>\n",
       "      <td>0.531159</td>\n",
       "      <td>0.332981</td>\n",
       "      <td>-1.240640</td>\n",
       "      <td>-0.852565</td>\n",
       "      <td>-0.003171</td>\n",
       "      <td>0.561912</td>\n",
       "      <td>-0.772413</td>\n",
       "      <td>-0.372739</td>\n",
       "      <td>...</td>\n",
       "      <td>-0.577730</td>\n",
       "      <td>-1.163380</td>\n",
       "      <td>0.000251</td>\n",
       "      <td>-0.345607</td>\n",
       "      <td>-1.610004</td>\n",
       "      <td>0.194078</td>\n",
       "      <td>0.605594</td>\n",
       "      <td>1.182825</td>\n",
       "      <td>-1.567705</td>\n",
       "      <td>-0.011902</td>\n",
       "    </tr>\n",
       "  </tbody>\n",
       "</table>\n",
       "<p>5 rows × 987 columns</p>\n",
       "</div>"
      ],
      "text/plain": [
       "                              LV1       LV2       LV3       LV4       LV5  \\\n",
       "100001_raw-Food_weight  -2.408007 -1.745911  1.383013  0.158718 -0.240933   \n",
       "100002_raw-Energy       -0.508508  0.514427 -0.792865 -0.091775 -0.013409   \n",
       "100003_raw-Protein      -0.284597 -0.325076 -1.412980  1.255510  0.343603   \n",
       "100004_raw-Fat          -0.427503 -0.096524 -0.348654 -1.250087 -0.253145   \n",
       "100005_raw-Carbohydrate -1.502621 -1.083034  0.531159  0.332981 -1.240640   \n",
       "\n",
       "                              LV6       LV7       LV8       LV9      LV10  \\\n",
       "100001_raw-Food_weight  -0.304911  1.823117 -0.716278 -1.769346 -0.043794   \n",
       "100002_raw-Energy        0.194047  1.353713  0.117286 -0.323516 -1.641116   \n",
       "100003_raw-Protein      -2.471878 -0.149640 -0.715178 -0.548948  1.210352   \n",
       "100004_raw-Fat          -0.236606 -0.600627  0.277239 -0.844748 -0.998437   \n",
       "100005_raw-Carbohydrate -0.852565 -0.003171  0.561912 -0.772413 -0.372739   \n",
       "\n",
       "                         ...     LV978     LV979     LV980     LV981  \\\n",
       "100001_raw-Food_weight   ...  0.399227  0.849885 -0.593292  0.636568   \n",
       "100002_raw-Energy        ... -0.038535 -1.139394 -0.951591  1.197872   \n",
       "100003_raw-Protein       ...  1.006094  0.595064  1.774559 -0.335165   \n",
       "100004_raw-Fat           ...  0.249993 -1.520660  0.037241  0.514992   \n",
       "100005_raw-Carbohydrate  ... -0.577730 -1.163380  0.000251 -0.345607   \n",
       "\n",
       "                            LV982     LV983     LV984     LV985     LV986  \\\n",
       "100001_raw-Food_weight   0.409726 -0.871713  1.638770  0.285165  0.585307   \n",
       "100002_raw-Energy        0.893819 -0.820655  0.928634 -0.716778 -0.085735   \n",
       "100003_raw-Protein       0.394177 -0.188345 -1.864716 -0.124875  1.253625   \n",
       "100004_raw-Fat           0.512538 -1.083619  0.310643 -1.719033 -0.970770   \n",
       "100005_raw-Carbohydrate -1.610004  0.194078  0.605594  1.182825 -1.567705   \n",
       "\n",
       "                            LV987  \n",
       "100001_raw-Food_weight   0.592347  \n",
       "100002_raw-Energy       -1.208965  \n",
       "100003_raw-Protein       0.804944  \n",
       "100004_raw-Fat          -2.628077  \n",
       "100005_raw-Carbohydrate -0.011902  \n",
       "\n",
       "[5 rows x 987 columns]"
      ]
     },
     "execution_count": 19,
     "metadata": {},
     "output_type": "execute_result"
    }
   ],
   "source": [
    "data.head()"
   ]
  },
  {
   "cell_type": "code",
   "execution_count": 20,
   "id": "8beca865",
   "metadata": {
    "execution": {
     "iopub.execute_input": "2022-09-12T10:32:32.003735Z",
     "iopub.status.busy": "2022-09-12T10:32:32.003572Z",
     "iopub.status.idle": "2022-09-12T10:32:32.026661Z",
     "shell.execute_reply": "2022-09-12T10:32:32.025994Z"
    },
    "papermill": {
     "duration": 0.031262,
     "end_time": "2022-09-12T10:32:32.028165",
     "exception": false,
     "start_time": "2022-09-12T10:32:31.996903",
     "status": "completed"
    },
    "tags": []
   },
   "outputs": [],
   "source": [
    "assert not data.isna().any().any()"
   ]
  },
  {
   "cell_type": "markdown",
   "id": "be43b722",
   "metadata": {
    "papermill": {
     "duration": 0.006162,
     "end_time": "2022-09-12T10:32:32.040707",
     "exception": false,
     "start_time": "2022-09-12T10:32:32.034545",
     "status": "completed"
    },
    "tags": []
   },
   "source": [
    "# Clustering"
   ]
  },
  {
   "cell_type": "markdown",
   "id": "7a99e047",
   "metadata": {
    "papermill": {
     "duration": 0.006092,
     "end_time": "2022-09-12T10:32:32.053098",
     "exception": false,
     "start_time": "2022-09-12T10:32:32.047006",
     "status": "completed"
    },
    "tags": []
   },
   "source": [
    "## Generate ensemble"
   ]
  },
  {
   "cell_type": "code",
   "execution_count": 21,
   "id": "1baf0a35",
   "metadata": {
    "execution": {
     "iopub.execute_input": "2022-09-12T10:32:32.065423Z",
     "iopub.status.busy": "2022-09-12T10:32:32.065215Z",
     "iopub.status.idle": "2022-09-12T10:32:32.085535Z",
     "shell.execute_reply": "2022-09-12T10:32:32.084866Z"
    },
    "papermill": {
     "duration": 0.028016,
     "end_time": "2022-09-12T10:32:32.086937",
     "exception": false,
     "start_time": "2022-09-12T10:32:32.058921",
     "status": "completed"
    },
    "tags": []
   },
   "outputs": [],
   "source": [
    "from sklearn.metrics import pairwise_distances\n",
    "from clustering.ensembles.utils import generate_ensemble"
   ]
  },
  {
   "cell_type": "code",
   "execution_count": 22,
   "id": "79c7fe87",
   "metadata": {
    "execution": {
     "iopub.execute_input": "2022-09-12T10:32:32.099651Z",
     "iopub.status.busy": "2022-09-12T10:32:32.099488Z",
     "iopub.status.idle": "2022-09-12T10:32:32.328825Z",
     "shell.execute_reply": "2022-09-12T10:32:32.328195Z"
    },
    "papermill": {
     "duration": 0.237322,
     "end_time": "2022-09-12T10:32:32.330297",
     "exception": false,
     "start_time": "2022-09-12T10:32:32.092975",
     "status": "completed"
    },
    "tags": []
   },
   "outputs": [],
   "source": [
    "data_dist = pairwise_distances(data, metric=CLUSTERING_OPTIONS[\"AFFINITY\"])"
   ]
  },
  {
   "cell_type": "code",
   "execution_count": 23,
   "id": "d2a6d0b8",
   "metadata": {
    "execution": {
     "iopub.execute_input": "2022-09-12T10:32:32.343374Z",
     "iopub.status.busy": "2022-09-12T10:32:32.342809Z",
     "iopub.status.idle": "2022-09-12T10:32:32.360348Z",
     "shell.execute_reply": "2022-09-12T10:32:32.359783Z"
    },
    "papermill": {
     "duration": 0.025229,
     "end_time": "2022-09-12T10:32:32.361665",
     "exception": false,
     "start_time": "2022-09-12T10:32:32.336436",
     "status": "completed"
    },
    "tags": []
   },
   "outputs": [
    {
     "data": {
      "text/plain": [
       "(3752, 3752)"
      ]
     },
     "execution_count": 23,
     "metadata": {},
     "output_type": "execute_result"
    }
   ],
   "source": [
    "data_dist.shape"
   ]
  },
  {
   "cell_type": "code",
   "execution_count": 24,
   "id": "c2008ceb",
   "metadata": {
    "execution": {
     "iopub.execute_input": "2022-09-12T10:32:32.376495Z",
     "iopub.status.busy": "2022-09-12T10:32:32.376313Z",
     "iopub.status.idle": "2022-09-12T10:32:33.003134Z",
     "shell.execute_reply": "2022-09-12T10:32:33.002499Z"
    },
    "papermill": {
     "duration": 0.635807,
     "end_time": "2022-09-12T10:32:33.004466",
     "exception": false,
     "start_time": "2022-09-12T10:32:32.368659",
     "status": "completed"
    },
    "tags": []
   },
   "outputs": [
    {
     "data": {
      "text/plain": [
       "count            14077504.0\n",
       "mean     44.282964827108174\n",
       "std       3.608188887227973\n",
       "min                     0.0\n",
       "25%      43.065701593577415\n",
       "50%       43.99565511661875\n",
       "75%       44.95360080037999\n",
       "max       91.89243711532622\n",
       "dtype: object"
      ]
     },
     "execution_count": 24,
     "metadata": {},
     "output_type": "execute_result"
    }
   ],
   "source": [
    "pd.Series(data_dist.flatten()).describe().apply(str)"
   ]
  },
  {
   "cell_type": "code",
   "execution_count": 25,
   "id": "e2e59656",
   "metadata": {
    "execution": {
     "iopub.execute_input": "2022-09-12T10:32:33.018024Z",
     "iopub.status.busy": "2022-09-12T10:32:33.017865Z",
     "iopub.status.idle": "2022-09-12T11:00:30.949605Z",
     "shell.execute_reply": "2022-09-12T11:00:30.948981Z"
    },
    "papermill": {
     "duration": 1677.939818,
     "end_time": "2022-09-12T11:00:30.950839",
     "exception": false,
     "start_time": "2022-09-12T10:32:33.011021",
     "status": "completed"
    },
    "tags": []
   },
   "outputs": [
    {
     "name": "stderr",
     "output_type": "stream",
     "text": [
      "100%|██████████| 296/296 [27:57<00:00,  5.67s/it]\n"
     ]
    }
   ],
   "source": [
    "ensemble = generate_ensemble(\n",
    "    data_dist,\n",
    "    CLUSTERERS,\n",
    "    attributes=CLUSTERING_ATTRIBUTES_TO_SAVE,\n",
    "    affinity_matrix=data_dist,\n",
    ")"
   ]
  },
  {
   "cell_type": "code",
   "execution_count": 26,
   "id": "0c3cba03",
   "metadata": {
    "execution": {
     "iopub.execute_input": "2022-09-12T11:00:30.982965Z",
     "iopub.status.busy": "2022-09-12T11:00:30.982417Z",
     "iopub.status.idle": "2022-09-12T11:00:30.999987Z",
     "shell.execute_reply": "2022-09-12T11:00:30.999370Z"
    },
    "papermill": {
     "duration": 0.034643,
     "end_time": "2022-09-12T11:00:31.001244",
     "exception": false,
     "start_time": "2022-09-12T11:00:30.966601",
     "status": "completed"
    },
    "tags": []
   },
   "outputs": [
    {
     "data": {
      "text/plain": [
       "(296, 3)"
      ]
     },
     "execution_count": 26,
     "metadata": {},
     "output_type": "execute_result"
    }
   ],
   "source": [
    "# the number should be close to 295 (the number of partitions generated by k-means/spectral clustering)\n",
    "ensemble.shape"
   ]
  },
  {
   "cell_type": "code",
   "execution_count": 27,
   "id": "fb85ab52",
   "metadata": {
    "execution": {
     "iopub.execute_input": "2022-09-12T11:00:31.032922Z",
     "iopub.status.busy": "2022-09-12T11:00:31.032710Z",
     "iopub.status.idle": "2022-09-12T11:00:31.057496Z",
     "shell.execute_reply": "2022-09-12T11:00:31.056942Z"
    },
    "papermill": {
     "duration": 0.042291,
     "end_time": "2022-09-12T11:00:31.058813",
     "exception": false,
     "start_time": "2022-09-12T11:00:31.016522",
     "status": "completed"
    },
    "tags": []
   },
   "outputs": [
    {
     "data": {
      "text/html": [
       "<div>\n",
       "<style scoped>\n",
       "    .dataframe tbody tr th:only-of-type {\n",
       "        vertical-align: middle;\n",
       "    }\n",
       "\n",
       "    .dataframe tbody tr th {\n",
       "        vertical-align: top;\n",
       "    }\n",
       "\n",
       "    .dataframe thead th {\n",
       "        text-align: right;\n",
       "    }\n",
       "</style>\n",
       "<table border=\"1\" class=\"dataframe\">\n",
       "  <thead>\n",
       "    <tr style=\"text-align: right;\">\n",
       "      <th></th>\n",
       "      <th>clusterer_params</th>\n",
       "      <th>partition</th>\n",
       "      <th>n_clusters</th>\n",
       "    </tr>\n",
       "    <tr>\n",
       "      <th>clusterer_id</th>\n",
       "      <th></th>\n",
       "      <th></th>\n",
       "      <th></th>\n",
       "    </tr>\n",
       "  </thead>\n",
       "  <tbody>\n",
       "    <tr>\n",
       "      <th>AgglomerativeClustering #0</th>\n",
       "      <td>{'affinity': 'euclidean', 'compute_full_tree':...</td>\n",
       "      <td>[0.0, 0.0, 0.0, 0.0, 0.0, 0.0, 0.0, 0.0, 0.0, ...</td>\n",
       "      <td>2</td>\n",
       "    </tr>\n",
       "    <tr>\n",
       "      <th>AgglomerativeClustering #1</th>\n",
       "      <td>{'affinity': 'precomputed', 'compute_full_tree...</td>\n",
       "      <td>[0.0, 0.0, 0.0, 0.0, 0.0, 0.0, 0.0, 0.0, 0.0, ...</td>\n",
       "      <td>2</td>\n",
       "    </tr>\n",
       "    <tr>\n",
       "      <th>AgglomerativeClustering #2</th>\n",
       "      <td>{'affinity': 'precomputed', 'compute_full_tree...</td>\n",
       "      <td>[0.0, 0.0, 0.0, 0.0, 0.0, 0.0, 0.0, 0.0, 0.0, ...</td>\n",
       "      <td>2</td>\n",
       "    </tr>\n",
       "    <tr>\n",
       "      <th>AgglomerativeClustering #3</th>\n",
       "      <td>{'affinity': 'precomputed', 'compute_full_tree...</td>\n",
       "      <td>[0.0, 0.0, 0.0, 0.0, 0.0, 0.0, 0.0, 0.0, 0.0, ...</td>\n",
       "      <td>2</td>\n",
       "    </tr>\n",
       "    <tr>\n",
       "      <th>AgglomerativeClustering #4</th>\n",
       "      <td>{'affinity': 'euclidean', 'compute_full_tree':...</td>\n",
       "      <td>[1.0, 1.0, 1.0, 1.0, 1.0, 1.0, 1.0, 1.0, 1.0, ...</td>\n",
       "      <td>3</td>\n",
       "    </tr>\n",
       "  </tbody>\n",
       "</table>\n",
       "</div>"
      ],
      "text/plain": [
       "                                                             clusterer_params  \\\n",
       "clusterer_id                                                                    \n",
       "AgglomerativeClustering #0  {'affinity': 'euclidean', 'compute_full_tree':...   \n",
       "AgglomerativeClustering #1  {'affinity': 'precomputed', 'compute_full_tree...   \n",
       "AgglomerativeClustering #2  {'affinity': 'precomputed', 'compute_full_tree...   \n",
       "AgglomerativeClustering #3  {'affinity': 'precomputed', 'compute_full_tree...   \n",
       "AgglomerativeClustering #4  {'affinity': 'euclidean', 'compute_full_tree':...   \n",
       "\n",
       "                                                                    partition  \\\n",
       "clusterer_id                                                                    \n",
       "AgglomerativeClustering #0  [0.0, 0.0, 0.0, 0.0, 0.0, 0.0, 0.0, 0.0, 0.0, ...   \n",
       "AgglomerativeClustering #1  [0.0, 0.0, 0.0, 0.0, 0.0, 0.0, 0.0, 0.0, 0.0, ...   \n",
       "AgglomerativeClustering #2  [0.0, 0.0, 0.0, 0.0, 0.0, 0.0, 0.0, 0.0, 0.0, ...   \n",
       "AgglomerativeClustering #3  [0.0, 0.0, 0.0, 0.0, 0.0, 0.0, 0.0, 0.0, 0.0, ...   \n",
       "AgglomerativeClustering #4  [1.0, 1.0, 1.0, 1.0, 1.0, 1.0, 1.0, 1.0, 1.0, ...   \n",
       "\n",
       "                            n_clusters  \n",
       "clusterer_id                            \n",
       "AgglomerativeClustering #0           2  \n",
       "AgglomerativeClustering #1           2  \n",
       "AgglomerativeClustering #2           2  \n",
       "AgglomerativeClustering #3           2  \n",
       "AgglomerativeClustering #4           3  "
      ]
     },
     "execution_count": 27,
     "metadata": {},
     "output_type": "execute_result"
    }
   ],
   "source": [
    "ensemble.head()"
   ]
  },
  {
   "cell_type": "code",
   "execution_count": 28,
   "id": "3918f066",
   "metadata": {
    "execution": {
     "iopub.execute_input": "2022-09-12T11:00:31.091298Z",
     "iopub.status.busy": "2022-09-12T11:00:31.090455Z",
     "iopub.status.idle": "2022-09-12T11:00:31.108734Z",
     "shell.execute_reply": "2022-09-12T11:00:31.108280Z"
    },
    "papermill": {
     "duration": 0.035501,
     "end_time": "2022-09-12T11:00:31.109994",
     "exception": false,
     "start_time": "2022-09-12T11:00:31.074493",
     "status": "completed"
    },
    "tags": []
   },
   "outputs": [
    {
     "data": {
      "text/plain": [
       "75    4\n",
       "20    4\n",
       "22    4\n",
       "23    4\n",
       "24    4\n",
       "Name: n_clusters, dtype: int64"
      ]
     },
     "execution_count": 28,
     "metadata": {},
     "output_type": "execute_result"
    }
   ],
   "source": [
    "ensemble[\"n_clusters\"].value_counts().head()"
   ]
  },
  {
   "cell_type": "code",
   "execution_count": 29,
   "id": "10139d3e",
   "metadata": {
    "execution": {
     "iopub.execute_input": "2022-09-12T11:00:31.143129Z",
     "iopub.status.busy": "2022-09-12T11:00:31.142864Z",
     "iopub.status.idle": "2022-09-12T11:00:31.162249Z",
     "shell.execute_reply": "2022-09-12T11:00:31.161744Z"
    },
    "papermill": {
     "duration": 0.037108,
     "end_time": "2022-09-12T11:00:31.163506",
     "exception": false,
     "start_time": "2022-09-12T11:00:31.126398",
     "status": "completed"
    },
    "tags": []
   },
   "outputs": [
    {
     "data": {
      "text/plain": [
       "count    296.000000\n",
       "mean      38.500000\n",
       "std       21.396182\n",
       "min        2.000000\n",
       "25%       20.000000\n",
       "50%       38.500000\n",
       "75%       57.000000\n",
       "max       75.000000\n",
       "Name: n_clusters, dtype: float64"
      ]
     },
     "metadata": {},
     "output_type": "display_data"
    }
   ],
   "source": [
    "ensemble_stats = ensemble[\"n_clusters\"].describe()\n",
    "display(ensemble_stats)"
   ]
  },
  {
   "cell_type": "markdown",
   "id": "f0e0e4ff",
   "metadata": {
    "papermill": {
     "duration": 0.015491,
     "end_time": "2022-09-12T11:00:31.195489",
     "exception": false,
     "start_time": "2022-09-12T11:00:31.179998",
     "status": "completed"
    },
    "tags": []
   },
   "source": [
    "### Testing"
   ]
  },
  {
   "cell_type": "code",
   "execution_count": 30,
   "id": "761ee0a2",
   "metadata": {
    "execution": {
     "iopub.execute_input": "2022-09-12T11:00:31.227682Z",
     "iopub.status.busy": "2022-09-12T11:00:31.227460Z",
     "iopub.status.idle": "2022-09-12T11:00:31.244173Z",
     "shell.execute_reply": "2022-09-12T11:00:31.243494Z"
    },
    "papermill": {
     "duration": 0.034459,
     "end_time": "2022-09-12T11:00:31.245536",
     "exception": false,
     "start_time": "2022-09-12T11:00:31.211077",
     "status": "completed"
    },
    "tags": []
   },
   "outputs": [],
   "source": [
    "assert ensemble_stats[\"min\"] > 1"
   ]
  },
  {
   "cell_type": "code",
   "execution_count": 31,
   "id": "f66f0512",
   "metadata": {
    "execution": {
     "iopub.execute_input": "2022-09-12T11:00:31.278514Z",
     "iopub.status.busy": "2022-09-12T11:00:31.278291Z",
     "iopub.status.idle": "2022-09-12T11:00:31.296422Z",
     "shell.execute_reply": "2022-09-12T11:00:31.295556Z"
    },
    "papermill": {
     "duration": 0.03625,
     "end_time": "2022-09-12T11:00:31.297774",
     "exception": false,
     "start_time": "2022-09-12T11:00:31.261524",
     "status": "completed"
    },
    "tags": []
   },
   "outputs": [],
   "source": [
    "assert not ensemble[\"n_clusters\"].isna().any()"
   ]
  },
  {
   "cell_type": "code",
   "execution_count": 32,
   "id": "bbe90764",
   "metadata": {
    "execution": {
     "iopub.execute_input": "2022-09-12T11:00:31.331717Z",
     "iopub.status.busy": "2022-09-12T11:00:31.331516Z",
     "iopub.status.idle": "2022-09-12T11:00:31.348099Z",
     "shell.execute_reply": "2022-09-12T11:00:31.347499Z"
    },
    "papermill": {
     "duration": 0.034624,
     "end_time": "2022-09-12T11:00:31.349480",
     "exception": false,
     "start_time": "2022-09-12T11:00:31.314856",
     "status": "completed"
    },
    "tags": []
   },
   "outputs": [],
   "source": [
    "assert ensemble.shape[0] == len(CLUSTERERS)"
   ]
  },
  {
   "cell_type": "code",
   "execution_count": 33,
   "id": "8d8de903",
   "metadata": {
    "execution": {
     "iopub.execute_input": "2022-09-12T11:00:31.382269Z",
     "iopub.status.busy": "2022-09-12T11:00:31.382048Z",
     "iopub.status.idle": "2022-09-12T11:00:31.415785Z",
     "shell.execute_reply": "2022-09-12T11:00:31.415224Z"
    },
    "papermill": {
     "duration": 0.051572,
     "end_time": "2022-09-12T11:00:31.417200",
     "exception": false,
     "start_time": "2022-09-12T11:00:31.365628",
     "status": "completed"
    },
    "tags": []
   },
   "outputs": [],
   "source": [
    "# all partitions have the right size\n",
    "assert np.all(\n",
    "    [part[\"partition\"].shape[0] == data.shape[0] for idx, part in ensemble.iterrows()]\n",
    ")"
   ]
  },
  {
   "cell_type": "code",
   "execution_count": 34,
   "id": "cb4156be",
   "metadata": {
    "execution": {
     "iopub.execute_input": "2022-09-12T11:00:31.449987Z",
     "iopub.status.busy": "2022-09-12T11:00:31.449485Z",
     "iopub.status.idle": "2022-09-12T11:00:31.485917Z",
     "shell.execute_reply": "2022-09-12T11:00:31.485304Z"
    },
    "papermill": {
     "duration": 0.054353,
     "end_time": "2022-09-12T11:00:31.487461",
     "exception": false,
     "start_time": "2022-09-12T11:00:31.433108",
     "status": "completed"
    },
    "tags": []
   },
   "outputs": [],
   "source": [
    "# no partition has negative clusters (noisy points)\n",
    "assert not np.any([(part[\"partition\"] < 0).any() for idx, part in ensemble.iterrows()])"
   ]
  },
  {
   "cell_type": "markdown",
   "id": "d1571fcd",
   "metadata": {
    "papermill": {
     "duration": 0.015688,
     "end_time": "2022-09-12T11:00:31.519118",
     "exception": false,
     "start_time": "2022-09-12T11:00:31.503430",
     "status": "completed"
    },
    "tags": []
   },
   "source": [
    "## Save"
   ]
  },
  {
   "cell_type": "code",
   "execution_count": 35,
   "id": "1eac08b4",
   "metadata": {
    "execution": {
     "iopub.execute_input": "2022-09-12T11:00:31.551850Z",
     "iopub.status.busy": "2022-09-12T11:00:31.551207Z",
     "iopub.status.idle": "2022-09-12T11:00:31.568829Z",
     "shell.execute_reply": "2022-09-12T11:00:31.568434Z"
    },
    "papermill": {
     "duration": 0.03524,
     "end_time": "2022-09-12T11:00:31.570032",
     "exception": false,
     "start_time": "2022-09-12T11:00:31.534792",
     "status": "completed"
    },
    "tags": []
   },
   "outputs": [
    {
     "data": {
      "text/plain": [
       "PosixPath('/opt/data/results/clustering/null_sims/runs/z_score_std-projection-smultixcan-efo_partial-mashr-zscores/AgglomerativeClustering-AFFINITY_euclidean-K_MAX_75-K_MIN_2.pkl')"
      ]
     },
     "metadata": {},
     "output_type": "display_data"
    }
   ],
   "source": [
    "del CLUSTERING_OPTIONS[\"LINKAGE\"]\n",
    "\n",
    "output_filename = Path(\n",
    "    RESULTS_DIR,\n",
    "    generate_result_set_name(\n",
    "        CLUSTERING_OPTIONS,\n",
    "        prefix=f\"{clustering_method_name}-\",\n",
    "        suffix=\".pkl\",\n",
    "    ),\n",
    ").resolve()\n",
    "display(output_filename)"
   ]
  },
  {
   "cell_type": "code",
   "execution_count": 36,
   "id": "f5e2c9ac",
   "metadata": {
    "execution": {
     "iopub.execute_input": "2022-09-12T11:00:31.603054Z",
     "iopub.status.busy": "2022-09-12T11:00:31.602846Z",
     "iopub.status.idle": "2022-09-12T11:00:31.627797Z",
     "shell.execute_reply": "2022-09-12T11:00:31.627292Z"
    },
    "papermill": {
     "duration": 0.043038,
     "end_time": "2022-09-12T11:00:31.629238",
     "exception": false,
     "start_time": "2022-09-12T11:00:31.586200",
     "status": "completed"
    },
    "tags": []
   },
   "outputs": [],
   "source": [
    "ensemble.to_pickle(output_filename)"
   ]
  },
  {
   "cell_type": "code",
   "execution_count": null,
   "id": "e59b0b69",
   "metadata": {
    "papermill": {
     "duration": 0.016068,
     "end_time": "2022-09-12T11:00:31.662155",
     "exception": false,
     "start_time": "2022-09-12T11:00:31.646087",
     "status": "completed"
    },
    "tags": []
   },
   "outputs": [],
   "source": []
  }
 ],
 "metadata": {
  "jupytext": {
   "cell_metadata_filter": "all,-execution,-papermill,-trusted",
   "formats": "ipynb,py//py:percent"
  },
  "kernelspec": {
   "display_name": "Python 3 (ipykernel)",
   "language": "python",
   "name": "python3"
  },
  "language_info": {
   "codemirror_mode": {
    "name": "ipython",
    "version": 3
   },
   "file_extension": ".py",
   "mimetype": "text/x-python",
   "name": "python",
   "nbconvert_exporter": "python",
   "pygments_lexer": "ipython3",
   "version": "3.8.13"
  },
  "papermill": {
   "default_parameters": {},
   "duration": 1682.542656,
   "end_time": "2022-09-12T11:00:32.003423",
   "environment_variables": {},
   "exception": null,
   "input_path": "nbs/13.1_cluster_analysis_null/13_00-hc-z_score_std.ipynb",
   "output_path": "nbs/13.1_cluster_analysis_null/13_00-hc-z_score_std.run.ipynb",
   "parameters": {},
   "start_time": "2022-09-12T10:32:29.460767",
   "version": "2.2.2"
  },
  "toc-autonumbering": true,
  "toc-showcode": false,
  "toc-showmarkdowntxt": false,
  "toc-showtags": false
 },
 "nbformat": 4,
 "nbformat_minor": 5
}
