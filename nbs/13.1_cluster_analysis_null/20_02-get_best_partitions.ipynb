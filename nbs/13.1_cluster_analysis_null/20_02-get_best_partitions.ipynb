{
 "cells": [
  {
   "cell_type": "markdown",
   "id": "d323644a",
   "metadata": {
    "papermill": {
     "duration": 0.0074,
     "end_time": "2022-09-13T12:31:06.280748",
     "exception": false,
     "start_time": "2022-09-13T12:31:06.273348",
     "status": "completed"
    },
    "tags": []
   },
   "source": [
    "# Description"
   ]
  },
  {
   "cell_type": "markdown",
   "id": "edf982cc",
   "metadata": {
    "papermill": {
     "duration": 0.010084,
     "end_time": "2022-09-13T12:31:06.298617",
     "exception": false,
     "start_time": "2022-09-13T12:31:06.288533",
     "status": "completed"
    },
    "tags": []
   },
   "source": [
    "It analyzes how consensus partitions generated before agree with the ensemble, and selects the best ones for downstream analyses."
   ]
  },
  {
   "cell_type": "markdown",
   "id": "072e1ea6",
   "metadata": {
    "papermill": {
     "duration": 0.009143,
     "end_time": "2022-09-13T12:31:06.316873",
     "exception": false,
     "start_time": "2022-09-13T12:31:06.307730",
     "status": "completed"
    },
    "tags": []
   },
   "source": [
    "# Modules loading"
   ]
  },
  {
   "cell_type": "code",
   "execution_count": 1,
   "id": "98449f60",
   "metadata": {
    "execution": {
     "iopub.execute_input": "2022-09-13T12:31:06.333916Z",
     "iopub.status.busy": "2022-09-13T12:31:06.333727Z",
     "iopub.status.idle": "2022-09-13T12:31:06.349952Z",
     "shell.execute_reply": "2022-09-13T12:31:06.349339Z"
    },
    "papermill": {
     "duration": 0.028787,
     "end_time": "2022-09-13T12:31:06.351393",
     "exception": false,
     "start_time": "2022-09-13T12:31:06.322606",
     "status": "completed"
    },
    "tags": []
   },
   "outputs": [],
   "source": [
    "%load_ext autoreload\n",
    "%autoreload 2"
   ]
  },
  {
   "cell_type": "code",
   "execution_count": 2,
   "id": "cb11ab4f",
   "metadata": {
    "execution": {
     "iopub.execute_input": "2022-09-13T12:31:06.364388Z",
     "iopub.status.busy": "2022-09-13T12:31:06.364226Z",
     "iopub.status.idle": "2022-09-13T12:31:07.023838Z",
     "shell.execute_reply": "2022-09-13T12:31:07.023260Z"
    },
    "papermill": {
     "duration": 0.667933,
     "end_time": "2022-09-13T12:31:07.025392",
     "exception": false,
     "start_time": "2022-09-13T12:31:06.357459",
     "status": "completed"
    },
    "tags": []
   },
   "outputs": [],
   "source": [
    "from pathlib import Path\n",
    "from IPython.display import display\n",
    "\n",
    "import pandas as pd\n",
    "import matplotlib.pyplot as plt\n",
    "import seaborn as sns\n",
    "\n",
    "import conf"
   ]
  },
  {
   "cell_type": "markdown",
   "id": "0b2fcc60",
   "metadata": {
    "papermill": {
     "duration": 0.005541,
     "end_time": "2022-09-13T12:31:07.037163",
     "exception": false,
     "start_time": "2022-09-13T12:31:07.031622",
     "status": "completed"
    },
    "tags": []
   },
   "source": [
    "# Load consensus clustering results"
   ]
  },
  {
   "cell_type": "code",
   "execution_count": 3,
   "id": "2fb67b26",
   "metadata": {
    "execution": {
     "iopub.execute_input": "2022-09-13T12:31:07.049672Z",
     "iopub.status.busy": "2022-09-13T12:31:07.049461Z",
     "iopub.status.idle": "2022-09-13T12:31:07.067622Z",
     "shell.execute_reply": "2022-09-13T12:31:07.067126Z"
    },
    "papermill": {
     "duration": 0.026067,
     "end_time": "2022-09-13T12:31:07.068830",
     "exception": false,
     "start_time": "2022-09-13T12:31:07.042763",
     "status": "completed"
    },
    "tags": []
   },
   "outputs": [
    {
     "data": {
      "text/plain": [
       "PosixPath('/opt/data/results/clustering/null_sims/consensus_clustering')"
      ]
     },
     "metadata": {},
     "output_type": "display_data"
    }
   ],
   "source": [
    "CONSENSUS_CLUSTERING_DIR = Path(\n",
    "    conf.RESULTS[\"CLUSTERING_NULL_DIR\"], \"consensus_clustering\"\n",
    ").resolve()\n",
    "\n",
    "display(CONSENSUS_CLUSTERING_DIR)"
   ]
  },
  {
   "cell_type": "code",
   "execution_count": 4,
   "id": "74226d69",
   "metadata": {
    "execution": {
     "iopub.execute_input": "2022-09-13T12:31:07.081707Z",
     "iopub.status.busy": "2022-09-13T12:31:07.081549Z",
     "iopub.status.idle": "2022-09-13T12:31:07.098651Z",
     "shell.execute_reply": "2022-09-13T12:31:07.098035Z"
    },
    "papermill": {
     "duration": 0.024983,
     "end_time": "2022-09-13T12:31:07.099954",
     "exception": false,
     "start_time": "2022-09-13T12:31:07.074971",
     "status": "completed"
    },
    "tags": []
   },
   "outputs": [
    {
     "data": {
      "text/plain": [
       "PosixPath('/opt/data/results/clustering/null_sims/consensus_clustering/consensus_clustering_runs.pkl')"
      ]
     },
     "metadata": {},
     "output_type": "display_data"
    }
   ],
   "source": [
    "input_file = Path(CONSENSUS_CLUSTERING_DIR, \"consensus_clustering_runs.pkl\").resolve()\n",
    "display(input_file)"
   ]
  },
  {
   "cell_type": "code",
   "execution_count": 5,
   "id": "1b601aa2",
   "metadata": {
    "execution": {
     "iopub.execute_input": "2022-09-13T12:31:07.113582Z",
     "iopub.status.busy": "2022-09-13T12:31:07.113418Z",
     "iopub.status.idle": "2022-09-13T12:31:07.138858Z",
     "shell.execute_reply": "2022-09-13T12:31:07.138230Z"
    },
    "papermill": {
     "duration": 0.033923,
     "end_time": "2022-09-13T12:31:07.140332",
     "exception": false,
     "start_time": "2022-09-13T12:31:07.106409",
     "status": "completed"
    },
    "tags": []
   },
   "outputs": [],
   "source": [
    "consensus_clustering_results = pd.read_pickle(input_file)"
   ]
  },
  {
   "cell_type": "code",
   "execution_count": 6,
   "id": "f13715cf",
   "metadata": {
    "execution": {
     "iopub.execute_input": "2022-09-13T12:31:07.154408Z",
     "iopub.status.busy": "2022-09-13T12:31:07.154233Z",
     "iopub.status.idle": "2022-09-13T12:31:07.172000Z",
     "shell.execute_reply": "2022-09-13T12:31:07.171386Z"
    },
    "papermill": {
     "duration": 0.026409,
     "end_time": "2022-09-13T12:31:07.173380",
     "exception": false,
     "start_time": "2022-09-13T12:31:07.146971",
     "status": "completed"
    },
    "tags": []
   },
   "outputs": [
    {
     "data": {
      "text/plain": [
       "(413, 12)"
      ]
     },
     "execution_count": 6,
     "metadata": {},
     "output_type": "execute_result"
    }
   ],
   "source": [
    "consensus_clustering_results.shape"
   ]
  },
  {
   "cell_type": "code",
   "execution_count": 7,
   "id": "85e33247",
   "metadata": {
    "execution": {
     "iopub.execute_input": "2022-09-13T12:31:07.187858Z",
     "iopub.status.busy": "2022-09-13T12:31:07.187683Z",
     "iopub.status.idle": "2022-09-13T12:31:07.219440Z",
     "shell.execute_reply": "2022-09-13T12:31:07.218968Z"
    },
    "papermill": {
     "duration": 0.040484,
     "end_time": "2022-09-13T12:31:07.220699",
     "exception": false,
     "start_time": "2022-09-13T12:31:07.180215",
     "status": "completed"
    },
    "tags": []
   },
   "outputs": [
    {
     "data": {
      "text/html": [
       "<div>\n",
       "<style scoped>\n",
       "    .dataframe tbody tr th:only-of-type {\n",
       "        vertical-align: middle;\n",
       "    }\n",
       "\n",
       "    .dataframe tbody tr th {\n",
       "        vertical-align: top;\n",
       "    }\n",
       "\n",
       "    .dataframe thead th {\n",
       "        text-align: right;\n",
       "    }\n",
       "</style>\n",
       "<table border=\"1\" class=\"dataframe\">\n",
       "  <thead>\n",
       "    <tr style=\"text-align: right;\">\n",
       "      <th></th>\n",
       "      <th>method</th>\n",
       "      <th>partition</th>\n",
       "      <th>k</th>\n",
       "      <th>ari_mean</th>\n",
       "      <th>ari_median</th>\n",
       "      <th>ari_std</th>\n",
       "      <th>ami_mean</th>\n",
       "      <th>ami_median</th>\n",
       "      <th>ami_std</th>\n",
       "      <th>nmi_mean</th>\n",
       "      <th>nmi_median</th>\n",
       "      <th>nmi_std</th>\n",
       "    </tr>\n",
       "  </thead>\n",
       "  <tbody>\n",
       "    <tr>\n",
       "      <th>0</th>\n",
       "      <td>scc_025</td>\n",
       "      <td>[1, 1, 1, 1, 1, 1, 1, 1, 1, 1, 1, 1, 1, 1, 1, ...</td>\n",
       "      <td>2</td>\n",
       "      <td>0.030600</td>\n",
       "      <td>0.000169</td>\n",
       "      <td>0.069651</td>\n",
       "      <td>0.101382</td>\n",
       "      <td>0.000544</td>\n",
       "      <td>0.155524</td>\n",
       "      <td>0.105621</td>\n",
       "      <td>0.009857</td>\n",
       "      <td>0.153730</td>\n",
       "    </tr>\n",
       "    <tr>\n",
       "      <th>1</th>\n",
       "      <td>scc_025</td>\n",
       "      <td>[0, 0, 0, 0, 0, 0, 0, 0, 0, 0, 0, 0, 0, 0, 0, ...</td>\n",
       "      <td>3</td>\n",
       "      <td>0.053822</td>\n",
       "      <td>-0.000019</td>\n",
       "      <td>0.114262</td>\n",
       "      <td>0.144432</td>\n",
       "      <td>0.000731</td>\n",
       "      <td>0.221952</td>\n",
       "      <td>0.149917</td>\n",
       "      <td>0.011109</td>\n",
       "      <td>0.219680</td>\n",
       "    </tr>\n",
       "    <tr>\n",
       "      <th>2</th>\n",
       "      <td>scc_025</td>\n",
       "      <td>[2, 2, 2, 2, 2, 2, 2, 2, 2, 2, 2, 2, 2, 2, 2, ...</td>\n",
       "      <td>4</td>\n",
       "      <td>0.063607</td>\n",
       "      <td>0.000089</td>\n",
       "      <td>0.119619</td>\n",
       "      <td>0.165313</td>\n",
       "      <td>0.000997</td>\n",
       "      <td>0.250499</td>\n",
       "      <td>0.171683</td>\n",
       "      <td>0.013776</td>\n",
       "      <td>0.247910</td>\n",
       "    </tr>\n",
       "    <tr>\n",
       "      <th>3</th>\n",
       "      <td>scc_025</td>\n",
       "      <td>[0, 0, 0, 0, 0, 0, 0, 0, 0, 0, 0, 0, 0, 0, 0, ...</td>\n",
       "      <td>5</td>\n",
       "      <td>0.084613</td>\n",
       "      <td>0.000429</td>\n",
       "      <td>0.150065</td>\n",
       "      <td>0.185441</td>\n",
       "      <td>0.001292</td>\n",
       "      <td>0.281006</td>\n",
       "      <td>0.192515</td>\n",
       "      <td>0.012765</td>\n",
       "      <td>0.278085</td>\n",
       "    </tr>\n",
       "    <tr>\n",
       "      <th>4</th>\n",
       "      <td>scc_025</td>\n",
       "      <td>[0, 0, 0, 0, 0, 0, 0, 0, 0, 0, 0, 0, 0, 0, 0, ...</td>\n",
       "      <td>6</td>\n",
       "      <td>0.096732</td>\n",
       "      <td>0.000172</td>\n",
       "      <td>0.169074</td>\n",
       "      <td>0.196785</td>\n",
       "      <td>0.001037</td>\n",
       "      <td>0.299126</td>\n",
       "      <td>0.204510</td>\n",
       "      <td>0.013259</td>\n",
       "      <td>0.295917</td>\n",
       "    </tr>\n",
       "  </tbody>\n",
       "</table>\n",
       "</div>"
      ],
      "text/plain": [
       "    method                                          partition  k  ari_mean  \\\n",
       "0  scc_025  [1, 1, 1, 1, 1, 1, 1, 1, 1, 1, 1, 1, 1, 1, 1, ...  2  0.030600   \n",
       "1  scc_025  [0, 0, 0, 0, 0, 0, 0, 0, 0, 0, 0, 0, 0, 0, 0, ...  3  0.053822   \n",
       "2  scc_025  [2, 2, 2, 2, 2, 2, 2, 2, 2, 2, 2, 2, 2, 2, 2, ...  4  0.063607   \n",
       "3  scc_025  [0, 0, 0, 0, 0, 0, 0, 0, 0, 0, 0, 0, 0, 0, 0, ...  5  0.084613   \n",
       "4  scc_025  [0, 0, 0, 0, 0, 0, 0, 0, 0, 0, 0, 0, 0, 0, 0, ...  6  0.096732   \n",
       "\n",
       "   ari_median   ari_std  ami_mean  ami_median   ami_std  nmi_mean  nmi_median  \\\n",
       "0    0.000169  0.069651  0.101382    0.000544  0.155524  0.105621    0.009857   \n",
       "1   -0.000019  0.114262  0.144432    0.000731  0.221952  0.149917    0.011109   \n",
       "2    0.000089  0.119619  0.165313    0.000997  0.250499  0.171683    0.013776   \n",
       "3    0.000429  0.150065  0.185441    0.001292  0.281006  0.192515    0.012765   \n",
       "4    0.000172  0.169074  0.196785    0.001037  0.299126  0.204510    0.013259   \n",
       "\n",
       "    nmi_std  \n",
       "0  0.153730  \n",
       "1  0.219680  \n",
       "2  0.247910  \n",
       "3  0.278085  \n",
       "4  0.295917  "
      ]
     },
     "execution_count": 7,
     "metadata": {},
     "output_type": "execute_result"
    }
   ],
   "source": [
    "consensus_clustering_results.head()"
   ]
  },
  {
   "cell_type": "markdown",
   "id": "d0bb472d",
   "metadata": {
    "papermill": {
     "duration": 0.006174,
     "end_time": "2022-09-13T12:31:07.233308",
     "exception": false,
     "start_time": "2022-09-13T12:31:07.227134",
     "status": "completed"
    },
    "tags": []
   },
   "source": [
    "# Explore clustering indexes"
   ]
  },
  {
   "cell_type": "code",
   "execution_count": 8,
   "id": "bc6cc016",
   "metadata": {
    "execution": {
     "iopub.execute_input": "2022-09-13T12:31:07.275829Z",
     "iopub.status.busy": "2022-09-13T12:31:07.275634Z",
     "iopub.status.idle": "2022-09-13T12:31:07.358799Z",
     "shell.execute_reply": "2022-09-13T12:31:07.358204Z"
    },
    "papermill": {
     "duration": 0.093647,
     "end_time": "2022-09-13T12:31:07.360726",
     "exception": false,
     "start_time": "2022-09-13T12:31:07.267079",
     "status": "completed"
    },
    "tags": []
   },
   "outputs": [],
   "source": [
    "_col = \"ari_mean\"\n",
    "\n",
    "_best_parts_by_ari = (\n",
    "    consensus_clustering_results.groupby(\"k\")\n",
    "    .apply(lambda x: x.sort_values(_col, ascending=False).head(1))\n",
    "    .sort_values(_col, ascending=False)[[\"method\", \"k\", _col]]\n",
    "    .rename(columns={_col: \"index_value\"})\n",
    ")"
   ]
  },
  {
   "cell_type": "code",
   "execution_count": 9,
   "id": "964a75d6",
   "metadata": {
    "execution": {
     "iopub.execute_input": "2022-09-13T12:31:07.374317Z",
     "iopub.status.busy": "2022-09-13T12:31:07.374105Z",
     "iopub.status.idle": "2022-09-13T12:31:07.431853Z",
     "shell.execute_reply": "2022-09-13T12:31:07.431155Z"
    },
    "papermill": {
     "duration": 0.066199,
     "end_time": "2022-09-13T12:31:07.433368",
     "exception": false,
     "start_time": "2022-09-13T12:31:07.367169",
     "status": "completed"
    },
    "tags": []
   },
   "outputs": [],
   "source": [
    "_col = \"ami_mean\"\n",
    "\n",
    "_best_parts_by_ami = (\n",
    "    consensus_clustering_results.groupby(\"k\")\n",
    "    .apply(lambda x: x.sort_values(_col, ascending=False).head(1))\n",
    "    .sort_values(_col, ascending=False)[[\"method\", \"k\", _col]]\n",
    "    .rename(columns={_col: \"index_value\"})\n",
    ")"
   ]
  },
  {
   "cell_type": "code",
   "execution_count": 10,
   "id": "66d3c71a",
   "metadata": {
    "execution": {
     "iopub.execute_input": "2022-09-13T12:31:07.447716Z",
     "iopub.status.busy": "2022-09-13T12:31:07.447551Z",
     "iopub.status.idle": "2022-09-13T12:31:07.504179Z",
     "shell.execute_reply": "2022-09-13T12:31:07.503571Z"
    },
    "papermill": {
     "duration": 0.065481,
     "end_time": "2022-09-13T12:31:07.505733",
     "exception": false,
     "start_time": "2022-09-13T12:31:07.440252",
     "status": "completed"
    },
    "tags": []
   },
   "outputs": [],
   "source": [
    "_col = \"nmi_mean\"\n",
    "\n",
    "_best_parts_by_nmi = (\n",
    "    consensus_clustering_results.groupby(\"k\")\n",
    "    .apply(lambda x: x.sort_values(_col, ascending=False).head(1))\n",
    "    .sort_values(_col, ascending=False)[[\"method\", \"k\", _col]]\n",
    "    .rename(columns={_col: \"index_value\"})\n",
    ")"
   ]
  },
  {
   "cell_type": "code",
   "execution_count": 11,
   "id": "eb927a75",
   "metadata": {
    "execution": {
     "iopub.execute_input": "2022-09-13T12:31:07.519098Z",
     "iopub.status.busy": "2022-09-13T12:31:07.518909Z",
     "iopub.status.idle": "2022-09-13T12:31:07.536877Z",
     "shell.execute_reply": "2022-09-13T12:31:07.536394Z"
    },
    "papermill": {
     "duration": 0.025924,
     "end_time": "2022-09-13T12:31:07.538181",
     "exception": false,
     "start_time": "2022-09-13T12:31:07.512257",
     "status": "completed"
    },
    "tags": []
   },
   "outputs": [
    {
     "data": {
      "text/html": [
       "<svg  width=\"165\" height=\"55\"><rect x=\"0\" y=\"0\" width=\"55\" height=\"55\" style=\"fill:#0173b2;stroke-width:2;stroke:rgb(255,255,255)\"/><rect x=\"55\" y=\"0\" width=\"55\" height=\"55\" style=\"fill:#de8f05;stroke-width:2;stroke:rgb(255,255,255)\"/><rect x=\"110\" y=\"0\" width=\"55\" height=\"55\" style=\"fill:#029e73;stroke-width:2;stroke:rgb(255,255,255)\"/></svg>"
      ],
      "text/plain": [
       "[(0.00392156862745098, 0.45098039215686275, 0.6980392156862745),\n",
       " (0.8705882352941177, 0.5607843137254902, 0.0196078431372549),\n",
       " (0.00784313725490196, 0.6196078431372549, 0.45098039215686275)]"
      ]
     },
     "metadata": {},
     "output_type": "display_data"
    }
   ],
   "source": [
    "_indexes_colors = sns.color_palette(\"colorblind\", 3)\n",
    "display(_indexes_colors)"
   ]
  },
  {
   "cell_type": "code",
   "execution_count": 12,
   "id": "96937023",
   "metadata": {
    "execution": {
     "iopub.execute_input": "2022-09-13T12:31:07.552422Z",
     "iopub.status.busy": "2022-09-13T12:31:07.552256Z",
     "iopub.status.idle": "2022-09-13T12:31:09.585358Z",
     "shell.execute_reply": "2022-09-13T12:31:09.584721Z"
    },
    "papermill": {
     "duration": 2.042286,
     "end_time": "2022-09-13T12:31:09.587119",
     "exception": false,
     "start_time": "2022-09-13T12:31:07.544833",
     "status": "completed"
    },
    "tags": []
   },
   "outputs": [
    {
     "data": {
      "image/png": "[encoded data removed]",
      "text/plain": [
       "<Figure size 864x432 with 1 Axes>"
      ]
     },
     "metadata": {},
     "output_type": "display_data"
    }
   ],
   "source": [
    "with sns.plotting_context(\"talk\", font_scale=0.75), sns.axes_style(\n",
    "    \"whitegrid\", {\"grid.linestyle\": \"--\"}\n",
    "):\n",
    "    fig, ax = plt.subplots(figsize=(12, 6))\n",
    "\n",
    "    ax = sns.pointplot(\n",
    "        data=_best_parts_by_ari,\n",
    "        x=\"k\",\n",
    "        y=\"index_value\",\n",
    "        color=_indexes_colors[0],\n",
    "        ci=None,\n",
    "    )\n",
    "    ax = sns.pointplot(\n",
    "        data=_best_parts_by_ami,\n",
    "        x=\"k\",\n",
    "        y=\"index_value\",\n",
    "        color=_indexes_colors[1],\n",
    "        ci=None,\n",
    "    )\n",
    "    ax = sns.pointplot(\n",
    "        data=_best_parts_by_nmi,\n",
    "        x=\"k\",\n",
    "        y=\"index_value\",\n",
    "        color=_indexes_colors[2],\n",
    "        ci=None,\n",
    "    )\n",
    "\n",
    "    ax.set_ylabel(f\"Agreement with ensemble\")\n",
    "    ax.set_xlabel(\"Number of clusters ($k$)\")\n",
    "    ax.set_xticklabels(ax.get_xticklabels(), rotation=45)\n",
    "    plt.legend(labels=[\"ARI\", \"AMI\", \"NMI\"])\n",
    "    plt.grid(True)\n",
    "    plt.tight_layout()"
   ]
  },
  {
   "cell_type": "markdown",
   "id": "0aa6a0e0",
   "metadata": {
    "papermill": {
     "duration": 0.00691,
     "end_time": "2022-09-13T12:31:09.601640",
     "exception": false,
     "start_time": "2022-09-13T12:31:09.594730",
     "status": "completed"
    },
    "tags": []
   },
   "source": [
    "AMI and NMI show the same trend for higher `k`. That's surprising. I would have expected that AMI has the same pattern as ARI, since both are adjusted-for-chance, and should not show higher values for higher `k` as it is expected for a not adjusted-for-chance index as NMI.\n",
    "\n",
    "**CONCLUSION:** I will pick ARI for the follow up analysis."
   ]
  },
  {
   "cell_type": "markdown",
   "id": "6b314bea",
   "metadata": {
    "papermill": {
     "duration": 0.007138,
     "end_time": "2022-09-13T12:31:09.615706",
     "exception": false,
     "start_time": "2022-09-13T12:31:09.608568",
     "status": "completed"
    },
    "tags": []
   },
   "source": [
    "# Explore best partition per k"
   ]
  },
  {
   "cell_type": "code",
   "execution_count": 13,
   "id": "4996defe",
   "metadata": {
    "execution": {
     "iopub.execute_input": "2022-09-13T12:31:09.630999Z",
     "iopub.status.busy": "2022-09-13T12:31:09.630760Z",
     "iopub.status.idle": "2022-09-13T12:31:09.647332Z",
     "shell.execute_reply": "2022-09-13T12:31:09.646932Z"
    },
    "papermill": {
     "duration": 0.026074,
     "end_time": "2022-09-13T12:31:09.648648",
     "exception": false,
     "start_time": "2022-09-13T12:31:09.622574",
     "status": "completed"
    },
    "tags": []
   },
   "outputs": [],
   "source": [
    "_selected_measure = \"ARI\"\n",
    "_mean_column, _median_column = \"ari_mean\", \"ari_median\""
   ]
  },
  {
   "cell_type": "code",
   "execution_count": 14,
   "id": "fc30cd3d",
   "metadata": {
    "execution": {
     "iopub.execute_input": "2022-09-13T12:31:09.664523Z",
     "iopub.status.busy": "2022-09-13T12:31:09.664333Z",
     "iopub.status.idle": "2022-09-13T12:31:09.776910Z",
     "shell.execute_reply": "2022-09-13T12:31:09.776282Z"
    },
    "papermill": {
     "duration": 0.1222,
     "end_time": "2022-09-13T12:31:09.778438",
     "exception": false,
     "start_time": "2022-09-13T12:31:09.656238",
     "status": "completed"
    },
    "tags": []
   },
   "outputs": [
    {
     "data": {
      "text/html": [
       "<div>\n",
       "<style scoped>\n",
       "    .dataframe tbody tr th:only-of-type {\n",
       "        vertical-align: middle;\n",
       "    }\n",
       "\n",
       "    .dataframe tbody tr th {\n",
       "        vertical-align: top;\n",
       "    }\n",
       "\n",
       "    .dataframe thead th {\n",
       "        text-align: right;\n",
       "    }\n",
       "</style>\n",
       "<table border=\"1\" class=\"dataframe\">\n",
       "  <thead>\n",
       "    <tr style=\"text-align: right;\">\n",
       "      <th></th>\n",
       "      <th></th>\n",
       "      <th>method</th>\n",
       "      <th>k</th>\n",
       "      <th>ari_mean</th>\n",
       "    </tr>\n",
       "    <tr>\n",
       "      <th>k</th>\n",
       "      <th></th>\n",
       "      <th></th>\n",
       "      <th></th>\n",
       "      <th></th>\n",
       "    </tr>\n",
       "  </thead>\n",
       "  <tbody>\n",
       "    <tr>\n",
       "      <th>30</th>\n",
       "      <th>323</th>\n",
       "      <td>scc_020</td>\n",
       "      <td>30</td>\n",
       "      <td>0.170817</td>\n",
       "    </tr>\n",
       "    <tr>\n",
       "      <th>29</th>\n",
       "      <th>86</th>\n",
       "      <td>scc_030</td>\n",
       "      <td>29</td>\n",
       "      <td>0.170662</td>\n",
       "    </tr>\n",
       "    <tr>\n",
       "      <th>31</th>\n",
       "      <th>324</th>\n",
       "      <td>scc_020</td>\n",
       "      <td>31</td>\n",
       "      <td>0.170648</td>\n",
       "    </tr>\n",
       "    <tr>\n",
       "      <th>28</th>\n",
       "      <th>85</th>\n",
       "      <td>scc_030</td>\n",
       "      <td>28</td>\n",
       "      <td>0.170449</td>\n",
       "    </tr>\n",
       "    <tr>\n",
       "      <th>33</th>\n",
       "      <th>267</th>\n",
       "      <td>scc_050</td>\n",
       "      <td>33</td>\n",
       "      <td>0.170355</td>\n",
       "    </tr>\n",
       "    <tr>\n",
       "      <th>34</th>\n",
       "      <th>327</th>\n",
       "      <td>scc_020</td>\n",
       "      <td>34</td>\n",
       "      <td>0.170212</td>\n",
       "    </tr>\n",
       "    <tr>\n",
       "      <th>27</th>\n",
       "      <th>261</th>\n",
       "      <td>scc_050</td>\n",
       "      <td>27</td>\n",
       "      <td>0.169714</td>\n",
       "    </tr>\n",
       "    <tr>\n",
       "      <th>32</th>\n",
       "      <th>89</th>\n",
       "      <td>scc_030</td>\n",
       "      <td>32</td>\n",
       "      <td>0.169448</td>\n",
       "    </tr>\n",
       "    <tr>\n",
       "      <th>36</th>\n",
       "      <th>270</th>\n",
       "      <td>scc_050</td>\n",
       "      <td>36</td>\n",
       "      <td>0.169407</td>\n",
       "    </tr>\n",
       "    <tr>\n",
       "      <th>35</th>\n",
       "      <th>269</th>\n",
       "      <td>scc_050</td>\n",
       "      <td>35</td>\n",
       "      <td>0.169294</td>\n",
       "    </tr>\n",
       "  </tbody>\n",
       "</table>\n",
       "</div>"
      ],
      "text/plain": [
       "         method   k  ari_mean\n",
       "k                            \n",
       "30 323  scc_020  30  0.170817\n",
       "29 86   scc_030  29  0.170662\n",
       "31 324  scc_020  31  0.170648\n",
       "28 85   scc_030  28  0.170449\n",
       "33 267  scc_050  33  0.170355\n",
       "34 327  scc_020  34  0.170212\n",
       "27 261  scc_050  27  0.169714\n",
       "32 89   scc_030  32  0.169448\n",
       "36 270  scc_050  36  0.169407\n",
       "35 269  scc_050  35  0.169294"
      ]
     },
     "metadata": {},
     "output_type": "display_data"
    }
   ],
   "source": [
    "best_parts_by_mean = (\n",
    "    consensus_clustering_results.groupby(\"k\")\n",
    "    .apply(lambda x: x.sort_values(_mean_column, ascending=False).head(1))\n",
    "    .sort_values(_mean_column, ascending=False)[[\"method\", \"k\", _mean_column]]\n",
    ")\n",
    "display(best_parts_by_mean.head(10))"
   ]
  },
  {
   "cell_type": "code",
   "execution_count": 15,
   "id": "122bb205",
   "metadata": {
    "execution": {
     "iopub.execute_input": "2022-09-13T12:31:09.796428Z",
     "iopub.status.busy": "2022-09-13T12:31:09.796253Z",
     "iopub.status.idle": "2022-09-13T12:31:09.857928Z",
     "shell.execute_reply": "2022-09-13T12:31:09.857399Z"
    },
    "papermill": {
     "duration": 0.071918,
     "end_time": "2022-09-13T12:31:09.859343",
     "exception": false,
     "start_time": "2022-09-13T12:31:09.787425",
     "status": "completed"
    },
    "tags": []
   },
   "outputs": [
    {
     "data": {
      "text/html": [
       "<div>\n",
       "<style scoped>\n",
       "    .dataframe tbody tr th:only-of-type {\n",
       "        vertical-align: middle;\n",
       "    }\n",
       "\n",
       "    .dataframe tbody tr th {\n",
       "        vertical-align: top;\n",
       "    }\n",
       "\n",
       "    .dataframe thead th {\n",
       "        text-align: right;\n",
       "    }\n",
       "</style>\n",
       "<table border=\"1\" class=\"dataframe\">\n",
       "  <thead>\n",
       "    <tr style=\"text-align: right;\">\n",
       "      <th></th>\n",
       "      <th></th>\n",
       "      <th>method</th>\n",
       "      <th>k</th>\n",
       "      <th>ari_median</th>\n",
       "    </tr>\n",
       "    <tr>\n",
       "      <th>k</th>\n",
       "      <th></th>\n",
       "      <th></th>\n",
       "      <th></th>\n",
       "      <th></th>\n",
       "    </tr>\n",
       "  </thead>\n",
       "  <tbody>\n",
       "    <tr>\n",
       "      <th>11</th>\n",
       "      <th>363</th>\n",
       "      <td>eac_complete_coassoc_matrix</td>\n",
       "      <td>11</td>\n",
       "      <td>0.015548</td>\n",
       "    </tr>\n",
       "    <tr>\n",
       "      <th>8</th>\n",
       "      <th>360</th>\n",
       "      <td>eac_complete_coassoc_matrix</td>\n",
       "      <td>8</td>\n",
       "      <td>0.015406</td>\n",
       "    </tr>\n",
       "    <tr>\n",
       "      <th>10</th>\n",
       "      <th>362</th>\n",
       "      <td>eac_complete_coassoc_matrix</td>\n",
       "      <td>10</td>\n",
       "      <td>0.015159</td>\n",
       "    </tr>\n",
       "    <tr>\n",
       "      <th>9</th>\n",
       "      <th>361</th>\n",
       "      <td>eac_complete_coassoc_matrix</td>\n",
       "      <td>9</td>\n",
       "      <td>0.015153</td>\n",
       "    </tr>\n",
       "    <tr>\n",
       "      <th>12</th>\n",
       "      <th>364</th>\n",
       "      <td>eac_complete_coassoc_matrix</td>\n",
       "      <td>12</td>\n",
       "      <td>0.007814</td>\n",
       "    </tr>\n",
       "    <tr>\n",
       "      <th>13</th>\n",
       "      <th>365</th>\n",
       "      <td>eac_complete_coassoc_matrix</td>\n",
       "      <td>13</td>\n",
       "      <td>0.007495</td>\n",
       "    </tr>\n",
       "    <tr>\n",
       "      <th>15</th>\n",
       "      <th>367</th>\n",
       "      <td>eac_complete_coassoc_matrix</td>\n",
       "      <td>15</td>\n",
       "      <td>0.007408</td>\n",
       "    </tr>\n",
       "    <tr>\n",
       "      <th>14</th>\n",
       "      <th>366</th>\n",
       "      <td>eac_complete_coassoc_matrix</td>\n",
       "      <td>14</td>\n",
       "      <td>0.007381</td>\n",
       "    </tr>\n",
       "    <tr>\n",
       "      <th>16</th>\n",
       "      <th>368</th>\n",
       "      <td>eac_complete_coassoc_matrix</td>\n",
       "      <td>16</td>\n",
       "      <td>0.004413</td>\n",
       "    </tr>\n",
       "    <tr>\n",
       "      <th>17</th>\n",
       "      <th>369</th>\n",
       "      <td>eac_complete_coassoc_matrix</td>\n",
       "      <td>17</td>\n",
       "      <td>0.003694</td>\n",
       "    </tr>\n",
       "  </tbody>\n",
       "</table>\n",
       "</div>"
      ],
      "text/plain": [
       "                             method   k  ari_median\n",
       "k                                                  \n",
       "11 363  eac_complete_coassoc_matrix  11    0.015548\n",
       "8  360  eac_complete_coassoc_matrix   8    0.015406\n",
       "10 362  eac_complete_coassoc_matrix  10    0.015159\n",
       "9  361  eac_complete_coassoc_matrix   9    0.015153\n",
       "12 364  eac_complete_coassoc_matrix  12    0.007814\n",
       "13 365  eac_complete_coassoc_matrix  13    0.007495\n",
       "15 367  eac_complete_coassoc_matrix  15    0.007408\n",
       "14 366  eac_complete_coassoc_matrix  14    0.007381\n",
       "16 368  eac_complete_coassoc_matrix  16    0.004413\n",
       "17 369  eac_complete_coassoc_matrix  17    0.003694"
      ]
     },
     "metadata": {},
     "output_type": "display_data"
    }
   ],
   "source": [
    "best_parts_by_median = (\n",
    "    consensus_clustering_results.groupby(\"k\")\n",
    "    .apply(lambda x: x.sort_values(_median_column, ascending=False).head(1))\n",
    "    .sort_values(_median_column, ascending=False)[[\"method\", \"k\", _median_column]]\n",
    ")\n",
    "display(best_parts_by_median.head(10))"
   ]
  },
  {
   "cell_type": "code",
   "execution_count": 16,
   "id": "016d57e3",
   "metadata": {
    "execution": {
     "iopub.execute_input": "2022-09-13T12:31:09.875659Z",
     "iopub.status.busy": "2022-09-13T12:31:09.875027Z",
     "iopub.status.idle": "2022-09-13T12:31:11.777441Z",
     "shell.execute_reply": "2022-09-13T12:31:11.776904Z"
    },
    "papermill": {
     "duration": 1.912198,
     "end_time": "2022-09-13T12:31:11.779201",
     "exception": false,
     "start_time": "2022-09-13T12:31:09.867003",
     "status": "completed"
    },
    "tags": []
   },
   "outputs": [
    {
     "data": {
      "image/png": "[encoded data removed]",
      "text/plain": [
       "<Figure size 864x432 with 1 Axes>"
      ]
     },
     "metadata": {},
     "output_type": "display_data"
    }
   ],
   "source": [
    "with sns.plotting_context(\"talk\", font_scale=0.75), sns.axes_style(\n",
    "    \"whitegrid\", {\"grid.linestyle\": \"--\"}\n",
    "):\n",
    "    fig, ax = plt.subplots(figsize=(12, 6))\n",
    "\n",
    "    ax = sns.pointplot(\n",
    "        data=best_parts_by_mean,\n",
    "        x=\"k\",\n",
    "        y=_mean_column,\n",
    "        ci=None,\n",
    "        color=_indexes_colors[0],\n",
    "        label=\"Mean\",\n",
    "    )\n",
    "    ax = sns.pointplot(\n",
    "        data=best_parts_by_median,\n",
    "        x=\"k\",\n",
    "        y=_median_column,\n",
    "        ci=None,\n",
    "        color=_indexes_colors[1],\n",
    "        label=\"Median\",\n",
    "        ax=ax,\n",
    "    )\n",
    "    ax.set_ylabel(f\"Agreement with ensemble ({_selected_measure})\")\n",
    "    ax.set_xlabel(\"Number of clusters ($k$)\")\n",
    "    ax.set_xticklabels(ax.get_xticklabels(), rotation=45)\n",
    "    plt.legend(labels=[\"Mean\", \"Median\"])\n",
    "    plt.grid(True)\n",
    "    plt.tight_layout()"
   ]
  },
  {
   "cell_type": "markdown",
   "id": "d22c9c1c",
   "metadata": {
    "papermill": {
     "duration": 0.008375,
     "end_time": "2022-09-13T12:31:11.796107",
     "exception": false,
     "start_time": "2022-09-13T12:31:11.787732",
     "status": "completed"
    },
    "tags": []
   },
   "source": [
    "Both central tendency measures (the mean and the median) have the same behevior: higher agreement on lower/medium k values, and lower agreement on higher k values."
   ]
  },
  {
   "cell_type": "markdown",
   "id": "e9b797d6",
   "metadata": {
    "papermill": {
     "duration": 0.008338,
     "end_time": "2022-09-13T12:31:11.812769",
     "exception": false,
     "start_time": "2022-09-13T12:31:11.804431",
     "status": "completed"
    },
    "tags": []
   },
   "source": [
    "# Which consensus method performs better?"
   ]
  },
  {
   "cell_type": "markdown",
   "id": "940d6ad5",
   "metadata": {
    "papermill": {
     "duration": 0.0082,
     "end_time": "2022-09-13T12:31:11.829149",
     "exception": false,
     "start_time": "2022-09-13T12:31:11.820949",
     "status": "completed"
    },
    "tags": []
   },
   "source": [
    "For this comparison, I take the partitions with an agreement higher than the 75th percentile. From this set, I count how many times each method won."
   ]
  },
  {
   "cell_type": "markdown",
   "id": "5a4cdc1e",
   "metadata": {
    "papermill": {
     "duration": 0.008263,
     "end_time": "2022-09-13T12:31:11.845565",
     "exception": false,
     "start_time": "2022-09-13T12:31:11.837302",
     "status": "completed"
    },
    "tags": []
   },
   "source": [
    "## Using best by mean"
   ]
  },
  {
   "cell_type": "code",
   "execution_count": 17,
   "id": "c510f8cc",
   "metadata": {
    "execution": {
     "iopub.execute_input": "2022-09-13T12:31:11.863163Z",
     "iopub.status.busy": "2022-09-13T12:31:11.862939Z",
     "iopub.status.idle": "2022-09-13T12:31:11.883175Z",
     "shell.execute_reply": "2022-09-13T12:31:11.882752Z"
    },
    "papermill": {
     "duration": 0.030744,
     "end_time": "2022-09-13T12:31:11.884433",
     "exception": false,
     "start_time": "2022-09-13T12:31:11.853689",
     "status": "completed"
    },
    "tags": []
   },
   "outputs": [
    {
     "data": {
      "text/plain": [
       "count    59.000000\n",
       "mean      0.153364\n",
       "std       0.030169\n",
       "min       0.030675\n",
       "25%       0.156260\n",
       "50%       0.166726\n",
       "75%       0.168085\n",
       "max       0.170817\n",
       "Name: ari_mean, dtype: float64"
      ]
     },
     "metadata": {},
     "output_type": "display_data"
    }
   ],
   "source": [
    "_stats_data = best_parts_by_mean[_mean_column].describe()\n",
    "display(_stats_data)"
   ]
  },
  {
   "cell_type": "code",
   "execution_count": 18,
   "id": "fbe3c58a",
   "metadata": {
    "execution": {
     "iopub.execute_input": "2022-09-13T12:31:11.903144Z",
     "iopub.status.busy": "2022-09-13T12:31:11.902923Z",
     "iopub.status.idle": "2022-09-13T12:31:11.922201Z",
     "shell.execute_reply": "2022-09-13T12:31:11.921739Z"
    },
    "papermill": {
     "duration": 0.030209,
     "end_time": "2022-09-13T12:31:11.923553",
     "exception": false,
     "start_time": "2022-09-13T12:31:11.893344",
     "status": "completed"
    },
    "tags": []
   },
   "outputs": [
    {
     "data": {
      "text/plain": [
       "scc_050                       5\n",
       "scc_030                       4\n",
       "scc_020                       3\n",
       "eac_average_coassoc_matrix    2\n",
       "scc_025                       1\n",
       "Name: method, dtype: int64"
      ]
     },
     "execution_count": 18,
     "metadata": {},
     "output_type": "execute_result"
    }
   ],
   "source": [
    "best_parts_by_mean[best_parts_by_mean[_mean_column] > _stats_data[\"75%\"]][\n",
    "    \"method\"\n",
    "].value_counts()"
   ]
  },
  {
   "cell_type": "markdown",
   "id": "abaf7152",
   "metadata": {
    "papermill": {
     "duration": 0.008416,
     "end_time": "2022-09-13T12:31:11.941059",
     "exception": false,
     "start_time": "2022-09-13T12:31:11.932643",
     "status": "completed"
    },
    "tags": []
   },
   "source": [
    "SCC picked the \"best partition\" 14 times, whereas EAC (hierarhical clustering) did it only once."
   ]
  },
  {
   "cell_type": "markdown",
   "id": "c88678af",
   "metadata": {
    "papermill": {
     "duration": 0.008082,
     "end_time": "2022-09-13T12:31:11.957674",
     "exception": false,
     "start_time": "2022-09-13T12:31:11.949592",
     "status": "completed"
    },
    "tags": []
   },
   "source": [
    "## Using best by median"
   ]
  },
  {
   "cell_type": "code",
   "execution_count": 19,
   "id": "cacac7e7",
   "metadata": {
    "execution": {
     "iopub.execute_input": "2022-09-13T12:31:11.975798Z",
     "iopub.status.busy": "2022-09-13T12:31:11.975270Z",
     "iopub.status.idle": "2022-09-13T12:31:11.995055Z",
     "shell.execute_reply": "2022-09-13T12:31:11.994442Z"
    },
    "papermill": {
     "duration": 0.030083,
     "end_time": "2022-09-13T12:31:11.996335",
     "exception": false,
     "start_time": "2022-09-13T12:31:11.966252",
     "status": "completed"
    },
    "tags": []
   },
   "outputs": [
    {
     "data": {
      "text/plain": [
       "count    59.000000\n",
       "mean      0.002899\n",
       "std       0.003805\n",
       "min       0.000836\n",
       "25%       0.000876\n",
       "50%       0.001207\n",
       "75%       0.003221\n",
       "max       0.015548\n",
       "Name: ari_median, dtype: float64"
      ]
     },
     "metadata": {},
     "output_type": "display_data"
    }
   ],
   "source": [
    "_stats_data = best_parts_by_median[_median_column].describe()\n",
    "display(_stats_data)"
   ]
  },
  {
   "cell_type": "code",
   "execution_count": 20,
   "id": "a0d116dd",
   "metadata": {
    "execution": {
     "iopub.execute_input": "2022-09-13T12:31:12.015465Z",
     "iopub.status.busy": "2022-09-13T12:31:12.015014Z",
     "iopub.status.idle": "2022-09-13T12:31:12.033777Z",
     "shell.execute_reply": "2022-09-13T12:31:12.033235Z"
    },
    "papermill": {
     "duration": 0.029744,
     "end_time": "2022-09-13T12:31:12.035115",
     "exception": false,
     "start_time": "2022-09-13T12:31:12.005371",
     "status": "completed"
    },
    "tags": []
   },
   "outputs": [
    {
     "data": {
      "text/plain": [
       "eac_complete_coassoc_matrix    15\n",
       "Name: method, dtype: int64"
      ]
     },
     "execution_count": 20,
     "metadata": {},
     "output_type": "execute_result"
    }
   ],
   "source": [
    "best_parts_by_median[best_parts_by_median[_median_column] > _stats_data[\"75%\"]][\n",
    "    \"method\"\n",
    "].value_counts()"
   ]
  },
  {
   "cell_type": "markdown",
   "id": "a42d7b35",
   "metadata": {
    "papermill": {
     "duration": 0.041467,
     "end_time": "2022-09-13T12:31:12.086313",
     "exception": false,
     "start_time": "2022-09-13T12:31:12.044846",
     "status": "completed"
    },
    "tags": []
   },
   "source": [
    "If we use the \"best partitions by median\", EAC (HC) picked the best one 5 times, whereas SCC did it 10 times."
   ]
  },
  {
   "cell_type": "markdown",
   "id": "1d6bcaa8",
   "metadata": {
    "papermill": {
     "duration": 0.013616,
     "end_time": "2022-09-13T12:31:12.131758",
     "exception": false,
     "start_time": "2022-09-13T12:31:12.118142",
     "status": "completed"
    },
    "tags": []
   },
   "source": [
    "**CONCLUSION:** we select SCC as the method for follow up analysis."
   ]
  },
  {
   "cell_type": "markdown",
   "id": "6ae2234f",
   "metadata": {
    "papermill": {
     "duration": 0.008448,
     "end_time": "2022-09-13T12:31:12.149835",
     "exception": false,
     "start_time": "2022-09-13T12:31:12.141387",
     "status": "completed"
    },
    "tags": []
   },
   "source": [
    "# Select best partition per k"
   ]
  },
  {
   "cell_type": "code",
   "execution_count": 21,
   "id": "c0250a74",
   "metadata": {
    "execution": {
     "iopub.execute_input": "2022-09-13T12:31:12.168179Z",
     "iopub.status.busy": "2022-09-13T12:31:12.167954Z",
     "iopub.status.idle": "2022-09-13T12:31:12.185072Z",
     "shell.execute_reply": "2022-09-13T12:31:12.184417Z"
    },
    "papermill": {
     "duration": 0.028281,
     "end_time": "2022-09-13T12:31:12.186394",
     "exception": false,
     "start_time": "2022-09-13T12:31:12.158113",
     "status": "completed"
    },
    "tags": []
   },
   "outputs": [],
   "source": [
    "_selected_stat = \"Median\"\n",
    "_measure_col = _median_column"
   ]
  },
  {
   "cell_type": "code",
   "execution_count": 22,
   "id": "dffc41bf",
   "metadata": {
    "execution": {
     "iopub.execute_input": "2022-09-13T12:31:12.205174Z",
     "iopub.status.busy": "2022-09-13T12:31:12.205010Z",
     "iopub.status.idle": "2022-09-13T12:31:12.260413Z",
     "shell.execute_reply": "2022-09-13T12:31:12.259739Z"
    },
    "papermill": {
     "duration": 0.066614,
     "end_time": "2022-09-13T12:31:12.262070",
     "exception": false,
     "start_time": "2022-09-13T12:31:12.195456",
     "status": "completed"
    },
    "tags": []
   },
   "outputs": [],
   "source": [
    "best_parts = (\n",
    "    consensus_clustering_results[\n",
    "        consensus_clustering_results[\"method\"].str.startswith(\"scc_\")\n",
    "    ]\n",
    "    .groupby(\"k\")\n",
    "    .apply(lambda x: x.sort_values(_measure_col, ascending=False).head(1))\n",
    "    .sort_values(_measure_col, ascending=False)[\n",
    "        [\"method\", \"k\", \"partition\", _measure_col]\n",
    "    ]\n",
    ")"
   ]
  },
  {
   "cell_type": "code",
   "execution_count": 23,
   "id": "156e0fad",
   "metadata": {
    "execution": {
     "iopub.execute_input": "2022-09-13T12:31:12.280404Z",
     "iopub.status.busy": "2022-09-13T12:31:12.280192Z",
     "iopub.status.idle": "2022-09-13T12:31:12.297409Z",
     "shell.execute_reply": "2022-09-13T12:31:12.296797Z"
    },
    "papermill": {
     "duration": 0.028093,
     "end_time": "2022-09-13T12:31:12.298840",
     "exception": false,
     "start_time": "2022-09-13T12:31:12.270747",
     "status": "completed"
    },
    "tags": []
   },
   "outputs": [],
   "source": [
    "best_parts = best_parts.set_index(\"k\")"
   ]
  },
  {
   "cell_type": "code",
   "execution_count": 24,
   "id": "92944fc9",
   "metadata": {
    "execution": {
     "iopub.execute_input": "2022-09-13T12:31:12.317607Z",
     "iopub.status.busy": "2022-09-13T12:31:12.317444Z",
     "iopub.status.idle": "2022-09-13T12:31:12.334673Z",
     "shell.execute_reply": "2022-09-13T12:31:12.334191Z"
    },
    "papermill": {
     "duration": 0.028077,
     "end_time": "2022-09-13T12:31:12.335932",
     "exception": false,
     "start_time": "2022-09-13T12:31:12.307855",
     "status": "completed"
    },
    "tags": []
   },
   "outputs": [
    {
     "data": {
      "text/plain": [
       "(59, 3)"
      ]
     },
     "execution_count": 24,
     "metadata": {},
     "output_type": "execute_result"
    }
   ],
   "source": [
    "best_parts.shape"
   ]
  },
  {
   "cell_type": "code",
   "execution_count": 25,
   "id": "d4b6880f",
   "metadata": {
    "execution": {
     "iopub.execute_input": "2022-09-13T12:31:12.355162Z",
     "iopub.status.busy": "2022-09-13T12:31:12.354554Z",
     "iopub.status.idle": "2022-09-13T12:31:12.388497Z",
     "shell.execute_reply": "2022-09-13T12:31:12.387957Z"
    },
    "papermill": {
     "duration": 0.044845,
     "end_time": "2022-09-13T12:31:12.389844",
     "exception": false,
     "start_time": "2022-09-13T12:31:12.344999",
     "status": "completed"
    },
    "tags": []
   },
   "outputs": [
    {
     "data": {
      "text/html": [
       "<div>\n",
       "<style scoped>\n",
       "    .dataframe tbody tr th:only-of-type {\n",
       "        vertical-align: middle;\n",
       "    }\n",
       "\n",
       "    .dataframe tbody tr th {\n",
       "        vertical-align: top;\n",
       "    }\n",
       "\n",
       "    .dataframe thead th {\n",
       "        text-align: right;\n",
       "    }\n",
       "</style>\n",
       "<table border=\"1\" class=\"dataframe\">\n",
       "  <thead>\n",
       "    <tr style=\"text-align: right;\">\n",
       "      <th></th>\n",
       "      <th>method</th>\n",
       "      <th>partition</th>\n",
       "      <th>ari_median</th>\n",
       "    </tr>\n",
       "    <tr>\n",
       "      <th>k</th>\n",
       "      <th></th>\n",
       "      <th></th>\n",
       "      <th></th>\n",
       "    </tr>\n",
       "  </thead>\n",
       "  <tbody>\n",
       "    <tr>\n",
       "      <th>7</th>\n",
       "      <td>scc_020</td>\n",
       "      <td>[6, 6, 6, 6, 6, 6, 6, 6, 6, 6, 6, 6, 6, 6, 6, ...</td>\n",
       "      <td>0.000719</td>\n",
       "    </tr>\n",
       "    <tr>\n",
       "      <th>14</th>\n",
       "      <td>scc_020</td>\n",
       "      <td>[1, 1, 1, 1, 1, 1, 1, 1, 1, 1, 1, 1, 1, 1, 1, ...</td>\n",
       "      <td>0.000644</td>\n",
       "    </tr>\n",
       "    <tr>\n",
       "      <th>5</th>\n",
       "      <td>scc_050</td>\n",
       "      <td>[0, 0, 0, 0, 0, 0, 0, 0, 0, 0, 0, 0, 0, 0, 0, ...</td>\n",
       "      <td>0.000601</td>\n",
       "    </tr>\n",
       "    <tr>\n",
       "      <th>36</th>\n",
       "      <td>scc_050</td>\n",
       "      <td>[21, 21, 21, 21, 21, 21, 21, 21, 21, 21, 21, 2...</td>\n",
       "      <td>0.000589</td>\n",
       "    </tr>\n",
       "    <tr>\n",
       "      <th>33</th>\n",
       "      <td>scc_050</td>\n",
       "      <td>[2, 2, 2, 2, 2, 2, 2, 2, 2, 2, 2, 2, 2, 2, 2, ...</td>\n",
       "      <td>0.000578</td>\n",
       "    </tr>\n",
       "    <tr>\n",
       "      <th>16</th>\n",
       "      <td>scc_020</td>\n",
       "      <td>[0, 0, 0, 0, 0, 0, 0, 0, 0, 0, 0, 0, 0, 0, 0, ...</td>\n",
       "      <td>0.000567</td>\n",
       "    </tr>\n",
       "    <tr>\n",
       "      <th>8</th>\n",
       "      <td>scc_020</td>\n",
       "      <td>[7, 7, 7, 7, 7, 7, 7, 7, 7, 7, 7, 7, 7, 7, 7, ...</td>\n",
       "      <td>0.000563</td>\n",
       "    </tr>\n",
       "    <tr>\n",
       "      <th>15</th>\n",
       "      <td>scc_020</td>\n",
       "      <td>[3, 3, 3, 3, 3, 3, 3, 3, 3, 3, 3, 3, 3, 3, 3, ...</td>\n",
       "      <td>0.000562</td>\n",
       "    </tr>\n",
       "    <tr>\n",
       "      <th>39</th>\n",
       "      <td>scc_030</td>\n",
       "      <td>[0, 0, 0, 0, 0, 0, 0, 0, 0, 0, 0, 0, 0, 0, 0, ...</td>\n",
       "      <td>0.000543</td>\n",
       "    </tr>\n",
       "    <tr>\n",
       "      <th>35</th>\n",
       "      <td>scc_050</td>\n",
       "      <td>[16, 16, 16, 16, 16, 16, 16, 16, 16, 16, 16, 1...</td>\n",
       "      <td>0.000536</td>\n",
       "    </tr>\n",
       "  </tbody>\n",
       "</table>\n",
       "</div>"
      ],
      "text/plain": [
       "     method                                          partition  ari_median\n",
       "k                                                                         \n",
       "7   scc_020  [6, 6, 6, 6, 6, 6, 6, 6, 6, 6, 6, 6, 6, 6, 6, ...    0.000719\n",
       "14  scc_020  [1, 1, 1, 1, 1, 1, 1, 1, 1, 1, 1, 1, 1, 1, 1, ...    0.000644\n",
       "5   scc_050  [0, 0, 0, 0, 0, 0, 0, 0, 0, 0, 0, 0, 0, 0, 0, ...    0.000601\n",
       "36  scc_050  [21, 21, 21, 21, 21, 21, 21, 21, 21, 21, 21, 2...    0.000589\n",
       "33  scc_050  [2, 2, 2, 2, 2, 2, 2, 2, 2, 2, 2, 2, 2, 2, 2, ...    0.000578\n",
       "16  scc_020  [0, 0, 0, 0, 0, 0, 0, 0, 0, 0, 0, 0, 0, 0, 0, ...    0.000567\n",
       "8   scc_020  [7, 7, 7, 7, 7, 7, 7, 7, 7, 7, 7, 7, 7, 7, 7, ...    0.000563\n",
       "15  scc_020  [3, 3, 3, 3, 3, 3, 3, 3, 3, 3, 3, 3, 3, 3, 3, ...    0.000562\n",
       "39  scc_030  [0, 0, 0, 0, 0, 0, 0, 0, 0, 0, 0, 0, 0, 0, 0, ...    0.000543\n",
       "35  scc_050  [16, 16, 16, 16, 16, 16, 16, 16, 16, 16, 16, 1...    0.000536"
      ]
     },
     "execution_count": 25,
     "metadata": {},
     "output_type": "execute_result"
    }
   ],
   "source": [
    "# show partitions with top values\n",
    "best_parts.head(10)"
   ]
  },
  {
   "cell_type": "code",
   "execution_count": 26,
   "id": "3c3fe720",
   "metadata": {
    "execution": {
     "iopub.execute_input": "2022-09-13T12:31:12.409574Z",
     "iopub.status.busy": "2022-09-13T12:31:12.409406Z",
     "iopub.status.idle": "2022-09-13T12:31:12.488267Z",
     "shell.execute_reply": "2022-09-13T12:31:12.487646Z"
    },
    "papermill": {
     "duration": 0.090213,
     "end_time": "2022-09-13T12:31:12.489590",
     "exception": false,
     "start_time": "2022-09-13T12:31:12.399377",
     "status": "completed"
    },
    "tags": []
   },
   "outputs": [
    {
     "data": {
      "text/html": [
       "<div>\n",
       "<style scoped>\n",
       "    .dataframe tbody tr th:only-of-type {\n",
       "        vertical-align: middle;\n",
       "    }\n",
       "\n",
       "    .dataframe tbody tr th {\n",
       "        vertical-align: top;\n",
       "    }\n",
       "\n",
       "    .dataframe thead th {\n",
       "        text-align: right;\n",
       "    }\n",
       "</style>\n",
       "<table border=\"1\" class=\"dataframe\">\n",
       "  <thead>\n",
       "    <tr style=\"text-align: right;\">\n",
       "      <th></th>\n",
       "      <th>method</th>\n",
       "      <th>partition</th>\n",
       "      <th>ari_median</th>\n",
       "    </tr>\n",
       "    <tr>\n",
       "      <th>k</th>\n",
       "      <th></th>\n",
       "      <th></th>\n",
       "      <th></th>\n",
       "    </tr>\n",
       "  </thead>\n",
       "  <tbody>\n",
       "    <tr>\n",
       "      <th>2</th>\n",
       "      <td>scc_025</td>\n",
       "      <td>[1, 1, 1, 1, 1, 1, 1, 1, 1, 1, 1, 1, 1, 1, 1, ...</td>\n",
       "      <td>1.691719e-04</td>\n",
       "    </tr>\n",
       "    <tr>\n",
       "      <th>3</th>\n",
       "      <td>scc_050</td>\n",
       "      <td>[0, 0, 0, 0, 0, 0, 0, 0, 0, 0, 0, 0, 0, 0, 0, ...</td>\n",
       "      <td>-3.045898e-07</td>\n",
       "    </tr>\n",
       "    <tr>\n",
       "      <th>4</th>\n",
       "      <td>scc_050</td>\n",
       "      <td>[0, 0, 0, 0, 0, 0, 0, 0, 0, 0, 0, 0, 0, 0, 0, ...</td>\n",
       "      <td>4.828000e-04</td>\n",
       "    </tr>\n",
       "    <tr>\n",
       "      <th>5</th>\n",
       "      <td>scc_050</td>\n",
       "      <td>[0, 0, 0, 0, 0, 0, 0, 0, 0, 0, 0, 0, 0, 0, 0, ...</td>\n",
       "      <td>6.014411e-04</td>\n",
       "    </tr>\n",
       "    <tr>\n",
       "      <th>6</th>\n",
       "      <td>scc_020</td>\n",
       "      <td>[1, 1, 1, 1, 1, 1, 1, 1, 1, 1, 1, 1, 1, 1, 1, ...</td>\n",
       "      <td>2.801649e-04</td>\n",
       "    </tr>\n",
       "    <tr>\n",
       "      <th>7</th>\n",
       "      <td>scc_020</td>\n",
       "      <td>[6, 6, 6, 6, 6, 6, 6, 6, 6, 6, 6, 6, 6, 6, 6, ...</td>\n",
       "      <td>7.193555e-04</td>\n",
       "    </tr>\n",
       "    <tr>\n",
       "      <th>8</th>\n",
       "      <td>scc_020</td>\n",
       "      <td>[7, 7, 7, 7, 7, 7, 7, 7, 7, 7, 7, 7, 7, 7, 7, ...</td>\n",
       "      <td>5.625538e-04</td>\n",
       "    </tr>\n",
       "    <tr>\n",
       "      <th>9</th>\n",
       "      <td>scc_020</td>\n",
       "      <td>[8, 8, 8, 8, 8, 8, 8, 8, 8, 8, 8, 8, 8, 8, 8, ...</td>\n",
       "      <td>4.875472e-04</td>\n",
       "    </tr>\n",
       "    <tr>\n",
       "      <th>10</th>\n",
       "      <td>scc_020</td>\n",
       "      <td>[4, 4, 4, 4, 4, 4, 4, 4, 4, 4, 4, 4, 4, 4, 4, ...</td>\n",
       "      <td>3.993470e-04</td>\n",
       "    </tr>\n",
       "    <tr>\n",
       "      <th>11</th>\n",
       "      <td>scc_020</td>\n",
       "      <td>[10, 10, 10, 10, 10, 10, 10, 10, 10, 10, 10, 1...</td>\n",
       "      <td>4.298219e-04</td>\n",
       "    </tr>\n",
       "    <tr>\n",
       "      <th>12</th>\n",
       "      <td>scc_030</td>\n",
       "      <td>[1, 1, 1, 1, 1, 1, 1, 1, 1, 1, 1, 1, 1, 1, 1, ...</td>\n",
       "      <td>5.216354e-04</td>\n",
       "    </tr>\n",
       "    <tr>\n",
       "      <th>13</th>\n",
       "      <td>scc_030</td>\n",
       "      <td>[2, 2, 2, 2, 2, 2, 2, 2, 2, 2, 2, 2, 2, 2, 2, ...</td>\n",
       "      <td>4.594012e-04</td>\n",
       "    </tr>\n",
       "    <tr>\n",
       "      <th>14</th>\n",
       "      <td>scc_020</td>\n",
       "      <td>[1, 1, 1, 1, 1, 1, 1, 1, 1, 1, 1, 1, 1, 1, 1, ...</td>\n",
       "      <td>6.436619e-04</td>\n",
       "    </tr>\n",
       "    <tr>\n",
       "      <th>15</th>\n",
       "      <td>scc_020</td>\n",
       "      <td>[3, 3, 3, 3, 3, 3, 3, 3, 3, 3, 3, 3, 3, 3, 3, ...</td>\n",
       "      <td>5.617974e-04</td>\n",
       "    </tr>\n",
       "    <tr>\n",
       "      <th>16</th>\n",
       "      <td>scc_020</td>\n",
       "      <td>[0, 0, 0, 0, 0, 0, 0, 0, 0, 0, 0, 0, 0, 0, 0, ...</td>\n",
       "      <td>5.669378e-04</td>\n",
       "    </tr>\n",
       "    <tr>\n",
       "      <th>17</th>\n",
       "      <td>scc_020</td>\n",
       "      <td>[1, 1, 1, 1, 1, 1, 1, 1, 1, 1, 1, 1, 1, 1, 1, ...</td>\n",
       "      <td>4.398095e-04</td>\n",
       "    </tr>\n",
       "    <tr>\n",
       "      <th>18</th>\n",
       "      <td>scc_020</td>\n",
       "      <td>[15, 15, 15, 15, 15, 15, 15, 15, 15, 15, 15, 1...</td>\n",
       "      <td>3.865775e-04</td>\n",
       "    </tr>\n",
       "    <tr>\n",
       "      <th>19</th>\n",
       "      <td>scc_020</td>\n",
       "      <td>[2, 2, 2, 2, 2, 2, 2, 2, 2, 2, 2, 2, 2, 2, 2, ...</td>\n",
       "      <td>3.743455e-04</td>\n",
       "    </tr>\n",
       "    <tr>\n",
       "      <th>20</th>\n",
       "      <td>scc_020</td>\n",
       "      <td>[2, 2, 2, 2, 2, 2, 2, 2, 2, 2, 2, 2, 2, 2, 2, ...</td>\n",
       "      <td>3.659009e-04</td>\n",
       "    </tr>\n",
       "    <tr>\n",
       "      <th>21</th>\n",
       "      <td>scc_020</td>\n",
       "      <td>[13, 13, 13, 13, 13, 13, 13, 13, 13, 13, 13, 1...</td>\n",
       "      <td>3.890443e-04</td>\n",
       "    </tr>\n",
       "    <tr>\n",
       "      <th>22</th>\n",
       "      <td>scc_020</td>\n",
       "      <td>[6, 6, 6, 6, 6, 6, 6, 6, 6, 6, 6, 6, 6, 6, 6, ...</td>\n",
       "      <td>3.682535e-04</td>\n",
       "    </tr>\n",
       "    <tr>\n",
       "      <th>23</th>\n",
       "      <td>scc_020</td>\n",
       "      <td>[11, 11, 11, 11, 11, 11, 11, 11, 11, 11, 11, 1...</td>\n",
       "      <td>3.800029e-04</td>\n",
       "    </tr>\n",
       "    <tr>\n",
       "      <th>24</th>\n",
       "      <td>scc_025</td>\n",
       "      <td>[13, 13, 13, 13, 13, 13, 13, 13, 13, 13, 13, 1...</td>\n",
       "      <td>3.932943e-04</td>\n",
       "    </tr>\n",
       "    <tr>\n",
       "      <th>25</th>\n",
       "      <td>scc_020</td>\n",
       "      <td>[2, 2, 2, 2, 2, 2, 2, 2, 2, 2, 2, 2, 2, 2, 2, ...</td>\n",
       "      <td>4.241146e-04</td>\n",
       "    </tr>\n",
       "    <tr>\n",
       "      <th>26</th>\n",
       "      <td>scc_020</td>\n",
       "      <td>[11, 11, 11, 11, 11, 11, 11, 11, 11, 11, 11, 1...</td>\n",
       "      <td>3.693234e-04</td>\n",
       "    </tr>\n",
       "    <tr>\n",
       "      <th>27</th>\n",
       "      <td>scc_020</td>\n",
       "      <td>[20, 20, 20, 20, 20, 20, 20, 20, 20, 20, 20, 2...</td>\n",
       "      <td>3.904321e-04</td>\n",
       "    </tr>\n",
       "    <tr>\n",
       "      <th>28</th>\n",
       "      <td>scc_025</td>\n",
       "      <td>[18, 18, 18, 18, 18, 18, 18, 18, 18, 18, 18, 1...</td>\n",
       "      <td>4.858965e-04</td>\n",
       "    </tr>\n",
       "    <tr>\n",
       "      <th>29</th>\n",
       "      <td>scc_020</td>\n",
       "      <td>[22, 22, 22, 22, 22, 22, 22, 22, 22, 22, 22, 2...</td>\n",
       "      <td>4.921337e-04</td>\n",
       "    </tr>\n",
       "    <tr>\n",
       "      <th>30</th>\n",
       "      <td>scc_020</td>\n",
       "      <td>[18, 18, 18, 18, 18, 18, 18, 18, 18, 18, 18, 1...</td>\n",
       "      <td>4.777470e-04</td>\n",
       "    </tr>\n",
       "    <tr>\n",
       "      <th>31</th>\n",
       "      <td>scc_025</td>\n",
       "      <td>[18, 18, 18, 18, 18, 18, 18, 18, 18, 18, 18, 1...</td>\n",
       "      <td>4.995881e-04</td>\n",
       "    </tr>\n",
       "    <tr>\n",
       "      <th>32</th>\n",
       "      <td>scc_030</td>\n",
       "      <td>[27, 27, 27, 27, 27, 27, 27, 27, 27, 27, 27, 2...</td>\n",
       "      <td>5.058535e-04</td>\n",
       "    </tr>\n",
       "    <tr>\n",
       "      <th>33</th>\n",
       "      <td>scc_050</td>\n",
       "      <td>[2, 2, 2, 2, 2, 2, 2, 2, 2, 2, 2, 2, 2, 2, 2, ...</td>\n",
       "      <td>5.783399e-04</td>\n",
       "    </tr>\n",
       "    <tr>\n",
       "      <th>34</th>\n",
       "      <td>scc_020</td>\n",
       "      <td>[31, 31, 31, 31, 31, 31, 31, 31, 31, 31, 31, 3...</td>\n",
       "      <td>4.956583e-04</td>\n",
       "    </tr>\n",
       "    <tr>\n",
       "      <th>35</th>\n",
       "      <td>scc_050</td>\n",
       "      <td>[16, 16, 16, 16, 16, 16, 16, 16, 16, 16, 16, 1...</td>\n",
       "      <td>5.357964e-04</td>\n",
       "    </tr>\n",
       "    <tr>\n",
       "      <th>36</th>\n",
       "      <td>scc_050</td>\n",
       "      <td>[21, 21, 21, 21, 21, 21, 21, 21, 21, 21, 21, 2...</td>\n",
       "      <td>5.890011e-04</td>\n",
       "    </tr>\n",
       "    <tr>\n",
       "      <th>37</th>\n",
       "      <td>scc_050</td>\n",
       "      <td>[20, 20, 20, 20, 20, 20, 20, 20, 20, 20, 20, 2...</td>\n",
       "      <td>5.067227e-04</td>\n",
       "    </tr>\n",
       "    <tr>\n",
       "      <th>38</th>\n",
       "      <td>scc_050</td>\n",
       "      <td>[17, 17, 17, 17, 17, 17, 17, 17, 17, 17, 17, 1...</td>\n",
       "      <td>5.287861e-04</td>\n",
       "    </tr>\n",
       "    <tr>\n",
       "      <th>39</th>\n",
       "      <td>scc_030</td>\n",
       "      <td>[0, 0, 0, 0, 0, 0, 0, 0, 0, 0, 0, 0, 0, 0, 0, ...</td>\n",
       "      <td>5.432972e-04</td>\n",
       "    </tr>\n",
       "    <tr>\n",
       "      <th>40</th>\n",
       "      <td>scc_030</td>\n",
       "      <td>[39, 39, 39, 39, 39, 39, 39, 39, 39, 39, 39, 3...</td>\n",
       "      <td>5.170015e-04</td>\n",
       "    </tr>\n",
       "    <tr>\n",
       "      <th>41</th>\n",
       "      <td>scc_050</td>\n",
       "      <td>[23, 23, 23, 23, 23, 23, 23, 23, 23, 23, 23, 2...</td>\n",
       "      <td>5.017705e-04</td>\n",
       "    </tr>\n",
       "    <tr>\n",
       "      <th>42</th>\n",
       "      <td>scc_050</td>\n",
       "      <td>[4, 4, 4, 4, 4, 4, 4, 4, 4, 4, 4, 4, 4, 4, 4, ...</td>\n",
       "      <td>5.175784e-04</td>\n",
       "    </tr>\n",
       "    <tr>\n",
       "      <th>43</th>\n",
       "      <td>scc_025</td>\n",
       "      <td>[6, 6, 6, 6, 6, 6, 6, 6, 6, 6, 6, 6, 6, 6, 6, ...</td>\n",
       "      <td>5.085072e-04</td>\n",
       "    </tr>\n",
       "    <tr>\n",
       "      <th>44</th>\n",
       "      <td>scc_030</td>\n",
       "      <td>[17, 17, 17, 17, 17, 17, 17, 17, 17, 17, 17, 1...</td>\n",
       "      <td>4.970258e-04</td>\n",
       "    </tr>\n",
       "    <tr>\n",
       "      <th>45</th>\n",
       "      <td>scc_030</td>\n",
       "      <td>[11, 11, 11, 11, 11, 11, 11, 11, 11, 11, 11, 1...</td>\n",
       "      <td>4.965939e-04</td>\n",
       "    </tr>\n",
       "    <tr>\n",
       "      <th>46</th>\n",
       "      <td>scc_050</td>\n",
       "      <td>[18, 18, 18, 18, 18, 18, 18, 18, 18, 18, 18, 1...</td>\n",
       "      <td>5.118804e-04</td>\n",
       "    </tr>\n",
       "    <tr>\n",
       "      <th>47</th>\n",
       "      <td>scc_050</td>\n",
       "      <td>[19, 19, 19, 19, 19, 19, 19, 19, 19, 19, 19, 1...</td>\n",
       "      <td>5.079442e-04</td>\n",
       "    </tr>\n",
       "    <tr>\n",
       "      <th>48</th>\n",
       "      <td>scc_050</td>\n",
       "      <td>[17, 17, 17, 17, 17, 17, 17, 17, 17, 17, 17, 1...</td>\n",
       "      <td>5.057748e-04</td>\n",
       "    </tr>\n",
       "    <tr>\n",
       "      <th>49</th>\n",
       "      <td>scc_020</td>\n",
       "      <td>[20, 20, 20, 20, 20, 20, 20, 20, 20, 20, 20, 2...</td>\n",
       "      <td>4.572588e-04</td>\n",
       "    </tr>\n",
       "    <tr>\n",
       "      <th>50</th>\n",
       "      <td>scc_020</td>\n",
       "      <td>[24, 24, 24, 24, 24, 24, 24, 24, 24, 24, 24, 2...</td>\n",
       "      <td>4.554131e-04</td>\n",
       "    </tr>\n",
       "    <tr>\n",
       "      <th>51</th>\n",
       "      <td>scc_030</td>\n",
       "      <td>[23, 23, 23, 23, 23, 23, 23, 23, 23, 23, 23, 2...</td>\n",
       "      <td>4.886738e-04</td>\n",
       "    </tr>\n",
       "    <tr>\n",
       "      <th>52</th>\n",
       "      <td>scc_050</td>\n",
       "      <td>[33, 33, 33, 33, 33, 33, 33, 33, 33, 33, 33, 3...</td>\n",
       "      <td>4.796002e-04</td>\n",
       "    </tr>\n",
       "    <tr>\n",
       "      <th>53</th>\n",
       "      <td>scc_050</td>\n",
       "      <td>[30, 30, 30, 30, 30, 30, 30, 30, 30, 30, 30, 3...</td>\n",
       "      <td>4.796189e-04</td>\n",
       "    </tr>\n",
       "    <tr>\n",
       "      <th>54</th>\n",
       "      <td>scc_050</td>\n",
       "      <td>[12, 12, 12, 12, 12, 12, 12, 12, 12, 12, 12, 1...</td>\n",
       "      <td>4.612185e-04</td>\n",
       "    </tr>\n",
       "    <tr>\n",
       "      <th>55</th>\n",
       "      <td>scc_050</td>\n",
       "      <td>[18, 18, 18, 18, 18, 18, 18, 18, 18, 18, 18, 1...</td>\n",
       "      <td>4.648709e-04</td>\n",
       "    </tr>\n",
       "    <tr>\n",
       "      <th>56</th>\n",
       "      <td>scc_050</td>\n",
       "      <td>[23, 23, 23, 23, 23, 23, 23, 23, 23, 23, 23, 2...</td>\n",
       "      <td>4.477704e-04</td>\n",
       "    </tr>\n",
       "    <tr>\n",
       "      <th>57</th>\n",
       "      <td>scc_050</td>\n",
       "      <td>[11, 11, 11, 11, 11, 11, 11, 11, 11, 11, 11, 1...</td>\n",
       "      <td>4.480474e-04</td>\n",
       "    </tr>\n",
       "    <tr>\n",
       "      <th>58</th>\n",
       "      <td>scc_050</td>\n",
       "      <td>[32, 32, 32, 32, 32, 32, 32, 32, 32, 32, 32, 3...</td>\n",
       "      <td>4.542342e-04</td>\n",
       "    </tr>\n",
       "    <tr>\n",
       "      <th>59</th>\n",
       "      <td>scc_050</td>\n",
       "      <td>[10, 10, 10, 10, 10, 10, 10, 10, 10, 10, 10, 1...</td>\n",
       "      <td>4.620564e-04</td>\n",
       "    </tr>\n",
       "    <tr>\n",
       "      <th>60</th>\n",
       "      <td>scc_050</td>\n",
       "      <td>[44, 44, 44, 44, 44, 44, 44, 44, 44, 44, 44, 4...</td>\n",
       "      <td>4.350624e-04</td>\n",
       "    </tr>\n",
       "  </tbody>\n",
       "</table>\n",
       "</div>"
      ],
      "text/plain": [
       "     method                                          partition    ari_median\n",
       "k                                                                           \n",
       "2   scc_025  [1, 1, 1, 1, 1, 1, 1, 1, 1, 1, 1, 1, 1, 1, 1, ...  1.691719e-04\n",
       "3   scc_050  [0, 0, 0, 0, 0, 0, 0, 0, 0, 0, 0, 0, 0, 0, 0, ... -3.045898e-07\n",
       "4   scc_050  [0, 0, 0, 0, 0, 0, 0, 0, 0, 0, 0, 0, 0, 0, 0, ...  4.828000e-04\n",
       "5   scc_050  [0, 0, 0, 0, 0, 0, 0, 0, 0, 0, 0, 0, 0, 0, 0, ...  6.014411e-04\n",
       "6   scc_020  [1, 1, 1, 1, 1, 1, 1, 1, 1, 1, 1, 1, 1, 1, 1, ...  2.801649e-04\n",
       "7   scc_020  [6, 6, 6, 6, 6, 6, 6, 6, 6, 6, 6, 6, 6, 6, 6, ...  7.193555e-04\n",
       "8   scc_020  [7, 7, 7, 7, 7, 7, 7, 7, 7, 7, 7, 7, 7, 7, 7, ...  5.625538e-04\n",
       "9   scc_020  [8, 8, 8, 8, 8, 8, 8, 8, 8, 8, 8, 8, 8, 8, 8, ...  4.875472e-04\n",
       "10  scc_020  [4, 4, 4, 4, 4, 4, 4, 4, 4, 4, 4, 4, 4, 4, 4, ...  3.993470e-04\n",
       "11  scc_020  [10, 10, 10, 10, 10, 10, 10, 10, 10, 10, 10, 1...  4.298219e-04\n",
       "12  scc_030  [1, 1, 1, 1, 1, 1, 1, 1, 1, 1, 1, 1, 1, 1, 1, ...  5.216354e-04\n",
       "13  scc_030  [2, 2, 2, 2, 2, 2, 2, 2, 2, 2, 2, 2, 2, 2, 2, ...  4.594012e-04\n",
       "14  scc_020  [1, 1, 1, 1, 1, 1, 1, 1, 1, 1, 1, 1, 1, 1, 1, ...  6.436619e-04\n",
       "15  scc_020  [3, 3, 3, 3, 3, 3, 3, 3, 3, 3, 3, 3, 3, 3, 3, ...  5.617974e-04\n",
       "16  scc_020  [0, 0, 0, 0, 0, 0, 0, 0, 0, 0, 0, 0, 0, 0, 0, ...  5.669378e-04\n",
       "17  scc_020  [1, 1, 1, 1, 1, 1, 1, 1, 1, 1, 1, 1, 1, 1, 1, ...  4.398095e-04\n",
       "18  scc_020  [15, 15, 15, 15, 15, 15, 15, 15, 15, 15, 15, 1...  3.865775e-04\n",
       "19  scc_020  [2, 2, 2, 2, 2, 2, 2, 2, 2, 2, 2, 2, 2, 2, 2, ...  3.743455e-04\n",
       "20  scc_020  [2, 2, 2, 2, 2, 2, 2, 2, 2, 2, 2, 2, 2, 2, 2, ...  3.659009e-04\n",
       "21  scc_020  [13, 13, 13, 13, 13, 13, 13, 13, 13, 13, 13, 1...  3.890443e-04\n",
       "22  scc_020  [6, 6, 6, 6, 6, 6, 6, 6, 6, 6, 6, 6, 6, 6, 6, ...  3.682535e-04\n",
       "23  scc_020  [11, 11, 11, 11, 11, 11, 11, 11, 11, 11, 11, 1...  3.800029e-04\n",
       "24  scc_025  [13, 13, 13, 13, 13, 13, 13, 13, 13, 13, 13, 1...  3.932943e-04\n",
       "25  scc_020  [2, 2, 2, 2, 2, 2, 2, 2, 2, 2, 2, 2, 2, 2, 2, ...  4.241146e-04\n",
       "26  scc_020  [11, 11, 11, 11, 11, 11, 11, 11, 11, 11, 11, 1...  3.693234e-04\n",
       "27  scc_020  [20, 20, 20, 20, 20, 20, 20, 20, 20, 20, 20, 2...  3.904321e-04\n",
       "28  scc_025  [18, 18, 18, 18, 18, 18, 18, 18, 18, 18, 18, 1...  4.858965e-04\n",
       "29  scc_020  [22, 22, 22, 22, 22, 22, 22, 22, 22, 22, 22, 2...  4.921337e-04\n",
       "30  scc_020  [18, 18, 18, 18, 18, 18, 18, 18, 18, 18, 18, 1...  4.777470e-04\n",
       "31  scc_025  [18, 18, 18, 18, 18, 18, 18, 18, 18, 18, 18, 1...  4.995881e-04\n",
       "32  scc_030  [27, 27, 27, 27, 27, 27, 27, 27, 27, 27, 27, 2...  5.058535e-04\n",
       "33  scc_050  [2, 2, 2, 2, 2, 2, 2, 2, 2, 2, 2, 2, 2, 2, 2, ...  5.783399e-04\n",
       "34  scc_020  [31, 31, 31, 31, 31, 31, 31, 31, 31, 31, 31, 3...  4.956583e-04\n",
       "35  scc_050  [16, 16, 16, 16, 16, 16, 16, 16, 16, 16, 16, 1...  5.357964e-04\n",
       "36  scc_050  [21, 21, 21, 21, 21, 21, 21, 21, 21, 21, 21, 2...  5.890011e-04\n",
       "37  scc_050  [20, 20, 20, 20, 20, 20, 20, 20, 20, 20, 20, 2...  5.067227e-04\n",
       "38  scc_050  [17, 17, 17, 17, 17, 17, 17, 17, 17, 17, 17, 1...  5.287861e-04\n",
       "39  scc_030  [0, 0, 0, 0, 0, 0, 0, 0, 0, 0, 0, 0, 0, 0, 0, ...  5.432972e-04\n",
       "40  scc_030  [39, 39, 39, 39, 39, 39, 39, 39, 39, 39, 39, 3...  5.170015e-04\n",
       "41  scc_050  [23, 23, 23, 23, 23, 23, 23, 23, 23, 23, 23, 2...  5.017705e-04\n",
       "42  scc_050  [4, 4, 4, 4, 4, 4, 4, 4, 4, 4, 4, 4, 4, 4, 4, ...  5.175784e-04\n",
       "43  scc_025  [6, 6, 6, 6, 6, 6, 6, 6, 6, 6, 6, 6, 6, 6, 6, ...  5.085072e-04\n",
       "44  scc_030  [17, 17, 17, 17, 17, 17, 17, 17, 17, 17, 17, 1...  4.970258e-04\n",
       "45  scc_030  [11, 11, 11, 11, 11, 11, 11, 11, 11, 11, 11, 1...  4.965939e-04\n",
       "46  scc_050  [18, 18, 18, 18, 18, 18, 18, 18, 18, 18, 18, 1...  5.118804e-04\n",
       "47  scc_050  [19, 19, 19, 19, 19, 19, 19, 19, 19, 19, 19, 1...  5.079442e-04\n",
       "48  scc_050  [17, 17, 17, 17, 17, 17, 17, 17, 17, 17, 17, 1...  5.057748e-04\n",
       "49  scc_020  [20, 20, 20, 20, 20, 20, 20, 20, 20, 20, 20, 2...  4.572588e-04\n",
       "50  scc_020  [24, 24, 24, 24, 24, 24, 24, 24, 24, 24, 24, 2...  4.554131e-04\n",
       "51  scc_030  [23, 23, 23, 23, 23, 23, 23, 23, 23, 23, 23, 2...  4.886738e-04\n",
       "52  scc_050  [33, 33, 33, 33, 33, 33, 33, 33, 33, 33, 33, 3...  4.796002e-04\n",
       "53  scc_050  [30, 30, 30, 30, 30, 30, 30, 30, 30, 30, 30, 3...  4.796189e-04\n",
       "54  scc_050  [12, 12, 12, 12, 12, 12, 12, 12, 12, 12, 12, 1...  4.612185e-04\n",
       "55  scc_050  [18, 18, 18, 18, 18, 18, 18, 18, 18, 18, 18, 1...  4.648709e-04\n",
       "56  scc_050  [23, 23, 23, 23, 23, 23, 23, 23, 23, 23, 23, 2...  4.477704e-04\n",
       "57  scc_050  [11, 11, 11, 11, 11, 11, 11, 11, 11, 11, 11, 1...  4.480474e-04\n",
       "58  scc_050  [32, 32, 32, 32, 32, 32, 32, 32, 32, 32, 32, 3...  4.542342e-04\n",
       "59  scc_050  [10, 10, 10, 10, 10, 10, 10, 10, 10, 10, 10, 1...  4.620564e-04\n",
       "60  scc_050  [44, 44, 44, 44, 44, 44, 44, 44, 44, 44, 44, 4...  4.350624e-04"
      ]
     },
     "execution_count": 26,
     "metadata": {},
     "output_type": "execute_result"
    }
   ],
   "source": [
    "best_parts.sort_values(\"k\")"
   ]
  },
  {
   "cell_type": "markdown",
   "id": "0f126fac",
   "metadata": {
    "papermill": {
     "duration": 0.0088,
     "end_time": "2022-09-13T12:31:12.508146",
     "exception": false,
     "start_time": "2022-09-13T12:31:12.499346",
     "status": "completed"
    },
    "tags": []
   },
   "source": [
    "## Select partitions with highest agreement"
   ]
  },
  {
   "cell_type": "markdown",
   "id": "76158b88",
   "metadata": {
    "papermill": {
     "duration": 0.00872,
     "end_time": "2022-09-13T12:31:12.526077",
     "exception": false,
     "start_time": "2022-09-13T12:31:12.517357",
     "status": "completed"
    },
    "tags": []
   },
   "source": [
    "We do not expect all partitions with different `k` to be good ones. Thus, here I select the partitions with an ensemble agreement that pass a relative high threshold (75th percentile)."
   ]
  },
  {
   "cell_type": "code",
   "execution_count": 27,
   "id": "85412401",
   "metadata": {
    "execution": {
     "iopub.execute_input": "2022-09-13T12:31:12.545358Z",
     "iopub.status.busy": "2022-09-13T12:31:12.545104Z",
     "iopub.status.idle": "2022-09-13T12:31:12.564896Z",
     "shell.execute_reply": "2022-09-13T12:31:12.564373Z"
    },
    "papermill": {
     "duration": 0.030751,
     "end_time": "2022-09-13T12:31:12.566152",
     "exception": false,
     "start_time": "2022-09-13T12:31:12.535401",
     "status": "completed"
    },
    "tags": []
   },
   "outputs": [
    {
     "data": {
      "text/plain": [
       "count    5.900000e+01\n",
       "mean     4.661551e-04\n",
       "std      1.042585e-04\n",
       "min     -3.045898e-07\n",
       "25%      4.324421e-04\n",
       "50%      4.828000e-04\n",
       "75%      5.101938e-04\n",
       "max      7.193555e-04\n",
       "Name: ari_median, dtype: float64"
      ]
     },
     "metadata": {},
     "output_type": "display_data"
    }
   ],
   "source": [
    "best_parts_stats = best_parts[_measure_col].describe()\n",
    "display(best_parts_stats)"
   ]
  },
  {
   "cell_type": "code",
   "execution_count": 28,
   "id": "63ee5ba4",
   "metadata": {
    "execution": {
     "iopub.execute_input": "2022-09-13T12:31:12.586132Z",
     "iopub.status.busy": "2022-09-13T12:31:12.585968Z",
     "iopub.status.idle": "2022-09-13T12:31:12.604412Z",
     "shell.execute_reply": "2022-09-13T12:31:12.603862Z"
    },
    "papermill": {
     "duration": 0.029869,
     "end_time": "2022-09-13T12:31:12.605649",
     "exception": false,
     "start_time": "2022-09-13T12:31:12.575780",
     "status": "completed"
    },
    "tags": []
   },
   "outputs": [
    {
     "data": {
      "text/plain": [
       "0.0005101937973594319"
      ]
     },
     "metadata": {},
     "output_type": "display_data"
    }
   ],
   "source": [
    "best_threshold = best_parts_stats[\"75%\"]\n",
    "best_threshold_description = \"75th percentile\"\n",
    "display(best_threshold)\n",
    "\n",
    "best_parts = best_parts.assign(\n",
    "    selected=best_parts[_measure_col].apply(lambda x: x >= best_threshold)\n",
    ")"
   ]
  },
  {
   "cell_type": "code",
   "execution_count": 29,
   "id": "b4a7cc09",
   "metadata": {
    "execution": {
     "iopub.execute_input": "2022-09-13T12:31:12.626184Z",
     "iopub.status.busy": "2022-09-13T12:31:12.625733Z",
     "iopub.status.idle": "2022-09-13T12:31:12.643334Z",
     "shell.execute_reply": "2022-09-13T12:31:12.642862Z"
    },
    "papermill": {
     "duration": 0.028987,
     "end_time": "2022-09-13T12:31:12.644663",
     "exception": false,
     "start_time": "2022-09-13T12:31:12.615676",
     "status": "completed"
    },
    "tags": []
   },
   "outputs": [
    {
     "data": {
      "text/plain": [
       "(59, 4)"
      ]
     },
     "execution_count": 29,
     "metadata": {},
     "output_type": "execute_result"
    }
   ],
   "source": [
    "best_parts.shape"
   ]
  },
  {
   "cell_type": "code",
   "execution_count": 30,
   "id": "b55298ec",
   "metadata": {
    "execution": {
     "iopub.execute_input": "2022-09-13T12:31:12.665078Z",
     "iopub.status.busy": "2022-09-13T12:31:12.664885Z",
     "iopub.status.idle": "2022-09-13T12:31:12.690468Z",
     "shell.execute_reply": "2022-09-13T12:31:12.689919Z"
    },
    "papermill": {
     "duration": 0.037041,
     "end_time": "2022-09-13T12:31:12.691732",
     "exception": false,
     "start_time": "2022-09-13T12:31:12.654691",
     "status": "completed"
    },
    "tags": []
   },
   "outputs": [
    {
     "data": {
      "text/html": [
       "<div>\n",
       "<style scoped>\n",
       "    .dataframe tbody tr th:only-of-type {\n",
       "        vertical-align: middle;\n",
       "    }\n",
       "\n",
       "    .dataframe tbody tr th {\n",
       "        vertical-align: top;\n",
       "    }\n",
       "\n",
       "    .dataframe thead th {\n",
       "        text-align: right;\n",
       "    }\n",
       "</style>\n",
       "<table border=\"1\" class=\"dataframe\">\n",
       "  <thead>\n",
       "    <tr style=\"text-align: right;\">\n",
       "      <th></th>\n",
       "      <th>method</th>\n",
       "      <th>partition</th>\n",
       "      <th>ari_median</th>\n",
       "      <th>selected</th>\n",
       "    </tr>\n",
       "    <tr>\n",
       "      <th>k</th>\n",
       "      <th></th>\n",
       "      <th></th>\n",
       "      <th></th>\n",
       "      <th></th>\n",
       "    </tr>\n",
       "  </thead>\n",
       "  <tbody>\n",
       "    <tr>\n",
       "      <th>7</th>\n",
       "      <td>scc_020</td>\n",
       "      <td>[6, 6, 6, 6, 6, 6, 6, 6, 6, 6, 6, 6, 6, 6, 6, ...</td>\n",
       "      <td>0.000719</td>\n",
       "      <td>True</td>\n",
       "    </tr>\n",
       "    <tr>\n",
       "      <th>14</th>\n",
       "      <td>scc_020</td>\n",
       "      <td>[1, 1, 1, 1, 1, 1, 1, 1, 1, 1, 1, 1, 1, 1, 1, ...</td>\n",
       "      <td>0.000644</td>\n",
       "      <td>True</td>\n",
       "    </tr>\n",
       "    <tr>\n",
       "      <th>5</th>\n",
       "      <td>scc_050</td>\n",
       "      <td>[0, 0, 0, 0, 0, 0, 0, 0, 0, 0, 0, 0, 0, 0, 0, ...</td>\n",
       "      <td>0.000601</td>\n",
       "      <td>True</td>\n",
       "    </tr>\n",
       "    <tr>\n",
       "      <th>36</th>\n",
       "      <td>scc_050</td>\n",
       "      <td>[21, 21, 21, 21, 21, 21, 21, 21, 21, 21, 21, 2...</td>\n",
       "      <td>0.000589</td>\n",
       "      <td>True</td>\n",
       "    </tr>\n",
       "    <tr>\n",
       "      <th>33</th>\n",
       "      <td>scc_050</td>\n",
       "      <td>[2, 2, 2, 2, 2, 2, 2, 2, 2, 2, 2, 2, 2, 2, 2, ...</td>\n",
       "      <td>0.000578</td>\n",
       "      <td>True</td>\n",
       "    </tr>\n",
       "  </tbody>\n",
       "</table>\n",
       "</div>"
      ],
      "text/plain": [
       "     method                                          partition  ari_median  \\\n",
       "k                                                                            \n",
       "7   scc_020  [6, 6, 6, 6, 6, 6, 6, 6, 6, 6, 6, 6, 6, 6, 6, ...    0.000719   \n",
       "14  scc_020  [1, 1, 1, 1, 1, 1, 1, 1, 1, 1, 1, 1, 1, 1, 1, ...    0.000644   \n",
       "5   scc_050  [0, 0, 0, 0, 0, 0, 0, 0, 0, 0, 0, 0, 0, 0, 0, ...    0.000601   \n",
       "36  scc_050  [21, 21, 21, 21, 21, 21, 21, 21, 21, 21, 21, 2...    0.000589   \n",
       "33  scc_050  [2, 2, 2, 2, 2, 2, 2, 2, 2, 2, 2, 2, 2, 2, 2, ...    0.000578   \n",
       "\n",
       "    selected  \n",
       "k             \n",
       "7       True  \n",
       "14      True  \n",
       "5       True  \n",
       "36      True  \n",
       "33      True  "
      ]
     },
     "execution_count": 30,
     "metadata": {},
     "output_type": "execute_result"
    }
   ],
   "source": [
    "best_parts.head()"
   ]
  },
  {
   "cell_type": "markdown",
   "id": "0469ff1e",
   "metadata": {
    "papermill": {
     "duration": 0.009612,
     "end_time": "2022-09-13T12:31:12.711335",
     "exception": false,
     "start_time": "2022-09-13T12:31:12.701723",
     "status": "completed"
    },
    "tags": []
   },
   "source": [
    "## Save best partitions per k"
   ]
  },
  {
   "cell_type": "code",
   "execution_count": 31,
   "id": "28b07ee0",
   "metadata": {
    "execution": {
     "iopub.execute_input": "2022-09-13T12:31:12.731625Z",
     "iopub.status.busy": "2022-09-13T12:31:12.731337Z",
     "iopub.status.idle": "2022-09-13T12:31:12.749028Z",
     "shell.execute_reply": "2022-09-13T12:31:12.748405Z"
    },
    "papermill": {
     "duration": 0.02925,
     "end_time": "2022-09-13T12:31:12.750345",
     "exception": false,
     "start_time": "2022-09-13T12:31:12.721095",
     "status": "completed"
    },
    "tags": []
   },
   "outputs": [
    {
     "data": {
      "text/plain": [
       "PosixPath('/opt/data/results/clustering/null_sims/consensus_clustering/best_partitions_by_k.pkl')"
      ]
     },
     "metadata": {},
     "output_type": "display_data"
    }
   ],
   "source": [
    "output_file = Path(CONSENSUS_CLUSTERING_DIR, \"best_partitions_by_k.pkl\").resolve()\n",
    "display(output_file)"
   ]
  },
  {
   "cell_type": "code",
   "execution_count": 32,
   "id": "1a314210",
   "metadata": {
    "execution": {
     "iopub.execute_input": "2022-09-13T12:31:12.770954Z",
     "iopub.status.busy": "2022-09-13T12:31:12.770790Z",
     "iopub.status.idle": "2022-09-13T12:31:12.788450Z",
     "shell.execute_reply": "2022-09-13T12:31:12.787984Z"
    },
    "papermill": {
     "duration": 0.029667,
     "end_time": "2022-09-13T12:31:12.789894",
     "exception": false,
     "start_time": "2022-09-13T12:31:12.760227",
     "status": "completed"
    },
    "tags": []
   },
   "outputs": [],
   "source": [
    "best_parts.to_pickle(output_file)"
   ]
  },
  {
   "cell_type": "markdown",
   "id": "9bc2f328",
   "metadata": {
    "papermill": {
     "duration": 0.009946,
     "end_time": "2022-09-13T12:31:12.810069",
     "exception": false,
     "start_time": "2022-09-13T12:31:12.800123",
     "status": "completed"
    },
    "tags": []
   },
   "source": [
    "# Plot of selected best partitions"
   ]
  },
  {
   "cell_type": "code",
   "execution_count": 33,
   "id": "854b2bfd",
   "metadata": {
    "execution": {
     "iopub.execute_input": "2022-09-13T12:31:12.829965Z",
     "iopub.status.busy": "2022-09-13T12:31:12.829755Z",
     "iopub.status.idle": "2022-09-13T12:31:12.855253Z",
     "shell.execute_reply": "2022-09-13T12:31:12.854815Z"
    },
    "papermill": {
     "duration": 0.036952,
     "end_time": "2022-09-13T12:31:12.856539",
     "exception": false,
     "start_time": "2022-09-13T12:31:12.819587",
     "status": "completed"
    },
    "tags": []
   },
   "outputs": [
    {
     "data": {
      "text/html": [
       "<div>\n",
       "<style scoped>\n",
       "    .dataframe tbody tr th:only-of-type {\n",
       "        vertical-align: middle;\n",
       "    }\n",
       "\n",
       "    .dataframe tbody tr th {\n",
       "        vertical-align: top;\n",
       "    }\n",
       "\n",
       "    .dataframe thead th {\n",
       "        text-align: right;\n",
       "    }\n",
       "</style>\n",
       "<table border=\"1\" class=\"dataframe\">\n",
       "  <thead>\n",
       "    <tr style=\"text-align: right;\">\n",
       "      <th></th>\n",
       "      <th>k</th>\n",
       "      <th>method</th>\n",
       "      <th>partition</th>\n",
       "      <th>ari_median</th>\n",
       "      <th>selected</th>\n",
       "    </tr>\n",
       "  </thead>\n",
       "  <tbody>\n",
       "    <tr>\n",
       "      <th>0</th>\n",
       "      <td>7</td>\n",
       "      <td>scc_020</td>\n",
       "      <td>[6, 6, 6, 6, 6, 6, 6, 6, 6, 6, 6, 6, 6, 6, 6, ...</td>\n",
       "      <td>0.000719</td>\n",
       "      <td>True</td>\n",
       "    </tr>\n",
       "    <tr>\n",
       "      <th>1</th>\n",
       "      <td>14</td>\n",
       "      <td>scc_020</td>\n",
       "      <td>[1, 1, 1, 1, 1, 1, 1, 1, 1, 1, 1, 1, 1, 1, 1, ...</td>\n",
       "      <td>0.000644</td>\n",
       "      <td>True</td>\n",
       "    </tr>\n",
       "    <tr>\n",
       "      <th>2</th>\n",
       "      <td>5</td>\n",
       "      <td>scc_050</td>\n",
       "      <td>[0, 0, 0, 0, 0, 0, 0, 0, 0, 0, 0, 0, 0, 0, 0, ...</td>\n",
       "      <td>0.000601</td>\n",
       "      <td>True</td>\n",
       "    </tr>\n",
       "    <tr>\n",
       "      <th>3</th>\n",
       "      <td>36</td>\n",
       "      <td>scc_050</td>\n",
       "      <td>[21, 21, 21, 21, 21, 21, 21, 21, 21, 21, 21, 2...</td>\n",
       "      <td>0.000589</td>\n",
       "      <td>True</td>\n",
       "    </tr>\n",
       "    <tr>\n",
       "      <th>4</th>\n",
       "      <td>33</td>\n",
       "      <td>scc_050</td>\n",
       "      <td>[2, 2, 2, 2, 2, 2, 2, 2, 2, 2, 2, 2, 2, 2, 2, ...</td>\n",
       "      <td>0.000578</td>\n",
       "      <td>True</td>\n",
       "    </tr>\n",
       "  </tbody>\n",
       "</table>\n",
       "</div>"
      ],
      "text/plain": [
       "    k   method                                          partition  ari_median  \\\n",
       "0   7  scc_020  [6, 6, 6, 6, 6, 6, 6, 6, 6, 6, 6, 6, 6, 6, 6, ...    0.000719   \n",
       "1  14  scc_020  [1, 1, 1, 1, 1, 1, 1, 1, 1, 1, 1, 1, 1, 1, 1, ...    0.000644   \n",
       "2   5  scc_050  [0, 0, 0, 0, 0, 0, 0, 0, 0, 0, 0, 0, 0, 0, 0, ...    0.000601   \n",
       "3  36  scc_050  [21, 21, 21, 21, 21, 21, 21, 21, 21, 21, 21, 2...    0.000589   \n",
       "4  33  scc_050  [2, 2, 2, 2, 2, 2, 2, 2, 2, 2, 2, 2, 2, 2, 2, ...    0.000578   \n",
       "\n",
       "   selected  \n",
       "0      True  \n",
       "1      True  \n",
       "2      True  \n",
       "3      True  \n",
       "4      True  "
      ]
     },
     "metadata": {},
     "output_type": "display_data"
    }
   ],
   "source": [
    "plot_data = best_parts.reset_index()\n",
    "display(plot_data.head(5))"
   ]
  },
  {
   "cell_type": "code",
   "execution_count": 34,
   "id": "1ee1a588",
   "metadata": {
    "execution": {
     "iopub.execute_input": "2022-09-13T12:31:12.877370Z",
     "iopub.status.busy": "2022-09-13T12:31:12.877148Z",
     "iopub.status.idle": "2022-09-13T12:31:14.802278Z",
     "shell.execute_reply": "2022-09-13T12:31:14.801654Z"
    },
    "papermill": {
     "duration": 1.937341,
     "end_time": "2022-09-13T12:31:14.803958",
     "exception": false,
     "start_time": "2022-09-13T12:31:12.866617",
     "status": "completed"
    },
    "tags": []
   },
   "outputs": [
    {
     "data": {
      "image/png": "[encoded data removed]",
      "text/plain": [
       "<Figure size 864x432 with 1 Axes>"
      ]
     },
     "metadata": {},
     "output_type": "display_data"
    }
   ],
   "source": [
    "with sns.plotting_context(\"talk\", font_scale=0.75), sns.axes_style(\n",
    "    \"whitegrid\", {\"grid.linestyle\": \"--\"}\n",
    "), sns.color_palette(\"muted\"):\n",
    "    current_palette = iter(sns.color_palette())\n",
    "\n",
    "    fig, ax = plt.subplots(figsize=(12, 6))\n",
    "    ax = sns.pointplot(\n",
    "        data=plot_data, x=\"k\", y=_measure_col, color=next(current_palette)\n",
    "    )\n",
    "    ax.axhline(\n",
    "        best_threshold,\n",
    "        ls=\"--\",\n",
    "        color=next(current_palette),\n",
    "        label=best_threshold_description,\n",
    "    )\n",
    "    ax.set_ylabel(f\"Agreement with ensemble\\n({_selected_stat} {_selected_measure})\")\n",
    "    ax.set_xlabel(\"Number of clusters ($k$)\")\n",
    "    ax.set_xticklabels(ax.get_xticklabels(), rotation=45)\n",
    "    plt.legend()\n",
    "    plt.grid(True)\n",
    "    plt.tight_layout()"
   ]
  },
  {
   "cell_type": "markdown",
   "id": "b9b3ca3a",
   "metadata": {
    "papermill": {
     "duration": 0.01016,
     "end_time": "2022-09-13T12:31:14.824914",
     "exception": false,
     "start_time": "2022-09-13T12:31:14.814754",
     "status": "completed"
    },
    "tags": []
   },
   "source": [
    "The horizontal line in the plot is the median of the average agreement value; partitions above that line are marked as selected for downstream analysis"
   ]
  },
  {
   "cell_type": "code",
   "execution_count": 35,
   "id": "dfae640f",
   "metadata": {
    "execution": {
     "iopub.execute_input": "2022-09-13T12:31:14.846775Z",
     "iopub.status.busy": "2022-09-13T12:31:14.846492Z",
     "iopub.status.idle": "2022-09-13T12:31:14.883470Z",
     "shell.execute_reply": "2022-09-13T12:31:14.882888Z"
    },
    "papermill": {
     "duration": 0.049438,
     "end_time": "2022-09-13T12:31:14.884873",
     "exception": false,
     "start_time": "2022-09-13T12:31:14.835435",
     "status": "completed"
    },
    "tags": []
   },
   "outputs": [
    {
     "data": {
      "text/html": [
       "<div>\n",
       "<style scoped>\n",
       "    .dataframe tbody tr th:only-of-type {\n",
       "        vertical-align: middle;\n",
       "    }\n",
       "\n",
       "    .dataframe tbody tr th {\n",
       "        vertical-align: top;\n",
       "    }\n",
       "\n",
       "    .dataframe thead th {\n",
       "        text-align: right;\n",
       "    }\n",
       "</style>\n",
       "<table border=\"1\" class=\"dataframe\">\n",
       "  <thead>\n",
       "    <tr style=\"text-align: right;\">\n",
       "      <th></th>\n",
       "      <th>k</th>\n",
       "      <th>method</th>\n",
       "      <th>partition</th>\n",
       "      <th>ari_median</th>\n",
       "      <th>selected</th>\n",
       "    </tr>\n",
       "  </thead>\n",
       "  <tbody>\n",
       "    <tr>\n",
       "      <th>2</th>\n",
       "      <td>5</td>\n",
       "      <td>scc_050</td>\n",
       "      <td>[0, 0, 0, 0, 0, 0, 0, 0, 0, 0, 0, 0, 0, 0, 0, ...</td>\n",
       "      <td>0.000601</td>\n",
       "      <td>True</td>\n",
       "    </tr>\n",
       "    <tr>\n",
       "      <th>0</th>\n",
       "      <td>7</td>\n",
       "      <td>scc_020</td>\n",
       "      <td>[6, 6, 6, 6, 6, 6, 6, 6, 6, 6, 6, 6, 6, 6, 6, ...</td>\n",
       "      <td>0.000719</td>\n",
       "      <td>True</td>\n",
       "    </tr>\n",
       "    <tr>\n",
       "      <th>6</th>\n",
       "      <td>8</td>\n",
       "      <td>scc_020</td>\n",
       "      <td>[7, 7, 7, 7, 7, 7, 7, 7, 7, 7, 7, 7, 7, 7, 7, ...</td>\n",
       "      <td>0.000563</td>\n",
       "      <td>True</td>\n",
       "    </tr>\n",
       "    <tr>\n",
       "      <th>11</th>\n",
       "      <td>12</td>\n",
       "      <td>scc_030</td>\n",
       "      <td>[1, 1, 1, 1, 1, 1, 1, 1, 1, 1, 1, 1, 1, 1, 1, ...</td>\n",
       "      <td>0.000522</td>\n",
       "      <td>True</td>\n",
       "    </tr>\n",
       "    <tr>\n",
       "      <th>1</th>\n",
       "      <td>14</td>\n",
       "      <td>scc_020</td>\n",
       "      <td>[1, 1, 1, 1, 1, 1, 1, 1, 1, 1, 1, 1, 1, 1, 1, ...</td>\n",
       "      <td>0.000644</td>\n",
       "      <td>True</td>\n",
       "    </tr>\n",
       "    <tr>\n",
       "      <th>7</th>\n",
       "      <td>15</td>\n",
       "      <td>scc_020</td>\n",
       "      <td>[3, 3, 3, 3, 3, 3, 3, 3, 3, 3, 3, 3, 3, 3, 3, ...</td>\n",
       "      <td>0.000562</td>\n",
       "      <td>True</td>\n",
       "    </tr>\n",
       "    <tr>\n",
       "      <th>5</th>\n",
       "      <td>16</td>\n",
       "      <td>scc_020</td>\n",
       "      <td>[0, 0, 0, 0, 0, 0, 0, 0, 0, 0, 0, 0, 0, 0, 0, ...</td>\n",
       "      <td>0.000567</td>\n",
       "      <td>True</td>\n",
       "    </tr>\n",
       "    <tr>\n",
       "      <th>4</th>\n",
       "      <td>33</td>\n",
       "      <td>scc_050</td>\n",
       "      <td>[2, 2, 2, 2, 2, 2, 2, 2, 2, 2, 2, 2, 2, 2, 2, ...</td>\n",
       "      <td>0.000578</td>\n",
       "      <td>True</td>\n",
       "    </tr>\n",
       "    <tr>\n",
       "      <th>9</th>\n",
       "      <td>35</td>\n",
       "      <td>scc_050</td>\n",
       "      <td>[16, 16, 16, 16, 16, 16, 16, 16, 16, 16, 16, 1...</td>\n",
       "      <td>0.000536</td>\n",
       "      <td>True</td>\n",
       "    </tr>\n",
       "    <tr>\n",
       "      <th>3</th>\n",
       "      <td>36</td>\n",
       "      <td>scc_050</td>\n",
       "      <td>[21, 21, 21, 21, 21, 21, 21, 21, 21, 21, 21, 2...</td>\n",
       "      <td>0.000589</td>\n",
       "      <td>True</td>\n",
       "    </tr>\n",
       "    <tr>\n",
       "      <th>10</th>\n",
       "      <td>38</td>\n",
       "      <td>scc_050</td>\n",
       "      <td>[17, 17, 17, 17, 17, 17, 17, 17, 17, 17, 17, 1...</td>\n",
       "      <td>0.000529</td>\n",
       "      <td>True</td>\n",
       "    </tr>\n",
       "    <tr>\n",
       "      <th>8</th>\n",
       "      <td>39</td>\n",
       "      <td>scc_030</td>\n",
       "      <td>[0, 0, 0, 0, 0, 0, 0, 0, 0, 0, 0, 0, 0, 0, 0, ...</td>\n",
       "      <td>0.000543</td>\n",
       "      <td>True</td>\n",
       "    </tr>\n",
       "    <tr>\n",
       "      <th>13</th>\n",
       "      <td>40</td>\n",
       "      <td>scc_030</td>\n",
       "      <td>[39, 39, 39, 39, 39, 39, 39, 39, 39, 39, 39, 3...</td>\n",
       "      <td>0.000517</td>\n",
       "      <td>True</td>\n",
       "    </tr>\n",
       "    <tr>\n",
       "      <th>12</th>\n",
       "      <td>42</td>\n",
       "      <td>scc_050</td>\n",
       "      <td>[4, 4, 4, 4, 4, 4, 4, 4, 4, 4, 4, 4, 4, 4, 4, ...</td>\n",
       "      <td>0.000518</td>\n",
       "      <td>True</td>\n",
       "    </tr>\n",
       "    <tr>\n",
       "      <th>14</th>\n",
       "      <td>46</td>\n",
       "      <td>scc_050</td>\n",
       "      <td>[18, 18, 18, 18, 18, 18, 18, 18, 18, 18, 18, 1...</td>\n",
       "      <td>0.000512</td>\n",
       "      <td>True</td>\n",
       "    </tr>\n",
       "  </tbody>\n",
       "</table>\n",
       "</div>"
      ],
      "text/plain": [
       "     k   method                                          partition  \\\n",
       "2    5  scc_050  [0, 0, 0, 0, 0, 0, 0, 0, 0, 0, 0, 0, 0, 0, 0, ...   \n",
       "0    7  scc_020  [6, 6, 6, 6, 6, 6, 6, 6, 6, 6, 6, 6, 6, 6, 6, ...   \n",
       "6    8  scc_020  [7, 7, 7, 7, 7, 7, 7, 7, 7, 7, 7, 7, 7, 7, 7, ...   \n",
       "11  12  scc_030  [1, 1, 1, 1, 1, 1, 1, 1, 1, 1, 1, 1, 1, 1, 1, ...   \n",
       "1   14  scc_020  [1, 1, 1, 1, 1, 1, 1, 1, 1, 1, 1, 1, 1, 1, 1, ...   \n",
       "7   15  scc_020  [3, 3, 3, 3, 3, 3, 3, 3, 3, 3, 3, 3, 3, 3, 3, ...   \n",
       "5   16  scc_020  [0, 0, 0, 0, 0, 0, 0, 0, 0, 0, 0, 0, 0, 0, 0, ...   \n",
       "4   33  scc_050  [2, 2, 2, 2, 2, 2, 2, 2, 2, 2, 2, 2, 2, 2, 2, ...   \n",
       "9   35  scc_050  [16, 16, 16, 16, 16, 16, 16, 16, 16, 16, 16, 1...   \n",
       "3   36  scc_050  [21, 21, 21, 21, 21, 21, 21, 21, 21, 21, 21, 2...   \n",
       "10  38  scc_050  [17, 17, 17, 17, 17, 17, 17, 17, 17, 17, 17, 1...   \n",
       "8   39  scc_030  [0, 0, 0, 0, 0, 0, 0, 0, 0, 0, 0, 0, 0, 0, 0, ...   \n",
       "13  40  scc_030  [39, 39, 39, 39, 39, 39, 39, 39, 39, 39, 39, 3...   \n",
       "12  42  scc_050  [4, 4, 4, 4, 4, 4, 4, 4, 4, 4, 4, 4, 4, 4, 4, ...   \n",
       "14  46  scc_050  [18, 18, 18, 18, 18, 18, 18, 18, 18, 18, 18, 1...   \n",
       "\n",
       "    ari_median  selected  \n",
       "2     0.000601      True  \n",
       "0     0.000719      True  \n",
       "6     0.000563      True  \n",
       "11    0.000522      True  \n",
       "1     0.000644      True  \n",
       "7     0.000562      True  \n",
       "5     0.000567      True  \n",
       "4     0.000578      True  \n",
       "9     0.000536      True  \n",
       "3     0.000589      True  \n",
       "10    0.000529      True  \n",
       "8     0.000543      True  \n",
       "13    0.000517      True  \n",
       "12    0.000518      True  \n",
       "14    0.000512      True  "
      ]
     },
     "execution_count": 35,
     "metadata": {},
     "output_type": "execute_result"
    }
   ],
   "source": [
    "# this list shows the selected final partitions, and which methods achieved the highest agreement\n",
    "plot_data[plot_data[\"selected\"]].sort_values(\"k\")"
   ]
  },
  {
   "cell_type": "markdown",
   "id": "bbad5687",
   "metadata": {
    "papermill": {
     "duration": 0.010868,
     "end_time": "2022-09-13T12:31:14.906681",
     "exception": false,
     "start_time": "2022-09-13T12:31:14.895813",
     "status": "completed"
    },
    "tags": []
   },
   "source": [
    "From the two evidence accumulation approaches (EAC) we are using, the spectral clustering based one does it better for almost all `k` values, whereas the hierarchical clustering based approach seems to do a little bit better for lower `k`."
   ]
  },
  {
   "cell_type": "code",
   "execution_count": null,
   "id": "fa99f669",
   "metadata": {
    "papermill": {
     "duration": 0.010424,
     "end_time": "2022-09-13T12:31:14.927932",
     "exception": false,
     "start_time": "2022-09-13T12:31:14.917508",
     "status": "completed"
    },
    "tags": []
   },
   "outputs": [],
   "source": []
  }
 ],
 "metadata": {
  "jupytext": {
   "cell_metadata_filter": "all,-execution,-papermill,-trusted",
   "formats": "ipynb,py//py:percent"
  },
  "kernelspec": {
   "display_name": "Python 3 (ipykernel)",
   "language": "python",
   "name": "python3"
  },
  "language_info": {
   "codemirror_mode": {
    "name": "ipython",
    "version": 3
   },
   "file_extension": ".py",
   "mimetype": "text/x-python",
   "name": "python",
   "nbconvert_exporter": "python",
   "pygments_lexer": "ipython3",
   "version": "3.8.13"
  },
  "papermill": {
   "default_parameters": {},
   "duration": 10.380265,
   "end_time": "2022-09-13T12:31:15.257942",
   "environment_variables": {},
   "exception": null,
   "input_path": "nbs/13.1_cluster_analysis_null/20_02-get_best_partitions.ipynb",
   "output_path": "nbs/13.1_cluster_analysis_null/20_02-get_best_partitions.run.ipynb",
   "parameters": {},
   "start_time": "2022-09-13T12:31:04.877677",
   "version": "2.2.2"
  },
  "toc-autonumbering": true,
  "toc-showcode": false,
  "toc-showmarkdowntxt": false,
  "toc-showtags": false
 },
 "nbformat": 4,
 "nbformat_minor": 5
}
