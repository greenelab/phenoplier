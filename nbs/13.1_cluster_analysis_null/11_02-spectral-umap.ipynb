{
 "cells": [
  {
   "cell_type": "markdown",
   "id": "a47b9956",
   "metadata": {
    "papermill": {
     "duration": 0.035058,
     "end_time": "2022-09-11T21:46:34.207976",
     "exception": false,
     "start_time": "2022-09-11T21:46:34.172918",
     "status": "completed"
    },
    "tags": []
   },
   "source": [
    "# Description"
   ]
  },
  {
   "cell_type": "markdown",
   "id": "a8f0575a",
   "metadata": {
    "papermill": {
     "duration": 0.008968,
     "end_time": "2022-09-11T21:46:34.230735",
     "exception": false,
     "start_time": "2022-09-11T21:46:34.221767",
     "status": "completed"
    },
    "tags": []
   },
   "source": [
    "Runs spectral clustering on the umap version of the data."
   ]
  },
  {
   "cell_type": "markdown",
   "id": "06369fb4",
   "metadata": {
    "papermill": {
     "duration": 0.006331,
     "end_time": "2022-09-11T21:46:34.244724",
     "exception": false,
     "start_time": "2022-09-11T21:46:34.238393",
     "status": "completed"
    },
    "tags": []
   },
   "source": [
    "# Environment variables"
   ]
  },
  {
   "cell_type": "code",
   "execution_count": 1,
   "id": "19d02540",
   "metadata": {
    "execution": {
     "iopub.execute_input": "2022-09-11T21:46:34.259047Z",
     "iopub.status.busy": "2022-09-11T21:46:34.258830Z",
     "iopub.status.idle": "2022-09-11T21:46:34.273481Z",
     "shell.execute_reply": "2022-09-11T21:46:34.273027Z"
    },
    "papermill": {
     "duration": 0.023406,
     "end_time": "2022-09-11T21:46:34.274917",
     "exception": false,
     "start_time": "2022-09-11T21:46:34.251511",
     "status": "completed"
    },
    "tags": []
   },
   "outputs": [
    {
     "data": {
      "text/plain": [
       "3"
      ]
     },
     "metadata": {},
     "output_type": "display_data"
    }
   ],
   "source": [
    "from IPython.display import display\n",
    "\n",
    "import conf\n",
    "\n",
    "N_JOBS = conf.GENERAL[\"N_JOBS\"]\n",
    "display(N_JOBS)"
   ]
  },
  {
   "cell_type": "code",
   "execution_count": 2,
   "id": "182ab093",
   "metadata": {
    "execution": {
     "iopub.execute_input": "2022-09-11T21:46:34.289231Z",
     "iopub.status.busy": "2022-09-11T21:46:34.289079Z",
     "iopub.status.idle": "2022-09-11T21:46:34.293913Z",
     "shell.execute_reply": "2022-09-11T21:46:34.293457Z"
    },
    "papermill": {
     "duration": 0.013402,
     "end_time": "2022-09-11T21:46:34.295132",
     "exception": false,
     "start_time": "2022-09-11T21:46:34.281730",
     "status": "completed"
    },
    "tags": []
   },
   "outputs": [
    {
     "name": "stdout",
     "output_type": "stream",
     "text": [
      "env: MKL_NUM_THREADS=3\n",
      "env: OPEN_BLAS_NUM_THREADS=3\n",
      "env: NUMEXPR_NUM_THREADS=3\n",
      "env: OMP_NUM_THREADS=3\n"
     ]
    }
   ],
   "source": [
    "%env MKL_NUM_THREADS=$N_JOBS\n",
    "%env OPEN_BLAS_NUM_THREADS=$N_JOBS\n",
    "%env NUMEXPR_NUM_THREADS=$N_JOBS\n",
    "%env OMP_NUM_THREADS=$N_JOBS"
   ]
  },
  {
   "cell_type": "markdown",
   "id": "6b1a2f0b",
   "metadata": {
    "papermill": {
     "duration": 0.006598,
     "end_time": "2022-09-11T21:46:34.308527",
     "exception": false,
     "start_time": "2022-09-11T21:46:34.301929",
     "status": "completed"
    },
    "tags": []
   },
   "source": [
    "# Modules loading"
   ]
  },
  {
   "cell_type": "code",
   "execution_count": 3,
   "id": "db1bd26a",
   "metadata": {
    "execution": {
     "iopub.execute_input": "2022-09-11T21:46:34.332863Z",
     "iopub.status.busy": "2022-09-11T21:46:34.332650Z",
     "iopub.status.idle": "2022-09-11T21:46:34.345285Z",
     "shell.execute_reply": "2022-09-11T21:46:34.344779Z"
    },
    "papermill": {
     "duration": 0.03157,
     "end_time": "2022-09-11T21:46:34.346744",
     "exception": false,
     "start_time": "2022-09-11T21:46:34.315174",
     "status": "completed"
    },
    "tags": []
   },
   "outputs": [],
   "source": [
    "%load_ext autoreload\n",
    "%autoreload 2"
   ]
  },
  {
   "cell_type": "code",
   "execution_count": 4,
   "id": "ebffcc6b",
   "metadata": {
    "execution": {
     "iopub.execute_input": "2022-09-11T21:46:34.362267Z",
     "iopub.status.busy": "2022-09-11T21:46:34.362096Z",
     "iopub.status.idle": "2022-09-11T21:46:35.006813Z",
     "shell.execute_reply": "2022-09-11T21:46:35.006157Z"
    },
    "papermill": {
     "duration": 0.654384,
     "end_time": "2022-09-11T21:46:35.008279",
     "exception": false,
     "start_time": "2022-09-11T21:46:34.353895",
     "status": "completed"
    },
    "tags": []
   },
   "outputs": [],
   "source": [
    "from pathlib import Path\n",
    "\n",
    "import numpy as np\n",
    "import pandas as pd\n",
    "import matplotlib.pyplot as plt\n",
    "import seaborn as sns\n",
    "\n",
    "from utils import generate_result_set_name"
   ]
  },
  {
   "cell_type": "markdown",
   "id": "dc188188",
   "metadata": {
    "papermill": {
     "duration": 0.006819,
     "end_time": "2022-09-11T21:46:35.021662",
     "exception": false,
     "start_time": "2022-09-11T21:46:35.014843",
     "status": "completed"
    },
    "tags": []
   },
   "source": [
    "# Settings"
   ]
  },
  {
   "cell_type": "code",
   "execution_count": 5,
   "id": "3536c43e",
   "metadata": {
    "execution": {
     "iopub.execute_input": "2022-09-11T21:46:35.035825Z",
     "iopub.status.busy": "2022-09-11T21:46:35.035624Z",
     "iopub.status.idle": "2022-09-11T21:46:35.052220Z",
     "shell.execute_reply": "2022-09-11T21:46:35.051518Z"
    },
    "papermill": {
     "duration": 0.02542,
     "end_time": "2022-09-11T21:46:35.053604",
     "exception": false,
     "start_time": "2022-09-11T21:46:35.028184",
     "status": "completed"
    },
    "tags": []
   },
   "outputs": [],
   "source": [
    "np.random.seed(0)"
   ]
  },
  {
   "cell_type": "code",
   "execution_count": 6,
   "id": "4c2a2bc1",
   "metadata": {
    "execution": {
     "iopub.execute_input": "2022-09-11T21:46:35.068232Z",
     "iopub.status.busy": "2022-09-11T21:46:35.068073Z",
     "iopub.status.idle": "2022-09-11T21:46:35.084855Z",
     "shell.execute_reply": "2022-09-11T21:46:35.084316Z"
    },
    "papermill": {
     "duration": 0.025607,
     "end_time": "2022-09-11T21:46:35.086248",
     "exception": false,
     "start_time": "2022-09-11T21:46:35.060641",
     "status": "completed"
    },
    "tags": []
   },
   "outputs": [],
   "source": [
    "INITIAL_RANDOM_STATE = 50000"
   ]
  },
  {
   "cell_type": "markdown",
   "id": "08db3b29",
   "metadata": {
    "papermill": {
     "duration": 0.006587,
     "end_time": "2022-09-11T21:46:35.099997",
     "exception": false,
     "start_time": "2022-09-11T21:46:35.093410",
     "status": "completed"
    },
    "tags": []
   },
   "source": [
    "## Input data"
   ]
  },
  {
   "cell_type": "code",
   "execution_count": 7,
   "id": "d45f9ea2",
   "metadata": {
    "execution": {
     "iopub.execute_input": "2022-09-11T21:46:35.141672Z",
     "iopub.status.busy": "2022-09-11T21:46:35.141477Z",
     "iopub.status.idle": "2022-09-11T21:46:35.160212Z",
     "shell.execute_reply": "2022-09-11T21:46:35.159579Z"
    },
    "papermill": {
     "duration": 0.05505,
     "end_time": "2022-09-11T21:46:35.161736",
     "exception": false,
     "start_time": "2022-09-11T21:46:35.106686",
     "status": "completed"
    },
    "tags": []
   },
   "outputs": [],
   "source": [
    "INPUT_SUBSET = \"umap\""
   ]
  },
  {
   "cell_type": "code",
   "execution_count": 8,
   "id": "26f5101f",
   "metadata": {
    "execution": {
     "iopub.execute_input": "2022-09-11T21:46:35.179547Z",
     "iopub.status.busy": "2022-09-11T21:46:35.179345Z",
     "iopub.status.idle": "2022-09-11T21:46:35.198203Z",
     "shell.execute_reply": "2022-09-11T21:46:35.197502Z"
    },
    "papermill": {
     "duration": 0.029517,
     "end_time": "2022-09-11T21:46:35.199801",
     "exception": false,
     "start_time": "2022-09-11T21:46:35.170284",
     "status": "completed"
    },
    "tags": []
   },
   "outputs": [],
   "source": [
    "INPUT_STEM = \"z_score_std-projection-smultixcan-efo_partial-mashr-zscores\""
   ]
  },
  {
   "cell_type": "code",
   "execution_count": 9,
   "id": "87b8be80",
   "metadata": {
    "execution": {
     "iopub.execute_input": "2022-09-11T21:46:35.218579Z",
     "iopub.status.busy": "2022-09-11T21:46:35.218383Z",
     "iopub.status.idle": "2022-09-11T21:46:35.237764Z",
     "shell.execute_reply": "2022-09-11T21:46:35.237164Z"
    },
    "papermill": {
     "duration": 0.030942,
     "end_time": "2022-09-11T21:46:35.239402",
     "exception": false,
     "start_time": "2022-09-11T21:46:35.208460",
     "status": "completed"
    },
    "tags": []
   },
   "outputs": [],
   "source": [
    "DR_OPTIONS = {\n",
    "    \"n_components\": 50,\n",
    "    \"metric\": \"euclidean\",\n",
    "    \"n_neighbors\": 15,\n",
    "    \"random_state\": 0,\n",
    "}"
   ]
  },
  {
   "cell_type": "code",
   "execution_count": 10,
   "id": "27e5ec3a",
   "metadata": {
    "execution": {
     "iopub.execute_input": "2022-09-11T21:46:35.256178Z",
     "iopub.status.busy": "2022-09-11T21:46:35.256000Z",
     "iopub.status.idle": "2022-09-11T21:46:35.275409Z",
     "shell.execute_reply": "2022-09-11T21:46:35.274957Z"
    },
    "papermill": {
     "duration": 0.028858,
     "end_time": "2022-09-11T21:46:35.276715",
     "exception": false,
     "start_time": "2022-09-11T21:46:35.247857",
     "status": "completed"
    },
    "tags": []
   },
   "outputs": [
    {
     "data": {
      "text/plain": [
       "PosixPath('/opt/data/results/clustering/null_sims/data_transformations/umap/umap-z_score_std-projection-smultixcan-efo_partial-mashr-zscores-metric_euclidean-n_components_50-n_neighbors_15-random_state_0.pkl')"
      ]
     },
     "metadata": {},
     "output_type": "display_data"
    },
    {
     "data": {
      "text/plain": [
       "'umap-z_score_std-projection-smultixcan-efo_partial-mashr-zscores-metric_euclidean-n_components_50-n_neighbors_15-random_state_0'"
      ]
     },
     "metadata": {},
     "output_type": "display_data"
    }
   ],
   "source": [
    "input_filepath = Path(\n",
    "    conf.RESULTS[\"CLUSTERING_NULL_DIR\"],\n",
    "    \"data_transformations\",\n",
    "    INPUT_SUBSET,\n",
    "    generate_result_set_name(\n",
    "        DR_OPTIONS, prefix=f\"{INPUT_SUBSET}-{INPUT_STEM}-\", suffix=\".pkl\"\n",
    "    ),\n",
    ").resolve()\n",
    "display(input_filepath)\n",
    "\n",
    "assert input_filepath.exists(), \"Input file does not exist\"\n",
    "\n",
    "input_filepath_stem = input_filepath.stem\n",
    "display(input_filepath_stem)"
   ]
  },
  {
   "cell_type": "markdown",
   "id": "53d85f4a",
   "metadata": {
    "papermill": {
     "duration": 0.007228,
     "end_time": "2022-09-11T21:46:35.291461",
     "exception": false,
     "start_time": "2022-09-11T21:46:35.284233",
     "status": "completed"
    },
    "tags": []
   },
   "source": [
    "## Clustering"
   ]
  },
  {
   "cell_type": "code",
   "execution_count": 11,
   "id": "0c33b061",
   "metadata": {
    "execution": {
     "iopub.execute_input": "2022-09-11T21:46:35.306128Z",
     "iopub.status.busy": "2022-09-11T21:46:35.305919Z",
     "iopub.status.idle": "2022-09-11T21:46:35.397107Z",
     "shell.execute_reply": "2022-09-11T21:46:35.396481Z"
    },
    "papermill": {
     "duration": 0.100273,
     "end_time": "2022-09-11T21:46:35.398571",
     "exception": false,
     "start_time": "2022-09-11T21:46:35.298298",
     "status": "completed"
    },
    "tags": []
   },
   "outputs": [],
   "source": [
    "from sklearn.cluster import SpectralClustering"
   ]
  },
  {
   "cell_type": "code",
   "execution_count": 12,
   "id": "65c45515",
   "metadata": {
    "execution": {
     "iopub.execute_input": "2022-09-11T21:46:35.413613Z",
     "iopub.status.busy": "2022-09-11T21:46:35.413421Z",
     "iopub.status.idle": "2022-09-11T21:46:35.431165Z",
     "shell.execute_reply": "2022-09-11T21:46:35.430630Z"
    },
    "papermill": {
     "duration": 0.026644,
     "end_time": "2022-09-11T21:46:35.432588",
     "exception": false,
     "start_time": "2022-09-11T21:46:35.405944",
     "status": "completed"
    },
    "tags": []
   },
   "outputs": [],
   "source": [
    "CLUSTERING_ATTRIBUTES_TO_SAVE = [\"n_clusters\"]"
   ]
  },
  {
   "cell_type": "code",
   "execution_count": 13,
   "id": "8d55b4be",
   "metadata": {
    "execution": {
     "iopub.execute_input": "2022-09-11T21:46:35.447974Z",
     "iopub.status.busy": "2022-09-11T21:46:35.447815Z",
     "iopub.status.idle": "2022-09-11T21:46:35.467155Z",
     "shell.execute_reply": "2022-09-11T21:46:35.466616Z"
    },
    "papermill": {
     "duration": 0.028441,
     "end_time": "2022-09-11T21:46:35.468407",
     "exception": false,
     "start_time": "2022-09-11T21:46:35.439966",
     "status": "completed"
    },
    "tags": []
   },
   "outputs": [
    {
     "data": {
      "text/plain": [
       "{'K_MIN': 2,\n",
       " 'K_MAX': 60,\n",
       " 'N_REPS_PER_K': 5,\n",
       " 'KMEANS_N_INIT': 10,\n",
       " 'GAMMA': 0.01,\n",
       " 'AFFINITY': 'rbf'}"
      ]
     },
     "metadata": {},
     "output_type": "display_data"
    }
   ],
   "source": [
    "CLUSTERING_OPTIONS = {}\n",
    "\n",
    "CLUSTERING_OPTIONS[\"K_MIN\"] = 2\n",
    "CLUSTERING_OPTIONS[\"K_MAX\"] = 60  # sqrt(3749)\n",
    "CLUSTERING_OPTIONS[\"N_REPS_PER_K\"] = 5\n",
    "CLUSTERING_OPTIONS[\"KMEANS_N_INIT\"] = 10\n",
    "CLUSTERING_OPTIONS[\"GAMMA\"] = 1.0e-02\n",
    "CLUSTERING_OPTIONS[\"AFFINITY\"] = \"rbf\"\n",
    "\n",
    "display(CLUSTERING_OPTIONS)"
   ]
  },
  {
   "cell_type": "code",
   "execution_count": 14,
   "id": "856adaad",
   "metadata": {
    "execution": {
     "iopub.execute_input": "2022-09-11T21:46:35.484279Z",
     "iopub.status.busy": "2022-09-11T21:46:35.484115Z",
     "iopub.status.idle": "2022-09-11T21:46:35.505431Z",
     "shell.execute_reply": "2022-09-11T21:46:35.504864Z"
    },
    "papermill": {
     "duration": 0.030857,
     "end_time": "2022-09-11T21:46:35.506858",
     "exception": false,
     "start_time": "2022-09-11T21:46:35.476001",
     "status": "completed"
    },
    "tags": []
   },
   "outputs": [],
   "source": [
    "CLUSTERERS = {}\n",
    "\n",
    "idx = 0\n",
    "random_state = INITIAL_RANDOM_STATE\n",
    "\n",
    "for k in range(CLUSTERING_OPTIONS[\"K_MIN\"], CLUSTERING_OPTIONS[\"K_MAX\"] + 1):\n",
    "    for i in range(CLUSTERING_OPTIONS[\"N_REPS_PER_K\"]):\n",
    "        clus = SpectralClustering(\n",
    "            eigen_solver=\"arpack\",\n",
    "            n_clusters=k,\n",
    "            n_init=CLUSTERING_OPTIONS[\"KMEANS_N_INIT\"],\n",
    "            affinity=CLUSTERING_OPTIONS[\"AFFINITY\"],\n",
    "            gamma=CLUSTERING_OPTIONS[\"GAMMA\"],\n",
    "            random_state=random_state,\n",
    "        )\n",
    "\n",
    "        method_name = type(clus).__name__\n",
    "        CLUSTERERS[f\"{method_name} #{idx}\"] = clus\n",
    "\n",
    "        random_state = random_state + 1\n",
    "        idx = idx + 1"
   ]
  },
  {
   "cell_type": "code",
   "execution_count": 15,
   "id": "e48b89af",
   "metadata": {
    "execution": {
     "iopub.execute_input": "2022-09-11T21:46:35.522055Z",
     "iopub.status.busy": "2022-09-11T21:46:35.521895Z",
     "iopub.status.idle": "2022-09-11T21:46:35.540140Z",
     "shell.execute_reply": "2022-09-11T21:46:35.539603Z"
    },
    "papermill": {
     "duration": 0.027274,
     "end_time": "2022-09-11T21:46:35.541475",
     "exception": false,
     "start_time": "2022-09-11T21:46:35.514201",
     "status": "completed"
    },
    "tags": []
   },
   "outputs": [
    {
     "data": {
      "text/plain": [
       "295"
      ]
     },
     "metadata": {},
     "output_type": "display_data"
    }
   ],
   "source": [
    "display(len(CLUSTERERS))"
   ]
  },
  {
   "cell_type": "code",
   "execution_count": 16,
   "id": "de496eae",
   "metadata": {
    "execution": {
     "iopub.execute_input": "2022-09-11T21:46:35.557655Z",
     "iopub.status.busy": "2022-09-11T21:46:35.557490Z",
     "iopub.status.idle": "2022-09-11T21:46:35.578187Z",
     "shell.execute_reply": "2022-09-11T21:46:35.577687Z"
    },
    "papermill": {
     "duration": 0.030209,
     "end_time": "2022-09-11T21:46:35.579466",
     "exception": false,
     "start_time": "2022-09-11T21:46:35.549257",
     "status": "completed"
    },
    "tags": []
   },
   "outputs": [
    {
     "data": {
      "text/plain": [
       "('SpectralClustering #0',\n",
       " SpectralClustering(eigen_solver='arpack', gamma=0.01, n_clusters=2,\n",
       "                    random_state=50000))"
      ]
     },
     "metadata": {},
     "output_type": "display_data"
    },
    {
     "data": {
      "text/plain": [
       "('SpectralClustering #1',\n",
       " SpectralClustering(eigen_solver='arpack', gamma=0.01, n_clusters=2,\n",
       "                    random_state=50001))"
      ]
     },
     "metadata": {},
     "output_type": "display_data"
    }
   ],
   "source": [
    "_iter = iter(CLUSTERERS.items())\n",
    "display(next(_iter))\n",
    "display(next(_iter))"
   ]
  },
  {
   "cell_type": "code",
   "execution_count": 17,
   "id": "31673d0d",
   "metadata": {
    "execution": {
     "iopub.execute_input": "2022-09-11T21:46:35.595887Z",
     "iopub.status.busy": "2022-09-11T21:46:35.595724Z",
     "iopub.status.idle": "2022-09-11T21:46:35.614474Z",
     "shell.execute_reply": "2022-09-11T21:46:35.614017Z"
    },
    "papermill": {
     "duration": 0.028453,
     "end_time": "2022-09-11T21:46:35.615815",
     "exception": false,
     "start_time": "2022-09-11T21:46:35.587362",
     "status": "completed"
    },
    "tags": []
   },
   "outputs": [
    {
     "data": {
      "text/plain": [
       "'SpectralClustering'"
      ]
     },
     "metadata": {},
     "output_type": "display_data"
    }
   ],
   "source": [
    "clustering_method_name = method_name\n",
    "display(clustering_method_name)"
   ]
  },
  {
   "cell_type": "markdown",
   "id": "6ad58de5",
   "metadata": {
    "papermill": {
     "duration": 0.007322,
     "end_time": "2022-09-11T21:46:35.631162",
     "exception": false,
     "start_time": "2022-09-11T21:46:35.623840",
     "status": "completed"
    },
    "tags": []
   },
   "source": [
    "## Output directory"
   ]
  },
  {
   "cell_type": "code",
   "execution_count": 18,
   "id": "fcaf3100",
   "metadata": {
    "execution": {
     "iopub.execute_input": "2022-09-11T21:46:35.646757Z",
     "iopub.status.busy": "2022-09-11T21:46:35.646527Z",
     "iopub.status.idle": "2022-09-11T21:46:35.666088Z",
     "shell.execute_reply": "2022-09-11T21:46:35.665458Z"
    },
    "papermill": {
     "duration": 0.028726,
     "end_time": "2022-09-11T21:46:35.667359",
     "exception": false,
     "start_time": "2022-09-11T21:46:35.638633",
     "status": "completed"
    },
    "tags": []
   },
   "outputs": [
    {
     "data": {
      "text/plain": [
       "PosixPath('/opt/data/results/clustering/null_sims/runs/umap-z_score_std-projection-smultixcan-efo_partial-mashr-zscores')"
      ]
     },
     "metadata": {},
     "output_type": "display_data"
    }
   ],
   "source": [
    "# output dir for this notebook\n",
    "RESULTS_DIR = Path(\n",
    "    conf.RESULTS[\"CLUSTERING_NULL_DIR\"],\n",
    "    \"runs\",\n",
    "    f\"{INPUT_SUBSET}-{INPUT_STEM}\",\n",
    ").resolve()\n",
    "RESULTS_DIR.mkdir(parents=True, exist_ok=True)\n",
    "\n",
    "display(RESULTS_DIR)"
   ]
  },
  {
   "cell_type": "markdown",
   "id": "e91b7939",
   "metadata": {
    "papermill": {
     "duration": 0.007609,
     "end_time": "2022-09-11T21:46:35.683033",
     "exception": false,
     "start_time": "2022-09-11T21:46:35.675424",
     "status": "completed"
    },
    "tags": []
   },
   "source": [
    "# Load input file"
   ]
  },
  {
   "cell_type": "code",
   "execution_count": 19,
   "id": "70ed03b4",
   "metadata": {
    "execution": {
     "iopub.execute_input": "2022-09-11T21:46:35.698546Z",
     "iopub.status.busy": "2022-09-11T21:46:35.698339Z",
     "iopub.status.idle": "2022-09-11T21:46:35.718272Z",
     "shell.execute_reply": "2022-09-11T21:46:35.717804Z"
    },
    "papermill": {
     "duration": 0.029229,
     "end_time": "2022-09-11T21:46:35.719721",
     "exception": false,
     "start_time": "2022-09-11T21:46:35.690492",
     "status": "completed"
    },
    "tags": []
   },
   "outputs": [],
   "source": [
    "data = pd.read_pickle(input_filepath)"
   ]
  },
  {
   "cell_type": "code",
   "execution_count": 20,
   "id": "6eb4728e",
   "metadata": {
    "execution": {
     "iopub.execute_input": "2022-09-11T21:46:35.736569Z",
     "iopub.status.busy": "2022-09-11T21:46:35.736385Z",
     "iopub.status.idle": "2022-09-11T21:46:35.754878Z",
     "shell.execute_reply": "2022-09-11T21:46:35.754294Z"
    },
    "papermill": {
     "duration": 0.028292,
     "end_time": "2022-09-11T21:46:35.756118",
     "exception": false,
     "start_time": "2022-09-11T21:46:35.727826",
     "status": "completed"
    },
    "tags": []
   },
   "outputs": [
    {
     "data": {
      "text/plain": [
       "(3752, 50)"
      ]
     },
     "execution_count": 20,
     "metadata": {},
     "output_type": "execute_result"
    }
   ],
   "source": [
    "data.shape"
   ]
  },
  {
   "cell_type": "code",
   "execution_count": 21,
   "id": "cfb6497a",
   "metadata": {
    "execution": {
     "iopub.execute_input": "2022-09-11T21:46:35.772572Z",
     "iopub.status.busy": "2022-09-11T21:46:35.772413Z",
     "iopub.status.idle": "2022-09-11T21:46:35.804480Z",
     "shell.execute_reply": "2022-09-11T21:46:35.803915Z"
    },
    "papermill": {
     "duration": 0.041793,
     "end_time": "2022-09-11T21:46:35.805756",
     "exception": false,
     "start_time": "2022-09-11T21:46:35.763963",
     "status": "completed"
    },
    "tags": []
   },
   "outputs": [
    {
     "data": {
      "text/html": [
       "<div>\n",
       "<style scoped>\n",
       "    .dataframe tbody tr th:only-of-type {\n",
       "        vertical-align: middle;\n",
       "    }\n",
       "\n",
       "    .dataframe tbody tr th {\n",
       "        vertical-align: top;\n",
       "    }\n",
       "\n",
       "    .dataframe thead th {\n",
       "        text-align: right;\n",
       "    }\n",
       "</style>\n",
       "<table border=\"1\" class=\"dataframe\">\n",
       "  <thead>\n",
       "    <tr style=\"text-align: right;\">\n",
       "      <th></th>\n",
       "      <th>UMAP1</th>\n",
       "      <th>UMAP2</th>\n",
       "      <th>UMAP3</th>\n",
       "      <th>UMAP4</th>\n",
       "      <th>UMAP5</th>\n",
       "      <th>UMAP6</th>\n",
       "      <th>UMAP7</th>\n",
       "      <th>UMAP8</th>\n",
       "      <th>UMAP9</th>\n",
       "      <th>UMAP10</th>\n",
       "      <th>...</th>\n",
       "      <th>UMAP41</th>\n",
       "      <th>UMAP42</th>\n",
       "      <th>UMAP43</th>\n",
       "      <th>UMAP44</th>\n",
       "      <th>UMAP45</th>\n",
       "      <th>UMAP46</th>\n",
       "      <th>UMAP47</th>\n",
       "      <th>UMAP48</th>\n",
       "      <th>UMAP49</th>\n",
       "      <th>UMAP50</th>\n",
       "    </tr>\n",
       "  </thead>\n",
       "  <tbody>\n",
       "    <tr>\n",
       "      <th>100001_raw-Food_weight</th>\n",
       "      <td>7.464392</td>\n",
       "      <td>4.526705</td>\n",
       "      <td>4.225008</td>\n",
       "      <td>7.029216</td>\n",
       "      <td>4.382023</td>\n",
       "      <td>4.502639</td>\n",
       "      <td>4.489128</td>\n",
       "      <td>5.381521</td>\n",
       "      <td>4.940668</td>\n",
       "      <td>4.068273</td>\n",
       "      <td>...</td>\n",
       "      <td>7.605533</td>\n",
       "      <td>8.805881</td>\n",
       "      <td>8.939267</td>\n",
       "      <td>9.142330</td>\n",
       "      <td>0.445703</td>\n",
       "      <td>8.213864</td>\n",
       "      <td>0.703600</td>\n",
       "      <td>9.307579</td>\n",
       "      <td>4.072986</td>\n",
       "      <td>9.349484</td>\n",
       "    </tr>\n",
       "    <tr>\n",
       "      <th>100002_raw-Energy</th>\n",
       "      <td>7.429606</td>\n",
       "      <td>4.536586</td>\n",
       "      <td>4.182258</td>\n",
       "      <td>7.069884</td>\n",
       "      <td>4.336564</td>\n",
       "      <td>4.421313</td>\n",
       "      <td>4.560764</td>\n",
       "      <td>5.324892</td>\n",
       "      <td>4.929991</td>\n",
       "      <td>3.999348</td>\n",
       "      <td>...</td>\n",
       "      <td>7.583344</td>\n",
       "      <td>8.843954</td>\n",
       "      <td>8.958254</td>\n",
       "      <td>9.086064</td>\n",
       "      <td>0.390866</td>\n",
       "      <td>8.235448</td>\n",
       "      <td>0.706651</td>\n",
       "      <td>9.296489</td>\n",
       "      <td>4.041227</td>\n",
       "      <td>9.304544</td>\n",
       "    </tr>\n",
       "    <tr>\n",
       "      <th>100003_raw-Protein</th>\n",
       "      <td>7.481067</td>\n",
       "      <td>4.513837</td>\n",
       "      <td>4.172322</td>\n",
       "      <td>7.040905</td>\n",
       "      <td>4.395445</td>\n",
       "      <td>4.439210</td>\n",
       "      <td>4.487803</td>\n",
       "      <td>5.379720</td>\n",
       "      <td>4.935718</td>\n",
       "      <td>4.107790</td>\n",
       "      <td>...</td>\n",
       "      <td>7.619069</td>\n",
       "      <td>8.802183</td>\n",
       "      <td>8.938434</td>\n",
       "      <td>9.114165</td>\n",
       "      <td>0.442892</td>\n",
       "      <td>8.227354</td>\n",
       "      <td>0.692944</td>\n",
       "      <td>9.355126</td>\n",
       "      <td>4.053129</td>\n",
       "      <td>9.361687</td>\n",
       "    </tr>\n",
       "    <tr>\n",
       "      <th>100004_raw-Fat</th>\n",
       "      <td>7.383680</td>\n",
       "      <td>4.351026</td>\n",
       "      <td>4.208352</td>\n",
       "      <td>6.941895</td>\n",
       "      <td>4.375668</td>\n",
       "      <td>4.538863</td>\n",
       "      <td>4.477001</td>\n",
       "      <td>5.397546</td>\n",
       "      <td>5.008193</td>\n",
       "      <td>4.069299</td>\n",
       "      <td>...</td>\n",
       "      <td>7.592715</td>\n",
       "      <td>8.820724</td>\n",
       "      <td>8.919216</td>\n",
       "      <td>9.157578</td>\n",
       "      <td>0.454712</td>\n",
       "      <td>8.220077</td>\n",
       "      <td>0.721550</td>\n",
       "      <td>9.364523</td>\n",
       "      <td>4.043874</td>\n",
       "      <td>9.397904</td>\n",
       "    </tr>\n",
       "    <tr>\n",
       "      <th>100005_raw-Carbohydrate</th>\n",
       "      <td>7.412931</td>\n",
       "      <td>4.435416</td>\n",
       "      <td>4.227693</td>\n",
       "      <td>7.014967</td>\n",
       "      <td>4.406798</td>\n",
       "      <td>4.510470</td>\n",
       "      <td>4.479080</td>\n",
       "      <td>5.451272</td>\n",
       "      <td>4.932745</td>\n",
       "      <td>4.147858</td>\n",
       "      <td>...</td>\n",
       "      <td>7.606691</td>\n",
       "      <td>8.841007</td>\n",
       "      <td>8.881571</td>\n",
       "      <td>9.157351</td>\n",
       "      <td>0.409341</td>\n",
       "      <td>8.236560</td>\n",
       "      <td>0.724239</td>\n",
       "      <td>9.336825</td>\n",
       "      <td>4.040252</td>\n",
       "      <td>9.386523</td>\n",
       "    </tr>\n",
       "  </tbody>\n",
       "</table>\n",
       "<p>5 rows × 50 columns</p>\n",
       "</div>"
      ],
      "text/plain": [
       "                            UMAP1     UMAP2     UMAP3     UMAP4     UMAP5  \\\n",
       "100001_raw-Food_weight   7.464392  4.526705  4.225008  7.029216  4.382023   \n",
       "100002_raw-Energy        7.429606  4.536586  4.182258  7.069884  4.336564   \n",
       "100003_raw-Protein       7.481067  4.513837  4.172322  7.040905  4.395445   \n",
       "100004_raw-Fat           7.383680  4.351026  4.208352  6.941895  4.375668   \n",
       "100005_raw-Carbohydrate  7.412931  4.435416  4.227693  7.014967  4.406798   \n",
       "\n",
       "                            UMAP6     UMAP7     UMAP8     UMAP9    UMAP10  \\\n",
       "100001_raw-Food_weight   4.502639  4.489128  5.381521  4.940668  4.068273   \n",
       "100002_raw-Energy        4.421313  4.560764  5.324892  4.929991  3.999348   \n",
       "100003_raw-Protein       4.439210  4.487803  5.379720  4.935718  4.107790   \n",
       "100004_raw-Fat           4.538863  4.477001  5.397546  5.008193  4.069299   \n",
       "100005_raw-Carbohydrate  4.510470  4.479080  5.451272  4.932745  4.147858   \n",
       "\n",
       "                         ...    UMAP41    UMAP42    UMAP43    UMAP44  \\\n",
       "100001_raw-Food_weight   ...  7.605533  8.805881  8.939267  9.142330   \n",
       "100002_raw-Energy        ...  7.583344  8.843954  8.958254  9.086064   \n",
       "100003_raw-Protein       ...  7.619069  8.802183  8.938434  9.114165   \n",
       "100004_raw-Fat           ...  7.592715  8.820724  8.919216  9.157578   \n",
       "100005_raw-Carbohydrate  ...  7.606691  8.841007  8.881571  9.157351   \n",
       "\n",
       "                           UMAP45    UMAP46    UMAP47    UMAP48    UMAP49  \\\n",
       "100001_raw-Food_weight   0.445703  8.213864  0.703600  9.307579  4.072986   \n",
       "100002_raw-Energy        0.390866  8.235448  0.706651  9.296489  4.041227   \n",
       "100003_raw-Protein       0.442892  8.227354  0.692944  9.355126  4.053129   \n",
       "100004_raw-Fat           0.454712  8.220077  0.721550  9.364523  4.043874   \n",
       "100005_raw-Carbohydrate  0.409341  8.236560  0.724239  9.336825  4.040252   \n",
       "\n",
       "                           UMAP50  \n",
       "100001_raw-Food_weight   9.349484  \n",
       "100002_raw-Energy        9.304544  \n",
       "100003_raw-Protein       9.361687  \n",
       "100004_raw-Fat           9.397904  \n",
       "100005_raw-Carbohydrate  9.386523  \n",
       "\n",
       "[5 rows x 50 columns]"
      ]
     },
     "execution_count": 21,
     "metadata": {},
     "output_type": "execute_result"
    }
   ],
   "source": [
    "data.head()"
   ]
  },
  {
   "cell_type": "code",
   "execution_count": 22,
   "id": "c981f57a",
   "metadata": {
    "execution": {
     "iopub.execute_input": "2022-09-11T21:46:35.823338Z",
     "iopub.status.busy": "2022-09-11T21:46:35.823172Z",
     "iopub.status.idle": "2022-09-11T21:46:35.842067Z",
     "shell.execute_reply": "2022-09-11T21:46:35.841421Z"
    },
    "papermill": {
     "duration": 0.02928,
     "end_time": "2022-09-11T21:46:35.843506",
     "exception": false,
     "start_time": "2022-09-11T21:46:35.814226",
     "status": "completed"
    },
    "tags": []
   },
   "outputs": [],
   "source": [
    "assert not data.isna().any().any()"
   ]
  },
  {
   "cell_type": "markdown",
   "id": "294973b0",
   "metadata": {
    "papermill": {
     "duration": 0.008126,
     "end_time": "2022-09-11T21:46:35.860057",
     "exception": false,
     "start_time": "2022-09-11T21:46:35.851931",
     "status": "completed"
    },
    "tags": []
   },
   "source": [
    "# Clustering"
   ]
  },
  {
   "cell_type": "markdown",
   "id": "870e2e33",
   "metadata": {
    "papermill": {
     "duration": 0.007673,
     "end_time": "2022-09-11T21:46:35.875955",
     "exception": false,
     "start_time": "2022-09-11T21:46:35.868282",
     "status": "completed"
    },
    "tags": []
   },
   "source": [
    "## Generate ensemble"
   ]
  },
  {
   "cell_type": "code",
   "execution_count": 23,
   "id": "86b459ec",
   "metadata": {
    "execution": {
     "iopub.execute_input": "2022-09-11T21:46:35.901113Z",
     "iopub.status.busy": "2022-09-11T21:46:35.900904Z",
     "iopub.status.idle": "2022-09-11T21:46:35.922299Z",
     "shell.execute_reply": "2022-09-11T21:46:35.921850Z"
    },
    "papermill": {
     "duration": 0.040259,
     "end_time": "2022-09-11T21:46:35.923751",
     "exception": false,
     "start_time": "2022-09-11T21:46:35.883492",
     "status": "completed"
    },
    "tags": []
   },
   "outputs": [],
   "source": [
    "from clustering.ensembles.utils import generate_ensemble"
   ]
  },
  {
   "cell_type": "code",
   "execution_count": 24,
   "id": "b0aca632",
   "metadata": {
    "execution": {
     "iopub.execute_input": "2022-09-11T21:46:35.940900Z",
     "iopub.status.busy": "2022-09-11T21:46:35.940737Z",
     "iopub.status.idle": "2022-09-11T21:58:57.934125Z",
     "shell.execute_reply": "2022-09-11T21:58:57.933437Z"
    },
    "papermill": {
     "duration": 742.003307,
     "end_time": "2022-09-11T21:58:57.935346",
     "exception": false,
     "start_time": "2022-09-11T21:46:35.932039",
     "status": "completed"
    },
    "tags": []
   },
   "outputs": [
    {
     "name": "stderr",
     "output_type": "stream",
     "text": [
      "100%|██████████| 295/295 [12:21<00:00,  2.52s/it]\n"
     ]
    }
   ],
   "source": [
    "ensemble = generate_ensemble(\n",
    "    data,\n",
    "    CLUSTERERS,\n",
    "    attributes=CLUSTERING_ATTRIBUTES_TO_SAVE,\n",
    ")"
   ]
  },
  {
   "cell_type": "code",
   "execution_count": 25,
   "id": "132c1216",
   "metadata": {
    "execution": {
     "iopub.execute_input": "2022-09-11T21:58:57.970483Z",
     "iopub.status.busy": "2022-09-11T21:58:57.970278Z",
     "iopub.status.idle": "2022-09-11T21:58:57.989592Z",
     "shell.execute_reply": "2022-09-11T21:58:57.989073Z"
    },
    "papermill": {
     "duration": 0.038183,
     "end_time": "2022-09-11T21:58:57.990868",
     "exception": false,
     "start_time": "2022-09-11T21:58:57.952685",
     "status": "completed"
    },
    "tags": []
   },
   "outputs": [
    {
     "data": {
      "text/plain": [
       "(295, 3)"
      ]
     },
     "execution_count": 25,
     "metadata": {},
     "output_type": "execute_result"
    }
   ],
   "source": [
    "# the number should be close to 295 (the number of partitions generated by k-means/spectral clustering)\n",
    "ensemble.shape"
   ]
  },
  {
   "cell_type": "code",
   "execution_count": 26,
   "id": "7ef40555",
   "metadata": {
    "execution": {
     "iopub.execute_input": "2022-09-11T21:58:58.027334Z",
     "iopub.status.busy": "2022-09-11T21:58:58.027171Z",
     "iopub.status.idle": "2022-09-11T21:58:58.053069Z",
     "shell.execute_reply": "2022-09-11T21:58:58.052582Z"
    },
    "papermill": {
     "duration": 0.045447,
     "end_time": "2022-09-11T21:58:58.054312",
     "exception": false,
     "start_time": "2022-09-11T21:58:58.008865",
     "status": "completed"
    },
    "tags": []
   },
   "outputs": [
    {
     "data": {
      "text/html": [
       "<div>\n",
       "<style scoped>\n",
       "    .dataframe tbody tr th:only-of-type {\n",
       "        vertical-align: middle;\n",
       "    }\n",
       "\n",
       "    .dataframe tbody tr th {\n",
       "        vertical-align: top;\n",
       "    }\n",
       "\n",
       "    .dataframe thead th {\n",
       "        text-align: right;\n",
       "    }\n",
       "</style>\n",
       "<table border=\"1\" class=\"dataframe\">\n",
       "  <thead>\n",
       "    <tr style=\"text-align: right;\">\n",
       "      <th></th>\n",
       "      <th>clusterer_params</th>\n",
       "      <th>partition</th>\n",
       "      <th>n_clusters</th>\n",
       "    </tr>\n",
       "    <tr>\n",
       "      <th>clusterer_id</th>\n",
       "      <th></th>\n",
       "      <th></th>\n",
       "      <th></th>\n",
       "    </tr>\n",
       "  </thead>\n",
       "  <tbody>\n",
       "    <tr>\n",
       "      <th>SpectralClustering #0</th>\n",
       "      <td>{'affinity': 'rbf', 'assign_labels': 'kmeans',...</td>\n",
       "      <td>[1.0, 1.0, 1.0, 1.0, 1.0, 1.0, 1.0, 1.0, 1.0, ...</td>\n",
       "      <td>2</td>\n",
       "    </tr>\n",
       "    <tr>\n",
       "      <th>SpectralClustering #1</th>\n",
       "      <td>{'affinity': 'rbf', 'assign_labels': 'kmeans',...</td>\n",
       "      <td>[0.0, 0.0, 0.0, 0.0, 0.0, 0.0, 0.0, 0.0, 0.0, ...</td>\n",
       "      <td>2</td>\n",
       "    </tr>\n",
       "    <tr>\n",
       "      <th>SpectralClustering #2</th>\n",
       "      <td>{'affinity': 'rbf', 'assign_labels': 'kmeans',...</td>\n",
       "      <td>[1.0, 1.0, 1.0, 1.0, 1.0, 1.0, 1.0, 1.0, 1.0, ...</td>\n",
       "      <td>2</td>\n",
       "    </tr>\n",
       "    <tr>\n",
       "      <th>SpectralClustering #3</th>\n",
       "      <td>{'affinity': 'rbf', 'assign_labels': 'kmeans',...</td>\n",
       "      <td>[0.0, 0.0, 0.0, 0.0, 0.0, 0.0, 0.0, 0.0, 0.0, ...</td>\n",
       "      <td>2</td>\n",
       "    </tr>\n",
       "    <tr>\n",
       "      <th>SpectralClustering #4</th>\n",
       "      <td>{'affinity': 'rbf', 'assign_labels': 'kmeans',...</td>\n",
       "      <td>[0.0, 0.0, 0.0, 0.0, 0.0, 0.0, 0.0, 0.0, 0.0, ...</td>\n",
       "      <td>2</td>\n",
       "    </tr>\n",
       "  </tbody>\n",
       "</table>\n",
       "</div>"
      ],
      "text/plain": [
       "                                                        clusterer_params  \\\n",
       "clusterer_id                                                               \n",
       "SpectralClustering #0  {'affinity': 'rbf', 'assign_labels': 'kmeans',...   \n",
       "SpectralClustering #1  {'affinity': 'rbf', 'assign_labels': 'kmeans',...   \n",
       "SpectralClustering #2  {'affinity': 'rbf', 'assign_labels': 'kmeans',...   \n",
       "SpectralClustering #3  {'affinity': 'rbf', 'assign_labels': 'kmeans',...   \n",
       "SpectralClustering #4  {'affinity': 'rbf', 'assign_labels': 'kmeans',...   \n",
       "\n",
       "                                                               partition  \\\n",
       "clusterer_id                                                               \n",
       "SpectralClustering #0  [1.0, 1.0, 1.0, 1.0, 1.0, 1.0, 1.0, 1.0, 1.0, ...   \n",
       "SpectralClustering #1  [0.0, 0.0, 0.0, 0.0, 0.0, 0.0, 0.0, 0.0, 0.0, ...   \n",
       "SpectralClustering #2  [1.0, 1.0, 1.0, 1.0, 1.0, 1.0, 1.0, 1.0, 1.0, ...   \n",
       "SpectralClustering #3  [0.0, 0.0, 0.0, 0.0, 0.0, 0.0, 0.0, 0.0, 0.0, ...   \n",
       "SpectralClustering #4  [0.0, 0.0, 0.0, 0.0, 0.0, 0.0, 0.0, 0.0, 0.0, ...   \n",
       "\n",
       "                       n_clusters  \n",
       "clusterer_id                       \n",
       "SpectralClustering #0           2  \n",
       "SpectralClustering #1           2  \n",
       "SpectralClustering #2           2  \n",
       "SpectralClustering #3           2  \n",
       "SpectralClustering #4           2  "
      ]
     },
     "execution_count": 26,
     "metadata": {},
     "output_type": "execute_result"
    }
   ],
   "source": [
    "ensemble.head()"
   ]
  },
  {
   "cell_type": "code",
   "execution_count": 27,
   "id": "7b6c97d5",
   "metadata": {
    "execution": {
     "iopub.execute_input": "2022-09-11T21:58:58.090437Z",
     "iopub.status.busy": "2022-09-11T21:58:58.090210Z",
     "iopub.status.idle": "2022-09-11T21:58:58.110348Z",
     "shell.execute_reply": "2022-09-11T21:58:58.109765Z"
    },
    "papermill": {
     "duration": 0.039207,
     "end_time": "2022-09-11T21:58:58.111707",
     "exception": false,
     "start_time": "2022-09-11T21:58:58.072500",
     "status": "completed"
    },
    "tags": []
   },
   "outputs": [
    {
     "data": {
      "text/plain": [
       "60    5\n",
       "16    5\n",
       "28    5\n",
       "27    5\n",
       "26    5\n",
       "Name: n_clusters, dtype: int64"
      ]
     },
     "execution_count": 27,
     "metadata": {},
     "output_type": "execute_result"
    }
   ],
   "source": [
    "ensemble[\"n_clusters\"].value_counts().head()"
   ]
  },
  {
   "cell_type": "code",
   "execution_count": 28,
   "id": "0e4e84ea",
   "metadata": {
    "execution": {
     "iopub.execute_input": "2022-09-11T21:58:58.149536Z",
     "iopub.status.busy": "2022-09-11T21:58:58.148784Z",
     "iopub.status.idle": "2022-09-11T21:58:58.170256Z",
     "shell.execute_reply": "2022-09-11T21:58:58.169738Z"
    },
    "papermill": {
     "duration": 0.041129,
     "end_time": "2022-09-11T21:58:58.171580",
     "exception": false,
     "start_time": "2022-09-11T21:58:58.130451",
     "status": "completed"
    },
    "tags": []
   },
   "outputs": [
    {
     "data": {
      "text/plain": [
       "count    295.000000\n",
       "mean      31.000000\n",
       "std       17.058323\n",
       "min        2.000000\n",
       "25%       16.000000\n",
       "50%       31.000000\n",
       "75%       46.000000\n",
       "max       60.000000\n",
       "Name: n_clusters, dtype: float64"
      ]
     },
     "metadata": {},
     "output_type": "display_data"
    }
   ],
   "source": [
    "ensemble_stats = ensemble[\"n_clusters\"].describe()\n",
    "display(ensemble_stats)"
   ]
  },
  {
   "cell_type": "markdown",
   "id": "24e8dbbb",
   "metadata": {
    "papermill": {
     "duration": 0.018365,
     "end_time": "2022-09-11T21:58:58.208254",
     "exception": false,
     "start_time": "2022-09-11T21:58:58.189889",
     "status": "completed"
    },
    "tags": []
   },
   "source": [
    "## Testing"
   ]
  },
  {
   "cell_type": "code",
   "execution_count": 29,
   "id": "f528c0f6",
   "metadata": {
    "execution": {
     "iopub.execute_input": "2022-09-11T21:58:58.243672Z",
     "iopub.status.busy": "2022-09-11T21:58:58.243449Z",
     "iopub.status.idle": "2022-09-11T21:58:58.261165Z",
     "shell.execute_reply": "2022-09-11T21:58:58.260713Z"
    },
    "papermill": {
     "duration": 0.037038,
     "end_time": "2022-09-11T21:58:58.262542",
     "exception": false,
     "start_time": "2022-09-11T21:58:58.225504",
     "status": "completed"
    },
    "tags": []
   },
   "outputs": [],
   "source": [
    "assert ensemble_stats[\"min\"] > 1"
   ]
  },
  {
   "cell_type": "code",
   "execution_count": 30,
   "id": "29b09205",
   "metadata": {
    "execution": {
     "iopub.execute_input": "2022-09-11T21:58:58.299678Z",
     "iopub.status.busy": "2022-09-11T21:58:58.299468Z",
     "iopub.status.idle": "2022-09-11T21:58:58.317883Z",
     "shell.execute_reply": "2022-09-11T21:58:58.317267Z"
    },
    "papermill": {
     "duration": 0.038264,
     "end_time": "2022-09-11T21:58:58.319239",
     "exception": false,
     "start_time": "2022-09-11T21:58:58.280975",
     "status": "completed"
    },
    "tags": []
   },
   "outputs": [],
   "source": [
    "assert not ensemble[\"n_clusters\"].isna().any()"
   ]
  },
  {
   "cell_type": "code",
   "execution_count": 31,
   "id": "6f22fc63",
   "metadata": {
    "execution": {
     "iopub.execute_input": "2022-09-11T21:58:58.355799Z",
     "iopub.status.busy": "2022-09-11T21:58:58.355575Z",
     "iopub.status.idle": "2022-09-11T21:58:58.373454Z",
     "shell.execute_reply": "2022-09-11T21:58:58.372994Z"
    },
    "papermill": {
     "duration": 0.037537,
     "end_time": "2022-09-11T21:58:58.374815",
     "exception": false,
     "start_time": "2022-09-11T21:58:58.337278",
     "status": "completed"
    },
    "tags": []
   },
   "outputs": [],
   "source": [
    "assert ensemble.shape[0] == len(CLUSTERERS)"
   ]
  },
  {
   "cell_type": "code",
   "execution_count": 32,
   "id": "3cfa7a83",
   "metadata": {
    "execution": {
     "iopub.execute_input": "2022-09-11T21:58:58.411329Z",
     "iopub.status.busy": "2022-09-11T21:58:58.411134Z",
     "iopub.status.idle": "2022-09-11T21:58:58.446232Z",
     "shell.execute_reply": "2022-09-11T21:58:58.445653Z"
    },
    "papermill": {
     "duration": 0.054658,
     "end_time": "2022-09-11T21:58:58.447797",
     "exception": false,
     "start_time": "2022-09-11T21:58:58.393139",
     "status": "completed"
    },
    "tags": []
   },
   "outputs": [],
   "source": [
    "# all partitions have the right size\n",
    "assert np.all(\n",
    "    [part[\"partition\"].shape[0] == data.shape[0] for idx, part in ensemble.iterrows()]\n",
    ")"
   ]
  },
  {
   "cell_type": "code",
   "execution_count": 33,
   "id": "46dc8c14",
   "metadata": {
    "execution": {
     "iopub.execute_input": "2022-09-11T21:58:58.483822Z",
     "iopub.status.busy": "2022-09-11T21:58:58.483613Z",
     "iopub.status.idle": "2022-09-11T21:58:58.521938Z",
     "shell.execute_reply": "2022-09-11T21:58:58.521224Z"
    },
    "papermill": {
     "duration": 0.058116,
     "end_time": "2022-09-11T21:58:58.523600",
     "exception": false,
     "start_time": "2022-09-11T21:58:58.465484",
     "status": "completed"
    },
    "tags": []
   },
   "outputs": [],
   "source": [
    "# no partition has negative clusters (noisy points)\n",
    "assert not np.any([(part[\"partition\"] < 0).any() for idx, part in ensemble.iterrows()])"
   ]
  },
  {
   "cell_type": "markdown",
   "id": "0877c8d0",
   "metadata": {
    "papermill": {
     "duration": 0.01763,
     "end_time": "2022-09-11T21:58:58.559136",
     "exception": false,
     "start_time": "2022-09-11T21:58:58.541506",
     "status": "completed"
    },
    "tags": []
   },
   "source": [
    "## Add clustering quality measures"
   ]
  },
  {
   "cell_type": "code",
   "execution_count": 34,
   "id": "7d900f28",
   "metadata": {
    "execution": {
     "iopub.execute_input": "2022-09-11T21:58:58.595118Z",
     "iopub.status.busy": "2022-09-11T21:58:58.594908Z",
     "iopub.status.idle": "2022-09-11T21:58:58.614663Z",
     "shell.execute_reply": "2022-09-11T21:58:58.614121Z"
    },
    "papermill": {
     "duration": 0.039228,
     "end_time": "2022-09-11T21:58:58.616072",
     "exception": false,
     "start_time": "2022-09-11T21:58:58.576844",
     "status": "completed"
    },
    "tags": []
   },
   "outputs": [],
   "source": [
    "from sklearn.metrics import calinski_harabasz_score"
   ]
  },
  {
   "cell_type": "code",
   "execution_count": 35,
   "id": "1e5ddc43",
   "metadata": {
    "execution": {
     "iopub.execute_input": "2022-09-11T21:58:58.653821Z",
     "iopub.status.busy": "2022-09-11T21:58:58.653598Z",
     "iopub.status.idle": "2022-09-11T21:58:59.551009Z",
     "shell.execute_reply": "2022-09-11T21:58:59.550411Z"
    },
    "papermill": {
     "duration": 0.917534,
     "end_time": "2022-09-11T21:58:59.552553",
     "exception": false,
     "start_time": "2022-09-11T21:58:58.635019",
     "status": "completed"
    },
    "tags": []
   },
   "outputs": [],
   "source": [
    "ensemble = ensemble.assign(\n",
    "    ch_score=ensemble[\"partition\"].apply(lambda x: calinski_harabasz_score(data, x))\n",
    ")"
   ]
  },
  {
   "cell_type": "code",
   "execution_count": 36,
   "id": "930cbc1a",
   "metadata": {
    "execution": {
     "iopub.execute_input": "2022-09-11T21:58:59.589189Z",
     "iopub.status.busy": "2022-09-11T21:58:59.588900Z",
     "iopub.status.idle": "2022-09-11T21:58:59.609635Z",
     "shell.execute_reply": "2022-09-11T21:58:59.609165Z"
    },
    "papermill": {
     "duration": 0.040705,
     "end_time": "2022-09-11T21:58:59.610918",
     "exception": false,
     "start_time": "2022-09-11T21:58:59.570213",
     "status": "completed"
    },
    "tags": []
   },
   "outputs": [
    {
     "data": {
      "text/plain": [
       "(295, 4)"
      ]
     },
     "execution_count": 36,
     "metadata": {},
     "output_type": "execute_result"
    }
   ],
   "source": [
    "ensemble.shape"
   ]
  },
  {
   "cell_type": "code",
   "execution_count": 37,
   "id": "26edeaec",
   "metadata": {
    "execution": {
     "iopub.execute_input": "2022-09-11T21:58:59.649502Z",
     "iopub.status.busy": "2022-09-11T21:58:59.649073Z",
     "iopub.status.idle": "2022-09-11T21:58:59.675874Z",
     "shell.execute_reply": "2022-09-11T21:58:59.675339Z"
    },
    "papermill": {
     "duration": 0.04711,
     "end_time": "2022-09-11T21:58:59.677128",
     "exception": false,
     "start_time": "2022-09-11T21:58:59.630018",
     "status": "completed"
    },
    "tags": []
   },
   "outputs": [
    {
     "data": {
      "text/html": [
       "<div>\n",
       "<style scoped>\n",
       "    .dataframe tbody tr th:only-of-type {\n",
       "        vertical-align: middle;\n",
       "    }\n",
       "\n",
       "    .dataframe tbody tr th {\n",
       "        vertical-align: top;\n",
       "    }\n",
       "\n",
       "    .dataframe thead th {\n",
       "        text-align: right;\n",
       "    }\n",
       "</style>\n",
       "<table border=\"1\" class=\"dataframe\">\n",
       "  <thead>\n",
       "    <tr style=\"text-align: right;\">\n",
       "      <th></th>\n",
       "      <th>clusterer_params</th>\n",
       "      <th>partition</th>\n",
       "      <th>n_clusters</th>\n",
       "      <th>ch_score</th>\n",
       "    </tr>\n",
       "    <tr>\n",
       "      <th>clusterer_id</th>\n",
       "      <th></th>\n",
       "      <th></th>\n",
       "      <th></th>\n",
       "      <th></th>\n",
       "    </tr>\n",
       "  </thead>\n",
       "  <tbody>\n",
       "    <tr>\n",
       "      <th>SpectralClustering #0</th>\n",
       "      <td>{'affinity': 'rbf', 'assign_labels': 'kmeans',...</td>\n",
       "      <td>[1.0, 1.0, 1.0, 1.0, 1.0, 1.0, 1.0, 1.0, 1.0, ...</td>\n",
       "      <td>2</td>\n",
       "      <td>2020.603782</td>\n",
       "    </tr>\n",
       "    <tr>\n",
       "      <th>SpectralClustering #1</th>\n",
       "      <td>{'affinity': 'rbf', 'assign_labels': 'kmeans',...</td>\n",
       "      <td>[0.0, 0.0, 0.0, 0.0, 0.0, 0.0, 0.0, 0.0, 0.0, ...</td>\n",
       "      <td>2</td>\n",
       "      <td>2020.603782</td>\n",
       "    </tr>\n",
       "    <tr>\n",
       "      <th>SpectralClustering #2</th>\n",
       "      <td>{'affinity': 'rbf', 'assign_labels': 'kmeans',...</td>\n",
       "      <td>[1.0, 1.0, 1.0, 1.0, 1.0, 1.0, 1.0, 1.0, 1.0, ...</td>\n",
       "      <td>2</td>\n",
       "      <td>2020.603782</td>\n",
       "    </tr>\n",
       "    <tr>\n",
       "      <th>SpectralClustering #3</th>\n",
       "      <td>{'affinity': 'rbf', 'assign_labels': 'kmeans',...</td>\n",
       "      <td>[0.0, 0.0, 0.0, 0.0, 0.0, 0.0, 0.0, 0.0, 0.0, ...</td>\n",
       "      <td>2</td>\n",
       "      <td>2020.603782</td>\n",
       "    </tr>\n",
       "    <tr>\n",
       "      <th>SpectralClustering #4</th>\n",
       "      <td>{'affinity': 'rbf', 'assign_labels': 'kmeans',...</td>\n",
       "      <td>[0.0, 0.0, 0.0, 0.0, 0.0, 0.0, 0.0, 0.0, 0.0, ...</td>\n",
       "      <td>2</td>\n",
       "      <td>2020.489300</td>\n",
       "    </tr>\n",
       "  </tbody>\n",
       "</table>\n",
       "</div>"
      ],
      "text/plain": [
       "                                                        clusterer_params  \\\n",
       "clusterer_id                                                               \n",
       "SpectralClustering #0  {'affinity': 'rbf', 'assign_labels': 'kmeans',...   \n",
       "SpectralClustering #1  {'affinity': 'rbf', 'assign_labels': 'kmeans',...   \n",
       "SpectralClustering #2  {'affinity': 'rbf', 'assign_labels': 'kmeans',...   \n",
       "SpectralClustering #3  {'affinity': 'rbf', 'assign_labels': 'kmeans',...   \n",
       "SpectralClustering #4  {'affinity': 'rbf', 'assign_labels': 'kmeans',...   \n",
       "\n",
       "                                                               partition  \\\n",
       "clusterer_id                                                               \n",
       "SpectralClustering #0  [1.0, 1.0, 1.0, 1.0, 1.0, 1.0, 1.0, 1.0, 1.0, ...   \n",
       "SpectralClustering #1  [0.0, 0.0, 0.0, 0.0, 0.0, 0.0, 0.0, 0.0, 0.0, ...   \n",
       "SpectralClustering #2  [1.0, 1.0, 1.0, 1.0, 1.0, 1.0, 1.0, 1.0, 1.0, ...   \n",
       "SpectralClustering #3  [0.0, 0.0, 0.0, 0.0, 0.0, 0.0, 0.0, 0.0, 0.0, ...   \n",
       "SpectralClustering #4  [0.0, 0.0, 0.0, 0.0, 0.0, 0.0, 0.0, 0.0, 0.0, ...   \n",
       "\n",
       "                       n_clusters     ch_score  \n",
       "clusterer_id                                    \n",
       "SpectralClustering #0           2  2020.603782  \n",
       "SpectralClustering #1           2  2020.603782  \n",
       "SpectralClustering #2           2  2020.603782  \n",
       "SpectralClustering #3           2  2020.603782  \n",
       "SpectralClustering #4           2  2020.489300  "
      ]
     },
     "execution_count": 37,
     "metadata": {},
     "output_type": "execute_result"
    }
   ],
   "source": [
    "ensemble.head()"
   ]
  },
  {
   "cell_type": "markdown",
   "id": "b3a9e890",
   "metadata": {
    "papermill": {
     "duration": 0.018196,
     "end_time": "2022-09-11T21:58:59.714646",
     "exception": false,
     "start_time": "2022-09-11T21:58:59.696450",
     "status": "completed"
    },
    "tags": []
   },
   "source": [
    "## Save"
   ]
  },
  {
   "cell_type": "code",
   "execution_count": 38,
   "id": "97f89f7f",
   "metadata": {
    "execution": {
     "iopub.execute_input": "2022-09-11T21:58:59.751538Z",
     "iopub.status.busy": "2022-09-11T21:58:59.751016Z",
     "iopub.status.idle": "2022-09-11T21:58:59.769887Z",
     "shell.execute_reply": "2022-09-11T21:58:59.769448Z"
    },
    "papermill": {
     "duration": 0.038762,
     "end_time": "2022-09-11T21:58:59.771150",
     "exception": false,
     "start_time": "2022-09-11T21:58:59.732388",
     "status": "completed"
    },
    "tags": []
   },
   "outputs": [
    {
     "data": {
      "text/plain": [
       "PosixPath('/opt/data/results/clustering/null_sims/runs/umap-z_score_std-projection-smultixcan-efo_partial-mashr-zscores/SpectralClustering-AFFINITY_rbf-GAMMA_001-KMEANS_N_INIT_10-K_MAX_60-K_MIN_2-N_REPS_PER_K_5.pkl')"
      ]
     },
     "metadata": {},
     "output_type": "display_data"
    }
   ],
   "source": [
    "output_filename = Path(\n",
    "    RESULTS_DIR,\n",
    "    generate_result_set_name(\n",
    "        CLUSTERING_OPTIONS,\n",
    "        prefix=f\"{clustering_method_name}-\",\n",
    "        suffix=\".pkl\",\n",
    "    ),\n",
    ").resolve()\n",
    "display(output_filename)"
   ]
  },
  {
   "cell_type": "code",
   "execution_count": 39,
   "id": "479809e6",
   "metadata": {
    "execution": {
     "iopub.execute_input": "2022-09-11T21:58:59.809201Z",
     "iopub.status.busy": "2022-09-11T21:58:59.808993Z",
     "iopub.status.idle": "2022-09-11T21:58:59.836101Z",
     "shell.execute_reply": "2022-09-11T21:58:59.835446Z"
    },
    "papermill": {
     "duration": 0.047681,
     "end_time": "2022-09-11T21:58:59.837590",
     "exception": false,
     "start_time": "2022-09-11T21:58:59.789909",
     "status": "completed"
    },
    "tags": []
   },
   "outputs": [],
   "source": [
    "ensemble.to_pickle(output_filename)"
   ]
  },
  {
   "cell_type": "markdown",
   "id": "2c92bdc1",
   "metadata": {
    "papermill": {
     "duration": 0.017714,
     "end_time": "2022-09-11T21:58:59.874884",
     "exception": false,
     "start_time": "2022-09-11T21:58:59.857170",
     "status": "completed"
    },
    "tags": []
   },
   "source": [
    "# Cluster quality"
   ]
  },
  {
   "cell_type": "code",
   "execution_count": 40,
   "id": "2c67f40b",
   "metadata": {
    "execution": {
     "iopub.execute_input": "2022-09-11T21:58:59.911421Z",
     "iopub.status.busy": "2022-09-11T21:58:59.911190Z",
     "iopub.status.idle": "2022-09-11T21:58:59.934730Z",
     "shell.execute_reply": "2022-09-11T21:58:59.934245Z"
    },
    "papermill": {
     "duration": 0.043306,
     "end_time": "2022-09-11T21:58:59.936049",
     "exception": false,
     "start_time": "2022-09-11T21:58:59.892743",
     "status": "completed"
    },
    "tags": []
   },
   "outputs": [
    {
     "data": {
      "text/html": [
       "<div>\n",
       "<style scoped>\n",
       "    .dataframe tbody tr th:only-of-type {\n",
       "        vertical-align: middle;\n",
       "    }\n",
       "\n",
       "    .dataframe tbody tr th {\n",
       "        vertical-align: top;\n",
       "    }\n",
       "\n",
       "    .dataframe thead th {\n",
       "        text-align: right;\n",
       "    }\n",
       "</style>\n",
       "<table border=\"1\" class=\"dataframe\">\n",
       "  <thead>\n",
       "    <tr style=\"text-align: right;\">\n",
       "      <th></th>\n",
       "      <th>ch_score</th>\n",
       "    </tr>\n",
       "    <tr>\n",
       "      <th>n_clusters</th>\n",
       "      <th></th>\n",
       "    </tr>\n",
       "  </thead>\n",
       "  <tbody>\n",
       "    <tr>\n",
       "      <th>2</th>\n",
       "      <td>2020.580885</td>\n",
       "    </tr>\n",
       "    <tr>\n",
       "      <th>3</th>\n",
       "      <td>2596.711475</td>\n",
       "    </tr>\n",
       "    <tr>\n",
       "      <th>4</th>\n",
       "      <td>3005.419784</td>\n",
       "    </tr>\n",
       "    <tr>\n",
       "      <th>5</th>\n",
       "      <td>3073.083553</td>\n",
       "    </tr>\n",
       "    <tr>\n",
       "      <th>6</th>\n",
       "      <td>3012.573260</td>\n",
       "    </tr>\n",
       "    <tr>\n",
       "      <th>7</th>\n",
       "      <td>2902.489944</td>\n",
       "    </tr>\n",
       "    <tr>\n",
       "      <th>8</th>\n",
       "      <td>2875.778339</td>\n",
       "    </tr>\n",
       "    <tr>\n",
       "      <th>9</th>\n",
       "      <td>3076.165493</td>\n",
       "    </tr>\n",
       "    <tr>\n",
       "      <th>10</th>\n",
       "      <td>3239.017261</td>\n",
       "    </tr>\n",
       "    <tr>\n",
       "      <th>11</th>\n",
       "      <td>3197.638054</td>\n",
       "    </tr>\n",
       "    <tr>\n",
       "      <th>12</th>\n",
       "      <td>3379.693890</td>\n",
       "    </tr>\n",
       "    <tr>\n",
       "      <th>13</th>\n",
       "      <td>3354.649635</td>\n",
       "    </tr>\n",
       "    <tr>\n",
       "      <th>14</th>\n",
       "      <td>3541.262339</td>\n",
       "    </tr>\n",
       "    <tr>\n",
       "      <th>15</th>\n",
       "      <td>3674.804870</td>\n",
       "    </tr>\n",
       "    <tr>\n",
       "      <th>16</th>\n",
       "      <td>3566.804592</td>\n",
       "    </tr>\n",
       "    <tr>\n",
       "      <th>17</th>\n",
       "      <td>3416.406758</td>\n",
       "    </tr>\n",
       "    <tr>\n",
       "      <th>18</th>\n",
       "      <td>3440.842941</td>\n",
       "    </tr>\n",
       "    <tr>\n",
       "      <th>19</th>\n",
       "      <td>3902.557946</td>\n",
       "    </tr>\n",
       "    <tr>\n",
       "      <th>20</th>\n",
       "      <td>3752.829504</td>\n",
       "    </tr>\n",
       "    <tr>\n",
       "      <th>21</th>\n",
       "      <td>3792.704717</td>\n",
       "    </tr>\n",
       "    <tr>\n",
       "      <th>22</th>\n",
       "      <td>3930.620184</td>\n",
       "    </tr>\n",
       "    <tr>\n",
       "      <th>23</th>\n",
       "      <td>3912.596324</td>\n",
       "    </tr>\n",
       "    <tr>\n",
       "      <th>24</th>\n",
       "      <td>3804.659410</td>\n",
       "    </tr>\n",
       "    <tr>\n",
       "      <th>25</th>\n",
       "      <td>3819.544681</td>\n",
       "    </tr>\n",
       "    <tr>\n",
       "      <th>26</th>\n",
       "      <td>3772.194931</td>\n",
       "    </tr>\n",
       "    <tr>\n",
       "      <th>27</th>\n",
       "      <td>3885.004156</td>\n",
       "    </tr>\n",
       "    <tr>\n",
       "      <th>28</th>\n",
       "      <td>3981.330830</td>\n",
       "    </tr>\n",
       "    <tr>\n",
       "      <th>29</th>\n",
       "      <td>4033.555705</td>\n",
       "    </tr>\n",
       "    <tr>\n",
       "      <th>30</th>\n",
       "      <td>3941.058076</td>\n",
       "    </tr>\n",
       "    <tr>\n",
       "      <th>31</th>\n",
       "      <td>3770.350686</td>\n",
       "    </tr>\n",
       "    <tr>\n",
       "      <th>32</th>\n",
       "      <td>3638.667598</td>\n",
       "    </tr>\n",
       "    <tr>\n",
       "      <th>33</th>\n",
       "      <td>3368.095632</td>\n",
       "    </tr>\n",
       "    <tr>\n",
       "      <th>34</th>\n",
       "      <td>3321.044708</td>\n",
       "    </tr>\n",
       "    <tr>\n",
       "      <th>35</th>\n",
       "      <td>3307.399454</td>\n",
       "    </tr>\n",
       "    <tr>\n",
       "      <th>36</th>\n",
       "      <td>3164.306471</td>\n",
       "    </tr>\n",
       "    <tr>\n",
       "      <th>37</th>\n",
       "      <td>3062.665463</td>\n",
       "    </tr>\n",
       "    <tr>\n",
       "      <th>38</th>\n",
       "      <td>2934.564234</td>\n",
       "    </tr>\n",
       "    <tr>\n",
       "      <th>39</th>\n",
       "      <td>3007.738146</td>\n",
       "    </tr>\n",
       "    <tr>\n",
       "      <th>40</th>\n",
       "      <td>2883.531582</td>\n",
       "    </tr>\n",
       "    <tr>\n",
       "      <th>41</th>\n",
       "      <td>2824.328308</td>\n",
       "    </tr>\n",
       "    <tr>\n",
       "      <th>42</th>\n",
       "      <td>2764.484668</td>\n",
       "    </tr>\n",
       "    <tr>\n",
       "      <th>43</th>\n",
       "      <td>2636.206447</td>\n",
       "    </tr>\n",
       "    <tr>\n",
       "      <th>44</th>\n",
       "      <td>2570.889063</td>\n",
       "    </tr>\n",
       "    <tr>\n",
       "      <th>45</th>\n",
       "      <td>2580.511769</td>\n",
       "    </tr>\n",
       "    <tr>\n",
       "      <th>46</th>\n",
       "      <td>2536.159477</td>\n",
       "    </tr>\n",
       "    <tr>\n",
       "      <th>47</th>\n",
       "      <td>2527.522969</td>\n",
       "    </tr>\n",
       "    <tr>\n",
       "      <th>48</th>\n",
       "      <td>2517.287148</td>\n",
       "    </tr>\n",
       "    <tr>\n",
       "      <th>49</th>\n",
       "      <td>2441.202376</td>\n",
       "    </tr>\n",
       "    <tr>\n",
       "      <th>50</th>\n",
       "      <td>2451.322168</td>\n",
       "    </tr>\n",
       "    <tr>\n",
       "      <th>51</th>\n",
       "      <td>2352.005461</td>\n",
       "    </tr>\n",
       "    <tr>\n",
       "      <th>52</th>\n",
       "      <td>2355.902134</td>\n",
       "    </tr>\n",
       "    <tr>\n",
       "      <th>53</th>\n",
       "      <td>2397.029794</td>\n",
       "    </tr>\n",
       "    <tr>\n",
       "      <th>54</th>\n",
       "      <td>2349.324346</td>\n",
       "    </tr>\n",
       "    <tr>\n",
       "      <th>55</th>\n",
       "      <td>2313.922935</td>\n",
       "    </tr>\n",
       "    <tr>\n",
       "      <th>56</th>\n",
       "      <td>2339.653517</td>\n",
       "    </tr>\n",
       "    <tr>\n",
       "      <th>57</th>\n",
       "      <td>2312.563761</td>\n",
       "    </tr>\n",
       "    <tr>\n",
       "      <th>58</th>\n",
       "      <td>2361.584737</td>\n",
       "    </tr>\n",
       "    <tr>\n",
       "      <th>59</th>\n",
       "      <td>2265.553550</td>\n",
       "    </tr>\n",
       "    <tr>\n",
       "      <th>60</th>\n",
       "      <td>2217.965378</td>\n",
       "    </tr>\n",
       "  </tbody>\n",
       "</table>\n",
       "</div>"
      ],
      "text/plain": [
       "               ch_score\n",
       "n_clusters             \n",
       "2           2020.580885\n",
       "3           2596.711475\n",
       "4           3005.419784\n",
       "5           3073.083553\n",
       "6           3012.573260\n",
       "7           2902.489944\n",
       "8           2875.778339\n",
       "9           3076.165493\n",
       "10          3239.017261\n",
       "11          3197.638054\n",
       "12          3379.693890\n",
       "13          3354.649635\n",
       "14          3541.262339\n",
       "15          3674.804870\n",
       "16          3566.804592\n",
       "17          3416.406758\n",
       "18          3440.842941\n",
       "19          3902.557946\n",
       "20          3752.829504\n",
       "21          3792.704717\n",
       "22          3930.620184\n",
       "23          3912.596324\n",
       "24          3804.659410\n",
       "25          3819.544681\n",
       "26          3772.194931\n",
       "27          3885.004156\n",
       "28          3981.330830\n",
       "29          4033.555705\n",
       "30          3941.058076\n",
       "31          3770.350686\n",
       "32          3638.667598\n",
       "33          3368.095632\n",
       "34          3321.044708\n",
       "35          3307.399454\n",
       "36          3164.306471\n",
       "37          3062.665463\n",
       "38          2934.564234\n",
       "39          3007.738146\n",
       "40          2883.531582\n",
       "41          2824.328308\n",
       "42          2764.484668\n",
       "43          2636.206447\n",
       "44          2570.889063\n",
       "45          2580.511769\n",
       "46          2536.159477\n",
       "47          2527.522969\n",
       "48          2517.287148\n",
       "49          2441.202376\n",
       "50          2451.322168\n",
       "51          2352.005461\n",
       "52          2355.902134\n",
       "53          2397.029794\n",
       "54          2349.324346\n",
       "55          2313.922935\n",
       "56          2339.653517\n",
       "57          2312.563761\n",
       "58          2361.584737\n",
       "59          2265.553550\n",
       "60          2217.965378"
      ]
     },
     "metadata": {},
     "output_type": "display_data"
    }
   ],
   "source": [
    "with pd.option_context(\"display.max_rows\", None, \"display.max_columns\", None):\n",
    "    _df = ensemble.groupby([\"n_clusters\"]).mean()\n",
    "    display(_df)"
   ]
  },
  {
   "cell_type": "code",
   "execution_count": 41,
   "id": "983bb7f6",
   "metadata": {
    "execution": {
     "iopub.execute_input": "2022-09-11T21:58:59.975319Z",
     "iopub.status.busy": "2022-09-11T21:58:59.975112Z",
     "iopub.status.idle": "2022-09-11T21:59:02.977469Z",
     "shell.execute_reply": "2022-09-11T21:59:02.976977Z"
    },
    "papermill": {
     "duration": 3.02343,
     "end_time": "2022-09-11T21:59:02.978786",
     "exception": false,
     "start_time": "2022-09-11T21:58:59.955356",
     "status": "completed"
    },
    "tags": []
   },
   "outputs": [
    {
     "data": {
      "image/png": "[encoded data removed]",
      "text/plain": [
       "<Figure size 1008x432 with 1 Axes>"
      ]
     },
     "metadata": {},
     "output_type": "display_data"
    }
   ],
   "source": [
    "with sns.plotting_context(\"talk\", font_scale=0.75), sns.axes_style(\n",
    "    \"whitegrid\", {\"grid.linestyle\": \"--\"}\n",
    "):\n",
    "    fig = plt.figure(figsize=(14, 6))\n",
    "    ax = sns.pointplot(data=ensemble, x=\"n_clusters\", y=\"ch_score\")\n",
    "    ax.set_ylabel(\"Calinski-Harabasz index\")\n",
    "    ax.set_xlabel(\"Number of clusters ($k$)\")\n",
    "    ax.set_xticklabels(ax.get_xticklabels(), rotation=45)\n",
    "    plt.grid(True)\n",
    "    plt.tight_layout()"
   ]
  },
  {
   "cell_type": "markdown",
   "id": "604ad2fd",
   "metadata": {
    "papermill": {
     "duration": 0.019213,
     "end_time": "2022-09-11T21:59:03.017799",
     "exception": false,
     "start_time": "2022-09-11T21:59:02.998586",
     "status": "completed"
    },
    "tags": []
   },
   "source": [
    "# Stability"
   ]
  },
  {
   "cell_type": "markdown",
   "id": "e8a0f00c",
   "metadata": {
    "papermill": {
     "duration": 0.01932,
     "end_time": "2022-09-11T21:59:03.056687",
     "exception": false,
     "start_time": "2022-09-11T21:59:03.037367",
     "status": "completed"
    },
    "tags": []
   },
   "source": [
    "## Group ensemble by n_clusters"
   ]
  },
  {
   "cell_type": "code",
   "execution_count": 42,
   "id": "d8b43f90",
   "metadata": {
    "execution": {
     "iopub.execute_input": "2022-09-11T21:59:03.096200Z",
     "iopub.status.busy": "2022-09-11T21:59:03.095978Z",
     "iopub.status.idle": "2022-09-11T21:59:03.128748Z",
     "shell.execute_reply": "2022-09-11T21:59:03.128314Z"
    },
    "papermill": {
     "duration": 0.054077,
     "end_time": "2022-09-11T21:59:03.130119",
     "exception": false,
     "start_time": "2022-09-11T21:59:03.076042",
     "status": "completed"
    },
    "tags": []
   },
   "outputs": [],
   "source": [
    "parts = ensemble.groupby(\"n_clusters\").apply(\n",
    "    lambda x: np.concatenate(x[\"partition\"].apply(lambda x: x.reshape(1, -1)), axis=0)\n",
    ")"
   ]
  },
  {
   "cell_type": "code",
   "execution_count": 43,
   "id": "1205485e",
   "metadata": {
    "execution": {
     "iopub.execute_input": "2022-09-11T21:59:03.170640Z",
     "iopub.status.busy": "2022-09-11T21:59:03.170436Z",
     "iopub.status.idle": "2022-09-11T21:59:03.202138Z",
     "shell.execute_reply": "2022-09-11T21:59:03.201557Z"
    },
    "papermill": {
     "duration": 0.052961,
     "end_time": "2022-09-11T21:59:03.203401",
     "exception": false,
     "start_time": "2022-09-11T21:59:03.150440",
     "status": "completed"
    },
    "tags": []
   },
   "outputs": [
    {
     "data": {
      "text/plain": [
       "n_clusters\n",
       "2    [[1.0, 1.0, 1.0, 1.0, 1.0, 1.0, 1.0, 1.0, 1.0,...\n",
       "3    [[2.0, 2.0, 2.0, 2.0, 2.0, 2.0, 2.0, 2.0, 2.0,...\n",
       "4    [[0.0, 0.0, 0.0, 0.0, 0.0, 0.0, 0.0, 0.0, 0.0,...\n",
       "5    [[4.0, 4.0, 4.0, 4.0, 4.0, 4.0, 4.0, 4.0, 4.0,...\n",
       "6    [[3.0, 3.0, 3.0, 3.0, 3.0, 3.0, 3.0, 3.0, 3.0,...\n",
       "dtype: object"
      ]
     },
     "execution_count": 43,
     "metadata": {},
     "output_type": "execute_result"
    }
   ],
   "source": [
    "parts.head()"
   ]
  },
  {
   "cell_type": "code",
   "execution_count": 44,
   "id": "489fa18b",
   "metadata": {
    "execution": {
     "iopub.execute_input": "2022-09-11T21:59:03.243116Z",
     "iopub.status.busy": "2022-09-11T21:59:03.242907Z",
     "iopub.status.idle": "2022-09-11T21:59:03.262022Z",
     "shell.execute_reply": "2022-09-11T21:59:03.261621Z"
    },
    "papermill": {
     "duration": 0.040573,
     "end_time": "2022-09-11T21:59:03.263410",
     "exception": false,
     "start_time": "2022-09-11T21:59:03.222837",
     "status": "completed"
    },
    "tags": []
   },
   "outputs": [],
   "source": [
    "assert np.all(\n",
    "    [\n",
    "        parts.loc[k].shape == (CLUSTERING_OPTIONS[\"N_REPS_PER_K\"], data.shape[0])\n",
    "        for k in parts.index\n",
    "    ]\n",
    ")"
   ]
  },
  {
   "cell_type": "markdown",
   "id": "beefdfc5",
   "metadata": {
    "papermill": {
     "duration": 0.019005,
     "end_time": "2022-09-11T21:59:03.302801",
     "exception": false,
     "start_time": "2022-09-11T21:59:03.283796",
     "status": "completed"
    },
    "tags": []
   },
   "source": [
    "## Compute stability"
   ]
  },
  {
   "cell_type": "code",
   "execution_count": 45,
   "id": "5e98ebb9",
   "metadata": {
    "execution": {
     "iopub.execute_input": "2022-09-11T21:59:03.342736Z",
     "iopub.status.busy": "2022-09-11T21:59:03.342555Z",
     "iopub.status.idle": "2022-09-11T21:59:03.361287Z",
     "shell.execute_reply": "2022-09-11T21:59:03.360582Z"
    },
    "papermill": {
     "duration": 0.040473,
     "end_time": "2022-09-11T21:59:03.362663",
     "exception": false,
     "start_time": "2022-09-11T21:59:03.322190",
     "status": "completed"
    },
    "tags": []
   },
   "outputs": [],
   "source": [
    "from sklearn.metrics import adjusted_rand_score as ari\n",
    "from scipy.spatial.distance import pdist"
   ]
  },
  {
   "cell_type": "code",
   "execution_count": 46,
   "id": "1ba17dc6",
   "metadata": {
    "execution": {
     "iopub.execute_input": "2022-09-11T21:59:03.402799Z",
     "iopub.status.busy": "2022-09-11T21:59:03.402591Z",
     "iopub.status.idle": "2022-09-11T21:59:03.956388Z",
     "shell.execute_reply": "2022-09-11T21:59:03.955727Z"
    },
    "papermill": {
     "duration": 0.575684,
     "end_time": "2022-09-11T21:59:03.958151",
     "exception": false,
     "start_time": "2022-09-11T21:59:03.382467",
     "status": "completed"
    },
    "tags": []
   },
   "outputs": [],
   "source": [
    "parts_ari = pd.Series(\n",
    "    {k: pdist(parts.loc[k], metric=ari) for k in parts.index}, name=\"k\"\n",
    ")"
   ]
  },
  {
   "cell_type": "code",
   "execution_count": 47,
   "id": "e875b68d",
   "metadata": {
    "execution": {
     "iopub.execute_input": "2022-09-11T21:59:04.026970Z",
     "iopub.status.busy": "2022-09-11T21:59:04.026788Z",
     "iopub.status.idle": "2022-09-11T21:59:04.048942Z",
     "shell.execute_reply": "2022-09-11T21:59:04.048430Z"
    },
    "papermill": {
     "duration": 0.048384,
     "end_time": "2022-09-11T21:59:04.050370",
     "exception": false,
     "start_time": "2022-09-11T21:59:04.001986",
     "status": "completed"
    },
    "tags": []
   },
   "outputs": [
    {
     "data": {
      "text/plain": [
       "4     1.000000\n",
       "3     0.999671\n",
       "2     0.999573\n",
       "7     0.999127\n",
       "5     0.998732\n",
       "8     0.997828\n",
       "6     0.997559\n",
       "11    0.997391\n",
       "12    0.996654\n",
       "10    0.994210\n",
       "19    0.990837\n",
       "16    0.989379\n",
       "9     0.988938\n",
       "13    0.985257\n",
       "15    0.976473\n",
       "Name: k, dtype: float64"
      ]
     },
     "metadata": {},
     "output_type": "display_data"
    }
   ],
   "source": [
    "parts_ari_stability = parts_ari.apply(lambda x: x.mean())\n",
    "display(parts_ari_stability.sort_values(ascending=False).head(15))"
   ]
  },
  {
   "cell_type": "code",
   "execution_count": 48,
   "id": "988860d1",
   "metadata": {
    "execution": {
     "iopub.execute_input": "2022-09-11T21:59:04.092862Z",
     "iopub.status.busy": "2022-09-11T21:59:04.092640Z",
     "iopub.status.idle": "2022-09-11T21:59:04.112035Z",
     "shell.execute_reply": "2022-09-11T21:59:04.111365Z"
    },
    "papermill": {
     "duration": 0.041437,
     "end_time": "2022-09-11T21:59:04.113432",
     "exception": false,
     "start_time": "2022-09-11T21:59:04.071995",
     "status": "completed"
    },
    "tags": []
   },
   "outputs": [],
   "source": [
    "parts_ari_df = pd.DataFrame.from_records(parts_ari.tolist()).set_index(\n",
    "    parts_ari.index.copy()\n",
    ")"
   ]
  },
  {
   "cell_type": "code",
   "execution_count": 49,
   "id": "dbb0d2fe",
   "metadata": {
    "execution": {
     "iopub.execute_input": "2022-09-11T21:59:04.154113Z",
     "iopub.status.busy": "2022-09-11T21:59:04.153905Z",
     "iopub.status.idle": "2022-09-11T21:59:04.173106Z",
     "shell.execute_reply": "2022-09-11T21:59:04.172671Z"
    },
    "papermill": {
     "duration": 0.040621,
     "end_time": "2022-09-11T21:59:04.174403",
     "exception": false,
     "start_time": "2022-09-11T21:59:04.133782",
     "status": "completed"
    },
    "tags": []
   },
   "outputs": [
    {
     "data": {
      "text/plain": [
       "(59, 10)"
      ]
     },
     "execution_count": 49,
     "metadata": {},
     "output_type": "execute_result"
    }
   ],
   "source": [
    "parts_ari_df.shape"
   ]
  },
  {
   "cell_type": "code",
   "execution_count": 50,
   "id": "87bb17b8",
   "metadata": {
    "execution": {
     "iopub.execute_input": "2022-09-11T21:59:04.215082Z",
     "iopub.status.busy": "2022-09-11T21:59:04.214863Z",
     "iopub.status.idle": "2022-09-11T21:59:04.233703Z",
     "shell.execute_reply": "2022-09-11T21:59:04.233130Z"
    },
    "papermill": {
     "duration": 0.040249,
     "end_time": "2022-09-11T21:59:04.235081",
     "exception": false,
     "start_time": "2022-09-11T21:59:04.194832",
     "status": "completed"
    },
    "tags": []
   },
   "outputs": [],
   "source": [
    "assert (\n",
    "    int(\n",
    "        (CLUSTERING_OPTIONS[\"N_REPS_PER_K\"] * (CLUSTERING_OPTIONS[\"N_REPS_PER_K\"] - 1))\n",
    "        / 2\n",
    "    )\n",
    "    == parts_ari_df.shape[1]\n",
    ")"
   ]
  },
  {
   "cell_type": "code",
   "execution_count": 51,
   "id": "481c1b92",
   "metadata": {
    "execution": {
     "iopub.execute_input": "2022-09-11T21:59:04.276095Z",
     "iopub.status.busy": "2022-09-11T21:59:04.275887Z",
     "iopub.status.idle": "2022-09-11T21:59:04.300279Z",
     "shell.execute_reply": "2022-09-11T21:59:04.299726Z"
    },
    "papermill": {
     "duration": 0.046251,
     "end_time": "2022-09-11T21:59:04.301495",
     "exception": false,
     "start_time": "2022-09-11T21:59:04.255244",
     "status": "completed"
    },
    "tags": []
   },
   "outputs": [
    {
     "data": {
      "text/html": [
       "<div>\n",
       "<style scoped>\n",
       "    .dataframe tbody tr th:only-of-type {\n",
       "        vertical-align: middle;\n",
       "    }\n",
       "\n",
       "    .dataframe tbody tr th {\n",
       "        vertical-align: top;\n",
       "    }\n",
       "\n",
       "    .dataframe thead th {\n",
       "        text-align: right;\n",
       "    }\n",
       "</style>\n",
       "<table border=\"1\" class=\"dataframe\">\n",
       "  <thead>\n",
       "    <tr style=\"text-align: right;\">\n",
       "      <th></th>\n",
       "      <th>0</th>\n",
       "      <th>1</th>\n",
       "      <th>2</th>\n",
       "      <th>3</th>\n",
       "      <th>4</th>\n",
       "      <th>5</th>\n",
       "      <th>6</th>\n",
       "      <th>7</th>\n",
       "      <th>8</th>\n",
       "      <th>9</th>\n",
       "    </tr>\n",
       "  </thead>\n",
       "  <tbody>\n",
       "    <tr>\n",
       "      <th>2</th>\n",
       "      <td>1.00000</td>\n",
       "      <td>1.000000</td>\n",
       "      <td>1.000000</td>\n",
       "      <td>0.998933</td>\n",
       "      <td>1.000000</td>\n",
       "      <td>1.000000</td>\n",
       "      <td>0.998933</td>\n",
       "      <td>1.000000</td>\n",
       "      <td>0.998933</td>\n",
       "      <td>0.998933</td>\n",
       "    </tr>\n",
       "    <tr>\n",
       "      <th>3</th>\n",
       "      <td>1.00000</td>\n",
       "      <td>1.000000</td>\n",
       "      <td>0.999177</td>\n",
       "      <td>1.000000</td>\n",
       "      <td>1.000000</td>\n",
       "      <td>0.999177</td>\n",
       "      <td>1.000000</td>\n",
       "      <td>0.999177</td>\n",
       "      <td>1.000000</td>\n",
       "      <td>0.999177</td>\n",
       "    </tr>\n",
       "    <tr>\n",
       "      <th>4</th>\n",
       "      <td>1.00000</td>\n",
       "      <td>1.000000</td>\n",
       "      <td>1.000000</td>\n",
       "      <td>1.000000</td>\n",
       "      <td>1.000000</td>\n",
       "      <td>1.000000</td>\n",
       "      <td>1.000000</td>\n",
       "      <td>1.000000</td>\n",
       "      <td>1.000000</td>\n",
       "      <td>1.000000</td>\n",
       "    </tr>\n",
       "    <tr>\n",
       "      <th>5</th>\n",
       "      <td>0.99753</td>\n",
       "      <td>0.997530</td>\n",
       "      <td>0.996833</td>\n",
       "      <td>0.997530</td>\n",
       "      <td>1.000000</td>\n",
       "      <td>0.999300</td>\n",
       "      <td>1.000000</td>\n",
       "      <td>0.999300</td>\n",
       "      <td>1.000000</td>\n",
       "      <td>0.999300</td>\n",
       "    </tr>\n",
       "    <tr>\n",
       "      <th>6</th>\n",
       "      <td>0.99728</td>\n",
       "      <td>0.998652</td>\n",
       "      <td>0.998652</td>\n",
       "      <td>0.996570</td>\n",
       "      <td>0.995932</td>\n",
       "      <td>0.995932</td>\n",
       "      <td>0.999290</td>\n",
       "      <td>1.000000</td>\n",
       "      <td>0.996641</td>\n",
       "      <td>0.996641</td>\n",
       "    </tr>\n",
       "  </tbody>\n",
       "</table>\n",
       "</div>"
      ],
      "text/plain": [
       "         0         1         2         3         4         5         6  \\\n",
       "2  1.00000  1.000000  1.000000  0.998933  1.000000  1.000000  0.998933   \n",
       "3  1.00000  1.000000  0.999177  1.000000  1.000000  0.999177  1.000000   \n",
       "4  1.00000  1.000000  1.000000  1.000000  1.000000  1.000000  1.000000   \n",
       "5  0.99753  0.997530  0.996833  0.997530  1.000000  0.999300  1.000000   \n",
       "6  0.99728  0.998652  0.998652  0.996570  0.995932  0.995932  0.999290   \n",
       "\n",
       "          7         8         9  \n",
       "2  1.000000  0.998933  0.998933  \n",
       "3  0.999177  1.000000  0.999177  \n",
       "4  1.000000  1.000000  1.000000  \n",
       "5  0.999300  1.000000  0.999300  \n",
       "6  1.000000  0.996641  0.996641  "
      ]
     },
     "execution_count": 51,
     "metadata": {},
     "output_type": "execute_result"
    }
   ],
   "source": [
    "parts_ari_df.head()"
   ]
  },
  {
   "cell_type": "markdown",
   "id": "3a2d25e2",
   "metadata": {
    "papermill": {
     "duration": 0.020048,
     "end_time": "2022-09-11T21:59:04.342308",
     "exception": false,
     "start_time": "2022-09-11T21:59:04.322260",
     "status": "completed"
    },
    "tags": []
   },
   "source": [
    "## Save"
   ]
  },
  {
   "cell_type": "code",
   "execution_count": 52,
   "id": "18a2edc8",
   "metadata": {
    "execution": {
     "iopub.execute_input": "2022-09-11T21:59:04.383124Z",
     "iopub.status.busy": "2022-09-11T21:59:04.382399Z",
     "iopub.status.idle": "2022-09-11T21:59:04.401386Z",
     "shell.execute_reply": "2022-09-11T21:59:04.400806Z"
    },
    "papermill": {
     "duration": 0.040587,
     "end_time": "2022-09-11T21:59:04.402651",
     "exception": false,
     "start_time": "2022-09-11T21:59:04.362064",
     "status": "completed"
    },
    "tags": []
   },
   "outputs": [
    {
     "data": {
      "text/plain": [
       "PosixPath('/opt/data/results/clustering/null_sims/runs/umap-z_score_std-projection-smultixcan-efo_partial-mashr-zscores/SpectralClustering-stability-AFFINITY_rbf-GAMMA_001-KMEANS_N_INIT_10-K_MAX_60-K_MIN_2-N_REPS_PER_K_5.pkl')"
      ]
     },
     "metadata": {},
     "output_type": "display_data"
    }
   ],
   "source": [
    "output_filename = Path(\n",
    "    RESULTS_DIR,\n",
    "    generate_result_set_name(\n",
    "        CLUSTERING_OPTIONS,\n",
    "        prefix=f\"{clustering_method_name}-stability-\",\n",
    "        suffix=\".pkl\",\n",
    "    ),\n",
    ").resolve()\n",
    "display(output_filename)"
   ]
  },
  {
   "cell_type": "code",
   "execution_count": 53,
   "id": "5a077ef9",
   "metadata": {
    "execution": {
     "iopub.execute_input": "2022-09-11T21:59:04.444508Z",
     "iopub.status.busy": "2022-09-11T21:59:04.444298Z",
     "iopub.status.idle": "2022-09-11T21:59:04.464639Z",
     "shell.execute_reply": "2022-09-11T21:59:04.462852Z"
    },
    "papermill": {
     "duration": 0.046354,
     "end_time": "2022-09-11T21:59:04.469750",
     "exception": false,
     "start_time": "2022-09-11T21:59:04.423396",
     "status": "completed"
    },
    "tags": []
   },
   "outputs": [],
   "source": [
    "parts_ari_df.to_pickle(output_filename)"
   ]
  },
  {
   "cell_type": "markdown",
   "id": "facc867d",
   "metadata": {
    "papermill": {
     "duration": 0.020132,
     "end_time": "2022-09-11T21:59:04.541412",
     "exception": false,
     "start_time": "2022-09-11T21:59:04.521280",
     "status": "completed"
    },
    "tags": []
   },
   "source": [
    "## Stability plot"
   ]
  },
  {
   "cell_type": "code",
   "execution_count": 54,
   "id": "064086f4",
   "metadata": {
    "execution": {
     "iopub.execute_input": "2022-09-11T21:59:04.582753Z",
     "iopub.status.busy": "2022-09-11T21:59:04.582530Z",
     "iopub.status.idle": "2022-09-11T21:59:04.602462Z",
     "shell.execute_reply": "2022-09-11T21:59:04.601847Z"
    },
    "papermill": {
     "duration": 0.042097,
     "end_time": "2022-09-11T21:59:04.603884",
     "exception": false,
     "start_time": "2022-09-11T21:59:04.561787",
     "status": "completed"
    },
    "tags": []
   },
   "outputs": [],
   "source": [
    "parts_ari_df_plot = (\n",
    "    parts_ari_df.stack()\n",
    "    .reset_index()\n",
    "    .rename(columns={\"level_0\": \"k\", \"level_1\": \"idx\", 0: \"ari\"})\n",
    ")"
   ]
  },
  {
   "cell_type": "code",
   "execution_count": 55,
   "id": "f728d81d",
   "metadata": {
    "execution": {
     "iopub.execute_input": "2022-09-11T21:59:04.648134Z",
     "iopub.status.busy": "2022-09-11T21:59:04.647678Z",
     "iopub.status.idle": "2022-09-11T21:59:04.668177Z",
     "shell.execute_reply": "2022-09-11T21:59:04.667499Z"
    },
    "papermill": {
     "duration": 0.044602,
     "end_time": "2022-09-11T21:59:04.669468",
     "exception": false,
     "start_time": "2022-09-11T21:59:04.624866",
     "status": "completed"
    },
    "tags": []
   },
   "outputs": [
    {
     "data": {
      "text/plain": [
       "k        int64\n",
       "idx      int64\n",
       "ari    float64\n",
       "dtype: object"
      ]
     },
     "execution_count": 55,
     "metadata": {},
     "output_type": "execute_result"
    }
   ],
   "source": [
    "parts_ari_df_plot.dtypes"
   ]
  },
  {
   "cell_type": "code",
   "execution_count": 56,
   "id": "52b67ce9",
   "metadata": {
    "execution": {
     "iopub.execute_input": "2022-09-11T21:59:04.712303Z",
     "iopub.status.busy": "2022-09-11T21:59:04.711779Z",
     "iopub.status.idle": "2022-09-11T21:59:04.732330Z",
     "shell.execute_reply": "2022-09-11T21:59:04.731885Z"
    },
    "papermill": {
     "duration": 0.042493,
     "end_time": "2022-09-11T21:59:04.733655",
     "exception": false,
     "start_time": "2022-09-11T21:59:04.691162",
     "status": "completed"
    },
    "tags": []
   },
   "outputs": [
    {
     "data": {
      "text/html": [
       "<div>\n",
       "<style scoped>\n",
       "    .dataframe tbody tr th:only-of-type {\n",
       "        vertical-align: middle;\n",
       "    }\n",
       "\n",
       "    .dataframe tbody tr th {\n",
       "        vertical-align: top;\n",
       "    }\n",
       "\n",
       "    .dataframe thead th {\n",
       "        text-align: right;\n",
       "    }\n",
       "</style>\n",
       "<table border=\"1\" class=\"dataframe\">\n",
       "  <thead>\n",
       "    <tr style=\"text-align: right;\">\n",
       "      <th></th>\n",
       "      <th>k</th>\n",
       "      <th>idx</th>\n",
       "      <th>ari</th>\n",
       "    </tr>\n",
       "  </thead>\n",
       "  <tbody>\n",
       "    <tr>\n",
       "      <th>0</th>\n",
       "      <td>2</td>\n",
       "      <td>0</td>\n",
       "      <td>1.000000</td>\n",
       "    </tr>\n",
       "    <tr>\n",
       "      <th>1</th>\n",
       "      <td>2</td>\n",
       "      <td>1</td>\n",
       "      <td>1.000000</td>\n",
       "    </tr>\n",
       "    <tr>\n",
       "      <th>2</th>\n",
       "      <td>2</td>\n",
       "      <td>2</td>\n",
       "      <td>1.000000</td>\n",
       "    </tr>\n",
       "    <tr>\n",
       "      <th>3</th>\n",
       "      <td>2</td>\n",
       "      <td>3</td>\n",
       "      <td>0.998933</td>\n",
       "    </tr>\n",
       "    <tr>\n",
       "      <th>4</th>\n",
       "      <td>2</td>\n",
       "      <td>4</td>\n",
       "      <td>1.000000</td>\n",
       "    </tr>\n",
       "  </tbody>\n",
       "</table>\n",
       "</div>"
      ],
      "text/plain": [
       "   k  idx       ari\n",
       "0  2    0  1.000000\n",
       "1  2    1  1.000000\n",
       "2  2    2  1.000000\n",
       "3  2    3  0.998933\n",
       "4  2    4  1.000000"
      ]
     },
     "execution_count": 56,
     "metadata": {},
     "output_type": "execute_result"
    }
   ],
   "source": [
    "parts_ari_df_plot.head()"
   ]
  },
  {
   "cell_type": "code",
   "execution_count": 57,
   "id": "bf572c4e",
   "metadata": {
    "execution": {
     "iopub.execute_input": "2022-09-11T21:59:04.776775Z",
     "iopub.status.busy": "2022-09-11T21:59:04.776500Z",
     "iopub.status.idle": "2022-09-11T21:59:07.624425Z",
     "shell.execute_reply": "2022-09-11T21:59:07.624006Z"
    },
    "papermill": {
     "duration": 2.871343,
     "end_time": "2022-09-11T21:59:07.626340",
     "exception": false,
     "start_time": "2022-09-11T21:59:04.754997",
     "status": "completed"
    },
    "tags": []
   },
   "outputs": [
    {
     "data": {
      "image/png": "[encoded data removed]",
      "text/plain": [
       "<Figure size 1008x432 with 1 Axes>"
      ]
     },
     "metadata": {},
     "output_type": "display_data"
    }
   ],
   "source": [
    "# with sns.axes_style('whitegrid', {'grid.linestyle': '--'}):\n",
    "with sns.plotting_context(\"talk\", font_scale=0.75), sns.axes_style(\n",
    "    \"whitegrid\", {\"grid.linestyle\": \"--\"}\n",
    "):\n",
    "    fig = plt.figure(figsize=(14, 6))\n",
    "    ax = sns.pointplot(data=parts_ari_df_plot, x=\"k\", y=\"ari\")\n",
    "    ax.set_ylabel(\"Averange ARI\")\n",
    "    ax.set_xlabel(\"Number of clusters ($k$)\")\n",
    "    ax.set_xticklabels(ax.get_xticklabels(), rotation=45)\n",
    "    #     ax.set_ylim(0.0, 1.0)\n",
    "    #     ax.set_xlim(CLUSTERING_OPTIONS['K_MIN'], CLUSTERING_OPTIONS['K_MAX'])\n",
    "    plt.grid(True)\n",
    "    plt.tight_layout()"
   ]
  },
  {
   "cell_type": "code",
   "execution_count": null,
   "id": "f0833b76",
   "metadata": {
    "papermill": {
     "duration": 0.023106,
     "end_time": "2022-09-11T21:59:07.672877",
     "exception": false,
     "start_time": "2022-09-11T21:59:07.649771",
     "status": "completed"
    },
    "tags": []
   },
   "outputs": [],
   "source": []
  }
 ],
 "metadata": {
  "jupytext": {
   "cell_metadata_filter": "all,-execution,-papermill,-trusted",
   "formats": "ipynb,py//py:percent"
  },
  "kernelspec": {
   "display_name": "Python 3 (ipykernel)",
   "language": "python",
   "name": "python3"
  },
  "language_info": {
   "codemirror_mode": {
    "name": "ipython",
    "version": 3
   },
   "file_extension": ".py",
   "mimetype": "text/x-python",
   "name": "python",
   "nbconvert_exporter": "python",
   "pygments_lexer": "ipython3",
   "version": "3.8.13"
  },
  "papermill": {
   "default_parameters": {},
   "duration": 755.070628,
   "end_time": "2022-09-11T21:59:08.014657",
   "environment_variables": {},
   "exception": null,
   "input_path": "nbs/13.1_cluster_analysis_null/11_02-spectral-umap.ipynb",
   "output_path": "nbs/13.1_cluster_analysis_null/11_02-spectral-umap.run.ipynb",
   "parameters": {},
   "start_time": "2022-09-11T21:46:32.944029",
   "version": "2.2.2"
  },
  "toc-autonumbering": true,
  "toc-showcode": false,
  "toc-showmarkdowntxt": false,
  "toc-showtags": false
 },
 "nbformat": 4,
 "nbformat_minor": 5
}
