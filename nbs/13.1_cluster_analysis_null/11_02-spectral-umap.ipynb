{
 "cells": [
  {
   "cell_type": "markdown",
   "metadata": {
    "papermill": {
     "duration": 0.058726,
     "end_time": "2021-03-10T01:02:09.155360",
     "exception": false,
     "start_time": "2021-03-10T01:02:09.096634",
     "status": "completed"
    },
    "tags": []
   },
   "source": [
    "# Description"
   ]
  },
  {
   "cell_type": "markdown",
   "metadata": {
    "papermill": {
     "duration": 0.022736,
     "end_time": "2021-03-10T01:02:09.200888",
     "exception": false,
     "start_time": "2021-03-10T01:02:09.178152",
     "status": "completed"
    },
    "tags": []
   },
   "source": [
    "Runs spectral clustering on the umap version of the data."
   ]
  },
  {
   "cell_type": "markdown",
   "metadata": {
    "papermill": {
     "duration": 0.02284,
     "end_time": "2021-03-10T01:02:09.246550",
     "exception": false,
     "start_time": "2021-03-10T01:02:09.223710",
     "status": "completed"
    },
    "tags": []
   },
   "source": [
    "# Environment variables"
   ]
  },
  {
   "cell_type": "code",
   "execution_count": null,
   "metadata": {
    "papermill": {
     "duration": 0.039244,
     "end_time": "2021-03-10T01:02:09.309517",
     "exception": false,
     "start_time": "2021-03-10T01:02:09.270273",
     "status": "completed"
    },
    "tags": []
   },
   "outputs": [],
   "source": [
    "from IPython.display import display\n",
    "\n",
    "import conf\n",
    "\n",
    "N_JOBS = conf.GENERAL[\"N_JOBS\"]\n",
    "display(N_JOBS)"
   ]
  },
  {
   "cell_type": "code",
   "execution_count": null,
   "metadata": {
    "papermill": {
     "duration": 0.030275,
     "end_time": "2021-03-10T01:02:09.364072",
     "exception": false,
     "start_time": "2021-03-10T01:02:09.333797",
     "status": "completed"
    },
    "tags": []
   },
   "outputs": [],
   "source": [
    "%env MKL_NUM_THREADS=$N_JOBS\n",
    "%env OPEN_BLAS_NUM_THREADS=$N_JOBS\n",
    "%env NUMEXPR_NUM_THREADS=$N_JOBS\n",
    "%env OMP_NUM_THREADS=$N_JOBS"
   ]
  },
  {
   "cell_type": "markdown",
   "metadata": {
    "papermill": {
     "duration": 0.023395,
     "end_time": "2021-03-10T01:02:09.412024",
     "exception": false,
     "start_time": "2021-03-10T01:02:09.388629",
     "status": "completed"
    },
    "tags": []
   },
   "source": [
    "# Modules loading"
   ]
  },
  {
   "cell_type": "code",
   "execution_count": null,
   "metadata": {
    "papermill": {
     "duration": 0.034486,
     "end_time": "2021-03-10T01:02:09.469930",
     "exception": false,
     "start_time": "2021-03-10T01:02:09.435444",
     "status": "completed"
    },
    "tags": []
   },
   "outputs": [],
   "source": [
    "%load_ext autoreload\n",
    "%autoreload 2"
   ]
  },
  {
   "cell_type": "code",
   "execution_count": null,
   "metadata": {
    "papermill": {
     "duration": 0.60829,
     "end_time": "2021-03-10T01:02:10.102223",
     "exception": false,
     "start_time": "2021-03-10T01:02:09.493933",
     "status": "completed"
    },
    "tags": []
   },
   "outputs": [],
   "source": [
    "from pathlib import Path\n",
    "\n",
    "import numpy as np\n",
    "import pandas as pd\n",
    "import matplotlib.pyplot as plt\n",
    "import seaborn as sns\n",
    "\n",
    "from utils import generate_result_set_name"
   ]
  },
  {
   "cell_type": "markdown",
   "metadata": {
    "papermill": {
     "duration": 0.024682,
     "end_time": "2021-03-10T01:02:10.155546",
     "exception": false,
     "start_time": "2021-03-10T01:02:10.130864",
     "status": "completed"
    },
    "tags": []
   },
   "source": [
    "# Settings"
   ]
  },
  {
   "cell_type": "code",
   "execution_count": null,
   "metadata": {
    "papermill": {
     "duration": 0.03534,
     "end_time": "2021-03-10T01:02:10.214072",
     "exception": false,
     "start_time": "2021-03-10T01:02:10.178732",
     "status": "completed"
    },
    "tags": []
   },
   "outputs": [],
   "source": [
    "np.random.seed(0)"
   ]
  },
  {
   "cell_type": "code",
   "execution_count": null,
   "metadata": {
    "papermill": {
     "duration": 0.035243,
     "end_time": "2021-03-10T01:02:10.273413",
     "exception": false,
     "start_time": "2021-03-10T01:02:10.238170",
     "status": "completed"
    },
    "tags": []
   },
   "outputs": [],
   "source": [
    "INITIAL_RANDOM_STATE = 50000"
   ]
  },
  {
   "cell_type": "markdown",
   "metadata": {
    "papermill": {
     "duration": 0.023682,
     "end_time": "2021-03-10T01:02:10.320823",
     "exception": false,
     "start_time": "2021-03-10T01:02:10.297141",
     "status": "completed"
    },
    "tags": []
   },
   "source": [
    "## Input data"
   ]
  },
  {
   "cell_type": "code",
   "execution_count": null,
   "metadata": {
    "papermill": {
     "duration": 0.035762,
     "end_time": "2021-03-10T01:02:10.380245",
     "exception": false,
     "start_time": "2021-03-10T01:02:10.344483",
     "status": "completed"
    },
    "tags": []
   },
   "outputs": [],
   "source": [
    "INPUT_SUBSET = \"umap\""
   ]
  },
  {
   "cell_type": "code",
   "execution_count": null,
   "metadata": {
    "papermill": {
     "duration": 0.034653,
     "end_time": "2021-03-10T01:02:10.438720",
     "exception": false,
     "start_time": "2021-03-10T01:02:10.404067",
     "status": "completed"
    },
    "tags": []
   },
   "outputs": [],
   "source": [
    "INPUT_STEM = \"z_score_std-projection-smultixcan-efo_partial-mashr-zscores\""
   ]
  },
  {
   "cell_type": "code",
   "execution_count": null,
   "metadata": {
    "papermill": {
     "duration": 0.03524,
     "end_time": "2021-03-10T01:02:10.498853",
     "exception": false,
     "start_time": "2021-03-10T01:02:10.463613",
     "status": "completed"
    },
    "tags": []
   },
   "outputs": [],
   "source": [
    "DR_OPTIONS = {\n",
    "    \"n_components\": 50,\n",
    "    \"metric\": \"euclidean\",\n",
    "    \"n_neighbors\": 15,\n",
    "    \"random_state\": 0,\n",
    "}"
   ]
  },
  {
   "cell_type": "code",
   "execution_count": null,
   "metadata": {
    "papermill": {
     "duration": 0.037282,
     "end_time": "2021-03-10T01:02:10.559974",
     "exception": false,
     "start_time": "2021-03-10T01:02:10.522692",
     "status": "completed"
    },
    "tags": []
   },
   "outputs": [],
   "source": [
    "input_filepath = Path(\n",
    "    conf.RESULTS[\"CLUSTERING_NULL_DIR\"],\n",
    "    \"data_transformations\",\n",
    "    INPUT_SUBSET,\n",
    "    generate_result_set_name(\n",
    "        DR_OPTIONS, prefix=f\"{INPUT_SUBSET}-{INPUT_STEM}-\", suffix=\".pkl\"\n",
    "    ),\n",
    ").resolve()\n",
    "display(input_filepath)\n",
    "\n",
    "assert input_filepath.exists(), \"Input file does not exist\"\n",
    "\n",
    "input_filepath_stem = input_filepath.stem\n",
    "display(input_filepath_stem)"
   ]
  },
  {
   "cell_type": "markdown",
   "metadata": {
    "papermill": {
     "duration": 0.023918,
     "end_time": "2021-03-10T01:02:10.609662",
     "exception": false,
     "start_time": "2021-03-10T01:02:10.585744",
     "status": "completed"
    },
    "tags": []
   },
   "source": [
    "## Clustering"
   ]
  },
  {
   "cell_type": "code",
   "execution_count": null,
   "metadata": {
    "papermill": {
     "duration": 0.150758,
     "end_time": "2021-03-10T01:02:10.784606",
     "exception": false,
     "start_time": "2021-03-10T01:02:10.633848",
     "status": "completed"
    },
    "tags": []
   },
   "outputs": [],
   "source": [
    "from sklearn.cluster import SpectralClustering"
   ]
  },
  {
   "cell_type": "code",
   "execution_count": null,
   "metadata": {
    "papermill": {
     "duration": 0.037065,
     "end_time": "2021-03-10T01:02:10.846251",
     "exception": false,
     "start_time": "2021-03-10T01:02:10.809186",
     "status": "completed"
    },
    "tags": []
   },
   "outputs": [],
   "source": [
    "CLUSTERING_ATTRIBUTES_TO_SAVE = [\"n_clusters\"]"
   ]
  },
  {
   "cell_type": "code",
   "execution_count": null,
   "metadata": {
    "papermill": {
     "duration": 0.037387,
     "end_time": "2021-03-10T01:02:10.908052",
     "exception": false,
     "start_time": "2021-03-10T01:02:10.870665",
     "status": "completed"
    },
    "tags": []
   },
   "outputs": [],
   "source": [
    "CLUSTERING_OPTIONS = {}\n",
    "\n",
    "CLUSTERING_OPTIONS[\"K_MIN\"] = 2\n",
    "CLUSTERING_OPTIONS[\"K_MAX\"] = 60  # sqrt(3749)\n",
    "CLUSTERING_OPTIONS[\"N_REPS_PER_K\"] = 5\n",
    "CLUSTERING_OPTIONS[\"KMEANS_N_INIT\"] = 10\n",
    "CLUSTERING_OPTIONS[\"GAMMA\"] = 1.0e-02\n",
    "CLUSTERING_OPTIONS[\"AFFINITY\"] = \"rbf\"\n",
    "\n",
    "display(CLUSTERING_OPTIONS)"
   ]
  },
  {
   "cell_type": "code",
   "execution_count": null,
   "metadata": {
    "papermill": {
     "duration": 0.038932,
     "end_time": "2021-03-10T01:02:10.971110",
     "exception": false,
     "start_time": "2021-03-10T01:02:10.932178",
     "status": "completed"
    },
    "tags": []
   },
   "outputs": [],
   "source": [
    "CLUSTERERS = {}\n",
    "\n",
    "idx = 0\n",
    "random_state = INITIAL_RANDOM_STATE\n",
    "\n",
    "for k in range(CLUSTERING_OPTIONS[\"K_MIN\"], CLUSTERING_OPTIONS[\"K_MAX\"] + 1):\n",
    "    for i in range(CLUSTERING_OPTIONS[\"N_REPS_PER_K\"]):\n",
    "        clus = SpectralClustering(\n",
    "            eigen_solver=\"arpack\",\n",
    "            n_clusters=k,\n",
    "            n_init=CLUSTERING_OPTIONS[\"KMEANS_N_INIT\"],\n",
    "            affinity=CLUSTERING_OPTIONS[\"AFFINITY\"],\n",
    "            gamma=CLUSTERING_OPTIONS[\"GAMMA\"],\n",
    "            random_state=random_state,\n",
    "        )\n",
    "\n",
    "        method_name = type(clus).__name__\n",
    "        CLUSTERERS[f\"{method_name} #{idx}\"] = clus\n",
    "\n",
    "        random_state = random_state + 1\n",
    "        idx = idx + 1"
   ]
  },
  {
   "cell_type": "code",
   "execution_count": null,
   "metadata": {
    "papermill": {
     "duration": 0.037483,
     "end_time": "2021-03-10T01:02:11.034495",
     "exception": false,
     "start_time": "2021-03-10T01:02:10.997012",
     "status": "completed"
    },
    "tags": []
   },
   "outputs": [],
   "source": [
    "display(len(CLUSTERERS))"
   ]
  },
  {
   "cell_type": "code",
   "execution_count": null,
   "metadata": {
    "papermill": {
     "duration": 0.039839,
     "end_time": "2021-03-10T01:02:11.099344",
     "exception": false,
     "start_time": "2021-03-10T01:02:11.059505",
     "status": "completed"
    },
    "tags": []
   },
   "outputs": [],
   "source": [
    "_iter = iter(CLUSTERERS.items())\n",
    "display(next(_iter))\n",
    "display(next(_iter))"
   ]
  },
  {
   "cell_type": "code",
   "execution_count": null,
   "metadata": {
    "papermill": {
     "duration": 0.038494,
     "end_time": "2021-03-10T01:02:11.163762",
     "exception": false,
     "start_time": "2021-03-10T01:02:11.125268",
     "status": "completed"
    },
    "tags": []
   },
   "outputs": [],
   "source": [
    "clustering_method_name = method_name\n",
    "display(clustering_method_name)"
   ]
  },
  {
   "cell_type": "markdown",
   "metadata": {
    "papermill": {
     "duration": 0.024904,
     "end_time": "2021-03-10T01:02:11.214538",
     "exception": false,
     "start_time": "2021-03-10T01:02:11.189634",
     "status": "completed"
    },
    "tags": []
   },
   "source": [
    "## Output directory"
   ]
  },
  {
   "cell_type": "code",
   "execution_count": null,
   "metadata": {
    "papermill": {
     "duration": 0.03935,
     "end_time": "2021-03-10T01:02:11.278461",
     "exception": false,
     "start_time": "2021-03-10T01:02:11.239111",
     "status": "completed"
    },
    "tags": []
   },
   "outputs": [],
   "source": [
    "# output dir for this notebook\n",
    "RESULTS_DIR = Path(\n",
    "    conf.RESULTS[\"CLUSTERING_NULL_DIR\"],\n",
    "    \"runs\",\n",
    "    f\"{INPUT_SUBSET}-{INPUT_STEM}\",\n",
    ").resolve()\n",
    "RESULTS_DIR.mkdir(parents=True, exist_ok=True)\n",
    "\n",
    "display(RESULTS_DIR)"
   ]
  },
  {
   "cell_type": "markdown",
   "metadata": {
    "papermill": {
     "duration": 0.026269,
     "end_time": "2021-03-10T01:02:11.331126",
     "exception": false,
     "start_time": "2021-03-10T01:02:11.304857",
     "status": "completed"
    },
    "tags": []
   },
   "source": [
    "# Load input file"
   ]
  },
  {
   "cell_type": "code",
   "execution_count": null,
   "metadata": {
    "papermill": {
     "duration": 0.039506,
     "end_time": "2021-03-10T01:02:11.395489",
     "exception": false,
     "start_time": "2021-03-10T01:02:11.355983",
     "status": "completed"
    },
    "tags": []
   },
   "outputs": [],
   "source": [
    "data = pd.read_pickle(input_filepath)"
   ]
  },
  {
   "cell_type": "code",
   "execution_count": null,
   "metadata": {
    "papermill": {
     "duration": 0.038628,
     "end_time": "2021-03-10T01:02:11.460624",
     "exception": false,
     "start_time": "2021-03-10T01:02:11.421996",
     "status": "completed"
    },
    "tags": []
   },
   "outputs": [],
   "source": [
    "data.shape"
   ]
  },
  {
   "cell_type": "code",
   "execution_count": null,
   "metadata": {
    "papermill": {
     "duration": 0.051374,
     "end_time": "2021-03-10T01:02:11.537505",
     "exception": false,
     "start_time": "2021-03-10T01:02:11.486131",
     "status": "completed"
    },
    "tags": []
   },
   "outputs": [],
   "source": [
    "data.head()"
   ]
  },
  {
   "cell_type": "code",
   "execution_count": null,
   "metadata": {
    "papermill": {
     "duration": 0.038931,
     "end_time": "2021-03-10T01:02:11.603188",
     "exception": false,
     "start_time": "2021-03-10T01:02:11.564257",
     "status": "completed"
    },
    "tags": []
   },
   "outputs": [],
   "source": [
    "assert not data.isna().any().any()"
   ]
  },
  {
   "cell_type": "markdown",
   "metadata": {
    "papermill": {
     "duration": 0.026109,
     "end_time": "2021-03-10T01:02:11.656143",
     "exception": false,
     "start_time": "2021-03-10T01:02:11.630034",
     "status": "completed"
    },
    "tags": []
   },
   "source": [
    "# Clustering"
   ]
  },
  {
   "cell_type": "markdown",
   "metadata": {
    "papermill": {
     "duration": 0.025479,
     "end_time": "2021-03-10T01:02:11.707419",
     "exception": false,
     "start_time": "2021-03-10T01:02:11.681940",
     "status": "completed"
    },
    "tags": []
   },
   "source": [
    "## Generate ensemble"
   ]
  },
  {
   "cell_type": "code",
   "execution_count": null,
   "metadata": {
    "papermill": {
     "duration": 0.040806,
     "end_time": "2021-03-10T01:02:11.773748",
     "exception": false,
     "start_time": "2021-03-10T01:02:11.732942",
     "status": "completed"
    },
    "tags": []
   },
   "outputs": [],
   "source": [
    "from clustering.ensembles.utils import generate_ensemble"
   ]
  },
  {
   "cell_type": "code",
   "execution_count": null,
   "metadata": {
    "papermill": {
     "duration": 1209.389754,
     "end_time": "2021-03-10T01:22:21.190527",
     "exception": false,
     "start_time": "2021-03-10T01:02:11.800773",
     "status": "completed"
    },
    "tags": []
   },
   "outputs": [],
   "source": [
    "ensemble = generate_ensemble(\n",
    "    data,\n",
    "    CLUSTERERS,\n",
    "    attributes=CLUSTERING_ATTRIBUTES_TO_SAVE,\n",
    ")"
   ]
  },
  {
   "cell_type": "code",
   "execution_count": null,
   "metadata": {
    "papermill": {
     "duration": 0.084419,
     "end_time": "2021-03-10T01:22:21.347158",
     "exception": false,
     "start_time": "2021-03-10T01:22:21.262739",
     "status": "completed"
    },
    "tags": []
   },
   "outputs": [],
   "source": [
    "# the number should be close to 295 (the number of partitions generated by k-means/spectral clustering)\n",
    "ensemble.shape"
   ]
  },
  {
   "cell_type": "code",
   "execution_count": null,
   "metadata": {
    "papermill": {
     "duration": 0.09145,
     "end_time": "2021-03-10T01:22:21.515055",
     "exception": false,
     "start_time": "2021-03-10T01:22:21.423605",
     "status": "completed"
    },
    "tags": []
   },
   "outputs": [],
   "source": [
    "ensemble.head()"
   ]
  },
  {
   "cell_type": "code",
   "execution_count": null,
   "metadata": {
    "papermill": {
     "duration": 0.088685,
     "end_time": "2021-03-10T01:22:21.676794",
     "exception": false,
     "start_time": "2021-03-10T01:22:21.588109",
     "status": "completed"
    },
    "tags": []
   },
   "outputs": [],
   "source": [
    "ensemble[\"n_clusters\"].value_counts().head()"
   ]
  },
  {
   "cell_type": "code",
   "execution_count": null,
   "metadata": {
    "papermill": {
     "duration": 0.087299,
     "end_time": "2021-03-10T01:22:21.837497",
     "exception": false,
     "start_time": "2021-03-10T01:22:21.750198",
     "status": "completed"
    },
    "tags": []
   },
   "outputs": [],
   "source": [
    "ensemble_stats = ensemble[\"n_clusters\"].describe()\n",
    "display(ensemble_stats)"
   ]
  },
  {
   "cell_type": "markdown",
   "metadata": {
    "papermill": {
     "duration": 0.071929,
     "end_time": "2021-03-10T01:22:21.983717",
     "exception": false,
     "start_time": "2021-03-10T01:22:21.911788",
     "status": "completed"
    },
    "tags": []
   },
   "source": [
    "## Testing"
   ]
  },
  {
   "cell_type": "code",
   "execution_count": null,
   "metadata": {
    "papermill": {
     "duration": 0.085751,
     "end_time": "2021-03-10T01:22:22.141547",
     "exception": false,
     "start_time": "2021-03-10T01:22:22.055796",
     "status": "completed"
    },
    "tags": []
   },
   "outputs": [],
   "source": [
    "assert ensemble_stats[\"min\"] > 1"
   ]
  },
  {
   "cell_type": "code",
   "execution_count": null,
   "metadata": {
    "papermill": {
     "duration": 0.085424,
     "end_time": "2021-03-10T01:22:22.299645",
     "exception": false,
     "start_time": "2021-03-10T01:22:22.214221",
     "status": "completed"
    },
    "tags": []
   },
   "outputs": [],
   "source": [
    "assert not ensemble[\"n_clusters\"].isna().any()"
   ]
  },
  {
   "cell_type": "code",
   "execution_count": null,
   "metadata": {
    "papermill": {
     "duration": 0.085455,
     "end_time": "2021-03-10T01:22:22.457659",
     "exception": false,
     "start_time": "2021-03-10T01:22:22.372204",
     "status": "completed"
    },
    "tags": []
   },
   "outputs": [],
   "source": [
    "assert ensemble.shape[0] == len(CLUSTERERS)"
   ]
  },
  {
   "cell_type": "code",
   "execution_count": null,
   "metadata": {
    "papermill": {
     "duration": 0.103335,
     "end_time": "2021-03-10T01:22:22.633683",
     "exception": false,
     "start_time": "2021-03-10T01:22:22.530348",
     "status": "completed"
    },
    "tags": []
   },
   "outputs": [],
   "source": [
    "# all partitions have the right size\n",
    "assert np.all(\n",
    "    [part[\"partition\"].shape[0] == data.shape[0] for idx, part in ensemble.iterrows()]\n",
    ")"
   ]
  },
  {
   "cell_type": "code",
   "execution_count": null,
   "metadata": {
    "papermill": {
     "duration": 0.105461,
     "end_time": "2021-03-10T01:22:22.812818",
     "exception": false,
     "start_time": "2021-03-10T01:22:22.707357",
     "status": "completed"
    },
    "tags": []
   },
   "outputs": [],
   "source": [
    "# no partition has negative clusters (noisy points)\n",
    "assert not np.any([(part[\"partition\"] < 0).any() for idx, part in ensemble.iterrows()])"
   ]
  },
  {
   "cell_type": "markdown",
   "metadata": {
    "papermill": {
     "duration": 0.072083,
     "end_time": "2021-03-10T01:22:22.957255",
     "exception": false,
     "start_time": "2021-03-10T01:22:22.885172",
     "status": "completed"
    },
    "tags": []
   },
   "source": [
    "## Add clustering quality measures"
   ]
  },
  {
   "cell_type": "code",
   "execution_count": null,
   "metadata": {
    "papermill": {
     "duration": 0.085466,
     "end_time": "2021-03-10T01:22:23.115114",
     "exception": false,
     "start_time": "2021-03-10T01:22:23.029648",
     "status": "completed"
    },
    "tags": []
   },
   "outputs": [],
   "source": [
    "from sklearn.metrics import calinski_harabasz_score"
   ]
  },
  {
   "cell_type": "code",
   "execution_count": null,
   "metadata": {
    "papermill": {
     "duration": 0.952861,
     "end_time": "2021-03-10T01:22:24.141475",
     "exception": false,
     "start_time": "2021-03-10T01:22:23.188614",
     "status": "completed"
    },
    "tags": []
   },
   "outputs": [],
   "source": [
    "ensemble = ensemble.assign(\n",
    "    ch_score=ensemble[\"partition\"].apply(lambda x: calinski_harabasz_score(data, x))\n",
    ")"
   ]
  },
  {
   "cell_type": "code",
   "execution_count": null,
   "metadata": {
    "papermill": {
     "duration": 0.086367,
     "end_time": "2021-03-10T01:22:24.300059",
     "exception": false,
     "start_time": "2021-03-10T01:22:24.213692",
     "status": "completed"
    },
    "tags": []
   },
   "outputs": [],
   "source": [
    "ensemble.shape"
   ]
  },
  {
   "cell_type": "code",
   "execution_count": null,
   "metadata": {
    "papermill": {
     "duration": 0.093554,
     "end_time": "2021-03-10T01:22:24.467596",
     "exception": false,
     "start_time": "2021-03-10T01:22:24.374042",
     "status": "completed"
    },
    "tags": []
   },
   "outputs": [],
   "source": [
    "ensemble.head()"
   ]
  },
  {
   "cell_type": "markdown",
   "metadata": {
    "papermill": {
     "duration": 0.072371,
     "end_time": "2021-03-10T01:22:24.612484",
     "exception": false,
     "start_time": "2021-03-10T01:22:24.540113",
     "status": "completed"
    },
    "tags": []
   },
   "source": [
    "## Save"
   ]
  },
  {
   "cell_type": "code",
   "execution_count": null,
   "metadata": {
    "papermill": {
     "duration": 0.08676,
     "end_time": "2021-03-10T01:22:24.772306",
     "exception": false,
     "start_time": "2021-03-10T01:22:24.685546",
     "status": "completed"
    },
    "tags": []
   },
   "outputs": [],
   "source": [
    "output_filename = Path(\n",
    "    RESULTS_DIR,\n",
    "    generate_result_set_name(\n",
    "        CLUSTERING_OPTIONS,\n",
    "        prefix=f\"{clustering_method_name}-\",\n",
    "        suffix=\".pkl\",\n",
    "    ),\n",
    ").resolve()\n",
    "display(output_filename)"
   ]
  },
  {
   "cell_type": "code",
   "execution_count": null,
   "metadata": {
    "papermill": {
     "duration": 0.093132,
     "end_time": "2021-03-10T01:22:24.939312",
     "exception": false,
     "start_time": "2021-03-10T01:22:24.846180",
     "status": "completed"
    },
    "tags": []
   },
   "outputs": [],
   "source": [
    "ensemble.to_pickle(output_filename)"
   ]
  },
  {
   "cell_type": "markdown",
   "metadata": {
    "papermill": {
     "duration": 0.0721,
     "end_time": "2021-03-10T01:22:25.085030",
     "exception": false,
     "start_time": "2021-03-10T01:22:25.012930",
     "status": "completed"
    },
    "tags": []
   },
   "source": [
    "# Cluster quality"
   ]
  },
  {
   "cell_type": "code",
   "execution_count": null,
   "metadata": {
    "papermill": {
     "duration": 0.090646,
     "end_time": "2021-03-10T01:22:25.249205",
     "exception": false,
     "start_time": "2021-03-10T01:22:25.158559",
     "status": "completed"
    },
    "tags": []
   },
   "outputs": [],
   "source": [
    "with pd.option_context(\"display.max_rows\", None, \"display.max_columns\", None):\n",
    "    _df = ensemble.groupby([\"n_clusters\"]).mean()\n",
    "    display(_df)"
   ]
  },
  {
   "cell_type": "code",
   "execution_count": null,
   "metadata": {
    "papermill": {
     "duration": 2.799645,
     "end_time": "2021-03-10T01:22:28.122346",
     "exception": false,
     "start_time": "2021-03-10T01:22:25.322701",
     "status": "completed"
    },
    "tags": []
   },
   "outputs": [],
   "source": [
    "with sns.plotting_context(\"talk\", font_scale=0.75), sns.axes_style(\n",
    "    \"whitegrid\", {\"grid.linestyle\": \"--\"}\n",
    "):\n",
    "    fig = plt.figure(figsize=(14, 6))\n",
    "    ax = sns.pointplot(data=ensemble, x=\"n_clusters\", y=\"ch_score\")\n",
    "    ax.set_ylabel(\"Calinski-Harabasz index\")\n",
    "    ax.set_xlabel(\"Number of clusters ($k$)\")\n",
    "    ax.set_xticklabels(ax.get_xticklabels(), rotation=45)\n",
    "    plt.grid(True)\n",
    "    plt.tight_layout()"
   ]
  },
  {
   "cell_type": "markdown",
   "metadata": {
    "papermill": {
     "duration": 0.075406,
     "end_time": "2021-03-10T01:22:28.273795",
     "exception": false,
     "start_time": "2021-03-10T01:22:28.198389",
     "status": "completed"
    },
    "tags": []
   },
   "source": [
    "# Stability"
   ]
  },
  {
   "cell_type": "markdown",
   "metadata": {
    "papermill": {
     "duration": 0.07607,
     "end_time": "2021-03-10T01:22:28.424793",
     "exception": false,
     "start_time": "2021-03-10T01:22:28.348723",
     "status": "completed"
    },
    "tags": []
   },
   "source": [
    "## Group ensemble by n_clusters"
   ]
  },
  {
   "cell_type": "code",
   "execution_count": null,
   "metadata": {
    "papermill": {
     "duration": 0.102519,
     "end_time": "2021-03-10T01:22:28.603872",
     "exception": false,
     "start_time": "2021-03-10T01:22:28.501353",
     "status": "completed"
    },
    "tags": []
   },
   "outputs": [],
   "source": [
    "parts = ensemble.groupby(\"n_clusters\").apply(\n",
    "    lambda x: np.concatenate(x[\"partition\"].apply(lambda x: x.reshape(1, -1)), axis=0)\n",
    ")"
   ]
  },
  {
   "cell_type": "code",
   "execution_count": null,
   "metadata": {
    "papermill": {
     "duration": 0.099263,
     "end_time": "2021-03-10T01:22:28.780863",
     "exception": false,
     "start_time": "2021-03-10T01:22:28.681600",
     "status": "completed"
    },
    "tags": []
   },
   "outputs": [],
   "source": [
    "parts.head()"
   ]
  },
  {
   "cell_type": "code",
   "execution_count": null,
   "metadata": {
    "papermill": {
     "duration": 0.089994,
     "end_time": "2021-03-10T01:22:28.947188",
     "exception": false,
     "start_time": "2021-03-10T01:22:28.857194",
     "status": "completed"
    },
    "tags": []
   },
   "outputs": [],
   "source": [
    "assert np.all(\n",
    "    [\n",
    "        parts.loc[k].shape == (CLUSTERING_OPTIONS[\"N_REPS_PER_K\"], data.shape[0])\n",
    "        for k in parts.index\n",
    "    ]\n",
    ")"
   ]
  },
  {
   "cell_type": "markdown",
   "metadata": {
    "papermill": {
     "duration": 0.075805,
     "end_time": "2021-03-10T01:22:29.098875",
     "exception": false,
     "start_time": "2021-03-10T01:22:29.023070",
     "status": "completed"
    },
    "tags": []
   },
   "source": [
    "## Compute stability"
   ]
  },
  {
   "cell_type": "code",
   "execution_count": null,
   "metadata": {
    "papermill": {
     "duration": 0.088123,
     "end_time": "2021-03-10T01:22:29.263446",
     "exception": false,
     "start_time": "2021-03-10T01:22:29.175323",
     "status": "completed"
    },
    "tags": []
   },
   "outputs": [],
   "source": [
    "from sklearn.metrics import adjusted_rand_score as ari\n",
    "from scipy.spatial.distance import pdist"
   ]
  },
  {
   "cell_type": "code",
   "execution_count": null,
   "metadata": {
    "papermill": {
     "duration": 0.726027,
     "end_time": "2021-03-10T01:22:30.066411",
     "exception": false,
     "start_time": "2021-03-10T01:22:29.340384",
     "status": "completed"
    },
    "tags": []
   },
   "outputs": [],
   "source": [
    "parts_ari = pd.Series(\n",
    "    {k: pdist(parts.loc[k], metric=ari) for k in parts.index}, name=\"k\"\n",
    ")"
   ]
  },
  {
   "cell_type": "code",
   "execution_count": null,
   "metadata": {
    "papermill": {
     "duration": 0.090099,
     "end_time": "2021-03-10T01:22:30.232238",
     "exception": false,
     "start_time": "2021-03-10T01:22:30.142139",
     "status": "completed"
    },
    "tags": []
   },
   "outputs": [],
   "source": [
    "parts_ari_stability = parts_ari.apply(lambda x: x.mean())\n",
    "display(parts_ari_stability.sort_values(ascending=False).head(15))"
   ]
  },
  {
   "cell_type": "code",
   "execution_count": null,
   "metadata": {
    "papermill": {
     "duration": 0.111571,
     "end_time": "2021-03-10T01:22:30.421058",
     "exception": false,
     "start_time": "2021-03-10T01:22:30.309487",
     "status": "completed"
    },
    "tags": []
   },
   "outputs": [],
   "source": [
    "parts_ari_df = pd.DataFrame.from_records(parts_ari.tolist()).set_index(\n",
    "    parts_ari.index.copy()\n",
    ")"
   ]
  },
  {
   "cell_type": "code",
   "execution_count": null,
   "metadata": {
    "papermill": {
     "duration": 0.088657,
     "end_time": "2021-03-10T01:22:30.590258",
     "exception": false,
     "start_time": "2021-03-10T01:22:30.501601",
     "status": "completed"
    },
    "tags": []
   },
   "outputs": [],
   "source": [
    "parts_ari_df.shape"
   ]
  },
  {
   "cell_type": "code",
   "execution_count": null,
   "metadata": {
    "papermill": {
     "duration": 0.089744,
     "end_time": "2021-03-10T01:22:30.759094",
     "exception": false,
     "start_time": "2021-03-10T01:22:30.669350",
     "status": "completed"
    },
    "tags": []
   },
   "outputs": [],
   "source": [
    "assert (\n",
    "    int(\n",
    "        (CLUSTERING_OPTIONS[\"N_REPS_PER_K\"] * (CLUSTERING_OPTIONS[\"N_REPS_PER_K\"] - 1))\n",
    "        / 2\n",
    "    )\n",
    "    == parts_ari_df.shape[1]\n",
    ")"
   ]
  },
  {
   "cell_type": "code",
   "execution_count": null,
   "metadata": {
    "papermill": {
     "duration": 0.095582,
     "end_time": "2021-03-10T01:22:30.932240",
     "exception": false,
     "start_time": "2021-03-10T01:22:30.836658",
     "status": "completed"
    },
    "tags": []
   },
   "outputs": [],
   "source": [
    "parts_ari_df.head()"
   ]
  },
  {
   "cell_type": "markdown",
   "metadata": {
    "papermill": {
     "duration": 0.077191,
     "end_time": "2021-03-10T01:22:31.086860",
     "exception": false,
     "start_time": "2021-03-10T01:22:31.009669",
     "status": "completed"
    },
    "tags": []
   },
   "source": [
    "## Save"
   ]
  },
  {
   "cell_type": "code",
   "execution_count": null,
   "metadata": {
    "papermill": {
     "duration": 0.090631,
     "end_time": "2021-03-10T01:22:31.255242",
     "exception": false,
     "start_time": "2021-03-10T01:22:31.164611",
     "status": "completed"
    },
    "tags": []
   },
   "outputs": [],
   "source": [
    "output_filename = Path(\n",
    "    RESULTS_DIR,\n",
    "    generate_result_set_name(\n",
    "        CLUSTERING_OPTIONS,\n",
    "        prefix=f\"{clustering_method_name}-stability-\",\n",
    "        suffix=\".pkl\",\n",
    "    ),\n",
    ").resolve()\n",
    "display(output_filename)"
   ]
  },
  {
   "cell_type": "code",
   "execution_count": null,
   "metadata": {
    "papermill": {
     "duration": 0.091256,
     "end_time": "2021-03-10T01:22:31.423698",
     "exception": false,
     "start_time": "2021-03-10T01:22:31.332442",
     "status": "completed"
    },
    "tags": []
   },
   "outputs": [],
   "source": [
    "parts_ari_df.to_pickle(output_filename)"
   ]
  },
  {
   "cell_type": "markdown",
   "metadata": {
    "papermill": {
     "duration": 0.076343,
     "end_time": "2021-03-10T01:22:31.576733",
     "exception": false,
     "start_time": "2021-03-10T01:22:31.500390",
     "status": "completed"
    },
    "tags": []
   },
   "source": [
    "## Stability plot"
   ]
  },
  {
   "cell_type": "code",
   "execution_count": null,
   "metadata": {
    "papermill": {
     "duration": 0.092137,
     "end_time": "2021-03-10T01:22:31.746687",
     "exception": false,
     "start_time": "2021-03-10T01:22:31.654550",
     "status": "completed"
    },
    "tags": []
   },
   "outputs": [],
   "source": [
    "parts_ari_df_plot = (\n",
    "    parts_ari_df.stack()\n",
    "    .reset_index()\n",
    "    .rename(columns={\"level_0\": \"k\", \"level_1\": \"idx\", 0: \"ari\"})\n",
    ")"
   ]
  },
  {
   "cell_type": "code",
   "execution_count": null,
   "metadata": {
    "papermill": {
     "duration": 0.091687,
     "end_time": "2021-03-10T01:22:31.915644",
     "exception": false,
     "start_time": "2021-03-10T01:22:31.823957",
     "status": "completed"
    },
    "tags": []
   },
   "outputs": [],
   "source": [
    "parts_ari_df_plot.dtypes"
   ]
  },
  {
   "cell_type": "code",
   "execution_count": null,
   "metadata": {
    "papermill": {
     "duration": 0.092139,
     "end_time": "2021-03-10T01:22:32.084085",
     "exception": false,
     "start_time": "2021-03-10T01:22:31.991946",
     "status": "completed"
    },
    "tags": []
   },
   "outputs": [],
   "source": [
    "parts_ari_df_plot.head()"
   ]
  },
  {
   "cell_type": "code",
   "execution_count": null,
   "metadata": {
    "papermill": {
     "duration": 2.553016,
     "end_time": "2021-03-10T01:22:34.715021",
     "exception": false,
     "start_time": "2021-03-10T01:22:32.162005",
     "status": "completed"
    },
    "tags": []
   },
   "outputs": [],
   "source": [
    "# with sns.axes_style('whitegrid', {'grid.linestyle': '--'}):\n",
    "with sns.plotting_context(\"talk\", font_scale=0.75), sns.axes_style(\n",
    "    \"whitegrid\", {\"grid.linestyle\": \"--\"}\n",
    "):\n",
    "    fig = plt.figure(figsize=(14, 6))\n",
    "    ax = sns.pointplot(data=parts_ari_df_plot, x=\"k\", y=\"ari\")\n",
    "    ax.set_ylabel(\"Averange ARI\")\n",
    "    ax.set_xlabel(\"Number of clusters ($k$)\")\n",
    "    ax.set_xticklabels(ax.get_xticklabels(), rotation=45)\n",
    "    #     ax.set_ylim(0.0, 1.0)\n",
    "    #     ax.set_xlim(CLUSTERING_OPTIONS['K_MIN'], CLUSTERING_OPTIONS['K_MAX'])\n",
    "    plt.grid(True)\n",
    "    plt.tight_layout()"
   ]
  },
  {
   "cell_type": "code",
   "execution_count": null,
   "metadata": {
    "papermill": {
     "duration": 0.079676,
     "end_time": "2021-03-10T01:22:34.875397",
     "exception": false,
     "start_time": "2021-03-10T01:22:34.795721",
     "status": "completed"
    },
    "tags": []
   },
   "outputs": [],
   "source": []
  }
 ],
 "metadata": {
  "jupytext": {
   "cell_metadata_filter": "all,-execution,-papermill,-trusted",
   "formats": "ipynb,py//py:percent"
  },
  "kernelspec": {
   "display_name": "Python 3 (ipykernel)",
   "language": "python",
   "name": "python3"
  },
  "language_info": {
   "codemirror_mode": {
    "name": "ipython",
    "version": 3
   },
   "file_extension": ".py",
   "mimetype": "text/x-python",
   "name": "python",
   "nbconvert_exporter": "python",
   "pygments_lexer": "ipython3",
   "version": "3.8.13"
  },
  "papermill": {
   "default_parameters": {},
   "duration": 1227.248218,
   "end_time": "2021-03-10T01:22:35.362776",
   "environment_variables": {},
   "exception": null,
   "input_path": "15_cluster_analysis/001_02-spectral-umap.ipynb",
   "output_path": "15_cluster_analysis/001_02-spectral-umap.run.ipynb",
   "parameters": {},
   "start_time": "2021-03-10T01:02:08.114558",
   "version": "2.2.2"
  },
  "toc-autonumbering": true,
  "toc-showcode": false,
  "toc-showmarkdowntxt": false,
  "toc-showtags": false
 },
 "nbformat": 4,
 "nbformat_minor": 4
}
