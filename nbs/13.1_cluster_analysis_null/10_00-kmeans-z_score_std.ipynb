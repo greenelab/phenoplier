{
 "cells": [
  {
   "cell_type": "markdown",
   "id": "66c94a85",
   "metadata": {
    "papermill": {
     "duration": 0.032901,
     "end_time": "2022-09-11T20:44:44.712002",
     "exception": false,
     "start_time": "2022-09-11T20:44:44.679101",
     "status": "completed"
    },
    "tags": []
   },
   "source": [
    "# Description"
   ]
  },
  {
   "cell_type": "markdown",
   "id": "3e1f0d84",
   "metadata": {
    "papermill": {
     "duration": 0.008211,
     "end_time": "2022-09-11T20:44:44.732330",
     "exception": false,
     "start_time": "2022-09-11T20:44:44.724119",
     "status": "completed"
    },
    "tags": []
   },
   "source": [
    "Runs k-means on the z_score_std version of the data."
   ]
  },
  {
   "cell_type": "markdown",
   "id": "a35cceef",
   "metadata": {
    "papermill": {
     "duration": 0.005924,
     "end_time": "2022-09-11T20:44:44.744999",
     "exception": false,
     "start_time": "2022-09-11T20:44:44.739075",
     "status": "completed"
    },
    "tags": []
   },
   "source": [
    "# Environment variables"
   ]
  },
  {
   "cell_type": "code",
   "execution_count": 1,
   "id": "5bfbc3a8",
   "metadata": {
    "execution": {
     "iopub.execute_input": "2022-09-11T20:44:44.758895Z",
     "iopub.status.busy": "2022-09-11T20:44:44.758649Z",
     "iopub.status.idle": "2022-09-11T20:44:44.773721Z",
     "shell.execute_reply": "2022-09-11T20:44:44.773153Z"
    },
    "papermill": {
     "duration": 0.023554,
     "end_time": "2022-09-11T20:44:44.775233",
     "exception": false,
     "start_time": "2022-09-11T20:44:44.751679",
     "status": "completed"
    },
    "tags": []
   },
   "outputs": [
    {
     "data": {
      "text/plain": [
       "3"
      ]
     },
     "metadata": {},
     "output_type": "display_data"
    }
   ],
   "source": [
    "from IPython.display import display\n",
    "\n",
    "import conf\n",
    "\n",
    "N_JOBS = conf.GENERAL[\"N_JOBS\"]\n",
    "display(N_JOBS)"
   ]
  },
  {
   "cell_type": "code",
   "execution_count": 2,
   "id": "fd08b2f5",
   "metadata": {
    "execution": {
     "iopub.execute_input": "2022-09-11T20:44:44.789626Z",
     "iopub.status.busy": "2022-09-11T20:44:44.789440Z",
     "iopub.status.idle": "2022-09-11T20:44:44.794404Z",
     "shell.execute_reply": "2022-09-11T20:44:44.793931Z"
    },
    "papermill": {
     "duration": 0.013346,
     "end_time": "2022-09-11T20:44:44.795658",
     "exception": false,
     "start_time": "2022-09-11T20:44:44.782312",
     "status": "completed"
    },
    "tags": []
   },
   "outputs": [
    {
     "name": "stdout",
     "output_type": "stream",
     "text": [
      "env: MKL_NUM_THREADS=3\n",
      "env: OPEN_BLAS_NUM_THREADS=3\n",
      "env: NUMEXPR_NUM_THREADS=3\n",
      "env: OMP_NUM_THREADS=3\n"
     ]
    }
   ],
   "source": [
    "%env MKL_NUM_THREADS=$N_JOBS\n",
    "%env OPEN_BLAS_NUM_THREADS=$N_JOBS\n",
    "%env NUMEXPR_NUM_THREADS=$N_JOBS\n",
    "%env OMP_NUM_THREADS=$N_JOBS"
   ]
  },
  {
   "cell_type": "markdown",
   "id": "f678aeb0",
   "metadata": {
    "papermill": {
     "duration": 0.006311,
     "end_time": "2022-09-11T20:44:44.808641",
     "exception": false,
     "start_time": "2022-09-11T20:44:44.802330",
     "status": "completed"
    },
    "tags": []
   },
   "source": [
    "# Modules loading"
   ]
  },
  {
   "cell_type": "code",
   "execution_count": 3,
   "id": "426b89ab",
   "metadata": {
    "execution": {
     "iopub.execute_input": "2022-09-11T20:44:44.822498Z",
     "iopub.status.busy": "2022-09-11T20:44:44.822298Z",
     "iopub.status.idle": "2022-09-11T20:44:44.835861Z",
     "shell.execute_reply": "2022-09-11T20:44:44.835392Z"
    },
    "papermill": {
     "duration": 0.021841,
     "end_time": "2022-09-11T20:44:44.837149",
     "exception": false,
     "start_time": "2022-09-11T20:44:44.815308",
     "status": "completed"
    },
    "tags": []
   },
   "outputs": [],
   "source": [
    "%load_ext autoreload\n",
    "%autoreload 2"
   ]
  },
  {
   "cell_type": "code",
   "execution_count": 4,
   "id": "be2e621b",
   "metadata": {
    "execution": {
     "iopub.execute_input": "2022-09-11T20:44:44.851137Z",
     "iopub.status.busy": "2022-09-11T20:44:44.850987Z",
     "iopub.status.idle": "2022-09-11T20:44:45.517356Z",
     "shell.execute_reply": "2022-09-11T20:44:45.516890Z"
    },
    "papermill": {
     "duration": 0.674855,
     "end_time": "2022-09-11T20:44:45.518715",
     "exception": false,
     "start_time": "2022-09-11T20:44:44.843860",
     "status": "completed"
    },
    "tags": []
   },
   "outputs": [],
   "source": [
    "from pathlib import Path\n",
    "\n",
    "import numpy as np\n",
    "import pandas as pd\n",
    "import matplotlib.pyplot as plt\n",
    "import seaborn as sns\n",
    "\n",
    "from utils import generate_result_set_name"
   ]
  },
  {
   "cell_type": "markdown",
   "id": "1afd3315",
   "metadata": {
    "papermill": {
     "duration": 0.006878,
     "end_time": "2022-09-11T20:44:45.535454",
     "exception": false,
     "start_time": "2022-09-11T20:44:45.528576",
     "status": "completed"
    },
    "tags": []
   },
   "source": [
    "# Settings"
   ]
  },
  {
   "cell_type": "code",
   "execution_count": 5,
   "id": "cf04fc00",
   "metadata": {
    "execution": {
     "iopub.execute_input": "2022-09-11T20:44:45.550201Z",
     "iopub.status.busy": "2022-09-11T20:44:45.549721Z",
     "iopub.status.idle": "2022-09-11T20:44:45.566393Z",
     "shell.execute_reply": "2022-09-11T20:44:45.565818Z"
    },
    "papermill": {
     "duration": 0.025534,
     "end_time": "2022-09-11T20:44:45.567802",
     "exception": false,
     "start_time": "2022-09-11T20:44:45.542268",
     "status": "completed"
    },
    "tags": []
   },
   "outputs": [],
   "source": [
    "np.random.seed(0)"
   ]
  },
  {
   "cell_type": "code",
   "execution_count": 6,
   "id": "cec0eb37",
   "metadata": {
    "execution": {
     "iopub.execute_input": "2022-09-11T20:44:45.582927Z",
     "iopub.status.busy": "2022-09-11T20:44:45.582768Z",
     "iopub.status.idle": "2022-09-11T20:44:45.599106Z",
     "shell.execute_reply": "2022-09-11T20:44:45.598606Z"
    },
    "papermill": {
     "duration": 0.025409,
     "end_time": "2022-09-11T20:44:45.600489",
     "exception": false,
     "start_time": "2022-09-11T20:44:45.575080",
     "status": "completed"
    },
    "tags": []
   },
   "outputs": [],
   "source": [
    "INITIAL_RANDOM_STATE = 0"
   ]
  },
  {
   "cell_type": "markdown",
   "id": "e572a4bf",
   "metadata": {
    "papermill": {
     "duration": 0.006775,
     "end_time": "2022-09-11T20:44:45.614432",
     "exception": false,
     "start_time": "2022-09-11T20:44:45.607657",
     "status": "completed"
    },
    "tags": []
   },
   "source": [
    "## Input data"
   ]
  },
  {
   "cell_type": "code",
   "execution_count": 7,
   "id": "5f7a64c8",
   "metadata": {
    "execution": {
     "iopub.execute_input": "2022-09-11T20:44:45.656470Z",
     "iopub.status.busy": "2022-09-11T20:44:45.656274Z",
     "iopub.status.idle": "2022-09-11T20:44:45.675475Z",
     "shell.execute_reply": "2022-09-11T20:44:45.674810Z"
    },
    "papermill": {
     "duration": 0.055721,
     "end_time": "2022-09-11T20:44:45.677094",
     "exception": false,
     "start_time": "2022-09-11T20:44:45.621373",
     "status": "completed"
    },
    "tags": []
   },
   "outputs": [],
   "source": [
    "INPUT_SUBSET = \"z_score_std\""
   ]
  },
  {
   "cell_type": "code",
   "execution_count": 8,
   "id": "9da5bd24",
   "metadata": {
    "execution": {
     "iopub.execute_input": "2022-09-11T20:44:45.694593Z",
     "iopub.status.busy": "2022-09-11T20:44:45.694402Z",
     "iopub.status.idle": "2022-09-11T20:44:45.713409Z",
     "shell.execute_reply": "2022-09-11T20:44:45.712676Z"
    },
    "papermill": {
     "duration": 0.029481,
     "end_time": "2022-09-11T20:44:45.714976",
     "exception": false,
     "start_time": "2022-09-11T20:44:45.685495",
     "status": "completed"
    },
    "tags": []
   },
   "outputs": [],
   "source": [
    "INPUT_STEM = \"projection-smultixcan-efo_partial-mashr-zscores\""
   ]
  },
  {
   "cell_type": "code",
   "execution_count": 9,
   "id": "cd01420f",
   "metadata": {
    "execution": {
     "iopub.execute_input": "2022-09-11T20:44:45.732586Z",
     "iopub.status.busy": "2022-09-11T20:44:45.732382Z",
     "iopub.status.idle": "2022-09-11T20:44:45.754159Z",
     "shell.execute_reply": "2022-09-11T20:44:45.753648Z"
    },
    "papermill": {
     "duration": 0.032216,
     "end_time": "2022-09-11T20:44:45.755607",
     "exception": false,
     "start_time": "2022-09-11T20:44:45.723391",
     "status": "completed"
    },
    "tags": []
   },
   "outputs": [
    {
     "data": {
      "text/plain": [
       "PosixPath('/opt/data/results/clustering/null_sims/data_transformations/z_score_std/z_score_std-projection-smultixcan-efo_partial-mashr-zscores.pkl')"
      ]
     },
     "metadata": {},
     "output_type": "display_data"
    },
    {
     "data": {
      "text/plain": [
       "'z_score_std-projection-smultixcan-efo_partial-mashr-zscores'"
      ]
     },
     "metadata": {},
     "output_type": "display_data"
    }
   ],
   "source": [
    "input_filepath = Path(\n",
    "    conf.RESULTS[\"CLUSTERING_NULL_DIR\"],\n",
    "    \"data_transformations\",\n",
    "    INPUT_SUBSET,\n",
    "    f\"{INPUT_SUBSET}-{INPUT_STEM}.pkl\",\n",
    ").resolve()\n",
    "display(input_filepath)\n",
    "\n",
    "assert input_filepath.exists(), \"Input file does not exist\"\n",
    "\n",
    "input_filepath_stem = input_filepath.stem\n",
    "display(input_filepath_stem)"
   ]
  },
  {
   "cell_type": "markdown",
   "id": "7f098ebe",
   "metadata": {
    "papermill": {
     "duration": 0.006713,
     "end_time": "2022-09-11T20:44:45.770145",
     "exception": false,
     "start_time": "2022-09-11T20:44:45.763432",
     "status": "completed"
    },
    "tags": []
   },
   "source": [
    "## Clustering"
   ]
  },
  {
   "cell_type": "code",
   "execution_count": 10,
   "id": "985066d7",
   "metadata": {
    "execution": {
     "iopub.execute_input": "2022-09-11T20:44:45.784749Z",
     "iopub.status.busy": "2022-09-11T20:44:45.784540Z",
     "iopub.status.idle": "2022-09-11T20:44:45.877502Z",
     "shell.execute_reply": "2022-09-11T20:44:45.876921Z"
    },
    "papermill": {
     "duration": 0.101965,
     "end_time": "2022-09-11T20:44:45.878893",
     "exception": false,
     "start_time": "2022-09-11T20:44:45.776928",
     "status": "completed"
    },
    "tags": []
   },
   "outputs": [],
   "source": [
    "from sklearn.cluster import KMeans"
   ]
  },
  {
   "cell_type": "code",
   "execution_count": 11,
   "id": "694048cb",
   "metadata": {
    "execution": {
     "iopub.execute_input": "2022-09-11T20:44:45.893779Z",
     "iopub.status.busy": "2022-09-11T20:44:45.893619Z",
     "iopub.status.idle": "2022-09-11T20:44:45.911572Z",
     "shell.execute_reply": "2022-09-11T20:44:45.911105Z"
    },
    "papermill": {
     "duration": 0.026872,
     "end_time": "2022-09-11T20:44:45.912963",
     "exception": false,
     "start_time": "2022-09-11T20:44:45.886091",
     "status": "completed"
    },
    "tags": []
   },
   "outputs": [],
   "source": [
    "CLUSTERING_ATTRIBUTES_TO_SAVE = [\"n_clusters\"]"
   ]
  },
  {
   "cell_type": "code",
   "execution_count": 12,
   "id": "7cca6d0c",
   "metadata": {
    "execution": {
     "iopub.execute_input": "2022-09-11T20:44:45.928429Z",
     "iopub.status.busy": "2022-09-11T20:44:45.928264Z",
     "iopub.status.idle": "2022-09-11T20:44:45.947357Z",
     "shell.execute_reply": "2022-09-11T20:44:45.946898Z"
    },
    "papermill": {
     "duration": 0.028215,
     "end_time": "2022-09-11T20:44:45.948621",
     "exception": false,
     "start_time": "2022-09-11T20:44:45.920406",
     "status": "completed"
    },
    "tags": []
   },
   "outputs": [
    {
     "data": {
      "text/plain": [
       "{'K_MIN': 2, 'K_MAX': 60, 'N_REPS_PER_K': 5, 'KMEANS_N_INIT': 10}"
      ]
     },
     "metadata": {},
     "output_type": "display_data"
    }
   ],
   "source": [
    "CLUSTERING_OPTIONS = {}\n",
    "\n",
    "CLUSTERING_OPTIONS[\"K_MIN\"] = 2\n",
    "CLUSTERING_OPTIONS[\"K_MAX\"] = 60  # sqrt(3749)\n",
    "CLUSTERING_OPTIONS[\"N_REPS_PER_K\"] = 5\n",
    "CLUSTERING_OPTIONS[\"KMEANS_N_INIT\"] = 10\n",
    "\n",
    "display(CLUSTERING_OPTIONS)"
   ]
  },
  {
   "cell_type": "code",
   "execution_count": 13,
   "id": "4eba8b8a",
   "metadata": {
    "execution": {
     "iopub.execute_input": "2022-09-11T20:44:45.964209Z",
     "iopub.status.busy": "2022-09-11T20:44:45.964044Z",
     "iopub.status.idle": "2022-09-11T20:44:45.985509Z",
     "shell.execute_reply": "2022-09-11T20:44:45.984934Z"
    },
    "papermill": {
     "duration": 0.030891,
     "end_time": "2022-09-11T20:44:45.986965",
     "exception": false,
     "start_time": "2022-09-11T20:44:45.956074",
     "status": "completed"
    },
    "tags": []
   },
   "outputs": [],
   "source": [
    "CLUSTERERS = {}\n",
    "\n",
    "idx = 0\n",
    "random_state = INITIAL_RANDOM_STATE\n",
    "\n",
    "for k in range(CLUSTERING_OPTIONS[\"K_MIN\"], CLUSTERING_OPTIONS[\"K_MAX\"] + 1):\n",
    "    for i in range(CLUSTERING_OPTIONS[\"N_REPS_PER_K\"]):\n",
    "        clus = KMeans(\n",
    "            n_clusters=k,\n",
    "            n_init=CLUSTERING_OPTIONS[\"KMEANS_N_INIT\"],\n",
    "            random_state=random_state,\n",
    "        )\n",
    "\n",
    "        method_name = type(clus).__name__\n",
    "        CLUSTERERS[f\"{method_name} #{idx}\"] = clus\n",
    "\n",
    "        random_state = random_state + 1\n",
    "        idx = idx + 1"
   ]
  },
  {
   "cell_type": "code",
   "execution_count": 14,
   "id": "7e8150ff",
   "metadata": {
    "execution": {
     "iopub.execute_input": "2022-09-11T20:44:46.003041Z",
     "iopub.status.busy": "2022-09-11T20:44:46.002606Z",
     "iopub.status.idle": "2022-09-11T20:44:46.021202Z",
     "shell.execute_reply": "2022-09-11T20:44:46.020741Z"
    },
    "papermill": {
     "duration": 0.027963,
     "end_time": "2022-09-11T20:44:46.022542",
     "exception": false,
     "start_time": "2022-09-11T20:44:45.994579",
     "status": "completed"
    },
    "tags": []
   },
   "outputs": [
    {
     "data": {
      "text/plain": [
       "295"
      ]
     },
     "metadata": {},
     "output_type": "display_data"
    }
   ],
   "source": [
    "display(len(CLUSTERERS))"
   ]
  },
  {
   "cell_type": "code",
   "execution_count": 15,
   "id": "1212a649",
   "metadata": {
    "execution": {
     "iopub.execute_input": "2022-09-11T20:44:46.038311Z",
     "iopub.status.busy": "2022-09-11T20:44:46.038148Z",
     "iopub.status.idle": "2022-09-11T20:44:46.058804Z",
     "shell.execute_reply": "2022-09-11T20:44:46.058289Z"
    },
    "papermill": {
     "duration": 0.029963,
     "end_time": "2022-09-11T20:44:46.060061",
     "exception": false,
     "start_time": "2022-09-11T20:44:46.030098",
     "status": "completed"
    },
    "tags": []
   },
   "outputs": [
    {
     "data": {
      "text/plain": [
       "('KMeans #0', KMeans(n_clusters=2, random_state=0))"
      ]
     },
     "metadata": {},
     "output_type": "display_data"
    },
    {
     "data": {
      "text/plain": [
       "('KMeans #1', KMeans(n_clusters=2, random_state=1))"
      ]
     },
     "metadata": {},
     "output_type": "display_data"
    }
   ],
   "source": [
    "_iter = iter(CLUSTERERS.items())\n",
    "display(next(_iter))\n",
    "display(next(_iter))"
   ]
  },
  {
   "cell_type": "code",
   "execution_count": 16,
   "id": "3f13d728",
   "metadata": {
    "execution": {
     "iopub.execute_input": "2022-09-11T20:44:46.076236Z",
     "iopub.status.busy": "2022-09-11T20:44:46.076073Z",
     "iopub.status.idle": "2022-09-11T20:44:46.094876Z",
     "shell.execute_reply": "2022-09-11T20:44:46.094369Z"
    },
    "papermill": {
     "duration": 0.028346,
     "end_time": "2022-09-11T20:44:46.096141",
     "exception": false,
     "start_time": "2022-09-11T20:44:46.067795",
     "status": "completed"
    },
    "tags": []
   },
   "outputs": [
    {
     "data": {
      "text/plain": [
       "'KMeans'"
      ]
     },
     "metadata": {},
     "output_type": "display_data"
    }
   ],
   "source": [
    "clustering_method_name = method_name\n",
    "display(clustering_method_name)"
   ]
  },
  {
   "cell_type": "markdown",
   "id": "675cc397",
   "metadata": {
    "papermill": {
     "duration": 0.007485,
     "end_time": "2022-09-11T20:44:46.111442",
     "exception": false,
     "start_time": "2022-09-11T20:44:46.103957",
     "status": "completed"
    },
    "tags": []
   },
   "source": [
    "## Output directory"
   ]
  },
  {
   "cell_type": "code",
   "execution_count": 17,
   "id": "2625738a",
   "metadata": {
    "execution": {
     "iopub.execute_input": "2022-09-11T20:44:46.127522Z",
     "iopub.status.busy": "2022-09-11T20:44:46.127356Z",
     "iopub.status.idle": "2022-09-11T20:44:46.146636Z",
     "shell.execute_reply": "2022-09-11T20:44:46.146125Z"
    },
    "papermill": {
     "duration": 0.028813,
     "end_time": "2022-09-11T20:44:46.147841",
     "exception": false,
     "start_time": "2022-09-11T20:44:46.119028",
     "status": "completed"
    },
    "tags": []
   },
   "outputs": [
    {
     "data": {
      "text/plain": [
       "PosixPath('/opt/data/results/clustering/null_sims/runs/z_score_std-projection-smultixcan-efo_partial-mashr-zscores')"
      ]
     },
     "metadata": {},
     "output_type": "display_data"
    }
   ],
   "source": [
    "# output dir for this notebook\n",
    "RESULTS_DIR = Path(\n",
    "    conf.RESULTS[\"CLUSTERING_NULL_DIR\"],\n",
    "    \"runs\",\n",
    "    f\"{INPUT_SUBSET}-{INPUT_STEM}\",\n",
    ").resolve()\n",
    "RESULTS_DIR.mkdir(parents=True, exist_ok=True)\n",
    "\n",
    "display(RESULTS_DIR)"
   ]
  },
  {
   "cell_type": "markdown",
   "id": "ccd9f1b1",
   "metadata": {
    "papermill": {
     "duration": 0.007041,
     "end_time": "2022-09-11T20:44:46.162678",
     "exception": false,
     "start_time": "2022-09-11T20:44:46.155637",
     "status": "completed"
    },
    "tags": []
   },
   "source": [
    "# Load input file"
   ]
  },
  {
   "cell_type": "code",
   "execution_count": 18,
   "id": "692acecd",
   "metadata": {
    "execution": {
     "iopub.execute_input": "2022-09-11T20:44:46.178190Z",
     "iopub.status.busy": "2022-09-11T20:44:46.177984Z",
     "iopub.status.idle": "2022-09-11T20:44:46.211006Z",
     "shell.execute_reply": "2022-09-11T20:44:46.210361Z"
    },
    "papermill": {
     "duration": 0.04242,
     "end_time": "2022-09-11T20:44:46.212557",
     "exception": false,
     "start_time": "2022-09-11T20:44:46.170137",
     "status": "completed"
    },
    "tags": []
   },
   "outputs": [],
   "source": [
    "data = pd.read_pickle(input_filepath)"
   ]
  },
  {
   "cell_type": "code",
   "execution_count": 19,
   "id": "f899584d",
   "metadata": {
    "execution": {
     "iopub.execute_input": "2022-09-11T20:44:46.230802Z",
     "iopub.status.busy": "2022-09-11T20:44:46.230463Z",
     "iopub.status.idle": "2022-09-11T20:44:46.250574Z",
     "shell.execute_reply": "2022-09-11T20:44:46.250052Z"
    },
    "papermill": {
     "duration": 0.03073,
     "end_time": "2022-09-11T20:44:46.251887",
     "exception": false,
     "start_time": "2022-09-11T20:44:46.221157",
     "status": "completed"
    },
    "tags": []
   },
   "outputs": [
    {
     "data": {
      "text/plain": [
       "(3752, 987)"
      ]
     },
     "execution_count": 19,
     "metadata": {},
     "output_type": "execute_result"
    }
   ],
   "source": [
    "data.shape"
   ]
  },
  {
   "cell_type": "code",
   "execution_count": 20,
   "id": "70696d8c",
   "metadata": {
    "execution": {
     "iopub.execute_input": "2022-09-11T20:44:46.268820Z",
     "iopub.status.busy": "2022-09-11T20:44:46.268652Z",
     "iopub.status.idle": "2022-09-11T20:44:46.302053Z",
     "shell.execute_reply": "2022-09-11T20:44:46.301529Z"
    },
    "papermill": {
     "duration": 0.043242,
     "end_time": "2022-09-11T20:44:46.303297",
     "exception": false,
     "start_time": "2022-09-11T20:44:46.260055",
     "status": "completed"
    },
    "tags": []
   },
   "outputs": [
    {
     "data": {
      "text/html": [
       "<div>\n",
       "<style scoped>\n",
       "    .dataframe tbody tr th:only-of-type {\n",
       "        vertical-align: middle;\n",
       "    }\n",
       "\n",
       "    .dataframe tbody tr th {\n",
       "        vertical-align: top;\n",
       "    }\n",
       "\n",
       "    .dataframe thead th {\n",
       "        text-align: right;\n",
       "    }\n",
       "</style>\n",
       "<table border=\"1\" class=\"dataframe\">\n",
       "  <thead>\n",
       "    <tr style=\"text-align: right;\">\n",
       "      <th></th>\n",
       "      <th>LV1</th>\n",
       "      <th>LV2</th>\n",
       "      <th>LV3</th>\n",
       "      <th>LV4</th>\n",
       "      <th>LV5</th>\n",
       "      <th>LV6</th>\n",
       "      <th>LV7</th>\n",
       "      <th>LV8</th>\n",
       "      <th>LV9</th>\n",
       "      <th>LV10</th>\n",
       "      <th>...</th>\n",
       "      <th>LV978</th>\n",
       "      <th>LV979</th>\n",
       "      <th>LV980</th>\n",
       "      <th>LV981</th>\n",
       "      <th>LV982</th>\n",
       "      <th>LV983</th>\n",
       "      <th>LV984</th>\n",
       "      <th>LV985</th>\n",
       "      <th>LV986</th>\n",
       "      <th>LV987</th>\n",
       "    </tr>\n",
       "  </thead>\n",
       "  <tbody>\n",
       "    <tr>\n",
       "      <th>100001_raw-Food_weight</th>\n",
       "      <td>-2.408007</td>\n",
       "      <td>-1.745911</td>\n",
       "      <td>1.383013</td>\n",
       "      <td>0.158718</td>\n",
       "      <td>-0.240933</td>\n",
       "      <td>-0.304911</td>\n",
       "      <td>1.823117</td>\n",
       "      <td>-0.716278</td>\n",
       "      <td>-1.769346</td>\n",
       "      <td>-0.043794</td>\n",
       "      <td>...</td>\n",
       "      <td>0.399227</td>\n",
       "      <td>0.849885</td>\n",
       "      <td>-0.593292</td>\n",
       "      <td>0.636568</td>\n",
       "      <td>0.409726</td>\n",
       "      <td>-0.871713</td>\n",
       "      <td>1.638770</td>\n",
       "      <td>0.285165</td>\n",
       "      <td>0.585307</td>\n",
       "      <td>0.592347</td>\n",
       "    </tr>\n",
       "    <tr>\n",
       "      <th>100002_raw-Energy</th>\n",
       "      <td>-0.508508</td>\n",
       "      <td>0.514427</td>\n",
       "      <td>-0.792865</td>\n",
       "      <td>-0.091775</td>\n",
       "      <td>-0.013409</td>\n",
       "      <td>0.194047</td>\n",
       "      <td>1.353713</td>\n",
       "      <td>0.117286</td>\n",
       "      <td>-0.323516</td>\n",
       "      <td>-1.641116</td>\n",
       "      <td>...</td>\n",
       "      <td>-0.038535</td>\n",
       "      <td>-1.139394</td>\n",
       "      <td>-0.951591</td>\n",
       "      <td>1.197872</td>\n",
       "      <td>0.893819</td>\n",
       "      <td>-0.820655</td>\n",
       "      <td>0.928634</td>\n",
       "      <td>-0.716778</td>\n",
       "      <td>-0.085735</td>\n",
       "      <td>-1.208965</td>\n",
       "    </tr>\n",
       "    <tr>\n",
       "      <th>100003_raw-Protein</th>\n",
       "      <td>-0.284597</td>\n",
       "      <td>-0.325076</td>\n",
       "      <td>-1.412980</td>\n",
       "      <td>1.255510</td>\n",
       "      <td>0.343603</td>\n",
       "      <td>-2.471878</td>\n",
       "      <td>-0.149640</td>\n",
       "      <td>-0.715178</td>\n",
       "      <td>-0.548948</td>\n",
       "      <td>1.210352</td>\n",
       "      <td>...</td>\n",
       "      <td>1.006094</td>\n",
       "      <td>0.595064</td>\n",
       "      <td>1.774559</td>\n",
       "      <td>-0.335165</td>\n",
       "      <td>0.394177</td>\n",
       "      <td>-0.188345</td>\n",
       "      <td>-1.864716</td>\n",
       "      <td>-0.124875</td>\n",
       "      <td>1.253625</td>\n",
       "      <td>0.804944</td>\n",
       "    </tr>\n",
       "    <tr>\n",
       "      <th>100004_raw-Fat</th>\n",
       "      <td>-0.427503</td>\n",
       "      <td>-0.096524</td>\n",
       "      <td>-0.348654</td>\n",
       "      <td>-1.250087</td>\n",
       "      <td>-0.253145</td>\n",
       "      <td>-0.236606</td>\n",
       "      <td>-0.600627</td>\n",
       "      <td>0.277239</td>\n",
       "      <td>-0.844748</td>\n",
       "      <td>-0.998437</td>\n",
       "      <td>...</td>\n",
       "      <td>0.249993</td>\n",
       "      <td>-1.520660</td>\n",
       "      <td>0.037241</td>\n",
       "      <td>0.514992</td>\n",
       "      <td>0.512538</td>\n",
       "      <td>-1.083619</td>\n",
       "      <td>0.310643</td>\n",
       "      <td>-1.719033</td>\n",
       "      <td>-0.970770</td>\n",
       "      <td>-2.628077</td>\n",
       "    </tr>\n",
       "    <tr>\n",
       "      <th>100005_raw-Carbohydrate</th>\n",
       "      <td>-1.502621</td>\n",
       "      <td>-1.083034</td>\n",
       "      <td>0.531159</td>\n",
       "      <td>0.332981</td>\n",
       "      <td>-1.240640</td>\n",
       "      <td>-0.852565</td>\n",
       "      <td>-0.003171</td>\n",
       "      <td>0.561912</td>\n",
       "      <td>-0.772413</td>\n",
       "      <td>-0.372739</td>\n",
       "      <td>...</td>\n",
       "      <td>-0.577730</td>\n",
       "      <td>-1.163380</td>\n",
       "      <td>0.000251</td>\n",
       "      <td>-0.345607</td>\n",
       "      <td>-1.610004</td>\n",
       "      <td>0.194078</td>\n",
       "      <td>0.605594</td>\n",
       "      <td>1.182825</td>\n",
       "      <td>-1.567705</td>\n",
       "      <td>-0.011902</td>\n",
       "    </tr>\n",
       "  </tbody>\n",
       "</table>\n",
       "<p>5 rows × 987 columns</p>\n",
       "</div>"
      ],
      "text/plain": [
       "                              LV1       LV2       LV3       LV4       LV5  \\\n",
       "100001_raw-Food_weight  -2.408007 -1.745911  1.383013  0.158718 -0.240933   \n",
       "100002_raw-Energy       -0.508508  0.514427 -0.792865 -0.091775 -0.013409   \n",
       "100003_raw-Protein      -0.284597 -0.325076 -1.412980  1.255510  0.343603   \n",
       "100004_raw-Fat          -0.427503 -0.096524 -0.348654 -1.250087 -0.253145   \n",
       "100005_raw-Carbohydrate -1.502621 -1.083034  0.531159  0.332981 -1.240640   \n",
       "\n",
       "                              LV6       LV7       LV8       LV9      LV10  \\\n",
       "100001_raw-Food_weight  -0.304911  1.823117 -0.716278 -1.769346 -0.043794   \n",
       "100002_raw-Energy        0.194047  1.353713  0.117286 -0.323516 -1.641116   \n",
       "100003_raw-Protein      -2.471878 -0.149640 -0.715178 -0.548948  1.210352   \n",
       "100004_raw-Fat          -0.236606 -0.600627  0.277239 -0.844748 -0.998437   \n",
       "100005_raw-Carbohydrate -0.852565 -0.003171  0.561912 -0.772413 -0.372739   \n",
       "\n",
       "                         ...     LV978     LV979     LV980     LV981  \\\n",
       "100001_raw-Food_weight   ...  0.399227  0.849885 -0.593292  0.636568   \n",
       "100002_raw-Energy        ... -0.038535 -1.139394 -0.951591  1.197872   \n",
       "100003_raw-Protein       ...  1.006094  0.595064  1.774559 -0.335165   \n",
       "100004_raw-Fat           ...  0.249993 -1.520660  0.037241  0.514992   \n",
       "100005_raw-Carbohydrate  ... -0.577730 -1.163380  0.000251 -0.345607   \n",
       "\n",
       "                            LV982     LV983     LV984     LV985     LV986  \\\n",
       "100001_raw-Food_weight   0.409726 -0.871713  1.638770  0.285165  0.585307   \n",
       "100002_raw-Energy        0.893819 -0.820655  0.928634 -0.716778 -0.085735   \n",
       "100003_raw-Protein       0.394177 -0.188345 -1.864716 -0.124875  1.253625   \n",
       "100004_raw-Fat           0.512538 -1.083619  0.310643 -1.719033 -0.970770   \n",
       "100005_raw-Carbohydrate -1.610004  0.194078  0.605594  1.182825 -1.567705   \n",
       "\n",
       "                            LV987  \n",
       "100001_raw-Food_weight   0.592347  \n",
       "100002_raw-Energy       -1.208965  \n",
       "100003_raw-Protein       0.804944  \n",
       "100004_raw-Fat          -2.628077  \n",
       "100005_raw-Carbohydrate -0.011902  \n",
       "\n",
       "[5 rows x 987 columns]"
      ]
     },
     "execution_count": 20,
     "metadata": {},
     "output_type": "execute_result"
    }
   ],
   "source": [
    "data.head()"
   ]
  },
  {
   "cell_type": "code",
   "execution_count": 21,
   "id": "5ee9a303",
   "metadata": {
    "execution": {
     "iopub.execute_input": "2022-09-11T20:44:46.320230Z",
     "iopub.status.busy": "2022-09-11T20:44:46.320040Z",
     "iopub.status.idle": "2022-09-11T20:44:46.344449Z",
     "shell.execute_reply": "2022-09-11T20:44:46.343776Z"
    },
    "papermill": {
     "duration": 0.034422,
     "end_time": "2022-09-11T20:44:46.345922",
     "exception": false,
     "start_time": "2022-09-11T20:44:46.311500",
     "status": "completed"
    },
    "tags": []
   },
   "outputs": [],
   "source": [
    "assert not data.isna().any().any()"
   ]
  },
  {
   "cell_type": "markdown",
   "id": "93d26b49",
   "metadata": {
    "papermill": {
     "duration": 0.008324,
     "end_time": "2022-09-11T20:44:46.362819",
     "exception": false,
     "start_time": "2022-09-11T20:44:46.354495",
     "status": "completed"
    },
    "tags": []
   },
   "source": [
    "# Clustering"
   ]
  },
  {
   "cell_type": "markdown",
   "id": "ffaba945",
   "metadata": {
    "papermill": {
     "duration": 0.007509,
     "end_time": "2022-09-11T20:44:46.378241",
     "exception": false,
     "start_time": "2022-09-11T20:44:46.370732",
     "status": "completed"
    },
    "tags": []
   },
   "source": [
    "## Generate ensemble"
   ]
  },
  {
   "cell_type": "code",
   "execution_count": 22,
   "id": "2343113e",
   "metadata": {
    "execution": {
     "iopub.execute_input": "2022-09-11T20:44:46.395509Z",
     "iopub.status.busy": "2022-09-11T20:44:46.394982Z",
     "iopub.status.idle": "2022-09-11T20:44:46.417086Z",
     "shell.execute_reply": "2022-09-11T20:44:46.416412Z"
    },
    "papermill": {
     "duration": 0.031901,
     "end_time": "2022-09-11T20:44:46.418524",
     "exception": false,
     "start_time": "2022-09-11T20:44:46.386623",
     "status": "completed"
    },
    "tags": []
   },
   "outputs": [],
   "source": [
    "from clustering.ensembles.utils import generate_ensemble"
   ]
  },
  {
   "cell_type": "code",
   "execution_count": 23,
   "id": "899ddf11",
   "metadata": {
    "execution": {
     "iopub.execute_input": "2022-09-11T20:44:46.435541Z",
     "iopub.status.busy": "2022-09-11T20:44:46.435270Z",
     "iopub.status.idle": "2022-09-11T21:01:33.260240Z",
     "shell.execute_reply": "2022-09-11T21:01:33.259657Z"
    },
    "papermill": {
     "duration": 1006.834837,
     "end_time": "2022-09-11T21:01:33.261511",
     "exception": false,
     "start_time": "2022-09-11T20:44:46.426674",
     "status": "completed"
    },
    "tags": []
   },
   "outputs": [
    {
     "name": "stderr",
     "output_type": "stream",
     "text": [
      "100%|██████████| 295/295 [16:46<00:00,  3.41s/it]\n"
     ]
    }
   ],
   "source": [
    "ensemble = generate_ensemble(\n",
    "    data,\n",
    "    CLUSTERERS,\n",
    "    attributes=CLUSTERING_ATTRIBUTES_TO_SAVE,\n",
    ")"
   ]
  },
  {
   "cell_type": "code",
   "execution_count": 24,
   "id": "f04eae96",
   "metadata": {
    "execution": {
     "iopub.execute_input": "2022-09-11T21:01:33.297130Z",
     "iopub.status.busy": "2022-09-11T21:01:33.296592Z",
     "iopub.status.idle": "2022-09-11T21:01:33.314722Z",
     "shell.execute_reply": "2022-09-11T21:01:33.314284Z"
    },
    "papermill": {
     "duration": 0.037048,
     "end_time": "2022-09-11T21:01:33.316012",
     "exception": false,
     "start_time": "2022-09-11T21:01:33.278964",
     "status": "completed"
    },
    "tags": []
   },
   "outputs": [
    {
     "data": {
      "text/plain": [
       "(295, 3)"
      ]
     },
     "execution_count": 24,
     "metadata": {},
     "output_type": "execute_result"
    }
   ],
   "source": [
    "# the number should be close to 295 (the number of partitions generated by k-means/spectral clustering)\n",
    "ensemble.shape"
   ]
  },
  {
   "cell_type": "code",
   "execution_count": 25,
   "id": "4f54d2fc",
   "metadata": {
    "execution": {
     "iopub.execute_input": "2022-09-11T21:01:33.351431Z",
     "iopub.status.busy": "2022-09-11T21:01:33.351172Z",
     "iopub.status.idle": "2022-09-11T21:01:33.377346Z",
     "shell.execute_reply": "2022-09-11T21:01:33.376729Z"
    },
    "papermill": {
     "duration": 0.044862,
     "end_time": "2022-09-11T21:01:33.378609",
     "exception": false,
     "start_time": "2022-09-11T21:01:33.333747",
     "status": "completed"
    },
    "tags": []
   },
   "outputs": [
    {
     "data": {
      "text/html": [
       "<div>\n",
       "<style scoped>\n",
       "    .dataframe tbody tr th:only-of-type {\n",
       "        vertical-align: middle;\n",
       "    }\n",
       "\n",
       "    .dataframe tbody tr th {\n",
       "        vertical-align: top;\n",
       "    }\n",
       "\n",
       "    .dataframe thead th {\n",
       "        text-align: right;\n",
       "    }\n",
       "</style>\n",
       "<table border=\"1\" class=\"dataframe\">\n",
       "  <thead>\n",
       "    <tr style=\"text-align: right;\">\n",
       "      <th></th>\n",
       "      <th>clusterer_params</th>\n",
       "      <th>partition</th>\n",
       "      <th>n_clusters</th>\n",
       "    </tr>\n",
       "    <tr>\n",
       "      <th>clusterer_id</th>\n",
       "      <th></th>\n",
       "      <th></th>\n",
       "      <th></th>\n",
       "    </tr>\n",
       "  </thead>\n",
       "  <tbody>\n",
       "    <tr>\n",
       "      <th>KMeans #0</th>\n",
       "      <td>{'algorithm': 'auto', 'copy_x': True, 'init': ...</td>\n",
       "      <td>[0.0, 0.0, 1.0, 1.0, 1.0, 0.0, 0.0, 1.0, 1.0, ...</td>\n",
       "      <td>2</td>\n",
       "    </tr>\n",
       "    <tr>\n",
       "      <th>KMeans #1</th>\n",
       "      <td>{'algorithm': 'auto', 'copy_x': True, 'init': ...</td>\n",
       "      <td>[0.0, 1.0, 1.0, 0.0, 0.0, 1.0, 1.0, 0.0, 0.0, ...</td>\n",
       "      <td>2</td>\n",
       "    </tr>\n",
       "    <tr>\n",
       "      <th>KMeans #2</th>\n",
       "      <td>{'algorithm': 'auto', 'copy_x': True, 'init': ...</td>\n",
       "      <td>[0.0, 0.0, 0.0, 1.0, 1.0, 0.0, 0.0, 1.0, 0.0, ...</td>\n",
       "      <td>2</td>\n",
       "    </tr>\n",
       "    <tr>\n",
       "      <th>KMeans #3</th>\n",
       "      <td>{'algorithm': 'auto', 'copy_x': True, 'init': ...</td>\n",
       "      <td>[0.0, 1.0, 0.0, 0.0, 0.0, 1.0, 1.0, 0.0, 1.0, ...</td>\n",
       "      <td>2</td>\n",
       "    </tr>\n",
       "    <tr>\n",
       "      <th>KMeans #4</th>\n",
       "      <td>{'algorithm': 'auto', 'copy_x': True, 'init': ...</td>\n",
       "      <td>[0.0, 1.0, 1.0, 0.0, 1.0, 1.0, 1.0, 1.0, 1.0, ...</td>\n",
       "      <td>2</td>\n",
       "    </tr>\n",
       "  </tbody>\n",
       "</table>\n",
       "</div>"
      ],
      "text/plain": [
       "                                               clusterer_params  \\\n",
       "clusterer_id                                                      \n",
       "KMeans #0     {'algorithm': 'auto', 'copy_x': True, 'init': ...   \n",
       "KMeans #1     {'algorithm': 'auto', 'copy_x': True, 'init': ...   \n",
       "KMeans #2     {'algorithm': 'auto', 'copy_x': True, 'init': ...   \n",
       "KMeans #3     {'algorithm': 'auto', 'copy_x': True, 'init': ...   \n",
       "KMeans #4     {'algorithm': 'auto', 'copy_x': True, 'init': ...   \n",
       "\n",
       "                                                      partition  n_clusters  \n",
       "clusterer_id                                                                 \n",
       "KMeans #0     [0.0, 0.0, 1.0, 1.0, 1.0, 0.0, 0.0, 1.0, 1.0, ...           2  \n",
       "KMeans #1     [0.0, 1.0, 1.0, 0.0, 0.0, 1.0, 1.0, 0.0, 0.0, ...           2  \n",
       "KMeans #2     [0.0, 0.0, 0.0, 1.0, 1.0, 0.0, 0.0, 1.0, 0.0, ...           2  \n",
       "KMeans #3     [0.0, 1.0, 0.0, 0.0, 0.0, 1.0, 1.0, 0.0, 1.0, ...           2  \n",
       "KMeans #4     [0.0, 1.0, 1.0, 0.0, 1.0, 1.0, 1.0, 1.0, 1.0, ...           2  "
      ]
     },
     "execution_count": 25,
     "metadata": {},
     "output_type": "execute_result"
    }
   ],
   "source": [
    "ensemble.head()"
   ]
  },
  {
   "cell_type": "code",
   "execution_count": 26,
   "id": "b03486bc",
   "metadata": {
    "execution": {
     "iopub.execute_input": "2022-09-11T21:01:33.414681Z",
     "iopub.status.busy": "2022-09-11T21:01:33.414477Z",
     "iopub.status.idle": "2022-09-11T21:01:33.434264Z",
     "shell.execute_reply": "2022-09-11T21:01:33.433853Z"
    },
    "papermill": {
     "duration": 0.039016,
     "end_time": "2022-09-11T21:01:33.435564",
     "exception": false,
     "start_time": "2022-09-11T21:01:33.396548",
     "status": "completed"
    },
    "tags": []
   },
   "outputs": [
    {
     "data": {
      "text/plain": [
       "60    5\n",
       "16    5\n",
       "28    5\n",
       "27    5\n",
       "26    5\n",
       "Name: n_clusters, dtype: int64"
      ]
     },
     "execution_count": 26,
     "metadata": {},
     "output_type": "execute_result"
    }
   ],
   "source": [
    "ensemble[\"n_clusters\"].value_counts().head()"
   ]
  },
  {
   "cell_type": "code",
   "execution_count": 27,
   "id": "acae8e2a",
   "metadata": {
    "execution": {
     "iopub.execute_input": "2022-09-11T21:01:33.472136Z",
     "iopub.status.busy": "2022-09-11T21:01:33.471687Z",
     "iopub.status.idle": "2022-09-11T21:01:33.493118Z",
     "shell.execute_reply": "2022-09-11T21:01:33.492680Z"
    },
    "papermill": {
     "duration": 0.040579,
     "end_time": "2022-09-11T21:01:33.494403",
     "exception": false,
     "start_time": "2022-09-11T21:01:33.453824",
     "status": "completed"
    },
    "tags": []
   },
   "outputs": [
    {
     "data": {
      "text/plain": [
       "count    295.000000\n",
       "mean      31.000000\n",
       "std       17.058323\n",
       "min        2.000000\n",
       "25%       16.000000\n",
       "50%       31.000000\n",
       "75%       46.000000\n",
       "max       60.000000\n",
       "Name: n_clusters, dtype: float64"
      ]
     },
     "metadata": {},
     "output_type": "display_data"
    }
   ],
   "source": [
    "ensemble_stats = ensemble[\"n_clusters\"].describe()\n",
    "display(ensemble_stats)"
   ]
  },
  {
   "cell_type": "markdown",
   "id": "6e19388b",
   "metadata": {
    "papermill": {
     "duration": 0.017934,
     "end_time": "2022-09-11T21:01:33.531019",
     "exception": false,
     "start_time": "2022-09-11T21:01:33.513085",
     "status": "completed"
    },
    "tags": []
   },
   "source": [
    "## Testing"
   ]
  },
  {
   "cell_type": "code",
   "execution_count": 28,
   "id": "bfc77e0e",
   "metadata": {
    "execution": {
     "iopub.execute_input": "2022-09-11T21:01:33.566680Z",
     "iopub.status.busy": "2022-09-11T21:01:33.566473Z",
     "iopub.status.idle": "2022-09-11T21:01:33.584474Z",
     "shell.execute_reply": "2022-09-11T21:01:33.583792Z"
    },
    "papermill": {
     "duration": 0.037387,
     "end_time": "2022-09-11T21:01:33.585869",
     "exception": false,
     "start_time": "2022-09-11T21:01:33.548482",
     "status": "completed"
    },
    "tags": []
   },
   "outputs": [],
   "source": [
    "assert ensemble_stats[\"min\"] > 1"
   ]
  },
  {
   "cell_type": "code",
   "execution_count": 29,
   "id": "9ab563a6",
   "metadata": {
    "execution": {
     "iopub.execute_input": "2022-09-11T21:01:33.622691Z",
     "iopub.status.busy": "2022-09-11T21:01:33.622492Z",
     "iopub.status.idle": "2022-09-11T21:01:33.640520Z",
     "shell.execute_reply": "2022-09-11T21:01:33.640009Z"
    },
    "papermill": {
     "duration": 0.037947,
     "end_time": "2022-09-11T21:01:33.641922",
     "exception": false,
     "start_time": "2022-09-11T21:01:33.603975",
     "status": "completed"
    },
    "tags": []
   },
   "outputs": [],
   "source": [
    "assert not ensemble[\"n_clusters\"].isna().any()"
   ]
  },
  {
   "cell_type": "code",
   "execution_count": 30,
   "id": "e6fba9fc",
   "metadata": {
    "execution": {
     "iopub.execute_input": "2022-09-11T21:01:33.679250Z",
     "iopub.status.busy": "2022-09-11T21:01:33.679067Z",
     "iopub.status.idle": "2022-09-11T21:01:33.697415Z",
     "shell.execute_reply": "2022-09-11T21:01:33.696948Z"
    },
    "papermill": {
     "duration": 0.037546,
     "end_time": "2022-09-11T21:01:33.698738",
     "exception": false,
     "start_time": "2022-09-11T21:01:33.661192",
     "status": "completed"
    },
    "tags": []
   },
   "outputs": [],
   "source": [
    "assert ensemble.shape[0] == len(CLUSTERERS)"
   ]
  },
  {
   "cell_type": "code",
   "execution_count": 31,
   "id": "215f06e4",
   "metadata": {
    "execution": {
     "iopub.execute_input": "2022-09-11T21:01:33.734926Z",
     "iopub.status.busy": "2022-09-11T21:01:33.734720Z",
     "iopub.status.idle": "2022-09-11T21:01:33.770215Z",
     "shell.execute_reply": "2022-09-11T21:01:33.769690Z"
    },
    "papermill": {
     "duration": 0.055044,
     "end_time": "2022-09-11T21:01:33.771913",
     "exception": false,
     "start_time": "2022-09-11T21:01:33.716869",
     "status": "completed"
    },
    "tags": []
   },
   "outputs": [],
   "source": [
    "# all partitions have the right size\n",
    "assert np.all(\n",
    "    [part[\"partition\"].shape[0] == data.shape[0] for idx, part in ensemble.iterrows()]\n",
    ")"
   ]
  },
  {
   "cell_type": "code",
   "execution_count": 32,
   "id": "e9ff921c",
   "metadata": {
    "execution": {
     "iopub.execute_input": "2022-09-11T21:01:33.807456Z",
     "iopub.status.busy": "2022-09-11T21:01:33.807230Z",
     "iopub.status.idle": "2022-09-11T21:01:33.845873Z",
     "shell.execute_reply": "2022-09-11T21:01:33.845353Z"
    },
    "papermill": {
     "duration": 0.058266,
     "end_time": "2022-09-11T21:01:33.847426",
     "exception": false,
     "start_time": "2022-09-11T21:01:33.789160",
     "status": "completed"
    },
    "tags": []
   },
   "outputs": [],
   "source": [
    "# no partition has negative clusters (noisy points)\n",
    "assert not np.any([(part[\"partition\"] < 0).any() for idx, part in ensemble.iterrows()])"
   ]
  },
  {
   "cell_type": "markdown",
   "id": "d8468470",
   "metadata": {
    "papermill": {
     "duration": 0.017551,
     "end_time": "2022-09-11T21:01:33.882752",
     "exception": false,
     "start_time": "2022-09-11T21:01:33.865201",
     "status": "completed"
    },
    "tags": []
   },
   "source": [
    "## Add clustering quality measures"
   ]
  },
  {
   "cell_type": "code",
   "execution_count": 33,
   "id": "b53f2c17",
   "metadata": {
    "execution": {
     "iopub.execute_input": "2022-09-11T21:01:33.918512Z",
     "iopub.status.busy": "2022-09-11T21:01:33.918303Z",
     "iopub.status.idle": "2022-09-11T21:01:33.935859Z",
     "shell.execute_reply": "2022-09-11T21:01:33.935321Z"
    },
    "papermill": {
     "duration": 0.037128,
     "end_time": "2022-09-11T21:01:33.937134",
     "exception": false,
     "start_time": "2022-09-11T21:01:33.900006",
     "status": "completed"
    },
    "tags": []
   },
   "outputs": [],
   "source": [
    "from sklearn.metrics import calinski_harabasz_score"
   ]
  },
  {
   "cell_type": "code",
   "execution_count": 34,
   "id": "1a17d7b7",
   "metadata": {
    "execution": {
     "iopub.execute_input": "2022-09-11T21:01:33.973831Z",
     "iopub.status.busy": "2022-09-11T21:01:33.973623Z",
     "iopub.status.idle": "2022-09-11T21:01:41.743993Z",
     "shell.execute_reply": "2022-09-11T21:01:41.743364Z"
    },
    "papermill": {
     "duration": 7.790088,
     "end_time": "2022-09-11T21:01:41.745556",
     "exception": false,
     "start_time": "2022-09-11T21:01:33.955468",
     "status": "completed"
    },
    "tags": []
   },
   "outputs": [],
   "source": [
    "ensemble = ensemble.assign(\n",
    "    ch_score=ensemble[\"partition\"].apply(lambda x: calinski_harabasz_score(data, x))\n",
    ")"
   ]
  },
  {
   "cell_type": "code",
   "execution_count": 35,
   "id": "52922d4b",
   "metadata": {
    "execution": {
     "iopub.execute_input": "2022-09-11T21:01:41.784838Z",
     "iopub.status.busy": "2022-09-11T21:01:41.784646Z",
     "iopub.status.idle": "2022-09-11T21:01:41.803521Z",
     "shell.execute_reply": "2022-09-11T21:01:41.802937Z"
    },
    "papermill": {
     "duration": 0.038917,
     "end_time": "2022-09-11T21:01:41.804812",
     "exception": false,
     "start_time": "2022-09-11T21:01:41.765895",
     "status": "completed"
    },
    "tags": []
   },
   "outputs": [
    {
     "data": {
      "text/plain": [
       "(295, 4)"
      ]
     },
     "execution_count": 35,
     "metadata": {},
     "output_type": "execute_result"
    }
   ],
   "source": [
    "ensemble.shape"
   ]
  },
  {
   "cell_type": "code",
   "execution_count": 36,
   "id": "4a8d48ac",
   "metadata": {
    "execution": {
     "iopub.execute_input": "2022-09-11T21:01:41.841487Z",
     "iopub.status.busy": "2022-09-11T21:01:41.841281Z",
     "iopub.status.idle": "2022-09-11T21:01:41.867306Z",
     "shell.execute_reply": "2022-09-11T21:01:41.866769Z"
    },
    "papermill": {
     "duration": 0.045596,
     "end_time": "2022-09-11T21:01:41.868571",
     "exception": false,
     "start_time": "2022-09-11T21:01:41.822975",
     "status": "completed"
    },
    "tags": []
   },
   "outputs": [
    {
     "data": {
      "text/html": [
       "<div>\n",
       "<style scoped>\n",
       "    .dataframe tbody tr th:only-of-type {\n",
       "        vertical-align: middle;\n",
       "    }\n",
       "\n",
       "    .dataframe tbody tr th {\n",
       "        vertical-align: top;\n",
       "    }\n",
       "\n",
       "    .dataframe thead th {\n",
       "        text-align: right;\n",
       "    }\n",
       "</style>\n",
       "<table border=\"1\" class=\"dataframe\">\n",
       "  <thead>\n",
       "    <tr style=\"text-align: right;\">\n",
       "      <th></th>\n",
       "      <th>clusterer_params</th>\n",
       "      <th>partition</th>\n",
       "      <th>n_clusters</th>\n",
       "      <th>ch_score</th>\n",
       "    </tr>\n",
       "    <tr>\n",
       "      <th>clusterer_id</th>\n",
       "      <th></th>\n",
       "      <th></th>\n",
       "      <th></th>\n",
       "      <th></th>\n",
       "    </tr>\n",
       "  </thead>\n",
       "  <tbody>\n",
       "    <tr>\n",
       "      <th>KMeans #0</th>\n",
       "      <td>{'algorithm': 'auto', 'copy_x': True, 'init': ...</td>\n",
       "      <td>[0.0, 0.0, 1.0, 1.0, 1.0, 0.0, 0.0, 1.0, 1.0, ...</td>\n",
       "      <td>2</td>\n",
       "      <td>5.522721</td>\n",
       "    </tr>\n",
       "    <tr>\n",
       "      <th>KMeans #1</th>\n",
       "      <td>{'algorithm': 'auto', 'copy_x': True, 'init': ...</td>\n",
       "      <td>[0.0, 1.0, 1.0, 0.0, 0.0, 1.0, 1.0, 0.0, 0.0, ...</td>\n",
       "      <td>2</td>\n",
       "      <td>5.543418</td>\n",
       "    </tr>\n",
       "    <tr>\n",
       "      <th>KMeans #2</th>\n",
       "      <td>{'algorithm': 'auto', 'copy_x': True, 'init': ...</td>\n",
       "      <td>[0.0, 0.0, 0.0, 1.0, 1.0, 0.0, 0.0, 1.0, 0.0, ...</td>\n",
       "      <td>2</td>\n",
       "      <td>5.648999</td>\n",
       "    </tr>\n",
       "    <tr>\n",
       "      <th>KMeans #3</th>\n",
       "      <td>{'algorithm': 'auto', 'copy_x': True, 'init': ...</td>\n",
       "      <td>[0.0, 1.0, 0.0, 0.0, 0.0, 1.0, 1.0, 0.0, 1.0, ...</td>\n",
       "      <td>2</td>\n",
       "      <td>5.503176</td>\n",
       "    </tr>\n",
       "    <tr>\n",
       "      <th>KMeans #4</th>\n",
       "      <td>{'algorithm': 'auto', 'copy_x': True, 'init': ...</td>\n",
       "      <td>[0.0, 1.0, 1.0, 0.0, 1.0, 1.0, 1.0, 1.0, 1.0, ...</td>\n",
       "      <td>2</td>\n",
       "      <td>5.478692</td>\n",
       "    </tr>\n",
       "  </tbody>\n",
       "</table>\n",
       "</div>"
      ],
      "text/plain": [
       "                                               clusterer_params  \\\n",
       "clusterer_id                                                      \n",
       "KMeans #0     {'algorithm': 'auto', 'copy_x': True, 'init': ...   \n",
       "KMeans #1     {'algorithm': 'auto', 'copy_x': True, 'init': ...   \n",
       "KMeans #2     {'algorithm': 'auto', 'copy_x': True, 'init': ...   \n",
       "KMeans #3     {'algorithm': 'auto', 'copy_x': True, 'init': ...   \n",
       "KMeans #4     {'algorithm': 'auto', 'copy_x': True, 'init': ...   \n",
       "\n",
       "                                                      partition  n_clusters  \\\n",
       "clusterer_id                                                                  \n",
       "KMeans #0     [0.0, 0.0, 1.0, 1.0, 1.0, 0.0, 0.0, 1.0, 1.0, ...           2   \n",
       "KMeans #1     [0.0, 1.0, 1.0, 0.0, 0.0, 1.0, 1.0, 0.0, 0.0, ...           2   \n",
       "KMeans #2     [0.0, 0.0, 0.0, 1.0, 1.0, 0.0, 0.0, 1.0, 0.0, ...           2   \n",
       "KMeans #3     [0.0, 1.0, 0.0, 0.0, 0.0, 1.0, 1.0, 0.0, 1.0, ...           2   \n",
       "KMeans #4     [0.0, 1.0, 1.0, 0.0, 1.0, 1.0, 1.0, 1.0, 1.0, ...           2   \n",
       "\n",
       "              ch_score  \n",
       "clusterer_id            \n",
       "KMeans #0     5.522721  \n",
       "KMeans #1     5.543418  \n",
       "KMeans #2     5.648999  \n",
       "KMeans #3     5.503176  \n",
       "KMeans #4     5.478692  "
      ]
     },
     "execution_count": 36,
     "metadata": {},
     "output_type": "execute_result"
    }
   ],
   "source": [
    "ensemble.head()"
   ]
  },
  {
   "cell_type": "markdown",
   "id": "442b5727",
   "metadata": {
    "papermill": {
     "duration": 0.017799,
     "end_time": "2022-09-11T21:01:41.905044",
     "exception": false,
     "start_time": "2022-09-11T21:01:41.887245",
     "status": "completed"
    },
    "tags": []
   },
   "source": [
    "## Save"
   ]
  },
  {
   "cell_type": "code",
   "execution_count": 37,
   "id": "eb9a43fc",
   "metadata": {
    "execution": {
     "iopub.execute_input": "2022-09-11T21:01:41.941313Z",
     "iopub.status.busy": "2022-09-11T21:01:41.941108Z",
     "iopub.status.idle": "2022-09-11T21:01:41.960742Z",
     "shell.execute_reply": "2022-09-11T21:01:41.960215Z"
    },
    "papermill": {
     "duration": 0.039243,
     "end_time": "2022-09-11T21:01:41.961947",
     "exception": false,
     "start_time": "2022-09-11T21:01:41.922704",
     "status": "completed"
    },
    "tags": []
   },
   "outputs": [
    {
     "data": {
      "text/plain": [
       "PosixPath('/opt/data/results/clustering/null_sims/runs/z_score_std-projection-smultixcan-efo_partial-mashr-zscores/KMeans-KMEANS_N_INIT_10-K_MAX_60-K_MIN_2-N_REPS_PER_K_5.pkl')"
      ]
     },
     "metadata": {},
     "output_type": "display_data"
    }
   ],
   "source": [
    "output_filename = Path(\n",
    "    RESULTS_DIR,\n",
    "    generate_result_set_name(\n",
    "        CLUSTERING_OPTIONS,\n",
    "        prefix=f\"{clustering_method_name}-\",\n",
    "        suffix=\".pkl\",\n",
    "    ),\n",
    ").resolve()\n",
    "display(output_filename)"
   ]
  },
  {
   "cell_type": "code",
   "execution_count": 38,
   "id": "cc452e68",
   "metadata": {
    "execution": {
     "iopub.execute_input": "2022-09-11T21:01:41.999000Z",
     "iopub.status.busy": "2022-09-11T21:01:41.998401Z",
     "iopub.status.idle": "2022-09-11T21:01:42.024504Z",
     "shell.execute_reply": "2022-09-11T21:01:42.024003Z"
    },
    "papermill": {
     "duration": 0.045911,
     "end_time": "2022-09-11T21:01:42.025918",
     "exception": false,
     "start_time": "2022-09-11T21:01:41.980007",
     "status": "completed"
    },
    "tags": []
   },
   "outputs": [],
   "source": [
    "ensemble.to_pickle(output_filename)"
   ]
  },
  {
   "cell_type": "markdown",
   "id": "0c21fea1",
   "metadata": {
    "papermill": {
     "duration": 0.018991,
     "end_time": "2022-09-11T21:01:42.064809",
     "exception": false,
     "start_time": "2022-09-11T21:01:42.045818",
     "status": "completed"
    },
    "tags": []
   },
   "source": [
    "# Cluster quality"
   ]
  },
  {
   "cell_type": "code",
   "execution_count": 39,
   "id": "48236231",
   "metadata": {
    "execution": {
     "iopub.execute_input": "2022-09-11T21:01:42.103698Z",
     "iopub.status.busy": "2022-09-11T21:01:42.103479Z",
     "iopub.status.idle": "2022-09-11T21:01:42.127798Z",
     "shell.execute_reply": "2022-09-11T21:01:42.127266Z"
    },
    "papermill": {
     "duration": 0.044726,
     "end_time": "2022-09-11T21:01:42.129074",
     "exception": false,
     "start_time": "2022-09-11T21:01:42.084348",
     "status": "completed"
    },
    "tags": []
   },
   "outputs": [
    {
     "data": {
      "text/html": [
       "<div>\n",
       "<style scoped>\n",
       "    .dataframe tbody tr th:only-of-type {\n",
       "        vertical-align: middle;\n",
       "    }\n",
       "\n",
       "    .dataframe tbody tr th {\n",
       "        vertical-align: top;\n",
       "    }\n",
       "\n",
       "    .dataframe thead th {\n",
       "        text-align: right;\n",
       "    }\n",
       "</style>\n",
       "<table border=\"1\" class=\"dataframe\">\n",
       "  <thead>\n",
       "    <tr style=\"text-align: right;\">\n",
       "      <th></th>\n",
       "      <th>ch_score</th>\n",
       "    </tr>\n",
       "    <tr>\n",
       "      <th>n_clusters</th>\n",
       "      <th></th>\n",
       "    </tr>\n",
       "  </thead>\n",
       "  <tbody>\n",
       "    <tr>\n",
       "      <th>2</th>\n",
       "      <td>5.539401</td>\n",
       "    </tr>\n",
       "    <tr>\n",
       "      <th>3</th>\n",
       "      <td>4.805684</td>\n",
       "    </tr>\n",
       "    <tr>\n",
       "      <th>4</th>\n",
       "      <td>4.348712</td>\n",
       "    </tr>\n",
       "    <tr>\n",
       "      <th>5</th>\n",
       "      <td>3.915325</td>\n",
       "    </tr>\n",
       "    <tr>\n",
       "      <th>6</th>\n",
       "      <td>3.604700</td>\n",
       "    </tr>\n",
       "    <tr>\n",
       "      <th>7</th>\n",
       "      <td>3.388169</td>\n",
       "    </tr>\n",
       "    <tr>\n",
       "      <th>8</th>\n",
       "      <td>3.140720</td>\n",
       "    </tr>\n",
       "    <tr>\n",
       "      <th>9</th>\n",
       "      <td>2.958463</td>\n",
       "    </tr>\n",
       "    <tr>\n",
       "      <th>10</th>\n",
       "      <td>2.795160</td>\n",
       "    </tr>\n",
       "    <tr>\n",
       "      <th>11</th>\n",
       "      <td>2.433458</td>\n",
       "    </tr>\n",
       "    <tr>\n",
       "      <th>12</th>\n",
       "      <td>2.649291</td>\n",
       "    </tr>\n",
       "    <tr>\n",
       "      <th>13</th>\n",
       "      <td>2.539953</td>\n",
       "    </tr>\n",
       "    <tr>\n",
       "      <th>14</th>\n",
       "      <td>2.279994</td>\n",
       "    </tr>\n",
       "    <tr>\n",
       "      <th>15</th>\n",
       "      <td>2.356872</td>\n",
       "    </tr>\n",
       "    <tr>\n",
       "      <th>16</th>\n",
       "      <td>2.259621</td>\n",
       "    </tr>\n",
       "    <tr>\n",
       "      <th>17</th>\n",
       "      <td>2.111241</td>\n",
       "    </tr>\n",
       "    <tr>\n",
       "      <th>18</th>\n",
       "      <td>2.153464</td>\n",
       "    </tr>\n",
       "    <tr>\n",
       "      <th>19</th>\n",
       "      <td>1.892787</td>\n",
       "    </tr>\n",
       "    <tr>\n",
       "      <th>20</th>\n",
       "      <td>1.827892</td>\n",
       "    </tr>\n",
       "    <tr>\n",
       "      <th>21</th>\n",
       "      <td>1.904655</td>\n",
       "    </tr>\n",
       "    <tr>\n",
       "      <th>22</th>\n",
       "      <td>1.841902</td>\n",
       "    </tr>\n",
       "    <tr>\n",
       "      <th>23</th>\n",
       "      <td>1.846271</td>\n",
       "    </tr>\n",
       "    <tr>\n",
       "      <th>24</th>\n",
       "      <td>1.797184</td>\n",
       "    </tr>\n",
       "    <tr>\n",
       "      <th>25</th>\n",
       "      <td>1.694009</td>\n",
       "    </tr>\n",
       "    <tr>\n",
       "      <th>26</th>\n",
       "      <td>1.803134</td>\n",
       "    </tr>\n",
       "    <tr>\n",
       "      <th>27</th>\n",
       "      <td>1.743750</td>\n",
       "    </tr>\n",
       "    <tr>\n",
       "      <th>28</th>\n",
       "      <td>1.785322</td>\n",
       "    </tr>\n",
       "    <tr>\n",
       "      <th>29</th>\n",
       "      <td>1.801577</td>\n",
       "    </tr>\n",
       "    <tr>\n",
       "      <th>30</th>\n",
       "      <td>1.553328</td>\n",
       "    </tr>\n",
       "    <tr>\n",
       "      <th>31</th>\n",
       "      <td>1.653801</td>\n",
       "    </tr>\n",
       "    <tr>\n",
       "      <th>32</th>\n",
       "      <td>1.596692</td>\n",
       "    </tr>\n",
       "    <tr>\n",
       "      <th>33</th>\n",
       "      <td>1.685046</td>\n",
       "    </tr>\n",
       "    <tr>\n",
       "      <th>34</th>\n",
       "      <td>1.630540</td>\n",
       "    </tr>\n",
       "    <tr>\n",
       "      <th>35</th>\n",
       "      <td>1.596878</td>\n",
       "    </tr>\n",
       "    <tr>\n",
       "      <th>36</th>\n",
       "      <td>1.595915</td>\n",
       "    </tr>\n",
       "    <tr>\n",
       "      <th>37</th>\n",
       "      <td>1.625678</td>\n",
       "    </tr>\n",
       "    <tr>\n",
       "      <th>38</th>\n",
       "      <td>1.570203</td>\n",
       "    </tr>\n",
       "    <tr>\n",
       "      <th>39</th>\n",
       "      <td>1.607962</td>\n",
       "    </tr>\n",
       "    <tr>\n",
       "      <th>40</th>\n",
       "      <td>1.615240</td>\n",
       "    </tr>\n",
       "    <tr>\n",
       "      <th>41</th>\n",
       "      <td>1.669465</td>\n",
       "    </tr>\n",
       "    <tr>\n",
       "      <th>42</th>\n",
       "      <td>1.584341</td>\n",
       "    </tr>\n",
       "    <tr>\n",
       "      <th>43</th>\n",
       "      <td>1.594074</td>\n",
       "    </tr>\n",
       "    <tr>\n",
       "      <th>44</th>\n",
       "      <td>1.569645</td>\n",
       "    </tr>\n",
       "    <tr>\n",
       "      <th>45</th>\n",
       "      <td>1.631369</td>\n",
       "    </tr>\n",
       "    <tr>\n",
       "      <th>46</th>\n",
       "      <td>1.533425</td>\n",
       "    </tr>\n",
       "    <tr>\n",
       "      <th>47</th>\n",
       "      <td>1.577638</td>\n",
       "    </tr>\n",
       "    <tr>\n",
       "      <th>48</th>\n",
       "      <td>1.597666</td>\n",
       "    </tr>\n",
       "    <tr>\n",
       "      <th>49</th>\n",
       "      <td>1.555227</td>\n",
       "    </tr>\n",
       "    <tr>\n",
       "      <th>50</th>\n",
       "      <td>1.533257</td>\n",
       "    </tr>\n",
       "    <tr>\n",
       "      <th>51</th>\n",
       "      <td>1.519895</td>\n",
       "    </tr>\n",
       "    <tr>\n",
       "      <th>52</th>\n",
       "      <td>1.526594</td>\n",
       "    </tr>\n",
       "    <tr>\n",
       "      <th>53</th>\n",
       "      <td>1.565408</td>\n",
       "    </tr>\n",
       "    <tr>\n",
       "      <th>54</th>\n",
       "      <td>1.544978</td>\n",
       "    </tr>\n",
       "    <tr>\n",
       "      <th>55</th>\n",
       "      <td>1.581472</td>\n",
       "    </tr>\n",
       "    <tr>\n",
       "      <th>56</th>\n",
       "      <td>1.609632</td>\n",
       "    </tr>\n",
       "    <tr>\n",
       "      <th>57</th>\n",
       "      <td>1.584283</td>\n",
       "    </tr>\n",
       "    <tr>\n",
       "      <th>58</th>\n",
       "      <td>1.544288</td>\n",
       "    </tr>\n",
       "    <tr>\n",
       "      <th>59</th>\n",
       "      <td>1.611463</td>\n",
       "    </tr>\n",
       "    <tr>\n",
       "      <th>60</th>\n",
       "      <td>1.576285</td>\n",
       "    </tr>\n",
       "  </tbody>\n",
       "</table>\n",
       "</div>"
      ],
      "text/plain": [
       "            ch_score\n",
       "n_clusters          \n",
       "2           5.539401\n",
       "3           4.805684\n",
       "4           4.348712\n",
       "5           3.915325\n",
       "6           3.604700\n",
       "7           3.388169\n",
       "8           3.140720\n",
       "9           2.958463\n",
       "10          2.795160\n",
       "11          2.433458\n",
       "12          2.649291\n",
       "13          2.539953\n",
       "14          2.279994\n",
       "15          2.356872\n",
       "16          2.259621\n",
       "17          2.111241\n",
       "18          2.153464\n",
       "19          1.892787\n",
       "20          1.827892\n",
       "21          1.904655\n",
       "22          1.841902\n",
       "23          1.846271\n",
       "24          1.797184\n",
       "25          1.694009\n",
       "26          1.803134\n",
       "27          1.743750\n",
       "28          1.785322\n",
       "29          1.801577\n",
       "30          1.553328\n",
       "31          1.653801\n",
       "32          1.596692\n",
       "33          1.685046\n",
       "34          1.630540\n",
       "35          1.596878\n",
       "36          1.595915\n",
       "37          1.625678\n",
       "38          1.570203\n",
       "39          1.607962\n",
       "40          1.615240\n",
       "41          1.669465\n",
       "42          1.584341\n",
       "43          1.594074\n",
       "44          1.569645\n",
       "45          1.631369\n",
       "46          1.533425\n",
       "47          1.577638\n",
       "48          1.597666\n",
       "49          1.555227\n",
       "50          1.533257\n",
       "51          1.519895\n",
       "52          1.526594\n",
       "53          1.565408\n",
       "54          1.544978\n",
       "55          1.581472\n",
       "56          1.609632\n",
       "57          1.584283\n",
       "58          1.544288\n",
       "59          1.611463\n",
       "60          1.576285"
      ]
     },
     "metadata": {},
     "output_type": "display_data"
    }
   ],
   "source": [
    "with pd.option_context(\"display.max_rows\", None, \"display.max_columns\", None):\n",
    "    _df = ensemble.groupby([\"n_clusters\"]).mean()\n",
    "    display(_df)"
   ]
  },
  {
   "cell_type": "code",
   "execution_count": 40,
   "id": "ff408360",
   "metadata": {
    "execution": {
     "iopub.execute_input": "2022-09-11T21:01:42.168416Z",
     "iopub.status.busy": "2022-09-11T21:01:42.168208Z",
     "iopub.status.idle": "2022-09-11T21:01:45.269276Z",
     "shell.execute_reply": "2022-09-11T21:01:45.268728Z"
    },
    "papermill": {
     "duration": 3.130539,
     "end_time": "2022-09-11T21:01:45.279540",
     "exception": false,
     "start_time": "2022-09-11T21:01:42.149001",
     "status": "completed"
    },
    "tags": []
   },
   "outputs": [
    {
     "data": {
      "image/png": "[encoded data removed]",
      "text/plain": [
       "<Figure size 1008x432 with 1 Axes>"
      ]
     },
     "metadata": {},
     "output_type": "display_data"
    }
   ],
   "source": [
    "with sns.plotting_context(\"talk\", font_scale=0.75), sns.axes_style(\n",
    "    \"whitegrid\", {\"grid.linestyle\": \"--\"}\n",
    "):\n",
    "    fig = plt.figure(figsize=(14, 6))\n",
    "    ax = sns.pointplot(data=ensemble, x=\"n_clusters\", y=\"ch_score\")\n",
    "    ax.set_ylabel(\"Calinski-Harabasz index\")\n",
    "    ax.set_xlabel(\"Number of clusters ($k$)\")\n",
    "    ax.set_xticklabels(ax.get_xticklabels(), rotation=45)\n",
    "    plt.grid(True)\n",
    "    plt.tight_layout()"
   ]
  },
  {
   "cell_type": "markdown",
   "id": "73ff0803",
   "metadata": {
    "papermill": {
     "duration": 0.018185,
     "end_time": "2022-09-11T21:01:45.317660",
     "exception": false,
     "start_time": "2022-09-11T21:01:45.299475",
     "status": "completed"
    },
    "tags": []
   },
   "source": [
    "# Stability"
   ]
  },
  {
   "cell_type": "markdown",
   "id": "a5be8ae2",
   "metadata": {
    "papermill": {
     "duration": 0.026909,
     "end_time": "2022-09-11T21:01:45.363473",
     "exception": false,
     "start_time": "2022-09-11T21:01:45.336564",
     "status": "completed"
    },
    "tags": []
   },
   "source": [
    "## Group ensemble by n_clusters"
   ]
  },
  {
   "cell_type": "code",
   "execution_count": 41,
   "id": "a6c3df9b",
   "metadata": {
    "execution": {
     "iopub.execute_input": "2022-09-11T21:01:45.408315Z",
     "iopub.status.busy": "2022-09-11T21:01:45.408122Z",
     "iopub.status.idle": "2022-09-11T21:01:45.440922Z",
     "shell.execute_reply": "2022-09-11T21:01:45.440231Z"
    },
    "papermill": {
     "duration": 0.054183,
     "end_time": "2022-09-11T21:01:45.442387",
     "exception": false,
     "start_time": "2022-09-11T21:01:45.388204",
     "status": "completed"
    },
    "tags": []
   },
   "outputs": [],
   "source": [
    "parts = ensemble.groupby(\"n_clusters\").apply(\n",
    "    lambda x: np.concatenate(x[\"partition\"].apply(lambda x: x.reshape(1, -1)), axis=0)\n",
    ")"
   ]
  },
  {
   "cell_type": "code",
   "execution_count": 42,
   "id": "2a394747",
   "metadata": {
    "execution": {
     "iopub.execute_input": "2022-09-11T21:01:45.481799Z",
     "iopub.status.busy": "2022-09-11T21:01:45.481590Z",
     "iopub.status.idle": "2022-09-11T21:01:45.512167Z",
     "shell.execute_reply": "2022-09-11T21:01:45.511587Z"
    },
    "papermill": {
     "duration": 0.051151,
     "end_time": "2022-09-11T21:01:45.513372",
     "exception": false,
     "start_time": "2022-09-11T21:01:45.462221",
     "status": "completed"
    },
    "tags": []
   },
   "outputs": [
    {
     "data": {
      "text/plain": [
       "n_clusters\n",
       "2    [[0.0, 0.0, 1.0, 1.0, 1.0, 0.0, 0.0, 1.0, 1.0,...\n",
       "3    [[1.0, 1.0, 0.0, 0.0, 1.0, 2.0, 1.0, 1.0, 0.0,...\n",
       "4    [[3.0, 0.0, 2.0, 0.0, 0.0, 0.0, 3.0, 2.0, 2.0,...\n",
       "5    [[4.0, 0.0, 1.0, 4.0, 2.0, 1.0, 3.0, 0.0, 2.0,...\n",
       "6    [[5.0, 2.0, 2.0, 0.0, 0.0, 5.0, 0.0, 5.0, 5.0,...\n",
       "dtype: object"
      ]
     },
     "execution_count": 42,
     "metadata": {},
     "output_type": "execute_result"
    }
   ],
   "source": [
    "parts.head()"
   ]
  },
  {
   "cell_type": "code",
   "execution_count": 43,
   "id": "a5ab1871",
   "metadata": {
    "execution": {
     "iopub.execute_input": "2022-09-11T21:01:45.552411Z",
     "iopub.status.busy": "2022-09-11T21:01:45.552205Z",
     "iopub.status.idle": "2022-09-11T21:01:45.571407Z",
     "shell.execute_reply": "2022-09-11T21:01:45.570944Z"
    },
    "papermill": {
     "duration": 0.040199,
     "end_time": "2022-09-11T21:01:45.572769",
     "exception": false,
     "start_time": "2022-09-11T21:01:45.532570",
     "status": "completed"
    },
    "tags": []
   },
   "outputs": [],
   "source": [
    "assert np.all(\n",
    "    [\n",
    "        parts.loc[k].shape == (CLUSTERING_OPTIONS[\"N_REPS_PER_K\"], data.shape[0])\n",
    "        for k in parts.index\n",
    "    ]\n",
    ")"
   ]
  },
  {
   "cell_type": "markdown",
   "id": "016ca2f8",
   "metadata": {
    "papermill": {
     "duration": 0.018906,
     "end_time": "2022-09-11T21:01:45.611425",
     "exception": false,
     "start_time": "2022-09-11T21:01:45.592519",
     "status": "completed"
    },
    "tags": []
   },
   "source": [
    "## Compute stability"
   ]
  },
  {
   "cell_type": "code",
   "execution_count": 44,
   "id": "998827ed",
   "metadata": {
    "execution": {
     "iopub.execute_input": "2022-09-11T21:01:45.649940Z",
     "iopub.status.busy": "2022-09-11T21:01:45.649731Z",
     "iopub.status.idle": "2022-09-11T21:01:45.668062Z",
     "shell.execute_reply": "2022-09-11T21:01:45.667335Z"
    },
    "papermill": {
     "duration": 0.03921,
     "end_time": "2022-09-11T21:01:45.669448",
     "exception": false,
     "start_time": "2022-09-11T21:01:45.630238",
     "status": "completed"
    },
    "tags": []
   },
   "outputs": [],
   "source": [
    "from sklearn.metrics import adjusted_rand_score as ari\n",
    "from scipy.spatial.distance import pdist"
   ]
  },
  {
   "cell_type": "code",
   "execution_count": 45,
   "id": "dac8f1ca",
   "metadata": {
    "execution": {
     "iopub.execute_input": "2022-09-11T21:01:45.708662Z",
     "iopub.status.busy": "2022-09-11T21:01:45.708453Z",
     "iopub.status.idle": "2022-09-11T21:01:46.357071Z",
     "shell.execute_reply": "2022-09-11T21:01:46.356477Z"
    },
    "papermill": {
     "duration": 0.669541,
     "end_time": "2022-09-11T21:01:46.358571",
     "exception": false,
     "start_time": "2022-09-11T21:01:45.689030",
     "status": "completed"
    },
    "tags": []
   },
   "outputs": [],
   "source": [
    "parts_ari = pd.Series(\n",
    "    {k: pdist(parts.loc[k], metric=ari) for k in parts.index}, name=\"k\"\n",
    ")"
   ]
  },
  {
   "cell_type": "code",
   "execution_count": 46,
   "id": "84419a75",
   "metadata": {
    "execution": {
     "iopub.execute_input": "2022-09-11T21:01:46.397495Z",
     "iopub.status.busy": "2022-09-11T21:01:46.397288Z",
     "iopub.status.idle": "2022-09-11T21:01:46.417684Z",
     "shell.execute_reply": "2022-09-11T21:01:46.417223Z"
    },
    "papermill": {
     "duration": 0.041061,
     "end_time": "2022-09-11T21:01:46.418901",
     "exception": false,
     "start_time": "2022-09-11T21:01:46.377840",
     "status": "completed"
    },
    "tags": []
   },
   "outputs": [
    {
     "data": {
      "text/plain": [
       "45    0.020830\n",
       "52    0.020179\n",
       "47    0.015444\n",
       "58    0.013875\n",
       "25    0.012781\n",
       "48    0.012345\n",
       "54    0.010744\n",
       "15    0.010417\n",
       "44    0.009578\n",
       "55    0.009397\n",
       "33    0.008738\n",
       "36    0.008384\n",
       "49    0.008133\n",
       "46    0.008035\n",
       "23    0.007828\n",
       "Name: k, dtype: float64"
      ]
     },
     "metadata": {},
     "output_type": "display_data"
    }
   ],
   "source": [
    "parts_ari_stability = parts_ari.apply(lambda x: x.mean())\n",
    "display(parts_ari_stability.sort_values(ascending=False).head(15))"
   ]
  },
  {
   "cell_type": "code",
   "execution_count": 47,
   "id": "47858bf6",
   "metadata": {
    "execution": {
     "iopub.execute_input": "2022-09-11T21:01:46.459327Z",
     "iopub.status.busy": "2022-09-11T21:01:46.458592Z",
     "iopub.status.idle": "2022-09-11T21:01:46.477453Z",
     "shell.execute_reply": "2022-09-11T21:01:46.476938Z"
    },
    "papermill": {
     "duration": 0.039904,
     "end_time": "2022-09-11T21:01:46.478804",
     "exception": false,
     "start_time": "2022-09-11T21:01:46.438900",
     "status": "completed"
    },
    "tags": []
   },
   "outputs": [],
   "source": [
    "parts_ari_df = pd.DataFrame.from_records(parts_ari.tolist()).set_index(\n",
    "    parts_ari.index.copy()\n",
    ")"
   ]
  },
  {
   "cell_type": "code",
   "execution_count": 48,
   "id": "ba200d26",
   "metadata": {
    "execution": {
     "iopub.execute_input": "2022-09-11T21:01:46.519561Z",
     "iopub.status.busy": "2022-09-11T21:01:46.519309Z",
     "iopub.status.idle": "2022-09-11T21:01:46.538345Z",
     "shell.execute_reply": "2022-09-11T21:01:46.537866Z"
    },
    "papermill": {
     "duration": 0.040646,
     "end_time": "2022-09-11T21:01:46.539619",
     "exception": false,
     "start_time": "2022-09-11T21:01:46.498973",
     "status": "completed"
    },
    "tags": []
   },
   "outputs": [
    {
     "data": {
      "text/plain": [
       "(59, 10)"
      ]
     },
     "execution_count": 48,
     "metadata": {},
     "output_type": "execute_result"
    }
   ],
   "source": [
    "parts_ari_df.shape"
   ]
  },
  {
   "cell_type": "code",
   "execution_count": 49,
   "id": "d30a7b2f",
   "metadata": {
    "execution": {
     "iopub.execute_input": "2022-09-11T21:01:46.581298Z",
     "iopub.status.busy": "2022-09-11T21:01:46.581091Z",
     "iopub.status.idle": "2022-09-11T21:01:46.599548Z",
     "shell.execute_reply": "2022-09-11T21:01:46.598989Z"
    },
    "papermill": {
     "duration": 0.040472,
     "end_time": "2022-09-11T21:01:46.600931",
     "exception": false,
     "start_time": "2022-09-11T21:01:46.560459",
     "status": "completed"
    },
    "tags": []
   },
   "outputs": [],
   "source": [
    "assert (\n",
    "    int(\n",
    "        (CLUSTERING_OPTIONS[\"N_REPS_PER_K\"] * (CLUSTERING_OPTIONS[\"N_REPS_PER_K\"] - 1))\n",
    "        / 2\n",
    "    )\n",
    "    == parts_ari_df.shape[1]\n",
    ")"
   ]
  },
  {
   "cell_type": "code",
   "execution_count": 50,
   "id": "e8d17b33",
   "metadata": {
    "execution": {
     "iopub.execute_input": "2022-09-11T21:01:46.642283Z",
     "iopub.status.busy": "2022-09-11T21:01:46.642076Z",
     "iopub.status.idle": "2022-09-11T21:01:46.666818Z",
     "shell.execute_reply": "2022-09-11T21:01:46.666245Z"
    },
    "papermill": {
     "duration": 0.046316,
     "end_time": "2022-09-11T21:01:46.668048",
     "exception": false,
     "start_time": "2022-09-11T21:01:46.621732",
     "status": "completed"
    },
    "tags": []
   },
   "outputs": [
    {
     "data": {
      "text/html": [
       "<div>\n",
       "<style scoped>\n",
       "    .dataframe tbody tr th:only-of-type {\n",
       "        vertical-align: middle;\n",
       "    }\n",
       "\n",
       "    .dataframe tbody tr th {\n",
       "        vertical-align: top;\n",
       "    }\n",
       "\n",
       "    .dataframe thead th {\n",
       "        text-align: right;\n",
       "    }\n",
       "</style>\n",
       "<table border=\"1\" class=\"dataframe\">\n",
       "  <thead>\n",
       "    <tr style=\"text-align: right;\">\n",
       "      <th></th>\n",
       "      <th>0</th>\n",
       "      <th>1</th>\n",
       "      <th>2</th>\n",
       "      <th>3</th>\n",
       "      <th>4</th>\n",
       "      <th>5</th>\n",
       "      <th>6</th>\n",
       "      <th>7</th>\n",
       "      <th>8</th>\n",
       "      <th>9</th>\n",
       "    </tr>\n",
       "  </thead>\n",
       "  <tbody>\n",
       "    <tr>\n",
       "      <th>2</th>\n",
       "      <td>0.032741</td>\n",
       "      <td>0.024926</td>\n",
       "      <td>0.000265</td>\n",
       "      <td>-0.000304</td>\n",
       "      <td>-0.000503</td>\n",
       "      <td>0.003248</td>\n",
       "      <td>-0.000397</td>\n",
       "      <td>0.001737</td>\n",
       "      <td>0.004729</td>\n",
       "      <td>0.008789</td>\n",
       "    </tr>\n",
       "    <tr>\n",
       "      <th>3</th>\n",
       "      <td>0.005968</td>\n",
       "      <td>-0.000516</td>\n",
       "      <td>0.008970</td>\n",
       "      <td>0.003864</td>\n",
       "      <td>0.008951</td>\n",
       "      <td>0.008181</td>\n",
       "      <td>0.009740</td>\n",
       "      <td>0.001057</td>\n",
       "      <td>-0.000117</td>\n",
       "      <td>0.009255</td>\n",
       "    </tr>\n",
       "    <tr>\n",
       "      <th>4</th>\n",
       "      <td>0.006505</td>\n",
       "      <td>0.007198</td>\n",
       "      <td>0.002503</td>\n",
       "      <td>0.004006</td>\n",
       "      <td>0.001796</td>\n",
       "      <td>0.006499</td>\n",
       "      <td>0.003297</td>\n",
       "      <td>0.006263</td>\n",
       "      <td>0.002237</td>\n",
       "      <td>0.008726</td>\n",
       "    </tr>\n",
       "    <tr>\n",
       "      <th>5</th>\n",
       "      <td>0.005383</td>\n",
       "      <td>0.022783</td>\n",
       "      <td>0.003036</td>\n",
       "      <td>0.004971</td>\n",
       "      <td>0.005542</td>\n",
       "      <td>0.006965</td>\n",
       "      <td>0.003163</td>\n",
       "      <td>0.006563</td>\n",
       "      <td>0.005212</td>\n",
       "      <td>0.001480</td>\n",
       "    </tr>\n",
       "    <tr>\n",
       "      <th>6</th>\n",
       "      <td>0.005440</td>\n",
       "      <td>0.003493</td>\n",
       "      <td>0.003661</td>\n",
       "      <td>0.008507</td>\n",
       "      <td>0.003592</td>\n",
       "      <td>0.002984</td>\n",
       "      <td>0.003591</td>\n",
       "      <td>0.004391</td>\n",
       "      <td>0.001128</td>\n",
       "      <td>0.002698</td>\n",
       "    </tr>\n",
       "  </tbody>\n",
       "</table>\n",
       "</div>"
      ],
      "text/plain": [
       "          0         1         2         3         4         5         6  \\\n",
       "2  0.032741  0.024926  0.000265 -0.000304 -0.000503  0.003248 -0.000397   \n",
       "3  0.005968 -0.000516  0.008970  0.003864  0.008951  0.008181  0.009740   \n",
       "4  0.006505  0.007198  0.002503  0.004006  0.001796  0.006499  0.003297   \n",
       "5  0.005383  0.022783  0.003036  0.004971  0.005542  0.006965  0.003163   \n",
       "6  0.005440  0.003493  0.003661  0.008507  0.003592  0.002984  0.003591   \n",
       "\n",
       "          7         8         9  \n",
       "2  0.001737  0.004729  0.008789  \n",
       "3  0.001057 -0.000117  0.009255  \n",
       "4  0.006263  0.002237  0.008726  \n",
       "5  0.006563  0.005212  0.001480  \n",
       "6  0.004391  0.001128  0.002698  "
      ]
     },
     "execution_count": 50,
     "metadata": {},
     "output_type": "execute_result"
    }
   ],
   "source": [
    "parts_ari_df.head()"
   ]
  },
  {
   "cell_type": "markdown",
   "id": "0f2ad37d",
   "metadata": {
    "papermill": {
     "duration": 0.02419,
     "end_time": "2022-09-11T21:01:46.735721",
     "exception": false,
     "start_time": "2022-09-11T21:01:46.711531",
     "status": "completed"
    },
    "tags": []
   },
   "source": [
    "## Save"
   ]
  },
  {
   "cell_type": "code",
   "execution_count": 51,
   "id": "4067f2f9",
   "metadata": {
    "execution": {
     "iopub.execute_input": "2022-09-11T21:01:46.778399Z",
     "iopub.status.busy": "2022-09-11T21:01:46.778180Z",
     "iopub.status.idle": "2022-09-11T21:01:46.797186Z",
     "shell.execute_reply": "2022-09-11T21:01:46.796739Z"
    },
    "papermill": {
     "duration": 0.040793,
     "end_time": "2022-09-11T21:01:46.798452",
     "exception": false,
     "start_time": "2022-09-11T21:01:46.757659",
     "status": "completed"
    },
    "tags": []
   },
   "outputs": [
    {
     "data": {
      "text/plain": [
       "PosixPath('/opt/data/results/clustering/null_sims/runs/z_score_std-projection-smultixcan-efo_partial-mashr-zscores/KMeans-stability-KMEANS_N_INIT_10-K_MAX_60-K_MIN_2-N_REPS_PER_K_5.pkl')"
      ]
     },
     "metadata": {},
     "output_type": "display_data"
    }
   ],
   "source": [
    "output_filename = Path(\n",
    "    RESULTS_DIR,\n",
    "    generate_result_set_name(\n",
    "        CLUSTERING_OPTIONS,\n",
    "        prefix=f\"{clustering_method_name}-stability-\",\n",
    "        suffix=\".pkl\",\n",
    "    ),\n",
    ").resolve()\n",
    "display(output_filename)"
   ]
  },
  {
   "cell_type": "code",
   "execution_count": 52,
   "id": "3eb1c18f",
   "metadata": {
    "execution": {
     "iopub.execute_input": "2022-09-11T21:01:46.840194Z",
     "iopub.status.busy": "2022-09-11T21:01:46.839989Z",
     "iopub.status.idle": "2022-09-11T21:01:46.858177Z",
     "shell.execute_reply": "2022-09-11T21:01:46.857711Z"
    },
    "papermill": {
     "duration": 0.040262,
     "end_time": "2022-09-11T21:01:46.859587",
     "exception": false,
     "start_time": "2022-09-11T21:01:46.819325",
     "status": "completed"
    },
    "tags": []
   },
   "outputs": [],
   "source": [
    "parts_ari_df.to_pickle(output_filename)"
   ]
  },
  {
   "cell_type": "markdown",
   "id": "ed3e8473",
   "metadata": {
    "papermill": {
     "duration": 0.018896,
     "end_time": "2022-09-11T21:01:46.899254",
     "exception": false,
     "start_time": "2022-09-11T21:01:46.880358",
     "status": "completed"
    },
    "tags": []
   },
   "source": [
    "## Stability plot"
   ]
  },
  {
   "cell_type": "code",
   "execution_count": 53,
   "id": "7979db7a",
   "metadata": {
    "execution": {
     "iopub.execute_input": "2022-09-11T21:01:46.938612Z",
     "iopub.status.busy": "2022-09-11T21:01:46.938407Z",
     "iopub.status.idle": "2022-09-11T21:01:46.958343Z",
     "shell.execute_reply": "2022-09-11T21:01:46.957745Z"
    },
    "papermill": {
     "duration": 0.041294,
     "end_time": "2022-09-11T21:01:46.959739",
     "exception": false,
     "start_time": "2022-09-11T21:01:46.918445",
     "status": "completed"
    },
    "tags": []
   },
   "outputs": [],
   "source": [
    "parts_ari_df_plot = (\n",
    "    parts_ari_df.stack()\n",
    "    .reset_index()\n",
    "    .rename(columns={\"level_0\": \"k\", \"level_1\": \"idx\", 0: \"ari\"})\n",
    ")"
   ]
  },
  {
   "cell_type": "code",
   "execution_count": 54,
   "id": "0c6dd8aa",
   "metadata": {
    "execution": {
     "iopub.execute_input": "2022-09-11T21:01:46.999865Z",
     "iopub.status.busy": "2022-09-11T21:01:46.999658Z",
     "iopub.status.idle": "2022-09-11T21:01:47.018888Z",
     "shell.execute_reply": "2022-09-11T21:01:47.018446Z"
    },
    "papermill": {
     "duration": 0.040435,
     "end_time": "2022-09-11T21:01:47.020178",
     "exception": false,
     "start_time": "2022-09-11T21:01:46.979743",
     "status": "completed"
    },
    "tags": []
   },
   "outputs": [
    {
     "data": {
      "text/plain": [
       "k        int64\n",
       "idx      int64\n",
       "ari    float64\n",
       "dtype: object"
      ]
     },
     "execution_count": 54,
     "metadata": {},
     "output_type": "execute_result"
    }
   ],
   "source": [
    "parts_ari_df_plot.dtypes"
   ]
  },
  {
   "cell_type": "code",
   "execution_count": 55,
   "id": "e8f841c8",
   "metadata": {
    "execution": {
     "iopub.execute_input": "2022-09-11T21:01:47.061212Z",
     "iopub.status.busy": "2022-09-11T21:01:47.060758Z",
     "iopub.status.idle": "2022-09-11T21:01:47.081519Z",
     "shell.execute_reply": "2022-09-11T21:01:47.081052Z"
    },
    "papermill": {
     "duration": 0.042132,
     "end_time": "2022-09-11T21:01:47.082774",
     "exception": false,
     "start_time": "2022-09-11T21:01:47.040642",
     "status": "completed"
    },
    "tags": []
   },
   "outputs": [
    {
     "data": {
      "text/html": [
       "<div>\n",
       "<style scoped>\n",
       "    .dataframe tbody tr th:only-of-type {\n",
       "        vertical-align: middle;\n",
       "    }\n",
       "\n",
       "    .dataframe tbody tr th {\n",
       "        vertical-align: top;\n",
       "    }\n",
       "\n",
       "    .dataframe thead th {\n",
       "        text-align: right;\n",
       "    }\n",
       "</style>\n",
       "<table border=\"1\" class=\"dataframe\">\n",
       "  <thead>\n",
       "    <tr style=\"text-align: right;\">\n",
       "      <th></th>\n",
       "      <th>k</th>\n",
       "      <th>idx</th>\n",
       "      <th>ari</th>\n",
       "    </tr>\n",
       "  </thead>\n",
       "  <tbody>\n",
       "    <tr>\n",
       "      <th>0</th>\n",
       "      <td>2</td>\n",
       "      <td>0</td>\n",
       "      <td>0.032741</td>\n",
       "    </tr>\n",
       "    <tr>\n",
       "      <th>1</th>\n",
       "      <td>2</td>\n",
       "      <td>1</td>\n",
       "      <td>0.024926</td>\n",
       "    </tr>\n",
       "    <tr>\n",
       "      <th>2</th>\n",
       "      <td>2</td>\n",
       "      <td>2</td>\n",
       "      <td>0.000265</td>\n",
       "    </tr>\n",
       "    <tr>\n",
       "      <th>3</th>\n",
       "      <td>2</td>\n",
       "      <td>3</td>\n",
       "      <td>-0.000304</td>\n",
       "    </tr>\n",
       "    <tr>\n",
       "      <th>4</th>\n",
       "      <td>2</td>\n",
       "      <td>4</td>\n",
       "      <td>-0.000503</td>\n",
       "    </tr>\n",
       "  </tbody>\n",
       "</table>\n",
       "</div>"
      ],
      "text/plain": [
       "   k  idx       ari\n",
       "0  2    0  0.032741\n",
       "1  2    1  0.024926\n",
       "2  2    2  0.000265\n",
       "3  2    3 -0.000304\n",
       "4  2    4 -0.000503"
      ]
     },
     "execution_count": 55,
     "metadata": {},
     "output_type": "execute_result"
    }
   ],
   "source": [
    "parts_ari_df_plot.head()"
   ]
  },
  {
   "cell_type": "code",
   "execution_count": 56,
   "id": "554b37cb",
   "metadata": {
    "execution": {
     "iopub.execute_input": "2022-09-11T21:01:47.126903Z",
     "iopub.status.busy": "2022-09-11T21:01:47.126603Z",
     "iopub.status.idle": "2022-09-11T21:01:50.042497Z",
     "shell.execute_reply": "2022-09-11T21:01:50.042025Z"
    },
    "papermill": {
     "duration": 2.939082,
     "end_time": "2022-09-11T21:01:50.043816",
     "exception": false,
     "start_time": "2022-09-11T21:01:47.104734",
     "status": "completed"
    },
    "tags": []
   },
   "outputs": [
    {
     "data": {
      "image/png": "[encoded data removed]",
      "text/plain": [
       "<Figure size 1008x432 with 1 Axes>"
      ]
     },
     "metadata": {},
     "output_type": "display_data"
    }
   ],
   "source": [
    "# with sns.axes_style('whitegrid', {'grid.linestyle': '--'}):\n",
    "with sns.plotting_context(\"talk\", font_scale=0.75), sns.axes_style(\n",
    "    \"whitegrid\", {\"grid.linestyle\": \"--\"}\n",
    "):\n",
    "    fig = plt.figure(figsize=(14, 6))\n",
    "    ax = sns.pointplot(data=parts_ari_df_plot, x=\"k\", y=\"ari\")\n",
    "    ax.set_ylabel(\"Averange ARI\")\n",
    "    ax.set_xlabel(\"Number of clusters ($k$)\")\n",
    "    ax.set_xticklabels(ax.get_xticklabels(), rotation=45)\n",
    "    #     ax.set_ylim(0.0, 1.0)\n",
    "    #     ax.set_xlim(CLUSTERING_OPTIONS['K_MIN'], CLUSTERING_OPTIONS['K_MAX'])\n",
    "    plt.grid(True)\n",
    "    plt.tight_layout()"
   ]
  },
  {
   "cell_type": "code",
   "execution_count": null,
   "id": "ca79492b",
   "metadata": {
    "papermill": {
     "duration": 0.020234,
     "end_time": "2022-09-11T21:01:50.084895",
     "exception": false,
     "start_time": "2022-09-11T21:01:50.064661",
     "status": "completed"
    },
    "tags": []
   },
   "outputs": [],
   "source": []
  }
 ],
 "metadata": {
  "jupytext": {
   "cell_metadata_filter": "all,-execution,-papermill,-trusted",
   "formats": "ipynb,py//py:percent"
  },
  "kernelspec": {
   "display_name": "Python 3 (ipykernel)",
   "language": "python",
   "name": "python3"
  },
  "language_info": {
   "codemirror_mode": {
    "name": "ipython",
    "version": 3
   },
   "file_extension": ".py",
   "mimetype": "text/x-python",
   "name": "python",
   "nbconvert_exporter": "python",
   "pygments_lexer": "ipython3",
   "version": "3.8.13"
  },
  "papermill": {
   "default_parameters": {},
   "duration": 1026.983181,
   "end_time": "2022-09-11T21:01:50.426045",
   "environment_variables": {},
   "exception": null,
   "input_path": "nbs/13.1_cluster_analysis_null/10_00-kmeans-z_score_std.ipynb",
   "output_path": "nbs/13.1_cluster_analysis_null/10_00-kmeans-z_score_std.run.ipynb",
   "parameters": {},
   "start_time": "2022-09-11T20:44:43.442864",
   "version": "2.2.2"
  },
  "toc-autonumbering": true,
  "toc-showcode": false,
  "toc-showmarkdowntxt": false,
  "toc-showtags": false
 },
 "nbformat": 4,
 "nbformat_minor": 5
}
