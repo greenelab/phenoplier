{
 "cells": [
  {
   "cell_type": "markdown",
   "metadata": {
    "papermill": {
     "duration": 0.059446,
     "end_time": "2021-03-10T00:10:54.052705",
     "exception": false,
     "start_time": "2021-03-10T00:10:53.993259",
     "status": "completed"
    },
    "tags": []
   },
   "source": [
    "# Description"
   ]
  },
  {
   "cell_type": "markdown",
   "metadata": {
    "papermill": {
     "duration": 0.023092,
     "end_time": "2021-03-10T00:10:54.098787",
     "exception": false,
     "start_time": "2021-03-10T00:10:54.075695",
     "status": "completed"
    },
    "tags": []
   },
   "source": [
    "Runs k-means on the z_score_std version of the data."
   ]
  },
  {
   "cell_type": "markdown",
   "metadata": {
    "papermill": {
     "duration": 0.022374,
     "end_time": "2021-03-10T00:10:54.143712",
     "exception": false,
     "start_time": "2021-03-10T00:10:54.121338",
     "status": "completed"
    },
    "tags": []
   },
   "source": [
    "# Environment variables"
   ]
  },
  {
   "cell_type": "code",
   "execution_count": null,
   "metadata": {
    "papermill": {
     "duration": 0.038647,
     "end_time": "2021-03-10T00:10:54.205009",
     "exception": false,
     "start_time": "2021-03-10T00:10:54.166362",
     "status": "completed"
    },
    "tags": []
   },
   "outputs": [],
   "source": [
    "from IPython.display import display\n",
    "\n",
    "import conf\n",
    "\n",
    "N_JOBS = conf.GENERAL[\"N_JOBS\"]\n",
    "display(N_JOBS)"
   ]
  },
  {
   "cell_type": "code",
   "execution_count": null,
   "metadata": {
    "papermill": {
     "duration": 0.029926,
     "end_time": "2021-03-10T00:10:54.259533",
     "exception": false,
     "start_time": "2021-03-10T00:10:54.229607",
     "status": "completed"
    },
    "tags": []
   },
   "outputs": [],
   "source": [
    "%env MKL_NUM_THREADS=$N_JOBS\n",
    "%env OPEN_BLAS_NUM_THREADS=$N_JOBS\n",
    "%env NUMEXPR_NUM_THREADS=$N_JOBS\n",
    "%env OMP_NUM_THREADS=$N_JOBS"
   ]
  },
  {
   "cell_type": "markdown",
   "metadata": {
    "papermill": {
     "duration": 0.022645,
     "end_time": "2021-03-10T00:10:54.305486",
     "exception": false,
     "start_time": "2021-03-10T00:10:54.282841",
     "status": "completed"
    },
    "tags": []
   },
   "source": [
    "# Modules loading"
   ]
  },
  {
   "cell_type": "code",
   "execution_count": null,
   "metadata": {
    "papermill": {
     "duration": 0.032328,
     "end_time": "2021-03-10T00:10:54.360519",
     "exception": false,
     "start_time": "2021-03-10T00:10:54.328191",
     "status": "completed"
    },
    "tags": []
   },
   "outputs": [],
   "source": [
    "%load_ext autoreload\n",
    "%autoreload 2"
   ]
  },
  {
   "cell_type": "code",
   "execution_count": null,
   "metadata": {
    "papermill": {
     "duration": 0.602463,
     "end_time": "2021-03-10T00:10:54.986799",
     "exception": false,
     "start_time": "2021-03-10T00:10:54.384336",
     "status": "completed"
    },
    "tags": []
   },
   "outputs": [],
   "source": [
    "from pathlib import Path\n",
    "\n",
    "import numpy as np\n",
    "import pandas as pd\n",
    "import matplotlib.pyplot as plt\n",
    "import seaborn as sns\n",
    "\n",
    "from utils import generate_result_set_name"
   ]
  },
  {
   "cell_type": "markdown",
   "metadata": {
    "papermill": {
     "duration": 0.023197,
     "end_time": "2021-03-10T00:10:55.037715",
     "exception": false,
     "start_time": "2021-03-10T00:10:55.014518",
     "status": "completed"
    },
    "tags": []
   },
   "source": [
    "# Settings"
   ]
  },
  {
   "cell_type": "code",
   "execution_count": null,
   "metadata": {
    "papermill": {
     "duration": 0.034609,
     "end_time": "2021-03-10T00:10:55.094836",
     "exception": false,
     "start_time": "2021-03-10T00:10:55.060227",
     "status": "completed"
    },
    "tags": []
   },
   "outputs": [],
   "source": [
    "np.random.seed(0)"
   ]
  },
  {
   "cell_type": "code",
   "execution_count": null,
   "metadata": {
    "papermill": {
     "duration": 0.035094,
     "end_time": "2021-03-10T00:10:55.153529",
     "exception": false,
     "start_time": "2021-03-10T00:10:55.118435",
     "status": "completed"
    },
    "tags": []
   },
   "outputs": [],
   "source": [
    "INITIAL_RANDOM_STATE = 0"
   ]
  },
  {
   "cell_type": "markdown",
   "metadata": {
    "papermill": {
     "duration": 0.02263,
     "end_time": "2021-03-10T00:10:55.199929",
     "exception": false,
     "start_time": "2021-03-10T00:10:55.177299",
     "status": "completed"
    },
    "tags": []
   },
   "source": [
    "## Input data"
   ]
  },
  {
   "cell_type": "code",
   "execution_count": null,
   "metadata": {
    "papermill": {
     "duration": 0.034491,
     "end_time": "2021-03-10T00:10:55.257605",
     "exception": false,
     "start_time": "2021-03-10T00:10:55.223114",
     "status": "completed"
    },
    "tags": []
   },
   "outputs": [],
   "source": [
    "INPUT_SUBSET = \"z_score_std\""
   ]
  },
  {
   "cell_type": "code",
   "execution_count": null,
   "metadata": {
    "papermill": {
     "duration": 0.034345,
     "end_time": "2021-03-10T00:10:55.315574",
     "exception": false,
     "start_time": "2021-03-10T00:10:55.281229",
     "status": "completed"
    },
    "tags": []
   },
   "outputs": [],
   "source": [
    "INPUT_STEM = \"projection-smultixcan-efo_partial-mashr-zscores\""
   ]
  },
  {
   "cell_type": "code",
   "execution_count": null,
   "metadata": {
    "papermill": {
     "duration": 0.036745,
     "end_time": "2021-03-10T00:10:55.375687",
     "exception": false,
     "start_time": "2021-03-10T00:10:55.338942",
     "status": "completed"
    },
    "tags": []
   },
   "outputs": [],
   "source": [
    "input_filepath = Path(\n",
    "    conf.RESULTS[\"CLUSTERING_NULL_DIR\"],\n",
    "    \"data_transformations\",\n",
    "    INPUT_SUBSET,\n",
    "    f\"{INPUT_SUBSET}-{INPUT_STEM}.pkl\",\n",
    ").resolve()\n",
    "display(input_filepath)\n",
    "\n",
    "assert input_filepath.exists(), \"Input file does not exist\"\n",
    "\n",
    "input_filepath_stem = input_filepath.stem\n",
    "display(input_filepath_stem)"
   ]
  },
  {
   "cell_type": "markdown",
   "metadata": {
    "papermill": {
     "duration": 0.022995,
     "end_time": "2021-03-10T00:10:55.422621",
     "exception": false,
     "start_time": "2021-03-10T00:10:55.399626",
     "status": "completed"
    },
    "tags": []
   },
   "source": [
    "## Clustering"
   ]
  },
  {
   "cell_type": "code",
   "execution_count": null,
   "metadata": {
    "papermill": {
     "duration": 0.151988,
     "end_time": "2021-03-10T00:10:55.597424",
     "exception": false,
     "start_time": "2021-03-10T00:10:55.445436",
     "status": "completed"
    },
    "tags": []
   },
   "outputs": [],
   "source": [
    "from sklearn.cluster import KMeans"
   ]
  },
  {
   "cell_type": "code",
   "execution_count": null,
   "metadata": {
    "papermill": {
     "duration": 0.036009,
     "end_time": "2021-03-10T00:10:55.657518",
     "exception": false,
     "start_time": "2021-03-10T00:10:55.621509",
     "status": "completed"
    },
    "tags": []
   },
   "outputs": [],
   "source": [
    "CLUSTERING_ATTRIBUTES_TO_SAVE = [\"n_clusters\"]"
   ]
  },
  {
   "cell_type": "code",
   "execution_count": null,
   "metadata": {
    "papermill": {
     "duration": 0.037408,
     "end_time": "2021-03-10T00:10:55.719332",
     "exception": false,
     "start_time": "2021-03-10T00:10:55.681924",
     "status": "completed"
    },
    "tags": []
   },
   "outputs": [],
   "source": [
    "CLUSTERING_OPTIONS = {}\n",
    "\n",
    "CLUSTERING_OPTIONS[\"K_MIN\"] = 2\n",
    "CLUSTERING_OPTIONS[\"K_MAX\"] = 60  # sqrt(3749)\n",
    "CLUSTERING_OPTIONS[\"N_REPS_PER_K\"] = 5\n",
    "CLUSTERING_OPTIONS[\"KMEANS_N_INIT\"] = 10\n",
    "\n",
    "display(CLUSTERING_OPTIONS)"
   ]
  },
  {
   "cell_type": "code",
   "execution_count": null,
   "metadata": {
    "papermill": {
     "duration": 0.037898,
     "end_time": "2021-03-10T00:10:55.781174",
     "exception": false,
     "start_time": "2021-03-10T00:10:55.743276",
     "status": "completed"
    },
    "tags": []
   },
   "outputs": [],
   "source": [
    "CLUSTERERS = {}\n",
    "\n",
    "idx = 0\n",
    "random_state = INITIAL_RANDOM_STATE\n",
    "\n",
    "for k in range(CLUSTERING_OPTIONS[\"K_MIN\"], CLUSTERING_OPTIONS[\"K_MAX\"] + 1):\n",
    "    for i in range(CLUSTERING_OPTIONS[\"N_REPS_PER_K\"]):\n",
    "        clus = KMeans(\n",
    "            n_clusters=k,\n",
    "            n_init=CLUSTERING_OPTIONS[\"KMEANS_N_INIT\"],\n",
    "            random_state=random_state,\n",
    "        )\n",
    "\n",
    "        method_name = type(clus).__name__\n",
    "        CLUSTERERS[f\"{method_name} #{idx}\"] = clus\n",
    "\n",
    "        random_state = random_state + 1\n",
    "        idx = idx + 1"
   ]
  },
  {
   "cell_type": "code",
   "execution_count": null,
   "metadata": {
    "papermill": {
     "duration": 0.040086,
     "end_time": "2021-03-10T00:10:55.846382",
     "exception": false,
     "start_time": "2021-03-10T00:10:55.806296",
     "status": "completed"
    },
    "tags": []
   },
   "outputs": [],
   "source": [
    "display(len(CLUSTERERS))"
   ]
  },
  {
   "cell_type": "code",
   "execution_count": null,
   "metadata": {
    "papermill": {
     "duration": 0.038877,
     "end_time": "2021-03-10T00:10:55.913433",
     "exception": false,
     "start_time": "2021-03-10T00:10:55.874556",
     "status": "completed"
    },
    "tags": []
   },
   "outputs": [],
   "source": [
    "_iter = iter(CLUSTERERS.items())\n",
    "display(next(_iter))\n",
    "display(next(_iter))"
   ]
  },
  {
   "cell_type": "code",
   "execution_count": null,
   "metadata": {
    "papermill": {
     "duration": 0.037682,
     "end_time": "2021-03-10T00:10:55.975845",
     "exception": false,
     "start_time": "2021-03-10T00:10:55.938163",
     "status": "completed"
    },
    "tags": []
   },
   "outputs": [],
   "source": [
    "clustering_method_name = method_name\n",
    "display(clustering_method_name)"
   ]
  },
  {
   "cell_type": "markdown",
   "metadata": {
    "papermill": {
     "duration": 0.024452,
     "end_time": "2021-03-10T00:10:56.026335",
     "exception": false,
     "start_time": "2021-03-10T00:10:56.001883",
     "status": "completed"
    },
    "tags": []
   },
   "source": [
    "## Output directory"
   ]
  },
  {
   "cell_type": "code",
   "execution_count": null,
   "metadata": {
    "papermill": {
     "duration": 0.038402,
     "end_time": "2021-03-10T00:10:56.089047",
     "exception": false,
     "start_time": "2021-03-10T00:10:56.050645",
     "status": "completed"
    },
    "tags": []
   },
   "outputs": [],
   "source": [
    "# output dir for this notebook\n",
    "RESULTS_DIR = Path(\n",
    "    conf.RESULTS[\"CLUSTERING_NULL_DIR\"],\n",
    "    \"runs\",\n",
    "    f\"{INPUT_SUBSET}-{INPUT_STEM}\",\n",
    ").resolve()\n",
    "RESULTS_DIR.mkdir(parents=True, exist_ok=True)\n",
    "\n",
    "display(RESULTS_DIR)"
   ]
  },
  {
   "cell_type": "markdown",
   "metadata": {
    "papermill": {
     "duration": 0.024561,
     "end_time": "2021-03-10T00:10:56.138908",
     "exception": false,
     "start_time": "2021-03-10T00:10:56.114347",
     "status": "completed"
    },
    "tags": []
   },
   "source": [
    "# Load input file"
   ]
  },
  {
   "cell_type": "code",
   "execution_count": null,
   "metadata": {
    "papermill": {
     "duration": 0.050445,
     "end_time": "2021-03-10T00:10:56.213879",
     "exception": false,
     "start_time": "2021-03-10T00:10:56.163434",
     "status": "completed"
    },
    "tags": []
   },
   "outputs": [],
   "source": [
    "data = pd.read_pickle(input_filepath)"
   ]
  },
  {
   "cell_type": "code",
   "execution_count": null,
   "metadata": {
    "papermill": {
     "duration": 0.038442,
     "end_time": "2021-03-10T00:10:56.280860",
     "exception": false,
     "start_time": "2021-03-10T00:10:56.242418",
     "status": "completed"
    },
    "tags": []
   },
   "outputs": [],
   "source": [
    "data.shape"
   ]
  },
  {
   "cell_type": "code",
   "execution_count": null,
   "metadata": {
    "papermill": {
     "duration": 0.050627,
     "end_time": "2021-03-10T00:10:56.357702",
     "exception": false,
     "start_time": "2021-03-10T00:10:56.307075",
     "status": "completed"
    },
    "tags": []
   },
   "outputs": [],
   "source": [
    "data.head()"
   ]
  },
  {
   "cell_type": "code",
   "execution_count": null,
   "metadata": {
    "papermill": {
     "duration": 0.043097,
     "end_time": "2021-03-10T00:10:56.427618",
     "exception": false,
     "start_time": "2021-03-10T00:10:56.384521",
     "status": "completed"
    },
    "tags": []
   },
   "outputs": [],
   "source": [
    "assert not data.isna().any().any()"
   ]
  },
  {
   "cell_type": "markdown",
   "metadata": {
    "papermill": {
     "duration": 0.024948,
     "end_time": "2021-03-10T00:10:56.478614",
     "exception": false,
     "start_time": "2021-03-10T00:10:56.453666",
     "status": "completed"
    },
    "tags": []
   },
   "source": [
    "# Clustering"
   ]
  },
  {
   "cell_type": "markdown",
   "metadata": {
    "papermill": {
     "duration": 0.024795,
     "end_time": "2021-03-10T00:10:56.528572",
     "exception": false,
     "start_time": "2021-03-10T00:10:56.503777",
     "status": "completed"
    },
    "tags": []
   },
   "source": [
    "## Generate ensemble"
   ]
  },
  {
   "cell_type": "code",
   "execution_count": null,
   "metadata": {
    "papermill": {
     "duration": 0.04071,
     "end_time": "2021-03-10T00:10:56.594503",
     "exception": false,
     "start_time": "2021-03-10T00:10:56.553793",
     "status": "completed"
    },
    "tags": []
   },
   "outputs": [],
   "source": [
    "from clustering.ensembles.utils import generate_ensemble"
   ]
  },
  {
   "cell_type": "code",
   "execution_count": null,
   "metadata": {
    "papermill": {
     "duration": 1059.042466,
     "end_time": "2021-03-10T00:28:35.662362",
     "exception": false,
     "start_time": "2021-03-10T00:10:56.619896",
     "status": "completed"
    },
    "tags": []
   },
   "outputs": [],
   "source": [
    "ensemble = generate_ensemble(\n",
    "    data,\n",
    "    CLUSTERERS,\n",
    "    attributes=CLUSTERING_ATTRIBUTES_TO_SAVE,\n",
    ")"
   ]
  },
  {
   "cell_type": "code",
   "execution_count": null,
   "metadata": {
    "papermill": {
     "duration": 0.084325,
     "end_time": "2021-03-10T00:28:35.818605",
     "exception": false,
     "start_time": "2021-03-10T00:28:35.734280",
     "status": "completed"
    },
    "tags": []
   },
   "outputs": [],
   "source": [
    "# the number should be close to 295 (the number of partitions generated by k-means/spectral clustering)\n",
    "ensemble.shape"
   ]
  },
  {
   "cell_type": "code",
   "execution_count": null,
   "metadata": {
    "papermill": {
     "duration": 0.090955,
     "end_time": "2021-03-10T00:28:35.981863",
     "exception": false,
     "start_time": "2021-03-10T00:28:35.890908",
     "status": "completed"
    },
    "tags": []
   },
   "outputs": [],
   "source": [
    "ensemble.head()"
   ]
  },
  {
   "cell_type": "code",
   "execution_count": null,
   "metadata": {
    "papermill": {
     "duration": 0.087531,
     "end_time": "2021-03-10T00:28:36.142920",
     "exception": false,
     "start_time": "2021-03-10T00:28:36.055389",
     "status": "completed"
    },
    "tags": []
   },
   "outputs": [],
   "source": [
    "ensemble[\"n_clusters\"].value_counts().head()"
   ]
  },
  {
   "cell_type": "code",
   "execution_count": null,
   "metadata": {
    "papermill": {
     "duration": 0.086819,
     "end_time": "2021-03-10T00:28:36.302448",
     "exception": false,
     "start_time": "2021-03-10T00:28:36.215629",
     "status": "completed"
    },
    "tags": []
   },
   "outputs": [],
   "source": [
    "ensemble_stats = ensemble[\"n_clusters\"].describe()\n",
    "display(ensemble_stats)"
   ]
  },
  {
   "cell_type": "markdown",
   "metadata": {
    "papermill": {
     "duration": 0.06991,
     "end_time": "2021-03-10T00:28:36.443876",
     "exception": false,
     "start_time": "2021-03-10T00:28:36.373966",
     "status": "completed"
    },
    "tags": []
   },
   "source": [
    "## Testing"
   ]
  },
  {
   "cell_type": "code",
   "execution_count": null,
   "metadata": {
    "papermill": {
     "duration": 0.083159,
     "end_time": "2021-03-10T00:28:36.598946",
     "exception": false,
     "start_time": "2021-03-10T00:28:36.515787",
     "status": "completed"
    },
    "tags": []
   },
   "outputs": [],
   "source": [
    "assert ensemble_stats[\"min\"] > 1"
   ]
  },
  {
   "cell_type": "code",
   "execution_count": null,
   "metadata": {
    "papermill": {
     "duration": 0.084724,
     "end_time": "2021-03-10T00:28:36.755945",
     "exception": false,
     "start_time": "2021-03-10T00:28:36.671221",
     "status": "completed"
    },
    "tags": []
   },
   "outputs": [],
   "source": [
    "assert not ensemble[\"n_clusters\"].isna().any()"
   ]
  },
  {
   "cell_type": "code",
   "execution_count": null,
   "metadata": {
    "papermill": {
     "duration": 0.083026,
     "end_time": "2021-03-10T00:28:36.910147",
     "exception": false,
     "start_time": "2021-03-10T00:28:36.827121",
     "status": "completed"
    },
    "tags": []
   },
   "outputs": [],
   "source": [
    "assert ensemble.shape[0] == len(CLUSTERERS)"
   ]
  },
  {
   "cell_type": "code",
   "execution_count": null,
   "metadata": {
    "papermill": {
     "duration": 0.104544,
     "end_time": "2021-03-10T00:28:37.086353",
     "exception": false,
     "start_time": "2021-03-10T00:28:36.981809",
     "status": "completed"
    },
    "tags": []
   },
   "outputs": [],
   "source": [
    "# all partitions have the right size\n",
    "assert np.all(\n",
    "    [part[\"partition\"].shape[0] == data.shape[0] for idx, part in ensemble.iterrows()]\n",
    ")"
   ]
  },
  {
   "cell_type": "code",
   "execution_count": null,
   "metadata": {
    "papermill": {
     "duration": 0.105281,
     "end_time": "2021-03-10T00:28:37.264186",
     "exception": false,
     "start_time": "2021-03-10T00:28:37.158905",
     "status": "completed"
    },
    "tags": []
   },
   "outputs": [],
   "source": [
    "# no partition has negative clusters (noisy points)\n",
    "assert not np.any([(part[\"partition\"] < 0).any() for idx, part in ensemble.iterrows()])"
   ]
  },
  {
   "cell_type": "markdown",
   "metadata": {
    "papermill": {
     "duration": 0.071075,
     "end_time": "2021-03-10T00:28:37.406469",
     "exception": false,
     "start_time": "2021-03-10T00:28:37.335394",
     "status": "completed"
    },
    "tags": []
   },
   "source": [
    "## Add clustering quality measures"
   ]
  },
  {
   "cell_type": "code",
   "execution_count": null,
   "metadata": {
    "papermill": {
     "duration": 0.083953,
     "end_time": "2021-03-10T00:28:37.562394",
     "exception": false,
     "start_time": "2021-03-10T00:28:37.478441",
     "status": "completed"
    },
    "tags": []
   },
   "outputs": [],
   "source": [
    "from sklearn.metrics import calinski_harabasz_score"
   ]
  },
  {
   "cell_type": "code",
   "execution_count": null,
   "metadata": {
    "papermill": {
     "duration": 10.640636,
     "end_time": "2021-03-10T00:28:48.274506",
     "exception": false,
     "start_time": "2021-03-10T00:28:37.633870",
     "status": "completed"
    },
    "tags": []
   },
   "outputs": [],
   "source": [
    "ensemble = ensemble.assign(\n",
    "    ch_score=ensemble[\"partition\"].apply(lambda x: calinski_harabasz_score(data, x))\n",
    ")"
   ]
  },
  {
   "cell_type": "code",
   "execution_count": null,
   "metadata": {
    "papermill": {
     "duration": 0.084128,
     "end_time": "2021-03-10T00:28:48.438736",
     "exception": false,
     "start_time": "2021-03-10T00:28:48.354608",
     "status": "completed"
    },
    "tags": []
   },
   "outputs": [],
   "source": [
    "ensemble.shape"
   ]
  },
  {
   "cell_type": "code",
   "execution_count": null,
   "metadata": {
    "papermill": {
     "duration": 0.091071,
     "end_time": "2021-03-10T00:28:48.602007",
     "exception": false,
     "start_time": "2021-03-10T00:28:48.510936",
     "status": "completed"
    },
    "tags": []
   },
   "outputs": [],
   "source": [
    "ensemble.head()"
   ]
  },
  {
   "cell_type": "markdown",
   "metadata": {
    "papermill": {
     "duration": 0.070445,
     "end_time": "2021-03-10T00:28:48.744251",
     "exception": false,
     "start_time": "2021-03-10T00:28:48.673806",
     "status": "completed"
    },
    "tags": []
   },
   "source": [
    "## Save"
   ]
  },
  {
   "cell_type": "code",
   "execution_count": null,
   "metadata": {
    "papermill": {
     "duration": 0.085521,
     "end_time": "2021-03-10T00:28:48.901041",
     "exception": false,
     "start_time": "2021-03-10T00:28:48.815520",
     "status": "completed"
    },
    "tags": []
   },
   "outputs": [],
   "source": [
    "output_filename = Path(\n",
    "    RESULTS_DIR,\n",
    "    generate_result_set_name(\n",
    "        CLUSTERING_OPTIONS,\n",
    "        prefix=f\"{clustering_method_name}-\",\n",
    "        suffix=\".pkl\",\n",
    "    ),\n",
    ").resolve()\n",
    "display(output_filename)"
   ]
  },
  {
   "cell_type": "code",
   "execution_count": null,
   "metadata": {
    "papermill": {
     "duration": 0.090694,
     "end_time": "2021-03-10T00:28:49.063066",
     "exception": false,
     "start_time": "2021-03-10T00:28:48.972372",
     "status": "completed"
    },
    "tags": []
   },
   "outputs": [],
   "source": [
    "ensemble.to_pickle(output_filename)"
   ]
  },
  {
   "cell_type": "markdown",
   "metadata": {
    "papermill": {
     "duration": 0.070828,
     "end_time": "2021-03-10T00:28:49.208863",
     "exception": false,
     "start_time": "2021-03-10T00:28:49.138035",
     "status": "completed"
    },
    "tags": []
   },
   "source": [
    "# Cluster quality"
   ]
  },
  {
   "cell_type": "code",
   "execution_count": null,
   "metadata": {
    "papermill": {
     "duration": 0.089053,
     "end_time": "2021-03-10T00:28:49.370025",
     "exception": false,
     "start_time": "2021-03-10T00:28:49.280972",
     "status": "completed"
    },
    "tags": []
   },
   "outputs": [],
   "source": [
    "with pd.option_context(\"display.max_rows\", None, \"display.max_columns\", None):\n",
    "    _df = ensemble.groupby([\"n_clusters\"]).mean()\n",
    "    display(_df)"
   ]
  },
  {
   "cell_type": "code",
   "execution_count": null,
   "metadata": {
    "papermill": {
     "duration": 2.779742,
     "end_time": "2021-03-10T00:28:52.226599",
     "exception": false,
     "start_time": "2021-03-10T00:28:49.446857",
     "status": "completed"
    },
    "tags": []
   },
   "outputs": [],
   "source": [
    "with sns.plotting_context(\"talk\", font_scale=0.75), sns.axes_style(\n",
    "    \"whitegrid\", {\"grid.linestyle\": \"--\"}\n",
    "):\n",
    "    fig = plt.figure(figsize=(14, 6))\n",
    "    ax = sns.pointplot(data=ensemble, x=\"n_clusters\", y=\"ch_score\")\n",
    "    ax.set_ylabel(\"Calinski-Harabasz index\")\n",
    "    ax.set_xlabel(\"Number of clusters ($k$)\")\n",
    "    ax.set_xticklabels(ax.get_xticklabels(), rotation=45)\n",
    "    plt.grid(True)\n",
    "    plt.tight_layout()"
   ]
  },
  {
   "cell_type": "markdown",
   "metadata": {
    "papermill": {
     "duration": 0.073687,
     "end_time": "2021-03-10T00:28:52.374304",
     "exception": false,
     "start_time": "2021-03-10T00:28:52.300617",
     "status": "completed"
    },
    "tags": []
   },
   "source": [
    "# Stability"
   ]
  },
  {
   "cell_type": "markdown",
   "metadata": {
    "papermill": {
     "duration": 0.074363,
     "end_time": "2021-03-10T00:28:52.522112",
     "exception": false,
     "start_time": "2021-03-10T00:28:52.447749",
     "status": "completed"
    },
    "tags": []
   },
   "source": [
    "## Group ensemble by n_clusters"
   ]
  },
  {
   "cell_type": "code",
   "execution_count": null,
   "metadata": {
    "papermill": {
     "duration": 0.100944,
     "end_time": "2021-03-10T00:28:52.697496",
     "exception": false,
     "start_time": "2021-03-10T00:28:52.596552",
     "status": "completed"
    },
    "tags": []
   },
   "outputs": [],
   "source": [
    "parts = ensemble.groupby(\"n_clusters\").apply(\n",
    "    lambda x: np.concatenate(x[\"partition\"].apply(lambda x: x.reshape(1, -1)), axis=0)\n",
    ")"
   ]
  },
  {
   "cell_type": "code",
   "execution_count": null,
   "metadata": {
    "papermill": {
     "duration": 0.098522,
     "end_time": "2021-03-10T00:28:52.870062",
     "exception": false,
     "start_time": "2021-03-10T00:28:52.771540",
     "status": "completed"
    },
    "tags": []
   },
   "outputs": [],
   "source": [
    "parts.head()"
   ]
  },
  {
   "cell_type": "code",
   "execution_count": null,
   "metadata": {
    "papermill": {
     "duration": 0.087188,
     "end_time": "2021-03-10T00:28:53.032509",
     "exception": false,
     "start_time": "2021-03-10T00:28:52.945321",
     "status": "completed"
    },
    "tags": []
   },
   "outputs": [],
   "source": [
    "assert np.all(\n",
    "    [\n",
    "        parts.loc[k].shape == (CLUSTERING_OPTIONS[\"N_REPS_PER_K\"], data.shape[0])\n",
    "        for k in parts.index\n",
    "    ]\n",
    ")"
   ]
  },
  {
   "cell_type": "markdown",
   "metadata": {
    "papermill": {
     "duration": 0.075491,
     "end_time": "2021-03-10T00:28:53.185351",
     "exception": false,
     "start_time": "2021-03-10T00:28:53.109860",
     "status": "completed"
    },
    "tags": []
   },
   "source": [
    "## Compute stability"
   ]
  },
  {
   "cell_type": "code",
   "execution_count": null,
   "metadata": {
    "papermill": {
     "duration": 0.086719,
     "end_time": "2021-03-10T00:28:53.345974",
     "exception": false,
     "start_time": "2021-03-10T00:28:53.259255",
     "status": "completed"
    },
    "tags": []
   },
   "outputs": [],
   "source": [
    "from sklearn.metrics import adjusted_rand_score as ari\n",
    "from scipy.spatial.distance import pdist"
   ]
  },
  {
   "cell_type": "code",
   "execution_count": null,
   "metadata": {
    "papermill": {
     "duration": 0.708655,
     "end_time": "2021-03-10T00:28:54.128948",
     "exception": false,
     "start_time": "2021-03-10T00:28:53.420293",
     "status": "completed"
    },
    "tags": []
   },
   "outputs": [],
   "source": [
    "parts_ari = pd.Series(\n",
    "    {k: pdist(parts.loc[k], metric=ari) for k in parts.index}, name=\"k\"\n",
    ")"
   ]
  },
  {
   "cell_type": "code",
   "execution_count": null,
   "metadata": {
    "papermill": {
     "duration": 0.088758,
     "end_time": "2021-03-10T00:28:54.302296",
     "exception": false,
     "start_time": "2021-03-10T00:28:54.213538",
     "status": "completed"
    },
    "tags": []
   },
   "outputs": [],
   "source": [
    "parts_ari_stability = parts_ari.apply(lambda x: x.mean())\n",
    "display(parts_ari_stability.sort_values(ascending=False).head(15))"
   ]
  },
  {
   "cell_type": "code",
   "execution_count": null,
   "metadata": {
    "papermill": {
     "duration": 0.087471,
     "end_time": "2021-03-10T00:28:54.465115",
     "exception": false,
     "start_time": "2021-03-10T00:28:54.377644",
     "status": "completed"
    },
    "tags": []
   },
   "outputs": [],
   "source": [
    "parts_ari_df = pd.DataFrame.from_records(parts_ari.tolist()).set_index(\n",
    "    parts_ari.index.copy()\n",
    ")"
   ]
  },
  {
   "cell_type": "code",
   "execution_count": null,
   "metadata": {
    "papermill": {
     "duration": 0.087669,
     "end_time": "2021-03-10T00:28:54.627607",
     "exception": false,
     "start_time": "2021-03-10T00:28:54.539938",
     "status": "completed"
    },
    "tags": []
   },
   "outputs": [],
   "source": [
    "parts_ari_df.shape"
   ]
  },
  {
   "cell_type": "code",
   "execution_count": null,
   "metadata": {
    "papermill": {
     "duration": 0.086558,
     "end_time": "2021-03-10T00:28:54.788794",
     "exception": false,
     "start_time": "2021-03-10T00:28:54.702236",
     "status": "completed"
    },
    "tags": []
   },
   "outputs": [],
   "source": [
    "assert (\n",
    "    int(\n",
    "        (CLUSTERING_OPTIONS[\"N_REPS_PER_K\"] * (CLUSTERING_OPTIONS[\"N_REPS_PER_K\"] - 1))\n",
    "        / 2\n",
    "    )\n",
    "    == parts_ari_df.shape[1]\n",
    ")"
   ]
  },
  {
   "cell_type": "code",
   "execution_count": null,
   "metadata": {
    "papermill": {
     "duration": 0.092914,
     "end_time": "2021-03-10T00:28:54.956783",
     "exception": false,
     "start_time": "2021-03-10T00:28:54.863869",
     "status": "completed"
    },
    "tags": []
   },
   "outputs": [],
   "source": [
    "parts_ari_df.head()"
   ]
  },
  {
   "cell_type": "markdown",
   "metadata": {
    "papermill": {
     "duration": 0.074902,
     "end_time": "2021-03-10T00:28:55.106465",
     "exception": false,
     "start_time": "2021-03-10T00:28:55.031563",
     "status": "completed"
    },
    "tags": []
   },
   "source": [
    "## Save"
   ]
  },
  {
   "cell_type": "code",
   "execution_count": null,
   "metadata": {
    "papermill": {
     "duration": 0.088438,
     "end_time": "2021-03-10T00:28:55.271261",
     "exception": false,
     "start_time": "2021-03-10T00:28:55.182823",
     "status": "completed"
    },
    "tags": []
   },
   "outputs": [],
   "source": [
    "output_filename = Path(\n",
    "    RESULTS_DIR,\n",
    "    generate_result_set_name(\n",
    "        CLUSTERING_OPTIONS,\n",
    "        prefix=f\"{clustering_method_name}-stability-\",\n",
    "        suffix=\".pkl\",\n",
    "    ),\n",
    ").resolve()\n",
    "display(output_filename)"
   ]
  },
  {
   "cell_type": "code",
   "execution_count": null,
   "metadata": {
    "papermill": {
     "duration": 0.092077,
     "end_time": "2021-03-10T00:28:55.457041",
     "exception": false,
     "start_time": "2021-03-10T00:28:55.364964",
     "status": "completed"
    },
    "tags": []
   },
   "outputs": [],
   "source": [
    "parts_ari_df.to_pickle(output_filename)"
   ]
  },
  {
   "cell_type": "markdown",
   "metadata": {
    "papermill": {
     "duration": 0.074499,
     "end_time": "2021-03-10T00:28:55.607362",
     "exception": false,
     "start_time": "2021-03-10T00:28:55.532863",
     "status": "completed"
    },
    "tags": []
   },
   "source": [
    "## Stability plot"
   ]
  },
  {
   "cell_type": "code",
   "execution_count": null,
   "metadata": {
    "papermill": {
     "duration": 0.089506,
     "end_time": "2021-03-10T00:28:55.772072",
     "exception": false,
     "start_time": "2021-03-10T00:28:55.682566",
     "status": "completed"
    },
    "tags": []
   },
   "outputs": [],
   "source": [
    "parts_ari_df_plot = (\n",
    "    parts_ari_df.stack()\n",
    "    .reset_index()\n",
    "    .rename(columns={\"level_0\": \"k\", \"level_1\": \"idx\", 0: \"ari\"})\n",
    ")"
   ]
  },
  {
   "cell_type": "code",
   "execution_count": null,
   "metadata": {
    "papermill": {
     "duration": 0.091444,
     "end_time": "2021-03-10T00:28:55.939484",
     "exception": false,
     "start_time": "2021-03-10T00:28:55.848040",
     "status": "completed"
    },
    "tags": []
   },
   "outputs": [],
   "source": [
    "parts_ari_df_plot.dtypes"
   ]
  },
  {
   "cell_type": "code",
   "execution_count": null,
   "metadata": {
    "papermill": {
     "duration": 0.092658,
     "end_time": "2021-03-10T00:28:56.108150",
     "exception": false,
     "start_time": "2021-03-10T00:28:56.015492",
     "status": "completed"
    },
    "tags": []
   },
   "outputs": [],
   "source": [
    "parts_ari_df_plot.head()"
   ]
  },
  {
   "cell_type": "code",
   "execution_count": null,
   "metadata": {
    "papermill": {
     "duration": 2.521863,
     "end_time": "2021-03-10T00:28:58.709563",
     "exception": false,
     "start_time": "2021-03-10T00:28:56.187700",
     "status": "completed"
    },
    "tags": []
   },
   "outputs": [],
   "source": [
    "# with sns.axes_style('whitegrid', {'grid.linestyle': '--'}):\n",
    "with sns.plotting_context(\"talk\", font_scale=0.75), sns.axes_style(\n",
    "    \"whitegrid\", {\"grid.linestyle\": \"--\"}\n",
    "):\n",
    "    fig = plt.figure(figsize=(14, 6))\n",
    "    ax = sns.pointplot(data=parts_ari_df_plot, x=\"k\", y=\"ari\")\n",
    "    ax.set_ylabel(\"Averange ARI\")\n",
    "    ax.set_xlabel(\"Number of clusters ($k$)\")\n",
    "    ax.set_xticklabels(ax.get_xticklabels(), rotation=45)\n",
    "    #     ax.set_ylim(0.0, 1.0)\n",
    "    #     ax.set_xlim(CLUSTERING_OPTIONS['K_MIN'], CLUSTERING_OPTIONS['K_MAX'])\n",
    "    plt.grid(True)\n",
    "    plt.tight_layout()"
   ]
  },
  {
   "cell_type": "code",
   "execution_count": null,
   "metadata": {
    "papermill": {
     "duration": 0.078373,
     "end_time": "2021-03-10T00:28:58.866724",
     "exception": false,
     "start_time": "2021-03-10T00:28:58.788351",
     "status": "completed"
    },
    "tags": []
   },
   "outputs": [],
   "source": []
  }
 ],
 "metadata": {
  "jupytext": {
   "cell_metadata_filter": "all,-execution,-papermill,-trusted",
   "formats": "ipynb,py//py:percent"
  },
  "kernelspec": {
   "display_name": "Python 3 (ipykernel)",
   "language": "python",
   "name": "python3"
  },
  "language_info": {
   "codemirror_mode": {
    "name": "ipython",
    "version": 3
   },
   "file_extension": ".py",
   "mimetype": "text/x-python",
   "name": "python",
   "nbconvert_exporter": "python",
   "pygments_lexer": "ipython3",
   "version": "3.8.13"
  },
  "papermill": {
   "default_parameters": {},
   "duration": 1086.344122,
   "end_time": "2021-03-10T00:28:59.350628",
   "environment_variables": {},
   "exception": null,
   "input_path": "15_cluster_analysis/000_00-kmeans-z_score_std.ipynb",
   "output_path": "15_cluster_analysis/000_00-kmeans-z_score_std.run.ipynb",
   "parameters": {},
   "start_time": "2021-03-10T00:10:53.006506",
   "version": "2.2.2"
  },
  "toc-autonumbering": true,
  "toc-showcode": false,
  "toc-showmarkdowntxt": false,
  "toc-showtags": false
 },
 "nbformat": 4,
 "nbformat_minor": 4
}
