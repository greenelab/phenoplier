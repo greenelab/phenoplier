{
 "cells": [
  {
   "cell_type": "markdown",
   "metadata": {
    "papermill": {
     "duration": 0.019848,
     "end_time": "2021-09-17T03:33:32.822093",
     "exception": false,
     "start_time": "2021-09-17T03:33:32.802245",
     "status": "completed"
    },
    "tags": []
   },
   "source": [
    "# Description"
   ]
  },
  {
   "cell_type": "markdown",
   "metadata": {
    "papermill": {
     "duration": 0.019048,
     "end_time": "2021-09-17T03:33:32.860349",
     "exception": false,
     "start_time": "2021-09-17T03:33:32.841301",
     "status": "completed"
    },
    "tags": []
   },
   "source": [
    "**UPDATED for nulls**:\n",
    "* TODO: what if I shuffle S-MultiXcan results, and then I project those???\n",
    "* Shuffle the projection of S-MultiXcan into LVs\n",
    "* Then run z-scores, PCA and UMAP on this.\n",
    "* And then continue all the clustering pipeline from base clusterings to consensus clustering\n",
    "* Then create clustering tree.\n",
    "\n",
    "It projects the PhenomeXcan results (S-MultiXcan, EFO version) into the MultiPLIER latent space.\n",
    "Before projecting, repeated gene symbols as well as genes with NaN are removed;\n",
    "additionally (also before projecting), S-MultiXcan results are adjusted for highly polygenic traits."
   ]
  },
  {
   "cell_type": "markdown",
   "metadata": {
    "papermill": {
     "duration": 0.019132,
     "end_time": "2021-09-17T03:33:32.898675",
     "exception": false,
     "start_time": "2021-09-17T03:33:32.879543",
     "status": "completed"
    },
    "tags": []
   },
   "source": [
    "# Modules loading"
   ]
  },
  {
   "cell_type": "code",
   "execution_count": 1,
   "metadata": {
    "papermill": {
     "duration": 0.032328,
     "end_time": "2021-03-10T00:10:54.360519",
     "exception": false,
     "start_time": "2021-03-10T00:10:54.328191",
     "status": "completed"
    },
    "tags": []
   },
   "outputs": [],
   "source": [
    "%load_ext autoreload\n",
    "%autoreload 2"
   ]
  },
  {
   "cell_type": "code",
   "execution_count": 2,
   "metadata": {
    "papermill": {
     "duration": 0.601299,
     "end_time": "2021-09-17T03:33:33.572330",
     "exception": false,
     "start_time": "2021-09-17T03:33:32.971031",
     "status": "completed"
    },
    "tags": []
   },
   "outputs": [],
   "source": [
    "from pathlib import Path\n",
    "\n",
    "from IPython.display import display\n",
    "import numpy as np\n",
    "from scipy import stats\n",
    "import pandas as pd\n",
    "import pytest\n",
    "\n",
    "# import rpy2.robjects as ro\n",
    "# from rpy2.robjects import pandas2ri\n",
    "# from rpy2.robjects.conversion import localconverter\n",
    "\n",
    "import conf\n",
    "\n",
    "# from entity import Gene\n",
    "# from data.cache import read_data\n",
    "# from multiplier import MultiplierProjection"
   ]
  },
  {
   "cell_type": "code",
   "execution_count": 3,
   "metadata": {
    "papermill": {
     "duration": 0.030743,
     "end_time": "2021-09-17T03:33:33.622696",
     "exception": false,
     "start_time": "2021-09-17T03:33:33.591953",
     "status": "completed"
    },
    "tags": []
   },
   "outputs": [],
   "source": [
    "# readRDS = ro.r[\"readRDS\"]"
   ]
  },
  {
   "cell_type": "code",
   "execution_count": 4,
   "metadata": {
    "papermill": {
     "duration": 0.029335,
     "end_time": "2021-09-17T03:33:33.671678",
     "exception": false,
     "start_time": "2021-09-17T03:33:33.642343",
     "status": "completed"
    },
    "tags": []
   },
   "outputs": [],
   "source": [
    "# saveRDS = ro.r[\"saveRDS\"]"
   ]
  },
  {
   "cell_type": "markdown",
   "metadata": {
    "papermill": {
     "duration": 0.019285,
     "end_time": "2021-09-17T03:33:33.710567",
     "exception": false,
     "start_time": "2021-09-17T03:33:33.691282",
     "status": "completed"
    },
    "tags": []
   },
   "source": [
    "# Settings"
   ]
  },
  {
   "cell_type": "code",
   "execution_count": 5,
   "metadata": {
    "papermill": {
     "duration": 0.035902,
     "end_time": "2021-09-17T03:33:33.765978",
     "exception": false,
     "start_time": "2021-09-17T03:33:33.730076",
     "status": "completed"
    },
    "tags": []
   },
   "outputs": [
    {
     "data": {
      "text/plain": [
       "PosixPath('/opt/data/results/projections')"
      ]
     },
     "metadata": {},
     "output_type": "display_data"
    }
   ],
   "source": [
    "RESULTS_PROJ_OUTPUT_DIR = Path(conf.RESULTS[\"PROJECTIONS_DIR\"])\n",
    "RESULTS_PROJ_OUTPUT_DIR.mkdir(parents=True, exist_ok=True)\n",
    "\n",
    "display(RESULTS_PROJ_OUTPUT_DIR)"
   ]
  },
  {
   "cell_type": "code",
   "execution_count": 6,
   "metadata": {},
   "outputs": [
    {
     "data": {
      "text/plain": [
       "PosixPath('/opt/data/results/clustering/null_sims/projections')"
      ]
     },
     "metadata": {},
     "output_type": "display_data"
    }
   ],
   "source": [
    "OUTPUT_DIR = Path(\n",
    "    conf.RESULTS[\"CLUSTERING_NULL_DIR\"],\n",
    "    \"projections\",\n",
    ").resolve()\n",
    "OUTPUT_DIR.mkdir(parents=True, exist_ok=True)\n",
    "\n",
    "display(OUTPUT_DIR)"
   ]
  },
  {
   "cell_type": "code",
   "execution_count": 7,
   "metadata": {},
   "outputs": [],
   "source": [
    "rs = np.random.RandomState(0)"
   ]
  },
  {
   "cell_type": "markdown",
   "metadata": {
    "papermill": {
     "duration": 0.019237,
     "end_time": "2021-09-17T03:33:33.805019",
     "exception": false,
     "start_time": "2021-09-17T03:33:33.785782",
     "status": "completed"
    },
    "tags": []
   },
   "source": [
    "# Load projection of S-MultiXcan into LV space"
   ]
  },
  {
   "cell_type": "code",
   "execution_count": 8,
   "metadata": {
    "papermill": {
     "duration": 0.029103,
     "end_time": "2021-09-17T03:33:33.853475",
     "exception": false,
     "start_time": "2021-09-17T03:33:33.824372",
     "status": "completed"
    },
    "tags": []
   },
   "outputs": [
    {
     "data": {
      "text/plain": [
       "PosixPath('/opt/data/data/phenomexcan/gene_assoc/smultixcan-efo_partial-mashr-zscores.pkl')"
      ]
     },
     "metadata": {},
     "output_type": "display_data"
    }
   ],
   "source": [
    "smultixcan_results_filename = conf.PHENOMEXCAN[\n",
    "    \"SMULTIXCAN_EFO_PARTIAL_MASHR_ZSCORES_FILE\"\n",
    "]\n",
    "\n",
    "display(smultixcan_results_filename)\n",
    "assert smultixcan_results_filename.exists()"
   ]
  },
  {
   "cell_type": "code",
   "execution_count": 9,
   "metadata": {
    "papermill": {
     "duration": 0.029649,
     "end_time": "2021-09-17T03:33:33.903023",
     "exception": false,
     "start_time": "2021-09-17T03:33:33.873374",
     "status": "completed"
    },
    "tags": []
   },
   "outputs": [
    {
     "data": {
      "text/plain": [
       "'smultixcan-efo_partial-mashr-zscores'"
      ]
     },
     "metadata": {},
     "output_type": "display_data"
    }
   ],
   "source": [
    "results_filename_stem = smultixcan_results_filename.stem\n",
    "display(results_filename_stem)"
   ]
  },
  {
   "cell_type": "code",
   "execution_count": 10,
   "metadata": {},
   "outputs": [
    {
     "data": {
      "text/plain": [
       "PosixPath('/opt/data/results/projections/projection-smultixcan-efo_partial-mashr-zscores.pkl')"
      ]
     },
     "metadata": {},
     "output_type": "display_data"
    }
   ],
   "source": [
    "input_file = Path(\n",
    "    RESULTS_PROJ_OUTPUT_DIR, f\"projection-{results_filename_stem}.pkl\"\n",
    ").resolve()\n",
    "\n",
    "display(input_file)"
   ]
  },
  {
   "cell_type": "code",
   "execution_count": 11,
   "metadata": {},
   "outputs": [],
   "source": [
    "projected_data = pd.read_pickle(input_file)"
   ]
  },
  {
   "cell_type": "code",
   "execution_count": 12,
   "metadata": {},
   "outputs": [
    {
     "data": {
      "text/plain": [
       "(987, 3752)"
      ]
     },
     "execution_count": 12,
     "metadata": {},
     "output_type": "execute_result"
    }
   ],
   "source": [
    "projected_data.shape"
   ]
  },
  {
   "cell_type": "code",
   "execution_count": 13,
   "metadata": {},
   "outputs": [
    {
     "data": {
      "text/html": [
       "<div>\n",
       "<style scoped>\n",
       "    .dataframe tbody tr th:only-of-type {\n",
       "        vertical-align: middle;\n",
       "    }\n",
       "\n",
       "    .dataframe tbody tr th {\n",
       "        vertical-align: top;\n",
       "    }\n",
       "\n",
       "    .dataframe thead th {\n",
       "        text-align: right;\n",
       "    }\n",
       "</style>\n",
       "<table border=\"1\" class=\"dataframe\">\n",
       "  <thead>\n",
       "    <tr style=\"text-align: right;\">\n",
       "      <th></th>\n",
       "      <th>100001_raw-Food_weight</th>\n",
       "      <th>100002_raw-Energy</th>\n",
       "      <th>100003_raw-Protein</th>\n",
       "      <th>100004_raw-Fat</th>\n",
       "      <th>100005_raw-Carbohydrate</th>\n",
       "      <th>100006_raw-Saturated_fat</th>\n",
       "      <th>100007_raw-Polyunsaturated_fat</th>\n",
       "      <th>100008_raw-Total_sugars</th>\n",
       "      <th>100009_raw-Englyst_dietary_fibre</th>\n",
       "      <th>100010-Portion_size</th>\n",
       "      <th>...</th>\n",
       "      <th>visual impairment</th>\n",
       "      <th>vitiligo</th>\n",
       "      <th>vitreous body disease</th>\n",
       "      <th>vocal cord polyp</th>\n",
       "      <th>voice disorders</th>\n",
       "      <th>wellbeing measurement AND family relationship</th>\n",
       "      <th>wheezing</th>\n",
       "      <th>whooping cough</th>\n",
       "      <th>worry measurement</th>\n",
       "      <th>wrist fracture</th>\n",
       "    </tr>\n",
       "  </thead>\n",
       "  <tbody>\n",
       "    <tr>\n",
       "      <th>LV1</th>\n",
       "      <td>-0.021292</td>\n",
       "      <td>-0.046815</td>\n",
       "      <td>-0.021585</td>\n",
       "      <td>-0.030324</td>\n",
       "      <td>-0.017773</td>\n",
       "      <td>-0.007844</td>\n",
       "      <td>-0.015529</td>\n",
       "      <td>-0.011609</td>\n",
       "      <td>-0.051342</td>\n",
       "      <td>-0.036813</td>\n",
       "      <td>...</td>\n",
       "      <td>-0.001614</td>\n",
       "      <td>0.002102</td>\n",
       "      <td>-0.005318</td>\n",
       "      <td>-0.003041</td>\n",
       "      <td>0.012873</td>\n",
       "      <td>-0.015951</td>\n",
       "      <td>-0.018904</td>\n",
       "      <td>0.009576</td>\n",
       "      <td>0.019755</td>\n",
       "      <td>0.010027</td>\n",
       "    </tr>\n",
       "    <tr>\n",
       "      <th>LV2</th>\n",
       "      <td>0.056061</td>\n",
       "      <td>-0.009864</td>\n",
       "      <td>-0.028888</td>\n",
       "      <td>-0.053573</td>\n",
       "      <td>0.006951</td>\n",
       "      <td>-0.054597</td>\n",
       "      <td>-0.030748</td>\n",
       "      <td>0.014519</td>\n",
       "      <td>-0.026933</td>\n",
       "      <td>0.009024</td>\n",
       "      <td>...</td>\n",
       "      <td>-0.029614</td>\n",
       "      <td>-0.033636</td>\n",
       "      <td>0.020768</td>\n",
       "      <td>0.010656</td>\n",
       "      <td>-0.013305</td>\n",
       "      <td>0.050738</td>\n",
       "      <td>0.012085</td>\n",
       "      <td>-0.032372</td>\n",
       "      <td>-0.024540</td>\n",
       "      <td>-0.002616</td>\n",
       "    </tr>\n",
       "    <tr>\n",
       "      <th>LV3</th>\n",
       "      <td>0.001650</td>\n",
       "      <td>-0.004262</td>\n",
       "      <td>0.019211</td>\n",
       "      <td>0.007484</td>\n",
       "      <td>0.004548</td>\n",
       "      <td>0.006548</td>\n",
       "      <td>0.006741</td>\n",
       "      <td>-0.005634</td>\n",
       "      <td>-0.022129</td>\n",
       "      <td>-0.017256</td>\n",
       "      <td>...</td>\n",
       "      <td>0.010539</td>\n",
       "      <td>-0.019591</td>\n",
       "      <td>-0.013391</td>\n",
       "      <td>-0.044369</td>\n",
       "      <td>0.020142</td>\n",
       "      <td>0.006052</td>\n",
       "      <td>0.020869</td>\n",
       "      <td>0.043931</td>\n",
       "      <td>0.058049</td>\n",
       "      <td>-0.013144</td>\n",
       "    </tr>\n",
       "    <tr>\n",
       "      <th>LV4</th>\n",
       "      <td>0.026265</td>\n",
       "      <td>-0.007235</td>\n",
       "      <td>0.004304</td>\n",
       "      <td>-0.042464</td>\n",
       "      <td>-0.001093</td>\n",
       "      <td>-0.041208</td>\n",
       "      <td>-0.051179</td>\n",
       "      <td>0.009060</td>\n",
       "      <td>-0.003999</td>\n",
       "      <td>-0.005874</td>\n",
       "      <td>...</td>\n",
       "      <td>-0.018162</td>\n",
       "      <td>0.012136</td>\n",
       "      <td>-0.046232</td>\n",
       "      <td>-0.030949</td>\n",
       "      <td>-0.040147</td>\n",
       "      <td>0.044545</td>\n",
       "      <td>0.009865</td>\n",
       "      <td>-0.049828</td>\n",
       "      <td>-0.013725</td>\n",
       "      <td>0.024988</td>\n",
       "    </tr>\n",
       "    <tr>\n",
       "      <th>LV5</th>\n",
       "      <td>-0.015616</td>\n",
       "      <td>0.010799</td>\n",
       "      <td>0.017792</td>\n",
       "      <td>0.010591</td>\n",
       "      <td>0.001972</td>\n",
       "      <td>0.040024</td>\n",
       "      <td>-0.027612</td>\n",
       "      <td>-0.001540</td>\n",
       "      <td>0.033072</td>\n",
       "      <td>0.009477</td>\n",
       "      <td>...</td>\n",
       "      <td>0.030632</td>\n",
       "      <td>-0.023253</td>\n",
       "      <td>0.015853</td>\n",
       "      <td>-0.002222</td>\n",
       "      <td>0.019385</td>\n",
       "      <td>-0.015501</td>\n",
       "      <td>-0.031477</td>\n",
       "      <td>-0.002554</td>\n",
       "      <td>-0.032620</td>\n",
       "      <td>0.017731</td>\n",
       "    </tr>\n",
       "  </tbody>\n",
       "</table>\n",
       "<p>5 rows × 3752 columns</p>\n",
       "</div>"
      ],
      "text/plain": [
       "     100001_raw-Food_weight  100002_raw-Energy  100003_raw-Protein  \\\n",
       "LV1               -0.021292          -0.046815           -0.021585   \n",
       "LV2                0.056061          -0.009864           -0.028888   \n",
       "LV3                0.001650          -0.004262            0.019211   \n",
       "LV4                0.026265          -0.007235            0.004304   \n",
       "LV5               -0.015616           0.010799            0.017792   \n",
       "\n",
       "     100004_raw-Fat  100005_raw-Carbohydrate  100006_raw-Saturated_fat  \\\n",
       "LV1       -0.030324                -0.017773                 -0.007844   \n",
       "LV2       -0.053573                 0.006951                 -0.054597   \n",
       "LV3        0.007484                 0.004548                  0.006548   \n",
       "LV4       -0.042464                -0.001093                 -0.041208   \n",
       "LV5        0.010591                 0.001972                  0.040024   \n",
       "\n",
       "     100007_raw-Polyunsaturated_fat  100008_raw-Total_sugars  \\\n",
       "LV1                       -0.015529                -0.011609   \n",
       "LV2                       -0.030748                 0.014519   \n",
       "LV3                        0.006741                -0.005634   \n",
       "LV4                       -0.051179                 0.009060   \n",
       "LV5                       -0.027612                -0.001540   \n",
       "\n",
       "     100009_raw-Englyst_dietary_fibre  100010-Portion_size  ...  \\\n",
       "LV1                         -0.051342            -0.036813  ...   \n",
       "LV2                         -0.026933             0.009024  ...   \n",
       "LV3                         -0.022129            -0.017256  ...   \n",
       "LV4                         -0.003999            -0.005874  ...   \n",
       "LV5                          0.033072             0.009477  ...   \n",
       "\n",
       "     visual impairment  vitiligo  vitreous body disease  vocal cord polyp  \\\n",
       "LV1          -0.001614  0.002102              -0.005318         -0.003041   \n",
       "LV2          -0.029614 -0.033636               0.020768          0.010656   \n",
       "LV3           0.010539 -0.019591              -0.013391         -0.044369   \n",
       "LV4          -0.018162  0.012136              -0.046232         -0.030949   \n",
       "LV5           0.030632 -0.023253               0.015853         -0.002222   \n",
       "\n",
       "     voice disorders  wellbeing measurement AND family relationship  wheezing  \\\n",
       "LV1         0.012873                                      -0.015951 -0.018904   \n",
       "LV2        -0.013305                                       0.050738  0.012085   \n",
       "LV3         0.020142                                       0.006052  0.020869   \n",
       "LV4        -0.040147                                       0.044545  0.009865   \n",
       "LV5         0.019385                                      -0.015501 -0.031477   \n",
       "\n",
       "     whooping cough  worry measurement  wrist fracture  \n",
       "LV1        0.009576           0.019755        0.010027  \n",
       "LV2       -0.032372          -0.024540       -0.002616  \n",
       "LV3        0.043931           0.058049       -0.013144  \n",
       "LV4       -0.049828          -0.013725        0.024988  \n",
       "LV5       -0.002554          -0.032620        0.017731  \n",
       "\n",
       "[5 rows x 3752 columns]"
      ]
     },
     "execution_count": 13,
     "metadata": {},
     "output_type": "execute_result"
    }
   ],
   "source": [
    "projected_data.head()"
   ]
  },
  {
   "cell_type": "markdown",
   "metadata": {
    "papermill": {
     "duration": 0.022787,
     "end_time": "2021-09-17T03:33:43.786825",
     "exception": false,
     "start_time": "2021-09-17T03:33:43.764038",
     "status": "completed"
    },
    "tags": []
   },
   "source": [
    "# Shuffle projected data"
   ]
  },
  {
   "cell_type": "code",
   "execution_count": 14,
   "metadata": {},
   "outputs": [],
   "source": [
    "shuffled_projected_data = projected_data.apply(\n",
    "    lambda x: x.sample(frac=1, random_state=rs).to_numpy()\n",
    ")"
   ]
  },
  {
   "cell_type": "code",
   "execution_count": 15,
   "metadata": {},
   "outputs": [
    {
     "data": {
      "text/plain": [
       "(987, 3752)"
      ]
     },
     "execution_count": 15,
     "metadata": {},
     "output_type": "execute_result"
    }
   ],
   "source": [
    "shuffled_projected_data.shape"
   ]
  },
  {
   "cell_type": "code",
   "execution_count": 16,
   "metadata": {},
   "outputs": [
    {
     "data": {
      "text/html": [
       "<div>\n",
       "<style scoped>\n",
       "    .dataframe tbody tr th:only-of-type {\n",
       "        vertical-align: middle;\n",
       "    }\n",
       "\n",
       "    .dataframe tbody tr th {\n",
       "        vertical-align: top;\n",
       "    }\n",
       "\n",
       "    .dataframe thead th {\n",
       "        text-align: right;\n",
       "    }\n",
       "</style>\n",
       "<table border=\"1\" class=\"dataframe\">\n",
       "  <thead>\n",
       "    <tr style=\"text-align: right;\">\n",
       "      <th></th>\n",
       "      <th>100001_raw-Food_weight</th>\n",
       "      <th>100002_raw-Energy</th>\n",
       "      <th>100003_raw-Protein</th>\n",
       "      <th>100004_raw-Fat</th>\n",
       "      <th>100005_raw-Carbohydrate</th>\n",
       "      <th>100006_raw-Saturated_fat</th>\n",
       "      <th>100007_raw-Polyunsaturated_fat</th>\n",
       "      <th>100008_raw-Total_sugars</th>\n",
       "      <th>100009_raw-Englyst_dietary_fibre</th>\n",
       "      <th>100010-Portion_size</th>\n",
       "      <th>...</th>\n",
       "      <th>visual impairment</th>\n",
       "      <th>vitiligo</th>\n",
       "      <th>vitreous body disease</th>\n",
       "      <th>vocal cord polyp</th>\n",
       "      <th>voice disorders</th>\n",
       "      <th>wellbeing measurement AND family relationship</th>\n",
       "      <th>wheezing</th>\n",
       "      <th>whooping cough</th>\n",
       "      <th>worry measurement</th>\n",
       "      <th>wrist fracture</th>\n",
       "    </tr>\n",
       "  </thead>\n",
       "  <tbody>\n",
       "    <tr>\n",
       "      <th>LV1</th>\n",
       "      <td>-0.073679</td>\n",
       "      <td>-0.015465</td>\n",
       "      <td>-0.008602</td>\n",
       "      <td>-0.012982</td>\n",
       "      <td>-0.045931</td>\n",
       "      <td>-0.040631</td>\n",
       "      <td>0.001114</td>\n",
       "      <td>-0.013283</td>\n",
       "      <td>-0.051335</td>\n",
       "      <td>-0.006559</td>\n",
       "      <td>...</td>\n",
       "      <td>0.017411</td>\n",
       "      <td>-0.014492</td>\n",
       "      <td>-0.005250</td>\n",
       "      <td>0.028588</td>\n",
       "      <td>0.022616</td>\n",
       "      <td>-0.009072</td>\n",
       "      <td>-0.012076</td>\n",
       "      <td>-0.016664</td>\n",
       "      <td>-0.001391</td>\n",
       "      <td>0.003459</td>\n",
       "    </tr>\n",
       "    <tr>\n",
       "      <th>LV2</th>\n",
       "      <td>-0.052828</td>\n",
       "      <td>0.016444</td>\n",
       "      <td>-0.009284</td>\n",
       "      <td>-0.002280</td>\n",
       "      <td>-0.032513</td>\n",
       "      <td>-0.007894</td>\n",
       "      <td>0.017441</td>\n",
       "      <td>-0.031007</td>\n",
       "      <td>-0.041056</td>\n",
       "      <td>-0.029158</td>\n",
       "      <td>...</td>\n",
       "      <td>-0.044056</td>\n",
       "      <td>-0.015335</td>\n",
       "      <td>-0.011027</td>\n",
       "      <td>-0.033919</td>\n",
       "      <td>0.024128</td>\n",
       "      <td>-0.000428</td>\n",
       "      <td>0.014698</td>\n",
       "      <td>-0.031238</td>\n",
       "      <td>0.008222</td>\n",
       "      <td>-0.011381</td>\n",
       "    </tr>\n",
       "    <tr>\n",
       "      <th>LV3</th>\n",
       "      <td>0.041971</td>\n",
       "      <td>-0.023914</td>\n",
       "      <td>-0.042691</td>\n",
       "      <td>-0.010464</td>\n",
       "      <td>0.016177</td>\n",
       "      <td>0.014190</td>\n",
       "      <td>0.013297</td>\n",
       "      <td>0.015347</td>\n",
       "      <td>-0.011235</td>\n",
       "      <td>-0.015889</td>\n",
       "      <td>...</td>\n",
       "      <td>-0.027326</td>\n",
       "      <td>-0.015616</td>\n",
       "      <td>0.033039</td>\n",
       "      <td>-0.026169</td>\n",
       "      <td>-0.036931</td>\n",
       "      <td>0.008826</td>\n",
       "      <td>0.049195</td>\n",
       "      <td>0.003056</td>\n",
       "      <td>0.022983</td>\n",
       "      <td>-0.003958</td>\n",
       "    </tr>\n",
       "    <tr>\n",
       "      <th>LV4</th>\n",
       "      <td>0.004956</td>\n",
       "      <td>-0.002509</td>\n",
       "      <td>0.037642</td>\n",
       "      <td>-0.037028</td>\n",
       "      <td>0.010150</td>\n",
       "      <td>-0.002645</td>\n",
       "      <td>-0.038279</td>\n",
       "      <td>0.006125</td>\n",
       "      <td>0.017921</td>\n",
       "      <td>-0.034420</td>\n",
       "      <td>...</td>\n",
       "      <td>0.006024</td>\n",
       "      <td>-0.016856</td>\n",
       "      <td>0.013144</td>\n",
       "      <td>0.012766</td>\n",
       "      <td>-0.040705</td>\n",
       "      <td>0.002743</td>\n",
       "      <td>0.017473</td>\n",
       "      <td>-0.039891</td>\n",
       "      <td>-0.025960</td>\n",
       "      <td>0.017731</td>\n",
       "    </tr>\n",
       "    <tr>\n",
       "      <th>LV5</th>\n",
       "      <td>-0.007681</td>\n",
       "      <td>-0.000760</td>\n",
       "      <td>0.010101</td>\n",
       "      <td>-0.008053</td>\n",
       "      <td>-0.038093</td>\n",
       "      <td>-0.064487</td>\n",
       "      <td>0.019368</td>\n",
       "      <td>0.025036</td>\n",
       "      <td>-0.024850</td>\n",
       "      <td>-0.036107</td>\n",
       "      <td>...</td>\n",
       "      <td>0.010510</td>\n",
       "      <td>0.000881</td>\n",
       "      <td>-0.003383</td>\n",
       "      <td>-0.029238</td>\n",
       "      <td>0.043541</td>\n",
       "      <td>0.016166</td>\n",
       "      <td>-0.056732</td>\n",
       "      <td>0.010405</td>\n",
       "      <td>0.029950</td>\n",
       "      <td>0.002559</td>\n",
       "    </tr>\n",
       "  </tbody>\n",
       "</table>\n",
       "<p>5 rows × 3752 columns</p>\n",
       "</div>"
      ],
      "text/plain": [
       "     100001_raw-Food_weight  100002_raw-Energy  100003_raw-Protein  \\\n",
       "LV1               -0.073679          -0.015465           -0.008602   \n",
       "LV2               -0.052828           0.016444           -0.009284   \n",
       "LV3                0.041971          -0.023914           -0.042691   \n",
       "LV4                0.004956          -0.002509            0.037642   \n",
       "LV5               -0.007681          -0.000760            0.010101   \n",
       "\n",
       "     100004_raw-Fat  100005_raw-Carbohydrate  100006_raw-Saturated_fat  \\\n",
       "LV1       -0.012982                -0.045931                 -0.040631   \n",
       "LV2       -0.002280                -0.032513                 -0.007894   \n",
       "LV3       -0.010464                 0.016177                  0.014190   \n",
       "LV4       -0.037028                 0.010150                 -0.002645   \n",
       "LV5       -0.008053                -0.038093                 -0.064487   \n",
       "\n",
       "     100007_raw-Polyunsaturated_fat  100008_raw-Total_sugars  \\\n",
       "LV1                        0.001114                -0.013283   \n",
       "LV2                        0.017441                -0.031007   \n",
       "LV3                        0.013297                 0.015347   \n",
       "LV4                       -0.038279                 0.006125   \n",
       "LV5                        0.019368                 0.025036   \n",
       "\n",
       "     100009_raw-Englyst_dietary_fibre  100010-Portion_size  ...  \\\n",
       "LV1                         -0.051335            -0.006559  ...   \n",
       "LV2                         -0.041056            -0.029158  ...   \n",
       "LV3                         -0.011235            -0.015889  ...   \n",
       "LV4                          0.017921            -0.034420  ...   \n",
       "LV5                         -0.024850            -0.036107  ...   \n",
       "\n",
       "     visual impairment  vitiligo  vitreous body disease  vocal cord polyp  \\\n",
       "LV1           0.017411 -0.014492              -0.005250          0.028588   \n",
       "LV2          -0.044056 -0.015335              -0.011027         -0.033919   \n",
       "LV3          -0.027326 -0.015616               0.033039         -0.026169   \n",
       "LV4           0.006024 -0.016856               0.013144          0.012766   \n",
       "LV5           0.010510  0.000881              -0.003383         -0.029238   \n",
       "\n",
       "     voice disorders  wellbeing measurement AND family relationship  wheezing  \\\n",
       "LV1         0.022616                                      -0.009072 -0.012076   \n",
       "LV2         0.024128                                      -0.000428  0.014698   \n",
       "LV3        -0.036931                                       0.008826  0.049195   \n",
       "LV4        -0.040705                                       0.002743  0.017473   \n",
       "LV5         0.043541                                       0.016166 -0.056732   \n",
       "\n",
       "     whooping cough  worry measurement  wrist fracture  \n",
       "LV1       -0.016664          -0.001391        0.003459  \n",
       "LV2       -0.031238           0.008222       -0.011381  \n",
       "LV3        0.003056           0.022983       -0.003958  \n",
       "LV4       -0.039891          -0.025960        0.017731  \n",
       "LV5        0.010405           0.029950        0.002559  \n",
       "\n",
       "[5 rows x 3752 columns]"
      ]
     },
     "execution_count": 16,
     "metadata": {},
     "output_type": "execute_result"
    }
   ],
   "source": [
    "shuffled_projected_data.head()"
   ]
  },
  {
   "cell_type": "markdown",
   "metadata": {},
   "source": [
    "## Testing"
   ]
  },
  {
   "cell_type": "code",
   "execution_count": 17,
   "metadata": {},
   "outputs": [],
   "source": [
    "assert stats.pearsonr(projected_data.loc[\"LV1\"], projected_data.loc[\"LV1\"])[\n",
    "    0\n",
    "] == pytest.approx(1.0)\n",
    "assert stats.pearsonr(\n",
    "    shuffled_projected_data.loc[\"LV1\"], shuffled_projected_data.loc[\"LV1\"]\n",
    ")[0] == pytest.approx(1.0)"
   ]
  },
  {
   "cell_type": "code",
   "execution_count": 18,
   "metadata": {},
   "outputs": [
    {
     "data": {
      "text/plain": [
       "(-0.007643915919422117, 0.6397359812854888)"
      ]
     },
     "metadata": {},
     "output_type": "display_data"
    }
   ],
   "source": [
    "_tmp = stats.pearsonr(shuffled_projected_data.loc[\"LV1\"], projected_data.loc[\"LV1\"])\n",
    "display(_tmp)\n",
    "assert _tmp[0] == pytest.approx(0.0, rel=0, abs=0.01)"
   ]
  },
  {
   "cell_type": "markdown",
   "metadata": {
    "papermill": {
     "duration": 0.022787,
     "end_time": "2021-09-17T03:33:43.786825",
     "exception": false,
     "start_time": "2021-09-17T03:33:43.764038",
     "status": "completed"
    },
    "tags": []
   },
   "source": [
    "# Quick analysis"
   ]
  },
  {
   "cell_type": "markdown",
   "metadata": {
    "papermill": {
     "duration": 0.022787,
     "end_time": "2021-09-17T03:33:43.786825",
     "exception": false,
     "start_time": "2021-09-17T03:33:43.764038",
     "status": "completed"
    },
    "tags": []
   },
   "source": [
    "Ensure we broke known relationships"
   ]
  },
  {
   "cell_type": "code",
   "execution_count": 19,
   "metadata": {
    "papermill": {
     "duration": 0.035829,
     "end_time": "2021-09-17T03:33:43.845597",
     "exception": false,
     "start_time": "2021-09-17T03:33:43.809768",
     "status": "completed"
    },
    "tags": []
   },
   "outputs": [
    {
     "data": {
      "text/plain": [
       "inflammatory bowel disease                                                                      0.195017\n",
       "family history of breast cancer                                                                 0.142886\n",
       "K11_COELIAC-Coeliac_disease                                                                     0.131584\n",
       "6177_1-Medication_for_cholesterol_blood_pressure_or_diabetes_Cholesterol_lowering_medication    0.115584\n",
       "30210_raw-Eosinophill_percentage                                                                0.105227\n",
       "6158_3-Why_reduced_smoking_Health_precaution                                                    0.104209\n",
       "3148_raw-Heel_bone_mineral_density_BMD                                                          0.100769\n",
       "throat disease                                                                                  0.099966\n",
       "49_raw-Hip_circumference                                                                        0.098809\n",
       "20003_1140865416-Treatmentmedication_code_colpermin_02ml_mr_gel_ec_capsule                      0.096305\n",
       "urethral disease                                                                                0.094826\n",
       "4119_raw-Ankle_spacing_width_right                                                              0.093328\n",
       "20428-Professional_informed_about_anxiety                                                       0.092763\n",
       "L12_ERYTHEMATOUSOTH-Other_erythematous_conditions                                               0.090667\n",
       "myositis                                                                                        0.090218\n",
       "E4_DM1KETO-Type_1_diabetes_with_ketoacidosis                                                    0.088324\n",
       "20084_469-Vitamin_andor_mineral_supplement_use_Multivitamin_with_iron_                          0.086658\n",
       "organ donor AND tissue donor                                                                    0.085934\n",
       "20003_1140862382-Treatmentmedication_code_becotide_50_inhaler                                   0.084530\n",
       "20003_1141151946-Treatmentmedication_code_cipramil_10mg_tablet                                  0.084264\n",
       "Name: LV603, dtype: float64"
      ]
     },
     "execution_count": 19,
     "metadata": {},
     "output_type": "execute_result"
    }
   ],
   "source": [
    "(shuffled_projected_data.loc[\"LV603\"].sort_values(ascending=False).head(20))"
   ]
  },
  {
   "cell_type": "code",
   "execution_count": 20,
   "metadata": {
    "papermill": {
     "duration": 0.035779,
     "end_time": "2021-09-17T03:33:43.904597",
     "exception": false,
     "start_time": "2021-09-17T03:33:43.868818",
     "status": "completed"
    },
    "tags": []
   },
   "outputs": [
    {
     "data": {
      "text/plain": [
       "22601_41313093-Job_coding_ward_clerk_medical_records_clerk                                                                  0.141402\n",
       "30070_raw-Red_blood_cell_erythrocyte_distribution_width                                                                     0.129152\n",
       "rheumatoid arthritis                                                                                                        0.113252\n",
       "fever of unknown origin                                                                                                     0.111836\n",
       "K11_APPENDOTH-Other_appendicitis                                                                                            0.111691\n",
       "5496-Leg_pain_when_walking_ever_disappears_while_walking                                                                    0.105609\n",
       "22601_24213281-Job_coding_charteredcertified_accountant_auditor_company_accountant_articledaudit_clerk_official_receiver    0.103579\n",
       "30050_raw-Mean_corpuscular_haemoglobin                                                                                      0.103507\n",
       "20003_1141200004-Treatmentmedication_code_pregabalin                                                                        0.102960\n",
       "20482-Number_of_times_selfharmed                                                                                            0.100585\n",
       "22601_11343224-Job_coding_advertising_or_public_relations_manager_mediapublicity_manager_campaignfundraising_manager        0.100055\n",
       "20003_1140888688-Treatmentmedication_code_betahistine                                                                       0.099885\n",
       "6139_3-Gas_or_solidfuel_cookingheating_An_open_solid_fuel_fire_that_you_use_regularly_in_winter_time                        0.096447\n",
       "22601_52442947-Job_coding_television_or_radio_engineer_video_engineer                                                       0.094493\n",
       "MAGNETIC_HDL.C                                                                                                              0.094416\n",
       "22617_3221-Job_SOC_coding_Physiotherapists                                                                                  0.090721\n",
       "20090_370-Type_of_fatoil_used_in_cooking_Unknown_olive_spread                                                               0.090596\n",
       "HYPTENSPREG-Pregnancy_hypertension                                                                                          0.090211\n",
       "22615_2-Workplace_had_a_lot_of_diesel_exhaust_Often                                                                         0.089179\n",
       "22605_raw-Work_hours_per_week_exact_value                                                                                   0.088303\n",
       "Name: LV136, dtype: float64"
      ]
     },
     "execution_count": 20,
     "metadata": {},
     "output_type": "execute_result"
    }
   ],
   "source": [
    "(shuffled_projected_data.loc[\"LV136\"].sort_values(ascending=False).head(20))"
   ]
  },
  {
   "cell_type": "code",
   "execution_count": 21,
   "metadata": {
    "papermill": {
     "duration": 0.036153,
     "end_time": "2021-09-17T03:33:43.964291",
     "exception": false,
     "start_time": "2021-09-17T03:33:43.928138",
     "status": "completed"
    },
    "tags": []
   },
   "outputs": [
    {
     "data": {
      "text/plain": [
       "50_raw-Standing_height                                                                                                               0.160837\n",
       "22601_52442947-Job_coding_television_or_radio_engineer_video_engineer                                                                0.153703\n",
       "22601_31152695-Job_coding_quality_assurance_techniciancoordinator                                                                    0.135301\n",
       "monocyte count                                                                                                                       0.126518\n",
       "30250_raw-Reticulocyte_count                                                                                                         0.107709\n",
       "20095_1-Size_of_white_wine_glass_drunk_small_125ml                                                                                   0.104462\n",
       "22617_9244-Job_SOC_coding_School_midday_assistants                                                                                   0.100867\n",
       "6140_2-Heating_types_in_home_Electric_storage_heaters                                                                                0.100624\n",
       "22617_2216-Job_SOC_coding_Veterinarians                                                                                              0.097789\n",
       "I9_PAD-Peripheral_artery_disease                                                                                                     0.087988\n",
       "20003_1141173328-Treatmentmedication_code_ursodeoxycholic_acid                                                                       0.086746\n",
       "22601_35323258-Job_coding_broker_financialinsurance_broker_foreign_exchange_dealer_shipmarine_broker_stockbroker_commodity_trader    0.086704\n",
       "22601_52492949-Job_coding_electronic_engineer_maintenance_alarm_engineer_office_equipment_engineer                                   0.084845\n",
       "670_1-Type_of_accommodation_lived_in_A_house_or_bungalow                                                                             0.084304\n",
       "2395_1-Hairbalding_pattern_Pattern_1                                                                                                 0.083185\n",
       "22617_8114-Job_SOC_coding_Chemical_and_related_process_operatives                                                                    0.082563\n",
       "skin wound                                                                                                                           0.082241\n",
       "sum of neutrophil and eosinophil counts                                                                                              0.082102\n",
       "L12_NONIONRADISKIN-Skin_changes_due_to_chronic_exposure_to_nonionizing_radiation                                                     0.081556\n",
       "hypertension                                                                                                                         0.081379\n",
       "Name: LV844, dtype: float64"
      ]
     },
     "execution_count": 21,
     "metadata": {},
     "output_type": "execute_result"
    }
   ],
   "source": [
    "(shuffled_projected_data.loc[\"LV844\"].sort_values(ascending=False).head(20))"
   ]
  },
  {
   "cell_type": "code",
   "execution_count": 22,
   "metadata": {
    "papermill": {
     "duration": 0.036153,
     "end_time": "2021-09-17T03:33:43.964291",
     "exception": false,
     "start_time": "2021-09-17T03:33:43.928138",
     "status": "completed"
    },
    "tags": []
   },
   "outputs": [
    {
     "data": {
      "text/plain": [
       "hypothyroidism AND myxedema                                                                                                   0.309303\n",
       "30100_raw-Mean_platelet_thrombocyte_volume                                                                                    0.215921\n",
       "2986-Started_insulin_within_one_year_diagnosis_of_diabetes                                                                    0.158714\n",
       "sum of neutrophil and eosinophil counts                                                                                       0.151475\n",
       "20003_1140882728-Treatmentmedication_code_otomize_ear_spray                                                                   0.128635\n",
       "22660_102-Gap_coding_Unpaid_or_voluntary_work                                                                                 0.120179\n",
       "20003_1140876146-Treatmentmedication_code_rhinocort_50micrograms_nasal_spray                                                  0.114425\n",
       "erythrocyte count                                                                                                             0.109865\n",
       "30140_raw-Neutrophill_count                                                                                                   0.107662\n",
       "4277-Volume_level_set_by_participant_right                                                                                    0.102804\n",
       "4080_raw-Systolic_blood_pressure_automated_reading                                                                            0.101193\n",
       "30230-Nucleated_red_blood_cell_percentage                                                                                     0.100198\n",
       "22617_7125-Job_SOC_coding_Merchandisers_and_window_dressers                                                                   0.099313\n",
       "C_MESTOTHEL_SOFTTISSUE                                                                                                        0.096598\n",
       "sexual dysfunction                                                                                                            0.096065\n",
       "crush injury                                                                                                                  0.093664\n",
       "41248_5003-Destinations_on_discharge_from_hospital_recoded_Transfer_to_other_NHS_provider_Psychiatry_learning_disabilities    0.092862\n",
       "20541-Difficulty_stopping_worrying_during_worst_period_of_anxiety                                                             0.092049\n",
       "102130-Dessert_consumers                                                                                                      0.091288\n",
       "20002_99999-Noncancer_illness_code_selfreported_unclassifiable                                                                0.090255\n",
       "Name: LV246, dtype: float64"
      ]
     },
     "execution_count": 22,
     "metadata": {},
     "output_type": "execute_result"
    }
   ],
   "source": [
    "(shuffled_projected_data.loc[\"LV246\"].sort_values(ascending=False).head(20))"
   ]
  },
  {
   "cell_type": "markdown",
   "metadata": {
    "papermill": {
     "duration": 0.023299,
     "end_time": "2021-09-17T03:33:44.011139",
     "exception": false,
     "start_time": "2021-09-17T03:33:43.987840",
     "status": "completed"
    },
    "tags": []
   },
   "source": [
    "# Save"
   ]
  },
  {
   "cell_type": "code",
   "execution_count": 23,
   "metadata": {
    "papermill": {
     "duration": 0.034403,
     "end_time": "2021-09-17T03:33:44.068948",
     "exception": false,
     "start_time": "2021-09-17T03:33:44.034545",
     "status": "completed"
    },
    "tags": []
   },
   "outputs": [
    {
     "data": {
      "text/plain": [
       "PosixPath('/opt/data/results/clustering/null_sims/projections/projection-smultixcan-efo_partial-mashr-zscores.pkl')"
      ]
     },
     "metadata": {},
     "output_type": "display_data"
    }
   ],
   "source": [
    "output_file = Path(OUTPUT_DIR, f\"projection-{results_filename_stem}.pkl\").resolve()\n",
    "\n",
    "display(output_file)"
   ]
  },
  {
   "cell_type": "code",
   "execution_count": 24,
   "metadata": {
    "papermill": {
     "duration": 0.174553,
     "end_time": "2021-09-17T03:33:44.267472",
     "exception": false,
     "start_time": "2021-09-17T03:33:44.092919",
     "status": "completed"
    },
    "tags": []
   },
   "outputs": [],
   "source": [
    "shuffled_projected_data.to_pickle(output_file)"
   ]
  },
  {
   "cell_type": "code",
   "execution_count": null,
   "metadata": {
    "papermill": {
     "duration": 0.027631,
     "end_time": "2021-09-17T03:36:59.178733",
     "exception": false,
     "start_time": "2021-09-17T03:36:59.151102",
     "status": "completed"
    },
    "tags": []
   },
   "outputs": [],
   "source": []
  }
 ],
 "metadata": {
  "jupytext": {
   "cell_metadata_filter": "all,-execution,-papermill,-trusted",
   "formats": "ipynb,py//py:percent"
  },
  "kernelspec": {
   "display_name": "Python 3 (ipykernel)",
   "language": "python",
   "name": "python3"
  },
  "language_info": {
   "codemirror_mode": {
    "name": "ipython",
    "version": 3
   },
   "file_extension": ".py",
   "mimetype": "text/x-python",
   "name": "python",
   "nbconvert_exporter": "python",
   "pygments_lexer": "ipython3",
   "version": "3.8.13"
  },
  "papermill": {
   "default_parameters": {},
   "duration": 207.885117,
   "end_time": "2021-09-17T03:36:59.733977",
   "environment_variables": {},
   "exception": null,
   "input_path": "05_projections/010-multiplier-phenomexcan_efo.ipynb",
   "output_path": "05_projections/010-multiplier-phenomexcan_efo.run.ipynb",
   "parameters": {},
   "start_time": "2021-09-17T03:33:31.848860",
   "version": "2.2.2"
  },
  "toc-autonumbering": true
 },
 "nbformat": 4,
 "nbformat_minor": 4
}
