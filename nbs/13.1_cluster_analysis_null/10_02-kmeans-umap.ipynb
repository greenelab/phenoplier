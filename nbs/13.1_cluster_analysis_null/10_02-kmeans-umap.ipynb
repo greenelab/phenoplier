{
 "cells": [
  {
   "cell_type": "markdown",
   "id": "27827a0d",
   "metadata": {
    "papermill": {
     "duration": 0.033554,
     "end_time": "2022-09-11T21:07:52.394229",
     "exception": false,
     "start_time": "2022-09-11T21:07:52.360675",
     "status": "completed"
    },
    "tags": []
   },
   "source": [
    "# Description"
   ]
  },
  {
   "cell_type": "markdown",
   "id": "ae81824d",
   "metadata": {
    "papermill": {
     "duration": 0.008367,
     "end_time": "2022-09-11T21:07:52.415435",
     "exception": false,
     "start_time": "2022-09-11T21:07:52.407068",
     "status": "completed"
    },
    "tags": []
   },
   "source": [
    "Runs k-means on the umap version of the data."
   ]
  },
  {
   "cell_type": "markdown",
   "id": "3f39f9a3",
   "metadata": {
    "papermill": {
     "duration": 0.006053,
     "end_time": "2022-09-11T21:07:52.428433",
     "exception": false,
     "start_time": "2022-09-11T21:07:52.422380",
     "status": "completed"
    },
    "tags": []
   },
   "source": [
    "# Environment variables"
   ]
  },
  {
   "cell_type": "code",
   "execution_count": 1,
   "id": "44df7394",
   "metadata": {
    "execution": {
     "iopub.execute_input": "2022-09-11T21:07:52.441982Z",
     "iopub.status.busy": "2022-09-11T21:07:52.441737Z",
     "iopub.status.idle": "2022-09-11T21:07:52.456924Z",
     "shell.execute_reply": "2022-09-11T21:07:52.456415Z"
    },
    "papermill": {
     "duration": 0.023753,
     "end_time": "2022-09-11T21:07:52.458275",
     "exception": false,
     "start_time": "2022-09-11T21:07:52.434522",
     "status": "completed"
    },
    "tags": []
   },
   "outputs": [
    {
     "data": {
      "text/plain": [
       "3"
      ]
     },
     "metadata": {},
     "output_type": "display_data"
    }
   ],
   "source": [
    "from IPython.display import display\n",
    "\n",
    "import conf\n",
    "\n",
    "N_JOBS = conf.GENERAL[\"N_JOBS\"]\n",
    "display(N_JOBS)"
   ]
  },
  {
   "cell_type": "code",
   "execution_count": 2,
   "id": "0b4cb365",
   "metadata": {
    "execution": {
     "iopub.execute_input": "2022-09-11T21:07:52.472434Z",
     "iopub.status.busy": "2022-09-11T21:07:52.472237Z",
     "iopub.status.idle": "2022-09-11T21:07:52.477228Z",
     "shell.execute_reply": "2022-09-11T21:07:52.476794Z"
    },
    "papermill": {
     "duration": 0.01359,
     "end_time": "2022-09-11T21:07:52.478457",
     "exception": false,
     "start_time": "2022-09-11T21:07:52.464867",
     "status": "completed"
    },
    "tags": []
   },
   "outputs": [
    {
     "name": "stdout",
     "output_type": "stream",
     "text": [
      "env: MKL_NUM_THREADS=3\n",
      "env: OPEN_BLAS_NUM_THREADS=3\n",
      "env: NUMEXPR_NUM_THREADS=3\n",
      "env: OMP_NUM_THREADS=3\n"
     ]
    }
   ],
   "source": [
    "%env MKL_NUM_THREADS=$N_JOBS\n",
    "%env OPEN_BLAS_NUM_THREADS=$N_JOBS\n",
    "%env NUMEXPR_NUM_THREADS=$N_JOBS\n",
    "%env OMP_NUM_THREADS=$N_JOBS"
   ]
  },
  {
   "cell_type": "markdown",
   "id": "4dcb69b8",
   "metadata": {
    "papermill": {
     "duration": 0.006603,
     "end_time": "2022-09-11T21:07:52.491627",
     "exception": false,
     "start_time": "2022-09-11T21:07:52.485024",
     "status": "completed"
    },
    "tags": []
   },
   "source": [
    "# Modules loading"
   ]
  },
  {
   "cell_type": "code",
   "execution_count": 3,
   "id": "7a0727cc",
   "metadata": {
    "execution": {
     "iopub.execute_input": "2022-09-11T21:07:52.505618Z",
     "iopub.status.busy": "2022-09-11T21:07:52.505467Z",
     "iopub.status.idle": "2022-09-11T21:07:52.517946Z",
     "shell.execute_reply": "2022-09-11T21:07:52.517426Z"
    },
    "papermill": {
     "duration": 0.020954,
     "end_time": "2022-09-11T21:07:52.519167",
     "exception": false,
     "start_time": "2022-09-11T21:07:52.498213",
     "status": "completed"
    },
    "tags": []
   },
   "outputs": [],
   "source": [
    "%load_ext autoreload\n",
    "%autoreload 2"
   ]
  },
  {
   "cell_type": "code",
   "execution_count": 4,
   "id": "961395dd",
   "metadata": {
    "execution": {
     "iopub.execute_input": "2022-09-11T21:07:52.533776Z",
     "iopub.status.busy": "2022-09-11T21:07:52.533622Z",
     "iopub.status.idle": "2022-09-11T21:07:53.184378Z",
     "shell.execute_reply": "2022-09-11T21:07:53.183788Z"
    },
    "papermill": {
     "duration": 0.659588,
     "end_time": "2022-09-11T21:07:53.185800",
     "exception": false,
     "start_time": "2022-09-11T21:07:52.526212",
     "status": "completed"
    },
    "tags": []
   },
   "outputs": [],
   "source": [
    "from pathlib import Path\n",
    "\n",
    "import numpy as np\n",
    "import pandas as pd\n",
    "import matplotlib.pyplot as plt\n",
    "import seaborn as sns\n",
    "\n",
    "from utils import generate_result_set_name"
   ]
  },
  {
   "cell_type": "markdown",
   "id": "ba5f9c3f",
   "metadata": {
    "papermill": {
     "duration": 0.006291,
     "end_time": "2022-09-11T21:07:53.199168",
     "exception": false,
     "start_time": "2022-09-11T21:07:53.192877",
     "status": "completed"
    },
    "tags": []
   },
   "source": [
    "# Settings"
   ]
  },
  {
   "cell_type": "code",
   "execution_count": 5,
   "id": "56ceb768",
   "metadata": {
    "execution": {
     "iopub.execute_input": "2022-09-11T21:07:53.224501Z",
     "iopub.status.busy": "2022-09-11T21:07:53.224341Z",
     "iopub.status.idle": "2022-09-11T21:07:53.240548Z",
     "shell.execute_reply": "2022-09-11T21:07:53.240023Z"
    },
    "papermill": {
     "duration": 0.035854,
     "end_time": "2022-09-11T21:07:53.241907",
     "exception": false,
     "start_time": "2022-09-11T21:07:53.206053",
     "status": "completed"
    },
    "tags": []
   },
   "outputs": [],
   "source": [
    "np.random.seed(0)"
   ]
  },
  {
   "cell_type": "code",
   "execution_count": 6,
   "id": "42c52f9a",
   "metadata": {
    "execution": {
     "iopub.execute_input": "2022-09-11T21:07:53.256662Z",
     "iopub.status.busy": "2022-09-11T21:07:53.256505Z",
     "iopub.status.idle": "2022-09-11T21:07:53.272946Z",
     "shell.execute_reply": "2022-09-11T21:07:53.272372Z"
    },
    "papermill": {
     "duration": 0.025369,
     "end_time": "2022-09-11T21:07:53.274322",
     "exception": false,
     "start_time": "2022-09-11T21:07:53.248953",
     "status": "completed"
    },
    "tags": []
   },
   "outputs": [],
   "source": [
    "INITIAL_RANDOM_STATE = 20000"
   ]
  },
  {
   "cell_type": "markdown",
   "id": "91600e69",
   "metadata": {
    "papermill": {
     "duration": 0.006866,
     "end_time": "2022-09-11T21:07:53.288360",
     "exception": false,
     "start_time": "2022-09-11T21:07:53.281494",
     "status": "completed"
    },
    "tags": []
   },
   "source": [
    "## Input data"
   ]
  },
  {
   "cell_type": "code",
   "execution_count": 7,
   "id": "d2e6efba",
   "metadata": {
    "execution": {
     "iopub.execute_input": "2022-09-11T21:07:53.330680Z",
     "iopub.status.busy": "2022-09-11T21:07:53.330477Z",
     "iopub.status.idle": "2022-09-11T21:07:53.349660Z",
     "shell.execute_reply": "2022-09-11T21:07:53.348970Z"
    },
    "papermill": {
     "duration": 0.05582,
     "end_time": "2022-09-11T21:07:53.351217",
     "exception": false,
     "start_time": "2022-09-11T21:07:53.295397",
     "status": "completed"
    },
    "tags": []
   },
   "outputs": [],
   "source": [
    "INPUT_SUBSET = \"umap\""
   ]
  },
  {
   "cell_type": "code",
   "execution_count": 8,
   "id": "08caa708",
   "metadata": {
    "execution": {
     "iopub.execute_input": "2022-09-11T21:07:53.368838Z",
     "iopub.status.busy": "2022-09-11T21:07:53.368649Z",
     "iopub.status.idle": "2022-09-11T21:07:53.388243Z",
     "shell.execute_reply": "2022-09-11T21:07:53.387603Z"
    },
    "papermill": {
     "duration": 0.030094,
     "end_time": "2022-09-11T21:07:53.389770",
     "exception": false,
     "start_time": "2022-09-11T21:07:53.359676",
     "status": "completed"
    },
    "tags": []
   },
   "outputs": [],
   "source": [
    "INPUT_STEM = \"z_score_std-projection-smultixcan-efo_partial-mashr-zscores\""
   ]
  },
  {
   "cell_type": "code",
   "execution_count": 9,
   "id": "05db4f1f",
   "metadata": {
    "execution": {
     "iopub.execute_input": "2022-09-11T21:07:53.407395Z",
     "iopub.status.busy": "2022-09-11T21:07:53.407196Z",
     "iopub.status.idle": "2022-09-11T21:07:53.426165Z",
     "shell.execute_reply": "2022-09-11T21:07:53.425527Z"
    },
    "papermill": {
     "duration": 0.02956,
     "end_time": "2022-09-11T21:07:53.427749",
     "exception": false,
     "start_time": "2022-09-11T21:07:53.398189",
     "status": "completed"
    },
    "tags": []
   },
   "outputs": [],
   "source": [
    "DR_OPTIONS = {\n",
    "    \"n_components\": 50,\n",
    "    \"metric\": \"euclidean\",\n",
    "    \"n_neighbors\": 15,\n",
    "    \"random_state\": 0,\n",
    "}"
   ]
  },
  {
   "cell_type": "code",
   "execution_count": 10,
   "id": "a84334bb",
   "metadata": {
    "execution": {
     "iopub.execute_input": "2022-09-11T21:07:53.445543Z",
     "iopub.status.busy": "2022-09-11T21:07:53.445347Z",
     "iopub.status.idle": "2022-09-11T21:07:53.467282Z",
     "shell.execute_reply": "2022-09-11T21:07:53.466658Z"
    },
    "papermill": {
     "duration": 0.032494,
     "end_time": "2022-09-11T21:07:53.468742",
     "exception": false,
     "start_time": "2022-09-11T21:07:53.436248",
     "status": "completed"
    },
    "tags": []
   },
   "outputs": [
    {
     "data": {
      "text/plain": [
       "PosixPath('/opt/data/results/clustering/null_sims/data_transformations/umap/umap-z_score_std-projection-smultixcan-efo_partial-mashr-zscores-metric_euclidean-n_components_50-n_neighbors_15-random_state_0.pkl')"
      ]
     },
     "metadata": {},
     "output_type": "display_data"
    },
    {
     "data": {
      "text/plain": [
       "'umap-z_score_std-projection-smultixcan-efo_partial-mashr-zscores-metric_euclidean-n_components_50-n_neighbors_15-random_state_0'"
      ]
     },
     "metadata": {},
     "output_type": "display_data"
    }
   ],
   "source": [
    "input_filepath = Path(\n",
    "    conf.RESULTS[\"CLUSTERING_NULL_DIR\"],\n",
    "    \"data_transformations\",\n",
    "    INPUT_SUBSET,\n",
    "    generate_result_set_name(\n",
    "        DR_OPTIONS, prefix=f\"{INPUT_SUBSET}-{INPUT_STEM}-\", suffix=\".pkl\"\n",
    "    ),\n",
    ").resolve()\n",
    "display(input_filepath)\n",
    "\n",
    "assert input_filepath.exists(), \"Input file does not exist\"\n",
    "\n",
    "input_filepath_stem = input_filepath.stem\n",
    "display(input_filepath_stem)"
   ]
  },
  {
   "cell_type": "markdown",
   "id": "345790ea",
   "metadata": {
    "papermill": {
     "duration": 0.00713,
     "end_time": "2022-09-11T21:07:53.484499",
     "exception": false,
     "start_time": "2022-09-11T21:07:53.477369",
     "status": "completed"
    },
    "tags": []
   },
   "source": [
    "## Clustering"
   ]
  },
  {
   "cell_type": "code",
   "execution_count": 11,
   "id": "597e8cea",
   "metadata": {
    "execution": {
     "iopub.execute_input": "2022-09-11T21:07:53.498926Z",
     "iopub.status.busy": "2022-09-11T21:07:53.498719Z",
     "iopub.status.idle": "2022-09-11T21:07:53.590535Z",
     "shell.execute_reply": "2022-09-11T21:07:53.589864Z"
    },
    "papermill": {
     "duration": 0.100595,
     "end_time": "2022-09-11T21:07:53.591917",
     "exception": false,
     "start_time": "2022-09-11T21:07:53.491322",
     "status": "completed"
    },
    "tags": []
   },
   "outputs": [],
   "source": [
    "from sklearn.cluster import KMeans"
   ]
  },
  {
   "cell_type": "code",
   "execution_count": 12,
   "id": "a11913bd",
   "metadata": {
    "execution": {
     "iopub.execute_input": "2022-09-11T21:07:53.611715Z",
     "iopub.status.busy": "2022-09-11T21:07:53.611552Z",
     "iopub.status.idle": "2022-09-11T21:07:53.629585Z",
     "shell.execute_reply": "2022-09-11T21:07:53.628954Z"
    },
    "papermill": {
     "duration": 0.031144,
     "end_time": "2022-09-11T21:07:53.631053",
     "exception": false,
     "start_time": "2022-09-11T21:07:53.599909",
     "status": "completed"
    },
    "tags": []
   },
   "outputs": [],
   "source": [
    "CLUSTERING_ATTRIBUTES_TO_SAVE = [\"n_clusters\"]"
   ]
  },
  {
   "cell_type": "code",
   "execution_count": 13,
   "id": "67d5520e",
   "metadata": {
    "execution": {
     "iopub.execute_input": "2022-09-11T21:07:53.647799Z",
     "iopub.status.busy": "2022-09-11T21:07:53.647631Z",
     "iopub.status.idle": "2022-09-11T21:07:53.667753Z",
     "shell.execute_reply": "2022-09-11T21:07:53.667161Z"
    },
    "papermill": {
     "duration": 0.030216,
     "end_time": "2022-09-11T21:07:53.669120",
     "exception": false,
     "start_time": "2022-09-11T21:07:53.638904",
     "status": "completed"
    },
    "tags": []
   },
   "outputs": [
    {
     "data": {
      "text/plain": [
       "{'K_MIN': 2, 'K_MAX': 60, 'N_REPS_PER_K': 5, 'KMEANS_N_INIT': 10}"
      ]
     },
     "metadata": {},
     "output_type": "display_data"
    }
   ],
   "source": [
    "CLUSTERING_OPTIONS = {}\n",
    "\n",
    "CLUSTERING_OPTIONS[\"K_MIN\"] = 2\n",
    "CLUSTERING_OPTIONS[\"K_MAX\"] = 60  # sqrt(3749)\n",
    "CLUSTERING_OPTIONS[\"N_REPS_PER_K\"] = 5\n",
    "CLUSTERING_OPTIONS[\"KMEANS_N_INIT\"] = 10\n",
    "\n",
    "display(CLUSTERING_OPTIONS)"
   ]
  },
  {
   "cell_type": "code",
   "execution_count": 14,
   "id": "e2966d1d",
   "metadata": {
    "execution": {
     "iopub.execute_input": "2022-09-11T21:07:53.685224Z",
     "iopub.status.busy": "2022-09-11T21:07:53.685061Z",
     "iopub.status.idle": "2022-09-11T21:07:53.705344Z",
     "shell.execute_reply": "2022-09-11T21:07:53.704887Z"
    },
    "papermill": {
     "duration": 0.029583,
     "end_time": "2022-09-11T21:07:53.706717",
     "exception": false,
     "start_time": "2022-09-11T21:07:53.677134",
     "status": "completed"
    },
    "tags": []
   },
   "outputs": [],
   "source": [
    "CLUSTERERS = {}\n",
    "\n",
    "idx = 0\n",
    "random_state = INITIAL_RANDOM_STATE\n",
    "\n",
    "for k in range(CLUSTERING_OPTIONS[\"K_MIN\"], CLUSTERING_OPTIONS[\"K_MAX\"] + 1):\n",
    "    for i in range(CLUSTERING_OPTIONS[\"N_REPS_PER_K\"]):\n",
    "        clus = KMeans(\n",
    "            n_clusters=k,\n",
    "            n_init=CLUSTERING_OPTIONS[\"KMEANS_N_INIT\"],\n",
    "            random_state=random_state,\n",
    "        )\n",
    "\n",
    "        method_name = type(clus).__name__\n",
    "        CLUSTERERS[f\"{method_name} #{idx}\"] = clus\n",
    "\n",
    "        random_state = random_state + 1\n",
    "        idx = idx + 1"
   ]
  },
  {
   "cell_type": "code",
   "execution_count": 15,
   "id": "8304e53c",
   "metadata": {
    "execution": {
     "iopub.execute_input": "2022-09-11T21:07:53.723032Z",
     "iopub.status.busy": "2022-09-11T21:07:53.722864Z",
     "iopub.status.idle": "2022-09-11T21:07:53.741994Z",
     "shell.execute_reply": "2022-09-11T21:07:53.741551Z"
    },
    "papermill": {
     "duration": 0.028792,
     "end_time": "2022-09-11T21:07:53.743327",
     "exception": false,
     "start_time": "2022-09-11T21:07:53.714535",
     "status": "completed"
    },
    "tags": []
   },
   "outputs": [
    {
     "data": {
      "text/plain": [
       "295"
      ]
     },
     "metadata": {},
     "output_type": "display_data"
    }
   ],
   "source": [
    "display(len(CLUSTERERS))"
   ]
  },
  {
   "cell_type": "code",
   "execution_count": 16,
   "id": "7d7fccb2",
   "metadata": {
    "execution": {
     "iopub.execute_input": "2022-09-11T21:07:53.759831Z",
     "iopub.status.busy": "2022-09-11T21:07:53.759662Z",
     "iopub.status.idle": "2022-09-11T21:07:53.780333Z",
     "shell.execute_reply": "2022-09-11T21:07:53.779915Z"
    },
    "papermill": {
     "duration": 0.030468,
     "end_time": "2022-09-11T21:07:53.781618",
     "exception": false,
     "start_time": "2022-09-11T21:07:53.751150",
     "status": "completed"
    },
    "tags": []
   },
   "outputs": [
    {
     "data": {
      "text/plain": [
       "('KMeans #0', KMeans(n_clusters=2, random_state=20000))"
      ]
     },
     "metadata": {},
     "output_type": "display_data"
    },
    {
     "data": {
      "text/plain": [
       "('KMeans #1', KMeans(n_clusters=2, random_state=20001))"
      ]
     },
     "metadata": {},
     "output_type": "display_data"
    }
   ],
   "source": [
    "_iter = iter(CLUSTERERS.items())\n",
    "display(next(_iter))\n",
    "display(next(_iter))"
   ]
  },
  {
   "cell_type": "code",
   "execution_count": 17,
   "id": "cac9cd6d",
   "metadata": {
    "execution": {
     "iopub.execute_input": "2022-09-11T21:07:53.798402Z",
     "iopub.status.busy": "2022-09-11T21:07:53.798233Z",
     "iopub.status.idle": "2022-09-11T21:07:53.817125Z",
     "shell.execute_reply": "2022-09-11T21:07:53.816675Z"
    },
    "papermill": {
     "duration": 0.028748,
     "end_time": "2022-09-11T21:07:53.818440",
     "exception": false,
     "start_time": "2022-09-11T21:07:53.789692",
     "status": "completed"
    },
    "tags": []
   },
   "outputs": [
    {
     "data": {
      "text/plain": [
       "'KMeans'"
      ]
     },
     "metadata": {},
     "output_type": "display_data"
    }
   ],
   "source": [
    "clustering_method_name = method_name\n",
    "display(clustering_method_name)"
   ]
  },
  {
   "cell_type": "markdown",
   "id": "1078d26d",
   "metadata": {
    "papermill": {
     "duration": 0.008759,
     "end_time": "2022-09-11T21:07:53.850562",
     "exception": false,
     "start_time": "2022-09-11T21:07:53.841803",
     "status": "completed"
    },
    "tags": []
   },
   "source": [
    "## Output directory"
   ]
  },
  {
   "cell_type": "code",
   "execution_count": 18,
   "id": "c9e38445",
   "metadata": {
    "execution": {
     "iopub.execute_input": "2022-09-11T21:07:53.868875Z",
     "iopub.status.busy": "2022-09-11T21:07:53.868711Z",
     "iopub.status.idle": "2022-09-11T21:07:53.887805Z",
     "shell.execute_reply": "2022-09-11T21:07:53.887251Z"
    },
    "papermill": {
     "duration": 0.029681,
     "end_time": "2022-09-11T21:07:53.889097",
     "exception": false,
     "start_time": "2022-09-11T21:07:53.859416",
     "status": "completed"
    },
    "tags": []
   },
   "outputs": [
    {
     "data": {
      "text/plain": [
       "PosixPath('/opt/data/results/clustering/null_sims/runs/umap-z_score_std-projection-smultixcan-efo_partial-mashr-zscores')"
      ]
     },
     "metadata": {},
     "output_type": "display_data"
    }
   ],
   "source": [
    "# output dir for this notebook\n",
    "RESULTS_DIR = Path(\n",
    "    conf.RESULTS[\"CLUSTERING_NULL_DIR\"],\n",
    "    \"runs\",\n",
    "    f\"{INPUT_SUBSET}-{INPUT_STEM}\",\n",
    ").resolve()\n",
    "RESULTS_DIR.mkdir(parents=True, exist_ok=True)\n",
    "\n",
    "display(RESULTS_DIR)"
   ]
  },
  {
   "cell_type": "markdown",
   "id": "6df10d47",
   "metadata": {
    "papermill": {
     "duration": 0.00772,
     "end_time": "2022-09-11T21:07:53.904806",
     "exception": false,
     "start_time": "2022-09-11T21:07:53.897086",
     "status": "completed"
    },
    "tags": []
   },
   "source": [
    "# Load input file"
   ]
  },
  {
   "cell_type": "code",
   "execution_count": 19,
   "id": "fe6a9f23",
   "metadata": {
    "execution": {
     "iopub.execute_input": "2022-09-11T21:07:53.921651Z",
     "iopub.status.busy": "2022-09-11T21:07:53.921102Z",
     "iopub.status.idle": "2022-09-11T21:07:53.941123Z",
     "shell.execute_reply": "2022-09-11T21:07:53.940475Z"
    },
    "papermill": {
     "duration": 0.029983,
     "end_time": "2022-09-11T21:07:53.942611",
     "exception": false,
     "start_time": "2022-09-11T21:07:53.912628",
     "status": "completed"
    },
    "tags": []
   },
   "outputs": [],
   "source": [
    "data = pd.read_pickle(input_filepath)"
   ]
  },
  {
   "cell_type": "code",
   "execution_count": 20,
   "id": "3d76cff9",
   "metadata": {
    "execution": {
     "iopub.execute_input": "2022-09-11T21:07:53.959801Z",
     "iopub.status.busy": "2022-09-11T21:07:53.959630Z",
     "iopub.status.idle": "2022-09-11T21:07:53.978944Z",
     "shell.execute_reply": "2022-09-11T21:07:53.978323Z"
    },
    "papermill": {
     "duration": 0.029407,
     "end_time": "2022-09-11T21:07:53.980291",
     "exception": false,
     "start_time": "2022-09-11T21:07:53.950884",
     "status": "completed"
    },
    "tags": []
   },
   "outputs": [
    {
     "data": {
      "text/plain": [
       "(3752, 50)"
      ]
     },
     "execution_count": 20,
     "metadata": {},
     "output_type": "execute_result"
    }
   ],
   "source": [
    "data.shape"
   ]
  },
  {
   "cell_type": "code",
   "execution_count": 21,
   "id": "8c3d3cbe",
   "metadata": {
    "execution": {
     "iopub.execute_input": "2022-09-11T21:07:53.997883Z",
     "iopub.status.busy": "2022-09-11T21:07:53.997713Z",
     "iopub.status.idle": "2022-09-11T21:07:54.030539Z",
     "shell.execute_reply": "2022-09-11T21:07:54.030040Z"
    },
    "papermill": {
     "duration": 0.043125,
     "end_time": "2022-09-11T21:07:54.031807",
     "exception": false,
     "start_time": "2022-09-11T21:07:53.988682",
     "status": "completed"
    },
    "tags": []
   },
   "outputs": [
    {
     "data": {
      "text/html": [
       "<div>\n",
       "<style scoped>\n",
       "    .dataframe tbody tr th:only-of-type {\n",
       "        vertical-align: middle;\n",
       "    }\n",
       "\n",
       "    .dataframe tbody tr th {\n",
       "        vertical-align: top;\n",
       "    }\n",
       "\n",
       "    .dataframe thead th {\n",
       "        text-align: right;\n",
       "    }\n",
       "</style>\n",
       "<table border=\"1\" class=\"dataframe\">\n",
       "  <thead>\n",
       "    <tr style=\"text-align: right;\">\n",
       "      <th></th>\n",
       "      <th>UMAP1</th>\n",
       "      <th>UMAP2</th>\n",
       "      <th>UMAP3</th>\n",
       "      <th>UMAP4</th>\n",
       "      <th>UMAP5</th>\n",
       "      <th>UMAP6</th>\n",
       "      <th>UMAP7</th>\n",
       "      <th>UMAP8</th>\n",
       "      <th>UMAP9</th>\n",
       "      <th>UMAP10</th>\n",
       "      <th>...</th>\n",
       "      <th>UMAP41</th>\n",
       "      <th>UMAP42</th>\n",
       "      <th>UMAP43</th>\n",
       "      <th>UMAP44</th>\n",
       "      <th>UMAP45</th>\n",
       "      <th>UMAP46</th>\n",
       "      <th>UMAP47</th>\n",
       "      <th>UMAP48</th>\n",
       "      <th>UMAP49</th>\n",
       "      <th>UMAP50</th>\n",
       "    </tr>\n",
       "  </thead>\n",
       "  <tbody>\n",
       "    <tr>\n",
       "      <th>100001_raw-Food_weight</th>\n",
       "      <td>7.464392</td>\n",
       "      <td>4.526705</td>\n",
       "      <td>4.225008</td>\n",
       "      <td>7.029216</td>\n",
       "      <td>4.382023</td>\n",
       "      <td>4.502639</td>\n",
       "      <td>4.489128</td>\n",
       "      <td>5.381521</td>\n",
       "      <td>4.940668</td>\n",
       "      <td>4.068273</td>\n",
       "      <td>...</td>\n",
       "      <td>7.605533</td>\n",
       "      <td>8.805881</td>\n",
       "      <td>8.939267</td>\n",
       "      <td>9.142330</td>\n",
       "      <td>0.445703</td>\n",
       "      <td>8.213864</td>\n",
       "      <td>0.703600</td>\n",
       "      <td>9.307579</td>\n",
       "      <td>4.072986</td>\n",
       "      <td>9.349484</td>\n",
       "    </tr>\n",
       "    <tr>\n",
       "      <th>100002_raw-Energy</th>\n",
       "      <td>7.429606</td>\n",
       "      <td>4.536586</td>\n",
       "      <td>4.182258</td>\n",
       "      <td>7.069884</td>\n",
       "      <td>4.336564</td>\n",
       "      <td>4.421313</td>\n",
       "      <td>4.560764</td>\n",
       "      <td>5.324892</td>\n",
       "      <td>4.929991</td>\n",
       "      <td>3.999348</td>\n",
       "      <td>...</td>\n",
       "      <td>7.583344</td>\n",
       "      <td>8.843954</td>\n",
       "      <td>8.958254</td>\n",
       "      <td>9.086064</td>\n",
       "      <td>0.390866</td>\n",
       "      <td>8.235448</td>\n",
       "      <td>0.706651</td>\n",
       "      <td>9.296489</td>\n",
       "      <td>4.041227</td>\n",
       "      <td>9.304544</td>\n",
       "    </tr>\n",
       "    <tr>\n",
       "      <th>100003_raw-Protein</th>\n",
       "      <td>7.481067</td>\n",
       "      <td>4.513837</td>\n",
       "      <td>4.172322</td>\n",
       "      <td>7.040905</td>\n",
       "      <td>4.395445</td>\n",
       "      <td>4.439210</td>\n",
       "      <td>4.487803</td>\n",
       "      <td>5.379720</td>\n",
       "      <td>4.935718</td>\n",
       "      <td>4.107790</td>\n",
       "      <td>...</td>\n",
       "      <td>7.619069</td>\n",
       "      <td>8.802183</td>\n",
       "      <td>8.938434</td>\n",
       "      <td>9.114165</td>\n",
       "      <td>0.442892</td>\n",
       "      <td>8.227354</td>\n",
       "      <td>0.692944</td>\n",
       "      <td>9.355126</td>\n",
       "      <td>4.053129</td>\n",
       "      <td>9.361687</td>\n",
       "    </tr>\n",
       "    <tr>\n",
       "      <th>100004_raw-Fat</th>\n",
       "      <td>7.383680</td>\n",
       "      <td>4.351026</td>\n",
       "      <td>4.208352</td>\n",
       "      <td>6.941895</td>\n",
       "      <td>4.375668</td>\n",
       "      <td>4.538863</td>\n",
       "      <td>4.477001</td>\n",
       "      <td>5.397546</td>\n",
       "      <td>5.008193</td>\n",
       "      <td>4.069299</td>\n",
       "      <td>...</td>\n",
       "      <td>7.592715</td>\n",
       "      <td>8.820724</td>\n",
       "      <td>8.919216</td>\n",
       "      <td>9.157578</td>\n",
       "      <td>0.454712</td>\n",
       "      <td>8.220077</td>\n",
       "      <td>0.721550</td>\n",
       "      <td>9.364523</td>\n",
       "      <td>4.043874</td>\n",
       "      <td>9.397904</td>\n",
       "    </tr>\n",
       "    <tr>\n",
       "      <th>100005_raw-Carbohydrate</th>\n",
       "      <td>7.412931</td>\n",
       "      <td>4.435416</td>\n",
       "      <td>4.227693</td>\n",
       "      <td>7.014967</td>\n",
       "      <td>4.406798</td>\n",
       "      <td>4.510470</td>\n",
       "      <td>4.479080</td>\n",
       "      <td>5.451272</td>\n",
       "      <td>4.932745</td>\n",
       "      <td>4.147858</td>\n",
       "      <td>...</td>\n",
       "      <td>7.606691</td>\n",
       "      <td>8.841007</td>\n",
       "      <td>8.881571</td>\n",
       "      <td>9.157351</td>\n",
       "      <td>0.409341</td>\n",
       "      <td>8.236560</td>\n",
       "      <td>0.724239</td>\n",
       "      <td>9.336825</td>\n",
       "      <td>4.040252</td>\n",
       "      <td>9.386523</td>\n",
       "    </tr>\n",
       "  </tbody>\n",
       "</table>\n",
       "<p>5 rows × 50 columns</p>\n",
       "</div>"
      ],
      "text/plain": [
       "                            UMAP1     UMAP2     UMAP3     UMAP4     UMAP5  \\\n",
       "100001_raw-Food_weight   7.464392  4.526705  4.225008  7.029216  4.382023   \n",
       "100002_raw-Energy        7.429606  4.536586  4.182258  7.069884  4.336564   \n",
       "100003_raw-Protein       7.481067  4.513837  4.172322  7.040905  4.395445   \n",
       "100004_raw-Fat           7.383680  4.351026  4.208352  6.941895  4.375668   \n",
       "100005_raw-Carbohydrate  7.412931  4.435416  4.227693  7.014967  4.406798   \n",
       "\n",
       "                            UMAP6     UMAP7     UMAP8     UMAP9    UMAP10  \\\n",
       "100001_raw-Food_weight   4.502639  4.489128  5.381521  4.940668  4.068273   \n",
       "100002_raw-Energy        4.421313  4.560764  5.324892  4.929991  3.999348   \n",
       "100003_raw-Protein       4.439210  4.487803  5.379720  4.935718  4.107790   \n",
       "100004_raw-Fat           4.538863  4.477001  5.397546  5.008193  4.069299   \n",
       "100005_raw-Carbohydrate  4.510470  4.479080  5.451272  4.932745  4.147858   \n",
       "\n",
       "                         ...    UMAP41    UMAP42    UMAP43    UMAP44  \\\n",
       "100001_raw-Food_weight   ...  7.605533  8.805881  8.939267  9.142330   \n",
       "100002_raw-Energy        ...  7.583344  8.843954  8.958254  9.086064   \n",
       "100003_raw-Protein       ...  7.619069  8.802183  8.938434  9.114165   \n",
       "100004_raw-Fat           ...  7.592715  8.820724  8.919216  9.157578   \n",
       "100005_raw-Carbohydrate  ...  7.606691  8.841007  8.881571  9.157351   \n",
       "\n",
       "                           UMAP45    UMAP46    UMAP47    UMAP48    UMAP49  \\\n",
       "100001_raw-Food_weight   0.445703  8.213864  0.703600  9.307579  4.072986   \n",
       "100002_raw-Energy        0.390866  8.235448  0.706651  9.296489  4.041227   \n",
       "100003_raw-Protein       0.442892  8.227354  0.692944  9.355126  4.053129   \n",
       "100004_raw-Fat           0.454712  8.220077  0.721550  9.364523  4.043874   \n",
       "100005_raw-Carbohydrate  0.409341  8.236560  0.724239  9.336825  4.040252   \n",
       "\n",
       "                           UMAP50  \n",
       "100001_raw-Food_weight   9.349484  \n",
       "100002_raw-Energy        9.304544  \n",
       "100003_raw-Protein       9.361687  \n",
       "100004_raw-Fat           9.397904  \n",
       "100005_raw-Carbohydrate  9.386523  \n",
       "\n",
       "[5 rows x 50 columns]"
      ]
     },
     "execution_count": 21,
     "metadata": {},
     "output_type": "execute_result"
    }
   ],
   "source": [
    "data.head()"
   ]
  },
  {
   "cell_type": "code",
   "execution_count": 22,
   "id": "a2404790",
   "metadata": {
    "execution": {
     "iopub.execute_input": "2022-09-11T21:07:54.049674Z",
     "iopub.status.busy": "2022-09-11T21:07:54.049506Z",
     "iopub.status.idle": "2022-09-11T21:07:54.068845Z",
     "shell.execute_reply": "2022-09-11T21:07:54.068298Z"
    },
    "papermill": {
     "duration": 0.029869,
     "end_time": "2022-09-11T21:07:54.070290",
     "exception": false,
     "start_time": "2022-09-11T21:07:54.040421",
     "status": "completed"
    },
    "tags": []
   },
   "outputs": [],
   "source": [
    "assert not data.isna().any().any()"
   ]
  },
  {
   "cell_type": "markdown",
   "id": "21a4325b",
   "metadata": {
    "papermill": {
     "duration": 0.008189,
     "end_time": "2022-09-11T21:07:54.087090",
     "exception": false,
     "start_time": "2022-09-11T21:07:54.078901",
     "status": "completed"
    },
    "tags": []
   },
   "source": [
    "# Clustering"
   ]
  },
  {
   "cell_type": "markdown",
   "id": "20830bc5",
   "metadata": {
    "papermill": {
     "duration": 0.007223,
     "end_time": "2022-09-11T21:07:54.102365",
     "exception": false,
     "start_time": "2022-09-11T21:07:54.095142",
     "status": "completed"
    },
    "tags": []
   },
   "source": [
    "## Generate ensemble"
   ]
  },
  {
   "cell_type": "code",
   "execution_count": 23,
   "id": "ebc23812",
   "metadata": {
    "execution": {
     "iopub.execute_input": "2022-09-11T21:07:54.118527Z",
     "iopub.status.busy": "2022-09-11T21:07:54.118318Z",
     "iopub.status.idle": "2022-09-11T21:07:54.139879Z",
     "shell.execute_reply": "2022-09-11T21:07:54.139244Z"
    },
    "papermill": {
     "duration": 0.03104,
     "end_time": "2022-09-11T21:07:54.141223",
     "exception": false,
     "start_time": "2022-09-11T21:07:54.110183",
     "status": "completed"
    },
    "tags": []
   },
   "outputs": [],
   "source": [
    "from clustering.ensembles.utils import generate_ensemble"
   ]
  },
  {
   "cell_type": "code",
   "execution_count": 24,
   "id": "2bdd8139",
   "metadata": {
    "execution": {
     "iopub.execute_input": "2022-09-11T21:07:54.158595Z",
     "iopub.status.busy": "2022-09-11T21:07:54.158395Z",
     "iopub.status.idle": "2022-09-11T21:13:30.907214Z",
     "shell.execute_reply": "2022-09-11T21:13:30.906778Z"
    },
    "papermill": {
     "duration": 336.75882,
     "end_time": "2022-09-11T21:13:30.908447",
     "exception": false,
     "start_time": "2022-09-11T21:07:54.149627",
     "status": "completed"
    },
    "tags": []
   },
   "outputs": [
    {
     "name": "stderr",
     "output_type": "stream",
     "text": [
      "100%|██████████| 295/295 [05:36<00:00,  1.14s/it]\n"
     ]
    }
   ],
   "source": [
    "ensemble = generate_ensemble(\n",
    "    data,\n",
    "    CLUSTERERS,\n",
    "    attributes=CLUSTERING_ATTRIBUTES_TO_SAVE,\n",
    ")"
   ]
  },
  {
   "cell_type": "code",
   "execution_count": 25,
   "id": "17b0af54",
   "metadata": {
    "execution": {
     "iopub.execute_input": "2022-09-11T21:13:30.944154Z",
     "iopub.status.busy": "2022-09-11T21:13:30.943992Z",
     "iopub.status.idle": "2022-09-11T21:13:30.962480Z",
     "shell.execute_reply": "2022-09-11T21:13:30.961946Z"
    },
    "papermill": {
     "duration": 0.037798,
     "end_time": "2022-09-11T21:13:30.963760",
     "exception": false,
     "start_time": "2022-09-11T21:13:30.925962",
     "status": "completed"
    },
    "tags": []
   },
   "outputs": [
    {
     "data": {
      "text/plain": [
       "(295, 3)"
      ]
     },
     "execution_count": 25,
     "metadata": {},
     "output_type": "execute_result"
    }
   ],
   "source": [
    "# the number should be close to 295 (the number of partitions generated by k-means/spectral clustering)\n",
    "ensemble.shape"
   ]
  },
  {
   "cell_type": "code",
   "execution_count": 26,
   "id": "32420cf6",
   "metadata": {
    "execution": {
     "iopub.execute_input": "2022-09-11T21:13:31.000055Z",
     "iopub.status.busy": "2022-09-11T21:13:30.999734Z",
     "iopub.status.idle": "2022-09-11T21:13:31.025161Z",
     "shell.execute_reply": "2022-09-11T21:13:31.024685Z"
    },
    "papermill": {
     "duration": 0.04481,
     "end_time": "2022-09-11T21:13:31.026375",
     "exception": false,
     "start_time": "2022-09-11T21:13:30.981565",
     "status": "completed"
    },
    "tags": []
   },
   "outputs": [
    {
     "data": {
      "text/html": [
       "<div>\n",
       "<style scoped>\n",
       "    .dataframe tbody tr th:only-of-type {\n",
       "        vertical-align: middle;\n",
       "    }\n",
       "\n",
       "    .dataframe tbody tr th {\n",
       "        vertical-align: top;\n",
       "    }\n",
       "\n",
       "    .dataframe thead th {\n",
       "        text-align: right;\n",
       "    }\n",
       "</style>\n",
       "<table border=\"1\" class=\"dataframe\">\n",
       "  <thead>\n",
       "    <tr style=\"text-align: right;\">\n",
       "      <th></th>\n",
       "      <th>clusterer_params</th>\n",
       "      <th>partition</th>\n",
       "      <th>n_clusters</th>\n",
       "    </tr>\n",
       "    <tr>\n",
       "      <th>clusterer_id</th>\n",
       "      <th></th>\n",
       "      <th></th>\n",
       "      <th></th>\n",
       "    </tr>\n",
       "  </thead>\n",
       "  <tbody>\n",
       "    <tr>\n",
       "      <th>KMeans #0</th>\n",
       "      <td>{'algorithm': 'auto', 'copy_x': True, 'init': ...</td>\n",
       "      <td>[1.0, 1.0, 1.0, 1.0, 1.0, 1.0, 1.0, 1.0, 1.0, ...</td>\n",
       "      <td>2</td>\n",
       "    </tr>\n",
       "    <tr>\n",
       "      <th>KMeans #1</th>\n",
       "      <td>{'algorithm': 'auto', 'copy_x': True, 'init': ...</td>\n",
       "      <td>[1.0, 1.0, 1.0, 1.0, 1.0, 1.0, 1.0, 1.0, 1.0, ...</td>\n",
       "      <td>2</td>\n",
       "    </tr>\n",
       "    <tr>\n",
       "      <th>KMeans #2</th>\n",
       "      <td>{'algorithm': 'auto', 'copy_x': True, 'init': ...</td>\n",
       "      <td>[1.0, 1.0, 1.0, 1.0, 1.0, 1.0, 1.0, 1.0, 1.0, ...</td>\n",
       "      <td>2</td>\n",
       "    </tr>\n",
       "    <tr>\n",
       "      <th>KMeans #3</th>\n",
       "      <td>{'algorithm': 'auto', 'copy_x': True, 'init': ...</td>\n",
       "      <td>[0.0, 0.0, 0.0, 0.0, 0.0, 0.0, 0.0, 0.0, 0.0, ...</td>\n",
       "      <td>2</td>\n",
       "    </tr>\n",
       "    <tr>\n",
       "      <th>KMeans #4</th>\n",
       "      <td>{'algorithm': 'auto', 'copy_x': True, 'init': ...</td>\n",
       "      <td>[1.0, 1.0, 1.0, 1.0, 1.0, 1.0, 1.0, 1.0, 1.0, ...</td>\n",
       "      <td>2</td>\n",
       "    </tr>\n",
       "  </tbody>\n",
       "</table>\n",
       "</div>"
      ],
      "text/plain": [
       "                                               clusterer_params  \\\n",
       "clusterer_id                                                      \n",
       "KMeans #0     {'algorithm': 'auto', 'copy_x': True, 'init': ...   \n",
       "KMeans #1     {'algorithm': 'auto', 'copy_x': True, 'init': ...   \n",
       "KMeans #2     {'algorithm': 'auto', 'copy_x': True, 'init': ...   \n",
       "KMeans #3     {'algorithm': 'auto', 'copy_x': True, 'init': ...   \n",
       "KMeans #4     {'algorithm': 'auto', 'copy_x': True, 'init': ...   \n",
       "\n",
       "                                                      partition  n_clusters  \n",
       "clusterer_id                                                                 \n",
       "KMeans #0     [1.0, 1.0, 1.0, 1.0, 1.0, 1.0, 1.0, 1.0, 1.0, ...           2  \n",
       "KMeans #1     [1.0, 1.0, 1.0, 1.0, 1.0, 1.0, 1.0, 1.0, 1.0, ...           2  \n",
       "KMeans #2     [1.0, 1.0, 1.0, 1.0, 1.0, 1.0, 1.0, 1.0, 1.0, ...           2  \n",
       "KMeans #3     [0.0, 0.0, 0.0, 0.0, 0.0, 0.0, 0.0, 0.0, 0.0, ...           2  \n",
       "KMeans #4     [1.0, 1.0, 1.0, 1.0, 1.0, 1.0, 1.0, 1.0, 1.0, ...           2  "
      ]
     },
     "execution_count": 26,
     "metadata": {},
     "output_type": "execute_result"
    }
   ],
   "source": [
    "ensemble.head()"
   ]
  },
  {
   "cell_type": "code",
   "execution_count": 27,
   "id": "696995b0",
   "metadata": {
    "execution": {
     "iopub.execute_input": "2022-09-11T21:13:31.064087Z",
     "iopub.status.busy": "2022-09-11T21:13:31.063452Z",
     "iopub.status.idle": "2022-09-11T21:13:31.083869Z",
     "shell.execute_reply": "2022-09-11T21:13:31.083374Z"
    },
    "papermill": {
     "duration": 0.040845,
     "end_time": "2022-09-11T21:13:31.085155",
     "exception": false,
     "start_time": "2022-09-11T21:13:31.044310",
     "status": "completed"
    },
    "tags": []
   },
   "outputs": [
    {
     "data": {
      "text/plain": [
       "60    5\n",
       "16    5\n",
       "28    5\n",
       "27    5\n",
       "26    5\n",
       "Name: n_clusters, dtype: int64"
      ]
     },
     "execution_count": 27,
     "metadata": {},
     "output_type": "execute_result"
    }
   ],
   "source": [
    "ensemble[\"n_clusters\"].value_counts().head()"
   ]
  },
  {
   "cell_type": "code",
   "execution_count": 28,
   "id": "1d6548d0",
   "metadata": {
    "execution": {
     "iopub.execute_input": "2022-09-11T21:13:31.122978Z",
     "iopub.status.busy": "2022-09-11T21:13:31.122773Z",
     "iopub.status.idle": "2022-09-11T21:13:31.144318Z",
     "shell.execute_reply": "2022-09-11T21:13:31.143708Z"
    },
    "papermill": {
     "duration": 0.041298,
     "end_time": "2022-09-11T21:13:31.145552",
     "exception": false,
     "start_time": "2022-09-11T21:13:31.104254",
     "status": "completed"
    },
    "tags": []
   },
   "outputs": [
    {
     "data": {
      "text/plain": [
       "count    295.000000\n",
       "mean      31.000000\n",
       "std       17.058323\n",
       "min        2.000000\n",
       "25%       16.000000\n",
       "50%       31.000000\n",
       "75%       46.000000\n",
       "max       60.000000\n",
       "Name: n_clusters, dtype: float64"
      ]
     },
     "metadata": {},
     "output_type": "display_data"
    }
   ],
   "source": [
    "ensemble_stats = ensemble[\"n_clusters\"].describe()\n",
    "display(ensemble_stats)"
   ]
  },
  {
   "cell_type": "markdown",
   "id": "8380f197",
   "metadata": {
    "papermill": {
     "duration": 0.017516,
     "end_time": "2022-09-11T21:13:31.181760",
     "exception": false,
     "start_time": "2022-09-11T21:13:31.164244",
     "status": "completed"
    },
    "tags": []
   },
   "source": [
    "## Testing"
   ]
  },
  {
   "cell_type": "code",
   "execution_count": 29,
   "id": "6ae54bae",
   "metadata": {
    "execution": {
     "iopub.execute_input": "2022-09-11T21:13:31.216684Z",
     "iopub.status.busy": "2022-09-11T21:13:31.216464Z",
     "iopub.status.idle": "2022-09-11T21:13:31.234112Z",
     "shell.execute_reply": "2022-09-11T21:13:31.233600Z"
    },
    "papermill": {
     "duration": 0.036774,
     "end_time": "2022-09-11T21:13:31.235469",
     "exception": false,
     "start_time": "2022-09-11T21:13:31.198695",
     "status": "completed"
    },
    "tags": []
   },
   "outputs": [],
   "source": [
    "assert ensemble_stats[\"min\"] > 1"
   ]
  },
  {
   "cell_type": "code",
   "execution_count": 30,
   "id": "5fa39227",
   "metadata": {
    "execution": {
     "iopub.execute_input": "2022-09-11T21:13:31.271066Z",
     "iopub.status.busy": "2022-09-11T21:13:31.270850Z",
     "iopub.status.idle": "2022-09-11T21:13:31.289092Z",
     "shell.execute_reply": "2022-09-11T21:13:31.288548Z"
    },
    "papermill": {
     "duration": 0.037176,
     "end_time": "2022-09-11T21:13:31.290425",
     "exception": false,
     "start_time": "2022-09-11T21:13:31.253249",
     "status": "completed"
    },
    "tags": []
   },
   "outputs": [],
   "source": [
    "assert not ensemble[\"n_clusters\"].isna().any()"
   ]
  },
  {
   "cell_type": "code",
   "execution_count": 31,
   "id": "77e95a6a",
   "metadata": {
    "execution": {
     "iopub.execute_input": "2022-09-11T21:13:31.326610Z",
     "iopub.status.busy": "2022-09-11T21:13:31.326405Z",
     "iopub.status.idle": "2022-09-11T21:13:31.344272Z",
     "shell.execute_reply": "2022-09-11T21:13:31.343690Z"
    },
    "papermill": {
     "duration": 0.0371,
     "end_time": "2022-09-11T21:13:31.345604",
     "exception": false,
     "start_time": "2022-09-11T21:13:31.308504",
     "status": "completed"
    },
    "tags": []
   },
   "outputs": [],
   "source": [
    "assert ensemble.shape[0] == len(CLUSTERERS)"
   ]
  },
  {
   "cell_type": "code",
   "execution_count": 32,
   "id": "259b8e40",
   "metadata": {
    "execution": {
     "iopub.execute_input": "2022-09-11T21:13:31.382745Z",
     "iopub.status.busy": "2022-09-11T21:13:31.382539Z",
     "iopub.status.idle": "2022-09-11T21:13:31.418108Z",
     "shell.execute_reply": "2022-09-11T21:13:31.417487Z"
    },
    "papermill": {
     "duration": 0.055425,
     "end_time": "2022-09-11T21:13:31.419669",
     "exception": false,
     "start_time": "2022-09-11T21:13:31.364244",
     "status": "completed"
    },
    "tags": []
   },
   "outputs": [],
   "source": [
    "# all partitions have the right size\n",
    "assert np.all(\n",
    "    [part[\"partition\"].shape[0] == data.shape[0] for idx, part in ensemble.iterrows()]\n",
    ")"
   ]
  },
  {
   "cell_type": "code",
   "execution_count": 33,
   "id": "da8eb843",
   "metadata": {
    "execution": {
     "iopub.execute_input": "2022-09-11T21:13:31.455217Z",
     "iopub.status.busy": "2022-09-11T21:13:31.454529Z",
     "iopub.status.idle": "2022-09-11T21:13:31.493452Z",
     "shell.execute_reply": "2022-09-11T21:13:31.492869Z"
    },
    "papermill": {
     "duration": 0.05802,
     "end_time": "2022-09-11T21:13:31.494897",
     "exception": false,
     "start_time": "2022-09-11T21:13:31.436877",
     "status": "completed"
    },
    "tags": []
   },
   "outputs": [],
   "source": [
    "# no partition has negative clusters (noisy points)\n",
    "assert not np.any([(part[\"partition\"] < 0).any() for idx, part in ensemble.iterrows()])"
   ]
  },
  {
   "cell_type": "markdown",
   "id": "fc74a4e6",
   "metadata": {
    "papermill": {
     "duration": 0.01765,
     "end_time": "2022-09-11T21:13:31.530703",
     "exception": false,
     "start_time": "2022-09-11T21:13:31.513053",
     "status": "completed"
    },
    "tags": []
   },
   "source": [
    "## Add clustering quality measures"
   ]
  },
  {
   "cell_type": "code",
   "execution_count": 34,
   "id": "67a882b7",
   "metadata": {
    "execution": {
     "iopub.execute_input": "2022-09-11T21:13:31.565976Z",
     "iopub.status.busy": "2022-09-11T21:13:31.565770Z",
     "iopub.status.idle": "2022-09-11T21:13:31.583508Z",
     "shell.execute_reply": "2022-09-11T21:13:31.583046Z"
    },
    "papermill": {
     "duration": 0.036746,
     "end_time": "2022-09-11T21:13:31.584816",
     "exception": false,
     "start_time": "2022-09-11T21:13:31.548070",
     "status": "completed"
    },
    "tags": []
   },
   "outputs": [],
   "source": [
    "from sklearn.metrics import calinski_harabasz_score"
   ]
  },
  {
   "cell_type": "code",
   "execution_count": 35,
   "id": "6030929b",
   "metadata": {
    "execution": {
     "iopub.execute_input": "2022-09-11T21:13:31.621439Z",
     "iopub.status.busy": "2022-09-11T21:13:31.621235Z",
     "iopub.status.idle": "2022-09-11T21:13:32.543504Z",
     "shell.execute_reply": "2022-09-11T21:13:32.542968Z"
    },
    "papermill": {
     "duration": 0.941873,
     "end_time": "2022-09-11T21:13:32.545028",
     "exception": false,
     "start_time": "2022-09-11T21:13:31.603155",
     "status": "completed"
    },
    "tags": []
   },
   "outputs": [],
   "source": [
    "ensemble = ensemble.assign(\n",
    "    ch_score=ensemble[\"partition\"].apply(lambda x: calinski_harabasz_score(data, x))\n",
    ")"
   ]
  },
  {
   "cell_type": "code",
   "execution_count": 36,
   "id": "8f570f7f",
   "metadata": {
    "execution": {
     "iopub.execute_input": "2022-09-11T21:13:32.581808Z",
     "iopub.status.busy": "2022-09-11T21:13:32.581209Z",
     "iopub.status.idle": "2022-09-11T21:13:32.599571Z",
     "shell.execute_reply": "2022-09-11T21:13:32.599015Z"
    },
    "papermill": {
     "duration": 0.03799,
     "end_time": "2022-09-11T21:13:32.600778",
     "exception": false,
     "start_time": "2022-09-11T21:13:32.562788",
     "status": "completed"
    },
    "tags": []
   },
   "outputs": [
    {
     "data": {
      "text/plain": [
       "(295, 4)"
      ]
     },
     "execution_count": 36,
     "metadata": {},
     "output_type": "execute_result"
    }
   ],
   "source": [
    "ensemble.shape"
   ]
  },
  {
   "cell_type": "code",
   "execution_count": 37,
   "id": "6f56e75a",
   "metadata": {
    "execution": {
     "iopub.execute_input": "2022-09-11T21:13:32.637709Z",
     "iopub.status.busy": "2022-09-11T21:13:32.637501Z",
     "iopub.status.idle": "2022-09-11T21:13:32.663486Z",
     "shell.execute_reply": "2022-09-11T21:13:32.662969Z"
    },
    "papermill": {
     "duration": 0.045526,
     "end_time": "2022-09-11T21:13:32.664847",
     "exception": false,
     "start_time": "2022-09-11T21:13:32.619321",
     "status": "completed"
    },
    "tags": []
   },
   "outputs": [
    {
     "data": {
      "text/html": [
       "<div>\n",
       "<style scoped>\n",
       "    .dataframe tbody tr th:only-of-type {\n",
       "        vertical-align: middle;\n",
       "    }\n",
       "\n",
       "    .dataframe tbody tr th {\n",
       "        vertical-align: top;\n",
       "    }\n",
       "\n",
       "    .dataframe thead th {\n",
       "        text-align: right;\n",
       "    }\n",
       "</style>\n",
       "<table border=\"1\" class=\"dataframe\">\n",
       "  <thead>\n",
       "    <tr style=\"text-align: right;\">\n",
       "      <th></th>\n",
       "      <th>clusterer_params</th>\n",
       "      <th>partition</th>\n",
       "      <th>n_clusters</th>\n",
       "      <th>ch_score</th>\n",
       "    </tr>\n",
       "    <tr>\n",
       "      <th>clusterer_id</th>\n",
       "      <th></th>\n",
       "      <th></th>\n",
       "      <th></th>\n",
       "      <th></th>\n",
       "    </tr>\n",
       "  </thead>\n",
       "  <tbody>\n",
       "    <tr>\n",
       "      <th>KMeans #0</th>\n",
       "      <td>{'algorithm': 'auto', 'copy_x': True, 'init': ...</td>\n",
       "      <td>[1.0, 1.0, 1.0, 1.0, 1.0, 1.0, 1.0, 1.0, 1.0, ...</td>\n",
       "      <td>2</td>\n",
       "      <td>2028.286211</td>\n",
       "    </tr>\n",
       "    <tr>\n",
       "      <th>KMeans #1</th>\n",
       "      <td>{'algorithm': 'auto', 'copy_x': True, 'init': ...</td>\n",
       "      <td>[1.0, 1.0, 1.0, 1.0, 1.0, 1.0, 1.0, 1.0, 1.0, ...</td>\n",
       "      <td>2</td>\n",
       "      <td>2028.286211</td>\n",
       "    </tr>\n",
       "    <tr>\n",
       "      <th>KMeans #2</th>\n",
       "      <td>{'algorithm': 'auto', 'copy_x': True, 'init': ...</td>\n",
       "      <td>[1.0, 1.0, 1.0, 1.0, 1.0, 1.0, 1.0, 1.0, 1.0, ...</td>\n",
       "      <td>2</td>\n",
       "      <td>2028.286211</td>\n",
       "    </tr>\n",
       "    <tr>\n",
       "      <th>KMeans #3</th>\n",
       "      <td>{'algorithm': 'auto', 'copy_x': True, 'init': ...</td>\n",
       "      <td>[0.0, 0.0, 0.0, 0.0, 0.0, 0.0, 0.0, 0.0, 0.0, ...</td>\n",
       "      <td>2</td>\n",
       "      <td>2028.286211</td>\n",
       "    </tr>\n",
       "    <tr>\n",
       "      <th>KMeans #4</th>\n",
       "      <td>{'algorithm': 'auto', 'copy_x': True, 'init': ...</td>\n",
       "      <td>[1.0, 1.0, 1.0, 1.0, 1.0, 1.0, 1.0, 1.0, 1.0, ...</td>\n",
       "      <td>2</td>\n",
       "      <td>2028.286211</td>\n",
       "    </tr>\n",
       "  </tbody>\n",
       "</table>\n",
       "</div>"
      ],
      "text/plain": [
       "                                               clusterer_params  \\\n",
       "clusterer_id                                                      \n",
       "KMeans #0     {'algorithm': 'auto', 'copy_x': True, 'init': ...   \n",
       "KMeans #1     {'algorithm': 'auto', 'copy_x': True, 'init': ...   \n",
       "KMeans #2     {'algorithm': 'auto', 'copy_x': True, 'init': ...   \n",
       "KMeans #3     {'algorithm': 'auto', 'copy_x': True, 'init': ...   \n",
       "KMeans #4     {'algorithm': 'auto', 'copy_x': True, 'init': ...   \n",
       "\n",
       "                                                      partition  n_clusters  \\\n",
       "clusterer_id                                                                  \n",
       "KMeans #0     [1.0, 1.0, 1.0, 1.0, 1.0, 1.0, 1.0, 1.0, 1.0, ...           2   \n",
       "KMeans #1     [1.0, 1.0, 1.0, 1.0, 1.0, 1.0, 1.0, 1.0, 1.0, ...           2   \n",
       "KMeans #2     [1.0, 1.0, 1.0, 1.0, 1.0, 1.0, 1.0, 1.0, 1.0, ...           2   \n",
       "KMeans #3     [0.0, 0.0, 0.0, 0.0, 0.0, 0.0, 0.0, 0.0, 0.0, ...           2   \n",
       "KMeans #4     [1.0, 1.0, 1.0, 1.0, 1.0, 1.0, 1.0, 1.0, 1.0, ...           2   \n",
       "\n",
       "                 ch_score  \n",
       "clusterer_id               \n",
       "KMeans #0     2028.286211  \n",
       "KMeans #1     2028.286211  \n",
       "KMeans #2     2028.286211  \n",
       "KMeans #3     2028.286211  \n",
       "KMeans #4     2028.286211  "
      ]
     },
     "execution_count": 37,
     "metadata": {},
     "output_type": "execute_result"
    }
   ],
   "source": [
    "ensemble.head()"
   ]
  },
  {
   "cell_type": "markdown",
   "id": "88a8adfc",
   "metadata": {
    "papermill": {
     "duration": 0.017547,
     "end_time": "2022-09-11T21:13:32.700568",
     "exception": false,
     "start_time": "2022-09-11T21:13:32.683021",
     "status": "completed"
    },
    "tags": []
   },
   "source": [
    "## Save"
   ]
  },
  {
   "cell_type": "code",
   "execution_count": 38,
   "id": "8c66e926",
   "metadata": {
    "execution": {
     "iopub.execute_input": "2022-09-11T21:13:32.742656Z",
     "iopub.status.busy": "2022-09-11T21:13:32.742449Z",
     "iopub.status.idle": "2022-09-11T21:13:32.761740Z",
     "shell.execute_reply": "2022-09-11T21:13:32.761218Z"
    },
    "papermill": {
     "duration": 0.04483,
     "end_time": "2022-09-11T21:13:32.763018",
     "exception": false,
     "start_time": "2022-09-11T21:13:32.718188",
     "status": "completed"
    },
    "tags": []
   },
   "outputs": [
    {
     "data": {
      "text/plain": [
       "PosixPath('/opt/data/results/clustering/null_sims/runs/umap-z_score_std-projection-smultixcan-efo_partial-mashr-zscores/KMeans-KMEANS_N_INIT_10-K_MAX_60-K_MIN_2-N_REPS_PER_K_5.pkl')"
      ]
     },
     "metadata": {},
     "output_type": "display_data"
    }
   ],
   "source": [
    "output_filename = Path(\n",
    "    RESULTS_DIR,\n",
    "    generate_result_set_name(\n",
    "        CLUSTERING_OPTIONS,\n",
    "        prefix=f\"{clustering_method_name}-\",\n",
    "        suffix=\".pkl\",\n",
    "    ),\n",
    ").resolve()\n",
    "display(output_filename)"
   ]
  },
  {
   "cell_type": "code",
   "execution_count": 39,
   "id": "ba16adf4",
   "metadata": {
    "execution": {
     "iopub.execute_input": "2022-09-11T21:13:32.800448Z",
     "iopub.status.busy": "2022-09-11T21:13:32.800239Z",
     "iopub.status.idle": "2022-09-11T21:13:32.832806Z",
     "shell.execute_reply": "2022-09-11T21:13:32.832103Z"
    },
    "papermill": {
     "duration": 0.052399,
     "end_time": "2022-09-11T21:13:32.834239",
     "exception": false,
     "start_time": "2022-09-11T21:13:32.781840",
     "status": "completed"
    },
    "tags": []
   },
   "outputs": [],
   "source": [
    "ensemble.to_pickle(output_filename)"
   ]
  },
  {
   "cell_type": "markdown",
   "id": "6eccf176",
   "metadata": {
    "papermill": {
     "duration": 0.017991,
     "end_time": "2022-09-11T21:13:32.871007",
     "exception": false,
     "start_time": "2022-09-11T21:13:32.853016",
     "status": "completed"
    },
    "tags": []
   },
   "source": [
    "# Cluster quality"
   ]
  },
  {
   "cell_type": "code",
   "execution_count": 40,
   "id": "3ad672e1",
   "metadata": {
    "execution": {
     "iopub.execute_input": "2022-09-11T21:13:32.907721Z",
     "iopub.status.busy": "2022-09-11T21:13:32.907241Z",
     "iopub.status.idle": "2022-09-11T21:13:32.931048Z",
     "shell.execute_reply": "2022-09-11T21:13:32.930449Z"
    },
    "papermill": {
     "duration": 0.043824,
     "end_time": "2022-09-11T21:13:32.932345",
     "exception": false,
     "start_time": "2022-09-11T21:13:32.888521",
     "status": "completed"
    },
    "tags": []
   },
   "outputs": [
    {
     "data": {
      "text/html": [
       "<div>\n",
       "<style scoped>\n",
       "    .dataframe tbody tr th:only-of-type {\n",
       "        vertical-align: middle;\n",
       "    }\n",
       "\n",
       "    .dataframe tbody tr th {\n",
       "        vertical-align: top;\n",
       "    }\n",
       "\n",
       "    .dataframe thead th {\n",
       "        text-align: right;\n",
       "    }\n",
       "</style>\n",
       "<table border=\"1\" class=\"dataframe\">\n",
       "  <thead>\n",
       "    <tr style=\"text-align: right;\">\n",
       "      <th></th>\n",
       "      <th>ch_score</th>\n",
       "    </tr>\n",
       "    <tr>\n",
       "      <th>n_clusters</th>\n",
       "      <th></th>\n",
       "    </tr>\n",
       "  </thead>\n",
       "  <tbody>\n",
       "    <tr>\n",
       "      <th>2</th>\n",
       "      <td>2028.286211</td>\n",
       "    </tr>\n",
       "    <tr>\n",
       "      <th>3</th>\n",
       "      <td>2602.014777</td>\n",
       "    </tr>\n",
       "    <tr>\n",
       "      <th>4</th>\n",
       "      <td>3076.387490</td>\n",
       "    </tr>\n",
       "    <tr>\n",
       "      <th>5</th>\n",
       "      <td>3153.548877</td>\n",
       "    </tr>\n",
       "    <tr>\n",
       "      <th>6</th>\n",
       "      <td>3217.591964</td>\n",
       "    </tr>\n",
       "    <tr>\n",
       "      <th>7</th>\n",
       "      <td>3280.701767</td>\n",
       "    </tr>\n",
       "    <tr>\n",
       "      <th>8</th>\n",
       "      <td>3284.143546</td>\n",
       "    </tr>\n",
       "    <tr>\n",
       "      <th>9</th>\n",
       "      <td>3370.144514</td>\n",
       "    </tr>\n",
       "    <tr>\n",
       "      <th>10</th>\n",
       "      <td>3522.590084</td>\n",
       "    </tr>\n",
       "    <tr>\n",
       "      <th>11</th>\n",
       "      <td>3589.062496</td>\n",
       "    </tr>\n",
       "    <tr>\n",
       "      <th>12</th>\n",
       "      <td>3697.647857</td>\n",
       "    </tr>\n",
       "    <tr>\n",
       "      <th>13</th>\n",
       "      <td>3847.632528</td>\n",
       "    </tr>\n",
       "    <tr>\n",
       "      <th>14</th>\n",
       "      <td>3895.316896</td>\n",
       "    </tr>\n",
       "    <tr>\n",
       "      <th>15</th>\n",
       "      <td>3943.299131</td>\n",
       "    </tr>\n",
       "    <tr>\n",
       "      <th>16</th>\n",
       "      <td>4017.155433</td>\n",
       "    </tr>\n",
       "    <tr>\n",
       "      <th>17</th>\n",
       "      <td>4062.259795</td>\n",
       "    </tr>\n",
       "    <tr>\n",
       "      <th>18</th>\n",
       "      <td>4122.694841</td>\n",
       "    </tr>\n",
       "    <tr>\n",
       "      <th>19</th>\n",
       "      <td>4210.039007</td>\n",
       "    </tr>\n",
       "    <tr>\n",
       "      <th>20</th>\n",
       "      <td>4303.220687</td>\n",
       "    </tr>\n",
       "    <tr>\n",
       "      <th>21</th>\n",
       "      <td>4396.071398</td>\n",
       "    </tr>\n",
       "    <tr>\n",
       "      <th>22</th>\n",
       "      <td>4420.822903</td>\n",
       "    </tr>\n",
       "    <tr>\n",
       "      <th>23</th>\n",
       "      <td>4454.876088</td>\n",
       "    </tr>\n",
       "    <tr>\n",
       "      <th>24</th>\n",
       "      <td>4495.513563</td>\n",
       "    </tr>\n",
       "    <tr>\n",
       "      <th>25</th>\n",
       "      <td>4576.170811</td>\n",
       "    </tr>\n",
       "    <tr>\n",
       "      <th>26</th>\n",
       "      <td>4594.783521</td>\n",
       "    </tr>\n",
       "    <tr>\n",
       "      <th>27</th>\n",
       "      <td>4668.056428</td>\n",
       "    </tr>\n",
       "    <tr>\n",
       "      <th>28</th>\n",
       "      <td>4717.666584</td>\n",
       "    </tr>\n",
       "    <tr>\n",
       "      <th>29</th>\n",
       "      <td>4765.750267</td>\n",
       "    </tr>\n",
       "    <tr>\n",
       "      <th>30</th>\n",
       "      <td>4778.466063</td>\n",
       "    </tr>\n",
       "    <tr>\n",
       "      <th>31</th>\n",
       "      <td>4811.609347</td>\n",
       "    </tr>\n",
       "    <tr>\n",
       "      <th>32</th>\n",
       "      <td>4851.813184</td>\n",
       "    </tr>\n",
       "    <tr>\n",
       "      <th>33</th>\n",
       "      <td>4888.215975</td>\n",
       "    </tr>\n",
       "    <tr>\n",
       "      <th>34</th>\n",
       "      <td>4903.669667</td>\n",
       "    </tr>\n",
       "    <tr>\n",
       "      <th>35</th>\n",
       "      <td>4919.131860</td>\n",
       "    </tr>\n",
       "    <tr>\n",
       "      <th>36</th>\n",
       "      <td>4920.059972</td>\n",
       "    </tr>\n",
       "    <tr>\n",
       "      <th>37</th>\n",
       "      <td>4972.068347</td>\n",
       "    </tr>\n",
       "    <tr>\n",
       "      <th>38</th>\n",
       "      <td>4974.952175</td>\n",
       "    </tr>\n",
       "    <tr>\n",
       "      <th>39</th>\n",
       "      <td>5002.612713</td>\n",
       "    </tr>\n",
       "    <tr>\n",
       "      <th>40</th>\n",
       "      <td>5005.395462</td>\n",
       "    </tr>\n",
       "    <tr>\n",
       "      <th>41</th>\n",
       "      <td>5016.784817</td>\n",
       "    </tr>\n",
       "    <tr>\n",
       "      <th>42</th>\n",
       "      <td>5017.657332</td>\n",
       "    </tr>\n",
       "    <tr>\n",
       "      <th>43</th>\n",
       "      <td>5038.195256</td>\n",
       "    </tr>\n",
       "    <tr>\n",
       "      <th>44</th>\n",
       "      <td>5025.557178</td>\n",
       "    </tr>\n",
       "    <tr>\n",
       "      <th>45</th>\n",
       "      <td>5015.299803</td>\n",
       "    </tr>\n",
       "    <tr>\n",
       "      <th>46</th>\n",
       "      <td>5004.813065</td>\n",
       "    </tr>\n",
       "    <tr>\n",
       "      <th>47</th>\n",
       "      <td>5013.214201</td>\n",
       "    </tr>\n",
       "    <tr>\n",
       "      <th>48</th>\n",
       "      <td>5009.597571</td>\n",
       "    </tr>\n",
       "    <tr>\n",
       "      <th>49</th>\n",
       "      <td>4981.169206</td>\n",
       "    </tr>\n",
       "    <tr>\n",
       "      <th>50</th>\n",
       "      <td>4963.606559</td>\n",
       "    </tr>\n",
       "    <tr>\n",
       "      <th>51</th>\n",
       "      <td>4946.242990</td>\n",
       "    </tr>\n",
       "    <tr>\n",
       "      <th>52</th>\n",
       "      <td>4930.525726</td>\n",
       "    </tr>\n",
       "    <tr>\n",
       "      <th>53</th>\n",
       "      <td>4900.852200</td>\n",
       "    </tr>\n",
       "    <tr>\n",
       "      <th>54</th>\n",
       "      <td>4892.130487</td>\n",
       "    </tr>\n",
       "    <tr>\n",
       "      <th>55</th>\n",
       "      <td>4847.610216</td>\n",
       "    </tr>\n",
       "    <tr>\n",
       "      <th>56</th>\n",
       "      <td>4846.198383</td>\n",
       "    </tr>\n",
       "    <tr>\n",
       "      <th>57</th>\n",
       "      <td>4803.861418</td>\n",
       "    </tr>\n",
       "    <tr>\n",
       "      <th>58</th>\n",
       "      <td>4778.340325</td>\n",
       "    </tr>\n",
       "    <tr>\n",
       "      <th>59</th>\n",
       "      <td>4742.985270</td>\n",
       "    </tr>\n",
       "    <tr>\n",
       "      <th>60</th>\n",
       "      <td>4726.395747</td>\n",
       "    </tr>\n",
       "  </tbody>\n",
       "</table>\n",
       "</div>"
      ],
      "text/plain": [
       "               ch_score\n",
       "n_clusters             \n",
       "2           2028.286211\n",
       "3           2602.014777\n",
       "4           3076.387490\n",
       "5           3153.548877\n",
       "6           3217.591964\n",
       "7           3280.701767\n",
       "8           3284.143546\n",
       "9           3370.144514\n",
       "10          3522.590084\n",
       "11          3589.062496\n",
       "12          3697.647857\n",
       "13          3847.632528\n",
       "14          3895.316896\n",
       "15          3943.299131\n",
       "16          4017.155433\n",
       "17          4062.259795\n",
       "18          4122.694841\n",
       "19          4210.039007\n",
       "20          4303.220687\n",
       "21          4396.071398\n",
       "22          4420.822903\n",
       "23          4454.876088\n",
       "24          4495.513563\n",
       "25          4576.170811\n",
       "26          4594.783521\n",
       "27          4668.056428\n",
       "28          4717.666584\n",
       "29          4765.750267\n",
       "30          4778.466063\n",
       "31          4811.609347\n",
       "32          4851.813184\n",
       "33          4888.215975\n",
       "34          4903.669667\n",
       "35          4919.131860\n",
       "36          4920.059972\n",
       "37          4972.068347\n",
       "38          4974.952175\n",
       "39          5002.612713\n",
       "40          5005.395462\n",
       "41          5016.784817\n",
       "42          5017.657332\n",
       "43          5038.195256\n",
       "44          5025.557178\n",
       "45          5015.299803\n",
       "46          5004.813065\n",
       "47          5013.214201\n",
       "48          5009.597571\n",
       "49          4981.169206\n",
       "50          4963.606559\n",
       "51          4946.242990\n",
       "52          4930.525726\n",
       "53          4900.852200\n",
       "54          4892.130487\n",
       "55          4847.610216\n",
       "56          4846.198383\n",
       "57          4803.861418\n",
       "58          4778.340325\n",
       "59          4742.985270\n",
       "60          4726.395747"
      ]
     },
     "metadata": {},
     "output_type": "display_data"
    }
   ],
   "source": [
    "with pd.option_context(\"display.max_rows\", None, \"display.max_columns\", None):\n",
    "    _df = ensemble.groupby([\"n_clusters\"]).mean()\n",
    "    display(_df)"
   ]
  },
  {
   "cell_type": "code",
   "execution_count": 41,
   "id": "f01c322d",
   "metadata": {
    "execution": {
     "iopub.execute_input": "2022-09-11T21:13:32.970882Z",
     "iopub.status.busy": "2022-09-11T21:13:32.970661Z",
     "iopub.status.idle": "2022-09-11T21:13:36.005255Z",
     "shell.execute_reply": "2022-09-11T21:13:36.004752Z"
    },
    "papermill": {
     "duration": 3.055041,
     "end_time": "2022-09-11T21:13:36.006460",
     "exception": false,
     "start_time": "2022-09-11T21:13:32.951419",
     "status": "completed"
    },
    "tags": []
   },
   "outputs": [
    {
     "data": {
      "image/png": "[encoded data removed]",
      "text/plain": [
       "<Figure size 1008x432 with 1 Axes>"
      ]
     },
     "metadata": {},
     "output_type": "display_data"
    }
   ],
   "source": [
    "with sns.plotting_context(\"talk\", font_scale=0.75), sns.axes_style(\n",
    "    \"whitegrid\", {\"grid.linestyle\": \"--\"}\n",
    "):\n",
    "    fig = plt.figure(figsize=(14, 6))\n",
    "    ax = sns.pointplot(data=ensemble, x=\"n_clusters\", y=\"ch_score\")\n",
    "    ax.set_ylabel(\"Calinski-Harabasz index\")\n",
    "    ax.set_xlabel(\"Number of clusters ($k$)\")\n",
    "    ax.set_xticklabels(ax.get_xticklabels(), rotation=45)\n",
    "    plt.grid(True)\n",
    "    plt.tight_layout()"
   ]
  },
  {
   "cell_type": "markdown",
   "id": "fa2fb866",
   "metadata": {
    "papermill": {
     "duration": 0.038016,
     "end_time": "2022-09-11T21:13:36.063814",
     "exception": false,
     "start_time": "2022-09-11T21:13:36.025798",
     "status": "completed"
    },
    "tags": []
   },
   "source": [
    "# Stability"
   ]
  },
  {
   "cell_type": "markdown",
   "id": "42e9d423",
   "metadata": {
    "papermill": {
     "duration": 0.019796,
     "end_time": "2022-09-11T21:13:36.105270",
     "exception": false,
     "start_time": "2022-09-11T21:13:36.085474",
     "status": "completed"
    },
    "tags": []
   },
   "source": [
    "## Group ensemble by n_clusters"
   ]
  },
  {
   "cell_type": "code",
   "execution_count": 42,
   "id": "55a76123",
   "metadata": {
    "execution": {
     "iopub.execute_input": "2022-09-11T21:13:36.144200Z",
     "iopub.status.busy": "2022-09-11T21:13:36.143993Z",
     "iopub.status.idle": "2022-09-11T21:13:36.181614Z",
     "shell.execute_reply": "2022-09-11T21:13:36.181071Z"
    },
    "papermill": {
     "duration": 0.058754,
     "end_time": "2022-09-11T21:13:36.182994",
     "exception": false,
     "start_time": "2022-09-11T21:13:36.124240",
     "status": "completed"
    },
    "tags": []
   },
   "outputs": [],
   "source": [
    "parts = ensemble.groupby(\"n_clusters\").apply(\n",
    "    lambda x: np.concatenate(x[\"partition\"].apply(lambda x: x.reshape(1, -1)), axis=0)\n",
    ")"
   ]
  },
  {
   "cell_type": "code",
   "execution_count": 43,
   "id": "ab89be08",
   "metadata": {
    "execution": {
     "iopub.execute_input": "2022-09-11T21:13:36.223743Z",
     "iopub.status.busy": "2022-09-11T21:13:36.223502Z",
     "iopub.status.idle": "2022-09-11T21:13:36.254036Z",
     "shell.execute_reply": "2022-09-11T21:13:36.253466Z"
    },
    "papermill": {
     "duration": 0.051941,
     "end_time": "2022-09-11T21:13:36.255271",
     "exception": false,
     "start_time": "2022-09-11T21:13:36.203330",
     "status": "completed"
    },
    "tags": []
   },
   "outputs": [
    {
     "data": {
      "text/plain": [
       "n_clusters\n",
       "2    [[1.0, 1.0, 1.0, 1.0, 1.0, 1.0, 1.0, 1.0, 1.0,...\n",
       "3    [[2.0, 2.0, 2.0, 2.0, 2.0, 2.0, 2.0, 2.0, 2.0,...\n",
       "4    [[1.0, 1.0, 1.0, 1.0, 1.0, 1.0, 1.0, 1.0, 1.0,...\n",
       "5    [[4.0, 4.0, 4.0, 4.0, 4.0, 4.0, 4.0, 4.0, 4.0,...\n",
       "6    [[0.0, 0.0, 0.0, 0.0, 0.0, 0.0, 0.0, 0.0, 0.0,...\n",
       "dtype: object"
      ]
     },
     "execution_count": 43,
     "metadata": {},
     "output_type": "execute_result"
    }
   ],
   "source": [
    "parts.head()"
   ]
  },
  {
   "cell_type": "code",
   "execution_count": 44,
   "id": "19768613",
   "metadata": {
    "execution": {
     "iopub.execute_input": "2022-09-11T21:13:36.295283Z",
     "iopub.status.busy": "2022-09-11T21:13:36.295099Z",
     "iopub.status.idle": "2022-09-11T21:13:36.314264Z",
     "shell.execute_reply": "2022-09-11T21:13:36.313811Z"
    },
    "papermill": {
     "duration": 0.040859,
     "end_time": "2022-09-11T21:13:36.315576",
     "exception": false,
     "start_time": "2022-09-11T21:13:36.274717",
     "status": "completed"
    },
    "tags": []
   },
   "outputs": [],
   "source": [
    "assert np.all(\n",
    "    [\n",
    "        parts.loc[k].shape == (CLUSTERING_OPTIONS[\"N_REPS_PER_K\"], data.shape[0])\n",
    "        for k in parts.index\n",
    "    ]\n",
    ")"
   ]
  },
  {
   "cell_type": "markdown",
   "id": "dee96e91",
   "metadata": {
    "papermill": {
     "duration": 0.019006,
     "end_time": "2022-09-11T21:13:36.355092",
     "exception": false,
     "start_time": "2022-09-11T21:13:36.336086",
     "status": "completed"
    },
    "tags": []
   },
   "source": [
    "## Compute stability"
   ]
  },
  {
   "cell_type": "code",
   "execution_count": 45,
   "id": "f1b876ea",
   "metadata": {
    "execution": {
     "iopub.execute_input": "2022-09-11T21:13:36.394318Z",
     "iopub.status.busy": "2022-09-11T21:13:36.394111Z",
     "iopub.status.idle": "2022-09-11T21:13:36.412002Z",
     "shell.execute_reply": "2022-09-11T21:13:36.411469Z"
    },
    "papermill": {
     "duration": 0.039096,
     "end_time": "2022-09-11T21:13:36.413318",
     "exception": false,
     "start_time": "2022-09-11T21:13:36.374222",
     "status": "completed"
    },
    "tags": []
   },
   "outputs": [],
   "source": [
    "from sklearn.metrics import adjusted_rand_score as ari\n",
    "from scipy.spatial.distance import pdist"
   ]
  },
  {
   "cell_type": "code",
   "execution_count": 46,
   "id": "9d5f7f69",
   "metadata": {
    "execution": {
     "iopub.execute_input": "2022-09-11T21:13:36.454831Z",
     "iopub.status.busy": "2022-09-11T21:13:36.454624Z",
     "iopub.status.idle": "2022-09-11T21:13:37.018517Z",
     "shell.execute_reply": "2022-09-11T21:13:37.017122Z"
    },
    "papermill": {
     "duration": 0.588056,
     "end_time": "2022-09-11T21:13:37.021914",
     "exception": false,
     "start_time": "2022-09-11T21:13:36.433858",
     "status": "completed"
    },
    "tags": []
   },
   "outputs": [],
   "source": [
    "parts_ari = pd.Series(\n",
    "    {k: pdist(parts.loc[k], metric=ari) for k in parts.index}, name=\"k\"\n",
    ")"
   ]
  },
  {
   "cell_type": "code",
   "execution_count": 47,
   "id": "c69b72e3",
   "metadata": {
    "execution": {
     "iopub.execute_input": "2022-09-11T21:13:37.064346Z",
     "iopub.status.busy": "2022-09-11T21:13:37.064139Z",
     "iopub.status.idle": "2022-09-11T21:13:37.086585Z",
     "shell.execute_reply": "2022-09-11T21:13:37.086101Z"
    },
    "papermill": {
     "duration": 0.044921,
     "end_time": "2022-09-11T21:13:37.087839",
     "exception": false,
     "start_time": "2022-09-11T21:13:37.042918",
     "status": "completed"
    },
    "tags": []
   },
   "outputs": [
    {
     "data": {
      "text/plain": [
       "2     1.000000\n",
       "6     1.000000\n",
       "7     1.000000\n",
       "3     1.000000\n",
       "4     1.000000\n",
       "5     0.996839\n",
       "10    0.996015\n",
       "11    0.992413\n",
       "12    0.984467\n",
       "13    0.982241\n",
       "15    0.964561\n",
       "14    0.963798\n",
       "9     0.919485\n",
       "16    0.907783\n",
       "21    0.901558\n",
       "Name: k, dtype: float64"
      ]
     },
     "metadata": {},
     "output_type": "display_data"
    }
   ],
   "source": [
    "parts_ari_stability = parts_ari.apply(lambda x: x.mean())\n",
    "display(parts_ari_stability.sort_values(ascending=False).head(15))"
   ]
  },
  {
   "cell_type": "code",
   "execution_count": 48,
   "id": "0eed5ee2",
   "metadata": {
    "execution": {
     "iopub.execute_input": "2022-09-11T21:13:37.128911Z",
     "iopub.status.busy": "2022-09-11T21:13:37.128689Z",
     "iopub.status.idle": "2022-09-11T21:13:37.148269Z",
     "shell.execute_reply": "2022-09-11T21:13:37.147630Z"
    },
    "papermill": {
     "duration": 0.041394,
     "end_time": "2022-09-11T21:13:37.149707",
     "exception": false,
     "start_time": "2022-09-11T21:13:37.108313",
     "status": "completed"
    },
    "tags": []
   },
   "outputs": [],
   "source": [
    "parts_ari_df = pd.DataFrame.from_records(parts_ari.tolist()).set_index(\n",
    "    parts_ari.index.copy()\n",
    ")"
   ]
  },
  {
   "cell_type": "code",
   "execution_count": 49,
   "id": "92040d8b",
   "metadata": {
    "execution": {
     "iopub.execute_input": "2022-09-11T21:13:37.192135Z",
     "iopub.status.busy": "2022-09-11T21:13:37.191926Z",
     "iopub.status.idle": "2022-09-11T21:13:37.210701Z",
     "shell.execute_reply": "2022-09-11T21:13:37.210137Z"
    },
    "papermill": {
     "duration": 0.040569,
     "end_time": "2022-09-11T21:13:37.211944",
     "exception": false,
     "start_time": "2022-09-11T21:13:37.171375",
     "status": "completed"
    },
    "tags": []
   },
   "outputs": [
    {
     "data": {
      "text/plain": [
       "(59, 10)"
      ]
     },
     "execution_count": 49,
     "metadata": {},
     "output_type": "execute_result"
    }
   ],
   "source": [
    "parts_ari_df.shape"
   ]
  },
  {
   "cell_type": "code",
   "execution_count": 50,
   "id": "a913ca22",
   "metadata": {
    "execution": {
     "iopub.execute_input": "2022-09-11T21:13:37.253130Z",
     "iopub.status.busy": "2022-09-11T21:13:37.252923Z",
     "iopub.status.idle": "2022-09-11T21:13:37.271166Z",
     "shell.execute_reply": "2022-09-11T21:13:37.270677Z"
    },
    "papermill": {
     "duration": 0.040156,
     "end_time": "2022-09-11T21:13:37.272466",
     "exception": false,
     "start_time": "2022-09-11T21:13:37.232310",
     "status": "completed"
    },
    "tags": []
   },
   "outputs": [],
   "source": [
    "assert (\n",
    "    int(\n",
    "        (CLUSTERING_OPTIONS[\"N_REPS_PER_K\"] * (CLUSTERING_OPTIONS[\"N_REPS_PER_K\"] - 1))\n",
    "        / 2\n",
    "    )\n",
    "    == parts_ari_df.shape[1]\n",
    ")"
   ]
  },
  {
   "cell_type": "code",
   "execution_count": 51,
   "id": "feeac650",
   "metadata": {
    "execution": {
     "iopub.execute_input": "2022-09-11T21:13:37.313323Z",
     "iopub.status.busy": "2022-09-11T21:13:37.313117Z",
     "iopub.status.idle": "2022-09-11T21:13:37.337860Z",
     "shell.execute_reply": "2022-09-11T21:13:37.337409Z"
    },
    "papermill": {
     "duration": 0.046105,
     "end_time": "2022-09-11T21:13:37.339172",
     "exception": false,
     "start_time": "2022-09-11T21:13:37.293067",
     "status": "completed"
    },
    "tags": []
   },
   "outputs": [
    {
     "data": {
      "text/html": [
       "<div>\n",
       "<style scoped>\n",
       "    .dataframe tbody tr th:only-of-type {\n",
       "        vertical-align: middle;\n",
       "    }\n",
       "\n",
       "    .dataframe tbody tr th {\n",
       "        vertical-align: top;\n",
       "    }\n",
       "\n",
       "    .dataframe thead th {\n",
       "        text-align: right;\n",
       "    }\n",
       "</style>\n",
       "<table border=\"1\" class=\"dataframe\">\n",
       "  <thead>\n",
       "    <tr style=\"text-align: right;\">\n",
       "      <th></th>\n",
       "      <th>0</th>\n",
       "      <th>1</th>\n",
       "      <th>2</th>\n",
       "      <th>3</th>\n",
       "      <th>4</th>\n",
       "      <th>5</th>\n",
       "      <th>6</th>\n",
       "      <th>7</th>\n",
       "      <th>8</th>\n",
       "      <th>9</th>\n",
       "    </tr>\n",
       "  </thead>\n",
       "  <tbody>\n",
       "    <tr>\n",
       "      <th>2</th>\n",
       "      <td>1.000000</td>\n",
       "      <td>1.0</td>\n",
       "      <td>1.0</td>\n",
       "      <td>1.0</td>\n",
       "      <td>1.000000</td>\n",
       "      <td>1.000000</td>\n",
       "      <td>1.000000</td>\n",
       "      <td>1.0</td>\n",
       "      <td>1.0</td>\n",
       "      <td>1.0</td>\n",
       "    </tr>\n",
       "    <tr>\n",
       "      <th>3</th>\n",
       "      <td>1.000000</td>\n",
       "      <td>1.0</td>\n",
       "      <td>1.0</td>\n",
       "      <td>1.0</td>\n",
       "      <td>1.000000</td>\n",
       "      <td>1.000000</td>\n",
       "      <td>1.000000</td>\n",
       "      <td>1.0</td>\n",
       "      <td>1.0</td>\n",
       "      <td>1.0</td>\n",
       "    </tr>\n",
       "    <tr>\n",
       "      <th>4</th>\n",
       "      <td>1.000000</td>\n",
       "      <td>1.0</td>\n",
       "      <td>1.0</td>\n",
       "      <td>1.0</td>\n",
       "      <td>1.000000</td>\n",
       "      <td>1.000000</td>\n",
       "      <td>1.000000</td>\n",
       "      <td>1.0</td>\n",
       "      <td>1.0</td>\n",
       "      <td>1.0</td>\n",
       "    </tr>\n",
       "    <tr>\n",
       "      <th>5</th>\n",
       "      <td>0.992098</td>\n",
       "      <td>1.0</td>\n",
       "      <td>1.0</td>\n",
       "      <td>1.0</td>\n",
       "      <td>0.992098</td>\n",
       "      <td>0.992098</td>\n",
       "      <td>0.992098</td>\n",
       "      <td>1.0</td>\n",
       "      <td>1.0</td>\n",
       "      <td>1.0</td>\n",
       "    </tr>\n",
       "    <tr>\n",
       "      <th>6</th>\n",
       "      <td>1.000000</td>\n",
       "      <td>1.0</td>\n",
       "      <td>1.0</td>\n",
       "      <td>1.0</td>\n",
       "      <td>1.000000</td>\n",
       "      <td>1.000000</td>\n",
       "      <td>1.000000</td>\n",
       "      <td>1.0</td>\n",
       "      <td>1.0</td>\n",
       "      <td>1.0</td>\n",
       "    </tr>\n",
       "  </tbody>\n",
       "</table>\n",
       "</div>"
      ],
      "text/plain": [
       "          0    1    2    3         4         5         6    7    8    9\n",
       "2  1.000000  1.0  1.0  1.0  1.000000  1.000000  1.000000  1.0  1.0  1.0\n",
       "3  1.000000  1.0  1.0  1.0  1.000000  1.000000  1.000000  1.0  1.0  1.0\n",
       "4  1.000000  1.0  1.0  1.0  1.000000  1.000000  1.000000  1.0  1.0  1.0\n",
       "5  0.992098  1.0  1.0  1.0  0.992098  0.992098  0.992098  1.0  1.0  1.0\n",
       "6  1.000000  1.0  1.0  1.0  1.000000  1.000000  1.000000  1.0  1.0  1.0"
      ]
     },
     "execution_count": 51,
     "metadata": {},
     "output_type": "execute_result"
    }
   ],
   "source": [
    "parts_ari_df.head()"
   ]
  },
  {
   "cell_type": "markdown",
   "id": "28530a7c",
   "metadata": {
    "papermill": {
     "duration": 0.019577,
     "end_time": "2022-09-11T21:13:37.379664",
     "exception": false,
     "start_time": "2022-09-11T21:13:37.360087",
     "status": "completed"
    },
    "tags": []
   },
   "source": [
    "## Save"
   ]
  },
  {
   "cell_type": "code",
   "execution_count": 52,
   "id": "b76bfb10",
   "metadata": {
    "execution": {
     "iopub.execute_input": "2022-09-11T21:13:37.419624Z",
     "iopub.status.busy": "2022-09-11T21:13:37.419335Z",
     "iopub.status.idle": "2022-09-11T21:13:37.438339Z",
     "shell.execute_reply": "2022-09-11T21:13:37.437927Z"
    },
    "papermill": {
     "duration": 0.040715,
     "end_time": "2022-09-11T21:13:37.439603",
     "exception": false,
     "start_time": "2022-09-11T21:13:37.398888",
     "status": "completed"
    },
    "tags": []
   },
   "outputs": [
    {
     "data": {
      "text/plain": [
       "PosixPath('/opt/data/results/clustering/null_sims/runs/umap-z_score_std-projection-smultixcan-efo_partial-mashr-zscores/KMeans-stability-KMEANS_N_INIT_10-K_MAX_60-K_MIN_2-N_REPS_PER_K_5.pkl')"
      ]
     },
     "metadata": {},
     "output_type": "display_data"
    }
   ],
   "source": [
    "output_filename = Path(\n",
    "    RESULTS_DIR,\n",
    "    generate_result_set_name(\n",
    "        CLUSTERING_OPTIONS,\n",
    "        prefix=f\"{clustering_method_name}-stability-\",\n",
    "        suffix=\".pkl\",\n",
    "    ),\n",
    ").resolve()\n",
    "display(output_filename)"
   ]
  },
  {
   "cell_type": "code",
   "execution_count": 53,
   "id": "9afe9f4c",
   "metadata": {
    "execution": {
     "iopub.execute_input": "2022-09-11T21:13:37.480845Z",
     "iopub.status.busy": "2022-09-11T21:13:37.480641Z",
     "iopub.status.idle": "2022-09-11T21:13:37.499445Z",
     "shell.execute_reply": "2022-09-11T21:13:37.498974Z"
    },
    "papermill": {
     "duration": 0.040756,
     "end_time": "2022-09-11T21:13:37.500869",
     "exception": false,
     "start_time": "2022-09-11T21:13:37.460113",
     "status": "completed"
    },
    "tags": []
   },
   "outputs": [],
   "source": [
    "parts_ari_df.to_pickle(output_filename)"
   ]
  },
  {
   "cell_type": "markdown",
   "id": "593d018f",
   "metadata": {
    "papermill": {
     "duration": 0.020596,
     "end_time": "2022-09-11T21:13:37.544204",
     "exception": false,
     "start_time": "2022-09-11T21:13:37.523608",
     "status": "completed"
    },
    "tags": []
   },
   "source": [
    "## Stability plot"
   ]
  },
  {
   "cell_type": "code",
   "execution_count": 54,
   "id": "d25d02ef",
   "metadata": {
    "execution": {
     "iopub.execute_input": "2022-09-11T21:13:37.584935Z",
     "iopub.status.busy": "2022-09-11T21:13:37.584724Z",
     "iopub.status.idle": "2022-09-11T21:13:37.604426Z",
     "shell.execute_reply": "2022-09-11T21:13:37.603786Z"
    },
    "papermill": {
     "duration": 0.041952,
     "end_time": "2022-09-11T21:13:37.605805",
     "exception": false,
     "start_time": "2022-09-11T21:13:37.563853",
     "status": "completed"
    },
    "tags": []
   },
   "outputs": [],
   "source": [
    "parts_ari_df_plot = (\n",
    "    parts_ari_df.stack()\n",
    "    .reset_index()\n",
    "    .rename(columns={\"level_0\": \"k\", \"level_1\": \"idx\", 0: \"ari\"})\n",
    ")"
   ]
  },
  {
   "cell_type": "code",
   "execution_count": 55,
   "id": "57e2e785",
   "metadata": {
    "execution": {
     "iopub.execute_input": "2022-09-11T21:13:37.647105Z",
     "iopub.status.busy": "2022-09-11T21:13:37.646894Z",
     "iopub.status.idle": "2022-09-11T21:13:37.667320Z",
     "shell.execute_reply": "2022-09-11T21:13:37.666788Z"
    },
    "papermill": {
     "duration": 0.042165,
     "end_time": "2022-09-11T21:13:37.668676",
     "exception": false,
     "start_time": "2022-09-11T21:13:37.626511",
     "status": "completed"
    },
    "tags": []
   },
   "outputs": [
    {
     "data": {
      "text/plain": [
       "k        int64\n",
       "idx      int64\n",
       "ari    float64\n",
       "dtype: object"
      ]
     },
     "execution_count": 55,
     "metadata": {},
     "output_type": "execute_result"
    }
   ],
   "source": [
    "parts_ari_df_plot.dtypes"
   ]
  },
  {
   "cell_type": "code",
   "execution_count": 56,
   "id": "aef12776",
   "metadata": {
    "execution": {
     "iopub.execute_input": "2022-09-11T21:13:37.710422Z",
     "iopub.status.busy": "2022-09-11T21:13:37.710215Z",
     "iopub.status.idle": "2022-09-11T21:13:37.731276Z",
     "shell.execute_reply": "2022-09-11T21:13:37.730819Z"
    },
    "papermill": {
     "duration": 0.042743,
     "end_time": "2022-09-11T21:13:37.732538",
     "exception": false,
     "start_time": "2022-09-11T21:13:37.689795",
     "status": "completed"
    },
    "tags": []
   },
   "outputs": [
    {
     "data": {
      "text/html": [
       "<div>\n",
       "<style scoped>\n",
       "    .dataframe tbody tr th:only-of-type {\n",
       "        vertical-align: middle;\n",
       "    }\n",
       "\n",
       "    .dataframe tbody tr th {\n",
       "        vertical-align: top;\n",
       "    }\n",
       "\n",
       "    .dataframe thead th {\n",
       "        text-align: right;\n",
       "    }\n",
       "</style>\n",
       "<table border=\"1\" class=\"dataframe\">\n",
       "  <thead>\n",
       "    <tr style=\"text-align: right;\">\n",
       "      <th></th>\n",
       "      <th>k</th>\n",
       "      <th>idx</th>\n",
       "      <th>ari</th>\n",
       "    </tr>\n",
       "  </thead>\n",
       "  <tbody>\n",
       "    <tr>\n",
       "      <th>0</th>\n",
       "      <td>2</td>\n",
       "      <td>0</td>\n",
       "      <td>1.0</td>\n",
       "    </tr>\n",
       "    <tr>\n",
       "      <th>1</th>\n",
       "      <td>2</td>\n",
       "      <td>1</td>\n",
       "      <td>1.0</td>\n",
       "    </tr>\n",
       "    <tr>\n",
       "      <th>2</th>\n",
       "      <td>2</td>\n",
       "      <td>2</td>\n",
       "      <td>1.0</td>\n",
       "    </tr>\n",
       "    <tr>\n",
       "      <th>3</th>\n",
       "      <td>2</td>\n",
       "      <td>3</td>\n",
       "      <td>1.0</td>\n",
       "    </tr>\n",
       "    <tr>\n",
       "      <th>4</th>\n",
       "      <td>2</td>\n",
       "      <td>4</td>\n",
       "      <td>1.0</td>\n",
       "    </tr>\n",
       "  </tbody>\n",
       "</table>\n",
       "</div>"
      ],
      "text/plain": [
       "   k  idx  ari\n",
       "0  2    0  1.0\n",
       "1  2    1  1.0\n",
       "2  2    2  1.0\n",
       "3  2    3  1.0\n",
       "4  2    4  1.0"
      ]
     },
     "execution_count": 56,
     "metadata": {},
     "output_type": "execute_result"
    }
   ],
   "source": [
    "parts_ari_df_plot.head()"
   ]
  },
  {
   "cell_type": "code",
   "execution_count": 57,
   "id": "db7ada4b",
   "metadata": {
    "execution": {
     "iopub.execute_input": "2022-09-11T21:13:37.775474Z",
     "iopub.status.busy": "2022-09-11T21:13:37.775256Z",
     "iopub.status.idle": "2022-09-11T21:13:40.650529Z",
     "shell.execute_reply": "2022-09-11T21:13:40.649818Z"
    },
    "papermill": {
     "duration": 2.898043,
     "end_time": "2022-09-11T21:13:40.652109",
     "exception": false,
     "start_time": "2022-09-11T21:13:37.754066",
     "status": "completed"
    },
    "tags": []
   },
   "outputs": [
    {
     "data": {
      "image/png": "[encoded data removed]",
      "text/plain": [
       "<Figure size 1008x432 with 1 Axes>"
      ]
     },
     "metadata": {},
     "output_type": "display_data"
    }
   ],
   "source": [
    "# with sns.axes_style('whitegrid', {'grid.linestyle': '--'}):\n",
    "with sns.plotting_context(\"talk\", font_scale=0.75), sns.axes_style(\n",
    "    \"whitegrid\", {\"grid.linestyle\": \"--\"}\n",
    "):\n",
    "    fig = plt.figure(figsize=(14, 6))\n",
    "    ax = sns.pointplot(data=parts_ari_df_plot, x=\"k\", y=\"ari\")\n",
    "    ax.set_ylabel(\"Averange ARI\")\n",
    "    ax.set_xlabel(\"Number of clusters ($k$)\")\n",
    "    ax.set_xticklabels(ax.get_xticklabels(), rotation=45)\n",
    "    #     ax.set_ylim(0.0, 1.0)\n",
    "    #     ax.set_xlim(CLUSTERING_OPTIONS['K_MIN'], CLUSTERING_OPTIONS['K_MAX'])\n",
    "    plt.grid(True)\n",
    "    plt.tight_layout()"
   ]
  },
  {
   "cell_type": "code",
   "execution_count": null,
   "id": "2ef7b813",
   "metadata": {
    "papermill": {
     "duration": 0.044812,
     "end_time": "2022-09-11T21:13:40.718854",
     "exception": false,
     "start_time": "2022-09-11T21:13:40.674042",
     "status": "completed"
    },
    "tags": []
   },
   "outputs": [],
   "source": []
  }
 ],
 "metadata": {
  "jupytext": {
   "cell_metadata_filter": "all,-execution,-papermill,-trusted",
   "formats": "ipynb,py//py:percent"
  },
  "kernelspec": {
   "display_name": "Python 3 (ipykernel)",
   "language": "python",
   "name": "python3"
  },
  "language_info": {
   "codemirror_mode": {
    "name": "ipython",
    "version": 3
   },
   "file_extension": ".py",
   "mimetype": "text/x-python",
   "name": "python",
   "nbconvert_exporter": "python",
   "pygments_lexer": "ipython3",
   "version": "3.8.13"
  },
  "papermill": {
   "default_parameters": {},
   "duration": 349.929307,
   "end_time": "2022-09-11T21:13:41.063752",
   "environment_variables": {},
   "exception": null,
   "input_path": "nbs/13.1_cluster_analysis_null/10_02-kmeans-umap.ipynb",
   "output_path": "nbs/13.1_cluster_analysis_null/10_02-kmeans-umap.run.ipynb",
   "parameters": {},
   "start_time": "2022-09-11T21:07:51.134445",
   "version": "2.2.2"
  },
  "toc-autonumbering": true,
  "toc-showcode": false,
  "toc-showmarkdowntxt": false,
  "toc-showtags": false
 },
 "nbformat": 4,
 "nbformat_minor": 5
}
