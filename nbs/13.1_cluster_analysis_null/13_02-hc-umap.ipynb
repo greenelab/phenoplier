{
 "cells": [
  {
   "cell_type": "markdown",
   "metadata": {
    "papermill": {
     "duration": 0.050177,
     "end_time": "2021-03-10T02:53:23.916091",
     "exception": false,
     "start_time": "2021-03-10T02:53:23.865914",
     "status": "completed"
    },
    "tags": []
   },
   "source": [
    "# Description"
   ]
  },
  {
   "cell_type": "markdown",
   "metadata": {
    "papermill": {
     "duration": 0.015104,
     "end_time": "2021-03-10T02:53:23.948841",
     "exception": false,
     "start_time": "2021-03-10T02:53:23.933737",
     "status": "completed"
    },
    "tags": []
   },
   "source": [
    "Runs hierarchical clustering on the umap version of the data."
   ]
  },
  {
   "cell_type": "markdown",
   "metadata": {
    "papermill": {
     "duration": 0.015008,
     "end_time": "2021-03-10T02:53:23.979776",
     "exception": false,
     "start_time": "2021-03-10T02:53:23.964768",
     "status": "completed"
    },
    "tags": []
   },
   "source": [
    "# Environment variables"
   ]
  },
  {
   "cell_type": "code",
   "execution_count": null,
   "metadata": {
    "papermill": {
     "duration": 0.031292,
     "end_time": "2021-03-10T02:53:24.026591",
     "exception": false,
     "start_time": "2021-03-10T02:53:23.995299",
     "status": "completed"
    },
    "tags": []
   },
   "outputs": [],
   "source": [
    "from IPython.display import display\n",
    "\n",
    "import conf\n",
    "\n",
    "N_JOBS = conf.GENERAL[\"N_JOBS\"]\n",
    "display(N_JOBS)"
   ]
  },
  {
   "cell_type": "code",
   "execution_count": null,
   "metadata": {
    "papermill": {
     "duration": 0.022317,
     "end_time": "2021-03-10T02:53:24.065367",
     "exception": false,
     "start_time": "2021-03-10T02:53:24.043050",
     "status": "completed"
    },
    "tags": []
   },
   "outputs": [],
   "source": [
    "%env MKL_NUM_THREADS=$N_JOBS\n",
    "%env OPEN_BLAS_NUM_THREADS=$N_JOBS\n",
    "%env NUMEXPR_NUM_THREADS=$N_JOBS\n",
    "%env OMP_NUM_THREADS=$N_JOBS"
   ]
  },
  {
   "cell_type": "markdown",
   "metadata": {
    "papermill": {
     "duration": 0.016354,
     "end_time": "2021-03-10T02:53:24.098276",
     "exception": false,
     "start_time": "2021-03-10T02:53:24.081922",
     "status": "completed"
    },
    "tags": []
   },
   "source": [
    "# Modules loading"
   ]
  },
  {
   "cell_type": "code",
   "execution_count": null,
   "metadata": {
    "papermill": {
     "duration": 0.025997,
     "end_time": "2021-03-10T02:53:24.140077",
     "exception": false,
     "start_time": "2021-03-10T02:53:24.114080",
     "status": "completed"
    },
    "tags": []
   },
   "outputs": [],
   "source": [
    "%load_ext autoreload\n",
    "%autoreload 2"
   ]
  },
  {
   "cell_type": "code",
   "execution_count": null,
   "metadata": {
    "papermill": {
     "duration": 0.201465,
     "end_time": "2021-03-10T02:53:24.357401",
     "exception": false,
     "start_time": "2021-03-10T02:53:24.155936",
     "status": "completed"
    },
    "tags": []
   },
   "outputs": [],
   "source": [
    "from pathlib import Path\n",
    "\n",
    "import numpy as np\n",
    "import pandas as pd\n",
    "\n",
    "from utils import generate_result_set_name"
   ]
  },
  {
   "cell_type": "markdown",
   "metadata": {
    "papermill": {
     "duration": 0.015742,
     "end_time": "2021-03-10T02:53:24.389963",
     "exception": false,
     "start_time": "2021-03-10T02:53:24.374221",
     "status": "completed"
    },
    "tags": []
   },
   "source": [
    "# Settings"
   ]
  },
  {
   "cell_type": "code",
   "execution_count": null,
   "metadata": {
    "papermill": {
     "duration": 0.025281,
     "end_time": "2021-03-10T02:53:24.431408",
     "exception": false,
     "start_time": "2021-03-10T02:53:24.406127",
     "status": "completed"
    },
    "tags": []
   },
   "outputs": [],
   "source": [
    "np.random.seed(0)"
   ]
  },
  {
   "cell_type": "markdown",
   "metadata": {
    "papermill": {
     "duration": 0.015986,
     "end_time": "2021-03-10T02:53:24.464205",
     "exception": false,
     "start_time": "2021-03-10T02:53:24.448219",
     "status": "completed"
    },
    "tags": []
   },
   "source": [
    "## Input data"
   ]
  },
  {
   "cell_type": "code",
   "execution_count": null,
   "metadata": {
    "papermill": {
     "duration": 0.028159,
     "end_time": "2021-03-10T02:53:24.508077",
     "exception": false,
     "start_time": "2021-03-10T02:53:24.479918",
     "status": "completed"
    },
    "tags": []
   },
   "outputs": [],
   "source": [
    "INPUT_SUBSET = \"umap\""
   ]
  },
  {
   "cell_type": "code",
   "execution_count": null,
   "metadata": {
    "papermill": {
     "duration": 0.02723,
     "end_time": "2021-03-10T02:53:24.574143",
     "exception": false,
     "start_time": "2021-03-10T02:53:24.546913",
     "status": "completed"
    },
    "tags": []
   },
   "outputs": [],
   "source": [
    "INPUT_STEM = \"z_score_std-projection-smultixcan-efo_partial-mashr-zscores\""
   ]
  },
  {
   "cell_type": "code",
   "execution_count": null,
   "metadata": {
    "papermill": {
     "duration": 0.025428,
     "end_time": "2021-03-10T02:53:24.615740",
     "exception": false,
     "start_time": "2021-03-10T02:53:24.590312",
     "status": "completed"
    },
    "tags": []
   },
   "outputs": [],
   "source": [
    "# parameters of the dimentionality reduction steps\n",
    "DR_OPTIONS = {\n",
    "    \"n_components\": 50,\n",
    "    \"metric\": \"euclidean\",\n",
    "    \"n_neighbors\": 15,\n",
    "    \"random_state\": 0,\n",
    "}"
   ]
  },
  {
   "cell_type": "code",
   "execution_count": null,
   "metadata": {
    "papermill": {
     "duration": 0.028038,
     "end_time": "2021-03-10T02:53:24.659681",
     "exception": false,
     "start_time": "2021-03-10T02:53:24.631643",
     "status": "completed"
    },
    "tags": []
   },
   "outputs": [],
   "source": [
    "input_filepath = Path(\n",
    "    conf.RESULTS[\"CLUSTERING_NULL_DIR\"],\n",
    "    \"data_transformations\",\n",
    "    INPUT_SUBSET,\n",
    "    generate_result_set_name(\n",
    "        DR_OPTIONS, prefix=f\"{INPUT_SUBSET}-{INPUT_STEM}-\", suffix=\".pkl\"\n",
    "    ),\n",
    ").resolve()\n",
    "display(input_filepath)\n",
    "\n",
    "assert input_filepath.exists(), \"Input file does not exist\"\n",
    "\n",
    "input_filepath_stem = input_filepath.stem\n",
    "display(input_filepath_stem)"
   ]
  },
  {
   "cell_type": "markdown",
   "metadata": {
    "papermill": {
     "duration": 0.016333,
     "end_time": "2021-03-10T02:53:24.693151",
     "exception": false,
     "start_time": "2021-03-10T02:53:24.676818",
     "status": "completed"
    },
    "tags": []
   },
   "source": [
    "## Clustering"
   ]
  },
  {
   "cell_type": "code",
   "execution_count": null,
   "metadata": {
    "papermill": {
     "duration": 0.326693,
     "end_time": "2021-03-10T02:53:25.036155",
     "exception": false,
     "start_time": "2021-03-10T02:53:24.709462",
     "status": "completed"
    },
    "tags": []
   },
   "outputs": [],
   "source": [
    "from sklearn.cluster import AgglomerativeClustering"
   ]
  },
  {
   "cell_type": "code",
   "execution_count": null,
   "metadata": {
    "papermill": {
     "duration": 0.028152,
     "end_time": "2021-03-10T02:53:25.080555",
     "exception": false,
     "start_time": "2021-03-10T02:53:25.052403",
     "status": "completed"
    },
    "tags": []
   },
   "outputs": [],
   "source": [
    "CLUSTERING_ATTRIBUTES_TO_SAVE = [\"n_clusters\"]"
   ]
  },
  {
   "cell_type": "code",
   "execution_count": null,
   "metadata": {
    "papermill": {
     "duration": 0.03006,
     "end_time": "2021-03-10T02:53:25.128543",
     "exception": false,
     "start_time": "2021-03-10T02:53:25.098483",
     "status": "completed"
    },
    "tags": []
   },
   "outputs": [],
   "source": [
    "CLUSTERING_OPTIONS = {}\n",
    "\n",
    "CLUSTERING_OPTIONS[\"K_MIN\"] = 2\n",
    "CLUSTERING_OPTIONS[\"K_MAX\"] = 75  # sqrt(3749) + some more to get closer to 295\n",
    "CLUSTERING_OPTIONS[\"LINKAGE\"] = {\"ward\", \"complete\", \"average\", \"single\"}\n",
    "CLUSTERING_OPTIONS[\"AFFINITY\"] = \"euclidean\"\n",
    "\n",
    "display(CLUSTERING_OPTIONS)"
   ]
  },
  {
   "cell_type": "code",
   "execution_count": null,
   "metadata": {
    "papermill": {
     "duration": 0.029826,
     "end_time": "2021-03-10T02:53:25.176221",
     "exception": false,
     "start_time": "2021-03-10T02:53:25.146395",
     "status": "completed"
    },
    "tags": []
   },
   "outputs": [],
   "source": [
    "CLUSTERERS = {}\n",
    "\n",
    "idx = 0\n",
    "\n",
    "for k in range(CLUSTERING_OPTIONS[\"K_MIN\"], CLUSTERING_OPTIONS[\"K_MAX\"] + 1):\n",
    "    for linkage in CLUSTERING_OPTIONS[\"LINKAGE\"]:\n",
    "        if linkage == \"ward\":\n",
    "            affinity = \"euclidean\"\n",
    "        else:\n",
    "            affinity = \"precomputed\"\n",
    "\n",
    "        clus = AgglomerativeClustering(\n",
    "            n_clusters=k,\n",
    "            affinity=affinity,\n",
    "            linkage=linkage,\n",
    "        )\n",
    "\n",
    "        method_name = type(clus).__name__\n",
    "        CLUSTERERS[f\"{method_name} #{idx}\"] = clus\n",
    "\n",
    "        idx = idx + 1"
   ]
  },
  {
   "cell_type": "code",
   "execution_count": null,
   "metadata": {
    "papermill": {
     "duration": 0.028721,
     "end_time": "2021-03-10T02:53:25.221635",
     "exception": false,
     "start_time": "2021-03-10T02:53:25.192914",
     "status": "completed"
    },
    "tags": []
   },
   "outputs": [],
   "source": [
    "display(len(CLUSTERERS))"
   ]
  },
  {
   "cell_type": "code",
   "execution_count": null,
   "metadata": {
    "papermill": {
     "duration": 0.030356,
     "end_time": "2021-03-10T02:53:25.269277",
     "exception": false,
     "start_time": "2021-03-10T02:53:25.238921",
     "status": "completed"
    },
    "tags": []
   },
   "outputs": [],
   "source": [
    "_iter = iter(CLUSTERERS.items())\n",
    "display(next(_iter))\n",
    "display(next(_iter))"
   ]
  },
  {
   "cell_type": "code",
   "execution_count": null,
   "metadata": {
    "papermill": {
     "duration": 0.030591,
     "end_time": "2021-03-10T02:53:25.318374",
     "exception": false,
     "start_time": "2021-03-10T02:53:25.287783",
     "status": "completed"
    },
    "tags": []
   },
   "outputs": [],
   "source": [
    "clustering_method_name = method_name\n",
    "display(clustering_method_name)"
   ]
  },
  {
   "cell_type": "markdown",
   "metadata": {
    "papermill": {
     "duration": 0.017694,
     "end_time": "2021-03-10T02:53:25.354033",
     "exception": false,
     "start_time": "2021-03-10T02:53:25.336339",
     "status": "completed"
    },
    "tags": []
   },
   "source": [
    "## Output directory"
   ]
  },
  {
   "cell_type": "code",
   "execution_count": null,
   "metadata": {
    "papermill": {
     "duration": 0.030395,
     "end_time": "2021-03-10T02:53:25.401570",
     "exception": false,
     "start_time": "2021-03-10T02:53:25.371175",
     "status": "completed"
    },
    "tags": []
   },
   "outputs": [],
   "source": [
    "# output dir for this notebook\n",
    "RESULTS_DIR = Path(\n",
    "    conf.RESULTS[\"CLUSTERING_NULL_DIR\"],\n",
    "    \"runs\",\n",
    "    f\"{INPUT_SUBSET}-{INPUT_STEM}\",\n",
    ").resolve()\n",
    "RESULTS_DIR.mkdir(parents=True, exist_ok=True)\n",
    "\n",
    "display(RESULTS_DIR)"
   ]
  },
  {
   "cell_type": "markdown",
   "metadata": {
    "papermill": {
     "duration": 0.017174,
     "end_time": "2021-03-10T02:53:25.436642",
     "exception": false,
     "start_time": "2021-03-10T02:53:25.419468",
     "status": "completed"
    },
    "tags": []
   },
   "source": [
    "# Load input file"
   ]
  },
  {
   "cell_type": "code",
   "execution_count": null,
   "metadata": {
    "papermill": {
     "duration": 0.030707,
     "end_time": "2021-03-10T02:53:25.485139",
     "exception": false,
     "start_time": "2021-03-10T02:53:25.454432",
     "status": "completed"
    },
    "tags": []
   },
   "outputs": [],
   "source": [
    "data = pd.read_pickle(input_filepath)"
   ]
  },
  {
   "cell_type": "code",
   "execution_count": null,
   "metadata": {
    "papermill": {
     "duration": 0.030021,
     "end_time": "2021-03-10T02:53:25.533238",
     "exception": false,
     "start_time": "2021-03-10T02:53:25.503217",
     "status": "completed"
    },
    "tags": []
   },
   "outputs": [],
   "source": [
    "data.shape"
   ]
  },
  {
   "cell_type": "code",
   "execution_count": null,
   "metadata": {
    "papermill": {
     "duration": 0.042714,
     "end_time": "2021-03-10T02:53:25.593453",
     "exception": false,
     "start_time": "2021-03-10T02:53:25.550739",
     "status": "completed"
    },
    "tags": []
   },
   "outputs": [],
   "source": [
    "data.head()"
   ]
  },
  {
   "cell_type": "code",
   "execution_count": null,
   "metadata": {
    "papermill": {
     "duration": 0.03041,
     "end_time": "2021-03-10T02:53:25.643153",
     "exception": false,
     "start_time": "2021-03-10T02:53:25.612743",
     "status": "completed"
    },
    "tags": []
   },
   "outputs": [],
   "source": [
    "assert not data.isna().any().any()"
   ]
  },
  {
   "cell_type": "markdown",
   "metadata": {
    "papermill": {
     "duration": 0.017809,
     "end_time": "2021-03-10T02:53:25.679804",
     "exception": false,
     "start_time": "2021-03-10T02:53:25.661995",
     "status": "completed"
    },
    "tags": []
   },
   "source": [
    "# Clustering"
   ]
  },
  {
   "cell_type": "markdown",
   "metadata": {
    "papermill": {
     "duration": 0.01773,
     "end_time": "2021-03-10T02:53:25.715910",
     "exception": false,
     "start_time": "2021-03-10T02:53:25.698180",
     "status": "completed"
    },
    "tags": []
   },
   "source": [
    "## Generate ensemble"
   ]
  },
  {
   "cell_type": "code",
   "execution_count": null,
   "metadata": {
    "papermill": {
     "duration": 0.032838,
     "end_time": "2021-03-10T02:53:25.766757",
     "exception": false,
     "start_time": "2021-03-10T02:53:25.733919",
     "status": "completed"
    },
    "tags": []
   },
   "outputs": [],
   "source": [
    "from sklearn.metrics import pairwise_distances\n",
    "from clustering.ensembles.utils import generate_ensemble"
   ]
  },
  {
   "cell_type": "code",
   "execution_count": null,
   "metadata": {
    "papermill": {
     "duration": 0.142234,
     "end_time": "2021-03-10T02:53:25.927236",
     "exception": false,
     "start_time": "2021-03-10T02:53:25.785002",
     "status": "completed"
    },
    "tags": []
   },
   "outputs": [],
   "source": [
    "data_dist = pairwise_distances(data, metric=CLUSTERING_OPTIONS[\"AFFINITY\"])"
   ]
  },
  {
   "cell_type": "code",
   "execution_count": null,
   "metadata": {
    "papermill": {
     "duration": 0.030771,
     "end_time": "2021-03-10T02:53:25.976872",
     "exception": false,
     "start_time": "2021-03-10T02:53:25.946101",
     "status": "completed"
    },
    "tags": []
   },
   "outputs": [],
   "source": [
    "data_dist.shape"
   ]
  },
  {
   "cell_type": "code",
   "execution_count": null,
   "metadata": {
    "papermill": {
     "duration": 0.450156,
     "end_time": "2021-03-10T02:53:26.446199",
     "exception": false,
     "start_time": "2021-03-10T02:53:25.996043",
     "status": "completed"
    },
    "tags": []
   },
   "outputs": [],
   "source": [
    "pd.Series(data_dist.flatten()).describe().apply(str)"
   ]
  },
  {
   "cell_type": "code",
   "execution_count": null,
   "metadata": {
    "papermill": {
     "duration": 1607.908095,
     "end_time": "2021-03-10T03:20:14.372981",
     "exception": false,
     "start_time": "2021-03-10T02:53:26.464886",
     "status": "completed"
    },
    "tags": []
   },
   "outputs": [],
   "source": [
    "ensemble = generate_ensemble(\n",
    "    data_dist,\n",
    "    CLUSTERERS,\n",
    "    attributes=CLUSTERING_ATTRIBUTES_TO_SAVE,\n",
    "    affinity_matrix=data_dist,\n",
    ")"
   ]
  },
  {
   "cell_type": "code",
   "execution_count": null,
   "metadata": {
    "papermill": {
     "duration": 0.077252,
     "end_time": "2021-03-10T03:20:14.516445",
     "exception": false,
     "start_time": "2021-03-10T03:20:14.439193",
     "status": "completed"
    },
    "tags": []
   },
   "outputs": [],
   "source": [
    "# the number should be close to 295 (the number of partitions generated by k-means/spectral clustering)\n",
    "ensemble.shape"
   ]
  },
  {
   "cell_type": "code",
   "execution_count": null,
   "metadata": {
    "papermill": {
     "duration": 0.084483,
     "end_time": "2021-03-10T03:20:14.665609",
     "exception": false,
     "start_time": "2021-03-10T03:20:14.581126",
     "status": "completed"
    },
    "tags": []
   },
   "outputs": [],
   "source": [
    "ensemble.head()"
   ]
  },
  {
   "cell_type": "code",
   "execution_count": null,
   "metadata": {
    "papermill": {
     "duration": 0.078276,
     "end_time": "2021-03-10T03:20:14.808949",
     "exception": false,
     "start_time": "2021-03-10T03:20:14.730673",
     "status": "completed"
    },
    "tags": []
   },
   "outputs": [],
   "source": [
    "ensemble[\"n_clusters\"].value_counts().head()"
   ]
  },
  {
   "cell_type": "code",
   "execution_count": null,
   "metadata": {
    "papermill": {
     "duration": 0.079456,
     "end_time": "2021-03-10T03:20:14.954284",
     "exception": false,
     "start_time": "2021-03-10T03:20:14.874828",
     "status": "completed"
    },
    "tags": []
   },
   "outputs": [],
   "source": [
    "ensemble_stats = ensemble[\"n_clusters\"].describe()\n",
    "display(ensemble_stats)"
   ]
  },
  {
   "cell_type": "markdown",
   "metadata": {
    "papermill": {
     "duration": 0.064222,
     "end_time": "2021-03-10T03:20:15.085219",
     "exception": false,
     "start_time": "2021-03-10T03:20:15.020997",
     "status": "completed"
    },
    "tags": []
   },
   "source": [
    "### Testing"
   ]
  },
  {
   "cell_type": "code",
   "execution_count": null,
   "metadata": {
    "papermill": {
     "duration": 0.079847,
     "end_time": "2021-03-10T03:20:15.230212",
     "exception": false,
     "start_time": "2021-03-10T03:20:15.150365",
     "status": "completed"
    },
    "tags": []
   },
   "outputs": [],
   "source": [
    "assert ensemble_stats[\"min\"] > 1"
   ]
  },
  {
   "cell_type": "code",
   "execution_count": null,
   "metadata": {
    "papermill": {
     "duration": 0.076811,
     "end_time": "2021-03-10T03:20:15.374338",
     "exception": false,
     "start_time": "2021-03-10T03:20:15.297527",
     "status": "completed"
    },
    "tags": []
   },
   "outputs": [],
   "source": [
    "assert not ensemble[\"n_clusters\"].isna().any()"
   ]
  },
  {
   "cell_type": "code",
   "execution_count": null,
   "metadata": {
    "papermill": {
     "duration": 0.077976,
     "end_time": "2021-03-10T03:20:15.518913",
     "exception": false,
     "start_time": "2021-03-10T03:20:15.440937",
     "status": "completed"
    },
    "tags": []
   },
   "outputs": [],
   "source": [
    "assert ensemble.shape[0] == len(CLUSTERERS)"
   ]
  },
  {
   "cell_type": "code",
   "execution_count": null,
   "metadata": {
    "papermill": {
     "duration": 0.094525,
     "end_time": "2021-03-10T03:20:15.678842",
     "exception": false,
     "start_time": "2021-03-10T03:20:15.584317",
     "status": "completed"
    },
    "tags": []
   },
   "outputs": [],
   "source": [
    "# all partitions have the right size\n",
    "assert np.all(\n",
    "    [part[\"partition\"].shape[0] == data.shape[0] for idx, part in ensemble.iterrows()]\n",
    ")"
   ]
  },
  {
   "cell_type": "code",
   "execution_count": null,
   "metadata": {
    "papermill": {
     "duration": 0.097465,
     "end_time": "2021-03-10T03:20:15.842053",
     "exception": false,
     "start_time": "2021-03-10T03:20:15.744588",
     "status": "completed"
    },
    "tags": []
   },
   "outputs": [],
   "source": [
    "# no partition has negative clusters (noisy points)\n",
    "assert not np.any([(part[\"partition\"] < 0).any() for idx, part in ensemble.iterrows()])"
   ]
  },
  {
   "cell_type": "markdown",
   "metadata": {
    "papermill": {
     "duration": 0.064541,
     "end_time": "2021-03-10T03:20:15.973129",
     "exception": false,
     "start_time": "2021-03-10T03:20:15.908588",
     "status": "completed"
    },
    "tags": []
   },
   "source": [
    "## Save"
   ]
  },
  {
   "cell_type": "code",
   "execution_count": null,
   "metadata": {
    "papermill": {
     "duration": 0.078664,
     "end_time": "2021-03-10T03:20:16.116898",
     "exception": false,
     "start_time": "2021-03-10T03:20:16.038234",
     "status": "completed"
    },
    "tags": []
   },
   "outputs": [],
   "source": [
    "del CLUSTERING_OPTIONS[\"LINKAGE\"]\n",
    "\n",
    "output_filename = Path(\n",
    "    RESULTS_DIR,\n",
    "    generate_result_set_name(\n",
    "        CLUSTERING_OPTIONS,\n",
    "        prefix=f\"{clustering_method_name}-\",\n",
    "        suffix=\".pkl\",\n",
    "    ),\n",
    ").resolve()\n",
    "display(output_filename)"
   ]
  },
  {
   "cell_type": "code",
   "execution_count": null,
   "metadata": {
    "papermill": {
     "duration": 0.086814,
     "end_time": "2021-03-10T03:20:16.269848",
     "exception": false,
     "start_time": "2021-03-10T03:20:16.183034",
     "status": "completed"
    },
    "tags": []
   },
   "outputs": [],
   "source": [
    "ensemble.to_pickle(output_filename)"
   ]
  },
  {
   "cell_type": "code",
   "execution_count": null,
   "metadata": {
    "papermill": {
     "duration": 0.065691,
     "end_time": "2021-03-10T03:20:16.403188",
     "exception": false,
     "start_time": "2021-03-10T03:20:16.337497",
     "status": "completed"
    },
    "tags": []
   },
   "outputs": [],
   "source": []
  }
 ],
 "metadata": {
  "jupytext": {
   "cell_metadata_filter": "all,-execution,-papermill,-trusted",
   "formats": "ipynb,py//py:percent"
  },
  "kernelspec": {
   "display_name": "Python 3 (ipykernel)",
   "language": "python",
   "name": "python3"
  },
  "language_info": {
   "codemirror_mode": {
    "name": "ipython",
    "version": 3
   },
   "file_extension": ".py",
   "mimetype": "text/x-python",
   "name": "python",
   "nbconvert_exporter": "python",
   "pygments_lexer": "ipython3",
   "version": "3.8.13"
  },
  "papermill": {
   "default_parameters": {},
   "duration": 1613.982334,
   "end_time": "2021-03-10T03:20:16.875301",
   "environment_variables": {},
   "exception": null,
   "input_path": "15_cluster_analysis/003_02-hc-umap.ipynb",
   "output_path": "15_cluster_analysis/003_02-hc-umap.run.ipynb",
   "parameters": {},
   "start_time": "2021-03-10T02:53:22.892967",
   "version": "2.2.2"
  },
  "toc-autonumbering": true,
  "toc-showcode": false,
  "toc-showmarkdowntxt": false,
  "toc-showtags": false
 },
 "nbformat": 4,
 "nbformat_minor": 4
}
