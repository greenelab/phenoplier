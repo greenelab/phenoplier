{
 "cells": [
  {
   "cell_type": "markdown",
   "id": "ae9a0e5f",
   "metadata": {
    "papermill": {
     "duration": 0.008376,
     "end_time": "2022-09-12T11:28:35.437184",
     "exception": false,
     "start_time": "2022-09-12T11:28:35.428808",
     "status": "completed"
    },
    "tags": []
   },
   "source": [
    "# Description"
   ]
  },
  {
   "cell_type": "markdown",
   "id": "32ba4343",
   "metadata": {
    "papermill": {
     "duration": 0.005575,
     "end_time": "2022-09-12T11:28:35.447346",
     "exception": false,
     "start_time": "2022-09-12T11:28:35.441771",
     "status": "completed"
    },
    "tags": []
   },
   "source": [
    "Runs hierarchical clustering on the umap version of the data."
   ]
  },
  {
   "cell_type": "markdown",
   "id": "28cf7bb6",
   "metadata": {
    "papermill": {
     "duration": 0.004434,
     "end_time": "2022-09-12T11:28:35.456452",
     "exception": false,
     "start_time": "2022-09-12T11:28:35.452018",
     "status": "completed"
    },
    "tags": []
   },
   "source": [
    "# Environment variables"
   ]
  },
  {
   "cell_type": "code",
   "execution_count": 1,
   "id": "b5a5994e",
   "metadata": {
    "execution": {
     "iopub.execute_input": "2022-09-12T11:28:35.466519Z",
     "iopub.status.busy": "2022-09-12T11:28:35.466283Z",
     "iopub.status.idle": "2022-09-12T11:28:35.481883Z",
     "shell.execute_reply": "2022-09-12T11:28:35.481311Z"
    },
    "papermill": {
     "duration": 0.022324,
     "end_time": "2022-09-12T11:28:35.483295",
     "exception": false,
     "start_time": "2022-09-12T11:28:35.460971",
     "status": "completed"
    },
    "tags": []
   },
   "outputs": [
    {
     "data": {
      "text/plain": [
       "3"
      ]
     },
     "metadata": {},
     "output_type": "display_data"
    }
   ],
   "source": [
    "from IPython.display import display\n",
    "\n",
    "import conf\n",
    "\n",
    "N_JOBS = conf.GENERAL[\"N_JOBS\"]\n",
    "display(N_JOBS)"
   ]
  },
  {
   "cell_type": "code",
   "execution_count": 2,
   "id": "bc49fa4a",
   "metadata": {
    "execution": {
     "iopub.execute_input": "2022-09-12T11:28:35.493510Z",
     "iopub.status.busy": "2022-09-12T11:28:35.493355Z",
     "iopub.status.idle": "2022-09-12T11:28:35.498208Z",
     "shell.execute_reply": "2022-09-12T11:28:35.497777Z"
    },
    "papermill": {
     "duration": 0.011329,
     "end_time": "2022-09-12T11:28:35.499435",
     "exception": false,
     "start_time": "2022-09-12T11:28:35.488106",
     "status": "completed"
    },
    "tags": []
   },
   "outputs": [
    {
     "name": "stdout",
     "output_type": "stream",
     "text": [
      "env: MKL_NUM_THREADS=3\n",
      "env: OPEN_BLAS_NUM_THREADS=3\n",
      "env: NUMEXPR_NUM_THREADS=3\n",
      "env: OMP_NUM_THREADS=3\n"
     ]
    }
   ],
   "source": [
    "%env MKL_NUM_THREADS=$N_JOBS\n",
    "%env OPEN_BLAS_NUM_THREADS=$N_JOBS\n",
    "%env NUMEXPR_NUM_THREADS=$N_JOBS\n",
    "%env OMP_NUM_THREADS=$N_JOBS"
   ]
  },
  {
   "cell_type": "markdown",
   "id": "8d826e82",
   "metadata": {
    "papermill": {
     "duration": 0.004533,
     "end_time": "2022-09-12T11:28:35.508831",
     "exception": false,
     "start_time": "2022-09-12T11:28:35.504298",
     "status": "completed"
    },
    "tags": []
   },
   "source": [
    "# Modules loading"
   ]
  },
  {
   "cell_type": "code",
   "execution_count": 3,
   "id": "71babd34",
   "metadata": {
    "execution": {
     "iopub.execute_input": "2022-09-12T11:28:35.518968Z",
     "iopub.status.busy": "2022-09-12T11:28:35.518767Z",
     "iopub.status.idle": "2022-09-12T11:28:35.531445Z",
     "shell.execute_reply": "2022-09-12T11:28:35.530880Z"
    },
    "papermill": {
     "duration": 0.019398,
     "end_time": "2022-09-12T11:28:35.532884",
     "exception": false,
     "start_time": "2022-09-12T11:28:35.513486",
     "status": "completed"
    },
    "tags": []
   },
   "outputs": [],
   "source": [
    "%load_ext autoreload\n",
    "%autoreload 2"
   ]
  },
  {
   "cell_type": "code",
   "execution_count": 4,
   "id": "1c2cf43a",
   "metadata": {
    "execution": {
     "iopub.execute_input": "2022-09-12T11:28:35.543294Z",
     "iopub.status.busy": "2022-09-12T11:28:35.543121Z",
     "iopub.status.idle": "2022-09-12T11:28:35.792885Z",
     "shell.execute_reply": "2022-09-12T11:28:35.792340Z"
    },
    "papermill": {
     "duration": 0.256454,
     "end_time": "2022-09-12T11:28:35.794301",
     "exception": false,
     "start_time": "2022-09-12T11:28:35.537847",
     "status": "completed"
    },
    "tags": []
   },
   "outputs": [],
   "source": [
    "from pathlib import Path\n",
    "\n",
    "import numpy as np\n",
    "import pandas as pd\n",
    "\n",
    "from utils import generate_result_set_name"
   ]
  },
  {
   "cell_type": "markdown",
   "id": "be975805",
   "metadata": {
    "papermill": {
     "duration": 0.004879,
     "end_time": "2022-09-12T11:28:35.804116",
     "exception": false,
     "start_time": "2022-09-12T11:28:35.799237",
     "status": "completed"
    },
    "tags": []
   },
   "source": [
    "# Settings"
   ]
  },
  {
   "cell_type": "code",
   "execution_count": 5,
   "id": "714b28bc",
   "metadata": {
    "execution": {
     "iopub.execute_input": "2022-09-12T11:28:35.814385Z",
     "iopub.status.busy": "2022-09-12T11:28:35.814184Z",
     "iopub.status.idle": "2022-09-12T11:28:35.827024Z",
     "shell.execute_reply": "2022-09-12T11:28:35.826422Z"
    },
    "papermill": {
     "duration": 0.019474,
     "end_time": "2022-09-12T11:28:35.828343",
     "exception": false,
     "start_time": "2022-09-12T11:28:35.808869",
     "status": "completed"
    },
    "tags": []
   },
   "outputs": [],
   "source": [
    "np.random.seed(0)"
   ]
  },
  {
   "cell_type": "markdown",
   "id": "1b987f0e",
   "metadata": {
    "papermill": {
     "duration": 0.004725,
     "end_time": "2022-09-12T11:28:35.838123",
     "exception": false,
     "start_time": "2022-09-12T11:28:35.833398",
     "status": "completed"
    },
    "tags": []
   },
   "source": [
    "## Input data"
   ]
  },
  {
   "cell_type": "code",
   "execution_count": 6,
   "id": "e5b7587a",
   "metadata": {
    "execution": {
     "iopub.execute_input": "2022-09-12T11:28:35.848585Z",
     "iopub.status.busy": "2022-09-12T11:28:35.848418Z",
     "iopub.status.idle": "2022-09-12T11:28:35.860443Z",
     "shell.execute_reply": "2022-09-12T11:28:35.859987Z"
    },
    "papermill": {
     "duration": 0.018829,
     "end_time": "2022-09-12T11:28:35.861814",
     "exception": false,
     "start_time": "2022-09-12T11:28:35.842985",
     "status": "completed"
    },
    "tags": []
   },
   "outputs": [],
   "source": [
    "INPUT_SUBSET = \"umap\""
   ]
  },
  {
   "cell_type": "code",
   "execution_count": 7,
   "id": "af75ae7c",
   "metadata": {
    "execution": {
     "iopub.execute_input": "2022-09-12T11:28:35.872637Z",
     "iopub.status.busy": "2022-09-12T11:28:35.872475Z",
     "iopub.status.idle": "2022-09-12T11:28:35.884912Z",
     "shell.execute_reply": "2022-09-12T11:28:35.884289Z"
    },
    "papermill": {
     "duration": 0.019398,
     "end_time": "2022-09-12T11:28:35.886290",
     "exception": false,
     "start_time": "2022-09-12T11:28:35.866892",
     "status": "completed"
    },
    "tags": []
   },
   "outputs": [],
   "source": [
    "INPUT_STEM = \"z_score_std-projection-smultixcan-efo_partial-mashr-zscores\""
   ]
  },
  {
   "cell_type": "code",
   "execution_count": 8,
   "id": "ae865775",
   "metadata": {
    "execution": {
     "iopub.execute_input": "2022-09-12T11:28:35.897271Z",
     "iopub.status.busy": "2022-09-12T11:28:35.897106Z",
     "iopub.status.idle": "2022-09-12T11:28:35.909768Z",
     "shell.execute_reply": "2022-09-12T11:28:35.909304Z"
    },
    "papermill": {
     "duration": 0.019647,
     "end_time": "2022-09-12T11:28:35.911159",
     "exception": false,
     "start_time": "2022-09-12T11:28:35.891512",
     "status": "completed"
    },
    "tags": []
   },
   "outputs": [],
   "source": [
    "# parameters of the dimentionality reduction steps\n",
    "DR_OPTIONS = {\n",
    "    \"n_components\": 50,\n",
    "    \"metric\": \"euclidean\",\n",
    "    \"n_neighbors\": 15,\n",
    "    \"random_state\": 0,\n",
    "}"
   ]
  },
  {
   "cell_type": "code",
   "execution_count": 9,
   "id": "067ad49d",
   "metadata": {
    "execution": {
     "iopub.execute_input": "2022-09-12T11:28:35.922320Z",
     "iopub.status.busy": "2022-09-12T11:28:35.922153Z",
     "iopub.status.idle": "2022-09-12T11:28:35.937340Z",
     "shell.execute_reply": "2022-09-12T11:28:35.936842Z"
    },
    "papermill": {
     "duration": 0.022226,
     "end_time": "2022-09-12T11:28:35.938632",
     "exception": false,
     "start_time": "2022-09-12T11:28:35.916406",
     "status": "completed"
    },
    "tags": []
   },
   "outputs": [
    {
     "data": {
      "text/plain": [
       "PosixPath('/opt/data/results/clustering/null_sims/data_transformations/umap/umap-z_score_std-projection-smultixcan-efo_partial-mashr-zscores-metric_euclidean-n_components_50-n_neighbors_15-random_state_0.pkl')"
      ]
     },
     "metadata": {},
     "output_type": "display_data"
    },
    {
     "data": {
      "text/plain": [
       "'umap-z_score_std-projection-smultixcan-efo_partial-mashr-zscores-metric_euclidean-n_components_50-n_neighbors_15-random_state_0'"
      ]
     },
     "metadata": {},
     "output_type": "display_data"
    }
   ],
   "source": [
    "input_filepath = Path(\n",
    "    conf.RESULTS[\"CLUSTERING_NULL_DIR\"],\n",
    "    \"data_transformations\",\n",
    "    INPUT_SUBSET,\n",
    "    generate_result_set_name(\n",
    "        DR_OPTIONS, prefix=f\"{INPUT_SUBSET}-{INPUT_STEM}-\", suffix=\".pkl\"\n",
    "    ),\n",
    ").resolve()\n",
    "display(input_filepath)\n",
    "\n",
    "assert input_filepath.exists(), \"Input file does not exist\"\n",
    "\n",
    "input_filepath_stem = input_filepath.stem\n",
    "display(input_filepath_stem)"
   ]
  },
  {
   "cell_type": "markdown",
   "id": "16e6388b",
   "metadata": {
    "papermill": {
     "duration": 0.005063,
     "end_time": "2022-09-12T11:28:35.949023",
     "exception": false,
     "start_time": "2022-09-12T11:28:35.943960",
     "status": "completed"
    },
    "tags": []
   },
   "source": [
    "## Clustering"
   ]
  },
  {
   "cell_type": "code",
   "execution_count": 10,
   "id": "fb4c687e",
   "metadata": {
    "execution": {
     "iopub.execute_input": "2022-09-12T11:28:35.960337Z",
     "iopub.status.busy": "2022-09-12T11:28:35.960168Z",
     "iopub.status.idle": "2022-09-12T11:28:36.245434Z",
     "shell.execute_reply": "2022-09-12T11:28:36.244863Z"
    },
    "papermill": {
     "duration": 0.29278,
     "end_time": "2022-09-12T11:28:36.247075",
     "exception": false,
     "start_time": "2022-09-12T11:28:35.954295",
     "status": "completed"
    },
    "tags": []
   },
   "outputs": [],
   "source": [
    "from sklearn.cluster import AgglomerativeClustering"
   ]
  },
  {
   "cell_type": "code",
   "execution_count": 11,
   "id": "ee5d7198",
   "metadata": {
    "execution": {
     "iopub.execute_input": "2022-09-12T11:28:36.260953Z",
     "iopub.status.busy": "2022-09-12T11:28:36.260758Z",
     "iopub.status.idle": "2022-09-12T11:28:36.280073Z",
     "shell.execute_reply": "2022-09-12T11:28:36.279366Z"
    },
    "papermill": {
     "duration": 0.027886,
     "end_time": "2022-09-12T11:28:36.281660",
     "exception": false,
     "start_time": "2022-09-12T11:28:36.253774",
     "status": "completed"
    },
    "tags": []
   },
   "outputs": [],
   "source": [
    "CLUSTERING_ATTRIBUTES_TO_SAVE = [\"n_clusters\"]"
   ]
  },
  {
   "cell_type": "code",
   "execution_count": 12,
   "id": "52020ab9",
   "metadata": {
    "execution": {
     "iopub.execute_input": "2022-09-12T11:28:36.295416Z",
     "iopub.status.busy": "2022-09-12T11:28:36.295217Z",
     "iopub.status.idle": "2022-09-12T11:28:36.314926Z",
     "shell.execute_reply": "2022-09-12T11:28:36.314399Z"
    },
    "papermill": {
     "duration": 0.0282,
     "end_time": "2022-09-12T11:28:36.316383",
     "exception": false,
     "start_time": "2022-09-12T11:28:36.288183",
     "status": "completed"
    },
    "tags": []
   },
   "outputs": [
    {
     "data": {
      "text/plain": [
       "{'K_MIN': 2,\n",
       " 'K_MAX': 75,\n",
       " 'LINKAGE': {'average', 'complete', 'single', 'ward'},\n",
       " 'AFFINITY': 'euclidean'}"
      ]
     },
     "metadata": {},
     "output_type": "display_data"
    }
   ],
   "source": [
    "CLUSTERING_OPTIONS = {}\n",
    "\n",
    "CLUSTERING_OPTIONS[\"K_MIN\"] = 2\n",
    "CLUSTERING_OPTIONS[\"K_MAX\"] = 75  # sqrt(3749) + some more to get closer to 295\n",
    "CLUSTERING_OPTIONS[\"LINKAGE\"] = {\"ward\", \"complete\", \"average\", \"single\"}\n",
    "CLUSTERING_OPTIONS[\"AFFINITY\"] = \"euclidean\"\n",
    "\n",
    "display(CLUSTERING_OPTIONS)"
   ]
  },
  {
   "cell_type": "code",
   "execution_count": 13,
   "id": "2f4915e8",
   "metadata": {
    "execution": {
     "iopub.execute_input": "2022-09-12T11:28:36.329828Z",
     "iopub.status.busy": "2022-09-12T11:28:36.329326Z",
     "iopub.status.idle": "2022-09-12T11:28:36.349407Z",
     "shell.execute_reply": "2022-09-12T11:28:36.348745Z"
    },
    "papermill": {
     "duration": 0.028471,
     "end_time": "2022-09-12T11:28:36.351123",
     "exception": false,
     "start_time": "2022-09-12T11:28:36.322652",
     "status": "completed"
    },
    "tags": []
   },
   "outputs": [],
   "source": [
    "CLUSTERERS = {}\n",
    "\n",
    "idx = 0\n",
    "\n",
    "for k in range(CLUSTERING_OPTIONS[\"K_MIN\"], CLUSTERING_OPTIONS[\"K_MAX\"] + 1):\n",
    "    for linkage in CLUSTERING_OPTIONS[\"LINKAGE\"]:\n",
    "        if linkage == \"ward\":\n",
    "            affinity = \"euclidean\"\n",
    "        else:\n",
    "            affinity = \"precomputed\"\n",
    "\n",
    "        clus = AgglomerativeClustering(\n",
    "            n_clusters=k,\n",
    "            affinity=affinity,\n",
    "            linkage=linkage,\n",
    "        )\n",
    "\n",
    "        method_name = type(clus).__name__\n",
    "        CLUSTERERS[f\"{method_name} #{idx}\"] = clus\n",
    "\n",
    "        idx = idx + 1"
   ]
  },
  {
   "cell_type": "code",
   "execution_count": 14,
   "id": "a09cc90b",
   "metadata": {
    "execution": {
     "iopub.execute_input": "2022-09-12T11:28:36.364171Z",
     "iopub.status.busy": "2022-09-12T11:28:36.363988Z",
     "iopub.status.idle": "2022-09-12T11:28:36.382296Z",
     "shell.execute_reply": "2022-09-12T11:28:36.381688Z"
    },
    "papermill": {
     "duration": 0.026439,
     "end_time": "2022-09-12T11:28:36.383708",
     "exception": false,
     "start_time": "2022-09-12T11:28:36.357269",
     "status": "completed"
    },
    "tags": []
   },
   "outputs": [
    {
     "data": {
      "text/plain": [
       "296"
      ]
     },
     "metadata": {},
     "output_type": "display_data"
    }
   ],
   "source": [
    "display(len(CLUSTERERS))"
   ]
  },
  {
   "cell_type": "code",
   "execution_count": 15,
   "id": "cd588b58",
   "metadata": {
    "execution": {
     "iopub.execute_input": "2022-09-12T11:28:36.395775Z",
     "iopub.status.busy": "2022-09-12T11:28:36.395582Z",
     "iopub.status.idle": "2022-09-12T11:28:36.414131Z",
     "shell.execute_reply": "2022-09-12T11:28:36.413705Z"
    },
    "papermill": {
     "duration": 0.025582,
     "end_time": "2022-09-12T11:28:36.415337",
     "exception": false,
     "start_time": "2022-09-12T11:28:36.389755",
     "status": "completed"
    },
    "tags": []
   },
   "outputs": [
    {
     "data": {
      "text/plain": [
       "('AgglomerativeClustering #0',\n",
       " AgglomerativeClustering(affinity='precomputed', linkage='single'))"
      ]
     },
     "metadata": {},
     "output_type": "display_data"
    },
    {
     "data": {
      "text/plain": [
       "('AgglomerativeClustering #1',\n",
       " AgglomerativeClustering(affinity='precomputed', linkage='average'))"
      ]
     },
     "metadata": {},
     "output_type": "display_data"
    }
   ],
   "source": [
    "_iter = iter(CLUSTERERS.items())\n",
    "display(next(_iter))\n",
    "display(next(_iter))"
   ]
  },
  {
   "cell_type": "code",
   "execution_count": 16,
   "id": "7e639782",
   "metadata": {
    "execution": {
     "iopub.execute_input": "2022-09-12T11:28:36.456343Z",
     "iopub.status.busy": "2022-09-12T11:28:36.456139Z",
     "iopub.status.idle": "2022-09-12T11:28:36.475685Z",
     "shell.execute_reply": "2022-09-12T11:28:36.475188Z"
    },
    "papermill": {
     "duration": 0.028557,
     "end_time": "2022-09-12T11:28:36.477156",
     "exception": false,
     "start_time": "2022-09-12T11:28:36.448599",
     "status": "completed"
    },
    "tags": []
   },
   "outputs": [
    {
     "data": {
      "text/plain": [
       "'AgglomerativeClustering'"
      ]
     },
     "metadata": {},
     "output_type": "display_data"
    }
   ],
   "source": [
    "clustering_method_name = method_name\n",
    "display(clustering_method_name)"
   ]
  },
  {
   "cell_type": "markdown",
   "id": "3828bec3",
   "metadata": {
    "papermill": {
     "duration": 0.00657,
     "end_time": "2022-09-12T11:28:36.490537",
     "exception": false,
     "start_time": "2022-09-12T11:28:36.483967",
     "status": "completed"
    },
    "tags": []
   },
   "source": [
    "## Output directory"
   ]
  },
  {
   "cell_type": "code",
   "execution_count": 17,
   "id": "0f10783b",
   "metadata": {
    "execution": {
     "iopub.execute_input": "2022-09-12T11:28:36.504871Z",
     "iopub.status.busy": "2022-09-12T11:28:36.504674Z",
     "iopub.status.idle": "2022-09-12T11:28:36.525168Z",
     "shell.execute_reply": "2022-09-12T11:28:36.524538Z"
    },
    "papermill": {
     "duration": 0.029422,
     "end_time": "2022-09-12T11:28:36.526658",
     "exception": false,
     "start_time": "2022-09-12T11:28:36.497236",
     "status": "completed"
    },
    "tags": []
   },
   "outputs": [
    {
     "data": {
      "text/plain": [
       "PosixPath('/opt/data/results/clustering/null_sims/runs/umap-z_score_std-projection-smultixcan-efo_partial-mashr-zscores')"
      ]
     },
     "metadata": {},
     "output_type": "display_data"
    }
   ],
   "source": [
    "# output dir for this notebook\n",
    "RESULTS_DIR = Path(\n",
    "    conf.RESULTS[\"CLUSTERING_NULL_DIR\"],\n",
    "    \"runs\",\n",
    "    f\"{INPUT_SUBSET}-{INPUT_STEM}\",\n",
    ").resolve()\n",
    "RESULTS_DIR.mkdir(parents=True, exist_ok=True)\n",
    "\n",
    "display(RESULTS_DIR)"
   ]
  },
  {
   "cell_type": "markdown",
   "id": "80544686",
   "metadata": {
    "papermill": {
     "duration": 0.006694,
     "end_time": "2022-09-12T11:28:36.540262",
     "exception": false,
     "start_time": "2022-09-12T11:28:36.533568",
     "status": "completed"
    },
    "tags": []
   },
   "source": [
    "# Load input file"
   ]
  },
  {
   "cell_type": "code",
   "execution_count": 18,
   "id": "9a903efe",
   "metadata": {
    "execution": {
     "iopub.execute_input": "2022-09-12T11:28:36.554716Z",
     "iopub.status.busy": "2022-09-12T11:28:36.554521Z",
     "iopub.status.idle": "2022-09-12T11:28:36.575439Z",
     "shell.execute_reply": "2022-09-12T11:28:36.574790Z"
    },
    "papermill": {
     "duration": 0.030018,
     "end_time": "2022-09-12T11:28:36.577054",
     "exception": false,
     "start_time": "2022-09-12T11:28:36.547036",
     "status": "completed"
    },
    "tags": []
   },
   "outputs": [],
   "source": [
    "data = pd.read_pickle(input_filepath)"
   ]
  },
  {
   "cell_type": "code",
   "execution_count": 19,
   "id": "c8425bcd",
   "metadata": {
    "execution": {
     "iopub.execute_input": "2022-09-12T11:28:36.592113Z",
     "iopub.status.busy": "2022-09-12T11:28:36.591883Z",
     "iopub.status.idle": "2022-09-12T11:28:36.611679Z",
     "shell.execute_reply": "2022-09-12T11:28:36.611059Z"
    },
    "papermill": {
     "duration": 0.028882,
     "end_time": "2022-09-12T11:28:36.613154",
     "exception": false,
     "start_time": "2022-09-12T11:28:36.584272",
     "status": "completed"
    },
    "tags": []
   },
   "outputs": [
    {
     "data": {
      "text/plain": [
       "(3752, 50)"
      ]
     },
     "execution_count": 19,
     "metadata": {},
     "output_type": "execute_result"
    }
   ],
   "source": [
    "data.shape"
   ]
  },
  {
   "cell_type": "code",
   "execution_count": 20,
   "id": "9a7febac",
   "metadata": {
    "execution": {
     "iopub.execute_input": "2022-09-12T11:28:36.628085Z",
     "iopub.status.busy": "2022-09-12T11:28:36.627884Z",
     "iopub.status.idle": "2022-09-12T11:28:36.663190Z",
     "shell.execute_reply": "2022-09-12T11:28:36.662645Z"
    },
    "papermill": {
     "duration": 0.044275,
     "end_time": "2022-09-12T11:28:36.664513",
     "exception": false,
     "start_time": "2022-09-12T11:28:36.620238",
     "status": "completed"
    },
    "tags": []
   },
   "outputs": [
    {
     "data": {
      "text/html": [
       "<div>\n",
       "<style scoped>\n",
       "    .dataframe tbody tr th:only-of-type {\n",
       "        vertical-align: middle;\n",
       "    }\n",
       "\n",
       "    .dataframe tbody tr th {\n",
       "        vertical-align: top;\n",
       "    }\n",
       "\n",
       "    .dataframe thead th {\n",
       "        text-align: right;\n",
       "    }\n",
       "</style>\n",
       "<table border=\"1\" class=\"dataframe\">\n",
       "  <thead>\n",
       "    <tr style=\"text-align: right;\">\n",
       "      <th></th>\n",
       "      <th>UMAP1</th>\n",
       "      <th>UMAP2</th>\n",
       "      <th>UMAP3</th>\n",
       "      <th>UMAP4</th>\n",
       "      <th>UMAP5</th>\n",
       "      <th>UMAP6</th>\n",
       "      <th>UMAP7</th>\n",
       "      <th>UMAP8</th>\n",
       "      <th>UMAP9</th>\n",
       "      <th>UMAP10</th>\n",
       "      <th>...</th>\n",
       "      <th>UMAP41</th>\n",
       "      <th>UMAP42</th>\n",
       "      <th>UMAP43</th>\n",
       "      <th>UMAP44</th>\n",
       "      <th>UMAP45</th>\n",
       "      <th>UMAP46</th>\n",
       "      <th>UMAP47</th>\n",
       "      <th>UMAP48</th>\n",
       "      <th>UMAP49</th>\n",
       "      <th>UMAP50</th>\n",
       "    </tr>\n",
       "  </thead>\n",
       "  <tbody>\n",
       "    <tr>\n",
       "      <th>100001_raw-Food_weight</th>\n",
       "      <td>7.464392</td>\n",
       "      <td>4.526705</td>\n",
       "      <td>4.225008</td>\n",
       "      <td>7.029216</td>\n",
       "      <td>4.382023</td>\n",
       "      <td>4.502639</td>\n",
       "      <td>4.489128</td>\n",
       "      <td>5.381521</td>\n",
       "      <td>4.940668</td>\n",
       "      <td>4.068273</td>\n",
       "      <td>...</td>\n",
       "      <td>7.605533</td>\n",
       "      <td>8.805881</td>\n",
       "      <td>8.939267</td>\n",
       "      <td>9.142330</td>\n",
       "      <td>0.445703</td>\n",
       "      <td>8.213864</td>\n",
       "      <td>0.703600</td>\n",
       "      <td>9.307579</td>\n",
       "      <td>4.072986</td>\n",
       "      <td>9.349484</td>\n",
       "    </tr>\n",
       "    <tr>\n",
       "      <th>100002_raw-Energy</th>\n",
       "      <td>7.429606</td>\n",
       "      <td>4.536586</td>\n",
       "      <td>4.182258</td>\n",
       "      <td>7.069884</td>\n",
       "      <td>4.336564</td>\n",
       "      <td>4.421313</td>\n",
       "      <td>4.560764</td>\n",
       "      <td>5.324892</td>\n",
       "      <td>4.929991</td>\n",
       "      <td>3.999348</td>\n",
       "      <td>...</td>\n",
       "      <td>7.583344</td>\n",
       "      <td>8.843954</td>\n",
       "      <td>8.958254</td>\n",
       "      <td>9.086064</td>\n",
       "      <td>0.390866</td>\n",
       "      <td>8.235448</td>\n",
       "      <td>0.706651</td>\n",
       "      <td>9.296489</td>\n",
       "      <td>4.041227</td>\n",
       "      <td>9.304544</td>\n",
       "    </tr>\n",
       "    <tr>\n",
       "      <th>100003_raw-Protein</th>\n",
       "      <td>7.481067</td>\n",
       "      <td>4.513837</td>\n",
       "      <td>4.172322</td>\n",
       "      <td>7.040905</td>\n",
       "      <td>4.395445</td>\n",
       "      <td>4.439210</td>\n",
       "      <td>4.487803</td>\n",
       "      <td>5.379720</td>\n",
       "      <td>4.935718</td>\n",
       "      <td>4.107790</td>\n",
       "      <td>...</td>\n",
       "      <td>7.619069</td>\n",
       "      <td>8.802183</td>\n",
       "      <td>8.938434</td>\n",
       "      <td>9.114165</td>\n",
       "      <td>0.442892</td>\n",
       "      <td>8.227354</td>\n",
       "      <td>0.692944</td>\n",
       "      <td>9.355126</td>\n",
       "      <td>4.053129</td>\n",
       "      <td>9.361687</td>\n",
       "    </tr>\n",
       "    <tr>\n",
       "      <th>100004_raw-Fat</th>\n",
       "      <td>7.383680</td>\n",
       "      <td>4.351026</td>\n",
       "      <td>4.208352</td>\n",
       "      <td>6.941895</td>\n",
       "      <td>4.375668</td>\n",
       "      <td>4.538863</td>\n",
       "      <td>4.477001</td>\n",
       "      <td>5.397546</td>\n",
       "      <td>5.008193</td>\n",
       "      <td>4.069299</td>\n",
       "      <td>...</td>\n",
       "      <td>7.592715</td>\n",
       "      <td>8.820724</td>\n",
       "      <td>8.919216</td>\n",
       "      <td>9.157578</td>\n",
       "      <td>0.454712</td>\n",
       "      <td>8.220077</td>\n",
       "      <td>0.721550</td>\n",
       "      <td>9.364523</td>\n",
       "      <td>4.043874</td>\n",
       "      <td>9.397904</td>\n",
       "    </tr>\n",
       "    <tr>\n",
       "      <th>100005_raw-Carbohydrate</th>\n",
       "      <td>7.412931</td>\n",
       "      <td>4.435416</td>\n",
       "      <td>4.227693</td>\n",
       "      <td>7.014967</td>\n",
       "      <td>4.406798</td>\n",
       "      <td>4.510470</td>\n",
       "      <td>4.479080</td>\n",
       "      <td>5.451272</td>\n",
       "      <td>4.932745</td>\n",
       "      <td>4.147858</td>\n",
       "      <td>...</td>\n",
       "      <td>7.606691</td>\n",
       "      <td>8.841007</td>\n",
       "      <td>8.881571</td>\n",
       "      <td>9.157351</td>\n",
       "      <td>0.409341</td>\n",
       "      <td>8.236560</td>\n",
       "      <td>0.724239</td>\n",
       "      <td>9.336825</td>\n",
       "      <td>4.040252</td>\n",
       "      <td>9.386523</td>\n",
       "    </tr>\n",
       "  </tbody>\n",
       "</table>\n",
       "<p>5 rows × 50 columns</p>\n",
       "</div>"
      ],
      "text/plain": [
       "                            UMAP1     UMAP2     UMAP3     UMAP4     UMAP5  \\\n",
       "100001_raw-Food_weight   7.464392  4.526705  4.225008  7.029216  4.382023   \n",
       "100002_raw-Energy        7.429606  4.536586  4.182258  7.069884  4.336564   \n",
       "100003_raw-Protein       7.481067  4.513837  4.172322  7.040905  4.395445   \n",
       "100004_raw-Fat           7.383680  4.351026  4.208352  6.941895  4.375668   \n",
       "100005_raw-Carbohydrate  7.412931  4.435416  4.227693  7.014967  4.406798   \n",
       "\n",
       "                            UMAP6     UMAP7     UMAP8     UMAP9    UMAP10  \\\n",
       "100001_raw-Food_weight   4.502639  4.489128  5.381521  4.940668  4.068273   \n",
       "100002_raw-Energy        4.421313  4.560764  5.324892  4.929991  3.999348   \n",
       "100003_raw-Protein       4.439210  4.487803  5.379720  4.935718  4.107790   \n",
       "100004_raw-Fat           4.538863  4.477001  5.397546  5.008193  4.069299   \n",
       "100005_raw-Carbohydrate  4.510470  4.479080  5.451272  4.932745  4.147858   \n",
       "\n",
       "                         ...    UMAP41    UMAP42    UMAP43    UMAP44  \\\n",
       "100001_raw-Food_weight   ...  7.605533  8.805881  8.939267  9.142330   \n",
       "100002_raw-Energy        ...  7.583344  8.843954  8.958254  9.086064   \n",
       "100003_raw-Protein       ...  7.619069  8.802183  8.938434  9.114165   \n",
       "100004_raw-Fat           ...  7.592715  8.820724  8.919216  9.157578   \n",
       "100005_raw-Carbohydrate  ...  7.606691  8.841007  8.881571  9.157351   \n",
       "\n",
       "                           UMAP45    UMAP46    UMAP47    UMAP48    UMAP49  \\\n",
       "100001_raw-Food_weight   0.445703  8.213864  0.703600  9.307579  4.072986   \n",
       "100002_raw-Energy        0.390866  8.235448  0.706651  9.296489  4.041227   \n",
       "100003_raw-Protein       0.442892  8.227354  0.692944  9.355126  4.053129   \n",
       "100004_raw-Fat           0.454712  8.220077  0.721550  9.364523  4.043874   \n",
       "100005_raw-Carbohydrate  0.409341  8.236560  0.724239  9.336825  4.040252   \n",
       "\n",
       "                           UMAP50  \n",
       "100001_raw-Food_weight   9.349484  \n",
       "100002_raw-Energy        9.304544  \n",
       "100003_raw-Protein       9.361687  \n",
       "100004_raw-Fat           9.397904  \n",
       "100005_raw-Carbohydrate  9.386523  \n",
       "\n",
       "[5 rows x 50 columns]"
      ]
     },
     "execution_count": 20,
     "metadata": {},
     "output_type": "execute_result"
    }
   ],
   "source": [
    "data.head()"
   ]
  },
  {
   "cell_type": "code",
   "execution_count": 21,
   "id": "6d37c960",
   "metadata": {
    "execution": {
     "iopub.execute_input": "2022-09-12T11:28:36.677303Z",
     "iopub.status.busy": "2022-09-12T11:28:36.677095Z",
     "iopub.status.idle": "2022-09-12T11:28:36.694264Z",
     "shell.execute_reply": "2022-09-12T11:28:36.693619Z"
    },
    "papermill": {
     "duration": 0.024927,
     "end_time": "2022-09-12T11:28:36.695654",
     "exception": false,
     "start_time": "2022-09-12T11:28:36.670727",
     "status": "completed"
    },
    "tags": []
   },
   "outputs": [],
   "source": [
    "assert not data.isna().any().any()"
   ]
  },
  {
   "cell_type": "markdown",
   "id": "944f5879",
   "metadata": {
    "papermill": {
     "duration": 0.005876,
     "end_time": "2022-09-12T11:28:36.707729",
     "exception": false,
     "start_time": "2022-09-12T11:28:36.701853",
     "status": "completed"
    },
    "tags": []
   },
   "source": [
    "# Clustering"
   ]
  },
  {
   "cell_type": "markdown",
   "id": "9eb57569",
   "metadata": {
    "papermill": {
     "duration": 0.005696,
     "end_time": "2022-09-12T11:28:36.719057",
     "exception": false,
     "start_time": "2022-09-12T11:28:36.713361",
     "status": "completed"
    },
    "tags": []
   },
   "source": [
    "## Generate ensemble"
   ]
  },
  {
   "cell_type": "code",
   "execution_count": 22,
   "id": "bc9e7e9b",
   "metadata": {
    "execution": {
     "iopub.execute_input": "2022-09-12T11:28:36.731176Z",
     "iopub.status.busy": "2022-09-12T11:28:36.730956Z",
     "iopub.status.idle": "2022-09-12T11:28:36.750320Z",
     "shell.execute_reply": "2022-09-12T11:28:36.749887Z"
    },
    "papermill": {
     "duration": 0.027312,
     "end_time": "2022-09-12T11:28:36.751957",
     "exception": false,
     "start_time": "2022-09-12T11:28:36.724645",
     "status": "completed"
    },
    "tags": []
   },
   "outputs": [],
   "source": [
    "from sklearn.metrics import pairwise_distances\n",
    "from clustering.ensembles.utils import generate_ensemble"
   ]
  },
  {
   "cell_type": "code",
   "execution_count": 23,
   "id": "79f74deb",
   "metadata": {
    "execution": {
     "iopub.execute_input": "2022-09-12T11:28:36.764624Z",
     "iopub.status.busy": "2022-09-12T11:28:36.764464Z",
     "iopub.status.idle": "2022-09-12T11:28:36.890114Z",
     "shell.execute_reply": "2022-09-12T11:28:36.889497Z"
    },
    "papermill": {
     "duration": 0.133695,
     "end_time": "2022-09-12T11:28:36.891662",
     "exception": false,
     "start_time": "2022-09-12T11:28:36.757967",
     "status": "completed"
    },
    "tags": []
   },
   "outputs": [],
   "source": [
    "data_dist = pairwise_distances(data, metric=CLUSTERING_OPTIONS[\"AFFINITY\"])"
   ]
  },
  {
   "cell_type": "code",
   "execution_count": 24,
   "id": "86eb825d",
   "metadata": {
    "execution": {
     "iopub.execute_input": "2022-09-12T11:28:36.904780Z",
     "iopub.status.busy": "2022-09-12T11:28:36.904385Z",
     "iopub.status.idle": "2022-09-12T11:28:36.922097Z",
     "shell.execute_reply": "2022-09-12T11:28:36.921626Z"
    },
    "papermill": {
     "duration": 0.025837,
     "end_time": "2022-09-12T11:28:36.923538",
     "exception": false,
     "start_time": "2022-09-12T11:28:36.897701",
     "status": "completed"
    },
    "tags": []
   },
   "outputs": [
    {
     "data": {
      "text/plain": [
       "(3752, 3752)"
      ]
     },
     "execution_count": 24,
     "metadata": {},
     "output_type": "execute_result"
    }
   ],
   "source": [
    "data_dist.shape"
   ]
  },
  {
   "cell_type": "code",
   "execution_count": 25,
   "id": "a4c901ab",
   "metadata": {
    "execution": {
     "iopub.execute_input": "2022-09-12T11:28:36.937399Z",
     "iopub.status.busy": "2022-09-12T11:28:36.937020Z",
     "iopub.status.idle": "2022-09-12T11:28:37.345228Z",
     "shell.execute_reply": "2022-09-12T11:28:37.344751Z"
    },
    "papermill": {
     "duration": 0.416691,
     "end_time": "2022-09-12T11:28:37.346496",
     "exception": false,
     "start_time": "2022-09-12T11:28:36.929805",
     "status": "completed"
    },
    "tags": []
   },
   "outputs": [
    {
     "data": {
      "text/plain": [
       "count            14077504.0\n",
       "mean     3.2736024856567383\n",
       "std      1.2641901969909668\n",
       "min                     0.0\n",
       "25%      2.2988908886909485\n",
       "50%      3.5725321769714355\n",
       "75%       4.298855423927307\n",
       "max        5.88734769821167\n",
       "dtype: object"
      ]
     },
     "execution_count": 25,
     "metadata": {},
     "output_type": "execute_result"
    }
   ],
   "source": [
    "pd.Series(data_dist.flatten()).describe().apply(str)"
   ]
  },
  {
   "cell_type": "code",
   "execution_count": 26,
   "id": "2c40884f",
   "metadata": {
    "execution": {
     "iopub.execute_input": "2022-09-12T11:28:37.360406Z",
     "iopub.status.busy": "2022-09-12T11:28:37.360247Z",
     "iopub.status.idle": "2022-09-12T11:55:51.792802Z",
     "shell.execute_reply": "2022-09-12T11:55:51.792221Z"
    },
    "papermill": {
     "duration": 1634.440965,
     "end_time": "2022-09-12T11:55:51.794067",
     "exception": false,
     "start_time": "2022-09-12T11:28:37.353102",
     "status": "completed"
    },
    "tags": []
   },
   "outputs": [
    {
     "name": "stderr",
     "output_type": "stream",
     "text": [
      "100%|██████████| 296/296 [27:14<00:00,  5.52s/it]\n"
     ]
    }
   ],
   "source": [
    "ensemble = generate_ensemble(\n",
    "    data_dist,\n",
    "    CLUSTERERS,\n",
    "    attributes=CLUSTERING_ATTRIBUTES_TO_SAVE,\n",
    "    affinity_matrix=data_dist,\n",
    ")"
   ]
  },
  {
   "cell_type": "code",
   "execution_count": 27,
   "id": "2b4fc727",
   "metadata": {
    "execution": {
     "iopub.execute_input": "2022-09-12T11:55:51.826121Z",
     "iopub.status.busy": "2022-09-12T11:55:51.825908Z",
     "iopub.status.idle": "2022-09-12T11:55:51.843068Z",
     "shell.execute_reply": "2022-09-12T11:55:51.842492Z"
    },
    "papermill": {
     "duration": 0.034753,
     "end_time": "2022-09-12T11:55:51.844306",
     "exception": false,
     "start_time": "2022-09-12T11:55:51.809553",
     "status": "completed"
    },
    "tags": []
   },
   "outputs": [
    {
     "data": {
      "text/plain": [
       "(296, 3)"
      ]
     },
     "execution_count": 27,
     "metadata": {},
     "output_type": "execute_result"
    }
   ],
   "source": [
    "# the number should be close to 295 (the number of partitions generated by k-means/spectral clustering)\n",
    "ensemble.shape"
   ]
  },
  {
   "cell_type": "code",
   "execution_count": 28,
   "id": "ab9d5285",
   "metadata": {
    "execution": {
     "iopub.execute_input": "2022-09-12T11:55:51.876912Z",
     "iopub.status.busy": "2022-09-12T11:55:51.876502Z",
     "iopub.status.idle": "2022-09-12T11:55:51.901116Z",
     "shell.execute_reply": "2022-09-12T11:55:51.900556Z"
    },
    "papermill": {
     "duration": 0.042087,
     "end_time": "2022-09-12T11:55:51.902414",
     "exception": false,
     "start_time": "2022-09-12T11:55:51.860327",
     "status": "completed"
    },
    "tags": []
   },
   "outputs": [
    {
     "data": {
      "text/html": [
       "<div>\n",
       "<style scoped>\n",
       "    .dataframe tbody tr th:only-of-type {\n",
       "        vertical-align: middle;\n",
       "    }\n",
       "\n",
       "    .dataframe tbody tr th {\n",
       "        vertical-align: top;\n",
       "    }\n",
       "\n",
       "    .dataframe thead th {\n",
       "        text-align: right;\n",
       "    }\n",
       "</style>\n",
       "<table border=\"1\" class=\"dataframe\">\n",
       "  <thead>\n",
       "    <tr style=\"text-align: right;\">\n",
       "      <th></th>\n",
       "      <th>clusterer_params</th>\n",
       "      <th>partition</th>\n",
       "      <th>n_clusters</th>\n",
       "    </tr>\n",
       "    <tr>\n",
       "      <th>clusterer_id</th>\n",
       "      <th></th>\n",
       "      <th></th>\n",
       "      <th></th>\n",
       "    </tr>\n",
       "  </thead>\n",
       "  <tbody>\n",
       "    <tr>\n",
       "      <th>AgglomerativeClustering #0</th>\n",
       "      <td>{'affinity': 'precomputed', 'compute_full_tree...</td>\n",
       "      <td>[0.0, 0.0, 0.0, 0.0, 0.0, 0.0, 0.0, 0.0, 0.0, ...</td>\n",
       "      <td>2</td>\n",
       "    </tr>\n",
       "    <tr>\n",
       "      <th>AgglomerativeClustering #1</th>\n",
       "      <td>{'affinity': 'precomputed', 'compute_full_tree...</td>\n",
       "      <td>[1.0, 1.0, 1.0, 1.0, 1.0, 1.0, 1.0, 1.0, 1.0, ...</td>\n",
       "      <td>2</td>\n",
       "    </tr>\n",
       "    <tr>\n",
       "      <th>AgglomerativeClustering #2</th>\n",
       "      <td>{'affinity': 'euclidean', 'compute_full_tree':...</td>\n",
       "      <td>[1.0, 1.0, 1.0, 1.0, 1.0, 1.0, 1.0, 1.0, 1.0, ...</td>\n",
       "      <td>2</td>\n",
       "    </tr>\n",
       "    <tr>\n",
       "      <th>AgglomerativeClustering #3</th>\n",
       "      <td>{'affinity': 'precomputed', 'compute_full_tree...</td>\n",
       "      <td>[0.0, 0.0, 0.0, 0.0, 0.0, 0.0, 0.0, 0.0, 0.0, ...</td>\n",
       "      <td>2</td>\n",
       "    </tr>\n",
       "    <tr>\n",
       "      <th>AgglomerativeClustering #4</th>\n",
       "      <td>{'affinity': 'precomputed', 'compute_full_tree...</td>\n",
       "      <td>[2.0, 2.0, 2.0, 2.0, 2.0, 2.0, 2.0, 2.0, 2.0, ...</td>\n",
       "      <td>3</td>\n",
       "    </tr>\n",
       "  </tbody>\n",
       "</table>\n",
       "</div>"
      ],
      "text/plain": [
       "                                                             clusterer_params  \\\n",
       "clusterer_id                                                                    \n",
       "AgglomerativeClustering #0  {'affinity': 'precomputed', 'compute_full_tree...   \n",
       "AgglomerativeClustering #1  {'affinity': 'precomputed', 'compute_full_tree...   \n",
       "AgglomerativeClustering #2  {'affinity': 'euclidean', 'compute_full_tree':...   \n",
       "AgglomerativeClustering #3  {'affinity': 'precomputed', 'compute_full_tree...   \n",
       "AgglomerativeClustering #4  {'affinity': 'precomputed', 'compute_full_tree...   \n",
       "\n",
       "                                                                    partition  \\\n",
       "clusterer_id                                                                    \n",
       "AgglomerativeClustering #0  [0.0, 0.0, 0.0, 0.0, 0.0, 0.0, 0.0, 0.0, 0.0, ...   \n",
       "AgglomerativeClustering #1  [1.0, 1.0, 1.0, 1.0, 1.0, 1.0, 1.0, 1.0, 1.0, ...   \n",
       "AgglomerativeClustering #2  [1.0, 1.0, 1.0, 1.0, 1.0, 1.0, 1.0, 1.0, 1.0, ...   \n",
       "AgglomerativeClustering #3  [0.0, 0.0, 0.0, 0.0, 0.0, 0.0, 0.0, 0.0, 0.0, ...   \n",
       "AgglomerativeClustering #4  [2.0, 2.0, 2.0, 2.0, 2.0, 2.0, 2.0, 2.0, 2.0, ...   \n",
       "\n",
       "                            n_clusters  \n",
       "clusterer_id                            \n",
       "AgglomerativeClustering #0           2  \n",
       "AgglomerativeClustering #1           2  \n",
       "AgglomerativeClustering #2           2  \n",
       "AgglomerativeClustering #3           2  \n",
       "AgglomerativeClustering #4           3  "
      ]
     },
     "execution_count": 28,
     "metadata": {},
     "output_type": "execute_result"
    }
   ],
   "source": [
    "ensemble.head()"
   ]
  },
  {
   "cell_type": "code",
   "execution_count": 29,
   "id": "709d0c3f",
   "metadata": {
    "execution": {
     "iopub.execute_input": "2022-09-12T11:55:51.935154Z",
     "iopub.status.busy": "2022-09-12T11:55:51.934932Z",
     "iopub.status.idle": "2022-09-12T11:55:51.953034Z",
     "shell.execute_reply": "2022-09-12T11:55:51.952592Z"
    },
    "papermill": {
     "duration": 0.035803,
     "end_time": "2022-09-12T11:55:51.954293",
     "exception": false,
     "start_time": "2022-09-12T11:55:51.918490",
     "status": "completed"
    },
    "tags": []
   },
   "outputs": [
    {
     "data": {
      "text/plain": [
       "75    4\n",
       "20    4\n",
       "22    4\n",
       "23    4\n",
       "24    4\n",
       "Name: n_clusters, dtype: int64"
      ]
     },
     "execution_count": 29,
     "metadata": {},
     "output_type": "execute_result"
    }
   ],
   "source": [
    "ensemble[\"n_clusters\"].value_counts().head()"
   ]
  },
  {
   "cell_type": "code",
   "execution_count": 30,
   "id": "b03ba404",
   "metadata": {
    "execution": {
     "iopub.execute_input": "2022-09-12T11:55:51.987279Z",
     "iopub.status.busy": "2022-09-12T11:55:51.987062Z",
     "iopub.status.idle": "2022-09-12T11:55:52.006223Z",
     "shell.execute_reply": "2022-09-12T11:55:52.005561Z"
    },
    "papermill": {
     "duration": 0.036932,
     "end_time": "2022-09-12T11:55:52.007568",
     "exception": false,
     "start_time": "2022-09-12T11:55:51.970636",
     "status": "completed"
    },
    "tags": []
   },
   "outputs": [
    {
     "data": {
      "text/plain": [
       "count    296.000000\n",
       "mean      38.500000\n",
       "std       21.396182\n",
       "min        2.000000\n",
       "25%       20.000000\n",
       "50%       38.500000\n",
       "75%       57.000000\n",
       "max       75.000000\n",
       "Name: n_clusters, dtype: float64"
      ]
     },
     "metadata": {},
     "output_type": "display_data"
    }
   ],
   "source": [
    "ensemble_stats = ensemble[\"n_clusters\"].describe()\n",
    "display(ensemble_stats)"
   ]
  },
  {
   "cell_type": "markdown",
   "id": "76310ab0",
   "metadata": {
    "papermill": {
     "duration": 0.015565,
     "end_time": "2022-09-12T11:55:52.039708",
     "exception": false,
     "start_time": "2022-09-12T11:55:52.024143",
     "status": "completed"
    },
    "tags": []
   },
   "source": [
    "### Testing"
   ]
  },
  {
   "cell_type": "code",
   "execution_count": 31,
   "id": "51b5f02f",
   "metadata": {
    "execution": {
     "iopub.execute_input": "2022-09-12T11:55:52.071479Z",
     "iopub.status.busy": "2022-09-12T11:55:52.071230Z",
     "iopub.status.idle": "2022-09-12T11:55:52.087911Z",
     "shell.execute_reply": "2022-09-12T11:55:52.087225Z"
    },
    "papermill": {
     "duration": 0.034228,
     "end_time": "2022-09-12T11:55:52.089474",
     "exception": false,
     "start_time": "2022-09-12T11:55:52.055246",
     "status": "completed"
    },
    "tags": []
   },
   "outputs": [],
   "source": [
    "assert ensemble_stats[\"min\"] > 1"
   ]
  },
  {
   "cell_type": "code",
   "execution_count": 32,
   "id": "cb389982",
   "metadata": {
    "execution": {
     "iopub.execute_input": "2022-09-12T11:55:52.122785Z",
     "iopub.status.busy": "2022-09-12T11:55:52.122575Z",
     "iopub.status.idle": "2022-09-12T11:55:52.138913Z",
     "shell.execute_reply": "2022-09-12T11:55:52.138305Z"
    },
    "papermill": {
     "duration": 0.034759,
     "end_time": "2022-09-12T11:55:52.140399",
     "exception": false,
     "start_time": "2022-09-12T11:55:52.105640",
     "status": "completed"
    },
    "tags": []
   },
   "outputs": [],
   "source": [
    "assert not ensemble[\"n_clusters\"].isna().any()"
   ]
  },
  {
   "cell_type": "code",
   "execution_count": 33,
   "id": "2f78b392",
   "metadata": {
    "execution": {
     "iopub.execute_input": "2022-09-12T11:55:52.174323Z",
     "iopub.status.busy": "2022-09-12T11:55:52.174069Z",
     "iopub.status.idle": "2022-09-12T11:55:52.190826Z",
     "shell.execute_reply": "2022-09-12T11:55:52.190319Z"
    },
    "papermill": {
     "duration": 0.034971,
     "end_time": "2022-09-12T11:55:52.192150",
     "exception": false,
     "start_time": "2022-09-12T11:55:52.157179",
     "status": "completed"
    },
    "tags": []
   },
   "outputs": [],
   "source": [
    "assert ensemble.shape[0] == len(CLUSTERERS)"
   ]
  },
  {
   "cell_type": "code",
   "execution_count": 34,
   "id": "9e9712b8",
   "metadata": {
    "execution": {
     "iopub.execute_input": "2022-09-12T11:55:52.225445Z",
     "iopub.status.busy": "2022-09-12T11:55:52.225235Z",
     "iopub.status.idle": "2022-09-12T11:55:52.259011Z",
     "shell.execute_reply": "2022-09-12T11:55:52.258463Z"
    },
    "papermill": {
     "duration": 0.052004,
     "end_time": "2022-09-12T11:55:52.260408",
     "exception": false,
     "start_time": "2022-09-12T11:55:52.208404",
     "status": "completed"
    },
    "tags": []
   },
   "outputs": [],
   "source": [
    "# all partitions have the right size\n",
    "assert np.all(\n",
    "    [part[\"partition\"].shape[0] == data.shape[0] for idx, part in ensemble.iterrows()]\n",
    ")"
   ]
  },
  {
   "cell_type": "code",
   "execution_count": 35,
   "id": "63053b05",
   "metadata": {
    "execution": {
     "iopub.execute_input": "2022-09-12T11:55:52.293526Z",
     "iopub.status.busy": "2022-09-12T11:55:52.293302Z",
     "iopub.status.idle": "2022-09-12T11:55:52.330365Z",
     "shell.execute_reply": "2022-09-12T11:55:52.329663Z"
    },
    "papermill": {
     "duration": 0.05534,
     "end_time": "2022-09-12T11:55:52.332009",
     "exception": false,
     "start_time": "2022-09-12T11:55:52.276669",
     "status": "completed"
    },
    "tags": []
   },
   "outputs": [],
   "source": [
    "# no partition has negative clusters (noisy points)\n",
    "assert not np.any([(part[\"partition\"] < 0).any() for idx, part in ensemble.iterrows()])"
   ]
  },
  {
   "cell_type": "markdown",
   "id": "79245f64",
   "metadata": {
    "papermill": {
     "duration": 0.016304,
     "end_time": "2022-09-12T11:55:52.366204",
     "exception": false,
     "start_time": "2022-09-12T11:55:52.349900",
     "status": "completed"
    },
    "tags": []
   },
   "source": [
    "## Save"
   ]
  },
  {
   "cell_type": "code",
   "execution_count": 36,
   "id": "c3d7d186",
   "metadata": {
    "execution": {
     "iopub.execute_input": "2022-09-12T11:55:52.398949Z",
     "iopub.status.busy": "2022-09-12T11:55:52.398737Z",
     "iopub.status.idle": "2022-09-12T11:55:52.417224Z",
     "shell.execute_reply": "2022-09-12T11:55:52.416681Z"
    },
    "papermill": {
     "duration": 0.036266,
     "end_time": "2022-09-12T11:55:52.418447",
     "exception": false,
     "start_time": "2022-09-12T11:55:52.382181",
     "status": "completed"
    },
    "tags": []
   },
   "outputs": [
    {
     "data": {
      "text/plain": [
       "PosixPath('/opt/data/results/clustering/null_sims/runs/umap-z_score_std-projection-smultixcan-efo_partial-mashr-zscores/AgglomerativeClustering-AFFINITY_euclidean-K_MAX_75-K_MIN_2.pkl')"
      ]
     },
     "metadata": {},
     "output_type": "display_data"
    }
   ],
   "source": [
    "del CLUSTERING_OPTIONS[\"LINKAGE\"]\n",
    "\n",
    "output_filename = Path(\n",
    "    RESULTS_DIR,\n",
    "    generate_result_set_name(\n",
    "        CLUSTERING_OPTIONS,\n",
    "        prefix=f\"{clustering_method_name}-\",\n",
    "        suffix=\".pkl\",\n",
    "    ),\n",
    ").resolve()\n",
    "display(output_filename)"
   ]
  },
  {
   "cell_type": "code",
   "execution_count": 37,
   "id": "34b6c6a9",
   "metadata": {
    "execution": {
     "iopub.execute_input": "2022-09-12T11:55:52.452411Z",
     "iopub.status.busy": "2022-09-12T11:55:52.451771Z",
     "iopub.status.idle": "2022-09-12T11:55:52.476834Z",
     "shell.execute_reply": "2022-09-12T11:55:52.476160Z"
    },
    "papermill": {
     "duration": 0.043494,
     "end_time": "2022-09-12T11:55:52.478277",
     "exception": false,
     "start_time": "2022-09-12T11:55:52.434783",
     "status": "completed"
    },
    "tags": []
   },
   "outputs": [],
   "source": [
    "ensemble.to_pickle(output_filename)"
   ]
  },
  {
   "cell_type": "code",
   "execution_count": null,
   "id": "91cac478",
   "metadata": {
    "papermill": {
     "duration": 0.016166,
     "end_time": "2022-09-12T11:55:52.511829",
     "exception": false,
     "start_time": "2022-09-12T11:55:52.495663",
     "status": "completed"
    },
    "tags": []
   },
   "outputs": [],
   "source": []
  }
 ],
 "metadata": {
  "jupytext": {
   "cell_metadata_filter": "all,-execution,-papermill,-trusted",
   "formats": "ipynb,py//py:percent"
  },
  "kernelspec": {
   "display_name": "Python 3 (ipykernel)",
   "language": "python",
   "name": "python3"
  },
  "language_info": {
   "codemirror_mode": {
    "name": "ipython",
    "version": 3
   },
   "file_extension": ".py",
   "mimetype": "text/x-python",
   "name": "python",
   "nbconvert_exporter": "python",
   "pygments_lexer": "ipython3",
   "version": "3.8.13"
  },
  "papermill": {
   "default_parameters": {},
   "duration": 1638.657056,
   "end_time": "2022-09-12T11:55:52.854431",
   "environment_variables": {},
   "exception": null,
   "input_path": "nbs/13.1_cluster_analysis_null/13_02-hc-umap.ipynb",
   "output_path": "nbs/13.1_cluster_analysis_null/13_02-hc-umap.run.ipynb",
   "parameters": {},
   "start_time": "2022-09-12T11:28:34.197375",
   "version": "2.2.2"
  },
  "toc-autonumbering": true,
  "toc-showcode": false,
  "toc-showmarkdowntxt": false,
  "toc-showtags": false
 },
 "nbformat": 4,
 "nbformat_minor": 5
}
