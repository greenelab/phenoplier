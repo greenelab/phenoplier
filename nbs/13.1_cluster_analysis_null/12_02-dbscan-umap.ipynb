{
 "cells": [
  {
   "cell_type": "markdown",
   "id": "80589afc",
   "metadata": {
    "papermill": {
     "duration": 0.022172,
     "end_time": "2022-09-13T03:45:18.929228",
     "exception": false,
     "start_time": "2022-09-13T03:45:18.907056",
     "status": "completed"
    },
    "tags": []
   },
   "source": [
    "# Description"
   ]
  },
  {
   "cell_type": "markdown",
   "id": "f6fbffad",
   "metadata": {
    "papermill": {
     "duration": 0.009479,
     "end_time": "2022-09-13T03:45:18.953554",
     "exception": false,
     "start_time": "2022-09-13T03:45:18.944075",
     "status": "completed"
    },
    "tags": []
   },
   "source": [
    "It runs DBSCAN on the `umap` version of the data.\n",
    "\n",
    "The notebook explores different values for `min_samples` and `eps` (the main parameters of DBSCAN)."
   ]
  },
  {
   "cell_type": "markdown",
   "id": "cf697dfd",
   "metadata": {
    "papermill": {
     "duration": 0.004906,
     "end_time": "2022-09-13T03:45:18.964563",
     "exception": false,
     "start_time": "2022-09-13T03:45:18.959657",
     "status": "completed"
    },
    "tags": []
   },
   "source": [
    "# Environment variables"
   ]
  },
  {
   "cell_type": "code",
   "execution_count": 1,
   "id": "b38f0174",
   "metadata": {
    "execution": {
     "iopub.execute_input": "2022-09-13T03:45:18.974465Z",
     "iopub.status.busy": "2022-09-13T03:45:18.974218Z",
     "iopub.status.idle": "2022-09-13T03:45:18.989957Z",
     "shell.execute_reply": "2022-09-13T03:45:18.989462Z"
    },
    "papermill": {
     "duration": 0.022113,
     "end_time": "2022-09-13T03:45:18.991228",
     "exception": false,
     "start_time": "2022-09-13T03:45:18.969115",
     "status": "completed"
    },
    "tags": []
   },
   "outputs": [
    {
     "data": {
      "text/plain": [
       "3"
      ]
     },
     "metadata": {},
     "output_type": "display_data"
    }
   ],
   "source": [
    "from IPython.display import display\n",
    "\n",
    "import conf\n",
    "\n",
    "N_JOBS = conf.GENERAL[\"N_JOBS\"]\n",
    "display(N_JOBS)"
   ]
  },
  {
   "cell_type": "code",
   "execution_count": 2,
   "id": "4d043e0e",
   "metadata": {
    "execution": {
     "iopub.execute_input": "2022-09-13T03:45:19.001465Z",
     "iopub.status.busy": "2022-09-13T03:45:19.001314Z",
     "iopub.status.idle": "2022-09-13T03:45:19.006061Z",
     "shell.execute_reply": "2022-09-13T03:45:19.005627Z"
    },
    "papermill": {
     "duration": 0.011209,
     "end_time": "2022-09-13T03:45:19.007234",
     "exception": false,
     "start_time": "2022-09-13T03:45:18.996025",
     "status": "completed"
    },
    "tags": []
   },
   "outputs": [
    {
     "name": "stdout",
     "output_type": "stream",
     "text": [
      "env: MKL_NUM_THREADS=3\n",
      "env: OPEN_BLAS_NUM_THREADS=3\n",
      "env: NUMEXPR_NUM_THREADS=3\n",
      "env: OMP_NUM_THREADS=3\n"
     ]
    }
   ],
   "source": [
    "%env MKL_NUM_THREADS=$N_JOBS\n",
    "%env OPEN_BLAS_NUM_THREADS=$N_JOBS\n",
    "%env NUMEXPR_NUM_THREADS=$N_JOBS\n",
    "%env OMP_NUM_THREADS=$N_JOBS"
   ]
  },
  {
   "cell_type": "markdown",
   "id": "fc1eccf7",
   "metadata": {
    "papermill": {
     "duration": 0.004579,
     "end_time": "2022-09-13T03:45:19.016625",
     "exception": false,
     "start_time": "2022-09-13T03:45:19.012046",
     "status": "completed"
    },
    "tags": []
   },
   "source": [
    "# Modules loading"
   ]
  },
  {
   "cell_type": "code",
   "execution_count": 3,
   "id": "1717be8c",
   "metadata": {
    "execution": {
     "iopub.execute_input": "2022-09-13T03:45:19.026545Z",
     "iopub.status.busy": "2022-09-13T03:45:19.026346Z",
     "iopub.status.idle": "2022-09-13T03:45:19.039589Z",
     "shell.execute_reply": "2022-09-13T03:45:19.039091Z"
    },
    "papermill": {
     "duration": 0.019727,
     "end_time": "2022-09-13T03:45:19.040893",
     "exception": false,
     "start_time": "2022-09-13T03:45:19.021166",
     "status": "completed"
    },
    "tags": []
   },
   "outputs": [],
   "source": [
    "%load_ext autoreload\n",
    "%autoreload 2"
   ]
  },
  {
   "cell_type": "code",
   "execution_count": 4,
   "id": "895656d4",
   "metadata": {
    "execution": {
     "iopub.execute_input": "2022-09-13T03:45:19.051472Z",
     "iopub.status.busy": "2022-09-13T03:45:19.051283Z",
     "iopub.status.idle": "2022-09-13T03:45:19.736843Z",
     "shell.execute_reply": "2022-09-13T03:45:19.736334Z"
    },
    "papermill": {
     "duration": 0.692333,
     "end_time": "2022-09-13T03:45:19.738222",
     "exception": false,
     "start_time": "2022-09-13T03:45:19.045889",
     "status": "completed"
    },
    "tags": []
   },
   "outputs": [],
   "source": [
    "from pathlib import Path\n",
    "\n",
    "import numpy as np\n",
    "import pandas as pd\n",
    "from sklearn.neighbors import NearestNeighbors\n",
    "from sklearn.metrics import pairwise_distances\n",
    "from sklearn.cluster import DBSCAN\n",
    "import matplotlib.pyplot as plt\n",
    "\n",
    "from utils import generate_result_set_name\n",
    "from clustering.ensembles.utils import generate_ensemble"
   ]
  },
  {
   "cell_type": "markdown",
   "id": "417425a2",
   "metadata": {
    "papermill": {
     "duration": 0.004691,
     "end_time": "2022-09-13T03:45:19.747950",
     "exception": false,
     "start_time": "2022-09-13T03:45:19.743259",
     "status": "completed"
    },
    "tags": []
   },
   "source": [
    "# Global settings"
   ]
  },
  {
   "cell_type": "code",
   "execution_count": 5,
   "id": "34ea787d",
   "metadata": {
    "execution": {
     "iopub.execute_input": "2022-09-13T03:45:19.758510Z",
     "iopub.status.busy": "2022-09-13T03:45:19.758317Z",
     "iopub.status.idle": "2022-09-13T03:45:19.775938Z",
     "shell.execute_reply": "2022-09-13T03:45:19.775374Z"
    },
    "papermill": {
     "duration": 0.024405,
     "end_time": "2022-09-13T03:45:19.777249",
     "exception": false,
     "start_time": "2022-09-13T03:45:19.752844",
     "status": "completed"
    },
    "tags": []
   },
   "outputs": [],
   "source": [
    "np.random.seed(0)"
   ]
  },
  {
   "cell_type": "code",
   "execution_count": 6,
   "id": "e756c5da",
   "metadata": {
    "execution": {
     "iopub.execute_input": "2022-09-13T03:45:19.788025Z",
     "iopub.status.busy": "2022-09-13T03:45:19.787872Z",
     "iopub.status.idle": "2022-09-13T03:45:19.805044Z",
     "shell.execute_reply": "2022-09-13T03:45:19.804521Z"
    },
    "papermill": {
     "duration": 0.024087,
     "end_time": "2022-09-13T03:45:19.806475",
     "exception": false,
     "start_time": "2022-09-13T03:45:19.782388",
     "status": "completed"
    },
    "tags": []
   },
   "outputs": [],
   "source": [
    "CLUSTERING_ATTRIBUTES_TO_SAVE = [\"n_clusters\"]"
   ]
  },
  {
   "cell_type": "markdown",
   "id": "8f15357f",
   "metadata": {
    "papermill": {
     "duration": 0.004896,
     "end_time": "2022-09-13T03:45:19.816681",
     "exception": false,
     "start_time": "2022-09-13T03:45:19.811785",
     "status": "completed"
    },
    "tags": []
   },
   "source": [
    "# Settings"
   ]
  },
  {
   "cell_type": "code",
   "execution_count": 7,
   "id": "750092ae",
   "metadata": {
    "execution": {
     "iopub.execute_input": "2022-09-13T03:45:19.827583Z",
     "iopub.status.busy": "2022-09-13T03:45:19.827416Z",
     "iopub.status.idle": "2022-09-13T03:45:19.846054Z",
     "shell.execute_reply": "2022-09-13T03:45:19.845413Z"
    },
    "papermill": {
     "duration": 0.025729,
     "end_time": "2022-09-13T03:45:19.847450",
     "exception": false,
     "start_time": "2022-09-13T03:45:19.821721",
     "status": "completed"
    },
    "tags": []
   },
   "outputs": [],
   "source": [
    "# these parameter values are taken from the pre-analysis notebook for this clustering method and data version\n",
    "k_values = np.arange(2, 125 + 1, 1)\n",
    "\n",
    "eps_range_per_k = {\n",
    "    k: (0.23, 0.80)\n",
    "    if k < 5\n",
    "    else (0.30, 0.80)\n",
    "    if k < 10\n",
    "    else (0.40, 2.50)\n",
    "    if k < 20\n",
    "    else (0.40, 7.00)\n",
    "    if k < 50\n",
    "    else (0.50, 10.00)\n",
    "    for k in k_values\n",
    "}"
   ]
  },
  {
   "cell_type": "markdown",
   "id": "27d596ba",
   "metadata": {
    "papermill": {
     "duration": 0.004875,
     "end_time": "2022-09-13T03:45:19.857619",
     "exception": false,
     "start_time": "2022-09-13T03:45:19.852744",
     "status": "completed"
    },
    "tags": []
   },
   "source": [
    "# Data version: umap"
   ]
  },
  {
   "cell_type": "markdown",
   "id": "33e28553",
   "metadata": {
    "papermill": {
     "duration": 0.004885,
     "end_time": "2022-09-13T03:45:19.867539",
     "exception": false,
     "start_time": "2022-09-13T03:45:19.862654",
     "status": "completed"
    },
    "tags": []
   },
   "source": [
    "## Settings"
   ]
  },
  {
   "cell_type": "code",
   "execution_count": 8,
   "id": "0254cfcd",
   "metadata": {
    "execution": {
     "iopub.execute_input": "2022-09-13T03:45:19.878504Z",
     "iopub.status.busy": "2022-09-13T03:45:19.878297Z",
     "iopub.status.idle": "2022-09-13T03:45:19.895408Z",
     "shell.execute_reply": "2022-09-13T03:45:19.894925Z"
    },
    "papermill": {
     "duration": 0.024176,
     "end_time": "2022-09-13T03:45:19.896797",
     "exception": false,
     "start_time": "2022-09-13T03:45:19.872621",
     "status": "completed"
    },
    "tags": []
   },
   "outputs": [],
   "source": [
    "INPUT_SUBSET = \"umap\""
   ]
  },
  {
   "cell_type": "code",
   "execution_count": 9,
   "id": "acd1436b",
   "metadata": {
    "execution": {
     "iopub.execute_input": "2022-09-13T03:45:19.907923Z",
     "iopub.status.busy": "2022-09-13T03:45:19.907759Z",
     "iopub.status.idle": "2022-09-13T03:45:19.925313Z",
     "shell.execute_reply": "2022-09-13T03:45:19.924625Z"
    },
    "papermill": {
     "duration": 0.024614,
     "end_time": "2022-09-13T03:45:19.926696",
     "exception": false,
     "start_time": "2022-09-13T03:45:19.902082",
     "status": "completed"
    },
    "tags": []
   },
   "outputs": [],
   "source": [
    "INPUT_STEM = \"z_score_std-projection-smultixcan-efo_partial-mashr-zscores\""
   ]
  },
  {
   "cell_type": "code",
   "execution_count": 10,
   "id": "9e49e98c",
   "metadata": {
    "execution": {
     "iopub.execute_input": "2022-09-13T03:45:19.938010Z",
     "iopub.status.busy": "2022-09-13T03:45:19.937852Z",
     "iopub.status.idle": "2022-09-13T03:45:19.955427Z",
     "shell.execute_reply": "2022-09-13T03:45:19.954958Z"
    },
    "papermill": {
     "duration": 0.024631,
     "end_time": "2022-09-13T03:45:19.956793",
     "exception": false,
     "start_time": "2022-09-13T03:45:19.932162",
     "status": "completed"
    },
    "tags": []
   },
   "outputs": [],
   "source": [
    "# parameters of the dimentionality reduction steps\n",
    "DR_OPTIONS = {\n",
    "    \"n_components\": 50,\n",
    "    \"metric\": \"euclidean\",\n",
    "    \"n_neighbors\": 15,\n",
    "    \"random_state\": 0,\n",
    "}"
   ]
  },
  {
   "cell_type": "code",
   "execution_count": 11,
   "id": "e1c15698",
   "metadata": {
    "execution": {
     "iopub.execute_input": "2022-09-13T03:45:19.968450Z",
     "iopub.status.busy": "2022-09-13T03:45:19.968283Z",
     "iopub.status.idle": "2022-09-13T03:45:19.988829Z",
     "shell.execute_reply": "2022-09-13T03:45:19.988288Z"
    },
    "papermill": {
     "duration": 0.027797,
     "end_time": "2022-09-13T03:45:19.990082",
     "exception": false,
     "start_time": "2022-09-13T03:45:19.962285",
     "status": "completed"
    },
    "tags": []
   },
   "outputs": [
    {
     "data": {
      "text/plain": [
       "PosixPath('/opt/data/results/clustering/null_sims/data_transformations/umap/umap-z_score_std-projection-smultixcan-efo_partial-mashr-zscores-metric_euclidean-n_components_50-n_neighbors_15-random_state_0.pkl')"
      ]
     },
     "metadata": {},
     "output_type": "display_data"
    },
    {
     "data": {
      "text/plain": [
       "'umap-z_score_std-projection-smultixcan-efo_partial-mashr-zscores-metric_euclidean-n_components_50-n_neighbors_15-random_state_0'"
      ]
     },
     "metadata": {},
     "output_type": "display_data"
    }
   ],
   "source": [
    "input_filepath = Path(\n",
    "    conf.RESULTS[\"CLUSTERING_NULL_DIR\"],\n",
    "    \"data_transformations\",\n",
    "    INPUT_SUBSET,\n",
    "    generate_result_set_name(\n",
    "        DR_OPTIONS, prefix=f\"{INPUT_SUBSET}-{INPUT_STEM}-\", suffix=\".pkl\"\n",
    "    ),\n",
    ").resolve()\n",
    "display(input_filepath)\n",
    "\n",
    "assert input_filepath.exists(), \"Input file does not exist\"\n",
    "\n",
    "input_filepath_stem = input_filepath.stem\n",
    "display(input_filepath_stem)"
   ]
  },
  {
   "cell_type": "code",
   "execution_count": 12,
   "id": "a0f32d44",
   "metadata": {
    "execution": {
     "iopub.execute_input": "2022-09-13T03:45:20.001737Z",
     "iopub.status.busy": "2022-09-13T03:45:20.001573Z",
     "iopub.status.idle": "2022-09-13T03:45:20.020276Z",
     "shell.execute_reply": "2022-09-13T03:45:20.019869Z"
    },
    "papermill": {
     "duration": 0.025977,
     "end_time": "2022-09-13T03:45:20.021583",
     "exception": false,
     "start_time": "2022-09-13T03:45:19.995606",
     "status": "completed"
    },
    "tags": []
   },
   "outputs": [
    {
     "data": {
      "text/plain": [
       "PosixPath('/opt/data/results/clustering/null_sims/runs/umap-z_score_std-projection-smultixcan-efo_partial-mashr-zscores')"
      ]
     },
     "metadata": {},
     "output_type": "display_data"
    }
   ],
   "source": [
    "# output dir for this notebook\n",
    "RESULTS_DIR = Path(\n",
    "    conf.RESULTS[\"CLUSTERING_NULL_DIR\"],\n",
    "    \"runs\",\n",
    "    f\"{INPUT_SUBSET}-{INPUT_STEM}\",\n",
    ").resolve()\n",
    "RESULTS_DIR.mkdir(parents=True, exist_ok=True)\n",
    "\n",
    "display(RESULTS_DIR)"
   ]
  },
  {
   "cell_type": "markdown",
   "id": "39b97d01",
   "metadata": {
    "papermill": {
     "duration": 0.005428,
     "end_time": "2022-09-13T03:45:20.032766",
     "exception": false,
     "start_time": "2022-09-13T03:45:20.027338",
     "status": "completed"
    },
    "tags": []
   },
   "source": [
    "## Load input file"
   ]
  },
  {
   "cell_type": "code",
   "execution_count": 13,
   "id": "9d7fa587",
   "metadata": {
    "execution": {
     "iopub.execute_input": "2022-09-13T03:45:20.058545Z",
     "iopub.status.busy": "2022-09-13T03:45:20.058377Z",
     "iopub.status.idle": "2022-09-13T03:45:20.079225Z",
     "shell.execute_reply": "2022-09-13T03:45:20.078607Z"
    },
    "papermill": {
     "duration": 0.042315,
     "end_time": "2022-09-13T03:45:20.080733",
     "exception": false,
     "start_time": "2022-09-13T03:45:20.038418",
     "status": "completed"
    },
    "tags": []
   },
   "outputs": [],
   "source": [
    "data = pd.read_pickle(input_filepath)"
   ]
  },
  {
   "cell_type": "code",
   "execution_count": 14,
   "id": "97513d49",
   "metadata": {
    "execution": {
     "iopub.execute_input": "2022-09-13T03:45:20.122858Z",
     "iopub.status.busy": "2022-09-13T03:45:20.122663Z",
     "iopub.status.idle": "2022-09-13T03:45:20.143518Z",
     "shell.execute_reply": "2022-09-13T03:45:20.142999Z"
    },
    "papermill": {
     "duration": 0.029693,
     "end_time": "2022-09-13T03:45:20.145031",
     "exception": false,
     "start_time": "2022-09-13T03:45:20.115338",
     "status": "completed"
    },
    "tags": []
   },
   "outputs": [
    {
     "data": {
      "text/plain": [
       "(3752, 50)"
      ]
     },
     "execution_count": 14,
     "metadata": {},
     "output_type": "execute_result"
    }
   ],
   "source": [
    "data.shape"
   ]
  },
  {
   "cell_type": "code",
   "execution_count": 15,
   "id": "b7946d13",
   "metadata": {
    "execution": {
     "iopub.execute_input": "2022-09-13T03:45:20.158941Z",
     "iopub.status.busy": "2022-09-13T03:45:20.158751Z",
     "iopub.status.idle": "2022-09-13T03:45:20.194455Z",
     "shell.execute_reply": "2022-09-13T03:45:20.193921Z"
    },
    "papermill": {
     "duration": 0.044192,
     "end_time": "2022-09-13T03:45:20.195784",
     "exception": false,
     "start_time": "2022-09-13T03:45:20.151592",
     "status": "completed"
    },
    "tags": []
   },
   "outputs": [
    {
     "data": {
      "text/html": [
       "<div>\n",
       "<style scoped>\n",
       "    .dataframe tbody tr th:only-of-type {\n",
       "        vertical-align: middle;\n",
       "    }\n",
       "\n",
       "    .dataframe tbody tr th {\n",
       "        vertical-align: top;\n",
       "    }\n",
       "\n",
       "    .dataframe thead th {\n",
       "        text-align: right;\n",
       "    }\n",
       "</style>\n",
       "<table border=\"1\" class=\"dataframe\">\n",
       "  <thead>\n",
       "    <tr style=\"text-align: right;\">\n",
       "      <th></th>\n",
       "      <th>UMAP1</th>\n",
       "      <th>UMAP2</th>\n",
       "      <th>UMAP3</th>\n",
       "      <th>UMAP4</th>\n",
       "      <th>UMAP5</th>\n",
       "      <th>UMAP6</th>\n",
       "      <th>UMAP7</th>\n",
       "      <th>UMAP8</th>\n",
       "      <th>UMAP9</th>\n",
       "      <th>UMAP10</th>\n",
       "      <th>...</th>\n",
       "      <th>UMAP41</th>\n",
       "      <th>UMAP42</th>\n",
       "      <th>UMAP43</th>\n",
       "      <th>UMAP44</th>\n",
       "      <th>UMAP45</th>\n",
       "      <th>UMAP46</th>\n",
       "      <th>UMAP47</th>\n",
       "      <th>UMAP48</th>\n",
       "      <th>UMAP49</th>\n",
       "      <th>UMAP50</th>\n",
       "    </tr>\n",
       "  </thead>\n",
       "  <tbody>\n",
       "    <tr>\n",
       "      <th>100001_raw-Food_weight</th>\n",
       "      <td>7.464392</td>\n",
       "      <td>4.526705</td>\n",
       "      <td>4.225008</td>\n",
       "      <td>7.029216</td>\n",
       "      <td>4.382023</td>\n",
       "      <td>4.502639</td>\n",
       "      <td>4.489128</td>\n",
       "      <td>5.381521</td>\n",
       "      <td>4.940668</td>\n",
       "      <td>4.068273</td>\n",
       "      <td>...</td>\n",
       "      <td>7.605533</td>\n",
       "      <td>8.805881</td>\n",
       "      <td>8.939267</td>\n",
       "      <td>9.142330</td>\n",
       "      <td>0.445703</td>\n",
       "      <td>8.213864</td>\n",
       "      <td>0.703600</td>\n",
       "      <td>9.307579</td>\n",
       "      <td>4.072986</td>\n",
       "      <td>9.349484</td>\n",
       "    </tr>\n",
       "    <tr>\n",
       "      <th>100002_raw-Energy</th>\n",
       "      <td>7.429606</td>\n",
       "      <td>4.536586</td>\n",
       "      <td>4.182258</td>\n",
       "      <td>7.069884</td>\n",
       "      <td>4.336564</td>\n",
       "      <td>4.421313</td>\n",
       "      <td>4.560764</td>\n",
       "      <td>5.324892</td>\n",
       "      <td>4.929991</td>\n",
       "      <td>3.999348</td>\n",
       "      <td>...</td>\n",
       "      <td>7.583344</td>\n",
       "      <td>8.843954</td>\n",
       "      <td>8.958254</td>\n",
       "      <td>9.086064</td>\n",
       "      <td>0.390866</td>\n",
       "      <td>8.235448</td>\n",
       "      <td>0.706651</td>\n",
       "      <td>9.296489</td>\n",
       "      <td>4.041227</td>\n",
       "      <td>9.304544</td>\n",
       "    </tr>\n",
       "    <tr>\n",
       "      <th>100003_raw-Protein</th>\n",
       "      <td>7.481067</td>\n",
       "      <td>4.513837</td>\n",
       "      <td>4.172322</td>\n",
       "      <td>7.040905</td>\n",
       "      <td>4.395445</td>\n",
       "      <td>4.439210</td>\n",
       "      <td>4.487803</td>\n",
       "      <td>5.379720</td>\n",
       "      <td>4.935718</td>\n",
       "      <td>4.107790</td>\n",
       "      <td>...</td>\n",
       "      <td>7.619069</td>\n",
       "      <td>8.802183</td>\n",
       "      <td>8.938434</td>\n",
       "      <td>9.114165</td>\n",
       "      <td>0.442892</td>\n",
       "      <td>8.227354</td>\n",
       "      <td>0.692944</td>\n",
       "      <td>9.355126</td>\n",
       "      <td>4.053129</td>\n",
       "      <td>9.361687</td>\n",
       "    </tr>\n",
       "    <tr>\n",
       "      <th>100004_raw-Fat</th>\n",
       "      <td>7.383680</td>\n",
       "      <td>4.351026</td>\n",
       "      <td>4.208352</td>\n",
       "      <td>6.941895</td>\n",
       "      <td>4.375668</td>\n",
       "      <td>4.538863</td>\n",
       "      <td>4.477001</td>\n",
       "      <td>5.397546</td>\n",
       "      <td>5.008193</td>\n",
       "      <td>4.069299</td>\n",
       "      <td>...</td>\n",
       "      <td>7.592715</td>\n",
       "      <td>8.820724</td>\n",
       "      <td>8.919216</td>\n",
       "      <td>9.157578</td>\n",
       "      <td>0.454712</td>\n",
       "      <td>8.220077</td>\n",
       "      <td>0.721550</td>\n",
       "      <td>9.364523</td>\n",
       "      <td>4.043874</td>\n",
       "      <td>9.397904</td>\n",
       "    </tr>\n",
       "    <tr>\n",
       "      <th>100005_raw-Carbohydrate</th>\n",
       "      <td>7.412931</td>\n",
       "      <td>4.435416</td>\n",
       "      <td>4.227693</td>\n",
       "      <td>7.014967</td>\n",
       "      <td>4.406798</td>\n",
       "      <td>4.510470</td>\n",
       "      <td>4.479080</td>\n",
       "      <td>5.451272</td>\n",
       "      <td>4.932745</td>\n",
       "      <td>4.147858</td>\n",
       "      <td>...</td>\n",
       "      <td>7.606691</td>\n",
       "      <td>8.841007</td>\n",
       "      <td>8.881571</td>\n",
       "      <td>9.157351</td>\n",
       "      <td>0.409341</td>\n",
       "      <td>8.236560</td>\n",
       "      <td>0.724239</td>\n",
       "      <td>9.336825</td>\n",
       "      <td>4.040252</td>\n",
       "      <td>9.386523</td>\n",
       "    </tr>\n",
       "  </tbody>\n",
       "</table>\n",
       "<p>5 rows × 50 columns</p>\n",
       "</div>"
      ],
      "text/plain": [
       "                            UMAP1     UMAP2     UMAP3     UMAP4     UMAP5  \\\n",
       "100001_raw-Food_weight   7.464392  4.526705  4.225008  7.029216  4.382023   \n",
       "100002_raw-Energy        7.429606  4.536586  4.182258  7.069884  4.336564   \n",
       "100003_raw-Protein       7.481067  4.513837  4.172322  7.040905  4.395445   \n",
       "100004_raw-Fat           7.383680  4.351026  4.208352  6.941895  4.375668   \n",
       "100005_raw-Carbohydrate  7.412931  4.435416  4.227693  7.014967  4.406798   \n",
       "\n",
       "                            UMAP6     UMAP7     UMAP8     UMAP9    UMAP10  \\\n",
       "100001_raw-Food_weight   4.502639  4.489128  5.381521  4.940668  4.068273   \n",
       "100002_raw-Energy        4.421313  4.560764  5.324892  4.929991  3.999348   \n",
       "100003_raw-Protein       4.439210  4.487803  5.379720  4.935718  4.107790   \n",
       "100004_raw-Fat           4.538863  4.477001  5.397546  5.008193  4.069299   \n",
       "100005_raw-Carbohydrate  4.510470  4.479080  5.451272  4.932745  4.147858   \n",
       "\n",
       "                         ...    UMAP41    UMAP42    UMAP43    UMAP44  \\\n",
       "100001_raw-Food_weight   ...  7.605533  8.805881  8.939267  9.142330   \n",
       "100002_raw-Energy        ...  7.583344  8.843954  8.958254  9.086064   \n",
       "100003_raw-Protein       ...  7.619069  8.802183  8.938434  9.114165   \n",
       "100004_raw-Fat           ...  7.592715  8.820724  8.919216  9.157578   \n",
       "100005_raw-Carbohydrate  ...  7.606691  8.841007  8.881571  9.157351   \n",
       "\n",
       "                           UMAP45    UMAP46    UMAP47    UMAP48    UMAP49  \\\n",
       "100001_raw-Food_weight   0.445703  8.213864  0.703600  9.307579  4.072986   \n",
       "100002_raw-Energy        0.390866  8.235448  0.706651  9.296489  4.041227   \n",
       "100003_raw-Protein       0.442892  8.227354  0.692944  9.355126  4.053129   \n",
       "100004_raw-Fat           0.454712  8.220077  0.721550  9.364523  4.043874   \n",
       "100005_raw-Carbohydrate  0.409341  8.236560  0.724239  9.336825  4.040252   \n",
       "\n",
       "                           UMAP50  \n",
       "100001_raw-Food_weight   9.349484  \n",
       "100002_raw-Energy        9.304544  \n",
       "100003_raw-Protein       9.361687  \n",
       "100004_raw-Fat           9.397904  \n",
       "100005_raw-Carbohydrate  9.386523  \n",
       "\n",
       "[5 rows x 50 columns]"
      ]
     },
     "execution_count": 15,
     "metadata": {},
     "output_type": "execute_result"
    }
   ],
   "source": [
    "data.head()"
   ]
  },
  {
   "cell_type": "code",
   "execution_count": 16,
   "id": "d1c24e81",
   "metadata": {
    "execution": {
     "iopub.execute_input": "2022-09-13T03:45:20.208202Z",
     "iopub.status.busy": "2022-09-13T03:45:20.208042Z",
     "iopub.status.idle": "2022-09-13T03:45:20.226196Z",
     "shell.execute_reply": "2022-09-13T03:45:20.225555Z"
    },
    "papermill": {
     "duration": 0.025913,
     "end_time": "2022-09-13T03:45:20.227708",
     "exception": false,
     "start_time": "2022-09-13T03:45:20.201795",
     "status": "completed"
    },
    "tags": []
   },
   "outputs": [],
   "source": [
    "assert not data.isna().any().any()"
   ]
  },
  {
   "cell_type": "markdown",
   "id": "a7e58baf",
   "metadata": {
    "papermill": {
     "duration": 0.005771,
     "end_time": "2022-09-13T03:45:20.239711",
     "exception": false,
     "start_time": "2022-09-13T03:45:20.233940",
     "status": "completed"
    },
    "tags": []
   },
   "source": [
    "## Clustering"
   ]
  },
  {
   "cell_type": "markdown",
   "id": "bde20f6e",
   "metadata": {
    "papermill": {
     "duration": 0.005758,
     "end_time": "2022-09-13T03:45:20.251269",
     "exception": false,
     "start_time": "2022-09-13T03:45:20.245511",
     "status": "completed"
    },
    "tags": []
   },
   "source": [
    "### Generate clusterers"
   ]
  },
  {
   "cell_type": "code",
   "execution_count": 17,
   "id": "62d4d79d",
   "metadata": {
    "execution": {
     "iopub.execute_input": "2022-09-13T03:45:20.263558Z",
     "iopub.status.busy": "2022-09-13T03:45:20.263270Z",
     "iopub.status.idle": "2022-09-13T03:45:20.286495Z",
     "shell.execute_reply": "2022-09-13T03:45:20.286047Z"
    },
    "papermill": {
     "duration": 0.030596,
     "end_time": "2022-09-13T03:45:20.287763",
     "exception": false,
     "start_time": "2022-09-13T03:45:20.257167",
     "status": "completed"
    },
    "tags": []
   },
   "outputs": [
    {
     "data": {
      "text/plain": [
       "{'K_RANGE': array([  2,   3,   4,   5,   6,   7,   8,   9,  10,  11,  12,  13,  14,\n",
       "         15,  16,  17,  18,  19,  20,  21,  22,  23,  24,  25,  26,  27,\n",
       "         28,  29,  30,  31,  32,  33,  34,  35,  36,  37,  38,  39,  40,\n",
       "         41,  42,  43,  44,  45,  46,  47,  48,  49,  50,  51,  52,  53,\n",
       "         54,  55,  56,  57,  58,  59,  60,  61,  62,  63,  64,  65,  66,\n",
       "         67,  68,  69,  70,  71,  72,  73,  74,  75,  76,  77,  78,  79,\n",
       "         80,  81,  82,  83,  84,  85,  86,  87,  88,  89,  90,  91,  92,\n",
       "         93,  94,  95,  96,  97,  98,  99, 100, 101, 102, 103, 104, 105,\n",
       "        106, 107, 108, 109, 110, 111, 112, 113, 114, 115, 116, 117, 118,\n",
       "        119, 120, 121, 122, 123, 124, 125]),\n",
       " 'EPS_RANGE_PER_K': {2: (0.23, 0.8),\n",
       "  3: (0.23, 0.8),\n",
       "  4: (0.23, 0.8),\n",
       "  5: (0.3, 0.8),\n",
       "  6: (0.3, 0.8),\n",
       "  7: (0.3, 0.8),\n",
       "  8: (0.3, 0.8),\n",
       "  9: (0.3, 0.8),\n",
       "  10: (0.4, 2.5),\n",
       "  11: (0.4, 2.5),\n",
       "  12: (0.4, 2.5),\n",
       "  13: (0.4, 2.5),\n",
       "  14: (0.4, 2.5),\n",
       "  15: (0.4, 2.5),\n",
       "  16: (0.4, 2.5),\n",
       "  17: (0.4, 2.5),\n",
       "  18: (0.4, 2.5),\n",
       "  19: (0.4, 2.5),\n",
       "  20: (0.4, 7.0),\n",
       "  21: (0.4, 7.0),\n",
       "  22: (0.4, 7.0),\n",
       "  23: (0.4, 7.0),\n",
       "  24: (0.4, 7.0),\n",
       "  25: (0.4, 7.0),\n",
       "  26: (0.4, 7.0),\n",
       "  27: (0.4, 7.0),\n",
       "  28: (0.4, 7.0),\n",
       "  29: (0.4, 7.0),\n",
       "  30: (0.4, 7.0),\n",
       "  31: (0.4, 7.0),\n",
       "  32: (0.4, 7.0),\n",
       "  33: (0.4, 7.0),\n",
       "  34: (0.4, 7.0),\n",
       "  35: (0.4, 7.0),\n",
       "  36: (0.4, 7.0),\n",
       "  37: (0.4, 7.0),\n",
       "  38: (0.4, 7.0),\n",
       "  39: (0.4, 7.0),\n",
       "  40: (0.4, 7.0),\n",
       "  41: (0.4, 7.0),\n",
       "  42: (0.4, 7.0),\n",
       "  43: (0.4, 7.0),\n",
       "  44: (0.4, 7.0),\n",
       "  45: (0.4, 7.0),\n",
       "  46: (0.4, 7.0),\n",
       "  47: (0.4, 7.0),\n",
       "  48: (0.4, 7.0),\n",
       "  49: (0.4, 7.0),\n",
       "  50: (0.5, 10.0),\n",
       "  51: (0.5, 10.0),\n",
       "  52: (0.5, 10.0),\n",
       "  53: (0.5, 10.0),\n",
       "  54: (0.5, 10.0),\n",
       "  55: (0.5, 10.0),\n",
       "  56: (0.5, 10.0),\n",
       "  57: (0.5, 10.0),\n",
       "  58: (0.5, 10.0),\n",
       "  59: (0.5, 10.0),\n",
       "  60: (0.5, 10.0),\n",
       "  61: (0.5, 10.0),\n",
       "  62: (0.5, 10.0),\n",
       "  63: (0.5, 10.0),\n",
       "  64: (0.5, 10.0),\n",
       "  65: (0.5, 10.0),\n",
       "  66: (0.5, 10.0),\n",
       "  67: (0.5, 10.0),\n",
       "  68: (0.5, 10.0),\n",
       "  69: (0.5, 10.0),\n",
       "  70: (0.5, 10.0),\n",
       "  71: (0.5, 10.0),\n",
       "  72: (0.5, 10.0),\n",
       "  73: (0.5, 10.0),\n",
       "  74: (0.5, 10.0),\n",
       "  75: (0.5, 10.0),\n",
       "  76: (0.5, 10.0),\n",
       "  77: (0.5, 10.0),\n",
       "  78: (0.5, 10.0),\n",
       "  79: (0.5, 10.0),\n",
       "  80: (0.5, 10.0),\n",
       "  81: (0.5, 10.0),\n",
       "  82: (0.5, 10.0),\n",
       "  83: (0.5, 10.0),\n",
       "  84: (0.5, 10.0),\n",
       "  85: (0.5, 10.0),\n",
       "  86: (0.5, 10.0),\n",
       "  87: (0.5, 10.0),\n",
       "  88: (0.5, 10.0),\n",
       "  89: (0.5, 10.0),\n",
       "  90: (0.5, 10.0),\n",
       "  91: (0.5, 10.0),\n",
       "  92: (0.5, 10.0),\n",
       "  93: (0.5, 10.0),\n",
       "  94: (0.5, 10.0),\n",
       "  95: (0.5, 10.0),\n",
       "  96: (0.5, 10.0),\n",
       "  97: (0.5, 10.0),\n",
       "  98: (0.5, 10.0),\n",
       "  99: (0.5, 10.0),\n",
       "  100: (0.5, 10.0),\n",
       "  101: (0.5, 10.0),\n",
       "  102: (0.5, 10.0),\n",
       "  103: (0.5, 10.0),\n",
       "  104: (0.5, 10.0),\n",
       "  105: (0.5, 10.0),\n",
       "  106: (0.5, 10.0),\n",
       "  107: (0.5, 10.0),\n",
       "  108: (0.5, 10.0),\n",
       "  109: (0.5, 10.0),\n",
       "  110: (0.5, 10.0),\n",
       "  111: (0.5, 10.0),\n",
       "  112: (0.5, 10.0),\n",
       "  113: (0.5, 10.0),\n",
       "  114: (0.5, 10.0),\n",
       "  115: (0.5, 10.0),\n",
       "  116: (0.5, 10.0),\n",
       "  117: (0.5, 10.0),\n",
       "  118: (0.5, 10.0),\n",
       "  119: (0.5, 10.0),\n",
       "  120: (0.5, 10.0),\n",
       "  121: (0.5, 10.0),\n",
       "  122: (0.5, 10.0),\n",
       "  123: (0.5, 10.0),\n",
       "  124: (0.5, 10.0),\n",
       "  125: (0.5, 10.0)},\n",
       " 'EPS_STEP': 33,\n",
       " 'METRIC': 'euclidean'}"
      ]
     },
     "metadata": {},
     "output_type": "display_data"
    }
   ],
   "source": [
    "CLUSTERING_OPTIONS = {}\n",
    "\n",
    "# K_RANGE is the min_samples parameter in DBSCAN (sklearn)\n",
    "CLUSTERING_OPTIONS[\"K_RANGE\"] = k_values\n",
    "CLUSTERING_OPTIONS[\"EPS_RANGE_PER_K\"] = eps_range_per_k\n",
    "CLUSTERING_OPTIONS[\"EPS_STEP\"] = 33\n",
    "CLUSTERING_OPTIONS[\"METRIC\"] = \"euclidean\"\n",
    "\n",
    "display(CLUSTERING_OPTIONS)"
   ]
  },
  {
   "cell_type": "code",
   "execution_count": 18,
   "id": "f84cdcfc",
   "metadata": {
    "execution": {
     "iopub.execute_input": "2022-09-13T03:45:20.300180Z",
     "iopub.status.busy": "2022-09-13T03:45:20.300022Z",
     "iopub.status.idle": "2022-09-13T03:45:20.333038Z",
     "shell.execute_reply": "2022-09-13T03:45:20.332397Z"
    },
    "papermill": {
     "duration": 0.040859,
     "end_time": "2022-09-13T03:45:20.334481",
     "exception": false,
     "start_time": "2022-09-13T03:45:20.293622",
     "status": "completed"
    },
    "tags": []
   },
   "outputs": [],
   "source": [
    "CLUSTERERS = {}\n",
    "\n",
    "idx = 0\n",
    "\n",
    "for k in CLUSTERING_OPTIONS[\"K_RANGE\"]:\n",
    "    eps_range = CLUSTERING_OPTIONS[\"EPS_RANGE_PER_K\"][k]\n",
    "    eps_values = np.linspace(eps_range[0], eps_range[1], CLUSTERING_OPTIONS[\"EPS_STEP\"])\n",
    "\n",
    "    for eps in eps_values:\n",
    "        clus = DBSCAN(min_samples=k, eps=eps, metric=\"precomputed\", n_jobs=N_JOBS)\n",
    "\n",
    "        method_name = type(clus).__name__\n",
    "        CLUSTERERS[f\"{method_name} #{idx}\"] = clus\n",
    "\n",
    "        idx = idx + 1"
   ]
  },
  {
   "cell_type": "code",
   "execution_count": 19,
   "id": "d2096f2f",
   "metadata": {
    "execution": {
     "iopub.execute_input": "2022-09-13T03:45:20.347090Z",
     "iopub.status.busy": "2022-09-13T03:45:20.346272Z",
     "iopub.status.idle": "2022-09-13T03:45:20.364357Z",
     "shell.execute_reply": "2022-09-13T03:45:20.363892Z"
    },
    "papermill": {
     "duration": 0.025372,
     "end_time": "2022-09-13T03:45:20.365611",
     "exception": false,
     "start_time": "2022-09-13T03:45:20.340239",
     "status": "completed"
    },
    "tags": []
   },
   "outputs": [
    {
     "data": {
      "text/plain": [
       "4092"
      ]
     },
     "metadata": {},
     "output_type": "display_data"
    }
   ],
   "source": [
    "display(len(CLUSTERERS))"
   ]
  },
  {
   "cell_type": "code",
   "execution_count": 20,
   "id": "ebdbd9fc",
   "metadata": {
    "execution": {
     "iopub.execute_input": "2022-09-13T03:45:20.378492Z",
     "iopub.status.busy": "2022-09-13T03:45:20.378332Z",
     "iopub.status.idle": "2022-09-13T03:45:20.398989Z",
     "shell.execute_reply": "2022-09-13T03:45:20.398316Z"
    },
    "papermill": {
     "duration": 0.02859,
     "end_time": "2022-09-13T03:45:20.400332",
     "exception": false,
     "start_time": "2022-09-13T03:45:20.371742",
     "status": "completed"
    },
    "tags": []
   },
   "outputs": [
    {
     "data": {
      "text/plain": [
       "('DBSCAN #0', DBSCAN(eps=0.23, metric='precomputed', min_samples=2, n_jobs=3))"
      ]
     },
     "metadata": {},
     "output_type": "display_data"
    },
    {
     "data": {
      "text/plain": [
       "('DBSCAN #1',\n",
       " DBSCAN(eps=0.24781250000000002, metric='precomputed', min_samples=2, n_jobs=3))"
      ]
     },
     "metadata": {},
     "output_type": "display_data"
    }
   ],
   "source": [
    "_iter = iter(CLUSTERERS.items())\n",
    "display(next(_iter))\n",
    "display(next(_iter))"
   ]
  },
  {
   "cell_type": "code",
   "execution_count": 21,
   "id": "5327f6bb",
   "metadata": {
    "execution": {
     "iopub.execute_input": "2022-09-13T03:45:20.413767Z",
     "iopub.status.busy": "2022-09-13T03:45:20.413601Z",
     "iopub.status.idle": "2022-09-13T03:45:20.432127Z",
     "shell.execute_reply": "2022-09-13T03:45:20.431490Z"
    },
    "papermill": {
     "duration": 0.026799,
     "end_time": "2022-09-13T03:45:20.433467",
     "exception": false,
     "start_time": "2022-09-13T03:45:20.406668",
     "status": "completed"
    },
    "tags": []
   },
   "outputs": [
    {
     "data": {
      "text/plain": [
       "'DBSCAN'"
      ]
     },
     "metadata": {},
     "output_type": "display_data"
    }
   ],
   "source": [
    "clustering_method_name = method_name\n",
    "display(clustering_method_name)"
   ]
  },
  {
   "cell_type": "markdown",
   "id": "c461a442",
   "metadata": {
    "papermill": {
     "duration": 0.006205,
     "end_time": "2022-09-13T03:45:20.446221",
     "exception": false,
     "start_time": "2022-09-13T03:45:20.440016",
     "status": "completed"
    },
    "tags": []
   },
   "source": [
    "### Generate ensemble"
   ]
  },
  {
   "cell_type": "code",
   "execution_count": 22,
   "id": "5db582ca",
   "metadata": {
    "execution": {
     "iopub.execute_input": "2022-09-13T03:45:20.459296Z",
     "iopub.status.busy": "2022-09-13T03:45:20.459055Z",
     "iopub.status.idle": "2022-09-13T03:45:20.585705Z",
     "shell.execute_reply": "2022-09-13T03:45:20.585138Z"
    },
    "papermill": {
     "duration": 0.134466,
     "end_time": "2022-09-13T03:45:20.587072",
     "exception": false,
     "start_time": "2022-09-13T03:45:20.452606",
     "status": "completed"
    },
    "tags": []
   },
   "outputs": [],
   "source": [
    "data_dist = pairwise_distances(data, metric=CLUSTERING_OPTIONS[\"METRIC\"])"
   ]
  },
  {
   "cell_type": "code",
   "execution_count": 23,
   "id": "4f7a25d5",
   "metadata": {
    "execution": {
     "iopub.execute_input": "2022-09-13T03:45:20.600585Z",
     "iopub.status.busy": "2022-09-13T03:45:20.600067Z",
     "iopub.status.idle": "2022-09-13T03:45:20.618816Z",
     "shell.execute_reply": "2022-09-13T03:45:20.618156Z"
    },
    "papermill": {
     "duration": 0.026992,
     "end_time": "2022-09-13T03:45:20.620272",
     "exception": false,
     "start_time": "2022-09-13T03:45:20.593280",
     "status": "completed"
    },
    "tags": []
   },
   "outputs": [
    {
     "data": {
      "text/plain": [
       "(3752, 3752)"
      ]
     },
     "execution_count": 23,
     "metadata": {},
     "output_type": "execute_result"
    }
   ],
   "source": [
    "data_dist.shape"
   ]
  },
  {
   "cell_type": "code",
   "execution_count": 24,
   "id": "2da87d4a",
   "metadata": {
    "execution": {
     "iopub.execute_input": "2022-09-13T03:45:20.633564Z",
     "iopub.status.busy": "2022-09-13T03:45:20.633355Z",
     "iopub.status.idle": "2022-09-13T03:45:21.039346Z",
     "shell.execute_reply": "2022-09-13T03:45:21.038844Z"
    },
    "papermill": {
     "duration": 0.41427,
     "end_time": "2022-09-13T03:45:21.040618",
     "exception": false,
     "start_time": "2022-09-13T03:45:20.626348",
     "status": "completed"
    },
    "tags": []
   },
   "outputs": [
    {
     "data": {
      "text/plain": [
       "count            14077504.0\n",
       "mean     3.2736024856567383\n",
       "std      1.2641901969909668\n",
       "min                     0.0\n",
       "25%      2.2988908886909485\n",
       "50%      3.5725321769714355\n",
       "75%       4.298855423927307\n",
       "max        5.88734769821167\n",
       "dtype: object"
      ]
     },
     "execution_count": 24,
     "metadata": {},
     "output_type": "execute_result"
    }
   ],
   "source": [
    "pd.Series(data_dist.flatten()).describe().apply(str)"
   ]
  },
  {
   "cell_type": "code",
   "execution_count": 25,
   "id": "354f27d5",
   "metadata": {
    "execution": {
     "iopub.execute_input": "2022-09-13T03:45:21.053881Z",
     "iopub.status.busy": "2022-09-13T03:45:21.053693Z",
     "iopub.status.idle": "2022-09-13T03:55:52.059504Z",
     "shell.execute_reply": "2022-09-13T03:55:52.058210Z"
    },
    "papermill": {
     "duration": 631.015665,
     "end_time": "2022-09-13T03:55:52.062578",
     "exception": false,
     "start_time": "2022-09-13T03:45:21.046913",
     "status": "completed"
    },
    "tags": []
   },
   "outputs": [
    {
     "name": "stderr",
     "output_type": "stream",
     "text": [
      "100%|██████████| 4092/4092 [10:30<00:00,  6.49it/s]\n"
     ]
    }
   ],
   "source": [
    "ensemble = generate_ensemble(\n",
    "    data_dist,\n",
    "    CLUSTERERS,\n",
    "    attributes=CLUSTERING_ATTRIBUTES_TO_SAVE,\n",
    ")"
   ]
  },
  {
   "cell_type": "code",
   "execution_count": 26,
   "id": "743a7ac4",
   "metadata": {
    "execution": {
     "iopub.execute_input": "2022-09-13T03:55:52.362875Z",
     "iopub.status.busy": "2022-09-13T03:55:52.362654Z",
     "iopub.status.idle": "2022-09-13T03:55:52.381141Z",
     "shell.execute_reply": "2022-09-13T03:55:52.380560Z"
    },
    "papermill": {
     "duration": 0.146142,
     "end_time": "2022-09-13T03:55:52.382349",
     "exception": false,
     "start_time": "2022-09-13T03:55:52.236207",
     "status": "completed"
    },
    "tags": []
   },
   "outputs": [
    {
     "data": {
      "text/plain": [
       "(287, 3)"
      ]
     },
     "execution_count": 26,
     "metadata": {},
     "output_type": "execute_result"
    }
   ],
   "source": [
    "ensemble.shape"
   ]
  },
  {
   "cell_type": "code",
   "execution_count": 27,
   "id": "67ae0a58",
   "metadata": {
    "execution": {
     "iopub.execute_input": "2022-09-13T03:55:52.633723Z",
     "iopub.status.busy": "2022-09-13T03:55:52.633025Z",
     "iopub.status.idle": "2022-09-13T03:55:52.659099Z",
     "shell.execute_reply": "2022-09-13T03:55:52.658436Z"
    },
    "papermill": {
     "duration": 0.1528,
     "end_time": "2022-09-13T03:55:52.660319",
     "exception": false,
     "start_time": "2022-09-13T03:55:52.507519",
     "status": "completed"
    },
    "tags": []
   },
   "outputs": [
    {
     "data": {
      "text/html": [
       "<div>\n",
       "<style scoped>\n",
       "    .dataframe tbody tr th:only-of-type {\n",
       "        vertical-align: middle;\n",
       "    }\n",
       "\n",
       "    .dataframe tbody tr th {\n",
       "        vertical-align: top;\n",
       "    }\n",
       "\n",
       "    .dataframe thead th {\n",
       "        text-align: right;\n",
       "    }\n",
       "</style>\n",
       "<table border=\"1\" class=\"dataframe\">\n",
       "  <thead>\n",
       "    <tr style=\"text-align: right;\">\n",
       "      <th></th>\n",
       "      <th>clusterer_params</th>\n",
       "      <th>partition</th>\n",
       "      <th>n_clusters</th>\n",
       "    </tr>\n",
       "    <tr>\n",
       "      <th>clusterer_id</th>\n",
       "      <th></th>\n",
       "      <th></th>\n",
       "      <th></th>\n",
       "    </tr>\n",
       "  </thead>\n",
       "  <tbody>\n",
       "    <tr>\n",
       "      <th>DBSCAN #0</th>\n",
       "      <td>{'algorithm': 'auto', 'eps': 0.23, 'leaf_size'...</td>\n",
       "      <td>[0.0, nan, nan, nan, 0.0, nan, nan, 0.0, nan, ...</td>\n",
       "      <td>23</td>\n",
       "    </tr>\n",
       "    <tr>\n",
       "      <th>DBSCAN #1</th>\n",
       "      <td>{'algorithm': 'auto', 'eps': 0.247812500000000...</td>\n",
       "      <td>[0.0, nan, 1.0, nan, 0.0, nan, 0.0, 0.0, nan, ...</td>\n",
       "      <td>14</td>\n",
       "    </tr>\n",
       "    <tr>\n",
       "      <th>DBSCAN #2</th>\n",
       "      <td>{'algorithm': 'auto', 'eps': 0.265625, 'leaf_s...</td>\n",
       "      <td>[0.0, nan, 0.0, 0.0, 0.0, nan, 0.0, 0.0, nan, ...</td>\n",
       "      <td>4</td>\n",
       "    </tr>\n",
       "    <tr>\n",
       "      <th>DBSCAN #3</th>\n",
       "      <td>{'algorithm': 'auto', 'eps': 0.2834375, 'leaf_...</td>\n",
       "      <td>[0.0, nan, 0.0, 0.0, 0.0, nan, 0.0, 0.0, nan, ...</td>\n",
       "      <td>3</td>\n",
       "    </tr>\n",
       "    <tr>\n",
       "      <th>DBSCAN #4</th>\n",
       "      <td>{'algorithm': 'auto', 'eps': 0.30125, 'leaf_si...</td>\n",
       "      <td>[0.0, nan, 0.0, 0.0, 0.0, nan, 0.0, 0.0, 0.0, ...</td>\n",
       "      <td>2</td>\n",
       "    </tr>\n",
       "  </tbody>\n",
       "</table>\n",
       "</div>"
      ],
      "text/plain": [
       "                                               clusterer_params  \\\n",
       "clusterer_id                                                      \n",
       "DBSCAN #0     {'algorithm': 'auto', 'eps': 0.23, 'leaf_size'...   \n",
       "DBSCAN #1     {'algorithm': 'auto', 'eps': 0.247812500000000...   \n",
       "DBSCAN #2     {'algorithm': 'auto', 'eps': 0.265625, 'leaf_s...   \n",
       "DBSCAN #3     {'algorithm': 'auto', 'eps': 0.2834375, 'leaf_...   \n",
       "DBSCAN #4     {'algorithm': 'auto', 'eps': 0.30125, 'leaf_si...   \n",
       "\n",
       "                                                      partition  n_clusters  \n",
       "clusterer_id                                                                 \n",
       "DBSCAN #0     [0.0, nan, nan, nan, 0.0, nan, nan, 0.0, nan, ...          23  \n",
       "DBSCAN #1     [0.0, nan, 1.0, nan, 0.0, nan, 0.0, 0.0, nan, ...          14  \n",
       "DBSCAN #2     [0.0, nan, 0.0, 0.0, 0.0, nan, 0.0, 0.0, nan, ...           4  \n",
       "DBSCAN #3     [0.0, nan, 0.0, 0.0, 0.0, nan, 0.0, 0.0, nan, ...           3  \n",
       "DBSCAN #4     [0.0, nan, 0.0, 0.0, 0.0, nan, 0.0, 0.0, 0.0, ...           2  "
      ]
     },
     "execution_count": 27,
     "metadata": {},
     "output_type": "execute_result"
    }
   ],
   "source": [
    "ensemble.head()"
   ]
  },
  {
   "cell_type": "code",
   "execution_count": 28,
   "id": "6d4a10cc",
   "metadata": {
    "execution": {
     "iopub.execute_input": "2022-09-13T03:55:52.914741Z",
     "iopub.status.busy": "2022-09-13T03:55:52.914283Z",
     "iopub.status.idle": "2022-09-13T03:55:52.939711Z",
     "shell.execute_reply": "2022-09-13T03:55:52.937992Z"
    },
    "papermill": {
     "duration": 0.153081,
     "end_time": "2022-09-13T03:55:52.940918",
     "exception": false,
     "start_time": "2022-09-13T03:55:52.787837",
     "status": "completed"
    },
    "tags": []
   },
   "outputs": [
    {
     "data": {
      "text/plain": [
       "2    232\n",
       "5     13\n",
       "6     10\n",
       "3      9\n",
       "7      6\n",
       "Name: n_clusters, dtype: int64"
      ]
     },
     "execution_count": 28,
     "metadata": {},
     "output_type": "execute_result"
    }
   ],
   "source": [
    "ensemble[\"n_clusters\"].value_counts().head()"
   ]
  },
  {
   "cell_type": "code",
   "execution_count": 29,
   "id": "386fc623",
   "metadata": {
    "execution": {
     "iopub.execute_input": "2022-09-13T03:55:53.218847Z",
     "iopub.status.busy": "2022-09-13T03:55:53.218404Z",
     "iopub.status.idle": "2022-09-13T03:55:53.238354Z",
     "shell.execute_reply": "2022-09-13T03:55:53.237895Z"
    },
    "papermill": {
     "duration": 0.145047,
     "end_time": "2022-09-13T03:55:53.239580",
     "exception": false,
     "start_time": "2022-09-13T03:55:53.094533",
     "status": "completed"
    },
    "tags": []
   },
   "outputs": [
    {
     "data": {
      "text/plain": [
       "count    287.000000\n",
       "mean       2.777003\n",
       "std        2.112010\n",
       "min        2.000000\n",
       "25%        2.000000\n",
       "50%        2.000000\n",
       "75%        2.000000\n",
       "max       23.000000\n",
       "Name: n_clusters, dtype: float64"
      ]
     },
     "metadata": {},
     "output_type": "display_data"
    }
   ],
   "source": [
    "ensemble_stats = ensemble[\"n_clusters\"].describe()\n",
    "display(ensemble_stats)"
   ]
  },
  {
   "cell_type": "code",
   "execution_count": 30,
   "id": "cef9fa77",
   "metadata": {
    "execution": {
     "iopub.execute_input": "2022-09-13T03:55:53.490805Z",
     "iopub.status.busy": "2022-09-13T03:55:53.490067Z",
     "iopub.status.idle": "2022-09-13T03:55:53.507467Z",
     "shell.execute_reply": "2022-09-13T03:55:53.506991Z"
    },
    "papermill": {
     "duration": 0.144264,
     "end_time": "2022-09-13T03:55:53.508720",
     "exception": false,
     "start_time": "2022-09-13T03:55:53.364456",
     "status": "completed"
    },
    "tags": []
   },
   "outputs": [],
   "source": [
    "assert (\n",
    "    ensemble.shape[0] > 0\n",
    "), \"Ensemble is empty, stopping here (this is not actually an error if running null simulations)\""
   ]
  },
  {
   "cell_type": "markdown",
   "id": "df03398a",
   "metadata": {
    "papermill": {
     "duration": 0.12273,
     "end_time": "2022-09-13T03:55:53.754515",
     "exception": false,
     "start_time": "2022-09-13T03:55:53.631785",
     "status": "completed"
    },
    "tags": []
   },
   "source": [
    "### Testing"
   ]
  },
  {
   "cell_type": "code",
   "execution_count": 31,
   "id": "6bbebef5",
   "metadata": {
    "execution": {
     "iopub.execute_input": "2022-09-13T03:55:54.039957Z",
     "iopub.status.busy": "2022-09-13T03:55:54.039801Z",
     "iopub.status.idle": "2022-09-13T03:55:54.056846Z",
     "shell.execute_reply": "2022-09-13T03:55:54.056315Z"
    },
    "papermill": {
     "duration": 0.149435,
     "end_time": "2022-09-13T03:55:54.058198",
     "exception": false,
     "start_time": "2022-09-13T03:55:53.908763",
     "status": "completed"
    },
    "tags": []
   },
   "outputs": [],
   "source": [
    "assert ensemble_stats[\"min\"] > 1"
   ]
  },
  {
   "cell_type": "code",
   "execution_count": 32,
   "id": "13bfd3fd",
   "metadata": {
    "execution": {
     "iopub.execute_input": "2022-09-13T03:55:54.308117Z",
     "iopub.status.busy": "2022-09-13T03:55:54.307937Z",
     "iopub.status.idle": "2022-09-13T03:55:54.325772Z",
     "shell.execute_reply": "2022-09-13T03:55:54.325064Z"
    },
    "papermill": {
     "duration": 0.143582,
     "end_time": "2022-09-13T03:55:54.327146",
     "exception": false,
     "start_time": "2022-09-13T03:55:54.183564",
     "status": "completed"
    },
    "tags": []
   },
   "outputs": [],
   "source": [
    "assert not ensemble[\"n_clusters\"].isna().any()"
   ]
  },
  {
   "cell_type": "code",
   "execution_count": 33,
   "id": "f3ececba",
   "metadata": {
    "execution": {
     "iopub.execute_input": "2022-09-13T03:55:54.578146Z",
     "iopub.status.busy": "2022-09-13T03:55:54.577941Z",
     "iopub.status.idle": "2022-09-13T03:55:54.595056Z",
     "shell.execute_reply": "2022-09-13T03:55:54.594565Z"
    },
    "papermill": {
     "duration": 0.142773,
     "end_time": "2022-09-13T03:55:54.596369",
     "exception": false,
     "start_time": "2022-09-13T03:55:54.453596",
     "status": "completed"
    },
    "tags": []
   },
   "outputs": [],
   "source": [
    "# assert ensemble.shape[0] == len(CLUSTERERS)"
   ]
  },
  {
   "cell_type": "code",
   "execution_count": 34,
   "id": "db86bded",
   "metadata": {
    "execution": {
     "iopub.execute_input": "2022-09-13T03:55:54.878751Z",
     "iopub.status.busy": "2022-09-13T03:55:54.878302Z",
     "iopub.status.idle": "2022-09-13T03:55:54.913992Z",
     "shell.execute_reply": "2022-09-13T03:55:54.913445Z"
    },
    "papermill": {
     "duration": 0.162286,
     "end_time": "2022-09-13T03:55:54.915289",
     "exception": false,
     "start_time": "2022-09-13T03:55:54.753003",
     "status": "completed"
    },
    "tags": []
   },
   "outputs": [],
   "source": [
    "# all partitions have the right size\n",
    "assert np.all(\n",
    "    [part[\"partition\"].shape[0] == data.shape[0] for idx, part in ensemble.iterrows()]\n",
    ")"
   ]
  },
  {
   "cell_type": "code",
   "execution_count": 35,
   "id": "e0663b13",
   "metadata": {
    "execution": {
     "iopub.execute_input": "2022-09-13T03:55:55.166544Z",
     "iopub.status.busy": "2022-09-13T03:55:55.166328Z",
     "iopub.status.idle": "2022-09-13T03:55:55.204678Z",
     "shell.execute_reply": "2022-09-13T03:55:55.204104Z"
    },
    "papermill": {
     "duration": 0.16364,
     "end_time": "2022-09-13T03:55:55.206172",
     "exception": false,
     "start_time": "2022-09-13T03:55:55.042532",
     "status": "completed"
    },
    "tags": []
   },
   "outputs": [],
   "source": [
    "# no partition has negative clusters (noisy points)\n",
    "assert not np.any([(part[\"partition\"] < 0).any() for idx, part in ensemble.iterrows()])"
   ]
  },
  {
   "cell_type": "markdown",
   "id": "a39424f4",
   "metadata": {
    "papermill": {
     "duration": 0.155767,
     "end_time": "2022-09-13T03:55:55.486312",
     "exception": false,
     "start_time": "2022-09-13T03:55:55.330545",
     "status": "completed"
    },
    "tags": []
   },
   "source": [
    "### Save"
   ]
  },
  {
   "cell_type": "code",
   "execution_count": 36,
   "id": "7b804a12",
   "metadata": {
    "execution": {
     "iopub.execute_input": "2022-09-13T03:55:55.738115Z",
     "iopub.status.busy": "2022-09-13T03:55:55.737542Z",
     "iopub.status.idle": "2022-09-13T03:55:55.755661Z",
     "shell.execute_reply": "2022-09-13T03:55:55.755171Z"
    },
    "papermill": {
     "duration": 0.144676,
     "end_time": "2022-09-13T03:55:55.756839",
     "exception": false,
     "start_time": "2022-09-13T03:55:55.612163",
     "status": "completed"
    },
    "tags": []
   },
   "outputs": [
    {
     "data": {
      "text/plain": [
       "PosixPath('/opt/data/results/clustering/null_sims/runs/umap-z_score_std-projection-smultixcan-efo_partial-mashr-zscores/DBSCAN.pkl')"
      ]
     },
     "metadata": {},
     "output_type": "display_data"
    }
   ],
   "source": [
    "output_filename = Path(\n",
    "    RESULTS_DIR,\n",
    "    generate_result_set_name(\n",
    "        {},\n",
    "        #         CLUSTERING_OPTIONS,\n",
    "        prefix=f\"{clustering_method_name}\",\n",
    "        suffix=\".pkl\",\n",
    "    ),\n",
    ").resolve()\n",
    "display(output_filename)"
   ]
  },
  {
   "cell_type": "code",
   "execution_count": 37,
   "id": "45336963",
   "metadata": {
    "execution": {
     "iopub.execute_input": "2022-09-13T03:55:56.009564Z",
     "iopub.status.busy": "2022-09-13T03:55:56.009372Z",
     "iopub.status.idle": "2022-09-13T03:55:56.035928Z",
     "shell.execute_reply": "2022-09-13T03:55:56.035450Z"
    },
    "papermill": {
     "duration": 0.155646,
     "end_time": "2022-09-13T03:55:56.037351",
     "exception": false,
     "start_time": "2022-09-13T03:55:55.881705",
     "status": "completed"
    },
    "tags": []
   },
   "outputs": [],
   "source": [
    "ensemble.to_pickle(output_filename)"
   ]
  },
  {
   "cell_type": "code",
   "execution_count": null,
   "id": "33572324",
   "metadata": {
    "papermill": {
     "duration": 0.154837,
     "end_time": "2022-09-13T03:55:56.317016",
     "exception": false,
     "start_time": "2022-09-13T03:55:56.162179",
     "status": "completed"
    },
    "tags": []
   },
   "outputs": [],
   "source": []
  }
 ],
 "metadata": {
  "jupytext": {
   "cell_metadata_filter": "all,-execution,-papermill,-trusted",
   "formats": "ipynb,py//py:percent"
  },
  "kernelspec": {
   "display_name": "Python 3 (ipykernel)",
   "language": "python",
   "name": "python3"
  },
  "language_info": {
   "codemirror_mode": {
    "name": "ipython",
    "version": 3
   },
   "file_extension": ".py",
   "mimetype": "text/x-python",
   "name": "python",
   "nbconvert_exporter": "python",
   "pygments_lexer": "ipython3",
   "version": "3.8.13"
  },
  "papermill": {
   "default_parameters": {},
   "duration": 639.083292,
   "end_time": "2022-09-13T03:55:56.765808",
   "environment_variables": {},
   "exception": null,
   "input_path": "nbs/13.1_cluster_analysis_null/12_02-dbscan-umap.ipynb",
   "output_path": "nbs/13.1_cluster_analysis_null/12_02-dbscan-umap.run.ipynb",
   "parameters": {},
   "start_time": "2022-09-13T03:45:17.682516",
   "version": "2.2.2"
  },
  "toc-autonumbering": true,
  "toc-showcode": false,
  "toc-showmarkdowntxt": false,
  "toc-showtags": false
 },
 "nbformat": 4,
 "nbformat_minor": 5
}
