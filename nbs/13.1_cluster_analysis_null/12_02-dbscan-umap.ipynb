{
 "cells": [
  {
   "cell_type": "markdown",
   "metadata": {
    "papermill": {
     "duration": 0.011955,
     "end_time": "2021-03-10T01:47:54.017121",
     "exception": false,
     "start_time": "2021-03-10T01:47:54.005166",
     "status": "completed"
    },
    "tags": []
   },
   "source": [
    "# Description"
   ]
  },
  {
   "cell_type": "markdown",
   "metadata": {
    "papermill": {
     "duration": 0.011843,
     "end_time": "2021-03-10T01:47:54.055232",
     "exception": false,
     "start_time": "2021-03-10T01:47:54.043389",
     "status": "completed"
    },
    "tags": []
   },
   "source": [
    "It runs DBSCAN on the `umap` version of the data.\n",
    "\n",
    "The notebook explores different values for `min_samples` and `eps` (the main parameters of DBSCAN)."
   ]
  },
  {
   "cell_type": "markdown",
   "metadata": {
    "papermill": {
     "duration": 0.006988,
     "end_time": "2021-03-10T01:47:54.070756",
     "exception": false,
     "start_time": "2021-03-10T01:47:54.063768",
     "status": "completed"
    },
    "tags": []
   },
   "source": [
    "# Environment variables"
   ]
  },
  {
   "cell_type": "code",
   "execution_count": null,
   "metadata": {
    "papermill": {
     "duration": 0.023451,
     "end_time": "2021-03-10T01:47:54.101285",
     "exception": false,
     "start_time": "2021-03-10T01:47:54.077834",
     "status": "completed"
    },
    "tags": []
   },
   "outputs": [],
   "source": [
    "from IPython.display import display\n",
    "\n",
    "import conf\n",
    "\n",
    "N_JOBS = conf.GENERAL[\"N_JOBS\"]\n",
    "display(N_JOBS)"
   ]
  },
  {
   "cell_type": "code",
   "execution_count": null,
   "metadata": {
    "papermill": {
     "duration": 0.013849,
     "end_time": "2021-03-10T01:47:54.122873",
     "exception": false,
     "start_time": "2021-03-10T01:47:54.109024",
     "status": "completed"
    },
    "tags": []
   },
   "outputs": [],
   "source": [
    "%env MKL_NUM_THREADS=$N_JOBS\n",
    "%env OPEN_BLAS_NUM_THREADS=$N_JOBS\n",
    "%env NUMEXPR_NUM_THREADS=$N_JOBS\n",
    "%env OMP_NUM_THREADS=$N_JOBS"
   ]
  },
  {
   "cell_type": "markdown",
   "metadata": {
    "papermill": {
     "duration": 0.007519,
     "end_time": "2021-03-10T01:47:54.138305",
     "exception": false,
     "start_time": "2021-03-10T01:47:54.130786",
     "status": "completed"
    },
    "tags": []
   },
   "source": [
    "# Modules loading"
   ]
  },
  {
   "cell_type": "code",
   "execution_count": null,
   "metadata": {
    "papermill": {
     "duration": 0.017367,
     "end_time": "2021-03-10T01:47:54.163553",
     "exception": false,
     "start_time": "2021-03-10T01:47:54.146186",
     "status": "completed"
    },
    "tags": []
   },
   "outputs": [],
   "source": [
    "%load_ext autoreload\n",
    "%autoreload 2"
   ]
  },
  {
   "cell_type": "code",
   "execution_count": null,
   "metadata": {
    "papermill": {
     "duration": 0.671065,
     "end_time": "2021-03-10T01:47:54.842509",
     "exception": false,
     "start_time": "2021-03-10T01:47:54.171444",
     "status": "completed"
    },
    "tags": []
   },
   "outputs": [],
   "source": [
    "from pathlib import Path\n",
    "\n",
    "import numpy as np\n",
    "import pandas as pd\n",
    "from sklearn.neighbors import NearestNeighbors\n",
    "from sklearn.metrics import pairwise_distances\n",
    "from sklearn.cluster import DBSCAN\n",
    "import matplotlib.pyplot as plt\n",
    "\n",
    "from utils import generate_result_set_name\n",
    "from clustering.ensembles.utils import generate_ensemble"
   ]
  },
  {
   "cell_type": "markdown",
   "metadata": {
    "papermill": {
     "duration": 0.007214,
     "end_time": "2021-03-10T01:47:54.857691",
     "exception": false,
     "start_time": "2021-03-10T01:47:54.850477",
     "status": "completed"
    },
    "tags": []
   },
   "source": [
    "# Global settings"
   ]
  },
  {
   "cell_type": "code",
   "execution_count": null,
   "metadata": {
    "papermill": {
     "duration": 0.019505,
     "end_time": "2021-03-10T01:47:54.884510",
     "exception": false,
     "start_time": "2021-03-10T01:47:54.865005",
     "status": "completed"
    },
    "tags": []
   },
   "outputs": [],
   "source": [
    "np.random.seed(0)"
   ]
  },
  {
   "cell_type": "code",
   "execution_count": null,
   "metadata": {
    "papermill": {
     "duration": 0.019576,
     "end_time": "2021-03-10T01:47:54.911929",
     "exception": false,
     "start_time": "2021-03-10T01:47:54.892353",
     "status": "completed"
    },
    "tags": []
   },
   "outputs": [],
   "source": [
    "CLUSTERING_ATTRIBUTES_TO_SAVE = [\"n_clusters\"]"
   ]
  },
  {
   "cell_type": "markdown",
   "metadata": {
    "papermill": {
     "duration": 0.007679,
     "end_time": "2021-03-10T01:47:54.927668",
     "exception": false,
     "start_time": "2021-03-10T01:47:54.919989",
     "status": "completed"
    },
    "tags": []
   },
   "source": [
    "# Settings"
   ]
  },
  {
   "cell_type": "code",
   "execution_count": null,
   "metadata": {
    "papermill": {
     "duration": 0.020678,
     "end_time": "2021-03-10T01:47:54.956214",
     "exception": false,
     "start_time": "2021-03-10T01:47:54.935536",
     "status": "completed"
    },
    "tags": []
   },
   "outputs": [],
   "source": [
    "# these parameter values are taken from the pre-analysis notebook for this clustering method and data version\n",
    "k_values = np.arange(2, 125 + 1, 1)\n",
    "\n",
    "eps_range_per_k = {\n",
    "    k: (0.23, 0.80)\n",
    "    if k < 5\n",
    "    else (0.30, 0.80)\n",
    "    if k < 10\n",
    "    else (0.40, 2.50)\n",
    "    if k < 20\n",
    "    else (0.40, 7.00)\n",
    "    if k < 50\n",
    "    else (0.50, 10.00)\n",
    "    for k in k_values\n",
    "}"
   ]
  },
  {
   "cell_type": "markdown",
   "metadata": {
    "papermill": {
     "duration": 0.007501,
     "end_time": "2021-03-10T01:47:54.971685",
     "exception": false,
     "start_time": "2021-03-10T01:47:54.964184",
     "status": "completed"
    },
    "tags": []
   },
   "source": [
    "# Data version: umap"
   ]
  },
  {
   "cell_type": "markdown",
   "metadata": {
    "papermill": {
     "duration": 0.007359,
     "end_time": "2021-03-10T01:47:54.986327",
     "exception": false,
     "start_time": "2021-03-10T01:47:54.978968",
     "status": "completed"
    },
    "tags": []
   },
   "source": [
    "## Settings"
   ]
  },
  {
   "cell_type": "code",
   "execution_count": null,
   "metadata": {
    "papermill": {
     "duration": 0.019361,
     "end_time": "2021-03-10T01:47:55.013041",
     "exception": false,
     "start_time": "2021-03-10T01:47:54.993680",
     "status": "completed"
    },
    "tags": []
   },
   "outputs": [],
   "source": [
    "INPUT_SUBSET = \"umap\""
   ]
  },
  {
   "cell_type": "code",
   "execution_count": null,
   "metadata": {
    "papermill": {
     "duration": 0.019042,
     "end_time": "2021-03-10T01:47:55.039618",
     "exception": false,
     "start_time": "2021-03-10T01:47:55.020576",
     "status": "completed"
    },
    "tags": []
   },
   "outputs": [],
   "source": [
    "INPUT_STEM = \"z_score_std-projection-smultixcan-efo_partial-mashr-zscores\""
   ]
  },
  {
   "cell_type": "code",
   "execution_count": null,
   "metadata": {
    "papermill": {
     "duration": 0.019621,
     "end_time": "2021-03-10T01:47:55.067110",
     "exception": false,
     "start_time": "2021-03-10T01:47:55.047489",
     "status": "completed"
    },
    "tags": []
   },
   "outputs": [],
   "source": [
    "# parameters of the dimentionality reduction steps\n",
    "DR_OPTIONS = {\n",
    "    \"n_components\": 50,\n",
    "    \"metric\": \"euclidean\",\n",
    "    \"n_neighbors\": 15,\n",
    "    \"random_state\": 0,\n",
    "}"
   ]
  },
  {
   "cell_type": "code",
   "execution_count": null,
   "metadata": {
    "papermill": {
     "duration": 0.02309,
     "end_time": "2021-03-10T01:47:55.098351",
     "exception": false,
     "start_time": "2021-03-10T01:47:55.075261",
     "status": "completed"
    },
    "tags": []
   },
   "outputs": [],
   "source": [
    "input_filepath = Path(\n",
    "    conf.RESULTS[\"CLUSTERING_NULL_DIR\"],\n",
    "    \"data_transformations\",\n",
    "    INPUT_SUBSET,\n",
    "    generate_result_set_name(\n",
    "        DR_OPTIONS, prefix=f\"{INPUT_SUBSET}-{INPUT_STEM}-\", suffix=\".pkl\"\n",
    "    ),\n",
    ").resolve()\n",
    "display(input_filepath)\n",
    "\n",
    "assert input_filepath.exists(), \"Input file does not exist\"\n",
    "\n",
    "input_filepath_stem = input_filepath.stem\n",
    "display(input_filepath_stem)"
   ]
  },
  {
   "cell_type": "code",
   "execution_count": null,
   "metadata": {
    "papermill": {
     "duration": 0.021294,
     "end_time": "2021-03-10T01:47:55.128353",
     "exception": false,
     "start_time": "2021-03-10T01:47:55.107059",
     "status": "completed"
    },
    "tags": []
   },
   "outputs": [],
   "source": [
    "# output dir for this notebook\n",
    "RESULTS_DIR = Path(\n",
    "    conf.RESULTS[\"CLUSTERING_NULL_DIR\"],\n",
    "    \"runs\",\n",
    "    f\"{INPUT_SUBSET}-{INPUT_STEM}\",\n",
    ").resolve()\n",
    "RESULTS_DIR.mkdir(parents=True, exist_ok=True)\n",
    "\n",
    "display(RESULTS_DIR)"
   ]
  },
  {
   "cell_type": "markdown",
   "metadata": {
    "papermill": {
     "duration": 0.008615,
     "end_time": "2021-03-10T01:47:55.145394",
     "exception": false,
     "start_time": "2021-03-10T01:47:55.136779",
     "status": "completed"
    },
    "tags": []
   },
   "source": [
    "## Load input file"
   ]
  },
  {
   "cell_type": "code",
   "execution_count": null,
   "metadata": {
    "papermill": {
     "duration": 0.021421,
     "end_time": "2021-03-10T01:47:55.174363",
     "exception": false,
     "start_time": "2021-03-10T01:47:55.152942",
     "status": "completed"
    },
    "tags": []
   },
   "outputs": [],
   "source": [
    "data = pd.read_pickle(input_filepath)"
   ]
  },
  {
   "cell_type": "code",
   "execution_count": null,
   "metadata": {
    "papermill": {
     "duration": 0.02067,
     "end_time": "2021-03-10T01:47:55.203298",
     "exception": false,
     "start_time": "2021-03-10T01:47:55.182628",
     "status": "completed"
    },
    "tags": []
   },
   "outputs": [],
   "source": [
    "data.shape"
   ]
  },
  {
   "cell_type": "code",
   "execution_count": null,
   "metadata": {
    "papermill": {
     "duration": 0.033313,
     "end_time": "2021-03-10T01:47:55.244792",
     "exception": false,
     "start_time": "2021-03-10T01:47:55.211479",
     "status": "completed"
    },
    "tags": []
   },
   "outputs": [],
   "source": [
    "data.head()"
   ]
  },
  {
   "cell_type": "code",
   "execution_count": null,
   "metadata": {
    "papermill": {
     "duration": 0.021153,
     "end_time": "2021-03-10T01:47:55.274333",
     "exception": false,
     "start_time": "2021-03-10T01:47:55.253180",
     "status": "completed"
    },
    "tags": []
   },
   "outputs": [],
   "source": [
    "assert not data.isna().any().any()"
   ]
  },
  {
   "cell_type": "markdown",
   "metadata": {
    "papermill": {
     "duration": 0.007947,
     "end_time": "2021-03-10T01:47:55.290639",
     "exception": false,
     "start_time": "2021-03-10T01:47:55.282692",
     "status": "completed"
    },
    "tags": []
   },
   "source": [
    "## Clustering"
   ]
  },
  {
   "cell_type": "markdown",
   "metadata": {
    "papermill": {
     "duration": 0.007562,
     "end_time": "2021-03-10T01:47:55.305952",
     "exception": false,
     "start_time": "2021-03-10T01:47:55.298390",
     "status": "completed"
    },
    "tags": []
   },
   "source": [
    "### Generate clusterers"
   ]
  },
  {
   "cell_type": "code",
   "execution_count": null,
   "metadata": {
    "papermill": {
     "duration": 0.025058,
     "end_time": "2021-03-10T01:47:55.338784",
     "exception": false,
     "start_time": "2021-03-10T01:47:55.313726",
     "status": "completed"
    },
    "tags": []
   },
   "outputs": [],
   "source": [
    "CLUSTERING_OPTIONS = {}\n",
    "\n",
    "# K_RANGE is the min_samples parameter in DBSCAN (sklearn)\n",
    "CLUSTERING_OPTIONS[\"K_RANGE\"] = k_values\n",
    "CLUSTERING_OPTIONS[\"EPS_RANGE_PER_K\"] = eps_range_per_k\n",
    "CLUSTERING_OPTIONS[\"EPS_STEP\"] = 33\n",
    "CLUSTERING_OPTIONS[\"METRIC\"] = \"euclidean\"\n",
    "\n",
    "display(CLUSTERING_OPTIONS)"
   ]
  },
  {
   "cell_type": "code",
   "execution_count": null,
   "metadata": {
    "papermill": {
     "duration": 0.034697,
     "end_time": "2021-03-10T01:47:55.381823",
     "exception": false,
     "start_time": "2021-03-10T01:47:55.347126",
     "status": "completed"
    },
    "tags": []
   },
   "outputs": [],
   "source": [
    "CLUSTERERS = {}\n",
    "\n",
    "idx = 0\n",
    "\n",
    "for k in CLUSTERING_OPTIONS[\"K_RANGE\"]:\n",
    "    eps_range = CLUSTERING_OPTIONS[\"EPS_RANGE_PER_K\"][k]\n",
    "    eps_values = np.linspace(eps_range[0], eps_range[1], CLUSTERING_OPTIONS[\"EPS_STEP\"])\n",
    "\n",
    "    for eps in eps_values:\n",
    "        clus = DBSCAN(min_samples=k, eps=eps, metric=\"precomputed\", n_jobs=N_JOBS)\n",
    "\n",
    "        method_name = type(clus).__name__\n",
    "        CLUSTERERS[f\"{method_name} #{idx}\"] = clus\n",
    "\n",
    "        idx = idx + 1"
   ]
  },
  {
   "cell_type": "code",
   "execution_count": null,
   "metadata": {
    "papermill": {
     "duration": 0.020466,
     "end_time": "2021-03-10T01:47:55.410445",
     "exception": false,
     "start_time": "2021-03-10T01:47:55.389979",
     "status": "completed"
    },
    "tags": []
   },
   "outputs": [],
   "source": [
    "display(len(CLUSTERERS))"
   ]
  },
  {
   "cell_type": "code",
   "execution_count": null,
   "metadata": {
    "papermill": {
     "duration": 0.02224,
     "end_time": "2021-03-10T01:47:55.440992",
     "exception": false,
     "start_time": "2021-03-10T01:47:55.418752",
     "status": "completed"
    },
    "tags": []
   },
   "outputs": [],
   "source": [
    "_iter = iter(CLUSTERERS.items())\n",
    "display(next(_iter))\n",
    "display(next(_iter))"
   ]
  },
  {
   "cell_type": "code",
   "execution_count": null,
   "metadata": {
    "papermill": {
     "duration": 0.021208,
     "end_time": "2021-03-10T01:47:55.470784",
     "exception": false,
     "start_time": "2021-03-10T01:47:55.449576",
     "status": "completed"
    },
    "tags": []
   },
   "outputs": [],
   "source": [
    "clustering_method_name = method_name\n",
    "display(clustering_method_name)"
   ]
  },
  {
   "cell_type": "markdown",
   "metadata": {
    "papermill": {
     "duration": 0.008134,
     "end_time": "2021-03-10T01:47:55.487293",
     "exception": false,
     "start_time": "2021-03-10T01:47:55.479159",
     "status": "completed"
    },
    "tags": []
   },
   "source": [
    "### Generate ensemble"
   ]
  },
  {
   "cell_type": "code",
   "execution_count": null,
   "metadata": {
    "papermill": {
     "duration": 0.130428,
     "end_time": "2021-03-10T01:47:55.625876",
     "exception": false,
     "start_time": "2021-03-10T01:47:55.495448",
     "status": "completed"
    },
    "tags": []
   },
   "outputs": [],
   "source": [
    "data_dist = pairwise_distances(data, metric=CLUSTERING_OPTIONS[\"METRIC\"])"
   ]
  },
  {
   "cell_type": "code",
   "execution_count": null,
   "metadata": {
    "papermill": {
     "duration": 0.021472,
     "end_time": "2021-03-10T01:47:55.655932",
     "exception": false,
     "start_time": "2021-03-10T01:47:55.634460",
     "status": "completed"
    },
    "tags": []
   },
   "outputs": [],
   "source": [
    "data_dist.shape"
   ]
  },
  {
   "cell_type": "code",
   "execution_count": null,
   "metadata": {
    "papermill": {
     "duration": 0.445141,
     "end_time": "2021-03-10T01:47:56.109759",
     "exception": false,
     "start_time": "2021-03-10T01:47:55.664618",
     "status": "completed"
    },
    "tags": []
   },
   "outputs": [],
   "source": [
    "pd.Series(data_dist.flatten()).describe().apply(str)"
   ]
  },
  {
   "cell_type": "code",
   "execution_count": null,
   "metadata": {
    "papermill": {
     "duration": 603.757014,
     "end_time": "2021-03-10T01:57:59.875680",
     "exception": false,
     "start_time": "2021-03-10T01:47:56.118666",
     "status": "completed"
    },
    "tags": []
   },
   "outputs": [],
   "source": [
    "ensemble = generate_ensemble(\n",
    "    data_dist,\n",
    "    CLUSTERERS,\n",
    "    attributes=CLUSTERING_ATTRIBUTES_TO_SAVE,\n",
    ")"
   ]
  },
  {
   "cell_type": "code",
   "execution_count": null,
   "metadata": {
    "papermill": {
     "duration": 0.129948,
     "end_time": "2021-03-10T01:58:00.095466",
     "exception": false,
     "start_time": "2021-03-10T01:57:59.965518",
     "status": "completed"
    },
    "tags": []
   },
   "outputs": [],
   "source": [
    "ensemble.shape"
   ]
  },
  {
   "cell_type": "code",
   "execution_count": null,
   "metadata": {
    "papermill": {
     "duration": 0.108843,
     "end_time": "2021-03-10T01:58:00.295760",
     "exception": false,
     "start_time": "2021-03-10T01:58:00.186917",
     "status": "completed"
    },
    "tags": []
   },
   "outputs": [],
   "source": [
    "ensemble.head()"
   ]
  },
  {
   "cell_type": "code",
   "execution_count": null,
   "metadata": {
    "papermill": {
     "duration": 0.102104,
     "end_time": "2021-03-10T01:58:00.486987",
     "exception": false,
     "start_time": "2021-03-10T01:58:00.384883",
     "status": "completed"
    },
    "tags": []
   },
   "outputs": [],
   "source": [
    "ensemble[\"n_clusters\"].value_counts().head()"
   ]
  },
  {
   "cell_type": "code",
   "execution_count": null,
   "metadata": {
    "papermill": {
     "duration": 0.129914,
     "end_time": "2021-03-10T01:58:00.705456",
     "exception": false,
     "start_time": "2021-03-10T01:58:00.575542",
     "status": "completed"
    },
    "tags": []
   },
   "outputs": [],
   "source": [
    "ensemble_stats = ensemble[\"n_clusters\"].describe()\n",
    "display(ensemble_stats)"
   ]
  },
  {
   "cell_type": "markdown",
   "metadata": {
    "papermill": {
     "duration": 0.087924,
     "end_time": "2021-03-10T01:58:00.881811",
     "exception": false,
     "start_time": "2021-03-10T01:58:00.793887",
     "status": "completed"
    },
    "tags": []
   },
   "source": [
    "### Testing"
   ]
  },
  {
   "cell_type": "code",
   "execution_count": null,
   "metadata": {
    "papermill": {
     "duration": 0.100783,
     "end_time": "2021-03-10T01:58:01.070167",
     "exception": false,
     "start_time": "2021-03-10T01:58:00.969384",
     "status": "completed"
    },
    "tags": []
   },
   "outputs": [],
   "source": [
    "assert ensemble_stats[\"min\"] > 1"
   ]
  },
  {
   "cell_type": "code",
   "execution_count": null,
   "metadata": {
    "papermill": {
     "duration": 0.127202,
     "end_time": "2021-03-10T01:58:01.285876",
     "exception": false,
     "start_time": "2021-03-10T01:58:01.158674",
     "status": "completed"
    },
    "tags": []
   },
   "outputs": [],
   "source": [
    "assert not ensemble[\"n_clusters\"].isna().any()"
   ]
  },
  {
   "cell_type": "code",
   "execution_count": null,
   "metadata": {
    "papermill": {
     "duration": 0.099154,
     "end_time": "2021-03-10T01:58:01.474761",
     "exception": false,
     "start_time": "2021-03-10T01:58:01.375607",
     "status": "completed"
    },
    "tags": []
   },
   "outputs": [],
   "source": [
    "# assert ensemble.shape[0] == len(CLUSTERERS)"
   ]
  },
  {
   "cell_type": "code",
   "execution_count": null,
   "metadata": {
    "papermill": {
     "duration": 0.178787,
     "end_time": "2021-03-10T01:58:01.740674",
     "exception": false,
     "start_time": "2021-03-10T01:58:01.561887",
     "status": "completed"
    },
    "tags": []
   },
   "outputs": [],
   "source": [
    "# all partitions have the right size\n",
    "assert np.all(\n",
    "    [part[\"partition\"].shape[0] == data.shape[0] for idx, part in ensemble.iterrows()]\n",
    ")"
   ]
  },
  {
   "cell_type": "code",
   "execution_count": null,
   "metadata": {
    "papermill": {
     "duration": 0.220389,
     "end_time": "2021-03-10T01:58:02.048218",
     "exception": false,
     "start_time": "2021-03-10T01:58:01.827829",
     "status": "completed"
    },
    "tags": []
   },
   "outputs": [],
   "source": [
    "# no partition has negative clusters (noisy points)\n",
    "assert not np.any([(part[\"partition\"] < 0).any() for idx, part in ensemble.iterrows()])"
   ]
  },
  {
   "cell_type": "markdown",
   "metadata": {
    "papermill": {
     "duration": 0.088118,
     "end_time": "2021-03-10T01:58:02.224382",
     "exception": false,
     "start_time": "2021-03-10T01:58:02.136264",
     "status": "completed"
    },
    "tags": []
   },
   "source": [
    "### Save"
   ]
  },
  {
   "cell_type": "code",
   "execution_count": null,
   "metadata": {
    "papermill": {
     "duration": 0.102777,
     "end_time": "2021-03-10T01:58:02.415640",
     "exception": false,
     "start_time": "2021-03-10T01:58:02.312863",
     "status": "completed"
    },
    "tags": []
   },
   "outputs": [],
   "source": [
    "output_filename = Path(\n",
    "    RESULTS_DIR,\n",
    "    generate_result_set_name(\n",
    "        {},\n",
    "        #         CLUSTERING_OPTIONS,\n",
    "        prefix=f\"{clustering_method_name}\",\n",
    "        suffix=\".pkl\",\n",
    "    ),\n",
    ").resolve()\n",
    "display(output_filename)"
   ]
  },
  {
   "cell_type": "code",
   "execution_count": null,
   "metadata": {
    "papermill": {
     "duration": 0.159107,
     "end_time": "2021-03-10T01:58:02.662562",
     "exception": false,
     "start_time": "2021-03-10T01:58:02.503455",
     "status": "completed"
    },
    "tags": []
   },
   "outputs": [],
   "source": [
    "ensemble.to_pickle(output_filename)"
   ]
  },
  {
   "cell_type": "code",
   "execution_count": null,
   "metadata": {
    "papermill": {
     "duration": 0.08776,
     "end_time": "2021-03-10T01:58:02.841464",
     "exception": false,
     "start_time": "2021-03-10T01:58:02.753704",
     "status": "completed"
    },
    "tags": []
   },
   "outputs": [],
   "source": []
  }
 ],
 "metadata": {
  "jupytext": {
   "cell_metadata_filter": "all,-execution,-papermill,-trusted",
   "formats": "ipynb,py//py:percent"
  },
  "kernelspec": {
   "display_name": "Python 3 (ipykernel)",
   "language": "python",
   "name": "python3"
  },
  "language_info": {
   "codemirror_mode": {
    "name": "ipython",
    "version": 3
   },
   "file_extension": ".py",
   "mimetype": "text/x-python",
   "name": "python",
   "nbconvert_exporter": "python",
   "pygments_lexer": "ipython3",
   "version": "3.8.13"
  },
  "papermill": {
   "default_parameters": {},
   "duration": 610.298446,
   "end_time": "2021-03-10T01:58:03.336647",
   "environment_variables": {},
   "exception": null,
   "input_path": "15_cluster_analysis/002_02-dbscan-umap.ipynb",
   "output_path": "15_cluster_analysis/002_02-dbscan-umap.run.ipynb",
   "parameters": {},
   "start_time": "2021-03-10T01:47:53.038201",
   "version": "2.2.2"
  },
  "toc-autonumbering": true,
  "toc-showcode": false,
  "toc-showmarkdowntxt": false,
  "toc-showtags": false
 },
 "nbformat": 4,
 "nbformat_minor": 4
}
