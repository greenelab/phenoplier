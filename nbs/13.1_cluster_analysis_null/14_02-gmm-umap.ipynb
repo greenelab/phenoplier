{
 "cells": [
  {
   "cell_type": "markdown",
   "id": "f8d8dc7d",
   "metadata": {
    "papermill": {
     "duration": 0.035282,
     "end_time": "2022-09-13T01:13:21.430358",
     "exception": false,
     "start_time": "2022-09-13T01:13:21.395076",
     "status": "completed"
    },
    "tags": []
   },
   "source": [
    "# Description"
   ]
  },
  {
   "cell_type": "markdown",
   "id": "165a1531",
   "metadata": {
    "papermill": {
     "duration": 0.009364,
     "end_time": "2022-09-13T01:13:21.454116",
     "exception": false,
     "start_time": "2022-09-13T01:13:21.444752",
     "status": "completed"
    },
    "tags": []
   },
   "source": [
    "Runs gaussian mixture model on the umap version of the data."
   ]
  },
  {
   "cell_type": "markdown",
   "id": "8ccb6232",
   "metadata": {
    "papermill": {
     "duration": 0.007825,
     "end_time": "2022-09-13T01:13:21.469760",
     "exception": false,
     "start_time": "2022-09-13T01:13:21.461935",
     "status": "completed"
    },
    "tags": []
   },
   "source": [
    "# Environment variables"
   ]
  },
  {
   "cell_type": "code",
   "execution_count": 1,
   "id": "2f07b8ce",
   "metadata": {
    "execution": {
     "iopub.execute_input": "2022-09-13T01:13:21.486518Z",
     "iopub.status.busy": "2022-09-13T01:13:21.486271Z",
     "iopub.status.idle": "2022-09-13T01:13:21.501353Z",
     "shell.execute_reply": "2022-09-13T01:13:21.500720Z"
    },
    "papermill": {
     "duration": 0.025382,
     "end_time": "2022-09-13T01:13:21.502836",
     "exception": false,
     "start_time": "2022-09-13T01:13:21.477454",
     "status": "completed"
    },
    "tags": []
   },
   "outputs": [
    {
     "data": {
      "text/plain": [
       "3"
      ]
     },
     "metadata": {},
     "output_type": "display_data"
    }
   ],
   "source": [
    "from IPython.display import display\n",
    "\n",
    "import conf\n",
    "\n",
    "N_JOBS = conf.GENERAL[\"N_JOBS\"]\n",
    "display(N_JOBS)"
   ]
  },
  {
   "cell_type": "code",
   "execution_count": 2,
   "id": "b0e90b22",
   "metadata": {
    "execution": {
     "iopub.execute_input": "2022-09-13T01:13:21.520596Z",
     "iopub.status.busy": "2022-09-13T01:13:21.520388Z",
     "iopub.status.idle": "2022-09-13T01:13:21.525412Z",
     "shell.execute_reply": "2022-09-13T01:13:21.524976Z"
    },
    "papermill": {
     "duration": 0.015087,
     "end_time": "2022-09-13T01:13:21.526548",
     "exception": false,
     "start_time": "2022-09-13T01:13:21.511461",
     "status": "completed"
    },
    "tags": []
   },
   "outputs": [
    {
     "name": "stdout",
     "output_type": "stream",
     "text": [
      "env: MKL_NUM_THREADS=3\n",
      "env: OPEN_BLAS_NUM_THREADS=3\n",
      "env: NUMEXPR_NUM_THREADS=3\n",
      "env: OMP_NUM_THREADS=3\n"
     ]
    }
   ],
   "source": [
    "%env MKL_NUM_THREADS=$N_JOBS\n",
    "%env OPEN_BLAS_NUM_THREADS=$N_JOBS\n",
    "%env NUMEXPR_NUM_THREADS=$N_JOBS\n",
    "%env OMP_NUM_THREADS=$N_JOBS"
   ]
  },
  {
   "cell_type": "markdown",
   "id": "50c90694",
   "metadata": {
    "papermill": {
     "duration": 0.007952,
     "end_time": "2022-09-13T01:13:21.542686",
     "exception": false,
     "start_time": "2022-09-13T01:13:21.534734",
     "status": "completed"
    },
    "tags": []
   },
   "source": [
    "# Modules loading"
   ]
  },
  {
   "cell_type": "code",
   "execution_count": 3,
   "id": "9c7f9159",
   "metadata": {
    "execution": {
     "iopub.execute_input": "2022-09-13T01:13:21.560043Z",
     "iopub.status.busy": "2022-09-13T01:13:21.559839Z",
     "iopub.status.idle": "2022-09-13T01:13:21.572928Z",
     "shell.execute_reply": "2022-09-13T01:13:21.572487Z"
    },
    "papermill": {
     "duration": 0.023795,
     "end_time": "2022-09-13T01:13:21.574296",
     "exception": false,
     "start_time": "2022-09-13T01:13:21.550501",
     "status": "completed"
    },
    "tags": []
   },
   "outputs": [],
   "source": [
    "%load_ext autoreload\n",
    "%autoreload 2"
   ]
  },
  {
   "cell_type": "code",
   "execution_count": 4,
   "id": "ac743c8e",
   "metadata": {
    "execution": {
     "iopub.execute_input": "2022-09-13T01:13:21.609607Z",
     "iopub.status.busy": "2022-09-13T01:13:21.609034Z",
     "iopub.status.idle": "2022-09-13T01:13:22.297164Z",
     "shell.execute_reply": "2022-09-13T01:13:22.296677Z"
    },
    "papermill": {
     "duration": 0.716063,
     "end_time": "2022-09-13T01:13:22.298634",
     "exception": false,
     "start_time": "2022-09-13T01:13:21.582571",
     "status": "completed"
    },
    "tags": []
   },
   "outputs": [],
   "source": [
    "from pathlib import Path\n",
    "\n",
    "import numpy as np\n",
    "import pandas as pd\n",
    "import matplotlib.pyplot as plt\n",
    "import seaborn as sns\n",
    "\n",
    "from utils import generate_result_set_name"
   ]
  },
  {
   "cell_type": "markdown",
   "id": "7d5a2193",
   "metadata": {
    "papermill": {
     "duration": 0.0077,
     "end_time": "2022-09-13T01:13:22.314703",
     "exception": false,
     "start_time": "2022-09-13T01:13:22.307003",
     "status": "completed"
    },
    "tags": []
   },
   "source": [
    "# Settings"
   ]
  },
  {
   "cell_type": "code",
   "execution_count": 5,
   "id": "d4b2dcdb",
   "metadata": {
    "execution": {
     "iopub.execute_input": "2022-09-13T01:13:22.332303Z",
     "iopub.status.busy": "2022-09-13T01:13:22.331725Z",
     "iopub.status.idle": "2022-09-13T01:13:22.348192Z",
     "shell.execute_reply": "2022-09-13T01:13:22.347563Z"
    },
    "papermill": {
     "duration": 0.026795,
     "end_time": "2022-09-13T01:13:22.349571",
     "exception": false,
     "start_time": "2022-09-13T01:13:22.322776",
     "status": "completed"
    },
    "tags": []
   },
   "outputs": [],
   "source": [
    "np.random.seed(0)"
   ]
  },
  {
   "cell_type": "code",
   "execution_count": 6,
   "id": "247617a0",
   "metadata": {
    "execution": {
     "iopub.execute_input": "2022-09-13T01:13:22.396783Z",
     "iopub.status.busy": "2022-09-13T01:13:22.396582Z",
     "iopub.status.idle": "2022-09-13T01:13:22.415318Z",
     "shell.execute_reply": "2022-09-13T01:13:22.414733Z"
    },
    "papermill": {
     "duration": 0.058682,
     "end_time": "2022-09-13T01:13:22.416931",
     "exception": false,
     "start_time": "2022-09-13T01:13:22.358249",
     "status": "completed"
    },
    "tags": []
   },
   "outputs": [],
   "source": [
    "INITIAL_RANDOM_STATE = 80000"
   ]
  },
  {
   "cell_type": "markdown",
   "id": "b366f01b",
   "metadata": {
    "papermill": {
     "duration": 0.009618,
     "end_time": "2022-09-13T01:13:22.436582",
     "exception": false,
     "start_time": "2022-09-13T01:13:22.426964",
     "status": "completed"
    },
    "tags": []
   },
   "source": [
    "## Input data"
   ]
  },
  {
   "cell_type": "code",
   "execution_count": 7,
   "id": "336323cb",
   "metadata": {
    "execution": {
     "iopub.execute_input": "2022-09-13T01:13:22.455060Z",
     "iopub.status.busy": "2022-09-13T01:13:22.454888Z",
     "iopub.status.idle": "2022-09-13T01:13:22.471648Z",
     "shell.execute_reply": "2022-09-13T01:13:22.471014Z"
    },
    "papermill": {
     "duration": 0.027346,
     "end_time": "2022-09-13T01:13:22.473025",
     "exception": false,
     "start_time": "2022-09-13T01:13:22.445679",
     "status": "completed"
    },
    "tags": []
   },
   "outputs": [],
   "source": [
    "INPUT_SUBSET = \"umap\""
   ]
  },
  {
   "cell_type": "code",
   "execution_count": 8,
   "id": "ef1f9044",
   "metadata": {
    "execution": {
     "iopub.execute_input": "2022-09-13T01:13:22.492133Z",
     "iopub.status.busy": "2022-09-13T01:13:22.491961Z",
     "iopub.status.idle": "2022-09-13T01:13:22.508839Z",
     "shell.execute_reply": "2022-09-13T01:13:22.508360Z"
    },
    "papermill": {
     "duration": 0.02762,
     "end_time": "2022-09-13T01:13:22.510237",
     "exception": false,
     "start_time": "2022-09-13T01:13:22.482617",
     "status": "completed"
    },
    "tags": []
   },
   "outputs": [],
   "source": [
    "INPUT_STEM = \"z_score_std-projection-smultixcan-efo_partial-mashr-zscores\""
   ]
  },
  {
   "cell_type": "code",
   "execution_count": 9,
   "id": "cd37efc2",
   "metadata": {
    "execution": {
     "iopub.execute_input": "2022-09-13T01:13:22.528533Z",
     "iopub.status.busy": "2022-09-13T01:13:22.528361Z",
     "iopub.status.idle": "2022-09-13T01:13:22.545227Z",
     "shell.execute_reply": "2022-09-13T01:13:22.544560Z"
    },
    "papermill": {
     "duration": 0.027649,
     "end_time": "2022-09-13T01:13:22.546655",
     "exception": false,
     "start_time": "2022-09-13T01:13:22.519006",
     "status": "completed"
    },
    "tags": []
   },
   "outputs": [],
   "source": [
    "DR_OPTIONS = {\n",
    "    \"n_components\": 50,\n",
    "    \"metric\": \"euclidean\",\n",
    "    \"n_neighbors\": 15,\n",
    "    \"random_state\": 0,\n",
    "}"
   ]
  },
  {
   "cell_type": "code",
   "execution_count": 10,
   "id": "dd942eae",
   "metadata": {
    "execution": {
     "iopub.execute_input": "2022-09-13T01:13:22.565001Z",
     "iopub.status.busy": "2022-09-13T01:13:22.564827Z",
     "iopub.status.idle": "2022-09-13T01:13:22.584409Z",
     "shell.execute_reply": "2022-09-13T01:13:22.583803Z"
    },
    "papermill": {
     "duration": 0.030327,
     "end_time": "2022-09-13T01:13:22.585782",
     "exception": false,
     "start_time": "2022-09-13T01:13:22.555455",
     "status": "completed"
    },
    "tags": []
   },
   "outputs": [
    {
     "data": {
      "text/plain": [
       "PosixPath('/opt/data/results/clustering/null_sims/data_transformations/umap/umap-z_score_std-projection-smultixcan-efo_partial-mashr-zscores-metric_euclidean-n_components_50-n_neighbors_15-random_state_0.pkl')"
      ]
     },
     "metadata": {},
     "output_type": "display_data"
    },
    {
     "data": {
      "text/plain": [
       "'umap-z_score_std-projection-smultixcan-efo_partial-mashr-zscores-metric_euclidean-n_components_50-n_neighbors_15-random_state_0'"
      ]
     },
     "metadata": {},
     "output_type": "display_data"
    }
   ],
   "source": [
    "input_filepath = Path(\n",
    "    conf.RESULTS[\"CLUSTERING_NULL_DIR\"],\n",
    "    \"data_transformations\",\n",
    "    INPUT_SUBSET,\n",
    "    generate_result_set_name(\n",
    "        DR_OPTIONS, prefix=f\"{INPUT_SUBSET}-{INPUT_STEM}-\", suffix=\".pkl\"\n",
    "    ),\n",
    ").resolve()\n",
    "display(input_filepath)\n",
    "\n",
    "assert input_filepath.exists(), \"Input file does not exist\"\n",
    "\n",
    "input_filepath_stem = input_filepath.stem\n",
    "display(input_filepath_stem)"
   ]
  },
  {
   "cell_type": "markdown",
   "id": "44054e0b",
   "metadata": {
    "papermill": {
     "duration": 0.008396,
     "end_time": "2022-09-13T01:13:22.602982",
     "exception": false,
     "start_time": "2022-09-13T01:13:22.594586",
     "status": "completed"
    },
    "tags": []
   },
   "source": [
    "## Clustering"
   ]
  },
  {
   "cell_type": "code",
   "execution_count": 11,
   "id": "b41607ca",
   "metadata": {
    "execution": {
     "iopub.execute_input": "2022-09-13T01:13:22.620643Z",
     "iopub.status.busy": "2022-09-13T01:13:22.620447Z",
     "iopub.status.idle": "2022-09-13T01:13:22.713612Z",
     "shell.execute_reply": "2022-09-13T01:13:22.713122Z"
    },
    "papermill": {
     "duration": 0.10347,
     "end_time": "2022-09-13T01:13:22.715062",
     "exception": false,
     "start_time": "2022-09-13T01:13:22.611592",
     "status": "completed"
    },
    "tags": []
   },
   "outputs": [],
   "source": [
    "from sklearn.mixture import GaussianMixture"
   ]
  },
  {
   "cell_type": "code",
   "execution_count": 12,
   "id": "1dbc8573",
   "metadata": {
    "execution": {
     "iopub.execute_input": "2022-09-13T01:13:22.733834Z",
     "iopub.status.busy": "2022-09-13T01:13:22.733170Z",
     "iopub.status.idle": "2022-09-13T01:13:22.751950Z",
     "shell.execute_reply": "2022-09-13T01:13:22.751285Z"
    },
    "papermill": {
     "duration": 0.029624,
     "end_time": "2022-09-13T01:13:22.753413",
     "exception": false,
     "start_time": "2022-09-13T01:13:22.723789",
     "status": "completed"
    },
    "tags": []
   },
   "outputs": [],
   "source": [
    "CLUSTERING_ATTRIBUTES_TO_SAVE = [\"n_clusters\"]"
   ]
  },
  {
   "cell_type": "code",
   "execution_count": 13,
   "id": "c37726d0",
   "metadata": {
    "execution": {
     "iopub.execute_input": "2022-09-13T01:13:22.771408Z",
     "iopub.status.busy": "2022-09-13T01:13:22.771229Z",
     "iopub.status.idle": "2022-09-13T01:13:22.790882Z",
     "shell.execute_reply": "2022-09-13T01:13:22.790335Z"
    },
    "papermill": {
     "duration": 0.030138,
     "end_time": "2022-09-13T01:13:22.792243",
     "exception": false,
     "start_time": "2022-09-13T01:13:22.762105",
     "status": "completed"
    },
    "tags": []
   },
   "outputs": [
    {
     "data": {
      "text/plain": [
       "{'K_MIN': 2,\n",
       " 'K_MAX': 60,\n",
       " 'N_REPS_PER_K': 5,\n",
       " 'N_INIT': 10,\n",
       " 'COVARIANCE_TYPE': 'full'}"
      ]
     },
     "metadata": {},
     "output_type": "display_data"
    }
   ],
   "source": [
    "CLUSTERING_OPTIONS = {}\n",
    "\n",
    "CLUSTERING_OPTIONS[\"K_MIN\"] = 2\n",
    "CLUSTERING_OPTIONS[\"K_MAX\"] = 60  # sqrt(3749)\n",
    "CLUSTERING_OPTIONS[\"N_REPS_PER_K\"] = 5\n",
    "CLUSTERING_OPTIONS[\"N_INIT\"] = 10\n",
    "CLUSTERING_OPTIONS[\"COVARIANCE_TYPE\"] = \"full\"\n",
    "\n",
    "display(CLUSTERING_OPTIONS)"
   ]
  },
  {
   "cell_type": "code",
   "execution_count": 14,
   "id": "6554dcb5",
   "metadata": {
    "execution": {
     "iopub.execute_input": "2022-09-13T01:13:22.810876Z",
     "iopub.status.busy": "2022-09-13T01:13:22.810699Z",
     "iopub.status.idle": "2022-09-13T01:13:22.831699Z",
     "shell.execute_reply": "2022-09-13T01:13:22.831092Z"
    },
    "papermill": {
     "duration": 0.03193,
     "end_time": "2022-09-13T01:13:22.833125",
     "exception": false,
     "start_time": "2022-09-13T01:13:22.801195",
     "status": "completed"
    },
    "tags": []
   },
   "outputs": [],
   "source": [
    "CLUSTERERS = {}\n",
    "\n",
    "idx = 0\n",
    "random_state = INITIAL_RANDOM_STATE\n",
    "\n",
    "for k in range(CLUSTERING_OPTIONS[\"K_MIN\"], CLUSTERING_OPTIONS[\"K_MAX\"] + 1):\n",
    "    for i in range(CLUSTERING_OPTIONS[\"N_REPS_PER_K\"]):\n",
    "        clus = GaussianMixture(\n",
    "            n_components=k,\n",
    "            n_init=CLUSTERING_OPTIONS[\"N_INIT\"],\n",
    "            covariance_type=CLUSTERING_OPTIONS[\"COVARIANCE_TYPE\"],\n",
    "            random_state=random_state,\n",
    "        )\n",
    "\n",
    "        method_name = type(clus).__name__\n",
    "        CLUSTERERS[f\"{method_name} #{idx}\"] = clus\n",
    "\n",
    "        random_state = random_state + 1\n",
    "        idx = idx + 1"
   ]
  },
  {
   "cell_type": "code",
   "execution_count": 15,
   "id": "f1fd2292",
   "metadata": {
    "execution": {
     "iopub.execute_input": "2022-09-13T01:13:22.851820Z",
     "iopub.status.busy": "2022-09-13T01:13:22.851636Z",
     "iopub.status.idle": "2022-09-13T01:13:22.870561Z",
     "shell.execute_reply": "2022-09-13T01:13:22.870099Z"
    },
    "papermill": {
     "duration": 0.029795,
     "end_time": "2022-09-13T01:13:22.871935",
     "exception": false,
     "start_time": "2022-09-13T01:13:22.842140",
     "status": "completed"
    },
    "tags": []
   },
   "outputs": [
    {
     "data": {
      "text/plain": [
       "295"
      ]
     },
     "metadata": {},
     "output_type": "display_data"
    }
   ],
   "source": [
    "display(len(CLUSTERERS))"
   ]
  },
  {
   "cell_type": "code",
   "execution_count": 16,
   "id": "41e8f0e1",
   "metadata": {
    "execution": {
     "iopub.execute_input": "2022-09-13T01:13:22.890673Z",
     "iopub.status.busy": "2022-09-13T01:13:22.890499Z",
     "iopub.status.idle": "2022-09-13T01:13:22.911690Z",
     "shell.execute_reply": "2022-09-13T01:13:22.911151Z"
    },
    "papermill": {
     "duration": 0.032055,
     "end_time": "2022-09-13T01:13:22.913024",
     "exception": false,
     "start_time": "2022-09-13T01:13:22.880969",
     "status": "completed"
    },
    "tags": []
   },
   "outputs": [
    {
     "data": {
      "text/plain": [
       "('GaussianMixture #0',\n",
       " GaussianMixture(n_components=2, n_init=10, random_state=80000))"
      ]
     },
     "metadata": {},
     "output_type": "display_data"
    },
    {
     "data": {
      "text/plain": [
       "('GaussianMixture #1',\n",
       " GaussianMixture(n_components=2, n_init=10, random_state=80001))"
      ]
     },
     "metadata": {},
     "output_type": "display_data"
    }
   ],
   "source": [
    "_iter = iter(CLUSTERERS.items())\n",
    "display(next(_iter))\n",
    "display(next(_iter))"
   ]
  },
  {
   "cell_type": "code",
   "execution_count": 17,
   "id": "0e51a2c9",
   "metadata": {
    "execution": {
     "iopub.execute_input": "2022-09-13T01:13:22.932021Z",
     "iopub.status.busy": "2022-09-13T01:13:22.931848Z",
     "iopub.status.idle": "2022-09-13T01:13:22.950966Z",
     "shell.execute_reply": "2022-09-13T01:13:22.950341Z"
    },
    "papermill": {
     "duration": 0.030105,
     "end_time": "2022-09-13T01:13:22.952322",
     "exception": false,
     "start_time": "2022-09-13T01:13:22.922217",
     "status": "completed"
    },
    "tags": []
   },
   "outputs": [
    {
     "data": {
      "text/plain": [
       "'GaussianMixture'"
      ]
     },
     "metadata": {},
     "output_type": "display_data"
    }
   ],
   "source": [
    "clustering_method_name = method_name\n",
    "display(clustering_method_name)"
   ]
  },
  {
   "cell_type": "markdown",
   "id": "8fd89c0d",
   "metadata": {
    "papermill": {
     "duration": 0.008927,
     "end_time": "2022-09-13T01:13:22.970450",
     "exception": false,
     "start_time": "2022-09-13T01:13:22.961523",
     "status": "completed"
    },
    "tags": []
   },
   "source": [
    "## Output directory"
   ]
  },
  {
   "cell_type": "code",
   "execution_count": 18,
   "id": "a073be42",
   "metadata": {
    "execution": {
     "iopub.execute_input": "2022-09-13T01:13:22.988995Z",
     "iopub.status.busy": "2022-09-13T01:13:22.988785Z",
     "iopub.status.idle": "2022-09-13T01:13:23.008011Z",
     "shell.execute_reply": "2022-09-13T01:13:23.007486Z"
    },
    "papermill": {
     "duration": 0.029827,
     "end_time": "2022-09-13T01:13:23.009347",
     "exception": false,
     "start_time": "2022-09-13T01:13:22.979520",
     "status": "completed"
    },
    "tags": []
   },
   "outputs": [
    {
     "data": {
      "text/plain": [
       "PosixPath('/opt/data/results/clustering/null_sims/runs/umap-z_score_std-projection-smultixcan-efo_partial-mashr-zscores')"
      ]
     },
     "metadata": {},
     "output_type": "display_data"
    }
   ],
   "source": [
    "# output dir for this notebook\n",
    "RESULTS_DIR = Path(\n",
    "    conf.RESULTS[\"CLUSTERING_NULL_DIR\"],\n",
    "    \"runs\",\n",
    "    f\"{INPUT_SUBSET}-{INPUT_STEM}\",\n",
    ").resolve()\n",
    "RESULTS_DIR.mkdir(parents=True, exist_ok=True)\n",
    "\n",
    "display(RESULTS_DIR)"
   ]
  },
  {
   "cell_type": "markdown",
   "id": "12437872",
   "metadata": {
    "papermill": {
     "duration": 0.00869,
     "end_time": "2022-09-13T01:13:23.026744",
     "exception": false,
     "start_time": "2022-09-13T01:13:23.018054",
     "status": "completed"
    },
    "tags": []
   },
   "source": [
    "# Load input file"
   ]
  },
  {
   "cell_type": "code",
   "execution_count": 19,
   "id": "75e511b2",
   "metadata": {
    "execution": {
     "iopub.execute_input": "2022-09-13T01:13:23.044136Z",
     "iopub.status.busy": "2022-09-13T01:13:23.043926Z",
     "iopub.status.idle": "2022-09-13T01:13:23.063917Z",
     "shell.execute_reply": "2022-09-13T01:13:23.063281Z"
    },
    "papermill": {
     "duration": 0.030289,
     "end_time": "2022-09-13T01:13:23.065329",
     "exception": false,
     "start_time": "2022-09-13T01:13:23.035040",
     "status": "completed"
    },
    "tags": []
   },
   "outputs": [],
   "source": [
    "data = pd.read_pickle(input_filepath)"
   ]
  },
  {
   "cell_type": "code",
   "execution_count": 20,
   "id": "3e20d8ef",
   "metadata": {
    "execution": {
     "iopub.execute_input": "2022-09-13T01:13:23.083631Z",
     "iopub.status.busy": "2022-09-13T01:13:23.083468Z",
     "iopub.status.idle": "2022-09-13T01:13:23.102091Z",
     "shell.execute_reply": "2022-09-13T01:13:23.101536Z"
    },
    "papermill": {
     "duration": 0.029235,
     "end_time": "2022-09-13T01:13:23.103463",
     "exception": false,
     "start_time": "2022-09-13T01:13:23.074228",
     "status": "completed"
    },
    "tags": []
   },
   "outputs": [
    {
     "data": {
      "text/plain": [
       "(3752, 50)"
      ]
     },
     "execution_count": 20,
     "metadata": {},
     "output_type": "execute_result"
    }
   ],
   "source": [
    "data.shape"
   ]
  },
  {
   "cell_type": "code",
   "execution_count": 21,
   "id": "1c9da2db",
   "metadata": {
    "execution": {
     "iopub.execute_input": "2022-09-13T01:13:23.122372Z",
     "iopub.status.busy": "2022-09-13T01:13:23.122213Z",
     "iopub.status.idle": "2022-09-13T01:13:23.154822Z",
     "shell.execute_reply": "2022-09-13T01:13:23.154353Z"
    },
    "papermill": {
     "duration": 0.043377,
     "end_time": "2022-09-13T01:13:23.156197",
     "exception": false,
     "start_time": "2022-09-13T01:13:23.112820",
     "status": "completed"
    },
    "tags": []
   },
   "outputs": [
    {
     "data": {
      "text/html": [
       "<div>\n",
       "<style scoped>\n",
       "    .dataframe tbody tr th:only-of-type {\n",
       "        vertical-align: middle;\n",
       "    }\n",
       "\n",
       "    .dataframe tbody tr th {\n",
       "        vertical-align: top;\n",
       "    }\n",
       "\n",
       "    .dataframe thead th {\n",
       "        text-align: right;\n",
       "    }\n",
       "</style>\n",
       "<table border=\"1\" class=\"dataframe\">\n",
       "  <thead>\n",
       "    <tr style=\"text-align: right;\">\n",
       "      <th></th>\n",
       "      <th>UMAP1</th>\n",
       "      <th>UMAP2</th>\n",
       "      <th>UMAP3</th>\n",
       "      <th>UMAP4</th>\n",
       "      <th>UMAP5</th>\n",
       "      <th>UMAP6</th>\n",
       "      <th>UMAP7</th>\n",
       "      <th>UMAP8</th>\n",
       "      <th>UMAP9</th>\n",
       "      <th>UMAP10</th>\n",
       "      <th>...</th>\n",
       "      <th>UMAP41</th>\n",
       "      <th>UMAP42</th>\n",
       "      <th>UMAP43</th>\n",
       "      <th>UMAP44</th>\n",
       "      <th>UMAP45</th>\n",
       "      <th>UMAP46</th>\n",
       "      <th>UMAP47</th>\n",
       "      <th>UMAP48</th>\n",
       "      <th>UMAP49</th>\n",
       "      <th>UMAP50</th>\n",
       "    </tr>\n",
       "  </thead>\n",
       "  <tbody>\n",
       "    <tr>\n",
       "      <th>100001_raw-Food_weight</th>\n",
       "      <td>7.464392</td>\n",
       "      <td>4.526705</td>\n",
       "      <td>4.225008</td>\n",
       "      <td>7.029216</td>\n",
       "      <td>4.382023</td>\n",
       "      <td>4.502639</td>\n",
       "      <td>4.489128</td>\n",
       "      <td>5.381521</td>\n",
       "      <td>4.940668</td>\n",
       "      <td>4.068273</td>\n",
       "      <td>...</td>\n",
       "      <td>7.605533</td>\n",
       "      <td>8.805881</td>\n",
       "      <td>8.939267</td>\n",
       "      <td>9.142330</td>\n",
       "      <td>0.445703</td>\n",
       "      <td>8.213864</td>\n",
       "      <td>0.703600</td>\n",
       "      <td>9.307579</td>\n",
       "      <td>4.072986</td>\n",
       "      <td>9.349484</td>\n",
       "    </tr>\n",
       "    <tr>\n",
       "      <th>100002_raw-Energy</th>\n",
       "      <td>7.429606</td>\n",
       "      <td>4.536586</td>\n",
       "      <td>4.182258</td>\n",
       "      <td>7.069884</td>\n",
       "      <td>4.336564</td>\n",
       "      <td>4.421313</td>\n",
       "      <td>4.560764</td>\n",
       "      <td>5.324892</td>\n",
       "      <td>4.929991</td>\n",
       "      <td>3.999348</td>\n",
       "      <td>...</td>\n",
       "      <td>7.583344</td>\n",
       "      <td>8.843954</td>\n",
       "      <td>8.958254</td>\n",
       "      <td>9.086064</td>\n",
       "      <td>0.390866</td>\n",
       "      <td>8.235448</td>\n",
       "      <td>0.706651</td>\n",
       "      <td>9.296489</td>\n",
       "      <td>4.041227</td>\n",
       "      <td>9.304544</td>\n",
       "    </tr>\n",
       "    <tr>\n",
       "      <th>100003_raw-Protein</th>\n",
       "      <td>7.481067</td>\n",
       "      <td>4.513837</td>\n",
       "      <td>4.172322</td>\n",
       "      <td>7.040905</td>\n",
       "      <td>4.395445</td>\n",
       "      <td>4.439210</td>\n",
       "      <td>4.487803</td>\n",
       "      <td>5.379720</td>\n",
       "      <td>4.935718</td>\n",
       "      <td>4.107790</td>\n",
       "      <td>...</td>\n",
       "      <td>7.619069</td>\n",
       "      <td>8.802183</td>\n",
       "      <td>8.938434</td>\n",
       "      <td>9.114165</td>\n",
       "      <td>0.442892</td>\n",
       "      <td>8.227354</td>\n",
       "      <td>0.692944</td>\n",
       "      <td>9.355126</td>\n",
       "      <td>4.053129</td>\n",
       "      <td>9.361687</td>\n",
       "    </tr>\n",
       "    <tr>\n",
       "      <th>100004_raw-Fat</th>\n",
       "      <td>7.383680</td>\n",
       "      <td>4.351026</td>\n",
       "      <td>4.208352</td>\n",
       "      <td>6.941895</td>\n",
       "      <td>4.375668</td>\n",
       "      <td>4.538863</td>\n",
       "      <td>4.477001</td>\n",
       "      <td>5.397546</td>\n",
       "      <td>5.008193</td>\n",
       "      <td>4.069299</td>\n",
       "      <td>...</td>\n",
       "      <td>7.592715</td>\n",
       "      <td>8.820724</td>\n",
       "      <td>8.919216</td>\n",
       "      <td>9.157578</td>\n",
       "      <td>0.454712</td>\n",
       "      <td>8.220077</td>\n",
       "      <td>0.721550</td>\n",
       "      <td>9.364523</td>\n",
       "      <td>4.043874</td>\n",
       "      <td>9.397904</td>\n",
       "    </tr>\n",
       "    <tr>\n",
       "      <th>100005_raw-Carbohydrate</th>\n",
       "      <td>7.412931</td>\n",
       "      <td>4.435416</td>\n",
       "      <td>4.227693</td>\n",
       "      <td>7.014967</td>\n",
       "      <td>4.406798</td>\n",
       "      <td>4.510470</td>\n",
       "      <td>4.479080</td>\n",
       "      <td>5.451272</td>\n",
       "      <td>4.932745</td>\n",
       "      <td>4.147858</td>\n",
       "      <td>...</td>\n",
       "      <td>7.606691</td>\n",
       "      <td>8.841007</td>\n",
       "      <td>8.881571</td>\n",
       "      <td>9.157351</td>\n",
       "      <td>0.409341</td>\n",
       "      <td>8.236560</td>\n",
       "      <td>0.724239</td>\n",
       "      <td>9.336825</td>\n",
       "      <td>4.040252</td>\n",
       "      <td>9.386523</td>\n",
       "    </tr>\n",
       "  </tbody>\n",
       "</table>\n",
       "<p>5 rows × 50 columns</p>\n",
       "</div>"
      ],
      "text/plain": [
       "                            UMAP1     UMAP2     UMAP3     UMAP4     UMAP5  \\\n",
       "100001_raw-Food_weight   7.464392  4.526705  4.225008  7.029216  4.382023   \n",
       "100002_raw-Energy        7.429606  4.536586  4.182258  7.069884  4.336564   \n",
       "100003_raw-Protein       7.481067  4.513837  4.172322  7.040905  4.395445   \n",
       "100004_raw-Fat           7.383680  4.351026  4.208352  6.941895  4.375668   \n",
       "100005_raw-Carbohydrate  7.412931  4.435416  4.227693  7.014967  4.406798   \n",
       "\n",
       "                            UMAP6     UMAP7     UMAP8     UMAP9    UMAP10  \\\n",
       "100001_raw-Food_weight   4.502639  4.489128  5.381521  4.940668  4.068273   \n",
       "100002_raw-Energy        4.421313  4.560764  5.324892  4.929991  3.999348   \n",
       "100003_raw-Protein       4.439210  4.487803  5.379720  4.935718  4.107790   \n",
       "100004_raw-Fat           4.538863  4.477001  5.397546  5.008193  4.069299   \n",
       "100005_raw-Carbohydrate  4.510470  4.479080  5.451272  4.932745  4.147858   \n",
       "\n",
       "                         ...    UMAP41    UMAP42    UMAP43    UMAP44  \\\n",
       "100001_raw-Food_weight   ...  7.605533  8.805881  8.939267  9.142330   \n",
       "100002_raw-Energy        ...  7.583344  8.843954  8.958254  9.086064   \n",
       "100003_raw-Protein       ...  7.619069  8.802183  8.938434  9.114165   \n",
       "100004_raw-Fat           ...  7.592715  8.820724  8.919216  9.157578   \n",
       "100005_raw-Carbohydrate  ...  7.606691  8.841007  8.881571  9.157351   \n",
       "\n",
       "                           UMAP45    UMAP46    UMAP47    UMAP48    UMAP49  \\\n",
       "100001_raw-Food_weight   0.445703  8.213864  0.703600  9.307579  4.072986   \n",
       "100002_raw-Energy        0.390866  8.235448  0.706651  9.296489  4.041227   \n",
       "100003_raw-Protein       0.442892  8.227354  0.692944  9.355126  4.053129   \n",
       "100004_raw-Fat           0.454712  8.220077  0.721550  9.364523  4.043874   \n",
       "100005_raw-Carbohydrate  0.409341  8.236560  0.724239  9.336825  4.040252   \n",
       "\n",
       "                           UMAP50  \n",
       "100001_raw-Food_weight   9.349484  \n",
       "100002_raw-Energy        9.304544  \n",
       "100003_raw-Protein       9.361687  \n",
       "100004_raw-Fat           9.397904  \n",
       "100005_raw-Carbohydrate  9.386523  \n",
       "\n",
       "[5 rows x 50 columns]"
      ]
     },
     "execution_count": 21,
     "metadata": {},
     "output_type": "execute_result"
    }
   ],
   "source": [
    "data.head()"
   ]
  },
  {
   "cell_type": "code",
   "execution_count": 22,
   "id": "cb9ef077",
   "metadata": {
    "execution": {
     "iopub.execute_input": "2022-09-13T01:13:23.175623Z",
     "iopub.status.busy": "2022-09-13T01:13:23.175448Z",
     "iopub.status.idle": "2022-09-13T01:13:23.194259Z",
     "shell.execute_reply": "2022-09-13T01:13:23.193777Z"
    },
    "papermill": {
     "duration": 0.030028,
     "end_time": "2022-09-13T01:13:23.195734",
     "exception": false,
     "start_time": "2022-09-13T01:13:23.165706",
     "status": "completed"
    },
    "tags": []
   },
   "outputs": [],
   "source": [
    "assert not data.isna().any().any()"
   ]
  },
  {
   "cell_type": "markdown",
   "id": "5d241f55",
   "metadata": {
    "papermill": {
     "duration": 0.00946,
     "end_time": "2022-09-13T01:13:23.214905",
     "exception": false,
     "start_time": "2022-09-13T01:13:23.205445",
     "status": "completed"
    },
    "tags": []
   },
   "source": [
    "# Clustering"
   ]
  },
  {
   "cell_type": "markdown",
   "id": "218c37c6",
   "metadata": {
    "papermill": {
     "duration": 0.008274,
     "end_time": "2022-09-13T01:13:23.232386",
     "exception": false,
     "start_time": "2022-09-13T01:13:23.224112",
     "status": "completed"
    },
    "tags": []
   },
   "source": [
    "## Generate ensemble"
   ]
  },
  {
   "cell_type": "code",
   "execution_count": 23,
   "id": "6580ed0f",
   "metadata": {
    "execution": {
     "iopub.execute_input": "2022-09-13T01:13:23.250659Z",
     "iopub.status.busy": "2022-09-13T01:13:23.250429Z",
     "iopub.status.idle": "2022-09-13T01:13:23.272461Z",
     "shell.execute_reply": "2022-09-13T01:13:23.271827Z"
    },
    "papermill": {
     "duration": 0.032699,
     "end_time": "2022-09-13T01:13:23.273919",
     "exception": false,
     "start_time": "2022-09-13T01:13:23.241220",
     "status": "completed"
    },
    "tags": []
   },
   "outputs": [],
   "source": [
    "from clustering.ensembles.utils import generate_ensemble"
   ]
  },
  {
   "cell_type": "code",
   "execution_count": 24,
   "id": "e952262e",
   "metadata": {
    "execution": {
     "iopub.execute_input": "2022-09-13T01:13:23.293263Z",
     "iopub.status.busy": "2022-09-13T01:13:23.293094Z",
     "iopub.status.idle": "2022-09-13T02:04:49.054205Z",
     "shell.execute_reply": "2022-09-13T02:04:49.053771Z"
    },
    "papermill": {
     "duration": 3085.772235,
     "end_time": "2022-09-13T02:04:49.055488",
     "exception": false,
     "start_time": "2022-09-13T01:13:23.283253",
     "status": "completed"
    },
    "tags": []
   },
   "outputs": [
    {
     "name": "stderr",
     "output_type": "stream",
     "text": [
      "100%|██████████| 295/295 [51:25<00:00, 10.46s/it]\n"
     ]
    }
   ],
   "source": [
    "ensemble = generate_ensemble(\n",
    "    data,\n",
    "    CLUSTERERS,\n",
    "    attributes=CLUSTERING_ATTRIBUTES_TO_SAVE,\n",
    ")"
   ]
  },
  {
   "cell_type": "code",
   "execution_count": 25,
   "id": "7fb8e659",
   "metadata": {
    "execution": {
     "iopub.execute_input": "2022-09-13T02:04:49.093272Z",
     "iopub.status.busy": "2022-09-13T02:04:49.092866Z",
     "iopub.status.idle": "2022-09-13T02:04:49.111165Z",
     "shell.execute_reply": "2022-09-13T02:04:49.110577Z"
    },
    "papermill": {
     "duration": 0.038629,
     "end_time": "2022-09-13T02:04:49.112474",
     "exception": false,
     "start_time": "2022-09-13T02:04:49.073845",
     "status": "completed"
    },
    "tags": []
   },
   "outputs": [
    {
     "data": {
      "text/plain": [
       "(295, 3)"
      ]
     },
     "execution_count": 25,
     "metadata": {},
     "output_type": "execute_result"
    }
   ],
   "source": [
    "# the number should be close to 295 (the number of partitions generated by k-means/spectral clustering)\n",
    "ensemble.shape"
   ]
  },
  {
   "cell_type": "code",
   "execution_count": 26,
   "id": "b58e9215",
   "metadata": {
    "execution": {
     "iopub.execute_input": "2022-09-13T02:04:49.149375Z",
     "iopub.status.busy": "2022-09-13T02:04:49.149181Z",
     "iopub.status.idle": "2022-09-13T02:04:49.175133Z",
     "shell.execute_reply": "2022-09-13T02:04:49.174643Z"
    },
    "papermill": {
     "duration": 0.045736,
     "end_time": "2022-09-13T02:04:49.176385",
     "exception": false,
     "start_time": "2022-09-13T02:04:49.130649",
     "status": "completed"
    },
    "tags": []
   },
   "outputs": [
    {
     "data": {
      "text/html": [
       "<div>\n",
       "<style scoped>\n",
       "    .dataframe tbody tr th:only-of-type {\n",
       "        vertical-align: middle;\n",
       "    }\n",
       "\n",
       "    .dataframe tbody tr th {\n",
       "        vertical-align: top;\n",
       "    }\n",
       "\n",
       "    .dataframe thead th {\n",
       "        text-align: right;\n",
       "    }\n",
       "</style>\n",
       "<table border=\"1\" class=\"dataframe\">\n",
       "  <thead>\n",
       "    <tr style=\"text-align: right;\">\n",
       "      <th></th>\n",
       "      <th>clusterer_params</th>\n",
       "      <th>partition</th>\n",
       "      <th>n_clusters</th>\n",
       "    </tr>\n",
       "    <tr>\n",
       "      <th>clusterer_id</th>\n",
       "      <th></th>\n",
       "      <th></th>\n",
       "      <th></th>\n",
       "    </tr>\n",
       "  </thead>\n",
       "  <tbody>\n",
       "    <tr>\n",
       "      <th>GaussianMixture #0</th>\n",
       "      <td>{'covariance_type': 'full', 'init_params': 'km...</td>\n",
       "      <td>[1.0, 1.0, 1.0, 1.0, 1.0, 1.0, 1.0, 1.0, 1.0, ...</td>\n",
       "      <td>2</td>\n",
       "    </tr>\n",
       "    <tr>\n",
       "      <th>GaussianMixture #1</th>\n",
       "      <td>{'covariance_type': 'full', 'init_params': 'km...</td>\n",
       "      <td>[0.0, 0.0, 0.0, 0.0, 0.0, 0.0, 0.0, 0.0, 0.0, ...</td>\n",
       "      <td>2</td>\n",
       "    </tr>\n",
       "    <tr>\n",
       "      <th>GaussianMixture #2</th>\n",
       "      <td>{'covariance_type': 'full', 'init_params': 'km...</td>\n",
       "      <td>[0.0, 0.0, 0.0, 0.0, 0.0, 0.0, 0.0, 0.0, 0.0, ...</td>\n",
       "      <td>2</td>\n",
       "    </tr>\n",
       "    <tr>\n",
       "      <th>GaussianMixture #3</th>\n",
       "      <td>{'covariance_type': 'full', 'init_params': 'km...</td>\n",
       "      <td>[1.0, 1.0, 1.0, 1.0, 1.0, 1.0, 1.0, 1.0, 1.0, ...</td>\n",
       "      <td>2</td>\n",
       "    </tr>\n",
       "    <tr>\n",
       "      <th>GaussianMixture #4</th>\n",
       "      <td>{'covariance_type': 'full', 'init_params': 'km...</td>\n",
       "      <td>[0.0, 0.0, 0.0, 0.0, 0.0, 0.0, 0.0, 0.0, 0.0, ...</td>\n",
       "      <td>2</td>\n",
       "    </tr>\n",
       "  </tbody>\n",
       "</table>\n",
       "</div>"
      ],
      "text/plain": [
       "                                                     clusterer_params  \\\n",
       "clusterer_id                                                            \n",
       "GaussianMixture #0  {'covariance_type': 'full', 'init_params': 'km...   \n",
       "GaussianMixture #1  {'covariance_type': 'full', 'init_params': 'km...   \n",
       "GaussianMixture #2  {'covariance_type': 'full', 'init_params': 'km...   \n",
       "GaussianMixture #3  {'covariance_type': 'full', 'init_params': 'km...   \n",
       "GaussianMixture #4  {'covariance_type': 'full', 'init_params': 'km...   \n",
       "\n",
       "                                                            partition  \\\n",
       "clusterer_id                                                            \n",
       "GaussianMixture #0  [1.0, 1.0, 1.0, 1.0, 1.0, 1.0, 1.0, 1.0, 1.0, ...   \n",
       "GaussianMixture #1  [0.0, 0.0, 0.0, 0.0, 0.0, 0.0, 0.0, 0.0, 0.0, ...   \n",
       "GaussianMixture #2  [0.0, 0.0, 0.0, 0.0, 0.0, 0.0, 0.0, 0.0, 0.0, ...   \n",
       "GaussianMixture #3  [1.0, 1.0, 1.0, 1.0, 1.0, 1.0, 1.0, 1.0, 1.0, ...   \n",
       "GaussianMixture #4  [0.0, 0.0, 0.0, 0.0, 0.0, 0.0, 0.0, 0.0, 0.0, ...   \n",
       "\n",
       "                    n_clusters  \n",
       "clusterer_id                    \n",
       "GaussianMixture #0           2  \n",
       "GaussianMixture #1           2  \n",
       "GaussianMixture #2           2  \n",
       "GaussianMixture #3           2  \n",
       "GaussianMixture #4           2  "
      ]
     },
     "execution_count": 26,
     "metadata": {},
     "output_type": "execute_result"
    }
   ],
   "source": [
    "ensemble.head()"
   ]
  },
  {
   "cell_type": "code",
   "execution_count": 27,
   "id": "64471fed",
   "metadata": {
    "execution": {
     "iopub.execute_input": "2022-09-13T02:04:49.215270Z",
     "iopub.status.busy": "2022-09-13T02:04:49.214839Z",
     "iopub.status.idle": "2022-09-13T02:04:49.234600Z",
     "shell.execute_reply": "2022-09-13T02:04:49.234067Z"
    },
    "papermill": {
     "duration": 0.040664,
     "end_time": "2022-09-13T02:04:49.235965",
     "exception": false,
     "start_time": "2022-09-13T02:04:49.195301",
     "status": "completed"
    },
    "tags": []
   },
   "outputs": [
    {
     "data": {
      "text/plain": [
       "60    5\n",
       "16    5\n",
       "28    5\n",
       "27    5\n",
       "26    5\n",
       "Name: n_clusters, dtype: int64"
      ]
     },
     "execution_count": 27,
     "metadata": {},
     "output_type": "execute_result"
    }
   ],
   "source": [
    "ensemble[\"n_clusters\"].value_counts().head()"
   ]
  },
  {
   "cell_type": "code",
   "execution_count": 28,
   "id": "1042cc8f",
   "metadata": {
    "execution": {
     "iopub.execute_input": "2022-09-13T02:04:49.274621Z",
     "iopub.status.busy": "2022-09-13T02:04:49.273883Z",
     "iopub.status.idle": "2022-09-13T02:04:49.294812Z",
     "shell.execute_reply": "2022-09-13T02:04:49.294317Z"
    },
    "papermill": {
     "duration": 0.041133,
     "end_time": "2022-09-13T02:04:49.296129",
     "exception": false,
     "start_time": "2022-09-13T02:04:49.254996",
     "status": "completed"
    },
    "tags": []
   },
   "outputs": [
    {
     "data": {
      "text/plain": [
       "count    295.000000\n",
       "mean      31.000000\n",
       "std       17.058323\n",
       "min        2.000000\n",
       "25%       16.000000\n",
       "50%       31.000000\n",
       "75%       46.000000\n",
       "max       60.000000\n",
       "Name: n_clusters, dtype: float64"
      ]
     },
     "metadata": {},
     "output_type": "display_data"
    }
   ],
   "source": [
    "ensemble_stats = ensemble[\"n_clusters\"].describe()\n",
    "display(ensemble_stats)"
   ]
  },
  {
   "cell_type": "markdown",
   "id": "13772ff4",
   "metadata": {
    "papermill": {
     "duration": 0.017879,
     "end_time": "2022-09-13T02:04:49.333045",
     "exception": false,
     "start_time": "2022-09-13T02:04:49.315166",
     "status": "completed"
    },
    "tags": []
   },
   "source": [
    "## Testing"
   ]
  },
  {
   "cell_type": "code",
   "execution_count": 29,
   "id": "985f813c",
   "metadata": {
    "execution": {
     "iopub.execute_input": "2022-09-13T02:04:49.370044Z",
     "iopub.status.busy": "2022-09-13T02:04:49.369835Z",
     "iopub.status.idle": "2022-09-13T02:04:49.388472Z",
     "shell.execute_reply": "2022-09-13T02:04:49.387942Z"
    },
    "papermill": {
     "duration": 0.038914,
     "end_time": "2022-09-13T02:04:49.389902",
     "exception": false,
     "start_time": "2022-09-13T02:04:49.350988",
     "status": "completed"
    },
    "tags": []
   },
   "outputs": [],
   "source": [
    "assert ensemble_stats[\"min\"] > 1"
   ]
  },
  {
   "cell_type": "code",
   "execution_count": 30,
   "id": "9a90a7b1",
   "metadata": {
    "execution": {
     "iopub.execute_input": "2022-09-13T02:04:49.429183Z",
     "iopub.status.busy": "2022-09-13T02:04:49.428761Z",
     "iopub.status.idle": "2022-09-13T02:04:49.447207Z",
     "shell.execute_reply": "2022-09-13T02:04:49.446619Z"
    },
    "papermill": {
     "duration": 0.039707,
     "end_time": "2022-09-13T02:04:49.448649",
     "exception": false,
     "start_time": "2022-09-13T02:04:49.408942",
     "status": "completed"
    },
    "tags": []
   },
   "outputs": [],
   "source": [
    "assert not ensemble[\"n_clusters\"].isna().any()"
   ]
  },
  {
   "cell_type": "code",
   "execution_count": 31,
   "id": "22e96604",
   "metadata": {
    "execution": {
     "iopub.execute_input": "2022-09-13T02:04:49.486844Z",
     "iopub.status.busy": "2022-09-13T02:04:49.486205Z",
     "iopub.status.idle": "2022-09-13T02:04:49.504379Z",
     "shell.execute_reply": "2022-09-13T02:04:49.503687Z"
    },
    "papermill": {
     "duration": 0.037921,
     "end_time": "2022-09-13T02:04:49.505727",
     "exception": false,
     "start_time": "2022-09-13T02:04:49.467806",
     "status": "completed"
    },
    "tags": []
   },
   "outputs": [],
   "source": [
    "assert ensemble.shape[0] == len(CLUSTERERS)"
   ]
  },
  {
   "cell_type": "code",
   "execution_count": 32,
   "id": "d6a54942",
   "metadata": {
    "execution": {
     "iopub.execute_input": "2022-09-13T02:04:49.543000Z",
     "iopub.status.busy": "2022-09-13T02:04:49.542776Z",
     "iopub.status.idle": "2022-09-13T02:04:49.578107Z",
     "shell.execute_reply": "2022-09-13T02:04:49.577610Z"
    },
    "papermill": {
     "duration": 0.05556,
     "end_time": "2022-09-13T02:04:49.579827",
     "exception": false,
     "start_time": "2022-09-13T02:04:49.524267",
     "status": "completed"
    },
    "tags": []
   },
   "outputs": [],
   "source": [
    "# all partitions have the right size\n",
    "assert np.all(\n",
    "    [part[\"partition\"].shape[0] == data.shape[0] for idx, part in ensemble.iterrows()]\n",
    ")"
   ]
  },
  {
   "cell_type": "code",
   "execution_count": 33,
   "id": "6d9809b4",
   "metadata": {
    "execution": {
     "iopub.execute_input": "2022-09-13T02:04:49.617389Z",
     "iopub.status.busy": "2022-09-13T02:04:49.616786Z",
     "iopub.status.idle": "2022-09-13T02:04:49.654908Z",
     "shell.execute_reply": "2022-09-13T02:04:49.654428Z"
    },
    "papermill": {
     "duration": 0.058242,
     "end_time": "2022-09-13T02:04:49.656306",
     "exception": false,
     "start_time": "2022-09-13T02:04:49.598064",
     "status": "completed"
    },
    "tags": []
   },
   "outputs": [],
   "source": [
    "# no partition has negative clusters (noisy points)\n",
    "assert not np.any([(part[\"partition\"] < 0).any() for idx, part in ensemble.iterrows()])"
   ]
  },
  {
   "cell_type": "markdown",
   "id": "be56bd86",
   "metadata": {
    "papermill": {
     "duration": 0.018433,
     "end_time": "2022-09-13T02:04:49.693163",
     "exception": false,
     "start_time": "2022-09-13T02:04:49.674730",
     "status": "completed"
    },
    "tags": []
   },
   "source": [
    "## Add clustering quality measures"
   ]
  },
  {
   "cell_type": "code",
   "execution_count": 34,
   "id": "3789c847",
   "metadata": {
    "execution": {
     "iopub.execute_input": "2022-09-13T02:04:49.730181Z",
     "iopub.status.busy": "2022-09-13T02:04:49.729871Z",
     "iopub.status.idle": "2022-09-13T02:04:49.747450Z",
     "shell.execute_reply": "2022-09-13T02:04:49.746946Z"
    },
    "papermill": {
     "duration": 0.037558,
     "end_time": "2022-09-13T02:04:49.748818",
     "exception": false,
     "start_time": "2022-09-13T02:04:49.711260",
     "status": "completed"
    },
    "tags": []
   },
   "outputs": [],
   "source": [
    "from sklearn.metrics import calinski_harabasz_score"
   ]
  },
  {
   "cell_type": "code",
   "execution_count": 35,
   "id": "20a6e027",
   "metadata": {
    "execution": {
     "iopub.execute_input": "2022-09-13T02:04:49.787049Z",
     "iopub.status.busy": "2022-09-13T02:04:49.786838Z",
     "iopub.status.idle": "2022-09-13T02:04:50.707424Z",
     "shell.execute_reply": "2022-09-13T02:04:50.706806Z"
    },
    "papermill": {
     "duration": 0.941333,
     "end_time": "2022-09-13T02:04:50.708990",
     "exception": false,
     "start_time": "2022-09-13T02:04:49.767657",
     "status": "completed"
    },
    "tags": []
   },
   "outputs": [],
   "source": [
    "ensemble = ensemble.assign(\n",
    "    ch_score=ensemble[\"partition\"].apply(lambda x: calinski_harabasz_score(data, x))\n",
    ")"
   ]
  },
  {
   "cell_type": "code",
   "execution_count": 36,
   "id": "dbb85abc",
   "metadata": {
    "execution": {
     "iopub.execute_input": "2022-09-13T02:04:50.746303Z",
     "iopub.status.busy": "2022-09-13T02:04:50.746102Z",
     "iopub.status.idle": "2022-09-13T02:04:50.764705Z",
     "shell.execute_reply": "2022-09-13T02:04:50.764093Z"
    },
    "papermill": {
     "duration": 0.038807,
     "end_time": "2022-09-13T02:04:50.765975",
     "exception": false,
     "start_time": "2022-09-13T02:04:50.727168",
     "status": "completed"
    },
    "tags": []
   },
   "outputs": [
    {
     "data": {
      "text/plain": [
       "(295, 4)"
      ]
     },
     "execution_count": 36,
     "metadata": {},
     "output_type": "execute_result"
    }
   ],
   "source": [
    "ensemble.shape"
   ]
  },
  {
   "cell_type": "code",
   "execution_count": 37,
   "id": "3bb3b1bd",
   "metadata": {
    "execution": {
     "iopub.execute_input": "2022-09-13T02:04:50.802968Z",
     "iopub.status.busy": "2022-09-13T02:04:50.802760Z",
     "iopub.status.idle": "2022-09-13T02:04:50.830249Z",
     "shell.execute_reply": "2022-09-13T02:04:50.829637Z"
    },
    "papermill": {
     "duration": 0.047256,
     "end_time": "2022-09-13T02:04:50.831609",
     "exception": false,
     "start_time": "2022-09-13T02:04:50.784353",
     "status": "completed"
    },
    "tags": []
   },
   "outputs": [
    {
     "data": {
      "text/html": [
       "<div>\n",
       "<style scoped>\n",
       "    .dataframe tbody tr th:only-of-type {\n",
       "        vertical-align: middle;\n",
       "    }\n",
       "\n",
       "    .dataframe tbody tr th {\n",
       "        vertical-align: top;\n",
       "    }\n",
       "\n",
       "    .dataframe thead th {\n",
       "        text-align: right;\n",
       "    }\n",
       "</style>\n",
       "<table border=\"1\" class=\"dataframe\">\n",
       "  <thead>\n",
       "    <tr style=\"text-align: right;\">\n",
       "      <th></th>\n",
       "      <th>clusterer_params</th>\n",
       "      <th>partition</th>\n",
       "      <th>n_clusters</th>\n",
       "      <th>ch_score</th>\n",
       "    </tr>\n",
       "    <tr>\n",
       "      <th>clusterer_id</th>\n",
       "      <th></th>\n",
       "      <th></th>\n",
       "      <th></th>\n",
       "      <th></th>\n",
       "    </tr>\n",
       "  </thead>\n",
       "  <tbody>\n",
       "    <tr>\n",
       "      <th>GaussianMixture #0</th>\n",
       "      <td>{'covariance_type': 'full', 'init_params': 'km...</td>\n",
       "      <td>[1.0, 1.0, 1.0, 1.0, 1.0, 1.0, 1.0, 1.0, 1.0, ...</td>\n",
       "      <td>2</td>\n",
       "      <td>1962.947653</td>\n",
       "    </tr>\n",
       "    <tr>\n",
       "      <th>GaussianMixture #1</th>\n",
       "      <td>{'covariance_type': 'full', 'init_params': 'km...</td>\n",
       "      <td>[0.0, 0.0, 0.0, 0.0, 0.0, 0.0, 0.0, 0.0, 0.0, ...</td>\n",
       "      <td>2</td>\n",
       "      <td>1962.947653</td>\n",
       "    </tr>\n",
       "    <tr>\n",
       "      <th>GaussianMixture #2</th>\n",
       "      <td>{'covariance_type': 'full', 'init_params': 'km...</td>\n",
       "      <td>[0.0, 0.0, 0.0, 0.0, 0.0, 0.0, 0.0, 0.0, 0.0, ...</td>\n",
       "      <td>2</td>\n",
       "      <td>1962.947653</td>\n",
       "    </tr>\n",
       "    <tr>\n",
       "      <th>GaussianMixture #3</th>\n",
       "      <td>{'covariance_type': 'full', 'init_params': 'km...</td>\n",
       "      <td>[1.0, 1.0, 1.0, 1.0, 1.0, 1.0, 1.0, 1.0, 1.0, ...</td>\n",
       "      <td>2</td>\n",
       "      <td>1962.947653</td>\n",
       "    </tr>\n",
       "    <tr>\n",
       "      <th>GaussianMixture #4</th>\n",
       "      <td>{'covariance_type': 'full', 'init_params': 'km...</td>\n",
       "      <td>[0.0, 0.0, 0.0, 0.0, 0.0, 0.0, 0.0, 0.0, 0.0, ...</td>\n",
       "      <td>2</td>\n",
       "      <td>1962.947653</td>\n",
       "    </tr>\n",
       "  </tbody>\n",
       "</table>\n",
       "</div>"
      ],
      "text/plain": [
       "                                                     clusterer_params  \\\n",
       "clusterer_id                                                            \n",
       "GaussianMixture #0  {'covariance_type': 'full', 'init_params': 'km...   \n",
       "GaussianMixture #1  {'covariance_type': 'full', 'init_params': 'km...   \n",
       "GaussianMixture #2  {'covariance_type': 'full', 'init_params': 'km...   \n",
       "GaussianMixture #3  {'covariance_type': 'full', 'init_params': 'km...   \n",
       "GaussianMixture #4  {'covariance_type': 'full', 'init_params': 'km...   \n",
       "\n",
       "                                                            partition  \\\n",
       "clusterer_id                                                            \n",
       "GaussianMixture #0  [1.0, 1.0, 1.0, 1.0, 1.0, 1.0, 1.0, 1.0, 1.0, ...   \n",
       "GaussianMixture #1  [0.0, 0.0, 0.0, 0.0, 0.0, 0.0, 0.0, 0.0, 0.0, ...   \n",
       "GaussianMixture #2  [0.0, 0.0, 0.0, 0.0, 0.0, 0.0, 0.0, 0.0, 0.0, ...   \n",
       "GaussianMixture #3  [1.0, 1.0, 1.0, 1.0, 1.0, 1.0, 1.0, 1.0, 1.0, ...   \n",
       "GaussianMixture #4  [0.0, 0.0, 0.0, 0.0, 0.0, 0.0, 0.0, 0.0, 0.0, ...   \n",
       "\n",
       "                    n_clusters     ch_score  \n",
       "clusterer_id                                 \n",
       "GaussianMixture #0           2  1962.947653  \n",
       "GaussianMixture #1           2  1962.947653  \n",
       "GaussianMixture #2           2  1962.947653  \n",
       "GaussianMixture #3           2  1962.947653  \n",
       "GaussianMixture #4           2  1962.947653  "
      ]
     },
     "execution_count": 37,
     "metadata": {},
     "output_type": "execute_result"
    }
   ],
   "source": [
    "ensemble.head()"
   ]
  },
  {
   "cell_type": "markdown",
   "id": "d5672a74",
   "metadata": {
    "papermill": {
     "duration": 0.017843,
     "end_time": "2022-09-13T02:04:50.867977",
     "exception": false,
     "start_time": "2022-09-13T02:04:50.850134",
     "status": "completed"
    },
    "tags": []
   },
   "source": [
    "## Save"
   ]
  },
  {
   "cell_type": "code",
   "execution_count": 38,
   "id": "08fa1af0",
   "metadata": {
    "execution": {
     "iopub.execute_input": "2022-09-13T02:04:50.904885Z",
     "iopub.status.busy": "2022-09-13T02:04:50.904678Z",
     "iopub.status.idle": "2022-09-13T02:04:50.923631Z",
     "shell.execute_reply": "2022-09-13T02:04:50.923150Z"
    },
    "papermill": {
     "duration": 0.039055,
     "end_time": "2022-09-13T02:04:50.924898",
     "exception": false,
     "start_time": "2022-09-13T02:04:50.885843",
     "status": "completed"
    },
    "tags": []
   },
   "outputs": [
    {
     "data": {
      "text/plain": [
       "PosixPath('/opt/data/results/clustering/null_sims/runs/umap-z_score_std-projection-smultixcan-efo_partial-mashr-zscores/GaussianMixture-COVARIANCE_TYPE_full-K_MAX_60-K_MIN_2-N_INIT_10-N_REPS_PER_K_5.pkl')"
      ]
     },
     "metadata": {},
     "output_type": "display_data"
    }
   ],
   "source": [
    "output_filename = Path(\n",
    "    RESULTS_DIR,\n",
    "    generate_result_set_name(\n",
    "        CLUSTERING_OPTIONS,\n",
    "        prefix=f\"{clustering_method_name}-\",\n",
    "        suffix=\".pkl\",\n",
    "    ),\n",
    ").resolve()\n",
    "display(output_filename)"
   ]
  },
  {
   "cell_type": "code",
   "execution_count": 39,
   "id": "7c4c78e7",
   "metadata": {
    "execution": {
     "iopub.execute_input": "2022-09-13T02:04:50.965268Z",
     "iopub.status.busy": "2022-09-13T02:04:50.964793Z",
     "iopub.status.idle": "2022-09-13T02:04:50.996951Z",
     "shell.execute_reply": "2022-09-13T02:04:50.996410Z"
    },
    "papermill": {
     "duration": 0.05428,
     "end_time": "2022-09-13T02:04:50.998417",
     "exception": false,
     "start_time": "2022-09-13T02:04:50.944137",
     "status": "completed"
    },
    "tags": []
   },
   "outputs": [],
   "source": [
    "ensemble.to_pickle(output_filename)"
   ]
  },
  {
   "cell_type": "markdown",
   "id": "15a3be9a",
   "metadata": {
    "papermill": {
     "duration": 0.018545,
     "end_time": "2022-09-13T02:04:51.036704",
     "exception": false,
     "start_time": "2022-09-13T02:04:51.018159",
     "status": "completed"
    },
    "tags": []
   },
   "source": [
    "# Cluster quality"
   ]
  },
  {
   "cell_type": "code",
   "execution_count": 40,
   "id": "d889f4a4",
   "metadata": {
    "execution": {
     "iopub.execute_input": "2022-09-13T02:04:51.073741Z",
     "iopub.status.busy": "2022-09-13T02:04:51.073535Z",
     "iopub.status.idle": "2022-09-13T02:04:51.097138Z",
     "shell.execute_reply": "2022-09-13T02:04:51.096557Z"
    },
    "papermill": {
     "duration": 0.043724,
     "end_time": "2022-09-13T02:04:51.098414",
     "exception": false,
     "start_time": "2022-09-13T02:04:51.054690",
     "status": "completed"
    },
    "tags": []
   },
   "outputs": [
    {
     "data": {
      "text/html": [
       "<div>\n",
       "<style scoped>\n",
       "    .dataframe tbody tr th:only-of-type {\n",
       "        vertical-align: middle;\n",
       "    }\n",
       "\n",
       "    .dataframe tbody tr th {\n",
       "        vertical-align: top;\n",
       "    }\n",
       "\n",
       "    .dataframe thead th {\n",
       "        text-align: right;\n",
       "    }\n",
       "</style>\n",
       "<table border=\"1\" class=\"dataframe\">\n",
       "  <thead>\n",
       "    <tr style=\"text-align: right;\">\n",
       "      <th></th>\n",
       "      <th>ch_score</th>\n",
       "    </tr>\n",
       "    <tr>\n",
       "      <th>n_clusters</th>\n",
       "      <th></th>\n",
       "    </tr>\n",
       "  </thead>\n",
       "  <tbody>\n",
       "    <tr>\n",
       "      <th>2</th>\n",
       "      <td>1962.947653</td>\n",
       "    </tr>\n",
       "    <tr>\n",
       "      <th>3</th>\n",
       "      <td>2579.256426</td>\n",
       "    </tr>\n",
       "    <tr>\n",
       "      <th>4</th>\n",
       "      <td>3050.841628</td>\n",
       "    </tr>\n",
       "    <tr>\n",
       "      <th>5</th>\n",
       "      <td>2756.079130</td>\n",
       "    </tr>\n",
       "    <tr>\n",
       "      <th>6</th>\n",
       "      <td>3079.315905</td>\n",
       "    </tr>\n",
       "    <tr>\n",
       "      <th>7</th>\n",
       "      <td>3254.809071</td>\n",
       "    </tr>\n",
       "    <tr>\n",
       "      <th>8</th>\n",
       "      <td>3233.870395</td>\n",
       "    </tr>\n",
       "    <tr>\n",
       "      <th>9</th>\n",
       "      <td>3294.435884</td>\n",
       "    </tr>\n",
       "    <tr>\n",
       "      <th>10</th>\n",
       "      <td>3381.733490</td>\n",
       "    </tr>\n",
       "    <tr>\n",
       "      <th>11</th>\n",
       "      <td>3431.007754</td>\n",
       "    </tr>\n",
       "    <tr>\n",
       "      <th>12</th>\n",
       "      <td>3579.813381</td>\n",
       "    </tr>\n",
       "    <tr>\n",
       "      <th>13</th>\n",
       "      <td>3683.790300</td>\n",
       "    </tr>\n",
       "    <tr>\n",
       "      <th>14</th>\n",
       "      <td>3782.418422</td>\n",
       "    </tr>\n",
       "    <tr>\n",
       "      <th>15</th>\n",
       "      <td>3845.227415</td>\n",
       "    </tr>\n",
       "    <tr>\n",
       "      <th>16</th>\n",
       "      <td>3937.484521</td>\n",
       "    </tr>\n",
       "    <tr>\n",
       "      <th>17</th>\n",
       "      <td>3995.360629</td>\n",
       "    </tr>\n",
       "    <tr>\n",
       "      <th>18</th>\n",
       "      <td>4029.709625</td>\n",
       "    </tr>\n",
       "    <tr>\n",
       "      <th>19</th>\n",
       "      <td>4124.242005</td>\n",
       "    </tr>\n",
       "    <tr>\n",
       "      <th>20</th>\n",
       "      <td>4197.820493</td>\n",
       "    </tr>\n",
       "    <tr>\n",
       "      <th>21</th>\n",
       "      <td>4240.469432</td>\n",
       "    </tr>\n",
       "    <tr>\n",
       "      <th>22</th>\n",
       "      <td>4288.919901</td>\n",
       "    </tr>\n",
       "    <tr>\n",
       "      <th>23</th>\n",
       "      <td>4246.973968</td>\n",
       "    </tr>\n",
       "    <tr>\n",
       "      <th>24</th>\n",
       "      <td>4304.047521</td>\n",
       "    </tr>\n",
       "    <tr>\n",
       "      <th>25</th>\n",
       "      <td>4309.910267</td>\n",
       "    </tr>\n",
       "    <tr>\n",
       "      <th>26</th>\n",
       "      <td>4324.553290</td>\n",
       "    </tr>\n",
       "    <tr>\n",
       "      <th>27</th>\n",
       "      <td>4416.003138</td>\n",
       "    </tr>\n",
       "    <tr>\n",
       "      <th>28</th>\n",
       "      <td>4468.335249</td>\n",
       "    </tr>\n",
       "    <tr>\n",
       "      <th>29</th>\n",
       "      <td>4485.112104</td>\n",
       "    </tr>\n",
       "    <tr>\n",
       "      <th>30</th>\n",
       "      <td>4569.673568</td>\n",
       "    </tr>\n",
       "    <tr>\n",
       "      <th>31</th>\n",
       "      <td>4511.521127</td>\n",
       "    </tr>\n",
       "    <tr>\n",
       "      <th>32</th>\n",
       "      <td>4678.864567</td>\n",
       "    </tr>\n",
       "    <tr>\n",
       "      <th>33</th>\n",
       "      <td>4758.782551</td>\n",
       "    </tr>\n",
       "    <tr>\n",
       "      <th>34</th>\n",
       "      <td>4783.767101</td>\n",
       "    </tr>\n",
       "    <tr>\n",
       "      <th>35</th>\n",
       "      <td>4791.589914</td>\n",
       "    </tr>\n",
       "    <tr>\n",
       "      <th>36</th>\n",
       "      <td>4822.624267</td>\n",
       "    </tr>\n",
       "    <tr>\n",
       "      <th>37</th>\n",
       "      <td>4832.296476</td>\n",
       "    </tr>\n",
       "    <tr>\n",
       "      <th>38</th>\n",
       "      <td>4875.591780</td>\n",
       "    </tr>\n",
       "    <tr>\n",
       "      <th>39</th>\n",
       "      <td>4865.721169</td>\n",
       "    </tr>\n",
       "    <tr>\n",
       "      <th>40</th>\n",
       "      <td>4877.812719</td>\n",
       "    </tr>\n",
       "    <tr>\n",
       "      <th>41</th>\n",
       "      <td>4835.533777</td>\n",
       "    </tr>\n",
       "    <tr>\n",
       "      <th>42</th>\n",
       "      <td>4837.788030</td>\n",
       "    </tr>\n",
       "    <tr>\n",
       "      <th>43</th>\n",
       "      <td>4910.992335</td>\n",
       "    </tr>\n",
       "    <tr>\n",
       "      <th>44</th>\n",
       "      <td>4881.188300</td>\n",
       "    </tr>\n",
       "    <tr>\n",
       "      <th>45</th>\n",
       "      <td>4904.521161</td>\n",
       "    </tr>\n",
       "    <tr>\n",
       "      <th>46</th>\n",
       "      <td>4890.299966</td>\n",
       "    </tr>\n",
       "    <tr>\n",
       "      <th>47</th>\n",
       "      <td>4905.677261</td>\n",
       "    </tr>\n",
       "    <tr>\n",
       "      <th>48</th>\n",
       "      <td>4919.568335</td>\n",
       "    </tr>\n",
       "    <tr>\n",
       "      <th>49</th>\n",
       "      <td>4856.946837</td>\n",
       "    </tr>\n",
       "    <tr>\n",
       "      <th>50</th>\n",
       "      <td>4845.128460</td>\n",
       "    </tr>\n",
       "    <tr>\n",
       "      <th>51</th>\n",
       "      <td>4847.179910</td>\n",
       "    </tr>\n",
       "    <tr>\n",
       "      <th>52</th>\n",
       "      <td>4807.831922</td>\n",
       "    </tr>\n",
       "    <tr>\n",
       "      <th>53</th>\n",
       "      <td>4785.263557</td>\n",
       "    </tr>\n",
       "    <tr>\n",
       "      <th>54</th>\n",
       "      <td>4796.124045</td>\n",
       "    </tr>\n",
       "    <tr>\n",
       "      <th>55</th>\n",
       "      <td>4748.344201</td>\n",
       "    </tr>\n",
       "    <tr>\n",
       "      <th>56</th>\n",
       "      <td>4708.223087</td>\n",
       "    </tr>\n",
       "    <tr>\n",
       "      <th>57</th>\n",
       "      <td>4717.244098</td>\n",
       "    </tr>\n",
       "    <tr>\n",
       "      <th>58</th>\n",
       "      <td>4661.921426</td>\n",
       "    </tr>\n",
       "    <tr>\n",
       "      <th>59</th>\n",
       "      <td>4686.129966</td>\n",
       "    </tr>\n",
       "    <tr>\n",
       "      <th>60</th>\n",
       "      <td>4662.073772</td>\n",
       "    </tr>\n",
       "  </tbody>\n",
       "</table>\n",
       "</div>"
      ],
      "text/plain": [
       "               ch_score\n",
       "n_clusters             \n",
       "2           1962.947653\n",
       "3           2579.256426\n",
       "4           3050.841628\n",
       "5           2756.079130\n",
       "6           3079.315905\n",
       "7           3254.809071\n",
       "8           3233.870395\n",
       "9           3294.435884\n",
       "10          3381.733490\n",
       "11          3431.007754\n",
       "12          3579.813381\n",
       "13          3683.790300\n",
       "14          3782.418422\n",
       "15          3845.227415\n",
       "16          3937.484521\n",
       "17          3995.360629\n",
       "18          4029.709625\n",
       "19          4124.242005\n",
       "20          4197.820493\n",
       "21          4240.469432\n",
       "22          4288.919901\n",
       "23          4246.973968\n",
       "24          4304.047521\n",
       "25          4309.910267\n",
       "26          4324.553290\n",
       "27          4416.003138\n",
       "28          4468.335249\n",
       "29          4485.112104\n",
       "30          4569.673568\n",
       "31          4511.521127\n",
       "32          4678.864567\n",
       "33          4758.782551\n",
       "34          4783.767101\n",
       "35          4791.589914\n",
       "36          4822.624267\n",
       "37          4832.296476\n",
       "38          4875.591780\n",
       "39          4865.721169\n",
       "40          4877.812719\n",
       "41          4835.533777\n",
       "42          4837.788030\n",
       "43          4910.992335\n",
       "44          4881.188300\n",
       "45          4904.521161\n",
       "46          4890.299966\n",
       "47          4905.677261\n",
       "48          4919.568335\n",
       "49          4856.946837\n",
       "50          4845.128460\n",
       "51          4847.179910\n",
       "52          4807.831922\n",
       "53          4785.263557\n",
       "54          4796.124045\n",
       "55          4748.344201\n",
       "56          4708.223087\n",
       "57          4717.244098\n",
       "58          4661.921426\n",
       "59          4686.129966\n",
       "60          4662.073772"
      ]
     },
     "metadata": {},
     "output_type": "display_data"
    }
   ],
   "source": [
    "with pd.option_context(\"display.max_rows\", None, \"display.max_columns\", None):\n",
    "    _df = ensemble.groupby([\"n_clusters\"]).mean()\n",
    "    display(_df)"
   ]
  },
  {
   "cell_type": "code",
   "execution_count": 41,
   "id": "e348f467",
   "metadata": {
    "execution": {
     "iopub.execute_input": "2022-09-13T02:04:51.138305Z",
     "iopub.status.busy": "2022-09-13T02:04:51.138096Z",
     "iopub.status.idle": "2022-09-13T02:04:54.141761Z",
     "shell.execute_reply": "2022-09-13T02:04:54.141128Z"
    },
    "papermill": {
     "duration": 3.024885,
     "end_time": "2022-09-13T02:04:54.143111",
     "exception": false,
     "start_time": "2022-09-13T02:04:51.118226",
     "status": "completed"
    },
    "tags": []
   },
   "outputs": [
    {
     "data": {
      "image/png": "[encoded data removed]",
      "text/plain": [
       "<Figure size 1008x432 with 1 Axes>"
      ]
     },
     "metadata": {},
     "output_type": "display_data"
    }
   ],
   "source": [
    "with sns.plotting_context(\"talk\", font_scale=0.75), sns.axes_style(\n",
    "    \"whitegrid\", {\"grid.linestyle\": \"--\"}\n",
    "):\n",
    "    fig = plt.figure(figsize=(14, 6))\n",
    "    ax = sns.pointplot(data=ensemble, x=\"n_clusters\", y=\"ch_score\")\n",
    "    ax.set_ylabel(\"Calinski-Harabasz index\")\n",
    "    ax.set_xlabel(\"Number of clusters ($k$)\")\n",
    "    ax.set_xticklabels(ax.get_xticklabels(), rotation=45)\n",
    "    plt.grid(True)\n",
    "    plt.tight_layout()"
   ]
  },
  {
   "cell_type": "markdown",
   "id": "1a8318c4",
   "metadata": {
    "papermill": {
     "duration": 0.019755,
     "end_time": "2022-09-13T02:04:54.183428",
     "exception": false,
     "start_time": "2022-09-13T02:04:54.163673",
     "status": "completed"
    },
    "tags": []
   },
   "source": [
    "# Stability"
   ]
  },
  {
   "cell_type": "markdown",
   "id": "b6e9954d",
   "metadata": {
    "papermill": {
     "duration": 0.019017,
     "end_time": "2022-09-13T02:04:54.221743",
     "exception": false,
     "start_time": "2022-09-13T02:04:54.202726",
     "status": "completed"
    },
    "tags": []
   },
   "source": [
    "## Group ensemble by n_clusters"
   ]
  },
  {
   "cell_type": "code",
   "execution_count": 42,
   "id": "1db60b69",
   "metadata": {
    "execution": {
     "iopub.execute_input": "2022-09-13T02:04:54.261177Z",
     "iopub.status.busy": "2022-09-13T02:04:54.260967Z",
     "iopub.status.idle": "2022-09-13T02:04:54.297792Z",
     "shell.execute_reply": "2022-09-13T02:04:54.297136Z"
    },
    "papermill": {
     "duration": 0.058211,
     "end_time": "2022-09-13T02:04:54.299235",
     "exception": false,
     "start_time": "2022-09-13T02:04:54.241024",
     "status": "completed"
    },
    "tags": []
   },
   "outputs": [],
   "source": [
    "parts = ensemble.groupby(\"n_clusters\").apply(\n",
    "    lambda x: np.concatenate(x[\"partition\"].apply(lambda x: x.reshape(1, -1)), axis=0)\n",
    ")"
   ]
  },
  {
   "cell_type": "code",
   "execution_count": 43,
   "id": "bbce47da",
   "metadata": {
    "execution": {
     "iopub.execute_input": "2022-09-13T02:04:54.339173Z",
     "iopub.status.busy": "2022-09-13T02:04:54.338962Z",
     "iopub.status.idle": "2022-09-13T02:04:54.368902Z",
     "shell.execute_reply": "2022-09-13T02:04:54.368482Z"
    },
    "papermill": {
     "duration": 0.051216,
     "end_time": "2022-09-13T02:04:54.370178",
     "exception": false,
     "start_time": "2022-09-13T02:04:54.318962",
     "status": "completed"
    },
    "tags": []
   },
   "outputs": [
    {
     "data": {
      "text/plain": [
       "n_clusters\n",
       "2    [[1.0, 1.0, 1.0, 1.0, 1.0, 1.0, 1.0, 1.0, 1.0,...\n",
       "3    [[2.0, 2.0, 2.0, 2.0, 2.0, 2.0, 2.0, 2.0, 2.0,...\n",
       "4    [[0.0, 0.0, 0.0, 0.0, 0.0, 0.0, 0.0, 0.0, 0.0,...\n",
       "5    [[4.0, 4.0, 4.0, 4.0, 4.0, 4.0, 4.0, 4.0, 4.0,...\n",
       "6    [[2.0, 2.0, 2.0, 2.0, 2.0, 2.0, 2.0, 2.0, 2.0,...\n",
       "dtype: object"
      ]
     },
     "execution_count": 43,
     "metadata": {},
     "output_type": "execute_result"
    }
   ],
   "source": [
    "parts.head()"
   ]
  },
  {
   "cell_type": "code",
   "execution_count": 44,
   "id": "eac62cb4",
   "metadata": {
    "execution": {
     "iopub.execute_input": "2022-09-13T02:04:54.411307Z",
     "iopub.status.busy": "2022-09-13T02:04:54.411097Z",
     "iopub.status.idle": "2022-09-13T02:04:54.430283Z",
     "shell.execute_reply": "2022-09-13T02:04:54.429701Z"
    },
    "papermill": {
     "duration": 0.04125,
     "end_time": "2022-09-13T02:04:54.431636",
     "exception": false,
     "start_time": "2022-09-13T02:04:54.390386",
     "status": "completed"
    },
    "tags": []
   },
   "outputs": [],
   "source": [
    "assert np.all(\n",
    "    [\n",
    "        parts.loc[k].shape == (CLUSTERING_OPTIONS[\"N_REPS_PER_K\"], data.shape[0])\n",
    "        for k in parts.index\n",
    "    ]\n",
    ")"
   ]
  },
  {
   "cell_type": "markdown",
   "id": "cae052c7",
   "metadata": {
    "papermill": {
     "duration": 0.020307,
     "end_time": "2022-09-13T02:04:54.473294",
     "exception": false,
     "start_time": "2022-09-13T02:04:54.452987",
     "status": "completed"
    },
    "tags": []
   },
   "source": [
    "## Compute stability"
   ]
  },
  {
   "cell_type": "code",
   "execution_count": 45,
   "id": "518567a5",
   "metadata": {
    "execution": {
     "iopub.execute_input": "2022-09-13T02:04:54.513870Z",
     "iopub.status.busy": "2022-09-13T02:04:54.513013Z",
     "iopub.status.idle": "2022-09-13T02:04:54.530702Z",
     "shell.execute_reply": "2022-09-13T02:04:54.530174Z"
    },
    "papermill": {
     "duration": 0.039142,
     "end_time": "2022-09-13T02:04:54.531998",
     "exception": false,
     "start_time": "2022-09-13T02:04:54.492856",
     "status": "completed"
    },
    "tags": []
   },
   "outputs": [],
   "source": [
    "from sklearn.metrics import adjusted_rand_score as ari\n",
    "from scipy.spatial.distance import pdist"
   ]
  },
  {
   "cell_type": "code",
   "execution_count": 46,
   "id": "75c9cf56",
   "metadata": {
    "execution": {
     "iopub.execute_input": "2022-09-13T02:04:54.574329Z",
     "iopub.status.busy": "2022-09-13T02:04:54.574116Z",
     "iopub.status.idle": "2022-09-13T02:04:55.143468Z",
     "shell.execute_reply": "2022-09-13T02:04:55.142907Z"
    },
    "papermill": {
     "duration": 0.591906,
     "end_time": "2022-09-13T02:04:55.144967",
     "exception": false,
     "start_time": "2022-09-13T02:04:54.553061",
     "status": "completed"
    },
    "tags": []
   },
   "outputs": [],
   "source": [
    "parts_ari = pd.Series(\n",
    "    {k: pdist(parts.loc[k], metric=ari) for k in parts.index}, name=\"k\"\n",
    ")"
   ]
  },
  {
   "cell_type": "code",
   "execution_count": 47,
   "id": "7236a9fb",
   "metadata": {
    "execution": {
     "iopub.execute_input": "2022-09-13T02:04:55.185400Z",
     "iopub.status.busy": "2022-09-13T02:04:55.185190Z",
     "iopub.status.idle": "2022-09-13T02:04:55.205433Z",
     "shell.execute_reply": "2022-09-13T02:04:55.204948Z"
    },
    "papermill": {
     "duration": 0.041904,
     "end_time": "2022-09-13T02:04:55.206632",
     "exception": false,
     "start_time": "2022-09-13T02:04:55.164728",
     "status": "completed"
    },
    "tags": []
   },
   "outputs": [
    {
     "data": {
      "text/plain": [
       "2     1.000000\n",
       "3     1.000000\n",
       "4     1.000000\n",
       "7     1.000000\n",
       "5     0.996520\n",
       "9     0.956485\n",
       "8     0.952430\n",
       "6     0.919131\n",
       "12    0.906729\n",
       "17    0.899816\n",
       "16    0.877941\n",
       "13    0.834182\n",
       "14    0.832133\n",
       "11    0.803079\n",
       "20    0.798832\n",
       "Name: k, dtype: float64"
      ]
     },
     "metadata": {},
     "output_type": "display_data"
    }
   ],
   "source": [
    "parts_ari_stability = parts_ari.apply(lambda x: x.mean())\n",
    "display(parts_ari_stability.sort_values(ascending=False).head(15))"
   ]
  },
  {
   "cell_type": "code",
   "execution_count": 48,
   "id": "7ee84b0f",
   "metadata": {
    "execution": {
     "iopub.execute_input": "2022-09-13T02:04:55.259337Z",
     "iopub.status.busy": "2022-09-13T02:04:55.259154Z",
     "iopub.status.idle": "2022-09-13T02:04:55.278140Z",
     "shell.execute_reply": "2022-09-13T02:04:55.277517Z"
    },
    "papermill": {
     "duration": 0.042036,
     "end_time": "2022-09-13T02:04:55.279568",
     "exception": false,
     "start_time": "2022-09-13T02:04:55.237532",
     "status": "completed"
    },
    "tags": []
   },
   "outputs": [],
   "source": [
    "parts_ari_df = pd.DataFrame.from_records(parts_ari.tolist()).set_index(\n",
    "    parts_ari.index.copy()\n",
    ")"
   ]
  },
  {
   "cell_type": "code",
   "execution_count": 49,
   "id": "7b368012",
   "metadata": {
    "execution": {
     "iopub.execute_input": "2022-09-13T02:04:55.322383Z",
     "iopub.status.busy": "2022-09-13T02:04:55.321888Z",
     "iopub.status.idle": "2022-09-13T02:04:55.340464Z",
     "shell.execute_reply": "2022-09-13T02:04:55.339795Z"
    },
    "papermill": {
     "duration": 0.041069,
     "end_time": "2022-09-13T02:04:55.341744",
     "exception": false,
     "start_time": "2022-09-13T02:04:55.300675",
     "status": "completed"
    },
    "tags": []
   },
   "outputs": [
    {
     "data": {
      "text/plain": [
       "(59, 10)"
      ]
     },
     "execution_count": 49,
     "metadata": {},
     "output_type": "execute_result"
    }
   ],
   "source": [
    "parts_ari_df.shape"
   ]
  },
  {
   "cell_type": "code",
   "execution_count": 50,
   "id": "dfab87b1",
   "metadata": {
    "execution": {
     "iopub.execute_input": "2022-09-13T02:04:55.384710Z",
     "iopub.status.busy": "2022-09-13T02:04:55.384440Z",
     "iopub.status.idle": "2022-09-13T02:04:55.403258Z",
     "shell.execute_reply": "2022-09-13T02:04:55.402629Z"
    },
    "papermill": {
     "duration": 0.04157,
     "end_time": "2022-09-13T02:04:55.404613",
     "exception": false,
     "start_time": "2022-09-13T02:04:55.363043",
     "status": "completed"
    },
    "tags": []
   },
   "outputs": [],
   "source": [
    "assert (\n",
    "    int(\n",
    "        (CLUSTERING_OPTIONS[\"N_REPS_PER_K\"] * (CLUSTERING_OPTIONS[\"N_REPS_PER_K\"] - 1))\n",
    "        / 2\n",
    "    )\n",
    "    == parts_ari_df.shape[1]\n",
    ")"
   ]
  },
  {
   "cell_type": "code",
   "execution_count": 51,
   "id": "389ab608",
   "metadata": {
    "execution": {
     "iopub.execute_input": "2022-09-13T02:04:55.447664Z",
     "iopub.status.busy": "2022-09-13T02:04:55.447424Z",
     "iopub.status.idle": "2022-09-13T02:04:55.472956Z",
     "shell.execute_reply": "2022-09-13T02:04:55.472542Z"
    },
    "papermill": {
     "duration": 0.048272,
     "end_time": "2022-09-13T02:04:55.474190",
     "exception": false,
     "start_time": "2022-09-13T02:04:55.425918",
     "status": "completed"
    },
    "tags": []
   },
   "outputs": [
    {
     "data": {
      "text/html": [
       "<div>\n",
       "<style scoped>\n",
       "    .dataframe tbody tr th:only-of-type {\n",
       "        vertical-align: middle;\n",
       "    }\n",
       "\n",
       "    .dataframe tbody tr th {\n",
       "        vertical-align: top;\n",
       "    }\n",
       "\n",
       "    .dataframe thead th {\n",
       "        text-align: right;\n",
       "    }\n",
       "</style>\n",
       "<table border=\"1\" class=\"dataframe\">\n",
       "  <thead>\n",
       "    <tr style=\"text-align: right;\">\n",
       "      <th></th>\n",
       "      <th>0</th>\n",
       "      <th>1</th>\n",
       "      <th>2</th>\n",
       "      <th>3</th>\n",
       "      <th>4</th>\n",
       "      <th>5</th>\n",
       "      <th>6</th>\n",
       "      <th>7</th>\n",
       "      <th>8</th>\n",
       "      <th>9</th>\n",
       "    </tr>\n",
       "  </thead>\n",
       "  <tbody>\n",
       "    <tr>\n",
       "      <th>2</th>\n",
       "      <td>1.0000</td>\n",
       "      <td>1.000000</td>\n",
       "      <td>1.0</td>\n",
       "      <td>1.0</td>\n",
       "      <td>1.000000</td>\n",
       "      <td>1.0000</td>\n",
       "      <td>1.0000</td>\n",
       "      <td>1.000000</td>\n",
       "      <td>1.000000</td>\n",
       "      <td>1.0</td>\n",
       "    </tr>\n",
       "    <tr>\n",
       "      <th>3</th>\n",
       "      <td>1.0000</td>\n",
       "      <td>1.000000</td>\n",
       "      <td>1.0</td>\n",
       "      <td>1.0</td>\n",
       "      <td>1.000000</td>\n",
       "      <td>1.0000</td>\n",
       "      <td>1.0000</td>\n",
       "      <td>1.000000</td>\n",
       "      <td>1.000000</td>\n",
       "      <td>1.0</td>\n",
       "    </tr>\n",
       "    <tr>\n",
       "      <th>4</th>\n",
       "      <td>1.0000</td>\n",
       "      <td>1.000000</td>\n",
       "      <td>1.0</td>\n",
       "      <td>1.0</td>\n",
       "      <td>1.000000</td>\n",
       "      <td>1.0000</td>\n",
       "      <td>1.0000</td>\n",
       "      <td>1.000000</td>\n",
       "      <td>1.000000</td>\n",
       "      <td>1.0</td>\n",
       "    </tr>\n",
       "    <tr>\n",
       "      <th>5</th>\n",
       "      <td>0.9942</td>\n",
       "      <td>0.994200</td>\n",
       "      <td>1.0</td>\n",
       "      <td>1.0</td>\n",
       "      <td>1.000000</td>\n",
       "      <td>0.9942</td>\n",
       "      <td>0.9942</td>\n",
       "      <td>0.994200</td>\n",
       "      <td>0.994200</td>\n",
       "      <td>1.0</td>\n",
       "    </tr>\n",
       "    <tr>\n",
       "      <th>6</th>\n",
       "      <td>1.0000</td>\n",
       "      <td>0.797828</td>\n",
       "      <td>1.0</td>\n",
       "      <td>1.0</td>\n",
       "      <td>0.797828</td>\n",
       "      <td>1.0000</td>\n",
       "      <td>1.0000</td>\n",
       "      <td>0.797828</td>\n",
       "      <td>0.797828</td>\n",
       "      <td>1.0</td>\n",
       "    </tr>\n",
       "  </tbody>\n",
       "</table>\n",
       "</div>"
      ],
      "text/plain": [
       "        0         1    2    3         4       5       6         7         8  \\\n",
       "2  1.0000  1.000000  1.0  1.0  1.000000  1.0000  1.0000  1.000000  1.000000   \n",
       "3  1.0000  1.000000  1.0  1.0  1.000000  1.0000  1.0000  1.000000  1.000000   \n",
       "4  1.0000  1.000000  1.0  1.0  1.000000  1.0000  1.0000  1.000000  1.000000   \n",
       "5  0.9942  0.994200  1.0  1.0  1.000000  0.9942  0.9942  0.994200  0.994200   \n",
       "6  1.0000  0.797828  1.0  1.0  0.797828  1.0000  1.0000  0.797828  0.797828   \n",
       "\n",
       "     9  \n",
       "2  1.0  \n",
       "3  1.0  \n",
       "4  1.0  \n",
       "5  1.0  \n",
       "6  1.0  "
      ]
     },
     "execution_count": 51,
     "metadata": {},
     "output_type": "execute_result"
    }
   ],
   "source": [
    "parts_ari_df.head()"
   ]
  },
  {
   "cell_type": "markdown",
   "id": "a4edf5c1",
   "metadata": {
    "papermill": {
     "duration": 0.020359,
     "end_time": "2022-09-13T02:04:55.515914",
     "exception": false,
     "start_time": "2022-09-13T02:04:55.495555",
     "status": "completed"
    },
    "tags": []
   },
   "source": [
    "## Save"
   ]
  },
  {
   "cell_type": "code",
   "execution_count": 52,
   "id": "c0451c36",
   "metadata": {
    "execution": {
     "iopub.execute_input": "2022-09-13T02:04:55.556369Z",
     "iopub.status.busy": "2022-09-13T02:04:55.555588Z",
     "iopub.status.idle": "2022-09-13T02:04:55.574648Z",
     "shell.execute_reply": "2022-09-13T02:04:55.574051Z"
    },
    "papermill": {
     "duration": 0.0407,
     "end_time": "2022-09-13T02:04:55.575932",
     "exception": false,
     "start_time": "2022-09-13T02:04:55.535232",
     "status": "completed"
    },
    "tags": []
   },
   "outputs": [
    {
     "data": {
      "text/plain": [
       "PosixPath('/opt/data/results/clustering/null_sims/runs/umap-z_score_std-projection-smultixcan-efo_partial-mashr-zscores/GaussianMixture-stability-COVARIANCE_TYPE_full-K_MAX_60-K_MIN_2-N_INIT_10-N_REPS_PER_K_5.pkl')"
      ]
     },
     "metadata": {},
     "output_type": "display_data"
    }
   ],
   "source": [
    "output_filename = Path(\n",
    "    RESULTS_DIR,\n",
    "    generate_result_set_name(\n",
    "        CLUSTERING_OPTIONS,\n",
    "        prefix=f\"{clustering_method_name}-stability-\",\n",
    "        suffix=\".pkl\",\n",
    "    ),\n",
    ").resolve()\n",
    "display(output_filename)"
   ]
  },
  {
   "cell_type": "code",
   "execution_count": 53,
   "id": "93c7c0c4",
   "metadata": {
    "execution": {
     "iopub.execute_input": "2022-09-13T02:04:55.618457Z",
     "iopub.status.busy": "2022-09-13T02:04:55.618248Z",
     "iopub.status.idle": "2022-09-13T02:04:55.636437Z",
     "shell.execute_reply": "2022-09-13T02:04:55.635972Z"
    },
    "papermill": {
     "duration": 0.041116,
     "end_time": "2022-09-13T02:04:55.637818",
     "exception": false,
     "start_time": "2022-09-13T02:04:55.596702",
     "status": "completed"
    },
    "tags": []
   },
   "outputs": [],
   "source": [
    "parts_ari_df.to_pickle(output_filename)"
   ]
  },
  {
   "cell_type": "markdown",
   "id": "f0c802eb",
   "metadata": {
    "papermill": {
     "duration": 0.034608,
     "end_time": "2022-09-13T02:04:55.693769",
     "exception": false,
     "start_time": "2022-09-13T02:04:55.659161",
     "status": "completed"
    },
    "tags": []
   },
   "source": [
    "## Stability plot"
   ]
  },
  {
   "cell_type": "code",
   "execution_count": 54,
   "id": "e21a1797",
   "metadata": {
    "execution": {
     "iopub.execute_input": "2022-09-13T02:04:55.734562Z",
     "iopub.status.busy": "2022-09-13T02:04:55.734355Z",
     "iopub.status.idle": "2022-09-13T02:04:55.754148Z",
     "shell.execute_reply": "2022-09-13T02:04:55.753677Z"
    },
    "papermill": {
     "duration": 0.041797,
     "end_time": "2022-09-13T02:04:55.755564",
     "exception": false,
     "start_time": "2022-09-13T02:04:55.713767",
     "status": "completed"
    },
    "tags": []
   },
   "outputs": [],
   "source": [
    "parts_ari_df_plot = (\n",
    "    parts_ari_df.stack()\n",
    "    .reset_index()\n",
    "    .rename(columns={\"level_0\": \"k\", \"level_1\": \"idx\", 0: \"ari\"})\n",
    ")"
   ]
  },
  {
   "cell_type": "code",
   "execution_count": 55,
   "id": "b65cbe48",
   "metadata": {
    "execution": {
     "iopub.execute_input": "2022-09-13T02:04:55.796987Z",
     "iopub.status.busy": "2022-09-13T02:04:55.796776Z",
     "iopub.status.idle": "2022-09-13T02:04:55.816427Z",
     "shell.execute_reply": "2022-09-13T02:04:55.815845Z"
    },
    "papermill": {
     "duration": 0.041362,
     "end_time": "2022-09-13T02:04:55.817704",
     "exception": false,
     "start_time": "2022-09-13T02:04:55.776342",
     "status": "completed"
    },
    "tags": []
   },
   "outputs": [
    {
     "data": {
      "text/plain": [
       "k        int64\n",
       "idx      int64\n",
       "ari    float64\n",
       "dtype: object"
      ]
     },
     "execution_count": 55,
     "metadata": {},
     "output_type": "execute_result"
    }
   ],
   "source": [
    "parts_ari_df_plot.dtypes"
   ]
  },
  {
   "cell_type": "code",
   "execution_count": 56,
   "id": "fe79fb67",
   "metadata": {
    "execution": {
     "iopub.execute_input": "2022-09-13T02:04:55.859996Z",
     "iopub.status.busy": "2022-09-13T02:04:55.859783Z",
     "iopub.status.idle": "2022-09-13T02:04:55.881836Z",
     "shell.execute_reply": "2022-09-13T02:04:55.881325Z"
    },
    "papermill": {
     "duration": 0.044096,
     "end_time": "2022-09-13T02:04:55.883229",
     "exception": false,
     "start_time": "2022-09-13T02:04:55.839133",
     "status": "completed"
    },
    "tags": []
   },
   "outputs": [
    {
     "data": {
      "text/html": [
       "<div>\n",
       "<style scoped>\n",
       "    .dataframe tbody tr th:only-of-type {\n",
       "        vertical-align: middle;\n",
       "    }\n",
       "\n",
       "    .dataframe tbody tr th {\n",
       "        vertical-align: top;\n",
       "    }\n",
       "\n",
       "    .dataframe thead th {\n",
       "        text-align: right;\n",
       "    }\n",
       "</style>\n",
       "<table border=\"1\" class=\"dataframe\">\n",
       "  <thead>\n",
       "    <tr style=\"text-align: right;\">\n",
       "      <th></th>\n",
       "      <th>k</th>\n",
       "      <th>idx</th>\n",
       "      <th>ari</th>\n",
       "    </tr>\n",
       "  </thead>\n",
       "  <tbody>\n",
       "    <tr>\n",
       "      <th>0</th>\n",
       "      <td>2</td>\n",
       "      <td>0</td>\n",
       "      <td>1.0</td>\n",
       "    </tr>\n",
       "    <tr>\n",
       "      <th>1</th>\n",
       "      <td>2</td>\n",
       "      <td>1</td>\n",
       "      <td>1.0</td>\n",
       "    </tr>\n",
       "    <tr>\n",
       "      <th>2</th>\n",
       "      <td>2</td>\n",
       "      <td>2</td>\n",
       "      <td>1.0</td>\n",
       "    </tr>\n",
       "    <tr>\n",
       "      <th>3</th>\n",
       "      <td>2</td>\n",
       "      <td>3</td>\n",
       "      <td>1.0</td>\n",
       "    </tr>\n",
       "    <tr>\n",
       "      <th>4</th>\n",
       "      <td>2</td>\n",
       "      <td>4</td>\n",
       "      <td>1.0</td>\n",
       "    </tr>\n",
       "  </tbody>\n",
       "</table>\n",
       "</div>"
      ],
      "text/plain": [
       "   k  idx  ari\n",
       "0  2    0  1.0\n",
       "1  2    1  1.0\n",
       "2  2    2  1.0\n",
       "3  2    3  1.0\n",
       "4  2    4  1.0"
      ]
     },
     "execution_count": 56,
     "metadata": {},
     "output_type": "execute_result"
    }
   ],
   "source": [
    "parts_ari_df_plot.head()"
   ]
  },
  {
   "cell_type": "code",
   "execution_count": 57,
   "id": "8221e03b",
   "metadata": {
    "execution": {
     "iopub.execute_input": "2022-09-13T02:04:55.927249Z",
     "iopub.status.busy": "2022-09-13T02:04:55.927067Z",
     "iopub.status.idle": "2022-09-13T02:04:58.809393Z",
     "shell.execute_reply": "2022-09-13T02:04:58.808780Z"
    },
    "papermill": {
     "duration": 2.905361,
     "end_time": "2022-09-13T02:04:58.810884",
     "exception": false,
     "start_time": "2022-09-13T02:04:55.905523",
     "status": "completed"
    },
    "tags": []
   },
   "outputs": [
    {
     "data": {
      "image/png": "[encoded data removed]",
      "text/plain": [
       "<Figure size 1008x432 with 1 Axes>"
      ]
     },
     "metadata": {},
     "output_type": "display_data"
    }
   ],
   "source": [
    "# with sns.axes_style('whitegrid', {'grid.linestyle': '--'}):\n",
    "with sns.plotting_context(\"talk\", font_scale=0.75), sns.axes_style(\n",
    "    \"whitegrid\", {\"grid.linestyle\": \"--\"}\n",
    "):\n",
    "    fig = plt.figure(figsize=(14, 6))\n",
    "    ax = sns.pointplot(data=parts_ari_df_plot, x=\"k\", y=\"ari\")\n",
    "    ax.set_ylabel(\"Averange ARI\")\n",
    "    ax.set_xlabel(\"Number of clusters ($k$)\")\n",
    "    ax.set_xticklabels(ax.get_xticklabels(), rotation=45)\n",
    "    #     ax.set_ylim(0.0, 1.0)\n",
    "    #     ax.set_xlim(CLUSTERING_OPTIONS['K_MIN'], CLUSTERING_OPTIONS['K_MAX'])\n",
    "    plt.grid(True)\n",
    "    plt.tight_layout()"
   ]
  },
  {
   "cell_type": "code",
   "execution_count": null,
   "id": "9d303339",
   "metadata": {
    "papermill": {
     "duration": 0.021702,
     "end_time": "2022-09-13T02:04:58.853885",
     "exception": false,
     "start_time": "2022-09-13T02:04:58.832183",
     "status": "completed"
    },
    "tags": []
   },
   "outputs": [],
   "source": []
  }
 ],
 "metadata": {
  "jupytext": {
   "cell_metadata_filter": "all,-execution,-papermill,-trusted",
   "formats": "ipynb,py//py:percent"
  },
  "kernelspec": {
   "display_name": "Python 3 (ipykernel)",
   "language": "python",
   "name": "python3"
  },
  "language_info": {
   "codemirror_mode": {
    "name": "ipython",
    "version": 3
   },
   "file_extension": ".py",
   "mimetype": "text/x-python",
   "name": "python",
   "nbconvert_exporter": "python",
   "pygments_lexer": "ipython3",
   "version": "3.8.13"
  },
  "papermill": {
   "default_parameters": {},
   "duration": 3099.031297,
   "end_time": "2022-09-13T02:04:59.203235",
   "environment_variables": {},
   "exception": null,
   "input_path": "nbs/13.1_cluster_analysis_null/14_02-gmm-umap.ipynb",
   "output_path": "nbs/13.1_cluster_analysis_null/14_02-gmm-umap.run.ipynb",
   "parameters": {},
   "start_time": "2022-09-13T01:13:20.171938",
   "version": "2.2.2"
  },
  "toc-autonumbering": true,
  "toc-showcode": false,
  "toc-showmarkdowntxt": false,
  "toc-showtags": false
 },
 "nbformat": 4,
 "nbformat_minor": 5
}
