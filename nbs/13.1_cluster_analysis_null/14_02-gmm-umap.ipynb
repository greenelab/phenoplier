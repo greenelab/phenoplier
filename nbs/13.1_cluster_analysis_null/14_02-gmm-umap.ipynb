{
 "cells": [
  {
   "cell_type": "markdown",
   "metadata": {
    "papermill": {
     "duration": 0.027123,
     "end_time": "2021-03-10T21:04:45.593743",
     "exception": false,
     "start_time": "2021-03-10T21:04:45.566620",
     "status": "completed"
    },
    "tags": []
   },
   "source": [
    "# Description"
   ]
  },
  {
   "cell_type": "markdown",
   "metadata": {
    "papermill": {
     "duration": 0.023331,
     "end_time": "2021-03-10T21:04:45.641630",
     "exception": false,
     "start_time": "2021-03-10T21:04:45.618299",
     "status": "completed"
    },
    "tags": []
   },
   "source": [
    "Runs gaussian mixture model on the umap version of the data."
   ]
  },
  {
   "cell_type": "markdown",
   "metadata": {
    "papermill": {
     "duration": 0.023938,
     "end_time": "2021-03-10T21:04:45.689076",
     "exception": false,
     "start_time": "2021-03-10T21:04:45.665138",
     "status": "completed"
    },
    "tags": []
   },
   "source": [
    "# Environment variables"
   ]
  },
  {
   "cell_type": "code",
   "execution_count": 1,
   "metadata": {
    "execution": {
     "iopub.execute_input": "2021-03-10T21:04:45.742405Z",
     "iopub.status.busy": "2021-03-10T21:04:45.742037Z",
     "iopub.status.idle": "2021-03-10T21:04:45.752374Z",
     "shell.execute_reply": "2021-03-10T21:04:45.751953Z"
    },
    "papermill": {
     "duration": 0.039428,
     "end_time": "2021-03-10T21:04:45.752462",
     "exception": false,
     "start_time": "2021-03-10T21:04:45.713034",
     "status": "completed"
    },
    "tags": []
   },
   "outputs": [
    {
     "data": {
      "text/plain": [
       "2"
      ]
     },
     "metadata": {},
     "output_type": "display_data"
    }
   ],
   "source": [
    "from IPython.display import display\n",
    "\n",
    "import conf\n",
    "\n",
    "N_JOBS = conf.GENERAL[\"N_JOBS\"]\n",
    "display(N_JOBS)"
   ]
  },
  {
   "cell_type": "code",
   "execution_count": 2,
   "metadata": {
    "execution": {
     "iopub.execute_input": "2021-03-10T21:04:45.806196Z",
     "iopub.status.busy": "2021-03-10T21:04:45.805788Z",
     "iopub.status.idle": "2021-03-10T21:04:45.808050Z",
     "shell.execute_reply": "2021-03-10T21:04:45.807739Z"
    },
    "papermill": {
     "duration": 0.030773,
     "end_time": "2021-03-10T21:04:45.808126",
     "exception": false,
     "start_time": "2021-03-10T21:04:45.777353",
     "status": "completed"
    },
    "tags": []
   },
   "outputs": [
    {
     "name": "stdout",
     "output_type": "stream",
     "text": [
      "env: MKL_NUM_THREADS=2\n",
      "env: OPEN_BLAS_NUM_THREADS=2\n",
      "env: NUMEXPR_NUM_THREADS=2\n",
      "env: OMP_NUM_THREADS=2\n"
     ]
    }
   ],
   "source": [
    "%env MKL_NUM_THREADS=$N_JOBS\n",
    "%env OPEN_BLAS_NUM_THREADS=$N_JOBS\n",
    "%env NUMEXPR_NUM_THREADS=$N_JOBS\n",
    "%env OMP_NUM_THREADS=$N_JOBS"
   ]
  },
  {
   "cell_type": "markdown",
   "metadata": {
    "papermill": {
     "duration": 0.0239,
     "end_time": "2021-03-10T21:04:45.856953",
     "exception": false,
     "start_time": "2021-03-10T21:04:45.833053",
     "status": "completed"
    },
    "tags": []
   },
   "source": [
    "# Modules loading"
   ]
  },
  {
   "cell_type": "code",
   "execution_count": 3,
   "metadata": {
    "execution": {
     "iopub.execute_input": "2021-03-10T21:04:45.907401Z",
     "iopub.status.busy": "2021-03-10T21:04:45.907036Z",
     "iopub.status.idle": "2021-03-10T21:04:45.913755Z",
     "shell.execute_reply": "2021-03-10T21:04:45.914047Z"
    },
    "papermill": {
     "duration": 0.033697,
     "end_time": "2021-03-10T21:04:45.914148",
     "exception": false,
     "start_time": "2021-03-10T21:04:45.880451",
     "status": "completed"
    },
    "tags": []
   },
   "outputs": [],
   "source": [
    "%load_ext autoreload\n",
    "%autoreload 2"
   ]
  },
  {
   "cell_type": "code",
   "execution_count": 4,
   "metadata": {
    "execution": {
     "iopub.execute_input": "2021-03-10T21:04:45.966092Z",
     "iopub.status.busy": "2021-03-10T21:04:45.965732Z",
     "iopub.status.idle": "2021-03-10T21:04:46.550639Z",
     "shell.execute_reply": "2021-03-10T21:04:46.550255Z"
    },
    "papermill": {
     "duration": 0.61124,
     "end_time": "2021-03-10T21:04:46.550758",
     "exception": false,
     "start_time": "2021-03-10T21:04:45.939518",
     "status": "completed"
    },
    "tags": []
   },
   "outputs": [],
   "source": [
    "from pathlib import Path\n",
    "\n",
    "import numpy as np\n",
    "import pandas as pd\n",
    "import matplotlib.pyplot as plt\n",
    "import seaborn as sns\n",
    "\n",
    "from utils import generate_result_set_name"
   ]
  },
  {
   "cell_type": "markdown",
   "metadata": {
    "papermill": {
     "duration": 0.023924,
     "end_time": "2021-03-10T21:04:46.603150",
     "exception": false,
     "start_time": "2021-03-10T21:04:46.579226",
     "status": "completed"
    },
    "tags": []
   },
   "source": [
    "# Settings"
   ]
  },
  {
   "cell_type": "code",
   "execution_count": 5,
   "metadata": {
    "execution": {
     "iopub.execute_input": "2021-03-10T21:04:46.654076Z",
     "iopub.status.busy": "2021-03-10T21:04:46.653712Z",
     "iopub.status.idle": "2021-03-10T21:04:46.662498Z",
     "shell.execute_reply": "2021-03-10T21:04:46.662778Z"
    },
    "papermill": {
     "duration": 0.035794,
     "end_time": "2021-03-10T21:04:46.662884",
     "exception": false,
     "start_time": "2021-03-10T21:04:46.627090",
     "status": "completed"
    },
    "tags": []
   },
   "outputs": [],
   "source": [
    "np.random.seed(0)"
   ]
  },
  {
   "cell_type": "code",
   "execution_count": 6,
   "metadata": {
    "execution": {
     "iopub.execute_input": "2021-03-10T21:04:46.714904Z",
     "iopub.status.busy": "2021-03-10T21:04:46.714545Z",
     "iopub.status.idle": "2021-03-10T21:04:46.724413Z",
     "shell.execute_reply": "2021-03-10T21:04:46.724712Z"
    },
    "papermill": {
     "duration": 0.036884,
     "end_time": "2021-03-10T21:04:46.724832",
     "exception": false,
     "start_time": "2021-03-10T21:04:46.687948",
     "status": "completed"
    },
    "tags": []
   },
   "outputs": [],
   "source": [
    "INITIAL_RANDOM_STATE = 80000"
   ]
  },
  {
   "cell_type": "markdown",
   "metadata": {
    "papermill": {
     "duration": 0.023659,
     "end_time": "2021-03-10T21:04:46.772882",
     "exception": false,
     "start_time": "2021-03-10T21:04:46.749223",
     "status": "completed"
    },
    "tags": []
   },
   "source": [
    "## Input data"
   ]
  },
  {
   "cell_type": "code",
   "execution_count": 7,
   "metadata": {
    "execution": {
     "iopub.execute_input": "2021-03-10T21:04:46.823235Z",
     "iopub.status.busy": "2021-03-10T21:04:46.822865Z",
     "iopub.status.idle": "2021-03-10T21:04:46.832423Z",
     "shell.execute_reply": "2021-03-10T21:04:46.832060Z"
    },
    "papermill": {
     "duration": 0.035978,
     "end_time": "2021-03-10T21:04:46.832506",
     "exception": false,
     "start_time": "2021-03-10T21:04:46.796528",
     "status": "completed"
    },
    "tags": []
   },
   "outputs": [],
   "source": [
    "INPUT_SUBSET = \"umap\""
   ]
  },
  {
   "cell_type": "code",
   "execution_count": 8,
   "metadata": {
    "execution": {
     "iopub.execute_input": "2021-03-10T21:04:46.883652Z",
     "iopub.status.busy": "2021-03-10T21:04:46.883286Z",
     "iopub.status.idle": "2021-03-10T21:04:46.892536Z",
     "shell.execute_reply": "2021-03-10T21:04:46.892165Z"
    },
    "papermill": {
     "duration": 0.035433,
     "end_time": "2021-03-10T21:04:46.892617",
     "exception": false,
     "start_time": "2021-03-10T21:04:46.857184",
     "status": "completed"
    },
    "tags": []
   },
   "outputs": [],
   "source": [
    "INPUT_STEM = \"z_score_std-projection-smultixcan-efo_partial-mashr-zscores\""
   ]
  },
  {
   "cell_type": "code",
   "execution_count": 9,
   "metadata": {
    "execution": {
     "iopub.execute_input": "2021-03-10T21:04:46.943867Z",
     "iopub.status.busy": "2021-03-10T21:04:46.943508Z",
     "iopub.status.idle": "2021-03-10T21:04:46.952942Z",
     "shell.execute_reply": "2021-03-10T21:04:46.952526Z"
    },
    "papermill": {
     "duration": 0.036042,
     "end_time": "2021-03-10T21:04:46.953024",
     "exception": false,
     "start_time": "2021-03-10T21:04:46.916982",
     "status": "completed"
    },
    "tags": []
   },
   "outputs": [],
   "source": [
    "DR_OPTIONS = {\n",
    "    \"n_components\": 50,\n",
    "    \"metric\": \"euclidean\",\n",
    "    \"n_neighbors\": 15,\n",
    "    \"random_state\": 0,\n",
    "}"
   ]
  },
  {
   "cell_type": "code",
   "execution_count": 10,
   "metadata": {
    "execution": {
     "iopub.execute_input": "2021-03-10T21:04:47.004247Z",
     "iopub.status.busy": "2021-03-10T21:04:47.003881Z",
     "iopub.status.idle": "2021-03-10T21:04:47.015126Z",
     "shell.execute_reply": "2021-03-10T21:04:47.014753Z"
    },
    "papermill": {
     "duration": 0.037934,
     "end_time": "2021-03-10T21:04:47.015210",
     "exception": false,
     "start_time": "2021-03-10T21:04:46.977276",
     "status": "completed"
    },
    "tags": []
   },
   "outputs": [
    {
     "data": {
      "text/plain": [
       "PosixPath('/home/miltondp/projects/labs/greenelab/phenoplier/base/results/data_transformations/umap/umap-z_score_std-projection-smultixcan-efo_partial-mashr-zscores-metric_euclidean-n_components_50-n_neighbors_15-random_state_0.pkl')"
      ]
     },
     "metadata": {},
     "output_type": "display_data"
    },
    {
     "data": {
      "text/plain": [
       "'umap-z_score_std-projection-smultixcan-efo_partial-mashr-zscores-metric_euclidean-n_components_50-n_neighbors_15-random_state_0'"
      ]
     },
     "metadata": {},
     "output_type": "display_data"
    }
   ],
   "source": [
    "input_filepath = Path(\n",
    "    conf.RESULTS[\"CLUSTERING_NULL_DIR\"],\n",
    "    \"data_transformations\",\n",
    "    INPUT_SUBSET,\n",
    "    generate_result_set_name(\n",
    "        DR_OPTIONS, prefix=f\"{INPUT_SUBSET}-{INPUT_STEM}-\", suffix=\".pkl\"\n",
    "    ),\n",
    ").resolve()\n",
    "display(input_filepath)\n",
    "\n",
    "assert input_filepath.exists(), \"Input file does not exist\"\n",
    "\n",
    "input_filepath_stem = input_filepath.stem\n",
    "display(input_filepath_stem)"
   ]
  },
  {
   "cell_type": "markdown",
   "metadata": {
    "papermill": {
     "duration": 0.02404,
     "end_time": "2021-03-10T21:04:47.064481",
     "exception": false,
     "start_time": "2021-03-10T21:04:47.040441",
     "status": "completed"
    },
    "tags": []
   },
   "source": [
    "## Clustering"
   ]
  },
  {
   "cell_type": "code",
   "execution_count": 11,
   "metadata": {
    "execution": {
     "iopub.execute_input": "2021-03-10T21:04:47.115344Z",
     "iopub.status.busy": "2021-03-10T21:04:47.114978Z",
     "iopub.status.idle": "2021-03-10T21:04:47.250552Z",
     "shell.execute_reply": "2021-03-10T21:04:47.250229Z"
    },
    "papermill": {
     "duration": 0.162111,
     "end_time": "2021-03-10T21:04:47.250642",
     "exception": false,
     "start_time": "2021-03-10T21:04:47.088531",
     "status": "completed"
    },
    "tags": []
   },
   "outputs": [],
   "source": [
    "from sklearn.mixture import GaussianMixture"
   ]
  },
  {
   "cell_type": "code",
   "execution_count": 12,
   "metadata": {
    "execution": {
     "iopub.execute_input": "2021-03-10T21:04:47.302232Z",
     "iopub.status.busy": "2021-03-10T21:04:47.301879Z",
     "iopub.status.idle": "2021-03-10T21:04:47.312296Z",
     "shell.execute_reply": "2021-03-10T21:04:47.311922Z"
    },
    "papermill": {
     "duration": 0.036802,
     "end_time": "2021-03-10T21:04:47.312378",
     "exception": false,
     "start_time": "2021-03-10T21:04:47.275576",
     "status": "completed"
    },
    "tags": []
   },
   "outputs": [],
   "source": [
    "CLUSTERING_ATTRIBUTES_TO_SAVE = [\"n_clusters\"]"
   ]
  },
  {
   "cell_type": "code",
   "execution_count": 13,
   "metadata": {
    "execution": {
     "iopub.execute_input": "2021-03-10T21:04:47.364185Z",
     "iopub.status.busy": "2021-03-10T21:04:47.363825Z",
     "iopub.status.idle": "2021-03-10T21:04:47.375337Z",
     "shell.execute_reply": "2021-03-10T21:04:47.374952Z"
    },
    "papermill": {
     "duration": 0.038347,
     "end_time": "2021-03-10T21:04:47.375424",
     "exception": false,
     "start_time": "2021-03-10T21:04:47.337077",
     "status": "completed"
    },
    "tags": []
   },
   "outputs": [
    {
     "data": {
      "text/plain": [
       "{'K_MIN': 2,\n",
       " 'K_MAX': 60,\n",
       " 'N_REPS_PER_K': 5,\n",
       " 'N_INIT': 10,\n",
       " 'COVARIANCE_TYPE': 'full'}"
      ]
     },
     "metadata": {},
     "output_type": "display_data"
    }
   ],
   "source": [
    "CLUSTERING_OPTIONS = {}\n",
    "\n",
    "CLUSTERING_OPTIONS[\"K_MIN\"] = 2\n",
    "CLUSTERING_OPTIONS[\"K_MAX\"] = 60  # sqrt(3749)\n",
    "CLUSTERING_OPTIONS[\"N_REPS_PER_K\"] = 5\n",
    "CLUSTERING_OPTIONS[\"N_INIT\"] = 10\n",
    "CLUSTERING_OPTIONS[\"COVARIANCE_TYPE\"] = \"full\"\n",
    "\n",
    "display(CLUSTERING_OPTIONS)"
   ]
  },
  {
   "cell_type": "code",
   "execution_count": 14,
   "metadata": {
    "execution": {
     "iopub.execute_input": "2021-03-10T21:04:47.428933Z",
     "iopub.status.busy": "2021-03-10T21:04:47.428525Z",
     "iopub.status.idle": "2021-03-10T21:04:47.440144Z",
     "shell.execute_reply": "2021-03-10T21:04:47.439779Z"
    },
    "papermill": {
     "duration": 0.039247,
     "end_time": "2021-03-10T21:04:47.440224",
     "exception": false,
     "start_time": "2021-03-10T21:04:47.400977",
     "status": "completed"
    },
    "tags": []
   },
   "outputs": [],
   "source": [
    "CLUSTERERS = {}\n",
    "\n",
    "idx = 0\n",
    "random_state = INITIAL_RANDOM_STATE\n",
    "\n",
    "for k in range(CLUSTERING_OPTIONS[\"K_MIN\"], CLUSTERING_OPTIONS[\"K_MAX\"] + 1):\n",
    "    for i in range(CLUSTERING_OPTIONS[\"N_REPS_PER_K\"]):\n",
    "        clus = GaussianMixture(\n",
    "            n_components=k,\n",
    "            n_init=CLUSTERING_OPTIONS[\"N_INIT\"],\n",
    "            covariance_type=CLUSTERING_OPTIONS[\"COVARIANCE_TYPE\"],\n",
    "            random_state=random_state,\n",
    "        )\n",
    "\n",
    "        method_name = type(clus).__name__\n",
    "        CLUSTERERS[f\"{method_name} #{idx}\"] = clus\n",
    "\n",
    "        random_state = random_state + 1\n",
    "        idx = idx + 1"
   ]
  },
  {
   "cell_type": "code",
   "execution_count": 15,
   "metadata": {
    "execution": {
     "iopub.execute_input": "2021-03-10T21:04:47.492432Z",
     "iopub.status.busy": "2021-03-10T21:04:47.492076Z",
     "iopub.status.idle": "2021-03-10T21:04:47.502952Z",
     "shell.execute_reply": "2021-03-10T21:04:47.502579Z"
    },
    "papermill": {
     "duration": 0.037496,
     "end_time": "2021-03-10T21:04:47.503037",
     "exception": false,
     "start_time": "2021-03-10T21:04:47.465541",
     "status": "completed"
    },
    "tags": []
   },
   "outputs": [
    {
     "data": {
      "text/plain": [
       "295"
      ]
     },
     "metadata": {},
     "output_type": "display_data"
    }
   ],
   "source": [
    "display(len(CLUSTERERS))"
   ]
  },
  {
   "cell_type": "code",
   "execution_count": 16,
   "metadata": {
    "execution": {
     "iopub.execute_input": "2021-03-10T21:04:47.556601Z",
     "iopub.status.busy": "2021-03-10T21:04:47.556236Z",
     "iopub.status.idle": "2021-03-10T21:04:47.569151Z",
     "shell.execute_reply": "2021-03-10T21:04:47.568766Z"
    },
    "papermill": {
     "duration": 0.040198,
     "end_time": "2021-03-10T21:04:47.569233",
     "exception": false,
     "start_time": "2021-03-10T21:04:47.529035",
     "status": "completed"
    },
    "tags": []
   },
   "outputs": [
    {
     "data": {
      "text/plain": [
       "('GaussianMixture #0',\n",
       " GaussianMixture(n_components=2, n_init=10, random_state=80000))"
      ]
     },
     "metadata": {},
     "output_type": "display_data"
    },
    {
     "data": {
      "text/plain": [
       "('GaussianMixture #1',\n",
       " GaussianMixture(n_components=2, n_init=10, random_state=80001))"
      ]
     },
     "metadata": {},
     "output_type": "display_data"
    }
   ],
   "source": [
    "_iter = iter(CLUSTERERS.items())\n",
    "display(next(_iter))\n",
    "display(next(_iter))"
   ]
  },
  {
   "cell_type": "code",
   "execution_count": 17,
   "metadata": {
    "execution": {
     "iopub.execute_input": "2021-03-10T21:04:47.623989Z",
     "iopub.status.busy": "2021-03-10T21:04:47.623633Z",
     "iopub.status.idle": "2021-03-10T21:04:47.634803Z",
     "shell.execute_reply": "2021-03-10T21:04:47.634430Z"
    },
    "papermill": {
     "duration": 0.039052,
     "end_time": "2021-03-10T21:04:47.634885",
     "exception": false,
     "start_time": "2021-03-10T21:04:47.595833",
     "status": "completed"
    },
    "tags": []
   },
   "outputs": [
    {
     "data": {
      "text/plain": [
       "'GaussianMixture'"
      ]
     },
     "metadata": {},
     "output_type": "display_data"
    }
   ],
   "source": [
    "clustering_method_name = method_name\n",
    "display(clustering_method_name)"
   ]
  },
  {
   "cell_type": "markdown",
   "metadata": {
    "papermill": {
     "duration": 0.025045,
     "end_time": "2021-03-10T21:04:47.686417",
     "exception": false,
     "start_time": "2021-03-10T21:04:47.661372",
     "status": "completed"
    },
    "tags": []
   },
   "source": [
    "## Output directory"
   ]
  },
  {
   "cell_type": "code",
   "execution_count": 18,
   "metadata": {
    "execution": {
     "iopub.execute_input": "2021-03-10T21:04:47.740491Z",
     "iopub.status.busy": "2021-03-10T21:04:47.740119Z",
     "iopub.status.idle": "2021-03-10T21:04:47.751931Z",
     "shell.execute_reply": "2021-03-10T21:04:47.751567Z"
    },
    "papermill": {
     "duration": 0.040706,
     "end_time": "2021-03-10T21:04:47.752011",
     "exception": false,
     "start_time": "2021-03-10T21:04:47.711305",
     "status": "completed"
    },
    "tags": []
   },
   "outputs": [
    {
     "data": {
      "text/plain": [
       "PosixPath('/home/miltondp/projects/labs/greenelab/phenoplier/base/results/clustering/runs/umap-z_score_std-projection-smultixcan-efo_partial-mashr-zscores')"
      ]
     },
     "metadata": {},
     "output_type": "display_data"
    }
   ],
   "source": [
    "# output dir for this notebook\n",
    "RESULTS_DIR = Path(\n",
    "    conf.RESULTS[\"CLUSTERING_NULL_DIR\"],\n",
    "    \"runs\",\n",
    "    f\"{INPUT_SUBSET}-{INPUT_STEM}\",\n",
    ").resolve()\n",
    "RESULTS_DIR.mkdir(parents=True, exist_ok=True)\n",
    "\n",
    "display(RESULTS_DIR)"
   ]
  },
  {
   "cell_type": "markdown",
   "metadata": {
    "papermill": {
     "duration": 0.025161,
     "end_time": "2021-03-10T21:04:47.802784",
     "exception": false,
     "start_time": "2021-03-10T21:04:47.777623",
     "status": "completed"
    },
    "tags": []
   },
   "source": [
    "# Load input file"
   ]
  },
  {
   "cell_type": "code",
   "execution_count": 19,
   "metadata": {
    "execution": {
     "iopub.execute_input": "2021-03-10T21:04:47.857025Z",
     "iopub.status.busy": "2021-03-10T21:04:47.856615Z",
     "iopub.status.idle": "2021-03-10T21:04:47.869311Z",
     "shell.execute_reply": "2021-03-10T21:04:47.868927Z"
    },
    "papermill": {
     "duration": 0.04053,
     "end_time": "2021-03-10T21:04:47.869395",
     "exception": false,
     "start_time": "2021-03-10T21:04:47.828865",
     "status": "completed"
    },
    "tags": []
   },
   "outputs": [],
   "source": [
    "data = pd.read_pickle(input_filepath)"
   ]
  },
  {
   "cell_type": "code",
   "execution_count": 20,
   "metadata": {
    "execution": {
     "iopub.execute_input": "2021-03-10T21:04:47.923412Z",
     "iopub.status.busy": "2021-03-10T21:04:47.923045Z",
     "iopub.status.idle": "2021-03-10T21:04:47.934317Z",
     "shell.execute_reply": "2021-03-10T21:04:47.933950Z"
    },
    "papermill": {
     "duration": 0.03908,
     "end_time": "2021-03-10T21:04:47.934400",
     "exception": false,
     "start_time": "2021-03-10T21:04:47.895320",
     "status": "completed"
    },
    "tags": []
   },
   "outputs": [
    {
     "data": {
      "text/plain": [
       "(3752, 50)"
      ]
     },
     "execution_count": 20,
     "metadata": {},
     "output_type": "execute_result"
    }
   ],
   "source": [
    "data.shape"
   ]
  },
  {
   "cell_type": "code",
   "execution_count": 21,
   "metadata": {
    "execution": {
     "iopub.execute_input": "2021-03-10T21:04:47.990530Z",
     "iopub.status.busy": "2021-03-10T21:04:47.990172Z",
     "iopub.status.idle": "2021-03-10T21:04:48.013530Z",
     "shell.execute_reply": "2021-03-10T21:04:48.013211Z"
    },
    "papermill": {
     "duration": 0.052181,
     "end_time": "2021-03-10T21:04:48.013614",
     "exception": false,
     "start_time": "2021-03-10T21:04:47.961433",
     "status": "completed"
    },
    "tags": []
   },
   "outputs": [
    {
     "data": {
      "text/html": [
       "<div>\n",
       "<style scoped>\n",
       "    .dataframe tbody tr th:only-of-type {\n",
       "        vertical-align: middle;\n",
       "    }\n",
       "\n",
       "    .dataframe tbody tr th {\n",
       "        vertical-align: top;\n",
       "    }\n",
       "\n",
       "    .dataframe thead th {\n",
       "        text-align: right;\n",
       "    }\n",
       "</style>\n",
       "<table border=\"1\" class=\"dataframe\">\n",
       "  <thead>\n",
       "    <tr style=\"text-align: right;\">\n",
       "      <th></th>\n",
       "      <th>UMAP1</th>\n",
       "      <th>UMAP2</th>\n",
       "      <th>UMAP3</th>\n",
       "      <th>UMAP4</th>\n",
       "      <th>UMAP5</th>\n",
       "      <th>UMAP6</th>\n",
       "      <th>UMAP7</th>\n",
       "      <th>UMAP8</th>\n",
       "      <th>UMAP9</th>\n",
       "      <th>UMAP10</th>\n",
       "      <th>...</th>\n",
       "      <th>UMAP41</th>\n",
       "      <th>UMAP42</th>\n",
       "      <th>UMAP43</th>\n",
       "      <th>UMAP44</th>\n",
       "      <th>UMAP45</th>\n",
       "      <th>UMAP46</th>\n",
       "      <th>UMAP47</th>\n",
       "      <th>UMAP48</th>\n",
       "      <th>UMAP49</th>\n",
       "      <th>UMAP50</th>\n",
       "    </tr>\n",
       "  </thead>\n",
       "  <tbody>\n",
       "    <tr>\n",
       "      <th>100001_raw-Food_weight</th>\n",
       "      <td>9.587280</td>\n",
       "      <td>8.050184</td>\n",
       "      <td>9.340894</td>\n",
       "      <td>8.884522</td>\n",
       "      <td>4.562011</td>\n",
       "      <td>9.261327</td>\n",
       "      <td>9.078164</td>\n",
       "      <td>8.009141</td>\n",
       "      <td>9.288872</td>\n",
       "      <td>9.827831</td>\n",
       "      <td>...</td>\n",
       "      <td>9.753575</td>\n",
       "      <td>0.440851</td>\n",
       "      <td>-0.077164</td>\n",
       "      <td>-0.184829</td>\n",
       "      <td>9.345852</td>\n",
       "      <td>0.622542</td>\n",
       "      <td>-0.051136</td>\n",
       "      <td>4.266558</td>\n",
       "      <td>8.047482</td>\n",
       "      <td>-0.317385</td>\n",
       "    </tr>\n",
       "    <tr>\n",
       "      <th>100002_raw-Energy</th>\n",
       "      <td>9.910512</td>\n",
       "      <td>8.372274</td>\n",
       "      <td>9.605316</td>\n",
       "      <td>9.808598</td>\n",
       "      <td>4.641970</td>\n",
       "      <td>9.360196</td>\n",
       "      <td>8.848985</td>\n",
       "      <td>7.768594</td>\n",
       "      <td>9.231921</td>\n",
       "      <td>9.328465</td>\n",
       "      <td>...</td>\n",
       "      <td>9.647689</td>\n",
       "      <td>0.581584</td>\n",
       "      <td>0.547930</td>\n",
       "      <td>0.600128</td>\n",
       "      <td>8.976416</td>\n",
       "      <td>1.249645</td>\n",
       "      <td>0.234843</td>\n",
       "      <td>4.636343</td>\n",
       "      <td>7.173085</td>\n",
       "      <td>0.137119</td>\n",
       "    </tr>\n",
       "    <tr>\n",
       "      <th>100003_raw-Protein</th>\n",
       "      <td>9.923088</td>\n",
       "      <td>8.380640</td>\n",
       "      <td>9.609899</td>\n",
       "      <td>9.836457</td>\n",
       "      <td>4.647365</td>\n",
       "      <td>9.366775</td>\n",
       "      <td>8.835996</td>\n",
       "      <td>7.767549</td>\n",
       "      <td>9.230281</td>\n",
       "      <td>9.314386</td>\n",
       "      <td>...</td>\n",
       "      <td>9.642637</td>\n",
       "      <td>0.580362</td>\n",
       "      <td>0.565898</td>\n",
       "      <td>0.621073</td>\n",
       "      <td>8.967297</td>\n",
       "      <td>1.271435</td>\n",
       "      <td>0.243960</td>\n",
       "      <td>4.648671</td>\n",
       "      <td>7.149967</td>\n",
       "      <td>0.148192</td>\n",
       "    </tr>\n",
       "    <tr>\n",
       "      <th>100004_raw-Fat</th>\n",
       "      <td>9.898531</td>\n",
       "      <td>8.375697</td>\n",
       "      <td>9.600443</td>\n",
       "      <td>9.785713</td>\n",
       "      <td>4.639249</td>\n",
       "      <td>9.360721</td>\n",
       "      <td>8.886237</td>\n",
       "      <td>7.783376</td>\n",
       "      <td>9.237095</td>\n",
       "      <td>9.345434</td>\n",
       "      <td>...</td>\n",
       "      <td>9.648270</td>\n",
       "      <td>0.573073</td>\n",
       "      <td>0.521042</td>\n",
       "      <td>0.576926</td>\n",
       "      <td>8.979161</td>\n",
       "      <td>1.227988</td>\n",
       "      <td>0.231848</td>\n",
       "      <td>4.622777</td>\n",
       "      <td>7.205517</td>\n",
       "      <td>0.147385</td>\n",
       "    </tr>\n",
       "    <tr>\n",
       "      <th>100005_raw-Carbohydrate</th>\n",
       "      <td>9.895807</td>\n",
       "      <td>8.376662</td>\n",
       "      <td>9.605841</td>\n",
       "      <td>9.791338</td>\n",
       "      <td>4.636903</td>\n",
       "      <td>9.352356</td>\n",
       "      <td>8.867312</td>\n",
       "      <td>7.774787</td>\n",
       "      <td>9.233479</td>\n",
       "      <td>9.344456</td>\n",
       "      <td>...</td>\n",
       "      <td>9.652949</td>\n",
       "      <td>0.575161</td>\n",
       "      <td>0.529565</td>\n",
       "      <td>0.579919</td>\n",
       "      <td>8.988125</td>\n",
       "      <td>1.231771</td>\n",
       "      <td>0.226778</td>\n",
       "      <td>4.624360</td>\n",
       "      <td>7.194818</td>\n",
       "      <td>0.123104</td>\n",
       "    </tr>\n",
       "  </tbody>\n",
       "</table>\n",
       "<p>5 rows × 50 columns</p>\n",
       "</div>"
      ],
      "text/plain": [
       "                            UMAP1     UMAP2     UMAP3     UMAP4     UMAP5  \\\n",
       "100001_raw-Food_weight   9.587280  8.050184  9.340894  8.884522  4.562011   \n",
       "100002_raw-Energy        9.910512  8.372274  9.605316  9.808598  4.641970   \n",
       "100003_raw-Protein       9.923088  8.380640  9.609899  9.836457  4.647365   \n",
       "100004_raw-Fat           9.898531  8.375697  9.600443  9.785713  4.639249   \n",
       "100005_raw-Carbohydrate  9.895807  8.376662  9.605841  9.791338  4.636903   \n",
       "\n",
       "                            UMAP6     UMAP7     UMAP8     UMAP9    UMAP10  \\\n",
       "100001_raw-Food_weight   9.261327  9.078164  8.009141  9.288872  9.827831   \n",
       "100002_raw-Energy        9.360196  8.848985  7.768594  9.231921  9.328465   \n",
       "100003_raw-Protein       9.366775  8.835996  7.767549  9.230281  9.314386   \n",
       "100004_raw-Fat           9.360721  8.886237  7.783376  9.237095  9.345434   \n",
       "100005_raw-Carbohydrate  9.352356  8.867312  7.774787  9.233479  9.344456   \n",
       "\n",
       "                         ...    UMAP41    UMAP42    UMAP43    UMAP44  \\\n",
       "100001_raw-Food_weight   ...  9.753575  0.440851 -0.077164 -0.184829   \n",
       "100002_raw-Energy        ...  9.647689  0.581584  0.547930  0.600128   \n",
       "100003_raw-Protein       ...  9.642637  0.580362  0.565898  0.621073   \n",
       "100004_raw-Fat           ...  9.648270  0.573073  0.521042  0.576926   \n",
       "100005_raw-Carbohydrate  ...  9.652949  0.575161  0.529565  0.579919   \n",
       "\n",
       "                           UMAP45    UMAP46    UMAP47    UMAP48    UMAP49  \\\n",
       "100001_raw-Food_weight   9.345852  0.622542 -0.051136  4.266558  8.047482   \n",
       "100002_raw-Energy        8.976416  1.249645  0.234843  4.636343  7.173085   \n",
       "100003_raw-Protein       8.967297  1.271435  0.243960  4.648671  7.149967   \n",
       "100004_raw-Fat           8.979161  1.227988  0.231848  4.622777  7.205517   \n",
       "100005_raw-Carbohydrate  8.988125  1.231771  0.226778  4.624360  7.194818   \n",
       "\n",
       "                           UMAP50  \n",
       "100001_raw-Food_weight  -0.317385  \n",
       "100002_raw-Energy        0.137119  \n",
       "100003_raw-Protein       0.148192  \n",
       "100004_raw-Fat           0.147385  \n",
       "100005_raw-Carbohydrate  0.123104  \n",
       "\n",
       "[5 rows x 50 columns]"
      ]
     },
     "execution_count": 21,
     "metadata": {},
     "output_type": "execute_result"
    }
   ],
   "source": [
    "data.head()"
   ]
  },
  {
   "cell_type": "code",
   "execution_count": 22,
   "metadata": {
    "execution": {
     "iopub.execute_input": "2021-03-10T21:04:48.070481Z",
     "iopub.status.busy": "2021-03-10T21:04:48.070116Z",
     "iopub.status.idle": "2021-03-10T21:04:48.081032Z",
     "shell.execute_reply": "2021-03-10T21:04:48.081325Z"
    },
    "papermill": {
     "duration": 0.039989,
     "end_time": "2021-03-10T21:04:48.081439",
     "exception": false,
     "start_time": "2021-03-10T21:04:48.041450",
     "status": "completed"
    },
    "tags": []
   },
   "outputs": [],
   "source": [
    "assert not data.isna().any().any()"
   ]
  },
  {
   "cell_type": "markdown",
   "metadata": {
    "papermill": {
     "duration": 0.026865,
     "end_time": "2021-03-10T21:04:48.134906",
     "exception": false,
     "start_time": "2021-03-10T21:04:48.108041",
     "status": "completed"
    },
    "tags": []
   },
   "source": [
    "# Clustering"
   ]
  },
  {
   "cell_type": "markdown",
   "metadata": {
    "papermill": {
     "duration": 0.027249,
     "end_time": "2021-03-10T21:04:48.190461",
     "exception": false,
     "start_time": "2021-03-10T21:04:48.163212",
     "status": "completed"
    },
    "tags": []
   },
   "source": [
    "## Generate ensemble"
   ]
  },
  {
   "cell_type": "code",
   "execution_count": 23,
   "metadata": {
    "execution": {
     "iopub.execute_input": "2021-03-10T21:04:48.246618Z",
     "iopub.status.busy": "2021-03-10T21:04:48.246258Z",
     "iopub.status.idle": "2021-03-10T21:04:48.259915Z",
     "shell.execute_reply": "2021-03-10T21:04:48.260204Z"
    },
    "papermill": {
     "duration": 0.043308,
     "end_time": "2021-03-10T21:04:48.260314",
     "exception": false,
     "start_time": "2021-03-10T21:04:48.217006",
     "status": "completed"
    },
    "tags": []
   },
   "outputs": [],
   "source": [
    "from clustering.ensembles.utils import generate_ensemble"
   ]
  },
  {
   "cell_type": "code",
   "execution_count": 24,
   "metadata": {
    "execution": {
     "iopub.execute_input": "2021-03-10T21:04:48.316498Z",
     "iopub.status.busy": "2021-03-10T21:04:48.316125Z",
     "iopub.status.idle": "2021-03-10T22:14:43.302576Z",
     "shell.execute_reply": "2021-03-10T22:14:43.302046Z"
    },
    "papermill": {
     "duration": 4195.015285,
     "end_time": "2021-03-10T22:14:43.302662",
     "exception": false,
     "start_time": "2021-03-10T21:04:48.287377",
     "status": "completed"
    },
    "tags": []
   },
   "outputs": [
    {
     "name": "stderr",
     "output_type": "stream",
     "text": [
      "100%|██████████| 295/295 [1:09:54<00:00, 14.22s/it]\n"
     ]
    }
   ],
   "source": [
    "ensemble = generate_ensemble(\n",
    "    data,\n",
    "    CLUSTERERS,\n",
    "    attributes=CLUSTERING_ATTRIBUTES_TO_SAVE,\n",
    ")"
   ]
  },
  {
   "cell_type": "code",
   "execution_count": 25,
   "metadata": {
    "execution": {
     "iopub.execute_input": "2021-03-10T22:14:43.453618Z",
     "iopub.status.busy": "2021-03-10T22:14:43.453246Z",
     "iopub.status.idle": "2021-03-10T22:14:43.464836Z",
     "shell.execute_reply": "2021-03-10T22:14:43.464433Z"
    },
    "papermill": {
     "duration": 0.086472,
     "end_time": "2021-03-10T22:14:43.464918",
     "exception": false,
     "start_time": "2021-03-10T22:14:43.378446",
     "status": "completed"
    },
    "tags": []
   },
   "outputs": [
    {
     "data": {
      "text/plain": [
       "(295, 3)"
      ]
     },
     "execution_count": 25,
     "metadata": {},
     "output_type": "execute_result"
    }
   ],
   "source": [
    "# the number should be close to 295 (the number of partitions generated by k-means/spectral clustering)\n",
    "ensemble.shape"
   ]
  },
  {
   "cell_type": "code",
   "execution_count": 26,
   "metadata": {
    "execution": {
     "iopub.execute_input": "2021-03-10T22:14:43.615056Z",
     "iopub.status.busy": "2021-03-10T22:14:43.614695Z",
     "iopub.status.idle": "2021-03-10T22:14:43.632488Z",
     "shell.execute_reply": "2021-03-10T22:14:43.632840Z"
    },
    "papermill": {
     "duration": 0.094099,
     "end_time": "2021-03-10T22:14:43.632943",
     "exception": false,
     "start_time": "2021-03-10T22:14:43.538844",
     "status": "completed"
    },
    "tags": []
   },
   "outputs": [
    {
     "data": {
      "text/html": [
       "<div>\n",
       "<style scoped>\n",
       "    .dataframe tbody tr th:only-of-type {\n",
       "        vertical-align: middle;\n",
       "    }\n",
       "\n",
       "    .dataframe tbody tr th {\n",
       "        vertical-align: top;\n",
       "    }\n",
       "\n",
       "    .dataframe thead th {\n",
       "        text-align: right;\n",
       "    }\n",
       "</style>\n",
       "<table border=\"1\" class=\"dataframe\">\n",
       "  <thead>\n",
       "    <tr style=\"text-align: right;\">\n",
       "      <th></th>\n",
       "      <th>clusterer_params</th>\n",
       "      <th>partition</th>\n",
       "      <th>n_clusters</th>\n",
       "    </tr>\n",
       "    <tr>\n",
       "      <th>clusterer_id</th>\n",
       "      <th></th>\n",
       "      <th></th>\n",
       "      <th></th>\n",
       "    </tr>\n",
       "  </thead>\n",
       "  <tbody>\n",
       "    <tr>\n",
       "      <th>GaussianMixture #0</th>\n",
       "      <td>{'covariance_type': 'full', 'init_params': 'km...</td>\n",
       "      <td>[1.0, 0.0, 0.0, 0.0, 0.0, 0.0, 0.0, 0.0, 0.0, ...</td>\n",
       "      <td>2</td>\n",
       "    </tr>\n",
       "    <tr>\n",
       "      <th>GaussianMixture #1</th>\n",
       "      <td>{'covariance_type': 'full', 'init_params': 'km...</td>\n",
       "      <td>[1.0, 0.0, 0.0, 0.0, 0.0, 0.0, 0.0, 0.0, 0.0, ...</td>\n",
       "      <td>2</td>\n",
       "    </tr>\n",
       "    <tr>\n",
       "      <th>GaussianMixture #2</th>\n",
       "      <td>{'covariance_type': 'full', 'init_params': 'km...</td>\n",
       "      <td>[1.0, 0.0, 0.0, 0.0, 0.0, 0.0, 0.0, 0.0, 0.0, ...</td>\n",
       "      <td>2</td>\n",
       "    </tr>\n",
       "    <tr>\n",
       "      <th>GaussianMixture #3</th>\n",
       "      <td>{'covariance_type': 'full', 'init_params': 'km...</td>\n",
       "      <td>[1.0, 0.0, 0.0, 0.0, 0.0, 0.0, 0.0, 0.0, 0.0, ...</td>\n",
       "      <td>2</td>\n",
       "    </tr>\n",
       "    <tr>\n",
       "      <th>GaussianMixture #4</th>\n",
       "      <td>{'covariance_type': 'full', 'init_params': 'km...</td>\n",
       "      <td>[1.0, 0.0, 0.0, 0.0, 0.0, 0.0, 0.0, 0.0, 0.0, ...</td>\n",
       "      <td>2</td>\n",
       "    </tr>\n",
       "  </tbody>\n",
       "</table>\n",
       "</div>"
      ],
      "text/plain": [
       "                                                     clusterer_params  \\\n",
       "clusterer_id                                                            \n",
       "GaussianMixture #0  {'covariance_type': 'full', 'init_params': 'km...   \n",
       "GaussianMixture #1  {'covariance_type': 'full', 'init_params': 'km...   \n",
       "GaussianMixture #2  {'covariance_type': 'full', 'init_params': 'km...   \n",
       "GaussianMixture #3  {'covariance_type': 'full', 'init_params': 'km...   \n",
       "GaussianMixture #4  {'covariance_type': 'full', 'init_params': 'km...   \n",
       "\n",
       "                                                            partition  \\\n",
       "clusterer_id                                                            \n",
       "GaussianMixture #0  [1.0, 0.0, 0.0, 0.0, 0.0, 0.0, 0.0, 0.0, 0.0, ...   \n",
       "GaussianMixture #1  [1.0, 0.0, 0.0, 0.0, 0.0, 0.0, 0.0, 0.0, 0.0, ...   \n",
       "GaussianMixture #2  [1.0, 0.0, 0.0, 0.0, 0.0, 0.0, 0.0, 0.0, 0.0, ...   \n",
       "GaussianMixture #3  [1.0, 0.0, 0.0, 0.0, 0.0, 0.0, 0.0, 0.0, 0.0, ...   \n",
       "GaussianMixture #4  [1.0, 0.0, 0.0, 0.0, 0.0, 0.0, 0.0, 0.0, 0.0, ...   \n",
       "\n",
       "                    n_clusters  \n",
       "clusterer_id                    \n",
       "GaussianMixture #0           2  \n",
       "GaussianMixture #1           2  \n",
       "GaussianMixture #2           2  \n",
       "GaussianMixture #3           2  \n",
       "GaussianMixture #4           2  "
      ]
     },
     "execution_count": 26,
     "metadata": {},
     "output_type": "execute_result"
    }
   ],
   "source": [
    "ensemble.head()"
   ]
  },
  {
   "cell_type": "code",
   "execution_count": 27,
   "metadata": {
    "execution": {
     "iopub.execute_input": "2021-03-10T22:14:43.786076Z",
     "iopub.status.busy": "2021-03-10T22:14:43.785711Z",
     "iopub.status.idle": "2021-03-10T22:14:43.798216Z",
     "shell.execute_reply": "2021-03-10T22:14:43.797917Z"
    },
    "papermill": {
     "duration": 0.088945,
     "end_time": "2021-03-10T22:14:43.798301",
     "exception": false,
     "start_time": "2021-03-10T22:14:43.709356",
     "status": "completed"
    },
    "tags": []
   },
   "outputs": [
    {
     "data": {
      "text/plain": [
       "60    5\n",
       "16    5\n",
       "28    5\n",
       "27    5\n",
       "26    5\n",
       "Name: n_clusters, dtype: int64"
      ]
     },
     "execution_count": 27,
     "metadata": {},
     "output_type": "execute_result"
    }
   ],
   "source": [
    "ensemble[\"n_clusters\"].value_counts().head()"
   ]
  },
  {
   "cell_type": "code",
   "execution_count": 28,
   "metadata": {
    "execution": {
     "iopub.execute_input": "2021-03-10T22:14:43.953090Z",
     "iopub.status.busy": "2021-03-10T22:14:43.952686Z",
     "iopub.status.idle": "2021-03-10T22:14:43.966066Z",
     "shell.execute_reply": "2021-03-10T22:14:43.965723Z"
    },
    "papermill": {
     "duration": 0.090963,
     "end_time": "2021-03-10T22:14:43.966149",
     "exception": false,
     "start_time": "2021-03-10T22:14:43.875186",
     "status": "completed"
    },
    "tags": []
   },
   "outputs": [
    {
     "data": {
      "text/plain": [
       "count    295.000000\n",
       "mean      31.000000\n",
       "std       17.058323\n",
       "min        2.000000\n",
       "25%       16.000000\n",
       "50%       31.000000\n",
       "75%       46.000000\n",
       "max       60.000000\n",
       "Name: n_clusters, dtype: float64"
      ]
     },
     "metadata": {},
     "output_type": "display_data"
    }
   ],
   "source": [
    "ensemble_stats = ensemble[\"n_clusters\"].describe()\n",
    "display(ensemble_stats)"
   ]
  },
  {
   "cell_type": "markdown",
   "metadata": {
    "papermill": {
     "duration": 0.073598,
     "end_time": "2021-03-10T22:14:44.115418",
     "exception": false,
     "start_time": "2021-03-10T22:14:44.041820",
     "status": "completed"
    },
    "tags": []
   },
   "source": [
    "## Testing"
   ]
  },
  {
   "cell_type": "code",
   "execution_count": 29,
   "metadata": {
    "execution": {
     "iopub.execute_input": "2021-03-10T22:14:44.267774Z",
     "iopub.status.busy": "2021-03-10T22:14:44.267420Z",
     "iopub.status.idle": "2021-03-10T22:14:44.277955Z",
     "shell.execute_reply": "2021-03-10T22:14:44.277585Z"
    },
    "papermill": {
     "duration": 0.087845,
     "end_time": "2021-03-10T22:14:44.278038",
     "exception": false,
     "start_time": "2021-03-10T22:14:44.190193",
     "status": "completed"
    },
    "tags": []
   },
   "outputs": [],
   "source": [
    "assert ensemble_stats[\"min\"] > 1"
   ]
  },
  {
   "cell_type": "code",
   "execution_count": 30,
   "metadata": {
    "execution": {
     "iopub.execute_input": "2021-03-10T22:14:44.428094Z",
     "iopub.status.busy": "2021-03-10T22:14:44.427730Z",
     "iopub.status.idle": "2021-03-10T22:14:44.438648Z",
     "shell.execute_reply": "2021-03-10T22:14:44.438273Z"
    },
    "papermill": {
     "duration": 0.08665,
     "end_time": "2021-03-10T22:14:44.438732",
     "exception": false,
     "start_time": "2021-03-10T22:14:44.352082",
     "status": "completed"
    },
    "tags": []
   },
   "outputs": [],
   "source": [
    "assert not ensemble[\"n_clusters\"].isna().any()"
   ]
  },
  {
   "cell_type": "code",
   "execution_count": 31,
   "metadata": {
    "execution": {
     "iopub.execute_input": "2021-03-10T22:14:44.590406Z",
     "iopub.status.busy": "2021-03-10T22:14:44.590052Z",
     "iopub.status.idle": "2021-03-10T22:14:44.600459Z",
     "shell.execute_reply": "2021-03-10T22:14:44.600164Z"
    },
    "papermill": {
     "duration": 0.086585,
     "end_time": "2021-03-10T22:14:44.600543",
     "exception": false,
     "start_time": "2021-03-10T22:14:44.513958",
     "status": "completed"
    },
    "tags": []
   },
   "outputs": [],
   "source": [
    "assert ensemble.shape[0] == len(CLUSTERERS)"
   ]
  },
  {
   "cell_type": "code",
   "execution_count": 32,
   "metadata": {
    "execution": {
     "iopub.execute_input": "2021-03-10T22:14:44.752417Z",
     "iopub.status.busy": "2021-03-10T22:14:44.752059Z",
     "iopub.status.idle": "2021-03-10T22:14:44.778612Z",
     "shell.execute_reply": "2021-03-10T22:14:44.778903Z"
    },
    "papermill": {
     "duration": 0.103571,
     "end_time": "2021-03-10T22:14:44.779004",
     "exception": false,
     "start_time": "2021-03-10T22:14:44.675433",
     "status": "completed"
    },
    "tags": []
   },
   "outputs": [],
   "source": [
    "# all partitions have the right size\n",
    "assert np.all(\n",
    "    [part[\"partition\"].shape[0] == data.shape[0] for idx, part in ensemble.iterrows()]\n",
    ")"
   ]
  },
  {
   "cell_type": "code",
   "execution_count": 33,
   "metadata": {
    "execution": {
     "iopub.execute_input": "2021-03-10T22:14:44.932683Z",
     "iopub.status.busy": "2021-03-10T22:14:44.932327Z",
     "iopub.status.idle": "2021-03-10T22:14:44.963207Z",
     "shell.execute_reply": "2021-03-10T22:14:44.962898Z"
    },
    "papermill": {
     "duration": 0.110625,
     "end_time": "2021-03-10T22:14:44.963292",
     "exception": false,
     "start_time": "2021-03-10T22:14:44.852667",
     "status": "completed"
    },
    "tags": []
   },
   "outputs": [],
   "source": [
    "# no partition has negative clusters (noisy points)\n",
    "assert not np.any([(part[\"partition\"] < 0).any() for idx, part in ensemble.iterrows()])"
   ]
  },
  {
   "cell_type": "markdown",
   "metadata": {
    "papermill": {
     "duration": 0.074509,
     "end_time": "2021-03-10T22:14:45.113297",
     "exception": false,
     "start_time": "2021-03-10T22:14:45.038788",
     "status": "completed"
    },
    "tags": []
   },
   "source": [
    "## Add clustering quality measures"
   ]
  },
  {
   "cell_type": "code",
   "execution_count": 34,
   "metadata": {
    "execution": {
     "iopub.execute_input": "2021-03-10T22:14:45.265860Z",
     "iopub.status.busy": "2021-03-10T22:14:45.265506Z",
     "iopub.status.idle": "2021-03-10T22:14:45.277004Z",
     "shell.execute_reply": "2021-03-10T22:14:45.276588Z"
    },
    "papermill": {
     "duration": 0.089122,
     "end_time": "2021-03-10T22:14:45.277087",
     "exception": false,
     "start_time": "2021-03-10T22:14:45.187965",
     "status": "completed"
    },
    "tags": []
   },
   "outputs": [],
   "source": [
    "from sklearn.metrics import calinski_harabasz_score"
   ]
  },
  {
   "cell_type": "code",
   "execution_count": 35,
   "metadata": {
    "execution": {
     "iopub.execute_input": "2021-03-10T22:14:45.429866Z",
     "iopub.status.busy": "2021-03-10T22:14:45.429508Z",
     "iopub.status.idle": "2021-03-10T22:14:46.303784Z",
     "shell.execute_reply": "2021-03-10T22:14:46.303412Z"
    },
    "papermill": {
     "duration": 0.951078,
     "end_time": "2021-03-10T22:14:46.303867",
     "exception": false,
     "start_time": "2021-03-10T22:14:45.352789",
     "status": "completed"
    },
    "tags": []
   },
   "outputs": [],
   "source": [
    "ensemble = ensemble.assign(\n",
    "    ch_score=ensemble[\"partition\"].apply(lambda x: calinski_harabasz_score(data, x))\n",
    ")"
   ]
  },
  {
   "cell_type": "code",
   "execution_count": 36,
   "metadata": {
    "execution": {
     "iopub.execute_input": "2021-03-10T22:14:46.455293Z",
     "iopub.status.busy": "2021-03-10T22:14:46.454936Z",
     "iopub.status.idle": "2021-03-10T22:14:46.466434Z",
     "shell.execute_reply": "2021-03-10T22:14:46.466075Z"
    },
    "papermill": {
     "duration": 0.087729,
     "end_time": "2021-03-10T22:14:46.466514",
     "exception": false,
     "start_time": "2021-03-10T22:14:46.378785",
     "status": "completed"
    },
    "tags": []
   },
   "outputs": [
    {
     "data": {
      "text/plain": [
       "(295, 4)"
      ]
     },
     "execution_count": 36,
     "metadata": {},
     "output_type": "execute_result"
    }
   ],
   "source": [
    "ensemble.shape"
   ]
  },
  {
   "cell_type": "code",
   "execution_count": 37,
   "metadata": {
    "execution": {
     "iopub.execute_input": "2021-03-10T22:14:46.618602Z",
     "iopub.status.busy": "2021-03-10T22:14:46.618234Z",
     "iopub.status.idle": "2021-03-10T22:14:46.636898Z",
     "shell.execute_reply": "2021-03-10T22:14:46.636515Z"
    },
    "papermill": {
     "duration": 0.095892,
     "end_time": "2021-03-10T22:14:46.636981",
     "exception": false,
     "start_time": "2021-03-10T22:14:46.541089",
     "status": "completed"
    },
    "tags": []
   },
   "outputs": [
    {
     "data": {
      "text/html": [
       "<div>\n",
       "<style scoped>\n",
       "    .dataframe tbody tr th:only-of-type {\n",
       "        vertical-align: middle;\n",
       "    }\n",
       "\n",
       "    .dataframe tbody tr th {\n",
       "        vertical-align: top;\n",
       "    }\n",
       "\n",
       "    .dataframe thead th {\n",
       "        text-align: right;\n",
       "    }\n",
       "</style>\n",
       "<table border=\"1\" class=\"dataframe\">\n",
       "  <thead>\n",
       "    <tr style=\"text-align: right;\">\n",
       "      <th></th>\n",
       "      <th>clusterer_params</th>\n",
       "      <th>partition</th>\n",
       "      <th>n_clusters</th>\n",
       "      <th>ch_score</th>\n",
       "    </tr>\n",
       "    <tr>\n",
       "      <th>clusterer_id</th>\n",
       "      <th></th>\n",
       "      <th></th>\n",
       "      <th></th>\n",
       "      <th></th>\n",
       "    </tr>\n",
       "  </thead>\n",
       "  <tbody>\n",
       "    <tr>\n",
       "      <th>GaussianMixture #0</th>\n",
       "      <td>{'covariance_type': 'full', 'init_params': 'km...</td>\n",
       "      <td>[1.0, 0.0, 0.0, 0.0, 0.0, 0.0, 0.0, 0.0, 0.0, ...</td>\n",
       "      <td>2</td>\n",
       "      <td>1761.993301</td>\n",
       "    </tr>\n",
       "    <tr>\n",
       "      <th>GaussianMixture #1</th>\n",
       "      <td>{'covariance_type': 'full', 'init_params': 'km...</td>\n",
       "      <td>[1.0, 0.0, 0.0, 0.0, 0.0, 0.0, 0.0, 0.0, 0.0, ...</td>\n",
       "      <td>2</td>\n",
       "      <td>1761.993301</td>\n",
       "    </tr>\n",
       "    <tr>\n",
       "      <th>GaussianMixture #2</th>\n",
       "      <td>{'covariance_type': 'full', 'init_params': 'km...</td>\n",
       "      <td>[1.0, 0.0, 0.0, 0.0, 0.0, 0.0, 0.0, 0.0, 0.0, ...</td>\n",
       "      <td>2</td>\n",
       "      <td>1761.993301</td>\n",
       "    </tr>\n",
       "    <tr>\n",
       "      <th>GaussianMixture #3</th>\n",
       "      <td>{'covariance_type': 'full', 'init_params': 'km...</td>\n",
       "      <td>[1.0, 0.0, 0.0, 0.0, 0.0, 0.0, 0.0, 0.0, 0.0, ...</td>\n",
       "      <td>2</td>\n",
       "      <td>1761.993301</td>\n",
       "    </tr>\n",
       "    <tr>\n",
       "      <th>GaussianMixture #4</th>\n",
       "      <td>{'covariance_type': 'full', 'init_params': 'km...</td>\n",
       "      <td>[1.0, 0.0, 0.0, 0.0, 0.0, 0.0, 0.0, 0.0, 0.0, ...</td>\n",
       "      <td>2</td>\n",
       "      <td>1761.993301</td>\n",
       "    </tr>\n",
       "  </tbody>\n",
       "</table>\n",
       "</div>"
      ],
      "text/plain": [
       "                                                     clusterer_params  \\\n",
       "clusterer_id                                                            \n",
       "GaussianMixture #0  {'covariance_type': 'full', 'init_params': 'km...   \n",
       "GaussianMixture #1  {'covariance_type': 'full', 'init_params': 'km...   \n",
       "GaussianMixture #2  {'covariance_type': 'full', 'init_params': 'km...   \n",
       "GaussianMixture #3  {'covariance_type': 'full', 'init_params': 'km...   \n",
       "GaussianMixture #4  {'covariance_type': 'full', 'init_params': 'km...   \n",
       "\n",
       "                                                            partition  \\\n",
       "clusterer_id                                                            \n",
       "GaussianMixture #0  [1.0, 0.0, 0.0, 0.0, 0.0, 0.0, 0.0, 0.0, 0.0, ...   \n",
       "GaussianMixture #1  [1.0, 0.0, 0.0, 0.0, 0.0, 0.0, 0.0, 0.0, 0.0, ...   \n",
       "GaussianMixture #2  [1.0, 0.0, 0.0, 0.0, 0.0, 0.0, 0.0, 0.0, 0.0, ...   \n",
       "GaussianMixture #3  [1.0, 0.0, 0.0, 0.0, 0.0, 0.0, 0.0, 0.0, 0.0, ...   \n",
       "GaussianMixture #4  [1.0, 0.0, 0.0, 0.0, 0.0, 0.0, 0.0, 0.0, 0.0, ...   \n",
       "\n",
       "                    n_clusters     ch_score  \n",
       "clusterer_id                                 \n",
       "GaussianMixture #0           2  1761.993301  \n",
       "GaussianMixture #1           2  1761.993301  \n",
       "GaussianMixture #2           2  1761.993301  \n",
       "GaussianMixture #3           2  1761.993301  \n",
       "GaussianMixture #4           2  1761.993301  "
      ]
     },
     "execution_count": 37,
     "metadata": {},
     "output_type": "execute_result"
    }
   ],
   "source": [
    "ensemble.head()"
   ]
  },
  {
   "cell_type": "markdown",
   "metadata": {
    "papermill": {
     "duration": 0.07523,
     "end_time": "2021-03-10T22:14:46.786948",
     "exception": false,
     "start_time": "2021-03-10T22:14:46.711718",
     "status": "completed"
    },
    "tags": []
   },
   "source": [
    "## Save"
   ]
  },
  {
   "cell_type": "code",
   "execution_count": 38,
   "metadata": {
    "execution": {
     "iopub.execute_input": "2021-03-10T22:14:46.941356Z",
     "iopub.status.busy": "2021-03-10T22:14:46.940993Z",
     "iopub.status.idle": "2021-03-10T22:14:46.952409Z",
     "shell.execute_reply": "2021-03-10T22:14:46.952045Z"
    },
    "papermill": {
     "duration": 0.091878,
     "end_time": "2021-03-10T22:14:46.952493",
     "exception": false,
     "start_time": "2021-03-10T22:14:46.860615",
     "status": "completed"
    },
    "tags": []
   },
   "outputs": [
    {
     "data": {
      "text/plain": [
       "PosixPath('/home/miltondp/projects/labs/greenelab/phenoplier/base/results/clustering/runs/umap-z_score_std-projection-smultixcan-efo_partial-mashr-zscores/GaussianMixture-COVARIANCE_TYPE_full-K_MAX_60-K_MIN_2-N_INIT_10-N_REPS_PER_K_5.pkl')"
      ]
     },
     "metadata": {},
     "output_type": "display_data"
    }
   ],
   "source": [
    "output_filename = Path(\n",
    "    RESULTS_DIR,\n",
    "    generate_result_set_name(\n",
    "        CLUSTERING_OPTIONS,\n",
    "        prefix=f\"{clustering_method_name}-\",\n",
    "        suffix=\".pkl\",\n",
    "    ),\n",
    ").resolve()\n",
    "display(output_filename)"
   ]
  },
  {
   "cell_type": "code",
   "execution_count": 39,
   "metadata": {
    "execution": {
     "iopub.execute_input": "2021-03-10T22:14:47.104866Z",
     "iopub.status.busy": "2021-03-10T22:14:47.104457Z",
     "iopub.status.idle": "2021-03-10T22:14:47.126360Z",
     "shell.execute_reply": "2021-03-10T22:14:47.126036Z"
    },
    "papermill": {
     "duration": 0.098898,
     "end_time": "2021-03-10T22:14:47.126448",
     "exception": false,
     "start_time": "2021-03-10T22:14:47.027550",
     "status": "completed"
    },
    "tags": []
   },
   "outputs": [],
   "source": [
    "ensemble.to_pickle(output_filename)"
   ]
  },
  {
   "cell_type": "markdown",
   "metadata": {
    "papermill": {
     "duration": 0.075145,
     "end_time": "2021-03-10T22:14:47.277579",
     "exception": false,
     "start_time": "2021-03-10T22:14:47.202434",
     "status": "completed"
    },
    "tags": []
   },
   "source": [
    "# Cluster quality"
   ]
  },
  {
   "cell_type": "code",
   "execution_count": 40,
   "metadata": {
    "execution": {
     "iopub.execute_input": "2021-03-10T22:14:47.430428Z",
     "iopub.status.busy": "2021-03-10T22:14:47.430060Z",
     "iopub.status.idle": "2021-03-10T22:14:47.445668Z",
     "shell.execute_reply": "2021-03-10T22:14:47.445367Z"
    },
    "papermill": {
     "duration": 0.093565,
     "end_time": "2021-03-10T22:14:47.445754",
     "exception": false,
     "start_time": "2021-03-10T22:14:47.352189",
     "status": "completed"
    },
    "tags": []
   },
   "outputs": [
    {
     "data": {
      "text/html": [
       "<div>\n",
       "<style scoped>\n",
       "    .dataframe tbody tr th:only-of-type {\n",
       "        vertical-align: middle;\n",
       "    }\n",
       "\n",
       "    .dataframe tbody tr th {\n",
       "        vertical-align: top;\n",
       "    }\n",
       "\n",
       "    .dataframe thead th {\n",
       "        text-align: right;\n",
       "    }\n",
       "</style>\n",
       "<table border=\"1\" class=\"dataframe\">\n",
       "  <thead>\n",
       "    <tr style=\"text-align: right;\">\n",
       "      <th></th>\n",
       "      <th>ch_score</th>\n",
       "    </tr>\n",
       "    <tr>\n",
       "      <th>n_clusters</th>\n",
       "      <th></th>\n",
       "    </tr>\n",
       "  </thead>\n",
       "  <tbody>\n",
       "    <tr>\n",
       "      <th>2</th>\n",
       "      <td>1761.993301</td>\n",
       "    </tr>\n",
       "    <tr>\n",
       "      <th>3</th>\n",
       "      <td>1899.652003</td>\n",
       "    </tr>\n",
       "    <tr>\n",
       "      <th>4</th>\n",
       "      <td>1750.174395</td>\n",
       "    </tr>\n",
       "    <tr>\n",
       "      <th>5</th>\n",
       "      <td>1475.121241</td>\n",
       "    </tr>\n",
       "    <tr>\n",
       "      <th>6</th>\n",
       "      <td>1701.881494</td>\n",
       "    </tr>\n",
       "    <tr>\n",
       "      <th>7</th>\n",
       "      <td>1763.433578</td>\n",
       "    </tr>\n",
       "    <tr>\n",
       "      <th>8</th>\n",
       "      <td>1723.681830</td>\n",
       "    </tr>\n",
       "    <tr>\n",
       "      <th>9</th>\n",
       "      <td>2051.654667</td>\n",
       "    </tr>\n",
       "    <tr>\n",
       "      <th>10</th>\n",
       "      <td>2089.104999</td>\n",
       "    </tr>\n",
       "    <tr>\n",
       "      <th>11</th>\n",
       "      <td>2088.325345</td>\n",
       "    </tr>\n",
       "    <tr>\n",
       "      <th>12</th>\n",
       "      <td>2185.852368</td>\n",
       "    </tr>\n",
       "    <tr>\n",
       "      <th>13</th>\n",
       "      <td>2443.831911</td>\n",
       "    </tr>\n",
       "    <tr>\n",
       "      <th>14</th>\n",
       "      <td>2517.574270</td>\n",
       "    </tr>\n",
       "    <tr>\n",
       "      <th>15</th>\n",
       "      <td>2485.991771</td>\n",
       "    </tr>\n",
       "    <tr>\n",
       "      <th>16</th>\n",
       "      <td>2548.333964</td>\n",
       "    </tr>\n",
       "    <tr>\n",
       "      <th>17</th>\n",
       "      <td>2554.658165</td>\n",
       "    </tr>\n",
       "    <tr>\n",
       "      <th>18</th>\n",
       "      <td>2499.651805</td>\n",
       "    </tr>\n",
       "    <tr>\n",
       "      <th>19</th>\n",
       "      <td>2447.031262</td>\n",
       "    </tr>\n",
       "    <tr>\n",
       "      <th>20</th>\n",
       "      <td>2468.920879</td>\n",
       "    </tr>\n",
       "    <tr>\n",
       "      <th>21</th>\n",
       "      <td>2399.841507</td>\n",
       "    </tr>\n",
       "    <tr>\n",
       "      <th>22</th>\n",
       "      <td>2494.530242</td>\n",
       "    </tr>\n",
       "    <tr>\n",
       "      <th>23</th>\n",
       "      <td>2394.898139</td>\n",
       "    </tr>\n",
       "    <tr>\n",
       "      <th>24</th>\n",
       "      <td>2393.357080</td>\n",
       "    </tr>\n",
       "    <tr>\n",
       "      <th>25</th>\n",
       "      <td>2388.615235</td>\n",
       "    </tr>\n",
       "    <tr>\n",
       "      <th>26</th>\n",
       "      <td>2353.597177</td>\n",
       "    </tr>\n",
       "    <tr>\n",
       "      <th>27</th>\n",
       "      <td>2336.515013</td>\n",
       "    </tr>\n",
       "    <tr>\n",
       "      <th>28</th>\n",
       "      <td>2373.982054</td>\n",
       "    </tr>\n",
       "    <tr>\n",
       "      <th>29</th>\n",
       "      <td>2324.452945</td>\n",
       "    </tr>\n",
       "    <tr>\n",
       "      <th>30</th>\n",
       "      <td>2300.352307</td>\n",
       "    </tr>\n",
       "    <tr>\n",
       "      <th>31</th>\n",
       "      <td>2326.801023</td>\n",
       "    </tr>\n",
       "    <tr>\n",
       "      <th>32</th>\n",
       "      <td>2329.959001</td>\n",
       "    </tr>\n",
       "    <tr>\n",
       "      <th>33</th>\n",
       "      <td>2283.922460</td>\n",
       "    </tr>\n",
       "    <tr>\n",
       "      <th>34</th>\n",
       "      <td>2298.687325</td>\n",
       "    </tr>\n",
       "    <tr>\n",
       "      <th>35</th>\n",
       "      <td>2280.757645</td>\n",
       "    </tr>\n",
       "    <tr>\n",
       "      <th>36</th>\n",
       "      <td>2302.439410</td>\n",
       "    </tr>\n",
       "    <tr>\n",
       "      <th>37</th>\n",
       "      <td>2277.224935</td>\n",
       "    </tr>\n",
       "    <tr>\n",
       "      <th>38</th>\n",
       "      <td>2315.635886</td>\n",
       "    </tr>\n",
       "    <tr>\n",
       "      <th>39</th>\n",
       "      <td>2246.686137</td>\n",
       "    </tr>\n",
       "    <tr>\n",
       "      <th>40</th>\n",
       "      <td>2244.763202</td>\n",
       "    </tr>\n",
       "    <tr>\n",
       "      <th>41</th>\n",
       "      <td>2273.615867</td>\n",
       "    </tr>\n",
       "    <tr>\n",
       "      <th>42</th>\n",
       "      <td>2267.105391</td>\n",
       "    </tr>\n",
       "    <tr>\n",
       "      <th>43</th>\n",
       "      <td>2243.529567</td>\n",
       "    </tr>\n",
       "    <tr>\n",
       "      <th>44</th>\n",
       "      <td>2219.798856</td>\n",
       "    </tr>\n",
       "    <tr>\n",
       "      <th>45</th>\n",
       "      <td>2195.339445</td>\n",
       "    </tr>\n",
       "    <tr>\n",
       "      <th>46</th>\n",
       "      <td>2234.741852</td>\n",
       "    </tr>\n",
       "    <tr>\n",
       "      <th>47</th>\n",
       "      <td>2234.404346</td>\n",
       "    </tr>\n",
       "    <tr>\n",
       "      <th>48</th>\n",
       "      <td>2231.957676</td>\n",
       "    </tr>\n",
       "    <tr>\n",
       "      <th>49</th>\n",
       "      <td>2212.622418</td>\n",
       "    </tr>\n",
       "    <tr>\n",
       "      <th>50</th>\n",
       "      <td>2208.405796</td>\n",
       "    </tr>\n",
       "    <tr>\n",
       "      <th>51</th>\n",
       "      <td>2195.898737</td>\n",
       "    </tr>\n",
       "    <tr>\n",
       "      <th>52</th>\n",
       "      <td>2155.488517</td>\n",
       "    </tr>\n",
       "    <tr>\n",
       "      <th>53</th>\n",
       "      <td>2212.095070</td>\n",
       "    </tr>\n",
       "    <tr>\n",
       "      <th>54</th>\n",
       "      <td>2164.780211</td>\n",
       "    </tr>\n",
       "    <tr>\n",
       "      <th>55</th>\n",
       "      <td>2198.432862</td>\n",
       "    </tr>\n",
       "    <tr>\n",
       "      <th>56</th>\n",
       "      <td>2167.273515</td>\n",
       "    </tr>\n",
       "    <tr>\n",
       "      <th>57</th>\n",
       "      <td>2144.395365</td>\n",
       "    </tr>\n",
       "    <tr>\n",
       "      <th>58</th>\n",
       "      <td>2156.496260</td>\n",
       "    </tr>\n",
       "    <tr>\n",
       "      <th>59</th>\n",
       "      <td>2142.719933</td>\n",
       "    </tr>\n",
       "    <tr>\n",
       "      <th>60</th>\n",
       "      <td>2154.650715</td>\n",
       "    </tr>\n",
       "  </tbody>\n",
       "</table>\n",
       "</div>"
      ],
      "text/plain": [
       "               ch_score\n",
       "n_clusters             \n",
       "2           1761.993301\n",
       "3           1899.652003\n",
       "4           1750.174395\n",
       "5           1475.121241\n",
       "6           1701.881494\n",
       "7           1763.433578\n",
       "8           1723.681830\n",
       "9           2051.654667\n",
       "10          2089.104999\n",
       "11          2088.325345\n",
       "12          2185.852368\n",
       "13          2443.831911\n",
       "14          2517.574270\n",
       "15          2485.991771\n",
       "16          2548.333964\n",
       "17          2554.658165\n",
       "18          2499.651805\n",
       "19          2447.031262\n",
       "20          2468.920879\n",
       "21          2399.841507\n",
       "22          2494.530242\n",
       "23          2394.898139\n",
       "24          2393.357080\n",
       "25          2388.615235\n",
       "26          2353.597177\n",
       "27          2336.515013\n",
       "28          2373.982054\n",
       "29          2324.452945\n",
       "30          2300.352307\n",
       "31          2326.801023\n",
       "32          2329.959001\n",
       "33          2283.922460\n",
       "34          2298.687325\n",
       "35          2280.757645\n",
       "36          2302.439410\n",
       "37          2277.224935\n",
       "38          2315.635886\n",
       "39          2246.686137\n",
       "40          2244.763202\n",
       "41          2273.615867\n",
       "42          2267.105391\n",
       "43          2243.529567\n",
       "44          2219.798856\n",
       "45          2195.339445\n",
       "46          2234.741852\n",
       "47          2234.404346\n",
       "48          2231.957676\n",
       "49          2212.622418\n",
       "50          2208.405796\n",
       "51          2195.898737\n",
       "52          2155.488517\n",
       "53          2212.095070\n",
       "54          2164.780211\n",
       "55          2198.432862\n",
       "56          2167.273515\n",
       "57          2144.395365\n",
       "58          2156.496260\n",
       "59          2142.719933\n",
       "60          2154.650715"
      ]
     },
     "metadata": {},
     "output_type": "display_data"
    }
   ],
   "source": [
    "with pd.option_context(\"display.max_rows\", None, \"display.max_columns\", None):\n",
    "    _df = ensemble.groupby([\"n_clusters\"]).mean()\n",
    "    display(_df)"
   ]
  },
  {
   "cell_type": "code",
   "execution_count": 41,
   "metadata": {
    "execution": {
     "iopub.execute_input": "2021-03-10T22:14:47.599745Z",
     "iopub.status.busy": "2021-03-10T22:14:47.599385Z",
     "iopub.status.idle": "2021-03-10T22:14:50.337022Z",
     "shell.execute_reply": "2021-03-10T22:14:50.336675Z"
    },
    "papermill": {
     "duration": 2.815969,
     "end_time": "2021-03-10T22:14:50.337104",
     "exception": false,
     "start_time": "2021-03-10T22:14:47.521135",
     "status": "completed"
    },
    "tags": []
   },
   "outputs": [
    {
     "data": {
      "image/png": "[encoded data removed]",
      "text/plain": [
       "<Figure size 1008x432 with 1 Axes>"
      ]
     },
     "metadata": {},
     "output_type": "display_data"
    }
   ],
   "source": [
    "with sns.plotting_context(\"talk\", font_scale=0.75), sns.axes_style(\n",
    "    \"whitegrid\", {\"grid.linestyle\": \"--\"}\n",
    "):\n",
    "    fig = plt.figure(figsize=(14, 6))\n",
    "    ax = sns.pointplot(data=ensemble, x=\"n_clusters\", y=\"ch_score\")\n",
    "    ax.set_ylabel(\"Calinski-Harabasz index\")\n",
    "    ax.set_xlabel(\"Number of clusters ($k$)\")\n",
    "    ax.set_xticklabels(ax.get_xticklabels(), rotation=45)\n",
    "    plt.grid(True)\n",
    "    plt.tight_layout()"
   ]
  },
  {
   "cell_type": "markdown",
   "metadata": {
    "papermill": {
     "duration": 0.0772,
     "end_time": "2021-03-10T22:14:50.492632",
     "exception": false,
     "start_time": "2021-03-10T22:14:50.415432",
     "status": "completed"
    },
    "tags": []
   },
   "source": [
    "# Stability"
   ]
  },
  {
   "cell_type": "markdown",
   "metadata": {
    "papermill": {
     "duration": 0.077969,
     "end_time": "2021-03-10T22:14:50.648449",
     "exception": false,
     "start_time": "2021-03-10T22:14:50.570480",
     "status": "completed"
    },
    "tags": []
   },
   "source": [
    "## Group ensemble by n_clusters"
   ]
  },
  {
   "cell_type": "code",
   "execution_count": 42,
   "metadata": {
    "execution": {
     "iopub.execute_input": "2021-03-10T22:14:50.806111Z",
     "iopub.status.busy": "2021-03-10T22:14:50.805749Z",
     "iopub.status.idle": "2021-03-10T22:14:50.830669Z",
     "shell.execute_reply": "2021-03-10T22:14:50.830315Z"
    },
    "papermill": {
     "duration": 0.104658,
     "end_time": "2021-03-10T22:14:50.830754",
     "exception": false,
     "start_time": "2021-03-10T22:14:50.726096",
     "status": "completed"
    },
    "tags": []
   },
   "outputs": [],
   "source": [
    "parts = ensemble.groupby(\"n_clusters\").apply(\n",
    "    lambda x: np.concatenate(x[\"partition\"].apply(lambda x: x.reshape(1, -1)), axis=0)\n",
    ")"
   ]
  },
  {
   "cell_type": "code",
   "execution_count": 43,
   "metadata": {
    "execution": {
     "iopub.execute_input": "2021-03-10T22:14:50.992722Z",
     "iopub.status.busy": "2021-03-10T22:14:50.992341Z",
     "iopub.status.idle": "2021-03-10T22:14:51.013892Z",
     "shell.execute_reply": "2021-03-10T22:14:51.013530Z"
    },
    "papermill": {
     "duration": 0.102262,
     "end_time": "2021-03-10T22:14:51.013973",
     "exception": false,
     "start_time": "2021-03-10T22:14:50.911711",
     "status": "completed"
    },
    "tags": []
   },
   "outputs": [
    {
     "data": {
      "text/plain": [
       "n_clusters\n",
       "2    [[1.0, 0.0, 0.0, 0.0, 0.0, 0.0, 0.0, 0.0, 0.0,...\n",
       "3    [[0.0, 1.0, 1.0, 1.0, 1.0, 1.0, 1.0, 1.0, 1.0,...\n",
       "4    [[3.0, 1.0, 1.0, 1.0, 1.0, 1.0, 1.0, 1.0, 1.0,...\n",
       "5    [[1.0, 2.0, 2.0, 2.0, 2.0, 2.0, 2.0, 2.0, 2.0,...\n",
       "6    [[1.0, 3.0, 3.0, 3.0, 3.0, 3.0, 3.0, 3.0, 3.0,...\n",
       "dtype: object"
      ]
     },
     "execution_count": 43,
     "metadata": {},
     "output_type": "execute_result"
    }
   ],
   "source": [
    "parts.head()"
   ]
  },
  {
   "cell_type": "code",
   "execution_count": 44,
   "metadata": {
    "execution": {
     "iopub.execute_input": "2021-03-10T22:14:51.172032Z",
     "iopub.status.busy": "2021-03-10T22:14:51.171677Z",
     "iopub.status.idle": "2021-03-10T22:14:51.182872Z",
     "shell.execute_reply": "2021-03-10T22:14:51.182577Z"
    },
    "papermill": {
     "duration": 0.091159,
     "end_time": "2021-03-10T22:14:51.182955",
     "exception": false,
     "start_time": "2021-03-10T22:14:51.091796",
     "status": "completed"
    },
    "tags": []
   },
   "outputs": [],
   "source": [
    "assert np.all(\n",
    "    [\n",
    "        parts.loc[k].shape == (CLUSTERING_OPTIONS[\"N_REPS_PER_K\"], data.shape[0])\n",
    "        for k in parts.index\n",
    "    ]\n",
    ")"
   ]
  },
  {
   "cell_type": "markdown",
   "metadata": {
    "papermill": {
     "duration": 0.078501,
     "end_time": "2021-03-10T22:14:51.340171",
     "exception": false,
     "start_time": "2021-03-10T22:14:51.261670",
     "status": "completed"
    },
    "tags": []
   },
   "source": [
    "## Compute stability"
   ]
  },
  {
   "cell_type": "code",
   "execution_count": 45,
   "metadata": {
    "execution": {
     "iopub.execute_input": "2021-03-10T22:14:51.499163Z",
     "iopub.status.busy": "2021-03-10T22:14:51.498810Z",
     "iopub.status.idle": "2021-03-10T22:14:51.509455Z",
     "shell.execute_reply": "2021-03-10T22:14:51.509083Z"
    },
    "papermill": {
     "duration": 0.091037,
     "end_time": "2021-03-10T22:14:51.509539",
     "exception": false,
     "start_time": "2021-03-10T22:14:51.418502",
     "status": "completed"
    },
    "tags": []
   },
   "outputs": [],
   "source": [
    "from sklearn.metrics import adjusted_rand_score as ari\n",
    "from scipy.spatial.distance import pdist"
   ]
  },
  {
   "cell_type": "code",
   "execution_count": 46,
   "metadata": {
    "execution": {
     "iopub.execute_input": "2021-03-10T22:14:51.667763Z",
     "iopub.status.busy": "2021-03-10T22:14:51.667410Z",
     "iopub.status.idle": "2021-03-10T22:14:52.314498Z",
     "shell.execute_reply": "2021-03-10T22:14:52.313985Z"
    },
    "papermill": {
     "duration": 0.727214,
     "end_time": "2021-03-10T22:14:52.314603",
     "exception": false,
     "start_time": "2021-03-10T22:14:51.587389",
     "status": "completed"
    },
    "tags": []
   },
   "outputs": [],
   "source": [
    "parts_ari = pd.Series(\n",
    "    {k: pdist(parts.loc[k], metric=ari) for k in parts.index}, name=\"k\"\n",
    ")"
   ]
  },
  {
   "cell_type": "code",
   "execution_count": 47,
   "metadata": {
    "execution": {
     "iopub.execute_input": "2021-03-10T22:14:52.483903Z",
     "iopub.status.busy": "2021-03-10T22:14:52.483550Z",
     "iopub.status.idle": "2021-03-10T22:14:52.496324Z",
     "shell.execute_reply": "2021-03-10T22:14:52.495957Z"
    },
    "papermill": {
     "duration": 0.092466,
     "end_time": "2021-03-10T22:14:52.496407",
     "exception": false,
     "start_time": "2021-03-10T22:14:52.403941",
     "status": "completed"
    },
    "tags": []
   },
   "outputs": [
    {
     "data": {
      "text/plain": [
       "2     1.000000\n",
       "3     0.998699\n",
       "4     0.909805\n",
       "19    0.812083\n",
       "8     0.811193\n",
       "5     0.792471\n",
       "24    0.792006\n",
       "21    0.791576\n",
       "16    0.785334\n",
       "23    0.785227\n",
       "28    0.783232\n",
       "25    0.780140\n",
       "6     0.779203\n",
       "11    0.778443\n",
       "9     0.762855\n",
       "Name: k, dtype: float64"
      ]
     },
     "metadata": {},
     "output_type": "display_data"
    }
   ],
   "source": [
    "parts_ari_stability = parts_ari.apply(lambda x: x.mean())\n",
    "display(parts_ari_stability.sort_values(ascending=False).head(15))"
   ]
  },
  {
   "cell_type": "code",
   "execution_count": 48,
   "metadata": {
    "execution": {
     "iopub.execute_input": "2021-03-10T22:14:52.655238Z",
     "iopub.status.busy": "2021-03-10T22:14:52.654879Z",
     "iopub.status.idle": "2021-03-10T22:14:52.666472Z",
     "shell.execute_reply": "2021-03-10T22:14:52.666097Z"
    },
    "papermill": {
     "duration": 0.091538,
     "end_time": "2021-03-10T22:14:52.666555",
     "exception": false,
     "start_time": "2021-03-10T22:14:52.575017",
     "status": "completed"
    },
    "tags": []
   },
   "outputs": [],
   "source": [
    "parts_ari_df = pd.DataFrame.from_records(parts_ari.tolist()).set_index(\n",
    "    parts_ari.index.copy()\n",
    ")"
   ]
  },
  {
   "cell_type": "code",
   "execution_count": 49,
   "metadata": {
    "execution": {
     "iopub.execute_input": "2021-03-10T22:14:52.825086Z",
     "iopub.status.busy": "2021-03-10T22:14:52.824657Z",
     "iopub.status.idle": "2021-03-10T22:14:52.836032Z",
     "shell.execute_reply": "2021-03-10T22:14:52.835672Z"
    },
    "papermill": {
     "duration": 0.090741,
     "end_time": "2021-03-10T22:14:52.836113",
     "exception": false,
     "start_time": "2021-03-10T22:14:52.745372",
     "status": "completed"
    },
    "tags": []
   },
   "outputs": [
    {
     "data": {
      "text/plain": [
       "(59, 10)"
      ]
     },
     "execution_count": 49,
     "metadata": {},
     "output_type": "execute_result"
    }
   ],
   "source": [
    "parts_ari_df.shape"
   ]
  },
  {
   "cell_type": "code",
   "execution_count": 50,
   "metadata": {
    "execution": {
     "iopub.execute_input": "2021-03-10T22:14:53.001473Z",
     "iopub.status.busy": "2021-03-10T22:14:53.001111Z",
     "iopub.status.idle": "2021-03-10T22:14:53.011633Z",
     "shell.execute_reply": "2021-03-10T22:14:53.011298Z"
    },
    "papermill": {
     "duration": 0.093262,
     "end_time": "2021-03-10T22:14:53.011717",
     "exception": false,
     "start_time": "2021-03-10T22:14:52.918455",
     "status": "completed"
    },
    "tags": []
   },
   "outputs": [],
   "source": [
    "assert (\n",
    "    int(\n",
    "        (CLUSTERING_OPTIONS[\"N_REPS_PER_K\"] * (CLUSTERING_OPTIONS[\"N_REPS_PER_K\"] - 1))\n",
    "        / 2\n",
    "    )\n",
    "    == parts_ari_df.shape[1]\n",
    ")"
   ]
  },
  {
   "cell_type": "code",
   "execution_count": 51,
   "metadata": {
    "execution": {
     "iopub.execute_input": "2021-03-10T22:14:53.170856Z",
     "iopub.status.busy": "2021-03-10T22:14:53.170507Z",
     "iopub.status.idle": "2021-03-10T22:14:53.187303Z",
     "shell.execute_reply": "2021-03-10T22:14:53.186949Z"
    },
    "papermill": {
     "duration": 0.097058,
     "end_time": "2021-03-10T22:14:53.187384",
     "exception": false,
     "start_time": "2021-03-10T22:14:53.090326",
     "status": "completed"
    },
    "tags": []
   },
   "outputs": [
    {
     "data": {
      "text/html": [
       "<div>\n",
       "<style scoped>\n",
       "    .dataframe tbody tr th:only-of-type {\n",
       "        vertical-align: middle;\n",
       "    }\n",
       "\n",
       "    .dataframe tbody tr th {\n",
       "        vertical-align: top;\n",
       "    }\n",
       "\n",
       "    .dataframe thead th {\n",
       "        text-align: right;\n",
       "    }\n",
       "</style>\n",
       "<table border=\"1\" class=\"dataframe\">\n",
       "  <thead>\n",
       "    <tr style=\"text-align: right;\">\n",
       "      <th></th>\n",
       "      <th>0</th>\n",
       "      <th>1</th>\n",
       "      <th>2</th>\n",
       "      <th>3</th>\n",
       "      <th>4</th>\n",
       "      <th>5</th>\n",
       "      <th>6</th>\n",
       "      <th>7</th>\n",
       "      <th>8</th>\n",
       "      <th>9</th>\n",
       "    </tr>\n",
       "  </thead>\n",
       "  <tbody>\n",
       "    <tr>\n",
       "      <th>2</th>\n",
       "      <td>1.000000</td>\n",
       "      <td>1.000000</td>\n",
       "      <td>1.000000</td>\n",
       "      <td>1.000000</td>\n",
       "      <td>1.000000</td>\n",
       "      <td>1.000000</td>\n",
       "      <td>1.000000</td>\n",
       "      <td>1.000000</td>\n",
       "      <td>1.000000</td>\n",
       "      <td>1.000000</td>\n",
       "    </tr>\n",
       "    <tr>\n",
       "      <th>3</th>\n",
       "      <td>1.000000</td>\n",
       "      <td>1.000000</td>\n",
       "      <td>1.000000</td>\n",
       "      <td>0.996746</td>\n",
       "      <td>1.000000</td>\n",
       "      <td>1.000000</td>\n",
       "      <td>0.996746</td>\n",
       "      <td>1.000000</td>\n",
       "      <td>0.996746</td>\n",
       "      <td>0.996746</td>\n",
       "    </tr>\n",
       "    <tr>\n",
       "      <th>4</th>\n",
       "      <td>0.957097</td>\n",
       "      <td>0.939883</td>\n",
       "      <td>0.812284</td>\n",
       "      <td>0.995982</td>\n",
       "      <td>0.981640</td>\n",
       "      <td>0.848055</td>\n",
       "      <td>0.953341</td>\n",
       "      <td>0.864272</td>\n",
       "      <td>0.936250</td>\n",
       "      <td>0.809246</td>\n",
       "    </tr>\n",
       "    <tr>\n",
       "      <th>5</th>\n",
       "      <td>0.654119</td>\n",
       "      <td>0.654119</td>\n",
       "      <td>0.654119</td>\n",
       "      <td>1.000000</td>\n",
       "      <td>1.000000</td>\n",
       "      <td>1.000000</td>\n",
       "      <td>0.654119</td>\n",
       "      <td>1.000000</td>\n",
       "      <td>0.654119</td>\n",
       "      <td>0.654119</td>\n",
       "    </tr>\n",
       "    <tr>\n",
       "      <th>6</th>\n",
       "      <td>0.751774</td>\n",
       "      <td>0.751758</td>\n",
       "      <td>0.751774</td>\n",
       "      <td>0.534734</td>\n",
       "      <td>0.999369</td>\n",
       "      <td>1.000000</td>\n",
       "      <td>0.667964</td>\n",
       "      <td>0.999369</td>\n",
       "      <td>0.667329</td>\n",
       "      <td>0.667964</td>\n",
       "    </tr>\n",
       "  </tbody>\n",
       "</table>\n",
       "</div>"
      ],
      "text/plain": [
       "          0         1         2         3         4         5         6  \\\n",
       "2  1.000000  1.000000  1.000000  1.000000  1.000000  1.000000  1.000000   \n",
       "3  1.000000  1.000000  1.000000  0.996746  1.000000  1.000000  0.996746   \n",
       "4  0.957097  0.939883  0.812284  0.995982  0.981640  0.848055  0.953341   \n",
       "5  0.654119  0.654119  0.654119  1.000000  1.000000  1.000000  0.654119   \n",
       "6  0.751774  0.751758  0.751774  0.534734  0.999369  1.000000  0.667964   \n",
       "\n",
       "          7         8         9  \n",
       "2  1.000000  1.000000  1.000000  \n",
       "3  1.000000  0.996746  0.996746  \n",
       "4  0.864272  0.936250  0.809246  \n",
       "5  1.000000  0.654119  0.654119  \n",
       "6  0.999369  0.667329  0.667964  "
      ]
     },
     "execution_count": 51,
     "metadata": {},
     "output_type": "execute_result"
    }
   ],
   "source": [
    "parts_ari_df.head()"
   ]
  },
  {
   "cell_type": "markdown",
   "metadata": {
    "papermill": {
     "duration": 0.078718,
     "end_time": "2021-03-10T22:14:53.346231",
     "exception": false,
     "start_time": "2021-03-10T22:14:53.267513",
     "status": "completed"
    },
    "tags": []
   },
   "source": [
    "## Save"
   ]
  },
  {
   "cell_type": "code",
   "execution_count": 52,
   "metadata": {
    "execution": {
     "iopub.execute_input": "2021-03-10T22:14:53.507205Z",
     "iopub.status.busy": "2021-03-10T22:14:53.506852Z",
     "iopub.status.idle": "2021-03-10T22:14:53.518742Z",
     "shell.execute_reply": "2021-03-10T22:14:53.518389Z"
    },
    "papermill": {
     "duration": 0.093498,
     "end_time": "2021-03-10T22:14:53.518823",
     "exception": false,
     "start_time": "2021-03-10T22:14:53.425325",
     "status": "completed"
    },
    "tags": []
   },
   "outputs": [
    {
     "data": {
      "text/plain": [
       "PosixPath('/home/miltondp/projects/labs/greenelab/phenoplier/base/results/clustering/runs/umap-z_score_std-projection-smultixcan-efo_partial-mashr-zscores/GaussianMixture-stability-COVARIANCE_TYPE_full-K_MAX_60-K_MIN_2-N_INIT_10-N_REPS_PER_K_5.pkl')"
      ]
     },
     "metadata": {},
     "output_type": "display_data"
    }
   ],
   "source": [
    "output_filename = Path(\n",
    "    RESULTS_DIR,\n",
    "    generate_result_set_name(\n",
    "        CLUSTERING_OPTIONS,\n",
    "        prefix=f\"{clustering_method_name}-stability-\",\n",
    "        suffix=\".pkl\",\n",
    "    ),\n",
    ").resolve()\n",
    "display(output_filename)"
   ]
  },
  {
   "cell_type": "code",
   "execution_count": 53,
   "metadata": {
    "execution": {
     "iopub.execute_input": "2021-03-10T22:14:53.706606Z",
     "iopub.status.busy": "2021-03-10T22:14:53.706248Z",
     "iopub.status.idle": "2021-03-10T22:14:53.717347Z",
     "shell.execute_reply": "2021-03-10T22:14:53.717646Z"
    },
    "papermill": {
     "duration": 0.099116,
     "end_time": "2021-03-10T22:14:53.717750",
     "exception": false,
     "start_time": "2021-03-10T22:14:53.618634",
     "status": "completed"
    },
    "tags": []
   },
   "outputs": [],
   "source": [
    "parts_ari_df.to_pickle(output_filename)"
   ]
  },
  {
   "cell_type": "markdown",
   "metadata": {
    "papermill": {
     "duration": 0.080353,
     "end_time": "2021-03-10T22:14:53.877406",
     "exception": false,
     "start_time": "2021-03-10T22:14:53.797053",
     "status": "completed"
    },
    "tags": []
   },
   "source": [
    "## Stability plot"
   ]
  },
  {
   "cell_type": "code",
   "execution_count": 54,
   "metadata": {
    "execution": {
     "iopub.execute_input": "2021-03-10T22:14:54.041455Z",
     "iopub.status.busy": "2021-03-10T22:14:54.041099Z",
     "iopub.status.idle": "2021-03-10T22:14:54.053469Z",
     "shell.execute_reply": "2021-03-10T22:14:54.053095Z"
    },
    "papermill": {
     "duration": 0.094256,
     "end_time": "2021-03-10T22:14:54.053552",
     "exception": false,
     "start_time": "2021-03-10T22:14:53.959296",
     "status": "completed"
    },
    "tags": []
   },
   "outputs": [],
   "source": [
    "parts_ari_df_plot = (\n",
    "    parts_ari_df.stack()\n",
    "    .reset_index()\n",
    "    .rename(columns={\"level_0\": \"k\", \"level_1\": \"idx\", 0: \"ari\"})\n",
    ")"
   ]
  },
  {
   "cell_type": "code",
   "execution_count": 55,
   "metadata": {
    "execution": {
     "iopub.execute_input": "2021-03-10T22:14:54.215584Z",
     "iopub.status.busy": "2021-03-10T22:14:54.215232Z",
     "iopub.status.idle": "2021-03-10T22:14:54.227310Z",
     "shell.execute_reply": "2021-03-10T22:14:54.226941Z"
    },
    "papermill": {
     "duration": 0.093843,
     "end_time": "2021-03-10T22:14:54.227394",
     "exception": false,
     "start_time": "2021-03-10T22:14:54.133551",
     "status": "completed"
    },
    "tags": []
   },
   "outputs": [
    {
     "data": {
      "text/plain": [
       "k        int64\n",
       "idx      int64\n",
       "ari    float64\n",
       "dtype: object"
      ]
     },
     "execution_count": 55,
     "metadata": {},
     "output_type": "execute_result"
    }
   ],
   "source": [
    "parts_ari_df_plot.dtypes"
   ]
  },
  {
   "cell_type": "code",
   "execution_count": 56,
   "metadata": {
    "execution": {
     "iopub.execute_input": "2021-03-10T22:14:54.389447Z",
     "iopub.status.busy": "2021-03-10T22:14:54.389092Z",
     "iopub.status.idle": "2021-03-10T22:14:54.402320Z",
     "shell.execute_reply": "2021-03-10T22:14:54.402610Z"
    },
    "papermill": {
     "duration": 0.095104,
     "end_time": "2021-03-10T22:14:54.402714",
     "exception": false,
     "start_time": "2021-03-10T22:14:54.307610",
     "status": "completed"
    },
    "tags": []
   },
   "outputs": [
    {
     "data": {
      "text/html": [
       "<div>\n",
       "<style scoped>\n",
       "    .dataframe tbody tr th:only-of-type {\n",
       "        vertical-align: middle;\n",
       "    }\n",
       "\n",
       "    .dataframe tbody tr th {\n",
       "        vertical-align: top;\n",
       "    }\n",
       "\n",
       "    .dataframe thead th {\n",
       "        text-align: right;\n",
       "    }\n",
       "</style>\n",
       "<table border=\"1\" class=\"dataframe\">\n",
       "  <thead>\n",
       "    <tr style=\"text-align: right;\">\n",
       "      <th></th>\n",
       "      <th>k</th>\n",
       "      <th>idx</th>\n",
       "      <th>ari</th>\n",
       "    </tr>\n",
       "  </thead>\n",
       "  <tbody>\n",
       "    <tr>\n",
       "      <th>0</th>\n",
       "      <td>2</td>\n",
       "      <td>0</td>\n",
       "      <td>1.0</td>\n",
       "    </tr>\n",
       "    <tr>\n",
       "      <th>1</th>\n",
       "      <td>2</td>\n",
       "      <td>1</td>\n",
       "      <td>1.0</td>\n",
       "    </tr>\n",
       "    <tr>\n",
       "      <th>2</th>\n",
       "      <td>2</td>\n",
       "      <td>2</td>\n",
       "      <td>1.0</td>\n",
       "    </tr>\n",
       "    <tr>\n",
       "      <th>3</th>\n",
       "      <td>2</td>\n",
       "      <td>3</td>\n",
       "      <td>1.0</td>\n",
       "    </tr>\n",
       "    <tr>\n",
       "      <th>4</th>\n",
       "      <td>2</td>\n",
       "      <td>4</td>\n",
       "      <td>1.0</td>\n",
       "    </tr>\n",
       "  </tbody>\n",
       "</table>\n",
       "</div>"
      ],
      "text/plain": [
       "   k  idx  ari\n",
       "0  2    0  1.0\n",
       "1  2    1  1.0\n",
       "2  2    2  1.0\n",
       "3  2    3  1.0\n",
       "4  2    4  1.0"
      ]
     },
     "execution_count": 56,
     "metadata": {},
     "output_type": "execute_result"
    }
   ],
   "source": [
    "parts_ari_df_plot.head()"
   ]
  },
  {
   "cell_type": "code",
   "execution_count": 57,
   "metadata": {
    "execution": {
     "iopub.execute_input": "2021-03-10T22:14:54.564201Z",
     "iopub.status.busy": "2021-03-10T22:14:54.563835Z",
     "iopub.status.idle": "2021-03-10T22:14:57.029499Z",
     "shell.execute_reply": "2021-03-10T22:14:57.029802Z"
    },
    "papermill": {
     "duration": 2.547855,
     "end_time": "2021-03-10T22:14:57.029909",
     "exception": false,
     "start_time": "2021-03-10T22:14:54.482054",
     "status": "completed"
    },
    "tags": []
   },
   "outputs": [
    {
     "data": {
      "image/png": "[encoded data removed]",
      "text/plain": [
       "<Figure size 1008x432 with 1 Axes>"
      ]
     },
     "metadata": {},
     "output_type": "display_data"
    }
   ],
   "source": [
    "# with sns.axes_style('whitegrid', {'grid.linestyle': '--'}):\n",
    "with sns.plotting_context(\"talk\", font_scale=0.75), sns.axes_style(\n",
    "    \"whitegrid\", {\"grid.linestyle\": \"--\"}\n",
    "):\n",
    "    fig = plt.figure(figsize=(14, 6))\n",
    "    ax = sns.pointplot(data=parts_ari_df_plot, x=\"k\", y=\"ari\")\n",
    "    ax.set_ylabel(\"Averange ARI\")\n",
    "    ax.set_xlabel(\"Number of clusters ($k$)\")\n",
    "    ax.set_xticklabels(ax.get_xticklabels(), rotation=45)\n",
    "    #     ax.set_ylim(0.0, 1.0)\n",
    "    #     ax.set_xlim(CLUSTERING_OPTIONS['K_MIN'], CLUSTERING_OPTIONS['K_MAX'])\n",
    "    plt.grid(True)\n",
    "    plt.tight_layout()"
   ]
  },
  {
   "cell_type": "code",
   "execution_count": null,
   "metadata": {
    "papermill": {
     "duration": 0.082075,
     "end_time": "2021-03-10T22:14:57.194382",
     "exception": false,
     "start_time": "2021-03-10T22:14:57.112307",
     "status": "completed"
    },
    "tags": []
   },
   "outputs": [],
   "source": []
  }
 ],
 "metadata": {
  "jupytext": {
   "cell_metadata_filter": "all,-execution,-papermill,-trusted",
   "formats": "ipynb,py//py:percent"
  },
  "kernelspec": {
   "display_name": "Python 3 (ipykernel)",
   "language": "python",
   "name": "python3"
  },
  "language_info": {
   "codemirror_mode": {
    "name": "ipython",
    "version": 3
   },
   "file_extension": ".py",
   "mimetype": "text/x-python",
   "name": "python",
   "nbconvert_exporter": "python",
   "pygments_lexer": "ipython3",
   "version": "3.8.13"
  },
  "papermill": {
   "default_parameters": {},
   "duration": 4213.091853,
   "end_time": "2021-03-10T22:14:57.681349",
   "environment_variables": {},
   "exception": null,
   "input_path": "15_cluster_analysis/004_02-gmm-umap.ipynb",
   "output_path": "15_cluster_analysis/004_02-gmm-umap.run.ipynb",
   "parameters": {},
   "start_time": "2021-03-10T21:04:44.589496",
   "version": "2.2.2"
  },
  "toc-autonumbering": true,
  "toc-showcode": false,
  "toc-showmarkdowntxt": false,
  "toc-showtags": false
 },
 "nbformat": 4,
 "nbformat_minor": 4
}
