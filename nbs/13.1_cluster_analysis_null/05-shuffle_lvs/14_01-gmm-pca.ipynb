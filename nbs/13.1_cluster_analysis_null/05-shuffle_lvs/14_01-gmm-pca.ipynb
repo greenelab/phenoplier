{
 "cells": [
  {
   "cell_type": "markdown",
   "id": "9390565c",
   "metadata": {
    "papermill": {
     "duration": 0.0137,
     "end_time": "2022-11-26T11:22:44.337075",
     "exception": false,
     "start_time": "2022-11-26T11:22:44.323375",
     "status": "completed"
    },
    "tags": []
   },
   "source": [
    "# Description"
   ]
  },
  {
   "cell_type": "markdown",
   "id": "a6a4cb1f",
   "metadata": {
    "papermill": {
     "duration": 0.012743,
     "end_time": "2022-11-26T11:22:44.363342",
     "exception": false,
     "start_time": "2022-11-26T11:22:44.350599",
     "status": "completed"
    },
    "tags": []
   },
   "source": [
    "Runs gaussian mixture model on the pca version of the data."
   ]
  },
  {
   "cell_type": "markdown",
   "id": "0d6ccadd",
   "metadata": {
    "papermill": {
     "duration": 0.012856,
     "end_time": "2022-11-26T11:22:44.389063",
     "exception": false,
     "start_time": "2022-11-26T11:22:44.376207",
     "status": "completed"
    },
    "tags": []
   },
   "source": [
    "# Environment variables"
   ]
  },
  {
   "cell_type": "code",
   "execution_count": 1,
   "id": "3a64fb76",
   "metadata": {
    "execution": {
     "iopub.execute_input": "2022-11-26T11:22:44.413312Z",
     "iopub.status.busy": "2022-11-26T11:22:44.412687Z",
     "iopub.status.idle": "2022-11-26T11:22:44.432397Z",
     "shell.execute_reply": "2022-11-26T11:22:44.431879Z"
    },
    "papermill": {
     "duration": 0.031365,
     "end_time": "2022-11-26T11:22:44.433308",
     "exception": false,
     "start_time": "2022-11-26T11:22:44.401943",
     "status": "completed"
    },
    "tags": []
   },
   "outputs": [
    {
     "data": {
      "text/plain": [
       "10"
      ]
     },
     "metadata": {},
     "output_type": "display_data"
    }
   ],
   "source": [
    "from IPython.display import display\n",
    "\n",
    "import conf\n",
    "\n",
    "N_JOBS = conf.GENERAL[\"N_JOBS\"]\n",
    "display(N_JOBS)"
   ]
  },
  {
   "cell_type": "code",
   "execution_count": 2,
   "id": "230599ea",
   "metadata": {
    "execution": {
     "iopub.execute_input": "2022-11-26T11:22:44.447639Z",
     "iopub.status.busy": "2022-11-26T11:22:44.447339Z",
     "iopub.status.idle": "2022-11-26T11:22:44.453528Z",
     "shell.execute_reply": "2022-11-26T11:22:44.452999Z"
    },
    "papermill": {
     "duration": 0.014514,
     "end_time": "2022-11-26T11:22:44.454423",
     "exception": false,
     "start_time": "2022-11-26T11:22:44.439909",
     "status": "completed"
    },
    "tags": []
   },
   "outputs": [
    {
     "name": "stdout",
     "output_type": "stream",
     "text": [
      "env: MKL_NUM_THREADS=10\n",
      "env: OPEN_BLAS_NUM_THREADS=10\n",
      "env: NUMEXPR_NUM_THREADS=10\n",
      "env: OMP_NUM_THREADS=10\n"
     ]
    }
   ],
   "source": [
    "%env MKL_NUM_THREADS=$N_JOBS\n",
    "%env OPEN_BLAS_NUM_THREADS=$N_JOBS\n",
    "%env NUMEXPR_NUM_THREADS=$N_JOBS\n",
    "%env OMP_NUM_THREADS=$N_JOBS"
   ]
  },
  {
   "cell_type": "markdown",
   "id": "9d4fafc8",
   "metadata": {
    "papermill": {
     "duration": 0.006464,
     "end_time": "2022-11-26T11:22:44.467533",
     "exception": false,
     "start_time": "2022-11-26T11:22:44.461069",
     "status": "completed"
    },
    "tags": []
   },
   "source": [
    "# Modules loading"
   ]
  },
  {
   "cell_type": "code",
   "execution_count": 3,
   "id": "0defdc9a",
   "metadata": {
    "execution": {
     "iopub.execute_input": "2022-11-26T11:22:44.481680Z",
     "iopub.status.busy": "2022-11-26T11:22:44.481262Z",
     "iopub.status.idle": "2022-11-26T11:22:44.495020Z",
     "shell.execute_reply": "2022-11-26T11:22:44.494465Z"
    },
    "papermill": {
     "duration": 0.021775,
     "end_time": "2022-11-26T11:22:44.495912",
     "exception": false,
     "start_time": "2022-11-26T11:22:44.474137",
     "status": "completed"
    },
    "tags": []
   },
   "outputs": [],
   "source": [
    "%load_ext autoreload\n",
    "%autoreload 2"
   ]
  },
  {
   "cell_type": "code",
   "execution_count": 4,
   "id": "874bedc6",
   "metadata": {
    "execution": {
     "iopub.execute_input": "2022-11-26T11:22:44.510187Z",
     "iopub.status.busy": "2022-11-26T11:22:44.509839Z",
     "iopub.status.idle": "2022-11-26T11:22:44.996427Z",
     "shell.execute_reply": "2022-11-26T11:22:44.995985Z"
    },
    "papermill": {
     "duration": 0.495402,
     "end_time": "2022-11-26T11:22:44.998172",
     "exception": false,
     "start_time": "2022-11-26T11:22:44.502770",
     "status": "completed"
    },
    "tags": []
   },
   "outputs": [],
   "source": [
    "from pathlib import Path\n",
    "\n",
    "import numpy as np\n",
    "import pandas as pd\n",
    "import matplotlib.pyplot as plt\n",
    "import seaborn as sns\n",
    "\n",
    "from utils import generate_result_set_name"
   ]
  },
  {
   "cell_type": "markdown",
   "id": "7e55a15d",
   "metadata": {
    "papermill": {
     "duration": 0.013074,
     "end_time": "2022-11-26T11:22:45.024576",
     "exception": false,
     "start_time": "2022-11-26T11:22:45.011502",
     "status": "completed"
    },
    "tags": []
   },
   "source": [
    "# Settings"
   ]
  },
  {
   "cell_type": "code",
   "execution_count": 5,
   "id": "dcde6250",
   "metadata": {
    "execution": {
     "iopub.execute_input": "2022-11-26T11:22:45.051265Z",
     "iopub.status.busy": "2022-11-26T11:22:45.050952Z",
     "iopub.status.idle": "2022-11-26T11:22:45.062471Z",
     "shell.execute_reply": "2022-11-26T11:22:45.062102Z"
    },
    "papermill": {
     "duration": 0.026204,
     "end_time": "2022-11-26T11:22:45.063730",
     "exception": false,
     "start_time": "2022-11-26T11:22:45.037526",
     "status": "completed"
    },
    "tags": []
   },
   "outputs": [],
   "source": [
    "np.random.seed(0)"
   ]
  },
  {
   "cell_type": "code",
   "execution_count": 6,
   "id": "b9a4c975",
   "metadata": {
    "execution": {
     "iopub.execute_input": "2022-11-26T11:22:45.113937Z",
     "iopub.status.busy": "2022-11-26T11:22:45.113606Z",
     "iopub.status.idle": "2022-11-26T11:22:45.134504Z",
     "shell.execute_reply": "2022-11-26T11:22:45.133991Z"
    },
    "papermill": {
     "duration": 0.030944,
     "end_time": "2022-11-26T11:22:45.135363",
     "exception": false,
     "start_time": "2022-11-26T11:22:45.104419",
     "status": "completed"
    },
    "tags": []
   },
   "outputs": [],
   "source": [
    "INITIAL_RANDOM_STATE = 70000"
   ]
  },
  {
   "cell_type": "code",
   "execution_count": 7,
   "id": "49ab9577-7663-4edb-ac8e-21a71c382364",
   "metadata": {
    "execution": {
     "iopub.execute_input": "2022-11-26T11:22:45.149479Z",
     "iopub.status.busy": "2022-11-26T11:22:45.149115Z",
     "iopub.status.idle": "2022-11-26T11:22:45.168114Z",
     "shell.execute_reply": "2022-11-26T11:22:45.167629Z"
    },
    "papermill": {
     "duration": 0.027071,
     "end_time": "2022-11-26T11:22:45.169072",
     "exception": false,
     "start_time": "2022-11-26T11:22:45.142001",
     "status": "completed"
    },
    "tags": []
   },
   "outputs": [],
   "source": [
    "NULL_DIR = conf.RESULTS[\"CLUSTERING_NULL_DIR\"] / \"shuffle_lvs\""
   ]
  },
  {
   "cell_type": "markdown",
   "id": "86453c74",
   "metadata": {
    "papermill": {
     "duration": 0.006435,
     "end_time": "2022-11-26T11:22:45.182389",
     "exception": false,
     "start_time": "2022-11-26T11:22:45.175954",
     "status": "completed"
    },
    "tags": []
   },
   "source": [
    "## Input data"
   ]
  },
  {
   "cell_type": "code",
   "execution_count": 8,
   "id": "b36e2cd6",
   "metadata": {
    "execution": {
     "iopub.execute_input": "2022-11-26T11:22:45.196465Z",
     "iopub.status.busy": "2022-11-26T11:22:45.196008Z",
     "iopub.status.idle": "2022-11-26T11:22:45.215095Z",
     "shell.execute_reply": "2022-11-26T11:22:45.214562Z"
    },
    "papermill": {
     "duration": 0.027115,
     "end_time": "2022-11-26T11:22:45.216032",
     "exception": false,
     "start_time": "2022-11-26T11:22:45.188917",
     "status": "completed"
    },
    "tags": []
   },
   "outputs": [],
   "source": [
    "INPUT_SUBSET = \"pca\""
   ]
  },
  {
   "cell_type": "code",
   "execution_count": 9,
   "id": "f627e8d7",
   "metadata": {
    "execution": {
     "iopub.execute_input": "2022-11-26T11:22:45.230310Z",
     "iopub.status.busy": "2022-11-26T11:22:45.229971Z",
     "iopub.status.idle": "2022-11-26T11:22:45.248744Z",
     "shell.execute_reply": "2022-11-26T11:22:45.248207Z"
    },
    "papermill": {
     "duration": 0.026704,
     "end_time": "2022-11-26T11:22:45.249578",
     "exception": false,
     "start_time": "2022-11-26T11:22:45.222874",
     "status": "completed"
    },
    "tags": []
   },
   "outputs": [],
   "source": [
    "INPUT_STEM = \"z_score_std-projection-smultixcan-efo_partial-mashr-zscores\""
   ]
  },
  {
   "cell_type": "code",
   "execution_count": 10,
   "id": "71f9d5c4",
   "metadata": {
    "execution": {
     "iopub.execute_input": "2022-11-26T11:22:45.263774Z",
     "iopub.status.busy": "2022-11-26T11:22:45.263468Z",
     "iopub.status.idle": "2022-11-26T11:22:45.282497Z",
     "shell.execute_reply": "2022-11-26T11:22:45.281999Z"
    },
    "papermill": {
     "duration": 0.027203,
     "end_time": "2022-11-26T11:22:45.283356",
     "exception": false,
     "start_time": "2022-11-26T11:22:45.256153",
     "status": "completed"
    },
    "tags": []
   },
   "outputs": [],
   "source": [
    "DR_OPTIONS = {\n",
    "    \"n_components\": 50,\n",
    "    \"svd_solver\": \"full\",\n",
    "    \"random_state\": 0,\n",
    "}"
   ]
  },
  {
   "cell_type": "code",
   "execution_count": 11,
   "id": "e7d97f47",
   "metadata": {
    "execution": {
     "iopub.execute_input": "2022-11-26T11:22:45.297360Z",
     "iopub.status.busy": "2022-11-26T11:22:45.297057Z",
     "iopub.status.idle": "2022-11-26T11:22:45.318872Z",
     "shell.execute_reply": "2022-11-26T11:22:45.318428Z"
    },
    "papermill": {
     "duration": 0.030201,
     "end_time": "2022-11-26T11:22:45.320176",
     "exception": false,
     "start_time": "2022-11-26T11:22:45.289975",
     "status": "completed"
    },
    "tags": []
   },
   "outputs": [
    {
     "data": {
      "text/plain": [
       "PosixPath('/opt/data/results/clustering/null_sims/shuffle_lvs/data_transformations/pca/pca-z_score_std-projection-smultixcan-efo_partial-mashr-zscores-n_components_50-random_state_0-svd_solver_full.pkl')"
      ]
     },
     "metadata": {},
     "output_type": "display_data"
    },
    {
     "data": {
      "text/plain": [
       "'pca-z_score_std-projection-smultixcan-efo_partial-mashr-zscores-n_components_50-random_state_0-svd_solver_full'"
      ]
     },
     "metadata": {},
     "output_type": "display_data"
    }
   ],
   "source": [
    "input_filepath = Path(\n",
    "    NULL_DIR,\n",
    "    \"data_transformations\",\n",
    "    INPUT_SUBSET,\n",
    "    generate_result_set_name(\n",
    "        DR_OPTIONS, prefix=f\"{INPUT_SUBSET}-{INPUT_STEM}-\", suffix=\".pkl\"\n",
    "    ),\n",
    ").resolve()\n",
    "display(input_filepath)\n",
    "\n",
    "assert input_filepath.exists(), \"Input file does not exist\"\n",
    "\n",
    "input_filepath_stem = input_filepath.stem\n",
    "display(input_filepath_stem)"
   ]
  },
  {
   "cell_type": "markdown",
   "id": "6d056751",
   "metadata": {
    "papermill": {
     "duration": 0.013073,
     "end_time": "2022-11-26T11:22:45.346480",
     "exception": false,
     "start_time": "2022-11-26T11:22:45.333407",
     "status": "completed"
    },
    "tags": []
   },
   "source": [
    "## Clustering"
   ]
  },
  {
   "cell_type": "code",
   "execution_count": 12,
   "id": "9f3b411c",
   "metadata": {
    "execution": {
     "iopub.execute_input": "2022-11-26T11:22:45.373682Z",
     "iopub.status.busy": "2022-11-26T11:22:45.373375Z",
     "iopub.status.idle": "2022-11-26T11:22:45.466627Z",
     "shell.execute_reply": "2022-11-26T11:22:45.466226Z"
    },
    "papermill": {
     "duration": 0.108342,
     "end_time": "2022-11-26T11:22:45.467970",
     "exception": false,
     "start_time": "2022-11-26T11:22:45.359628",
     "status": "completed"
    },
    "tags": []
   },
   "outputs": [],
   "source": [
    "from sklearn.mixture import GaussianMixture"
   ]
  },
  {
   "cell_type": "code",
   "execution_count": 13,
   "id": "16040ea9",
   "metadata": {
    "execution": {
     "iopub.execute_input": "2022-11-26T11:22:45.495594Z",
     "iopub.status.busy": "2022-11-26T11:22:45.495471Z",
     "iopub.status.idle": "2022-11-26T11:22:45.508084Z",
     "shell.execute_reply": "2022-11-26T11:22:45.507709Z"
    },
    "papermill": {
     "duration": 0.027496,
     "end_time": "2022-11-26T11:22:45.509337",
     "exception": false,
     "start_time": "2022-11-26T11:22:45.481841",
     "status": "completed"
    },
    "tags": []
   },
   "outputs": [],
   "source": [
    "CLUSTERING_ATTRIBUTES_TO_SAVE = [\"n_clusters\"]"
   ]
  },
  {
   "cell_type": "code",
   "execution_count": 14,
   "id": "732613f7",
   "metadata": {
    "execution": {
     "iopub.execute_input": "2022-11-26T11:22:45.536916Z",
     "iopub.status.busy": "2022-11-26T11:22:45.536699Z",
     "iopub.status.idle": "2022-11-26T11:22:45.550298Z",
     "shell.execute_reply": "2022-11-26T11:22:45.549948Z"
    },
    "papermill": {
     "duration": 0.028895,
     "end_time": "2022-11-26T11:22:45.551570",
     "exception": false,
     "start_time": "2022-11-26T11:22:45.522675",
     "status": "completed"
    },
    "tags": []
   },
   "outputs": [
    {
     "data": {
      "text/plain": [
       "{'K_MIN': 2,\n",
       " 'K_MAX': 60,\n",
       " 'N_REPS_PER_K': 5,\n",
       " 'N_INIT': 10,\n",
       " 'COVARIANCE_TYPE': 'full'}"
      ]
     },
     "metadata": {},
     "output_type": "display_data"
    }
   ],
   "source": [
    "CLUSTERING_OPTIONS = {}\n",
    "\n",
    "CLUSTERING_OPTIONS[\"K_MIN\"] = 2\n",
    "CLUSTERING_OPTIONS[\"K_MAX\"] = 60  # sqrt(3749)\n",
    "CLUSTERING_OPTIONS[\"N_REPS_PER_K\"] = 5\n",
    "CLUSTERING_OPTIONS[\"N_INIT\"] = 10\n",
    "CLUSTERING_OPTIONS[\"COVARIANCE_TYPE\"] = \"full\"\n",
    "\n",
    "display(CLUSTERING_OPTIONS)"
   ]
  },
  {
   "cell_type": "code",
   "execution_count": 15,
   "id": "4b4841c6",
   "metadata": {
    "execution": {
     "iopub.execute_input": "2022-11-26T11:22:45.579011Z",
     "iopub.status.busy": "2022-11-26T11:22:45.578756Z",
     "iopub.status.idle": "2022-11-26T11:22:45.597813Z",
     "shell.execute_reply": "2022-11-26T11:22:45.597417Z"
    },
    "papermill": {
     "duration": 0.034142,
     "end_time": "2022-11-26T11:22:45.599097",
     "exception": false,
     "start_time": "2022-11-26T11:22:45.564955",
     "status": "completed"
    },
    "tags": []
   },
   "outputs": [],
   "source": [
    "CLUSTERERS = {}\n",
    "\n",
    "idx = 0\n",
    "random_state = INITIAL_RANDOM_STATE\n",
    "\n",
    "for k in range(CLUSTERING_OPTIONS[\"K_MIN\"], CLUSTERING_OPTIONS[\"K_MAX\"] + 1):\n",
    "    for i in range(CLUSTERING_OPTIONS[\"N_REPS_PER_K\"]):\n",
    "        clus = GaussianMixture(\n",
    "            n_components=k,\n",
    "            n_init=CLUSTERING_OPTIONS[\"N_INIT\"],\n",
    "            covariance_type=CLUSTERING_OPTIONS[\"COVARIANCE_TYPE\"],\n",
    "            random_state=random_state,\n",
    "        )\n",
    "\n",
    "        method_name = type(clus).__name__\n",
    "        CLUSTERERS[f\"{method_name} #{idx}\"] = clus\n",
    "\n",
    "        random_state = random_state + 1\n",
    "        idx = idx + 1"
   ]
  },
  {
   "cell_type": "code",
   "execution_count": 16,
   "id": "1d67f921",
   "metadata": {
    "execution": {
     "iopub.execute_input": "2022-11-26T11:22:45.626890Z",
     "iopub.status.busy": "2022-11-26T11:22:45.626627Z",
     "iopub.status.idle": "2022-11-26T11:22:45.643708Z",
     "shell.execute_reply": "2022-11-26T11:22:45.643302Z"
    },
    "papermill": {
     "duration": 0.032138,
     "end_time": "2022-11-26T11:22:45.645030",
     "exception": false,
     "start_time": "2022-11-26T11:22:45.612892",
     "status": "completed"
    },
    "tags": []
   },
   "outputs": [
    {
     "data": {
      "text/plain": [
       "295"
      ]
     },
     "metadata": {},
     "output_type": "display_data"
    }
   ],
   "source": [
    "display(len(CLUSTERERS))"
   ]
  },
  {
   "cell_type": "code",
   "execution_count": 17,
   "id": "4ac61a40",
   "metadata": {
    "execution": {
     "iopub.execute_input": "2022-11-26T11:22:45.673139Z",
     "iopub.status.busy": "2022-11-26T11:22:45.672674Z",
     "iopub.status.idle": "2022-11-26T11:22:45.696688Z",
     "shell.execute_reply": "2022-11-26T11:22:45.696226Z"
    },
    "papermill": {
     "duration": 0.039487,
     "end_time": "2022-11-26T11:22:45.698032",
     "exception": false,
     "start_time": "2022-11-26T11:22:45.658545",
     "status": "completed"
    },
    "tags": []
   },
   "outputs": [
    {
     "data": {
      "text/plain": [
       "('GaussianMixture #0',\n",
       " GaussianMixture(n_components=2, n_init=10, random_state=70000))"
      ]
     },
     "metadata": {},
     "output_type": "display_data"
    },
    {
     "data": {
      "text/plain": [
       "('GaussianMixture #1',\n",
       " GaussianMixture(n_components=2, n_init=10, random_state=70001))"
      ]
     },
     "metadata": {},
     "output_type": "display_data"
    }
   ],
   "source": [
    "_iter = iter(CLUSTERERS.items())\n",
    "display(next(_iter))\n",
    "display(next(_iter))"
   ]
  },
  {
   "cell_type": "code",
   "execution_count": 18,
   "id": "3acd2bae",
   "metadata": {
    "execution": {
     "iopub.execute_input": "2022-11-26T11:22:45.726434Z",
     "iopub.status.busy": "2022-11-26T11:22:45.726018Z",
     "iopub.status.idle": "2022-11-26T11:22:45.747336Z",
     "shell.execute_reply": "2022-11-26T11:22:45.746882Z"
    },
    "papermill": {
     "duration": 0.036943,
     "end_time": "2022-11-26T11:22:45.748706",
     "exception": false,
     "start_time": "2022-11-26T11:22:45.711763",
     "status": "completed"
    },
    "tags": []
   },
   "outputs": [
    {
     "data": {
      "text/plain": [
       "'GaussianMixture'"
      ]
     },
     "metadata": {},
     "output_type": "display_data"
    }
   ],
   "source": [
    "clustering_method_name = method_name\n",
    "display(clustering_method_name)"
   ]
  },
  {
   "cell_type": "markdown",
   "id": "7b96c7d8",
   "metadata": {
    "papermill": {
     "duration": 0.01398,
     "end_time": "2022-11-26T11:22:45.776436",
     "exception": false,
     "start_time": "2022-11-26T11:22:45.762456",
     "status": "completed"
    },
    "tags": []
   },
   "source": [
    "## Output directory"
   ]
  },
  {
   "cell_type": "code",
   "execution_count": 19,
   "id": "24de8828",
   "metadata": {
    "execution": {
     "iopub.execute_input": "2022-11-26T11:22:45.802800Z",
     "iopub.status.busy": "2022-11-26T11:22:45.802516Z",
     "iopub.status.idle": "2022-11-26T11:22:45.824951Z",
     "shell.execute_reply": "2022-11-26T11:22:45.824499Z"
    },
    "papermill": {
     "duration": 0.035637,
     "end_time": "2022-11-26T11:22:45.825797",
     "exception": false,
     "start_time": "2022-11-26T11:22:45.790160",
     "status": "completed"
    },
    "tags": []
   },
   "outputs": [
    {
     "data": {
      "text/plain": [
       "PosixPath('/opt/data/results/clustering/null_sims/shuffle_lvs/runs/pca-z_score_std-projection-smultixcan-efo_partial-mashr-zscores')"
      ]
     },
     "metadata": {},
     "output_type": "display_data"
    }
   ],
   "source": [
    "# output dir for this notebook\n",
    "RESULTS_DIR = Path(\n",
    "    NULL_DIR,\n",
    "    \"runs\",\n",
    "    f\"{INPUT_SUBSET}-{INPUT_STEM}\",\n",
    ").resolve()\n",
    "RESULTS_DIR.mkdir(parents=True, exist_ok=True)\n",
    "\n",
    "display(RESULTS_DIR)"
   ]
  },
  {
   "cell_type": "markdown",
   "id": "fc3f0623",
   "metadata": {
    "papermill": {
     "duration": 0.006865,
     "end_time": "2022-11-26T11:22:45.839972",
     "exception": false,
     "start_time": "2022-11-26T11:22:45.833107",
     "status": "completed"
    },
    "tags": []
   },
   "source": [
    "# Load input file"
   ]
  },
  {
   "cell_type": "code",
   "execution_count": 20,
   "id": "9d258f97",
   "metadata": {
    "execution": {
     "iopub.execute_input": "2022-11-26T11:22:45.854996Z",
     "iopub.status.busy": "2022-11-26T11:22:45.854672Z",
     "iopub.status.idle": "2022-11-26T11:22:45.878158Z",
     "shell.execute_reply": "2022-11-26T11:22:45.877659Z"
    },
    "papermill": {
     "duration": 0.032205,
     "end_time": "2022-11-26T11:22:45.879130",
     "exception": false,
     "start_time": "2022-11-26T11:22:45.846925",
     "status": "completed"
    },
    "tags": []
   },
   "outputs": [],
   "source": [
    "data = pd.read_pickle(input_filepath)"
   ]
  },
  {
   "cell_type": "code",
   "execution_count": 21,
   "id": "5e5e644c",
   "metadata": {
    "execution": {
     "iopub.execute_input": "2022-11-26T11:22:45.894094Z",
     "iopub.status.busy": "2022-11-26T11:22:45.893779Z",
     "iopub.status.idle": "2022-11-26T11:22:45.915460Z",
     "shell.execute_reply": "2022-11-26T11:22:45.915013Z"
    },
    "papermill": {
     "duration": 0.030073,
     "end_time": "2022-11-26T11:22:45.916312",
     "exception": false,
     "start_time": "2022-11-26T11:22:45.886239",
     "status": "completed"
    },
    "tags": []
   },
   "outputs": [
    {
     "data": {
      "text/plain": [
       "(3752, 50)"
      ]
     },
     "execution_count": 21,
     "metadata": {},
     "output_type": "execute_result"
    }
   ],
   "source": [
    "data.shape"
   ]
  },
  {
   "cell_type": "code",
   "execution_count": 22,
   "id": "b355fa2a",
   "metadata": {
    "execution": {
     "iopub.execute_input": "2022-11-26T11:22:45.931636Z",
     "iopub.status.busy": "2022-11-26T11:22:45.931353Z",
     "iopub.status.idle": "2022-11-26T11:22:45.969953Z",
     "shell.execute_reply": "2022-11-26T11:22:45.969477Z"
    },
    "papermill": {
     "duration": 0.047251,
     "end_time": "2022-11-26T11:22:45.971060",
     "exception": false,
     "start_time": "2022-11-26T11:22:45.923809",
     "status": "completed"
    },
    "tags": []
   },
   "outputs": [
    {
     "data": {
      "text/html": [
       "<div>\n",
       "<style scoped>\n",
       "    .dataframe tbody tr th:only-of-type {\n",
       "        vertical-align: middle;\n",
       "    }\n",
       "\n",
       "    .dataframe tbody tr th {\n",
       "        vertical-align: top;\n",
       "    }\n",
       "\n",
       "    .dataframe thead th {\n",
       "        text-align: right;\n",
       "    }\n",
       "</style>\n",
       "<table border=\"1\" class=\"dataframe\">\n",
       "  <thead>\n",
       "    <tr style=\"text-align: right;\">\n",
       "      <th></th>\n",
       "      <th>PCA1</th>\n",
       "      <th>PCA2</th>\n",
       "      <th>PCA3</th>\n",
       "      <th>PCA4</th>\n",
       "      <th>PCA5</th>\n",
       "      <th>PCA6</th>\n",
       "      <th>PCA7</th>\n",
       "      <th>PCA8</th>\n",
       "      <th>PCA9</th>\n",
       "      <th>PCA10</th>\n",
       "      <th>...</th>\n",
       "      <th>PCA41</th>\n",
       "      <th>PCA42</th>\n",
       "      <th>PCA43</th>\n",
       "      <th>PCA44</th>\n",
       "      <th>PCA45</th>\n",
       "      <th>PCA46</th>\n",
       "      <th>PCA47</th>\n",
       "      <th>PCA48</th>\n",
       "      <th>PCA49</th>\n",
       "      <th>PCA50</th>\n",
       "    </tr>\n",
       "  </thead>\n",
       "  <tbody>\n",
       "    <tr>\n",
       "      <th>100001_raw-Food_weight</th>\n",
       "      <td>0.373237</td>\n",
       "      <td>-0.155188</td>\n",
       "      <td>-1.554390</td>\n",
       "      <td>-0.103733</td>\n",
       "      <td>-1.807074</td>\n",
       "      <td>-0.957108</td>\n",
       "      <td>0.330335</td>\n",
       "      <td>0.638391</td>\n",
       "      <td>0.905023</td>\n",
       "      <td>-0.704551</td>\n",
       "      <td>...</td>\n",
       "      <td>0.161732</td>\n",
       "      <td>0.488682</td>\n",
       "      <td>0.761158</td>\n",
       "      <td>0.667089</td>\n",
       "      <td>-0.078934</td>\n",
       "      <td>0.840971</td>\n",
       "      <td>-0.622958</td>\n",
       "      <td>1.075964</td>\n",
       "      <td>3.244039</td>\n",
       "      <td>-0.933407</td>\n",
       "    </tr>\n",
       "    <tr>\n",
       "      <th>100002_raw-Energy</th>\n",
       "      <td>1.384398</td>\n",
       "      <td>0.511267</td>\n",
       "      <td>-0.273603</td>\n",
       "      <td>-0.074591</td>\n",
       "      <td>-1.151167</td>\n",
       "      <td>-0.069438</td>\n",
       "      <td>1.242634</td>\n",
       "      <td>-0.439543</td>\n",
       "      <td>0.650348</td>\n",
       "      <td>2.456117</td>\n",
       "      <td>...</td>\n",
       "      <td>0.051967</td>\n",
       "      <td>0.993820</td>\n",
       "      <td>-0.166350</td>\n",
       "      <td>1.497041</td>\n",
       "      <td>-0.875754</td>\n",
       "      <td>2.632726</td>\n",
       "      <td>0.613299</td>\n",
       "      <td>0.041232</td>\n",
       "      <td>4.032974</td>\n",
       "      <td>-0.230092</td>\n",
       "    </tr>\n",
       "    <tr>\n",
       "      <th>100003_raw-Protein</th>\n",
       "      <td>-1.247583</td>\n",
       "      <td>2.905641</td>\n",
       "      <td>-1.524196</td>\n",
       "      <td>0.683773</td>\n",
       "      <td>0.766860</td>\n",
       "      <td>-2.478057</td>\n",
       "      <td>-0.201110</td>\n",
       "      <td>1.045590</td>\n",
       "      <td>-0.844712</td>\n",
       "      <td>2.426349</td>\n",
       "      <td>...</td>\n",
       "      <td>0.027646</td>\n",
       "      <td>-1.903636</td>\n",
       "      <td>-0.819195</td>\n",
       "      <td>0.616887</td>\n",
       "      <td>-0.647462</td>\n",
       "      <td>0.170956</td>\n",
       "      <td>2.106036</td>\n",
       "      <td>-2.186258</td>\n",
       "      <td>0.485333</td>\n",
       "      <td>-1.136366</td>\n",
       "    </tr>\n",
       "    <tr>\n",
       "      <th>100004_raw-Fat</th>\n",
       "      <td>-0.695167</td>\n",
       "      <td>0.046286</td>\n",
       "      <td>0.730428</td>\n",
       "      <td>0.240547</td>\n",
       "      <td>1.621534</td>\n",
       "      <td>-1.335187</td>\n",
       "      <td>-1.510894</td>\n",
       "      <td>1.790966</td>\n",
       "      <td>-0.682884</td>\n",
       "      <td>-1.572835</td>\n",
       "      <td>...</td>\n",
       "      <td>-2.997557</td>\n",
       "      <td>-0.489466</td>\n",
       "      <td>0.442809</td>\n",
       "      <td>1.217098</td>\n",
       "      <td>-1.604667</td>\n",
       "      <td>-0.776865</td>\n",
       "      <td>-0.983076</td>\n",
       "      <td>0.080423</td>\n",
       "      <td>2.476131</td>\n",
       "      <td>0.431179</td>\n",
       "    </tr>\n",
       "    <tr>\n",
       "      <th>100005_raw-Carbohydrate</th>\n",
       "      <td>0.770055</td>\n",
       "      <td>-0.499034</td>\n",
       "      <td>0.053157</td>\n",
       "      <td>0.479019</td>\n",
       "      <td>2.048336</td>\n",
       "      <td>0.984552</td>\n",
       "      <td>-0.090767</td>\n",
       "      <td>0.053451</td>\n",
       "      <td>-0.614035</td>\n",
       "      <td>1.304292</td>\n",
       "      <td>...</td>\n",
       "      <td>-0.280231</td>\n",
       "      <td>-0.892308</td>\n",
       "      <td>-0.522105</td>\n",
       "      <td>-0.358232</td>\n",
       "      <td>1.690968</td>\n",
       "      <td>0.049799</td>\n",
       "      <td>-0.633466</td>\n",
       "      <td>-0.812035</td>\n",
       "      <td>0.901284</td>\n",
       "      <td>2.461845</td>\n",
       "    </tr>\n",
       "  </tbody>\n",
       "</table>\n",
       "<p>5 rows × 50 columns</p>\n",
       "</div>"
      ],
      "text/plain": [
       "                             PCA1      PCA2      PCA3      PCA4      PCA5  \\\n",
       "100001_raw-Food_weight   0.373237 -0.155188 -1.554390 -0.103733 -1.807074   \n",
       "100002_raw-Energy        1.384398  0.511267 -0.273603 -0.074591 -1.151167   \n",
       "100003_raw-Protein      -1.247583  2.905641 -1.524196  0.683773  0.766860   \n",
       "100004_raw-Fat          -0.695167  0.046286  0.730428  0.240547  1.621534   \n",
       "100005_raw-Carbohydrate  0.770055 -0.499034  0.053157  0.479019  2.048336   \n",
       "\n",
       "                             PCA6      PCA7      PCA8      PCA9     PCA10  \\\n",
       "100001_raw-Food_weight  -0.957108  0.330335  0.638391  0.905023 -0.704551   \n",
       "100002_raw-Energy       -0.069438  1.242634 -0.439543  0.650348  2.456117   \n",
       "100003_raw-Protein      -2.478057 -0.201110  1.045590 -0.844712  2.426349   \n",
       "100004_raw-Fat          -1.335187 -1.510894  1.790966 -0.682884 -1.572835   \n",
       "100005_raw-Carbohydrate  0.984552 -0.090767  0.053451 -0.614035  1.304292   \n",
       "\n",
       "                         ...     PCA41     PCA42     PCA43     PCA44  \\\n",
       "100001_raw-Food_weight   ...  0.161732  0.488682  0.761158  0.667089   \n",
       "100002_raw-Energy        ...  0.051967  0.993820 -0.166350  1.497041   \n",
       "100003_raw-Protein       ...  0.027646 -1.903636 -0.819195  0.616887   \n",
       "100004_raw-Fat           ... -2.997557 -0.489466  0.442809  1.217098   \n",
       "100005_raw-Carbohydrate  ... -0.280231 -0.892308 -0.522105 -0.358232   \n",
       "\n",
       "                            PCA45     PCA46     PCA47     PCA48     PCA49  \\\n",
       "100001_raw-Food_weight  -0.078934  0.840971 -0.622958  1.075964  3.244039   \n",
       "100002_raw-Energy       -0.875754  2.632726  0.613299  0.041232  4.032974   \n",
       "100003_raw-Protein      -0.647462  0.170956  2.106036 -2.186258  0.485333   \n",
       "100004_raw-Fat          -1.604667 -0.776865 -0.983076  0.080423  2.476131   \n",
       "100005_raw-Carbohydrate  1.690968  0.049799 -0.633466 -0.812035  0.901284   \n",
       "\n",
       "                            PCA50  \n",
       "100001_raw-Food_weight  -0.933407  \n",
       "100002_raw-Energy       -0.230092  \n",
       "100003_raw-Protein      -1.136366  \n",
       "100004_raw-Fat           0.431179  \n",
       "100005_raw-Carbohydrate  2.461845  \n",
       "\n",
       "[5 rows x 50 columns]"
      ]
     },
     "execution_count": 22,
     "metadata": {},
     "output_type": "execute_result"
    }
   ],
   "source": [
    "data.head()"
   ]
  },
  {
   "cell_type": "code",
   "execution_count": 23,
   "id": "72122128",
   "metadata": {
    "execution": {
     "iopub.execute_input": "2022-11-26T11:22:45.993883Z",
     "iopub.status.busy": "2022-11-26T11:22:45.993570Z",
     "iopub.status.idle": "2022-11-26T11:22:46.015442Z",
     "shell.execute_reply": "2022-11-26T11:22:46.014944Z"
    },
    "papermill": {
     "duration": 0.034603,
     "end_time": "2022-11-26T11:22:46.016494",
     "exception": false,
     "start_time": "2022-11-26T11:22:45.981891",
     "status": "completed"
    },
    "tags": []
   },
   "outputs": [],
   "source": [
    "assert not data.isna().any().any()"
   ]
  },
  {
   "cell_type": "markdown",
   "id": "6074de1a",
   "metadata": {
    "papermill": {
     "duration": 0.010499,
     "end_time": "2022-11-26T11:22:46.037845",
     "exception": false,
     "start_time": "2022-11-26T11:22:46.027346",
     "status": "completed"
    },
    "tags": []
   },
   "source": [
    "# Clustering"
   ]
  },
  {
   "cell_type": "markdown",
   "id": "93e56d7a",
   "metadata": {
    "papermill": {
     "duration": 0.010561,
     "end_time": "2022-11-26T11:22:46.059331",
     "exception": false,
     "start_time": "2022-11-26T11:22:46.048770",
     "status": "completed"
    },
    "tags": []
   },
   "source": [
    "## Generate ensemble"
   ]
  },
  {
   "cell_type": "code",
   "execution_count": 24,
   "id": "5892be46",
   "metadata": {
    "execution": {
     "iopub.execute_input": "2022-11-26T11:22:46.080421Z",
     "iopub.status.busy": "2022-11-26T11:22:46.080117Z",
     "iopub.status.idle": "2022-11-26T11:22:46.106136Z",
     "shell.execute_reply": "2022-11-26T11:22:46.105638Z"
    },
    "papermill": {
     "duration": 0.037093,
     "end_time": "2022-11-26T11:22:46.107034",
     "exception": false,
     "start_time": "2022-11-26T11:22:46.069941",
     "status": "completed"
    },
    "tags": []
   },
   "outputs": [],
   "source": [
    "from clustering.ensembles.utils import generate_ensemble"
   ]
  },
  {
   "cell_type": "code",
   "execution_count": 25,
   "id": "a8a71405",
   "metadata": {
    "execution": {
     "iopub.execute_input": "2022-11-26T11:22:46.122492Z",
     "iopub.status.busy": "2022-11-26T11:22:46.122133Z",
     "iopub.status.idle": "2022-11-26T13:36:32.647200Z",
     "shell.execute_reply": "2022-11-26T13:36:32.646832Z"
    },
    "papermill": {
     "duration": 8026.549944,
     "end_time": "2022-11-26T13:36:32.664274",
     "exception": false,
     "start_time": "2022-11-26T11:22:46.114330",
     "status": "completed"
    },
    "tags": []
   },
   "outputs": [
    {
     "name": "stderr",
     "output_type": "stream",
     "text": [
      "100%|██████████| 295/295 [2:13:46<00:00, 27.21s/it]\n"
     ]
    }
   ],
   "source": [
    "ensemble = generate_ensemble(\n",
    "    data,\n",
    "    CLUSTERERS,\n",
    "    attributes=CLUSTERING_ATTRIBUTES_TO_SAVE,\n",
    ")"
   ]
  },
  {
   "cell_type": "code",
   "execution_count": 26,
   "id": "be9752e4",
   "metadata": {
    "execution": {
     "iopub.execute_input": "2022-11-26T13:36:32.720404Z",
     "iopub.status.busy": "2022-11-26T13:36:32.720277Z",
     "iopub.status.idle": "2022-11-26T13:36:32.733060Z",
     "shell.execute_reply": "2022-11-26T13:36:32.732793Z"
    },
    "papermill": {
     "duration": 0.039709,
     "end_time": "2022-11-26T13:36:32.733792",
     "exception": false,
     "start_time": "2022-11-26T13:36:32.694083",
     "status": "completed"
    },
    "tags": []
   },
   "outputs": [
    {
     "data": {
      "text/plain": [
       "(295, 3)"
      ]
     },
     "execution_count": 26,
     "metadata": {},
     "output_type": "execute_result"
    }
   ],
   "source": [
    "# the number should be close to 295 (the number of partitions generated by k-means/spectral clustering)\n",
    "ensemble.shape"
   ]
  },
  {
   "cell_type": "code",
   "execution_count": 27,
   "id": "9d117766",
   "metadata": {
    "execution": {
     "iopub.execute_input": "2022-11-26T13:36:32.764828Z",
     "iopub.status.busy": "2022-11-26T13:36:32.764667Z",
     "iopub.status.idle": "2022-11-26T13:36:32.795416Z",
     "shell.execute_reply": "2022-11-26T13:36:32.795027Z"
    },
    "papermill": {
     "duration": 0.047267,
     "end_time": "2022-11-26T13:36:32.796231",
     "exception": false,
     "start_time": "2022-11-26T13:36:32.748964",
     "status": "completed"
    },
    "tags": []
   },
   "outputs": [
    {
     "data": {
      "text/html": [
       "<div>\n",
       "<style scoped>\n",
       "    .dataframe tbody tr th:only-of-type {\n",
       "        vertical-align: middle;\n",
       "    }\n",
       "\n",
       "    .dataframe tbody tr th {\n",
       "        vertical-align: top;\n",
       "    }\n",
       "\n",
       "    .dataframe thead th {\n",
       "        text-align: right;\n",
       "    }\n",
       "</style>\n",
       "<table border=\"1\" class=\"dataframe\">\n",
       "  <thead>\n",
       "    <tr style=\"text-align: right;\">\n",
       "      <th></th>\n",
       "      <th>clusterer_params</th>\n",
       "      <th>partition</th>\n",
       "      <th>n_clusters</th>\n",
       "    </tr>\n",
       "    <tr>\n",
       "      <th>clusterer_id</th>\n",
       "      <th></th>\n",
       "      <th></th>\n",
       "      <th></th>\n",
       "    </tr>\n",
       "  </thead>\n",
       "  <tbody>\n",
       "    <tr>\n",
       "      <th>GaussianMixture #0</th>\n",
       "      <td>{'covariance_type': 'full', 'init_params': 'km...</td>\n",
       "      <td>[0.0, 0.0, 0.0, 0.0, 0.0, 0.0, 0.0, 0.0, 0.0, ...</td>\n",
       "      <td>2</td>\n",
       "    </tr>\n",
       "    <tr>\n",
       "      <th>GaussianMixture #1</th>\n",
       "      <td>{'covariance_type': 'full', 'init_params': 'km...</td>\n",
       "      <td>[1.0, 1.0, 1.0, 1.0, 1.0, 1.0, 1.0, 1.0, 1.0, ...</td>\n",
       "      <td>2</td>\n",
       "    </tr>\n",
       "    <tr>\n",
       "      <th>GaussianMixture #2</th>\n",
       "      <td>{'covariance_type': 'full', 'init_params': 'km...</td>\n",
       "      <td>[1.0, 1.0, 1.0, 1.0, 1.0, 1.0, 1.0, 1.0, 1.0, ...</td>\n",
       "      <td>2</td>\n",
       "    </tr>\n",
       "    <tr>\n",
       "      <th>GaussianMixture #3</th>\n",
       "      <td>{'covariance_type': 'full', 'init_params': 'km...</td>\n",
       "      <td>[1.0, 1.0, 1.0, 1.0, 1.0, 1.0, 1.0, 1.0, 1.0, ...</td>\n",
       "      <td>2</td>\n",
       "    </tr>\n",
       "    <tr>\n",
       "      <th>GaussianMixture #4</th>\n",
       "      <td>{'covariance_type': 'full', 'init_params': 'km...</td>\n",
       "      <td>[1.0, 1.0, 1.0, 1.0, 1.0, 1.0, 1.0, 1.0, 1.0, ...</td>\n",
       "      <td>2</td>\n",
       "    </tr>\n",
       "  </tbody>\n",
       "</table>\n",
       "</div>"
      ],
      "text/plain": [
       "                                                     clusterer_params  \\\n",
       "clusterer_id                                                            \n",
       "GaussianMixture #0  {'covariance_type': 'full', 'init_params': 'km...   \n",
       "GaussianMixture #1  {'covariance_type': 'full', 'init_params': 'km...   \n",
       "GaussianMixture #2  {'covariance_type': 'full', 'init_params': 'km...   \n",
       "GaussianMixture #3  {'covariance_type': 'full', 'init_params': 'km...   \n",
       "GaussianMixture #4  {'covariance_type': 'full', 'init_params': 'km...   \n",
       "\n",
       "                                                            partition  \\\n",
       "clusterer_id                                                            \n",
       "GaussianMixture #0  [0.0, 0.0, 0.0, 0.0, 0.0, 0.0, 0.0, 0.0, 0.0, ...   \n",
       "GaussianMixture #1  [1.0, 1.0, 1.0, 1.0, 1.0, 1.0, 1.0, 1.0, 1.0, ...   \n",
       "GaussianMixture #2  [1.0, 1.0, 1.0, 1.0, 1.0, 1.0, 1.0, 1.0, 1.0, ...   \n",
       "GaussianMixture #3  [1.0, 1.0, 1.0, 1.0, 1.0, 1.0, 1.0, 1.0, 1.0, ...   \n",
       "GaussianMixture #4  [1.0, 1.0, 1.0, 1.0, 1.0, 1.0, 1.0, 1.0, 1.0, ...   \n",
       "\n",
       "                    n_clusters  \n",
       "clusterer_id                    \n",
       "GaussianMixture #0           2  \n",
       "GaussianMixture #1           2  \n",
       "GaussianMixture #2           2  \n",
       "GaussianMixture #3           2  \n",
       "GaussianMixture #4           2  "
      ]
     },
     "execution_count": 27,
     "metadata": {},
     "output_type": "execute_result"
    }
   ],
   "source": [
    "ensemble.head()"
   ]
  },
  {
   "cell_type": "code",
   "execution_count": 28,
   "id": "7b1334a8",
   "metadata": {
    "execution": {
     "iopub.execute_input": "2022-11-26T13:36:32.827395Z",
     "iopub.status.busy": "2022-11-26T13:36:32.827165Z",
     "iopub.status.idle": "2022-11-26T13:36:32.849139Z",
     "shell.execute_reply": "2022-11-26T13:36:32.848751Z"
    },
    "papermill": {
     "duration": 0.038319,
     "end_time": "2022-11-26T13:36:32.849936",
     "exception": false,
     "start_time": "2022-11-26T13:36:32.811617",
     "status": "completed"
    },
    "tags": []
   },
   "outputs": [
    {
     "data": {
      "text/plain": [
       "60    5\n",
       "16    5\n",
       "28    5\n",
       "27    5\n",
       "26    5\n",
       "Name: n_clusters, dtype: int64"
      ]
     },
     "execution_count": 28,
     "metadata": {},
     "output_type": "execute_result"
    }
   ],
   "source": [
    "ensemble[\"n_clusters\"].value_counts().head()"
   ]
  },
  {
   "cell_type": "code",
   "execution_count": 29,
   "id": "055f2518",
   "metadata": {
    "execution": {
     "iopub.execute_input": "2022-11-26T13:36:32.880993Z",
     "iopub.status.busy": "2022-11-26T13:36:32.880751Z",
     "iopub.status.idle": "2022-11-26T13:36:32.904013Z",
     "shell.execute_reply": "2022-11-26T13:36:32.903607Z"
    },
    "papermill": {
     "duration": 0.039619,
     "end_time": "2022-11-26T13:36:32.904826",
     "exception": false,
     "start_time": "2022-11-26T13:36:32.865207",
     "status": "completed"
    },
    "tags": []
   },
   "outputs": [
    {
     "data": {
      "text/plain": [
       "count    295.000000\n",
       "mean      31.000000\n",
       "std       17.058323\n",
       "min        2.000000\n",
       "25%       16.000000\n",
       "50%       31.000000\n",
       "75%       46.000000\n",
       "max       60.000000\n",
       "Name: n_clusters, dtype: float64"
      ]
     },
     "metadata": {},
     "output_type": "display_data"
    }
   ],
   "source": [
    "ensemble_stats = ensemble[\"n_clusters\"].describe()\n",
    "display(ensemble_stats)"
   ]
  },
  {
   "cell_type": "markdown",
   "id": "362adc77",
   "metadata": {
    "papermill": {
     "duration": 0.015071,
     "end_time": "2022-11-26T13:36:32.935670",
     "exception": false,
     "start_time": "2022-11-26T13:36:32.920599",
     "status": "completed"
    },
    "tags": []
   },
   "source": [
    "## Testing"
   ]
  },
  {
   "cell_type": "code",
   "execution_count": 30,
   "id": "41b128b1",
   "metadata": {
    "execution": {
     "iopub.execute_input": "2022-11-26T13:36:32.966322Z",
     "iopub.status.busy": "2022-11-26T13:36:32.966094Z",
     "iopub.status.idle": "2022-11-26T13:36:32.986151Z",
     "shell.execute_reply": "2022-11-26T13:36:32.985765Z"
    },
    "papermill": {
     "duration": 0.03648,
     "end_time": "2022-11-26T13:36:32.986972",
     "exception": false,
     "start_time": "2022-11-26T13:36:32.950492",
     "status": "completed"
    },
    "tags": []
   },
   "outputs": [],
   "source": [
    "assert ensemble_stats[\"min\"] > 1"
   ]
  },
  {
   "cell_type": "code",
   "execution_count": 31,
   "id": "1d4a95ec",
   "metadata": {
    "execution": {
     "iopub.execute_input": "2022-11-26T13:36:33.018010Z",
     "iopub.status.busy": "2022-11-26T13:36:33.017699Z",
     "iopub.status.idle": "2022-11-26T13:36:33.037281Z",
     "shell.execute_reply": "2022-11-26T13:36:33.036901Z"
    },
    "papermill": {
     "duration": 0.035763,
     "end_time": "2022-11-26T13:36:33.038056",
     "exception": false,
     "start_time": "2022-11-26T13:36:33.002293",
     "status": "completed"
    },
    "tags": []
   },
   "outputs": [],
   "source": [
    "assert not ensemble[\"n_clusters\"].isna().any()"
   ]
  },
  {
   "cell_type": "code",
   "execution_count": 32,
   "id": "e2df3b4a",
   "metadata": {
    "execution": {
     "iopub.execute_input": "2022-11-26T13:36:33.069119Z",
     "iopub.status.busy": "2022-11-26T13:36:33.068901Z",
     "iopub.status.idle": "2022-11-26T13:36:33.088318Z",
     "shell.execute_reply": "2022-11-26T13:36:33.087857Z"
    },
    "papermill": {
     "duration": 0.036003,
     "end_time": "2022-11-26T13:36:33.089191",
     "exception": false,
     "start_time": "2022-11-26T13:36:33.053188",
     "status": "completed"
    },
    "tags": []
   },
   "outputs": [],
   "source": [
    "assert ensemble.shape[0] == len(CLUSTERERS)"
   ]
  },
  {
   "cell_type": "code",
   "execution_count": 33,
   "id": "d01cc345",
   "metadata": {
    "execution": {
     "iopub.execute_input": "2022-11-26T13:36:33.120004Z",
     "iopub.status.busy": "2022-11-26T13:36:33.119717Z",
     "iopub.status.idle": "2022-11-26T13:36:33.164418Z",
     "shell.execute_reply": "2022-11-26T13:36:33.163947Z"
    },
    "papermill": {
     "duration": 0.061235,
     "end_time": "2022-11-26T13:36:33.165324",
     "exception": false,
     "start_time": "2022-11-26T13:36:33.104089",
     "status": "completed"
    },
    "tags": []
   },
   "outputs": [],
   "source": [
    "# all partitions have the right size\n",
    "assert np.all(\n",
    "    [part[\"partition\"].shape[0] == data.shape[0] for idx, part in ensemble.iterrows()]\n",
    ")"
   ]
  },
  {
   "cell_type": "code",
   "execution_count": 34,
   "id": "c792b601",
   "metadata": {
    "execution": {
     "iopub.execute_input": "2022-11-26T13:36:33.196391Z",
     "iopub.status.busy": "2022-11-26T13:36:33.196109Z",
     "iopub.status.idle": "2022-11-26T13:36:33.244132Z",
     "shell.execute_reply": "2022-11-26T13:36:33.243643Z"
    },
    "papermill": {
     "duration": 0.065101,
     "end_time": "2022-11-26T13:36:33.245576",
     "exception": false,
     "start_time": "2022-11-26T13:36:33.180475",
     "status": "completed"
    },
    "tags": []
   },
   "outputs": [],
   "source": [
    "# no partition has negative clusters (noisy points)\n",
    "assert not np.any([(part[\"partition\"] < 0).any() for idx, part in ensemble.iterrows()])"
   ]
  },
  {
   "cell_type": "markdown",
   "id": "f99684ef",
   "metadata": {
    "papermill": {
     "duration": 0.029716,
     "end_time": "2022-11-26T13:36:33.305461",
     "exception": false,
     "start_time": "2022-11-26T13:36:33.275745",
     "status": "completed"
    },
    "tags": []
   },
   "source": [
    "## Add clustering quality measures"
   ]
  },
  {
   "cell_type": "code",
   "execution_count": 35,
   "id": "9821196a",
   "metadata": {
    "execution": {
     "iopub.execute_input": "2022-11-26T13:36:33.341807Z",
     "iopub.status.busy": "2022-11-26T13:36:33.341514Z",
     "iopub.status.idle": "2022-11-26T13:36:33.362185Z",
     "shell.execute_reply": "2022-11-26T13:36:33.361729Z"
    },
    "papermill": {
     "duration": 0.036956,
     "end_time": "2022-11-26T13:36:33.363083",
     "exception": false,
     "start_time": "2022-11-26T13:36:33.326127",
     "status": "completed"
    },
    "tags": []
   },
   "outputs": [],
   "source": [
    "from sklearn.metrics import calinski_harabasz_score"
   ]
  },
  {
   "cell_type": "code",
   "execution_count": 36,
   "id": "bcb7c007",
   "metadata": {
    "execution": {
     "iopub.execute_input": "2022-11-26T13:36:33.394076Z",
     "iopub.status.busy": "2022-11-26T13:36:33.393860Z",
     "iopub.status.idle": "2022-11-26T13:36:34.148268Z",
     "shell.execute_reply": "2022-11-26T13:36:34.147785Z"
    },
    "papermill": {
     "duration": 0.771144,
     "end_time": "2022-11-26T13:36:34.149352",
     "exception": false,
     "start_time": "2022-11-26T13:36:33.378208",
     "status": "completed"
    },
    "tags": []
   },
   "outputs": [],
   "source": [
    "ensemble = ensemble.assign(\n",
    "    ch_score=ensemble[\"partition\"].apply(lambda x: calinski_harabasz_score(data, x))\n",
    ")"
   ]
  },
  {
   "cell_type": "code",
   "execution_count": 37,
   "id": "98cb1a25",
   "metadata": {
    "execution": {
     "iopub.execute_input": "2022-11-26T13:36:34.180978Z",
     "iopub.status.busy": "2022-11-26T13:36:34.180867Z",
     "iopub.status.idle": "2022-11-26T13:36:34.194540Z",
     "shell.execute_reply": "2022-11-26T13:36:34.194173Z"
    },
    "papermill": {
     "duration": 0.030038,
     "end_time": "2022-11-26T13:36:34.195370",
     "exception": false,
     "start_time": "2022-11-26T13:36:34.165332",
     "status": "completed"
    },
    "tags": []
   },
   "outputs": [
    {
     "data": {
      "text/plain": [
       "(295, 4)"
      ]
     },
     "execution_count": 37,
     "metadata": {},
     "output_type": "execute_result"
    }
   ],
   "source": [
    "ensemble.shape"
   ]
  },
  {
   "cell_type": "code",
   "execution_count": 38,
   "id": "8d343794",
   "metadata": {
    "execution": {
     "iopub.execute_input": "2022-11-26T13:36:34.226710Z",
     "iopub.status.busy": "2022-11-26T13:36:34.226610Z",
     "iopub.status.idle": "2022-11-26T13:36:34.246070Z",
     "shell.execute_reply": "2022-11-26T13:36:34.245642Z"
    },
    "papermill": {
     "duration": 0.035898,
     "end_time": "2022-11-26T13:36:34.246953",
     "exception": false,
     "start_time": "2022-11-26T13:36:34.211055",
     "status": "completed"
    },
    "tags": []
   },
   "outputs": [
    {
     "data": {
      "text/html": [
       "<div>\n",
       "<style scoped>\n",
       "    .dataframe tbody tr th:only-of-type {\n",
       "        vertical-align: middle;\n",
       "    }\n",
       "\n",
       "    .dataframe tbody tr th {\n",
       "        vertical-align: top;\n",
       "    }\n",
       "\n",
       "    .dataframe thead th {\n",
       "        text-align: right;\n",
       "    }\n",
       "</style>\n",
       "<table border=\"1\" class=\"dataframe\">\n",
       "  <thead>\n",
       "    <tr style=\"text-align: right;\">\n",
       "      <th></th>\n",
       "      <th>clusterer_params</th>\n",
       "      <th>partition</th>\n",
       "      <th>n_clusters</th>\n",
       "      <th>ch_score</th>\n",
       "    </tr>\n",
       "    <tr>\n",
       "      <th>clusterer_id</th>\n",
       "      <th></th>\n",
       "      <th></th>\n",
       "      <th></th>\n",
       "      <th></th>\n",
       "    </tr>\n",
       "  </thead>\n",
       "  <tbody>\n",
       "    <tr>\n",
       "      <th>GaussianMixture #0</th>\n",
       "      <td>{'covariance_type': 'full', 'init_params': 'km...</td>\n",
       "      <td>[0.0, 0.0, 0.0, 0.0, 0.0, 0.0, 0.0, 0.0, 0.0, ...</td>\n",
       "      <td>2</td>\n",
       "      <td>6.206695</td>\n",
       "    </tr>\n",
       "    <tr>\n",
       "      <th>GaussianMixture #1</th>\n",
       "      <td>{'covariance_type': 'full', 'init_params': 'km...</td>\n",
       "      <td>[1.0, 1.0, 1.0, 1.0, 1.0, 1.0, 1.0, 1.0, 1.0, ...</td>\n",
       "      <td>2</td>\n",
       "      <td>6.395688</td>\n",
       "    </tr>\n",
       "    <tr>\n",
       "      <th>GaussianMixture #2</th>\n",
       "      <td>{'covariance_type': 'full', 'init_params': 'km...</td>\n",
       "      <td>[1.0, 1.0, 1.0, 1.0, 1.0, 1.0, 1.0, 1.0, 1.0, ...</td>\n",
       "      <td>2</td>\n",
       "      <td>6.395688</td>\n",
       "    </tr>\n",
       "    <tr>\n",
       "      <th>GaussianMixture #3</th>\n",
       "      <td>{'covariance_type': 'full', 'init_params': 'km...</td>\n",
       "      <td>[1.0, 1.0, 1.0, 1.0, 1.0, 1.0, 1.0, 1.0, 1.0, ...</td>\n",
       "      <td>2</td>\n",
       "      <td>6.351231</td>\n",
       "    </tr>\n",
       "    <tr>\n",
       "      <th>GaussianMixture #4</th>\n",
       "      <td>{'covariance_type': 'full', 'init_params': 'km...</td>\n",
       "      <td>[1.0, 1.0, 1.0, 1.0, 1.0, 1.0, 1.0, 1.0, 1.0, ...</td>\n",
       "      <td>2</td>\n",
       "      <td>6.478781</td>\n",
       "    </tr>\n",
       "  </tbody>\n",
       "</table>\n",
       "</div>"
      ],
      "text/plain": [
       "                                                     clusterer_params  \\\n",
       "clusterer_id                                                            \n",
       "GaussianMixture #0  {'covariance_type': 'full', 'init_params': 'km...   \n",
       "GaussianMixture #1  {'covariance_type': 'full', 'init_params': 'km...   \n",
       "GaussianMixture #2  {'covariance_type': 'full', 'init_params': 'km...   \n",
       "GaussianMixture #3  {'covariance_type': 'full', 'init_params': 'km...   \n",
       "GaussianMixture #4  {'covariance_type': 'full', 'init_params': 'km...   \n",
       "\n",
       "                                                            partition  \\\n",
       "clusterer_id                                                            \n",
       "GaussianMixture #0  [0.0, 0.0, 0.0, 0.0, 0.0, 0.0, 0.0, 0.0, 0.0, ...   \n",
       "GaussianMixture #1  [1.0, 1.0, 1.0, 1.0, 1.0, 1.0, 1.0, 1.0, 1.0, ...   \n",
       "GaussianMixture #2  [1.0, 1.0, 1.0, 1.0, 1.0, 1.0, 1.0, 1.0, 1.0, ...   \n",
       "GaussianMixture #3  [1.0, 1.0, 1.0, 1.0, 1.0, 1.0, 1.0, 1.0, 1.0, ...   \n",
       "GaussianMixture #4  [1.0, 1.0, 1.0, 1.0, 1.0, 1.0, 1.0, 1.0, 1.0, ...   \n",
       "\n",
       "                    n_clusters  ch_score  \n",
       "clusterer_id                              \n",
       "GaussianMixture #0           2  6.206695  \n",
       "GaussianMixture #1           2  6.395688  \n",
       "GaussianMixture #2           2  6.395688  \n",
       "GaussianMixture #3           2  6.351231  \n",
       "GaussianMixture #4           2  6.478781  "
      ]
     },
     "execution_count": 38,
     "metadata": {},
     "output_type": "execute_result"
    }
   ],
   "source": [
    "ensemble.head()"
   ]
  },
  {
   "cell_type": "markdown",
   "id": "75b99b17",
   "metadata": {
    "papermill": {
     "duration": 0.015104,
     "end_time": "2022-11-26T13:36:34.277772",
     "exception": false,
     "start_time": "2022-11-26T13:36:34.262668",
     "status": "completed"
    },
    "tags": []
   },
   "source": [
    "## Save"
   ]
  },
  {
   "cell_type": "code",
   "execution_count": 39,
   "id": "5836ed98",
   "metadata": {
    "execution": {
     "iopub.execute_input": "2022-11-26T13:36:34.308298Z",
     "iopub.status.busy": "2022-11-26T13:36:34.308014Z",
     "iopub.status.idle": "2022-11-26T13:36:34.321839Z",
     "shell.execute_reply": "2022-11-26T13:36:34.321417Z"
    },
    "papermill": {
     "duration": 0.030031,
     "end_time": "2022-11-26T13:36:34.322717",
     "exception": false,
     "start_time": "2022-11-26T13:36:34.292686",
     "status": "completed"
    },
    "tags": []
   },
   "outputs": [
    {
     "data": {
      "text/plain": [
       "PosixPath('/opt/data/results/clustering/null_sims/shuffle_lvs/runs/pca-z_score_std-projection-smultixcan-efo_partial-mashr-zscores/GaussianMixture-COVARIANCE_TYPE_full-K_MAX_60-K_MIN_2-N_INIT_10-N_REPS_PER_K_5.pkl')"
      ]
     },
     "metadata": {},
     "output_type": "display_data"
    }
   ],
   "source": [
    "output_filename = Path(\n",
    "    RESULTS_DIR,\n",
    "    generate_result_set_name(\n",
    "        CLUSTERING_OPTIONS,\n",
    "        prefix=f\"{clustering_method_name}-\",\n",
    "        suffix=\".pkl\",\n",
    "    ),\n",
    ").resolve()\n",
    "display(output_filename)"
   ]
  },
  {
   "cell_type": "code",
   "execution_count": 40,
   "id": "5f493f10",
   "metadata": {
    "execution": {
     "iopub.execute_input": "2022-11-26T13:36:34.354242Z",
     "iopub.status.busy": "2022-11-26T13:36:34.354145Z",
     "iopub.status.idle": "2022-11-26T13:36:34.378704Z",
     "shell.execute_reply": "2022-11-26T13:36:34.378195Z"
    },
    "papermill": {
     "duration": 0.041462,
     "end_time": "2022-11-26T13:36:34.379805",
     "exception": false,
     "start_time": "2022-11-26T13:36:34.338343",
     "status": "completed"
    },
    "tags": []
   },
   "outputs": [],
   "source": [
    "ensemble.to_pickle(output_filename)"
   ]
  },
  {
   "cell_type": "markdown",
   "id": "48487f62",
   "metadata": {
    "papermill": {
     "duration": 0.015435,
     "end_time": "2022-11-26T13:36:34.411495",
     "exception": false,
     "start_time": "2022-11-26T13:36:34.396060",
     "status": "completed"
    },
    "tags": []
   },
   "source": [
    "# Cluster quality"
   ]
  },
  {
   "cell_type": "code",
   "execution_count": 41,
   "id": "3b5c3812",
   "metadata": {
    "execution": {
     "iopub.execute_input": "2022-11-26T13:36:34.442917Z",
     "iopub.status.busy": "2022-11-26T13:36:34.442815Z",
     "iopub.status.idle": "2022-11-26T13:36:34.460534Z",
     "shell.execute_reply": "2022-11-26T13:36:34.460079Z"
    },
    "papermill": {
     "duration": 0.034285,
     "end_time": "2022-11-26T13:36:34.461408",
     "exception": false,
     "start_time": "2022-11-26T13:36:34.427123",
     "status": "completed"
    },
    "tags": []
   },
   "outputs": [
    {
     "data": {
      "text/html": [
       "<div>\n",
       "<style scoped>\n",
       "    .dataframe tbody tr th:only-of-type {\n",
       "        vertical-align: middle;\n",
       "    }\n",
       "\n",
       "    .dataframe tbody tr th {\n",
       "        vertical-align: top;\n",
       "    }\n",
       "\n",
       "    .dataframe thead th {\n",
       "        text-align: right;\n",
       "    }\n",
       "</style>\n",
       "<table border=\"1\" class=\"dataframe\">\n",
       "  <thead>\n",
       "    <tr style=\"text-align: right;\">\n",
       "      <th></th>\n",
       "      <th>ch_score</th>\n",
       "    </tr>\n",
       "    <tr>\n",
       "      <th>n_clusters</th>\n",
       "      <th></th>\n",
       "    </tr>\n",
       "  </thead>\n",
       "  <tbody>\n",
       "    <tr>\n",
       "      <th>2</th>\n",
       "      <td>6.365617</td>\n",
       "    </tr>\n",
       "    <tr>\n",
       "      <th>3</th>\n",
       "      <td>8.196385</td>\n",
       "    </tr>\n",
       "    <tr>\n",
       "      <th>4</th>\n",
       "      <td>6.559148</td>\n",
       "    </tr>\n",
       "    <tr>\n",
       "      <th>5</th>\n",
       "      <td>6.765293</td>\n",
       "    </tr>\n",
       "    <tr>\n",
       "      <th>6</th>\n",
       "      <td>9.357208</td>\n",
       "    </tr>\n",
       "    <tr>\n",
       "      <th>7</th>\n",
       "      <td>9.319371</td>\n",
       "    </tr>\n",
       "    <tr>\n",
       "      <th>8</th>\n",
       "      <td>8.424254</td>\n",
       "    </tr>\n",
       "    <tr>\n",
       "      <th>9</th>\n",
       "      <td>9.309323</td>\n",
       "    </tr>\n",
       "    <tr>\n",
       "      <th>10</th>\n",
       "      <td>10.688764</td>\n",
       "    </tr>\n",
       "    <tr>\n",
       "      <th>11</th>\n",
       "      <td>12.041255</td>\n",
       "    </tr>\n",
       "    <tr>\n",
       "      <th>12</th>\n",
       "      <td>12.819355</td>\n",
       "    </tr>\n",
       "    <tr>\n",
       "      <th>13</th>\n",
       "      <td>13.989693</td>\n",
       "    </tr>\n",
       "    <tr>\n",
       "      <th>14</th>\n",
       "      <td>14.326821</td>\n",
       "    </tr>\n",
       "    <tr>\n",
       "      <th>15</th>\n",
       "      <td>14.256356</td>\n",
       "    </tr>\n",
       "    <tr>\n",
       "      <th>16</th>\n",
       "      <td>13.664278</td>\n",
       "    </tr>\n",
       "    <tr>\n",
       "      <th>17</th>\n",
       "      <td>15.503154</td>\n",
       "    </tr>\n",
       "    <tr>\n",
       "      <th>18</th>\n",
       "      <td>15.251699</td>\n",
       "    </tr>\n",
       "    <tr>\n",
       "      <th>19</th>\n",
       "      <td>15.274619</td>\n",
       "    </tr>\n",
       "    <tr>\n",
       "      <th>20</th>\n",
       "      <td>15.641443</td>\n",
       "    </tr>\n",
       "    <tr>\n",
       "      <th>21</th>\n",
       "      <td>16.080956</td>\n",
       "    </tr>\n",
       "    <tr>\n",
       "      <th>22</th>\n",
       "      <td>15.542253</td>\n",
       "    </tr>\n",
       "    <tr>\n",
       "      <th>23</th>\n",
       "      <td>16.085104</td>\n",
       "    </tr>\n",
       "    <tr>\n",
       "      <th>24</th>\n",
       "      <td>15.839864</td>\n",
       "    </tr>\n",
       "    <tr>\n",
       "      <th>25</th>\n",
       "      <td>15.666340</td>\n",
       "    </tr>\n",
       "    <tr>\n",
       "      <th>26</th>\n",
       "      <td>16.283616</td>\n",
       "    </tr>\n",
       "    <tr>\n",
       "      <th>27</th>\n",
       "      <td>16.267334</td>\n",
       "    </tr>\n",
       "    <tr>\n",
       "      <th>28</th>\n",
       "      <td>15.654456</td>\n",
       "    </tr>\n",
       "    <tr>\n",
       "      <th>29</th>\n",
       "      <td>15.911011</td>\n",
       "    </tr>\n",
       "    <tr>\n",
       "      <th>30</th>\n",
       "      <td>15.286665</td>\n",
       "    </tr>\n",
       "    <tr>\n",
       "      <th>31</th>\n",
       "      <td>15.428329</td>\n",
       "    </tr>\n",
       "    <tr>\n",
       "      <th>32</th>\n",
       "      <td>15.529382</td>\n",
       "    </tr>\n",
       "    <tr>\n",
       "      <th>33</th>\n",
       "      <td>15.079295</td>\n",
       "    </tr>\n",
       "    <tr>\n",
       "      <th>34</th>\n",
       "      <td>14.829126</td>\n",
       "    </tr>\n",
       "    <tr>\n",
       "      <th>35</th>\n",
       "      <td>15.033476</td>\n",
       "    </tr>\n",
       "    <tr>\n",
       "      <th>36</th>\n",
       "      <td>15.393632</td>\n",
       "    </tr>\n",
       "    <tr>\n",
       "      <th>37</th>\n",
       "      <td>15.353713</td>\n",
       "    </tr>\n",
       "    <tr>\n",
       "      <th>38</th>\n",
       "      <td>15.304257</td>\n",
       "    </tr>\n",
       "    <tr>\n",
       "      <th>39</th>\n",
       "      <td>15.402429</td>\n",
       "    </tr>\n",
       "    <tr>\n",
       "      <th>40</th>\n",
       "      <td>15.220056</td>\n",
       "    </tr>\n",
       "    <tr>\n",
       "      <th>41</th>\n",
       "      <td>15.084405</td>\n",
       "    </tr>\n",
       "    <tr>\n",
       "      <th>42</th>\n",
       "      <td>15.156302</td>\n",
       "    </tr>\n",
       "    <tr>\n",
       "      <th>43</th>\n",
       "      <td>14.107873</td>\n",
       "    </tr>\n",
       "    <tr>\n",
       "      <th>44</th>\n",
       "      <td>14.622521</td>\n",
       "    </tr>\n",
       "    <tr>\n",
       "      <th>45</th>\n",
       "      <td>14.638645</td>\n",
       "    </tr>\n",
       "    <tr>\n",
       "      <th>46</th>\n",
       "      <td>14.693610</td>\n",
       "    </tr>\n",
       "    <tr>\n",
       "      <th>47</th>\n",
       "      <td>14.203041</td>\n",
       "    </tr>\n",
       "    <tr>\n",
       "      <th>48</th>\n",
       "      <td>14.057649</td>\n",
       "    </tr>\n",
       "    <tr>\n",
       "      <th>49</th>\n",
       "      <td>13.806196</td>\n",
       "    </tr>\n",
       "    <tr>\n",
       "      <th>50</th>\n",
       "      <td>14.035576</td>\n",
       "    </tr>\n",
       "    <tr>\n",
       "      <th>51</th>\n",
       "      <td>13.903121</td>\n",
       "    </tr>\n",
       "    <tr>\n",
       "      <th>52</th>\n",
       "      <td>14.033784</td>\n",
       "    </tr>\n",
       "    <tr>\n",
       "      <th>53</th>\n",
       "      <td>13.980883</td>\n",
       "    </tr>\n",
       "    <tr>\n",
       "      <th>54</th>\n",
       "      <td>13.538685</td>\n",
       "    </tr>\n",
       "    <tr>\n",
       "      <th>55</th>\n",
       "      <td>13.955978</td>\n",
       "    </tr>\n",
       "    <tr>\n",
       "      <th>56</th>\n",
       "      <td>13.521539</td>\n",
       "    </tr>\n",
       "    <tr>\n",
       "      <th>57</th>\n",
       "      <td>13.746821</td>\n",
       "    </tr>\n",
       "    <tr>\n",
       "      <th>58</th>\n",
       "      <td>13.447320</td>\n",
       "    </tr>\n",
       "    <tr>\n",
       "      <th>59</th>\n",
       "      <td>13.967759</td>\n",
       "    </tr>\n",
       "    <tr>\n",
       "      <th>60</th>\n",
       "      <td>13.498126</td>\n",
       "    </tr>\n",
       "  </tbody>\n",
       "</table>\n",
       "</div>"
      ],
      "text/plain": [
       "             ch_score\n",
       "n_clusters           \n",
       "2            6.365617\n",
       "3            8.196385\n",
       "4            6.559148\n",
       "5            6.765293\n",
       "6            9.357208\n",
       "7            9.319371\n",
       "8            8.424254\n",
       "9            9.309323\n",
       "10          10.688764\n",
       "11          12.041255\n",
       "12          12.819355\n",
       "13          13.989693\n",
       "14          14.326821\n",
       "15          14.256356\n",
       "16          13.664278\n",
       "17          15.503154\n",
       "18          15.251699\n",
       "19          15.274619\n",
       "20          15.641443\n",
       "21          16.080956\n",
       "22          15.542253\n",
       "23          16.085104\n",
       "24          15.839864\n",
       "25          15.666340\n",
       "26          16.283616\n",
       "27          16.267334\n",
       "28          15.654456\n",
       "29          15.911011\n",
       "30          15.286665\n",
       "31          15.428329\n",
       "32          15.529382\n",
       "33          15.079295\n",
       "34          14.829126\n",
       "35          15.033476\n",
       "36          15.393632\n",
       "37          15.353713\n",
       "38          15.304257\n",
       "39          15.402429\n",
       "40          15.220056\n",
       "41          15.084405\n",
       "42          15.156302\n",
       "43          14.107873\n",
       "44          14.622521\n",
       "45          14.638645\n",
       "46          14.693610\n",
       "47          14.203041\n",
       "48          14.057649\n",
       "49          13.806196\n",
       "50          14.035576\n",
       "51          13.903121\n",
       "52          14.033784\n",
       "53          13.980883\n",
       "54          13.538685\n",
       "55          13.955978\n",
       "56          13.521539\n",
       "57          13.746821\n",
       "58          13.447320\n",
       "59          13.967759\n",
       "60          13.498126"
      ]
     },
     "metadata": {},
     "output_type": "display_data"
    }
   ],
   "source": [
    "with pd.option_context(\"display.max_rows\", None, \"display.max_columns\", None):\n",
    "    _df = ensemble.groupby([\"n_clusters\"]).mean()\n",
    "    display(_df)"
   ]
  },
  {
   "cell_type": "code",
   "execution_count": 42,
   "id": "534b83be",
   "metadata": {
    "execution": {
     "iopub.execute_input": "2022-11-26T13:36:34.493531Z",
     "iopub.status.busy": "2022-11-26T13:36:34.493426Z",
     "iopub.status.idle": "2022-11-26T13:36:36.657968Z",
     "shell.execute_reply": "2022-11-26T13:36:36.657498Z"
    },
    "papermill": {
     "duration": 2.182311,
     "end_time": "2022-11-26T13:36:36.659909",
     "exception": false,
     "start_time": "2022-11-26T13:36:34.477598",
     "status": "completed"
    },
    "tags": []
   },
   "outputs": [
    {
     "data": {
      "image/png": "[encoded data removed]",
      "text/plain": [
       "<Figure size 1008x432 with 1 Axes>"
      ]
     },
     "metadata": {},
     "output_type": "display_data"
    }
   ],
   "source": [
    "with sns.plotting_context(\"talk\", font_scale=0.75), sns.axes_style(\n",
    "    \"whitegrid\", {\"grid.linestyle\": \"--\"}\n",
    "):\n",
    "    fig = plt.figure(figsize=(14, 6))\n",
    "    ax = sns.pointplot(data=ensemble, x=\"n_clusters\", y=\"ch_score\")\n",
    "    ax.set_ylabel(\"Calinski-Harabasz index\")\n",
    "    ax.set_xlabel(\"Number of clusters ($k$)\")\n",
    "    ax.set_xticklabels(ax.get_xticklabels(), rotation=45)\n",
    "    plt.grid(True)\n",
    "    plt.tight_layout()"
   ]
  },
  {
   "cell_type": "markdown",
   "id": "f71b97b8",
   "metadata": {
    "papermill": {
     "duration": 0.034994,
     "end_time": "2022-11-26T13:36:36.731196",
     "exception": false,
     "start_time": "2022-11-26T13:36:36.696202",
     "status": "completed"
    },
    "tags": []
   },
   "source": [
    "# Stability"
   ]
  },
  {
   "cell_type": "markdown",
   "id": "37402035",
   "metadata": {
    "papermill": {
     "duration": 0.016062,
     "end_time": "2022-11-26T13:36:36.767843",
     "exception": false,
     "start_time": "2022-11-26T13:36:36.751781",
     "status": "completed"
    },
    "tags": []
   },
   "source": [
    "## Group ensemble by n_clusters"
   ]
  },
  {
   "cell_type": "code",
   "execution_count": 43,
   "id": "6f23c234",
   "metadata": {
    "execution": {
     "iopub.execute_input": "2022-11-26T13:36:36.800964Z",
     "iopub.status.busy": "2022-11-26T13:36:36.800816Z",
     "iopub.status.idle": "2022-11-26T13:36:36.842576Z",
     "shell.execute_reply": "2022-11-26T13:36:36.842010Z"
    },
    "papermill": {
     "duration": 0.059642,
     "end_time": "2022-11-26T13:36:36.843677",
     "exception": false,
     "start_time": "2022-11-26T13:36:36.784035",
     "status": "completed"
    },
    "tags": []
   },
   "outputs": [],
   "source": [
    "parts = ensemble.groupby(\"n_clusters\").apply(\n",
    "    lambda x: np.concatenate(x[\"partition\"].apply(lambda x: x.reshape(1, -1)), axis=0)\n",
    ")"
   ]
  },
  {
   "cell_type": "code",
   "execution_count": 44,
   "id": "9412965c",
   "metadata": {
    "execution": {
     "iopub.execute_input": "2022-11-26T13:36:36.877309Z",
     "iopub.status.busy": "2022-11-26T13:36:36.877128Z",
     "iopub.status.idle": "2022-11-26T13:36:36.917268Z",
     "shell.execute_reply": "2022-11-26T13:36:36.916805Z"
    },
    "papermill": {
     "duration": 0.057536,
     "end_time": "2022-11-26T13:36:36.918154",
     "exception": false,
     "start_time": "2022-11-26T13:36:36.860618",
     "status": "completed"
    },
    "tags": []
   },
   "outputs": [
    {
     "data": {
      "text/plain": [
       "n_clusters\n",
       "2    [[0.0, 0.0, 0.0, 0.0, 0.0, 0.0, 0.0, 0.0, 0.0,...\n",
       "3    [[2.0, 2.0, 2.0, 2.0, 2.0, 2.0, 2.0, 2.0, 2.0,...\n",
       "4    [[2.0, 2.0, 2.0, 2.0, 2.0, 2.0, 2.0, 2.0, 2.0,...\n",
       "5    [[2.0, 2.0, 2.0, 2.0, 2.0, 2.0, 2.0, 2.0, 2.0,...\n",
       "6    [[4.0, 4.0, 4.0, 4.0, 4.0, 4.0, 4.0, 4.0, 4.0,...\n",
       "dtype: object"
      ]
     },
     "execution_count": 44,
     "metadata": {},
     "output_type": "execute_result"
    }
   ],
   "source": [
    "parts.head()"
   ]
  },
  {
   "cell_type": "code",
   "execution_count": 45,
   "id": "1d88e7cc",
   "metadata": {
    "execution": {
     "iopub.execute_input": "2022-11-26T13:36:36.951721Z",
     "iopub.status.busy": "2022-11-26T13:36:36.951548Z",
     "iopub.status.idle": "2022-11-26T13:36:36.974076Z",
     "shell.execute_reply": "2022-11-26T13:36:36.973552Z"
    },
    "papermill": {
     "duration": 0.039918,
     "end_time": "2022-11-26T13:36:36.974978",
     "exception": false,
     "start_time": "2022-11-26T13:36:36.935060",
     "status": "completed"
    },
    "tags": []
   },
   "outputs": [],
   "source": [
    "assert np.all(\n",
    "    [\n",
    "        parts.loc[k].shape == (CLUSTERING_OPTIONS[\"N_REPS_PER_K\"], data.shape[0])\n",
    "        for k in parts.index\n",
    "    ]\n",
    ")"
   ]
  },
  {
   "cell_type": "markdown",
   "id": "5ee1086d",
   "metadata": {
    "papermill": {
     "duration": 0.016162,
     "end_time": "2022-11-26T13:36:37.007888",
     "exception": false,
     "start_time": "2022-11-26T13:36:36.991726",
     "status": "completed"
    },
    "tags": []
   },
   "source": [
    "## Compute stability"
   ]
  },
  {
   "cell_type": "code",
   "execution_count": 46,
   "id": "a66e214c",
   "metadata": {
    "execution": {
     "iopub.execute_input": "2022-11-26T13:36:37.040942Z",
     "iopub.status.busy": "2022-11-26T13:36:37.040762Z",
     "iopub.status.idle": "2022-11-26T13:36:37.061868Z",
     "shell.execute_reply": "2022-11-26T13:36:37.061350Z"
    },
    "papermill": {
     "duration": 0.03891,
     "end_time": "2022-11-26T13:36:37.062745",
     "exception": false,
     "start_time": "2022-11-26T13:36:37.023835",
     "status": "completed"
    },
    "tags": []
   },
   "outputs": [],
   "source": [
    "from sklearn.metrics import adjusted_rand_score as ari\n",
    "from scipy.spatial.distance import pdist"
   ]
  },
  {
   "cell_type": "code",
   "execution_count": 47,
   "id": "d5fe43be",
   "metadata": {
    "execution": {
     "iopub.execute_input": "2022-11-26T13:36:37.096569Z",
     "iopub.status.busy": "2022-11-26T13:36:37.096232Z",
     "iopub.status.idle": "2022-11-26T13:36:37.791322Z",
     "shell.execute_reply": "2022-11-26T13:36:37.790845Z"
    },
    "papermill": {
     "duration": 0.712987,
     "end_time": "2022-11-26T13:36:37.792734",
     "exception": false,
     "start_time": "2022-11-26T13:36:37.079747",
     "status": "completed"
    },
    "tags": []
   },
   "outputs": [],
   "source": [
    "parts_ari = pd.Series(\n",
    "    {k: pdist(parts.loc[k], metric=ari) for k in parts.index}, name=\"k\"\n",
    ")"
   ]
  },
  {
   "cell_type": "code",
   "execution_count": 48,
   "id": "4063c3fa",
   "metadata": {
    "execution": {
     "iopub.execute_input": "2022-11-26T13:36:37.828405Z",
     "iopub.status.busy": "2022-11-26T13:36:37.828284Z",
     "iopub.status.idle": "2022-11-26T13:36:37.848290Z",
     "shell.execute_reply": "2022-11-26T13:36:37.847929Z"
    },
    "papermill": {
     "duration": 0.037489,
     "end_time": "2022-11-26T13:36:37.849039",
     "exception": false,
     "start_time": "2022-11-26T13:36:37.811550",
     "status": "completed"
    },
    "tags": []
   },
   "outputs": [
    {
     "data": {
      "text/plain": [
       "2     0.983580\n",
       "3     0.739058\n",
       "4     0.603691\n",
       "5     0.402932\n",
       "6     0.394077\n",
       "7     0.251560\n",
       "8     0.218804\n",
       "10    0.129351\n",
       "9     0.100517\n",
       "11    0.065200\n",
       "45    0.034858\n",
       "56    0.033457\n",
       "50    0.033330\n",
       "59    0.032703\n",
       "58    0.032632\n",
       "Name: k, dtype: float64"
      ]
     },
     "metadata": {},
     "output_type": "display_data"
    }
   ],
   "source": [
    "parts_ari_stability = parts_ari.apply(lambda x: x.mean())\n",
    "display(parts_ari_stability.sort_values(ascending=False).head(15))"
   ]
  },
  {
   "cell_type": "code",
   "execution_count": 49,
   "id": "ca7c0a61",
   "metadata": {
    "execution": {
     "iopub.execute_input": "2022-11-26T13:36:37.882875Z",
     "iopub.status.busy": "2022-11-26T13:36:37.882744Z",
     "iopub.status.idle": "2022-11-26T13:36:37.904631Z",
     "shell.execute_reply": "2022-11-26T13:36:37.904174Z"
    },
    "papermill": {
     "duration": 0.039556,
     "end_time": "2022-11-26T13:36:37.905494",
     "exception": false,
     "start_time": "2022-11-26T13:36:37.865938",
     "status": "completed"
    },
    "tags": []
   },
   "outputs": [],
   "source": [
    "parts_ari_df = pd.DataFrame.from_records(parts_ari.tolist()).set_index(\n",
    "    parts_ari.index.copy()\n",
    ")"
   ]
  },
  {
   "cell_type": "code",
   "execution_count": 50,
   "id": "ab667a13",
   "metadata": {
    "execution": {
     "iopub.execute_input": "2022-11-26T13:36:37.939613Z",
     "iopub.status.busy": "2022-11-26T13:36:37.939261Z",
     "iopub.status.idle": "2022-11-26T13:36:37.960795Z",
     "shell.execute_reply": "2022-11-26T13:36:37.960328Z"
    },
    "papermill": {
     "duration": 0.039161,
     "end_time": "2022-11-26T13:36:37.961622",
     "exception": false,
     "start_time": "2022-11-26T13:36:37.922461",
     "status": "completed"
    },
    "tags": []
   },
   "outputs": [
    {
     "data": {
      "text/plain": [
       "(59, 10)"
      ]
     },
     "execution_count": 50,
     "metadata": {},
     "output_type": "execute_result"
    }
   ],
   "source": [
    "parts_ari_df.shape"
   ]
  },
  {
   "cell_type": "code",
   "execution_count": 51,
   "id": "1a998b1f",
   "metadata": {
    "execution": {
     "iopub.execute_input": "2022-11-26T13:36:37.995760Z",
     "iopub.status.busy": "2022-11-26T13:36:37.995438Z",
     "iopub.status.idle": "2022-11-26T13:36:38.016484Z",
     "shell.execute_reply": "2022-11-26T13:36:38.016047Z"
    },
    "papermill": {
     "duration": 0.03867,
     "end_time": "2022-11-26T13:36:38.017263",
     "exception": false,
     "start_time": "2022-11-26T13:36:37.978593",
     "status": "completed"
    },
    "tags": []
   },
   "outputs": [],
   "source": [
    "assert (\n",
    "    int(\n",
    "        (CLUSTERING_OPTIONS[\"N_REPS_PER_K\"] * (CLUSTERING_OPTIONS[\"N_REPS_PER_K\"] - 1))\n",
    "        / 2\n",
    "    )\n",
    "    == parts_ari_df.shape[1]\n",
    ")"
   ]
  },
  {
   "cell_type": "code",
   "execution_count": 52,
   "id": "d9de6c54",
   "metadata": {
    "execution": {
     "iopub.execute_input": "2022-11-26T13:36:38.051076Z",
     "iopub.status.busy": "2022-11-26T13:36:38.050763Z",
     "iopub.status.idle": "2022-11-26T13:36:38.080106Z",
     "shell.execute_reply": "2022-11-26T13:36:38.079686Z"
    },
    "papermill": {
     "duration": 0.046668,
     "end_time": "2022-11-26T13:36:38.080912",
     "exception": false,
     "start_time": "2022-11-26T13:36:38.034244",
     "status": "completed"
    },
    "tags": []
   },
   "outputs": [
    {
     "data": {
      "text/html": [
       "<div>\n",
       "<style scoped>\n",
       "    .dataframe tbody tr th:only-of-type {\n",
       "        vertical-align: middle;\n",
       "    }\n",
       "\n",
       "    .dataframe tbody tr th {\n",
       "        vertical-align: top;\n",
       "    }\n",
       "\n",
       "    .dataframe thead th {\n",
       "        text-align: right;\n",
       "    }\n",
       "</style>\n",
       "<table border=\"1\" class=\"dataframe\">\n",
       "  <thead>\n",
       "    <tr style=\"text-align: right;\">\n",
       "      <th></th>\n",
       "      <th>0</th>\n",
       "      <th>1</th>\n",
       "      <th>2</th>\n",
       "      <th>3</th>\n",
       "      <th>4</th>\n",
       "      <th>5</th>\n",
       "      <th>6</th>\n",
       "      <th>7</th>\n",
       "      <th>8</th>\n",
       "      <th>9</th>\n",
       "    </tr>\n",
       "  </thead>\n",
       "  <tbody>\n",
       "    <tr>\n",
       "      <th>2</th>\n",
       "      <td>0.983684</td>\n",
       "      <td>0.983684</td>\n",
       "      <td>0.972821</td>\n",
       "      <td>0.972821</td>\n",
       "      <td>1.000000</td>\n",
       "      <td>0.977944</td>\n",
       "      <td>0.988966</td>\n",
       "      <td>0.977944</td>\n",
       "      <td>0.988966</td>\n",
       "      <td>0.988966</td>\n",
       "    </tr>\n",
       "    <tr>\n",
       "      <th>3</th>\n",
       "      <td>0.792142</td>\n",
       "      <td>0.717186</td>\n",
       "      <td>0.817745</td>\n",
       "      <td>0.780548</td>\n",
       "      <td>0.647118</td>\n",
       "      <td>0.766189</td>\n",
       "      <td>0.732444</td>\n",
       "      <td>0.672758</td>\n",
       "      <td>0.690567</td>\n",
       "      <td>0.773881</td>\n",
       "    </tr>\n",
       "    <tr>\n",
       "      <th>4</th>\n",
       "      <td>0.588878</td>\n",
       "      <td>0.588712</td>\n",
       "      <td>0.571236</td>\n",
       "      <td>0.580601</td>\n",
       "      <td>0.661443</td>\n",
       "      <td>0.648473</td>\n",
       "      <td>0.617256</td>\n",
       "      <td>0.591357</td>\n",
       "      <td>0.584442</td>\n",
       "      <td>0.604511</td>\n",
       "    </tr>\n",
       "    <tr>\n",
       "      <th>5</th>\n",
       "      <td>0.382932</td>\n",
       "      <td>0.394194</td>\n",
       "      <td>0.315747</td>\n",
       "      <td>0.399407</td>\n",
       "      <td>0.453427</td>\n",
       "      <td>0.356894</td>\n",
       "      <td>0.399063</td>\n",
       "      <td>0.463097</td>\n",
       "      <td>0.470489</td>\n",
       "      <td>0.394072</td>\n",
       "    </tr>\n",
       "    <tr>\n",
       "      <th>6</th>\n",
       "      <td>0.167815</td>\n",
       "      <td>0.267730</td>\n",
       "      <td>0.339272</td>\n",
       "      <td>0.217400</td>\n",
       "      <td>0.575757</td>\n",
       "      <td>0.258681</td>\n",
       "      <td>0.682879</td>\n",
       "      <td>0.432304</td>\n",
       "      <td>0.653059</td>\n",
       "      <td>0.345871</td>\n",
       "    </tr>\n",
       "  </tbody>\n",
       "</table>\n",
       "</div>"
      ],
      "text/plain": [
       "          0         1         2         3         4         5         6  \\\n",
       "2  0.983684  0.983684  0.972821  0.972821  1.000000  0.977944  0.988966   \n",
       "3  0.792142  0.717186  0.817745  0.780548  0.647118  0.766189  0.732444   \n",
       "4  0.588878  0.588712  0.571236  0.580601  0.661443  0.648473  0.617256   \n",
       "5  0.382932  0.394194  0.315747  0.399407  0.453427  0.356894  0.399063   \n",
       "6  0.167815  0.267730  0.339272  0.217400  0.575757  0.258681  0.682879   \n",
       "\n",
       "          7         8         9  \n",
       "2  0.977944  0.988966  0.988966  \n",
       "3  0.672758  0.690567  0.773881  \n",
       "4  0.591357  0.584442  0.604511  \n",
       "5  0.463097  0.470489  0.394072  \n",
       "6  0.432304  0.653059  0.345871  "
      ]
     },
     "execution_count": 52,
     "metadata": {},
     "output_type": "execute_result"
    }
   ],
   "source": [
    "parts_ari_df.head()"
   ]
  },
  {
   "cell_type": "markdown",
   "id": "80293f3a",
   "metadata": {
    "papermill": {
     "duration": 0.016286,
     "end_time": "2022-11-26T13:36:38.114232",
     "exception": false,
     "start_time": "2022-11-26T13:36:38.097946",
     "status": "completed"
    },
    "tags": []
   },
   "source": [
    "## Save"
   ]
  },
  {
   "cell_type": "code",
   "execution_count": 53,
   "id": "ea25875c",
   "metadata": {
    "execution": {
     "iopub.execute_input": "2022-11-26T13:36:38.147887Z",
     "iopub.status.busy": "2022-11-26T13:36:38.147543Z",
     "iopub.status.idle": "2022-11-26T13:36:38.169707Z",
     "shell.execute_reply": "2022-11-26T13:36:38.169291Z"
    },
    "papermill": {
     "duration": 0.039838,
     "end_time": "2022-11-26T13:36:38.170485",
     "exception": false,
     "start_time": "2022-11-26T13:36:38.130647",
     "status": "completed"
    },
    "tags": []
   },
   "outputs": [
    {
     "data": {
      "text/plain": [
       "PosixPath('/opt/data/results/clustering/null_sims/shuffle_lvs/runs/pca-z_score_std-projection-smultixcan-efo_partial-mashr-zscores/GaussianMixture-stability-COVARIANCE_TYPE_full-K_MAX_60-K_MIN_2-N_INIT_10-N_REPS_PER_K_5.pkl')"
      ]
     },
     "metadata": {},
     "output_type": "display_data"
    }
   ],
   "source": [
    "output_filename = Path(\n",
    "    RESULTS_DIR,\n",
    "    generate_result_set_name(\n",
    "        CLUSTERING_OPTIONS,\n",
    "        prefix=f\"{clustering_method_name}-stability-\",\n",
    "        suffix=\".pkl\",\n",
    "    ),\n",
    ").resolve()\n",
    "display(output_filename)"
   ]
  },
  {
   "cell_type": "code",
   "execution_count": 54,
   "id": "30b18972",
   "metadata": {
    "execution": {
     "iopub.execute_input": "2022-11-26T13:36:38.204609Z",
     "iopub.status.busy": "2022-11-26T13:36:38.204231Z",
     "iopub.status.idle": "2022-11-26T13:36:38.225246Z",
     "shell.execute_reply": "2022-11-26T13:36:38.224804Z"
    },
    "papermill": {
     "duration": 0.038566,
     "end_time": "2022-11-26T13:36:38.226101",
     "exception": false,
     "start_time": "2022-11-26T13:36:38.187535",
     "status": "completed"
    },
    "tags": []
   },
   "outputs": [],
   "source": [
    "parts_ari_df.to_pickle(output_filename)"
   ]
  },
  {
   "cell_type": "markdown",
   "id": "6f971acd",
   "metadata": {
    "papermill": {
     "duration": 0.016304,
     "end_time": "2022-11-26T13:36:38.259410",
     "exception": false,
     "start_time": "2022-11-26T13:36:38.243106",
     "status": "completed"
    },
    "tags": []
   },
   "source": [
    "## Stability plot"
   ]
  },
  {
   "cell_type": "code",
   "execution_count": 55,
   "id": "236d4abe",
   "metadata": {
    "execution": {
     "iopub.execute_input": "2022-11-26T13:36:38.292832Z",
     "iopub.status.busy": "2022-11-26T13:36:38.292508Z",
     "iopub.status.idle": "2022-11-26T13:36:38.315841Z",
     "shell.execute_reply": "2022-11-26T13:36:38.315405Z"
    },
    "papermill": {
     "duration": 0.041184,
     "end_time": "2022-11-26T13:36:38.316763",
     "exception": false,
     "start_time": "2022-11-26T13:36:38.275579",
     "status": "completed"
    },
    "tags": []
   },
   "outputs": [],
   "source": [
    "parts_ari_df_plot = (\n",
    "    parts_ari_df.stack()\n",
    "    .reset_index()\n",
    "    .rename(columns={\"level_0\": \"k\", \"level_1\": \"idx\", 0: \"ari\"})\n",
    ")"
   ]
  },
  {
   "cell_type": "code",
   "execution_count": 56,
   "id": "d02c5489",
   "metadata": {
    "execution": {
     "iopub.execute_input": "2022-11-26T13:36:38.351066Z",
     "iopub.status.busy": "2022-11-26T13:36:38.350754Z",
     "iopub.status.idle": "2022-11-26T13:36:38.373251Z",
     "shell.execute_reply": "2022-11-26T13:36:38.372801Z"
    },
    "papermill": {
     "duration": 0.040242,
     "end_time": "2022-11-26T13:36:38.374036",
     "exception": false,
     "start_time": "2022-11-26T13:36:38.333794",
     "status": "completed"
    },
    "tags": []
   },
   "outputs": [
    {
     "data": {
      "text/plain": [
       "k        int64\n",
       "idx      int64\n",
       "ari    float64\n",
       "dtype: object"
      ]
     },
     "execution_count": 56,
     "metadata": {},
     "output_type": "execute_result"
    }
   ],
   "source": [
    "parts_ari_df_plot.dtypes"
   ]
  },
  {
   "cell_type": "code",
   "execution_count": 57,
   "id": "fbdcbba4",
   "metadata": {
    "execution": {
     "iopub.execute_input": "2022-11-26T13:36:38.408602Z",
     "iopub.status.busy": "2022-11-26T13:36:38.408239Z",
     "iopub.status.idle": "2022-11-26T13:36:38.432470Z",
     "shell.execute_reply": "2022-11-26T13:36:38.432046Z"
    },
    "papermill": {
     "duration": 0.042112,
     "end_time": "2022-11-26T13:36:38.433252",
     "exception": false,
     "start_time": "2022-11-26T13:36:38.391140",
     "status": "completed"
    },
    "tags": []
   },
   "outputs": [
    {
     "data": {
      "text/html": [
       "<div>\n",
       "<style scoped>\n",
       "    .dataframe tbody tr th:only-of-type {\n",
       "        vertical-align: middle;\n",
       "    }\n",
       "\n",
       "    .dataframe tbody tr th {\n",
       "        vertical-align: top;\n",
       "    }\n",
       "\n",
       "    .dataframe thead th {\n",
       "        text-align: right;\n",
       "    }\n",
       "</style>\n",
       "<table border=\"1\" class=\"dataframe\">\n",
       "  <thead>\n",
       "    <tr style=\"text-align: right;\">\n",
       "      <th></th>\n",
       "      <th>k</th>\n",
       "      <th>idx</th>\n",
       "      <th>ari</th>\n",
       "    </tr>\n",
       "  </thead>\n",
       "  <tbody>\n",
       "    <tr>\n",
       "      <th>0</th>\n",
       "      <td>2</td>\n",
       "      <td>0</td>\n",
       "      <td>0.983684</td>\n",
       "    </tr>\n",
       "    <tr>\n",
       "      <th>1</th>\n",
       "      <td>2</td>\n",
       "      <td>1</td>\n",
       "      <td>0.983684</td>\n",
       "    </tr>\n",
       "    <tr>\n",
       "      <th>2</th>\n",
       "      <td>2</td>\n",
       "      <td>2</td>\n",
       "      <td>0.972821</td>\n",
       "    </tr>\n",
       "    <tr>\n",
       "      <th>3</th>\n",
       "      <td>2</td>\n",
       "      <td>3</td>\n",
       "      <td>0.972821</td>\n",
       "    </tr>\n",
       "    <tr>\n",
       "      <th>4</th>\n",
       "      <td>2</td>\n",
       "      <td>4</td>\n",
       "      <td>1.000000</td>\n",
       "    </tr>\n",
       "  </tbody>\n",
       "</table>\n",
       "</div>"
      ],
      "text/plain": [
       "   k  idx       ari\n",
       "0  2    0  0.983684\n",
       "1  2    1  0.983684\n",
       "2  2    2  0.972821\n",
       "3  2    3  0.972821\n",
       "4  2    4  1.000000"
      ]
     },
     "execution_count": 57,
     "metadata": {},
     "output_type": "execute_result"
    }
   ],
   "source": [
    "parts_ari_df_plot.head()"
   ]
  },
  {
   "cell_type": "code",
   "execution_count": 58,
   "id": "5615e721",
   "metadata": {
    "execution": {
     "iopub.execute_input": "2022-11-26T13:36:38.467863Z",
     "iopub.status.busy": "2022-11-26T13:36:38.467699Z",
     "iopub.status.idle": "2022-11-26T13:36:40.490890Z",
     "shell.execute_reply": "2022-11-26T13:36:40.490535Z"
    },
    "papermill": {
     "duration": 2.042286,
     "end_time": "2022-11-26T13:36:40.492737",
     "exception": false,
     "start_time": "2022-11-26T13:36:38.450451",
     "status": "completed"
    },
    "tags": []
   },
   "outputs": [
    {
     "data": {
      "image/png": "[encoded data removed]",
      "text/plain": [
       "<Figure size 1008x432 with 1 Axes>"
      ]
     },
     "metadata": {},
     "output_type": "display_data"
    }
   ],
   "source": [
    "# with sns.axes_style('whitegrid', {'grid.linestyle': '--'}):\n",
    "with sns.plotting_context(\"talk\", font_scale=0.75), sns.axes_style(\n",
    "    \"whitegrid\", {\"grid.linestyle\": \"--\"}\n",
    "):\n",
    "    fig = plt.figure(figsize=(14, 6))\n",
    "    ax = sns.pointplot(data=parts_ari_df_plot, x=\"k\", y=\"ari\")\n",
    "    ax.set_ylabel(\"Averange ARI\")\n",
    "    ax.set_xlabel(\"Number of clusters ($k$)\")\n",
    "    ax.set_xticklabels(ax.get_xticklabels(), rotation=45)\n",
    "    #     ax.set_ylim(0.0, 1.0)\n",
    "    #     ax.set_xlim(CLUSTERING_OPTIONS['K_MIN'], CLUSTERING_OPTIONS['K_MAX'])\n",
    "    plt.grid(True)\n",
    "    plt.tight_layout()"
   ]
  },
  {
   "cell_type": "code",
   "execution_count": null,
   "id": "74c8dc28",
   "metadata": {
    "papermill": {
     "duration": 0.033016,
     "end_time": "2022-11-26T13:36:40.561180",
     "exception": false,
     "start_time": "2022-11-26T13:36:40.528164",
     "status": "completed"
    },
    "tags": []
   },
   "outputs": [],
   "source": []
  }
 ],
 "metadata": {
  "jupytext": {
   "cell_metadata_filter": "all,-execution,-papermill,-trusted",
   "formats": "ipynb,py//py:percent"
  },
  "kernelspec": {
   "display_name": "Python 3 (ipykernel)",
   "language": "python",
   "name": "python3"
  },
  "language_info": {
   "codemirror_mode": {
    "name": "ipython",
    "version": 3
   },
   "file_extension": ".py",
   "mimetype": "text/x-python",
   "name": "python",
   "nbconvert_exporter": "python",
   "pygments_lexer": "ipython3",
   "version": "3.8.13"
  },
  "papermill": {
   "default_parameters": {},
   "duration": 8037.468706,
   "end_time": "2022-11-26T13:36:40.902738",
   "environment_variables": {},
   "exception": null,
   "input_path": "nbs/13.1_cluster_analysis_null/05-shuffle_lvs/14_01-gmm-pca.ipynb",
   "output_path": "nbs/13.1_cluster_analysis_null/05-shuffle_lvs/14_01-gmm-pca.run.ipynb",
   "parameters": {},
   "start_time": "2022-11-26T11:22:43.434032",
   "version": "2.2.2"
  },
  "toc-autonumbering": true,
  "toc-showcode": false,
  "toc-showmarkdowntxt": false,
  "toc-showtags": false
 },
 "nbformat": 4,
 "nbformat_minor": 5
}
