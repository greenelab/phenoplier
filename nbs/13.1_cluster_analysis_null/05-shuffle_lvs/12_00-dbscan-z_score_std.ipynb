{
 "cells": [
  {
   "cell_type": "markdown",
   "id": "575f3b4f",
   "metadata": {
    "tags": [
     "papermill-error-cell-tag"
    ]
   },
   "source": [
    "<span style=\"color:red; font-family:Helvetica Neue, Helvetica, Arial, sans-serif; font-size:2em;\">An Exception was encountered at '<a href=\"#papermill-error-cell\">In [29]</a>'.</span>"
   ]
  },
  {
   "cell_type": "markdown",
   "id": "a578be8e",
   "metadata": {
    "papermill": {
     "duration": 0.008577,
     "end_time": "2022-09-13T16:53:51.425895",
     "exception": false,
     "start_time": "2022-09-13T16:53:51.417318",
     "status": "completed"
    },
    "tags": []
   },
   "source": [
    "# Description"
   ]
  },
  {
   "cell_type": "markdown",
   "id": "3b8851d5",
   "metadata": {
    "papermill": {
     "duration": 0.005325,
     "end_time": "2022-09-13T16:53:51.436408",
     "exception": false,
     "start_time": "2022-09-13T16:53:51.431083",
     "status": "completed"
    },
    "tags": []
   },
   "source": [
    "It runs DBSCAN on the `z_score_std` version of the data.\n",
    "\n",
    "The notebook explores different values for `min_samples` and `eps` (the main parameters of DBSCAN)."
   ]
  },
  {
   "cell_type": "markdown",
   "id": "c1111950",
   "metadata": {
    "papermill": {
     "duration": 0.00486,
     "end_time": "2022-09-13T16:53:51.446299",
     "exception": false,
     "start_time": "2022-09-13T16:53:51.441439",
     "status": "completed"
    },
    "tags": []
   },
   "source": [
    "# Environment variables"
   ]
  },
  {
   "cell_type": "code",
   "execution_count": 1,
   "id": "2f0d02df",
   "metadata": {
    "execution": {
     "iopub.execute_input": "2022-09-13T16:53:51.458644Z",
     "iopub.status.busy": "2022-09-13T16:53:51.458409Z",
     "iopub.status.idle": "2022-09-13T16:53:51.473478Z",
     "shell.execute_reply": "2022-09-13T16:53:51.473020Z"
    },
    "papermill": {
     "duration": 0.022346,
     "end_time": "2022-09-13T16:53:51.474883",
     "exception": false,
     "start_time": "2022-09-13T16:53:51.452537",
     "status": "completed"
    },
    "tags": []
   },
   "outputs": [
    {
     "data": {
      "text/plain": [
       "3"
      ]
     },
     "metadata": {},
     "output_type": "display_data"
    }
   ],
   "source": [
    "from IPython.display import display\n",
    "\n",
    "import conf\n",
    "\n",
    "N_JOBS = conf.GENERAL[\"N_JOBS\"]\n",
    "display(N_JOBS)"
   ]
  },
  {
   "cell_type": "code",
   "execution_count": 2,
   "id": "3ca48340",
   "metadata": {
    "execution": {
     "iopub.execute_input": "2022-09-13T16:53:51.486724Z",
     "iopub.status.busy": "2022-09-13T16:53:51.486535Z",
     "iopub.status.idle": "2022-09-13T16:53:51.491871Z",
     "shell.execute_reply": "2022-09-13T16:53:51.491199Z"
    },
    "papermill": {
     "duration": 0.012761,
     "end_time": "2022-09-13T16:53:51.493191",
     "exception": false,
     "start_time": "2022-09-13T16:53:51.480430",
     "status": "completed"
    },
    "tags": []
   },
   "outputs": [
    {
     "name": "stdout",
     "output_type": "stream",
     "text": [
      "env: MKL_NUM_THREADS=3\n",
      "env: OPEN_BLAS_NUM_THREADS=3\n",
      "env: NUMEXPR_NUM_THREADS=3\n",
      "env: OMP_NUM_THREADS=3\n"
     ]
    }
   ],
   "source": [
    "%env MKL_NUM_THREADS=$N_JOBS\n",
    "%env OPEN_BLAS_NUM_THREADS=$N_JOBS\n",
    "%env NUMEXPR_NUM_THREADS=$N_JOBS\n",
    "%env OMP_NUM_THREADS=$N_JOBS"
   ]
  },
  {
   "cell_type": "markdown",
   "id": "e0e37a97",
   "metadata": {
    "papermill": {
     "duration": 0.00528,
     "end_time": "2022-09-13T16:53:51.503898",
     "exception": false,
     "start_time": "2022-09-13T16:53:51.498618",
     "status": "completed"
    },
    "tags": []
   },
   "source": [
    "# Modules loading"
   ]
  },
  {
   "cell_type": "code",
   "execution_count": 3,
   "id": "f6370bff",
   "metadata": {
    "execution": {
     "iopub.execute_input": "2022-09-13T16:53:51.515338Z",
     "iopub.status.busy": "2022-09-13T16:53:51.515134Z",
     "iopub.status.idle": "2022-09-13T16:53:51.527918Z",
     "shell.execute_reply": "2022-09-13T16:53:51.527345Z"
    },
    "papermill": {
     "duration": 0.019988,
     "end_time": "2022-09-13T16:53:51.529144",
     "exception": false,
     "start_time": "2022-09-13T16:53:51.509156",
     "status": "completed"
    },
    "tags": []
   },
   "outputs": [],
   "source": [
    "%load_ext autoreload\n",
    "%autoreload 2"
   ]
  },
  {
   "cell_type": "code",
   "execution_count": 4,
   "id": "894618b8",
   "metadata": {
    "execution": {
     "iopub.execute_input": "2022-09-13T16:53:51.540791Z",
     "iopub.status.busy": "2022-09-13T16:53:51.540605Z",
     "iopub.status.idle": "2022-09-13T16:53:52.224584Z",
     "shell.execute_reply": "2022-09-13T16:53:52.224043Z"
    },
    "papermill": {
     "duration": 0.691339,
     "end_time": "2022-09-13T16:53:52.225969",
     "exception": false,
     "start_time": "2022-09-13T16:53:51.534630",
     "status": "completed"
    },
    "tags": []
   },
   "outputs": [],
   "source": [
    "from pathlib import Path\n",
    "\n",
    "import numpy as np\n",
    "import pandas as pd\n",
    "from sklearn.neighbors import NearestNeighbors\n",
    "from sklearn.metrics import pairwise_distances\n",
    "from sklearn.cluster import DBSCAN\n",
    "import matplotlib.pyplot as plt\n",
    "\n",
    "from utils import generate_result_set_name\n",
    "from clustering.ensembles.utils import generate_ensemble"
   ]
  },
  {
   "cell_type": "markdown",
   "id": "8c53091c",
   "metadata": {
    "papermill": {
     "duration": 0.005239,
     "end_time": "2022-09-13T16:53:52.236716",
     "exception": false,
     "start_time": "2022-09-13T16:53:52.231477",
     "status": "completed"
    },
    "tags": []
   },
   "source": [
    "# Global settings"
   ]
  },
  {
   "cell_type": "code",
   "execution_count": 5,
   "id": "0a3a2fd6",
   "metadata": {
    "execution": {
     "iopub.execute_input": "2022-09-13T16:53:52.247999Z",
     "iopub.status.busy": "2022-09-13T16:53:52.247779Z",
     "iopub.status.idle": "2022-09-13T16:53:52.265133Z",
     "shell.execute_reply": "2022-09-13T16:53:52.264646Z"
    },
    "papermill": {
     "duration": 0.024624,
     "end_time": "2022-09-13T16:53:52.266458",
     "exception": false,
     "start_time": "2022-09-13T16:53:52.241834",
     "status": "completed"
    },
    "tags": []
   },
   "outputs": [],
   "source": [
    "np.random.seed(0)"
   ]
  },
  {
   "cell_type": "code",
   "execution_count": 6,
   "id": "fbfe3379",
   "metadata": {
    "execution": {
     "iopub.execute_input": "2022-09-13T16:53:52.278289Z",
     "iopub.status.busy": "2022-09-13T16:53:52.278134Z",
     "iopub.status.idle": "2022-09-13T16:53:52.295469Z",
     "shell.execute_reply": "2022-09-13T16:53:52.294854Z"
    },
    "papermill": {
     "duration": 0.024705,
     "end_time": "2022-09-13T16:53:52.296848",
     "exception": false,
     "start_time": "2022-09-13T16:53:52.272143",
     "status": "completed"
    },
    "tags": []
   },
   "outputs": [],
   "source": [
    "CLUSTERING_ATTRIBUTES_TO_SAVE = [\"n_clusters\"]"
   ]
  },
  {
   "cell_type": "code",
   "execution_count": null,
   "id": "d04d06ee-040f-4f02-9df5-d205350643be",
   "metadata": {},
   "outputs": [],
   "source": [
    "NULL_DIR = conf.RESULTS[\"CLUSTERING_NULL_DIR\"] / \"shuffle_lvs\""
   ]
  },
  {
   "cell_type": "markdown",
   "id": "4d3a9463",
   "metadata": {
    "papermill": {
     "duration": 0.005425,
     "end_time": "2022-09-13T16:53:52.308083",
     "exception": false,
     "start_time": "2022-09-13T16:53:52.302658",
     "status": "completed"
    },
    "tags": []
   },
   "source": [
    "# Settings"
   ]
  },
  {
   "cell_type": "code",
   "execution_count": 7,
   "id": "ff63bee4",
   "metadata": {
    "execution": {
     "iopub.execute_input": "2022-09-13T16:53:52.324502Z",
     "iopub.status.busy": "2022-09-13T16:53:52.324329Z",
     "iopub.status.idle": "2022-09-13T16:53:52.343175Z",
     "shell.execute_reply": "2022-09-13T16:53:52.342505Z"
    },
    "papermill": {
     "duration": 0.031029,
     "end_time": "2022-09-13T16:53:52.344611",
     "exception": false,
     "start_time": "2022-09-13T16:53:52.313582",
     "status": "completed"
    },
    "tags": []
   },
   "outputs": [],
   "source": [
    "# these parameter values are taken from the pre-analysis notebook for this clustering method and data version\n",
    "k_values = np.arange(2, 125 + 1, 1)\n",
    "\n",
    "eps_range_per_k = {\n",
    "    k: (34, 50)\n",
    "    if k < 5\n",
    "    else (35, 50)\n",
    "    if k < 15\n",
    "    else (37, 58)\n",
    "    if k < 75\n",
    "    else (38, 58)\n",
    "    if k < 100\n",
    "    else (39, 60)\n",
    "    for k in k_values\n",
    "}"
   ]
  },
  {
   "cell_type": "markdown",
   "id": "f8b639db",
   "metadata": {
    "papermill": {
     "duration": 0.005419,
     "end_time": "2022-09-13T16:53:52.355825",
     "exception": false,
     "start_time": "2022-09-13T16:53:52.350406",
     "status": "completed"
    },
    "tags": []
   },
   "source": [
    "# Data version: z_score_std"
   ]
  },
  {
   "cell_type": "markdown",
   "id": "66ed5a15",
   "metadata": {
    "papermill": {
     "duration": 0.005086,
     "end_time": "2022-09-13T16:53:52.366262",
     "exception": false,
     "start_time": "2022-09-13T16:53:52.361176",
     "status": "completed"
    },
    "tags": []
   },
   "source": [
    "## Settings"
   ]
  },
  {
   "cell_type": "code",
   "execution_count": 8,
   "id": "664449f0",
   "metadata": {
    "execution": {
     "iopub.execute_input": "2022-09-13T16:53:52.378383Z",
     "iopub.status.busy": "2022-09-13T16:53:52.377640Z",
     "iopub.status.idle": "2022-09-13T16:53:52.395154Z",
     "shell.execute_reply": "2022-09-13T16:53:52.394507Z"
    },
    "papermill": {
     "duration": 0.024871,
     "end_time": "2022-09-13T16:53:52.396579",
     "exception": false,
     "start_time": "2022-09-13T16:53:52.371708",
     "status": "completed"
    },
    "tags": []
   },
   "outputs": [],
   "source": [
    "INPUT_SUBSET = \"z_score_std\""
   ]
  },
  {
   "cell_type": "code",
   "execution_count": 9,
   "id": "6fdcb0cf",
   "metadata": {
    "execution": {
     "iopub.execute_input": "2022-09-13T16:53:52.409961Z",
     "iopub.status.busy": "2022-09-13T16:53:52.409492Z",
     "iopub.status.idle": "2022-09-13T16:53:52.426840Z",
     "shell.execute_reply": "2022-09-13T16:53:52.426313Z"
    },
    "papermill": {
     "duration": 0.025563,
     "end_time": "2022-09-13T16:53:52.428294",
     "exception": false,
     "start_time": "2022-09-13T16:53:52.402731",
     "status": "completed"
    },
    "tags": []
   },
   "outputs": [],
   "source": [
    "INPUT_STEM = \"projection-smultixcan-efo_partial-mashr-zscores\""
   ]
  },
  {
   "cell_type": "code",
   "execution_count": 10,
   "id": "9056cc4f",
   "metadata": {
    "execution": {
     "iopub.execute_input": "2022-09-13T16:53:52.440603Z",
     "iopub.status.busy": "2022-09-13T16:53:52.440438Z",
     "iopub.status.idle": "2022-09-13T16:53:52.460354Z",
     "shell.execute_reply": "2022-09-13T16:53:52.459664Z"
    },
    "papermill": {
     "duration": 0.027552,
     "end_time": "2022-09-13T16:53:52.461694",
     "exception": false,
     "start_time": "2022-09-13T16:53:52.434142",
     "status": "completed"
    },
    "tags": []
   },
   "outputs": [
    {
     "data": {
      "text/plain": [
       "PosixPath('/opt/data/results/clustering/null_sims/data_transformations/z_score_std/z_score_std-projection-smultixcan-efo_partial-mashr-zscores.pkl')"
      ]
     },
     "metadata": {},
     "output_type": "display_data"
    },
    {
     "data": {
      "text/plain": [
       "'z_score_std-projection-smultixcan-efo_partial-mashr-zscores'"
      ]
     },
     "metadata": {},
     "output_type": "display_data"
    }
   ],
   "source": [
    "input_filepath = Path(\n",
    "    NULL_DIR,\n",
    "    \"data_transformations\",\n",
    "    INPUT_SUBSET,\n",
    "    f\"{INPUT_SUBSET}-{INPUT_STEM}.pkl\",\n",
    ").resolve()\n",
    "display(input_filepath)\n",
    "\n",
    "assert input_filepath.exists(), \"Input file does not exist\"\n",
    "\n",
    "input_filepath_stem = input_filepath.stem\n",
    "display(input_filepath_stem)"
   ]
  },
  {
   "cell_type": "code",
   "execution_count": 11,
   "id": "2d23ee8e",
   "metadata": {
    "execution": {
     "iopub.execute_input": "2022-09-13T16:53:52.474433Z",
     "iopub.status.busy": "2022-09-13T16:53:52.474267Z",
     "iopub.status.idle": "2022-09-13T16:53:52.493887Z",
     "shell.execute_reply": "2022-09-13T16:53:52.493356Z"
    },
    "papermill": {
     "duration": 0.027483,
     "end_time": "2022-09-13T16:53:52.495171",
     "exception": false,
     "start_time": "2022-09-13T16:53:52.467688",
     "status": "completed"
    },
    "tags": []
   },
   "outputs": [
    {
     "data": {
      "text/plain": [
       "PosixPath('/opt/data/results/clustering/null_sims/runs/z_score_std-projection-smultixcan-efo_partial-mashr-zscores')"
      ]
     },
     "metadata": {},
     "output_type": "display_data"
    }
   ],
   "source": [
    "# output dir for this notebook\n",
    "RESULTS_DIR = Path(\n",
    "    NULL_DIR,\n",
    "    \"runs\",\n",
    "    f\"{INPUT_SUBSET}-{INPUT_STEM}\",\n",
    ").resolve()\n",
    "RESULTS_DIR.mkdir(parents=True, exist_ok=True)\n",
    "\n",
    "display(RESULTS_DIR)"
   ]
  },
  {
   "cell_type": "markdown",
   "id": "5b37e7d8",
   "metadata": {
    "papermill": {
     "duration": 0.005811,
     "end_time": "2022-09-13T16:53:52.507097",
     "exception": false,
     "start_time": "2022-09-13T16:53:52.501286",
     "status": "completed"
    },
    "tags": []
   },
   "source": [
    "## Load input file"
   ]
  },
  {
   "cell_type": "code",
   "execution_count": 12,
   "id": "b1cce55e",
   "metadata": {
    "execution": {
     "iopub.execute_input": "2022-09-13T16:53:52.519239Z",
     "iopub.status.busy": "2022-09-13T16:53:52.519079Z",
     "iopub.status.idle": "2022-09-13T16:53:52.552110Z",
     "shell.execute_reply": "2022-09-13T16:53:52.551579Z"
    },
    "papermill": {
     "duration": 0.040915,
     "end_time": "2022-09-13T16:53:52.553660",
     "exception": false,
     "start_time": "2022-09-13T16:53:52.512745",
     "status": "completed"
    },
    "tags": []
   },
   "outputs": [],
   "source": [
    "data = pd.read_pickle(input_filepath)"
   ]
  },
  {
   "cell_type": "code",
   "execution_count": 13,
   "id": "198ee4d9",
   "metadata": {
    "execution": {
     "iopub.execute_input": "2022-09-13T16:53:52.567098Z",
     "iopub.status.busy": "2022-09-13T16:53:52.566898Z",
     "iopub.status.idle": "2022-09-13T16:53:52.588421Z",
     "shell.execute_reply": "2022-09-13T16:53:52.587905Z"
    },
    "papermill": {
     "duration": 0.02977,
     "end_time": "2022-09-13T16:53:52.589705",
     "exception": false,
     "start_time": "2022-09-13T16:53:52.559935",
     "status": "completed"
    },
    "tags": []
   },
   "outputs": [
    {
     "data": {
      "text/plain": [
       "(3752, 987)"
      ]
     },
     "execution_count": 13,
     "metadata": {},
     "output_type": "execute_result"
    }
   ],
   "source": [
    "data.shape"
   ]
  },
  {
   "cell_type": "code",
   "execution_count": 14,
   "id": "49f45a11",
   "metadata": {
    "execution": {
     "iopub.execute_input": "2022-09-13T16:53:52.603227Z",
     "iopub.status.busy": "2022-09-13T16:53:52.603015Z",
     "iopub.status.idle": "2022-09-13T16:53:52.636783Z",
     "shell.execute_reply": "2022-09-13T16:53:52.636271Z"
    },
    "papermill": {
     "duration": 0.041954,
     "end_time": "2022-09-13T16:53:52.638096",
     "exception": false,
     "start_time": "2022-09-13T16:53:52.596142",
     "status": "completed"
    },
    "tags": []
   },
   "outputs": [
    {
     "data": {
      "text/html": [
       "<div>\n",
       "<style scoped>\n",
       "    .dataframe tbody tr th:only-of-type {\n",
       "        vertical-align: middle;\n",
       "    }\n",
       "\n",
       "    .dataframe tbody tr th {\n",
       "        vertical-align: top;\n",
       "    }\n",
       "\n",
       "    .dataframe thead th {\n",
       "        text-align: right;\n",
       "    }\n",
       "</style>\n",
       "<table border=\"1\" class=\"dataframe\">\n",
       "  <thead>\n",
       "    <tr style=\"text-align: right;\">\n",
       "      <th></th>\n",
       "      <th>LV1</th>\n",
       "      <th>LV2</th>\n",
       "      <th>LV3</th>\n",
       "      <th>LV4</th>\n",
       "      <th>LV5</th>\n",
       "      <th>LV6</th>\n",
       "      <th>LV7</th>\n",
       "      <th>LV8</th>\n",
       "      <th>LV9</th>\n",
       "      <th>LV10</th>\n",
       "      <th>...</th>\n",
       "      <th>LV978</th>\n",
       "      <th>LV979</th>\n",
       "      <th>LV980</th>\n",
       "      <th>LV981</th>\n",
       "      <th>LV982</th>\n",
       "      <th>LV983</th>\n",
       "      <th>LV984</th>\n",
       "      <th>LV985</th>\n",
       "      <th>LV986</th>\n",
       "      <th>LV987</th>\n",
       "    </tr>\n",
       "  </thead>\n",
       "  <tbody>\n",
       "    <tr>\n",
       "      <th>100001_raw-Food_weight</th>\n",
       "      <td>-0.175043</td>\n",
       "      <td>-0.710171</td>\n",
       "      <td>-1.000846</td>\n",
       "      <td>0.693026</td>\n",
       "      <td>0.409413</td>\n",
       "      <td>0.642958</td>\n",
       "      <td>1.767862</td>\n",
       "      <td>-1.070425</td>\n",
       "      <td>0.809395</td>\n",
       "      <td>-1.555050</td>\n",
       "      <td>...</td>\n",
       "      <td>-0.932802</td>\n",
       "      <td>0.371349</td>\n",
       "      <td>-0.521787</td>\n",
       "      <td>-0.881136</td>\n",
       "      <td>-1.193309</td>\n",
       "      <td>-0.257883</td>\n",
       "      <td>1.382268</td>\n",
       "      <td>0.066549</td>\n",
       "      <td>-0.866086</td>\n",
       "      <td>0.847997</td>\n",
       "    </tr>\n",
       "    <tr>\n",
       "      <th>100002_raw-Energy</th>\n",
       "      <td>0.531227</td>\n",
       "      <td>0.894062</td>\n",
       "      <td>1.191552</td>\n",
       "      <td>-0.143922</td>\n",
       "      <td>0.217867</td>\n",
       "      <td>0.529878</td>\n",
       "      <td>0.219561</td>\n",
       "      <td>-1.538143</td>\n",
       "      <td>-0.166704</td>\n",
       "      <td>1.042749</td>\n",
       "      <td>...</td>\n",
       "      <td>-0.601329</td>\n",
       "      <td>0.625139</td>\n",
       "      <td>-0.113048</td>\n",
       "      <td>-1.477163</td>\n",
       "      <td>0.746773</td>\n",
       "      <td>0.316892</td>\n",
       "      <td>-0.660407</td>\n",
       "      <td>1.501067</td>\n",
       "      <td>0.543744</td>\n",
       "      <td>1.094294</td>\n",
       "    </tr>\n",
       "    <tr>\n",
       "      <th>100003_raw-Protein</th>\n",
       "      <td>0.405395</td>\n",
       "      <td>0.925288</td>\n",
       "      <td>-0.339507</td>\n",
       "      <td>0.799476</td>\n",
       "      <td>-0.512075</td>\n",
       "      <td>0.586632</td>\n",
       "      <td>0.361706</td>\n",
       "      <td>0.226860</td>\n",
       "      <td>1.208289</td>\n",
       "      <td>-1.880931</td>\n",
       "      <td>...</td>\n",
       "      <td>-0.489171</td>\n",
       "      <td>0.276717</td>\n",
       "      <td>-0.159505</td>\n",
       "      <td>-1.271106</td>\n",
       "      <td>0.300351</td>\n",
       "      <td>0.595915</td>\n",
       "      <td>0.509020</td>\n",
       "      <td>-0.127540</td>\n",
       "      <td>-0.811987</td>\n",
       "      <td>-1.108812</td>\n",
       "    </tr>\n",
       "    <tr>\n",
       "      <th>100004_raw-Fat</th>\n",
       "      <td>-0.156230</td>\n",
       "      <td>0.881426</td>\n",
       "      <td>0.395527</td>\n",
       "      <td>-1.570256</td>\n",
       "      <td>1.240955</td>\n",
       "      <td>2.064595</td>\n",
       "      <td>-0.547373</td>\n",
       "      <td>-1.228389</td>\n",
       "      <td>0.319684</td>\n",
       "      <td>0.858253</td>\n",
       "      <td>...</td>\n",
       "      <td>-0.407151</td>\n",
       "      <td>-1.217662</td>\n",
       "      <td>-0.361052</td>\n",
       "      <td>0.813221</td>\n",
       "      <td>-0.692981</td>\n",
       "      <td>1.099523</td>\n",
       "      <td>-0.017366</td>\n",
       "      <td>0.361278</td>\n",
       "      <td>-0.017222</td>\n",
       "      <td>1.750511</td>\n",
       "    </tr>\n",
       "    <tr>\n",
       "      <th>100005_raw-Carbohydrate</th>\n",
       "      <td>-0.142531</td>\n",
       "      <td>-0.521907</td>\n",
       "      <td>1.069304</td>\n",
       "      <td>0.548122</td>\n",
       "      <td>-0.422146</td>\n",
       "      <td>-1.330718</td>\n",
       "      <td>-1.260872</td>\n",
       "      <td>1.003617</td>\n",
       "      <td>1.266289</td>\n",
       "      <td>0.065408</td>\n",
       "      <td>...</td>\n",
       "      <td>1.506698</td>\n",
       "      <td>-0.069854</td>\n",
       "      <td>-0.084662</td>\n",
       "      <td>-1.269536</td>\n",
       "      <td>-0.421185</td>\n",
       "      <td>0.431180</td>\n",
       "      <td>1.673162</td>\n",
       "      <td>-0.954336</td>\n",
       "      <td>0.026593</td>\n",
       "      <td>0.655359</td>\n",
       "    </tr>\n",
       "  </tbody>\n",
       "</table>\n",
       "<p>5 rows × 987 columns</p>\n",
       "</div>"
      ],
      "text/plain": [
       "                              LV1       LV2       LV3       LV4       LV5  \\\n",
       "100001_raw-Food_weight  -0.175043 -0.710171 -1.000846  0.693026  0.409413   \n",
       "100002_raw-Energy        0.531227  0.894062  1.191552 -0.143922  0.217867   \n",
       "100003_raw-Protein       0.405395  0.925288 -0.339507  0.799476 -0.512075   \n",
       "100004_raw-Fat          -0.156230  0.881426  0.395527 -1.570256  1.240955   \n",
       "100005_raw-Carbohydrate -0.142531 -0.521907  1.069304  0.548122 -0.422146   \n",
       "\n",
       "                              LV6       LV7       LV8       LV9      LV10  \\\n",
       "100001_raw-Food_weight   0.642958  1.767862 -1.070425  0.809395 -1.555050   \n",
       "100002_raw-Energy        0.529878  0.219561 -1.538143 -0.166704  1.042749   \n",
       "100003_raw-Protein       0.586632  0.361706  0.226860  1.208289 -1.880931   \n",
       "100004_raw-Fat           2.064595 -0.547373 -1.228389  0.319684  0.858253   \n",
       "100005_raw-Carbohydrate -1.330718 -1.260872  1.003617  1.266289  0.065408   \n",
       "\n",
       "                         ...     LV978     LV979     LV980     LV981  \\\n",
       "100001_raw-Food_weight   ... -0.932802  0.371349 -0.521787 -0.881136   \n",
       "100002_raw-Energy        ... -0.601329  0.625139 -0.113048 -1.477163   \n",
       "100003_raw-Protein       ... -0.489171  0.276717 -0.159505 -1.271106   \n",
       "100004_raw-Fat           ... -0.407151 -1.217662 -0.361052  0.813221   \n",
       "100005_raw-Carbohydrate  ...  1.506698 -0.069854 -0.084662 -1.269536   \n",
       "\n",
       "                            LV982     LV983     LV984     LV985     LV986  \\\n",
       "100001_raw-Food_weight  -1.193309 -0.257883  1.382268  0.066549 -0.866086   \n",
       "100002_raw-Energy        0.746773  0.316892 -0.660407  1.501067  0.543744   \n",
       "100003_raw-Protein       0.300351  0.595915  0.509020 -0.127540 -0.811987   \n",
       "100004_raw-Fat          -0.692981  1.099523 -0.017366  0.361278 -0.017222   \n",
       "100005_raw-Carbohydrate -0.421185  0.431180  1.673162 -0.954336  0.026593   \n",
       "\n",
       "                            LV987  \n",
       "100001_raw-Food_weight   0.847997  \n",
       "100002_raw-Energy        1.094294  \n",
       "100003_raw-Protein      -1.108812  \n",
       "100004_raw-Fat           1.750511  \n",
       "100005_raw-Carbohydrate  0.655359  \n",
       "\n",
       "[5 rows x 987 columns]"
      ]
     },
     "execution_count": 14,
     "metadata": {},
     "output_type": "execute_result"
    }
   ],
   "source": [
    "data.head()"
   ]
  },
  {
   "cell_type": "code",
   "execution_count": 15,
   "id": "b94669aa",
   "metadata": {
    "execution": {
     "iopub.execute_input": "2022-09-13T16:53:52.651269Z",
     "iopub.status.busy": "2022-09-13T16:53:52.651105Z",
     "iopub.status.idle": "2022-09-13T16:53:52.675252Z",
     "shell.execute_reply": "2022-09-13T16:53:52.674624Z"
    },
    "papermill": {
     "duration": 0.032414,
     "end_time": "2022-09-13T16:53:52.676765",
     "exception": false,
     "start_time": "2022-09-13T16:53:52.644351",
     "status": "completed"
    },
    "tags": []
   },
   "outputs": [],
   "source": [
    "assert not data.isna().any().any()"
   ]
  },
  {
   "cell_type": "markdown",
   "id": "fff7c350",
   "metadata": {
    "papermill": {
     "duration": 0.006175,
     "end_time": "2022-09-13T16:53:52.689421",
     "exception": false,
     "start_time": "2022-09-13T16:53:52.683246",
     "status": "completed"
    },
    "tags": []
   },
   "source": [
    "## Clustering"
   ]
  },
  {
   "cell_type": "markdown",
   "id": "ce9b2ec4",
   "metadata": {
    "papermill": {
     "duration": 0.006143,
     "end_time": "2022-09-13T16:53:52.701924",
     "exception": false,
     "start_time": "2022-09-13T16:53:52.695781",
     "status": "completed"
    },
    "tags": []
   },
   "source": [
    "### Generate clusterers"
   ]
  },
  {
   "cell_type": "code",
   "execution_count": 16,
   "id": "f4b4b660",
   "metadata": {
    "execution": {
     "iopub.execute_input": "2022-09-13T16:53:52.714473Z",
     "iopub.status.busy": "2022-09-13T16:53:52.714262Z",
     "iopub.status.idle": "2022-09-13T16:53:52.737893Z",
     "shell.execute_reply": "2022-09-13T16:53:52.737453Z"
    },
    "papermill": {
     "duration": 0.031296,
     "end_time": "2022-09-13T16:53:52.739209",
     "exception": false,
     "start_time": "2022-09-13T16:53:52.707913",
     "status": "completed"
    },
    "tags": []
   },
   "outputs": [
    {
     "data": {
      "text/plain": [
       "{'K_RANGE': array([  2,   3,   4,   5,   6,   7,   8,   9,  10,  11,  12,  13,  14,\n",
       "         15,  16,  17,  18,  19,  20,  21,  22,  23,  24,  25,  26,  27,\n",
       "         28,  29,  30,  31,  32,  33,  34,  35,  36,  37,  38,  39,  40,\n",
       "         41,  42,  43,  44,  45,  46,  47,  48,  49,  50,  51,  52,  53,\n",
       "         54,  55,  56,  57,  58,  59,  60,  61,  62,  63,  64,  65,  66,\n",
       "         67,  68,  69,  70,  71,  72,  73,  74,  75,  76,  77,  78,  79,\n",
       "         80,  81,  82,  83,  84,  85,  86,  87,  88,  89,  90,  91,  92,\n",
       "         93,  94,  95,  96,  97,  98,  99, 100, 101, 102, 103, 104, 105,\n",
       "        106, 107, 108, 109, 110, 111, 112, 113, 114, 115, 116, 117, 118,\n",
       "        119, 120, 121, 122, 123, 124, 125]),\n",
       " 'EPS_RANGE_PER_K': {2: (34, 50),\n",
       "  3: (34, 50),\n",
       "  4: (34, 50),\n",
       "  5: (35, 50),\n",
       "  6: (35, 50),\n",
       "  7: (35, 50),\n",
       "  8: (35, 50),\n",
       "  9: (35, 50),\n",
       "  10: (35, 50),\n",
       "  11: (35, 50),\n",
       "  12: (35, 50),\n",
       "  13: (35, 50),\n",
       "  14: (35, 50),\n",
       "  15: (37, 58),\n",
       "  16: (37, 58),\n",
       "  17: (37, 58),\n",
       "  18: (37, 58),\n",
       "  19: (37, 58),\n",
       "  20: (37, 58),\n",
       "  21: (37, 58),\n",
       "  22: (37, 58),\n",
       "  23: (37, 58),\n",
       "  24: (37, 58),\n",
       "  25: (37, 58),\n",
       "  26: (37, 58),\n",
       "  27: (37, 58),\n",
       "  28: (37, 58),\n",
       "  29: (37, 58),\n",
       "  30: (37, 58),\n",
       "  31: (37, 58),\n",
       "  32: (37, 58),\n",
       "  33: (37, 58),\n",
       "  34: (37, 58),\n",
       "  35: (37, 58),\n",
       "  36: (37, 58),\n",
       "  37: (37, 58),\n",
       "  38: (37, 58),\n",
       "  39: (37, 58),\n",
       "  40: (37, 58),\n",
       "  41: (37, 58),\n",
       "  42: (37, 58),\n",
       "  43: (37, 58),\n",
       "  44: (37, 58),\n",
       "  45: (37, 58),\n",
       "  46: (37, 58),\n",
       "  47: (37, 58),\n",
       "  48: (37, 58),\n",
       "  49: (37, 58),\n",
       "  50: (37, 58),\n",
       "  51: (37, 58),\n",
       "  52: (37, 58),\n",
       "  53: (37, 58),\n",
       "  54: (37, 58),\n",
       "  55: (37, 58),\n",
       "  56: (37, 58),\n",
       "  57: (37, 58),\n",
       "  58: (37, 58),\n",
       "  59: (37, 58),\n",
       "  60: (37, 58),\n",
       "  61: (37, 58),\n",
       "  62: (37, 58),\n",
       "  63: (37, 58),\n",
       "  64: (37, 58),\n",
       "  65: (37, 58),\n",
       "  66: (37, 58),\n",
       "  67: (37, 58),\n",
       "  68: (37, 58),\n",
       "  69: (37, 58),\n",
       "  70: (37, 58),\n",
       "  71: (37, 58),\n",
       "  72: (37, 58),\n",
       "  73: (37, 58),\n",
       "  74: (37, 58),\n",
       "  75: (38, 58),\n",
       "  76: (38, 58),\n",
       "  77: (38, 58),\n",
       "  78: (38, 58),\n",
       "  79: (38, 58),\n",
       "  80: (38, 58),\n",
       "  81: (38, 58),\n",
       "  82: (38, 58),\n",
       "  83: (38, 58),\n",
       "  84: (38, 58),\n",
       "  85: (38, 58),\n",
       "  86: (38, 58),\n",
       "  87: (38, 58),\n",
       "  88: (38, 58),\n",
       "  89: (38, 58),\n",
       "  90: (38, 58),\n",
       "  91: (38, 58),\n",
       "  92: (38, 58),\n",
       "  93: (38, 58),\n",
       "  94: (38, 58),\n",
       "  95: (38, 58),\n",
       "  96: (38, 58),\n",
       "  97: (38, 58),\n",
       "  98: (38, 58),\n",
       "  99: (38, 58),\n",
       "  100: (39, 60),\n",
       "  101: (39, 60),\n",
       "  102: (39, 60),\n",
       "  103: (39, 60),\n",
       "  104: (39, 60),\n",
       "  105: (39, 60),\n",
       "  106: (39, 60),\n",
       "  107: (39, 60),\n",
       "  108: (39, 60),\n",
       "  109: (39, 60),\n",
       "  110: (39, 60),\n",
       "  111: (39, 60),\n",
       "  112: (39, 60),\n",
       "  113: (39, 60),\n",
       "  114: (39, 60),\n",
       "  115: (39, 60),\n",
       "  116: (39, 60),\n",
       "  117: (39, 60),\n",
       "  118: (39, 60),\n",
       "  119: (39, 60),\n",
       "  120: (39, 60),\n",
       "  121: (39, 60),\n",
       "  122: (39, 60),\n",
       "  123: (39, 60),\n",
       "  124: (39, 60),\n",
       "  125: (39, 60)},\n",
       " 'EPS_STEP': 33,\n",
       " 'METRIC': 'euclidean'}"
      ]
     },
     "metadata": {},
     "output_type": "display_data"
    }
   ],
   "source": [
    "CLUSTERING_OPTIONS = {}\n",
    "\n",
    "# K_RANGE is the min_samples parameter in DBSCAN (sklearn)\n",
    "CLUSTERING_OPTIONS[\"K_RANGE\"] = k_values\n",
    "CLUSTERING_OPTIONS[\"EPS_RANGE_PER_K\"] = eps_range_per_k\n",
    "CLUSTERING_OPTIONS[\"EPS_STEP\"] = 33\n",
    "CLUSTERING_OPTIONS[\"METRIC\"] = \"euclidean\"\n",
    "\n",
    "display(CLUSTERING_OPTIONS)"
   ]
  },
  {
   "cell_type": "code",
   "execution_count": 17,
   "id": "d5633da8",
   "metadata": {
    "execution": {
     "iopub.execute_input": "2022-09-13T16:53:52.752457Z",
     "iopub.status.busy": "2022-09-13T16:53:52.752267Z",
     "iopub.status.idle": "2022-09-13T16:53:52.786415Z",
     "shell.execute_reply": "2022-09-13T16:53:52.785881Z"
    },
    "papermill": {
     "duration": 0.04251,
     "end_time": "2022-09-13T16:53:52.787904",
     "exception": false,
     "start_time": "2022-09-13T16:53:52.745394",
     "status": "completed"
    },
    "tags": []
   },
   "outputs": [],
   "source": [
    "CLUSTERERS = {}\n",
    "\n",
    "idx = 0\n",
    "\n",
    "for k in CLUSTERING_OPTIONS[\"K_RANGE\"]:\n",
    "    eps_range = CLUSTERING_OPTIONS[\"EPS_RANGE_PER_K\"][k]\n",
    "    eps_values = np.linspace(eps_range[0], eps_range[1], CLUSTERING_OPTIONS[\"EPS_STEP\"])\n",
    "\n",
    "    for eps in eps_values:\n",
    "        clus = DBSCAN(min_samples=k, eps=eps, metric=\"precomputed\", n_jobs=N_JOBS)\n",
    "\n",
    "        method_name = type(clus).__name__\n",
    "        CLUSTERERS[f\"{method_name} #{idx}\"] = clus\n",
    "\n",
    "        idx = idx + 1"
   ]
  },
  {
   "cell_type": "code",
   "execution_count": 18,
   "id": "f9808641",
   "metadata": {
    "execution": {
     "iopub.execute_input": "2022-09-13T16:53:52.800714Z",
     "iopub.status.busy": "2022-09-13T16:53:52.800552Z",
     "iopub.status.idle": "2022-09-13T16:53:52.818396Z",
     "shell.execute_reply": "2022-09-13T16:53:52.817974Z"
    },
    "papermill": {
     "duration": 0.025656,
     "end_time": "2022-09-13T16:53:52.819629",
     "exception": false,
     "start_time": "2022-09-13T16:53:52.793973",
     "status": "completed"
    },
    "tags": []
   },
   "outputs": [
    {
     "data": {
      "text/plain": [
       "4092"
      ]
     },
     "metadata": {},
     "output_type": "display_data"
    }
   ],
   "source": [
    "display(len(CLUSTERERS))"
   ]
  },
  {
   "cell_type": "code",
   "execution_count": 19,
   "id": "8145bbf9",
   "metadata": {
    "execution": {
     "iopub.execute_input": "2022-09-13T16:53:52.833280Z",
     "iopub.status.busy": "2022-09-13T16:53:52.832571Z",
     "iopub.status.idle": "2022-09-13T16:53:52.852465Z",
     "shell.execute_reply": "2022-09-13T16:53:52.852008Z"
    },
    "papermill": {
     "duration": 0.027788,
     "end_time": "2022-09-13T16:53:52.853756",
     "exception": false,
     "start_time": "2022-09-13T16:53:52.825968",
     "status": "completed"
    },
    "tags": []
   },
   "outputs": [
    {
     "data": {
      "text/plain": [
       "('DBSCAN #0', DBSCAN(eps=34.0, metric='precomputed', min_samples=2, n_jobs=3))"
      ]
     },
     "metadata": {},
     "output_type": "display_data"
    },
    {
     "data": {
      "text/plain": [
       "('DBSCAN #1', DBSCAN(eps=34.5, metric='precomputed', min_samples=2, n_jobs=3))"
      ]
     },
     "metadata": {},
     "output_type": "display_data"
    }
   ],
   "source": [
    "_iter = iter(CLUSTERERS.items())\n",
    "display(next(_iter))\n",
    "display(next(_iter))"
   ]
  },
  {
   "cell_type": "code",
   "execution_count": 20,
   "id": "c3aaa05e",
   "metadata": {
    "execution": {
     "iopub.execute_input": "2022-09-13T16:53:52.867655Z",
     "iopub.status.busy": "2022-09-13T16:53:52.867482Z",
     "iopub.status.idle": "2022-09-13T16:53:52.885585Z",
     "shell.execute_reply": "2022-09-13T16:53:52.885122Z"
    },
    "papermill": {
     "duration": 0.026615,
     "end_time": "2022-09-13T16:53:52.886953",
     "exception": false,
     "start_time": "2022-09-13T16:53:52.860338",
     "status": "completed"
    },
    "tags": []
   },
   "outputs": [
    {
     "data": {
      "text/plain": [
       "'DBSCAN'"
      ]
     },
     "metadata": {},
     "output_type": "display_data"
    }
   ],
   "source": [
    "clustering_method_name = method_name\n",
    "display(clustering_method_name)"
   ]
  },
  {
   "cell_type": "markdown",
   "id": "79473549",
   "metadata": {
    "papermill": {
     "duration": 0.006577,
     "end_time": "2022-09-13T16:53:52.900370",
     "exception": false,
     "start_time": "2022-09-13T16:53:52.893793",
     "status": "completed"
    },
    "tags": []
   },
   "source": [
    "### Generate ensemble"
   ]
  },
  {
   "cell_type": "code",
   "execution_count": 21,
   "id": "315406b1",
   "metadata": {
    "execution": {
     "iopub.execute_input": "2022-09-13T16:53:52.914146Z",
     "iopub.status.busy": "2022-09-13T16:53:52.913956Z",
     "iopub.status.idle": "2022-09-13T16:53:53.144781Z",
     "shell.execute_reply": "2022-09-13T16:53:53.144237Z"
    },
    "papermill": {
     "duration": 0.239172,
     "end_time": "2022-09-13T16:53:53.146218",
     "exception": false,
     "start_time": "2022-09-13T16:53:52.907046",
     "status": "completed"
    },
    "tags": []
   },
   "outputs": [],
   "source": [
    "data_dist = pairwise_distances(data, metric=CLUSTERING_OPTIONS[\"METRIC\"])"
   ]
  },
  {
   "cell_type": "code",
   "execution_count": 22,
   "id": "1198facd",
   "metadata": {
    "execution": {
     "iopub.execute_input": "2022-09-13T16:53:53.159239Z",
     "iopub.status.busy": "2022-09-13T16:53:53.159044Z",
     "iopub.status.idle": "2022-09-13T16:53:53.177386Z",
     "shell.execute_reply": "2022-09-13T16:53:53.176924Z"
    },
    "papermill": {
     "duration": 0.026348,
     "end_time": "2022-09-13T16:53:53.178769",
     "exception": false,
     "start_time": "2022-09-13T16:53:53.152421",
     "status": "completed"
    },
    "tags": []
   },
   "outputs": [
    {
     "data": {
      "text/plain": [
       "(3752, 3752)"
      ]
     },
     "execution_count": 22,
     "metadata": {},
     "output_type": "execute_result"
    }
   ],
   "source": [
    "data_dist.shape"
   ]
  },
  {
   "cell_type": "code",
   "execution_count": 23,
   "id": "ba695e19",
   "metadata": {
    "execution": {
     "iopub.execute_input": "2022-09-13T16:53:53.192685Z",
     "iopub.status.busy": "2022-09-13T16:53:53.192520Z",
     "iopub.status.idle": "2022-09-13T16:53:53.787175Z",
     "shell.execute_reply": "2022-09-13T16:53:53.786703Z"
    },
    "papermill": {
     "duration": 0.603215,
     "end_time": "2022-09-13T16:53:53.788599",
     "exception": false,
     "start_time": "2022-09-13T16:53:53.185384",
     "status": "completed"
    },
    "tags": []
   },
   "outputs": [
    {
     "data": {
      "text/plain": [
       "count            14077504.0\n",
       "mean     44.253032582493354\n",
       "std       3.958422459243249\n",
       "min                     0.0\n",
       "25%       42.96210983704978\n",
       "50%       43.88530887125711\n",
       "75%       44.85928523200602\n",
       "max      114.65122575216462\n",
       "dtype: object"
      ]
     },
     "execution_count": 23,
     "metadata": {},
     "output_type": "execute_result"
    }
   ],
   "source": [
    "pd.Series(data_dist.flatten()).describe().apply(str)"
   ]
  },
  {
   "cell_type": "code",
   "execution_count": 24,
   "id": "2aedb608",
   "metadata": {
    "execution": {
     "iopub.execute_input": "2022-09-13T16:53:53.802625Z",
     "iopub.status.busy": "2022-09-13T16:53:53.802464Z",
     "iopub.status.idle": "2022-09-13T17:06:27.316545Z",
     "shell.execute_reply": "2022-09-13T17:06:27.315996Z"
    },
    "papermill": {
     "duration": 753.522549,
     "end_time": "2022-09-13T17:06:27.317997",
     "exception": false,
     "start_time": "2022-09-13T16:53:53.795448",
     "status": "completed"
    },
    "tags": []
   },
   "outputs": [
    {
     "name": "stderr",
     "output_type": "stream",
     "text": [
      "100%|██████████| 4092/4092 [12:33<00:00,  5.43it/s]\n"
     ]
    }
   ],
   "source": [
    "ensemble = generate_ensemble(\n",
    "    data_dist,\n",
    "    CLUSTERERS,\n",
    "    attributes=CLUSTERING_ATTRIBUTES_TO_SAVE,\n",
    ")"
   ]
  },
  {
   "cell_type": "code",
   "execution_count": 25,
   "id": "599a3677",
   "metadata": {
    "execution": {
     "iopub.execute_input": "2022-09-13T17:06:27.611996Z",
     "iopub.status.busy": "2022-09-13T17:06:27.611790Z",
     "iopub.status.idle": "2022-09-13T17:06:27.629825Z",
     "shell.execute_reply": "2022-09-13T17:06:27.629231Z"
    },
    "papermill": {
     "duration": 0.148546,
     "end_time": "2022-09-13T17:06:27.631062",
     "exception": false,
     "start_time": "2022-09-13T17:06:27.482516",
     "status": "completed"
    },
    "tags": []
   },
   "outputs": [
    {
     "data": {
      "text/plain": [
       "(0, 4)"
      ]
     },
     "execution_count": 25,
     "metadata": {},
     "output_type": "execute_result"
    }
   ],
   "source": [
    "ensemble.shape"
   ]
  },
  {
   "cell_type": "code",
   "execution_count": 26,
   "id": "fb9ecee9",
   "metadata": {
    "execution": {
     "iopub.execute_input": "2022-09-13T17:06:27.887052Z",
     "iopub.status.busy": "2022-09-13T17:06:27.886842Z",
     "iopub.status.idle": "2022-09-13T17:06:27.908504Z",
     "shell.execute_reply": "2022-09-13T17:06:27.907331Z"
    },
    "papermill": {
     "duration": 0.151562,
     "end_time": "2022-09-13T17:06:27.910039",
     "exception": false,
     "start_time": "2022-09-13T17:06:27.758477",
     "status": "completed"
    },
    "tags": []
   },
   "outputs": [
    {
     "data": {
      "text/html": [
       "<div>\n",
       "<style scoped>\n",
       "    .dataframe tbody tr th:only-of-type {\n",
       "        vertical-align: middle;\n",
       "    }\n",
       "\n",
       "    .dataframe tbody tr th {\n",
       "        vertical-align: top;\n",
       "    }\n",
       "\n",
       "    .dataframe thead th {\n",
       "        text-align: right;\n",
       "    }\n",
       "</style>\n",
       "<table border=\"1\" class=\"dataframe\">\n",
       "  <thead>\n",
       "    <tr style=\"text-align: right;\">\n",
       "      <th></th>\n",
       "      <th>clusterer_id</th>\n",
       "      <th>n_clusters</th>\n",
       "      <th>clusterer_params</th>\n",
       "      <th>partition</th>\n",
       "    </tr>\n",
       "  </thead>\n",
       "  <tbody>\n",
       "  </tbody>\n",
       "</table>\n",
       "</div>"
      ],
      "text/plain": [
       "Empty DataFrame\n",
       "Columns: [clusterer_id, n_clusters, clusterer_params, partition]\n",
       "Index: []"
      ]
     },
     "execution_count": 26,
     "metadata": {},
     "output_type": "execute_result"
    }
   ],
   "source": [
    "ensemble.head()"
   ]
  },
  {
   "cell_type": "code",
   "execution_count": 27,
   "id": "6f9efa95",
   "metadata": {
    "execution": {
     "iopub.execute_input": "2022-09-13T17:06:28.168924Z",
     "iopub.status.busy": "2022-09-13T17:06:28.168690Z",
     "iopub.status.idle": "2022-09-13T17:06:28.188223Z",
     "shell.execute_reply": "2022-09-13T17:06:28.187620Z"
    },
    "papermill": {
     "duration": 0.149001,
     "end_time": "2022-09-13T17:06:28.189522",
     "exception": false,
     "start_time": "2022-09-13T17:06:28.040521",
     "status": "completed"
    },
    "tags": []
   },
   "outputs": [
    {
     "data": {
      "text/plain": [
       "Series([], Name: n_clusters, dtype: int64)"
      ]
     },
     "execution_count": 27,
     "metadata": {},
     "output_type": "execute_result"
    }
   ],
   "source": [
    "ensemble[\"n_clusters\"].value_counts().head()"
   ]
  },
  {
   "cell_type": "code",
   "execution_count": 28,
   "id": "fabbf8ee",
   "metadata": {
    "execution": {
     "iopub.execute_input": "2022-09-13T17:06:28.481655Z",
     "iopub.status.busy": "2022-09-13T17:06:28.481446Z",
     "iopub.status.idle": "2022-09-13T17:06:28.521099Z",
     "shell.execute_reply": "2022-09-13T17:06:28.520532Z"
    },
    "papermill": {
     "duration": 0.170476,
     "end_time": "2022-09-13T17:06:28.522356",
     "exception": false,
     "start_time": "2022-09-13T17:06:28.351880",
     "status": "completed"
    },
    "tags": []
   },
   "outputs": [
    {
     "data": {
      "text/plain": [
       "count       0\n",
       "unique      0\n",
       "top       NaN\n",
       "freq      NaN\n",
       "Name: n_clusters, dtype: object"
      ]
     },
     "metadata": {},
     "output_type": "display_data"
    }
   ],
   "source": [
    "ensemble_stats = ensemble[\"n_clusters\"].describe()\n",
    "display(ensemble_stats)"
   ]
  },
  {
   "cell_type": "markdown",
   "id": "ddbda86c",
   "metadata": {
    "tags": [
     "papermill-error-cell-tag"
    ]
   },
   "source": [
    "<span id=\"papermill-error-cell\" style=\"color:red; font-family:Helvetica Neue, Helvetica, Arial, sans-serif; font-size:2em;\">Execution using papermill encountered an exception here and stopped:</span>"
   ]
  },
  {
   "cell_type": "code",
   "execution_count": 29,
   "id": "79eca946",
   "metadata": {
    "execution": {
     "iopub.execute_input": "2022-09-13T17:06:28.779106Z",
     "iopub.status.busy": "2022-09-13T17:06:28.778896Z",
     "iopub.status.idle": "2022-09-13T17:06:29.180126Z",
     "shell.execute_reply": "2022-09-13T17:06:29.179402Z"
    },
    "papermill": {
     "duration": 0.529696,
     "end_time": "2022-09-13T17:06:29.181389",
     "exception": true,
     "start_time": "2022-09-13T17:06:28.651693",
     "status": "failed"
    },
    "tags": []
   },
   "outputs": [
    {
     "ename": "AssertionError",
     "evalue": "Ensemble is empty, stopping here (this is not actually an error if running null simulations)",
     "output_type": "error",
     "traceback": [
      "\u001b[0;31m---------------------------------------------------------------------------\u001b[0m",
      "\u001b[0;31mAssertionError\u001b[0m                            Traceback (most recent call last)",
      "Input \u001b[0;32mIn [29]\u001b[0m, in \u001b[0;36m<cell line: 2>\u001b[0;34m()\u001b[0m\n\u001b[0;32m----> 1\u001b[0m \u001b[38;5;28;01massert\u001b[39;00m (\n\u001b[1;32m      2\u001b[0m     ensemble\u001b[38;5;241m.\u001b[39mshape[\u001b[38;5;241m0\u001b[39m] \u001b[38;5;241m>\u001b[39m \u001b[38;5;241m0\u001b[39m\n\u001b[1;32m      3\u001b[0m ), \u001b[38;5;124m\"\u001b[39m\u001b[38;5;124mEnsemble is empty, stopping here (this is not actually an error if running null simulations)\u001b[39m\u001b[38;5;124m\"\u001b[39m\n",
      "\u001b[0;31mAssertionError\u001b[0m: Ensemble is empty, stopping here (this is not actually an error if running null simulations)"
     ]
    }
   ],
   "source": [
    "assert (\n",
    "    ensemble.shape[0] > 0\n",
    "), \"Ensemble is empty, stopping here (this is not actually an error if running null simulations)\""
   ]
  },
  {
   "cell_type": "markdown",
   "id": "7147f325",
   "metadata": {
    "papermill": {
     "duration": null,
     "end_time": null,
     "exception": null,
     "start_time": null,
     "status": "pending"
    },
    "tags": []
   },
   "source": [
    "### Testing"
   ]
  },
  {
   "cell_type": "code",
   "execution_count": null,
   "id": "0497a22f",
   "metadata": {
    "papermill": {
     "duration": null,
     "end_time": null,
     "exception": null,
     "start_time": null,
     "status": "pending"
    },
    "tags": []
   },
   "outputs": [],
   "source": [
    "assert ensemble_stats[\"min\"] > 1"
   ]
  },
  {
   "cell_type": "code",
   "execution_count": null,
   "id": "1c352ede",
   "metadata": {
    "papermill": {
     "duration": null,
     "end_time": null,
     "exception": null,
     "start_time": null,
     "status": "pending"
    },
    "tags": []
   },
   "outputs": [],
   "source": [
    "assert not ensemble[\"n_clusters\"].isna().any()"
   ]
  },
  {
   "cell_type": "code",
   "execution_count": null,
   "id": "1b228f3b",
   "metadata": {
    "papermill": {
     "duration": null,
     "end_time": null,
     "exception": null,
     "start_time": null,
     "status": "pending"
    },
    "tags": []
   },
   "outputs": [],
   "source": [
    "# assert ensemble.shape[0] == len(CLUSTERERS)"
   ]
  },
  {
   "cell_type": "code",
   "execution_count": null,
   "id": "04635667",
   "metadata": {
    "papermill": {
     "duration": null,
     "end_time": null,
     "exception": null,
     "start_time": null,
     "status": "pending"
    },
    "tags": []
   },
   "outputs": [],
   "source": [
    "# all partitions have the right size\n",
    "assert np.all(\n",
    "    [part[\"partition\"].shape[0] == data.shape[0] for idx, part in ensemble.iterrows()]\n",
    ")"
   ]
  },
  {
   "cell_type": "code",
   "execution_count": null,
   "id": "955e02a7",
   "metadata": {
    "papermill": {
     "duration": null,
     "end_time": null,
     "exception": null,
     "start_time": null,
     "status": "pending"
    },
    "tags": []
   },
   "outputs": [],
   "source": [
    "# no partition has negative clusters (noisy points)\n",
    "assert not np.any([(part[\"partition\"] < 0).any() for idx, part in ensemble.iterrows()])"
   ]
  },
  {
   "cell_type": "markdown",
   "id": "af9ae5cf",
   "metadata": {
    "papermill": {
     "duration": null,
     "end_time": null,
     "exception": null,
     "start_time": null,
     "status": "pending"
    },
    "tags": []
   },
   "source": [
    "### Save"
   ]
  },
  {
   "cell_type": "code",
   "execution_count": null,
   "id": "1b4af729",
   "metadata": {
    "papermill": {
     "duration": null,
     "end_time": null,
     "exception": null,
     "start_time": null,
     "status": "pending"
    },
    "tags": []
   },
   "outputs": [],
   "source": [
    "output_filename = Path(\n",
    "    RESULTS_DIR,\n",
    "    generate_result_set_name(\n",
    "        {},\n",
    "        #         CLUSTERING_OPTIONS,\n",
    "        prefix=f\"{clustering_method_name}\",\n",
    "        suffix=\".pkl\",\n",
    "    ),\n",
    ").resolve()\n",
    "display(output_filename)"
   ]
  },
  {
   "cell_type": "code",
   "execution_count": null,
   "id": "186f9cf0",
   "metadata": {
    "papermill": {
     "duration": null,
     "end_time": null,
     "exception": null,
     "start_time": null,
     "status": "pending"
    },
    "tags": []
   },
   "outputs": [],
   "source": [
    "ensemble.to_pickle(output_filename)"
   ]
  },
  {
   "cell_type": "code",
   "execution_count": null,
   "id": "b49bc7d5",
   "metadata": {
    "papermill": {
     "duration": null,
     "end_time": null,
     "exception": null,
     "start_time": null,
     "status": "pending"
    },
    "tags": []
   },
   "outputs": [],
   "source": []
  }
 ],
 "metadata": {
  "jupytext": {
   "cell_metadata_filter": "all,-execution,-papermill,-trusted",
   "formats": "ipynb,py//py:percent"
  },
  "kernelspec": {
   "display_name": "Python 3 (ipykernel)",
   "language": "python",
   "name": "python3"
  },
  "language_info": {
   "codemirror_mode": {
    "name": "ipython",
    "version": 3
   },
   "file_extension": ".py",
   "mimetype": "text/x-python",
   "name": "python",
   "nbconvert_exporter": "python",
   "pygments_lexer": "ipython3",
   "version": "3.8.13"
  },
  "papermill": {
   "default_parameters": {},
   "duration": 759.535254,
   "end_time": "2022-09-13T17:06:29.733430",
   "environment_variables": {},
   "exception": true,
   "input_path": "nbs/13.1_cluster_analysis_null/12_00-dbscan-z_score_std.ipynb",
   "output_path": "nbs/13.1_cluster_analysis_null/12_00-dbscan-z_score_std.run.ipynb",
   "parameters": {},
   "start_time": "2022-09-13T16:53:50.198176",
   "version": "2.2.2"
  },
  "toc-autonumbering": true,
  "toc-showcode": false,
  "toc-showmarkdowntxt": false,
  "toc-showtags": false
 },
 "nbformat": 4,
 "nbformat_minor": 5
}
