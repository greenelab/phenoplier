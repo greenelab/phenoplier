{
 "cells": [
  {
   "cell_type": "markdown",
   "id": "2065cfdc",
   "metadata": {
    "papermill": {
     "duration": 0.013237,
     "end_time": "2022-11-25T05:25:14.954048",
     "exception": false,
     "start_time": "2022-11-25T05:25:14.940811",
     "status": "completed"
    },
    "tags": []
   },
   "source": [
    "# Description"
   ]
  },
  {
   "cell_type": "markdown",
   "id": "e6e35f42",
   "metadata": {
    "papermill": {
     "duration": 0.011771,
     "end_time": "2022-11-25T05:25:14.977767",
     "exception": false,
     "start_time": "2022-11-25T05:25:14.965996",
     "status": "completed"
    },
    "tags": []
   },
   "source": [
    "Runs spectral clustering on the pca version of the data."
   ]
  },
  {
   "cell_type": "markdown",
   "id": "1219e9ee",
   "metadata": {
    "papermill": {
     "duration": 0.011958,
     "end_time": "2022-11-25T05:25:15.001540",
     "exception": false,
     "start_time": "2022-11-25T05:25:14.989582",
     "status": "completed"
    },
    "tags": []
   },
   "source": [
    "# Environment variables"
   ]
  },
  {
   "cell_type": "code",
   "execution_count": 1,
   "id": "bdb960bb",
   "metadata": {
    "execution": {
     "iopub.execute_input": "2022-11-25T05:25:15.025612Z",
     "iopub.status.busy": "2022-11-25T05:25:15.025419Z",
     "iopub.status.idle": "2022-11-25T05:25:15.043675Z",
     "shell.execute_reply": "2022-11-25T05:25:15.043181Z"
    },
    "papermill": {
     "duration": 0.031041,
     "end_time": "2022-11-25T05:25:15.044480",
     "exception": false,
     "start_time": "2022-11-25T05:25:15.013439",
     "status": "completed"
    },
    "tags": []
   },
   "outputs": [
    {
     "data": {
      "text/plain": [
       "10"
      ]
     },
     "metadata": {},
     "output_type": "display_data"
    }
   ],
   "source": [
    "from IPython.display import display\n",
    "\n",
    "import conf\n",
    "\n",
    "N_JOBS = conf.GENERAL[\"N_JOBS\"]\n",
    "display(N_JOBS)"
   ]
  },
  {
   "cell_type": "code",
   "execution_count": 2,
   "id": "9daddbef",
   "metadata": {
    "execution": {
     "iopub.execute_input": "2022-11-25T05:25:15.057476Z",
     "iopub.status.busy": "2022-11-25T05:25:15.057325Z",
     "iopub.status.idle": "2022-11-25T05:25:15.063156Z",
     "shell.execute_reply": "2022-11-25T05:25:15.062694Z"
    },
    "papermill": {
     "duration": 0.013344,
     "end_time": "2022-11-25T05:25:15.063976",
     "exception": false,
     "start_time": "2022-11-25T05:25:15.050632",
     "status": "completed"
    },
    "tags": []
   },
   "outputs": [
    {
     "name": "stdout",
     "output_type": "stream",
     "text": [
      "env: MKL_NUM_THREADS=10\n",
      "env: OPEN_BLAS_NUM_THREADS=10\n",
      "env: NUMEXPR_NUM_THREADS=10\n",
      "env: OMP_NUM_THREADS=10\n"
     ]
    }
   ],
   "source": [
    "%env MKL_NUM_THREADS=$N_JOBS\n",
    "%env OPEN_BLAS_NUM_THREADS=$N_JOBS\n",
    "%env NUMEXPR_NUM_THREADS=$N_JOBS\n",
    "%env OMP_NUM_THREADS=$N_JOBS"
   ]
  },
  {
   "cell_type": "markdown",
   "id": "138c544f",
   "metadata": {
    "papermill": {
     "duration": 0.006172,
     "end_time": "2022-11-25T05:25:15.076324",
     "exception": false,
     "start_time": "2022-11-25T05:25:15.070152",
     "status": "completed"
    },
    "tags": []
   },
   "source": [
    "# Modules loading"
   ]
  },
  {
   "cell_type": "code",
   "execution_count": 3,
   "id": "bc86a631",
   "metadata": {
    "execution": {
     "iopub.execute_input": "2022-11-25T05:25:15.089393Z",
     "iopub.status.busy": "2022-11-25T05:25:15.089237Z",
     "iopub.status.idle": "2022-11-25T05:25:15.104787Z",
     "shell.execute_reply": "2022-11-25T05:25:15.104107Z"
    },
    "papermill": {
     "duration": 0.023215,
     "end_time": "2022-11-25T05:25:15.105731",
     "exception": false,
     "start_time": "2022-11-25T05:25:15.082516",
     "status": "completed"
    },
    "tags": []
   },
   "outputs": [],
   "source": [
    "%load_ext autoreload\n",
    "%autoreload 2"
   ]
  },
  {
   "cell_type": "code",
   "execution_count": 4,
   "id": "4f66b083",
   "metadata": {
    "execution": {
     "iopub.execute_input": "2022-11-25T05:25:15.119274Z",
     "iopub.status.busy": "2022-11-25T05:25:15.118787Z",
     "iopub.status.idle": "2022-11-25T05:25:15.573339Z",
     "shell.execute_reply": "2022-11-25T05:25:15.573010Z"
    },
    "papermill": {
     "duration": 0.462722,
     "end_time": "2022-11-25T05:25:15.574628",
     "exception": false,
     "start_time": "2022-11-25T05:25:15.111906",
     "status": "completed"
    },
    "tags": []
   },
   "outputs": [],
   "source": [
    "from pathlib import Path\n",
    "\n",
    "import numpy as np\n",
    "import pandas as pd\n",
    "import matplotlib.pyplot as plt\n",
    "import seaborn as sns\n",
    "\n",
    "from utils import generate_result_set_name"
   ]
  },
  {
   "cell_type": "markdown",
   "id": "6236d93a",
   "metadata": {
    "papermill": {
     "duration": 0.0117,
     "end_time": "2022-11-25T05:25:15.598304",
     "exception": false,
     "start_time": "2022-11-25T05:25:15.586604",
     "status": "completed"
    },
    "tags": []
   },
   "source": [
    "# Settings"
   ]
  },
  {
   "cell_type": "code",
   "execution_count": 5,
   "id": "c2edf997",
   "metadata": {
    "execution": {
     "iopub.execute_input": "2022-11-25T05:25:15.622949Z",
     "iopub.status.busy": "2022-11-25T05:25:15.622860Z",
     "iopub.status.idle": "2022-11-25T05:25:15.633605Z",
     "shell.execute_reply": "2022-11-25T05:25:15.633332Z"
    },
    "papermill": {
     "duration": 0.024595,
     "end_time": "2022-11-25T05:25:15.634766",
     "exception": false,
     "start_time": "2022-11-25T05:25:15.610171",
     "status": "completed"
    },
    "tags": []
   },
   "outputs": [],
   "source": [
    "np.random.seed(0)"
   ]
  },
  {
   "cell_type": "code",
   "execution_count": 6,
   "id": "6b33e68b",
   "metadata": {
    "execution": {
     "iopub.execute_input": "2022-11-25T05:25:15.682678Z",
     "iopub.status.busy": "2022-11-25T05:25:15.682523Z",
     "iopub.status.idle": "2022-11-25T05:25:15.697749Z",
     "shell.execute_reply": "2022-11-25T05:25:15.697364Z"
    },
    "papermill": {
     "duration": 0.026172,
     "end_time": "2022-11-25T05:25:15.698520",
     "exception": false,
     "start_time": "2022-11-25T05:25:15.672348",
     "status": "completed"
    },
    "tags": []
   },
   "outputs": [],
   "source": [
    "INITIAL_RANDOM_STATE = 40000"
   ]
  },
  {
   "cell_type": "code",
   "execution_count": 7,
   "id": "09b644f4-737a-40f0-8078-ec2118ae2326",
   "metadata": {
    "execution": {
     "iopub.execute_input": "2022-11-25T05:25:15.711634Z",
     "iopub.status.busy": "2022-11-25T05:25:15.711480Z",
     "iopub.status.idle": "2022-11-25T05:25:15.728348Z",
     "shell.execute_reply": "2022-11-25T05:25:15.727938Z"
    },
    "papermill": {
     "duration": 0.024249,
     "end_time": "2022-11-25T05:25:15.729136",
     "exception": false,
     "start_time": "2022-11-25T05:25:15.704887",
     "status": "completed"
    },
    "tags": []
   },
   "outputs": [],
   "source": [
    "NULL_DIR = conf.RESULTS[\"CLUSTERING_NULL_DIR\"] / \"shuffle_lvs\""
   ]
  },
  {
   "cell_type": "markdown",
   "id": "0eac3da0",
   "metadata": {
    "papermill": {
     "duration": 0.005997,
     "end_time": "2022-11-25T05:25:15.741212",
     "exception": false,
     "start_time": "2022-11-25T05:25:15.735215",
     "status": "completed"
    },
    "tags": []
   },
   "source": [
    "## Input data"
   ]
  },
  {
   "cell_type": "code",
   "execution_count": 8,
   "id": "8b00ad9f",
   "metadata": {
    "execution": {
     "iopub.execute_input": "2022-11-25T05:25:15.754231Z",
     "iopub.status.busy": "2022-11-25T05:25:15.754079Z",
     "iopub.status.idle": "2022-11-25T05:25:15.770606Z",
     "shell.execute_reply": "2022-11-25T05:25:15.770224Z"
    },
    "papermill": {
     "duration": 0.024002,
     "end_time": "2022-11-25T05:25:15.771432",
     "exception": false,
     "start_time": "2022-11-25T05:25:15.747430",
     "status": "completed"
    },
    "tags": []
   },
   "outputs": [],
   "source": [
    "INPUT_SUBSET = \"pca\""
   ]
  },
  {
   "cell_type": "code",
   "execution_count": 9,
   "id": "7b2c33b9",
   "metadata": {
    "execution": {
     "iopub.execute_input": "2022-11-25T05:25:15.784749Z",
     "iopub.status.busy": "2022-11-25T05:25:15.784421Z",
     "iopub.status.idle": "2022-11-25T05:25:15.800761Z",
     "shell.execute_reply": "2022-11-25T05:25:15.800369Z"
    },
    "papermill": {
     "duration": 0.0238,
     "end_time": "2022-11-25T05:25:15.801488",
     "exception": false,
     "start_time": "2022-11-25T05:25:15.777688",
     "status": "completed"
    },
    "tags": []
   },
   "outputs": [],
   "source": [
    "INPUT_STEM = \"z_score_std-projection-smultixcan-efo_partial-mashr-zscores\""
   ]
  },
  {
   "cell_type": "code",
   "execution_count": 10,
   "id": "4bce3734",
   "metadata": {
    "execution": {
     "iopub.execute_input": "2022-11-25T05:25:15.814412Z",
     "iopub.status.busy": "2022-11-25T05:25:15.814258Z",
     "iopub.status.idle": "2022-11-25T05:25:15.831104Z",
     "shell.execute_reply": "2022-11-25T05:25:15.830706Z"
    },
    "papermill": {
     "duration": 0.02427,
     "end_time": "2022-11-25T05:25:15.831857",
     "exception": false,
     "start_time": "2022-11-25T05:25:15.807587",
     "status": "completed"
    },
    "tags": []
   },
   "outputs": [],
   "source": [
    "DR_OPTIONS = {\n",
    "    \"n_components\": 50,\n",
    "    \"svd_solver\": \"full\",\n",
    "    \"random_state\": 0,\n",
    "}"
   ]
  },
  {
   "cell_type": "code",
   "execution_count": 11,
   "id": "7bd761ff",
   "metadata": {
    "execution": {
     "iopub.execute_input": "2022-11-25T05:25:15.844871Z",
     "iopub.status.busy": "2022-11-25T05:25:15.844719Z",
     "iopub.status.idle": "2022-11-25T05:25:15.863866Z",
     "shell.execute_reply": "2022-11-25T05:25:15.863494Z"
    },
    "papermill": {
     "duration": 0.026948,
     "end_time": "2022-11-25T05:25:15.864910",
     "exception": false,
     "start_time": "2022-11-25T05:25:15.837962",
     "status": "completed"
    },
    "tags": []
   },
   "outputs": [
    {
     "data": {
      "text/plain": [
       "PosixPath('/opt/data/results/clustering/null_sims/shuffle_lvs/data_transformations/pca/pca-z_score_std-projection-smultixcan-efo_partial-mashr-zscores-n_components_50-random_state_0-svd_solver_full.pkl')"
      ]
     },
     "metadata": {},
     "output_type": "display_data"
    },
    {
     "data": {
      "text/plain": [
       "'pca-z_score_std-projection-smultixcan-efo_partial-mashr-zscores-n_components_50-random_state_0-svd_solver_full'"
      ]
     },
     "metadata": {},
     "output_type": "display_data"
    }
   ],
   "source": [
    "input_filepath = Path(\n",
    "    NULL_DIR,\n",
    "    \"data_transformations\",\n",
    "    INPUT_SUBSET,\n",
    "    generate_result_set_name(\n",
    "        DR_OPTIONS, prefix=f\"{INPUT_SUBSET}-{INPUT_STEM}-\", suffix=\".pkl\"\n",
    "    ),\n",
    ").resolve()\n",
    "display(input_filepath)\n",
    "\n",
    "assert input_filepath.exists(), \"Input file does not exist\"\n",
    "\n",
    "input_filepath_stem = input_filepath.stem\n",
    "display(input_filepath_stem)"
   ]
  },
  {
   "cell_type": "markdown",
   "id": "242b949d",
   "metadata": {
    "papermill": {
     "duration": 0.011919,
     "end_time": "2022-11-25T05:25:15.888905",
     "exception": false,
     "start_time": "2022-11-25T05:25:15.876986",
     "status": "completed"
    },
    "tags": []
   },
   "source": [
    "## Clustering"
   ]
  },
  {
   "cell_type": "code",
   "execution_count": 12,
   "id": "f85e6054",
   "metadata": {
    "execution": {
     "iopub.execute_input": "2022-11-25T05:25:15.914157Z",
     "iopub.status.busy": "2022-11-25T05:25:15.913827Z",
     "iopub.status.idle": "2022-11-25T05:25:16.002790Z",
     "shell.execute_reply": "2022-11-25T05:25:16.002453Z"
    },
    "papermill": {
     "duration": 0.102753,
     "end_time": "2022-11-25T05:25:16.003962",
     "exception": false,
     "start_time": "2022-11-25T05:25:15.901209",
     "status": "completed"
    },
    "tags": []
   },
   "outputs": [],
   "source": [
    "from sklearn.cluster import SpectralClustering"
   ]
  },
  {
   "cell_type": "code",
   "execution_count": 13,
   "id": "bb190c70",
   "metadata": {
    "execution": {
     "iopub.execute_input": "2022-11-25T05:25:16.029071Z",
     "iopub.status.busy": "2022-11-25T05:25:16.028984Z",
     "iopub.status.idle": "2022-11-25T05:25:16.040552Z",
     "shell.execute_reply": "2022-11-25T05:25:16.040272Z"
    },
    "papermill": {
     "duration": 0.025519,
     "end_time": "2022-11-25T05:25:16.041710",
     "exception": false,
     "start_time": "2022-11-25T05:25:16.016191",
     "status": "completed"
    },
    "tags": []
   },
   "outputs": [],
   "source": [
    "CLUSTERING_ATTRIBUTES_TO_SAVE = [\"n_clusters\"]"
   ]
  },
  {
   "cell_type": "code",
   "execution_count": 14,
   "id": "9a265d53",
   "metadata": {
    "execution": {
     "iopub.execute_input": "2022-11-25T05:25:16.066475Z",
     "iopub.status.busy": "2022-11-25T05:25:16.066361Z",
     "iopub.status.idle": "2022-11-25T05:25:16.077904Z",
     "shell.execute_reply": "2022-11-25T05:25:16.077648Z"
    },
    "papermill": {
     "duration": 0.02518,
     "end_time": "2022-11-25T05:25:16.079089",
     "exception": false,
     "start_time": "2022-11-25T05:25:16.053909",
     "status": "completed"
    },
    "tags": []
   },
   "outputs": [
    {
     "data": {
      "text/plain": [
       "{'K_MIN': 2,\n",
       " 'K_MAX': 60,\n",
       " 'N_REPS_PER_K': 5,\n",
       " 'KMEANS_N_INIT': 10,\n",
       " 'GAMMA': 0.001,\n",
       " 'AFFINITY': 'rbf'}"
      ]
     },
     "metadata": {},
     "output_type": "display_data"
    }
   ],
   "source": [
    "CLUSTERING_OPTIONS = {}\n",
    "\n",
    "CLUSTERING_OPTIONS[\"K_MIN\"] = 2\n",
    "CLUSTERING_OPTIONS[\"K_MAX\"] = 60  # sqrt(3749)\n",
    "CLUSTERING_OPTIONS[\"N_REPS_PER_K\"] = 5\n",
    "CLUSTERING_OPTIONS[\"KMEANS_N_INIT\"] = 10\n",
    "CLUSTERING_OPTIONS[\"GAMMA\"] = 1.0e-03\n",
    "CLUSTERING_OPTIONS[\"AFFINITY\"] = \"rbf\"\n",
    "\n",
    "display(CLUSTERING_OPTIONS)"
   ]
  },
  {
   "cell_type": "code",
   "execution_count": 15,
   "id": "5eb9a470",
   "metadata": {
    "execution": {
     "iopub.execute_input": "2022-11-25T05:25:16.104487Z",
     "iopub.status.busy": "2022-11-25T05:25:16.104346Z",
     "iopub.status.idle": "2022-11-25T05:25:16.124910Z",
     "shell.execute_reply": "2022-11-25T05:25:16.124511Z"
    },
    "papermill": {
     "duration": 0.034401,
     "end_time": "2022-11-25T05:25:16.126107",
     "exception": false,
     "start_time": "2022-11-25T05:25:16.091706",
     "status": "completed"
    },
    "tags": []
   },
   "outputs": [],
   "source": [
    "CLUSTERERS = {}\n",
    "\n",
    "idx = 0\n",
    "random_state = INITIAL_RANDOM_STATE\n",
    "\n",
    "for k in range(CLUSTERING_OPTIONS[\"K_MIN\"], CLUSTERING_OPTIONS[\"K_MAX\"] + 1):\n",
    "    for i in range(CLUSTERING_OPTIONS[\"N_REPS_PER_K\"]):\n",
    "        clus = SpectralClustering(\n",
    "            eigen_solver=\"arpack\",\n",
    "            n_clusters=k,\n",
    "            n_init=CLUSTERING_OPTIONS[\"KMEANS_N_INIT\"],\n",
    "            affinity=CLUSTERING_OPTIONS[\"AFFINITY\"],\n",
    "            gamma=CLUSTERING_OPTIONS[\"GAMMA\"],\n",
    "            random_state=random_state,\n",
    "        )\n",
    "\n",
    "        method_name = type(clus).__name__\n",
    "        CLUSTERERS[f\"{method_name} #{idx}\"] = clus\n",
    "\n",
    "        random_state = random_state + 1\n",
    "        idx = idx + 1"
   ]
  },
  {
   "cell_type": "code",
   "execution_count": 16,
   "id": "76ffed7a",
   "metadata": {
    "execution": {
     "iopub.execute_input": "2022-11-25T05:25:16.151725Z",
     "iopub.status.busy": "2022-11-25T05:25:16.151430Z",
     "iopub.status.idle": "2022-11-25T05:25:16.170435Z",
     "shell.execute_reply": "2022-11-25T05:25:16.170058Z"
    },
    "papermill": {
     "duration": 0.033262,
     "end_time": "2022-11-25T05:25:16.171660",
     "exception": false,
     "start_time": "2022-11-25T05:25:16.138398",
     "status": "completed"
    },
    "tags": []
   },
   "outputs": [
    {
     "data": {
      "text/plain": [
       "295"
      ]
     },
     "metadata": {},
     "output_type": "display_data"
    }
   ],
   "source": [
    "display(len(CLUSTERERS))"
   ]
  },
  {
   "cell_type": "code",
   "execution_count": 17,
   "id": "2cc3a286",
   "metadata": {
    "execution": {
     "iopub.execute_input": "2022-11-25T05:25:16.197465Z",
     "iopub.status.busy": "2022-11-25T05:25:16.197176Z",
     "iopub.status.idle": "2022-11-25T05:25:16.218260Z",
     "shell.execute_reply": "2022-11-25T05:25:16.217889Z"
    },
    "papermill": {
     "duration": 0.035129,
     "end_time": "2022-11-25T05:25:16.219461",
     "exception": false,
     "start_time": "2022-11-25T05:25:16.184332",
     "status": "completed"
    },
    "tags": []
   },
   "outputs": [
    {
     "data": {
      "text/plain": [
       "('SpectralClustering #0',\n",
       " SpectralClustering(eigen_solver='arpack', gamma=0.001, n_clusters=2,\n",
       "                    random_state=40000))"
      ]
     },
     "metadata": {},
     "output_type": "display_data"
    },
    {
     "data": {
      "text/plain": [
       "('SpectralClustering #1',\n",
       " SpectralClustering(eigen_solver='arpack', gamma=0.001, n_clusters=2,\n",
       "                    random_state=40001))"
      ]
     },
     "metadata": {},
     "output_type": "display_data"
    }
   ],
   "source": [
    "_iter = iter(CLUSTERERS.items())\n",
    "display(next(_iter))\n",
    "display(next(_iter))"
   ]
  },
  {
   "cell_type": "code",
   "execution_count": 18,
   "id": "c4c88ee6",
   "metadata": {
    "execution": {
     "iopub.execute_input": "2022-11-25T05:25:16.245796Z",
     "iopub.status.busy": "2022-11-25T05:25:16.245503Z",
     "iopub.status.idle": "2022-11-25T05:25:16.264842Z",
     "shell.execute_reply": "2022-11-25T05:25:16.264401Z"
    },
    "papermill": {
     "duration": 0.033976,
     "end_time": "2022-11-25T05:25:16.266113",
     "exception": false,
     "start_time": "2022-11-25T05:25:16.232137",
     "status": "completed"
    },
    "tags": []
   },
   "outputs": [
    {
     "data": {
      "text/plain": [
       "'SpectralClustering'"
      ]
     },
     "metadata": {},
     "output_type": "display_data"
    }
   ],
   "source": [
    "clustering_method_name = method_name\n",
    "display(clustering_method_name)"
   ]
  },
  {
   "cell_type": "markdown",
   "id": "7cac8aa4",
   "metadata": {
    "papermill": {
     "duration": 0.012458,
     "end_time": "2022-11-25T05:25:16.291210",
     "exception": false,
     "start_time": "2022-11-25T05:25:16.278752",
     "status": "completed"
    },
    "tags": []
   },
   "source": [
    "## Output directory"
   ]
  },
  {
   "cell_type": "code",
   "execution_count": 19,
   "id": "3574d510",
   "metadata": {
    "execution": {
     "iopub.execute_input": "2022-11-25T05:25:16.316873Z",
     "iopub.status.busy": "2022-11-25T05:25:16.316604Z",
     "iopub.status.idle": "2022-11-25T05:25:16.336763Z",
     "shell.execute_reply": "2022-11-25T05:25:16.336300Z"
    },
    "papermill": {
     "duration": 0.033459,
     "end_time": "2022-11-25T05:25:16.337525",
     "exception": false,
     "start_time": "2022-11-25T05:25:16.304066",
     "status": "completed"
    },
    "tags": []
   },
   "outputs": [
    {
     "data": {
      "text/plain": [
       "PosixPath('/opt/data/results/clustering/null_sims/shuffle_lvs/runs/pca-z_score_std-projection-smultixcan-efo_partial-mashr-zscores')"
      ]
     },
     "metadata": {},
     "output_type": "display_data"
    }
   ],
   "source": [
    "# output dir for this notebook\n",
    "RESULTS_DIR = Path(\n",
    "    NULL_DIR,\n",
    "    \"runs\",\n",
    "    f\"{INPUT_SUBSET}-{INPUT_STEM}\",\n",
    ").resolve()\n",
    "RESULTS_DIR.mkdir(parents=True, exist_ok=True)\n",
    "\n",
    "display(RESULTS_DIR)"
   ]
  },
  {
   "cell_type": "markdown",
   "id": "7ba656f8",
   "metadata": {
    "papermill": {
     "duration": 0.006574,
     "end_time": "2022-11-25T05:25:16.350646",
     "exception": false,
     "start_time": "2022-11-25T05:25:16.344072",
     "status": "completed"
    },
    "tags": []
   },
   "source": [
    "# Load input file"
   ]
  },
  {
   "cell_type": "code",
   "execution_count": 20,
   "id": "5511350e",
   "metadata": {
    "execution": {
     "iopub.execute_input": "2022-11-25T05:25:16.364685Z",
     "iopub.status.busy": "2022-11-25T05:25:16.364405Z",
     "iopub.status.idle": "2022-11-25T05:25:16.385752Z",
     "shell.execute_reply": "2022-11-25T05:25:16.385285Z"
    },
    "papermill": {
     "duration": 0.029371,
     "end_time": "2022-11-25T05:25:16.386634",
     "exception": false,
     "start_time": "2022-11-25T05:25:16.357263",
     "status": "completed"
    },
    "tags": []
   },
   "outputs": [],
   "source": [
    "data = pd.read_pickle(input_filepath)"
   ]
  },
  {
   "cell_type": "code",
   "execution_count": 21,
   "id": "4c1765aa",
   "metadata": {
    "execution": {
     "iopub.execute_input": "2022-11-25T05:25:16.400680Z",
     "iopub.status.busy": "2022-11-25T05:25:16.400400Z",
     "iopub.status.idle": "2022-11-25T05:25:16.420068Z",
     "shell.execute_reply": "2022-11-25T05:25:16.419633Z"
    },
    "papermill": {
     "duration": 0.027496,
     "end_time": "2022-11-25T05:25:16.420831",
     "exception": false,
     "start_time": "2022-11-25T05:25:16.393335",
     "status": "completed"
    },
    "tags": []
   },
   "outputs": [
    {
     "data": {
      "text/plain": [
       "(3752, 50)"
      ]
     },
     "execution_count": 21,
     "metadata": {},
     "output_type": "execute_result"
    }
   ],
   "source": [
    "data.shape"
   ]
  },
  {
   "cell_type": "code",
   "execution_count": 22,
   "id": "a77fcc28",
   "metadata": {
    "execution": {
     "iopub.execute_input": "2022-11-25T05:25:16.434855Z",
     "iopub.status.busy": "2022-11-25T05:25:16.434549Z",
     "iopub.status.idle": "2022-11-25T05:25:16.470514Z",
     "shell.execute_reply": "2022-11-25T05:25:16.470065Z"
    },
    "papermill": {
     "duration": 0.044386,
     "end_time": "2022-11-25T05:25:16.471793",
     "exception": false,
     "start_time": "2022-11-25T05:25:16.427407",
     "status": "completed"
    },
    "tags": []
   },
   "outputs": [
    {
     "data": {
      "text/html": [
       "<div>\n",
       "<style scoped>\n",
       "    .dataframe tbody tr th:only-of-type {\n",
       "        vertical-align: middle;\n",
       "    }\n",
       "\n",
       "    .dataframe tbody tr th {\n",
       "        vertical-align: top;\n",
       "    }\n",
       "\n",
       "    .dataframe thead th {\n",
       "        text-align: right;\n",
       "    }\n",
       "</style>\n",
       "<table border=\"1\" class=\"dataframe\">\n",
       "  <thead>\n",
       "    <tr style=\"text-align: right;\">\n",
       "      <th></th>\n",
       "      <th>PCA1</th>\n",
       "      <th>PCA2</th>\n",
       "      <th>PCA3</th>\n",
       "      <th>PCA4</th>\n",
       "      <th>PCA5</th>\n",
       "      <th>PCA6</th>\n",
       "      <th>PCA7</th>\n",
       "      <th>PCA8</th>\n",
       "      <th>PCA9</th>\n",
       "      <th>PCA10</th>\n",
       "      <th>...</th>\n",
       "      <th>PCA41</th>\n",
       "      <th>PCA42</th>\n",
       "      <th>PCA43</th>\n",
       "      <th>PCA44</th>\n",
       "      <th>PCA45</th>\n",
       "      <th>PCA46</th>\n",
       "      <th>PCA47</th>\n",
       "      <th>PCA48</th>\n",
       "      <th>PCA49</th>\n",
       "      <th>PCA50</th>\n",
       "    </tr>\n",
       "  </thead>\n",
       "  <tbody>\n",
       "    <tr>\n",
       "      <th>100001_raw-Food_weight</th>\n",
       "      <td>0.373237</td>\n",
       "      <td>-0.155188</td>\n",
       "      <td>-1.554390</td>\n",
       "      <td>-0.103733</td>\n",
       "      <td>-1.807074</td>\n",
       "      <td>-0.957108</td>\n",
       "      <td>0.330335</td>\n",
       "      <td>0.638391</td>\n",
       "      <td>0.905023</td>\n",
       "      <td>-0.704551</td>\n",
       "      <td>...</td>\n",
       "      <td>0.161732</td>\n",
       "      <td>0.488682</td>\n",
       "      <td>0.761158</td>\n",
       "      <td>0.667089</td>\n",
       "      <td>-0.078934</td>\n",
       "      <td>0.840971</td>\n",
       "      <td>-0.622958</td>\n",
       "      <td>1.075964</td>\n",
       "      <td>3.244039</td>\n",
       "      <td>-0.933407</td>\n",
       "    </tr>\n",
       "    <tr>\n",
       "      <th>100002_raw-Energy</th>\n",
       "      <td>1.384398</td>\n",
       "      <td>0.511267</td>\n",
       "      <td>-0.273603</td>\n",
       "      <td>-0.074591</td>\n",
       "      <td>-1.151167</td>\n",
       "      <td>-0.069438</td>\n",
       "      <td>1.242634</td>\n",
       "      <td>-0.439543</td>\n",
       "      <td>0.650348</td>\n",
       "      <td>2.456117</td>\n",
       "      <td>...</td>\n",
       "      <td>0.051967</td>\n",
       "      <td>0.993820</td>\n",
       "      <td>-0.166350</td>\n",
       "      <td>1.497041</td>\n",
       "      <td>-0.875754</td>\n",
       "      <td>2.632726</td>\n",
       "      <td>0.613299</td>\n",
       "      <td>0.041232</td>\n",
       "      <td>4.032974</td>\n",
       "      <td>-0.230092</td>\n",
       "    </tr>\n",
       "    <tr>\n",
       "      <th>100003_raw-Protein</th>\n",
       "      <td>-1.247583</td>\n",
       "      <td>2.905641</td>\n",
       "      <td>-1.524196</td>\n",
       "      <td>0.683773</td>\n",
       "      <td>0.766860</td>\n",
       "      <td>-2.478057</td>\n",
       "      <td>-0.201110</td>\n",
       "      <td>1.045590</td>\n",
       "      <td>-0.844712</td>\n",
       "      <td>2.426349</td>\n",
       "      <td>...</td>\n",
       "      <td>0.027646</td>\n",
       "      <td>-1.903636</td>\n",
       "      <td>-0.819195</td>\n",
       "      <td>0.616887</td>\n",
       "      <td>-0.647462</td>\n",
       "      <td>0.170956</td>\n",
       "      <td>2.106036</td>\n",
       "      <td>-2.186258</td>\n",
       "      <td>0.485333</td>\n",
       "      <td>-1.136366</td>\n",
       "    </tr>\n",
       "    <tr>\n",
       "      <th>100004_raw-Fat</th>\n",
       "      <td>-0.695167</td>\n",
       "      <td>0.046286</td>\n",
       "      <td>0.730428</td>\n",
       "      <td>0.240547</td>\n",
       "      <td>1.621534</td>\n",
       "      <td>-1.335187</td>\n",
       "      <td>-1.510894</td>\n",
       "      <td>1.790966</td>\n",
       "      <td>-0.682884</td>\n",
       "      <td>-1.572835</td>\n",
       "      <td>...</td>\n",
       "      <td>-2.997557</td>\n",
       "      <td>-0.489466</td>\n",
       "      <td>0.442809</td>\n",
       "      <td>1.217098</td>\n",
       "      <td>-1.604667</td>\n",
       "      <td>-0.776865</td>\n",
       "      <td>-0.983076</td>\n",
       "      <td>0.080423</td>\n",
       "      <td>2.476131</td>\n",
       "      <td>0.431179</td>\n",
       "    </tr>\n",
       "    <tr>\n",
       "      <th>100005_raw-Carbohydrate</th>\n",
       "      <td>0.770055</td>\n",
       "      <td>-0.499034</td>\n",
       "      <td>0.053157</td>\n",
       "      <td>0.479019</td>\n",
       "      <td>2.048336</td>\n",
       "      <td>0.984552</td>\n",
       "      <td>-0.090767</td>\n",
       "      <td>0.053451</td>\n",
       "      <td>-0.614035</td>\n",
       "      <td>1.304292</td>\n",
       "      <td>...</td>\n",
       "      <td>-0.280231</td>\n",
       "      <td>-0.892308</td>\n",
       "      <td>-0.522105</td>\n",
       "      <td>-0.358232</td>\n",
       "      <td>1.690968</td>\n",
       "      <td>0.049799</td>\n",
       "      <td>-0.633466</td>\n",
       "      <td>-0.812035</td>\n",
       "      <td>0.901284</td>\n",
       "      <td>2.461845</td>\n",
       "    </tr>\n",
       "  </tbody>\n",
       "</table>\n",
       "<p>5 rows × 50 columns</p>\n",
       "</div>"
      ],
      "text/plain": [
       "                             PCA1      PCA2      PCA3      PCA4      PCA5  \\\n",
       "100001_raw-Food_weight   0.373237 -0.155188 -1.554390 -0.103733 -1.807074   \n",
       "100002_raw-Energy        1.384398  0.511267 -0.273603 -0.074591 -1.151167   \n",
       "100003_raw-Protein      -1.247583  2.905641 -1.524196  0.683773  0.766860   \n",
       "100004_raw-Fat          -0.695167  0.046286  0.730428  0.240547  1.621534   \n",
       "100005_raw-Carbohydrate  0.770055 -0.499034  0.053157  0.479019  2.048336   \n",
       "\n",
       "                             PCA6      PCA7      PCA8      PCA9     PCA10  \\\n",
       "100001_raw-Food_weight  -0.957108  0.330335  0.638391  0.905023 -0.704551   \n",
       "100002_raw-Energy       -0.069438  1.242634 -0.439543  0.650348  2.456117   \n",
       "100003_raw-Protein      -2.478057 -0.201110  1.045590 -0.844712  2.426349   \n",
       "100004_raw-Fat          -1.335187 -1.510894  1.790966 -0.682884 -1.572835   \n",
       "100005_raw-Carbohydrate  0.984552 -0.090767  0.053451 -0.614035  1.304292   \n",
       "\n",
       "                         ...     PCA41     PCA42     PCA43     PCA44  \\\n",
       "100001_raw-Food_weight   ...  0.161732  0.488682  0.761158  0.667089   \n",
       "100002_raw-Energy        ...  0.051967  0.993820 -0.166350  1.497041   \n",
       "100003_raw-Protein       ...  0.027646 -1.903636 -0.819195  0.616887   \n",
       "100004_raw-Fat           ... -2.997557 -0.489466  0.442809  1.217098   \n",
       "100005_raw-Carbohydrate  ... -0.280231 -0.892308 -0.522105 -0.358232   \n",
       "\n",
       "                            PCA45     PCA46     PCA47     PCA48     PCA49  \\\n",
       "100001_raw-Food_weight  -0.078934  0.840971 -0.622958  1.075964  3.244039   \n",
       "100002_raw-Energy       -0.875754  2.632726  0.613299  0.041232  4.032974   \n",
       "100003_raw-Protein      -0.647462  0.170956  2.106036 -2.186258  0.485333   \n",
       "100004_raw-Fat          -1.604667 -0.776865 -0.983076  0.080423  2.476131   \n",
       "100005_raw-Carbohydrate  1.690968  0.049799 -0.633466 -0.812035  0.901284   \n",
       "\n",
       "                            PCA50  \n",
       "100001_raw-Food_weight  -0.933407  \n",
       "100002_raw-Energy       -0.230092  \n",
       "100003_raw-Protein      -1.136366  \n",
       "100004_raw-Fat           0.431179  \n",
       "100005_raw-Carbohydrate  2.461845  \n",
       "\n",
       "[5 rows x 50 columns]"
      ]
     },
     "execution_count": 22,
     "metadata": {},
     "output_type": "execute_result"
    }
   ],
   "source": [
    "data.head()"
   ]
  },
  {
   "cell_type": "code",
   "execution_count": 23,
   "id": "164c4f7a",
   "metadata": {
    "execution": {
     "iopub.execute_input": "2022-11-25T05:25:16.499143Z",
     "iopub.status.busy": "2022-11-25T05:25:16.498947Z",
     "iopub.status.idle": "2022-11-25T05:25:16.518721Z",
     "shell.execute_reply": "2022-11-25T05:25:16.518260Z"
    },
    "papermill": {
     "duration": 0.034705,
     "end_time": "2022-11-25T05:25:16.519996",
     "exception": false,
     "start_time": "2022-11-25T05:25:16.485291",
     "status": "completed"
    },
    "tags": []
   },
   "outputs": [],
   "source": [
    "assert not data.isna().any().any()"
   ]
  },
  {
   "cell_type": "markdown",
   "id": "8457283e",
   "metadata": {
    "papermill": {
     "duration": 0.013068,
     "end_time": "2022-11-25T05:25:16.546553",
     "exception": false,
     "start_time": "2022-11-25T05:25:16.533485",
     "status": "completed"
    },
    "tags": []
   },
   "source": [
    "# Clustering"
   ]
  },
  {
   "cell_type": "markdown",
   "id": "0b9c63c1",
   "metadata": {
    "papermill": {
     "duration": 0.013074,
     "end_time": "2022-11-25T05:25:16.572710",
     "exception": false,
     "start_time": "2022-11-25T05:25:16.559636",
     "status": "completed"
    },
    "tags": []
   },
   "source": [
    "## Generate ensemble"
   ]
  },
  {
   "cell_type": "code",
   "execution_count": 24,
   "id": "ad23ebb6",
   "metadata": {
    "execution": {
     "iopub.execute_input": "2022-11-25T05:25:16.588685Z",
     "iopub.status.busy": "2022-11-25T05:25:16.588400Z",
     "iopub.status.idle": "2022-11-25T05:25:16.611569Z",
     "shell.execute_reply": "2022-11-25T05:25:16.611112Z"
    },
    "papermill": {
     "duration": 0.031238,
     "end_time": "2022-11-25T05:25:16.612355",
     "exception": false,
     "start_time": "2022-11-25T05:25:16.581117",
     "status": "completed"
    },
    "tags": []
   },
   "outputs": [],
   "source": [
    "from clustering.ensembles.utils import generate_ensemble"
   ]
  },
  {
   "cell_type": "code",
   "execution_count": 25,
   "id": "e803fee6",
   "metadata": {
    "execution": {
     "iopub.execute_input": "2022-11-25T05:25:16.626875Z",
     "iopub.status.busy": "2022-11-25T05:25:16.626531Z",
     "iopub.status.idle": "2022-11-25T05:32:30.837454Z",
     "shell.execute_reply": "2022-11-25T05:32:30.836978Z"
    },
    "papermill": {
     "duration": 434.219081,
     "end_time": "2022-11-25T05:32:30.838301",
     "exception": false,
     "start_time": "2022-11-25T05:25:16.619220",
     "status": "completed"
    },
    "tags": []
   },
   "outputs": [
    {
     "name": "stderr",
     "output_type": "stream",
     "text": [
      "100%|██████████| 295/295 [07:14<00:00,  1.47s/it]\n"
     ]
    }
   ],
   "source": [
    "ensemble = generate_ensemble(\n",
    "    data,\n",
    "    CLUSTERERS,\n",
    "    attributes=CLUSTERING_ATTRIBUTES_TO_SAVE,\n",
    ")"
   ]
  },
  {
   "cell_type": "code",
   "execution_count": 26,
   "id": "e26876ad",
   "metadata": {
    "execution": {
     "iopub.execute_input": "2022-11-25T05:32:30.868552Z",
     "iopub.status.busy": "2022-11-25T05:32:30.868315Z",
     "iopub.status.idle": "2022-11-25T05:32:30.881557Z",
     "shell.execute_reply": "2022-11-25T05:32:30.881199Z"
    },
    "papermill": {
     "duration": 0.028945,
     "end_time": "2022-11-25T05:32:30.882361",
     "exception": false,
     "start_time": "2022-11-25T05:32:30.853416",
     "status": "completed"
    },
    "tags": []
   },
   "outputs": [
    {
     "data": {
      "text/plain": [
       "(295, 3)"
      ]
     },
     "execution_count": 26,
     "metadata": {},
     "output_type": "execute_result"
    }
   ],
   "source": [
    "# the number should be close to 295 (the number of partitions generated by k-means/spectral clustering)\n",
    "ensemble.shape"
   ]
  },
  {
   "cell_type": "code",
   "execution_count": 27,
   "id": "4b18215d",
   "metadata": {
    "execution": {
     "iopub.execute_input": "2022-11-25T05:32:30.912243Z",
     "iopub.status.busy": "2022-11-25T05:32:30.912046Z",
     "iopub.status.idle": "2022-11-25T05:32:30.930792Z",
     "shell.execute_reply": "2022-11-25T05:32:30.930362Z"
    },
    "papermill": {
     "duration": 0.034333,
     "end_time": "2022-11-25T05:32:30.931605",
     "exception": false,
     "start_time": "2022-11-25T05:32:30.897272",
     "status": "completed"
    },
    "tags": []
   },
   "outputs": [
    {
     "data": {
      "text/html": [
       "<div>\n",
       "<style scoped>\n",
       "    .dataframe tbody tr th:only-of-type {\n",
       "        vertical-align: middle;\n",
       "    }\n",
       "\n",
       "    .dataframe tbody tr th {\n",
       "        vertical-align: top;\n",
       "    }\n",
       "\n",
       "    .dataframe thead th {\n",
       "        text-align: right;\n",
       "    }\n",
       "</style>\n",
       "<table border=\"1\" class=\"dataframe\">\n",
       "  <thead>\n",
       "    <tr style=\"text-align: right;\">\n",
       "      <th></th>\n",
       "      <th>clusterer_params</th>\n",
       "      <th>partition</th>\n",
       "      <th>n_clusters</th>\n",
       "    </tr>\n",
       "    <tr>\n",
       "      <th>clusterer_id</th>\n",
       "      <th></th>\n",
       "      <th></th>\n",
       "      <th></th>\n",
       "    </tr>\n",
       "  </thead>\n",
       "  <tbody>\n",
       "    <tr>\n",
       "      <th>SpectralClustering #0</th>\n",
       "      <td>{'affinity': 'rbf', 'assign_labels': 'kmeans',...</td>\n",
       "      <td>[1.0, 1.0, 0.0, 0.0, 1.0, 1.0, 0.0, 0.0, 0.0, ...</td>\n",
       "      <td>2</td>\n",
       "    </tr>\n",
       "    <tr>\n",
       "      <th>SpectralClustering #1</th>\n",
       "      <td>{'affinity': 'rbf', 'assign_labels': 'kmeans',...</td>\n",
       "      <td>[1.0, 1.0, 0.0, 0.0, 1.0, 1.0, 0.0, 0.0, 0.0, ...</td>\n",
       "      <td>2</td>\n",
       "    </tr>\n",
       "    <tr>\n",
       "      <th>SpectralClustering #2</th>\n",
       "      <td>{'affinity': 'rbf', 'assign_labels': 'kmeans',...</td>\n",
       "      <td>[0.0, 0.0, 1.0, 1.0, 0.0, 0.0, 1.0, 1.0, 1.0, ...</td>\n",
       "      <td>2</td>\n",
       "    </tr>\n",
       "    <tr>\n",
       "      <th>SpectralClustering #3</th>\n",
       "      <td>{'affinity': 'rbf', 'assign_labels': 'kmeans',...</td>\n",
       "      <td>[1.0, 1.0, 0.0, 0.0, 1.0, 1.0, 0.0, 0.0, 0.0, ...</td>\n",
       "      <td>2</td>\n",
       "    </tr>\n",
       "    <tr>\n",
       "      <th>SpectralClustering #4</th>\n",
       "      <td>{'affinity': 'rbf', 'assign_labels': 'kmeans',...</td>\n",
       "      <td>[0.0, 0.0, 1.0, 1.0, 0.0, 0.0, 1.0, 1.0, 1.0, ...</td>\n",
       "      <td>2</td>\n",
       "    </tr>\n",
       "  </tbody>\n",
       "</table>\n",
       "</div>"
      ],
      "text/plain": [
       "                                                        clusterer_params  \\\n",
       "clusterer_id                                                               \n",
       "SpectralClustering #0  {'affinity': 'rbf', 'assign_labels': 'kmeans',...   \n",
       "SpectralClustering #1  {'affinity': 'rbf', 'assign_labels': 'kmeans',...   \n",
       "SpectralClustering #2  {'affinity': 'rbf', 'assign_labels': 'kmeans',...   \n",
       "SpectralClustering #3  {'affinity': 'rbf', 'assign_labels': 'kmeans',...   \n",
       "SpectralClustering #4  {'affinity': 'rbf', 'assign_labels': 'kmeans',...   \n",
       "\n",
       "                                                               partition  \\\n",
       "clusterer_id                                                               \n",
       "SpectralClustering #0  [1.0, 1.0, 0.0, 0.0, 1.0, 1.0, 0.0, 0.0, 0.0, ...   \n",
       "SpectralClustering #1  [1.0, 1.0, 0.0, 0.0, 1.0, 1.0, 0.0, 0.0, 0.0, ...   \n",
       "SpectralClustering #2  [0.0, 0.0, 1.0, 1.0, 0.0, 0.0, 1.0, 1.0, 1.0, ...   \n",
       "SpectralClustering #3  [1.0, 1.0, 0.0, 0.0, 1.0, 1.0, 0.0, 0.0, 0.0, ...   \n",
       "SpectralClustering #4  [0.0, 0.0, 1.0, 1.0, 0.0, 0.0, 1.0, 1.0, 1.0, ...   \n",
       "\n",
       "                       n_clusters  \n",
       "clusterer_id                       \n",
       "SpectralClustering #0           2  \n",
       "SpectralClustering #1           2  \n",
       "SpectralClustering #2           2  \n",
       "SpectralClustering #3           2  \n",
       "SpectralClustering #4           2  "
      ]
     },
     "execution_count": 27,
     "metadata": {},
     "output_type": "execute_result"
    }
   ],
   "source": [
    "ensemble.head()"
   ]
  },
  {
   "cell_type": "code",
   "execution_count": 28,
   "id": "3c8603a4",
   "metadata": {
    "execution": {
     "iopub.execute_input": "2022-11-25T05:32:30.961896Z",
     "iopub.status.busy": "2022-11-25T05:32:30.961524Z",
     "iopub.status.idle": "2022-11-25T05:32:30.982587Z",
     "shell.execute_reply": "2022-11-25T05:32:30.982083Z"
    },
    "papermill": {
     "duration": 0.037402,
     "end_time": "2022-11-25T05:32:30.983870",
     "exception": false,
     "start_time": "2022-11-25T05:32:30.946468",
     "status": "completed"
    },
    "tags": []
   },
   "outputs": [
    {
     "data": {
      "text/plain": [
       "60    5\n",
       "16    5\n",
       "28    5\n",
       "27    5\n",
       "26    5\n",
       "Name: n_clusters, dtype: int64"
      ]
     },
     "execution_count": 28,
     "metadata": {},
     "output_type": "execute_result"
    }
   ],
   "source": [
    "ensemble[\"n_clusters\"].value_counts().head()"
   ]
  },
  {
   "cell_type": "code",
   "execution_count": 29,
   "id": "7d05d5f7",
   "metadata": {
    "execution": {
     "iopub.execute_input": "2022-11-25T05:32:31.034953Z",
     "iopub.status.busy": "2022-11-25T05:32:31.034857Z",
     "iopub.status.idle": "2022-11-25T05:32:31.049485Z",
     "shell.execute_reply": "2022-11-25T05:32:31.049128Z"
    },
    "papermill": {
     "duration": 0.040584,
     "end_time": "2022-11-25T05:32:31.050308",
     "exception": false,
     "start_time": "2022-11-25T05:32:31.009724",
     "status": "completed"
    },
    "tags": []
   },
   "outputs": [
    {
     "data": {
      "text/plain": [
       "count    295.000000\n",
       "mean      31.000000\n",
       "std       17.058323\n",
       "min        2.000000\n",
       "25%       16.000000\n",
       "50%       31.000000\n",
       "75%       46.000000\n",
       "max       60.000000\n",
       "Name: n_clusters, dtype: float64"
      ]
     },
     "metadata": {},
     "output_type": "display_data"
    }
   ],
   "source": [
    "ensemble_stats = ensemble[\"n_clusters\"].describe()\n",
    "display(ensemble_stats)"
   ]
  },
  {
   "cell_type": "markdown",
   "id": "bd42d0f1",
   "metadata": {
    "papermill": {
     "duration": 0.014593,
     "end_time": "2022-11-25T05:32:31.080012",
     "exception": false,
     "start_time": "2022-11-25T05:32:31.065419",
     "status": "completed"
    },
    "tags": []
   },
   "source": [
    "## Testing"
   ]
  },
  {
   "cell_type": "code",
   "execution_count": 30,
   "id": "741faa02",
   "metadata": {
    "execution": {
     "iopub.execute_input": "2022-11-25T05:32:31.109863Z",
     "iopub.status.busy": "2022-11-25T05:32:31.109634Z",
     "iopub.status.idle": "2022-11-25T05:32:31.122178Z",
     "shell.execute_reply": "2022-11-25T05:32:31.121829Z"
    },
    "papermill": {
     "duration": 0.028456,
     "end_time": "2022-11-25T05:32:31.123028",
     "exception": false,
     "start_time": "2022-11-25T05:32:31.094572",
     "status": "completed"
    },
    "tags": []
   },
   "outputs": [],
   "source": [
    "assert ensemble_stats[\"min\"] > 1"
   ]
  },
  {
   "cell_type": "code",
   "execution_count": 31,
   "id": "9e963c53",
   "metadata": {
    "execution": {
     "iopub.execute_input": "2022-11-25T05:32:31.153257Z",
     "iopub.status.busy": "2022-11-25T05:32:31.153045Z",
     "iopub.status.idle": "2022-11-25T05:32:31.165380Z",
     "shell.execute_reply": "2022-11-25T05:32:31.165015Z"
    },
    "papermill": {
     "duration": 0.028084,
     "end_time": "2022-11-25T05:32:31.166217",
     "exception": false,
     "start_time": "2022-11-25T05:32:31.138133",
     "status": "completed"
    },
    "tags": []
   },
   "outputs": [],
   "source": [
    "assert not ensemble[\"n_clusters\"].isna().any()"
   ]
  },
  {
   "cell_type": "code",
   "execution_count": 32,
   "id": "5c3b15ab",
   "metadata": {
    "execution": {
     "iopub.execute_input": "2022-11-25T05:32:31.196608Z",
     "iopub.status.busy": "2022-11-25T05:32:31.196276Z",
     "iopub.status.idle": "2022-11-25T05:32:31.208466Z",
     "shell.execute_reply": "2022-11-25T05:32:31.208101Z"
    },
    "papermill": {
     "duration": 0.027924,
     "end_time": "2022-11-25T05:32:31.209277",
     "exception": false,
     "start_time": "2022-11-25T05:32:31.181353",
     "status": "completed"
    },
    "tags": []
   },
   "outputs": [],
   "source": [
    "assert ensemble.shape[0] == len(CLUSTERERS)"
   ]
  },
  {
   "cell_type": "code",
   "execution_count": 33,
   "id": "0ef6e3ba",
   "metadata": {
    "execution": {
     "iopub.execute_input": "2022-11-25T05:32:31.239454Z",
     "iopub.status.busy": "2022-11-25T05:32:31.239159Z",
     "iopub.status.idle": "2022-11-25T05:32:31.264031Z",
     "shell.execute_reply": "2022-11-25T05:32:31.263659Z"
    },
    "papermill": {
     "duration": 0.040669,
     "end_time": "2022-11-25T05:32:31.264913",
     "exception": false,
     "start_time": "2022-11-25T05:32:31.224244",
     "status": "completed"
    },
    "tags": []
   },
   "outputs": [],
   "source": [
    "# all partitions have the right size\n",
    "assert np.all(\n",
    "    [part[\"partition\"].shape[0] == data.shape[0] for idx, part in ensemble.iterrows()]\n",
    ")"
   ]
  },
  {
   "cell_type": "code",
   "execution_count": 34,
   "id": "eb89ef4f",
   "metadata": {
    "execution": {
     "iopub.execute_input": "2022-11-25T05:32:31.295319Z",
     "iopub.status.busy": "2022-11-25T05:32:31.295068Z",
     "iopub.status.idle": "2022-11-25T05:32:31.322240Z",
     "shell.execute_reply": "2022-11-25T05:32:31.321846Z"
    },
    "papermill": {
     "duration": 0.043195,
     "end_time": "2022-11-25T05:32:31.323244",
     "exception": false,
     "start_time": "2022-11-25T05:32:31.280049",
     "status": "completed"
    },
    "tags": []
   },
   "outputs": [],
   "source": [
    "# no partition has negative clusters (noisy points)\n",
    "assert not np.any([(part[\"partition\"] < 0).any() for idx, part in ensemble.iterrows()])"
   ]
  },
  {
   "cell_type": "markdown",
   "id": "a74f582f",
   "metadata": {
    "papermill": {
     "duration": 0.014665,
     "end_time": "2022-11-25T05:32:31.352918",
     "exception": false,
     "start_time": "2022-11-25T05:32:31.338253",
     "status": "completed"
    },
    "tags": []
   },
   "source": [
    "## Add clustering quality measures"
   ]
  },
  {
   "cell_type": "code",
   "execution_count": 35,
   "id": "ee567e46",
   "metadata": {
    "execution": {
     "iopub.execute_input": "2022-11-25T05:32:31.382836Z",
     "iopub.status.busy": "2022-11-25T05:32:31.382471Z",
     "iopub.status.idle": "2022-11-25T05:32:31.395004Z",
     "shell.execute_reply": "2022-11-25T05:32:31.394641Z"
    },
    "papermill": {
     "duration": 0.028364,
     "end_time": "2022-11-25T05:32:31.395851",
     "exception": false,
     "start_time": "2022-11-25T05:32:31.367487",
     "status": "completed"
    },
    "tags": []
   },
   "outputs": [],
   "source": [
    "from sklearn.metrics import calinski_harabasz_score"
   ]
  },
  {
   "cell_type": "code",
   "execution_count": 36,
   "id": "39fbde7a",
   "metadata": {
    "execution": {
     "iopub.execute_input": "2022-11-25T05:32:31.426172Z",
     "iopub.status.busy": "2022-11-25T05:32:31.425910Z",
     "iopub.status.idle": "2022-11-25T05:32:32.120544Z",
     "shell.execute_reply": "2022-11-25T05:32:32.120076Z"
    },
    "papermill": {
     "duration": 0.710733,
     "end_time": "2022-11-25T05:32:32.121623",
     "exception": false,
     "start_time": "2022-11-25T05:32:31.410890",
     "status": "completed"
    },
    "tags": []
   },
   "outputs": [],
   "source": [
    "ensemble = ensemble.assign(\n",
    "    ch_score=ensemble[\"partition\"].apply(lambda x: calinski_harabasz_score(data, x))\n",
    ")"
   ]
  },
  {
   "cell_type": "code",
   "execution_count": 37,
   "id": "e7944f4b",
   "metadata": {
    "execution": {
     "iopub.execute_input": "2022-11-25T05:32:32.151806Z",
     "iopub.status.busy": "2022-11-25T05:32:32.151646Z",
     "iopub.status.idle": "2022-11-25T05:32:32.164725Z",
     "shell.execute_reply": "2022-11-25T05:32:32.164350Z"
    },
    "papermill": {
     "duration": 0.029086,
     "end_time": "2022-11-25T05:32:32.165555",
     "exception": false,
     "start_time": "2022-11-25T05:32:32.136469",
     "status": "completed"
    },
    "tags": []
   },
   "outputs": [
    {
     "data": {
      "text/plain": [
       "(295, 4)"
      ]
     },
     "execution_count": 37,
     "metadata": {},
     "output_type": "execute_result"
    }
   ],
   "source": [
    "ensemble.shape"
   ]
  },
  {
   "cell_type": "code",
   "execution_count": 38,
   "id": "89ae696d",
   "metadata": {
    "execution": {
     "iopub.execute_input": "2022-11-25T05:32:32.195635Z",
     "iopub.status.busy": "2022-11-25T05:32:32.195484Z",
     "iopub.status.idle": "2022-11-25T05:32:32.214356Z",
     "shell.execute_reply": "2022-11-25T05:32:32.213920Z"
    },
    "papermill": {
     "duration": 0.034716,
     "end_time": "2022-11-25T05:32:32.215204",
     "exception": false,
     "start_time": "2022-11-25T05:32:32.180488",
     "status": "completed"
    },
    "tags": []
   },
   "outputs": [
    {
     "data": {
      "text/html": [
       "<div>\n",
       "<style scoped>\n",
       "    .dataframe tbody tr th:only-of-type {\n",
       "        vertical-align: middle;\n",
       "    }\n",
       "\n",
       "    .dataframe tbody tr th {\n",
       "        vertical-align: top;\n",
       "    }\n",
       "\n",
       "    .dataframe thead th {\n",
       "        text-align: right;\n",
       "    }\n",
       "</style>\n",
       "<table border=\"1\" class=\"dataframe\">\n",
       "  <thead>\n",
       "    <tr style=\"text-align: right;\">\n",
       "      <th></th>\n",
       "      <th>clusterer_params</th>\n",
       "      <th>partition</th>\n",
       "      <th>n_clusters</th>\n",
       "      <th>ch_score</th>\n",
       "    </tr>\n",
       "    <tr>\n",
       "      <th>clusterer_id</th>\n",
       "      <th></th>\n",
       "      <th></th>\n",
       "      <th></th>\n",
       "      <th></th>\n",
       "    </tr>\n",
       "  </thead>\n",
       "  <tbody>\n",
       "    <tr>\n",
       "      <th>SpectralClustering #0</th>\n",
       "      <td>{'affinity': 'rbf', 'assign_labels': 'kmeans',...</td>\n",
       "      <td>[1.0, 1.0, 0.0, 0.0, 1.0, 1.0, 0.0, 0.0, 0.0, ...</td>\n",
       "      <td>2</td>\n",
       "      <td>50.292515</td>\n",
       "    </tr>\n",
       "    <tr>\n",
       "      <th>SpectralClustering #1</th>\n",
       "      <td>{'affinity': 'rbf', 'assign_labels': 'kmeans',...</td>\n",
       "      <td>[1.0, 1.0, 0.0, 0.0, 1.0, 1.0, 0.0, 0.0, 0.0, ...</td>\n",
       "      <td>2</td>\n",
       "      <td>50.311355</td>\n",
       "    </tr>\n",
       "    <tr>\n",
       "      <th>SpectralClustering #2</th>\n",
       "      <td>{'affinity': 'rbf', 'assign_labels': 'kmeans',...</td>\n",
       "      <td>[0.0, 0.0, 1.0, 1.0, 0.0, 0.0, 1.0, 1.0, 1.0, ...</td>\n",
       "      <td>2</td>\n",
       "      <td>50.308614</td>\n",
       "    </tr>\n",
       "    <tr>\n",
       "      <th>SpectralClustering #3</th>\n",
       "      <td>{'affinity': 'rbf', 'assign_labels': 'kmeans',...</td>\n",
       "      <td>[1.0, 1.0, 0.0, 0.0, 1.0, 1.0, 0.0, 0.0, 0.0, ...</td>\n",
       "      <td>2</td>\n",
       "      <td>50.321470</td>\n",
       "    </tr>\n",
       "    <tr>\n",
       "      <th>SpectralClustering #4</th>\n",
       "      <td>{'affinity': 'rbf', 'assign_labels': 'kmeans',...</td>\n",
       "      <td>[0.0, 0.0, 1.0, 1.0, 0.0, 0.0, 1.0, 1.0, 1.0, ...</td>\n",
       "      <td>2</td>\n",
       "      <td>50.308614</td>\n",
       "    </tr>\n",
       "  </tbody>\n",
       "</table>\n",
       "</div>"
      ],
      "text/plain": [
       "                                                        clusterer_params  \\\n",
       "clusterer_id                                                               \n",
       "SpectralClustering #0  {'affinity': 'rbf', 'assign_labels': 'kmeans',...   \n",
       "SpectralClustering #1  {'affinity': 'rbf', 'assign_labels': 'kmeans',...   \n",
       "SpectralClustering #2  {'affinity': 'rbf', 'assign_labels': 'kmeans',...   \n",
       "SpectralClustering #3  {'affinity': 'rbf', 'assign_labels': 'kmeans',...   \n",
       "SpectralClustering #4  {'affinity': 'rbf', 'assign_labels': 'kmeans',...   \n",
       "\n",
       "                                                               partition  \\\n",
       "clusterer_id                                                               \n",
       "SpectralClustering #0  [1.0, 1.0, 0.0, 0.0, 1.0, 1.0, 0.0, 0.0, 0.0, ...   \n",
       "SpectralClustering #1  [1.0, 1.0, 0.0, 0.0, 1.0, 1.0, 0.0, 0.0, 0.0, ...   \n",
       "SpectralClustering #2  [0.0, 0.0, 1.0, 1.0, 0.0, 0.0, 1.0, 1.0, 1.0, ...   \n",
       "SpectralClustering #3  [1.0, 1.0, 0.0, 0.0, 1.0, 1.0, 0.0, 0.0, 0.0, ...   \n",
       "SpectralClustering #4  [0.0, 0.0, 1.0, 1.0, 0.0, 0.0, 1.0, 1.0, 1.0, ...   \n",
       "\n",
       "                       n_clusters   ch_score  \n",
       "clusterer_id                                  \n",
       "SpectralClustering #0           2  50.292515  \n",
       "SpectralClustering #1           2  50.311355  \n",
       "SpectralClustering #2           2  50.308614  \n",
       "SpectralClustering #3           2  50.321470  \n",
       "SpectralClustering #4           2  50.308614  "
      ]
     },
     "execution_count": 38,
     "metadata": {},
     "output_type": "execute_result"
    }
   ],
   "source": [
    "ensemble.head()"
   ]
  },
  {
   "cell_type": "markdown",
   "id": "729b4986",
   "metadata": {
    "papermill": {
     "duration": 0.014626,
     "end_time": "2022-11-25T05:32:32.244691",
     "exception": false,
     "start_time": "2022-11-25T05:32:32.230065",
     "status": "completed"
    },
    "tags": []
   },
   "source": [
    "## Save"
   ]
  },
  {
   "cell_type": "code",
   "execution_count": 39,
   "id": "8d1318c4",
   "metadata": {
    "execution": {
     "iopub.execute_input": "2022-11-25T05:32:32.274350Z",
     "iopub.status.busy": "2022-11-25T05:32:32.274197Z",
     "iopub.status.idle": "2022-11-25T05:32:32.287592Z",
     "shell.execute_reply": "2022-11-25T05:32:32.287233Z"
    },
    "papermill": {
     "duration": 0.029247,
     "end_time": "2022-11-25T05:32:32.288446",
     "exception": false,
     "start_time": "2022-11-25T05:32:32.259199",
     "status": "completed"
    },
    "tags": []
   },
   "outputs": [
    {
     "data": {
      "text/plain": [
       "PosixPath('/opt/data/results/clustering/null_sims/shuffle_lvs/runs/pca-z_score_std-projection-smultixcan-efo_partial-mashr-zscores/SpectralClustering-AFFINITY_rbf-GAMMA_0001-KMEANS_N_INIT_10-K_MAX_60-K_MIN_2-N_REPS_PER_K_5.pkl')"
      ]
     },
     "metadata": {},
     "output_type": "display_data"
    }
   ],
   "source": [
    "output_filename = Path(\n",
    "    RESULTS_DIR,\n",
    "    generate_result_set_name(\n",
    "        CLUSTERING_OPTIONS,\n",
    "        prefix=f\"{clustering_method_name}-\",\n",
    "        suffix=\".pkl\",\n",
    "    ),\n",
    ").resolve()\n",
    "display(output_filename)"
   ]
  },
  {
   "cell_type": "code",
   "execution_count": 40,
   "id": "f68c903c",
   "metadata": {
    "execution": {
     "iopub.execute_input": "2022-11-25T05:32:32.318813Z",
     "iopub.status.busy": "2022-11-25T05:32:32.318661Z",
     "iopub.status.idle": "2022-11-25T05:32:32.340074Z",
     "shell.execute_reply": "2022-11-25T05:32:32.339587Z"
    },
    "papermill": {
     "duration": 0.037541,
     "end_time": "2022-11-25T05:32:32.341142",
     "exception": false,
     "start_time": "2022-11-25T05:32:32.303601",
     "status": "completed"
    },
    "tags": []
   },
   "outputs": [],
   "source": [
    "ensemble.to_pickle(output_filename)"
   ]
  },
  {
   "cell_type": "markdown",
   "id": "79eb62c9",
   "metadata": {
    "papermill": {
     "duration": 0.014694,
     "end_time": "2022-11-25T05:32:32.370994",
     "exception": false,
     "start_time": "2022-11-25T05:32:32.356300",
     "status": "completed"
    },
    "tags": []
   },
   "source": [
    "# Cluster quality"
   ]
  },
  {
   "cell_type": "code",
   "execution_count": 41,
   "id": "3a4e2b22",
   "metadata": {
    "execution": {
     "iopub.execute_input": "2022-11-25T05:32:32.401018Z",
     "iopub.status.busy": "2022-11-25T05:32:32.400863Z",
     "iopub.status.idle": "2022-11-25T05:32:32.417870Z",
     "shell.execute_reply": "2022-11-25T05:32:32.417505Z"
    },
    "papermill": {
     "duration": 0.032977,
     "end_time": "2022-11-25T05:32:32.418717",
     "exception": false,
     "start_time": "2022-11-25T05:32:32.385740",
     "status": "completed"
    },
    "tags": []
   },
   "outputs": [
    {
     "data": {
      "text/html": [
       "<div>\n",
       "<style scoped>\n",
       "    .dataframe tbody tr th:only-of-type {\n",
       "        vertical-align: middle;\n",
       "    }\n",
       "\n",
       "    .dataframe tbody tr th {\n",
       "        vertical-align: top;\n",
       "    }\n",
       "\n",
       "    .dataframe thead th {\n",
       "        text-align: right;\n",
       "    }\n",
       "</style>\n",
       "<table border=\"1\" class=\"dataframe\">\n",
       "  <thead>\n",
       "    <tr style=\"text-align: right;\">\n",
       "      <th></th>\n",
       "      <th>ch_score</th>\n",
       "    </tr>\n",
       "    <tr>\n",
       "      <th>n_clusters</th>\n",
       "      <th></th>\n",
       "    </tr>\n",
       "  </thead>\n",
       "  <tbody>\n",
       "    <tr>\n",
       "      <th>2</th>\n",
       "      <td>50.308514</td>\n",
       "    </tr>\n",
       "    <tr>\n",
       "      <th>3</th>\n",
       "      <td>43.097467</td>\n",
       "    </tr>\n",
       "    <tr>\n",
       "      <th>4</th>\n",
       "      <td>38.604488</td>\n",
       "    </tr>\n",
       "    <tr>\n",
       "      <th>5</th>\n",
       "      <td>35.062480</td>\n",
       "    </tr>\n",
       "    <tr>\n",
       "      <th>6</th>\n",
       "      <td>32.344669</td>\n",
       "    </tr>\n",
       "    <tr>\n",
       "      <th>7</th>\n",
       "      <td>30.273462</td>\n",
       "    </tr>\n",
       "    <tr>\n",
       "      <th>8</th>\n",
       "      <td>28.477000</td>\n",
       "    </tr>\n",
       "    <tr>\n",
       "      <th>9</th>\n",
       "      <td>26.852176</td>\n",
       "    </tr>\n",
       "    <tr>\n",
       "      <th>10</th>\n",
       "      <td>25.625646</td>\n",
       "    </tr>\n",
       "    <tr>\n",
       "      <th>11</th>\n",
       "      <td>24.481549</td>\n",
       "    </tr>\n",
       "    <tr>\n",
       "      <th>12</th>\n",
       "      <td>23.512526</td>\n",
       "    </tr>\n",
       "    <tr>\n",
       "      <th>13</th>\n",
       "      <td>22.572613</td>\n",
       "    </tr>\n",
       "    <tr>\n",
       "      <th>14</th>\n",
       "      <td>21.797051</td>\n",
       "    </tr>\n",
       "    <tr>\n",
       "      <th>15</th>\n",
       "      <td>21.070577</td>\n",
       "    </tr>\n",
       "    <tr>\n",
       "      <th>16</th>\n",
       "      <td>20.462617</td>\n",
       "    </tr>\n",
       "    <tr>\n",
       "      <th>17</th>\n",
       "      <td>19.833355</td>\n",
       "    </tr>\n",
       "    <tr>\n",
       "      <th>18</th>\n",
       "      <td>19.255426</td>\n",
       "    </tr>\n",
       "    <tr>\n",
       "      <th>19</th>\n",
       "      <td>18.706631</td>\n",
       "    </tr>\n",
       "    <tr>\n",
       "      <th>20</th>\n",
       "      <td>18.263516</td>\n",
       "    </tr>\n",
       "    <tr>\n",
       "      <th>21</th>\n",
       "      <td>17.815065</td>\n",
       "    </tr>\n",
       "    <tr>\n",
       "      <th>22</th>\n",
       "      <td>17.386416</td>\n",
       "    </tr>\n",
       "    <tr>\n",
       "      <th>23</th>\n",
       "      <td>17.079466</td>\n",
       "    </tr>\n",
       "    <tr>\n",
       "      <th>24</th>\n",
       "      <td>16.774307</td>\n",
       "    </tr>\n",
       "    <tr>\n",
       "      <th>25</th>\n",
       "      <td>16.439522</td>\n",
       "    </tr>\n",
       "    <tr>\n",
       "      <th>26</th>\n",
       "      <td>16.039765</td>\n",
       "    </tr>\n",
       "    <tr>\n",
       "      <th>27</th>\n",
       "      <td>15.784147</td>\n",
       "    </tr>\n",
       "    <tr>\n",
       "      <th>28</th>\n",
       "      <td>15.563958</td>\n",
       "    </tr>\n",
       "    <tr>\n",
       "      <th>29</th>\n",
       "      <td>15.196766</td>\n",
       "    </tr>\n",
       "    <tr>\n",
       "      <th>30</th>\n",
       "      <td>14.973847</td>\n",
       "    </tr>\n",
       "    <tr>\n",
       "      <th>31</th>\n",
       "      <td>14.768399</td>\n",
       "    </tr>\n",
       "    <tr>\n",
       "      <th>32</th>\n",
       "      <td>14.518090</td>\n",
       "    </tr>\n",
       "    <tr>\n",
       "      <th>33</th>\n",
       "      <td>14.308830</td>\n",
       "    </tr>\n",
       "    <tr>\n",
       "      <th>34</th>\n",
       "      <td>14.146622</td>\n",
       "    </tr>\n",
       "    <tr>\n",
       "      <th>35</th>\n",
       "      <td>14.013051</td>\n",
       "    </tr>\n",
       "    <tr>\n",
       "      <th>36</th>\n",
       "      <td>14.036213</td>\n",
       "    </tr>\n",
       "    <tr>\n",
       "      <th>37</th>\n",
       "      <td>13.716191</td>\n",
       "    </tr>\n",
       "    <tr>\n",
       "      <th>38</th>\n",
       "      <td>13.575322</td>\n",
       "    </tr>\n",
       "    <tr>\n",
       "      <th>39</th>\n",
       "      <td>13.549629</td>\n",
       "    </tr>\n",
       "    <tr>\n",
       "      <th>40</th>\n",
       "      <td>13.695650</td>\n",
       "    </tr>\n",
       "    <tr>\n",
       "      <th>41</th>\n",
       "      <td>13.529060</td>\n",
       "    </tr>\n",
       "    <tr>\n",
       "      <th>42</th>\n",
       "      <td>13.407104</td>\n",
       "    </tr>\n",
       "    <tr>\n",
       "      <th>43</th>\n",
       "      <td>13.595033</td>\n",
       "    </tr>\n",
       "    <tr>\n",
       "      <th>44</th>\n",
       "      <td>13.735934</td>\n",
       "    </tr>\n",
       "    <tr>\n",
       "      <th>45</th>\n",
       "      <td>13.512737</td>\n",
       "    </tr>\n",
       "    <tr>\n",
       "      <th>46</th>\n",
       "      <td>13.738503</td>\n",
       "    </tr>\n",
       "    <tr>\n",
       "      <th>47</th>\n",
       "      <td>14.124368</td>\n",
       "    </tr>\n",
       "    <tr>\n",
       "      <th>48</th>\n",
       "      <td>14.474515</td>\n",
       "    </tr>\n",
       "    <tr>\n",
       "      <th>49</th>\n",
       "      <td>14.574195</td>\n",
       "    </tr>\n",
       "    <tr>\n",
       "      <th>50</th>\n",
       "      <td>14.970300</td>\n",
       "    </tr>\n",
       "    <tr>\n",
       "      <th>51</th>\n",
       "      <td>15.466627</td>\n",
       "    </tr>\n",
       "    <tr>\n",
       "      <th>52</th>\n",
       "      <td>15.491661</td>\n",
       "    </tr>\n",
       "    <tr>\n",
       "      <th>53</th>\n",
       "      <td>15.340782</td>\n",
       "    </tr>\n",
       "    <tr>\n",
       "      <th>54</th>\n",
       "      <td>15.267095</td>\n",
       "    </tr>\n",
       "    <tr>\n",
       "      <th>55</th>\n",
       "      <td>15.272513</td>\n",
       "    </tr>\n",
       "    <tr>\n",
       "      <th>56</th>\n",
       "      <td>15.097749</td>\n",
       "    </tr>\n",
       "    <tr>\n",
       "      <th>57</th>\n",
       "      <td>14.927423</td>\n",
       "    </tr>\n",
       "    <tr>\n",
       "      <th>58</th>\n",
       "      <td>15.061643</td>\n",
       "    </tr>\n",
       "    <tr>\n",
       "      <th>59</th>\n",
       "      <td>14.873919</td>\n",
       "    </tr>\n",
       "    <tr>\n",
       "      <th>60</th>\n",
       "      <td>14.751761</td>\n",
       "    </tr>\n",
       "  </tbody>\n",
       "</table>\n",
       "</div>"
      ],
      "text/plain": [
       "             ch_score\n",
       "n_clusters           \n",
       "2           50.308514\n",
       "3           43.097467\n",
       "4           38.604488\n",
       "5           35.062480\n",
       "6           32.344669\n",
       "7           30.273462\n",
       "8           28.477000\n",
       "9           26.852176\n",
       "10          25.625646\n",
       "11          24.481549\n",
       "12          23.512526\n",
       "13          22.572613\n",
       "14          21.797051\n",
       "15          21.070577\n",
       "16          20.462617\n",
       "17          19.833355\n",
       "18          19.255426\n",
       "19          18.706631\n",
       "20          18.263516\n",
       "21          17.815065\n",
       "22          17.386416\n",
       "23          17.079466\n",
       "24          16.774307\n",
       "25          16.439522\n",
       "26          16.039765\n",
       "27          15.784147\n",
       "28          15.563958\n",
       "29          15.196766\n",
       "30          14.973847\n",
       "31          14.768399\n",
       "32          14.518090\n",
       "33          14.308830\n",
       "34          14.146622\n",
       "35          14.013051\n",
       "36          14.036213\n",
       "37          13.716191\n",
       "38          13.575322\n",
       "39          13.549629\n",
       "40          13.695650\n",
       "41          13.529060\n",
       "42          13.407104\n",
       "43          13.595033\n",
       "44          13.735934\n",
       "45          13.512737\n",
       "46          13.738503\n",
       "47          14.124368\n",
       "48          14.474515\n",
       "49          14.574195\n",
       "50          14.970300\n",
       "51          15.466627\n",
       "52          15.491661\n",
       "53          15.340782\n",
       "54          15.267095\n",
       "55          15.272513\n",
       "56          15.097749\n",
       "57          14.927423\n",
       "58          15.061643\n",
       "59          14.873919\n",
       "60          14.751761"
      ]
     },
     "metadata": {},
     "output_type": "display_data"
    }
   ],
   "source": [
    "with pd.option_context(\"display.max_rows\", None, \"display.max_columns\", None):\n",
    "    _df = ensemble.groupby([\"n_clusters\"]).mean()\n",
    "    display(_df)"
   ]
  },
  {
   "cell_type": "code",
   "execution_count": 42,
   "id": "19621c68",
   "metadata": {
    "execution": {
     "iopub.execute_input": "2022-11-25T05:32:32.449610Z",
     "iopub.status.busy": "2022-11-25T05:32:32.449455Z",
     "iopub.status.idle": "2022-11-25T05:32:34.454040Z",
     "shell.execute_reply": "2022-11-25T05:32:34.453533Z"
    },
    "papermill": {
     "duration": 2.021061,
     "end_time": "2022-11-25T05:32:34.455049",
     "exception": false,
     "start_time": "2022-11-25T05:32:32.433988",
     "status": "completed"
    },
    "tags": []
   },
   "outputs": [
    {
     "data": {
      "image/png": "[encoded data removed]",
      "text/plain": [
       "<Figure size 1008x432 with 1 Axes>"
      ]
     },
     "metadata": {},
     "output_type": "display_data"
    }
   ],
   "source": [
    "with sns.plotting_context(\"talk\", font_scale=0.75), sns.axes_style(\n",
    "    \"whitegrid\", {\"grid.linestyle\": \"--\"}\n",
    "):\n",
    "    fig = plt.figure(figsize=(14, 6))\n",
    "    ax = sns.pointplot(data=ensemble, x=\"n_clusters\", y=\"ch_score\")\n",
    "    ax.set_ylabel(\"Calinski-Harabasz index\")\n",
    "    ax.set_xlabel(\"Number of clusters ($k$)\")\n",
    "    ax.set_xticklabels(ax.get_xticklabels(), rotation=45)\n",
    "    plt.grid(True)\n",
    "    plt.tight_layout()"
   ]
  },
  {
   "cell_type": "markdown",
   "id": "6040cd8c",
   "metadata": {
    "papermill": {
     "duration": 0.023343,
     "end_time": "2022-11-25T05:32:34.501714",
     "exception": false,
     "start_time": "2022-11-25T05:32:34.478371",
     "status": "completed"
    },
    "tags": []
   },
   "source": [
    "# Stability"
   ]
  },
  {
   "cell_type": "markdown",
   "id": "e8a9fe1b",
   "metadata": {
    "papermill": {
     "duration": 0.019478,
     "end_time": "2022-11-25T05:32:34.544634",
     "exception": false,
     "start_time": "2022-11-25T05:32:34.525156",
     "status": "completed"
    },
    "tags": []
   },
   "source": [
    "## Group ensemble by n_clusters"
   ]
  },
  {
   "cell_type": "code",
   "execution_count": 43,
   "id": "64ab9570",
   "metadata": {
    "execution": {
     "iopub.execute_input": "2022-11-25T05:32:34.575838Z",
     "iopub.status.busy": "2022-11-25T05:32:34.575727Z",
     "iopub.status.idle": "2022-11-25T05:32:34.598991Z",
     "shell.execute_reply": "2022-11-25T05:32:34.598522Z"
    },
    "papermill": {
     "duration": 0.04022,
     "end_time": "2022-11-25T05:32:34.600041",
     "exception": false,
     "start_time": "2022-11-25T05:32:34.559821",
     "status": "completed"
    },
    "tags": []
   },
   "outputs": [],
   "source": [
    "parts = ensemble.groupby(\"n_clusters\").apply(\n",
    "    lambda x: np.concatenate(x[\"partition\"].apply(lambda x: x.reshape(1, -1)), axis=0)\n",
    ")"
   ]
  },
  {
   "cell_type": "code",
   "execution_count": 44,
   "id": "aeed73a9",
   "metadata": {
    "execution": {
     "iopub.execute_input": "2022-11-25T05:32:34.632044Z",
     "iopub.status.busy": "2022-11-25T05:32:34.631888Z",
     "iopub.status.idle": "2022-11-25T05:32:34.654178Z",
     "shell.execute_reply": "2022-11-25T05:32:34.653755Z"
    },
    "papermill": {
     "duration": 0.038968,
     "end_time": "2022-11-25T05:32:34.655006",
     "exception": false,
     "start_time": "2022-11-25T05:32:34.616038",
     "status": "completed"
    },
    "tags": []
   },
   "outputs": [
    {
     "data": {
      "text/plain": [
       "n_clusters\n",
       "2    [[1.0, 1.0, 0.0, 0.0, 1.0, 1.0, 0.0, 0.0, 0.0,...\n",
       "3    [[0.0, 2.0, 1.0, 1.0, 2.0, 2.0, 1.0, 1.0, 0.0,...\n",
       "4    [[2.0, 3.0, 2.0, 0.0, 3.0, 3.0, 0.0, 0.0, 2.0,...\n",
       "5    [[3.0, 4.0, 3.0, 2.0, 4.0, 4.0, 2.0, 3.0, 3.0,...\n",
       "6    [[2.0, 4.0, 2.0, 0.0, 5.0, 5.0, 0.0, 3.0, 2.0,...\n",
       "dtype: object"
      ]
     },
     "execution_count": 44,
     "metadata": {},
     "output_type": "execute_result"
    }
   ],
   "source": [
    "parts.head()"
   ]
  },
  {
   "cell_type": "code",
   "execution_count": 45,
   "id": "726119ef",
   "metadata": {
    "execution": {
     "iopub.execute_input": "2022-11-25T05:32:34.687139Z",
     "iopub.status.busy": "2022-11-25T05:32:34.686983Z",
     "iopub.status.idle": "2022-11-25T05:32:34.700576Z",
     "shell.execute_reply": "2022-11-25T05:32:34.700129Z"
    },
    "papermill": {
     "duration": 0.03045,
     "end_time": "2022-11-25T05:32:34.701471",
     "exception": false,
     "start_time": "2022-11-25T05:32:34.671021",
     "status": "completed"
    },
    "tags": []
   },
   "outputs": [],
   "source": [
    "assert np.all(\n",
    "    [\n",
    "        parts.loc[k].shape == (CLUSTERING_OPTIONS[\"N_REPS_PER_K\"], data.shape[0])\n",
    "        for k in parts.index\n",
    "    ]\n",
    ")"
   ]
  },
  {
   "cell_type": "markdown",
   "id": "1836d675",
   "metadata": {
    "papermill": {
     "duration": 0.015421,
     "end_time": "2022-11-25T05:32:34.732910",
     "exception": false,
     "start_time": "2022-11-25T05:32:34.717489",
     "status": "completed"
    },
    "tags": []
   },
   "source": [
    "## Compute stability"
   ]
  },
  {
   "cell_type": "code",
   "execution_count": 46,
   "id": "4f941487",
   "metadata": {
    "execution": {
     "iopub.execute_input": "2022-11-25T05:32:34.764284Z",
     "iopub.status.busy": "2022-11-25T05:32:34.764125Z",
     "iopub.status.idle": "2022-11-25T05:32:34.776744Z",
     "shell.execute_reply": "2022-11-25T05:32:34.776303Z"
    },
    "papermill": {
     "duration": 0.02935,
     "end_time": "2022-11-25T05:32:34.777644",
     "exception": false,
     "start_time": "2022-11-25T05:32:34.748294",
     "status": "completed"
    },
    "tags": []
   },
   "outputs": [],
   "source": [
    "from sklearn.metrics import adjusted_rand_score as ari\n",
    "from scipy.spatial.distance import pdist"
   ]
  },
  {
   "cell_type": "code",
   "execution_count": 47,
   "id": "8e8eeaae",
   "metadata": {
    "execution": {
     "iopub.execute_input": "2022-11-25T05:32:34.809785Z",
     "iopub.status.busy": "2022-11-25T05:32:34.809632Z",
     "iopub.status.idle": "2022-11-25T05:32:35.460466Z",
     "shell.execute_reply": "2022-11-25T05:32:35.459993Z"
    },
    "papermill": {
     "duration": 0.667877,
     "end_time": "2022-11-25T05:32:35.461483",
     "exception": false,
     "start_time": "2022-11-25T05:32:34.793606",
     "status": "completed"
    },
    "tags": []
   },
   "outputs": [],
   "source": [
    "parts_ari = pd.Series(\n",
    "    {k: pdist(parts.loc[k], metric=ari) for k in parts.index}, name=\"k\"\n",
    ")"
   ]
  },
  {
   "cell_type": "code",
   "execution_count": 48,
   "id": "1447cfaf",
   "metadata": {
    "execution": {
     "iopub.execute_input": "2022-11-25T05:32:35.493784Z",
     "iopub.status.busy": "2022-11-25T05:32:35.493624Z",
     "iopub.status.idle": "2022-11-25T05:32:35.508201Z",
     "shell.execute_reply": "2022-11-25T05:32:35.507840Z"
    },
    "papermill": {
     "duration": 0.031388,
     "end_time": "2022-11-25T05:32:35.509051",
     "exception": false,
     "start_time": "2022-11-25T05:32:35.477663",
     "status": "completed"
    },
    "tags": []
   },
   "outputs": [
    {
     "data": {
      "text/plain": [
       "2     0.984722\n",
       "3     0.940837\n",
       "4     0.870126\n",
       "5     0.542006\n",
       "6     0.438186\n",
       "7     0.351023\n",
       "8     0.291870\n",
       "9     0.264119\n",
       "10    0.248158\n",
       "12    0.188456\n",
       "11    0.183872\n",
       "14    0.174827\n",
       "13    0.154220\n",
       "16    0.139773\n",
       "15    0.132691\n",
       "Name: k, dtype: float64"
      ]
     },
     "metadata": {},
     "output_type": "display_data"
    }
   ],
   "source": [
    "parts_ari_stability = parts_ari.apply(lambda x: x.mean())\n",
    "display(parts_ari_stability.sort_values(ascending=False).head(15))"
   ]
  },
  {
   "cell_type": "code",
   "execution_count": 49,
   "id": "d2395eae",
   "metadata": {
    "execution": {
     "iopub.execute_input": "2022-11-25T05:32:35.541382Z",
     "iopub.status.busy": "2022-11-25T05:32:35.541228Z",
     "iopub.status.idle": "2022-11-25T05:32:35.554811Z",
     "shell.execute_reply": "2022-11-25T05:32:35.554373Z"
    },
    "papermill": {
     "duration": 0.03058,
     "end_time": "2022-11-25T05:32:35.555723",
     "exception": false,
     "start_time": "2022-11-25T05:32:35.525143",
     "status": "completed"
    },
    "tags": []
   },
   "outputs": [],
   "source": [
    "parts_ari_df = pd.DataFrame.from_records(parts_ari.tolist()).set_index(\n",
    "    parts_ari.index.copy()\n",
    ")"
   ]
  },
  {
   "cell_type": "code",
   "execution_count": 50,
   "id": "ecbe0693",
   "metadata": {
    "execution": {
     "iopub.execute_input": "2022-11-25T05:32:35.588031Z",
     "iopub.status.busy": "2022-11-25T05:32:35.587877Z",
     "iopub.status.idle": "2022-11-25T05:32:35.601153Z",
     "shell.execute_reply": "2022-11-25T05:32:35.600720Z"
    },
    "papermill": {
     "duration": 0.030222,
     "end_time": "2022-11-25T05:32:35.601977",
     "exception": false,
     "start_time": "2022-11-25T05:32:35.571755",
     "status": "completed"
    },
    "tags": []
   },
   "outputs": [
    {
     "data": {
      "text/plain": [
       "(59, 10)"
      ]
     },
     "execution_count": 50,
     "metadata": {},
     "output_type": "execute_result"
    }
   ],
   "source": [
    "parts_ari_df.shape"
   ]
  },
  {
   "cell_type": "code",
   "execution_count": 51,
   "id": "06d97557",
   "metadata": {
    "execution": {
     "iopub.execute_input": "2022-11-25T05:32:35.634366Z",
     "iopub.status.busy": "2022-11-25T05:32:35.634211Z",
     "iopub.status.idle": "2022-11-25T05:32:35.646881Z",
     "shell.execute_reply": "2022-11-25T05:32:35.646521Z"
    },
    "papermill": {
     "duration": 0.029648,
     "end_time": "2022-11-25T05:32:35.647753",
     "exception": false,
     "start_time": "2022-11-25T05:32:35.618105",
     "status": "completed"
    },
    "tags": []
   },
   "outputs": [],
   "source": [
    "assert (\n",
    "    int(\n",
    "        (CLUSTERING_OPTIONS[\"N_REPS_PER_K\"] * (CLUSTERING_OPTIONS[\"N_REPS_PER_K\"] - 1))\n",
    "        / 2\n",
    "    )\n",
    "    == parts_ari_df.shape[1]\n",
    ")"
   ]
  },
  {
   "cell_type": "code",
   "execution_count": 52,
   "id": "ddbe48b5",
   "metadata": {
    "execution": {
     "iopub.execute_input": "2022-11-25T05:32:35.679981Z",
     "iopub.status.busy": "2022-11-25T05:32:35.679829Z",
     "iopub.status.idle": "2022-11-25T05:32:35.696890Z",
     "shell.execute_reply": "2022-11-25T05:32:35.696519Z"
    },
    "papermill": {
     "duration": 0.033989,
     "end_time": "2022-11-25T05:32:35.697730",
     "exception": false,
     "start_time": "2022-11-25T05:32:35.663741",
     "status": "completed"
    },
    "tags": []
   },
   "outputs": [
    {
     "data": {
      "text/html": [
       "<div>\n",
       "<style scoped>\n",
       "    .dataframe tbody tr th:only-of-type {\n",
       "        vertical-align: middle;\n",
       "    }\n",
       "\n",
       "    .dataframe tbody tr th {\n",
       "        vertical-align: top;\n",
       "    }\n",
       "\n",
       "    .dataframe thead th {\n",
       "        text-align: right;\n",
       "    }\n",
       "</style>\n",
       "<table border=\"1\" class=\"dataframe\">\n",
       "  <thead>\n",
       "    <tr style=\"text-align: right;\">\n",
       "      <th></th>\n",
       "      <th>0</th>\n",
       "      <th>1</th>\n",
       "      <th>2</th>\n",
       "      <th>3</th>\n",
       "      <th>4</th>\n",
       "      <th>5</th>\n",
       "      <th>6</th>\n",
       "      <th>7</th>\n",
       "      <th>8</th>\n",
       "      <th>9</th>\n",
       "    </tr>\n",
       "  </thead>\n",
       "  <tbody>\n",
       "    <tr>\n",
       "      <th>2</th>\n",
       "      <td>0.993612</td>\n",
       "      <td>0.972466</td>\n",
       "      <td>0.984068</td>\n",
       "      <td>0.972466</td>\n",
       "      <td>0.978786</td>\n",
       "      <td>0.990426</td>\n",
       "      <td>0.978786</td>\n",
       "      <td>0.988304</td>\n",
       "      <td>1.000000</td>\n",
       "      <td>0.988304</td>\n",
       "    </tr>\n",
       "    <tr>\n",
       "      <th>3</th>\n",
       "      <td>0.985749</td>\n",
       "      <td>0.996804</td>\n",
       "      <td>0.996781</td>\n",
       "      <td>0.863745</td>\n",
       "      <td>0.987366</td>\n",
       "      <td>0.982537</td>\n",
       "      <td>0.866867</td>\n",
       "      <td>0.995160</td>\n",
       "      <td>0.866682</td>\n",
       "      <td>0.866681</td>\n",
       "    </tr>\n",
       "    <tr>\n",
       "      <th>4</th>\n",
       "      <td>0.886790</td>\n",
       "      <td>0.886204</td>\n",
       "      <td>0.966602</td>\n",
       "      <td>0.831870</td>\n",
       "      <td>0.975462</td>\n",
       "      <td>0.896804</td>\n",
       "      <td>0.768677</td>\n",
       "      <td>0.909238</td>\n",
       "      <td>0.766500</td>\n",
       "      <td>0.813110</td>\n",
       "    </tr>\n",
       "    <tr>\n",
       "      <th>5</th>\n",
       "      <td>0.496697</td>\n",
       "      <td>0.616351</td>\n",
       "      <td>0.906526</td>\n",
       "      <td>0.422202</td>\n",
       "      <td>0.766155</td>\n",
       "      <td>0.486528</td>\n",
       "      <td>0.299417</td>\n",
       "      <td>0.606913</td>\n",
       "      <td>0.354462</td>\n",
       "      <td>0.464806</td>\n",
       "    </tr>\n",
       "    <tr>\n",
       "      <th>6</th>\n",
       "      <td>0.295540</td>\n",
       "      <td>0.383038</td>\n",
       "      <td>0.359858</td>\n",
       "      <td>0.393204</td>\n",
       "      <td>0.487281</td>\n",
       "      <td>0.636683</td>\n",
       "      <td>0.366410</td>\n",
       "      <td>0.632482</td>\n",
       "      <td>0.436068</td>\n",
       "      <td>0.391293</td>\n",
       "    </tr>\n",
       "  </tbody>\n",
       "</table>\n",
       "</div>"
      ],
      "text/plain": [
       "          0         1         2         3         4         5         6  \\\n",
       "2  0.993612  0.972466  0.984068  0.972466  0.978786  0.990426  0.978786   \n",
       "3  0.985749  0.996804  0.996781  0.863745  0.987366  0.982537  0.866867   \n",
       "4  0.886790  0.886204  0.966602  0.831870  0.975462  0.896804  0.768677   \n",
       "5  0.496697  0.616351  0.906526  0.422202  0.766155  0.486528  0.299417   \n",
       "6  0.295540  0.383038  0.359858  0.393204  0.487281  0.636683  0.366410   \n",
       "\n",
       "          7         8         9  \n",
       "2  0.988304  1.000000  0.988304  \n",
       "3  0.995160  0.866682  0.866681  \n",
       "4  0.909238  0.766500  0.813110  \n",
       "5  0.606913  0.354462  0.464806  \n",
       "6  0.632482  0.436068  0.391293  "
      ]
     },
     "execution_count": 52,
     "metadata": {},
     "output_type": "execute_result"
    }
   ],
   "source": [
    "parts_ari_df.head()"
   ]
  },
  {
   "cell_type": "markdown",
   "id": "be97dd13",
   "metadata": {
    "papermill": {
     "duration": 0.015652,
     "end_time": "2022-11-25T05:32:35.729641",
     "exception": false,
     "start_time": "2022-11-25T05:32:35.713989",
     "status": "completed"
    },
    "tags": []
   },
   "source": [
    "## Save"
   ]
  },
  {
   "cell_type": "code",
   "execution_count": 53,
   "id": "e6cb39de",
   "metadata": {
    "execution": {
     "iopub.execute_input": "2022-11-25T05:32:35.779758Z",
     "iopub.status.busy": "2022-11-25T05:32:35.779558Z",
     "iopub.status.idle": "2022-11-25T05:32:35.793285Z",
     "shell.execute_reply": "2022-11-25T05:32:35.792922Z"
    },
    "papermill": {
     "duration": 0.030912,
     "end_time": "2022-11-25T05:32:35.794136",
     "exception": false,
     "start_time": "2022-11-25T05:32:35.763224",
     "status": "completed"
    },
    "tags": []
   },
   "outputs": [
    {
     "data": {
      "text/plain": [
       "PosixPath('/opt/data/results/clustering/null_sims/shuffle_lvs/runs/pca-z_score_std-projection-smultixcan-efo_partial-mashr-zscores/SpectralClustering-stability-AFFINITY_rbf-GAMMA_0001-KMEANS_N_INIT_10-K_MAX_60-K_MIN_2-N_REPS_PER_K_5.pkl')"
      ]
     },
     "metadata": {},
     "output_type": "display_data"
    }
   ],
   "source": [
    "output_filename = Path(\n",
    "    RESULTS_DIR,\n",
    "    generate_result_set_name(\n",
    "        CLUSTERING_OPTIONS,\n",
    "        prefix=f\"{clustering_method_name}-stability-\",\n",
    "        suffix=\".pkl\",\n",
    "    ),\n",
    ").resolve()\n",
    "display(output_filename)"
   ]
  },
  {
   "cell_type": "code",
   "execution_count": 54,
   "id": "73837c3f",
   "metadata": {
    "execution": {
     "iopub.execute_input": "2022-11-25T05:32:35.826664Z",
     "iopub.status.busy": "2022-11-25T05:32:35.826514Z",
     "iopub.status.idle": "2022-11-25T05:32:35.839283Z",
     "shell.execute_reply": "2022-11-25T05:32:35.838917Z"
    },
    "papermill": {
     "duration": 0.029791,
     "end_time": "2022-11-25T05:32:35.840155",
     "exception": false,
     "start_time": "2022-11-25T05:32:35.810364",
     "status": "completed"
    },
    "tags": []
   },
   "outputs": [],
   "source": [
    "parts_ari_df.to_pickle(output_filename)"
   ]
  },
  {
   "cell_type": "markdown",
   "id": "04c37cb4",
   "metadata": {
    "papermill": {
     "duration": 0.015759,
     "end_time": "2022-11-25T05:32:35.872244",
     "exception": false,
     "start_time": "2022-11-25T05:32:35.856485",
     "status": "completed"
    },
    "tags": []
   },
   "source": [
    "## Stability plot"
   ]
  },
  {
   "cell_type": "code",
   "execution_count": 55,
   "id": "bc1a39ab",
   "metadata": {
    "execution": {
     "iopub.execute_input": "2022-11-25T05:32:35.904291Z",
     "iopub.status.busy": "2022-11-25T05:32:35.904134Z",
     "iopub.status.idle": "2022-11-25T05:32:35.918013Z",
     "shell.execute_reply": "2022-11-25T05:32:35.917647Z"
    },
    "papermill": {
     "duration": 0.030955,
     "end_time": "2022-11-25T05:32:35.918932",
     "exception": false,
     "start_time": "2022-11-25T05:32:35.887977",
     "status": "completed"
    },
    "tags": []
   },
   "outputs": [],
   "source": [
    "parts_ari_df_plot = (\n",
    "    parts_ari_df.stack()\n",
    "    .reset_index()\n",
    "    .rename(columns={\"level_0\": \"k\", \"level_1\": \"idx\", 0: \"ari\"})\n",
    ")"
   ]
  },
  {
   "cell_type": "code",
   "execution_count": 56,
   "id": "ddd54521",
   "metadata": {
    "execution": {
     "iopub.execute_input": "2022-11-25T05:32:35.951575Z",
     "iopub.status.busy": "2022-11-25T05:32:35.951422Z",
     "iopub.status.idle": "2022-11-25T05:32:35.965017Z",
     "shell.execute_reply": "2022-11-25T05:32:35.964658Z"
    },
    "papermill": {
     "duration": 0.030642,
     "end_time": "2022-11-25T05:32:35.965856",
     "exception": false,
     "start_time": "2022-11-25T05:32:35.935214",
     "status": "completed"
    },
    "tags": []
   },
   "outputs": [
    {
     "data": {
      "text/plain": [
       "k        int64\n",
       "idx      int64\n",
       "ari    float64\n",
       "dtype: object"
      ]
     },
     "execution_count": 56,
     "metadata": {},
     "output_type": "execute_result"
    }
   ],
   "source": [
    "parts_ari_df_plot.dtypes"
   ]
  },
  {
   "cell_type": "code",
   "execution_count": 57,
   "id": "05e6d56f",
   "metadata": {
    "execution": {
     "iopub.execute_input": "2022-11-25T05:32:35.998653Z",
     "iopub.status.busy": "2022-11-25T05:32:35.998392Z",
     "iopub.status.idle": "2022-11-25T05:32:36.012996Z",
     "shell.execute_reply": "2022-11-25T05:32:36.012629Z"
    },
    "papermill": {
     "duration": 0.031716,
     "end_time": "2022-11-25T05:32:36.013850",
     "exception": false,
     "start_time": "2022-11-25T05:32:35.982134",
     "status": "completed"
    },
    "tags": []
   },
   "outputs": [
    {
     "data": {
      "text/html": [
       "<div>\n",
       "<style scoped>\n",
       "    .dataframe tbody tr th:only-of-type {\n",
       "        vertical-align: middle;\n",
       "    }\n",
       "\n",
       "    .dataframe tbody tr th {\n",
       "        vertical-align: top;\n",
       "    }\n",
       "\n",
       "    .dataframe thead th {\n",
       "        text-align: right;\n",
       "    }\n",
       "</style>\n",
       "<table border=\"1\" class=\"dataframe\">\n",
       "  <thead>\n",
       "    <tr style=\"text-align: right;\">\n",
       "      <th></th>\n",
       "      <th>k</th>\n",
       "      <th>idx</th>\n",
       "      <th>ari</th>\n",
       "    </tr>\n",
       "  </thead>\n",
       "  <tbody>\n",
       "    <tr>\n",
       "      <th>0</th>\n",
       "      <td>2</td>\n",
       "      <td>0</td>\n",
       "      <td>0.993612</td>\n",
       "    </tr>\n",
       "    <tr>\n",
       "      <th>1</th>\n",
       "      <td>2</td>\n",
       "      <td>1</td>\n",
       "      <td>0.972466</td>\n",
       "    </tr>\n",
       "    <tr>\n",
       "      <th>2</th>\n",
       "      <td>2</td>\n",
       "      <td>2</td>\n",
       "      <td>0.984068</td>\n",
       "    </tr>\n",
       "    <tr>\n",
       "      <th>3</th>\n",
       "      <td>2</td>\n",
       "      <td>3</td>\n",
       "      <td>0.972466</td>\n",
       "    </tr>\n",
       "    <tr>\n",
       "      <th>4</th>\n",
       "      <td>2</td>\n",
       "      <td>4</td>\n",
       "      <td>0.978786</td>\n",
       "    </tr>\n",
       "  </tbody>\n",
       "</table>\n",
       "</div>"
      ],
      "text/plain": [
       "   k  idx       ari\n",
       "0  2    0  0.993612\n",
       "1  2    1  0.972466\n",
       "2  2    2  0.984068\n",
       "3  2    3  0.972466\n",
       "4  2    4  0.978786"
      ]
     },
     "execution_count": 57,
     "metadata": {},
     "output_type": "execute_result"
    }
   ],
   "source": [
    "parts_ari_df_plot.head()"
   ]
  },
  {
   "cell_type": "code",
   "execution_count": 58,
   "id": "54bbdf33",
   "metadata": {
    "execution": {
     "iopub.execute_input": "2022-11-25T05:32:36.046833Z",
     "iopub.status.busy": "2022-11-25T05:32:36.046596Z",
     "iopub.status.idle": "2022-11-25T05:32:37.902183Z",
     "shell.execute_reply": "2022-11-25T05:32:37.901673Z"
    },
    "papermill": {
     "duration": 1.87282,
     "end_time": "2022-11-25T05:32:37.903082",
     "exception": false,
     "start_time": "2022-11-25T05:32:36.030262",
     "status": "completed"
    },
    "tags": []
   },
   "outputs": [
    {
     "data": {
      "image/png": "[encoded data removed]",
      "text/plain": [
       "<Figure size 1008x432 with 1 Axes>"
      ]
     },
     "metadata": {},
     "output_type": "display_data"
    }
   ],
   "source": [
    "# with sns.axes_style('whitegrid', {'grid.linestyle': '--'}):\n",
    "with sns.plotting_context(\"talk\", font_scale=0.75), sns.axes_style(\n",
    "    \"whitegrid\", {\"grid.linestyle\": \"--\"}\n",
    "):\n",
    "    fig = plt.figure(figsize=(14, 6))\n",
    "    ax = sns.pointplot(data=parts_ari_df_plot, x=\"k\", y=\"ari\")\n",
    "    ax.set_ylabel(\"Averange ARI\")\n",
    "    ax.set_xlabel(\"Number of clusters ($k$)\")\n",
    "    ax.set_xticklabels(ax.get_xticklabels(), rotation=45)\n",
    "    #     ax.set_ylim(0.0, 1.0)\n",
    "    #     ax.set_xlim(CLUSTERING_OPTIONS['K_MIN'], CLUSTERING_OPTIONS['K_MAX'])\n",
    "    plt.grid(True)\n",
    "    plt.tight_layout()"
   ]
  },
  {
   "cell_type": "code",
   "execution_count": null,
   "id": "8a9a3216",
   "metadata": {
    "papermill": {
     "duration": 0.016356,
     "end_time": "2022-11-25T05:32:37.936895",
     "exception": false,
     "start_time": "2022-11-25T05:32:37.920539",
     "status": "completed"
    },
    "tags": []
   },
   "outputs": [],
   "source": []
  }
 ],
 "metadata": {
  "jupytext": {
   "cell_metadata_filter": "all,-execution,-papermill,-trusted",
   "formats": "ipynb,py//py:percent"
  },
  "kernelspec": {
   "display_name": "Python 3 (ipykernel)",
   "language": "python",
   "name": "python3"
  },
  "language_info": {
   "codemirror_mode": {
    "name": "ipython",
    "version": 3
   },
   "file_extension": ".py",
   "mimetype": "text/x-python",
   "name": "python",
   "nbconvert_exporter": "python",
   "pygments_lexer": "ipython3",
   "version": "3.8.13"
  },
  "papermill": {
   "default_parameters": {},
   "duration": 444.194194,
   "end_time": "2022-11-25T05:32:38.269506",
   "environment_variables": {},
   "exception": null,
   "input_path": "nbs/13.1_cluster_analysis_null/05-shuffle_lvs/11_01-spectral-pca.ipynb",
   "output_path": "nbs/13.1_cluster_analysis_null/05-shuffle_lvs/11_01-spectral-pca.run.ipynb",
   "parameters": {},
   "start_time": "2022-11-25T05:25:14.075312",
   "version": "2.2.2"
  },
  "toc-autonumbering": true,
  "toc-showcode": false,
  "toc-showmarkdowntxt": false,
  "toc-showtags": false
 },
 "nbformat": 4,
 "nbformat_minor": 5
}
