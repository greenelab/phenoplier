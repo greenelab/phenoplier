{
 "cells": [
  {
   "cell_type": "markdown",
   "id": "2404a903",
   "metadata": {
    "papermill": {
     "duration": 0.004172,
     "end_time": "2022-11-27T02:34:19.620818",
     "exception": false,
     "start_time": "2022-11-27T02:34:19.616646",
     "status": "completed"
    },
    "tags": []
   },
   "source": [
    "# Description"
   ]
  },
  {
   "cell_type": "markdown",
   "id": "388dd933",
   "metadata": {
    "papermill": {
     "duration": 0.003543,
     "end_time": "2022-11-27T02:34:19.628707",
     "exception": false,
     "start_time": "2022-11-27T02:34:19.625164",
     "status": "completed"
    },
    "tags": []
   },
   "source": [
    "It reads all the clustering partitions obtained with different algorithms, and generates the ensemble by putting it into a numpy array. Then it obtains the coassociation matrix from the ensemble (see more details below)."
   ]
  },
  {
   "cell_type": "markdown",
   "id": "7715551a",
   "metadata": {
    "papermill": {
     "duration": 0.003498,
     "end_time": "2022-11-27T02:34:19.635808",
     "exception": false,
     "start_time": "2022-11-27T02:34:19.632310",
     "status": "completed"
    },
    "tags": []
   },
   "source": [
    "# Environment variables"
   ]
  },
  {
   "cell_type": "code",
   "execution_count": 1,
   "id": "dad995e0",
   "metadata": {
    "execution": {
     "iopub.execute_input": "2022-11-27T02:34:19.644291Z",
     "iopub.status.busy": "2022-11-27T02:34:19.644131Z",
     "iopub.status.idle": "2022-11-27T02:34:19.654458Z",
     "shell.execute_reply": "2022-11-27T02:34:19.654159Z"
    },
    "papermill": {
     "duration": 0.01523,
     "end_time": "2022-11-27T02:34:19.655311",
     "exception": false,
     "start_time": "2022-11-27T02:34:19.640081",
     "status": "completed"
    },
    "tags": []
   },
   "outputs": [
    {
     "data": {
      "text/plain": [
       "10"
      ]
     },
     "metadata": {},
     "output_type": "display_data"
    }
   ],
   "source": [
    "from IPython.display import display\n",
    "\n",
    "import conf\n",
    "\n",
    "N_JOBS = conf.GENERAL[\"N_JOBS\"]\n",
    "display(N_JOBS)"
   ]
  },
  {
   "cell_type": "code",
   "execution_count": 2,
   "id": "f568f855",
   "metadata": {
    "execution": {
     "iopub.execute_input": "2022-11-27T02:34:19.663249Z",
     "iopub.status.busy": "2022-11-27T02:34:19.663104Z",
     "iopub.status.idle": "2022-11-27T02:34:19.666958Z",
     "shell.execute_reply": "2022-11-27T02:34:19.666649Z"
    },
    "papermill": {
     "duration": 0.008699,
     "end_time": "2022-11-27T02:34:19.667761",
     "exception": false,
     "start_time": "2022-11-27T02:34:19.659062",
     "status": "completed"
    },
    "tags": []
   },
   "outputs": [
    {
     "name": "stdout",
     "output_type": "stream",
     "text": [
      "env: MKL_NUM_THREADS=10\n",
      "env: OPEN_BLAS_NUM_THREADS=10\n",
      "env: NUMEXPR_NUM_THREADS=10\n",
      "env: OMP_NUM_THREADS=10\n"
     ]
    }
   ],
   "source": [
    "%env MKL_NUM_THREADS=$N_JOBS\n",
    "%env OPEN_BLAS_NUM_THREADS=$N_JOBS\n",
    "%env NUMEXPR_NUM_THREADS=$N_JOBS\n",
    "%env OMP_NUM_THREADS=$N_JOBS"
   ]
  },
  {
   "cell_type": "markdown",
   "id": "f5cc7ac1",
   "metadata": {
    "papermill": {
     "duration": 0.003593,
     "end_time": "2022-11-27T02:34:19.675104",
     "exception": false,
     "start_time": "2022-11-27T02:34:19.671511",
     "status": "completed"
    },
    "tags": []
   },
   "source": [
    "# Modules loading"
   ]
  },
  {
   "cell_type": "code",
   "execution_count": 3,
   "id": "a9aa94a8",
   "metadata": {
    "execution": {
     "iopub.execute_input": "2022-11-27T02:34:19.683375Z",
     "iopub.status.busy": "2022-11-27T02:34:19.683116Z",
     "iopub.status.idle": "2022-11-27T02:34:19.690853Z",
     "shell.execute_reply": "2022-11-27T02:34:19.690575Z"
    },
    "papermill": {
     "duration": 0.012548,
     "end_time": "2022-11-27T02:34:19.691619",
     "exception": false,
     "start_time": "2022-11-27T02:34:19.679071",
     "status": "completed"
    },
    "tags": []
   },
   "outputs": [],
   "source": [
    "%load_ext autoreload\n",
    "%autoreload 2"
   ]
  },
  {
   "cell_type": "code",
   "execution_count": 4,
   "id": "f0d16b99",
   "metadata": {
    "execution": {
     "iopub.execute_input": "2022-11-27T02:34:19.699374Z",
     "iopub.status.busy": "2022-11-27T02:34:19.699279Z",
     "iopub.status.idle": "2022-11-27T02:34:19.881026Z",
     "shell.execute_reply": "2022-11-27T02:34:19.880640Z"
    },
    "papermill": {
     "duration": 0.186817,
     "end_time": "2022-11-27T02:34:19.882045",
     "exception": false,
     "start_time": "2022-11-27T02:34:19.695228",
     "status": "completed"
    },
    "tags": []
   },
   "outputs": [],
   "source": [
    "from pathlib import Path\n",
    "\n",
    "import numpy as np\n",
    "import pandas as pd"
   ]
  },
  {
   "cell_type": "markdown",
   "id": "c3351607",
   "metadata": {
    "papermill": {
     "duration": 0.009492,
     "end_time": "2022-11-27T02:34:19.895483",
     "exception": false,
     "start_time": "2022-11-27T02:34:19.885991",
     "status": "completed"
    },
    "tags": []
   },
   "source": [
    "# Settings"
   ]
  },
  {
   "cell_type": "code",
   "execution_count": 5,
   "id": "3e477376",
   "metadata": {
    "execution": {
     "iopub.execute_input": "2022-11-27T02:34:19.904004Z",
     "iopub.status.busy": "2022-11-27T02:34:19.903819Z",
     "iopub.status.idle": "2022-11-27T02:34:19.912227Z",
     "shell.execute_reply": "2022-11-27T02:34:19.911930Z"
    },
    "papermill": {
     "duration": 0.013387,
     "end_time": "2022-11-27T02:34:19.912997",
     "exception": false,
     "start_time": "2022-11-27T02:34:19.899610",
     "status": "completed"
    },
    "tags": []
   },
   "outputs": [],
   "source": [
    "RANDOM_GENERATOR = np.random.default_rng(12345)"
   ]
  },
  {
   "cell_type": "code",
   "execution_count": 6,
   "id": "e8e94454-25ca-483a-86fb-bed1d889ccf8",
   "metadata": {
    "execution": {
     "iopub.execute_input": "2022-11-27T02:34:19.920773Z",
     "iopub.status.busy": "2022-11-27T02:34:19.920689Z",
     "iopub.status.idle": "2022-11-27T02:34:19.927992Z",
     "shell.execute_reply": "2022-11-27T02:34:19.927715Z"
    },
    "papermill": {
     "duration": 0.012053,
     "end_time": "2022-11-27T02:34:19.928760",
     "exception": false,
     "start_time": "2022-11-27T02:34:19.916707",
     "status": "completed"
    },
    "tags": []
   },
   "outputs": [],
   "source": [
    "NULL_DIR = conf.RESULTS[\"CLUSTERING_NULL_DIR\"] / \"shuffle_lvs\""
   ]
  },
  {
   "cell_type": "markdown",
   "id": "06e56028",
   "metadata": {
    "papermill": {
     "duration": 0.003656,
     "end_time": "2022-11-27T02:34:19.936121",
     "exception": false,
     "start_time": "2022-11-27T02:34:19.932465",
     "status": "completed"
    },
    "tags": []
   },
   "source": [
    "## Ensemble size"
   ]
  },
  {
   "cell_type": "markdown",
   "id": "5c9d752f",
   "metadata": {
    "papermill": {
     "duration": 0.003758,
     "end_time": "2022-11-27T02:34:19.943807",
     "exception": false,
     "start_time": "2022-11-27T02:34:19.940049",
     "status": "completed"
    },
    "tags": []
   },
   "source": [
    "For some clustering algorithms it is easy to control the number of final partitions to generate: for instance, for k-means, you can generate partitions from k=2 to k=20 (19 partitions with different number of clusters). However, with algorithms such as DBSCAN this is not very easy to achieve, since for some parameter combinations (`eps` and `min_samples`) it generates partitions with one cluster (which is not an actual partition of the data) that are not included here.\n",
    "\n",
    "The parameters below specify the expected number of partitions for each clustering algorithm, and a range of allowed sizes. Then, the code below checks that each algorithm has the same representation in the ensemble. For example, if `EXPECTED_ENSEMBLE_SIZE=50`, `MIN_ENSEMBLE_SIZE=45` and `MAX_ENSEMBLE_SIZE=55`, the code below will check that k-means, spectral clustering, DBSCAN, etc, generated between 45 and 55 partitions. If not, it resamples the generated partitions to get 50 (the value specified by `EXPECTED_ENSEMBLE_SIZE`), so each algorithm has approximately the same representation in the full ensemble."
   ]
  },
  {
   "cell_type": "code",
   "execution_count": 7,
   "id": "491c096b",
   "metadata": {
    "execution": {
     "iopub.execute_input": "2022-11-27T02:34:19.952199Z",
     "iopub.status.busy": "2022-11-27T02:34:19.951826Z",
     "iopub.status.idle": "2022-11-27T02:34:19.960801Z",
     "shell.execute_reply": "2022-11-27T02:34:19.960515Z"
    },
    "papermill": {
     "duration": 0.014095,
     "end_time": "2022-11-27T02:34:19.961586",
     "exception": false,
     "start_time": "2022-11-27T02:34:19.947491",
     "status": "completed"
    },
    "tags": []
   },
   "outputs": [],
   "source": [
    "# EXPECTED_ENSEMBLE_SIZE = 295\n",
    "\n",
    "# MIN_ENSEMBLE_SIZE = 290\n",
    "# MAX_ENSEMBLE_SIZE = 300"
   ]
  },
  {
   "cell_type": "markdown",
   "id": "1759e0ea",
   "metadata": {
    "papermill": {
     "duration": 0.003616,
     "end_time": "2022-11-27T02:34:19.968939",
     "exception": false,
     "start_time": "2022-11-27T02:34:19.965323",
     "status": "completed"
    },
    "tags": []
   },
   "source": [
    "## Consensus clustering"
   ]
  },
  {
   "cell_type": "code",
   "execution_count": 8,
   "id": "8020ce25",
   "metadata": {
    "execution": {
     "iopub.execute_input": "2022-11-27T02:34:19.977292Z",
     "iopub.status.busy": "2022-11-27T02:34:19.976999Z",
     "iopub.status.idle": "2022-11-27T02:34:19.989010Z",
     "shell.execute_reply": "2022-11-27T02:34:19.988571Z"
    },
    "papermill": {
     "duration": 0.016968,
     "end_time": "2022-11-27T02:34:19.989916",
     "exception": false,
     "start_time": "2022-11-27T02:34:19.972948",
     "status": "completed"
    },
    "tags": []
   },
   "outputs": [
    {
     "data": {
      "text/plain": [
       "PosixPath('/opt/data/results/clustering/null_sims/shuffle_lvs/consensus_clustering')"
      ]
     },
     "metadata": {},
     "output_type": "display_data"
    }
   ],
   "source": [
    "# output dir for this notebook\n",
    "RESULTS_DIR = Path(NULL_DIR, \"consensus_clustering\").resolve()\n",
    "RESULTS_DIR.mkdir(parents=True, exist_ok=True)\n",
    "\n",
    "display(RESULTS_DIR)"
   ]
  },
  {
   "cell_type": "markdown",
   "id": "1aef6ece",
   "metadata": {
    "papermill": {
     "duration": 0.003854,
     "end_time": "2022-11-27T02:34:19.997494",
     "exception": false,
     "start_time": "2022-11-27T02:34:19.993640",
     "status": "completed"
    },
    "tags": []
   },
   "source": [
    "# Get ensemble"
   ]
  },
  {
   "cell_type": "markdown",
   "id": "83db7dfb",
   "metadata": {
    "papermill": {
     "duration": 0.003779,
     "end_time": "2022-11-27T02:34:20.004990",
     "exception": false,
     "start_time": "2022-11-27T02:34:20.001211",
     "status": "completed"
    },
    "tags": []
   },
   "source": [
    "## Load partition files"
   ]
  },
  {
   "cell_type": "code",
   "execution_count": 9,
   "id": "3bb26fc4",
   "metadata": {
    "execution": {
     "iopub.execute_input": "2022-11-27T02:34:20.013326Z",
     "iopub.status.busy": "2022-11-27T02:34:20.013238Z",
     "iopub.status.idle": "2022-11-27T02:34:20.024044Z",
     "shell.execute_reply": "2022-11-27T02:34:20.023757Z"
    },
    "papermill": {
     "duration": 0.015787,
     "end_time": "2022-11-27T02:34:20.024820",
     "exception": false,
     "start_time": "2022-11-27T02:34:20.009033",
     "status": "completed"
    },
    "tags": []
   },
   "outputs": [
    {
     "data": {
      "text/plain": [
       "PosixPath('/opt/data/results/clustering/null_sims/shuffle_lvs/runs')"
      ]
     },
     "metadata": {},
     "output_type": "display_data"
    }
   ],
   "source": [
    "input_dir = Path(\n",
    "    NULL_DIR,\n",
    "    \"runs\",\n",
    ").resolve()\n",
    "display(input_dir)"
   ]
  },
  {
   "cell_type": "code",
   "execution_count": 10,
   "id": "fac3e759",
   "metadata": {
    "execution": {
     "iopub.execute_input": "2022-11-27T02:34:20.032877Z",
     "iopub.status.busy": "2022-11-27T02:34:20.032741Z",
     "iopub.status.idle": "2022-11-27T02:34:20.043935Z",
     "shell.execute_reply": "2022-11-27T02:34:20.043666Z"
    },
    "papermill": {
     "duration": 0.016075,
     "end_time": "2022-11-27T02:34:20.044700",
     "exception": false,
     "start_time": "2022-11-27T02:34:20.028625",
     "status": "completed"
    },
    "tags": []
   },
   "outputs": [],
   "source": [
    "included_pkl_files = []\n",
    "\n",
    "for pkl_file in input_dir.rglob(\"*.pkl\"):\n",
    "    pkl_file_str = str(pkl_file)\n",
    "\n",
    "    # skip stability pkl files\n",
    "    if \"-stability-\" in pkl_file_str:\n",
    "        continue\n",
    "\n",
    "    included_pkl_files.append(pkl_file)"
   ]
  },
  {
   "cell_type": "code",
   "execution_count": 11,
   "id": "088574d5",
   "metadata": {
    "execution": {
     "iopub.execute_input": "2022-11-27T02:34:20.052973Z",
     "iopub.status.busy": "2022-11-27T02:34:20.052874Z",
     "iopub.status.idle": "2022-11-27T02:34:20.061458Z",
     "shell.execute_reply": "2022-11-27T02:34:20.061143Z"
    },
    "papermill": {
     "duration": 0.013749,
     "end_time": "2022-11-27T02:34:20.062204",
     "exception": false,
     "start_time": "2022-11-27T02:34:20.048455",
     "status": "completed"
    },
    "tags": []
   },
   "outputs": [
    {
     "data": {
      "text/plain": [
       "14"
      ]
     },
     "metadata": {},
     "output_type": "display_data"
    }
   ],
   "source": [
    "display(len(included_pkl_files))\n",
    "\n",
    "# 5 algorithms, 3 dataset versions\n",
    "assert len(included_pkl_files) == (5 * 3) - 1  # because dbscan on z-scores fails here"
   ]
  },
  {
   "cell_type": "markdown",
   "id": "01ae6977",
   "metadata": {
    "papermill": {
     "duration": 0.023322,
     "end_time": "2022-11-27T02:34:20.089352",
     "exception": false,
     "start_time": "2022-11-27T02:34:20.066030",
     "status": "completed"
    },
    "tags": []
   },
   "source": [
    "## Combine partition files to get final ensemble"
   ]
  },
  {
   "cell_type": "code",
   "execution_count": 12,
   "id": "11c225b6",
   "metadata": {
    "execution": {
     "iopub.execute_input": "2022-11-27T02:34:20.097672Z",
     "iopub.status.busy": "2022-11-27T02:34:20.097587Z",
     "iopub.status.idle": "2022-11-27T02:34:20.108209Z",
     "shell.execute_reply": "2022-11-27T02:34:20.107943Z"
    },
    "papermill": {
     "duration": 0.015738,
     "end_time": "2022-11-27T02:34:20.109080",
     "exception": false,
     "start_time": "2022-11-27T02:34:20.093342",
     "status": "completed"
    },
    "tags": []
   },
   "outputs": [],
   "source": [
    "n_partitions = 0"
   ]
  },
  {
   "cell_type": "code",
   "execution_count": 13,
   "id": "e20707ed",
   "metadata": {
    "execution": {
     "iopub.execute_input": "2022-11-27T02:34:20.117634Z",
     "iopub.status.busy": "2022-11-27T02:34:20.117553Z",
     "iopub.status.idle": "2022-11-27T02:34:20.128177Z",
     "shell.execute_reply": "2022-11-27T02:34:20.127839Z"
    },
    "papermill": {
     "duration": 0.015511,
     "end_time": "2022-11-27T02:34:20.128948",
     "exception": false,
     "start_time": "2022-11-27T02:34:20.113437",
     "status": "completed"
    },
    "tags": []
   },
   "outputs": [],
   "source": [
    "ensembles_list = []"
   ]
  },
  {
   "cell_type": "code",
   "execution_count": 14,
   "id": "dd633192",
   "metadata": {
    "execution": {
     "iopub.execute_input": "2022-11-27T02:34:20.137078Z",
     "iopub.status.busy": "2022-11-27T02:34:20.136998Z",
     "iopub.status.idle": "2022-11-27T02:34:20.246459Z",
     "shell.execute_reply": "2022-11-27T02:34:20.246103Z"
    },
    "papermill": {
     "duration": 0.114412,
     "end_time": "2022-11-27T02:34:20.247269",
     "exception": false,
     "start_time": "2022-11-27T02:34:20.132857",
     "status": "completed"
    },
    "tags": []
   },
   "outputs": [],
   "source": [
    "for ens_file in included_pkl_files:\n",
    "    ens = pd.read_pickle(ens_file)\n",
    "\n",
    "    #     short_file_path = Path(*ens_file.parts[-2:])\n",
    "\n",
    "    #     if ens.shape[0] < MIN_ENSEMBLE_SIZE:\n",
    "    #         print(f\"Less partitions than expected in {short_file_path}\")\n",
    "\n",
    "    #         # if less partitions than expected, resample with replacement\n",
    "    #         ens = ens.sample(\n",
    "    #             n=EXPECTED_ENSEMBLE_SIZE,\n",
    "    #             replace=True,\n",
    "    #             random_state=RANDOM_GENERATOR.bit_generator,\n",
    "    #         )\n",
    "    #         assert ens.shape[0] == EXPECTED_ENSEMBLE_SIZE\n",
    "\n",
    "    #     elif ens.shape[0] > MAX_ENSEMBLE_SIZE:\n",
    "    #         print(f\"More partitions than expected in {short_file_path}\")\n",
    "\n",
    "    #         # if more partitions than expected, take a smaller sample\n",
    "    #         ens = ens.sample(\n",
    "    #             n=EXPECTED_ENSEMBLE_SIZE, random_state=RANDOM_GENERATOR.bit_generator\n",
    "    #         )\n",
    "    #         assert ens.shape[0] == EXPECTED_ENSEMBLE_SIZE\n",
    "\n",
    "    ens_full_format = np.concatenate(\n",
    "        ens[\"partition\"].apply(lambda x: x.reshape(1, -1)), axis=0\n",
    "    )\n",
    "\n",
    "    n_partitions += ens_full_format.shape[0]\n",
    "\n",
    "    ensembles_list.append(ens_full_format)"
   ]
  },
  {
   "cell_type": "code",
   "execution_count": 15,
   "id": "0a6938c2",
   "metadata": {
    "execution": {
     "iopub.execute_input": "2022-11-27T02:34:20.261717Z",
     "iopub.status.busy": "2022-11-27T02:34:20.261629Z",
     "iopub.status.idle": "2022-11-27T02:34:20.270494Z",
     "shell.execute_reply": "2022-11-27T02:34:20.270210Z"
    },
    "papermill": {
     "duration": 0.020109,
     "end_time": "2022-11-27T02:34:20.271265",
     "exception": false,
     "start_time": "2022-11-27T02:34:20.251156",
     "status": "completed"
    },
    "tags": []
   },
   "outputs": [
    {
     "data": {
      "text/plain": [
       "14"
      ]
     },
     "metadata": {},
     "output_type": "display_data"
    }
   ],
   "source": [
    "display(len(ensembles_list))\n",
    "assert len(ensembles_list) == len(included_pkl_files)"
   ]
  },
  {
   "cell_type": "code",
   "execution_count": 16,
   "id": "63bb156b",
   "metadata": {
    "execution": {
     "iopub.execute_input": "2022-11-27T02:34:20.279509Z",
     "iopub.status.busy": "2022-11-27T02:34:20.279409Z",
     "iopub.status.idle": "2022-11-27T02:34:20.286911Z",
     "shell.execute_reply": "2022-11-27T02:34:20.286636Z"
    },
    "papermill": {
     "duration": 0.012537,
     "end_time": "2022-11-27T02:34:20.287722",
     "exception": false,
     "start_time": "2022-11-27T02:34:20.275185",
     "status": "completed"
    },
    "tags": []
   },
   "outputs": [
    {
     "data": {
      "text/plain": [
       "3752"
      ]
     },
     "metadata": {},
     "output_type": "display_data"
    }
   ],
   "source": [
    "n_data_objects = ensembles_list[0].shape[1]\n",
    "display(n_data_objects)"
   ]
  },
  {
   "cell_type": "code",
   "execution_count": 17,
   "id": "2b227120",
   "metadata": {
    "execution": {
     "iopub.execute_input": "2022-11-27T02:34:20.296046Z",
     "iopub.status.busy": "2022-11-27T02:34:20.295951Z",
     "iopub.status.idle": "2022-11-27T02:34:20.303615Z",
     "shell.execute_reply": "2022-11-27T02:34:20.303325Z"
    },
    "papermill": {
     "duration": 0.012731,
     "end_time": "2022-11-27T02:34:20.304391",
     "exception": false,
     "start_time": "2022-11-27T02:34:20.291660",
     "status": "completed"
    },
    "tags": []
   },
   "outputs": [
    {
     "data": {
      "text/plain": [
       "3831"
      ]
     },
     "metadata": {},
     "output_type": "display_data"
    }
   ],
   "source": [
    "display(n_partitions)"
   ]
  },
  {
   "cell_type": "code",
   "execution_count": 18,
   "id": "9d5cacb5",
   "metadata": {
    "execution": {
     "iopub.execute_input": "2022-11-27T02:34:20.313579Z",
     "iopub.status.busy": "2022-11-27T02:34:20.313482Z",
     "iopub.status.idle": "2022-11-27T02:34:20.441776Z",
     "shell.execute_reply": "2022-11-27T02:34:20.441425Z"
    },
    "papermill": {
     "duration": 0.134122,
     "end_time": "2022-11-27T02:34:20.442714",
     "exception": false,
     "start_time": "2022-11-27T02:34:20.308592",
     "status": "completed"
    },
    "tags": []
   },
   "outputs": [],
   "source": [
    "full_ensemble = ensembles_list[0]\n",
    "for ens in ensembles_list[1:]:\n",
    "    full_ensemble = np.concatenate((full_ensemble, ens), axis=0)"
   ]
  },
  {
   "cell_type": "code",
   "execution_count": 19,
   "id": "d40548c3",
   "metadata": {
    "execution": {
     "iopub.execute_input": "2022-11-27T02:34:20.457088Z",
     "iopub.status.busy": "2022-11-27T02:34:20.456905Z",
     "iopub.status.idle": "2022-11-27T02:34:20.465826Z",
     "shell.execute_reply": "2022-11-27T02:34:20.465548Z"
    },
    "papermill": {
     "duration": 0.019723,
     "end_time": "2022-11-27T02:34:20.466594",
     "exception": false,
     "start_time": "2022-11-27T02:34:20.446871",
     "status": "completed"
    },
    "tags": []
   },
   "outputs": [
    {
     "data": {
      "text/plain": [
       "(3831, 3752)"
      ]
     },
     "metadata": {},
     "output_type": "display_data"
    }
   ],
   "source": [
    "display(full_ensemble.shape)\n",
    "assert full_ensemble.shape == (n_partitions, n_data_objects)"
   ]
  },
  {
   "cell_type": "markdown",
   "id": "07bf26f1",
   "metadata": {
    "papermill": {
     "duration": 0.003906,
     "end_time": "2022-11-27T02:34:20.474540",
     "exception": false,
     "start_time": "2022-11-27T02:34:20.470634",
     "status": "completed"
    },
    "tags": []
   },
   "source": [
    "## Save"
   ]
  },
  {
   "cell_type": "code",
   "execution_count": 20,
   "id": "74e79279",
   "metadata": {
    "execution": {
     "iopub.execute_input": "2022-11-27T02:34:20.483357Z",
     "iopub.status.busy": "2022-11-27T02:34:20.483096Z",
     "iopub.status.idle": "2022-11-27T02:34:20.490759Z",
     "shell.execute_reply": "2022-11-27T02:34:20.490478Z"
    },
    "papermill": {
     "duration": 0.012767,
     "end_time": "2022-11-27T02:34:20.491525",
     "exception": false,
     "start_time": "2022-11-27T02:34:20.478758",
     "status": "completed"
    },
    "tags": []
   },
   "outputs": [
    {
     "data": {
      "text/plain": [
       "PosixPath('/opt/data/results/clustering/null_sims/shuffle_lvs/consensus_clustering/ensemble.npy')"
      ]
     },
     "metadata": {},
     "output_type": "display_data"
    }
   ],
   "source": [
    "output_file = Path(RESULTS_DIR, \"ensemble.npy\").resolve()\n",
    "display(output_file)"
   ]
  },
  {
   "cell_type": "code",
   "execution_count": 21,
   "id": "18c3c78c",
   "metadata": {
    "execution": {
     "iopub.execute_input": "2022-11-27T02:34:20.500226Z",
     "iopub.status.busy": "2022-11-27T02:34:20.499968Z",
     "iopub.status.idle": "2022-11-27T02:34:20.511307Z",
     "shell.execute_reply": "2022-11-27T02:34:20.510946Z"
    },
    "papermill": {
     "duration": 0.016474,
     "end_time": "2022-11-27T02:34:20.512126",
     "exception": false,
     "start_time": "2022-11-27T02:34:20.495652",
     "status": "completed"
    },
    "tags": []
   },
   "outputs": [
    {
     "data": {
      "text/plain": [
       "array([[ 1.,  0.,  0., ...,  0.,  0.,  0.],\n",
       "       [ 1.,  0.,  1., ...,  1.,  0.,  1.],\n",
       "       [ 1.,  0.,  1., ...,  1.,  0.,  1.],\n",
       "       ...,\n",
       "       [28.,  0., 73., ..., 73., 28., 32.],\n",
       "       [22.,  2.,  2., ..., 22., 22., 62.],\n",
       "       [ 2.,  2.,  2., ..., 41., 41., 22.]])"
      ]
     },
     "execution_count": 21,
     "metadata": {},
     "output_type": "execute_result"
    }
   ],
   "source": [
    "full_ensemble"
   ]
  },
  {
   "cell_type": "code",
   "execution_count": 22,
   "id": "daaa724d",
   "metadata": {
    "execution": {
     "iopub.execute_input": "2022-11-27T02:34:20.521342Z",
     "iopub.status.busy": "2022-11-27T02:34:20.521043Z",
     "iopub.status.idle": "2022-11-27T02:34:20.623150Z",
     "shell.execute_reply": "2022-11-27T02:34:20.622790Z"
    },
    "papermill": {
     "duration": 0.107751,
     "end_time": "2022-11-27T02:34:20.624010",
     "exception": false,
     "start_time": "2022-11-27T02:34:20.516259",
     "status": "completed"
    },
    "tags": []
   },
   "outputs": [],
   "source": [
    "np.save(output_file, full_ensemble)"
   ]
  },
  {
   "cell_type": "markdown",
   "id": "41cb00f2",
   "metadata": {
    "papermill": {
     "duration": 0.009432,
     "end_time": "2022-11-27T02:34:20.637635",
     "exception": false,
     "start_time": "2022-11-27T02:34:20.628203",
     "status": "completed"
    },
    "tags": []
   },
   "source": [
    "# Get coassociation matrix from ensemble"
   ]
  },
  {
   "cell_type": "markdown",
   "id": "f2807741",
   "metadata": {
    "papermill": {
     "duration": 0.003985,
     "end_time": "2022-11-27T02:34:20.645753",
     "exception": false,
     "start_time": "2022-11-27T02:34:20.641768",
     "status": "completed"
    },
    "tags": []
   },
   "source": [
    "The coassociation matrix is a distance matrix derived from the ensemble, where each cell represents the percentage of times a pair of objects (traits and diseases in this case) were not clustered together. It serves as an input for any consensus function (basically, another clustering algorithm) to derive a consensus partition."
   ]
  },
  {
   "cell_type": "code",
   "execution_count": 23,
   "id": "2ccb6b52",
   "metadata": {
    "execution": {
     "iopub.execute_input": "2022-11-27T02:34:20.654775Z",
     "iopub.status.busy": "2022-11-27T02:34:20.654627Z",
     "iopub.status.idle": "2022-11-27T02:34:20.791550Z",
     "shell.execute_reply": "2022-11-27T02:34:20.791221Z"
    },
    "papermill": {
     "duration": 0.142232,
     "end_time": "2022-11-27T02:34:20.792389",
     "exception": false,
     "start_time": "2022-11-27T02:34:20.650157",
     "status": "completed"
    },
    "tags": []
   },
   "outputs": [],
   "source": [
    "from clustering.ensembles.utils import get_ensemble_distance_matrix"
   ]
  },
  {
   "cell_type": "code",
   "execution_count": 24,
   "id": "f0765ad5",
   "metadata": {
    "execution": {
     "iopub.execute_input": "2022-11-27T02:34:20.806719Z",
     "iopub.status.busy": "2022-11-27T02:34:20.806561Z",
     "iopub.status.idle": "2022-11-27T02:57:27.882163Z",
     "shell.execute_reply": "2022-11-27T02:57:27.881692Z"
    },
    "papermill": {
     "duration": 1387.087286,
     "end_time": "2022-11-27T02:57:27.883911",
     "exception": false,
     "start_time": "2022-11-27T02:34:20.796625",
     "status": "completed"
    },
    "tags": []
   },
   "outputs": [],
   "source": [
    "ensemble_coassoc_matrix = get_ensemble_distance_matrix(\n",
    "    full_ensemble,\n",
    "    n_jobs=conf.GENERAL[\"N_JOBS\"],\n",
    ")"
   ]
  },
  {
   "cell_type": "code",
   "execution_count": 25,
   "id": "3fb74d3d",
   "metadata": {
    "execution": {
     "iopub.execute_input": "2022-11-27T02:57:27.904207Z",
     "iopub.status.busy": "2022-11-27T02:57:27.903945Z",
     "iopub.status.idle": "2022-11-27T02:57:27.922819Z",
     "shell.execute_reply": "2022-11-27T02:57:27.922414Z"
    },
    "papermill": {
     "duration": 0.030525,
     "end_time": "2022-11-27T02:57:27.924123",
     "exception": false,
     "start_time": "2022-11-27T02:57:27.893598",
     "status": "completed"
    },
    "tags": []
   },
   "outputs": [
    {
     "data": {
      "text/plain": [
       "(3752, 3752)"
      ]
     },
     "execution_count": 25,
     "metadata": {},
     "output_type": "execute_result"
    }
   ],
   "source": [
    "ensemble_coassoc_matrix.shape"
   ]
  },
  {
   "cell_type": "code",
   "execution_count": 26,
   "id": "754800fa",
   "metadata": {
    "execution": {
     "iopub.execute_input": "2022-11-27T02:57:27.942943Z",
     "iopub.status.busy": "2022-11-27T02:57:27.942554Z",
     "iopub.status.idle": "2022-11-27T02:57:27.961159Z",
     "shell.execute_reply": "2022-11-27T02:57:27.960766Z"
    },
    "papermill": {
     "duration": 0.029479,
     "end_time": "2022-11-27T02:57:27.962460",
     "exception": false,
     "start_time": "2022-11-27T02:57:27.932981",
     "status": "completed"
    },
    "tags": []
   },
   "outputs": [
    {
     "data": {
      "text/plain": [
       "array([[0.        , 0.49197002, 0.43842495, ..., 0.57504616, 0.46243079,\n",
       "        0.75184794],\n",
       "       [0.49197002, 0.        , 0.47500668, ..., 0.61569363, 0.54710921,\n",
       "        0.7467167 ],\n",
       "       [0.43842495, 0.47500668, 0.        , ..., 0.59254363, 0.47172304,\n",
       "        0.69542207],\n",
       "       ...,\n",
       "       [0.57504616, 0.61569363, 0.59254363, ..., 0.        , 0.47823793,\n",
       "        0.76293559],\n",
       "       [0.46243079, 0.54710921, 0.47172304, ..., 0.47823793, 0.        ,\n",
       "        0.71145723],\n",
       "       [0.75184794, 0.7467167 , 0.69542207, ..., 0.76293559, 0.71145723,\n",
       "        0.        ]])"
      ]
     },
     "execution_count": 26,
     "metadata": {},
     "output_type": "execute_result"
    }
   ],
   "source": [
    "ensemble_coassoc_matrix"
   ]
  },
  {
   "cell_type": "markdown",
   "id": "01809abc",
   "metadata": {
    "papermill": {
     "duration": 0.008862,
     "end_time": "2022-11-27T02:57:27.980109",
     "exception": false,
     "start_time": "2022-11-27T02:57:27.971247",
     "status": "completed"
    },
    "tags": []
   },
   "source": [
    "## Save"
   ]
  },
  {
   "cell_type": "code",
   "execution_count": 27,
   "id": "66d5710f",
   "metadata": {
    "execution": {
     "iopub.execute_input": "2022-11-27T02:57:27.998391Z",
     "iopub.status.busy": "2022-11-27T02:57:27.998144Z",
     "iopub.status.idle": "2022-11-27T02:57:28.016701Z",
     "shell.execute_reply": "2022-11-27T02:57:28.016288Z"
    },
    "papermill": {
     "duration": 0.029159,
     "end_time": "2022-11-27T02:57:28.017992",
     "exception": false,
     "start_time": "2022-11-27T02:57:27.988833",
     "status": "completed"
    },
    "tags": []
   },
   "outputs": [
    {
     "data": {
      "text/plain": [
       "PosixPath('/opt/data/results/clustering/null_sims/shuffle_lvs/consensus_clustering/ensemble_coassoc_matrix.npy')"
      ]
     },
     "metadata": {},
     "output_type": "display_data"
    }
   ],
   "source": [
    "output_file = Path(RESULTS_DIR, \"ensemble_coassoc_matrix.npy\").resolve()\n",
    "display(output_file)"
   ]
  },
  {
   "cell_type": "code",
   "execution_count": 28,
   "id": "d425aaf1",
   "metadata": {
    "execution": {
     "iopub.execute_input": "2022-11-27T02:57:28.036486Z",
     "iopub.status.busy": "2022-11-27T02:57:28.036153Z",
     "iopub.status.idle": "2022-11-27T02:57:28.157289Z",
     "shell.execute_reply": "2022-11-27T02:57:28.156923Z"
    },
    "papermill": {
     "duration": 0.132006,
     "end_time": "2022-11-27T02:57:28.158782",
     "exception": false,
     "start_time": "2022-11-27T02:57:28.026776",
     "status": "completed"
    },
    "tags": []
   },
   "outputs": [],
   "source": [
    "np.save(output_file, ensemble_coassoc_matrix)"
   ]
  },
  {
   "cell_type": "code",
   "execution_count": null,
   "id": "5cff8c44",
   "metadata": {
    "papermill": {
     "duration": 0.008671,
     "end_time": "2022-11-27T02:57:28.176832",
     "exception": false,
     "start_time": "2022-11-27T02:57:28.168161",
     "status": "completed"
    },
    "tags": []
   },
   "outputs": [],
   "source": []
  }
 ],
 "metadata": {
  "jupytext": {
   "cell_metadata_filter": "all,-execution,-papermill,-trusted",
   "formats": "ipynb,py//py:percent"
  },
  "kernelspec": {
   "display_name": "Python 3 (ipykernel)",
   "language": "python",
   "name": "python3"
  },
  "language_info": {
   "codemirror_mode": {
    "name": "ipython",
    "version": 3
   },
   "file_extension": ".py",
   "mimetype": "text/x-python",
   "name": "python",
   "nbconvert_exporter": "python",
   "pygments_lexer": "ipython3",
   "version": "3.8.13"
  },
  "papermill": {
   "default_parameters": {},
   "duration": 1389.662939,
   "end_time": "2022-11-27T02:57:28.401745",
   "environment_variables": {},
   "exception": null,
   "input_path": "nbs/13.1_cluster_analysis_null/05-shuffle_lvs/20_00-generate_ensemble.ipynb",
   "output_path": "nbs/13.1_cluster_analysis_null/05-shuffle_lvs/20_00-generate_ensemble.run.ipynb",
   "parameters": {},
   "start_time": "2022-11-27T02:34:18.738806",
   "version": "2.2.2"
  },
  "toc-autonumbering": true,
  "toc-showcode": false,
  "toc-showmarkdowntxt": false,
  "toc-showtags": false
 },
 "nbformat": 4,
 "nbformat_minor": 5
}
