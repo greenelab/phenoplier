{
 "cells": [
  {
   "cell_type": "markdown",
   "id": "27827a0d",
   "metadata": {
    "papermill": {
     "duration": 0.013169,
     "end_time": "2022-11-25T05:11:18.518783",
     "exception": false,
     "start_time": "2022-11-25T05:11:18.505614",
     "status": "completed"
    },
    "tags": []
   },
   "source": [
    "# Description"
   ]
  },
  {
   "cell_type": "markdown",
   "id": "ae81824d",
   "metadata": {
    "papermill": {
     "duration": 0.013228,
     "end_time": "2022-11-25T05:11:18.549570",
     "exception": false,
     "start_time": "2022-11-25T05:11:18.536342",
     "status": "completed"
    },
    "tags": []
   },
   "source": [
    "Runs k-means on the umap version of the data."
   ]
  },
  {
   "cell_type": "markdown",
   "id": "3f39f9a3",
   "metadata": {
    "papermill": {
     "duration": 0.011906,
     "end_time": "2022-11-25T05:11:18.573895",
     "exception": false,
     "start_time": "2022-11-25T05:11:18.561989",
     "status": "completed"
    },
    "tags": []
   },
   "source": [
    "# Environment variables"
   ]
  },
  {
   "cell_type": "code",
   "execution_count": 1,
   "id": "44df7394",
   "metadata": {
    "execution": {
     "iopub.execute_input": "2022-11-25T05:11:18.588666Z",
     "iopub.status.busy": "2022-11-25T05:11:18.588051Z",
     "iopub.status.idle": "2022-11-25T05:11:18.606764Z",
     "shell.execute_reply": "2022-11-25T05:11:18.606314Z"
    },
    "papermill": {
     "duration": 0.027236,
     "end_time": "2022-11-25T05:11:18.607649",
     "exception": false,
     "start_time": "2022-11-25T05:11:18.580413",
     "status": "completed"
    },
    "tags": []
   },
   "outputs": [
    {
     "data": {
      "text/plain": [
       "10"
      ]
     },
     "metadata": {},
     "output_type": "display_data"
    }
   ],
   "source": [
    "from IPython.display import display\n",
    "\n",
    "import conf\n",
    "\n",
    "N_JOBS = conf.GENERAL[\"N_JOBS\"]\n",
    "display(N_JOBS)"
   ]
  },
  {
   "cell_type": "code",
   "execution_count": 2,
   "id": "0b4cb365",
   "metadata": {
    "execution": {
     "iopub.execute_input": "2022-11-25T05:11:18.621582Z",
     "iopub.status.busy": "2022-11-25T05:11:18.621205Z",
     "iopub.status.idle": "2022-11-25T05:11:18.627083Z",
     "shell.execute_reply": "2022-11-25T05:11:18.626613Z"
    },
    "papermill": {
     "duration": 0.013789,
     "end_time": "2022-11-25T05:11:18.627897",
     "exception": false,
     "start_time": "2022-11-25T05:11:18.614108",
     "status": "completed"
    },
    "tags": []
   },
   "outputs": [
    {
     "name": "stdout",
     "output_type": "stream",
     "text": [
      "env: MKL_NUM_THREADS=10\n",
      "env: OPEN_BLAS_NUM_THREADS=10\n",
      "env: NUMEXPR_NUM_THREADS=10\n",
      "env: OMP_NUM_THREADS=10\n"
     ]
    }
   ],
   "source": [
    "%env MKL_NUM_THREADS=$N_JOBS\n",
    "%env OPEN_BLAS_NUM_THREADS=$N_JOBS\n",
    "%env NUMEXPR_NUM_THREADS=$N_JOBS\n",
    "%env OMP_NUM_THREADS=$N_JOBS"
   ]
  },
  {
   "cell_type": "markdown",
   "id": "4dcb69b8",
   "metadata": {
    "papermill": {
     "duration": 0.006276,
     "end_time": "2022-11-25T05:11:18.640607",
     "exception": false,
     "start_time": "2022-11-25T05:11:18.634331",
     "status": "completed"
    },
    "tags": []
   },
   "source": [
    "# Modules loading"
   ]
  },
  {
   "cell_type": "code",
   "execution_count": 3,
   "id": "7a0727cc",
   "metadata": {
    "execution": {
     "iopub.execute_input": "2022-11-25T05:11:18.654196Z",
     "iopub.status.busy": "2022-11-25T05:11:18.653932Z",
     "iopub.status.idle": "2022-11-25T05:11:18.666426Z",
     "shell.execute_reply": "2022-11-25T05:11:18.665974Z"
    },
    "papermill": {
     "duration": 0.020157,
     "end_time": "2022-11-25T05:11:18.667245",
     "exception": false,
     "start_time": "2022-11-25T05:11:18.647088",
     "status": "completed"
    },
    "tags": []
   },
   "outputs": [],
   "source": [
    "%load_ext autoreload\n",
    "%autoreload 2"
   ]
  },
  {
   "cell_type": "code",
   "execution_count": 4,
   "id": "961395dd",
   "metadata": {
    "execution": {
     "iopub.execute_input": "2022-11-25T05:11:18.680675Z",
     "iopub.status.busy": "2022-11-25T05:11:18.680398Z",
     "iopub.status.idle": "2022-11-25T05:11:19.133700Z",
     "shell.execute_reply": "2022-11-25T05:11:19.133299Z"
    },
    "papermill": {
     "duration": 0.461505,
     "end_time": "2022-11-25T05:11:19.135116",
     "exception": false,
     "start_time": "2022-11-25T05:11:18.673611",
     "status": "completed"
    },
    "tags": []
   },
   "outputs": [],
   "source": [
    "from pathlib import Path\n",
    "\n",
    "import numpy as np\n",
    "import pandas as pd\n",
    "import matplotlib.pyplot as plt\n",
    "import seaborn as sns\n",
    "\n",
    "from utils import generate_result_set_name"
   ]
  },
  {
   "cell_type": "markdown",
   "id": "ba5f9c3f",
   "metadata": {
    "papermill": {
     "duration": 0.011842,
     "end_time": "2022-11-25T05:11:19.159698",
     "exception": false,
     "start_time": "2022-11-25T05:11:19.147856",
     "status": "completed"
    },
    "tags": []
   },
   "source": [
    "# Settings"
   ]
  },
  {
   "cell_type": "code",
   "execution_count": 5,
   "id": "56ceb768",
   "metadata": {
    "execution": {
     "iopub.execute_input": "2022-11-25T05:11:19.184390Z",
     "iopub.status.busy": "2022-11-25T05:11:19.184224Z",
     "iopub.status.idle": "2022-11-25T05:11:19.194839Z",
     "shell.execute_reply": "2022-11-25T05:11:19.194491Z"
    },
    "papermill": {
     "duration": 0.024375,
     "end_time": "2022-11-25T05:11:19.196036",
     "exception": false,
     "start_time": "2022-11-25T05:11:19.171661",
     "status": "completed"
    },
    "tags": []
   },
   "outputs": [],
   "source": [
    "np.random.seed(0)"
   ]
  },
  {
   "cell_type": "code",
   "execution_count": 6,
   "id": "42c52f9a",
   "metadata": {
    "execution": {
     "iopub.execute_input": "2022-11-25T05:11:19.245257Z",
     "iopub.status.busy": "2022-11-25T05:11:19.245172Z",
     "iopub.status.idle": "2022-11-25T05:11:19.260487Z",
     "shell.execute_reply": "2022-11-25T05:11:19.260027Z"
    },
    "papermill": {
     "duration": 0.027597,
     "end_time": "2022-11-25T05:11:19.261317",
     "exception": false,
     "start_time": "2022-11-25T05:11:19.233720",
     "status": "completed"
    },
    "tags": []
   },
   "outputs": [],
   "source": [
    "INITIAL_RANDOM_STATE = 20000"
   ]
  },
  {
   "cell_type": "code",
   "execution_count": 7,
   "id": "9e5c3cde-ffc0-4355-848e-dbbbfa14a7e2",
   "metadata": {
    "execution": {
     "iopub.execute_input": "2022-11-25T05:11:19.274971Z",
     "iopub.status.busy": "2022-11-25T05:11:19.274650Z",
     "iopub.status.idle": "2022-11-25T05:11:19.291234Z",
     "shell.execute_reply": "2022-11-25T05:11:19.290784Z"
    },
    "papermill": {
     "duration": 0.024552,
     "end_time": "2022-11-25T05:11:19.292125",
     "exception": false,
     "start_time": "2022-11-25T05:11:19.267573",
     "status": "completed"
    },
    "tags": []
   },
   "outputs": [],
   "source": [
    "NULL_DIR = conf.RESULTS[\"CLUSTERING_NULL_DIR\"] / \"shuffle_lvs\""
   ]
  },
  {
   "cell_type": "markdown",
   "id": "91600e69",
   "metadata": {
    "papermill": {
     "duration": 0.006175,
     "end_time": "2022-11-25T05:11:19.304626",
     "exception": false,
     "start_time": "2022-11-25T05:11:19.298451",
     "status": "completed"
    },
    "tags": []
   },
   "source": [
    "## Input data"
   ]
  },
  {
   "cell_type": "code",
   "execution_count": 8,
   "id": "d2e6efba",
   "metadata": {
    "execution": {
     "iopub.execute_input": "2022-11-25T05:11:19.318246Z",
     "iopub.status.busy": "2022-11-25T05:11:19.317896Z",
     "iopub.status.idle": "2022-11-25T05:11:19.334303Z",
     "shell.execute_reply": "2022-11-25T05:11:19.333855Z"
    },
    "papermill": {
     "duration": 0.024028,
     "end_time": "2022-11-25T05:11:19.335111",
     "exception": false,
     "start_time": "2022-11-25T05:11:19.311083",
     "status": "completed"
    },
    "tags": []
   },
   "outputs": [],
   "source": [
    "INPUT_SUBSET = \"umap\""
   ]
  },
  {
   "cell_type": "code",
   "execution_count": 9,
   "id": "08caa708",
   "metadata": {
    "execution": {
     "iopub.execute_input": "2022-11-25T05:11:19.348613Z",
     "iopub.status.busy": "2022-11-25T05:11:19.348247Z",
     "iopub.status.idle": "2022-11-25T05:11:19.364478Z",
     "shell.execute_reply": "2022-11-25T05:11:19.364028Z"
    },
    "papermill": {
     "duration": 0.023938,
     "end_time": "2022-11-25T05:11:19.365371",
     "exception": false,
     "start_time": "2022-11-25T05:11:19.341433",
     "status": "completed"
    },
    "tags": []
   },
   "outputs": [],
   "source": [
    "INPUT_STEM = \"z_score_std-projection-smultixcan-efo_partial-mashr-zscores\""
   ]
  },
  {
   "cell_type": "code",
   "execution_count": 10,
   "id": "05db4f1f",
   "metadata": {
    "execution": {
     "iopub.execute_input": "2022-11-25T05:11:19.378923Z",
     "iopub.status.busy": "2022-11-25T05:11:19.378644Z",
     "iopub.status.idle": "2022-11-25T05:11:19.395054Z",
     "shell.execute_reply": "2022-11-25T05:11:19.394614Z"
    },
    "papermill": {
     "duration": 0.023998,
     "end_time": "2022-11-25T05:11:19.395870",
     "exception": false,
     "start_time": "2022-11-25T05:11:19.371872",
     "status": "completed"
    },
    "tags": []
   },
   "outputs": [],
   "source": [
    "DR_OPTIONS = {\n",
    "    \"n_components\": 50,\n",
    "    \"metric\": \"euclidean\",\n",
    "    \"n_neighbors\": 15,\n",
    "    \"random_state\": 0,\n",
    "}"
   ]
  },
  {
   "cell_type": "code",
   "execution_count": 11,
   "id": "a84334bb",
   "metadata": {
    "execution": {
     "iopub.execute_input": "2022-11-25T05:11:19.409424Z",
     "iopub.status.busy": "2022-11-25T05:11:19.409138Z",
     "iopub.status.idle": "2022-11-25T05:11:19.428238Z",
     "shell.execute_reply": "2022-11-25T05:11:19.427803Z"
    },
    "papermill": {
     "duration": 0.026836,
     "end_time": "2022-11-25T05:11:19.429048",
     "exception": false,
     "start_time": "2022-11-25T05:11:19.402212",
     "status": "completed"
    },
    "tags": []
   },
   "outputs": [
    {
     "data": {
      "text/plain": [
       "PosixPath('/opt/data/results/clustering/null_sims/shuffle_lvs/data_transformations/umap/umap-z_score_std-projection-smultixcan-efo_partial-mashr-zscores-metric_euclidean-n_components_50-n_neighbors_15-random_state_0.pkl')"
      ]
     },
     "metadata": {},
     "output_type": "display_data"
    },
    {
     "data": {
      "text/plain": [
       "'umap-z_score_std-projection-smultixcan-efo_partial-mashr-zscores-metric_euclidean-n_components_50-n_neighbors_15-random_state_0'"
      ]
     },
     "metadata": {},
     "output_type": "display_data"
    }
   ],
   "source": [
    "input_filepath = Path(\n",
    "    NULL_DIR,\n",
    "    \"data_transformations\",\n",
    "    INPUT_SUBSET,\n",
    "    generate_result_set_name(\n",
    "        DR_OPTIONS, prefix=f\"{INPUT_SUBSET}-{INPUT_STEM}-\", suffix=\".pkl\"\n",
    "    ),\n",
    ").resolve()\n",
    "display(input_filepath)\n",
    "\n",
    "assert input_filepath.exists(), \"Input file does not exist\"\n",
    "\n",
    "input_filepath_stem = input_filepath.stem\n",
    "display(input_filepath_stem)"
   ]
  },
  {
   "cell_type": "markdown",
   "id": "345790ea",
   "metadata": {
    "papermill": {
     "duration": 0.009448,
     "end_time": "2022-11-25T05:11:19.445989",
     "exception": false,
     "start_time": "2022-11-25T05:11:19.436541",
     "status": "completed"
    },
    "tags": []
   },
   "source": [
    "## Clustering"
   ]
  },
  {
   "cell_type": "code",
   "execution_count": 12,
   "id": "597e8cea",
   "metadata": {
    "execution": {
     "iopub.execute_input": "2022-11-25T05:11:19.466212Z",
     "iopub.status.busy": "2022-11-25T05:11:19.465889Z",
     "iopub.status.idle": "2022-11-25T05:11:19.554435Z",
     "shell.execute_reply": "2022-11-25T05:11:19.554017Z"
    },
    "papermill": {
     "duration": 0.099883,
     "end_time": "2022-11-25T05:11:19.555470",
     "exception": false,
     "start_time": "2022-11-25T05:11:19.455587",
     "status": "completed"
    },
    "tags": []
   },
   "outputs": [],
   "source": [
    "from sklearn.cluster import KMeans"
   ]
  },
  {
   "cell_type": "code",
   "execution_count": 13,
   "id": "a11913bd",
   "metadata": {
    "execution": {
     "iopub.execute_input": "2022-11-25T05:11:19.575331Z",
     "iopub.status.busy": "2022-11-25T05:11:19.575228Z",
     "iopub.status.idle": "2022-11-25T05:11:19.587303Z",
     "shell.execute_reply": "2022-11-25T05:11:19.586956Z"
    },
    "papermill": {
     "duration": 0.023131,
     "end_time": "2022-11-25T05:11:19.588297",
     "exception": false,
     "start_time": "2022-11-25T05:11:19.565166",
     "status": "completed"
    },
    "tags": []
   },
   "outputs": [],
   "source": [
    "CLUSTERING_ATTRIBUTES_TO_SAVE = [\"n_clusters\"]"
   ]
  },
  {
   "cell_type": "code",
   "execution_count": 14,
   "id": "67d5520e",
   "metadata": {
    "execution": {
     "iopub.execute_input": "2022-11-25T05:11:19.608424Z",
     "iopub.status.busy": "2022-11-25T05:11:19.608319Z",
     "iopub.status.idle": "2022-11-25T05:11:19.626839Z",
     "shell.execute_reply": "2022-11-25T05:11:19.626400Z"
    },
    "papermill": {
     "duration": 0.029579,
     "end_time": "2022-11-25T05:11:19.627910",
     "exception": false,
     "start_time": "2022-11-25T05:11:19.598331",
     "status": "completed"
    },
    "tags": []
   },
   "outputs": [
    {
     "data": {
      "text/plain": [
       "{'K_MIN': 2, 'K_MAX': 60, 'N_REPS_PER_K': 5, 'KMEANS_N_INIT': 10}"
      ]
     },
     "metadata": {},
     "output_type": "display_data"
    }
   ],
   "source": [
    "CLUSTERING_OPTIONS = {}\n",
    "\n",
    "CLUSTERING_OPTIONS[\"K_MIN\"] = 2\n",
    "CLUSTERING_OPTIONS[\"K_MAX\"] = 60  # sqrt(3749)\n",
    "CLUSTERING_OPTIONS[\"N_REPS_PER_K\"] = 5\n",
    "CLUSTERING_OPTIONS[\"KMEANS_N_INIT\"] = 10\n",
    "\n",
    "display(CLUSTERING_OPTIONS)"
   ]
  },
  {
   "cell_type": "code",
   "execution_count": 15,
   "id": "e2966d1d",
   "metadata": {
    "execution": {
     "iopub.execute_input": "2022-11-25T05:11:19.648326Z",
     "iopub.status.busy": "2022-11-25T05:11:19.647990Z",
     "iopub.status.idle": "2022-11-25T05:11:19.669083Z",
     "shell.execute_reply": "2022-11-25T05:11:19.668629Z"
    },
    "papermill": {
     "duration": 0.032608,
     "end_time": "2022-11-25T05:11:19.670214",
     "exception": false,
     "start_time": "2022-11-25T05:11:19.637606",
     "status": "completed"
    },
    "tags": []
   },
   "outputs": [],
   "source": [
    "CLUSTERERS = {}\n",
    "\n",
    "idx = 0\n",
    "random_state = INITIAL_RANDOM_STATE\n",
    "\n",
    "for k in range(CLUSTERING_OPTIONS[\"K_MIN\"], CLUSTERING_OPTIONS[\"K_MAX\"] + 1):\n",
    "    for i in range(CLUSTERING_OPTIONS[\"N_REPS_PER_K\"]):\n",
    "        clus = KMeans(\n",
    "            n_clusters=k,\n",
    "            n_init=CLUSTERING_OPTIONS[\"KMEANS_N_INIT\"],\n",
    "            random_state=random_state,\n",
    "        )\n",
    "\n",
    "        method_name = type(clus).__name__\n",
    "        CLUSTERERS[f\"{method_name} #{idx}\"] = clus\n",
    "\n",
    "        random_state = random_state + 1\n",
    "        idx = idx + 1"
   ]
  },
  {
   "cell_type": "code",
   "execution_count": 16,
   "id": "8304e53c",
   "metadata": {
    "execution": {
     "iopub.execute_input": "2022-11-25T05:11:19.695749Z",
     "iopub.status.busy": "2022-11-25T05:11:19.695444Z",
     "iopub.status.idle": "2022-11-25T05:11:19.714143Z",
     "shell.execute_reply": "2022-11-25T05:11:19.713705Z"
    },
    "papermill": {
     "duration": 0.032761,
     "end_time": "2022-11-25T05:11:19.715389",
     "exception": false,
     "start_time": "2022-11-25T05:11:19.682628",
     "status": "completed"
    },
    "tags": []
   },
   "outputs": [
    {
     "data": {
      "text/plain": [
       "295"
      ]
     },
     "metadata": {},
     "output_type": "display_data"
    }
   ],
   "source": [
    "display(len(CLUSTERERS))"
   ]
  },
  {
   "cell_type": "code",
   "execution_count": 17,
   "id": "7d7fccb2",
   "metadata": {
    "execution": {
     "iopub.execute_input": "2022-11-25T05:11:19.741494Z",
     "iopub.status.busy": "2022-11-25T05:11:19.741171Z",
     "iopub.status.idle": "2022-11-25T05:11:19.761950Z",
     "shell.execute_reply": "2022-11-25T05:11:19.761513Z"
    },
    "papermill": {
     "duration": 0.035052,
     "end_time": "2022-11-25T05:11:19.763239",
     "exception": false,
     "start_time": "2022-11-25T05:11:19.728187",
     "status": "completed"
    },
    "tags": []
   },
   "outputs": [
    {
     "data": {
      "text/plain": [
       "('KMeans #0', KMeans(n_clusters=2, random_state=20000))"
      ]
     },
     "metadata": {},
     "output_type": "display_data"
    },
    {
     "data": {
      "text/plain": [
       "('KMeans #1', KMeans(n_clusters=2, random_state=20001))"
      ]
     },
     "metadata": {},
     "output_type": "display_data"
    }
   ],
   "source": [
    "_iter = iter(CLUSTERERS.items())\n",
    "display(next(_iter))\n",
    "display(next(_iter))"
   ]
  },
  {
   "cell_type": "code",
   "execution_count": 18,
   "id": "cac9cd6d",
   "metadata": {
    "execution": {
     "iopub.execute_input": "2022-11-25T05:11:19.789574Z",
     "iopub.status.busy": "2022-11-25T05:11:19.789193Z",
     "iopub.status.idle": "2022-11-25T05:11:19.808190Z",
     "shell.execute_reply": "2022-11-25T05:11:19.807742Z"
    },
    "papermill": {
     "duration": 0.033479,
     "end_time": "2022-11-25T05:11:19.809488",
     "exception": false,
     "start_time": "2022-11-25T05:11:19.776009",
     "status": "completed"
    },
    "tags": []
   },
   "outputs": [
    {
     "data": {
      "text/plain": [
       "'KMeans'"
      ]
     },
     "metadata": {},
     "output_type": "display_data"
    }
   ],
   "source": [
    "clustering_method_name = method_name\n",
    "display(clustering_method_name)"
   ]
  },
  {
   "cell_type": "markdown",
   "id": "1078d26d",
   "metadata": {
    "papermill": {
     "duration": 0.012561,
     "end_time": "2022-11-25T05:11:19.834995",
     "exception": false,
     "start_time": "2022-11-25T05:11:19.822434",
     "status": "completed"
    },
    "tags": []
   },
   "source": [
    "## Output directory"
   ]
  },
  {
   "cell_type": "code",
   "execution_count": 19,
   "id": "c9e38445",
   "metadata": {
    "execution": {
     "iopub.execute_input": "2022-11-25T05:11:19.860842Z",
     "iopub.status.busy": "2022-11-25T05:11:19.860471Z",
     "iopub.status.idle": "2022-11-25T05:11:19.880206Z",
     "shell.execute_reply": "2022-11-25T05:11:19.879770Z"
    },
    "papermill": {
     "duration": 0.033318,
     "end_time": "2022-11-25T05:11:19.881024",
     "exception": false,
     "start_time": "2022-11-25T05:11:19.847706",
     "status": "completed"
    },
    "tags": []
   },
   "outputs": [
    {
     "data": {
      "text/plain": [
       "PosixPath('/opt/data/results/clustering/null_sims/shuffle_lvs/runs/umap-z_score_std-projection-smultixcan-efo_partial-mashr-zscores')"
      ]
     },
     "metadata": {},
     "output_type": "display_data"
    }
   ],
   "source": [
    "# output dir for this notebook\n",
    "RESULTS_DIR = Path(\n",
    "    NULL_DIR,\n",
    "    \"runs\",\n",
    "    f\"{INPUT_SUBSET}-{INPUT_STEM}\",\n",
    ").resolve()\n",
    "RESULTS_DIR.mkdir(parents=True, exist_ok=True)\n",
    "\n",
    "display(RESULTS_DIR)"
   ]
  },
  {
   "cell_type": "markdown",
   "id": "6df10d47",
   "metadata": {
    "papermill": {
     "duration": 0.006595,
     "end_time": "2022-11-25T05:11:19.894369",
     "exception": false,
     "start_time": "2022-11-25T05:11:19.887774",
     "status": "completed"
    },
    "tags": []
   },
   "source": [
    "# Load input file"
   ]
  },
  {
   "cell_type": "code",
   "execution_count": 20,
   "id": "fe6a9f23",
   "metadata": {
    "execution": {
     "iopub.execute_input": "2022-11-25T05:11:19.908803Z",
     "iopub.status.busy": "2022-11-25T05:11:19.908508Z",
     "iopub.status.idle": "2022-11-25T05:11:19.929135Z",
     "shell.execute_reply": "2022-11-25T05:11:19.928655Z"
    },
    "papermill": {
     "duration": 0.028737,
     "end_time": "2022-11-25T05:11:19.929954",
     "exception": false,
     "start_time": "2022-11-25T05:11:19.901217",
     "status": "completed"
    },
    "tags": []
   },
   "outputs": [],
   "source": [
    "data = pd.read_pickle(input_filepath)"
   ]
  },
  {
   "cell_type": "code",
   "execution_count": 21,
   "id": "3d76cff9",
   "metadata": {
    "execution": {
     "iopub.execute_input": "2022-11-25T05:11:19.944453Z",
     "iopub.status.busy": "2022-11-25T05:11:19.944071Z",
     "iopub.status.idle": "2022-11-25T05:11:19.963468Z",
     "shell.execute_reply": "2022-11-25T05:11:19.963030Z"
    },
    "papermill": {
     "duration": 0.0276,
     "end_time": "2022-11-25T05:11:19.964259",
     "exception": false,
     "start_time": "2022-11-25T05:11:19.936659",
     "status": "completed"
    },
    "tags": []
   },
   "outputs": [
    {
     "data": {
      "text/plain": [
       "(3752, 50)"
      ]
     },
     "execution_count": 21,
     "metadata": {},
     "output_type": "execute_result"
    }
   ],
   "source": [
    "data.shape"
   ]
  },
  {
   "cell_type": "code",
   "execution_count": 22,
   "id": "8c3d3cbe",
   "metadata": {
    "execution": {
     "iopub.execute_input": "2022-11-25T05:11:19.978679Z",
     "iopub.status.busy": "2022-11-25T05:11:19.978325Z",
     "iopub.status.idle": "2022-11-25T05:11:20.014032Z",
     "shell.execute_reply": "2022-11-25T05:11:20.013577Z"
    },
    "papermill": {
     "duration": 0.043741,
     "end_time": "2022-11-25T05:11:20.014839",
     "exception": false,
     "start_time": "2022-11-25T05:11:19.971098",
     "status": "completed"
    },
    "tags": []
   },
   "outputs": [
    {
     "data": {
      "text/html": [
       "<div>\n",
       "<style scoped>\n",
       "    .dataframe tbody tr th:only-of-type {\n",
       "        vertical-align: middle;\n",
       "    }\n",
       "\n",
       "    .dataframe tbody tr th {\n",
       "        vertical-align: top;\n",
       "    }\n",
       "\n",
       "    .dataframe thead th {\n",
       "        text-align: right;\n",
       "    }\n",
       "</style>\n",
       "<table border=\"1\" class=\"dataframe\">\n",
       "  <thead>\n",
       "    <tr style=\"text-align: right;\">\n",
       "      <th></th>\n",
       "      <th>UMAP1</th>\n",
       "      <th>UMAP2</th>\n",
       "      <th>UMAP3</th>\n",
       "      <th>UMAP4</th>\n",
       "      <th>UMAP5</th>\n",
       "      <th>UMAP6</th>\n",
       "      <th>UMAP7</th>\n",
       "      <th>UMAP8</th>\n",
       "      <th>UMAP9</th>\n",
       "      <th>UMAP10</th>\n",
       "      <th>...</th>\n",
       "      <th>UMAP41</th>\n",
       "      <th>UMAP42</th>\n",
       "      <th>UMAP43</th>\n",
       "      <th>UMAP44</th>\n",
       "      <th>UMAP45</th>\n",
       "      <th>UMAP46</th>\n",
       "      <th>UMAP47</th>\n",
       "      <th>UMAP48</th>\n",
       "      <th>UMAP49</th>\n",
       "      <th>UMAP50</th>\n",
       "    </tr>\n",
       "  </thead>\n",
       "  <tbody>\n",
       "    <tr>\n",
       "      <th>100001_raw-Food_weight</th>\n",
       "      <td>7.348012</td>\n",
       "      <td>4.577476</td>\n",
       "      <td>4.003544</td>\n",
       "      <td>7.175258</td>\n",
       "      <td>4.628082</td>\n",
       "      <td>4.668375</td>\n",
       "      <td>4.184439</td>\n",
       "      <td>5.524602</td>\n",
       "      <td>5.236019</td>\n",
       "      <td>4.051960</td>\n",
       "      <td>...</td>\n",
       "      <td>7.420596</td>\n",
       "      <td>8.645991</td>\n",
       "      <td>8.978471</td>\n",
       "      <td>0.844213</td>\n",
       "      <td>0.445817</td>\n",
       "      <td>8.147386</td>\n",
       "      <td>0.880679</td>\n",
       "      <td>9.326646</td>\n",
       "      <td>5.905894</td>\n",
       "      <td>9.498857</td>\n",
       "    </tr>\n",
       "    <tr>\n",
       "      <th>100002_raw-Energy</th>\n",
       "      <td>7.310478</td>\n",
       "      <td>4.624479</td>\n",
       "      <td>4.003817</td>\n",
       "      <td>7.205625</td>\n",
       "      <td>4.674837</td>\n",
       "      <td>4.623739</td>\n",
       "      <td>4.303133</td>\n",
       "      <td>5.513216</td>\n",
       "      <td>5.319317</td>\n",
       "      <td>3.911008</td>\n",
       "      <td>...</td>\n",
       "      <td>7.434267</td>\n",
       "      <td>8.683359</td>\n",
       "      <td>8.898481</td>\n",
       "      <td>0.940067</td>\n",
       "      <td>0.438958</td>\n",
       "      <td>8.215672</td>\n",
       "      <td>0.835403</td>\n",
       "      <td>9.336117</td>\n",
       "      <td>5.906696</td>\n",
       "      <td>9.496916</td>\n",
       "    </tr>\n",
       "    <tr>\n",
       "      <th>100003_raw-Protein</th>\n",
       "      <td>7.372120</td>\n",
       "      <td>4.567552</td>\n",
       "      <td>3.956281</td>\n",
       "      <td>7.172141</td>\n",
       "      <td>4.637493</td>\n",
       "      <td>4.662377</td>\n",
       "      <td>4.164535</td>\n",
       "      <td>5.569874</td>\n",
       "      <td>5.245649</td>\n",
       "      <td>3.992713</td>\n",
       "      <td>...</td>\n",
       "      <td>7.414976</td>\n",
       "      <td>8.643587</td>\n",
       "      <td>8.971425</td>\n",
       "      <td>0.866410</td>\n",
       "      <td>0.448116</td>\n",
       "      <td>8.160679</td>\n",
       "      <td>0.888818</td>\n",
       "      <td>9.330538</td>\n",
       "      <td>5.882386</td>\n",
       "      <td>9.454537</td>\n",
       "    </tr>\n",
       "    <tr>\n",
       "      <th>100004_raw-Fat</th>\n",
       "      <td>7.246791</td>\n",
       "      <td>4.422901</td>\n",
       "      <td>3.999165</td>\n",
       "      <td>6.995014</td>\n",
       "      <td>4.689552</td>\n",
       "      <td>4.778102</td>\n",
       "      <td>4.283790</td>\n",
       "      <td>5.544029</td>\n",
       "      <td>5.273340</td>\n",
       "      <td>4.024833</td>\n",
       "      <td>...</td>\n",
       "      <td>7.451052</td>\n",
       "      <td>8.683681</td>\n",
       "      <td>8.907457</td>\n",
       "      <td>0.842343</td>\n",
       "      <td>0.455955</td>\n",
       "      <td>8.174278</td>\n",
       "      <td>0.874224</td>\n",
       "      <td>9.339664</td>\n",
       "      <td>5.891949</td>\n",
       "      <td>9.500463</td>\n",
       "    </tr>\n",
       "    <tr>\n",
       "      <th>100005_raw-Carbohydrate</th>\n",
       "      <td>7.340907</td>\n",
       "      <td>4.559629</td>\n",
       "      <td>4.066139</td>\n",
       "      <td>7.116928</td>\n",
       "      <td>4.623105</td>\n",
       "      <td>4.678367</td>\n",
       "      <td>4.169051</td>\n",
       "      <td>5.549784</td>\n",
       "      <td>5.156203</td>\n",
       "      <td>4.129416</td>\n",
       "      <td>...</td>\n",
       "      <td>7.460930</td>\n",
       "      <td>8.663488</td>\n",
       "      <td>8.955309</td>\n",
       "      <td>0.796839</td>\n",
       "      <td>0.432522</td>\n",
       "      <td>8.127192</td>\n",
       "      <td>0.873220</td>\n",
       "      <td>9.321359</td>\n",
       "      <td>5.902341</td>\n",
       "      <td>9.528457</td>\n",
       "    </tr>\n",
       "  </tbody>\n",
       "</table>\n",
       "<p>5 rows × 50 columns</p>\n",
       "</div>"
      ],
      "text/plain": [
       "                            UMAP1     UMAP2     UMAP3     UMAP4     UMAP5  \\\n",
       "100001_raw-Food_weight   7.348012  4.577476  4.003544  7.175258  4.628082   \n",
       "100002_raw-Energy        7.310478  4.624479  4.003817  7.205625  4.674837   \n",
       "100003_raw-Protein       7.372120  4.567552  3.956281  7.172141  4.637493   \n",
       "100004_raw-Fat           7.246791  4.422901  3.999165  6.995014  4.689552   \n",
       "100005_raw-Carbohydrate  7.340907  4.559629  4.066139  7.116928  4.623105   \n",
       "\n",
       "                            UMAP6     UMAP7     UMAP8     UMAP9    UMAP10  \\\n",
       "100001_raw-Food_weight   4.668375  4.184439  5.524602  5.236019  4.051960   \n",
       "100002_raw-Energy        4.623739  4.303133  5.513216  5.319317  3.911008   \n",
       "100003_raw-Protein       4.662377  4.164535  5.569874  5.245649  3.992713   \n",
       "100004_raw-Fat           4.778102  4.283790  5.544029  5.273340  4.024833   \n",
       "100005_raw-Carbohydrate  4.678367  4.169051  5.549784  5.156203  4.129416   \n",
       "\n",
       "                         ...    UMAP41    UMAP42    UMAP43    UMAP44  \\\n",
       "100001_raw-Food_weight   ...  7.420596  8.645991  8.978471  0.844213   \n",
       "100002_raw-Energy        ...  7.434267  8.683359  8.898481  0.940067   \n",
       "100003_raw-Protein       ...  7.414976  8.643587  8.971425  0.866410   \n",
       "100004_raw-Fat           ...  7.451052  8.683681  8.907457  0.842343   \n",
       "100005_raw-Carbohydrate  ...  7.460930  8.663488  8.955309  0.796839   \n",
       "\n",
       "                           UMAP45    UMAP46    UMAP47    UMAP48    UMAP49  \\\n",
       "100001_raw-Food_weight   0.445817  8.147386  0.880679  9.326646  5.905894   \n",
       "100002_raw-Energy        0.438958  8.215672  0.835403  9.336117  5.906696   \n",
       "100003_raw-Protein       0.448116  8.160679  0.888818  9.330538  5.882386   \n",
       "100004_raw-Fat           0.455955  8.174278  0.874224  9.339664  5.891949   \n",
       "100005_raw-Carbohydrate  0.432522  8.127192  0.873220  9.321359  5.902341   \n",
       "\n",
       "                           UMAP50  \n",
       "100001_raw-Food_weight   9.498857  \n",
       "100002_raw-Energy        9.496916  \n",
       "100003_raw-Protein       9.454537  \n",
       "100004_raw-Fat           9.500463  \n",
       "100005_raw-Carbohydrate  9.528457  \n",
       "\n",
       "[5 rows x 50 columns]"
      ]
     },
     "execution_count": 22,
     "metadata": {},
     "output_type": "execute_result"
    }
   ],
   "source": [
    "data.head()"
   ]
  },
  {
   "cell_type": "code",
   "execution_count": 23,
   "id": "a2404790",
   "metadata": {
    "execution": {
     "iopub.execute_input": "2022-11-25T05:11:20.035563Z",
     "iopub.status.busy": "2022-11-25T05:11:20.035205Z",
     "iopub.status.idle": "2022-11-25T05:11:20.055011Z",
     "shell.execute_reply": "2022-11-25T05:11:20.054535Z"
    },
    "papermill": {
     "duration": 0.031838,
     "end_time": "2022-11-25T05:11:20.056080",
     "exception": false,
     "start_time": "2022-11-25T05:11:20.024242",
     "status": "completed"
    },
    "tags": []
   },
   "outputs": [],
   "source": [
    "assert not data.isna().any().any()"
   ]
  },
  {
   "cell_type": "markdown",
   "id": "21a4325b",
   "metadata": {
    "papermill": {
     "duration": 0.010538,
     "end_time": "2022-11-25T05:11:20.077085",
     "exception": false,
     "start_time": "2022-11-25T05:11:20.066547",
     "status": "completed"
    },
    "tags": []
   },
   "source": [
    "# Clustering"
   ]
  },
  {
   "cell_type": "markdown",
   "id": "20830bc5",
   "metadata": {
    "papermill": {
     "duration": 0.010257,
     "end_time": "2022-11-25T05:11:20.097705",
     "exception": false,
     "start_time": "2022-11-25T05:11:20.087448",
     "status": "completed"
    },
    "tags": []
   },
   "source": [
    "## Generate ensemble"
   ]
  },
  {
   "cell_type": "code",
   "execution_count": 24,
   "id": "ebc23812",
   "metadata": {
    "execution": {
     "iopub.execute_input": "2022-11-25T05:11:20.117312Z",
     "iopub.status.busy": "2022-11-25T05:11:20.117158Z",
     "iopub.status.idle": "2022-11-25T05:11:20.139817Z",
     "shell.execute_reply": "2022-11-25T05:11:20.139338Z"
    },
    "papermill": {
     "duration": 0.032474,
     "end_time": "2022-11-25T05:11:20.140638",
     "exception": false,
     "start_time": "2022-11-25T05:11:20.108164",
     "status": "completed"
    },
    "tags": []
   },
   "outputs": [],
   "source": [
    "from clustering.ensembles.utils import generate_ensemble"
   ]
  },
  {
   "cell_type": "code",
   "execution_count": 25,
   "id": "2bdd8139",
   "metadata": {
    "execution": {
     "iopub.execute_input": "2022-11-25T05:11:20.155532Z",
     "iopub.status.busy": "2022-11-25T05:11:20.155194Z",
     "iopub.status.idle": "2022-11-25T05:13:20.704579Z",
     "shell.execute_reply": "2022-11-25T05:13:20.704104Z"
    },
    "papermill": {
     "duration": 120.557976,
     "end_time": "2022-11-25T05:13:20.705560",
     "exception": false,
     "start_time": "2022-11-25T05:11:20.147584",
     "status": "completed"
    },
    "tags": []
   },
   "outputs": [
    {
     "name": "stderr",
     "output_type": "stream",
     "text": [
      "100%|██████████| 295/295 [02:00<00:00,  2.45it/s]\n"
     ]
    }
   ],
   "source": [
    "ensemble = generate_ensemble(\n",
    "    data,\n",
    "    CLUSTERERS,\n",
    "    attributes=CLUSTERING_ATTRIBUTES_TO_SAVE,\n",
    ")"
   ]
  },
  {
   "cell_type": "code",
   "execution_count": 26,
   "id": "17b0af54",
   "metadata": {
    "execution": {
     "iopub.execute_input": "2022-11-25T05:13:20.745379Z",
     "iopub.status.busy": "2022-11-25T05:13:20.745187Z",
     "iopub.status.idle": "2022-11-25T05:13:20.758234Z",
     "shell.execute_reply": "2022-11-25T05:13:20.757871Z"
    },
    "papermill": {
     "duration": 0.030257,
     "end_time": "2022-11-25T05:13:20.758961",
     "exception": false,
     "start_time": "2022-11-25T05:13:20.728704",
     "status": "completed"
    },
    "tags": []
   },
   "outputs": [
    {
     "data": {
      "text/plain": [
       "(295, 3)"
      ]
     },
     "execution_count": 26,
     "metadata": {},
     "output_type": "execute_result"
    }
   ],
   "source": [
    "# the number should be close to 295 (the number of partitions generated by k-means/spectral clustering)\n",
    "ensemble.shape"
   ]
  },
  {
   "cell_type": "code",
   "execution_count": 27,
   "id": "32420cf6",
   "metadata": {
    "execution": {
     "iopub.execute_input": "2022-11-25T05:13:20.788342Z",
     "iopub.status.busy": "2022-11-25T05:13:20.788110Z",
     "iopub.status.idle": "2022-11-25T05:13:20.805962Z",
     "shell.execute_reply": "2022-11-25T05:13:20.805545Z"
    },
    "papermill": {
     "duration": 0.033824,
     "end_time": "2022-11-25T05:13:20.807259",
     "exception": false,
     "start_time": "2022-11-25T05:13:20.773435",
     "status": "completed"
    },
    "tags": []
   },
   "outputs": [
    {
     "data": {
      "text/html": [
       "<div>\n",
       "<style scoped>\n",
       "    .dataframe tbody tr th:only-of-type {\n",
       "        vertical-align: middle;\n",
       "    }\n",
       "\n",
       "    .dataframe tbody tr th {\n",
       "        vertical-align: top;\n",
       "    }\n",
       "\n",
       "    .dataframe thead th {\n",
       "        text-align: right;\n",
       "    }\n",
       "</style>\n",
       "<table border=\"1\" class=\"dataframe\">\n",
       "  <thead>\n",
       "    <tr style=\"text-align: right;\">\n",
       "      <th></th>\n",
       "      <th>clusterer_params</th>\n",
       "      <th>partition</th>\n",
       "      <th>n_clusters</th>\n",
       "    </tr>\n",
       "    <tr>\n",
       "      <th>clusterer_id</th>\n",
       "      <th></th>\n",
       "      <th></th>\n",
       "      <th></th>\n",
       "    </tr>\n",
       "  </thead>\n",
       "  <tbody>\n",
       "    <tr>\n",
       "      <th>KMeans #0</th>\n",
       "      <td>{'algorithm': 'auto', 'copy_x': True, 'init': ...</td>\n",
       "      <td>[0.0, 0.0, 0.0, 0.0, 0.0, 0.0, 0.0, 0.0, 0.0, ...</td>\n",
       "      <td>2</td>\n",
       "    </tr>\n",
       "    <tr>\n",
       "      <th>KMeans #1</th>\n",
       "      <td>{'algorithm': 'auto', 'copy_x': True, 'init': ...</td>\n",
       "      <td>[0.0, 0.0, 0.0, 0.0, 0.0, 0.0, 0.0, 0.0, 0.0, ...</td>\n",
       "      <td>2</td>\n",
       "    </tr>\n",
       "    <tr>\n",
       "      <th>KMeans #2</th>\n",
       "      <td>{'algorithm': 'auto', 'copy_x': True, 'init': ...</td>\n",
       "      <td>[1.0, 1.0, 1.0, 1.0, 1.0, 1.0, 1.0, 1.0, 1.0, ...</td>\n",
       "      <td>2</td>\n",
       "    </tr>\n",
       "    <tr>\n",
       "      <th>KMeans #3</th>\n",
       "      <td>{'algorithm': 'auto', 'copy_x': True, 'init': ...</td>\n",
       "      <td>[1.0, 1.0, 1.0, 1.0, 1.0, 1.0, 1.0, 1.0, 1.0, ...</td>\n",
       "      <td>2</td>\n",
       "    </tr>\n",
       "    <tr>\n",
       "      <th>KMeans #4</th>\n",
       "      <td>{'algorithm': 'auto', 'copy_x': True, 'init': ...</td>\n",
       "      <td>[1.0, 1.0, 1.0, 1.0, 1.0, 1.0, 1.0, 1.0, 1.0, ...</td>\n",
       "      <td>2</td>\n",
       "    </tr>\n",
       "  </tbody>\n",
       "</table>\n",
       "</div>"
      ],
      "text/plain": [
       "                                               clusterer_params  \\\n",
       "clusterer_id                                                      \n",
       "KMeans #0     {'algorithm': 'auto', 'copy_x': True, 'init': ...   \n",
       "KMeans #1     {'algorithm': 'auto', 'copy_x': True, 'init': ...   \n",
       "KMeans #2     {'algorithm': 'auto', 'copy_x': True, 'init': ...   \n",
       "KMeans #3     {'algorithm': 'auto', 'copy_x': True, 'init': ...   \n",
       "KMeans #4     {'algorithm': 'auto', 'copy_x': True, 'init': ...   \n",
       "\n",
       "                                                      partition  n_clusters  \n",
       "clusterer_id                                                                 \n",
       "KMeans #0     [0.0, 0.0, 0.0, 0.0, 0.0, 0.0, 0.0, 0.0, 0.0, ...           2  \n",
       "KMeans #1     [0.0, 0.0, 0.0, 0.0, 0.0, 0.0, 0.0, 0.0, 0.0, ...           2  \n",
       "KMeans #2     [1.0, 1.0, 1.0, 1.0, 1.0, 1.0, 1.0, 1.0, 1.0, ...           2  \n",
       "KMeans #3     [1.0, 1.0, 1.0, 1.0, 1.0, 1.0, 1.0, 1.0, 1.0, ...           2  \n",
       "KMeans #4     [1.0, 1.0, 1.0, 1.0, 1.0, 1.0, 1.0, 1.0, 1.0, ...           2  "
      ]
     },
     "execution_count": 27,
     "metadata": {},
     "output_type": "execute_result"
    }
   ],
   "source": [
    "ensemble.head()"
   ]
  },
  {
   "cell_type": "code",
   "execution_count": 28,
   "id": "696995b0",
   "metadata": {
    "execution": {
     "iopub.execute_input": "2022-11-25T05:13:20.861380Z",
     "iopub.status.busy": "2022-11-25T05:13:20.861162Z",
     "iopub.status.idle": "2022-11-25T05:13:20.873692Z",
     "shell.execute_reply": "2022-11-25T05:13:20.873390Z"
    },
    "papermill": {
     "duration": 0.038088,
     "end_time": "2022-11-25T05:13:20.874449",
     "exception": false,
     "start_time": "2022-11-25T05:13:20.836361",
     "status": "completed"
    },
    "tags": []
   },
   "outputs": [
    {
     "data": {
      "text/plain": [
       "60    5\n",
       "16    5\n",
       "28    5\n",
       "27    5\n",
       "26    5\n",
       "Name: n_clusters, dtype: int64"
      ]
     },
     "execution_count": 28,
     "metadata": {},
     "output_type": "execute_result"
    }
   ],
   "source": [
    "ensemble[\"n_clusters\"].value_counts().head()"
   ]
  },
  {
   "cell_type": "code",
   "execution_count": 29,
   "id": "1d6548d0",
   "metadata": {
    "execution": {
     "iopub.execute_input": "2022-11-25T05:13:20.904328Z",
     "iopub.status.busy": "2022-11-25T05:13:20.904101Z",
     "iopub.status.idle": "2022-11-25T05:13:20.917471Z",
     "shell.execute_reply": "2022-11-25T05:13:20.917154Z"
    },
    "papermill": {
     "duration": 0.029207,
     "end_time": "2022-11-25T05:13:20.918200",
     "exception": false,
     "start_time": "2022-11-25T05:13:20.888993",
     "status": "completed"
    },
    "tags": []
   },
   "outputs": [
    {
     "data": {
      "text/plain": [
       "count    295.000000\n",
       "mean      31.000000\n",
       "std       17.058323\n",
       "min        2.000000\n",
       "25%       16.000000\n",
       "50%       31.000000\n",
       "75%       46.000000\n",
       "max       60.000000\n",
       "Name: n_clusters, dtype: float64"
      ]
     },
     "metadata": {},
     "output_type": "display_data"
    }
   ],
   "source": [
    "ensemble_stats = ensemble[\"n_clusters\"].describe()\n",
    "display(ensemble_stats)"
   ]
  },
  {
   "cell_type": "markdown",
   "id": "8380f197",
   "metadata": {
    "papermill": {
     "duration": 0.014279,
     "end_time": "2022-11-25T05:13:20.947008",
     "exception": false,
     "start_time": "2022-11-25T05:13:20.932729",
     "status": "completed"
    },
    "tags": []
   },
   "source": [
    "## Testing"
   ]
  },
  {
   "cell_type": "code",
   "execution_count": 30,
   "id": "6ae54bae",
   "metadata": {
    "execution": {
     "iopub.execute_input": "2022-11-25T05:13:20.976661Z",
     "iopub.status.busy": "2022-11-25T05:13:20.976417Z",
     "iopub.status.idle": "2022-11-25T05:13:20.987982Z",
     "shell.execute_reply": "2022-11-25T05:13:20.987686Z"
    },
    "papermill": {
     "duration": 0.02719,
     "end_time": "2022-11-25T05:13:20.988757",
     "exception": false,
     "start_time": "2022-11-25T05:13:20.961567",
     "status": "completed"
    },
    "tags": []
   },
   "outputs": [],
   "source": [
    "assert ensemble_stats[\"min\"] > 1"
   ]
  },
  {
   "cell_type": "code",
   "execution_count": 31,
   "id": "5fa39227",
   "metadata": {
    "execution": {
     "iopub.execute_input": "2022-11-25T05:13:21.018326Z",
     "iopub.status.busy": "2022-11-25T05:13:21.018075Z",
     "iopub.status.idle": "2022-11-25T05:13:21.029065Z",
     "shell.execute_reply": "2022-11-25T05:13:21.028775Z"
    },
    "papermill": {
     "duration": 0.026628,
     "end_time": "2022-11-25T05:13:21.029832",
     "exception": false,
     "start_time": "2022-11-25T05:13:21.003204",
     "status": "completed"
    },
    "tags": []
   },
   "outputs": [],
   "source": [
    "assert not ensemble[\"n_clusters\"].isna().any()"
   ]
  },
  {
   "cell_type": "code",
   "execution_count": 32,
   "id": "77e95a6a",
   "metadata": {
    "execution": {
     "iopub.execute_input": "2022-11-25T05:13:21.059265Z",
     "iopub.status.busy": "2022-11-25T05:13:21.059000Z",
     "iopub.status.idle": "2022-11-25T05:13:21.070287Z",
     "shell.execute_reply": "2022-11-25T05:13:21.069994Z"
    },
    "papermill": {
     "duration": 0.026735,
     "end_time": "2022-11-25T05:13:21.071039",
     "exception": false,
     "start_time": "2022-11-25T05:13:21.044304",
     "status": "completed"
    },
    "tags": []
   },
   "outputs": [],
   "source": [
    "assert ensemble.shape[0] == len(CLUSTERERS)"
   ]
  },
  {
   "cell_type": "code",
   "execution_count": 33,
   "id": "259b8e40",
   "metadata": {
    "execution": {
     "iopub.execute_input": "2022-11-25T05:13:21.100485Z",
     "iopub.status.busy": "2022-11-25T05:13:21.100330Z",
     "iopub.status.idle": "2022-11-25T05:13:21.123710Z",
     "shell.execute_reply": "2022-11-25T05:13:21.123416Z"
    },
    "papermill": {
     "duration": 0.038838,
     "end_time": "2022-11-25T05:13:21.124429",
     "exception": false,
     "start_time": "2022-11-25T05:13:21.085591",
     "status": "completed"
    },
    "tags": []
   },
   "outputs": [],
   "source": [
    "# all partitions have the right size\n",
    "assert np.all(\n",
    "    [part[\"partition\"].shape[0] == data.shape[0] for idx, part in ensemble.iterrows()]\n",
    ")"
   ]
  },
  {
   "cell_type": "code",
   "execution_count": 34,
   "id": "da8eb843",
   "metadata": {
    "execution": {
     "iopub.execute_input": "2022-11-25T05:13:21.153656Z",
     "iopub.status.busy": "2022-11-25T05:13:21.153570Z",
     "iopub.status.idle": "2022-11-25T05:13:21.179164Z",
     "shell.execute_reply": "2022-11-25T05:13:21.178829Z"
    },
    "papermill": {
     "duration": 0.041133,
     "end_time": "2022-11-25T05:13:21.179950",
     "exception": false,
     "start_time": "2022-11-25T05:13:21.138817",
     "status": "completed"
    },
    "tags": []
   },
   "outputs": [],
   "source": [
    "# no partition has negative clusters (noisy points)\n",
    "assert not np.any([(part[\"partition\"] < 0).any() for idx, part in ensemble.iterrows()])"
   ]
  },
  {
   "cell_type": "markdown",
   "id": "fc74a4e6",
   "metadata": {
    "papermill": {
     "duration": 0.01421,
     "end_time": "2022-11-25T05:13:21.208634",
     "exception": false,
     "start_time": "2022-11-25T05:13:21.194424",
     "status": "completed"
    },
    "tags": []
   },
   "source": [
    "## Add clustering quality measures"
   ]
  },
  {
   "cell_type": "code",
   "execution_count": 35,
   "id": "67a882b7",
   "metadata": {
    "execution": {
     "iopub.execute_input": "2022-11-25T05:13:21.238105Z",
     "iopub.status.busy": "2022-11-25T05:13:21.237839Z",
     "iopub.status.idle": "2022-11-25T05:13:21.249825Z",
     "shell.execute_reply": "2022-11-25T05:13:21.249528Z"
    },
    "papermill": {
     "duration": 0.027435,
     "end_time": "2022-11-25T05:13:21.250537",
     "exception": false,
     "start_time": "2022-11-25T05:13:21.223102",
     "status": "completed"
    },
    "tags": []
   },
   "outputs": [],
   "source": [
    "from sklearn.metrics import calinski_harabasz_score"
   ]
  },
  {
   "cell_type": "code",
   "execution_count": 36,
   "id": "6030929b",
   "metadata": {
    "execution": {
     "iopub.execute_input": "2022-11-25T05:13:21.279928Z",
     "iopub.status.busy": "2022-11-25T05:13:21.279674Z",
     "iopub.status.idle": "2022-11-25T05:13:21.957747Z",
     "shell.execute_reply": "2022-11-25T05:13:21.957344Z"
    },
    "papermill": {
     "duration": 0.694431,
     "end_time": "2022-11-25T05:13:21.959334",
     "exception": false,
     "start_time": "2022-11-25T05:13:21.264903",
     "status": "completed"
    },
    "tags": []
   },
   "outputs": [],
   "source": [
    "ensemble = ensemble.assign(\n",
    "    ch_score=ensemble[\"partition\"].apply(lambda x: calinski_harabasz_score(data, x))\n",
    ")"
   ]
  },
  {
   "cell_type": "code",
   "execution_count": 37,
   "id": "8f570f7f",
   "metadata": {
    "execution": {
     "iopub.execute_input": "2022-11-25T05:13:21.990135Z",
     "iopub.status.busy": "2022-11-25T05:13:21.990046Z",
     "iopub.status.idle": "2022-11-25T05:13:22.002774Z",
     "shell.execute_reply": "2022-11-25T05:13:22.002485Z"
    },
    "papermill": {
     "duration": 0.028232,
     "end_time": "2022-11-25T05:13:22.003531",
     "exception": false,
     "start_time": "2022-11-25T05:13:21.975299",
     "status": "completed"
    },
    "tags": []
   },
   "outputs": [
    {
     "data": {
      "text/plain": [
       "(295, 4)"
      ]
     },
     "execution_count": 37,
     "metadata": {},
     "output_type": "execute_result"
    }
   ],
   "source": [
    "ensemble.shape"
   ]
  },
  {
   "cell_type": "code",
   "execution_count": 38,
   "id": "6f56e75a",
   "metadata": {
    "execution": {
     "iopub.execute_input": "2022-11-25T05:13:22.033066Z",
     "iopub.status.busy": "2022-11-25T05:13:22.032969Z",
     "iopub.status.idle": "2022-11-25T05:13:22.049952Z",
     "shell.execute_reply": "2022-11-25T05:13:22.049665Z"
    },
    "papermill": {
     "duration": 0.032636,
     "end_time": "2022-11-25T05:13:22.050801",
     "exception": false,
     "start_time": "2022-11-25T05:13:22.018165",
     "status": "completed"
    },
    "tags": []
   },
   "outputs": [
    {
     "data": {
      "text/html": [
       "<div>\n",
       "<style scoped>\n",
       "    .dataframe tbody tr th:only-of-type {\n",
       "        vertical-align: middle;\n",
       "    }\n",
       "\n",
       "    .dataframe tbody tr th {\n",
       "        vertical-align: top;\n",
       "    }\n",
       "\n",
       "    .dataframe thead th {\n",
       "        text-align: right;\n",
       "    }\n",
       "</style>\n",
       "<table border=\"1\" class=\"dataframe\">\n",
       "  <thead>\n",
       "    <tr style=\"text-align: right;\">\n",
       "      <th></th>\n",
       "      <th>clusterer_params</th>\n",
       "      <th>partition</th>\n",
       "      <th>n_clusters</th>\n",
       "      <th>ch_score</th>\n",
       "    </tr>\n",
       "    <tr>\n",
       "      <th>clusterer_id</th>\n",
       "      <th></th>\n",
       "      <th></th>\n",
       "      <th></th>\n",
       "      <th></th>\n",
       "    </tr>\n",
       "  </thead>\n",
       "  <tbody>\n",
       "    <tr>\n",
       "      <th>KMeans #0</th>\n",
       "      <td>{'algorithm': 'auto', 'copy_x': True, 'init': ...</td>\n",
       "      <td>[0.0, 0.0, 0.0, 0.0, 0.0, 0.0, 0.0, 0.0, 0.0, ...</td>\n",
       "      <td>2</td>\n",
       "      <td>2080.265886</td>\n",
       "    </tr>\n",
       "    <tr>\n",
       "      <th>KMeans #1</th>\n",
       "      <td>{'algorithm': 'auto', 'copy_x': True, 'init': ...</td>\n",
       "      <td>[0.0, 0.0, 0.0, 0.0, 0.0, 0.0, 0.0, 0.0, 0.0, ...</td>\n",
       "      <td>2</td>\n",
       "      <td>2080.265886</td>\n",
       "    </tr>\n",
       "    <tr>\n",
       "      <th>KMeans #2</th>\n",
       "      <td>{'algorithm': 'auto', 'copy_x': True, 'init': ...</td>\n",
       "      <td>[1.0, 1.0, 1.0, 1.0, 1.0, 1.0, 1.0, 1.0, 1.0, ...</td>\n",
       "      <td>2</td>\n",
       "      <td>2080.265886</td>\n",
       "    </tr>\n",
       "    <tr>\n",
       "      <th>KMeans #3</th>\n",
       "      <td>{'algorithm': 'auto', 'copy_x': True, 'init': ...</td>\n",
       "      <td>[1.0, 1.0, 1.0, 1.0, 1.0, 1.0, 1.0, 1.0, 1.0, ...</td>\n",
       "      <td>2</td>\n",
       "      <td>2080.265886</td>\n",
       "    </tr>\n",
       "    <tr>\n",
       "      <th>KMeans #4</th>\n",
       "      <td>{'algorithm': 'auto', 'copy_x': True, 'init': ...</td>\n",
       "      <td>[1.0, 1.0, 1.0, 1.0, 1.0, 1.0, 1.0, 1.0, 1.0, ...</td>\n",
       "      <td>2</td>\n",
       "      <td>2080.265886</td>\n",
       "    </tr>\n",
       "  </tbody>\n",
       "</table>\n",
       "</div>"
      ],
      "text/plain": [
       "                                               clusterer_params  \\\n",
       "clusterer_id                                                      \n",
       "KMeans #0     {'algorithm': 'auto', 'copy_x': True, 'init': ...   \n",
       "KMeans #1     {'algorithm': 'auto', 'copy_x': True, 'init': ...   \n",
       "KMeans #2     {'algorithm': 'auto', 'copy_x': True, 'init': ...   \n",
       "KMeans #3     {'algorithm': 'auto', 'copy_x': True, 'init': ...   \n",
       "KMeans #4     {'algorithm': 'auto', 'copy_x': True, 'init': ...   \n",
       "\n",
       "                                                      partition  n_clusters  \\\n",
       "clusterer_id                                                                  \n",
       "KMeans #0     [0.0, 0.0, 0.0, 0.0, 0.0, 0.0, 0.0, 0.0, 0.0, ...           2   \n",
       "KMeans #1     [0.0, 0.0, 0.0, 0.0, 0.0, 0.0, 0.0, 0.0, 0.0, ...           2   \n",
       "KMeans #2     [1.0, 1.0, 1.0, 1.0, 1.0, 1.0, 1.0, 1.0, 1.0, ...           2   \n",
       "KMeans #3     [1.0, 1.0, 1.0, 1.0, 1.0, 1.0, 1.0, 1.0, 1.0, ...           2   \n",
       "KMeans #4     [1.0, 1.0, 1.0, 1.0, 1.0, 1.0, 1.0, 1.0, 1.0, ...           2   \n",
       "\n",
       "                 ch_score  \n",
       "clusterer_id               \n",
       "KMeans #0     2080.265886  \n",
       "KMeans #1     2080.265886  \n",
       "KMeans #2     2080.265886  \n",
       "KMeans #3     2080.265886  \n",
       "KMeans #4     2080.265886  "
      ]
     },
     "execution_count": 38,
     "metadata": {},
     "output_type": "execute_result"
    }
   ],
   "source": [
    "ensemble.head()"
   ]
  },
  {
   "cell_type": "markdown",
   "id": "88a8adfc",
   "metadata": {
    "papermill": {
     "duration": 0.025167,
     "end_time": "2022-11-25T05:13:22.102848",
     "exception": false,
     "start_time": "2022-11-25T05:13:22.077681",
     "status": "completed"
    },
    "tags": []
   },
   "source": [
    "## Save"
   ]
  },
  {
   "cell_type": "code",
   "execution_count": 39,
   "id": "8c66e926",
   "metadata": {
    "execution": {
     "iopub.execute_input": "2022-11-25T05:13:22.132433Z",
     "iopub.status.busy": "2022-11-25T05:13:22.132328Z",
     "iopub.status.idle": "2022-11-25T05:13:22.150334Z",
     "shell.execute_reply": "2022-11-25T05:13:22.149997Z"
    },
    "papermill": {
     "duration": 0.033631,
     "end_time": "2022-11-25T05:13:22.151080",
     "exception": false,
     "start_time": "2022-11-25T05:13:22.117449",
     "status": "completed"
    },
    "tags": []
   },
   "outputs": [
    {
     "data": {
      "text/plain": [
       "PosixPath('/opt/data/results/clustering/null_sims/shuffle_lvs/runs/umap-z_score_std-projection-smultixcan-efo_partial-mashr-zscores/KMeans-KMEANS_N_INIT_10-K_MAX_60-K_MIN_2-N_REPS_PER_K_5.pkl')"
      ]
     },
     "metadata": {},
     "output_type": "display_data"
    }
   ],
   "source": [
    "output_filename = Path(\n",
    "    RESULTS_DIR,\n",
    "    generate_result_set_name(\n",
    "        CLUSTERING_OPTIONS,\n",
    "        prefix=f\"{clustering_method_name}-\",\n",
    "        suffix=\".pkl\",\n",
    "    ),\n",
    ").resolve()\n",
    "display(output_filename)"
   ]
  },
  {
   "cell_type": "code",
   "execution_count": 40,
   "id": "ba16adf4",
   "metadata": {
    "execution": {
     "iopub.execute_input": "2022-11-25T05:13:22.180956Z",
     "iopub.status.busy": "2022-11-25T05:13:22.180820Z",
     "iopub.status.idle": "2022-11-25T05:13:22.217323Z",
     "shell.execute_reply": "2022-11-25T05:13:22.216859Z"
    },
    "papermill": {
     "duration": 0.052266,
     "end_time": "2022-11-25T05:13:22.218101",
     "exception": false,
     "start_time": "2022-11-25T05:13:22.165835",
     "status": "completed"
    },
    "tags": []
   },
   "outputs": [],
   "source": [
    "ensemble.to_pickle(output_filename)"
   ]
  },
  {
   "cell_type": "markdown",
   "id": "6eccf176",
   "metadata": {
    "papermill": {
     "duration": 0.014535,
     "end_time": "2022-11-25T05:13:22.247291",
     "exception": false,
     "start_time": "2022-11-25T05:13:22.232756",
     "status": "completed"
    },
    "tags": []
   },
   "source": [
    "# Cluster quality"
   ]
  },
  {
   "cell_type": "code",
   "execution_count": 41,
   "id": "3ad672e1",
   "metadata": {
    "execution": {
     "iopub.execute_input": "2022-11-25T05:13:22.277362Z",
     "iopub.status.busy": "2022-11-25T05:13:22.277014Z",
     "iopub.status.idle": "2022-11-25T05:13:22.305592Z",
     "shell.execute_reply": "2022-11-25T05:13:22.305189Z"
    },
    "papermill": {
     "duration": 0.044455,
     "end_time": "2022-11-25T05:13:22.306359",
     "exception": false,
     "start_time": "2022-11-25T05:13:22.261904",
     "status": "completed"
    },
    "tags": []
   },
   "outputs": [
    {
     "data": {
      "text/html": [
       "<div>\n",
       "<style scoped>\n",
       "    .dataframe tbody tr th:only-of-type {\n",
       "        vertical-align: middle;\n",
       "    }\n",
       "\n",
       "    .dataframe tbody tr th {\n",
       "        vertical-align: top;\n",
       "    }\n",
       "\n",
       "    .dataframe thead th {\n",
       "        text-align: right;\n",
       "    }\n",
       "</style>\n",
       "<table border=\"1\" class=\"dataframe\">\n",
       "  <thead>\n",
       "    <tr style=\"text-align: right;\">\n",
       "      <th></th>\n",
       "      <th>ch_score</th>\n",
       "    </tr>\n",
       "    <tr>\n",
       "      <th>n_clusters</th>\n",
       "      <th></th>\n",
       "    </tr>\n",
       "  </thead>\n",
       "  <tbody>\n",
       "    <tr>\n",
       "      <th>2</th>\n",
       "      <td>2080.265886</td>\n",
       "    </tr>\n",
       "    <tr>\n",
       "      <th>3</th>\n",
       "      <td>2557.136327</td>\n",
       "    </tr>\n",
       "    <tr>\n",
       "      <th>4</th>\n",
       "      <td>2926.132147</td>\n",
       "    </tr>\n",
       "    <tr>\n",
       "      <th>5</th>\n",
       "      <td>3094.419559</td>\n",
       "    </tr>\n",
       "    <tr>\n",
       "      <th>6</th>\n",
       "      <td>3291.089493</td>\n",
       "    </tr>\n",
       "    <tr>\n",
       "      <th>7</th>\n",
       "      <td>3380.318003</td>\n",
       "    </tr>\n",
       "    <tr>\n",
       "      <th>8</th>\n",
       "      <td>3392.558351</td>\n",
       "    </tr>\n",
       "    <tr>\n",
       "      <th>9</th>\n",
       "      <td>3465.286434</td>\n",
       "    </tr>\n",
       "    <tr>\n",
       "      <th>10</th>\n",
       "      <td>3597.578590</td>\n",
       "    </tr>\n",
       "    <tr>\n",
       "      <th>11</th>\n",
       "      <td>3696.724069</td>\n",
       "    </tr>\n",
       "    <tr>\n",
       "      <th>12</th>\n",
       "      <td>3831.850300</td>\n",
       "    </tr>\n",
       "    <tr>\n",
       "      <th>13</th>\n",
       "      <td>3895.540307</td>\n",
       "    </tr>\n",
       "    <tr>\n",
       "      <th>14</th>\n",
       "      <td>4002.999793</td>\n",
       "    </tr>\n",
       "    <tr>\n",
       "      <th>15</th>\n",
       "      <td>4086.921590</td>\n",
       "    </tr>\n",
       "    <tr>\n",
       "      <th>16</th>\n",
       "      <td>4126.229766</td>\n",
       "    </tr>\n",
       "    <tr>\n",
       "      <th>17</th>\n",
       "      <td>4193.744183</td>\n",
       "    </tr>\n",
       "    <tr>\n",
       "      <th>18</th>\n",
       "      <td>4249.394856</td>\n",
       "    </tr>\n",
       "    <tr>\n",
       "      <th>19</th>\n",
       "      <td>4299.575065</td>\n",
       "    </tr>\n",
       "    <tr>\n",
       "      <th>20</th>\n",
       "      <td>4313.078937</td>\n",
       "    </tr>\n",
       "    <tr>\n",
       "      <th>21</th>\n",
       "      <td>4351.092801</td>\n",
       "    </tr>\n",
       "    <tr>\n",
       "      <th>22</th>\n",
       "      <td>4398.037520</td>\n",
       "    </tr>\n",
       "    <tr>\n",
       "      <th>23</th>\n",
       "      <td>4422.632452</td>\n",
       "    </tr>\n",
       "    <tr>\n",
       "      <th>24</th>\n",
       "      <td>4489.266163</td>\n",
       "    </tr>\n",
       "    <tr>\n",
       "      <th>25</th>\n",
       "      <td>4547.673661</td>\n",
       "    </tr>\n",
       "    <tr>\n",
       "      <th>26</th>\n",
       "      <td>4568.970682</td>\n",
       "    </tr>\n",
       "    <tr>\n",
       "      <th>27</th>\n",
       "      <td>4627.028284</td>\n",
       "    </tr>\n",
       "    <tr>\n",
       "      <th>28</th>\n",
       "      <td>4690.943580</td>\n",
       "    </tr>\n",
       "    <tr>\n",
       "      <th>29</th>\n",
       "      <td>4733.944964</td>\n",
       "    </tr>\n",
       "    <tr>\n",
       "      <th>30</th>\n",
       "      <td>4776.524293</td>\n",
       "    </tr>\n",
       "    <tr>\n",
       "      <th>31</th>\n",
       "      <td>4815.426209</td>\n",
       "    </tr>\n",
       "    <tr>\n",
       "      <th>32</th>\n",
       "      <td>4841.789085</td>\n",
       "    </tr>\n",
       "    <tr>\n",
       "      <th>33</th>\n",
       "      <td>4889.620126</td>\n",
       "    </tr>\n",
       "    <tr>\n",
       "      <th>34</th>\n",
       "      <td>4908.877756</td>\n",
       "    </tr>\n",
       "    <tr>\n",
       "      <th>35</th>\n",
       "      <td>4920.200126</td>\n",
       "    </tr>\n",
       "    <tr>\n",
       "      <th>36</th>\n",
       "      <td>4937.571394</td>\n",
       "    </tr>\n",
       "    <tr>\n",
       "      <th>37</th>\n",
       "      <td>4961.955243</td>\n",
       "    </tr>\n",
       "    <tr>\n",
       "      <th>38</th>\n",
       "      <td>4973.129448</td>\n",
       "    </tr>\n",
       "    <tr>\n",
       "      <th>39</th>\n",
       "      <td>4984.554802</td>\n",
       "    </tr>\n",
       "    <tr>\n",
       "      <th>40</th>\n",
       "      <td>4988.829017</td>\n",
       "    </tr>\n",
       "    <tr>\n",
       "      <th>41</th>\n",
       "      <td>4994.424958</td>\n",
       "    </tr>\n",
       "    <tr>\n",
       "      <th>42</th>\n",
       "      <td>5014.502139</td>\n",
       "    </tr>\n",
       "    <tr>\n",
       "      <th>43</th>\n",
       "      <td>5013.873193</td>\n",
       "    </tr>\n",
       "    <tr>\n",
       "      <th>44</th>\n",
       "      <td>5006.486101</td>\n",
       "    </tr>\n",
       "    <tr>\n",
       "      <th>45</th>\n",
       "      <td>5027.432963</td>\n",
       "    </tr>\n",
       "    <tr>\n",
       "      <th>46</th>\n",
       "      <td>5006.700731</td>\n",
       "    </tr>\n",
       "    <tr>\n",
       "      <th>47</th>\n",
       "      <td>5009.729220</td>\n",
       "    </tr>\n",
       "    <tr>\n",
       "      <th>48</th>\n",
       "      <td>4977.335836</td>\n",
       "    </tr>\n",
       "    <tr>\n",
       "      <th>49</th>\n",
       "      <td>4957.989642</td>\n",
       "    </tr>\n",
       "    <tr>\n",
       "      <th>50</th>\n",
       "      <td>4950.200058</td>\n",
       "    </tr>\n",
       "    <tr>\n",
       "      <th>51</th>\n",
       "      <td>4960.593375</td>\n",
       "    </tr>\n",
       "    <tr>\n",
       "      <th>52</th>\n",
       "      <td>4924.313864</td>\n",
       "    </tr>\n",
       "    <tr>\n",
       "      <th>53</th>\n",
       "      <td>4906.580213</td>\n",
       "    </tr>\n",
       "    <tr>\n",
       "      <th>54</th>\n",
       "      <td>4879.720713</td>\n",
       "    </tr>\n",
       "    <tr>\n",
       "      <th>55</th>\n",
       "      <td>4857.950823</td>\n",
       "    </tr>\n",
       "    <tr>\n",
       "      <th>56</th>\n",
       "      <td>4842.345349</td>\n",
       "    </tr>\n",
       "    <tr>\n",
       "      <th>57</th>\n",
       "      <td>4831.736816</td>\n",
       "    </tr>\n",
       "    <tr>\n",
       "      <th>58</th>\n",
       "      <td>4805.253844</td>\n",
       "    </tr>\n",
       "    <tr>\n",
       "      <th>59</th>\n",
       "      <td>4758.255539</td>\n",
       "    </tr>\n",
       "    <tr>\n",
       "      <th>60</th>\n",
       "      <td>4746.076509</td>\n",
       "    </tr>\n",
       "  </tbody>\n",
       "</table>\n",
       "</div>"
      ],
      "text/plain": [
       "               ch_score\n",
       "n_clusters             \n",
       "2           2080.265886\n",
       "3           2557.136327\n",
       "4           2926.132147\n",
       "5           3094.419559\n",
       "6           3291.089493\n",
       "7           3380.318003\n",
       "8           3392.558351\n",
       "9           3465.286434\n",
       "10          3597.578590\n",
       "11          3696.724069\n",
       "12          3831.850300\n",
       "13          3895.540307\n",
       "14          4002.999793\n",
       "15          4086.921590\n",
       "16          4126.229766\n",
       "17          4193.744183\n",
       "18          4249.394856\n",
       "19          4299.575065\n",
       "20          4313.078937\n",
       "21          4351.092801\n",
       "22          4398.037520\n",
       "23          4422.632452\n",
       "24          4489.266163\n",
       "25          4547.673661\n",
       "26          4568.970682\n",
       "27          4627.028284\n",
       "28          4690.943580\n",
       "29          4733.944964\n",
       "30          4776.524293\n",
       "31          4815.426209\n",
       "32          4841.789085\n",
       "33          4889.620126\n",
       "34          4908.877756\n",
       "35          4920.200126\n",
       "36          4937.571394\n",
       "37          4961.955243\n",
       "38          4973.129448\n",
       "39          4984.554802\n",
       "40          4988.829017\n",
       "41          4994.424958\n",
       "42          5014.502139\n",
       "43          5013.873193\n",
       "44          5006.486101\n",
       "45          5027.432963\n",
       "46          5006.700731\n",
       "47          5009.729220\n",
       "48          4977.335836\n",
       "49          4957.989642\n",
       "50          4950.200058\n",
       "51          4960.593375\n",
       "52          4924.313864\n",
       "53          4906.580213\n",
       "54          4879.720713\n",
       "55          4857.950823\n",
       "56          4842.345349\n",
       "57          4831.736816\n",
       "58          4805.253844\n",
       "59          4758.255539\n",
       "60          4746.076509"
      ]
     },
     "metadata": {},
     "output_type": "display_data"
    }
   ],
   "source": [
    "with pd.option_context(\"display.max_rows\", None, \"display.max_columns\", None):\n",
    "    _df = ensemble.groupby([\"n_clusters\"]).mean()\n",
    "    display(_df)"
   ]
  },
  {
   "cell_type": "code",
   "execution_count": 42,
   "id": "f01c322d",
   "metadata": {
    "execution": {
     "iopub.execute_input": "2022-11-25T05:13:22.336739Z",
     "iopub.status.busy": "2022-11-25T05:13:22.336580Z",
     "iopub.status.idle": "2022-11-25T05:13:24.389998Z",
     "shell.execute_reply": "2022-11-25T05:13:24.389541Z"
    },
    "papermill": {
     "duration": 2.070519,
     "end_time": "2022-11-25T05:13:24.391639",
     "exception": false,
     "start_time": "2022-11-25T05:13:22.321120",
     "status": "completed"
    },
    "tags": []
   },
   "outputs": [
    {
     "data": {
      "image/png": "[encoded data removed]",
      "text/plain": [
       "<Figure size 1008x432 with 1 Axes>"
      ]
     },
     "metadata": {},
     "output_type": "display_data"
    }
   ],
   "source": [
    "with sns.plotting_context(\"talk\", font_scale=0.75), sns.axes_style(\n",
    "    \"whitegrid\", {\"grid.linestyle\": \"--\"}\n",
    "):\n",
    "    fig = plt.figure(figsize=(14, 6))\n",
    "    ax = sns.pointplot(data=ensemble, x=\"n_clusters\", y=\"ch_score\")\n",
    "    ax.set_ylabel(\"Calinski-Harabasz index\")\n",
    "    ax.set_xlabel(\"Number of clusters ($k$)\")\n",
    "    ax.set_xticklabels(ax.get_xticklabels(), rotation=45)\n",
    "    plt.grid(True)\n",
    "    plt.tight_layout()"
   ]
  },
  {
   "cell_type": "markdown",
   "id": "fa2fb866",
   "metadata": {
    "papermill": {
     "duration": 0.029064,
     "end_time": "2022-11-25T05:13:24.451218",
     "exception": false,
     "start_time": "2022-11-25T05:13:24.422154",
     "status": "completed"
    },
    "tags": []
   },
   "source": [
    "# Stability"
   ]
  },
  {
   "cell_type": "markdown",
   "id": "42e9d423",
   "metadata": {
    "papermill": {
     "duration": 0.015308,
     "end_time": "2022-11-25T05:13:24.491699",
     "exception": false,
     "start_time": "2022-11-25T05:13:24.476391",
     "status": "completed"
    },
    "tags": []
   },
   "source": [
    "## Group ensemble by n_clusters"
   ]
  },
  {
   "cell_type": "code",
   "execution_count": 43,
   "id": "55a76123",
   "metadata": {
    "execution": {
     "iopub.execute_input": "2022-11-25T05:13:24.523256Z",
     "iopub.status.busy": "2022-11-25T05:13:24.523142Z",
     "iopub.status.idle": "2022-11-25T05:13:24.564207Z",
     "shell.execute_reply": "2022-11-25T05:13:24.563604Z"
    },
    "papermill": {
     "duration": 0.057857,
     "end_time": "2022-11-25T05:13:24.565062",
     "exception": false,
     "start_time": "2022-11-25T05:13:24.507205",
     "status": "completed"
    },
    "tags": []
   },
   "outputs": [],
   "source": [
    "parts = ensemble.groupby(\"n_clusters\").apply(\n",
    "    lambda x: np.concatenate(x[\"partition\"].apply(lambda x: x.reshape(1, -1)), axis=0)\n",
    ")"
   ]
  },
  {
   "cell_type": "code",
   "execution_count": 44,
   "id": "ab89be08",
   "metadata": {
    "execution": {
     "iopub.execute_input": "2022-11-25T05:13:24.596886Z",
     "iopub.status.busy": "2022-11-25T05:13:24.596726Z",
     "iopub.status.idle": "2022-11-25T05:13:24.634894Z",
     "shell.execute_reply": "2022-11-25T05:13:24.634432Z"
    },
    "papermill": {
     "duration": 0.05509,
     "end_time": "2022-11-25T05:13:24.635636",
     "exception": false,
     "start_time": "2022-11-25T05:13:24.580546",
     "status": "completed"
    },
    "tags": []
   },
   "outputs": [
    {
     "data": {
      "text/plain": [
       "n_clusters\n",
       "2    [[0.0, 0.0, 0.0, 0.0, 0.0, 0.0, 0.0, 0.0, 0.0,...\n",
       "3    [[0.0, 0.0, 0.0, 0.0, 0.0, 0.0, 0.0, 0.0, 0.0,...\n",
       "4    [[2.0, 2.0, 2.0, 2.0, 2.0, 2.0, 2.0, 2.0, 2.0,...\n",
       "5    [[0.0, 0.0, 0.0, 0.0, 0.0, 0.0, 0.0, 0.0, 0.0,...\n",
       "6    [[2.0, 2.0, 2.0, 2.0, 2.0, 2.0, 2.0, 2.0, 2.0,...\n",
       "dtype: object"
      ]
     },
     "execution_count": 44,
     "metadata": {},
     "output_type": "execute_result"
    }
   ],
   "source": [
    "parts.head()"
   ]
  },
  {
   "cell_type": "code",
   "execution_count": 45,
   "id": "19768613",
   "metadata": {
    "execution": {
     "iopub.execute_input": "2022-11-25T05:13:24.668060Z",
     "iopub.status.busy": "2022-11-25T05:13:24.667593Z",
     "iopub.status.idle": "2022-11-25T05:13:24.688592Z",
     "shell.execute_reply": "2022-11-25T05:13:24.688053Z"
    },
    "papermill": {
     "duration": 0.03782,
     "end_time": "2022-11-25T05:13:24.689404",
     "exception": false,
     "start_time": "2022-11-25T05:13:24.651584",
     "status": "completed"
    },
    "tags": []
   },
   "outputs": [],
   "source": [
    "assert np.all(\n",
    "    [\n",
    "        parts.loc[k].shape == (CLUSTERING_OPTIONS[\"N_REPS_PER_K\"], data.shape[0])\n",
    "        for k in parts.index\n",
    "    ]\n",
    ")"
   ]
  },
  {
   "cell_type": "markdown",
   "id": "dee96e91",
   "metadata": {
    "papermill": {
     "duration": 0.015435,
     "end_time": "2022-11-25T05:13:24.720989",
     "exception": false,
     "start_time": "2022-11-25T05:13:24.705554",
     "status": "completed"
    },
    "tags": []
   },
   "source": [
    "## Compute stability"
   ]
  },
  {
   "cell_type": "code",
   "execution_count": 46,
   "id": "f1b876ea",
   "metadata": {
    "execution": {
     "iopub.execute_input": "2022-11-25T05:13:24.753352Z",
     "iopub.status.busy": "2022-11-25T05:13:24.753065Z",
     "iopub.status.idle": "2022-11-25T05:13:24.771967Z",
     "shell.execute_reply": "2022-11-25T05:13:24.771448Z"
    },
    "papermill": {
     "duration": 0.036543,
     "end_time": "2022-11-25T05:13:24.773109",
     "exception": false,
     "start_time": "2022-11-25T05:13:24.736566",
     "status": "completed"
    },
    "tags": []
   },
   "outputs": [],
   "source": [
    "from sklearn.metrics import adjusted_rand_score as ari\n",
    "from scipy.spatial.distance import pdist"
   ]
  },
  {
   "cell_type": "code",
   "execution_count": 47,
   "id": "9d5f7f69",
   "metadata": {
    "execution": {
     "iopub.execute_input": "2022-11-25T05:13:24.806145Z",
     "iopub.status.busy": "2022-11-25T05:13:24.805808Z",
     "iopub.status.idle": "2022-11-25T05:13:25.251133Z",
     "shell.execute_reply": "2022-11-25T05:13:25.250663Z"
    },
    "papermill": {
     "duration": 0.463343,
     "end_time": "2022-11-25T05:13:25.252429",
     "exception": false,
     "start_time": "2022-11-25T05:13:24.789086",
     "status": "completed"
    },
    "tags": []
   },
   "outputs": [],
   "source": [
    "parts_ari = pd.Series(\n",
    "    {k: pdist(parts.loc[k], metric=ari) for k in parts.index}, name=\"k\"\n",
    ")"
   ]
  },
  {
   "cell_type": "code",
   "execution_count": 48,
   "id": "c69b72e3",
   "metadata": {
    "execution": {
     "iopub.execute_input": "2022-11-25T05:13:25.286250Z",
     "iopub.status.busy": "2022-11-25T05:13:25.286150Z",
     "iopub.status.idle": "2022-11-25T05:13:25.300552Z",
     "shell.execute_reply": "2022-11-25T05:13:25.300131Z"
    },
    "papermill": {
     "duration": 0.031297,
     "end_time": "2022-11-25T05:13:25.301291",
     "exception": false,
     "start_time": "2022-11-25T05:13:25.269994",
     "status": "completed"
    },
    "tags": []
   },
   "outputs": [
    {
     "data": {
      "text/plain": [
       "2     1.000000\n",
       "3     1.000000\n",
       "5     0.999804\n",
       "6     0.999148\n",
       "4     0.997987\n",
       "8     0.995668\n",
       "7     0.993810\n",
       "10    0.988548\n",
       "12    0.982207\n",
       "9     0.978687\n",
       "11    0.977353\n",
       "13    0.953259\n",
       "15    0.929967\n",
       "14    0.909883\n",
       "17    0.905781\n",
       "Name: k, dtype: float64"
      ]
     },
     "metadata": {},
     "output_type": "display_data"
    }
   ],
   "source": [
    "parts_ari_stability = parts_ari.apply(lambda x: x.mean())\n",
    "display(parts_ari_stability.sort_values(ascending=False).head(15))"
   ]
  },
  {
   "cell_type": "code",
   "execution_count": 49,
   "id": "0eed5ee2",
   "metadata": {
    "execution": {
     "iopub.execute_input": "2022-11-25T05:13:25.333376Z",
     "iopub.status.busy": "2022-11-25T05:13:25.333237Z",
     "iopub.status.idle": "2022-11-25T05:13:25.354294Z",
     "shell.execute_reply": "2022-11-25T05:13:25.353715Z"
    },
    "papermill": {
     "duration": 0.038186,
     "end_time": "2022-11-25T05:13:25.355239",
     "exception": false,
     "start_time": "2022-11-25T05:13:25.317053",
     "status": "completed"
    },
    "tags": []
   },
   "outputs": [],
   "source": [
    "parts_ari_df = pd.DataFrame.from_records(parts_ari.tolist()).set_index(\n",
    "    parts_ari.index.copy()\n",
    ")"
   ]
  },
  {
   "cell_type": "code",
   "execution_count": 50,
   "id": "92040d8b",
   "metadata": {
    "execution": {
     "iopub.execute_input": "2022-11-25T05:13:25.388025Z",
     "iopub.status.busy": "2022-11-25T05:13:25.387606Z",
     "iopub.status.idle": "2022-11-25T05:13:25.409707Z",
     "shell.execute_reply": "2022-11-25T05:13:25.409185Z"
    },
    "papermill": {
     "duration": 0.039367,
     "end_time": "2022-11-25T05:13:25.410537",
     "exception": false,
     "start_time": "2022-11-25T05:13:25.371170",
     "status": "completed"
    },
    "tags": []
   },
   "outputs": [
    {
     "data": {
      "text/plain": [
       "(59, 10)"
      ]
     },
     "execution_count": 50,
     "metadata": {},
     "output_type": "execute_result"
    }
   ],
   "source": [
    "parts_ari_df.shape"
   ]
  },
  {
   "cell_type": "code",
   "execution_count": 51,
   "id": "a913ca22",
   "metadata": {
    "execution": {
     "iopub.execute_input": "2022-11-25T05:13:25.443869Z",
     "iopub.status.busy": "2022-11-25T05:13:25.443543Z",
     "iopub.status.idle": "2022-11-25T05:13:25.465099Z",
     "shell.execute_reply": "2022-11-25T05:13:25.464618Z"
    },
    "papermill": {
     "duration": 0.039273,
     "end_time": "2022-11-25T05:13:25.465948",
     "exception": false,
     "start_time": "2022-11-25T05:13:25.426675",
     "status": "completed"
    },
    "tags": []
   },
   "outputs": [],
   "source": [
    "assert (\n",
    "    int(\n",
    "        (CLUSTERING_OPTIONS[\"N_REPS_PER_K\"] * (CLUSTERING_OPTIONS[\"N_REPS_PER_K\"] - 1))\n",
    "        / 2\n",
    "    )\n",
    "    == parts_ari_df.shape[1]\n",
    ")"
   ]
  },
  {
   "cell_type": "code",
   "execution_count": 52,
   "id": "feeac650",
   "metadata": {
    "execution": {
     "iopub.execute_input": "2022-11-25T05:13:25.499443Z",
     "iopub.status.busy": "2022-11-25T05:13:25.499138Z",
     "iopub.status.idle": "2022-11-25T05:13:25.528735Z",
     "shell.execute_reply": "2022-11-25T05:13:25.528267Z"
    },
    "papermill": {
     "duration": 0.047475,
     "end_time": "2022-11-25T05:13:25.529577",
     "exception": false,
     "start_time": "2022-11-25T05:13:25.482102",
     "status": "completed"
    },
    "tags": []
   },
   "outputs": [
    {
     "data": {
      "text/html": [
       "<div>\n",
       "<style scoped>\n",
       "    .dataframe tbody tr th:only-of-type {\n",
       "        vertical-align: middle;\n",
       "    }\n",
       "\n",
       "    .dataframe tbody tr th {\n",
       "        vertical-align: top;\n",
       "    }\n",
       "\n",
       "    .dataframe thead th {\n",
       "        text-align: right;\n",
       "    }\n",
       "</style>\n",
       "<table border=\"1\" class=\"dataframe\">\n",
       "  <thead>\n",
       "    <tr style=\"text-align: right;\">\n",
       "      <th></th>\n",
       "      <th>0</th>\n",
       "      <th>1</th>\n",
       "      <th>2</th>\n",
       "      <th>3</th>\n",
       "      <th>4</th>\n",
       "      <th>5</th>\n",
       "      <th>6</th>\n",
       "      <th>7</th>\n",
       "      <th>8</th>\n",
       "      <th>9</th>\n",
       "    </tr>\n",
       "  </thead>\n",
       "  <tbody>\n",
       "    <tr>\n",
       "      <th>2</th>\n",
       "      <td>1.000000</td>\n",
       "      <td>1.0</td>\n",
       "      <td>1.000000</td>\n",
       "      <td>1.000000</td>\n",
       "      <td>1.000000</td>\n",
       "      <td>1.000000</td>\n",
       "      <td>1.000000</td>\n",
       "      <td>1.000000</td>\n",
       "      <td>1.000000</td>\n",
       "      <td>1.000000</td>\n",
       "    </tr>\n",
       "    <tr>\n",
       "      <th>3</th>\n",
       "      <td>1.000000</td>\n",
       "      <td>1.0</td>\n",
       "      <td>1.000000</td>\n",
       "      <td>1.000000</td>\n",
       "      <td>1.000000</td>\n",
       "      <td>1.000000</td>\n",
       "      <td>1.000000</td>\n",
       "      <td>1.000000</td>\n",
       "      <td>1.000000</td>\n",
       "      <td>1.000000</td>\n",
       "    </tr>\n",
       "    <tr>\n",
       "      <th>4</th>\n",
       "      <td>0.994967</td>\n",
       "      <td>1.0</td>\n",
       "      <td>1.000000</td>\n",
       "      <td>1.000000</td>\n",
       "      <td>0.994967</td>\n",
       "      <td>0.994967</td>\n",
       "      <td>0.994967</td>\n",
       "      <td>1.000000</td>\n",
       "      <td>1.000000</td>\n",
       "      <td>1.000000</td>\n",
       "    </tr>\n",
       "    <tr>\n",
       "      <th>5</th>\n",
       "      <td>0.999511</td>\n",
       "      <td>1.0</td>\n",
       "      <td>1.000000</td>\n",
       "      <td>1.000000</td>\n",
       "      <td>0.999511</td>\n",
       "      <td>0.999511</td>\n",
       "      <td>0.999511</td>\n",
       "      <td>1.000000</td>\n",
       "      <td>1.000000</td>\n",
       "      <td>1.000000</td>\n",
       "    </tr>\n",
       "    <tr>\n",
       "      <th>6</th>\n",
       "      <td>0.999343</td>\n",
       "      <td>1.0</td>\n",
       "      <td>0.998854</td>\n",
       "      <td>0.999343</td>\n",
       "      <td>0.999343</td>\n",
       "      <td>0.998198</td>\n",
       "      <td>1.000000</td>\n",
       "      <td>0.998854</td>\n",
       "      <td>0.999343</td>\n",
       "      <td>0.998198</td>\n",
       "    </tr>\n",
       "  </tbody>\n",
       "</table>\n",
       "</div>"
      ],
      "text/plain": [
       "          0    1         2         3         4         5         6         7  \\\n",
       "2  1.000000  1.0  1.000000  1.000000  1.000000  1.000000  1.000000  1.000000   \n",
       "3  1.000000  1.0  1.000000  1.000000  1.000000  1.000000  1.000000  1.000000   \n",
       "4  0.994967  1.0  1.000000  1.000000  0.994967  0.994967  0.994967  1.000000   \n",
       "5  0.999511  1.0  1.000000  1.000000  0.999511  0.999511  0.999511  1.000000   \n",
       "6  0.999343  1.0  0.998854  0.999343  0.999343  0.998198  1.000000  0.998854   \n",
       "\n",
       "          8         9  \n",
       "2  1.000000  1.000000  \n",
       "3  1.000000  1.000000  \n",
       "4  1.000000  1.000000  \n",
       "5  1.000000  1.000000  \n",
       "6  0.999343  0.998198  "
      ]
     },
     "execution_count": 52,
     "metadata": {},
     "output_type": "execute_result"
    }
   ],
   "source": [
    "parts_ari_df.head()"
   ]
  },
  {
   "cell_type": "markdown",
   "id": "28530a7c",
   "metadata": {
    "papermill": {
     "duration": 0.015649,
     "end_time": "2022-11-25T05:13:25.562207",
     "exception": false,
     "start_time": "2022-11-25T05:13:25.546558",
     "status": "completed"
    },
    "tags": []
   },
   "source": [
    "## Save"
   ]
  },
  {
   "cell_type": "code",
   "execution_count": 53,
   "id": "b76bfb10",
   "metadata": {
    "execution": {
     "iopub.execute_input": "2022-11-25T05:13:25.595748Z",
     "iopub.status.busy": "2022-11-25T05:13:25.595398Z",
     "iopub.status.idle": "2022-11-25T05:13:25.618423Z",
     "shell.execute_reply": "2022-11-25T05:13:25.617901Z"
    },
    "papermill": {
     "duration": 0.040719,
     "end_time": "2022-11-25T05:13:25.619263",
     "exception": false,
     "start_time": "2022-11-25T05:13:25.578544",
     "status": "completed"
    },
    "tags": []
   },
   "outputs": [
    {
     "data": {
      "text/plain": [
       "PosixPath('/opt/data/results/clustering/null_sims/shuffle_lvs/runs/umap-z_score_std-projection-smultixcan-efo_partial-mashr-zscores/KMeans-stability-KMEANS_N_INIT_10-K_MAX_60-K_MIN_2-N_REPS_PER_K_5.pkl')"
      ]
     },
     "metadata": {},
     "output_type": "display_data"
    }
   ],
   "source": [
    "output_filename = Path(\n",
    "    RESULTS_DIR,\n",
    "    generate_result_set_name(\n",
    "        CLUSTERING_OPTIONS,\n",
    "        prefix=f\"{clustering_method_name}-stability-\",\n",
    "        suffix=\".pkl\",\n",
    "    ),\n",
    ").resolve()\n",
    "display(output_filename)"
   ]
  },
  {
   "cell_type": "code",
   "execution_count": 54,
   "id": "9afe9f4c",
   "metadata": {
    "execution": {
     "iopub.execute_input": "2022-11-25T05:13:25.653314Z",
     "iopub.status.busy": "2022-11-25T05:13:25.652991Z",
     "iopub.status.idle": "2022-11-25T05:13:25.674840Z",
     "shell.execute_reply": "2022-11-25T05:13:25.674315Z"
    },
    "papermill": {
     "duration": 0.039702,
     "end_time": "2022-11-25T05:13:25.675733",
     "exception": false,
     "start_time": "2022-11-25T05:13:25.636031",
     "status": "completed"
    },
    "tags": []
   },
   "outputs": [],
   "source": [
    "parts_ari_df.to_pickle(output_filename)"
   ]
  },
  {
   "cell_type": "markdown",
   "id": "593d018f",
   "metadata": {
    "papermill": {
     "duration": 0.015875,
     "end_time": "2022-11-25T05:13:25.707866",
     "exception": false,
     "start_time": "2022-11-25T05:13:25.691991",
     "status": "completed"
    },
    "tags": []
   },
   "source": [
    "## Stability plot"
   ]
  },
  {
   "cell_type": "code",
   "execution_count": 55,
   "id": "d25d02ef",
   "metadata": {
    "execution": {
     "iopub.execute_input": "2022-11-25T05:13:25.741146Z",
     "iopub.status.busy": "2022-11-25T05:13:25.740660Z",
     "iopub.status.idle": "2022-11-25T05:13:25.764202Z",
     "shell.execute_reply": "2022-11-25T05:13:25.763642Z"
    },
    "papermill": {
     "duration": 0.041225,
     "end_time": "2022-11-25T05:13:25.765134",
     "exception": false,
     "start_time": "2022-11-25T05:13:25.723909",
     "status": "completed"
    },
    "tags": []
   },
   "outputs": [],
   "source": [
    "parts_ari_df_plot = (\n",
    "    parts_ari_df.stack()\n",
    "    .reset_index()\n",
    "    .rename(columns={\"level_0\": \"k\", \"level_1\": \"idx\", 0: \"ari\"})\n",
    ")"
   ]
  },
  {
   "cell_type": "code",
   "execution_count": 56,
   "id": "57e2e785",
   "metadata": {
    "execution": {
     "iopub.execute_input": "2022-11-25T05:13:25.798364Z",
     "iopub.status.busy": "2022-11-25T05:13:25.798041Z",
     "iopub.status.idle": "2022-11-25T05:13:25.820815Z",
     "shell.execute_reply": "2022-11-25T05:13:25.820258Z"
    },
    "papermill": {
     "duration": 0.040304,
     "end_time": "2022-11-25T05:13:25.821663",
     "exception": false,
     "start_time": "2022-11-25T05:13:25.781359",
     "status": "completed"
    },
    "tags": []
   },
   "outputs": [
    {
     "data": {
      "text/plain": [
       "k        int64\n",
       "idx      int64\n",
       "ari    float64\n",
       "dtype: object"
      ]
     },
     "execution_count": 56,
     "metadata": {},
     "output_type": "execute_result"
    }
   ],
   "source": [
    "parts_ari_df_plot.dtypes"
   ]
  },
  {
   "cell_type": "code",
   "execution_count": 57,
   "id": "aef12776",
   "metadata": {
    "execution": {
     "iopub.execute_input": "2022-11-25T05:13:25.854918Z",
     "iopub.status.busy": "2022-11-25T05:13:25.854483Z",
     "iopub.status.idle": "2022-11-25T05:13:25.879349Z",
     "shell.execute_reply": "2022-11-25T05:13:25.878804Z"
    },
    "papermill": {
     "duration": 0.042913,
     "end_time": "2022-11-25T05:13:25.880836",
     "exception": false,
     "start_time": "2022-11-25T05:13:25.837923",
     "status": "completed"
    },
    "tags": []
   },
   "outputs": [
    {
     "data": {
      "text/html": [
       "<div>\n",
       "<style scoped>\n",
       "    .dataframe tbody tr th:only-of-type {\n",
       "        vertical-align: middle;\n",
       "    }\n",
       "\n",
       "    .dataframe tbody tr th {\n",
       "        vertical-align: top;\n",
       "    }\n",
       "\n",
       "    .dataframe thead th {\n",
       "        text-align: right;\n",
       "    }\n",
       "</style>\n",
       "<table border=\"1\" class=\"dataframe\">\n",
       "  <thead>\n",
       "    <tr style=\"text-align: right;\">\n",
       "      <th></th>\n",
       "      <th>k</th>\n",
       "      <th>idx</th>\n",
       "      <th>ari</th>\n",
       "    </tr>\n",
       "  </thead>\n",
       "  <tbody>\n",
       "    <tr>\n",
       "      <th>0</th>\n",
       "      <td>2</td>\n",
       "      <td>0</td>\n",
       "      <td>1.0</td>\n",
       "    </tr>\n",
       "    <tr>\n",
       "      <th>1</th>\n",
       "      <td>2</td>\n",
       "      <td>1</td>\n",
       "      <td>1.0</td>\n",
       "    </tr>\n",
       "    <tr>\n",
       "      <th>2</th>\n",
       "      <td>2</td>\n",
       "      <td>2</td>\n",
       "      <td>1.0</td>\n",
       "    </tr>\n",
       "    <tr>\n",
       "      <th>3</th>\n",
       "      <td>2</td>\n",
       "      <td>3</td>\n",
       "      <td>1.0</td>\n",
       "    </tr>\n",
       "    <tr>\n",
       "      <th>4</th>\n",
       "      <td>2</td>\n",
       "      <td>4</td>\n",
       "      <td>1.0</td>\n",
       "    </tr>\n",
       "  </tbody>\n",
       "</table>\n",
       "</div>"
      ],
      "text/plain": [
       "   k  idx  ari\n",
       "0  2    0  1.0\n",
       "1  2    1  1.0\n",
       "2  2    2  1.0\n",
       "3  2    3  1.0\n",
       "4  2    4  1.0"
      ]
     },
     "execution_count": 57,
     "metadata": {},
     "output_type": "execute_result"
    }
   ],
   "source": [
    "parts_ari_df_plot.head()"
   ]
  },
  {
   "cell_type": "code",
   "execution_count": 58,
   "id": "db7ada4b",
   "metadata": {
    "execution": {
     "iopub.execute_input": "2022-11-25T05:13:25.914874Z",
     "iopub.status.busy": "2022-11-25T05:13:25.914507Z",
     "iopub.status.idle": "2022-11-25T05:13:27.841213Z",
     "shell.execute_reply": "2022-11-25T05:13:27.840756Z"
    },
    "papermill": {
     "duration": 1.945628,
     "end_time": "2022-11-25T05:13:27.843124",
     "exception": false,
     "start_time": "2022-11-25T05:13:25.897496",
     "status": "completed"
    },
    "tags": []
   },
   "outputs": [
    {
     "data": {
      "image/png": "[encoded data removed]",
      "text/plain": [
       "<Figure size 1008x432 with 1 Axes>"
      ]
     },
     "metadata": {},
     "output_type": "display_data"
    }
   ],
   "source": [
    "# with sns.axes_style('whitegrid', {'grid.linestyle': '--'}):\n",
    "with sns.plotting_context(\"talk\", font_scale=0.75), sns.axes_style(\n",
    "    \"whitegrid\", {\"grid.linestyle\": \"--\"}\n",
    "):\n",
    "    fig = plt.figure(figsize=(14, 6))\n",
    "    ax = sns.pointplot(data=parts_ari_df_plot, x=\"k\", y=\"ari\")\n",
    "    ax.set_ylabel(\"Averange ARI\")\n",
    "    ax.set_xlabel(\"Number of clusters ($k$)\")\n",
    "    ax.set_xticklabels(ax.get_xticklabels(), rotation=45)\n",
    "    #     ax.set_ylim(0.0, 1.0)\n",
    "    #     ax.set_xlim(CLUSTERING_OPTIONS['K_MIN'], CLUSTERING_OPTIONS['K_MAX'])\n",
    "    plt.grid(True)\n",
    "    plt.tight_layout()"
   ]
  },
  {
   "cell_type": "code",
   "execution_count": null,
   "id": "2ef7b813",
   "metadata": {
    "papermill": {
     "duration": 0.033201,
     "end_time": "2022-11-25T05:13:27.910817",
     "exception": false,
     "start_time": "2022-11-25T05:13:27.877616",
     "status": "completed"
    },
    "tags": []
   },
   "outputs": [],
   "source": []
  }
 ],
 "metadata": {
  "jupytext": {
   "cell_metadata_filter": "all,-execution,-papermill,-trusted",
   "formats": "ipynb,py//py:percent"
  },
  "kernelspec": {
   "display_name": "Python 3 (ipykernel)",
   "language": "python",
   "name": "python3"
  },
  "language_info": {
   "codemirror_mode": {
    "name": "ipython",
    "version": 3
   },
   "file_extension": ".py",
   "mimetype": "text/x-python",
   "name": "python",
   "nbconvert_exporter": "python",
   "pygments_lexer": "ipython3",
   "version": "3.8.13"
  },
  "papermill": {
   "default_parameters": {},
   "duration": 130.616577,
   "end_time": "2022-11-25T05:13:28.249931",
   "environment_variables": {},
   "exception": null,
   "input_path": "nbs/13.1_cluster_analysis_null/05-shuffle_lvs/10_02-kmeans-umap.ipynb",
   "output_path": "nbs/13.1_cluster_analysis_null/05-shuffle_lvs/10_02-kmeans-umap.run.ipynb",
   "parameters": {},
   "start_time": "2022-11-25T05:11:17.633354",
   "version": "2.2.2"
  },
  "toc-autonumbering": true,
  "toc-showcode": false,
  "toc-showmarkdowntxt": false,
  "toc-showtags": false
 },
 "nbformat": 4,
 "nbformat_minor": 5
}
