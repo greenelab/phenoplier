{
 "cells": [
  {
   "cell_type": "markdown",
   "id": "a47b9956",
   "metadata": {
    "papermill": {
     "duration": 0.012876,
     "end_time": "2022-11-25T05:32:40.790501",
     "exception": false,
     "start_time": "2022-11-25T05:32:40.777625",
     "status": "completed"
    },
    "tags": []
   },
   "source": [
    "# Description"
   ]
  },
  {
   "cell_type": "markdown",
   "id": "a8f0575a",
   "metadata": {
    "papermill": {
     "duration": 0.011853,
     "end_time": "2022-11-25T05:32:40.814967",
     "exception": false,
     "start_time": "2022-11-25T05:32:40.803114",
     "status": "completed"
    },
    "tags": []
   },
   "source": [
    "Runs spectral clustering on the umap version of the data."
   ]
  },
  {
   "cell_type": "markdown",
   "id": "06369fb4",
   "metadata": {
    "papermill": {
     "duration": 0.011885,
     "end_time": "2022-11-25T05:32:40.838834",
     "exception": false,
     "start_time": "2022-11-25T05:32:40.826949",
     "status": "completed"
    },
    "tags": []
   },
   "source": [
    "# Environment variables"
   ]
  },
  {
   "cell_type": "code",
   "execution_count": 1,
   "id": "19d02540",
   "metadata": {
    "execution": {
     "iopub.execute_input": "2022-11-25T05:32:40.861850Z",
     "iopub.status.busy": "2022-11-25T05:32:40.861753Z",
     "iopub.status.idle": "2022-11-25T05:32:40.878401Z",
     "shell.execute_reply": "2022-11-25T05:32:40.877904Z"
    },
    "papermill": {
     "duration": 0.028471,
     "end_time": "2022-11-25T05:32:40.879300",
     "exception": false,
     "start_time": "2022-11-25T05:32:40.850829",
     "status": "completed"
    },
    "tags": []
   },
   "outputs": [
    {
     "data": {
      "text/plain": [
       "10"
      ]
     },
     "metadata": {},
     "output_type": "display_data"
    }
   ],
   "source": [
    "from IPython.display import display\n",
    "\n",
    "import conf\n",
    "\n",
    "N_JOBS = conf.GENERAL[\"N_JOBS\"]\n",
    "display(N_JOBS)"
   ]
  },
  {
   "cell_type": "code",
   "execution_count": 2,
   "id": "182ab093",
   "metadata": {
    "execution": {
     "iopub.execute_input": "2022-11-25T05:32:40.893275Z",
     "iopub.status.busy": "2022-11-25T05:32:40.892834Z",
     "iopub.status.idle": "2022-11-25T05:32:40.899108Z",
     "shell.execute_reply": "2022-11-25T05:32:40.898575Z"
    },
    "papermill": {
     "duration": 0.014313,
     "end_time": "2022-11-25T05:32:40.900009",
     "exception": false,
     "start_time": "2022-11-25T05:32:40.885696",
     "status": "completed"
    },
    "tags": []
   },
   "outputs": [
    {
     "name": "stdout",
     "output_type": "stream",
     "text": [
      "env: MKL_NUM_THREADS=10\n",
      "env: OPEN_BLAS_NUM_THREADS=10\n",
      "env: NUMEXPR_NUM_THREADS=10\n",
      "env: OMP_NUM_THREADS=10\n"
     ]
    }
   ],
   "source": [
    "%env MKL_NUM_THREADS=$N_JOBS\n",
    "%env OPEN_BLAS_NUM_THREADS=$N_JOBS\n",
    "%env NUMEXPR_NUM_THREADS=$N_JOBS\n",
    "%env OMP_NUM_THREADS=$N_JOBS"
   ]
  },
  {
   "cell_type": "markdown",
   "id": "6b1a2f0b",
   "metadata": {
    "papermill": {
     "duration": 0.006393,
     "end_time": "2022-11-25T05:32:40.912952",
     "exception": false,
     "start_time": "2022-11-25T05:32:40.906559",
     "status": "completed"
    },
    "tags": []
   },
   "source": [
    "# Modules loading"
   ]
  },
  {
   "cell_type": "code",
   "execution_count": 3,
   "id": "db1bd26a",
   "metadata": {
    "execution": {
     "iopub.execute_input": "2022-11-25T05:32:40.926624Z",
     "iopub.status.busy": "2022-11-25T05:32:40.926475Z",
     "iopub.status.idle": "2022-11-25T05:32:40.939703Z",
     "shell.execute_reply": "2022-11-25T05:32:40.939117Z"
    },
    "papermill": {
     "duration": 0.02106,
     "end_time": "2022-11-25T05:32:40.940585",
     "exception": false,
     "start_time": "2022-11-25T05:32:40.919525",
     "status": "completed"
    },
    "tags": []
   },
   "outputs": [],
   "source": [
    "%load_ext autoreload\n",
    "%autoreload 2"
   ]
  },
  {
   "cell_type": "code",
   "execution_count": 4,
   "id": "ebffcc6b",
   "metadata": {
    "execution": {
     "iopub.execute_input": "2022-11-25T05:32:40.954069Z",
     "iopub.status.busy": "2022-11-25T05:32:40.953915Z",
     "iopub.status.idle": "2022-11-25T05:32:41.407167Z",
     "shell.execute_reply": "2022-11-25T05:32:41.406758Z"
    },
    "papermill": {
     "duration": 0.462019,
     "end_time": "2022-11-25T05:32:41.408979",
     "exception": false,
     "start_time": "2022-11-25T05:32:40.946960",
     "status": "completed"
    },
    "tags": []
   },
   "outputs": [],
   "source": [
    "from pathlib import Path\n",
    "\n",
    "import numpy as np\n",
    "import pandas as pd\n",
    "import matplotlib.pyplot as plt\n",
    "import seaborn as sns\n",
    "\n",
    "from utils import generate_result_set_name"
   ]
  },
  {
   "cell_type": "markdown",
   "id": "dc188188",
   "metadata": {
    "papermill": {
     "duration": 0.01257,
     "end_time": "2022-11-25T05:32:41.434887",
     "exception": false,
     "start_time": "2022-11-25T05:32:41.422317",
     "status": "completed"
    },
    "tags": []
   },
   "source": [
    "# Settings"
   ]
  },
  {
   "cell_type": "code",
   "execution_count": 5,
   "id": "3536c43e",
   "metadata": {
    "execution": {
     "iopub.execute_input": "2022-11-25T05:32:41.461179Z",
     "iopub.status.busy": "2022-11-25T05:32:41.461090Z",
     "iopub.status.idle": "2022-11-25T05:32:41.478197Z",
     "shell.execute_reply": "2022-11-25T05:32:41.477726Z"
    },
    "papermill": {
     "duration": 0.032108,
     "end_time": "2022-11-25T05:32:41.479798",
     "exception": false,
     "start_time": "2022-11-25T05:32:41.447690",
     "status": "completed"
    },
    "tags": []
   },
   "outputs": [],
   "source": [
    "np.random.seed(0)"
   ]
  },
  {
   "cell_type": "code",
   "execution_count": 6,
   "id": "4c2a2bc1",
   "metadata": {
    "execution": {
     "iopub.execute_input": "2022-11-25T05:32:41.531098Z",
     "iopub.status.busy": "2022-11-25T05:32:41.530939Z",
     "iopub.status.idle": "2022-11-25T05:32:41.547642Z",
     "shell.execute_reply": "2022-11-25T05:32:41.547186Z"
    },
    "papermill": {
     "duration": 0.030993,
     "end_time": "2022-11-25T05:32:41.548655",
     "exception": false,
     "start_time": "2022-11-25T05:32:41.517662",
     "status": "completed"
    },
    "tags": []
   },
   "outputs": [],
   "source": [
    "INITIAL_RANDOM_STATE = 50000"
   ]
  },
  {
   "cell_type": "code",
   "execution_count": 7,
   "id": "934bc949-b729-4ed3-b158-e5950ee149c1",
   "metadata": {
    "execution": {
     "iopub.execute_input": "2022-11-25T05:32:41.562287Z",
     "iopub.status.busy": "2022-11-25T05:32:41.562131Z",
     "iopub.status.idle": "2022-11-25T05:32:41.578920Z",
     "shell.execute_reply": "2022-11-25T05:32:41.578472Z"
    },
    "papermill": {
     "duration": 0.025001,
     "end_time": "2022-11-25T05:32:41.579918",
     "exception": false,
     "start_time": "2022-11-25T05:32:41.554917",
     "status": "completed"
    },
    "tags": []
   },
   "outputs": [],
   "source": [
    "NULL_DIR = conf.RESULTS[\"CLUSTERING_NULL_DIR\"] / \"shuffle_lvs\""
   ]
  },
  {
   "cell_type": "markdown",
   "id": "08db3b29",
   "metadata": {
    "papermill": {
     "duration": 0.006282,
     "end_time": "2022-11-25T05:32:41.592468",
     "exception": false,
     "start_time": "2022-11-25T05:32:41.586186",
     "status": "completed"
    },
    "tags": []
   },
   "source": [
    "## Input data"
   ]
  },
  {
   "cell_type": "code",
   "execution_count": 8,
   "id": "d45f9ea2",
   "metadata": {
    "execution": {
     "iopub.execute_input": "2022-11-25T05:32:41.606160Z",
     "iopub.status.busy": "2022-11-25T05:32:41.606005Z",
     "iopub.status.idle": "2022-11-25T05:32:41.622493Z",
     "shell.execute_reply": "2022-11-25T05:32:41.622042Z"
    },
    "papermill": {
     "duration": 0.024732,
     "end_time": "2022-11-25T05:32:41.623706",
     "exception": false,
     "start_time": "2022-11-25T05:32:41.598974",
     "status": "completed"
    },
    "tags": []
   },
   "outputs": [],
   "source": [
    "INPUT_SUBSET = \"umap\""
   ]
  },
  {
   "cell_type": "code",
   "execution_count": 9,
   "id": "26f5101f",
   "metadata": {
    "execution": {
     "iopub.execute_input": "2022-11-25T05:32:41.637072Z",
     "iopub.status.busy": "2022-11-25T05:32:41.636921Z",
     "iopub.status.idle": "2022-11-25T05:32:41.653278Z",
     "shell.execute_reply": "2022-11-25T05:32:41.652824Z"
    },
    "papermill": {
     "duration": 0.024017,
     "end_time": "2022-11-25T05:32:41.654118",
     "exception": false,
     "start_time": "2022-11-25T05:32:41.630101",
     "status": "completed"
    },
    "tags": []
   },
   "outputs": [],
   "source": [
    "INPUT_STEM = \"z_score_std-projection-smultixcan-efo_partial-mashr-zscores\""
   ]
  },
  {
   "cell_type": "code",
   "execution_count": 10,
   "id": "87b8be80",
   "metadata": {
    "execution": {
     "iopub.execute_input": "2022-11-25T05:32:41.667966Z",
     "iopub.status.busy": "2022-11-25T05:32:41.667573Z",
     "iopub.status.idle": "2022-11-25T05:32:41.684327Z",
     "shell.execute_reply": "2022-11-25T05:32:41.683878Z"
    },
    "papermill": {
     "duration": 0.024632,
     "end_time": "2022-11-25T05:32:41.685256",
     "exception": false,
     "start_time": "2022-11-25T05:32:41.660624",
     "status": "completed"
    },
    "tags": []
   },
   "outputs": [],
   "source": [
    "DR_OPTIONS = {\n",
    "    \"n_components\": 50,\n",
    "    \"metric\": \"euclidean\",\n",
    "    \"n_neighbors\": 15,\n",
    "    \"random_state\": 0,\n",
    "}"
   ]
  },
  {
   "cell_type": "code",
   "execution_count": 11,
   "id": "27e5ec3a",
   "metadata": {
    "execution": {
     "iopub.execute_input": "2022-11-25T05:32:41.698781Z",
     "iopub.status.busy": "2022-11-25T05:32:41.698626Z",
     "iopub.status.idle": "2022-11-25T05:32:41.718125Z",
     "shell.execute_reply": "2022-11-25T05:32:41.717690Z"
    },
    "papermill": {
     "duration": 0.027526,
     "end_time": "2022-11-25T05:32:41.719025",
     "exception": false,
     "start_time": "2022-11-25T05:32:41.691499",
     "status": "completed"
    },
    "tags": []
   },
   "outputs": [
    {
     "data": {
      "text/plain": [
       "PosixPath('/opt/data/results/clustering/null_sims/shuffle_lvs/data_transformations/umap/umap-z_score_std-projection-smultixcan-efo_partial-mashr-zscores-metric_euclidean-n_components_50-n_neighbors_15-random_state_0.pkl')"
      ]
     },
     "metadata": {},
     "output_type": "display_data"
    },
    {
     "data": {
      "text/plain": [
       "'umap-z_score_std-projection-smultixcan-efo_partial-mashr-zscores-metric_euclidean-n_components_50-n_neighbors_15-random_state_0'"
      ]
     },
     "metadata": {},
     "output_type": "display_data"
    }
   ],
   "source": [
    "input_filepath = Path(\n",
    "    NULL_DIR,\n",
    "    \"data_transformations\",\n",
    "    INPUT_SUBSET,\n",
    "    generate_result_set_name(\n",
    "        DR_OPTIONS, prefix=f\"{INPUT_SUBSET}-{INPUT_STEM}-\", suffix=\".pkl\"\n",
    "    ),\n",
    ").resolve()\n",
    "display(input_filepath)\n",
    "\n",
    "assert input_filepath.exists(), \"Input file does not exist\"\n",
    "\n",
    "input_filepath_stem = input_filepath.stem\n",
    "display(input_filepath_stem)"
   ]
  },
  {
   "cell_type": "markdown",
   "id": "53d85f4a",
   "metadata": {
    "papermill": {
     "duration": 0.006291,
     "end_time": "2022-11-25T05:32:41.731727",
     "exception": false,
     "start_time": "2022-11-25T05:32:41.725436",
     "status": "completed"
    },
    "tags": []
   },
   "source": [
    "## Clustering"
   ]
  },
  {
   "cell_type": "code",
   "execution_count": 12,
   "id": "0c33b061",
   "metadata": {
    "execution": {
     "iopub.execute_input": "2022-11-25T05:32:41.745811Z",
     "iopub.status.busy": "2022-11-25T05:32:41.745384Z",
     "iopub.status.idle": "2022-11-25T05:32:41.830590Z",
     "shell.execute_reply": "2022-11-25T05:32:41.830180Z"
    },
    "papermill": {
     "duration": 0.093736,
     "end_time": "2022-11-25T05:32:41.831976",
     "exception": false,
     "start_time": "2022-11-25T05:32:41.738240",
     "status": "completed"
    },
    "tags": []
   },
   "outputs": [],
   "source": [
    "from sklearn.cluster import SpectralClustering"
   ]
  },
  {
   "cell_type": "code",
   "execution_count": 13,
   "id": "65c45515",
   "metadata": {
    "execution": {
     "iopub.execute_input": "2022-11-25T05:32:41.858588Z",
     "iopub.status.busy": "2022-11-25T05:32:41.858502Z",
     "iopub.status.idle": "2022-11-25T05:32:41.870416Z",
     "shell.execute_reply": "2022-11-25T05:32:41.870057Z"
    },
    "papermill": {
     "duration": 0.026741,
     "end_time": "2022-11-25T05:32:41.871810",
     "exception": false,
     "start_time": "2022-11-25T05:32:41.845069",
     "status": "completed"
    },
    "tags": []
   },
   "outputs": [],
   "source": [
    "CLUSTERING_ATTRIBUTES_TO_SAVE = [\"n_clusters\"]"
   ]
  },
  {
   "cell_type": "code",
   "execution_count": 14,
   "id": "8d55b4be",
   "metadata": {
    "execution": {
     "iopub.execute_input": "2022-11-25T05:32:41.898835Z",
     "iopub.status.busy": "2022-11-25T05:32:41.898751Z",
     "iopub.status.idle": "2022-11-25T05:32:41.918208Z",
     "shell.execute_reply": "2022-11-25T05:32:41.917618Z"
    },
    "papermill": {
     "duration": 0.034234,
     "end_time": "2022-11-25T05:32:41.919560",
     "exception": false,
     "start_time": "2022-11-25T05:32:41.885326",
     "status": "completed"
    },
    "tags": []
   },
   "outputs": [
    {
     "data": {
      "text/plain": [
       "{'K_MIN': 2,\n",
       " 'K_MAX': 60,\n",
       " 'N_REPS_PER_K': 5,\n",
       " 'KMEANS_N_INIT': 10,\n",
       " 'GAMMA': 0.01,\n",
       " 'AFFINITY': 'rbf'}"
      ]
     },
     "metadata": {},
     "output_type": "display_data"
    }
   ],
   "source": [
    "CLUSTERING_OPTIONS = {}\n",
    "\n",
    "CLUSTERING_OPTIONS[\"K_MIN\"] = 2\n",
    "CLUSTERING_OPTIONS[\"K_MAX\"] = 60  # sqrt(3749)\n",
    "CLUSTERING_OPTIONS[\"N_REPS_PER_K\"] = 5\n",
    "CLUSTERING_OPTIONS[\"KMEANS_N_INIT\"] = 10\n",
    "CLUSTERING_OPTIONS[\"GAMMA\"] = 1.0e-02\n",
    "CLUSTERING_OPTIONS[\"AFFINITY\"] = \"rbf\"\n",
    "\n",
    "display(CLUSTERING_OPTIONS)"
   ]
  },
  {
   "cell_type": "code",
   "execution_count": 15,
   "id": "856adaad",
   "metadata": {
    "execution": {
     "iopub.execute_input": "2022-11-25T05:32:41.947176Z",
     "iopub.status.busy": "2022-11-25T05:32:41.946828Z",
     "iopub.status.idle": "2022-11-25T05:32:41.968444Z",
     "shell.execute_reply": "2022-11-25T05:32:41.967978Z"
    },
    "papermill": {
     "duration": 0.036989,
     "end_time": "2022-11-25T05:32:41.969848",
     "exception": false,
     "start_time": "2022-11-25T05:32:41.932859",
     "status": "completed"
    },
    "tags": []
   },
   "outputs": [],
   "source": [
    "CLUSTERERS = {}\n",
    "\n",
    "idx = 0\n",
    "random_state = INITIAL_RANDOM_STATE\n",
    "\n",
    "for k in range(CLUSTERING_OPTIONS[\"K_MIN\"], CLUSTERING_OPTIONS[\"K_MAX\"] + 1):\n",
    "    for i in range(CLUSTERING_OPTIONS[\"N_REPS_PER_K\"]):\n",
    "        clus = SpectralClustering(\n",
    "            eigen_solver=\"arpack\",\n",
    "            n_clusters=k,\n",
    "            n_init=CLUSTERING_OPTIONS[\"KMEANS_N_INIT\"],\n",
    "            affinity=CLUSTERING_OPTIONS[\"AFFINITY\"],\n",
    "            gamma=CLUSTERING_OPTIONS[\"GAMMA\"],\n",
    "            random_state=random_state,\n",
    "        )\n",
    "\n",
    "        method_name = type(clus).__name__\n",
    "        CLUSTERERS[f\"{method_name} #{idx}\"] = clus\n",
    "\n",
    "        random_state = random_state + 1\n",
    "        idx = idx + 1"
   ]
  },
  {
   "cell_type": "code",
   "execution_count": 16,
   "id": "e48b89af",
   "metadata": {
    "execution": {
     "iopub.execute_input": "2022-11-25T05:32:41.995550Z",
     "iopub.status.busy": "2022-11-25T05:32:41.995193Z",
     "iopub.status.idle": "2022-11-25T05:32:42.014179Z",
     "shell.execute_reply": "2022-11-25T05:32:42.013732Z"
    },
    "papermill": {
     "duration": 0.033156,
     "end_time": "2022-11-25T05:32:42.015476",
     "exception": false,
     "start_time": "2022-11-25T05:32:41.982320",
     "status": "completed"
    },
    "tags": []
   },
   "outputs": [
    {
     "data": {
      "text/plain": [
       "295"
      ]
     },
     "metadata": {},
     "output_type": "display_data"
    }
   ],
   "source": [
    "display(len(CLUSTERERS))"
   ]
  },
  {
   "cell_type": "code",
   "execution_count": 17,
   "id": "de496eae",
   "metadata": {
    "execution": {
     "iopub.execute_input": "2022-11-25T05:32:42.041832Z",
     "iopub.status.busy": "2022-11-25T05:32:42.041392Z",
     "iopub.status.idle": "2022-11-25T05:32:42.062763Z",
     "shell.execute_reply": "2022-11-25T05:32:42.062321Z"
    },
    "papermill": {
     "duration": 0.035815,
     "end_time": "2022-11-25T05:32:42.064151",
     "exception": false,
     "start_time": "2022-11-25T05:32:42.028336",
     "status": "completed"
    },
    "tags": []
   },
   "outputs": [
    {
     "data": {
      "text/plain": [
       "('SpectralClustering #0',\n",
       " SpectralClustering(eigen_solver='arpack', gamma=0.01, n_clusters=2,\n",
       "                    random_state=50000))"
      ]
     },
     "metadata": {},
     "output_type": "display_data"
    },
    {
     "data": {
      "text/plain": [
       "('SpectralClustering #1',\n",
       " SpectralClustering(eigen_solver='arpack', gamma=0.01, n_clusters=2,\n",
       "                    random_state=50001))"
      ]
     },
     "metadata": {},
     "output_type": "display_data"
    }
   ],
   "source": [
    "_iter = iter(CLUSTERERS.items())\n",
    "display(next(_iter))\n",
    "display(next(_iter))"
   ]
  },
  {
   "cell_type": "code",
   "execution_count": 18,
   "id": "31673d0d",
   "metadata": {
    "execution": {
     "iopub.execute_input": "2022-11-25T05:32:42.090314Z",
     "iopub.status.busy": "2022-11-25T05:32:42.090159Z",
     "iopub.status.idle": "2022-11-25T05:32:42.109135Z",
     "shell.execute_reply": "2022-11-25T05:32:42.108695Z"
    },
    "papermill": {
     "duration": 0.033532,
     "end_time": "2022-11-25T05:32:42.110430",
     "exception": false,
     "start_time": "2022-11-25T05:32:42.076898",
     "status": "completed"
    },
    "tags": []
   },
   "outputs": [
    {
     "data": {
      "text/plain": [
       "'SpectralClustering'"
      ]
     },
     "metadata": {},
     "output_type": "display_data"
    }
   ],
   "source": [
    "clustering_method_name = method_name\n",
    "display(clustering_method_name)"
   ]
  },
  {
   "cell_type": "markdown",
   "id": "6ad58de5",
   "metadata": {
    "papermill": {
     "duration": 0.012503,
     "end_time": "2022-11-25T05:32:42.135989",
     "exception": false,
     "start_time": "2022-11-25T05:32:42.123486",
     "status": "completed"
    },
    "tags": []
   },
   "source": [
    "## Output directory"
   ]
  },
  {
   "cell_type": "code",
   "execution_count": 19,
   "id": "fcaf3100",
   "metadata": {
    "execution": {
     "iopub.execute_input": "2022-11-25T05:32:42.161385Z",
     "iopub.status.busy": "2022-11-25T05:32:42.161234Z",
     "iopub.status.idle": "2022-11-25T05:32:42.180869Z",
     "shell.execute_reply": "2022-11-25T05:32:42.180396Z"
    },
    "papermill": {
     "duration": 0.032932,
     "end_time": "2022-11-25T05:32:42.181705",
     "exception": false,
     "start_time": "2022-11-25T05:32:42.148773",
     "status": "completed"
    },
    "tags": []
   },
   "outputs": [
    {
     "data": {
      "text/plain": [
       "PosixPath('/opt/data/results/clustering/null_sims/shuffle_lvs/runs/umap-z_score_std-projection-smultixcan-efo_partial-mashr-zscores')"
      ]
     },
     "metadata": {},
     "output_type": "display_data"
    }
   ],
   "source": [
    "# output dir for this notebook\n",
    "RESULTS_DIR = Path(\n",
    "    NULL_DIR,\n",
    "    \"runs\",\n",
    "    f\"{INPUT_SUBSET}-{INPUT_STEM}\",\n",
    ").resolve()\n",
    "RESULTS_DIR.mkdir(parents=True, exist_ok=True)\n",
    "\n",
    "display(RESULTS_DIR)"
   ]
  },
  {
   "cell_type": "markdown",
   "id": "e91b7939",
   "metadata": {
    "papermill": {
     "duration": 0.006594,
     "end_time": "2022-11-25T05:32:42.195009",
     "exception": false,
     "start_time": "2022-11-25T05:32:42.188415",
     "status": "completed"
    },
    "tags": []
   },
   "source": [
    "# Load input file"
   ]
  },
  {
   "cell_type": "code",
   "execution_count": 20,
   "id": "70ed03b4",
   "metadata": {
    "execution": {
     "iopub.execute_input": "2022-11-25T05:32:42.210000Z",
     "iopub.status.busy": "2022-11-25T05:32:42.209602Z",
     "iopub.status.idle": "2022-11-25T05:32:42.230204Z",
     "shell.execute_reply": "2022-11-25T05:32:42.229733Z"
    },
    "papermill": {
     "duration": 0.029331,
     "end_time": "2022-11-25T05:32:42.231192",
     "exception": false,
     "start_time": "2022-11-25T05:32:42.201861",
     "status": "completed"
    },
    "tags": []
   },
   "outputs": [],
   "source": [
    "data = pd.read_pickle(input_filepath)"
   ]
  },
  {
   "cell_type": "code",
   "execution_count": 21,
   "id": "6eb4728e",
   "metadata": {
    "execution": {
     "iopub.execute_input": "2022-11-25T05:32:42.245567Z",
     "iopub.status.busy": "2022-11-25T05:32:42.245220Z",
     "iopub.status.idle": "2022-11-25T05:32:42.264811Z",
     "shell.execute_reply": "2022-11-25T05:32:42.264355Z"
    },
    "papermill": {
     "duration": 0.02768,
     "end_time": "2022-11-25T05:32:42.265614",
     "exception": false,
     "start_time": "2022-11-25T05:32:42.237934",
     "status": "completed"
    },
    "tags": []
   },
   "outputs": [
    {
     "data": {
      "text/plain": [
       "(3752, 50)"
      ]
     },
     "execution_count": 21,
     "metadata": {},
     "output_type": "execute_result"
    }
   ],
   "source": [
    "data.shape"
   ]
  },
  {
   "cell_type": "code",
   "execution_count": 22,
   "id": "cfb6497a",
   "metadata": {
    "execution": {
     "iopub.execute_input": "2022-11-25T05:32:42.280381Z",
     "iopub.status.busy": "2022-11-25T05:32:42.279963Z",
     "iopub.status.idle": "2022-11-25T05:32:42.315587Z",
     "shell.execute_reply": "2022-11-25T05:32:42.315135Z"
    },
    "papermill": {
     "duration": 0.043866,
     "end_time": "2022-11-25T05:32:42.316394",
     "exception": false,
     "start_time": "2022-11-25T05:32:42.272528",
     "status": "completed"
    },
    "tags": []
   },
   "outputs": [
    {
     "data": {
      "text/html": [
       "<div>\n",
       "<style scoped>\n",
       "    .dataframe tbody tr th:only-of-type {\n",
       "        vertical-align: middle;\n",
       "    }\n",
       "\n",
       "    .dataframe tbody tr th {\n",
       "        vertical-align: top;\n",
       "    }\n",
       "\n",
       "    .dataframe thead th {\n",
       "        text-align: right;\n",
       "    }\n",
       "</style>\n",
       "<table border=\"1\" class=\"dataframe\">\n",
       "  <thead>\n",
       "    <tr style=\"text-align: right;\">\n",
       "      <th></th>\n",
       "      <th>UMAP1</th>\n",
       "      <th>UMAP2</th>\n",
       "      <th>UMAP3</th>\n",
       "      <th>UMAP4</th>\n",
       "      <th>UMAP5</th>\n",
       "      <th>UMAP6</th>\n",
       "      <th>UMAP7</th>\n",
       "      <th>UMAP8</th>\n",
       "      <th>UMAP9</th>\n",
       "      <th>UMAP10</th>\n",
       "      <th>...</th>\n",
       "      <th>UMAP41</th>\n",
       "      <th>UMAP42</th>\n",
       "      <th>UMAP43</th>\n",
       "      <th>UMAP44</th>\n",
       "      <th>UMAP45</th>\n",
       "      <th>UMAP46</th>\n",
       "      <th>UMAP47</th>\n",
       "      <th>UMAP48</th>\n",
       "      <th>UMAP49</th>\n",
       "      <th>UMAP50</th>\n",
       "    </tr>\n",
       "  </thead>\n",
       "  <tbody>\n",
       "    <tr>\n",
       "      <th>100001_raw-Food_weight</th>\n",
       "      <td>7.348012</td>\n",
       "      <td>4.577476</td>\n",
       "      <td>4.003544</td>\n",
       "      <td>7.175258</td>\n",
       "      <td>4.628082</td>\n",
       "      <td>4.668375</td>\n",
       "      <td>4.184439</td>\n",
       "      <td>5.524602</td>\n",
       "      <td>5.236019</td>\n",
       "      <td>4.051960</td>\n",
       "      <td>...</td>\n",
       "      <td>7.420596</td>\n",
       "      <td>8.645991</td>\n",
       "      <td>8.978471</td>\n",
       "      <td>0.844213</td>\n",
       "      <td>0.445817</td>\n",
       "      <td>8.147386</td>\n",
       "      <td>0.880679</td>\n",
       "      <td>9.326646</td>\n",
       "      <td>5.905894</td>\n",
       "      <td>9.498857</td>\n",
       "    </tr>\n",
       "    <tr>\n",
       "      <th>100002_raw-Energy</th>\n",
       "      <td>7.310478</td>\n",
       "      <td>4.624479</td>\n",
       "      <td>4.003817</td>\n",
       "      <td>7.205625</td>\n",
       "      <td>4.674837</td>\n",
       "      <td>4.623739</td>\n",
       "      <td>4.303133</td>\n",
       "      <td>5.513216</td>\n",
       "      <td>5.319317</td>\n",
       "      <td>3.911008</td>\n",
       "      <td>...</td>\n",
       "      <td>7.434267</td>\n",
       "      <td>8.683359</td>\n",
       "      <td>8.898481</td>\n",
       "      <td>0.940067</td>\n",
       "      <td>0.438958</td>\n",
       "      <td>8.215672</td>\n",
       "      <td>0.835403</td>\n",
       "      <td>9.336117</td>\n",
       "      <td>5.906696</td>\n",
       "      <td>9.496916</td>\n",
       "    </tr>\n",
       "    <tr>\n",
       "      <th>100003_raw-Protein</th>\n",
       "      <td>7.372120</td>\n",
       "      <td>4.567552</td>\n",
       "      <td>3.956281</td>\n",
       "      <td>7.172141</td>\n",
       "      <td>4.637493</td>\n",
       "      <td>4.662377</td>\n",
       "      <td>4.164535</td>\n",
       "      <td>5.569874</td>\n",
       "      <td>5.245649</td>\n",
       "      <td>3.992713</td>\n",
       "      <td>...</td>\n",
       "      <td>7.414976</td>\n",
       "      <td>8.643587</td>\n",
       "      <td>8.971425</td>\n",
       "      <td>0.866410</td>\n",
       "      <td>0.448116</td>\n",
       "      <td>8.160679</td>\n",
       "      <td>0.888818</td>\n",
       "      <td>9.330538</td>\n",
       "      <td>5.882386</td>\n",
       "      <td>9.454537</td>\n",
       "    </tr>\n",
       "    <tr>\n",
       "      <th>100004_raw-Fat</th>\n",
       "      <td>7.246791</td>\n",
       "      <td>4.422901</td>\n",
       "      <td>3.999165</td>\n",
       "      <td>6.995014</td>\n",
       "      <td>4.689552</td>\n",
       "      <td>4.778102</td>\n",
       "      <td>4.283790</td>\n",
       "      <td>5.544029</td>\n",
       "      <td>5.273340</td>\n",
       "      <td>4.024833</td>\n",
       "      <td>...</td>\n",
       "      <td>7.451052</td>\n",
       "      <td>8.683681</td>\n",
       "      <td>8.907457</td>\n",
       "      <td>0.842343</td>\n",
       "      <td>0.455955</td>\n",
       "      <td>8.174278</td>\n",
       "      <td>0.874224</td>\n",
       "      <td>9.339664</td>\n",
       "      <td>5.891949</td>\n",
       "      <td>9.500463</td>\n",
       "    </tr>\n",
       "    <tr>\n",
       "      <th>100005_raw-Carbohydrate</th>\n",
       "      <td>7.340907</td>\n",
       "      <td>4.559629</td>\n",
       "      <td>4.066139</td>\n",
       "      <td>7.116928</td>\n",
       "      <td>4.623105</td>\n",
       "      <td>4.678367</td>\n",
       "      <td>4.169051</td>\n",
       "      <td>5.549784</td>\n",
       "      <td>5.156203</td>\n",
       "      <td>4.129416</td>\n",
       "      <td>...</td>\n",
       "      <td>7.460930</td>\n",
       "      <td>8.663488</td>\n",
       "      <td>8.955309</td>\n",
       "      <td>0.796839</td>\n",
       "      <td>0.432522</td>\n",
       "      <td>8.127192</td>\n",
       "      <td>0.873220</td>\n",
       "      <td>9.321359</td>\n",
       "      <td>5.902341</td>\n",
       "      <td>9.528457</td>\n",
       "    </tr>\n",
       "  </tbody>\n",
       "</table>\n",
       "<p>5 rows × 50 columns</p>\n",
       "</div>"
      ],
      "text/plain": [
       "                            UMAP1     UMAP2     UMAP3     UMAP4     UMAP5  \\\n",
       "100001_raw-Food_weight   7.348012  4.577476  4.003544  7.175258  4.628082   \n",
       "100002_raw-Energy        7.310478  4.624479  4.003817  7.205625  4.674837   \n",
       "100003_raw-Protein       7.372120  4.567552  3.956281  7.172141  4.637493   \n",
       "100004_raw-Fat           7.246791  4.422901  3.999165  6.995014  4.689552   \n",
       "100005_raw-Carbohydrate  7.340907  4.559629  4.066139  7.116928  4.623105   \n",
       "\n",
       "                            UMAP6     UMAP7     UMAP8     UMAP9    UMAP10  \\\n",
       "100001_raw-Food_weight   4.668375  4.184439  5.524602  5.236019  4.051960   \n",
       "100002_raw-Energy        4.623739  4.303133  5.513216  5.319317  3.911008   \n",
       "100003_raw-Protein       4.662377  4.164535  5.569874  5.245649  3.992713   \n",
       "100004_raw-Fat           4.778102  4.283790  5.544029  5.273340  4.024833   \n",
       "100005_raw-Carbohydrate  4.678367  4.169051  5.549784  5.156203  4.129416   \n",
       "\n",
       "                         ...    UMAP41    UMAP42    UMAP43    UMAP44  \\\n",
       "100001_raw-Food_weight   ...  7.420596  8.645991  8.978471  0.844213   \n",
       "100002_raw-Energy        ...  7.434267  8.683359  8.898481  0.940067   \n",
       "100003_raw-Protein       ...  7.414976  8.643587  8.971425  0.866410   \n",
       "100004_raw-Fat           ...  7.451052  8.683681  8.907457  0.842343   \n",
       "100005_raw-Carbohydrate  ...  7.460930  8.663488  8.955309  0.796839   \n",
       "\n",
       "                           UMAP45    UMAP46    UMAP47    UMAP48    UMAP49  \\\n",
       "100001_raw-Food_weight   0.445817  8.147386  0.880679  9.326646  5.905894   \n",
       "100002_raw-Energy        0.438958  8.215672  0.835403  9.336117  5.906696   \n",
       "100003_raw-Protein       0.448116  8.160679  0.888818  9.330538  5.882386   \n",
       "100004_raw-Fat           0.455955  8.174278  0.874224  9.339664  5.891949   \n",
       "100005_raw-Carbohydrate  0.432522  8.127192  0.873220  9.321359  5.902341   \n",
       "\n",
       "                           UMAP50  \n",
       "100001_raw-Food_weight   9.498857  \n",
       "100002_raw-Energy        9.496916  \n",
       "100003_raw-Protein       9.454537  \n",
       "100004_raw-Fat           9.500463  \n",
       "100005_raw-Carbohydrate  9.528457  \n",
       "\n",
       "[5 rows x 50 columns]"
      ]
     },
     "execution_count": 22,
     "metadata": {},
     "output_type": "execute_result"
    }
   ],
   "source": [
    "data.head()"
   ]
  },
  {
   "cell_type": "code",
   "execution_count": 23,
   "id": "c981f57a",
   "metadata": {
    "execution": {
     "iopub.execute_input": "2022-11-25T05:32:42.337896Z",
     "iopub.status.busy": "2022-11-25T05:32:42.337482Z",
     "iopub.status.idle": "2022-11-25T05:32:42.357453Z",
     "shell.execute_reply": "2022-11-25T05:32:42.356991Z"
    },
    "papermill": {
     "duration": 0.031965,
     "end_time": "2022-11-25T05:32:42.358531",
     "exception": false,
     "start_time": "2022-11-25T05:32:42.326566",
     "status": "completed"
    },
    "tags": []
   },
   "outputs": [],
   "source": [
    "assert not data.isna().any().any()"
   ]
  },
  {
   "cell_type": "markdown",
   "id": "294973b0",
   "metadata": {
    "papermill": {
     "duration": 0.013277,
     "end_time": "2022-11-25T05:32:42.385028",
     "exception": false,
     "start_time": "2022-11-25T05:32:42.371751",
     "status": "completed"
    },
    "tags": []
   },
   "source": [
    "# Clustering"
   ]
  },
  {
   "cell_type": "markdown",
   "id": "870e2e33",
   "metadata": {
    "papermill": {
     "duration": 0.012988,
     "end_time": "2022-11-25T05:32:42.411201",
     "exception": false,
     "start_time": "2022-11-25T05:32:42.398213",
     "status": "completed"
    },
    "tags": []
   },
   "source": [
    "## Generate ensemble"
   ]
  },
  {
   "cell_type": "code",
   "execution_count": 24,
   "id": "86b459ec",
   "metadata": {
    "execution": {
     "iopub.execute_input": "2022-11-25T05:32:42.429605Z",
     "iopub.status.busy": "2022-11-25T05:32:42.429449Z",
     "iopub.status.idle": "2022-11-25T05:32:42.452469Z",
     "shell.execute_reply": "2022-11-25T05:32:42.451991Z"
    },
    "papermill": {
     "duration": 0.031264,
     "end_time": "2022-11-25T05:32:42.453375",
     "exception": false,
     "start_time": "2022-11-25T05:32:42.422111",
     "status": "completed"
    },
    "tags": []
   },
   "outputs": [],
   "source": [
    "from clustering.ensembles.utils import generate_ensemble"
   ]
  },
  {
   "cell_type": "code",
   "execution_count": 25,
   "id": "b0aca632",
   "metadata": {
    "execution": {
     "iopub.execute_input": "2022-11-25T05:32:42.468360Z",
     "iopub.status.busy": "2022-11-25T05:32:42.468000Z",
     "iopub.status.idle": "2022-11-25T05:39:14.667131Z",
     "shell.execute_reply": "2022-11-25T05:39:14.666764Z"
    },
    "papermill": {
     "duration": 392.208043,
     "end_time": "2022-11-25T05:39:14.668507",
     "exception": false,
     "start_time": "2022-11-25T05:32:42.460464",
     "status": "completed"
    },
    "tags": []
   },
   "outputs": [
    {
     "name": "stderr",
     "output_type": "stream",
     "text": [
      "100%|██████████| 295/295 [06:32<00:00,  1.33s/it]\n"
     ]
    }
   ],
   "source": [
    "ensemble = generate_ensemble(\n",
    "    data,\n",
    "    CLUSTERERS,\n",
    "    attributes=CLUSTERING_ATTRIBUTES_TO_SAVE,\n",
    ")"
   ]
  },
  {
   "cell_type": "code",
   "execution_count": 26,
   "id": "132c1216",
   "metadata": {
    "execution": {
     "iopub.execute_input": "2022-11-25T05:39:14.728023Z",
     "iopub.status.busy": "2022-11-25T05:39:14.727795Z",
     "iopub.status.idle": "2022-11-25T05:39:14.740951Z",
     "shell.execute_reply": "2022-11-25T05:39:14.740657Z"
    },
    "papermill": {
     "duration": 0.04423,
     "end_time": "2022-11-25T05:39:14.742155",
     "exception": false,
     "start_time": "2022-11-25T05:39:14.697925",
     "status": "completed"
    },
    "tags": []
   },
   "outputs": [
    {
     "data": {
      "text/plain": [
       "(295, 3)"
      ]
     },
     "execution_count": 26,
     "metadata": {},
     "output_type": "execute_result"
    }
   ],
   "source": [
    "# the number should be close to 295 (the number of partitions generated by k-means/spectral clustering)\n",
    "ensemble.shape"
   ]
  },
  {
   "cell_type": "code",
   "execution_count": 27,
   "id": "7ef40555",
   "metadata": {
    "execution": {
     "iopub.execute_input": "2022-11-25T05:39:14.791725Z",
     "iopub.status.busy": "2022-11-25T05:39:14.791434Z",
     "iopub.status.idle": "2022-11-25T05:39:14.818186Z",
     "shell.execute_reply": "2022-11-25T05:39:14.817838Z"
    },
    "papermill": {
     "duration": 0.048916,
     "end_time": "2022-11-25T05:39:14.818920",
     "exception": false,
     "start_time": "2022-11-25T05:39:14.770004",
     "status": "completed"
    },
    "tags": []
   },
   "outputs": [
    {
     "data": {
      "text/html": [
       "<div>\n",
       "<style scoped>\n",
       "    .dataframe tbody tr th:only-of-type {\n",
       "        vertical-align: middle;\n",
       "    }\n",
       "\n",
       "    .dataframe tbody tr th {\n",
       "        vertical-align: top;\n",
       "    }\n",
       "\n",
       "    .dataframe thead th {\n",
       "        text-align: right;\n",
       "    }\n",
       "</style>\n",
       "<table border=\"1\" class=\"dataframe\">\n",
       "  <thead>\n",
       "    <tr style=\"text-align: right;\">\n",
       "      <th></th>\n",
       "      <th>clusterer_params</th>\n",
       "      <th>partition</th>\n",
       "      <th>n_clusters</th>\n",
       "    </tr>\n",
       "    <tr>\n",
       "      <th>clusterer_id</th>\n",
       "      <th></th>\n",
       "      <th></th>\n",
       "      <th></th>\n",
       "    </tr>\n",
       "  </thead>\n",
       "  <tbody>\n",
       "    <tr>\n",
       "      <th>SpectralClustering #0</th>\n",
       "      <td>{'affinity': 'rbf', 'assign_labels': 'kmeans',...</td>\n",
       "      <td>[0.0, 0.0, 0.0, 0.0, 0.0, 0.0, 0.0, 0.0, 0.0, ...</td>\n",
       "      <td>2</td>\n",
       "    </tr>\n",
       "    <tr>\n",
       "      <th>SpectralClustering #1</th>\n",
       "      <td>{'affinity': 'rbf', 'assign_labels': 'kmeans',...</td>\n",
       "      <td>[0.0, 0.0, 0.0, 0.0, 0.0, 0.0, 0.0, 0.0, 0.0, ...</td>\n",
       "      <td>2</td>\n",
       "    </tr>\n",
       "    <tr>\n",
       "      <th>SpectralClustering #2</th>\n",
       "      <td>{'affinity': 'rbf', 'assign_labels': 'kmeans',...</td>\n",
       "      <td>[0.0, 0.0, 0.0, 0.0, 0.0, 0.0, 0.0, 0.0, 0.0, ...</td>\n",
       "      <td>2</td>\n",
       "    </tr>\n",
       "    <tr>\n",
       "      <th>SpectralClustering #3</th>\n",
       "      <td>{'affinity': 'rbf', 'assign_labels': 'kmeans',...</td>\n",
       "      <td>[1.0, 1.0, 1.0, 1.0, 1.0, 1.0, 1.0, 1.0, 1.0, ...</td>\n",
       "      <td>2</td>\n",
       "    </tr>\n",
       "    <tr>\n",
       "      <th>SpectralClustering #4</th>\n",
       "      <td>{'affinity': 'rbf', 'assign_labels': 'kmeans',...</td>\n",
       "      <td>[0.0, 0.0, 0.0, 0.0, 0.0, 0.0, 0.0, 0.0, 0.0, ...</td>\n",
       "      <td>2</td>\n",
       "    </tr>\n",
       "  </tbody>\n",
       "</table>\n",
       "</div>"
      ],
      "text/plain": [
       "                                                        clusterer_params  \\\n",
       "clusterer_id                                                               \n",
       "SpectralClustering #0  {'affinity': 'rbf', 'assign_labels': 'kmeans',...   \n",
       "SpectralClustering #1  {'affinity': 'rbf', 'assign_labels': 'kmeans',...   \n",
       "SpectralClustering #2  {'affinity': 'rbf', 'assign_labels': 'kmeans',...   \n",
       "SpectralClustering #3  {'affinity': 'rbf', 'assign_labels': 'kmeans',...   \n",
       "SpectralClustering #4  {'affinity': 'rbf', 'assign_labels': 'kmeans',...   \n",
       "\n",
       "                                                               partition  \\\n",
       "clusterer_id                                                               \n",
       "SpectralClustering #0  [0.0, 0.0, 0.0, 0.0, 0.0, 0.0, 0.0, 0.0, 0.0, ...   \n",
       "SpectralClustering #1  [0.0, 0.0, 0.0, 0.0, 0.0, 0.0, 0.0, 0.0, 0.0, ...   \n",
       "SpectralClustering #2  [0.0, 0.0, 0.0, 0.0, 0.0, 0.0, 0.0, 0.0, 0.0, ...   \n",
       "SpectralClustering #3  [1.0, 1.0, 1.0, 1.0, 1.0, 1.0, 1.0, 1.0, 1.0, ...   \n",
       "SpectralClustering #4  [0.0, 0.0, 0.0, 0.0, 0.0, 0.0, 0.0, 0.0, 0.0, ...   \n",
       "\n",
       "                       n_clusters  \n",
       "clusterer_id                       \n",
       "SpectralClustering #0           2  \n",
       "SpectralClustering #1           2  \n",
       "SpectralClustering #2           2  \n",
       "SpectralClustering #3           2  \n",
       "SpectralClustering #4           2  "
      ]
     },
     "execution_count": 27,
     "metadata": {},
     "output_type": "execute_result"
    }
   ],
   "source": [
    "ensemble.head()"
   ]
  },
  {
   "cell_type": "code",
   "execution_count": 28,
   "id": "7b6c97d5",
   "metadata": {
    "execution": {
     "iopub.execute_input": "2022-11-25T05:39:14.848580Z",
     "iopub.status.busy": "2022-11-25T05:39:14.848323Z",
     "iopub.status.idle": "2022-11-25T05:39:14.865913Z",
     "shell.execute_reply": "2022-11-25T05:39:14.865573Z"
    },
    "papermill": {
     "duration": 0.03314,
     "end_time": "2022-11-25T05:39:14.866636",
     "exception": false,
     "start_time": "2022-11-25T05:39:14.833496",
     "status": "completed"
    },
    "tags": []
   },
   "outputs": [
    {
     "data": {
      "text/plain": [
       "60    5\n",
       "16    5\n",
       "28    5\n",
       "27    5\n",
       "26    5\n",
       "Name: n_clusters, dtype: int64"
      ]
     },
     "execution_count": 28,
     "metadata": {},
     "output_type": "execute_result"
    }
   ],
   "source": [
    "ensemble[\"n_clusters\"].value_counts().head()"
   ]
  },
  {
   "cell_type": "code",
   "execution_count": 29,
   "id": "0e4e84ea",
   "metadata": {
    "execution": {
     "iopub.execute_input": "2022-11-25T05:39:14.896362Z",
     "iopub.status.busy": "2022-11-25T05:39:14.896125Z",
     "iopub.status.idle": "2022-11-25T05:39:14.914196Z",
     "shell.execute_reply": "2022-11-25T05:39:14.913851Z"
    },
    "papermill": {
     "duration": 0.033759,
     "end_time": "2022-11-25T05:39:14.914931",
     "exception": false,
     "start_time": "2022-11-25T05:39:14.881172",
     "status": "completed"
    },
    "tags": []
   },
   "outputs": [
    {
     "data": {
      "text/plain": [
       "count    295.000000\n",
       "mean      31.000000\n",
       "std       17.058323\n",
       "min        2.000000\n",
       "25%       16.000000\n",
       "50%       31.000000\n",
       "75%       46.000000\n",
       "max       60.000000\n",
       "Name: n_clusters, dtype: float64"
      ]
     },
     "metadata": {},
     "output_type": "display_data"
    }
   ],
   "source": [
    "ensemble_stats = ensemble[\"n_clusters\"].describe()\n",
    "display(ensemble_stats)"
   ]
  },
  {
   "cell_type": "markdown",
   "id": "24e8dbbb",
   "metadata": {
    "papermill": {
     "duration": 0.014409,
     "end_time": "2022-11-25T05:39:14.944027",
     "exception": false,
     "start_time": "2022-11-25T05:39:14.929618",
     "status": "completed"
    },
    "tags": []
   },
   "source": [
    "## Testing"
   ]
  },
  {
   "cell_type": "code",
   "execution_count": 30,
   "id": "f528c0f6",
   "metadata": {
    "execution": {
     "iopub.execute_input": "2022-11-25T05:39:14.974126Z",
     "iopub.status.busy": "2022-11-25T05:39:14.973759Z",
     "iopub.status.idle": "2022-11-25T05:39:14.992662Z",
     "shell.execute_reply": "2022-11-25T05:39:14.992272Z"
    },
    "papermill": {
     "duration": 0.034773,
     "end_time": "2022-11-25T05:39:14.993482",
     "exception": false,
     "start_time": "2022-11-25T05:39:14.958709",
     "status": "completed"
    },
    "tags": []
   },
   "outputs": [],
   "source": [
    "assert ensemble_stats[\"min\"] > 1"
   ]
  },
  {
   "cell_type": "code",
   "execution_count": 31,
   "id": "29b09205",
   "metadata": {
    "execution": {
     "iopub.execute_input": "2022-11-25T05:39:15.023491Z",
     "iopub.status.busy": "2022-11-25T05:39:15.023222Z",
     "iopub.status.idle": "2022-11-25T05:39:15.041714Z",
     "shell.execute_reply": "2022-11-25T05:39:15.041308Z"
    },
    "papermill": {
     "duration": 0.034369,
     "end_time": "2022-11-25T05:39:15.042551",
     "exception": false,
     "start_time": "2022-11-25T05:39:15.008182",
     "status": "completed"
    },
    "tags": []
   },
   "outputs": [],
   "source": [
    "assert not ensemble[\"n_clusters\"].isna().any()"
   ]
  },
  {
   "cell_type": "code",
   "execution_count": 32,
   "id": "6f22fc63",
   "metadata": {
    "execution": {
     "iopub.execute_input": "2022-11-25T05:39:15.072488Z",
     "iopub.status.busy": "2022-11-25T05:39:15.072214Z",
     "iopub.status.idle": "2022-11-25T05:39:15.090234Z",
     "shell.execute_reply": "2022-11-25T05:39:15.089858Z"
    },
    "papermill": {
     "duration": 0.033751,
     "end_time": "2022-11-25T05:39:15.090987",
     "exception": false,
     "start_time": "2022-11-25T05:39:15.057236",
     "status": "completed"
    },
    "tags": []
   },
   "outputs": [],
   "source": [
    "assert ensemble.shape[0] == len(CLUSTERERS)"
   ]
  },
  {
   "cell_type": "code",
   "execution_count": 33,
   "id": "3cfa7a83",
   "metadata": {
    "execution": {
     "iopub.execute_input": "2022-11-25T05:39:15.120671Z",
     "iopub.status.busy": "2022-11-25T05:39:15.120406Z",
     "iopub.status.idle": "2022-11-25T05:39:15.162694Z",
     "shell.execute_reply": "2022-11-25T05:39:15.162305Z"
    },
    "papermill": {
     "duration": 0.058152,
     "end_time": "2022-11-25T05:39:15.163568",
     "exception": false,
     "start_time": "2022-11-25T05:39:15.105416",
     "status": "completed"
    },
    "tags": []
   },
   "outputs": [],
   "source": [
    "# all partitions have the right size\n",
    "assert np.all(\n",
    "    [part[\"partition\"].shape[0] == data.shape[0] for idx, part in ensemble.iterrows()]\n",
    ")"
   ]
  },
  {
   "cell_type": "code",
   "execution_count": 34,
   "id": "46dc8c14",
   "metadata": {
    "execution": {
     "iopub.execute_input": "2022-11-25T05:39:15.193305Z",
     "iopub.status.busy": "2022-11-25T05:39:15.193028Z",
     "iopub.status.idle": "2022-11-25T05:39:15.239789Z",
     "shell.execute_reply": "2022-11-25T05:39:15.239370Z"
    },
    "papermill": {
     "duration": 0.06253,
     "end_time": "2022-11-25T05:39:15.240639",
     "exception": false,
     "start_time": "2022-11-25T05:39:15.178109",
     "status": "completed"
    },
    "tags": []
   },
   "outputs": [],
   "source": [
    "# no partition has negative clusters (noisy points)\n",
    "assert not np.any([(part[\"partition\"] < 0).any() for idx, part in ensemble.iterrows()])"
   ]
  },
  {
   "cell_type": "markdown",
   "id": "0877c8d0",
   "metadata": {
    "papermill": {
     "duration": 0.014346,
     "end_time": "2022-11-25T05:39:15.269534",
     "exception": false,
     "start_time": "2022-11-25T05:39:15.255188",
     "status": "completed"
    },
    "tags": []
   },
   "source": [
    "## Add clustering quality measures"
   ]
  },
  {
   "cell_type": "code",
   "execution_count": 35,
   "id": "7d900f28",
   "metadata": {
    "execution": {
     "iopub.execute_input": "2022-11-25T05:39:15.299398Z",
     "iopub.status.busy": "2022-11-25T05:39:15.299128Z",
     "iopub.status.idle": "2022-11-25T05:39:15.318390Z",
     "shell.execute_reply": "2022-11-25T05:39:15.318013Z"
    },
    "papermill": {
     "duration": 0.035074,
     "end_time": "2022-11-25T05:39:15.319210",
     "exception": false,
     "start_time": "2022-11-25T05:39:15.284136",
     "status": "completed"
    },
    "tags": []
   },
   "outputs": [],
   "source": [
    "from sklearn.metrics import calinski_harabasz_score"
   ]
  },
  {
   "cell_type": "code",
   "execution_count": 36,
   "id": "1e5ddc43",
   "metadata": {
    "execution": {
     "iopub.execute_input": "2022-11-25T05:39:15.348894Z",
     "iopub.status.busy": "2022-11-25T05:39:15.348631Z",
     "iopub.status.idle": "2022-11-25T05:39:16.033548Z",
     "shell.execute_reply": "2022-11-25T05:39:16.033237Z"
    },
    "papermill": {
     "duration": 0.70119,
     "end_time": "2022-11-25T05:39:16.034969",
     "exception": false,
     "start_time": "2022-11-25T05:39:15.333779",
     "status": "completed"
    },
    "tags": []
   },
   "outputs": [],
   "source": [
    "ensemble = ensemble.assign(\n",
    "    ch_score=ensemble[\"partition\"].apply(lambda x: calinski_harabasz_score(data, x))\n",
    ")"
   ]
  },
  {
   "cell_type": "code",
   "execution_count": 37,
   "id": "930cbc1a",
   "metadata": {
    "execution": {
     "iopub.execute_input": "2022-11-25T05:39:16.091553Z",
     "iopub.status.busy": "2022-11-25T05:39:16.091455Z",
     "iopub.status.idle": "2022-11-25T05:39:16.103951Z",
     "shell.execute_reply": "2022-11-25T05:39:16.103633Z"
    },
    "papermill": {
     "duration": 0.042274,
     "end_time": "2022-11-25T05:39:16.105174",
     "exception": false,
     "start_time": "2022-11-25T05:39:16.062900",
     "status": "completed"
    },
    "tags": []
   },
   "outputs": [
    {
     "data": {
      "text/plain": [
       "(295, 4)"
      ]
     },
     "execution_count": 37,
     "metadata": {},
     "output_type": "execute_result"
    }
   ],
   "source": [
    "ensemble.shape"
   ]
  },
  {
   "cell_type": "code",
   "execution_count": 38,
   "id": "26edeaec",
   "metadata": {
    "execution": {
     "iopub.execute_input": "2022-11-25T05:39:16.155478Z",
     "iopub.status.busy": "2022-11-25T05:39:16.155156Z",
     "iopub.status.idle": "2022-11-25T05:39:16.179266Z",
     "shell.execute_reply": "2022-11-25T05:39:16.178854Z"
    },
    "papermill": {
     "duration": 0.046616,
     "end_time": "2022-11-25T05:39:16.180021",
     "exception": false,
     "start_time": "2022-11-25T05:39:16.133405",
     "status": "completed"
    },
    "tags": []
   },
   "outputs": [
    {
     "data": {
      "text/html": [
       "<div>\n",
       "<style scoped>\n",
       "    .dataframe tbody tr th:only-of-type {\n",
       "        vertical-align: middle;\n",
       "    }\n",
       "\n",
       "    .dataframe tbody tr th {\n",
       "        vertical-align: top;\n",
       "    }\n",
       "\n",
       "    .dataframe thead th {\n",
       "        text-align: right;\n",
       "    }\n",
       "</style>\n",
       "<table border=\"1\" class=\"dataframe\">\n",
       "  <thead>\n",
       "    <tr style=\"text-align: right;\">\n",
       "      <th></th>\n",
       "      <th>clusterer_params</th>\n",
       "      <th>partition</th>\n",
       "      <th>n_clusters</th>\n",
       "      <th>ch_score</th>\n",
       "    </tr>\n",
       "    <tr>\n",
       "      <th>clusterer_id</th>\n",
       "      <th></th>\n",
       "      <th></th>\n",
       "      <th></th>\n",
       "      <th></th>\n",
       "    </tr>\n",
       "  </thead>\n",
       "  <tbody>\n",
       "    <tr>\n",
       "      <th>SpectralClustering #0</th>\n",
       "      <td>{'affinity': 'rbf', 'assign_labels': 'kmeans',...</td>\n",
       "      <td>[0.0, 0.0, 0.0, 0.0, 0.0, 0.0, 0.0, 0.0, 0.0, ...</td>\n",
       "      <td>2</td>\n",
       "      <td>2022.690039</td>\n",
       "    </tr>\n",
       "    <tr>\n",
       "      <th>SpectralClustering #1</th>\n",
       "      <td>{'affinity': 'rbf', 'assign_labels': 'kmeans',...</td>\n",
       "      <td>[0.0, 0.0, 0.0, 0.0, 0.0, 0.0, 0.0, 0.0, 0.0, ...</td>\n",
       "      <td>2</td>\n",
       "      <td>2022.690039</td>\n",
       "    </tr>\n",
       "    <tr>\n",
       "      <th>SpectralClustering #2</th>\n",
       "      <td>{'affinity': 'rbf', 'assign_labels': 'kmeans',...</td>\n",
       "      <td>[0.0, 0.0, 0.0, 0.0, 0.0, 0.0, 0.0, 0.0, 0.0, ...</td>\n",
       "      <td>2</td>\n",
       "      <td>2022.690039</td>\n",
       "    </tr>\n",
       "    <tr>\n",
       "      <th>SpectralClustering #3</th>\n",
       "      <td>{'affinity': 'rbf', 'assign_labels': 'kmeans',...</td>\n",
       "      <td>[1.0, 1.0, 1.0, 1.0, 1.0, 1.0, 1.0, 1.0, 1.0, ...</td>\n",
       "      <td>2</td>\n",
       "      <td>2022.690039</td>\n",
       "    </tr>\n",
       "    <tr>\n",
       "      <th>SpectralClustering #4</th>\n",
       "      <td>{'affinity': 'rbf', 'assign_labels': 'kmeans',...</td>\n",
       "      <td>[0.0, 0.0, 0.0, 0.0, 0.0, 0.0, 0.0, 0.0, 0.0, ...</td>\n",
       "      <td>2</td>\n",
       "      <td>2022.690039</td>\n",
       "    </tr>\n",
       "  </tbody>\n",
       "</table>\n",
       "</div>"
      ],
      "text/plain": [
       "                                                        clusterer_params  \\\n",
       "clusterer_id                                                               \n",
       "SpectralClustering #0  {'affinity': 'rbf', 'assign_labels': 'kmeans',...   \n",
       "SpectralClustering #1  {'affinity': 'rbf', 'assign_labels': 'kmeans',...   \n",
       "SpectralClustering #2  {'affinity': 'rbf', 'assign_labels': 'kmeans',...   \n",
       "SpectralClustering #3  {'affinity': 'rbf', 'assign_labels': 'kmeans',...   \n",
       "SpectralClustering #4  {'affinity': 'rbf', 'assign_labels': 'kmeans',...   \n",
       "\n",
       "                                                               partition  \\\n",
       "clusterer_id                                                               \n",
       "SpectralClustering #0  [0.0, 0.0, 0.0, 0.0, 0.0, 0.0, 0.0, 0.0, 0.0, ...   \n",
       "SpectralClustering #1  [0.0, 0.0, 0.0, 0.0, 0.0, 0.0, 0.0, 0.0, 0.0, ...   \n",
       "SpectralClustering #2  [0.0, 0.0, 0.0, 0.0, 0.0, 0.0, 0.0, 0.0, 0.0, ...   \n",
       "SpectralClustering #3  [1.0, 1.0, 1.0, 1.0, 1.0, 1.0, 1.0, 1.0, 1.0, ...   \n",
       "SpectralClustering #4  [0.0, 0.0, 0.0, 0.0, 0.0, 0.0, 0.0, 0.0, 0.0, ...   \n",
       "\n",
       "                       n_clusters     ch_score  \n",
       "clusterer_id                                    \n",
       "SpectralClustering #0           2  2022.690039  \n",
       "SpectralClustering #1           2  2022.690039  \n",
       "SpectralClustering #2           2  2022.690039  \n",
       "SpectralClustering #3           2  2022.690039  \n",
       "SpectralClustering #4           2  2022.690039  "
      ]
     },
     "execution_count": 38,
     "metadata": {},
     "output_type": "execute_result"
    }
   ],
   "source": [
    "ensemble.head()"
   ]
  },
  {
   "cell_type": "markdown",
   "id": "b3a9e890",
   "metadata": {
    "papermill": {
     "duration": 0.014647,
     "end_time": "2022-11-25T05:39:16.209537",
     "exception": false,
     "start_time": "2022-11-25T05:39:16.194890",
     "status": "completed"
    },
    "tags": []
   },
   "source": [
    "## Save"
   ]
  },
  {
   "cell_type": "code",
   "execution_count": 39,
   "id": "97f89f7f",
   "metadata": {
    "execution": {
     "iopub.execute_input": "2022-11-25T05:39:16.239896Z",
     "iopub.status.busy": "2022-11-25T05:39:16.239548Z",
     "iopub.status.idle": "2022-11-25T05:39:16.259757Z",
     "shell.execute_reply": "2022-11-25T05:39:16.259319Z"
    },
    "papermill": {
     "duration": 0.036229,
     "end_time": "2022-11-25T05:39:16.260539",
     "exception": false,
     "start_time": "2022-11-25T05:39:16.224310",
     "status": "completed"
    },
    "tags": []
   },
   "outputs": [
    {
     "data": {
      "text/plain": [
       "PosixPath('/opt/data/results/clustering/null_sims/shuffle_lvs/runs/umap-z_score_std-projection-smultixcan-efo_partial-mashr-zscores/SpectralClustering-AFFINITY_rbf-GAMMA_001-KMEANS_N_INIT_10-K_MAX_60-K_MIN_2-N_REPS_PER_K_5.pkl')"
      ]
     },
     "metadata": {},
     "output_type": "display_data"
    }
   ],
   "source": [
    "output_filename = Path(\n",
    "    RESULTS_DIR,\n",
    "    generate_result_set_name(\n",
    "        CLUSTERING_OPTIONS,\n",
    "        prefix=f\"{clustering_method_name}-\",\n",
    "        suffix=\".pkl\",\n",
    "    ),\n",
    ").resolve()\n",
    "display(output_filename)"
   ]
  },
  {
   "cell_type": "code",
   "execution_count": 40,
   "id": "479809e6",
   "metadata": {
    "execution": {
     "iopub.execute_input": "2022-11-25T05:39:16.291099Z",
     "iopub.status.busy": "2022-11-25T05:39:16.290733Z",
     "iopub.status.idle": "2022-11-25T05:39:16.321835Z",
     "shell.execute_reply": "2022-11-25T05:39:16.321338Z"
    },
    "papermill": {
     "duration": 0.0473,
     "end_time": "2022-11-25T05:39:16.322716",
     "exception": false,
     "start_time": "2022-11-25T05:39:16.275416",
     "status": "completed"
    },
    "tags": []
   },
   "outputs": [],
   "source": [
    "ensemble.to_pickle(output_filename)"
   ]
  },
  {
   "cell_type": "markdown",
   "id": "2c92bdc1",
   "metadata": {
    "papermill": {
     "duration": 0.014857,
     "end_time": "2022-11-25T05:39:16.352425",
     "exception": false,
     "start_time": "2022-11-25T05:39:16.337568",
     "status": "completed"
    },
    "tags": []
   },
   "source": [
    "# Cluster quality"
   ]
  },
  {
   "cell_type": "code",
   "execution_count": 41,
   "id": "2c67f40b",
   "metadata": {
    "execution": {
     "iopub.execute_input": "2022-11-25T05:39:16.383499Z",
     "iopub.status.busy": "2022-11-25T05:39:16.383056Z",
     "iopub.status.idle": "2022-11-25T05:39:16.410380Z",
     "shell.execute_reply": "2022-11-25T05:39:16.409948Z"
    },
    "papermill": {
     "duration": 0.043663,
     "end_time": "2022-11-25T05:39:16.411168",
     "exception": false,
     "start_time": "2022-11-25T05:39:16.367505",
     "status": "completed"
    },
    "tags": []
   },
   "outputs": [
    {
     "data": {
      "text/html": [
       "<div>\n",
       "<style scoped>\n",
       "    .dataframe tbody tr th:only-of-type {\n",
       "        vertical-align: middle;\n",
       "    }\n",
       "\n",
       "    .dataframe tbody tr th {\n",
       "        vertical-align: top;\n",
       "    }\n",
       "\n",
       "    .dataframe thead th {\n",
       "        text-align: right;\n",
       "    }\n",
       "</style>\n",
       "<table border=\"1\" class=\"dataframe\">\n",
       "  <thead>\n",
       "    <tr style=\"text-align: right;\">\n",
       "      <th></th>\n",
       "      <th>ch_score</th>\n",
       "    </tr>\n",
       "    <tr>\n",
       "      <th>n_clusters</th>\n",
       "      <th></th>\n",
       "    </tr>\n",
       "  </thead>\n",
       "  <tbody>\n",
       "    <tr>\n",
       "      <th>2</th>\n",
       "      <td>2022.690039</td>\n",
       "    </tr>\n",
       "    <tr>\n",
       "      <th>3</th>\n",
       "      <td>2555.133648</td>\n",
       "    </tr>\n",
       "    <tr>\n",
       "      <th>4</th>\n",
       "      <td>2858.866725</td>\n",
       "    </tr>\n",
       "    <tr>\n",
       "      <th>5</th>\n",
       "      <td>2895.647811</td>\n",
       "    </tr>\n",
       "    <tr>\n",
       "      <th>6</th>\n",
       "      <td>3021.920624</td>\n",
       "    </tr>\n",
       "    <tr>\n",
       "      <th>7</th>\n",
       "      <td>3250.463158</td>\n",
       "    </tr>\n",
       "    <tr>\n",
       "      <th>8</th>\n",
       "      <td>3136.766510</td>\n",
       "    </tr>\n",
       "    <tr>\n",
       "      <th>9</th>\n",
       "      <td>3184.938706</td>\n",
       "    </tr>\n",
       "    <tr>\n",
       "      <th>10</th>\n",
       "      <td>3351.070312</td>\n",
       "    </tr>\n",
       "    <tr>\n",
       "      <th>11</th>\n",
       "      <td>3423.931373</td>\n",
       "    </tr>\n",
       "    <tr>\n",
       "      <th>12</th>\n",
       "      <td>3545.447518</td>\n",
       "    </tr>\n",
       "    <tr>\n",
       "      <th>13</th>\n",
       "      <td>3495.363000</td>\n",
       "    </tr>\n",
       "    <tr>\n",
       "      <th>14</th>\n",
       "      <td>3587.201301</td>\n",
       "    </tr>\n",
       "    <tr>\n",
       "      <th>15</th>\n",
       "      <td>3780.941252</td>\n",
       "    </tr>\n",
       "    <tr>\n",
       "      <th>16</th>\n",
       "      <td>3741.534473</td>\n",
       "    </tr>\n",
       "    <tr>\n",
       "      <th>17</th>\n",
       "      <td>3602.623213</td>\n",
       "    </tr>\n",
       "    <tr>\n",
       "      <th>18</th>\n",
       "      <td>3581.901524</td>\n",
       "    </tr>\n",
       "    <tr>\n",
       "      <th>19</th>\n",
       "      <td>3528.693359</td>\n",
       "    </tr>\n",
       "    <tr>\n",
       "      <th>20</th>\n",
       "      <td>3788.117632</td>\n",
       "    </tr>\n",
       "    <tr>\n",
       "      <th>21</th>\n",
       "      <td>3826.844694</td>\n",
       "    </tr>\n",
       "    <tr>\n",
       "      <th>22</th>\n",
       "      <td>3891.857451</td>\n",
       "    </tr>\n",
       "    <tr>\n",
       "      <th>23</th>\n",
       "      <td>3902.278298</td>\n",
       "    </tr>\n",
       "    <tr>\n",
       "      <th>24</th>\n",
       "      <td>3906.487307</td>\n",
       "    </tr>\n",
       "    <tr>\n",
       "      <th>25</th>\n",
       "      <td>3983.908337</td>\n",
       "    </tr>\n",
       "    <tr>\n",
       "      <th>26</th>\n",
       "      <td>4077.297198</td>\n",
       "    </tr>\n",
       "    <tr>\n",
       "      <th>27</th>\n",
       "      <td>4071.182519</td>\n",
       "    </tr>\n",
       "    <tr>\n",
       "      <th>28</th>\n",
       "      <td>4062.062659</td>\n",
       "    </tr>\n",
       "    <tr>\n",
       "      <th>29</th>\n",
       "      <td>4057.884309</td>\n",
       "    </tr>\n",
       "    <tr>\n",
       "      <th>30</th>\n",
       "      <td>4254.767370</td>\n",
       "    </tr>\n",
       "    <tr>\n",
       "      <th>31</th>\n",
       "      <td>3827.270700</td>\n",
       "    </tr>\n",
       "    <tr>\n",
       "      <th>32</th>\n",
       "      <td>3931.904963</td>\n",
       "    </tr>\n",
       "    <tr>\n",
       "      <th>33</th>\n",
       "      <td>3680.179938</td>\n",
       "    </tr>\n",
       "    <tr>\n",
       "      <th>34</th>\n",
       "      <td>3391.648869</td>\n",
       "    </tr>\n",
       "    <tr>\n",
       "      <th>35</th>\n",
       "      <td>3259.334036</td>\n",
       "    </tr>\n",
       "    <tr>\n",
       "      <th>36</th>\n",
       "      <td>3191.148903</td>\n",
       "    </tr>\n",
       "    <tr>\n",
       "      <th>37</th>\n",
       "      <td>3201.006920</td>\n",
       "    </tr>\n",
       "    <tr>\n",
       "      <th>38</th>\n",
       "      <td>3034.608859</td>\n",
       "    </tr>\n",
       "    <tr>\n",
       "      <th>39</th>\n",
       "      <td>2944.754713</td>\n",
       "    </tr>\n",
       "    <tr>\n",
       "      <th>40</th>\n",
       "      <td>2932.742213</td>\n",
       "    </tr>\n",
       "    <tr>\n",
       "      <th>41</th>\n",
       "      <td>2785.875489</td>\n",
       "    </tr>\n",
       "    <tr>\n",
       "      <th>42</th>\n",
       "      <td>2829.598411</td>\n",
       "    </tr>\n",
       "    <tr>\n",
       "      <th>43</th>\n",
       "      <td>2726.145684</td>\n",
       "    </tr>\n",
       "    <tr>\n",
       "      <th>44</th>\n",
       "      <td>2752.496258</td>\n",
       "    </tr>\n",
       "    <tr>\n",
       "      <th>45</th>\n",
       "      <td>2720.563725</td>\n",
       "    </tr>\n",
       "    <tr>\n",
       "      <th>46</th>\n",
       "      <td>2678.364455</td>\n",
       "    </tr>\n",
       "    <tr>\n",
       "      <th>47</th>\n",
       "      <td>2572.092979</td>\n",
       "    </tr>\n",
       "    <tr>\n",
       "      <th>48</th>\n",
       "      <td>2540.180718</td>\n",
       "    </tr>\n",
       "    <tr>\n",
       "      <th>49</th>\n",
       "      <td>2512.153849</td>\n",
       "    </tr>\n",
       "    <tr>\n",
       "      <th>50</th>\n",
       "      <td>2448.985655</td>\n",
       "    </tr>\n",
       "    <tr>\n",
       "      <th>51</th>\n",
       "      <td>2435.874568</td>\n",
       "    </tr>\n",
       "    <tr>\n",
       "      <th>52</th>\n",
       "      <td>2386.623363</td>\n",
       "    </tr>\n",
       "    <tr>\n",
       "      <th>53</th>\n",
       "      <td>2399.042532</td>\n",
       "    </tr>\n",
       "    <tr>\n",
       "      <th>54</th>\n",
       "      <td>2385.606826</td>\n",
       "    </tr>\n",
       "    <tr>\n",
       "      <th>55</th>\n",
       "      <td>2444.832636</td>\n",
       "    </tr>\n",
       "    <tr>\n",
       "      <th>56</th>\n",
       "      <td>2401.503285</td>\n",
       "    </tr>\n",
       "    <tr>\n",
       "      <th>57</th>\n",
       "      <td>2406.167666</td>\n",
       "    </tr>\n",
       "    <tr>\n",
       "      <th>58</th>\n",
       "      <td>2354.913011</td>\n",
       "    </tr>\n",
       "    <tr>\n",
       "      <th>59</th>\n",
       "      <td>2333.034739</td>\n",
       "    </tr>\n",
       "    <tr>\n",
       "      <th>60</th>\n",
       "      <td>2353.153832</td>\n",
       "    </tr>\n",
       "  </tbody>\n",
       "</table>\n",
       "</div>"
      ],
      "text/plain": [
       "               ch_score\n",
       "n_clusters             \n",
       "2           2022.690039\n",
       "3           2555.133648\n",
       "4           2858.866725\n",
       "5           2895.647811\n",
       "6           3021.920624\n",
       "7           3250.463158\n",
       "8           3136.766510\n",
       "9           3184.938706\n",
       "10          3351.070312\n",
       "11          3423.931373\n",
       "12          3545.447518\n",
       "13          3495.363000\n",
       "14          3587.201301\n",
       "15          3780.941252\n",
       "16          3741.534473\n",
       "17          3602.623213\n",
       "18          3581.901524\n",
       "19          3528.693359\n",
       "20          3788.117632\n",
       "21          3826.844694\n",
       "22          3891.857451\n",
       "23          3902.278298\n",
       "24          3906.487307\n",
       "25          3983.908337\n",
       "26          4077.297198\n",
       "27          4071.182519\n",
       "28          4062.062659\n",
       "29          4057.884309\n",
       "30          4254.767370\n",
       "31          3827.270700\n",
       "32          3931.904963\n",
       "33          3680.179938\n",
       "34          3391.648869\n",
       "35          3259.334036\n",
       "36          3191.148903\n",
       "37          3201.006920\n",
       "38          3034.608859\n",
       "39          2944.754713\n",
       "40          2932.742213\n",
       "41          2785.875489\n",
       "42          2829.598411\n",
       "43          2726.145684\n",
       "44          2752.496258\n",
       "45          2720.563725\n",
       "46          2678.364455\n",
       "47          2572.092979\n",
       "48          2540.180718\n",
       "49          2512.153849\n",
       "50          2448.985655\n",
       "51          2435.874568\n",
       "52          2386.623363\n",
       "53          2399.042532\n",
       "54          2385.606826\n",
       "55          2444.832636\n",
       "56          2401.503285\n",
       "57          2406.167666\n",
       "58          2354.913011\n",
       "59          2333.034739\n",
       "60          2353.153832"
      ]
     },
     "metadata": {},
     "output_type": "display_data"
    }
   ],
   "source": [
    "with pd.option_context(\"display.max_rows\", None, \"display.max_columns\", None):\n",
    "    _df = ensemble.groupby([\"n_clusters\"]).mean()\n",
    "    display(_df)"
   ]
  },
  {
   "cell_type": "code",
   "execution_count": 42,
   "id": "983bb7f6",
   "metadata": {
    "execution": {
     "iopub.execute_input": "2022-11-25T05:39:16.442118Z",
     "iopub.status.busy": "2022-11-25T05:39:16.441800Z",
     "iopub.status.idle": "2022-11-25T05:39:18.445847Z",
     "shell.execute_reply": "2022-11-25T05:39:18.445474Z"
    },
    "papermill": {
     "duration": 2.021736,
     "end_time": "2022-11-25T05:39:18.447869",
     "exception": false,
     "start_time": "2022-11-25T05:39:16.426133",
     "status": "completed"
    },
    "tags": []
   },
   "outputs": [
    {
     "data": {
      "image/png": "[encoded data removed]",
      "text/plain": [
       "<Figure size 1008x432 with 1 Axes>"
      ]
     },
     "metadata": {},
     "output_type": "display_data"
    }
   ],
   "source": [
    "with sns.plotting_context(\"talk\", font_scale=0.75), sns.axes_style(\n",
    "    \"whitegrid\", {\"grid.linestyle\": \"--\"}\n",
    "):\n",
    "    fig = plt.figure(figsize=(14, 6))\n",
    "    ax = sns.pointplot(data=ensemble, x=\"n_clusters\", y=\"ch_score\")\n",
    "    ax.set_ylabel(\"Calinski-Harabasz index\")\n",
    "    ax.set_xlabel(\"Number of clusters ($k$)\")\n",
    "    ax.set_xticklabels(ax.get_xticklabels(), rotation=45)\n",
    "    plt.grid(True)\n",
    "    plt.tight_layout()"
   ]
  },
  {
   "cell_type": "markdown",
   "id": "604ad2fd",
   "metadata": {
    "papermill": {
     "duration": 0.029606,
     "end_time": "2022-11-25T05:39:18.508343",
     "exception": false,
     "start_time": "2022-11-25T05:39:18.478737",
     "status": "completed"
    },
    "tags": []
   },
   "source": [
    "# Stability"
   ]
  },
  {
   "cell_type": "markdown",
   "id": "e8a0f00c",
   "metadata": {
    "papermill": {
     "duration": 0.015548,
     "end_time": "2022-11-25T05:39:18.548593",
     "exception": false,
     "start_time": "2022-11-25T05:39:18.533045",
     "status": "completed"
    },
    "tags": []
   },
   "source": [
    "## Group ensemble by n_clusters"
   ]
  },
  {
   "cell_type": "code",
   "execution_count": 43,
   "id": "d8b43f90",
   "metadata": {
    "execution": {
     "iopub.execute_input": "2022-11-25T05:39:18.581031Z",
     "iopub.status.busy": "2022-11-25T05:39:18.580865Z",
     "iopub.status.idle": "2022-11-25T05:39:18.618690Z",
     "shell.execute_reply": "2022-11-25T05:39:18.618178Z"
    },
    "papermill": {
     "duration": 0.055334,
     "end_time": "2022-11-25T05:39:18.619758",
     "exception": false,
     "start_time": "2022-11-25T05:39:18.564424",
     "status": "completed"
    },
    "tags": []
   },
   "outputs": [],
   "source": [
    "parts = ensemble.groupby(\"n_clusters\").apply(\n",
    "    lambda x: np.concatenate(x[\"partition\"].apply(lambda x: x.reshape(1, -1)), axis=0)\n",
    ")"
   ]
  },
  {
   "cell_type": "code",
   "execution_count": 44,
   "id": "1205485e",
   "metadata": {
    "execution": {
     "iopub.execute_input": "2022-11-25T05:39:18.652197Z",
     "iopub.status.busy": "2022-11-25T05:39:18.651818Z",
     "iopub.status.idle": "2022-11-25T05:39:18.689825Z",
     "shell.execute_reply": "2022-11-25T05:39:18.689392Z"
    },
    "papermill": {
     "duration": 0.055021,
     "end_time": "2022-11-25T05:39:18.690585",
     "exception": false,
     "start_time": "2022-11-25T05:39:18.635564",
     "status": "completed"
    },
    "tags": []
   },
   "outputs": [
    {
     "data": {
      "text/plain": [
       "n_clusters\n",
       "2    [[0.0, 0.0, 0.0, 0.0, 0.0, 0.0, 0.0, 0.0, 0.0,...\n",
       "3    [[1.0, 1.0, 1.0, 1.0, 1.0, 1.0, 1.0, 1.0, 1.0,...\n",
       "4    [[3.0, 3.0, 3.0, 3.0, 3.0, 3.0, 3.0, 3.0, 3.0,...\n",
       "5    [[3.0, 3.0, 3.0, 3.0, 3.0, 3.0, 3.0, 3.0, 3.0,...\n",
       "6    [[4.0, 4.0, 4.0, 4.0, 4.0, 4.0, 4.0, 4.0, 4.0,...\n",
       "dtype: object"
      ]
     },
     "execution_count": 44,
     "metadata": {},
     "output_type": "execute_result"
    }
   ],
   "source": [
    "parts.head()"
   ]
  },
  {
   "cell_type": "code",
   "execution_count": 45,
   "id": "489fa18b",
   "metadata": {
    "execution": {
     "iopub.execute_input": "2022-11-25T05:39:18.723332Z",
     "iopub.status.busy": "2022-11-25T05:39:18.722903Z",
     "iopub.status.idle": "2022-11-25T05:39:18.743428Z",
     "shell.execute_reply": "2022-11-25T05:39:18.742977Z"
    },
    "papermill": {
     "duration": 0.037769,
     "end_time": "2022-11-25T05:39:18.744219",
     "exception": false,
     "start_time": "2022-11-25T05:39:18.706450",
     "status": "completed"
    },
    "tags": []
   },
   "outputs": [],
   "source": [
    "assert np.all(\n",
    "    [\n",
    "        parts.loc[k].shape == (CLUSTERING_OPTIONS[\"N_REPS_PER_K\"], data.shape[0])\n",
    "        for k in parts.index\n",
    "    ]\n",
    ")"
   ]
  },
  {
   "cell_type": "markdown",
   "id": "beefdfc5",
   "metadata": {
    "papermill": {
     "duration": 0.015705,
     "end_time": "2022-11-25T05:39:18.775725",
     "exception": false,
     "start_time": "2022-11-25T05:39:18.760020",
     "status": "completed"
    },
    "tags": []
   },
   "source": [
    "## Compute stability"
   ]
  },
  {
   "cell_type": "code",
   "execution_count": 46,
   "id": "5e98ebb9",
   "metadata": {
    "execution": {
     "iopub.execute_input": "2022-11-25T05:39:18.808623Z",
     "iopub.status.busy": "2022-11-25T05:39:18.808243Z",
     "iopub.status.idle": "2022-11-25T05:39:18.827278Z",
     "shell.execute_reply": "2022-11-25T05:39:18.826838Z"
    },
    "papermill": {
     "duration": 0.036353,
     "end_time": "2022-11-25T05:39:18.828051",
     "exception": false,
     "start_time": "2022-11-25T05:39:18.791698",
     "status": "completed"
    },
    "tags": []
   },
   "outputs": [],
   "source": [
    "from sklearn.metrics import adjusted_rand_score as ari\n",
    "from scipy.spatial.distance import pdist"
   ]
  },
  {
   "cell_type": "code",
   "execution_count": 47,
   "id": "1ba17dc6",
   "metadata": {
    "execution": {
     "iopub.execute_input": "2022-11-25T05:39:18.860760Z",
     "iopub.status.busy": "2022-11-25T05:39:18.860302Z",
     "iopub.status.idle": "2022-11-25T05:39:19.285808Z",
     "shell.execute_reply": "2022-11-25T05:39:19.285425Z"
    },
    "papermill": {
     "duration": 0.443118,
     "end_time": "2022-11-25T05:39:19.287066",
     "exception": false,
     "start_time": "2022-11-25T05:39:18.843948",
     "status": "completed"
    },
    "tags": []
   },
   "outputs": [],
   "source": [
    "parts_ari = pd.Series(\n",
    "    {k: pdist(parts.loc[k], metric=ari) for k in parts.index}, name=\"k\"\n",
    ")"
   ]
  },
  {
   "cell_type": "code",
   "execution_count": 48,
   "id": "e875b68d",
   "metadata": {
    "execution": {
     "iopub.execute_input": "2022-11-25T05:39:19.320087Z",
     "iopub.status.busy": "2022-11-25T05:39:19.319989Z",
     "iopub.status.idle": "2022-11-25T05:39:19.333799Z",
     "shell.execute_reply": "2022-11-25T05:39:19.333471Z"
    },
    "papermill": {
     "duration": 0.030733,
     "end_time": "2022-11-25T05:39:19.334502",
     "exception": false,
     "start_time": "2022-11-25T05:39:19.303769",
     "status": "completed"
    },
    "tags": []
   },
   "outputs": [
    {
     "data": {
      "text/plain": [
       "2     1.000000\n",
       "3     1.000000\n",
       "5     1.000000\n",
       "6     1.000000\n",
       "7     1.000000\n",
       "10    0.998748\n",
       "4     0.998715\n",
       "13    0.997828\n",
       "9     0.997687\n",
       "8     0.994795\n",
       "12    0.991373\n",
       "18    0.984264\n",
       "15    0.983571\n",
       "14    0.980630\n",
       "11    0.960498\n",
       "Name: k, dtype: float64"
      ]
     },
     "metadata": {},
     "output_type": "display_data"
    }
   ],
   "source": [
    "parts_ari_stability = parts_ari.apply(lambda x: x.mean())\n",
    "display(parts_ari_stability.sort_values(ascending=False).head(15))"
   ]
  },
  {
   "cell_type": "code",
   "execution_count": 49,
   "id": "988860d1",
   "metadata": {
    "execution": {
     "iopub.execute_input": "2022-11-25T05:39:19.366635Z",
     "iopub.status.busy": "2022-11-25T05:39:19.366542Z",
     "iopub.status.idle": "2022-11-25T05:39:19.382186Z",
     "shell.execute_reply": "2022-11-25T05:39:19.381756Z"
    },
    "papermill": {
     "duration": 0.032616,
     "end_time": "2022-11-25T05:39:19.382948",
     "exception": false,
     "start_time": "2022-11-25T05:39:19.350332",
     "status": "completed"
    },
    "tags": []
   },
   "outputs": [],
   "source": [
    "parts_ari_df = pd.DataFrame.from_records(parts_ari.tolist()).set_index(\n",
    "    parts_ari.index.copy()\n",
    ")"
   ]
  },
  {
   "cell_type": "code",
   "execution_count": 50,
   "id": "dbb0d2fe",
   "metadata": {
    "execution": {
     "iopub.execute_input": "2022-11-25T05:39:19.415362Z",
     "iopub.status.busy": "2022-11-25T05:39:19.415066Z",
     "iopub.status.idle": "2022-11-25T05:39:19.434030Z",
     "shell.execute_reply": "2022-11-25T05:39:19.433664Z"
    },
    "papermill": {
     "duration": 0.036213,
     "end_time": "2022-11-25T05:39:19.435007",
     "exception": false,
     "start_time": "2022-11-25T05:39:19.398794",
     "status": "completed"
    },
    "tags": []
   },
   "outputs": [
    {
     "data": {
      "text/plain": [
       "(59, 10)"
      ]
     },
     "execution_count": 50,
     "metadata": {},
     "output_type": "execute_result"
    }
   ],
   "source": [
    "parts_ari_df.shape"
   ]
  },
  {
   "cell_type": "code",
   "execution_count": 51,
   "id": "87bb17b8",
   "metadata": {
    "execution": {
     "iopub.execute_input": "2022-11-25T05:39:19.483175Z",
     "iopub.status.busy": "2022-11-25T05:39:19.482804Z",
     "iopub.status.idle": "2022-11-25T05:39:19.501464Z",
     "shell.execute_reply": "2022-11-25T05:39:19.501086Z"
    },
    "papermill": {
     "duration": 0.043338,
     "end_time": "2022-11-25T05:39:19.502223",
     "exception": false,
     "start_time": "2022-11-25T05:39:19.458885",
     "status": "completed"
    },
    "tags": []
   },
   "outputs": [],
   "source": [
    "assert (\n",
    "    int(\n",
    "        (CLUSTERING_OPTIONS[\"N_REPS_PER_K\"] * (CLUSTERING_OPTIONS[\"N_REPS_PER_K\"] - 1))\n",
    "        / 2\n",
    "    )\n",
    "    == parts_ari_df.shape[1]\n",
    ")"
   ]
  },
  {
   "cell_type": "code",
   "execution_count": 52,
   "id": "481c1b92",
   "metadata": {
    "execution": {
     "iopub.execute_input": "2022-11-25T05:39:19.535127Z",
     "iopub.status.busy": "2022-11-25T05:39:19.534639Z",
     "iopub.status.idle": "2022-11-25T05:39:19.561296Z",
     "shell.execute_reply": "2022-11-25T05:39:19.560864Z"
    },
    "papermill": {
     "duration": 0.04393,
     "end_time": "2022-11-25T05:39:19.562084",
     "exception": false,
     "start_time": "2022-11-25T05:39:19.518154",
     "status": "completed"
    },
    "tags": []
   },
   "outputs": [
    {
     "data": {
      "text/html": [
       "<div>\n",
       "<style scoped>\n",
       "    .dataframe tbody tr th:only-of-type {\n",
       "        vertical-align: middle;\n",
       "    }\n",
       "\n",
       "    .dataframe tbody tr th {\n",
       "        vertical-align: top;\n",
       "    }\n",
       "\n",
       "    .dataframe thead th {\n",
       "        text-align: right;\n",
       "    }\n",
       "</style>\n",
       "<table border=\"1\" class=\"dataframe\">\n",
       "  <thead>\n",
       "    <tr style=\"text-align: right;\">\n",
       "      <th></th>\n",
       "      <th>0</th>\n",
       "      <th>1</th>\n",
       "      <th>2</th>\n",
       "      <th>3</th>\n",
       "      <th>4</th>\n",
       "      <th>5</th>\n",
       "      <th>6</th>\n",
       "      <th>7</th>\n",
       "      <th>8</th>\n",
       "      <th>9</th>\n",
       "    </tr>\n",
       "  </thead>\n",
       "  <tbody>\n",
       "    <tr>\n",
       "      <th>2</th>\n",
       "      <td>1.00000</td>\n",
       "      <td>1.000000</td>\n",
       "      <td>1.000000</td>\n",
       "      <td>1.000000</td>\n",
       "      <td>1.00000</td>\n",
       "      <td>1.00000</td>\n",
       "      <td>1.00000</td>\n",
       "      <td>1.0</td>\n",
       "      <td>1.0</td>\n",
       "      <td>1.0</td>\n",
       "    </tr>\n",
       "    <tr>\n",
       "      <th>3</th>\n",
       "      <td>1.00000</td>\n",
       "      <td>1.000000</td>\n",
       "      <td>1.000000</td>\n",
       "      <td>1.000000</td>\n",
       "      <td>1.00000</td>\n",
       "      <td>1.00000</td>\n",
       "      <td>1.00000</td>\n",
       "      <td>1.0</td>\n",
       "      <td>1.0</td>\n",
       "      <td>1.0</td>\n",
       "    </tr>\n",
       "    <tr>\n",
       "      <th>4</th>\n",
       "      <td>0.99781</td>\n",
       "      <td>0.999318</td>\n",
       "      <td>0.999318</td>\n",
       "      <td>0.999318</td>\n",
       "      <td>0.99713</td>\n",
       "      <td>0.99713</td>\n",
       "      <td>0.99713</td>\n",
       "      <td>1.0</td>\n",
       "      <td>1.0</td>\n",
       "      <td>1.0</td>\n",
       "    </tr>\n",
       "    <tr>\n",
       "      <th>5</th>\n",
       "      <td>1.00000</td>\n",
       "      <td>1.000000</td>\n",
       "      <td>1.000000</td>\n",
       "      <td>1.000000</td>\n",
       "      <td>1.00000</td>\n",
       "      <td>1.00000</td>\n",
       "      <td>1.00000</td>\n",
       "      <td>1.0</td>\n",
       "      <td>1.0</td>\n",
       "      <td>1.0</td>\n",
       "    </tr>\n",
       "    <tr>\n",
       "      <th>6</th>\n",
       "      <td>1.00000</td>\n",
       "      <td>1.000000</td>\n",
       "      <td>1.000000</td>\n",
       "      <td>1.000000</td>\n",
       "      <td>1.00000</td>\n",
       "      <td>1.00000</td>\n",
       "      <td>1.00000</td>\n",
       "      <td>1.0</td>\n",
       "      <td>1.0</td>\n",
       "      <td>1.0</td>\n",
       "    </tr>\n",
       "  </tbody>\n",
       "</table>\n",
       "</div>"
      ],
      "text/plain": [
       "         0         1         2         3        4        5        6    7    8  \\\n",
       "2  1.00000  1.000000  1.000000  1.000000  1.00000  1.00000  1.00000  1.0  1.0   \n",
       "3  1.00000  1.000000  1.000000  1.000000  1.00000  1.00000  1.00000  1.0  1.0   \n",
       "4  0.99781  0.999318  0.999318  0.999318  0.99713  0.99713  0.99713  1.0  1.0   \n",
       "5  1.00000  1.000000  1.000000  1.000000  1.00000  1.00000  1.00000  1.0  1.0   \n",
       "6  1.00000  1.000000  1.000000  1.000000  1.00000  1.00000  1.00000  1.0  1.0   \n",
       "\n",
       "     9  \n",
       "2  1.0  \n",
       "3  1.0  \n",
       "4  1.0  \n",
       "5  1.0  \n",
       "6  1.0  "
      ]
     },
     "execution_count": 52,
     "metadata": {},
     "output_type": "execute_result"
    }
   ],
   "source": [
    "parts_ari_df.head()"
   ]
  },
  {
   "cell_type": "markdown",
   "id": "3a2d25e2",
   "metadata": {
    "papermill": {
     "duration": 0.015882,
     "end_time": "2022-11-25T05:39:19.594071",
     "exception": false,
     "start_time": "2022-11-25T05:39:19.578189",
     "status": "completed"
    },
    "tags": []
   },
   "source": [
    "## Save"
   ]
  },
  {
   "cell_type": "code",
   "execution_count": 53,
   "id": "18a2edc8",
   "metadata": {
    "execution": {
     "iopub.execute_input": "2022-11-25T05:39:19.645548Z",
     "iopub.status.busy": "2022-11-25T05:39:19.645098Z",
     "iopub.status.idle": "2022-11-25T05:39:19.665194Z",
     "shell.execute_reply": "2022-11-25T05:39:19.664826Z"
    },
    "papermill": {
     "duration": 0.055668,
     "end_time": "2022-11-25T05:39:19.665942",
     "exception": false,
     "start_time": "2022-11-25T05:39:19.610274",
     "status": "completed"
    },
    "tags": []
   },
   "outputs": [
    {
     "data": {
      "text/plain": [
       "PosixPath('/opt/data/results/clustering/null_sims/shuffle_lvs/runs/umap-z_score_std-projection-smultixcan-efo_partial-mashr-zscores/SpectralClustering-stability-AFFINITY_rbf-GAMMA_001-KMEANS_N_INIT_10-K_MAX_60-K_MIN_2-N_REPS_PER_K_5.pkl')"
      ]
     },
     "metadata": {},
     "output_type": "display_data"
    }
   ],
   "source": [
    "output_filename = Path(\n",
    "    RESULTS_DIR,\n",
    "    generate_result_set_name(\n",
    "        CLUSTERING_OPTIONS,\n",
    "        prefix=f\"{clustering_method_name}-stability-\",\n",
    "        suffix=\".pkl\",\n",
    "    ),\n",
    ").resolve()\n",
    "display(output_filename)"
   ]
  },
  {
   "cell_type": "code",
   "execution_count": 54,
   "id": "5a077ef9",
   "metadata": {
    "execution": {
     "iopub.execute_input": "2022-11-25T05:39:19.699018Z",
     "iopub.status.busy": "2022-11-25T05:39:19.698691Z",
     "iopub.status.idle": "2022-11-25T05:39:19.717588Z",
     "shell.execute_reply": "2022-11-25T05:39:19.717143Z"
    },
    "papermill": {
     "duration": 0.036344,
     "end_time": "2022-11-25T05:39:19.718454",
     "exception": false,
     "start_time": "2022-11-25T05:39:19.682110",
     "status": "completed"
    },
    "tags": []
   },
   "outputs": [],
   "source": [
    "parts_ari_df.to_pickle(output_filename)"
   ]
  },
  {
   "cell_type": "markdown",
   "id": "facc867d",
   "metadata": {
    "papermill": {
     "duration": 0.015945,
     "end_time": "2022-11-25T05:39:19.750602",
     "exception": false,
     "start_time": "2022-11-25T05:39:19.734657",
     "status": "completed"
    },
    "tags": []
   },
   "source": [
    "## Stability plot"
   ]
  },
  {
   "cell_type": "code",
   "execution_count": 55,
   "id": "064086f4",
   "metadata": {
    "execution": {
     "iopub.execute_input": "2022-11-25T05:39:19.783920Z",
     "iopub.status.busy": "2022-11-25T05:39:19.783503Z",
     "iopub.status.idle": "2022-11-25T05:39:19.804390Z",
     "shell.execute_reply": "2022-11-25T05:39:19.803996Z"
    },
    "papermill": {
     "duration": 0.038457,
     "end_time": "2022-11-25T05:39:19.805306",
     "exception": false,
     "start_time": "2022-11-25T05:39:19.766849",
     "status": "completed"
    },
    "tags": []
   },
   "outputs": [],
   "source": [
    "parts_ari_df_plot = (\n",
    "    parts_ari_df.stack()\n",
    "    .reset_index()\n",
    "    .rename(columns={\"level_0\": \"k\", \"level_1\": \"idx\", 0: \"ari\"})\n",
    ")"
   ]
  },
  {
   "cell_type": "code",
   "execution_count": 56,
   "id": "f728d81d",
   "metadata": {
    "execution": {
     "iopub.execute_input": "2022-11-25T05:39:19.838209Z",
     "iopub.status.busy": "2022-11-25T05:39:19.838060Z",
     "iopub.status.idle": "2022-11-25T05:39:19.858337Z",
     "shell.execute_reply": "2022-11-25T05:39:19.857901Z"
    },
    "papermill": {
     "duration": 0.037747,
     "end_time": "2022-11-25T05:39:19.859144",
     "exception": false,
     "start_time": "2022-11-25T05:39:19.821397",
     "status": "completed"
    },
    "tags": []
   },
   "outputs": [
    {
     "data": {
      "text/plain": [
       "k        int64\n",
       "idx      int64\n",
       "ari    float64\n",
       "dtype: object"
      ]
     },
     "execution_count": 56,
     "metadata": {},
     "output_type": "execute_result"
    }
   ],
   "source": [
    "parts_ari_df_plot.dtypes"
   ]
  },
  {
   "cell_type": "code",
   "execution_count": 57,
   "id": "52b67ce9",
   "metadata": {
    "execution": {
     "iopub.execute_input": "2022-11-25T05:39:19.892508Z",
     "iopub.status.busy": "2022-11-25T05:39:19.892050Z",
     "iopub.status.idle": "2022-11-25T05:39:19.914450Z",
     "shell.execute_reply": "2022-11-25T05:39:19.914077Z"
    },
    "papermill": {
     "duration": 0.039915,
     "end_time": "2022-11-25T05:39:19.915216",
     "exception": false,
     "start_time": "2022-11-25T05:39:19.875301",
     "status": "completed"
    },
    "tags": []
   },
   "outputs": [
    {
     "data": {
      "text/html": [
       "<div>\n",
       "<style scoped>\n",
       "    .dataframe tbody tr th:only-of-type {\n",
       "        vertical-align: middle;\n",
       "    }\n",
       "\n",
       "    .dataframe tbody tr th {\n",
       "        vertical-align: top;\n",
       "    }\n",
       "\n",
       "    .dataframe thead th {\n",
       "        text-align: right;\n",
       "    }\n",
       "</style>\n",
       "<table border=\"1\" class=\"dataframe\">\n",
       "  <thead>\n",
       "    <tr style=\"text-align: right;\">\n",
       "      <th></th>\n",
       "      <th>k</th>\n",
       "      <th>idx</th>\n",
       "      <th>ari</th>\n",
       "    </tr>\n",
       "  </thead>\n",
       "  <tbody>\n",
       "    <tr>\n",
       "      <th>0</th>\n",
       "      <td>2</td>\n",
       "      <td>0</td>\n",
       "      <td>1.0</td>\n",
       "    </tr>\n",
       "    <tr>\n",
       "      <th>1</th>\n",
       "      <td>2</td>\n",
       "      <td>1</td>\n",
       "      <td>1.0</td>\n",
       "    </tr>\n",
       "    <tr>\n",
       "      <th>2</th>\n",
       "      <td>2</td>\n",
       "      <td>2</td>\n",
       "      <td>1.0</td>\n",
       "    </tr>\n",
       "    <tr>\n",
       "      <th>3</th>\n",
       "      <td>2</td>\n",
       "      <td>3</td>\n",
       "      <td>1.0</td>\n",
       "    </tr>\n",
       "    <tr>\n",
       "      <th>4</th>\n",
       "      <td>2</td>\n",
       "      <td>4</td>\n",
       "      <td>1.0</td>\n",
       "    </tr>\n",
       "  </tbody>\n",
       "</table>\n",
       "</div>"
      ],
      "text/plain": [
       "   k  idx  ari\n",
       "0  2    0  1.0\n",
       "1  2    1  1.0\n",
       "2  2    2  1.0\n",
       "3  2    3  1.0\n",
       "4  2    4  1.0"
      ]
     },
     "execution_count": 57,
     "metadata": {},
     "output_type": "execute_result"
    }
   ],
   "source": [
    "parts_ari_df_plot.head()"
   ]
  },
  {
   "cell_type": "code",
   "execution_count": 58,
   "id": "bf572c4e",
   "metadata": {
    "execution": {
     "iopub.execute_input": "2022-11-25T05:39:19.948526Z",
     "iopub.status.busy": "2022-11-25T05:39:19.948150Z",
     "iopub.status.idle": "2022-11-25T05:39:21.820559Z",
     "shell.execute_reply": "2022-11-25T05:39:21.820265Z"
    },
    "papermill": {
     "duration": 1.891053,
     "end_time": "2022-11-25T05:39:21.822458",
     "exception": false,
     "start_time": "2022-11-25T05:39:19.931405",
     "status": "completed"
    },
    "tags": []
   },
   "outputs": [
    {
     "data": {
      "image/png": "[encoded data removed]",
      "text/plain": [
       "<Figure size 1008x432 with 1 Axes>"
      ]
     },
     "metadata": {},
     "output_type": "display_data"
    }
   ],
   "source": [
    "# with sns.axes_style('whitegrid', {'grid.linestyle': '--'}):\n",
    "with sns.plotting_context(\"talk\", font_scale=0.75), sns.axes_style(\n",
    "    \"whitegrid\", {\"grid.linestyle\": \"--\"}\n",
    "):\n",
    "    fig = plt.figure(figsize=(14, 6))\n",
    "    ax = sns.pointplot(data=parts_ari_df_plot, x=\"k\", y=\"ari\")\n",
    "    ax.set_ylabel(\"Averange ARI\")\n",
    "    ax.set_xlabel(\"Number of clusters ($k$)\")\n",
    "    ax.set_xticklabels(ax.get_xticklabels(), rotation=45)\n",
    "    #     ax.set_ylim(0.0, 1.0)\n",
    "    #     ax.set_xlim(CLUSTERING_OPTIONS['K_MIN'], CLUSTERING_OPTIONS['K_MAX'])\n",
    "    plt.grid(True)\n",
    "    plt.tight_layout()"
   ]
  },
  {
   "cell_type": "code",
   "execution_count": null,
   "id": "f0833b76",
   "metadata": {
    "papermill": {
     "duration": 0.032103,
     "end_time": "2022-11-25T05:39:21.887382",
     "exception": false,
     "start_time": "2022-11-25T05:39:21.855279",
     "status": "completed"
    },
    "tags": []
   },
   "outputs": [],
   "source": []
  }
 ],
 "metadata": {
  "jupytext": {
   "cell_metadata_filter": "all,-execution,-papermill,-trusted",
   "formats": "ipynb,py//py:percent"
  },
  "kernelspec": {
   "display_name": "Python 3 (ipykernel)",
   "language": "python",
   "name": "python3"
  },
  "language_info": {
   "codemirror_mode": {
    "name": "ipython",
    "version": 3
   },
   "file_extension": ".py",
   "mimetype": "text/x-python",
   "name": "python",
   "nbconvert_exporter": "python",
   "pygments_lexer": "ipython3",
   "version": "3.8.13"
  },
  "papermill": {
   "default_parameters": {},
   "duration": 402.429553,
   "end_time": "2022-11-25T05:39:22.228038",
   "environment_variables": {},
   "exception": null,
   "input_path": "nbs/13.1_cluster_analysis_null/05-shuffle_lvs/11_02-spectral-umap.ipynb",
   "output_path": "nbs/13.1_cluster_analysis_null/05-shuffle_lvs/11_02-spectral-umap.run.ipynb",
   "parameters": {},
   "start_time": "2022-11-25T05:32:39.798485",
   "version": "2.2.2"
  },
  "toc-autonumbering": true,
  "toc-showcode": false,
  "toc-showmarkdowntxt": false,
  "toc-showtags": false
 },
 "nbformat": 4,
 "nbformat_minor": 5
}
