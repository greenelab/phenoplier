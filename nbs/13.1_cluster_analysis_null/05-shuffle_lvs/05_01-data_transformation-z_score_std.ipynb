{
 "cells": [
  {
   "cell_type": "markdown",
   "id": "6a37bdb1",
   "metadata": {
    "papermill": {
     "duration": 0.014342,
     "end_time": "2022-09-13T15:33:48.227334",
     "exception": false,
     "start_time": "2022-09-13T15:33:48.212992",
     "status": "completed"
    },
    "tags": []
   },
   "source": [
    "# Description"
   ]
  },
  {
   "cell_type": "markdown",
   "id": "56e3f5fe",
   "metadata": {
    "papermill": {
     "duration": 0.009551,
     "end_time": "2022-09-13T15:33:48.248542",
     "exception": false,
     "start_time": "2022-09-13T15:33:48.238991",
     "status": "completed"
    },
    "tags": []
   },
   "source": [
    "It standardize (z-score) S-MultiXcan results projected into the MultiPLIER latent space."
   ]
  },
  {
   "cell_type": "markdown",
   "id": "126ee613",
   "metadata": {
    "papermill": {
     "duration": 0.004527,
     "end_time": "2022-09-13T15:33:48.259448",
     "exception": false,
     "start_time": "2022-09-13T15:33:48.254921",
     "status": "completed"
    },
    "tags": []
   },
   "source": [
    "# Modules loading"
   ]
  },
  {
   "cell_type": "code",
   "execution_count": 1,
   "id": "652e2dd2",
   "metadata": {
    "execution": {
     "iopub.execute_input": "2022-09-13T15:33:48.268527Z",
     "iopub.status.busy": "2022-09-13T15:33:48.267979Z",
     "iopub.status.idle": "2022-09-13T15:33:48.284466Z",
     "shell.execute_reply": "2022-09-13T15:33:48.284056Z"
    },
    "papermill": {
     "duration": 0.022643,
     "end_time": "2022-09-13T15:33:48.286140",
     "exception": false,
     "start_time": "2022-09-13T15:33:48.263497",
     "status": "completed"
    },
    "tags": []
   },
   "outputs": [],
   "source": [
    "%load_ext autoreload\n",
    "%autoreload 2"
   ]
  },
  {
   "cell_type": "code",
   "execution_count": 2,
   "id": "c3c27a69",
   "metadata": {
    "execution": {
     "iopub.execute_input": "2022-09-13T15:33:48.293029Z",
     "iopub.status.busy": "2022-09-13T15:33:48.292827Z",
     "iopub.status.idle": "2022-09-13T15:33:48.765763Z",
     "shell.execute_reply": "2022-09-13T15:33:48.765214Z"
    },
    "papermill": {
     "duration": 0.477828,
     "end_time": "2022-09-13T15:33:48.767122",
     "exception": false,
     "start_time": "2022-09-13T15:33:48.289294",
     "status": "completed"
    },
    "tags": []
   },
   "outputs": [],
   "source": [
    "from pathlib import Path\n",
    "from IPython.display import display\n",
    "\n",
    "import numpy as np\n",
    "import pandas as pd\n",
    "from sklearn.preprocessing import scale\n",
    "\n",
    "import conf"
   ]
  },
  {
   "cell_type": "markdown",
   "id": "7f5ea10a",
   "metadata": {
    "papermill": {
     "duration": 0.002726,
     "end_time": "2022-09-13T15:33:48.774030",
     "exception": false,
     "start_time": "2022-09-13T15:33:48.771304",
     "status": "completed"
    },
    "tags": []
   },
   "source": [
    "# Settings"
   ]
  },
  {
   "cell_type": "code",
   "execution_count": 3,
   "id": "690ffd30",
   "metadata": {
    "execution": {
     "iopub.execute_input": "2022-09-13T15:33:48.780570Z",
     "iopub.status.busy": "2022-09-13T15:33:48.780404Z",
     "iopub.status.idle": "2022-09-13T15:33:48.795859Z",
     "shell.execute_reply": "2022-09-13T15:33:48.795241Z"
    },
    "papermill": {
     "duration": 0.020401,
     "end_time": "2022-09-13T15:33:48.797250",
     "exception": false,
     "start_time": "2022-09-13T15:33:48.776849",
     "status": "completed"
    },
    "tags": []
   },
   "outputs": [],
   "source": [
    "np.random.seed(0)"
   ]
  },
  {
   "cell_type": "code",
   "execution_count": null,
   "id": "a725aebd-cefd-415a-b472-b0d298dc23c9",
   "metadata": {},
   "outputs": [],
   "source": [
    "NULL_DIR = conf.RESULTS[\"CLUSTERING_NULL_DIR\"] / \"shuffle_lvs\""
   ]
  },
  {
   "cell_type": "markdown",
   "id": "ac65b58a",
   "metadata": {
    "papermill": {
     "duration": 0.00285,
     "end_time": "2022-09-13T15:33:48.803155",
     "exception": false,
     "start_time": "2022-09-13T15:33:48.800305",
     "status": "completed"
    },
    "tags": []
   },
   "source": [
    "## Input data"
   ]
  },
  {
   "cell_type": "code",
   "execution_count": 4,
   "id": "fb520da1",
   "metadata": {
    "execution": {
     "iopub.execute_input": "2022-09-13T15:33:48.809972Z",
     "iopub.status.busy": "2022-09-13T15:33:48.809805Z",
     "iopub.status.idle": "2022-09-13T15:33:48.831199Z",
     "shell.execute_reply": "2022-09-13T15:33:48.830678Z"
    },
    "papermill": {
     "duration": 0.026333,
     "end_time": "2022-09-13T15:33:48.832516",
     "exception": false,
     "start_time": "2022-09-13T15:33:48.806183",
     "status": "completed"
    },
    "tags": []
   },
   "outputs": [
    {
     "data": {
      "text/plain": [
       "PosixPath('/opt/data/results/clustering/null_sims/projections/projection-smultixcan-efo_partial-mashr-zscores.pkl')"
      ]
     },
     "metadata": {},
     "output_type": "display_data"
    },
    {
     "data": {
      "text/plain": [
       "'projection-smultixcan-efo_partial-mashr-zscores'"
      ]
     },
     "metadata": {},
     "output_type": "display_data"
    }
   ],
   "source": [
    "INPUT_FILEPATH = Path(\n",
    "    NULL_DIR,\n",
    "    \"projections\",\n",
    "    \"projection-smultixcan-efo_partial-mashr-zscores.pkl\",\n",
    ").resolve()\n",
    "display(INPUT_FILEPATH)\n",
    "\n",
    "input_filepath_stem = INPUT_FILEPATH.stem\n",
    "display(input_filepath_stem)"
   ]
  },
  {
   "cell_type": "markdown",
   "id": "c761e63a",
   "metadata": {
    "papermill": {
     "duration": 0.00315,
     "end_time": "2022-09-13T15:33:48.839007",
     "exception": false,
     "start_time": "2022-09-13T15:33:48.835857",
     "status": "completed"
    },
    "tags": []
   },
   "source": [
    "## Output folder"
   ]
  },
  {
   "cell_type": "code",
   "execution_count": 5,
   "id": "f497395d",
   "metadata": {
    "execution": {
     "iopub.execute_input": "2022-09-13T15:33:48.869407Z",
     "iopub.status.busy": "2022-09-13T15:33:48.868805Z",
     "iopub.status.idle": "2022-09-13T15:33:48.912605Z",
     "shell.execute_reply": "2022-09-13T15:33:48.911944Z"
    },
    "papermill": {
     "duration": 0.060265,
     "end_time": "2022-09-13T15:33:48.914634",
     "exception": false,
     "start_time": "2022-09-13T15:33:48.854369",
     "status": "completed"
    },
    "tags": []
   },
   "outputs": [
    {
     "data": {
      "text/plain": [
       "PosixPath('/opt/data/results/clustering/null_sims/data_transformations/z_score_std')"
      ]
     },
     "metadata": {},
     "output_type": "display_data"
    }
   ],
   "source": [
    "# output dir for this notebook\n",
    "RESULTS_DIR = Path(\n",
    "    NULL_DIR, \"data_transformations\", \"z_score_std\"\n",
    ").resolve()\n",
    "RESULTS_DIR.mkdir(parents=True, exist_ok=True)\n",
    "\n",
    "display(RESULTS_DIR)"
   ]
  },
  {
   "cell_type": "markdown",
   "id": "cebf3259",
   "metadata": {
    "papermill": {
     "duration": 0.0035,
     "end_time": "2022-09-13T15:33:48.922164",
     "exception": false,
     "start_time": "2022-09-13T15:33:48.918664",
     "status": "completed"
    },
    "tags": []
   },
   "source": [
    "# Load input file"
   ]
  },
  {
   "cell_type": "code",
   "execution_count": 6,
   "id": "825a4888",
   "metadata": {
    "execution": {
     "iopub.execute_input": "2022-09-13T15:33:48.930330Z",
     "iopub.status.busy": "2022-09-13T15:33:48.930145Z",
     "iopub.status.idle": "2022-09-13T15:33:48.963893Z",
     "shell.execute_reply": "2022-09-13T15:33:48.963325Z"
    },
    "papermill": {
     "duration": 0.039635,
     "end_time": "2022-09-13T15:33:48.965441",
     "exception": false,
     "start_time": "2022-09-13T15:33:48.925806",
     "status": "completed"
    },
    "tags": []
   },
   "outputs": [],
   "source": [
    "data = pd.read_pickle(INPUT_FILEPATH).T"
   ]
  },
  {
   "cell_type": "code",
   "execution_count": 7,
   "id": "d8d12fe6",
   "metadata": {
    "execution": {
     "iopub.execute_input": "2022-09-13T15:33:48.973761Z",
     "iopub.status.busy": "2022-09-13T15:33:48.973580Z",
     "iopub.status.idle": "2022-09-13T15:33:48.990936Z",
     "shell.execute_reply": "2022-09-13T15:33:48.990412Z"
    },
    "papermill": {
     "duration": 0.023016,
     "end_time": "2022-09-13T15:33:48.992327",
     "exception": false,
     "start_time": "2022-09-13T15:33:48.969311",
     "status": "completed"
    },
    "tags": []
   },
   "outputs": [
    {
     "data": {
      "text/plain": [
       "(3752, 987)"
      ]
     },
     "metadata": {},
     "output_type": "display_data"
    }
   ],
   "source": [
    "display(data.shape)"
   ]
  },
  {
   "cell_type": "code",
   "execution_count": 8,
   "id": "9a6ff5bf",
   "metadata": {
    "execution": {
     "iopub.execute_input": "2022-09-13T15:33:49.000715Z",
     "iopub.status.busy": "2022-09-13T15:33:49.000286Z",
     "iopub.status.idle": "2022-09-13T15:33:49.031149Z",
     "shell.execute_reply": "2022-09-13T15:33:49.030625Z"
    },
    "papermill": {
     "duration": 0.036396,
     "end_time": "2022-09-13T15:33:49.032428",
     "exception": false,
     "start_time": "2022-09-13T15:33:48.996032",
     "status": "completed"
    },
    "tags": []
   },
   "outputs": [
    {
     "data": {
      "text/html": [
       "<div>\n",
       "<style scoped>\n",
       "    .dataframe tbody tr th:only-of-type {\n",
       "        vertical-align: middle;\n",
       "    }\n",
       "\n",
       "    .dataframe tbody tr th {\n",
       "        vertical-align: top;\n",
       "    }\n",
       "\n",
       "    .dataframe thead th {\n",
       "        text-align: right;\n",
       "    }\n",
       "</style>\n",
       "<table border=\"1\" class=\"dataframe\">\n",
       "  <thead>\n",
       "    <tr style=\"text-align: right;\">\n",
       "      <th></th>\n",
       "      <th>LV1</th>\n",
       "      <th>LV2</th>\n",
       "      <th>LV3</th>\n",
       "      <th>LV4</th>\n",
       "      <th>LV5</th>\n",
       "      <th>LV6</th>\n",
       "      <th>LV7</th>\n",
       "      <th>LV8</th>\n",
       "      <th>LV9</th>\n",
       "      <th>LV10</th>\n",
       "      <th>...</th>\n",
       "      <th>LV978</th>\n",
       "      <th>LV979</th>\n",
       "      <th>LV980</th>\n",
       "      <th>LV981</th>\n",
       "      <th>LV982</th>\n",
       "      <th>LV983</th>\n",
       "      <th>LV984</th>\n",
       "      <th>LV985</th>\n",
       "      <th>LV986</th>\n",
       "      <th>LV987</th>\n",
       "    </tr>\n",
       "  </thead>\n",
       "  <tbody>\n",
       "    <tr>\n",
       "      <th>100001_raw-Food_weight</th>\n",
       "      <td>-0.004991</td>\n",
       "      <td>-0.020160</td>\n",
       "      <td>-0.026030</td>\n",
       "      <td>0.020068</td>\n",
       "      <td>0.011753</td>\n",
       "      <td>0.017012</td>\n",
       "      <td>0.049228</td>\n",
       "      <td>-0.027804</td>\n",
       "      <td>0.020122</td>\n",
       "      <td>-0.043951</td>\n",
       "      <td>...</td>\n",
       "      <td>-0.027612</td>\n",
       "      <td>0.011046</td>\n",
       "      <td>-0.014123</td>\n",
       "      <td>-0.026495</td>\n",
       "      <td>-0.034632</td>\n",
       "      <td>-0.007654</td>\n",
       "      <td>0.039811</td>\n",
       "      <td>0.001866</td>\n",
       "      <td>-0.026045</td>\n",
       "      <td>0.024954</td>\n",
       "    </tr>\n",
       "    <tr>\n",
       "      <th>100002_raw-Energy</th>\n",
       "      <td>0.015146</td>\n",
       "      <td>0.025381</td>\n",
       "      <td>0.030990</td>\n",
       "      <td>-0.004168</td>\n",
       "      <td>0.006254</td>\n",
       "      <td>0.014020</td>\n",
       "      <td>0.006114</td>\n",
       "      <td>-0.039952</td>\n",
       "      <td>-0.004144</td>\n",
       "      <td>0.029471</td>\n",
       "      <td>...</td>\n",
       "      <td>-0.017800</td>\n",
       "      <td>0.018595</td>\n",
       "      <td>-0.003060</td>\n",
       "      <td>-0.044417</td>\n",
       "      <td>0.021673</td>\n",
       "      <td>0.009405</td>\n",
       "      <td>-0.019020</td>\n",
       "      <td>0.042079</td>\n",
       "      <td>0.016351</td>\n",
       "      <td>0.032201</td>\n",
       "    </tr>\n",
       "    <tr>\n",
       "      <th>100003_raw-Protein</th>\n",
       "      <td>0.011558</td>\n",
       "      <td>0.026267</td>\n",
       "      <td>-0.008830</td>\n",
       "      <td>0.023151</td>\n",
       "      <td>-0.014700</td>\n",
       "      <td>0.015522</td>\n",
       "      <td>0.010072</td>\n",
       "      <td>0.005893</td>\n",
       "      <td>0.030038</td>\n",
       "      <td>-0.053161</td>\n",
       "      <td>...</td>\n",
       "      <td>-0.014480</td>\n",
       "      <td>0.008231</td>\n",
       "      <td>-0.004317</td>\n",
       "      <td>-0.038221</td>\n",
       "      <td>0.008717</td>\n",
       "      <td>0.017687</td>\n",
       "      <td>0.014660</td>\n",
       "      <td>-0.003575</td>\n",
       "      <td>-0.024418</td>\n",
       "      <td>-0.032628</td>\n",
       "    </tr>\n",
       "    <tr>\n",
       "      <th>100004_raw-Fat</th>\n",
       "      <td>-0.004454</td>\n",
       "      <td>0.025022</td>\n",
       "      <td>0.010287</td>\n",
       "      <td>-0.045471</td>\n",
       "      <td>0.035624</td>\n",
       "      <td>0.054628</td>\n",
       "      <td>-0.015242</td>\n",
       "      <td>-0.031907</td>\n",
       "      <td>0.007947</td>\n",
       "      <td>0.024257</td>\n",
       "      <td>...</td>\n",
       "      <td>-0.012052</td>\n",
       "      <td>-0.036220</td>\n",
       "      <td>-0.009773</td>\n",
       "      <td>0.024453</td>\n",
       "      <td>-0.020112</td>\n",
       "      <td>0.032634</td>\n",
       "      <td>-0.000500</td>\n",
       "      <td>0.010128</td>\n",
       "      <td>-0.000518</td>\n",
       "      <td>0.051511</td>\n",
       "    </tr>\n",
       "    <tr>\n",
       "      <th>100005_raw-Carbohydrate</th>\n",
       "      <td>-0.004064</td>\n",
       "      <td>-0.014816</td>\n",
       "      <td>0.027811</td>\n",
       "      <td>0.015872</td>\n",
       "      <td>-0.012119</td>\n",
       "      <td>-0.035210</td>\n",
       "      <td>-0.035111</td>\n",
       "      <td>0.026068</td>\n",
       "      <td>0.031480</td>\n",
       "      <td>0.001849</td>\n",
       "      <td>...</td>\n",
       "      <td>0.044601</td>\n",
       "      <td>-0.002078</td>\n",
       "      <td>-0.002292</td>\n",
       "      <td>-0.038174</td>\n",
       "      <td>-0.012224</td>\n",
       "      <td>0.012797</td>\n",
       "      <td>0.048189</td>\n",
       "      <td>-0.026752</td>\n",
       "      <td>0.000800</td>\n",
       "      <td>0.019285</td>\n",
       "    </tr>\n",
       "  </tbody>\n",
       "</table>\n",
       "<p>5 rows × 987 columns</p>\n",
       "</div>"
      ],
      "text/plain": [
       "                              LV1       LV2       LV3       LV4       LV5  \\\n",
       "100001_raw-Food_weight  -0.004991 -0.020160 -0.026030  0.020068  0.011753   \n",
       "100002_raw-Energy        0.015146  0.025381  0.030990 -0.004168  0.006254   \n",
       "100003_raw-Protein       0.011558  0.026267 -0.008830  0.023151 -0.014700   \n",
       "100004_raw-Fat          -0.004454  0.025022  0.010287 -0.045471  0.035624   \n",
       "100005_raw-Carbohydrate -0.004064 -0.014816  0.027811  0.015872 -0.012119   \n",
       "\n",
       "                              LV6       LV7       LV8       LV9      LV10  \\\n",
       "100001_raw-Food_weight   0.017012  0.049228 -0.027804  0.020122 -0.043951   \n",
       "100002_raw-Energy        0.014020  0.006114 -0.039952 -0.004144  0.029471   \n",
       "100003_raw-Protein       0.015522  0.010072  0.005893  0.030038 -0.053161   \n",
       "100004_raw-Fat           0.054628 -0.015242 -0.031907  0.007947  0.024257   \n",
       "100005_raw-Carbohydrate -0.035210 -0.035111  0.026068  0.031480  0.001849   \n",
       "\n",
       "                         ...     LV978     LV979     LV980     LV981  \\\n",
       "100001_raw-Food_weight   ... -0.027612  0.011046 -0.014123 -0.026495   \n",
       "100002_raw-Energy        ... -0.017800  0.018595 -0.003060 -0.044417   \n",
       "100003_raw-Protein       ... -0.014480  0.008231 -0.004317 -0.038221   \n",
       "100004_raw-Fat           ... -0.012052 -0.036220 -0.009773  0.024453   \n",
       "100005_raw-Carbohydrate  ...  0.044601 -0.002078 -0.002292 -0.038174   \n",
       "\n",
       "                            LV982     LV983     LV984     LV985     LV986  \\\n",
       "100001_raw-Food_weight  -0.034632 -0.007654  0.039811  0.001866 -0.026045   \n",
       "100002_raw-Energy        0.021673  0.009405 -0.019020  0.042079  0.016351   \n",
       "100003_raw-Protein       0.008717  0.017687  0.014660 -0.003575 -0.024418   \n",
       "100004_raw-Fat          -0.020112  0.032634 -0.000500  0.010128 -0.000518   \n",
       "100005_raw-Carbohydrate -0.012224  0.012797  0.048189 -0.026752  0.000800   \n",
       "\n",
       "                            LV987  \n",
       "100001_raw-Food_weight   0.024954  \n",
       "100002_raw-Energy        0.032201  \n",
       "100003_raw-Protein      -0.032628  \n",
       "100004_raw-Fat           0.051511  \n",
       "100005_raw-Carbohydrate  0.019285  \n",
       "\n",
       "[5 rows x 987 columns]"
      ]
     },
     "metadata": {},
     "output_type": "display_data"
    }
   ],
   "source": [
    "display(data.head())"
   ]
  },
  {
   "cell_type": "markdown",
   "id": "e85f6f5c",
   "metadata": {
    "papermill": {
     "duration": 0.003409,
     "end_time": "2022-09-13T15:33:49.039583",
     "exception": false,
     "start_time": "2022-09-13T15:33:49.036174",
     "status": "completed"
    },
    "tags": []
   },
   "source": [
    "# z-score standardization"
   ]
  },
  {
   "cell_type": "code",
   "execution_count": 9,
   "id": "fb150ab7",
   "metadata": {
    "execution": {
     "iopub.execute_input": "2022-09-13T15:33:49.047163Z",
     "iopub.status.busy": "2022-09-13T15:33:49.047003Z",
     "iopub.status.idle": "2022-09-13T15:33:49.090771Z",
     "shell.execute_reply": "2022-09-13T15:33:49.090175Z"
    },
    "papermill": {
     "duration": 0.049161,
     "end_time": "2022-09-13T15:33:49.092176",
     "exception": false,
     "start_time": "2022-09-13T15:33:49.043015",
     "status": "completed"
    },
    "tags": []
   },
   "outputs": [
    {
     "data": {
      "text/html": [
       "<div>\n",
       "<style scoped>\n",
       "    .dataframe tbody tr th:only-of-type {\n",
       "        vertical-align: middle;\n",
       "    }\n",
       "\n",
       "    .dataframe tbody tr th {\n",
       "        vertical-align: top;\n",
       "    }\n",
       "\n",
       "    .dataframe thead th {\n",
       "        text-align: right;\n",
       "    }\n",
       "</style>\n",
       "<table border=\"1\" class=\"dataframe\">\n",
       "  <thead>\n",
       "    <tr style=\"text-align: right;\">\n",
       "      <th></th>\n",
       "      <th>LV1</th>\n",
       "      <th>LV2</th>\n",
       "      <th>LV3</th>\n",
       "      <th>LV4</th>\n",
       "      <th>LV5</th>\n",
       "      <th>LV6</th>\n",
       "      <th>LV7</th>\n",
       "      <th>LV8</th>\n",
       "      <th>LV9</th>\n",
       "      <th>LV10</th>\n",
       "    </tr>\n",
       "  </thead>\n",
       "  <tbody>\n",
       "    <tr>\n",
       "      <th>count</th>\n",
       "      <td>3.752000e+03</td>\n",
       "      <td>3.752000e+03</td>\n",
       "      <td>3.752000e+03</td>\n",
       "      <td>3.752000e+03</td>\n",
       "      <td>3.752000e+03</td>\n",
       "      <td>3.752000e+03</td>\n",
       "      <td>3.752000e+03</td>\n",
       "      <td>3.752000e+03</td>\n",
       "      <td>3.752000e+03</td>\n",
       "      <td>3.752000e+03</td>\n",
       "    </tr>\n",
       "    <tr>\n",
       "      <th>mean</th>\n",
       "      <td>4.556886e-18</td>\n",
       "      <td>1.361148e-18</td>\n",
       "      <td>-1.124426e-18</td>\n",
       "      <td>2.367213e-18</td>\n",
       "      <td>-9.468853e-19</td>\n",
       "      <td>-7.101640e-19</td>\n",
       "      <td>3.743156e-18</td>\n",
       "      <td>3.846722e-18</td>\n",
       "      <td>-8.729099e-19</td>\n",
       "      <td>-2.337623e-18</td>\n",
       "    </tr>\n",
       "    <tr>\n",
       "      <th>std</th>\n",
       "      <td>2.851547e-02</td>\n",
       "      <td>2.839185e-02</td>\n",
       "      <td>2.601169e-02</td>\n",
       "      <td>2.896133e-02</td>\n",
       "      <td>2.871084e-02</td>\n",
       "      <td>2.646271e-02</td>\n",
       "      <td>2.785000e-02</td>\n",
       "      <td>2.597797e-02</td>\n",
       "      <td>2.486356e-02</td>\n",
       "      <td>2.826685e-02</td>\n",
       "    </tr>\n",
       "    <tr>\n",
       "      <th>min</th>\n",
       "      <td>-1.120355e-01</td>\n",
       "      <td>-1.015075e-01</td>\n",
       "      <td>-8.524020e-02</td>\n",
       "      <td>-1.071991e-01</td>\n",
       "      <td>-8.668615e-02</td>\n",
       "      <td>-1.215630e-01</td>\n",
       "      <td>-9.090851e-02</td>\n",
       "      <td>-8.776256e-02</td>\n",
       "      <td>-9.062002e-02</td>\n",
       "      <td>-8.284056e-02</td>\n",
       "    </tr>\n",
       "    <tr>\n",
       "      <th>25%</th>\n",
       "      <td>-1.855408e-02</td>\n",
       "      <td>-1.926075e-02</td>\n",
       "      <td>-1.722247e-02</td>\n",
       "      <td>-1.968283e-02</td>\n",
       "      <td>-2.006003e-02</td>\n",
       "      <td>-1.810400e-02</td>\n",
       "      <td>-1.863630e-02</td>\n",
       "      <td>-1.769060e-02</td>\n",
       "      <td>-1.649458e-02</td>\n",
       "      <td>-1.952048e-02</td>\n",
       "    </tr>\n",
       "    <tr>\n",
       "      <th>50%</th>\n",
       "      <td>-8.137997e-04</td>\n",
       "      <td>-8.927103e-04</td>\n",
       "      <td>-1.458560e-04</td>\n",
       "      <td>-1.200660e-04</td>\n",
       "      <td>-1.103916e-03</td>\n",
       "      <td>1.469371e-04</td>\n",
       "      <td>-1.021344e-03</td>\n",
       "      <td>-9.058482e-04</td>\n",
       "      <td>-7.845392e-05</td>\n",
       "      <td>-2.889262e-04</td>\n",
       "    </tr>\n",
       "    <tr>\n",
       "      <th>75%</th>\n",
       "      <td>1.803097e-02</td>\n",
       "      <td>1.816413e-02</td>\n",
       "      <td>1.684615e-02</td>\n",
       "      <td>1.861076e-02</td>\n",
       "      <td>1.829824e-02</td>\n",
       "      <td>1.733025e-02</td>\n",
       "      <td>1.766101e-02</td>\n",
       "      <td>1.689003e-02</td>\n",
       "      <td>1.608497e-02</td>\n",
       "      <td>1.776515e-02</td>\n",
       "    </tr>\n",
       "    <tr>\n",
       "      <th>max</th>\n",
       "      <td>1.318461e-01</td>\n",
       "      <td>1.379319e-01</td>\n",
       "      <td>2.187188e-01</td>\n",
       "      <td>1.073417e-01</td>\n",
       "      <td>1.785174e-01</td>\n",
       "      <td>1.469357e-01</td>\n",
       "      <td>1.004747e-01</td>\n",
       "      <td>1.862624e-01</td>\n",
       "      <td>1.982892e-01</td>\n",
       "      <td>1.460073e-01</td>\n",
       "    </tr>\n",
       "  </tbody>\n",
       "</table>\n",
       "</div>"
      ],
      "text/plain": [
       "                LV1           LV2           LV3           LV4           LV5  \\\n",
       "count  3.752000e+03  3.752000e+03  3.752000e+03  3.752000e+03  3.752000e+03   \n",
       "mean   4.556886e-18  1.361148e-18 -1.124426e-18  2.367213e-18 -9.468853e-19   \n",
       "std    2.851547e-02  2.839185e-02  2.601169e-02  2.896133e-02  2.871084e-02   \n",
       "min   -1.120355e-01 -1.015075e-01 -8.524020e-02 -1.071991e-01 -8.668615e-02   \n",
       "25%   -1.855408e-02 -1.926075e-02 -1.722247e-02 -1.968283e-02 -2.006003e-02   \n",
       "50%   -8.137997e-04 -8.927103e-04 -1.458560e-04 -1.200660e-04 -1.103916e-03   \n",
       "75%    1.803097e-02  1.816413e-02  1.684615e-02  1.861076e-02  1.829824e-02   \n",
       "max    1.318461e-01  1.379319e-01  2.187188e-01  1.073417e-01  1.785174e-01   \n",
       "\n",
       "                LV6           LV7           LV8           LV9          LV10  \n",
       "count  3.752000e+03  3.752000e+03  3.752000e+03  3.752000e+03  3.752000e+03  \n",
       "mean  -7.101640e-19  3.743156e-18  3.846722e-18 -8.729099e-19 -2.337623e-18  \n",
       "std    2.646271e-02  2.785000e-02  2.597797e-02  2.486356e-02  2.826685e-02  \n",
       "min   -1.215630e-01 -9.090851e-02 -8.776256e-02 -9.062002e-02 -8.284056e-02  \n",
       "25%   -1.810400e-02 -1.863630e-02 -1.769060e-02 -1.649458e-02 -1.952048e-02  \n",
       "50%    1.469371e-04 -1.021344e-03 -9.058482e-04 -7.845392e-05 -2.889262e-04  \n",
       "75%    1.733025e-02  1.766101e-02  1.689003e-02  1.608497e-02  1.776515e-02  \n",
       "max    1.469357e-01  1.004747e-01  1.862624e-01  1.982892e-01  1.460073e-01  "
      ]
     },
     "metadata": {},
     "output_type": "display_data"
    }
   ],
   "source": [
    "data_stats = data.iloc[:, :10].describe()\n",
    "display(data_stats)"
   ]
  },
  {
   "cell_type": "code",
   "execution_count": 10,
   "id": "ed154348",
   "metadata": {
    "execution": {
     "iopub.execute_input": "2022-09-13T15:33:49.100876Z",
     "iopub.status.busy": "2022-09-13T15:33:49.100282Z",
     "iopub.status.idle": "2022-09-13T15:33:49.210055Z",
     "shell.execute_reply": "2022-09-13T15:33:49.209300Z"
    },
    "papermill": {
     "duration": 0.115732,
     "end_time": "2022-09-13T15:33:49.211686",
     "exception": false,
     "start_time": "2022-09-13T15:33:49.095954",
     "status": "completed"
    },
    "tags": []
   },
   "outputs": [],
   "source": [
    "scaled_data = pd.DataFrame(\n",
    "    data=scale(data), index=data.index.copy(), columns=data.columns.copy()\n",
    ")"
   ]
  },
  {
   "cell_type": "code",
   "execution_count": 11,
   "id": "9007e814",
   "metadata": {
    "execution": {
     "iopub.execute_input": "2022-09-13T15:33:49.221207Z",
     "iopub.status.busy": "2022-09-13T15:33:49.221030Z",
     "iopub.status.idle": "2022-09-13T15:33:49.238822Z",
     "shell.execute_reply": "2022-09-13T15:33:49.238295Z"
    },
    "papermill": {
     "duration": 0.024025,
     "end_time": "2022-09-13T15:33:49.240239",
     "exception": false,
     "start_time": "2022-09-13T15:33:49.216214",
     "status": "completed"
    },
    "tags": []
   },
   "outputs": [
    {
     "data": {
      "text/plain": [
       "(3752, 987)"
      ]
     },
     "metadata": {},
     "output_type": "display_data"
    }
   ],
   "source": [
    "display(scaled_data.shape)"
   ]
  },
  {
   "cell_type": "code",
   "execution_count": 12,
   "id": "0c8c415a",
   "metadata": {
    "execution": {
     "iopub.execute_input": "2022-09-13T15:33:49.249821Z",
     "iopub.status.busy": "2022-09-13T15:33:49.249645Z",
     "iopub.status.idle": "2022-09-13T15:33:49.280002Z",
     "shell.execute_reply": "2022-09-13T15:33:49.279430Z"
    },
    "papermill": {
     "duration": 0.036679,
     "end_time": "2022-09-13T15:33:49.281389",
     "exception": false,
     "start_time": "2022-09-13T15:33:49.244710",
     "status": "completed"
    },
    "tags": []
   },
   "outputs": [
    {
     "data": {
      "text/html": [
       "<div>\n",
       "<style scoped>\n",
       "    .dataframe tbody tr th:only-of-type {\n",
       "        vertical-align: middle;\n",
       "    }\n",
       "\n",
       "    .dataframe tbody tr th {\n",
       "        vertical-align: top;\n",
       "    }\n",
       "\n",
       "    .dataframe thead th {\n",
       "        text-align: right;\n",
       "    }\n",
       "</style>\n",
       "<table border=\"1\" class=\"dataframe\">\n",
       "  <thead>\n",
       "    <tr style=\"text-align: right;\">\n",
       "      <th></th>\n",
       "      <th>LV1</th>\n",
       "      <th>LV2</th>\n",
       "      <th>LV3</th>\n",
       "      <th>LV4</th>\n",
       "      <th>LV5</th>\n",
       "      <th>LV6</th>\n",
       "      <th>LV7</th>\n",
       "      <th>LV8</th>\n",
       "      <th>LV9</th>\n",
       "      <th>LV10</th>\n",
       "      <th>...</th>\n",
       "      <th>LV978</th>\n",
       "      <th>LV979</th>\n",
       "      <th>LV980</th>\n",
       "      <th>LV981</th>\n",
       "      <th>LV982</th>\n",
       "      <th>LV983</th>\n",
       "      <th>LV984</th>\n",
       "      <th>LV985</th>\n",
       "      <th>LV986</th>\n",
       "      <th>LV987</th>\n",
       "    </tr>\n",
       "  </thead>\n",
       "  <tbody>\n",
       "    <tr>\n",
       "      <th>100001_raw-Food_weight</th>\n",
       "      <td>-0.175043</td>\n",
       "      <td>-0.710171</td>\n",
       "      <td>-1.000846</td>\n",
       "      <td>0.693026</td>\n",
       "      <td>0.409413</td>\n",
       "      <td>0.642958</td>\n",
       "      <td>1.767862</td>\n",
       "      <td>-1.070425</td>\n",
       "      <td>0.809395</td>\n",
       "      <td>-1.555050</td>\n",
       "      <td>...</td>\n",
       "      <td>-0.932802</td>\n",
       "      <td>0.371349</td>\n",
       "      <td>-0.521787</td>\n",
       "      <td>-0.881136</td>\n",
       "      <td>-1.193309</td>\n",
       "      <td>-0.257883</td>\n",
       "      <td>1.382268</td>\n",
       "      <td>0.066549</td>\n",
       "      <td>-0.866086</td>\n",
       "      <td>0.847997</td>\n",
       "    </tr>\n",
       "    <tr>\n",
       "      <th>100002_raw-Energy</th>\n",
       "      <td>0.531227</td>\n",
       "      <td>0.894062</td>\n",
       "      <td>1.191552</td>\n",
       "      <td>-0.143922</td>\n",
       "      <td>0.217867</td>\n",
       "      <td>0.529878</td>\n",
       "      <td>0.219561</td>\n",
       "      <td>-1.538143</td>\n",
       "      <td>-0.166704</td>\n",
       "      <td>1.042749</td>\n",
       "      <td>...</td>\n",
       "      <td>-0.601329</td>\n",
       "      <td>0.625139</td>\n",
       "      <td>-0.113048</td>\n",
       "      <td>-1.477163</td>\n",
       "      <td>0.746773</td>\n",
       "      <td>0.316892</td>\n",
       "      <td>-0.660407</td>\n",
       "      <td>1.501067</td>\n",
       "      <td>0.543744</td>\n",
       "      <td>1.094294</td>\n",
       "    </tr>\n",
       "    <tr>\n",
       "      <th>100003_raw-Protein</th>\n",
       "      <td>0.405395</td>\n",
       "      <td>0.925288</td>\n",
       "      <td>-0.339507</td>\n",
       "      <td>0.799476</td>\n",
       "      <td>-0.512075</td>\n",
       "      <td>0.586632</td>\n",
       "      <td>0.361706</td>\n",
       "      <td>0.226860</td>\n",
       "      <td>1.208289</td>\n",
       "      <td>-1.880931</td>\n",
       "      <td>...</td>\n",
       "      <td>-0.489171</td>\n",
       "      <td>0.276717</td>\n",
       "      <td>-0.159505</td>\n",
       "      <td>-1.271106</td>\n",
       "      <td>0.300351</td>\n",
       "      <td>0.595915</td>\n",
       "      <td>0.509020</td>\n",
       "      <td>-0.127540</td>\n",
       "      <td>-0.811987</td>\n",
       "      <td>-1.108812</td>\n",
       "    </tr>\n",
       "    <tr>\n",
       "      <th>100004_raw-Fat</th>\n",
       "      <td>-0.156230</td>\n",
       "      <td>0.881426</td>\n",
       "      <td>0.395527</td>\n",
       "      <td>-1.570256</td>\n",
       "      <td>1.240955</td>\n",
       "      <td>2.064595</td>\n",
       "      <td>-0.547373</td>\n",
       "      <td>-1.228389</td>\n",
       "      <td>0.319684</td>\n",
       "      <td>0.858253</td>\n",
       "      <td>...</td>\n",
       "      <td>-0.407151</td>\n",
       "      <td>-1.217662</td>\n",
       "      <td>-0.361052</td>\n",
       "      <td>0.813221</td>\n",
       "      <td>-0.692981</td>\n",
       "      <td>1.099523</td>\n",
       "      <td>-0.017366</td>\n",
       "      <td>0.361278</td>\n",
       "      <td>-0.017222</td>\n",
       "      <td>1.750511</td>\n",
       "    </tr>\n",
       "    <tr>\n",
       "      <th>100005_raw-Carbohydrate</th>\n",
       "      <td>-0.142531</td>\n",
       "      <td>-0.521907</td>\n",
       "      <td>1.069304</td>\n",
       "      <td>0.548122</td>\n",
       "      <td>-0.422146</td>\n",
       "      <td>-1.330718</td>\n",
       "      <td>-1.260872</td>\n",
       "      <td>1.003617</td>\n",
       "      <td>1.266289</td>\n",
       "      <td>0.065408</td>\n",
       "      <td>...</td>\n",
       "      <td>1.506698</td>\n",
       "      <td>-0.069854</td>\n",
       "      <td>-0.084662</td>\n",
       "      <td>-1.269536</td>\n",
       "      <td>-0.421185</td>\n",
       "      <td>0.431180</td>\n",
       "      <td>1.673162</td>\n",
       "      <td>-0.954336</td>\n",
       "      <td>0.026593</td>\n",
       "      <td>0.655359</td>\n",
       "    </tr>\n",
       "  </tbody>\n",
       "</table>\n",
       "<p>5 rows × 987 columns</p>\n",
       "</div>"
      ],
      "text/plain": [
       "                              LV1       LV2       LV3       LV4       LV5  \\\n",
       "100001_raw-Food_weight  -0.175043 -0.710171 -1.000846  0.693026  0.409413   \n",
       "100002_raw-Energy        0.531227  0.894062  1.191552 -0.143922  0.217867   \n",
       "100003_raw-Protein       0.405395  0.925288 -0.339507  0.799476 -0.512075   \n",
       "100004_raw-Fat          -0.156230  0.881426  0.395527 -1.570256  1.240955   \n",
       "100005_raw-Carbohydrate -0.142531 -0.521907  1.069304  0.548122 -0.422146   \n",
       "\n",
       "                              LV6       LV7       LV8       LV9      LV10  \\\n",
       "100001_raw-Food_weight   0.642958  1.767862 -1.070425  0.809395 -1.555050   \n",
       "100002_raw-Energy        0.529878  0.219561 -1.538143 -0.166704  1.042749   \n",
       "100003_raw-Protein       0.586632  0.361706  0.226860  1.208289 -1.880931   \n",
       "100004_raw-Fat           2.064595 -0.547373 -1.228389  0.319684  0.858253   \n",
       "100005_raw-Carbohydrate -1.330718 -1.260872  1.003617  1.266289  0.065408   \n",
       "\n",
       "                         ...     LV978     LV979     LV980     LV981  \\\n",
       "100001_raw-Food_weight   ... -0.932802  0.371349 -0.521787 -0.881136   \n",
       "100002_raw-Energy        ... -0.601329  0.625139 -0.113048 -1.477163   \n",
       "100003_raw-Protein       ... -0.489171  0.276717 -0.159505 -1.271106   \n",
       "100004_raw-Fat           ... -0.407151 -1.217662 -0.361052  0.813221   \n",
       "100005_raw-Carbohydrate  ...  1.506698 -0.069854 -0.084662 -1.269536   \n",
       "\n",
       "                            LV982     LV983     LV984     LV985     LV986  \\\n",
       "100001_raw-Food_weight  -1.193309 -0.257883  1.382268  0.066549 -0.866086   \n",
       "100002_raw-Energy        0.746773  0.316892 -0.660407  1.501067  0.543744   \n",
       "100003_raw-Protein       0.300351  0.595915  0.509020 -0.127540 -0.811987   \n",
       "100004_raw-Fat          -0.692981  1.099523 -0.017366  0.361278 -0.017222   \n",
       "100005_raw-Carbohydrate -0.421185  0.431180  1.673162 -0.954336  0.026593   \n",
       "\n",
       "                            LV987  \n",
       "100001_raw-Food_weight   0.847997  \n",
       "100002_raw-Energy        1.094294  \n",
       "100003_raw-Protein      -1.108812  \n",
       "100004_raw-Fat           1.750511  \n",
       "100005_raw-Carbohydrate  0.655359  \n",
       "\n",
       "[5 rows x 987 columns]"
      ]
     },
     "metadata": {},
     "output_type": "display_data"
    }
   ],
   "source": [
    "display(scaled_data.head())"
   ]
  },
  {
   "cell_type": "code",
   "execution_count": 13,
   "id": "3b226860",
   "metadata": {
    "execution": {
     "iopub.execute_input": "2022-09-13T15:33:49.291621Z",
     "iopub.status.busy": "2022-09-13T15:33:49.291439Z",
     "iopub.status.idle": "2022-09-13T15:33:49.335832Z",
     "shell.execute_reply": "2022-09-13T15:33:49.335277Z"
    },
    "papermill": {
     "duration": 0.051467,
     "end_time": "2022-09-13T15:33:49.337541",
     "exception": false,
     "start_time": "2022-09-13T15:33:49.286074",
     "status": "completed"
    },
    "tags": []
   },
   "outputs": [
    {
     "data": {
      "text/html": [
       "<div>\n",
       "<style scoped>\n",
       "    .dataframe tbody tr th:only-of-type {\n",
       "        vertical-align: middle;\n",
       "    }\n",
       "\n",
       "    .dataframe tbody tr th {\n",
       "        vertical-align: top;\n",
       "    }\n",
       "\n",
       "    .dataframe thead th {\n",
       "        text-align: right;\n",
       "    }\n",
       "</style>\n",
       "<table border=\"1\" class=\"dataframe\">\n",
       "  <thead>\n",
       "    <tr style=\"text-align: right;\">\n",
       "      <th></th>\n",
       "      <th>LV1</th>\n",
       "      <th>LV2</th>\n",
       "      <th>LV3</th>\n",
       "      <th>LV4</th>\n",
       "      <th>LV5</th>\n",
       "      <th>LV6</th>\n",
       "      <th>LV7</th>\n",
       "      <th>LV8</th>\n",
       "      <th>LV9</th>\n",
       "      <th>LV10</th>\n",
       "    </tr>\n",
       "  </thead>\n",
       "  <tbody>\n",
       "    <tr>\n",
       "      <th>count</th>\n",
       "      <td>3.752000e+03</td>\n",
       "      <td>3.752000e+03</td>\n",
       "      <td>3.752000e+03</td>\n",
       "      <td>3.752000e+03</td>\n",
       "      <td>3.752000e+03</td>\n",
       "      <td>3.752000e+03</td>\n",
       "      <td>3.752000e+03</td>\n",
       "      <td>3.752000e+03</td>\n",
       "      <td>3.752000e+03</td>\n",
       "      <td>3.752000e+03</td>\n",
       "    </tr>\n",
       "    <tr>\n",
       "      <th>mean</th>\n",
       "      <td>-9.468853e-18</td>\n",
       "      <td>2.367213e-17</td>\n",
       "      <td>-2.083148e-17</td>\n",
       "      <td>1.704394e-17</td>\n",
       "      <td>-1.988459e-17</td>\n",
       "      <td>-2.272525e-17</td>\n",
       "      <td>-1.846426e-17</td>\n",
       "      <td>-1.515016e-17</td>\n",
       "      <td>-7.101640e-18</td>\n",
       "      <td>-6.154755e-18</td>\n",
       "    </tr>\n",
       "    <tr>\n",
       "      <th>std</th>\n",
       "      <td>1.000133e+00</td>\n",
       "      <td>1.000133e+00</td>\n",
       "      <td>1.000133e+00</td>\n",
       "      <td>1.000133e+00</td>\n",
       "      <td>1.000133e+00</td>\n",
       "      <td>1.000133e+00</td>\n",
       "      <td>1.000133e+00</td>\n",
       "      <td>1.000133e+00</td>\n",
       "      <td>1.000133e+00</td>\n",
       "      <td>1.000133e+00</td>\n",
       "    </tr>\n",
       "    <tr>\n",
       "      <th>min</th>\n",
       "      <td>-3.929463e+00</td>\n",
       "      <td>-3.575712e+00</td>\n",
       "      <td>-3.277433e+00</td>\n",
       "      <td>-3.701949e+00</td>\n",
       "      <td>-3.019686e+00</td>\n",
       "      <td>-4.594361e+00</td>\n",
       "      <td>-3.264654e+00</td>\n",
       "      <td>-3.378796e+00</td>\n",
       "      <td>-3.645178e+00</td>\n",
       "      <td>-2.931052e+00</td>\n",
       "    </tr>\n",
       "    <tr>\n",
       "      <th>25%</th>\n",
       "      <td>-6.507538e-01</td>\n",
       "      <td>-6.784805e-01</td>\n",
       "      <td>-6.621935e-01</td>\n",
       "      <td>-6.797152e-01</td>\n",
       "      <td>-6.987850e-01</td>\n",
       "      <td>-6.842237e-01</td>\n",
       "      <td>-6.692562e-01</td>\n",
       "      <td>-6.810757e-01</td>\n",
       "      <td>-6.634920e-01</td>\n",
       "      <td>-6.906704e-01</td>\n",
       "    </tr>\n",
       "    <tr>\n",
       "      <th>50%</th>\n",
       "      <td>-2.854269e-02</td>\n",
       "      <td>-3.144668e-02</td>\n",
       "      <td>-5.608072e-03</td>\n",
       "      <td>-4.146288e-03</td>\n",
       "      <td>-3.845457e-02</td>\n",
       "      <td>5.553349e-03</td>\n",
       "      <td>-3.667792e-02</td>\n",
       "      <td>-3.487451e-02</td>\n",
       "      <td>-3.155798e-03</td>\n",
       "      <td>-1.022274e-02</td>\n",
       "    </tr>\n",
       "    <tr>\n",
       "      <th>75%</th>\n",
       "      <td>6.324069e-01</td>\n",
       "      <td>6.398510e-01</td>\n",
       "      <td>6.477239e-01</td>\n",
       "      <td>6.426929e-01</td>\n",
       "      <td>6.374135e-01</td>\n",
       "      <td>6.549806e-01</td>\n",
       "      <td>6.342319e-01</td>\n",
       "      <td>6.502541e-01</td>\n",
       "      <td>6.470156e-01</td>\n",
       "      <td>6.285638e-01</td>\n",
       "    </tr>\n",
       "    <tr>\n",
       "      <th>max</th>\n",
       "      <td>4.624285e+00</td>\n",
       "      <td>4.858798e+00</td>\n",
       "      <td>8.409602e+00</td>\n",
       "      <td>3.706873e+00</td>\n",
       "      <td>6.218598e+00</td>\n",
       "      <td>5.553296e+00</td>\n",
       "      <td>3.608190e+00</td>\n",
       "      <td>7.170969e+00</td>\n",
       "      <td>7.976157e+00</td>\n",
       "      <td>5.166008e+00</td>\n",
       "    </tr>\n",
       "  </tbody>\n",
       "</table>\n",
       "</div>"
      ],
      "text/plain": [
       "                LV1           LV2           LV3           LV4           LV5  \\\n",
       "count  3.752000e+03  3.752000e+03  3.752000e+03  3.752000e+03  3.752000e+03   \n",
       "mean  -9.468853e-18  2.367213e-17 -2.083148e-17  1.704394e-17 -1.988459e-17   \n",
       "std    1.000133e+00  1.000133e+00  1.000133e+00  1.000133e+00  1.000133e+00   \n",
       "min   -3.929463e+00 -3.575712e+00 -3.277433e+00 -3.701949e+00 -3.019686e+00   \n",
       "25%   -6.507538e-01 -6.784805e-01 -6.621935e-01 -6.797152e-01 -6.987850e-01   \n",
       "50%   -2.854269e-02 -3.144668e-02 -5.608072e-03 -4.146288e-03 -3.845457e-02   \n",
       "75%    6.324069e-01  6.398510e-01  6.477239e-01  6.426929e-01  6.374135e-01   \n",
       "max    4.624285e+00  4.858798e+00  8.409602e+00  3.706873e+00  6.218598e+00   \n",
       "\n",
       "                LV6           LV7           LV8           LV9          LV10  \n",
       "count  3.752000e+03  3.752000e+03  3.752000e+03  3.752000e+03  3.752000e+03  \n",
       "mean  -2.272525e-17 -1.846426e-17 -1.515016e-17 -7.101640e-18 -6.154755e-18  \n",
       "std    1.000133e+00  1.000133e+00  1.000133e+00  1.000133e+00  1.000133e+00  \n",
       "min   -4.594361e+00 -3.264654e+00 -3.378796e+00 -3.645178e+00 -2.931052e+00  \n",
       "25%   -6.842237e-01 -6.692562e-01 -6.810757e-01 -6.634920e-01 -6.906704e-01  \n",
       "50%    5.553349e-03 -3.667792e-02 -3.487451e-02 -3.155798e-03 -1.022274e-02  \n",
       "75%    6.549806e-01  6.342319e-01  6.502541e-01  6.470156e-01  6.285638e-01  \n",
       "max    5.553296e+00  3.608190e+00  7.170969e+00  7.976157e+00  5.166008e+00  "
      ]
     },
     "metadata": {},
     "output_type": "display_data"
    }
   ],
   "source": [
    "scaled_data_stats = scaled_data.iloc[:, :10].describe()\n",
    "display(scaled_data_stats)"
   ]
  },
  {
   "cell_type": "markdown",
   "id": "857fde27",
   "metadata": {
    "papermill": {
     "duration": 0.003932,
     "end_time": "2022-09-13T15:33:49.345889",
     "exception": false,
     "start_time": "2022-09-13T15:33:49.341957",
     "status": "completed"
    },
    "tags": []
   },
   "source": [
    "## Testing"
   ]
  },
  {
   "cell_type": "code",
   "execution_count": 14,
   "id": "3e288084",
   "metadata": {
    "execution": {
     "iopub.execute_input": "2022-09-13T15:33:49.355016Z",
     "iopub.status.busy": "2022-09-13T15:33:49.354853Z",
     "iopub.status.idle": "2022-09-13T15:33:49.371052Z",
     "shell.execute_reply": "2022-09-13T15:33:49.370579Z"
    },
    "papermill": {
     "duration": 0.02252,
     "end_time": "2022-09-13T15:33:49.372385",
     "exception": false,
     "start_time": "2022-09-13T15:33:49.349865",
     "status": "completed"
    },
    "tags": []
   },
   "outputs": [],
   "source": [
    "assert np.all(\n",
    "    [\n",
    "        np.isclose(scaled_data_stats.loc[\"mean\", c], 0.0)\n",
    "        for c in scaled_data_stats.columns\n",
    "    ]\n",
    ")"
   ]
  },
  {
   "cell_type": "code",
   "execution_count": 15,
   "id": "2eab5981",
   "metadata": {
    "execution": {
     "iopub.execute_input": "2022-09-13T15:33:49.382230Z",
     "iopub.status.busy": "2022-09-13T15:33:49.381804Z",
     "iopub.status.idle": "2022-09-13T15:33:49.398102Z",
     "shell.execute_reply": "2022-09-13T15:33:49.397528Z"
    },
    "papermill": {
     "duration": 0.022637,
     "end_time": "2022-09-13T15:33:49.399528",
     "exception": false,
     "start_time": "2022-09-13T15:33:49.376891",
     "status": "completed"
    },
    "tags": []
   },
   "outputs": [],
   "source": [
    "assert np.all(\n",
    "    [\n",
    "        np.isclose(scaled_data_stats.loc[\"std\", c], 1.0, atol=1e-03)\n",
    "        for c in scaled_data_stats.columns\n",
    "    ]\n",
    ")"
   ]
  },
  {
   "cell_type": "markdown",
   "id": "d62e7769",
   "metadata": {
    "papermill": {
     "duration": 0.004462,
     "end_time": "2022-09-13T15:33:49.408770",
     "exception": false,
     "start_time": "2022-09-13T15:33:49.404308",
     "status": "completed"
    },
    "tags": []
   },
   "source": [
    "# Save"
   ]
  },
  {
   "cell_type": "code",
   "execution_count": 16,
   "id": "65086bbb",
   "metadata": {
    "execution": {
     "iopub.execute_input": "2022-09-13T15:33:49.418460Z",
     "iopub.status.busy": "2022-09-13T15:33:49.418283Z",
     "iopub.status.idle": "2022-09-13T15:33:49.434547Z",
     "shell.execute_reply": "2022-09-13T15:33:49.433935Z"
    },
    "papermill": {
     "duration": 0.022562,
     "end_time": "2022-09-13T15:33:49.435875",
     "exception": false,
     "start_time": "2022-09-13T15:33:49.413313",
     "status": "completed"
    },
    "tags": []
   },
   "outputs": [
    {
     "data": {
      "text/plain": [
       "PosixPath('/opt/data/results/clustering/null_sims/data_transformations/z_score_std/z_score_std-projection-smultixcan-efo_partial-mashr-zscores.pkl')"
      ]
     },
     "metadata": {},
     "output_type": "display_data"
    }
   ],
   "source": [
    "output_file = Path(\n",
    "    RESULTS_DIR,\n",
    "    f\"z_score_std-{input_filepath_stem}.pkl\",\n",
    ").resolve()\n",
    "\n",
    "display(output_file)"
   ]
  },
  {
   "cell_type": "code",
   "execution_count": 17,
   "id": "21cafb39",
   "metadata": {
    "execution": {
     "iopub.execute_input": "2022-09-13T15:33:49.452102Z",
     "iopub.status.busy": "2022-09-13T15:33:49.451440Z",
     "iopub.status.idle": "2022-09-13T15:33:49.535083Z",
     "shell.execute_reply": "2022-09-13T15:33:49.534502Z"
    },
    "papermill": {
     "duration": 0.095402,
     "end_time": "2022-09-13T15:33:49.536652",
     "exception": false,
     "start_time": "2022-09-13T15:33:49.441250",
     "status": "completed"
    },
    "tags": []
   },
   "outputs": [],
   "source": [
    "scaled_data.to_pickle(output_file)"
   ]
  },
  {
   "cell_type": "code",
   "execution_count": null,
   "id": "9a99ecca",
   "metadata": {
    "papermill": {
     "duration": 0.017266,
     "end_time": "2022-09-13T15:33:49.559097",
     "exception": false,
     "start_time": "2022-09-13T15:33:49.541831",
     "status": "completed"
    },
    "tags": []
   },
   "outputs": [],
   "source": []
  }
 ],
 "metadata": {
  "jupytext": {
   "cell_metadata_filter": "all,-execution,-papermill,-trusted",
   "formats": "ipynb,py//py:percent"
  },
  "kernelspec": {
   "display_name": "Python 3 (ipykernel)",
   "language": "python",
   "name": "python3"
  },
  "language_info": {
   "codemirror_mode": {
    "name": "ipython",
    "version": 3
   },
   "file_extension": ".py",
   "mimetype": "text/x-python",
   "name": "python",
   "nbconvert_exporter": "python",
   "pygments_lexer": "ipython3",
   "version": "3.8.13"
  },
  "papermill": {
   "default_parameters": {},
   "duration": 2.825638,
   "end_time": "2022-09-13T15:33:49.781931",
   "environment_variables": {},
   "exception": null,
   "input_path": "nbs/13.1_cluster_analysis_null/05_01-data_transformation-z_score_std.ipynb",
   "output_path": "nbs/13.1_cluster_analysis_null/05_01-data_transformation-z_score_std.run.ipynb",
   "parameters": {},
   "start_time": "2022-09-13T15:33:46.956293",
   "version": "2.2.2"
  },
  "toc-autonumbering": true,
  "toc-showcode": false,
  "toc-showmarkdowntxt": false,
  "toc-showtags": false
 },
 "nbformat": 4,
 "nbformat_minor": 5
}
