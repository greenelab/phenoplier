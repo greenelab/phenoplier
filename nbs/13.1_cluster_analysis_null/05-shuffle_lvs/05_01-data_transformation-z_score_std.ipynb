{
 "cells": [
  {
   "cell_type": "markdown",
   "id": "6a37bdb1",
   "metadata": {
    "papermill": {
     "duration": 0.005548,
     "end_time": "2022-11-25T04:57:45.270842",
     "exception": false,
     "start_time": "2022-11-25T04:57:45.265294",
     "status": "completed"
    },
    "tags": []
   },
   "source": [
    "# Description"
   ]
  },
  {
   "cell_type": "markdown",
   "id": "56e3f5fe",
   "metadata": {
    "papermill": {
     "duration": 0.005564,
     "end_time": "2022-11-25T04:57:45.285967",
     "exception": false,
     "start_time": "2022-11-25T04:57:45.280403",
     "status": "completed"
    },
    "tags": []
   },
   "source": [
    "It standardize (z-score) S-MultiXcan results projected into the MultiPLIER latent space."
   ]
  },
  {
   "cell_type": "markdown",
   "id": "126ee613",
   "metadata": {
    "papermill": {
     "duration": 0.004615,
     "end_time": "2022-11-25T04:57:45.295407",
     "exception": false,
     "start_time": "2022-11-25T04:57:45.290792",
     "status": "completed"
    },
    "tags": []
   },
   "source": [
    "# Modules loading"
   ]
  },
  {
   "cell_type": "code",
   "execution_count": 1,
   "id": "652e2dd2",
   "metadata": {
    "execution": {
     "iopub.execute_input": "2022-11-25T04:57:45.306390Z",
     "iopub.status.busy": "2022-11-25T04:57:45.306114Z",
     "iopub.status.idle": "2022-11-25T04:57:45.323269Z",
     "shell.execute_reply": "2022-11-25T04:57:45.322885Z"
    },
    "papermill": {
     "duration": 0.024274,
     "end_time": "2022-11-25T04:57:45.324817",
     "exception": false,
     "start_time": "2022-11-25T04:57:45.300543",
     "status": "completed"
    },
    "tags": []
   },
   "outputs": [],
   "source": [
    "%load_ext autoreload\n",
    "%autoreload 2"
   ]
  },
  {
   "cell_type": "code",
   "execution_count": 2,
   "id": "c3c27a69",
   "metadata": {
    "execution": {
     "iopub.execute_input": "2022-11-25T04:57:45.336769Z",
     "iopub.status.busy": "2022-11-25T04:57:45.336515Z",
     "iopub.status.idle": "2022-11-25T04:57:45.674923Z",
     "shell.execute_reply": "2022-11-25T04:57:45.674584Z"
    },
    "papermill": {
     "duration": 0.346718,
     "end_time": "2022-11-25T04:57:45.676512",
     "exception": false,
     "start_time": "2022-11-25T04:57:45.329794",
     "status": "completed"
    },
    "tags": []
   },
   "outputs": [],
   "source": [
    "from pathlib import Path\n",
    "from IPython.display import display\n",
    "\n",
    "import numpy as np\n",
    "import pandas as pd\n",
    "from sklearn.preprocessing import scale\n",
    "\n",
    "import conf"
   ]
  },
  {
   "cell_type": "markdown",
   "id": "7f5ea10a",
   "metadata": {
    "papermill": {
     "duration": 0.009521,
     "end_time": "2022-11-25T04:57:45.691321",
     "exception": false,
     "start_time": "2022-11-25T04:57:45.681800",
     "status": "completed"
    },
    "tags": []
   },
   "source": [
    "# Settings"
   ]
  },
  {
   "cell_type": "code",
   "execution_count": 3,
   "id": "690ffd30",
   "metadata": {
    "execution": {
     "iopub.execute_input": "2022-11-25T04:57:45.702017Z",
     "iopub.status.busy": "2022-11-25T04:57:45.701880Z",
     "iopub.status.idle": "2022-11-25T04:57:45.712501Z",
     "shell.execute_reply": "2022-11-25T04:57:45.712184Z"
    },
    "papermill": {
     "duration": 0.017436,
     "end_time": "2022-11-25T04:57:45.713853",
     "exception": false,
     "start_time": "2022-11-25T04:57:45.696417",
     "status": "completed"
    },
    "tags": []
   },
   "outputs": [],
   "source": [
    "np.random.seed(0)"
   ]
  },
  {
   "cell_type": "code",
   "execution_count": 4,
   "id": "a725aebd-cefd-415a-b472-b0d298dc23c9",
   "metadata": {
    "execution": {
     "iopub.execute_input": "2022-11-25T04:57:45.724684Z",
     "iopub.status.busy": "2022-11-25T04:57:45.724566Z",
     "iopub.status.idle": "2022-11-25T04:57:45.734291Z",
     "shell.execute_reply": "2022-11-25T04:57:45.734010Z"
    },
    "papermill": {
     "duration": 0.016424,
     "end_time": "2022-11-25T04:57:45.735616",
     "exception": false,
     "start_time": "2022-11-25T04:57:45.719192",
     "status": "completed"
    },
    "tags": []
   },
   "outputs": [],
   "source": [
    "NULL_DIR = conf.RESULTS[\"CLUSTERING_NULL_DIR\"] / \"shuffle_lvs\""
   ]
  },
  {
   "cell_type": "markdown",
   "id": "ac65b58a",
   "metadata": {
    "papermill": {
     "duration": 0.005009,
     "end_time": "2022-11-25T04:57:45.745965",
     "exception": false,
     "start_time": "2022-11-25T04:57:45.740956",
     "status": "completed"
    },
    "tags": []
   },
   "source": [
    "## Input data"
   ]
  },
  {
   "cell_type": "code",
   "execution_count": 5,
   "id": "fb520da1",
   "metadata": {
    "execution": {
     "iopub.execute_input": "2022-11-25T04:57:45.757610Z",
     "iopub.status.busy": "2022-11-25T04:57:45.757515Z",
     "iopub.status.idle": "2022-11-25T04:57:45.780727Z",
     "shell.execute_reply": "2022-11-25T04:57:45.780179Z"
    },
    "papermill": {
     "duration": 0.030421,
     "end_time": "2022-11-25T04:57:45.782476",
     "exception": false,
     "start_time": "2022-11-25T04:57:45.752055",
     "status": "completed"
    },
    "tags": []
   },
   "outputs": [
    {
     "data": {
      "text/plain": [
       "PosixPath('/opt/data/results/clustering/null_sims/shuffle_lvs/projections/projection-smultixcan-efo_partial-mashr-zscores.pkl')"
      ]
     },
     "metadata": {},
     "output_type": "display_data"
    },
    {
     "data": {
      "text/plain": [
       "'projection-smultixcan-efo_partial-mashr-zscores'"
      ]
     },
     "metadata": {},
     "output_type": "display_data"
    }
   ],
   "source": [
    "INPUT_FILEPATH = Path(\n",
    "    NULL_DIR,\n",
    "    \"projections\",\n",
    "    \"projection-smultixcan-efo_partial-mashr-zscores.pkl\",\n",
    ").resolve()\n",
    "display(INPUT_FILEPATH)\n",
    "\n",
    "input_filepath_stem = INPUT_FILEPATH.stem\n",
    "display(input_filepath_stem)"
   ]
  },
  {
   "cell_type": "markdown",
   "id": "c761e63a",
   "metadata": {
    "papermill": {
     "duration": 0.004817,
     "end_time": "2022-11-25T04:57:45.792471",
     "exception": false,
     "start_time": "2022-11-25T04:57:45.787654",
     "status": "completed"
    },
    "tags": []
   },
   "source": [
    "## Output folder"
   ]
  },
  {
   "cell_type": "code",
   "execution_count": 6,
   "id": "f497395d",
   "metadata": {
    "execution": {
     "iopub.execute_input": "2022-11-25T04:57:45.803465Z",
     "iopub.status.busy": "2022-11-25T04:57:45.803058Z",
     "iopub.status.idle": "2022-11-25T04:57:45.822193Z",
     "shell.execute_reply": "2022-11-25T04:57:45.821758Z"
    },
    "papermill": {
     "duration": 0.026068,
     "end_time": "2022-11-25T04:57:45.823539",
     "exception": false,
     "start_time": "2022-11-25T04:57:45.797471",
     "status": "completed"
    },
    "tags": []
   },
   "outputs": [
    {
     "data": {
      "text/plain": [
       "PosixPath('/opt/data/results/clustering/null_sims/shuffle_lvs/data_transformations/z_score_std')"
      ]
     },
     "metadata": {},
     "output_type": "display_data"
    }
   ],
   "source": [
    "# output dir for this notebook\n",
    "RESULTS_DIR = Path(NULL_DIR, \"data_transformations\", \"z_score_std\").resolve()\n",
    "RESULTS_DIR.mkdir(parents=True, exist_ok=True)\n",
    "\n",
    "display(RESULTS_DIR)"
   ]
  },
  {
   "cell_type": "markdown",
   "id": "cebf3259",
   "metadata": {
    "papermill": {
     "duration": 0.004916,
     "end_time": "2022-11-25T04:57:45.833775",
     "exception": false,
     "start_time": "2022-11-25T04:57:45.828859",
     "status": "completed"
    },
    "tags": []
   },
   "source": [
    "# Load input file"
   ]
  },
  {
   "cell_type": "code",
   "execution_count": 7,
   "id": "825a4888",
   "metadata": {
    "execution": {
     "iopub.execute_input": "2022-11-25T04:57:45.845176Z",
     "iopub.status.busy": "2022-11-25T04:57:45.845010Z",
     "iopub.status.idle": "2022-11-25T04:57:45.879423Z",
     "shell.execute_reply": "2022-11-25T04:57:45.878967Z"
    },
    "papermill": {
     "duration": 0.041578,
     "end_time": "2022-11-25T04:57:45.880967",
     "exception": false,
     "start_time": "2022-11-25T04:57:45.839389",
     "status": "completed"
    },
    "tags": []
   },
   "outputs": [],
   "source": [
    "data = pd.read_pickle(INPUT_FILEPATH).T"
   ]
  },
  {
   "cell_type": "code",
   "execution_count": 8,
   "id": "d8d12fe6",
   "metadata": {
    "execution": {
     "iopub.execute_input": "2022-11-25T04:57:45.892507Z",
     "iopub.status.busy": "2022-11-25T04:57:45.892099Z",
     "iopub.status.idle": "2022-11-25T04:57:45.909818Z",
     "shell.execute_reply": "2022-11-25T04:57:45.909385Z"
    },
    "papermill": {
     "duration": 0.024659,
     "end_time": "2022-11-25T04:57:45.911116",
     "exception": false,
     "start_time": "2022-11-25T04:57:45.886457",
     "status": "completed"
    },
    "tags": []
   },
   "outputs": [
    {
     "data": {
      "text/plain": [
       "(3752, 987)"
      ]
     },
     "metadata": {},
     "output_type": "display_data"
    }
   ],
   "source": [
    "display(data.shape)"
   ]
  },
  {
   "cell_type": "code",
   "execution_count": 9,
   "id": "9a6ff5bf",
   "metadata": {
    "execution": {
     "iopub.execute_input": "2022-11-25T04:57:45.922339Z",
     "iopub.status.busy": "2022-11-25T04:57:45.922182Z",
     "iopub.status.idle": "2022-11-25T04:57:45.957283Z",
     "shell.execute_reply": "2022-11-25T04:57:45.956753Z"
    },
    "papermill": {
     "duration": 0.042198,
     "end_time": "2022-11-25T04:57:45.958653",
     "exception": false,
     "start_time": "2022-11-25T04:57:45.916455",
     "status": "completed"
    },
    "tags": []
   },
   "outputs": [
    {
     "data": {
      "text/html": [
       "<div>\n",
       "<style scoped>\n",
       "    .dataframe tbody tr th:only-of-type {\n",
       "        vertical-align: middle;\n",
       "    }\n",
       "\n",
       "    .dataframe tbody tr th {\n",
       "        vertical-align: top;\n",
       "    }\n",
       "\n",
       "    .dataframe thead th {\n",
       "        text-align: right;\n",
       "    }\n",
       "</style>\n",
       "<table border=\"1\" class=\"dataframe\">\n",
       "  <thead>\n",
       "    <tr style=\"text-align: right;\">\n",
       "      <th></th>\n",
       "      <th>LV1</th>\n",
       "      <th>LV2</th>\n",
       "      <th>LV3</th>\n",
       "      <th>LV4</th>\n",
       "      <th>LV5</th>\n",
       "      <th>LV6</th>\n",
       "      <th>LV7</th>\n",
       "      <th>LV8</th>\n",
       "      <th>LV9</th>\n",
       "      <th>LV10</th>\n",
       "      <th>...</th>\n",
       "      <th>LV978</th>\n",
       "      <th>LV979</th>\n",
       "      <th>LV980</th>\n",
       "      <th>LV981</th>\n",
       "      <th>LV982</th>\n",
       "      <th>LV983</th>\n",
       "      <th>LV984</th>\n",
       "      <th>LV985</th>\n",
       "      <th>LV986</th>\n",
       "      <th>LV987</th>\n",
       "    </tr>\n",
       "  </thead>\n",
       "  <tbody>\n",
       "    <tr>\n",
       "      <th>100001_raw-Food_weight</th>\n",
       "      <td>-0.073679</td>\n",
       "      <td>-0.052828</td>\n",
       "      <td>0.041971</td>\n",
       "      <td>0.004956</td>\n",
       "      <td>-0.007681</td>\n",
       "      <td>-0.010081</td>\n",
       "      <td>0.054730</td>\n",
       "      <td>-0.021652</td>\n",
       "      <td>-0.054424</td>\n",
       "      <td>-0.001761</td>\n",
       "      <td>...</td>\n",
       "      <td>0.012072</td>\n",
       "      <td>0.027118</td>\n",
       "      <td>-0.018594</td>\n",
       "      <td>0.019354</td>\n",
       "      <td>0.013125</td>\n",
       "      <td>-0.027029</td>\n",
       "      <td>0.049547</td>\n",
       "      <td>0.008668</td>\n",
       "      <td>0.018525</td>\n",
       "      <td>0.016905</td>\n",
       "    </tr>\n",
       "    <tr>\n",
       "      <th>100002_raw-Energy</th>\n",
       "      <td>-0.015465</td>\n",
       "      <td>0.016444</td>\n",
       "      <td>-0.023914</td>\n",
       "      <td>-0.002509</td>\n",
       "      <td>-0.000760</td>\n",
       "      <td>0.005859</td>\n",
       "      <td>0.040347</td>\n",
       "      <td>0.003794</td>\n",
       "      <td>-0.010630</td>\n",
       "      <td>-0.050057</td>\n",
       "      <td>...</td>\n",
       "      <td>-0.001388</td>\n",
       "      <td>-0.033729</td>\n",
       "      <td>-0.029717</td>\n",
       "      <td>0.036433</td>\n",
       "      <td>0.028141</td>\n",
       "      <td>-0.025490</td>\n",
       "      <td>0.027895</td>\n",
       "      <td>-0.021836</td>\n",
       "      <td>-0.002272</td>\n",
       "      <td>-0.036747</td>\n",
       "    </tr>\n",
       "    <tr>\n",
       "      <th>100003_raw-Protein</th>\n",
       "      <td>-0.008602</td>\n",
       "      <td>-0.009284</td>\n",
       "      <td>-0.042691</td>\n",
       "      <td>0.037642</td>\n",
       "      <td>0.010101</td>\n",
       "      <td>-0.079309</td>\n",
       "      <td>-0.005715</td>\n",
       "      <td>-0.021619</td>\n",
       "      <td>-0.017458</td>\n",
       "      <td>0.036159</td>\n",
       "      <td>...</td>\n",
       "      <td>0.030732</td>\n",
       "      <td>0.019324</td>\n",
       "      <td>0.054912</td>\n",
       "      <td>-0.010213</td>\n",
       "      <td>0.012643</td>\n",
       "      <td>-0.006422</td>\n",
       "      <td>-0.057273</td>\n",
       "      <td>-0.003816</td>\n",
       "      <td>0.039237</td>\n",
       "      <td>0.023237</td>\n",
       "    </tr>\n",
       "    <tr>\n",
       "      <th>100004_raw-Fat</th>\n",
       "      <td>-0.012982</td>\n",
       "      <td>-0.002280</td>\n",
       "      <td>-0.010464</td>\n",
       "      <td>-0.037028</td>\n",
       "      <td>-0.008053</td>\n",
       "      <td>-0.007899</td>\n",
       "      <td>-0.019534</td>\n",
       "      <td>0.008677</td>\n",
       "      <td>-0.026418</td>\n",
       "      <td>-0.030625</td>\n",
       "      <td>...</td>\n",
       "      <td>0.007484</td>\n",
       "      <td>-0.045390</td>\n",
       "      <td>0.000980</td>\n",
       "      <td>0.015655</td>\n",
       "      <td>0.016314</td>\n",
       "      <td>-0.033420</td>\n",
       "      <td>0.009053</td>\n",
       "      <td>-0.052350</td>\n",
       "      <td>-0.029700</td>\n",
       "      <td>-0.079015</td>\n",
       "    </tr>\n",
       "    <tr>\n",
       "      <th>100005_raw-Carbohydrate</th>\n",
       "      <td>-0.045931</td>\n",
       "      <td>-0.032513</td>\n",
       "      <td>0.016177</td>\n",
       "      <td>0.010150</td>\n",
       "      <td>-0.038093</td>\n",
       "      <td>-0.027577</td>\n",
       "      <td>-0.001228</td>\n",
       "      <td>0.017367</td>\n",
       "      <td>-0.024227</td>\n",
       "      <td>-0.011707</td>\n",
       "      <td>...</td>\n",
       "      <td>-0.017966</td>\n",
       "      <td>-0.034462</td>\n",
       "      <td>-0.000168</td>\n",
       "      <td>-0.010531</td>\n",
       "      <td>-0.049522</td>\n",
       "      <td>0.005111</td>\n",
       "      <td>0.018046</td>\n",
       "      <td>0.035997</td>\n",
       "      <td>-0.048200</td>\n",
       "      <td>-0.001093</td>\n",
       "    </tr>\n",
       "  </tbody>\n",
       "</table>\n",
       "<p>5 rows × 987 columns</p>\n",
       "</div>"
      ],
      "text/plain": [
       "                              LV1       LV2       LV3       LV4       LV5  \\\n",
       "100001_raw-Food_weight  -0.073679 -0.052828  0.041971  0.004956 -0.007681   \n",
       "100002_raw-Energy       -0.015465  0.016444 -0.023914 -0.002509 -0.000760   \n",
       "100003_raw-Protein      -0.008602 -0.009284 -0.042691  0.037642  0.010101   \n",
       "100004_raw-Fat          -0.012982 -0.002280 -0.010464 -0.037028 -0.008053   \n",
       "100005_raw-Carbohydrate -0.045931 -0.032513  0.016177  0.010150 -0.038093   \n",
       "\n",
       "                              LV6       LV7       LV8       LV9      LV10  \\\n",
       "100001_raw-Food_weight  -0.010081  0.054730 -0.021652 -0.054424 -0.001761   \n",
       "100002_raw-Energy        0.005859  0.040347  0.003794 -0.010630 -0.050057   \n",
       "100003_raw-Protein      -0.079309 -0.005715 -0.021619 -0.017458  0.036159   \n",
       "100004_raw-Fat          -0.007899 -0.019534  0.008677 -0.026418 -0.030625   \n",
       "100005_raw-Carbohydrate -0.027577 -0.001228  0.017367 -0.024227 -0.011707   \n",
       "\n",
       "                         ...     LV978     LV979     LV980     LV981  \\\n",
       "100001_raw-Food_weight   ...  0.012072  0.027118 -0.018594  0.019354   \n",
       "100002_raw-Energy        ... -0.001388 -0.033729 -0.029717  0.036433   \n",
       "100003_raw-Protein       ...  0.030732  0.019324  0.054912 -0.010213   \n",
       "100004_raw-Fat           ...  0.007484 -0.045390  0.000980  0.015655   \n",
       "100005_raw-Carbohydrate  ... -0.017966 -0.034462 -0.000168 -0.010531   \n",
       "\n",
       "                            LV982     LV983     LV984     LV985     LV986  \\\n",
       "100001_raw-Food_weight   0.013125 -0.027029  0.049547  0.008668  0.018525   \n",
       "100002_raw-Energy        0.028141 -0.025490  0.027895 -0.021836 -0.002272   \n",
       "100003_raw-Protein       0.012643 -0.006422 -0.057273 -0.003816  0.039237   \n",
       "100004_raw-Fat           0.016314 -0.033420  0.009053 -0.052350 -0.029700   \n",
       "100005_raw-Carbohydrate -0.049522  0.005111  0.018046  0.035997 -0.048200   \n",
       "\n",
       "                            LV987  \n",
       "100001_raw-Food_weight   0.016905  \n",
       "100002_raw-Energy       -0.036747  \n",
       "100003_raw-Protein       0.023237  \n",
       "100004_raw-Fat          -0.079015  \n",
       "100005_raw-Carbohydrate -0.001093  \n",
       "\n",
       "[5 rows x 987 columns]"
      ]
     },
     "metadata": {},
     "output_type": "display_data"
    }
   ],
   "source": [
    "display(data.head())"
   ]
  },
  {
   "cell_type": "markdown",
   "id": "e85f6f5c",
   "metadata": {
    "papermill": {
     "duration": 0.006759,
     "end_time": "2022-11-25T04:57:45.971289",
     "exception": false,
     "start_time": "2022-11-25T04:57:45.964530",
     "status": "completed"
    },
    "tags": []
   },
   "source": [
    "# z-score standardization"
   ]
  },
  {
   "cell_type": "code",
   "execution_count": 10,
   "id": "fb150ab7",
   "metadata": {
    "execution": {
     "iopub.execute_input": "2022-11-25T04:57:45.983334Z",
     "iopub.status.busy": "2022-11-25T04:57:45.982972Z",
     "iopub.status.idle": "2022-11-25T04:57:46.033203Z",
     "shell.execute_reply": "2022-11-25T04:57:46.032692Z"
    },
    "papermill": {
     "duration": 0.057664,
     "end_time": "2022-11-25T04:57:46.034531",
     "exception": false,
     "start_time": "2022-11-25T04:57:45.976867",
     "status": "completed"
    },
    "tags": []
   },
   "outputs": [
    {
     "data": {
      "text/html": [
       "<div>\n",
       "<style scoped>\n",
       "    .dataframe tbody tr th:only-of-type {\n",
       "        vertical-align: middle;\n",
       "    }\n",
       "\n",
       "    .dataframe tbody tr th {\n",
       "        vertical-align: top;\n",
       "    }\n",
       "\n",
       "    .dataframe thead th {\n",
       "        text-align: right;\n",
       "    }\n",
       "</style>\n",
       "<table border=\"1\" class=\"dataframe\">\n",
       "  <thead>\n",
       "    <tr style=\"text-align: right;\">\n",
       "      <th></th>\n",
       "      <th>LV1</th>\n",
       "      <th>LV2</th>\n",
       "      <th>LV3</th>\n",
       "      <th>LV4</th>\n",
       "      <th>LV5</th>\n",
       "      <th>LV6</th>\n",
       "      <th>LV7</th>\n",
       "      <th>LV8</th>\n",
       "      <th>LV9</th>\n",
       "      <th>LV10</th>\n",
       "    </tr>\n",
       "  </thead>\n",
       "  <tbody>\n",
       "    <tr>\n",
       "      <th>count</th>\n",
       "      <td>3752.000000</td>\n",
       "      <td>3752.000000</td>\n",
       "      <td>3752.000000</td>\n",
       "      <td>3752.000000</td>\n",
       "      <td>3752.000000</td>\n",
       "      <td>3752.000000</td>\n",
       "      <td>3752.000000</td>\n",
       "      <td>3752.000000</td>\n",
       "      <td>3752.000000</td>\n",
       "      <td>3752.000000</td>\n",
       "    </tr>\n",
       "    <tr>\n",
       "      <th>mean</th>\n",
       "      <td>0.000120</td>\n",
       "      <td>0.000679</td>\n",
       "      <td>0.000094</td>\n",
       "      <td>0.000226</td>\n",
       "      <td>-0.000352</td>\n",
       "      <td>-0.000340</td>\n",
       "      <td>-0.001130</td>\n",
       "      <td>0.000214</td>\n",
       "      <td>-0.000830</td>\n",
       "      <td>-0.000437</td>\n",
       "    </tr>\n",
       "    <tr>\n",
       "      <th>std</th>\n",
       "      <td>0.030651</td>\n",
       "      <td>0.030651</td>\n",
       "      <td>0.030284</td>\n",
       "      <td>0.029805</td>\n",
       "      <td>0.030425</td>\n",
       "      <td>0.031951</td>\n",
       "      <td>0.030644</td>\n",
       "      <td>0.030531</td>\n",
       "      <td>0.030294</td>\n",
       "      <td>0.030240</td>\n",
       "    </tr>\n",
       "    <tr>\n",
       "      <th>min</th>\n",
       "      <td>-0.096689</td>\n",
       "      <td>-0.102214</td>\n",
       "      <td>-0.100443</td>\n",
       "      <td>-0.090642</td>\n",
       "      <td>-0.093071</td>\n",
       "      <td>-0.089517</td>\n",
       "      <td>-0.116242</td>\n",
       "      <td>-0.096011</td>\n",
       "      <td>-0.099658</td>\n",
       "      <td>-0.093819</td>\n",
       "    </tr>\n",
       "    <tr>\n",
       "      <th>25%</th>\n",
       "      <td>-0.020699</td>\n",
       "      <td>-0.020577</td>\n",
       "      <td>-0.020308</td>\n",
       "      <td>-0.020856</td>\n",
       "      <td>-0.021171</td>\n",
       "      <td>-0.022392</td>\n",
       "      <td>-0.022418</td>\n",
       "      <td>-0.020228</td>\n",
       "      <td>-0.021644</td>\n",
       "      <td>-0.021053</td>\n",
       "    </tr>\n",
       "    <tr>\n",
       "      <th>50%</th>\n",
       "      <td>-0.000942</td>\n",
       "      <td>-0.000590</td>\n",
       "      <td>-0.001320</td>\n",
       "      <td>-0.000986</td>\n",
       "      <td>-0.001746</td>\n",
       "      <td>-0.001618</td>\n",
       "      <td>-0.002234</td>\n",
       "      <td>-0.000775</td>\n",
       "      <td>-0.002533</td>\n",
       "      <td>-0.002049</td>\n",
       "    </tr>\n",
       "    <tr>\n",
       "      <th>75%</th>\n",
       "      <td>0.019709</td>\n",
       "      <td>0.020179</td>\n",
       "      <td>0.019134</td>\n",
       "      <td>0.019199</td>\n",
       "      <td>0.019426</td>\n",
       "      <td>0.019117</td>\n",
       "      <td>0.018795</td>\n",
       "      <td>0.018845</td>\n",
       "      <td>0.018575</td>\n",
       "      <td>0.018473</td>\n",
       "    </tr>\n",
       "    <tr>\n",
       "      <th>max</th>\n",
       "      <td>0.156729</td>\n",
       "      <td>0.159284</td>\n",
       "      <td>0.152689</td>\n",
       "      <td>0.117356</td>\n",
       "      <td>0.132031</td>\n",
       "      <td>0.375820</td>\n",
       "      <td>0.262052</td>\n",
       "      <td>0.179894</td>\n",
       "      <td>0.118494</td>\n",
       "      <td>0.173786</td>\n",
       "    </tr>\n",
       "  </tbody>\n",
       "</table>\n",
       "</div>"
      ],
      "text/plain": [
       "               LV1          LV2          LV3          LV4          LV5  \\\n",
       "count  3752.000000  3752.000000  3752.000000  3752.000000  3752.000000   \n",
       "mean      0.000120     0.000679     0.000094     0.000226    -0.000352   \n",
       "std       0.030651     0.030651     0.030284     0.029805     0.030425   \n",
       "min      -0.096689    -0.102214    -0.100443    -0.090642    -0.093071   \n",
       "25%      -0.020699    -0.020577    -0.020308    -0.020856    -0.021171   \n",
       "50%      -0.000942    -0.000590    -0.001320    -0.000986    -0.001746   \n",
       "75%       0.019709     0.020179     0.019134     0.019199     0.019426   \n",
       "max       0.156729     0.159284     0.152689     0.117356     0.132031   \n",
       "\n",
       "               LV6          LV7          LV8          LV9         LV10  \n",
       "count  3752.000000  3752.000000  3752.000000  3752.000000  3752.000000  \n",
       "mean     -0.000340    -0.001130     0.000214    -0.000830    -0.000437  \n",
       "std       0.031951     0.030644     0.030531     0.030294     0.030240  \n",
       "min      -0.089517    -0.116242    -0.096011    -0.099658    -0.093819  \n",
       "25%      -0.022392    -0.022418    -0.020228    -0.021644    -0.021053  \n",
       "50%      -0.001618    -0.002234    -0.000775    -0.002533    -0.002049  \n",
       "75%       0.019117     0.018795     0.018845     0.018575     0.018473  \n",
       "max       0.375820     0.262052     0.179894     0.118494     0.173786  "
      ]
     },
     "metadata": {},
     "output_type": "display_data"
    }
   ],
   "source": [
    "data_stats = data.iloc[:, :10].describe()\n",
    "display(data_stats)"
   ]
  },
  {
   "cell_type": "code",
   "execution_count": 11,
   "id": "ed154348",
   "metadata": {
    "execution": {
     "iopub.execute_input": "2022-11-25T04:57:46.047454Z",
     "iopub.status.busy": "2022-11-25T04:57:46.047041Z",
     "iopub.status.idle": "2022-11-25T04:57:46.132321Z",
     "shell.execute_reply": "2022-11-25T04:57:46.131988Z"
    },
    "papermill": {
     "duration": 0.09327,
     "end_time": "2022-11-25T04:57:46.133785",
     "exception": false,
     "start_time": "2022-11-25T04:57:46.040515",
     "status": "completed"
    },
    "tags": []
   },
   "outputs": [],
   "source": [
    "scaled_data = pd.DataFrame(\n",
    "    data=scale(data), index=data.index.copy(), columns=data.columns.copy()\n",
    ")"
   ]
  },
  {
   "cell_type": "code",
   "execution_count": 12,
   "id": "9007e814",
   "metadata": {
    "execution": {
     "iopub.execute_input": "2022-11-25T04:57:46.147165Z",
     "iopub.status.busy": "2022-11-25T04:57:46.147071Z",
     "iopub.status.idle": "2022-11-25T04:57:46.158233Z",
     "shell.execute_reply": "2022-11-25T04:57:46.157831Z"
    },
    "papermill": {
     "duration": 0.019447,
     "end_time": "2022-11-25T04:57:46.159477",
     "exception": false,
     "start_time": "2022-11-25T04:57:46.140030",
     "status": "completed"
    },
    "tags": []
   },
   "outputs": [
    {
     "data": {
      "text/plain": [
       "(3752, 987)"
      ]
     },
     "metadata": {},
     "output_type": "display_data"
    }
   ],
   "source": [
    "display(scaled_data.shape)"
   ]
  },
  {
   "cell_type": "code",
   "execution_count": 13,
   "id": "0c8c415a",
   "metadata": {
    "execution": {
     "iopub.execute_input": "2022-11-25T04:57:46.173275Z",
     "iopub.status.busy": "2022-11-25T04:57:46.172874Z",
     "iopub.status.idle": "2022-11-25T04:57:46.207552Z",
     "shell.execute_reply": "2022-11-25T04:57:46.207131Z"
    },
    "papermill": {
     "duration": 0.043213,
     "end_time": "2022-11-25T04:57:46.209079",
     "exception": false,
     "start_time": "2022-11-25T04:57:46.165866",
     "status": "completed"
    },
    "tags": []
   },
   "outputs": [
    {
     "data": {
      "text/html": [
       "<div>\n",
       "<style scoped>\n",
       "    .dataframe tbody tr th:only-of-type {\n",
       "        vertical-align: middle;\n",
       "    }\n",
       "\n",
       "    .dataframe tbody tr th {\n",
       "        vertical-align: top;\n",
       "    }\n",
       "\n",
       "    .dataframe thead th {\n",
       "        text-align: right;\n",
       "    }\n",
       "</style>\n",
       "<table border=\"1\" class=\"dataframe\">\n",
       "  <thead>\n",
       "    <tr style=\"text-align: right;\">\n",
       "      <th></th>\n",
       "      <th>LV1</th>\n",
       "      <th>LV2</th>\n",
       "      <th>LV3</th>\n",
       "      <th>LV4</th>\n",
       "      <th>LV5</th>\n",
       "      <th>LV6</th>\n",
       "      <th>LV7</th>\n",
       "      <th>LV8</th>\n",
       "      <th>LV9</th>\n",
       "      <th>LV10</th>\n",
       "      <th>...</th>\n",
       "      <th>LV978</th>\n",
       "      <th>LV979</th>\n",
       "      <th>LV980</th>\n",
       "      <th>LV981</th>\n",
       "      <th>LV982</th>\n",
       "      <th>LV983</th>\n",
       "      <th>LV984</th>\n",
       "      <th>LV985</th>\n",
       "      <th>LV986</th>\n",
       "      <th>LV987</th>\n",
       "    </tr>\n",
       "  </thead>\n",
       "  <tbody>\n",
       "    <tr>\n",
       "      <th>100001_raw-Food_weight</th>\n",
       "      <td>-2.408007</td>\n",
       "      <td>-1.745911</td>\n",
       "      <td>1.383013</td>\n",
       "      <td>0.158718</td>\n",
       "      <td>-0.240933</td>\n",
       "      <td>-0.304911</td>\n",
       "      <td>1.823117</td>\n",
       "      <td>-0.716278</td>\n",
       "      <td>-1.769346</td>\n",
       "      <td>-0.043794</td>\n",
       "      <td>...</td>\n",
       "      <td>0.399227</td>\n",
       "      <td>0.849885</td>\n",
       "      <td>-0.593292</td>\n",
       "      <td>0.636568</td>\n",
       "      <td>0.409726</td>\n",
       "      <td>-0.871713</td>\n",
       "      <td>1.638770</td>\n",
       "      <td>0.285165</td>\n",
       "      <td>0.585307</td>\n",
       "      <td>0.592347</td>\n",
       "    </tr>\n",
       "    <tr>\n",
       "      <th>100002_raw-Energy</th>\n",
       "      <td>-0.508508</td>\n",
       "      <td>0.514427</td>\n",
       "      <td>-0.792865</td>\n",
       "      <td>-0.091775</td>\n",
       "      <td>-0.013409</td>\n",
       "      <td>0.194047</td>\n",
       "      <td>1.353713</td>\n",
       "      <td>0.117286</td>\n",
       "      <td>-0.323516</td>\n",
       "      <td>-1.641116</td>\n",
       "      <td>...</td>\n",
       "      <td>-0.038535</td>\n",
       "      <td>-1.139394</td>\n",
       "      <td>-0.951591</td>\n",
       "      <td>1.197872</td>\n",
       "      <td>0.893819</td>\n",
       "      <td>-0.820655</td>\n",
       "      <td>0.928634</td>\n",
       "      <td>-0.716778</td>\n",
       "      <td>-0.085735</td>\n",
       "      <td>-1.208965</td>\n",
       "    </tr>\n",
       "    <tr>\n",
       "      <th>100003_raw-Protein</th>\n",
       "      <td>-0.284597</td>\n",
       "      <td>-0.325076</td>\n",
       "      <td>-1.412980</td>\n",
       "      <td>1.255510</td>\n",
       "      <td>0.343603</td>\n",
       "      <td>-2.471878</td>\n",
       "      <td>-0.149640</td>\n",
       "      <td>-0.715178</td>\n",
       "      <td>-0.548948</td>\n",
       "      <td>1.210352</td>\n",
       "      <td>...</td>\n",
       "      <td>1.006094</td>\n",
       "      <td>0.595064</td>\n",
       "      <td>1.774559</td>\n",
       "      <td>-0.335165</td>\n",
       "      <td>0.394177</td>\n",
       "      <td>-0.188345</td>\n",
       "      <td>-1.864716</td>\n",
       "      <td>-0.124875</td>\n",
       "      <td>1.253625</td>\n",
       "      <td>0.804944</td>\n",
       "    </tr>\n",
       "    <tr>\n",
       "      <th>100004_raw-Fat</th>\n",
       "      <td>-0.427503</td>\n",
       "      <td>-0.096524</td>\n",
       "      <td>-0.348654</td>\n",
       "      <td>-1.250087</td>\n",
       "      <td>-0.253145</td>\n",
       "      <td>-0.236606</td>\n",
       "      <td>-0.600627</td>\n",
       "      <td>0.277239</td>\n",
       "      <td>-0.844748</td>\n",
       "      <td>-0.998437</td>\n",
       "      <td>...</td>\n",
       "      <td>0.249993</td>\n",
       "      <td>-1.520660</td>\n",
       "      <td>0.037241</td>\n",
       "      <td>0.514992</td>\n",
       "      <td>0.512538</td>\n",
       "      <td>-1.083619</td>\n",
       "      <td>0.310643</td>\n",
       "      <td>-1.719033</td>\n",
       "      <td>-0.970770</td>\n",
       "      <td>-2.628077</td>\n",
       "    </tr>\n",
       "    <tr>\n",
       "      <th>100005_raw-Carbohydrate</th>\n",
       "      <td>-1.502621</td>\n",
       "      <td>-1.083034</td>\n",
       "      <td>0.531159</td>\n",
       "      <td>0.332981</td>\n",
       "      <td>-1.240640</td>\n",
       "      <td>-0.852565</td>\n",
       "      <td>-0.003171</td>\n",
       "      <td>0.561912</td>\n",
       "      <td>-0.772413</td>\n",
       "      <td>-0.372739</td>\n",
       "      <td>...</td>\n",
       "      <td>-0.577730</td>\n",
       "      <td>-1.163380</td>\n",
       "      <td>0.000251</td>\n",
       "      <td>-0.345607</td>\n",
       "      <td>-1.610004</td>\n",
       "      <td>0.194078</td>\n",
       "      <td>0.605594</td>\n",
       "      <td>1.182825</td>\n",
       "      <td>-1.567705</td>\n",
       "      <td>-0.011902</td>\n",
       "    </tr>\n",
       "  </tbody>\n",
       "</table>\n",
       "<p>5 rows × 987 columns</p>\n",
       "</div>"
      ],
      "text/plain": [
       "                              LV1       LV2       LV3       LV4       LV5  \\\n",
       "100001_raw-Food_weight  -2.408007 -1.745911  1.383013  0.158718 -0.240933   \n",
       "100002_raw-Energy       -0.508508  0.514427 -0.792865 -0.091775 -0.013409   \n",
       "100003_raw-Protein      -0.284597 -0.325076 -1.412980  1.255510  0.343603   \n",
       "100004_raw-Fat          -0.427503 -0.096524 -0.348654 -1.250087 -0.253145   \n",
       "100005_raw-Carbohydrate -1.502621 -1.083034  0.531159  0.332981 -1.240640   \n",
       "\n",
       "                              LV6       LV7       LV8       LV9      LV10  \\\n",
       "100001_raw-Food_weight  -0.304911  1.823117 -0.716278 -1.769346 -0.043794   \n",
       "100002_raw-Energy        0.194047  1.353713  0.117286 -0.323516 -1.641116   \n",
       "100003_raw-Protein      -2.471878 -0.149640 -0.715178 -0.548948  1.210352   \n",
       "100004_raw-Fat          -0.236606 -0.600627  0.277239 -0.844748 -0.998437   \n",
       "100005_raw-Carbohydrate -0.852565 -0.003171  0.561912 -0.772413 -0.372739   \n",
       "\n",
       "                         ...     LV978     LV979     LV980     LV981  \\\n",
       "100001_raw-Food_weight   ...  0.399227  0.849885 -0.593292  0.636568   \n",
       "100002_raw-Energy        ... -0.038535 -1.139394 -0.951591  1.197872   \n",
       "100003_raw-Protein       ...  1.006094  0.595064  1.774559 -0.335165   \n",
       "100004_raw-Fat           ...  0.249993 -1.520660  0.037241  0.514992   \n",
       "100005_raw-Carbohydrate  ... -0.577730 -1.163380  0.000251 -0.345607   \n",
       "\n",
       "                            LV982     LV983     LV984     LV985     LV986  \\\n",
       "100001_raw-Food_weight   0.409726 -0.871713  1.638770  0.285165  0.585307   \n",
       "100002_raw-Energy        0.893819 -0.820655  0.928634 -0.716778 -0.085735   \n",
       "100003_raw-Protein       0.394177 -0.188345 -1.864716 -0.124875  1.253625   \n",
       "100004_raw-Fat           0.512538 -1.083619  0.310643 -1.719033 -0.970770   \n",
       "100005_raw-Carbohydrate -1.610004  0.194078  0.605594  1.182825 -1.567705   \n",
       "\n",
       "                            LV987  \n",
       "100001_raw-Food_weight   0.592347  \n",
       "100002_raw-Energy       -1.208965  \n",
       "100003_raw-Protein       0.804944  \n",
       "100004_raw-Fat          -2.628077  \n",
       "100005_raw-Carbohydrate -0.011902  \n",
       "\n",
       "[5 rows x 987 columns]"
      ]
     },
     "metadata": {},
     "output_type": "display_data"
    }
   ],
   "source": [
    "display(scaled_data.head())"
   ]
  },
  {
   "cell_type": "code",
   "execution_count": 14,
   "id": "3b226860",
   "metadata": {
    "execution": {
     "iopub.execute_input": "2022-11-25T04:57:46.223730Z",
     "iopub.status.busy": "2022-11-25T04:57:46.223596Z",
     "iopub.status.idle": "2022-11-25T04:57:46.252308Z",
     "shell.execute_reply": "2022-11-25T04:57:46.251901Z"
    },
    "papermill": {
     "duration": 0.037856,
     "end_time": "2022-11-25T04:57:46.253662",
     "exception": false,
     "start_time": "2022-11-25T04:57:46.215806",
     "status": "completed"
    },
    "tags": []
   },
   "outputs": [
    {
     "data": {
      "text/html": [
       "<div>\n",
       "<style scoped>\n",
       "    .dataframe tbody tr th:only-of-type {\n",
       "        vertical-align: middle;\n",
       "    }\n",
       "\n",
       "    .dataframe tbody tr th {\n",
       "        vertical-align: top;\n",
       "    }\n",
       "\n",
       "    .dataframe thead th {\n",
       "        text-align: right;\n",
       "    }\n",
       "</style>\n",
       "<table border=\"1\" class=\"dataframe\">\n",
       "  <thead>\n",
       "    <tr style=\"text-align: right;\">\n",
       "      <th></th>\n",
       "      <th>LV1</th>\n",
       "      <th>LV2</th>\n",
       "      <th>LV3</th>\n",
       "      <th>LV4</th>\n",
       "      <th>LV5</th>\n",
       "      <th>LV6</th>\n",
       "      <th>LV7</th>\n",
       "      <th>LV8</th>\n",
       "      <th>LV9</th>\n",
       "      <th>LV10</th>\n",
       "    </tr>\n",
       "  </thead>\n",
       "  <tbody>\n",
       "    <tr>\n",
       "      <th>count</th>\n",
       "      <td>3.752000e+03</td>\n",
       "      <td>3.752000e+03</td>\n",
       "      <td>3.752000e+03</td>\n",
       "      <td>3.752000e+03</td>\n",
       "      <td>3.752000e+03</td>\n",
       "      <td>3.752000e+03</td>\n",
       "      <td>3.752000e+03</td>\n",
       "      <td>3.752000e+03</td>\n",
       "      <td>3.752000e+03</td>\n",
       "      <td>3.752000e+03</td>\n",
       "    </tr>\n",
       "    <tr>\n",
       "      <th>mean</th>\n",
       "      <td>-3.787541e-17</td>\n",
       "      <td>-5.302558e-17</td>\n",
       "      <td>2.130492e-17</td>\n",
       "      <td>-2.580262e-17</td>\n",
       "      <td>-1.041574e-17</td>\n",
       "      <td>-1.988459e-17</td>\n",
       "      <td>1.344577e-16</td>\n",
       "      <td>1.609705e-17</td>\n",
       "      <td>-2.272525e-17</td>\n",
       "      <td>-6.628197e-18</td>\n",
       "    </tr>\n",
       "    <tr>\n",
       "      <th>std</th>\n",
       "      <td>1.000133e+00</td>\n",
       "      <td>1.000133e+00</td>\n",
       "      <td>1.000133e+00</td>\n",
       "      <td>1.000133e+00</td>\n",
       "      <td>1.000133e+00</td>\n",
       "      <td>1.000133e+00</td>\n",
       "      <td>1.000133e+00</td>\n",
       "      <td>1.000133e+00</td>\n",
       "      <td>1.000133e+00</td>\n",
       "      <td>1.000133e+00</td>\n",
       "    </tr>\n",
       "    <tr>\n",
       "      <th>min</th>\n",
       "      <td>-3.158831e+00</td>\n",
       "      <td>-3.357375e+00</td>\n",
       "      <td>-3.320259e+00</td>\n",
       "      <td>-3.049144e+00</td>\n",
       "      <td>-3.047879e+00</td>\n",
       "      <td>-2.791399e+00</td>\n",
       "      <td>-3.756903e+00</td>\n",
       "      <td>-3.152098e+00</td>\n",
       "      <td>-3.262723e+00</td>\n",
       "      <td>-3.088463e+00</td>\n",
       "    </tr>\n",
       "    <tr>\n",
       "      <th>25%</th>\n",
       "      <td>-6.793041e-01</td>\n",
       "      <td>-6.935760e-01</td>\n",
       "      <td>-6.737800e-01</td>\n",
       "      <td>-7.074250e-01</td>\n",
       "      <td>-6.843905e-01</td>\n",
       "      <td>-6.902730e-01</td>\n",
       "      <td>-6.947540e-01</td>\n",
       "      <td>-6.696146e-01</td>\n",
       "      <td>-6.871465e-01</td>\n",
       "      <td>-6.818319e-01</td>\n",
       "    </tr>\n",
       "    <tr>\n",
       "      <th>50%</th>\n",
       "      <td>-3.464282e-02</td>\n",
       "      <td>-4.140210e-02</td>\n",
       "      <td>-4.666978e-02</td>\n",
       "      <td>-4.066792e-02</td>\n",
       "      <td>-4.583165e-02</td>\n",
       "      <td>-4.000847e-02</td>\n",
       "      <td>-3.600796e-02</td>\n",
       "      <td>-3.239147e-02</td>\n",
       "      <td>-5.621995e-02</td>\n",
       "      <td>-5.331637e-02</td>\n",
       "    </tr>\n",
       "    <tr>\n",
       "      <th>75%</th>\n",
       "      <td>6.391933e-01</td>\n",
       "      <td>6.362952e-01</td>\n",
       "      <td>6.288178e-01</td>\n",
       "      <td>6.366280e-01</td>\n",
       "      <td>6.501193e-01</td>\n",
       "      <td>6.090450e-01</td>\n",
       "      <td>6.503046e-01</td>\n",
       "      <td>6.103173e-01</td>\n",
       "      <td>6.406675e-01</td>\n",
       "      <td>6.254112e-01</td>\n",
       "    </tr>\n",
       "    <tr>\n",
       "      <th>max</th>\n",
       "      <td>5.110108e+00</td>\n",
       "      <td>5.175260e+00</td>\n",
       "      <td>5.039507e+00</td>\n",
       "      <td>3.930339e+00</td>\n",
       "      <td>4.351697e+00</td>\n",
       "      <td>1.177458e+01</td>\n",
       "      <td>8.589505e+00</td>\n",
       "      <td>5.885921e+00</td>\n",
       "      <td>3.939406e+00</td>\n",
       "      <td>5.762166e+00</td>\n",
       "    </tr>\n",
       "  </tbody>\n",
       "</table>\n",
       "</div>"
      ],
      "text/plain": [
       "                LV1           LV2           LV3           LV4           LV5  \\\n",
       "count  3.752000e+03  3.752000e+03  3.752000e+03  3.752000e+03  3.752000e+03   \n",
       "mean  -3.787541e-17 -5.302558e-17  2.130492e-17 -2.580262e-17 -1.041574e-17   \n",
       "std    1.000133e+00  1.000133e+00  1.000133e+00  1.000133e+00  1.000133e+00   \n",
       "min   -3.158831e+00 -3.357375e+00 -3.320259e+00 -3.049144e+00 -3.047879e+00   \n",
       "25%   -6.793041e-01 -6.935760e-01 -6.737800e-01 -7.074250e-01 -6.843905e-01   \n",
       "50%   -3.464282e-02 -4.140210e-02 -4.666978e-02 -4.066792e-02 -4.583165e-02   \n",
       "75%    6.391933e-01  6.362952e-01  6.288178e-01  6.366280e-01  6.501193e-01   \n",
       "max    5.110108e+00  5.175260e+00  5.039507e+00  3.930339e+00  4.351697e+00   \n",
       "\n",
       "                LV6           LV7           LV8           LV9          LV10  \n",
       "count  3.752000e+03  3.752000e+03  3.752000e+03  3.752000e+03  3.752000e+03  \n",
       "mean  -1.988459e-17  1.344577e-16  1.609705e-17 -2.272525e-17 -6.628197e-18  \n",
       "std    1.000133e+00  1.000133e+00  1.000133e+00  1.000133e+00  1.000133e+00  \n",
       "min   -2.791399e+00 -3.756903e+00 -3.152098e+00 -3.262723e+00 -3.088463e+00  \n",
       "25%   -6.902730e-01 -6.947540e-01 -6.696146e-01 -6.871465e-01 -6.818319e-01  \n",
       "50%   -4.000847e-02 -3.600796e-02 -3.239147e-02 -5.621995e-02 -5.331637e-02  \n",
       "75%    6.090450e-01  6.503046e-01  6.103173e-01  6.406675e-01  6.254112e-01  \n",
       "max    1.177458e+01  8.589505e+00  5.885921e+00  3.939406e+00  5.762166e+00  "
      ]
     },
     "metadata": {},
     "output_type": "display_data"
    }
   ],
   "source": [
    "scaled_data_stats = scaled_data.iloc[:, :10].describe()\n",
    "display(scaled_data_stats)"
   ]
  },
  {
   "cell_type": "markdown",
   "id": "857fde27",
   "metadata": {
    "papermill": {
     "duration": 0.006575,
     "end_time": "2022-11-25T04:57:46.267152",
     "exception": false,
     "start_time": "2022-11-25T04:57:46.260577",
     "status": "completed"
    },
    "tags": []
   },
   "source": [
    "## Testing"
   ]
  },
  {
   "cell_type": "code",
   "execution_count": 15,
   "id": "3e288084",
   "metadata": {
    "execution": {
     "iopub.execute_input": "2022-11-25T04:57:46.282002Z",
     "iopub.status.busy": "2022-11-25T04:57:46.281699Z",
     "iopub.status.idle": "2022-11-25T04:57:46.299819Z",
     "shell.execute_reply": "2022-11-25T04:57:46.299415Z"
    },
    "papermill": {
     "duration": 0.027219,
     "end_time": "2022-11-25T04:57:46.301239",
     "exception": false,
     "start_time": "2022-11-25T04:57:46.274020",
     "status": "completed"
    },
    "tags": []
   },
   "outputs": [],
   "source": [
    "assert np.all(\n",
    "    [\n",
    "        np.isclose(scaled_data_stats.loc[\"mean\", c], 0.0)\n",
    "        for c in scaled_data_stats.columns\n",
    "    ]\n",
    ")"
   ]
  },
  {
   "cell_type": "code",
   "execution_count": 16,
   "id": "2eab5981",
   "metadata": {
    "execution": {
     "iopub.execute_input": "2022-11-25T04:57:46.314942Z",
     "iopub.status.busy": "2022-11-25T04:57:46.314599Z",
     "iopub.status.idle": "2022-11-25T04:57:46.332225Z",
     "shell.execute_reply": "2022-11-25T04:57:46.331824Z"
    },
    "papermill": {
     "duration": 0.026012,
     "end_time": "2022-11-25T04:57:46.333706",
     "exception": false,
     "start_time": "2022-11-25T04:57:46.307694",
     "status": "completed"
    },
    "tags": []
   },
   "outputs": [],
   "source": [
    "assert np.all(\n",
    "    [\n",
    "        np.isclose(scaled_data_stats.loc[\"std\", c], 1.0, atol=1e-03)\n",
    "        for c in scaled_data_stats.columns\n",
    "    ]\n",
    ")"
   ]
  },
  {
   "cell_type": "markdown",
   "id": "d62e7769",
   "metadata": {
    "papermill": {
     "duration": 0.00637,
     "end_time": "2022-11-25T04:57:46.347013",
     "exception": false,
     "start_time": "2022-11-25T04:57:46.340643",
     "status": "completed"
    },
    "tags": []
   },
   "source": [
    "# Save"
   ]
  },
  {
   "cell_type": "code",
   "execution_count": 17,
   "id": "65086bbb",
   "metadata": {
    "execution": {
     "iopub.execute_input": "2022-11-25T04:57:46.360463Z",
     "iopub.status.busy": "2022-11-25T04:57:46.360120Z",
     "iopub.status.idle": "2022-11-25T04:57:46.379629Z",
     "shell.execute_reply": "2022-11-25T04:57:46.379211Z"
    },
    "papermill": {
     "duration": 0.027641,
     "end_time": "2022-11-25T04:57:46.380972",
     "exception": false,
     "start_time": "2022-11-25T04:57:46.353331",
     "status": "completed"
    },
    "tags": []
   },
   "outputs": [
    {
     "data": {
      "text/plain": [
       "PosixPath('/opt/data/results/clustering/null_sims/shuffle_lvs/data_transformations/z_score_std/z_score_std-projection-smultixcan-efo_partial-mashr-zscores.pkl')"
      ]
     },
     "metadata": {},
     "output_type": "display_data"
    }
   ],
   "source": [
    "output_file = Path(\n",
    "    RESULTS_DIR,\n",
    "    f\"z_score_std-{input_filepath_stem}.pkl\",\n",
    ").resolve()\n",
    "\n",
    "display(output_file)"
   ]
  },
  {
   "cell_type": "code",
   "execution_count": 18,
   "id": "21cafb39",
   "metadata": {
    "execution": {
     "iopub.execute_input": "2022-11-25T04:57:46.395605Z",
     "iopub.status.busy": "2022-11-25T04:57:46.395216Z",
     "iopub.status.idle": "2022-11-25T04:57:46.460659Z",
     "shell.execute_reply": "2022-11-25T04:57:46.460295Z"
    },
    "papermill": {
     "duration": 0.073947,
     "end_time": "2022-11-25T04:57:46.462107",
     "exception": false,
     "start_time": "2022-11-25T04:57:46.388160",
     "status": "completed"
    },
    "tags": []
   },
   "outputs": [],
   "source": [
    "scaled_data.to_pickle(output_file)"
   ]
  },
  {
   "cell_type": "code",
   "execution_count": null,
   "id": "9a99ecca",
   "metadata": {
    "papermill": {
     "duration": 0.007043,
     "end_time": "2022-11-25T04:57:46.476208",
     "exception": false,
     "start_time": "2022-11-25T04:57:46.469165",
     "status": "completed"
    },
    "tags": []
   },
   "outputs": [],
   "source": []
  }
 ],
 "metadata": {
  "jupytext": {
   "cell_metadata_filter": "all,-execution,-papermill,-trusted",
   "formats": "ipynb,py//py:percent"
  },
  "kernelspec": {
   "display_name": "Python 3 (ipykernel)",
   "language": "python",
   "name": "python3"
  },
  "language_info": {
   "codemirror_mode": {
    "name": "ipython",
    "version": 3
   },
   "file_extension": ".py",
   "mimetype": "text/x-python",
   "name": "python",
   "nbconvert_exporter": "python",
   "pygments_lexer": "ipython3",
   "version": "3.8.13"
  },
  "papermill": {
   "default_parameters": {},
   "duration": 2.313786,
   "end_time": "2022-11-25T04:57:46.699698",
   "environment_variables": {},
   "exception": null,
   "input_path": "nbs/13.1_cluster_analysis_null/05-shuffle_lvs/05_01-data_transformation-z_score_std.ipynb",
   "output_path": "nbs/13.1_cluster_analysis_null/05-shuffle_lvs/05_01-data_transformation-z_score_std.run.ipynb",
   "parameters": {},
   "start_time": "2022-11-25T04:57:44.385912",
   "version": "2.2.2"
  },
  "toc-autonumbering": true,
  "toc-showcode": false,
  "toc-showmarkdowntxt": false,
  "toc-showtags": false
 },
 "nbformat": 4,
 "nbformat_minor": 5
}
