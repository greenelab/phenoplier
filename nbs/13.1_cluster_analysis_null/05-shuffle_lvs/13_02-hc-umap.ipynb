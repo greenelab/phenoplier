{
 "cells": [
  {
   "cell_type": "markdown",
   "id": "ae9a0e5f",
   "metadata": {
    "papermill": {
     "duration": 0.007927,
     "end_time": "2022-11-26T05:12:29.482693",
     "exception": false,
     "start_time": "2022-11-26T05:12:29.474766",
     "status": "completed"
    },
    "tags": []
   },
   "source": [
    "# Description"
   ]
  },
  {
   "cell_type": "markdown",
   "id": "32ba4343",
   "metadata": {
    "papermill": {
     "duration": 0.006495,
     "end_time": "2022-11-26T05:12:29.498706",
     "exception": false,
     "start_time": "2022-11-26T05:12:29.492211",
     "status": "completed"
    },
    "tags": []
   },
   "source": [
    "Runs hierarchical clustering on the umap version of the data."
   ]
  },
  {
   "cell_type": "markdown",
   "id": "28cf7bb6",
   "metadata": {
    "papermill": {
     "duration": 0.006672,
     "end_time": "2022-11-26T05:12:29.512191",
     "exception": false,
     "start_time": "2022-11-26T05:12:29.505519",
     "status": "completed"
    },
    "tags": []
   },
   "source": [
    "# Environment variables"
   ]
  },
  {
   "cell_type": "code",
   "execution_count": 1,
   "id": "b5a5994e",
   "metadata": {
    "execution": {
     "iopub.execute_input": "2022-11-26T05:12:29.526265Z",
     "iopub.status.busy": "2022-11-26T05:12:29.525982Z",
     "iopub.status.idle": "2022-11-26T05:12:29.544329Z",
     "shell.execute_reply": "2022-11-26T05:12:29.543956Z"
    },
    "papermill": {
     "duration": 0.02716,
     "end_time": "2022-11-26T05:12:29.545775",
     "exception": false,
     "start_time": "2022-11-26T05:12:29.518615",
     "status": "completed"
    },
    "tags": []
   },
   "outputs": [
    {
     "data": {
      "text/plain": [
       "10"
      ]
     },
     "metadata": {},
     "output_type": "display_data"
    }
   ],
   "source": [
    "from IPython.display import display\n",
    "\n",
    "import conf\n",
    "\n",
    "N_JOBS = conf.GENERAL[\"N_JOBS\"]\n",
    "display(N_JOBS)"
   ]
  },
  {
   "cell_type": "code",
   "execution_count": 2,
   "id": "bc49fa4a",
   "metadata": {
    "execution": {
     "iopub.execute_input": "2022-11-26T05:12:29.573622Z",
     "iopub.status.busy": "2022-11-26T05:12:29.573261Z",
     "iopub.status.idle": "2022-11-26T05:12:29.578968Z",
     "shell.execute_reply": "2022-11-26T05:12:29.578586Z"
    },
    "papermill": {
     "duration": 0.020612,
     "end_time": "2022-11-26T05:12:29.580264",
     "exception": false,
     "start_time": "2022-11-26T05:12:29.559652",
     "status": "completed"
    },
    "tags": []
   },
   "outputs": [
    {
     "name": "stdout",
     "output_type": "stream",
     "text": [
      "env: MKL_NUM_THREADS=10\n",
      "env: OPEN_BLAS_NUM_THREADS=10\n",
      "env: NUMEXPR_NUM_THREADS=10\n",
      "env: OMP_NUM_THREADS=10\n"
     ]
    }
   ],
   "source": [
    "%env MKL_NUM_THREADS=$N_JOBS\n",
    "%env OPEN_BLAS_NUM_THREADS=$N_JOBS\n",
    "%env NUMEXPR_NUM_THREADS=$N_JOBS\n",
    "%env OMP_NUM_THREADS=$N_JOBS"
   ]
  },
  {
   "cell_type": "markdown",
   "id": "8d826e82",
   "metadata": {
    "papermill": {
     "duration": 0.013729,
     "end_time": "2022-11-26T05:12:29.607233",
     "exception": false,
     "start_time": "2022-11-26T05:12:29.593504",
     "status": "completed"
    },
    "tags": []
   },
   "source": [
    "# Modules loading"
   ]
  },
  {
   "cell_type": "code",
   "execution_count": 3,
   "id": "71babd34",
   "metadata": {
    "execution": {
     "iopub.execute_input": "2022-11-26T05:12:29.623928Z",
     "iopub.status.busy": "2022-11-26T05:12:29.623594Z",
     "iopub.status.idle": "2022-11-26T05:12:29.636232Z",
     "shell.execute_reply": "2022-11-26T05:12:29.635853Z"
    },
    "papermill": {
     "duration": 0.02071,
     "end_time": "2022-11-26T05:12:29.637028",
     "exception": false,
     "start_time": "2022-11-26T05:12:29.616318",
     "status": "completed"
    },
    "tags": []
   },
   "outputs": [],
   "source": [
    "%load_ext autoreload\n",
    "%autoreload 2"
   ]
  },
  {
   "cell_type": "code",
   "execution_count": 4,
   "id": "1c2cf43a",
   "metadata": {
    "execution": {
     "iopub.execute_input": "2022-11-26T05:12:29.651275Z",
     "iopub.status.busy": "2022-11-26T05:12:29.651004Z",
     "iopub.status.idle": "2022-11-26T05:12:30.123508Z",
     "shell.execute_reply": "2022-11-26T05:12:30.123185Z"
    },
    "papermill": {
     "duration": 0.481284,
     "end_time": "2022-11-26T05:12:30.125310",
     "exception": false,
     "start_time": "2022-11-26T05:12:29.644026",
     "status": "completed"
    },
    "tags": []
   },
   "outputs": [],
   "source": [
    "from pathlib import Path\n",
    "\n",
    "import numpy as np\n",
    "import pandas as pd\n",
    "import matplotlib.pyplot as plt\n",
    "import seaborn as sns\n",
    "\n",
    "from utils import generate_result_set_name"
   ]
  },
  {
   "cell_type": "markdown",
   "id": "be975805",
   "metadata": {
    "papermill": {
     "duration": 0.011272,
     "end_time": "2022-11-26T05:12:30.173857",
     "exception": false,
     "start_time": "2022-11-26T05:12:30.162585",
     "status": "completed"
    },
    "tags": []
   },
   "source": [
    "# Settings"
   ]
  },
  {
   "cell_type": "code",
   "execution_count": 5,
   "id": "714b28bc",
   "metadata": {
    "execution": {
     "iopub.execute_input": "2022-11-26T05:12:30.196278Z",
     "iopub.status.busy": "2022-11-26T05:12:30.195894Z",
     "iopub.status.idle": "2022-11-26T05:12:30.207819Z",
     "shell.execute_reply": "2022-11-26T05:12:30.207543Z"
    },
    "papermill": {
     "duration": 0.023933,
     "end_time": "2022-11-26T05:12:30.209058",
     "exception": false,
     "start_time": "2022-11-26T05:12:30.185125",
     "status": "completed"
    },
    "tags": []
   },
   "outputs": [],
   "source": [
    "np.random.seed(0)"
   ]
  },
  {
   "cell_type": "code",
   "execution_count": 6,
   "id": "c3ed316d-1a52-4e4c-948b-b921dfefbf97",
   "metadata": {
    "execution": {
     "iopub.execute_input": "2022-11-26T05:12:30.232458Z",
     "iopub.status.busy": "2022-11-26T05:12:30.232331Z",
     "iopub.status.idle": "2022-11-26T05:12:30.251174Z",
     "shell.execute_reply": "2022-11-26T05:12:30.250761Z"
    },
    "papermill": {
     "duration": 0.031681,
     "end_time": "2022-11-26T05:12:30.252438",
     "exception": false,
     "start_time": "2022-11-26T05:12:30.220757",
     "status": "completed"
    },
    "tags": []
   },
   "outputs": [],
   "source": [
    "NULL_DIR = conf.RESULTS[\"CLUSTERING_NULL_DIR\"] / \"shuffle_lvs\""
   ]
  },
  {
   "cell_type": "markdown",
   "id": "1b987f0e",
   "metadata": {
    "papermill": {
     "duration": 0.010147,
     "end_time": "2022-11-26T05:12:30.272706",
     "exception": false,
     "start_time": "2022-11-26T05:12:30.262559",
     "status": "completed"
    },
    "tags": []
   },
   "source": [
    "## Input data"
   ]
  },
  {
   "cell_type": "code",
   "execution_count": 7,
   "id": "e5b7587a",
   "metadata": {
    "execution": {
     "iopub.execute_input": "2022-11-26T05:12:30.293345Z",
     "iopub.status.busy": "2022-11-26T05:12:30.293105Z",
     "iopub.status.idle": "2022-11-26T05:12:30.313366Z",
     "shell.execute_reply": "2022-11-26T05:12:30.312823Z"
    },
    "papermill": {
     "duration": 0.032389,
     "end_time": "2022-11-26T05:12:30.315053",
     "exception": false,
     "start_time": "2022-11-26T05:12:30.282664",
     "status": "completed"
    },
    "tags": []
   },
   "outputs": [],
   "source": [
    "INPUT_SUBSET = \"umap\""
   ]
  },
  {
   "cell_type": "code",
   "execution_count": 8,
   "id": "af75ae7c",
   "metadata": {
    "execution": {
     "iopub.execute_input": "2022-11-26T05:12:30.346243Z",
     "iopub.status.busy": "2022-11-26T05:12:30.345896Z",
     "iopub.status.idle": "2022-11-26T05:12:30.366212Z",
     "shell.execute_reply": "2022-11-26T05:12:30.365784Z"
    },
    "papermill": {
     "duration": 0.036642,
     "end_time": "2022-11-26T05:12:30.367390",
     "exception": false,
     "start_time": "2022-11-26T05:12:30.330748",
     "status": "completed"
    },
    "tags": []
   },
   "outputs": [],
   "source": [
    "INPUT_STEM = \"z_score_std-projection-smultixcan-efo_partial-mashr-zscores\""
   ]
  },
  {
   "cell_type": "code",
   "execution_count": 9,
   "id": "ae865775",
   "metadata": {
    "execution": {
     "iopub.execute_input": "2022-11-26T05:12:30.388872Z",
     "iopub.status.busy": "2022-11-26T05:12:30.388538Z",
     "iopub.status.idle": "2022-11-26T05:12:30.408991Z",
     "shell.execute_reply": "2022-11-26T05:12:30.408555Z"
    },
    "papermill": {
     "duration": 0.032784,
     "end_time": "2022-11-26T05:12:30.410121",
     "exception": false,
     "start_time": "2022-11-26T05:12:30.377337",
     "status": "completed"
    },
    "tags": []
   },
   "outputs": [],
   "source": [
    "# parameters of the dimentionality reduction steps\n",
    "DR_OPTIONS = {\n",
    "    \"n_components\": 50,\n",
    "    \"metric\": \"euclidean\",\n",
    "    \"n_neighbors\": 15,\n",
    "    \"random_state\": 0,\n",
    "}"
   ]
  },
  {
   "cell_type": "code",
   "execution_count": 10,
   "id": "067ad49d",
   "metadata": {
    "execution": {
     "iopub.execute_input": "2022-11-26T05:12:30.431080Z",
     "iopub.status.busy": "2022-11-26T05:12:30.430759Z",
     "iopub.status.idle": "2022-11-26T05:12:30.454462Z",
     "shell.execute_reply": "2022-11-26T05:12:30.453906Z"
    },
    "papermill": {
     "duration": 0.035794,
     "end_time": "2022-11-26T05:12:30.455932",
     "exception": false,
     "start_time": "2022-11-26T05:12:30.420138",
     "status": "completed"
    },
    "tags": []
   },
   "outputs": [
    {
     "data": {
      "text/plain": [
       "PosixPath('/opt/data/results/clustering/null_sims/shuffle_lvs/data_transformations/umap/umap-z_score_std-projection-smultixcan-efo_partial-mashr-zscores-metric_euclidean-n_components_50-n_neighbors_15-random_state_0.pkl')"
      ]
     },
     "metadata": {},
     "output_type": "display_data"
    },
    {
     "data": {
      "text/plain": [
       "'umap-z_score_std-projection-smultixcan-efo_partial-mashr-zscores-metric_euclidean-n_components_50-n_neighbors_15-random_state_0'"
      ]
     },
     "metadata": {},
     "output_type": "display_data"
    }
   ],
   "source": [
    "input_filepath = Path(\n",
    "    NULL_DIR,\n",
    "    \"data_transformations\",\n",
    "    INPUT_SUBSET,\n",
    "    generate_result_set_name(\n",
    "        DR_OPTIONS, prefix=f\"{INPUT_SUBSET}-{INPUT_STEM}-\", suffix=\".pkl\"\n",
    "    ),\n",
    ").resolve()\n",
    "display(input_filepath)\n",
    "\n",
    "assert input_filepath.exists(), \"Input file does not exist\"\n",
    "\n",
    "input_filepath_stem = input_filepath.stem\n",
    "display(input_filepath_stem)"
   ]
  },
  {
   "cell_type": "markdown",
   "id": "16e6388b",
   "metadata": {
    "papermill": {
     "duration": 0.015021,
     "end_time": "2022-11-26T05:12:30.486681",
     "exception": false,
     "start_time": "2022-11-26T05:12:30.471660",
     "status": "completed"
    },
    "tags": []
   },
   "source": [
    "## Clustering"
   ]
  },
  {
   "cell_type": "code",
   "execution_count": 11,
   "id": "fb4c687e",
   "metadata": {
    "execution": {
     "iopub.execute_input": "2022-11-26T05:12:30.511883Z",
     "iopub.status.busy": "2022-11-26T05:12:30.511562Z",
     "iopub.status.idle": "2022-11-26T05:12:30.571929Z",
     "shell.execute_reply": "2022-11-26T05:12:30.571610Z"
    },
    "papermill": {
     "duration": 0.072839,
     "end_time": "2022-11-26T05:12:30.572994",
     "exception": false,
     "start_time": "2022-11-26T05:12:30.500155",
     "status": "completed"
    },
    "tags": []
   },
   "outputs": [],
   "source": [
    "from sklearn.cluster import AgglomerativeClustering"
   ]
  },
  {
   "cell_type": "code",
   "execution_count": 12,
   "id": "ee5d7198",
   "metadata": {
    "execution": {
     "iopub.execute_input": "2022-11-26T05:12:30.587571Z",
     "iopub.status.busy": "2022-11-26T05:12:30.587432Z",
     "iopub.status.idle": "2022-11-26T05:12:30.599977Z",
     "shell.execute_reply": "2022-11-26T05:12:30.599687Z"
    },
    "papermill": {
     "duration": 0.020671,
     "end_time": "2022-11-26T05:12:30.600872",
     "exception": false,
     "start_time": "2022-11-26T05:12:30.580201",
     "status": "completed"
    },
    "tags": []
   },
   "outputs": [],
   "source": [
    "CLUSTERING_ATTRIBUTES_TO_SAVE = [\"n_clusters\"]"
   ]
  },
  {
   "cell_type": "code",
   "execution_count": 13,
   "id": "52020ab9",
   "metadata": {
    "execution": {
     "iopub.execute_input": "2022-11-26T05:12:30.615344Z",
     "iopub.status.busy": "2022-11-26T05:12:30.615209Z",
     "iopub.status.idle": "2022-11-26T05:12:30.628498Z",
     "shell.execute_reply": "2022-11-26T05:12:30.628205Z"
    },
    "papermill": {
     "duration": 0.021315,
     "end_time": "2022-11-26T05:12:30.629283",
     "exception": false,
     "start_time": "2022-11-26T05:12:30.607968",
     "status": "completed"
    },
    "tags": []
   },
   "outputs": [
    {
     "data": {
      "text/plain": [
       "{'K_MIN': 2,\n",
       " 'K_MAX': 75,\n",
       " 'LINKAGE': {'average', 'complete', 'single', 'ward'},\n",
       " 'AFFINITY': 'euclidean'}"
      ]
     },
     "metadata": {},
     "output_type": "display_data"
    }
   ],
   "source": [
    "CLUSTERING_OPTIONS = {}\n",
    "\n",
    "CLUSTERING_OPTIONS[\"K_MIN\"] = 2\n",
    "CLUSTERING_OPTIONS[\"K_MAX\"] = 75  # sqrt(3749) + some more to get closer to 295\n",
    "CLUSTERING_OPTIONS[\"LINKAGE\"] = {\"ward\", \"complete\", \"average\", \"single\"}\n",
    "CLUSTERING_OPTIONS[\"AFFINITY\"] = \"euclidean\"\n",
    "\n",
    "display(CLUSTERING_OPTIONS)"
   ]
  },
  {
   "cell_type": "code",
   "execution_count": 14,
   "id": "2f4915e8",
   "metadata": {
    "execution": {
     "iopub.execute_input": "2022-11-26T05:12:30.644243Z",
     "iopub.status.busy": "2022-11-26T05:12:30.644112Z",
     "iopub.status.idle": "2022-11-26T05:12:30.658088Z",
     "shell.execute_reply": "2022-11-26T05:12:30.657806Z"
    },
    "papermill": {
     "duration": 0.022564,
     "end_time": "2022-11-26T05:12:30.658926",
     "exception": false,
     "start_time": "2022-11-26T05:12:30.636362",
     "status": "completed"
    },
    "tags": []
   },
   "outputs": [],
   "source": [
    "CLUSTERERS = {}\n",
    "\n",
    "idx = 0\n",
    "\n",
    "for k in range(CLUSTERING_OPTIONS[\"K_MIN\"], CLUSTERING_OPTIONS[\"K_MAX\"] + 1):\n",
    "    for linkage in CLUSTERING_OPTIONS[\"LINKAGE\"]:\n",
    "        if linkage == \"ward\":\n",
    "            affinity = \"euclidean\"\n",
    "        else:\n",
    "            affinity = \"precomputed\"\n",
    "\n",
    "        clus = AgglomerativeClustering(\n",
    "            n_clusters=k,\n",
    "            affinity=affinity,\n",
    "            linkage=linkage,\n",
    "        )\n",
    "\n",
    "        method_name = type(clus).__name__\n",
    "        CLUSTERERS[f\"{method_name} #{idx}\"] = clus\n",
    "\n",
    "        idx = idx + 1"
   ]
  },
  {
   "cell_type": "code",
   "execution_count": 15,
   "id": "a09cc90b",
   "metadata": {
    "execution": {
     "iopub.execute_input": "2022-11-26T05:12:30.673139Z",
     "iopub.status.busy": "2022-11-26T05:12:30.673047Z",
     "iopub.status.idle": "2022-11-26T05:12:30.685437Z",
     "shell.execute_reply": "2022-11-26T05:12:30.685158Z"
    },
    "papermill": {
     "duration": 0.020275,
     "end_time": "2022-11-26T05:12:30.686227",
     "exception": false,
     "start_time": "2022-11-26T05:12:30.665952",
     "status": "completed"
    },
    "tags": []
   },
   "outputs": [
    {
     "data": {
      "text/plain": [
       "296"
      ]
     },
     "metadata": {},
     "output_type": "display_data"
    }
   ],
   "source": [
    "display(len(CLUSTERERS))"
   ]
  },
  {
   "cell_type": "code",
   "execution_count": 16,
   "id": "cd588b58",
   "metadata": {
    "execution": {
     "iopub.execute_input": "2022-11-26T05:12:30.700692Z",
     "iopub.status.busy": "2022-11-26T05:12:30.700558Z",
     "iopub.status.idle": "2022-11-26T05:12:30.714582Z",
     "shell.execute_reply": "2022-11-26T05:12:30.714301Z"
    },
    "papermill": {
     "duration": 0.021925,
     "end_time": "2022-11-26T05:12:30.715381",
     "exception": false,
     "start_time": "2022-11-26T05:12:30.693456",
     "status": "completed"
    },
    "tags": []
   },
   "outputs": [
    {
     "data": {
      "text/plain": [
       "('AgglomerativeClustering #0',\n",
       " AgglomerativeClustering(affinity='precomputed', linkage='single'))"
      ]
     },
     "metadata": {},
     "output_type": "display_data"
    },
    {
     "data": {
      "text/plain": [
       "('AgglomerativeClustering #1', AgglomerativeClustering())"
      ]
     },
     "metadata": {},
     "output_type": "display_data"
    }
   ],
   "source": [
    "_iter = iter(CLUSTERERS.items())\n",
    "display(next(_iter))\n",
    "display(next(_iter))"
   ]
  },
  {
   "cell_type": "code",
   "execution_count": 17,
   "id": "7e639782",
   "metadata": {
    "execution": {
     "iopub.execute_input": "2022-11-26T05:12:30.730196Z",
     "iopub.status.busy": "2022-11-26T05:12:30.730060Z",
     "iopub.status.idle": "2022-11-26T05:12:30.742891Z",
     "shell.execute_reply": "2022-11-26T05:12:30.742608Z"
    },
    "papermill": {
     "duration": 0.020966,
     "end_time": "2022-11-26T05:12:30.743676",
     "exception": false,
     "start_time": "2022-11-26T05:12:30.722710",
     "status": "completed"
    },
    "tags": []
   },
   "outputs": [
    {
     "data": {
      "text/plain": [
       "'AgglomerativeClustering'"
      ]
     },
     "metadata": {},
     "output_type": "display_data"
    }
   ],
   "source": [
    "clustering_method_name = method_name\n",
    "display(clustering_method_name)"
   ]
  },
  {
   "cell_type": "markdown",
   "id": "3828bec3",
   "metadata": {
    "papermill": {
     "duration": 0.007031,
     "end_time": "2022-11-26T05:12:30.758602",
     "exception": false,
     "start_time": "2022-11-26T05:12:30.751571",
     "status": "completed"
    },
    "tags": []
   },
   "source": [
    "## Output directory"
   ]
  },
  {
   "cell_type": "code",
   "execution_count": 18,
   "id": "0f10783b",
   "metadata": {
    "execution": {
     "iopub.execute_input": "2022-11-26T05:12:30.773268Z",
     "iopub.status.busy": "2022-11-26T05:12:30.773122Z",
     "iopub.status.idle": "2022-11-26T05:12:30.786548Z",
     "shell.execute_reply": "2022-11-26T05:12:30.786264Z"
    },
    "papermill": {
     "duration": 0.021808,
     "end_time": "2022-11-26T05:12:30.787366",
     "exception": false,
     "start_time": "2022-11-26T05:12:30.765558",
     "status": "completed"
    },
    "tags": []
   },
   "outputs": [
    {
     "data": {
      "text/plain": [
       "PosixPath('/opt/data/results/clustering/null_sims/shuffle_lvs/runs/umap-z_score_std-projection-smultixcan-efo_partial-mashr-zscores')"
      ]
     },
     "metadata": {},
     "output_type": "display_data"
    }
   ],
   "source": [
    "# output dir for this notebook\n",
    "RESULTS_DIR = Path(\n",
    "    NULL_DIR,\n",
    "    \"runs\",\n",
    "    f\"{INPUT_SUBSET}-{INPUT_STEM}\",\n",
    ").resolve()\n",
    "RESULTS_DIR.mkdir(parents=True, exist_ok=True)\n",
    "\n",
    "display(RESULTS_DIR)"
   ]
  },
  {
   "cell_type": "markdown",
   "id": "80544686",
   "metadata": {
    "papermill": {
     "duration": 0.006969,
     "end_time": "2022-11-26T05:12:30.801736",
     "exception": false,
     "start_time": "2022-11-26T05:12:30.794767",
     "status": "completed"
    },
    "tags": []
   },
   "source": [
    "# Load input file"
   ]
  },
  {
   "cell_type": "code",
   "execution_count": 19,
   "id": "9a903efe",
   "metadata": {
    "execution": {
     "iopub.execute_input": "2022-11-26T05:12:30.816493Z",
     "iopub.status.busy": "2022-11-26T05:12:30.816323Z",
     "iopub.status.idle": "2022-11-26T05:12:30.830543Z",
     "shell.execute_reply": "2022-11-26T05:12:30.830238Z"
    },
    "papermill": {
     "duration": 0.022674,
     "end_time": "2022-11-26T05:12:30.831501",
     "exception": false,
     "start_time": "2022-11-26T05:12:30.808827",
     "status": "completed"
    },
    "tags": []
   },
   "outputs": [],
   "source": [
    "data = pd.read_pickle(input_filepath)"
   ]
  },
  {
   "cell_type": "code",
   "execution_count": 20,
   "id": "c8425bcd",
   "metadata": {
    "execution": {
     "iopub.execute_input": "2022-11-26T05:12:30.847138Z",
     "iopub.status.busy": "2022-11-26T05:12:30.846999Z",
     "iopub.status.idle": "2022-11-26T05:12:30.860553Z",
     "shell.execute_reply": "2022-11-26T05:12:30.860218Z"
    },
    "papermill": {
     "duration": 0.022459,
     "end_time": "2022-11-26T05:12:30.861366",
     "exception": false,
     "start_time": "2022-11-26T05:12:30.838907",
     "status": "completed"
    },
    "tags": []
   },
   "outputs": [
    {
     "data": {
      "text/plain": [
       "(3752, 50)"
      ]
     },
     "execution_count": 20,
     "metadata": {},
     "output_type": "execute_result"
    }
   ],
   "source": [
    "data.shape"
   ]
  },
  {
   "cell_type": "code",
   "execution_count": 21,
   "id": "9a7febac",
   "metadata": {
    "execution": {
     "iopub.execute_input": "2022-11-26T05:12:30.876494Z",
     "iopub.status.busy": "2022-11-26T05:12:30.876392Z",
     "iopub.status.idle": "2022-11-26T05:12:30.915401Z",
     "shell.execute_reply": "2022-11-26T05:12:30.914902Z"
    },
    "papermill": {
     "duration": 0.047449,
     "end_time": "2022-11-26T05:12:30.916250",
     "exception": false,
     "start_time": "2022-11-26T05:12:30.868801",
     "status": "completed"
    },
    "tags": []
   },
   "outputs": [
    {
     "data": {
      "text/html": [
       "<div>\n",
       "<style scoped>\n",
       "    .dataframe tbody tr th:only-of-type {\n",
       "        vertical-align: middle;\n",
       "    }\n",
       "\n",
       "    .dataframe tbody tr th {\n",
       "        vertical-align: top;\n",
       "    }\n",
       "\n",
       "    .dataframe thead th {\n",
       "        text-align: right;\n",
       "    }\n",
       "</style>\n",
       "<table border=\"1\" class=\"dataframe\">\n",
       "  <thead>\n",
       "    <tr style=\"text-align: right;\">\n",
       "      <th></th>\n",
       "      <th>UMAP1</th>\n",
       "      <th>UMAP2</th>\n",
       "      <th>UMAP3</th>\n",
       "      <th>UMAP4</th>\n",
       "      <th>UMAP5</th>\n",
       "      <th>UMAP6</th>\n",
       "      <th>UMAP7</th>\n",
       "      <th>UMAP8</th>\n",
       "      <th>UMAP9</th>\n",
       "      <th>UMAP10</th>\n",
       "      <th>...</th>\n",
       "      <th>UMAP41</th>\n",
       "      <th>UMAP42</th>\n",
       "      <th>UMAP43</th>\n",
       "      <th>UMAP44</th>\n",
       "      <th>UMAP45</th>\n",
       "      <th>UMAP46</th>\n",
       "      <th>UMAP47</th>\n",
       "      <th>UMAP48</th>\n",
       "      <th>UMAP49</th>\n",
       "      <th>UMAP50</th>\n",
       "    </tr>\n",
       "  </thead>\n",
       "  <tbody>\n",
       "    <tr>\n",
       "      <th>100001_raw-Food_weight</th>\n",
       "      <td>7.348012</td>\n",
       "      <td>4.577476</td>\n",
       "      <td>4.003544</td>\n",
       "      <td>7.175258</td>\n",
       "      <td>4.628082</td>\n",
       "      <td>4.668375</td>\n",
       "      <td>4.184439</td>\n",
       "      <td>5.524602</td>\n",
       "      <td>5.236019</td>\n",
       "      <td>4.051960</td>\n",
       "      <td>...</td>\n",
       "      <td>7.420596</td>\n",
       "      <td>8.645991</td>\n",
       "      <td>8.978471</td>\n",
       "      <td>0.844213</td>\n",
       "      <td>0.445817</td>\n",
       "      <td>8.147386</td>\n",
       "      <td>0.880679</td>\n",
       "      <td>9.326646</td>\n",
       "      <td>5.905894</td>\n",
       "      <td>9.498857</td>\n",
       "    </tr>\n",
       "    <tr>\n",
       "      <th>100002_raw-Energy</th>\n",
       "      <td>7.310478</td>\n",
       "      <td>4.624479</td>\n",
       "      <td>4.003817</td>\n",
       "      <td>7.205625</td>\n",
       "      <td>4.674837</td>\n",
       "      <td>4.623739</td>\n",
       "      <td>4.303133</td>\n",
       "      <td>5.513216</td>\n",
       "      <td>5.319317</td>\n",
       "      <td>3.911008</td>\n",
       "      <td>...</td>\n",
       "      <td>7.434267</td>\n",
       "      <td>8.683359</td>\n",
       "      <td>8.898481</td>\n",
       "      <td>0.940067</td>\n",
       "      <td>0.438958</td>\n",
       "      <td>8.215672</td>\n",
       "      <td>0.835403</td>\n",
       "      <td>9.336117</td>\n",
       "      <td>5.906696</td>\n",
       "      <td>9.496916</td>\n",
       "    </tr>\n",
       "    <tr>\n",
       "      <th>100003_raw-Protein</th>\n",
       "      <td>7.372120</td>\n",
       "      <td>4.567552</td>\n",
       "      <td>3.956281</td>\n",
       "      <td>7.172141</td>\n",
       "      <td>4.637493</td>\n",
       "      <td>4.662377</td>\n",
       "      <td>4.164535</td>\n",
       "      <td>5.569874</td>\n",
       "      <td>5.245649</td>\n",
       "      <td>3.992713</td>\n",
       "      <td>...</td>\n",
       "      <td>7.414976</td>\n",
       "      <td>8.643587</td>\n",
       "      <td>8.971425</td>\n",
       "      <td>0.866410</td>\n",
       "      <td>0.448116</td>\n",
       "      <td>8.160679</td>\n",
       "      <td>0.888818</td>\n",
       "      <td>9.330538</td>\n",
       "      <td>5.882386</td>\n",
       "      <td>9.454537</td>\n",
       "    </tr>\n",
       "    <tr>\n",
       "      <th>100004_raw-Fat</th>\n",
       "      <td>7.246791</td>\n",
       "      <td>4.422901</td>\n",
       "      <td>3.999165</td>\n",
       "      <td>6.995014</td>\n",
       "      <td>4.689552</td>\n",
       "      <td>4.778102</td>\n",
       "      <td>4.283790</td>\n",
       "      <td>5.544029</td>\n",
       "      <td>5.273340</td>\n",
       "      <td>4.024833</td>\n",
       "      <td>...</td>\n",
       "      <td>7.451052</td>\n",
       "      <td>8.683681</td>\n",
       "      <td>8.907457</td>\n",
       "      <td>0.842343</td>\n",
       "      <td>0.455955</td>\n",
       "      <td>8.174278</td>\n",
       "      <td>0.874224</td>\n",
       "      <td>9.339664</td>\n",
       "      <td>5.891949</td>\n",
       "      <td>9.500463</td>\n",
       "    </tr>\n",
       "    <tr>\n",
       "      <th>100005_raw-Carbohydrate</th>\n",
       "      <td>7.340907</td>\n",
       "      <td>4.559629</td>\n",
       "      <td>4.066139</td>\n",
       "      <td>7.116928</td>\n",
       "      <td>4.623105</td>\n",
       "      <td>4.678367</td>\n",
       "      <td>4.169051</td>\n",
       "      <td>5.549784</td>\n",
       "      <td>5.156203</td>\n",
       "      <td>4.129416</td>\n",
       "      <td>...</td>\n",
       "      <td>7.460930</td>\n",
       "      <td>8.663488</td>\n",
       "      <td>8.955309</td>\n",
       "      <td>0.796839</td>\n",
       "      <td>0.432522</td>\n",
       "      <td>8.127192</td>\n",
       "      <td>0.873220</td>\n",
       "      <td>9.321359</td>\n",
       "      <td>5.902341</td>\n",
       "      <td>9.528457</td>\n",
       "    </tr>\n",
       "  </tbody>\n",
       "</table>\n",
       "<p>5 rows × 50 columns</p>\n",
       "</div>"
      ],
      "text/plain": [
       "                            UMAP1     UMAP2     UMAP3     UMAP4     UMAP5  \\\n",
       "100001_raw-Food_weight   7.348012  4.577476  4.003544  7.175258  4.628082   \n",
       "100002_raw-Energy        7.310478  4.624479  4.003817  7.205625  4.674837   \n",
       "100003_raw-Protein       7.372120  4.567552  3.956281  7.172141  4.637493   \n",
       "100004_raw-Fat           7.246791  4.422901  3.999165  6.995014  4.689552   \n",
       "100005_raw-Carbohydrate  7.340907  4.559629  4.066139  7.116928  4.623105   \n",
       "\n",
       "                            UMAP6     UMAP7     UMAP8     UMAP9    UMAP10  \\\n",
       "100001_raw-Food_weight   4.668375  4.184439  5.524602  5.236019  4.051960   \n",
       "100002_raw-Energy        4.623739  4.303133  5.513216  5.319317  3.911008   \n",
       "100003_raw-Protein       4.662377  4.164535  5.569874  5.245649  3.992713   \n",
       "100004_raw-Fat           4.778102  4.283790  5.544029  5.273340  4.024833   \n",
       "100005_raw-Carbohydrate  4.678367  4.169051  5.549784  5.156203  4.129416   \n",
       "\n",
       "                         ...    UMAP41    UMAP42    UMAP43    UMAP44  \\\n",
       "100001_raw-Food_weight   ...  7.420596  8.645991  8.978471  0.844213   \n",
       "100002_raw-Energy        ...  7.434267  8.683359  8.898481  0.940067   \n",
       "100003_raw-Protein       ...  7.414976  8.643587  8.971425  0.866410   \n",
       "100004_raw-Fat           ...  7.451052  8.683681  8.907457  0.842343   \n",
       "100005_raw-Carbohydrate  ...  7.460930  8.663488  8.955309  0.796839   \n",
       "\n",
       "                           UMAP45    UMAP46    UMAP47    UMAP48    UMAP49  \\\n",
       "100001_raw-Food_weight   0.445817  8.147386  0.880679  9.326646  5.905894   \n",
       "100002_raw-Energy        0.438958  8.215672  0.835403  9.336117  5.906696   \n",
       "100003_raw-Protein       0.448116  8.160679  0.888818  9.330538  5.882386   \n",
       "100004_raw-Fat           0.455955  8.174278  0.874224  9.339664  5.891949   \n",
       "100005_raw-Carbohydrate  0.432522  8.127192  0.873220  9.321359  5.902341   \n",
       "\n",
       "                           UMAP50  \n",
       "100001_raw-Food_weight   9.498857  \n",
       "100002_raw-Energy        9.496916  \n",
       "100003_raw-Protein       9.454537  \n",
       "100004_raw-Fat           9.500463  \n",
       "100005_raw-Carbohydrate  9.528457  \n",
       "\n",
       "[5 rows x 50 columns]"
      ]
     },
     "execution_count": 21,
     "metadata": {},
     "output_type": "execute_result"
    }
   ],
   "source": [
    "data.head()"
   ]
  },
  {
   "cell_type": "code",
   "execution_count": 22,
   "id": "6d37c960",
   "metadata": {
    "execution": {
     "iopub.execute_input": "2022-11-26T05:12:30.932291Z",
     "iopub.status.busy": "2022-11-26T05:12:30.932035Z",
     "iopub.status.idle": "2022-11-26T05:12:30.953814Z",
     "shell.execute_reply": "2022-11-26T05:12:30.953281Z"
    },
    "papermill": {
     "duration": 0.030955,
     "end_time": "2022-11-26T05:12:30.955288",
     "exception": false,
     "start_time": "2022-11-26T05:12:30.924333",
     "status": "completed"
    },
    "tags": []
   },
   "outputs": [],
   "source": [
    "assert not data.isna().any().any()"
   ]
  },
  {
   "cell_type": "markdown",
   "id": "944f5879",
   "metadata": {
    "papermill": {
     "duration": 0.013776,
     "end_time": "2022-11-26T05:12:30.984501",
     "exception": false,
     "start_time": "2022-11-26T05:12:30.970725",
     "status": "completed"
    },
    "tags": []
   },
   "source": [
    "# Clustering"
   ]
  },
  {
   "cell_type": "markdown",
   "id": "9eb57569",
   "metadata": {
    "papermill": {
     "duration": 0.013463,
     "end_time": "2022-11-26T05:12:31.011825",
     "exception": false,
     "start_time": "2022-11-26T05:12:30.998362",
     "status": "completed"
    },
    "tags": []
   },
   "source": [
    "## Generate ensemble"
   ]
  },
  {
   "cell_type": "code",
   "execution_count": 23,
   "id": "bc9e7e9b",
   "metadata": {
    "execution": {
     "iopub.execute_input": "2022-11-26T05:12:31.029326Z",
     "iopub.status.busy": "2022-11-26T05:12:31.029007Z",
     "iopub.status.idle": "2022-11-26T05:12:31.054272Z",
     "shell.execute_reply": "2022-11-26T05:12:31.053751Z"
    },
    "papermill": {
     "duration": 0.034326,
     "end_time": "2022-11-26T05:12:31.055225",
     "exception": false,
     "start_time": "2022-11-26T05:12:31.020899",
     "status": "completed"
    },
    "tags": []
   },
   "outputs": [],
   "source": [
    "from sklearn.metrics import pairwise_distances\n",
    "from clustering.ensembles.utils import generate_ensemble"
   ]
  },
  {
   "cell_type": "code",
   "execution_count": 24,
   "id": "79f74deb",
   "metadata": {
    "execution": {
     "iopub.execute_input": "2022-11-26T05:12:31.071278Z",
     "iopub.status.busy": "2022-11-26T05:12:31.071000Z",
     "iopub.status.idle": "2022-11-26T05:12:31.192721Z",
     "shell.execute_reply": "2022-11-26T05:12:31.192398Z"
    },
    "papermill": {
     "duration": 0.13157,
     "end_time": "2022-11-26T05:12:31.194292",
     "exception": false,
     "start_time": "2022-11-26T05:12:31.062722",
     "status": "completed"
    },
    "tags": []
   },
   "outputs": [],
   "source": [
    "data_dist = pairwise_distances(data, metric=CLUSTERING_OPTIONS[\"AFFINITY\"])"
   ]
  },
  {
   "cell_type": "code",
   "execution_count": 25,
   "id": "86eb825d",
   "metadata": {
    "execution": {
     "iopub.execute_input": "2022-11-26T05:12:31.225289Z",
     "iopub.status.busy": "2022-11-26T05:12:31.225124Z",
     "iopub.status.idle": "2022-11-26T05:12:31.237780Z",
     "shell.execute_reply": "2022-11-26T05:12:31.237515Z"
    },
    "papermill": {
     "duration": 0.029818,
     "end_time": "2022-11-26T05:12:31.239046",
     "exception": false,
     "start_time": "2022-11-26T05:12:31.209228",
     "status": "completed"
    },
    "tags": []
   },
   "outputs": [
    {
     "data": {
      "text/plain": [
       "(3752, 3752)"
      ]
     },
     "execution_count": 25,
     "metadata": {},
     "output_type": "execute_result"
    }
   ],
   "source": [
    "data_dist.shape"
   ]
  },
  {
   "cell_type": "code",
   "execution_count": 26,
   "id": "a4c901ab",
   "metadata": {
    "execution": {
     "iopub.execute_input": "2022-11-26T05:12:31.269458Z",
     "iopub.status.busy": "2022-11-26T05:12:31.269161Z",
     "iopub.status.idle": "2022-11-26T05:12:31.566220Z",
     "shell.execute_reply": "2022-11-26T05:12:31.565942Z"
    },
    "papermill": {
     "duration": 0.313687,
     "end_time": "2022-11-26T05:12:31.567669",
     "exception": false,
     "start_time": "2022-11-26T05:12:31.253982",
     "status": "completed"
    },
    "tags": []
   },
   "outputs": [
    {
     "data": {
      "text/plain": [
       "count            14077504.0\n",
       "mean      3.277536392211914\n",
       "std      1.2617443799972534\n",
       "min                     0.0\n",
       "25%        2.33499538898468\n",
       "50%       3.572208523750305\n",
       "75%       4.346373558044434\n",
       "max       5.757095813751221\n",
       "dtype: object"
      ]
     },
     "execution_count": 26,
     "metadata": {},
     "output_type": "execute_result"
    }
   ],
   "source": [
    "pd.Series(data_dist.flatten()).describe().apply(str)"
   ]
  },
  {
   "cell_type": "code",
   "execution_count": 27,
   "id": "2c40884f",
   "metadata": {
    "execution": {
     "iopub.execute_input": "2022-11-26T05:12:31.605914Z",
     "iopub.status.busy": "2022-11-26T05:12:31.605786Z",
     "iopub.status.idle": "2022-11-26T05:29:25.220336Z",
     "shell.execute_reply": "2022-11-26T05:29:25.219924Z"
    },
    "papermill": {
     "duration": 1013.636763,
     "end_time": "2022-11-26T05:29:25.221604",
     "exception": false,
     "start_time": "2022-11-26T05:12:31.584841",
     "status": "completed"
    },
    "tags": []
   },
   "outputs": [
    {
     "name": "stderr",
     "output_type": "stream",
     "text": [
      "100%|██████████| 296/296 [16:53<00:00,  3.42s/it]\n"
     ]
    }
   ],
   "source": [
    "ensemble = generate_ensemble(\n",
    "    data_dist,\n",
    "    CLUSTERERS,\n",
    "    attributes=CLUSTERING_ATTRIBUTES_TO_SAVE,\n",
    "    affinity_matrix=data_dist,\n",
    ")"
   ]
  },
  {
   "cell_type": "code",
   "execution_count": 28,
   "id": "2b4fc727",
   "metadata": {
    "execution": {
     "iopub.execute_input": "2022-11-26T05:29:25.284552Z",
     "iopub.status.busy": "2022-11-26T05:29:25.284299Z",
     "iopub.status.idle": "2022-11-26T05:29:25.297800Z",
     "shell.execute_reply": "2022-11-26T05:29:25.297449Z"
    },
    "papermill": {
     "duration": 0.047981,
     "end_time": "2022-11-26T05:29:25.298994",
     "exception": false,
     "start_time": "2022-11-26T05:29:25.251013",
     "status": "completed"
    },
    "tags": []
   },
   "outputs": [
    {
     "data": {
      "text/plain": [
       "(296, 3)"
      ]
     },
     "execution_count": 28,
     "metadata": {},
     "output_type": "execute_result"
    }
   ],
   "source": [
    "# the number should be close to 295 (the number of partitions generated by k-means/spectral clustering)\n",
    "ensemble.shape"
   ]
  },
  {
   "cell_type": "code",
   "execution_count": 29,
   "id": "ab9d5285",
   "metadata": {
    "execution": {
     "iopub.execute_input": "2022-11-26T05:29:25.347726Z",
     "iopub.status.busy": "2022-11-26T05:29:25.347487Z",
     "iopub.status.idle": "2022-11-26T05:29:25.380627Z",
     "shell.execute_reply": "2022-11-26T05:29:25.379792Z"
    },
    "papermill": {
     "duration": 0.053368,
     "end_time": "2022-11-26T05:29:25.381567",
     "exception": false,
     "start_time": "2022-11-26T05:29:25.328199",
     "status": "completed"
    },
    "tags": []
   },
   "outputs": [
    {
     "data": {
      "text/html": [
       "<div>\n",
       "<style scoped>\n",
       "    .dataframe tbody tr th:only-of-type {\n",
       "        vertical-align: middle;\n",
       "    }\n",
       "\n",
       "    .dataframe tbody tr th {\n",
       "        vertical-align: top;\n",
       "    }\n",
       "\n",
       "    .dataframe thead th {\n",
       "        text-align: right;\n",
       "    }\n",
       "</style>\n",
       "<table border=\"1\" class=\"dataframe\">\n",
       "  <thead>\n",
       "    <tr style=\"text-align: right;\">\n",
       "      <th></th>\n",
       "      <th>clusterer_params</th>\n",
       "      <th>partition</th>\n",
       "      <th>n_clusters</th>\n",
       "    </tr>\n",
       "    <tr>\n",
       "      <th>clusterer_id</th>\n",
       "      <th></th>\n",
       "      <th></th>\n",
       "      <th></th>\n",
       "    </tr>\n",
       "  </thead>\n",
       "  <tbody>\n",
       "    <tr>\n",
       "      <th>AgglomerativeClustering #0</th>\n",
       "      <td>{'affinity': 'precomputed', 'compute_full_tree...</td>\n",
       "      <td>[1.0, 1.0, 1.0, 1.0, 1.0, 1.0, 1.0, 1.0, 1.0, ...</td>\n",
       "      <td>2</td>\n",
       "    </tr>\n",
       "    <tr>\n",
       "      <th>AgglomerativeClustering #1</th>\n",
       "      <td>{'affinity': 'euclidean', 'compute_full_tree':...</td>\n",
       "      <td>[1.0, 1.0, 1.0, 1.0, 1.0, 1.0, 1.0, 1.0, 1.0, ...</td>\n",
       "      <td>2</td>\n",
       "    </tr>\n",
       "    <tr>\n",
       "      <th>AgglomerativeClustering #2</th>\n",
       "      <td>{'affinity': 'precomputed', 'compute_full_tree...</td>\n",
       "      <td>[1.0, 1.0, 1.0, 1.0, 1.0, 1.0, 1.0, 1.0, 1.0, ...</td>\n",
       "      <td>2</td>\n",
       "    </tr>\n",
       "    <tr>\n",
       "      <th>AgglomerativeClustering #3</th>\n",
       "      <td>{'affinity': 'precomputed', 'compute_full_tree...</td>\n",
       "      <td>[0.0, 0.0, 0.0, 0.0, 0.0, 0.0, 0.0, 0.0, 0.0, ...</td>\n",
       "      <td>2</td>\n",
       "    </tr>\n",
       "    <tr>\n",
       "      <th>AgglomerativeClustering #4</th>\n",
       "      <td>{'affinity': 'precomputed', 'compute_full_tree...</td>\n",
       "      <td>[1.0, 1.0, 1.0, 1.0, 1.0, 1.0, 1.0, 1.0, 1.0, ...</td>\n",
       "      <td>3</td>\n",
       "    </tr>\n",
       "  </tbody>\n",
       "</table>\n",
       "</div>"
      ],
      "text/plain": [
       "                                                             clusterer_params  \\\n",
       "clusterer_id                                                                    \n",
       "AgglomerativeClustering #0  {'affinity': 'precomputed', 'compute_full_tree...   \n",
       "AgglomerativeClustering #1  {'affinity': 'euclidean', 'compute_full_tree':...   \n",
       "AgglomerativeClustering #2  {'affinity': 'precomputed', 'compute_full_tree...   \n",
       "AgglomerativeClustering #3  {'affinity': 'precomputed', 'compute_full_tree...   \n",
       "AgglomerativeClustering #4  {'affinity': 'precomputed', 'compute_full_tree...   \n",
       "\n",
       "                                                                    partition  \\\n",
       "clusterer_id                                                                    \n",
       "AgglomerativeClustering #0  [1.0, 1.0, 1.0, 1.0, 1.0, 1.0, 1.0, 1.0, 1.0, ...   \n",
       "AgglomerativeClustering #1  [1.0, 1.0, 1.0, 1.0, 1.0, 1.0, 1.0, 1.0, 1.0, ...   \n",
       "AgglomerativeClustering #2  [1.0, 1.0, 1.0, 1.0, 1.0, 1.0, 1.0, 1.0, 1.0, ...   \n",
       "AgglomerativeClustering #3  [0.0, 0.0, 0.0, 0.0, 0.0, 0.0, 0.0, 0.0, 0.0, ...   \n",
       "AgglomerativeClustering #4  [1.0, 1.0, 1.0, 1.0, 1.0, 1.0, 1.0, 1.0, 1.0, ...   \n",
       "\n",
       "                            n_clusters  \n",
       "clusterer_id                            \n",
       "AgglomerativeClustering #0           2  \n",
       "AgglomerativeClustering #1           2  \n",
       "AgglomerativeClustering #2           2  \n",
       "AgglomerativeClustering #3           2  \n",
       "AgglomerativeClustering #4           3  "
      ]
     },
     "execution_count": 29,
     "metadata": {},
     "output_type": "execute_result"
    }
   ],
   "source": [
    "ensemble.head()"
   ]
  },
  {
   "cell_type": "code",
   "execution_count": 30,
   "id": "709d0c3f",
   "metadata": {
    "execution": {
     "iopub.execute_input": "2022-11-26T05:29:25.414690Z",
     "iopub.status.busy": "2022-11-26T05:29:25.414426Z",
     "iopub.status.idle": "2022-11-26T05:29:25.437075Z",
     "shell.execute_reply": "2022-11-26T05:29:25.436581Z"
    },
    "papermill": {
     "duration": 0.039723,
     "end_time": "2022-11-26T05:29:25.437859",
     "exception": false,
     "start_time": "2022-11-26T05:29:25.398136",
     "status": "completed"
    },
    "tags": []
   },
   "outputs": [
    {
     "data": {
      "text/plain": [
       "75    4\n",
       "20    4\n",
       "22    4\n",
       "23    4\n",
       "24    4\n",
       "Name: n_clusters, dtype: int64"
      ]
     },
     "execution_count": 30,
     "metadata": {},
     "output_type": "execute_result"
    }
   ],
   "source": [
    "ensemble[\"n_clusters\"].value_counts().head()"
   ]
  },
  {
   "cell_type": "code",
   "execution_count": 31,
   "id": "b03ba404",
   "metadata": {
    "execution": {
     "iopub.execute_input": "2022-11-26T05:29:25.471353Z",
     "iopub.status.busy": "2022-11-26T05:29:25.471096Z",
     "iopub.status.idle": "2022-11-26T05:29:25.494855Z",
     "shell.execute_reply": "2022-11-26T05:29:25.494381Z"
    },
    "papermill": {
     "duration": 0.042424,
     "end_time": "2022-11-26T05:29:25.495669",
     "exception": false,
     "start_time": "2022-11-26T05:29:25.453245",
     "status": "completed"
    },
    "tags": []
   },
   "outputs": [
    {
     "data": {
      "text/plain": [
       "count    296.000000\n",
       "mean      38.500000\n",
       "std       21.396182\n",
       "min        2.000000\n",
       "25%       20.000000\n",
       "50%       38.500000\n",
       "75%       57.000000\n",
       "max       75.000000\n",
       "Name: n_clusters, dtype: float64"
      ]
     },
     "metadata": {},
     "output_type": "display_data"
    }
   ],
   "source": [
    "ensemble_stats = ensemble[\"n_clusters\"].describe()\n",
    "display(ensemble_stats)"
   ]
  },
  {
   "cell_type": "markdown",
   "id": "76310ab0",
   "metadata": {
    "papermill": {
     "duration": 0.015033,
     "end_time": "2022-11-26T05:29:25.526540",
     "exception": false,
     "start_time": "2022-11-26T05:29:25.511507",
     "status": "completed"
    },
    "tags": []
   },
   "source": [
    "## Testing"
   ]
  },
  {
   "cell_type": "code",
   "execution_count": 32,
   "id": "51b5f02f",
   "metadata": {
    "execution": {
     "iopub.execute_input": "2022-11-26T05:29:25.557900Z",
     "iopub.status.busy": "2022-11-26T05:29:25.557660Z",
     "iopub.status.idle": "2022-11-26T05:29:25.577489Z",
     "shell.execute_reply": "2022-11-26T05:29:25.577030Z"
    },
    "papermill": {
     "duration": 0.036725,
     "end_time": "2022-11-26T05:29:25.578440",
     "exception": false,
     "start_time": "2022-11-26T05:29:25.541715",
     "status": "completed"
    },
    "tags": []
   },
   "outputs": [],
   "source": [
    "assert ensemble_stats[\"min\"] > 1"
   ]
  },
  {
   "cell_type": "code",
   "execution_count": 33,
   "id": "cb389982",
   "metadata": {
    "execution": {
     "iopub.execute_input": "2022-11-26T05:29:25.610040Z",
     "iopub.status.busy": "2022-11-26T05:29:25.609881Z",
     "iopub.status.idle": "2022-11-26T05:29:25.629452Z",
     "shell.execute_reply": "2022-11-26T05:29:25.628995Z"
    },
    "papermill": {
     "duration": 0.036133,
     "end_time": "2022-11-26T05:29:25.630329",
     "exception": false,
     "start_time": "2022-11-26T05:29:25.594196",
     "status": "completed"
    },
    "tags": []
   },
   "outputs": [],
   "source": [
    "assert not ensemble[\"n_clusters\"].isna().any()"
   ]
  },
  {
   "cell_type": "code",
   "execution_count": 34,
   "id": "2f78b392",
   "metadata": {
    "execution": {
     "iopub.execute_input": "2022-11-26T05:29:25.662990Z",
     "iopub.status.busy": "2022-11-26T05:29:25.662747Z",
     "iopub.status.idle": "2022-11-26T05:29:25.682975Z",
     "shell.execute_reply": "2022-11-26T05:29:25.682467Z"
    },
    "papermill": {
     "duration": 0.038501,
     "end_time": "2022-11-26T05:29:25.683944",
     "exception": false,
     "start_time": "2022-11-26T05:29:25.645443",
     "status": "completed"
    },
    "tags": []
   },
   "outputs": [],
   "source": [
    "assert ensemble.shape[0] == len(CLUSTERERS)"
   ]
  },
  {
   "cell_type": "code",
   "execution_count": 35,
   "id": "9e9712b8",
   "metadata": {
    "execution": {
     "iopub.execute_input": "2022-11-26T05:29:25.715889Z",
     "iopub.status.busy": "2022-11-26T05:29:25.715456Z",
     "iopub.status.idle": "2022-11-26T05:29:25.759632Z",
     "shell.execute_reply": "2022-11-26T05:29:25.759165Z"
    },
    "papermill": {
     "duration": 0.061179,
     "end_time": "2022-11-26T05:29:25.761062",
     "exception": false,
     "start_time": "2022-11-26T05:29:25.699883",
     "status": "completed"
    },
    "tags": []
   },
   "outputs": [],
   "source": [
    "# all partitions have the right size\n",
    "assert np.all(\n",
    "    [part[\"partition\"].shape[0] == data.shape[0] for idx, part in ensemble.iterrows()]\n",
    ")"
   ]
  },
  {
   "cell_type": "code",
   "execution_count": 36,
   "id": "63053b05",
   "metadata": {
    "execution": {
     "iopub.execute_input": "2022-11-26T05:29:25.820516Z",
     "iopub.status.busy": "2022-11-26T05:29:25.820250Z",
     "iopub.status.idle": "2022-11-26T05:29:25.867789Z",
     "shell.execute_reply": "2022-11-26T05:29:25.867267Z"
    },
    "papermill": {
     "duration": 0.078043,
     "end_time": "2022-11-26T05:29:25.869226",
     "exception": false,
     "start_time": "2022-11-26T05:29:25.791183",
     "status": "completed"
    },
    "tags": []
   },
   "outputs": [],
   "source": [
    "# no partition has negative clusters (noisy points)\n",
    "assert not np.any([(part[\"partition\"] < 0).any() for idx, part in ensemble.iterrows()])"
   ]
  },
  {
   "cell_type": "markdown",
   "id": "362fc2a0",
   "metadata": {
    "papermill": {
     "duration": 0.028517,
     "end_time": "2022-11-26T05:29:25.927025",
     "exception": false,
     "start_time": "2022-11-26T05:29:25.898508",
     "status": "completed"
    },
    "tags": []
   },
   "source": [
    "## Add clustering quality measures"
   ]
  },
  {
   "cell_type": "code",
   "execution_count": 37,
   "id": "a315572d",
   "metadata": {
    "execution": {
     "iopub.execute_input": "2022-11-26T05:29:25.963225Z",
     "iopub.status.busy": "2022-11-26T05:29:25.962961Z",
     "iopub.status.idle": "2022-11-26T05:29:25.983217Z",
     "shell.execute_reply": "2022-11-26T05:29:25.982757Z"
    },
    "papermill": {
     "duration": 0.037288,
     "end_time": "2022-11-26T05:29:25.984148",
     "exception": false,
     "start_time": "2022-11-26T05:29:25.946860",
     "status": "completed"
    },
    "tags": []
   },
   "outputs": [],
   "source": [
    "from sklearn.metrics import calinski_harabasz_score"
   ]
  },
  {
   "cell_type": "code",
   "execution_count": 38,
   "id": "6e2fd078",
   "metadata": {
    "execution": {
     "iopub.execute_input": "2022-11-26T05:29:26.016315Z",
     "iopub.status.busy": "2022-11-26T05:29:26.015926Z",
     "iopub.status.idle": "2022-11-26T05:29:26.801207Z",
     "shell.execute_reply": "2022-11-26T05:29:26.800794Z"
    },
    "papermill": {
     "duration": 0.802536,
     "end_time": "2022-11-26T05:29:26.802726",
     "exception": false,
     "start_time": "2022-11-26T05:29:26.000190",
     "status": "completed"
    },
    "tags": []
   },
   "outputs": [],
   "source": [
    "ensemble = ensemble.assign(\n",
    "    ch_score=ensemble[\"partition\"].apply(lambda x: calinski_harabasz_score(data, x))\n",
    ")"
   ]
  },
  {
   "cell_type": "code",
   "execution_count": 39,
   "id": "39dc950a",
   "metadata": {
    "execution": {
     "iopub.execute_input": "2022-11-26T05:29:26.835143Z",
     "iopub.status.busy": "2022-11-26T05:29:26.834952Z",
     "iopub.status.idle": "2022-11-26T05:29:26.847848Z",
     "shell.execute_reply": "2022-11-26T05:29:26.847514Z"
    },
    "papermill": {
     "duration": 0.029578,
     "end_time": "2022-11-26T05:29:26.848582",
     "exception": false,
     "start_time": "2022-11-26T05:29:26.819004",
     "status": "completed"
    },
    "tags": []
   },
   "outputs": [
    {
     "data": {
      "text/plain": [
       "(296, 4)"
      ]
     },
     "execution_count": 39,
     "metadata": {},
     "output_type": "execute_result"
    }
   ],
   "source": [
    "ensemble.shape"
   ]
  },
  {
   "cell_type": "code",
   "execution_count": 40,
   "id": "e053b3f7",
   "metadata": {
    "execution": {
     "iopub.execute_input": "2022-11-26T05:29:26.880642Z",
     "iopub.status.busy": "2022-11-26T05:29:26.880382Z",
     "iopub.status.idle": "2022-11-26T05:29:26.912225Z",
     "shell.execute_reply": "2022-11-26T05:29:26.911769Z"
    },
    "papermill": {
     "duration": 0.048467,
     "end_time": "2022-11-26T05:29:26.913035",
     "exception": false,
     "start_time": "2022-11-26T05:29:26.864568",
     "status": "completed"
    },
    "tags": []
   },
   "outputs": [
    {
     "data": {
      "text/html": [
       "<div>\n",
       "<style scoped>\n",
       "    .dataframe tbody tr th:only-of-type {\n",
       "        vertical-align: middle;\n",
       "    }\n",
       "\n",
       "    .dataframe tbody tr th {\n",
       "        vertical-align: top;\n",
       "    }\n",
       "\n",
       "    .dataframe thead th {\n",
       "        text-align: right;\n",
       "    }\n",
       "</style>\n",
       "<table border=\"1\" class=\"dataframe\">\n",
       "  <thead>\n",
       "    <tr style=\"text-align: right;\">\n",
       "      <th></th>\n",
       "      <th>clusterer_params</th>\n",
       "      <th>partition</th>\n",
       "      <th>n_clusters</th>\n",
       "      <th>ch_score</th>\n",
       "    </tr>\n",
       "    <tr>\n",
       "      <th>clusterer_id</th>\n",
       "      <th></th>\n",
       "      <th></th>\n",
       "      <th></th>\n",
       "      <th></th>\n",
       "    </tr>\n",
       "  </thead>\n",
       "  <tbody>\n",
       "    <tr>\n",
       "      <th>AgglomerativeClustering #0</th>\n",
       "      <td>{'affinity': 'precomputed', 'compute_full_tree...</td>\n",
       "      <td>[1.0, 1.0, 1.0, 1.0, 1.0, 1.0, 1.0, 1.0, 1.0, ...</td>\n",
       "      <td>2</td>\n",
       "      <td>0.576750</td>\n",
       "    </tr>\n",
       "    <tr>\n",
       "      <th>AgglomerativeClustering #1</th>\n",
       "      <td>{'affinity': 'euclidean', 'compute_full_tree':...</td>\n",
       "      <td>[1.0, 1.0, 1.0, 1.0, 1.0, 1.0, 1.0, 1.0, 1.0, ...</td>\n",
       "      <td>2</td>\n",
       "      <td>1391.490623</td>\n",
       "    </tr>\n",
       "    <tr>\n",
       "      <th>AgglomerativeClustering #2</th>\n",
       "      <td>{'affinity': 'precomputed', 'compute_full_tree...</td>\n",
       "      <td>[1.0, 1.0, 1.0, 1.0, 1.0, 1.0, 1.0, 1.0, 1.0, ...</td>\n",
       "      <td>2</td>\n",
       "      <td>1775.129722</td>\n",
       "    </tr>\n",
       "    <tr>\n",
       "      <th>AgglomerativeClustering #3</th>\n",
       "      <td>{'affinity': 'precomputed', 'compute_full_tree...</td>\n",
       "      <td>[0.0, 0.0, 0.0, 0.0, 0.0, 0.0, 0.0, 0.0, 0.0, ...</td>\n",
       "      <td>2</td>\n",
       "      <td>1709.968171</td>\n",
       "    </tr>\n",
       "    <tr>\n",
       "      <th>AgglomerativeClustering #4</th>\n",
       "      <td>{'affinity': 'precomputed', 'compute_full_tree...</td>\n",
       "      <td>[1.0, 1.0, 1.0, 1.0, 1.0, 1.0, 1.0, 1.0, 1.0, ...</td>\n",
       "      <td>3</td>\n",
       "      <td>0.331972</td>\n",
       "    </tr>\n",
       "  </tbody>\n",
       "</table>\n",
       "</div>"
      ],
      "text/plain": [
       "                                                             clusterer_params  \\\n",
       "clusterer_id                                                                    \n",
       "AgglomerativeClustering #0  {'affinity': 'precomputed', 'compute_full_tree...   \n",
       "AgglomerativeClustering #1  {'affinity': 'euclidean', 'compute_full_tree':...   \n",
       "AgglomerativeClustering #2  {'affinity': 'precomputed', 'compute_full_tree...   \n",
       "AgglomerativeClustering #3  {'affinity': 'precomputed', 'compute_full_tree...   \n",
       "AgglomerativeClustering #4  {'affinity': 'precomputed', 'compute_full_tree...   \n",
       "\n",
       "                                                                    partition  \\\n",
       "clusterer_id                                                                    \n",
       "AgglomerativeClustering #0  [1.0, 1.0, 1.0, 1.0, 1.0, 1.0, 1.0, 1.0, 1.0, ...   \n",
       "AgglomerativeClustering #1  [1.0, 1.0, 1.0, 1.0, 1.0, 1.0, 1.0, 1.0, 1.0, ...   \n",
       "AgglomerativeClustering #2  [1.0, 1.0, 1.0, 1.0, 1.0, 1.0, 1.0, 1.0, 1.0, ...   \n",
       "AgglomerativeClustering #3  [0.0, 0.0, 0.0, 0.0, 0.0, 0.0, 0.0, 0.0, 0.0, ...   \n",
       "AgglomerativeClustering #4  [1.0, 1.0, 1.0, 1.0, 1.0, 1.0, 1.0, 1.0, 1.0, ...   \n",
       "\n",
       "                            n_clusters     ch_score  \n",
       "clusterer_id                                         \n",
       "AgglomerativeClustering #0           2     0.576750  \n",
       "AgglomerativeClustering #1           2  1391.490623  \n",
       "AgglomerativeClustering #2           2  1775.129722  \n",
       "AgglomerativeClustering #3           2  1709.968171  \n",
       "AgglomerativeClustering #4           3     0.331972  "
      ]
     },
     "execution_count": 40,
     "metadata": {},
     "output_type": "execute_result"
    }
   ],
   "source": [
    "ensemble.head()"
   ]
  },
  {
   "cell_type": "markdown",
   "id": "79245f64",
   "metadata": {
    "papermill": {
     "duration": 0.015116,
     "end_time": "2022-11-26T05:29:26.943585",
     "exception": false,
     "start_time": "2022-11-26T05:29:26.928469",
     "status": "completed"
    },
    "tags": []
   },
   "source": [
    "## Save"
   ]
  },
  {
   "cell_type": "code",
   "execution_count": 41,
   "id": "c3d7d186",
   "metadata": {
    "execution": {
     "iopub.execute_input": "2022-11-26T05:29:26.975575Z",
     "iopub.status.busy": "2022-11-26T05:29:26.975333Z",
     "iopub.status.idle": "2022-11-26T05:29:26.996871Z",
     "shell.execute_reply": "2022-11-26T05:29:26.996361Z"
    },
    "papermill": {
     "duration": 0.038183,
     "end_time": "2022-11-26T05:29:26.997710",
     "exception": false,
     "start_time": "2022-11-26T05:29:26.959527",
     "status": "completed"
    },
    "tags": []
   },
   "outputs": [
    {
     "data": {
      "text/plain": [
       "PosixPath('/opt/data/results/clustering/null_sims/shuffle_lvs/runs/umap-z_score_std-projection-smultixcan-efo_partial-mashr-zscores/AgglomerativeClustering-AFFINITY_euclidean-K_MAX_75-K_MIN_2.pkl')"
      ]
     },
     "metadata": {},
     "output_type": "display_data"
    }
   ],
   "source": [
    "output_filename = Path(\n",
    "    RESULTS_DIR,\n",
    "    generate_result_set_name(\n",
    "        {k: v for k, v in CLUSTERING_OPTIONS.items() if k != \"LINKAGE\"},\n",
    "        prefix=f\"{clustering_method_name}-\",\n",
    "        suffix=\".pkl\",\n",
    "    ),\n",
    ").resolve()\n",
    "display(output_filename)"
   ]
  },
  {
   "cell_type": "code",
   "execution_count": 42,
   "id": "34b6c6a9",
   "metadata": {
    "execution": {
     "iopub.execute_input": "2022-11-26T05:29:27.029506Z",
     "iopub.status.busy": "2022-11-26T05:29:27.029140Z",
     "iopub.status.idle": "2022-11-26T05:29:27.062019Z",
     "shell.execute_reply": "2022-11-26T05:29:27.061491Z"
    },
    "papermill": {
     "duration": 0.049876,
     "end_time": "2022-11-26T05:29:27.063147",
     "exception": false,
     "start_time": "2022-11-26T05:29:27.013271",
     "status": "completed"
    },
    "tags": []
   },
   "outputs": [],
   "source": [
    "ensemble.to_pickle(output_filename)"
   ]
  },
  {
   "cell_type": "markdown",
   "id": "70cc7287",
   "metadata": {
    "papermill": {
     "duration": 0.015023,
     "end_time": "2022-11-26T05:29:27.094079",
     "exception": false,
     "start_time": "2022-11-26T05:29:27.079056",
     "status": "completed"
    },
    "tags": []
   },
   "source": [
    "# Cluster quality"
   ]
  },
  {
   "cell_type": "code",
   "execution_count": 43,
   "id": "92ccc7b6",
   "metadata": {
    "execution": {
     "iopub.execute_input": "2022-11-26T05:29:27.126068Z",
     "iopub.status.busy": "2022-11-26T05:29:27.125577Z",
     "iopub.status.idle": "2022-11-26T05:29:27.154900Z",
     "shell.execute_reply": "2022-11-26T05:29:27.154426Z"
    },
    "papermill": {
     "duration": 0.046104,
     "end_time": "2022-11-26T05:29:27.155738",
     "exception": false,
     "start_time": "2022-11-26T05:29:27.109634",
     "status": "completed"
    },
    "tags": []
   },
   "outputs": [
    {
     "data": {
      "text/html": [
       "<div>\n",
       "<style scoped>\n",
       "    .dataframe tbody tr th:only-of-type {\n",
       "        vertical-align: middle;\n",
       "    }\n",
       "\n",
       "    .dataframe tbody tr th {\n",
       "        vertical-align: top;\n",
       "    }\n",
       "\n",
       "    .dataframe thead th {\n",
       "        text-align: right;\n",
       "    }\n",
       "</style>\n",
       "<table border=\"1\" class=\"dataframe\">\n",
       "  <thead>\n",
       "    <tr style=\"text-align: right;\">\n",
       "      <th></th>\n",
       "      <th>ch_score</th>\n",
       "    </tr>\n",
       "    <tr>\n",
       "      <th>n_clusters</th>\n",
       "      <th></th>\n",
       "    </tr>\n",
       "  </thead>\n",
       "  <tbody>\n",
       "    <tr>\n",
       "      <th>2</th>\n",
       "      <td>1219.291317</td>\n",
       "    </tr>\n",
       "    <tr>\n",
       "      <th>3</th>\n",
       "      <td>1639.908614</td>\n",
       "    </tr>\n",
       "    <tr>\n",
       "      <th>4</th>\n",
       "      <td>1826.394789</td>\n",
       "    </tr>\n",
       "    <tr>\n",
       "      <th>5</th>\n",
       "      <td>2134.437952</td>\n",
       "    </tr>\n",
       "    <tr>\n",
       "      <th>6</th>\n",
       "      <td>2203.768779</td>\n",
       "    </tr>\n",
       "    <tr>\n",
       "      <th>7</th>\n",
       "      <td>2242.650931</td>\n",
       "    </tr>\n",
       "    <tr>\n",
       "      <th>8</th>\n",
       "      <td>2196.229157</td>\n",
       "    </tr>\n",
       "    <tr>\n",
       "      <th>9</th>\n",
       "      <td>2101.070335</td>\n",
       "    </tr>\n",
       "    <tr>\n",
       "      <th>10</th>\n",
       "      <td>2250.990073</td>\n",
       "    </tr>\n",
       "    <tr>\n",
       "      <th>11</th>\n",
       "      <td>2223.656383</td>\n",
       "    </tr>\n",
       "    <tr>\n",
       "      <th>12</th>\n",
       "      <td>2343.039902</td>\n",
       "    </tr>\n",
       "    <tr>\n",
       "      <th>13</th>\n",
       "      <td>2428.343019</td>\n",
       "    </tr>\n",
       "    <tr>\n",
       "      <th>14</th>\n",
       "      <td>2528.461971</td>\n",
       "    </tr>\n",
       "    <tr>\n",
       "      <th>15</th>\n",
       "      <td>2570.558380</td>\n",
       "    </tr>\n",
       "    <tr>\n",
       "      <th>16</th>\n",
       "      <td>2602.851620</td>\n",
       "    </tr>\n",
       "    <tr>\n",
       "      <th>17</th>\n",
       "      <td>2633.864660</td>\n",
       "    </tr>\n",
       "    <tr>\n",
       "      <th>18</th>\n",
       "      <td>2743.079110</td>\n",
       "    </tr>\n",
       "    <tr>\n",
       "      <th>19</th>\n",
       "      <td>2796.852909</td>\n",
       "    </tr>\n",
       "    <tr>\n",
       "      <th>20</th>\n",
       "      <td>2834.143502</td>\n",
       "    </tr>\n",
       "    <tr>\n",
       "      <th>21</th>\n",
       "      <td>2894.610019</td>\n",
       "    </tr>\n",
       "    <tr>\n",
       "      <th>22</th>\n",
       "      <td>2923.068316</td>\n",
       "    </tr>\n",
       "    <tr>\n",
       "      <th>23</th>\n",
       "      <td>2926.386010</td>\n",
       "    </tr>\n",
       "    <tr>\n",
       "      <th>24</th>\n",
       "      <td>2930.943538</td>\n",
       "    </tr>\n",
       "    <tr>\n",
       "      <th>25</th>\n",
       "      <td>2950.611800</td>\n",
       "    </tr>\n",
       "    <tr>\n",
       "      <th>26</th>\n",
       "      <td>2967.113296</td>\n",
       "    </tr>\n",
       "    <tr>\n",
       "      <th>27</th>\n",
       "      <td>2990.533028</td>\n",
       "    </tr>\n",
       "    <tr>\n",
       "      <th>28</th>\n",
       "      <td>3064.304767</td>\n",
       "    </tr>\n",
       "    <tr>\n",
       "      <th>29</th>\n",
       "      <td>3065.230616</td>\n",
       "    </tr>\n",
       "    <tr>\n",
       "      <th>30</th>\n",
       "      <td>3088.621842</td>\n",
       "    </tr>\n",
       "    <tr>\n",
       "      <th>31</th>\n",
       "      <td>3112.826065</td>\n",
       "    </tr>\n",
       "    <tr>\n",
       "      <th>32</th>\n",
       "      <td>3134.934952</td>\n",
       "    </tr>\n",
       "    <tr>\n",
       "      <th>33</th>\n",
       "      <td>3168.451113</td>\n",
       "    </tr>\n",
       "    <tr>\n",
       "      <th>34</th>\n",
       "      <td>3177.265164</td>\n",
       "    </tr>\n",
       "    <tr>\n",
       "      <th>35</th>\n",
       "      <td>3149.103645</td>\n",
       "    </tr>\n",
       "    <tr>\n",
       "      <th>36</th>\n",
       "      <td>3163.167185</td>\n",
       "    </tr>\n",
       "    <tr>\n",
       "      <th>37</th>\n",
       "      <td>3171.358013</td>\n",
       "    </tr>\n",
       "    <tr>\n",
       "      <th>38</th>\n",
       "      <td>3176.017281</td>\n",
       "    </tr>\n",
       "    <tr>\n",
       "      <th>39</th>\n",
       "      <td>3148.685888</td>\n",
       "    </tr>\n",
       "    <tr>\n",
       "      <th>40</th>\n",
       "      <td>3174.817803</td>\n",
       "    </tr>\n",
       "    <tr>\n",
       "      <th>41</th>\n",
       "      <td>3168.944059</td>\n",
       "    </tr>\n",
       "    <tr>\n",
       "      <th>42</th>\n",
       "      <td>3173.141082</td>\n",
       "    </tr>\n",
       "    <tr>\n",
       "      <th>43</th>\n",
       "      <td>3146.672217</td>\n",
       "    </tr>\n",
       "    <tr>\n",
       "      <th>44</th>\n",
       "      <td>3148.315878</td>\n",
       "    </tr>\n",
       "    <tr>\n",
       "      <th>45</th>\n",
       "      <td>3108.594402</td>\n",
       "    </tr>\n",
       "    <tr>\n",
       "      <th>46</th>\n",
       "      <td>3079.816606</td>\n",
       "    </tr>\n",
       "    <tr>\n",
       "      <th>47</th>\n",
       "      <td>3074.246221</td>\n",
       "    </tr>\n",
       "    <tr>\n",
       "      <th>48</th>\n",
       "      <td>3067.266358</td>\n",
       "    </tr>\n",
       "    <tr>\n",
       "      <th>49</th>\n",
       "      <td>3036.938234</td>\n",
       "    </tr>\n",
       "    <tr>\n",
       "      <th>50</th>\n",
       "      <td>3027.885226</td>\n",
       "    </tr>\n",
       "    <tr>\n",
       "      <th>51</th>\n",
       "      <td>3047.276054</td>\n",
       "    </tr>\n",
       "    <tr>\n",
       "      <th>52</th>\n",
       "      <td>3011.298049</td>\n",
       "    </tr>\n",
       "    <tr>\n",
       "      <th>53</th>\n",
       "      <td>2985.339774</td>\n",
       "    </tr>\n",
       "    <tr>\n",
       "      <th>54</th>\n",
       "      <td>2972.115184</td>\n",
       "    </tr>\n",
       "    <tr>\n",
       "      <th>55</th>\n",
       "      <td>2960.338603</td>\n",
       "    </tr>\n",
       "    <tr>\n",
       "      <th>56</th>\n",
       "      <td>2951.240206</td>\n",
       "    </tr>\n",
       "    <tr>\n",
       "      <th>57</th>\n",
       "      <td>2952.286543</td>\n",
       "    </tr>\n",
       "    <tr>\n",
       "      <th>58</th>\n",
       "      <td>2945.288880</td>\n",
       "    </tr>\n",
       "    <tr>\n",
       "      <th>59</th>\n",
       "      <td>2929.018691</td>\n",
       "    </tr>\n",
       "    <tr>\n",
       "      <th>60</th>\n",
       "      <td>2897.164608</td>\n",
       "    </tr>\n",
       "    <tr>\n",
       "      <th>61</th>\n",
       "      <td>2890.908843</td>\n",
       "    </tr>\n",
       "    <tr>\n",
       "      <th>62</th>\n",
       "      <td>2880.167117</td>\n",
       "    </tr>\n",
       "    <tr>\n",
       "      <th>63</th>\n",
       "      <td>2850.295596</td>\n",
       "    </tr>\n",
       "    <tr>\n",
       "      <th>64</th>\n",
       "      <td>2832.444737</td>\n",
       "    </tr>\n",
       "    <tr>\n",
       "      <th>65</th>\n",
       "      <td>2813.441278</td>\n",
       "    </tr>\n",
       "    <tr>\n",
       "      <th>66</th>\n",
       "      <td>2783.796330</td>\n",
       "    </tr>\n",
       "    <tr>\n",
       "      <th>67</th>\n",
       "      <td>2755.766320</td>\n",
       "    </tr>\n",
       "    <tr>\n",
       "      <th>68</th>\n",
       "      <td>2742.500417</td>\n",
       "    </tr>\n",
       "    <tr>\n",
       "      <th>69</th>\n",
       "      <td>2718.787118</td>\n",
       "    </tr>\n",
       "    <tr>\n",
       "      <th>70</th>\n",
       "      <td>2721.608154</td>\n",
       "    </tr>\n",
       "    <tr>\n",
       "      <th>71</th>\n",
       "      <td>2714.073860</td>\n",
       "    </tr>\n",
       "    <tr>\n",
       "      <th>72</th>\n",
       "      <td>2699.595820</td>\n",
       "    </tr>\n",
       "    <tr>\n",
       "      <th>73</th>\n",
       "      <td>2689.689556</td>\n",
       "    </tr>\n",
       "    <tr>\n",
       "      <th>74</th>\n",
       "      <td>2672.736729</td>\n",
       "    </tr>\n",
       "    <tr>\n",
       "      <th>75</th>\n",
       "      <td>2651.498961</td>\n",
       "    </tr>\n",
       "  </tbody>\n",
       "</table>\n",
       "</div>"
      ],
      "text/plain": [
       "               ch_score\n",
       "n_clusters             \n",
       "2           1219.291317\n",
       "3           1639.908614\n",
       "4           1826.394789\n",
       "5           2134.437952\n",
       "6           2203.768779\n",
       "7           2242.650931\n",
       "8           2196.229157\n",
       "9           2101.070335\n",
       "10          2250.990073\n",
       "11          2223.656383\n",
       "12          2343.039902\n",
       "13          2428.343019\n",
       "14          2528.461971\n",
       "15          2570.558380\n",
       "16          2602.851620\n",
       "17          2633.864660\n",
       "18          2743.079110\n",
       "19          2796.852909\n",
       "20          2834.143502\n",
       "21          2894.610019\n",
       "22          2923.068316\n",
       "23          2926.386010\n",
       "24          2930.943538\n",
       "25          2950.611800\n",
       "26          2967.113296\n",
       "27          2990.533028\n",
       "28          3064.304767\n",
       "29          3065.230616\n",
       "30          3088.621842\n",
       "31          3112.826065\n",
       "32          3134.934952\n",
       "33          3168.451113\n",
       "34          3177.265164\n",
       "35          3149.103645\n",
       "36          3163.167185\n",
       "37          3171.358013\n",
       "38          3176.017281\n",
       "39          3148.685888\n",
       "40          3174.817803\n",
       "41          3168.944059\n",
       "42          3173.141082\n",
       "43          3146.672217\n",
       "44          3148.315878\n",
       "45          3108.594402\n",
       "46          3079.816606\n",
       "47          3074.246221\n",
       "48          3067.266358\n",
       "49          3036.938234\n",
       "50          3027.885226\n",
       "51          3047.276054\n",
       "52          3011.298049\n",
       "53          2985.339774\n",
       "54          2972.115184\n",
       "55          2960.338603\n",
       "56          2951.240206\n",
       "57          2952.286543\n",
       "58          2945.288880\n",
       "59          2929.018691\n",
       "60          2897.164608\n",
       "61          2890.908843\n",
       "62          2880.167117\n",
       "63          2850.295596\n",
       "64          2832.444737\n",
       "65          2813.441278\n",
       "66          2783.796330\n",
       "67          2755.766320\n",
       "68          2742.500417\n",
       "69          2718.787118\n",
       "70          2721.608154\n",
       "71          2714.073860\n",
       "72          2699.595820\n",
       "73          2689.689556\n",
       "74          2672.736729\n",
       "75          2651.498961"
      ]
     },
     "metadata": {},
     "output_type": "display_data"
    }
   ],
   "source": [
    "with pd.option_context(\"display.max_rows\", None, \"display.max_columns\", None):\n",
    "    _df = ensemble.groupby([\"n_clusters\"]).mean()\n",
    "    display(_df)"
   ]
  },
  {
   "cell_type": "code",
   "execution_count": 44,
   "id": "19e282a7",
   "metadata": {
    "execution": {
     "iopub.execute_input": "2022-11-26T05:29:27.188288Z",
     "iopub.status.busy": "2022-11-26T05:29:27.188052Z",
     "iopub.status.idle": "2022-11-26T05:29:29.746262Z",
     "shell.execute_reply": "2022-11-26T05:29:29.745786Z"
    },
    "papermill": {
     "duration": 2.576195,
     "end_time": "2022-11-26T05:29:29.748205",
     "exception": false,
     "start_time": "2022-11-26T05:29:27.172010",
     "status": "completed"
    },
    "tags": []
   },
   "outputs": [
    {
     "data": {
      "image/png": "[encoded data removed]",
      "text/plain": [
       "<Figure size 1008x432 with 1 Axes>"
      ]
     },
     "metadata": {},
     "output_type": "display_data"
    }
   ],
   "source": [
    "with sns.plotting_context(\"talk\", font_scale=0.75), sns.axes_style(\n",
    "    \"whitegrid\", {\"grid.linestyle\": \"--\"}\n",
    "):\n",
    "    fig = plt.figure(figsize=(14, 6))\n",
    "    ax = sns.pointplot(data=ensemble, x=\"n_clusters\", y=\"ch_score\")\n",
    "    ax.set_ylabel(\"Calinski-Harabasz index\")\n",
    "    ax.set_xlabel(\"Number of clusters ($k$)\")\n",
    "    ax.set_xticklabels(ax.get_xticklabels(), rotation=45)\n",
    "    plt.grid(True)\n",
    "    plt.tight_layout()"
   ]
  },
  {
   "cell_type": "markdown",
   "id": "41db2122",
   "metadata": {
    "papermill": {
     "duration": 0.033759,
     "end_time": "2022-11-26T05:29:29.816880",
     "exception": false,
     "start_time": "2022-11-26T05:29:29.783121",
     "status": "completed"
    },
    "tags": []
   },
   "source": [
    "# Stability"
   ]
  },
  {
   "cell_type": "markdown",
   "id": "ab383419",
   "metadata": {
    "papermill": {
     "duration": 0.017774,
     "end_time": "2022-11-26T05:29:29.858489",
     "exception": false,
     "start_time": "2022-11-26T05:29:29.840715",
     "status": "completed"
    },
    "tags": []
   },
   "source": [
    "## Group ensemble by n_clusters"
   ]
  },
  {
   "cell_type": "code",
   "execution_count": 45,
   "id": "2eb6e423",
   "metadata": {
    "execution": {
     "iopub.execute_input": "2022-11-26T05:29:29.895545Z",
     "iopub.status.busy": "2022-11-26T05:29:29.895283Z",
     "iopub.status.idle": "2022-11-26T05:29:29.939604Z",
     "shell.execute_reply": "2022-11-26T05:29:29.939082Z"
    },
    "papermill": {
     "duration": 0.063815,
     "end_time": "2022-11-26T05:29:29.940484",
     "exception": false,
     "start_time": "2022-11-26T05:29:29.876669",
     "status": "completed"
    },
    "tags": []
   },
   "outputs": [],
   "source": [
    "parts = ensemble.groupby(\"n_clusters\").apply(\n",
    "    lambda x: np.concatenate(x[\"partition\"].apply(lambda x: x.reshape(1, -1)), axis=0)\n",
    ")"
   ]
  },
  {
   "cell_type": "code",
   "execution_count": 46,
   "id": "39b8e705",
   "metadata": {
    "execution": {
     "iopub.execute_input": "2022-11-26T05:29:29.974222Z",
     "iopub.status.busy": "2022-11-26T05:29:29.973765Z",
     "iopub.status.idle": "2022-11-26T05:29:30.012648Z",
     "shell.execute_reply": "2022-11-26T05:29:30.012180Z"
    },
    "papermill": {
     "duration": 0.056472,
     "end_time": "2022-11-26T05:29:30.013411",
     "exception": false,
     "start_time": "2022-11-26T05:29:29.956939",
     "status": "completed"
    },
    "tags": []
   },
   "outputs": [
    {
     "data": {
      "text/plain": [
       "n_clusters\n",
       "2    [[1.0, 1.0, 1.0, 1.0, 1.0, 1.0, 1.0, 1.0, 1.0,...\n",
       "3    [[1.0, 1.0, 1.0, 1.0, 1.0, 1.0, 1.0, 1.0, 1.0,...\n",
       "4    [[0.0, 0.0, 0.0, 0.0, 0.0, 0.0, 0.0, 0.0, 0.0,...\n",
       "5    [[0.0, 0.0, 0.0, 0.0, 0.0, 0.0, 0.0, 0.0, 0.0,...\n",
       "6    [[0.0, 0.0, 0.0, 0.0, 0.0, 0.0, 0.0, 0.0, 0.0,...\n",
       "dtype: object"
      ]
     },
     "execution_count": 46,
     "metadata": {},
     "output_type": "execute_result"
    }
   ],
   "source": [
    "parts.head()"
   ]
  },
  {
   "cell_type": "code",
   "execution_count": 47,
   "id": "e98606f7",
   "metadata": {
    "execution": {
     "iopub.execute_input": "2022-11-26T05:29:30.047073Z",
     "iopub.status.busy": "2022-11-26T05:29:30.046697Z",
     "iopub.status.idle": "2022-11-26T05:29:30.069757Z",
     "shell.execute_reply": "2022-11-26T05:29:30.069302Z"
    },
    "papermill": {
     "duration": 0.040656,
     "end_time": "2022-11-26T05:29:30.070601",
     "exception": false,
     "start_time": "2022-11-26T05:29:30.029945",
     "status": "completed"
    },
    "tags": []
   },
   "outputs": [],
   "source": [
    "assert np.all(\n",
    "    [\n",
    "        parts.loc[k].shape == (len(CLUSTERING_OPTIONS[\"LINKAGE\"]), data.shape[0])\n",
    "        for k in parts.index\n",
    "    ]\n",
    ")"
   ]
  },
  {
   "cell_type": "markdown",
   "id": "a151ade5",
   "metadata": {
    "papermill": {
     "duration": 0.016173,
     "end_time": "2022-11-26T05:29:30.103200",
     "exception": false,
     "start_time": "2022-11-26T05:29:30.087027",
     "status": "completed"
    },
    "tags": []
   },
   "source": [
    "## Compute stability"
   ]
  },
  {
   "cell_type": "code",
   "execution_count": 48,
   "id": "123e8ca2",
   "metadata": {
    "execution": {
     "iopub.execute_input": "2022-11-26T05:29:30.137200Z",
     "iopub.status.busy": "2022-11-26T05:29:30.136771Z",
     "iopub.status.idle": "2022-11-26T05:29:30.156526Z",
     "shell.execute_reply": "2022-11-26T05:29:30.156040Z"
    },
    "papermill": {
     "duration": 0.037592,
     "end_time": "2022-11-26T05:29:30.157422",
     "exception": false,
     "start_time": "2022-11-26T05:29:30.119830",
     "status": "completed"
    },
    "tags": []
   },
   "outputs": [],
   "source": [
    "from sklearn.metrics import adjusted_rand_score as ari\n",
    "from scipy.spatial.distance import pdist"
   ]
  },
  {
   "cell_type": "code",
   "execution_count": 49,
   "id": "50621970",
   "metadata": {
    "execution": {
     "iopub.execute_input": "2022-11-26T05:29:30.190767Z",
     "iopub.status.busy": "2022-11-26T05:29:30.190421Z",
     "iopub.status.idle": "2022-11-26T05:29:30.559505Z",
     "shell.execute_reply": "2022-11-26T05:29:30.559042Z"
    },
    "papermill": {
     "duration": 0.387049,
     "end_time": "2022-11-26T05:29:30.560777",
     "exception": false,
     "start_time": "2022-11-26T05:29:30.173728",
     "status": "completed"
    },
    "tags": []
   },
   "outputs": [],
   "source": [
    "parts_ari = pd.Series(\n",
    "    {k: pdist(parts.loc[k], metric=ari) for k in parts.index}, name=\"k\"\n",
    ")"
   ]
  },
  {
   "cell_type": "code",
   "execution_count": 50,
   "id": "e50b6456",
   "metadata": {
    "execution": {
     "iopub.execute_input": "2022-11-26T05:29:30.596007Z",
     "iopub.status.busy": "2022-11-26T05:29:30.595825Z",
     "iopub.status.idle": "2022-11-26T05:29:30.610130Z",
     "shell.execute_reply": "2022-11-26T05:29:30.609727Z"
    },
    "papermill": {
     "duration": 0.031646,
     "end_time": "2022-11-26T05:29:30.610854",
     "exception": false,
     "start_time": "2022-11-26T05:29:30.579208",
     "status": "completed"
    },
    "tags": []
   },
   "outputs": [
    {
     "data": {
      "text/plain": [
       "5     0.374540\n",
       "14    0.340854\n",
       "13    0.336760\n",
       "40    0.331908\n",
       "41    0.331826\n",
       "17    0.330577\n",
       "42    0.329218\n",
       "12    0.329077\n",
       "43    0.328839\n",
       "39    0.328766\n",
       "18    0.328646\n",
       "34    0.328299\n",
       "20    0.328198\n",
       "19    0.327952\n",
       "21    0.327713\n",
       "Name: k, dtype: float64"
      ]
     },
     "metadata": {},
     "output_type": "display_data"
    }
   ],
   "source": [
    "parts_ari_stability = parts_ari.apply(lambda x: x.mean())\n",
    "display(parts_ari_stability.sort_values(ascending=False).head(15))"
   ]
  },
  {
   "cell_type": "code",
   "execution_count": 51,
   "id": "cc12f649",
   "metadata": {
    "execution": {
     "iopub.execute_input": "2022-11-26T05:29:30.644089Z",
     "iopub.status.busy": "2022-11-26T05:29:30.643945Z",
     "iopub.status.idle": "2022-11-26T05:29:30.655968Z",
     "shell.execute_reply": "2022-11-26T05:29:30.655560Z"
    },
    "papermill": {
     "duration": 0.029487,
     "end_time": "2022-11-26T05:29:30.656774",
     "exception": false,
     "start_time": "2022-11-26T05:29:30.627287",
     "status": "completed"
    },
    "tags": []
   },
   "outputs": [],
   "source": [
    "parts_ari_df = pd.DataFrame.from_records(parts_ari.tolist()).set_index(\n",
    "    parts_ari.index.copy()\n",
    ")"
   ]
  },
  {
   "cell_type": "code",
   "execution_count": 52,
   "id": "c3279251",
   "metadata": {
    "execution": {
     "iopub.execute_input": "2022-11-26T05:29:30.690044Z",
     "iopub.status.busy": "2022-11-26T05:29:30.689883Z",
     "iopub.status.idle": "2022-11-26T05:29:30.710121Z",
     "shell.execute_reply": "2022-11-26T05:29:30.709603Z"
    },
    "papermill": {
     "duration": 0.037642,
     "end_time": "2022-11-26T05:29:30.710945",
     "exception": false,
     "start_time": "2022-11-26T05:29:30.673303",
     "status": "completed"
    },
    "tags": []
   },
   "outputs": [
    {
     "data": {
      "text/plain": [
       "(74, 6)"
      ]
     },
     "execution_count": 52,
     "metadata": {},
     "output_type": "execute_result"
    }
   ],
   "source": [
    "parts_ari_df.shape"
   ]
  },
  {
   "cell_type": "code",
   "execution_count": 53,
   "id": "e1e2f5e6",
   "metadata": {
    "execution": {
     "iopub.execute_input": "2022-11-26T05:29:30.744873Z",
     "iopub.status.busy": "2022-11-26T05:29:30.744484Z",
     "iopub.status.idle": "2022-11-26T05:29:30.765585Z",
     "shell.execute_reply": "2022-11-26T05:29:30.765058Z"
    },
    "papermill": {
     "duration": 0.038913,
     "end_time": "2022-11-26T05:29:30.766423",
     "exception": false,
     "start_time": "2022-11-26T05:29:30.727510",
     "status": "completed"
    },
    "tags": []
   },
   "outputs": [],
   "source": [
    "assert (\n",
    "    int(\n",
    "        (len(CLUSTERING_OPTIONS[\"LINKAGE\"]) * (len(CLUSTERING_OPTIONS[\"LINKAGE\"]) - 1))\n",
    "        / 2\n",
    "    )\n",
    "    == parts_ari_df.shape[1]\n",
    ")"
   ]
  },
  {
   "cell_type": "code",
   "execution_count": 54,
   "id": "9d8d058f",
   "metadata": {
    "execution": {
     "iopub.execute_input": "2022-11-26T05:29:30.820900Z",
     "iopub.status.busy": "2022-11-26T05:29:30.820654Z",
     "iopub.status.idle": "2022-11-26T05:29:30.847315Z",
     "shell.execute_reply": "2022-11-26T05:29:30.846846Z"
    },
    "papermill": {
     "duration": 0.04568,
     "end_time": "2022-11-26T05:29:30.848144",
     "exception": false,
     "start_time": "2022-11-26T05:29:30.802464",
     "status": "completed"
    },
    "tags": []
   },
   "outputs": [
    {
     "data": {
      "text/html": [
       "<div>\n",
       "<style scoped>\n",
       "    .dataframe tbody tr th:only-of-type {\n",
       "        vertical-align: middle;\n",
       "    }\n",
       "\n",
       "    .dataframe tbody tr th {\n",
       "        vertical-align: top;\n",
       "    }\n",
       "\n",
       "    .dataframe thead th {\n",
       "        text-align: right;\n",
       "    }\n",
       "</style>\n",
       "<table border=\"1\" class=\"dataframe\">\n",
       "  <thead>\n",
       "    <tr style=\"text-align: right;\">\n",
       "      <th></th>\n",
       "      <th>0</th>\n",
       "      <th>1</th>\n",
       "      <th>2</th>\n",
       "      <th>3</th>\n",
       "      <th>4</th>\n",
       "      <th>5</th>\n",
       "    </tr>\n",
       "  </thead>\n",
       "  <tbody>\n",
       "    <tr>\n",
       "      <th>2</th>\n",
       "      <td>0.007573</td>\n",
       "      <td>-0.001113</td>\n",
       "      <td>-0.007265</td>\n",
       "      <td>0.400787</td>\n",
       "      <td>0.124475</td>\n",
       "      <td>0.013839</td>\n",
       "    </tr>\n",
       "    <tr>\n",
       "      <th>3</th>\n",
       "      <td>-0.001753</td>\n",
       "      <td>-0.005423</td>\n",
       "      <td>-0.005680</td>\n",
       "      <td>0.407365</td>\n",
       "      <td>0.602358</td>\n",
       "      <td>0.327464</td>\n",
       "    </tr>\n",
       "    <tr>\n",
       "      <th>4</th>\n",
       "      <td>-0.003540</td>\n",
       "      <td>-0.003573</td>\n",
       "      <td>-0.006823</td>\n",
       "      <td>0.665572</td>\n",
       "      <td>0.564060</td>\n",
       "      <td>0.543824</td>\n",
       "    </tr>\n",
       "    <tr>\n",
       "      <th>5</th>\n",
       "      <td>-0.004924</td>\n",
       "      <td>-0.004973</td>\n",
       "      <td>-0.004007</td>\n",
       "      <td>0.831853</td>\n",
       "      <td>0.675301</td>\n",
       "      <td>0.753991</td>\n",
       "    </tr>\n",
       "    <tr>\n",
       "      <th>6</th>\n",
       "      <td>-0.000463</td>\n",
       "      <td>0.003302</td>\n",
       "      <td>-0.004456</td>\n",
       "      <td>0.659739</td>\n",
       "      <td>0.509989</td>\n",
       "      <td>0.575123</td>\n",
       "    </tr>\n",
       "  </tbody>\n",
       "</table>\n",
       "</div>"
      ],
      "text/plain": [
       "          0         1         2         3         4         5\n",
       "2  0.007573 -0.001113 -0.007265  0.400787  0.124475  0.013839\n",
       "3 -0.001753 -0.005423 -0.005680  0.407365  0.602358  0.327464\n",
       "4 -0.003540 -0.003573 -0.006823  0.665572  0.564060  0.543824\n",
       "5 -0.004924 -0.004973 -0.004007  0.831853  0.675301  0.753991\n",
       "6 -0.000463  0.003302 -0.004456  0.659739  0.509989  0.575123"
      ]
     },
     "execution_count": 54,
     "metadata": {},
     "output_type": "execute_result"
    }
   ],
   "source": [
    "parts_ari_df.head()"
   ]
  },
  {
   "cell_type": "markdown",
   "id": "0a7645f2",
   "metadata": {
    "papermill": {
     "duration": 0.017582,
     "end_time": "2022-11-26T05:29:30.882870",
     "exception": false,
     "start_time": "2022-11-26T05:29:30.865288",
     "status": "completed"
    },
    "tags": []
   },
   "source": [
    "## Save"
   ]
  },
  {
   "cell_type": "code",
   "execution_count": 55,
   "id": "0d5a3b1c",
   "metadata": {
    "execution": {
     "iopub.execute_input": "2022-11-26T05:29:30.920099Z",
     "iopub.status.busy": "2022-11-26T05:29:30.919803Z",
     "iopub.status.idle": "2022-11-26T05:29:30.943228Z",
     "shell.execute_reply": "2022-11-26T05:29:30.942704Z"
    },
    "papermill": {
     "duration": 0.042891,
     "end_time": "2022-11-26T05:29:30.944119",
     "exception": false,
     "start_time": "2022-11-26T05:29:30.901228",
     "status": "completed"
    },
    "tags": []
   },
   "outputs": [
    {
     "data": {
      "text/plain": [
       "PosixPath('/opt/data/results/clustering/null_sims/shuffle_lvs/runs/umap-z_score_std-projection-smultixcan-efo_partial-mashr-zscores/AgglomerativeClustering-stability-AFFINITY_euclidean-K_MAX_75-K_MIN_2-LINKAGE_single_ward_complete_average.pkl')"
      ]
     },
     "metadata": {},
     "output_type": "display_data"
    }
   ],
   "source": [
    "output_filename = Path(\n",
    "    RESULTS_DIR,\n",
    "    generate_result_set_name(\n",
    "        CLUSTERING_OPTIONS,\n",
    "        prefix=f\"{clustering_method_name}-stability-\",\n",
    "        suffix=\".pkl\",\n",
    "    ),\n",
    ").resolve()\n",
    "display(output_filename)"
   ]
  },
  {
   "cell_type": "code",
   "execution_count": 56,
   "id": "1d4e3563",
   "metadata": {
    "execution": {
     "iopub.execute_input": "2022-11-26T05:29:30.982355Z",
     "iopub.status.busy": "2022-11-26T05:29:30.981939Z",
     "iopub.status.idle": "2022-11-26T05:29:31.004351Z",
     "shell.execute_reply": "2022-11-26T05:29:31.003911Z"
    },
    "papermill": {
     "duration": 0.042674,
     "end_time": "2022-11-26T05:29:31.005594",
     "exception": false,
     "start_time": "2022-11-26T05:29:30.962920",
     "status": "completed"
    },
    "tags": []
   },
   "outputs": [],
   "source": [
    "parts_ari_df.to_pickle(output_filename)"
   ]
  },
  {
   "cell_type": "markdown",
   "id": "37426bf6",
   "metadata": {
    "papermill": {
     "duration": 0.020568,
     "end_time": "2022-11-26T05:29:31.044258",
     "exception": false,
     "start_time": "2022-11-26T05:29:31.023690",
     "status": "completed"
    },
    "tags": []
   },
   "source": [
    "## Stability plot"
   ]
  },
  {
   "cell_type": "code",
   "execution_count": 57,
   "id": "145548e9",
   "metadata": {
    "execution": {
     "iopub.execute_input": "2022-11-26T05:29:31.081758Z",
     "iopub.status.busy": "2022-11-26T05:29:31.081416Z",
     "iopub.status.idle": "2022-11-26T05:29:31.113165Z",
     "shell.execute_reply": "2022-11-26T05:29:31.112721Z"
    },
    "papermill": {
     "duration": 0.05081,
     "end_time": "2022-11-26T05:29:31.114109",
     "exception": false,
     "start_time": "2022-11-26T05:29:31.063299",
     "status": "completed"
    },
    "tags": []
   },
   "outputs": [],
   "source": [
    "parts_ari_df_plot = (\n",
    "    parts_ari_df.stack()\n",
    "    .reset_index()\n",
    "    .rename(columns={\"level_0\": \"k\", \"level_1\": \"idx\", 0: \"ari\"})\n",
    ")"
   ]
  },
  {
   "cell_type": "code",
   "execution_count": 58,
   "id": "abb63903",
   "metadata": {
    "execution": {
     "iopub.execute_input": "2022-11-26T05:29:31.149994Z",
     "iopub.status.busy": "2022-11-26T05:29:31.149426Z",
     "iopub.status.idle": "2022-11-26T05:29:31.179935Z",
     "shell.execute_reply": "2022-11-26T05:29:31.179540Z"
    },
    "papermill": {
     "duration": 0.049195,
     "end_time": "2022-11-26T05:29:31.180743",
     "exception": false,
     "start_time": "2022-11-26T05:29:31.131548",
     "status": "completed"
    },
    "tags": []
   },
   "outputs": [
    {
     "data": {
      "text/plain": [
       "k        int64\n",
       "idx      int64\n",
       "ari    float64\n",
       "dtype: object"
      ]
     },
     "execution_count": 58,
     "metadata": {},
     "output_type": "execute_result"
    }
   ],
   "source": [
    "parts_ari_df_plot.dtypes"
   ]
  },
  {
   "cell_type": "code",
   "execution_count": 59,
   "id": "e1c79fa9",
   "metadata": {
    "execution": {
     "iopub.execute_input": "2022-11-26T05:29:31.216471Z",
     "iopub.status.busy": "2022-11-26T05:29:31.216120Z",
     "iopub.status.idle": "2022-11-26T05:29:31.248081Z",
     "shell.execute_reply": "2022-11-26T05:29:31.247688Z"
    },
    "papermill": {
     "duration": 0.050558,
     "end_time": "2022-11-26T05:29:31.248868",
     "exception": false,
     "start_time": "2022-11-26T05:29:31.198310",
     "status": "completed"
    },
    "tags": []
   },
   "outputs": [
    {
     "data": {
      "text/html": [
       "<div>\n",
       "<style scoped>\n",
       "    .dataframe tbody tr th:only-of-type {\n",
       "        vertical-align: middle;\n",
       "    }\n",
       "\n",
       "    .dataframe tbody tr th {\n",
       "        vertical-align: top;\n",
       "    }\n",
       "\n",
       "    .dataframe thead th {\n",
       "        text-align: right;\n",
       "    }\n",
       "</style>\n",
       "<table border=\"1\" class=\"dataframe\">\n",
       "  <thead>\n",
       "    <tr style=\"text-align: right;\">\n",
       "      <th></th>\n",
       "      <th>k</th>\n",
       "      <th>idx</th>\n",
       "      <th>ari</th>\n",
       "    </tr>\n",
       "  </thead>\n",
       "  <tbody>\n",
       "    <tr>\n",
       "      <th>0</th>\n",
       "      <td>2</td>\n",
       "      <td>0</td>\n",
       "      <td>0.007573</td>\n",
       "    </tr>\n",
       "    <tr>\n",
       "      <th>1</th>\n",
       "      <td>2</td>\n",
       "      <td>1</td>\n",
       "      <td>-0.001113</td>\n",
       "    </tr>\n",
       "    <tr>\n",
       "      <th>2</th>\n",
       "      <td>2</td>\n",
       "      <td>2</td>\n",
       "      <td>-0.007265</td>\n",
       "    </tr>\n",
       "    <tr>\n",
       "      <th>3</th>\n",
       "      <td>2</td>\n",
       "      <td>3</td>\n",
       "      <td>0.400787</td>\n",
       "    </tr>\n",
       "    <tr>\n",
       "      <th>4</th>\n",
       "      <td>2</td>\n",
       "      <td>4</td>\n",
       "      <td>0.124475</td>\n",
       "    </tr>\n",
       "  </tbody>\n",
       "</table>\n",
       "</div>"
      ],
      "text/plain": [
       "   k  idx       ari\n",
       "0  2    0  0.007573\n",
       "1  2    1 -0.001113\n",
       "2  2    2 -0.007265\n",
       "3  2    3  0.400787\n",
       "4  2    4  0.124475"
      ]
     },
     "execution_count": 59,
     "metadata": {},
     "output_type": "execute_result"
    }
   ],
   "source": [
    "parts_ari_df_plot.head()"
   ]
  },
  {
   "cell_type": "code",
   "execution_count": 60,
   "id": "2dbdce45",
   "metadata": {
    "execution": {
     "iopub.execute_input": "2022-11-26T05:29:31.284842Z",
     "iopub.status.busy": "2022-11-26T05:29:31.284347Z",
     "iopub.status.idle": "2022-11-26T05:29:33.713693Z",
     "shell.execute_reply": "2022-11-26T05:29:33.713407Z"
    },
    "papermill": {
     "duration": 2.449967,
     "end_time": "2022-11-26T05:29:33.716170",
     "exception": false,
     "start_time": "2022-11-26T05:29:31.266203",
     "status": "completed"
    },
    "tags": []
   },
   "outputs": [
    {
     "data": {
      "image/png": "[encoded data removed]",
      "text/plain": [
       "<Figure size 1008x432 with 1 Axes>"
      ]
     },
     "metadata": {},
     "output_type": "display_data"
    }
   ],
   "source": [
    "# with sns.axes_style('whitegrid', {'grid.linestyle': '--'}):\n",
    "with sns.plotting_context(\"talk\", font_scale=0.75), sns.axes_style(\n",
    "    \"whitegrid\", {\"grid.linestyle\": \"--\"}\n",
    "):\n",
    "    fig = plt.figure(figsize=(14, 6))\n",
    "    ax = sns.pointplot(data=parts_ari_df_plot, x=\"k\", y=\"ari\")\n",
    "    ax.set_ylabel(\"Averange ARI\")\n",
    "    ax.set_xlabel(\"Number of clusters ($k$)\")\n",
    "    ax.set_xticklabels(ax.get_xticklabels(), rotation=45)\n",
    "    #     ax.set_ylim(0.0, 1.0)\n",
    "    #     ax.set_xlim(CLUSTERING_OPTIONS['K_MIN'], CLUSTERING_OPTIONS['K_MAX'])\n",
    "    plt.grid(True)\n",
    "    plt.tight_layout()"
   ]
  },
  {
   "cell_type": "code",
   "execution_count": null,
   "id": "91cac478",
   "metadata": {
    "papermill": {
     "duration": 0.035017,
     "end_time": "2022-11-26T05:29:33.788177",
     "exception": false,
     "start_time": "2022-11-26T05:29:33.753160",
     "status": "completed"
    },
    "tags": []
   },
   "outputs": [],
   "source": []
  }
 ],
 "metadata": {
  "jupytext": {
   "cell_metadata_filter": "all,-execution,-papermill,-trusted",
   "formats": "ipynb,py//py:percent"
  },
  "kernelspec": {
   "display_name": "Python 3 (ipykernel)",
   "language": "python",
   "name": "python3"
  },
  "language_info": {
   "codemirror_mode": {
    "name": "ipython",
    "version": 3
   },
   "file_extension": ".py",
   "mimetype": "text/x-python",
   "name": "python",
   "nbconvert_exporter": "python",
   "pygments_lexer": "ipython3",
   "version": "3.8.13"
  },
  "papermill": {
   "default_parameters": {},
   "duration": 1025.533885,
   "end_time": "2022-11-26T05:29:34.129752",
   "environment_variables": {},
   "exception": null,
   "input_path": "nbs/13.1_cluster_analysis_null/05-shuffle_lvs/13_02-hc-umap.ipynb",
   "output_path": "nbs/13.1_cluster_analysis_null/05-shuffle_lvs/13_02-hc-umap.run.ipynb",
   "parameters": {},
   "start_time": "2022-11-26T05:12:28.595867",
   "version": "2.2.2"
  },
  "toc-autonumbering": true,
  "toc-showcode": false,
  "toc-showmarkdowntxt": false,
  "toc-showtags": false
 },
 "nbformat": 4,
 "nbformat_minor": 5
}
