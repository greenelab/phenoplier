{
 "cells": [
  {
   "cell_type": "markdown",
   "id": "ddf3ec3c",
   "metadata": {
    "papermill": {
     "duration": 0.012841,
     "end_time": "2022-11-26T05:30:51.878952",
     "exception": false,
     "start_time": "2022-11-26T05:30:51.866111",
     "status": "completed"
    },
    "tags": []
   },
   "source": [
    "# Description"
   ]
  },
  {
   "cell_type": "markdown",
   "id": "dce28cad",
   "metadata": {
    "papermill": {
     "duration": 0.012401,
     "end_time": "2022-11-26T05:30:51.903349",
     "exception": false,
     "start_time": "2022-11-26T05:30:51.890948",
     "status": "completed"
    },
    "tags": []
   },
   "source": [
    "Runs gaussian mixture model on the z_score_std version of the data."
   ]
  },
  {
   "cell_type": "markdown",
   "id": "0504ed4d",
   "metadata": {
    "papermill": {
     "duration": 0.011849,
     "end_time": "2022-11-26T05:30:51.927077",
     "exception": false,
     "start_time": "2022-11-26T05:30:51.915228",
     "status": "completed"
    },
    "tags": []
   },
   "source": [
    "# Environment variables"
   ]
  },
  {
   "cell_type": "code",
   "execution_count": 1,
   "id": "bf14cc7a",
   "metadata": {
    "execution": {
     "iopub.execute_input": "2022-11-26T05:30:51.951914Z",
     "iopub.status.busy": "2022-11-26T05:30:51.951440Z",
     "iopub.status.idle": "2022-11-26T05:30:51.970501Z",
     "shell.execute_reply": "2022-11-26T05:30:51.970034Z"
    },
    "papermill": {
     "duration": 0.031904,
     "end_time": "2022-11-26T05:30:51.971334",
     "exception": false,
     "start_time": "2022-11-26T05:30:51.939430",
     "status": "completed"
    },
    "tags": []
   },
   "outputs": [
    {
     "data": {
      "text/plain": [
       "10"
      ]
     },
     "metadata": {},
     "output_type": "display_data"
    }
   ],
   "source": [
    "from IPython.display import display\n",
    "\n",
    "import conf\n",
    "\n",
    "N_JOBS = conf.GENERAL[\"N_JOBS\"]\n",
    "display(N_JOBS)"
   ]
  },
  {
   "cell_type": "code",
   "execution_count": 2,
   "id": "8aff8fbf",
   "metadata": {
    "execution": {
     "iopub.execute_input": "2022-11-26T05:30:51.984571Z",
     "iopub.status.busy": "2022-11-26T05:30:51.984267Z",
     "iopub.status.idle": "2022-11-26T05:30:51.990437Z",
     "shell.execute_reply": "2022-11-26T05:30:51.989920Z"
    },
    "papermill": {
     "duration": 0.01376,
     "end_time": "2022-11-26T05:30:51.991220",
     "exception": false,
     "start_time": "2022-11-26T05:30:51.977460",
     "status": "completed"
    },
    "tags": []
   },
   "outputs": [
    {
     "name": "stdout",
     "output_type": "stream",
     "text": [
      "env: MKL_NUM_THREADS=10\n",
      "env: OPEN_BLAS_NUM_THREADS=10\n",
      "env: NUMEXPR_NUM_THREADS=10\n",
      "env: OMP_NUM_THREADS=10\n"
     ]
    }
   ],
   "source": [
    "%env MKL_NUM_THREADS=$N_JOBS\n",
    "%env OPEN_BLAS_NUM_THREADS=$N_JOBS\n",
    "%env NUMEXPR_NUM_THREADS=$N_JOBS\n",
    "%env OMP_NUM_THREADS=$N_JOBS"
   ]
  },
  {
   "cell_type": "markdown",
   "id": "33f4c54c",
   "metadata": {
    "papermill": {
     "duration": 0.006136,
     "end_time": "2022-11-26T05:30:52.004174",
     "exception": false,
     "start_time": "2022-11-26T05:30:51.998038",
     "status": "completed"
    },
    "tags": []
   },
   "source": [
    "# Modules loading"
   ]
  },
  {
   "cell_type": "code",
   "execution_count": 3,
   "id": "01612083",
   "metadata": {
    "execution": {
     "iopub.execute_input": "2022-11-26T05:30:52.017749Z",
     "iopub.status.busy": "2022-11-26T05:30:52.017474Z",
     "iopub.status.idle": "2022-11-26T05:30:52.030828Z",
     "shell.execute_reply": "2022-11-26T05:30:52.030372Z"
    },
    "papermill": {
     "duration": 0.021307,
     "end_time": "2022-11-26T05:30:52.031711",
     "exception": false,
     "start_time": "2022-11-26T05:30:52.010404",
     "status": "completed"
    },
    "tags": []
   },
   "outputs": [],
   "source": [
    "%load_ext autoreload\n",
    "%autoreload 2"
   ]
  },
  {
   "cell_type": "code",
   "execution_count": 4,
   "id": "4f28f7d0",
   "metadata": {
    "execution": {
     "iopub.execute_input": "2022-11-26T05:30:52.044916Z",
     "iopub.status.busy": "2022-11-26T05:30:52.044635Z",
     "iopub.status.idle": "2022-11-26T05:30:52.509885Z",
     "shell.execute_reply": "2022-11-26T05:30:52.509476Z"
    },
    "papermill": {
     "duration": 0.473531,
     "end_time": "2022-11-26T05:30:52.511486",
     "exception": false,
     "start_time": "2022-11-26T05:30:52.037955",
     "status": "completed"
    },
    "tags": []
   },
   "outputs": [],
   "source": [
    "from pathlib import Path\n",
    "\n",
    "import numpy as np\n",
    "import pandas as pd\n",
    "import matplotlib.pyplot as plt\n",
    "import seaborn as sns\n",
    "\n",
    "from utils import generate_result_set_name"
   ]
  },
  {
   "cell_type": "markdown",
   "id": "77b279ca",
   "metadata": {
    "papermill": {
     "duration": 0.012633,
     "end_time": "2022-11-26T05:30:52.536481",
     "exception": false,
     "start_time": "2022-11-26T05:30:52.523848",
     "status": "completed"
    },
    "tags": []
   },
   "source": [
    "# Settings"
   ]
  },
  {
   "cell_type": "code",
   "execution_count": 5,
   "id": "e0d6f321",
   "metadata": {
    "execution": {
     "iopub.execute_input": "2022-11-26T05:30:52.561417Z",
     "iopub.status.busy": "2022-11-26T05:30:52.560962Z",
     "iopub.status.idle": "2022-11-26T05:30:52.572497Z",
     "shell.execute_reply": "2022-11-26T05:30:52.572100Z"
    },
    "papermill": {
     "duration": 0.025255,
     "end_time": "2022-11-26T05:30:52.573704",
     "exception": false,
     "start_time": "2022-11-26T05:30:52.548449",
     "status": "completed"
    },
    "tags": []
   },
   "outputs": [],
   "source": [
    "np.random.seed(0)"
   ]
  },
  {
   "cell_type": "code",
   "execution_count": 6,
   "id": "e0b29143",
   "metadata": {
    "execution": {
     "iopub.execute_input": "2022-11-26T05:30:52.623456Z",
     "iopub.status.busy": "2022-11-26T05:30:52.622992Z",
     "iopub.status.idle": "2022-11-26T05:30:52.641558Z",
     "shell.execute_reply": "2022-11-26T05:30:52.641096Z"
    },
    "papermill": {
     "duration": 0.030745,
     "end_time": "2022-11-26T05:30:52.642507",
     "exception": false,
     "start_time": "2022-11-26T05:30:52.611762",
     "status": "completed"
    },
    "tags": []
   },
   "outputs": [],
   "source": [
    "INITIAL_RANDOM_STATE = 60000"
   ]
  },
  {
   "cell_type": "code",
   "execution_count": 7,
   "id": "654eecf2-2078-46c6-838b-2762b82f9fbc",
   "metadata": {
    "execution": {
     "iopub.execute_input": "2022-11-26T05:30:52.655968Z",
     "iopub.status.busy": "2022-11-26T05:30:52.655564Z",
     "iopub.status.idle": "2022-11-26T05:30:52.673125Z",
     "shell.execute_reply": "2022-11-26T05:30:52.672684Z"
    },
    "papermill": {
     "duration": 0.025213,
     "end_time": "2022-11-26T05:30:52.673984",
     "exception": false,
     "start_time": "2022-11-26T05:30:52.648771",
     "status": "completed"
    },
    "tags": []
   },
   "outputs": [],
   "source": [
    "NULL_DIR = conf.RESULTS[\"CLUSTERING_NULL_DIR\"] / \"shuffle_lvs\""
   ]
  },
  {
   "cell_type": "markdown",
   "id": "c43db9e4",
   "metadata": {
    "papermill": {
     "duration": 0.006131,
     "end_time": "2022-11-26T05:30:52.686740",
     "exception": false,
     "start_time": "2022-11-26T05:30:52.680609",
     "status": "completed"
    },
    "tags": []
   },
   "source": [
    "## Input data"
   ]
  },
  {
   "cell_type": "code",
   "execution_count": 8,
   "id": "97121761",
   "metadata": {
    "execution": {
     "iopub.execute_input": "2022-11-26T05:30:52.700388Z",
     "iopub.status.busy": "2022-11-26T05:30:52.700001Z",
     "iopub.status.idle": "2022-11-26T05:30:52.717273Z",
     "shell.execute_reply": "2022-11-26T05:30:52.716818Z"
    },
    "papermill": {
     "duration": 0.025149,
     "end_time": "2022-11-26T05:30:52.718155",
     "exception": false,
     "start_time": "2022-11-26T05:30:52.693006",
     "status": "completed"
    },
    "tags": []
   },
   "outputs": [],
   "source": [
    "INPUT_SUBSET = \"z_score_std\""
   ]
  },
  {
   "cell_type": "code",
   "execution_count": 9,
   "id": "68e6dd38",
   "metadata": {
    "execution": {
     "iopub.execute_input": "2022-11-26T05:30:52.731634Z",
     "iopub.status.busy": "2022-11-26T05:30:52.731286Z",
     "iopub.status.idle": "2022-11-26T05:30:52.749381Z",
     "shell.execute_reply": "2022-11-26T05:30:52.748913Z"
    },
    "papermill": {
     "duration": 0.025815,
     "end_time": "2022-11-26T05:30:52.750247",
     "exception": false,
     "start_time": "2022-11-26T05:30:52.724432",
     "status": "completed"
    },
    "tags": []
   },
   "outputs": [],
   "source": [
    "INPUT_STEM = \"projection-smultixcan-efo_partial-mashr-zscores\""
   ]
  },
  {
   "cell_type": "code",
   "execution_count": 10,
   "id": "dd6320a6",
   "metadata": {
    "execution": {
     "iopub.execute_input": "2022-11-26T05:30:52.763902Z",
     "iopub.status.busy": "2022-11-26T05:30:52.763635Z",
     "iopub.status.idle": "2022-11-26T05:30:52.783360Z",
     "shell.execute_reply": "2022-11-26T05:30:52.782930Z"
    },
    "papermill": {
     "duration": 0.027663,
     "end_time": "2022-11-26T05:30:52.784132",
     "exception": false,
     "start_time": "2022-11-26T05:30:52.756469",
     "status": "completed"
    },
    "tags": []
   },
   "outputs": [
    {
     "data": {
      "text/plain": [
       "PosixPath('/opt/data/results/clustering/null_sims/shuffle_lvs/data_transformations/z_score_std/z_score_std-projection-smultixcan-efo_partial-mashr-zscores.pkl')"
      ]
     },
     "metadata": {},
     "output_type": "display_data"
    },
    {
     "data": {
      "text/plain": [
       "'z_score_std-projection-smultixcan-efo_partial-mashr-zscores'"
      ]
     },
     "metadata": {},
     "output_type": "display_data"
    }
   ],
   "source": [
    "input_filepath = Path(\n",
    "    NULL_DIR,\n",
    "    \"data_transformations\",\n",
    "    INPUT_SUBSET,\n",
    "    f\"{INPUT_SUBSET}-{INPUT_STEM}.pkl\",\n",
    ").resolve()\n",
    "display(input_filepath)\n",
    "\n",
    "assert input_filepath.exists(), \"Input file does not exist\"\n",
    "\n",
    "input_filepath_stem = input_filepath.stem\n",
    "display(input_filepath_stem)"
   ]
  },
  {
   "cell_type": "markdown",
   "id": "f7e9946e",
   "metadata": {
    "papermill": {
     "duration": 0.00633,
     "end_time": "2022-11-26T05:30:52.796794",
     "exception": false,
     "start_time": "2022-11-26T05:30:52.790464",
     "status": "completed"
    },
    "tags": []
   },
   "source": [
    "## Clustering"
   ]
  },
  {
   "cell_type": "code",
   "execution_count": 11,
   "id": "83aaf504",
   "metadata": {
    "execution": {
     "iopub.execute_input": "2022-11-26T05:30:52.810550Z",
     "iopub.status.busy": "2022-11-26T05:30:52.810279Z",
     "iopub.status.idle": "2022-11-26T05:30:52.897969Z",
     "shell.execute_reply": "2022-11-26T05:30:52.897565Z"
    },
    "papermill": {
     "duration": 0.095397,
     "end_time": "2022-11-26T05:30:52.898755",
     "exception": false,
     "start_time": "2022-11-26T05:30:52.803358",
     "status": "completed"
    },
    "tags": []
   },
   "outputs": [],
   "source": [
    "from sklearn.mixture import GaussianMixture"
   ]
  },
  {
   "cell_type": "code",
   "execution_count": 12,
   "id": "d0154046",
   "metadata": {
    "execution": {
     "iopub.execute_input": "2022-11-26T05:30:52.912093Z",
     "iopub.status.busy": "2022-11-26T05:30:52.911920Z",
     "iopub.status.idle": "2022-11-26T05:30:52.924308Z",
     "shell.execute_reply": "2022-11-26T05:30:52.923965Z"
    },
    "papermill": {
     "duration": 0.01993,
     "end_time": "2022-11-26T05:30:52.925100",
     "exception": false,
     "start_time": "2022-11-26T05:30:52.905170",
     "status": "completed"
    },
    "tags": []
   },
   "outputs": [],
   "source": [
    "CLUSTERING_ATTRIBUTES_TO_SAVE = [\"n_clusters\"]"
   ]
  },
  {
   "cell_type": "code",
   "execution_count": 13,
   "id": "79c52fa6",
   "metadata": {
    "execution": {
     "iopub.execute_input": "2022-11-26T05:30:52.938830Z",
     "iopub.status.busy": "2022-11-26T05:30:52.938624Z",
     "iopub.status.idle": "2022-11-26T05:30:52.950878Z",
     "shell.execute_reply": "2022-11-26T05:30:52.950544Z"
    },
    "papermill": {
     "duration": 0.019635,
     "end_time": "2022-11-26T05:30:52.951594",
     "exception": false,
     "start_time": "2022-11-26T05:30:52.931959",
     "status": "completed"
    },
    "tags": []
   },
   "outputs": [
    {
     "data": {
      "text/plain": [
       "{'K_MIN': 2,\n",
       " 'K_MAX': 60,\n",
       " 'N_REPS_PER_K': 5,\n",
       " 'N_INIT': 10,\n",
       " 'COVARIANCE_TYPE': 'full'}"
      ]
     },
     "metadata": {},
     "output_type": "display_data"
    }
   ],
   "source": [
    "CLUSTERING_OPTIONS = {}\n",
    "\n",
    "CLUSTERING_OPTIONS[\"K_MIN\"] = 2\n",
    "CLUSTERING_OPTIONS[\"K_MAX\"] = 60  # sqrt(3749)\n",
    "CLUSTERING_OPTIONS[\"N_REPS_PER_K\"] = 5\n",
    "CLUSTERING_OPTIONS[\"N_INIT\"] = 10\n",
    "CLUSTERING_OPTIONS[\"COVARIANCE_TYPE\"] = \"full\"\n",
    "\n",
    "display(CLUSTERING_OPTIONS)"
   ]
  },
  {
   "cell_type": "code",
   "execution_count": 14,
   "id": "3fa83082",
   "metadata": {
    "execution": {
     "iopub.execute_input": "2022-11-26T05:30:52.965250Z",
     "iopub.status.busy": "2022-11-26T05:30:52.965039Z",
     "iopub.status.idle": "2022-11-26T05:30:52.977504Z",
     "shell.execute_reply": "2022-11-26T05:30:52.977169Z"
    },
    "papermill": {
     "duration": 0.020204,
     "end_time": "2022-11-26T05:30:52.978211",
     "exception": false,
     "start_time": "2022-11-26T05:30:52.958007",
     "status": "completed"
    },
    "tags": []
   },
   "outputs": [],
   "source": [
    "CLUSTERERS = {}\n",
    "\n",
    "idx = 0\n",
    "random_state = INITIAL_RANDOM_STATE\n",
    "\n",
    "for k in range(CLUSTERING_OPTIONS[\"K_MIN\"], CLUSTERING_OPTIONS[\"K_MAX\"] + 1):\n",
    "    for i in range(CLUSTERING_OPTIONS[\"N_REPS_PER_K\"]):\n",
    "        clus = GaussianMixture(\n",
    "            n_components=k,\n",
    "            n_init=CLUSTERING_OPTIONS[\"N_INIT\"],\n",
    "            covariance_type=CLUSTERING_OPTIONS[\"COVARIANCE_TYPE\"],\n",
    "            random_state=random_state,\n",
    "        )\n",
    "\n",
    "        method_name = type(clus).__name__\n",
    "        CLUSTERERS[f\"{method_name} #{idx}\"] = clus\n",
    "\n",
    "        random_state = random_state + 1\n",
    "        idx = idx + 1"
   ]
  },
  {
   "cell_type": "code",
   "execution_count": 15,
   "id": "864864fb",
   "metadata": {
    "execution": {
     "iopub.execute_input": "2022-11-26T05:30:52.991690Z",
     "iopub.status.busy": "2022-11-26T05:30:52.991480Z",
     "iopub.status.idle": "2022-11-26T05:30:53.003292Z",
     "shell.execute_reply": "2022-11-26T05:30:53.002944Z"
    },
    "papermill": {
     "duration": 0.0193,
     "end_time": "2022-11-26T05:30:53.003955",
     "exception": false,
     "start_time": "2022-11-26T05:30:52.984655",
     "status": "completed"
    },
    "tags": []
   },
   "outputs": [
    {
     "data": {
      "text/plain": [
       "295"
      ]
     },
     "metadata": {},
     "output_type": "display_data"
    }
   ],
   "source": [
    "display(len(CLUSTERERS))"
   ]
  },
  {
   "cell_type": "code",
   "execution_count": 16,
   "id": "1fa9c278",
   "metadata": {
    "execution": {
     "iopub.execute_input": "2022-11-26T05:30:53.018130Z",
     "iopub.status.busy": "2022-11-26T05:30:53.017759Z",
     "iopub.status.idle": "2022-11-26T05:30:53.041484Z",
     "shell.execute_reply": "2022-11-26T05:30:53.041032Z"
    },
    "papermill": {
     "duration": 0.031965,
     "end_time": "2022-11-26T05:30:53.042275",
     "exception": false,
     "start_time": "2022-11-26T05:30:53.010310",
     "status": "completed"
    },
    "tags": []
   },
   "outputs": [
    {
     "data": {
      "text/plain": [
       "('GaussianMixture #0',\n",
       " GaussianMixture(n_components=2, n_init=10, random_state=60000))"
      ]
     },
     "metadata": {},
     "output_type": "display_data"
    },
    {
     "data": {
      "text/plain": [
       "('GaussianMixture #1',\n",
       " GaussianMixture(n_components=2, n_init=10, random_state=60001))"
      ]
     },
     "metadata": {},
     "output_type": "display_data"
    }
   ],
   "source": [
    "_iter = iter(CLUSTERERS.items())\n",
    "display(next(_iter))\n",
    "display(next(_iter))"
   ]
  },
  {
   "cell_type": "code",
   "execution_count": 17,
   "id": "67376c18",
   "metadata": {
    "execution": {
     "iopub.execute_input": "2022-11-26T05:30:53.056536Z",
     "iopub.status.busy": "2022-11-26T05:30:53.056019Z",
     "iopub.status.idle": "2022-11-26T05:30:53.077721Z",
     "shell.execute_reply": "2022-11-26T05:30:53.077269Z"
    },
    "papermill": {
     "duration": 0.029583,
     "end_time": "2022-11-26T05:30:53.078488",
     "exception": false,
     "start_time": "2022-11-26T05:30:53.048905",
     "status": "completed"
    },
    "tags": []
   },
   "outputs": [
    {
     "data": {
      "text/plain": [
       "'GaussianMixture'"
      ]
     },
     "metadata": {},
     "output_type": "display_data"
    }
   ],
   "source": [
    "clustering_method_name = method_name\n",
    "display(clustering_method_name)"
   ]
  },
  {
   "cell_type": "markdown",
   "id": "58dca7c9",
   "metadata": {
    "papermill": {
     "duration": 0.006738,
     "end_time": "2022-11-26T05:30:53.092458",
     "exception": false,
     "start_time": "2022-11-26T05:30:53.085720",
     "status": "completed"
    },
    "tags": []
   },
   "source": [
    "## Output directory"
   ]
  },
  {
   "cell_type": "code",
   "execution_count": 18,
   "id": "4295d14a",
   "metadata": {
    "execution": {
     "iopub.execute_input": "2022-11-26T05:30:53.106853Z",
     "iopub.status.busy": "2022-11-26T05:30:53.106503Z",
     "iopub.status.idle": "2022-11-26T05:30:53.128432Z",
     "shell.execute_reply": "2022-11-26T05:30:53.127966Z"
    },
    "papermill": {
     "duration": 0.030199,
     "end_time": "2022-11-26T05:30:53.129227",
     "exception": false,
     "start_time": "2022-11-26T05:30:53.099028",
     "status": "completed"
    },
    "tags": []
   },
   "outputs": [
    {
     "data": {
      "text/plain": [
       "PosixPath('/opt/data/results/clustering/null_sims/shuffle_lvs/runs/z_score_std-projection-smultixcan-efo_partial-mashr-zscores')"
      ]
     },
     "metadata": {},
     "output_type": "display_data"
    }
   ],
   "source": [
    "# output dir for this notebook\n",
    "RESULTS_DIR = Path(\n",
    "    NULL_DIR,\n",
    "    \"runs\",\n",
    "    f\"{INPUT_SUBSET}-{INPUT_STEM}\",\n",
    ").resolve()\n",
    "RESULTS_DIR.mkdir(parents=True, exist_ok=True)\n",
    "\n",
    "display(RESULTS_DIR)"
   ]
  },
  {
   "cell_type": "markdown",
   "id": "b842ec3c",
   "metadata": {
    "papermill": {
     "duration": 0.00673,
     "end_time": "2022-11-26T05:30:53.142614",
     "exception": false,
     "start_time": "2022-11-26T05:30:53.135884",
     "status": "completed"
    },
    "tags": []
   },
   "source": [
    "# Load input file"
   ]
  },
  {
   "cell_type": "code",
   "execution_count": 19,
   "id": "1a603523",
   "metadata": {
    "execution": {
     "iopub.execute_input": "2022-11-26T05:30:53.157130Z",
     "iopub.status.busy": "2022-11-26T05:30:53.156813Z",
     "iopub.status.idle": "2022-11-26T05:30:53.193349Z",
     "shell.execute_reply": "2022-11-26T05:30:53.192824Z"
    },
    "papermill": {
     "duration": 0.044596,
     "end_time": "2022-11-26T05:30:53.194173",
     "exception": false,
     "start_time": "2022-11-26T05:30:53.149577",
     "status": "completed"
    },
    "tags": []
   },
   "outputs": [],
   "source": [
    "data = pd.read_pickle(input_filepath)"
   ]
  },
  {
   "cell_type": "code",
   "execution_count": 20,
   "id": "e1351fc7",
   "metadata": {
    "execution": {
     "iopub.execute_input": "2022-11-26T05:30:53.208862Z",
     "iopub.status.busy": "2022-11-26T05:30:53.208515Z",
     "iopub.status.idle": "2022-11-26T05:30:53.230062Z",
     "shell.execute_reply": "2022-11-26T05:30:53.229605Z"
    },
    "papermill": {
     "duration": 0.029503,
     "end_time": "2022-11-26T05:30:53.230831",
     "exception": false,
     "start_time": "2022-11-26T05:30:53.201328",
     "status": "completed"
    },
    "tags": []
   },
   "outputs": [
    {
     "data": {
      "text/plain": [
       "(3752, 987)"
      ]
     },
     "execution_count": 20,
     "metadata": {},
     "output_type": "execute_result"
    }
   ],
   "source": [
    "data.shape"
   ]
  },
  {
   "cell_type": "code",
   "execution_count": 21,
   "id": "326db1d5",
   "metadata": {
    "execution": {
     "iopub.execute_input": "2022-11-26T05:30:53.246150Z",
     "iopub.status.busy": "2022-11-26T05:30:53.245764Z",
     "iopub.status.idle": "2022-11-26T05:30:53.283471Z",
     "shell.execute_reply": "2022-11-26T05:30:53.283025Z"
    },
    "papermill": {
     "duration": 0.045789,
     "end_time": "2022-11-26T05:30:53.284249",
     "exception": false,
     "start_time": "2022-11-26T05:30:53.238460",
     "status": "completed"
    },
    "tags": []
   },
   "outputs": [
    {
     "data": {
      "text/html": [
       "<div>\n",
       "<style scoped>\n",
       "    .dataframe tbody tr th:only-of-type {\n",
       "        vertical-align: middle;\n",
       "    }\n",
       "\n",
       "    .dataframe tbody tr th {\n",
       "        vertical-align: top;\n",
       "    }\n",
       "\n",
       "    .dataframe thead th {\n",
       "        text-align: right;\n",
       "    }\n",
       "</style>\n",
       "<table border=\"1\" class=\"dataframe\">\n",
       "  <thead>\n",
       "    <tr style=\"text-align: right;\">\n",
       "      <th></th>\n",
       "      <th>LV1</th>\n",
       "      <th>LV2</th>\n",
       "      <th>LV3</th>\n",
       "      <th>LV4</th>\n",
       "      <th>LV5</th>\n",
       "      <th>LV6</th>\n",
       "      <th>LV7</th>\n",
       "      <th>LV8</th>\n",
       "      <th>LV9</th>\n",
       "      <th>LV10</th>\n",
       "      <th>...</th>\n",
       "      <th>LV978</th>\n",
       "      <th>LV979</th>\n",
       "      <th>LV980</th>\n",
       "      <th>LV981</th>\n",
       "      <th>LV982</th>\n",
       "      <th>LV983</th>\n",
       "      <th>LV984</th>\n",
       "      <th>LV985</th>\n",
       "      <th>LV986</th>\n",
       "      <th>LV987</th>\n",
       "    </tr>\n",
       "  </thead>\n",
       "  <tbody>\n",
       "    <tr>\n",
       "      <th>100001_raw-Food_weight</th>\n",
       "      <td>-2.408007</td>\n",
       "      <td>-1.745911</td>\n",
       "      <td>1.383013</td>\n",
       "      <td>0.158718</td>\n",
       "      <td>-0.240933</td>\n",
       "      <td>-0.304911</td>\n",
       "      <td>1.823117</td>\n",
       "      <td>-0.716278</td>\n",
       "      <td>-1.769346</td>\n",
       "      <td>-0.043794</td>\n",
       "      <td>...</td>\n",
       "      <td>0.399227</td>\n",
       "      <td>0.849885</td>\n",
       "      <td>-0.593292</td>\n",
       "      <td>0.636568</td>\n",
       "      <td>0.409726</td>\n",
       "      <td>-0.871713</td>\n",
       "      <td>1.638770</td>\n",
       "      <td>0.285165</td>\n",
       "      <td>0.585307</td>\n",
       "      <td>0.592347</td>\n",
       "    </tr>\n",
       "    <tr>\n",
       "      <th>100002_raw-Energy</th>\n",
       "      <td>-0.508508</td>\n",
       "      <td>0.514427</td>\n",
       "      <td>-0.792865</td>\n",
       "      <td>-0.091775</td>\n",
       "      <td>-0.013409</td>\n",
       "      <td>0.194047</td>\n",
       "      <td>1.353713</td>\n",
       "      <td>0.117286</td>\n",
       "      <td>-0.323516</td>\n",
       "      <td>-1.641116</td>\n",
       "      <td>...</td>\n",
       "      <td>-0.038535</td>\n",
       "      <td>-1.139394</td>\n",
       "      <td>-0.951591</td>\n",
       "      <td>1.197872</td>\n",
       "      <td>0.893819</td>\n",
       "      <td>-0.820655</td>\n",
       "      <td>0.928634</td>\n",
       "      <td>-0.716778</td>\n",
       "      <td>-0.085735</td>\n",
       "      <td>-1.208965</td>\n",
       "    </tr>\n",
       "    <tr>\n",
       "      <th>100003_raw-Protein</th>\n",
       "      <td>-0.284597</td>\n",
       "      <td>-0.325076</td>\n",
       "      <td>-1.412980</td>\n",
       "      <td>1.255510</td>\n",
       "      <td>0.343603</td>\n",
       "      <td>-2.471878</td>\n",
       "      <td>-0.149640</td>\n",
       "      <td>-0.715178</td>\n",
       "      <td>-0.548948</td>\n",
       "      <td>1.210352</td>\n",
       "      <td>...</td>\n",
       "      <td>1.006094</td>\n",
       "      <td>0.595064</td>\n",
       "      <td>1.774559</td>\n",
       "      <td>-0.335165</td>\n",
       "      <td>0.394177</td>\n",
       "      <td>-0.188345</td>\n",
       "      <td>-1.864716</td>\n",
       "      <td>-0.124875</td>\n",
       "      <td>1.253625</td>\n",
       "      <td>0.804944</td>\n",
       "    </tr>\n",
       "    <tr>\n",
       "      <th>100004_raw-Fat</th>\n",
       "      <td>-0.427503</td>\n",
       "      <td>-0.096524</td>\n",
       "      <td>-0.348654</td>\n",
       "      <td>-1.250087</td>\n",
       "      <td>-0.253145</td>\n",
       "      <td>-0.236606</td>\n",
       "      <td>-0.600627</td>\n",
       "      <td>0.277239</td>\n",
       "      <td>-0.844748</td>\n",
       "      <td>-0.998437</td>\n",
       "      <td>...</td>\n",
       "      <td>0.249993</td>\n",
       "      <td>-1.520660</td>\n",
       "      <td>0.037241</td>\n",
       "      <td>0.514992</td>\n",
       "      <td>0.512538</td>\n",
       "      <td>-1.083619</td>\n",
       "      <td>0.310643</td>\n",
       "      <td>-1.719033</td>\n",
       "      <td>-0.970770</td>\n",
       "      <td>-2.628077</td>\n",
       "    </tr>\n",
       "    <tr>\n",
       "      <th>100005_raw-Carbohydrate</th>\n",
       "      <td>-1.502621</td>\n",
       "      <td>-1.083034</td>\n",
       "      <td>0.531159</td>\n",
       "      <td>0.332981</td>\n",
       "      <td>-1.240640</td>\n",
       "      <td>-0.852565</td>\n",
       "      <td>-0.003171</td>\n",
       "      <td>0.561912</td>\n",
       "      <td>-0.772413</td>\n",
       "      <td>-0.372739</td>\n",
       "      <td>...</td>\n",
       "      <td>-0.577730</td>\n",
       "      <td>-1.163380</td>\n",
       "      <td>0.000251</td>\n",
       "      <td>-0.345607</td>\n",
       "      <td>-1.610004</td>\n",
       "      <td>0.194078</td>\n",
       "      <td>0.605594</td>\n",
       "      <td>1.182825</td>\n",
       "      <td>-1.567705</td>\n",
       "      <td>-0.011902</td>\n",
       "    </tr>\n",
       "  </tbody>\n",
       "</table>\n",
       "<p>5 rows × 987 columns</p>\n",
       "</div>"
      ],
      "text/plain": [
       "                              LV1       LV2       LV3       LV4       LV5  \\\n",
       "100001_raw-Food_weight  -2.408007 -1.745911  1.383013  0.158718 -0.240933   \n",
       "100002_raw-Energy       -0.508508  0.514427 -0.792865 -0.091775 -0.013409   \n",
       "100003_raw-Protein      -0.284597 -0.325076 -1.412980  1.255510  0.343603   \n",
       "100004_raw-Fat          -0.427503 -0.096524 -0.348654 -1.250087 -0.253145   \n",
       "100005_raw-Carbohydrate -1.502621 -1.083034  0.531159  0.332981 -1.240640   \n",
       "\n",
       "                              LV6       LV7       LV8       LV9      LV10  \\\n",
       "100001_raw-Food_weight  -0.304911  1.823117 -0.716278 -1.769346 -0.043794   \n",
       "100002_raw-Energy        0.194047  1.353713  0.117286 -0.323516 -1.641116   \n",
       "100003_raw-Protein      -2.471878 -0.149640 -0.715178 -0.548948  1.210352   \n",
       "100004_raw-Fat          -0.236606 -0.600627  0.277239 -0.844748 -0.998437   \n",
       "100005_raw-Carbohydrate -0.852565 -0.003171  0.561912 -0.772413 -0.372739   \n",
       "\n",
       "                         ...     LV978     LV979     LV980     LV981  \\\n",
       "100001_raw-Food_weight   ...  0.399227  0.849885 -0.593292  0.636568   \n",
       "100002_raw-Energy        ... -0.038535 -1.139394 -0.951591  1.197872   \n",
       "100003_raw-Protein       ...  1.006094  0.595064  1.774559 -0.335165   \n",
       "100004_raw-Fat           ...  0.249993 -1.520660  0.037241  0.514992   \n",
       "100005_raw-Carbohydrate  ... -0.577730 -1.163380  0.000251 -0.345607   \n",
       "\n",
       "                            LV982     LV983     LV984     LV985     LV986  \\\n",
       "100001_raw-Food_weight   0.409726 -0.871713  1.638770  0.285165  0.585307   \n",
       "100002_raw-Energy        0.893819 -0.820655  0.928634 -0.716778 -0.085735   \n",
       "100003_raw-Protein       0.394177 -0.188345 -1.864716 -0.124875  1.253625   \n",
       "100004_raw-Fat           0.512538 -1.083619  0.310643 -1.719033 -0.970770   \n",
       "100005_raw-Carbohydrate -1.610004  0.194078  0.605594  1.182825 -1.567705   \n",
       "\n",
       "                            LV987  \n",
       "100001_raw-Food_weight   0.592347  \n",
       "100002_raw-Energy       -1.208965  \n",
       "100003_raw-Protein       0.804944  \n",
       "100004_raw-Fat          -2.628077  \n",
       "100005_raw-Carbohydrate -0.011902  \n",
       "\n",
       "[5 rows x 987 columns]"
      ]
     },
     "execution_count": 21,
     "metadata": {},
     "output_type": "execute_result"
    }
   ],
   "source": [
    "data.head()"
   ]
  },
  {
   "cell_type": "code",
   "execution_count": 22,
   "id": "b38dd9d1",
   "metadata": {
    "execution": {
     "iopub.execute_input": "2022-11-26T05:30:53.299091Z",
     "iopub.status.busy": "2022-11-26T05:30:53.298692Z",
     "iopub.status.idle": "2022-11-26T05:30:53.326844Z",
     "shell.execute_reply": "2022-11-26T05:30:53.326275Z"
    },
    "papermill": {
     "duration": 0.036618,
     "end_time": "2022-11-26T05:30:53.327771",
     "exception": false,
     "start_time": "2022-11-26T05:30:53.291153",
     "status": "completed"
    },
    "tags": []
   },
   "outputs": [],
   "source": [
    "assert not data.isna().any().any()"
   ]
  },
  {
   "cell_type": "markdown",
   "id": "3bfb7eef",
   "metadata": {
    "papermill": {
     "duration": 0.007362,
     "end_time": "2022-11-26T05:30:53.342134",
     "exception": false,
     "start_time": "2022-11-26T05:30:53.334772",
     "status": "completed"
    },
    "tags": []
   },
   "source": [
    "# Clustering"
   ]
  },
  {
   "cell_type": "markdown",
   "id": "8a11fe22",
   "metadata": {
    "papermill": {
     "duration": 0.006678,
     "end_time": "2022-11-26T05:30:53.355612",
     "exception": false,
     "start_time": "2022-11-26T05:30:53.348934",
     "status": "completed"
    },
    "tags": []
   },
   "source": [
    "## Generate ensemble"
   ]
  },
  {
   "cell_type": "code",
   "execution_count": 23,
   "id": "77768dbf",
   "metadata": {
    "execution": {
     "iopub.execute_input": "2022-11-26T05:30:53.370525Z",
     "iopub.status.busy": "2022-11-26T05:30:53.370341Z",
     "iopub.status.idle": "2022-11-26T05:30:53.385661Z",
     "shell.execute_reply": "2022-11-26T05:30:53.385294Z"
    },
    "papermill": {
     "duration": 0.023438,
     "end_time": "2022-11-26T05:30:53.386339",
     "exception": false,
     "start_time": "2022-11-26T05:30:53.362901",
     "status": "completed"
    },
    "tags": []
   },
   "outputs": [],
   "source": [
    "from clustering.ensembles.utils import generate_ensemble"
   ]
  },
  {
   "cell_type": "code",
   "execution_count": 24,
   "id": "f62d3c53",
   "metadata": {
    "execution": {
     "iopub.execute_input": "2022-11-26T05:30:53.401043Z",
     "iopub.status.busy": "2022-11-26T05:30:53.400817Z",
     "iopub.status.idle": "2022-11-26T11:22:29.174096Z",
     "shell.execute_reply": "2022-11-26T11:22:29.173817Z"
    },
    "papermill": {
     "duration": 21095.790401,
     "end_time": "2022-11-26T11:22:29.183639",
     "exception": false,
     "start_time": "2022-11-26T05:30:53.393238",
     "status": "completed"
    },
    "tags": []
   },
   "outputs": [
    {
     "name": "stderr",
     "output_type": "stream",
     "text": [
      "100%|██████████| 295/295 [5:51:35<00:00, 71.51s/it] \n"
     ]
    }
   ],
   "source": [
    "ensemble = generate_ensemble(\n",
    "    data,\n",
    "    CLUSTERERS,\n",
    "    attributes=CLUSTERING_ATTRIBUTES_TO_SAVE,\n",
    ")"
   ]
  },
  {
   "cell_type": "code",
   "execution_count": 25,
   "id": "e555bea6",
   "metadata": {
    "execution": {
     "iopub.execute_input": "2022-11-26T11:22:29.216008Z",
     "iopub.status.busy": "2022-11-26T11:22:29.215813Z",
     "iopub.status.idle": "2022-11-26T11:22:29.229069Z",
     "shell.execute_reply": "2022-11-26T11:22:29.228840Z"
    },
    "papermill": {
     "duration": 0.029707,
     "end_time": "2022-11-26T11:22:29.229787",
     "exception": false,
     "start_time": "2022-11-26T11:22:29.200080",
     "status": "completed"
    },
    "tags": []
   },
   "outputs": [
    {
     "data": {
      "text/plain": [
       "(295, 3)"
      ]
     },
     "execution_count": 25,
     "metadata": {},
     "output_type": "execute_result"
    }
   ],
   "source": [
    "# the number should be close to 295 (the number of partitions generated by k-means/spectral clustering)\n",
    "ensemble.shape"
   ]
  },
  {
   "cell_type": "code",
   "execution_count": 26,
   "id": "a0fd5d64",
   "metadata": {
    "execution": {
     "iopub.execute_input": "2022-11-26T11:22:29.261857Z",
     "iopub.status.busy": "2022-11-26T11:22:29.261646Z",
     "iopub.status.idle": "2022-11-26T11:22:29.280333Z",
     "shell.execute_reply": "2022-11-26T11:22:29.280107Z"
    },
    "papermill": {
     "duration": 0.035474,
     "end_time": "2022-11-26T11:22:29.281080",
     "exception": false,
     "start_time": "2022-11-26T11:22:29.245606",
     "status": "completed"
    },
    "tags": []
   },
   "outputs": [
    {
     "data": {
      "text/html": [
       "<div>\n",
       "<style scoped>\n",
       "    .dataframe tbody tr th:only-of-type {\n",
       "        vertical-align: middle;\n",
       "    }\n",
       "\n",
       "    .dataframe tbody tr th {\n",
       "        vertical-align: top;\n",
       "    }\n",
       "\n",
       "    .dataframe thead th {\n",
       "        text-align: right;\n",
       "    }\n",
       "</style>\n",
       "<table border=\"1\" class=\"dataframe\">\n",
       "  <thead>\n",
       "    <tr style=\"text-align: right;\">\n",
       "      <th></th>\n",
       "      <th>clusterer_params</th>\n",
       "      <th>partition</th>\n",
       "      <th>n_clusters</th>\n",
       "    </tr>\n",
       "    <tr>\n",
       "      <th>clusterer_id</th>\n",
       "      <th></th>\n",
       "      <th></th>\n",
       "      <th></th>\n",
       "    </tr>\n",
       "  </thead>\n",
       "  <tbody>\n",
       "    <tr>\n",
       "      <th>GaussianMixture #0</th>\n",
       "      <td>{'covariance_type': 'full', 'init_params': 'km...</td>\n",
       "      <td>[1.0, 0.0, 0.0, 1.0, 1.0, 1.0, 0.0, 0.0, 1.0, ...</td>\n",
       "      <td>2</td>\n",
       "    </tr>\n",
       "    <tr>\n",
       "      <th>GaussianMixture #1</th>\n",
       "      <td>{'covariance_type': 'full', 'init_params': 'km...</td>\n",
       "      <td>[1.0, 0.0, 1.0, 1.0, 1.0, 1.0, 0.0, 1.0, 0.0, ...</td>\n",
       "      <td>2</td>\n",
       "    </tr>\n",
       "    <tr>\n",
       "      <th>GaussianMixture #2</th>\n",
       "      <td>{'covariance_type': 'full', 'init_params': 'km...</td>\n",
       "      <td>[1.0, 0.0, 1.0, 1.0, 0.0, 0.0, 1.0, 1.0, 1.0, ...</td>\n",
       "      <td>2</td>\n",
       "    </tr>\n",
       "    <tr>\n",
       "      <th>GaussianMixture #3</th>\n",
       "      <td>{'covariance_type': 'full', 'init_params': 'km...</td>\n",
       "      <td>[1.0, 0.0, 0.0, 1.0, 0.0, 1.0, 0.0, 1.0, 1.0, ...</td>\n",
       "      <td>2</td>\n",
       "    </tr>\n",
       "    <tr>\n",
       "      <th>GaussianMixture #4</th>\n",
       "      <td>{'covariance_type': 'full', 'init_params': 'km...</td>\n",
       "      <td>[1.0, 1.0, 1.0, 1.0, 1.0, 1.0, 1.0, 1.0, 1.0, ...</td>\n",
       "      <td>2</td>\n",
       "    </tr>\n",
       "  </tbody>\n",
       "</table>\n",
       "</div>"
      ],
      "text/plain": [
       "                                                     clusterer_params  \\\n",
       "clusterer_id                                                            \n",
       "GaussianMixture #0  {'covariance_type': 'full', 'init_params': 'km...   \n",
       "GaussianMixture #1  {'covariance_type': 'full', 'init_params': 'km...   \n",
       "GaussianMixture #2  {'covariance_type': 'full', 'init_params': 'km...   \n",
       "GaussianMixture #3  {'covariance_type': 'full', 'init_params': 'km...   \n",
       "GaussianMixture #4  {'covariance_type': 'full', 'init_params': 'km...   \n",
       "\n",
       "                                                            partition  \\\n",
       "clusterer_id                                                            \n",
       "GaussianMixture #0  [1.0, 0.0, 0.0, 1.0, 1.0, 1.0, 0.0, 0.0, 1.0, ...   \n",
       "GaussianMixture #1  [1.0, 0.0, 1.0, 1.0, 1.0, 1.0, 0.0, 1.0, 0.0, ...   \n",
       "GaussianMixture #2  [1.0, 0.0, 1.0, 1.0, 0.0, 0.0, 1.0, 1.0, 1.0, ...   \n",
       "GaussianMixture #3  [1.0, 0.0, 0.0, 1.0, 0.0, 1.0, 0.0, 1.0, 1.0, ...   \n",
       "GaussianMixture #4  [1.0, 1.0, 1.0, 1.0, 1.0, 1.0, 1.0, 1.0, 1.0, ...   \n",
       "\n",
       "                    n_clusters  \n",
       "clusterer_id                    \n",
       "GaussianMixture #0           2  \n",
       "GaussianMixture #1           2  \n",
       "GaussianMixture #2           2  \n",
       "GaussianMixture #3           2  \n",
       "GaussianMixture #4           2  "
      ]
     },
     "execution_count": 26,
     "metadata": {},
     "output_type": "execute_result"
    }
   ],
   "source": [
    "ensemble.head()"
   ]
  },
  {
   "cell_type": "code",
   "execution_count": 27,
   "id": "0e0a3687",
   "metadata": {
    "execution": {
     "iopub.execute_input": "2022-11-26T11:22:29.357500Z",
     "iopub.status.busy": "2022-11-26T11:22:29.357387Z",
     "iopub.status.idle": "2022-11-26T11:22:29.380145Z",
     "shell.execute_reply": "2022-11-26T11:22:29.379810Z"
    },
    "papermill": {
     "duration": 0.03951,
     "end_time": "2022-11-26T11:22:29.380935",
     "exception": false,
     "start_time": "2022-11-26T11:22:29.341425",
     "status": "completed"
    },
    "tags": []
   },
   "outputs": [
    {
     "data": {
      "text/plain": [
       "60    5\n",
       "16    5\n",
       "28    5\n",
       "27    5\n",
       "26    5\n",
       "Name: n_clusters, dtype: int64"
      ]
     },
     "execution_count": 27,
     "metadata": {},
     "output_type": "execute_result"
    }
   ],
   "source": [
    "ensemble[\"n_clusters\"].value_counts().head()"
   ]
  },
  {
   "cell_type": "code",
   "execution_count": 28,
   "id": "7672d8e1",
   "metadata": {
    "execution": {
     "iopub.execute_input": "2022-11-26T11:22:29.412894Z",
     "iopub.status.busy": "2022-11-26T11:22:29.412723Z",
     "iopub.status.idle": "2022-11-26T11:22:29.437691Z",
     "shell.execute_reply": "2022-11-26T11:22:29.437343Z"
    },
    "papermill": {
     "duration": 0.041773,
     "end_time": "2022-11-26T11:22:29.438741",
     "exception": false,
     "start_time": "2022-11-26T11:22:29.396968",
     "status": "completed"
    },
    "tags": []
   },
   "outputs": [
    {
     "data": {
      "text/plain": [
       "count    295.000000\n",
       "mean      31.000000\n",
       "std       17.058323\n",
       "min        2.000000\n",
       "25%       16.000000\n",
       "50%       31.000000\n",
       "75%       46.000000\n",
       "max       60.000000\n",
       "Name: n_clusters, dtype: float64"
      ]
     },
     "metadata": {},
     "output_type": "display_data"
    }
   ],
   "source": [
    "ensemble_stats = ensemble[\"n_clusters\"].describe()\n",
    "display(ensemble_stats)"
   ]
  },
  {
   "cell_type": "markdown",
   "id": "4ff7f7e1",
   "metadata": {
    "papermill": {
     "duration": 0.015217,
     "end_time": "2022-11-26T11:22:29.471164",
     "exception": false,
     "start_time": "2022-11-26T11:22:29.455947",
     "status": "completed"
    },
    "tags": []
   },
   "source": [
    "## Testing"
   ]
  },
  {
   "cell_type": "code",
   "execution_count": 29,
   "id": "356a52a9",
   "metadata": {
    "execution": {
     "iopub.execute_input": "2022-11-26T11:22:29.502102Z",
     "iopub.status.busy": "2022-11-26T11:22:29.501937Z",
     "iopub.status.idle": "2022-11-26T11:22:29.519067Z",
     "shell.execute_reply": "2022-11-26T11:22:29.518703Z"
    },
    "papermill": {
     "duration": 0.033598,
     "end_time": "2022-11-26T11:22:29.519983",
     "exception": false,
     "start_time": "2022-11-26T11:22:29.486385",
     "status": "completed"
    },
    "tags": []
   },
   "outputs": [],
   "source": [
    "assert ensemble_stats[\"min\"] > 1"
   ]
  },
  {
   "cell_type": "code",
   "execution_count": 30,
   "id": "c07c1d15",
   "metadata": {
    "execution": {
     "iopub.execute_input": "2022-11-26T11:22:29.552048Z",
     "iopub.status.busy": "2022-11-26T11:22:29.551899Z",
     "iopub.status.idle": "2022-11-26T11:22:29.569010Z",
     "shell.execute_reply": "2022-11-26T11:22:29.568622Z"
    },
    "papermill": {
     "duration": 0.033743,
     "end_time": "2022-11-26T11:22:29.569851",
     "exception": false,
     "start_time": "2022-11-26T11:22:29.536108",
     "status": "completed"
    },
    "tags": []
   },
   "outputs": [],
   "source": [
    "assert not ensemble[\"n_clusters\"].isna().any()"
   ]
  },
  {
   "cell_type": "code",
   "execution_count": 31,
   "id": "18ad9a84",
   "metadata": {
    "execution": {
     "iopub.execute_input": "2022-11-26T11:22:29.602532Z",
     "iopub.status.busy": "2022-11-26T11:22:29.602324Z",
     "iopub.status.idle": "2022-11-26T11:22:29.619221Z",
     "shell.execute_reply": "2022-11-26T11:22:29.618849Z"
    },
    "papermill": {
     "duration": 0.034292,
     "end_time": "2022-11-26T11:22:29.620043",
     "exception": false,
     "start_time": "2022-11-26T11:22:29.585751",
     "status": "completed"
    },
    "tags": []
   },
   "outputs": [],
   "source": [
    "assert ensemble.shape[0] == len(CLUSTERERS)"
   ]
  },
  {
   "cell_type": "code",
   "execution_count": 32,
   "id": "d9b49ac6",
   "metadata": {
    "execution": {
     "iopub.execute_input": "2022-11-26T11:22:29.652588Z",
     "iopub.status.busy": "2022-11-26T11:22:29.652401Z",
     "iopub.status.idle": "2022-11-26T11:22:29.686628Z",
     "shell.execute_reply": "2022-11-26T11:22:29.686301Z"
    },
    "papermill": {
     "duration": 0.05161,
     "end_time": "2022-11-26T11:22:29.687683",
     "exception": false,
     "start_time": "2022-11-26T11:22:29.636073",
     "status": "completed"
    },
    "tags": []
   },
   "outputs": [],
   "source": [
    "# all partitions have the right size\n",
    "assert np.all(\n",
    "    [part[\"partition\"].shape[0] == data.shape[0] for idx, part in ensemble.iterrows()]\n",
    ")"
   ]
  },
  {
   "cell_type": "code",
   "execution_count": 33,
   "id": "af5e1c1f",
   "metadata": {
    "execution": {
     "iopub.execute_input": "2022-11-26T11:22:29.721144Z",
     "iopub.status.busy": "2022-11-26T11:22:29.720851Z",
     "iopub.status.idle": "2022-11-26T11:22:29.770827Z",
     "shell.execute_reply": "2022-11-26T11:22:29.770364Z"
    },
    "papermill": {
     "duration": 0.068103,
     "end_time": "2022-11-26T11:22:29.772171",
     "exception": false,
     "start_time": "2022-11-26T11:22:29.704068",
     "status": "completed"
    },
    "tags": []
   },
   "outputs": [],
   "source": [
    "# no partition has negative clusters (noisy points)\n",
    "assert not np.any([(part[\"partition\"] < 0).any() for idx, part in ensemble.iterrows()])"
   ]
  },
  {
   "cell_type": "markdown",
   "id": "66ed7ea8",
   "metadata": {
    "papermill": {
     "duration": 0.015442,
     "end_time": "2022-11-26T11:22:29.803372",
     "exception": false,
     "start_time": "2022-11-26T11:22:29.787930",
     "status": "completed"
    },
    "tags": []
   },
   "source": [
    "## Add clustering quality measures"
   ]
  },
  {
   "cell_type": "code",
   "execution_count": 34,
   "id": "06c5b8c8",
   "metadata": {
    "execution": {
     "iopub.execute_input": "2022-11-26T11:22:29.836019Z",
     "iopub.status.busy": "2022-11-26T11:22:29.835717Z",
     "iopub.status.idle": "2022-11-26T11:22:29.857380Z",
     "shell.execute_reply": "2022-11-26T11:22:29.856938Z"
    },
    "papermill": {
     "duration": 0.03908,
     "end_time": "2022-11-26T11:22:29.858499",
     "exception": false,
     "start_time": "2022-11-26T11:22:29.819419",
     "status": "completed"
    },
    "tags": []
   },
   "outputs": [],
   "source": [
    "from sklearn.metrics import calinski_harabasz_score"
   ]
  },
  {
   "cell_type": "code",
   "execution_count": 35,
   "id": "e21f55d5",
   "metadata": {
    "execution": {
     "iopub.execute_input": "2022-11-26T11:22:29.891574Z",
     "iopub.status.busy": "2022-11-26T11:22:29.891290Z",
     "iopub.status.idle": "2022-11-26T11:22:35.152249Z",
     "shell.execute_reply": "2022-11-26T11:22:35.151922Z"
    },
    "papermill": {
     "duration": 5.278992,
     "end_time": "2022-11-26T11:22:35.153825",
     "exception": false,
     "start_time": "2022-11-26T11:22:29.874833",
     "status": "completed"
    },
    "tags": []
   },
   "outputs": [],
   "source": [
    "ensemble = ensemble.assign(\n",
    "    ch_score=ensemble[\"partition\"].apply(lambda x: calinski_harabasz_score(data, x))\n",
    ")"
   ]
  },
  {
   "cell_type": "code",
   "execution_count": 36,
   "id": "512c482a",
   "metadata": {
    "execution": {
     "iopub.execute_input": "2022-11-26T11:22:35.215927Z",
     "iopub.status.busy": "2022-11-26T11:22:35.215800Z",
     "iopub.status.idle": "2022-11-26T11:22:35.228869Z",
     "shell.execute_reply": "2022-11-26T11:22:35.228590Z"
    },
    "papermill": {
     "duration": 0.045162,
     "end_time": "2022-11-26T11:22:35.230117",
     "exception": false,
     "start_time": "2022-11-26T11:22:35.184955",
     "status": "completed"
    },
    "tags": []
   },
   "outputs": [
    {
     "data": {
      "text/plain": [
       "(295, 4)"
      ]
     },
     "execution_count": 36,
     "metadata": {},
     "output_type": "execute_result"
    }
   ],
   "source": [
    "ensemble.shape"
   ]
  },
  {
   "cell_type": "code",
   "execution_count": 37,
   "id": "e4ec0cdb",
   "metadata": {
    "execution": {
     "iopub.execute_input": "2022-11-26T11:22:35.280481Z",
     "iopub.status.busy": "2022-11-26T11:22:35.280234Z",
     "iopub.status.idle": "2022-11-26T11:22:35.313026Z",
     "shell.execute_reply": "2022-11-26T11:22:35.312609Z"
    },
    "papermill": {
     "duration": 0.053124,
     "end_time": "2022-11-26T11:22:35.313811",
     "exception": false,
     "start_time": "2022-11-26T11:22:35.260687",
     "status": "completed"
    },
    "tags": []
   },
   "outputs": [
    {
     "data": {
      "text/html": [
       "<div>\n",
       "<style scoped>\n",
       "    .dataframe tbody tr th:only-of-type {\n",
       "        vertical-align: middle;\n",
       "    }\n",
       "\n",
       "    .dataframe tbody tr th {\n",
       "        vertical-align: top;\n",
       "    }\n",
       "\n",
       "    .dataframe thead th {\n",
       "        text-align: right;\n",
       "    }\n",
       "</style>\n",
       "<table border=\"1\" class=\"dataframe\">\n",
       "  <thead>\n",
       "    <tr style=\"text-align: right;\">\n",
       "      <th></th>\n",
       "      <th>clusterer_params</th>\n",
       "      <th>partition</th>\n",
       "      <th>n_clusters</th>\n",
       "      <th>ch_score</th>\n",
       "    </tr>\n",
       "    <tr>\n",
       "      <th>clusterer_id</th>\n",
       "      <th></th>\n",
       "      <th></th>\n",
       "      <th></th>\n",
       "      <th></th>\n",
       "    </tr>\n",
       "  </thead>\n",
       "  <tbody>\n",
       "    <tr>\n",
       "      <th>GaussianMixture #0</th>\n",
       "      <td>{'covariance_type': 'full', 'init_params': 'km...</td>\n",
       "      <td>[1.0, 0.0, 0.0, 1.0, 1.0, 1.0, 0.0, 0.0, 1.0, ...</td>\n",
       "      <td>2</td>\n",
       "      <td>5.265876</td>\n",
       "    </tr>\n",
       "    <tr>\n",
       "      <th>GaussianMixture #1</th>\n",
       "      <td>{'covariance_type': 'full', 'init_params': 'km...</td>\n",
       "      <td>[1.0, 0.0, 1.0, 1.0, 1.0, 1.0, 0.0, 1.0, 0.0, ...</td>\n",
       "      <td>2</td>\n",
       "      <td>4.951986</td>\n",
       "    </tr>\n",
       "    <tr>\n",
       "      <th>GaussianMixture #2</th>\n",
       "      <td>{'covariance_type': 'full', 'init_params': 'km...</td>\n",
       "      <td>[1.0, 0.0, 1.0, 1.0, 0.0, 0.0, 1.0, 1.0, 1.0, ...</td>\n",
       "      <td>2</td>\n",
       "      <td>5.529960</td>\n",
       "    </tr>\n",
       "    <tr>\n",
       "      <th>GaussianMixture #3</th>\n",
       "      <td>{'covariance_type': 'full', 'init_params': 'km...</td>\n",
       "      <td>[1.0, 0.0, 0.0, 1.0, 0.0, 1.0, 0.0, 1.0, 1.0, ...</td>\n",
       "      <td>2</td>\n",
       "      <td>5.538596</td>\n",
       "    </tr>\n",
       "    <tr>\n",
       "      <th>GaussianMixture #4</th>\n",
       "      <td>{'covariance_type': 'full', 'init_params': 'km...</td>\n",
       "      <td>[1.0, 1.0, 1.0, 1.0, 1.0, 1.0, 1.0, 1.0, 1.0, ...</td>\n",
       "      <td>2</td>\n",
       "      <td>2.588764</td>\n",
       "    </tr>\n",
       "  </tbody>\n",
       "</table>\n",
       "</div>"
      ],
      "text/plain": [
       "                                                     clusterer_params  \\\n",
       "clusterer_id                                                            \n",
       "GaussianMixture #0  {'covariance_type': 'full', 'init_params': 'km...   \n",
       "GaussianMixture #1  {'covariance_type': 'full', 'init_params': 'km...   \n",
       "GaussianMixture #2  {'covariance_type': 'full', 'init_params': 'km...   \n",
       "GaussianMixture #3  {'covariance_type': 'full', 'init_params': 'km...   \n",
       "GaussianMixture #4  {'covariance_type': 'full', 'init_params': 'km...   \n",
       "\n",
       "                                                            partition  \\\n",
       "clusterer_id                                                            \n",
       "GaussianMixture #0  [1.0, 0.0, 0.0, 1.0, 1.0, 1.0, 0.0, 0.0, 1.0, ...   \n",
       "GaussianMixture #1  [1.0, 0.0, 1.0, 1.0, 1.0, 1.0, 0.0, 1.0, 0.0, ...   \n",
       "GaussianMixture #2  [1.0, 0.0, 1.0, 1.0, 0.0, 0.0, 1.0, 1.0, 1.0, ...   \n",
       "GaussianMixture #3  [1.0, 0.0, 0.0, 1.0, 0.0, 1.0, 0.0, 1.0, 1.0, ...   \n",
       "GaussianMixture #4  [1.0, 1.0, 1.0, 1.0, 1.0, 1.0, 1.0, 1.0, 1.0, ...   \n",
       "\n",
       "                    n_clusters  ch_score  \n",
       "clusterer_id                              \n",
       "GaussianMixture #0           2  5.265876  \n",
       "GaussianMixture #1           2  4.951986  \n",
       "GaussianMixture #2           2  5.529960  \n",
       "GaussianMixture #3           2  5.538596  \n",
       "GaussianMixture #4           2  2.588764  "
      ]
     },
     "execution_count": 37,
     "metadata": {},
     "output_type": "execute_result"
    }
   ],
   "source": [
    "ensemble.head()"
   ]
  },
  {
   "cell_type": "markdown",
   "id": "d8e6338c",
   "metadata": {
    "papermill": {
     "duration": 0.015487,
     "end_time": "2022-11-26T11:22:35.345268",
     "exception": false,
     "start_time": "2022-11-26T11:22:35.329781",
     "status": "completed"
    },
    "tags": []
   },
   "source": [
    "## Save"
   ]
  },
  {
   "cell_type": "code",
   "execution_count": 38,
   "id": "0d669ad1",
   "metadata": {
    "execution": {
     "iopub.execute_input": "2022-11-26T11:22:35.377257Z",
     "iopub.status.busy": "2022-11-26T11:22:35.377018Z",
     "iopub.status.idle": "2022-11-26T11:22:35.399627Z",
     "shell.execute_reply": "2022-11-26T11:22:35.399235Z"
    },
    "papermill": {
     "duration": 0.039567,
     "end_time": "2022-11-26T11:22:35.400436",
     "exception": false,
     "start_time": "2022-11-26T11:22:35.360869",
     "status": "completed"
    },
    "tags": []
   },
   "outputs": [
    {
     "data": {
      "text/plain": [
       "PosixPath('/opt/data/results/clustering/null_sims/shuffle_lvs/runs/z_score_std-projection-smultixcan-efo_partial-mashr-zscores/GaussianMixture-COVARIANCE_TYPE_full-K_MAX_60-K_MIN_2-N_INIT_10-N_REPS_PER_K_5.pkl')"
      ]
     },
     "metadata": {},
     "output_type": "display_data"
    }
   ],
   "source": [
    "output_filename = Path(\n",
    "    RESULTS_DIR,\n",
    "    generate_result_set_name(\n",
    "        CLUSTERING_OPTIONS,\n",
    "        prefix=f\"{clustering_method_name}-\",\n",
    "        suffix=\".pkl\",\n",
    "    ),\n",
    ").resolve()\n",
    "display(output_filename)"
   ]
  },
  {
   "cell_type": "code",
   "execution_count": 39,
   "id": "18060adc",
   "metadata": {
    "execution": {
     "iopub.execute_input": "2022-11-26T11:22:35.432774Z",
     "iopub.status.busy": "2022-11-26T11:22:35.432538Z",
     "iopub.status.idle": "2022-11-26T11:22:35.468068Z",
     "shell.execute_reply": "2022-11-26T11:22:35.467608Z"
    },
    "papermill": {
     "duration": 0.052574,
     "end_time": "2022-11-26T11:22:35.469039",
     "exception": false,
     "start_time": "2022-11-26T11:22:35.416465",
     "status": "completed"
    },
    "tags": []
   },
   "outputs": [],
   "source": [
    "ensemble.to_pickle(output_filename)"
   ]
  },
  {
   "cell_type": "markdown",
   "id": "4936a3df",
   "metadata": {
    "papermill": {
     "duration": 0.015442,
     "end_time": "2022-11-26T11:22:35.500458",
     "exception": false,
     "start_time": "2022-11-26T11:22:35.485016",
     "status": "completed"
    },
    "tags": []
   },
   "source": [
    "# Cluster quality"
   ]
  },
  {
   "cell_type": "code",
   "execution_count": 40,
   "id": "0d2e3f1f",
   "metadata": {
    "execution": {
     "iopub.execute_input": "2022-11-26T11:22:35.532598Z",
     "iopub.status.busy": "2022-11-26T11:22:35.532264Z",
     "iopub.status.idle": "2022-11-26T11:22:35.561374Z",
     "shell.execute_reply": "2022-11-26T11:22:35.560978Z"
    },
    "papermill": {
     "duration": 0.046107,
     "end_time": "2022-11-26T11:22:35.562144",
     "exception": false,
     "start_time": "2022-11-26T11:22:35.516037",
     "status": "completed"
    },
    "tags": []
   },
   "outputs": [
    {
     "data": {
      "text/html": [
       "<div>\n",
       "<style scoped>\n",
       "    .dataframe tbody tr th:only-of-type {\n",
       "        vertical-align: middle;\n",
       "    }\n",
       "\n",
       "    .dataframe tbody tr th {\n",
       "        vertical-align: top;\n",
       "    }\n",
       "\n",
       "    .dataframe thead th {\n",
       "        text-align: right;\n",
       "    }\n",
       "</style>\n",
       "<table border=\"1\" class=\"dataframe\">\n",
       "  <thead>\n",
       "    <tr style=\"text-align: right;\">\n",
       "      <th></th>\n",
       "      <th>ch_score</th>\n",
       "    </tr>\n",
       "    <tr>\n",
       "      <th>n_clusters</th>\n",
       "      <th></th>\n",
       "    </tr>\n",
       "  </thead>\n",
       "  <tbody>\n",
       "    <tr>\n",
       "      <th>2</th>\n",
       "      <td>4.775036</td>\n",
       "    </tr>\n",
       "    <tr>\n",
       "      <th>3</th>\n",
       "      <td>4.568864</td>\n",
       "    </tr>\n",
       "    <tr>\n",
       "      <th>4</th>\n",
       "      <td>4.143114</td>\n",
       "    </tr>\n",
       "    <tr>\n",
       "      <th>5</th>\n",
       "      <td>3.838441</td>\n",
       "    </tr>\n",
       "    <tr>\n",
       "      <th>6</th>\n",
       "      <td>3.587625</td>\n",
       "    </tr>\n",
       "    <tr>\n",
       "      <th>7</th>\n",
       "      <td>3.387668</td>\n",
       "    </tr>\n",
       "    <tr>\n",
       "      <th>8</th>\n",
       "      <td>2.919031</td>\n",
       "    </tr>\n",
       "    <tr>\n",
       "      <th>9</th>\n",
       "      <td>3.022786</td>\n",
       "    </tr>\n",
       "    <tr>\n",
       "      <th>10</th>\n",
       "      <td>2.875134</td>\n",
       "    </tr>\n",
       "    <tr>\n",
       "      <th>11</th>\n",
       "      <td>2.725631</td>\n",
       "    </tr>\n",
       "    <tr>\n",
       "      <th>12</th>\n",
       "      <td>2.711058</td>\n",
       "    </tr>\n",
       "    <tr>\n",
       "      <th>13</th>\n",
       "      <td>2.532667</td>\n",
       "    </tr>\n",
       "    <tr>\n",
       "      <th>14</th>\n",
       "      <td>2.329836</td>\n",
       "    </tr>\n",
       "    <tr>\n",
       "      <th>15</th>\n",
       "      <td>2.200045</td>\n",
       "    </tr>\n",
       "    <tr>\n",
       "      <th>16</th>\n",
       "      <td>2.346472</td>\n",
       "    </tr>\n",
       "    <tr>\n",
       "      <th>17</th>\n",
       "      <td>2.157141</td>\n",
       "    </tr>\n",
       "    <tr>\n",
       "      <th>18</th>\n",
       "      <td>2.076991</td>\n",
       "    </tr>\n",
       "    <tr>\n",
       "      <th>19</th>\n",
       "      <td>2.199871</td>\n",
       "    </tr>\n",
       "    <tr>\n",
       "      <th>20</th>\n",
       "      <td>2.151699</td>\n",
       "    </tr>\n",
       "    <tr>\n",
       "      <th>21</th>\n",
       "      <td>1.818354</td>\n",
       "    </tr>\n",
       "    <tr>\n",
       "      <th>22</th>\n",
       "      <td>1.819594</td>\n",
       "    </tr>\n",
       "    <tr>\n",
       "      <th>23</th>\n",
       "      <td>1.630177</td>\n",
       "    </tr>\n",
       "    <tr>\n",
       "      <th>24</th>\n",
       "      <td>1.486639</td>\n",
       "    </tr>\n",
       "    <tr>\n",
       "      <th>25</th>\n",
       "      <td>1.656540</td>\n",
       "    </tr>\n",
       "    <tr>\n",
       "      <th>26</th>\n",
       "      <td>1.650378</td>\n",
       "    </tr>\n",
       "    <tr>\n",
       "      <th>27</th>\n",
       "      <td>1.611698</td>\n",
       "    </tr>\n",
       "    <tr>\n",
       "      <th>28</th>\n",
       "      <td>1.537579</td>\n",
       "    </tr>\n",
       "    <tr>\n",
       "      <th>29</th>\n",
       "      <td>1.568483</td>\n",
       "    </tr>\n",
       "    <tr>\n",
       "      <th>30</th>\n",
       "      <td>1.590704</td>\n",
       "    </tr>\n",
       "    <tr>\n",
       "      <th>31</th>\n",
       "      <td>1.616202</td>\n",
       "    </tr>\n",
       "    <tr>\n",
       "      <th>32</th>\n",
       "      <td>1.467715</td>\n",
       "    </tr>\n",
       "    <tr>\n",
       "      <th>33</th>\n",
       "      <td>1.485532</td>\n",
       "    </tr>\n",
       "    <tr>\n",
       "      <th>34</th>\n",
       "      <td>1.552164</td>\n",
       "    </tr>\n",
       "    <tr>\n",
       "      <th>35</th>\n",
       "      <td>1.506048</td>\n",
       "    </tr>\n",
       "    <tr>\n",
       "      <th>36</th>\n",
       "      <td>1.590415</td>\n",
       "    </tr>\n",
       "    <tr>\n",
       "      <th>37</th>\n",
       "      <td>1.542756</td>\n",
       "    </tr>\n",
       "    <tr>\n",
       "      <th>38</th>\n",
       "      <td>1.452035</td>\n",
       "    </tr>\n",
       "    <tr>\n",
       "      <th>39</th>\n",
       "      <td>1.523941</td>\n",
       "    </tr>\n",
       "    <tr>\n",
       "      <th>40</th>\n",
       "      <td>1.470942</td>\n",
       "    </tr>\n",
       "    <tr>\n",
       "      <th>41</th>\n",
       "      <td>1.502339</td>\n",
       "    </tr>\n",
       "    <tr>\n",
       "      <th>42</th>\n",
       "      <td>1.534007</td>\n",
       "    </tr>\n",
       "    <tr>\n",
       "      <th>43</th>\n",
       "      <td>1.559346</td>\n",
       "    </tr>\n",
       "    <tr>\n",
       "      <th>44</th>\n",
       "      <td>1.528161</td>\n",
       "    </tr>\n",
       "    <tr>\n",
       "      <th>45</th>\n",
       "      <td>1.492315</td>\n",
       "    </tr>\n",
       "    <tr>\n",
       "      <th>46</th>\n",
       "      <td>1.558749</td>\n",
       "    </tr>\n",
       "    <tr>\n",
       "      <th>47</th>\n",
       "      <td>1.518371</td>\n",
       "    </tr>\n",
       "    <tr>\n",
       "      <th>48</th>\n",
       "      <td>1.450385</td>\n",
       "    </tr>\n",
       "    <tr>\n",
       "      <th>49</th>\n",
       "      <td>1.492210</td>\n",
       "    </tr>\n",
       "    <tr>\n",
       "      <th>50</th>\n",
       "      <td>1.522282</td>\n",
       "    </tr>\n",
       "    <tr>\n",
       "      <th>51</th>\n",
       "      <td>1.564362</td>\n",
       "    </tr>\n",
       "    <tr>\n",
       "      <th>52</th>\n",
       "      <td>1.566171</td>\n",
       "    </tr>\n",
       "    <tr>\n",
       "      <th>53</th>\n",
       "      <td>1.518043</td>\n",
       "    </tr>\n",
       "    <tr>\n",
       "      <th>54</th>\n",
       "      <td>1.533817</td>\n",
       "    </tr>\n",
       "    <tr>\n",
       "      <th>55</th>\n",
       "      <td>1.453796</td>\n",
       "    </tr>\n",
       "    <tr>\n",
       "      <th>56</th>\n",
       "      <td>1.464346</td>\n",
       "    </tr>\n",
       "    <tr>\n",
       "      <th>57</th>\n",
       "      <td>1.495570</td>\n",
       "    </tr>\n",
       "    <tr>\n",
       "      <th>58</th>\n",
       "      <td>1.562592</td>\n",
       "    </tr>\n",
       "    <tr>\n",
       "      <th>59</th>\n",
       "      <td>1.523583</td>\n",
       "    </tr>\n",
       "    <tr>\n",
       "      <th>60</th>\n",
       "      <td>1.552618</td>\n",
       "    </tr>\n",
       "  </tbody>\n",
       "</table>\n",
       "</div>"
      ],
      "text/plain": [
       "            ch_score\n",
       "n_clusters          \n",
       "2           4.775036\n",
       "3           4.568864\n",
       "4           4.143114\n",
       "5           3.838441\n",
       "6           3.587625\n",
       "7           3.387668\n",
       "8           2.919031\n",
       "9           3.022786\n",
       "10          2.875134\n",
       "11          2.725631\n",
       "12          2.711058\n",
       "13          2.532667\n",
       "14          2.329836\n",
       "15          2.200045\n",
       "16          2.346472\n",
       "17          2.157141\n",
       "18          2.076991\n",
       "19          2.199871\n",
       "20          2.151699\n",
       "21          1.818354\n",
       "22          1.819594\n",
       "23          1.630177\n",
       "24          1.486639\n",
       "25          1.656540\n",
       "26          1.650378\n",
       "27          1.611698\n",
       "28          1.537579\n",
       "29          1.568483\n",
       "30          1.590704\n",
       "31          1.616202\n",
       "32          1.467715\n",
       "33          1.485532\n",
       "34          1.552164\n",
       "35          1.506048\n",
       "36          1.590415\n",
       "37          1.542756\n",
       "38          1.452035\n",
       "39          1.523941\n",
       "40          1.470942\n",
       "41          1.502339\n",
       "42          1.534007\n",
       "43          1.559346\n",
       "44          1.528161\n",
       "45          1.492315\n",
       "46          1.558749\n",
       "47          1.518371\n",
       "48          1.450385\n",
       "49          1.492210\n",
       "50          1.522282\n",
       "51          1.564362\n",
       "52          1.566171\n",
       "53          1.518043\n",
       "54          1.533817\n",
       "55          1.453796\n",
       "56          1.464346\n",
       "57          1.495570\n",
       "58          1.562592\n",
       "59          1.523583\n",
       "60          1.552618"
      ]
     },
     "metadata": {},
     "output_type": "display_data"
    }
   ],
   "source": [
    "with pd.option_context(\"display.max_rows\", None, \"display.max_columns\", None):\n",
    "    _df = ensemble.groupby([\"n_clusters\"]).mean()\n",
    "    display(_df)"
   ]
  },
  {
   "cell_type": "code",
   "execution_count": 41,
   "id": "b5c32f06",
   "metadata": {
    "execution": {
     "iopub.execute_input": "2022-11-26T11:22:35.594953Z",
     "iopub.status.busy": "2022-11-26T11:22:35.594717Z",
     "iopub.status.idle": "2022-11-26T11:22:37.702256Z",
     "shell.execute_reply": "2022-11-26T11:22:37.701787Z"
    },
    "papermill": {
     "duration": 2.125467,
     "end_time": "2022-11-26T11:22:37.703847",
     "exception": false,
     "start_time": "2022-11-26T11:22:35.578380",
     "status": "completed"
    },
    "tags": []
   },
   "outputs": [
    {
     "data": {
      "image/png": "[encoded data removed]",
      "text/plain": [
       "<Figure size 1008x432 with 1 Axes>"
      ]
     },
     "metadata": {},
     "output_type": "display_data"
    }
   ],
   "source": [
    "with sns.plotting_context(\"talk\", font_scale=0.75), sns.axes_style(\n",
    "    \"whitegrid\", {\"grid.linestyle\": \"--\"}\n",
    "):\n",
    "    fig = plt.figure(figsize=(14, 6))\n",
    "    ax = sns.pointplot(data=ensemble, x=\"n_clusters\", y=\"ch_score\")\n",
    "    ax.set_ylabel(\"Calinski-Harabasz index\")\n",
    "    ax.set_xlabel(\"Number of clusters ($k$)\")\n",
    "    ax.set_xticklabels(ax.get_xticklabels(), rotation=45)\n",
    "    plt.grid(True)\n",
    "    plt.tight_layout()"
   ]
  },
  {
   "cell_type": "markdown",
   "id": "2b647848",
   "metadata": {
    "papermill": {
     "duration": 0.032926,
     "end_time": "2022-11-26T11:22:37.770437",
     "exception": false,
     "start_time": "2022-11-26T11:22:37.737511",
     "status": "completed"
    },
    "tags": []
   },
   "source": [
    "# Stability"
   ]
  },
  {
   "cell_type": "markdown",
   "id": "79e1e04a",
   "metadata": {
    "papermill": {
     "duration": 0.017029,
     "end_time": "2022-11-26T11:22:37.810943",
     "exception": false,
     "start_time": "2022-11-26T11:22:37.793914",
     "status": "completed"
    },
    "tags": []
   },
   "source": [
    "## Group ensemble by n_clusters"
   ]
  },
  {
   "cell_type": "code",
   "execution_count": 42,
   "id": "171802e3",
   "metadata": {
    "execution": {
     "iopub.execute_input": "2022-11-26T11:22:37.845667Z",
     "iopub.status.busy": "2022-11-26T11:22:37.845395Z",
     "iopub.status.idle": "2022-11-26T11:22:37.886152Z",
     "shell.execute_reply": "2022-11-26T11:22:37.885574Z"
    },
    "papermill": {
     "duration": 0.059626,
     "end_time": "2022-11-26T11:22:37.887331",
     "exception": false,
     "start_time": "2022-11-26T11:22:37.827705",
     "status": "completed"
    },
    "tags": []
   },
   "outputs": [],
   "source": [
    "parts = ensemble.groupby(\"n_clusters\").apply(\n",
    "    lambda x: np.concatenate(x[\"partition\"].apply(lambda x: x.reshape(1, -1)), axis=0)\n",
    ")"
   ]
  },
  {
   "cell_type": "code",
   "execution_count": 43,
   "id": "8ed815d2",
   "metadata": {
    "execution": {
     "iopub.execute_input": "2022-11-26T11:22:37.923575Z",
     "iopub.status.busy": "2022-11-26T11:22:37.923278Z",
     "iopub.status.idle": "2022-11-26T11:22:37.964937Z",
     "shell.execute_reply": "2022-11-26T11:22:37.964398Z"
    },
    "papermill": {
     "duration": 0.060919,
     "end_time": "2022-11-26T11:22:37.965829",
     "exception": false,
     "start_time": "2022-11-26T11:22:37.904910",
     "status": "completed"
    },
    "tags": []
   },
   "outputs": [
    {
     "data": {
      "text/plain": [
       "n_clusters\n",
       "2    [[1.0, 0.0, 0.0, 1.0, 1.0, 1.0, 0.0, 0.0, 1.0,...\n",
       "3    [[1.0, 1.0, 1.0, 2.0, 1.0, 1.0, 2.0, 2.0, 2.0,...\n",
       "4    [[3.0, 1.0, 1.0, 2.0, 2.0, 1.0, 2.0, 3.0, 2.0,...\n",
       "5    [[0.0, 3.0, 3.0, 4.0, 0.0, 3.0, 1.0, 4.0, 4.0,...\n",
       "6    [[2.0, 0.0, 1.0, 2.0, 0.0, 2.0, 0.0, 5.0, 2.0,...\n",
       "dtype: object"
      ]
     },
     "execution_count": 43,
     "metadata": {},
     "output_type": "execute_result"
    }
   ],
   "source": [
    "parts.head()"
   ]
  },
  {
   "cell_type": "code",
   "execution_count": 44,
   "id": "fde0863b",
   "metadata": {
    "execution": {
     "iopub.execute_input": "2022-11-26T11:22:38.001055Z",
     "iopub.status.busy": "2022-11-26T11:22:38.000763Z",
     "iopub.status.idle": "2022-11-26T11:22:38.024259Z",
     "shell.execute_reply": "2022-11-26T11:22:38.023691Z"
    },
    "papermill": {
     "duration": 0.042107,
     "end_time": "2022-11-26T11:22:38.025200",
     "exception": false,
     "start_time": "2022-11-26T11:22:37.983093",
     "status": "completed"
    },
    "tags": []
   },
   "outputs": [],
   "source": [
    "assert np.all(\n",
    "    [\n",
    "        parts.loc[k].shape == (CLUSTERING_OPTIONS[\"N_REPS_PER_K\"], data.shape[0])\n",
    "        for k in parts.index\n",
    "    ]\n",
    ")"
   ]
  },
  {
   "cell_type": "markdown",
   "id": "490cde94",
   "metadata": {
    "papermill": {
     "duration": 0.016545,
     "end_time": "2022-11-26T11:22:38.059314",
     "exception": false,
     "start_time": "2022-11-26T11:22:38.042769",
     "status": "completed"
    },
    "tags": []
   },
   "source": [
    "## Compute stability"
   ]
  },
  {
   "cell_type": "code",
   "execution_count": 45,
   "id": "9e228d9d",
   "metadata": {
    "execution": {
     "iopub.execute_input": "2022-11-26T11:22:38.094588Z",
     "iopub.status.busy": "2022-11-26T11:22:38.094186Z",
     "iopub.status.idle": "2022-11-26T11:22:38.116396Z",
     "shell.execute_reply": "2022-11-26T11:22:38.115829Z"
    },
    "papermill": {
     "duration": 0.040878,
     "end_time": "2022-11-26T11:22:38.117521",
     "exception": false,
     "start_time": "2022-11-26T11:22:38.076643",
     "status": "completed"
    },
    "tags": []
   },
   "outputs": [],
   "source": [
    "from sklearn.metrics import adjusted_rand_score as ari\n",
    "from scipy.spatial.distance import pdist"
   ]
  },
  {
   "cell_type": "code",
   "execution_count": 46,
   "id": "f01b01d6",
   "metadata": {
    "execution": {
     "iopub.execute_input": "2022-11-26T11:22:38.153101Z",
     "iopub.status.busy": "2022-11-26T11:22:38.152727Z",
     "iopub.status.idle": "2022-11-26T11:22:38.696664Z",
     "shell.execute_reply": "2022-11-26T11:22:38.696330Z"
    },
    "papermill": {
     "duration": 0.562867,
     "end_time": "2022-11-26T11:22:38.697775",
     "exception": false,
     "start_time": "2022-11-26T11:22:38.134908",
     "status": "completed"
    },
    "tags": []
   },
   "outputs": [],
   "source": [
    "parts_ari = pd.Series(\n",
    "    {k: pdist(parts.loc[k], metric=ari) for k in parts.index}, name=\"k\"\n",
    ")"
   ]
  },
  {
   "cell_type": "code",
   "execution_count": 47,
   "id": "52f03a58",
   "metadata": {
    "execution": {
     "iopub.execute_input": "2022-11-26T11:22:38.733226Z",
     "iopub.status.busy": "2022-11-26T11:22:38.733004Z",
     "iopub.status.idle": "2022-11-26T11:22:38.753266Z",
     "shell.execute_reply": "2022-11-26T11:22:38.752856Z"
    },
    "papermill": {
     "duration": 0.038666,
     "end_time": "2022-11-26T11:22:38.754106",
     "exception": false,
     "start_time": "2022-11-26T11:22:38.715440",
     "status": "completed"
    },
    "tags": []
   },
   "outputs": [
    {
     "data": {
      "text/plain": [
       "60    0.022633\n",
       "51    0.019729\n",
       "22    0.014194\n",
       "59    0.013924\n",
       "57    0.013392\n",
       "50    0.013235\n",
       "44    0.012292\n",
       "52    0.012095\n",
       "30    0.011823\n",
       "39    0.011325\n",
       "53    0.011183\n",
       "56    0.011123\n",
       "33    0.010384\n",
       "45    0.010160\n",
       "2     0.009920\n",
       "Name: k, dtype: float64"
      ]
     },
     "metadata": {},
     "output_type": "display_data"
    }
   ],
   "source": [
    "parts_ari_stability = parts_ari.apply(lambda x: x.mean())\n",
    "display(parts_ari_stability.sort_values(ascending=False).head(15))"
   ]
  },
  {
   "cell_type": "code",
   "execution_count": 48,
   "id": "7207b041",
   "metadata": {
    "execution": {
     "iopub.execute_input": "2022-11-26T11:22:38.789290Z",
     "iopub.status.busy": "2022-11-26T11:22:38.789036Z",
     "iopub.status.idle": "2022-11-26T11:22:38.812451Z",
     "shell.execute_reply": "2022-11-26T11:22:38.811880Z"
    },
    "papermill": {
     "duration": 0.042131,
     "end_time": "2022-11-26T11:22:38.813520",
     "exception": false,
     "start_time": "2022-11-26T11:22:38.771389",
     "status": "completed"
    },
    "tags": []
   },
   "outputs": [],
   "source": [
    "parts_ari_df = pd.DataFrame.from_records(parts_ari.tolist()).set_index(\n",
    "    parts_ari.index.copy()\n",
    ")"
   ]
  },
  {
   "cell_type": "code",
   "execution_count": 49,
   "id": "c0a164c4",
   "metadata": {
    "execution": {
     "iopub.execute_input": "2022-11-26T11:22:38.849085Z",
     "iopub.status.busy": "2022-11-26T11:22:38.848660Z",
     "iopub.status.idle": "2022-11-26T11:22:38.871529Z",
     "shell.execute_reply": "2022-11-26T11:22:38.871003Z"
    },
    "papermill": {
     "duration": 0.041158,
     "end_time": "2022-11-26T11:22:38.872406",
     "exception": false,
     "start_time": "2022-11-26T11:22:38.831248",
     "status": "completed"
    },
    "tags": []
   },
   "outputs": [
    {
     "data": {
      "text/plain": [
       "(59, 10)"
      ]
     },
     "execution_count": 49,
     "metadata": {},
     "output_type": "execute_result"
    }
   ],
   "source": [
    "parts_ari_df.shape"
   ]
  },
  {
   "cell_type": "code",
   "execution_count": 50,
   "id": "da0f97ff",
   "metadata": {
    "execution": {
     "iopub.execute_input": "2022-11-26T11:22:38.907992Z",
     "iopub.status.busy": "2022-11-26T11:22:38.907605Z",
     "iopub.status.idle": "2022-11-26T11:22:38.930326Z",
     "shell.execute_reply": "2022-11-26T11:22:38.929760Z"
    },
    "papermill": {
     "duration": 0.041377,
     "end_time": "2022-11-26T11:22:38.931495",
     "exception": false,
     "start_time": "2022-11-26T11:22:38.890118",
     "status": "completed"
    },
    "tags": []
   },
   "outputs": [],
   "source": [
    "assert (\n",
    "    int(\n",
    "        (CLUSTERING_OPTIONS[\"N_REPS_PER_K\"] * (CLUSTERING_OPTIONS[\"N_REPS_PER_K\"] - 1))\n",
    "        / 2\n",
    "    )\n",
    "    == parts_ari_df.shape[1]\n",
    ")"
   ]
  },
  {
   "cell_type": "code",
   "execution_count": 51,
   "id": "99f5d721",
   "metadata": {
    "execution": {
     "iopub.execute_input": "2022-11-26T11:22:38.967485Z",
     "iopub.status.busy": "2022-11-26T11:22:38.967116Z",
     "iopub.status.idle": "2022-11-26T11:22:38.997738Z",
     "shell.execute_reply": "2022-11-26T11:22:38.997200Z"
    },
    "papermill": {
     "duration": 0.049475,
     "end_time": "2022-11-26T11:22:38.998624",
     "exception": false,
     "start_time": "2022-11-26T11:22:38.949149",
     "status": "completed"
    },
    "tags": []
   },
   "outputs": [
    {
     "data": {
      "text/html": [
       "<div>\n",
       "<style scoped>\n",
       "    .dataframe tbody tr th:only-of-type {\n",
       "        vertical-align: middle;\n",
       "    }\n",
       "\n",
       "    .dataframe tbody tr th {\n",
       "        vertical-align: top;\n",
       "    }\n",
       "\n",
       "    .dataframe thead th {\n",
       "        text-align: right;\n",
       "    }\n",
       "</style>\n",
       "<table border=\"1\" class=\"dataframe\">\n",
       "  <thead>\n",
       "    <tr style=\"text-align: right;\">\n",
       "      <th></th>\n",
       "      <th>0</th>\n",
       "      <th>1</th>\n",
       "      <th>2</th>\n",
       "      <th>3</th>\n",
       "      <th>4</th>\n",
       "      <th>5</th>\n",
       "      <th>6</th>\n",
       "      <th>7</th>\n",
       "      <th>8</th>\n",
       "      <th>9</th>\n",
       "    </tr>\n",
       "  </thead>\n",
       "  <tbody>\n",
       "    <tr>\n",
       "      <th>2</th>\n",
       "      <td>0.080415</td>\n",
       "      <td>-0.000943</td>\n",
       "      <td>-0.003999</td>\n",
       "      <td>0.002199</td>\n",
       "      <td>-0.003548</td>\n",
       "      <td>0.001164</td>\n",
       "      <td>0.020408</td>\n",
       "      <td>-0.002510</td>\n",
       "      <td>-0.002925</td>\n",
       "      <td>0.008942</td>\n",
       "    </tr>\n",
       "    <tr>\n",
       "      <th>3</th>\n",
       "      <td>0.001362</td>\n",
       "      <td>-0.001571</td>\n",
       "      <td>0.002491</td>\n",
       "      <td>0.000689</td>\n",
       "      <td>0.007170</td>\n",
       "      <td>0.004874</td>\n",
       "      <td>0.008164</td>\n",
       "      <td>0.005165</td>\n",
       "      <td>-0.002162</td>\n",
       "      <td>-0.000689</td>\n",
       "    </tr>\n",
       "    <tr>\n",
       "      <th>4</th>\n",
       "      <td>0.013931</td>\n",
       "      <td>0.009039</td>\n",
       "      <td>0.003912</td>\n",
       "      <td>-0.007228</td>\n",
       "      <td>-0.001883</td>\n",
       "      <td>0.002822</td>\n",
       "      <td>0.006454</td>\n",
       "      <td>0.004289</td>\n",
       "      <td>-0.006087</td>\n",
       "      <td>0.004125</td>\n",
       "    </tr>\n",
       "    <tr>\n",
       "      <th>5</th>\n",
       "      <td>0.004832</td>\n",
       "      <td>0.009729</td>\n",
       "      <td>0.008127</td>\n",
       "      <td>0.005181</td>\n",
       "      <td>-0.004017</td>\n",
       "      <td>0.003345</td>\n",
       "      <td>0.001698</td>\n",
       "      <td>0.008616</td>\n",
       "      <td>0.005894</td>\n",
       "      <td>0.004816</td>\n",
       "    </tr>\n",
       "    <tr>\n",
       "      <th>6</th>\n",
       "      <td>0.000046</td>\n",
       "      <td>0.005453</td>\n",
       "      <td>0.006675</td>\n",
       "      <td>0.003858</td>\n",
       "      <td>-0.001367</td>\n",
       "      <td>0.005015</td>\n",
       "      <td>0.002355</td>\n",
       "      <td>0.004549</td>\n",
       "      <td>0.004504</td>\n",
       "      <td>0.003165</td>\n",
       "    </tr>\n",
       "  </tbody>\n",
       "</table>\n",
       "</div>"
      ],
      "text/plain": [
       "          0         1         2         3         4         5         6  \\\n",
       "2  0.080415 -0.000943 -0.003999  0.002199 -0.003548  0.001164  0.020408   \n",
       "3  0.001362 -0.001571  0.002491  0.000689  0.007170  0.004874  0.008164   \n",
       "4  0.013931  0.009039  0.003912 -0.007228 -0.001883  0.002822  0.006454   \n",
       "5  0.004832  0.009729  0.008127  0.005181 -0.004017  0.003345  0.001698   \n",
       "6  0.000046  0.005453  0.006675  0.003858 -0.001367  0.005015  0.002355   \n",
       "\n",
       "          7         8         9  \n",
       "2 -0.002510 -0.002925  0.008942  \n",
       "3  0.005165 -0.002162 -0.000689  \n",
       "4  0.004289 -0.006087  0.004125  \n",
       "5  0.008616  0.005894  0.004816  \n",
       "6  0.004549  0.004504  0.003165  "
      ]
     },
     "execution_count": 51,
     "metadata": {},
     "output_type": "execute_result"
    }
   ],
   "source": [
    "parts_ari_df.head()"
   ]
  },
  {
   "cell_type": "markdown",
   "id": "45761c33",
   "metadata": {
    "papermill": {
     "duration": 0.017178,
     "end_time": "2022-11-26T11:22:39.033456",
     "exception": false,
     "start_time": "2022-11-26T11:22:39.016278",
     "status": "completed"
    },
    "tags": []
   },
   "source": [
    "## Save"
   ]
  },
  {
   "cell_type": "code",
   "execution_count": 52,
   "id": "13a3e1ef",
   "metadata": {
    "execution": {
     "iopub.execute_input": "2022-11-26T11:22:39.068956Z",
     "iopub.status.busy": "2022-11-26T11:22:39.068547Z",
     "iopub.status.idle": "2022-11-26T11:22:39.092217Z",
     "shell.execute_reply": "2022-11-26T11:22:39.091687Z"
    },
    "papermill": {
     "duration": 0.042601,
     "end_time": "2022-11-26T11:22:39.093111",
     "exception": false,
     "start_time": "2022-11-26T11:22:39.050510",
     "status": "completed"
    },
    "tags": []
   },
   "outputs": [
    {
     "data": {
      "text/plain": [
       "PosixPath('/opt/data/results/clustering/null_sims/shuffle_lvs/runs/z_score_std-projection-smultixcan-efo_partial-mashr-zscores/GaussianMixture-stability-COVARIANCE_TYPE_full-K_MAX_60-K_MIN_2-N_INIT_10-N_REPS_PER_K_5.pkl')"
      ]
     },
     "metadata": {},
     "output_type": "display_data"
    }
   ],
   "source": [
    "output_filename = Path(\n",
    "    RESULTS_DIR,\n",
    "    generate_result_set_name(\n",
    "        CLUSTERING_OPTIONS,\n",
    "        prefix=f\"{clustering_method_name}-stability-\",\n",
    "        suffix=\".pkl\",\n",
    "    ),\n",
    ").resolve()\n",
    "display(output_filename)"
   ]
  },
  {
   "cell_type": "code",
   "execution_count": 53,
   "id": "2aca0e7f",
   "metadata": {
    "execution": {
     "iopub.execute_input": "2022-11-26T11:22:39.128951Z",
     "iopub.status.busy": "2022-11-26T11:22:39.128656Z",
     "iopub.status.idle": "2022-11-26T11:22:39.151106Z",
     "shell.execute_reply": "2022-11-26T11:22:39.150550Z"
    },
    "papermill": {
     "duration": 0.041321,
     "end_time": "2022-11-26T11:22:39.152021",
     "exception": false,
     "start_time": "2022-11-26T11:22:39.110700",
     "status": "completed"
    },
    "tags": []
   },
   "outputs": [],
   "source": [
    "parts_ari_df.to_pickle(output_filename)"
   ]
  },
  {
   "cell_type": "markdown",
   "id": "9037a642",
   "metadata": {
    "papermill": {
     "duration": 0.016866,
     "end_time": "2022-11-26T11:22:39.186456",
     "exception": false,
     "start_time": "2022-11-26T11:22:39.169590",
     "status": "completed"
    },
    "tags": []
   },
   "source": [
    "## Stability plot"
   ]
  },
  {
   "cell_type": "code",
   "execution_count": 54,
   "id": "e2233568",
   "metadata": {
    "execution": {
     "iopub.execute_input": "2022-11-26T11:22:39.221836Z",
     "iopub.status.busy": "2022-11-26T11:22:39.221539Z",
     "iopub.status.idle": "2022-11-26T11:22:39.246229Z",
     "shell.execute_reply": "2022-11-26T11:22:39.245673Z"
    },
    "papermill": {
     "duration": 0.04353,
     "end_time": "2022-11-26T11:22:39.247297",
     "exception": false,
     "start_time": "2022-11-26T11:22:39.203767",
     "status": "completed"
    },
    "tags": []
   },
   "outputs": [],
   "source": [
    "parts_ari_df_plot = (\n",
    "    parts_ari_df.stack()\n",
    "    .reset_index()\n",
    "    .rename(columns={\"level_0\": \"k\", \"level_1\": \"idx\", 0: \"ari\"})\n",
    ")"
   ]
  },
  {
   "cell_type": "code",
   "execution_count": 55,
   "id": "cc47125c",
   "metadata": {
    "execution": {
     "iopub.execute_input": "2022-11-26T11:22:39.283047Z",
     "iopub.status.busy": "2022-11-26T11:22:39.282669Z",
     "iopub.status.idle": "2022-11-26T11:22:39.306816Z",
     "shell.execute_reply": "2022-11-26T11:22:39.306276Z"
    },
    "papermill": {
     "duration": 0.042811,
     "end_time": "2022-11-26T11:22:39.307700",
     "exception": false,
     "start_time": "2022-11-26T11:22:39.264889",
     "status": "completed"
    },
    "tags": []
   },
   "outputs": [
    {
     "data": {
      "text/plain": [
       "k        int64\n",
       "idx      int64\n",
       "ari    float64\n",
       "dtype: object"
      ]
     },
     "execution_count": 55,
     "metadata": {},
     "output_type": "execute_result"
    }
   ],
   "source": [
    "parts_ari_df_plot.dtypes"
   ]
  },
  {
   "cell_type": "code",
   "execution_count": 56,
   "id": "f632f6a6",
   "metadata": {
    "execution": {
     "iopub.execute_input": "2022-11-26T11:22:39.344059Z",
     "iopub.status.busy": "2022-11-26T11:22:39.343674Z",
     "iopub.status.idle": "2022-11-26T11:22:39.369695Z",
     "shell.execute_reply": "2022-11-26T11:22:39.369175Z"
    },
    "papermill": {
     "duration": 0.045128,
     "end_time": "2022-11-26T11:22:39.370574",
     "exception": false,
     "start_time": "2022-11-26T11:22:39.325446",
     "status": "completed"
    },
    "tags": []
   },
   "outputs": [
    {
     "data": {
      "text/html": [
       "<div>\n",
       "<style scoped>\n",
       "    .dataframe tbody tr th:only-of-type {\n",
       "        vertical-align: middle;\n",
       "    }\n",
       "\n",
       "    .dataframe tbody tr th {\n",
       "        vertical-align: top;\n",
       "    }\n",
       "\n",
       "    .dataframe thead th {\n",
       "        text-align: right;\n",
       "    }\n",
       "</style>\n",
       "<table border=\"1\" class=\"dataframe\">\n",
       "  <thead>\n",
       "    <tr style=\"text-align: right;\">\n",
       "      <th></th>\n",
       "      <th>k</th>\n",
       "      <th>idx</th>\n",
       "      <th>ari</th>\n",
       "    </tr>\n",
       "  </thead>\n",
       "  <tbody>\n",
       "    <tr>\n",
       "      <th>0</th>\n",
       "      <td>2</td>\n",
       "      <td>0</td>\n",
       "      <td>0.080415</td>\n",
       "    </tr>\n",
       "    <tr>\n",
       "      <th>1</th>\n",
       "      <td>2</td>\n",
       "      <td>1</td>\n",
       "      <td>-0.000943</td>\n",
       "    </tr>\n",
       "    <tr>\n",
       "      <th>2</th>\n",
       "      <td>2</td>\n",
       "      <td>2</td>\n",
       "      <td>-0.003999</td>\n",
       "    </tr>\n",
       "    <tr>\n",
       "      <th>3</th>\n",
       "      <td>2</td>\n",
       "      <td>3</td>\n",
       "      <td>0.002199</td>\n",
       "    </tr>\n",
       "    <tr>\n",
       "      <th>4</th>\n",
       "      <td>2</td>\n",
       "      <td>4</td>\n",
       "      <td>-0.003548</td>\n",
       "    </tr>\n",
       "  </tbody>\n",
       "</table>\n",
       "</div>"
      ],
      "text/plain": [
       "   k  idx       ari\n",
       "0  2    0  0.080415\n",
       "1  2    1 -0.000943\n",
       "2  2    2 -0.003999\n",
       "3  2    3  0.002199\n",
       "4  2    4 -0.003548"
      ]
     },
     "execution_count": 56,
     "metadata": {},
     "output_type": "execute_result"
    }
   ],
   "source": [
    "parts_ari_df_plot.head()"
   ]
  },
  {
   "cell_type": "code",
   "execution_count": 57,
   "id": "75660a85",
   "metadata": {
    "execution": {
     "iopub.execute_input": "2022-11-26T11:22:39.406995Z",
     "iopub.status.busy": "2022-11-26T11:22:39.406560Z",
     "iopub.status.idle": "2022-11-26T11:22:41.360139Z",
     "shell.execute_reply": "2022-11-26T11:22:41.359841Z"
    },
    "papermill": {
     "duration": 1.9742,
     "end_time": "2022-11-26T11:22:41.362312",
     "exception": false,
     "start_time": "2022-11-26T11:22:39.388112",
     "status": "completed"
    },
    "tags": []
   },
   "outputs": [
    {
     "data": {
      "image/png": "[encoded data removed]",
      "text/plain": [
       "<Figure size 1008x432 with 1 Axes>"
      ]
     },
     "metadata": {},
     "output_type": "display_data"
    }
   ],
   "source": [
    "# with sns.axes_style('whitegrid', {'grid.linestyle': '--'}):\n",
    "with sns.plotting_context(\"talk\", font_scale=0.75), sns.axes_style(\n",
    "    \"whitegrid\", {\"grid.linestyle\": \"--\"}\n",
    "):\n",
    "    fig = plt.figure(figsize=(14, 6))\n",
    "    ax = sns.pointplot(data=parts_ari_df_plot, x=\"k\", y=\"ari\")\n",
    "    ax.set_ylabel(\"Averange ARI\")\n",
    "    ax.set_xlabel(\"Number of clusters ($k$)\")\n",
    "    ax.set_xticklabels(ax.get_xticklabels(), rotation=45)\n",
    "    #     ax.set_ylim(0.0, 1.0)\n",
    "    #     ax.set_xlim(CLUSTERING_OPTIONS['K_MIN'], CLUSTERING_OPTIONS['K_MAX'])\n",
    "    plt.grid(True)\n",
    "    plt.tight_layout()"
   ]
  },
  {
   "cell_type": "code",
   "execution_count": null,
   "id": "e43f0e92",
   "metadata": {
    "papermill": {
     "duration": 0.035735,
     "end_time": "2022-11-26T11:22:41.434174",
     "exception": false,
     "start_time": "2022-11-26T11:22:41.398439",
     "status": "completed"
    },
    "tags": []
   },
   "outputs": [],
   "source": []
  }
 ],
 "metadata": {
  "jupytext": {
   "cell_metadata_filter": "all,-execution,-papermill,-trusted",
   "formats": "ipynb,py//py:percent"
  },
  "kernelspec": {
   "display_name": "Python 3 (ipykernel)",
   "language": "python",
   "name": "python3"
  },
  "language_info": {
   "codemirror_mode": {
    "name": "ipython",
    "version": 3
   },
   "file_extension": ".py",
   "mimetype": "text/x-python",
   "name": "python",
   "nbconvert_exporter": "python",
   "pygments_lexer": "ipython3",
   "version": "3.8.13"
  },
  "papermill": {
   "default_parameters": {},
   "duration": 21110.79104,
   "end_time": "2022-11-26T11:22:41.779403",
   "environment_variables": {},
   "exception": null,
   "input_path": "nbs/13.1_cluster_analysis_null/05-shuffle_lvs/14_00-gmm-z_score_std.ipynb",
   "output_path": "nbs/13.1_cluster_analysis_null/05-shuffle_lvs/14_00-gmm-z_score_std.run.ipynb",
   "parameters": {},
   "start_time": "2022-11-26T05:30:50.988363",
   "version": "2.2.2"
  },
  "toc-autonumbering": true,
  "toc-showcode": false,
  "toc-showmarkdowntxt": false,
  "toc-showtags": false
 },
 "nbformat": 4,
 "nbformat_minor": 5
}
